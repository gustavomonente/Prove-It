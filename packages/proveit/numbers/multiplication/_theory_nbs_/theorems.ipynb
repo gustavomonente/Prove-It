{
 "cells": [
  {
   "cell_type": "markdown",
   "metadata": {},
   "source": [
    "Theorems (or conjectures) for the theory of <a class=\"ProveItLink\" href=\"theory.ipynb\">proveit.numbers.multiplication</a>\n",
    "========"
   ]
  },
  {
   "cell_type": "code",
   "execution_count": 1,
   "metadata": {},
   "outputs": [],
   "source": [
    "import proveit\n",
    "## 72 spaces ===========================================================\n",
    "\n",
    "# Prepare this notebook for defining the theorems of a theory:\n",
    "%theorems_notebook # Keep this at the top following 'import proveit'.\n",
    "theory = proveit.Theory('.') # adds theory root to sys.path if necessary\n",
    "from proveit import ExprRange, IndexedVar\n",
    "\n",
    "from proveit import a, b, c, d, i, j, k, n, x, y, P, Q, S\n",
    "from proveit.core_expr_types import (\n",
    "    a_1_to_i, a_1_to_n, b_1_to_j, c_1_to_j, c_1_to_k, d_1_to_k)\n",
    "\n",
    "from proveit.logic import Forall, Set, InSet, Equals, NotEquals, Implies, Boolean\n",
    "from proveit.numbers import (Natural, NaturalPos, Integer, Real, \n",
    "                            RealNonNeg, RealPos, Complex)\n",
    "from proveit.numbers import (Mult, Neg, Add, subtract, Sum, num, zero, one, two, Exp,\n",
    "                            Less, LessEq, greater, greater_eq)\n",
    "from proveit.numbers import ComplexSansZero\n",
    "from proveit._core_.expression.operation import Function"
   ]
  },
  {
   "cell_type": "code",
   "execution_count": 2,
   "metadata": {},
   "outputs": [
    {
     "name": "stdout",
     "output_type": "stream",
     "text": [
      "Defining theorems for theory 'proveit.numbers.multiplication'\n",
      "Subsequent end-of-cell assignments will define theorems\n",
      "'%end theorems' will finalize the definitions\n"
     ]
    }
   ],
   "source": [
    "%begin theorems"
   ]
  },
  {
   "cell_type": "code",
   "execution_count": 3,
   "metadata": {},
   "outputs": [
    {
     "data": {
      "text/html": [
       "<strong id=\"mult_def_rev\"><a class=\"ProveItLink\" href=\"proofs/mult_def_rev/thm_proof.ipynb\">mult_def_rev</a> (conjecture without proof):<br></strong> <a class=\"ProveItLink\" href=\"../__pv_it/theorems/6f324005378d9a2b869ecc5d45c084c9eb0132500/theorem_expr.ipynb\"><img src=\"data:image/png;base64,iVBORw0KGgoAAAANSUhEUgAAAcsAAAAZBAMAAACsrRjkAAAAMFBMVEX///8QEBCIiIhmZma6urrM\n",
       "zMxUVFQiIiJERETc3Nzu7u6qqqp2dnaYmJgyMjIAAAAcRTyBAAAAAXRSTlMAQObYZgAABRBJREFU\n",
       "WMPtWG9oHFUQn8vd5u72di9+UDAtyrXRWLDi0SIKJnghaL4oXiLaCIEch0UqJRxVE61SQz/IxVpc\n",
       "W2lDtXQTIZX4547KUSO1Hon9Umk5MKCtVg60iqJnwBY0SnHmvd29/Xdx16tIwIHZP2/f/HZ+++bN\n",
       "m30A/qR17FlYbdI3VvZrEoZVKNHM/zT/JZqH6b2VJgDmGoA6JKZwJZpVarjgh6ZPC5uI43h4q5nv\n",
       "1Kq4gzplm6ZI81O6/9EPTZ8WNomTkz80Q1OsuoM65T1NkeYkncb90PRpYZPPUOWkI74SDbq7PZh3\n",
       "BXURKcEVacZVvCz6oenTwia0HoWVpmhOuYK6jfs1XJGmfHp29qCvFOTTwpb0cng4CE3RjKfcQN3k\n",
       "W66UaX/L55/3l2n9WVilheK1g1zr2rTGD839C+tUPRaTLqD3b9vXUQeZ7nxtI94tAFOiuRVgwh9N\n",
       "7xbCGX4eMGI8QkvJXtQeJb4EMOiVZqgdftHbZJaDztZIvtFBy/mE+LsRrWV5Rxh7fQ1MiWavNXUJ\n",
       "T34C66zLaezlx7Nmmr1uyc5VXtUHYLthT4SfQ0dugOA4PHSnV5pTFbjLaLPHKIIKxV0QvUw39EpJ\n",
       "lZZDmACOA1OiGYYWY7F+e6EbPpDUoGp8lhObK+KgKvxkpmm2aCgEBSf1O+MiQPPqWoDgMoSRQR8L\n",
       "wlrt+xtrNWepYnpwjwo7jJFYsvVDUFG8BDK1i1foABG2FAxzJZpSxahs5D2HVPgokZQMgC/mZkF+\n",
       "A+CEmabJoqEwqBVoBsahkNZoehnN60G8vBJNiC1BK4uxUdbUlrDRjFYfQa+6BzooGlFKpX2M5vwd\n",
       "nekQTfZ7S9jJTJNZwJudF50ZfNNIml/1GuwIp05TD9pCGT4G7zTFP4kH9xJCufrc/E4HDVahrWJE\n",
       "IQwzP/q4spp24jGk2VMJKLyMK0nvDlH2UkfCqTg1nD9nr2nJQnxaWAZ4wurU0fSw9qaqTpPh1Gnq\n",
       "KahQhBGsNz3T/APHao57qaUgkxBoAL+bqv9wxdTb8cWWFATv48c5dAu0qSJL1CUoUx4W4GccMWr4\n",
       "cM5OkyyCSSEHQ2us79sMW7RhTeqZh+HAlGJeDBA/kpBHJedoFqr67LpifbAbPs+UmZf4avvvI4Ee\n",
       "ScFZWQsleLD4Cqvmu7gymiyMs9ADwjP5/G6keZhPPUzPW/L5fOL1h+00ySJQbEHjndb3rYVObfow\n",
       "qMGkhgOCvtCygENyYvbmAzc5aYYz+uwatT6YWf9oNsW8xPIgbaNJoIh04Eu9YWb9dDeFzUWujKZM\n",
       "cXYddAmQ4aMZGuATXYBWughOU+oy0ySLghI5r9po4sK1d1a++wJ+7YyxjhBOfTRtxZ7nFMSFeQlH\n",
       "PRd7Oa7G/2Z0CZ4qwSm6XAT4CibVI1JVAinN6pV0vVo2cmxAGX6AjeakGn2JHfDULlyqxDYAIp/S\n",
       "5ybDqc9NW+l+XHdIbfQ7Yn7AvfxHpbs27BnYWIEIZqzQrhQOYn9xZnH+NMAeevhO7cW0g2Yoe6yb\n",
       "0ewvCu3Qrwjtwlq479aOCmwVcM2KFDWaHKdOM0IjqRdR+1/I+qkUuZcutUnkb3/ELLIBJxQXrTpr\n",
       "wbm50u7BznpXDDB+yrUs6lDOdfMq/FZHPP9WT2jacJMkpnjaJBn4tWjqyjOymImdcbA7eRU3Sc55\n",
       "3SSRFa6Nacre94LqXZ2+G5ln+2rb8vK1Txu9jZ+Hiv8ly76xzF+Ad4BrFsIw0wAAAABJRU5ErkJg\n",
       "gg==\n",
       "\" style=\"display:inline;vertical-align:middle;\" /></a><br>"
      ],
      "text/plain": [
       "mult_def_rev: forall_{n in Natural, x in Complex} [forall_{a_{1}, ..a_{_a}.., a_{n} in {x}} ((a_{1} + ..a_{_a}.. + a_{n}) = (n * x))]"
      ]
     },
     "execution_count": 3,
     "metadata": {},
     "output_type": "execute_result"
    }
   ],
   "source": [
    "mult_def_rev = \\\n",
    "    Forall((n, x), Forall(a_1_to_n, \n",
    "                          Equals(Add(a_1_to_n), Mult(n, x)),\n",
    "                          domain=Set(x)),\n",
    "           domains=(Natural, Complex))"
   ]
  },
  {
   "cell_type": "code",
   "execution_count": 4,
   "metadata": {},
   "outputs": [
    {
     "data": {
      "text/html": [
       "<strong id=\"repeated_addition_to_mult\"><a class=\"ProveItLink\" href=\"proofs/repeated_addition_to_mult/thm_proof.ipynb\">repeated_addition_to_mult</a> (conjecture without proof):<br></strong> <a class=\"ProveItLink\" href=\"../__pv_it/theorems/f997c1366b0e12da17e80c004717efe36ba196510/theorem_expr.ipynb\"><img src=\"data:image/png;base64,iVBORw0KGgoAAAANSUhEUgAAAYMAAAAVBAMAAABWAp/LAAAAMFBMVEX///8QEBCIiIhmZma6urrM\n",
       "zMxUVFQiIiJERETc3Nzu7u6qqqp2dnaYmJgyMjIAAAAcRTyBAAAAAXRSTlMAQObYZgAABItJREFU\n",
       "SMfVV21oW1UYftLe2yT33qQy3Q9F5NrC1BnwsqE/pJnpRKYwXBz4ASoJnSIFM6PzhxMpYz8kpYJh\n",
       "Dp3V0WOFVupHwyTMlkpDpvtRsQvr/Jg2GlE7FRfC2mldGfOce07SND1db1uG+JIHzrk5yXOe9+Oc\n",
       "9wIrtMMCV8z0pJx0sQ0JFNgk75hA28dxBa1dSiqxhiTHF2zyh+P/9yc5Vm/Kcgs+kpLK3FngOETH\n",
       "XudunRCoCry5MgnvLn50ZMHMMGWkMsty+An9UcrxBvYKrF7CxHIStKtkpDJ7h8M3NjDwhmN+b5xj\n",
       "9RL06eUk4BcJqTyrQxyzicRLjjdQZ3FoTe1bszIJ29sPNNsP7l838jtem2xXfvqyJUa3ETyexJGA\n",
       "iYm/N6fUW08WZBJ6NxykK3BMQqocf7Np03ygOL1hcTwJdDqW4MlxfIBvzA6ZhEzC1P6xR1cPX1Re\n",
       "RCtxXYN+C9uIcp2+F3cAe4D3gLhEgpbxPeem2n6wK6JomyVIDc9+DFaqWtD7Chx321VdMXXPZ7gx\n",
       "ujD2rzzVJobuFMcYTpD7JBLUVAe85+3hGcCVgcv0R6HP4Hpgnb4eOwiT0EpgSiQYxLig0G0erfEb\n",
       "I3yUausJM53siaDX4xxu1OXKi98/FsQnBqknlYiNbM5pjxD1TzF3hTgIEhC+OnNDsViRrGkz8JXs\n",
       "4RQQCea/zvktaNPqdD4fgxq4K8kkuGdvmd/geLH4bLE4Ze/OYx+NkRoJNuFgCD+yySDzt6BXSxxG\n",
       "zl1e6+vqJvjUtIzKr78dGoDvbWCkRgJwTl7OegkNPKg/A6PspKMSMKvPsS3+lozYErTxS5a0nBvN\n",
       "pSRgFNhth4S761y1BG/hIbr54M5mllPU0ukDtoTs7RvCCmO6J00X1SQS1PNyCfUFNObsINLARUwu\n",
       "gUaBUXriiHRTCWY3fDNSCRGWKthWVQtRQYotwEVtPmFteiXOgc4nqITWnCvJm4208eFj7Bggu90h\n",
       "P3vw3enF5TxcV8JGmQSa/qMkIyTQ/NVELdDi622k3x0MT8HaCsQkEnRyG6UV5VxzhtBi0i9UskPQ\n",
       "l8sZH1Md3TehkWh2dNPIsFNNxVlxkw4PVd2c/BhT5jwlb26hBJqk9NMTwrjP9iVNGHUO9cR/Lfoz\n",
       "iKRwp2sfTjxOtsCi5dwp1ldL2JF61W7oWmokMFLvDIzCV+UeRdDXZzh4ArahFeoLicR+KuEwLw56\n",
       "Nj6cSCTMtx6sanB46LS2jc35mkSiSUo/NAle/55N773UBfRtGoM/1kTDrO0KEO+uQO9ZNDyd3H5y\n",
       "MiTWV0voa+oNMr/8WttVcVJvrNxElOn9YQ74WOquR4uKKI+CspPXiooGO717xVG2ugbDby1729Q0\n",
       "GHGnDUa/AL/DS3g+jc/Z8BQwiUOkxygYMJhEb0sY2aXbPI2sWcLA2to8EasoAjl4aKSUjhB1/gOp\n",
       "vlPZMaDLvguLL4crpZXkcG7u6Aq78cXNtufyzfYCu5nWAjeRdnW0Ftb2yqM889cKXy86nb7yXN6d\n",
       "evI/e/H0OX7xPC2wxP/g/2P/AgI3dvPKiH+XAAAAAElFTkSuQmCC\n",
       "\" style=\"display:inline;vertical-align:middle;\" /></a><br>"
      ],
      "text/plain": [
       "repeated_addition_to_mult: forall_{n in Natural, x in Complex} ((x + ..n repeats.. + x) = (n * x))"
      ]
     },
     "execution_count": 4,
     "metadata": {},
     "output_type": "execute_result"
    }
   ],
   "source": [
    "repeated_addition_to_mult = Forall((n, x), Equals(Add(ExprRange(k, x, one, n)), \n",
    "                                                  Mult(n, x)),\n",
    "                                   domains=(Natural, Complex))"
   ]
  },
  {
   "cell_type": "code",
   "execution_count": 5,
   "metadata": {},
   "outputs": [
    {
     "data": {
      "text/html": [
       "<strong id=\"mult_nat_closure_bin\"><a class=\"ProveItLink\" href=\"proofs/mult_nat_closure_bin/thm_proof.ipynb\">mult_nat_closure_bin</a> (conjecture without proof):<br></strong> <a class=\"ProveItLink\" href=\"../__pv_it/theorems/d155a0f4d433925c70934fbc40cf561fc90465780/theorem_expr.ipynb\"><img src=\"data:image/png;base64,iVBORw0KGgoAAAANSUhEUgAAAKsAAAAVBAMAAADLBgMvAAAAMFBMVEX///8QEBCIiIhmZma6urrM\n",
       "zMxUVFQiIiJERETc3Nzu7u6qqqp2dnaYmJgyMjIAAAAcRTyBAAAAAXRSTlMAQObYZgAAAq5JREFU\n",
       "OMutlU1o02AYx58mTT/y0XoQD4IQpu7gqcybToyIeFHWXTpFwTI2ZCDSiyuohwqCrTLJyfUYGaj0\n",
       "YIOeBoJxE8SKEARhCkIOKjhhbJ5mD+LzfjRNQpsh+MCTvPkl/ef5yluAnS3rMo/a8pDnCffI4kus\n",
       "7BPuAZNvVQBSZhg+3b5vwastg/B3BKzHyv7gHrRcAbW9CFyQyiBvUt4kWdbiVLUC85DlbTysRODl\n",
       "4gjALspzFoBqx8mmTeYhm8CfwUN+sVat0sBn7qaKUKFc67Rai7E1WOQesje0EgZdnzvE4VxJXiey\n",
       "hG/X6zdjZfdzz46P7fXh95GjmCUtjex3Zk7RS0SW8FmARo8nNwbILnA/YeY2/Un4Y7VN0Gjq/YGY\n",
       "g9eajrKEnwx2dJWfp8YNYQ9f32Au7wORtpZUVelCXgelQq4z0JdNWbPICE+D0B/1nySSF4ddpdaB\n",
       "I5ztZi52Ia3TQPEgetB2QKLRT26geUxWLudwEghX3XQ/4d+kr8stUD6I4IRlEzVoF8n1PBvbCZvL\n",
       "NgPRwkWJy2a9EpKl0W94lH6NWknSB+XCed0JFwGje9kfWxeOW5CkRUgEZTUbC0V5YwYzuyZ1cSlc\n",
       "Fwo58oBS7Hx0wi1r23BV6XUnb2CpectEvSeL3Ye3Nc6fo7ZYkMgbMrrmLTFZVS0E2rhK782rPYGU\n",
       "m8HbouOn43cGq844thQStlAm+Rhieaper+tKMetW+MOnmcvTBx8c8Ads7D2pMK01PLptsfHZqrGN\n",
       "gnINYdvMfMZT3krYKRYtnNLjPl5qj/n5zJ2qN4hDwrx0FppW2loDlb7KAM2J22qorQz5Ln2enH52\n",
       "DCZt6Qpq3SNJfwUo9242IPAhBjddb7BqlLONTMDa7rSNU8uYg2UjXDH/7U/n05AaRLgG/83+Alzs\n",
       "u/GZ0hR7AAAAAElFTkSuQmCC\n",
       "\" style=\"display:inline;vertical-align:middle;\" /></a><br>"
      ],
      "text/plain": [
       "mult_nat_closure_bin: forall_{a, b in Natural} ((a * b) in Natural)"
      ]
     },
     "execution_count": 5,
     "metadata": {},
     "output_type": "execute_result"
    }
   ],
   "source": [
    "mult_nat_closure_bin = Forall((a, b), InSet(Mult(a, b), Natural), domain=Natural)"
   ]
  },
  {
   "cell_type": "code",
   "execution_count": 6,
   "metadata": {},
   "outputs": [
    {
     "data": {
      "text/html": [
       "<strong id=\"mult_nat_closure\"><a class=\"ProveItLink\" href=\"proofs/mult_nat_closure/thm_proof.ipynb\">mult_nat_closure</a> (conjecture without proof):<br></strong> <a class=\"ProveItLink\" href=\"../__pv_it/theorems/9069bf525940a7f1536a328654699eae2df4808f0/theorem_expr.ipynb\"><img src=\"data:image/png;base64,iVBORw0KGgoAAAANSUhEUgAAAVQAAAAVBAMAAADrzwv7AAAAMFBMVEX///8QEBCIiIhmZma6urrM\n",
       "zMxUVFQiIiJERETc3Nzu7u6qqqp2dnaYmJgyMjIAAAAcRTyBAAAAAXRSTlMAQObYZgAABDtJREFU\n",
       "SMe9l11oHFUUx//7MfsxO5v4UKVRxKmxVaq1oX1QNNENovFBYVPBWBSyLPZBH0qwaSIo7VKETiyF\n",
       "wWK7FJQphVRX7C6RpQZaOrr1JUUYqtJaY1nBPpiHNoiFWkU8996Z2ZnsTrcjxQPnzp27s3t+e+75\n",
       "uAPcRKJX8vhPkraEhpT5gPWMDlyaRJPNf+78iJLrYZdsaKOf2BpSErr/Xr6qLUG5bxXeoJszOMvW\n",
       "loJQlRpdeoywNn+zNaTIzRULKetloAoc56hltl+lIFT+STmsyeyA0NDy9Uo374yqiBCIylCZy7jv\n",
       "OqJyf58NazGpCw0tR+zrhelp7uDE88Y2JMnddzDU7EKlcgiBqIuVyqcTYS0esjW09OT45ZX1jlc/\n",
       "LBw3CBW/MlRc17R3g1F7NW2vGdZiv63pwU13d3/6QGONkwwKjxp5qZVnc1KBoTY46jZgJhg1kUcq\n",
       "9Fbut3VY71kmH9384XgfrrpB3vQXgoSu5M4x1Esc9Rl/4kk7zmBNwUWND/D06y5jg7noXfb8HaHy\n",
       "vYiV8NJjIrs7fIc784iFx90CymMt5a1ebybGaHKCoyYRdevmZ40hfKkYMcNFxQQ2dC8yJzdbmdIC\n",
       "nrDvVwmN3UCSUneEr1Wb7V/7h41PG3jL9dMyG0evkDj+ncUvNBnnqIqVdP2/77CBU+qA0goAfIvu\n",
       "WXVhvoLMuRhMP2qkhGreQU0W2r83xYbVkK/5Ucter0rmqIuablKZzQ5t6WexQFKvf+BF/VgiG/Km\n",
       "7e0t9ui6y3a0sWTIvLpVNf0BUDVxGg5q4I78jcyybR9x7paIr339lBK/QaiYeZ1Qh62ILppsXfn8\n",
       "NQ9q6iANx/LjBhL+piXvlG7YJYaHWX7hB9OfVtUatlP77oL6FxLNeWHfTquY6qKSg5Sym1b4gv7K\n",
       "4QfRa8i8VNRhNjyoGZYVmzEG6Ss/amxAskPjqEBVFKdBNYSm1OyU4vMqj04WtSJMuezB+YLJ7dNv\n",
       "mu6uCCew3vQU6aBA7WV/oohhSG9r2h5C/SjpQcXvpPdgHUWbHzVSi9rhN6ZpmprJpy0nqkeEysW1\n",
       "Bx/wB8CUE7VT7tLs/VuLOW6f0ESYzb4nTEm7V0McAC4L1CxbvxODEgrCq/EtXtSLZPNP7K+sRK3q\n",
       "qYvGd6cWaZuEV/Gs2rGxjtxKreP2ccy+e2HvtK9gyBMClR8wlzFZxzds+j2w6EVl0if9YTHUspF+\n",
       "3xki+viLmCvRDijMF9kcsmbH48qJWzngcvttxxW3F6kt1HgBj1hIUWjEd+WEm7yozz3cz1FHa1If\n",
       "RnU21OLFuSGKe9aL9jHfUZt269EMWi3wwO5id1RhX24GfCwOgT55iGLV31i95yUKgNYRTMyS2EDP\n",
       "RClWb8fROrCFz7Sjrnxh2eWpptLGJ/mbQ+sdgiUATlq374Xlx6DzLxl7dDLkmbnD7H+TfwGrFSVM\n",
       "yR8QKQAAAABJRU5ErkJggg==\n",
       "\" style=\"display:inline;vertical-align:middle;\" /></a><br>"
      ],
      "text/plain": [
       "mult_nat_closure: forall_{n in Natural} [forall_{a_{1}, ..a_{_a}.., a_{n} in Natural} ((a_{1} * ..a_{_a}.. * a_{n}) in Natural)]"
      ]
     },
     "execution_count": 6,
     "metadata": {},
     "output_type": "execute_result"
    }
   ],
   "source": [
    "mult_nat_closure = \\\n",
    "    Forall(n, Forall(a_1_to_n, InSet(Mult(a_1_to_n), Natural), \n",
    "                     domain=Natural), \n",
    "           domain=Natural)"
   ]
  },
  {
   "cell_type": "code",
   "execution_count": 7,
   "metadata": {},
   "outputs": [
    {
     "data": {
      "text/html": [
       "<strong id=\"mult_nat_pos_closure_bin\"><a class=\"ProveItLink\" href=\"proofs/mult_nat_pos_closure_bin/thm_proof.ipynb\">mult_nat_pos_closure_bin</a> (conjecture without proof):<br></strong> <a class=\"ProveItLink\" href=\"../__pv_it/theorems/dd7084804ccbf0459f818e73806832e381f3f1680/theorem_expr.ipynb\"><img src=\"data:image/png;base64,iVBORw0KGgoAAAANSUhEUgAAAMcAAAAbBAMAAAA614ahAAAAMFBMVEX///8QEBCIiIhmZma6urrM\n",
       "zMxUVFQiIiJERETc3Nzu7u6qqqp2dnaYmJgyMjIAAAAcRTyBAAAAAXRSTlMAQObYZgAAA0ZJREFU\n",
       "SMfNVk1oE1EQnu5fks1u2oNovdRUoScPoT0oWjUgUhHEFKSleOgSLNQ/EKWIP2iooFu8BETsRbpS\n",
       "KNJDGqogBcFAL1IRYkUs/hG19VAxLUVBWwXnvbfZP/PT9CA+eC+zszvvmzfzzbwA/F/jcNUWGk6u\n",
       "KgtRqxokgVOoyixkrAkEnlVj0UyWO3/rg8nyID50LkeEd5UxAsu4yAm38t4GXI65dfKCPg/KpnUF\n",
       "EC4C8JQI85VBlAgJmdfrTzhTHp0/2wEwBlI+35D/it4tAgwSLxOVQWrSuLzwalcIfNitk/q4MNRY\n",
       "4YKLLJ9KujLIEMn7eY9SoDGsYw/q9XOXKch+owd8Nsh2fDU1Onp7FXl/Tk582htDqphlFO836Sfd\n",
       "0lKGA6QR5w9dv1QyEba428wh3JxstMgcim/BIExSOVXQSslxUXOAHMIXPQADpUB4W9RpSjFCG2HB\n",
       "Uo7Nyz8B3lPZIpmUVKLTDpDuGMBekHNWjPMlQT4TyqPbd7MkyJgJsjw2YAngoV0UDASOS51EYlwc\n",
       "iqIlcFlrq0nzt7M1yq13gZwlDMPP9xhwhh4iR2Mo/0JXaUoa8jhMkBH4YFuOoZWS9dmKL8THRy3Z\n",
       "YGIKdigt21p2OiuCgNSD/J0WskaVwooJEnCeRMy0O3iJVoFch63ACMPMxCgEp3nIuE5yjYULPQ8u\n",
       "WsrfwCOJ26hc5wCBN37bsptEbeAoLsNNc+TMS02GQCgUPNIVdoP0ssTLKyDlJgrKbyRFZuKbLRBM\n",
       "tDJoWxJ2wX0ku9wnkrriLnCREO16samXbpBGs7X0wystU1Cegqu4tlLZV6joUNpkvKPCoBbbAh8R\n",
       "SV35w2pumIEoZEfe7Y+A34xs7opHC8rhrYQzc6wx9h5gRXml3t3QKBlVg3QmTqOZ5bVOXdfDwVgg\n",
       "izuKjt4VLdJW2O5mHxCesLbiHR8tmiX9rxGr1qhJS+wksM/d9/hMsQYJRRqk14dly89k90EYNHzG\n",
       "DCgxcrooqBn37UvY4y92QaXKNz3Vun+F+PguaE+LJ3HnG/jcNsv+BjjGiSKXFh0D5UF8Mfcz4weH\n",
       "OSnlcJHrV02WB3m76tuavI2s6Y+U90JUy3/+YE0gvAH/ZvwBoizK9/4uYLUAAAAASUVORK5CYII=\n",
       "\" style=\"display:inline;vertical-align:middle;\" /></a><br>"
      ],
      "text/plain": [
       "mult_nat_pos_closure_bin: forall_{a, b in NaturalPos} ((a * b) in NaturalPos)"
      ]
     },
     "execution_count": 7,
     "metadata": {},
     "output_type": "execute_result"
    }
   ],
   "source": [
    "mult_nat_pos_closure_bin = Forall((a, b), InSet(Mult(a, b), NaturalPos), domain=NaturalPos)"
   ]
  },
  {
   "cell_type": "code",
   "execution_count": 8,
   "metadata": {},
   "outputs": [
    {
     "data": {
      "text/html": [
       "<strong id=\"mult_nat_pos_closure\"><a class=\"ProveItLink\" href=\"proofs/mult_nat_pos_closure/thm_proof.ipynb\">mult_nat_pos_closure</a> (conjecture without proof):<br></strong> <a class=\"ProveItLink\" href=\"../__pv_it/theorems/5a760ba3ebcc6276ba8fb50f34f4df48ecdfe2490/theorem_expr.ipynb\"><img src=\"data:image/png;base64,iVBORw0KGgoAAAANSUhEUgAAAXQAAAAbBAMAAACemGlbAAAAMFBMVEX///8QEBCIiIhmZma6urrM\n",
       "zMxUVFQiIiJERETc3Nzu7u6qqqp2dnaYmJgyMjIAAAAcRTyBAAAAAXRSTlMAQObYZgAABH1JREFU\n",
       "WMPdmGtoFFcUgM8mO7O7s7OJPxSMoXXT1Ac+MCQ/FJ8bCtofQhMtPkBwCQakBQmm7tYHGkR0VYSl\n",
       "YlyE1vFPtFuaDbVL6w9xNfZPRRhFfLXCiiAYMIaiUNMinvuYmTv73okR2gv3zp07c+d+59xzzz13\n",
       "AP6nSY7untgHPn/XRGHMQczu6L7SL3omOJAUftfofZhX01r/5KLXaZOBrurvAb0Vs0+vutul0uiw\n",
       "h6FnyeVRUfQ6cgnozsh941hccLDE4vZ75UVsBNSZUw30ZoZ+g1xGiqKrQxOYd7UFi2fV91OyOQ1e\n",
       "fQNACuTR0Q9HnwOcZegJop2+ouj0UcKhvbhQ7kCLg47XcqdhV00QXKbBeIYoOtEoVW0RWycTcsMh\n",
       "+ln8tifuoOM5fr0fjdIJkD/VutnCo+i1fRQ98HsyebrEMv0zmfy+xyH6LcynHXmmEL1smmdo/VR4\n",
       "ULPQa6YwD/N3LLavBHp9LHYkU82wwssr+ZLyLW+dUb7jyeEmTVwkoIxY6/YnKWyhu8cZejfA0RLo\n",
       "cgd4q5pzwbZjmE9gbo/XjaEOS/dzN8ALox7I2h2NHFdDty106RVD/8S+oKXe69AUttDdLTAIDtGf\n",
       "Yt6L2vuAWOf6xcx7FOhClX1OhyVGg5+aqFf0ll/IG0mNSuN7ydA9UGO67R+GV8CvqlarCVtSDyys\n",
       "bNPnMgvovZjRGdeOgwfjjjW0LZXN94VvSLlKg53mt8ZI2TmKydD/ADy2OnB0VTf3zMDxMxpcDrao\n",
       "4m56EypYpabMw229baa/esLQXX2Q6jDQPQXCmggppoPyyo6eELUuZTqtrY6j+7Lo7gMr1jUT28GU\n",
       "Tn9jQ/+ughhKlFnQ+mFmMKkMXAEDveg29C/4xzgHuKm2XLbt9Q/LfqTXPIY5ug3HbtddcRYUpNUf\n",
       "t4jo3n70VErrjo780cxGUWYBfTtbpqkh2OGPl0P/B+TsJcbBl2lt0ETHcVRrEgwPAxdRxDNzoF5T\n",
       "6KhpyAyL6H6yvM53bNVAzokHaCNNoswCehNm/JY3GIioNq1T6yZWz8ycpoNwL5yhHAjNPOxe088P\n",
       "cVfLJ5n7dagnwnVBO0hfx2IHEf1bjy1y/AtzG2wE6WoOOmlkJKLMAvpnGgVWumb1f2w3mIhh9RGz\n",
       "aeCjzV0hyoGobDYHDrERpQPTsbQcHd9NUQbyfBosl+gRBAnc62zoDzE3wmy8y0GnjfTTosyCYblC\n",
       "YiCwphI/RTngPL9beySaLbTZBoV43TcGX6XhN1K9g5t/bryuvIYTyVx02hhY9igD+TJz7WTE8OuX\n",
       "SsJkypEXfuWklCagu8OwQAcvmpR7fwjkvKNGg/RSJ+i+Y5DQjII0+ucS35knM58NYpPGVn3yQFd5\n",
       "dMahZEu/dbfAKWkuznvBU9Lq+c0UXWqEzrjUQIpG1tgtoeHlyczTl86OGuUij11VH/CIwfjNO17r\n",
       "qblTQGaeBp0d8B6U2UUy1aJLi5aJx0ZWU8L+m8X7+52cM8qmREV/BPL+w+gFaiXSz5OBvpT+h4n8\n",
       "h/9vvQVzKjYXCUtkFQAAAABJRU5ErkJggg==\n",
       "\" style=\"display:inline;vertical-align:middle;\" /></a><br>"
      ],
      "text/plain": [
       "mult_nat_pos_closure: forall_{n in Natural} [forall_{a_{1}, ..a_{_a}.., a_{n} in NaturalPos} ((a_{1} * ..a_{_a}.. * a_{n}) in NaturalPos)]"
      ]
     },
     "execution_count": 8,
     "metadata": {},
     "output_type": "execute_result"
    }
   ],
   "source": [
    "mult_nat_pos_closure = \\\n",
    "    Forall(n, Forall(a_1_to_n, \n",
    "                     InSet(Mult(a_1_to_n), NaturalPos), \n",
    "                     domain=NaturalPos), \n",
    "           domain=Natural)"
   ]
  },
  {
   "cell_type": "code",
   "execution_count": 9,
   "metadata": {},
   "outputs": [
    {
     "data": {
      "text/html": [
       "<strong id=\"mult_int_closure_bin\"><a class=\"ProveItLink\" href=\"proofs/mult_int_closure_bin/thm_proof.ipynb\">mult_int_closure_bin</a> (conjecture without proof):<br></strong> <a class=\"ProveItLink\" href=\"../__pv_it/theorems/59877ed682ea74029aaca7af318d111cc9af43660/theorem_expr.ipynb\"><img src=\"data:image/png;base64,iVBORw0KGgoAAAANSUhEUgAAAKkAAAAVBAMAAADP89MSAAAAMFBMVEX///8QEBCIiIhmZma6urrM\n",
       "zMxUVFQiIiJERETc3Nzu7u6qqqp2dnaYmJgyMjIAAAAcRTyBAAAAAXRSTlMAQObYZgAAAslJREFU\n",
       "OMutVU1oE0EUftlsks1mk/ZmPFijQvHgYVUEEX8CPRQEoSIoHqRLULGgUASRFimxPbiplwVBiyJs\n",
       "G6glh3RRRAKCofGg1cOioFFQttgiVKi1KKhR8M3M7jabJtuLD77MzMubb97fzAKsL3dtNEhMa25e\n",
       "Qlhk8sGPVMwy1MvUBvzpazDs3twxN7QJwnjaC7Je9GNNaAwe+YQoNui274EEZEFER8dwGc36sb62\n",
       "4ZEaQkp5dfvRRykNMINe6Pi34cc6YKNe+N8kNe1sEb92eYiM+yCqHMNxHFWzhcItP9JoP4NHJKqY\n",
       "p/PQsO6oBX2UpAz9/amqV/xYOZkBblS2uNsTmW0YX4XOi64WXsVNciRanwHIuYEtrWUVTAZ+I3x1\n",
       "ldOL4i+Aj3TeV9ctUzQjWK4uWjRbKvYYTlZGZDaNGAzjJuylW8nPEx1WAB5Rg9VSh3voCTFMTwQ4\n",
       "09V/Idse7zYjmjRhBxZIMxzS4SJ1k/hwEMQ/AL00rR1LKNS0iy9TzTJmwYyshothQbVUgBiccm6T\n",
       "w5oE8Qf1XaHtytds1rq2tASk0ylr1DqOinznAjllpVPnWeRyGTwZQN9iy+7+vxDE3uqm83a3MYyn\n",
       "6ABWgDRI7jRGfSlEOpAb5OQE68E7Pd5qiTUIWyWH4DtJs12tXY7yZhTD2MmqBQ+QOiiHyAFCKm7l\n",
       "qcWE5HogMwzDW8XxHy7ACLtMdjBURgUdJqtIRsza8OIFDE6hOQwqJ1RVTUF5Fm7b3dbPMLn1ZCbt\n",
       "sOZ3kAovsH46d5gZJufUq9/wtAQJM47FntaE9zi06QEjTC0emvDc58YyOvvG8c/YjXXknjMJaL1H\n",
       "YEyP6FWQyEnBIMt5y9cFmrwujsy4lypz/wAcNULnMSXXcf3m7MvPilMujWGNFFu8x5Z3zdLOkbyu\n",
       "82pTyTVnbfCg1SejxRcm3sL8XYMZ/C/5B5elvJOoOjWhAAAAAElFTkSuQmCC\n",
       "\" style=\"display:inline;vertical-align:middle;\" /></a><br>"
      ],
      "text/plain": [
       "mult_int_closure_bin: forall_{a, b in Integer} ((a * b) in Integer)"
      ]
     },
     "execution_count": 9,
     "metadata": {},
     "output_type": "execute_result"
    }
   ],
   "source": [
    "mult_int_closure_bin = Forall((a, b), InSet(Mult(a, b), Integer), domain=Integer)"
   ]
  },
  {
   "cell_type": "code",
   "execution_count": 10,
   "metadata": {},
   "outputs": [
    {
     "data": {
      "text/html": [
       "<strong id=\"mult_int_closure\"><a class=\"ProveItLink\" href=\"proofs/mult_int_closure/thm_proof.ipynb\">mult_int_closure</a> (conjecture without proof):<br></strong> <a class=\"ProveItLink\" href=\"../__pv_it/theorems/854cbad77385c9dc175eac8a7d033582923ef00d0/theorem_expr.ipynb\"><img src=\"data:image/png;base64,iVBORw0KGgoAAAANSUhEUgAAAVIAAAAVBAMAAADm0Xu8AAAAMFBMVEX///8QEBCIiIhmZma6urrM\n",
       "zMxUVFQiIiJERETc3Nzu7u6qqqp2dnaYmJgyMjIAAAAcRTyBAAAAAXRSTlMAQObYZgAABBhJREFU\n",
       "SMe9l11oHFUUx//7MTu7k9lNXsREqa5Wq6DVIX3wwQQShBb8gGkF64OSJVjRB8uKsSpIXNqHTlKU\n",
       "QSGGSHVIwY8V3aWyVKHFlaygiYWBVJGShhUUwYdQxQftg3jvPXcms5uZbEeKB87du2fO7PzmnnPP\n",
       "uQtsI8kNE/9JTkqNJ312tH19Cm0+vxTuoo8V+EfejflIrUIaV57t+p5+/veN639yhb2FFW76LYpU\n",
       "r7OPghPziQWbNK582h3TYybaWbK3MM/GXCWKVFyZj/vEValxRS92fk81oddbZG+JBRMrF0oqVnsl\n",
       "7hNfkRpXtAH6zB9/aVqQOphTDLK3kF+uVt9GJOlatfpROeYDc2XS+PKzGJWjm+k2m3XIzpb2L8t6\n",
       "NZq037KON2M+L2mQIjcyfEPv9wo4LVG6boLmi5eknZEeAmaiSTMmsnH3RtYlxbhduAw8vr03OZGs\n",
       "d5eAD6mErAvSB6C1AzcqL7RwS8knTRtbdmS4ZAaXjhk0Veuk2g6kKnj0PmEMqx/cRk5SzogxsL8P\n",
       "ZWxpZ6Qqkn69/HhpFJ/rTsrxSVHG7t474eweV7X1RXlbYow0dQUq27X7hMs/Ibdxm3QimRBrddMG\n",
       "EyqoxsOenZcAV/Wz4sSCg3NFQ9+MPs6j99748Ysq+vCk15U80kQFNVOS4kjIfdwmnQKkgZpZ4Ou7\n",
       "7JHm2o8xxtEDO3kiMGk03gySvquwVNCGD2/tq6d2/SJbCUXd8HaeF/1aE1/CI40Sclr9/lbDdx3w\n",
       "L65wggFhZ6SYeYqRjrsJmzprQ//kiQBpdo4NH5gTDjKdqaa9qFzx3lwE5B2za0fV6jjMenYPUuF0\n",
       "YQeG/B017JeF0hxLjwFvR+EzFt6FO9DvaGJtGmguBUj7+IbYg4NQvuokTRmKzItTYlzU/ZJhkGaL\n",
       "+SN6x5rW2jI7a/4mFk65xTL4a4/4MaFrziy05yrCzkn7eUJPYhzKy5Z1lJGeVAOk+IPpjdjFfqCT\n",
       "NFFPyhJx0LKsIprLWJDZUCbVJm+fu62DVC3J7FRLfmiEU6aY5jGndNKeeVAWsDcGrZsHDWHnpHlO\n",
       "cB1GFJRoTdMHgqQX2a1/4/VqN2nNzl50Vs+tsQIl8Bouvg3tpvuuosYlzFTThCaDlP6Guqn/NmUi\n",
       "FRlxGVMNfM2nF4C1ICmXIeVPl5POO7lZb0jYE4/gdIWtv84TNJUS6xhyQjlzFaTvQX3I3HJCCZ5c\n",
       "PNJ0CXe7yLIESU+P0SIFSffetVOQ7q8rQ9hv86Genjw9yloY70AnmP7w9He/eiHlXc3vbG+9Ntmb\n",
       "dC+S5xHZY+jU1yF3sjzt7KYB4dHfPHTRTMVu5pPkeXoNTtIz29hb2x81pgNVVLn3/sD/Bzl7H2fd\n",
       "a/bvJG9H2++ZivlbIbP/S/4FiR4gxietuXEAAAAASUVORK5CYII=\n",
       "\" style=\"display:inline;vertical-align:middle;\" /></a><br>"
      ],
      "text/plain": [
       "mult_int_closure: forall_{n in Natural} [forall_{a_{1}, ..a_{_a}.., a_{n} in Integer} ((a_{1} * ..a_{_a}.. * a_{n}) in Integer)]"
      ]
     },
     "execution_count": 10,
     "metadata": {},
     "output_type": "execute_result"
    }
   ],
   "source": [
    "mult_int_closure = \\\n",
    "    Forall(n, Forall(a_1_to_n, InSet(Mult(a_1_to_n), Integer), \n",
    "                     domain=Integer), \n",
    "           domain=Natural)"
   ]
  },
  {
   "cell_type": "code",
   "execution_count": 11,
   "metadata": {},
   "outputs": [
    {
     "data": {
      "text/html": [
       "<strong id=\"mult_real_closure_bin\"><a class=\"ProveItLink\" href=\"proofs/mult_real_closure_bin/thm_proof.ipynb\">mult_real_closure_bin</a> (conjecture without proof):<br></strong> <a class=\"ProveItLink\" href=\"../__pv_it/theorems/aa4b0c89611e48a9cc47ecf968ddf0d7c61578ba0/theorem_expr.ipynb\"><img src=\"data:image/png;base64,iVBORw0KGgoAAAANSUhEUgAAAKsAAAAVBAMAAADLBgMvAAAAMFBMVEX///8QEBCIiIhmZma6urrM\n",
       "zMxUVFQiIiJERETc3Nzu7u6qqqp2dnaYmJgyMjIAAAAcRTyBAAAAAXRSTlMAQObYZgAAAqZJREFU\n",
       "OMutlU1oE0EUx1928rFJdpOLhyIIix9FPIX2qNZIES9K00vtQTBU60mkB21ARSIIbhRx9WBz8LAS\n",
       "qJJLFj2UgmBoD0JEWUQwFoRFqGCFKJ40B3HezGx2NyRbBB+8/fjt5r8z//dmArB9JG2e/bE65H3k\n",
       "Dl58CpV9KtIXqRsLAHEjCD+M3OuM2Jy/RrAVKvtVpD8yOart9EFnGWbbJuNVnGU5TFXN8QxE1qKH\n",
       "tT5YfgRyssh4xgRQrDDZhMEzEFP0Z/BY3LRLJUfIEsNhXG3V60uhHiyJDMQr5kSeXc8e8EZLjDLn\n",
       "v3T9WqjsHpHJQ2M7e/DL7oN0lsya1JbPhHi0yPk8QMXl0c4A2bsijxqZH71O+GM2DFDZ1L2GoLIr\n",
       "E9Qd5JP+iq6L88r+s59ddpVnahcQVlp0Nd2FrAbpBbyXvZLdL13HMiFPgOS1+jccyYtxW1KgpQm2\n",
       "gyfpQkJjA6UH4kCjCTE2+ukODVGySRk/ilyxE96Ef2NdV+tAZTfsoGykDI0C3i/ytp2yhGzV12Dk\n",
       "WFnIJp0ZelUb3cT7n6NmFOuAss2gCXR0L722teGICVFmQsTft7ffYYmQV87RmV2OdVHtipTLAJcd\n",
       "zwVL1rDgYtqtTjZPrRYlI5pPdoYUBH9OtUkuhl+QNdWpMVly/pK/jOvs2aLisrgt06+SZm867uJV\n",
       "rHnBaUkhYklFnE+eFE/puq5JyoP37svHeabm9j3c22uwsTfoMPMalm+a7lazCfp3i3OVwoYhb9BT\n",
       "1oxYcW5C+rQZtnhZPBHnE7dKziAOEePMSaiaCbMNSoF722qGbTUs1oasyx6Pzj07DNNW7ALVuoPL\n",
       "4W2zNuE+rIBvIfo3XWewaj/nG5lEvd1uG2chG4Nl+3ja+Lc/nY9DPOjjKvy3+AsZ18YH57Ui/QAA\n",
       "AABJRU5ErkJggg==\n",
       "\" style=\"display:inline;vertical-align:middle;\" /></a><br>"
      ],
      "text/plain": [
       "mult_real_closure_bin: forall_{a, b in Real} ((a * b) in Real)"
      ]
     },
     "execution_count": 11,
     "metadata": {},
     "output_type": "execute_result"
    }
   ],
   "source": [
    "mult_real_closure_bin = Forall((a, b), InSet(Mult(a, b), Real), domain=Real)"
   ]
  },
  {
   "cell_type": "code",
   "execution_count": 12,
   "metadata": {},
   "outputs": [
    {
     "data": {
      "text/html": [
       "<strong id=\"mult_real_closure\"><a class=\"ProveItLink\" href=\"proofs/mult_real_closure/thm_proof.ipynb\">mult_real_closure</a> (conjecture without proof):<br></strong> <a class=\"ProveItLink\" href=\"../__pv_it/theorems/7e892e17e96a5a16e161adca664c208dd72c14370/theorem_expr.ipynb\"><img src=\"data:image/png;base64,iVBORw0KGgoAAAANSUhEUgAAAVQAAAAVBAMAAADrzwv7AAAAMFBMVEX///8QEBCIiIhmZma6urrM\n",
       "zMxUVFQiIiJERETc3Nzu7u6qqqp2dnaYmJgyMjIAAAAcRTyBAAAAAXRSTlMAQObYZgAABDFJREFU\n",
       "SMe9l11oHFUUx//7MdnZ2dmND0qNImyNtkWtLo2ixUQThOZFYVPBtlDIsn5AX0pqYyIodSlCJymR\n",
       "pYU0FJQpgVZX6i6VpQZaHN34kqAMKFhDLGuxD7ZQg7RQWymee+/M7Ex2p9uR4oEzc+fO7JzfnnvO\n",
       "uWeA20j4Shb/SeKm0IAy5zOfKALnR1Fn419bP6L2p9gpGdjop5YGlI6i9zq5R7v12xQNdpHOY5HN\n",
       "XfJDVSt0SulBbf5haUBR6qsmUkpOmpoEvuCoM2y9Cn6o/M5MUJPJjNDA8u2qazluoDBNIGmGylzG\n",
       "fdcSlft7MajFWFFoYDlmnc+Nj9dt1M0UhMo9DDW5UCodgS/qcqn02UhQi0csDSypfn7a/pjLq5tl\n",
       "GvzOUHFd0973R+3UtANGUIvdlsZ7Nz3Q/unDtbV2Mqg8apRL7gDIbaFBjaO+CUz4o3ZkIQdeyilL\n",
       "B4qpFfLR7R+OduFPJ8jr3kJAqIm9DPw8R33Jm3jS3nmszTmo0QxPv/ZyesPrF+zxe0KVhxAp4NVn\n",
       "RXa3+A135jETzzkFlMea7EqrNeOX+ds5agxhp25+XuvDV6oe0R1UjGBj+yJzpscMq1hIW9f3Co3c\n",
       "QIymBvlcud78s1vs+KKOtx0/rbDj0BUSK63mM5NsMMxRVTPm+P/gUR1n0xm1EQD4Hu2z6txcCYS6\n",
       "ZHpRQwWUszZqLNf8uzF2uB/KNS/qjLtYPb29gRqvv0aQfVu7WSyQVKuH3KifSGRD2bS7eYudXXfR\n",
       "ijaWDAzV8AZA2cDXsFF9V+QfJFYs+4hyt4TcqPLJtHgHoWLiDUIdMENFsclW1ZM7XajyNB1OZId1\n",
       "dHg3LeUd6YZVYiBQezLetCpXsJu27zaoN9FRnxP2rbSKpF2oUu4ZJ63wJf2Vo+vRqSvcVBVGzYWa\n",
       "YFnRg22QvvGiRjKSFRqzHDXy1qh9qyZUTifHVI9XeXSyqBVhymU/fs4Z3D6903BWxd5YsUhFCL0C\n",
       "tZP9iTwGIL2rafsJ9eOYCxV/kT6IdRRtXtRQJWyF3zZN09Jh9dBP9q1BoUr+0elHvAEwZkftmDN1\n",
       "/OEd+X5un9BEmB3/UHfalaz80U3gokBNsvn70CshJ7wa3epGXSKbf2OqtBq1XJSX9B/PLlMdFAGQ\n",
       "2Km33FgH76TWcfs4YV29fGDcUzCUEYHKG8wVjFbxHRuSb5bdqEy6pKsmQ53R45P2IVQcfgWnCrQC\n",
       "albE6oLRsl05fScNLrff1K44e1G6gRrN4QkTMrUt0X39wk1u1C2Pd3PUoYrUhaEiO1Si+VN9tJmx\n",
       "WnKQAf1gzL5gv3oCjS3w8Af59qjCvlL3uS2aQI9soFj1bqzufonWt9GCiVEMG+mZMMXq3Witfbfw\n",
       "iWbU1R8s+1zVVHrqef7l0PiGYAmAM+bd+2D5xa//JWNPjgbsmVuM/jf5FxzzKe8RHA6xAAAAAElF\n",
       "TkSuQmCC\n",
       "\" style=\"display:inline;vertical-align:middle;\" /></a><br>"
      ],
      "text/plain": [
       "mult_real_closure: forall_{n in Natural} [forall_{a_{1}, ..a_{_a}.., a_{n} in Real} ((a_{1} * ..a_{_a}.. * a_{n}) in Real)]"
      ]
     },
     "execution_count": 12,
     "metadata": {},
     "output_type": "execute_result"
    }
   ],
   "source": [
    "mult_real_closure = \\\n",
    "    Forall(n, Forall(a_1_to_n, \n",
    "                     InSet(Mult(a_1_to_n), Real), \n",
    "                     domain=Real), \n",
    "           domain=Natural)"
   ]
  },
  {
   "cell_type": "code",
   "execution_count": 13,
   "metadata": {},
   "outputs": [
    {
     "data": {
      "text/html": [
       "<strong id=\"mult_real_pos_closure_bin\"><a class=\"ProveItLink\" href=\"proofs/mult_real_pos_closure_bin/thm_proof.ipynb\">mult_real_pos_closure_bin</a> (conjecture without proof):<br></strong> <a class=\"ProveItLink\" href=\"../__pv_it/theorems/a8c5f335d8594c1c01a82d368293bf52f8ca58320/theorem_expr.ipynb\"><img src=\"data:image/png;base64,iVBORw0KGgoAAAANSUhEUgAAAMcAAAAbBAMAAAA614ahAAAAMFBMVEX///8QEBCIiIhmZma6urrM\n",
       "zMxUVFQiIiJERETc3Nzu7u6qqqp2dnaYmJgyMjIAAAAcRTyBAAAAAXRSTlMAQObYZgAAAz5JREFU\n",
       "SMfNll1IFFEUgI8z+zM7O6u+WS+yFkgPPSxuUVKZEBQE0QbRDwQO9oNSQWUh/RCLQY2GsRSUL+HE\n",
       "QoSQLhWIELRgD6EUGwWJVGyWPRhtIgXlVnTOndn5a39cH6ILc/d45p75zj3n3HMF+L/GzrItZHy4\n",
       "sizcctmQKD6usswq1UVB4Gk5Fg003fxb748Vh3jRuTQJb0ozfPM4iVG78k4NTu12XeC48vtdrwnh\n",
       "QgDjJMyUhkghCpnT6/f4DDrjKsru3h7wZDK1mc/o3SxAH3kZLQ2pSOD0wqnNEj5o1wm+JESvGzuB\n",
       "s1o+pURpSD/l/bRD6WIxrNbjdKnzfA7SWGlC1uKrsYGBGwvI+3Pa8TFnDJnig1biXaq5k0bBhNTh\n",
       "811RzhVMhCk26TmEa6N1RjFXti7HIIwyeVC1hEvebEK244uDAN2FILwpKmSewggthS+GcmhG/AHw\n",
       "lsntlpz4O2ZMSEsEYBOIaSPGmYKQj1Ty6PatFAUZM0HTIxXmAIbNetUgNZ2fmKTVYn8zWgKXMj41\n",
       "qv8Or9g/ZYd0UIXh8o0qnGCbSLMYij/RVZaS2gwODfI41GPxdAitpJTXVJAH4sNwipNgLCiF14TX\n",
       "WU8EQZaA+I0dZJkpXVkd4rPsJLlqj7Uu0cqX3mUqMMIwMTIACJlM2XZyUQsXeu6fNZS/gMci3sLk\n",
       "agtEuGs5Oy0Ute4DOMXrp2nPc/Wqi0qIIEkbpE1LvJgFT3okp/xKKdIT32CBuOXVpiVVF9zHYhdP\n",
       "uelccWe4EDtGCAmHbJA6vbV0wSs5mVMehQs4r2eyN2G2FRj3RGwnDKpwa3zITedKCAbScQbhD520\n",
       "J578ceGa28v2tjbnlPGVVDPTTBbbthoNMiJcyRqWrBgDKnUmTmaZ5eXdiqIEOenqSwqfpXc152kr\n",
       "2tf1PuB6orUV55gyyiwmTCKrSq1IeLRw+ffZLyk+ma9BQp4G6fRh3vAz1rIN+lSvOgFSRMvJWNJ+\n",
       "+1L1CPkuqMHiTS9g3L+u1nsbYEfCfQS/fJkO47NkvMm++HCeS4uN7uIQb8T+t1YfHOakkMN5rt9A\n",
       "rDjk9YJva3obWtQ/Us4LMVB8+YNFQXgV/s34AyuOz5pokrH3AAAAAElFTkSuQmCC\n",
       "\" style=\"display:inline;vertical-align:middle;\" /></a><br>"
      ],
      "text/plain": [
       "mult_real_pos_closure_bin: forall_{a, b in RealPos} ((a * b) in RealPos)"
      ]
     },
     "execution_count": 13,
     "metadata": {},
     "output_type": "execute_result"
    }
   ],
   "source": [
    "mult_real_pos_closure_bin = Forall((a, b), InSet(Mult(a, b), RealPos), domain=RealPos)"
   ]
  },
  {
   "cell_type": "code",
   "execution_count": 14,
   "metadata": {},
   "outputs": [
    {
     "data": {
      "text/html": [
       "<strong id=\"mult_real_pos_closure\"><a class=\"ProveItLink\" href=\"proofs/mult_real_pos_closure/thm_proof.ipynb\">mult_real_pos_closure</a> (conjecture without proof):<br></strong> <a class=\"ProveItLink\" href=\"../__pv_it/theorems/e85aed57774276bca18c874bbf356b149bddd5800/theorem_expr.ipynb\"><img src=\"data:image/png;base64,iVBORw0KGgoAAAANSUhEUgAAAXQAAAAbBAMAAACemGlbAAAAMFBMVEX///8QEBCIiIhmZma6urrM\n",
       "zMxUVFQiIiJERETc3Nzu7u6qqqp2dnaYmJgyMjIAAAAcRTyBAAAAAXRSTlMAQObYZgAABJ5JREFU\n",
       "WMPdmH1oHEUUwN8lt3d7u3uJfygag7IxfhS1eOT8qv3wgpD+I3it4gcILsGiIJTY6J3aoEeR9hqJ\n",
       "HBbSo6Dd+kerZ9ML6KH9Q1xN+4cNhROKX1hYEQSjxiAt2FSKb2Z292b37vbuNo2gAzOzO7uz85s3\n",
       "7715swD/0xTJvryyDzxyuYk0zCrmcHbC/8XoCgcStMuNnsM8Qq+mVxe9R18NdKX6L6APYY5VO+52\n",
       "3B8dXmHoJqnONkXvIVW8Gow8tozFewFMrOC+jz+fv/TjVA19kKHPk2qhKboyu4J1VxJY/NJ5P8n0\n",
       "Kp6kCVOTEFlcvH7xd4CDDL1IpJNrik4fFQPqSwjnHU8E6PiF516MGZCbdqQenaXoRKJUtE10nSzI\n",
       "fED0g/jtaCFAx0NW/W02a9ro63oc9O4cRY+fKpX2+5jpD6XS+2MB0b/CvD+QZ0rR6vFbOamvEx30\n",
       "riuYh/krn5/wQe/N5/cYnQzLvbzJMqnYhqFrW3fcNzeg80YC0gKvMNqIgx5eZujbAPb6oEfSIHa0\n",
       "5pxu5zETxzBc6FlCGfr3C/fBH45LMd2OBtHl8QUHXTjP0B9wG7QwfgIGtBp6OAHHICD6z5h3ovSu\n",
       "I9r58D3MezToQoV9qAr32g0yVVGRM9Ors7/SKzqb2DmGHoUux21/MLcRPlH0bp3bksZgbVvI8o7d\n",
       "m1Q3+jjmK9GqliGKTzbTtrJZ7wsvkfJ+HXY48lsi5ZZFTJaZnkhMch0sdKXq7JnxNw7o8KmaUPjd\n",
       "9DS0YaVkzqqhvAtzyfGk469+YuihHJTTNnq0QViTIcU1IJ13oxd553gnp2+21GPmowi9cesg0R1M\n",
       "lcpbLvR32oih6JxVIz7jlvpupjBlAz4DG73pNvQ3yEsWB4SptEI8ujij1pT6ghXD7H0axx6uhgos\n",
       "KKgoM0/y6OI0eippaHu6fjSnkc4Z0Y+60Z9lZlqehe1yoRX6RYiYxxmHZabdKocuaHfVLNryMPAh\n",
       "TvHALdCrS3TUChhzPLpMzOtI+ikdIp54gDbSZDL07qQbfQAzfktU4xnFJXWq3UTrmZrTtAu+0QzK\n",
       "gdDMw+7kAgGYjzjCi1t+HXrJ5EZhGISX8vldiP521BU5/ok5CY+B8LkHnTQyEoqr3v1Myo3+kE6B\n",
       "pdGbpm90K0zG1vqM03T4hidGU5QDURnl4dd1J/xKi29etF+1dlN8QJ5fBRsEegRB9PBWF/r3mPvh\n",
       "ZrzzoNNGqnt0zuqXawk6p1ihFB8IbG7HT1EOOGLdPbgnazbabFUuXo8twQsVOEkuz+Dm743XpQsw\n",
       "VfKi08b4+rMGO3ahwlROuYcg614Lvz5uJ0ymHHXhlyeVdQ49rMHtVRDRrYVfTUGk7qjRJ5yrEvTY\n",
       "JBR1uyCN8hriO08ydOWo53xHdNLeqve9NtoanXFIpv9bXzc4Ja3BdW94Shq5bZCiC/2wpSD0kaKf\n",
       "NW4TUPHInOWJ36SkZ8zngh01WkUeL3Z8wCMKI9d2T1aNdZ1pMGcrHQt2wPuuxS5idIou3LGePzay\n",
       "K0mTT/sEB0HOGS1Tsa0/AnX/YaoNrnzSR6uBfh/9D5P5D//f+gcU8joVyPMORAAAAABJRU5ErkJg\n",
       "gg==\n",
       "\" style=\"display:inline;vertical-align:middle;\" /></a><br>"
      ],
      "text/plain": [
       "mult_real_pos_closure: forall_{n in Natural} [forall_{a_{1}, ..a_{_a}.., a_{n} in RealPos} ((a_{1} * ..a_{_a}.. * a_{n}) in RealPos)]"
      ]
     },
     "execution_count": 14,
     "metadata": {},
     "output_type": "execute_result"
    }
   ],
   "source": [
    "mult_real_pos_closure = \\\n",
    "    Forall(n, Forall(a_1_to_n, InSet(Mult(a_1_to_n), RealPos), \n",
    "                     domain=RealPos), \n",
    "           domain=Natural)"
   ]
  },
  {
   "cell_type": "code",
   "execution_count": 15,
   "metadata": {},
   "outputs": [
    {
     "data": {
      "text/html": [
       "<strong id=\"mult_real_non_neg_closure_bin\"><a class=\"ProveItLink\" href=\"proofs/mult_real_non_neg_closure_bin/thm_proof.ipynb\">mult_real_non_neg_closure_bin</a> (conjecture without proof):<br></strong> <a class=\"ProveItLink\" href=\"../__pv_it/theorems/0c5bf55ef2918fd14273d953352dc7b4e2ba46940/theorem_expr.ipynb\"><img src=\"data:image/png;base64,iVBORw0KGgoAAAANSUhEUgAAANcAAAAcBAMAAAAAfDfxAAAAMFBMVEX///8QEBCIiIhmZma6urrM\n",
       "zMxUVFQiIiJERETc3Nzu7u6qqqp2dnaYmJgyMjIAAAAcRTyBAAAAAXRSTlMAQObYZgAAA55JREFU\n",
       "SMe9Vm9IU1EUP3vb25+3ze1DYPVpJohIxMgEhbJBYF+KJkUZBA77Q2KCpTbIPkhZzYkxEspvvRiI\n",
       "iOmoSISgkX4IW7EgSsRiWQZNMJGCdCWd8972fHvb2uYHL9z77jvvnvs775zfOfcCbEJjXgQ3AUXT\n",
       "KDxm4elGtI/lub7vLI1tYOGZvLFYV74afTcAuF+gCmjyVi3g87ZvuAvYFdCF4XW+mruxG8KpcqPv\n",
       "P2hRdhV0NtChoRESfMwNy7CKw6BCOFiIQ2OyzHzRs/a5V5zvCuOfqWzA2AFekSCaG5gJ18N3pfQL\n",
       "9hGlvzkX2+vFCVcaoJhZHGBYAugniztzA1MF0Gi7UhojM2zJMr0hCJ13EeulI85GgA4x5qZAbmD3\n",
       "ca1OGR4N+Zazii/TbnckAVZVAFwlYUGxkGeVaOnU0NC9HPnxFnvKWlMLjV+FeV2Z7M+q9MA6xQoS\n",
       "IncUYf/t8VzNEaxasJKyZ6JISoKChmJ0zARNuajcja6aZO0jqII53p1hc8Gu4VlpXw924phmG/yQ\n",
       "Fo1GuRWATzTV+mRgxlYF7epxuwPARST/LyZ9fk+x9HISfb6BEGZ4EKYAAAhWPOdhGWBMgJARpNC9\n",
       "gPnnweZNRBzjpwNmPU0n4s+x0tNz+KjBL1awJr62Yt+CfT8Pl8hra6JvuT9oNk1rF7HFCTJp9yr8\n",
       "NIpgprBuXbBAezwrDzMmmCI2Hy0zWKFdnlEEtpVSB9tlUaiJxcH65dTfU6fkMoIZIsfXBStE3/Eh\n",
       "QLAZ+l+2Rw52U3Qj/olxSVL5C2ok/0EhD+Vg+oeK3KuniHafwcFfMk97L5fwGqIpgeGBZ2wGWILt\n",
       "ieXnRYJwMdBGxhPCnxRCkSBqmwyMdVWkshEeY6Jw7SzlJnOFsReACFZuB3NTMkGK4lG9Bh9c0tnb\n",
       "DNdx3CvMO2TlCl5pnSlZCha0R21nKTf1NnPEL4Cpz7UBVCioT7aRvwZ2nGxwJIT+neTveWE+0MVL\n",
       "hdipvx1LAhMIbOap6jF0uKkcatcJZKuNMd15l6Y2OtKUK6FxLeLz0C13JFNJmJNo6dPPIKaFVwW0\n",
       "ohuNp3guFApNyperg+kKMaQpxOnsWZVs9tUfhn5ex0+DySnGbCr1RsRSxqUtNyPZa51ZuhdoGh7t\n",
       "g9oAewEReiip3wT91akKTWkOT6F1ZwfTJdMFxJOGwZhlUBjJcC0w+7KDzeZ+k4ivsG/4Cqk8oM3Z\n",
       "VZ5sGEzNw+a2f1BT8Yt5JMuCAAAAAElFTkSuQmCC\n",
       "\" style=\"display:inline;vertical-align:middle;\" /></a><br>"
      ],
      "text/plain": [
       "mult_real_non_neg_closure_bin: forall_{a, b in RealNonNeg} ((a * b) in RealNonNeg)"
      ]
     },
     "execution_count": 15,
     "metadata": {},
     "output_type": "execute_result"
    }
   ],
   "source": [
    "mult_real_non_neg_closure_bin = Forall((a, b), InSet(Mult(a, b), RealNonNeg), domain=RealNonNeg)"
   ]
  },
  {
   "cell_type": "code",
   "execution_count": 16,
   "metadata": {},
   "outputs": [
    {
     "data": {
      "text/html": [
       "<strong id=\"mult_real_non_neg_closure\"><a class=\"ProveItLink\" href=\"proofs/mult_real_non_neg_closure/thm_proof.ipynb\">mult_real_non_neg_closure</a> (conjecture without proof):<br></strong> <a class=\"ProveItLink\" href=\"../__pv_it/theorems/7ae42e0287a1a4efbbdf70ff7c2d5ce8ab7261de0/theorem_expr.ipynb\"><img src=\"data:image/png;base64,iVBORw0KGgoAAAANSUhEUgAAAYQAAAAcBAMAAACT0dV6AAAAMFBMVEX///8QEBCIiIhmZma6urrM\n",
       "zMxUVFQiIiJERETc3Nzu7u6qqqp2dnaYmJgyMjIAAAAcRTyBAAAAAXRSTlMAQObYZgAABQNJREFU\n",
       "WMPVmF9oHEUYwL+7vd29vdu7BKnQGCqn0VowxZBAFZuWC8UU9OVaseZB6BEMKmIJVRP/xHiUYq8t\n",
       "xa1CGkrVNYLVM20Oytn6IJ7GQk0TWTTWP1i4Fx8UrUUi2DyI3zeze9nd21z2LomQCZndnZuZnd98\n",
       "f2cB1mZpbYU1W7o1qmPFaNpff2nwxWW/U0yuKIKyJYW1nIR5SOBNaHCoen95Bd65Z4XFoNyHDBMp\n",
       "aIZu9jyy+gi/rbQqRS4lYa8Gr4Bq/D8IAolbMWoe90kVhq/1vTrsB3iJI5TocnVRhDgzHqN+hHd0\n",
       "rD6ofZykOZ+/X//6tfV8HcE/SAo3AbRwhMvVhC2DmsdLXK8fYZKqX+tQl5KrofQ+9PxACxk7ymxh\n",
       "DreHI4ySnDOLIrCfRpehSM0kxbY6Bn7hes6cgrCCnnT8oOWRQM4zBNphttWL2AIJ6PIy/Mc8TaPV\n",
       "MfJdfokdGhy2EAStBO8dZLrURnFByDCE2FQud6KKOf+cy33YXz9CrBGrE/WMjLN4Ih7QF6QgaBl4\n",
       "xIzOpKDBRu6R/slmh6ogNGSzh4rLcEik0mR2Smf7LUvLzNZJZdp3VrcpkhRyhuTQPEfoAzhcBUFK\n",
       "QbgGPRCZKc5MWc9hkvUx/O/S4tcBeqqP5p1M+TF7fspuC+e3O/2K+DdH2OE0fvHZL+G29AJCqA3O\n",
       "1qI4T9O69bIXjdNULyPVBtLch+/l3sZjIC2OdzJLlKnvgqPJHB8cRpu9kMVikihzHEGGYNntfzS5\n",
       "DS6ouqDbQls/bPa1+Oj+17ZjGAs9AxDAP2sGUod1qFDzIOOvO1njRKnSh/4L5U7mXpI8xFuvYTGl\n",
       "sCPscu4RE0E1yjE4dvSkDp8m2lR7dJ4BH9ZM7ImiOkZvbdePg5yypGAiBDLky00E2SPLHIByJxuC\n",
       "zd1nTgkPuJy/JQWlhIlYbNvuFtIpLIXCGw6Et8Wl01rGnijGztBDT96GEDYVaaIIn4GFsFjhnb79\n",
       "7nbiDrGda7TbwpFvXIZ3w8yRDj+Oa+gyAhpPNgrqmcfsCOER9G6R9n2pSuGXGxk7Iozj5WMDGiBg\n",
       "iVwyzXkiD/ui2lIIrNPsBmgqm3O7HWGPkPL0SHAOcU/eBQ16hLmxAhQn7QhRMsHTKUysJJcqskYe\n",
       "/DmC0AFwJe8wZ+a6cb5wIjagOqRABsEsgFVcZNRJGeunyAsCc+Vy3pZgqPm+yqBDCA1kQb3QBeIL\n",
       "2ewBRHhLdmSqf+F/BzwK4ucuBGrk4mDsiS1PJIHtk82pso3ChUd67xy5w4HADGLAMgM+D+skJUK0\n",
       "tDjb8ciTD5bTvF8g+6cjjzCjM7LQym6GThHSXAqh3Q6En1imsxGfdHf6s9HUScae+GqzxwFtnSPB\n",
       "2OnDtQVSQhGXf9rcg0tmguEVwBO284JyHZ4rwEW6ncWkwn1eiNyAYzk3AmuMbb2KAk9zRSpMwfj0\n",
       "9LQDpNOR5p33k56D/FCqMs3zsh3dhoCRu9WAMIopNJwEqeLI0yTOGYSgHIFR3aqoMbqJfO5FjqCO\n",
       "V75mF1VW+H/z1V4fB3wIzngk2x7lisepbRPqg+eprfvuFoYgNsMuTWyiqpk39omokMQeHfo90lH5\n",
       "Xilf35HHT1bzfM0HT1Kk6EI05pf+4KwHu+voUsfB80cfyUyxVgTxnq32Iy2/i6SjM9XnOLdqn5RG\n",
       "fX3BqPiOZHjcLZE7JVcL4X72HWkA1n75D/aGWkSyh7xAAAAAAElFTkSuQmCC\n",
       "\" style=\"display:inline;vertical-align:middle;\" /></a><br>"
      ],
      "text/plain": [
       "mult_real_non_neg_closure: forall_{n in Natural} [forall_{a_{1}, ..a_{_a}.., a_{n} in RealNonNeg} ((a_{1} * ..a_{_a}.. * a_{n}) in RealNonNeg)]"
      ]
     },
     "execution_count": 16,
     "metadata": {},
     "output_type": "execute_result"
    }
   ],
   "source": [
    "mult_real_non_neg_closure = Forall(n, Forall(a_1_to_n, InSet(Mult(a_1_to_n), RealNonNeg), \n",
    "                                         domain=RealNonNeg), \n",
    "                               domain=Natural)"
   ]
  },
  {
   "cell_type": "code",
   "execution_count": 17,
   "metadata": {},
   "outputs": [
    {
     "data": {
      "text/html": [
       "<strong id=\"mult_complex_closure_bin\"><a class=\"ProveItLink\" href=\"proofs/mult_complex_closure_bin/thm_proof.ipynb\">mult_complex_closure_bin</a> (conjecture without proof):<br></strong> <a class=\"ProveItLink\" href=\"../__pv_it/theorems/b725bcb07f0635dc52685c629600276eb89b6f270/theorem_expr.ipynb\"><img src=\"data:image/png;base64,iVBORw0KGgoAAAANSUhEUgAAAKsAAAAVBAMAAADLBgMvAAAAMFBMVEX///8QEBCIiIhmZma6urrM\n",
       "zMxUVFQiIiJERETc3Nzu7u6qqqp2dnaYmJgyMjIAAAAcRTyBAAAAAXRSTlMAQObYZgAAAqtJREFU\n",
       "OMutVUto1FAUvZlM5pOZzGwEoSAEP124GiquVDoq4kZtiqjdtYyKG5Fu7IC6qB90xg8EBDtgF7EF\n",
       "LYMwQRGsFBzahVARAm7aghAX/mUUXaizEN997+UzMZMieOEm753cnLx77n0vAKtb2mIetNku8Yjb\n",
       "OHgVSTvD3Wfy+VGAhB6MjL37svYixZ/j9GMk7QfufssVCLcdAKVhU+5/SfEaZjkexaoUmHdY3iSX\n",
       "+QBolUjkd4rnDICsGUWb1Jl32AB5De7wyVK5jAtXtB5yPUpxZbFen4jUYIJ7hz2jShTpeGgzw0Sa\n",
       "9RTDf1Yq5yJpN3BPb+/rccG367eRLKk0slOZuxKXCvHjAFUnON4Kob3Bfaee++p2wm+joYNCa+Y2\n",
       "xGRc5dUg+G5/RRecQeb6iRIfnmUurwORlhZVzbQhr0JmFOcp552bDi3iSYh5rf4JVzK3xZKHDOkz\n",
       "x9YwF9uQVOlCUUYbGk2Q6OoHW8RwZTNSkzcawbNW0kv4F9Z1tg7KJMBcJ60wDg0N52OsbQdMTltz\n",
       "e9kY8WjT9mEymu59g/NvvUYcdd/ziDzoFIGs7qnXthb0GxCnIghegyOtDAyvHiPj01IbN9+ZWCGH\n",
       "ESvLf5WsYcKpjFOdfJFIzUsmqk7khV3kcoDjDwm3WJDwCylVsacx4InvGFlgTp6NZR0sYaVIUmLT\n",
       "TYc17vtF+fFVjpOSgmDGMAGhKI4cqVQq6u1DHu1e5nJp062NboP1vUAxNdavlwwOH3z9Y6uDKwRs\n",
       "6KkVcssbgpmg352iInXfvNTu8fu+K2U7DAdBH94PNSNpLEFWoztKcw+S0KOG2nyXfeni8dKDHTBo\n",
       "SieJKtcQuN+6rDkPq+DbiP5D1w5nDeLsIIsRbVc7xqml9HDaAJ7R/+2ns9xFgwCuwH+zP5FvtsOs\n",
       "kl/DAAAAAElFTkSuQmCC\n",
       "\" style=\"display:inline;vertical-align:middle;\" /></a><br>"
      ],
      "text/plain": [
       "mult_complex_closure_bin: forall_{a, b in Complex} ((a * b) in Complex)"
      ]
     },
     "execution_count": 17,
     "metadata": {},
     "output_type": "execute_result"
    }
   ],
   "source": [
    "mult_complex_closure_bin = Forall((a, b), InSet(Mult(a, b), Complex), domain=Complex)"
   ]
  },
  {
   "cell_type": "code",
   "execution_count": 18,
   "metadata": {},
   "outputs": [
    {
     "data": {
      "text/html": [
       "<strong id=\"mult_complex_closure\"><a class=\"ProveItLink\" href=\"proofs/mult_complex_closure/thm_proof.ipynb\">mult_complex_closure</a> (conjecture without proof):<br></strong> <a class=\"ProveItLink\" href=\"../__pv_it/theorems/24a8f52531ef137d7af1e99f627711f7033165a40/theorem_expr.ipynb\"><img src=\"data:image/png;base64,iVBORw0KGgoAAAANSUhEUgAAAVQAAAAVBAMAAADrzwv7AAAAMFBMVEX///8QEBCIiIhmZma6urrM\n",
       "zMxUVFQiIiJERETc3Nzu7u6qqqp2dnaYmJgyMjIAAAAcRTyBAAAAAXRSTlMAQObYZgAABDJJREFU\n",
       "SMe9l11oFFcUx/+b3ZndncwmfVAwLeLaWFusH4M+KDTRRGnzYmGj+FEQsiwV8UWCponQEhcpdVIV\n",
       "FgUNasvYgNpVu4uyaEqkq2tflMKCihpSuw/6oEgaSwWrbfF+zezMbsbNFOmBc+fuvTNzfnvuueee\n",
       "AV4hdeMx/CcJF7l6lGGX8foUcK8HJdr/dfJb1LYGeol4NnpKqEeRU1VDC/uf7NSwlfSu4jodeOSG\n",
       "qmbJpcHwavOhUI+ilCpH1r3A0D8afmCog3S9km6obGbQq8mIxtWzXKl8kRwFftOgRikqdRnz3aSo\n",
       "zN/XvVoMprh6luPieqevjzn4lo/QyRqUNyhq5Fo6fRiuqGPp9PfdXi0eFupZGtrYZeM88VujC6oQ\n",
       "l96nqHim61+4ozbq+p68V4vNQsMti9+sfffBwmxzM6gsahRz6yjxtaJXYKibgQF3VDmGkOel3C+0\n",
       "PdUwQXz06psDTfjdis2SIxGE8ytF7x5DXeXceNKOq5gdt1ADfPtNQer3bUmI7udclZnwJ7F2KffQ\n",
       "JI8wZx4vYpn1DhZrISs9aybqBYYaRJ2VN08XWnFRNfyGhYpuLKidZEaWFJWNhvRY/J7G1f8cQRJn\n",
       "HWwsU6p+7F/arjCw3fLTBG07x4nQ25XkJjHRxVDVYtDy/94jBi5FNbUcAPgFtXfVneE0IseAESeq\n",
       "L4lMzEQNxquf66XNDChPnajl5PhIdqCGS+sJZOuaZhoLRHK5A3bUbyViQ1m8rfqIHZr7QEQb3Qwf\n",
       "5sirnAGQyeMnmKiuK/I36ieEfQSYW3zW5A1ZxEkHQ8XApwS1vehL8UM2p57dZEMNHSLNyViXAdl5\n",
       "aCmfSc9FiqHN6N2qbZXJYhs5vmugvoBcGub2xbbyR83J0BzSDZTMbYXz5K8ceReNhsJSRQ75gg21\n",
       "nu6KJdgA6bIT1a9JIjSGaPOjrdYocA1FI72qw6ssOmnU8jBlshu343lmn7wzb60Kl+X7jNM6mWjh\n",
       "qI30TyTQDmmnru8mqN8Ebaj4g+hbmEuizYnqy9aJ8Nug63r06LryVAdXJfHOoTnOAOg1o7bXGjrx\n",
       "9ieJNmafrA8PsxNfmqak5bN20LEHHDVCx6ejRUKcezWwxo46Smz+hf3pStRMKjRq3Lg0RvIgc/J3\n",
       "5YTkPFg7ppLqmH2cFL9W7+lzJAylm6OyDDaBnhx+pt2bwJgdlUqT9GeRog4a4a/Nxpfq+hjnkmQF\n",
       "1Bg7mWJWteEsVy5MpcBl9qvKFessipZRA3HMLyJEypZAfxvkStSP3m9mqJ1ZqQmdKdpkA4lzreQw\n",
       "o2fRXnrPmfGvrCwxgPIReHBXojYqt19dBArhRaBD3iOx6jxY7fUSCYByCcZ7QSwg99SRWH0dpbXr\n",
       "ET5QjVr5wdJvy6bSog/Yl0P5G4JuAIwUX98Hy123+pcYW9jjsWaepPe/yUsJ6CPApbtKegAAAABJ\n",
       "RU5ErkJggg==\n",
       "\" style=\"display:inline;vertical-align:middle;\" /></a><br>"
      ],
      "text/plain": [
       "mult_complex_closure: forall_{n in Natural} [forall_{a_{1}, ..a_{_a}.., a_{n} in Complex} ((a_{1} * ..a_{_a}.. * a_{n}) in Complex)]"
      ]
     },
     "execution_count": 18,
     "metadata": {},
     "output_type": "execute_result"
    }
   ],
   "source": [
    "mult_complex_closure = \\\n",
    "    Forall(n, Forall(a_1_to_n, InSet(Mult(a_1_to_n),Complex), \n",
    "                     domain=Complex), \n",
    "           domain=Natural)"
   ]
  },
  {
   "cell_type": "code",
   "execution_count": 19,
   "metadata": {},
   "outputs": [
    {
     "data": {
      "text/html": [
       "<strong id=\"mult_not_eq_zero\"><a class=\"ProveItLink\" href=\"proofs/mult_not_eq_zero/thm_proof.ipynb\">mult_not_eq_zero</a> (conjecture without proof):<br></strong> <a class=\"ProveItLink\" href=\"../__pv_it/theorems/04e83907afd3d50c0b76542c97f286110273dca20/theorem_expr.ipynb\"><img src=\"data:image/png;base64,iVBORw0KGgoAAAANSUhEUgAAAXwAAAAZCAMAAAAFd2WlAAAAOVBMVEX///8kJCQNDQ0oKCgQEBCI\n",
       "iIhmZma6urrMzMxUVFQiIiJERETc3Nzu7u6qqqp2dnaYmJgyMjIAAAD9T1yxAAAAAXRSTlMAQObY\n",
       "ZgAABIRJREFUaN7tWtmymzAMpS3eV/j/j60t72ATLoRMOxM94CRXsuFYPlq403RdGOdcTl+5IsRh\n",
       "Z+5MwL8Y3hHJvuB/wX/3c9l2fFL0iHmNOtZ24C/5i7VXwL9h/5go0Y7PCuujL5dmJ5A1tNV24Bud\n",
       "vizqCvg37B+TRbbjw1u99PeE1HfkUFKQnRRtB75M3iHFJdq5Yf+UWNyOT4tBPcev4bAz6C2Ntuf8\n",
       "5LDFhX/G+dftn5KU/34qD1Zzz/Fp9UVAbNWrqrU9+NYoL/Ln4TNYXLd/KtrydvwAzZFjx59WAJ+s\n",
       "utaGbGcVXi6k/PHhLts/JAi34ySxwWh+R0QazGT2/CZqx1crDuCjWhvADwdEyKvgX7a/INRASoUM\n",
       "8ntNUY/qhG1HMrtbW9Zgfysw1TM1QaaEXLOA/Pntr3n3V/BMGsBP2gA+weOQ7U04Nu6goJkNwH9h\n",
       "fy15FoZxtgtkMniddc+i4XZY57xx3Yxq9puAPeoU45qKTp4FVbg9z7S5W37o+A58HMA3tXYosvwX\n",
       "tE/SlTYYWw8E1AtYjYqsgf2FyBVXVFS4xeiyQ1aHLeaeNSF66c6ez6QZMShyFFsqNRmccpii1szU\n",
       "+Of2MFC2maKmnaQdwPdHeR+crNBSwQNaNDljM6xw+/YXUsS0opXBRQbgq9X71azPgT+LbNKCP/Fz\n",
       "9X1Wa2Y6BH/LwWvMdvQefFeLxa2y2FIUAhXJQURTTSU6AL/YTwojttAz/rRXzCsSt2CYuA8+Xf0f\n",
       "uB2A39KOgrOu4wOTG05Sz1QB1c4KnP9rDsyfN1cAVVk4OVk79naEjOWYJZ7WfFip2gYOCaMsHYNf\n",
       "7BWnDhpYgh0yaqVYErZ8ApQdRO8Efj7+PfDbgKvA3dgSuir3wC8zVUC1AbdfWddFVhtw3SPEOCQV\n",
       "4pFNFa7Bd27fSafygyT7CWMfoCErOU7tsmJ9FvJ0atSsYqZ4/owgBu41053GUTg966jDjD0/0/r+\n",
       "Q7OreaYKKHga0z/C7WlUM220U1dzTUHEJxhkhhwHsne/ngdf2g6rl1+SvedhFObkh+BXiiWrSitK\n",
       "TRMhEZHER2CBp8L5KwlWuxOZAI6jYghRyRA5oJ1M6/sP9R5VM2WgwNNb/uw0uZRBKNW8STuBb5O6\n",
       "3xy3M+7KGs93PIwOwI/2yruksBA0D8EvihZrawN+ZUWsUD8XjJllyXZ6nn/UXiDvqnoLUJ5DW248\n",
       "bill7W0/X67waEA0eTctSbn1EPx8S9JxArHZ86V32N4lK2ok0kRlRVdI0m7DKlK8j3Qhz+9x/lFj\n",
       "Tb8J/Aqo3X2+6O42jbXGMRiUj4Ce0MlZQjOCnQCfMKQRLuBTTy/Ue2d90bWiO4yp7BS6nNJlEYwO\n",
       "Aq6/xUjoXfBzprfN+CTmK0PvAL8GalNfanOyAX34JgtFzn/VXhj8Mex/r/7Xm0mQJSdX3GHdB/+z\n",
       "L1M2W/zC8YU8Bf7Z3k63J4FWDEVQh5Kb3xTzvnK2PD4J/kdfI27TYnJW+/F3uPbkb6c757Ibgf9L\n",
       "uQn+5/9vRzY9JPrvvMD5cdBw2LG/Hrg2HCdUeowAAAAASUVORK5CYII=\n",
       "\" style=\"display:inline;vertical-align:middle;\" /></a><br>"
      ],
      "text/plain": [
       "mult_not_eq_zero: forall_{n in Natural} [forall_{a_{1}, ..a_{_a}.., a_{n} in Complex - {0}} ((a_{1} * ..a_{_a}.. * a_{n}) != 0)]"
      ]
     },
     "execution_count": 19,
     "metadata": {},
     "output_type": "execute_result"
    }
   ],
   "source": [
    "mult_not_eq_zero = \\\n",
    "    Forall(n, Forall(a_1_to_n, \n",
    "                     NotEquals(Mult(a_1_to_n), zero), \n",
    "                     domain=ComplexSansZero), \n",
    "           domain=Natural)"
   ]
  },
  {
   "cell_type": "code",
   "execution_count": 20,
   "metadata": {},
   "outputs": [
    {
     "data": {
      "text/html": [
       "<strong id=\"elim_one_left\"><a class=\"ProveItLink\" href=\"proofs/elim_one_left/thm_proof.ipynb\">elim_one_left</a> (conjecture without proof):<br></strong> <a class=\"ProveItLink\" href=\"../__pv_it/theorems/fea15bccac06b133db480dff04ed138477ca8bfd0/theorem_expr.ipynb\"><img src=\"data:image/png;base64,iVBORw0KGgoAAAANSUhEUgAAAKEAAAAUBAMAAAAXeEBDAAAAMFBMVEX///8QEBCIiIhmZma6urrM\n",
       "zMxUVFQiIiJERETc3Nzu7u6qqqp2dnaYmJgyMjIAAAAcRTyBAAAAAXRSTlMAQObYZgAAAipJREFU\n",
       "OMtjYMAHOC9AMAbgnoBdw04gfgBi3MVh4gooxgSZ2DWwAW06DWK8wmHiSyjeuABdZh12DVxAB84A\n",
       "ea4BuzyvARhz5eRjmMijgF3LIQYGPqBing3YpdknQDDDfQwTuQSwa1kIdMOpVaum4/D0dCjGYiLD\n",
       "E+xa+BwYGH50dNTgMFEZilFMXKQ2RQfo5cPojlbKdAJ6mQcYUKkMDJ04TOyFYmQTuQ7wFrEDw/8e\n",
       "iHPuHQg8BjHXMFxXqAN6GSjlDI4gpKTWk54EZVZDMdRELnCULOD5xQIM2+1otp9iOL/AE6i7ABj0\n",
       "DEywNMy1x/gCV8QC1jdQvggUQ01c/wBsLAc4ZcSjmbiAoQNEsX4AWnqBHSZ6Y+cqBt45DAx7sJvI\n",
       "ngAW5VfAZiIDwyeYiZwPwkDpyFQtgAUYqgyuW4FC2H0NBfEBINIdEY7PwMKsX0EkC9DXDJ0pDAxM\n",
       "C/LYHfhAQrdu4o8Z7gX6QNXQmEECu5g+MGhBYoZhM9BYVoa3DAyLwTI7EaoOQzGDPsJE/w39DHOB\n",
       "tA2qgSy/OT6AyhTmA/Bw+cnAEN7R0aEwOxShzB2KzeQfwwugZUqLbEGcp2jJMUlLGVTe8IGChHcB\n",
       "OERZGdhAUsyLoMkEORdiKRIKsCfh5TDGfJ4HPAw8IPM5bQJA2R25pMAG8JQUUL9cOXSKgaEbnPjf\n",
       "tQXAhDsZcGUoPKUZMmAChiORJS6OjMsxgYGBvFqBF4dOYNIDAO/loJcUK4yWAAAAAElFTkSuQmCC\n",
       "\" style=\"display:inline;vertical-align:middle;\" /></a><br>"
      ],
      "text/plain": [
       "elim_one_left: forall_{x in Complex} ((1 * x) = x)"
      ]
     },
     "execution_count": 20,
     "metadata": {},
     "output_type": "execute_result"
    }
   ],
   "source": [
    "elim_one_left = Forall(x, Equals(Mult(one, x), x), domain=Complex)"
   ]
  },
  {
   "cell_type": "code",
   "execution_count": 21,
   "metadata": {},
   "outputs": [
    {
     "data": {
      "text/html": [
       "<strong id=\"elim_one_right\"><a class=\"ProveItLink\" href=\"proofs/elim_one_right/thm_proof.ipynb\">elim_one_right</a> (conjecture without proof):<br></strong> <a class=\"ProveItLink\" href=\"../__pv_it/theorems/41f945845a7656f8b3d1ea77cbc7a662890167a40/theorem_expr.ipynb\"><img src=\"data:image/png;base64,iVBORw0KGgoAAAANSUhEUgAAAKEAAAAUBAMAAAAXeEBDAAAAMFBMVEX///8QEBCIiIhmZma6urrM\n",
       "zMxUVFQiIiJERETc3Nzu7u6qqqp2dnaYmJgyMjIAAAAcRTyBAAAAAXRSTlMAQObYZgAAAhJJREFU\n",
       "OMtjYMAHOC9AMAbYiUMDSPwBiHEXh4IVUIwB2CZg1wASPw1ivMJh4ksoRgHcUgwMXA+wawCJzwB5\n",
       "rgG7PK8BBKOAZcd+AclDONwAFOdbwMDAswG7NPsECEazB2TiQhwmAsV5T61aNR2H9HQoxmIinwN2\n",
       "LSDxHx0dNThMVIbiRWpTdBRQTeRBDwwupUynQxDxVAaGThwm9kIw1wHeIvYHqCbygvnn3oHAYxBz\n",
       "DcN1hTqIuDNaxHH3pCdBmdUQzLOA5xcLKDi5ECZyF6DZforh/AJPiDg7AxMsDXPtMb7AFbGA9Q2U\n",
       "LwLBXAwckMSw/gHcRNYPaCYuYOhggIrzXGCHid7YuYqBdw4Dwx5UExkY+CGhyJ6A20QGhk8wEzkf\n",
       "hIHSkalaAAsotF23AoVQfc3AEB+AHtcsBYhwfAYWZv3KABPvTGFgYFqQx+7ABxK6dRMjZrgX6AMV\n",
       "YIsZJLCL6QODFlR8M9BYVoa3DAyLwTJIhcBhCPbf0M8wFyHKBDKR+QCqgSy/OT6AyhSwOCSQfjIw\n",
       "hHd0dCjMDkUoc4fgZUqLbBEFEHPiP1tgSg5AS45JWsqg8gYszrsAHKKsDGxgDYtgqQRXLgSD5TiS\n",
       "MFx8Ps8DHgYekPmcNgHwYgBrSQEvEfCLL7ty6BQDQzc48b9rg/uokwFHhsJXmiEDJmA4ElficuAo\n",
       "cXGJE64VbuLQABQHALbbnuRyIzXQAAAAAElFTkSuQmCC\n",
       "\" style=\"display:inline;vertical-align:middle;\" /></a><br>"
      ],
      "text/plain": [
       "elim_one_right: forall_{x in Complex} ((x * 1) = x)"
      ]
     },
     "execution_count": 21,
     "metadata": {},
     "output_type": "execute_result"
    }
   ],
   "source": [
    "elim_one_right = Forall(x, Equals(Mult(x, one), x), domain=Complex)"
   ]
  },
  {
   "cell_type": "code",
   "execution_count": 22,
   "metadata": {},
   "outputs": [
    {
     "data": {
      "text/html": [
       "<strong id=\"elim_one_any\"><a class=\"ProveItLink\" href=\"proofs/elim_one_any/thm_proof.ipynb\">elim_one_any</a> (conjecture without proof):<br></strong> <a class=\"ProveItLink\" href=\"../__pv_it/theorems/813348a05db42ee86e02aba4f4822168c438c4370/theorem_expr.ipynb\"><img src=\"data:image/png;base64,iVBORw0KGgoAAAANSUhEUgAAAtwAAAAZBAMAAADwPeR0AAAAMFBMVEX///8QEBCIiIhmZma6urrM\n",
       "zMxUVFQiIiJERETc3Nzu7u6qqqp2dnaYmJgyMjIAAAAcRTyBAAAAAXRSTlMAQObYZgAABipJREFU\n",
       "aN7tWm9oG2UYf9bk0uTukvpB0LYIWeufgophA6du02jB4BeXKkynYmOxHxQdQSF1OjTWD6aTwmEh\n",
       "q4ONG7Kt65gNjLL1gy5aV9E5CSjIpCuBqeg+aBlTNJ3D98/l3rv3LneXNLT70Bee3N3zPPc8z/3u\n",
       "fZ/nfd8LgEsLDO2CtdaU5h/a7arTugZT81p+leDer9GKNkmx8kKlFXA8oxGCu4wPF5zgjuBDuKlh\n",
       "iVlKyzf0broOnZeswokGHU/cVEdwAYUSgvssvr7kBLdcQIeI2ky4IwqlBntph8FSzIO3qs4nVtnv\n",
       "jQZxEbw7FsuUENzjeERlneAm0vGmjq7vNWqoHZ6rsIu2gvsNuo4c5UXhWKNRLEEdjr/QKE+6rVxw\n",
       "zN24759tKty7NGqshQ1wb/Mw6nQd8QbL0zU6xPwVqMPxQY3yEP5mcnKvc6mcn5w8mm4m2qE0pSbA\n",
       "/ZUHfabzMy/a22gMcroex5E4JTQz+SeX2+0Md1su936xmXC3xCjB2Ox6994Z2rKhoybcv3ZtdjXA\n",
       "dGZ5UbedfS9BRAa6C94dyzFKCO5BgBFnuANJCCrNhDtYouRvhz/dtR9WIou14BavqVNuoRl0Fsiz\n",
       "/0Eaydqjdva9BDF1SfwXPDsOlykhuHtJ0WyhNeMXO7j9MbuazrXHy954xGaB0sES3Acg0EJt081F\n",
       "8nML+LK0H2o6Gtz4QqpAWxSeZtpcYzrk0U7y8rd0+842jEEQndMqXHaLnDmW0pTyGM8W1NEE+hro\n",
       "ABFe/xLWp9gyJw13uyezmBvv1FxGmxmsi1N6SIXXQNiYpl3Bev8Ufl2+CrSi+3YwHQo3ufCVYar4\n",
       "5Camzfevqg59tH5e4caqfTcbLAiq8yCIV10j1x0Li5QQ3HLJvHA8NrsVTsmqT2VwnwP3whApOPCw\n",
       "zUN74PmiGe6bQfwLDR5qPGMzCvArX5eFqaTGyBh7d4bObLcVIMG0ucZ0SLODW7PvbMMYBNG5CP4l\n",
       "t8iZYwPcofJ2U2L8YJ8Kn0ZjsmERf0BIuc8xldo8YvN8EaSiKZmIV0Fa1OGu1VAHOV1zZtJWwkMk\n",
       "4RwZ0SEtYcjdKS2ZaPYT9QXxH+7wLpEzx1jRT5MJjLyIzm8nwwJV2158Mj39oRHuYB51RXHDzqR1\n",
       "pOnM/q6XLdIqD9v0P4sUFVOpFJcgUJ5xhbsAOyXlkZQ93HGUVd3gxjoimUgs8LLRqn03uPkgruDC\n",
       "4wa37thQKuEEukluw6/B5y/TPZRp+fhzBrglnNiOJPtVCHBlgTDJpsodardFinl4owLbDB9XTDkd\n",
       "0zD8mCqagsY5j+RClkSD0XBGhqJh8tfCzgOlYMwEt26AZVSigx8NYAuPyGzVvosNSxCvwnumccn0\n",
       "WeTMsa9ICcONq+c+UrOPyimRVLdpKM4adwQvI9oIT4HwOQcoZtIyPAwLFukw7U7EpnSMwV0dW4e7\n",
       "dgzETXCTnJcxJVFx4Lb8raFjTMn3wrWtbHSdMycC3QDLqEQHPZrdxCuh2Xe1wQfx8V0lcxrU9Q2R\n",
       "644jSUoY7rBKkKGjXHgjlxtGcO9vNcL9E6JOQAmnlQOUMLWic69Finm4UGCboelkjUW838sCLRh1\n",
       "ECY8zvXFdO1FfKKBILxFjhwfAUrV/W6xktRqW4r2bv8T3H43mtWPTvKAEqbUhU8rCHoebsy7gMYQ\n",
       "sflAlM1QTVtUnoKeOrRMuHHZdtqiSjQQhKfIsWO2RaXtaZaLoT0AfQBn8OUPAPMc3NAuXClhQJHe\n",
       "uFr9wUypF/PeDGctUsQLPZPWbI6dYY+LF6n6QlXyEvRnsoPwpAcDffYbsCP12OCD8BR5n2kDVuum\n",
       "ryhCJ0APQgEVUv/bcQjwcD96ZzeBG+n1KUI7/umkzEHM2/4tWKSYh5akxCaI3/02qI+KLPu8ENr0\n",
       "d9TDruvXtWVj7wy4G+gB282KiXpscEF4i7zH0LuMH88kmsF7csPcIt54pRI9dgfGLh3XzuykZHOX\n",
       "s7kaH89QAOFV+XiGHJ8HSia4ZwKPddhuUbEm3LNZ++pG76CHAZWe2Uqb+xmo0Wb7aCvv2Ah3KTCn\n",
       "uMBN9eo5++gAXBdwzynXg2MPX+KX9z+T+fthrVUnMkOZ/wEh0QxWn6f0YgAAAABJRU5ErkJggg==\n",
       "\" style=\"display:inline;vertical-align:middle;\" /></a><br>"
      ],
      "text/plain": [
       "elim_one_any: forall_{i, j in Natural} [forall_{a_{1}, ..a_{_a}.., a_{i}, b_{1}, ..b_{_a}.., b_{j} in Complex} ((a_{1} * ..a_{_a}.. * a_{i} * 1 * b_{1} * ..b_{_a}.. * b_{j}) = (a_{1} * ..a_{_a}.. * a_{i} * b_{1} * ..b_{_a}.. * b_{j}))]"
      ]
     },
     "execution_count": 22,
     "metadata": {},
     "output_type": "execute_result"
    }
   ],
   "source": [
    "elim_one_any = \\\n",
    "    Forall((i, j), \n",
    "           Forall((a_1_to_i, b_1_to_j), \n",
    "                  Equals(Mult(a_1_to_i, one, b_1_to_j), \n",
    "                         Mult(a_1_to_i, b_1_to_j)), \n",
    "                  domain=Complex),\n",
    "           domain=Natural)"
   ]
  },
  {
   "cell_type": "code",
   "execution_count": 23,
   "metadata": {},
   "outputs": [
    {
     "data": {
      "text/html": [
       "<strong id=\"mult_zero_left\"><a class=\"ProveItLink\" href=\"proofs/mult_zero_left/thm_proof.ipynb\">mult_zero_left</a> (conjecture without proof):<br></strong> <a class=\"ProveItLink\" href=\"../__pv_it/theorems/4ba9d20156a8f2d87f80851769fdc33c1468739e0/theorem_expr.ipynb\"><img src=\"data:image/png;base64,iVBORw0KGgoAAAANSUhEUgAAAJ8AAAAUBAMAAABhQvLIAAAAMFBMVEX///8QEBCIiIhmZma6urrM\n",
       "zMxUVFQiIiJERETc3Nzu7u6qqqp2dnaYmJgyMjIAAAAcRTyBAAAAAXRSTlMAQObYZgAAAjtJREFU\n",
       "OMuNlU1oE0EUx/+ku91ks5v2oPelhR4KQkC8eSiKlJ66Fz9uDcUiXqRXqUhPZYMKvVWokK2FVkKh\n",
       "C+KhUmhY8RKhRhC0ohgQBL9KqChqe3De7GRjZmeDAy/M/ubln31fE6DXyjUiS6wttT/hJm3epQg+\n",
       "iMw68VQ66F9M+IZvXY6f0cPnFMFPkX3BuiRgNmXXQmBe5/guRTav1rOL3OxBWLJAKPu+AHY5Lvgs\n",
       "pEAtaCxyy5aQ/yMdrci+C8COT9iuV6tLKREvRTZQgnYoRzgmgZ/AZMDxL8+7kSI4HNlmEdpBnL2h\n",
       "q2dYYFZRSup3JuhwPAOUUwTvRFapQY8FN/DKuckC40nd3af1gcpwBEw5HJ+VSpa/fWVabOciqxSh\n",
       "H9FbEKvjuT/BvGaljmVvOFXj2ECm3brm9smGecnXv4rnY5G1Q96kH/bh0ZHeUoZM2GoYbfp6qwr7\n",
       "HrDdLciKkqeiGCVOD1SCVJSdgONc8wL11akRV6NEn3vEUHfI2XnYnbbRf9CnNtvJ4Ufasvd+70e4\n",
       "fBnI+NeMsQIdvNlLFKWrsR9nWhhtFyXR2Bw/ZKo6vgGr/Av/zP0TYXNYcQXSDrMtui76avIQBOZx\n",
       "gQccAr+Bi57nOcvnO07jwjaGZuLkT48O01VScCVBMxxxBbZ9nmQd/XTQd1/0R2f0VGsdvXHFalqw\n",
       "SD532o0nX1wOqhWiN157GdaBW3wU9hficMpIGaPk9aXEGZZD1QWbXFl1IlLwf/wF7Kn9Gf4LYK2v\n",
       "laO+YRYAAAAASUVORK5CYII=\n",
       "\" style=\"display:inline;vertical-align:middle;\" /></a><br>"
      ],
      "text/plain": [
       "mult_zero_left: forall_{x in Complex} ((0 * x) = 0)"
      ]
     },
     "execution_count": 23,
     "metadata": {},
     "output_type": "execute_result"
    }
   ],
   "source": [
    "mult_zero_left = Forall(x, Equals(Mult(zero, x), zero), domain=Complex)"
   ]
  },
  {
   "cell_type": "code",
   "execution_count": 24,
   "metadata": {},
   "outputs": [
    {
     "data": {
      "text/html": [
       "<strong id=\"mult_zero_right\"><a class=\"ProveItLink\" href=\"proofs/mult_zero_right/thm_proof.ipynb\">mult_zero_right</a> (conjecture without proof):<br></strong> <a class=\"ProveItLink\" href=\"../__pv_it/theorems/2f041be8027055c8503203c2ec1ca0cb3b9c937d0/theorem_expr.ipynb\"><img src=\"data:image/png;base64,iVBORw0KGgoAAAANSUhEUgAAAJ8AAAAUBAMAAABhQvLIAAAAMFBMVEX///8QEBCIiIhmZma6urrM\n",
       "zMxUVFQiIiJERETc3Nzu7u6qqqp2dnaYmJgyMjIAAAAcRTyBAAAAAXRSTlMAQObYZgAAAglJREFU\n",
       "OMuNlU9oE0EUxj/SbLeZ7G4v7T1YyEloQbwpFKR47F6qvUWK4k1Kb2IPnsoGFXsQKljpNoUqQXCh\n",
       "eIgEEuItQojQQ1sqLhQKLVoKgqh4cF5nk/2TmbQPPpj5zcxj35s3b4F+lmkL9VhFvp+wT4OvCodv\n",
       "A8WssW9jcBkq/JkmxwqHR4GiZnnsIZgPFX5JkT2W+zMnhGL2BWjx74EKWy5geHKH+rJQzJaAmot1\n",
       "qLDZLJdXFBGvBIrZL2DagzWpxL8dZ1HhcCxQKf/ici5g7Cc/mYORyEQE3wOKCofPhFjdXNA7t5D5\n",
       "BxRyMM/mrROygzi+kbiy7NP7c8HwkZDhGn/TlEpGJ/mnFOrIzicqNsQ6Up3SZdUrbTbrat+D+YgQ\n",
       "w5Aog/d+NzbtVBoyYaOtd+hOpQxzFajGHQLDIoP6HZH9mtfjMIIz/i2q86t5O02JnvrAUTxkHowd\n",
       "nnSAby7S82EODxO4eBdIuQ/0SYsW9nZ7LiXrjvMN8Qo2fWlhn+Et7lXDD2CDFj5G3v0noWnvOV6H\n",
       "1e6xUWCgnnwEIRYJ+gPcdhwn92om3HRTaPNS6XrYclgjzxNg2QmHEWxSNNqphkFaGCiJ8lA+PWFv\n",
       "0B+vGb4Bg9xnrtndly9tDkGzQn+8ud1oAk9o+O5kqRtOEYpn1Nu+pDjFc3h+gyUbkidCgS/wC9iV\n",
       "7+f4P15yr3d25BTNAAAAAElFTkSuQmCC\n",
       "\" style=\"display:inline;vertical-align:middle;\" /></a><br>"
      ],
      "text/plain": [
       "mult_zero_right: forall_{x in Complex} ((x * 0) = 0)"
      ]
     },
     "execution_count": 24,
     "metadata": {},
     "output_type": "execute_result"
    }
   ],
   "source": [
    "mult_zero_right = Forall(x, Equals(Mult(x, zero), zero), domain=Complex)"
   ]
  },
  {
   "cell_type": "code",
   "execution_count": 25,
   "metadata": {},
   "outputs": [
    {
     "data": {
      "text/html": [
       "<strong id=\"mult_zero_any\"><a class=\"ProveItLink\" href=\"proofs/mult_zero_any/thm_proof.ipynb\">mult_zero_any</a> (conjecture without proof):<br></strong> <a class=\"ProveItLink\" href=\"../__pv_it/theorems/146c423337ff0476173f26fb5b2df728dfc627a40/theorem_expr.ipynb\"><img src=\"data:image/png;base64,iVBORw0KGgoAAAANSUhEUgAAAhQAAAAZBAMAAACbVaohAAAAMFBMVEX///8QEBCIiIhmZma6urrM\n",
       "zMxUVFQiIiJERETc3Nzu7u6qqqp2dnaYmJgyMjIAAAAcRTyBAAAAAXRSTlMAQObYZgAABYtJREFU\n",
       "WMPtWW1oW1UYfprkNsnNvWl/KNIVIa5aBiqE9cd+uEm1aPGHmk50EwYNYUMmdQTEVruhpcJInYOr\n",
       "4lanstsVrXa6hEmZlW0NjRuoIBH8sY2qAfWHm5TRjeGyOTwf9yP35vbeJI75+cJpzj3vc8695znv\n",
       "ec973gJe0jz0Av79Ehja4Q0K4r8he/6n4i+nIlzk5cbKrGNrROFUlOjPd+5UeGLqlw+00pDMLyTM\n",
       "gW6p4WU6plmxq6S7TwBbORVf0Z+z7lR4YuqXX7TSiERzYoUn/7GGHjpGLNk15zCl4BCnYpxa64g7\n",
       "FZ6YukWO89KQfAN8bT5dqaGHgZm3f0crpBKkGKMiqhIryblT4YmpW4IKLw3JTmBONU7Bcg0npYGZ\n",
       "sGlCSUTKEFsZFfKX09N7PdymJ6Zu2auVhuQS8KixMFLau4OJiXZbNS1JBIjJ/MRPkN8ymR1eJ4gX\n",
       "pm7p0Ep47eoV3qeNFSReIFTEjMmlOjzt1cRItk2ZjSOwBBQ4FVuAMcDHMT87U8ExHla4WFsbk91a\n",
       "uU+Jngc2uo/MQR0GM1eBfoOK7FnxMgR3R8YwiJJjR6Z+U1pkQme8Pw+BUPE9p6KH+VWBb1xOnvDs\n",
       "57gtWUFFj4PvrZKCV1vk1adSWnU7L+Kt8I/gsTV8tR36U5fAQXhSx4SJVfTnNSX1GktCV3q5AUQd\n",
       "Q15PP8G2nfbHIRBmj3AqgvBZQp2DhXX4VFL9agUVdoyjnHNpE492FcWNqvCr9nwTL/4ygmR9e/na\n",
       "VbMtXoMBMjD6BmFK3AvxKgLpZQbgbQzDF/m84wbp51RIRUs8Ke/ap+JYLC5VbhAbxlkuu7Sdmp2G\n",
       "/A5w1EpF0wiyCZ2KYLK6/yAMkIkhbnMupylJyED8HqfCaQDWxjCOVBC3GbliUBEuPUE2dSdbBOJd\n",
       "emhlZuZ1CxUMg8nOalcirt6mfaaw1KnatXpbgO7LB2bIQNYNks1jDjoVy+50BrrfnGcG+MF41e/U\n",
       "agLuxwjDHLiHfkja9BV0wNAI5DL/AHoHGdtMtC10bH+gxIPsGenjTZY7CMWIzwmk19PWt0wl+lVE\n",
       "ac03TFyvTcvaSLTLAGdOV7nNbA7byA3AgwoGypedQ6yLmCh6UcEw8Ueguc2qEEt3m/iEjLOPOg58\n",
       "KCVFdpLMIF+wUEEx/riQxibb2deFDZpvCsXkkl1L2+jvJP3z2azVnRaYflCyWAVzBtd0N6EPMiiF\n",
       "D5qzDebEm42HZ/AyKqlg/YxRTIyonKSLnbextB0TxKrXalS0UJ80yt9aFJ7PZEYJFe8GLVRQTFPO\n",
       "R2xq2DpUOzq1WlO3P2nXsjYiGzKZTOztx01FLy9i6o49t1uoYHt7UHcTfHIMFIqZs53vNK9jk3cV\n",
       "LVSwfuYoJoZZYjRho+KjlVu0GIJSIZO9IZYZpkVBkltFYL2FCorJKqEzqm2y5LzePR1ZyfqqTTk7\n",
       "FbRNXiA3QvrgP2Ced9bAu7eGoCz7nltMU0PIyVz4lKNGTFfkKyKlfPgVoA84QR+/BRaq8hVNSv/D\n",
       "1CoIcFzV/7QJF4sR4mrH1aB6itmMqeNtb5LXSwkWNCaM65D1Onakhokcl1yUkRqoEFodrmNaDBqr\n",
       "oEIcUIR2YBXZI+SYCrzYzRfSQkUgdXgdnSwB9ilCG/3Tjgfv7CjSYLQvJwzkGRWk1qYBeBs9k3Yx\n",
       "Y1zcadjnGMwA9o2XUt4zef8Ll8h8zaWY5wC+ESwXKB6yZ7Ei3GOsyoy6ZbGGedhmdGH21a3HqcNG\n",
       "xGrGrjTb4SO+4vqlbhoS6mxCzpfhMTsVs80PrfBM6K2/kKtIi2m1lKolxag2olgTZc45nxue0Nv8\n",
       "GnF3p52TJ4qdimLzSaWm3GbRoSYvVwu/VcLfQQa2Xoc075/7P4hcUPAPkMDQ4B+sz6q4xkDIvQAA\n",
       "AABJRU5ErkJggg==\n",
       "\" style=\"display:inline;vertical-align:middle;\" /></a><br>"
      ],
      "text/plain": [
       "mult_zero_any: forall_{i, j in Natural} [forall_{a_{1}, ..a_{_a}.., a_{i}, b_{1}, ..b_{_a}.., b_{j} in Complex} ((a_{1} * ..a_{_a}.. * a_{i} * 0 * b_{1} * ..b_{_a}.. * b_{j}) = 0)]"
      ]
     },
     "execution_count": 25,
     "metadata": {},
     "output_type": "execute_result"
    }
   ],
   "source": [
    "mult_zero_any = \\\n",
    "    Forall((i, j), \n",
    "           Forall((a_1_to_i, b_1_to_j), \n",
    "                  Equals(Mult(a_1_to_i, zero, b_1_to_j), zero), \n",
    "                  domain=Complex),\n",
    "           domain=Natural)"
   ]
  },
  {
   "cell_type": "code",
   "execution_count": 26,
   "metadata": {},
   "outputs": [
    {
     "data": {
      "text/html": [
       "<strong id=\"mult_neg_left\"><a class=\"ProveItLink\" href=\"proofs/mult_neg_left/thm_proof.ipynb\">mult_neg_left</a> (conjecture without proof):<br></strong> <a class=\"ProveItLink\" href=\"../__pv_it/theorems/7daecd1840db9a3cfd79f64fbc3b711c9219190a0/theorem_expr.ipynb\"><img src=\"data:image/png;base64,iVBORw0KGgoAAAANSUhEUgAAAR0AAAAVBAMAAACJYCeRAAAAMFBMVEX///8QEBCIiIhmZma6urrM\n",
       "zMxUVFQiIiJERETc3Nzu7u6qqqp2dnaYmJgyMjIAAAAcRTyBAAAAAXRSTlMAQObYZgAAAyZJREFU\n",
       "SMfFVk1oE0EYfU032WS7SYvoxdPaQOlBaFDqqdaqaG82PfhzayiKeJEiKkgVioeSomIEocUqrhVU\n",
       "itiAiFR6CO2tXgJ6sKKyBz0oWoIo2ILizP5kvtluN6kXH7wlebvvm29nvm9ngDqQKAtSNBVQQ4Df\n",
       "dCco/iyhxYX34fk8IpRwqqbgM2kjQfFjBcGXXPgSns9nQglPago+U6oQFF+zBCf4lI6EppPMCMrQ\n",
       "jVqCz/QqeIR5wZTJohRD81ELgr4Xa6kl+EwXgke4J5hcnJ4eD1+ucUIfPtYUJFNiKHiEVI/gr3z+\n",
       "Yng+aUIPU203t7O1WRDCDiS2UoGYq4hkhNWZz7SBGyZ0pns8AYyF53ON0ItTSp5RWfV9qCqlvYhU\n",
       "XEFftpGBbALiZWF16k1pQQdbJEtwv13Wa9B09eSg+3OY0Itj6qsKq4zndnJ8JYrdiI+4AsWwVExF\n",
       "YQUrXEw2WsizwYYEVUR8nzltbmdZO2ZGv7r/NwtqzptnNXtwYIBfZnirYhOaDVegICagoYc/6Vi1\n",
       "PzynBgPfgWhFUC+rvhBvZqeRvA3Mrc1HoNmo5qPm2EVZxUA2OB8Bno9nxXl+6TOjP+V8EtYR3vmd\n",
       "bSya0gbVVPi6H3jG7qy/XrAHB3qr/9nEb/MEt35ygevlWR10I8I+EcqQIMaOs8I3T6ssd73Z7EeK\n",
       "P/d2KbSem8wO5qH1HM9hFFQgZqmePauDUW6U6hlPWVJRfON3b/WiHff5rxezIsoCoYu+4nV7a+wS\n",
       "85NTfksCMYs2yAirg13oYzk2lgTd5Vyxb3dhEEfz+bwxeVhE6SV08aB1ajfvgk+iCQbTK5JAzFXw\n",
       "9fCsXqA9rNdSWUEk+eRFK1F++yy2IGa/7pTTxzX2C/q9bbR8Qn37RTfjQ0Ibd3VLx4SJc0oFOk8y\n",
       "0ZW1d7i699PTmOnZ+H4as7Qf8n7qTtvr+UX0F3Gwnb3kFa48Xh6ttsEY4XrHi0u4HHzekExx3xSr\n",
       "5bghnzcoilqBd0CE1U995zEy1r50FoE7T+h5TGntdLP0KJ02Y6VDGzmvJv0Flfy38+oSIY0G5V0J\n",
       "/xd/Ae/ACvM7xq2kAAAAAElFTkSuQmCC\n",
       "\" style=\"display:inline;vertical-align:middle;\" /></a><br>"
      ],
      "text/plain": [
       "mult_neg_left: forall_{x, y in Complex} (((-x) * y) = (-(x * y)))"
      ]
     },
     "execution_count": 26,
     "metadata": {},
     "output_type": "execute_result"
    }
   ],
   "source": [
    "mult_neg_left = Forall((x, y), Equals(Mult(Neg(x), y), Neg(Mult(x, y))), domain=Complex)"
   ]
  },
  {
   "cell_type": "code",
   "execution_count": 27,
   "metadata": {},
   "outputs": [
    {
     "data": {
      "text/html": [
       "<strong id=\"mult_neg_right\"><a class=\"ProveItLink\" href=\"proofs/mult_neg_right/thm_proof.ipynb\">mult_neg_right</a> (conjecture without proof):<br></strong> <a class=\"ProveItLink\" href=\"../__pv_it/theorems/83b4c31c5cb3e9bbd0e99d240e9c1673dde06ae60/theorem_expr.ipynb\"><img src=\"data:image/png;base64,iVBORw0KGgoAAAANSUhEUgAAAR0AAAAVBAMAAACJYCeRAAAAMFBMVEX///8QEBCIiIhmZma6urrM\n",
       "zMxUVFQiIiJERETc3Nzu7u6qqqp2dnaYmJgyMjIAAAAcRTyBAAAAAXRSTlMAQObYZgAAAy9JREFU\n",
       "SMfFlk1oE0EYht8mm7/tJi2iF0+xgdKD0KLUU61V0d5sevDn1lIU8VKCVEGqUDyUBBUjCC1WcY1Q\n",
       "pUgNiEilh1Bv9RLQgxWVPdiDoiWIghYUZ3ZmOzO72bXtxReebHZ232+/nflmZ4B1KFFlqLqjnjYW\n",
       "GfXMviamOQmLNrwPzuchR5E+5mo4w6lj9jfZihYFL2nD5+B8PnEUpdx9McupY/Y3sSwtwSTt0rHA\n",
       "dJIdDFWv3A1GmuE1B5iYFgQpk0QpB+YTKzJUXfC8ZTPDaw4wMd0TJBdnZiaCh2uCo5ZpznPfR47H\n",
       "HGRiw9gj+JnPXwzOJ8Mptd7cuTYeIWkcSruQ2A68AMNjhmKSw+iZNG6YMEi7wymgEJzPNYZeSZ6N\n",
       "WU5jXJrGlf0I1YAPYMBYsdXhmCGblDCG1ox2MkiW4KBd1h41Xj09xP+OMgzTWNVoNZh2XYiaS5S7\n",
       "ESdT4hkYikaVYiq7wkyFLeTJw3KCGEKuT50+v7uqnzAjX/j5VoZuP5Qc/9DfBjLUs3Y3LOvYgiYy\n",
       "AgNgKKJG1l1ZZlLCmA1pfAMiNYFRjblCvJmbQfI2MK/mA/uhROedfBxpqxjI+ucjxExymD4z8kPN\n",
       "J2EdozO/s5VE1FoRMzU67oeekivqeMF+qNz1jkin7yCHXo5TP4N1x0sN040Q+URoOQEKJ0nhm8Mx\n",
       "krvRZPYjRe97u+Sp50azndxXr57jgxiHVM/uyaDUsxpmnJqVesYTklQEX+nVW71ow3367/mciMLn\n",
       "cV/5urQcGtJ8Dw9qv8mhi6NI+QBQkxpmD/pIjuGKgA/nL/tyF4ZwPJ/Pp6eOiih8HKZbSntFp2jS\n",
       "p00fylD7MkdRr3xCTWqY6ZZ9ZK6lsgIkaedFahF6eQTbELVfuURnwrrXizBdDXOMDa4X3YQHErbu\n",
       "GpaBSRPntBoMmmSiK2uvcOtaT4fxuGdz62nU0r+r6ynvttcLi+gv43AbedErtOXRyvjaNCigzjc8\n",
       "Ll78Ei777zcKPibWe9V4Wt1vyCrrRToDQqR+NrQfO5DJ+mX9j/2Y1tLJs3RQdpzRypFN71eTRcYm\n",
       "9qtLEnJEaO8q+L/6C6weDFvtgz5oAAAAAElFTkSuQmCC\n",
       "\" style=\"display:inline;vertical-align:middle;\" /></a><br>"
      ],
      "text/plain": [
       "mult_neg_right: forall_{x, y in Complex} ((x * (-y)) = (-(x * y)))"
      ]
     },
     "execution_count": 27,
     "metadata": {},
     "output_type": "execute_result"
    }
   ],
   "source": [
    "mult_neg_right = Forall((x, y), Equals(Mult(x, Neg(y)), Neg(Mult(x, y))), domain=Complex)"
   ]
  },
  {
   "cell_type": "code",
   "execution_count": 28,
   "metadata": {},
   "outputs": [
    {
     "data": {
      "text/html": [
       "<strong id=\"mult_neg_left_double\"><a class=\"ProveItLink\" href=\"proofs/mult_neg_left_double/thm_proof.ipynb\">mult_neg_left_double</a> (conjecture without proof):<br></strong> <a class=\"ProveItLink\" href=\"../__pv_it/theorems/97d512d1bcc0c3ca6e0e2920088c9e497c31a8c30/theorem_expr.ipynb\"><img src=\"data:image/png;base64,iVBORw0KGgoAAAANSUhEUgAAAR0AAAAVBAMAAACJYCeRAAAAMFBMVEX///8QEBCIiIhmZma6urrM\n",
       "zMxUVFQiIiJERETc3Nzu7u6qqqp2dnaYmJgyMjIAAAAcRTyBAAAAAXRSTlMAQObYZgAAAyVJREFU\n",
       "SMfFVk1oE0EYfaabbLLdTYvoxdPaQOlBaFHqKdaqaG42PfhzaymK9FKKVC9VKB5KiooRhBaruFZQ\n",
       "KVIDIqXSQ2hv9ZKDBysqe2gPipYgCragODPfJJvsbpa0Fx+8ZOftvNlv5/tmZ4A6ECsQgxSgMQuv\n",
       "4BHhNQosSNq88Sk4nueSQQrDoJ8w6D+cB5Es8S1vfA2O54tkkMIw5yfM+Q/ngWYTp/gEjgWGY3QQ\n",
       "gxQO3fQRPKKPUWCJGLeYJxcYj5olBiniFZt9BI/oYxR4TDRWZmcng9M1KRmkCKz5CWt+w/kg3k38\n",
       "nclcC44nIVlbmWm9d4DlZdkRDiK2j4Rlv+GkgWYxYeKuBZ2lkfMiMBEcz23JmoqWNy6rrBY/l5X8\n",
       "MYSKJAhR3xDokOaSgapMaUY7S5RNPCHK2oPGW5cG5OWopAOXolv6lsKqYp43LL5Acl2IjpEw7x55\n",
       "1DGIztMNNjLsgcNEFSHX90lbPFTQzlvhb7K9h6jRO6a9iiYeDvRx81/+g91oMknoc8fDjdIgOlu7\n",
       "TPwAwkWiXlBdhvcLszAeAIvV8VQPWa00maV4cJX/KFvoS9eOp2Sgzj1W+JcTT8w+y1d+ZyvzK61Q\n",
       "LYVn+eRrdqfefEE8HEiV2ywF+6WQqqif/pJZGghdCLGPgjJMxMQFIGQNqWyt6U1WL+K8z4fVbdRz\n",
       "o9XORqis52g/xlFRzy5zyUAY593L9YxXLKgwvvM791NowxN+9WbBGcC7al1KT+4OHrL/pDM//cof\n",
       "KSTd8Sw7BsJh9LAKbsgTZSo3xa0kBnAuk8mY02ecAVJVqfBRnrbMHOFrYt1ZEgOJTSmsu+NJOYaS\n",
       "/Shba/E0EQafuHAxzG+NYC8i4gVn+CrY5n4xXNFosEmoEmvtF12MzyQFHum2jikLV5QidB5kLJkW\n",
       "O9wO99MhvOyudz+N2NpPZz+VU/ZuaQW9OZxqY691kysvNsbLS2AC7m+4V6k+WlzHjdrnDZdRLURN\n",
       "57xRiZyWjbK0hlj97OQ8VvGc44l0rag9RqWlk6/ILLHqfBnJn975edVw1wUXjHrPq6uSlX4oH/P4\n",
       "v/gHz1EHBtgZwoYAAAAASUVORK5CYII=\n",
       "\" style=\"display:inline;vertical-align:middle;\" /></a><br>"
      ],
      "text/plain": [
       "mult_neg_left_double: forall_{x, y in Complex} ((-((-x) * y)) = (x * y))"
      ]
     },
     "execution_count": 28,
     "metadata": {},
     "output_type": "execute_result"
    }
   ],
   "source": [
    "mult_neg_left_double = Forall((x, y), Equals(Neg(Mult(Neg(x), y)), Mult(x, y)), domain=Complex)"
   ]
  },
  {
   "cell_type": "code",
   "execution_count": 29,
   "metadata": {},
   "outputs": [
    {
     "data": {
      "text/html": [
       "<strong id=\"mult_neg_right_double\"><a class=\"ProveItLink\" href=\"proofs/mult_neg_right_double/thm_proof.ipynb\">mult_neg_right_double</a> (conjecture without proof):<br></strong> <a class=\"ProveItLink\" href=\"../__pv_it/theorems/2b67e84ee730f8354ccc7aa442f818cb52aed77c0/theorem_expr.ipynb\"><img src=\"data:image/png;base64,iVBORw0KGgoAAAANSUhEUgAAAR0AAAAVBAMAAACJYCeRAAAAMFBMVEX///8QEBCIiIhmZma6urrM\n",
       "zMxUVFQiIiJERETc3Nzu7u6qqqp2dnaYmJgyMjIAAAAcRTyBAAAAAXRSTlMAQObYZgAAAvtJREFU\n",
       "SMfFlk9IFFEcx7+tszu74+wqUZdOmwviIVAKO5lZUd5yPfTnpkgRXUSiulQQHWSXijYIlCyaNrCQ\n",
       "sIWIMDwsdrPLHjpkVMwhD0XJEgUlFL1/u++9Ud6YBf3gw8z7vt/vzW/ef2ANlqhwdAUmobEgQYgv\n",
       "sxmBTwtvzfk8EOiKWTipEOZLLVbgvKCFj+Z8Pgh0xSxMK4T5UnN8zjjtwIvGdJIdHF2BUYCbloT5\n",
       "MpvjpDwSUzLmYxc4ugKjAKdZEubL7C4nOT81NWYerjGBrpgF4L1CmC+1VA/ney533pxPRqArxdYb\n",
       "29KqULPidiS2AM8hMQY7mTSue3DJMFKOA3lzPlcFmuKUk6dsX3WpWXkPIlXgHSRwl5h1rBbsWs1o\n",
       "JwPlc/axab3CGq+cGBKv5wTSSMn13GWLzgQPenWi1I04WSBPITEGTzT4yJEPjnBsRAL7kzO7o+Ic\n",
       "9aKfRHkTx+H/mBUl9lHy/FVzmWbViw42oomMxQAkmgWDvQ1pfAGiVY5bsQMBr2amkLwFzOr56E2C\n",
       "fZTYWQSqrWUMZM356MF9XvSbzCfhH6Yrv7OVtGG1wvYsOsr7n5Aa03iBfVQThJHu30oevQq1+TO4\n",
       "anA3ImRTsEY4yB8DIt6wTdaa2+T1I0V9Xi+EzOdGr51ErTaf44MYRWA+G4NHaUh9PuMxSSqKz7Tm\n",
       "Zi/acI++PZuRDaxctaTUV7qG25pLvX8GrZ/k0aVgDt6JPjKDG8ocMZQ/WFUXhnAkl8ulJw7JBuq9\n",
       "riqTLcVdFc2lvhyGMrSxRQVz8GTLbrLWUlkOkrTjotUorTqNzYixnyzSVbDO86KBno0jktDzoptw\n",
       "X8Dsjuu7GPdwxqrCpUkmurLshFvHeTqMRz1/cp7GfOerPE9Fl72cm0d/CQfayK9dpsrDpdH6Esgj\n",
       "uIev2NEV4QIume8bgWC7Ek/L+4ZqJacQJ8MaIfPnL+5jezNZ5R/yofcxq6WTrsoCR7tjxsoH/9F9\n",
       "NVmQrOm+uiBQ24D1poz/a78BV5IHUSDutVIAAAAASUVORK5CYII=\n",
       "\" style=\"display:inline;vertical-align:middle;\" /></a><br>"
      ],
      "text/plain": [
       "mult_neg_right_double: forall_{x, y in Complex} ((-(x * (-y))) = (x * y))"
      ]
     },
     "execution_count": 29,
     "metadata": {},
     "output_type": "execute_result"
    }
   ],
   "source": [
    "mult_neg_right_double = Forall((x, y), Equals(Neg(Mult(x, Neg(y))), Mult(x, y)), domain=Complex)"
   ]
  },
  {
   "cell_type": "markdown",
   "metadata": {},
   "source": [
    "### Theorems for the NumberRelation class"
   ]
  },
  {
   "cell_type": "code",
   "execution_count": 30,
   "metadata": {},
   "outputs": [
    {
     "data": {
      "text/html": [
       "<strong id=\"left_mult_eq\"><a class=\"ProveItLink\" href=\"proofs/left_mult_eq/thm_proof.ipynb\">left_mult_eq</a> (conjecture without proof):<br></strong> <a class=\"ProveItLink\" href=\"../__pv_it/theorems/c923cb2afe8c3e5f79c364ae305a238c2f48724a0/theorem_expr.ipynb\"><img src=\"data:image/png;base64,iVBORw0KGgoAAAANSUhEUgAAARkAAAAWBAMAAAAGH/VFAAAAMFBMVEX///8QEBCIiIhmZma6urrM\n",
       "zMxUVFQiIiJERETc3Nzu7u6qqqp2dnaYmJgyMjIAAAAcRTyBAAAAAXRSTlMAQObYZgAAAyVJREFU\n",
       "SMe9Vk1oE0EY/ZLsZtPNJu1BL4KwtBp6EBqUemprRbQnbXrw59YSFPVSithe9NBTSVBxBbHFKq4t\n",
       "VCligiJSKRjaW73swYMtKnuwB8WWIArag/jNT5L9mZhASh+8/fveZl5m3uwMwDagyWL0IWqIxT4s\n",
       "cNrk5lNjbp5y+nFZLPYhbDC+IzffGnPzldOP52KxD6rNOEU6b7whM7EkowCaLhILsMQYN/GdfENu\n",
       "FINR9J9bRGIBHjPGVubnJxsbqElOEb6IxALEexl/ZzLXG3PTxtnUdXBP+eFM4u4BHKZlkdgpVNt0\n",
       "uGOChgNIeAEgW0eTvdVLtziPGvFiuZFC7IqCsfxM07NJkQSBUJNaoAOHyGY8RsNcDdGbF9P04j9B\n",
       "v8ao7oUQVZmkEVPbkjAirwVil3A6ZEMG2xlhVCBoiRO4eMhSz5ny91pudjGGtkAhU0j9Sw4QoW8M\n",
       "CsQuoRnQ4QeAXGTULEXcyIeFeYg9AFis001gHHIpcj9Gnzbr1dy4hf2m/Kvipsk+g89mE+t02ncm\n",
       "UCclQDElMszHX6HA4YbVCajGNVK5Arx1NDtIhX2O3AyBSNgDQfwMSCOMkD2PnTYqb+Fl0BxWMK5a\n",
       "szkAcSJdWy29RN3Q+qUMwqIaV4pzeRguL0xRswPVPMWeyLuEMAGRoUqK4SVaCiVlYkyGDSK43wft\n",
       "MEuu3iy43PB6WcOwzBjRY2Naqdyfvw0P8dzldeMVwmHox9yGCox0gAP5IO1H+EOPXZCGs9gD+vRp\n",
       "l5tSvaRh6GNU0/vv7StV51pnusnkWPe68QpReQT7KZ5ihBh2aM6IrJEUyEWZKK7CbgiTi9AMmR4V\n",
       "N6Q+TDJgUU3tlWGkjpWhB/mEkyJgDJ6EKfORZmt4glGpCFqKfjVTdEHjbmidg2i2YdUM2+rPyqrJ\n",
       "Z0j6RTcM5OfeL63gCU60Y6BukMKzzYlUxQ2tc1ANQxaqfc8FOwqPULEiemVH4QRfyvOqEcExD2Ju\n",
       "KjXv94Zpau22sjV3W1JrJx4jBqN/3xg1woVTvh/xunFqqu5EY/XuRFc5ne+WTtLHQk03Is3OIbkT\n",
       "jfwDi2L/baMxXb8AAAAASUVORK5CYII=\n",
       "\" style=\"display:inline;vertical-align:middle;\" /></a><br>"
      ],
      "text/plain": [
       "left_mult_eq: forall_{a, x, y in Complex | x = y} ((a * x) = (a * y))"
      ]
     },
     "execution_count": 30,
     "metadata": {},
     "output_type": "execute_result"
    }
   ],
   "source": [
    "left_mult_eq = Forall((a, x, y), Equals(Mult(a, x), Mult(a, y)), condition=Equals(x, y), domain=Complex)"
   ]
  },
  {
   "cell_type": "code",
   "execution_count": 31,
   "metadata": {},
   "outputs": [
    {
     "data": {
      "text/html": [
       "<strong id=\"right_mult_eq\"><a class=\"ProveItLink\" href=\"proofs/right_mult_eq/thm_proof.ipynb\">right_mult_eq</a> (conjecture without proof):<br></strong> <a class=\"ProveItLink\" href=\"../__pv_it/theorems/9364178d752ed3db8fa5b7bd0d6367bfef49c14f0/theorem_expr.ipynb\"><img src=\"data:image/png;base64,iVBORw0KGgoAAAANSUhEUgAAARkAAAAWBAMAAAAGH/VFAAAAMFBMVEX///8QEBCIiIhmZma6urrM\n",
       "zMxUVFQiIiJERETc3Nzu7u6qqqp2dnaYmJgyMjIAAAAcRTyBAAAAAXRSTlMAQObYZgAAA1NJREFU\n",
       "SMe9VktoE1EUvflMJp1M2i4UVBBiq8GF0KBUXPQnollp04W/VUNQ1E0pxbrRRXFRElQcUWyximML\n",
       "VYqYoIhECoZ2VzezELRFZRZ2oWgNYkGrC+/7zOQzL6YY6YEzb2buefPOvHffB+A/oM5gdCCgicUO\n",
       "ZDlN8vCuNjcPOJ04IxY74NMYX5KHT7W5+cjpxCOx2AHFZBwlnTdUk5lghFEANSQSCzDDWK9jnUxN\n",
       "bmSNUfTPjSKxAPcYg3NTUyO1DdQIpwgfRGIB6rsYfySTF2pz08w5Hr6xozAy12e3YLfPCsRKcwiu\n",
       "6fYca9u5CYcnwngSILWKJrsqh64wKrnggGxaL70b4SsW72n2LFFEuFj1NkKLXXuvVp/HITIZ99Fk\n",
       "roTA5VMJevOXRD/PqOrqipdkhUITwYA9WDwTiMc8JiQtnbIZPPjtQD+jDG5DnIHTuwzlmC59ruZm\n",
       "HaMCfiZKk7/r1GEAi16BWHeF4Jul86yAjMMr5RlVQxY38iY7BcHbANOrdAPQwLJGjuNlAyjLFdxA\n",
       "ty4tWzrXEKRjBTd15hF8ORFepNO+NYwhbxhk3UuGef9TFBS5YXGaF0RTMlLYdKzQsb8hgB+HaFHe\n",
       "xC1xB7jtmZ/OwQvyuX5GSJ3AyoPSCt669T4Z01Vt0HugnmgX5q1a1A2Nn04iDKopyeKA3oICy80v\n",
       "8JlZnsXlKT8M/rjtJgN9uJ1ZWQxP0JInIhFjEnwhiltR2A4T5O55tsQNj9sahlnG7sxVuGO3ehFe\n",
       "x3MAbeVuiHg3dNup6g8Fz6loIMdIR9uVcTO3P+m1DRJwFHsgNHa4xI0VtzQMUcbJpvH2wnyYbDqe\n",
       "wG5eLHcTpbFOe0VWEttubsWVL8YIQezdtOZfIJ0s5SUiOQvrwUduPON8InI3JN5HcsCgmuo7Q794\n",
       "Z+gof32fk8Kl9R6EUf2uaqpYwKA3D2qMLpQxuqFxNzTOQTT/tmv6TOV7hV2Tz5DE43boyUy+mpnD\n",
       "Ag5sx4S6RAIPl4ZjBTc0zkE1DCmotJ4LThQpkA1/qMKJohh8K88omh8TwI15U4iVrzdMU+20lRKd\n",
       "trxNreUv/Rqj89wY0Hy5Q46PlLsp1lQ8iQZXexKd5yyuaxXet7mqbkSatUNkLRr5A7sBAw8KNKzp\n",
       "AAAAAElFTkSuQmCC\n",
       "\" style=\"display:inline;vertical-align:middle;\" /></a><br>"
      ],
      "text/plain": [
       "right_mult_eq: forall_{a, x, y in Complex | x = y} ((x * a) = (y * a))"
      ]
     },
     "execution_count": 31,
     "metadata": {},
     "output_type": "execute_result"
    }
   ],
   "source": [
    "right_mult_eq = Forall((a, x, y), Equals(Mult(x, a), Mult(y, a)), condition=Equals(x, y), domain=Complex)"
   ]
  },
  {
   "cell_type": "markdown",
   "metadata": {},
   "source": [
    "Note: proving left_mult_neq and right_mult_neq for the complex domain is a bit more challenging than just real numbers, but should still be applicable.  Using a polar coordinate representations, such as $r \\textrm{exp}(i \\theta)$, makes it more clear.  Suppose $x = x_r \\textrm{exp}(x_{\\theta})$ and $y = y_r \\textrm{exp}(y_{\\theta})$; if $x \\neq y$, either $x_r \\neq y_r$ or $x_{\\theta} \\neq y_{\\theta}$ (or both), so either the length or angle (or both) will differ on either side. "
   ]
  },
  {
   "cell_type": "code",
   "execution_count": 32,
   "metadata": {},
   "outputs": [
    {
     "data": {
      "text/html": [
       "<strong id=\"left_mult_neq\"><a class=\"ProveItLink\" href=\"proofs/left_mult_neq/thm_proof.ipynb\">left_mult_neq</a> (conjecture without proof):<br></strong> <a class=\"ProveItLink\" href=\"../__pv_it/theorems/eebd3e13988585c93bd33f465bef6b47ba01918c0/theorem_expr.ipynb\"><img src=\"data:image/png;base64,iVBORw0KGgoAAAANSUhEUgAAATsAAAAWCAMAAACIR8upAAAAPFBMVEX///8kJCQoKCgUFBQNDQ0Q\n",
       "EBCIiIhmZma6urrMzMxUVFQiIiJERETc3Nzu7u6qqqp2dnaYmJgyMjIAAAChkoCbAAAAAXRSTlMA\n",
       "QObYZgAAA+ZJREFUWMPlWNuy5RAQzVziFhrx//86moi0SCJnzsOeGlV7dwkWltYX0/QPFeOpfC7W\n",
       "9L876AIP42W57t+9/3DqQFM5UlSXPLN2gV/gJels+bzCh3O3GiqH+F67DIgu8Au8JE3h3OgPp85z\n",
       "KseKYx21013gV3hJFnWrCvihZTFUDirK3FE72QV+hZekd4DFLJ/uKBYqh2+6eFC7l4AFL8mgsSzu\n",
       "w7ljnMrJcMfZ3DHSwJgygm23y51upJZd4EtAYByhTG4qeElmDdbmW3YobvV95E6k7Th2OkrtqRRz\n",
       "XPEaOghxqF/YtGSz7ndv4dZUfv7Gf34CvgR0sQkXFQhekoJf+qOBgEc7tahqj+8cDpfPeKmPj7u3\n",
       "qjV3lkiYcctcn88FYzcXYBJZG+xyr3ZXgDuisRNHdrQmeFniH3sV3IF1nMcRIHWcQa5uhDujBoxa\n",
       "6rMkU9Jo6SyI5Kl9KacGYT3uWdd1yEaTZLuMPmBFjJ9n/BoYwcvS+czfeLSgrQGcyZvEmh3iTg9c\n",
       "2dQHAmrGbG+5m/XeM2sPoSSwS+5OxukC8IAokFa5NVHuYpRdDgM4U6ussQyXrDh0wbDPAtslT5+k\n",
       "zY2myx0ZPgnXwHQmzH1kQLzF391ZCNjVhv4RyAMFYiH27secrZ5qgO8A05VlM8XbpDZboA2LjPOW\n",
       "fTGY1JovULKYsUHOxzTOg28P8cDdPlwlR/47/vwRhkx47COb29PzFRBwxxH/nLFayGadQeMrLnKI\n",
       "R8BJq/LX+oo4G9+45FGj5H5O8ezW/fANINFMo6rUVdob7sjwidkGpjPh1ifr3dxwR2KDOBFDb6qm\n",
       "kz8WkQQdan7PSQ9xziGeACOEQtgGr8hiHtDGsKPhCAdusDN6VLkkHYlzGSvlNXdkeE23C8x5wj3X\n",
       "TzcuNOFOc1dAMSaNYqegCBtiRLa/bKxkiZ2k/QkwN/Gyl4JXpIdt0QZVGOBoZ6s1jqgz1iq5HFgT\n",
       "IGhqdtJwFc3Lr59oZPwRhkxI+nT97FdzMuIFLb9J9u6Dp5XiQetdY3Qog/CYtsBkQrSuaKBSLU4h\n",
       "o+ImJd/pjJG4pPl25a4Op/FJgUmg+4SkD0b6p/juW94Cum9FT4DRCMZTFp23AKK+ilmGgZuMlwmU\n",
       "FzG+h1xLjTqTr22N4ddVH1PrQ2i5D6fxSYFJoPuEtA9zrrOfEl3oL79B2X7i+QCIHl+zzhvUZcLQ\n",
       "1sBUX8eyvestow9W13yAsdPAvv7y7ZPScvFE+QAoorWTL86POlCsqZjWPSdu/VUcxlWYxkcPJIXv\n",
       "39ybGEo8AA/j+TtN9aea8G7gqaXLnT9oWIXxl33+08L/o73+AZ4kNYA11LruAAAAAElFTkSuQmCC\n",
       "\" style=\"display:inline;vertical-align:middle;\" /></a><br>"
      ],
      "text/plain": [
       "left_mult_neq: forall_{a, x, y in Complex | x != y, a != 0} ((a * x) != (a * y))"
      ]
     },
     "execution_count": 32,
     "metadata": {},
     "output_type": "execute_result"
    }
   ],
   "source": [
    "left_mult_neq = Forall((a, x, y), NotEquals(Mult(a, x), Mult(a, y)),\n",
    "                       conditions=[NotEquals(x, y), NotEquals(a, zero)], domain=Complex)"
   ]
  },
  {
   "cell_type": "code",
   "execution_count": 33,
   "metadata": {},
   "outputs": [
    {
     "data": {
      "text/html": [
       "<strong id=\"right_mult_neq\"><a class=\"ProveItLink\" href=\"proofs/right_mult_neq/thm_proof.ipynb\">right_mult_neq</a> (conjecture without proof):<br></strong> <a class=\"ProveItLink\" href=\"../__pv_it/theorems/db39dc8dfeaec9a22e57dd8ee7eec24cb12f15440/theorem_expr.ipynb\"><img src=\"data:image/png;base64,iVBORw0KGgoAAAANSUhEUgAAATsAAAAWCAMAAACIR8upAAAAPFBMVEX///8kJCQoKCgUFBQNDQ0Q\n",
       "EBCIiIhmZma6urrMzMxUVFQiIiJERETc3Nzu7u6qqqp2dnaYmJgyMjIAAAChkoCbAAAAAXRSTlMA\n",
       "QObYZgAAA99JREFUWMPlWNmypCAMdRbZhADy//86BEQNpm28cx96aqjqTqFwkENWpukfai5S+b55\n",
       "xz8PwAIP41W57s9j/HDqwFI50gxLnltZ4Ad4RQbfHq/w4dytjsohvleWAcUCP8Ar0jXOnf1w6qKk\n",
       "cqwFwaidZYEf4RXZ1O1QwA9ti6NyUFFmRu00C/wIr8gYAJtbPj1QLFQOW7p6o3YPARtekcliW8KH\n",
       "cycklSCEcUpwNjk5GaSYq0GFi0VazQGDkAjlZhjDK7JqsHXfskN1q+8jNlG2E8TlKG0kEvKAuIhp\n",
       "YYKBmvNm1rR5s31AWEv7+Rv/ZQ8c8jRcOg3iFanky3g0kPDYYBZznP1dwJH6PV4ZEzMv3vTuzhOJ\n",
       "GVpIMCl3ORiYkQ25fYpf7tVuA3R+ksiBtZeT5vGqxD/xKLkDH6TMM0DbvIJewwh3zgw4tTJmKa6k\n",
       "09JZEQlkn7mf9tOXZeqyHajuFEn3n1EB85QZZyRxAeTxqgyx8jeeLVjvAPGiK6z5Ie7sgMmWMZBQ\n",
       "M2Z/y9103mchfOdktjsIw93FOTVAhRTppC+APF6VOctuhwFSmFUfuYzUogV0JXDMApuRl0fa15eO\n",
       "5Y5Mn1ToYJgF6xidEG+JtzY7kX0So0iI4htlaiH+7sdcvZ65ABeTFfMo3iat2xJtWHT+orYvAZNZ\n",
       "qwEVX5pf6PlcxkWI/SGeuNunmxLIf+dfPMOQBc9jNLGRF7HCQ3XrAq57RTLy0rXojOubGmIHNu1v\n",
       "CG+TXm5cyqxRej+nfKrrfvgOkGhhUVX2QAH+hjsyfRK+g2EW3MZUvZs77khukA3MTzbxVbwVGILN\n",
       "VBVdkoitrjVEA5YGYYfxmmyOA32MODOfTtzgYIyoeik6khGd1/o1d2T6UW43mOuCe61fbDF16Q61\n",
       "FTBC5IyMvb/Ad9oZUQFW8olM0d6AcZpMbhSvyQjbRztUYYDDoxT12fxCnjtj7yBXgujyA8LdNt1k\n",
       "9/LrJzqZeIYhC5IxbJz9ak1GoqCXN8Ve83lDeNBH15wD6qQili0wuZS9Kzqo0stL6KzSRcn1Kd/W\n",
       "tN4+uDum0/ykwRTQfUEyBjP9S373LXcB7F1RBcwOLZ+lenQXQNTXCC8wcdPZmMBElfN7qL3y0tZj\n",
       "sXuogxy77Lm0tidNb9NpftJgCui+IB0jQmAIatmF/fIdlOcLT9viuhWP7qBeFgx9D9wRkkT1d9xn\n",
       "8GDHN59g/DSwr7+8+6Q8v7iiLIAqezs9jHd3fjSAYs/kgu994cZv6zTvgOli9EBR+PzOvcuh1Bvg\n",
       "Ybx4p/rx0lMxDFy1sNzFk4YdMPHlmP+0yf9or38Ao581gCUghesAAAAASUVORK5CYII=\n",
       "\" style=\"display:inline;vertical-align:middle;\" /></a><br>"
      ],
      "text/plain": [
       "right_mult_neq: forall_{a, x, y in Complex | x != y, a != 0} ((x * a) != (y * a))"
      ]
     },
     "execution_count": 33,
     "metadata": {},
     "output_type": "execute_result"
    }
   ],
   "source": [
    "right_mult_neq = Forall((a, x, y), NotEquals(Mult(x, a), Mult(y, a)), \n",
    "                        conditions=[NotEquals(x, y), NotEquals(a, zero)], domain=Complex)"
   ]
  },
  {
   "cell_type": "code",
   "execution_count": 34,
   "metadata": {},
   "outputs": [
    {
     "data": {
      "text/html": [
       "<strong id=\"left_mult_pos_less\"><a class=\"ProveItLink\" href=\"proofs/left_mult_pos_less/thm_proof.ipynb\">left_mult_pos_less</a> (conjecture without proof):<br></strong> <a class=\"ProveItLink\" href=\"../__pv_it/theorems/9715101492cba3a86a625929268025a45d773f6b0/theorem_expr.ipynb\"><img src=\"data:image/png;base64,iVBORw0KGgoAAAANSUhEUgAAATwAAAAWBAMAAACvaz3RAAAAMFBMVEX///8QEBCIiIhmZma6urrM\n",
       "zMxUVFQiIiJERETc3Nzu7u6qqqp2dnaYmJgyMjIAAAAcRTyBAAAAAXRSTlMAQObYZgAABBFJREFU\n",
       "SMfNVm1oHEUYfu5u9/Z2s5cTQTAWYduDEKJCaFCKtPVMoUWx9dofWn/dcSga0BBqKyqJlEjDRaks\n",
       "FGopiNtWUkzT5lBU7I9yJPjDM9QDhaJUWaT94wceomBSFd+Z2dvMftjcjxN94dmZ3X129pl5P2aA\n",
       "f8Xe8hCxj/+BHLYeW8BlN990WZ1xWCBqaTuWHLVRgc9Y//suy+u1BWKEu7HkqF0QOEGNfrjL8r7w\n",
       "EGOLkgOv++SomRZHr0NNrcvyXvIQY6f8XvZ52yfHLPMtHNnG3NybXVanjwvE+r3gdZITjk+Os2sC\n",
       "v1erE12WlxwSwLGljY6/HJtGR8iz5pC4nT8gkQPE05uh3wEsgeMpYGb9PyodiFqse71MU0Dpw8/+\n",
       "63lcsV4hl4rcODMJiRwg1h9EsgV8C44dcdnUDt4D09stMUjwxcMBXxZ5cxUfeg+0msCpJrbwhWOX\n",
       "Bj53HqIhuS/TP/hfy0S2gnptOzKUqx+BQ0OyGavt3NI2WHXzdIy8/eVAFD/DY/wgcp6DEgWBBxxw\n",
       "Fy64/NdV1ldb7Dq7Jk8iGn/xudyKHK1JCRxmU4tVl339pEPysuej8o6HokGfJn3Gb0jUgvJuZw/Z\n",
       "AonZ/LImD8cmZXlt4gs8jlZRKvrydPcxFgv9vAgt3ttPb5R+aM4Odk/y5iV5Zn4fheqZI9QdKeNl\n",
       "NtfNY/SB+qoDdQVaM+Bc4w/0tNYmoXIFyngoNSLElIuN1OzyMPMk/eWQusqi2xnTaDJmztkrdjur\n",
       "nhqW5A2m3YOYv8YDeFWlyoSzxRLzqPIdaADNCqSGcQNp199kL1K8D/qpsVZYIsRMGdPwUwPv03xS\n",
       "QyqblYqfGOHkLgwYvABY9z1dkOQVe5tQ7+T+fGc8yfaaYTwuQqGPVi/hyWPFg2EKV8rtbFZuZFo6\n",
       "yU7VQ2U5TESqrPxJzVYPLA4TtaSIjxV+3YqK+mK1OgXr03tkecjRiJf5k1Q9zcRsQD9/ccmi6Ml5\n",
       "JZc5kGF20xOVdhU2KoN5dvLoLYY2tTCRmHmm4rqHLC3ygp352uGBq4okvA1l4dwPGrK8EoowtrA/\n",
       "aIUENcYKjs7R3Z6GnLk329TOxu6AQaPogzEuINLHLu3GCedt0zWpwSGlhU+EPFNKDb11GeQDnRUS\n",
       "rfgo9NfQp/5KHtt/P73N+3WvwyOBRJZtDAsF/0jguaPy3jbsrc1+udigBjsHXGQo/XomfjSGXV+e\n",
       "8dwjdzteIVEqb0DdgJ135Zs4PspjfXnIj25boKMDVZg4SaHoH6hk88pWzbBZ7g1Up6QxAkR1Bu/i\n",
       "KMkXd0c6P45m1j+OjuRZ8MwgvNn22F6Tru+JDBt+8Kzixh/Nb36Y/6rDw3zWFpAftRvlan1debuX\n",
       "6dLE/8RS/81v/wby0ykHAN15RAAAAABJRU5ErkJggg==\n",
       "\" style=\"display:inline;vertical-align:middle;\" /></a><br>"
      ],
      "text/plain": [
       "left_mult_pos_less: forall_{a, x, y in Real | x < y, a > 0} ((a * x) < (a * y))"
      ]
     },
     "execution_count": 34,
     "metadata": {},
     "output_type": "execute_result"
    }
   ],
   "source": [
    "left_mult_pos_less = Forall((a, x, y), Less(Mult(a, x), Mult(a, y)), conditions=[Less(x, y), greater(a, zero)], \n",
    "                        domain=Real)"
   ]
  },
  {
   "cell_type": "code",
   "execution_count": 35,
   "metadata": {},
   "outputs": [
    {
     "data": {
      "text/html": [
       "<strong id=\"left_mult_nonneg_less\"><a class=\"ProveItLink\" href=\"proofs/left_mult_nonneg_less/thm_proof.ipynb\">left_mult_nonneg_less</a> (conjecture without proof):<br></strong> <a class=\"ProveItLink\" href=\"../__pv_it/theorems/223f4b57c4ea5536073ebe641efd13ad2fcd959d0/theorem_expr.ipynb\"><img src=\"data:image/png;base64,iVBORw0KGgoAAAANSUhEUgAAATwAAAAWBAMAAACvaz3RAAAAMFBMVEX///8QEBCIiIhmZma6urrM\n",
       "zMxUVFQiIiJERETc3Nzu7u6qqqp2dnaYmJgyMjIAAAAcRTyBAAAAAXRSTlMAQObYZgAABCRJREFU\n",
       "SMfFVm1oHEUYfu5u9/Z2by8ngmAtwrUHIcQPQoOSH209U2hRrF79ofXXHaFBAxpCaPwilRI0XCqV\n",
       "hUAtBXHbSosxNoeiYn8tCYKmpS4oFKXKgq0/quIhCiZV8Z2Z3b3Zu20T4aQvPDezs8/tPDPvxwzw\n",
       "v9hbPtrs0+uQWy1rCXjs4bsOqzMOCrRb2oolt9uIwDnWv9pheV2WQIxwr9lPToTkdjsjcJQa/WCH\n",
       "5X3lI8YWw978eJPcbmaBo8umpt5heS/5iLHjQWf2gESO2eZbOHLLc3NvdlidPiYQ6/eSaI/8JJHj\n",
       "7LLAn7XaZIflJfsEMLu0yQ63Y/PIIHnW7ONPey/L5AjxxBbodwBL4BgGZtaeUVmHqEXH72VcAWUD\n",
       "fm2GGi4WXgFyPDcyr4XjbUTnQSQbwPfg2BHJppbqMz69vSA+En3xcET6CG8u4WN/QKsLHHcxwDeO\n",
       "/SzjS/sh+iT3ZXI83CyZyAb1+nZkKFc/AYeGpBur7b2lbSg45okYeXurkcfZYfa7H3l/zkRJ4AEb\n",
       "PDsXPD51jfXVBqfkJgN9EtH4h6/lVuRpTyrgMF0tVl3u9WM2ycu93y7vSGs0zJKvjD+QqEfl3c4G\n",
       "2QaJ1fwmyUP2B6tJDojPc2esolIO5eneE9Q52X2FV6X7uumN0g3N3sGeSd68JM8sPk4bdZIFzmAV\n",
       "L7O1bhkts8B6FeoKNDfiXOMvZBvNNahcgRIkqvJjOSBHiSkPm6jZ5WNmH80yoa6ykLBHNVqMmbf3\n",
       "iNOu4KT6JXm9aW8/5nnSOasqVSacLle4l+av0ge0QiQ1jGtIe+Ehe5bivTdIDS63VvLJUWKmimmE\n",
       "qYEPaT2pPpWtSsUvjHBsF3oMXgAK9z9dkuSVu1yod/Jq9c5Ykp01/XiSv7nXpd1L+PJY8WCYwsVq\n",
       "kM3KtUxDJ9kpp1kehwOyTESqqvxNzVYfLA4T9aSIjxX+uxVD6ou12hQKX9wjy0OeAuYCH0k5aSZm\n",
       "I7qZi3vqLHryfsllDmQ4tfmpoVJQ9oZ6i+zm0VVuLVktRGIWmYorPnLknQUr863NA1cVSXgbqsK5\n",
       "Hy3L8ioowxhgM2ilBDXGCg7Pwfi8FMncGx1qp2NPwKhR9MEYExDpY1V246j9tumZ1GBCaeAzIc+U\n",
       "UkNvXAD5QH+G9lArPwb9EDaov7vGAF95Max767sSyGTZRrFQCq8E/g4PfbANe+qnvl5cpgY7ezxk\n",
       "KP2ykz8b/V4oz3jukbt55Zy26B9vQN2InXcVXVX4K3m+L4xuS+C6F6ozLzCbCMmyHaBQDC9Usvll\n",
       "q25YLPd6alPNV9GyrM7gXRwm+f/5OppZ+zo6WGTLnUHrYZu1/CbtPNr22daBZxUv/mp+48v8N+u8\n",
       "zOcsAXkoaJRLzprydp+nH1GGszWyQ7iZlro50/4LQ8gudPXOFA4AAAAASUVORK5CYII=\n",
       "\" style=\"display:inline;vertical-align:middle;\" /></a><br>"
      ],
      "text/plain": [
       "left_mult_nonneg_less: forall_{a, x, y in Real | x < y, a >= 0} ((a * x) <= (a * y))"
      ]
     },
     "execution_count": 35,
     "metadata": {},
     "output_type": "execute_result"
    }
   ],
   "source": [
    "left_mult_nonneg_less = Forall((a, x, y), LessEq(Mult(a, x), Mult(a, y)), \n",
    "                               conditions=[Less(x, y), greater_eq(a, zero)], domain=Real)"
   ]
  },
  {
   "cell_type": "code",
   "execution_count": 36,
   "metadata": {},
   "outputs": [
    {
     "data": {
      "text/html": [
       "<strong id=\"right_mult_pos_less\"><a class=\"ProveItLink\" href=\"proofs/right_mult_pos_less/thm_proof.ipynb\">right_mult_pos_less</a> (conjecture without proof):<br></strong> <a class=\"ProveItLink\" href=\"../__pv_it/theorems/85f78c445562258c80055ff957cc0b9f0557425e0/theorem_expr.ipynb\"><img src=\"data:image/png;base64,iVBORw0KGgoAAAANSUhEUgAAATwAAAAWBAMAAACvaz3RAAAAMFBMVEX///8QEBCIiIhmZma6urrM\n",
       "zMxUVFQiIiJERETc3Nzu7u6qqqp2dnaYmJgyMjIAAAAcRTyBAAAAAXRSTlMAQObYZgAABDxJREFU\n",
       "SMfNVl2IG1UU/pLMJJlJshFBcFsKaaPLsiosuyhFtjXdQotia+qD1qeEoNQFXZbaFpVdWSpdskpl\n",
       "oLCWgjhtZYvraoKipT60wy4+GEsNKJRKlUH0xR8MYsHdqnjO3NmbyWRs8xDRA1/uzL0nc797z3fO\n",
       "vcC/Ym+4aLNz/+Dst4QhYPPL111mp08LtFvUCHRutzGBz/j5hy7T6zEEAojbgc7t9p7AcWq06S7T\n",
       "+8JFgC15Avi9dG63ZMZBj0lNtcv0XnARYCflU+o5QzoHbPMtDlK1hYXXu8xOmxAIjHvOfQhPmtI5\n",
       "yL4T+L1cnuwyvfCggL5pbLQZTG1kaB1FalC8Le73OJ8agrZOOh5b3kjMl+HgKWD25jMqHZBastyn\n",
       "eF1gEZczL8nxbUZPg0IqcuP0FDzO1jaEG3KqXvxCzTcC24OyaU28+2e2ZsRHWgceaoll3mmu4iO3\n",
       "I1YVqOFz80HWkSOmDYhQCiacWEZ/lP8mR626FXFOTyfcJ+vYTM1ZgRjC9UBu7yxvQcZKngqgt7fY\n",
       "ouKnHY0fQFqoCaGcgImy817h9UdWEaOlqs4uzTfpkaOOW5GmMf0v7njABAe+IJCsxwLZpV49YRK9\n",
       "1Lvt9OZ8atBmiJ9+DaFqKz3gV7FBvJrQNCr5NXo4NuWhB2UVBQ7BIe64nT8l6Wn2Y6yFPqcILd3b\n",
       "R25KH2Lmdn4neoseesnsoyTV00focbSIF3nnhsZ5zpdNqCuI1VuDC/Vacw0VCxdYWRO+1GDHiI2N\n",
       "MhZ/IMFL2Oli9knqO6iusrrN8RgtJpk294jTLmNFhj30BqL2ASxyysNaVaky4Uy+wBFVvoUqgudN\n",
       "jY9J7wOSXhXjdIqmbF9hcZyLmJH0riNqn5OpgQ9oPZFBlVel4mf2OLET/bpTADL37ct56OV76lA3\n",
       "OPF8ayLMYh7G40IKvbR7IZceFw+Ccj3e0KSu45nUoSTNZPnKMjtHisqfcpsP43KRnEYgwKIMVcNC\n",
       "7SvO7whK6vPl8mFkPr3HSw9p+uIlpydiRZnMevQ5A+czJJi0W3I5gAS9NJBtXjb00p1zd1BZzvsO\n",
       "NXbWS9kV2T2/6YkSfYgHGSna5IoR/4r3Wm2oIglvQ1EE98Oal14BeeibeYZYLkSNvoKjC/S2u+bN\n",
       "3BsdamcCT0BWn+9QmxAQ6WMUduG4+WbSTlKDg0oDnwh6SU9qaI1LoG3XuJDE8o9AewW96m8Uvr33\n",
       "02hW1r0OrwRN53FUcsFXAjccpfe3YE91/sulGjXY0W8jThmVmPxJH7YlPf3Zh+823UKilF6Duh47\n",
       "7srWMTfmaP3ioNSZIdDRhYocp0hwwRcqr7llq6obnE79Zc9/WsuyOou3cZToi7cjnV9H44HX0dFs\n",
       "3t87C/9hmzDcJmrtbvusv+MZxQ6+mt/4Mn+lw8t8yhDwdq01ylXrpvR2XaSfOv4nFvlvpv0b/RUl\n",
       "OMKQLXgAAAAASUVORK5CYII=\n",
       "\" style=\"display:inline;vertical-align:middle;\" /></a><br>"
      ],
      "text/plain": [
       "right_mult_pos_less: forall_{a, x, y in Real | x < y, a > 0} ((x * a) < (y * a))"
      ]
     },
     "execution_count": 36,
     "metadata": {},
     "output_type": "execute_result"
    }
   ],
   "source": [
    "right_mult_pos_less = Forall((a, x, y), Less(Mult(x, a), Mult(y, a)), \n",
    "                             conditions=[Less(x, y), greater(a, zero)], domain=Real)"
   ]
  },
  {
   "cell_type": "code",
   "execution_count": 37,
   "metadata": {},
   "outputs": [
    {
     "data": {
      "text/html": [
       "<strong id=\"right_mult_nonneg_less\"><a class=\"ProveItLink\" href=\"proofs/right_mult_nonneg_less/thm_proof.ipynb\">right_mult_nonneg_less</a> (conjecture without proof):<br></strong> <a class=\"ProveItLink\" href=\"../__pv_it/theorems/0a6335b2072aeefe6a37b092db0010363a7c671b0/theorem_expr.ipynb\"><img src=\"data:image/png;base64,iVBORw0KGgoAAAANSUhEUgAAATwAAAAWBAMAAACvaz3RAAAAMFBMVEX///8QEBCIiIhmZma6urrM\n",
       "zMxUVFQiIiJERETc3Nzu7u6qqqp2dnaYmJgyMjIAAAAcRTyBAAAAAXRSTlMAQObYZgAABEtJREFU\n",
       "SMfFVm1oHEUYfu5jb2/3bnMiCLalcO1pCPGDkKDkR1qvKbQoVq/+0PrrjsOgAQ0hNPWDVELRcKlU\n",
       "FgKxFMRtKy3Gs3coWuoflwTBpqUuKBSlyoLVH1XxEAsmVfGdmb25vbttG+GkLzz7zs68u/PMvB8z\n",
       "wP8ib3tokzPXMW6VhCngspfvOsxOnxZol5gZaNwuowLnWPtKh+l1mQIBxN1GOzwpjdvllMBhUtp0\n",
       "h+l95SFAFmWrPNEwbpdkmqPLIlXtML2XPQTI0Xpjbr/POGCbb+MwlhcW3uowO21cINDvWaHnf/YZ\n",
       "B8llgT9LpakO0wv3CeibR4cbztSG+teTp/r4y57LfuNj/dDWS8O5pU3k0iVwjACzN58xugZSi7bX\n",
       "ijsCZVxMvyrHt5ldNcDguRF/XXYzQ3sbwjU51Tr8Rup7ge1N2dRSfSZmtqbFT5oHHmmiPsrVJXzi\n",
       "dahVgWV8aT3M4ogH00ZEKAUT3JfhCQsNY626FXGWnrzzqINBUqcFVISdQG7vL21B2k4eC6C3p9D0\n",
       "OjfCnnuR8uYMZQUslPh7ha0/sgqVlqqIXTKm6vzIUMftSNGY/g/reMgCy+m8QNJRA9kZbxyxiJ7x\n",
       "QTu9+dZomCNf6VcRqjbTA34XG8RWE5pGJSfpIfGD2TCOriJPY9jHOu5kv5L0NPdJahzv/pFXpQe6\n",
       "ySzaDdXazt6JXtlHL5l5gjbqOAuc4QJeYS7rH2P/Lb8GZQWq0+xcKFcbS6jY+IxFQj1Roz/lpHHE\n",
       "xSZZUf5Cgi1hp4fZZ6hvUlllIWGNqbSYZMraLU67tB0Z8NHrjbl7UeZJZ68qVJlwMpfnXipfUYTz\n",
       "/KnxKcV7r6RXxRidooYMdKWUlcYFzEh61xBzz8jUwEe0nkifwlal4FdmcWQnenReANIPPpv10ct1\n",
       "OVA28irx7niYBfMAnuIj9zu0eyGPHisehOi1eE2TcR1PG/uSNJPdqDQjdeNIIfq37D6AiwUyGoIA\n",
       "C8pQNSyifYU/h1BUXiqVDiB99j4/PaQoYC7wnogdY2Q2oJutuKfKAibllVzmQIJe7M00Lht68e75\n",
       "u6gs51pL1jgby6zIjhObny7Sj1iwMRjknYoZ/5Y5SakpIgnvQEE49+NlP708ctAH2QxqNkRKX8Gh\n",
       "BehfZJsy90aH2snAE5BFX8uhNi4g0sfM78Jh652kmySFyWgNnwt6SV9qaLULoG3XnqM9VHOPQzuI\n",
       "dcofjj7Idy0j697argQ+4zFUssFXAm+Hix9uwe7qia8Xl0lhR4+LOGVUYuoXfcCV9PQXHr2XbZA2\n",
       "Y9IXb0LZgB33ZBxF+Ct8vk/GmSlw3QvVqReZTNaN91PABV+o/OKVrapusnTqKfm+aS7LyizewyGi\n",
       "/5+vo/HA6+hwpjUi+UE723aB5ipmP9b229aO56Nu8NX8xpf5b9Z4mTdMAX9XXUUv2Telt+s8PUTV\n",
       "SJRIDuJWSuTWTPsvTgoqpfmmrDMAAAAASUVORK5CYII=\n",
       "\" style=\"display:inline;vertical-align:middle;\" /></a><br>"
      ],
      "text/plain": [
       "right_mult_nonneg_less: forall_{a, x, y in Real | x < y, a >= 0} ((x * a) <= (y * a))"
      ]
     },
     "execution_count": 37,
     "metadata": {},
     "output_type": "execute_result"
    }
   ],
   "source": [
    "right_mult_nonneg_less = Forall((a, x, y), LessEq(Mult(x, a), Mult(y, a)), \n",
    "                                conditions=[Less(x, y), greater_eq(a, zero)], domain=Real)"
   ]
  },
  {
   "cell_type": "code",
   "execution_count": 38,
   "metadata": {},
   "outputs": [
    {
     "data": {
      "text/html": [
       "<strong id=\"left_mult_pos_lesseq\"><a class=\"ProveItLink\" href=\"proofs/left_mult_pos_lesseq/thm_proof.ipynb\">left_mult_pos_lesseq</a> (conjecture without proof):<br></strong> <a class=\"ProveItLink\" href=\"../__pv_it/theorems/f11b0834b0b4216f7fb0a92b4bcaa0c26f1f18790/theorem_expr.ipynb\"><img src=\"data:image/png;base64,iVBORw0KGgoAAAANSUhEUgAAATwAAAAWBAMAAACvaz3RAAAAMFBMVEX///8QEBCIiIhmZma6urrM\n",
       "zMxUVFQiIiJERETc3Nzu7u6qqqp2dnaYmJgyMjIAAAAcRTyBAAAAAXRSTlMAQObYZgAABB1JREFU\n",
       "SMfFVm1oHEUYfm5v9253by8ngmDtn2sPQohaQoPSH209U2gRrF794cevO4JBAhpCaPxMpQQtl0pl\n",
       "IaClIG6rtBhjcygq9teRINRYdEGhKLUs2vqjKh6iYFIV35nZ3Zu93bQRTvrCczM7+9zMM+/H7AD/\n",
       "i73hI2afrEHutJwt4LGH77qszjwoELeMnUiO26jA56x/pcvyemyBBOFeu69MhuS4nRY4So1xsMvy\n",
       "vvKRYIthb36iTY6bVeTocahpdFnecz4S7HjQmT0gkRPcfBNHfnlu7vUuqzPGBRLjXhbtaz9J5CS7\n",
       "JPBnvT7VZXnKgABmlzY5oTs2jw5RZK0B/vToJZkcIZ7YCuM2YAkcI8DM9VdU1yFqsen3dFdA3YBf\n",
       "26mG88UXgTyvDf3lcDxGbN4LpQVcBMeuSDV1nD4Th3YWxSTR8UgtqaO8uYCP/IFsQ+C4i23ccexn\n",
       "GV8699FfeSyVidBZMpENGo2d0Gn+j8GRheImant3aQeKTetEXF7u+yhzdoT97kfBXzNVFrjHAa/O\n",
       "BY8vXWd9rcUp+alAn0Q0/+F7uRkF8kkVHJabTVSXf+WYQ/Ly78Xk5X/p5M5SrMw/kGpE5d3KBpmD\n",
       "anz4N0kecj/YbXJAfJoHYxXVSijP8B6mzlu9l/mpdFcvvVF7kXV2sWeSNy/Js0oPjUDh6oZqeJ7t\n",
       "detYhSXWS9BWkHUjwTX/Qq7V3oPGFahBoao/VgJylJj2sImaPT5mHqdVJrVVlhLOWJY2YxWcfeJr\n",
       "V2ymByV5/Rlvv/qCSOBVjU4mnKpUeZTmr9AE2WKkNMyryHjhR/YM5Xt/UBpcbr3sk6NEvYZDCEsD\n",
       "H9B+0gMa25UG7plje9Bn8gOgePcTZUlepYfmOstGjLfHFVYfg3iEv9nikvdSvjx2eDBM43wtqGb1\n",
       "qt4ySHa62T4eRwKyTES6pv5NzXYfLA9TDUXkxwr/3Y5h7dl6fRrFz+6U5aFACWOeZSmWbmaYmI3o\n",
       "ZSHua7DsKfhHLgsgw8nNjw2Xg2NvuL/Ebh49lc4jq4NIzBJTcdlHnqKzYOvfOjxxNVGEt6Amgvvh\n",
       "siyvCjb7FpZb5RR1zRUcmfMd2q7ca33UTiV+AaNG2QdzXECUj13di6POm5ZnUYNJtYVPhTxLKg2j\n",
       "9QV4DC66yFYehHEYG7TfXXMb33kpPPfWdyWQybKNYaEcXgl8Dw+/vwP7Gie/XlymBrv7POjkotzU\n",
       "z+agF8ozn7r/DuGgM/SPV6FtxO7bS64m4qWcGwiz2xZY80J1+hlmkyFZtgOUiuGFSjb/2GqYNqu9\n",
       "vvp0+5Xeuc47OELy//N1VL/+dXSoxLY7g86Pbc72m0zzgdi0nQNPql7y1fzal/lv1nmZz9sC8lDQ\n",
       "qBeaa8vL1ckOY+856rvyyI209I1Z9l9TlDGapPDH3AAAAABJRU5ErkJggg==\n",
       "\" style=\"display:inline;vertical-align:middle;\" /></a><br>"
      ],
      "text/plain": [
       "left_mult_pos_lesseq: forall_{a, x, y in Real | x <= y, a >= 0} ((a * x) <= (a * y))"
      ]
     },
     "execution_count": 38,
     "metadata": {},
     "output_type": "execute_result"
    }
   ],
   "source": [
    "left_mult_pos_lesseq = Forall((a, x, y), LessEq(Mult(a, x), Mult(a, y)), \n",
    "                              conditions=[LessEq(x, y), greater_eq(a, zero)], domain=Real)"
   ]
  },
  {
   "cell_type": "code",
   "execution_count": 39,
   "metadata": {},
   "outputs": [
    {
     "data": {
      "text/html": [
       "<strong id=\"right_mult_pos_lesseq\"><a class=\"ProveItLink\" href=\"proofs/right_mult_pos_lesseq/thm_proof.ipynb\">right_mult_pos_lesseq</a> (conjecture without proof):<br></strong> <a class=\"ProveItLink\" href=\"../__pv_it/theorems/61040c93c35da238a41fd2259096c830f41850f30/theorem_expr.ipynb\"><img src=\"data:image/png;base64,iVBORw0KGgoAAAANSUhEUgAAATwAAAAWBAMAAACvaz3RAAAAMFBMVEX///8QEBCIiIhmZma6urrM\n",
       "zMxUVFQiIiJERETc3Nzu7u6qqqp2dnaYmJgyMjIAAAAcRTyBAAAAAXRSTlMAQObYZgAABERJREFU\n",
       "SMfFVm1oHEUYfu5u9+52bzcngmBbhGtPQ4haQoLSH2m9ptAiWL36w49fdxwGCWgIoalfqYSi5VKp\n",
       "LARqKYjbKi3Gs3coKu0flwShxqILCkWpZdHqj6p4iAWTqvjOzN7c3t2mRjjpC8/O7Dvvzj4z78cM\n",
       "8L/I6z465Mwqxu2SsgQ89vJtl9npMwKdErdCjTtlTOAz1r/SZXo9lkAIca/Zj05J4045LXCUGm2m\n",
       "y/S+9BEiC7JXmWwad4qR4eixqal1md5zPkLkeKMztz9gHLLNN3GYS/Pzr3WZnTYhEOr3nGiP/BQw\n",
       "DpPLAn+Uy9NdphcdENA3jY00nakND64nTw3wl8cuB41PDEJbLw3nFjeSSxfBMQrM/vsflTWQWnD8\n",
       "XtIVqOBC5kU5vt3qqQMmz43ky1LNDJ3tiNblr9bhV2ouCexoyaa26jN5cFtGTNKqb8klZYw3F/Gh\n",
       "r0jUBJbwhX0/iyMeTLchRp+luC+jkzaaxlptG5JsSq487mILNR8JJBB1Q7m9s7gVGcc40Ukv9V2r\n",
       "5dwoe+5F2v9nJCdgo8zfq2z9sRUkaKmq2CVzusGPDHXcjDSN6X8zxX02WE4XBAw3EcrOfOWYTfTM\n",
       "dzvomb+0286Rr/SriNRa6QG/iQ0qMuUMqnlJD6nvraaxsoICjWEfU9zKppL0NO8R6rzZ+wOvSvf0\n",
       "kpnSi4S9g70TvUqAnpF9eBRRzm6kiOeZywbH2byVl6AuI+G2Ohfq1eYSqg4+ZpHQSFTlx7w0jnnY\n",
       "KCvKn0ixJezyMfsE6abUFRYS9niCFmOk7T3itMs4saEAvf64t1d5gXedFZUqE07lC9xLlSuqcF4w\n",
       "Nc5SvPdLejWM0ylqykBXyzlpXMRBSe8a4t4ZmRp4n9YTG1DZqlTwnTm2C306LwCZe5/MBejle1zo\n",
       "55hGe2siyoJ5CI/ykc0u7V7Ep8eKB0G5lqxrMq6TGXOfQX9ympVmtGEcKyp/SfUBXCiS0TAEWFBG\n",
       "atEiH1vmz2GU1GfL5QPIfHp3kB7SFDD6Oea3mBNnZDagl624r8YCJu2XXOZAgl7qzzYvG3rpjiO3\n",
       "U1nOt5esCTaWXZaKk5seL9FELNgYTPJO1Up+w5yk1lWRhLegKJz7wVKQXgFs9s0stnIR6urLODzv\n",
       "b2gzc693qJ0KPQFZ9LUdahMCIn2swm4ctd8wPIMaTCl1fCLoGYHU0Oqfg/vmkotE/iFoh7BO/d3V\n",
       "t/Bdy8q6t7YrQcB4HNVc+JXA3+HSe1uxp3byq4UlarCzz0OStig1/bM+5El6+tMP3CU26Cx98SrU\n",
       "Ddh5Z9ZVhb+i5wdknFkCq16oTj/DZKphvJ8CLvxCFRS/bNV0i6VTXznwTbL987dxmOj/5+toMvQ6\n",
       "OpJtj0h+0M52XKB5E3ce7Ji2XfGU4oVfza9/mf96jZd50xIIqhqNctFZnV6qTHIIu89T3w1qbqTE\n",
       "bsxv/wFd1i3LqwjQfAAAAABJRU5ErkJggg==\n",
       "\" style=\"display:inline;vertical-align:middle;\" /></a><br>"
      ],
      "text/plain": [
       "right_mult_pos_lesseq: forall_{a, x, y in Real | x <= y, a >= 0} ((x * a) <= (y * a))"
      ]
     },
     "execution_count": 39,
     "metadata": {},
     "output_type": "execute_result"
    }
   ],
   "source": [
    "right_mult_pos_lesseq = Forall((a, x, y), LessEq(Mult(x, a), Mult(y, a)), conditions=[LessEq(x, y), greater_eq(a, zero)], \n",
    "                               domain=Real)"
   ]
  },
  {
   "cell_type": "code",
   "execution_count": 40,
   "metadata": {},
   "outputs": [
    {
     "data": {
      "text/html": [
       "<strong id=\"left_mult_neg_less\"><a class=\"ProveItLink\" href=\"proofs/left_mult_neg_less/thm_proof.ipynb\">left_mult_neg_less</a> (conjecture without proof):<br></strong> <a class=\"ProveItLink\" href=\"../__pv_it/theorems/812c8a4a39bbad8d9dcc38a2cf8f77786299be9d0/theorem_expr.ipynb\"><img src=\"data:image/png;base64,iVBORw0KGgoAAAANSUhEUgAAATwAAAAWBAMAAACvaz3RAAAAMFBMVEX///8QEBCIiIhmZma6urrM\n",
       "zMxUVFQiIiJERETc3Nzu7u6qqqp2dnaYmJgyMjIAAAAcRTyBAAAAAXRSTlMAQObYZgAAA/1JREFU\n",
       "SMfNVm2IVFUYfmbm3rlz797ZiSDIJBgd2JatYHEpRNSmFZREbexHH79mWBJdqWWRNUosZMFl1jAu\n",
       "BCVCdNVQ3LZ2KCryhwy7RDSJXVBYFJX7Q/+E0hAF7VrRez7mzv3S3R8T9cIz59z3PnPPc8553/cc\n",
       "4F+xjyQi9u09yGHrsgRc9nC9w+qMQwJRS1ux5KgNC/zI+j93WF63JRAj3I0lR+1zgWPU6Ic6LO+S\n",
       "RIzNisGdIDlqZp6j26am1mF5b0nE2AmxiN/nA+SYZX6AI9uYmvqww+r0UYHYfS+K9rGGjxxnNwX+\n",
       "qFYPdlhesl8A78+tsr3lWD08SDtr9svn+XVtcoB4cg30R4A5cOwCJpceUVmGqNm67GUcAWUFfvFe\n",
       "T2M+/w6Q9XLj/LBHDhDrzyLZBG6AY1NcNrWqz76JjSJIMsEXWyPUrbiGr2VfqwmccLCWLxz7aeAn\n",
       "+zn6ZHsvd+xtkVtEtoJ6bSMylKvfgEND0onV9uncBuTr5skYeS9XwmTyjCEnNyhRFHjGxj72POPy\n",
       "oausrzbb8o60yJJo/M3n8iBytCZlcJiOFqsu++5xm+RlP4vK+yASDeQxfkeiFpT3MHOyBRKz+TUo\n",
       "T26un/gGj6NFlEuePN19kTqnem7xqvRUD71ReqDZm9gzyZv2yTMLL1ConjpM3cEKDrC5rhkpCY+6\n",
       "AM0JbK7xJ7raawWVK1BGQ6kRIaZcrKJmi8TkqzTKfnWRRbc9otFkzJy9U5x2+XpqwCevL+2OYfom\n",
       "D+BFlSoTzpTKtvDQB7R8IDWMu0i73iF7juK9r50aXmGJEDMVTMBLDXxJ80n1q2xWKu4wwvEt6DV4\n",
       "Acg/vbvok1fqdqA+yqvVJ6NJdtYM4CXpodVLSHmseDCMY77Symblbqapk+xUPVSWw0SkKspf1KyX\n",
       "YHGYqCVFfCzw3/UYUt+sVseR/+FJvzzk6Hy8yD2pepqNsBI90kPRk5Mll20gw+nVrwwVW2VvqK/A\n",
       "bh7dpdChFiYSs8BU3JLIUr7NWJmrNg9clTHG8BAqYnO/avjllVGCsZaNoBUT1BgLODolPe3Mvd+h\n",
       "dib2BAwaRR+MUQGRPlZ5O47ZH5uuSQ32K018J+SZvtTQmxdBe6DvoTXUSs9DP4IV6m+O9BS8urf0\n",
       "lSB8f/DbCGaK3pVArvDQFxuws3b68myDGmzudZGh9Os6eNsYcD15xuvbnuCVc8Kif7wHdSU2P15w\n",
       "pCd5od+LbktgWReqMPFtCkXvQuU3WbZqhsVyr7c67vtGgKhO4iyOkny/Z1nX0czS19HBAguVSYQP\n",
       "2y5LNun6jshnw47XFDf+an7/y/yVZV7ms5aA39VqlGv1JeVtv0A/Dv4nlvpvhv0HiHUpJwj4mM0A\n",
       "AAAASUVORK5CYII=\n",
       "\" style=\"display:inline;vertical-align:middle;\" /></a><br>"
      ],
      "text/plain": [
       "left_mult_neg_less: forall_{a, x, y in Real | x < y, a < 0} ((a * x) > (a * y))"
      ]
     },
     "execution_count": 40,
     "metadata": {},
     "output_type": "execute_result"
    }
   ],
   "source": [
    "left_mult_neg_less = Forall((a, x, y), greater(Mult(a, x), Mult(a, y)), \n",
    "                            conditions=[Less(x, y), Less(a, zero)], domain=Real)"
   ]
  },
  {
   "cell_type": "code",
   "execution_count": 41,
   "metadata": {},
   "outputs": [
    {
     "data": {
      "text/html": [
       "<strong id=\"left_mult_nonpos_less\"><a class=\"ProveItLink\" href=\"proofs/left_mult_nonpos_less/thm_proof.ipynb\">left_mult_nonpos_less</a> (conjecture without proof):<br></strong> <a class=\"ProveItLink\" href=\"../__pv_it/theorems/c04d47379a66de9a15e33d73e4d11a044b8d3ba00/theorem_expr.ipynb\"><img src=\"data:image/png;base64,iVBORw0KGgoAAAANSUhEUgAAATwAAAAWBAMAAACvaz3RAAAAMFBMVEX///8QEBCIiIhmZma6urrM\n",
       "zMxUVFQiIiJERETc3Nzu7u6qqqp2dnaYmJgyMjIAAAAcRTyBAAAAAXRSTlMAQObYZgAABCZJREFU\n",
       "SMfFVm9oHEUU/93d7u3t3l6uCIK1CNsexBD/EBrUIm09U2hRbL36QeunO4KiAQ2hJGq1SggaLpXK\n",
       "QqGWgrhtpdUYm8WiYj/IkSDWs9QDhaDUskj7RS0eomBSFd/M7O7t3m6bCCd98Ls3O/u7nd+8eW9m\n",
       "gP/F3nIRsU+vQm63rCngsIcfOqxOGxeIWtqMJUdtSOAr1v6pw/K6TIEY4TwcOHFvmBy1kwKHyKnj\n",
       "HZb3jYsYmxPus6EQOWq6wdFlkbM7LG+Pixg74vodTwbJMWFexZGrT0+/2WF16ohA7LoX3cauV1vk\n",
       "OLso8Ge1urfD8pJ9Ajgwv9byw7FuaIBWVu/zOg7+7JNDxKProd4MzIODgjy1/IjSCkTN1dxWpiEg\n",
       "rcav/usZLBivADnH7zmwxyOHiLX7kWwCF8CxxaumuN1n9+RmQ4wYfvFghDmO8/jYfVBsgSMNbOCB\n",
       "Yz91fG09QMTWWi70eWSPyCKo2puRoVr9BBwKko1Ybe/Pb4JR04/GyNtVaVf3IzCKvLtAiaLAfRZ2\n",
       "s+dZhw9dZW256f3n1rpPdonaP3wuNyBPMSmDQ28osepyrx+2SF7ug6i8g+3ZkLtMn/0DCTss7ybW\n",
       "yQIkZvNbUJ72hdEie8TneB4toVzy5anOo9Q41n2J70p3ddMbqRuKtYU9k7yZgDy98Ail6rHXqDlQ\n",
       "wYtslPXDJSQvs3EXoTRCi6v9hWyzNQeZK5DE4qr3NFqZECamHKwlt83F1BM0ypi8xLLbGlZoMnre\n",
       "2ilOO6OW6g/I6007o5i5yBN4SV7Ftv9S2ZJe4qMvQTFCpaFdQdrxD9nTlO+9Xmmow/5WGyFmKpiE\n",
       "Xxo4RfNJ9clsVjJYHHB4G3o0nrfG3U8VA/JKXQ3It/DvvzOSZGdNPx6DdqYoopdw5bHNg2ECCxWv\n",
       "mqUrmaZKslO8491i63hoIyJVkf4mt9EFy8OEnRT5sch/N2JQfqFanYDx5R1BecjT+XiO96RqaSZm\n",
       "Dbop9mdsnnt5d1C2gAzH1z0+6OnQBnsL7ObRVWrfstqIxCwwFZdc5KjeZs3M9xZPXJkxRnEjKmJx\n",
       "P6oH5ZVRgraBjaAUE+S0Reyfpqc77WDlXutQOxF7AoaNsg/aiIAoH7O8HYest3VHJ4cxqYnPhTw9\n",
       "UBpq8xxoDdSnKYZK6WGo+7Ba/p3n+IUGCv6+t4IrQdv9IWjDmC36VwI3woMfbsJO+/i3c3Vy2Nrj\n",
       "IEMBye79Ret3fHnasw/dznfOSZP+8QbkNdh6W0GU4Gkkz/rnVcYUuOqF6uTzzMZ8ctBeplT0L1RB\n",
       "c6vJ1kxWez3Vidar8LYsT+E97Cf5//k6mln+OjpQYMkzhfbDNmu6Ll3bEflse8czkhN/Nb/2Zf67\n",
       "FV7mc6ZAsMtz0vnasvK2n6Ufsa7ZKtk+XE9LXZ9h/wUB7C8vfbWhsgAAAABJRU5ErkJggg==\n",
       "\" style=\"display:inline;vertical-align:middle;\" /></a><br>"
      ],
      "text/plain": [
       "left_mult_nonpos_less: forall_{a, x, y in Real | x < y, a <= 0} ((a * x) >= (a * y))"
      ]
     },
     "execution_count": 41,
     "metadata": {},
     "output_type": "execute_result"
    }
   ],
   "source": [
    "left_mult_nonpos_less = Forall((a, x, y), greater_eq(Mult(a, x), Mult(a, y)), \n",
    "                               conditions=[Less(x, y), LessEq(a, zero)], domain=Real)"
   ]
  },
  {
   "cell_type": "code",
   "execution_count": 42,
   "metadata": {},
   "outputs": [
    {
     "data": {
      "text/html": [
       "<strong id=\"right_mult_neg_less\"><a class=\"ProveItLink\" href=\"proofs/right_mult_neg_less/thm_proof.ipynb\">right_mult_neg_less</a> (conjecture without proof):<br></strong> <a class=\"ProveItLink\" href=\"../__pv_it/theorems/9582a49e3f81a48d949acd66403529613fd9baa00/theorem_expr.ipynb\"><img src=\"data:image/png;base64,iVBORw0KGgoAAAANSUhEUgAAATwAAAAWBAMAAACvaz3RAAAAMFBMVEX///8QEBCIiIhmZma6urrM\n",
       "zMxUVFQiIiJERETc3Nzu7u6qqqp2dnaYmJgyMjIAAAAcRTyBAAAAAXRSTlMAQObYZgAABChJREFU\n",
       "SMfNVl1oHFUU/vZndnZmZ7MiCLalsO1qDLGFkKAUSes2hRaLrVsf/HnaZVE0RUMoadHSSigYNpXK\n",
       "gFBLQRxbaTFGd1G01AcdEkRcSx1QCJVW5qG+iOIiFkyq4rlzb2ZnZ65NHlb0wLf3zplv53733nPO\n",
       "vcC/Ym8IROziP5DDljE5XPZwrcvq9EmOqKVMKTlqoxxfsf6PXZbXY3JIhLtSctTe5zhFjTbZZXnf\n",
       "CEhsjg/udJKjZuQ99FjUNLos70UBib3FF/GLfAdZssy3ecg2Z2Ze77I6bZxDuu9F3t7TDJBldp3j\n",
       "91rtSJflxQc49I2jI3Nt0cODa2mnBsTjwgNt8plBaGt94mvzG2hL5+HhaWB65RGTqxA1Z4te2uGY\n",
       "xUL+Jf/9drOnBWT93Ph01Cfb2xFv+UOtwS/UfM+xQ5ZNy9XnwNQ2HiTpzhe7I9TduIqPRV9tcDTx\n",
       "tfUQiyMvmNYjQSmYae/l3v2CrDW2Ic3S0/Ki08EWai5wqIg7Um3vzm9F3jbOSOQ9UQmTyTOBnMUf\n",
       "YkUOCzXvuc7mn1iCSlNVWm15xwVZx+3I0Tv9L+Z40MIBasochqNK1WVfOW2RvOx7UXknI9FAHv0G\n",
       "Yo1OecCvfDXZbGKTqJeC8sTmMmJyCWV6h0PMcSf7lC9Pcx+jztneH7yqdF8v0ZK9UK0d7JnkzQbk\n",
       "GYVHKVTPvkzdkQoOsy0bHCtxj7II1encXCg32jOo2/iMRdZ4KDUYMeFig19R/kCGTWGXwPRT5Duo\n",
       "LLHotsZUmoyRs/bx0y5vJ4YC8vpT7gRmWcrDXlKoMuF8qWxxj8I3L5gan1C89/vyGhijU3Q5NfzC\n",
       "4pErmPLl3UTKveinBj6k+SQGFDYrBT8zxuld6NO9ApC//5liQF6px4Gy3qsSb4/HWTAP4XHhodWL\n",
       "CXmseBCSN9MtzY/rdD57yKCR7FBZZuREJfmnv8zHsFAh0jA4WFDGGnEe7Yve7zCqygu12jHkv9wc\n",
       "lIccnY+XPU/CTrER1qFXeChgcqLksg0k6NX+QvuyoVfvPnkXleVS6FBjZL1aWPQd5zY+WaUPsWBj\n",
       "yFK+1c30dyztlJbCGBO4AxW+uR81g/LKKEHfwkZQizFq9EWcmBGedube6lA7Lz0BWfSFDrVxDp4+\n",
       "ZnkPTllvGq5BDQ4mW/icyzMCqaG1LoOWXXuW1lAtPQLtONYovznCU/Dr3spXgtD9YQz1ovxKIFa4\n",
       "+sFW7Guc+3auSQ129rlIU0ZljvykD7m+PP35hzexBdKmTPrHq1DWYee9BUd44pcG/DgzOVZ1oSLi\n",
       "UQo4+YUqaKJsNXSTpVNfLfCfzrKsTOMdnCD5Qc+qrqNp6XV0pFAKe6cRPmwzpmhS9t7IZ8OO55Ku\n",
       "/Gp+68v8lVVe5rMmR9C13CSv2ivK23OJfhz8Tyzx3wz7N5K3JVjXATqvAAAAAElFTkSuQmCC\n",
       "\" style=\"display:inline;vertical-align:middle;\" /></a><br>"
      ],
      "text/plain": [
       "right_mult_neg_less: forall_{a, x, y in Real | x < y, a < 0} ((x * a) > (y * a))"
      ]
     },
     "execution_count": 42,
     "metadata": {},
     "output_type": "execute_result"
    }
   ],
   "source": [
    "right_mult_neg_less = Forall((a, x, y), greater(Mult(x, a), Mult(y, a)), \n",
    "                             conditions=[Less(x, y), Less(a, zero)], domain=Real)"
   ]
  },
  {
   "cell_type": "code",
   "execution_count": 43,
   "metadata": {},
   "outputs": [
    {
     "data": {
      "text/html": [
       "<strong id=\"right_mult_nonpos_less\"><a class=\"ProveItLink\" href=\"proofs/right_mult_nonpos_less/thm_proof.ipynb\">right_mult_nonpos_less</a> (conjecture without proof):<br></strong> <a class=\"ProveItLink\" href=\"../__pv_it/theorems/ce1ab11e0f02ab9ac56ec91bbd2db5f17b7f08b30/theorem_expr.ipynb\"><img src=\"data:image/png;base64,iVBORw0KGgoAAAANSUhEUgAAATwAAAAWBAMAAACvaz3RAAAAMFBMVEX///8QEBCIiIhmZma6urrM\n",
       "zMxUVFQiIiJERETc3Nzu7u6qqqp2dnaYmJgyMjIAAAAcRTyBAAAAAXRSTlMAQObYZgAABEpJREFU\n",
       "SMfFVm9oG2UY/yW5y+UuSTMGgtsY3BatpTopLeqQbmYdbChuZn7Q+SkhKLOgoYx2Op1ShpZ0MjkQ\n",
       "6hiI5yab1rocEze2D3q0iDOOGZhQlDkO0S/+wSAObKfi8957ubvkbluFyB745bn3vSf3/t7nz/s+\n",
       "wP8ibzkIyJlrGLdLUuOw2OC7DrNTxjmCEtdCjYMyzPEle/6pw/S6NI4Q4rY7cPz+VuOgnOA4REoe\n",
       "7zC9iw5CZJarT4ZbjIOSUm106aSMDtPb6yBE3nH09qf8xiFuXmYjXZuefrPD7OQRjtC455yHna94\n",
       "xmHyA8eflcq+DtOL9nEoa4eHZj3Sg/0rKVJ9zfHUz67xkX7IK13DN+bWUEjnYIOcPHnjFYUlkJo1\n",
       "nadEnWMG8+rL7vtNWlcDSFsejb1NY3MTog13qRX4jdRljs3Nago7fXZPbFT5iq0vHgpYjuMSTjkD\n",
       "yeCo4Sv9QZZHdjKtRoxKMOnFcr7PMZaNjUiw8tTt7KxjPanTHBKi9VBuH8xtgGqmjoTQ21lsZ/c9\n",
       "MIqMzkeRHIeOij2usv3HFiHRVkXXS3fUmsYKliND75R/2MQDOnaTKnCk6lIou/Rrh3Wil/4wSG+q\n",
       "PRvSv9K3ryBitNIDfufeZLuJjKOa9+gpn6uesbCIAr3DHjZxK/uUS0+2HqOHo90/2qfSPd1kJnRD\n",
       "0jezMdGb8dFLZR+lVD36Kj0OFfECW6W/nEeU2EFcgFRvDS7EK94WqiY+ZZnFgyvfV/dlQszCGvdE\n",
       "+QtJtoWtDiafpLkxcZFlt16WaDOpjL6D33aqGRvw0euNW6OYYSUPc1Fcxo7/fEEXXmQTIg+evzTO\n",
       "Ur73uvQMlOkW5aUhl92j1jYuYsKldxVx64xbGviI9hPrE9muRDA/4PBW9Ch23qr37sr56OW76hBX\n",
       "299/dyTKknkAj0M5l+Peizj02OFBEK4mGrKb1wk1vSdFK9nl/V7Oux7IOFYU/nYn9mO+SEaD4GBJ\n",
       "GTGiPNsX7N9BlMTnK5X9UL9Y56eHDN2PF+yZmBlnZFahmzZ8zrBzL+MsygJIUEq9Wa/ZUEq3T91G\n",
       "x3K+/cgaYe+yC+7EsbVPlOhDLNkY0lRvVS3xLSs7sSEyi1HcgiIP7sc1P70C8lDWsxWkXISUsoCD\n",
       "0zS62/BX7vUuteOhNyDLvrZLbYSDl49W2IZD+tspK0UKY0IDn3F6KV9pyI0LILfLT5MPpfwjkA9g\n",
       "hfiHHb7LdWTdc28JLUFr/1BGNRfeEjgeLp3cgB3Gsa9na6SwpcdCghyS3PeLMmC59JRnH76LOUie\n",
       "0Ogfr0NchS13Znl2nUX0vHtfJTSOazZUJ55jMtY0fokSLryh8otTTYaisXLqqfj+03osi5N4HweJ\n",
       "/n9uRxOh7ehQtj0j7Yt2MtBA2ypubg98tn3iGcEKb82v38x/s8RmPq1x+KeaSrhk3pDetvP0w+Oa\n",
       "rJAcwM2U2M1Z9l8MLitgDSogMQAAAABJRU5ErkJggg==\n",
       "\" style=\"display:inline;vertical-align:middle;\" /></a><br>"
      ],
      "text/plain": [
       "right_mult_nonpos_less: forall_{a, x, y in Real | x < y, a <= 0} ((x * a) >= (y * a))"
      ]
     },
     "execution_count": 43,
     "metadata": {},
     "output_type": "execute_result"
    }
   ],
   "source": [
    "right_mult_nonpos_less = Forall((a, x, y), greater_eq(Mult(x, a), Mult(y, a)), \n",
    "                                conditions=[Less(x, y), LessEq(a, zero)], domain=Real)"
   ]
  },
  {
   "cell_type": "code",
   "execution_count": 44,
   "metadata": {},
   "outputs": [
    {
     "data": {
      "text/html": [
       "<strong id=\"left_mult_neg_lesseq\"><a class=\"ProveItLink\" href=\"proofs/left_mult_neg_lesseq/thm_proof.ipynb\">left_mult_neg_lesseq</a> (conjecture without proof):<br></strong> <a class=\"ProveItLink\" href=\"../__pv_it/theorems/6787549f43da598be786e975eaae3d254a13dfb30/theorem_expr.ipynb\"><img src=\"data:image/png;base64,iVBORw0KGgoAAAANSUhEUgAAATwAAAAWBAMAAACvaz3RAAAAMFBMVEX///8QEBCIiIhmZma6urrM\n",
       "zMxUVFQiIiJERETc3Nzu7u6qqqp2dnaYmJgyMjIAAAAcRTyBAAAAAXRSTlMAQObYZgAABA9JREFU\n",
       "SMfFVmtoHFUU/nZ3ZndmdjZbBMHaP9MuxBAfhAYfSFvXFFoEW7f+8PFrl2CRgIZQErVapQQpm0pl\n",
       "oKClIE6rtBprsygq7Q9ZEsS6Fh1QCEotg9g/PnARBZOqeO5jZmd2Jm2ElR749t458+3c7557zr0X\n",
       "+F/sNYmYnVmB3G15W8BjD9/1WJ2xXyBuWTuRHLcxgc9Z/8cey+uzBRKE83Dg5N1RctxOCxyhRt/f\n",
       "Y3lfSSTYvGg+HouQ42ZaHH0ONY0ey9srkWDHZLtzd5icEOY1HIXW7OyrPVanTwgkrntZdh55sUNO\n",
       "sh8E/qzX9/VYXnpIAIcX1jtBODaMjdDKmkO+45WfAnKEeHwj9BuBBXBQkGeuPqKyClHzTdnTXAFl\n",
       "LX4NXp/CovUCUPACz+G9PjlCbN6LdBu4CI6tfjUl7T57DmyxxIhRf6yWyHMBH8qHXEPgmIu7eODY\n",
       "TwtfOvcRsbOWi0M+2SeyCOqNLdDo+x+BI4e0m6jtnYXNsJrm8bi8/PcxdeSZRFEuUKoscI+DPex5\n",
       "zuND11lfbfv/uakVkCXR+IfP5ToUKSZVcJhuLlFd4aWjDskrvBuTV/glxiWP8QdSjai8G5iTBajG\n",
       "3b+F5RmfWh2yT3yK59EyqpVAnu49RJ03+i/xXen2fnqj9CPnbGXPJO9USJ5ZenA30lzdSA3PslE2\n",
       "jleER11Czo0srvEX8u3OHFSuQBGLq9/pdjIhSsx4WE/NdomZx2iUKXWZZbcznqPJmEVnlzjtrGZm\n",
       "OCRvMOtNKs+JBF5W17Dtv1J1hIc+kLMipWFcRtYLDtmzlO+Dfmno48FWGyNqNRxAUBp4n+aTGVLZ\n",
       "rFTwyBzdjgGD5611x+PlkLxKH33rHPPob06kWX0M42HpoeilpDy2eTBMY7HmV7NyWWvrJDvDHW+V\n",
       "O8dDFxGZmvI3NZskWB6mGmmRH0v8dxNG1Wfq9WlYn90alocinY/GOTbzTDPLxKxDv/RQ9hTloGwB\n",
       "GU5seHTU12GMDpbYzaOv0r1ldRGJWWIqLkkUqN7mbO1bhyeuyhiTuB41sbgftMLyqmBfv43lVjlF\n",
       "XWMJh2alp1O5VzrUTiaegFGj7IMxISDKx67uwBHnddMzqcGU0sYnQp4ZKg29/QX4Glx0kas8AP0g\n",
       "1qq/u9JTCva9VVwJuu4PYRvHXDm4EsgIj763GbsaJ76eb1GDbQMeNApIft/PxrAXyDOevP8WEaCz\n",
       "9I+Xoa7DtptLrvSkzwfnlWYLrHihOv00s6mAHLbnKRWDC1XYZDU1DJvV3kB9uvNK6x7nbRwi+f/5\n",
       "Oqpd/To6UmIJNIPuwzZvyybb3Bn7bLfjCcVLvppf+TL/zSov8wVbIOzyG+VCc2V5+TrZQew4T303\n",
       "7LmWlrk2w/4LEbgyVZg+fm0AAAAASUVORK5CYII=\n",
       "\" style=\"display:inline;vertical-align:middle;\" /></a><br>"
      ],
      "text/plain": [
       "left_mult_neg_lesseq: forall_{a, x, y in Real | x <= y, a <= 0} ((a * x) >= (a * y))"
      ]
     },
     "execution_count": 44,
     "metadata": {},
     "output_type": "execute_result"
    }
   ],
   "source": [
    "left_mult_neg_lesseq = Forall((a, x, y), greater_eq(Mult(a, x), Mult(a, y)), \n",
    "                              conditions=[LessEq(x, y), LessEq(a, zero)], domain=Real)"
   ]
  },
  {
   "cell_type": "code",
   "execution_count": 45,
   "metadata": {},
   "outputs": [
    {
     "data": {
      "text/html": [
       "<strong id=\"right_mult_neg_lesseq\"><a class=\"ProveItLink\" href=\"proofs/right_mult_neg_lesseq/thm_proof.ipynb\">right_mult_neg_lesseq</a> (conjecture without proof):<br></strong> <a class=\"ProveItLink\" href=\"../__pv_it/theorems/2dfed4d1beab3b3671d3d4e096e808b406cf9fbd0/theorem_expr.ipynb\"><img src=\"data:image/png;base64,iVBORw0KGgoAAAANSUhEUgAAATwAAAAWBAMAAACvaz3RAAAAMFBMVEX///8QEBCIiIhmZma6urrM\n",
       "zMxUVFQiIiJERETc3Nzu7u6qqqp2dnaYmJgyMjIAAAAcRTyBAAAAAXRSTlMAQObYZgAABDVJREFU\n",
       "SMfFVm+IG0UU/yXZTXY3m0sRBNsipI2ex/mH4w7/INeaXqFFsDX1g9VPCcEiBxqOcletVjmKlFyl\n",
       "siDUUhDXKq2etQlKlfaDXe4Qayy6oHAotSyiX/yDQSx4VxXfzGx2N9m9ekKkD377Zt6+3fnNzHsz\n",
       "D/hf5FUXITmzjHO3pA0Bh3W+7TE7bVogLEkj0jks4wKfsfaPPabXZwhEEOfLgRP3djqH5ZTAEVLq\n",
       "dI/pfekiQuaE+mi8wzkseo6jzyTV6DG9vS4i5HVXb98VdI5Y5lUcmebs7Cs9ZqdOCETue8FtPPKC\n",
       "7xwl3wv8Uavt6zG9+JCAtn58bM4nPTq8hnZqqN0//JPnfGwY6hrP8eX5dbSl8+CgRZ759xGlFZCa\n",
       "s9yWYgucxELuee/9JqOvBWQcn8betrO1CfGWN9Rq/ErqksDmdjZFnT67D2zMiRE77aFcIstFfOB2\n",
       "Ug2BJr4w72dxxIPpRiTos7S/lwtDrrPa2AiF/dLk0WnjHlIfCqQQtyO5vTO/ATlLPxaml/4uxI4s\n",
       "k8iaohcrCJio8X6dzT+xhBRNVfZW6ZZm21nDdcjSO+1vZrjPxG5SJQHdTkWyy7x41CR6mXdD9DK/\n",
       "hHzJol1GrNFJD/hNrGaZGadRL/r0tE9yvrO0hBK9wx5muIH9yqOnOg9T443+H/ipdGc/uUn9SJmb\n",
       "WZ/onQzQ0/MP7UKcsxsr4xk2ynC1KCzyIlJ25+ZCvuxPoW7hHIsssbnq3XYgEhIO1nknyp9Isyls\n",
       "dTHzGNmm5CUW3WY1RZPRs+YOcdvlrMRIgN5g0pmUnuVNa0lexY7/YskUFllsXjA1zlK8D3r0GqjS\n",
       "LSpSQ616Ry13LuOAR+8Kks4ZLzXwPs0nMSSzWcngK3N0KwY0Hre5ux4vBOgV+2xo55lFfXMizoJ5\n",
       "BDtdC61ezKXHDg+CdEVpqV5cK7nMHp1G4un9VsG/Hsg5UZb+8gz7sVAmp1EIsKCMNeJl/m6RP0dR\n",
       "kZ+u1fYj9+ntQXrI0v2onWczT1hJRmYt+l0LBUzWHZRtIEGrDOb9YkOr3Hz4JjqWi91H1gR7l1/0\n",
       "DMfXP1qhH7FgY8hQvtUN5RuWdnJLZh6TuB5lsbmnm0F6JbC/38FiqxCjpraIQ7Ouxc/cq11qJyJv\n",
       "QBZ9XZfahIBIH6O0DUfM13RHJ4UpqYWPBT09kBpq63PwvblkI1V8EOpBrJZ/t11L3jv3VlASdNYP\n",
       "VdQL0SWBu8KV9zZgR+P4V3NNUtgy4EChBUnv+1kbcTx62pMP3CYW6Cx98RLktdhya952LfEL3n2l\n",
       "GALLFlSnnmIy1XZ+jgIuuqAKiptNDc1g6TRQC3yjdH/+Ng4R/f9cjiqR5ehYvjsi+UU7EyqguUpa\n",
       "20O/7TY8ITnRpfnVi/mvV1jMZwyBoKmtpIvW8vTSNZKD2HaB2nbQci0lcW2G/Qcb+i6G0+97owAA\n",
       "AABJRU5ErkJggg==\n",
       "\" style=\"display:inline;vertical-align:middle;\" /></a><br>"
      ],
      "text/plain": [
       "right_mult_neg_lesseq: forall_{a, x, y in Real | x <= y, a <= 0} ((x * a) >= (y * a))"
      ]
     },
     "execution_count": 45,
     "metadata": {},
     "output_type": "execute_result"
    }
   ],
   "source": [
    "right_mult_neg_lesseq = Forall((a, x, y), greater_eq(Mult(x, a), Mult(y, a)), \n",
    "                               conditions=[LessEq(x, y), LessEq(a, zero)], domain=Real)"
   ]
  },
  {
   "cell_type": "code",
   "execution_count": 46,
   "metadata": {},
   "outputs": [
    {
     "data": {
      "text/html": [
       "<strong id=\"mult_neg_any\"><a class=\"ProveItLink\" href=\"proofs/mult_neg_any/thm_proof.ipynb\">mult_neg_any</a> (conjecture without proof):<br></strong> <a class=\"ProveItLink\" href=\"../__pv_it/theorems/f0c133356795f9964935e27ef376eccadcd5681a0/theorem_expr.ipynb\"><img src=\"data:image/png;base64,iVBORw0KGgoAAAANSUhEUgAAA0QAAAAZBAMAAADjz/OpAAAAMFBMVEX///8QEBCIiIhmZma6urrM\n",
       "zMxUVFQiIiJERETc3Nzu7u6qqqp2dnaYmJgyMjIAAAAcRTyBAAAAAXRSTlMAQObYZgAAB1JJREFU\n",
       "aN7tWn2IVFUUP+7Mm483H+sfQa4SjLtZUkmDS2poNSUl/aOzRX5E4LAoYZkMBWul1LRBjZnxSljN\n",
       "UkYlzbXcgVhsw3JyyyjdGCooRWXAD0jCJCzaMaV77r3z3n0f897bp+P6hxfum3fvPe+8c87v3nPP\n",
       "O3cAHEpg5Utwo4xa8a9c7UgTvGGm0S09owpRuMyqt7JZ14ooHtkMOLLefI1BQVWoOgMMogr+HLeD\n",
       "KI4/sXIDZPmYV09Fzml8biaXZR75BBQ71qbWCAR8LetRpGW8UtF64BD2nbWDKFokP/FCAyD6nVdP\n",
       "JS6Y9iSpe7xCXbFlbWyNRMKkxwf38EpF64GN6HBydhDR0Y0NQCiWZNVb+Vm4v0hqNOGR0QFb1sbW\n",
       "CEpz0eODqApV5wCFCJdHtGi7F+EaO9QAiIIKq96KEGj6qzjlxnpktNWOtak1gjLPq+dBVag6WylE\n",
       "sR96ezfYhwvHent3ZRsA0QZevYUagkRRen/Kqz9K2bA2tkZSvvNsmVO8omgkovs3n19tD1FzPv9m\n",
       "qQEQtfEanjV1vDMkBqImwUPGO9uIHxgUMGud5MLBtaYZsdHXNiVNrfWDE52XhJHoTOtM89tsHVxN\n",
       "7EFeUTQC0VKANfYQBdIQUhoA0TpeH1Ti5x2JjUQhIcTsOysPA5zQ4FwF7ziv4WKIBQox+vPjOSwn\n",
       "jaxZy98Cfzp/ZRqI5MuFPsX0NrtZqIp9glcUjUA0mwYOfOactoLIn3QRLs2tjBiiVazKt4CPRCQL\n",
       "mV4WdDg1OVGbShMU9s/9BfgLYK82VoJnQcqpDxtdPb2uhkCRKhwxerJg0djaWoYZ4MSRETFDIk2k\n",
       "Cs2JGj19m72KTGyIp5kqWFG0HsSgicwTieHNhJNe+AYmZrRP1yxMcV6kLkOzyNtPd/Lbm1j1VSGY\n",
       "gMenswVhRlq+DDUiWKTSjCFueg+d+afhfpD/A1isjj1ANJbas+rDhkJpfNWawpJxCYusWYswfN6R\n",
       "IyVihmQiV6CvpIkPTipSsYmBgKmCFUUjEEXL+gTC7sH74PNowVfQIBoC5y0z7hxhyvvay/LCgvSH\n",
       "HqIxOegjM2cOe13G/FwXqEQazZiU+Fnkv8ghomPjqN/Jqg8bV0mGMeTFEiJ9axzIfztyZESayOSz\n",
       "aF5REx+cVGRi02KAKFyZr/tYWbupAF8mklEhAbRFyjh/BDjvVr8N9ELsQ4B9ekdHptp+Vf56hRNZ\n",
       "e6NLdJaqDHBJqQa1YVjbQ7LaXnTG0tERhpHzThw5kWCRMl8X6tvsVWRiQ41wDhcNc3RrlpD72ygR\n",
       "CYxm401//3siRKEeMpPkqSvMMYnWubj1GRa4WIVOzBToCh/uJ5NCHy70FWFFRHGCiBI9lLEMFy7g\n",
       "PiCEC5fQXThARAwIRVSYhwt1IhHaki9CoDLgBBElYoZkb0iRDVR8m4OKTOxtM83hAnxG3hxtRrx9\n",
       "/grL2fVHP31KgCiCTnRnenEBAoa9knbSJN7tBdzKg6kOEw32YcqJkh09og3w0DKUiHVFdVMMvTV1\n",
       "z5rbZkSlquXe9xy8Tq6z1PY0kO/RGdSCoS8D29OoMPhKttsqtrrh10xJ5Kgx0zhSImZIlvwrh5K6\n",
       "txlV1MQSxE7O5apgRdEQIgw7NtFwaFc0I1Ou/VAaFCDCeAnaYQFIXxvMj50sROmmsM8AyURD+ujv\n",
       "drx8ISSW+XKWOyf13KqDiHrrLp3bpkTh3ZqRRAS231XWRaPRoZ/0BBYM4fDxBCrMQih99Jw1tna0\n",
       "LupM6fpVZhpHSsQMyT3MEOjeZlJRFUsTW1YOclWwomgIUaxALcwWtfRiPt9NINocFCE6SuoEIGs4\n",
       "aDA/7eR7/zTatqJhZUE+n0988ES9BNAcF+FgKFE/LyNn7QxdjyHBdqfbBJArjt02Y25URNePqlB1\n",
       "doJ2XiRX03zPz7BV5H9MhAgphmFdr9H8tDNCt5oqhWLYAiLsO05WbICu+G3ah4E+jepG/r6P6mc3\n",
       "jWlUVwbFIMd1GtUNR27IK4Bo2JRG5V8rlVL4LQCyaXyLzV8AjhkgghbpQhnNT+g2FmoX7IzMxr6X\n",
       "YzlyPQU+CpFKwfrCT+J+l6Z5nLRmkzUgZDb2uhD/q6iwABRzBl/3AeYGog7Lwwg9a7XlhiMxZP1B\n",
       "NypKY02HERz85YpEVsFkIhCJcfyvpNicFyF65M42ChGh61CkFrxMYJ1LsW/+Ybyun3IHhaijyCha\n",
       "eB+N5tYim0/OvaHOM/FIb/2rnc7y7/hemK85/ZghixWe/o+L04nJYJXbsj7Sc8WRGLJ+Ds+Nik05\n",
       "beqGFNAfjEeYI52c7zYkgMRWgX3+qk/QTSDF7yIqDRT1NPS4o4nsRXozXsWD8ZinLCJR9Ygj62t6\n",
       "ME62W1SFqkNFEyEaCDw63jKNKqzCu2eKh/38rrPA7wZUGu2fBGykIYe2V1wsFR7dsuRdo6VEiMqB\n",
       "g4oDRIyu7p3WjulH3t8C1yVEB5XrTaTlpr9guPgH0NX4H92xe+FG8VT8K7v+B2rKQR1I3VhWAAAA\n",
       "AElFTkSuQmCC\n",
       "\" style=\"display:inline;vertical-align:middle;\" /></a><br>"
      ],
      "text/plain": [
       "mult_neg_any: forall_{i, j in Natural} [forall_{a_{1}, ..a_{_a}.., a_{i}, b, c_{1}, ..c_{_a}.., c_{j} in Complex} ((a_{1} * ..a_{_a}.. * a_{i} * (-b) * c_{1} * ..c_{_a}.. * c_{j}) = (-(a_{1} * ..a_{_a}.. * a_{i} * b * c_{1} * ..c_{_a}.. * c_{j})))]"
      ]
     },
     "execution_count": 46,
     "metadata": {},
     "output_type": "execute_result"
    }
   ],
   "source": [
    "mult_neg_any = \\\n",
    "    Forall((i, j), \n",
    "           Forall((a_1_to_i, b, c_1_to_j), \n",
    "                  Equals(Mult(a_1_to_i, Neg(b), c_1_to_j), \n",
    "                         Neg(Mult(a_1_to_i, b, c_1_to_j))), \n",
    "                  domain=Complex),\n",
    "           domain=Natural)"
   ]
  },
  {
   "cell_type": "code",
   "execution_count": 47,
   "metadata": {},
   "outputs": [
    {
     "data": {
      "text/html": [
       "<strong id=\"mult_neg_any_double\"><a class=\"ProveItLink\" href=\"proofs/mult_neg_any_double/thm_proof.ipynb\">mult_neg_any_double</a> (conjecture without proof):<br></strong> <a class=\"ProveItLink\" href=\"../__pv_it/theorems/c6885aece0982d945b783633dd37d37612464d870/theorem_expr.ipynb\"><img src=\"data:image/png;base64,iVBORw0KGgoAAAANSUhEUgAAA0QAAAAZBAMAAADjz/OpAAAAMFBMVEX///8QEBCIiIhmZma6urrM\n",
       "zMxUVFQiIiJERETc3Nzu7u6qqqp2dnaYmJgyMjIAAAAcRTyBAAAAAXRSTlMAQObYZgAABw9JREFU\n",
       "aN7tWn2IVFUUP+58v3kz6x9BrhKMa5ZU0qKkhlZbUkv/6FjkRwQ7LEpYJkPBWim1bVCzmTElrGYp\n",
       "zyQ/1nIHYrENy8kto9QYKihFZcAPSMIkLNpVo3vuvfPufW/e1zx30D88cN68d+fcM797f/fj3PMG\n",
       "wEXCq16CG3LNJLhqjatN5EY3XVvpvaYUxUpMhWz27ctYM5736WaQq7P7+gttwCCjqIwfJ5woSuJH\n",
       "olQHHDu56qJ0+XUl1dx5M7ks9+knnGdq7742WK9lfQJZzsEQig7h8zknitQC+UhqdaDod666JP0O\n",
       "fkPNU0T3+KW6zNTBfW24WnxW3MPBEIo24oLT5UQR/XZjHRhKtDAV8rNvX3LNS0TVlE9HB7jau69J\n",
       "Ggs+K9IGHKAU4fRQC457Ec6xQ3WgKJJnKsR/8CjVDI7gABzr09FWrrbua5P5flcf2oCtlKLED319\n",
       "G5zDheN9fbuydaBoA1cRPvj+FbmmSu9P+12ZWpnC6AD7znfvnOZgSET3by63xpmixlzuzWIdKJrE\n",
       "VZcGXPXWD010H3mxOdPGV9WsdHLHJLIqDEmcNU92X1cqNmoLUxgdYGebZ0uLaHPaO5AhDoZQtAyg\n",
       "x5micBqi+TpQtI6rLlESNgab4E/3qg/mkxfMNSvSf04ZBjgpem01vOPas7pNoswU4MfzKKeuCpjy\n",
       "n9avd92GQrTsHchJDoZQNJcGDnwYnrGiKNjiIUCaV66ZotVcxW+R0b+1BLMAQiyAsRq1WKbcAoEu\n",
       "PgW1Ss2K7NfgL4C9tIfod0V41sGhsIEkGeTxLFOoFRj1YwYWH4HGVMV+DYQLsFgYWzRMAoINQCC9\n",
       "yEEDGSMhxjVraeiFb2BiRhxdszDVfYJ6jC7jbz/dwW9vYqrQ0XqeoBpDlt4HNHgeQtOzbAxa9ASW\n",
       "BUYgQlq+RLfBmnuomzNwPyiXAdrphMJxQzw6OdRtCDZs+wWmBvECjPoxAwuUob8oQAM8PlMYWzRM\n",
       "AtLOwRCK1JIxgbB76D74XNUCmqDoCLhvl0n36FLZN72kLNZCfxgpMvbEOFD+JhOX/WCnhRcsG9MF\n",
       "/WnpmdYUx6LgJU5RBMfZOBrm2ToUNmx42lHkBoz6MQMjx6L5BQGaSJswtmiYBESiKFZeaDisrN2k\n",
       "wZepFlVKAG0JZdwPAO671W+DfZD4EGCfw0JHJkD8gt4TdkJG5v6qlagiV+h4bdMHxmWJIrvBc1mE\n",
       "7NmKMduLzl4VsMYSnxfsO5BwuQFp42AwR9ezlNzfRg1IKDQXbwYG3pMpivaSUaRMW1kdj4jC9uZn\n",
       "WNBicRpkZUFcCh8eIIPCIVxQLkG4POjaEwVYGc8/lLEMFy7itiGFC1dw4XBxSG0+mm0IF0YDWGMr\n",
       "2Z0EXWQjcaZIAiKFC/AZ+VW1EbkOBMssZzegfvqURFEcF9Ad6XYNwqZ9khbSJN7tGu6RkdYFVTZY\n",
       "hiknanbsqPhiCAyxMdvPuuHXTNHQE7hu04VaLODRVKJTheKI5U74HLxOrnP05xmg3CM7FL6EQ2rT\n",
       "Mg/7oMgUXIFRPy7AwqWojiyQgW1pmSK9rrS1CSBzOBikCEOOTTQA2qVmFOpxAIpDEkUYIcF0WASh\n",
       "r03dj4UsPOmmtM+CUJUNKaOf2/DyhZRGbjPPe2z/9uYlHa0Giui63WlYwJWOyb23xnZnDTUrsu2u\n",
       "kiE2VY/8ZDTQfQmHaKPkDwILppLm5cIaWCe4AlOmHRH2h0+kjA3ulFtnBnKGg0GKEhrtYTahQy/m\n",
       "ct2Eos0RmaJjRCcAWQwjpu6nhXzvn0GfrWyYLMrlcqkPnvCUAAp6Oc5HU/YZGiVb3cmeDmo7uNok\n",
       "gGoGZpY2jydG2oAdIN4XKSNpvudn2CwKPiZThBbDsK7P3P20ME63mhFKxbAFRVh2gszYMJ3tH4lD\n",
       "gUMa1VNP9H9sn+c0p1E9ORx2T6PWDMwXRcOGNCo/rZSLsbcAyKbxLT7+AnDcRBE0hS6WsPuJ3Uat\n",
       "csHC+FwseznRRa6nIUAp0i1YWexJ3O/SNEGSFj3QA6bMhp7EiHvpia9Ui5pSLt9wHPPgMDTW9mWE\n",
       "f2Bm2QvegEgvI/h0WJEPkVkwhYAh4WvwlVY25mWKHrlzEqWI2C3Ih5rwMoEVLsOyhYfxun7qHZSi\n",
       "BQVm0cTLaDS3Ft18cv4NfaW3faUXm/mPh5cJ27+vrimzL+dVvDhs6GJcRO1f6dUOzCTrX+0AT0B6\n",
       "KgNDfjEeZzvSlFy3KQEkP2ns6KvXoMt+K7+L6zZQMNrQ1x0NZC8ydlzdXown/OQUcQvBgPOoq/s6\n",
       "CwFCG0CByBQNhh8db5lGlWbg3bPlV/v8rkPjd4O6jfjvAPumLi9tR1mWvqtdj0Bkikrhg3kXipid\n",
       "7Z14Thi/eX/L9c8QrFh+XQLx8A+g0fgf3fF74Yb4kuCqzv8B0FA/PT+zSMIAAAAASUVORK5CYII=\n",
       "\" style=\"display:inline;vertical-align:middle;\" /></a><br>"
      ],
      "text/plain": [
       "mult_neg_any_double: forall_{i, j in Natural} [forall_{a_{1}, ..a_{_a}.., a_{i}, b, c_{1}, ..c_{_a}.., c_{j} in Complex} ((-(a_{1} * ..a_{_a}.. * a_{i} * (-b) * c_{1} * ..c_{_a}.. * c_{j})) = (a_{1} * ..a_{_a}.. * a_{i} * b * c_{1} * ..c_{_a}.. * c_{j}))]"
      ]
     },
     "execution_count": 47,
     "metadata": {},
     "output_type": "execute_result"
    }
   ],
   "source": [
    "mult_neg_any_double = \\\n",
    "    Forall((i, j), \n",
    "           Forall((a_1_to_i, b, c_1_to_j), \n",
    "                  Equals(Neg(Mult(a_1_to_i, Neg(b), c_1_to_j)), \n",
    "                         Mult(a_1_to_i, b, c_1_to_j)), \n",
    "                  domain=Complex),\n",
    "           domain=Natural)"
   ]
  },
  {
   "cell_type": "code",
   "execution_count": 48,
   "metadata": {},
   "outputs": [
    {
     "data": {
      "text/html": [
       "<strong id=\"distribute_through_sum\"><a class=\"ProveItLink\" href=\"proofs/distribute_through_sum/thm_proof.ipynb\">distribute_through_sum</a> (conjecture without proof):<br></strong> <a class=\"ProveItLink\" href=\"../__pv_it/theorems/383eda0174c2f700891ddc7534ec5cad826968a20/theorem_expr.ipynb\"><img src=\"data:image/png;base64,iVBORw0KGgoAAAANSUhEUgAAA84AAAAyBAMAAAB/g5+UAAAAMFBMVEX///8QEBCIiIhmZma6urrM\n",
       "zMxUVFQiIiJERETc3Nzu7u6qqqp2dnaYmJgyMjIAAAAcRTyBAAAAAXRSTlMAQObYZgAACttJREFU\n",
       "eNrtXH2MVFcVP7Mzb74/SFOxtNYMu4Kk2jCW2FbBMmpqo0nLrMZS9A8mmzZGxTp+kShNHDGxixXz\n",
       "DEmBappHiVBW4wzbmmZNIyMkbaQgkybGFqGdSIsp0ZU2lbhLKd6v93Xfm3333Uf3zdO9yc68d+85\n",
       "9559v3fPPffccwZArMQuX+5AGCVfhYUiWfax7xOXXxdliU3t1kKR9dgCXNIl0aPfB3YfFMa5Fo6o\n",
       "Q/UFuOTLS/rF6KDjzL2Ima5sR/KcU/POeMVKuhMRnLNX2+8fl+7pccj+oOGL4d3sIqlKDinNeOUf\n",
       "36DjnK7Y71+T7glxFiu+OM7oD6sn+5R7oU/ogxHB+ZDd+CtUZDvCnKW2tWayD2WuzC4u6jWHZQc9\n",
       "HDrOqU40cP4WJ7a0JsSc6zQ/OCdm9Zo9soPuCR3n3EwkcC7M2O93SveEOZ8FPzjnjdW8KLuFl2a8\n",
       "4hNlwHFONe33I9hwXnPTtd6cO44s1XjOs8OrfeBcHBthej5vWS0OD3s/CIMmXwkd55e1KOC8kZsQ\n",
       "29Hfx9XieYB7PDwES+BfaPNdsXJm39ZaqsnohXPrXBZpkyL6vwumPbWzne55jY1phq4i6ogw/mka\n",
       "lzPh4NwqRwHnD3H3WxBa10O8CZ+7hVq0LjzkBd7ThVsBFNWgQZy5WSiVGaMAzsgEfAPd4ZqG0c0D\n",
       "kGx7jY1p4NugM4Zbir0o4LyYu0fbwfgspBASd9C31blzyb6NP9dq8E39je7pnD1odRgjmmPfmJ4+\n",
       "6+DOT0///b3T03V0eRtk36KVynm9mzixzeYem9BkZw3GcMvQTARwVi45cY41oVXTn3Wq7mTajD+u\n",
       "gey/9TW+zjjR9nldmzEKzOczkLhowZl0E2uaOPcbm9AkGgOCc+ZSBHAemnHqbTQlDxnPuq+H4i3I\n",
       "nYfEchtnqYunuTDOl/DMfGy1ARqZwx3wHJvQ5CufreuMdH0+GxLQiyOAc3oROOywVhvuz6leOF+E\n",
       "ZG8qX9KsnKUqWtvFcX4TL/KVu8Bqh6FXBdoeYxOa4l8/M2sz4EIrD0YA5xi3rYIjCPtyYXPeNqfI\n",
       "qohXS7o0k7IV/lLvPPKUjTPZxV5UHmeyzFq5dZy/Bj+ErPoMXnE7Ok+8Dntr1rENRnO1JjSl+8DG\n",
       "GF45wXAm8p0WwblItgrdeZSxxe8/0RPOji17+H123blZXy03G1X7hjeMVRHaNs6bjoMTZ8Jo5dZx\n",
       "3vvBLtvJFc13/Njpsm1sg9GyWmOa0RVtO2N4G+gaxfk5/HVOBOc8EV2bz+1zmfebqBbcPEt2tubk\n",
       "FNbbtGALYb/zbfMqK5RFqpMxFBdEmeK8CxtlTRGcCdWu+ZTxUJurMM8xnhJgz/U6Tk6DcaLf22F9\n",
       "kxVsIfDHEQJjb1Ua5UE4x9B14iiZoPm20PqMZ/1z869zrGUb+97x/TGB+bxJdXAKMVos/qbzeFGk\n",
       "i9dgrDYI55LILKxTnAtHJyYEjgcwzqcmJg7Mq4dnpeN4KkicgZTFj2ZlWvaQLK0OAs5NZm//Z3z8\n",
       "ATGcS+PjD86rBXnCYQzMc9zQvT9DErwoO+SLAwAzxHoM5/uITmMu/1fR39JyH5yTNYFX9K6eWJ1I\n",
       "WauF/JA2fRmiXmINhvMnyTqiUADxQp2qMpL1a6pDiy04JyrwG89+3c7i/JzP5X7yJWP5+zoslKAl\n",
       "tYjhnIIhu0pr4VmUfXpVN9c8Ch+1+kkacKNnv8W2WJ2b3YTGzN6jKf9YwPkdwDnfTblsD1+YmoDc\n",
       "83HoWHE+Dt5mWEkVq3MpeMzCLwCeHhi9/b+As663M727gbn8sySC4oiyHKtopEK/uKFsw/lRpY7d\n",
       "Svc73Tx7l7+q78uHv+Lcq5t1h4edorA6Mubtv0USGXaYuoDTFbPDYNu9aFITl3+cJGr888mWRnyc\n",
       "udrRP9twTj+Mlu79tY0aJO0zLfsdZRaoC/X92gjfSuqAmDSp6qijFdfdhrU7vjlpNVJX1tys5kw3\n",
       "lAfmI+o+HAmnXIWM1XWcn0Azm7r8D+Rx5QX0dPdSnPOGBUVwzuFIilWwHpQ/2LGKV5QGi6bYCi/x\n",
       "rbiOXd0KiqMV1cETwMb8nVXSl6tuu2DZPbTPOH2++Ii6l5XQSA2QFtApZKmi41wqEyjIzh69iMpV\n",
       "DyFTe3x8vJyrZboNK844kAauA6TjU3asYm0jD+pquJlvJXW0XAcOXlKHj3nJmD//vKXlUNXpZwoQ\n",
       "q18MFJbnw7slLeGZoAI6haRH5hjngma4/LHBNNQczUCSzme4vWzD+SSinIHtEzxWLTV9UpsktLMI\n",
       "Nx5JXHeajDfjgjOu++6dFTpm/DFL5NVGXv9hL7V8rH6pHUgv6t7qfgcgRoO8hBcDC+hwqevnGGzX\n",
       "2utkfkyONbR0ef0Q5DGshSoUbOszKUuUN7sYq10a4mAfMXXjnfBkBdDN9wpN3Gq20brMFxq47hWI\n",
       "O1px3fWPdOmYmTU1U9YS/8DwqZN8rP66YOb7HlGcpSU0UwOkBXSkBtCzIB3n7CZVQfpzBYy2i2py\n",
       "GcBDeIP1CkDdgfOnPjBCcB5tK0tgVMUf7cTY5Mewuwz1cfcxMmPRFW1TWR2yptHVjhtvcLSiusTf\n",
       "MKJ4TPj19I+MoVK8FtoJQWL1nw1m5+hR9544S0uYbwQW0JEaQPcs1niSHFmlmW4bQmulbQW2m75Y\n",
       "95pakF7tT9AwWNqas/YL9Eysb+tQ+VzbOSbE+Ti6EQgSq2+P08cyDS/zfvYGjW6TeuIsLCFPZKYG\n",
       "mFtOn2kBDtcj9TVZcZ5KfvpayPXROXaclZWrLZTsKnkDs+txq8XCp1f4/LNva1w9VXUZtMDrse0Q\n",
       "IFafi9NHj3kL/BSU5txQYJql5PXTo708cRaWkBKNmGaOkRqgawbfaQGOkLRrHDh3k8+oUAARnEmv\n",
       "LlfQ7Xe1+9G5WvsUhbdLtoBYrD6p42P1rXH6pCLVga8qq6iu1Pp0gmmYx1+PuvfEWTSbgBLBBoPG\n",
       "TA2QTgvgUwMybzhwntutEjDU6dRHZLhc4vRFYvVpHR+rb43T1wn02FtLCKGjE+bxp9HY/QL8rQ2i\n",
       "2QSMyKQxUwOk0wL4kPFIxOnDWnecPWP1SR0fq2+N02cEBs6WEEK+E+NJ64/Qcz6LZhMwIpPGTA2Q\n",
       "TgvgcU43ooDzuqqr3paL1efi9NncSTQ8OgHq8TcpRfS2kISU6BMmgGZqgNXH4SstgP93SuUo4Jyq\n",
       "uNphcrH6XJw+fqxoLZwbZ0qDPf7+7DAhCSlRxzQ2zdQA4830mxbA22ErtSjgzBvcRyBArD4Xpw9w\n",
       "M2Q/bMXZDLg3F0NCc4H883rU/WQ/6klTSqeELhH9hCjzK1MAMzWA7Sv9pwXwqQHMwhn03614j/32\n",
       "DggQq8/F6SNtd/x5u6IzOjEXQ0xDPP7mfmeyH/WkKaVTQpeIfkqUNn0GZmoAK/7TArjUgIj8bgX/\n",
       "OzR2v6ffWH1XpoS3D4p4/M2oex9+TxEJW7/kKvjkQV9pAVxqgH50M+g4c0dM9nMMv7H6rkwCuejE\n",
       "428eEfQL8Dca/En4+zznNOCTB32lBXDnGAe1aOCceZf9fhsEidV3YcrccqHs+bIRj7+Pc0lfEu77\n",
       "I689YE6J3YqRFsAJGZnfieNf5iBxBgFL+p2PM2DaI4CAnJDJSlRwjtvdAyHGDfmIug8iIUkNkBaQ\n",
       "E/IF8I1zWL/LPAb/X+VKpgbI/C5zWL+zHq/CQpEs+9jUPHH59f8Cxm2vsZ0I6fMAAAAASUVORK5C\n",
       "YII=\n",
       "\" style=\"display:inline;vertical-align:middle;\" /></a><br>"
      ],
      "text/plain": [
       "distribute_through_sum: forall_{i, j, k in Natural} [forall_{a_{1}, ..a_{_a}.., a_{i}, b_{1}, ..b_{_a}.., b_{j}, c_{1}, ..c_{_a}.., c_{k} in Complex} ((a_{1} * ..a_{_a}.. * a_{i} * (b_{1} + ..b_{_a}.. + b_{j}) * c_{1} * ..c_{_a}.. * c_{k}) =  \\\\ ((a_{1} * ..a_{_a}.. * a_{i} * b_{1} * c_{1} * ..c_{_a}.. * c_{k}) + ..(a_{1} * ..a_{_a}.. * a_{i} * b_{n} * c_{1} * ..c_{_a}.. * c_{k}).. + (a_{1} * ..a_{_a}.. * a_{i} * b_{j} * c_{1} * ..c_{_a}.. * c_{k})))]"
      ]
     },
     "execution_count": 48,
     "metadata": {},
     "output_type": "execute_result"
    }
   ],
   "source": [
    "distribute_through_sum =  \\\n",
    "    Forall((i,j,k),\n",
    "           Forall((a_1_to_i, b_1_to_j, c_1_to_k),\n",
    "                  Equals(\n",
    "                        Mult(a_1_to_i, Add(b_1_to_j), c_1_to_k),\n",
    "                        Add(ExprRange(n,Mult(a_1_to_i, \n",
    "                                             IndexedVar(b, n), \n",
    "                                             c_1_to_k), \n",
    "                                 one, j))).with_wrapping_at(2),\n",
    "                  domain=Complex),\n",
    "           domain=Natural)"
   ]
  },
  {
   "cell_type": "code",
   "execution_count": 49,
   "metadata": {},
   "outputs": [
    {
     "data": {
      "text/html": [
       "<strong id=\"distribute_through_subtract\"><a class=\"ProveItLink\" href=\"proofs/distribute_through_subtract/thm_proof.ipynb\">distribute_through_subtract</a> (conjecture without proof):<br></strong> <a class=\"ProveItLink\" href=\"../__pv_it/theorems/a1466c13ce488772813a00331a549624e738f7740/theorem_expr.ipynb\"><img src=\"data:image/png;base64,iVBORw0KGgoAAAANSUhEUgAAA10AAAAyBAMAAABVH6x+AAAAMFBMVEX///8QEBCIiIhmZma6urrM\n",
       "zMxUVFQiIiJERETc3Nzu7u6qqqp2dnaYmJgyMjIAAAAcRTyBAAAAAXRSTlMAQObYZgAACm1JREFU\n",
       "eNrtXH2MG0cVf/62119RBYU0INwzVFEoOpMI+kdC4qaCUyXgnFTQIlU669QKBaXBUtAJUijHIaUO\n",
       "JcgF0XxRtEkhH9fSc4RO5aq2cXPQipZSSyARqtBYaoPUgqJTCIi7kIZ5M+udndm1d73nu90/bqQ7\n",
       "786+fX6e38x7b97+bAC79pHr/4PlaKkirDTrdlwboevXV9kLrzl0eFmM+sMKLp1auEVflENHHOD1\n",
       "/uWxKVhewaVje1N7jfgHr9PiaaLpVtHjHa/MuNSYrHmNV7zhN7yU94nnJ10rGu94KcrHXflexV7V\n",
       "yQ9oBzu8xqs9Ov7BK14Qz99xqyjTeTEoLYNYwYGut7TXpz13iKf9htcZVThNF9wq+lOXa2f5Ybbu\n",
       "QNfVduqa8xqvWMNneO2W7HMdMr7V5dpRfjisOkjLFtoLc5XXeCXn/YVXel48P+BWUaJbXMrwLd7L\n",
       "TnaEuq63PXeIu/2FV0zKEvI49JvW32SPjyQUJI5UGdix9awYufI5eFSFFPeyfx/YaB8KR/Oa15z1\n",
       "HK8Lqq/wGpGKG/vJ3+21zBzAPd1vZEJ5nreQfcBT8JfcQ+JKCa+CQbKK9YRDeU+dqtnpnnpXIcs+\n",
       "U9L2P6lLtBU8wWsq5yu8PimdP0iG9MMQGoe7bmPja3EPzjgmBF/RZWJkRbwCr6t3CqJHQi2okihQ\n",
       "ad+XXIBszkY35kCXiSg5esbz9ZVp+QqvG6Vzst8ILUCMTKohNr1a5uz8PdCFuEygiINdZRJsQZD1\n",
       "oQZyOPSROf2+Fkw1bHTDZlC00umI53gF5/2EV+SaGa/AOEyV2njFyuabxkAX4jIB6lgvy7LDauTf\n",
       "Gl70PrL9Gq7b6Cbbr/BVv+CVuOYnvILzZn9I5v8ZaOPV0a1Toa18xNEfAmIjts0QJB81rCd82SZs\n",
       "UW10wzVcvsc2to3Q4lfZG8Bu9BNecdkOkm9M1WFXsmaHFxVqLAj5xrPBOVgnyu2FeNmYb2SLJPLZ\n",
       "4XUFjjah8EXg9VYP28N+wisgpfOYQMdz6bGUMKYYaGhk4RGHCiWe5JsukrKHr8bn5HLxp2GY9IQa\n",
       "7fNoEwtgQ1LE0t+AtQfg+6DUXiJHm7zH63UNL/rR/9YVrwzd0TaX0JgpOUkmI6mMfuyxjwpjSgPN\n",
       "mBBxmFCc14uIy1NG1+XlD3R8YEuNpebafetfk3ztmPENWHvi1qa2tbjoPV4XSgyvV/Hk3a54pTAm\n",
       "ZNQlNGYkB53qUUNO4P6lfT1qM/k7YZ4V9o2EVqXiPV50iAheBzH5GO+KF718cCmNOSNXX3m918nW\n",
       "54UUP7as90ZbyhUQ6r2OdWPI8L7eq7kgYgyum1S9e/zC5ffqki92oe3TXn/y3VH724//3pC6WFWK\n",
       "Y010mYq00XKkOzjuh+cpJEMqM7zSr0xOHrDJN85PTp5aUpcwaBrk/j6vDA98qhOUtqlrjk8eT/Ea\n",
       "1xb7f6vVb9vgla1WH24safJjCo5LwQf4qwtt9z2qQrrmA7wCLQ2v++n8CbKAcdESr2ip57kZvuSs\n",
       "j7UtKvi07dzhE0MCFQ2vO6hfjzA8WCCL7P4t3FzmeIULvbvwWbu+5A+/qoePr8NKs2mxVRpeMQgK\n",
       "vufJ2c/Ab1JqSDXslyvwiV71/6NLn/LchqZyjxr55wpeveOVasaETPqRwyo8nyukjPWN16DndGO+\n",
       "S9+5mUlI/wzgOf/7Q//g1faHidaXice7hc77fJ24R9Kmp38s4PXzSBlrArtK5nRM70zlt5NQiLXX\n",
       "Paj58i0mDNp9YYyVn50mb63nG7UVQJzmG7DvPjLYWRzJULjF6lPTqV/da8Qr/lgR4ERpRIWohALt\n",
       "pAWrddHWN8hLY4EqDe4hGczXpK0M9kVrTPwNY7Y2WLLKDxPN5R4UC2bo8hsxA1bU1kC5jdevyUo7\n",
       "TLf6p1JlheaJ09CYNeKVxCexG+BuiLwo4YWd7AltKYOfLPGLCu4wsRDbuvcmeSvDCuRP4L9njSZd\n",
       "KFrtv07249M7YYZyGXM22BcjdOapExmktUZNEydbaOOVxWrLBBvRZuSb1eoEwevxmBEv+gBwDRCn\n",
       "GZPwop2aRvoeoUYU9QWKIeYYjVME+0i7u1qt5o58yViPMuH1DiyCMyo0J8xQXcacBvfHiLd6kMF0\n",
       "XS7F0Cd9Gl5pAoGyUNKGvMzWV3i7gNcbRGQe9k/KeNHO5AA9HgHUESsG8CWrBuoyXtiXPk8mD8X1\n",
       "mIE5MSI7HawfpvvDbHHCDNVlTJXCPhlxtReZs2Auder1Xs1xtxqJHwBsA/gdnv4Z4LyAF7bVkStN\n",
       "xIsIHlTb/7AzeQfpS8z9EVBHrDQM5FJMPQeIF5dkfT89QQYFAU1sKnGjsvKoYH0+1p8kxAkzVJcx\n",
       "MUP7Y0R4oReZoyBQWzUXVDfipeysRdYArCUukfSHHyqyRSDg9bmP5yleRHBbLbIa/61hnfeTPuWB\n",
       "z9+qko7w6I8I7vXIzgbFixyt1sRZH+afj6C6py7t1bOMmLz8D8AiOKNie7knmbctDFl8S1V6kUFa\n",
       "a0aOEDSFFp4vJ1kUW1udkOtRxvmmMoaXfguCXSm2+5Jwij7gY/5lj37EaydY5w+S+CVoDc1J1uVh\n",
       "EZxRkS/qhBnKZWYtDHFlxLH1kNA7OPO0SwzVZZDWmpI9Di0pCHjNRO+0MkvAKzK40Zhsakejavto\n",
       "BnbilwFZXrz9X3VDhqwdWT4aTcv+Yj8sgjMq8EWdMEOZDC2evmlhiCsjGrdDUJ+FlHkaGe+qgLNT\n",
       "MYtOyx7ngya8mtGXanZ4McHOR034An6vNc2REI8Sh1pWtkbkePwgLIIzqvNF8aoTZiiVYQ7gGbMh\n",
       "ghGqQyMS9c0QHwcD8zSyodJJg9KWYR4Laa1JyYMmLpvw6tD6yrdJz1rHbwu+qHvOqM4XdcoMZTJa\n",
       "kotZPSWuXQSzEQY2TncjFLiBzgED85Sx6aw0ULs4OxVpkhEpQviLLwpbrPFyxxnV+aJOmaFMhuMl\n",
       "GiIYMQYOjSDp3kgJjMxTjf1ooYHewNmpVnjFK77Ca7ho6Q/dcUYFvqgTZiiVUWi4HzL7Q3dGkDV7\n",
       "s35Cmafh7kkiZ6eioCxMixo++j5RwTLfcMcZFfiiTpihVCZEfzXBIt9wSVwtw179hDJPbfDi7FSr\n",
       "fGNQ9RVecoI4C3acUR4HZM6oyBc1MUMtNFCZUylcHDIz1DVxNVQO8y8FIPPUiBe/mWvg7FSktXJq\n",
       "qzHA++f7sB8ST4fAjjPK44DMGRX5oiZmqJUGKoNUbhMhwjVxVRnN80eAlHlqXF/6zVwDZ6diTp8R\n",
       "n1j47fuw8vfNxXpUr5xRc3OiAevVJmboIowISS4t7OSZL+JyAkzUVq0g7R+8pCq6WO/tlTNqbk40\n",
       "bOte7+3RiF0wJeVQSQd4UUAs6r2nVZ/hlZDeZh8sgjNqao40rAWr5ylujfgOTEif8Lb/5GwV4LND\n",
       "i+cp/vu9FHn69u15pfM2AVbMULdGbM2XXNyFARCpgxJ9MFrwHV4hcS+77HwAWjxNe8wHQHYqpbVK\n",
       "1NZz4Byv5fo9vVHwtFkXT5e5dWCn9vR7esv1e5WhIqy0DmGRZRv4e5X/ByhSRaMsk+ZfAAAAAElF\n",
       "TkSuQmCC\n",
       "\" style=\"display:inline;vertical-align:middle;\" /></a><br>"
      ],
      "text/plain": [
       "distribute_through_subtract: forall_{i, j in Natural} [forall_{a_{1}, ..a_{_a}.., a_{i}, x, y, b_{1}, ..b_{_a}.., b_{j} in Complex} ((a_{1} * ..a_{_a}.. * a_{i} * (x - y) * b_{1} * ..b_{_a}.. * b_{j}) =  \\\\ ((a_{1} * ..a_{_a}.. * a_{i} * x * b_{1} * ..b_{_a}.. * b_{j}) - (a_{1} * ..a_{_a}.. * a_{i} * y * b_{1} * ..b_{_a}.. * b_{j})))]"
      ]
     },
     "execution_count": 49,
     "metadata": {},
     "output_type": "execute_result"
    }
   ],
   "source": [
    "distribute_through_subtract =  \\\n",
    "    Forall((i,j),\n",
    "           Forall((a_1_to_i, x, y, b_1_to_j),\n",
    "                  Equals(\n",
    "                        Mult(a_1_to_i, subtract(x, y), b_1_to_j),\n",
    "                        subtract(Mult(a_1_to_i, x, b_1_to_j),\n",
    "                                 Mult(a_1_to_i, y, b_1_to_j)))\\\n",
    "                  .with_wrapping_at(2), \n",
    "                  domain=Complex),\n",
    "           domain=Natural)"
   ]
  },
  {
   "cell_type": "code",
   "execution_count": 50,
   "metadata": {},
   "outputs": [
    {
     "data": {
      "text/html": [
       "<strong id=\"distribute_through_summation\"><a class=\"ProveItLink\" href=\"proofs/distribute_through_summation/thm_proof.ipynb\">distribute_through_summation</a> (conjecture without proof):<br></strong> <a class=\"ProveItLink\" href=\"../__pv_it/theorems/479da67c9a04911b2754d499eda54fef13c784710/theorem_expr.ipynb\"><img src=\"data:image/png;base64,iVBORw0KGgoAAAANSUhEUgAABXoAAABCBAMAAAAbCXNVAAAAMFBMVEX///8QEBCIiIhmZma6urrM\n",
       "zMxUVFQiIiJERETc3Nzu7u6qqqp2dnaYmJgyMjIAAAAcRTyBAAAAAXRSTlMAQObYZgAAE/1JREFU\n",
       "eNrtnQ+QXEWZwL+dmTd/3uzMRCqeEqSYJJJLRXFH8A9KDCOWxDvFncULhDvqMpWSWJ6RrHcea4J/\n",
       "1tyVbBDNpCglqJAJkQTDHTvlcceFVTIkVVjy527kihIhhFECFkHDXkgC2U0YX3/d/V6/v/129r2N\n",
       "Sb2u2p3u19++6fe93+v3dffX3wJE6VSnXCvSwfZIBadpek+kAki0Qz17p/OmVOjJM0eb/Z1OaPq0\n",
       "qCkxJ4IXYIF71cfY58ZOp2GU0p3OpG96J8ful8lkB88gesfGyiGd2qqmrZWIXYC8u/mULtLPT47t\n",
       "bhilxNiYf3rH5TKbzqDb0B/eqa1qWhWhq6WM+xtInc1zPQ2xBOcESe8/QkQvTFlNyvEIXclD/NGa\n",
       "QK9RCpTe3nZEr49kVVO+GpFL0oq6a1W8LdKrlwKld0s5otdHsqppSy0iF5/iorvpMCnSq5cCpXcE\n",
       "Inp9JKualkTgYsrNcq97WKRXLwVJb/Z4RK+fGQerms7q+lQb3zakpfM6nXrIAyr/qynZ7l8kmSPu\n",
       "daNFkV5eCpLe/HBEr58XpEVNmaPdW4o49aZ+6rxiOJ3hmjdWXf9hLXMPqN/0ngw16j/f/fe9w2Os\n",
       "MCHSy0tB0ruiFdHrBzmLmnLjXZ+q9zU2qAlpnr2gDY++qfXrL2vPXEnyTPL6+7r/uus9+uWTIr28\n",
       "FCS9ayCi10eyqmk66L3aoJ/vD+lBawLsLkJOI7PQkIDO63u7fw/0edQdEunlpQDpVY9F9PpINjWl\n",
       "pmFwbWEz/HeF09a+svbThJRmy/ZLTGu9Xp3V9dft9rCZ+2oivawUIL25IxG9foxJq5oKpWmMAN8M\n",
       "VQcbyauiDLdpH7+QiBr1B7rv6j3699GmSC8rBUhvejyi10eyqamAr9rM4gvlvjp2oTXFMHWgPRsZ\n",
       "zbSer2VfmneJp6hRv1ewy+edL7fdDZlRj4FTfpZILysFSG9hOKLXz0jIqiZ6zz5ay8uffrtQ6miI\n",
       "KlBOADyg9XLf0eyBN+ujXnNhQv1+42G7Eb4rfSAFGfocw/8cIukFC+RHRXpZKUB6+5sRvX7Oa1XT\n",
       "FkKvei7ENayXUxQc/qxuCM0XZJTXQ1RB7NjjexdpnzdqJsoEYWu5uwmD9fCiln2ANxdSTfgCKMN6\n",
       "+63E6zJzKbYFD4ISh0V6WSlAev+3HNHrI9nUhNZefAJSRfjMB2lv3Hbo23QhuEaU6auGp4I0m1ad\n",
       "ja4Fo03WPKeE9QDkUlbw5sKlGrLKRYN6+60vnTaTgVRZOgJQ3xDpZaUA6X21HtHrI9nUhPT2DMNo\n",
       "BWApNQcciLzBEDLJ5LtZ4Mx42guGkTOo05svQX+DNc/RLMV6ej28ufB25GZQb791sqXKZUbr8vHr\n",
       "l0R6WSlAel+HiF4fyaYmtBy0jms3gAceYAiZ7UH2tv20vb8WjyXY5/zHydpZM3EIXMWz+sthBaNJ\n",
       "sxwKLdJLujeP1mPShdQTAr1uXeoJ4U/YTAK1e1+ySK6pifTSUnD0Zlhn/rmh08xlaulQcwbp5WoS\n",
       "mCRG32gDrs/WZPSi0GWmnvm/OcUO/ZZwLE0/7izDQB2SNXFiwCb+IX6gj3GsjdoKZc3o9qKX1Kvz\n",
       "G6ZR20ntUZDQS2X2Kgv059gt9bVEemkpOHqzbNXy9NsclKnOIL1cTcKNJw9Pupi7odeEB7EK0Vo0\n",
       "TEYq1JwQ276Ov7od5kqFY5TezNmahVqFawFeAXfx7VYjR0M92UqXsHnYGnPbSAnr47izcrF+wg+A\n",
       "+n6RXl1asOxR5o/3o+3gNd8LzzdFemkpOHpjh2eC3jtc8pK0y42l2kzTy9VkpB7y9erK87//ThO9\n",
       "aBXeYDIZUShzr6jhHfxFV3B44wnHKL2pFvohXgfgZC1z8Tz7XNJZqdsC6oVPsDf8UN3attQ6Vv+T\n",
       "XnL8RaMzf+JJs+VwA78uw7JHmWPUmu/3Gvf3V0V6aUmjFx+D53zR6yUan+T05slHOCEK1GHD80nL\n",
       "3/M2iTj3fEra7+17vv7/XymhR5QrvWFcSNy2kTAtWKxL/cwEFIXCt/kwbMW8f7BJCscovXPJ4zOu\n",
       "3SLl8IK6q3jMesWpmtC8rP0PH9S/RftL1dJ9JeTdmXIWvYznvcb9W9oivbSk0fsY+Tjoi14v0eQR\n",
       "Tm8v+YZ8KDMQ2C0wzyeSf0Emz0w51TamWTYJ206W0CPKld4wLiRpW0/vnTU1ekfvto/ZroS/rM+H\n",
       "pKWp5BjzWKT0voRzW5lBiK2LlcCKOxfPWvWRKwnN67W3qCn23lYvHR/0xoYHcBbkYS+hwiyRXlrS\n",
       "6N1MbuCwL3q9RPnUzSCV2BzKe/f/sI9ooucTyct2ROueT3usNySpKfn5Eurald4wLsQ+w5UV7NgH\n",
       "fJzhoV7bmE1dB+thv/Kwhd71xgiK0ksG+D3NxDCxoNvXWlemuXjCdoc3CM2zOwSpOq8DYPeQ9BEl\n",
       "IV28OsYfLtfUMy7SS0savaRz6W34otdLtGdCt3tJ7/xYKPSu5UPhvibJJyZk0178fm5ln08PDWE3\n",
       "/FSPVpMsoUeUSO8Gk90bwoX02JqsntSzt35jpfwM239pG7MtbcNsbfyTstBLjpnoJbs4fgWJKvSU\n",
       "tcHbOnAWV2wvqnuE5tkNqZyeW2jSIG3iB48V5W/U5PlmRbgqTqd3gtGbe3Tnztv8jdq8RAvjOr37\n",
       "du78SSiDtwyelXo+kXyv7Ft0z6c8HRAsX8TKpc2s0zhgpne5id4QLqRgH/x+q+uT7Xhq2bJlf/Pz\n",
       "X3RaMKHdSSu95NhzTYHeVeqzmdlk7bZQ1zCw0svFE7Z3kd+dQes1RLqfL/XeWZY6LtJLS2TO4Y2R\n",
       "ka/6nHPwEBXoLYyM3NQMZcCOBhj1fCL5/Mr53i8N3fOJzmWq3GZXq58BfTZIpFc38ZDeEC7Egd5f\n",
       "dX2y976FpTqsyw0TejM3w+Y6/6Udy/ztoEDv1itzD5XJuCpVfxoIvY7iuS4vOflX04toFW93Q+91\n",
       "2N1TMnC+Y27RjV4qmti4+mI0+enKjY3eZAXSU3wEPcUr4piWez6R/OhB9Th3A3Gcc6CeT9o15dqm\n",
       "qYdM8zKW28/pjQ9hek2kt4sL6YLe0UYA573qcSD0KufAQE05m/w6B48lSgK96sWPVDMEW2V1E+l1\n",
       "FI+Xu6T3kenpqsdTD/mjogwtEXo/hkNyhX41qU3x5l+9uBz7C5FeKkp6C/JOpis3dnoTOJaXrF2y\n",
       "74gt3kuMaUdpvp6px09LkdYxzyeS312Hw8wNxPldRD2fGnzskNZfhaXLjIGIadSWfUWgl17ItFP2\n",
       "ls+t9KA31g7oySCWQ9b4VvrSaYB45Ur1DoB30fw6cBbPw6lJc72HdiZ60zq9KesMHy58qD+7qJUd\n",
       "fhQ+LNLLRFfhHiS2csP/aJZOr/ZzgXTtkvaYmQOgzCHzNE7SfD0zrscBIsgzzyeSX0LWyT2mZJjn\n",
       "E7lrCM0AWUBv47zxtXyS0zrncN9sg156IdNJRIvq8rryB6uaxPTWYO6+0neJuC5Dc2zCj9ObeXMO\n",
       "L1z5WsNZ/OeniN5zvek9YqL3CKe3t5UyC+Ks49O7dkL2ybg+mYf0MtGvYUgNtnLjQO8T5Ldk7ZLS\n",
       "u6lGFguVpqM0X89UqyK9zPOJ5F+AxKQXvYbnE6XXmP06mHShN7O6JtD7xHSXDokWcz8C+JkXvfsD\n",
       "RKBlzt1+J5johZs0tSVaXuJq6dTAK3kFudGbaV+lXRH6SVA/C+I0gfZS9u+uKZroRVHQjM3YOn3l\n",
       "ht8Ww3KAO5WqdO2S0vs1tEM0+9JJWl/PfFm0HJjnE8mfJC6vHvSi5xNeExXqMSaOkd46PqnM7j1E\n",
       "U02wHOiFqBdeb4+NuW2BviK6Z579m9kx1OLH/1PwSRwdd5rvDA2JfczlJm46ustLPFY/NfRuqnVF\n",
       "L2z4rNarFkijqZ8FcZpA4ydbefQpE70oCokT734M+MqNg90L6e+XQbZ2ifTGSE/UpxkkjtL6euYF\n",
       "4qiNeT6R/BHY2vKkl3g+4TXRUVtcxyT9ziIN173f3PcaEbyRXryQHRV7fDj1nxU+cZsqD9gtUHYM\n",
       "tfjMb7xHbdrJIErqjZJJYZdRG/yHdv9/gMs81M+COE1so/T26vYopZeI8iCIdOXGid4sccKXrF0i\n",
       "vRg+cQnZtOokjeuZZJ7gv0SzmXk+kfwX4V9ot6o7LpldoNDzCa8pTttpaGjJLfV7R+roESXSe1/d\n",
       "RC9eyEVwNVjbFi8pg8zv42JQbC0nx0h4MtTig7sk9MJtURw+2jN1Qy/uhluvnwOdJq4eGRkpZiuZ\n",
       "1qCJXhRNU6LPMs1VivTCYTyh59ol0ovege+ATzhLk/VMzHyCt2HQ8Hwi+W3vbtEMcXMyPJ8wQ3yh\n",
       "qGcUuaY8ffdv/1f+FcqS8/6pQmcIRXqvAxO9eCHnwAKwtq2nEauyzVqaBm0txz4BmBZ/uExGbyYK\n",
       "ng4/lk2omOhNGfTmyI2eqHDDFJ0mkrTvhY8XTfQSUe49QFdu9Ps5IdD7DIBs7RLp7SniwO9yZ2lc\n",
       "zyTp7/mRtULtWgFpw83JmAGqi8b2Dpb/1E1DpsEB8YgS6a1Z6H0Grfzv7LS2bbSWfqZuGOfWlpNj\n",
       "ZJ0EtRi/S9ho2TMRgdrddKDLagW92e1m5mbiZ7G5jk4TvQTmXNlYeBH8e1fUcJWGrtzoZxfpJUmy\n",
       "don0Jqv/3thUJuuzTtJkPTO3T8tcrg+2hFqex6ncpn1yTs8RE3SPi048vXRYOls50iJtM1alNtd7\n",
       "aiuugJ8WiRoOaEMi6yoXObb2ihLVYmZxxfj+VERvd8nFS4d1QqvJcgsshIEGdZogLpdLDwBUbfTG\n",
       "Xv0QrtKwlRvTbLJAr2TtEulV31p89gD2jEzahAhZz/we6TX36V8iGIgsj24gqn3UbvhCLXTykOR2\n",
       "Lsjpvfxd85HegQZdldJ+NRIrf/oRuL9E1HDrBYtsq1zk2Lk/aDH/23879K2KVU16Cj+K6R0zeYZd\n",
       "3X6HLHRqwURvwUwvngCtX1Yf0yw28a+teyvI2gyu3PBxzKSFXsnaJZ0x23bLKu1trYkxaRMiuJ5J\n",
       "/r/R+/QX/bDw0hfyOa+Jz/Xgvt67AXzurSBtM6akaS5Z4UtUDqtcid+VHLRo904POYqpWU9TS1PY\n",
       "B6DXJ7segEpCp44OivTSkoneXcTPwu0ZsNJLHjJcueE98kkLvS53la9dcp1elWlBrKFL2xAhc3Nt\n",
       "x17AX4+AviO/cbs/tSnQa2iG5XYkeF9DWm5ZtooVDzotwMSsboBhRzHVN/p0kaawD4DXu77lpEmy\n",
       "Jr9iWKSXlkz0toifRQ780Yt9202G3Zs9YafXa+2S07vlt3VWQGkbIge13HQ258h9R/zQS9qWs3b1\n",
       "yUVMDdhyy7JVvLav7PSCPGE9EnIUU9NYYYppCvsA9Po93X6ZJHTq7pJILy0FtytTOebQ95pf4aa1\n",
       "S05v+svaryscbADMZW5vs1nT8NKM7spUbHFiQ45iapqnmWLyvw/AqN/atYXjHTo13B3xwDZuD0ni\n",
       "OfC1y5Ivkz23V6tZFCq8S4dmkl6whUQKOYppZhoWif99AEZ9vtztt3mHTr20ItJLSwHS+40za4Ym\n",
       "LHrtago3iin6bd+6d658SsMeX9X/PgCjXnQW3DNPvgxjyOz1lHsVRHppKUB6L61E9PpIdjWFGsUU\n",
       "VxoTZ5PbrUgmH2h81fmCleN/HwDW44pmzhi23dZItz3iTuoyMfpfk7xd7V430ft60PTubkX0+kh2\n",
       "NYUaxRR98ba2iOcFc+N36IRxJZDFV73GkJnCPgBSTyeV6D4APMFXIdlgcSfdgrqiDHwZy54bqpXX\n",
       "RHpZKUB6R6sRvT6Sg5rCjGKKftCX1sn/Rk54xyJl8VUFmSnsA1jC4ukxT2oesBV4iAqPoK7ES4HO\n",
       "cHgaQJMivawUIL2pwYheP32hXU1hRjFF9t4O6lFpLFIxviqVmcI+AKw36OUBW8FHUFe9YZ70JsdF\n",
       "elkpQHp7j0f0+kgOagoziil572vdYnZcGtWGxlcVI1ROYR8A1t91CYjfQjdlSYO6koHelVWZJH0U\n",
       "OL2sFCC9mcMRvX76TLuawoxiSsZc6iQk27uk9GJ8VTFC5RT2AWB96dMgjtoKLbJe6k0vyuSf/esJ\n",
       "2aitvyXSy0pB/rfB30f0+kk2NYUaxRR5Xg+/rjZN8Jk8+dnpSXxVU4RKt30A5uCnmCH1au0R0PcB\n",
       "ALZyW0US1BVlCtSrerGX1tbURXpZKUh6n69E9PpINjWFGcWUIrd93jUryyZ6zZ78dBSFQViFPXbu\n",
       "+wCM4Kfkr8k+AKwnYar5PgCSHn+uKAvqijIDC5HJF720xiYZGL086kaA9Hr9y5eIXnc1hRzFdK3I\n",
       "sXxK5G77Md/7AMjztMNS6yMs5kJlVs0eOtWUckdFenkpSHp750T0+hm2zXEes4UVxVT30sn6ofch\n",
       "hwinfvcBKMRTweql4yMs5nplsCjx0sm3RXp5KUh6vf5DfUSvq5rCjmLKfZv9RHM0Rai0nkG6DyA2\n",
       "bPeQ9BMW82VYWZF4SPZXRHp5KVB6PWNfR/Q6qyn0KKbde6c7ncFrHwCxmbuP+7bBq5K7D1N6dWfj\n",
       "IOnNNyN6fSSzmsKPYjpTO4M+u6nuvg9AmjxDp2bniPTqpUDpVY5H9PpIZjXZo5gae/tmPorpdNLq\n",
       "z4d26p6WSK9eCpRe+HVEr5/kpibb3r6Zj2L6Z5pWgUivXgqW3mQpohempybz3r7TLoppOCk3KNJr\n",
       "lKZAb6cj3wTwyhlEb6fTDuvc7mqy7O077aKYhpN4gL6NnU7DKKU7nUm/Z1DHxu6XCt195mjs3rGx\n",
       "0N6+EjXlzMP50yiKaUjpdvb5ybGxulFKjI09CFH6M0+nURTTGU9/AsRq+VO5AK7oAAAAAElFTkSu\n",
       "QmCC\n",
       "\" style=\"display:inline;vertical-align:middle;\" /></a><br>"
      ],
      "text/plain": [
       "distribute_through_summation: forall_{i, j, k in Natural} [forall_{P, Q} ([forall_{b_{1}, ..b_{_a}.., b_{j} | Q(b_{1}, ..b_{_a}.., b_{j})} (P(b_{1}, ..b_{_a}.., b_{j}) in Complex)] => [forall_{a_{1}, ..a_{_a}.., a_{i}, c_{1}, ..c_{_a}.., c_{k} in Complex} ((a_{1} * ..a_{_a}.. * a_{i} * Sum_{b_{1}, ..b_{_a}.., b_{j} | Q(b_{1}, ..b_{_a}.., b_{j})} P(b_{1}, ..b_{_a}.., b_{j}) * c_{1} * ..c_{_a}.. * c_{k}) =  \\\\ Sum_{b_{1}, ..b_{_a}.., b_{j} | Q(b_{1}, ..b_{_a}.., b_{j})} (a_{1} * ..a_{_a}.. * a_{i} * P(b_{1}, ..b_{_a}.., b_{j}) * c_{1} * ..c_{_a}.. * c_{k}))])]"
      ]
     },
     "execution_count": 50,
     "metadata": {},
     "output_type": "execute_result"
    }
   ],
   "source": [
    "distribute_through_summation = \\\n",
    "    Forall((i,j,k), \n",
    "           Forall((P, Q),\n",
    "                  Implies(Forall(b_1_to_j, \n",
    "                                 InSet(Function(P, b_1_to_j), Complex), \n",
    "                                 condition=Function(Q, b_1_to_j)),\n",
    "                          Forall((a_1_to_i, c_1_to_k),\n",
    "                                 Equals(Mult(a_1_to_i, \n",
    "                                             Sum(b_1_to_j, \n",
    "                                                 Function(P, b_1_to_j), \n",
    "                                                 condition=Function(Q, b_1_to_j)), \n",
    "                                             c_1_to_k),\n",
    "                                        Sum(b_1_to_j, \n",
    "                                            Mult(a_1_to_i,\n",
    "                                                 Function(P, b_1_to_j), \n",
    "                                                 c_1_to_k), \n",
    "                                            condition=Function(Q, b_1_to_j)))\\\n",
    "                                 .with_wrapping_at(2),\n",
    "                                 domain=Complex))), \n",
    "           domain=Natural)"
   ]
  },
  {
   "cell_type": "code",
   "execution_count": 51,
   "metadata": {},
   "outputs": [
    {
     "data": {
      "text/html": [
       "<strong id=\"commutation\"><a class=\"ProveItLink\" href=\"proofs/commutation/thm_proof.ipynb\">commutation</a> (conjecture without proof):<br></strong> <a class=\"ProveItLink\" href=\"../__pv_it/theorems/8146d691e38b3dd42fed717d89c026fcdd000fa50/theorem_expr.ipynb\"><img src=\"data:image/png;base64,iVBORw0KGgoAAAANSUhEUgAAANEAAAAVBAMAAAAqbRZ+AAAAMFBMVEX///8QEBCIiIhmZma6urrM\n",
       "zMxUVFQiIiJERETc3Nzu7u6qqqp2dnaYmJgyMjIAAAAcRTyBAAAAAXRSTlMAQObYZgAAAsFJREFU\n",
       "SMe1lU1oE0EUx1+ySZNssslFEAQhWO3JQ6hHvyIinqTx4MfNEhQvKrnYg3qoCJKgwp5sQQ8bc7AE\n",
       "YRfFQ6XQ0h4ERcmxKQiBYMEqoRQPGj9w/juzm2QySfXgg382O/N7eZl5b94QbW+xGpds82pUhUEN\n",
       "vHwYGmlOqMv02wWiEVOFzu2UxoBBb/GyMTTSJ6FuS2ZYuIYSbUpjwKBZrHl6WCAjw9VjKYd9LKtQ\n",
       "+iGPLnMlLaKEMyxSxOTqsQnmRmUVGmrLo2Uu4021OjN082aEeuy1u4VZBZooyCww6FuxeGtopFGh\n",
       "2KHxXf7g+p6D7EczCjSZH/W3iLsAgy4RlbyZUEsR6YHQMTO56Wf5t2WbZLgl8b4Fa3qovaF/9zDu\n",
       "Agw63l1DK96X+P3LefH1Jpe+mzRUju5OtymVpri8UUAXLdpiD+RRuACDIhTsHLfPmF84UNPPW+Ev\n",
       "YmwHl9amSBr/Gf9La5C9ROFNKRLQI6T/xKLJdwEGJWqRDop1r85XyXhMtNAbKTBNdg71NcmP04Sj\n",
       "jtSkEOp8inwXL1KscZYNVsY+ss/w1pgVQppPvGQTvbvH1rDYOU41OmpRqNDJ07qH/sJSuAkXYC5a\n",
       "usgWez2M6eCNYCYJZq3eVxG2Q9fi3rFKZVkOREVIxfOVyl42hItXEfSChdMyYQSNpo1GBcyrru65\n",
       "wsXmphJ+L6tF2dK1JSkS0Kt0x3sVLsBclBURBZwgtj+Q1SbPFYvF9KMzHfeTXHp+38O9fpWPv0O2\n",
       "clIkoJX9foEJF2AuarCCtM3oGnukrIAzAkZ7Isp5UDdy7amqG6kxHw2YF07RrBWxVimRcw93zu+f\n",
       "yg7rt87+DksDOqxoDvnnh+m0E77CtvMeBp617vpbU6KuNiJdB5INwmSU96sgy9N2NyFPuPImVGIS\n",
       "Gjf/7Xav/93tXu9HDfqf9gctj9paAgnMQQAAAABJRU5ErkJggg==\n",
       "\" style=\"display:inline;vertical-align:middle;\" /></a><br>"
      ],
      "text/plain": [
       "commutation: forall_{a, b in Complex} ((a * b) = (b * a))"
      ]
     },
     "execution_count": 51,
     "metadata": {},
     "output_type": "execute_result"
    }
   ],
   "source": [
    "commutation = Forall((a, b), Equals(Mult(a, b), Mult(b, a)), domain=Complex)"
   ]
  },
  {
   "cell_type": "code",
   "execution_count": 52,
   "metadata": {},
   "outputs": [
    {
     "data": {
      "text/html": [
       "<strong id=\"rightward_commutation\"><a class=\"ProveItLink\" href=\"proofs/rightward_commutation/thm_proof.ipynb\">rightward_commutation</a> (conjecture without proof):<br></strong> <a class=\"ProveItLink\" href=\"../__pv_it/theorems/e6c8a3744b7c26074f80a7720adb1b053d8dfebf0/theorem_expr.ipynb\"><img src=\"data:image/png;base64,iVBORw0KGgoAAAANSUhEUgAAAwMAAAAyBAMAAADywhqFAAAAMFBMVEX///8QEBCIiIhmZma6urrM\n",
       "zMxUVFQiIiJERETc3Nzu7u6qqqp2dnaYmJgyMjIAAAAcRTyBAAAAAXRSTlMAQObYZgAACURJREFU\n",
       "eNrlXHuME0UY/9re9rHbx4UQBI3JeggSFWnAJ6hUjRpNhJ4mAhrlcoE/VNTGx8VXtJx/WCWaGoyC\n",
       "RrN4EeSItr6ilxipIBhRoIEYAUGaoMZH1AveGe8AcWZ2trs7u9vd2/au7jnJbWd3v/lmOr+Z7/tm\n",
       "5tcDcJZ8J0+WoJnpMxhXab38ET15stVpEV/fWqmZTY6WxhcELRXywa99xTkE6eY2eTqMs/Qd/eS8\n",
       "AoHANPRVj3R0n+WbcMljEKxL6W75rEs9b55Sd1O4lUnnQsG8lQQ/0WMQPKm/jefdKjpSf1sSRedC\n",
       "fMVS4h1vQSAM6+/3utZ0rP7GLJRGILTFUiJU8hQEIWbuP+w6EBmuvzGfj0RonfWwGvIUBIf1hieS\n",
       "cR3bZupvzJGRCMVTliL3ewqCh/S3fjwpVm89w94iRC6dfarOiXROVS35ljb7LxVtm8YonHbMQa1V\n",
       "oai17z4seQgCboAJ6MrIpEyBP9Abm9Doiny8H2Bq9b7wCz+k5F8qhiuw2KYzH4XnEHBpjcIwsmWL\n",
       "7WpFQv4JOBsj/njX7zgx06cgegiCANPMEBrJ68pwMXBzZMNiMh14cjkdAgikJVWZzRIcVfKPQbB4\n",
       "00WqsJkC5DPvQmZbp7ACtJTZJJSqQvAAsfjWli9e8RAEvg7mHhnY+RLch+YC+Yb8P8YyBfwFA8MQ\n",
       "EmmPEpnLgT9O8wHima9Vhc0UzJeMCku0lFmtimYkxBP9XL/lt/IPeQiCpWUjBJOBH1QggC6TIArD\n",
       "5stCQWl4l+wlW47RvC+rQhDqsFAw2URhSillUquiGQnJTasBQeSEhyCYlTcYIjSYhf4qBFapUILN\n",
       "AFeqHXyCDn75XRUCyyXscXx9fR6j0KaULBRN3tihNFD2BT8ycpM8BMFKMLhj/hgEK322EBThHiFf\n",
       "UhcDA9iH0PUryhRtOhNBhhxBcgGj0A4CIhT/9vphxR2bp6c8BMFkNlJEkV43fNNR0kGAjTWxxapl\n",
       "D4uxrmhkkyp0t7rVEeiAnrS2M6tlNUb+QuAv4PPbQadQNwusaoXEclJLyfpr7aYQkIKHnEAQJ0FW\n",
       "eewR4P9k17ioT9e3LelM6SAgxrpLZ9n5zmkvnom6pCrTc67a/q8OiXqT0qVVQsHeuQddnwW9Qm0p\n",
       "y1rbZ+AVSLzG0D2cliH4Et/84gSCKFEpjT0E3FH2ycNaMGxT4Q3rd9c6acCQm1IzuFbkwjbUijJE\n",
       "GYI12DdnnUBApNY0Y5POsB6tbtMJTiD4JGr97kMnQ6DVTaluLiPW2qZDQyMpK8fDOlp0AgGZK182\n",
       "AYLYIPskTEOkyEV/ifbl139h+Wr1E5325f1ZN6V+hs50rc1qFBB0yBDEdvT2vuTMHR/s7d2YaQIE\n",
       "foMhcH1k4yqFRfdFax1sJLJ0iv2dyz3mDIJELvdUqQkQRI07zGN5cLnseff+b3/NPq1QCFDs9DTd\n",
       "fAT4Af2dIVpAEEzXRpWkBRVHuz6DJg/nW0QPgWFoZlpxx2jtu2QoBFcRg8XJfYudQihFRRZdmvJP\n",
       "0kDQkoS37Yds0kntvNm6vaC9+Wh7lzIUgv0wLlOolUIQAr8+1i/gecd/PKcsZHfAXO3SLAMzbfXG\n",
       "nZysgmA2Vz6hn5u2XgZvPAO3l/4vEETLIZOgd19fLwh7AlDSQrAT7L1xwtHJuulc2UoDoFUvS7C/\n",
       "BELpv2GIRg8CxRBFKjcjG0OoUjw5UtrKTcc2Bw3VW5eIOghe41AYxc++x2ize6b/oKw32u7EH1va\n",
       "jFVWn/GzzzPOlZ62X+XMVXjJdSuqQwEzOjQ+Iai6Y3h6GfqWCWx9AoRm99v7BYlsRgjpHV/rIAi/\n",
       "iNzEhvRSCYL6IIF/kEMjlRiXs6SpxJ+0szLkGRDXZqkCn3QQNbG3NJPJP9jUiKie1FcTgg4FgvfQ\n",
       "fHiZrPc2RvHDv1Bv98gQRKsGg0Ag4NOiObAIuE/1/RdIchl6itRNqHoXA8fK4Gc0NwfazVS0goCq\n",
       "48kE3KSBIDbQ1HUBv1JnfhtE5cI2O6lAkBBJz5GVBHLM3IRVKBjK5XKikI6UM1oIyKHfaZjfGdL3\n",
       "n6/oVzapJsKFRMggQ54pOQsVAWSfuIdyue7IBxpjJxggcE/lcpPi+j5vEJWLnlgQCGKoL/jhtOJL\n",
       "/dn2CATlWQBXizoIDiDJIXi2l+2/Qj58QHqXyA6Trh4ygQA/O4RrtVYRemEvAAFzrqiezXInLPeI\n",
       "xiQxfd4gKpe6TacEiaXIM4DswxopLC7yQxT3eCwFMZ0vIGkKN1DG/bdGQiXoxZdfegO8nwR080gs\n",
       "i67fQwDLqBLys8gtGfxsCjdY1r8mKm4D3/63ALaRbZhtEK0uEdnNavdULleJ6fMGUbkANhe1EPAr\n",
       "8hwavTOgvRjPB6cBrMLR6fd0SOoguOacqaT/2ovcFGjP40uxpfPdy/DiGem4+St8XT3zbCyDcrJE\n",
       "nj5DkRbKKSrU11TFAuzKw7hl/K6fllfb+jjT9sjY7lQxfd4oKhfszgOzDSsQj0AnnR/5AnaDQhvd\n",
       "SFVJUHIbWijdg16xjKDVDvKerAAmr2UVbfFN6Doj183sXLD7dq6pXAZqlumihZH5sW2eRmHDqFxw\n",
       "L7AQ9AWvOxWEvPU2ncbhz5qnkaS54NlKENanyGiCMjmHt8b7wPiaqrgkZvp7psNMX7unchFqlk0h\n",
       "lr7F/yMV8qpCN1Qu8zTZAEE5uD0PMXACAVFukoOy5mqSW/ua7pmajdX8SkuZGMQ9lQtTs2ghx/Qt\n",
       "YZgEjQ2nckWOGiCovZJryPH9wUvcLSM7mPuUWyoXoWbJhZzTtyokfPx/U7kC/UYI3FG5yNyXCzmm\n",
       "b6FlwcLiKFC5whkPQdAyYDBE7qhcMjWrdiEDfStRVieGSyqX+XJD9BAElIqvdccuqVyEmmVTiKVv\n",
       "JVLIuOsUNobKNUvyEgRMSOSeyoWpWdpCTuhbwXI4qVPYICqXfBrmFQh8+i/inspFqFnaQk7oW7N3\n",
       "gl5hQ6hcHvuhE/tzv/qoXI4K1TyjaASVi27+eeZHr0cstulcUbmcFKrdM42gcr0jeQuC5/XV10Xl\n",
       "clTIX2sF3Qgql+d++s0M3NE/sqmDvmU2VowpmPQYBOQcSJNG++CyHvqWNllTufbBiCFo8j/DCYpj\n",
       "Wt2o0beqIYFsoUb0z3Ca/S+hzodxldbLAxr/S6h/AcqpDNzw+TzvAAAAAElFTkSuQmCC\n",
       "\" style=\"display:inline;vertical-align:middle;\" /></a><br>"
      ],
      "text/plain": [
       "rightward_commutation: forall_{i, j, k in Natural} [forall_{a_{1}, ..a_{_a}.., a_{i}, b, c_{1}, ..c_{_a}.., c_{j}, d_{1}, ..d_{_a}.., d_{k} in Complex} ((a_{1} * ..a_{_a}.. * a_{i} * b * c_{1} * ..c_{_a}.. * c_{j} * d_{1} * ..d_{_a}.. * d_{k}) =  \\\\ (a_{1} * ..a_{_a}.. * a_{i} * c_{1} * ..c_{_a}.. * c_{j} * b * d_{1} * ..d_{_a}.. * d_{k}))]"
      ]
     },
     "execution_count": 52,
     "metadata": {},
     "output_type": "execute_result"
    }
   ],
   "source": [
    "rightward_commutation = \\\n",
    "    Forall((i,j,k),\n",
    "           Forall((a_1_to_i,b,c_1_to_j,d_1_to_k), \n",
    "                  Equals(Mult(a_1_to_i, b, c_1_to_j, d_1_to_k), \n",
    "                         Mult(a_1_to_i, c_1_to_j, b, d_1_to_k)) \\\n",
    "                  .with_wrapping_at(2), \n",
    "                  domain=Complex),\n",
    "           domain=Natural)"
   ]
  },
  {
   "cell_type": "code",
   "execution_count": 53,
   "metadata": {},
   "outputs": [
    {
     "data": {
      "text/html": [
       "<strong id=\"leftward_commutation\"><a class=\"ProveItLink\" href=\"proofs/leftward_commutation/thm_proof.ipynb\">leftward_commutation</a> (conjecture without proof):<br></strong> <a class=\"ProveItLink\" href=\"../__pv_it/theorems/eaab82b29a81cdbba0f3f3d1e7a724a3bf13a91b0/theorem_expr.ipynb\"><img src=\"data:image/png;base64,iVBORw0KGgoAAAANSUhEUgAAAwMAAAAyBAMAAADywhqFAAAAMFBMVEX///8QEBCIiIhmZma6urrM\n",
       "zMxUVFQiIiJERETc3Nzu7u6qqqp2dnaYmJgyMjIAAAAcRTyBAAAAAXRSTlMAQObYZgAACTFJREFU\n",
       "eNrlXH1sHMUVf77z3sfufUSAaAJCWpwmRFCaU1LxFT4OEESt1MSmUkJAbU4W/NGK0lMLFqCoOOYP\n",
       "DiLEoiBIQKAFi6Q4onfQVMUSIksCQSQBTkVVk5QklkKilqpgBRvhCyGdmZ3d253b3ZuMNz6tGcl7\n",
       "M7Nv5t2+3+ybNzO/MwBf6jp92oBOpndhVqUt5kfm9Ok5vE26RjfrnfzKGWN2QdA9Rj7kzc/zQ9Db\n",
       "2a+8EGZZOkw/pahAoDBf9IWIGHrU907KiBgELxVdRXlQrBt5fbm90J9+EHj79nM5FEnrC+Qzofl+\n",
       "lfMiBsEj7mJOE+wnV+AQOhp8+ySPonzNNPSYr8Tr0YJAabjLn4h2RC0zHRt3N3gUraTBy05fiaQR\n",
       "KQiSzOB9ULSjlRxhXRsbZ8o8it63PKj/sJqKFARH3I4nXRbt6H2e+Lc8fV9mO7Nc0VfkD5GC4AF3\n",
       "MYatsHHXxe2HdPraJRc4y8d7lrWfL/rnM+5qZ4/99Bt3rq1xaF1gObOMP2BH9AhBIE0wAV0duYt5\n",
       "8CW60yY0ulHLjQPMt8OQ7/SqBrcHt6l+LiMfkWs+8LO1lDWrIq1P6hxaUw2InYOzWdLyoy9wYqb5\n",
       "qhohCOLM10yigfhSHa4CaanpNDxeB5lcLoI4MtcaSwZN63n1F1c2Bbwa7dDhBBJtyqyDRI3mkdbr\n",
       "ubQiy99HPL6/V8uNRQiCrhJTRg72Bh1+j0Zl2RzcHmMZP2C8AUnVegFweQyqBixvCng1uh7kb5lO\n",
       "7DzSuo5LqwEyaSaN+z5VbCpCEKytt0IwF+RJyxgw4BFEYdi6BqFqffEBcypdWaMQJEs+jY5C90mm\n",
       "EzuPtE5waS1SoQAI0qciBMFircURoYGqjNvG8HXrBuwAuMk2dr6Ox/HyYG2n8DB+eZmzE9vPnIHW\n",
       "TOG2kiVqzgXHGbnzIwTBemiZjuWTkBgbbWuMGtyraIYd6OeLyE+3g2ACe/zCCnDgBjQKOhOtuX/9\n",
       "rGFNx97p0QhBMJeN3FGkNwT/LBlOYxDXTC5NL59SswOZ9DZbKFFPFVwQ2PIOx/5beARkbXczGCjB\n",
       "sPX0LVqbjRmtkL+bNDb8H+tjCgFpeIgHghwJsuozj4D8Fbt+RSbY0rOmv+gyxoB1aXp5uX/BMz9E\n",
       "JrHLSz4E91tgyzcd+/CP8DM+0ZTZd8juoFWr3ZjV2rcIvzq5gKF7pNeEYC8ufM4DQYZ0qc88BNIJ\n",
       "tuZBJxhtU/UVd3k5j9KpoC0MHq2LpDloCtsaFGWoJgSb8Nw8yAMBkdrUiU26ln0ze5tO4THG2xl3\n",
       "+W88sAe5aC6tQ1JZDdqmQ0OjYCrCwzpT44GAvCt7OwBBdpKtSdEQKX3l12r79ls+cBU3Ptzfvk0s\n",
       "YFTyaf0P9PcGbVajeb5kQpDdMzLyLN90/OnIyKvlDkAQa3EKokc2/CmlhtNN0MFGfpC+bt9UKuv4\n",
       "IMhXKo8aHYAg07p7fLYPLu96Kpw570CgTccoBCh2eoxuPgIcQ38Xqz4QJHqDUSVpxRhPXXzSo+kN\n",
       "PtFDvDHjqN/z65nYdylTCG4mDksybYsnhWSRiqy+thg73wFBdwH+3H7IFnjqZK91e9VZeHP3gDUU\n",
       "EuMwK1NyDoUgCTF3rF/F76D81tK6MrgHrnEuzcpwedt+czWeOsVrmnqbfm7bdR288jj8yvi+QJCp\n",
       "Jz3C5v2jI6D8PQ6GE4IPof1snNd46jxPMnbRAGjDczocMEAxOueIZgYCyxGlx1YhH0OoUjI5Ltol\n",
       "LcQ+Bw3VO9eoLghelEp4hXlvq88eXnjMWm/0/KZ1DdKs29lDFqk/bn1Xhnv+a2ZuxoufO5EOC7jM\n",
       "1OyEwJ6O4bG70FPmsfeJE5rd/7ZXdbIZofTu+YcLgtQzaJrY2rtWh4Q7YJDvl9BIJc7lEn0+e5fU\n",
       "AZngksU+COgCn3SQbrKvOV6c2OSMR0RhpdFACEoWBH9B78NzZMX4agZXfo2sPWxCkLEdBoFAwedN\n",
       "S2E1SO+47RcvSGV6ijQEh9m7uI7mrgKJdNHn1cUcUJA6mbyA2xwQZCfOxrpAlNYVEpUL++eCBUFe\n",
       "JVYiKwk0MUvnbEDBUKVSUZXedL3shAAf6MGFmN+ZdNuvqxazNqnOgyvYu6TOTBfSq08XceSfpAcq\n",
       "laH0Xx3OTmmBQJjK5epEkNYVEpWLHkQQCLLIFnKj15o3Y4N9aUiYbwHcorogOIgkp+CJEdZ+VS11\n",
       "UH+DyDaQgVkIcN0hw9788u8i+fQnAATMa9Tm2ax0ynePaDpJkNYVFpWruU1nBYlG+nFA/mGTnlJX\n",
       "xyCDLZ4tQtY1F5A0T5qoY/tt0lELeunS1v4cthcAFR7KDuK7zXtmXfqOMq77DOLoOk+arLuFSBe/\n",
       "hK4DrwG8RzZy3oOMvURkN6vFqVxeVgpKHvYOi8oFsKPmhEC+R5OQk1gEfbWcllgAsAFHp5/RIemC\n",
       "4NbL5hP79dWkedCn4Uutu/+N6/DiGfWxah/xMShn3tNoHYqxUG7j5Zeiq9VFU4h2sQLTTVL4m8kf\n",
       "/ftu+7v+kd0nC2WnSpDWFRqVCz7WgNmSVciMQN/OGJoL2A0KZ0ir25Jg5bZ2U+oHuas4+wVzN1Zx\n",
       "lBkhs4ue3DZ0XVQZYnYu2H07YSqXk5UlROsKkcoFvwMWgtHETy8ARfPfpnNM+IuXOSRpLnEpDcLw\n",
       "XUc4Zubwpvioo+wWol1cnfX8PdMRxtbCVC4nK0uI1iVI5fJOc1sgqCd2a5AFHghI5x45qPvlNr9o\n",
       "19U9xLOBj8QOPGEqF2VlcdG6iDxL6wqTypU+0QJB8Epumsf3n149nWVkiSkXRalcDUc+mNZl9snS\n",
       "ur63VK74eCsEQlQuysrionUNmLOqm9YVJpUrVY4QBN0TLY5IjMrlYGUJ0bpEqVze6xI1QhBQKr5z\n",
       "OhakcjVZWUK0rlCpXIv1KEHAhETCVK64g5UlROsKk8plnoZFBYIu94MIU7mcrCwhWleIVK6I/dCJ\n",
       "/bnf9KhcziRE6wqFykVX2ZH50etRn206ISqXMwnRukKhcr2uRwuCp9zqp0Xlcu03iNC6QqFyRe6n\n",
       "38y4O/tULhfgqnhT34ONRCFiENhnPjTN5MHldGhd/lSu/XDGEHT4n+Ek1I6pPiu0LpF/htPpfwn1\n",
       "E5hVaYs5oPG/hPo/GVwvg0v2t3IAAAAASUVORK5CYII=\n",
       "\" style=\"display:inline;vertical-align:middle;\" /></a><br>"
      ],
      "text/plain": [
       "leftward_commutation: forall_{i, j, k in Natural} [forall_{a_{1}, ..a_{_a}.., a_{i}, b_{1}, ..b_{_a}.., b_{j}, c, d_{1}, ..d_{_a}.., d_{k} in Complex} ((a_{1} * ..a_{_a}.. * a_{i} * b_{1} * ..b_{_a}.. * b_{j} * c * d_{1} * ..d_{_a}.. * d_{k}) =  \\\\ (a_{1} * ..a_{_a}.. * a_{i} * c * b_{1} * ..b_{_a}.. * b_{j} * d_{1} * ..d_{_a}.. * d_{k}))]"
      ]
     },
     "execution_count": 53,
     "metadata": {},
     "output_type": "execute_result"
    }
   ],
   "source": [
    "leftward_commutation = \\\n",
    "    Forall((i,j,k),\n",
    "           Forall((a_1_to_i,b_1_to_j,c,d_1_to_k), \n",
    "                  Equals(Mult(a_1_to_i, b_1_to_j, c, d_1_to_k), \n",
    "                         Mult(a_1_to_i, c, b_1_to_j, d_1_to_k)) \\\n",
    "                  .with_wrapping_at(2), \n",
    "                  domain=Complex), \n",
    "           domain=Natural)"
   ]
  },
  {
   "cell_type": "code",
   "execution_count": 54,
   "metadata": {},
   "outputs": [
    {
     "data": {
      "text/html": [
       "<strong id=\"association\"><a class=\"ProveItLink\" href=\"proofs/association/thm_proof.ipynb\">association</a> (conjecture without proof):<br></strong> <a class=\"ProveItLink\" href=\"../__pv_it/theorems/7046a3b1ca1f22ac5358866c10445b789cd35f940/theorem_expr.ipynb\"><img src=\"data:image/png;base64,iVBORw0KGgoAAAANSUhEUgAAAtgAAAAyBAMAAACUvbH7AAAAMFBMVEX///8QEBCIiIhmZma6urrM\n",
       "zMxUVFQiIiJERETc3Nzu7u6qqqp2dnaYmJgyMjIAAAAcRTyBAAAAAXRSTlMAQObYZgAACKxJREFU\n",
       "eNrdXG1sFEUYfnt3e9e7vbsSgygg5mgFCYZwQgSUKmcMNv4ArjFS0B93qRqDEjw1YhQSz/6QVsFs\n",
       "QoKABg5JBBpDT8CQGhIqJJrwES4kRiF8NFpMJIoFhNCi1p2Zvf2Y2W+Oa5dJet2ded+ZvWdn33nn\n",
       "2acFsFdqhoZ6YDhKNAXeLpEs+X1i6LJdl5ruTYVhudZj4PWykPzatelr22Cnh+dKfVnPgx3rlQ6a\n",
       "RzrY1GwIl0YqpLxg2LTWI2BHRmvPd7rt54NcRWxMyjLDlm0pb4Bdm9Se/+62o3iyMjbGZbfxpB/l\n",
       "DbAPalflmGs46oqVsTFJmxKGTau9AfZb2tOQ4LajRYXK2JhEoVHGU0bwAtixAe35p657+qFCNial\n",
       "z7AllPQC2KG89rwBJSSNM8ZZe64/PFEzT3+rn2vpw9hE6ydZRw/Z5rDxnBn0AtgZavu4Tvx5Uoj3\n",
       "AywxdwyMhb/EJF0O8ZH/Cl2ChROxgQtKnrkKPgEub+qEbSbicH0OY38JF+3aErniBbAfps5XiRc+\n",
       "Afx5eHY2+RY6PnhCbyvBHABOKNvwg1CXsHDCNgBFuZNQD7zGzcwpvVI3p2wDITwn9ht/j0teAHsM\n",
       "dS5m3f5BCImQNOHzrl6d+Yk+5xXgTakC2/h7oavHwonYaDsRn5GcUqEtuB9s04VvRcb4e0wXRj7Y\n",
       "3L8s2DV56EqXwQ7pbOZXoo97IXKtHPezJIVeVLRwIjaaTmSwSQW1oGTLNqRfE7C3lkY+2L4BNoyI\n",
       "k++g/P0Mw+8/wPdDYLKSQpfQHDR3wjaRhqKqEwVs44HQ0shNLl+SFLOp+1mTHflg19Kpq7hAdhVh\n",
       "BS9YgX0Tgr3d0To50talxFhvBTay8QeUICM+V7wF2MTmz30okJwz+SK5kQ92DZ0JiNlVbSK2MqrB\n",
       "DcdTFEBVgbUNfsr2bFaWrGAJbfybtAFXdlTZ7Ioqk3IWRB5Rg603ELa5jsFpNMkP+wnYeKyzdsCO\n",
       "45SxmrRbF707F9GKtE7a8IB2kq4sB1AlsH5Zv7Q1JUIu4zTjuDb2yPZKBCc2tcoXjB4/qQ0jOgMh\n",
       "G+6uj9HhBZPN2TUC9lH066IdsKMomsULVQQ7Q9MNyna9yc4GejDN3CtrgoRiBALWVKAv3xwWRzMx\n",
       "5K4QsDeizDxvB2xstbGqNBTNDClE1H4b7nxvj7bCjhMdWHlrsGsTLT5TIgoiV0nXaKpGi3bAxvP/\n",
       "aDXBPs8sFB3l3fj7rTZm9nLtLLXlNIXaIc6+nrByiQvBSWYUq1iuE7BjRzo7bfA7COwznZ27ctUE\n",
       "ezpD8u287WO2uXXsMGu8IT00N9rbV9sDu669fU1PNcE+wSwQt/u1WPCZcS49Y6bs7/0S2C/jmyJx\n",
       "NmhFnZgwADuYhlpLQnlhr706O2VeNVdjAvb3wm3p9x4J7Kcg0itxNoSFCZWptpbGlG+MCuxA0jww\n",
       "kVwoaa/OcFVb+4ocWV+HO6W8IYEdAp/22cS0SuTAzBKfPwKPqTc1OZhm2W28aK9Ob0ETx4wsKXB/\n",
       "3LlgR0shnWz05+5O4E/6oUcN9nGwXh/rBHt1OgWNGfsc4MDwhZHbVd6RwA73LgaJsyEsDKJVAujB\n",
       "519YmtCAvYXLoo3WCnbrvn1yef+UqX+V3ZwodYfq2SuR6vCY878Rr0heIIU7BezyAgkdL4nTG3M2\n",
       "hIVBtAremvPpIz9qwK7dIIbzHelMAYLaORd5mxsEsvN/sNBAt+I6oqsIpZqZVlT3BAo26OT0KXXq\n",
       "l65cNuLQk3d9n7v1KseUwd4rxgbC2RAWBtEq2wnYUXlpw2Dz6FXHTGgB7jstYP4kl5PeZrTBOboV\n",
       "1UlHc4BjWsU62AvSmN+qr/V8qnJ59k6HQp1lrhMavdt0tQw2ehck5fKIhcG0Skt7e3uCT4dLOQ3r\n",
       "h7b440EMOSEtYDVFWZM3GmbRrbiOlPHA+OI69KYVj/nZc+rtOgO2a5EO8nQk1NntdqCITp5LaG8E\n",
       "dqwgczZoJcO0SpDMbJif0IB9WrQcgHWdNGBdQu3pwh5sOyiCR8OJ6s7igDSgAzaqe3dBkozp/0L1\n",
       "kjBTMuRGHO85kg6FOtGE26EOGRNRMmcT/gjzUgVMq0QRtrEUxDQxG5ex3N8lBNjGgughfdQImQWw\n",
       "LwniyXuxPGpV2khd+PkcqusDP9OK6iZsLpExw41p5Wrrkoasn9OCPB0JdUw0NxZlm84KcFMNdmS5\n",
       "wI1HLExzkdAqiKFt6gPIMmA//VADBru5yI2FZgF9FAOtex5HG0yxj8XH8NwVj0ibINWJuYZ4tH7a\n",
       "VKZVrAv8gmDFrPBXlz6UhwrRT6R7kQ7ydCbU6XM7VDzF7uoGaEKRx5Fbeox8Yvykt+vqiVKQLaF8\n",
       "tCOA+5BaeXW/QJhFw1Zf4mKRHRP8/dRFuxfpIE9nQh2V5saZWEdnvxzsp8HuRiyMUcqjBZubPldl\n",
       "KR0Fp0p5D2pVZUDkCFG5hq1+4UxKL9AOUhWuRTrI06FQR3ml6FCsE2NXSPJ+Tw12CbEwMbADNu5T\n",
       "5whKRkebtpi1GhTuJlXhWqSDPB0KdfbLdg7FOjqvG7YmaLAtKdZbKWcedeNVMZEO9nQm1MnIdg7F\n",
       "Olw/Y+IFkQ7MY8F2J9JBng6FOhnZzqFYRwfsNeABsBelmDDiTqSDPB0KdZq0OxL7Yh0dS08IK0NJ\n",
       "ZoF0J9JBng6FOsoC6VCswy6QPk9Ihul0xLVIB3k6FOoomhtDsY7KUSXW8fcw4GW9ADbcpz11LdLB\n",
       "ns6EOormxlisoziqxDpxBipv/JkH/QdM7kU6sqddoQ6tubEt1oEdTMOv4AmwKaLOvUhH9rQr1KGJ\n",
       "KNtiHZaI4sd5A+zw3dpz9yKdDgeOU1iK1b5Yh6VYvfJHp/REvJWXB/ZLG1hobkznN0N4vAgeAduv\n",
       "3X1U47UYFurEXJO5p5iUKu8Y7OH6FxitVR+x0kIdF/8CY7j+uYs/Bd4uEUlZcGLo8v8Hbttc7MqE\n",
       "WAAAAABJRU5ErkJggg==\n",
       "\" style=\"display:inline;vertical-align:middle;\" /></a><br>"
      ],
      "text/plain": [
       "association: forall_{i, j, k in Natural} [forall_{a_{1}, ..a_{_a}.., a_{i}, b_{1}, ..b_{_a}.., b_{j}, c_{1}, ..c_{_a}.., c_{k} in Complex} ((a_{1} * ..a_{_a}.. * a_{i} * b_{1} * ..b_{_a}.. * b_{j} * c_{1} * ..c_{_a}.. * c_{k}) =  \\\\ (a_{1} * ..a_{_a}.. * a_{i} * (b_{1} * ..b_{_a}.. * b_{j}) * c_{1} * ..c_{_a}.. * c_{k}))]"
      ]
     },
     "execution_count": 54,
     "metadata": {},
     "output_type": "execute_result"
    }
   ],
   "source": [
    "association = \\\n",
    "    Forall((i,j,k), \n",
    "           Forall((a_1_to_i,b_1_to_j,c_1_to_k), \n",
    "                  Equals(Mult(a_1_to_i, b_1_to_j, c_1_to_k), \n",
    "                         Mult(a_1_to_i, Mult(b_1_to_j), c_1_to_k)) \\\n",
    "                  .with_wrapping_at(2),\n",
    "                  domain=Complex),\n",
    "           domain=Natural)"
   ]
  },
  {
   "cell_type": "code",
   "execution_count": 55,
   "metadata": {},
   "outputs": [
    {
     "data": {
      "text/html": [
       "<strong id=\"disassociation\"><a class=\"ProveItLink\" href=\"proofs/disassociation/thm_proof.ipynb\">disassociation</a> (conjecture without proof):<br></strong> <a class=\"ProveItLink\" href=\"../__pv_it/theorems/9239332bc96e1588e1962c7d90028841890f926c0/theorem_expr.ipynb\"><img src=\"data:image/png;base64,iVBORw0KGgoAAAANSUhEUgAAAukAAAAyBAMAAAATjFj9AAAAMFBMVEX///8QEBCIiIhmZma6urrM\n",
       "zMxUVFQiIiJERETc3Nzu7u6qqqp2dnaYmJgyMjIAAAAcRTyBAAAAAXRSTlMAQObYZgAACMpJREFU\n",
       "eNrlXG1sFEUYfnt3e9fbvesRg8iHmKMVNBjSEyKgVHvGIPEHcI2Rgv5oUzVGJXhqrFFIPPtDioLZ\n",
       "hAQLGDgkEWiMPQFDakiokEjCR7yQGJXwcVEwkSg2IIQWtc7M7u3u7N7ezg7t1a2T9Lo7874zu8/O\n",
       "vjPzzHMHwJaqhob6YDRSJAljI4mt6g0NDY1j9anq3ZwdlYs9AWMlLVHR37yVHfXU6Fyqr3XMoB4t\n",
       "qAfCfx71L+jTcJ63IpeekszbUK9tyXqvoC6Op893c9e0G8R3087taTYv8jYUtH1eO5IeQb06QZ//\n",
       "yl0T8qxJOJtpNp9zd5SC7fszziOoH6KH8GiCtyLsGcs522k2kThvU4dtS9Z4BPXX6dMQd7TFnksZ\n",
       "ZmGajTiOt6kd9n1I9gTq0QH6/CPumrDnUQY73eYCb1M1tiuMUMITqIcy9Hkdnow0zJ7s7LnxyLSs\n",
       "2fOX2gWOfrrNEcNKrXa682pOs4nYhsHooCdQbzF1mw3o71G5ph9geXnHwCT4A032E0ZP8Z9sj+zg\n",
       "qNjARXR4Tp90roYPQciUn5him2lxbV4euUwS/QDEK55A/X7T+Wp05VPBn4En5ym3UcKHdPEdeZiP\n",
       "bk/WbJCnNAixuIMjsQHAQ+oBzS7UBy8Lc9J67aYnVbSBEOkkkv0E9bInUJ9gOkezd/8ghBAui8h5\n",
       "T6FEb8WfjVl4Tc1QbLBnAXr6HBwVG+U90+waMdSBtF47nXSbHvJMhH7b+6mXPYC68LcV9aoM9KSK\n",
       "qIdK8AXt+GMiiNeKY0Or6omm4ktzDo6KjY46sZsIGupK7abBR7NR6i6D+va8B1D3DVgjDOqKh7Qb\n",
       "tA3Pf4HUD4EZlGcsj3tkeUdiI9bljC2gynTU7RvEA7Awo2ipxnXTw61q9QDq1ebLQ2NiTw5WSbIT\n",
       "6jchWOiNxLJGz1gSjQlOqGMbf6BAjabojZMcUFdsft+PY0y0YH9DaQ+gXmWeN6DZXHU82h6hwCOx\n",
       "FgdXQ9DtgO9b+7YcoDyDecwvLKIDsuaskijYZk8Ed8kGzW4uiA8YUdd9dEdic52A5O+zn172q6gT\n",
       "v7MsqNeQaVG+gqj3mGe+CDKxbfqmu+ku214MrnrQ/bR2RVsSYU95zj5JhybNR4/yik01vsmLOlYn\n",
       "T9ERRvPRHbGNcNsHZJVk30Gj11TUj+P/l1hQj+BoV5OtIOotcbBjBBax8FCDKasni2MMGYumiBJw\n",
       "Jix9maYw+rerzPTgiop6F57iZ1hQJ1ZdFeW+ciU4LCUdYHCXCn1WTxbHphLsl+SMenW82VeW/QLx\n",
       "qoo67ryRHAvq5I04XknUz1ve1XXFBf87bQx9faVs8WRyvBcsTG943vW4IwEjB6eXY3pRuq6iHj3W\n",
       "3c1AKmHUz3R370lXEvV6C8V4K7sa7KnD8HzdT7zK8aI3inOYG52da9hQj3V2ru2rJOrfWgaRSuzg\n",
       "BZ+YjCISN6f8Y7nCu4qoP0+eq0oU4YF7WtwG9WCq/IMkaUmBLY8lNVZy6NZR/0YesbrvKKL+GIlE\n",
       "gtISDvChItHX3JD0TTCgHkgw7GuV4jkjLraApPUvaJH3FRhr6dUi6iHw0S8f4XDEg3PyUuYYPGRc\n",
       "JaVhlmO9NTm2vFKjH2pTXJ4VfvsfoB7JhyxLEYAfertBOuWHPiPqJ8F5MI3JbHklEm4z+jHAwdGN\n",
       "MCOZ3iyiHi4sA5UoUmgfzOEEcEyQnlkRp1DfJrTi5dsq6+Jr54ziUq6l9iXrakfPO1xrvRQ1j7S5\n",
       "8Et0RdpoKo811LXRFNY9hzo8IYoU2gdzOGT1L6WOfUehXr0JhfxdqZYsBOleKL4hDIJCLtyTrTOX\n",
       "kjxFYBJKNllKcd4jOA7hk9PGKUB9avjmMCOd2GRLEzTU96GwoRBFCu2DOZydCuoRbRwkqEt4I2YO\n",
       "NIPwNY2cPyGk1X2WDjhnLsV56tF8ECylKA/2gdrmV0bp1PnkcM3X3SmQuBKTbOmqhjreslKJIkz7\n",
       "EA6nubOzMy6lwvm0EXXANMIUQNEoRCNXldP0iONhrrmU5ClpClh8SR7eIiZtbn3KyAhYUOdWIblS\n",
       "IHElFtmSQsMT1KNZjSjCwx7hcIJKX4eFcQr108hyADZ0m5HrkatPZ/cS20GEohlXnHeWxKqBEqjj\n",
       "vLcWJ5Q2/Z8YNjVb8rY8jNvkSoHElVhkSxr7pRFF4fcx7dOVJRxOBIMcTUKUiuskTRL+zGPkurLI\n",
       "Q/2oklsWw/4EoJO3oxlcqpcpeeGn0zjvAvgtpThv6pa80ma4IaXTRzEzyPwqJFcKJL4gxrBXId2k\n",
       "UBdXysIUTPs05RQOBzPFiy4AtFpQf/y+OoJ6U06YBE0y/sgF2vY+jJeuqI5lJ0hvRkdKmazmoRkK\n",
       "Oto4a6alFOUFfsL4Enb6s8vvaU2FzGtafhXS0WGyKZMYZEuRAQp18iBIdFffMh+KsWZGwNjpspol\n",
       "FI92BUgdaqlkrBcUXtO21Be/lLO2CX7zvi+/CsmdAqkIkiv10REGsqHfgnovpn3sJkA06kL9AoOl\n",
       "ehScqYq3calBxq0cYUbZttQvn0mWaFTVSumJW4XkUoGkTlPdqY/OMXCIGQvqeUz7RIEFdQJJiSPI\n",
       "2x1t3lau1G7wuWnK4FYhuVQgKZW4VB8x7Jdsj1tQL/+UbnG3+syDPF7DpkJyqUDSKnGjPmpxvh9P\n",
       "qJCg0Yo6nwrJpQKpWAm4UR8xoL4WvID60qQlwvCpkFwqkAxLGnb1EcM+uDfUpaGEZTTlUyG5VCAp\n",
       "yaX6yHk09XlDSW2exHCrkFwqkJRkqz4yNGRQHzU4g9jqCdThTvqUW4XkUoGkTsVt1UftlI2qPrro\n",
       "eDce+YaM+dtg/CokZifzDgyz+kh0NvwZvIG6iQbkVyExOzWZK2FVHzmzX9Jkj6Aevp0+51chgQsF\n",
       "kvECmNVHzkyvZ77la+6eu0e8wQ5eR2fZ0rPgFdT99JJmpHfwiAKJb7rlSEJHM+5RH61fKmmraGsj\n",
       "qUDi+aWS0fpVHn8SxkYSVZ0E/lWefwHup84AMOlq5gAAAABJRU5ErkJggg==\n",
       "\" style=\"display:inline;vertical-align:middle;\" /></a><br>"
      ],
      "text/plain": [
       "disassociation: forall_{i, j, k in Natural} [forall_{a_{1}, ..a_{_a}.., a_{i}, b_{1}, ..b_{_a}.., b_{j}, c_{1}, ..c_{_a}.., c_{k} in Complex} ((a_{1} * ..a_{_a}.. * a_{i} * (b_{1} * ..b_{_a}.. * b_{j}) * c_{1} * ..c_{_a}.. * c_{k}) =  \\\\ (a_{1} * ..a_{_a}.. * a_{i} * b_{1} * ..b_{_a}.. * b_{j} * c_{1} * ..c_{_a}.. * c_{k}))]"
      ]
     },
     "execution_count": 55,
     "metadata": {},
     "output_type": "execute_result"
    }
   ],
   "source": [
    "disassociation = \\\n",
    "    Forall((i,j,k), \n",
    "           Forall((a_1_to_i,b_1_to_j,c_1_to_k), \n",
    "                  Equals(Mult(a_1_to_i, Mult(b_1_to_j), c_1_to_k),\n",
    "                         Mult(a_1_to_i, b_1_to_j, c_1_to_k)) \\\n",
    "                  .with_wrapping_at(2),\n",
    "                  domain=Complex),\n",
    "           domain=Natural)"
   ]
  },
  {
   "cell_type": "code",
   "execution_count": 56,
   "metadata": {},
   "outputs": [
    {
     "name": "stdout",
     "output_type": "stream",
     "text": [
      "These theorems may now be imported from the theory package: proveit.numbers.multiplication\n"
     ]
    }
   ],
   "source": [
    "%end theorems"
   ]
  }
 ],
 "metadata": {
  "kernelspec": {
   "display_name": "Python 3",
   "language": "python",
   "name": "python3"
  }
 },
 "nbformat": 4,
 "nbformat_minor": 0
}