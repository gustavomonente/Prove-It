{
 "cells": [
  {
   "cell_type": "markdown",
   "metadata": {},
   "source": [
    "Proof of <a class=\"ProveItLink\" href=\"../../../../../_theory_nbs_/theory.ipynb\">proveit</a>.<a class=\"ProveItLink\" href=\"../../../../_theory_nbs_/theory.ipynb\">numbers</a>.<a class=\"ProveItLink\" href=\"../../theory.ipynb\">multiplication</a>.<a class=\"ProveItLink\" href=\"../../theorems.ipynb#mult_neg_right_double\">mult_neg_right_double</a> theorem\n",
    "========"
   ]
  },
  {
   "cell_type": "code",
   "execution_count": 1,
   "metadata": {},
   "outputs": [],
   "source": [
    "import proveit\n",
    "theory = proveit.Theory() # the theorem's theory"
   ]
  },
  {
   "cell_type": "code",
   "execution_count": 2,
   "metadata": {},
   "outputs": [
    {
     "data": {
      "text/html": [
       "Under these <a href=\"presumptions.txt\">presumptions</a>, we begin our proof of<br><strong id=\"mult_neg_right_double\">mult_neg_right_double:</strong> <a class=\"ProveItLink\" href=\"../../../__pv_it/theorems/18fa85b27fae92c2fc4505013db1247e48374aef0/expr.ipynb\"><img src=\"data:image/png;base64,iVBORw0KGgoAAAANSUhEUgAAAR0AAAAVBAMAAACJYCeRAAAAMFBMVEX///8QEBCIiIhmZma6urrM\n",
       "zMxUVFQiIiJERETc3Nzu7u6qqqp2dnaYmJgyMjIAAAAcRTyBAAAAAXRSTlMAQObYZgAAAvtJREFU\n",
       "SMfFlk9IFFEcx7+tszu74+wqUZdOmwviIVAKO5lZUd5yPfTnpkgRXUSiulQQHWSXijYIlCyaNrCQ\n",
       "sIWIMDwsdrPLHjpkVMwhD0XJEgUlFL1/u++9Ud6YBf3gw8z7vt/vzW/ef2ANlqhwdAUmobEgQYgv\n",
       "sxmBTwtvzfk8EOiKWTipEOZLLVbgvKCFj+Z8Pgh0xSxMK4T5UnN8zjjtwIvGdJIdHF2BUYCbloT5\n",
       "MpvjpDwSUzLmYxc4ugKjAKdZEubL7C4nOT81NWYerjGBrpgF4L1CmC+1VA/ney533pxPRqArxdYb\n",
       "29KqULPidiS2AM8hMQY7mTSue3DJMFKOA3lzPlcFmuKUk6dsX3WpWXkPIlXgHSRwl5h1rBbsWs1o\n",
       "JwPlc/axab3CGq+cGBKv5wTSSMn13GWLzgQPenWi1I04WSBPITEGTzT4yJEPjnBsRAL7kzO7o+Ic\n",
       "9aKfRHkTx+H/mBUl9lHy/FVzmWbViw42oomMxQAkmgWDvQ1pfAGiVY5bsQMBr2amkLwFzOr56E2C\n",
       "fZTYWQSqrWUMZM356MF9XvSbzCfhH6Yrv7OVtGG1wvYsOsr7n5Aa03iBfVQThJHu30oevQq1+TO4\n",
       "anA3ImRTsEY4yB8DIt6wTdaa2+T1I0V9Xi+EzOdGr51ErTaf44MYRWA+G4NHaUh9PuMxSSqKz7Tm\n",
       "Zi/acI++PZuRDaxctaTUV7qG25pLvX8GrZ/k0aVgDt6JPjKDG8ocMZQ/WFUXhnAkl8ulJw7JBuq9\n",
       "riqTLcVdFc2lvhyGMrSxRQVz8GTLbrLWUlkOkrTjotUorTqNzYixnyzSVbDO86KBno0jktDzoptw\n",
       "X8Dsjuu7GPdwxqrCpUkmurLshFvHeTqMRz1/cp7GfOerPE9Fl72cm0d/CQfayK9dpsrDpdH6Esgj\n",
       "uIev2NEV4QIume8bgWC7Ek/L+4ZqJacQJ8MaIfPnL+5jezNZ5R/yofcxq6WTrsoCR7tjxsoH/9F9\n",
       "NVmQrOm+uiBQ24D1poz/a78BV5IHUSDutVIAAAAASUVORK5CYII=\n",
       "\" style=\"display:inline;vertical-align:middle;\" /></a><br>(see <a class=\"ProveItLink\" href=\"../../../__pv_it/theorems/50b8fe78627a1ebda8a5a7bb712e34407b45d95a0/dependencies.ipynb\">dependencies</a>)<br>"
      ],
      "text/plain": [
       "mult_neg_right_double: forall_{x, y in Complex} ((-(x * (-y))) = (x * y))"
      ]
     },
     "execution_count": 2,
     "metadata": {},
     "output_type": "execute_result"
    }
   ],
   "source": [
    "%proving mult_neg_right_double"
   ]
  },
  {
   "cell_type": "code",
   "execution_count": null,
   "metadata": {},
   "outputs": [],
   "source": []
  }
 ],
 "metadata": {
  "kernelspec": {
   "display_name": "Python 3",
   "language": "python",
   "name": "python3"
  }
 },
 "nbformat": 4,
 "nbformat_minor": 0
}