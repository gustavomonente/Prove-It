{
 "cells": [
  {
   "cell_type": "markdown",
   "metadata": {},
   "source": [
    "Proof of <a class=\"ProveItLink\" href=\"../../../../../_theory_nbs_/theory.ipynb\">proveit</a>.<a class=\"ProveItLink\" href=\"../../../../_theory_nbs_/theory.ipynb\">numbers</a>.<a class=\"ProveItLink\" href=\"../../theory.ipynb\">multiplication</a>.<a class=\"ProveItLink\" href=\"../../theorems.ipynb#mult_nat_pos_closure_bin\">mult_nat_pos_closure_bin</a> theorem\n",
    "========"
   ]
  },
  {
   "cell_type": "code",
   "execution_count": 1,
   "metadata": {},
   "outputs": [],
   "source": [
    "import proveit\n",
    "theory = proveit.Theory() # the theorem's theory"
   ]
  },
  {
   "cell_type": "code",
   "execution_count": 2,
   "metadata": {},
   "outputs": [
    {
     "data": {
      "text/html": [
       "Under these <a href=\"presumptions.txt\">presumptions</a>, we begin our proof of<br><strong id=\"mult_nat_pos_closure_bin\">mult_nat_pos_closure_bin:</strong> <a class=\"ProveItLink\" href=\"../../../__pv_it/theorems/33128b56f1a7d1f4a8d4f854a9b8928d236c6ba90/expr.ipynb\"><img src=\"data:image/png;base64,iVBORw0KGgoAAAANSUhEUgAAAMcAAAAbBAMAAAA614ahAAAAMFBMVEX///8QEBCIiIhmZma6urrM\n",
       "zMxUVFQiIiJERETc3Nzu7u6qqqp2dnaYmJgyMjIAAAAcRTyBAAAAAXRSTlMAQObYZgAAA0ZJREFU\n",
       "SMfNVk1oE1EQnu5fks1u2oNovdRUoScPoT0oWjUgUhHEFKSleOgSLNQ/EKWIP2iooFu8BETsRbpS\n",
       "KNJDGqogBcFAL1IRYkUs/hG19VAxLUVBWwXnvbfZP/PT9CA+eC+zszvvmzfzzbwA/F/jcNUWGk6u\n",
       "KgtRqxokgVOoyixkrAkEnlVj0UyWO3/rg8nyID50LkeEd5UxAsu4yAm38t4GXI65dfKCPg/KpnUF\n",
       "EC4C8JQI85VBlAgJmdfrTzhTHp0/2wEwBlI+35D/it4tAgwSLxOVQWrSuLzwalcIfNitk/q4MNRY\n",
       "4YKLLJ9KujLIEMn7eY9SoDGsYw/q9XOXKch+owd8Nsh2fDU1Onp7FXl/Tk582htDqphlFO836Sfd\n",
       "0lKGA6QR5w9dv1QyEba428wh3JxstMgcim/BIExSOVXQSslxUXOAHMIXPQADpUB4W9RpSjFCG2HB\n",
       "Uo7Nyz8B3lPZIpmUVKLTDpDuGMBekHNWjPMlQT4TyqPbd7MkyJgJsjw2YAngoV0UDASOS51EYlwc\n",
       "iqIlcFlrq0nzt7M1yq13gZwlDMPP9xhwhh4iR2Mo/0JXaUoa8jhMkBH4YFuOoZWS9dmKL8THRy3Z\n",
       "YGIKdigt21p2OiuCgNSD/J0WskaVwooJEnCeRMy0O3iJVoFch63ACMPMxCgEp3nIuE5yjYULPQ8u\n",
       "WsrfwCOJ26hc5wCBN37bsptEbeAoLsNNc+TMS02GQCgUPNIVdoP0ssTLKyDlJgrKbyRFZuKbLRBM\n",
       "tDJoWxJ2wX0ku9wnkrriLnCREO16samXbpBGs7X0wystU1Cegqu4tlLZV6joUNpkvKPCoBbbAh8R\n",
       "SV35w2pumIEoZEfe7Y+A34xs7opHC8rhrYQzc6wx9h5gRXml3t3QKBlVg3QmTqOZ5bVOXdfDwVgg\n",
       "izuKjt4VLdJW2O5mHxCesLbiHR8tmiX9rxGr1qhJS+wksM/d9/hMsQYJRRqk14dly89k90EYNHzG\n",
       "DCgxcrooqBn37UvY4y92QaXKNz3Vun+F+PguaE+LJ3HnG/jcNsv+BjjGiSKXFh0D5UF8Mfcz4weH\n",
       "OSnlcJHrV02WB3m76tuavI2s6Y+U90JUy3/+YE0gvAH/ZvwBoizK9/4uYLUAAAAASUVORK5CYII=\n",
       "\" style=\"display:inline;vertical-align:middle;\" /></a><br>(see <a class=\"ProveItLink\" href=\"../../../__pv_it/theorems/9d30cd3eeee97e587fefdfa978262e818f922d6e0/dependencies.ipynb\">dependencies</a>)<br>"
      ],
      "text/plain": [
       "mult_nat_pos_closure_bin: forall_{a, b in NaturalPos} ((a * b) in NaturalPos)"
      ]
     },
     "execution_count": 2,
     "metadata": {},
     "output_type": "execute_result"
    }
   ],
   "source": [
    "%proving mult_nat_pos_closure_bin"
   ]
  },
  {
   "cell_type": "code",
   "execution_count": null,
   "metadata": {},
   "outputs": [],
   "source": []
  }
 ],
 "metadata": {
  "kernelspec": {
   "display_name": "Python 3",
   "language": "python",
   "name": "python3"
  }
 },
 "nbformat": 4,
 "nbformat_minor": 0
}