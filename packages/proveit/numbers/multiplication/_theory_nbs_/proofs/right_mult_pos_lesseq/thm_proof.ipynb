{
 "cells": [
  {
   "cell_type": "markdown",
   "metadata": {},
   "source": [
    "Proof of <a class=\"ProveItLink\" href=\"../../../../../_theory_nbs_/theory.ipynb\">proveit</a>.<a class=\"ProveItLink\" href=\"../../../../_theory_nbs_/theory.ipynb\">numbers</a>.<a class=\"ProveItLink\" href=\"../../theory.ipynb\">multiplication</a>.<a class=\"ProveItLink\" href=\"../../theorems.ipynb#right_mult_pos_lesseq\">right_mult_pos_lesseq</a> theorem\n",
    "========"
   ]
  },
  {
   "cell_type": "code",
   "execution_count": 1,
   "metadata": {},
   "outputs": [],
   "source": [
    "import proveit\n",
    "theory = proveit.Theory() # the theorem's theory"
   ]
  },
  {
   "cell_type": "code",
   "execution_count": 2,
   "metadata": {},
   "outputs": [
    {
     "data": {
      "text/html": [
       "Under these <a href=\"presumptions.txt\">presumptions</a>, we begin our proof of<br><strong id=\"right_mult_pos_lesseq\">right_mult_pos_lesseq:</strong> <a class=\"ProveItLink\" href=\"../../../__pv_it/theorems/e246aadc1f3182564c7182a3c4d3ddba99a403470/expr.ipynb\"><img src=\"data:image/png;base64,iVBORw0KGgoAAAANSUhEUgAAATwAAAAWBAMAAACvaz3RAAAAMFBMVEX///8QEBCIiIhmZma6urrM\n",
       "zMxUVFQiIiJERETc3Nzu7u6qqqp2dnaYmJgyMjIAAAAcRTyBAAAAAXRSTlMAQObYZgAABERJREFU\n",
       "SMfFVm1oHEUYfu5u9+52bzcngmBbhGtPQ4haQoLSH2m9ptAiWL36w49fdxwGCWgIoalfqYSi5VKp\n",
       "LARqKYjbKi3Gs3coKu0flwShxqILCkWpZdHqj6p4iAWTqvjOzN7c3t2mRjjpC8/O7Dvvzj4z78cM\n",
       "8L/I6z465Mwqxu2SsgQ89vJtl9npMwKdErdCjTtlTOAz1r/SZXo9lkAIca/Zj05J4045LXCUGm2m\n",
       "y/S+9BEiC7JXmWwad4qR4eixqal1md5zPkLkeKMztz9gHLLNN3GYS/Pzr3WZnTYhEOr3nGiP/BQw\n",
       "DpPLAn+Uy9NdphcdENA3jY00nakND64nTw3wl8cuB41PDEJbLw3nFjeSSxfBMQrM/vsflTWQWnD8\n",
       "XtIVqOBC5kU5vt3qqQMmz43ky1LNDJ3tiNblr9bhV2ouCexoyaa26jN5cFtGTNKqb8klZYw3F/Gh\n",
       "r0jUBJbwhX0/iyMeTLchRp+luC+jkzaaxlptG5JsSq487mILNR8JJBB1Q7m9s7gVGcc40Ukv9V2r\n",
       "5dwoe+5F2v9nJCdgo8zfq2z9sRUkaKmq2CVzusGPDHXcjDSN6X8zxX02WE4XBAw3EcrOfOWYTfTM\n",
       "dzvomb+0286Rr/SriNRa6QG/iQ0qMuUMqnlJD6nvraaxsoICjWEfU9zKppL0NO8R6rzZ+wOvSvf0\n",
       "kpnSi4S9g70TvUqAnpF9eBRRzm6kiOeZywbH2byVl6AuI+G2Ohfq1eYSqg4+ZpHQSFTlx7w0jnnY\n",
       "KCvKn0ixJezyMfsE6abUFRYS9niCFmOk7T3itMs4saEAvf64t1d5gXedFZUqE07lC9xLlSuqcF4w\n",
       "Nc5SvPdLejWM0ylqykBXyzlpXMRBSe8a4t4ZmRp4n9YTG1DZqlTwnTm2C306LwCZe5/MBejle1zo\n",
       "55hGe2siyoJ5CI/ykc0u7V7Ep8eKB0G5lqxrMq6TGXOfQX9ympVmtGEcKyp/SfUBXCiS0TAEWFBG\n",
       "atEiH1vmz2GU1GfL5QPIfHp3kB7SFDD6Oea3mBNnZDagl624r8YCJu2XXOZAgl7qzzYvG3rpjiO3\n",
       "U1nOt5esCTaWXZaKk5seL9FELNgYTPJO1Up+w5yk1lWRhLegKJz7wVKQXgFs9s0stnIR6urLODzv\n",
       "b2gzc693qJ0KPQFZ9LUdahMCIn2swm4ctd8wPIMaTCl1fCLoGYHU0Oqfg/vmkotE/iFoh7BO/d3V\n",
       "t/Bdy8q6t7YrQcB4HNVc+JXA3+HSe1uxp3byq4UlarCzz0OStig1/bM+5El6+tMP3CU26Cx98SrU\n",
       "Ddh5Z9ZVhb+i5wdknFkCq16oTj/DZKphvJ8CLvxCFRS/bNV0i6VTXznwTbL987dxmOj/5+toMvQ6\n",
       "OpJtj0h+0M52XKB5E3ce7Ji2XfGU4oVfza9/mf96jZd50xIIqhqNctFZnV6qTHIIu89T3w1qbqTE\n",
       "bsxv/wFd1i3LqwjQfAAAAABJRU5ErkJggg==\n",
       "\" style=\"display:inline;vertical-align:middle;\" /></a><br>(see <a class=\"ProveItLink\" href=\"../../../__pv_it/theorems/7d646bb74bbec45f5919128081aa697f578002e70/dependencies.ipynb\">dependencies</a>)<br>"
      ],
      "text/plain": [
       "right_mult_pos_lesseq: forall_{a, x, y in Real | x <= y, a >= 0} ((x * a) <= (y * a))"
      ]
     },
     "execution_count": 2,
     "metadata": {},
     "output_type": "execute_result"
    }
   ],
   "source": [
    "%proving right_mult_pos_lesseq"
   ]
  },
  {
   "cell_type": "code",
   "execution_count": null,
   "metadata": {},
   "outputs": [],
   "source": []
  }
 ],
 "metadata": {
  "kernelspec": {
   "display_name": "Python 3",
   "language": "python",
   "name": "python3"
  }
 },
 "nbformat": 4,
 "nbformat_minor": 0
}