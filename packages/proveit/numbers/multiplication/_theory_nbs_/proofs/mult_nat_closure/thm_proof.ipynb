{
 "cells": [
  {
   "cell_type": "markdown",
   "metadata": {},
   "source": [
    "Proof of <a class=\"ProveItLink\" href=\"../../../../../_theory_nbs_/theory.ipynb\">proveit</a>.<a class=\"ProveItLink\" href=\"../../../../_theory_nbs_/theory.ipynb\">numbers</a>.<a class=\"ProveItLink\" href=\"../../theory.ipynb\">multiplication</a>.<a class=\"ProveItLink\" href=\"../../theorems.ipynb#mult_nat_closure\">mult_nat_closure</a> theorem\n",
    "========"
   ]
  },
  {
   "cell_type": "code",
   "execution_count": 1,
   "metadata": {},
   "outputs": [],
   "source": [
    "import proveit\n",
    "theory = proveit.Theory() # the theorem's theory"
   ]
  },
  {
   "cell_type": "code",
   "execution_count": 2,
   "metadata": {},
   "outputs": [
    {
     "data": {
      "text/html": [
       "Under these <a href=\"presumptions.txt\">presumptions</a>, we begin our proof of<br><strong id=\"mult_nat_closure\">mult_nat_closure:</strong> <a class=\"ProveItLink\" href=\"../../../__pv_it/theorems/bee565b589370327d5aae670c42adc7079ce1b7e0/expr.ipynb\"><img src=\"data:image/png;base64,iVBORw0KGgoAAAANSUhEUgAAAVQAAAAVBAMAAADrzwv7AAAAMFBMVEX///8QEBCIiIhmZma6urrM\n",
       "zMxUVFQiIiJERETc3Nzu7u6qqqp2dnaYmJgyMjIAAAAcRTyBAAAAAXRSTlMAQObYZgAABDtJREFU\n",
       "SMe9l11oHFUUx//7MfsxO5v4UKVRxKmxVaq1oX1QNNENovFBYVPBWBSyLPZBH0qwaSIo7VKETiyF\n",
       "wWK7FJQphVRX7C6RpQZaOrr1JUUYqtJaY1nBPpiHNoiFWkU8996Z2ZnsTrcjxQPnzp27s3t+e+75\n",
       "uAPcRKJX8vhPkraEhpT5gPWMDlyaRJPNf+78iJLrYZdsaKOf2BpSErr/Xr6qLUG5bxXeoJszOMvW\n",
       "loJQlRpdeoywNn+zNaTIzRULKetloAoc56hltl+lIFT+STmsyeyA0NDy9Uo374yqiBCIylCZy7jv\n",
       "OqJyf58NazGpCw0tR+zrhelp7uDE88Y2JMnddzDU7EKlcgiBqIuVyqcTYS0esjW09OT45ZX1jlc/\n",
       "LBw3CBW/MlRc17R3g1F7NW2vGdZiv63pwU13d3/6QGONkwwKjxp5qZVnc1KBoTY46jZgJhg1kUcq\n",
       "9Fbut3VY71kmH9384XgfrrpB3vQXgoSu5M4x1Esc9Rl/4kk7zmBNwUWND/D06y5jg7noXfb8HaHy\n",
       "vYiV8NJjIrs7fIc784iFx90CymMt5a1ebybGaHKCoyYRdevmZ40hfKkYMcNFxQQ2dC8yJzdbmdIC\n",
       "nrDvVwmN3UCSUneEr1Wb7V/7h41PG3jL9dMyG0evkDj+ncUvNBnnqIqVdP2/77CBU+qA0goAfIvu\n",
       "WXVhvoLMuRhMP2qkhGreQU0W2r83xYbVkK/5Ucter0rmqIuablKZzQ5t6WexQFKvf+BF/VgiG/Km\n",
       "7e0t9ui6y3a0sWTIvLpVNf0BUDVxGg5q4I78jcyybR9x7paIr339lBK/QaiYeZ1Qh62ILppsXfn8\n",
       "NQ9q6iANx/LjBhL+piXvlG7YJYaHWX7hB9OfVtUatlP77oL6FxLNeWHfTquY6qKSg5Sym1b4gv7K\n",
       "4QfRa8i8VNRhNjyoGZYVmzEG6Ss/amxAskPjqEBVFKdBNYSm1OyU4vMqj04WtSJMuezB+YLJ7dNv\n",
       "mu6uCCew3vQU6aBA7WV/oohhSG9r2h5C/SjpQcXvpPdgHUWbHzVSi9rhN6ZpmprJpy0nqkeEysW1\n",
       "Bx/wB8CUE7VT7tLs/VuLOW6f0ESYzb4nTEm7V0McAC4L1CxbvxODEgrCq/EtXtSLZPNP7K+sRK3q\n",
       "qYvGd6cWaZuEV/Gs2rGxjtxKreP2ccy+e2HvtK9gyBMClR8wlzFZxzds+j2w6EVl0if9YTHUspF+\n",
       "3xki+viLmCvRDijMF9kcsmbH48qJWzngcvttxxW3F6kt1HgBj1hIUWjEd+WEm7yozz3cz1FHa1If\n",
       "RnU21OLFuSGKe9aL9jHfUZt269EMWi3wwO5id1RhX24GfCwOgT55iGLV31i95yUKgNYRTMyS2EDP\n",
       "RClWb8fROrCFz7Sjrnxh2eWpptLGJ/mbQ+sdgiUATlq374Xlx6DzLxl7dDLkmbnD7H+TfwGrFSVM\n",
       "yR8QKQAAAABJRU5ErkJggg==\n",
       "\" style=\"display:inline;vertical-align:middle;\" /></a><br>(see <a class=\"ProveItLink\" href=\"../../../__pv_it/theorems/df45bef6ba6475258b74a45d0bfc42c5fe30a04c0/dependencies.ipynb\">dependencies</a>)<br>"
      ],
      "text/plain": [
       "mult_nat_closure: forall_{n in Natural} [forall_{a_{1}, ..a_{_a}.., a_{n} in Natural} ((a_{1} * ..a_{_a}.. * a_{n}) in Natural)]"
      ]
     },
     "execution_count": 2,
     "metadata": {},
     "output_type": "execute_result"
    }
   ],
   "source": [
    "%proving mult_nat_closure"
   ]
  },
  {
   "cell_type": "code",
   "execution_count": null,
   "metadata": {},
   "outputs": [],
   "source": []
  }
 ],
 "metadata": {
  "kernelspec": {
   "display_name": "Python 3",
   "language": "python",
   "name": "python3"
  }
 },
 "nbformat": 4,
 "nbformat_minor": 0
}