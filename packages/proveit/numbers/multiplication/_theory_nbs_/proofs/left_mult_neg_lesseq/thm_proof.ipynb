{
 "cells": [
  {
   "cell_type": "markdown",
   "metadata": {},
   "source": [
    "Proof of <a class=\"ProveItLink\" href=\"../../../../../_theory_nbs_/theory.ipynb\">proveit</a>.<a class=\"ProveItLink\" href=\"../../../../_theory_nbs_/theory.ipynb\">numbers</a>.<a class=\"ProveItLink\" href=\"../../theory.ipynb\">multiplication</a>.<a class=\"ProveItLink\" href=\"../../theorems.ipynb#left_mult_neg_lesseq\">left_mult_neg_lesseq</a> theorem\n",
    "========"
   ]
  },
  {
   "cell_type": "code",
   "execution_count": 1,
   "metadata": {},
   "outputs": [],
   "source": [
    "import proveit\n",
    "theory = proveit.Theory() # the theorem's theory"
   ]
  },
  {
   "cell_type": "code",
   "execution_count": 2,
   "metadata": {},
   "outputs": [
    {
     "data": {
      "text/html": [
       "Under these <a href=\"presumptions.txt\">presumptions</a>, we begin our proof of<br><strong id=\"left_mult_neg_lesseq\">left_mult_neg_lesseq:</strong> <a class=\"ProveItLink\" href=\"../../../__pv_it/theorems/e7fae988bc95a6e5e080cc1f11c043d76f95e0490/expr.ipynb\"><img src=\"data:image/png;base64,iVBORw0KGgoAAAANSUhEUgAAATwAAAAWBAMAAACvaz3RAAAAMFBMVEX///8QEBCIiIhmZma6urrM\n",
       "zMxUVFQiIiJERETc3Nzu7u6qqqp2dnaYmJgyMjIAAAAcRTyBAAAAAXRSTlMAQObYZgAABA9JREFU\n",
       "SMfFVmtoHFUU/nZ3ZndmdjZbBMHaP9MuxBAfhAYfSFvXFFoEW7f+8PFrl2CRgIZQErVapQQpm0pl\n",
       "oKClIE6rtBprsygq7Q9ZEsS6Fh1QCEotg9g/PnARBZOqeO5jZmd2Jm2ElR749t458+3c7557zr0X\n",
       "+F/sNYmYnVmB3G15W8BjD9/1WJ2xXyBuWTuRHLcxgc9Z/8cey+uzBRKE83Dg5N1RctxOCxyhRt/f\n",
       "Y3lfSSTYvGg+HouQ42ZaHH0ONY0ey9srkWDHZLtzd5icEOY1HIXW7OyrPVanTwgkrntZdh55sUNO\n",
       "sh8E/qzX9/VYXnpIAIcX1jtBODaMjdDKmkO+45WfAnKEeHwj9BuBBXBQkGeuPqKyClHzTdnTXAFl\n",
       "LX4NXp/CovUCUPACz+G9PjlCbN6LdBu4CI6tfjUl7T57DmyxxIhRf6yWyHMBH8qHXEPgmIu7eODY\n",
       "TwtfOvcRsbOWi0M+2SeyCOqNLdDo+x+BI4e0m6jtnYXNsJrm8bi8/PcxdeSZRFEuUKoscI+DPex5\n",
       "zuND11lfbfv/uakVkCXR+IfP5ToUKSZVcJhuLlFd4aWjDskrvBuTV/glxiWP8QdSjai8G5iTBajG\n",
       "3b+F5RmfWh2yT3yK59EyqpVAnu49RJ03+i/xXen2fnqj9CPnbGXPJO9USJ5ZenA30lzdSA3PslE2\n",
       "jleER11Czo0srvEX8u3OHFSuQBGLq9/pdjIhSsx4WE/NdomZx2iUKXWZZbcznqPJmEVnlzjtrGZm\n",
       "OCRvMOtNKs+JBF5W17Dtv1J1hIc+kLMipWFcRtYLDtmzlO+Dfmno48FWGyNqNRxAUBp4n+aTGVLZ\n",
       "rFTwyBzdjgGD5611x+PlkLxKH33rHPPob06kWX0M42HpoeilpDy2eTBMY7HmV7NyWWvrJDvDHW+V\n",
       "O8dDFxGZmvI3NZskWB6mGmmRH0v8dxNG1Wfq9WlYn90alocinY/GOTbzTDPLxKxDv/RQ9hTloGwB\n",
       "GU5seHTU12GMDpbYzaOv0r1ldRGJWWIqLkkUqN7mbO1bhyeuyhiTuB41sbgftMLyqmBfv43lVjlF\n",
       "XWMJh2alp1O5VzrUTiaegFGj7IMxISDKx67uwBHnddMzqcGU0sYnQp4ZKg29/QX4Glx0kas8AP0g\n",
       "1qq/u9JTCva9VVwJuu4PYRvHXDm4EsgIj763GbsaJ76eb1GDbQMeNApIft/PxrAXyDOevP8WEaCz\n",
       "9I+Xoa7DtptLrvSkzwfnlWYLrHihOv00s6mAHLbnKRWDC1XYZDU1DJvV3kB9uvNK6x7nbRwi+f/5\n",
       "Oqpd/To6UmIJNIPuwzZvyybb3Bn7bLfjCcVLvppf+TL/zSov8wVbIOzyG+VCc2V5+TrZQew4T303\n",
       "7LmWlrk2w/4LEbgyVZg+fm0AAAAASUVORK5CYII=\n",
       "\" style=\"display:inline;vertical-align:middle;\" /></a><br>(see <a class=\"ProveItLink\" href=\"../../../__pv_it/theorems/6787549f43da598be786e975eaae3d254a13dfb30/dependencies.ipynb\">dependencies</a>)<br>"
      ],
      "text/plain": [
       "left_mult_neg_lesseq: forall_{a, x, y in Real | x <= y, a <= 0} ((a * x) >= (a * y))"
      ]
     },
     "execution_count": 2,
     "metadata": {},
     "output_type": "execute_result"
    }
   ],
   "source": [
    "%proving left_mult_neg_lesseq"
   ]
  },
  {
   "cell_type": "code",
   "execution_count": null,
   "metadata": {},
   "outputs": [],
   "source": []
  }
 ],
 "metadata": {
  "kernelspec": {
   "display_name": "Python 3",
   "language": "python",
   "name": "python3"
  }
 },
 "nbformat": 4,
 "nbformat_minor": 0
}