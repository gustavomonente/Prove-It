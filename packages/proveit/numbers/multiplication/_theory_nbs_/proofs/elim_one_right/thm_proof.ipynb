{
 "cells": [
  {
   "cell_type": "markdown",
   "metadata": {},
   "source": [
    "Proof of <a class=\"ProveItLink\" href=\"../../../../../_theory_nbs_/theory.ipynb\">proveit</a>.<a class=\"ProveItLink\" href=\"../../../../_theory_nbs_/theory.ipynb\">numbers</a>.<a class=\"ProveItLink\" href=\"../../theory.ipynb\">multiplication</a>.<a class=\"ProveItLink\" href=\"../../theorems.ipynb#elim_one_right\">elim_one_right</a> theorem\n",
    "========"
   ]
  },
  {
   "cell_type": "code",
   "execution_count": 1,
   "metadata": {},
   "outputs": [],
   "source": [
    "import proveit\n",
    "theory = proveit.Theory() # the theorem's theory"
   ]
  },
  {
   "cell_type": "code",
   "execution_count": 2,
   "metadata": {},
   "outputs": [
    {
     "data": {
      "text/html": [
       "Under these <a href=\"presumptions.txt\">presumptions</a>, we begin our proof of<br><strong id=\"elim_one_right\">elim_one_right:</strong> <a class=\"ProveItLink\" href=\"../../../__pv_it/theorems/c7b462e6abc500278e004c807cb38aed49159af90/expr.ipynb\"><img src=\"data:image/png;base64,iVBORw0KGgoAAAANSUhEUgAAAKEAAAAUBAMAAAAXeEBDAAAAMFBMVEX///8QEBCIiIhmZma6urrM\n",
       "zMxUVFQiIiJERETc3Nzu7u6qqqp2dnaYmJgyMjIAAAAcRTyBAAAAAXRSTlMAQObYZgAAAhJJREFU\n",
       "OMtjYMAHOC9AMAbYiUMDSPwBiHEXh4IVUIwB2CZg1wASPw1ivMJh4ksoRgHcUgwMXA+wawCJzwB5\n",
       "rgG7PK8BBKOAZcd+AclDONwAFOdbwMDAswG7NPsECEazB2TiQhwmAsV5T61aNR2H9HQoxmIinwN2\n",
       "LSDxHx0dNThMVIbiRWpTdBRQTeRBDwwupUynQxDxVAaGThwm9kIw1wHeIvYHqCbygvnn3oHAYxBz\n",
       "DcN1hTqIuDNaxHH3pCdBmdUQzLOA5xcLKDi5ECZyF6DZforh/AJPiDg7AxMsDXPtMb7AFbGA9Q2U\n",
       "LwLBXAwckMSw/gHcRNYPaCYuYOhggIrzXGCHid7YuYqBdw4Dwx5UExkY+CGhyJ6A20QGhk8wEzkf\n",
       "hIHSkalaAAsotF23AoVQfc3AEB+AHtcsBYhwfAYWZv3KABPvTGFgYFqQx+7ABxK6dRMjZrgX6AMV\n",
       "YIsZJLCL6QODFlR8M9BYVoa3DAyLwTJIhcBhCPbf0M8wFyHKBDKR+QCqgSy/OT6AyhSwOCSQfjIw\n",
       "hHd0dCjMDkUoc4fgZUqLbBEFEHPiP1tgSg5AS45JWsqg8gYszrsAHKKsDGxgDYtgqQRXLgSD5TiS\n",
       "MFx8Ps8DHgYekPmcNgHwYgBrSQEvEfCLL7ty6BQDQzc48b9rg/uokwFHhsJXmiEDJmA4ElficuAo\n",
       "cXGJE64VbuLQABQHALbbnuRyIzXQAAAAAElFTkSuQmCC\n",
       "\" style=\"display:inline;vertical-align:middle;\" /></a><br>(see <a class=\"ProveItLink\" href=\"../../../__pv_it/theorems/41f945845a7656f8b3d1ea77cbc7a662890167a40/dependencies.ipynb\">dependencies</a>)<br>"
      ],
      "text/plain": [
       "elim_one_right: forall_{x in Complex} ((x * 1) = x)"
      ]
     },
     "execution_count": 2,
     "metadata": {},
     "output_type": "execute_result"
    }
   ],
   "source": [
    "%proving elim_one_right"
   ]
  },
  {
   "cell_type": "code",
   "execution_count": null,
   "metadata": {},
   "outputs": [],
   "source": []
  }
 ],
 "metadata": {
  "kernelspec": {
   "display_name": "Python 3",
   "language": "python",
   "name": "python3"
  }
 },
 "nbformat": 4,
 "nbformat_minor": 0
}