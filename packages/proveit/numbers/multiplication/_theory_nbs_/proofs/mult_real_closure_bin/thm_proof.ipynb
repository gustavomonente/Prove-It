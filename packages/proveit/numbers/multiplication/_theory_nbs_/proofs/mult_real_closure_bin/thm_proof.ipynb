{
 "cells": [
  {
   "cell_type": "markdown",
   "metadata": {},
   "source": [
    "Proof of <a class=\"ProveItLink\" href=\"../../../../../_theory_nbs_/theory.ipynb\">proveit</a>.<a class=\"ProveItLink\" href=\"../../../../_theory_nbs_/theory.ipynb\">numbers</a>.<a class=\"ProveItLink\" href=\"../../theory.ipynb\">multiplication</a>.<a class=\"ProveItLink\" href=\"../../theorems.ipynb#mult_real_closure_bin\">mult_real_closure_bin</a> theorem\n",
    "========"
   ]
  },
  {
   "cell_type": "code",
   "execution_count": 1,
   "metadata": {},
   "outputs": [],
   "source": [
    "import proveit\n",
    "theory = proveit.Theory() # the theorem's theory"
   ]
  },
  {
   "cell_type": "code",
   "execution_count": 2,
   "metadata": {},
   "outputs": [
    {
     "data": {
      "text/html": [
       "Under these <a href=\"presumptions.txt\">presumptions</a>, we begin our proof of<br><strong id=\"mult_real_closure_bin\">mult_real_closure_bin:</strong> <a class=\"ProveItLink\" href=\"../../../__pv_it/theorems/b0cd6baf1667434eae839bca1d9e4fbed1b210360/expr.ipynb\"><img src=\"data:image/png;base64,iVBORw0KGgoAAAANSUhEUgAAAKsAAAAVBAMAAADLBgMvAAAAMFBMVEX///8QEBCIiIhmZma6urrM\n",
       "zMxUVFQiIiJERETc3Nzu7u6qqqp2dnaYmJgyMjIAAAAcRTyBAAAAAXRSTlMAQObYZgAAAqZJREFU\n",
       "OMutlU1oE0EUx1928rFJdpOLhyIIix9FPIX2qNZIES9K00vtQTBU60mkB21ARSIIbhRx9WBz8LAS\n",
       "qJJLFj2UgmBoD0JEWUQwFoRFqGCFKJ40B3HezGx2NyRbBB+8/fjt5r8z//dmArB9JG2e/bE65H3k\n",
       "Dl58CpV9KtIXqRsLAHEjCD+M3OuM2Jy/RrAVKvtVpD8yOart9EFnGWbbJuNVnGU5TFXN8QxE1qKH\n",
       "tT5YfgRyssh4xgRQrDDZhMEzEFP0Z/BY3LRLJUfIEsNhXG3V60uhHiyJDMQr5kSeXc8e8EZLjDLn\n",
       "v3T9WqjsHpHJQ2M7e/DL7oN0lsya1JbPhHi0yPk8QMXl0c4A2bsijxqZH71O+GM2DFDZ1L2GoLIr\n",
       "E9Qd5JP+iq6L88r+s59ddpVnahcQVlp0Nd2FrAbpBbyXvZLdL13HMiFPgOS1+jccyYtxW1KgpQm2\n",
       "gyfpQkJjA6UH4kCjCTE2+ukODVGySRk/ilyxE96Ef2NdV+tAZTfsoGykDI0C3i/ytp2yhGzV12Dk\n",
       "WFnIJp0ZelUb3cT7n6NmFOuAss2gCXR0L722teGICVFmQsTft7ffYYmQV87RmV2OdVHtipTLAJcd\n",
       "zwVL1rDgYtqtTjZPrRYlI5pPdoYUBH9OtUkuhl+QNdWpMVly/pK/jOvs2aLisrgt06+SZm867uJV\n",
       "rHnBaUkhYklFnE+eFE/puq5JyoP37svHeabm9j3c22uwsTfoMPMalm+a7lazCfp3i3OVwoYhb9BT\n",
       "1oxYcW5C+rQZtnhZPBHnE7dKziAOEePMSaiaCbMNSoF722qGbTUs1oasyx6Pzj07DNNW7ALVuoPL\n",
       "4W2zNuE+rIBvIfo3XWewaj/nG5lEvd1uG2chG4Nl+3ja+Lc/nY9DPOjjKvy3+AsZ18YH57Ui/QAA\n",
       "AABJRU5ErkJggg==\n",
       "\" style=\"display:inline;vertical-align:middle;\" /></a><br>(see <a class=\"ProveItLink\" href=\"../../../__pv_it/theorems/aa4b0c89611e48a9cc47ecf968ddf0d7c61578ba0/dependencies.ipynb\">dependencies</a>)<br>"
      ],
      "text/plain": [
       "mult_real_closure_bin: forall_{a, b in Real} ((a * b) in Real)"
      ]
     },
     "execution_count": 2,
     "metadata": {},
     "output_type": "execute_result"
    }
   ],
   "source": [
    "%proving mult_real_closure_bin"
   ]
  },
  {
   "cell_type": "code",
   "execution_count": null,
   "metadata": {},
   "outputs": [],
   "source": []
  }
 ],
 "metadata": {
  "kernelspec": {
   "display_name": "Python 3",
   "language": "python",
   "name": "python3"
  }
 },
 "nbformat": 4,
 "nbformat_minor": 0
}