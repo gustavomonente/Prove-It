{
 "cells": [
  {
   "cell_type": "markdown",
   "metadata": {},
   "source": [
    "Proof of <a class=\"ProveItLink\" href=\"../../../../../_theory_nbs_/theory.ipynb\">proveit</a>.<a class=\"ProveItLink\" href=\"../../../../_theory_nbs_/theory.ipynb\">numbers</a>.<a class=\"ProveItLink\" href=\"../../theory.ipynb\">multiplication</a>.<a class=\"ProveItLink\" href=\"../../theorems.ipynb#association\">association</a> theorem\n",
    "========"
   ]
  },
  {
   "cell_type": "code",
   "execution_count": 1,
   "metadata": {},
   "outputs": [],
   "source": [
    "import proveit\n",
    "theory = proveit.Theory() # the theorem's theory"
   ]
  },
  {
   "cell_type": "code",
   "execution_count": 2,
   "metadata": {},
   "outputs": [
    {
     "data": {
      "text/html": [
       "Under these <a href=\"presumptions.txt\">presumptions</a>, we begin our proof of<br><strong id=\"association\">association:</strong> <a class=\"ProveItLink\" href=\"../../../__pv_it/theorems/ed069f2b375bdf60e51c3e56265e35c93fae0c700/expr.ipynb\"><img src=\"data:image/png;base64,iVBORw0KGgoAAAANSUhEUgAAAsYAAAAyBAMAAACt2gCgAAAAMFBMVEX///8QEBCIiIhmZma6urrM\n",
       "zMxUVFQiIiJERETc3Nzu7u6qqqp2dnaYmJgyMjIAAAAcRTyBAAAAAXRSTlMAQObYZgAACb5JREFU\n",
       "eNrdXH+MG0cVfmff+ufaF1WobRoVuXekRECVUwNtaUNqiCACifYMUkOoxFlH80egVOaHjgYqcI8/\n",
       "6jQUuYrUJpFoN0RtyUVgo4LKSYiYhAaRNq1VhKCQtBYJFUSiXJNL1LsQwryZ3Z2Z3fXuZOv4bpk/\n",
       "7tZvvzez++3sm5lvng2gWAYuXmzBopTfQhRLpsz+v3zxLWWfgZldxqJcrN6KJMdwB/u3b9fP1Dke\n",
       "W6RrvT6aFEOuYx6UljzH2WX24Q+XLJ8zXsbvR4bjPUU7wlVDRsYHKz3B+JRE3efKlz7H37OP8vWQ\n",
       "VeRHe4PxeUQdnzdwyXOcXbAP/xC2jqFmbzA+5aCX8YGIcJzk/Wtr2DruNHqD8YtoXsYD9Whw/Lod\n",
       "INKhI+bveoTxCzXF7v1jyXN8v30Uwyvecei64A7nBL0xfFugjwujD69UCBHDJiu6VzjPLUSCY23O\n",
       "Pky1AQaXw7+J0X+CwUAx+64z/zUadfic/6BFMfB325D+NvwgqCF4vJnqxK7gk+GX3sRywq70dCQ4\n",
       "jvPZcZKMSnvacAtoa1jU8OjQGRobEQRa3cKQYXOo8NmbOcBRbAxA08YkW/DloIbIoJZowjfo0OwZ\n",
       "yN6MBMcDZX5IQt7tBnyNdNQK63pueAO7EwOBjYl3oNGCDRzg7MI2Rq4ksKE4xoIMDQjarNfVr65H\n",
       "gePxtsTx1ZA5a906THqMMvhIGAhsDJn63tk0OU6W3U4cI1UCgQ0NVG2MN8dPtqPA8eq6GCsy/4Hs\n",
       "rH3r3UIrBQ1ymWOojb1yg//0GDGZkaZQCQQ1xHq+PvqZsoVk8fgNx1u41Dl+EMQxL3MeEp2ZII4p\n",
       "SB+yo+hQMXMtBHGMmPggjyQXSIwN4pg8GGjm//qpBUEAkkqqEgWOrxYmU2SiMAV/KrfEW6exEoOj\n",
       "EDQpaPdzXExop0Yljm08d6KYfTqPJDdB5kOuhuzWzAG5DHvHhjbTw5bX1euzjGPqcVyJ4zydpbT7\n",
       "SHHmjDAlIzf89PCmiaLUvSat4MiDJgNN8UpuPAoSxxw/KWNS/N70o6+AqyHeGisvHi9AaRUGmLxn\n",
       "D8ydZRy/gP9OKXGs09qMPnKsnRY+bBXZDnw6C4673qAibDhUJ5WGVmnLiNczPpdfgp044a4qcUxh\n",
       "O/uqCJ0XPtiaUFbh1rMdx9v7nEJzzsip0tCUVil00YTM17BE+6XeVOKYdvcX+slx7qw4gpi9LH3z\n",
       "uUJwP75X7pM7vjuh0Cflj0oN/RMmxry1TVLOMY5zR6anH1cc845NT++r9JPj2LxIW/VyNzcV1jHV\n",
       "Rdp+23w73q7VHlDkeKhWe6jVT471BfHTZd5rSnzymrCur3axv9vkmMw9ttkSCooi1xW6cZwY6/rE\n",
       "eLmjo2ZTkisW+vhAE4frva7yKpPj9TSaMAmFiiLJoonYuLYYu1LkeHAUfhrc90bVbF3LLw9PWk85\n",
       "MQuRLl81OU5CTJ7yNnB2lvnVmna2egRuldYgFbghsN58U83mVfYf+gg89TB8ofV/xrHeTnrMJP88\n",
       "Mw3ZV+LQkjg+CsFD3lBdzeY1jdi+24BXW5BtLUasuAzlmybH6c5dYEooTBQ5pF2PUYFMD+/eVJA5\n",
       "fkIr45roPveqhhvHh7/kls+47eCw+1Is23qc999N6rEeiT4fbY6tMQ+23UNuhkooTBT5188bBl02\n",
       "Z8eO/FHmOPUYidXPjI0bkHAs96iRer3XGHGdRRtsoevYYsl1Fm3r8ABbz/1E6POxs9CbicUles6E\n",
       "XjTJL+yVFsfPkvefSShMFDlH2NzLONb5YEU5zuJuwhrYCNpvHDyhke0OTMFrrrPEZh7dAprrLLHB\n",
       "s/gu0Jdnv3CZuTnoyQSZeP74qmCYjUmEnmFskT6dsTjGTRZz+o2iiHbFdjKlqNVqhexYul2RdTdc\n",
       "gK/AFLSkg6cVdl7au+Am11m0WTgvXwDcsdTur9Wm0r8QAlFW4jh0Egv1PKGAszCZTtiWpHkXU6GR\n",
       "45xhSyg4NsWqpTQkWD+Gjxdkjv9CoPPwyLSTJ2rM0rC6QDhzsoi24zTszHtwjLatnyadmCpatxb4\n",
       "Dpp2AbwEi0su6HleAWdjDoZeNRU8NCFbQkk/TCUiI1XYGAMdGc0VISfHY1qWa3Nt5Ik47DSsP2jM\n",
       "rkfbt3JVyqJ9jtnSn6/g2ZMQd51F27W7ySv0PFUWnhcu9Ax4CW+XXIjnoMIUhWP2hI5Ky1ySVolL\n",
       "KNoKFEVKzXw9sRJgO07iTppdS+b4E+8foRwTh1JdW45/VjDjZrTd9SLrqaUmO7fctJGpCjnaccP7\n",
       "XGeJbfBvGItTOK3JvPSPzfZVfkeUaEJLJeipK3hzjGdOilI5KdY371TzsjQqm6uFGInHrrW0OBcw\n",
       "qAN3RXYqRfOIRoOmfBbFva5nY4VTaFhVc8gyt4sCET6G9Nobg1UFJwg98xMjgQshjhEXpnaiit/T\n",
       "sTNeDomr81knxzMoimTrPpqQEGlW3ybOcMyjCYMd0bO8JnYWRdSuZ+P1Y54953UhdNNdio/W8+TC\n",
       "/RNSTNCI5Nk4RcaMgKQUiqF7GsL+HCaqBDVIM16YzvOayFnVyXEbRZEcKHHMHHyPcrJt1xN+Z7uV\n",
       "caHvYRIL7mxWwUxIMTwcqA5AQbCJvluW5wEDTgclpSCGvVhMnac4TFQJyIChGS+mziPuBTxZcHIc\n",
       "rG2+k3Lsw2G8hBwWmmBBFtfJgrnc98otYQkpDMS6Zsf0XIczqYCklHXmbMvMl7Aqs/SFrhkwLOOF\n",
       "6jwwLpyMRg5LfFbmmLx9jTHrlj1yS6jNBLHOXzY9T8Dg+aCkFIrhHFuV2Rx3y4Bh2+cMI3L8EESB\n",
       "48E5OVY0WnAAgjZAGehjZcnzAvbIgE1QivkRLoc4kKVo+TfIej/qPDIyGjmF8HV5zGs04T4yXAZw\n",
       "TEGtBclzDnMNAzimmFH80hcf82iiStCuNs14QZ1HGvNi0ciNFScWOJ9KFXKTundCCg+WFJTeX5E8\n",
       "v4LfLPHKfhEcEZOpHwYxJyWOiSrOBp1pMzTj5RxlaK1rMFnyHA+0eNwgBGUmVj72Hu+EFB4sGShV\n",
       "kDz3fqAN3tkv3JFi4BGQclIwUcXVoCNtBjNeqM4jpjBH5rsKwnduhLW0SkJK4ym3p0pSCpVPnDkp\n",
       "Cg1SnYesw1wK09L/7tgJL01IJSHl17rbUyUpRVvmoQkpNEh1HlETyl4TFY4f5e3ae+JKCSlP/x6c\n",
       "nkpJKbGqW9tUaZDpPIK2GZ3vQApd7x1p9MoF43gqtFK9jR9+EaLCsa3uQ3/2mu551OiekxJYcvzh\n",
       "5KqXzvFi/bZCotDX5u7d0qOKwvy2wqL9RsgHIYolY+7Ev3zxrf8BWmf25iLuV7sAAAAASUVORK5C\n",
       "YII=\n",
       "\" style=\"display:inline;vertical-align:middle;\" /></a><br>(see <a class=\"ProveItLink\" href=\"../../../__pv_it/theorems/fcf7c9fefafe1d11aa599865e7ce73b3e2ade8940/dependencies.ipynb\">dependencies</a>)<br>"
      ],
      "text/plain": [
       "association: forall_{i, j, k in Natural} [forall_{a_{1}, ..a_{_a}.., a_{i}, b_{1}, ..b_{_a}.., b_{j}, c_{1}, ..c_{_a}.., c_{k} in Complex} ((a_{1} * ..a_{_a}.. * a_{i} * b_{1} * ..b_{_a}.. * b_{j} * c_{1} * ..c_{_a}.. * c_{k}) =  \\\\ (a_{1} * ..a_{_a}.. * a_{i} * (b_{1} * ..b_{_a}.. * b_{j}) * c_{1} * ..c_{_a}.. * c_{k}))]"
      ]
     },
     "execution_count": 2,
     "metadata": {},
     "output_type": "execute_result"
    }
   ],
   "source": [
    "%proving association"
   ]
  },
  {
   "cell_type": "code",
   "execution_count": null,
   "metadata": {},
   "outputs": [],
   "source": []
  }
 ],
 "metadata": {
  "kernelspec": {
   "display_name": "Python 3",
   "language": "python",
   "name": "python3"
  }
 },
 "nbformat": 4,
 "nbformat_minor": 0
}