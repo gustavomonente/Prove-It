{
 "cells": [
  {
   "cell_type": "markdown",
   "metadata": {},
   "source": [
    "Proof of <a class=\"ProveItLink\" href=\"../../../../../_theory_nbs_/theory.ipynb\">proveit</a>.<a class=\"ProveItLink\" href=\"../../../../_theory_nbs_/theory.ipynb\">numbers</a>.<a class=\"ProveItLink\" href=\"../../theory.ipynb\">multiplication</a>.<a class=\"ProveItLink\" href=\"../../theorems.ipynb#association\">association</a> theorem\n",
    "========"
   ]
  },
  {
   "cell_type": "code",
   "execution_count": 1,
   "metadata": {},
   "outputs": [],
   "source": [
    "import proveit\n",
    "theory = proveit.Theory() # the theorem's theory"
   ]
  },
  {
   "cell_type": "code",
   "execution_count": 2,
   "metadata": {},
   "outputs": [
    {
     "data": {
      "text/html": [
       "Under these <a href=\"presumptions.txt\">presumptions</a>, we begin our proof of<br><strong id=\"association\">association:</strong> <a class=\"ProveItLink\" href=\"../../../__pv_it/theorems/f2522e36288db98f31efd8add741501183dca87e0/expr.ipynb\"><img src=\"data:image/png;base64,iVBORw0KGgoAAAANSUhEUgAAAtgAAAAyBAMAAACUvbH7AAAAMFBMVEX///8QEBCIiIhmZma6urrM\n",
       "zMxUVFQiIiJERETc3Nzu7u6qqqp2dnaYmJgyMjIAAAAcRTyBAAAAAXRSTlMAQObYZgAACKxJREFU\n",
       "eNrdXG1sFEUYfnt3e9e7vbsSgygg5mgFCYZwQgSUKmcMNv4ArjFS0B93qRqDEjw1YhQSz/6QVsFs\n",
       "QoKABg5JBBpDT8CQGhIqJJrwES4kRiF8NFpMJIoFhNCi1p2Zvf2Y2W+Oa5dJet2ded+ZvWdn33nn\n",
       "2acFsFdqhoZ6YDhKNAXeLpEs+X1i6LJdl5ruTYVhudZj4PWykPzatelr22Cnh+dKfVnPgx3rlQ6a\n",
       "RzrY1GwIl0YqpLxg2LTWI2BHRmvPd7rt54NcRWxMyjLDlm0pb4Bdm9Se/+62o3iyMjbGZbfxpB/l\n",
       "DbAPalflmGs46oqVsTFJmxKGTau9AfZb2tOQ4LajRYXK2JhEoVHGU0bwAtixAe35p657+qFCNial\n",
       "z7AllPQC2KG89rwBJSSNM8ZZe64/PFEzT3+rn2vpw9hE6ydZRw/Z5rDxnBn0AtgZavu4Tvx5Uoj3\n",
       "AywxdwyMhb/EJF0O8ZH/Cl2ChROxgQtKnrkKPgEub+qEbSbicH0OY38JF+3aErniBbAfps5XiRc+\n",
       "Afx5eHY2+RY6PnhCbyvBHABOKNvwg1CXsHDCNgBFuZNQD7zGzcwpvVI3p2wDITwn9ht/j0teAHsM\n",
       "dS5m3f5BCImQNOHzrl6d+Yk+5xXgTakC2/h7oavHwonYaDsRn5GcUqEtuB9s04VvRcb4e0wXRj7Y\n",
       "3L8s2DV56EqXwQ7pbOZXoo97IXKtHPezJIVeVLRwIjaaTmSwSQW1oGTLNqRfE7C3lkY+2L4BNoyI\n",
       "k++g/P0Mw+8/wPdDYLKSQpfQHDR3wjaRhqKqEwVs44HQ0shNLl+SFLOp+1mTHflg19Kpq7hAdhVh\n",
       "BS9YgX0Tgr3d0To50talxFhvBTay8QeUICM+V7wF2MTmz30okJwz+SK5kQ92DZ0JiNlVbSK2MqrB\n",
       "DcdTFEBVgbUNfsr2bFaWrGAJbfybtAFXdlTZ7Ioqk3IWRB5Rg603ELa5jsFpNMkP+wnYeKyzdsCO\n",
       "45SxmrRbF707F9GKtE7a8IB2kq4sB1AlsH5Zv7Q1JUIu4zTjuDb2yPZKBCc2tcoXjB4/qQ0jOgMh\n",
       "G+6uj9HhBZPN2TUC9lH066IdsKMomsULVQQ7Q9MNyna9yc4GejDN3CtrgoRiBALWVKAv3xwWRzMx\n",
       "5K4QsDeizDxvB2xstbGqNBTNDClE1H4b7nxvj7bCjhMdWHlrsGsTLT5TIgoiV0nXaKpGi3bAxvP/\n",
       "aDXBPs8sFB3l3fj7rTZm9nLtLLXlNIXaIc6+nrByiQvBSWYUq1iuE7BjRzo7bfA7COwznZ27ctUE\n",
       "ezpD8u287WO2uXXsMGu8IT00N9rbV9sDu669fU1PNcE+wSwQt/u1WPCZcS49Y6bs7/0S2C/jmyJx\n",
       "NmhFnZgwADuYhlpLQnlhr706O2VeNVdjAvb3wm3p9x4J7Kcg0itxNoSFCZWptpbGlG+MCuxA0jww\n",
       "kVwoaa/OcFVb+4ocWV+HO6W8IYEdAp/22cS0SuTAzBKfPwKPqTc1OZhm2W28aK9Ob0ETx4wsKXB/\n",
       "3LlgR0shnWz05+5O4E/6oUcN9nGwXh/rBHt1OgWNGfsc4MDwhZHbVd6RwA73LgaJsyEsDKJVAujB\n",
       "519YmtCAvYXLoo3WCnbrvn1yef+UqX+V3ZwodYfq2SuR6vCY878Rr0heIIU7BezyAgkdL4nTG3M2\n",
       "hIVBtAremvPpIz9qwK7dIIbzHelMAYLaORd5mxsEsvN/sNBAt+I6oqsIpZqZVlT3BAo26OT0KXXq\n",
       "l65cNuLQk3d9n7v1KseUwd4rxgbC2RAWBtEq2wnYUXlpw2Dz6FXHTGgB7jstYP4kl5PeZrTBOboV\n",
       "1UlHc4BjWsU62AvSmN+qr/V8qnJ59k6HQp1lrhMavdt0tQw2ehck5fKIhcG0Skt7e3uCT4dLOQ3r\n",
       "h7b440EMOSEtYDVFWZM3GmbRrbiOlPHA+OI69KYVj/nZc+rtOgO2a5EO8nQk1NntdqCITp5LaG8E\n",
       "dqwgczZoJcO0SpDMbJif0IB9WrQcgHWdNGBdQu3pwh5sOyiCR8OJ6s7igDSgAzaqe3dBkozp/0L1\n",
       "kjBTMuRGHO85kg6FOtGE26EOGRNRMmcT/gjzUgVMq0QRtrEUxDQxG5ex3N8lBNjGgughfdQImQWw\n",
       "LwniyXuxPGpV2khd+PkcqusDP9OK6iZsLpExw41p5Wrrkoasn9OCPB0JdUw0NxZlm84KcFMNdmS5\n",
       "wI1HLExzkdAqiKFt6gPIMmA//VADBru5yI2FZgF9FAOtex5HG0yxj8XH8NwVj0ibINWJuYZ4tH7a\n",
       "VKZVrAv8gmDFrPBXlz6UhwrRT6R7kQ7ydCbU6XM7VDzF7uoGaEKRx5Fbeox8Yvykt+vqiVKQLaF8\n",
       "tCOA+5BaeXW/QJhFw1Zf4mKRHRP8/dRFuxfpIE9nQh2V5saZWEdnvxzsp8HuRiyMUcqjBZubPldl\n",
       "KR0Fp0p5D2pVZUDkCFG5hq1+4UxKL9AOUhWuRTrI06FQR3ml6FCsE2NXSPJ+Tw12CbEwMbADNu5T\n",
       "5whKRkebtpi1GhTuJlXhWqSDPB0KdfbLdg7FOjqvG7YmaLAtKdZbKWcedeNVMZEO9nQm1MnIdg7F\n",
       "Olw/Y+IFkQ7MY8F2J9JBng6FOhnZzqFYRwfsNeABsBelmDDiTqSDPB0KdZq0OxL7Yh0dS08IK0NJ\n",
       "ZoF0J9JBng6FOsoC6VCswy6QPk9Ihul0xLVIB3k6FOoomhtDsY7KUSXW8fcw4GW9ADbcpz11LdLB\n",
       "ns6EOormxlisoziqxDpxBipv/JkH/QdM7kU6sqddoQ6tubEt1oEdTMOv4AmwKaLOvUhH9rQr1KGJ\n",
       "KNtiHZaI4sd5A+zw3dpz9yKdDgeOU1iK1b5Yh6VYvfJHp/REvJWXB/ZLG1hobkznN0N4vAgeAduv\n",
       "3X1U47UYFurEXJO5p5iUKu8Y7OH6FxitVR+x0kIdF/8CY7j+uYs/Bd4uEUlZcGLo8v8Hbttc7MqE\n",
       "WAAAAABJRU5ErkJggg==\n",
       "\" style=\"display:inline;vertical-align:middle;\" /></a><br>(see <a class=\"ProveItLink\" href=\"../../../__pv_it/theorems/7046a3b1ca1f22ac5358866c10445b789cd35f940/dependencies.ipynb\">dependencies</a>)<br>"
      ],
      "text/plain": [
       "association: forall_{i, j, k in Natural} [forall_{a_{1}, ..a_{_a}.., a_{i}, b_{1}, ..b_{_a}.., b_{j}, c_{1}, ..c_{_a}.., c_{k} in Complex} ((a_{1} * ..a_{_a}.. * a_{i} * b_{1} * ..b_{_a}.. * b_{j} * c_{1} * ..c_{_a}.. * c_{k}) =  \\\\ (a_{1} * ..a_{_a}.. * a_{i} * (b_{1} * ..b_{_a}.. * b_{j}) * c_{1} * ..c_{_a}.. * c_{k}))]"
      ]
     },
     "execution_count": 2,
     "metadata": {},
     "output_type": "execute_result"
    }
   ],
   "source": [
    "%proving association"
   ]
  },
  {
   "cell_type": "code",
   "execution_count": null,
   "metadata": {},
   "outputs": [],
   "source": []
  }
 ],
 "metadata": {
  "kernelspec": {
   "display_name": "Python 3",
   "language": "python",
   "name": "python3"
  }
 },
 "nbformat": 4,
 "nbformat_minor": 0
}