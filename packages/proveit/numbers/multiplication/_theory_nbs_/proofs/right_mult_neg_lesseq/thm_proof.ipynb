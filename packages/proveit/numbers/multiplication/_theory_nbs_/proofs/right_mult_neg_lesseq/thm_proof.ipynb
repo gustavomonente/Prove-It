{
 "cells": [
  {
   "cell_type": "markdown",
   "metadata": {},
   "source": [
    "Proof of <a class=\"ProveItLink\" href=\"../../../../../_theory_nbs_/theory.ipynb\">proveit</a>.<a class=\"ProveItLink\" href=\"../../../../_theory_nbs_/theory.ipynb\">numbers</a>.<a class=\"ProveItLink\" href=\"../../theory.ipynb\">multiplication</a>.<a class=\"ProveItLink\" href=\"../../theorems.ipynb#right_mult_neg_lesseq\">right_mult_neg_lesseq</a> theorem\n",
    "========"
   ]
  },
  {
   "cell_type": "code",
   "execution_count": 1,
   "metadata": {},
   "outputs": [],
   "source": [
    "import proveit\n",
    "theory = proveit.Theory() # the theorem's theory"
   ]
  },
  {
   "cell_type": "code",
   "execution_count": 2,
   "metadata": {},
   "outputs": [
    {
     "data": {
      "text/html": [
       "Under these <a href=\"presumptions.txt\">presumptions</a>, we begin our proof of<br><strong id=\"right_mult_neg_lesseq\">right_mult_neg_lesseq:</strong> <a class=\"ProveItLink\" href=\"../../../__pv_it/theorems/a7c08353199b381b976690525592e28872e84a180/expr.ipynb\"><img src=\"data:image/png;base64,iVBORw0KGgoAAAANSUhEUgAAATwAAAAWBAMAAACvaz3RAAAAMFBMVEX///8QEBCIiIhmZma6urrM\n",
       "zMxUVFQiIiJERETc3Nzu7u6qqqp2dnaYmJgyMjIAAAAcRTyBAAAAAXRSTlMAQObYZgAABDVJREFU\n",
       "SMfFVm+IG0UU/yXZTXY3m0sRBNsipI2ex/mH4w7/INeaXqFFsDX1g9VPCcEiBxqOcletVjmKlFyl\n",
       "siDUUhDXKq2etQlKlfaDXe4Qayy6oHAotSyiX/yDQSx4VxXfzGx2N9m9ekKkD377Zt6+3fnNzHsz\n",
       "D/hf5FUXITmzjHO3pA0Bh3W+7TE7bVogLEkj0jks4wKfsfaPPabXZwhEEOfLgRP3djqH5ZTAEVLq\n",
       "dI/pfekiQuaE+mi8wzkseo6jzyTV6DG9vS4i5HVXb98VdI5Y5lUcmebs7Cs9ZqdOCETue8FtPPKC\n",
       "7xwl3wv8Uavt6zG9+JCAtn58bM4nPTq8hnZqqN0//JPnfGwY6hrP8eX5dbSl8+CgRZ759xGlFZCa\n",
       "s9yWYgucxELuee/9JqOvBWQcn8betrO1CfGWN9Rq/ErqksDmdjZFnT67D2zMiRE77aFcIstFfOB2\n",
       "Ug2BJr4w72dxxIPpRiTos7S/lwtDrrPa2AiF/dLk0WnjHlIfCqQQtyO5vTO/ATlLPxaml/4uxI4s\n",
       "k8iaohcrCJio8X6dzT+xhBRNVfZW6ZZm21nDdcjSO+1vZrjPxG5SJQHdTkWyy7x41CR6mXdD9DK/\n",
       "hHzJol1GrNFJD/hNrGaZGadRL/r0tE9yvrO0hBK9wx5muIH9yqOnOg9T443+H/ipdGc/uUn9SJmb\n",
       "WZ/onQzQ0/MP7UKcsxsr4xk2ynC1KCzyIlJ25+ZCvuxPoW7hHIsssbnq3XYgEhIO1nknyp9Isyls\n",
       "dTHzGNmm5CUW3WY1RZPRs+YOcdvlrMRIgN5g0pmUnuVNa0lexY7/YskUFllsXjA1zlK8D3r0GqjS\n",
       "LSpSQ616Ry13LuOAR+8Kks4ZLzXwPs0nMSSzWcngK3N0KwY0Hre5ux4vBOgV+2xo55lFfXMizoJ5\n",
       "BDtdC61ezKXHDg+CdEVpqV5cK7nMHp1G4un9VsG/Hsg5UZb+8gz7sVAmp1EIsKCMNeJl/m6RP0dR\n",
       "kZ+u1fYj9+ntQXrI0v2onWczT1hJRmYt+l0LBUzWHZRtIEGrDOb9YkOr3Hz4JjqWi91H1gR7l1/0\n",
       "DMfXP1qhH7FgY8hQvtUN5RuWdnJLZh6TuB5lsbmnm0F6JbC/38FiqxCjpraIQ7Ouxc/cq11qJyJv\n",
       "QBZ9XZfahIBIH6O0DUfM13RHJ4UpqYWPBT09kBpq63PwvblkI1V8EOpBrJZ/t11L3jv3VlASdNYP\n",
       "VdQL0SWBu8KV9zZgR+P4V3NNUtgy4EChBUnv+1kbcTx62pMP3CYW6Cx98RLktdhya952LfEL3n2l\n",
       "GALLFlSnnmIy1XZ+jgIuuqAKiptNDc1g6TRQC3yjdH/+Ng4R/f9cjiqR5ehYvjsi+UU7EyqguUpa\n",
       "20O/7TY8ITnRpfnVi/mvV1jMZwyBoKmtpIvW8vTSNZKD2HaB2nbQci0lcW2G/Qcb+i6G0+97owAA\n",
       "AABJRU5ErkJggg==\n",
       "\" style=\"display:inline;vertical-align:middle;\" /></a><br>(see <a class=\"ProveItLink\" href=\"../../../__pv_it/theorems/2dfed4d1beab3b3671d3d4e096e808b406cf9fbd0/dependencies.ipynb\">dependencies</a>)<br>"
      ],
      "text/plain": [
       "right_mult_neg_lesseq: forall_{a, x, y in Real | x <= y, a <= 0} ((x * a) >= (y * a))"
      ]
     },
     "execution_count": 2,
     "metadata": {},
     "output_type": "execute_result"
    }
   ],
   "source": [
    "%proving right_mult_neg_lesseq"
   ]
  },
  {
   "cell_type": "code",
   "execution_count": null,
   "metadata": {},
   "outputs": [],
   "source": []
  }
 ],
 "metadata": {
  "kernelspec": {
   "display_name": "Python 3",
   "language": "python",
   "name": "python3"
  }
 },
 "nbformat": 4,
 "nbformat_minor": 0
}