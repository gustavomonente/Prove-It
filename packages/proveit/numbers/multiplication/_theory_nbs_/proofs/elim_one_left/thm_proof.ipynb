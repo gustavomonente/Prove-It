{
 "cells": [
  {
   "cell_type": "markdown",
   "metadata": {},
   "source": [
    "Proof of <a class=\"ProveItLink\" href=\"../../../../../_theory_nbs_/theory.ipynb\">proveit</a>.<a class=\"ProveItLink\" href=\"../../../../_theory_nbs_/theory.ipynb\">numbers</a>.<a class=\"ProveItLink\" href=\"../../theory.ipynb\">multiplication</a>.<a class=\"ProveItLink\" href=\"../../theorems.ipynb#elim_one_left\">elim_one_left</a> theorem\n",
    "========"
   ]
  },
  {
   "cell_type": "code",
   "execution_count": 1,
   "metadata": {},
   "outputs": [],
   "source": [
    "import proveit\n",
    "theory = proveit.Theory() # the theorem's theory"
   ]
  },
  {
   "cell_type": "code",
   "execution_count": 2,
   "metadata": {},
   "outputs": [
    {
     "data": {
      "text/html": [
       "Under these <a href=\"presumptions.txt\">presumptions</a>, we begin our proof of<br><strong id=\"elim_one_left\">elim_one_left:</strong> <a class=\"ProveItLink\" href=\"../../../__pv_it/theorems/477c607583218dca25309574080588f853e78d3f0/expr.ipynb\"><img src=\"data:image/png;base64,iVBORw0KGgoAAAANSUhEUgAAAKEAAAAUBAMAAAAXeEBDAAAAMFBMVEX///8QEBCIiIhmZma6urrM\n",
       "zMxUVFQiIiJERETc3Nzu7u6qqqp2dnaYmJgyMjIAAAAcRTyBAAAAAXRSTlMAQObYZgAAAipJREFU\n",
       "OMtjYMAHOC9AMAbgnoBdw04gfgBi3MVh4gooxgSZ2DWwAW06DWK8wmHiSyjeuABdZh12DVxAB84A\n",
       "ea4BuzyvARhz5eRjmMijgF3LIQYGPqBing3YpdknQDDDfQwTuQSwa1kIdMOpVaum4/D0dCjGYiLD\n",
       "E+xa+BwYGH50dNTgMFEZilFMXKQ2RQfo5cPojlbKdAJ6mQcYUKkMDJ04TOyFYmQTuQ7wFrEDw/8e\n",
       "iHPuHQg8BjHXMFxXqAN6GSjlDI4gpKTWk54EZVZDMdRELnCULOD5xQIM2+1otp9iOL/AE6i7ABj0\n",
       "DEywNMy1x/gCV8QC1jdQvggUQ01c/wBsLAc4ZcSjmbiAoQNEsX4AWnqBHSZ6Y+cqBt45DAx7sJvI\n",
       "ngAW5VfAZiIDwyeYiZwPwkDpyFQtgAUYqgyuW4FC2H0NBfEBINIdEY7PwMKsX0EkC9DXDJ0pDAxM\n",
       "C/LYHfhAQrdu4o8Z7gX6QNXQmEECu5g+MGhBYoZhM9BYVoa3DAyLwTI7EaoOQzGDPsJE/w39DHOB\n",
       "tA2qgSy/OT6AyhTmA/Bw+cnAEN7R0aEwOxShzB2KzeQfwwugZUqLbEGcp2jJMUlLGVTe8IGChHcB\n",
       "OERZGdhAUsyLoMkEORdiKRIKsCfh5TDGfJ4HPAw8IPM5bQJA2R25pMAG8JQUUL9cOXSKgaEbnPjf\n",
       "tQXAhDsZcGUoPKUZMmAChiORJS6OjMsxgYGBvFqBF4dOYNIDAO/loJcUK4yWAAAAAElFTkSuQmCC\n",
       "\" style=\"display:inline;vertical-align:middle;\" /></a><br>(see <a class=\"ProveItLink\" href=\"../../../__pv_it/theorems/fea15bccac06b133db480dff04ed138477ca8bfd0/dependencies.ipynb\">dependencies</a>)<br>"
      ],
      "text/plain": [
       "elim_one_left: forall_{x in Complex} ((1 * x) = x)"
      ]
     },
     "execution_count": 2,
     "metadata": {},
     "output_type": "execute_result"
    }
   ],
   "source": [
    "%proving elim_one_left"
   ]
  },
  {
   "cell_type": "code",
   "execution_count": null,
   "metadata": {},
   "outputs": [],
   "source": []
  }
 ],
 "metadata": {
  "kernelspec": {
   "display_name": "Python 3",
   "language": "python",
   "name": "python3"
  }
 },
 "nbformat": 4,
 "nbformat_minor": 0
}