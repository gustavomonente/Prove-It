{
 "cells": [
  {
   "cell_type": "markdown",
   "metadata": {},
   "source": [
    "Proof of <a class=\"ProveItLink\" href=\"../../../../../_theory_nbs_/theory.ipynb\">proveit</a>.<a class=\"ProveItLink\" href=\"../../../../_theory_nbs_/theory.ipynb\">numbers</a>.<a class=\"ProveItLink\" href=\"../../theory.ipynb\">multiplication</a>.<a class=\"ProveItLink\" href=\"../../theorems.ipynb#left_mult_nonneg_less\">left_mult_nonneg_less</a> theorem\n",
    "========"
   ]
  },
  {
   "cell_type": "code",
   "execution_count": 1,
   "metadata": {},
   "outputs": [],
   "source": [
    "import proveit\n",
    "theory = proveit.Theory() # the theorem's theory"
   ]
  },
  {
   "cell_type": "code",
   "execution_count": 2,
   "metadata": {},
   "outputs": [
    {
     "data": {
      "text/html": [
       "Under these <a href=\"presumptions.txt\">presumptions</a>, we begin our proof of<br><strong id=\"left_mult_nonneg_less\">left_mult_nonneg_less:</strong> <a class=\"ProveItLink\" href=\"../../../__pv_it/theorems/522b703b4e5d98b508f8e3f55e3e76c523e0b2850/expr.ipynb\"><img src=\"data:image/png;base64,iVBORw0KGgoAAAANSUhEUgAAATwAAAAWBAMAAACvaz3RAAAAMFBMVEX///8QEBCIiIhmZma6urrM\n",
       "zMxUVFQiIiJERETc3Nzu7u6qqqp2dnaYmJgyMjIAAAAcRTyBAAAAAXRSTlMAQObYZgAABCRJREFU\n",
       "SMfFVm1oHEUYfu5u9/Z2by8ngmAtwrUHIcQPQoOSH209U2hRrF79ofXXHaFBAxpCaPwilRI0XCqV\n",
       "hUAtBXHbSosxNoeiYn8tCYKmpS4oFKXKgq0/quIhCiZV8Z2Z3b3Zu20T4aQvPDezs8/tPDPvxwzw\n",
       "v9hbPtrs0+uQWy1rCXjs4bsOqzMOCrRb2oolt9uIwDnWv9pheV2WQIxwr9lPToTkdjsjcJQa/WCH\n",
       "5X3lI8YWw978eJPcbmaBo8umpt5heS/5iLHjQWf2gESO2eZbOHLLc3NvdlidPiYQ6/eSaI/8JJHj\n",
       "7LLAn7XaZIflJfsEMLu0yQ63Y/PIIHnW7ONPey/L5AjxxBbodwBL4BgGZtaeUVmHqEXH72VcAWUD\n",
       "fm2GGi4WXgFyPDcyr4XjbUTnQSQbwPfg2BHJppbqMz69vSA+En3xcET6CG8u4WN/QKsLHHcxwDeO\n",
       "/SzjS/sh+iT3ZXI83CyZyAb1+nZkKFc/AYeGpBur7b2lbSg45okYeXurkcfZYfa7H3l/zkRJ4AEb\n",
       "PDsXPD51jfXVBqfkJgN9EtH4h6/lVuRpTyrgMF0tVl3u9WM2ycu93y7vSGs0zJKvjD+QqEfl3c4G\n",
       "2QaJ1fwmyUP2B6tJDojPc2esolIO5eneE9Q52X2FV6X7uumN0g3N3sGeSd68JM8sPk4bdZIFzmAV\n",
       "L7O1bhkts8B6FeoKNDfiXOMvZBvNNahcgRIkqvJjOSBHiSkPm6jZ5WNmH80yoa6ykLBHNVqMmbf3\n",
       "iNOu4KT6JXm9aW8/5nnSOasqVSacLle4l+av0ge0QiQ1jGtIe+Ehe5bivTdIDS63VvLJUWKmimmE\n",
       "qYEPaT2pPpWtSsUvjHBsF3oMXgAK9z9dkuSVu1yod/Jq9c5Ykp01/XiSv7nXpd1L+PJY8WCYwsVq\n",
       "kM3KtUxDJ9kpp1kehwOyTESqqvxNzVYfLA4T9aSIjxX+uxVD6ou12hQKX9wjy0OeAuYCH0k5aSZm\n",
       "I7qZi3vqLHryfsllDmQ4tfmpoVJQ9oZ6i+zm0VVuLVktRGIWmYorPnLknQUr863NA1cVSXgbqsK5\n",
       "Hy3L8ioowxhgM2ilBDXGCg7Pwfi8FMncGx1qp2NPwKhR9MEYExDpY1V246j9tumZ1GBCaeAzIc+U\n",
       "UkNvXAD5QH+G9lArPwb9EDaov7vGAF95Max767sSyGTZRrFQCq8E/g4PfbANe+qnvl5cpgY7ezxk\n",
       "KP2ykz8b/V4oz3jukbt55Zy26B9vQN2InXcVXVX4K3m+L4xuS+C6F6ozLzCbCMmyHaBQDC9Usvll\n",
       "q25YLPd6alPNV9GyrM7gXRwm+f/5OppZ+zo6WGTLnUHrYZu1/CbtPNr22daBZxUv/mp+48v8N+u8\n",
       "zOcsAXkoaJRLzprydp+nH1GGszWyQ7iZlro50/4LQ8gudPXOFA4AAAAASUVORK5CYII=\n",
       "\" style=\"display:inline;vertical-align:middle;\" /></a><br>(see <a class=\"ProveItLink\" href=\"../../../__pv_it/theorems/223f4b57c4ea5536073ebe641efd13ad2fcd959d0/dependencies.ipynb\">dependencies</a>)<br>"
      ],
      "text/plain": [
       "left_mult_nonneg_less: forall_{a, x, y in Real | x < y, a >= 0} ((a * x) <= (a * y))"
      ]
     },
     "execution_count": 2,
     "metadata": {},
     "output_type": "execute_result"
    }
   ],
   "source": [
    "%proving left_mult_nonneg_less"
   ]
  },
  {
   "cell_type": "code",
   "execution_count": null,
   "metadata": {},
   "outputs": [],
   "source": []
  }
 ],
 "metadata": {
  "kernelspec": {
   "display_name": "Python 3",
   "language": "python",
   "name": "python3"
  }
 },
 "nbformat": 4,
 "nbformat_minor": 0
}