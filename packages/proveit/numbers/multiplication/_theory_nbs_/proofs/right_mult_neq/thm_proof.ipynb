{
 "cells": [
  {
   "cell_type": "markdown",
   "metadata": {},
   "source": [
    "Proof of <a class=\"ProveItLink\" href=\"../../../../../_theory_nbs_/theory.ipynb\">proveit</a>.<a class=\"ProveItLink\" href=\"../../../../_theory_nbs_/theory.ipynb\">numbers</a>.<a class=\"ProveItLink\" href=\"../../theory.ipynb\">multiplication</a>.<a class=\"ProveItLink\" href=\"../../theorems.ipynb#right_mult_neq\">right_mult_neq</a> theorem\n",
    "========"
   ]
  },
  {
   "cell_type": "code",
   "execution_count": 1,
   "metadata": {},
   "outputs": [],
   "source": [
    "import proveit\n",
    "theory = proveit.Theory() # the theorem's theory"
   ]
  },
  {
   "cell_type": "code",
   "execution_count": 2,
   "metadata": {},
   "outputs": [
    {
     "data": {
      "text/html": [
       "Under these <a href=\"presumptions.txt\">presumptions</a>, we begin our proof of<br><strong id=\"right_mult_neq\">right_mult_neq:</strong> <a class=\"ProveItLink\" href=\"../../../__pv_it/theorems/49e8adf95f787e63aee9577c2b3fe05b41b019c20/expr.ipynb\"><img src=\"data:image/png;base64,iVBORw0KGgoAAAANSUhEUgAAATsAAAAWCAMAAACIR8upAAAAPFBMVEX///8kJCQoKCgUFBQNDQ0Q\n",
       "EBCIiIhmZma6urrMzMxUVFQiIiJERETc3Nzu7u6qqqp2dnaYmJgyMjIAAAChkoCbAAAAAXRSTlMA\n",
       "QObYZgAAA99JREFUWMPlWNmypCAMdRbZhADy//86BEQNpm28cx96aqjqTqFwkENWpukfai5S+b55\n",
       "xz8PwAIP41W57s9j/HDqwFI50gxLnltZ4Ad4RQbfHq/w4dytjsohvleWAcUCP8Ar0jXOnf1w6qKk\n",
       "cqwFwaidZYEf4RXZ1O1QwA9ti6NyUFFmRu00C/wIr8gYAJtbPj1QLFQOW7p6o3YPARtekcliW8KH\n",
       "cycklSCEcUpwNjk5GaSYq0GFi0VazQGDkAjlZhjDK7JqsHXfskN1q+8jNlG2E8TlKG0kEvKAuIhp\n",
       "YYKBmvNm1rR5s31AWEv7+Rv/ZQ8c8jRcOg3iFanky3g0kPDYYBZznP1dwJH6PV4ZEzMv3vTuzhOJ\n",
       "GVpIMCl3ORiYkQ25fYpf7tVuA3R+ksiBtZeT5vGqxD/xKLkDH6TMM0DbvIJewwh3zgw4tTJmKa6k\n",
       "09JZEQlkn7mf9tOXZeqyHajuFEn3n1EB85QZZyRxAeTxqgyx8jeeLVjvAPGiK6z5Ie7sgMmWMZBQ\n",
       "M2Z/y9103mchfOdktjsIw93FOTVAhRTppC+APF6VOctuhwFSmFUfuYzUogV0JXDMApuRl0fa15eO\n",
       "5Y5Mn1ToYJgF6xidEG+JtzY7kX0So0iI4htlaiH+7sdcvZ65ABeTFfMo3iat2xJtWHT+orYvAZNZ\n",
       "qwEVX5pf6PlcxkWI/SGeuNunmxLIf+dfPMOQBc9jNLGRF7HCQ3XrAq57RTLy0rXojOubGmIHNu1v\n",
       "CG+TXm5cyqxRej+nfKrrfvgOkGhhUVX2QAH+hjsyfRK+g2EW3MZUvZs77khukA3MTzbxVbwVGILN\n",
       "VBVdkoitrjVEA5YGYYfxmmyOA32MODOfTtzgYIyoeik6khGd1/o1d2T6UW43mOuCe61fbDF16Q61\n",
       "FTBC5IyMvb/Ad9oZUQFW8olM0d6AcZpMbhSvyQjbRztUYYDDoxT12fxCnjtj7yBXgujyA8LdNt1k\n",
       "9/LrJzqZeIYhC5IxbJz9ak1GoqCXN8Ve83lDeNBH15wD6qQili0wuZS9Kzqo0stL6KzSRcn1Kd/W\n",
       "tN4+uDum0/ykwRTQfUEyBjP9S373LXcB7F1RBcwOLZ+lenQXQNTXCC8wcdPZmMBElfN7qL3y0tZj\n",
       "sXuogxy77Lm0tidNb9NpftJgCui+IB0jQmAIatmF/fIdlOcLT9viuhWP7qBeFgx9D9wRkkT1d9xn\n",
       "8GDHN59g/DSwr7+8+6Q8v7iiLIAqezs9jHd3fjSAYs/kgu994cZv6zTvgOli9EBR+PzOvcuh1Bvg\n",
       "Ybx4p/rx0lMxDFy1sNzFk4YdMPHlmP+0yf9or38Ao581gCUghesAAAAASUVORK5CYII=\n",
       "\" style=\"display:inline;vertical-align:middle;\" /></a><br>(see <a class=\"ProveItLink\" href=\"../../../__pv_it/theorems/db39dc8dfeaec9a22e57dd8ee7eec24cb12f15440/dependencies.ipynb\">dependencies</a>)<br>"
      ],
      "text/plain": [
       "right_mult_neq: forall_{a, x, y in Complex | x != y, a != 0} ((x * a) != (y * a))"
      ]
     },
     "execution_count": 2,
     "metadata": {},
     "output_type": "execute_result"
    }
   ],
   "source": [
    "%proving right_mult_neq"
   ]
  },
  {
   "cell_type": "code",
   "execution_count": null,
   "metadata": {},
   "outputs": [],
   "source": []
  }
 ],
 "metadata": {
  "kernelspec": {
   "display_name": "Python 3",
   "language": "python",
   "name": "python3"
  }
 },
 "nbformat": 4,
 "nbformat_minor": 0
}