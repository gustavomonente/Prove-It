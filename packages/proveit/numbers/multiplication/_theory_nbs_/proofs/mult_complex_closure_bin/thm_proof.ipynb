{
 "cells": [
  {
   "cell_type": "markdown",
   "metadata": {},
   "source": [
    "Proof of <a class=\"ProveItLink\" href=\"../../../../../_theory_nbs_/theory.ipynb\">proveit</a>.<a class=\"ProveItLink\" href=\"../../../../_theory_nbs_/theory.ipynb\">numbers</a>.<a class=\"ProveItLink\" href=\"../../theory.ipynb\">multiplication</a>.<a class=\"ProveItLink\" href=\"../../theorems.ipynb#mult_complex_closure_bin\">mult_complex_closure_bin</a> theorem\n",
    "========"
   ]
  },
  {
   "cell_type": "code",
   "execution_count": 1,
   "metadata": {},
   "outputs": [],
   "source": [
    "import proveit\n",
    "theory = proveit.Theory() # the theorem's theory"
   ]
  },
  {
   "cell_type": "code",
   "execution_count": 2,
   "metadata": {},
   "outputs": [
    {
     "data": {
      "text/html": [
       "Under these <a href=\"presumptions.txt\">presumptions</a>, we begin our proof of<br><strong id=\"mult_complex_closure_bin\">mult_complex_closure_bin:</strong> <a class=\"ProveItLink\" href=\"../../../__pv_it/theorems/5696ae19ccfe0c2b6bb42ee3359316f08985b5300/expr.ipynb\"><img src=\"data:image/png;base64,iVBORw0KGgoAAAANSUhEUgAAAKsAAAAVBAMAAADLBgMvAAAAMFBMVEX///8QEBCIiIhmZma6urrM\n",
       "zMxUVFQiIiJERETc3Nzu7u6qqqp2dnaYmJgyMjIAAAAcRTyBAAAAAXRSTlMAQObYZgAAAqtJREFU\n",
       "OMutVUto1FAUvZlM5pOZzGwEoSAEP124GiquVDoq4kZtiqjdtYyKG5Fu7IC6qB90xg8EBDtgF7EF\n",
       "LYMwQRGsFBzahVARAm7aghAX/mUUXaizEN997+UzMZMieOEm753cnLx77n0vAKtb2mIetNku8Yjb\n",
       "OHgVSTvD3Wfy+VGAhB6MjL37svYixZ/j9GMk7QfufssVCLcdAKVhU+5/SfEaZjkexaoUmHdY3iSX\n",
       "+QBolUjkd4rnDICsGUWb1Jl32AB5De7wyVK5jAtXtB5yPUpxZbFen4jUYIJ7hz2jShTpeGgzw0Sa\n",
       "9RTDf1Yq5yJpN3BPb+/rccG367eRLKk0slOZuxKXCvHjAFUnON4Kob3Bfaee++p2wm+joYNCa+Y2\n",
       "xGRc5dUg+G5/RRecQeb6iRIfnmUurwORlhZVzbQhr0JmFOcp552bDi3iSYh5rf4JVzK3xZKHDOkz\n",
       "x9YwF9uQVOlCUUYbGk2Q6OoHW8RwZTNSkzcawbNW0kv4F9Z1tg7KJMBcJ60wDg0N52OsbQdMTltz\n",
       "e9kY8WjT9mEymu59g/NvvUYcdd/ziDzoFIGs7qnXthb0GxCnIghegyOtDAyvHiPj01IbN9+ZWCGH\n",
       "ESvLf5WsYcKpjFOdfJFIzUsmqk7khV3kcoDjDwm3WJDwCylVsacx4InvGFlgTp6NZR0sYaVIUmLT\n",
       "TYc17vtF+fFVjpOSgmDGMAGhKI4cqVQq6u1DHu1e5nJp062NboP1vUAxNdavlwwOH3z9Y6uDKwRs\n",
       "6KkVcssbgpmg352iInXfvNTu8fu+K2U7DAdBH94PNSNpLEFWoztKcw+S0KOG2nyXfeni8dKDHTBo\n",
       "SieJKtcQuN+6rDkPq+DbiP5D1w5nDeLsIIsRbVc7xqml9HDaAJ7R/+2ns9xFgwCuwH+zP5FvtsOs\n",
       "kl/DAAAAAElFTkSuQmCC\n",
       "\" style=\"display:inline;vertical-align:middle;\" /></a><br>(see <a class=\"ProveItLink\" href=\"../../../__pv_it/theorems/b725bcb07f0635dc52685c629600276eb89b6f270/dependencies.ipynb\">dependencies</a>)<br>"
      ],
      "text/plain": [
       "mult_complex_closure_bin: forall_{a, b in Complex} ((a * b) in Complex)"
      ]
     },
     "execution_count": 2,
     "metadata": {},
     "output_type": "execute_result"
    }
   ],
   "source": [
    "%proving mult_complex_closure_bin"
   ]
  },
  {
   "cell_type": "code",
   "execution_count": null,
   "metadata": {},
   "outputs": [],
   "source": []
  }
 ],
 "metadata": {
  "kernelspec": {
   "display_name": "Python 3",
   "language": "python",
   "name": "python3"
  }
 },
 "nbformat": 4,
 "nbformat_minor": 0
}