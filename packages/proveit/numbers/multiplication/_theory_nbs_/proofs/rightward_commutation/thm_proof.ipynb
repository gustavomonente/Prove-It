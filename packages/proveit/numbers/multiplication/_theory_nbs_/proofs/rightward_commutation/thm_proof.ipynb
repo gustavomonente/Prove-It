{
 "cells": [
  {
   "cell_type": "markdown",
   "metadata": {},
   "source": [
    "Proof of <a class=\"ProveItLink\" href=\"../../../../../_theory_nbs_/theory.ipynb\">proveit</a>.<a class=\"ProveItLink\" href=\"../../../../_theory_nbs_/theory.ipynb\">numbers</a>.<a class=\"ProveItLink\" href=\"../../theory.ipynb\">multiplication</a>.<a class=\"ProveItLink\" href=\"../../theorems.ipynb#rightward_commutation\">rightward_commutation</a> theorem\n",
    "========"
   ]
  },
  {
   "cell_type": "code",
   "execution_count": 1,
   "metadata": {},
   "outputs": [],
   "source": [
    "import proveit\n",
    "theory = proveit.Theory() # the theorem's theory"
   ]
  },
  {
   "cell_type": "code",
   "execution_count": 2,
   "metadata": {},
   "outputs": [
    {
     "data": {
      "text/html": [
       "Under these <a href=\"presumptions.txt\">presumptions</a>, we begin our proof of<br><strong id=\"rightward_commutation\">rightward_commutation:</strong> <a class=\"ProveItLink\" href=\"../../../__pv_it/theorems/bb9a9a6a1b2acea1247e8e922b25cebeb1f2f9f10/expr.ipynb\"><img src=\"data:image/png;base64,iVBORw0KGgoAAAANSUhEUgAAAu4AAAAyBAMAAADxUEOEAAAAMFBMVEX///8QEBCIiIhmZma6urrM\n",
       "zMxUVFQiIiJERETc3Nzu7u6qqqp2dnaYmJgyMjIAAAAcRTyBAAAAAXRSTlMAQObYZgAAChFJREFU\n",
       "eNrdXH+MHFUd/97uzf6Ymd27oEFao1mutl4w2Eur/Gqxi0QbTWx3NaFUorc54Q+RkPXXCXLR7fkH\n",
       "Wyq6pIa2JMJiA7XX4K6IwUsMrD0psVDZQIwWKVzS1vgj4kHvGm4R6/s1M2/ezOx77LW7mXvJzbyZ\n",
       "+c73zXzee9/35vM+ewBqqe/cuQb0Mv0ewp/0At2/cO4N1Vv6pvdVe/nIZmMZ4A5b6O7gvl8q457r\n",
       "7ROvWQ6wQ2qWZfIhwd0YtLM/DQnG034nfxgy3B/O2jGy1GFs3VFc8lPc+B4FI23HCNnHKm3eIyy4\n",
       "/8DOpSsdukiPLP0x3lYxGqjTip5t029DgrvRsrMvdeqDwbGU1N9SsdrKJiCH/S5OhAr3uNNW7+zU\n",
       "x9alz8dMpVD1rBVT/C4+XQkT7q/ZwSXZcZR+dumPoRaqTlrW2eAWFBLc77BzEfzcu2culTde0ehv\n",
       "Qxucg8ND8vcxh1a7HR4elYeq5MbV1iBg+tVSqhUi3LV5O5toojC7Av6DTraf2FCjiP3u+v+qNbvX\n",
       "7KknZuFGCYJ3wY9Qo81xDn9clZUK11USLYhcZE/WzddJch7jzRDhHnVm73HU5B5uwlWgracRx6fh\n",
       "6yS6YiPQKpYNGpoHMpb9BMTqX7jSMRYSsYk34GvoNt7hJ6Sl6h+AKIL7W2Qy4BsSXw8R7n0FJ4uC\n",
       "5qYqfAO1vyJtxl7zGm5o1AhsGwRHrWHlSWff7BgLCBKfm6oehxPSUpFnVF868a/N+b3L2kp4cB9t\n",
       "unC/BPQFCwEY9xm7cDVRI7Bt0Ji4tc7yfSUH93jB64D4vMTrcF5aKvJcyzIjf9wfaoYH97UVPs7o\n",
       "/wVjzkYg6POUGPU7tM5A02nBuOFbuLdxgNLPNrgdSkrFnp/GI+rnC8yUxfeC0HfDgfsO4MdV/W2I\n",
       "zU7LcCdG5oAdLAayKPY6dQB1Ce7wDg7uI1vcDqW41+F2o5L+62dbHAnmSolieHDnujyenE3CnwsN\n",
       "HgESbkl8daI1MXrgSdsm1kzYk4poAfbneNzte7nAfQXoH9crR8Dl0FOqUzRFNZMaN2HgFlJKw3d2\n",
       "OkdxJ7ecUME9TSZHze7Drp/hpofovR8d2j6WdbW8cSu+OtGaGk06TtYdc+yfP5FxxRnnXidwm8de\n",
       "RNt7we1QLNUpmpYytvr+D0F+GI8kad+mmlqguD+Hd/9Uwd0kzqrdx117kzu4k68BaY212nTTzSpl\n",
       "L4qfBSrfy8PaIBqRDrR5mTzsxZ8IJRXcidXeXrBiPA1o82KGAgLGbCP44pMqVT4oelTBfVIrZgJ4\n",
       "MdZ586QBm3UV3EmveK4HuKcW+HGJzW2SV57NyNv7bcGs8e7vj8mLjggtUqlU+AeM5fx5YJTOUtxT\n",
       "R6em9qiNq69MTR0s9gD3CN/ZO1336CwlMp3fGlDlb7H5zFvl8oQa7gPl8t2NHuBuumjvbq7z3Xxf\n",
       "58PZ8YDzH2S4oznPTptAOo3+Ls0E4B7LBVaik7bMKjEuCz4nNwUMgtEW9Cjd9tXz7/N9DPfrSSSi\n",
       "BBLgQB/PMottG7ORiznc+0fgF/LGqcRR637f0DX+4DdHxq36j83BMkpfZ7jHIeKek9dw39J/u75p\n",
       "lI7CNfx3UxEul7pNKy2nGX694im2PzRzLTxyD3y5saxxN5txn3ntX6anwHgxCg0e92MgH1YHlNad\n",
       "fXvFDJu+7HqgCscbYDR6HmcuRPoOwz05ewMwAklfhRvrjLYGhxTUKG/annHh/qBWwB9+t3vj8P41\n",
       "p1ludOhWvDs85C3RPqev+6i3V+wf+hfNXI8/T25CZVg1aC4uJ9ytcRV23oxejRBI0X7c/f/9RK1K\n",
       "OAEjd/RPLtwT96PQfyA3WoWYe5zXv62hNklix4erq8gYkRdtyDkgA1WgC7xmQNykHuO6TcQ7CCeb\n",
       "4QDZ8Pb+iy3cf4WCByWQDpqYaDiLIN5PcTfteEBwN/ASzXrYBtrv3KBFR7QiW4SZhFfR9irQRBt8\n",
       "juXWo3J9XAyCgYrTSVc7xD1wat7z8D/vJj3kVjxZuqT2yZI4eSdEZyzcyfIXJZDw6qV20S40lSmX\n",
       "yxkjl2wWedwBcwvvx1rFuBu0vnrEoobeC1cQI48NOWflAlxEUfjR7iiXJ5O/5mKZMe/zRdjFJMgI\n",
       "1IQ4jNvwTAApr49xT1VtAgkPipFSPgkx2t7hUxkX7i8jy0W4d0oErVZJvFx9nNi2CL6LPrjjcydw\n",
       "3Ap2Ef/JSwCkBq/JOIuY2jse5mCkm7gLQCsJcSyJk5kJ4MVsAil5D6HJqonMtgiYGOZUFlKu+E7S\n",
       "Cm2+iUHbW0V3sE1fZfRz8MQIoIPvpkpoewqi2MaxoOeSXyzicyu0hab7MnHxJeg7/hjAM4Q9eYZ7\n",
       "5DPiW8Ur3cRdAFpJiGNJnPRBX5Iv7xBIGmqnw5Cvpyux1QC78ITyFGt8Ltw//ZFVBLR8XVsB+Qre\n",
       "1PvHHr8Wf84iHzc8j7e7L78M26Actaiwc2iehHKWC+cyc7EFj8kJ3Lz0P/79FvtZvye+1Z5uwi4C\n",
       "ffJdxaZTYoUs8riTmiBRnvWpCIrvIk/AN7iqbQlW7kA/kz2wLbYxeO9AmU8DfC5TF0PpQ2g7XJ4U\n",
       "CATxrXD1JDeuWyl9fY+RKEbyTYKqiVc8cbqkNomTOM0Il2JzIu7Tsc+s9Jv4+OCurd3AWbJc7DJL\n",
       "9D1t2XAicJrDrPM0eC8zF1enfH9O85oYUfEq0HWVNHoFifiIGq1yYMNiJJn2iKia4LQ9EvKKJ6JL\n",
       "kpVKJU6U53pVBLIk4t6MHalAClRwJ2ObTw6a3NYnt+9B1zknm2r7Hh593F1UIVQCifiIGsF22waL\n",
       "kWTaI6JqYj0Q2/CKJ6pLkkmeiMSJ8Vzi6spDGRF3KQ+89PTK1R3dxumWrMkqUQhlZOIjZuTYECmH\n",
       "XHvkduJWPKGqU5A8TTCeC0YFizDplqJzXtyxQignEx8xI8eGKBPk2iOXE0HxVMsqSJ6wxIkaibjf\n",
       "DeHBvX/eG2eoQkiyOE2NPllwf7TItUcWVUWn727Fk7xUJnHCPJfXNEy6VPimd1ylCiEZ7sSo4QQO\n",
       "IkaS4E5UTZSqosec4kmpVCZxwjyXZ1yNhEmH7ZnQzFgKIVF85GiJKO+BjZKHHJyxGEmmPYpiVROl\n",
       "qug8jVM8+ZcqSp6oxOksgWyj71AVEtz7Gu7jzZZCyCM+GndFbmrELU4TMZJEe0RVTQl7rsUrngJK\n",
       "FSRPROJEeC5uOkpTuH5nY7SCeAIV8VHtEWG4UBFFtF2/USmV8FygF30/dsPyO8qTQbyYivjoKVOo\n",
       "RRXc2yKjUirhuURezFgZLtzvE4rfaX2Qq4iPHv2DmztQ0h4Nt6MBVEqlPJfAA4ftd8NiE73w6x6T\n",
       "58fNTvfhVyBcuJPFFL7NXuB1PkxVnY+Uco8SqdK7xr3H/wcllulucUcuCMPfwf9B6fX//fkYhD/p\n",
       "t9L9C+fe+D/hzhmxW3WlLwAAAABJRU5ErkJggg==\n",
       "\" style=\"display:inline;vertical-align:middle;\" /></a><br>(see <a class=\"ProveItLink\" href=\"../../../__pv_it/theorems/6df570a107693375245f874ab2d6937ae69571d40/dependencies.ipynb\">dependencies</a>)<br>"
      ],
      "text/plain": [
       "rightward_commutation: forall_{i, j, k in Natural} [forall_{a_{1}, ..a_{_a}.., a_{i}, b, c_{1}, ..c_{_a}.., c_{j}, d_{1}, ..d_{_a}.., d_{k} in Complex} ((a_{1} * ..a_{_a}.. * a_{i} * b * c_{1} * ..c_{_a}.. * c_{j} * d_{1} * ..d_{_a}.. * d_{k}) =  \\\\ (a_{1} * ..a_{_a}.. * a_{i} * c_{1} * ..c_{_a}.. * c_{j} * b * d_{1} * ..d_{_a}.. * d_{k}))]"
      ]
     },
     "execution_count": 2,
     "metadata": {},
     "output_type": "execute_result"
    }
   ],
   "source": [
    "%proving rightward_commutation"
   ]
  },
  {
   "cell_type": "code",
   "execution_count": null,
   "metadata": {},
   "outputs": [],
   "source": []
  }
 ],
 "metadata": {
  "kernelspec": {
   "display_name": "Python 3",
   "language": "python",
   "name": "python3"
  }
 },
 "nbformat": 4,
 "nbformat_minor": 0
}