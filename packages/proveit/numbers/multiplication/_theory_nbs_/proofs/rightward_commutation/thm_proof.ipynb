{
 "cells": [
  {
   "cell_type": "markdown",
   "metadata": {},
   "source": [
    "Proof of <a class=\"ProveItLink\" href=\"../../../../../_theory_nbs_/theory.ipynb\">proveit</a>.<a class=\"ProveItLink\" href=\"../../../../_theory_nbs_/theory.ipynb\">numbers</a>.<a class=\"ProveItLink\" href=\"../../theory.ipynb\">multiplication</a>.<a class=\"ProveItLink\" href=\"../../theorems.ipynb#rightward_commutation\">rightward_commutation</a> theorem\n",
    "========"
   ]
  },
  {
   "cell_type": "code",
   "execution_count": 1,
   "metadata": {},
   "outputs": [],
   "source": [
    "import proveit\n",
    "theory = proveit.Theory() # the theorem's theory"
   ]
  },
  {
   "cell_type": "code",
   "execution_count": 2,
   "metadata": {},
   "outputs": [
    {
     "data": {
      "text/html": [
       "Under these <a href=\"presumptions.txt\">presumptions</a>, we begin our proof of<br><strong id=\"rightward_commutation\">rightward_commutation:</strong> <a class=\"ProveItLink\" href=\"../../../__pv_it/theorems/01a2e91e2a4adfe6e65371a34b41ce827463b7cd0/expr.ipynb\"><img src=\"data:image/png;base64,iVBORw0KGgoAAAANSUhEUgAAAwMAAAAyBAMAAADywhqFAAAAMFBMVEX///8QEBCIiIhmZma6urrM\n",
       "zMxUVFQiIiJERETc3Nzu7u6qqqp2dnaYmJgyMjIAAAAcRTyBAAAAAXRSTlMAQObYZgAACURJREFU\n",
       "eNrlXHuME0UY/9re9rHbx4UQBI3JeggSFWnAJ6hUjRpNhJ4mAhrlcoE/VNTGx8VXtJx/WCWaGoyC\n",
       "RrN4EeSItr6ilxipIBhRoIEYAUGaoMZH1AveGe8AcWZ2trs7u9vd2/au7jnJbWd3v/lmOr+Z7/tm\n",
       "5tcDcJZ8J0+WoJnpMxhXab38ET15stVpEV/fWqmZTY6WxhcELRXywa99xTkE6eY2eTqMs/Qd/eS8\n",
       "AoHANPRVj3R0n+WbcMljEKxL6W75rEs9b55Sd1O4lUnnQsG8lQQ/0WMQPKm/jefdKjpSf1sSRedC\n",
       "fMVS4h1vQSAM6+/3utZ0rP7GLJRGILTFUiJU8hQEIWbuP+w6EBmuvzGfj0RonfWwGvIUBIf1hieS\n",
       "cR3bZupvzJGRCMVTliL3ewqCh/S3fjwpVm89w94iRC6dfarOiXROVS35ljb7LxVtm8YonHbMQa1V\n",
       "oai17z4seQgCboAJ6MrIpEyBP9Abm9Doiny8H2Bq9b7wCz+k5F8qhiuw2KYzH4XnEHBpjcIwsmWL\n",
       "7WpFQv4JOBsj/njX7zgx06cgegiCANPMEBrJ68pwMXBzZMNiMh14cjkdAgikJVWZzRIcVfKPQbB4\n",
       "00WqsJkC5DPvQmZbp7ACtJTZJJSqQvAAsfjWli9e8RAEvg7mHhnY+RLch+YC+Yb8P8YyBfwFA8MQ\n",
       "EmmPEpnLgT9O8wHima9Vhc0UzJeMCku0lFmtimYkxBP9XL/lt/IPeQiCpWUjBJOBH1QggC6TIArD\n",
       "5stCQWl4l+wlW47RvC+rQhDqsFAw2URhSillUquiGQnJTasBQeSEhyCYlTcYIjSYhf4qBFapUILN\n",
       "AFeqHXyCDn75XRUCyyXscXx9fR6j0KaULBRN3tihNFD2BT8ycpM8BMFKMLhj/hgEK322EBThHiFf\n",
       "UhcDA9iH0PUryhRtOhNBhhxBcgGj0A4CIhT/9vphxR2bp6c8BMFkNlJEkV43fNNR0kGAjTWxxapl\n",
       "D4uxrmhkkyp0t7rVEeiAnrS2M6tlNUb+QuAv4PPbQadQNwusaoXEclJLyfpr7aYQkIKHnEAQJ0FW\n",
       "eewR4P9k17ioT9e3LelM6SAgxrpLZ9n5zmkvnom6pCrTc67a/q8OiXqT0qVVQsHeuQddnwW9Qm0p\n",
       "y1rbZ+AVSLzG0D2cliH4Et/84gSCKFEpjT0E3FH2ycNaMGxT4Q3rd9c6acCQm1IzuFbkwjbUijJE\n",
       "GYI12DdnnUBApNY0Y5POsB6tbtMJTiD4JGr97kMnQ6DVTaluLiPW2qZDQyMpK8fDOlp0AgGZK182\n",
       "AYLYIPskTEOkyEV/ifbl139h+Wr1E5325f1ZN6V+hs50rc1qFBB0yBDEdvT2vuTMHR/s7d2YaQIE\n",
       "foMhcH1k4yqFRfdFax1sJLJ0iv2dyz3mDIJELvdUqQkQRI07zGN5cLnseff+b3/NPq1QCFDs9DTd\n",
       "fAT4Af2dIVpAEEzXRpWkBRVHuz6DJg/nW0QPgWFoZlpxx2jtu2QoBFcRg8XJfYudQihFRRZdmvJP\n",
       "0kDQkoS37Yds0kntvNm6vaC9+Wh7lzIUgv0wLlOolUIQAr8+1i/gecd/PKcsZHfAXO3SLAMzbfXG\n",
       "nZysgmA2Vz6hn5u2XgZvPAO3l/4vEETLIZOgd19fLwh7AlDSQrAT7L1xwtHJuulc2UoDoFUvS7C/\n",
       "BELpv2GIRg8CxRBFKjcjG0OoUjw5UtrKTcc2Bw3VW5eIOghe41AYxc++x2ize6b/oKw32u7EH1va\n",
       "jFVWn/GzzzPOlZ62X+XMVXjJdSuqQwEzOjQ+Iai6Y3h6GfqWCWx9AoRm99v7BYlsRgjpHV/rIAi/\n",
       "iNzEhvRSCYL6IIF/kEMjlRiXs6SpxJ+0szLkGRDXZqkCn3QQNbG3NJPJP9jUiKie1FcTgg4FgvfQ\n",
       "fHiZrPc2RvHDv1Bv98gQRKsGg0Ag4NOiObAIuE/1/RdIchl6itRNqHoXA8fK4Gc0NwfazVS0goCq\n",
       "48kE3KSBIDbQ1HUBv1JnfhtE5cI2O6lAkBBJz5GVBHLM3IRVKBjK5XKikI6UM1oIyKHfaZjfGdL3\n",
       "n6/oVzapJsKFRMggQ54pOQsVAWSfuIdyue7IBxpjJxggcE/lcpPi+j5vEJWLnlgQCGKoL/jhtOJL\n",
       "/dn2CATlWQBXizoIDiDJIXi2l+2/Qj58QHqXyA6Trh4ygQA/O4RrtVYRemEvAAFzrqiezXInLPeI\n",
       "xiQxfd4gKpe6TacEiaXIM4DswxopLC7yQxT3eCwFMZ0vIGkKN1DG/bdGQiXoxZdfegO8nwR080gs\n",
       "i67fQwDLqBLys8gtGfxsCjdY1r8mKm4D3/63ALaRbZhtEK0uEdnNavdULleJ6fMGUbkANhe1EPAr\n",
       "8hwavTOgvRjPB6cBrMLR6fd0SOoguOacqaT/2ovcFGjP40uxpfPdy/DiGem4+St8XT3zbCyDcrJE\n",
       "nj5DkRbKKSrU11TFAuzKw7hl/K6fllfb+jjT9sjY7lQxfd4oKhfszgOzDSsQj0AnnR/5AnaDQhvd\n",
       "SFVJUHIbWijdg16xjKDVDvKerAAmr2UVbfFN6Doj183sXLD7dq6pXAZqlumihZH5sW2eRmHDqFxw\n",
       "L7AQ9AWvOxWEvPU2ncbhz5qnkaS54NlKENanyGiCMjmHt8b7wPiaqrgkZvp7psNMX7unchFqlk0h\n",
       "lr7F/yMV8qpCN1Qu8zTZAEE5uD0PMXACAVFukoOy5mqSW/ua7pmajdX8SkuZGMQ9lQtTs2ghx/Qt\n",
       "YZgEjQ2nckWOGiCovZJryPH9wUvcLSM7mPuUWyoXoWbJhZzTtyokfPx/U7kC/UYI3FG5yNyXCzmm\n",
       "b6FlwcLiKFC5whkPQdAyYDBE7qhcMjWrdiEDfStRVieGSyqX+XJD9BAElIqvdccuqVyEmmVTiKVv\n",
       "JVLIuOsUNobKNUvyEgRMSOSeyoWpWdpCTuhbwXI4qVPYICqXfBrmFQh8+i/inspFqFnaQk7oW7N3\n",
       "gl5hQ6hcHvuhE/tzv/qoXI4K1TyjaASVi27+eeZHr0cstulcUbmcFKrdM42gcr0jeQuC5/XV10Xl\n",
       "clTIX2sF3Qgql+d++s0M3NE/sqmDvmU2VowpmPQYBOQcSJNG++CyHvqWNllTufbBiCFo8j/DCYpj\n",
       "Wt2o0beqIYFsoUb0z3Ca/S+hzodxldbLAxr/S6h/AcqpDNzw+TzvAAAAAElFTkSuQmCC\n",
       "\" style=\"display:inline;vertical-align:middle;\" /></a><br>(see <a class=\"ProveItLink\" href=\"../../../__pv_it/theorems/e6c8a3744b7c26074f80a7720adb1b053d8dfebf0/dependencies.ipynb\">dependencies</a>)<br>"
      ],
      "text/plain": [
       "rightward_commutation: forall_{i, j, k in Natural} [forall_{a_{1}, ..a_{_a}.., a_{i}, b, c_{1}, ..c_{_a}.., c_{j}, d_{1}, ..d_{_a}.., d_{k} in Complex} ((a_{1} * ..a_{_a}.. * a_{i} * b * c_{1} * ..c_{_a}.. * c_{j} * d_{1} * ..d_{_a}.. * d_{k}) =  \\\\ (a_{1} * ..a_{_a}.. * a_{i} * c_{1} * ..c_{_a}.. * c_{j} * b * d_{1} * ..d_{_a}.. * d_{k}))]"
      ]
     },
     "execution_count": 2,
     "metadata": {},
     "output_type": "execute_result"
    }
   ],
   "source": [
    "%proving rightward_commutation"
   ]
  },
  {
   "cell_type": "code",
   "execution_count": null,
   "metadata": {},
   "outputs": [],
   "source": []
  }
 ],
 "metadata": {
  "kernelspec": {
   "display_name": "Python 3",
   "language": "python",
   "name": "python3"
  }
 },
 "nbformat": 4,
 "nbformat_minor": 0
}