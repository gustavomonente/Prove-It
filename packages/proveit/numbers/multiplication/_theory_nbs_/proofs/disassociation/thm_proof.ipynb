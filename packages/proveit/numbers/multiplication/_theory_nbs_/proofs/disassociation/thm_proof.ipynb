{
 "cells": [
  {
   "cell_type": "markdown",
   "metadata": {},
   "source": [
    "Proof of <a class=\"ProveItLink\" href=\"../../../../../_theory_nbs_/theory.ipynb\">proveit</a>.<a class=\"ProveItLink\" href=\"../../../../_theory_nbs_/theory.ipynb\">numbers</a>.<a class=\"ProveItLink\" href=\"../../theory.ipynb\">multiplication</a>.<a class=\"ProveItLink\" href=\"../../theorems.ipynb#disassociation\">disassociation</a> theorem\n",
    "========"
   ]
  },
  {
   "cell_type": "code",
   "execution_count": 1,
   "metadata": {},
   "outputs": [],
   "source": [
    "import proveit\n",
    "theory = proveit.Theory() # the theorem's theory"
   ]
  },
  {
   "cell_type": "code",
   "execution_count": 2,
   "metadata": {},
   "outputs": [
    {
     "data": {
      "text/html": [
       "Under these <a href=\"presumptions.txt\">presumptions</a>, we begin our proof of<br><strong id=\"disassociation\">disassociation:</strong> <a class=\"ProveItLink\" href=\"../../../__pv_it/theorems/e2390e701f48e7cd6ab67034b5bc39c3e3c878c00/expr.ipynb\"><img src=\"data:image/png;base64,iVBORw0KGgoAAAANSUhEUgAAAukAAAAyBAMAAAATjFj9AAAAMFBMVEX///8QEBCIiIhmZma6urrM\n",
       "zMxUVFQiIiJERETc3Nzu7u6qqqp2dnaYmJgyMjIAAAAcRTyBAAAAAXRSTlMAQObYZgAACMpJREFU\n",
       "eNrlXG1sFEUYfnt3e9fbvesRg8iHmKMVNBjSEyKgVHvGIPEHcI2Rgv5oUzVGJXhqrFFIPPtDioLZ\n",
       "hAQLGDgkEWiMPQFDakiokEjCR7yQGJXwcVEwkSg2IIQWtc7M7u3u7N7ezg7t1a2T9Lo7874zu8/O\n",
       "vjPzzHMHwJaqhob6YDRSJAljI4mt6g0NDY1j9anq3ZwdlYs9AWMlLVHR37yVHfXU6Fyqr3XMoB4t\n",
       "qAfCfx71L+jTcJ63IpeekszbUK9tyXqvoC6Op893c9e0G8R3087taTYv8jYUtH1eO5IeQb06QZ//\n",
       "yl0T8qxJOJtpNp9zd5SC7fszziOoH6KH8GiCtyLsGcs522k2kThvU4dtS9Z4BPXX6dMQd7TFnksZ\n",
       "ZmGajTiOt6kd9n1I9gTq0QH6/CPumrDnUQY73eYCb1M1tiuMUMITqIcy9Hkdnow0zJ7s7LnxyLSs\n",
       "2fOX2gWOfrrNEcNKrXa682pOs4nYhsHooCdQbzF1mw3o71G5ph9geXnHwCT4A032E0ZP8Z9sj+zg\n",
       "qNjARXR4Tp90roYPQciUn5him2lxbV4euUwS/QDEK55A/X7T+Wp05VPBn4En5ym3UcKHdPEdeZiP\n",
       "bk/WbJCnNAixuIMjsQHAQ+oBzS7UBy8Lc9J67aYnVbSBEOkkkv0E9bInUJ9gOkezd/8ghBAui8h5\n",
       "T6FEb8WfjVl4Tc1QbLBnAXr6HBwVG+U90+waMdSBtF47nXSbHvJMhH7b+6mXPYC68LcV9aoM9KSK\n",
       "qIdK8AXt+GMiiNeKY0Or6omm4ktzDo6KjY46sZsIGupK7abBR7NR6i6D+va8B1D3DVgjDOqKh7Qb\n",
       "tA3Pf4HUD4EZlGcsj3tkeUdiI9bljC2gynTU7RvEA7Awo2ipxnXTw61q9QDq1ebLQ2NiTw5WSbIT\n",
       "6jchWOiNxLJGz1gSjQlOqGMbf6BAjabojZMcUFdsft+PY0y0YH9DaQ+gXmWeN6DZXHU82h6hwCOx\n",
       "FgdXQ9DtgO9b+7YcoDyDecwvLKIDsuaskijYZk8Ed8kGzW4uiA8YUdd9dEdic52A5O+zn172q6gT\n",
       "v7MsqNeQaVG+gqj3mGe+CDKxbfqmu+ku214MrnrQ/bR2RVsSYU95zj5JhybNR4/yik01vsmLOlYn\n",
       "T9ERRvPRHbGNcNsHZJVk30Gj11TUj+P/l1hQj+BoV5OtIOotcbBjBBax8FCDKasni2MMGYumiBJw\n",
       "Jix9maYw+rerzPTgiop6F57iZ1hQJ1ZdFeW+ciU4LCUdYHCXCn1WTxbHphLsl+SMenW82VeW/QLx\n",
       "qoo67ryRHAvq5I04XknUz1ve1XXFBf87bQx9faVs8WRyvBcsTG943vW4IwEjB6eXY3pRuq6iHj3W\n",
       "3c1AKmHUz3R370lXEvV6C8V4K7sa7KnD8HzdT7zK8aI3inOYG52da9hQj3V2ru2rJOrfWgaRSuzg\n",
       "BZ+YjCISN6f8Y7nCu4qoP0+eq0oU4YF7WtwG9WCq/IMkaUmBLY8lNVZy6NZR/0YesbrvKKL+GIlE\n",
       "gtISDvChItHX3JD0TTCgHkgw7GuV4jkjLraApPUvaJH3FRhr6dUi6iHw0S8f4XDEg3PyUuYYPGRc\n",
       "JaVhlmO9NTm2vFKjH2pTXJ4VfvsfoB7JhyxLEYAfertBOuWHPiPqJ8F5MI3JbHklEm4z+jHAwdGN\n",
       "MCOZ3iyiHi4sA5UoUmgfzOEEcEyQnlkRp1DfJrTi5dsq6+Jr54ziUq6l9iXrakfPO1xrvRQ1j7S5\n",
       "8Et0RdpoKo811LXRFNY9hzo8IYoU2gdzOGT1L6WOfUehXr0JhfxdqZYsBOleKL4hDIJCLtyTrTOX\n",
       "kjxFYBJKNllKcd4jOA7hk9PGKUB9avjmMCOd2GRLEzTU96GwoRBFCu2DOZydCuoRbRwkqEt4I2YO\n",
       "NIPwNY2cPyGk1X2WDjhnLsV56tF8ECylKA/2gdrmV0bp1PnkcM3X3SmQuBKTbOmqhjreslKJIkz7\n",
       "EA6nubOzMy6lwvm0EXXANMIUQNEoRCNXldP0iONhrrmU5ClpClh8SR7eIiZtbn3KyAhYUOdWIblS\n",
       "IHElFtmSQsMT1KNZjSjCwx7hcIJKX4eFcQr108hyADZ0m5HrkatPZ/cS20GEohlXnHeWxKqBEqjj\n",
       "vLcWJ5Q2/Z8YNjVb8rY8jNvkSoHElVhkSxr7pRFF4fcx7dOVJRxOBIMcTUKUiuskTRL+zGPkurLI\n",
       "Q/2oklsWw/4EoJO3oxlcqpcpeeGn0zjvAvgtpThv6pa80ma4IaXTRzEzyPwqJFcKJL4gxrBXId2k\n",
       "UBdXysIUTPs05RQOBzPFiy4AtFpQf/y+OoJ6U06YBE0y/sgF2vY+jJeuqI5lJ0hvRkdKmazmoRkK\n",
       "Oto4a6alFOUFfsL4Enb6s8vvaU2FzGtafhXS0WGyKZMYZEuRAQp18iBIdFffMh+KsWZGwNjpspol\n",
       "FI92BUgdaqlkrBcUXtO21Be/lLO2CX7zvi+/CsmdAqkIkiv10REGsqHfgnovpn3sJkA06kL9AoOl\n",
       "ehScqYq3calBxq0cYUbZttQvn0mWaFTVSumJW4XkUoGkTlPdqY/OMXCIGQvqeUz7RIEFdQJJiSPI\n",
       "2x1t3lau1G7wuWnK4FYhuVQgKZW4VB8x7Jdsj1tQL/+UbnG3+syDPF7DpkJyqUDSKnGjPmpxvh9P\n",
       "qJCg0Yo6nwrJpQKpWAm4UR8xoL4WvID60qQlwvCpkFwqkAxLGnb1EcM+uDfUpaGEZTTlUyG5VCAp\n",
       "yaX6yHk09XlDSW2exHCrkFwqkJRkqz4yNGRQHzU4g9jqCdThTvqUW4XkUoGkTsVt1UftlI2qPrro\n",
       "eDce+YaM+dtg/CokZifzDgyz+kh0NvwZvIG6iQbkVyExOzWZK2FVHzmzX9Jkj6Aevp0+51chgQsF\n",
       "kvECmNVHzkyvZ77la+6eu0e8wQ5eR2fZ0rPgFdT99JJmpHfwiAKJb7rlSEJHM+5RH61fKmmraGsj\n",
       "qUDi+aWS0fpVHn8SxkYSVZ0E/lWefwHup84AMOlq5gAAAABJRU5ErkJggg==\n",
       "\" style=\"display:inline;vertical-align:middle;\" /></a><br>(see <a class=\"ProveItLink\" href=\"../../../__pv_it/theorems/9239332bc96e1588e1962c7d90028841890f926c0/dependencies.ipynb\">dependencies</a>)<br>"
      ],
      "text/plain": [
       "disassociation: forall_{i, j, k in Natural} [forall_{a_{1}, ..a_{_a}.., a_{i}, b_{1}, ..b_{_a}.., b_{j}, c_{1}, ..c_{_a}.., c_{k} in Complex} ((a_{1} * ..a_{_a}.. * a_{i} * (b_{1} * ..b_{_a}.. * b_{j}) * c_{1} * ..c_{_a}.. * c_{k}) =  \\\\ (a_{1} * ..a_{_a}.. * a_{i} * b_{1} * ..b_{_a}.. * b_{j} * c_{1} * ..c_{_a}.. * c_{k}))]"
      ]
     },
     "execution_count": 2,
     "metadata": {},
     "output_type": "execute_result"
    }
   ],
   "source": [
    "%proving disassociation"
   ]
  },
  {
   "cell_type": "code",
   "execution_count": null,
   "metadata": {},
   "outputs": [],
   "source": []
  }
 ],
 "metadata": {
  "kernelspec": {
   "display_name": "Python 3",
   "language": "python",
   "name": "python3"
  }
 },
 "nbformat": 4,
 "nbformat_minor": 0
}