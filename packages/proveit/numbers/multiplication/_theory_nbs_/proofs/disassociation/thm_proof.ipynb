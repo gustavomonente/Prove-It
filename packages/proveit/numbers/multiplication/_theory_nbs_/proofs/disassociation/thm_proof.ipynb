{
 "cells": [
  {
   "cell_type": "markdown",
   "metadata": {},
   "source": [
    "Proof of <a class=\"ProveItLink\" href=\"../../../../../_theory_nbs_/theory.ipynb\">proveit</a>.<a class=\"ProveItLink\" href=\"../../../../_theory_nbs_/theory.ipynb\">numbers</a>.<a class=\"ProveItLink\" href=\"../../theory.ipynb\">multiplication</a>.<a class=\"ProveItLink\" href=\"../../theorems.ipynb#disassociation\">disassociation</a> theorem\n",
    "========"
   ]
  },
  {
   "cell_type": "code",
   "execution_count": 1,
   "metadata": {},
   "outputs": [],
   "source": [
    "import proveit\n",
    "theory = proveit.Theory() # the theorem's theory"
   ]
  },
  {
   "cell_type": "code",
   "execution_count": 2,
   "metadata": {},
   "outputs": [
    {
     "data": {
      "text/html": [
       "Under these <a href=\"presumptions.txt\">presumptions</a>, we begin our proof of<br><strong id=\"disassociation\">disassociation:</strong> <a class=\"ProveItLink\" href=\"../../../__pv_it/theorems/9b0040b683399259c78e755bdedaf5a405e3ffe80/expr.ipynb\"><img src=\"data:image/png;base64,iVBORw0KGgoAAAANSUhEUgAAAtQAAAAyBAMAAACOgVF1AAAAMFBMVEX///8QEBCIiIhmZma6urrM\n",
       "zMxUVFQiIiJERETc3Nzu7u6qqqp2dnaYmJgyMjIAAAAcRTyBAAAAAXRSTlMAQObYZgAACfVJREFU\n",
       "eNrdXH+MXEUd/97uvv3x9ldDsNBWzPbO1gYlXWkEtZWuGmg0od3TSCn+cZsTYtCK66+aShOXM5Gr\n",
       "gnmmCbRVYUsjpadxV8CQIwSWNoFY2nQDMWpty8YWExqtR4GG2xPrzHfezpv3dt6+4Z3du9dJ7nZu\n",
       "5jNv3vu8me985zufPQC1NHDhQgPmIqUKEOSkl9jn0QtvqDYZmNxVnZN7PQzBTuvZx/5dv1emujg3\n",
       "dxoqBZzqdMvMDM93qq2xkGj6vcav3ht80m8/SUNWel9AqNYv59nHfF+jAo9doQC7p8wyUcNvT3fK\n",
       "CvcUgkF1PM+zr/u9RoZQd0oFZ/alt/z29DvpWF8QDKqf42txOu/3Gq+QnxkFXLZuZg749pZystJt\n",
       "waD6OzwX8z2ttwJE2gq4DZ3Xuse3qVogHS5GEKhOT/Psg36vkSAmOFVWAL7ILYlvV/60rDCWDwLV\n",
       "sQrPDlHW1ly72JtaByhEnjQzOlT3bPiPwdWmHRBsVWpwmbfd4JiD0vHSDgLVI9b4up/8fNrITAHc\n",
       "2rsNAw1ZKytxEmtn9GnQKr1n/3+rNTLVXxNcYfLe7oafeTVEzFI00yeR+bOY+PvSzwWB6o9a2bvJ\n",
       "PV8F4Qp88Xr2ABI4NbYMBJs4JlbH1fWctqrMQU6W0VNoQ5bwRdDJMsfFGvB1s6GsQ72DgRgOiqek\n",
       "T3E2CFQvtLLEwQ63IUbIWId/11qScQkcZGEGCAk3gP4fiJQ5yJEQF25BjYV5tCmOW0sJZw0lHbIy\n",
       "xNTwzYxIn2KlMf+p1t61UT1QgVqxQ3VMsmPfAhxkYSjVpyAyYzKGIOeSUGJu9Ya6RTXDXQmcalmH\n",
       "WIYYdlNyqh9uzn+qQ9M2A0IG3XP8qdwSA33G4oUakHfpYI/0dkOyTTI+dbp8WkAyFwA8GjLMQW15\n",
       "59ZMW23dwUBp/lMdF/xUsizW6nBX0vCiGkGNtm1ZfAv2ND2pLlAzH2nZlkUyrZJeDRHzryepCTkp\n",
       "f4zy/Kd6QFj6iR8Vz6W3pGyjmtpKNKqWBUZQ4jcWO9R1+wb8yD44eUPLAkeb8TzsT5ERGG5w3HWg\n",
       "f0xsyNsIJh8x55GfNXJncIpRjV2dUKE6g05is49U1wQHlxCsjy574IM2qtFWbrFZYAaKW1tkStTe\n",
       "jzTtVPOGlgXWrz1izoGMNaxSR162N9xi65VjtMt+SrOvyTdibzOqX6IfZ1SoTtFFI1Ptp1stxBSs\n",
       "jfk6lZf0a9vGHLxNbseMkG72OcoUGoYqwwnytuRA7Ryjeid1wisqVCNqZ1+DTcIWzwo3PaXQ8tmU\n",
       "PdyEjrMK1cOScJNCw3huY8gt3AT6m+zKdJim6ipU49h/qZ9UvyouENvNzx0/HPVu+egfBRrYfEhc\n",
       "fz7n3XBFdxBVpWHGiC5zCaKSdJ5RnT40MaEQyqFUH5+Y2F/uJ9UrxWjebI4G1NMYfzU+0naX8nfM\n",
       "+fLO+Pg2Naqz4+P3NvpJ9VFxYejHgVf0c4sB/uq3n7TbO/qASfUd+DZCzBTSJXRpzoXqaFHhja9v\n",
       "qZWppLX9XIOR6heMi3HZK0yqP4vGSWN9UKMd64TTNq4phBYKVEfyrtYIbG6sSplbSt73VW6LvwmX\n",
       "RvqWSXUMQvapiZET/ZlVzWTlEHxS3MKU4RrPy2bqamUyo0r61G+tav+8VKlONWP2CvRb/zI5AcmX\n",
       "w9AQqT4C3qti1lArkyTaZ/qXAM/MmQG5SOn7JtWJ1i3ENizHYYVnFTRyEqFTPvnlTTkb1Q9pJbqr\n",
       "uqt7k753eWejNDL4te6tiFV2YLD7Tswy7PPGP5A74suicWlQ3VkWYfvtZGhn6QDCYAtGTnATniwe\n",
       "+pON6vgDxIzvK45UIWofb/r3tDawPf6HqkPOWixjIolYYbirlpbdQM0M/eOYuP6vLM7So+h3clHr\n",
       "LOxQ/QSxCrtxC4bBFoyc7GVUp/iChlQn6QHIKtgI2vN2usJ5rWyeW4zBSWctLTNzHwetq5aUwRNg\n",
       "9vm0eLevFmbtJ4vt7lHYFKiIc3p4MPJp+GaHanrMQ113M9iCkZON4+PjuWQx0SzbInt0M78EiLGJ\n",
       "2ekaqHNt3eVwnbMWy1haAl1tsYweoGKfv/iSuDEvyHdmPonIqDhCp2ZDtVytwyLalOo0eXS9Xeys\n",
       "Xxg5ibJRDTfmbFQfI8hpuH/CSVfNiB+rPo7YNqHOSSYtO4GmaFpCNS3benOe9Rl+RDjFG5HuWl7x\n",
       "S0RWxRGamZUFOdAr3GR6s61G4icYfapi5CRFmU0XIG2z1ZgWaW81KV07q6SF+WvAGLkZnswD+eMH\n",
       "6QqttepYWeK2Mi07DeGuWlp21e4m6zOxpmjdb1Y6DLf65WGDgkOjJM5xT1K1TnJGpFrfbGhLaLBl\n",
       "uM4iJzT8uu40QKmL6ps+PIRUD9e1RTBs0F/1yOjjn6KbSXKNWw7juCU5VmeYZcS/ILkd11zdVUvK\n",
       "In+npGLI97dnf8y7isnmY8J3GOZFBUxqdkEeqVonNS1SjeSjxTYnWYjYTefGXPQaqhwJndy+CF7D\n",
       "rE2K1wUWPXStDeXO1Lv7hPCU5MYxhLDj4FLvIeoEcU1NL66c4hwVzQ1xV4s99sXRKSfVkzTYkjTc\n",
       "w02C9Vm5WkCauejVprdDawW/h+VosNa1Nmwclw2HtGw206U7sgj+DV5SGAYKWdIX1NR4CHZQnCOc\n",
       "w6hobuDBerwVugzvWDYP2bmdSHWTBlvSoEI1XlWSg6ZbbtdDvWpdkiZbo+gJ+J4mdRE9NDQIMoM7\n",
       "FIOaGg/BDopzzKnG9TReHcE2iNbhuzjqZPbn4ZyTas8g6mzS8U/4abVQdicF3LF/G7w0NAwEHMM0\n",
       "Nb0FO0ycY7+IZ0dhOvl0nIGazOQFQXIDa12ovhL0t8FLQ8NAwDFMU9NbsMPEObaLgGdHaCAYRkr1\n",
       "vRAAqjcUpAaEDLzklIIUhoBYcIe5jlRT43UIjOKcR1bbdx8e57ioP0vlv1ByQQZCHhnLS5dFfQai\n",
       "rUkvqhHEgjuMaqqp8aIaxTn59QL13pob8g6hnvnb59vyZTEUCNGvzAWh/tQY/LnUkEphBCuMoN3W\n",
       "+TpqakSqZfoZKs7RjRf4307NjUysEy7B3mL2Dsw2JNSVgkA1vF/iw5HnfnRw02hBLoWxrDADjVnM\n",
       "oqZmHUgaWVYYxTko5jZfrFNzIxHrwOETORhegTIZCU3B+IKG8LUjycZcRUNjBnespCLYgenut+uV\n",
       "VmgLJGodIYA136mWBeN4uElFQ5NsOaa0imBHc3x9SKWjMa2ck4abkouDQXXifZJ10dymKmlo9M32\n",
       "7a+SYCdk3x0qdfQ6jBalQdSgfEVUNgj9Hg2op3jOb0NJWOMrEBCqw5K9xsU+8Lr951WfLSVqnXTl\n",
       "PVM9V/+kYrT/XW6+8/94MR//pGKu/vVKuABBTrqpFTh64Y3/AVrZ7aTyQVCkAAAAAElFTkSuQmCC\n",
       "\" style=\"display:inline;vertical-align:middle;\" /></a><br>(see <a class=\"ProveItLink\" href=\"../../../__pv_it/theorems/0fed6df28b807aab8f82c6c648011dc5daf7c26c0/dependencies.ipynb\">dependencies</a>)<br>"
      ],
      "text/plain": [
       "disassociation: forall_{i, j, k in Natural} [forall_{a_{1}, ..a_{_a}.., a_{i}, b_{1}, ..b_{_a}.., b_{j}, c_{1}, ..c_{_a}.., c_{k} in Complex} ((a_{1} * ..a_{_a}.. * a_{i} * (b_{1} * ..b_{_a}.. * b_{j}) * c_{1} * ..c_{_a}.. * c_{k}) =  \\\\ (a_{1} * ..a_{_a}.. * a_{i} * b_{1} * ..b_{_a}.. * b_{j} * c_{1} * ..c_{_a}.. * c_{k}))]"
      ]
     },
     "execution_count": 2,
     "metadata": {},
     "output_type": "execute_result"
    }
   ],
   "source": [
    "%proving disassociation"
   ]
  },
  {
   "cell_type": "code",
   "execution_count": null,
   "metadata": {},
   "outputs": [],
   "source": []
  }
 ],
 "metadata": {
  "kernelspec": {
   "display_name": "Python 3",
   "language": "python",
   "name": "python3"
  }
 },
 "nbformat": 4,
 "nbformat_minor": 0
}