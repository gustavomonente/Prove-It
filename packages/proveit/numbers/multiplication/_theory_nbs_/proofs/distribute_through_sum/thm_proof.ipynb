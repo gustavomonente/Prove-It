{
 "cells": [
  {
   "cell_type": "markdown",
   "metadata": {},
   "source": [
    "Proof of <a class=\"ProveItLink\" href=\"../../../../../_theory_nbs_/theory.ipynb\">proveit</a>.<a class=\"ProveItLink\" href=\"../../../../_theory_nbs_/theory.ipynb\">numbers</a>.<a class=\"ProveItLink\" href=\"../../theory.ipynb\">multiplication</a>.<a class=\"ProveItLink\" href=\"../../theorems.ipynb#distribute_through_sum\">distribute_through_sum</a> theorem\n",
    "========"
   ]
  },
  {
   "cell_type": "code",
   "execution_count": 1,
   "metadata": {},
   "outputs": [],
   "source": [
    "import proveit\n",
    "theory = proveit.Theory() # the theorem's theory"
   ]
  },
  {
   "cell_type": "code",
   "execution_count": 2,
   "metadata": {},
   "outputs": [
    {
     "data": {
      "text/html": [
       "Under these <a href=\"presumptions.txt\">presumptions</a>, we begin our proof of<br><strong id=\"distribute_through_sum\">distribute_through_sum:</strong> <a class=\"ProveItLink\" href=\"../../../__pv_it/theorems/285f76fae865b70314292b62fe42815d2ae5b2a30/expr.ipynb\"><img src=\"data:image/png;base64,iVBORw0KGgoAAAANSUhEUgAAA84AAAAyBAMAAAB/g5+UAAAAMFBMVEX///8QEBCIiIhmZma6urrM\n",
       "zMxUVFQiIiJERETc3Nzu7u6qqqp2dnaYmJgyMjIAAAAcRTyBAAAAAXRSTlMAQObYZgAACttJREFU\n",
       "eNrtXH2MVFcVP7Mzb74/SFOxtNYMu4Kk2jCW2FbBMmpqo0nLrMZS9A8mmzZGxTp+kShNHDGxixXz\n",
       "DEmBappHiVBW4wzbmmZNIyMkbaQgkybGFqGdSIsp0ZU2lbhLKd6v93Xfm3333Uf3zdO9yc68d+85\n",
       "9559v3fPPffccwZArMQuX+5AGCVfhYUiWfax7xOXXxdliU3t1kKR9dgCXNIl0aPfB3YfFMa5Fo6o\n",
       "Q/UFuOTLS/rF6KDjzL2Ima5sR/KcU/POeMVKuhMRnLNX2+8fl+7pccj+oOGL4d3sIqlKDinNeOUf\n",
       "36DjnK7Y71+T7glxFiu+OM7oD6sn+5R7oU/ogxHB+ZDd+CtUZDvCnKW2tWayD2WuzC4u6jWHZQc9\n",
       "HDrOqU40cP4WJ7a0JsSc6zQ/OCdm9Zo9soPuCR3n3EwkcC7M2O93SveEOZ8FPzjnjdW8KLuFl2a8\n",
       "4hNlwHFONe33I9hwXnPTtd6cO44s1XjOs8OrfeBcHBthej5vWS0OD3s/CIMmXwkd55e1KOC8kZsQ\n",
       "29Hfx9XieYB7PDwES+BfaPNdsXJm39ZaqsnohXPrXBZpkyL6vwumPbWzne55jY1phq4i6ogw/mka\n",
       "lzPh4NwqRwHnD3H3WxBa10O8CZ+7hVq0LjzkBd7ThVsBFNWgQZy5WSiVGaMAzsgEfAPd4ZqG0c0D\n",
       "kGx7jY1p4NugM4Zbir0o4LyYu0fbwfgspBASd9C31blzyb6NP9dq8E39je7pnD1odRgjmmPfmJ4+\n",
       "6+DOT0///b3T03V0eRtk36KVynm9mzixzeYem9BkZw3GcMvQTARwVi45cY41oVXTn3Wq7mTajD+u\n",
       "gey/9TW+zjjR9nldmzEKzOczkLhowZl0E2uaOPcbm9AkGgOCc+ZSBHAemnHqbTQlDxnPuq+H4i3I\n",
       "nYfEchtnqYunuTDOl/DMfGy1ARqZwx3wHJvQ5CufreuMdH0+GxLQiyOAc3oROOywVhvuz6leOF+E\n",
       "ZG8qX9KsnKUqWtvFcX4TL/KVu8Bqh6FXBdoeYxOa4l8/M2sz4EIrD0YA5xi3rYIjCPtyYXPeNqfI\n",
       "qohXS7o0k7IV/lLvPPKUjTPZxV5UHmeyzFq5dZy/Bj+ErPoMXnE7Ok+8Dntr1rENRnO1JjSl+8DG\n",
       "GF45wXAm8p0WwblItgrdeZSxxe8/0RPOji17+H123blZXy03G1X7hjeMVRHaNs6bjoMTZ8Jo5dZx\n",
       "3vvBLtvJFc13/Njpsm1sg9GyWmOa0RVtO2N4G+gaxfk5/HVOBOc8EV2bz+1zmfebqBbcPEt2tubk\n",
       "FNbbtGALYb/zbfMqK5RFqpMxFBdEmeK8CxtlTRGcCdWu+ZTxUJurMM8xnhJgz/U6Tk6DcaLf22F9\n",
       "kxVsIfDHEQJjb1Ua5UE4x9B14iiZoPm20PqMZ/1z869zrGUb+97x/TGB+bxJdXAKMVos/qbzeFGk\n",
       "i9dgrDYI55LILKxTnAtHJyYEjgcwzqcmJg7Mq4dnpeN4KkicgZTFj2ZlWvaQLK0OAs5NZm//Z3z8\n",
       "ATGcS+PjD86rBXnCYQzMc9zQvT9DErwoO+SLAwAzxHoM5/uITmMu/1fR39JyH5yTNYFX9K6eWJ1I\n",
       "WauF/JA2fRmiXmINhvMnyTqiUADxQp2qMpL1a6pDiy04JyrwG89+3c7i/JzP5X7yJWP5+zoslKAl\n",
       "tYjhnIIhu0pr4VmUfXpVN9c8Ch+1+kkacKNnv8W2WJ2b3YTGzN6jKf9YwPkdwDnfTblsD1+YmoDc\n",
       "83HoWHE+Dt5mWEkVq3MpeMzCLwCeHhi9/b+As663M727gbn8sySC4oiyHKtopEK/uKFsw/lRpY7d\n",
       "Svc73Tx7l7+q78uHv+Lcq5t1h4edorA6Mubtv0USGXaYuoDTFbPDYNu9aFITl3+cJGr888mWRnyc\n",
       "udrRP9twTj+Mlu79tY0aJO0zLfsdZRaoC/X92gjfSuqAmDSp6qijFdfdhrU7vjlpNVJX1tys5kw3\n",
       "lAfmI+o+HAmnXIWM1XWcn0Azm7r8D+Rx5QX0dPdSnPOGBUVwzuFIilWwHpQ/2LGKV5QGi6bYCi/x\n",
       "rbiOXd0KiqMV1cETwMb8nVXSl6tuu2DZPbTPOH2++Ii6l5XQSA2QFtApZKmi41wqEyjIzh69iMpV\n",
       "DyFTe3x8vJyrZboNK844kAauA6TjU3asYm0jD+pquJlvJXW0XAcOXlKHj3nJmD//vKXlUNXpZwoQ\n",
       "q18MFJbnw7slLeGZoAI6haRH5hjngma4/LHBNNQczUCSzme4vWzD+SSinIHtEzxWLTV9UpsktLMI\n",
       "Nx5JXHeajDfjgjOu++6dFTpm/DFL5NVGXv9hL7V8rH6pHUgv6t7qfgcgRoO8hBcDC+hwqevnGGzX\n",
       "2utkfkyONbR0ef0Q5DGshSoUbOszKUuUN7sYq10a4mAfMXXjnfBkBdDN9wpN3Gq20brMFxq47hWI\n",
       "O1px3fWPdOmYmTU1U9YS/8DwqZN8rP66YOb7HlGcpSU0UwOkBXSkBtCzIB3n7CZVQfpzBYy2i2py\n",
       "GcBDeIP1CkDdgfOnPjBCcB5tK0tgVMUf7cTY5Mewuwz1cfcxMmPRFW1TWR2yptHVjhtvcLSiusTf\n",
       "MKJ4TPj19I+MoVK8FtoJQWL1nw1m5+hR9544S0uYbwQW0JEaQPcs1niSHFmlmW4bQmulbQW2m75Y\n",
       "95pakF7tT9AwWNqas/YL9Eysb+tQ+VzbOSbE+Ti6EQgSq2+P08cyDS/zfvYGjW6TeuIsLCFPZKYG\n",
       "mFtOn2kBDtcj9TVZcZ5KfvpayPXROXaclZWrLZTsKnkDs+txq8XCp1f4/LNva1w9VXUZtMDrse0Q\n",
       "IFafi9NHj3kL/BSU5txQYJql5PXTo708cRaWkBKNmGaOkRqgawbfaQGOkLRrHDh3k8+oUAARnEmv\n",
       "LlfQ7Xe1+9G5WvsUhbdLtoBYrD6p42P1rXH6pCLVga8qq6iu1Pp0gmmYx1+PuvfEWTSbgBLBBoPG\n",
       "TA2QTgvgUwMybzhwntutEjDU6dRHZLhc4vRFYvVpHR+rb43T1wn02FtLCKGjE+bxp9HY/QL8rQ2i\n",
       "2QSMyKQxUwOk0wL4kPFIxOnDWnecPWP1SR0fq2+N02cEBs6WEEK+E+NJ64/Qcz6LZhMwIpPGTA2Q\n",
       "TgvgcU43ooDzuqqr3paL1efi9NncSTQ8OgHq8TcpRfS2kISU6BMmgGZqgNXH4SstgP93SuUo4Jyq\n",
       "uNphcrH6XJw+fqxoLZwbZ0qDPf7+7DAhCSlRxzQ2zdQA4830mxbA22ErtSjgzBvcRyBArD4Xpw9w\n",
       "M2Q/bMXZDLg3F0NCc4H883rU/WQ/6klTSqeELhH9hCjzK1MAMzWA7Sv9pwXwqQHMwhn03614j/32\n",
       "DggQq8/F6SNtd/x5u6IzOjEXQ0xDPP7mfmeyH/WkKaVTQpeIfkqUNn0GZmoAK/7TArjUgIj8bgX/\n",
       "OzR2v6ffWH1XpoS3D4p4/M2oex9+TxEJW7/kKvjkQV9pAVxqgH50M+g4c0dM9nMMv7H6rkwCuejE\n",
       "428eEfQL8Dca/En4+zznNOCTB32lBXDnGAe1aOCceZf9fhsEidV3YcrccqHs+bIRj7+Pc0lfEu77\n",
       "I689YE6J3YqRFsAJGZnfieNf5iBxBgFL+p2PM2DaI4CAnJDJSlRwjtvdAyHGDfmIug8iIUkNkBaQ\n",
       "E/IF8I1zWL/LPAb/X+VKpgbI/C5zWL+zHq/CQpEs+9jUPHH59f8Cxm2vsZ0I6fMAAAAASUVORK5C\n",
       "YII=\n",
       "\" style=\"display:inline;vertical-align:middle;\" /></a><br>(see <a class=\"ProveItLink\" href=\"../../../__pv_it/theorems/383eda0174c2f700891ddc7534ec5cad826968a20/dependencies.ipynb\">dependencies</a>)<br>"
      ],
      "text/plain": [
       "distribute_through_sum: forall_{i, j, k in Natural} [forall_{a_{1}, ..a_{_a}.., a_{i}, b_{1}, ..b_{_a}.., b_{j}, c_{1}, ..c_{_a}.., c_{k} in Complex} ((a_{1} * ..a_{_a}.. * a_{i} * (b_{1} + ..b_{_a}.. + b_{j}) * c_{1} * ..c_{_a}.. * c_{k}) =  \\\\ ((a_{1} * ..a_{_a}.. * a_{i} * b_{1} * c_{1} * ..c_{_a}.. * c_{k}) + ..(a_{1} * ..a_{_a}.. * a_{i} * b_{n} * c_{1} * ..c_{_a}.. * c_{k}).. + (a_{1} * ..a_{_a}.. * a_{i} * b_{j} * c_{1} * ..c_{_a}.. * c_{k})))]"
      ]
     },
     "execution_count": 2,
     "metadata": {},
     "output_type": "execute_result"
    }
   ],
   "source": [
    "%proving distribute_through_sum"
   ]
  },
  {
   "cell_type": "code",
   "execution_count": null,
   "metadata": {},
   "outputs": [],
   "source": []
  }
 ],
 "metadata": {
  "kernelspec": {
   "display_name": "Python 3",
   "language": "python",
   "name": "python3"
  }
 },
 "nbformat": 4,
 "nbformat_minor": 0
}