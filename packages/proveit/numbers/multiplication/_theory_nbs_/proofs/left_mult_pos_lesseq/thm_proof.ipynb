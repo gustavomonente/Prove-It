{
 "cells": [
  {
   "cell_type": "markdown",
   "metadata": {},
   "source": [
    "Proof of <a class=\"ProveItLink\" href=\"../../../../../_theory_nbs_/theory.ipynb\">proveit</a>.<a class=\"ProveItLink\" href=\"../../../../_theory_nbs_/theory.ipynb\">numbers</a>.<a class=\"ProveItLink\" href=\"../../theory.ipynb\">multiplication</a>.<a class=\"ProveItLink\" href=\"../../theorems.ipynb#left_mult_pos_lesseq\">left_mult_pos_lesseq</a> theorem\n",
    "========"
   ]
  },
  {
   "cell_type": "code",
   "execution_count": 1,
   "metadata": {},
   "outputs": [],
   "source": [
    "import proveit\n",
    "theory = proveit.Theory() # the theorem's theory"
   ]
  },
  {
   "cell_type": "code",
   "execution_count": 2,
   "metadata": {},
   "outputs": [
    {
     "data": {
      "text/html": [
       "Under these <a href=\"presumptions.txt\">presumptions</a>, we begin our proof of<br><strong id=\"left_mult_pos_lesseq\">left_mult_pos_lesseq:</strong> <a class=\"ProveItLink\" href=\"../../../__pv_it/theorems/237984a052372ed7f8a10c8a7e62e9cd0ae9ebd20/expr.ipynb\"><img src=\"data:image/png;base64,iVBORw0KGgoAAAANSUhEUgAAATwAAAAWBAMAAACvaz3RAAAAMFBMVEX///8QEBCIiIhmZma6urrM\n",
       "zMxUVFQiIiJERETc3Nzu7u6qqqp2dnaYmJgyMjIAAAAcRTyBAAAAAXRSTlMAQObYZgAABB1JREFU\n",
       "SMfFVm1oHEUYfm5v9253by8ngmDtn2sPQohaQoPSH209U2gRrF794cevO4JBAhpCaPxMpQQtl0pl\n",
       "IaClIG6rtBhjcygq9teRINRYdEGhKLUs2vqjKh6iYFIV35nZ3Zu93bQRTvrCczM7+9zMM+/H7AD/\n",
       "i73hI2afrEHutJwt4LGH77qszjwoELeMnUiO26jA56x/pcvyemyBBOFeu69MhuS4nRY4So1xsMvy\n",
       "vvKRYIthb36iTY6bVeTocahpdFnecz4S7HjQmT0gkRPcfBNHfnlu7vUuqzPGBRLjXhbtaz9J5CS7\n",
       "JPBnvT7VZXnKgABmlzY5oTs2jw5RZK0B/vToJZkcIZ7YCuM2YAkcI8DM9VdU1yFqsen3dFdA3YBf\n",
       "26mG88UXgTyvDf3lcDxGbN4LpQVcBMeuSDV1nD4Th3YWxSTR8UgtqaO8uYCP/IFsQ+C4i23ccexn\n",
       "GV8699FfeSyVidBZMpENGo2d0Gn+j8GRheImant3aQeKTetEXF7u+yhzdoT97kfBXzNVFrjHAa/O\n",
       "BY8vXWd9rcUp+alAn0Q0/+F7uRkF8kkVHJabTVSXf+WYQ/Ly78Xk5X/p5M5SrMw/kGpE5d3KBpmD\n",
       "anz4N0kecj/YbXJAfJoHYxXVSijP8B6mzlu9l/mpdFcvvVF7kXV2sWeSNy/Js0oPjUDh6oZqeJ7t\n",
       "detYhSXWS9BWkHUjwTX/Qq7V3oPGFahBoao/VgJylJj2sImaPT5mHqdVJrVVlhLOWJY2YxWcfeJr\n",
       "V2ymByV5/Rlvv/qCSOBVjU4mnKpUeZTmr9AE2WKkNMyryHjhR/YM5Xt/UBpcbr3sk6NEvYZDCEsD\n",
       "H9B+0gMa25UG7plje9Bn8gOgePcTZUlepYfmOstGjLfHFVYfg3iEv9nikvdSvjx2eDBM43wtqGb1\n",
       "qt4ySHa62T4eRwKyTES6pv5NzXYfLA9TDUXkxwr/3Y5h7dl6fRrFz+6U5aFACWOeZSmWbmaYmI3o\n",
       "ZSHua7DsKfhHLgsgw8nNjw2Xg2NvuL/Ebh49lc4jq4NIzBJTcdlHnqKzYOvfOjxxNVGEt6Amgvvh\n",
       "siyvCjb7FpZb5RR1zRUcmfMd2q7ca33UTiV+AaNG2QdzXECUj13di6POm5ZnUYNJtYVPhTxLKg2j\n",
       "9QV4DC66yFYehHEYG7TfXXMb33kpPPfWdyWQybKNYaEcXgl8Dw+/vwP7Gie/XlymBrv7POjkotzU\n",
       "z+agF8ozn7r/DuGgM/SPV6FtxO7bS64m4qWcGwiz2xZY80J1+hlmkyFZtgOUiuGFSjb/2GqYNqu9\n",
       "vvp0+5Xeuc47OELy//N1VL/+dXSoxLY7g86Pbc72m0zzgdi0nQNPql7y1fzal/lv1nmZz9sC8lDQ\n",
       "qBeaa8vL1ckOY+856rvyyI209I1Z9l9TlDGapPDH3AAAAABJRU5ErkJggg==\n",
       "\" style=\"display:inline;vertical-align:middle;\" /></a><br>(see <a class=\"ProveItLink\" href=\"../../../__pv_it/theorems/d16fb3cbab791d823c15a2aedfeb159cce73e8af0/dependencies.ipynb\">dependencies</a>)<br>"
      ],
      "text/plain": [
       "left_mult_pos_lesseq: forall_{a, x, y in Real | x <= y, a >= 0} ((a * x) <= (a * y))"
      ]
     },
     "execution_count": 2,
     "metadata": {},
     "output_type": "execute_result"
    }
   ],
   "source": [
    "%proving left_mult_pos_lesseq"
   ]
  },
  {
   "cell_type": "code",
   "execution_count": null,
   "metadata": {},
   "outputs": [],
   "source": []
  }
 ],
 "metadata": {
  "kernelspec": {
   "display_name": "Python 3",
   "language": "python",
   "name": "python3"
  }
 },
 "nbformat": 4,
 "nbformat_minor": 0
}