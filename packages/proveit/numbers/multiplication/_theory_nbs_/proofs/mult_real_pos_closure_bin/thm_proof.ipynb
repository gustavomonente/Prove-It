{
 "cells": [
  {
   "cell_type": "markdown",
   "metadata": {},
   "source": [
    "Proof of <a class=\"ProveItLink\" href=\"../../../../../_theory_nbs_/theory.ipynb\">proveit</a>.<a class=\"ProveItLink\" href=\"../../../../_theory_nbs_/theory.ipynb\">numbers</a>.<a class=\"ProveItLink\" href=\"../../theory.ipynb\">multiplication</a>.<a class=\"ProveItLink\" href=\"../../theorems.ipynb#mult_real_pos_closure_bin\">mult_real_pos_closure_bin</a> theorem\n",
    "========"
   ]
  },
  {
   "cell_type": "code",
   "execution_count": 1,
   "metadata": {},
   "outputs": [],
   "source": [
    "import proveit\n",
    "theory = proveit.Theory() # the theorem's theory"
   ]
  },
  {
   "cell_type": "code",
   "execution_count": 2,
   "metadata": {},
   "outputs": [
    {
     "data": {
      "text/html": [
       "Under these <a href=\"presumptions.txt\">presumptions</a>, we begin our proof of<br><strong id=\"mult_real_pos_closure_bin\">mult_real_pos_closure_bin:</strong> <a class=\"ProveItLink\" href=\"../../../__pv_it/theorems/1a594fdf9f36993716a22daa1493972d8c1594230/expr.ipynb\"><img src=\"data:image/png;base64,iVBORw0KGgoAAAANSUhEUgAAAMcAAAAbBAMAAAA614ahAAAAMFBMVEX///8QEBCIiIhmZma6urrM\n",
       "zMxUVFQiIiJERETc3Nzu7u6qqqp2dnaYmJgyMjIAAAAcRTyBAAAAAXRSTlMAQObYZgAAAz5JREFU\n",
       "SMfNll1IFFEUgI8z+zM7O6u+WS+yFkgPPSxuUVKZEBQE0QbRDwQO9oNSQWUh/RCLQY2GsRSUL+HE\n",
       "QoSQLhWIELRgD6EUGwWJVGyWPRhtIgXlVnTOndn5a39cH6ILc/d45p75zj3n3HMF+L/GzrItZHy4\n",
       "sizcctmQKD6usswq1UVB4Gk5Fg003fxb748Vh3jRuTQJb0ozfPM4iVG78k4NTu12XeC48vtdrwnh\n",
       "QgDjJMyUhkghCpnT6/f4DDrjKsru3h7wZDK1mc/o3SxAH3kZLQ2pSOD0wqnNEj5o1wm+JESvGzuB\n",
       "s1o+pURpSD/l/bRD6WIxrNbjdKnzfA7SWGlC1uKrsYGBGwvI+3Pa8TFnDJnig1biXaq5k0bBhNTh\n",
       "811RzhVMhCk26TmEa6N1RjFXti7HIIwyeVC1hEvebEK244uDAN2FILwpKmSewggthS+GcmhG/AHw\n",
       "lsntlpz4O2ZMSEsEYBOIaSPGmYKQj1Ty6PatFAUZM0HTIxXmAIbNetUgNZ2fmKTVYn8zWgKXMj41\n",
       "qv8Or9g/ZYd0UIXh8o0qnGCbSLMYij/RVZaS2gwODfI41GPxdAitpJTXVJAH4sNwipNgLCiF14TX\n",
       "WU8EQZaA+I0dZJkpXVkd4rPsJLlqj7Uu0cqX3mUqMMIwMTIACJlM2XZyUQsXeu6fNZS/gMci3sLk\n",
       "agtEuGs5Oy0Ute4DOMXrp2nPc/Wqi0qIIEkbpE1LvJgFT3okp/xKKdIT32CBuOXVpiVVF9zHYhdP\n",
       "uelccWe4EDtGCAmHbJA6vbV0wSs5mVMehQs4r2eyN2G2FRj3RGwnDKpwa3zITedKCAbScQbhD520\n",
       "J578ceGa28v2tjbnlPGVVDPTTBbbthoNMiJcyRqWrBgDKnUmTmaZ5eXdiqIEOenqSwqfpXc152kr\n",
       "2tf1PuB6orUV55gyyiwmTCKrSq1IeLRw+ffZLyk+ma9BQp4G6fRh3vAz1rIN+lSvOgFSRMvJWNJ+\n",
       "+1L1CPkuqMHiTS9g3L+u1nsbYEfCfQS/fJkO47NkvMm++HCeS4uN7uIQb8T+t1YfHOakkMN5rt9A\n",
       "rDjk9YJva3obWtQ/Us4LMVB8+YNFQXgV/s34AyuOz5pokrH3AAAAAElFTkSuQmCC\n",
       "\" style=\"display:inline;vertical-align:middle;\" /></a><br>(see <a class=\"ProveItLink\" href=\"../../../__pv_it/theorems/f8c7e5295ae8a1ff4881ae5daf618798e48a01090/dependencies.ipynb\">dependencies</a>)<br>"
      ],
      "text/plain": [
       "mult_real_pos_closure_bin: forall_{a, b in RealPos} ((a * b) in RealPos)"
      ]
     },
     "execution_count": 2,
     "metadata": {},
     "output_type": "execute_result"
    }
   ],
   "source": [
    "%proving mult_real_pos_closure_bin"
   ]
  },
  {
   "cell_type": "code",
   "execution_count": null,
   "metadata": {},
   "outputs": [],
   "source": []
  }
 ],
 "metadata": {
  "kernelspec": {
   "display_name": "Python 3",
   "language": "python",
   "name": "python3"
  }
 },
 "nbformat": 4,
 "nbformat_minor": 0
}