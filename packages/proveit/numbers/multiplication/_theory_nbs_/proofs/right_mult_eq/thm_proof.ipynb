{
 "cells": [
  {
   "cell_type": "markdown",
   "metadata": {},
   "source": [
    "Proof of <a class=\"ProveItLink\" href=\"../../../../../_theory_nbs_/theory.ipynb\">proveit</a>.<a class=\"ProveItLink\" href=\"../../../../_theory_nbs_/theory.ipynb\">numbers</a>.<a class=\"ProveItLink\" href=\"../../theory.ipynb\">multiplication</a>.<a class=\"ProveItLink\" href=\"../../theorems.ipynb#right_mult_eq\">right_mult_eq</a> theorem\n",
    "========"
   ]
  },
  {
   "cell_type": "code",
   "execution_count": 1,
   "metadata": {},
   "outputs": [],
   "source": [
    "import proveit\n",
    "theory = proveit.Theory() # the theorem's theory"
   ]
  },
  {
   "cell_type": "code",
   "execution_count": 2,
   "metadata": {},
   "outputs": [
    {
     "data": {
      "text/html": [
       "Under these <a href=\"presumptions.txt\">presumptions</a>, we begin our proof of<br><strong id=\"right_mult_eq\">right_mult_eq:</strong> <a class=\"ProveItLink\" href=\"../../../__pv_it/theorems/2691bcaed4e9c50f268b9c715f3ac4560574629b0/expr.ipynb\"><img src=\"data:image/png;base64,iVBORw0KGgoAAAANSUhEUgAAARkAAAAWBAMAAAAGH/VFAAAAMFBMVEX///8QEBCIiIhmZma6urrM\n",
       "zMxUVFQiIiJERETc3Nzu7u6qqqp2dnaYmJgyMjIAAAAcRTyBAAAAAXRSTlMAQObYZgAAA1NJREFU\n",
       "SMe9VktoE1EUvflMJp1M2i4UVBBiq8GF0KBUXPQnollp04W/VUNQ1E0pxbrRRXFRElQcUWyximML\n",
       "VYqYoIhECoZ2VzezELRFZRZ2oWgNYkGrC+/7zOQzL6YY6YEzb2buefPOvHffB+A/oM5gdCCgicUO\n",
       "ZDlN8vCuNjcPOJ04IxY74NMYX5KHT7W5+cjpxCOx2AHFZBwlnTdUk5lghFEANSQSCzDDWK9jnUxN\n",
       "bmSNUfTPjSKxAPcYg3NTUyO1DdQIpwgfRGIB6rsYfySTF2pz08w5Hr6xozAy12e3YLfPCsRKcwiu\n",
       "6fYca9u5CYcnwngSILWKJrsqh64wKrnggGxaL70b4SsW72n2LFFEuFj1NkKLXXuvVp/HITIZ99Fk\n",
       "roTA5VMJevOXRD/PqOrqipdkhUITwYA9WDwTiMc8JiQtnbIZPPjtQD+jDG5DnIHTuwzlmC59ruZm\n",
       "HaMCfiZKk7/r1GEAi16BWHeF4Jul86yAjMMr5RlVQxY38iY7BcHbANOrdAPQwLJGjuNlAyjLFdxA\n",
       "ty4tWzrXEKRjBTd15hF8ORFepNO+NYwhbxhk3UuGef9TFBS5YXGaF0RTMlLYdKzQsb8hgB+HaFHe\n",
       "xC1xB7jtmZ/OwQvyuX5GSJ3AyoPSCt669T4Z01Vt0HugnmgX5q1a1A2Nn04iDKopyeKA3oICy80v\n",
       "8JlZnsXlKT8M/rjtJgN9uJ1ZWQxP0JInIhFjEnwhiltR2A4T5O55tsQNj9sahlnG7sxVuGO3ehFe\n",
       "x3MAbeVuiHg3dNup6g8Fz6loIMdIR9uVcTO3P+m1DRJwFHsgNHa4xI0VtzQMUcbJpvH2wnyYbDqe\n",
       "wG5eLHcTpbFOe0VWEttubsWVL8YIQezdtOZfIJ0s5SUiOQvrwUduPON8InI3JN5HcsCgmuo7Q794\n",
       "Z+gof32fk8Kl9R6EUf2uaqpYwKA3D2qMLpQxuqFxNzTOQTT/tmv6TOV7hV2Tz5DE43boyUy+mpnD\n",
       "Ag5sx4S6RAIPl4ZjBTc0zkE1DCmotJ4LThQpkA1/qMKJohh8K88omh8TwI15U4iVrzdMU+20lRKd\n",
       "trxNreUv/Rqj89wY0Hy5Q46PlLsp1lQ8iQZXexKd5yyuaxXet7mqbkSatUNkLRr5A7sBAw8KNKzp\n",
       "AAAAAElFTkSuQmCC\n",
       "\" style=\"display:inline;vertical-align:middle;\" /></a><br>(see <a class=\"ProveItLink\" href=\"../../../__pv_it/theorems/750e45329685431032366f3090ce8e5acad969140/dependencies.ipynb\">dependencies</a>)<br>"
      ],
      "text/plain": [
       "right_mult_eq: forall_{a, x, y in Complex | x = y} ((x * a) = (y * a))"
      ]
     },
     "execution_count": 2,
     "metadata": {},
     "output_type": "execute_result"
    }
   ],
   "source": [
    "%proving right_mult_eq"
   ]
  },
  {
   "cell_type": "code",
   "execution_count": null,
   "metadata": {},
   "outputs": [],
   "source": []
  }
 ],
 "metadata": {
  "kernelspec": {
   "display_name": "Python 3",
   "language": "python",
   "name": "python3"
  }
 },
 "nbformat": 4,
 "nbformat_minor": 0
}