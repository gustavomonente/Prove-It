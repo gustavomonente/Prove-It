{
 "cells": [
  {
   "cell_type": "markdown",
   "metadata": {},
   "source": [
    "Proof of <a class=\"ProveItLink\" href=\"../../../../../_theory_nbs_/theory.ipynb\">proveit</a>.<a class=\"ProveItLink\" href=\"../../../../_theory_nbs_/theory.ipynb\">numbers</a>.<a class=\"ProveItLink\" href=\"../../theory.ipynb\">multiplication</a>.<a class=\"ProveItLink\" href=\"../../theorems.ipynb#mult_neg_any_double\">mult_neg_any_double</a> theorem\n",
    "========"
   ]
  },
  {
   "cell_type": "code",
   "execution_count": 1,
   "metadata": {},
   "outputs": [],
   "source": [
    "import proveit\n",
    "theory = proveit.Theory() # the theorem's theory"
   ]
  },
  {
   "cell_type": "code",
   "execution_count": 2,
   "metadata": {},
   "outputs": [
    {
     "data": {
      "text/html": [
       "Under these <a href=\"presumptions.txt\">presumptions</a>, we begin our proof of<br><strong id=\"mult_neg_any_double\">mult_neg_any_double:</strong> <a class=\"ProveItLink\" href=\"../../../__pv_it/theorems/0bcbbaadb250c9f31da7fc02e52e7dac443e5b690/expr.ipynb\"><img src=\"data:image/png;base64,iVBORw0KGgoAAAANSUhEUgAAA0QAAAAZBAMAAADjz/OpAAAAMFBMVEX///8QEBCIiIhmZma6urrM\n",
       "zMxUVFQiIiJERETc3Nzu7u6qqqp2dnaYmJgyMjIAAAAcRTyBAAAAAXRSTlMAQObYZgAABw9JREFU\n",
       "aN7tWn2IVFUUP+58v3kz6x9BrhKMa5ZU0qKkhlZbUkv/6FjkRwQ7LEpYJkPBWim1bVCzmTElrGYp\n",
       "zyQ/1nIHYrENy8kto9QYKihFZcAPSMIkLNpVo3vuvfPufW/e1zx30D88cN68d+fcM797f/fj3PMG\n",
       "wEXCq16CG3LNJLhqjatN5EY3XVvpvaYUxUpMhWz27ctYM5736WaQq7P7+gttwCCjqIwfJ5woSuJH\n",
       "olQHHDu56qJ0+XUl1dx5M7ks9+knnGdq7742WK9lfQJZzsEQig7h8zknitQC+UhqdaDod666JP0O\n",
       "fkPNU0T3+KW6zNTBfW24WnxW3MPBEIo24oLT5UQR/XZjHRhKtDAV8rNvX3LNS0TVlE9HB7jau69J\n",
       "Ggs+K9IGHKAU4fRQC457Ec6xQ3WgKJJnKsR/8CjVDI7gABzr09FWrrbua5P5flcf2oCtlKLED319\n",
       "G5zDheN9fbuydaBoA1cRPvj+FbmmSu9P+12ZWpnC6AD7znfvnOZgSET3by63xpmixlzuzWIdKJrE\n",
       "VZcGXPXWD010H3mxOdPGV9WsdHLHJLIqDEmcNU92X1cqNmoLUxgdYGebZ0uLaHPaO5AhDoZQtAyg\n",
       "x5micBqi+TpQtI6rLlESNgab4E/3qg/mkxfMNSvSf04ZBjgpem01vOPas7pNoswU4MfzKKeuCpjy\n",
       "n9avd92GQrTsHchJDoZQNJcGDnwYnrGiKNjiIUCaV66ZotVcxW+R0b+1BLMAQiyAsRq1WKbcAoEu\n",
       "PgW1Ss2K7NfgL4C9tIfod0V41sGhsIEkGeTxLFOoFRj1YwYWH4HGVMV+DYQLsFgYWzRMAoINQCC9\n",
       "yEEDGSMhxjVraeiFb2BiRhxdszDVfYJ6jC7jbz/dwW9vYqrQ0XqeoBpDlt4HNHgeQtOzbAxa9ASW\n",
       "BUYgQlq+RLfBmnuomzNwPyiXAdrphMJxQzw6OdRtCDZs+wWmBvECjPoxAwuUob8oQAM8PlMYWzRM\n",
       "AtLOwRCK1JIxgbB76D74XNUCmqDoCLhvl0n36FLZN72kLNZCfxgpMvbEOFD+JhOX/WCnhRcsG9MF\n",
       "/WnpmdYUx6LgJU5RBMfZOBrm2ToUNmx42lHkBoz6MQMjx6L5BQGaSJswtmiYBESiKFZeaDisrN2k\n",
       "wZepFlVKAG0JZdwPAO671W+DfZD4EGCfw0JHJkD8gt4TdkJG5v6qlagiV+h4bdMHxmWJIrvBc1mE\n",
       "7NmKMduLzl4VsMYSnxfsO5BwuQFp42AwR9ezlNzfRg1IKDQXbwYG3pMpivaSUaRMW1kdj4jC9uZn\n",
       "WNBicRpkZUFcCh8eIIPCIVxQLkG4POjaEwVYGc8/lLEMFy7itiGFC1dw4XBxSG0+mm0IF0YDWGMr\n",
       "2Z0EXWQjcaZIAiKFC/AZ+VW1EbkOBMssZzegfvqURFEcF9Ad6XYNwqZ9khbSJN7tGu6RkdYFVTZY\n",
       "hiknanbsqPhiCAyxMdvPuuHXTNHQE7hu04VaLODRVKJTheKI5U74HLxOrnP05xmg3CM7FL6EQ2rT\n",
       "Mg/7oMgUXIFRPy7AwqWojiyQgW1pmSK9rrS1CSBzOBikCEOOTTQA2qVmFOpxAIpDEkUYIcF0WASh\n",
       "r03dj4UsPOmmtM+CUJUNKaOf2/DyhZRGbjPPe2z/9uYlHa0Giui63WlYwJWOyb23xnZnDTUrsu2u\n",
       "kiE2VY/8ZDTQfQmHaKPkDwILppLm5cIaWCe4AlOmHRH2h0+kjA3ulFtnBnKGg0GKEhrtYTahQy/m\n",
       "ct2Eos0RmaJjRCcAWQwjpu6nhXzvn0GfrWyYLMrlcqkPnvCUAAp6Oc5HU/YZGiVb3cmeDmo7uNok\n",
       "gGoGZpY2jydG2oAdIN4XKSNpvudn2CwKPiZThBbDsK7P3P20ME63mhFKxbAFRVh2gszYMJ3tH4lD\n",
       "gUMa1VNP9H9sn+c0p1E9ORx2T6PWDMwXRcOGNCo/rZSLsbcAyKbxLT7+AnDcRBE0hS6WsPuJ3Uat\n",
       "csHC+FwseznRRa6nIUAp0i1YWexJ3O/SNEGSFj3QA6bMhp7EiHvpia9Ui5pSLt9wHPPgMDTW9mWE\n",
       "f2Bm2QvegEgvI/h0WJEPkVkwhYAh4WvwlVY25mWKHrlzEqWI2C3Ih5rwMoEVLsOyhYfxun7qHZSi\n",
       "BQVm0cTLaDS3Ft18cv4NfaW3faUXm/mPh5cJ27+vrimzL+dVvDhs6GJcRO1f6dUOzCTrX+0AT0B6\n",
       "KgNDfjEeZzvSlFy3KQEkP2ns6KvXoMt+K7+L6zZQMNrQ1x0NZC8ydlzdXown/OQUcQvBgPOoq/s6\n",
       "CwFCG0CByBQNhh8db5lGlWbg3bPlV/v8rkPjd4O6jfjvAPumLi9tR1mWvqtdj0Bkikrhg3kXipid\n",
       "7Z14Thi/eX/L9c8QrFh+XQLx8A+g0fgf3fF74Yb4kuCqzv8B0FA/PT+zSMIAAAAASUVORK5CYII=\n",
       "\" style=\"display:inline;vertical-align:middle;\" /></a><br>(see <a class=\"ProveItLink\" href=\"../../../__pv_it/theorems/c6885aece0982d945b783633dd37d37612464d870/dependencies.ipynb\">dependencies</a>)<br>"
      ],
      "text/plain": [
       "mult_neg_any_double: forall_{i, j in Natural} [forall_{a_{1}, ..a_{_a}.., a_{i}, b, c_{1}, ..c_{_a}.., c_{j} in Complex} ((-(a_{1} * ..a_{_a}.. * a_{i} * (-b) * c_{1} * ..c_{_a}.. * c_{j})) = (a_{1} * ..a_{_a}.. * a_{i} * b * c_{1} * ..c_{_a}.. * c_{j}))]"
      ]
     },
     "execution_count": 2,
     "metadata": {},
     "output_type": "execute_result"
    }
   ],
   "source": [
    "%proving mult_neg_any_double"
   ]
  },
  {
   "cell_type": "code",
   "execution_count": null,
   "metadata": {},
   "outputs": [],
   "source": []
  }
 ],
 "metadata": {
  "kernelspec": {
   "display_name": "Python 3",
   "language": "python",
   "name": "python3"
  }
 },
 "nbformat": 4,
 "nbformat_minor": 0
}