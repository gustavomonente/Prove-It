{
 "cells": [
  {
   "cell_type": "markdown",
   "metadata": {},
   "source": [
    "Proof of <a class=\"ProveItLink\" href=\"../../../../../_theory_nbs_/theory.ipynb\">proveit</a>.<a class=\"ProveItLink\" href=\"../../../../_theory_nbs_/theory.ipynb\">numbers</a>.<a class=\"ProveItLink\" href=\"../../theory.ipynb\">multiplication</a>.<a class=\"ProveItLink\" href=\"../../theorems.ipynb#left_mult_pos_less\">left_mult_pos_less</a> theorem\n",
    "========"
   ]
  },
  {
   "cell_type": "code",
   "execution_count": 1,
   "metadata": {},
   "outputs": [],
   "source": [
    "import proveit\n",
    "theory = proveit.Theory() # the theorem's theory"
   ]
  },
  {
   "cell_type": "code",
   "execution_count": 2,
   "metadata": {},
   "outputs": [
    {
     "data": {
      "text/html": [
       "Under these <a href=\"presumptions.txt\">presumptions</a>, we begin our proof of<br><strong id=\"left_mult_pos_less\">left_mult_pos_less:</strong> <a class=\"ProveItLink\" href=\"../../../__pv_it/theorems/5fba12e33f198f74d5a7f14528752a2eabcc760b0/expr.ipynb\"><img src=\"data:image/png;base64,iVBORw0KGgoAAAANSUhEUgAAATwAAAAWBAMAAACvaz3RAAAAMFBMVEX///8QEBCIiIhmZma6urrM\n",
       "zMxUVFQiIiJERETc3Nzu7u6qqqp2dnaYmJgyMjIAAAAcRTyBAAAAAXRSTlMAQObYZgAABBFJREFU\n",
       "SMfNVm1oHEUYfu5u9/Z2s5cTQTAWYduDEKJCaFCKtPVMoUWx9dofWn/dcSga0BBqKyqJlEjDRaks\n",
       "FGopiNtWUkzT5lBU7I9yJPjDM9QDhaJUWaT94wceomBSFd+Z2dvMftjcjxN94dmZ3X129pl5P2aA\n",
       "f8Xe8hCxj/+BHLYeW8BlN990WZ1xWCBqaTuWHLVRgc9Y//suy+u1BWKEu7HkqF0QOEGNfrjL8r7w\n",
       "EGOLkgOv++SomRZHr0NNrcvyXvIQY6f8XvZ52yfHLPMtHNnG3NybXVanjwvE+r3gdZITjk+Os2sC\n",
       "v1erE12WlxwSwLGljY6/HJtGR8iz5pC4nT8gkQPE05uh3wEsgeMpYGb9PyodiFqse71MU0Dpw8/+\n",
       "63lcsV4hl4rcODMJiRwg1h9EsgV8C44dcdnUDt4D09stMUjwxcMBXxZ5cxUfeg+0msCpJrbwhWOX\n",
       "Bj53HqIhuS/TP/hfy0S2gnptOzKUqx+BQ0OyGavt3NI2WHXzdIy8/eVAFD/DY/wgcp6DEgWBBxxw\n",
       "Fy64/NdV1ldb7Dq7Jk8iGn/xudyKHK1JCRxmU4tVl339pEPysuej8o6HokGfJn3Gb0jUgvJuZw/Z\n",
       "AonZ/LImD8cmZXlt4gs8jlZRKvrydPcxFgv9vAgt3ttPb5R+aM4Odk/y5iV5Zn4fheqZI9QdKeNl\n",
       "NtfNY/SB+qoDdQVaM+Bc4w/0tNYmoXIFyngoNSLElIuN1OzyMPMk/eWQusqi2xnTaDJmztkrdjur\n",
       "nhqW5A2m3YOYv8YDeFWlyoSzxRLzqPIdaADNCqSGcQNp199kL1K8D/qpsVZYIsRMGdPwUwPv03xS\n",
       "QyqblYqfGOHkLgwYvABY9z1dkOQVe5tQ7+T+fGc8yfaaYTwuQqGPVi/hyWPFg2EKV8rtbFZuZFo6\n",
       "yU7VQ2U5TESqrPxJzVYPLA4TtaSIjxV+3YqK+mK1OgXr03tkecjRiJf5k1Q9zcRsQD9/ccmi6Ml5\n",
       "JZc5kGF20xOVdhU2KoN5dvLoLYY2tTCRmHmm4rqHLC3ygp352uGBq4okvA1l4dwPGrK8EoowtrA/\n",
       "aIUENcYKjs7R3Z6GnLk329TOxu6AQaPogzEuINLHLu3GCedt0zWpwSGlhU+EPFNKDb11GeQDnRUS\n",
       "rfgo9NfQp/5KHtt/P73N+3WvwyOBRJZtDAsF/0jguaPy3jbsrc1+udigBjsHXGQo/XomfjSGXV+e\n",
       "8dwjdzteIVEqb0DdgJ135Zs4PspjfXnIj25boKMDVZg4SaHoH6hk88pWzbBZ7g1Up6QxAkR1Bu/i\n",
       "KMkXd0c6P45m1j+OjuRZ8MwgvNn22F6Tru+JDBt+8Kzixh/Nb36Y/6rDw3zWFpAftRvlan1debuX\n",
       "6dLE/8RS/81v/wby0ykHAN15RAAAAABJRU5ErkJggg==\n",
       "\" style=\"display:inline;vertical-align:middle;\" /></a><br>(see <a class=\"ProveItLink\" href=\"../../../__pv_it/theorems/9715101492cba3a86a625929268025a45d773f6b0/dependencies.ipynb\">dependencies</a>)<br>"
      ],
      "text/plain": [
       "left_mult_pos_less: forall_{a, x, y in Real | x < y, a > 0} ((a * x) < (a * y))"
      ]
     },
     "execution_count": 2,
     "metadata": {},
     "output_type": "execute_result"
    }
   ],
   "source": [
    "%proving left_mult_pos_less"
   ]
  },
  {
   "cell_type": "code",
   "execution_count": null,
   "metadata": {},
   "outputs": [],
   "source": []
  }
 ],
 "metadata": {
  "kernelspec": {
   "display_name": "Python 3",
   "language": "python",
   "name": "python3"
  }
 },
 "nbformat": 4,
 "nbformat_minor": 0
}