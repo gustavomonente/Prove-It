{
 "cells": [
  {
   "cell_type": "markdown",
   "metadata": {},
   "source": [
    "Proof of <a class=\"ProveItLink\" href=\"../../../../../_theory_nbs_/theory.ipynb\">proveit</a>.<a class=\"ProveItLink\" href=\"../../../../_theory_nbs_/theory.ipynb\">numbers</a>.<a class=\"ProveItLink\" href=\"../../theory.ipynb\">multiplication</a>.<a class=\"ProveItLink\" href=\"../../theorems.ipynb#right_mult_pos_less\">right_mult_pos_less</a> theorem\n",
    "========"
   ]
  },
  {
   "cell_type": "code",
   "execution_count": 1,
   "metadata": {},
   "outputs": [],
   "source": [
    "import proveit\n",
    "theory = proveit.Theory() # the theorem's theory"
   ]
  },
  {
   "cell_type": "code",
   "execution_count": 2,
   "metadata": {},
   "outputs": [
    {
     "data": {
      "text/html": [
       "Under these <a href=\"presumptions.txt\">presumptions</a>, we begin our proof of<br><strong id=\"right_mult_pos_less\">right_mult_pos_less:</strong> <a class=\"ProveItLink\" href=\"../../../__pv_it/theorems/a05ad3d0edbec6379eca5a5be78f804387441d010/expr.ipynb\"><img src=\"data:image/png;base64,iVBORw0KGgoAAAANSUhEUgAAATwAAAAWBAMAAACvaz3RAAAAMFBMVEX///8QEBCIiIhmZma6urrM\n",
       "zMxUVFQiIiJERETc3Nzu7u6qqqp2dnaYmJgyMjIAAAAcRTyBAAAAAXRSTlMAQObYZgAABDxJREFU\n",
       "SMfNVl2IG1UU/pLMJJlJshFBcFsKaaPLsiosuyhFtjXdQotia+qD1qeEoNQFXZbaFpVdWSpdskpl\n",
       "oLCWgjhtZYvraoKipT60wy4+GEsNKJRKlUH0xR8MYsHdqnjO3NmbyWRs8xDRA1/uzL0nc797z3fO\n",
       "vcC/Ym+4aLNz/+Dst4QhYPPL111mp08LtFvUCHRutzGBz/j5hy7T6zEEAojbgc7t9p7AcWq06S7T\n",
       "+8JFgC15Avi9dG63ZMZBj0lNtcv0XnARYCflU+o5QzoHbPMtDlK1hYXXu8xOmxAIjHvOfQhPmtI5\n",
       "yL4T+L1cnuwyvfCggL5pbLQZTG1kaB1FalC8Le73OJ8agrZOOh5b3kjMl+HgKWD25jMqHZBastyn\n",
       "eF1gEZczL8nxbUZPg0IqcuP0FDzO1jaEG3KqXvxCzTcC24OyaU28+2e2ZsRHWgceaoll3mmu4iO3\n",
       "I1YVqOFz80HWkSOmDYhQCiacWEZ/lP8mR626FXFOTyfcJ+vYTM1ZgRjC9UBu7yxvQcZKngqgt7fY\n",
       "ouKnHY0fQFqoCaGcgImy817h9UdWEaOlqs4uzTfpkaOOW5GmMf0v7njABAe+IJCsxwLZpV49YRK9\n",
       "1Lvt9OZ8atBmiJ9+DaFqKz3gV7FBvJrQNCr5NXo4NuWhB2UVBQ7BIe64nT8l6Wn2Y6yFPqcILd3b\n",
       "R25KH2Lmdn4neoseesnsoyTV00focbSIF3nnhsZ5zpdNqCuI1VuDC/Vacw0VCxdYWRO+1GDHiI2N\n",
       "MhZ/IMFL2Oli9knqO6iusrrN8RgtJpk294jTLmNFhj30BqL2ASxyysNaVaky4Uy+wBFVvoUqgudN\n",
       "jY9J7wOSXhXjdIqmbF9hcZyLmJH0riNqn5OpgQ9oPZFBlVel4mf2OLET/bpTADL37ct56OV76lA3\n",
       "OPF8ayLMYh7G40IKvbR7IZceFw+Ccj3e0KSu45nUoSTNZPnKMjtHisqfcpsP43KRnEYgwKIMVcNC\n",
       "7SvO7whK6vPl8mFkPr3HSw9p+uIlpydiRZnMevQ5A+czJJi0W3I5gAS9NJBtXjb00p1zd1BZzvsO\n",
       "NXbWS9kV2T2/6YkSfYgHGSna5IoR/4r3Wm2oIglvQ1EE98Oal14BeeibeYZYLkSNvoKjC/S2u+bN\n",
       "3BsdamcCT0BWn+9QmxAQ6WMUduG4+WbSTlKDg0oDnwh6SU9qaI1LoG3XuJDE8o9AewW96m8Uvr33\n",
       "02hW1r0OrwRN53FUcsFXAjccpfe3YE91/sulGjXY0W8jThmVmPxJH7YlPf3Zh+823UKilF6Duh47\n",
       "7srWMTfmaP3ioNSZIdDRhYocp0hwwRcqr7llq6obnE79Zc9/WsuyOou3cZToi7cjnV9H44HX0dFs\n",
       "3t87C/9hmzDcJmrtbvusv+MZxQ6+mt/4Mn+lw8t8yhDwdq01ylXrpvR2XaSfOv4nFvlvpv0b/RUl\n",
       "OMKQLXgAAAAASUVORK5CYII=\n",
       "\" style=\"display:inline;vertical-align:middle;\" /></a><br>(see <a class=\"ProveItLink\" href=\"../../../__pv_it/theorems/85f78c445562258c80055ff957cc0b9f0557425e0/dependencies.ipynb\">dependencies</a>)<br>"
      ],
      "text/plain": [
       "right_mult_pos_less: forall_{a, x, y in Real | x < y, a > 0} ((x * a) < (y * a))"
      ]
     },
     "execution_count": 2,
     "metadata": {},
     "output_type": "execute_result"
    }
   ],
   "source": [
    "%proving right_mult_pos_less"
   ]
  },
  {
   "cell_type": "code",
   "execution_count": null,
   "metadata": {},
   "outputs": [],
   "source": []
  }
 ],
 "metadata": {
  "kernelspec": {
   "display_name": "Python 3",
   "language": "python",
   "name": "python3"
  }
 },
 "nbformat": 4,
 "nbformat_minor": 0
}