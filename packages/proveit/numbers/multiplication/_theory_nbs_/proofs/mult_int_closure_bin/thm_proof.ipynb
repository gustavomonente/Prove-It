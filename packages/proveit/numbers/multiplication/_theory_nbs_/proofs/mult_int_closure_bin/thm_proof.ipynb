{
 "cells": [
  {
   "cell_type": "markdown",
   "metadata": {},
   "source": [
    "Proof of <a class=\"ProveItLink\" href=\"../../../../../_theory_nbs_/theory.ipynb\">proveit</a>.<a class=\"ProveItLink\" href=\"../../../../_theory_nbs_/theory.ipynb\">numbers</a>.<a class=\"ProveItLink\" href=\"../../theory.ipynb\">multiplication</a>.<a class=\"ProveItLink\" href=\"../../theorems.ipynb#mult_int_closure_bin\">mult_int_closure_bin</a> theorem\n",
    "========"
   ]
  },
  {
   "cell_type": "code",
   "execution_count": 1,
   "metadata": {},
   "outputs": [],
   "source": [
    "import proveit\n",
    "theory = proveit.Theory() # the theorem's theory"
   ]
  },
  {
   "cell_type": "code",
   "execution_count": 2,
   "metadata": {},
   "outputs": [
    {
     "data": {
      "text/html": [
       "Under these <a href=\"presumptions.txt\">presumptions</a>, we begin our proof of<br><strong id=\"mult_int_closure_bin\">mult_int_closure_bin:</strong> <a class=\"ProveItLink\" href=\"../../../__pv_it/theorems/6dadda2715ba2b5f0caab94c5bcadad8ceace2570/expr.ipynb\"><img src=\"data:image/png;base64,iVBORw0KGgoAAAANSUhEUgAAAKkAAAAVBAMAAADP89MSAAAAMFBMVEX///8QEBCIiIhmZma6urrM\n",
       "zMxUVFQiIiJERETc3Nzu7u6qqqp2dnaYmJgyMjIAAAAcRTyBAAAAAXRSTlMAQObYZgAAAslJREFU\n",
       "OMutVU1oE0EUftlsks1mk/ZmPFijQvHgYVUEEX8CPRQEoSIoHqRLULGgUASRFimxPbiplwVBiyJs\n",
       "G6glh3RRRAKCofGg1cOioFFQttgiVKi1KKhR8M3M7jabJtuLD77MzMubb97fzAKsL3dtNEhMa25e\n",
       "Qlhk8sGPVMwy1MvUBvzpazDs3twxN7QJwnjaC7Je9GNNaAwe+YQoNui274EEZEFER8dwGc36sb62\n",
       "4ZEaQkp5dfvRRykNMINe6Pi34cc6YKNe+N8kNe1sEb92eYiM+yCqHMNxHFWzhcItP9JoP4NHJKqY\n",
       "p/PQsO6oBX2UpAz9/amqV/xYOZkBblS2uNsTmW0YX4XOi64WXsVNciRanwHIuYEtrWUVTAZ+I3x1\n",
       "ldOL4i+Aj3TeV9ctUzQjWK4uWjRbKvYYTlZGZDaNGAzjJuylW8nPEx1WAB5Rg9VSh3voCTFMTwQ4\n",
       "09V/Idse7zYjmjRhBxZIMxzS4SJ1k/hwEMQ/AL00rR1LKNS0iy9TzTJmwYyshothQbVUgBiccm6T\n",
       "w5oE8Qf1XaHtytds1rq2tASk0ylr1DqOinznAjllpVPnWeRyGTwZQN9iy+7+vxDE3uqm83a3MYyn\n",
       "6ABWgDRI7jRGfSlEOpAb5OQE68E7Pd5qiTUIWyWH4DtJs12tXY7yZhTD2MmqBQ+QOiiHyAFCKm7l\n",
       "qcWE5HogMwzDW8XxHy7ACLtMdjBURgUdJqtIRsza8OIFDE6hOQwqJ1RVTUF5Fm7b3dbPMLn1ZCbt\n",
       "sOZ3kAovsH46d5gZJufUq9/wtAQJM47FntaE9zi06QEjTC0emvDc58YyOvvG8c/YjXXknjMJaL1H\n",
       "YEyP6FWQyEnBIMt5y9cFmrwujsy4lypz/wAcNULnMSXXcf3m7MvPilMujWGNFFu8x5Z3zdLOkbyu\n",
       "82pTyTVnbfCg1SejxRcm3sL8XYMZ/C/5B5elvJOoOjWhAAAAAElFTkSuQmCC\n",
       "\" style=\"display:inline;vertical-align:middle;\" /></a><br>(see <a class=\"ProveItLink\" href=\"../../../__pv_it/theorems/59877ed682ea74029aaca7af318d111cc9af43660/dependencies.ipynb\">dependencies</a>)<br>"
      ],
      "text/plain": [
       "mult_int_closure_bin: forall_{a, b in Integer} ((a * b) in Integer)"
      ]
     },
     "execution_count": 2,
     "metadata": {},
     "output_type": "execute_result"
    }
   ],
   "source": [
    "%proving mult_int_closure_bin"
   ]
  },
  {
   "cell_type": "code",
   "execution_count": null,
   "metadata": {},
   "outputs": [],
   "source": []
  }
 ],
 "metadata": {
  "kernelspec": {
   "display_name": "Python 3",
   "language": "python",
   "name": "python3"
  }
 },
 "nbformat": 4,
 "nbformat_minor": 0
}