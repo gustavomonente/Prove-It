{
 "cells": [
  {
   "cell_type": "markdown",
   "metadata": {},
   "source": [
    "Proof of <a class=\"ProveItLink\" href=\"../../../../../_theory_nbs_/theory.ipynb\">proveit</a>.<a class=\"ProveItLink\" href=\"../../../../_theory_nbs_/theory.ipynb\">numbers</a>.<a class=\"ProveItLink\" href=\"../../theory.ipynb\">multiplication</a>.<a class=\"ProveItLink\" href=\"../../theorems.ipynb#mult_neg_left\">mult_neg_left</a> theorem\n",
    "========"
   ]
  },
  {
   "cell_type": "code",
   "execution_count": 1,
   "metadata": {},
   "outputs": [],
   "source": [
    "import proveit\n",
    "theory = proveit.Theory() # the theorem's theory"
   ]
  },
  {
   "cell_type": "code",
   "execution_count": 2,
   "metadata": {},
   "outputs": [
    {
     "data": {
      "text/html": [
       "Under these <a href=\"presumptions.txt\">presumptions</a>, we begin our proof of<br><strong id=\"mult_neg_left\">mult_neg_left:</strong> <a class=\"ProveItLink\" href=\"../../../__pv_it/theorems/bc7d1469df5f550565f4089236cf482065da40c70/expr.ipynb\"><img src=\"data:image/png;base64,iVBORw0KGgoAAAANSUhEUgAAAR0AAAAVBAMAAACJYCeRAAAAMFBMVEX///8QEBCIiIhmZma6urrM\n",
       "zMxUVFQiIiJERETc3Nzu7u6qqqp2dnaYmJgyMjIAAAAcRTyBAAAAAXRSTlMAQObYZgAAAyZJREFU\n",
       "SMfFVk1oE0EYfU032WS7SYvoxdPaQOlBaFDqqdaqaG82PfhzayiKeJEiKkgVioeSomIEocUqrhVU\n",
       "itiAiFR6CO2tXgJ6sKKyBz0oWoIo2ILizP5kvtluN6kXH7wlebvvm29nvm9ngDqQKAtSNBVQQ4Df\n",
       "dCco/iyhxYX34fk8IpRwqqbgM2kjQfFjBcGXXPgSns9nQglPago+U6oQFF+zBCf4lI6EppPMCMrQ\n",
       "jVqCz/QqeIR5wZTJohRD81ELgr4Xa6kl+EwXgke4J5hcnJ4eD1+ucUIfPtYUJFNiKHiEVI/gr3z+\n",
       "Yng+aUIPU203t7O1WRDCDiS2UoGYq4hkhNWZz7SBGyZ0pns8AYyF53ON0ItTSp5RWfV9qCqlvYhU\n",
       "XEFftpGBbALiZWF16k1pQQdbJEtwv13Wa9B09eSg+3OY0Itj6qsKq4zndnJ8JYrdiI+4AsWwVExF\n",
       "YQUrXEw2WsizwYYEVUR8nzltbmdZO2ZGv7r/NwtqzptnNXtwYIBfZnirYhOaDVegICagoYc/6Vi1\n",
       "PzynBgPfgWhFUC+rvhBvZqeRvA3Mrc1HoNmo5qPm2EVZxUA2OB8Bno9nxXl+6TOjP+V8EtYR3vmd\n",
       "bSya0gbVVPi6H3jG7qy/XrAHB3qr/9nEb/MEt35ygevlWR10I8I+EcqQIMaOs8I3T6ssd73Z7EeK\n",
       "P/d2KbSem8wO5qH1HM9hFFQgZqmePauDUW6U6hlPWVJRfON3b/WiHff5rxezIsoCoYu+4nV7a+wS\n",
       "85NTfksCMYs2yAirg13oYzk2lgTd5Vyxb3dhEEfz+bwxeVhE6SV08aB1ajfvgk+iCQbTK5JAzFXw\n",
       "9fCsXqA9rNdSWUEk+eRFK1F++yy2IGa/7pTTxzX2C/q9bbR8Qn37RTfjQ0Ibd3VLx4SJc0oFOk8y\n",
       "0ZW1d7i699PTmOnZ+H4as7Qf8n7qTtvr+UX0F3Gwnb3kFa48Xh6ttsEY4XrHi0u4HHzekExx3xSr\n",
       "5bghnzcoilqBd0CE1U995zEy1r50FoE7T+h5TGntdLP0KJ02Y6VDGzmvJv0Flfy38+oSIY0G5V0J\n",
       "/xd/Ae/ACvM7xq2kAAAAAElFTkSuQmCC\n",
       "\" style=\"display:inline;vertical-align:middle;\" /></a><br>(see <a class=\"ProveItLink\" href=\"../../../__pv_it/theorems/fdebb34fd1c0643c8e8727dc4af3eec7ebda32ab0/dependencies.ipynb\">dependencies</a>)<br>"
      ],
      "text/plain": [
       "mult_neg_left: forall_{x, y in Complex} (((-x) * y) = (-(x * y)))"
      ]
     },
     "execution_count": 2,
     "metadata": {},
     "output_type": "execute_result"
    }
   ],
   "source": [
    "%proving mult_neg_left"
   ]
  },
  {
   "cell_type": "code",
   "execution_count": null,
   "metadata": {},
   "outputs": [],
   "source": []
  }
 ],
 "metadata": {
  "kernelspec": {
   "display_name": "Python 3",
   "language": "python",
   "name": "python3"
  }
 },
 "nbformat": 4,
 "nbformat_minor": 0
}