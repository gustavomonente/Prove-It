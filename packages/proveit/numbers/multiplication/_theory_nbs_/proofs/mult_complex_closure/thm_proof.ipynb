{
 "cells": [
  {
   "cell_type": "markdown",
   "metadata": {},
   "source": [
    "Proof of <a class=\"ProveItLink\" href=\"../../../../../_theory_nbs_/theory.ipynb\">proveit</a>.<a class=\"ProveItLink\" href=\"../../../../_theory_nbs_/theory.ipynb\">numbers</a>.<a class=\"ProveItLink\" href=\"../../theory.ipynb\">multiplication</a>.<a class=\"ProveItLink\" href=\"../../theorems.ipynb#mult_complex_closure\">mult_complex_closure</a> theorem\n",
    "========"
   ]
  },
  {
   "cell_type": "code",
   "execution_count": 1,
   "metadata": {},
   "outputs": [],
   "source": [
    "import proveit\n",
    "theory = proveit.Theory() # the theorem's theory"
   ]
  },
  {
   "cell_type": "code",
   "execution_count": 2,
   "metadata": {},
   "outputs": [
    {
     "data": {
      "text/html": [
       "Under these <a href=\"presumptions.txt\">presumptions</a>, we begin our proof of<br><strong id=\"mult_complex_closure\">mult_complex_closure:</strong> <a class=\"ProveItLink\" href=\"../../../__pv_it/theorems/d2c78cdffb3746e50700a97f1ddc609290e7309b0/expr.ipynb\"><img src=\"data:image/png;base64,iVBORw0KGgoAAAANSUhEUgAAAVQAAAAVBAMAAADrzwv7AAAAMFBMVEX///8QEBCIiIhmZma6urrM\n",
       "zMxUVFQiIiJERETc3Nzu7u6qqqp2dnaYmJgyMjIAAAAcRTyBAAAAAXRSTlMAQObYZgAABDJJREFU\n",
       "SMe9l11oFFcUx/+b3ZndncwmfVAwLeLaWFusH4M+KDTRRGnzYmGj+FEQsiwV8UWCponQEhcpdVIV\n",
       "FgUNasvYgNpVu4uyaEqkq2tflMKCihpSuw/6oEgaSwWrbfF+zezMbsbNFOmBc+fuvTNzfnvuueee\n",
       "AV4hdeMx/CcJF7l6lGGX8foUcK8HJdr/dfJb1LYGeol4NnpKqEeRU1VDC/uf7NSwlfSu4jodeOSG\n",
       "qmbJpcHwavOhUI+ilCpH1r3A0D8afmCog3S9km6obGbQq8mIxtWzXKl8kRwFftOgRikqdRnz3aSo\n",
       "zN/XvVoMprh6luPieqevjzn4lo/QyRqUNyhq5Fo6fRiuqGPp9PfdXi0eFupZGtrYZeM88VujC6oQ\n",
       "l96nqHim61+4ozbq+p68V4vNQsMti9+sfffBwmxzM6gsahRz6yjxtaJXYKibgQF3VDmGkOel3C+0\n",
       "PdUwQXz06psDTfjdis2SIxGE8ytF7x5DXeXceNKOq5gdt1ADfPtNQer3bUmI7udclZnwJ7F2KffQ\n",
       "JI8wZx4vYpn1DhZrISs9aybqBYYaRJ2VN08XWnFRNfyGhYpuLKidZEaWFJWNhvRY/J7G1f8cQRJn\n",
       "HWwsU6p+7F/arjCw3fLTBG07x4nQ25XkJjHRxVDVYtDy/94jBi5FNbUcAPgFtXfVneE0IseAESeq\n",
       "L4lMzEQNxquf66XNDChPnajl5PhIdqCGS+sJZOuaZhoLRHK5A3bUbyViQ1m8rfqIHZr7QEQb3Qwf\n",
       "5sirnAGQyeMnmKiuK/I36ieEfQSYW3zW5A1ZxEkHQ8XApwS1vehL8UM2p57dZEMNHSLNyViXAdl5\n",
       "aCmfSc9FiqHN6N2qbZXJYhs5vmugvoBcGub2xbbyR83J0BzSDZTMbYXz5K8ceReNhsJSRQ75gg21\n",
       "nu6KJdgA6bIT1a9JIjSGaPOjrdYocA1FI72qw6ssOmnU8jBlshu343lmn7wzb60Kl+X7jNM6mWjh\n",
       "qI30TyTQDmmnru8mqN8Ebaj4g+hbmEuizYnqy9aJ8Nug63r06LryVAdXJfHOoTnOAOg1o7bXGjrx\n",
       "9ieJNmafrA8PsxNfmqak5bN20LEHHDVCx6ejRUKcezWwxo46Smz+hf3pStRMKjRq3Lg0RvIgc/J3\n",
       "5YTkPFg7ppLqmH2cFL9W7+lzJAylm6OyDDaBnhx+pt2bwJgdlUqT9GeRog4a4a/Nxpfq+hjnkmQF\n",
       "1Bg7mWJWteEsVy5MpcBl9qvKFessipZRA3HMLyJEypZAfxvkStSP3m9mqJ1ZqQmdKdpkA4lzreQw\n",
       "o2fRXnrPmfGvrCwxgPIReHBXojYqt19dBArhRaBD3iOx6jxY7fUSCYByCcZ7QSwg99SRWH0dpbXr\n",
       "ET5QjVr5wdJvy6bSog/Yl0P5G4JuAIwUX98Hy123+pcYW9jjsWaepPe/yUsJ6CPApbtKegAAAABJ\n",
       "RU5ErkJggg==\n",
       "\" style=\"display:inline;vertical-align:middle;\" /></a><br>(see <a class=\"ProveItLink\" href=\"../../../__pv_it/theorems/8081280c4ca456aceeef610de9100d493d3a36e10/dependencies.ipynb\">dependencies</a>)<br>"
      ],
      "text/plain": [
       "mult_complex_closure: forall_{n in Natural} [forall_{a_{1}, ..a_{_a}.., a_{n} in Complex} ((a_{1} * ..a_{_a}.. * a_{n}) in Complex)]"
      ]
     },
     "execution_count": 2,
     "metadata": {},
     "output_type": "execute_result"
    }
   ],
   "source": [
    "%proving mult_complex_closure"
   ]
  },
  {
   "cell_type": "code",
   "execution_count": null,
   "metadata": {},
   "outputs": [],
   "source": []
  }
 ],
 "metadata": {
  "kernelspec": {
   "display_name": "Python 3",
   "language": "python",
   "name": "python3"
  }
 },
 "nbformat": 4,
 "nbformat_minor": 0
}