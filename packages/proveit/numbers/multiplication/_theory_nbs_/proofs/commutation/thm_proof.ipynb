{
 "cells": [
  {
   "cell_type": "markdown",
   "metadata": {},
   "source": [
    "Proof of <a class=\"ProveItLink\" href=\"../../../../../_theory_nbs_/theory.ipynb\">proveit</a>.<a class=\"ProveItLink\" href=\"../../../../_theory_nbs_/theory.ipynb\">numbers</a>.<a class=\"ProveItLink\" href=\"../../theory.ipynb\">multiplication</a>.<a class=\"ProveItLink\" href=\"../../theorems.ipynb#commutation\">commutation</a> theorem\n",
    "========"
   ]
  },
  {
   "cell_type": "code",
   "execution_count": 1,
   "metadata": {},
   "outputs": [],
   "source": [
    "import proveit\n",
    "theory = proveit.Theory() # the theorem's theory"
   ]
  },
  {
   "cell_type": "code",
   "execution_count": 2,
   "metadata": {},
   "outputs": [
    {
     "data": {
      "text/html": [
       "Under these <a href=\"presumptions.txt\">presumptions</a>, we begin our proof of<br><strong id=\"commutation\">commutation:</strong> <a class=\"ProveItLink\" href=\"../../../__pv_it/theorems/ec91601f716401fe9233ead14d2f054202c79db20/expr.ipynb\"><img src=\"data:image/png;base64,iVBORw0KGgoAAAANSUhEUgAAANEAAAAVBAMAAAAqbRZ+AAAAMFBMVEX///8QEBCIiIhmZma6urrM\n",
       "zMxUVFQiIiJERETc3Nzu7u6qqqp2dnaYmJgyMjIAAAAcRTyBAAAAAXRSTlMAQObYZgAAAsFJREFU\n",
       "SMe1lU1oE0EUx1+ySZNssslFEAQhWO3JQ6hHvyIinqTx4MfNEhQvKrnYg3qoCJKgwp5sQQ8bc7AE\n",
       "YRfFQ6XQ0h4ERcmxKQiBYMEqoRQPGj9w/juzm2QySfXgg382O/N7eZl5b94QbW+xGpds82pUhUEN\n",
       "vHwYGmlOqMv02wWiEVOFzu2UxoBBb/GyMTTSJ6FuS2ZYuIYSbUpjwKBZrHl6WCAjw9VjKYd9LKtQ\n",
       "+iGPLnMlLaKEMyxSxOTqsQnmRmUVGmrLo2Uu4021OjN082aEeuy1u4VZBZooyCww6FuxeGtopFGh\n",
       "2KHxXf7g+p6D7EczCjSZH/W3iLsAgy4RlbyZUEsR6YHQMTO56Wf5t2WbZLgl8b4Fa3qovaF/9zDu\n",
       "Agw63l1DK96X+P3LefH1Jpe+mzRUju5OtymVpri8UUAXLdpiD+RRuACDIhTsHLfPmF84UNPPW+Ev\n",
       "YmwHl9amSBr/Gf9La5C9ROFNKRLQI6T/xKLJdwEGJWqRDop1r85XyXhMtNAbKTBNdg71NcmP04Sj\n",
       "jtSkEOp8inwXL1KscZYNVsY+ss/w1pgVQppPvGQTvbvH1rDYOU41OmpRqNDJ07qH/sJSuAkXYC5a\n",
       "usgWez2M6eCNYCYJZq3eVxG2Q9fi3rFKZVkOREVIxfOVyl42hItXEfSChdMyYQSNpo1GBcyrru65\n",
       "wsXmphJ+L6tF2dK1JSkS0Kt0x3sVLsBclBURBZwgtj+Q1SbPFYvF9KMzHfeTXHp+38O9fpWPv0O2\n",
       "clIkoJX9foEJF2AuarCCtM3oGnukrIAzAkZ7Isp5UDdy7amqG6kxHw2YF07RrBWxVimRcw93zu+f\n",
       "yg7rt87+DksDOqxoDvnnh+m0E77CtvMeBp617vpbU6KuNiJdB5INwmSU96sgy9N2NyFPuPImVGIS\n",
       "Gjf/7Xav/93tXu9HDfqf9gctj9paAgnMQQAAAABJRU5ErkJggg==\n",
       "\" style=\"display:inline;vertical-align:middle;\" /></a><br>(see <a class=\"ProveItLink\" href=\"../../../__pv_it/theorems/8146d691e38b3dd42fed717d89c026fcdd000fa50/dependencies.ipynb\">dependencies</a>)<br>"
      ],
      "text/plain": [
       "commutation: forall_{a, b in Complex} ((a * b) = (b * a))"
      ]
     },
     "execution_count": 2,
     "metadata": {},
     "output_type": "execute_result"
    }
   ],
   "source": [
    "%proving commutation"
   ]
  },
  {
   "cell_type": "code",
   "execution_count": null,
   "metadata": {},
   "outputs": [],
   "source": []
  }
 ],
 "metadata": {
  "kernelspec": {
   "display_name": "Python 3",
   "language": "python",
   "name": "python3"
  }
 },
 "nbformat": 4,
 "nbformat_minor": 0
}