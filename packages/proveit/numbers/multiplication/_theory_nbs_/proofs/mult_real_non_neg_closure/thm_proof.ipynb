{
 "cells": [
  {
   "cell_type": "markdown",
   "metadata": {},
   "source": [
    "Proof of <a class=\"ProveItLink\" href=\"../../../../../_theory_nbs_/theory.ipynb\">proveit</a>.<a class=\"ProveItLink\" href=\"../../../../_theory_nbs_/theory.ipynb\">numbers</a>.<a class=\"ProveItLink\" href=\"../../theory.ipynb\">multiplication</a>.<a class=\"ProveItLink\" href=\"../../theorems.ipynb#mult_real_non_neg_closure\">mult_real_non_neg_closure</a> theorem\n",
    "========"
   ]
  },
  {
   "cell_type": "code",
   "execution_count": 1,
   "metadata": {},
   "outputs": [],
   "source": [
    "import proveit\n",
    "theory = proveit.Theory() # the theorem's theory"
   ]
  },
  {
   "cell_type": "code",
   "execution_count": 2,
   "metadata": {},
   "outputs": [
    {
     "data": {
      "text/html": [
       "Under these <a href=\"presumptions.txt\">presumptions</a>, we begin our proof of<br><strong id=\"mult_real_non_neg_closure\">mult_real_non_neg_closure:</strong> <a class=\"ProveItLink\" href=\"../../../__pv_it/theorems/36f245697d6b4a821b3b7c4f355f343f713fd9000/expr.ipynb\"><img src=\"data:image/png;base64,iVBORw0KGgoAAAANSUhEUgAAAYQAAAAcBAMAAACT0dV6AAAAMFBMVEX///8QEBCIiIhmZma6urrM\n",
       "zMxUVFQiIiJERETc3Nzu7u6qqqp2dnaYmJgyMjIAAAAcRTyBAAAAAXRSTlMAQObYZgAABQNJREFU\n",
       "WMPVmF9oHEUYwL+7vd29vdu7BKnQGCqn0VowxZBAFZuWC8UU9OVaseZB6BEMKmIJVRP/xHiUYq8t\n",
       "xa1CGkrVNYLVM20Oytn6IJ7GQk0TWTTWP1i4Fx8UrUUi2DyI3zeze9nd21z2LomQCZndnZuZnd98\n",
       "f2cB1mZpbYU1W7o1qmPFaNpff2nwxWW/U0yuKIKyJYW1nIR5SOBNaHCoen95Bd65Z4XFoNyHDBMp\n",
       "aIZu9jyy+gi/rbQqRS4lYa8Gr4Bq/D8IAolbMWoe90kVhq/1vTrsB3iJI5TocnVRhDgzHqN+hHd0\n",
       "rD6ofZykOZ+/X//6tfV8HcE/SAo3AbRwhMvVhC2DmsdLXK8fYZKqX+tQl5KrofQ+9PxACxk7ymxh\n",
       "DreHI4ySnDOLIrCfRpehSM0kxbY6Bn7hes6cgrCCnnT8oOWRQM4zBNphttWL2AIJ6PIy/Mc8TaPV\n",
       "MfJdfokdGhy2EAStBO8dZLrURnFByDCE2FQud6KKOf+cy33YXz9CrBGrE/WMjLN4Ih7QF6QgaBl4\n",
       "xIzOpKDBRu6R/slmh6ogNGSzh4rLcEik0mR2Smf7LUvLzNZJZdp3VrcpkhRyhuTQPEfoAzhcBUFK\n",
       "QbgGPRCZKc5MWc9hkvUx/O/S4tcBeqqP5p1M+TF7fspuC+e3O/2K+DdH2OE0fvHZL+G29AJCqA3O\n",
       "1qI4T9O69bIXjdNULyPVBtLch+/l3sZjIC2OdzJLlKnvgqPJHB8cRpu9kMVikihzHEGGYNntfzS5\n",
       "DS6ouqDbQls/bPa1+Oj+17ZjGAs9AxDAP2sGUod1qFDzIOOvO1njRKnSh/4L5U7mXpI8xFuvYTGl\n",
       "sCPscu4RE0E1yjE4dvSkDp8m2lR7dJ4BH9ZM7ImiOkZvbdePg5yypGAiBDLky00E2SPLHIByJxuC\n",
       "zd1nTgkPuJy/JQWlhIlYbNvuFtIpLIXCGw6Et8Wl01rGnijGztBDT96GEDYVaaIIn4GFsFjhnb79\n",
       "7nbiDrGda7TbwpFvXIZ3w8yRDj+Oa+gyAhpPNgrqmcfsCOER9G6R9n2pSuGXGxk7Iozj5WMDGiBg\n",
       "iVwyzXkiD/ui2lIIrNPsBmgqm3O7HWGPkPL0SHAOcU/eBQ16hLmxAhQn7QhRMsHTKUysJJcqskYe\n",
       "/DmC0AFwJe8wZ+a6cb5wIjagOqRABsEsgFVcZNRJGeunyAsCc+Vy3pZgqPm+yqBDCA1kQb3QBeIL\n",
       "2ewBRHhLdmSqf+F/BzwK4ucuBGrk4mDsiS1PJIHtk82pso3ChUd67xy5w4HADGLAMgM+D+skJUK0\n",
       "tDjb8ciTD5bTvF8g+6cjjzCjM7LQym6GThHSXAqh3Q6En1imsxGfdHf6s9HUScae+GqzxwFtnSPB\n",
       "2OnDtQVSQhGXf9rcg0tmguEVwBO284JyHZ4rwEW6ncWkwn1eiNyAYzk3AmuMbb2KAk9zRSpMwfj0\n",
       "9LQDpNOR5p33k56D/FCqMs3zsh3dhoCRu9WAMIopNJwEqeLI0yTOGYSgHIFR3aqoMbqJfO5FjqCO\n",
       "V75mF1VW+H/z1V4fB3wIzngk2x7lisepbRPqg+eprfvuFoYgNsMuTWyiqpk39omokMQeHfo90lH5\n",
       "Xilf35HHT1bzfM0HT1Kk6EI05pf+4KwHu+voUsfB80cfyUyxVgTxnq32Iy2/i6SjM9XnOLdqn5RG\n",
       "fX3BqPiOZHjcLZE7JVcL4X72HWkA1n75D/aGWkSyh7xAAAAAAElFTkSuQmCC\n",
       "\" style=\"display:inline;vertical-align:middle;\" /></a><br>(see <a class=\"ProveItLink\" href=\"../../../__pv_it/theorems/7ae42e0287a1a4efbbdf70ff7c2d5ce8ab7261de0/dependencies.ipynb\">dependencies</a>)<br>"
      ],
      "text/plain": [
       "mult_real_non_neg_closure: forall_{n in Natural} [forall_{a_{1}, ..a_{_a}.., a_{n} in RealNonNeg} ((a_{1} * ..a_{_a}.. * a_{n}) in RealNonNeg)]"
      ]
     },
     "execution_count": 2,
     "metadata": {},
     "output_type": "execute_result"
    }
   ],
   "source": [
    "%proving mult_real_non_neg_closure"
   ]
  },
  {
   "cell_type": "code",
   "execution_count": null,
   "metadata": {},
   "outputs": [],
   "source": []
  }
 ],
 "metadata": {
  "kernelspec": {
   "display_name": "Python 3",
   "language": "python",
   "name": "python3"
  }
 },
 "nbformat": 4,
 "nbformat_minor": 0
}