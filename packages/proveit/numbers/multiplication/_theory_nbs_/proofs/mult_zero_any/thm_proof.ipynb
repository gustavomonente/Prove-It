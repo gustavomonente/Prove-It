{
 "cells": [
  {
   "cell_type": "markdown",
   "metadata": {},
   "source": [
    "Proof of <a class=\"ProveItLink\" href=\"../../../../../_theory_nbs_/theory.ipynb\">proveit</a>.<a class=\"ProveItLink\" href=\"../../../../_theory_nbs_/theory.ipynb\">numbers</a>.<a class=\"ProveItLink\" href=\"../../theory.ipynb\">multiplication</a>.<a class=\"ProveItLink\" href=\"../../theorems.ipynb#mult_zero_any\">mult_zero_any</a> theorem\n",
    "========"
   ]
  },
  {
   "cell_type": "code",
   "execution_count": 1,
   "metadata": {},
   "outputs": [],
   "source": [
    "import proveit\n",
    "theory = proveit.Theory() # the theorem's theory"
   ]
  },
  {
   "cell_type": "code",
   "execution_count": 2,
   "metadata": {},
   "outputs": [
    {
     "data": {
      "text/html": [
       "Under these <a href=\"presumptions.txt\">presumptions</a>, we begin our proof of<br><strong id=\"mult_zero_any\">mult_zero_any:</strong> <a class=\"ProveItLink\" href=\"../../../__pv_it/theorems/d09672dc0a278cff8f72c8c9c9d2ae8bd84e31d00/expr.ipynb\"><img src=\"data:image/png;base64,iVBORw0KGgoAAAANSUhEUgAAAhQAAAAZBAMAAACbVaohAAAAMFBMVEX///8QEBCIiIhmZma6urrM\n",
       "zMxUVFQiIiJERETc3Nzu7u6qqqp2dnaYmJgyMjIAAAAcRTyBAAAAAXRSTlMAQObYZgAABYtJREFU\n",
       "WMPtWW1oW1UYfprkNsnNvWl/KNIVIa5aBiqE9cd+uEm1aPGHmk50EwYNYUMmdQTEVruhpcJInYOr\n",
       "4lanstsVrXa6hEmZlW0NjRuoIBH8sY2qAfWHm5TRjeGyOTwf9yP35vbeJI75+cJpzj3vc8695znv\n",
       "ec973gJe0jz0Av79Ehja4Q0K4r8he/6n4i+nIlzk5cbKrGNrROFUlOjPd+5UeGLqlw+00pDMLyTM\n",
       "gW6p4WU6plmxq6S7TwBbORVf0Z+z7lR4YuqXX7TSiERzYoUn/7GGHjpGLNk15zCl4BCnYpxa64g7\n",
       "FZ6YukWO89KQfAN8bT5dqaGHgZm3f0crpBKkGKMiqhIryblT4YmpW4IKLw3JTmBONU7Bcg0npYGZ\n",
       "sGlCSUTKEFsZFfKX09N7PdymJ6Zu2auVhuQS8KixMFLau4OJiXZbNS1JBIjJ/MRPkN8ymR1eJ4gX\n",
       "pm7p0Ep47eoV3qeNFSReIFTEjMmlOjzt1cRItk2ZjSOwBBQ4FVuAMcDHMT87U8ExHla4WFsbk91a\n",
       "uU+Jngc2uo/MQR0GM1eBfoOK7FnxMgR3R8YwiJJjR6Z+U1pkQme8Pw+BUPE9p6KH+VWBb1xOnvDs\n",
       "57gtWUFFj4PvrZKCV1vk1adSWnU7L+Kt8I/gsTV8tR36U5fAQXhSx4SJVfTnNSX1GktCV3q5AUQd\n",
       "Q15PP8G2nfbHIRBmj3AqgvBZQp2DhXX4VFL9agUVdoyjnHNpE492FcWNqvCr9nwTL/4ygmR9e/na\n",
       "VbMtXoMBMjD6BmFK3AvxKgLpZQbgbQzDF/m84wbp51RIRUs8Ke/ap+JYLC5VbhAbxlkuu7Sdmp2G\n",
       "/A5w1EpF0wiyCZ2KYLK6/yAMkIkhbnMupylJyED8HqfCaQDWxjCOVBC3GbliUBEuPUE2dSdbBOJd\n",
       "emhlZuZ1CxUMg8nOalcirt6mfaaw1KnatXpbgO7LB2bIQNYNks1jDjoVy+50BrrfnGcG+MF41e/U\n",
       "agLuxwjDHLiHfkja9BV0wNAI5DL/AHoHGdtMtC10bH+gxIPsGenjTZY7CMWIzwmk19PWt0wl+lVE\n",
       "ac03TFyvTcvaSLTLAGdOV7nNbA7byA3AgwoGypedQ6yLmCh6UcEw8Ueguc2qEEt3m/iEjLOPOg58\n",
       "KCVFdpLMIF+wUEEx/riQxibb2deFDZpvCsXkkl1L2+jvJP3z2azVnRaYflCyWAVzBtd0N6EPMiiF\n",
       "D5qzDebEm42HZ/AyKqlg/YxRTIyonKSLnbextB0TxKrXalS0UJ80yt9aFJ7PZEYJFe8GLVRQTFPO\n",
       "R2xq2DpUOzq1WlO3P2nXsjYiGzKZTOztx01FLy9i6o49t1uoYHt7UHcTfHIMFIqZs53vNK9jk3cV\n",
       "LVSwfuYoJoZZYjRho+KjlVu0GIJSIZO9IZYZpkVBkltFYL2FCorJKqEzqm2y5LzePR1ZyfqqTTk7\n",
       "FbRNXiA3QvrgP2Ced9bAu7eGoCz7nltMU0PIyVz4lKNGTFfkKyKlfPgVoA84QR+/BRaq8hVNSv/D\n",
       "1CoIcFzV/7QJF4sR4mrH1aB6itmMqeNtb5LXSwkWNCaM65D1Onakhokcl1yUkRqoEFodrmNaDBqr\n",
       "oEIcUIR2YBXZI+SYCrzYzRfSQkUgdXgdnSwB9ilCG/3Tjgfv7CjSYLQvJwzkGRWk1qYBeBs9k3Yx\n",
       "Y1zcadjnGMwA9o2XUt4zef8Ll8h8zaWY5wC+ESwXKB6yZ7Ei3GOsyoy6ZbGGedhmdGH21a3HqcNG\n",
       "xGrGrjTb4SO+4vqlbhoS6mxCzpfhMTsVs80PrfBM6K2/kKtIi2m1lKolxag2olgTZc45nxue0Nv8\n",
       "GnF3p52TJ4qdimLzSaWm3GbRoSYvVwu/VcLfQQa2Xoc075/7P4hcUPAPkMDQ4B+sz6q4xkDIvQAA\n",
       "AABJRU5ErkJggg==\n",
       "\" style=\"display:inline;vertical-align:middle;\" /></a><br>(see <a class=\"ProveItLink\" href=\"../../../__pv_it/theorems/146c423337ff0476173f26fb5b2df728dfc627a40/dependencies.ipynb\">dependencies</a>)<br>"
      ],
      "text/plain": [
       "mult_zero_any: forall_{i, j in Natural} [forall_{a_{1}, ..a_{_a}.., a_{i}, b_{1}, ..b_{_a}.., b_{j} in Complex} ((a_{1} * ..a_{_a}.. * a_{i} * 0 * b_{1} * ..b_{_a}.. * b_{j}) = 0)]"
      ]
     },
     "execution_count": 2,
     "metadata": {},
     "output_type": "execute_result"
    }
   ],
   "source": [
    "%proving mult_zero_any"
   ]
  },
  {
   "cell_type": "code",
   "execution_count": null,
   "metadata": {},
   "outputs": [],
   "source": []
  }
 ],
 "metadata": {
  "kernelspec": {
   "display_name": "Python 3",
   "language": "python",
   "name": "python3"
  }
 },
 "nbformat": 4,
 "nbformat_minor": 0
}