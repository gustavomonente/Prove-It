{
 "cells": [
  {
   "cell_type": "markdown",
   "metadata": {},
   "source": [
    "Proof of <a class=\"ProveItLink\" href=\"../../../../../_theory_nbs_/theory.ipynb\">proveit</a>.<a class=\"ProveItLink\" href=\"../../../../_theory_nbs_/theory.ipynb\">numbers</a>.<a class=\"ProveItLink\" href=\"../../theory.ipynb\">multiplication</a>.<a class=\"ProveItLink\" href=\"../../theorems.ipynb#mult_neg_any\">mult_neg_any</a> theorem\n",
    "========"
   ]
  },
  {
   "cell_type": "code",
   "execution_count": 1,
   "metadata": {},
   "outputs": [],
   "source": [
    "import proveit\n",
    "theory = proveit.Theory() # the theorem's theory"
   ]
  },
  {
   "cell_type": "code",
   "execution_count": 2,
   "metadata": {},
   "outputs": [
    {
     "data": {
      "text/html": [
       "Under these <a href=\"presumptions.txt\">presumptions</a>, we begin our proof of<br><strong id=\"mult_neg_any\">mult_neg_any:</strong> <a class=\"ProveItLink\" href=\"../../../__pv_it/theorems/f611d3a8b60495e53cc85080b5978a647cf7c1d50/expr.ipynb\"><img src=\"data:image/png;base64,iVBORw0KGgoAAAANSUhEUgAAA0QAAAAZBAMAAADjz/OpAAAAMFBMVEX///8QEBCIiIhmZma6urrM\n",
       "zMxUVFQiIiJERETc3Nzu7u6qqqp2dnaYmJgyMjIAAAAcRTyBAAAAAXRSTlMAQObYZgAAB1JJREFU\n",
       "aN7tWn2IVFUUP+7Mm483H+sfQa4SjLtZUkmDS2poNSUl/aOzRX5E4LAoYZkMBWul1LRBjZnxSljN\n",
       "UkYlzbXcgVhsw3JyyyjdGCooRWXAD0jCJCzaMaV77r3z3n0f897bp+P6hxfum3fvPe+8c87v3nPP\n",
       "O3cAHEpg5Utwo4xa8a9c7UgTvGGm0S09owpRuMyqt7JZ14ooHtkMOLLefI1BQVWoOgMMogr+HLeD\n",
       "KI4/sXIDZPmYV09Fzml8biaXZR75BBQ71qbWCAR8LetRpGW8UtF64BD2nbWDKFokP/FCAyD6nVdP\n",
       "JS6Y9iSpe7xCXbFlbWyNRMKkxwf38EpF64GN6HBydhDR0Y0NQCiWZNVb+Vm4v0hqNOGR0QFb1sbW\n",
       "CEpz0eODqApV5wCFCJdHtGi7F+EaO9QAiIIKq96KEGj6qzjlxnpktNWOtak1gjLPq+dBVag6WylE\n",
       "sR96ezfYhwvHent3ZRsA0QZevYUagkRRen/Kqz9K2bA2tkZSvvNsmVO8omgkovs3n19tD1FzPv9m\n",
       "qQEQtfEanjV1vDMkBqImwUPGO9uIHxgUMGud5MLBtaYZsdHXNiVNrfWDE52XhJHoTOtM89tsHVxN\n",
       "7EFeUTQC0VKANfYQBdIQUhoA0TpeH1Ti5x2JjUQhIcTsOysPA5zQ4FwF7ziv4WKIBQox+vPjOSwn\n",
       "jaxZy98Cfzp/ZRqI5MuFPsX0NrtZqIp9glcUjUA0mwYOfOactoLIn3QRLs2tjBiiVazKt4CPRCQL\n",
       "mV4WdDg1OVGbShMU9s/9BfgLYK82VoJnQcqpDxtdPb2uhkCRKhwxerJg0djaWoYZ4MSRETFDIk2k\n",
       "Cs2JGj19m72KTGyIp5kqWFG0HsSgicwTieHNhJNe+AYmZrRP1yxMcV6kLkOzyNtPd/Lbm1j1VSGY\n",
       "gMenswVhRlq+DDUiWKTSjCFueg+d+afhfpD/A1isjj1ANJbas+rDhkJpfNWawpJxCYusWYswfN6R\n",
       "IyVihmQiV6CvpIkPTipSsYmBgKmCFUUjEEXL+gTC7sH74PNowVfQIBoC5y0z7hxhyvvay/LCgvSH\n",
       "HqIxOegjM2cOe13G/FwXqEQazZiU+Fnkv8ghomPjqN/Jqg8bV0mGMeTFEiJ9axzIfztyZESayOSz\n",
       "aF5REx+cVGRi02KAKFyZr/tYWbupAF8mklEhAbRFyjh/BDjvVr8N9ELsQ4B9ekdHptp+Vf56hRNZ\n",
       "e6NLdJaqDHBJqQa1YVjbQ7LaXnTG0tERhpHzThw5kWCRMl8X6tvsVWRiQ41wDhcNc3RrlpD72ygR\n",
       "CYxm401//3siRKEeMpPkqSvMMYnWubj1GRa4WIVOzBToCh/uJ5NCHy70FWFFRHGCiBI9lLEMFy7g\n",
       "PiCEC5fQXThARAwIRVSYhwt1IhHaki9CoDLgBBElYoZkb0iRDVR8m4OKTOxtM83hAnxG3hxtRrx9\n",
       "/grL2fVHP31KgCiCTnRnenEBAoa9knbSJN7tBdzKg6kOEw32YcqJkh09og3w0DKUiHVFdVMMvTV1\n",
       "z5rbZkSlquXe9xy8Tq6z1PY0kO/RGdSCoS8D29OoMPhKttsqtrrh10xJ5Kgx0zhSImZIlvwrh5K6\n",
       "txlV1MQSxE7O5apgRdEQIgw7NtFwaFc0I1Ou/VAaFCDCeAnaYQFIXxvMj50sROmmsM8AyURD+ujv\n",
       "drx8ISSW+XKWOyf13KqDiHrrLp3bpkTh3ZqRRAS231XWRaPRoZ/0BBYM4fDxBCrMQih99Jw1tna0\n",
       "LupM6fpVZhpHSsQMyT3MEOjeZlJRFUsTW1YOclWwomgIUaxALcwWtfRiPt9NINocFCE6SuoEIGs4\n",
       "aDA/7eR7/zTatqJhZUE+n0988ES9BNAcF+FgKFE/LyNn7QxdjyHBdqfbBJArjt02Y25URNePqlB1\n",
       "doJ2XiRX03zPz7BV5H9MhAgphmFdr9H8tDNCt5oqhWLYAiLsO05WbICu+G3ah4E+jepG/r6P6mc3\n",
       "jWlUVwbFIMd1GtUNR27IK4Bo2JRG5V8rlVL4LQCyaXyLzV8AjhkgghbpQhnNT+g2FmoX7IzMxr6X\n",
       "YzlyPQU+CpFKwfrCT+J+l6Z5nLRmkzUgZDb2uhD/q6iwABRzBl/3AeYGog7Lwwg9a7XlhiMxZP1B\n",
       "NypKY02HERz85YpEVsFkIhCJcfyvpNicFyF65M42ChGh61CkFrxMYJ1LsW/+Ybyun3IHhaijyCha\n",
       "eB+N5tYim0/OvaHOM/FIb/2rnc7y7/hemK85/ZghixWe/o+L04nJYJXbsj7Sc8WRGLJ+Ds+Nik05\n",
       "beqGFNAfjEeYI52c7zYkgMRWgX3+qk/QTSDF7yIqDRT1NPS4o4nsRXozXsWD8ZinLCJR9Ygj62t6\n",
       "ME62W1SFqkNFEyEaCDw63jKNKqzCu2eKh/38rrPA7wZUGu2fBGykIYe2V1wsFR7dsuRdo6VEiMqB\n",
       "g4oDRIyu7p3WjulH3t8C1yVEB5XrTaTlpr9guPgH0NX4H92xe+FG8VT8K7v+B2rKQR1I3VhWAAAA\n",
       "AElFTkSuQmCC\n",
       "\" style=\"display:inline;vertical-align:middle;\" /></a><br>(see <a class=\"ProveItLink\" href=\"../../../__pv_it/theorems/21ae7984531e632aefdcad038827f54ad90b066d0/dependencies.ipynb\">dependencies</a>)<br>"
      ],
      "text/plain": [
       "mult_neg_any: forall_{i, j in Natural} [forall_{a_{1}, ..a_{_a}.., a_{i}, b, c_{1}, ..c_{_a}.., c_{j} in Complex} ((a_{1} * ..a_{_a}.. * a_{i} * (-b) * c_{1} * ..c_{_a}.. * c_{j}) = (-(a_{1} * ..a_{_a}.. * a_{i} * b * c_{1} * ..c_{_a}.. * c_{j})))]"
      ]
     },
     "execution_count": 2,
     "metadata": {},
     "output_type": "execute_result"
    }
   ],
   "source": [
    "%proving mult_neg_any"
   ]
  },
  {
   "cell_type": "code",
   "execution_count": null,
   "metadata": {},
   "outputs": [],
   "source": []
  }
 ],
 "metadata": {
  "kernelspec": {
   "display_name": "Python 3",
   "language": "python",
   "name": "python3"
  }
 },
 "nbformat": 4,
 "nbformat_minor": 0
}