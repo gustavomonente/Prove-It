{
 "cells": [
  {
   "cell_type": "markdown",
   "metadata": {},
   "source": [
    "Proof of <a class=\"ProveItLink\" href=\"../../../../../_theory_nbs_/theory.ipynb\">proveit</a>.<a class=\"ProveItLink\" href=\"../../../../_theory_nbs_/theory.ipynb\">numbers</a>.<a class=\"ProveItLink\" href=\"../../theory.ipynb\">multiplication</a>.<a class=\"ProveItLink\" href=\"../../theorems.ipynb#right_mult_neg_less\">right_mult_neg_less</a> theorem\n",
    "========"
   ]
  },
  {
   "cell_type": "code",
   "execution_count": 1,
   "metadata": {},
   "outputs": [],
   "source": [
    "import proveit\n",
    "theory = proveit.Theory() # the theorem's theory"
   ]
  },
  {
   "cell_type": "code",
   "execution_count": 2,
   "metadata": {},
   "outputs": [
    {
     "data": {
      "text/html": [
       "Under these <a href=\"presumptions.txt\">presumptions</a>, we begin our proof of<br><strong id=\"right_mult_neg_less\">right_mult_neg_less:</strong> <a class=\"ProveItLink\" href=\"../../../__pv_it/theorems/75613464efbcf9f3061854596ff38dc69fd40b2e0/expr.ipynb\"><img src=\"data:image/png;base64,iVBORw0KGgoAAAANSUhEUgAAATwAAAAWBAMAAACvaz3RAAAAMFBMVEX///8QEBCIiIhmZma6urrM\n",
       "zMxUVFQiIiJERETc3Nzu7u6qqqp2dnaYmJgyMjIAAAAcRTyBAAAAAXRSTlMAQObYZgAABChJREFU\n",
       "SMfNVl1oHFUU/vZndnZmZ7MiCLalsO1qDLGFkKAUSes2hRaLrVsf/HnaZVE0RUMoadHSSigYNpXK\n",
       "gFBLQRxbaTFGd1G01AcdEkRcSx1QCJVW5qG+iOIiFkyq4rlzb2ZnZ65NHlb0wLf3zplv53733nPO\n",
       "vcC/Ym8IROziP5DDljE5XPZwrcvq9EmOqKVMKTlqoxxfsf6PXZbXY3JIhLtSctTe5zhFjTbZZXnf\n",
       "CEhsjg/udJKjZuQ99FjUNLos70UBib3FF/GLfAdZssy3ecg2Z2Ze77I6bZxDuu9F3t7TDJBldp3j\n",
       "91rtSJflxQc49I2jI3Nt0cODa2mnBsTjwgNt8plBaGt94mvzG2hL5+HhaWB65RGTqxA1Z4te2uGY\n",
       "xUL+Jf/9drOnBWT93Ph01Cfb2xFv+UOtwS/UfM+xQ5ZNy9XnwNQ2HiTpzhe7I9TduIqPRV9tcDTx\n",
       "tfUQiyMvmNYjQSmYae/l3v2CrDW2Ic3S0/Ki08EWai5wqIg7Um3vzm9F3jbOSOQ9UQmTyTOBnMUf\n",
       "YkUOCzXvuc7mn1iCSlNVWm15xwVZx+3I0Tv9L+Z40MIBasochqNK1WVfOW2RvOx7UXknI9FAHv0G\n",
       "Yo1OecCvfDXZbGKTqJeC8sTmMmJyCWV6h0PMcSf7lC9Pcx+jztneH7yqdF8v0ZK9UK0d7JnkzQbk\n",
       "GYVHKVTPvkzdkQoOsy0bHCtxj7II1encXCg32jOo2/iMRdZ4KDUYMeFig19R/kCGTWGXwPRT5Duo\n",
       "LLHotsZUmoyRs/bx0y5vJ4YC8vpT7gRmWcrDXlKoMuF8qWxxj8I3L5gan1C89/vyGhijU3Q5NfzC\n",
       "4pErmPLl3UTKveinBj6k+SQGFDYrBT8zxuld6NO9ApC//5liQF6px4Gy3qsSb4/HWTAP4XHhodWL\n",
       "CXmseBCSN9MtzY/rdD57yKCR7FBZZuREJfmnv8zHsFAh0jA4WFDGGnEe7Yve7zCqygu12jHkv9wc\n",
       "lIccnY+XPU/CTrER1qFXeChgcqLksg0k6NX+QvuyoVfvPnkXleVS6FBjZL1aWPQd5zY+WaUPsWBj\n",
       "yFK+1c30dyztlJbCGBO4AxW+uR81g/LKKEHfwkZQizFq9EWcmBGedube6lA7Lz0BWfSFDrVxDp4+\n",
       "ZnkPTllvGq5BDQ4mW/icyzMCqaG1LoOWXXuW1lAtPQLtONYovznCU/Dr3spXgtD9YQz1ovxKIFa4\n",
       "+sFW7Guc+3auSQ129rlIU0ZljvykD7m+PP35hzexBdKmTPrHq1DWYee9BUd44pcG/DgzOVZ1oSLi\n",
       "UQo4+YUqaKJsNXSTpVNfLfCfzrKsTOMdnCD5Qc+qrqNp6XV0pFAKe6cRPmwzpmhS9t7IZ8OO55Ku\n",
       "/Gp+68v8lVVe5rMmR9C13CSv2ivK23OJfhz8Tyzx3wz7N5K3JVjXATqvAAAAAElFTkSuQmCC\n",
       "\" style=\"display:inline;vertical-align:middle;\" /></a><br>(see <a class=\"ProveItLink\" href=\"../../../__pv_it/theorems/6fa44a9fb0828a310e9ab196118fcbaae259424a0/dependencies.ipynb\">dependencies</a>)<br>"
      ],
      "text/plain": [
       "right_mult_neg_less: forall_{a, x, y in Real | x < y, a < 0} ((x * a) > (y * a))"
      ]
     },
     "execution_count": 2,
     "metadata": {},
     "output_type": "execute_result"
    }
   ],
   "source": [
    "%proving right_mult_neg_less"
   ]
  },
  {
   "cell_type": "code",
   "execution_count": null,
   "metadata": {},
   "outputs": [],
   "source": []
  }
 ],
 "metadata": {
  "kernelspec": {
   "display_name": "Python 3",
   "language": "python",
   "name": "python3"
  }
 },
 "nbformat": 4,
 "nbformat_minor": 0
}