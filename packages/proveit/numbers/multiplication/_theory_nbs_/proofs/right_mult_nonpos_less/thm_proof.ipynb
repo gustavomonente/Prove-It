{
 "cells": [
  {
   "cell_type": "markdown",
   "metadata": {},
   "source": [
    "Proof of <a class=\"ProveItLink\" href=\"../../../../../_theory_nbs_/theory.ipynb\">proveit</a>.<a class=\"ProveItLink\" href=\"../../../../_theory_nbs_/theory.ipynb\">numbers</a>.<a class=\"ProveItLink\" href=\"../../theory.ipynb\">multiplication</a>.<a class=\"ProveItLink\" href=\"../../theorems.ipynb#right_mult_nonpos_less\">right_mult_nonpos_less</a> theorem\n",
    "========"
   ]
  },
  {
   "cell_type": "code",
   "execution_count": 1,
   "metadata": {},
   "outputs": [],
   "source": [
    "import proveit\n",
    "theory = proveit.Theory() # the theorem's theory"
   ]
  },
  {
   "cell_type": "code",
   "execution_count": 2,
   "metadata": {},
   "outputs": [
    {
     "data": {
      "text/html": [
       "Under these <a href=\"presumptions.txt\">presumptions</a>, we begin our proof of<br><strong id=\"right_mult_nonpos_less\">right_mult_nonpos_less:</strong> <a class=\"ProveItLink\" href=\"../../../__pv_it/theorems/8dc66d9d2db570fd1da9c6cbd2339a086eb2ad2f0/expr.ipynb\"><img src=\"data:image/png;base64,iVBORw0KGgoAAAANSUhEUgAAATwAAAAWBAMAAACvaz3RAAAAMFBMVEX///8QEBCIiIhmZma6urrM\n",
       "zMxUVFQiIiJERETc3Nzu7u6qqqp2dnaYmJgyMjIAAAAcRTyBAAAAAXRSTlMAQObYZgAABEpJREFU\n",
       "SMfFVm9oG2UY/yW5y+UuSTMGgtsY3BatpTopLeqQbmYdbChuZn7Q+SkhKLOgoYx2Op1ShpZ0MjkQ\n",
       "6hiI5yab1rocEze2D3q0iDOOGZhQlDkO0S/+wSAObKfi8957ubvkbluFyB745bn3vSf3/t7nz/s+\n",
       "wP8ibzkIyJlrGLdLUuOw2OC7DrNTxjmCEtdCjYMyzPEle/6pw/S6NI4Q4rY7cPz+VuOgnOA4REoe\n",
       "7zC9iw5CZJarT4ZbjIOSUm106aSMDtPb6yBE3nH09qf8xiFuXmYjXZuefrPD7OQRjtC455yHna94\n",
       "xmHyA8eflcq+DtOL9nEoa4eHZj3Sg/0rKVJ9zfHUz67xkX7IK13DN+bWUEjnYIOcPHnjFYUlkJo1\n",
       "nadEnWMG8+rL7vtNWlcDSFsejb1NY3MTog13qRX4jdRljs3Nago7fXZPbFT5iq0vHgpYjuMSTjkD\n",
       "yeCo4Sv9QZZHdjKtRoxKMOnFcr7PMZaNjUiw8tTt7KxjPanTHBKi9VBuH8xtgGqmjoTQ21lsZ/c9\n",
       "MIqMzkeRHIeOij2usv3HFiHRVkXXS3fUmsYKliND75R/2MQDOnaTKnCk6lIou/Rrh3Wil/4wSG+q\n",
       "PRvSv9K3ryBitNIDfufeZLuJjKOa9+gpn6uesbCIAr3DHjZxK/uUS0+2HqOHo90/2qfSPd1kJnRD\n",
       "0jezMdGb8dFLZR+lVD36Kj0OFfECW6W/nEeU2EFcgFRvDS7EK94WqiY+ZZnFgyvfV/dlQszCGvdE\n",
       "+QtJtoWtDiafpLkxcZFlt16WaDOpjL6D33aqGRvw0euNW6OYYSUPc1Fcxo7/fEEXXmQTIg+evzTO\n",
       "Ur73uvQMlOkW5aUhl92j1jYuYsKldxVx64xbGviI9hPrE9muRDA/4PBW9Ch23qr37sr56OW76hBX\n",
       "299/dyTKknkAj0M5l+Peizj02OFBEK4mGrKb1wk1vSdFK9nl/V7Oux7IOFYU/nYn9mO+SEaD4GBJ\n",
       "GTGiPNsX7N9BlMTnK5X9UL9Y56eHDN2PF+yZmBlnZFahmzZ8zrBzL+MsygJIUEq9Wa/ZUEq3T91G\n",
       "x3K+/cgaYe+yC+7EsbVPlOhDLNkY0lRvVS3xLSs7sSEyi1HcgiIP7sc1P70C8lDWsxWkXISUsoCD\n",
       "0zS62/BX7vUuteOhNyDLvrZLbYSDl49W2IZD+tspK0UKY0IDn3F6KV9pyI0LILfLT5MPpfwjkA9g\n",
       "hfiHHb7LdWTdc28JLUFr/1BGNRfeEjgeLp3cgB3Gsa9na6SwpcdCghyS3PeLMmC59JRnH76LOUie\n",
       "0Ogfr0NchS13Znl2nUX0vHtfJTSOazZUJ55jMtY0fokSLryh8otTTYaisXLqqfj+03osi5N4HweJ\n",
       "/n9uRxOh7ehQtj0j7Yt2MtBA2ypubg98tn3iGcEKb82v38x/s8RmPq1x+KeaSrhk3pDetvP0w+Oa\n",
       "rJAcwM2U2M1Z9l8MLitgDSogMQAAAABJRU5ErkJggg==\n",
       "\" style=\"display:inline;vertical-align:middle;\" /></a><br>(see <a class=\"ProveItLink\" href=\"../../../__pv_it/theorems/6ca2b288b2e404b06d616df5143a0db732646e470/dependencies.ipynb\">dependencies</a>)<br>"
      ],
      "text/plain": [
       "right_mult_nonpos_less: forall_{a, x, y in Real | x < y, a <= 0} ((x * a) >= (y * a))"
      ]
     },
     "execution_count": 2,
     "metadata": {},
     "output_type": "execute_result"
    }
   ],
   "source": [
    "%proving right_mult_nonpos_less"
   ]
  },
  {
   "cell_type": "code",
   "execution_count": null,
   "metadata": {},
   "outputs": [],
   "source": []
  }
 ],
 "metadata": {
  "kernelspec": {
   "display_name": "Python 3",
   "language": "python",
   "name": "python3"
  }
 },
 "nbformat": 4,
 "nbformat_minor": 0
}