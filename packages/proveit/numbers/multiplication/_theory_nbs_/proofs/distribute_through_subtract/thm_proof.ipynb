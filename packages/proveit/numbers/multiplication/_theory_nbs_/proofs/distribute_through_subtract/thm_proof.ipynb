{
 "cells": [
  {
   "cell_type": "markdown",
   "metadata": {},
   "source": [
    "Proof of <a class=\"ProveItLink\" href=\"../../../../../_theory_nbs_/theory.ipynb\">proveit</a>.<a class=\"ProveItLink\" href=\"../../../../_theory_nbs_/theory.ipynb\">numbers</a>.<a class=\"ProveItLink\" href=\"../../theory.ipynb\">multiplication</a>.<a class=\"ProveItLink\" href=\"../../theorems.ipynb#distribute_through_subtract\">distribute_through_subtract</a> theorem\n",
    "========"
   ]
  },
  {
   "cell_type": "code",
   "execution_count": 1,
   "metadata": {},
   "outputs": [],
   "source": [
    "import proveit\n",
    "theory = proveit.Theory() # the theorem's theory"
   ]
  },
  {
   "cell_type": "code",
   "execution_count": 2,
   "metadata": {},
   "outputs": [
    {
     "data": {
      "text/html": [
       "Under these <a href=\"presumptions.txt\">presumptions</a>, we begin our proof of<br><strong id=\"distribute_through_subtract\">distribute_through_subtract:</strong> <a class=\"ProveItLink\" href=\"../../../__pv_it/theorems/aafcd3dbe335d84f2ddfe4b5ad9f8620601a55aa0/expr.ipynb\"><img src=\"data:image/png;base64,iVBORw0KGgoAAAANSUhEUgAAA0gAAAAyBAMAAACUmObSAAAAMFBMVEX///8QEBCIiIhmZma6urrM\n",
       "zMxUVFQiIiJERETc3Nzu7u6qqqp2dnaYmJgyMjIAAAAcRTyBAAAAAXRSTlMAQObYZgAACr5JREFU\n",
       "eNrtXH2MG8UVf+dvr+1zVNHQJP1wcjSK0lTnJn+kEiExRO0JqfScIApISGe5RFWqI3WhSpvw0XCV\n",
       "wBRo3dJCkjZlc7SEO2hsVJ3SQ0BcrgUVCrFEJShKi6UQpNLqeiQEcXeh6byZ9c7ser279u6ZVXUj\n",
       "3Xk9++bt8/xm3rx587MBrMpnLpyHbpR4BhaLUKQcez1x4V1r4RUHDnbFqL8s4qItX2UvYweetJb9\n",
       "eHdM8uUWYdGWRF252OYZkJ501PpQpw2jtVZ3YqUOVU661SX3eQ0k6SJHrfd12vKx1rd2ClIX27Dh\n",
       "zgK7CJVc6pPDGY+BFEk7ad3bcb/8s/Wto8L1KTtGKB9BqrvUJ7ElHgPpuOyk9asd+32TsRFP8et5\n",
       "G7qSFeXiObc65TaPgXSLo9Z7Om0YNpmC0hL1MjBnQ9dgY5wddm3kljwFUmLWSetoodOWD5ndfItP\n",
       "KjsPeEH1e27t+MJpT4EU3uektQ8/zANTK61dpl6oj/yNrv7ZupRGanQ9RJcDTPHlJt9XsdT99qpL\n",
       "FUjTbg3dOU+BNORo8EVIHB1YBv8BCJqDzYR8vBPvJ16tmrg5rF3rq5eDbwbgH2pF+R1p1kq39F+5\n",
       "TNzT6cYG55VpLKecfC7pjKdA+oKzeUiG+eEafBGCG5hfMphSEl0tUAiCJVXmVjLu5fhcQLM0RSub\n",
       "IUIQOaa2I2HNGSvdsTlIkglJTIkV3OqWaU+BtNRR6x4yD7fIcDOZKgU2qJtlyji8mRBwmYuwhyNs\n",
       "ihylQ/801nyM9veQ2m4zSOetdPvrUK7St8EZt7qlv+QhkIIfOgbpEyCda4AEuw1mWw4aQsBl6BY6\n",
       "mdJ7xTkYyiog0XanIDBvpZtskwYrLoP0cM1DIPlmnbo7MtJjMypIrXw8FQqs5jW30gUxq5Mjk2Il\n",
       "eRlQKz4E/5yFbkjWyESVMMBggmxNetvZ6Mt5CKTIEmfNayDNQ6g+aQUSFYonZTFwiMn94NMuNJEc\n",
       "3AVi4PAermZWIGWkT4E/UBcyo877peAhkHocReA05h2B13JVsSPp4oGrhbCKUKGDx3hLEmUPVn6s\n",
       "z8/6cwH0v5vUipvgB9pZquotq4CEapE0jMXJ2PdX3eqX+AwDiT7k76Yg9dKYvbaAIJWd7Syw+x5d\n",
       "dX0+o+nI3Y3Vgq8iTGiEywxg3ehlus8m5fvQ/55WKx5ZV9OCpOqlF6zR+peV3UBv1rU9/jkG0kv4\n",
       "8o4pSHFcD3vlBQRpKOWs/R4RLsvdx1zWMi3kx5lSaB4KliVJFB5xL6A6w0DajxuDfaYg0dv7F9Ld\n",
       "Ha84a68mWO1sUWJ17o6ME6y7oJzRJljt6qbrh2sJVpDOMp04Q+IV8zUJJ9pLCwnSmw4dRESZENGN\n",
       "71vPSWlYmD73GEncTj3iUW2lLd2wxsWjClLeZyAlXhwff8gicDg5Pj5WWEiQ+h2ek7l86HdFX7YV\n",
       "flZlhI8YN8oHyuz8oFi8zQKkZLF4d3UhQTrhdMFbgOPzRAd9HbpyOcDfXOyYTysg7aBjRkk6njYE\n",
       "KZRte3gEpu3VsbJlIaOSLpbQ8yV3FV6sgLSVOlGWdAQlr3HLH2FljoMUSOsdtHWZsqqL3feNfOP6\n",
       "W7BYDMu3FZDC4NNM+cenLoPfx2W/LGxmC/D5dtX/y6ROenpDTbpODv57ESSbIMVrYY0rvvegDM+k\n",
       "0nEx4/AytB03zJrUvT45DolfAjz9/+buXC/fVUCK1r8GStIR04Nb8WJi4qcakH4VzOGWeldzpMwr\n",
       "433bd2BklIO9dBu2Wm7emrG6AK5/X5ogj1YDh9IiHqaBA9xzI+lhmnTE9CAN8ifiv71BBCnyINnc\n",
       "HckOyRDSdT2tpHmjtaH6d8hLdS6I2VLfXhKKfFMrS+tCJSb+hhgE9Wd1kdqhrneHARey+0ZMgo5b\n",
       "ubQB0u+IK2NJx7F4TqJR3gRUp0SQYhvJvw1wLQT/oAMJK9nJZLYXl7borws+3LREUon6Dct1W84U\n",
       "yw8/gv+eEo15M6Pd83S+79HM8jsLbcjsdG/z1aYNnHuJvEoNt/JsAyR65sWSjpFa8HvF4ggB6VBY\n",
       "BAkwh7QCiE8M60CilTxthSngEOrryfiZ3xMKrSPl2mKxmPrFNWJaSAAJiY697ri/3nQbMk3xqztG\n",
       "2LFB5V5inC0mLKTzDZASspp0JP2cYzMpsF0D0htEZBbuH9eDRCtjq+j1EKCOcKYHX5JyT0UPEtYl\n",
       "TpKxQsEcVWYgbSrEl6+CA7Kj7oGVNmT0qTqXjLBjA+dePgea1F8jwap45Ho1+kP69k/49q8AJzUg\n",
       "YVkWfK+GIBHB/XLjH1bGtpK66MwrgDrC2UEgt8Ly64AgcUlW9/MjpDsQxeimLDcnKQy3PeCA7Kgt\n",
       "g3IbMpL+4HFP12zg3MvDoOFWxuZFkKThUnAFTQ9G8Pz3jgwb7hqQvvy5PgoSEdxWCi7DfytY5Q5S\n",
       "J930lXUyqQjkf0TUVoLDVQoSuVqmiLM6jB7vRXVPTN+lhgthPsWR6Bh1KVH4Qlsyb+kSRoWu2cC5\n",
       "l8irFLiV8VkRJAobW5nWFEf0aSGhoLuLiU0Q4UKmUReDMTySVjIXe9Urns3AbLqPrEkarX5O3cD8\n",
       "lH2yY3TTek10Iq3aeQV3Fypd0aRwGV2OpHMjFG6lfRs49xLPmAVuZWhGD9IkTQ8a5e4EJ9l/qRgk\n",
       "Kld5uXE1CcN4ys/i2e1nK0Jkq1wZni8mONcajzZtkx3h8lLvDOOhsvIEvJa6Q0WM0hWvM4++VEqj\n",
       "QGlQDenMCIVbadsGxr2kB7oY/goUCUYrEEGqGacHmzkOtdZXNbgKv1aZ4N2vvYoeqBtZGeTfWkCi\n",
       "ox2yI61D6gf5HNerMi/CCflKEOmKV2801cApjXBMe9c241JvRINbyfUrNkjQQgNyL5lbwoNF4XDx\n",
       "4ZQepBbFVSJKYso4rl0qxOn2yI60zj8H4ZTwnvRLkY1NHAuMrjhgrkGlNFKanUR5WNNZaINxqTei\n",
       "wa0U9A9waSMNm5VYm1H2BNqep8iRsKUJJCuyI60j7qCcFd4rOzoNXXHAVAOnNDIuJGgMscW4bDJC\n",
       "4VYK+ge4tJEGyr00Aulu8BJIgxmdu7NFdsRBepymC7njPCdsUZCuKFAcDbcxKqVRL9i5EQq30rYN\n",
       "jHs5igEGPkp4nLcI++G0LnCwRXaEcgV2xUpVHnY8RVbstWoHIV3RCiSV0mgQOHRohMKttG0D416m\n",
       "8ScBtIGDz1tffeHhXSMIbSI7GhESI6nE7nj0cVUoMB+Z4QfilK4odpAppVHgQqqGGDMuLYwAhVtp\n",
       "bIMRZxO5l1LpeWC8Ss6tZCxj73wd85NqPxdakR2NCIn5zz54Cekl/n5tHyd6MrrigLkGldKopw60\n",
       "ZlxaGNHgVhrbYMTZpNxLur/EMJxzKz32dUzhi82atJAtQmL5N2Z3B+wk2ErNXEgnRvjr7dtAj0SP\n",
       "gMitVPKungGJJ4s1CVZbhMRn42Z3j9nQsM00wdquEYxb2a4N9BhOk2CNLfcYSFH1MchLaovsCI/+\n",
       "2eTmA9/PW2tYAwZHFR0bcTuMdGADHsNpjyo892MbfLC5d+hnv2CnNnEhOzaCcSvbLbioiQMU4Ovg\n",
       "NZD86kLc9eNzmrNMfMTH5zf+RGa8SpVWkNhnH6Ru/ZRaHj6q4jqlsZMy3HR8385PqXXrRwn9GVgs\n",
       "ordVaDwnLrz7P0aIZQvLi7vOAAAAAElFTkSuQmCC\n",
       "\" style=\"display:inline;vertical-align:middle;\" /></a><br>(see <a class=\"ProveItLink\" href=\"../../../__pv_it/theorems/b96c13c15677e14eed6ab91735a8fd88cb4f46a70/dependencies.ipynb\">dependencies</a>)<br>"
      ],
      "text/plain": [
       "distribute_through_subtract: forall_{i, j in Natural} [forall_{a_{1}, ..a_{_a}.., a_{i}, x, y, b_{1}, ..b_{_a}.., b_{j} in Complex} ((a_{1} * ..a_{_a}.. * a_{i} * (x - y) * b_{1} * ..b_{_a}.. * b_{j}) =  \\\\ ((a_{1} * ..a_{_a}.. * a_{i} * x * b_{1} * ..b_{_a}.. * b_{j}) - (a_{1} * ..a_{_a}.. * a_{i} * y * b_{1} * ..b_{_a}.. * b_{j})))]"
      ]
     },
     "execution_count": 2,
     "metadata": {},
     "output_type": "execute_result"
    }
   ],
   "source": [
    "%proving distribute_through_subtract"
   ]
  },
  {
   "cell_type": "code",
   "execution_count": null,
   "metadata": {},
   "outputs": [],
   "source": []
  }
 ],
 "metadata": {
  "kernelspec": {
   "display_name": "Python 3",
   "language": "python",
   "name": "python3"
  }
 },
 "nbformat": 4,
 "nbformat_minor": 0
}