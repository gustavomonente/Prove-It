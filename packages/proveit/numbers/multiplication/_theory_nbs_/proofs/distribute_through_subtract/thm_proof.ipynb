{
 "cells": [
  {
   "cell_type": "markdown",
   "metadata": {},
   "source": [
    "Proof of <a class=\"ProveItLink\" href=\"../../../../../_theory_nbs_/theory.ipynb\">proveit</a>.<a class=\"ProveItLink\" href=\"../../../../_theory_nbs_/theory.ipynb\">numbers</a>.<a class=\"ProveItLink\" href=\"../../theory.ipynb\">multiplication</a>.<a class=\"ProveItLink\" href=\"../../theorems.ipynb#distribute_through_subtract\">distribute_through_subtract</a> theorem\n",
    "========"
   ]
  },
  {
   "cell_type": "code",
   "execution_count": 1,
   "metadata": {},
   "outputs": [],
   "source": [
    "import proveit\n",
    "theory = proveit.Theory() # the theorem's theory"
   ]
  },
  {
   "cell_type": "code",
   "execution_count": 2,
   "metadata": {},
   "outputs": [
    {
     "data": {
      "text/html": [
       "Under these <a href=\"presumptions.txt\">presumptions</a>, we begin our proof of<br><strong id=\"distribute_through_subtract\">distribute_through_subtract:</strong> <a class=\"ProveItLink\" href=\"../../../__pv_it/theorems/71c67c6d0ac1163216e7731431b49faa9b85ec920/expr.ipynb\"><img src=\"data:image/png;base64,iVBORw0KGgoAAAANSUhEUgAAA10AAAAyBAMAAABVH6x+AAAAMFBMVEX///8QEBCIiIhmZma6urrM\n",
       "zMxUVFQiIiJERETc3Nzu7u6qqqp2dnaYmJgyMjIAAAAcRTyBAAAAAXRSTlMAQObYZgAACm1JREFU\n",
       "eNrtXH2MG0cVf/62119RBYU0INwzVFEoOpMI+kdC4qaCUyXgnFTQIlU669QKBaXBUtAJUijHIaUO\n",
       "JcgF0XxRtEkhH9fSc4RO5aq2cXPQipZSSyARqtBYaoPUgqJTCIi7kIZ5M+udndm1d73nu90/bqQ7\n",
       "786+fX6e38x7b97+bAC79pHr/4PlaKkirDTrdlwboevXV9kLrzl0eFmM+sMKLp1auEVflENHHOD1\n",
       "/uWxKVhewaVje1N7jfgHr9PiaaLpVtHjHa/MuNSYrHmNV7zhN7yU94nnJ10rGu94KcrHXflexV7V\n",
       "yQ9oBzu8xqs9Ov7BK14Qz99xqyjTeTEoLYNYwYGut7TXpz13iKf9htcZVThNF9wq+lOXa2f5Ybbu\n",
       "QNfVduqa8xqvWMNneO2W7HMdMr7V5dpRfjisOkjLFtoLc5XXeCXn/YVXel48P+BWUaJbXMrwLd7L\n",
       "TnaEuq63PXeIu/2FV0zKEvI49JvW32SPjyQUJI5UGdix9awYufI5eFSFFPeyfx/YaB8KR/Oa15z1\n",
       "HK8Lqq/wGpGKG/vJ3+21zBzAPd1vZEJ5nreQfcBT8JfcQ+JKCa+CQbKK9YRDeU+dqtnpnnpXIcs+\n",
       "U9L2P6lLtBU8wWsq5yu8PimdP0iG9MMQGoe7bmPja3EPzjgmBF/RZWJkRbwCr6t3CqJHQi2okihQ\n",
       "ad+XXIBszkY35kCXiSg5esbz9ZVp+QqvG6Vzst8ILUCMTKohNr1a5uz8PdCFuEygiINdZRJsQZD1\n",
       "oQZyOPSROf2+Fkw1bHTDZlC00umI53gF5/2EV+SaGa/AOEyV2njFyuabxkAX4jIB6lgvy7LDauTf\n",
       "Gl70PrL9Gq7b6Cbbr/BVv+CVuOYnvILzZn9I5v8ZaOPV0a1Toa18xNEfAmIjts0QJB81rCd82SZs\n",
       "UW10wzVcvsc2to3Q4lfZG8Bu9BNecdkOkm9M1WFXsmaHFxVqLAj5xrPBOVgnyu2FeNmYb2SLJPLZ\n",
       "4XUFjjah8EXg9VYP28N+wisgpfOYQMdz6bGUMKYYaGhk4RGHCiWe5JsukrKHr8bn5HLxp2GY9IQa\n",
       "7fNoEwtgQ1LE0t+AtQfg+6DUXiJHm7zH63UNL/rR/9YVrwzd0TaX0JgpOUkmI6mMfuyxjwpjSgPN\n",
       "mBBxmFCc14uIy1NG1+XlD3R8YEuNpebafetfk3ztmPENWHvi1qa2tbjoPV4XSgyvV/Hk3a54pTAm\n",
       "ZNQlNGYkB53qUUNO4P6lfT1qM/k7YZ4V9o2EVqXiPV50iAheBzH5GO+KF718cCmNOSNXX3m918nW\n",
       "54UUP7as90ZbyhUQ6r2OdWPI8L7eq7kgYgyum1S9e/zC5ffqki92oe3TXn/y3VH724//3pC6WFWK\n",
       "Y010mYq00XKkOzjuh+cpJEMqM7zSr0xOHrDJN85PTp5aUpcwaBrk/j6vDA98qhOUtqlrjk8eT/Ea\n",
       "1xb7f6vVb9vgla1WH24safJjCo5LwQf4qwtt9z2qQrrmA7wCLQ2v++n8CbKAcdESr2ip57kZvuSs\n",
       "j7UtKvi07dzhE0MCFQ2vO6hfjzA8WCCL7P4t3FzmeIULvbvwWbu+5A+/qoePr8NKs2mxVRpeMQgK\n",
       "vufJ2c/Ab1JqSDXslyvwiV71/6NLn/LchqZyjxr55wpeveOVasaETPqRwyo8nyukjPWN16DndGO+\n",
       "S9+5mUlI/wzgOf/7Q//g1faHidaXice7hc77fJ24R9Kmp38s4PXzSBlrArtK5nRM70zlt5NQiLXX\n",
       "Paj58i0mDNp9YYyVn50mb63nG7UVQJzmG7DvPjLYWRzJULjF6lPTqV/da8Qr/lgR4ERpRIWohALt\n",
       "pAWrddHWN8hLY4EqDe4hGczXpK0M9kVrTPwNY7Y2WLLKDxPN5R4UC2bo8hsxA1bU1kC5jdevyUo7\n",
       "TLf6p1JlheaJ09CYNeKVxCexG+BuiLwo4YWd7AltKYOfLPGLCu4wsRDbuvcmeSvDCuRP4L9njSZd\n",
       "KFrtv07249M7YYZyGXM22BcjdOapExmktUZNEydbaOOVxWrLBBvRZuSb1eoEwevxmBEv+gBwDRCn\n",
       "GZPwop2aRvoeoUYU9QWKIeYYjVME+0i7u1qt5o58yViPMuH1DiyCMyo0J8xQXcacBvfHiLd6kMF0\n",
       "XS7F0Cd9Gl5pAoGyUNKGvMzWV3i7gNcbRGQe9k/KeNHO5AA9HgHUESsG8CWrBuoyXtiXPk8mD8X1\n",
       "mIE5MSI7HawfpvvDbHHCDNVlTJXCPhlxtReZs2Auder1Xs1xtxqJHwBsA/gdnv4Z4LyAF7bVkStN\n",
       "xIsIHlTb/7AzeQfpS8z9EVBHrDQM5FJMPQeIF5dkfT89QQYFAU1sKnGjsvKoYH0+1p8kxAkzVJcx\n",
       "MUP7Y0R4oReZoyBQWzUXVDfipeysRdYArCUukfSHHyqyRSDg9bmP5yleRHBbLbIa/61hnfeTPuWB\n",
       "z9+qko7w6I8I7vXIzgbFixyt1sRZH+afj6C6py7t1bOMmLz8D8AiOKNie7knmbctDFl8S1V6kUFa\n",
       "a0aOEDSFFp4vJ1kUW1udkOtRxvmmMoaXfguCXSm2+5Jwij7gY/5lj37EaydY5w+S+CVoDc1J1uVh\n",
       "EZxRkS/qhBnKZWYtDHFlxLH1kNA7OPO0SwzVZZDWmpI9Di0pCHjNRO+0MkvAKzK40Zhsakejavto\n",
       "BnbilwFZXrz9X3VDhqwdWT4aTcv+Yj8sgjMq8EWdMEOZDC2evmlhiCsjGrdDUJ+FlHkaGe+qgLNT\n",
       "MYtOyx7ngya8mtGXanZ4McHOR034An6vNc2REI8Sh1pWtkbkePwgLIIzqvNF8aoTZiiVYQ7gGbMh\n",
       "ghGqQyMS9c0QHwcD8zSyodJJg9KWYR4Laa1JyYMmLpvw6tD6yrdJz1rHbwu+qHvOqM4XdcoMZTJa\n",
       "kotZPSWuXQSzEQY2TncjFLiBzgED85Sx6aw0ULs4OxVpkhEpQviLLwpbrPFyxxnV+aJOmaFMhuMl\n",
       "GiIYMQYOjSDp3kgJjMxTjf1ooYHewNmpVnjFK77Ca7ho6Q/dcUYFvqgTZiiVUWi4HzL7Q3dGkDV7\n",
       "s35Cmafh7kkiZ6eioCxMixo++j5RwTLfcMcZFfiiTpihVCZEfzXBIt9wSVwtw179hDJPbfDi7FSr\n",
       "fGNQ9RVecoI4C3acUR4HZM6oyBc1MUMtNFCZUylcHDIz1DVxNVQO8y8FIPPUiBe/mWvg7FSktXJq\n",
       "qzHA++f7sB8ST4fAjjPK44DMGRX5oiZmqJUGKoNUbhMhwjVxVRnN80eAlHlqXF/6zVwDZ6diTp8R\n",
       "n1j47fuw8vfNxXpUr5xRc3OiAevVJmboIowISS4t7OSZL+JyAkzUVq0g7R+8pCq6WO/tlTNqbk40\n",
       "bOte7+3RiF0wJeVQSQd4UUAs6r2nVZ/hlZDeZh8sgjNqao40rAWr5ylujfgOTEif8Lb/5GwV4LND\n",
       "i+cp/vu9FHn69u15pfM2AVbMULdGbM2XXNyFARCpgxJ9MFrwHV4hcS+77HwAWjxNe8wHQHYqpbVK\n",
       "1NZz4Byv5fo9vVHwtFkXT5e5dWCn9vR7esv1e5WhIqy0DmGRZRv4e5X/ByhSRaMsk+ZfAAAAAElF\n",
       "TkSuQmCC\n",
       "\" style=\"display:inline;vertical-align:middle;\" /></a><br>(see <a class=\"ProveItLink\" href=\"../../../__pv_it/theorems/a1466c13ce488772813a00331a549624e738f7740/dependencies.ipynb\">dependencies</a>)<br>"
      ],
      "text/plain": [
       "distribute_through_subtract: forall_{i, j in Natural} [forall_{a_{1}, ..a_{_a}.., a_{i}, x, y, b_{1}, ..b_{_a}.., b_{j} in Complex} ((a_{1} * ..a_{_a}.. * a_{i} * (x - y) * b_{1} * ..b_{_a}.. * b_{j}) =  \\\\ ((a_{1} * ..a_{_a}.. * a_{i} * x * b_{1} * ..b_{_a}.. * b_{j}) - (a_{1} * ..a_{_a}.. * a_{i} * y * b_{1} * ..b_{_a}.. * b_{j})))]"
      ]
     },
     "execution_count": 2,
     "metadata": {},
     "output_type": "execute_result"
    }
   ],
   "source": [
    "%proving distribute_through_subtract"
   ]
  },
  {
   "cell_type": "code",
   "execution_count": null,
   "metadata": {},
   "outputs": [],
   "source": []
  }
 ],
 "metadata": {
  "kernelspec": {
   "display_name": "Python 3",
   "language": "python",
   "name": "python3"
  }
 },
 "nbformat": 4,
 "nbformat_minor": 0
}