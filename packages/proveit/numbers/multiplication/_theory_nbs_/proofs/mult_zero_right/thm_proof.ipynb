{
 "cells": [
  {
   "cell_type": "markdown",
   "metadata": {},
   "source": [
    "Proof of <a class=\"ProveItLink\" href=\"../../../../../_theory_nbs_/theory.ipynb\">proveit</a>.<a class=\"ProveItLink\" href=\"../../../../_theory_nbs_/theory.ipynb\">numbers</a>.<a class=\"ProveItLink\" href=\"../../theory.ipynb\">multiplication</a>.<a class=\"ProveItLink\" href=\"../../theorems.ipynb#mult_zero_right\">mult_zero_right</a> theorem\n",
    "========"
   ]
  },
  {
   "cell_type": "code",
   "execution_count": 1,
   "metadata": {},
   "outputs": [],
   "source": [
    "import proveit\n",
    "theory = proveit.Theory() # the theorem's theory"
   ]
  },
  {
   "cell_type": "code",
   "execution_count": 2,
   "metadata": {},
   "outputs": [
    {
     "data": {
      "text/html": [
       "Under these <a href=\"presumptions.txt\">presumptions</a>, we begin our proof of<br><strong id=\"mult_zero_right\">mult_zero_right:</strong> <a class=\"ProveItLink\" href=\"../../../__pv_it/theorems/4681fa4c50429d669b1708f97acceb6aed386a900/expr.ipynb\"><img src=\"data:image/png;base64,iVBORw0KGgoAAAANSUhEUgAAAJ8AAAAUBAMAAABhQvLIAAAAMFBMVEX///8QEBCIiIhmZma6urrM\n",
       "zMxUVFQiIiJERETc3Nzu7u6qqqp2dnaYmJgyMjIAAAAcRTyBAAAAAXRSTlMAQObYZgAAAglJREFU\n",
       "OMuNlU9oE0EUxj/SbLeZ7G4v7T1YyEloQbwpFKR47F6qvUWK4k1Kb2IPnsoGFXsQKljpNoUqQXCh\n",
       "eIgEEuItQojQQ1sqLhQKLVoKgqh4cF5nk/2TmbQPPpj5zcxj35s3b4F+lmkL9VhFvp+wT4OvCodv\n",
       "A8WssW9jcBkq/JkmxwqHR4GiZnnsIZgPFX5JkT2W+zMnhGL2BWjx74EKWy5geHKH+rJQzJaAmot1\n",
       "qLDZLJdXFBGvBIrZL2DagzWpxL8dZ1HhcCxQKf/ici5g7Cc/mYORyEQE3wOKCofPhFjdXNA7t5D5\n",
       "BxRyMM/mrROygzi+kbiy7NP7c8HwkZDhGn/TlEpGJ/mnFOrIzicqNsQ6Up3SZdUrbTbrat+D+YgQ\n",
       "w5Aog/d+NzbtVBoyYaOtd+hOpQxzFajGHQLDIoP6HZH9mtfjMIIz/i2q86t5O02JnvrAUTxkHowd\n",
       "nnSAby7S82EODxO4eBdIuQ/0SYsW9nZ7LiXrjvMN8Qo2fWlhn+Et7lXDD2CDFj5G3v0noWnvOV6H\n",
       "1e6xUWCgnnwEIRYJ+gPcdhwn92om3HRTaPNS6XrYclgjzxNg2QmHEWxSNNqphkFaGCiJ8lA+PWFv\n",
       "0B+vGb4Bg9xnrtndly9tDkGzQn+8ud1oAk9o+O5kqRtOEYpn1Nu+pDjFc3h+gyUbkidCgS/wC9iV\n",
       "7+f4P15yr3d25BTNAAAAAElFTkSuQmCC\n",
       "\" style=\"display:inline;vertical-align:middle;\" /></a><br>(see <a class=\"ProveItLink\" href=\"../../../__pv_it/theorems/b41343d32b0d2cc9df0f2f5bbc780cf812c7023f0/dependencies.ipynb\">dependencies</a>)<br>"
      ],
      "text/plain": [
       "mult_zero_right: forall_{x in Complex} ((x * 0) = 0)"
      ]
     },
     "execution_count": 2,
     "metadata": {},
     "output_type": "execute_result"
    }
   ],
   "source": [
    "%proving mult_zero_right"
   ]
  },
  {
   "cell_type": "code",
   "execution_count": null,
   "metadata": {},
   "outputs": [],
   "source": []
  }
 ],
 "metadata": {
  "kernelspec": {
   "display_name": "Python 3",
   "language": "python",
   "name": "python3"
  }
 },
 "nbformat": 4,
 "nbformat_minor": 0
}