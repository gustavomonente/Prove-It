{
 "cells": [
  {
   "cell_type": "markdown",
   "metadata": {},
   "source": [
    "Proof of <a class=\"ProveItLink\" href=\"../../../../../_theory_nbs_/theory.ipynb\">proveit</a>.<a class=\"ProveItLink\" href=\"../../../../_theory_nbs_/theory.ipynb\">numbers</a>.<a class=\"ProveItLink\" href=\"../../theory.ipynb\">multiplication</a>.<a class=\"ProveItLink\" href=\"../../theorems.ipynb#mult_neg_left_double\">mult_neg_left_double</a> theorem\n",
    "========"
   ]
  },
  {
   "cell_type": "code",
   "execution_count": 1,
   "metadata": {},
   "outputs": [],
   "source": [
    "import proveit\n",
    "theory = proveit.Theory() # the theorem's theory"
   ]
  },
  {
   "cell_type": "code",
   "execution_count": 2,
   "metadata": {},
   "outputs": [
    {
     "data": {
      "text/html": [
       "Under these <a href=\"presumptions.txt\">presumptions</a>, we begin our proof of<br><strong id=\"mult_neg_left_double\">mult_neg_left_double:</strong> <a class=\"ProveItLink\" href=\"../../../__pv_it/theorems/08961ff876f57f8c42b00a5572eecb79b5a13f5a0/expr.ipynb\"><img src=\"data:image/png;base64,iVBORw0KGgoAAAANSUhEUgAAAR0AAAAVBAMAAACJYCeRAAAAMFBMVEX///8QEBCIiIhmZma6urrM\n",
       "zMxUVFQiIiJERETc3Nzu7u6qqqp2dnaYmJgyMjIAAAAcRTyBAAAAAXRSTlMAQObYZgAAAyVJREFU\n",
       "SMfFVk1oE0EYfaabbLLdTYvoxdPaQOlBaFHqKdaqaG42PfhzaymK9FKKVC9VKB5KiooRhBaruFZQ\n",
       "KVIDIqXSQ2hv9ZKDBysqe2gPipYgCragODPfJJvsbpa0Fx+8ZOftvNlv5/tmZ4A6ECsQgxSgMQuv\n",
       "4BHhNQosSNq88Sk4nueSQQrDoJ8w6D+cB5Es8S1vfA2O54tkkMIw5yfM+Q/ngWYTp/gEjgWGY3QQ\n",
       "gxQO3fQRPKKPUWCJGLeYJxcYj5olBiniFZt9BI/oYxR4TDRWZmcng9M1KRmkCKz5CWt+w/kg3k38\n",
       "nclcC44nIVlbmWm9d4DlZdkRDiK2j4Rlv+GkgWYxYeKuBZ2lkfMiMBEcz23JmoqWNy6rrBY/l5X8\n",
       "MYSKJAhR3xDokOaSgapMaUY7S5RNPCHK2oPGW5cG5OWopAOXolv6lsKqYp43LL5Acl2IjpEw7x55\n",
       "1DGIztMNNjLsgcNEFSHX90lbPFTQzlvhb7K9h6jRO6a9iiYeDvRx81/+g91oMknoc8fDjdIgOlu7\n",
       "TPwAwkWiXlBdhvcLszAeAIvV8VQPWa00maV4cJX/KFvoS9eOp2Sgzj1W+JcTT8w+y1d+ZyvzK61Q\n",
       "LYVn+eRrdqfefEE8HEiV2ywF+6WQqqif/pJZGghdCLGPgjJMxMQFIGQNqWyt6U1WL+K8z4fVbdRz\n",
       "o9XORqis52g/xlFRzy5zyUAY593L9YxXLKgwvvM791NowxN+9WbBGcC7al1KT+4OHrL/pDM//cof\n",
       "KSTd8Sw7BsJh9LAKbsgTZSo3xa0kBnAuk8mY02ecAVJVqfBRnrbMHOFrYt1ZEgOJTSmsu+NJOYaS\n",
       "/Shba/E0EQafuHAxzG+NYC8i4gVn+CrY5n4xXNFosEmoEmvtF12MzyQFHum2jikLV5QidB5kLJkW\n",
       "O9wO99MhvOyudz+N2NpPZz+VU/ZuaQW9OZxqY691kysvNsbLS2AC7m+4V6k+WlzHjdrnDZdRLURN\n",
       "57xRiZyWjbK0hlj97OQ8VvGc44l0rag9RqWlk6/ILLHqfBnJn975edVw1wUXjHrPq6uSlX4oH/P4\n",
       "v/gHz1EHBtgZwoYAAAAASUVORK5CYII=\n",
       "\" style=\"display:inline;vertical-align:middle;\" /></a><br>(see <a class=\"ProveItLink\" href=\"../../../__pv_it/theorems/97d512d1bcc0c3ca6e0e2920088c9e497c31a8c30/dependencies.ipynb\">dependencies</a>)<br>"
      ],
      "text/plain": [
       "mult_neg_left_double: forall_{x, y in Complex} ((-((-x) * y)) = (x * y))"
      ]
     },
     "execution_count": 2,
     "metadata": {},
     "output_type": "execute_result"
    }
   ],
   "source": [
    "%proving mult_neg_left_double"
   ]
  },
  {
   "cell_type": "code",
   "execution_count": null,
   "metadata": {},
   "outputs": [],
   "source": []
  }
 ],
 "metadata": {
  "kernelspec": {
   "display_name": "Python 3",
   "language": "python",
   "name": "python3"
  }
 },
 "nbformat": 4,
 "nbformat_minor": 0
}