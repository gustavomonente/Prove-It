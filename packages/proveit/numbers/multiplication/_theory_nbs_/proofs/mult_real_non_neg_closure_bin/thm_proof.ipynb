{
 "cells": [
  {
   "cell_type": "markdown",
   "metadata": {},
   "source": [
    "Proof of <a class=\"ProveItLink\" href=\"../../../../../_theory_nbs_/theory.ipynb\">proveit</a>.<a class=\"ProveItLink\" href=\"../../../../_theory_nbs_/theory.ipynb\">numbers</a>.<a class=\"ProveItLink\" href=\"../../theory.ipynb\">multiplication</a>.<a class=\"ProveItLink\" href=\"../../theorems.ipynb#mult_real_non_neg_closure_bin\">mult_real_non_neg_closure_bin</a> theorem\n",
    "========"
   ]
  },
  {
   "cell_type": "code",
   "execution_count": 1,
   "metadata": {},
   "outputs": [],
   "source": [
    "import proveit\n",
    "theory = proveit.Theory() # the theorem's theory"
   ]
  },
  {
   "cell_type": "code",
   "execution_count": 2,
   "metadata": {},
   "outputs": [
    {
     "data": {
      "text/html": [
       "Under these <a href=\"presumptions.txt\">presumptions</a>, we begin our proof of<br><strong id=\"mult_real_non_neg_closure_bin\">mult_real_non_neg_closure_bin:</strong> <a class=\"ProveItLink\" href=\"../../../__pv_it/theorems/c79243f154023c3ff49a7b0db34b7039332e3c6e0/expr.ipynb\"><img src=\"data:image/png;base64,iVBORw0KGgoAAAANSUhEUgAAANcAAAAcBAMAAAAAfDfxAAAAMFBMVEX///8QEBCIiIhmZma6urrM\n",
       "zMxUVFQiIiJERETc3Nzu7u6qqqp2dnaYmJgyMjIAAAAcRTyBAAAAAXRSTlMAQObYZgAAA55JREFU\n",
       "SMe9Vm9IU1EUP3vb25+3ze1DYPVpJohIxMgEhbJBYF+KJkUZBA77Q2KCpTbIPkhZzYkxEspvvRiI\n",
       "iOmoSISgkX4IW7EgSsRiWQZNMJGCdCWd8972fHvb2uYHL9z77jvvnvs775zfOfcCbEJjXgQ3AUXT\n",
       "KDxm4elGtI/lub7vLI1tYOGZvLFYV74afTcAuF+gCmjyVi3g87ZvuAvYFdCF4XW+mruxG8KpcqPv\n",
       "P2hRdhV0NtChoRESfMwNy7CKw6BCOFiIQ2OyzHzRs/a5V5zvCuOfqWzA2AFekSCaG5gJ18N3pfQL\n",
       "9hGlvzkX2+vFCVcaoJhZHGBYAugniztzA1MF0Gi7UhojM2zJMr0hCJ13EeulI85GgA4x5qZAbmD3\n",
       "ca1OGR4N+Zazii/TbnckAVZVAFwlYUGxkGeVaOnU0NC9HPnxFnvKWlMLjV+FeV2Z7M+q9MA6xQoS\n",
       "IncUYf/t8VzNEaxasJKyZ6JISoKChmJ0zARNuajcja6aZO0jqII53p1hc8Gu4VlpXw924phmG/yQ\n",
       "Fo1GuRWATzTV+mRgxlYF7epxuwPARST/LyZ9fk+x9HISfb6BEGZ4EKYAAAhWPOdhGWBMgJARpNC9\n",
       "gPnnweZNRBzjpwNmPU0n4s+x0tNz+KjBL1awJr62Yt+CfT8Pl8hra6JvuT9oNk1rF7HFCTJp9yr8\n",
       "NIpgprBuXbBAezwrDzMmmCI2Hy0zWKFdnlEEtpVSB9tlUaiJxcH65dTfU6fkMoIZIsfXBStE3/Eh\n",
       "QLAZ+l+2Rw52U3Qj/olxSVL5C2ok/0EhD+Vg+oeK3KuniHafwcFfMk97L5fwGqIpgeGBZ2wGWILt\n",
       "ieXnRYJwMdBGxhPCnxRCkSBqmwyMdVWkshEeY6Jw7SzlJnOFsReACFZuB3NTMkGK4lG9Bh9c0tnb\n",
       "DNdx3CvMO2TlCl5pnSlZCha0R21nKTf1NnPEL4Cpz7UBVCioT7aRvwZ2nGxwJIT+neTveWE+0MVL\n",
       "hdipvx1LAhMIbOap6jF0uKkcatcJZKuNMd15l6Y2OtKUK6FxLeLz0C13JFNJmJNo6dPPIKaFVwW0\n",
       "ohuNp3guFApNyperg+kKMaQpxOnsWZVs9tUfhn5ex0+DySnGbCr1RsRSxqUtNyPZa51ZuhdoGh7t\n",
       "g9oAewEReiip3wT91akKTWkOT6F1ZwfTJdMFxJOGwZhlUBjJcC0w+7KDzeZ+k4ivsG/4Cqk8oM3Z\n",
       "VZ5sGEzNw+a2f1BT8Yt5JMuCAAAAAElFTkSuQmCC\n",
       "\" style=\"display:inline;vertical-align:middle;\" /></a><br>(see <a class=\"ProveItLink\" href=\"../../../__pv_it/theorems/0c5bf55ef2918fd14273d953352dc7b4e2ba46940/dependencies.ipynb\">dependencies</a>)<br>"
      ],
      "text/plain": [
       "mult_real_non_neg_closure_bin: forall_{a, b in RealNonNeg} ((a * b) in RealNonNeg)"
      ]
     },
     "execution_count": 2,
     "metadata": {},
     "output_type": "execute_result"
    }
   ],
   "source": [
    "%proving mult_real_non_neg_closure_bin"
   ]
  },
  {
   "cell_type": "code",
   "execution_count": null,
   "metadata": {},
   "outputs": [],
   "source": []
  }
 ],
 "metadata": {
  "kernelspec": {
   "display_name": "Python 3",
   "language": "python",
   "name": "python3"
  }
 },
 "nbformat": 4,
 "nbformat_minor": 0
}