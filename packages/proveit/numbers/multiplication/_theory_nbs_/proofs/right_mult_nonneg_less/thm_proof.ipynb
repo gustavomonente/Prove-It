{
 "cells": [
  {
   "cell_type": "markdown",
   "metadata": {},
   "source": [
    "Proof of <a class=\"ProveItLink\" href=\"../../../../../_theory_nbs_/theory.ipynb\">proveit</a>.<a class=\"ProveItLink\" href=\"../../../../_theory_nbs_/theory.ipynb\">numbers</a>.<a class=\"ProveItLink\" href=\"../../theory.ipynb\">multiplication</a>.<a class=\"ProveItLink\" href=\"../../theorems.ipynb#right_mult_nonneg_less\">right_mult_nonneg_less</a> theorem\n",
    "========"
   ]
  },
  {
   "cell_type": "code",
   "execution_count": 1,
   "metadata": {},
   "outputs": [],
   "source": [
    "import proveit\n",
    "theory = proveit.Theory() # the theorem's theory"
   ]
  },
  {
   "cell_type": "code",
   "execution_count": 2,
   "metadata": {},
   "outputs": [
    {
     "data": {
      "text/html": [
       "Under these <a href=\"presumptions.txt\">presumptions</a>, we begin our proof of<br><strong id=\"right_mult_nonneg_less\">right_mult_nonneg_less:</strong> <a class=\"ProveItLink\" href=\"../../../__pv_it/theorems/47e0726866f82f994110672606e95caa8378f6250/expr.ipynb\"><img src=\"data:image/png;base64,iVBORw0KGgoAAAANSUhEUgAAATwAAAAWBAMAAACvaz3RAAAAMFBMVEX///8QEBCIiIhmZma6urrM\n",
       "zMxUVFQiIiJERETc3Nzu7u6qqqp2dnaYmJgyMjIAAAAcRTyBAAAAAXRSTlMAQObYZgAABEtJREFU\n",
       "SMfFVm1oHEUYfu5jb2/3bnMiCLalcO1pCPGDkKDkR1qvKbQoVq/+0PrrjsOgAQ0hNPWDVELRcKlU\n",
       "FgKxFMRtKy3Gs3coWuoflwTBpqUuKBSlyoLVH1XxEAsmVfGdmb25vbttG+GkLzz7zs68u/PMvB8z\n",
       "wP8ib3tokzPXMW6VhCngspfvOsxOnxZol5gZaNwuowLnWPtKh+l1mQIBxN1GOzwpjdvllMBhUtp0\n",
       "h+l95SFAFmWrPNEwbpdkmqPLIlXtML2XPQTI0Xpjbr/POGCbb+MwlhcW3uowO21cINDvWaHnf/YZ\n",
       "B8llgT9LpakO0wv3CeibR4cbztSG+teTp/r4y57LfuNj/dDWS8O5pU3k0iVwjACzN58xugZSi7bX\n",
       "ijsCZVxMvyrHt5ldNcDguRF/XXYzQ3sbwjU51Tr8Rup7ge1N2dRSfSZmtqbFT5oHHmmiPsrVJXzi\n",
       "dahVgWV8aT3M4ogH00ZEKAUT3JfhCQsNY626FXGWnrzzqINBUqcFVISdQG7vL21B2k4eC6C3p9D0\n",
       "OjfCnnuR8uYMZQUslPh7ha0/sgqVlqqIXTKm6vzIUMftSNGY/g/reMgCy+m8QNJRA9kZbxyxiJ7x\n",
       "QTu9+dZomCNf6VcRqjbTA34XG8RWE5pGJSfpIfGD2TCOriJPY9jHOu5kv5L0NPdJahzv/pFXpQe6\n",
       "ySzaDdXazt6JXtlHL5l5gjbqOAuc4QJeYS7rH2P/Lb8GZQWq0+xcKFcbS6jY+IxFQj1Roz/lpHHE\n",
       "xSZZUf5Cgi1hp4fZZ6hvUlllIWGNqbSYZMraLU67tB0Z8NHrjbl7UeZJZ68qVJlwMpfnXipfUYTz\n",
       "/KnxKcV7r6RXxRidooYMdKWUlcYFzEh61xBzz8jUwEe0nkifwlal4FdmcWQnenReANIPPpv10ct1\n",
       "OVA28irx7niYBfMAnuIj9zu0eyGPHisehOi1eE2TcR1PG/uSNJPdqDQjdeNIIfq37D6AiwUyGoIA\n",
       "C8pQNSyifYU/h1BUXiqVDiB99j4/PaQoYC7wnogdY2Q2oJutuKfKAibllVzmQIJe7M00Lht68e75\n",
       "u6gs51pL1jgby6zIjhObny7Sj1iwMRjknYoZ/5Y5SakpIgnvQEE49+NlP708ctAH2QxqNkRKX8Gh\n",
       "BehfZJsy90aH2snAE5BFX8uhNi4g0sfM78Jh652kmySFyWgNnwt6SV9qaLULoG3XnqM9VHOPQzuI\n",
       "dcofjj7Idy0j697argQ+4zFUssFXAm+Hix9uwe7qia8Xl0lhR4+LOGVUYuoXfcCV9PQXHr2XbZA2\n",
       "Y9IXb0LZgB33ZBxF+Ct8vk/GmSlw3QvVqReZTNaN91PABV+o/OKVrapusnTqKfm+aS7LyizewyGi\n",
       "/5+vo/HA6+hwpjUi+UE723aB5ipmP9b229aO56Nu8NX8xpf5b9Z4mTdMAX9XXUUv2Telt+s8PUTV\n",
       "SJRIDuJWSuTWTPsvTgoqpfmmrDMAAAAASUVORK5CYII=\n",
       "\" style=\"display:inline;vertical-align:middle;\" /></a><br>(see <a class=\"ProveItLink\" href=\"../../../__pv_it/theorems/6b0d9e57d1529ef1508cbd580c85cbef7a8723110/dependencies.ipynb\">dependencies</a>)<br>"
      ],
      "text/plain": [
       "right_mult_nonneg_less: forall_{a, x, y in Real | x < y, a >= 0} ((x * a) <= (y * a))"
      ]
     },
     "execution_count": 2,
     "metadata": {},
     "output_type": "execute_result"
    }
   ],
   "source": [
    "%proving right_mult_nonneg_less"
   ]
  },
  {
   "cell_type": "code",
   "execution_count": null,
   "metadata": {},
   "outputs": [],
   "source": []
  }
 ],
 "metadata": {
  "kernelspec": {
   "display_name": "Python 3",
   "language": "python",
   "name": "python3"
  }
 },
 "nbformat": 4,
 "nbformat_minor": 0
}