{
 "cells": [
  {
   "cell_type": "markdown",
   "metadata": {},
   "source": [
    "Proof of <a class=\"ProveItLink\" href=\"../../../../../_theory_nbs_/theory.ipynb\">proveit</a>.<a class=\"ProveItLink\" href=\"../../../../_theory_nbs_/theory.ipynb\">numbers</a>.<a class=\"ProveItLink\" href=\"../../theory.ipynb\">multiplication</a>.<a class=\"ProveItLink\" href=\"../../theorems.ipynb#mult_nat_closure_bin\">mult_nat_closure_bin</a> theorem\n",
    "========"
   ]
  },
  {
   "cell_type": "code",
   "execution_count": 1,
   "metadata": {},
   "outputs": [],
   "source": [
    "import proveit\n",
    "theory = proveit.Theory() # the theorem's theory"
   ]
  },
  {
   "cell_type": "code",
   "execution_count": 2,
   "metadata": {},
   "outputs": [
    {
     "data": {
      "text/html": [
       "Under these <a href=\"presumptions.txt\">presumptions</a>, we begin our proof of<br><strong id=\"mult_nat_closure_bin\">mult_nat_closure_bin:</strong> <a class=\"ProveItLink\" href=\"../../../__pv_it/theorems/4ba41ce3ca8e608b3af11465bf108f116a049e840/expr.ipynb\"><img src=\"data:image/png;base64,iVBORw0KGgoAAAANSUhEUgAAAKsAAAAVBAMAAADLBgMvAAAAMFBMVEX///8QEBCIiIhmZma6urrM\n",
       "zMxUVFQiIiJERETc3Nzu7u6qqqp2dnaYmJgyMjIAAAAcRTyBAAAAAXRSTlMAQObYZgAAAq5JREFU\n",
       "OMutlU1o02AYx58mTT/y0XoQD4IQpu7gqcybToyIeFHWXTpFwTI2ZCDSiyuohwqCrTLJyfUYGaj0\n",
       "YIOeBoJxE8SKEARhCkIOKjhhbJ5mD+LzfjRNQpsh+MCTvPkl/ef5yluAnS3rMo/a8pDnCffI4kus\n",
       "7BPuAZNvVQBSZhg+3b5vwastg/B3BKzHyv7gHrRcAbW9CFyQyiBvUt4kWdbiVLUC85DlbTysRODl\n",
       "4gjALspzFoBqx8mmTeYhm8CfwUN+sVat0sBn7qaKUKFc67Rai7E1WOQesje0EgZdnzvE4VxJXiey\n",
       "hG/X6zdjZfdzz46P7fXh95GjmCUtjex3Zk7RS0SW8FmARo8nNwbILnA/YeY2/Un4Y7VN0Gjq/YGY\n",
       "g9eajrKEnwx2dJWfp8YNYQ9f32Au7wORtpZUVelCXgelQq4z0JdNWbPICE+D0B/1nySSF4ddpdaB\n",
       "I5ztZi52Ia3TQPEgetB2QKLRT26geUxWLudwEghX3XQ/4d+kr8stUD6I4IRlEzVoF8n1PBvbCZvL\n",
       "NgPRwkWJy2a9EpKl0W94lH6NWknSB+XCed0JFwGje9kfWxeOW5CkRUgEZTUbC0V5YwYzuyZ1cSlc\n",
       "Fwo58oBS7Hx0wi1r23BV6XUnb2CpectEvSeL3Ye3Nc6fo7ZYkMgbMrrmLTFZVS0E2rhK782rPYGU\n",
       "m8HbouOn43cGq844thQStlAm+Rhieaper+tKMetW+MOnmcvTBx8c8Ads7D2pMK01PLptsfHZqrGN\n",
       "gnINYdvMfMZT3krYKRYtnNLjPl5qj/n5zJ2qN4hDwrx0FppW2loDlb7KAM2J22qorQz5Ln2enH52\n",
       "DCZt6Qpq3SNJfwUo9242IPAhBjddb7BqlLONTMDa7rSNU8uYg2UjXDH/7U/n05AaRLgG/83+Alzs\n",
       "u/GZ0hR7AAAAAElFTkSuQmCC\n",
       "\" style=\"display:inline;vertical-align:middle;\" /></a><br>(see <a class=\"ProveItLink\" href=\"../../../__pv_it/theorems/d155a0f4d433925c70934fbc40cf561fc90465780/dependencies.ipynb\">dependencies</a>)<br>"
      ],
      "text/plain": [
       "mult_nat_closure_bin: forall_{a, b in Natural} ((a * b) in Natural)"
      ]
     },
     "execution_count": 2,
     "metadata": {},
     "output_type": "execute_result"
    }
   ],
   "source": [
    "%proving mult_nat_closure_bin"
   ]
  },
  {
   "cell_type": "code",
   "execution_count": null,
   "metadata": {},
   "outputs": [],
   "source": []
  }
 ],
 "metadata": {
  "kernelspec": {
   "display_name": "Python 3",
   "language": "python",
   "name": "python3"
  }
 },
 "nbformat": 4,
 "nbformat_minor": 0
}