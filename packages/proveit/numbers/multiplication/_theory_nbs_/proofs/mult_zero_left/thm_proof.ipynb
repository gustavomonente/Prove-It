{
 "cells": [
  {
   "cell_type": "markdown",
   "metadata": {},
   "source": [
    "Proof of <a class=\"ProveItLink\" href=\"../../../../../_theory_nbs_/theory.ipynb\">proveit</a>.<a class=\"ProveItLink\" href=\"../../../../_theory_nbs_/theory.ipynb\">numbers</a>.<a class=\"ProveItLink\" href=\"../../theory.ipynb\">multiplication</a>.<a class=\"ProveItLink\" href=\"../../theorems.ipynb#mult_zero_left\">mult_zero_left</a> theorem\n",
    "========"
   ]
  },
  {
   "cell_type": "code",
   "execution_count": 1,
   "metadata": {},
   "outputs": [],
   "source": [
    "import proveit\n",
    "theory = proveit.Theory() # the theorem's theory"
   ]
  },
  {
   "cell_type": "code",
   "execution_count": 2,
   "metadata": {},
   "outputs": [
    {
     "data": {
      "text/html": [
       "Under these <a href=\"presumptions.txt\">presumptions</a>, we begin our proof of<br><strong id=\"mult_zero_left\">mult_zero_left:</strong> <a class=\"ProveItLink\" href=\"../../../__pv_it/theorems/408795ea946478a190684ac3f639b8713a57538c0/expr.ipynb\"><img src=\"data:image/png;base64,iVBORw0KGgoAAAANSUhEUgAAAJ8AAAAUBAMAAABhQvLIAAAAMFBMVEX///8QEBCIiIhmZma6urrM\n",
       "zMxUVFQiIiJERETc3Nzu7u6qqqp2dnaYmJgyMjIAAAAcRTyBAAAAAXRSTlMAQObYZgAAAjtJREFU\n",
       "OMuNlU1oE0EUx/+ku91ks5v2oPelhR4KQkC8eSiKlJ66Fz9uDcUiXqRXqUhPZYMKvVWokK2FVkKh\n",
       "C+KhUmhY8RKhRhC0ohgQBL9KqChqe3De7GRjZmeDAy/M/ubln31fE6DXyjUiS6wttT/hJm3epQg+\n",
       "iMw68VQ66F9M+IZvXY6f0cPnFMFPkX3BuiRgNmXXQmBe5/guRTav1rOL3OxBWLJAKPu+AHY5Lvgs\n",
       "pEAtaCxyy5aQ/yMdrci+C8COT9iuV6tLKREvRTZQgnYoRzgmgZ/AZMDxL8+7kSI4HNlmEdpBnL2h\n",
       "q2dYYFZRSup3JuhwPAOUUwTvRFapQY8FN/DKuckC40nd3af1gcpwBEw5HJ+VSpa/fWVabOciqxSh\n",
       "H9FbEKvjuT/BvGaljmVvOFXj2ECm3brm9smGecnXv4rnY5G1Q96kH/bh0ZHeUoZM2GoYbfp6qwr7\n",
       "HrDdLciKkqeiGCVOD1SCVJSdgONc8wL11akRV6NEn3vEUHfI2XnYnbbRf9CnNtvJ4Ufasvd+70e4\n",
       "fBnI+NeMsQIdvNlLFKWrsR9nWhhtFyXR2Bw/ZKo6vgGr/Av/zP0TYXNYcQXSDrMtui76avIQBOZx\n",
       "gQccAr+Bi57nOcvnO07jwjaGZuLkT48O01VScCVBMxxxBbZ9nmQd/XTQd1/0R2f0VGsdvXHFalqw\n",
       "SD532o0nX1wOqhWiN157GdaBW3wU9hficMpIGaPk9aXEGZZD1QWbXFl1IlLwf/wF7Kn9Gf4LYK2v\n",
       "laO+YRYAAAAASUVORK5CYII=\n",
       "\" style=\"display:inline;vertical-align:middle;\" /></a><br>(see <a class=\"ProveItLink\" href=\"../../../__pv_it/theorems/935e8faa476a8b87a32a4d265be86d39b63cb4e90/dependencies.ipynb\">dependencies</a>)<br>"
      ],
      "text/plain": [
       "mult_zero_left: forall_{x in Complex} ((0 * x) = 0)"
      ]
     },
     "execution_count": 2,
     "metadata": {},
     "output_type": "execute_result"
    }
   ],
   "source": [
    "%proving mult_zero_left"
   ]
  },
  {
   "cell_type": "code",
   "execution_count": null,
   "metadata": {},
   "outputs": [],
   "source": []
  }
 ],
 "metadata": {
  "kernelspec": {
   "display_name": "Python 3",
   "language": "python",
   "name": "python3"
  }
 },
 "nbformat": 4,
 "nbformat_minor": 0
}