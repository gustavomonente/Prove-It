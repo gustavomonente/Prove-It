{
 "cells": [
  {
   "cell_type": "markdown",
   "metadata": {},
   "source": [
    "Proof of <a class=\"ProveItLink\" href=\"../../../../../_theory_nbs_/theory.ipynb\">proveit</a>.<a class=\"ProveItLink\" href=\"../../../../_theory_nbs_/theory.ipynb\">numbers</a>.<a class=\"ProveItLink\" href=\"../../theory.ipynb\">multiplication</a>.<a class=\"ProveItLink\" href=\"../../theorems.ipynb#mult_not_eq_zero\">mult_not_eq_zero</a> theorem\n",
    "========"
   ]
  },
  {
   "cell_type": "code",
   "execution_count": 1,
   "metadata": {},
   "outputs": [],
   "source": [
    "import proveit\n",
    "theory = proveit.Theory() # the theorem's theory"
   ]
  },
  {
   "cell_type": "code",
   "execution_count": 2,
   "metadata": {},
   "outputs": [
    {
     "data": {
      "text/html": [
       "Under these <a href=\"presumptions.txt\">presumptions</a>, we begin our proof of<br><strong id=\"mult_not_eq_zero\">mult_not_eq_zero:</strong> <a class=\"ProveItLink\" href=\"../../../__pv_it/theorems/6256943eb5df93e3ab43ae2cd60199a3ffc0b1a80/expr.ipynb\"><img src=\"data:image/png;base64,iVBORw0KGgoAAAANSUhEUgAAAXwAAAAZCAMAAAAFd2WlAAAAOVBMVEX///8kJCQNDQ0oKCgQEBCI\n",
       "iIhmZma6urrMzMxUVFQiIiJERETc3Nzu7u6qqqp2dnaYmJgyMjIAAAD9T1yxAAAAAXRSTlMAQObY\n",
       "ZgAABIRJREFUaN7tWtmymzAMpS3eV/j/j60t72ATLoRMOxM94CRXsuFYPlq403RdGOdcTl+5IsRh\n",
       "Z+5MwL8Y3hHJvuB/wX/3c9l2fFL0iHmNOtZ24C/5i7VXwL9h/5go0Y7PCuujL5dmJ5A1tNV24Bud\n",
       "vizqCvg37B+TRbbjw1u99PeE1HfkUFKQnRRtB75M3iHFJdq5Yf+UWNyOT4tBPcev4bAz6C2Ntuf8\n",
       "5LDFhX/G+dftn5KU/34qD1Zzz/Fp9UVAbNWrqrU9+NYoL/Ln4TNYXLd/KtrydvwAzZFjx59WAJ+s\n",
       "utaGbGcVXi6k/PHhLts/JAi34ySxwWh+R0QazGT2/CZqx1crDuCjWhvADwdEyKvgX7a/INRASoUM\n",
       "8ntNUY/qhG1HMrtbW9Zgfysw1TM1QaaEXLOA/Pntr3n3V/BMGsBP2gA+weOQ7U04Nu6goJkNwH9h\n",
       "fy15FoZxtgtkMniddc+i4XZY57xx3Yxq9puAPeoU45qKTp4FVbg9z7S5W37o+A58HMA3tXYosvwX\n",
       "tE/SlTYYWw8E1AtYjYqsgf2FyBVXVFS4xeiyQ1aHLeaeNSF66c6ez6QZMShyFFsqNRmccpii1szU\n",
       "+Of2MFC2maKmnaQdwPdHeR+crNBSwQNaNDljM6xw+/YXUsS0opXBRQbgq9X71azPgT+LbNKCP/Fz\n",
       "9X1Wa2Y6BH/LwWvMdvQefFeLxa2y2FIUAhXJQURTTSU6AL/YTwojttAz/rRXzCsSt2CYuA8+Xf0f\n",
       "uB2A39KOgrOu4wOTG05Sz1QB1c4KnP9rDsyfN1cAVVk4OVk79naEjOWYJZ7WfFip2gYOCaMsHYNf\n",
       "7BWnDhpYgh0yaqVYErZ8ApQdRO8Efj7+PfDbgKvA3dgSuir3wC8zVUC1AbdfWddFVhtw3SPEOCQV\n",
       "4pFNFa7Bd27fSafygyT7CWMfoCErOU7tsmJ9FvJ0atSsYqZ4/owgBu41053GUTg966jDjD0/0/r+\n",
       "Q7OreaYKKHga0z/C7WlUM220U1dzTUHEJxhkhhwHsne/ngdf2g6rl1+SvedhFObkh+BXiiWrSitK\n",
       "TRMhEZHER2CBp8L5KwlWuxOZAI6jYghRyRA5oJ1M6/sP9R5VM2WgwNNb/uw0uZRBKNW8STuBb5O6\n",
       "3xy3M+7KGs93PIwOwI/2yruksBA0D8EvihZrawN+ZUWsUD8XjJllyXZ6nn/UXiDvqnoLUJ5DW248\n",
       "bill7W0/X67waEA0eTctSbn1EPx8S9JxArHZ86V32N4lK2ok0kRlRVdI0m7DKlK8j3Qhz+9x/lFj\n",
       "Tb8J/Aqo3X2+6O42jbXGMRiUj4Ce0MlZQjOCnQCfMKQRLuBTTy/Ue2d90bWiO4yp7BS6nNJlEYwO\n",
       "Aq6/xUjoXfBzprfN+CTmK0PvAL8GalNfanOyAX34JgtFzn/VXhj8Mex/r/7Xm0mQJSdX3GHdB/+z\n",
       "L1M2W/zC8YU8Bf7Z3k63J4FWDEVQh5Kb3xTzvnK2PD4J/kdfI27TYnJW+/F3uPbkb6c757Ibgf9L\n",
       "uQn+5/9vRzY9JPrvvMD5cdBw2LG/Hrg2HCdUeowAAAAASUVORK5CYII=\n",
       "\" style=\"display:inline;vertical-align:middle;\" /></a><br>(see <a class=\"ProveItLink\" href=\"../../../__pv_it/theorems/f811559bf5ee726a5fd2d7710a6558341f0a91120/dependencies.ipynb\">dependencies</a>)<br>"
      ],
      "text/plain": [
       "mult_not_eq_zero: forall_{n in Natural} [forall_{a_{1}, ..a_{_a}.., a_{n} in Complex - {0}} ((a_{1} * ..a_{_a}.. * a_{n}) != 0)]"
      ]
     },
     "execution_count": 2,
     "metadata": {},
     "output_type": "execute_result"
    }
   ],
   "source": [
    "%proving mult_not_eq_zero"
   ]
  },
  {
   "cell_type": "code",
   "execution_count": null,
   "metadata": {},
   "outputs": [],
   "source": []
  }
 ],
 "metadata": {
  "kernelspec": {
   "display_name": "Python 3",
   "language": "python",
   "name": "python3"
  }
 },
 "nbformat": 4,
 "nbformat_minor": 0
}