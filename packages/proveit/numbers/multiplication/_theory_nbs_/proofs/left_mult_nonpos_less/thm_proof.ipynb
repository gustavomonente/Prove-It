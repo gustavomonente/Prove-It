{
 "cells": [
  {
   "cell_type": "markdown",
   "metadata": {},
   "source": [
    "Proof of <a class=\"ProveItLink\" href=\"../../../../../_theory_nbs_/theory.ipynb\">proveit</a>.<a class=\"ProveItLink\" href=\"../../../../_theory_nbs_/theory.ipynb\">numbers</a>.<a class=\"ProveItLink\" href=\"../../theory.ipynb\">multiplication</a>.<a class=\"ProveItLink\" href=\"../../theorems.ipynb#left_mult_nonpos_less\">left_mult_nonpos_less</a> theorem\n",
    "========"
   ]
  },
  {
   "cell_type": "code",
   "execution_count": 1,
   "metadata": {},
   "outputs": [],
   "source": [
    "import proveit\n",
    "theory = proveit.Theory() # the theorem's theory"
   ]
  },
  {
   "cell_type": "code",
   "execution_count": 2,
   "metadata": {},
   "outputs": [
    {
     "data": {
      "text/html": [
       "Under these <a href=\"presumptions.txt\">presumptions</a>, we begin our proof of<br><strong id=\"left_mult_nonpos_less\">left_mult_nonpos_less:</strong> <a class=\"ProveItLink\" href=\"../../../__pv_it/theorems/cf9ff7aff3740c4d7f97d816bc0f68dbdc1b17f60/expr.ipynb\"><img src=\"data:image/png;base64,iVBORw0KGgoAAAANSUhEUgAAATwAAAAWBAMAAACvaz3RAAAAMFBMVEX///8QEBCIiIhmZma6urrM\n",
       "zMxUVFQiIiJERETc3Nzu7u6qqqp2dnaYmJgyMjIAAAAcRTyBAAAAAXRSTlMAQObYZgAABCZJREFU\n",
       "SMfFVm9oHEUU/93d7u3t3l6uCIK1CNsexBD/EBrUIm09U2hRbL36QeunO4KiAQ2hJGq1SggaLpXK\n",
       "QqGWgrhtpdUYm8WiYj/IkSDWs9QDhaDUskj7RS0eomBSFd/M7O7t3m6bCCd98Ls3O/u7nd+8eW9m\n",
       "gP/F3nIRsU+vQm63rCngsIcfOqxOGxeIWtqMJUdtSOAr1v6pw/K6TIEY4TwcOHFvmBy1kwKHyKnj\n",
       "HZb3jYsYmxPus6EQOWq6wdFlkbM7LG+Pixg74vodTwbJMWFexZGrT0+/2WF16ohA7LoX3cauV1vk\n",
       "OLso8Ge1urfD8pJ9Ajgwv9byw7FuaIBWVu/zOg7+7JNDxKProd4MzIODgjy1/IjSCkTN1dxWpiEg\n",
       "rcav/usZLBivADnH7zmwxyOHiLX7kWwCF8CxxaumuN1n9+RmQ4wYfvFghDmO8/jYfVBsgSMNbOCB\n",
       "Yz91fG09QMTWWi70eWSPyCKo2puRoVr9BBwKko1Ybe/Pb4JR04/GyNtVaVf3IzCKvLtAiaLAfRZ2\n",
       "s+dZhw9dZW256f3n1rpPdonaP3wuNyBPMSmDQ28osepyrx+2SF7ug6i8g+3ZkLtMn/0DCTss7ybW\n",
       "yQIkZvNbUJ72hdEie8TneB4toVzy5anOo9Q41n2J70p3ddMbqRuKtYU9k7yZgDy98Ail6rHXqDlQ\n",
       "wYtslPXDJSQvs3EXoTRCi6v9hWyzNQeZK5DE4qr3NFqZECamHKwlt83F1BM0ypi8xLLbGlZoMnre\n",
       "2ilOO6OW6g/I6007o5i5yBN4SV7Ftv9S2ZJe4qMvQTFCpaFdQdrxD9nTlO+9Xmmow/5WGyFmKpiE\n",
       "Xxo4RfNJ9clsVjJYHHB4G3o0nrfG3U8VA/JKXQ3It/DvvzOSZGdNPx6DdqYoopdw5bHNg2ECCxWv\n",
       "mqUrmaZKslO8491i63hoIyJVkf4mt9EFy8OEnRT5sch/N2JQfqFanYDx5R1BecjT+XiO96RqaSZm\n",
       "Dbop9mdsnnt5d1C2gAzH1z0+6OnQBnsL7ObRVWrfstqIxCwwFZdc5KjeZs3M9xZPXJkxRnEjKmJx\n",
       "P6oH5ZVRgraBjaAUE+S0Reyfpqc77WDlXutQOxF7AoaNsg/aiIAoH7O8HYest3VHJ4cxqYnPhTw9\n",
       "UBpq8xxoDdSnKYZK6WGo+7Ba/p3n+IUGCv6+t4IrQdv9IWjDmC36VwI3woMfbsJO+/i3c3Vy2Nrj\n",
       "IEMBye79Ret3fHnasw/dznfOSZP+8QbkNdh6W0GU4Gkkz/rnVcYUuOqF6uTzzMZ8ctBeplT0L1RB\n",
       "c6vJ1kxWez3Vidar8LYsT+E97Cf5//k6mln+OjpQYMkzhfbDNmu6Ll3bEflse8czkhN/Nb/2Zf67\n",
       "FV7mc6ZAsMtz0vnasvK2n6Ufsa7ZKtk+XE9LXZ9h/wUB7C8vfbWhsgAAAABJRU5ErkJggg==\n",
       "\" style=\"display:inline;vertical-align:middle;\" /></a><br>(see <a class=\"ProveItLink\" href=\"../../../__pv_it/theorems/525f52bdaafb062f8ae1f4232459cfc886cdd2510/dependencies.ipynb\">dependencies</a>)<br>"
      ],
      "text/plain": [
       "left_mult_nonpos_less: forall_{a, x, y in Real | x < y, a <= 0} ((a * x) >= (a * y))"
      ]
     },
     "execution_count": 2,
     "metadata": {},
     "output_type": "execute_result"
    }
   ],
   "source": [
    "%proving left_mult_nonpos_less"
   ]
  },
  {
   "cell_type": "code",
   "execution_count": null,
   "metadata": {},
   "outputs": [],
   "source": []
  }
 ],
 "metadata": {
  "kernelspec": {
   "display_name": "Python 3",
   "language": "python",
   "name": "python3"
  }
 },
 "nbformat": 4,
 "nbformat_minor": 0
}