{
 "cells": [
  {
   "cell_type": "markdown",
   "metadata": {},
   "source": [
    "Proof of <a class=\"ProveItLink\" href=\"../../../../../_theory_nbs_/theory.ipynb\">proveit</a>.<a class=\"ProveItLink\" href=\"../../../../_theory_nbs_/theory.ipynb\">numbers</a>.<a class=\"ProveItLink\" href=\"../../theory.ipynb\">multiplication</a>.<a class=\"ProveItLink\" href=\"../../theorems.ipynb#left_mult_neq\">left_mult_neq</a> theorem\n",
    "========"
   ]
  },
  {
   "cell_type": "code",
   "execution_count": 1,
   "metadata": {},
   "outputs": [],
   "source": [
    "import proveit\n",
    "theory = proveit.Theory() # the theorem's theory"
   ]
  },
  {
   "cell_type": "code",
   "execution_count": 2,
   "metadata": {},
   "outputs": [
    {
     "data": {
      "text/html": [
       "Under these <a href=\"presumptions.txt\">presumptions</a>, we begin our proof of<br><strong id=\"left_mult_neq\">left_mult_neq:</strong> <a class=\"ProveItLink\" href=\"../../../__pv_it/theorems/eb6b281b8cd43ab4b8d10cd9543faa2a8a708ab00/expr.ipynb\"><img src=\"data:image/png;base64,iVBORw0KGgoAAAANSUhEUgAAATsAAAAWCAMAAACIR8upAAAAPFBMVEX///8kJCQoKCgUFBQNDQ0Q\n",
       "EBCIiIhmZma6urrMzMxUVFQiIiJERETc3Nzu7u6qqqp2dnaYmJgyMjIAAAChkoCbAAAAAXRSTlMA\n",
       "QObYZgAAA+ZJREFUWMPlWNuy5RAQzVziFhrx//86moi0SCJnzsOeGlV7dwkWltYX0/QPFeOpfC7W\n",
       "9L876AIP42W57t+9/3DqQFM5UlSXPLN2gV/gJels+bzCh3O3GiqH+F67DIgu8Au8JE3h3OgPp85z\n",
       "KseKYx21013gV3hJFnWrCvihZTFUDirK3FE72QV+hZekd4DFLJ/uKBYqh2+6eFC7l4AFL8mgsSzu\n",
       "w7ljnMrJcMfZ3DHSwJgygm23y51upJZd4EtAYByhTG4qeElmDdbmW3YobvV95E6k7Th2OkrtqRRz\n",
       "XPEaOghxqF/YtGSz7ndv4dZUfv7Gf34CvgR0sQkXFQhekoJf+qOBgEc7tahqj+8cDpfPeKmPj7u3\n",
       "qjV3lkiYcctcn88FYzcXYBJZG+xyr3ZXgDuisRNHdrQmeFniH3sV3IF1nMcRIHWcQa5uhDujBoxa\n",
       "6rMkU9Jo6SyI5Kl9KacGYT3uWdd1yEaTZLuMPmBFjJ9n/BoYwcvS+czfeLSgrQGcyZvEmh3iTg9c\n",
       "2dQHAmrGbG+5m/XeM2sPoSSwS+5OxukC8IAokFa5NVHuYpRdDgM4U6ussQyXrDh0wbDPAtslT5+k\n",
       "zY2myx0ZPgnXwHQmzH1kQLzF391ZCNjVhv4RyAMFYiH27secrZ5qgO8A05VlM8XbpDZboA2LjPOW\n",
       "fTGY1JovULKYsUHOxzTOg28P8cDdPlwlR/47/vwRhkx47COb29PzFRBwxxH/nLFayGadQeMrLnKI\n",
       "R8BJq/LX+oo4G9+45FGj5H5O8ezW/fANINFMo6rUVdob7sjwidkGpjPh1ifr3dxwR2KDOBFDb6qm\n",
       "kz8WkQQdan7PSQ9xziGeACOEQtgGr8hiHtDGsKPhCAdusDN6VLkkHYlzGSvlNXdkeE23C8x5wj3X\n",
       "TzcuNOFOc1dAMSaNYqegCBtiRLa/bKxkiZ2k/QkwN/Gyl4JXpIdt0QZVGOBoZ6s1jqgz1iq5HFgT\n",
       "IGhqdtJwFc3Lr59oZPwRhkxI+nT97FdzMuIFLb9J9u6Dp5XiQetdY3Qog/CYtsBkQrSuaKBSLU4h\n",
       "o+ImJd/pjJG4pPl25a4Op/FJgUmg+4SkD0b6p/juW94Cum9FT4DRCMZTFp23AKK+ilmGgZuMlwmU\n",
       "FzG+h1xLjTqTr22N4ddVH1PrQ2i5D6fxSYFJoPuEtA9zrrOfEl3oL79B2X7i+QCIHl+zzhvUZcLQ\n",
       "1sBUX8eyvestow9W13yAsdPAvv7y7ZPScvFE+QAoorWTL86POlCsqZjWPSdu/VUcxlWYxkcPJIXv\n",
       "39ybGEo8AA/j+TtN9aea8G7gqaXLnT9oWIXxl33+08L/o73+AZ4kNYA11LruAAAAAElFTkSuQmCC\n",
       "\" style=\"display:inline;vertical-align:middle;\" /></a><br>(see <a class=\"ProveItLink\" href=\"../../../__pv_it/theorems/eebd3e13988585c93bd33f465bef6b47ba01918c0/dependencies.ipynb\">dependencies</a>)<br>"
      ],
      "text/plain": [
       "left_mult_neq: forall_{a, x, y in Complex | x != y, a != 0} ((a * x) != (a * y))"
      ]
     },
     "execution_count": 2,
     "metadata": {},
     "output_type": "execute_result"
    }
   ],
   "source": [
    "%proving left_mult_neq"
   ]
  },
  {
   "cell_type": "code",
   "execution_count": null,
   "metadata": {},
   "outputs": [],
   "source": []
  }
 ],
 "metadata": {
  "kernelspec": {
   "display_name": "Python 3",
   "language": "python",
   "name": "python3"
  }
 },
 "nbformat": 4,
 "nbformat_minor": 0
}