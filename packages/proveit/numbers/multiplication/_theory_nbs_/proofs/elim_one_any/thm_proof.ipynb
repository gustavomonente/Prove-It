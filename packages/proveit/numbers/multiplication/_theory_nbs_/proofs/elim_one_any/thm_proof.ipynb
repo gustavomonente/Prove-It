{
 "cells": [
  {
   "cell_type": "markdown",
   "metadata": {},
   "source": [
    "Proof of <a class=\"ProveItLink\" href=\"../../../../../_theory_nbs_/theory.ipynb\">proveit</a>.<a class=\"ProveItLink\" href=\"../../../../_theory_nbs_/theory.ipynb\">numbers</a>.<a class=\"ProveItLink\" href=\"../../theory.ipynb\">multiplication</a>.<a class=\"ProveItLink\" href=\"../../theorems.ipynb#elim_one_any\">elim_one_any</a> theorem\n",
    "========"
   ]
  },
  {
   "cell_type": "code",
   "execution_count": 1,
   "metadata": {},
   "outputs": [],
   "source": [
    "import proveit\n",
    "theory = proveit.Theory() # the theorem's theory"
   ]
  },
  {
   "cell_type": "code",
   "execution_count": 2,
   "metadata": {},
   "outputs": [
    {
     "data": {
      "text/html": [
       "Under these <a href=\"presumptions.txt\">presumptions</a>, we begin our proof of<br><strong id=\"elim_one_any\">elim_one_any:</strong> <a class=\"ProveItLink\" href=\"../../../__pv_it/theorems/a012f0c2fde0f34ce10d95dd5d28a817922547e60/expr.ipynb\"><img src=\"data:image/png;base64,iVBORw0KGgoAAAANSUhEUgAAAtwAAAAZBAMAAADwPeR0AAAAMFBMVEX///8QEBCIiIhmZma6urrM\n",
       "zMxUVFQiIiJERETc3Nzu7u6qqqp2dnaYmJgyMjIAAAAcRTyBAAAAAXRSTlMAQObYZgAABipJREFU\n",
       "aN7tWm9oG2UYf9bk0uTukvpB0LYIWeufgophA6du02jB4BeXKkynYmOxHxQdQSF1OjTWD6aTwmEh\n",
       "q4ONG7Kt65gNjLL1gy5aV9E5CSjIpCuBqeg+aBlTNJ3D98/l3rv3LneXNLT70Bee3N3zPPc8z/3u\n",
       "fZ/nfd8LgEsLDO2CtdaU5h/a7arTugZT81p+leDer9GKNkmx8kKlFXA8oxGCu4wPF5zgjuBDuKlh\n",
       "iVlKyzf0broOnZeswokGHU/cVEdwAYUSgvssvr7kBLdcQIeI2ky4IwqlBntph8FSzIO3qs4nVtnv\n",
       "jQZxEbw7FsuUENzjeERlneAm0vGmjq7vNWqoHZ6rsIu2gvsNuo4c5UXhWKNRLEEdjr/QKE+6rVxw\n",
       "zN24759tKty7NGqshQ1wb/Mw6nQd8QbL0zU6xPwVqMPxQY3yEP5mcnKvc6mcn5w8mm4m2qE0pSbA\n",
       "/ZUHfabzMy/a22gMcroex5E4JTQz+SeX2+0Md1su936xmXC3xCjB2Ox6994Z2rKhoybcv3ZtdjXA\n",
       "dGZ5UbedfS9BRAa6C94dyzFKCO5BgBFnuANJCCrNhDtYouRvhz/dtR9WIou14BavqVNuoRl0Fsiz\n",
       "/0Eaydqjdva9BDF1SfwXPDsOlykhuHtJ0WyhNeMXO7j9MbuazrXHy954xGaB0sES3Acg0EJt081F\n",
       "8nML+LK0H2o6Gtz4QqpAWxSeZtpcYzrk0U7y8rd0+842jEEQndMqXHaLnDmW0pTyGM8W1NEE+hro\n",
       "ABFe/xLWp9gyJw13uyezmBvv1FxGmxmsi1N6SIXXQNiYpl3Bev8Ufl2+CrSi+3YwHQo3ufCVYar4\n",
       "5Camzfevqg59tH5e4caqfTcbLAiq8yCIV10j1x0Li5QQ3HLJvHA8NrsVTsmqT2VwnwP3whApOPCw\n",
       "zUN74PmiGe6bQfwLDR5qPGMzCvArX5eFqaTGyBh7d4bObLcVIMG0ucZ0SLODW7PvbMMYBNG5CP4l\n",
       "t8iZYwPcofJ2U2L8YJ8Kn0ZjsmERf0BIuc8xldo8YvN8EaSiKZmIV0Fa1OGu1VAHOV1zZtJWwkMk\n",
       "4RwZ0SEtYcjdKS2ZaPYT9QXxH+7wLpEzx1jRT5MJjLyIzm8nwwJV2158Mj39oRHuYB51RXHDzqR1\n",
       "pOnM/q6XLdIqD9v0P4sUFVOpFJcgUJ5xhbsAOyXlkZQ93HGUVd3gxjoimUgs8LLRqn03uPkgruDC\n",
       "4wa37thQKuEEukluw6/B5y/TPZRp+fhzBrglnNiOJPtVCHBlgTDJpsodardFinl4owLbDB9XTDkd\n",
       "0zD8mCqagsY5j+RClkSD0XBGhqJh8tfCzgOlYMwEt26AZVSigx8NYAuPyGzVvosNSxCvwnumccn0\n",
       "WeTMsa9ICcONq+c+UrOPyimRVLdpKM4adwQvI9oIT4HwOQcoZtIyPAwLFukw7U7EpnSMwV0dW4e7\n",
       "dgzETXCTnJcxJVFx4Lb8raFjTMn3wrWtbHSdMycC3QDLqEQHPZrdxCuh2Xe1wQfx8V0lcxrU9Q2R\n",
       "644jSUoY7rBKkKGjXHgjlxtGcO9vNcL9E6JOQAmnlQOUMLWic69Finm4UGCboelkjUW838sCLRh1\n",
       "ECY8zvXFdO1FfKKBILxFjhwfAUrV/W6xktRqW4r2bv8T3H43mtWPTvKAEqbUhU8rCHoebsy7gMYQ\n",
       "sflAlM1QTVtUnoKeOrRMuHHZdtqiSjQQhKfIsWO2RaXtaZaLoT0AfQBn8OUPAPMc3NAuXClhQJHe\n",
       "uFr9wUypF/PeDGctUsQLPZPWbI6dYY+LF6n6QlXyEvRnsoPwpAcDffYbsCP12OCD8BR5n2kDVuum\n",
       "ryhCJ0APQgEVUv/bcQjwcD96ZzeBG+n1KUI7/umkzEHM2/4tWKSYh5akxCaI3/02qI+KLPu8ENr0\n",
       "d9TDruvXtWVj7wy4G+gB282KiXpscEF4i7zH0LuMH88kmsF7csPcIt54pRI9dgfGLh3XzuykZHOX\n",
       "s7kaH89QAOFV+XiGHJ8HSia4ZwKPddhuUbEm3LNZ++pG76CHAZWe2Uqb+xmo0Wb7aCvv2Ah3KTCn\n",
       "uMBN9eo5++gAXBdwzynXg2MPX+KX9z+T+fthrVUnMkOZ/wEh0QxWn6f0YgAAAABJRU5ErkJggg==\n",
       "\" style=\"display:inline;vertical-align:middle;\" /></a><br>(see <a class=\"ProveItLink\" href=\"../../../__pv_it/theorems/813348a05db42ee86e02aba4f4822168c438c4370/dependencies.ipynb\">dependencies</a>)<br>"
      ],
      "text/plain": [
       "elim_one_any: forall_{i, j in Natural} [forall_{a_{1}, ..a_{_a}.., a_{i}, b_{1}, ..b_{_a}.., b_{j} in Complex} ((a_{1} * ..a_{_a}.. * a_{i} * 1 * b_{1} * ..b_{_a}.. * b_{j}) = (a_{1} * ..a_{_a}.. * a_{i} * b_{1} * ..b_{_a}.. * b_{j}))]"
      ]
     },
     "execution_count": 2,
     "metadata": {},
     "output_type": "execute_result"
    }
   ],
   "source": [
    "%proving elim_one_any"
   ]
  },
  {
   "cell_type": "code",
   "execution_count": null,
   "metadata": {},
   "outputs": [],
   "source": []
  }
 ],
 "metadata": {
  "kernelspec": {
   "display_name": "Python 3",
   "language": "python",
   "name": "python3"
  }
 },
 "nbformat": 4,
 "nbformat_minor": 0
}