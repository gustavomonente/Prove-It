{
 "cells": [
  {
   "cell_type": "markdown",
   "metadata": {},
   "source": [
    "Proof of <a class=\"ProveItLink\" href=\"../../../../../_theory_nbs_/theory.ipynb\">proveit</a>.<a class=\"ProveItLink\" href=\"../../../../_theory_nbs_/theory.ipynb\">numbers</a>.<a class=\"ProveItLink\" href=\"../../theory.ipynb\">multiplication</a>.<a class=\"ProveItLink\" href=\"../../theorems.ipynb#left_mult_eq\">left_mult_eq</a> theorem\n",
    "========"
   ]
  },
  {
   "cell_type": "code",
   "execution_count": 1,
   "metadata": {},
   "outputs": [],
   "source": [
    "import proveit\n",
    "theory = proveit.Theory() # the theorem's theory"
   ]
  },
  {
   "cell_type": "code",
   "execution_count": 2,
   "metadata": {},
   "outputs": [
    {
     "data": {
      "text/html": [
       "Under these <a href=\"presumptions.txt\">presumptions</a>, we begin our proof of<br><strong id=\"left_mult_eq\">left_mult_eq:</strong> <a class=\"ProveItLink\" href=\"../../../__pv_it/theorems/92033fec5247bbee91327c96aac18415636d16db0/expr.ipynb\"><img src=\"data:image/png;base64,iVBORw0KGgoAAAANSUhEUgAAARkAAAAWBAMAAAAGH/VFAAAAMFBMVEX///8QEBCIiIhmZma6urrM\n",
       "zMxUVFQiIiJERETc3Nzu7u6qqqp2dnaYmJgyMjIAAAAcRTyBAAAAAXRSTlMAQObYZgAAAyVJREFU\n",
       "SMe9Vk1oE0EY/ZLsZtPNJu1BL4KwtBp6EBqUemprRbQnbXrw59YSFPVSithe9NBTSVBxBbHFKq4t\n",
       "VCligiJSKRjaW73swYMtKnuwB8WWIArag/jNT5L9mZhASh+8/fveZl5m3uwMwDagyWL0IWqIxT4s\n",
       "cNrk5lNjbp5y+nFZLPYhbDC+IzffGnPzldOP52KxD6rNOEU6b7whM7EkowCaLhILsMQYN/GdfENu\n",
       "FINR9J9bRGIBHjPGVubnJxsbqElOEb6IxALEexl/ZzLXG3PTxtnUdXBP+eFM4u4BHKZlkdgpVNt0\n",
       "uGOChgNIeAEgW0eTvdVLtziPGvFiuZFC7IqCsfxM07NJkQSBUJNaoAOHyGY8RsNcDdGbF9P04j9B\n",
       "v8ao7oUQVZmkEVPbkjAirwVil3A6ZEMG2xlhVCBoiRO4eMhSz5ny91pudjGGtkAhU0j9Sw4QoW8M\n",
       "CsQuoRnQ4QeAXGTULEXcyIeFeYg9AFis001gHHIpcj9Gnzbr1dy4hf2m/Kvipsk+g89mE+t02ncm\n",
       "UCclQDElMszHX6HA4YbVCajGNVK5Arx1NDtIhX2O3AyBSNgDQfwMSCOMkD2PnTYqb+Fl0BxWMK5a\n",
       "szkAcSJdWy29RN3Q+qUMwqIaV4pzeRguL0xRswPVPMWeyLuEMAGRoUqK4SVaCiVlYkyGDSK43wft\n",
       "MEuu3iy43PB6WcOwzBjRY2Naqdyfvw0P8dzldeMVwmHox9yGCox0gAP5IO1H+EOPXZCGs9gD+vRp\n",
       "l5tSvaRh6GNU0/vv7StV51pnusnkWPe68QpReQT7KZ5ihBh2aM6IrJEUyEWZKK7CbgiTi9AMmR4V\n",
       "N6Q+TDJgUU3tlWGkjpWhB/mEkyJgDJ6EKfORZmt4glGpCFqKfjVTdEHjbmidg2i2YdUM2+rPyqrJ\n",
       "Z0j6RTcM5OfeL63gCU60Y6BukMKzzYlUxQ2tc1ANQxaqfc8FOwqPULEiemVH4QRfyvOqEcExD2Ju\n",
       "KjXv94Zpau22sjV3W1JrJx4jBqN/3xg1woVTvh/xunFqqu5EY/XuRFc5ne+WTtLHQk03Is3OIbkT\n",
       "jfwDi2L/baMxXb8AAAAASUVORK5CYII=\n",
       "\" style=\"display:inline;vertical-align:middle;\" /></a><br>(see <a class=\"ProveItLink\" href=\"../../../__pv_it/theorems/c923cb2afe8c3e5f79c364ae305a238c2f48724a0/dependencies.ipynb\">dependencies</a>)<br>"
      ],
      "text/plain": [
       "left_mult_eq: forall_{a, x, y in Complex | x = y} ((a * x) = (a * y))"
      ]
     },
     "execution_count": 2,
     "metadata": {},
     "output_type": "execute_result"
    }
   ],
   "source": [
    "%proving left_mult_eq"
   ]
  },
  {
   "cell_type": "code",
   "execution_count": null,
   "metadata": {},
   "outputs": [],
   "source": []
  }
 ],
 "metadata": {
  "kernelspec": {
   "display_name": "Python 3",
   "language": "python",
   "name": "python3"
  }
 },
 "nbformat": 4,
 "nbformat_minor": 0
}