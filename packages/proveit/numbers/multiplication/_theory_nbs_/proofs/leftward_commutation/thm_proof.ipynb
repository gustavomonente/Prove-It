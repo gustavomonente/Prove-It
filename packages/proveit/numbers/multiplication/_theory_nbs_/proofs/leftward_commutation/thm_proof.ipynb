{
 "cells": [
  {
   "cell_type": "markdown",
   "metadata": {},
   "source": [
    "Proof of <a class=\"ProveItLink\" href=\"../../../../../_theory_nbs_/theory.ipynb\">proveit</a>.<a class=\"ProveItLink\" href=\"../../../../_theory_nbs_/theory.ipynb\">numbers</a>.<a class=\"ProveItLink\" href=\"../../theory.ipynb\">multiplication</a>.<a class=\"ProveItLink\" href=\"../../theorems.ipynb#leftward_commutation\">leftward_commutation</a> theorem\n",
    "========"
   ]
  },
  {
   "cell_type": "code",
   "execution_count": 1,
   "metadata": {},
   "outputs": [],
   "source": [
    "import proveit\n",
    "theory = proveit.Theory() # the theorem's theory"
   ]
  },
  {
   "cell_type": "code",
   "execution_count": 2,
   "metadata": {},
   "outputs": [
    {
     "data": {
      "text/html": [
       "Under these <a href=\"presumptions.txt\">presumptions</a>, we begin our proof of<br><strong id=\"leftward_commutation\">leftward_commutation:</strong> <a class=\"ProveItLink\" href=\"../../../__pv_it/theorems/8c27cfe34e999e9c90f3e612e9eda9111f540dd00/expr.ipynb\"><img src=\"data:image/png;base64,iVBORw0KGgoAAAANSUhEUgAAAu4AAAAyBAMAAADxUEOEAAAAMFBMVEX///8QEBCIiIhmZma6urrM\n",
       "zMxUVFQiIiJERETc3Nzu7u6qqqp2dnaYmJgyMjIAAAAcRTyBAAAAAXRSTlMAQObYZgAACe1JREFU\n",
       "eNrdXHtsHMUZ/3x3e+fbvYcFCEgQ1cUmEEFpLEJ5JQRTVKxWIvhAIgRUbLnwB09dXy6UCBzzBwcU\n",
       "uigVJEjAhQiSOII7XgJLiCwxBDU05QSq2vAIlhKqQlVqiB3hc2k6j93Z2dnd2/HZ8Wk9ks9zs7/9\n",
       "vt3fzn4z883PBpArLUePGtDM8jaEv6h99Pf7R7+WPaVlZHOpmZecMhYA77CG/tqx+UVp3nuae8Wn\n",
       "LwTaIT1mVvIh4V1rY9Unw0Gxpnu1/j5kvG/pYjFysMHYuqEQDNp+Ut3D1x4v4cgC3VzvPsLC+32s\n",
       "ltEbNJHplAAdrH94WsaRCXqh3nsbEt61Gqt+2KiNbEWeM58Sq0mYsECpnNfR9aHiPWH31bsatXFl\n",
       "SZ4zv0mVRKhiILXN6+guPUy8f8aCS7LQqI13Z8DZbEIVAx2q04NCwvudrBbB171xdElw5xVB/2hf\n",
       "GcxZf4czGqXal9oGd/cGhyoONOo5k6yFiHdlglVbqygaLIL/oMb6ExsKirAeqv6vVNbh2vqOyl+q\n",
       "U4h9dq/Ju+ERzuAfShJeEWgJCe0HyIP7ihT7Mr4JEe9RO1QmUG/aUoULQFlBY4JHx1fJjA2DQNEt\n",
       "DBqas7mrz7cBQiF2dpUA8aIxTMKAWzmDq2W8rkankdnia5738lWIeG/ps6voli4pwS9R1yrQbuzR\n",
       "a/GqkIKAYaJjUDag2wYIrBE7q0H9r2CEr6+X8YpAZXJar+e9LNfDw3tv1cH7yaBOWgzAgMfYhR8T\n",
       "BQHDoOHuyorJe6LPfdIAnb7Hpp1GHAYnZLwiEPXizfvT1fDwvlzn4wzqkto4Y8BveUpAMTutk63i\n",
       "zthd39F3EK3BMys5I4JBKa8wqmC/3Vx87xPe3XDwvgH4cVWdhvjYSBADBJTKskCc7VJPhSDeJ3CA\n",
       "7lzDPQca7JlBKa/w71dwpDngCWkthIf3k7mJHZoZDMHf+gyeARJucXzl4i4BPWGPbfFqa6eDdxKP\n",
       "hZNuh/tA1few7+eB+kOHQU+v3HhBQUcIWau8lwjjlHdyyqcyvGfI/LM6/7Srh7mJGrrv59rX9Xc5\n",
       "et6AFV/tuEtBQ7aRc/aBg3eCF07a+n18ew/bJO37QDDo6dUeLwhIOe4hXP/c82bSk5T39/CvL2V4\n",
       "T+EFQaY0/7wr33Bf7uKfQOATqwmvabeMv6l6E3QJr5HBfBL5LtS5mTxswsuDQRneCWpTM7JifLaK\n",
       "5cU0CQa0McPZ8JrMY26rZ1HCa2tubcQvL2a+vHnSgVMVGd7JW/FeE3hPT/I3Zc5tkucfyQX399uc\n",
       "WeON9/bLdFf/Y1JeM3p8qU8eGJUjlPf03uHhx+XG1U+Gh3cUmsB7hH/xG933kC+tuTkx84BP+7fm\n",
       "fObbYnG9HO/ZYvF+owm8pxzZ2WO9z3fjo3MyhKX99me+Z/J+E3k0ZgIJj8FLcj68x3vYW+5f1ozJ\n",
       "tEUnPU69xGeuGq3N51O+7eZja/8kk/fLQB2zEkiAAz3N6qCydlVX5ESO91inb9ByTrCD29Rxr2wg\n",
       "/+X1PQPW84+PwwIqvzB5T0DEOScnWR31jRVVbXAvXMSvmwpwdvCgUpFp0zzeCnjT/L1z9GJ49kG4\n",
       "wVjQvKeqCY857t9HhkH7IAoGz/s+CB5Ws7pMm9dbYW0UpB96ogT7DdCMpsSZY11+a/KeHLsGzASS\n",
       "SnZbcFYnhnnRrl+Xc/D+lNKHF353uOPw1tOt1Vlv+y2uo1zb7naydvyB+63Y2v4vWrkML0+uRz6s\n",
       "p5WaWki8W+MqPHAjujWSQIrG8OuPszokJ6D17P2rg/fWx1Do39bTW4K4c8xXf6OgPklixxmlDvEo\n",
       "aaN6kkQX9uhrIopN4J/089wrEnEPwslqOEgecTedaPH+MgoeNIG0I4UTDTirs5XynmLxgPCu4e2a\n",
       "FbAWlLecpEU7lYK5CTMEB8SjuM2sXQAKMZH3MtEGGnKnkldtJ8d7esJ18dvngJMAkZIfRtkgsbtt\n",
       "geLuqHvY4j2bI9SQJQPqRiSrs7ZYLOa0nmS1wPOON8HgFKxVTDhJa6lErNTQCXCeeJS00XKK+elj\n",
       "IorCj3JnsTiUfJWLZZqb9y/mojMebAwjJcQxQapr/kBz+pj3dIklkPAASLI6cdrf4cc5B+8fIeQU\n",
       "PDwsklbWWz8qvUSwNcSqyDtu+9RgKSd/E4k/fghAnuBFOXsTU/nOtSjpnAvepxvDyAhxGGi3X16M\n",
       "JZCSD5I0WYlkdVKY5nQXpB3xnZRFykQVk7aphM4wP1r03ivglU5AX36XHsRH7WO0LXldAbcdgij6\n",
       "XKRMVp0gYuJn0LL/eYB3SCblHS6xdFi8+IQ+B7TLqL+8MDJCHAba4p3ky9sJJAXFgGWQr9CsDs4g\n",
       "dx8yO5+D98vP6iCk5SvKIsjr+KMS63/pYrycRTau+TMJIahGj+lmG5ohodrGs89En5YJG2SaWNOB\n",
       "gx1+RdW//PMmdq33iBf/+Fx0dxn1lxfm4ExiWKZLtDjF806eBInyZvCKoPgu5gn4DldiSLBq22LW\n",
       "rhg+qvF2geY8Ne67AKIm2jM70eey4pCQQBDvCj+e5KpzFgfevgvECZFcIiWvVaCISa5aOi3hlYFc\n",
       "C5X4uMj7SPwni31k2yLvyvKVHNKsxc805034KDeDojWcbx7hvjtBpokL055/TvOZGFHxjtClegbd\n",
       "QoAQiYI6bEY4IRIRKQXokEQhEzLYWpPwikCR48hIJA6sLYMi79X4Hh3SIMM7sehRg6pfbfNTrK3q\n",
       "AU/XvQ+XPu5uFIhOheggBAiRKAjWMQwvRMIipSAdEidkYgbHZLwiun9NOpQYqJ7OibwH5oFnUz65\n",
       "cBYnc7ola2KKkweJHAQIkUyQjeGFSESkFKBD4oRMzKAh49VAU0TyWou5pTDplqLjbt7R+1rugQAh\n",
       "kgmyMbwQiYiUAnRInJCJGeyS8WrtgLt4vx/Cw3tswh1nygbsgqCNagr6UZ9z0WIWIlIK2KcWhEwz\n",
       "8ZrqvKrPYx88TLpU+JV7XC1X4A40GgcwQEBGjePRnkMRkVIA76KQaQZeMx//tOYeVyNh0mG7JjSj\n",
       "eBc0PZByCZFsLRHNe2BQcqfNLS9EwiKlIB2SKGSq49UeIygoS9YfUcNzqAoJ7y3C1aP7VvuXPnaa\n",
       "W4g04Ii7FMRtVPNCJCJSCtAhiUKmOl7tMYKC8suI3kjgLVx/Z6PV/PIEMkKk8rN1hg4ZgYQr/y/j\n",
       "dZnShq5ym/c6Nix/R3nQLy8mI0R6M1XniUrw7hYyyXgdUgo5V15MWxwu3h8V3FviFCkh0nN/8l/R\n",
       "y+iQXEImKa9fQH+PKw8ctr8bFrvl9vl0Pgshk6h7+TmEi3e2cWL103nc55uNkGm/EB8HZ8x7k/8P\n",
       "SjzXNNdzKGRq4P+gNPv//pwL4S+qKat4/+jX/weyUDHM2BIEGAAAAABJRU5ErkJggg==\n",
       "\" style=\"display:inline;vertical-align:middle;\" /></a><br>(see <a class=\"ProveItLink\" href=\"../../../__pv_it/theorems/b5fd6d2d285c92207408f7c98e2d8d182a8188b10/dependencies.ipynb\">dependencies</a>)<br>"
      ],
      "text/plain": [
       "leftward_commutation: forall_{i, j, k in Natural} [forall_{a_{1}, ..a_{_a}.., a_{i}, b_{1}, ..b_{_a}.., b_{j}, c, d_{1}, ..d_{_a}.., d_{k} in Complex} ((a_{1} * ..a_{_a}.. * a_{i} * b_{1} * ..b_{_a}.. * b_{j} * c * d_{1} * ..d_{_a}.. * d_{k}) =  \\\\ (a_{1} * ..a_{_a}.. * a_{i} * c * b_{1} * ..b_{_a}.. * b_{j} * d_{1} * ..d_{_a}.. * d_{k}))]"
      ]
     },
     "execution_count": 2,
     "metadata": {},
     "output_type": "execute_result"
    }
   ],
   "source": [
    "%proving leftward_commutation"
   ]
  },
  {
   "cell_type": "code",
   "execution_count": null,
   "metadata": {},
   "outputs": [],
   "source": []
  }
 ],
 "metadata": {
  "kernelspec": {
   "display_name": "Python 3",
   "language": "python",
   "name": "python3"
  }
 },
 "nbformat": 4,
 "nbformat_minor": 0
}