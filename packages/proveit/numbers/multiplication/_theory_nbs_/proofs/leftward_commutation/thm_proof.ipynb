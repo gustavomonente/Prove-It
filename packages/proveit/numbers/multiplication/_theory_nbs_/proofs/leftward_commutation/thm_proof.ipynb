{
 "cells": [
  {
   "cell_type": "markdown",
   "metadata": {},
   "source": [
    "Proof of <a class=\"ProveItLink\" href=\"../../../../../_theory_nbs_/theory.ipynb\">proveit</a>.<a class=\"ProveItLink\" href=\"../../../../_theory_nbs_/theory.ipynb\">numbers</a>.<a class=\"ProveItLink\" href=\"../../theory.ipynb\">multiplication</a>.<a class=\"ProveItLink\" href=\"../../theorems.ipynb#leftward_commutation\">leftward_commutation</a> theorem\n",
    "========"
   ]
  },
  {
   "cell_type": "code",
   "execution_count": 1,
   "metadata": {},
   "outputs": [],
   "source": [
    "import proveit\n",
    "theory = proveit.Theory() # the theorem's theory"
   ]
  },
  {
   "cell_type": "code",
   "execution_count": 2,
   "metadata": {},
   "outputs": [
    {
     "data": {
      "text/html": [
       "Under these <a href=\"presumptions.txt\">presumptions</a>, we begin our proof of<br><strong id=\"leftward_commutation\">leftward_commutation:</strong> <a class=\"ProveItLink\" href=\"../../../__pv_it/theorems/b016957d47f146cfaf9b4c397de89876606f15350/expr.ipynb\"><img src=\"data:image/png;base64,iVBORw0KGgoAAAANSUhEUgAAAwMAAAAyBAMAAADywhqFAAAAMFBMVEX///8QEBCIiIhmZma6urrM\n",
       "zMxUVFQiIiJERETc3Nzu7u6qqqp2dnaYmJgyMjIAAAAcRTyBAAAAAXRSTlMAQObYZgAACTFJREFU\n",
       "eNrlXH1sHMUVf77z3sfufUSAaAJCWpwmRFCaU1LxFT4OEESt1MSmUkJAbU4W/NGK0lMLFqCoOOYP\n",
       "DiLEoiBIQKAFi6Q4onfQVMUSIksCQSQBTkVVk5QklkKilqpgBRvhCyGdmZ3d253b3ZuMNz6tGcl7\n",
       "M7Nv5t2+3+ybNzO/MwBf6jp92oBOpndhVqUt5kfm9Ok5vE26RjfrnfzKGWN2QdA9Rj7kzc/zQ9Db\n",
       "2a+8EGZZOkw/pahAoDBf9IWIGHrU907KiBgELxVdRXlQrBt5fbm90J9+EHj79nM5FEnrC+Qzofl+\n",
       "lfMiBsEj7mJOE+wnV+AQOhp8+ySPonzNNPSYr8Tr0YJAabjLn4h2RC0zHRt3N3gUraTBy05fiaQR\n",
       "KQiSzOB9ULSjlRxhXRsbZ8o8it63PKj/sJqKFARH3I4nXRbt6H2e+Lc8fV9mO7Nc0VfkD5GC4AF3\n",
       "MYatsHHXxe2HdPraJRc4y8d7lrWfL/rnM+5qZ4/99Bt3rq1xaF1gObOMP2BH9AhBIE0wAV0duYt5\n",
       "8CW60yY0ulHLjQPMt8OQ7/SqBrcHt6l+LiMfkWs+8LO1lDWrIq1P6hxaUw2InYOzWdLyoy9wYqb5\n",
       "qhohCOLM10yigfhSHa4CaanpNDxeB5lcLoI4MtcaSwZN63n1F1c2Bbwa7dDhBBJtyqyDRI3mkdbr\n",
       "ubQiy99HPL6/V8uNRQiCrhJTRg72Bh1+j0Zl2RzcHmMZP2C8AUnVegFweQyqBixvCng1uh7kb5lO\n",
       "7DzSuo5LqwEyaSaN+z5VbCpCEKytt0IwF+RJyxgw4BFEYdi6BqFqffEBcypdWaMQJEs+jY5C90mm\n",
       "EzuPtE5waS1SoQAI0qciBMFircURoYGqjNvG8HXrBuwAuMk2dr6Ox/HyYG2n8DB+eZmzE9vPnIHW\n",
       "TOG2kiVqzgXHGbnzIwTBemiZjuWTkBgbbWuMGtyraIYd6OeLyE+3g2ACe/zCCnDgBjQKOhOtuX/9\n",
       "rGFNx97p0QhBMJeN3FGkNwT/LBlOYxDXTC5NL59SswOZ9DZbKFFPFVwQ2PIOx/5beARkbXczGCjB\n",
       "sPX0LVqbjRmtkL+bNDb8H+tjCgFpeIgHghwJsuozj4D8Fbt+RSbY0rOmv+gyxoB1aXp5uX/BMz9E\n",
       "JrHLSz4E91tgyzcd+/CP8DM+0ZTZd8juoFWr3ZjV2rcIvzq5gKF7pNeEYC8ufM4DQYZ0qc88BNIJ\n",
       "tuZBJxhtU/UVd3k5j9KpoC0MHq2LpDloCtsaFGWoJgSb8Nw8yAMBkdrUiU26ln0ze5tO4THG2xl3\n",
       "+W88sAe5aC6tQ1JZDdqmQ0OjYCrCwzpT44GAvCt7OwBBdpKtSdEQKX3l12r79ls+cBU3Ptzfvk0s\n",
       "YFTyaf0P9PcGbVajeb5kQpDdMzLyLN90/OnIyKvlDkAQa3EKokc2/CmlhtNN0MFGfpC+bt9UKuv4\n",
       "IMhXKo8aHYAg07p7fLYPLu96Kpw570CgTccoBCh2eoxuPgIcQ38Xqz4QJHqDUSVpxRhPXXzSo+kN\n",
       "PtFDvDHjqN/z65nYdylTCG4mDksybYsnhWSRiqy+thg73wFBdwH+3H7IFnjqZK91e9VZeHP3gDUU\n",
       "EuMwK1NyDoUgCTF3rF/F76D81tK6MrgHrnEuzcpwedt+czWeOsVrmnqbfm7bdR288jj8yvi+QJCp\n",
       "Jz3C5v2jI6D8PQ6GE4IPof1snNd46jxPMnbRAGjDczocMEAxOueIZgYCyxGlx1YhH0OoUjI5Ltol\n",
       "LcQ+Bw3VO9eoLghelEp4hXlvq88eXnjMWm/0/KZ1DdKs29lDFqk/bn1Xhnv+a2ZuxoufO5EOC7jM\n",
       "1OyEwJ6O4bG70FPmsfeJE5rd/7ZXdbIZofTu+YcLgtQzaJrY2rtWh4Q7YJDvl9BIJc7lEn0+e5fU\n",
       "AZngksU+COgCn3SQbrKvOV6c2OSMR0RhpdFACEoWBH9B78NzZMX4agZXfo2sPWxCkLEdBoFAwedN\n",
       "S2E1SO+47RcvSGV6ijQEh9m7uI7mrgKJdNHn1cUcUJA6mbyA2xwQZCfOxrpAlNYVEpUL++eCBUFe\n",
       "JVYiKwk0MUvnbEDBUKVSUZXedL3shAAf6MGFmN+ZdNuvqxazNqnOgyvYu6TOTBfSq08XceSfpAcq\n",
       "laH0Xx3OTmmBQJjK5epEkNYVEpWLHkQQCLLIFnKj15o3Y4N9aUiYbwHcorogOIgkp+CJEdZ+VS11\n",
       "UH+DyDaQgVkIcN0hw9788u8i+fQnAATMa9Tm2ax0ynePaDpJkNYVFpWruU1nBYlG+nFA/mGTnlJX\n",
       "xyCDLZ4tQtY1F5A0T5qoY/tt0lELeunS1v4cthcAFR7KDuK7zXtmXfqOMq77DOLoOk+arLuFSBe/\n",
       "hK4DrwG8RzZy3oOMvURkN6vFqVxeVgpKHvYOi8oFsKPmhEC+R5OQk1gEfbWcllgAsAFHp5/RIemC\n",
       "4NbL5hP79dWkedCn4Uutu/+N6/DiGfWxah/xMShn3tNoHYqxUG7j5Zeiq9VFU4h2sQLTTVL4m8kf\n",
       "/ftu+7v+kd0nC2WnSpDWFRqVCz7WgNmSVciMQN/OGJoL2A0KZ0ir25Jg5bZ2U+oHuas4+wVzN1Zx\n",
       "lBkhs4ue3DZ0XVQZYnYu2H07YSqXk5UlROsKkcoFvwMWgtHETy8ARfPfpnNM+IuXOSRpLnEpDcLw\n",
       "XUc4Zubwpvioo+wWol1cnfX8PdMRxtbCVC4nK0uI1iVI5fJOc1sgqCd2a5AFHghI5x45qPvlNr9o\n",
       "19U9xLOBj8QOPGEqF2VlcdG6iDxL6wqTypU+0QJB8Epumsf3n149nWVkiSkXRalcDUc+mNZl9snS\n",
       "ur63VK74eCsEQlQuysrionUNmLOqm9YVJpUrVY4QBN0TLY5IjMrlYGUJ0bpEqVze6xI1QhBQKr5z\n",
       "OhakcjVZWUK0rlCpXIv1KEHAhETCVK64g5UlROsKk8plnoZFBYIu94MIU7mcrCwhWleIVK6I/dCJ\n",
       "/bnf9KhcziRE6wqFykVX2ZH50etRn206ISqXMwnRukKhcr2uRwuCp9zqp0Xlcu03iNC6QqFyRe6n\n",
       "38y4O/tULhfgqnhT34ONRCFiENhnPjTN5MHldGhd/lSu/XDGEHT4n+Ek1I6pPiu0LpF/htPpfwn1\n",
       "E5hVaYs5oPG/hPo/GVwvg0v2t3IAAAAASUVORK5CYII=\n",
       "\" style=\"display:inline;vertical-align:middle;\" /></a><br>(see <a class=\"ProveItLink\" href=\"../../../__pv_it/theorems/eaab82b29a81cdbba0f3f3d1e7a724a3bf13a91b0/dependencies.ipynb\">dependencies</a>)<br>"
      ],
      "text/plain": [
       "leftward_commutation: forall_{i, j, k in Natural} [forall_{a_{1}, ..a_{_a}.., a_{i}, b_{1}, ..b_{_a}.., b_{j}, c, d_{1}, ..d_{_a}.., d_{k} in Complex} ((a_{1} * ..a_{_a}.. * a_{i} * b_{1} * ..b_{_a}.. * b_{j} * c * d_{1} * ..d_{_a}.. * d_{k}) =  \\\\ (a_{1} * ..a_{_a}.. * a_{i} * c * b_{1} * ..b_{_a}.. * b_{j} * d_{1} * ..d_{_a}.. * d_{k}))]"
      ]
     },
     "execution_count": 2,
     "metadata": {},
     "output_type": "execute_result"
    }
   ],
   "source": [
    "%proving leftward_commutation"
   ]
  },
  {
   "cell_type": "code",
   "execution_count": null,
   "metadata": {},
   "outputs": [],
   "source": []
  }
 ],
 "metadata": {
  "kernelspec": {
   "display_name": "Python 3",
   "language": "python",
   "name": "python3"
  }
 },
 "nbformat": 4,
 "nbformat_minor": 0
}