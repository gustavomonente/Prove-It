{
 "cells": [
  {
   "cell_type": "markdown",
   "metadata": {},
   "source": [
    "Proof of <a class=\"ProveItLink\" href=\"../../../../../_theory_nbs_/theory.ipynb\">proveit</a>.<a class=\"ProveItLink\" href=\"../../../../_theory_nbs_/theory.ipynb\">numbers</a>.<a class=\"ProveItLink\" href=\"../../theory.ipynb\">multiplication</a>.<a class=\"ProveItLink\" href=\"../../theorems.ipynb#distribute_through_summation\">distribute_through_summation</a> theorem\n",
    "========"
   ]
  },
  {
   "cell_type": "code",
   "execution_count": 1,
   "metadata": {},
   "outputs": [],
   "source": [
    "import proveit\n",
    "theory = proveit.Theory() # the theorem's theory"
   ]
  },
  {
   "cell_type": "code",
   "execution_count": 2,
   "metadata": {},
   "outputs": [
    {
     "data": {
      "text/html": [
       "Under these <a href=\"presumptions.txt\">presumptions</a>, we begin our proof of<br><strong id=\"distribute_through_summation\">distribute_through_summation:</strong> <a class=\"ProveItLink\" href=\"../../../__pv_it/theorems/0ffb0d0e3fc2899c46b3108a12b91030a5eb03340/expr.ipynb\"><img src=\"data:image/png;base64,iVBORw0KGgoAAAANSUhEUgAABMcAAABCBAMAAAChj6wcAAAAMFBMVEX///8QEBCIiIhmZma6urrM\n",
       "zMxUVFQiIiJERETc3Nzu7u6qqqp2dnaYmJgyMjIAAAAcRTyBAAAAAXRSTlMAQObYZgAAErRJREFU\n",
       "eNrtnQuQFMUZgP/b986+iEWiiBYrKKGIyqrlG2EjZa4SHywaFBOr7opSLBMil5cnaOJ5SenhIyxl\n",
       "RZFEWaQUhJS7UVMGT8MKiVYE46plfERxFTUlRkBeenfAZvoxPd0zPTu7c7Mn3NJVQO/MP9Pd0990\n",
       "//33Pz8Ah1MDUqw0jBuntB/u4IMhnTysW3dJg+7rq1QO2Mm8egg8n+mVSrlR99bb7zt6WEPmkQ1l\n",
       "vhTNLKpUCgDThF81QjbQ+6SNSKTjUICstzfdoFtz7V+eGd4D9Weyg9303wt716lYhZL8rxoh22Er\n",
       "svhQeLLTG3drrv1zhrk2sDgnObicvb0tKlbKSP6Xa5D9DJobMr39/r5hDllAOl+OErD6drYBkEXL\n",
       "zQ0Z1/74cF9++ftlR6cIkHnLDYBsWbq5IePavyw73FfPH8gO5gs8VspAAyDrgeaGrEfySg/b9Ip0\n",
       "LB8hYPWc+5BF+pobMr79Rzi+y6IjO9U0plLJObxBuHYrcGQQ46102lJ2Cljlk65DFu9qbsi49of3\n",
       "OL5LGzaDKBeNSdZ54b8rt83ZopK5CpRbq5uS9PPXOW9tS1F29OUcj1W033XI2krNDRnX/tgOx3eJ\n",
       "7iL/euu2OR4ACB0N8ImKe8rmddDOPzaI5aV0lbesxGMV3u86ZPOguSHj2u8dhFV6O+2R0+td7+1T\n",
       "57+dEFMBSth0KjsfTTqupkeKQ7wsYLXNbciUvc0NGd/+4CA0h2V0Q+qhent9t/pnHwRVPWu6jT7H\n",
       "zisjXNFAuUr0CVhNyroMWWx3c0PGtz+RGsT64YCz60Jq/wR2w31q9gUbUf38h46r6R+Qvmn7BMjy\n",
       "RZchC+1obsj49ifwNBSefKr9NrlZaJ6zOSyhzlTLUjBOzX489tyqovr5DZwyOPYEe4VRl1H2SyXe\n",
       "FyCLj3AZskRXc0PGtz+P9d9vZ+P2L55ZKOhsadpWhMjNAHer/X8gl69mnODOb9Zhvwl+Z/tC8DLE\n",
       "WvGvbSht0ZeXGR6r6B6XIZtebG7I+PbjRZZyLHhV8GaRjpVckdOFxnEy/i8clT9p7qZT1TvepE64\n",
       "/WgonWU9IePz8JGafYqVGyzCj8HfxSpmBJPJHEcH2n3yp5DksfLtdBmyl9PNDRnf/ja8ddcPwSRc\n",
       "diYZ28qSAYUJwZW8zKR2J+UvImiMxHuG+SItV5bweQBUxzZW7lT1cv9pHaxihsRkIEjbuUt673wX\n",
       "j5XypcuQbc81N2R8+zFkLV2QVyePVjIHSsC5QRcSZOKOtk7o+DcSm8GmF2i5UjsDPk8qyso9Cvdx\n",
       "B6uYIeky+Vw1yIKiFvZTlyH7ApobMr79eLpUR4t1AFU6G3QhUb2mE+8l5tHPcMy/aePrWpZ2ujpd\n",
       "JkpozLEul5zHqVVcFvqq2veITKuwjiQ62cdMJtAnYDUv6ypkYTIywrWdB4sDQmtncQgh09pP0EGa\n",
       "Sb4A10eydpBhofOFce6vGmwSQ4h4bBpEdnBmMpRUxT+RVjW9apCh88q4gqD4q4vFiA1kRGaDfzxu\n",
       "r3x16dkvQDap5CpkEfomHUQe2OH2IYQswk8fCYR3KBm7ISp0NlJssMKja2hEqMh7Z4UXaNOapG/Y\n",
       "sTUbzgNQJbU1bbyfGSUCpVAKl8vKwhn2C5/3+lAdJrMbnwHK6Txkej31ymKZz57EE6bcTgaxfQJk\n",
       "7xVdhcyzc1CQPWCRt0lrrbo8O9SQae0nzxiVrMw+4d7jBciwYnODoKFhofAa/qmt1KaChGRO0I7F\n",
       "7lyqdnUfUd+RMr99b1KbAJVTX6LTWmeOK5SUvICefzSKjn+kD5EvvSpOl6yeemWxzF6iQvrktnff\n",
       "XgGy6e30Fwb13ZogqyLqHdAgi+OHUN9uuaK+kLF5X865/hycX3WkjbjmRxAw98PJv/78xhT2L7CE\n",
       "zEkN7ZKXf7NDnObUWsPF2jcXON1JBzRoG/sjszWMHiOfAr3/d7PmneXKjZgXY0+zMtX2K4YhwWc/\n",
       "RPiPIPWL9ctnjwMCZMvK9NdG9O/WmiCrIhrYrUEWRQXE61trxtGjQTbrW3M4v8VOnqomikk3njkA\n",
       "K/ansH+BJWROamiXAvybHR1RH2T5h81q/6Xwzdw4CBhqiY6hN4i0e8WYkab5KsWVGzUXVeTHROMG\n",
       "eQ2QebpmhI1N5NPnAmSJEfTXEtQfXTVBVkVUW3d3EIEl9XXRa/gtVR/AuiTOD9jIMz+C9cZnHFCf\n",
       "23sp/PgsIXNSQ9vXpE80d7L0VA0X/y1qUvuVBdANm/3PGSDrJrq6QlEKX2u610KuXPMmu8KwmgFm\n",
       "V58avmkMJa/w4PZaGPPGCJC17KC/0CsdLdQEWRXRln6mk6GhbmN9XTQfL0XS6p8iyvv67ewQ2rNf\n",
       "Tv99s7MTv9yvt6hnAinsX8BDtlDQyRzU0C618FXmNvbuuWW2/cWP/NOk9reWYaSqaQcNkKFjaNK6\n",
       "saenG9TxL2+61yquXLNGEGO5CcJTIWWfuTdpP+cE8P5l3kLbGJMTIOunv2Ivrl59X22KfxXRxA4G\n",
       "2TurVz9an/4fxuKLkGEljfJRu8uZH0E8jf+ZNZH+Ti2hr+uHImSzBMjqr6FtSgjrotsc32fl6zNn\n",
       "zvz+sy9UStAPo02QoWPvqiM+blovwOXmZ1mjrtmtducgrE3rLK69RbCMBfu0X1/29Nxc4+rSWpSD\n",
       "LNHTc3uxvqUZHv1VnTG8C+fjs8dVH1qZHwGxGymanqi0XwZsKc9DxlQVDFn9NawTslcc3+eUr9GU\n",
       "gwWxLgRZ+A5YktP+Uo+Ff6A+438g2bNAucOpCvndQcZRsPpUxgqya/C4SToaL2qPS1pBRkR9i+ae\n",
       "hRY5nMGZhyyQgVBWZq/2bRN+XrXp2Yy+0sGunU8VcT6/VenTdmulq0viR6DWNVYWFpnh4vk0t1mD\n",
       "zNuJ0y4eMlLDBkKWL7hwy8s3AYLMPxpmZP2j0F+j8TEUcyKECjh78ganq5fA84Ns/2iL49szPGTx\n",
       "PdqvaXiR5ielorPaHihcMTnt+QYPGRFFL+oLIBicech8eHEns1dvEJBLsR2VICrVs3fThokkvy4H\n",
       "O+lurdwMRvwICpqqGmJzRep8Xe8VFP/IpxxkpIaDN8Dede1sOWSeskvsoukyohdIRm/0tCb0dMNX\n",
       "mDxWPrWLBMhCDLIgeMR5HJt0lWdOK0W6XoRzeMio6BxVQwfB4Az5EboxtgNOkturtY5G90bPT4Oj\n",
       "BVEd6mf5KWhrrMp6mvoRoOEP9+0MtIFWxva2qzSDknF1+dhIzhiLaziYhFqgzMr5/2dsP01fd6cv\n",
       "/ZPO5S3OJOey8cXZOsdK81uUFiDbrf2KloKiIDbtvLl2NURe9TLDCoaMiv6KfMmqG5xFyF7Cmplk\n",
       "PNaW+ejeSCDCQ5boYPkt4BuoBpnuR0Ag080RWwMWkIXnZjnIXhrs9hdqQeyPAM9YQLbZxQ4tibn7\n",
       "H/zqGbMOv2YFWbisrlF8eNuTbJuiPVAcbCrywyuTAmRYFFSFybPAYHDO69MlPOhvB5m92r9zfI5O\n",
       "lIiUY9LAT5dtKZbfj/ysqkCG/QhwXYlQi25ww5Dl8ItCdbJtJGW56ZLUUDn1enMYohXj2VbL+rHm\n",
       "kukx3IIL/oLs8ob2M3NSw/r3nbO/esbCo+qFDBZerY5RCdT/ZNsU7YHirZdI5sXXBciwKPj2nbjR\n",
       "aHDmdDII3ZumtmnDRL6ArC7iZMY55XONMqz4T0qz/G5YXqoKGfIjwHUlir+XdWnoeDWLTmwWRzJf\n",
       "mVf8SQ1XZtpME4/ySxZKJJieYVaR6DHcgrffslT81fvAcE4rLRc2Voo/PKF251JsmSbbpmgPdAWB\n",
       "LMr0dwIZEtXD13AGZx6yyJnUNm3YFAklVSbUleAK+vteDSNcCPX6Q/mfwG/IICX6EbAM9iPAdfWS\n",
       "d+AmfWl9V25NTw77F/CQPZYTIMM1PA2uAGMVvSl/B920OQv8pl0ddAwt3nELnl5rDRncN6xDrtwN\n",
       "dUOGP67pZuMI3gO9oqenJxnJhEsdAmRYNETAEwzOPGT4I4ORcIZxU6Ql7cX9ju+tZEDROgbxNKUy\n",
       "m+VXnFiiM6HgR4Az6AjxM0B1jZMJ75HfaiX5p4z5eYaYYnjIrhGMsaSGo2E8mKpYQJEqc3SRbtrV\n",
       "QQv3J7QW/GFmFcjCwznUopK2PHWLAFlQhyyG+q0fn0XqOt4DDZCRDC5ICpAhUW3nUDA4c9tK6kRC\n",
       "bdMGe3UiRwon9y6An1Ewn5Oaz5En8SPQj6C6rqT5i27vFKwGyL+AhyxrgOxtrFnevdpYxXw29HZO\n",
       "X6UYDe7o2LlaC7wPcR+ItPTD4VTFGEv6rlwM34G2TZfk8B5oFDEXS0NM1MnIyk29kSosGJyDPGQo\n",
       "mezVS3LB3JsQewfIvb1dsIp14WtcNbU8NoGZ/Qj0I0g9Wm/R1qob5DSN8u8uGavYkm27GB5PomMf\n",
       "gtdkcEfH5l+cIi0IT87o5QcPQ4aTxQY5ffXnIoMyTIAZBbIHityGWj+ku2QCZJ7t6vpGFRYMzqE9\n",
       "BshM9uoZBf/cIvwejT3o3t57Np2jX81pMDRPdmvNfgT6kQkyVx9NBwN7yL7zrXElYxV9sx8/D55M\n",
       "oWP3nDTRZHBHx45dWqJOX3/adlvG2H5+oeU8CtQDg+3rOgJIWXp+OrqwIkCWECGjBuVuZvryqFoH\n",
       "f7XRMzZisI8OGCAz26vJjadJ7o2dFmV5iR+BfqQbrDeHFkKNnrGyKgYy2jGJwd33QUrWAq/ZO8lx\n",
       "FCjxEdSVag8gpXuGBpyuUSQXKl8IkOU7TJCtRdumVpHRjJAZMKZfEJghY3L0xhttX93aXmO8xfuW\n",
       "xclYth7IjFVc6dOOCWdJzpPcKlu/e8wfVjiPAhV3vjStPYAU8wy1nA5s3wXzhX7xS8u2LhNkJbRt\n",
       "GoPaIDOMMZF9ZsjwpgiTozfeCu4k+y3eWiCTVjEwkR4Tz5KcN/uObG0VkXxR7TQKlKCi1pfqCCCl\n",
       "e4aud1qa+UL6PY2G1bqUCbKqyeZDEv9eyUgm6fj7yzBUaUg/JPFLImc5jQIlLLbrS3UEkNI9Q5c7\n",
       "LW251YDeoE/igH7b3ln9u8vYhiEzUrZ2DiVkIPm232kUqLDzjdU6AkjpnqHxtMPSzBd6xRArUzPu\n",
       "QnbLIbLGbhRksvY7jAKFN9/u2XCc/arUJFRHACndM5T3ylo/1t6KzGTM7lw0RJGG1XZwF7KpmeaG\n",
       "TNZ+h1Gg0FaGbxTqIX/1ZSYR8nBdbQwgZR3bh3iG4i2TmK7C3FcIlatdpMl4cHzvmEn30VxpKFZf\n",
       "uAzZulJzQyZrv8MoUMgRZXkJbZRSx03JkIa3GrAQdTclMoYAUlVi+2DPUGKWwWZvsndxMwQK9CLZ\n",
       "OJrTZOAXALKvm6grDcXKv8tlyPLtzQ2ZtP3OokAhl7qpOfRfNflsYzlp/58TlTEEkKr21ecUFnwT\n",
       "O+XhG3rxYqDVqlAt2hXahWQXig0u8Fh5BlyGLNjR3JBJ2+8sChSC7ChQ9tQQy0lhE/IN3PxUSwAp\n",
       "4hmqQ4Zv2NLFIJMVqkW70ipmhoyGAKdYBXa4DFm0r7khk7bfURQoNF2qgwz6fsI2lpMqRNxNgZ+f\n",
       "agkgRTxDHzoX+FKIU7tttCuk8l/aLqveUQJkhFkXIQvvbG7IpO13FAUKKf7KAATKa+0gw0LE3VQ3\n",
       "k6FUQwAp4hmaukTQ31UyoWADGZaJ/+d7/RLF3yf+9xDTSy5DBv9tbshk7XcWBQrj1w1vtBftYjlh\n",
       "oaVcIARZACmJ0yf+C3mGKtnngXl+olw7rMjYRLvCMgnsoKdfSFNA/I9u5uXchuy9THNDJmm/oyhQ\n",
       "ZBZ6ZOyVs9N2sZyIkP5tnDyAFAoXpV+NVS3k+Yk9Q7GPa1yv+aZ3k3bRrrDMjAkF8ULappQA2S5w\n",
       "G7JEsbkhk7TfaRSo+Txudom6m4rLAj6AlB4uiiXd8xNpkisNZ2sIRDTBPyJrvpC9aASr2B7XIYse\n",
       "3dyQmdvvOAoU2yCvIcwOcjc1HWNRGfBUaj7PPD/96Es+4z53DYGIuv0dSckGuRYigGBl+J+W3IAM\n",
       "jmluyMztdxwFSnOTqyXMDnI3NR+k8XpwbB/FfA+2Ze/pMnvs1BKI6BOYnTG7+vj2CJBNz7gP2Xu5\n",
       "5obM2H7nUaCcOy1qaRU/rJlPs90J9H2o47AgpguZCxvBagu4D1m82NyQGds/iChQQ+V+ffXinLXn\n",
       "p20yXfjnHI9V5OgGQObva27IjO0foihQg0lzr3P1dscCjxWLl+EmZPBGc0NWpf2NjAJ18KRAuwDZ\n",
       "HGgEZIFUc0NWvf0HaxSoRrxkCKtYhwPIKhVbR89PDwXIKpVyo+5drf0HbRQo1xKLwrKoUlGxWpzl\n",
       "f9WWlN7eJ+1kHj4EHsWa3t50o+5t2/6DMQqUe5Bpi80Le3vVl+d+4dfh9FWlgyEK1JCk/wPCznxZ\n",
       "HZ3JkQAAAABJRU5ErkJggg==\n",
       "\" style=\"display:inline;vertical-align:middle;\" /></a><br>(see <a class=\"ProveItLink\" href=\"../../../__pv_it/theorems/13db178d82427ad19120b6f3d3166c024aff7bac0/dependencies.ipynb\">dependencies</a>)<br>"
      ],
      "text/plain": [
       "distribute_through_summation: forall_{i, j, k in Natural} [forall_{P, S} ([forall_{b_{1}, ..b_{_a}.., b_{j} in S} (P(b_{1}, ..b_{_a}.., b_{j}) in Complex)] => [forall_{a_{1}, ..a_{_a}.., a_{i}, c_{1}, ..c_{_a}.., c_{k} in Complex} ((a_{1} * ..a_{_a}.. * a_{i} * Sum_{b_{1}, ..b_{_a}.., b_{j} in S} P(b_{1}, ..b_{_a}.., b_{j}) * c_{1} * ..c_{_a}.. * c_{k}) =  \\\\ Sum_{b_{1}, ..b_{_a}.., b_{j} in S} (a_{1} * ..a_{_a}.. * a_{i} * P(b_{1}, ..b_{_a}.., b_{j}) * c_{1} * ..c_{_a}.. * c_{k}))])]"
      ]
     },
     "execution_count": 2,
     "metadata": {},
     "output_type": "execute_result"
    }
   ],
   "source": [
    "%proving distribute_through_summation"
   ]
  },
  {
   "cell_type": "code",
   "execution_count": null,
   "metadata": {},
   "outputs": [],
   "source": []
  }
 ],
 "metadata": {
  "kernelspec": {
   "display_name": "Python 3",
   "language": "python",
   "name": "python3"
  }
 },
 "nbformat": 4,
 "nbformat_minor": 0
}