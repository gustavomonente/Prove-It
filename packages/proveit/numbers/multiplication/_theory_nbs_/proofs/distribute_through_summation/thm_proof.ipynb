{
 "cells": [
  {
   "cell_type": "markdown",
   "metadata": {},
   "source": [
    "Proof of <a class=\"ProveItLink\" href=\"../../../../../_theory_nbs_/theory.ipynb\">proveit</a>.<a class=\"ProveItLink\" href=\"../../../../_theory_nbs_/theory.ipynb\">numbers</a>.<a class=\"ProveItLink\" href=\"../../theory.ipynb\">multiplication</a>.<a class=\"ProveItLink\" href=\"../../theorems.ipynb#distribute_through_summation\">distribute_through_summation</a> theorem\n",
    "========"
   ]
  },
  {
   "cell_type": "code",
   "execution_count": 1,
   "metadata": {},
   "outputs": [],
   "source": [
    "import proveit\n",
    "theory = proveit.Theory() # the theorem's theory"
   ]
  },
  {
   "cell_type": "code",
   "execution_count": 2,
   "metadata": {},
   "outputs": [
    {
     "data": {
      "text/html": [
       "Under these <a href=\"presumptions.txt\">presumptions</a>, we begin our proof of<br><strong id=\"distribute_through_summation\">distribute_through_summation:</strong> <a class=\"ProveItLink\" href=\"../../../__pv_it/theorems/b86d58b18863460fe2c64cdf522cd256a12f2dc90/expr.ipynb\"><img src=\"data:image/png;base64,iVBORw0KGgoAAAANSUhEUgAABXoAAABCBAMAAAAbCXNVAAAAMFBMVEX///8QEBCIiIhmZma6urrM\n",
       "zMxUVFQiIiJERETc3Nzu7u6qqqp2dnaYmJgyMjIAAAAcRTyBAAAAAXRSTlMAQObYZgAAE/1JREFU\n",
       "eNrtnQ+QXEWZwL+dmTd/3uzMRCqeEqSYJJJLRXFH8A9KDCOWxDvFncULhDvqMpWSWJ6RrHcea4J/\n",
       "1tyVbBDNpCglqJAJkQTDHTvlcceFVTIkVVjy527kihIhhFECFkHDXkgC2U0YX3/d/V6/v/129r2N\n",
       "Sb2u2p3u19++6fe93+v3dffX3wJE6VSnXCvSwfZIBadpek+kAki0Qz17p/OmVOjJM0eb/Z1OaPq0\n",
       "qCkxJ4IXYIF71cfY58ZOp2GU0p3OpG96J8ful8lkB88gesfGyiGd2qqmrZWIXYC8u/mULtLPT47t\n",
       "bhilxNiYf3rH5TKbzqDb0B/eqa1qWhWhq6WM+xtInc1zPQ2xBOcESe8/QkQvTFlNyvEIXclD/NGa\n",
       "QK9RCpTe3nZEr49kVVO+GpFL0oq6a1W8LdKrlwKld0s5otdHsqppSy0iF5/iorvpMCnSq5cCpXcE\n",
       "Inp9JKualkTgYsrNcq97WKRXLwVJb/Z4RK+fGQerms7q+lQb3zakpfM6nXrIAyr/qynZ7l8kmSPu\n",
       "daNFkV5eCpLe/HBEr58XpEVNmaPdW4o49aZ+6rxiOJ3hmjdWXf9hLXMPqN/0ngw16j/f/fe9w2Os\n",
       "MCHSy0tB0ruiFdHrBzmLmnLjXZ+q9zU2qAlpnr2gDY++qfXrL2vPXEnyTPL6+7r/uus9+uWTIr28\n",
       "FCS9ayCi10eyqmk66L3aoJ/vD+lBawLsLkJOI7PQkIDO63u7fw/0edQdEunlpQDpVY9F9PpINjWl\n",
       "pmFwbWEz/HeF09a+svbThJRmy/ZLTGu9Xp3V9dft9rCZ+2oivawUIL25IxG9foxJq5oKpWmMAN8M\n",
       "VQcbyauiDLdpH7+QiBr1B7rv6j3699GmSC8rBUhvejyi10eyqamAr9rM4gvlvjp2oTXFMHWgPRsZ\n",
       "zbSer2VfmneJp6hRv1ewy+edL7fdDZlRj4FTfpZILysFSG9hOKLXz0jIqiZ6zz5ay8uffrtQ6miI\n",
       "KlBOADyg9XLf0eyBN+ujXnNhQv1+42G7Eb4rfSAFGfocw/8cIukFC+RHRXpZKUB6+5sRvX7Oa1XT\n",
       "FkKvei7ENayXUxQc/qxuCM0XZJTXQ1RB7NjjexdpnzdqJsoEYWu5uwmD9fCiln2ANxdSTfgCKMN6\n",
       "+63E6zJzKbYFD4ISh0V6WSlAev+3HNHrI9nUhNZefAJSRfjMB2lv3Hbo23QhuEaU6auGp4I0m1ad\n",
       "ja4Fo03WPKeE9QDkUlbw5sKlGrLKRYN6+60vnTaTgVRZOgJQ3xDpZaUA6X21HtHrI9nUhPT2DMNo\n",
       "BWApNQcciLzBEDLJ5LtZ4Mx42guGkTOo05svQX+DNc/RLMV6ej28ufB25GZQb791sqXKZUbr8vHr\n",
       "l0R6WSlAel+HiF4fyaYmtBy0jms3gAceYAiZ7UH2tv20vb8WjyXY5/zHydpZM3EIXMWz+sthBaNJ\n",
       "sxwKLdJLujeP1mPShdQTAr1uXeoJ4U/YTAK1e1+ySK6pifTSUnD0Zlhn/rmh08xlaulQcwbp5WoS\n",
       "mCRG32gDrs/WZPSi0GWmnvm/OcUO/ZZwLE0/7izDQB2SNXFiwCb+IX6gj3GsjdoKZc3o9qKX1Kvz\n",
       "G6ZR20ntUZDQS2X2Kgv059gt9bVEemkpOHqzbNXy9NsclKnOIL1cTcKNJw9Pupi7odeEB7EK0Vo0\n",
       "TEYq1JwQ276Ov7od5kqFY5TezNmahVqFawFeAXfx7VYjR0M92UqXsHnYGnPbSAnr47izcrF+wg+A\n",
       "+n6RXl1asOxR5o/3o+3gNd8LzzdFemkpOHpjh2eC3jtc8pK0y42l2kzTy9VkpB7y9erK87//ThO9\n",
       "aBXeYDIZUShzr6jhHfxFV3B44wnHKL2pFvohXgfgZC1z8Tz7XNJZqdsC6oVPsDf8UN3attQ6Vv+T\n",
       "XnL8RaMzf+JJs+VwA78uw7JHmWPUmu/3Gvf3V0V6aUmjFx+D53zR6yUan+T05slHOCEK1GHD80nL\n",
       "3/M2iTj3fEra7+17vv7/XymhR5QrvWFcSNy2kTAtWKxL/cwEFIXCt/kwbMW8f7BJCscovXPJ4zOu\n",
       "3SLl8IK6q3jMesWpmtC8rP0PH9S/RftL1dJ9JeTdmXIWvYznvcb9W9oivbSk0fsY+Tjoi14v0eQR\n",
       "Tm8v+YZ8KDMQ2C0wzyeSf0Emz0w51TamWTYJ206W0CPKld4wLiRpW0/vnTU1ekfvto/ZroS/rM+H\n",
       "pKWp5BjzWKT0voRzW5lBiK2LlcCKOxfPWvWRKwnN67W3qCn23lYvHR/0xoYHcBbkYS+hwiyRXlrS\n",
       "6N1MbuCwL3q9RPnUzSCV2BzKe/f/sI9ooucTyct2ROueT3usNySpKfn5Eurald4wLsQ+w5UV7NgH\n",
       "fJzhoV7bmE1dB+thv/Kwhd71xgiK0ksG+D3NxDCxoNvXWlemuXjCdoc3CM2zOwSpOq8DYPeQ9BEl\n",
       "IV28OsYfLtfUMy7SS0savaRz6W34otdLtGdCt3tJ7/xYKPSu5UPhvibJJyZk0178fm5ln08PDWE3\n",
       "/FSPVpMsoUeUSO8Gk90bwoX02JqsntSzt35jpfwM239pG7MtbcNsbfyTstBLjpnoJbs4fgWJKvSU\n",
       "tcHbOnAWV2wvqnuE5tkNqZyeW2jSIG3iB48V5W/U5PlmRbgqTqd3gtGbe3Tnztv8jdq8RAvjOr37\n",
       "du78SSiDtwyelXo+kXyv7Ft0z6c8HRAsX8TKpc2s0zhgpne5id4QLqRgH/x+q+uT7Xhq2bJlf/Pz\n",
       "X3RaMKHdSSu95NhzTYHeVeqzmdlk7bZQ1zCw0svFE7Z3kd+dQes1RLqfL/XeWZY6LtJLS2TO4Y2R\n",
       "ka/6nHPwEBXoLYyM3NQMZcCOBhj1fCL5/Mr53i8N3fOJzmWq3GZXq58BfTZIpFc38ZDeEC7Egd5f\n",
       "dX2y976FpTqsyw0TejM3w+Y6/6Udy/ztoEDv1itzD5XJuCpVfxoIvY7iuS4vOflX04toFW93Q+91\n",
       "2N1TMnC+Y27RjV4qmti4+mI0+enKjY3eZAXSU3wEPcUr4piWez6R/OhB9Th3A3Gcc6CeT9o15dqm\n",
       "qYdM8zKW28/pjQ9hek2kt4sL6YLe0UYA573qcSD0KufAQE05m/w6B48lSgK96sWPVDMEW2V1E+l1\n",
       "FI+Xu6T3kenpqsdTD/mjogwtEXo/hkNyhX41qU3x5l+9uBz7C5FeKkp6C/JOpis3dnoTOJaXrF2y\n",
       "74gt3kuMaUdpvp6px09LkdYxzyeS312Hw8wNxPldRD2fGnzskNZfhaXLjIGIadSWfUWgl17ItFP2\n",
       "ls+t9KA31g7oySCWQ9b4VvrSaYB45Ur1DoB30fw6cBbPw6lJc72HdiZ60zq9KesMHy58qD+7qJUd\n",
       "fhQ+LNLLRFfhHiS2csP/aJZOr/ZzgXTtkvaYmQOgzCHzNE7SfD0zrscBIsgzzyeSX0LWyT2mZJjn\n",
       "E7lrCM0AWUBv47zxtXyS0zrncN9sg156IdNJRIvq8rryB6uaxPTWYO6+0neJuC5Dc2zCj9ObeXMO\n",
       "L1z5WsNZ/OeniN5zvek9YqL3CKe3t5UyC+Ks49O7dkL2ybg+mYf0MtGvYUgNtnLjQO8T5Ldk7ZLS\n",
       "u6lGFguVpqM0X89UqyK9zPOJ5F+AxKQXvYbnE6XXmP06mHShN7O6JtD7xHSXDokWcz8C+JkXvfsD\n",
       "RKBlzt1+J5johZs0tSVaXuJq6dTAK3kFudGbaV+lXRH6SVA/C+I0gfZS9u+uKZroRVHQjM3YOn3l\n",
       "ht8Ww3KAO5WqdO2S0vs1tEM0+9JJWl/PfFm0HJjnE8mfJC6vHvSi5xNeExXqMSaOkd46PqnM7j1E\n",
       "U02wHOiFqBdeb4+NuW2BviK6Z579m9kx1OLH/1PwSRwdd5rvDA2JfczlJm46ustLPFY/NfRuqnVF\n",
       "L2z4rNarFkijqZ8FcZpA4ydbefQpE70oCokT734M+MqNg90L6e+XQbZ2ifTGSE/UpxkkjtL6euYF\n",
       "4qiNeT6R/BHY2vKkl3g+4TXRUVtcxyT9ziIN173f3PcaEbyRXryQHRV7fDj1nxU+cZsqD9gtUHYM\n",
       "tfjMb7xHbdrJIErqjZJJYZdRG/yHdv9/gMs81M+COE1so/T26vYopZeI8iCIdOXGid4sccKXrF0i\n",
       "vRg+cQnZtOokjeuZZJ7gv0SzmXk+kfwX4V9ot6o7LpldoNDzCa8pTttpaGjJLfV7R+roESXSe1/d\n",
       "RC9eyEVwNVjbFi8pg8zv42JQbC0nx0h4MtTig7sk9MJtURw+2jN1Qy/uhluvnwOdJq4eGRkpZiuZ\n",
       "1qCJXhRNU6LPMs1VivTCYTyh59ol0ovege+ATzhLk/VMzHyCt2HQ8Hwi+W3vbtEMcXMyPJ8wQ3yh\n",
       "qGcUuaY8ffdv/1f+FcqS8/6pQmcIRXqvAxO9eCHnwAKwtq2nEauyzVqaBm0txz4BmBZ/uExGbyYK\n",
       "ng4/lk2omOhNGfTmyI2eqHDDFJ0mkrTvhY8XTfQSUe49QFdu9Ps5IdD7DIBs7RLp7SniwO9yZ2lc\n",
       "zyTp7/mRtULtWgFpw83JmAGqi8b2Dpb/1E1DpsEB8YgS6a1Z6H0Grfzv7LS2bbSWfqZuGOfWlpNj\n",
       "ZJ0EtRi/S9ho2TMRgdrddKDLagW92e1m5mbiZ7G5jk4TvQTmXNlYeBH8e1fUcJWGrtzoZxfpJUmy\n",
       "don0Jqv/3thUJuuzTtJkPTO3T8tcrg+2hFqex6ncpn1yTs8RE3SPi048vXRYOls50iJtM1alNtd7\n",
       "aiuugJ8WiRoOaEMi6yoXObb2ihLVYmZxxfj+VERvd8nFS4d1QqvJcgsshIEGdZogLpdLDwBUbfTG\n",
       "Xv0QrtKwlRvTbLJAr2TtEulV31p89gD2jEzahAhZz/we6TX36V8iGIgsj24gqn3UbvhCLXTykOR2\n",
       "Lsjpvfxd85HegQZdldJ+NRIrf/oRuL9E1HDrBYtsq1zk2Lk/aDH/23879K2KVU16Cj+K6R0zeYZd\n",
       "3X6HLHRqwURvwUwvngCtX1Yf0yw28a+teyvI2gyu3PBxzKSFXsnaJZ0x23bLKu1trYkxaRMiuJ5J\n",
       "/r/R+/QX/bDw0hfyOa+Jz/Xgvt67AXzurSBtM6akaS5Z4UtUDqtcid+VHLRo904POYqpWU9TS1PY\n",
       "B6DXJ7segEpCp44OivTSkoneXcTPwu0ZsNJLHjJcueE98kkLvS53la9dcp1elWlBrKFL2xAhc3Nt\n",
       "x17AX4+AviO/cbs/tSnQa2iG5XYkeF9DWm5ZtooVDzotwMSsboBhRzHVN/p0kaawD4DXu77lpEmy\n",
       "Jr9iWKSXlkz0toifRQ780Yt9202G3Zs9YafXa+2S07vlt3VWQGkbIge13HQ258h9R/zQS9qWs3b1\n",
       "yUVMDdhyy7JVvLav7PSCPGE9EnIUU9NYYYppCvsA9Po93X6ZJHTq7pJILy0FtytTOebQ95pf4aa1\n",
       "S05v+svaryscbADMZW5vs1nT8NKM7spUbHFiQ45iapqnmWLyvw/AqN/atYXjHTo13B3xwDZuD0ni\n",
       "OfC1y5Ivkz23V6tZFCq8S4dmkl6whUQKOYppZhoWif99AEZ9vtztt3mHTr20ItJLSwHS+40za4Ym\n",
       "LHrtago3iin6bd+6d658SsMeX9X/PgCjXnQW3DNPvgxjyOz1lHsVRHppKUB6L61E9PpIdjWFGsUU\n",
       "VxoTZ5PbrUgmH2h81fmCleN/HwDW44pmzhi23dZItz3iTuoyMfpfk7xd7V430ft60PTubkX0+kh2\n",
       "NYUaxRR98ba2iOcFc+N36IRxJZDFV73GkJnCPgBSTyeV6D4APMFXIdlgcSfdgrqiDHwZy54bqpXX\n",
       "RHpZKUB6R6sRvT6Sg5rCjGKKftCX1sn/Rk54xyJl8VUFmSnsA1jC4ukxT2oesBV4iAqPoK7ES4HO\n",
       "cHgaQJMivawUIL2pwYheP32hXU1hRjFF9t4O6lFpLFIxviqVmcI+AKw36OUBW8FHUFe9YZ70JsdF\n",
       "elkpQHp7j0f0+kgOagoziil572vdYnZcGtWGxlcVI1ROYR8A1t91CYjfQjdlSYO6koHelVWZJH0U\n",
       "OL2sFCC9mcMRvX76TLuawoxiSsZc6iQk27uk9GJ8VTFC5RT2AWB96dMgjtoKLbJe6k0vyuSf/esJ\n",
       "2aitvyXSy0pB/rfB30f0+kk2NYUaxRR5Xg+/rjZN8Jk8+dnpSXxVU4RKt30A5uCnmCH1au0R0PcB\n",
       "ALZyW0US1BVlCtSrerGX1tbURXpZKUh6n69E9PpINjWFGcWUIrd93jUryyZ6zZ78dBSFQViFPXbu\n",
       "+wCM4Kfkr8k+AKwnYar5PgCSHn+uKAvqijIDC5HJF720xiYZGL086kaA9Hr9y5eIXnc1hRzFdK3I\n",
       "sXxK5G77Md/7AMjztMNS6yMs5kJlVs0eOtWUckdFenkpSHp750T0+hm2zXEes4UVxVT30sn6ofch\n",
       "hwinfvcBKMRTweql4yMs5nplsCjx0sm3RXp5KUh6vf5DfUSvq5rCjmLKfZv9RHM0Rai0nkG6DyA2\n",
       "bPeQ9BMW82VYWZF4SPZXRHp5KVB6PWNfR/Q6qyn0KKbde6c7ncFrHwCxmbuP+7bBq5K7D1N6dWfj\n",
       "IOnNNyN6fSSzmsKPYjpTO4M+u6nuvg9AmjxDp2bniPTqpUDpVY5H9PpIZjXZo5gae/tmPorpdNLq\n",
       "z4d26p6WSK9eCpRe+HVEr5/kpibb3r6Zj2L6Z5pWgUivXgqW3mQpohempybz3r7TLoppOCk3KNJr\n",
       "lKZAb6cj3wTwyhlEb6fTDuvc7mqy7O077aKYhpN4gL6NnU7DKKU7nUm/Z1DHxu6XCt195mjs3rGx\n",
       "0N6+EjXlzMP50yiKaUjpdvb5ybGxulFKjI09CFH6M0+nURTTGU9/AsRq+VO5AK7oAAAAAElFTkSu\n",
       "QmCC\n",
       "\" style=\"display:inline;vertical-align:middle;\" /></a><br>(see <a class=\"ProveItLink\" href=\"../../../__pv_it/theorems/479da67c9a04911b2754d499eda54fef13c784710/dependencies.ipynb\">dependencies</a>)<br>"
      ],
      "text/plain": [
       "distribute_through_summation: forall_{i, j, k in Natural} [forall_{P, Q} ([forall_{b_{1}, ..b_{_a}.., b_{j} | Q(b_{1}, ..b_{_a}.., b_{j})} (P(b_{1}, ..b_{_a}.., b_{j}) in Complex)] => [forall_{a_{1}, ..a_{_a}.., a_{i}, c_{1}, ..c_{_a}.., c_{k} in Complex} ((a_{1} * ..a_{_a}.. * a_{i} * Sum_{b_{1}, ..b_{_a}.., b_{j} | Q(b_{1}, ..b_{_a}.., b_{j})} P(b_{1}, ..b_{_a}.., b_{j}) * c_{1} * ..c_{_a}.. * c_{k}) =  \\\\ Sum_{b_{1}, ..b_{_a}.., b_{j} | Q(b_{1}, ..b_{_a}.., b_{j})} (a_{1} * ..a_{_a}.. * a_{i} * P(b_{1}, ..b_{_a}.., b_{j}) * c_{1} * ..c_{_a}.. * c_{k}))])]"
      ]
     },
     "execution_count": 2,
     "metadata": {},
     "output_type": "execute_result"
    }
   ],
   "source": [
    "%proving distribute_through_summation"
   ]
  },
  {
   "cell_type": "code",
   "execution_count": null,
   "metadata": {},
   "outputs": [],
   "source": []
  }
 ],
 "metadata": {
  "kernelspec": {
   "display_name": "Python 3",
   "language": "python",
   "name": "python3"
  }
 },
 "nbformat": 4,
 "nbformat_minor": 0
}