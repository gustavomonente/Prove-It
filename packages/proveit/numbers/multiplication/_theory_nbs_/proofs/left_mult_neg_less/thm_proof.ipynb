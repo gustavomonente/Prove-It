{
 "cells": [
  {
   "cell_type": "markdown",
   "metadata": {},
   "source": [
    "Proof of <a class=\"ProveItLink\" href=\"../../../../../_theory_nbs_/theory.ipynb\">proveit</a>.<a class=\"ProveItLink\" href=\"../../../../_theory_nbs_/theory.ipynb\">numbers</a>.<a class=\"ProveItLink\" href=\"../../theory.ipynb\">multiplication</a>.<a class=\"ProveItLink\" href=\"../../theorems.ipynb#left_mult_neg_less\">left_mult_neg_less</a> theorem\n",
    "========"
   ]
  },
  {
   "cell_type": "code",
   "execution_count": 1,
   "metadata": {},
   "outputs": [],
   "source": [
    "import proveit\n",
    "theory = proveit.Theory() # the theorem's theory"
   ]
  },
  {
   "cell_type": "code",
   "execution_count": 2,
   "metadata": {},
   "outputs": [
    {
     "data": {
      "text/html": [
       "Under these <a href=\"presumptions.txt\">presumptions</a>, we begin our proof of<br><strong id=\"left_mult_neg_less\">left_mult_neg_less:</strong> <a class=\"ProveItLink\" href=\"../../../__pv_it/theorems/692af19d4b13d4ab8339517b6896ee31ca3d79fd0/expr.ipynb\"><img src=\"data:image/png;base64,iVBORw0KGgoAAAANSUhEUgAAATwAAAAWBAMAAACvaz3RAAAAMFBMVEX///8QEBCIiIhmZma6urrM\n",
       "zMxUVFQiIiJERETc3Nzu7u6qqqp2dnaYmJgyMjIAAAAcRTyBAAAAAXRSTlMAQObYZgAAA/1JREFU\n",
       "SMfNVm2IVFUYfmbm3rlz797ZiSDIJBgd2JatYHEpRNSmFZREbexHH79mWBJdqWWRNUosZMFl1jAu\n",
       "BCVCdNVQ3LZ2KCryhwy7RDSJXVBYFJX7Q/+E0hAF7VrRez7mzv3S3R8T9cIz59z3PnPPc8553/cc\n",
       "4F+xjyQi9u09yGHrsgRc9nC9w+qMQwJRS1ux5KgNC/zI+j93WF63JRAj3I0lR+1zgWPU6Ic6LO+S\n",
       "RIzNisGdIDlqZp6j26am1mF5b0nE2AmxiN/nA+SYZX6AI9uYmvqww+r0UYHYfS+K9rGGjxxnNwX+\n",
       "qFYPdlhesl8A78+tsr3lWD08SDtr9svn+XVtcoB4cg30R4A5cOwCJpceUVmGqNm67GUcAWUFfvFe\n",
       "T2M+/w6Q9XLj/LBHDhDrzyLZBG6AY1NcNrWqz76JjSJIMsEXWyPUrbiGr2VfqwmccLCWLxz7aeAn\n",
       "+zn6ZHsvd+xtkVtEtoJ6bSMylKvfgEND0onV9uncBuTr5skYeS9XwmTyjCEnNyhRFHjGxj72POPy\n",
       "oausrzbb8o60yJJo/M3n8iBytCZlcJiOFqsu++5xm+RlP4vK+yASDeQxfkeiFpT3MHOyBRKz+TUo\n",
       "T26un/gGj6NFlEuePN19kTqnem7xqvRUD71ReqDZm9gzyZv2yTMLL1ConjpM3cEKDrC5rhkpCY+6\n",
       "AM0JbK7xJ7raawWVK1BGQ6kRIaZcrKJmi8TkqzTKfnWRRbc9otFkzJy9U5x2+XpqwCevL+2OYfom\n",
       "D+BFlSoTzpTKtvDQB7R8IDWMu0i73iF7juK9r50aXmGJEDMVTMBLDXxJ80n1q2xWKu4wwvEt6DV4\n",
       "Acg/vbvok1fqdqA+yqvVJ6NJdtYM4CXpodVLSHmseDCMY77Symblbqapk+xUPVSWw0SkKspf1KyX\n",
       "YHGYqCVFfCzw3/UYUt+sVseR/+FJvzzk6Hy8yD2pepqNsBI90kPRk5Mll20gw+nVrwwVW2VvqK/A\n",
       "bh7dpdChFiYSs8BU3JLIUr7NWJmrNg9clTHG8BAqYnO/avjllVGCsZaNoBUT1BgLODolPe3Mvd+h\n",
       "dib2BAwaRR+MUQGRPlZ5O47ZH5uuSQ32K018J+SZvtTQmxdBe6DvoTXUSs9DP4IV6m+O9BS8urf0\n",
       "lSB8f/DbCGaK3pVArvDQFxuws3b68myDGmzudZGh9Os6eNsYcD15xuvbnuCVc8Kif7wHdSU2P15w\n",
       "pCd5od+LbktgWReqMPFtCkXvQuU3WbZqhsVyr7c67vtGgKhO4iyOkny/Z1nX0czS19HBAguVSYQP\n",
       "2y5LNun6jshnw47XFDf+an7/y/yVZV7ms5aA39VqlGv1JeVtv0A/Dv4nlvpvhv0HiHUpJwj4mM0A\n",
       "AAAASUVORK5CYII=\n",
       "\" style=\"display:inline;vertical-align:middle;\" /></a><br>(see <a class=\"ProveItLink\" href=\"../../../__pv_it/theorems/812c8a4a39bbad8d9dcc38a2cf8f77786299be9d0/dependencies.ipynb\">dependencies</a>)<br>"
      ],
      "text/plain": [
       "left_mult_neg_less: forall_{a, x, y in Real | x < y, a < 0} ((a * x) > (a * y))"
      ]
     },
     "execution_count": 2,
     "metadata": {},
     "output_type": "execute_result"
    }
   ],
   "source": [
    "%proving left_mult_neg_less"
   ]
  },
  {
   "cell_type": "code",
   "execution_count": null,
   "metadata": {},
   "outputs": [],
   "source": []
  }
 ],
 "metadata": {
  "kernelspec": {
   "display_name": "Python 3",
   "language": "python",
   "name": "python3"
  }
 },
 "nbformat": 4,
 "nbformat_minor": 0
}