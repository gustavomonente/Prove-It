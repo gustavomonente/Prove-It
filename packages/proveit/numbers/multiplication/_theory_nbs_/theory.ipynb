{
 "cells": [
  {
   "cell_type": "markdown",
   "metadata": {},
   "source": [
    "Theory of <a class=\"ProveItLink\" href=\"../../../_theory_nbs_/theory.ipynb\">proveit</a>.<a class=\"ProveItLink\" href=\"../../_theory_nbs_/theory.ipynb\">numbers</a>.multiplication\n",
    "========\n",
    "\n",
    "Provide description here."
   ]
  },
  {
   "cell_type": "code",
   "execution_count": 1,
   "metadata": {},
   "outputs": [
    {
     "data": {
      "text/html": [
       "<h3>Local content of this theory</h3>"
      ],
      "text/plain": [
       "<IPython.core.display.HTML object>"
      ]
     },
     "metadata": {},
     "output_type": "display_data"
    },
    {
     "data": {
      "text/html": [
       "<table><tr>\n",
       "<th><a class=\"ProveItLink\" href=\"common.ipynb\">common expressions</a></th>\n",
       "<th><a class=\"ProveItLink\" href=\"axioms.ipynb\">axioms</a></th>\n",
       "<th><a class=\"ProveItLink\" href=\"theorems.ipynb\">theorems</a></th>\n",
       "<th><a class=\"ProveItLink\" href=\"demonstrations.ipynb\">demonstrations</a></th>\n",
       "</tr></table>\n",
       "<h3>Sub-theories</h3>\n"
      ],
      "text/plain": [
       "<IPython.core.display.HTML object>"
      ]
     },
     "metadata": {},
     "output_type": "display_data"
    },
    {
     "data": {
      "text/html": [
       "<h3>All axioms contained within this theory</h3>"
      ],
      "text/plain": [
       "<IPython.core.display.HTML object>"
      ]
     },
     "metadata": {},
     "output_type": "display_data"
    },
    {
     "data": {
      "text/html": [
       "<dt><a class=\"ProveItLink\" href=\"axioms.ipynb#mult_def\">proveit.numbers.multiplication.mult_def</a></dt><dd><a class=\"ProveItLink\" href=\"../__pv_it/axioms/ae0b6d8c0d6a20e1eca7eae1101caea028b1211d0/expr.ipynb\"><img src=\"data:image/png;base64,iVBORw0KGgoAAAANSUhEUgAAAcsAAAAZBAMAAACsrRjkAAAAMFBMVEX///8QEBCIiIhmZma6urrM\n",
       "zMxUVFQiIiJERETc3Nzu7u6qqqp2dnaYmJgyMjIAAAAcRTyBAAAAAXRSTlMAQObYZgAABSZJREFU\n",
       "WMPtWG9oW1UU/zXJa5KXl8wPCmZzkrVax1QILaJgq63FFREhLegmFhqCQyaz1H+rThmlHyR1DqKC\n",
       "1uno64RNqjNhErQyZ2mdHyrVwDrmhtOAbqJoDLqJ61S85973XpKX90pemEjBA+fdl5tzzru/e849\n",
       "99wLOKPG4aex0qhneMapihcrkPzx/2H+SzD30ndzVv9M20jXS4GUYIKZp47TTmA61DCRPMIeb1mv\n",
       "+5S1dN20VWMG8zP6/aMTmA41TBQiLD9Yz0DeWrpueldjBnOcmhEnMB1qmOgY42DU+r9ZS2lTJEZs\n",
       "DB+q7lIighnMkMpeM05gOtQwEe1HXhsfTVpK1w9Tvkwwgxmcn5p61VEKcqhhSnpD7GGnHeq0kq4f\n",
       "Jr4TTJn2j2TyWWeZ1plGJbkoXpsBz6evNbWWpr1p6x0sYpWolfTLc+tUBzD97a2r9b45wQRzCzDm\n",
       "DGbtGtKCaPuMGPfRVrKbIfKNIm3E7js4EdnJ4oTnoM8LRN/q0p4wfmGWRmqF2ZUKFfW+rwUTzO7K\n",
       "DCc9/gnWVW6ngRceSpTD7LbKiZb0ou6GbYY+AX4GeMCbx0SMHEm98/hCvYt9yByjJD2Zwy2Q2oZq\n",
       "hCmvhdvIj+8LJpheuIzN+u25DnygqG4jSOTDbTl5syr9VA6zXMOWyBSO6L+MlwZafpcDaroT31BH\n",
       "mmZMRZJPcdFkhKRvV/EY8ymHqRQK319dKFQXNSwCHi0UzrI39xK8xkwMCCaYSs6obIK79qj4KBJV\n",
       "DPUvp6cQfAM4XA6zTMOWuKllYOJjYJAbFGP+1RbmlZDP6zBr8GbDCNIxC5j+/H1sVB19zRSNjLLZ\n",
       "lzjM2ZtaYh5KAXdmmVA5TK6BN1vOVGfw1kHtE90GOrJTgqkHLW4D/pJLS+U8PQUWsTbPatLynwgU\n",
       "HcBMz9AMHjveREPvEcxr2rEHGcyuXENKlHFZ5WA/JTl10NsZoo5TJ801LWnIT0pLwMOVnzoQG9Di\n",
       "Pa/D5HZKMPUUhKsQWDKi5kNXERv0FFRGTFq+iMb8tAOYGQwGUotrEa5MQXiPWdhzHVapMs/nWcxQ\n",
       "HpbwM/MYH8O0GSZpuKPSEPpXV36qDZs0t0b1zMPtYFJPqnzPoBx/Dkr+uNbpuegrUjXvNp8LSXoU\n",
       "J+IzVTDlv/VHOl8B0xcJblf8+4bAnIB2wRzmKlJMoAvSU8nkKIO5Vyy9C8CmZDIZef1eM0zSaMi4\n",
       "mPKOymGtQYsWhNzU5qhmB5K+0fLh9vDW/4i+zciJDc10FgjFTDBJen/T/YnOam9u1x/a4jYybeLa\n",
       "V65BY8TDqh+cEcxhBinOrkC7hLjwpqdP5AMJjfTi3qelfQMmaaRTvlOqCaZ8AbungreeZk6JG/sI\n",
       "2Sl5c9li74B9sVdz0GqJKOaeiUFmSsTGedNfxBNZHKXXReArjKsTSl6BEuNlRaxUVBs5tiE1cA/3\n",
       "5rjqf54/WBOWzuUC68EsH9XXJrdTWpv1lu7GliqrNjCnyn9MwHt3rLx01yYrjhty8LEo8uzsZE7s\n",
       "zexfnJ0HdvEapfBcrAqmJ3Gog8PszUhh9KaksLQGG69vzmELVSy+jAZT2CnB9JEnx2o9iPk0v/tv\n",
       "/j3ipKbcCNdCxUGsgtazBSVIWzYutjaXuz3YURJlMy6aIdeibqp631zuWO271MfqMY1tL0kCqZou\n",
       "Sfp+y5SJiowsxwMLVeiO1HJJcvISX5IEU4LtYQZrvwsqiVaP3cg821balZeje1r/jaLtz/yXKHuG\n",
       "4/8AFtyIJycTLqsAAAAASUVORK5CYII=\n",
       "\" style=\"display:inline;vertical-align:middle;\" /></a></dd>"
      ],
      "text/plain": [
       "<IPython.core.display.HTML object>"
      ]
     },
     "metadata": {},
     "output_type": "display_data"
    }
   ],
   "source": [
    "import proveit\n",
    "%theory"
   ]
  },
  {
   "cell_type": "code",
   "execution_count": null,
   "metadata": {},
   "outputs": [],
   "source": []
  }
 ],
 "metadata": {
  "kernelspec": {
   "display_name": "Python 3",
   "language": "python",
   "name": "python3"
  }
 },
 "nbformat": 4,
 "nbformat_minor": 0
}