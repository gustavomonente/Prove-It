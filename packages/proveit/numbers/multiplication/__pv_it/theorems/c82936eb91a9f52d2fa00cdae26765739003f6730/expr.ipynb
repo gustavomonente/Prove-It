{
 "cells": [
  {
   "cell_type": "markdown",
   "metadata": {},
   "source": [
    "Expression of type <a class=\"ProveItLink\" href=\"../../../../../../../doc/html/api/proveit.Conditional.html\">Conditional</a>\n",
    "=======================\n",
    "# from the theory of <a class=\"ProveItLink\" href=\"../../../_theory_nbs_/theory.ipynb\">proveit.numbers.multiplication</a>"
   ]
  },
  {
   "cell_type": "code",
   "execution_count": 1,
   "metadata": {},
   "outputs": [],
   "source": [
    "import proveit\n",
    "# Automation is not needed when building an expression:\n",
    "proveit.defaults.automation = False # This will speed things up.\n",
    "proveit.defaults.inline_pngs = False # Makes files smaller.\n",
    "%load_expr # Load the stored expression as 'stored_expr'\n",
    "# import Expression classes needed to build the expression\n",
    "from proveit import Conditional, a, x, y\n",
    "from proveit.logic import And, InSet\n",
    "from proveit.numbers import Less, LessEq, Mult, Real, greater_eq, zero"
   ]
  },
  {
   "cell_type": "code",
   "execution_count": 2,
   "metadata": {},
   "outputs": [
    {
     "data": {
      "text/html": [
       "<strong id=\"expr\">expr:</strong> <a class=\"ProveItLink\" href=\"expr.ipynb\"><img src=\"expr.png\" style=\"display:inline;vertical-align:middle;\" /></a><br>"
      ],
      "text/plain": [
       "expr: {(a * x) <= (a * y) if a in Real ,  x in Real ,  y in Real ,  x < y ,  a >= 0."
      ]
     },
     "execution_count": 2,
     "metadata": {},
     "output_type": "execute_result"
    }
   ],
   "source": [
    "# build up the expression from sub-expressions\n",
    "expr = Conditional(LessEq(Mult(a, x), Mult(a, y)), And(InSet(a, Real), InSet(x, Real), InSet(y, Real), Less(x, y), greater_eq(a, zero)))"
   ]
  },
  {
   "cell_type": "code",
   "execution_count": 3,
   "metadata": {},
   "outputs": [
    {
     "name": "stdout",
     "output_type": "stream",
     "text": [
      "Passed sanity check: expr matches stored_expr\n"
     ]
    }
   ],
   "source": [
    "# check that the built expression is the same as the stored expression\n",
    "assert expr == stored_expr\n",
    "assert expr._style_id == stored_expr._style_id\n",
    "print(\"Passed sanity check: expr matches stored_expr\")"
   ]
  },
  {
   "cell_type": "code",
   "execution_count": 4,
   "metadata": {},
   "outputs": [
    {
     "name": "stdout",
     "output_type": "stream",
     "text": [
      "\\left\\{\\left(a \\cdot x\\right) \\leq \\left(a \\cdot y\\right) \\textrm{ if } a \\in \\mathbb{R} ,  x \\in \\mathbb{R} ,  y \\in \\mathbb{R} ,  x < y ,  a \\geq 0\\right..\n"
     ]
    }
   ],
   "source": [
    "# Show the LaTeX representation of the expression for convenience if you need it.\n",
    "print(expr.latex())"
   ]
  },
  {
   "cell_type": "code",
   "execution_count": 5,
   "metadata": {},
   "outputs": [
    {
     "data": {
      "text/html": [
       "<table>\n",
       "<tr><th>name</th><th>description</th><th>default</th><th>current value</th><th>related methods</th></tr><tr><td>condition_delimiter</td><td>'comma' or 'and'</td><td>comma</td><td>comma</td><td>('with_comma_delimiter', 'with_conjunction_delimiter')</td></tr>\n",
       "</table>\n"
      ],
      "text/plain": [
       "style name: condition_delimiter\n",
       "description: 'comma' or 'and'\n",
       "default: comma\n",
       "current value: comma\n",
       "related methods: ('with_comma_delimiter', 'with_conjunction_delimiter')"
      ]
     },
     "execution_count": 5,
     "metadata": {},
     "output_type": "execute_result"
    }
   ],
   "source": [
    "expr.style_options()"
   ]
  },
  {
   "cell_type": "code",
   "execution_count": 6,
   "metadata": {},
   "outputs": [
    {
     "data": {
      "text/html": [
       "<table><tr><th>&nbsp;</th><th>core type</th><th>sub-expressions</th><th>expression</th></tr>\n",
       "<tr><td>0</td><td>Conditional</td><td>value:&nbsp;1<br>condition:&nbsp;2<br></td><td><a class=\"ProveItLink\" href=\"expr.ipynb\"><img src=\"expr.png\" style=\"display:inline;vertical-align:middle;\" /></a></td></tr>\n",
       "<tr><td>1</td><td>Operation</td><td>operator:&nbsp;22<br>operands:&nbsp;3<br></td><td><a class=\"ProveItLink\" href=\"../d11ad4bf7d33ec0e47652c372074ae47791728900/expr.ipynb\"><img src=\"../d11ad4bf7d33ec0e47652c372074ae47791728900/expr.png\" style=\"display:inline;vertical-align:middle;\" /></a></td></tr>\n",
       "<tr><td>2</td><td>Operation</td><td>operator:&nbsp;4<br>operands:&nbsp;5<br></td><td><a class=\"ProveItLink\" href=\"../5c5f9e05170389d445f03fec82ae8bbbd64998850/expr.ipynb\"><img src=\"../5c5f9e05170389d445f03fec82ae8bbbd64998850/expr.png\" style=\"display:inline;vertical-align:middle;\" /></a></td></tr>\n",
       "<tr><td>3</td><td>ExprTuple</td><td>6, 7</td><td><a class=\"ProveItLink\" href=\"../06873a2c922fe80d5483a5128d7f05bd12384e0f0/expr.ipynb\"><img src=\"../06873a2c922fe80d5483a5128d7f05bd12384e0f0/expr.png\" style=\"display:inline;vertical-align:middle;\" /></a></td></tr>\n",
       "<tr><td>4</td><td>Literal</td><td></td><td><a class=\"ProveItLink\" href=\"../../../../../logic/booleans/conjunction/__pv_it/common/26b94b53e70b1d77b70f0d9d4236347db37731060/expr.ipynb\"><img src=\"../../../../../logic/booleans/conjunction/__pv_it/common/26b94b53e70b1d77b70f0d9d4236347db37731060/expr.png\" style=\"display:inline;vertical-align:middle;\" /></a></td></tr>\n",
       "<tr><td>5</td><td>ExprTuple</td><td>8, 9, 10, 11, 12</td><td><a class=\"ProveItLink\" href=\"../8055ec3d5db67cee7a251688beff7564402b191f0/expr.ipynb\"><img src=\"../8055ec3d5db67cee7a251688beff7564402b191f0/expr.png\" style=\"display:inline;vertical-align:middle;\" /></a></td></tr>\n",
       "<tr><td>6</td><td>Operation</td><td>operator:&nbsp;14<br>operands:&nbsp;13<br></td><td><a class=\"ProveItLink\" href=\"../69bcf3f44cde65de0875a7f24c79daed8bc71e300/expr.ipynb\"><img src=\"../69bcf3f44cde65de0875a7f24c79daed8bc71e300/expr.png\" style=\"display:inline;vertical-align:middle;\" /></a></td></tr>\n",
       "<tr><td>7</td><td>Operation</td><td>operator:&nbsp;14<br>operands:&nbsp;15<br></td><td><a class=\"ProveItLink\" href=\"../1c44b2aecc74ab2fa2f3b474b30f456dfbc244260/expr.ipynb\"><img src=\"../1c44b2aecc74ab2fa2f3b474b30f456dfbc244260/expr.png\" style=\"display:inline;vertical-align:middle;\" /></a></td></tr>\n",
       "<tr><td>8</td><td>Operation</td><td>operator:&nbsp;18<br>operands:&nbsp;16<br></td><td><a class=\"ProveItLink\" href=\"../025402c2362cd6ab78a853178f51867b794219b10/expr.ipynb\"><img src=\"../025402c2362cd6ab78a853178f51867b794219b10/expr.png\" style=\"display:inline;vertical-align:middle;\" /></a></td></tr>\n",
       "<tr><td>9</td><td>Operation</td><td>operator:&nbsp;18<br>operands:&nbsp;17<br></td><td><a class=\"ProveItLink\" href=\"../f399694c94d63fe522f8e05f5163f6a5a160a5b80/expr.ipynb\"><img src=\"../f399694c94d63fe522f8e05f5163f6a5a160a5b80/expr.png\" style=\"display:inline;vertical-align:middle;\" /></a></td></tr>\n",
       "<tr><td>10</td><td>Operation</td><td>operator:&nbsp;18<br>operands:&nbsp;19<br></td><td><a class=\"ProveItLink\" href=\"../acfb0eefb0b1b677bba1a9b1bb8fa2b4b46ea3330/expr.ipynb\"><img src=\"../acfb0eefb0b1b677bba1a9b1bb8fa2b4b46ea3330/expr.png\" style=\"display:inline;vertical-align:middle;\" /></a></td></tr>\n",
       "<tr><td>11</td><td>Operation</td><td>operator:&nbsp;20<br>operands:&nbsp;21<br></td><td><a class=\"ProveItLink\" href=\"../45dd0de6dc0d120b6e822bf6f5d41332c7ca59620/expr.ipynb\"><img src=\"../45dd0de6dc0d120b6e822bf6f5d41332c7ca59620/expr.png\" style=\"display:inline;vertical-align:middle;\" /></a></td></tr>\n",
       "<tr><td>12</td><td>Operation</td><td>operator:&nbsp;22<br>operands:&nbsp;23<br></td><td><a class=\"ProveItLink\" href=\"../fdb5f6074c930fd44fedc328e68362b6d6aab5360/expr.ipynb\"><img src=\"../fdb5f6074c930fd44fedc328e68362b6d6aab5360/expr.png\" style=\"display:inline;vertical-align:middle;\" /></a></td></tr>\n",
       "<tr><td>13</td><td>ExprTuple</td><td>28, 25</td><td><a class=\"ProveItLink\" href=\"../a34d5143f96e1f85e06926bff798f8e8e424b7f00/expr.ipynb\"><img src=\"../a34d5143f96e1f85e06926bff798f8e8e424b7f00/expr.png\" style=\"display:inline;vertical-align:middle;\" /></a></td></tr>\n",
       "<tr><td>14</td><td>Literal</td><td></td><td><a class=\"ProveItLink\" href=\"../../common/c57d60974865e78d434abd3ff22c405685c80ade0/expr.ipynb\"><img src=\"../../common/c57d60974865e78d434abd3ff22c405685c80ade0/expr.png\" style=\"display:inline;vertical-align:middle;\" /></a></td></tr>\n",
       "<tr><td>15</td><td>ExprTuple</td><td>28, 26</td><td><a class=\"ProveItLink\" href=\"../16057c318c8c2a2981bcd4d1b38b987456d96d5d0/expr.ipynb\"><img src=\"../16057c318c8c2a2981bcd4d1b38b987456d96d5d0/expr.png\" style=\"display:inline;vertical-align:middle;\" /></a></td></tr>\n",
       "<tr><td>16</td><td>ExprTuple</td><td>28, 24</td><td><a class=\"ProveItLink\" href=\"../2f245937b4e4b6a29441a8dbb5feb1a4c94c18080/expr.ipynb\"><img src=\"../2f245937b4e4b6a29441a8dbb5feb1a4c94c18080/expr.png\" style=\"display:inline;vertical-align:middle;\" /></a></td></tr>\n",
       "<tr><td>17</td><td>ExprTuple</td><td>25, 24</td><td><a class=\"ProveItLink\" href=\"../55bef9982c7867f2ba0ff0e7b2f4477175e2b1970/expr.ipynb\"><img src=\"../55bef9982c7867f2ba0ff0e7b2f4477175e2b1970/expr.png\" style=\"display:inline;vertical-align:middle;\" /></a></td></tr>\n",
       "<tr><td>18</td><td>Literal</td><td></td><td><a class=\"ProveItLink\" href=\"../../../../../logic/sets/membership/__pv_it/common/7171deca84f71f47a6ec7696972d1632274a12880/expr.ipynb\"><img src=\"../../../../../logic/sets/membership/__pv_it/common/7171deca84f71f47a6ec7696972d1632274a12880/expr.png\" style=\"display:inline;vertical-align:middle;\" /></a></td></tr>\n",
       "<tr><td>19</td><td>ExprTuple</td><td>26, 24</td><td><a class=\"ProveItLink\" href=\"../6ce71d26e191a2627cb4b5feda00ad715df2a9830/expr.ipynb\"><img src=\"../6ce71d26e191a2627cb4b5feda00ad715df2a9830/expr.png\" style=\"display:inline;vertical-align:middle;\" /></a></td></tr>\n",
       "<tr><td>20</td><td>Literal</td><td></td><td><a class=\"ProveItLink\" href=\"../../../../ordering/__pv_it/common/28edf56075f82c850836d8cd79dbcacf62e589820/expr.ipynb\"><img src=\"../../../../ordering/__pv_it/common/28edf56075f82c850836d8cd79dbcacf62e589820/expr.png\" style=\"display:inline;vertical-align:middle;\" /></a></td></tr>\n",
       "<tr><td>21</td><td>ExprTuple</td><td>25, 26</td><td><a class=\"ProveItLink\" href=\"../ef4dae65d3387950a2be9c6d13839307bdb1f9ee0/expr.ipynb\"><img src=\"../ef4dae65d3387950a2be9c6d13839307bdb1f9ee0/expr.png\" style=\"display:inline;vertical-align:middle;\" /></a></td></tr>\n",
       "<tr><td>22</td><td>Literal</td><td></td><td><a class=\"ProveItLink\" href=\"../../../../ordering/__pv_it/common/b7491c9b87613cffc9e4ec0625a0f1afacbe2cbd0/expr.ipynb\"><img src=\"../../../../ordering/__pv_it/common/b7491c9b87613cffc9e4ec0625a0f1afacbe2cbd0/expr.png\" style=\"display:inline;vertical-align:middle;\" /></a></td></tr>\n",
       "<tr><td>23</td><td>ExprTuple</td><td>27, 28</td><td><a class=\"ProveItLink\" href=\"../086e218f682fad492e3d36e55df5a5eb7faa287a0/expr.ipynb\"><img src=\"../086e218f682fad492e3d36e55df5a5eb7faa287a0/expr.png\" style=\"display:inline;vertical-align:middle;\" /></a></td></tr>\n",
       "<tr><td>24</td><td>Literal</td><td></td><td><a class=\"ProveItLink\" href=\"../../../../number_sets/real_numbers/__pv_it/common/3eaf53c11933bb30b35e82c24807c695de530cf10/expr.ipynb\"><img src=\"../../../../number_sets/real_numbers/__pv_it/common/3eaf53c11933bb30b35e82c24807c695de530cf10/expr.png\" style=\"display:inline;vertical-align:middle;\" /></a></td></tr>\n",
       "<tr><td>25</td><td>Variable</td><td></td><td><a class=\"ProveItLink\" href=\"../../../../../__pv_it/common/a2581dc5df71d9a30bad37de14965fa5fec97a240/expr.ipynb\"><img src=\"../../../../../__pv_it/common/a2581dc5df71d9a30bad37de14965fa5fec97a240/expr.png\" style=\"display:inline;vertical-align:middle;\" /></a></td></tr>\n",
       "<tr><td>26</td><td>Variable</td><td></td><td><a class=\"ProveItLink\" href=\"../../../../../__pv_it/common/0f21cbfd5644a1cae6781c1d58354abc2ffbc9000/expr.ipynb\"><img src=\"../../../../../__pv_it/common/0f21cbfd5644a1cae6781c1d58354abc2ffbc9000/expr.png\" style=\"display:inline;vertical-align:middle;\" /></a></td></tr>\n",
       "<tr><td>27</td><td>Literal</td><td></td><td><a class=\"ProveItLink\" href=\"../../../../numerals/__pv_it/common/c35fdf7268947ca3e24174d2909dc9d0a7f3aac60/expr.ipynb\"><img src=\"../../../../numerals/__pv_it/common/c35fdf7268947ca3e24174d2909dc9d0a7f3aac60/expr.png\" style=\"display:inline;vertical-align:middle;\" /></a></td></tr>\n",
       "<tr><td>28</td><td>Variable</td><td></td><td><a class=\"ProveItLink\" href=\"../../../../../__pv_it/common/66c90e66682f107a881f2d666959f64e2e72ad750/expr.ipynb\"><img src=\"../../../../../__pv_it/common/66c90e66682f107a881f2d666959f64e2e72ad750/expr.png\" style=\"display:inline;vertical-align:middle;\" /></a></td></tr>\n",
       "</table>\n"
      ],
      "text/plain": [
       "0. {(a * x) <= (a * y) if a in Real ,  x in Real ,  y in Real ,  x < y ,  a >= 0.\n",
       "   core type: Conditional\n",
       "   value: 1\n",
       "   condition: 2\n",
       "1. (a * x) <= (a * y)\n",
       "   core type: Operation\n",
       "   operator: 22\n",
       "   operands: 3\n",
       "2. (a in Real) and (x in Real) and (y in Real) and (x < y) and (a >= 0)\n",
       "   core type: Operation\n",
       "   operator: 4\n",
       "   operands: 5\n",
       "3. (a * x, a * y)\n",
       "   core type: ExprTuple\n",
       "   sub-expressions: 6, 7\n",
       "4. and\n",
       "   core type: Literal\n",
       "   sub-expressions: \n",
       "5. (a in Real, x in Real, y in Real, x < y, a >= 0)\n",
       "   core type: ExprTuple\n",
       "   sub-expressions: 8, 9, 10, 11, 12\n",
       "6. a * x\n",
       "   core type: Operation\n",
       "   operator: 14\n",
       "   operands: 13\n",
       "7. a * y\n",
       "   core type: Operation\n",
       "   operator: 14\n",
       "   operands: 15\n",
       "8. a in Real\n",
       "   core type: Operation\n",
       "   operator: 18\n",
       "   operands: 16\n",
       "9. x in Real\n",
       "   core type: Operation\n",
       "   operator: 18\n",
       "   operands: 17\n",
       "10. y in Real\n",
       "    core type: Operation\n",
       "    operator: 18\n",
       "    operands: 19\n",
       "11. x < y\n",
       "    core type: Operation\n",
       "    operator: 20\n",
       "    operands: 21\n",
       "12. a >= 0\n",
       "    core type: Operation\n",
       "    operator: 22\n",
       "    operands: 23\n",
       "13. (a, x)\n",
       "    core type: ExprTuple\n",
       "    sub-expressions: 28, 25\n",
       "14. *\n",
       "    core type: Literal\n",
       "    sub-expressions: \n",
       "15. (a, y)\n",
       "    core type: ExprTuple\n",
       "    sub-expressions: 28, 26\n",
       "16. (a, Real)\n",
       "    core type: ExprTuple\n",
       "    sub-expressions: 28, 24\n",
       "17. (x, Real)\n",
       "    core type: ExprTuple\n",
       "    sub-expressions: 25, 24\n",
       "18. in\n",
       "    core type: Literal\n",
       "    sub-expressions: \n",
       "19. (y, Real)\n",
       "    core type: ExprTuple\n",
       "    sub-expressions: 26, 24\n",
       "20. <\n",
       "    core type: Literal\n",
       "    sub-expressions: \n",
       "21. (x, y)\n",
       "    core type: ExprTuple\n",
       "    sub-expressions: 25, 26\n",
       "22. <=\n",
       "    core type: Literal\n",
       "    sub-expressions: \n",
       "23. (0, a)\n",
       "    core type: ExprTuple\n",
       "    sub-expressions: 27, 28\n",
       "24. Real\n",
       "    core type: Literal\n",
       "    sub-expressions: \n",
       "25. x\n",
       "    core type: Variable\n",
       "    sub-expressions: \n",
       "26. y\n",
       "    core type: Variable\n",
       "    sub-expressions: \n",
       "27. 0\n",
       "    core type: Literal\n",
       "    sub-expressions: \n",
       "28. a\n",
       "    core type: Variable\n",
       "    sub-expressions: "
      ]
     },
     "execution_count": 6,
     "metadata": {},
     "output_type": "execute_result"
    }
   ],
   "source": [
    "# display the expression information\n",
    "expr.expr_info()"
   ]
  },
  {
   "cell_type": "code",
   "execution_count": null,
   "metadata": {},
   "outputs": [],
   "source": []
  }
 ],
 "metadata": {
  "kernelspec": {
   "display_name": "Python 3",
   "language": "python",
   "name": "python3"
  }
 },
 "nbformat": 4,
 "nbformat_minor": 0
}