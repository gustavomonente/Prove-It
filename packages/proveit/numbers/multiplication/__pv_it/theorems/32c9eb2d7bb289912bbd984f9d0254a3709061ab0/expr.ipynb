{
 "cells": [
  {
   "cell_type": "markdown",
   "metadata": {},
   "source": [
    "Expression of type <a class=\"ProveItLink\" href=\"../../../../../../../doc/html/api/proveit.logic.Forall.html\">Forall</a>\n",
    "=======================\n",
    "# from the theory of <a class=\"ProveItLink\" href=\"../../../_theory_nbs_/theory.ipynb\">proveit.numbers.multiplication</a>"
   ]
  },
  {
   "cell_type": "code",
   "execution_count": 1,
   "metadata": {},
   "outputs": [],
   "source": [
    "import proveit\n",
    "# Automation is not needed when building an expression:\n",
    "proveit.defaults.automation = False # This will speed things up.\n",
    "proveit.defaults.inline_pngs = False # Makes files smaller.\n",
    "%load_expr # Load the stored expression as 'stored_expr'\n",
    "# import Expression classes needed to build the expression\n",
    "from proveit.core_expr_types import a_1_to_i, b_1_to_j\n",
    "from proveit.logic import Equals, Forall\n",
    "from proveit.numbers import Complex, Mult, one"
   ]
  },
  {
   "cell_type": "code",
   "execution_count": 2,
   "metadata": {},
   "outputs": [
    {
     "data": {
      "text/html": [
       "<strong id=\"expr\">expr:</strong> <a class=\"ProveItLink\" href=\"expr.ipynb\"><img src=\"expr.png\" style=\"display:inline;vertical-align:middle;\" /></a><br>"
      ],
      "text/plain": [
       "expr: forall_{a_{1}, ..a_{_a}.., a_{i}, b_{1}, ..b_{_a}.., b_{j} in Complex} ((a_{1} * ..a_{_a}.. * a_{i} * 1 * b_{1} * ..b_{_a}.. * b_{j}) = (a_{1} * ..a_{_a}.. * a_{i} * b_{1} * ..b_{_a}.. * b_{j}))"
      ]
     },
     "execution_count": 2,
     "metadata": {},
     "output_type": "execute_result"
    }
   ],
   "source": [
    "# build up the expression from sub-expressions\n",
    "expr = Forall([a_1_to_i, b_1_to_j], Equals(Mult(a_1_to_i, one, b_1_to_j), Mult(a_1_to_i, b_1_to_j)), domains = [Complex, Complex])"
   ]
  },
  {
   "cell_type": "code",
   "execution_count": 3,
   "metadata": {},
   "outputs": [
    {
     "name": "stdout",
     "output_type": "stream",
     "text": [
      "Passed sanity check: expr matches stored_expr\n"
     ]
    }
   ],
   "source": [
    "# check that the built expression is the same as the stored expression\n",
    "assert expr == stored_expr\n",
    "assert expr._style_id == stored_expr._style_id\n",
    "print(\"Passed sanity check: expr matches stored_expr\")"
   ]
  },
  {
   "cell_type": "code",
   "execution_count": 4,
   "metadata": {},
   "outputs": [
    {
     "name": "stdout",
     "output_type": "stream",
     "text": [
      "\\forall_{a_{1}, \\ldots, a_{i}, b_{1}, \\ldots, b_{j} \\in \\mathbb{C}}~\\left(\\left(a_{1} \\cdot \\ldots \\cdot a_{i} \\cdot 1 \\cdot b_{1} \\cdot \\ldots \\cdot b_{j}\\right) = \\left(a_{1} \\cdot \\ldots \\cdot a_{i} \\cdot b_{1} \\cdot \\ldots \\cdot b_{j}\\right)\\right)\n"
     ]
    }
   ],
   "source": [
    "# Show the LaTeX representation of the expression for convenience if you need it.\n",
    "print(expr.latex())"
   ]
  },
  {
   "cell_type": "code",
   "execution_count": 5,
   "metadata": {},
   "outputs": [
    {
     "data": {
      "text/html": [
       "<table><tr><th>&nbsp;</th><th>core type</th><th>sub-expressions</th><th>expression</th></tr>\n",
       "<tr><td>0</td><td>Operation</td><td>operator:&nbsp;1<br>operand:&nbsp;2<br></td><td><a class=\"ProveItLink\" href=\"expr.ipynb\"><img src=\"expr.png\" style=\"display:inline;vertical-align:middle;\" /></a></td></tr>\n",
       "<tr><td>1</td><td>Literal</td><td></td><td><a class=\"ProveItLink\" href=\"../../../../../logic/booleans/quantification/universality/__pv_it/common/083d2baa0b8ecab1d230f9ec29a15aa1355809fb0/expr.ipynb\"><img src=\"../../../../../logic/booleans/quantification/universality/__pv_it/common/083d2baa0b8ecab1d230f9ec29a15aa1355809fb0/expr.png\" style=\"display:inline;vertical-align:middle;\" /></a></td></tr>\n",
       "<tr><td>2</td><td>Lambda</td><td>parameters:&nbsp;16<br>body:&nbsp;3<br></td><td><a class=\"ProveItLink\" href=\"../b054207e4e1cfb0df28551b5c296ebd86df4b8ab0/expr.ipynb\"><img src=\"../b054207e4e1cfb0df28551b5c296ebd86df4b8ab0/expr.png\" style=\"display:inline;vertical-align:middle;\" /></a></td></tr>\n",
       "<tr><td>3</td><td>Conditional</td><td>value:&nbsp;4<br>condition:&nbsp;5<br></td><td><a class=\"ProveItLink\" href=\"../8684860f66c09e9359228edd64a954ed60283b3c0/expr.ipynb\"><img src=\"../8684860f66c09e9359228edd64a954ed60283b3c0/expr.png\" style=\"display:inline;vertical-align:middle;\" /></a></td></tr>\n",
       "<tr><td>4</td><td>Operation</td><td>operator:&nbsp;6<br>operands:&nbsp;7<br></td><td><a class=\"ProveItLink\" href=\"../0057195f9d8253ec23d45a076716e4d4e9575adc0/expr.ipynb\"><img src=\"../0057195f9d8253ec23d45a076716e4d4e9575adc0/expr.png\" style=\"display:inline;vertical-align:middle;\" /></a></td></tr>\n",
       "<tr><td>5</td><td>Operation</td><td>operator:&nbsp;8<br>operands:&nbsp;9<br></td><td><a class=\"ProveItLink\" href=\"../568ddb53ff0d0a29eadcb62f2c502bf27e6be3800/expr.ipynb\"><img src=\"../568ddb53ff0d0a29eadcb62f2c502bf27e6be3800/expr.png\" style=\"display:inline;vertical-align:middle;\" /></a></td></tr>\n",
       "<tr><td>6</td><td>Literal</td><td></td><td><a class=\"ProveItLink\" href=\"../../../../../logic/equality/__pv_it/common/fb96dc12b2aa8801dda64d0132b396c63d1502bb0/expr.ipynb\"><img src=\"../../../../../logic/equality/__pv_it/common/fb96dc12b2aa8801dda64d0132b396c63d1502bb0/expr.png\" style=\"display:inline;vertical-align:middle;\" /></a></td></tr>\n",
       "<tr><td>7</td><td>ExprTuple</td><td>10, 11</td><td><a class=\"ProveItLink\" href=\"../84ca791cfe9ae6e4c2ba060a78b92ccd32c0e29d0/expr.ipynb\"><img src=\"../84ca791cfe9ae6e4c2ba060a78b92ccd32c0e29d0/expr.png\" style=\"display:inline;vertical-align:middle;\" /></a></td></tr>\n",
       "<tr><td>8</td><td>Literal</td><td></td><td><a class=\"ProveItLink\" href=\"../../../../../logic/booleans/conjunction/__pv_it/common/42118ff318bd65d98b1393f64ce7c2269feef76e0/expr.ipynb\"><img src=\"../../../../../logic/booleans/conjunction/__pv_it/common/42118ff318bd65d98b1393f64ce7c2269feef76e0/expr.png\" style=\"display:inline;vertical-align:middle;\" /></a></td></tr>\n",
       "<tr><td>9</td><td>ExprTuple</td><td>12, 13</td><td><a class=\"ProveItLink\" href=\"../ed79e794eefa29a0bd3890baedfef7585aca391a0/expr.ipynb\"><img src=\"../ed79e794eefa29a0bd3890baedfef7585aca391a0/expr.png\" style=\"display:inline;vertical-align:middle;\" /></a></td></tr>\n",
       "<tr><td>10</td><td>Operation</td><td>operator:&nbsp;15<br>operands:&nbsp;14<br></td><td><a class=\"ProveItLink\" href=\"../0f148c50a3d34eea2bbaefd6bf77fc9291baf46d0/expr.ipynb\"><img src=\"../0f148c50a3d34eea2bbaefd6bf77fc9291baf46d0/expr.png\" style=\"display:inline;vertical-align:middle;\" /></a></td></tr>\n",
       "<tr><td>11</td><td>Operation</td><td>operator:&nbsp;15<br>operands:&nbsp;16<br></td><td><a class=\"ProveItLink\" href=\"../9e124eb4ba32e9cc7198c0609e2594aad00d13a70/expr.ipynb\"><img src=\"../9e124eb4ba32e9cc7198c0609e2594aad00d13a70/expr.png\" style=\"display:inline;vertical-align:middle;\" /></a></td></tr>\n",
       "<tr><td>12</td><td>ExprRange</td><td>lambda_map:&nbsp;17<br>start_index:&nbsp;26<br>end_index:&nbsp;24<br></td><td><a class=\"ProveItLink\" href=\"../3f65e9f51f49b111139b9e6d68223e68107e9e330/expr.ipynb\"><img src=\"../3f65e9f51f49b111139b9e6d68223e68107e9e330/expr.png\" style=\"display:inline;vertical-align:middle;\" /></a></td></tr>\n",
       "<tr><td>13</td><td>ExprRange</td><td>lambda_map:&nbsp;18<br>start_index:&nbsp;26<br>end_index:&nbsp;27<br></td><td><a class=\"ProveItLink\" href=\"../5c9a69273d9f6af214012c932302da01159d0eb90/expr.ipynb\"><img src=\"../5c9a69273d9f6af214012c932302da01159d0eb90/expr.png\" style=\"display:inline;vertical-align:middle;\" /></a></td></tr>\n",
       "<tr><td>14</td><td>ExprTuple</td><td>19, 26, 20</td><td><a class=\"ProveItLink\" href=\"../475b40035f0a7962f4e574af4bdd54babd8085790/expr.ipynb\"><img src=\"../475b40035f0a7962f4e574af4bdd54babd8085790/expr.png\" style=\"display:inline;vertical-align:middle;\" /></a></td></tr>\n",
       "<tr><td>15</td><td>Literal</td><td></td><td><a class=\"ProveItLink\" href=\"../../common/ed719cef37831779c16481533a4d380a2f95ab270/expr.ipynb\"><img src=\"../../common/ed719cef37831779c16481533a4d380a2f95ab270/expr.png\" style=\"display:inline;vertical-align:middle;\" /></a></td></tr>\n",
       "<tr><td>16</td><td>ExprTuple</td><td>19, 20</td><td><a class=\"ProveItLink\" href=\"../f4f5f939c1e5937b3d6ef9d6e9eb7af7b78a5ff00/expr.ipynb\"><img src=\"../f4f5f939c1e5937b3d6ef9d6e9eb7af7b78a5ff00/expr.png\" style=\"display:inline;vertical-align:middle;\" /></a></td></tr>\n",
       "<tr><td>17</td><td>Lambda</td><td>parameter:&nbsp;36<br>body:&nbsp;21<br></td><td><a class=\"ProveItLink\" href=\"../a79bfc7943c0d67a6fe108f4ce4572f5d1cc013a0/expr.ipynb\"><img src=\"../a79bfc7943c0d67a6fe108f4ce4572f5d1cc013a0/expr.png\" style=\"display:inline;vertical-align:middle;\" /></a></td></tr>\n",
       "<tr><td>18</td><td>Lambda</td><td>parameter:&nbsp;36<br>body:&nbsp;22<br></td><td><a class=\"ProveItLink\" href=\"../793e2c2a5473d7717dfe378d90ae9cabdb8fee4f0/expr.ipynb\"><img src=\"../793e2c2a5473d7717dfe378d90ae9cabdb8fee4f0/expr.png\" style=\"display:inline;vertical-align:middle;\" /></a></td></tr>\n",
       "<tr><td>19</td><td>ExprRange</td><td>lambda_map:&nbsp;23<br>start_index:&nbsp;26<br>end_index:&nbsp;24<br></td><td><a class=\"ProveItLink\" href=\"../../../../../core_expr_types/__pv_it/common/3143372b81f4215c0f48ddd93ca9c77fdfbd3fc20/expr.ipynb\"><img src=\"../../../../../core_expr_types/__pv_it/common/3143372b81f4215c0f48ddd93ca9c77fdfbd3fc20/expr.png\" style=\"display:inline;vertical-align:middle;\" /></a></td></tr>\n",
       "<tr><td>20</td><td>ExprRange</td><td>lambda_map:&nbsp;25<br>start_index:&nbsp;26<br>end_index:&nbsp;27<br></td><td><a class=\"ProveItLink\" href=\"../../../../../core_expr_types/__pv_it/common/04a009a369958ec3b80ac6387b0fb199d00619dd0/expr.ipynb\"><img src=\"../../../../../core_expr_types/__pv_it/common/04a009a369958ec3b80ac6387b0fb199d00619dd0/expr.png\" style=\"display:inline;vertical-align:middle;\" /></a></td></tr>\n",
       "<tr><td>21</td><td>Operation</td><td>operator:&nbsp;29<br>operands:&nbsp;28<br></td><td><a class=\"ProveItLink\" href=\"../35f0fb426939fe838ee312f91b94c95759c50cde0/expr.ipynb\"><img src=\"../35f0fb426939fe838ee312f91b94c95759c50cde0/expr.png\" style=\"display:inline;vertical-align:middle;\" /></a></td></tr>\n",
       "<tr><td>22</td><td>Operation</td><td>operator:&nbsp;29<br>operands:&nbsp;30<br></td><td><a class=\"ProveItLink\" href=\"../2e615f1d4e3cfd74696b51f31ebbfa4877af778c0/expr.ipynb\"><img src=\"../2e615f1d4e3cfd74696b51f31ebbfa4877af778c0/expr.png\" style=\"display:inline;vertical-align:middle;\" /></a></td></tr>\n",
       "<tr><td>23</td><td>Lambda</td><td>parameter:&nbsp;36<br>body:&nbsp;31<br></td><td><a class=\"ProveItLink\" href=\"../../../../../core_expr_types/__pv_it/common/9f0c64ef8ae0c02b5dcba32e0fb15bd29f85872a0/expr.ipynb\"><img src=\"../../../../../core_expr_types/__pv_it/common/9f0c64ef8ae0c02b5dcba32e0fb15bd29f85872a0/expr.png\" style=\"display:inline;vertical-align:middle;\" /></a></td></tr>\n",
       "<tr><td>24</td><td>Variable</td><td></td><td><a class=\"ProveItLink\" href=\"../../../../../__pv_it/common/ae955345c83abf786c3aff8681cd5465beae262d0/expr.ipynb\"><img src=\"../../../../../__pv_it/common/ae955345c83abf786c3aff8681cd5465beae262d0/expr.png\" style=\"display:inline;vertical-align:middle;\" /></a></td></tr>\n",
       "<tr><td>25</td><td>Lambda</td><td>parameter:&nbsp;36<br>body:&nbsp;32<br></td><td><a class=\"ProveItLink\" href=\"../../../../../core_expr_types/__pv_it/common/c2df84a66e11f720c679abb1b2e017879a8ed4350/expr.ipynb\"><img src=\"../../../../../core_expr_types/__pv_it/common/c2df84a66e11f720c679abb1b2e017879a8ed4350/expr.png\" style=\"display:inline;vertical-align:middle;\" /></a></td></tr>\n",
       "<tr><td>26</td><td>Literal</td><td></td><td><a class=\"ProveItLink\" href=\"../../../../numerals/__pv_it/common/2778428c7f555b2bdc06aa0530bc142c6e6335100/expr.ipynb\"><img src=\"../../../../numerals/__pv_it/common/2778428c7f555b2bdc06aa0530bc142c6e6335100/expr.png\" style=\"display:inline;vertical-align:middle;\" /></a></td></tr>\n",
       "<tr><td>27</td><td>Variable</td><td></td><td><a class=\"ProveItLink\" href=\"../../../../../__pv_it/common/1ed21df18baca2f42b561a7ffbf30a2743d594650/expr.ipynb\"><img src=\"../../../../../__pv_it/common/1ed21df18baca2f42b561a7ffbf30a2743d594650/expr.png\" style=\"display:inline;vertical-align:middle;\" /></a></td></tr>\n",
       "<tr><td>28</td><td>ExprTuple</td><td>31, 33</td><td><a class=\"ProveItLink\" href=\"../fcb17fa09a0e9b584dcb18e5cec4f8377e6cf3780/expr.ipynb\"><img src=\"../fcb17fa09a0e9b584dcb18e5cec4f8377e6cf3780/expr.png\" style=\"display:inline;vertical-align:middle;\" /></a></td></tr>\n",
       "<tr><td>29</td><td>Literal</td><td></td><td><a class=\"ProveItLink\" href=\"../../../../../logic/sets/membership/__pv_it/common/477487d8796864d23d5810f83761435f25167f690/expr.ipynb\"><img src=\"../../../../../logic/sets/membership/__pv_it/common/477487d8796864d23d5810f83761435f25167f690/expr.png\" style=\"display:inline;vertical-align:middle;\" /></a></td></tr>\n",
       "<tr><td>30</td><td>ExprTuple</td><td>32, 33</td><td><a class=\"ProveItLink\" href=\"../9094c80cc7f8e51c18870181095a896cb4130b740/expr.ipynb\"><img src=\"../9094c80cc7f8e51c18870181095a896cb4130b740/expr.png\" style=\"display:inline;vertical-align:middle;\" /></a></td></tr>\n",
       "<tr><td>31</td><td>IndexedVar</td><td>variable:&nbsp;34<br>index:&nbsp;36<br></td><td><a class=\"ProveItLink\" href=\"../../../../../core_expr_types/__pv_it/common/ea36c59b79decceeaf696ef762cc9648f9ddbf5c0/expr.ipynb\"><img src=\"../../../../../core_expr_types/__pv_it/common/ea36c59b79decceeaf696ef762cc9648f9ddbf5c0/expr.png\" style=\"display:inline;vertical-align:middle;\" /></a></td></tr>\n",
       "<tr><td>32</td><td>IndexedVar</td><td>variable:&nbsp;35<br>index:&nbsp;36<br></td><td><a class=\"ProveItLink\" href=\"../../../../../core_expr_types/__pv_it/common/be357322e6b23f6bdf544b2cf09607618adbd09b0/expr.ipynb\"><img src=\"../../../../../core_expr_types/__pv_it/common/be357322e6b23f6bdf544b2cf09607618adbd09b0/expr.png\" style=\"display:inline;vertical-align:middle;\" /></a></td></tr>\n",
       "<tr><td>33</td><td>Literal</td><td></td><td><a class=\"ProveItLink\" href=\"../../../../number_sets/complex_numbers/__pv_it/common/d18a028138f659eda00de597c28a3447fe87eb100/expr.ipynb\"><img src=\"../../../../number_sets/complex_numbers/__pv_it/common/d18a028138f659eda00de597c28a3447fe87eb100/expr.png\" style=\"display:inline;vertical-align:middle;\" /></a></td></tr>\n",
       "<tr><td>34</td><td>Variable</td><td></td><td><a class=\"ProveItLink\" href=\"../../../../../__pv_it/common/c06c606ec12678c58933ac85412ecadc2ae28be60/expr.ipynb\"><img src=\"../../../../../__pv_it/common/c06c606ec12678c58933ac85412ecadc2ae28be60/expr.png\" style=\"display:inline;vertical-align:middle;\" /></a></td></tr>\n",
       "<tr><td>35</td><td>Variable</td><td></td><td><a class=\"ProveItLink\" href=\"../../../../../__pv_it/common/195236b98c6c564a75b5dbada74b173bc52d5c3e0/expr.ipynb\"><img src=\"../../../../../__pv_it/common/195236b98c6c564a75b5dbada74b173bc52d5c3e0/expr.png\" style=\"display:inline;vertical-align:middle;\" /></a></td></tr>\n",
       "<tr><td>36</td><td>Variable</td><td></td><td><a class=\"ProveItLink\" href=\"../../../../../core_expr_types/__pv_it/common/006c465e50948aa2b52285e2de47974f741255cc0/expr.ipynb\"><img src=\"../../../../../core_expr_types/__pv_it/common/006c465e50948aa2b52285e2de47974f741255cc0/expr.png\" style=\"display:inline;vertical-align:middle;\" /></a></td></tr>\n",
       "</table>\n"
      ],
      "text/plain": [
       "0. forall_{a_{1}, ..a_{_a}.., a_{i}, b_{1}, ..b_{_a}.., b_{j} in Complex} ((a_{1} * ..a_{_a}.. * a_{i} * 1 * b_{1} * ..b_{_a}.. * b_{j}) = (a_{1} * ..a_{_a}.. * a_{i} * b_{1} * ..b_{_a}.. * b_{j}))\n",
       "   core type: Operation\n",
       "   operator: 1\n",
       "   operand: 2\n",
       "1. forall\n",
       "   core type: Literal\n",
       "   sub-expressions: \n",
       "2. (a_{1}, ..a_{_a}.., a_{i}, b_{1}, ..b_{_a}.., b_{j}) -> {(a_{1} * ..a_{_a}.. * a_{i} * 1 * b_{1} * ..b_{_a}.. * b_{j}) = (a_{1} * ..a_{_a}.. * a_{i} * b_{1} * ..b_{_a}.. * b_{j}) if a_{1} in Complex ,  ..a_{_a} in Complex.. ,  a_{i} in Complex ,  b_{1} in Complex ,  ..b_{_a} in Complex.. ,  b_{j} in Complex.\n",
       "   core type: Lambda\n",
       "   parameters: 16\\n   body: 3\n",
       "3. {(a_{1} * ..a_{_a}.. * a_{i} * 1 * b_{1} * ..b_{_a}.. * b_{j}) = (a_{1} * ..a_{_a}.. * a_{i} * b_{1} * ..b_{_a}.. * b_{j}) if a_{1} in Complex ,  ..a_{_a} in Complex.. ,  a_{i} in Complex ,  b_{1} in Complex ,  ..b_{_a} in Complex.. ,  b_{j} in Complex.\n",
       "   core type: Conditional\n",
       "   value: 4\n",
       "   condition: 5\n",
       "4. (a_{1} * ..a_{_a}.. * a_{i} * 1 * b_{1} * ..b_{_a}.. * b_{j}) = (a_{1} * ..a_{_a}.. * a_{i} * b_{1} * ..b_{_a}.. * b_{j})\n",
       "   core type: Operation\n",
       "   operator: 6\n",
       "   operands: 7\n",
       "5. (a_{1} in Complex) and ..(a_{_a} in Complex).. and (a_{i} in Complex) and (b_{1} in Complex) and ..(b_{_a} in Complex).. and (b_{j} in Complex)\n",
       "   core type: Operation\n",
       "   operator: 8\n",
       "   operands: 9\n",
       "6. =\n",
       "   core type: Literal\n",
       "   sub-expressions: \n",
       "7. (a_{1} * ..a_{_a}.. * a_{i} * 1 * b_{1} * ..b_{_a}.. * b_{j}, a_{1} * ..a_{_a}.. * a_{i} * b_{1} * ..b_{_a}.. * b_{j})\n",
       "   core type: ExprTuple\n",
       "   sub-expressions: 10, 11\n",
       "8. and\n",
       "   core type: Literal\n",
       "   sub-expressions: \n",
       "9. (a_{1} in Complex, ..a_{_a} in Complex.., a_{i} in Complex, b_{1} in Complex, ..b_{_a} in Complex.., b_{j} in Complex)\n",
       "   core type: ExprTuple\n",
       "   sub-expressions: 12, 13\n",
       "10. a_{1} * ..a_{_a}.. * a_{i} * 1 * b_{1} * ..b_{_a}.. * b_{j}\n",
       "    core type: Operation\n",
       "    operator: 15\n",
       "    operands: 14\n",
       "11. a_{1} * ..a_{_a}.. * a_{i} * b_{1} * ..b_{_a}.. * b_{j}\n",
       "    core type: Operation\n",
       "    operator: 15\n",
       "    operands: 16\n",
       "12. (a_{1} in Complex), ..(a_{_a} in Complex).., (a_{i} in Complex)\n",
       "    core type: ExprRange\n",
       "    lambda_map: 17\n",
       "    start_index: 26\n",
       "    end_index: 24\n",
       "13. (b_{1} in Complex), ..(b_{_a} in Complex).., (b_{j} in Complex)\n",
       "    core type: ExprRange\n",
       "    lambda_map: 18\n",
       "    start_index: 26\n",
       "    end_index: 27\n",
       "14. (a_{1}, ..a_{_a}.., a_{i}, 1, b_{1}, ..b_{_a}.., b_{j})\n",
       "    core type: ExprTuple\n",
       "    sub-expressions: 19, 26, 20\n",
       "15. *\n",
       "    core type: Literal\n",
       "    sub-expressions: \n",
       "16. (a_{1}, ..a_{_a}.., a_{i}, b_{1}, ..b_{_a}.., b_{j})\n",
       "    core type: ExprTuple\n",
       "    sub-expressions: 19, 20\n",
       "17. _a -> (a_{_a} in Complex)\n",
       "    core type: Lambda\n",
       "    parameter: 36\n",
       "    body: 21\n",
       "18. _a -> (b_{_a} in Complex)\n",
       "    core type: Lambda\n",
       "    parameter: 36\n",
       "    body: 22\n",
       "19. a_{1}, ..a_{_a}.., a_{i}\n",
       "    core type: ExprRange\n",
       "    lambda_map: 23\n",
       "    start_index: 26\n",
       "    end_index: 24\n",
       "20. b_{1}, ..b_{_a}.., b_{j}\n",
       "    core type: ExprRange\n",
       "    lambda_map: 25\n",
       "    start_index: 26\n",
       "    end_index: 27\n",
       "21. a_{_a} in Complex\n",
       "    core type: Operation\n",
       "    operator: 29\n",
       "    operands: 28\n",
       "22. b_{_a} in Complex\n",
       "    core type: Operation\n",
       "    operator: 29\n",
       "    operands: 30\n",
       "23. _a -> a_{_a}\n",
       "    core type: Lambda\n",
       "    parameter: 36\n",
       "    body: 31\n",
       "24. i\n",
       "    core type: Variable\n",
       "    sub-expressions: \n",
       "25. _a -> b_{_a}\n",
       "    core type: Lambda\n",
       "    parameter: 36\n",
       "    body: 32\n",
       "26. 1\n",
       "    core type: Literal\n",
       "    sub-expressions: \n",
       "27. j\n",
       "    core type: Variable\n",
       "    sub-expressions: \n",
       "28. (a_{_a}, Complex)\n",
       "    core type: ExprTuple\n",
       "    sub-expressions: 31, 33\n",
       "29. in\n",
       "    core type: Literal\n",
       "    sub-expressions: \n",
       "30. (b_{_a}, Complex)\n",
       "    core type: ExprTuple\n",
       "    sub-expressions: 32, 33\n",
       "31. a_{_a}\n",
       "    core type: IndexedVar\n",
       "variable: 34\n",
       "index: 36\n",
       "32. b_{_a}\n",
       "    core type: IndexedVar\n",
       "variable: 35\n",
       "index: 36\n",
       "33. Complex\n",
       "    core type: Literal\n",
       "    sub-expressions: \n",
       "34. a\n",
       "    core type: Variable\n",
       "    sub-expressions: \n",
       "35. b\n",
       "    core type: Variable\n",
       "    sub-expressions: \n",
       "36. _a\n",
       "    core type: Variable\n",
       "    sub-expressions: "
      ]
     },
     "execution_count": 5,
     "metadata": {},
     "output_type": "execute_result"
    }
   ],
   "source": [
    "# display the expression information\n",
    "expr.expr_info()"
   ]
  },
  {
   "cell_type": "code",
   "execution_count": null,
   "metadata": {},
   "outputs": [],
   "source": []
  }
 ],
 "metadata": {
  "kernelspec": {
   "display_name": "Python 3",
   "language": "python",
   "name": "python3"
  }
 },
 "nbformat": 4,
 "nbformat_minor": 0
}