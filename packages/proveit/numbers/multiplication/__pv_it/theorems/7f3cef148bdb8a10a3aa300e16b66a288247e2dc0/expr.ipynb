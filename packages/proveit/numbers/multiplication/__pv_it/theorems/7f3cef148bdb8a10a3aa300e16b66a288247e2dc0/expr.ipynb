{
 "cells": [
  {
   "cell_type": "markdown",
   "metadata": {},
   "source": [
    "Expression of type <a class=\"ProveItLink\" href=\"../../../../../../../doc/html/api/proveit.Conditional.html\">Conditional</a>\n",
    "=======================\n",
    "# from the theory of <a class=\"ProveItLink\" href=\"../../../_theory_nbs_/theory.ipynb\">proveit.numbers.multiplication</a>"
   ]
  },
  {
   "cell_type": "code",
   "execution_count": 1,
   "metadata": {},
   "outputs": [],
   "source": [
    "import proveit\n",
    "# Automation is not needed when building an expression:\n",
    "proveit.defaults.automation = False # This will speed things up.\n",
    "proveit.defaults.inline_pngs = False # Makes files smaller.\n",
    "%load_expr # Load the stored expression as 'stored_expr'\n",
    "# import Expression classes needed to build the expression\n",
    "from proveit import Conditional, ExprRange, IndexedVar, Variable, a, b, c, d, i, j, k\n",
    "from proveit.core_expr_types import a_1_to_i, c_1_to_j, d_1_to_k\n",
    "from proveit.logic import And, Equals, InSet\n",
    "from proveit.numbers import Complex, Mult, one"
   ]
  },
  {
   "cell_type": "code",
   "execution_count": 2,
   "metadata": {},
   "outputs": [
    {
     "data": {
      "text/html": [
       "<strong id=\"expr\">expr:</strong> <a class=\"ProveItLink\" href=\"expr.ipynb\"><img src=\"expr.png\" style=\"display:inline;vertical-align:middle;\" /></a><br>"
      ],
      "text/plain": [
       "expr: {(a_{1} * ..a_{_a}.. * a_{i} * b * c_{1} * ..c_{_a}.. * c_{j} * d_{1} * ..d_{_a}.. * d_{k}) =  \\\\ (a_{1} * ..a_{_a}.. * a_{i} * c_{1} * ..c_{_a}.. * c_{j} * b * d_{1} * ..d_{_a}.. * d_{k}) if a_{1} in Complex ,  ..a_{_a} in Complex.. ,  a_{i} in Complex ,  b in Complex ,  c_{1} in Complex ,  ..c_{_a} in Complex.. ,  c_{j} in Complex ,  d_{1} in Complex ,  ..d_{_a} in Complex.. ,  d_{k} in Complex."
      ]
     },
     "execution_count": 2,
     "metadata": {},
     "output_type": "execute_result"
    }
   ],
   "source": [
    "# build up the expression from sub-expressions\n",
    "sub_expr1 = Variable(\"_a\", latex_format = r\"{_{-}a}\")\n",
    "expr = Conditional(Equals(Mult(a_1_to_i, b, c_1_to_j, d_1_to_k), Mult(a_1_to_i, c_1_to_j, b, d_1_to_k)).with_wrapping_at(2), And(ExprRange(sub_expr1, InSet(IndexedVar(a, sub_expr1), Complex), one, i), InSet(b, Complex), ExprRange(sub_expr1, InSet(IndexedVar(c, sub_expr1), Complex), one, j), ExprRange(sub_expr1, InSet(IndexedVar(d, sub_expr1), Complex), one, k)))"
   ]
  },
  {
   "cell_type": "code",
   "execution_count": 3,
   "metadata": {},
   "outputs": [
    {
     "name": "stdout",
     "output_type": "stream",
     "text": [
      "Passed sanity check: expr matches stored_expr\n"
     ]
    }
   ],
   "source": [
    "# check that the built expression is the same as the stored expression\n",
    "assert expr == stored_expr\n",
    "assert expr._style_id == stored_expr._style_id\n",
    "print(\"Passed sanity check: expr matches stored_expr\")"
   ]
  },
  {
   "cell_type": "code",
   "execution_count": 4,
   "metadata": {},
   "outputs": [
    {
     "name": "stdout",
     "output_type": "stream",
     "text": [
      "\\left\\{\\begin{array}{c} \\begin{array}{l} \\left(a_{1} \\cdot \\ldots \\cdot a_{i} \\cdot b \\cdot c_{1} \\cdot \\ldots \\cdot c_{j} \\cdot d_{1} \\cdot \\ldots \\cdot d_{k}\\right) =  \\\\ \\left(a_{1} \\cdot \\ldots \\cdot a_{i} \\cdot c_{1} \\cdot \\ldots \\cdot c_{j} \\cdot b \\cdot d_{1} \\cdot \\ldots \\cdot d_{k}\\right) \\end{array} \\end{array} \\textrm{ if } a_{1} \\in \\mathbb{C} ,  \\ldots ,  a_{i} \\in \\mathbb{C} ,  b \\in \\mathbb{C} ,  c_{1} \\in \\mathbb{C} ,  \\ldots ,  c_{j} \\in \\mathbb{C} ,  d_{1} \\in \\mathbb{C} ,  \\ldots ,  d_{k} \\in \\mathbb{C}\\right..\n"
     ]
    }
   ],
   "source": [
    "# Show the LaTeX representation of the expression for convenience if you need it.\n",
    "print(expr.latex())"
   ]
  },
  {
   "cell_type": "code",
   "execution_count": 5,
   "metadata": {},
   "outputs": [
    {
     "data": {
      "text/html": [
       "<table>\n",
       "<tr><th>name</th><th>description</th><th>default</th><th>current value</th><th>related methods</th></tr><tr><td>condition_delimiter</td><td>'comma' or 'and'</td><td>comma</td><td>comma</td><td>('with_comma_delimiter', 'with_conjunction_delimiter')</td></tr>\n",
       "</table>\n"
      ],
      "text/plain": [
       "style name: condition_delimiter\n",
       "description: 'comma' or 'and'\n",
       "default: comma\n",
       "current value: comma\n",
       "related methods: ('with_comma_delimiter', 'with_conjunction_delimiter')"
      ]
     },
     "execution_count": 5,
     "metadata": {},
     "output_type": "execute_result"
    }
   ],
   "source": [
    "expr.style_options()"
   ]
  },
  {
   "cell_type": "code",
   "execution_count": 6,
   "metadata": {},
   "outputs": [
    {
     "data": {
      "text/html": [
       "<table><tr><th>&nbsp;</th><th>core type</th><th>sub-expressions</th><th>expression</th></tr>\n",
       "<tr><td>0</td><td>Conditional</td><td>value:&nbsp;1<br>condition:&nbsp;2<br></td><td><a class=\"ProveItLink\" href=\"expr.ipynb\"><img src=\"expr.png\" style=\"display:inline;vertical-align:middle;\" /></a></td></tr>\n",
       "<tr><td>1</td><td>Operation</td><td>operator:&nbsp;3<br>operands:&nbsp;4<br></td><td><a class=\"ProveItLink\" href=\"../429720311191103982227897eb40ed8cbf134e240/expr.ipynb\"><img src=\"../429720311191103982227897eb40ed8cbf134e240/expr.png\" style=\"display:inline;vertical-align:middle;\" /></a></td></tr>\n",
       "<tr><td>2</td><td>Operation</td><td>operator:&nbsp;5<br>operands:&nbsp;6<br></td><td><a class=\"ProveItLink\" href=\"../783eedad350bf6a24a38b99f9c9399c83c20e6fb0/expr.ipynb\"><img src=\"../783eedad350bf6a24a38b99f9c9399c83c20e6fb0/expr.png\" style=\"display:inline;vertical-align:middle;\" /></a></td></tr>\n",
       "<tr><td>3</td><td>Literal</td><td></td><td><a class=\"ProveItLink\" href=\"../../../../../logic/equality/__pv_it/common/731dd3955b346c1320ed5c0ba7a618bcda61457d0/expr.ipynb\"><img src=\"../../../../../logic/equality/__pv_it/common/731dd3955b346c1320ed5c0ba7a618bcda61457d0/expr.png\" style=\"display:inline;vertical-align:middle;\" /></a></td></tr>\n",
       "<tr><td>4</td><td>ExprTuple</td><td>7, 8</td><td><a class=\"ProveItLink\" href=\"../aa925c1faedbfbd8977974726d7e19ffe5a828760/expr.ipynb\"><img src=\"../aa925c1faedbfbd8977974726d7e19ffe5a828760/expr.png\" style=\"display:inline;vertical-align:middle;\" /></a></td></tr>\n",
       "<tr><td>5</td><td>Literal</td><td></td><td><a class=\"ProveItLink\" href=\"../../../../../logic/booleans/conjunction/__pv_it/common/26b94b53e70b1d77b70f0d9d4236347db37731060/expr.ipynb\"><img src=\"../../../../../logic/booleans/conjunction/__pv_it/common/26b94b53e70b1d77b70f0d9d4236347db37731060/expr.png\" style=\"display:inline;vertical-align:middle;\" /></a></td></tr>\n",
       "<tr><td>6</td><td>ExprTuple</td><td>9, 10, 11, 12</td><td><a class=\"ProveItLink\" href=\"../df293e08de0bb73b8bc91988729e9443fa4b40500/expr.ipynb\"><img src=\"../df293e08de0bb73b8bc91988729e9443fa4b40500/expr.png\" style=\"display:inline;vertical-align:middle;\" /></a></td></tr>\n",
       "<tr><td>7</td><td>Operation</td><td>operator:&nbsp;14<br>operands:&nbsp;13<br></td><td><a class=\"ProveItLink\" href=\"../feb57dba1b2f0c6a066ba2afa65b6ca091554ed20/expr.ipynb\"><img src=\"../feb57dba1b2f0c6a066ba2afa65b6ca091554ed20/expr.png\" style=\"display:inline;vertical-align:middle;\" /></a></td></tr>\n",
       "<tr><td>8</td><td>Operation</td><td>operator:&nbsp;14<br>operands:&nbsp;15<br></td><td><a class=\"ProveItLink\" href=\"../33356fb0e053fa913cb15ea9cc1db52bf1488f220/expr.ipynb\"><img src=\"../33356fb0e053fa913cb15ea9cc1db52bf1488f220/expr.png\" style=\"display:inline;vertical-align:middle;\" /></a></td></tr>\n",
       "<tr><td>9</td><td>ExprRange</td><td>lambda_map:&nbsp;16<br>start_index:&nbsp;32<br>end_index:&nbsp;28<br></td><td><a class=\"ProveItLink\" href=\"../e9e945404e68ddf8daf3567a0aff12075464d0640/expr.ipynb\"><img src=\"../e9e945404e68ddf8daf3567a0aff12075464d0640/expr.png\" style=\"display:inline;vertical-align:middle;\" /></a></td></tr>\n",
       "<tr><td>10</td><td>Operation</td><td>operator:&nbsp;36<br>operands:&nbsp;17<br></td><td><a class=\"ProveItLink\" href=\"../fe4de3ff0419f38c3d25379035ba812df4fead870/expr.ipynb\"><img src=\"../fe4de3ff0419f38c3d25379035ba812df4fead870/expr.png\" style=\"display:inline;vertical-align:middle;\" /></a></td></tr>\n",
       "<tr><td>11</td><td>ExprRange</td><td>lambda_map:&nbsp;18<br>start_index:&nbsp;32<br>end_index:&nbsp;30<br></td><td><a class=\"ProveItLink\" href=\"../5a67cb8fda52a96618b357e4738eb6c18e589b7f0/expr.ipynb\"><img src=\"../5a67cb8fda52a96618b357e4738eb6c18e589b7f0/expr.png\" style=\"display:inline;vertical-align:middle;\" /></a></td></tr>\n",
       "<tr><td>12</td><td>ExprRange</td><td>lambda_map:&nbsp;19<br>start_index:&nbsp;32<br>end_index:&nbsp;33<br></td><td><a class=\"ProveItLink\" href=\"../75aec6a2ad2a59cbec1e87cc23bb829549aa60410/expr.ipynb\"><img src=\"../75aec6a2ad2a59cbec1e87cc23bb829549aa60410/expr.png\" style=\"display:inline;vertical-align:middle;\" /></a></td></tr>\n",
       "<tr><td>13</td><td>ExprTuple</td><td>20, 24, 21, 22</td><td><a class=\"ProveItLink\" href=\"../57227c6d10f2a9f7836d9b0c15372e0293b2ae330/expr.ipynb\"><img src=\"../57227c6d10f2a9f7836d9b0c15372e0293b2ae330/expr.png\" style=\"display:inline;vertical-align:middle;\" /></a></td></tr>\n",
       "<tr><td>14</td><td>Literal</td><td></td><td><a class=\"ProveItLink\" href=\"../../common/c57d60974865e78d434abd3ff22c405685c80ade0/expr.ipynb\"><img src=\"../../common/c57d60974865e78d434abd3ff22c405685c80ade0/expr.png\" style=\"display:inline;vertical-align:middle;\" /></a></td></tr>\n",
       "<tr><td>15</td><td>ExprTuple</td><td>20, 21, 24, 22</td><td><a class=\"ProveItLink\" href=\"../382302cdff148cf45e232b84ba12229b028487480/expr.ipynb\"><img src=\"../382302cdff148cf45e232b84ba12229b028487480/expr.png\" style=\"display:inline;vertical-align:middle;\" /></a></td></tr>\n",
       "<tr><td>16</td><td>Lambda</td><td>parameter:&nbsp;46<br>body:&nbsp;23<br></td><td><a class=\"ProveItLink\" href=\"../27e93e67a24b341093eff99ce754a280791bae3c0/expr.ipynb\"><img src=\"../27e93e67a24b341093eff99ce754a280791bae3c0/expr.png\" style=\"display:inline;vertical-align:middle;\" /></a></td></tr>\n",
       "<tr><td>17</td><td>ExprTuple</td><td>24, 41</td><td><a class=\"ProveItLink\" href=\"../8366e4d5936209b9da9455e88151b300248abbf10/expr.ipynb\"><img src=\"../8366e4d5936209b9da9455e88151b300248abbf10/expr.png\" style=\"display:inline;vertical-align:middle;\" /></a></td></tr>\n",
       "<tr><td>18</td><td>Lambda</td><td>parameter:&nbsp;46<br>body:&nbsp;25<br></td><td><a class=\"ProveItLink\" href=\"../dccbf8fb1c4d3696d8c2b5cad45bcd93d8342f470/expr.ipynb\"><img src=\"../dccbf8fb1c4d3696d8c2b5cad45bcd93d8342f470/expr.png\" style=\"display:inline;vertical-align:middle;\" /></a></td></tr>\n",
       "<tr><td>19</td><td>Lambda</td><td>parameter:&nbsp;46<br>body:&nbsp;26<br></td><td><a class=\"ProveItLink\" href=\"../d7ec7f9e667d55483a15aa028d877ff8d0c9c4cf0/expr.ipynb\"><img src=\"../d7ec7f9e667d55483a15aa028d877ff8d0c9c4cf0/expr.png\" style=\"display:inline;vertical-align:middle;\" /></a></td></tr>\n",
       "<tr><td>20</td><td>ExprRange</td><td>lambda_map:&nbsp;27<br>start_index:&nbsp;32<br>end_index:&nbsp;28<br></td><td><a class=\"ProveItLink\" href=\"../../../../../core_expr_types/__pv_it/common/a8faf3b27fe552f144fda91135c3a6148ee990d00/expr.ipynb\"><img src=\"../../../../../core_expr_types/__pv_it/common/a8faf3b27fe552f144fda91135c3a6148ee990d00/expr.png\" style=\"display:inline;vertical-align:middle;\" /></a></td></tr>\n",
       "<tr><td>21</td><td>ExprRange</td><td>lambda_map:&nbsp;29<br>start_index:&nbsp;32<br>end_index:&nbsp;30<br></td><td><a class=\"ProveItLink\" href=\"../../../../../core_expr_types/__pv_it/common/86b1effdfa465f848286b5bdf716fa65a6384a350/expr.ipynb\"><img src=\"../../../../../core_expr_types/__pv_it/common/86b1effdfa465f848286b5bdf716fa65a6384a350/expr.png\" style=\"display:inline;vertical-align:middle;\" /></a></td></tr>\n",
       "<tr><td>22</td><td>ExprRange</td><td>lambda_map:&nbsp;31<br>start_index:&nbsp;32<br>end_index:&nbsp;33<br></td><td><a class=\"ProveItLink\" href=\"../../../../../core_expr_types/__pv_it/common/ac39dbea517adf8cb3c17de94f354fb81dad90ec0/expr.ipynb\"><img src=\"../../../../../core_expr_types/__pv_it/common/ac39dbea517adf8cb3c17de94f354fb81dad90ec0/expr.png\" style=\"display:inline;vertical-align:middle;\" /></a></td></tr>\n",
       "<tr><td>23</td><td>Operation</td><td>operator:&nbsp;36<br>operands:&nbsp;34<br></td><td><a class=\"ProveItLink\" href=\"../2130076bc63d68a0309fd8e0d550825477dbd8360/expr.ipynb\"><img src=\"../2130076bc63d68a0309fd8e0d550825477dbd8360/expr.png\" style=\"display:inline;vertical-align:middle;\" /></a></td></tr>\n",
       "<tr><td>24</td><td>Variable</td><td></td><td><a class=\"ProveItLink\" href=\"../../../../../__pv_it/common/4a5db8cc5c67969ec864bd3ea598be37cb6f5e550/expr.ipynb\"><img src=\"../../../../../__pv_it/common/4a5db8cc5c67969ec864bd3ea598be37cb6f5e550/expr.png\" style=\"display:inline;vertical-align:middle;\" /></a></td></tr>\n",
       "<tr><td>25</td><td>Operation</td><td>operator:&nbsp;36<br>operands:&nbsp;35<br></td><td><a class=\"ProveItLink\" href=\"../5e2a3ad43971a41b22f353159a8148d75e44ddd80/expr.ipynb\"><img src=\"../5e2a3ad43971a41b22f353159a8148d75e44ddd80/expr.png\" style=\"display:inline;vertical-align:middle;\" /></a></td></tr>\n",
       "<tr><td>26</td><td>Operation</td><td>operator:&nbsp;36<br>operands:&nbsp;37<br></td><td><a class=\"ProveItLink\" href=\"../d00990960c11862d8c25089887562073862a59d60/expr.ipynb\"><img src=\"../d00990960c11862d8c25089887562073862a59d60/expr.png\" style=\"display:inline;vertical-align:middle;\" /></a></td></tr>\n",
       "<tr><td>27</td><td>Lambda</td><td>parameter:&nbsp;46<br>body:&nbsp;38<br></td><td><a class=\"ProveItLink\" href=\"../../../../../core_expr_types/__pv_it/common/99ea59f1b92e70eddeee736182b1abeb9f49c91b0/expr.ipynb\"><img src=\"../../../../../core_expr_types/__pv_it/common/99ea59f1b92e70eddeee736182b1abeb9f49c91b0/expr.png\" style=\"display:inline;vertical-align:middle;\" /></a></td></tr>\n",
       "<tr><td>28</td><td>Variable</td><td></td><td><a class=\"ProveItLink\" href=\"../../../../../__pv_it/common/575a6156bb1c87c5beeaf38c302b5905ad57f5780/expr.ipynb\"><img src=\"../../../../../__pv_it/common/575a6156bb1c87c5beeaf38c302b5905ad57f5780/expr.png\" style=\"display:inline;vertical-align:middle;\" /></a></td></tr>\n",
       "<tr><td>29</td><td>Lambda</td><td>parameter:&nbsp;46<br>body:&nbsp;39<br></td><td><a class=\"ProveItLink\" href=\"../../../../../core_expr_types/__pv_it/common/a194210cc943a5475599de362bce34740df0415a0/expr.ipynb\"><img src=\"../../../../../core_expr_types/__pv_it/common/a194210cc943a5475599de362bce34740df0415a0/expr.png\" style=\"display:inline;vertical-align:middle;\" /></a></td></tr>\n",
       "<tr><td>30</td><td>Variable</td><td></td><td><a class=\"ProveItLink\" href=\"../../../../../__pv_it/common/5514cc9a63b9c2ed9b63934dd5e088ab0d4f10080/expr.ipynb\"><img src=\"../../../../../__pv_it/common/5514cc9a63b9c2ed9b63934dd5e088ab0d4f10080/expr.png\" style=\"display:inline;vertical-align:middle;\" /></a></td></tr>\n",
       "<tr><td>31</td><td>Lambda</td><td>parameter:&nbsp;46<br>body:&nbsp;40<br></td><td><a class=\"ProveItLink\" href=\"../../../../../core_expr_types/__pv_it/common/1b116cdfe7d6c9bb57ed1783b00ba6a6e1a477fe0/expr.ipynb\"><img src=\"../../../../../core_expr_types/__pv_it/common/1b116cdfe7d6c9bb57ed1783b00ba6a6e1a477fe0/expr.png\" style=\"display:inline;vertical-align:middle;\" /></a></td></tr>\n",
       "<tr><td>32</td><td>Literal</td><td></td><td><a class=\"ProveItLink\" href=\"../../../../numerals/__pv_it/common/d278e359da0695d9652dd541d45264f93703e2e40/expr.ipynb\"><img src=\"../../../../numerals/__pv_it/common/d278e359da0695d9652dd541d45264f93703e2e40/expr.png\" style=\"display:inline;vertical-align:middle;\" /></a></td></tr>\n",
       "<tr><td>33</td><td>Variable</td><td></td><td><a class=\"ProveItLink\" href=\"../../../../../__pv_it/common/b9fd37fc619babc74a6203459f110251586df6970/expr.ipynb\"><img src=\"../../../../../__pv_it/common/b9fd37fc619babc74a6203459f110251586df6970/expr.png\" style=\"display:inline;vertical-align:middle;\" /></a></td></tr>\n",
       "<tr><td>34</td><td>ExprTuple</td><td>38, 41</td><td><a class=\"ProveItLink\" href=\"../359244aab050266f05050a39f3eed21eef6a34090/expr.ipynb\"><img src=\"../359244aab050266f05050a39f3eed21eef6a34090/expr.png\" style=\"display:inline;vertical-align:middle;\" /></a></td></tr>\n",
       "<tr><td>35</td><td>ExprTuple</td><td>39, 41</td><td><a class=\"ProveItLink\" href=\"../e5d7dc29875efbd9052ac1bd60ef2bd34ffa248e0/expr.ipynb\"><img src=\"../e5d7dc29875efbd9052ac1bd60ef2bd34ffa248e0/expr.png\" style=\"display:inline;vertical-align:middle;\" /></a></td></tr>\n",
       "<tr><td>36</td><td>Literal</td><td></td><td><a class=\"ProveItLink\" href=\"../../../../../logic/sets/membership/__pv_it/common/7171deca84f71f47a6ec7696972d1632274a12880/expr.ipynb\"><img src=\"../../../../../logic/sets/membership/__pv_it/common/7171deca84f71f47a6ec7696972d1632274a12880/expr.png\" style=\"display:inline;vertical-align:middle;\" /></a></td></tr>\n",
       "<tr><td>37</td><td>ExprTuple</td><td>40, 41</td><td><a class=\"ProveItLink\" href=\"../13e15a8c2fab941bc65a08c0d9e07260349c26170/expr.ipynb\"><img src=\"../13e15a8c2fab941bc65a08c0d9e07260349c26170/expr.png\" style=\"display:inline;vertical-align:middle;\" /></a></td></tr>\n",
       "<tr><td>38</td><td>IndexedVar</td><td>variable:&nbsp;42<br>index:&nbsp;46<br></td><td><a class=\"ProveItLink\" href=\"../../../../../core_expr_types/__pv_it/common/d8d3053e77ba1db68c0cd106952422881db586670/expr.ipynb\"><img src=\"../../../../../core_expr_types/__pv_it/common/d8d3053e77ba1db68c0cd106952422881db586670/expr.png\" style=\"display:inline;vertical-align:middle;\" /></a></td></tr>\n",
       "<tr><td>39</td><td>IndexedVar</td><td>variable:&nbsp;43<br>index:&nbsp;46<br></td><td><a class=\"ProveItLink\" href=\"../../../../../core_expr_types/__pv_it/common/9bc0e9f465041db0a300264677d344fd5e47b7ea0/expr.ipynb\"><img src=\"../../../../../core_expr_types/__pv_it/common/9bc0e9f465041db0a300264677d344fd5e47b7ea0/expr.png\" style=\"display:inline;vertical-align:middle;\" /></a></td></tr>\n",
       "<tr><td>40</td><td>IndexedVar</td><td>variable:&nbsp;44<br>index:&nbsp;46<br></td><td><a class=\"ProveItLink\" href=\"../../../../../core_expr_types/__pv_it/common/7e5df147b5f3430f45c37cab3644cfbeb1f043c70/expr.ipynb\"><img src=\"../../../../../core_expr_types/__pv_it/common/7e5df147b5f3430f45c37cab3644cfbeb1f043c70/expr.png\" style=\"display:inline;vertical-align:middle;\" /></a></td></tr>\n",
       "<tr><td>41</td><td>Literal</td><td></td><td><a class=\"ProveItLink\" href=\"../../../../number_sets/complex_numbers/__pv_it/common/fbfabc61f6f66350b130e5a55a72b80825c065f90/expr.ipynb\"><img src=\"../../../../number_sets/complex_numbers/__pv_it/common/fbfabc61f6f66350b130e5a55a72b80825c065f90/expr.png\" style=\"display:inline;vertical-align:middle;\" /></a></td></tr>\n",
       "<tr><td>42</td><td>Variable</td><td></td><td><a class=\"ProveItLink\" href=\"../../../../../__pv_it/common/66c90e66682f107a881f2d666959f64e2e72ad750/expr.ipynb\"><img src=\"../../../../../__pv_it/common/66c90e66682f107a881f2d666959f64e2e72ad750/expr.png\" style=\"display:inline;vertical-align:middle;\" /></a></td></tr>\n",
       "<tr><td>43</td><td>Variable</td><td></td><td><a class=\"ProveItLink\" href=\"../../../../../__pv_it/common/9a9d28748f90dec84e90f2ace4610208194e524e0/expr.ipynb\"><img src=\"../../../../../__pv_it/common/9a9d28748f90dec84e90f2ace4610208194e524e0/expr.png\" style=\"display:inline;vertical-align:middle;\" /></a></td></tr>\n",
       "<tr><td>44</td><td>Variable</td><td></td><td><a class=\"ProveItLink\" href=\"../../../../../__pv_it/common/ba27da3f6d5512be14b05498f34744a70c9279220/expr.ipynb\"><img src=\"../../../../../__pv_it/common/ba27da3f6d5512be14b05498f34744a70c9279220/expr.png\" style=\"display:inline;vertical-align:middle;\" /></a></td></tr>\n",
       "<tr><td>45</td><td>ExprTuple</td><td>46</td><td><a class=\"ProveItLink\" href=\"../../../../../core_expr_types/__pv_it/common/ecf50ade416ab41c42c9f4e777b4c862cd9469670/expr.ipynb\"><img src=\"../../../../../core_expr_types/__pv_it/common/ecf50ade416ab41c42c9f4e777b4c862cd9469670/expr.png\" style=\"display:inline;vertical-align:middle;\" /></a></td></tr>\n",
       "<tr><td>46</td><td>Variable</td><td></td><td><a class=\"ProveItLink\" href=\"../../../../../core_expr_types/__pv_it/common/9e6d9d5d7eeb0342cf5bca68def0eb165a1a9bb10/expr.ipynb\"><img src=\"../../../../../core_expr_types/__pv_it/common/9e6d9d5d7eeb0342cf5bca68def0eb165a1a9bb10/expr.png\" style=\"display:inline;vertical-align:middle;\" /></a></td></tr>\n",
       "</table>\n"
      ],
      "text/plain": [
       "0. {(a_{1} * ..a_{_a}.. * a_{i} * b * c_{1} * ..c_{_a}.. * c_{j} * d_{1} * ..d_{_a}.. * d_{k}) =  \\\\ (a_{1} * ..a_{_a}.. * a_{i} * c_{1} * ..c_{_a}.. * c_{j} * b * d_{1} * ..d_{_a}.. * d_{k}) if a_{1} in Complex ,  ..a_{_a} in Complex.. ,  a_{i} in Complex ,  b in Complex ,  c_{1} in Complex ,  ..c_{_a} in Complex.. ,  c_{j} in Complex ,  d_{1} in Complex ,  ..d_{_a} in Complex.. ,  d_{k} in Complex.\n",
       "   core type: Conditional\n",
       "   value: 1\n",
       "   condition: 2\n",
       "1. (a_{1} * ..a_{_a}.. * a_{i} * b * c_{1} * ..c_{_a}.. * c_{j} * d_{1} * ..d_{_a}.. * d_{k}) =  \\\\ (a_{1} * ..a_{_a}.. * a_{i} * c_{1} * ..c_{_a}.. * c_{j} * b * d_{1} * ..d_{_a}.. * d_{k})\n",
       "   core type: Operation\n",
       "   operator: 3\n",
       "   operands: 4\n",
       "2. (a_{1} in Complex) and ..(a_{_a} in Complex).. and (a_{i} in Complex) and (b in Complex) and (c_{1} in Complex) and ..(c_{_a} in Complex).. and (c_{j} in Complex) and (d_{1} in Complex) and ..(d_{_a} in Complex).. and (d_{k} in Complex)\n",
       "   core type: Operation\n",
       "   operator: 5\n",
       "   operands: 6\n",
       "3. =\n",
       "   core type: Literal\n",
       "   sub-expressions: \n",
       "4. (a_{1} * ..a_{_a}.. * a_{i} * b * c_{1} * ..c_{_a}.. * c_{j} * d_{1} * ..d_{_a}.. * d_{k}, a_{1} * ..a_{_a}.. * a_{i} * c_{1} * ..c_{_a}.. * c_{j} * b * d_{1} * ..d_{_a}.. * d_{k})\n",
       "   core type: ExprTuple\n",
       "   sub-expressions: 7, 8\n",
       "5. and\n",
       "   core type: Literal\n",
       "   sub-expressions: \n",
       "6. (a_{1} in Complex, ..a_{_a} in Complex.., a_{i} in Complex, b in Complex, c_{1} in Complex, ..c_{_a} in Complex.., c_{j} in Complex, d_{1} in Complex, ..d_{_a} in Complex.., d_{k} in Complex)\n",
       "   core type: ExprTuple\n",
       "   sub-expressions: 9, 10, 11, 12\n",
       "7. a_{1} * ..a_{_a}.. * a_{i} * b * c_{1} * ..c_{_a}.. * c_{j} * d_{1} * ..d_{_a}.. * d_{k}\n",
       "   core type: Operation\n",
       "   operator: 14\n",
       "   operands: 13\n",
       "8. a_{1} * ..a_{_a}.. * a_{i} * c_{1} * ..c_{_a}.. * c_{j} * b * d_{1} * ..d_{_a}.. * d_{k}\n",
       "   core type: Operation\n",
       "   operator: 14\n",
       "   operands: 15\n",
       "9. (a_{1} in Complex), ..(a_{_a} in Complex).., (a_{i} in Complex)\n",
       "   core type: ExprRange\n",
       "   lambda_map: 16\n",
       "   start_index: 32\n",
       "   end_index: 28\n",
       "10. b in Complex\n",
       "    core type: Operation\n",
       "    operator: 36\n",
       "    operands: 17\n",
       "11. (c_{1} in Complex), ..(c_{_a} in Complex).., (c_{j} in Complex)\n",
       "    core type: ExprRange\n",
       "    lambda_map: 18\n",
       "    start_index: 32\n",
       "    end_index: 30\n",
       "12. (d_{1} in Complex), ..(d_{_a} in Complex).., (d_{k} in Complex)\n",
       "    core type: ExprRange\n",
       "    lambda_map: 19\n",
       "    start_index: 32\n",
       "    end_index: 33\n",
       "13. (a_{1}, ..a_{_a}.., a_{i}, b, c_{1}, ..c_{_a}.., c_{j}, d_{1}, ..d_{_a}.., d_{k})\n",
       "    core type: ExprTuple\n",
       "    sub-expressions: 20, 24, 21, 22\n",
       "14. *\n",
       "    core type: Literal\n",
       "    sub-expressions: \n",
       "15. (a_{1}, ..a_{_a}.., a_{i}, c_{1}, ..c_{_a}.., c_{j}, b, d_{1}, ..d_{_a}.., d_{k})\n",
       "    core type: ExprTuple\n",
       "    sub-expressions: 20, 21, 24, 22\n",
       "16. _a -> (a_{_a} in Complex)\n",
       "    core type: Lambda\n",
       "    parameter: 46\n",
       "    body: 23\n",
       "17. (b, Complex)\n",
       "    core type: ExprTuple\n",
       "    sub-expressions: 24, 41\n",
       "18. _a -> (c_{_a} in Complex)\n",
       "    core type: Lambda\n",
       "    parameter: 46\n",
       "    body: 25\n",
       "19. _a -> (d_{_a} in Complex)\n",
       "    core type: Lambda\n",
       "    parameter: 46\n",
       "    body: 26\n",
       "20. a_{1}, ..a_{_a}.., a_{i}\n",
       "    core type: ExprRange\n",
       "    lambda_map: 27\n",
       "    start_index: 32\n",
       "    end_index: 28\n",
       "21. c_{1}, ..c_{_a}.., c_{j}\n",
       "    core type: ExprRange\n",
       "    lambda_map: 29\n",
       "    start_index: 32\n",
       "    end_index: 30\n",
       "22. d_{1}, ..d_{_a}.., d_{k}\n",
       "    core type: ExprRange\n",
       "    lambda_map: 31\n",
       "    start_index: 32\n",
       "    end_index: 33\n",
       "23. a_{_a} in Complex\n",
       "    core type: Operation\n",
       "    operator: 36\n",
       "    operands: 34\n",
       "24. b\n",
       "    core type: Variable\n",
       "    sub-expressions: \n",
       "25. c_{_a} in Complex\n",
       "    core type: Operation\n",
       "    operator: 36\n",
       "    operands: 35\n",
       "26. d_{_a} in Complex\n",
       "    core type: Operation\n",
       "    operator: 36\n",
       "    operands: 37\n",
       "27. _a -> a_{_a}\n",
       "    core type: Lambda\n",
       "    parameter: 46\n",
       "    body: 38\n",
       "28. i\n",
       "    core type: Variable\n",
       "    sub-expressions: \n",
       "29. _a -> c_{_a}\n",
       "    core type: Lambda\n",
       "    parameter: 46\n",
       "    body: 39\n",
       "30. j\n",
       "    core type: Variable\n",
       "    sub-expressions: \n",
       "31. _a -> d_{_a}\n",
       "    core type: Lambda\n",
       "    parameter: 46\n",
       "    body: 40\n",
       "32. 1\n",
       "    core type: Literal\n",
       "    sub-expressions: \n",
       "33. k\n",
       "    core type: Variable\n",
       "    sub-expressions: \n",
       "34. (a_{_a}, Complex)\n",
       "    core type: ExprTuple\n",
       "    sub-expressions: 38, 41\n",
       "35. (c_{_a}, Complex)\n",
       "    core type: ExprTuple\n",
       "    sub-expressions: 39, 41\n",
       "36. in\n",
       "    core type: Literal\n",
       "    sub-expressions: \n",
       "37. (d_{_a}, Complex)\n",
       "    core type: ExprTuple\n",
       "    sub-expressions: 40, 41\n",
       "38. a_{_a}\n",
       "    core type: IndexedVar\n",
       "variable: 42\n",
       "index: 46\n",
       "39. c_{_a}\n",
       "    core type: IndexedVar\n",
       "variable: 43\n",
       "index: 46\n",
       "40. d_{_a}\n",
       "    core type: IndexedVar\n",
       "variable: 44\n",
       "index: 46\n",
       "41. Complex\n",
       "    core type: Literal\n",
       "    sub-expressions: \n",
       "42. a\n",
       "    core type: Variable\n",
       "    sub-expressions: \n",
       "43. c\n",
       "    core type: Variable\n",
       "    sub-expressions: \n",
       "44. d\n",
       "    core type: Variable\n",
       "    sub-expressions: \n",
       "45. (_a)\n",
       "    core type: ExprTuple\n",
       "    sub-expressions: 46\n",
       "46. _a\n",
       "    core type: Variable\n",
       "    sub-expressions: "
      ]
     },
     "execution_count": 6,
     "metadata": {},
     "output_type": "execute_result"
    }
   ],
   "source": [
    "# display the expression information\n",
    "expr.expr_info()"
   ]
  },
  {
   "cell_type": "code",
   "execution_count": null,
   "metadata": {},
   "outputs": [],
   "source": []
  }
 ],
 "metadata": {
  "kernelspec": {
   "display_name": "Python 3",
   "language": "python",
   "name": "python3"
  }
 },
 "nbformat": 4,
 "nbformat_minor": 0
}