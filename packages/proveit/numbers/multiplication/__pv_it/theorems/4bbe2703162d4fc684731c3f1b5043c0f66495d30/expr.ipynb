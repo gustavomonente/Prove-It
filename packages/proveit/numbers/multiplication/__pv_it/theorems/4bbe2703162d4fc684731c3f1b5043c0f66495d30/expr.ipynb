{
 "cells": [
  {
   "cell_type": "markdown",
   "metadata": {},
   "source": [
    "Expression of type <a class=\"ProveItLink\" href=\"../../../../../../../doc/html/api/proveit.ExprTuple.html\">ExprTuple</a>\n",
    "=======================\n",
    "# from the theory of <a class=\"ProveItLink\" href=\"../../../_theory_nbs_/theory.ipynb\">proveit.numbers.multiplication</a>"
   ]
  },
  {
   "cell_type": "code",
   "execution_count": 1,
   "metadata": {},
   "outputs": [],
   "source": [
    "import proveit\n",
    "# Automation is not needed when building an expression:\n",
    "proveit.defaults.automation = False # This will speed things up.\n",
    "proveit.defaults.inline_pngs = False # Makes files smaller.\n",
    "%load_expr # Load the stored expression as 'stored_expr'\n",
    "# import Expression classes needed to build the expression\n",
    "from proveit import Conditional, ExprRange, ExprTuple, IndexedVar, Lambda, Variable, a, b, i, j, x, y\n",
    "from proveit.core_expr_types import a_1_to_i, b_1_to_j\n",
    "from proveit.logic import And, Equals, InSet\n",
    "from proveit.numbers import Add, Complex, Mult, Neg, one"
   ]
  },
  {
   "cell_type": "code",
   "execution_count": 2,
   "metadata": {},
   "outputs": [
    {
     "data": {
      "text/html": [
       "<strong id=\"expr\">expr:</strong> <a class=\"ProveItLink\" href=\"expr.ipynb\"><img src=\"expr.png\" style=\"display:inline;vertical-align:middle;\" /></a><br>"
      ],
      "text/plain": [
       "expr: ((a_{1}, ..a_{_a}.., a_{i}, x, y, b_{1}, ..b_{_a}.., b_{j}) -> {(a_{1} * ..a_{_a}.. * a_{i} * (x - y) * b_{1} * ..b_{_a}.. * b_{j}) =  \\\\ ((a_{1} * ..a_{_a}.. * a_{i} * x * b_{1} * ..b_{_a}.. * b_{j}) - (a_{1} * ..a_{_a}.. * a_{i} * y * b_{1} * ..b_{_a}.. * b_{j})) if a_{1} in Complex ,  ..a_{_a} in Complex.. ,  a_{i} in Complex ,  x in Complex ,  y in Complex ,  b_{1} in Complex ,  ..b_{_a} in Complex.. ,  b_{j} in Complex.)"
      ]
     },
     "execution_count": 2,
     "metadata": {},
     "output_type": "execute_result"
    }
   ],
   "source": [
    "# build up the expression from sub-expressions\n",
    "sub_expr1 = Variable(\"_a\", latex_format = r\"{_{-}a}\")\n",
    "expr = ExprTuple(Lambda([a_1_to_i, x, y, b_1_to_j], Conditional(Equals(Mult(a_1_to_i, Add(x, Neg(y)), b_1_to_j), Add(Mult(a_1_to_i, x, b_1_to_j), Neg(Mult(a_1_to_i, y, b_1_to_j)))).with_wrapping_at(2), And(ExprRange(sub_expr1, InSet(IndexedVar(a, sub_expr1), Complex), one, i), InSet(x, Complex), InSet(y, Complex), ExprRange(sub_expr1, InSet(IndexedVar(b, sub_expr1), Complex), one, j)))))"
   ]
  },
  {
   "cell_type": "code",
   "execution_count": 3,
   "metadata": {},
   "outputs": [
    {
     "name": "stdout",
     "output_type": "stream",
     "text": [
      "Passed sanity check: expr matches stored_expr\n"
     ]
    }
   ],
   "source": [
    "# check that the built expression is the same as the stored expression\n",
    "assert expr == stored_expr\n",
    "assert expr._style_id == stored_expr._style_id\n",
    "print(\"Passed sanity check: expr matches stored_expr\")"
   ]
  },
  {
   "cell_type": "code",
   "execution_count": 4,
   "metadata": {},
   "outputs": [
    {
     "name": "stdout",
     "output_type": "stream",
     "text": [
      "\\left(\\left(a_{1}, \\ldots, a_{i}, x, y, b_{1}, \\ldots, b_{j}\\right) \\mapsto \\left\\{\\begin{array}{c} \\begin{array}{l} \\left(a_{1} \\cdot \\ldots \\cdot a_{i} \\cdot \\left(x - y\\right) \\cdot b_{1} \\cdot \\ldots \\cdot b_{j}\\right) =  \\\\ \\left(\\left(a_{1} \\cdot \\ldots \\cdot a_{i} \\cdot x \\cdot b_{1} \\cdot \\ldots \\cdot b_{j}\\right) - \\left(a_{1} \\cdot \\ldots \\cdot a_{i} \\cdot y \\cdot b_{1} \\cdot \\ldots \\cdot b_{j}\\right)\\right) \\end{array} \\end{array} \\textrm{ if } a_{1} \\in \\mathbb{C} ,  \\ldots ,  a_{i} \\in \\mathbb{C} ,  x \\in \\mathbb{C} ,  y \\in \\mathbb{C} ,  b_{1} \\in \\mathbb{C} ,  \\ldots ,  b_{j} \\in \\mathbb{C}\\right..\\right)\n"
     ]
    }
   ],
   "source": [
    "# Show the LaTeX representation of the expression for convenience if you need it.\n",
    "print(expr.latex())"
   ]
  },
  {
   "cell_type": "code",
   "execution_count": 5,
   "metadata": {},
   "outputs": [
    {
     "data": {
      "text/html": [
       "no style options"
      ],
      "text/plain": [
       "no style options"
      ]
     },
     "execution_count": 5,
     "metadata": {},
     "output_type": "execute_result"
    }
   ],
   "source": [
    "expr.style_options()"
   ]
  },
  {
   "cell_type": "code",
   "execution_count": 6,
   "metadata": {},
   "outputs": [
    {
     "data": {
      "text/html": [
       "<table><tr><th>&nbsp;</th><th>core type</th><th>sub-expressions</th><th>expression</th></tr>\n",
       "<tr><td>0</td><td>ExprTuple</td><td>1</td><td><a class=\"ProveItLink\" href=\"expr.ipynb\"><img src=\"expr.png\" style=\"display:inline;vertical-align:middle;\" /></a></td></tr>\n",
       "<tr><td>1</td><td>Lambda</td><td>parameters:&nbsp;2<br>body:&nbsp;3<br></td><td><a class=\"ProveItLink\" href=\"../219943aa4eb48ef9e4019c9866134b1635e935f10/expr.ipynb\"><img src=\"../219943aa4eb48ef9e4019c9866134b1635e935f10/expr.png\" style=\"display:inline;vertical-align:middle;\" /></a></td></tr>\n",
       "<tr><td>2</td><td>ExprTuple</td><td>42, 35, 43, 44</td><td><a class=\"ProveItLink\" href=\"../b140d15e668330c492296ee620ac61d27e40ac020/expr.ipynb\"><img src=\"../b140d15e668330c492296ee620ac61d27e40ac020/expr.png\" style=\"display:inline;vertical-align:middle;\" /></a></td></tr>\n",
       "<tr><td>3</td><td>Conditional</td><td>value:&nbsp;4<br>condition:&nbsp;5<br></td><td><a class=\"ProveItLink\" href=\"../22d52470624d5c071ef321ef5e94333448f274b50/expr.ipynb\"><img src=\"../22d52470624d5c071ef321ef5e94333448f274b50/expr.png\" style=\"display:inline;vertical-align:middle;\" /></a></td></tr>\n",
       "<tr><td>4</td><td>Operation</td><td>operator:&nbsp;6<br>operands:&nbsp;7<br></td><td><a class=\"ProveItLink\" href=\"../abdd66864fbac3367771ddefb97904bf6200765d0/expr.ipynb\"><img src=\"../abdd66864fbac3367771ddefb97904bf6200765d0/expr.png\" style=\"display:inline;vertical-align:middle;\" /></a></td></tr>\n",
       "<tr><td>5</td><td>Operation</td><td>operator:&nbsp;8<br>operands:&nbsp;9<br></td><td><a class=\"ProveItLink\" href=\"../31c4be3b030532393c700ab106d2b63b05c5d9470/expr.ipynb\"><img src=\"../31c4be3b030532393c700ab106d2b63b05c5d9470/expr.png\" style=\"display:inline;vertical-align:middle;\" /></a></td></tr>\n",
       "<tr><td>6</td><td>Literal</td><td></td><td><a class=\"ProveItLink\" href=\"../../../../../logic/equality/__pv_it/common/731dd3955b346c1320ed5c0ba7a618bcda61457d0/expr.ipynb\"><img src=\"../../../../../logic/equality/__pv_it/common/731dd3955b346c1320ed5c0ba7a618bcda61457d0/expr.png\" style=\"display:inline;vertical-align:middle;\" /></a></td></tr>\n",
       "<tr><td>7</td><td>ExprTuple</td><td>10, 11</td><td><a class=\"ProveItLink\" href=\"../dd4cb07dc30548ea29aa182d45c7724ba78d968b0/expr.ipynb\"><img src=\"../dd4cb07dc30548ea29aa182d45c7724ba78d968b0/expr.png\" style=\"display:inline;vertical-align:middle;\" /></a></td></tr>\n",
       "<tr><td>8</td><td>Literal</td><td></td><td><a class=\"ProveItLink\" href=\"../../../../../logic/booleans/conjunction/__pv_it/common/26b94b53e70b1d77b70f0d9d4236347db37731060/expr.ipynb\"><img src=\"../../../../../logic/booleans/conjunction/__pv_it/common/26b94b53e70b1d77b70f0d9d4236347db37731060/expr.png\" style=\"display:inline;vertical-align:middle;\" /></a></td></tr>\n",
       "<tr><td>9</td><td>ExprTuple</td><td>12, 13, 14, 15</td><td><a class=\"ProveItLink\" href=\"../3a528f90f607e6cc7f901edde35deed5e80801d50/expr.ipynb\"><img src=\"../3a528f90f607e6cc7f901edde35deed5e80801d50/expr.png\" style=\"display:inline;vertical-align:middle;\" /></a></td></tr>\n",
       "<tr><td>10</td><td>Operation</td><td>operator:&nbsp;40<br>operands:&nbsp;16<br></td><td><a class=\"ProveItLink\" href=\"../353b6b97d04103593c5ab3df62347edac2c2c9090/expr.ipynb\"><img src=\"../353b6b97d04103593c5ab3df62347edac2c2c9090/expr.png\" style=\"display:inline;vertical-align:middle;\" /></a></td></tr>\n",
       "<tr><td>11</td><td>Operation</td><td>operator:&nbsp;27<br>operands:&nbsp;17<br></td><td><a class=\"ProveItLink\" href=\"../24fc438b879e60f989af6a08bdcaafe4e8a28e6d0/expr.ipynb\"><img src=\"../24fc438b879e60f989af6a08bdcaafe4e8a28e6d0/expr.png\" style=\"display:inline;vertical-align:middle;\" /></a></td></tr>\n",
       "<tr><td>12</td><td>ExprRange</td><td>lambda_map:&nbsp;18<br>start_index:&nbsp;48<br>end_index:&nbsp;46<br></td><td><a class=\"ProveItLink\" href=\"../e9e945404e68ddf8daf3567a0aff12075464d0640/expr.ipynb\"><img src=\"../e9e945404e68ddf8daf3567a0aff12075464d0640/expr.png\" style=\"display:inline;vertical-align:middle;\" /></a></td></tr>\n",
       "<tr><td>13</td><td>Operation</td><td>operator:&nbsp;32<br>operands:&nbsp;19<br></td><td><a class=\"ProveItLink\" href=\"../e99df808d7f7f716b0c7d8c3fb6eb50e7ecca4120/expr.ipynb\"><img src=\"../e99df808d7f7f716b0c7d8c3fb6eb50e7ecca4120/expr.png\" style=\"display:inline;vertical-align:middle;\" /></a></td></tr>\n",
       "<tr><td>14</td><td>Operation</td><td>operator:&nbsp;32<br>operands:&nbsp;20<br></td><td><a class=\"ProveItLink\" href=\"../bd2d4908c3fe32576a6449f6f239a621bdce36b50/expr.ipynb\"><img src=\"../bd2d4908c3fe32576a6449f6f239a621bdce36b50/expr.png\" style=\"display:inline;vertical-align:middle;\" /></a></td></tr>\n",
       "<tr><td>15</td><td>ExprRange</td><td>lambda_map:&nbsp;21<br>start_index:&nbsp;48<br>end_index:&nbsp;49<br></td><td><a class=\"ProveItLink\" href=\"../127e71173ff3718c28b678d4672708e933e0ba980/expr.ipynb\"><img src=\"../127e71173ff3718c28b678d4672708e933e0ba980/expr.png\" style=\"display:inline;vertical-align:middle;\" /></a></td></tr>\n",
       "<tr><td>16</td><td>ExprTuple</td><td>42, 22, 44</td><td><a class=\"ProveItLink\" href=\"../fb206fc3761a3ffd0750706fd365da6e55cf2bb10/expr.ipynb\"><img src=\"../fb206fc3761a3ffd0750706fd365da6e55cf2bb10/expr.png\" style=\"display:inline;vertical-align:middle;\" /></a></td></tr>\n",
       "<tr><td>17</td><td>ExprTuple</td><td>23, 24</td><td><a class=\"ProveItLink\" href=\"../a9dc4d800a7c0090217d768dbfea58b614c7e1120/expr.ipynb\"><img src=\"../a9dc4d800a7c0090217d768dbfea58b614c7e1120/expr.png\" style=\"display:inline;vertical-align:middle;\" /></a></td></tr>\n",
       "<tr><td>18</td><td>Lambda</td><td>parameter:&nbsp;55<br>body:&nbsp;25<br></td><td><a class=\"ProveItLink\" href=\"../27e93e67a24b341093eff99ce754a280791bae3c0/expr.ipynb\"><img src=\"../27e93e67a24b341093eff99ce754a280791bae3c0/expr.png\" style=\"display:inline;vertical-align:middle;\" /></a></td></tr>\n",
       "<tr><td>19</td><td>ExprTuple</td><td>35, 37</td><td><a class=\"ProveItLink\" href=\"../03ad36b6bf36a33fba177fa19cdd688eda4273c70/expr.ipynb\"><img src=\"../03ad36b6bf36a33fba177fa19cdd688eda4273c70/expr.png\" style=\"display:inline;vertical-align:middle;\" /></a></td></tr>\n",
       "<tr><td>20</td><td>ExprTuple</td><td>43, 37</td><td><a class=\"ProveItLink\" href=\"../c87246e1c4fa268b09aff3021b282b685be742c00/expr.ipynb\"><img src=\"../c87246e1c4fa268b09aff3021b282b685be742c00/expr.png\" style=\"display:inline;vertical-align:middle;\" /></a></td></tr>\n",
       "<tr><td>21</td><td>Lambda</td><td>parameter:&nbsp;55<br>body:&nbsp;26<br></td><td><a class=\"ProveItLink\" href=\"../3c75702e5bc3a278c341235bef5140e8e1e495340/expr.ipynb\"><img src=\"../3c75702e5bc3a278c341235bef5140e8e1e495340/expr.png\" style=\"display:inline;vertical-align:middle;\" /></a></td></tr>\n",
       "<tr><td>22</td><td>Operation</td><td>operator:&nbsp;27<br>operands:&nbsp;28<br></td><td><a class=\"ProveItLink\" href=\"../a65cc6b1dd2ce4e67d922e2de56209738b56ca9e0/expr.ipynb\"><img src=\"../a65cc6b1dd2ce4e67d922e2de56209738b56ca9e0/expr.png\" style=\"display:inline;vertical-align:middle;\" /></a></td></tr>\n",
       "<tr><td>23</td><td>Operation</td><td>operator:&nbsp;40<br>operands:&nbsp;29<br></td><td><a class=\"ProveItLink\" href=\"../5d43ce0ded83387b53521ed5869779c886ece5ec0/expr.ipynb\"><img src=\"../5d43ce0ded83387b53521ed5869779c886ece5ec0/expr.png\" style=\"display:inline;vertical-align:middle;\" /></a></td></tr>\n",
       "<tr><td>24</td><td>Operation</td><td>operator:&nbsp;38<br>operand:&nbsp;36<br></td><td><a class=\"ProveItLink\" href=\"../e9fb9b6097ef5d2f5706b48f1bdef4a4b2cd27150/expr.ipynb\"><img src=\"../e9fb9b6097ef5d2f5706b48f1bdef4a4b2cd27150/expr.png\" style=\"display:inline;vertical-align:middle;\" /></a></td></tr>\n",
       "<tr><td>25</td><td>Operation</td><td>operator:&nbsp;32<br>operands:&nbsp;31<br></td><td><a class=\"ProveItLink\" href=\"../2130076bc63d68a0309fd8e0d550825477dbd8360/expr.ipynb\"><img src=\"../2130076bc63d68a0309fd8e0d550825477dbd8360/expr.png\" style=\"display:inline;vertical-align:middle;\" /></a></td></tr>\n",
       "<tr><td>26</td><td>Operation</td><td>operator:&nbsp;32<br>operands:&nbsp;33<br></td><td><a class=\"ProveItLink\" href=\"../dadcf8a6c06450247723919ea148f5c5ce9fbde90/expr.ipynb\"><img src=\"../dadcf8a6c06450247723919ea148f5c5ce9fbde90/expr.png\" style=\"display:inline;vertical-align:middle;\" /></a></td></tr>\n",
       "<tr><td>27</td><td>Literal</td><td></td><td><a class=\"ProveItLink\" href=\"../../../../addition/__pv_it/common/1f38fe5cce441387feef296e2c0a2eac260bb4f30/expr.ipynb\"><img src=\"../../../../addition/__pv_it/common/1f38fe5cce441387feef296e2c0a2eac260bb4f30/expr.png\" style=\"display:inline;vertical-align:middle;\" /></a></td></tr>\n",
       "<tr><td>28</td><td>ExprTuple</td><td>35, 34</td><td><a class=\"ProveItLink\" href=\"../43523c8748939708b317f058d57c532ac03699270/expr.ipynb\"><img src=\"../43523c8748939708b317f058d57c532ac03699270/expr.png\" style=\"display:inline;vertical-align:middle;\" /></a></td></tr>\n",
       "<tr><td>29</td><td>ExprTuple</td><td>42, 35, 44</td><td><a class=\"ProveItLink\" href=\"../f14236874703c2bf0d24b24a47007ad7cd280e640/expr.ipynb\"><img src=\"../f14236874703c2bf0d24b24a47007ad7cd280e640/expr.png\" style=\"display:inline;vertical-align:middle;\" /></a></td></tr>\n",
       "<tr><td>30</td><td>ExprTuple</td><td>36</td><td><a class=\"ProveItLink\" href=\"../6119f456cd903fed03dd727424fef95365d7ed6d0/expr.ipynb\"><img src=\"../6119f456cd903fed03dd727424fef95365d7ed6d0/expr.png\" style=\"display:inline;vertical-align:middle;\" /></a></td></tr>\n",
       "<tr><td>31</td><td>ExprTuple</td><td>50, 37</td><td><a class=\"ProveItLink\" href=\"../359244aab050266f05050a39f3eed21eef6a34090/expr.ipynb\"><img src=\"../359244aab050266f05050a39f3eed21eef6a34090/expr.png\" style=\"display:inline;vertical-align:middle;\" /></a></td></tr>\n",
       "<tr><td>32</td><td>Literal</td><td></td><td><a class=\"ProveItLink\" href=\"../../../../../logic/sets/membership/__pv_it/common/7171deca84f71f47a6ec7696972d1632274a12880/expr.ipynb\"><img src=\"../../../../../logic/sets/membership/__pv_it/common/7171deca84f71f47a6ec7696972d1632274a12880/expr.png\" style=\"display:inline;vertical-align:middle;\" /></a></td></tr>\n",
       "<tr><td>33</td><td>ExprTuple</td><td>51, 37</td><td><a class=\"ProveItLink\" href=\"../c74b582b59a17295af3fd973d45b1ad847d092dc0/expr.ipynb\"><img src=\"../c74b582b59a17295af3fd973d45b1ad847d092dc0/expr.png\" style=\"display:inline;vertical-align:middle;\" /></a></td></tr>\n",
       "<tr><td>34</td><td>Operation</td><td>operator:&nbsp;38<br>operand:&nbsp;43<br></td><td><a class=\"ProveItLink\" href=\"../10d0c7f6b141ca66da6a9934b96827cd1cdf29b40/expr.ipynb\"><img src=\"../10d0c7f6b141ca66da6a9934b96827cd1cdf29b40/expr.png\" style=\"display:inline;vertical-align:middle;\" /></a></td></tr>\n",
       "<tr><td>35</td><td>Variable</td><td></td><td><a class=\"ProveItLink\" href=\"../../../../../__pv_it/common/a2581dc5df71d9a30bad37de14965fa5fec97a240/expr.ipynb\"><img src=\"../../../../../__pv_it/common/a2581dc5df71d9a30bad37de14965fa5fec97a240/expr.png\" style=\"display:inline;vertical-align:middle;\" /></a></td></tr>\n",
       "<tr><td>36</td><td>Operation</td><td>operator:&nbsp;40<br>operands:&nbsp;41<br></td><td><a class=\"ProveItLink\" href=\"../0a8fac5ea0550dee743ccf5ebcee1be07b1ab8540/expr.ipynb\"><img src=\"../0a8fac5ea0550dee743ccf5ebcee1be07b1ab8540/expr.png\" style=\"display:inline;vertical-align:middle;\" /></a></td></tr>\n",
       "<tr><td>37</td><td>Literal</td><td></td><td><a class=\"ProveItLink\" href=\"../../../../number_sets/complex_numbers/__pv_it/common/fbfabc61f6f66350b130e5a55a72b80825c065f90/expr.ipynb\"><img src=\"../../../../number_sets/complex_numbers/__pv_it/common/fbfabc61f6f66350b130e5a55a72b80825c065f90/expr.png\" style=\"display:inline;vertical-align:middle;\" /></a></td></tr>\n",
       "<tr><td>38</td><td>Literal</td><td></td><td><a class=\"ProveItLink\" href=\"../../../../negation/__pv_it/common/31a69a5c76809537045e3884859f178d8d9c845c0/expr.ipynb\"><img src=\"../../../../negation/__pv_it/common/31a69a5c76809537045e3884859f178d8d9c845c0/expr.png\" style=\"display:inline;vertical-align:middle;\" /></a></td></tr>\n",
       "<tr><td>39</td><td>ExprTuple</td><td>43</td><td><a class=\"ProveItLink\" href=\"../c1ce6adcc1476a151f43f5b1e691eceeed8d79ab0/expr.ipynb\"><img src=\"../c1ce6adcc1476a151f43f5b1e691eceeed8d79ab0/expr.png\" style=\"display:inline;vertical-align:middle;\" /></a></td></tr>\n",
       "<tr><td>40</td><td>Literal</td><td></td><td><a class=\"ProveItLink\" href=\"../../common/c57d60974865e78d434abd3ff22c405685c80ade0/expr.ipynb\"><img src=\"../../common/c57d60974865e78d434abd3ff22c405685c80ade0/expr.png\" style=\"display:inline;vertical-align:middle;\" /></a></td></tr>\n",
       "<tr><td>41</td><td>ExprTuple</td><td>42, 43, 44</td><td><a class=\"ProveItLink\" href=\"../fdf1a7e85d113d6696c88bab5b60943594272e1e0/expr.ipynb\"><img src=\"../fdf1a7e85d113d6696c88bab5b60943594272e1e0/expr.png\" style=\"display:inline;vertical-align:middle;\" /></a></td></tr>\n",
       "<tr><td>42</td><td>ExprRange</td><td>lambda_map:&nbsp;45<br>start_index:&nbsp;48<br>end_index:&nbsp;46<br></td><td><a class=\"ProveItLink\" href=\"../../../../../core_expr_types/__pv_it/common/a8faf3b27fe552f144fda91135c3a6148ee990d00/expr.ipynb\"><img src=\"../../../../../core_expr_types/__pv_it/common/a8faf3b27fe552f144fda91135c3a6148ee990d00/expr.png\" style=\"display:inline;vertical-align:middle;\" /></a></td></tr>\n",
       "<tr><td>43</td><td>Variable</td><td></td><td><a class=\"ProveItLink\" href=\"../../../../../__pv_it/common/0f21cbfd5644a1cae6781c1d58354abc2ffbc9000/expr.ipynb\"><img src=\"../../../../../__pv_it/common/0f21cbfd5644a1cae6781c1d58354abc2ffbc9000/expr.png\" style=\"display:inline;vertical-align:middle;\" /></a></td></tr>\n",
       "<tr><td>44</td><td>ExprRange</td><td>lambda_map:&nbsp;47<br>start_index:&nbsp;48<br>end_index:&nbsp;49<br></td><td><a class=\"ProveItLink\" href=\"../../../../../core_expr_types/__pv_it/common/843f06cfd46cad7e330a92113934c3e3eb2d9cf50/expr.ipynb\"><img src=\"../../../../../core_expr_types/__pv_it/common/843f06cfd46cad7e330a92113934c3e3eb2d9cf50/expr.png\" style=\"display:inline;vertical-align:middle;\" /></a></td></tr>\n",
       "<tr><td>45</td><td>Lambda</td><td>parameter:&nbsp;55<br>body:&nbsp;50<br></td><td><a class=\"ProveItLink\" href=\"../../../../../core_expr_types/__pv_it/common/99ea59f1b92e70eddeee736182b1abeb9f49c91b0/expr.ipynb\"><img src=\"../../../../../core_expr_types/__pv_it/common/99ea59f1b92e70eddeee736182b1abeb9f49c91b0/expr.png\" style=\"display:inline;vertical-align:middle;\" /></a></td></tr>\n",
       "<tr><td>46</td><td>Variable</td><td></td><td><a class=\"ProveItLink\" href=\"../../../../../__pv_it/common/575a6156bb1c87c5beeaf38c302b5905ad57f5780/expr.ipynb\"><img src=\"../../../../../__pv_it/common/575a6156bb1c87c5beeaf38c302b5905ad57f5780/expr.png\" style=\"display:inline;vertical-align:middle;\" /></a></td></tr>\n",
       "<tr><td>47</td><td>Lambda</td><td>parameter:&nbsp;55<br>body:&nbsp;51<br></td><td><a class=\"ProveItLink\" href=\"../../../../../core_expr_types/__pv_it/common/ba19487284205e8bd037599d68730451639874da0/expr.ipynb\"><img src=\"../../../../../core_expr_types/__pv_it/common/ba19487284205e8bd037599d68730451639874da0/expr.png\" style=\"display:inline;vertical-align:middle;\" /></a></td></tr>\n",
       "<tr><td>48</td><td>Literal</td><td></td><td><a class=\"ProveItLink\" href=\"../../../../numerals/__pv_it/common/d278e359da0695d9652dd541d45264f93703e2e40/expr.ipynb\"><img src=\"../../../../numerals/__pv_it/common/d278e359da0695d9652dd541d45264f93703e2e40/expr.png\" style=\"display:inline;vertical-align:middle;\" /></a></td></tr>\n",
       "<tr><td>49</td><td>Variable</td><td></td><td><a class=\"ProveItLink\" href=\"../../../../../__pv_it/common/5514cc9a63b9c2ed9b63934dd5e088ab0d4f10080/expr.ipynb\"><img src=\"../../../../../__pv_it/common/5514cc9a63b9c2ed9b63934dd5e088ab0d4f10080/expr.png\" style=\"display:inline;vertical-align:middle;\" /></a></td></tr>\n",
       "<tr><td>50</td><td>IndexedVar</td><td>variable:&nbsp;52<br>index:&nbsp;55<br></td><td><a class=\"ProveItLink\" href=\"../../../../../core_expr_types/__pv_it/common/d8d3053e77ba1db68c0cd106952422881db586670/expr.ipynb\"><img src=\"../../../../../core_expr_types/__pv_it/common/d8d3053e77ba1db68c0cd106952422881db586670/expr.png\" style=\"display:inline;vertical-align:middle;\" /></a></td></tr>\n",
       "<tr><td>51</td><td>IndexedVar</td><td>variable:&nbsp;53<br>index:&nbsp;55<br></td><td><a class=\"ProveItLink\" href=\"../../../../../core_expr_types/__pv_it/common/d970eb18e3a42edf466b1db01e5cbdd3ba6971b60/expr.ipynb\"><img src=\"../../../../../core_expr_types/__pv_it/common/d970eb18e3a42edf466b1db01e5cbdd3ba6971b60/expr.png\" style=\"display:inline;vertical-align:middle;\" /></a></td></tr>\n",
       "<tr><td>52</td><td>Variable</td><td></td><td><a class=\"ProveItLink\" href=\"../../../../../__pv_it/common/66c90e66682f107a881f2d666959f64e2e72ad750/expr.ipynb\"><img src=\"../../../../../__pv_it/common/66c90e66682f107a881f2d666959f64e2e72ad750/expr.png\" style=\"display:inline;vertical-align:middle;\" /></a></td></tr>\n",
       "<tr><td>53</td><td>Variable</td><td></td><td><a class=\"ProveItLink\" href=\"../../../../../__pv_it/common/4a5db8cc5c67969ec864bd3ea598be37cb6f5e550/expr.ipynb\"><img src=\"../../../../../__pv_it/common/4a5db8cc5c67969ec864bd3ea598be37cb6f5e550/expr.png\" style=\"display:inline;vertical-align:middle;\" /></a></td></tr>\n",
       "<tr><td>54</td><td>ExprTuple</td><td>55</td><td><a class=\"ProveItLink\" href=\"../../../../../core_expr_types/__pv_it/common/ecf50ade416ab41c42c9f4e777b4c862cd9469670/expr.ipynb\"><img src=\"../../../../../core_expr_types/__pv_it/common/ecf50ade416ab41c42c9f4e777b4c862cd9469670/expr.png\" style=\"display:inline;vertical-align:middle;\" /></a></td></tr>\n",
       "<tr><td>55</td><td>Variable</td><td></td><td><a class=\"ProveItLink\" href=\"../../../../../core_expr_types/__pv_it/common/9e6d9d5d7eeb0342cf5bca68def0eb165a1a9bb10/expr.ipynb\"><img src=\"../../../../../core_expr_types/__pv_it/common/9e6d9d5d7eeb0342cf5bca68def0eb165a1a9bb10/expr.png\" style=\"display:inline;vertical-align:middle;\" /></a></td></tr>\n",
       "</table>\n"
      ],
      "text/plain": [
       "0. ((a_{1}, ..a_{_a}.., a_{i}, x, y, b_{1}, ..b_{_a}.., b_{j}) -> {(a_{1} * ..a_{_a}.. * a_{i} * (x - y) * b_{1} * ..b_{_a}.. * b_{j}) =  \\\\ ((a_{1} * ..a_{_a}.. * a_{i} * x * b_{1} * ..b_{_a}.. * b_{j}) - (a_{1} * ..a_{_a}.. * a_{i} * y * b_{1} * ..b_{_a}.. * b_{j})) if a_{1} in Complex ,  ..a_{_a} in Complex.. ,  a_{i} in Complex ,  x in Complex ,  y in Complex ,  b_{1} in Complex ,  ..b_{_a} in Complex.. ,  b_{j} in Complex.)\n",
       "   core type: ExprTuple\n",
       "   sub-expressions: 1\n",
       "1. (a_{1}, ..a_{_a}.., a_{i}, x, y, b_{1}, ..b_{_a}.., b_{j}) -> {(a_{1} * ..a_{_a}.. * a_{i} * (x - y) * b_{1} * ..b_{_a}.. * b_{j}) =  \\\\ ((a_{1} * ..a_{_a}.. * a_{i} * x * b_{1} * ..b_{_a}.. * b_{j}) - (a_{1} * ..a_{_a}.. * a_{i} * y * b_{1} * ..b_{_a}.. * b_{j})) if a_{1} in Complex ,  ..a_{_a} in Complex.. ,  a_{i} in Complex ,  x in Complex ,  y in Complex ,  b_{1} in Complex ,  ..b_{_a} in Complex.. ,  b_{j} in Complex.\n",
       "   core type: Lambda\n",
       "   parameters: 2\\n   body: 3\n",
       "2. (a_{1}, ..a_{_a}.., a_{i}, x, y, b_{1}, ..b_{_a}.., b_{j})\n",
       "   core type: ExprTuple\n",
       "   sub-expressions: 42, 35, 43, 44\n",
       "3. {(a_{1} * ..a_{_a}.. * a_{i} * (x - y) * b_{1} * ..b_{_a}.. * b_{j}) =  \\\\ ((a_{1} * ..a_{_a}.. * a_{i} * x * b_{1} * ..b_{_a}.. * b_{j}) - (a_{1} * ..a_{_a}.. * a_{i} * y * b_{1} * ..b_{_a}.. * b_{j})) if a_{1} in Complex ,  ..a_{_a} in Complex.. ,  a_{i} in Complex ,  x in Complex ,  y in Complex ,  b_{1} in Complex ,  ..b_{_a} in Complex.. ,  b_{j} in Complex.\n",
       "   core type: Conditional\n",
       "   value: 4\n",
       "   condition: 5\n",
       "4. (a_{1} * ..a_{_a}.. * a_{i} * (x - y) * b_{1} * ..b_{_a}.. * b_{j}) =  \\\\ ((a_{1} * ..a_{_a}.. * a_{i} * x * b_{1} * ..b_{_a}.. * b_{j}) - (a_{1} * ..a_{_a}.. * a_{i} * y * b_{1} * ..b_{_a}.. * b_{j}))\n",
       "   core type: Operation\n",
       "   operator: 6\n",
       "   operands: 7\n",
       "5. (a_{1} in Complex) and ..(a_{_a} in Complex).. and (a_{i} in Complex) and (x in Complex) and (y in Complex) and (b_{1} in Complex) and ..(b_{_a} in Complex).. and (b_{j} in Complex)\n",
       "   core type: Operation\n",
       "   operator: 8\n",
       "   operands: 9\n",
       "6. =\n",
       "   core type: Literal\n",
       "   sub-expressions: \n",
       "7. (a_{1} * ..a_{_a}.. * a_{i} * (x - y) * b_{1} * ..b_{_a}.. * b_{j}, (a_{1} * ..a_{_a}.. * a_{i} * x * b_{1} * ..b_{_a}.. * b_{j}) - (a_{1} * ..a_{_a}.. * a_{i} * y * b_{1} * ..b_{_a}.. * b_{j}))\n",
       "   core type: ExprTuple\n",
       "   sub-expressions: 10, 11\n",
       "8. and\n",
       "   core type: Literal\n",
       "   sub-expressions: \n",
       "9. (a_{1} in Complex, ..a_{_a} in Complex.., a_{i} in Complex, x in Complex, y in Complex, b_{1} in Complex, ..b_{_a} in Complex.., b_{j} in Complex)\n",
       "   core type: ExprTuple\n",
       "   sub-expressions: 12, 13, 14, 15\n",
       "10. a_{1} * ..a_{_a}.. * a_{i} * (x - y) * b_{1} * ..b_{_a}.. * b_{j}\n",
       "    core type: Operation\n",
       "    operator: 40\n",
       "    operands: 16\n",
       "11. (a_{1} * ..a_{_a}.. * a_{i} * x * b_{1} * ..b_{_a}.. * b_{j}) - (a_{1} * ..a_{_a}.. * a_{i} * y * b_{1} * ..b_{_a}.. * b_{j})\n",
       "    core type: Operation\n",
       "    operator: 27\n",
       "    operands: 17\n",
       "12. (a_{1} in Complex), ..(a_{_a} in Complex).., (a_{i} in Complex)\n",
       "    core type: ExprRange\n",
       "    lambda_map: 18\n",
       "    start_index: 48\n",
       "    end_index: 46\n",
       "13. x in Complex\n",
       "    core type: Operation\n",
       "    operator: 32\n",
       "    operands: 19\n",
       "14. y in Complex\n",
       "    core type: Operation\n",
       "    operator: 32\n",
       "    operands: 20\n",
       "15. (b_{1} in Complex), ..(b_{_a} in Complex).., (b_{j} in Complex)\n",
       "    core type: ExprRange\n",
       "    lambda_map: 21\n",
       "    start_index: 48\n",
       "    end_index: 49\n",
       "16. (a_{1}, ..a_{_a}.., a_{i}, x - y, b_{1}, ..b_{_a}.., b_{j})\n",
       "    core type: ExprTuple\n",
       "    sub-expressions: 42, 22, 44\n",
       "17. (a_{1} * ..a_{_a}.. * a_{i} * x * b_{1} * ..b_{_a}.. * b_{j}, -(a_{1} * ..a_{_a}.. * a_{i} * y * b_{1} * ..b_{_a}.. * b_{j}))\n",
       "    core type: ExprTuple\n",
       "    sub-expressions: 23, 24\n",
       "18. _a -> (a_{_a} in Complex)\n",
       "    core type: Lambda\n",
       "    parameter: 55\n",
       "    body: 25\n",
       "19. (x, Complex)\n",
       "    core type: ExprTuple\n",
       "    sub-expressions: 35, 37\n",
       "20. (y, Complex)\n",
       "    core type: ExprTuple\n",
       "    sub-expressions: 43, 37\n",
       "21. _a -> (b_{_a} in Complex)\n",
       "    core type: Lambda\n",
       "    parameter: 55\n",
       "    body: 26\n",
       "22. x - y\n",
       "    core type: Operation\n",
       "    operator: 27\n",
       "    operands: 28\n",
       "23. a_{1} * ..a_{_a}.. * a_{i} * x * b_{1} * ..b_{_a}.. * b_{j}\n",
       "    core type: Operation\n",
       "    operator: 40\n",
       "    operands: 29\n",
       "24. -(a_{1} * ..a_{_a}.. * a_{i} * y * b_{1} * ..b_{_a}.. * b_{j})\n",
       "    core type: Operation\n",
       "    operator: 38\n",
       "    operand: 36\n",
       "25. a_{_a} in Complex\n",
       "    core type: Operation\n",
       "    operator: 32\n",
       "    operands: 31\n",
       "26. b_{_a} in Complex\n",
       "    core type: Operation\n",
       "    operator: 32\n",
       "    operands: 33\n",
       "27. +\n",
       "    core type: Literal\n",
       "    sub-expressions: \n",
       "28. (x, -y)\n",
       "    core type: ExprTuple\n",
       "    sub-expressions: 35, 34\n",
       "29. (a_{1}, ..a_{_a}.., a_{i}, x, b_{1}, ..b_{_a}.., b_{j})\n",
       "    core type: ExprTuple\n",
       "    sub-expressions: 42, 35, 44\n",
       "30. (a_{1} * ..a_{_a}.. * a_{i} * y * b_{1} * ..b_{_a}.. * b_{j})\n",
       "    core type: ExprTuple\n",
       "    sub-expressions: 36\n",
       "31. (a_{_a}, Complex)\n",
       "    core type: ExprTuple\n",
       "    sub-expressions: 50, 37\n",
       "32. in\n",
       "    core type: Literal\n",
       "    sub-expressions: \n",
       "33. (b_{_a}, Complex)\n",
       "    core type: ExprTuple\n",
       "    sub-expressions: 51, 37\n",
       "34. -y\n",
       "    core type: Operation\n",
       "    operator: 38\n",
       "    operand: 43\n",
       "35. x\n",
       "    core type: Variable\n",
       "    sub-expressions: \n",
       "36. a_{1} * ..a_{_a}.. * a_{i} * y * b_{1} * ..b_{_a}.. * b_{j}\n",
       "    core type: Operation\n",
       "    operator: 40\n",
       "    operands: 41\n",
       "37. Complex\n",
       "    core type: Literal\n",
       "    sub-expressions: \n",
       "38. -\n",
       "    core type: Literal\n",
       "    sub-expressions: \n",
       "39. (y)\n",
       "    core type: ExprTuple\n",
       "    sub-expressions: 43\n",
       "40. *\n",
       "    core type: Literal\n",
       "    sub-expressions: \n",
       "41. (a_{1}, ..a_{_a}.., a_{i}, y, b_{1}, ..b_{_a}.., b_{j})\n",
       "    core type: ExprTuple\n",
       "    sub-expressions: 42, 43, 44\n",
       "42. a_{1}, ..a_{_a}.., a_{i}\n",
       "    core type: ExprRange\n",
       "    lambda_map: 45\n",
       "    start_index: 48\n",
       "    end_index: 46\n",
       "43. y\n",
       "    core type: Variable\n",
       "    sub-expressions: \n",
       "44. b_{1}, ..b_{_a}.., b_{j}\n",
       "    core type: ExprRange\n",
       "    lambda_map: 47\n",
       "    start_index: 48\n",
       "    end_index: 49\n",
       "45. _a -> a_{_a}\n",
       "    core type: Lambda\n",
       "    parameter: 55\n",
       "    body: 50\n",
       "46. i\n",
       "    core type: Variable\n",
       "    sub-expressions: \n",
       "47. _a -> b_{_a}\n",
       "    core type: Lambda\n",
       "    parameter: 55\n",
       "    body: 51\n",
       "48. 1\n",
       "    core type: Literal\n",
       "    sub-expressions: \n",
       "49. j\n",
       "    core type: Variable\n",
       "    sub-expressions: \n",
       "50. a_{_a}\n",
       "    core type: IndexedVar\n",
       "variable: 52\n",
       "index: 55\n",
       "51. b_{_a}\n",
       "    core type: IndexedVar\n",
       "variable: 53\n",
       "index: 55\n",
       "52. a\n",
       "    core type: Variable\n",
       "    sub-expressions: \n",
       "53. b\n",
       "    core type: Variable\n",
       "    sub-expressions: \n",
       "54. (_a)\n",
       "    core type: ExprTuple\n",
       "    sub-expressions: 55\n",
       "55. _a\n",
       "    core type: Variable\n",
       "    sub-expressions: "
      ]
     },
     "execution_count": 6,
     "metadata": {},
     "output_type": "execute_result"
    }
   ],
   "source": [
    "# display the expression information\n",
    "expr.expr_info()"
   ]
  },
  {
   "cell_type": "code",
   "execution_count": null,
   "metadata": {},
   "outputs": [],
   "source": []
  }
 ],
 "metadata": {
  "kernelspec": {
   "display_name": "Python 3",
   "language": "python",
   "name": "python3"
  }
 },
 "nbformat": 4,
 "nbformat_minor": 0
}