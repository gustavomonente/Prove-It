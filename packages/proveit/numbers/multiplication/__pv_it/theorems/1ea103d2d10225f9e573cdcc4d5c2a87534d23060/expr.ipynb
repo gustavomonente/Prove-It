{
 "cells": [
  {
   "cell_type": "markdown",
   "metadata": {},
   "source": [
    "Expression of type <a class=\"ProveItLink\" href=\"../../../../../../../doc/html/api/proveit.Conditional.html\">Conditional</a>\n",
    "=======================\n",
    "# from the theory of <a class=\"ProveItLink\" href=\"../../../_theory_nbs_/theory.ipynb\">proveit.numbers.multiplication</a>"
   ]
  },
  {
   "cell_type": "code",
   "execution_count": 1,
   "metadata": {},
   "outputs": [],
   "source": [
    "import proveit\n",
    "# Automation is not needed when building an expression:\n",
    "proveit.defaults.automation = False # This will speed things up.\n",
    "proveit.defaults.inline_pngs = False # Makes files smaller.\n",
    "%load_expr # Load the stored expression as 'stored_expr'\n",
    "# import Expression classes needed to build the expression\n",
    "from proveit import Conditional, x, y\n",
    "from proveit.logic import And, Equals, InSet\n",
    "from proveit.numbers import Complex, Mult, Neg"
   ]
  },
  {
   "cell_type": "code",
   "execution_count": 2,
   "metadata": {},
   "outputs": [
    {
     "data": {
      "text/html": [
       "<strong id=\"expr\">expr:</strong> <a class=\"ProveItLink\" href=\"expr.ipynb\"><img src=\"expr.png\" style=\"display:inline;vertical-align:middle;\" /></a><br>"
      ],
      "text/plain": [
       "expr: {(-((-x) * y)) = (x * y) if x in Complex ,  y in Complex."
      ]
     },
     "execution_count": 2,
     "metadata": {},
     "output_type": "execute_result"
    }
   ],
   "source": [
    "# build up the expression from sub-expressions\n",
    "expr = Conditional(Equals(Neg(Mult(Neg(x), y)), Mult(x, y)), And(InSet(x, Complex), InSet(y, Complex)))"
   ]
  },
  {
   "cell_type": "code",
   "execution_count": 3,
   "metadata": {},
   "outputs": [
    {
     "name": "stdout",
     "output_type": "stream",
     "text": [
      "Passed sanity check: expr matches stored_expr\n"
     ]
    }
   ],
   "source": [
    "# check that the built expression is the same as the stored expression\n",
    "assert expr == stored_expr\n",
    "assert expr._style_id == stored_expr._style_id\n",
    "print(\"Passed sanity check: expr matches stored_expr\")"
   ]
  },
  {
   "cell_type": "code",
   "execution_count": 4,
   "metadata": {},
   "outputs": [
    {
     "name": "stdout",
     "output_type": "stream",
     "text": [
      "\\left\\{\\left(-\\left(\\left(-x\\right) \\cdot y\\right)\\right) = \\left(x \\cdot y\\right) \\textrm{ if } x \\in \\mathbb{C} ,  y \\in \\mathbb{C}\\right..\n"
     ]
    }
   ],
   "source": [
    "# Show the LaTeX representation of the expression for convenience if you need it.\n",
    "print(expr.latex())"
   ]
  },
  {
   "cell_type": "code",
   "execution_count": 5,
   "metadata": {},
   "outputs": [
    {
     "data": {
      "text/html": [
       "<table><tr><th>&nbsp;</th><th>core type</th><th>sub-expressions</th><th>expression</th></tr>\n",
       "<tr><td>0</td><td>Conditional</td><td>value:&nbsp;1<br>condition:&nbsp;2<br></td><td><a class=\"ProveItLink\" href=\"expr.ipynb\"><img src=\"expr.png\" style=\"display:inline;vertical-align:middle;\" /></a></td></tr>\n",
       "<tr><td>1</td><td>Operation</td><td>operator:&nbsp;3<br>operands:&nbsp;4<br></td><td><a class=\"ProveItLink\" href=\"../4c9169c407d9d2946e2713faeeef10c8003bc2c20/expr.ipynb\"><img src=\"../4c9169c407d9d2946e2713faeeef10c8003bc2c20/expr.png\" style=\"display:inline;vertical-align:middle;\" /></a></td></tr>\n",
       "<tr><td>2</td><td>Operation</td><td>operator:&nbsp;5<br>operands:&nbsp;6<br></td><td><a class=\"ProveItLink\" href=\"../e84b505a57fe18c018485184ee3246c65dfbbf4d0/expr.ipynb\"><img src=\"../e84b505a57fe18c018485184ee3246c65dfbbf4d0/expr.png\" style=\"display:inline;vertical-align:middle;\" /></a></td></tr>\n",
       "<tr><td>3</td><td>Literal</td><td></td><td><a class=\"ProveItLink\" href=\"../../../../../logic/equality/__pv_it/common/fb96dc12b2aa8801dda64d0132b396c63d1502bb0/expr.ipynb\"><img src=\"../../../../../logic/equality/__pv_it/common/fb96dc12b2aa8801dda64d0132b396c63d1502bb0/expr.png\" style=\"display:inline;vertical-align:middle;\" /></a></td></tr>\n",
       "<tr><td>4</td><td>ExprTuple</td><td>7, 8</td><td><a class=\"ProveItLink\" href=\"../dcc4f97f514b928782e54c4fdf3aa367b7745e990/expr.ipynb\"><img src=\"../dcc4f97f514b928782e54c4fdf3aa367b7745e990/expr.png\" style=\"display:inline;vertical-align:middle;\" /></a></td></tr>\n",
       "<tr><td>5</td><td>Literal</td><td></td><td><a class=\"ProveItLink\" href=\"../../../../../logic/booleans/conjunction/__pv_it/common/42118ff318bd65d98b1393f64ce7c2269feef76e0/expr.ipynb\"><img src=\"../../../../../logic/booleans/conjunction/__pv_it/common/42118ff318bd65d98b1393f64ce7c2269feef76e0/expr.png\" style=\"display:inline;vertical-align:middle;\" /></a></td></tr>\n",
       "<tr><td>6</td><td>ExprTuple</td><td>9, 10</td><td><a class=\"ProveItLink\" href=\"../a3cb9dc8f1c8a9e2ca09c89d877fa89ab16ac4ce0/expr.ipynb\"><img src=\"../a3cb9dc8f1c8a9e2ca09c89d877fa89ab16ac4ce0/expr.png\" style=\"display:inline;vertical-align:middle;\" /></a></td></tr>\n",
       "<tr><td>7</td><td>Operation</td><td>operator:&nbsp;21<br>operand:&nbsp;11<br></td><td><a class=\"ProveItLink\" href=\"../e52840f41a75ec23a8cb6d88a38595e74836522e0/expr.ipynb\"><img src=\"../e52840f41a75ec23a8cb6d88a38595e74836522e0/expr.png\" style=\"display:inline;vertical-align:middle;\" /></a></td></tr>\n",
       "<tr><td>8</td><td>Operation</td><td>operator:&nbsp;16<br>operands:&nbsp;12<br></td><td><a class=\"ProveItLink\" href=\"../a38e85f6627883c41685e849929adc8a01a60d760/expr.ipynb\"><img src=\"../a38e85f6627883c41685e849929adc8a01a60d760/expr.png\" style=\"display:inline;vertical-align:middle;\" /></a></td></tr>\n",
       "<tr><td>9</td><td>Operation</td><td>operator:&nbsp;14<br>operands:&nbsp;13<br></td><td><a class=\"ProveItLink\" href=\"../665eb28bdef08717ca4abe8886f256e37ecbb1210/expr.ipynb\"><img src=\"../665eb28bdef08717ca4abe8886f256e37ecbb1210/expr.png\" style=\"display:inline;vertical-align:middle;\" /></a></td></tr>\n",
       "<tr><td>10</td><td>Operation</td><td>operator:&nbsp;14<br>operands:&nbsp;15<br></td><td><a class=\"ProveItLink\" href=\"../4781579f73690b602fbe14fc22acbb18872578820/expr.ipynb\"><img src=\"../4781579f73690b602fbe14fc22acbb18872578820/expr.png\" style=\"display:inline;vertical-align:middle;\" /></a></td></tr>\n",
       "<tr><td>11</td><td>Operation</td><td>operator:&nbsp;16<br>operands:&nbsp;17<br></td><td><a class=\"ProveItLink\" href=\"../841c130d3fa380c7b2adaa67ceba26bbb51a3b400/expr.ipynb\"><img src=\"../841c130d3fa380c7b2adaa67ceba26bbb51a3b400/expr.png\" style=\"display:inline;vertical-align:middle;\" /></a></td></tr>\n",
       "<tr><td>12</td><td>ExprTuple</td><td>22, 20</td><td><a class=\"ProveItLink\" href=\"../1d0941a32bac19e80ab1cf703883be0351553a410/expr.ipynb\"><img src=\"../1d0941a32bac19e80ab1cf703883be0351553a410/expr.png\" style=\"display:inline;vertical-align:middle;\" /></a></td></tr>\n",
       "<tr><td>13</td><td>ExprTuple</td><td>22, 18</td><td><a class=\"ProveItLink\" href=\"../75ad744bb2803b43009bc0873a3361232799faaf0/expr.ipynb\"><img src=\"../75ad744bb2803b43009bc0873a3361232799faaf0/expr.png\" style=\"display:inline;vertical-align:middle;\" /></a></td></tr>\n",
       "<tr><td>14</td><td>Literal</td><td></td><td><a class=\"ProveItLink\" href=\"../../../../../logic/sets/membership/__pv_it/common/477487d8796864d23d5810f83761435f25167f690/expr.ipynb\"><img src=\"../../../../../logic/sets/membership/__pv_it/common/477487d8796864d23d5810f83761435f25167f690/expr.png\" style=\"display:inline;vertical-align:middle;\" /></a></td></tr>\n",
       "<tr><td>15</td><td>ExprTuple</td><td>20, 18</td><td><a class=\"ProveItLink\" href=\"../b7a9fe0b18f49d84bc924e84c1b67da8918783610/expr.ipynb\"><img src=\"../b7a9fe0b18f49d84bc924e84c1b67da8918783610/expr.png\" style=\"display:inline;vertical-align:middle;\" /></a></td></tr>\n",
       "<tr><td>16</td><td>Literal</td><td></td><td><a class=\"ProveItLink\" href=\"../../common/ed719cef37831779c16481533a4d380a2f95ab270/expr.ipynb\"><img src=\"../../common/ed719cef37831779c16481533a4d380a2f95ab270/expr.png\" style=\"display:inline;vertical-align:middle;\" /></a></td></tr>\n",
       "<tr><td>17</td><td>ExprTuple</td><td>19, 20</td><td><a class=\"ProveItLink\" href=\"../dfb0489be77953fa9354715acd85ca85cfe924110/expr.ipynb\"><img src=\"../dfb0489be77953fa9354715acd85ca85cfe924110/expr.png\" style=\"display:inline;vertical-align:middle;\" /></a></td></tr>\n",
       "<tr><td>18</td><td>Literal</td><td></td><td><a class=\"ProveItLink\" href=\"../../../../number_sets/complex_numbers/__pv_it/common/d18a028138f659eda00de597c28a3447fe87eb100/expr.ipynb\"><img src=\"../../../../number_sets/complex_numbers/__pv_it/common/d18a028138f659eda00de597c28a3447fe87eb100/expr.png\" style=\"display:inline;vertical-align:middle;\" /></a></td></tr>\n",
       "<tr><td>19</td><td>Operation</td><td>operator:&nbsp;21<br>operand:&nbsp;22<br></td><td><a class=\"ProveItLink\" href=\"../45f3a415efa9e5e90ec189b4e68f5e213efc834a0/expr.ipynb\"><img src=\"../45f3a415efa9e5e90ec189b4e68f5e213efc834a0/expr.png\" style=\"display:inline;vertical-align:middle;\" /></a></td></tr>\n",
       "<tr><td>20</td><td>Variable</td><td></td><td><a class=\"ProveItLink\" href=\"../../../../../__pv_it/common/ff7dba4ef0bbe791ab573bf2d9c220a304399ac80/expr.ipynb\"><img src=\"../../../../../__pv_it/common/ff7dba4ef0bbe791ab573bf2d9c220a304399ac80/expr.png\" style=\"display:inline;vertical-align:middle;\" /></a></td></tr>\n",
       "<tr><td>21</td><td>Literal</td><td></td><td><a class=\"ProveItLink\" href=\"../../../../negation/__pv_it/common/221b3c4d1770ee9051b7c044c3f9ec61196fc34b0/expr.ipynb\"><img src=\"../../../../negation/__pv_it/common/221b3c4d1770ee9051b7c044c3f9ec61196fc34b0/expr.png\" style=\"display:inline;vertical-align:middle;\" /></a></td></tr>\n",
       "<tr><td>22</td><td>Variable</td><td></td><td><a class=\"ProveItLink\" href=\"../../../../../__pv_it/common/a0d9d672aa5e272d907247690c152cc2c6daafb70/expr.ipynb\"><img src=\"../../../../../__pv_it/common/a0d9d672aa5e272d907247690c152cc2c6daafb70/expr.png\" style=\"display:inline;vertical-align:middle;\" /></a></td></tr>\n",
       "</table>\n"
      ],
      "text/plain": [
       "0. {(-((-x) * y)) = (x * y) if x in Complex ,  y in Complex.\n",
       "   core type: Conditional\n",
       "   value: 1\n",
       "   condition: 2\n",
       "1. (-((-x) * y)) = (x * y)\n",
       "   core type: Operation\n",
       "   operator: 3\n",
       "   operands: 4\n",
       "2. (x in Complex) and (y in Complex)\n",
       "   core type: Operation\n",
       "   operator: 5\n",
       "   operands: 6\n",
       "3. =\n",
       "   core type: Literal\n",
       "   sub-expressions: \n",
       "4. (-((-x) * y), x * y)\n",
       "   core type: ExprTuple\n",
       "   sub-expressions: 7, 8\n",
       "5. and\n",
       "   core type: Literal\n",
       "   sub-expressions: \n",
       "6. (x in Complex, y in Complex)\n",
       "   core type: ExprTuple\n",
       "   sub-expressions: 9, 10\n",
       "7. -((-x) * y)\n",
       "   core type: Operation\n",
       "   operator: 21\n",
       "   operand: 11\n",
       "8. x * y\n",
       "   core type: Operation\n",
       "   operator: 16\n",
       "   operands: 12\n",
       "9. x in Complex\n",
       "   core type: Operation\n",
       "   operator: 14\n",
       "   operands: 13\n",
       "10. y in Complex\n",
       "    core type: Operation\n",
       "    operator: 14\n",
       "    operands: 15\n",
       "11. (-x) * y\n",
       "    core type: Operation\n",
       "    operator: 16\n",
       "    operands: 17\n",
       "12. (x, y)\n",
       "    core type: ExprTuple\n",
       "    sub-expressions: 22, 20\n",
       "13. (x, Complex)\n",
       "    core type: ExprTuple\n",
       "    sub-expressions: 22, 18\n",
       "14. in\n",
       "    core type: Literal\n",
       "    sub-expressions: \n",
       "15. (y, Complex)\n",
       "    core type: ExprTuple\n",
       "    sub-expressions: 20, 18\n",
       "16. *\n",
       "    core type: Literal\n",
       "    sub-expressions: \n",
       "17. (-x, y)\n",
       "    core type: ExprTuple\n",
       "    sub-expressions: 19, 20\n",
       "18. Complex\n",
       "    core type: Literal\n",
       "    sub-expressions: \n",
       "19. -x\n",
       "    core type: Operation\n",
       "    operator: 21\n",
       "    operand: 22\n",
       "20. y\n",
       "    core type: Variable\n",
       "    sub-expressions: \n",
       "21. -\n",
       "    core type: Literal\n",
       "    sub-expressions: \n",
       "22. x\n",
       "    core type: Variable\n",
       "    sub-expressions: "
      ]
     },
     "execution_count": 5,
     "metadata": {},
     "output_type": "execute_result"
    }
   ],
   "source": [
    "# display the expression information\n",
    "expr.expr_info()"
   ]
  },
  {
   "cell_type": "code",
   "execution_count": null,
   "metadata": {},
   "outputs": [],
   "source": []
  }
 ],
 "metadata": {
  "kernelspec": {
   "display_name": "Python 3",
   "language": "python",
   "name": "python3"
  }
 },
 "nbformat": 4,
 "nbformat_minor": 0
}