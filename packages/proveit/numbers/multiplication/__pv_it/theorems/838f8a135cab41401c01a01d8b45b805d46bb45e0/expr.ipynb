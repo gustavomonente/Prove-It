{
 "cells": [
  {
   "cell_type": "markdown",
   "metadata": {},
   "source": [
    "Expression of type <a class=\"ProveItLink\" href=\"../../../../../../../doc/html/api/proveit.Lambda.html\">Lambda</a>\n",
    "=======================\n",
    "# from the theory of <a class=\"ProveItLink\" href=\"../../../_theory_nbs_/theory.ipynb\">proveit.numbers.multiplication</a>"
   ]
  },
  {
   "cell_type": "code",
   "execution_count": 1,
   "metadata": {},
   "outputs": [],
   "source": [
    "import proveit\n",
    "# Automation is not needed when building an expression:\n",
    "proveit.defaults.automation = False # This will speed things up.\n",
    "proveit.defaults.inline_pngs = False # Makes files smaller.\n",
    "%load_expr # Load the stored expression as 'stored_expr'\n",
    "# import Expression classes needed to build the expression\n",
    "from proveit import Conditional, Lambda, n, x\n",
    "from proveit.core_expr_types import a_1_to_n\n",
    "from proveit.logic import And, Equals, Forall, InSet, Set\n",
    "from proveit.numbers import Add, Complex, Mult, Natural"
   ]
  },
  {
   "cell_type": "code",
   "execution_count": 2,
   "metadata": {},
   "outputs": [
    {
     "data": {
      "text/html": [
       "<strong id=\"expr\">expr:</strong> <a class=\"ProveItLink\" href=\"expr.ipynb\"><img src=\"expr.png\" style=\"display:inline;vertical-align:middle;\" /></a><br>"
      ],
      "text/plain": [
       "expr: (n, x) -> {forall_{a_{1}, ..a_{_a}.., a_{n} in {x}} ((a_{1} + ..a_{_a}.. + a_{n}) = (n * x)) if n in Natural ,  x in Complex."
      ]
     },
     "execution_count": 2,
     "metadata": {},
     "output_type": "execute_result"
    }
   ],
   "source": [
    "# build up the expression from sub-expressions\n",
    "expr = Lambda([n, x], Conditional(Forall([a_1_to_n], Equals(Add(a_1_to_n), Mult(n, x)), domains = [Set(x)]), And(InSet(n, Natural), InSet(x, Complex))))"
   ]
  },
  {
   "cell_type": "code",
   "execution_count": 3,
   "metadata": {},
   "outputs": [
    {
     "name": "stdout",
     "output_type": "stream",
     "text": [
      "Passed sanity check: expr matches stored_expr\n"
     ]
    }
   ],
   "source": [
    "# check that the built expression is the same as the stored expression\n",
    "assert expr == stored_expr\n",
    "assert expr._style_id == stored_expr._style_id\n",
    "print(\"Passed sanity check: expr matches stored_expr\")"
   ]
  },
  {
   "cell_type": "code",
   "execution_count": 4,
   "metadata": {},
   "outputs": [
    {
     "name": "stdout",
     "output_type": "stream",
     "text": [
      "\\left(n, x\\right) \\mapsto \\left\\{\\forall_{a_{1}, \\ldots, a_{n} \\in \\left\\{x\\right\\}}~\\left(\\left(a_{1} + \\ldots + a_{n}\\right) = \\left(n \\cdot x\\right)\\right) \\textrm{ if } n \\in \\mathbb{N} ,  x \\in \\mathbb{C}\\right..\n"
     ]
    }
   ],
   "source": [
    "# Show the LaTeX representation of the expression for convenience if you need it.\n",
    "print(expr.latex())"
   ]
  },
  {
   "cell_type": "code",
   "execution_count": 5,
   "metadata": {},
   "outputs": [
    {
     "data": {
      "text/html": [
       "no style options"
      ],
      "text/plain": [
       "no style options"
      ]
     },
     "execution_count": 5,
     "metadata": {},
     "output_type": "execute_result"
    }
   ],
   "source": [
    "expr.style_options()"
   ]
  },
  {
   "cell_type": "code",
   "execution_count": 6,
   "metadata": {},
   "outputs": [
    {
     "data": {
      "text/html": [
       "<table><tr><th>&nbsp;</th><th>core type</th><th>sub-expressions</th><th>expression</th></tr>\n",
       "<tr><td>0</td><td>Lambda</td><td>parameters:&nbsp;27<br>body:&nbsp;1<br></td><td><a class=\"ProveItLink\" href=\"expr.ipynb\"><img src=\"expr.png\" style=\"display:inline;vertical-align:middle;\" /></a></td></tr>\n",
       "<tr><td>1</td><td>Conditional</td><td>value:&nbsp;2<br>condition:&nbsp;3<br></td><td><a class=\"ProveItLink\" href=\"../d069acc8bf7524171570d077c4857fc026150fcc0/expr.ipynb\"><img src=\"../d069acc8bf7524171570d077c4857fc026150fcc0/expr.png\" style=\"display:inline;vertical-align:middle;\" /></a></td></tr>\n",
       "<tr><td>2</td><td>Operation</td><td>operator:&nbsp;4<br>operand:&nbsp;7<br></td><td><a class=\"ProveItLink\" href=\"../9258a2842dcae462013800df0fd36a44cf85eb030/expr.ipynb\"><img src=\"../9258a2842dcae462013800df0fd36a44cf85eb030/expr.png\" style=\"display:inline;vertical-align:middle;\" /></a></td></tr>\n",
       "<tr><td>3</td><td>Operation</td><td>operator:&nbsp;19<br>operands:&nbsp;6<br></td><td><a class=\"ProveItLink\" href=\"../647f1e3ca845111bca8bdf1d2453c0d4e9b3dce30/expr.ipynb\"><img src=\"../647f1e3ca845111bca8bdf1d2453c0d4e9b3dce30/expr.png\" style=\"display:inline;vertical-align:middle;\" /></a></td></tr>\n",
       "<tr><td>4</td><td>Literal</td><td></td><td><a class=\"ProveItLink\" href=\"../../../../../logic/booleans/quantification/universality/__pv_it/common/684d35ba98fcbf8ca5011f865e530a51e77730630/expr.ipynb\"><img src=\"../../../../../logic/booleans/quantification/universality/__pv_it/common/684d35ba98fcbf8ca5011f865e530a51e77730630/expr.png\" style=\"display:inline;vertical-align:middle;\" /></a></td></tr>\n",
       "<tr><td>5</td><td>ExprTuple</td><td>7</td><td><a class=\"ProveItLink\" href=\"../234bde290bafd8df4bd98e024fe657eddd1dd7030/expr.ipynb\"><img src=\"../234bde290bafd8df4bd98e024fe657eddd1dd7030/expr.png\" style=\"display:inline;vertical-align:middle;\" /></a></td></tr>\n",
       "<tr><td>6</td><td>ExprTuple</td><td>8, 9</td><td><a class=\"ProveItLink\" href=\"../a56c05942360689b4dc22d967cd9bb74265fc7350/expr.ipynb\"><img src=\"../a56c05942360689b4dc22d967cd9bb74265fc7350/expr.png\" style=\"display:inline;vertical-align:middle;\" /></a></td></tr>\n",
       "<tr><td>7</td><td>Lambda</td><td>parameters:&nbsp;25<br>body:&nbsp;10<br></td><td><a class=\"ProveItLink\" href=\"../4e5dc20f4a642319d9a1d9e37287fafbafa27a8e0/expr.ipynb\"><img src=\"../4e5dc20f4a642319d9a1d9e37287fafbafa27a8e0/expr.png\" style=\"display:inline;vertical-align:middle;\" /></a></td></tr>\n",
       "<tr><td>8</td><td>Operation</td><td>operator:&nbsp;34<br>operands:&nbsp;11<br></td><td><a class=\"ProveItLink\" href=\"../e3c5b209faa86f1e812d35da64c9d9b711de675d0/expr.ipynb\"><img src=\"../e3c5b209faa86f1e812d35da64c9d9b711de675d0/expr.png\" style=\"display:inline;vertical-align:middle;\" /></a></td></tr>\n",
       "<tr><td>9</td><td>Operation</td><td>operator:&nbsp;34<br>operands:&nbsp;12<br></td><td><a class=\"ProveItLink\" href=\"../e99df808d7f7f716b0c7d8c3fb6eb50e7ecca4120/expr.ipynb\"><img src=\"../e99df808d7f7f716b0c7d8c3fb6eb50e7ecca4120/expr.png\" style=\"display:inline;vertical-align:middle;\" /></a></td></tr>\n",
       "<tr><td>10</td><td>Conditional</td><td>value:&nbsp;13<br>condition:&nbsp;14<br></td><td><a class=\"ProveItLink\" href=\"../85635dc47b73953a9c4468e47dffc546af5d585e0/expr.ipynb\"><img src=\"../85635dc47b73953a9c4468e47dffc546af5d585e0/expr.png\" style=\"display:inline;vertical-align:middle;\" /></a></td></tr>\n",
       "<tr><td>11</td><td>ExprTuple</td><td>33, 15</td><td><a class=\"ProveItLink\" href=\"../248776733c2a8aa9cdfdf4f76f63a3d26b6d139d0/expr.ipynb\"><img src=\"../248776733c2a8aa9cdfdf4f76f63a3d26b6d139d0/expr.png\" style=\"display:inline;vertical-align:middle;\" /></a></td></tr>\n",
       "<tr><td>12</td><td>ExprTuple</td><td>43, 16</td><td><a class=\"ProveItLink\" href=\"../03ad36b6bf36a33fba177fa19cdd688eda4273c70/expr.ipynb\"><img src=\"../03ad36b6bf36a33fba177fa19cdd688eda4273c70/expr.png\" style=\"display:inline;vertical-align:middle;\" /></a></td></tr>\n",
       "<tr><td>13</td><td>Operation</td><td>operator:&nbsp;17<br>operands:&nbsp;18<br></td><td><a class=\"ProveItLink\" href=\"../b09ac1404d209f6ea21f929ebc1ff23917ae56400/expr.ipynb\"><img src=\"../b09ac1404d209f6ea21f929ebc1ff23917ae56400/expr.png\" style=\"display:inline;vertical-align:middle;\" /></a></td></tr>\n",
       "<tr><td>14</td><td>Operation</td><td>operator:&nbsp;19<br>operands:&nbsp;20<br></td><td><a class=\"ProveItLink\" href=\"../39ffbf4fad7aa104c640e9dc0ec8da949f33ced00/expr.ipynb\"><img src=\"../39ffbf4fad7aa104c640e9dc0ec8da949f33ced00/expr.png\" style=\"display:inline;vertical-align:middle;\" /></a></td></tr>\n",
       "<tr><td>15</td><td>Literal</td><td></td><td><a class=\"ProveItLink\" href=\"../../../../number_sets/natural_numbers/__pv_it/common/85c8b43c90a7392ebb5459360d343dfa7c7408b50/expr.ipynb\"><img src=\"../../../../number_sets/natural_numbers/__pv_it/common/85c8b43c90a7392ebb5459360d343dfa7c7408b50/expr.png\" style=\"display:inline;vertical-align:middle;\" /></a></td></tr>\n",
       "<tr><td>16</td><td>Literal</td><td></td><td><a class=\"ProveItLink\" href=\"../../../../number_sets/complex_numbers/__pv_it/common/fbfabc61f6f66350b130e5a55a72b80825c065f90/expr.ipynb\"><img src=\"../../../../number_sets/complex_numbers/__pv_it/common/fbfabc61f6f66350b130e5a55a72b80825c065f90/expr.png\" style=\"display:inline;vertical-align:middle;\" /></a></td></tr>\n",
       "<tr><td>17</td><td>Literal</td><td></td><td><a class=\"ProveItLink\" href=\"../../../../../logic/equality/__pv_it/common/731dd3955b346c1320ed5c0ba7a618bcda61457d0/expr.ipynb\"><img src=\"../../../../../logic/equality/__pv_it/common/731dd3955b346c1320ed5c0ba7a618bcda61457d0/expr.png\" style=\"display:inline;vertical-align:middle;\" /></a></td></tr>\n",
       "<tr><td>18</td><td>ExprTuple</td><td>21, 22</td><td><a class=\"ProveItLink\" href=\"../f90221ca315d28335fea5be8d16b1cbdd83e0a490/expr.ipynb\"><img src=\"../f90221ca315d28335fea5be8d16b1cbdd83e0a490/expr.png\" style=\"display:inline;vertical-align:middle;\" /></a></td></tr>\n",
       "<tr><td>19</td><td>Literal</td><td></td><td><a class=\"ProveItLink\" href=\"../../../../../logic/booleans/conjunction/__pv_it/common/26b94b53e70b1d77b70f0d9d4236347db37731060/expr.ipynb\"><img src=\"../../../../../logic/booleans/conjunction/__pv_it/common/26b94b53e70b1d77b70f0d9d4236347db37731060/expr.png\" style=\"display:inline;vertical-align:middle;\" /></a></td></tr>\n",
       "<tr><td>20</td><td>ExprTuple</td><td>23</td><td><a class=\"ProveItLink\" href=\"../550b53233867347280eba883b84a47e87598e8730/expr.ipynb\"><img src=\"../550b53233867347280eba883b84a47e87598e8730/expr.png\" style=\"display:inline;vertical-align:middle;\" /></a></td></tr>\n",
       "<tr><td>21</td><td>Operation</td><td>operator:&nbsp;24<br>operands:&nbsp;25<br></td><td><a class=\"ProveItLink\" href=\"../ec3d7fe0e3eb160f3431d852568c217f000603ad0/expr.ipynb\"><img src=\"../ec3d7fe0e3eb160f3431d852568c217f000603ad0/expr.png\" style=\"display:inline;vertical-align:middle;\" /></a></td></tr>\n",
       "<tr><td>22</td><td>Operation</td><td>operator:&nbsp;26<br>operands:&nbsp;27<br></td><td><a class=\"ProveItLink\" href=\"../ee73da8aa82efa84f82c4dec2ed602147b09660a0/expr.ipynb\"><img src=\"../ee73da8aa82efa84f82c4dec2ed602147b09660a0/expr.png\" style=\"display:inline;vertical-align:middle;\" /></a></td></tr>\n",
       "<tr><td>23</td><td>ExprRange</td><td>lambda_map:&nbsp;28<br>start_index:&nbsp;32<br>end_index:&nbsp;33<br></td><td><a class=\"ProveItLink\" href=\"../dece96bfe0d3db77b0c57aa7e0ec70e13122b4530/expr.ipynb\"><img src=\"../dece96bfe0d3db77b0c57aa7e0ec70e13122b4530/expr.png\" style=\"display:inline;vertical-align:middle;\" /></a></td></tr>\n",
       "<tr><td>24</td><td>Literal</td><td></td><td><a class=\"ProveItLink\" href=\"../../../../addition/__pv_it/common/1f38fe5cce441387feef296e2c0a2eac260bb4f30/expr.ipynb\"><img src=\"../../../../addition/__pv_it/common/1f38fe5cce441387feef296e2c0a2eac260bb4f30/expr.png\" style=\"display:inline;vertical-align:middle;\" /></a></td></tr>\n",
       "<tr><td>25</td><td>ExprTuple</td><td>29</td><td><a class=\"ProveItLink\" href=\"../3c2073fded113a048bf7371c726cf466ae4d92300/expr.ipynb\"><img src=\"../3c2073fded113a048bf7371c726cf466ae4d92300/expr.png\" style=\"display:inline;vertical-align:middle;\" /></a></td></tr>\n",
       "<tr><td>26</td><td>Literal</td><td></td><td><a class=\"ProveItLink\" href=\"../../common/c57d60974865e78d434abd3ff22c405685c80ade0/expr.ipynb\"><img src=\"../../common/c57d60974865e78d434abd3ff22c405685c80ade0/expr.png\" style=\"display:inline;vertical-align:middle;\" /></a></td></tr>\n",
       "<tr><td>27</td><td>ExprTuple</td><td>33, 43</td><td><a class=\"ProveItLink\" href=\"../17a742bd1d355f62cf4cf5af98b91a5c59886d360/expr.ipynb\"><img src=\"../17a742bd1d355f62cf4cf5af98b91a5c59886d360/expr.png\" style=\"display:inline;vertical-align:middle;\" /></a></td></tr>\n",
       "<tr><td>28</td><td>Lambda</td><td>parameter:&nbsp;42<br>body:&nbsp;30<br></td><td><a class=\"ProveItLink\" href=\"../1c939060c2d0bebd11b56bcc6fb33745f2c8b0250/expr.ipynb\"><img src=\"../1c939060c2d0bebd11b56bcc6fb33745f2c8b0250/expr.png\" style=\"display:inline;vertical-align:middle;\" /></a></td></tr>\n",
       "<tr><td>29</td><td>ExprRange</td><td>lambda_map:&nbsp;31<br>start_index:&nbsp;32<br>end_index:&nbsp;33<br></td><td><a class=\"ProveItLink\" href=\"../../../../../core_expr_types/__pv_it/common/95cc4bc4f612e88f5f51ce4796fd60b1d217c7850/expr.ipynb\"><img src=\"../../../../../core_expr_types/__pv_it/common/95cc4bc4f612e88f5f51ce4796fd60b1d217c7850/expr.png\" style=\"display:inline;vertical-align:middle;\" /></a></td></tr>\n",
       "<tr><td>30</td><td>Operation</td><td>operator:&nbsp;34<br>operands:&nbsp;35<br></td><td><a class=\"ProveItLink\" href=\"../893eef5822b9fff1c205e41a7acf081dfd0ee4fb0/expr.ipynb\"><img src=\"../893eef5822b9fff1c205e41a7acf081dfd0ee4fb0/expr.png\" style=\"display:inline;vertical-align:middle;\" /></a></td></tr>\n",
       "<tr><td>31</td><td>Lambda</td><td>parameter:&nbsp;42<br>body:&nbsp;36<br></td><td><a class=\"ProveItLink\" href=\"../../../../../core_expr_types/__pv_it/common/99ea59f1b92e70eddeee736182b1abeb9f49c91b0/expr.ipynb\"><img src=\"../../../../../core_expr_types/__pv_it/common/99ea59f1b92e70eddeee736182b1abeb9f49c91b0/expr.png\" style=\"display:inline;vertical-align:middle;\" /></a></td></tr>\n",
       "<tr><td>32</td><td>Literal</td><td></td><td><a class=\"ProveItLink\" href=\"../../../../numerals/__pv_it/common/d278e359da0695d9652dd541d45264f93703e2e40/expr.ipynb\"><img src=\"../../../../numerals/__pv_it/common/d278e359da0695d9652dd541d45264f93703e2e40/expr.png\" style=\"display:inline;vertical-align:middle;\" /></a></td></tr>\n",
       "<tr><td>33</td><td>Variable</td><td></td><td><a class=\"ProveItLink\" href=\"../../../../../__pv_it/common/6165c9bb82ce3c7097cdba4440a1aeeb6eaca8a40/expr.ipynb\"><img src=\"../../../../../__pv_it/common/6165c9bb82ce3c7097cdba4440a1aeeb6eaca8a40/expr.png\" style=\"display:inline;vertical-align:middle;\" /></a></td></tr>\n",
       "<tr><td>34</td><td>Literal</td><td></td><td><a class=\"ProveItLink\" href=\"../../../../../logic/sets/membership/__pv_it/common/7171deca84f71f47a6ec7696972d1632274a12880/expr.ipynb\"><img src=\"../../../../../logic/sets/membership/__pv_it/common/7171deca84f71f47a6ec7696972d1632274a12880/expr.png\" style=\"display:inline;vertical-align:middle;\" /></a></td></tr>\n",
       "<tr><td>35</td><td>ExprTuple</td><td>36, 37</td><td><a class=\"ProveItLink\" href=\"../33f346d2f2977e67cc1b035178a2855a39d94d790/expr.ipynb\"><img src=\"../33f346d2f2977e67cc1b035178a2855a39d94d790/expr.png\" style=\"display:inline;vertical-align:middle;\" /></a></td></tr>\n",
       "<tr><td>36</td><td>IndexedVar</td><td>variable:&nbsp;38<br>index:&nbsp;42<br></td><td><a class=\"ProveItLink\" href=\"../../../../../core_expr_types/__pv_it/common/d8d3053e77ba1db68c0cd106952422881db586670/expr.ipynb\"><img src=\"../../../../../core_expr_types/__pv_it/common/d8d3053e77ba1db68c0cd106952422881db586670/expr.png\" style=\"display:inline;vertical-align:middle;\" /></a></td></tr>\n",
       "<tr><td>37</td><td>Operation</td><td>operator:&nbsp;40<br>operand:&nbsp;43<br></td><td><a class=\"ProveItLink\" href=\"../2595a306bdcc69e92b6f65c45cb079668183da420/expr.ipynb\"><img src=\"../2595a306bdcc69e92b6f65c45cb079668183da420/expr.png\" style=\"display:inline;vertical-align:middle;\" /></a></td></tr>\n",
       "<tr><td>38</td><td>Variable</td><td></td><td><a class=\"ProveItLink\" href=\"../../../../../__pv_it/common/66c90e66682f107a881f2d666959f64e2e72ad750/expr.ipynb\"><img src=\"../../../../../__pv_it/common/66c90e66682f107a881f2d666959f64e2e72ad750/expr.png\" style=\"display:inline;vertical-align:middle;\" /></a></td></tr>\n",
       "<tr><td>39</td><td>ExprTuple</td><td>42</td><td><a class=\"ProveItLink\" href=\"../../../../../core_expr_types/__pv_it/common/ecf50ade416ab41c42c9f4e777b4c862cd9469670/expr.ipynb\"><img src=\"../../../../../core_expr_types/__pv_it/common/ecf50ade416ab41c42c9f4e777b4c862cd9469670/expr.png\" style=\"display:inline;vertical-align:middle;\" /></a></td></tr>\n",
       "<tr><td>40</td><td>Literal</td><td></td><td><a class=\"ProveItLink\" href=\"../../../../../logic/sets/enumeration/__pv_it/common/f7caf702081f903a6ea3d95d680568dd78698f5a0/expr.ipynb\"><img src=\"../../../../../logic/sets/enumeration/__pv_it/common/f7caf702081f903a6ea3d95d680568dd78698f5a0/expr.png\" style=\"display:inline;vertical-align:middle;\" /></a></td></tr>\n",
       "<tr><td>41</td><td>ExprTuple</td><td>43</td><td><a class=\"ProveItLink\" href=\"../../../../../__pv_it/common/a49c8f25f899a16b1dbcf2257505d5464a9a7bb50/expr.ipynb\"><img src=\"../../../../../__pv_it/common/a49c8f25f899a16b1dbcf2257505d5464a9a7bb50/expr.png\" style=\"display:inline;vertical-align:middle;\" /></a></td></tr>\n",
       "<tr><td>42</td><td>Variable</td><td></td><td><a class=\"ProveItLink\" href=\"../../../../../core_expr_types/__pv_it/common/9e6d9d5d7eeb0342cf5bca68def0eb165a1a9bb10/expr.ipynb\"><img src=\"../../../../../core_expr_types/__pv_it/common/9e6d9d5d7eeb0342cf5bca68def0eb165a1a9bb10/expr.png\" style=\"display:inline;vertical-align:middle;\" /></a></td></tr>\n",
       "<tr><td>43</td><td>Variable</td><td></td><td><a class=\"ProveItLink\" href=\"../../../../../__pv_it/common/a2581dc5df71d9a30bad37de14965fa5fec97a240/expr.ipynb\"><img src=\"../../../../../__pv_it/common/a2581dc5df71d9a30bad37de14965fa5fec97a240/expr.png\" style=\"display:inline;vertical-align:middle;\" /></a></td></tr>\n",
       "</table>\n"
      ],
      "text/plain": [
       "0. (n, x) -> {forall_{a_{1}, ..a_{_a}.., a_{n} in {x}} ((a_{1} + ..a_{_a}.. + a_{n}) = (n * x)) if n in Natural ,  x in Complex.\n",
       "   core type: Lambda\n",
       "   parameters: 27\\n   body: 1\n",
       "1. {forall_{a_{1}, ..a_{_a}.., a_{n} in {x}} ((a_{1} + ..a_{_a}.. + a_{n}) = (n * x)) if n in Natural ,  x in Complex.\n",
       "   core type: Conditional\n",
       "   value: 2\n",
       "   condition: 3\n",
       "2. forall_{a_{1}, ..a_{_a}.., a_{n} in {x}} ((a_{1} + ..a_{_a}.. + a_{n}) = (n * x))\n",
       "   core type: Operation\n",
       "   operator: 4\n",
       "   operand: 7\n",
       "3. (n in Natural) and (x in Complex)\n",
       "   core type: Operation\n",
       "   operator: 19\n",
       "   operands: 6\n",
       "4. forall\n",
       "   core type: Literal\n",
       "   sub-expressions: \n",
       "5. ((a_{1}, ..a_{_a}.., a_{n}) -> {(a_{1} + ..a_{_a}.. + a_{n}) = (n * x) if (a_{1} in {x}) and ..(a_{_a} in {x}).. and (a_{n} in {x}).)\n",
       "   core type: ExprTuple\n",
       "   sub-expressions: 7\n",
       "6. (n in Natural, x in Complex)\n",
       "   core type: ExprTuple\n",
       "   sub-expressions: 8, 9\n",
       "7. (a_{1}, ..a_{_a}.., a_{n}) -> {(a_{1} + ..a_{_a}.. + a_{n}) = (n * x) if (a_{1} in {x}) and ..(a_{_a} in {x}).. and (a_{n} in {x}).\n",
       "   core type: Lambda\n",
       "   parameters: 25\\n   body: 10\n",
       "8. n in Natural\n",
       "   core type: Operation\n",
       "   operator: 34\n",
       "   operands: 11\n",
       "9. x in Complex\n",
       "   core type: Operation\n",
       "   operator: 34\n",
       "   operands: 12\n",
       "10. {(a_{1} + ..a_{_a}.. + a_{n}) = (n * x) if (a_{1} in {x}) and ..(a_{_a} in {x}).. and (a_{n} in {x}).\n",
       "    core type: Conditional\n",
       "    value: 13\n",
       "    condition: 14\n",
       "11. (n, Natural)\n",
       "    core type: ExprTuple\n",
       "    sub-expressions: 33, 15\n",
       "12. (x, Complex)\n",
       "    core type: ExprTuple\n",
       "    sub-expressions: 43, 16\n",
       "13. (a_{1} + ..a_{_a}.. + a_{n}) = (n * x)\n",
       "    core type: Operation\n",
       "    operator: 17\n",
       "    operands: 18\n",
       "14. (a_{1} in {x}) and ..(a_{_a} in {x}).. and (a_{n} in {x})\n",
       "    core type: Operation\n",
       "    operator: 19\n",
       "    operands: 20\n",
       "15. Natural\n",
       "    core type: Literal\n",
       "    sub-expressions: \n",
       "16. Complex\n",
       "    core type: Literal\n",
       "    sub-expressions: \n",
       "17. =\n",
       "    core type: Literal\n",
       "    sub-expressions: \n",
       "18. (a_{1} + ..a_{_a}.. + a_{n}, n * x)\n",
       "    core type: ExprTuple\n",
       "    sub-expressions: 21, 22\n",
       "19. and\n",
       "    core type: Literal\n",
       "    sub-expressions: \n",
       "20. (a_{1} in {x}, ..a_{_a} in {x}.., a_{n} in {x})\n",
       "    core type: ExprTuple\n",
       "    sub-expressions: 23\n",
       "21. a_{1} + ..a_{_a}.. + a_{n}\n",
       "    core type: Operation\n",
       "    operator: 24\n",
       "    operands: 25\n",
       "22. n * x\n",
       "    core type: Operation\n",
       "    operator: 26\n",
       "    operands: 27\n",
       "23. (a_{1} in {x}), ..(a_{_a} in {x}).., (a_{n} in {x})\n",
       "    core type: ExprRange\n",
       "    lambda_map: 28\n",
       "    start_index: 32\n",
       "    end_index: 33\n",
       "24. +\n",
       "    core type: Literal\n",
       "    sub-expressions: \n",
       "25. (a_{1}, ..a_{_a}.., a_{n})\n",
       "    core type: ExprTuple\n",
       "    sub-expressions: 29\n",
       "26. *\n",
       "    core type: Literal\n",
       "    sub-expressions: \n",
       "27. (n, x)\n",
       "    core type: ExprTuple\n",
       "    sub-expressions: 33, 43\n",
       "28. _a -> (a_{_a} in {x})\n",
       "    core type: Lambda\n",
       "    parameter: 42\n",
       "    body: 30\n",
       "29. a_{1}, ..a_{_a}.., a_{n}\n",
       "    core type: ExprRange\n",
       "    lambda_map: 31\n",
       "    start_index: 32\n",
       "    end_index: 33\n",
       "30. a_{_a} in {x}\n",
       "    core type: Operation\n",
       "    operator: 34\n",
       "    operands: 35\n",
       "31. _a -> a_{_a}\n",
       "    core type: Lambda\n",
       "    parameter: 42\n",
       "    body: 36\n",
       "32. 1\n",
       "    core type: Literal\n",
       "    sub-expressions: \n",
       "33. n\n",
       "    core type: Variable\n",
       "    sub-expressions: \n",
       "34. in\n",
       "    core type: Literal\n",
       "    sub-expressions: \n",
       "35. (a_{_a}, {x})\n",
       "    core type: ExprTuple\n",
       "    sub-expressions: 36, 37\n",
       "36. a_{_a}\n",
       "    core type: IndexedVar\n",
       "variable: 38\n",
       "index: 42\n",
       "37. {x}\n",
       "    core type: Operation\n",
       "    operator: 40\n",
       "    operand: 43\n",
       "38. a\n",
       "    core type: Variable\n",
       "    sub-expressions: \n",
       "39. (_a)\n",
       "    core type: ExprTuple\n",
       "    sub-expressions: 42\n",
       "40. Set\n",
       "    core type: Literal\n",
       "    sub-expressions: \n",
       "41. (x)\n",
       "    core type: ExprTuple\n",
       "    sub-expressions: 43\n",
       "42. _a\n",
       "    core type: Variable\n",
       "    sub-expressions: \n",
       "43. x\n",
       "    core type: Variable\n",
       "    sub-expressions: "
      ]
     },
     "execution_count": 6,
     "metadata": {},
     "output_type": "execute_result"
    }
   ],
   "source": [
    "# display the expression information\n",
    "expr.expr_info()"
   ]
  },
  {
   "cell_type": "code",
   "execution_count": null,
   "metadata": {},
   "outputs": [],
   "source": []
  }
 ],
 "metadata": {
  "kernelspec": {
   "display_name": "Python 3",
   "language": "python",
   "name": "python3"
  }
 },
 "nbformat": 4,
 "nbformat_minor": 0
}