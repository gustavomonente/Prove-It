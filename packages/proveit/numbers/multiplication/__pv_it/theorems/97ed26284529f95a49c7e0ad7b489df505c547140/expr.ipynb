{
 "cells": [
  {
   "cell_type": "markdown",
   "metadata": {},
   "source": [
    "Expression of type <a class=\"ProveItLink\" href=\"../../../../../../../doc/html/api/proveit.Lambda.html\">Lambda</a>\n",
    "=======================\n",
    "# from the theory of <a class=\"ProveItLink\" href=\"../../../_theory_nbs_/theory.ipynb\">proveit.numbers.multiplication</a>"
   ]
  },
  {
   "cell_type": "code",
   "execution_count": 1,
   "metadata": {},
   "outputs": [],
   "source": [
    "import proveit\n",
    "# Automation is not needed when building an expression:\n",
    "proveit.defaults.automation = False # This will speed things up.\n",
    "proveit.defaults.inline_pngs = False # Makes files smaller.\n",
    "%load_expr # Load the stored expression as 'stored_expr'\n",
    "# import Expression classes needed to build the expression\n",
    "from proveit import Conditional, Lambda, n\n",
    "from proveit.core_expr_types import a_1_to_n\n",
    "from proveit.logic import Forall, InSet, NotEquals\n",
    "from proveit.numbers import ComplexSansZero, Mult, Natural, zero"
   ]
  },
  {
   "cell_type": "code",
   "execution_count": 2,
   "metadata": {},
   "outputs": [
    {
     "data": {
      "text/html": [
       "<strong id=\"expr\">expr:</strong> <a class=\"ProveItLink\" href=\"expr.ipynb\"><img src=\"expr.png\" style=\"display:inline;vertical-align:middle;\" /></a><br>"
      ],
      "text/plain": [
       "expr: n -> {forall_{a_{1}, ..a_{_a}.., a_{n} in Complex - {0}} ((a_{1} * ..a_{_a}.. * a_{n}) != 0) if n in Natural."
      ]
     },
     "execution_count": 2,
     "metadata": {},
     "output_type": "execute_result"
    }
   ],
   "source": [
    "# build up the expression from sub-expressions\n",
    "expr = Lambda(n, Conditional(Forall([a_1_to_n], NotEquals(Mult(a_1_to_n), zero), domains = [ComplexSansZero]), InSet(n, Natural)))"
   ]
  },
  {
   "cell_type": "code",
   "execution_count": 3,
   "metadata": {},
   "outputs": [
    {
     "name": "stdout",
     "output_type": "stream",
     "text": [
      "Passed sanity check: expr matches stored_expr\n"
     ]
    }
   ],
   "source": [
    "# check that the built expression is the same as the stored expression\n",
    "assert expr == stored_expr\n",
    "assert expr._style_id == stored_expr._style_id\n",
    "print(\"Passed sanity check: expr matches stored_expr\")"
   ]
  },
  {
   "cell_type": "code",
   "execution_count": 4,
   "metadata": {},
   "outputs": [
    {
     "name": "stdout",
     "output_type": "stream",
     "text": [
      "n \\mapsto \\left\\{\\forall_{a_{1}, \\ldots, a_{n} \\in \\mathbb{C} - \\left\\{0\\right\\}}~\\left(\\left(a_{1} \\cdot \\ldots \\cdot a_{n}\\right) \\neq 0\\right) \\textrm{ if } n \\in \\mathbb{N}\\right..\n"
     ]
    }
   ],
   "source": [
    "# Show the LaTeX representation of the expression for convenience if you need it.\n",
    "print(expr.latex())"
   ]
  },
  {
   "cell_type": "code",
   "execution_count": 5,
   "metadata": {},
   "outputs": [
    {
     "data": {
      "text/html": [
       "<table><tr><th>&nbsp;</th><th>core type</th><th>sub-expressions</th><th>expression</th></tr>\n",
       "<tr><td>0</td><td>Lambda</td><td>parameter:&nbsp;24<br>body:&nbsp;1<br></td><td><a class=\"ProveItLink\" href=\"expr.ipynb\"><img src=\"expr.png\" style=\"display:inline;vertical-align:middle;\" /></a></td></tr>\n",
       "<tr><td>1</td><td>Conditional</td><td>value:&nbsp;2<br>condition:&nbsp;3<br></td><td><a class=\"ProveItLink\" href=\"../e3a00a83e27875a651ee9c6aca07d94fe28fa7320/expr.ipynb\"><img src=\"../e3a00a83e27875a651ee9c6aca07d94fe28fa7320/expr.png\" style=\"display:inline;vertical-align:middle;\" /></a></td></tr>\n",
       "<tr><td>2</td><td>Operation</td><td>operator:&nbsp;4<br>operand:&nbsp;5<br></td><td><a class=\"ProveItLink\" href=\"../a0e6dd50bf36f114e01f0161062dad1a86bd7b2e0/expr.ipynb\"><img src=\"../a0e6dd50bf36f114e01f0161062dad1a86bd7b2e0/expr.png\" style=\"display:inline;vertical-align:middle;\" /></a></td></tr>\n",
       "<tr><td>3</td><td>Operation</td><td>operator:&nbsp;25<br>operands:&nbsp;6<br></td><td><a class=\"ProveItLink\" href=\"../7351e7b0b5ab4699fe31eac3b02ba02b17a05bf60/expr.ipynb\"><img src=\"../7351e7b0b5ab4699fe31eac3b02ba02b17a05bf60/expr.png\" style=\"display:inline;vertical-align:middle;\" /></a></td></tr>\n",
       "<tr><td>4</td><td>Literal</td><td></td><td><a class=\"ProveItLink\" href=\"../../../../../logic/booleans/quantification/universality/__pv_it/common/083d2baa0b8ecab1d230f9ec29a15aa1355809fb0/expr.ipynb\"><img src=\"../../../../../logic/booleans/quantification/universality/__pv_it/common/083d2baa0b8ecab1d230f9ec29a15aa1355809fb0/expr.png\" style=\"display:inline;vertical-align:middle;\" /></a></td></tr>\n",
       "<tr><td>5</td><td>Lambda</td><td>parameters:&nbsp;18<br>body:&nbsp;7<br></td><td><a class=\"ProveItLink\" href=\"../c5ab39486d29152660c665dea695081a08f10ecf0/expr.ipynb\"><img src=\"../c5ab39486d29152660c665dea695081a08f10ecf0/expr.png\" style=\"display:inline;vertical-align:middle;\" /></a></td></tr>\n",
       "<tr><td>6</td><td>ExprTuple</td><td>24, 8</td><td><a class=\"ProveItLink\" href=\"../361f8713efdd17d455c1f3e958d6205fdaeaf3c70/expr.ipynb\"><img src=\"../361f8713efdd17d455c1f3e958d6205fdaeaf3c70/expr.png\" style=\"display:inline;vertical-align:middle;\" /></a></td></tr>\n",
       "<tr><td>7</td><td>Conditional</td><td>value:&nbsp;9<br>condition:&nbsp;10<br></td><td><a class=\"ProveItLink\" href=\"../94eae02d9e8647e02d6f6d929ae291d65e7d381b0/expr.ipynb\"><img src=\"../94eae02d9e8647e02d6f6d929ae291d65e7d381b0/expr.png\" style=\"display:inline;vertical-align:middle;\" /></a></td></tr>\n",
       "<tr><td>8</td><td>Literal</td><td></td><td><a class=\"ProveItLink\" href=\"../../../../number_sets/natural_numbers/__pv_it/common/8b7c321957f52ed3b05b36af612eeae4fa4783bc0/expr.ipynb\"><img src=\"../../../../number_sets/natural_numbers/__pv_it/common/8b7c321957f52ed3b05b36af612eeae4fa4783bc0/expr.png\" style=\"display:inline;vertical-align:middle;\" /></a></td></tr>\n",
       "<tr><td>9</td><td>Operation</td><td>operator:&nbsp;11<br>operands:&nbsp;12<br></td><td><a class=\"ProveItLink\" href=\"../9761552b944e6682a916ef086b7799d2babf56c80/expr.ipynb\"><img src=\"../9761552b944e6682a916ef086b7799d2babf56c80/expr.png\" style=\"display:inline;vertical-align:middle;\" /></a></td></tr>\n",
       "<tr><td>10</td><td>Operation</td><td>operator:&nbsp;13<br>operands:&nbsp;14<br></td><td><a class=\"ProveItLink\" href=\"../6af40511fa468a82e0a87234a35c0a7a632035770/expr.ipynb\"><img src=\"../6af40511fa468a82e0a87234a35c0a7a632035770/expr.png\" style=\"display:inline;vertical-align:middle;\" /></a></td></tr>\n",
       "<tr><td>11</td><td>Literal</td><td></td><td><a class=\"ProveItLink\" href=\"../../../../../logic/equality/__pv_it/common/d96270bc9bb1bad54f773b1c04bfb343a739642c0/expr.ipynb\"><img src=\"../../../../../logic/equality/__pv_it/common/d96270bc9bb1bad54f773b1c04bfb343a739642c0/expr.png\" style=\"display:inline;vertical-align:middle;\" /></a></td></tr>\n",
       "<tr><td>12</td><td>ExprTuple</td><td>15, 36</td><td><a class=\"ProveItLink\" href=\"../218b199ae38035b63854308fb8510456ee95c82c0/expr.ipynb\"><img src=\"../218b199ae38035b63854308fb8510456ee95c82c0/expr.png\" style=\"display:inline;vertical-align:middle;\" /></a></td></tr>\n",
       "<tr><td>13</td><td>Literal</td><td></td><td><a class=\"ProveItLink\" href=\"../../../../../logic/booleans/conjunction/__pv_it/common/42118ff318bd65d98b1393f64ce7c2269feef76e0/expr.ipynb\"><img src=\"../../../../../logic/booleans/conjunction/__pv_it/common/42118ff318bd65d98b1393f64ce7c2269feef76e0/expr.png\" style=\"display:inline;vertical-align:middle;\" /></a></td></tr>\n",
       "<tr><td>14</td><td>ExprTuple</td><td>16</td><td><a class=\"ProveItLink\" href=\"../3d364c13116f71b6d338c8478d3009c8bfbc875f0/expr.ipynb\"><img src=\"../3d364c13116f71b6d338c8478d3009c8bfbc875f0/expr.png\" style=\"display:inline;vertical-align:middle;\" /></a></td></tr>\n",
       "<tr><td>15</td><td>Operation</td><td>operator:&nbsp;17<br>operands:&nbsp;18<br></td><td><a class=\"ProveItLink\" href=\"../2f6b22cf16a28981cc6e21bd1d74b775ac225c980/expr.ipynb\"><img src=\"../2f6b22cf16a28981cc6e21bd1d74b775ac225c980/expr.png\" style=\"display:inline;vertical-align:middle;\" /></a></td></tr>\n",
       "<tr><td>16</td><td>ExprRange</td><td>lambda_map:&nbsp;19<br>start_index:&nbsp;23<br>end_index:&nbsp;24<br></td><td><a class=\"ProveItLink\" href=\"../57c95dba3c49f821171b23f21b3f0975c10f09040/expr.ipynb\"><img src=\"../57c95dba3c49f821171b23f21b3f0975c10f09040/expr.png\" style=\"display:inline;vertical-align:middle;\" /></a></td></tr>\n",
       "<tr><td>17</td><td>Literal</td><td></td><td><a class=\"ProveItLink\" href=\"../../common/ed719cef37831779c16481533a4d380a2f95ab270/expr.ipynb\"><img src=\"../../common/ed719cef37831779c16481533a4d380a2f95ab270/expr.png\" style=\"display:inline;vertical-align:middle;\" /></a></td></tr>\n",
       "<tr><td>18</td><td>ExprTuple</td><td>20</td><td><a class=\"ProveItLink\" href=\"../78cdb68388c3521673bbf14256414916885443400/expr.ipynb\"><img src=\"../78cdb68388c3521673bbf14256414916885443400/expr.png\" style=\"display:inline;vertical-align:middle;\" /></a></td></tr>\n",
       "<tr><td>19</td><td>Lambda</td><td>parameter:&nbsp;30<br>body:&nbsp;21<br></td><td><a class=\"ProveItLink\" href=\"../238c4e9a735baafefe401d0b73e4c9bd6de790010/expr.ipynb\"><img src=\"../238c4e9a735baafefe401d0b73e4c9bd6de790010/expr.png\" style=\"display:inline;vertical-align:middle;\" /></a></td></tr>\n",
       "<tr><td>20</td><td>ExprRange</td><td>lambda_map:&nbsp;22<br>start_index:&nbsp;23<br>end_index:&nbsp;24<br></td><td><a class=\"ProveItLink\" href=\"../../../../../core_expr_types/__pv_it/common/a5f13b212a38aa0f8472b7953ca9227038e6b4f50/expr.ipynb\"><img src=\"../../../../../core_expr_types/__pv_it/common/a5f13b212a38aa0f8472b7953ca9227038e6b4f50/expr.png\" style=\"display:inline;vertical-align:middle;\" /></a></td></tr>\n",
       "<tr><td>21</td><td>Operation</td><td>operator:&nbsp;25<br>operands:&nbsp;26<br></td><td><a class=\"ProveItLink\" href=\"../246872e5fef86b46efa184938e30d3fdb09208680/expr.ipynb\"><img src=\"../246872e5fef86b46efa184938e30d3fdb09208680/expr.png\" style=\"display:inline;vertical-align:middle;\" /></a></td></tr>\n",
       "<tr><td>22</td><td>Lambda</td><td>parameter:&nbsp;30<br>body:&nbsp;27<br></td><td><a class=\"ProveItLink\" href=\"../../../../../core_expr_types/__pv_it/common/9f0c64ef8ae0c02b5dcba32e0fb15bd29f85872a0/expr.ipynb\"><img src=\"../../../../../core_expr_types/__pv_it/common/9f0c64ef8ae0c02b5dcba32e0fb15bd29f85872a0/expr.png\" style=\"display:inline;vertical-align:middle;\" /></a></td></tr>\n",
       "<tr><td>23</td><td>Literal</td><td></td><td><a class=\"ProveItLink\" href=\"../../../../numerals/__pv_it/common/2778428c7f555b2bdc06aa0530bc142c6e6335100/expr.ipynb\"><img src=\"../../../../numerals/__pv_it/common/2778428c7f555b2bdc06aa0530bc142c6e6335100/expr.png\" style=\"display:inline;vertical-align:middle;\" /></a></td></tr>\n",
       "<tr><td>24</td><td>Variable</td><td></td><td><a class=\"ProveItLink\" href=\"../../../../../__pv_it/common/8968bb04eb3f7dfa02353397ce929b025bbd79c20/expr.ipynb\"><img src=\"../../../../../__pv_it/common/8968bb04eb3f7dfa02353397ce929b025bbd79c20/expr.png\" style=\"display:inline;vertical-align:middle;\" /></a></td></tr>\n",
       "<tr><td>25</td><td>Literal</td><td></td><td><a class=\"ProveItLink\" href=\"../../../../../logic/sets/membership/__pv_it/common/477487d8796864d23d5810f83761435f25167f690/expr.ipynb\"><img src=\"../../../../../logic/sets/membership/__pv_it/common/477487d8796864d23d5810f83761435f25167f690/expr.png\" style=\"display:inline;vertical-align:middle;\" /></a></td></tr>\n",
       "<tr><td>26</td><td>ExprTuple</td><td>27, 28</td><td><a class=\"ProveItLink\" href=\"../2164884e631d80f9849ae8f26019b0d190ebb88f0/expr.ipynb\"><img src=\"../2164884e631d80f9849ae8f26019b0d190ebb88f0/expr.png\" style=\"display:inline;vertical-align:middle;\" /></a></td></tr>\n",
       "<tr><td>27</td><td>IndexedVar</td><td>variable:&nbsp;29<br>index:&nbsp;30<br></td><td><a class=\"ProveItLink\" href=\"../../../../../core_expr_types/__pv_it/common/ea36c59b79decceeaf696ef762cc9648f9ddbf5c0/expr.ipynb\"><img src=\"../../../../../core_expr_types/__pv_it/common/ea36c59b79decceeaf696ef762cc9648f9ddbf5c0/expr.png\" style=\"display:inline;vertical-align:middle;\" /></a></td></tr>\n",
       "<tr><td>28</td><td>Operation</td><td>operator:&nbsp;31<br>operands:&nbsp;32<br></td><td><a class=\"ProveItLink\" href=\"../../../../__pv_it/common/b9e9018d171116149bdedabe5a7f218a7c2cbffd0/expr.ipynb\"><img src=\"../../../../__pv_it/common/b9e9018d171116149bdedabe5a7f218a7c2cbffd0/expr.png\" style=\"display:inline;vertical-align:middle;\" /></a></td></tr>\n",
       "<tr><td>29</td><td>Variable</td><td></td><td><a class=\"ProveItLink\" href=\"../../../../../__pv_it/common/c06c606ec12678c58933ac85412ecadc2ae28be60/expr.ipynb\"><img src=\"../../../../../__pv_it/common/c06c606ec12678c58933ac85412ecadc2ae28be60/expr.png\" style=\"display:inline;vertical-align:middle;\" /></a></td></tr>\n",
       "<tr><td>30</td><td>Variable</td><td></td><td><a class=\"ProveItLink\" href=\"../../../../../core_expr_types/__pv_it/common/006c465e50948aa2b52285e2de47974f741255cc0/expr.ipynb\"><img src=\"../../../../../core_expr_types/__pv_it/common/006c465e50948aa2b52285e2de47974f741255cc0/expr.png\" style=\"display:inline;vertical-align:middle;\" /></a></td></tr>\n",
       "<tr><td>31</td><td>Literal</td><td></td><td><a class=\"ProveItLink\" href=\"../../../../../logic/sets/subtraction/__pv_it/common/d9e1054b3adbded49b41c35ae8486f4f2c89b6ef0/expr.ipynb\"><img src=\"../../../../../logic/sets/subtraction/__pv_it/common/d9e1054b3adbded49b41c35ae8486f4f2c89b6ef0/expr.png\" style=\"display:inline;vertical-align:middle;\" /></a></td></tr>\n",
       "<tr><td>32</td><td>ExprTuple</td><td>33, 34</td><td><a class=\"ProveItLink\" href=\"../../../../__pv_it/common/cf73702590528dd11e16808ab9eb1a0613ad6b290/expr.ipynb\"><img src=\"../../../../__pv_it/common/cf73702590528dd11e16808ab9eb1a0613ad6b290/expr.png\" style=\"display:inline;vertical-align:middle;\" /></a></td></tr>\n",
       "<tr><td>33</td><td>Literal</td><td></td><td><a class=\"ProveItLink\" href=\"../../../../number_sets/complex_numbers/__pv_it/common/d18a028138f659eda00de597c28a3447fe87eb100/expr.ipynb\"><img src=\"../../../../number_sets/complex_numbers/__pv_it/common/d18a028138f659eda00de597c28a3447fe87eb100/expr.png\" style=\"display:inline;vertical-align:middle;\" /></a></td></tr>\n",
       "<tr><td>34</td><td>Operation</td><td>operator:&nbsp;35<br>operand:&nbsp;36<br></td><td><a class=\"ProveItLink\" href=\"../../../../__pv_it/common/484aea2fcb0d54ee6c43526406da4fffc4c9d16b0/expr.ipynb\"><img src=\"../../../../__pv_it/common/484aea2fcb0d54ee6c43526406da4fffc4c9d16b0/expr.png\" style=\"display:inline;vertical-align:middle;\" /></a></td></tr>\n",
       "<tr><td>35</td><td>Literal</td><td></td><td><a class=\"ProveItLink\" href=\"../../../../../logic/sets/enumeration/__pv_it/common/0ead90ccbf4f17bc585a51f8aa904bb77916ae6e0/expr.ipynb\"><img src=\"../../../../../logic/sets/enumeration/__pv_it/common/0ead90ccbf4f17bc585a51f8aa904bb77916ae6e0/expr.png\" style=\"display:inline;vertical-align:middle;\" /></a></td></tr>\n",
       "<tr><td>36</td><td>Literal</td><td></td><td><a class=\"ProveItLink\" href=\"../../../../numerals/__pv_it/common/7d0a36793ffe8d307a5c120ee5598162e8cd2db10/expr.ipynb\"><img src=\"../../../../numerals/__pv_it/common/7d0a36793ffe8d307a5c120ee5598162e8cd2db10/expr.png\" style=\"display:inline;vertical-align:middle;\" /></a></td></tr>\n",
       "</table>\n"
      ],
      "text/plain": [
       "0. n -> {forall_{a_{1}, ..a_{_a}.., a_{n} in Complex - {0}} ((a_{1} * ..a_{_a}.. * a_{n}) != 0) if n in Natural.\n",
       "   core type: Lambda\n",
       "   parameter: 24\n",
       "   body: 1\n",
       "1. {forall_{a_{1}, ..a_{_a}.., a_{n} in Complex - {0}} ((a_{1} * ..a_{_a}.. * a_{n}) != 0) if n in Natural.\n",
       "   core type: Conditional\n",
       "   value: 2\n",
       "   condition: 3\n",
       "2. forall_{a_{1}, ..a_{_a}.., a_{n} in Complex - {0}} ((a_{1} * ..a_{_a}.. * a_{n}) != 0)\n",
       "   core type: Operation\n",
       "   operator: 4\n",
       "   operand: 5\n",
       "3. n in Natural\n",
       "   core type: Operation\n",
       "   operator: 25\n",
       "   operands: 6\n",
       "4. forall\n",
       "   core type: Literal\n",
       "   sub-expressions: \n",
       "5. (a_{1}, ..a_{_a}.., a_{n}) -> {(a_{1} * ..a_{_a}.. * a_{n}) != 0 if (a_{1} in (Complex - {0})) and ..(a_{_a} in (Complex - {0})).. and (a_{n} in (Complex - {0})).\n",
       "   core type: Lambda\n",
       "   parameters: 18\\n   body: 7\n",
       "6. (n, Natural)\n",
       "   core type: ExprTuple\n",
       "   sub-expressions: 24, 8\n",
       "7. {(a_{1} * ..a_{_a}.. * a_{n}) != 0 if (a_{1} in (Complex - {0})) and ..(a_{_a} in (Complex - {0})).. and (a_{n} in (Complex - {0})).\n",
       "   core type: Conditional\n",
       "   value: 9\n",
       "   condition: 10\n",
       "8. Natural\n",
       "   core type: Literal\n",
       "   sub-expressions: \n",
       "9. (a_{1} * ..a_{_a}.. * a_{n}) != 0\n",
       "   core type: Operation\n",
       "   operator: 11\n",
       "   operands: 12\n",
       "10. (a_{1} in (Complex - {0})) and ..(a_{_a} in (Complex - {0})).. and (a_{n} in (Complex - {0}))\n",
       "    core type: Operation\n",
       "    operator: 13\n",
       "    operands: 14\n",
       "11. !=\n",
       "    core type: Literal\n",
       "    sub-expressions: \n",
       "12. (a_{1} * ..a_{_a}.. * a_{n}, 0)\n",
       "    core type: ExprTuple\n",
       "    sub-expressions: 15, 36\n",
       "13. and\n",
       "    core type: Literal\n",
       "    sub-expressions: \n",
       "14. (a_{1} in (Complex - {0}), ..a_{_a} in (Complex - {0}).., a_{n} in (Complex - {0}))\n",
       "    core type: ExprTuple\n",
       "    sub-expressions: 16\n",
       "15. a_{1} * ..a_{_a}.. * a_{n}\n",
       "    core type: Operation\n",
       "    operator: 17\n",
       "    operands: 18\n",
       "16. (a_{1} in (Complex - {0})), ..(a_{_a} in (Complex - {0})).., (a_{n} in (Complex - {0}))\n",
       "    core type: ExprRange\n",
       "    lambda_map: 19\n",
       "    start_index: 23\n",
       "    end_index: 24\n",
       "17. *\n",
       "    core type: Literal\n",
       "    sub-expressions: \n",
       "18. (a_{1}, ..a_{_a}.., a_{n})\n",
       "    core type: ExprTuple\n",
       "    sub-expressions: 20\n",
       "19. _a -> (a_{_a} in (Complex - {0}))\n",
       "    core type: Lambda\n",
       "    parameter: 30\n",
       "    body: 21\n",
       "20. a_{1}, ..a_{_a}.., a_{n}\n",
       "    core type: ExprRange\n",
       "    lambda_map: 22\n",
       "    start_index: 23\n",
       "    end_index: 24\n",
       "21. a_{_a} in (Complex - {0})\n",
       "    core type: Operation\n",
       "    operator: 25\n",
       "    operands: 26\n",
       "22. _a -> a_{_a}\n",
       "    core type: Lambda\n",
       "    parameter: 30\n",
       "    body: 27\n",
       "23. 1\n",
       "    core type: Literal\n",
       "    sub-expressions: \n",
       "24. n\n",
       "    core type: Variable\n",
       "    sub-expressions: \n",
       "25. in\n",
       "    core type: Literal\n",
       "    sub-expressions: \n",
       "26. (a_{_a}, Complex - {0})\n",
       "    core type: ExprTuple\n",
       "    sub-expressions: 27, 28\n",
       "27. a_{_a}\n",
       "    core type: IndexedVar\n",
       "variable: 29\n",
       "index: 30\n",
       "28. Complex - {0}\n",
       "    core type: Operation\n",
       "    operator: 31\n",
       "    operands: 32\n",
       "29. a\n",
       "    core type: Variable\n",
       "    sub-expressions: \n",
       "30. _a\n",
       "    core type: Variable\n",
       "    sub-expressions: \n",
       "31. -\n",
       "    core type: Literal\n",
       "    sub-expressions: \n",
       "32. (Complex, {0})\n",
       "    core type: ExprTuple\n",
       "    sub-expressions: 33, 34\n",
       "33. Complex\n",
       "    core type: Literal\n",
       "    sub-expressions: \n",
       "34. {0}\n",
       "    core type: Operation\n",
       "    operator: 35\n",
       "    operand: 36\n",
       "35. Set\n",
       "    core type: Literal\n",
       "    sub-expressions: \n",
       "36. 0\n",
       "    core type: Literal\n",
       "    sub-expressions: "
      ]
     },
     "execution_count": 5,
     "metadata": {},
     "output_type": "execute_result"
    }
   ],
   "source": [
    "# display the expression information\n",
    "expr.expr_info()"
   ]
  },
  {
   "cell_type": "code",
   "execution_count": null,
   "metadata": {},
   "outputs": [],
   "source": []
  }
 ],
 "metadata": {
  "kernelspec": {
   "display_name": "Python 3",
   "language": "python",
   "name": "python3"
  }
 },
 "nbformat": 4,
 "nbformat_minor": 0
}