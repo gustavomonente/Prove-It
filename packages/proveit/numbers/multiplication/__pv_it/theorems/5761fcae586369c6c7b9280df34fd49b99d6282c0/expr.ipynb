{
 "cells": [
  {
   "cell_type": "markdown",
   "metadata": {},
   "source": [
    "Expression of type <a class=\"ProveItLink\" href=\"../../../../../../../doc/html/api/proveit.logic.Equals.html\">Equals</a>\n",
    "=======================\n",
    "# from the theory of <a class=\"ProveItLink\" href=\"../../../_theory_nbs_/theory.ipynb\">proveit.numbers.multiplication</a>"
   ]
  },
  {
   "cell_type": "code",
   "execution_count": 1,
   "metadata": {},
   "outputs": [],
   "source": [
    "import proveit\n",
    "# Automation is not needed when building an expression:\n",
    "proveit.defaults.automation = False # This will speed things up.\n",
    "proveit.defaults.inline_pngs = False # Makes files smaller.\n",
    "%load_expr # Load the stored expression as 'stored_expr'\n",
    "# import Expression classes needed to build the expression\n",
    "from proveit import Function, P, Q\n",
    "from proveit.core_expr_types import a_1_to_i, b_1_to_j, c_1_to_k\n",
    "from proveit.logic import Equals\n",
    "from proveit.numbers import Mult, Sum"
   ]
  },
  {
   "cell_type": "code",
   "execution_count": 2,
   "metadata": {},
   "outputs": [
    {
     "data": {
      "text/html": [
       "<strong id=\"expr\">expr:</strong> <a class=\"ProveItLink\" href=\"expr.ipynb\"><img src=\"expr.png\" style=\"display:inline;vertical-align:middle;\" /></a><br>"
      ],
      "text/plain": [
       "expr: (a_{1} * ..a_{_a}.. * a_{i} * Sum_{b_{1}, ..b_{_a}.., b_{j} | Q(b_{1}, ..b_{_a}.., b_{j})} P(b_{1}, ..b_{_a}.., b_{j}) * c_{1} * ..c_{_a}.. * c_{k}) =  \\\\ Sum_{b_{1}, ..b_{_a}.., b_{j} | Q(b_{1}, ..b_{_a}.., b_{j})} (a_{1} * ..a_{_a}.. * a_{i} * P(b_{1}, ..b_{_a}.., b_{j}) * c_{1} * ..c_{_a}.. * c_{k})"
      ]
     },
     "execution_count": 2,
     "metadata": {},
     "output_type": "execute_result"
    }
   ],
   "source": [
    "# build up the expression from sub-expressions\n",
    "sub_expr1 = [b_1_to_j]\n",
    "sub_expr2 = Function(P, sub_expr1)\n",
    "sub_expr3 = Function(Q, sub_expr1)\n",
    "expr = Equals(Mult(a_1_to_i, Sum(sub_expr1, sub_expr2, condition = sub_expr3), c_1_to_k), Sum(sub_expr1, Mult(a_1_to_i, sub_expr2, c_1_to_k), condition = sub_expr3)).with_wrapping_at(2)"
   ]
  },
  {
   "cell_type": "code",
   "execution_count": 3,
   "metadata": {},
   "outputs": [
    {
     "name": "stdout",
     "output_type": "stream",
     "text": [
      "Passed sanity check: expr matches stored_expr\n"
     ]
    }
   ],
   "source": [
    "# check that the built expression is the same as the stored expression\n",
    "assert expr == stored_expr\n",
    "assert expr._style_id == stored_expr._style_id\n",
    "print(\"Passed sanity check: expr matches stored_expr\")"
   ]
  },
  {
   "cell_type": "code",
   "execution_count": 4,
   "metadata": {},
   "outputs": [
    {
     "name": "stdout",
     "output_type": "stream",
     "text": [
      "\\begin{array}{c} \\begin{array}{l} \\left(a_{1} \\cdot \\ldots \\cdot a_{i} \\cdot \\sum_{b_{1}, \\ldots, b_{j}~|~Q(b_{1}, \\ldots, b_{j})}~P(b_{1}, \\ldots, b_{j}) \\cdot c_{1} \\cdot \\ldots \\cdot c_{k}\\right) =  \\\\ \\sum_{b_{1}, \\ldots, b_{j}~|~Q(b_{1}, \\ldots, b_{j})}~\\left(a_{1} \\cdot \\ldots \\cdot a_{i} \\cdot P(b_{1}, \\ldots, b_{j}) \\cdot c_{1} \\cdot \\ldots \\cdot c_{k}\\right) \\end{array} \\end{array}\n"
     ]
    }
   ],
   "source": [
    "# Show the LaTeX representation of the expression for convenience if you need it.\n",
    "print(expr.latex())"
   ]
  },
  {
   "cell_type": "code",
   "execution_count": 5,
   "metadata": {},
   "outputs": [
    {
     "data": {
      "text/html": [
       "<table>\n",
       "<tr><th>name</th><th>description</th><th>default</th><th>current value</th><th>related methods</th></tr><tr><td>operation</td><td>'infix' or 'function' style formatting</td><td>infix</td><td>infix</td><td></td></tr>\n",
       "<tr><td>wrap_positions</td><td>position(s) at which wrapping is to occur; '2 n - 1' is after the nth operand, '2 n' is after the nth operation.</td><td>()</td><td>(2)</td><td>('with_wrapping_at', 'with_wrap_before_operator', 'with_wrap_after_operator', 'wrap_positions')</td></tr>\n",
       "<tr><td>justification</td><td>if any wrap positions are set, justify to the 'left', 'center', or 'right'</td><td>center</td><td>center</td><td>('with_justification',)</td></tr>\n",
       "<tr><td>direction</td><td>Direction of the relation (normal or reversed)</td><td>normal</td><td>normal</td><td>('with_direction_reversed', 'is_reversed')</td></tr>\n",
       "</table>\n"
      ],
      "text/plain": [
       "style name: operation\n",
       "description: 'infix' or 'function' style formatting\n",
       "default: infix\n",
       "current value: infix\n",
       "related methods: ()\n",
       "style name: wrap_positions\n",
       "description: position(s) at which wrapping is to occur; '2 n - 1' is after the nth operand, '2 n' is after the nth operation.\n",
       "default: ()\n",
       "current value: (2)\n",
       "related methods: ('with_wrapping_at', 'with_wrap_before_operator', 'with_wrap_after_operator', 'wrap_positions')\n",
       "style name: justification\n",
       "description: if any wrap positions are set, justify to the 'left', 'center', or 'right'\n",
       "default: center\n",
       "current value: center\n",
       "related methods: ('with_justification',)\n",
       "style name: direction\n",
       "description: Direction of the relation (normal or reversed)\n",
       "default: normal\n",
       "current value: normal\n",
       "related methods: ('with_direction_reversed', 'is_reversed')"
      ]
     },
     "execution_count": 5,
     "metadata": {},
     "output_type": "execute_result"
    }
   ],
   "source": [
    "expr.style_options()"
   ]
  },
  {
   "cell_type": "code",
   "execution_count": 6,
   "metadata": {},
   "outputs": [
    {
     "data": {
      "text/html": [
       "<table><tr><th>&nbsp;</th><th>core type</th><th>sub-expressions</th><th>expression</th></tr>\n",
       "<tr><td>0</td><td>Operation</td><td>operator:&nbsp;1<br>operands:&nbsp;2<br></td><td><a class=\"ProveItLink\" href=\"expr.ipynb\"><img src=\"expr.png\" style=\"display:inline;vertical-align:middle;\" /></a></td></tr>\n",
       "<tr><td>1</td><td>Literal</td><td></td><td><a class=\"ProveItLink\" href=\"../../../../../logic/equality/__pv_it/common/731dd3955b346c1320ed5c0ba7a618bcda61457d0/expr.ipynb\"><img src=\"../../../../../logic/equality/__pv_it/common/731dd3955b346c1320ed5c0ba7a618bcda61457d0/expr.png\" style=\"display:inline;vertical-align:middle;\" /></a></td></tr>\n",
       "<tr><td>2</td><td>ExprTuple</td><td>3, 4</td><td><a class=\"ProveItLink\" href=\"../0c81260b6f4fb51b30a3e13ab2d23bab802284550/expr.ipynb\"><img src=\"../0c81260b6f4fb51b30a3e13ab2d23bab802284550/expr.png\" style=\"display:inline;vertical-align:middle;\" /></a></td></tr>\n",
       "<tr><td>3</td><td>Operation</td><td>operator:&nbsp;15<br>operands:&nbsp;5<br></td><td><a class=\"ProveItLink\" href=\"../26e42e76c3e6213e71b461bac37bbd302b3090330/expr.ipynb\"><img src=\"../26e42e76c3e6213e71b461bac37bbd302b3090330/expr.png\" style=\"display:inline;vertical-align:middle;\" /></a></td></tr>\n",
       "<tr><td>4</td><td>Operation</td><td>operator:&nbsp;9<br>operand:&nbsp;8<br></td><td><a class=\"ProveItLink\" href=\"../0d81ad33df9342995fad5a13d8a48cec8958d9ba0/expr.ipynb\"><img src=\"../0d81ad33df9342995fad5a13d8a48cec8958d9ba0/expr.png\" style=\"display:inline;vertical-align:middle;\" /></a></td></tr>\n",
       "<tr><td>5</td><td>ExprTuple</td><td>18, 7, 20</td><td><a class=\"ProveItLink\" href=\"../022e526d7287adabc6824e278695adf59867ff7d0/expr.ipynb\"><img src=\"../022e526d7287adabc6824e278695adf59867ff7d0/expr.png\" style=\"display:inline;vertical-align:middle;\" /></a></td></tr>\n",
       "<tr><td>6</td><td>ExprTuple</td><td>8</td><td><a class=\"ProveItLink\" href=\"../f98f0d37b412814869860aa79de3dd643661cf960/expr.ipynb\"><img src=\"../f98f0d37b412814869860aa79de3dd643661cf960/expr.png\" style=\"display:inline;vertical-align:middle;\" /></a></td></tr>\n",
       "<tr><td>7</td><td>Operation</td><td>operator:&nbsp;9<br>operand:&nbsp;12<br></td><td><a class=\"ProveItLink\" href=\"../3231085b98af685434cdd57b2676b20fdc1815eb0/expr.ipynb\"><img src=\"../3231085b98af685434cdd57b2676b20fdc1815eb0/expr.png\" style=\"display:inline;vertical-align:middle;\" /></a></td></tr>\n",
       "<tr><td>8</td><td>Lambda</td><td>parameters:&nbsp;25<br>body:&nbsp;11<br></td><td><a class=\"ProveItLink\" href=\"../f8c610b55295574bc7d5b443698fc70f16a3b3aa0/expr.ipynb\"><img src=\"../f8c610b55295574bc7d5b443698fc70f16a3b3aa0/expr.png\" style=\"display:inline;vertical-align:middle;\" /></a></td></tr>\n",
       "<tr><td>9</td><td>Literal</td><td></td><td><a class=\"ProveItLink\" href=\"../../../../summation/__pv_it/common/7101522f5ec444406c864c64c7848ef7ed7131f10/expr.ipynb\"><img src=\"../../../../summation/__pv_it/common/7101522f5ec444406c864c64c7848ef7ed7131f10/expr.png\" style=\"display:inline;vertical-align:middle;\" /></a></td></tr>\n",
       "<tr><td>10</td><td>ExprTuple</td><td>12</td><td><a class=\"ProveItLink\" href=\"../e94b7d05c8df524acf4939ff69766efc16c590a30/expr.ipynb\"><img src=\"../e94b7d05c8df524acf4939ff69766efc16c590a30/expr.png\" style=\"display:inline;vertical-align:middle;\" /></a></td></tr>\n",
       "<tr><td>11</td><td>Conditional</td><td>value:&nbsp;13<br>condition:&nbsp;17<br></td><td><a class=\"ProveItLink\" href=\"../27a7a28091cd9b0215cbb19a2fda14b3e40d523d0/expr.ipynb\"><img src=\"../27a7a28091cd9b0215cbb19a2fda14b3e40d523d0/expr.png\" style=\"display:inline;vertical-align:middle;\" /></a></td></tr>\n",
       "<tr><td>12</td><td>Lambda</td><td>parameters:&nbsp;25<br>body:&nbsp;14<br></td><td><a class=\"ProveItLink\" href=\"../3866e23dbdbc0c0446fa460812c54bed9792ee340/expr.ipynb\"><img src=\"../3866e23dbdbc0c0446fa460812c54bed9792ee340/expr.png\" style=\"display:inline;vertical-align:middle;\" /></a></td></tr>\n",
       "<tr><td>13</td><td>Operation</td><td>operator:&nbsp;15<br>operands:&nbsp;16<br></td><td><a class=\"ProveItLink\" href=\"../fbb19bb85ed325793951430bd361f8f10d09a9a20/expr.ipynb\"><img src=\"../fbb19bb85ed325793951430bd361f8f10d09a9a20/expr.png\" style=\"display:inline;vertical-align:middle;\" /></a></td></tr>\n",
       "<tr><td>14</td><td>Conditional</td><td>value:&nbsp;19<br>condition:&nbsp;17<br></td><td><a class=\"ProveItLink\" href=\"../36f4ebc44d5ba5f8e303382632e95fa78d62fa270/expr.ipynb\"><img src=\"../36f4ebc44d5ba5f8e303382632e95fa78d62fa270/expr.png\" style=\"display:inline;vertical-align:middle;\" /></a></td></tr>\n",
       "<tr><td>15</td><td>Literal</td><td></td><td><a class=\"ProveItLink\" href=\"../../common/c57d60974865e78d434abd3ff22c405685c80ade0/expr.ipynb\"><img src=\"../../common/c57d60974865e78d434abd3ff22c405685c80ade0/expr.png\" style=\"display:inline;vertical-align:middle;\" /></a></td></tr>\n",
       "<tr><td>16</td><td>ExprTuple</td><td>18, 19, 20</td><td><a class=\"ProveItLink\" href=\"../cc67e8f20dae75e6449ef82f5132d5ba5c4d079a0/expr.ipynb\"><img src=\"../cc67e8f20dae75e6449ef82f5132d5ba5c4d079a0/expr.png\" style=\"display:inline;vertical-align:middle;\" /></a></td></tr>\n",
       "<tr><td>17</td><td>Operation</td><td>operator:&nbsp;21<br>operands:&nbsp;25<br></td><td><a class=\"ProveItLink\" href=\"../a497c6a803176020f9427cfd45d502579e2dd2f40/expr.ipynb\"><img src=\"../a497c6a803176020f9427cfd45d502579e2dd2f40/expr.png\" style=\"display:inline;vertical-align:middle;\" /></a></td></tr>\n",
       "<tr><td>18</td><td>ExprRange</td><td>lambda_map:&nbsp;22<br>start_index:&nbsp;33<br>end_index:&nbsp;23<br></td><td><a class=\"ProveItLink\" href=\"../../../../../core_expr_types/__pv_it/common/a8faf3b27fe552f144fda91135c3a6148ee990d00/expr.ipynb\"><img src=\"../../../../../core_expr_types/__pv_it/common/a8faf3b27fe552f144fda91135c3a6148ee990d00/expr.png\" style=\"display:inline;vertical-align:middle;\" /></a></td></tr>\n",
       "<tr><td>19</td><td>Operation</td><td>operator:&nbsp;24<br>operands:&nbsp;25<br></td><td><a class=\"ProveItLink\" href=\"../599bb2280dae699c0d40b15fcac145fd069472050/expr.ipynb\"><img src=\"../599bb2280dae699c0d40b15fcac145fd069472050/expr.png\" style=\"display:inline;vertical-align:middle;\" /></a></td></tr>\n",
       "<tr><td>20</td><td>ExprRange</td><td>lambda_map:&nbsp;26<br>start_index:&nbsp;33<br>end_index:&nbsp;27<br></td><td><a class=\"ProveItLink\" href=\"../../../../../core_expr_types/__pv_it/common/e5ab10ecb1213855885ff9d519535937d38362440/expr.ipynb\"><img src=\"../../../../../core_expr_types/__pv_it/common/e5ab10ecb1213855885ff9d519535937d38362440/expr.png\" style=\"display:inline;vertical-align:middle;\" /></a></td></tr>\n",
       "<tr><td>21</td><td>Variable</td><td></td><td><a class=\"ProveItLink\" href=\"../../../../../__pv_it/common/50527aea954422d65ebe44b8de200683294751540/expr.ipynb\"><img src=\"../../../../../__pv_it/common/50527aea954422d65ebe44b8de200683294751540/expr.png\" style=\"display:inline;vertical-align:middle;\" /></a></td></tr>\n",
       "<tr><td>22</td><td>Lambda</td><td>parameter:&nbsp;39<br>body:&nbsp;28<br></td><td><a class=\"ProveItLink\" href=\"../../../../../core_expr_types/__pv_it/common/99ea59f1b92e70eddeee736182b1abeb9f49c91b0/expr.ipynb\"><img src=\"../../../../../core_expr_types/__pv_it/common/99ea59f1b92e70eddeee736182b1abeb9f49c91b0/expr.png\" style=\"display:inline;vertical-align:middle;\" /></a></td></tr>\n",
       "<tr><td>23</td><td>Variable</td><td></td><td><a class=\"ProveItLink\" href=\"../../../../../__pv_it/common/575a6156bb1c87c5beeaf38c302b5905ad57f5780/expr.ipynb\"><img src=\"../../../../../__pv_it/common/575a6156bb1c87c5beeaf38c302b5905ad57f5780/expr.png\" style=\"display:inline;vertical-align:middle;\" /></a></td></tr>\n",
       "<tr><td>24</td><td>Variable</td><td></td><td><a class=\"ProveItLink\" href=\"../../../../../__pv_it/common/d5fc3066299847984076662ce51556220bdb6cfb0/expr.ipynb\"><img src=\"../../../../../__pv_it/common/d5fc3066299847984076662ce51556220bdb6cfb0/expr.png\" style=\"display:inline;vertical-align:middle;\" /></a></td></tr>\n",
       "<tr><td>25</td><td>ExprTuple</td><td>29</td><td><a class=\"ProveItLink\" href=\"../a2e0aa3cd09e2ae1fb3ed71187961ee11f956f360/expr.ipynb\"><img src=\"../a2e0aa3cd09e2ae1fb3ed71187961ee11f956f360/expr.png\" style=\"display:inline;vertical-align:middle;\" /></a></td></tr>\n",
       "<tr><td>26</td><td>Lambda</td><td>parameter:&nbsp;39<br>body:&nbsp;30<br></td><td><a class=\"ProveItLink\" href=\"../../../../../core_expr_types/__pv_it/common/a194210cc943a5475599de362bce34740df0415a0/expr.ipynb\"><img src=\"../../../../../core_expr_types/__pv_it/common/a194210cc943a5475599de362bce34740df0415a0/expr.png\" style=\"display:inline;vertical-align:middle;\" /></a></td></tr>\n",
       "<tr><td>27</td><td>Variable</td><td></td><td><a class=\"ProveItLink\" href=\"../../../../../__pv_it/common/b9fd37fc619babc74a6203459f110251586df6970/expr.ipynb\"><img src=\"../../../../../__pv_it/common/b9fd37fc619babc74a6203459f110251586df6970/expr.png\" style=\"display:inline;vertical-align:middle;\" /></a></td></tr>\n",
       "<tr><td>28</td><td>IndexedVar</td><td>variable:&nbsp;31<br>index:&nbsp;39<br></td><td><a class=\"ProveItLink\" href=\"../../../../../core_expr_types/__pv_it/common/d8d3053e77ba1db68c0cd106952422881db586670/expr.ipynb\"><img src=\"../../../../../core_expr_types/__pv_it/common/d8d3053e77ba1db68c0cd106952422881db586670/expr.png\" style=\"display:inline;vertical-align:middle;\" /></a></td></tr>\n",
       "<tr><td>29</td><td>ExprRange</td><td>lambda_map:&nbsp;32<br>start_index:&nbsp;33<br>end_index:&nbsp;34<br></td><td><a class=\"ProveItLink\" href=\"../../../../../core_expr_types/__pv_it/common/843f06cfd46cad7e330a92113934c3e3eb2d9cf50/expr.ipynb\"><img src=\"../../../../../core_expr_types/__pv_it/common/843f06cfd46cad7e330a92113934c3e3eb2d9cf50/expr.png\" style=\"display:inline;vertical-align:middle;\" /></a></td></tr>\n",
       "<tr><td>30</td><td>IndexedVar</td><td>variable:&nbsp;35<br>index:&nbsp;39<br></td><td><a class=\"ProveItLink\" href=\"../../../../../core_expr_types/__pv_it/common/9bc0e9f465041db0a300264677d344fd5e47b7ea0/expr.ipynb\"><img src=\"../../../../../core_expr_types/__pv_it/common/9bc0e9f465041db0a300264677d344fd5e47b7ea0/expr.png\" style=\"display:inline;vertical-align:middle;\" /></a></td></tr>\n",
       "<tr><td>31</td><td>Variable</td><td></td><td><a class=\"ProveItLink\" href=\"../../../../../__pv_it/common/66c90e66682f107a881f2d666959f64e2e72ad750/expr.ipynb\"><img src=\"../../../../../__pv_it/common/66c90e66682f107a881f2d666959f64e2e72ad750/expr.png\" style=\"display:inline;vertical-align:middle;\" /></a></td></tr>\n",
       "<tr><td>32</td><td>Lambda</td><td>parameter:&nbsp;39<br>body:&nbsp;36<br></td><td><a class=\"ProveItLink\" href=\"../../../../../core_expr_types/__pv_it/common/ba19487284205e8bd037599d68730451639874da0/expr.ipynb\"><img src=\"../../../../../core_expr_types/__pv_it/common/ba19487284205e8bd037599d68730451639874da0/expr.png\" style=\"display:inline;vertical-align:middle;\" /></a></td></tr>\n",
       "<tr><td>33</td><td>Literal</td><td></td><td><a class=\"ProveItLink\" href=\"../../../../numerals/__pv_it/common/d278e359da0695d9652dd541d45264f93703e2e40/expr.ipynb\"><img src=\"../../../../numerals/__pv_it/common/d278e359da0695d9652dd541d45264f93703e2e40/expr.png\" style=\"display:inline;vertical-align:middle;\" /></a></td></tr>\n",
       "<tr><td>34</td><td>Variable</td><td></td><td><a class=\"ProveItLink\" href=\"../../../../../__pv_it/common/5514cc9a63b9c2ed9b63934dd5e088ab0d4f10080/expr.ipynb\"><img src=\"../../../../../__pv_it/common/5514cc9a63b9c2ed9b63934dd5e088ab0d4f10080/expr.png\" style=\"display:inline;vertical-align:middle;\" /></a></td></tr>\n",
       "<tr><td>35</td><td>Variable</td><td></td><td><a class=\"ProveItLink\" href=\"../../../../../__pv_it/common/9a9d28748f90dec84e90f2ace4610208194e524e0/expr.ipynb\"><img src=\"../../../../../__pv_it/common/9a9d28748f90dec84e90f2ace4610208194e524e0/expr.png\" style=\"display:inline;vertical-align:middle;\" /></a></td></tr>\n",
       "<tr><td>36</td><td>IndexedVar</td><td>variable:&nbsp;37<br>index:&nbsp;39<br></td><td><a class=\"ProveItLink\" href=\"../../../../../core_expr_types/__pv_it/common/d970eb18e3a42edf466b1db01e5cbdd3ba6971b60/expr.ipynb\"><img src=\"../../../../../core_expr_types/__pv_it/common/d970eb18e3a42edf466b1db01e5cbdd3ba6971b60/expr.png\" style=\"display:inline;vertical-align:middle;\" /></a></td></tr>\n",
       "<tr><td>37</td><td>Variable</td><td></td><td><a class=\"ProveItLink\" href=\"../../../../../__pv_it/common/4a5db8cc5c67969ec864bd3ea598be37cb6f5e550/expr.ipynb\"><img src=\"../../../../../__pv_it/common/4a5db8cc5c67969ec864bd3ea598be37cb6f5e550/expr.png\" style=\"display:inline;vertical-align:middle;\" /></a></td></tr>\n",
       "<tr><td>38</td><td>ExprTuple</td><td>39</td><td><a class=\"ProveItLink\" href=\"../../../../../core_expr_types/__pv_it/common/ecf50ade416ab41c42c9f4e777b4c862cd9469670/expr.ipynb\"><img src=\"../../../../../core_expr_types/__pv_it/common/ecf50ade416ab41c42c9f4e777b4c862cd9469670/expr.png\" style=\"display:inline;vertical-align:middle;\" /></a></td></tr>\n",
       "<tr><td>39</td><td>Variable</td><td></td><td><a class=\"ProveItLink\" href=\"../../../../../core_expr_types/__pv_it/common/9e6d9d5d7eeb0342cf5bca68def0eb165a1a9bb10/expr.ipynb\"><img src=\"../../../../../core_expr_types/__pv_it/common/9e6d9d5d7eeb0342cf5bca68def0eb165a1a9bb10/expr.png\" style=\"display:inline;vertical-align:middle;\" /></a></td></tr>\n",
       "</table>\n"
      ],
      "text/plain": [
       "0. (a_{1} * ..a_{_a}.. * a_{i} * Sum_{b_{1}, ..b_{_a}.., b_{j} | Q(b_{1}, ..b_{_a}.., b_{j})} P(b_{1}, ..b_{_a}.., b_{j}) * c_{1} * ..c_{_a}.. * c_{k}) =  \\\\ Sum_{b_{1}, ..b_{_a}.., b_{j} | Q(b_{1}, ..b_{_a}.., b_{j})} (a_{1} * ..a_{_a}.. * a_{i} * P(b_{1}, ..b_{_a}.., b_{j}) * c_{1} * ..c_{_a}.. * c_{k})\n",
       "   core type: Operation\n",
       "   operator: 1\n",
       "   operands: 2\n",
       "1. =\n",
       "   core type: Literal\n",
       "   sub-expressions: \n",
       "2. (a_{1} * ..a_{_a}.. * a_{i} * Sum_{b_{1}, ..b_{_a}.., b_{j} | Q(b_{1}, ..b_{_a}.., b_{j})} P(b_{1}, ..b_{_a}.., b_{j}) * c_{1} * ..c_{_a}.. * c_{k}, Sum_{b_{1}, ..b_{_a}.., b_{j} | Q(b_{1}, ..b_{_a}.., b_{j})} (a_{1} * ..a_{_a}.. * a_{i} * P(b_{1}, ..b_{_a}.., b_{j}) * c_{1} * ..c_{_a}.. * c_{k}))\n",
       "   core type: ExprTuple\n",
       "   sub-expressions: 3, 4\n",
       "3. a_{1} * ..a_{_a}.. * a_{i} * Sum_{b_{1}, ..b_{_a}.., b_{j} | Q(b_{1}, ..b_{_a}.., b_{j})} P(b_{1}, ..b_{_a}.., b_{j}) * c_{1} * ..c_{_a}.. * c_{k}\n",
       "   core type: Operation\n",
       "   operator: 15\n",
       "   operands: 5\n",
       "4. Sum_{b_{1}, ..b_{_a}.., b_{j} | Q(b_{1}, ..b_{_a}.., b_{j})} (a_{1} * ..a_{_a}.. * a_{i} * P(b_{1}, ..b_{_a}.., b_{j}) * c_{1} * ..c_{_a}.. * c_{k})\n",
       "   core type: Operation\n",
       "   operator: 9\n",
       "   operand: 8\n",
       "5. (a_{1}, ..a_{_a}.., a_{i}, Sum_{b_{1}, ..b_{_a}.., b_{j} | Q(b_{1}, ..b_{_a}.., b_{j})} P(b_{1}, ..b_{_a}.., b_{j}), c_{1}, ..c_{_a}.., c_{k})\n",
       "   core type: ExprTuple\n",
       "   sub-expressions: 18, 7, 20\n",
       "6. ((b_{1}, ..b_{_a}.., b_{j}) -> {a_{1} * ..a_{_a}.. * a_{i} * P(b_{1}, ..b_{_a}.., b_{j}) * c_{1} * ..c_{_a}.. * c_{k} if Q(b_{1}, ..b_{_a}.., b_{j}).)\n",
       "   core type: ExprTuple\n",
       "   sub-expressions: 8\n",
       "7. Sum_{b_{1}, ..b_{_a}.., b_{j} | Q(b_{1}, ..b_{_a}.., b_{j})} P(b_{1}, ..b_{_a}.., b_{j})\n",
       "   core type: Operation\n",
       "   operator: 9\n",
       "   operand: 12\n",
       "8. (b_{1}, ..b_{_a}.., b_{j}) -> {a_{1} * ..a_{_a}.. * a_{i} * P(b_{1}, ..b_{_a}.., b_{j}) * c_{1} * ..c_{_a}.. * c_{k} if Q(b_{1}, ..b_{_a}.., b_{j}).\n",
       "   core type: Lambda\n",
       "   parameters: 25\\n   body: 11\n",
       "9. Sum\n",
       "   core type: Literal\n",
       "   sub-expressions: \n",
       "10. ((b_{1}, ..b_{_a}.., b_{j}) -> {P(b_{1}, ..b_{_a}.., b_{j}) if Q(b_{1}, ..b_{_a}.., b_{j}).)\n",
       "    core type: ExprTuple\n",
       "    sub-expressions: 12\n",
       "11. {a_{1} * ..a_{_a}.. * a_{i} * P(b_{1}, ..b_{_a}.., b_{j}) * c_{1} * ..c_{_a}.. * c_{k} if Q(b_{1}, ..b_{_a}.., b_{j}).\n",
       "    core type: Conditional\n",
       "    value: 13\n",
       "    condition: 17\n",
       "12. (b_{1}, ..b_{_a}.., b_{j}) -> {P(b_{1}, ..b_{_a}.., b_{j}) if Q(b_{1}, ..b_{_a}.., b_{j}).\n",
       "    core type: Lambda\n",
       "    parameters: 25\\n    body: 14\n",
       "13. a_{1} * ..a_{_a}.. * a_{i} * P(b_{1}, ..b_{_a}.., b_{j}) * c_{1} * ..c_{_a}.. * c_{k}\n",
       "    core type: Operation\n",
       "    operator: 15\n",
       "    operands: 16\n",
       "14. {P(b_{1}, ..b_{_a}.., b_{j}) if Q(b_{1}, ..b_{_a}.., b_{j}).\n",
       "    core type: Conditional\n",
       "    value: 19\n",
       "    condition: 17\n",
       "15. *\n",
       "    core type: Literal\n",
       "    sub-expressions: \n",
       "16. (a_{1}, ..a_{_a}.., a_{i}, P(b_{1}, ..b_{_a}.., b_{j}), c_{1}, ..c_{_a}.., c_{k})\n",
       "    core type: ExprTuple\n",
       "    sub-expressions: 18, 19, 20\n",
       "17. Q(b_{1}, ..b_{_a}.., b_{j})\n",
       "    core type: Operation\n",
       "    operator: 21\n",
       "    operands: 25\n",
       "18. a_{1}, ..a_{_a}.., a_{i}\n",
       "    core type: ExprRange\n",
       "    lambda_map: 22\n",
       "    start_index: 33\n",
       "    end_index: 23\n",
       "19. P(b_{1}, ..b_{_a}.., b_{j})\n",
       "    core type: Operation\n",
       "    operator: 24\n",
       "    operands: 25\n",
       "20. c_{1}, ..c_{_a}.., c_{k}\n",
       "    core type: ExprRange\n",
       "    lambda_map: 26\n",
       "    start_index: 33\n",
       "    end_index: 27\n",
       "21. Q\n",
       "    core type: Variable\n",
       "    sub-expressions: \n",
       "22. _a -> a_{_a}\n",
       "    core type: Lambda\n",
       "    parameter: 39\n",
       "    body: 28\n",
       "23. i\n",
       "    core type: Variable\n",
       "    sub-expressions: \n",
       "24. P\n",
       "    core type: Variable\n",
       "    sub-expressions: \n",
       "25. (b_{1}, ..b_{_a}.., b_{j})\n",
       "    core type: ExprTuple\n",
       "    sub-expressions: 29\n",
       "26. _a -> c_{_a}\n",
       "    core type: Lambda\n",
       "    parameter: 39\n",
       "    body: 30\n",
       "27. k\n",
       "    core type: Variable\n",
       "    sub-expressions: \n",
       "28. a_{_a}\n",
       "    core type: IndexedVar\n",
       "variable: 31\n",
       "index: 39\n",
       "29. b_{1}, ..b_{_a}.., b_{j}\n",
       "    core type: ExprRange\n",
       "    lambda_map: 32\n",
       "    start_index: 33\n",
       "    end_index: 34\n",
       "30. c_{_a}\n",
       "    core type: IndexedVar\n",
       "variable: 35\n",
       "index: 39\n",
       "31. a\n",
       "    core type: Variable\n",
       "    sub-expressions: \n",
       "32. _a -> b_{_a}\n",
       "    core type: Lambda\n",
       "    parameter: 39\n",
       "    body: 36\n",
       "33. 1\n",
       "    core type: Literal\n",
       "    sub-expressions: \n",
       "34. j\n",
       "    core type: Variable\n",
       "    sub-expressions: \n",
       "35. c\n",
       "    core type: Variable\n",
       "    sub-expressions: \n",
       "36. b_{_a}\n",
       "    core type: IndexedVar\n",
       "variable: 37\n",
       "index: 39\n",
       "37. b\n",
       "    core type: Variable\n",
       "    sub-expressions: \n",
       "38. (_a)\n",
       "    core type: ExprTuple\n",
       "    sub-expressions: 39\n",
       "39. _a\n",
       "    core type: Variable\n",
       "    sub-expressions: "
      ]
     },
     "execution_count": 6,
     "metadata": {},
     "output_type": "execute_result"
    }
   ],
   "source": [
    "# display the expression information\n",
    "expr.expr_info()"
   ]
  },
  {
   "cell_type": "code",
   "execution_count": null,
   "metadata": {},
   "outputs": [],
   "source": []
  }
 ],
 "metadata": {
  "kernelspec": {
   "display_name": "Python 3",
   "language": "python",
   "name": "python3"
  }
 },
 "nbformat": 4,
 "nbformat_minor": 0
}