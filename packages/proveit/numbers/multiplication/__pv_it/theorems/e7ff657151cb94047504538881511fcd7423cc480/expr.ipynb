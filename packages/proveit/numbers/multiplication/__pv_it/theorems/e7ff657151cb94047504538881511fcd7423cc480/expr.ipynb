{
 "cells": [
  {
   "cell_type": "markdown",
   "metadata": {},
   "source": [
    "Expression of type <a class=\"ProveItLink\" href=\"../../../../../../../doc/html/api/proveit.Conditional.html\">Conditional</a>\n",
    "=======================\n",
    "# from the theory of <a class=\"ProveItLink\" href=\"../../../_theory_nbs_/theory.ipynb\">proveit.numbers.multiplication</a>"
   ]
  },
  {
   "cell_type": "code",
   "execution_count": 1,
   "metadata": {},
   "outputs": [],
   "source": [
    "import proveit\n",
    "# Automation is not needed when building an expression:\n",
    "proveit.defaults.automation = False # This will speed things up.\n",
    "proveit.defaults.inline_pngs = False # Makes files smaller.\n",
    "%load_expr # Load the stored expression as 'stored_expr'\n",
    "# import Expression classes needed to build the expression\n",
    "from proveit import Conditional, n, x\n",
    "from proveit.core_expr_types import a_1_to_n\n",
    "from proveit.logic import And, Equals, Forall, InSet, Set\n",
    "from proveit.numbers import Add, Complex, Mult, Natural"
   ]
  },
  {
   "cell_type": "code",
   "execution_count": 2,
   "metadata": {},
   "outputs": [
    {
     "data": {
      "text/html": [
       "<strong id=\"expr\">expr:</strong> <a class=\"ProveItLink\" href=\"expr.ipynb\"><img src=\"expr.png\" style=\"display:inline;vertical-align:middle;\" /></a><br>"
      ],
      "text/plain": [
       "expr: {forall_{a_{1}, ..a_{_a}.., a_{n} in {x}} ((a_{1} + ..a_{_a}.. + a_{n}) = (n * x)) if n in Natural ,  x in Complex."
      ]
     },
     "execution_count": 2,
     "metadata": {},
     "output_type": "execute_result"
    }
   ],
   "source": [
    "# build up the expression from sub-expressions\n",
    "expr = Conditional(Forall([a_1_to_n], Equals(Add(a_1_to_n), Mult(n, x)), domains = [Set(x)]), And(InSet(n, Natural), InSet(x, Complex)))"
   ]
  },
  {
   "cell_type": "code",
   "execution_count": 3,
   "metadata": {},
   "outputs": [
    {
     "name": "stdout",
     "output_type": "stream",
     "text": [
      "Passed sanity check: expr matches stored_expr\n"
     ]
    }
   ],
   "source": [
    "# check that the built expression is the same as the stored expression\n",
    "assert expr == stored_expr\n",
    "assert expr._style_id == stored_expr._style_id\n",
    "print(\"Passed sanity check: expr matches stored_expr\")"
   ]
  },
  {
   "cell_type": "code",
   "execution_count": 4,
   "metadata": {},
   "outputs": [
    {
     "name": "stdout",
     "output_type": "stream",
     "text": [
      "\\left\\{\\forall_{a_{1}, \\ldots, a_{n} \\in \\left\\{x\\right\\}}~\\left(\\left(a_{1} + \\ldots + a_{n}\\right) = \\left(n \\cdot x\\right)\\right) \\textrm{ if } n \\in \\mathbb{N} ,  x \\in \\mathbb{C}\\right..\n"
     ]
    }
   ],
   "source": [
    "# Show the LaTeX representation of the expression for convenience if you need it.\n",
    "print(expr.latex())"
   ]
  },
  {
   "cell_type": "code",
   "execution_count": 5,
   "metadata": {},
   "outputs": [
    {
     "data": {
      "text/html": [
       "<table><tr><th>&nbsp;</th><th>core type</th><th>sub-expressions</th><th>expression</th></tr>\n",
       "<tr><td>0</td><td>Conditional</td><td>value:&nbsp;1<br>condition:&nbsp;2<br></td><td><a class=\"ProveItLink\" href=\"expr.ipynb\"><img src=\"expr.png\" style=\"display:inline;vertical-align:middle;\" /></a></td></tr>\n",
       "<tr><td>1</td><td>Operation</td><td>operator:&nbsp;3<br>operand:&nbsp;4<br></td><td><a class=\"ProveItLink\" href=\"../1a1210f05e0323f5e6d4fe0965baac25b5aaa4620/expr.ipynb\"><img src=\"../1a1210f05e0323f5e6d4fe0965baac25b5aaa4620/expr.png\" style=\"display:inline;vertical-align:middle;\" /></a></td></tr>\n",
       "<tr><td>2</td><td>Operation</td><td>operator:&nbsp;15<br>operands:&nbsp;5<br></td><td><a class=\"ProveItLink\" href=\"../07ff744d9055ca9504cd3dcadffd57e3137d5ac50/expr.ipynb\"><img src=\"../07ff744d9055ca9504cd3dcadffd57e3137d5ac50/expr.png\" style=\"display:inline;vertical-align:middle;\" /></a></td></tr>\n",
       "<tr><td>3</td><td>Literal</td><td></td><td><a class=\"ProveItLink\" href=\"../../../../../logic/booleans/quantification/universality/__pv_it/common/083d2baa0b8ecab1d230f9ec29a15aa1355809fb0/expr.ipynb\"><img src=\"../../../../../logic/booleans/quantification/universality/__pv_it/common/083d2baa0b8ecab1d230f9ec29a15aa1355809fb0/expr.png\" style=\"display:inline;vertical-align:middle;\" /></a></td></tr>\n",
       "<tr><td>4</td><td>Lambda</td><td>parameters:&nbsp;23<br>body:&nbsp;6<br></td><td><a class=\"ProveItLink\" href=\"../9223d82adef5946df3113c924a8c96a9b689946e0/expr.ipynb\"><img src=\"../9223d82adef5946df3113c924a8c96a9b689946e0/expr.png\" style=\"display:inline;vertical-align:middle;\" /></a></td></tr>\n",
       "<tr><td>5</td><td>ExprTuple</td><td>7, 8</td><td><a class=\"ProveItLink\" href=\"../626d733032085318cdf66f3c55f74b7d5d5331bf0/expr.ipynb\"><img src=\"../626d733032085318cdf66f3c55f74b7d5d5331bf0/expr.png\" style=\"display:inline;vertical-align:middle;\" /></a></td></tr>\n",
       "<tr><td>6</td><td>Conditional</td><td>value:&nbsp;9<br>condition:&nbsp;10<br></td><td><a class=\"ProveItLink\" href=\"../3fe4ec1c47620ca635d4d4e547cd8182bea6976c0/expr.ipynb\"><img src=\"../3fe4ec1c47620ca635d4d4e547cd8182bea6976c0/expr.png\" style=\"display:inline;vertical-align:middle;\" /></a></td></tr>\n",
       "<tr><td>7</td><td>Operation</td><td>operator:&nbsp;32<br>operands:&nbsp;11<br></td><td><a class=\"ProveItLink\" href=\"../7351e7b0b5ab4699fe31eac3b02ba02b17a05bf60/expr.ipynb\"><img src=\"../7351e7b0b5ab4699fe31eac3b02ba02b17a05bf60/expr.png\" style=\"display:inline;vertical-align:middle;\" /></a></td></tr>\n",
       "<tr><td>8</td><td>Operation</td><td>operator:&nbsp;32<br>operands:&nbsp;12<br></td><td><a class=\"ProveItLink\" href=\"../665eb28bdef08717ca4abe8886f256e37ecbb1210/expr.ipynb\"><img src=\"../665eb28bdef08717ca4abe8886f256e37ecbb1210/expr.png\" style=\"display:inline;vertical-align:middle;\" /></a></td></tr>\n",
       "<tr><td>9</td><td>Operation</td><td>operator:&nbsp;13<br>operands:&nbsp;14<br></td><td><a class=\"ProveItLink\" href=\"../9c09329b3ee9d9a4a91474738e2cabafe6d4dc930/expr.ipynb\"><img src=\"../9c09329b3ee9d9a4a91474738e2cabafe6d4dc930/expr.png\" style=\"display:inline;vertical-align:middle;\" /></a></td></tr>\n",
       "<tr><td>10</td><td>Operation</td><td>operator:&nbsp;15<br>operands:&nbsp;16<br></td><td><a class=\"ProveItLink\" href=\"../ae4abd98ea2413b58bb6ff19bf7c6338ba0ff3130/expr.ipynb\"><img src=\"../ae4abd98ea2413b58bb6ff19bf7c6338ba0ff3130/expr.png\" style=\"display:inline;vertical-align:middle;\" /></a></td></tr>\n",
       "<tr><td>11</td><td>ExprTuple</td><td>31, 17</td><td><a class=\"ProveItLink\" href=\"../361f8713efdd17d455c1f3e958d6205fdaeaf3c70/expr.ipynb\"><img src=\"../361f8713efdd17d455c1f3e958d6205fdaeaf3c70/expr.png\" style=\"display:inline;vertical-align:middle;\" /></a></td></tr>\n",
       "<tr><td>12</td><td>ExprTuple</td><td>39, 18</td><td><a class=\"ProveItLink\" href=\"../75ad744bb2803b43009bc0873a3361232799faaf0/expr.ipynb\"><img src=\"../75ad744bb2803b43009bc0873a3361232799faaf0/expr.png\" style=\"display:inline;vertical-align:middle;\" /></a></td></tr>\n",
       "<tr><td>13</td><td>Literal</td><td></td><td><a class=\"ProveItLink\" href=\"../../../../../logic/equality/__pv_it/common/fb96dc12b2aa8801dda64d0132b396c63d1502bb0/expr.ipynb\"><img src=\"../../../../../logic/equality/__pv_it/common/fb96dc12b2aa8801dda64d0132b396c63d1502bb0/expr.png\" style=\"display:inline;vertical-align:middle;\" /></a></td></tr>\n",
       "<tr><td>14</td><td>ExprTuple</td><td>19, 20</td><td><a class=\"ProveItLink\" href=\"../e51eb57d591877d95e1454b3138ec08ab58214dd0/expr.ipynb\"><img src=\"../e51eb57d591877d95e1454b3138ec08ab58214dd0/expr.png\" style=\"display:inline;vertical-align:middle;\" /></a></td></tr>\n",
       "<tr><td>15</td><td>Literal</td><td></td><td><a class=\"ProveItLink\" href=\"../../../../../logic/booleans/conjunction/__pv_it/common/42118ff318bd65d98b1393f64ce7c2269feef76e0/expr.ipynb\"><img src=\"../../../../../logic/booleans/conjunction/__pv_it/common/42118ff318bd65d98b1393f64ce7c2269feef76e0/expr.png\" style=\"display:inline;vertical-align:middle;\" /></a></td></tr>\n",
       "<tr><td>16</td><td>ExprTuple</td><td>21</td><td><a class=\"ProveItLink\" href=\"../20a905afc1b891e232a8ba713a46ef51e382068c0/expr.ipynb\"><img src=\"../20a905afc1b891e232a8ba713a46ef51e382068c0/expr.png\" style=\"display:inline;vertical-align:middle;\" /></a></td></tr>\n",
       "<tr><td>17</td><td>Literal</td><td></td><td><a class=\"ProveItLink\" href=\"../../../../number_sets/natural_numbers/__pv_it/common/8b7c321957f52ed3b05b36af612eeae4fa4783bc0/expr.ipynb\"><img src=\"../../../../number_sets/natural_numbers/__pv_it/common/8b7c321957f52ed3b05b36af612eeae4fa4783bc0/expr.png\" style=\"display:inline;vertical-align:middle;\" /></a></td></tr>\n",
       "<tr><td>18</td><td>Literal</td><td></td><td><a class=\"ProveItLink\" href=\"../../../../number_sets/complex_numbers/__pv_it/common/d18a028138f659eda00de597c28a3447fe87eb100/expr.ipynb\"><img src=\"../../../../number_sets/complex_numbers/__pv_it/common/d18a028138f659eda00de597c28a3447fe87eb100/expr.png\" style=\"display:inline;vertical-align:middle;\" /></a></td></tr>\n",
       "<tr><td>19</td><td>Operation</td><td>operator:&nbsp;22<br>operands:&nbsp;23<br></td><td><a class=\"ProveItLink\" href=\"../5c5febc2273eae7bb8214e82e4490647409a09ac0/expr.ipynb\"><img src=\"../5c5febc2273eae7bb8214e82e4490647409a09ac0/expr.png\" style=\"display:inline;vertical-align:middle;\" /></a></td></tr>\n",
       "<tr><td>20</td><td>Operation</td><td>operator:&nbsp;24<br>operands:&nbsp;25<br></td><td><a class=\"ProveItLink\" href=\"../1c4fcb2b3597b2aa2495c2e746bd4779806ff4500/expr.ipynb\"><img src=\"../1c4fcb2b3597b2aa2495c2e746bd4779806ff4500/expr.png\" style=\"display:inline;vertical-align:middle;\" /></a></td></tr>\n",
       "<tr><td>21</td><td>ExprRange</td><td>lambda_map:&nbsp;26<br>start_index:&nbsp;30<br>end_index:&nbsp;31<br></td><td><a class=\"ProveItLink\" href=\"../71fb57d81a80db728c70d47e83a03559f504709b0/expr.ipynb\"><img src=\"../71fb57d81a80db728c70d47e83a03559f504709b0/expr.png\" style=\"display:inline;vertical-align:middle;\" /></a></td></tr>\n",
       "<tr><td>22</td><td>Literal</td><td></td><td><a class=\"ProveItLink\" href=\"../../../../addition/__pv_it/common/4b7effaab3619a1c2c38fe2dee8601df8ec714590/expr.ipynb\"><img src=\"../../../../addition/__pv_it/common/4b7effaab3619a1c2c38fe2dee8601df8ec714590/expr.png\" style=\"display:inline;vertical-align:middle;\" /></a></td></tr>\n",
       "<tr><td>23</td><td>ExprTuple</td><td>27</td><td><a class=\"ProveItLink\" href=\"../78cdb68388c3521673bbf14256414916885443400/expr.ipynb\"><img src=\"../78cdb68388c3521673bbf14256414916885443400/expr.png\" style=\"display:inline;vertical-align:middle;\" /></a></td></tr>\n",
       "<tr><td>24</td><td>Literal</td><td></td><td><a class=\"ProveItLink\" href=\"../../common/ed719cef37831779c16481533a4d380a2f95ab270/expr.ipynb\"><img src=\"../../common/ed719cef37831779c16481533a4d380a2f95ab270/expr.png\" style=\"display:inline;vertical-align:middle;\" /></a></td></tr>\n",
       "<tr><td>25</td><td>ExprTuple</td><td>31, 39</td><td><a class=\"ProveItLink\" href=\"../2e49418d2c5109eee14504083053dde9e6c56efe0/expr.ipynb\"><img src=\"../2e49418d2c5109eee14504083053dde9e6c56efe0/expr.png\" style=\"display:inline;vertical-align:middle;\" /></a></td></tr>\n",
       "<tr><td>26</td><td>Lambda</td><td>parameter:&nbsp;37<br>body:&nbsp;28<br></td><td><a class=\"ProveItLink\" href=\"../2a9687f7e16af61aa0db2dffbe6531de3a3f8ee00/expr.ipynb\"><img src=\"../2a9687f7e16af61aa0db2dffbe6531de3a3f8ee00/expr.png\" style=\"display:inline;vertical-align:middle;\" /></a></td></tr>\n",
       "<tr><td>27</td><td>ExprRange</td><td>lambda_map:&nbsp;29<br>start_index:&nbsp;30<br>end_index:&nbsp;31<br></td><td><a class=\"ProveItLink\" href=\"../../../../../core_expr_types/__pv_it/common/a5f13b212a38aa0f8472b7953ca9227038e6b4f50/expr.ipynb\"><img src=\"../../../../../core_expr_types/__pv_it/common/a5f13b212a38aa0f8472b7953ca9227038e6b4f50/expr.png\" style=\"display:inline;vertical-align:middle;\" /></a></td></tr>\n",
       "<tr><td>28</td><td>Operation</td><td>operator:&nbsp;32<br>operands:&nbsp;33<br></td><td><a class=\"ProveItLink\" href=\"../18f2b2a495d39b0186308cc4e7ca44fa87b72e060/expr.ipynb\"><img src=\"../18f2b2a495d39b0186308cc4e7ca44fa87b72e060/expr.png\" style=\"display:inline;vertical-align:middle;\" /></a></td></tr>\n",
       "<tr><td>29</td><td>Lambda</td><td>parameter:&nbsp;37<br>body:&nbsp;34<br></td><td><a class=\"ProveItLink\" href=\"../../../../../core_expr_types/__pv_it/common/9f0c64ef8ae0c02b5dcba32e0fb15bd29f85872a0/expr.ipynb\"><img src=\"../../../../../core_expr_types/__pv_it/common/9f0c64ef8ae0c02b5dcba32e0fb15bd29f85872a0/expr.png\" style=\"display:inline;vertical-align:middle;\" /></a></td></tr>\n",
       "<tr><td>30</td><td>Literal</td><td></td><td><a class=\"ProveItLink\" href=\"../../../../numerals/__pv_it/common/2778428c7f555b2bdc06aa0530bc142c6e6335100/expr.ipynb\"><img src=\"../../../../numerals/__pv_it/common/2778428c7f555b2bdc06aa0530bc142c6e6335100/expr.png\" style=\"display:inline;vertical-align:middle;\" /></a></td></tr>\n",
       "<tr><td>31</td><td>Variable</td><td></td><td><a class=\"ProveItLink\" href=\"../../../../../__pv_it/common/8968bb04eb3f7dfa02353397ce929b025bbd79c20/expr.ipynb\"><img src=\"../../../../../__pv_it/common/8968bb04eb3f7dfa02353397ce929b025bbd79c20/expr.png\" style=\"display:inline;vertical-align:middle;\" /></a></td></tr>\n",
       "<tr><td>32</td><td>Literal</td><td></td><td><a class=\"ProveItLink\" href=\"../../../../../logic/sets/membership/__pv_it/common/477487d8796864d23d5810f83761435f25167f690/expr.ipynb\"><img src=\"../../../../../logic/sets/membership/__pv_it/common/477487d8796864d23d5810f83761435f25167f690/expr.png\" style=\"display:inline;vertical-align:middle;\" /></a></td></tr>\n",
       "<tr><td>33</td><td>ExprTuple</td><td>34, 35</td><td><a class=\"ProveItLink\" href=\"../cbf9106e787e5fd7ec4a0e7e31ea7dc815e530840/expr.ipynb\"><img src=\"../cbf9106e787e5fd7ec4a0e7e31ea7dc815e530840/expr.png\" style=\"display:inline;vertical-align:middle;\" /></a></td></tr>\n",
       "<tr><td>34</td><td>IndexedVar</td><td>variable:&nbsp;36<br>index:&nbsp;37<br></td><td><a class=\"ProveItLink\" href=\"../../../../../core_expr_types/__pv_it/common/ea36c59b79decceeaf696ef762cc9648f9ddbf5c0/expr.ipynb\"><img src=\"../../../../../core_expr_types/__pv_it/common/ea36c59b79decceeaf696ef762cc9648f9ddbf5c0/expr.png\" style=\"display:inline;vertical-align:middle;\" /></a></td></tr>\n",
       "<tr><td>35</td><td>Operation</td><td>operator:&nbsp;38<br>operand:&nbsp;39<br></td><td><a class=\"ProveItLink\" href=\"../ea8ca09ec4e853e3a7922fb778f39fe4163981400/expr.ipynb\"><img src=\"../ea8ca09ec4e853e3a7922fb778f39fe4163981400/expr.png\" style=\"display:inline;vertical-align:middle;\" /></a></td></tr>\n",
       "<tr><td>36</td><td>Variable</td><td></td><td><a class=\"ProveItLink\" href=\"../../../../../__pv_it/common/c06c606ec12678c58933ac85412ecadc2ae28be60/expr.ipynb\"><img src=\"../../../../../__pv_it/common/c06c606ec12678c58933ac85412ecadc2ae28be60/expr.png\" style=\"display:inline;vertical-align:middle;\" /></a></td></tr>\n",
       "<tr><td>37</td><td>Variable</td><td></td><td><a class=\"ProveItLink\" href=\"../../../../../core_expr_types/__pv_it/common/006c465e50948aa2b52285e2de47974f741255cc0/expr.ipynb\"><img src=\"../../../../../core_expr_types/__pv_it/common/006c465e50948aa2b52285e2de47974f741255cc0/expr.png\" style=\"display:inline;vertical-align:middle;\" /></a></td></tr>\n",
       "<tr><td>38</td><td>Literal</td><td></td><td><a class=\"ProveItLink\" href=\"../../../../../logic/sets/enumeration/__pv_it/common/0ead90ccbf4f17bc585a51f8aa904bb77916ae6e0/expr.ipynb\"><img src=\"../../../../../logic/sets/enumeration/__pv_it/common/0ead90ccbf4f17bc585a51f8aa904bb77916ae6e0/expr.png\" style=\"display:inline;vertical-align:middle;\" /></a></td></tr>\n",
       "<tr><td>39</td><td>Variable</td><td></td><td><a class=\"ProveItLink\" href=\"../../../../../__pv_it/common/a0d9d672aa5e272d907247690c152cc2c6daafb70/expr.ipynb\"><img src=\"../../../../../__pv_it/common/a0d9d672aa5e272d907247690c152cc2c6daafb70/expr.png\" style=\"display:inline;vertical-align:middle;\" /></a></td></tr>\n",
       "</table>\n"
      ],
      "text/plain": [
       "0. {forall_{a_{1}, ..a_{_a}.., a_{n} in {x}} ((a_{1} + ..a_{_a}.. + a_{n}) = (n * x)) if n in Natural ,  x in Complex.\n",
       "   core type: Conditional\n",
       "   value: 1\n",
       "   condition: 2\n",
       "1. forall_{a_{1}, ..a_{_a}.., a_{n} in {x}} ((a_{1} + ..a_{_a}.. + a_{n}) = (n * x))\n",
       "   core type: Operation\n",
       "   operator: 3\n",
       "   operand: 4\n",
       "2. (n in Natural) and (x in Complex)\n",
       "   core type: Operation\n",
       "   operator: 15\n",
       "   operands: 5\n",
       "3. forall\n",
       "   core type: Literal\n",
       "   sub-expressions: \n",
       "4. (a_{1}, ..a_{_a}.., a_{n}) -> {(a_{1} + ..a_{_a}.. + a_{n}) = (n * x) if (a_{1} in {x}) and ..(a_{_a} in {x}).. and (a_{n} in {x}).\n",
       "   core type: Lambda\n",
       "   parameters: 23\\n   body: 6\n",
       "5. (n in Natural, x in Complex)\n",
       "   core type: ExprTuple\n",
       "   sub-expressions: 7, 8\n",
       "6. {(a_{1} + ..a_{_a}.. + a_{n}) = (n * x) if (a_{1} in {x}) and ..(a_{_a} in {x}).. and (a_{n} in {x}).\n",
       "   core type: Conditional\n",
       "   value: 9\n",
       "   condition: 10\n",
       "7. n in Natural\n",
       "   core type: Operation\n",
       "   operator: 32\n",
       "   operands: 11\n",
       "8. x in Complex\n",
       "   core type: Operation\n",
       "   operator: 32\n",
       "   operands: 12\n",
       "9. (a_{1} + ..a_{_a}.. + a_{n}) = (n * x)\n",
       "   core type: Operation\n",
       "   operator: 13\n",
       "   operands: 14\n",
       "10. (a_{1} in {x}) and ..(a_{_a} in {x}).. and (a_{n} in {x})\n",
       "    core type: Operation\n",
       "    operator: 15\n",
       "    operands: 16\n",
       "11. (n, Natural)\n",
       "    core type: ExprTuple\n",
       "    sub-expressions: 31, 17\n",
       "12. (x, Complex)\n",
       "    core type: ExprTuple\n",
       "    sub-expressions: 39, 18\n",
       "13. =\n",
       "    core type: Literal\n",
       "    sub-expressions: \n",
       "14. (a_{1} + ..a_{_a}.. + a_{n}, n * x)\n",
       "    core type: ExprTuple\n",
       "    sub-expressions: 19, 20\n",
       "15. and\n",
       "    core type: Literal\n",
       "    sub-expressions: \n",
       "16. (a_{1} in {x}, ..a_{_a} in {x}.., a_{n} in {x})\n",
       "    core type: ExprTuple\n",
       "    sub-expressions: 21\n",
       "17. Natural\n",
       "    core type: Literal\n",
       "    sub-expressions: \n",
       "18. Complex\n",
       "    core type: Literal\n",
       "    sub-expressions: \n",
       "19. a_{1} + ..a_{_a}.. + a_{n}\n",
       "    core type: Operation\n",
       "    operator: 22\n",
       "    operands: 23\n",
       "20. n * x\n",
       "    core type: Operation\n",
       "    operator: 24\n",
       "    operands: 25\n",
       "21. (a_{1} in {x}), ..(a_{_a} in {x}).., (a_{n} in {x})\n",
       "    core type: ExprRange\n",
       "    lambda_map: 26\n",
       "    start_index: 30\n",
       "    end_index: 31\n",
       "22. +\n",
       "    core type: Literal\n",
       "    sub-expressions: \n",
       "23. (a_{1}, ..a_{_a}.., a_{n})\n",
       "    core type: ExprTuple\n",
       "    sub-expressions: 27\n",
       "24. *\n",
       "    core type: Literal\n",
       "    sub-expressions: \n",
       "25. (n, x)\n",
       "    core type: ExprTuple\n",
       "    sub-expressions: 31, 39\n",
       "26. _a -> (a_{_a} in {x})\n",
       "    core type: Lambda\n",
       "    parameter: 37\n",
       "    body: 28\n",
       "27. a_{1}, ..a_{_a}.., a_{n}\n",
       "    core type: ExprRange\n",
       "    lambda_map: 29\n",
       "    start_index: 30\n",
       "    end_index: 31\n",
       "28. a_{_a} in {x}\n",
       "    core type: Operation\n",
       "    operator: 32\n",
       "    operands: 33\n",
       "29. _a -> a_{_a}\n",
       "    core type: Lambda\n",
       "    parameter: 37\n",
       "    body: 34\n",
       "30. 1\n",
       "    core type: Literal\n",
       "    sub-expressions: \n",
       "31. n\n",
       "    core type: Variable\n",
       "    sub-expressions: \n",
       "32. in\n",
       "    core type: Literal\n",
       "    sub-expressions: \n",
       "33. (a_{_a}, {x})\n",
       "    core type: ExprTuple\n",
       "    sub-expressions: 34, 35\n",
       "34. a_{_a}\n",
       "    core type: IndexedVar\n",
       "variable: 36\n",
       "index: 37\n",
       "35. {x}\n",
       "    core type: Operation\n",
       "    operator: 38\n",
       "    operand: 39\n",
       "36. a\n",
       "    core type: Variable\n",
       "    sub-expressions: \n",
       "37. _a\n",
       "    core type: Variable\n",
       "    sub-expressions: \n",
       "38. Set\n",
       "    core type: Literal\n",
       "    sub-expressions: \n",
       "39. x\n",
       "    core type: Variable\n",
       "    sub-expressions: "
      ]
     },
     "execution_count": 5,
     "metadata": {},
     "output_type": "execute_result"
    }
   ],
   "source": [
    "# display the expression information\n",
    "expr.expr_info()"
   ]
  },
  {
   "cell_type": "code",
   "execution_count": null,
   "metadata": {},
   "outputs": [],
   "source": []
  }
 ],
 "metadata": {
  "kernelspec": {
   "display_name": "Python 3",
   "language": "python",
   "name": "python3"
  }
 },
 "nbformat": 4,
 "nbformat_minor": 0
}