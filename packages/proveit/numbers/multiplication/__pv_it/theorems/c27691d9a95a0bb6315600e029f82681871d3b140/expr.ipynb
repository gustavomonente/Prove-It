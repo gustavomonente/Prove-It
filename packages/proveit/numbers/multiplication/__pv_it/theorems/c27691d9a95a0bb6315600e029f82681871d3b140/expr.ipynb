{
 "cells": [
  {
   "cell_type": "markdown",
   "metadata": {},
   "source": [
    "Expression of type <a class=\"ProveItLink\" href=\"../../../../../../../doc/html/api/proveit.ExprTuple.html\">ExprTuple</a>\n",
    "=======================\n",
    "# from the theory of <a class=\"ProveItLink\" href=\"../../../_theory_nbs_/theory.ipynb\">proveit.numbers.multiplication</a>"
   ]
  },
  {
   "cell_type": "code",
   "execution_count": 1,
   "metadata": {},
   "outputs": [],
   "source": [
    "import proveit\n",
    "# Automation is not needed when building an expression:\n",
    "proveit.defaults.automation = False # This will speed things up.\n",
    "proveit.defaults.inline_pngs = False # Makes files smaller.\n",
    "%load_expr # Load the stored expression as 'stored_expr'\n",
    "# import Expression classes needed to build the expression\n",
    "from proveit import Conditional, ExprRange, ExprTuple, IndexedVar, Lambda, Variable, a, n\n",
    "from proveit.core_expr_types import a_1_to_n\n",
    "from proveit.logic import And, InSet\n",
    "from proveit.numbers import Mult, NaturalPos, one"
   ]
  },
  {
   "cell_type": "code",
   "execution_count": 2,
   "metadata": {},
   "outputs": [
    {
     "data": {
      "text/html": [
       "<strong id=\"expr\">expr:</strong> <a class=\"ProveItLink\" href=\"expr.ipynb\"><img src=\"expr.png\" style=\"display:inline;vertical-align:middle;\" /></a><br>"
      ],
      "text/plain": [
       "expr: ((a_{1}, ..a_{_a}.., a_{n}) -> {(a_{1} * ..a_{_a}.. * a_{n}) in NaturalPos if (a_{1} in NaturalPos) and ..(a_{_a} in NaturalPos).. and (a_{n} in NaturalPos).)"
      ]
     },
     "execution_count": 2,
     "metadata": {},
     "output_type": "execute_result"
    }
   ],
   "source": [
    "# build up the expression from sub-expressions\n",
    "sub_expr1 = Variable(\"_a\", latex_format = r\"{_{-}a}\")\n",
    "expr = ExprTuple(Lambda([a_1_to_n], Conditional(InSet(Mult(a_1_to_n), NaturalPos), And(ExprRange(sub_expr1, InSet(IndexedVar(a, sub_expr1), NaturalPos), one, n)))))"
   ]
  },
  {
   "cell_type": "code",
   "execution_count": 3,
   "metadata": {},
   "outputs": [
    {
     "name": "stdout",
     "output_type": "stream",
     "text": [
      "Passed sanity check: expr matches stored_expr\n"
     ]
    }
   ],
   "source": [
    "# check that the built expression is the same as the stored expression\n",
    "assert expr == stored_expr\n",
    "assert expr._style_id == stored_expr._style_id\n",
    "print(\"Passed sanity check: expr matches stored_expr\")"
   ]
  },
  {
   "cell_type": "code",
   "execution_count": 4,
   "metadata": {},
   "outputs": [
    {
     "name": "stdout",
     "output_type": "stream",
     "text": [
      "\\left(\\left(a_{1}, \\ldots, a_{n}\\right) \\mapsto \\left\\{\\left(a_{1} \\cdot \\ldots \\cdot a_{n}\\right) \\in \\mathbb{N}^+ \\textrm{ if } \\left(a_{1} \\in \\mathbb{N}^+\\right) \\land \\ldots \\land \\left(a_{n} \\in \\mathbb{N}^+\\right)\\right..\\right)\n"
     ]
    }
   ],
   "source": [
    "# Show the LaTeX representation of the expression for convenience if you need it.\n",
    "print(expr.latex())"
   ]
  },
  {
   "cell_type": "code",
   "execution_count": 5,
   "metadata": {},
   "outputs": [
    {
     "data": {
      "text/html": [
       "no style options"
      ],
      "text/plain": [
       "no style options"
      ]
     },
     "execution_count": 5,
     "metadata": {},
     "output_type": "execute_result"
    }
   ],
   "source": [
    "expr.style_options()"
   ]
  },
  {
   "cell_type": "code",
   "execution_count": 6,
   "metadata": {},
   "outputs": [
    {
     "data": {
      "text/html": [
       "<table><tr><th>&nbsp;</th><th>core type</th><th>sub-expressions</th><th>expression</th></tr>\n",
       "<tr><td>0</td><td>ExprTuple</td><td>1</td><td><a class=\"ProveItLink\" href=\"expr.ipynb\"><img src=\"expr.png\" style=\"display:inline;vertical-align:middle;\" /></a></td></tr>\n",
       "<tr><td>1</td><td>Lambda</td><td>parameters:&nbsp;11<br>body:&nbsp;2<br></td><td><a class=\"ProveItLink\" href=\"../1ff79af762e1e1151d16cdeb3cfa7df68feec6760/expr.ipynb\"><img src=\"../1ff79af762e1e1151d16cdeb3cfa7df68feec6760/expr.png\" style=\"display:inline;vertical-align:middle;\" /></a></td></tr>\n",
       "<tr><td>2</td><td>Conditional</td><td>value:&nbsp;3<br>condition:&nbsp;4<br></td><td><a class=\"ProveItLink\" href=\"../6cf7cf43be519c3e4b903d4dcef556c0a51670010/expr.ipynb\"><img src=\"../6cf7cf43be519c3e4b903d4dcef556c0a51670010/expr.png\" style=\"display:inline;vertical-align:middle;\" /></a></td></tr>\n",
       "<tr><td>3</td><td>Operation</td><td>operator:&nbsp;18<br>operands:&nbsp;5<br></td><td><a class=\"ProveItLink\" href=\"../7d93722da3f080e5ca9cd8fb603c3c6d8365cf380/expr.ipynb\"><img src=\"../7d93722da3f080e5ca9cd8fb603c3c6d8365cf380/expr.png\" style=\"display:inline;vertical-align:middle;\" /></a></td></tr>\n",
       "<tr><td>4</td><td>Operation</td><td>operator:&nbsp;6<br>operands:&nbsp;7<br></td><td><a class=\"ProveItLink\" href=\"../06bf0b59b9017dfd67e32423e6b4edaedc2c6a6b0/expr.ipynb\"><img src=\"../06bf0b59b9017dfd67e32423e6b4edaedc2c6a6b0/expr.png\" style=\"display:inline;vertical-align:middle;\" /></a></td></tr>\n",
       "<tr><td>5</td><td>ExprTuple</td><td>8, 21</td><td><a class=\"ProveItLink\" href=\"../f94f31c1836a93330ec1ef52b1a47147cb5a94c10/expr.ipynb\"><img src=\"../f94f31c1836a93330ec1ef52b1a47147cb5a94c10/expr.png\" style=\"display:inline;vertical-align:middle;\" /></a></td></tr>\n",
       "<tr><td>6</td><td>Literal</td><td></td><td><a class=\"ProveItLink\" href=\"../../../../../logic/booleans/conjunction/__pv_it/common/26b94b53e70b1d77b70f0d9d4236347db37731060/expr.ipynb\"><img src=\"../../../../../logic/booleans/conjunction/__pv_it/common/26b94b53e70b1d77b70f0d9d4236347db37731060/expr.png\" style=\"display:inline;vertical-align:middle;\" /></a></td></tr>\n",
       "<tr><td>7</td><td>ExprTuple</td><td>9</td><td><a class=\"ProveItLink\" href=\"../ae314259cc1bbcbc591280c1b28728160c48e46a0/expr.ipynb\"><img src=\"../ae314259cc1bbcbc591280c1b28728160c48e46a0/expr.png\" style=\"display:inline;vertical-align:middle;\" /></a></td></tr>\n",
       "<tr><td>8</td><td>Operation</td><td>operator:&nbsp;10<br>operands:&nbsp;11<br></td><td><a class=\"ProveItLink\" href=\"../17620e5c39195531c95d2e923c95def8cd989ecc0/expr.ipynb\"><img src=\"../17620e5c39195531c95d2e923c95def8cd989ecc0/expr.png\" style=\"display:inline;vertical-align:middle;\" /></a></td></tr>\n",
       "<tr><td>9</td><td>ExprRange</td><td>lambda_map:&nbsp;12<br>start_index:&nbsp;16<br>end_index:&nbsp;17<br></td><td><a class=\"ProveItLink\" href=\"../4facdab359fff2dd73108132f0b21bbb31bd3e6c0/expr.ipynb\"><img src=\"../4facdab359fff2dd73108132f0b21bbb31bd3e6c0/expr.png\" style=\"display:inline;vertical-align:middle;\" /></a></td></tr>\n",
       "<tr><td>10</td><td>Literal</td><td></td><td><a class=\"ProveItLink\" href=\"../../common/c57d60974865e78d434abd3ff22c405685c80ade0/expr.ipynb\"><img src=\"../../common/c57d60974865e78d434abd3ff22c405685c80ade0/expr.png\" style=\"display:inline;vertical-align:middle;\" /></a></td></tr>\n",
       "<tr><td>11</td><td>ExprTuple</td><td>13</td><td><a class=\"ProveItLink\" href=\"../3c2073fded113a048bf7371c726cf466ae4d92300/expr.ipynb\"><img src=\"../3c2073fded113a048bf7371c726cf466ae4d92300/expr.png\" style=\"display:inline;vertical-align:middle;\" /></a></td></tr>\n",
       "<tr><td>12</td><td>Lambda</td><td>parameter:&nbsp;24<br>body:&nbsp;14<br></td><td><a class=\"ProveItLink\" href=\"../385a0eb1cb1dc7ccc614169dda235e66ea61b9d70/expr.ipynb\"><img src=\"../385a0eb1cb1dc7ccc614169dda235e66ea61b9d70/expr.png\" style=\"display:inline;vertical-align:middle;\" /></a></td></tr>\n",
       "<tr><td>13</td><td>ExprRange</td><td>lambda_map:&nbsp;15<br>start_index:&nbsp;16<br>end_index:&nbsp;17<br></td><td><a class=\"ProveItLink\" href=\"../../../../../core_expr_types/__pv_it/common/95cc4bc4f612e88f5f51ce4796fd60b1d217c7850/expr.ipynb\"><img src=\"../../../../../core_expr_types/__pv_it/common/95cc4bc4f612e88f5f51ce4796fd60b1d217c7850/expr.png\" style=\"display:inline;vertical-align:middle;\" /></a></td></tr>\n",
       "<tr><td>14</td><td>Operation</td><td>operator:&nbsp;18<br>operands:&nbsp;19<br></td><td><a class=\"ProveItLink\" href=\"../051328e609c5ee817f23e8c3a36ad5df84a9d2850/expr.ipynb\"><img src=\"../051328e609c5ee817f23e8c3a36ad5df84a9d2850/expr.png\" style=\"display:inline;vertical-align:middle;\" /></a></td></tr>\n",
       "<tr><td>15</td><td>Lambda</td><td>parameter:&nbsp;24<br>body:&nbsp;20<br></td><td><a class=\"ProveItLink\" href=\"../../../../../core_expr_types/__pv_it/common/99ea59f1b92e70eddeee736182b1abeb9f49c91b0/expr.ipynb\"><img src=\"../../../../../core_expr_types/__pv_it/common/99ea59f1b92e70eddeee736182b1abeb9f49c91b0/expr.png\" style=\"display:inline;vertical-align:middle;\" /></a></td></tr>\n",
       "<tr><td>16</td><td>Literal</td><td></td><td><a class=\"ProveItLink\" href=\"../../../../numerals/__pv_it/common/d278e359da0695d9652dd541d45264f93703e2e40/expr.ipynb\"><img src=\"../../../../numerals/__pv_it/common/d278e359da0695d9652dd541d45264f93703e2e40/expr.png\" style=\"display:inline;vertical-align:middle;\" /></a></td></tr>\n",
       "<tr><td>17</td><td>Variable</td><td></td><td><a class=\"ProveItLink\" href=\"../../../../../__pv_it/common/6165c9bb82ce3c7097cdba4440a1aeeb6eaca8a40/expr.ipynb\"><img src=\"../../../../../__pv_it/common/6165c9bb82ce3c7097cdba4440a1aeeb6eaca8a40/expr.png\" style=\"display:inline;vertical-align:middle;\" /></a></td></tr>\n",
       "<tr><td>18</td><td>Literal</td><td></td><td><a class=\"ProveItLink\" href=\"../../../../../logic/sets/membership/__pv_it/common/7171deca84f71f47a6ec7696972d1632274a12880/expr.ipynb\"><img src=\"../../../../../logic/sets/membership/__pv_it/common/7171deca84f71f47a6ec7696972d1632274a12880/expr.png\" style=\"display:inline;vertical-align:middle;\" /></a></td></tr>\n",
       "<tr><td>19</td><td>ExprTuple</td><td>20, 21</td><td><a class=\"ProveItLink\" href=\"../2610465dfbcf1deb82011db741d64a26a22121de0/expr.ipynb\"><img src=\"../2610465dfbcf1deb82011db741d64a26a22121de0/expr.png\" style=\"display:inline;vertical-align:middle;\" /></a></td></tr>\n",
       "<tr><td>20</td><td>IndexedVar</td><td>variable:&nbsp;22<br>index:&nbsp;24<br></td><td><a class=\"ProveItLink\" href=\"../../../../../core_expr_types/__pv_it/common/d8d3053e77ba1db68c0cd106952422881db586670/expr.ipynb\"><img src=\"../../../../../core_expr_types/__pv_it/common/d8d3053e77ba1db68c0cd106952422881db586670/expr.png\" style=\"display:inline;vertical-align:middle;\" /></a></td></tr>\n",
       "<tr><td>21</td><td>Literal</td><td></td><td><a class=\"ProveItLink\" href=\"../../../../number_sets/natural_numbers/__pv_it/common/a2a7252783c385c028dad802e97575c19e456b990/expr.ipynb\"><img src=\"../../../../number_sets/natural_numbers/__pv_it/common/a2a7252783c385c028dad802e97575c19e456b990/expr.png\" style=\"display:inline;vertical-align:middle;\" /></a></td></tr>\n",
       "<tr><td>22</td><td>Variable</td><td></td><td><a class=\"ProveItLink\" href=\"../../../../../__pv_it/common/66c90e66682f107a881f2d666959f64e2e72ad750/expr.ipynb\"><img src=\"../../../../../__pv_it/common/66c90e66682f107a881f2d666959f64e2e72ad750/expr.png\" style=\"display:inline;vertical-align:middle;\" /></a></td></tr>\n",
       "<tr><td>23</td><td>ExprTuple</td><td>24</td><td><a class=\"ProveItLink\" href=\"../../../../../core_expr_types/__pv_it/common/ecf50ade416ab41c42c9f4e777b4c862cd9469670/expr.ipynb\"><img src=\"../../../../../core_expr_types/__pv_it/common/ecf50ade416ab41c42c9f4e777b4c862cd9469670/expr.png\" style=\"display:inline;vertical-align:middle;\" /></a></td></tr>\n",
       "<tr><td>24</td><td>Variable</td><td></td><td><a class=\"ProveItLink\" href=\"../../../../../core_expr_types/__pv_it/common/9e6d9d5d7eeb0342cf5bca68def0eb165a1a9bb10/expr.ipynb\"><img src=\"../../../../../core_expr_types/__pv_it/common/9e6d9d5d7eeb0342cf5bca68def0eb165a1a9bb10/expr.png\" style=\"display:inline;vertical-align:middle;\" /></a></td></tr>\n",
       "</table>\n"
      ],
      "text/plain": [
       "0. ((a_{1}, ..a_{_a}.., a_{n}) -> {(a_{1} * ..a_{_a}.. * a_{n}) in NaturalPos if (a_{1} in NaturalPos) and ..(a_{_a} in NaturalPos).. and (a_{n} in NaturalPos).)\n",
       "   core type: ExprTuple\n",
       "   sub-expressions: 1\n",
       "1. (a_{1}, ..a_{_a}.., a_{n}) -> {(a_{1} * ..a_{_a}.. * a_{n}) in NaturalPos if (a_{1} in NaturalPos) and ..(a_{_a} in NaturalPos).. and (a_{n} in NaturalPos).\n",
       "   core type: Lambda\n",
       "   parameters: 11\\n   body: 2\n",
       "2. {(a_{1} * ..a_{_a}.. * a_{n}) in NaturalPos if (a_{1} in NaturalPos) and ..(a_{_a} in NaturalPos).. and (a_{n} in NaturalPos).\n",
       "   core type: Conditional\n",
       "   value: 3\n",
       "   condition: 4\n",
       "3. (a_{1} * ..a_{_a}.. * a_{n}) in NaturalPos\n",
       "   core type: Operation\n",
       "   operator: 18\n",
       "   operands: 5\n",
       "4. (a_{1} in NaturalPos) and ..(a_{_a} in NaturalPos).. and (a_{n} in NaturalPos)\n",
       "   core type: Operation\n",
       "   operator: 6\n",
       "   operands: 7\n",
       "5. (a_{1} * ..a_{_a}.. * a_{n}, NaturalPos)\n",
       "   core type: ExprTuple\n",
       "   sub-expressions: 8, 21\n",
       "6. and\n",
       "   core type: Literal\n",
       "   sub-expressions: \n",
       "7. (a_{1} in NaturalPos, ..a_{_a} in NaturalPos.., a_{n} in NaturalPos)\n",
       "   core type: ExprTuple\n",
       "   sub-expressions: 9\n",
       "8. a_{1} * ..a_{_a}.. * a_{n}\n",
       "   core type: Operation\n",
       "   operator: 10\n",
       "   operands: 11\n",
       "9. (a_{1} in NaturalPos), ..(a_{_a} in NaturalPos).., (a_{n} in NaturalPos)\n",
       "   core type: ExprRange\n",
       "   lambda_map: 12\n",
       "   start_index: 16\n",
       "   end_index: 17\n",
       "10. *\n",
       "    core type: Literal\n",
       "    sub-expressions: \n",
       "11. (a_{1}, ..a_{_a}.., a_{n})\n",
       "    core type: ExprTuple\n",
       "    sub-expressions: 13\n",
       "12. _a -> (a_{_a} in NaturalPos)\n",
       "    core type: Lambda\n",
       "    parameter: 24\n",
       "    body: 14\n",
       "13. a_{1}, ..a_{_a}.., a_{n}\n",
       "    core type: ExprRange\n",
       "    lambda_map: 15\n",
       "    start_index: 16\n",
       "    end_index: 17\n",
       "14. a_{_a} in NaturalPos\n",
       "    core type: Operation\n",
       "    operator: 18\n",
       "    operands: 19\n",
       "15. _a -> a_{_a}\n",
       "    core type: Lambda\n",
       "    parameter: 24\n",
       "    body: 20\n",
       "16. 1\n",
       "    core type: Literal\n",
       "    sub-expressions: \n",
       "17. n\n",
       "    core type: Variable\n",
       "    sub-expressions: \n",
       "18. in\n",
       "    core type: Literal\n",
       "    sub-expressions: \n",
       "19. (a_{_a}, NaturalPos)\n",
       "    core type: ExprTuple\n",
       "    sub-expressions: 20, 21\n",
       "20. a_{_a}\n",
       "    core type: IndexedVar\n",
       "variable: 22\n",
       "index: 24\n",
       "21. NaturalPos\n",
       "    core type: Literal\n",
       "    sub-expressions: \n",
       "22. a\n",
       "    core type: Variable\n",
       "    sub-expressions: \n",
       "23. (_a)\n",
       "    core type: ExprTuple\n",
       "    sub-expressions: 24\n",
       "24. _a\n",
       "    core type: Variable\n",
       "    sub-expressions: "
      ]
     },
     "execution_count": 6,
     "metadata": {},
     "output_type": "execute_result"
    }
   ],
   "source": [
    "# display the expression information\n",
    "expr.expr_info()"
   ]
  },
  {
   "cell_type": "code",
   "execution_count": null,
   "metadata": {},
   "outputs": [],
   "source": []
  }
 ],
 "metadata": {
  "kernelspec": {
   "display_name": "Python 3",
   "language": "python",
   "name": "python3"
  }
 },
 "nbformat": 4,
 "nbformat_minor": 0
}