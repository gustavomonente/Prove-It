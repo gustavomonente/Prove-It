{
 "cells": [
  {
   "cell_type": "markdown",
   "metadata": {},
   "source": [
    "Expression of type <a class=\"ProveItLink\" href=\"../../../../../../../doc/html/api/proveit.ExprTuple.html\">ExprTuple</a>\n",
    "=======================\n",
    "# from the theory of <a class=\"ProveItLink\" href=\"../../../_theory_nbs_/theory.ipynb\">proveit.numbers.multiplication</a>"
   ]
  },
  {
   "cell_type": "code",
   "execution_count": 1,
   "metadata": {},
   "outputs": [],
   "source": [
    "import proveit\n",
    "# Automation is not needed when building an expression:\n",
    "proveit.defaults.automation = False # This will speed things up.\n",
    "proveit.defaults.inline_pngs = False # Makes files smaller.\n",
    "%load_expr # Load the stored expression as 'stored_expr'\n",
    "# import Expression classes needed to build the expression\n",
    "from proveit import Conditional, ExprRange, ExprTuple, IndexedVar, Lambda, Variable, a, b, i, j\n",
    "from proveit.core_expr_types import a_1_to_i, b_1_to_j\n",
    "from proveit.logic import And, Equals, InSet\n",
    "from proveit.numbers import Complex, Mult, one"
   ]
  },
  {
   "cell_type": "code",
   "execution_count": 2,
   "metadata": {},
   "outputs": [
    {
     "data": {
      "text/html": [
       "<strong id=\"expr\">expr:</strong> <a class=\"ProveItLink\" href=\"expr.ipynb\"><img src=\"expr.png\" style=\"display:inline;vertical-align:middle;\" /></a><br>"
      ],
      "text/plain": [
       "expr: ((a_{1}, ..a_{_a}.., a_{i}, b_{1}, ..b_{_a}.., b_{j}) -> {(a_{1} * ..a_{_a}.. * a_{i} * 1 * b_{1} * ..b_{_a}.. * b_{j}) = (a_{1} * ..a_{_a}.. * a_{i} * b_{1} * ..b_{_a}.. * b_{j}) if a_{1} in Complex ,  ..a_{_a} in Complex.. ,  a_{i} in Complex ,  b_{1} in Complex ,  ..b_{_a} in Complex.. ,  b_{j} in Complex.)"
      ]
     },
     "execution_count": 2,
     "metadata": {},
     "output_type": "execute_result"
    }
   ],
   "source": [
    "# build up the expression from sub-expressions\n",
    "sub_expr1 = Variable(\"_a\", latex_format = r\"{_{-}a}\")\n",
    "expr = ExprTuple(Lambda([a_1_to_i, b_1_to_j], Conditional(Equals(Mult(a_1_to_i, one, b_1_to_j), Mult(a_1_to_i, b_1_to_j)), And(ExprRange(sub_expr1, InSet(IndexedVar(a, sub_expr1), Complex), one, i), ExprRange(sub_expr1, InSet(IndexedVar(b, sub_expr1), Complex), one, j)))))"
   ]
  },
  {
   "cell_type": "code",
   "execution_count": 3,
   "metadata": {},
   "outputs": [
    {
     "name": "stdout",
     "output_type": "stream",
     "text": [
      "Passed sanity check: expr matches stored_expr\n"
     ]
    }
   ],
   "source": [
    "# check that the built expression is the same as the stored expression\n",
    "assert expr == stored_expr\n",
    "assert expr._style_id == stored_expr._style_id\n",
    "print(\"Passed sanity check: expr matches stored_expr\")"
   ]
  },
  {
   "cell_type": "code",
   "execution_count": 4,
   "metadata": {},
   "outputs": [
    {
     "name": "stdout",
     "output_type": "stream",
     "text": [
      "\\left(\\left(a_{1}, \\ldots, a_{i}, b_{1}, \\ldots, b_{j}\\right) \\mapsto \\left\\{\\left(a_{1} \\cdot \\ldots \\cdot a_{i} \\cdot 1 \\cdot b_{1} \\cdot \\ldots \\cdot b_{j}\\right) = \\left(a_{1} \\cdot \\ldots \\cdot a_{i} \\cdot b_{1} \\cdot \\ldots \\cdot b_{j}\\right) \\textrm{ if } a_{1} \\in \\mathbb{C} ,  \\ldots ,  a_{i} \\in \\mathbb{C} ,  b_{1} \\in \\mathbb{C} ,  \\ldots ,  b_{j} \\in \\mathbb{C}\\right..\\right)\n"
     ]
    }
   ],
   "source": [
    "# Show the LaTeX representation of the expression for convenience if you need it.\n",
    "print(expr.latex())"
   ]
  },
  {
   "cell_type": "code",
   "execution_count": 5,
   "metadata": {},
   "outputs": [
    {
     "data": {
      "text/html": [
       "no style options"
      ],
      "text/plain": [
       "no style options"
      ]
     },
     "execution_count": 5,
     "metadata": {},
     "output_type": "execute_result"
    }
   ],
   "source": [
    "expr.style_options()"
   ]
  },
  {
   "cell_type": "code",
   "execution_count": 6,
   "metadata": {},
   "outputs": [
    {
     "data": {
      "text/html": [
       "<table><tr><th>&nbsp;</th><th>core type</th><th>sub-expressions</th><th>expression</th></tr>\n",
       "<tr><td>0</td><td>ExprTuple</td><td>1</td><td><a class=\"ProveItLink\" href=\"expr.ipynb\"><img src=\"expr.png\" style=\"display:inline;vertical-align:middle;\" /></a></td></tr>\n",
       "<tr><td>1</td><td>Lambda</td><td>parameters:&nbsp;15<br>body:&nbsp;2<br></td><td><a class=\"ProveItLink\" href=\"../cf9ea8625c2b3c1f67c4094c96d904bec40a66c50/expr.ipynb\"><img src=\"../cf9ea8625c2b3c1f67c4094c96d904bec40a66c50/expr.png\" style=\"display:inline;vertical-align:middle;\" /></a></td></tr>\n",
       "<tr><td>2</td><td>Conditional</td><td>value:&nbsp;3<br>condition:&nbsp;4<br></td><td><a class=\"ProveItLink\" href=\"../bb9e073b44ea49c8db26a1b0cd4fd077178a8d0d0/expr.ipynb\"><img src=\"../bb9e073b44ea49c8db26a1b0cd4fd077178a8d0d0/expr.png\" style=\"display:inline;vertical-align:middle;\" /></a></td></tr>\n",
       "<tr><td>3</td><td>Operation</td><td>operator:&nbsp;5<br>operands:&nbsp;6<br></td><td><a class=\"ProveItLink\" href=\"../bf1500fad8e4e6fabe8875a45c2334b342482b1d0/expr.ipynb\"><img src=\"../bf1500fad8e4e6fabe8875a45c2334b342482b1d0/expr.png\" style=\"display:inline;vertical-align:middle;\" /></a></td></tr>\n",
       "<tr><td>4</td><td>Operation</td><td>operator:&nbsp;7<br>operands:&nbsp;8<br></td><td><a class=\"ProveItLink\" href=\"../b43c4d69f6a329303f1216611dadbd85ebbad62d0/expr.ipynb\"><img src=\"../b43c4d69f6a329303f1216611dadbd85ebbad62d0/expr.png\" style=\"display:inline;vertical-align:middle;\" /></a></td></tr>\n",
       "<tr><td>5</td><td>Literal</td><td></td><td><a class=\"ProveItLink\" href=\"../../../../../logic/equality/__pv_it/common/731dd3955b346c1320ed5c0ba7a618bcda61457d0/expr.ipynb\"><img src=\"../../../../../logic/equality/__pv_it/common/731dd3955b346c1320ed5c0ba7a618bcda61457d0/expr.png\" style=\"display:inline;vertical-align:middle;\" /></a></td></tr>\n",
       "<tr><td>6</td><td>ExprTuple</td><td>9, 10</td><td><a class=\"ProveItLink\" href=\"../893be20bc7d3b81395129e979bb4c8f86e0e8e840/expr.ipynb\"><img src=\"../893be20bc7d3b81395129e979bb4c8f86e0e8e840/expr.png\" style=\"display:inline;vertical-align:middle;\" /></a></td></tr>\n",
       "<tr><td>7</td><td>Literal</td><td></td><td><a class=\"ProveItLink\" href=\"../../../../../logic/booleans/conjunction/__pv_it/common/26b94b53e70b1d77b70f0d9d4236347db37731060/expr.ipynb\"><img src=\"../../../../../logic/booleans/conjunction/__pv_it/common/26b94b53e70b1d77b70f0d9d4236347db37731060/expr.png\" style=\"display:inline;vertical-align:middle;\" /></a></td></tr>\n",
       "<tr><td>8</td><td>ExprTuple</td><td>11, 12</td><td><a class=\"ProveItLink\" href=\"../23124cd9762098c665400ff5ddb6d6884a89a8ef0/expr.ipynb\"><img src=\"../23124cd9762098c665400ff5ddb6d6884a89a8ef0/expr.png\" style=\"display:inline;vertical-align:middle;\" /></a></td></tr>\n",
       "<tr><td>9</td><td>Operation</td><td>operator:&nbsp;14<br>operands:&nbsp;13<br></td><td><a class=\"ProveItLink\" href=\"../8b6ca4ea32644d27d319814671bae79ca20f96470/expr.ipynb\"><img src=\"../8b6ca4ea32644d27d319814671bae79ca20f96470/expr.png\" style=\"display:inline;vertical-align:middle;\" /></a></td></tr>\n",
       "<tr><td>10</td><td>Operation</td><td>operator:&nbsp;14<br>operands:&nbsp;15<br></td><td><a class=\"ProveItLink\" href=\"../ab14a15e0200d8f2daacf876f33010ec4a54cd860/expr.ipynb\"><img src=\"../ab14a15e0200d8f2daacf876f33010ec4a54cd860/expr.png\" style=\"display:inline;vertical-align:middle;\" /></a></td></tr>\n",
       "<tr><td>11</td><td>ExprRange</td><td>lambda_map:&nbsp;16<br>start_index:&nbsp;25<br>end_index:&nbsp;23<br></td><td><a class=\"ProveItLink\" href=\"../e9e945404e68ddf8daf3567a0aff12075464d0640/expr.ipynb\"><img src=\"../e9e945404e68ddf8daf3567a0aff12075464d0640/expr.png\" style=\"display:inline;vertical-align:middle;\" /></a></td></tr>\n",
       "<tr><td>12</td><td>ExprRange</td><td>lambda_map:&nbsp;17<br>start_index:&nbsp;25<br>end_index:&nbsp;26<br></td><td><a class=\"ProveItLink\" href=\"../127e71173ff3718c28b678d4672708e933e0ba980/expr.ipynb\"><img src=\"../127e71173ff3718c28b678d4672708e933e0ba980/expr.png\" style=\"display:inline;vertical-align:middle;\" /></a></td></tr>\n",
       "<tr><td>13</td><td>ExprTuple</td><td>18, 25, 19</td><td><a class=\"ProveItLink\" href=\"../65aa1c485fc80832d08db09a8257f2c6cd735b440/expr.ipynb\"><img src=\"../65aa1c485fc80832d08db09a8257f2c6cd735b440/expr.png\" style=\"display:inline;vertical-align:middle;\" /></a></td></tr>\n",
       "<tr><td>14</td><td>Literal</td><td></td><td><a class=\"ProveItLink\" href=\"../../common/c57d60974865e78d434abd3ff22c405685c80ade0/expr.ipynb\"><img src=\"../../common/c57d60974865e78d434abd3ff22c405685c80ade0/expr.png\" style=\"display:inline;vertical-align:middle;\" /></a></td></tr>\n",
       "<tr><td>15</td><td>ExprTuple</td><td>18, 19</td><td><a class=\"ProveItLink\" href=\"../d0eec5044c37d850ff552c1963c6bca79e91f6ef0/expr.ipynb\"><img src=\"../d0eec5044c37d850ff552c1963c6bca79e91f6ef0/expr.png\" style=\"display:inline;vertical-align:middle;\" /></a></td></tr>\n",
       "<tr><td>16</td><td>Lambda</td><td>parameter:&nbsp;36<br>body:&nbsp;20<br></td><td><a class=\"ProveItLink\" href=\"../27e93e67a24b341093eff99ce754a280791bae3c0/expr.ipynb\"><img src=\"../27e93e67a24b341093eff99ce754a280791bae3c0/expr.png\" style=\"display:inline;vertical-align:middle;\" /></a></td></tr>\n",
       "<tr><td>17</td><td>Lambda</td><td>parameter:&nbsp;36<br>body:&nbsp;21<br></td><td><a class=\"ProveItLink\" href=\"../3c75702e5bc3a278c341235bef5140e8e1e495340/expr.ipynb\"><img src=\"../3c75702e5bc3a278c341235bef5140e8e1e495340/expr.png\" style=\"display:inline;vertical-align:middle;\" /></a></td></tr>\n",
       "<tr><td>18</td><td>ExprRange</td><td>lambda_map:&nbsp;22<br>start_index:&nbsp;25<br>end_index:&nbsp;23<br></td><td><a class=\"ProveItLink\" href=\"../../../../../core_expr_types/__pv_it/common/a8faf3b27fe552f144fda91135c3a6148ee990d00/expr.ipynb\"><img src=\"../../../../../core_expr_types/__pv_it/common/a8faf3b27fe552f144fda91135c3a6148ee990d00/expr.png\" style=\"display:inline;vertical-align:middle;\" /></a></td></tr>\n",
       "<tr><td>19</td><td>ExprRange</td><td>lambda_map:&nbsp;24<br>start_index:&nbsp;25<br>end_index:&nbsp;26<br></td><td><a class=\"ProveItLink\" href=\"../../../../../core_expr_types/__pv_it/common/843f06cfd46cad7e330a92113934c3e3eb2d9cf50/expr.ipynb\"><img src=\"../../../../../core_expr_types/__pv_it/common/843f06cfd46cad7e330a92113934c3e3eb2d9cf50/expr.png\" style=\"display:inline;vertical-align:middle;\" /></a></td></tr>\n",
       "<tr><td>20</td><td>Operation</td><td>operator:&nbsp;28<br>operands:&nbsp;27<br></td><td><a class=\"ProveItLink\" href=\"../2130076bc63d68a0309fd8e0d550825477dbd8360/expr.ipynb\"><img src=\"../2130076bc63d68a0309fd8e0d550825477dbd8360/expr.png\" style=\"display:inline;vertical-align:middle;\" /></a></td></tr>\n",
       "<tr><td>21</td><td>Operation</td><td>operator:&nbsp;28<br>operands:&nbsp;29<br></td><td><a class=\"ProveItLink\" href=\"../dadcf8a6c06450247723919ea148f5c5ce9fbde90/expr.ipynb\"><img src=\"../dadcf8a6c06450247723919ea148f5c5ce9fbde90/expr.png\" style=\"display:inline;vertical-align:middle;\" /></a></td></tr>\n",
       "<tr><td>22</td><td>Lambda</td><td>parameter:&nbsp;36<br>body:&nbsp;30<br></td><td><a class=\"ProveItLink\" href=\"../../../../../core_expr_types/__pv_it/common/99ea59f1b92e70eddeee736182b1abeb9f49c91b0/expr.ipynb\"><img src=\"../../../../../core_expr_types/__pv_it/common/99ea59f1b92e70eddeee736182b1abeb9f49c91b0/expr.png\" style=\"display:inline;vertical-align:middle;\" /></a></td></tr>\n",
       "<tr><td>23</td><td>Variable</td><td></td><td><a class=\"ProveItLink\" href=\"../../../../../__pv_it/common/575a6156bb1c87c5beeaf38c302b5905ad57f5780/expr.ipynb\"><img src=\"../../../../../__pv_it/common/575a6156bb1c87c5beeaf38c302b5905ad57f5780/expr.png\" style=\"display:inline;vertical-align:middle;\" /></a></td></tr>\n",
       "<tr><td>24</td><td>Lambda</td><td>parameter:&nbsp;36<br>body:&nbsp;31<br></td><td><a class=\"ProveItLink\" href=\"../../../../../core_expr_types/__pv_it/common/ba19487284205e8bd037599d68730451639874da0/expr.ipynb\"><img src=\"../../../../../core_expr_types/__pv_it/common/ba19487284205e8bd037599d68730451639874da0/expr.png\" style=\"display:inline;vertical-align:middle;\" /></a></td></tr>\n",
       "<tr><td>25</td><td>Literal</td><td></td><td><a class=\"ProveItLink\" href=\"../../../../numerals/__pv_it/common/d278e359da0695d9652dd541d45264f93703e2e40/expr.ipynb\"><img src=\"../../../../numerals/__pv_it/common/d278e359da0695d9652dd541d45264f93703e2e40/expr.png\" style=\"display:inline;vertical-align:middle;\" /></a></td></tr>\n",
       "<tr><td>26</td><td>Variable</td><td></td><td><a class=\"ProveItLink\" href=\"../../../../../__pv_it/common/5514cc9a63b9c2ed9b63934dd5e088ab0d4f10080/expr.ipynb\"><img src=\"../../../../../__pv_it/common/5514cc9a63b9c2ed9b63934dd5e088ab0d4f10080/expr.png\" style=\"display:inline;vertical-align:middle;\" /></a></td></tr>\n",
       "<tr><td>27</td><td>ExprTuple</td><td>30, 32</td><td><a class=\"ProveItLink\" href=\"../359244aab050266f05050a39f3eed21eef6a34090/expr.ipynb\"><img src=\"../359244aab050266f05050a39f3eed21eef6a34090/expr.png\" style=\"display:inline;vertical-align:middle;\" /></a></td></tr>\n",
       "<tr><td>28</td><td>Literal</td><td></td><td><a class=\"ProveItLink\" href=\"../../../../../logic/sets/membership/__pv_it/common/7171deca84f71f47a6ec7696972d1632274a12880/expr.ipynb\"><img src=\"../../../../../logic/sets/membership/__pv_it/common/7171deca84f71f47a6ec7696972d1632274a12880/expr.png\" style=\"display:inline;vertical-align:middle;\" /></a></td></tr>\n",
       "<tr><td>29</td><td>ExprTuple</td><td>31, 32</td><td><a class=\"ProveItLink\" href=\"../c74b582b59a17295af3fd973d45b1ad847d092dc0/expr.ipynb\"><img src=\"../c74b582b59a17295af3fd973d45b1ad847d092dc0/expr.png\" style=\"display:inline;vertical-align:middle;\" /></a></td></tr>\n",
       "<tr><td>30</td><td>IndexedVar</td><td>variable:&nbsp;33<br>index:&nbsp;36<br></td><td><a class=\"ProveItLink\" href=\"../../../../../core_expr_types/__pv_it/common/d8d3053e77ba1db68c0cd106952422881db586670/expr.ipynb\"><img src=\"../../../../../core_expr_types/__pv_it/common/d8d3053e77ba1db68c0cd106952422881db586670/expr.png\" style=\"display:inline;vertical-align:middle;\" /></a></td></tr>\n",
       "<tr><td>31</td><td>IndexedVar</td><td>variable:&nbsp;34<br>index:&nbsp;36<br></td><td><a class=\"ProveItLink\" href=\"../../../../../core_expr_types/__pv_it/common/d970eb18e3a42edf466b1db01e5cbdd3ba6971b60/expr.ipynb\"><img src=\"../../../../../core_expr_types/__pv_it/common/d970eb18e3a42edf466b1db01e5cbdd3ba6971b60/expr.png\" style=\"display:inline;vertical-align:middle;\" /></a></td></tr>\n",
       "<tr><td>32</td><td>Literal</td><td></td><td><a class=\"ProveItLink\" href=\"../../../../number_sets/complex_numbers/__pv_it/common/fbfabc61f6f66350b130e5a55a72b80825c065f90/expr.ipynb\"><img src=\"../../../../number_sets/complex_numbers/__pv_it/common/fbfabc61f6f66350b130e5a55a72b80825c065f90/expr.png\" style=\"display:inline;vertical-align:middle;\" /></a></td></tr>\n",
       "<tr><td>33</td><td>Variable</td><td></td><td><a class=\"ProveItLink\" href=\"../../../../../__pv_it/common/66c90e66682f107a881f2d666959f64e2e72ad750/expr.ipynb\"><img src=\"../../../../../__pv_it/common/66c90e66682f107a881f2d666959f64e2e72ad750/expr.png\" style=\"display:inline;vertical-align:middle;\" /></a></td></tr>\n",
       "<tr><td>34</td><td>Variable</td><td></td><td><a class=\"ProveItLink\" href=\"../../../../../__pv_it/common/4a5db8cc5c67969ec864bd3ea598be37cb6f5e550/expr.ipynb\"><img src=\"../../../../../__pv_it/common/4a5db8cc5c67969ec864bd3ea598be37cb6f5e550/expr.png\" style=\"display:inline;vertical-align:middle;\" /></a></td></tr>\n",
       "<tr><td>35</td><td>ExprTuple</td><td>36</td><td><a class=\"ProveItLink\" href=\"../../../../../core_expr_types/__pv_it/common/ecf50ade416ab41c42c9f4e777b4c862cd9469670/expr.ipynb\"><img src=\"../../../../../core_expr_types/__pv_it/common/ecf50ade416ab41c42c9f4e777b4c862cd9469670/expr.png\" style=\"display:inline;vertical-align:middle;\" /></a></td></tr>\n",
       "<tr><td>36</td><td>Variable</td><td></td><td><a class=\"ProveItLink\" href=\"../../../../../core_expr_types/__pv_it/common/9e6d9d5d7eeb0342cf5bca68def0eb165a1a9bb10/expr.ipynb\"><img src=\"../../../../../core_expr_types/__pv_it/common/9e6d9d5d7eeb0342cf5bca68def0eb165a1a9bb10/expr.png\" style=\"display:inline;vertical-align:middle;\" /></a></td></tr>\n",
       "</table>\n"
      ],
      "text/plain": [
       "0. ((a_{1}, ..a_{_a}.., a_{i}, b_{1}, ..b_{_a}.., b_{j}) -> {(a_{1} * ..a_{_a}.. * a_{i} * 1 * b_{1} * ..b_{_a}.. * b_{j}) = (a_{1} * ..a_{_a}.. * a_{i} * b_{1} * ..b_{_a}.. * b_{j}) if a_{1} in Complex ,  ..a_{_a} in Complex.. ,  a_{i} in Complex ,  b_{1} in Complex ,  ..b_{_a} in Complex.. ,  b_{j} in Complex.)\n",
       "   core type: ExprTuple\n",
       "   sub-expressions: 1\n",
       "1. (a_{1}, ..a_{_a}.., a_{i}, b_{1}, ..b_{_a}.., b_{j}) -> {(a_{1} * ..a_{_a}.. * a_{i} * 1 * b_{1} * ..b_{_a}.. * b_{j}) = (a_{1} * ..a_{_a}.. * a_{i} * b_{1} * ..b_{_a}.. * b_{j}) if a_{1} in Complex ,  ..a_{_a} in Complex.. ,  a_{i} in Complex ,  b_{1} in Complex ,  ..b_{_a} in Complex.. ,  b_{j} in Complex.\n",
       "   core type: Lambda\n",
       "   parameters: 15\\n   body: 2\n",
       "2. {(a_{1} * ..a_{_a}.. * a_{i} * 1 * b_{1} * ..b_{_a}.. * b_{j}) = (a_{1} * ..a_{_a}.. * a_{i} * b_{1} * ..b_{_a}.. * b_{j}) if a_{1} in Complex ,  ..a_{_a} in Complex.. ,  a_{i} in Complex ,  b_{1} in Complex ,  ..b_{_a} in Complex.. ,  b_{j} in Complex.\n",
       "   core type: Conditional\n",
       "   value: 3\n",
       "   condition: 4\n",
       "3. (a_{1} * ..a_{_a}.. * a_{i} * 1 * b_{1} * ..b_{_a}.. * b_{j}) = (a_{1} * ..a_{_a}.. * a_{i} * b_{1} * ..b_{_a}.. * b_{j})\n",
       "   core type: Operation\n",
       "   operator: 5\n",
       "   operands: 6\n",
       "4. (a_{1} in Complex) and ..(a_{_a} in Complex).. and (a_{i} in Complex) and (b_{1} in Complex) and ..(b_{_a} in Complex).. and (b_{j} in Complex)\n",
       "   core type: Operation\n",
       "   operator: 7\n",
       "   operands: 8\n",
       "5. =\n",
       "   core type: Literal\n",
       "   sub-expressions: \n",
       "6. (a_{1} * ..a_{_a}.. * a_{i} * 1 * b_{1} * ..b_{_a}.. * b_{j}, a_{1} * ..a_{_a}.. * a_{i} * b_{1} * ..b_{_a}.. * b_{j})\n",
       "   core type: ExprTuple\n",
       "   sub-expressions: 9, 10\n",
       "7. and\n",
       "   core type: Literal\n",
       "   sub-expressions: \n",
       "8. (a_{1} in Complex, ..a_{_a} in Complex.., a_{i} in Complex, b_{1} in Complex, ..b_{_a} in Complex.., b_{j} in Complex)\n",
       "   core type: ExprTuple\n",
       "   sub-expressions: 11, 12\n",
       "9. a_{1} * ..a_{_a}.. * a_{i} * 1 * b_{1} * ..b_{_a}.. * b_{j}\n",
       "   core type: Operation\n",
       "   operator: 14\n",
       "   operands: 13\n",
       "10. a_{1} * ..a_{_a}.. * a_{i} * b_{1} * ..b_{_a}.. * b_{j}\n",
       "    core type: Operation\n",
       "    operator: 14\n",
       "    operands: 15\n",
       "11. (a_{1} in Complex), ..(a_{_a} in Complex).., (a_{i} in Complex)\n",
       "    core type: ExprRange\n",
       "    lambda_map: 16\n",
       "    start_index: 25\n",
       "    end_index: 23\n",
       "12. (b_{1} in Complex), ..(b_{_a} in Complex).., (b_{j} in Complex)\n",
       "    core type: ExprRange\n",
       "    lambda_map: 17\n",
       "    start_index: 25\n",
       "    end_index: 26\n",
       "13. (a_{1}, ..a_{_a}.., a_{i}, 1, b_{1}, ..b_{_a}.., b_{j})\n",
       "    core type: ExprTuple\n",
       "    sub-expressions: 18, 25, 19\n",
       "14. *\n",
       "    core type: Literal\n",
       "    sub-expressions: \n",
       "15. (a_{1}, ..a_{_a}.., a_{i}, b_{1}, ..b_{_a}.., b_{j})\n",
       "    core type: ExprTuple\n",
       "    sub-expressions: 18, 19\n",
       "16. _a -> (a_{_a} in Complex)\n",
       "    core type: Lambda\n",
       "    parameter: 36\n",
       "    body: 20\n",
       "17. _a -> (b_{_a} in Complex)\n",
       "    core type: Lambda\n",
       "    parameter: 36\n",
       "    body: 21\n",
       "18. a_{1}, ..a_{_a}.., a_{i}\n",
       "    core type: ExprRange\n",
       "    lambda_map: 22\n",
       "    start_index: 25\n",
       "    end_index: 23\n",
       "19. b_{1}, ..b_{_a}.., b_{j}\n",
       "    core type: ExprRange\n",
       "    lambda_map: 24\n",
       "    start_index: 25\n",
       "    end_index: 26\n",
       "20. a_{_a} in Complex\n",
       "    core type: Operation\n",
       "    operator: 28\n",
       "    operands: 27\n",
       "21. b_{_a} in Complex\n",
       "    core type: Operation\n",
       "    operator: 28\n",
       "    operands: 29\n",
       "22. _a -> a_{_a}\n",
       "    core type: Lambda\n",
       "    parameter: 36\n",
       "    body: 30\n",
       "23. i\n",
       "    core type: Variable\n",
       "    sub-expressions: \n",
       "24. _a -> b_{_a}\n",
       "    core type: Lambda\n",
       "    parameter: 36\n",
       "    body: 31\n",
       "25. 1\n",
       "    core type: Literal\n",
       "    sub-expressions: \n",
       "26. j\n",
       "    core type: Variable\n",
       "    sub-expressions: \n",
       "27. (a_{_a}, Complex)\n",
       "    core type: ExprTuple\n",
       "    sub-expressions: 30, 32\n",
       "28. in\n",
       "    core type: Literal\n",
       "    sub-expressions: \n",
       "29. (b_{_a}, Complex)\n",
       "    core type: ExprTuple\n",
       "    sub-expressions: 31, 32\n",
       "30. a_{_a}\n",
       "    core type: IndexedVar\n",
       "variable: 33\n",
       "index: 36\n",
       "31. b_{_a}\n",
       "    core type: IndexedVar\n",
       "variable: 34\n",
       "index: 36\n",
       "32. Complex\n",
       "    core type: Literal\n",
       "    sub-expressions: \n",
       "33. a\n",
       "    core type: Variable\n",
       "    sub-expressions: \n",
       "34. b\n",
       "    core type: Variable\n",
       "    sub-expressions: \n",
       "35. (_a)\n",
       "    core type: ExprTuple\n",
       "    sub-expressions: 36\n",
       "36. _a\n",
       "    core type: Variable\n",
       "    sub-expressions: "
      ]
     },
     "execution_count": 6,
     "metadata": {},
     "output_type": "execute_result"
    }
   ],
   "source": [
    "# display the expression information\n",
    "expr.expr_info()"
   ]
  },
  {
   "cell_type": "code",
   "execution_count": null,
   "metadata": {},
   "outputs": [],
   "source": []
  }
 ],
 "metadata": {
  "kernelspec": {
   "display_name": "Python 3",
   "language": "python",
   "name": "python3"
  }
 },
 "nbformat": 4,
 "nbformat_minor": 0
}