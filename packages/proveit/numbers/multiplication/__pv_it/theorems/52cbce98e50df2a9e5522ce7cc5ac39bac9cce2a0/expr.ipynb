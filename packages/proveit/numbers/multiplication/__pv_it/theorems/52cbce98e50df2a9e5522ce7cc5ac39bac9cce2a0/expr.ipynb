{
 "cells": [
  {
   "cell_type": "markdown",
   "metadata": {},
   "source": [
    "Expression of type <a class=\"ProveItLink\" href=\"../../../../../../../doc/html/api/proveit.ExprTuple.html\">ExprTuple</a>\n",
    "=======================\n",
    "# from the theory of <a class=\"ProveItLink\" href=\"../../../_theory_nbs_/theory.ipynb\">proveit.numbers.multiplication</a>"
   ]
  },
  {
   "cell_type": "code",
   "execution_count": 1,
   "metadata": {},
   "outputs": [],
   "source": [
    "import proveit\n",
    "# Automation is not needed when building an expression:\n",
    "proveit.defaults.automation = False # This will speed things up.\n",
    "proveit.defaults.inline_pngs = False # Makes files smaller.\n",
    "%load_expr # Load the stored expression as 'stored_expr'\n",
    "# import Expression classes needed to build the expression\n",
    "from proveit import ExprTuple, Function, P, S\n",
    "from proveit.core_expr_types import a_1_to_i, b_1_to_j, c_1_to_k\n",
    "from proveit.numbers import Mult, Sum"
   ]
  },
  {
   "cell_type": "code",
   "execution_count": 2,
   "metadata": {},
   "outputs": [
    {
     "data": {
      "text/html": [
       "<strong id=\"expr\">expr:</strong> <a class=\"ProveItLink\" href=\"expr.ipynb\"><img src=\"expr.png\" style=\"display:inline;vertical-align:middle;\" /></a><br>"
      ],
      "text/plain": [
       "expr: (a_{1} * ..a_{_a}.. * a_{i} * Sum_{b_{1}, ..b_{_a}.., b_{j} in S} P(b_{1}, ..b_{_a}.., b_{j}) * c_{1} * ..c_{_a}.. * c_{k}, Sum_{b_{1}, ..b_{_a}.., b_{j} in S} (a_{1} * ..a_{_a}.. * a_{i} * P(b_{1}, ..b_{_a}.., b_{j}) * c_{1} * ..c_{_a}.. * c_{k}))"
      ]
     },
     "execution_count": 2,
     "metadata": {},
     "output_type": "execute_result"
    }
   ],
   "source": [
    "# build up the expression from sub-expressions\n",
    "sub_expr1 = [S]\n",
    "sub_expr2 = [b_1_to_j]\n",
    "sub_expr3 = Function(P, sub_expr2)\n",
    "expr = ExprTuple(Mult(a_1_to_i, Sum(sub_expr2, sub_expr3, domains = sub_expr1), c_1_to_k), Sum(sub_expr2, Mult(a_1_to_i, sub_expr3, c_1_to_k), domains = sub_expr1))"
   ]
  },
  {
   "cell_type": "code",
   "execution_count": 3,
   "metadata": {},
   "outputs": [
    {
     "name": "stdout",
     "output_type": "stream",
     "text": [
      "Passed sanity check: expr matches stored_expr\n"
     ]
    }
   ],
   "source": [
    "# check that the built expression is the same as the stored expression\n",
    "assert expr == stored_expr\n",
    "assert expr._style_id == stored_expr._style_id\n",
    "print(\"Passed sanity check: expr matches stored_expr\")"
   ]
  },
  {
   "cell_type": "code",
   "execution_count": 4,
   "metadata": {},
   "outputs": [
    {
     "name": "stdout",
     "output_type": "stream",
     "text": [
      "\\left(a_{1} \\cdot \\ldots \\cdot a_{i} \\cdot \\sum_{b_{1}, \\ldots, b_{j} \\in S}~P(b_{1}, \\ldots, b_{j}) \\cdot c_{1} \\cdot \\ldots \\cdot c_{k}, \\sum_{b_{1}, \\ldots, b_{j} \\in S}~\\left(a_{1} \\cdot \\ldots \\cdot a_{i} \\cdot P(b_{1}, \\ldots, b_{j}) \\cdot c_{1} \\cdot \\ldots \\cdot c_{k}\\right)\\right)\n"
     ]
    }
   ],
   "source": [
    "# Show the LaTeX representation of the expression for convenience if you need it.\n",
    "print(expr.latex())"
   ]
  },
  {
   "cell_type": "code",
   "execution_count": 5,
   "metadata": {},
   "outputs": [
    {
     "data": {
      "text/html": [
       "<table><tr><th>&nbsp;</th><th>core type</th><th>sub-expressions</th><th>expression</th></tr>\n",
       "<tr><td>0</td><td>ExprTuple</td><td>1, 2</td><td><a class=\"ProveItLink\" href=\"expr.ipynb\"><img src=\"expr.png\" style=\"display:inline;vertical-align:middle;\" /></a></td></tr>\n",
       "<tr><td>1</td><td>Operation</td><td>operator:&nbsp;11<br>operands:&nbsp;3<br></td><td><a class=\"ProveItLink\" href=\"../c9558dc16428ce99c16f3654f6efc660d55020de0/expr.ipynb\"><img src=\"../c9558dc16428ce99c16f3654f6efc660d55020de0/expr.png\" style=\"display:inline;vertical-align:middle;\" /></a></td></tr>\n",
       "<tr><td>2</td><td>Operation</td><td>operator:&nbsp;7<br>operand:&nbsp;4<br></td><td><a class=\"ProveItLink\" href=\"../6e61c11da21a7759743eee3ff65b09878b3096280/expr.ipynb\"><img src=\"../6e61c11da21a7759743eee3ff65b09878b3096280/expr.png\" style=\"display:inline;vertical-align:middle;\" /></a></td></tr>\n",
       "<tr><td>3</td><td>ExprTuple</td><td>14, 5, 16</td><td><a class=\"ProveItLink\" href=\"../780bfedbcf25a31916fb32f50bbac248844018cb0/expr.ipynb\"><img src=\"../780bfedbcf25a31916fb32f50bbac248844018cb0/expr.png\" style=\"display:inline;vertical-align:middle;\" /></a></td></tr>\n",
       "<tr><td>4</td><td>Lambda</td><td>parameters:&nbsp;22<br>body:&nbsp;6<br></td><td><a class=\"ProveItLink\" href=\"../9d7b075e277c5b57fae8de2c0755fd64668c72770/expr.ipynb\"><img src=\"../9d7b075e277c5b57fae8de2c0755fd64668c72770/expr.png\" style=\"display:inline;vertical-align:middle;\" /></a></td></tr>\n",
       "<tr><td>5</td><td>Operation</td><td>operator:&nbsp;7<br>operand:&nbsp;8<br></td><td><a class=\"ProveItLink\" href=\"../76c5865cf2aae8f86687cd40e037aea4ee230f210/expr.ipynb\"><img src=\"../76c5865cf2aae8f86687cd40e037aea4ee230f210/expr.png\" style=\"display:inline;vertical-align:middle;\" /></a></td></tr>\n",
       "<tr><td>6</td><td>Conditional</td><td>value:&nbsp;9<br>condition:&nbsp;13<br></td><td><a class=\"ProveItLink\" href=\"../c7d7743a0ca51b8a138dbc716b071caedd8d60620/expr.ipynb\"><img src=\"../c7d7743a0ca51b8a138dbc716b071caedd8d60620/expr.png\" style=\"display:inline;vertical-align:middle;\" /></a></td></tr>\n",
       "<tr><td>7</td><td>Literal</td><td></td><td><a class=\"ProveItLink\" href=\"../../../../summation/__pv_it/common/14fe61cccc388f91dfd83d3ca31cf27448cc070a0/expr.ipynb\"><img src=\"../../../../summation/__pv_it/common/14fe61cccc388f91dfd83d3ca31cf27448cc070a0/expr.png\" style=\"display:inline;vertical-align:middle;\" /></a></td></tr>\n",
       "<tr><td>8</td><td>Lambda</td><td>parameters:&nbsp;22<br>body:&nbsp;10<br></td><td><a class=\"ProveItLink\" href=\"../9910e902655db5f5fcf771d8019011baea7429180/expr.ipynb\"><img src=\"../9910e902655db5f5fcf771d8019011baea7429180/expr.png\" style=\"display:inline;vertical-align:middle;\" /></a></td></tr>\n",
       "<tr><td>9</td><td>Operation</td><td>operator:&nbsp;11<br>operands:&nbsp;12<br></td><td><a class=\"ProveItLink\" href=\"../69a67b2b8a1c4aca22ad754ef2038c6bbc5b4e0a0/expr.ipynb\"><img src=\"../69a67b2b8a1c4aca22ad754ef2038c6bbc5b4e0a0/expr.png\" style=\"display:inline;vertical-align:middle;\" /></a></td></tr>\n",
       "<tr><td>10</td><td>Conditional</td><td>value:&nbsp;15<br>condition:&nbsp;13<br></td><td><a class=\"ProveItLink\" href=\"../e1ef400c08c1c503c02f616ef704c177c59c4ad20/expr.ipynb\"><img src=\"../e1ef400c08c1c503c02f616ef704c177c59c4ad20/expr.png\" style=\"display:inline;vertical-align:middle;\" /></a></td></tr>\n",
       "<tr><td>11</td><td>Literal</td><td></td><td><a class=\"ProveItLink\" href=\"../../common/ed719cef37831779c16481533a4d380a2f95ab270/expr.ipynb\"><img src=\"../../common/ed719cef37831779c16481533a4d380a2f95ab270/expr.png\" style=\"display:inline;vertical-align:middle;\" /></a></td></tr>\n",
       "<tr><td>12</td><td>ExprTuple</td><td>14, 15, 16</td><td><a class=\"ProveItLink\" href=\"../6b1053e2a43da1e60f5b44a7fa59e067f8b773de0/expr.ipynb\"><img src=\"../6b1053e2a43da1e60f5b44a7fa59e067f8b773de0/expr.png\" style=\"display:inline;vertical-align:middle;\" /></a></td></tr>\n",
       "<tr><td>13</td><td>Operation</td><td>operator:&nbsp;17<br>operands:&nbsp;18<br></td><td><a class=\"ProveItLink\" href=\"../7e574ec00c035a88de9aa17547c09ae1e112b6250/expr.ipynb\"><img src=\"../7e574ec00c035a88de9aa17547c09ae1e112b6250/expr.png\" style=\"display:inline;vertical-align:middle;\" /></a></td></tr>\n",
       "<tr><td>14</td><td>ExprRange</td><td>lambda_map:&nbsp;19<br>start_index:&nbsp;32<br>end_index:&nbsp;20<br></td><td><a class=\"ProveItLink\" href=\"../../../../../core_expr_types/__pv_it/common/3143372b81f4215c0f48ddd93ca9c77fdfbd3fc20/expr.ipynb\"><img src=\"../../../../../core_expr_types/__pv_it/common/3143372b81f4215c0f48ddd93ca9c77fdfbd3fc20/expr.png\" style=\"display:inline;vertical-align:middle;\" /></a></td></tr>\n",
       "<tr><td>15</td><td>Operation</td><td>operator:&nbsp;21<br>operands:&nbsp;22<br></td><td><a class=\"ProveItLink\" href=\"../f4c7b14b20bfa698f185cac60f7761c067a0d04a0/expr.ipynb\"><img src=\"../f4c7b14b20bfa698f185cac60f7761c067a0d04a0/expr.png\" style=\"display:inline;vertical-align:middle;\" /></a></td></tr>\n",
       "<tr><td>16</td><td>ExprRange</td><td>lambda_map:&nbsp;23<br>start_index:&nbsp;32<br>end_index:&nbsp;24<br></td><td><a class=\"ProveItLink\" href=\"../../../../../core_expr_types/__pv_it/common/020340b9181c055c5d15adf94352b57417320c0f0/expr.ipynb\"><img src=\"../../../../../core_expr_types/__pv_it/common/020340b9181c055c5d15adf94352b57417320c0f0/expr.png\" style=\"display:inline;vertical-align:middle;\" /></a></td></tr>\n",
       "<tr><td>17</td><td>Literal</td><td></td><td><a class=\"ProveItLink\" href=\"../../../../../logic/booleans/conjunction/__pv_it/common/42118ff318bd65d98b1393f64ce7c2269feef76e0/expr.ipynb\"><img src=\"../../../../../logic/booleans/conjunction/__pv_it/common/42118ff318bd65d98b1393f64ce7c2269feef76e0/expr.png\" style=\"display:inline;vertical-align:middle;\" /></a></td></tr>\n",
       "<tr><td>18</td><td>ExprTuple</td><td>25</td><td><a class=\"ProveItLink\" href=\"../70f5910faa3470d892aebb5197c99b4b4c56236a0/expr.ipynb\"><img src=\"../70f5910faa3470d892aebb5197c99b4b4c56236a0/expr.png\" style=\"display:inline;vertical-align:middle;\" /></a></td></tr>\n",
       "<tr><td>19</td><td>Lambda</td><td>parameter:&nbsp;41<br>body:&nbsp;26<br></td><td><a class=\"ProveItLink\" href=\"../../../../../core_expr_types/__pv_it/common/9f0c64ef8ae0c02b5dcba32e0fb15bd29f85872a0/expr.ipynb\"><img src=\"../../../../../core_expr_types/__pv_it/common/9f0c64ef8ae0c02b5dcba32e0fb15bd29f85872a0/expr.png\" style=\"display:inline;vertical-align:middle;\" /></a></td></tr>\n",
       "<tr><td>20</td><td>Variable</td><td></td><td><a class=\"ProveItLink\" href=\"../../../../../__pv_it/common/ae955345c83abf786c3aff8681cd5465beae262d0/expr.ipynb\"><img src=\"../../../../../__pv_it/common/ae955345c83abf786c3aff8681cd5465beae262d0/expr.png\" style=\"display:inline;vertical-align:middle;\" /></a></td></tr>\n",
       "<tr><td>21</td><td>Variable</td><td></td><td><a class=\"ProveItLink\" href=\"../../../../../__pv_it/common/de55da274ba0f49c86925fbf3828021c04d27faf0/expr.ipynb\"><img src=\"../../../../../__pv_it/common/de55da274ba0f49c86925fbf3828021c04d27faf0/expr.png\" style=\"display:inline;vertical-align:middle;\" /></a></td></tr>\n",
       "<tr><td>22</td><td>ExprTuple</td><td>27</td><td><a class=\"ProveItLink\" href=\"../348c01de4dc609ebbb3f8a149922bbb6e2aa04fa0/expr.ipynb\"><img src=\"../348c01de4dc609ebbb3f8a149922bbb6e2aa04fa0/expr.png\" style=\"display:inline;vertical-align:middle;\" /></a></td></tr>\n",
       "<tr><td>23</td><td>Lambda</td><td>parameter:&nbsp;41<br>body:&nbsp;28<br></td><td><a class=\"ProveItLink\" href=\"../../../../../core_expr_types/__pv_it/common/eba5dead6140ec223e25e265b736e83e185c334c0/expr.ipynb\"><img src=\"../../../../../core_expr_types/__pv_it/common/eba5dead6140ec223e25e265b736e83e185c334c0/expr.png\" style=\"display:inline;vertical-align:middle;\" /></a></td></tr>\n",
       "<tr><td>24</td><td>Variable</td><td></td><td><a class=\"ProveItLink\" href=\"../../../../../__pv_it/common/63b7c64bf9ec7a04ecc396c7a1670f3f12fb59490/expr.ipynb\"><img src=\"../../../../../__pv_it/common/63b7c64bf9ec7a04ecc396c7a1670f3f12fb59490/expr.png\" style=\"display:inline;vertical-align:middle;\" /></a></td></tr>\n",
       "<tr><td>25</td><td>ExprRange</td><td>lambda_map:&nbsp;29<br>start_index:&nbsp;32<br>end_index:&nbsp;33<br></td><td><a class=\"ProveItLink\" href=\"../909e9726e8e2ab06b979dd5d0da5b88c3a96ec690/expr.ipynb\"><img src=\"../909e9726e8e2ab06b979dd5d0da5b88c3a96ec690/expr.png\" style=\"display:inline;vertical-align:middle;\" /></a></td></tr>\n",
       "<tr><td>26</td><td>IndexedVar</td><td>variable:&nbsp;30<br>index:&nbsp;41<br></td><td><a class=\"ProveItLink\" href=\"../../../../../core_expr_types/__pv_it/common/ea36c59b79decceeaf696ef762cc9648f9ddbf5c0/expr.ipynb\"><img src=\"../../../../../core_expr_types/__pv_it/common/ea36c59b79decceeaf696ef762cc9648f9ddbf5c0/expr.png\" style=\"display:inline;vertical-align:middle;\" /></a></td></tr>\n",
       "<tr><td>27</td><td>ExprRange</td><td>lambda_map:&nbsp;31<br>start_index:&nbsp;32<br>end_index:&nbsp;33<br></td><td><a class=\"ProveItLink\" href=\"../../../../../core_expr_types/__pv_it/common/04a009a369958ec3b80ac6387b0fb199d00619dd0/expr.ipynb\"><img src=\"../../../../../core_expr_types/__pv_it/common/04a009a369958ec3b80ac6387b0fb199d00619dd0/expr.png\" style=\"display:inline;vertical-align:middle;\" /></a></td></tr>\n",
       "<tr><td>28</td><td>IndexedVar</td><td>variable:&nbsp;34<br>index:&nbsp;41<br></td><td><a class=\"ProveItLink\" href=\"../../../../../core_expr_types/__pv_it/common/ce0e3deabb2d7b0cf29fae3ec1fe2c2fd5d1de600/expr.ipynb\"><img src=\"../../../../../core_expr_types/__pv_it/common/ce0e3deabb2d7b0cf29fae3ec1fe2c2fd5d1de600/expr.png\" style=\"display:inline;vertical-align:middle;\" /></a></td></tr>\n",
       "<tr><td>29</td><td>Lambda</td><td>parameter:&nbsp;41<br>body:&nbsp;35<br></td><td><a class=\"ProveItLink\" href=\"../61c77b6ef430e1aa8f843af88af29d0e2296cdfb0/expr.ipynb\"><img src=\"../61c77b6ef430e1aa8f843af88af29d0e2296cdfb0/expr.png\" style=\"display:inline;vertical-align:middle;\" /></a></td></tr>\n",
       "<tr><td>30</td><td>Variable</td><td></td><td><a class=\"ProveItLink\" href=\"../../../../../__pv_it/common/c06c606ec12678c58933ac85412ecadc2ae28be60/expr.ipynb\"><img src=\"../../../../../__pv_it/common/c06c606ec12678c58933ac85412ecadc2ae28be60/expr.png\" style=\"display:inline;vertical-align:middle;\" /></a></td></tr>\n",
       "<tr><td>31</td><td>Lambda</td><td>parameter:&nbsp;41<br>body:&nbsp;38<br></td><td><a class=\"ProveItLink\" href=\"../../../../../core_expr_types/__pv_it/common/c2df84a66e11f720c679abb1b2e017879a8ed4350/expr.ipynb\"><img src=\"../../../../../core_expr_types/__pv_it/common/c2df84a66e11f720c679abb1b2e017879a8ed4350/expr.png\" style=\"display:inline;vertical-align:middle;\" /></a></td></tr>\n",
       "<tr><td>32</td><td>Literal</td><td></td><td><a class=\"ProveItLink\" href=\"../../../../numerals/__pv_it/common/2778428c7f555b2bdc06aa0530bc142c6e6335100/expr.ipynb\"><img src=\"../../../../numerals/__pv_it/common/2778428c7f555b2bdc06aa0530bc142c6e6335100/expr.png\" style=\"display:inline;vertical-align:middle;\" /></a></td></tr>\n",
       "<tr><td>33</td><td>Variable</td><td></td><td><a class=\"ProveItLink\" href=\"../../../../../__pv_it/common/1ed21df18baca2f42b561a7ffbf30a2743d594650/expr.ipynb\"><img src=\"../../../../../__pv_it/common/1ed21df18baca2f42b561a7ffbf30a2743d594650/expr.png\" style=\"display:inline;vertical-align:middle;\" /></a></td></tr>\n",
       "<tr><td>34</td><td>Variable</td><td></td><td><a class=\"ProveItLink\" href=\"../../../../../__pv_it/common/ceef4280a2f1cc604b455b54e735507244cc62cd0/expr.ipynb\"><img src=\"../../../../../__pv_it/common/ceef4280a2f1cc604b455b54e735507244cc62cd0/expr.png\" style=\"display:inline;vertical-align:middle;\" /></a></td></tr>\n",
       "<tr><td>35</td><td>Operation</td><td>operator:&nbsp;36<br>operands:&nbsp;37<br></td><td><a class=\"ProveItLink\" href=\"../ff672a5057bbbac861f013584317fc99b7d54da80/expr.ipynb\"><img src=\"../ff672a5057bbbac861f013584317fc99b7d54da80/expr.png\" style=\"display:inline;vertical-align:middle;\" /></a></td></tr>\n",
       "<tr><td>36</td><td>Literal</td><td></td><td><a class=\"ProveItLink\" href=\"../../../../../logic/sets/membership/__pv_it/common/477487d8796864d23d5810f83761435f25167f690/expr.ipynb\"><img src=\"../../../../../logic/sets/membership/__pv_it/common/477487d8796864d23d5810f83761435f25167f690/expr.png\" style=\"display:inline;vertical-align:middle;\" /></a></td></tr>\n",
       "<tr><td>37</td><td>ExprTuple</td><td>38, 39</td><td><a class=\"ProveItLink\" href=\"../3c3455521f3ffa560c4bfede7684e784fa3afea20/expr.ipynb\"><img src=\"../3c3455521f3ffa560c4bfede7684e784fa3afea20/expr.png\" style=\"display:inline;vertical-align:middle;\" /></a></td></tr>\n",
       "<tr><td>38</td><td>IndexedVar</td><td>variable:&nbsp;40<br>index:&nbsp;41<br></td><td><a class=\"ProveItLink\" href=\"../../../../../core_expr_types/__pv_it/common/be357322e6b23f6bdf544b2cf09607618adbd09b0/expr.ipynb\"><img src=\"../../../../../core_expr_types/__pv_it/common/be357322e6b23f6bdf544b2cf09607618adbd09b0/expr.png\" style=\"display:inline;vertical-align:middle;\" /></a></td></tr>\n",
       "<tr><td>39</td><td>Variable</td><td></td><td><a class=\"ProveItLink\" href=\"../../../../../__pv_it/common/38f47c5670ea8c5b56253448e95d8afb56bc09b40/expr.ipynb\"><img src=\"../../../../../__pv_it/common/38f47c5670ea8c5b56253448e95d8afb56bc09b40/expr.png\" style=\"display:inline;vertical-align:middle;\" /></a></td></tr>\n",
       "<tr><td>40</td><td>Variable</td><td></td><td><a class=\"ProveItLink\" href=\"../../../../../__pv_it/common/195236b98c6c564a75b5dbada74b173bc52d5c3e0/expr.ipynb\"><img src=\"../../../../../__pv_it/common/195236b98c6c564a75b5dbada74b173bc52d5c3e0/expr.png\" style=\"display:inline;vertical-align:middle;\" /></a></td></tr>\n",
       "<tr><td>41</td><td>Variable</td><td></td><td><a class=\"ProveItLink\" href=\"../../../../../core_expr_types/__pv_it/common/006c465e50948aa2b52285e2de47974f741255cc0/expr.ipynb\"><img src=\"../../../../../core_expr_types/__pv_it/common/006c465e50948aa2b52285e2de47974f741255cc0/expr.png\" style=\"display:inline;vertical-align:middle;\" /></a></td></tr>\n",
       "</table>\n"
      ],
      "text/plain": [
       "0. (a_{1} * ..a_{_a}.. * a_{i} * Sum_{b_{1}, ..b_{_a}.., b_{j} in S} P(b_{1}, ..b_{_a}.., b_{j}) * c_{1} * ..c_{_a}.. * c_{k}, Sum_{b_{1}, ..b_{_a}.., b_{j} in S} (a_{1} * ..a_{_a}.. * a_{i} * P(b_{1}, ..b_{_a}.., b_{j}) * c_{1} * ..c_{_a}.. * c_{k}))\n",
       "   core type: ExprTuple\n",
       "   sub-expressions: 1, 2\n",
       "1. a_{1} * ..a_{_a}.. * a_{i} * Sum_{b_{1}, ..b_{_a}.., b_{j} in S} P(b_{1}, ..b_{_a}.., b_{j}) * c_{1} * ..c_{_a}.. * c_{k}\n",
       "   core type: Operation\n",
       "   operator: 11\n",
       "   operands: 3\n",
       "2. Sum_{b_{1}, ..b_{_a}.., b_{j} in S} (a_{1} * ..a_{_a}.. * a_{i} * P(b_{1}, ..b_{_a}.., b_{j}) * c_{1} * ..c_{_a}.. * c_{k})\n",
       "   core type: Operation\n",
       "   operator: 7\n",
       "   operand: 4\n",
       "3. (a_{1}, ..a_{_a}.., a_{i}, Sum_{b_{1}, ..b_{_a}.., b_{j} in S} P(b_{1}, ..b_{_a}.., b_{j}), c_{1}, ..c_{_a}.., c_{k})\n",
       "   core type: ExprTuple\n",
       "   sub-expressions: 14, 5, 16\n",
       "4. (b_{1}, ..b_{_a}.., b_{j}) -> {a_{1} * ..a_{_a}.. * a_{i} * P(b_{1}, ..b_{_a}.., b_{j}) * c_{1} * ..c_{_a}.. * c_{k} if (b_{1} in S) and ..(b_{_a} in S).. and (b_{j} in S).\n",
       "   core type: Lambda\n",
       "   parameters: 22\\n   body: 6\n",
       "5. Sum_{b_{1}, ..b_{_a}.., b_{j} in S} P(b_{1}, ..b_{_a}.., b_{j})\n",
       "   core type: Operation\n",
       "   operator: 7\n",
       "   operand: 8\n",
       "6. {a_{1} * ..a_{_a}.. * a_{i} * P(b_{1}, ..b_{_a}.., b_{j}) * c_{1} * ..c_{_a}.. * c_{k} if (b_{1} in S) and ..(b_{_a} in S).. and (b_{j} in S).\n",
       "   core type: Conditional\n",
       "   value: 9\n",
       "   condition: 13\n",
       "7. Sum\n",
       "   core type: Literal\n",
       "   sub-expressions: \n",
       "8. (b_{1}, ..b_{_a}.., b_{j}) -> {P(b_{1}, ..b_{_a}.., b_{j}) if (b_{1} in S) and ..(b_{_a} in S).. and (b_{j} in S).\n",
       "   core type: Lambda\n",
       "   parameters: 22\\n   body: 10\n",
       "9. a_{1} * ..a_{_a}.. * a_{i} * P(b_{1}, ..b_{_a}.., b_{j}) * c_{1} * ..c_{_a}.. * c_{k}\n",
       "   core type: Operation\n",
       "   operator: 11\n",
       "   operands: 12\n",
       "10. {P(b_{1}, ..b_{_a}.., b_{j}) if (b_{1} in S) and ..(b_{_a} in S).. and (b_{j} in S).\n",
       "    core type: Conditional\n",
       "    value: 15\n",
       "    condition: 13\n",
       "11. *\n",
       "    core type: Literal\n",
       "    sub-expressions: \n",
       "12. (a_{1}, ..a_{_a}.., a_{i}, P(b_{1}, ..b_{_a}.., b_{j}), c_{1}, ..c_{_a}.., c_{k})\n",
       "    core type: ExprTuple\n",
       "    sub-expressions: 14, 15, 16\n",
       "13. (b_{1} in S) and ..(b_{_a} in S).. and (b_{j} in S)\n",
       "    core type: Operation\n",
       "    operator: 17\n",
       "    operands: 18\n",
       "14. a_{1}, ..a_{_a}.., a_{i}\n",
       "    core type: ExprRange\n",
       "    lambda_map: 19\n",
       "    start_index: 32\n",
       "    end_index: 20\n",
       "15. P(b_{1}, ..b_{_a}.., b_{j})\n",
       "    core type: Operation\n",
       "    operator: 21\n",
       "    operands: 22\n",
       "16. c_{1}, ..c_{_a}.., c_{k}\n",
       "    core type: ExprRange\n",
       "    lambda_map: 23\n",
       "    start_index: 32\n",
       "    end_index: 24\n",
       "17. and\n",
       "    core type: Literal\n",
       "    sub-expressions: \n",
       "18. (b_{1} in S, ..b_{_a} in S.., b_{j} in S)\n",
       "    core type: ExprTuple\n",
       "    sub-expressions: 25\n",
       "19. _a -> a_{_a}\n",
       "    core type: Lambda\n",
       "    parameter: 41\n",
       "    body: 26\n",
       "20. i\n",
       "    core type: Variable\n",
       "    sub-expressions: \n",
       "21. P\n",
       "    core type: Variable\n",
       "    sub-expressions: \n",
       "22. (b_{1}, ..b_{_a}.., b_{j})\n",
       "    core type: ExprTuple\n",
       "    sub-expressions: 27\n",
       "23. _a -> c_{_a}\n",
       "    core type: Lambda\n",
       "    parameter: 41\n",
       "    body: 28\n",
       "24. k\n",
       "    core type: Variable\n",
       "    sub-expressions: \n",
       "25. (b_{1} in S), ..(b_{_a} in S).., (b_{j} in S)\n",
       "    core type: ExprRange\n",
       "    lambda_map: 29\n",
       "    start_index: 32\n",
       "    end_index: 33\n",
       "26. a_{_a}\n",
       "    core type: IndexedVar\n",
       "variable: 30\n",
       "index: 41\n",
       "27. b_{1}, ..b_{_a}.., b_{j}\n",
       "    core type: ExprRange\n",
       "    lambda_map: 31\n",
       "    start_index: 32\n",
       "    end_index: 33\n",
       "28. c_{_a}\n",
       "    core type: IndexedVar\n",
       "variable: 34\n",
       "index: 41\n",
       "29. _a -> (b_{_a} in S)\n",
       "    core type: Lambda\n",
       "    parameter: 41\n",
       "    body: 35\n",
       "30. a\n",
       "    core type: Variable\n",
       "    sub-expressions: \n",
       "31. _a -> b_{_a}\n",
       "    core type: Lambda\n",
       "    parameter: 41\n",
       "    body: 38\n",
       "32. 1\n",
       "    core type: Literal\n",
       "    sub-expressions: \n",
       "33. j\n",
       "    core type: Variable\n",
       "    sub-expressions: \n",
       "34. c\n",
       "    core type: Variable\n",
       "    sub-expressions: \n",
       "35. b_{_a} in S\n",
       "    core type: Operation\n",
       "    operator: 36\n",
       "    operands: 37\n",
       "36. in\n",
       "    core type: Literal\n",
       "    sub-expressions: \n",
       "37. (b_{_a}, S)\n",
       "    core type: ExprTuple\n",
       "    sub-expressions: 38, 39\n",
       "38. b_{_a}\n",
       "    core type: IndexedVar\n",
       "variable: 40\n",
       "index: 41\n",
       "39. S\n",
       "    core type: Variable\n",
       "    sub-expressions: \n",
       "40. b\n",
       "    core type: Variable\n",
       "    sub-expressions: \n",
       "41. _a\n",
       "    core type: Variable\n",
       "    sub-expressions: "
      ]
     },
     "execution_count": 5,
     "metadata": {},
     "output_type": "execute_result"
    }
   ],
   "source": [
    "# display the expression information\n",
    "expr.expr_info()"
   ]
  },
  {
   "cell_type": "code",
   "execution_count": null,
   "metadata": {},
   "outputs": [],
   "source": []
  }
 ],
 "metadata": {
  "kernelspec": {
   "display_name": "Python 3",
   "language": "python",
   "name": "python3"
  }
 },
 "nbformat": 4,
 "nbformat_minor": 0
}