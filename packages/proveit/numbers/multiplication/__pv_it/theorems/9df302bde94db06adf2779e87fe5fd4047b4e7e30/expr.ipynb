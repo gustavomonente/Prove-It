{
 "cells": [
  {
   "cell_type": "markdown",
   "metadata": {},
   "source": [
    "Expression of type <a class=\"ProveItLink\" href=\"../../../../../../../doc/html/api/proveit.logic.Forall.html\">Forall</a>\n",
    "=======================\n",
    "# from the theory of <a class=\"ProveItLink\" href=\"../../../_theory_nbs_/theory.ipynb\">proveit.numbers.multiplication</a>"
   ]
  },
  {
   "cell_type": "code",
   "execution_count": 1,
   "metadata": {},
   "outputs": [],
   "source": [
    "import proveit\n",
    "# Automation is not needed when building an expression:\n",
    "proveit.defaults.automation = False # This will speed things up.\n",
    "proveit.defaults.inline_pngs = False # Makes files smaller.\n",
    "%load_expr # Load the stored expression as 'stored_expr'\n",
    "# import Expression classes needed to build the expression\n",
    "from proveit import a, x, y\n",
    "from proveit.logic import Forall, NotEquals\n",
    "from proveit.numbers import Complex, Mult, zero"
   ]
  },
  {
   "cell_type": "code",
   "execution_count": 2,
   "metadata": {},
   "outputs": [
    {
     "data": {
      "text/html": [
       "<strong id=\"expr\">expr:</strong> <a class=\"ProveItLink\" href=\"expr.ipynb\"><img src=\"expr.png\" style=\"display:inline;vertical-align:middle;\" /></a><br>"
      ],
      "text/plain": [
       "expr: forall_{a, x, y in Complex | x != y, a != 0} ((a * x) != (a * y))"
      ]
     },
     "execution_count": 2,
     "metadata": {},
     "output_type": "execute_result"
    }
   ],
   "source": [
    "# build up the expression from sub-expressions\n",
    "expr = Forall([a, x, y], NotEquals(Mult(a, x), Mult(a, y)), domains = [Complex, Complex, Complex], conditions = [NotEquals(x, y), NotEquals(a, zero)])"
   ]
  },
  {
   "cell_type": "code",
   "execution_count": 3,
   "metadata": {},
   "outputs": [
    {
     "name": "stdout",
     "output_type": "stream",
     "text": [
      "Passed sanity check: expr matches stored_expr\n"
     ]
    }
   ],
   "source": [
    "# check that the built expression is the same as the stored expression\n",
    "assert expr == stored_expr\n",
    "assert expr._style_id == stored_expr._style_id\n",
    "print(\"Passed sanity check: expr matches stored_expr\")"
   ]
  },
  {
   "cell_type": "code",
   "execution_count": 4,
   "metadata": {},
   "outputs": [
    {
     "name": "stdout",
     "output_type": "stream",
     "text": [
      "\\forall_{a, x, y \\in \\mathbb{C}~|~x \\neq y, a \\neq 0}~\\left(\\left(a \\cdot x\\right) \\neq \\left(a \\cdot y\\right)\\right)\n"
     ]
    }
   ],
   "source": [
    "# Show the LaTeX representation of the expression for convenience if you need it.\n",
    "print(expr.latex())"
   ]
  },
  {
   "cell_type": "code",
   "execution_count": 5,
   "metadata": {},
   "outputs": [
    {
     "data": {
      "text/html": [
       "<table><tr><th>&nbsp;</th><th>core type</th><th>sub-expressions</th><th>expression</th></tr>\n",
       "<tr><td>0</td><td>Operation</td><td>operator:&nbsp;1<br>operand:&nbsp;2<br></td><td><a class=\"ProveItLink\" href=\"expr.ipynb\"><img src=\"expr.png\" style=\"display:inline;vertical-align:middle;\" /></a></td></tr>\n",
       "<tr><td>1</td><td>Literal</td><td></td><td><a class=\"ProveItLink\" href=\"../../../../../logic/booleans/quantification/universality/__pv_it/common/083d2baa0b8ecab1d230f9ec29a15aa1355809fb0/expr.ipynb\"><img src=\"../../../../../logic/booleans/quantification/universality/__pv_it/common/083d2baa0b8ecab1d230f9ec29a15aa1355809fb0/expr.png\" style=\"display:inline;vertical-align:middle;\" /></a></td></tr>\n",
       "<tr><td>2</td><td>Lambda</td><td>parameters:&nbsp;3<br>body:&nbsp;4<br></td><td><a class=\"ProveItLink\" href=\"../cdff0e4f1009378f678f26551ad40c591854d3090/expr.ipynb\"><img src=\"../cdff0e4f1009378f678f26551ad40c591854d3090/expr.png\" style=\"display:inline;vertical-align:middle;\" /></a></td></tr>\n",
       "<tr><td>3</td><td>ExprTuple</td><td>30, 28, 29</td><td><a class=\"ProveItLink\" href=\"../90470553e549bc038b3ece0be3943d4c4738f2440/expr.ipynb\"><img src=\"../90470553e549bc038b3ece0be3943d4c4738f2440/expr.png\" style=\"display:inline;vertical-align:middle;\" /></a></td></tr>\n",
       "<tr><td>4</td><td>Conditional</td><td>value:&nbsp;5<br>condition:&nbsp;6<br></td><td><a class=\"ProveItLink\" href=\"../f88bf9be82f5d02c578f41a38b836acf405b436f0/expr.ipynb\"><img src=\"../f88bf9be82f5d02c578f41a38b836acf405b436f0/expr.png\" style=\"display:inline;vertical-align:middle;\" /></a></td></tr>\n",
       "<tr><td>5</td><td>Operation</td><td>operator:&nbsp;25<br>operands:&nbsp;7<br></td><td><a class=\"ProveItLink\" href=\"../c33d060cf42e11a8e291c665096e9ff67d51650a0/expr.ipynb\"><img src=\"../c33d060cf42e11a8e291c665096e9ff67d51650a0/expr.png\" style=\"display:inline;vertical-align:middle;\" /></a></td></tr>\n",
       "<tr><td>6</td><td>Operation</td><td>operator:&nbsp;8<br>operands:&nbsp;9<br></td><td><a class=\"ProveItLink\" href=\"../154693ba46c331f647e8aa4e8c63c53ee31b224a0/expr.ipynb\"><img src=\"../154693ba46c331f647e8aa4e8c63c53ee31b224a0/expr.png\" style=\"display:inline;vertical-align:middle;\" /></a></td></tr>\n",
       "<tr><td>7</td><td>ExprTuple</td><td>10, 11</td><td><a class=\"ProveItLink\" href=\"../03d5a3b25e7763a03efa85ed9b7ecf2c6e7826ee0/expr.ipynb\"><img src=\"../03d5a3b25e7763a03efa85ed9b7ecf2c6e7826ee0/expr.png\" style=\"display:inline;vertical-align:middle;\" /></a></td></tr>\n",
       "<tr><td>8</td><td>Literal</td><td></td><td><a class=\"ProveItLink\" href=\"../../../../../logic/booleans/conjunction/__pv_it/common/42118ff318bd65d98b1393f64ce7c2269feef76e0/expr.ipynb\"><img src=\"../../../../../logic/booleans/conjunction/__pv_it/common/42118ff318bd65d98b1393f64ce7c2269feef76e0/expr.png\" style=\"display:inline;vertical-align:middle;\" /></a></td></tr>\n",
       "<tr><td>9</td><td>ExprTuple</td><td>12, 13, 14, 15, 16</td><td><a class=\"ProveItLink\" href=\"../3092f37d21ec5c9a04254963ca0fc65f4b0df84f0/expr.ipynb\"><img src=\"../3092f37d21ec5c9a04254963ca0fc65f4b0df84f0/expr.png\" style=\"display:inline;vertical-align:middle;\" /></a></td></tr>\n",
       "<tr><td>10</td><td>Operation</td><td>operator:&nbsp;18<br>operands:&nbsp;17<br></td><td><a class=\"ProveItLink\" href=\"../f08ff22b97a88fa68b11991f57b2cc57563a5bd20/expr.ipynb\"><img src=\"../f08ff22b97a88fa68b11991f57b2cc57563a5bd20/expr.png\" style=\"display:inline;vertical-align:middle;\" /></a></td></tr>\n",
       "<tr><td>11</td><td>Operation</td><td>operator:&nbsp;18<br>operands:&nbsp;19<br></td><td><a class=\"ProveItLink\" href=\"../64c5ecd37a36ea4665dfd0bbb67c1f77f3f91c6c0/expr.ipynb\"><img src=\"../64c5ecd37a36ea4665dfd0bbb67c1f77f3f91c6c0/expr.png\" style=\"display:inline;vertical-align:middle;\" /></a></td></tr>\n",
       "<tr><td>12</td><td>Operation</td><td>operator:&nbsp;22<br>operands:&nbsp;20<br></td><td><a class=\"ProveItLink\" href=\"../ffc4a45642fde8a513aa78237f7ca59ff7c646290/expr.ipynb\"><img src=\"../ffc4a45642fde8a513aa78237f7ca59ff7c646290/expr.png\" style=\"display:inline;vertical-align:middle;\" /></a></td></tr>\n",
       "<tr><td>13</td><td>Operation</td><td>operator:&nbsp;22<br>operands:&nbsp;21<br></td><td><a class=\"ProveItLink\" href=\"../665eb28bdef08717ca4abe8886f256e37ecbb1210/expr.ipynb\"><img src=\"../665eb28bdef08717ca4abe8886f256e37ecbb1210/expr.png\" style=\"display:inline;vertical-align:middle;\" /></a></td></tr>\n",
       "<tr><td>14</td><td>Operation</td><td>operator:&nbsp;22<br>operands:&nbsp;23<br></td><td><a class=\"ProveItLink\" href=\"../4781579f73690b602fbe14fc22acbb18872578820/expr.ipynb\"><img src=\"../4781579f73690b602fbe14fc22acbb18872578820/expr.png\" style=\"display:inline;vertical-align:middle;\" /></a></td></tr>\n",
       "<tr><td>15</td><td>Operation</td><td>operator:&nbsp;25<br>operands:&nbsp;24<br></td><td><a class=\"ProveItLink\" href=\"../9b608c9bb8a7a26492ce57f710c6325ee7a83e180/expr.ipynb\"><img src=\"../9b608c9bb8a7a26492ce57f710c6325ee7a83e180/expr.png\" style=\"display:inline;vertical-align:middle;\" /></a></td></tr>\n",
       "<tr><td>16</td><td>Operation</td><td>operator:&nbsp;25<br>operands:&nbsp;26<br></td><td><a class=\"ProveItLink\" href=\"../ca0ec1091cc4f6cd33c7bb3749a084bfb20725620/expr.ipynb\"><img src=\"../ca0ec1091cc4f6cd33c7bb3749a084bfb20725620/expr.png\" style=\"display:inline;vertical-align:middle;\" /></a></td></tr>\n",
       "<tr><td>17</td><td>ExprTuple</td><td>30, 28</td><td><a class=\"ProveItLink\" href=\"../0d8f13e338aeb2e03df8427dab7ab6e03a8a7d0e0/expr.ipynb\"><img src=\"../0d8f13e338aeb2e03df8427dab7ab6e03a8a7d0e0/expr.png\" style=\"display:inline;vertical-align:middle;\" /></a></td></tr>\n",
       "<tr><td>18</td><td>Literal</td><td></td><td><a class=\"ProveItLink\" href=\"../../common/ed719cef37831779c16481533a4d380a2f95ab270/expr.ipynb\"><img src=\"../../common/ed719cef37831779c16481533a4d380a2f95ab270/expr.png\" style=\"display:inline;vertical-align:middle;\" /></a></td></tr>\n",
       "<tr><td>19</td><td>ExprTuple</td><td>30, 29</td><td><a class=\"ProveItLink\" href=\"../0f5493152198402989143ef298c188be9284dc4e0/expr.ipynb\"><img src=\"../0f5493152198402989143ef298c188be9284dc4e0/expr.png\" style=\"display:inline;vertical-align:middle;\" /></a></td></tr>\n",
       "<tr><td>20</td><td>ExprTuple</td><td>30, 27</td><td><a class=\"ProveItLink\" href=\"../b09522ef7ab30f4ad67aa0f5ccb1edb96dc097ef0/expr.ipynb\"><img src=\"../b09522ef7ab30f4ad67aa0f5ccb1edb96dc097ef0/expr.png\" style=\"display:inline;vertical-align:middle;\" /></a></td></tr>\n",
       "<tr><td>21</td><td>ExprTuple</td><td>28, 27</td><td><a class=\"ProveItLink\" href=\"../75ad744bb2803b43009bc0873a3361232799faaf0/expr.ipynb\"><img src=\"../75ad744bb2803b43009bc0873a3361232799faaf0/expr.png\" style=\"display:inline;vertical-align:middle;\" /></a></td></tr>\n",
       "<tr><td>22</td><td>Literal</td><td></td><td><a class=\"ProveItLink\" href=\"../../../../../logic/sets/membership/__pv_it/common/477487d8796864d23d5810f83761435f25167f690/expr.ipynb\"><img src=\"../../../../../logic/sets/membership/__pv_it/common/477487d8796864d23d5810f83761435f25167f690/expr.png\" style=\"display:inline;vertical-align:middle;\" /></a></td></tr>\n",
       "<tr><td>23</td><td>ExprTuple</td><td>29, 27</td><td><a class=\"ProveItLink\" href=\"../b7a9fe0b18f49d84bc924e84c1b67da8918783610/expr.ipynb\"><img src=\"../b7a9fe0b18f49d84bc924e84c1b67da8918783610/expr.png\" style=\"display:inline;vertical-align:middle;\" /></a></td></tr>\n",
       "<tr><td>24</td><td>ExprTuple</td><td>28, 29</td><td><a class=\"ProveItLink\" href=\"../1d0941a32bac19e80ab1cf703883be0351553a410/expr.ipynb\"><img src=\"../1d0941a32bac19e80ab1cf703883be0351553a410/expr.png\" style=\"display:inline;vertical-align:middle;\" /></a></td></tr>\n",
       "<tr><td>25</td><td>Literal</td><td></td><td><a class=\"ProveItLink\" href=\"../../../../../logic/equality/__pv_it/common/d96270bc9bb1bad54f773b1c04bfb343a739642c0/expr.ipynb\"><img src=\"../../../../../logic/equality/__pv_it/common/d96270bc9bb1bad54f773b1c04bfb343a739642c0/expr.png\" style=\"display:inline;vertical-align:middle;\" /></a></td></tr>\n",
       "<tr><td>26</td><td>ExprTuple</td><td>30, 31</td><td><a class=\"ProveItLink\" href=\"../60ba91908b283be41d3d42f3d78214c73295c9430/expr.ipynb\"><img src=\"../60ba91908b283be41d3d42f3d78214c73295c9430/expr.png\" style=\"display:inline;vertical-align:middle;\" /></a></td></tr>\n",
       "<tr><td>27</td><td>Literal</td><td></td><td><a class=\"ProveItLink\" href=\"../../../../number_sets/complex_numbers/__pv_it/common/d18a028138f659eda00de597c28a3447fe87eb100/expr.ipynb\"><img src=\"../../../../number_sets/complex_numbers/__pv_it/common/d18a028138f659eda00de597c28a3447fe87eb100/expr.png\" style=\"display:inline;vertical-align:middle;\" /></a></td></tr>\n",
       "<tr><td>28</td><td>Variable</td><td></td><td><a class=\"ProveItLink\" href=\"../../../../../__pv_it/common/a0d9d672aa5e272d907247690c152cc2c6daafb70/expr.ipynb\"><img src=\"../../../../../__pv_it/common/a0d9d672aa5e272d907247690c152cc2c6daafb70/expr.png\" style=\"display:inline;vertical-align:middle;\" /></a></td></tr>\n",
       "<tr><td>29</td><td>Variable</td><td></td><td><a class=\"ProveItLink\" href=\"../../../../../__pv_it/common/ff7dba4ef0bbe791ab573bf2d9c220a304399ac80/expr.ipynb\"><img src=\"../../../../../__pv_it/common/ff7dba4ef0bbe791ab573bf2d9c220a304399ac80/expr.png\" style=\"display:inline;vertical-align:middle;\" /></a></td></tr>\n",
       "<tr><td>30</td><td>Variable</td><td></td><td><a class=\"ProveItLink\" href=\"../../../../../__pv_it/common/c06c606ec12678c58933ac85412ecadc2ae28be60/expr.ipynb\"><img src=\"../../../../../__pv_it/common/c06c606ec12678c58933ac85412ecadc2ae28be60/expr.png\" style=\"display:inline;vertical-align:middle;\" /></a></td></tr>\n",
       "<tr><td>31</td><td>Literal</td><td></td><td><a class=\"ProveItLink\" href=\"../../../../numerals/__pv_it/common/7d0a36793ffe8d307a5c120ee5598162e8cd2db10/expr.ipynb\"><img src=\"../../../../numerals/__pv_it/common/7d0a36793ffe8d307a5c120ee5598162e8cd2db10/expr.png\" style=\"display:inline;vertical-align:middle;\" /></a></td></tr>\n",
       "</table>\n"
      ],
      "text/plain": [
       "0. forall_{a, x, y in Complex | x != y, a != 0} ((a * x) != (a * y))\n",
       "   core type: Operation\n",
       "   operator: 1\n",
       "   operand: 2\n",
       "1. forall\n",
       "   core type: Literal\n",
       "   sub-expressions: \n",
       "2. (a, x, y) -> {(a * x) != (a * y) if a in Complex ,  x in Complex ,  y in Complex ,  x != y ,  a != 0.\n",
       "   core type: Lambda\n",
       "   parameters: 3\\n   body: 4\n",
       "3. (a, x, y)\n",
       "   core type: ExprTuple\n",
       "   sub-expressions: 30, 28, 29\n",
       "4. {(a * x) != (a * y) if a in Complex ,  x in Complex ,  y in Complex ,  x != y ,  a != 0.\n",
       "   core type: Conditional\n",
       "   value: 5\n",
       "   condition: 6\n",
       "5. (a * x) != (a * y)\n",
       "   core type: Operation\n",
       "   operator: 25\n",
       "   operands: 7\n",
       "6. (a in Complex) and (x in Complex) and (y in Complex) and (x != y) and (a != 0)\n",
       "   core type: Operation\n",
       "   operator: 8\n",
       "   operands: 9\n",
       "7. (a * x, a * y)\n",
       "   core type: ExprTuple\n",
       "   sub-expressions: 10, 11\n",
       "8. and\n",
       "   core type: Literal\n",
       "   sub-expressions: \n",
       "9. (a in Complex, x in Complex, y in Complex, x != y, a != 0)\n",
       "   core type: ExprTuple\n",
       "   sub-expressions: 12, 13, 14, 15, 16\n",
       "10. a * x\n",
       "    core type: Operation\n",
       "    operator: 18\n",
       "    operands: 17\n",
       "11. a * y\n",
       "    core type: Operation\n",
       "    operator: 18\n",
       "    operands: 19\n",
       "12. a in Complex\n",
       "    core type: Operation\n",
       "    operator: 22\n",
       "    operands: 20\n",
       "13. x in Complex\n",
       "    core type: Operation\n",
       "    operator: 22\n",
       "    operands: 21\n",
       "14. y in Complex\n",
       "    core type: Operation\n",
       "    operator: 22\n",
       "    operands: 23\n",
       "15. x != y\n",
       "    core type: Operation\n",
       "    operator: 25\n",
       "    operands: 24\n",
       "16. a != 0\n",
       "    core type: Operation\n",
       "    operator: 25\n",
       "    operands: 26\n",
       "17. (a, x)\n",
       "    core type: ExprTuple\n",
       "    sub-expressions: 30, 28\n",
       "18. *\n",
       "    core type: Literal\n",
       "    sub-expressions: \n",
       "19. (a, y)\n",
       "    core type: ExprTuple\n",
       "    sub-expressions: 30, 29\n",
       "20. (a, Complex)\n",
       "    core type: ExprTuple\n",
       "    sub-expressions: 30, 27\n",
       "21. (x, Complex)\n",
       "    core type: ExprTuple\n",
       "    sub-expressions: 28, 27\n",
       "22. in\n",
       "    core type: Literal\n",
       "    sub-expressions: \n",
       "23. (y, Complex)\n",
       "    core type: ExprTuple\n",
       "    sub-expressions: 29, 27\n",
       "24. (x, y)\n",
       "    core type: ExprTuple\n",
       "    sub-expressions: 28, 29\n",
       "25. !=\n",
       "    core type: Literal\n",
       "    sub-expressions: \n",
       "26. (a, 0)\n",
       "    core type: ExprTuple\n",
       "    sub-expressions: 30, 31\n",
       "27. Complex\n",
       "    core type: Literal\n",
       "    sub-expressions: \n",
       "28. x\n",
       "    core type: Variable\n",
       "    sub-expressions: \n",
       "29. y\n",
       "    core type: Variable\n",
       "    sub-expressions: \n",
       "30. a\n",
       "    core type: Variable\n",
       "    sub-expressions: \n",
       "31. 0\n",
       "    core type: Literal\n",
       "    sub-expressions: "
      ]
     },
     "execution_count": 5,
     "metadata": {},
     "output_type": "execute_result"
    }
   ],
   "source": [
    "# display the expression information\n",
    "expr.expr_info()"
   ]
  },
  {
   "cell_type": "code",
   "execution_count": null,
   "metadata": {},
   "outputs": [],
   "source": []
  }
 ],
 "metadata": {
  "kernelspec": {
   "display_name": "Python 3",
   "language": "python",
   "name": "python3"
  }
 },
 "nbformat": 4,
 "nbformat_minor": 0
}