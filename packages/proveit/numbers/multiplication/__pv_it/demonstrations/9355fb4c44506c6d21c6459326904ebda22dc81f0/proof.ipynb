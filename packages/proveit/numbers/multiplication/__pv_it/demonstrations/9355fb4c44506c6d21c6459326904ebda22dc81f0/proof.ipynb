{
 "cells": [
  {
   "cell_type": "markdown",
   "metadata": {},
   "source": [
    "Show the Proof\n",
    "========"
   ]
  },
  {
   "cell_type": "code",
   "execution_count": 1,
   "metadata": {},
   "outputs": [
    {
     "data": {
      "text/html": [
       "<table><tr><th>&nbsp;</th><th>step type</th><th>requirements</th><th>statement</th></tr>\n",
       "<tr><td><a name=\"proveit.numbers.multiplication.demonstrations.9355fb4c44506c6d21c6459326904ebda22dc81f0_step0\">0</a></td><td>instantiation</td><td><a href=\"#proveit.numbers.multiplication.demonstrations.9355fb4c44506c6d21c6459326904ebda22dc81f0_step1\">1</a>, <a href=\"#proveit.numbers.multiplication.demonstrations.9355fb4c44506c6d21c6459326904ebda22dc81f0_step2\">2</a>, <a href=\"#proveit.numbers.multiplication.demonstrations.9355fb4c44506c6d21c6459326904ebda22dc81f0_step3\">3</a></td><td><span style=\"font-size:20px;\"><a class=\"ProveItLink\" href=\"../bd2d4908c3fe32576a6449f6f239a621bdce36b50/expr.ipynb\"><img src=\"../bd2d4908c3fe32576a6449f6f239a621bdce36b50/expr.png\" style=\"display:inline;vertical-align:middle;\" /></a>, <a class=\"ProveItLink\" href=\"../01acb89938603dfb04765d476abdb4aba9b654ac0/expr.ipynb\"><img src=\"../01acb89938603dfb04765d476abdb4aba9b654ac0/expr.png\" style=\"display:inline;vertical-align:middle;\" /></a> <a class=\"ProveItLink\" href=\"proof.ipynb\" style=\"text-decoration: none\">&nbsp;&#x22A2;&nbsp;&nbsp;</a><a class=\"ProveItLink\" href=\"../0fe08e9f618d8baa92be6a8e8037851ba16eee230/expr.ipynb\"><img src=\"../0fe08e9f618d8baa92be6a8e8037851ba16eee230/expr.png\" style=\"display:inline;vertical-align:middle;\" /></a></span></td></tr>\n",
       "<tr><td>&nbsp;</td><td colspan=4 style=\"text-align:left\"><span style=\"font-size:20px;\"><a class=\"ProveItLink\" href=\"../../../../../__pv_it/common/66c90e66682f107a881f2d666959f64e2e72ad750/expr.ipynb\"><img src=\"../../../../../__pv_it/common/66c90e66682f107a881f2d666959f64e2e72ad750/expr.png\" style=\"display:inline;vertical-align:middle;\" /></a> : <a class=\"ProveItLink\" href=\"../../../../../__pv_it/common/0f21cbfd5644a1cae6781c1d58354abc2ffbc9000/expr.ipynb\"><img src=\"../../../../../__pv_it/common/0f21cbfd5644a1cae6781c1d58354abc2ffbc9000/expr.png\" style=\"display:inline;vertical-align:middle;\" /></a>, <a class=\"ProveItLink\" href=\"../../../../../__pv_it/common/4a5db8cc5c67969ec864bd3ea598be37cb6f5e550/expr.ipynb\"><img src=\"../../../../../__pv_it/common/4a5db8cc5c67969ec864bd3ea598be37cb6f5e550/expr.png\" style=\"display:inline;vertical-align:middle;\" /></a> : <a class=\"ProveItLink\" href=\"../../../../../__pv_it/common/fab62f2bacea351a074e2d41fad4d8b09cef5e740/expr.ipynb\"><img src=\"../../../../../__pv_it/common/fab62f2bacea351a074e2d41fad4d8b09cef5e740/expr.png\" style=\"display:inline;vertical-align:middle;\" /></a></span></td></tr><tr><td><a name=\"proveit.numbers.multiplication.demonstrations.9355fb4c44506c6d21c6459326904ebda22dc81f0_step1\">1</a></td><td>theorem</td><td></td><td><span style=\"font-size:20px;\"> <a class=\"ProveItLink\" href=\"../../../_theory_nbs_/proofs/mult_complex_closure_bin/thm_proof.ipynb\" style=\"text-decoration: none\">&nbsp;&#x22A2;&nbsp;&nbsp;</a><a class=\"ProveItLink\" href=\"../../theorems/5696ae19ccfe0c2b6bb42ee3359316f08985b5300/expr.ipynb\"><img src=\"../../theorems/5696ae19ccfe0c2b6bb42ee3359316f08985b5300/expr.png\" style=\"display:inline;vertical-align:middle;\" /></a></span></td></tr>\n",
       "<tr><td>&nbsp;</td><td colspan=4 style-\"text-align:left\"><a class=\"ProveItLink\" href=\"../../../_theory_nbs_/proofs/mult_complex_closure_bin/thm_proof.ipynb\">proveit.numbers.multiplication.mult_complex_closure_bin</a></td></tr><tr><td><a name=\"proveit.numbers.multiplication.demonstrations.9355fb4c44506c6d21c6459326904ebda22dc81f0_step2\">2</a></td><td>assumption</td><td></td><td><span style=\"font-size:20px;\"><a class=\"ProveItLink\" href=\"../bd2d4908c3fe32576a6449f6f239a621bdce36b50/expr.ipynb\"><img src=\"../bd2d4908c3fe32576a6449f6f239a621bdce36b50/expr.png\" style=\"display:inline;vertical-align:middle;\" /></a> <a class=\"ProveItLink\" href=\"../12871a7724c7ddbf9dd843cdd21c96102b264c600/proof.ipynb\" style=\"text-decoration: none\">&nbsp;&#x22A2;&nbsp;&nbsp;</a><a class=\"ProveItLink\" href=\"../bd2d4908c3fe32576a6449f6f239a621bdce36b50/expr.ipynb\"><img src=\"../bd2d4908c3fe32576a6449f6f239a621bdce36b50/expr.png\" style=\"display:inline;vertical-align:middle;\" /></a></span></td></tr>\n",
       "<tr><td><a name=\"proveit.numbers.multiplication.demonstrations.9355fb4c44506c6d21c6459326904ebda22dc81f0_step3\">3</a></td><td>assumption</td><td></td><td><span style=\"font-size:20px;\"><a class=\"ProveItLink\" href=\"../01acb89938603dfb04765d476abdb4aba9b654ac0/expr.ipynb\"><img src=\"../01acb89938603dfb04765d476abdb4aba9b654ac0/expr.png\" style=\"display:inline;vertical-align:middle;\" /></a> <a class=\"ProveItLink\" href=\"../b576c68ce30a0611af25e420659b2d9094bfedb90/proof.ipynb\" style=\"text-decoration: none\">&nbsp;&#x22A2;&nbsp;&nbsp;</a><a class=\"ProveItLink\" href=\"../01acb89938603dfb04765d476abdb4aba9b654ac0/expr.ipynb\"><img src=\"../01acb89938603dfb04765d476abdb4aba9b654ac0/expr.png\" style=\"display:inline;vertical-align:middle;\" /></a></span></td></tr>\n",
       "</table>"
      ],
      "text/plain": [
       "<proveit._core_.proof._ShowProof at 0x7f4e83505240>"
      ]
     },
     "execution_count": 1,
     "metadata": {},
     "output_type": "execute_result"
    }
   ],
   "source": [
    "import proveit\n",
    "# Automation is not needed when only showing a stored proof:\n",
    "proveit.defaults.automation = False # This will speed things up.\n",
    "proveit.defaults.inline_pngs = False # Makes files smaller.\n",
    "%show_proof"
   ]
  },
  {
   "cell_type": "code",
   "execution_count": null,
   "metadata": {},
   "outputs": [],
   "source": []
  }
 ],
 "metadata": {
  "kernelspec": {
   "display_name": "Python 3",
   "language": "python",
   "name": "python3"
  },
  "language_info": {
   "codemirror_mode": {
    "name": "ipython",
    "version": 3
   },
   "file_extension": ".py",
   "mimetype": "text/x-python",
   "name": "python",
   "nbconvert_exporter": "python",
   "pygments_lexer": "ipython3",
   "version": "3.7.3"
  }
 },
 "nbformat": 4,
 "nbformat_minor": 1
}