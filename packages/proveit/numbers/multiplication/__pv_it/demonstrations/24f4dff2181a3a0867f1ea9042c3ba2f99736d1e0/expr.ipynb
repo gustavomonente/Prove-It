{
 "cells": [
  {
   "cell_type": "markdown",
   "metadata": {},
   "source": [
    "Expression of type <a class=\"ProveItLink\" href=\"../../../../../../../doc/html/api/proveit.ExprTuple.html\">ExprTuple</a>\n",
    "=======================\n",
    "# from the theory of <a class=\"ProveItLink\" href=\"../../../_theory_nbs_/theory.ipynb\">proveit.numbers.multiplication</a>"
   ]
  },
  {
   "cell_type": "code",
   "execution_count": 1,
   "metadata": {},
   "outputs": [],
   "source": [
    "import proveit\n",
    "# Automation is not needed when building an expression:\n",
    "proveit.defaults.automation = False # This will speed things up.\n",
    "proveit.defaults.inline_pngs = False # Makes files smaller.\n",
    "%load_expr # Load the stored expression as 'stored_expr'\n",
    "# import Expression classes needed to build the expression\n",
    "from proveit import ExprTuple, a, b, c, d, x, y\n",
    "from proveit.numbers import Add, Mult, Neg"
   ]
  },
  {
   "cell_type": "code",
   "execution_count": 2,
   "metadata": {},
   "outputs": [
    {
     "data": {
      "text/html": [
       "<strong id=\"expr\">expr:</strong> <a class=\"ProveItLink\" href=\"expr.ipynb\"><img src=\"expr.png\" style=\"display:inline;vertical-align:middle;\" /></a><br>"
      ],
      "text/plain": [
       "expr: (a * b * (x - y) * c * d, (a * b * x * c * d) + (a * b * (-y) * c * d))"
      ]
     },
     "execution_count": 2,
     "metadata": {},
     "output_type": "execute_result"
    }
   ],
   "source": [
    "# build up the expression from sub-expressions\n",
    "sub_expr1 = Neg(y)\n",
    "expr = ExprTuple(Mult(a, b, Add(x, sub_expr1), c, d), Add(Mult(a, b, x, c, d), Mult(a, b, sub_expr1, c, d)))"
   ]
  },
  {
   "cell_type": "code",
   "execution_count": 3,
   "metadata": {},
   "outputs": [
    {
     "name": "stdout",
     "output_type": "stream",
     "text": [
      "Passed sanity check: expr matches stored_expr\n"
     ]
    }
   ],
   "source": [
    "# check that the built expression is the same as the stored expression\n",
    "assert expr == stored_expr\n",
    "assert expr._style_id == stored_expr._style_id\n",
    "print(\"Passed sanity check: expr matches stored_expr\")"
   ]
  },
  {
   "cell_type": "code",
   "execution_count": 4,
   "metadata": {},
   "outputs": [
    {
     "name": "stdout",
     "output_type": "stream",
     "text": [
      "\\left(a \\cdot b \\cdot \\left(x - y\\right) \\cdot c \\cdot d, \\left(a \\cdot b \\cdot x \\cdot c \\cdot d\\right) + \\left(a \\cdot b \\cdot \\left(-y\\right) \\cdot c \\cdot d\\right)\\right)\n"
     ]
    }
   ],
   "source": [
    "# Show the LaTeX representation of the expression for convenience if you need it.\n",
    "print(expr.latex())"
   ]
  },
  {
   "cell_type": "code",
   "execution_count": 5,
   "metadata": {},
   "outputs": [
    {
     "data": {
      "text/html": [
       "<table>\n",
       "<tr><th>name</th><th>description</th><th>default</th><th>current value</th><th>related methods</th></tr><tr><td>wrap_positions</td><td>position(s) at which wrapping is to occur; 'n' is after the nth comma.</td><td>()</td><td>()</td><td>('with_wrapping_at',)</td></tr>\n",
       "<tr><td>justification</td><td>if any wrap positions are set, justify to the 'left', 'center', or 'right'</td><td>left</td><td>left</td><td>('with_justification',)</td></tr>\n",
       "</table>\n"
      ],
      "text/plain": [
       "style name: wrap_positions\n",
       "description: position(s) at which wrapping is to occur; 'n' is after the nth comma.\n",
       "default: ()\n",
       "current value: ()\n",
       "related methods: ('with_wrapping_at',)\n",
       "style name: justification\n",
       "description: if any wrap positions are set, justify to the 'left', 'center', or 'right'\n",
       "default: left\n",
       "current value: left\n",
       "related methods: ('with_justification',)"
      ]
     },
     "execution_count": 5,
     "metadata": {},
     "output_type": "execute_result"
    }
   ],
   "source": [
    "expr.style_options()"
   ]
  },
  {
   "cell_type": "code",
   "execution_count": 6,
   "metadata": {},
   "outputs": [
    {
     "data": {
      "text/html": [
       "<table><tr><th>&nbsp;</th><th>core type</th><th>sub-expressions</th><th>expression</th></tr>\n",
       "<tr><td>0</td><td>ExprTuple</td><td>1, 2</td><td><a class=\"ProveItLink\" href=\"expr.ipynb\"><img src=\"expr.png\" style=\"display:inline;vertical-align:middle;\" /></a></td></tr>\n",
       "<tr><td>1</td><td>Operation</td><td>operator:&nbsp;11<br>operands:&nbsp;3<br></td><td><a class=\"ProveItLink\" href=\"../20c40fe9af61ffe12d99fb81917f8d6d39ae57480/expr.ipynb\"><img src=\"../20c40fe9af61ffe12d99fb81917f8d6d39ae57480/expr.png\" style=\"display:inline;vertical-align:middle;\" /></a></td></tr>\n",
       "<tr><td>2</td><td>Operation</td><td>operator:&nbsp;8<br>operands:&nbsp;4<br></td><td><a class=\"ProveItLink\" href=\"../23bbb36b1b5167c9ad18a8dbbdb5dfe32bec402c0/expr.ipynb\"><img src=\"../23bbb36b1b5167c9ad18a8dbbdb5dfe32bec402c0/expr.png\" style=\"display:inline;vertical-align:middle;\" /></a></td></tr>\n",
       "<tr><td>3</td><td>ExprTuple</td><td>14, 15, 5, 17, 18</td><td><a class=\"ProveItLink\" href=\"../839ec4c7f3961a51a46d70cd6160af6c7ac7a7aa0/expr.ipynb\"><img src=\"../839ec4c7f3961a51a46d70cd6160af6c7ac7a7aa0/expr.png\" style=\"display:inline;vertical-align:middle;\" /></a></td></tr>\n",
       "<tr><td>4</td><td>ExprTuple</td><td>6, 7</td><td><a class=\"ProveItLink\" href=\"../52b45730077ea1c75231d3cb2f7de52d815440f10/expr.ipynb\"><img src=\"../52b45730077ea1c75231d3cb2f7de52d815440f10/expr.png\" style=\"display:inline;vertical-align:middle;\" /></a></td></tr>\n",
       "<tr><td>5</td><td>Operation</td><td>operator:&nbsp;8<br>operands:&nbsp;9<br></td><td><a class=\"ProveItLink\" href=\"../../theorems/a65cc6b1dd2ce4e67d922e2de56209738b56ca9e0/expr.ipynb\"><img src=\"../../theorems/a65cc6b1dd2ce4e67d922e2de56209738b56ca9e0/expr.png\" style=\"display:inline;vertical-align:middle;\" /></a></td></tr>\n",
       "<tr><td>6</td><td>Operation</td><td>operator:&nbsp;11<br>operands:&nbsp;10<br></td><td><a class=\"ProveItLink\" href=\"../4936b6d0ecb05d01be6f96995834f1342c9e36b80/expr.ipynb\"><img src=\"../4936b6d0ecb05d01be6f96995834f1342c9e36b80/expr.png\" style=\"display:inline;vertical-align:middle;\" /></a></td></tr>\n",
       "<tr><td>7</td><td>Operation</td><td>operator:&nbsp;11<br>operands:&nbsp;12<br></td><td><a class=\"ProveItLink\" href=\"../4673b1a985fdf5bb52b685c851bb2dc6931e9cae0/expr.ipynb\"><img src=\"../4673b1a985fdf5bb52b685c851bb2dc6931e9cae0/expr.png\" style=\"display:inline;vertical-align:middle;\" /></a></td></tr>\n",
       "<tr><td>8</td><td>Literal</td><td></td><td><a class=\"ProveItLink\" href=\"../../../../addition/__pv_it/common/1f38fe5cce441387feef296e2c0a2eac260bb4f30/expr.ipynb\"><img src=\"../../../../addition/__pv_it/common/1f38fe5cce441387feef296e2c0a2eac260bb4f30/expr.png\" style=\"display:inline;vertical-align:middle;\" /></a></td></tr>\n",
       "<tr><td>9</td><td>ExprTuple</td><td>13, 16</td><td><a class=\"ProveItLink\" href=\"../../theorems/43523c8748939708b317f058d57c532ac03699270/expr.ipynb\"><img src=\"../../theorems/43523c8748939708b317f058d57c532ac03699270/expr.png\" style=\"display:inline;vertical-align:middle;\" /></a></td></tr>\n",
       "<tr><td>10</td><td>ExprTuple</td><td>14, 15, 13, 17, 18</td><td><a class=\"ProveItLink\" href=\"../3039e0ba717013e3816fe873b41196130961272e0/expr.ipynb\"><img src=\"../3039e0ba717013e3816fe873b41196130961272e0/expr.png\" style=\"display:inline;vertical-align:middle;\" /></a></td></tr>\n",
       "<tr><td>11</td><td>Literal</td><td></td><td><a class=\"ProveItLink\" href=\"../../common/c57d60974865e78d434abd3ff22c405685c80ade0/expr.ipynb\"><img src=\"../../common/c57d60974865e78d434abd3ff22c405685c80ade0/expr.png\" style=\"display:inline;vertical-align:middle;\" /></a></td></tr>\n",
       "<tr><td>12</td><td>ExprTuple</td><td>14, 15, 16, 17, 18</td><td><a class=\"ProveItLink\" href=\"../5be661a57e119f2701087f3b6eaf670d2fe3d75f0/expr.ipynb\"><img src=\"../5be661a57e119f2701087f3b6eaf670d2fe3d75f0/expr.png\" style=\"display:inline;vertical-align:middle;\" /></a></td></tr>\n",
       "<tr><td>13</td><td>Variable</td><td></td><td><a class=\"ProveItLink\" href=\"../../../../../__pv_it/common/a2581dc5df71d9a30bad37de14965fa5fec97a240/expr.ipynb\"><img src=\"../../../../../__pv_it/common/a2581dc5df71d9a30bad37de14965fa5fec97a240/expr.png\" style=\"display:inline;vertical-align:middle;\" /></a></td></tr>\n",
       "<tr><td>14</td><td>Variable</td><td></td><td><a class=\"ProveItLink\" href=\"../../../../../__pv_it/common/66c90e66682f107a881f2d666959f64e2e72ad750/expr.ipynb\"><img src=\"../../../../../__pv_it/common/66c90e66682f107a881f2d666959f64e2e72ad750/expr.png\" style=\"display:inline;vertical-align:middle;\" /></a></td></tr>\n",
       "<tr><td>15</td><td>Variable</td><td></td><td><a class=\"ProveItLink\" href=\"../../../../../__pv_it/common/4a5db8cc5c67969ec864bd3ea598be37cb6f5e550/expr.ipynb\"><img src=\"../../../../../__pv_it/common/4a5db8cc5c67969ec864bd3ea598be37cb6f5e550/expr.png\" style=\"display:inline;vertical-align:middle;\" /></a></td></tr>\n",
       "<tr><td>16</td><td>Operation</td><td>operator:&nbsp;19<br>operand:&nbsp;21<br></td><td><a class=\"ProveItLink\" href=\"../../theorems/10d0c7f6b141ca66da6a9934b96827cd1cdf29b40/expr.ipynb\"><img src=\"../../theorems/10d0c7f6b141ca66da6a9934b96827cd1cdf29b40/expr.png\" style=\"display:inline;vertical-align:middle;\" /></a></td></tr>\n",
       "<tr><td>17</td><td>Variable</td><td></td><td><a class=\"ProveItLink\" href=\"../../../../../__pv_it/common/9a9d28748f90dec84e90f2ace4610208194e524e0/expr.ipynb\"><img src=\"../../../../../__pv_it/common/9a9d28748f90dec84e90f2ace4610208194e524e0/expr.png\" style=\"display:inline;vertical-align:middle;\" /></a></td></tr>\n",
       "<tr><td>18</td><td>Variable</td><td></td><td><a class=\"ProveItLink\" href=\"../../../../../__pv_it/common/ba27da3f6d5512be14b05498f34744a70c9279220/expr.ipynb\"><img src=\"../../../../../__pv_it/common/ba27da3f6d5512be14b05498f34744a70c9279220/expr.png\" style=\"display:inline;vertical-align:middle;\" /></a></td></tr>\n",
       "<tr><td>19</td><td>Literal</td><td></td><td><a class=\"ProveItLink\" href=\"../../../../negation/__pv_it/common/31a69a5c76809537045e3884859f178d8d9c845c0/expr.ipynb\"><img src=\"../../../../negation/__pv_it/common/31a69a5c76809537045e3884859f178d8d9c845c0/expr.png\" style=\"display:inline;vertical-align:middle;\" /></a></td></tr>\n",
       "<tr><td>20</td><td>ExprTuple</td><td>21</td><td><a class=\"ProveItLink\" href=\"../../theorems/c1ce6adcc1476a151f43f5b1e691eceeed8d79ab0/expr.ipynb\"><img src=\"../../theorems/c1ce6adcc1476a151f43f5b1e691eceeed8d79ab0/expr.png\" style=\"display:inline;vertical-align:middle;\" /></a></td></tr>\n",
       "<tr><td>21</td><td>Variable</td><td></td><td><a class=\"ProveItLink\" href=\"../../../../../__pv_it/common/0f21cbfd5644a1cae6781c1d58354abc2ffbc9000/expr.ipynb\"><img src=\"../../../../../__pv_it/common/0f21cbfd5644a1cae6781c1d58354abc2ffbc9000/expr.png\" style=\"display:inline;vertical-align:middle;\" /></a></td></tr>\n",
       "</table>\n"
      ],
      "text/plain": [
       "0. (a * b * (x - y) * c * d, (a * b * x * c * d) + (a * b * (-y) * c * d))\n",
       "   core type: ExprTuple\n",
       "   sub-expressions: 1, 2\n",
       "1. a * b * (x - y) * c * d\n",
       "   core type: Operation\n",
       "   operator: 11\n",
       "   operands: 3\n",
       "2. (a * b * x * c * d) + (a * b * (-y) * c * d)\n",
       "   core type: Operation\n",
       "   operator: 8\n",
       "   operands: 4\n",
       "3. (a, b, x - y, c, d)\n",
       "   core type: ExprTuple\n",
       "   sub-expressions: 14, 15, 5, 17, 18\n",
       "4. (a * b * x * c * d, a * b * (-y) * c * d)\n",
       "   core type: ExprTuple\n",
       "   sub-expressions: 6, 7\n",
       "5. x - y\n",
       "   core type: Operation\n",
       "   operator: 8\n",
       "   operands: 9\n",
       "6. a * b * x * c * d\n",
       "   core type: Operation\n",
       "   operator: 11\n",
       "   operands: 10\n",
       "7. a * b * (-y) * c * d\n",
       "   core type: Operation\n",
       "   operator: 11\n",
       "   operands: 12\n",
       "8. +\n",
       "   core type: Literal\n",
       "   sub-expressions: \n",
       "9. (x, -y)\n",
       "   core type: ExprTuple\n",
       "   sub-expressions: 13, 16\n",
       "10. (a, b, x, c, d)\n",
       "    core type: ExprTuple\n",
       "    sub-expressions: 14, 15, 13, 17, 18\n",
       "11. *\n",
       "    core type: Literal\n",
       "    sub-expressions: \n",
       "12. (a, b, -y, c, d)\n",
       "    core type: ExprTuple\n",
       "    sub-expressions: 14, 15, 16, 17, 18\n",
       "13. x\n",
       "    core type: Variable\n",
       "    sub-expressions: \n",
       "14. a\n",
       "    core type: Variable\n",
       "    sub-expressions: \n",
       "15. b\n",
       "    core type: Variable\n",
       "    sub-expressions: \n",
       "16. -y\n",
       "    core type: Operation\n",
       "    operator: 19\n",
       "    operand: 21\n",
       "17. c\n",
       "    core type: Variable\n",
       "    sub-expressions: \n",
       "18. d\n",
       "    core type: Variable\n",
       "    sub-expressions: \n",
       "19. -\n",
       "    core type: Literal\n",
       "    sub-expressions: \n",
       "20. (y)\n",
       "    core type: ExprTuple\n",
       "    sub-expressions: 21\n",
       "21. y\n",
       "    core type: Variable\n",
       "    sub-expressions: "
      ]
     },
     "execution_count": 6,
     "metadata": {},
     "output_type": "execute_result"
    }
   ],
   "source": [
    "# display the expression information\n",
    "expr.expr_info()"
   ]
  },
  {
   "cell_type": "code",
   "execution_count": null,
   "metadata": {},
   "outputs": [],
   "source": []
  }
 ],
 "metadata": {
  "kernelspec": {
   "display_name": "Python 3",
   "language": "python",
   "name": "python3"
  }
 },
 "nbformat": 4,
 "nbformat_minor": 0
}