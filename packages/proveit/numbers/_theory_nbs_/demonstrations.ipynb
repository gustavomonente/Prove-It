{
 "cells": [
  {
   "cell_type": "markdown",
   "metadata": {},
   "source": [
    "Demonstrations for the theory of <a class=\"ProveItLink\" href=\"theory.ipynb\">proveit.numbers</a>\n",
    "========"
   ]
  },
  {
   "cell_type": "code",
   "execution_count": 1,
   "metadata": {},
   "outputs": [],
   "source": [
    "import proveit\n",
    "from proveit import defaults\n",
    "%begin demonstrations"
   ]
  },
  {
   "cell_type": "markdown",
   "metadata": {},
   "source": [
    "### Demonstration of '..._both_sides' methods for number relations"
   ]
  },
  {
   "cell_type": "code",
   "execution_count": 2,
   "metadata": {},
   "outputs": [],
   "source": [
    "from proveit import a, b, c, d, x, y\n",
    "from proveit.logic import Equals, NotEquals, InSet\n",
    "from proveit.numbers import Less, LessEq, Greater, GreaterEq, Real, Complex, zero"
   ]
  },
  {
   "cell_type": "code",
   "execution_count": 3,
   "metadata": {},
   "outputs": [
    {
     "data": {
      "text/html": [
       "<strong id=\"basic_assumptions\">basic_assumptions:</strong> <a class=\"ProveItLink\" href=\"../__pv_it/demonstrations/25ffe1d2d3dfbaad76390a46b1c3e7569fbb9d0b0/expr.ipynb\"><img src=\"data:image/png;base64,iVBORw0KGgoAAAANSUhEUgAAAocAAAAUCAMAAADIp2cUAAAAOVBMVEX///8kJCQNDQ0oKChUVFTM\n",
       "zMx2dna6uroQEBCqqqqIiIgiIiJmZmYyMjJERETu7u6YmJjc3NwAAABfYoQ1AAAAAXRSTlMAQObY\n",
       "ZgAABRRJREFUaN7tm9ma2yAMhWlrFrPJ+P0ftmCciQFBgGw3w0Xnm+XPkQ+yENglhBC3kd/xOz4w\n",
       "GCA/XF38CrbvQzYlrN2NETbLW7BCTaLzonFQK/Q7ZL8KHzMmN0YHXa6As4IdBg8qOoNyS0xE43pj\n",
       "NQSWENpms7w2eholT5L7+h7Zr8LE+KsC5Roug9LQC84KVg2Wis4oLhxVhCM9N90drCWOxS/LSDI0\n",
       "UfIcyXd4j+ynYDBIxdzEUTBM0+XVLK4PrIzV0MdcaTAwJacUna1EysLnNVJ5s8oPk3urHTEPYs3J\n",
       "KjovehZ39SLZr8HptJ7wkbtramvpMjcL7QBrrYN2HRzLmgGn1TapmAR75cDnpKs2HdRKQO9xH79t\n",
       "xlqSVXRetFyrnpD9JhyWuayB35eYeGvL5Shs+UOwQ7LOpS2XW0z2J92KaTlMOcOJ1D+JzrQUcFkw\n",
       "oLLWLISna41ZpNRri6yioShLSSdEQ8CS7nOyIOXiuGRyAgapA+buXg1dcO7zrThdfgK7jpMkGy5j\n",
       "mYGDqcVYCca53GCf9Ybn1RxXLCSDI7TKMU1uGzoufJU2+6WKuoq3q9Kp77D772F3DbKG+nLsr9Oa\n",
       "cdEYsL2sBwOywMLUS6LMBMy8dKgo+4xy6TPS7bmdHdOeTG7u8nWldC0ws5hAtrLWuMJga8ttMUqm\n",
       "kswc49/f8K9Guc0QFfMdRIhN26uRmLcidEHZTRkX+XsklnSjRB1FYx0XPQM2zYBrcFiTmI+au3HY\n",
       "rVHV2hnl0udrtwe3SdJxkljD5WstvWcFAmYWFytrhSsNlqroPnDFXLIshxm3KiJipdXHVV7KNRXm\n",
       "NpJ7nPsSmkVzxAo/kWBkFU372xHRGDBrsjUY0jwagv13QiYZMX7B5c7kyMPbH6OLXeYy2uhhYGYx\n",
       "YHlY5xRLUz4/icZDRXYtdGlwdL/lobDHL2mlq7ysNZpTi7Sy907VWdKNCttoZR+TsPMmW4NJXlmG\n",
       "4GPjSu9eDV/w1Wf0FGY/N5Nr3WW80UNAYUl7x9virgafYWr3iCwlgx+uoejzMK7L8T5br22LqPU8\n",
       "Frbs4rf0HhCkFy1ubzFGPgq4FjFJ8mgUPiqTFDMwEjayTzlr9ZaUldxlNKFKsKyg2FFRjSsjzQ+L\n",
       "kFAzyaM//HOuGQvKcXXuU+DIy8X8POzzlywr3voKq5M5DPdM7CaqZBWN1Dos2hdwTXaFuM249zsD\n",
       "cDz6spd1ph9GwsbObbDD4dxlhy2wCJhbjEqWHB5peViEhlpKFg/tEs7vU1hscq0MN+VCLpmsisuM\n",
       "z6oIW48jSb+BOztfL2uvx0wKOYbCUb0cGzg6LtoVcAUOq5vd0xc8+mM+gub7NnXBZdjYOfbxgSAS\n",
       "1cxlsBw7pCvBwmLsHBvhEIMv9wBthVpKcl2PNAAslMTYvkpJ3SL5taO1PLln4rN7GmqqCXeLUnAe\n",
       "BEi2pb1wStZRwtiWrFz9oo8DrsKBBam3bS7mgOvkAKUfLsJGn+v55JQyzvVdNXe58nSmAHOLsed6\n",
       "CIcY3KtYSiIHrHfO/5o2n+txZtOHVfmFwCz5BLo2niA9ITsIa/NC5eb4ODgtWCfX9jsMEGrhwHsO\n",
       "+WDkC+gToq+Bfc9U7iPfp/xx8A1TY9qpHR9rWTcpC3I64nn0CdEXwWGTauWnlGsgGHUf9IWKVW5e\n",
       "cW2ndnzvq/s92HJzNj+n2xfIV8Hcd4f0Y8ofB98wNQ/K4a0Q/v6/gN/x1tHuYbaQhv8BGjZrklwp\n",
       "8dIAAAAASUVORK5CYII=\n",
       "\" style=\"display:inline;vertical-align:middle;\" /></a><br>"
      ],
      "text/plain": [
       "basic_assumptions: (a in Real, b in Real, c in Real, d in Real, x in Real, y in Real, a > 0, b >= 0, c < 0, d <= 0, c != 0)"
      ]
     },
     "execution_count": 3,
     "metadata": {},
     "output_type": "execute_result"
    }
   ],
   "source": [
    "basic_assumptions = (InSet(a, Real), InSet(b, Real), InSet(c, Real), InSet(d, Real), \n",
    "                     InSet(x, Real), InSet(y, Real), \n",
    "                     Greater(a, zero), GreaterEq(b, zero), Less(c, zero), LessEq(d, zero), NotEquals(c, zero))"
   ]
  },
  {
   "cell_type": "code",
   "execution_count": 4,
   "metadata": {},
   "outputs": [
    {
     "data": {
      "text/html": [
       "<strong id=\"defaults.assumptions\">defaults.assumptions:</strong> <a class=\"ProveItLink\" href=\"../__pv_it/demonstrations/dc0e8dcfe75af05ec537981814d286fe396848600/expr.ipynb\"><img src=\"data:image/png;base64,iVBORw0KGgoAAAANSUhEUgAAAsMAAAAUCAMAAABf9sDOAAAAOVBMVEX///8kJCQNDQ0oKChUVFTM\n",
       "zMx2dna6uroQEBCqqqqIiIgiIiJmZmYyMjJERETu7u6YmJjc3NwAAABfYoQ1AAAAAXRSTlMAQObY\n",
       "ZgAABW1JREFUaN7tm9t26ygMhpkZAzZH4/d/2AHjpIAEAeK0vSgX7dpd+fILCSSBvQkhxO3kb/yN\n",
       "bxjM3vyFm4u/ren7/C5XYw6tV1OueWtWOYnOi8ZBzao+IPujcAy32BkdcnKFm9XrcfCgotN3WJqN\n",
       "JS5i7XoBTewSZrWbcj9pNY2SN8lj+4jsj8Ie97Oy0tWdbKWyndysXt3BQtIZxYXfYGmRPs9tsatu\n",
       "wBDH4q9lZCG1UfIeyQ/7Ednvgq3GMvW+nplKt5y86cV1cdVCrGkHBxxsmRRTis7MWtqsAv5HYyvs\n",
       "Rvqhy7goR/SLeZZkHZ0XveYg75EdV75pwvmSeNDnwt8yt8LdyvVCX3PVdke5Ho7lHYxTcp9UzIwd\n",
       "4Nru83vBVZssaoRFc4ufu2nOE5J1dF4UFNg3ZGeU75lwLM3lYedY4qrd6k6+hA1/xfVINrisg3GL\n",
       "3l5b2pGGB7hXXRAnQj03GFNitUmRs5X6uBBe1Ee9CKG2BllHfTEQgs6IBosFPaZkrRCL44KJiela\n",
       "oQLmvnw1NOHSz4+kmP7FHipGWFSdjK4qlCtcjKX+Clc42O8Yzcs0iJNAMniEvuRgWNDUmwWAKfI4\n",
       "OPPVVxZ9gBMfjMsmVREze/g/2MPVySrqpHeR0ROi0WLzVYwGZC0Ly0aQpPj3KzOvHDLZQSaUoZ+x\n",
       "7tYd7FwzaYQLJ2fV3TW40sXEFt1AjQMONgZeI+BkJsn0Of77N/xULQ6G5WLjUGgAdk3kdrUVYV7K\n",
       "pEHA4rKGrq9MBrGreZpjSD8qz2S1TYheFuuWwTU41FHmjeZufLpui6LGzChDP6fdrX1GWMUIs6qT\n",
       "sxxOGlzpYtAN1DjgYCFBx4STpSRMwziHhAXrSfIAbJKssTqo00NJiaHrc/1nuYX71F3O5PxK+zAH\n",
       "I2uoynv6IdFoMWuxNdjma3BI2f9rFdlqGp+wFOgafn4Yq7S5k/HGFuVyF1tsDaOVvXTwuV3Kxr1B\n",
       "Fp378pqDYUFbiTwA9His4dWcX0wrHXhSHxWnBmv7n+25M6QbXU2j7W+LXhbzFluFQUYbUT4vCOiX\n",
       "r4YnnPoZvyk7rlP7VnNypbFFuNXA3gNc5yEccPBlpnJ9ZOkP91qR4IUGv+57BMCv4dhLxP29pW3a\n",
       "WuvxjN0LnWPPNt9KelGQVvpFocX9snHqdFI5ZkSxzigjfsbOdFc22tN8VjgZX4yQg5kbu85D9Gqm\n",
       "Fhd6VZJkPe0/V61aGhwSlqwfXtAAcHmd6ey5Hxb9fADtPygqcfFVQeXxD3s1dk81soYeEdrGRaHF\n",
       "A7KbjSeCpL8bmO55tWmS2tivjPgZvVtDngAUTkauuSpc4WJUEuFwU8GFHvasApEED4MxDgkL/vwo\n",
       "DYA/07F4IDAiJIOFJDtIAhfF56eEbed1tT8oP44J3majWmQNVct5UKYTotDibtlQkc1RvOzUrxyM\n",
       "5kebrcHQavQZx/mNdk3JwsnWcCy8kAMuxp5xIBy2JL72D22RUJKrDkvRsGAjC4BiIRXHVl8I6hbB\n",
       "0+7f8GyvxvdYaKgDOmxSKe3jtkawndTJBsrYnlXbAVFgcbdsQK1Q+06mlVV2ydU/YWA1/qzZr2wh\n",
       "4kJ5koWTKwcewAEXJ70tbXHIkuhUhJLIBToyQywsqGQagDCJxrNmzkz+ALV0gp0l30C3RqF5Q3ZQ\n",
       "Wek7lZtjlvxurkFu6nbFRwBsyMED7/yUg5EfQN8QvQf2LSI4rv/GCbPfExpt71TMAhCf6ZnZ99+s\n",
       "mJ7tPPqG6E1wuAww4qcnbLX8GvRGxSo3r7ixW32TBiC+e9n9Djw8BM+vh/0HyLtg7psx+vsnvP+e\n",
       "0LxIw6OKaQAeCfjv/yL9jY8O/rFv3sMS/h+CeHLliu+5DgAAAABJRU5ErkJggg==\n",
       "\" style=\"display:inline;vertical-align:middle;\" /></a><br>"
      ],
      "text/plain": [
       "defaults.assumptions: (a in Real, b in Real, c in Real, d in Real, x in Real, y in Real, a > 0, b >= 0, c < 0, d <= 0, c != 0, x = y)"
      ]
     },
     "execution_count": 4,
     "metadata": {},
     "output_type": "execute_result"
    }
   ],
   "source": [
    "defaults.assumptions = (*basic_assumptions, Equals(x, y))"
   ]
  },
  {
   "cell_type": "code",
   "execution_count": 5,
   "metadata": {},
   "outputs": [
    {
     "data": {
      "text/html": [
       "<strong id=\"num_rel\">num_rel:</strong> <span style=\"font-size:20px;\"><a class=\"ProveItLink\" href=\"../../logic/equality/__pv_it/theorems/72728018cab57b4b94b0a2b3d711aa95324f266f0/expr.ipynb\"><img src=\"data:image/png;base64,iVBORw0KGgoAAAANSUhEUgAAADMAAAANBAMAAAD2/0vEAAAAMFBMVEX///8QEBBmZmaqqqrMzMxE\n",
       "REQyMjIiIiKYmJh2dna6urrc3NxUVFSIiIju7u4AAAA6P00QAAAAAXRSTlMAQObYZgAAAKFJREFU\n",
       "GNNjYHh7Z9fNCwwogO/SBYaNDxj4JnDUsicA+ZxpYKAAYnIJMNwHUg84/3FtQNW1mSmBIRSomYE1\n",
       "gAENPGC8wPAXxOC/gC7FsP4ByxcQ7e8A5kLtOgBiqzHwCjAwMD+4z8D7AE1XDAMrUMl6g3iGHegG\n",
       "6jCsb2BgeHP3rUYDutSbu/obGHABNRziPAl8v3BIsTewXsAhxXVXBUgCAM1cLDnk3FtcAAAAAElF\n",
       "TkSuQmCC\n",
       "\" style=\"display:inline;vertical-align:middle;\" /></a> <a class=\"ProveItLink\" href=\"../__pv_it/demonstrations/2d40e1f1ebbad991039a5651f293faf062152c850/proof.ipynb\" style=\"text-decoration: none\">&nbsp;&#x22A2;&nbsp;&nbsp;</a><a class=\"ProveItLink\" href=\"../../logic/equality/__pv_it/theorems/72728018cab57b4b94b0a2b3d711aa95324f266f0/expr.ipynb\"><img src=\"data:image/png;base64,iVBORw0KGgoAAAANSUhEUgAAADMAAAANBAMAAAD2/0vEAAAAMFBMVEX///8QEBBmZmaqqqrMzMxE\n",
       "REQyMjIiIiKYmJh2dna6urrc3NxUVFSIiIju7u4AAAA6P00QAAAAAXRSTlMAQObYZgAAAKFJREFU\n",
       "GNNjYHh7Z9fNCwwogO/SBYaNDxj4JnDUsicA+ZxpYKAAYnIJMNwHUg84/3FtQNW1mSmBIRSomYE1\n",
       "gAENPGC8wPAXxOC/gC7FsP4ByxcQ7e8A5kLtOgBiqzHwCjAwMD+4z8D7AE1XDAMrUMl6g3iGHegG\n",
       "6jCsb2BgeHP3rUYDutSbu/obGHABNRziPAl8v3BIsTewXsAhxXVXBUgCAM1cLDnk3FtcAAAAAElF\n",
       "TkSuQmCC\n",
       "\" style=\"display:inline;vertical-align:middle;\" /></a></span><br>"
      ],
      "text/plain": [
       "num_rel: {x = y} |- x = y"
      ]
     },
     "execution_count": 5,
     "metadata": {},
     "output_type": "execute_result"
    }
   ],
   "source": [
    "num_rel = Equals(x, y).prove()"
   ]
  },
  {
   "cell_type": "code",
   "execution_count": 6,
   "metadata": {},
   "outputs": [
    {
     "name": "stdout",
     "output_type": "stream",
     "text": [
      "Help on function transform_both_sides in module proveit.relation.relation:\n",
      "\n",
      "transform_both_sides(*args, **kwargs)\n",
      "    Add both sides of the Equals relation by the 'addend'\n",
      "    on the right.\n",
      "    The new relation will be simplified by default, unless\n",
      "    'simplify=False' is given as a keyword argument.\n",
      "\n"
     ]
    }
   ],
   "source": [
    "help(num_rel.right_add_both_sides)"
   ]
  },
  {
   "cell_type": "code",
   "execution_count": 7,
   "metadata": {},
   "outputs": [
    {
     "data": {
      "text/html": [
       "<strong id=\"num_rel\">num_rel:</strong> <span style=\"font-size:20px;\"><a class=\"ProveItLink\" href=\"../__pv_it/demonstrations/01066498eeade39164943c7fc785297aa9d0bb160/expr.ipynb\"><img src=\"data:image/png;base64,iVBORw0KGgoAAAANSUhEUgAAADEAAAAPBAMAAAC/wjryAAAAMFBMVEX////MzMyYmJjc3NyIiIhU\n",
       "VFR2dna6urqqqqpmZmYyMjIiIiIQEBBERETu7u4AAACIO4EmAAAAAXRSTlMAQObYZgAAANJJREFU\n",
       "GNNj4LuzgQEFaJ+9v+qsAojFNQFVhmHBUwZZ3QdABn8DmswFMwZe5gAgo/4BVER39+4FUBlOAxAr\n",
       "Gyoh64fQw2lwAchY6jIDxOdbh2QaKzvQNL5fD94bAPmsBkgy3bOAVnD8Y+B3APJ5ES6w2b0L5CrO\n",
       "BQzvE4C0zCoggLqgkvcBxDv1IBW2SK7mLAQ5gF+BYT5IBQ+yf+6pgGQK+A6B+JwOSDKinAJANynw\n",
       "QoJnB1LosDUEAl09JQki8PT6A1iILmS4ux45zMpuQ0IHCgBwWkIYWdoBRwAAAABJRU5ErkJggg==\n",
       "\" style=\"display:inline;vertical-align:middle;\" /></a>, <a class=\"ProveItLink\" href=\"../__pv_it/demonstrations/02bd6ad73acd9f4d3192ee4c61bfdcabbff20f180/expr.ipynb\"><img src=\"data:image/png;base64,iVBORw0KGgoAAAANSUhEUgAAADQAAAAPBAMAAABZ6/G2AAAAMFBMVEX///8QEBBmZmaqqqrMzMxE\n",
       "REQyMjIiIiKYmJh2dna6urrc3NxUVFSIiIju7u4AAAA6P00QAAAAAXRSTlMAQObYZgAAAMRJREFU\n",
       "GNNjYMAAHIWh3xIjGLACNr4DLBFxWKVYuScwBOxBEWotL0+ASWmzIcu43kPSpc0KZLy9s+vmBSDN\n",
       "l4ds4IE1QJEJHLXsIHN4NiBJMRcBFXI+4PzHBRJlRXKGeHkyyBwG1gCwgGMaEECdMUsB4nb+C2Bq\n",
       "K7LjtVzBLH8HMMWILMX6Aqie+cF9Bt4HQAGmC0hSLAdUGBjWG8Qz7ACLFCMFFMNkHgeGN3ffajSA\n",
       "Rd5EPYAHrwNr2Gfk4FgZDgkoKAAAelg1omM6Y4wAAAAASUVORK5CYII=\n",
       "\" style=\"display:inline;vertical-align:middle;\" /></a>, <a class=\"ProveItLink\" href=\"../__pv_it/demonstrations/0886f5b6aacf5197ba709a53d4f3243edcc3de560/expr.ipynb\"><img src=\"data:image/png;base64,iVBORw0KGgoAAAANSUhEUgAAADMAAAASBAMAAAAEf/uKAAAAMFBMVEX///8iIiKYmJhUVFTMzMxE\n",
       "REQyMjKqqqq6urp2dnYQEBDc3NxmZmaIiIju7u4AAACH5sGpAAAAAXRSTlMAQObYZgAAAN1JREFU\n",
       "GNNjYMAAikvj05YqMGAFCY8ZXFUfYJUK2MnAym2AIqQqKJgAleLZkIAs43oPoYtnQwADA9+dCwy7\n",
       "QAbz5SEZyMwBNJCTYwHDfZAA8wYkqcJjQNXbeRIYQkECrAhn7BIUKwDSD7guMPwFCXilAQHUGT2s\n",
       "YLf3P2D5AqK3IjmepyUAxDjGwLsARHMh+ytOF8QIZmAFe4/nApKUM48DkHGYoR8SYOJIAcVZYAJk\n",
       "PL57HuLsxxEPYMGbwhCaXwCxDQI6AwVRgoc5ge8H9ghgYFRgvYBDiuPuERwyAAfzPe7bmvmqAAAA\n",
       "AElFTkSuQmCC\n",
       "\" style=\"display:inline;vertical-align:middle;\" /></a>, <a class=\"ProveItLink\" href=\"../../logic/equality/__pv_it/theorems/72728018cab57b4b94b0a2b3d711aa95324f266f0/expr.ipynb\"><img src=\"data:image/png;base64,iVBORw0KGgoAAAANSUhEUgAAADMAAAANBAMAAAD2/0vEAAAAMFBMVEX///8QEBBmZmaqqqrMzMxE\n",
       "REQyMjIiIiKYmJh2dna6urrc3NxUVFSIiIju7u4AAAA6P00QAAAAAXRSTlMAQObYZgAAAKFJREFU\n",
       "GNNjYHh7Z9fNCwwogO/SBYaNDxj4JnDUsicA+ZxpYKAAYnIJMNwHUg84/3FtQNW1mSmBIRSomYE1\n",
       "gAENPGC8wPAXxOC/gC7FsP4ByxcQ7e8A5kLtOgBiqzHwCjAwMD+4z8D7AE1XDAMrUMl6g3iGHegG\n",
       "6jCsb2BgeHP3rUYDutSbu/obGHABNRziPAl8v3BIsTewXsAhxXVXBUgCAM1cLDnk3FtcAAAAAElF\n",
       "TkSuQmCC\n",
       "\" style=\"display:inline;vertical-align:middle;\" /></a> <a class=\"ProveItLink\" href=\"../__pv_it/demonstrations/be5dfc39ae7b65b632b260bdfbe7c754f5200f6e0/proof.ipynb\" style=\"text-decoration: none\">&nbsp;&#x22A2;&nbsp;&nbsp;</a><a class=\"ProveItLink\" href=\"../__pv_it/demonstrations/296fd12325943ba590ba9109900addbbfd9c8bc30/expr.ipynb\"><img src=\"data:image/png;base64,iVBORw0KGgoAAAANSUhEUgAAAJMAAAAUBAMAAAB7fhJGAAAAMFBMVEX////MzMxUVFR2dna6uroQ\n",
       "EBCqqqqIiIgiIiJmZmYyMjJERETu7u6YmJjc3NwAAACgK8IjAAAAAXRSTlMAQObYZgAAAgxJREFU\n",
       "OMuVlMFLG1EQxj+TdU3cTeN/YG49teSmFgSP3pJDD6VQyM2e2qUeQk7upXqNLSgI4lY86FKKCD0U\n",
       "UR+C2NZC9txD2UNbvAgtFQWJpTPbDWReXgQf7OzuzLe/N2/2vQHuRDAPO+719RU/Y3Niipw8InPf\n",
       "4Ddo3fc+kOF53xln2aLrc6/bKB5uEi8ACk3hnknvF3RlPf0jKbbTeLFGZgzIxSaU1ebMqzpKijuo\n",
       "iiJzBJzChMr6bDd0lBR3UOPJKqfQoNvxi++znkAN321Q1hM6isRuw8MPJVDr9SWavIk9ipYLC7lA\n",
       "oFpv3b/A1yTBMBlJlUictaqYE1m5V6oVoxBgnqIq27ZigXqucAk81bMi8c98gF2BstsoerB9PCQs\n",
       "nO3E+SAMX4bhOj2twP0DjOooEqtBj2fhZDcfh2EJIHarjIFfHAVTZdm3YF2YUfS/Bn6LrGhbVWqM\n",
       "mue30RENdY08bYfprlqV0gVSwkNVgSpGWFOwfK6kreYwpATqHEdRWvbuQWLswClJ1JT7BFx2+uGV\n",
       "2gHOZFb38IHsax3Fu+MVKpFAZSKHfm++zIs4rB+vRhL1aZYdb3QUr/iwvhbLzbA8yRUb6XNw/mt8\n",
       "88FZ0XZ7Mj72HOcvXc/G45wJ3PPOVKorRMcZ++g3DE1mH7nI8UxNK+jX+tLvDK3Pqi+atE58U48t\n",
       "3KYhfwP+AbDWmRyScNiIAAAAAElFTkSuQmCC\n",
       "\" style=\"display:inline;vertical-align:middle;\" /></a></span><br>"
      ],
      "text/plain": [
       "num_rel: {b in Real, x in Real, y in Real, x = y} |- (x + b) = (y + b)"
      ]
     },
     "execution_count": 7,
     "metadata": {},
     "output_type": "execute_result"
    }
   ],
   "source": [
    "num_rel = num_rel.right_add_both_sides(b)"
   ]
  },
  {
   "cell_type": "code",
   "execution_count": 8,
   "metadata": {},
   "outputs": [
    {
     "data": {
      "text/html": [
       "<strong id=\"num_rel\">num_rel:</strong> <span style=\"font-size:20px;\"><a class=\"ProveItLink\" href=\"../__pv_it/demonstrations/bd2f502b953df5e1834a5d80011e6b2e7aa85c890/expr.ipynb\"><img src=\"data:image/png;base64,iVBORw0KGgoAAAANSUhEUgAAADMAAAAPBAMAAAC7N+rPAAAAMFBMVEX///9UVFSqqqrMzMwiIiJE\n",
       "RESYmJgyMjK6urru7u4QEBCIiIh2dnZmZmbc3NwAAABRgo0vAAAAAXRSTlMAQObYZgAAAMpJREFU\n",
       "GNNjYMAAKUvjy5cmMGAFBRMZTFMnYJUKeMPAyieAIpTq4lIAleJ9UIAsY7oToYv3QQCQwXfn9kqQ\n",
       "AGclkoGMHCADux6wfwAJMD5AklK5DnQG5zIGXpBmBlaEM165uCsAad6fDCwbQAJW5UAAdUYvK8jt\n",
       "XAEM8w1AAk+RHM/bDDJo/gEGfbAAF7K/IrNBUgoM4kwgF/BuQJIy5AWaxLqBzZEHLOKEFFA8CsJA\n",
       "F0pvfrgDLDIxYgIseIsZQusVkIOjJ8QFOXgAnyk4ZcxDaYcAAAAASUVORK5CYII=\n",
       "\" style=\"display:inline;vertical-align:middle;\" /></a>, <a class=\"ProveItLink\" href=\"../__pv_it/demonstrations/02bd6ad73acd9f4d3192ee4c61bfdcabbff20f180/expr.ipynb\"><img src=\"data:image/png;base64,iVBORw0KGgoAAAANSUhEUgAAADQAAAAPBAMAAABZ6/G2AAAAMFBMVEX///8QEBBmZmaqqqrMzMxE\n",
       "REQyMjIiIiKYmJh2dna6urrc3NxUVFSIiIju7u4AAAA6P00QAAAAAXRSTlMAQObYZgAAAMRJREFU\n",
       "GNNjYMAAHIWh3xIjGLACNr4DLBFxWKVYuScwBOxBEWotL0+ASWmzIcu43kPSpc0KZLy9s+vmBSDN\n",
       "l4ds4IE1QJEJHLXsIHN4NiBJMRcBFXI+4PzHBRJlRXKGeHkyyBwG1gCwgGMaEECdMUsB4nb+C2Bq\n",
       "K7LjtVzBLH8HMMWILMX6Aqie+cF9Bt4HQAGmC0hSLAdUGBjWG8Qz7ACLFCMFFMNkHgeGN3ffajSA\n",
       "Rd5EPYAHrwNr2Gfk4FgZDgkoKAAAelg1omM6Y4wAAAAASUVORK5CYII=\n",
       "\" style=\"display:inline;vertical-align:middle;\" /></a>, <a class=\"ProveItLink\" href=\"../__pv_it/demonstrations/01066498eeade39164943c7fc785297aa9d0bb160/expr.ipynb\"><img src=\"data:image/png;base64,iVBORw0KGgoAAAANSUhEUgAAADEAAAAPBAMAAAC/wjryAAAAMFBMVEX////MzMyYmJjc3NyIiIhU\n",
       "VFR2dna6urqqqqpmZmYyMjIiIiIQEBBERETu7u4AAACIO4EmAAAAAXRSTlMAQObYZgAAANJJREFU\n",
       "GNNj4LuzgQEFaJ+9v+qsAojFNQFVhmHBUwZZ3QdABn8DmswFMwZe5gAgo/4BVER39+4FUBlOAxAr\n",
       "Gyoh64fQw2lwAchY6jIDxOdbh2QaKzvQNL5fD94bAPmsBkgy3bOAVnD8Y+B3APJ5ES6w2b0L5CrO\n",
       "BQzvE4C0zCoggLqgkvcBxDv1IBW2SK7mLAQ5gF+BYT5IBQ+yf+6pgGQK+A6B+JwOSDKinAJANynw\n",
       "QoJnB1LosDUEAl09JQki8PT6A1iILmS4ux45zMpuQ0IHCgBwWkIYWdoBRwAAAABJRU5ErkJggg==\n",
       "\" style=\"display:inline;vertical-align:middle;\" /></a>, <a class=\"ProveItLink\" href=\"../__pv_it/demonstrations/0886f5b6aacf5197ba709a53d4f3243edcc3de560/expr.ipynb\"><img src=\"data:image/png;base64,iVBORw0KGgoAAAANSUhEUgAAADMAAAASBAMAAAAEf/uKAAAAMFBMVEX///8iIiKYmJhUVFTMzMxE\n",
       "REQyMjKqqqq6urp2dnYQEBDc3NxmZmaIiIju7u4AAACH5sGpAAAAAXRSTlMAQObYZgAAAN1JREFU\n",
       "GNNjYMAAikvj05YqMGAFCY8ZXFUfYJUK2MnAym2AIqQqKJgAleLZkIAs43oPoYtnQwADA9+dCwy7\n",
       "QAbz5SEZyMwBNJCTYwHDfZAA8wYkqcJjQNXbeRIYQkECrAhn7BIUKwDSD7guMPwFCXilAQHUGT2s\n",
       "YLf3P2D5AqK3IjmepyUAxDjGwLsARHMh+ytOF8QIZmAFe4/nApKUM48DkHGYoR8SYOJIAcVZYAJk\n",
       "PL57HuLsxxEPYMGbwhCaXwCxDQI6AwVRgoc5ge8H9ghgYFRgvYBDiuPuERwyAAfzPe7bmvmqAAAA\n",
       "AElFTkSuQmCC\n",
       "\" style=\"display:inline;vertical-align:middle;\" /></a>, <a class=\"ProveItLink\" href=\"../../logic/equality/__pv_it/theorems/72728018cab57b4b94b0a2b3d711aa95324f266f0/expr.ipynb\"><img src=\"data:image/png;base64,iVBORw0KGgoAAAANSUhEUgAAADMAAAANBAMAAAD2/0vEAAAAMFBMVEX///8QEBBmZmaqqqrMzMxE\n",
       "REQyMjIiIiKYmJh2dna6urrc3NxUVFSIiIju7u4AAAA6P00QAAAAAXRSTlMAQObYZgAAAKFJREFU\n",
       "GNNjYHh7Z9fNCwwogO/SBYaNDxj4JnDUsicA+ZxpYKAAYnIJMNwHUg84/3FtQNW1mSmBIRSomYE1\n",
       "gAENPGC8wPAXxOC/gC7FsP4ByxcQ7e8A5kLtOgBiqzHwCjAwMD+4z8D7AE1XDAMrUMl6g3iGHegG\n",
       "6jCsb2BgeHP3rUYDutSbu/obGHABNRziPAl8v3BIsTewXsAhxXVXBUgCAM1cLDnk3FtcAAAAAElF\n",
       "TkSuQmCC\n",
       "\" style=\"display:inline;vertical-align:middle;\" /></a> <a class=\"ProveItLink\" href=\"../__pv_it/demonstrations/0e71a75f64103f46db7738c8ca0b7a40b74e8f780/proof.ipynb\" style=\"text-decoration: none\">&nbsp;&#x22A2;&nbsp;&nbsp;</a><a class=\"ProveItLink\" href=\"../__pv_it/demonstrations/27135a8bce9e3781e54b0ad175b41f99db69e9190/expr.ipynb\"><img src=\"data:image/png;base64,iVBORw0KGgoAAAANSUhEUgAAAOcAAAAUBAMAAACE3DekAAAAMFBMVEX///9UVFTMzMx2dna6uroQ\n",
       "EBCqqqqIiIgiIiJmZmYyMjJERETu7u6YmJjc3NwAAAC+aOQFAAAAAXRSTlMAQObYZgAAApxJREFU\n",
       "SMedVs9rE0EU/tLdpkl2Y3IrCEr+A3PzBwi9CN6SgwcRhdz0ZFcrhJyaHtRrtGAhIN2KB7tIqQcP\n",
       "Isb1UKpG2D17kBVUvAiipYJE8c3ObMxMJj/0wTfZvJn3fW/ezM4scCCEbEOOxNIRByYFjGS4LICu\n",
       "2tPVDe+epeawwKQAHYP9uAmkIg5sqd1b2iQ3Ca8FJgVoGXItUnY58i2lU3FcFL/7BMPhGBugOtIi\n",
       "oFCj5ihHRl0kxSFEzR4rUZVjbIDqSEQrPjU7HJ9VDsUhRI0ma+8LjAtQHYnosbjGCzEabLetrp3v\n",
       "D2KO3SsflhxJNDffoPIcB4dkOga74eCjL4lu1O9Q7q0Yz+j/qSj3tR9CDrucv5lxJdHgof0beAsO\n",
       "GF5sLREwxGCYVSxLM7V/+kGEPNtFLm7Q/wvIbrOOODVyGL7RMyNJdNHHD+ASOCTTMXzKungqiaZ7\n",
       "KDhI0yoRzgDZHjJOnAzrJYcNK6bACc+77nkb9NSG/R04Ag7JdAz+rMOSZBV5cM7zijTERVDGDNWD\n",
       "QCNmtxGU2OgVEQKWlLyRNmHujxYdZqj4M9+kmdJrWqklolQLymBRqhYxlxTRX2w2OA2OZE2LImCY\n",
       "oY25qiRaCLHuw6TyEmjVgxoO/j1TyZH2lzHnS6J72AkHNtKg6RjwCFZRFl2ghU82Er0BlpNfMfoc\n",
       "5KjUnuOLPNNDeELtqoBkOgbcQiWURFOhRXs9W45B1bLnr76/1g8hx4v67t1QFn21xBz3BCTTMRDF\n",
       "eiS/Mmsn2cqWYkx5DPLAJsdUx2BbOZFie8kx6cB/M/A8/YGfcu29JFN/oEsc+OioJB2MshFXm4Yh\n",
       "E1qO7lIVV9uUl3ifvTPVJW7Wb+sIrIjjHz428hHH/3+uvOP4A+F46zAUvyN3AAAAAElFTkSuQmCC\n",
       "\" style=\"display:inline;vertical-align:middle;\" /></a></span><br>"
      ],
      "text/plain": [
       "num_rel: {a in Real, x in Real, b in Real, y in Real, x = y} |- (a * (x + b)) = (a * (y + b))"
      ]
     },
     "execution_count": 8,
     "metadata": {},
     "output_type": "execute_result"
    }
   ],
   "source": [
    "num_rel = num_rel.left_mult_both_sides(a)"
   ]
  },
  {
   "cell_type": "code",
   "execution_count": 9,
   "metadata": {},
   "outputs": [
    {
     "data": {
      "text/html": [
       "<strong id=\"num_rel\">num_rel:</strong> <span style=\"font-size:20px;\"><a class=\"ProveItLink\" href=\"../__pv_it/demonstrations/97c2cd789f92aeb5958c71e9e8648177a398980b0/expr.ipynb\"><img src=\"data:image/png;base64,iVBORw0KGgoAAAANSUhEUgAAADEAAAAPBAMAAAC/wjryAAAAMFBMVEX///+6urqYmJgQEBDu7u5m\n",
       "ZmZUVFQyMjJERESqqqoiIiLc3NzMzMyIiIh2dnYAAABqS+z4AAAAAXRSTlMAQObYZgAAALpJREFU\n",
       "GNNjYEAHWhb95RYKDNhAgRvDCQ0HbDIN+xg4uBOQRTRWrSqAyrBuKECSOHEFoYd1QwOI9fbuASDJ\n",
       "UoJkGhsjyLRdEzhAWtk2IMnMCge5YB0D2wQgxYFwweZVy0EirF8g/MPlQAB1gSgHSAtzA0RmB5Kr\n",
       "WWVAgv4PIHxmZP+06AJpfmBAgE29gCRzjBXoXNYEBleQqxlWIoUO34QcIOOdEkS1W6MDLERrGDrq\n",
       "JyAFglzXKuQwAQDAXjdf5nEJUwAAAABJRU5ErkJggg==\n",
       "\" style=\"display:inline;vertical-align:middle;\" /></a>, <a class=\"ProveItLink\" href=\"../__pv_it/demonstrations/bd2f502b953df5e1834a5d80011e6b2e7aa85c890/expr.ipynb\"><img src=\"data:image/png;base64,iVBORw0KGgoAAAANSUhEUgAAADMAAAAPBAMAAAC7N+rPAAAAMFBMVEX///9UVFSqqqrMzMwiIiJE\n",
       "RESYmJgyMjK6urru7u4QEBCIiIh2dnZmZmbc3NwAAABRgo0vAAAAAXRSTlMAQObYZgAAAMpJREFU\n",
       "GNNjYMAAKUvjy5cmMGAFBRMZTFMnYJUKeMPAyieAIpTq4lIAleJ9UIAsY7oToYv3QQCQwXfn9kqQ\n",
       "AGclkoGMHCADux6wfwAJMD5AklK5DnQG5zIGXpBmBlaEM165uCsAad6fDCwbQAJW5UAAdUYvK8jt\n",
       "XAEM8w1AAk+RHM/bDDJo/gEGfbAAF7K/IrNBUgoM4kwgF/BuQJIy5AWaxLqBzZEHLOKEFFA8CsJA\n",
       "F0pvfrgDLDIxYgIseIsZQusVkIOjJ8QFOXgAnyk4ZcxDaYcAAAAASUVORK5CYII=\n",
       "\" style=\"display:inline;vertical-align:middle;\" /></a>, <a class=\"ProveItLink\" href=\"../__pv_it/demonstrations/02bd6ad73acd9f4d3192ee4c61bfdcabbff20f180/expr.ipynb\"><img src=\"data:image/png;base64,iVBORw0KGgoAAAANSUhEUgAAADQAAAAPBAMAAABZ6/G2AAAAMFBMVEX///8QEBBmZmaqqqrMzMxE\n",
       "REQyMjIiIiKYmJh2dna6urrc3NxUVFSIiIju7u4AAAA6P00QAAAAAXRSTlMAQObYZgAAAMRJREFU\n",
       "GNNjYMAAHIWh3xIjGLACNr4DLBFxWKVYuScwBOxBEWotL0+ASWmzIcu43kPSpc0KZLy9s+vmBSDN\n",
       "l4ds4IE1QJEJHLXsIHN4NiBJMRcBFXI+4PzHBRJlRXKGeHkyyBwG1gCwgGMaEECdMUsB4nb+C2Bq\n",
       "K7LjtVzBLH8HMMWILMX6Aqie+cF9Bt4HQAGmC0hSLAdUGBjWG8Qz7ACLFCMFFMNkHgeGN3ffajSA\n",
       "Rd5EPYAHrwNr2Gfk4FgZDgkoKAAAelg1omM6Y4wAAAAASUVORK5CYII=\n",
       "\" style=\"display:inline;vertical-align:middle;\" /></a>, <a class=\"ProveItLink\" href=\"../__pv_it/demonstrations/01066498eeade39164943c7fc785297aa9d0bb160/expr.ipynb\"><img src=\"data:image/png;base64,iVBORw0KGgoAAAANSUhEUgAAADEAAAAPBAMAAAC/wjryAAAAMFBMVEX////MzMyYmJjc3NyIiIhU\n",
       "VFR2dna6urqqqqpmZmYyMjIiIiIQEBBERETu7u4AAACIO4EmAAAAAXRSTlMAQObYZgAAANJJREFU\n",
       "GNNj4LuzgQEFaJ+9v+qsAojFNQFVhmHBUwZZ3QdABn8DmswFMwZe5gAgo/4BVER39+4FUBlOAxAr\n",
       "Gyoh64fQw2lwAchY6jIDxOdbh2QaKzvQNL5fD94bAPmsBkgy3bOAVnD8Y+B3APJ5ES6w2b0L5CrO\n",
       "BQzvE4C0zCoggLqgkvcBxDv1IBW2SK7mLAQ5gF+BYT5IBQ+yf+6pgGQK+A6B+JwOSDKinAJANynw\n",
       "QoJnB1LosDUEAl09JQki8PT6A1iILmS4ux45zMpuQ0IHCgBwWkIYWdoBRwAAAABJRU5ErkJggg==\n",
       "\" style=\"display:inline;vertical-align:middle;\" /></a>, <a class=\"ProveItLink\" href=\"../__pv_it/demonstrations/0886f5b6aacf5197ba709a53d4f3243edcc3de560/expr.ipynb\"><img src=\"data:image/png;base64,iVBORw0KGgoAAAANSUhEUgAAADMAAAASBAMAAAAEf/uKAAAAMFBMVEX///8iIiKYmJhUVFTMzMxE\n",
       "REQyMjKqqqq6urp2dnYQEBDc3NxmZmaIiIju7u4AAACH5sGpAAAAAXRSTlMAQObYZgAAAN1JREFU\n",
       "GNNjYMAAikvj05YqMGAFCY8ZXFUfYJUK2MnAym2AIqQqKJgAleLZkIAs43oPoYtnQwADA9+dCwy7\n",
       "QAbz5SEZyMwBNJCTYwHDfZAA8wYkqcJjQNXbeRIYQkECrAhn7BIUKwDSD7guMPwFCXilAQHUGT2s\n",
       "YLf3P2D5AqK3IjmepyUAxDjGwLsARHMh+ytOF8QIZmAFe4/nApKUM48DkHGYoR8SYOJIAcVZYAJk\n",
       "PL57HuLsxxEPYMGbwhCaXwCxDQI6AwVRgoc5ge8H9ghgYFRgvYBDiuPuERwyAAfzPe7bmvmqAAAA\n",
       "AElFTkSuQmCC\n",
       "\" style=\"display:inline;vertical-align:middle;\" /></a>, <a class=\"ProveItLink\" href=\"../../logic/equality/__pv_it/theorems/72728018cab57b4b94b0a2b3d711aa95324f266f0/expr.ipynb\"><img src=\"data:image/png;base64,iVBORw0KGgoAAAANSUhEUgAAADMAAAANBAMAAAD2/0vEAAAAMFBMVEX///8QEBBmZmaqqqrMzMxE\n",
       "REQyMjIiIiKYmJh2dna6urrc3NxUVFSIiIju7u4AAAA6P00QAAAAAXRSTlMAQObYZgAAAKFJREFU\n",
       "GNNjYHh7Z9fNCwwogO/SBYaNDxj4JnDUsicA+ZxpYKAAYnIJMNwHUg84/3FtQNW1mSmBIRSomYE1\n",
       "gAENPGC8wPAXxOC/gC7FsP4ByxcQ7e8A5kLtOgBiqzHwCjAwMD+4z8D7AE1XDAMrUMl6g3iGHegG\n",
       "6jCsb2BgeHP3rUYDutSbu/obGHABNRziPAl8v3BIsTewXsAhxXVXBUgCAM1cLDnk3FtcAAAAAElF\n",
       "TkSuQmCC\n",
       "\" style=\"display:inline;vertical-align:middle;\" /></a> <a class=\"ProveItLink\" href=\"../__pv_it/demonstrations/2f2d0cac240089298b49b1b83971f56c8dbc7acd0/proof.ipynb\" style=\"text-decoration: none\">&nbsp;&#x22A2;&nbsp;&nbsp;</a><a class=\"ProveItLink\" href=\"../__pv_it/demonstrations/0c0366ade883d46b5673e5bad25306a5dc7d8a480/expr.ipynb\"><img src=\"data:image/png;base64,iVBORw0KGgoAAAANSUhEUgAAARcAAAAUBAMAAABVHmT9AAAAMFBMVEX///9UVFTMzMx2dna6uroQ\n",
       "EBCqqqqIiIgiIiJmZmYyMjJERETu7u6YmJjc3NwAAAC+aOQFAAAAAXRSTlMAQObYZgAAAxVJREFU\n",
       "SMeVVs9rE0EUfummadLd2JwsCJb8Bw14qAqFXITekkMP4g/Ym57s2gqhp24R67W2YKEgTaUHu0iJ\n",
       "Bw8qxvVQ+kvI3gRBWUGlF6HYUkFS8c10f83baboOZJLv5XvffjPzZmcAzjggtljAbxm3M5Ymn6h2\n",
       "R4Z3KGtHlrpzFbsBEhyQ8JKoaS9NgBQZCsdrlLomHcgqfrZJbDtOS6bWO4uO6sQh4vwsIZLALe/7\n",
       "ED+KIVIpPlUt4yX06dgNESriLF14EvDMpNvMfJUMpgqdk2nAN1OxsVsnVMS7VI8EPDOKyfoVwl05\n",
       "JZkGfDMX+VqVydqVYZJV/PzCjSDGAht3v00Ygpne/kmc2kuRJaqNCzhMpmrapAHfbcHMcu0xKkRW\n",
       "cKhWZPgt/rzi9u4FcQxopfzDbF0w03qu/QX4FO7YGXjtYcXibdZLjqkp6SpMCTOj/bFbLuTDCt7V\n",
       "1TrDM/jfTcg1WIzbx4BiK+20K5gZs+E3wG0uxWuhBGc9HG0ytR+5OrwRzGTa0GdAxgxY9yGlMzwK\n",
       "kGtD1uCG2R+j7HEql4PLlvXAspbx1yJo+wCDfJLYiJa4yCA1I1Ozuw02EDaDz65ZVgEpdWiVoGvP\n",
       "Z+XY7mAY2d0NaBUZnPbSgRkXC3gV0ofew7MoB9fhJDNxtYrd9UuYGXzNVPRjM5zV3fDM4DyiyzFh\n",
       "pvEpRWLmiNsfCTb1Pv8aidRMwUuOqy1CT1Uw0+ewmU2bPglT2NvDZBXW0uFceM5gIGNPQY8tmDmA\n",
       "dSdawEfIiuIwOaYGL0AtiGbKWFiRAkZzoDOMu1M18tNKoIeBiv4Ofoozcx5eYT8fsB6BNhfFYXJM\n",
       "DbkVRzCTclTce7mST8oVYKvIMM601j/+9V6QjoH3tY0njmhma4IFnoavmeGPAg6TY2oot+SKW3th\n",
       "mFVOUApw4bPBccLj4FjEJMeBmfA4WCRvYN42CXXz9IPyQ4eDMdlBmaprB757WzwY6UEJTSrYhJNa\n",
       "giuERC3rqIbsUiO5QiS8XEmf1Ex0uUrX5mRiqivByS+Kebcz/r9r55c4/gdBaAHCGE6dfQAAAABJ\n",
       "RU5ErkJggg==\n",
       "\" style=\"display:inline;vertical-align:middle;\" /></a></span><br>"
      ],
      "text/plain": [
       "num_rel: {c in Real, a in Real, x in Real, b in Real, y in Real, x = y} |- (a * (x + b) * c) = (a * (y + b) * c)"
      ]
     },
     "execution_count": 9,
     "metadata": {},
     "output_type": "execute_result"
    }
   ],
   "source": [
    "num_rel = num_rel.right_mult_both_sides(c)"
   ]
  },
  {
   "cell_type": "code",
   "execution_count": 10,
   "metadata": {},
   "outputs": [
    {
     "data": {
      "text/html": [
       "<strong id=\"num_rel\">num_rel:</strong> <span style=\"font-size:20px;\"><a class=\"ProveItLink\" href=\"../__pv_it/demonstrations/97c2cd789f92aeb5958c71e9e8648177a398980b0/expr.ipynb\"><img src=\"data:image/png;base64,iVBORw0KGgoAAAANSUhEUgAAADEAAAAPBAMAAAC/wjryAAAAMFBMVEX///+6urqYmJgQEBDu7u5m\n",
       "ZmZUVFQyMjJERESqqqoiIiLc3NzMzMyIiIh2dnYAAABqS+z4AAAAAXRSTlMAQObYZgAAALpJREFU\n",
       "GNNjYEAHWhb95RYKDNhAgRvDCQ0HbDIN+xg4uBOQRTRWrSqAyrBuKECSOHEFoYd1QwOI9fbuASDJ\n",
       "UoJkGhsjyLRdEzhAWtk2IMnMCge5YB0D2wQgxYFwweZVy0EirF8g/MPlQAB1gSgHSAtzA0RmB5Kr\n",
       "WWVAgv4PIHxmZP+06AJpfmBAgE29gCRzjBXoXNYEBleQqxlWIoUO34QcIOOdEkS1W6MDLERrGDrq\n",
       "JyAFglzXKuQwAQDAXjdf5nEJUwAAAABJRU5ErkJggg==\n",
       "\" style=\"display:inline;vertical-align:middle;\" /></a>, <a class=\"ProveItLink\" href=\"../__pv_it/demonstrations/bd2f502b953df5e1834a5d80011e6b2e7aa85c890/expr.ipynb\"><img src=\"data:image/png;base64,iVBORw0KGgoAAAANSUhEUgAAADMAAAAPBAMAAAC7N+rPAAAAMFBMVEX///9UVFSqqqrMzMwiIiJE\n",
       "RESYmJgyMjK6urru7u4QEBCIiIh2dnZmZmbc3NwAAABRgo0vAAAAAXRSTlMAQObYZgAAAMpJREFU\n",
       "GNNjYMAAKUvjy5cmMGAFBRMZTFMnYJUKeMPAyieAIpTq4lIAleJ9UIAsY7oToYv3QQCQwXfn9kqQ\n",
       "AGclkoGMHCADux6wfwAJMD5AklK5DnQG5zIGXpBmBlaEM165uCsAad6fDCwbQAJW5UAAdUYvK8jt\n",
       "XAEM8w1AAk+RHM/bDDJo/gEGfbAAF7K/IrNBUgoM4kwgF/BuQJIy5AWaxLqBzZEHLOKEFFA8CsJA\n",
       "F0pvfrgDLDIxYgIseIsZQusVkIOjJ8QFOXgAnyk4ZcxDaYcAAAAASUVORK5CYII=\n",
       "\" style=\"display:inline;vertical-align:middle;\" /></a>, <a class=\"ProveItLink\" href=\"../__pv_it/demonstrations/02bd6ad73acd9f4d3192ee4c61bfdcabbff20f180/expr.ipynb\"><img src=\"data:image/png;base64,iVBORw0KGgoAAAANSUhEUgAAADQAAAAPBAMAAABZ6/G2AAAAMFBMVEX///8QEBBmZmaqqqrMzMxE\n",
       "REQyMjIiIiKYmJh2dna6urrc3NxUVFSIiIju7u4AAAA6P00QAAAAAXRSTlMAQObYZgAAAMRJREFU\n",
       "GNNjYMAAHIWh3xIjGLACNr4DLBFxWKVYuScwBOxBEWotL0+ASWmzIcu43kPSpc0KZLy9s+vmBSDN\n",
       "l4ds4IE1QJEJHLXsIHN4NiBJMRcBFXI+4PzHBRJlRXKGeHkyyBwG1gCwgGMaEECdMUsB4nb+C2Bq\n",
       "K7LjtVzBLH8HMMWILMX6Aqie+cF9Bt4HQAGmC0hSLAdUGBjWG8Qz7ACLFCMFFMNkHgeGN3ffajSA\n",
       "Rd5EPYAHrwNr2Gfk4FgZDgkoKAAAelg1omM6Y4wAAAAASUVORK5CYII=\n",
       "\" style=\"display:inline;vertical-align:middle;\" /></a>, <a class=\"ProveItLink\" href=\"../__pv_it/demonstrations/01066498eeade39164943c7fc785297aa9d0bb160/expr.ipynb\"><img src=\"data:image/png;base64,iVBORw0KGgoAAAANSUhEUgAAADEAAAAPBAMAAAC/wjryAAAAMFBMVEX////MzMyYmJjc3NyIiIhU\n",
       "VFR2dna6urqqqqpmZmYyMjIiIiIQEBBERETu7u4AAACIO4EmAAAAAXRSTlMAQObYZgAAANJJREFU\n",
       "GNNj4LuzgQEFaJ+9v+qsAojFNQFVhmHBUwZZ3QdABn8DmswFMwZe5gAgo/4BVER39+4FUBlOAxAr\n",
       "Gyoh64fQw2lwAchY6jIDxOdbh2QaKzvQNL5fD94bAPmsBkgy3bOAVnD8Y+B3APJ5ES6w2b0L5CrO\n",
       "BQzvE4C0zCoggLqgkvcBxDv1IBW2SK7mLAQ5gF+BYT5IBQ+yf+6pgGQK+A6B+JwOSDKinAJANynw\n",
       "QoJnB1LosDUEAl09JQki8PT6A1iILmS4ux45zMpuQ0IHCgBwWkIYWdoBRwAAAABJRU5ErkJggg==\n",
       "\" style=\"display:inline;vertical-align:middle;\" /></a>, <a class=\"ProveItLink\" href=\"../__pv_it/demonstrations/0886f5b6aacf5197ba709a53d4f3243edcc3de560/expr.ipynb\"><img src=\"data:image/png;base64,iVBORw0KGgoAAAANSUhEUgAAADMAAAASBAMAAAAEf/uKAAAAMFBMVEX///8iIiKYmJhUVFTMzMxE\n",
       "REQyMjKqqqq6urp2dnYQEBDc3NxmZmaIiIju7u4AAACH5sGpAAAAAXRSTlMAQObYZgAAAN1JREFU\n",
       "GNNjYMAAikvj05YqMGAFCY8ZXFUfYJUK2MnAym2AIqQqKJgAleLZkIAs43oPoYtnQwADA9+dCwy7\n",
       "QAbz5SEZyMwBNJCTYwHDfZAA8wYkqcJjQNXbeRIYQkECrAhn7BIUKwDSD7guMPwFCXilAQHUGT2s\n",
       "YLf3P2D5AqK3IjmepyUAxDjGwLsARHMh+ytOF8QIZmAFe4/nApKUM48DkHGYoR8SYOJIAcVZYAJk\n",
       "PL57HuLsxxEPYMGbwhCaXwCxDQI6AwVRgoc5ge8H9ghgYFRgvYBDiuPuERwyAAfzPe7bmvmqAAAA\n",
       "AElFTkSuQmCC\n",
       "\" style=\"display:inline;vertical-align:middle;\" /></a>, <a class=\"ProveItLink\" href=\"../../logic/equality/__pv_it/theorems/72728018cab57b4b94b0a2b3d711aa95324f266f0/expr.ipynb\"><img src=\"data:image/png;base64,iVBORw0KGgoAAAANSUhEUgAAADMAAAANBAMAAAD2/0vEAAAAMFBMVEX///8QEBBmZmaqqqrMzMxE\n",
       "REQyMjIiIiKYmJh2dna6urrc3NxUVFSIiIju7u4AAAA6P00QAAAAAXRSTlMAQObYZgAAAKFJREFU\n",
       "GNNjYHh7Z9fNCwwogO/SBYaNDxj4JnDUsicA+ZxpYKAAYnIJMNwHUg84/3FtQNW1mSmBIRSomYE1\n",
       "gAENPGC8wPAXxOC/gC7FsP4ByxcQ7e8A5kLtOgBiqzHwCjAwMD+4z8D7AE1XDAMrUMl6g3iGHegG\n",
       "6jCsb2BgeHP3rUYDutSbu/obGHABNRziPAl8v3BIsTewXsAhxXVXBUgCAM1cLDnk3FtcAAAAAElF\n",
       "TkSuQmCC\n",
       "\" style=\"display:inline;vertical-align:middle;\" /></a>, <a class=\"ProveItLink\" href=\"../__pv_it/demonstrations/6153190b4c58255ca4f69a4d07d43e6c8dcc19340/expr.ipynb\"><img src=\"data:image/png;base64,iVBORw0KGgoAAAANSUhEUgAAAC8AAAAUCAMAAAAqRJTwAAAAOVBMVEX///8kJCQNDQ0oKCi6urqY\n",
       "mJgQEBDu7u5mZmZUVFQyMjJERESqqqoiIiLc3NzMzMyIiIh2dnYAAACLQYzIAAAAAXRSTlMAQObY\n",
       "ZgAAAMpJREFUKM+1UksWwyAItK0KimmE+x+2YpI+zcfXLMrCBB0GBjDm2hjMHXvHLjg7nof4YBsn\n",
       "JmNgeo/oqXGcrzniiL7NTkHPJPAbvZGKt5JWLTnvtVB7AYILPivTVKJoK41jtddTT9ySCetnrvhJ\n",
       "/0Ma0Bc8LvgCxTMRc+jcth5PJ2pp12lZ+5NKKPdLoHU//KLim4UqqdNSxNWbrv64H2QzL1QSwFaf\n",
       "xUOB2kPwFcTsXO4e47EDUGYULvYt4a09PqMfWeK/0hs7evwA0nQHsYFPOOgAAAAASUVORK5CYII=\n",
       "\" style=\"display:inline;vertical-align:middle;\" /></a> <a class=\"ProveItLink\" href=\"../__pv_it/demonstrations/5157a91c7659d6f87c63088419524a19291f212e0/proof.ipynb\" style=\"text-decoration: none\">&nbsp;&#x22A2;&nbsp;&nbsp;</a><a class=\"ProveItLink\" href=\"../__pv_it/demonstrations/9e24f57e26541b4ea865c1747ea1e568bf483d840/expr.ipynb\"><img src=\"data:image/png;base64,iVBORw0KGgoAAAANSUhEUgAAAQEAAAAsBAMAAACXhxCSAAAAMFBMVEX///9UVFSqqqrMzMwiIiJE\n",
       "RESYmJgyMjK6urru7u4QEBCIiIh2dnZmZmbc3NwAAABRgo0vAAAAAXRSTlMAQObYZgAAArRJREFU\n",
       "WMPtl7FrE1Ecx78NSZprL+nhYIeA3OBs8xfYNoNLHeKig6gZRAeXgEJ0qHZwqoPXoQiWcg5GWwSJ\n",
       "dJGmwZtctFAR7dCCEYq4CCFCNCjV95J4d897kXs/MwjmC/e4vHvfT3733u/d3Q8QlcpDrkgNKqJz\n",
       "FqWd91lzSCkCOue6tHeWHXeUIiBz4lvCjJW7Jw126GWFAOicaE3mTLRYo91TiIDO2YPMqU/x9qpC\n",
       "BEqc1O7Oqvujyo6lJx83yoJzOF01gU3Po1fWgv/6aXPdEjg7SK2G4czXhutu10k2S058JloQnPY1\n",
       "bR+46AWdxalAAInHuOHnwJnHaD0ER3uAZI4vT7svy+Ky9FaiJjgnLHwDDvPT9l1GHRwIRHA3jzfu\n",
       "CMZJmduI5UJwki1E+QC7fdsrPJSOTy8WrzwsFg12ug3tOzDJ4/zCL72zJEvPOmfcEW3OI4yVQ3BG\n",
       "crAzPB6j60TbJ8Q+i0Sj48Q0b0qy5CtB++yOWOlk/mQmBMd2MOFhsrzp+jxnk88Ubv4axG8kINYZ\n",
       "qQucZAHrYTi2iXHvWc0yKGI9w6glOL/yRfZlUJNdCkTQwFDhiD8TYwZOIAQnVo5P624f2ym3zXP4\n",
       "IDoP4gxrd91Rr6C9DkzCaZw3HB8HSSPRDMPR0mvvn7p9bIYWKktv86JzeYN3XPa28fNLwWVYqBxN\n",
       "z/k4jFzdV+fIn6adaZ5SfionC+oc8Y2i+Xed8ptpHPYcgXO25xW1tzPjHGOpQeAsEmLrwblVzVA4\n",
       "Pb+u4n36SlPk/PNij3yuLQz0l/pBVP03zlifOKQ8MAbrONBAA/0HktanFL2oZEg+aX1K0Z4ZK5CM\n",
       "0vqUouMYMklGaX1KEK/UaCr1KZ1GckSjtD6lyHaoTll9StEY+2ym5YG0PqXkgYFl2m6U1qcUvbzw\n",
       "p0LtJ5X1T5EUqDchAAAAAElFTkSuQmCC\n",
       "\" style=\"display:inline;vertical-align:middle;\" /></a></span><br>"
      ],
      "text/plain": [
       "num_rel: {c in Real, a in Real, x in Real, b in Real, y in Real, x = y, c != 0} |- ((a * (x + b) * c) / c) = ((a * (y + b) * c) / c)"
      ]
     },
     "execution_count": 10,
     "metadata": {},
     "output_type": "execute_result"
    }
   ],
   "source": [
    "num_rel = num_rel.divide_both_sides(c)"
   ]
  },
  {
   "cell_type": "code",
   "execution_count": 11,
   "metadata": {},
   "outputs": [],
   "source": [
    "# After implementing some division closure automation, we should be able to get this to work \n",
    "#num_rel.square()"
   ]
  },
  {
   "cell_type": "code",
   "execution_count": 12,
   "metadata": {},
   "outputs": [
    {
     "data": {
      "text/html": [
       "<strong id=\"num_rel\">num_rel:</strong> <span style=\"font-size:20px;\"><a class=\"ProveItLink\" href=\"../__pv_it/demonstrations/02bd6ad73acd9f4d3192ee4c61bfdcabbff20f180/expr.ipynb\"><img src=\"data:image/png;base64,iVBORw0KGgoAAAANSUhEUgAAADQAAAAPBAMAAABZ6/G2AAAAMFBMVEX///8QEBBmZmaqqqrMzMxE\n",
       "REQyMjIiIiKYmJh2dna6urrc3NxUVFSIiIju7u4AAAA6P00QAAAAAXRSTlMAQObYZgAAAMRJREFU\n",
       "GNNjYMAAHIWh3xIjGLACNr4DLBFxWKVYuScwBOxBEWotL0+ASWmzIcu43kPSpc0KZLy9s+vmBSDN\n",
       "l4ds4IE1QJEJHLXsIHN4NiBJMRcBFXI+4PzHBRJlRXKGeHkyyBwG1gCwgGMaEECdMUsB4nb+C2Bq\n",
       "K7LjtVzBLH8HMMWILMX6Aqie+cF9Bt4HQAGmC0hSLAdUGBjWG8Qz7ACLFCMFFMNkHgeGN3ffajSA\n",
       "Rd5EPYAHrwNr2Gfk4FgZDgkoKAAAelg1omM6Y4wAAAAASUVORK5CYII=\n",
       "\" style=\"display:inline;vertical-align:middle;\" /></a>, <a class=\"ProveItLink\" href=\"../__pv_it/demonstrations/0886f5b6aacf5197ba709a53d4f3243edcc3de560/expr.ipynb\"><img src=\"data:image/png;base64,iVBORw0KGgoAAAANSUhEUgAAADMAAAASBAMAAAAEf/uKAAAAMFBMVEX///8iIiKYmJhUVFTMzMxE\n",
       "REQyMjKqqqq6urp2dnYQEBDc3NxmZmaIiIju7u4AAACH5sGpAAAAAXRSTlMAQObYZgAAAN1JREFU\n",
       "GNNjYMAAikvj05YqMGAFCY8ZXFUfYJUK2MnAym2AIqQqKJgAleLZkIAs43oPoYtnQwADA9+dCwy7\n",
       "QAbz5SEZyMwBNJCTYwHDfZAA8wYkqcJjQNXbeRIYQkECrAhn7BIUKwDSD7guMPwFCXilAQHUGT2s\n",
       "YLf3P2D5AqK3IjmepyUAxDjGwLsARHMh+ytOF8QIZmAFe4/nApKUM48DkHGYoR8SYOJIAcVZYAJk\n",
       "PL57HuLsxxEPYMGbwhCaXwCxDQI6AwVRgoc5ge8H9ghgYFRgvYBDiuPuERwyAAfzPe7bmvmqAAAA\n",
       "AElFTkSuQmCC\n",
       "\" style=\"display:inline;vertical-align:middle;\" /></a>, <a class=\"ProveItLink\" href=\"../../logic/equality/__pv_it/theorems/72728018cab57b4b94b0a2b3d711aa95324f266f0/expr.ipynb\"><img src=\"data:image/png;base64,iVBORw0KGgoAAAANSUhEUgAAADMAAAANBAMAAAD2/0vEAAAAMFBMVEX///8QEBBmZmaqqqrMzMxE\n",
       "REQyMjIiIiKYmJh2dna6urrc3NxUVFSIiIju7u4AAAA6P00QAAAAAXRSTlMAQObYZgAAAKFJREFU\n",
       "GNNjYHh7Z9fNCwwogO/SBYaNDxj4JnDUsicA+ZxpYKAAYnIJMNwHUg84/3FtQNW1mSmBIRSomYE1\n",
       "gAENPGC8wPAXxOC/gC7FsP4ByxcQ7e8A5kLtOgBiqzHwCjAwMD+4z8D7AE1XDAMrUMl6g3iGHegG\n",
       "6jCsb2BgeHP3rUYDutSbu/obGHABNRziPAl8v3BIsTewXsAhxXVXBUgCAM1cLDnk3FtcAAAAAElF\n",
       "TkSuQmCC\n",
       "\" style=\"display:inline;vertical-align:middle;\" /></a> <a class=\"ProveItLink\" href=\"../__pv_it/demonstrations/2fdd54bfe50f4be4e72c8144817fa802d56e21630/proof.ipynb\" style=\"text-decoration: none\">&nbsp;&#x22A2;&nbsp;&nbsp;</a><a class=\"ProveItLink\" href=\"../__pv_it/demonstrations/63c0b022f02ac9cb40300ba9399af33c67b34f0b0/expr.ipynb\"><img src=\"data:image/png;base64,iVBORw0KGgoAAAANSUhEUgAAAEQAAAAYBAMAAACxcUYNAAAAMFBMVEX///8QEBBmZmaqqqrMzMxE\n",
       "REQyMjIiIiKYmJh2dna6urrc3NxUVFSIiIju7u4AAAA6P00QAAAAAXRSTlMAQObYZgAAAPBJREFU\n",
       "KM9jYICASUEPGLABhDjnBp4EbCqQxNk3sPzGpgRJnH0B9y+sSpDFmf9hdQuyOPsF7EqQxCdhV4Ek\n",
       "zqGAXQWS+EqGJViVIMRZko3jsKlAEmf8//8DNiUQ8bd3dt3E5pu3ugzccmAW3wSOWnZ44E9LA4Ek\n",
       "EHPCQgZeiMmcDzj/cW3ANITbQI2BNQBiCoyBBvgYZBn4YQ7gxx6uXP8Y/B2gbDgD7pYcEJMpgeEi\n",
       "NJoe3GfgxZacWA8wxEBY6w3iGXZgs4jpANcPCOvN3bcaDVjde/bSbwZCgCmBgIJjDO8XEFBSwRBL\n",
       "yJq1l6CBAQBMBEcgSQgikAAAAABJRU5ErkJggg==\n",
       "\" style=\"display:inline;vertical-align:middle;\" /></a></span><br>"
      ],
      "text/plain": [
       "num_rel: {x in Real, y in Real, x = y} |- x^{2} = y^{2}"
      ]
     },
     "execution_count": 12,
     "metadata": {},
     "output_type": "execute_result"
    }
   ],
   "source": [
    "num_rel = Equals(x, y)\n",
    "num_rel = num_rel.square_both_sides()"
   ]
  },
  {
   "cell_type": "code",
   "execution_count": 13,
   "metadata": {},
   "outputs": [
    {
     "data": {
      "text/html": [
       "<span style=\"font-size:20px;\"><a class=\"ProveItLink\" href=\"../__pv_it/demonstrations/02bd6ad73acd9f4d3192ee4c61bfdcabbff20f180/expr.ipynb\"><img src=\"data:image/png;base64,iVBORw0KGgoAAAANSUhEUgAAADQAAAAPBAMAAABZ6/G2AAAAMFBMVEX///8QEBBmZmaqqqrMzMxE\n",
       "REQyMjIiIiKYmJh2dna6urrc3NxUVFSIiIju7u4AAAA6P00QAAAAAXRSTlMAQObYZgAAAMRJREFU\n",
       "GNNjYMAAHIWh3xIjGLACNr4DLBFxWKVYuScwBOxBEWotL0+ASWmzIcu43kPSpc0KZLy9s+vmBSDN\n",
       "l4ds4IE1QJEJHLXsIHN4NiBJMRcBFXI+4PzHBRJlRXKGeHkyyBwG1gCwgGMaEECdMUsB4nb+C2Bq\n",
       "K7LjtVzBLH8HMMWILMX6Aqie+cF9Bt4HQAGmC0hSLAdUGBjWG8Qz7ACLFCMFFMNkHgeGN3ffajSA\n",
       "Rd5EPYAHrwNr2Gfk4FgZDgkoKAAAelg1omM6Y4wAAAAASUVORK5CYII=\n",
       "\" style=\"display:inline;vertical-align:middle;\" /></a>, <a class=\"ProveItLink\" href=\"../__pv_it/demonstrations/0886f5b6aacf5197ba709a53d4f3243edcc3de560/expr.ipynb\"><img src=\"data:image/png;base64,iVBORw0KGgoAAAANSUhEUgAAADMAAAASBAMAAAAEf/uKAAAAMFBMVEX///8iIiKYmJhUVFTMzMxE\n",
       "REQyMjKqqqq6urp2dnYQEBDc3NxmZmaIiIju7u4AAACH5sGpAAAAAXRSTlMAQObYZgAAAN1JREFU\n",
       "GNNjYMAAikvj05YqMGAFCY8ZXFUfYJUK2MnAym2AIqQqKJgAleLZkIAs43oPoYtnQwADA9+dCwy7\n",
       "QAbz5SEZyMwBNJCTYwHDfZAA8wYkqcJjQNXbeRIYQkECrAhn7BIUKwDSD7guMPwFCXilAQHUGT2s\n",
       "YLf3P2D5AqK3IjmepyUAxDjGwLsARHMh+ytOF8QIZmAFe4/nApKUM48DkHGYoR8SYOJIAcVZYAJk\n",
       "PL57HuLsxxEPYMGbwhCaXwCxDQI6AwVRgoc5ge8H9ghgYFRgvYBDiuPuERwyAAfzPe7bmvmqAAAA\n",
       "AElFTkSuQmCC\n",
       "\" style=\"display:inline;vertical-align:middle;\" /></a>, <a class=\"ProveItLink\" href=\"../../logic/equality/__pv_it/theorems/72728018cab57b4b94b0a2b3d711aa95324f266f0/expr.ipynb\"><img src=\"data:image/png;base64,iVBORw0KGgoAAAANSUhEUgAAADMAAAANBAMAAAD2/0vEAAAAMFBMVEX///8QEBBmZmaqqqrMzMxE\n",
       "REQyMjIiIiKYmJh2dna6urrc3NxUVFSIiIju7u4AAAA6P00QAAAAAXRSTlMAQObYZgAAAKFJREFU\n",
       "GNNjYHh7Z9fNCwwogO/SBYaNDxj4JnDUsicA+ZxpYKAAYnIJMNwHUg84/3FtQNW1mSmBIRSomYE1\n",
       "gAENPGC8wPAXxOC/gC7FsP4ByxcQ7e8A5kLtOgBiqzHwCjAwMD+4z8D7AE1XDAMrUMl6g3iGHegG\n",
       "6jCsb2BgeHP3rUYDutSbu/obGHABNRziPAl8v3BIsTewXsAhxXVXBUgCAM1cLDnk3FtcAAAAAElF\n",
       "TkSuQmCC\n",
       "\" style=\"display:inline;vertical-align:middle;\" /></a> <a class=\"ProveItLink\" href=\"../__pv_it/demonstrations/4eb97bbd8e301be64f804fff0b7aec77b211bc140/proof.ipynb\" style=\"text-decoration: none\">&nbsp;&#x22A2;&nbsp;&nbsp;</a><a class=\"ProveItLink\" href=\"../__pv_it/demonstrations/290234f637b93befff462f7f3c25c5d716173a350/expr.ipynb\"><img src=\"data:image/png;base64,iVBORw0KGgoAAAANSUhEUgAAAI4AAAAaBAMAAACTJHluAAAAMFBMVEX////MzMwQEBCIiIgiIiKY\n",
       "mJiqqqp2dnbu7u4yMjK6urpUVFRERETc3NxmZmYAAAACInZpAAAAAXRSTlMAQObYZgAAAkhJREFU\n",
       "OMutlT1oFEEUx/+X21w2e7vntVYXsLEzmCaFHAciYkCSQosUSgqJFooLQbAxLipIKmMTYqozUSxE\n",
       "PLBKEQjaCBrZJoVVDiz8QPBElJAQ9O3szO6b29njCh/MsTPzm/c1894BSn78zUgHZjGgyZ63iX6l\n",
       "J1pu9q2nJ/qRfQ99/4I+0fkPgb75jX3fwnovPQwdCsuL2p4dTbfl5CxqYSnMU8NRKywc4BoPZYYA\n",
       "lb8J7DSxkaeHo1bT20OZmVygMZzOrwdixSg6WtqNHZRyg8bFdHqSzI7m6NFRi7C5dLMh0pK43ibX\n",
       "R3L06Og8jTvJrDhFz6uRTIW5FbMaHR1sR1EmD8qKgMiJsY21OTi+U40tGUShdz/BO4pneBy7Dzva\n",
       "HKPhkqH7ODd6Bodnr9LrmhYRPhLSjm+co/4qip3C0uxbcooS7Z1WMVt0nzdxO3iBY6LuLmXqiqPe\n",
       "zFe4mwOimEu09vR1FKVPPwMUZYD3ybFatx4NtXEEh+SVFqLG8JJ8tAKpB/iVr0dHnV3UqkyPRU5d\n",
       "howLhZ/JqScsP604xRytLOK4JJ0o1uIesAyZvCvFDsbl7nT2yjnqtvBOXX70oO19lNry8Tl/3I43\n",
       "JXc/ZyuUoai0nN9yveKLLhnG1ULe2a/G6+fVqYeGhpqixNYP5PKwyNOO/1y1C814I6tHRyuqPu+J\n",
       "X3dki1VDWmOGOuXoOh6ocojr1NlvSSrsbg/dwtFTeMMbG8mkfAa29j+wZSouhq7Vq9Dtn1DUNjsx\n",
       "aOyrRvQC/p/8Ay4Nw22al3SXAAAAAElFTkSuQmCC\n",
       "\" style=\"display:inline;vertical-align:middle;\" /></a></span>"
      ],
      "text/plain": [
       "{x in Real, y in Real, x = y} |- sqrt((x^{2})) = sqrt((y^{2}))"
      ]
     },
     "execution_count": 13,
     "metadata": {},
     "output_type": "execute_result"
    }
   ],
   "source": [
    "num_rel.square_root_both_sides(simplify=False)"
   ]
  },
  {
   "cell_type": "code",
   "execution_count": 14,
   "metadata": {},
   "outputs": [
    {
     "data": {
      "text/html": [
       "<strong id=\"num_rel\">num_rel:</strong> <span style=\"font-size:20px;\"><a class=\"ProveItLink\" href=\"../__pv_it/demonstrations/02bd6ad73acd9f4d3192ee4c61bfdcabbff20f180/expr.ipynb\"><img src=\"data:image/png;base64,iVBORw0KGgoAAAANSUhEUgAAADQAAAAPBAMAAABZ6/G2AAAAMFBMVEX///8QEBBmZmaqqqrMzMxE\n",
       "REQyMjIiIiKYmJh2dna6urrc3NxUVFSIiIju7u4AAAA6P00QAAAAAXRSTlMAQObYZgAAAMRJREFU\n",
       "GNNjYMAAHIWh3xIjGLACNr4DLBFxWKVYuScwBOxBEWotL0+ASWmzIcu43kPSpc0KZLy9s+vmBSDN\n",
       "l4ds4IE1QJEJHLXsIHN4NiBJMRcBFXI+4PzHBRJlRXKGeHkyyBwG1gCwgGMaEECdMUsB4nb+C2Bq\n",
       "K7LjtVzBLH8HMMWILMX6Aqie+cF9Bt4HQAGmC0hSLAdUGBjWG8Qz7ACLFCMFFMNkHgeGN3ffajSA\n",
       "Rd5EPYAHrwNr2Gfk4FgZDgkoKAAAelg1omM6Y4wAAAAASUVORK5CYII=\n",
       "\" style=\"display:inline;vertical-align:middle;\" /></a>, <a class=\"ProveItLink\" href=\"../__pv_it/demonstrations/0886f5b6aacf5197ba709a53d4f3243edcc3de560/expr.ipynb\"><img src=\"data:image/png;base64,iVBORw0KGgoAAAANSUhEUgAAADMAAAASBAMAAAAEf/uKAAAAMFBMVEX///8iIiKYmJhUVFTMzMxE\n",
       "REQyMjKqqqq6urp2dnYQEBDc3NxmZmaIiIju7u4AAACH5sGpAAAAAXRSTlMAQObYZgAAAN1JREFU\n",
       "GNNjYMAAikvj05YqMGAFCY8ZXFUfYJUK2MnAym2AIqQqKJgAleLZkIAs43oPoYtnQwADA9+dCwy7\n",
       "QAbz5SEZyMwBNJCTYwHDfZAA8wYkqcJjQNXbeRIYQkECrAhn7BIUKwDSD7guMPwFCXilAQHUGT2s\n",
       "YLf3P2D5AqK3IjmepyUAxDjGwLsARHMh+ytOF8QIZmAFe4/nApKUM48DkHGYoR8SYOJIAcVZYAJk\n",
       "PL57HuLsxxEPYMGbwhCaXwCxDQI6AwVRgoc5ge8H9ghgYFRgvYBDiuPuERwyAAfzPe7bmvmqAAAA\n",
       "AElFTkSuQmCC\n",
       "\" style=\"display:inline;vertical-align:middle;\" /></a>, <a class=\"ProveItLink\" href=\"../../logic/equality/__pv_it/theorems/72728018cab57b4b94b0a2b3d711aa95324f266f0/expr.ipynb\"><img src=\"data:image/png;base64,iVBORw0KGgoAAAANSUhEUgAAADMAAAANBAMAAAD2/0vEAAAAMFBMVEX///8QEBBmZmaqqqrMzMxE\n",
       "REQyMjIiIiKYmJh2dna6urrc3NxUVFSIiIju7u4AAAA6P00QAAAAAXRSTlMAQObYZgAAAKFJREFU\n",
       "GNNjYHh7Z9fNCwwogO/SBYaNDxj4JnDUsicA+ZxpYKAAYnIJMNwHUg84/3FtQNW1mSmBIRSomYE1\n",
       "gAENPGC8wPAXxOC/gC7FsP4ByxcQ7e8A5kLtOgBiqzHwCjAwMD+4z8D7AE1XDAMrUMl6g3iGHegG\n",
       "6jCsb2BgeHP3rUYDutSbu/obGHABNRziPAl8v3BIsTewXsAhxXVXBUgCAM1cLDnk3FtcAAAAAElF\n",
       "TkSuQmCC\n",
       "\" style=\"display:inline;vertical-align:middle;\" /></a> <a class=\"ProveItLink\" href=\"../__pv_it/demonstrations/4eb97bbd8e301be64f804fff0b7aec77b211bc140/proof.ipynb\" style=\"text-decoration: none\">&nbsp;&#x22A2;&nbsp;&nbsp;</a><a class=\"ProveItLink\" href=\"../__pv_it/demonstrations/290234f637b93befff462f7f3c25c5d716173a350/expr.ipynb\"><img src=\"data:image/png;base64,iVBORw0KGgoAAAANSUhEUgAAAI4AAAAaBAMAAACTJHluAAAAMFBMVEX////MzMwQEBCIiIgiIiKY\n",
       "mJiqqqp2dnbu7u4yMjK6urpUVFRERETc3NxmZmYAAAACInZpAAAAAXRSTlMAQObYZgAAAkhJREFU\n",
       "OMutlT1oFEEUx/+X21w2e7vntVYXsLEzmCaFHAciYkCSQosUSgqJFooLQbAxLipIKmMTYqozUSxE\n",
       "PLBKEQjaCBrZJoVVDiz8QPBElJAQ9O3szO6b29njCh/MsTPzm/c1894BSn78zUgHZjGgyZ63iX6l\n",
       "J1pu9q2nJ/qRfQ99/4I+0fkPgb75jX3fwnovPQwdCsuL2p4dTbfl5CxqYSnMU8NRKywc4BoPZYYA\n",
       "lb8J7DSxkaeHo1bT20OZmVygMZzOrwdixSg6WtqNHZRyg8bFdHqSzI7m6NFRi7C5dLMh0pK43ibX\n",
       "R3L06Og8jTvJrDhFz6uRTIW5FbMaHR1sR1EmD8qKgMiJsY21OTi+U40tGUShdz/BO4pneBy7Dzva\n",
       "HKPhkqH7ODd6Bodnr9LrmhYRPhLSjm+co/4qip3C0uxbcooS7Z1WMVt0nzdxO3iBY6LuLmXqiqPe\n",
       "zFe4mwOimEu09vR1FKVPPwMUZYD3ybFatx4NtXEEh+SVFqLG8JJ8tAKpB/iVr0dHnV3UqkyPRU5d\n",
       "howLhZ/JqScsP604xRytLOK4JJ0o1uIesAyZvCvFDsbl7nT2yjnqtvBOXX70oO19lNry8Tl/3I43\n",
       "JXc/ZyuUoai0nN9yveKLLhnG1ULe2a/G6+fVqYeGhpqixNYP5PKwyNOO/1y1C814I6tHRyuqPu+J\n",
       "X3dki1VDWmOGOuXoOh6ocojr1NlvSSrsbg/dwtFTeMMbG8mkfAa29j+wZSouhq7Vq9Dtn1DUNjsx\n",
       "aOyrRvQC/p/8Ay4Nw22al3SXAAAAAElFTkSuQmCC\n",
       "\" style=\"display:inline;vertical-align:middle;\" /></a></span><br>"
      ],
      "text/plain": [
       "num_rel: {x in Real, y in Real, x = y} |- sqrt((x^{2})) = sqrt((y^{2}))"
      ]
     },
     "execution_count": 14,
     "metadata": {},
     "output_type": "execute_result"
    }
   ],
   "source": [
    "num_rel = num_rel.square_root_both_sides()"
   ]
  },
  {
   "cell_type": "code",
   "execution_count": 15,
   "metadata": {},
   "outputs": [
    {
     "data": {
      "text/html": [
       "<span style=\"font-size:20px;\"><a class=\"ProveItLink\" href=\"../__pv_it/demonstrations/97c2cd789f92aeb5958c71e9e8648177a398980b0/expr.ipynb\"><img src=\"data:image/png;base64,iVBORw0KGgoAAAANSUhEUgAAADEAAAAPBAMAAAC/wjryAAAAMFBMVEX///+6urqYmJgQEBDu7u5m\n",
       "ZmZUVFQyMjJERESqqqoiIiLc3NzMzMyIiIh2dnYAAABqS+z4AAAAAXRSTlMAQObYZgAAALpJREFU\n",
       "GNNjYEAHWhb95RYKDNhAgRvDCQ0HbDIN+xg4uBOQRTRWrSqAyrBuKECSOHEFoYd1QwOI9fbuASDJ\n",
       "UoJkGhsjyLRdEzhAWtk2IMnMCge5YB0D2wQgxYFwweZVy0EirF8g/MPlQAB1gSgHSAtzA0RmB5Kr\n",
       "WWVAgv4PIHxmZP+06AJpfmBAgE29gCRzjBXoXNYEBleQqxlWIoUO34QcIOOdEkS1W6MDLERrGDrq\n",
       "JyAFglzXKuQwAQDAXjdf5nEJUwAAAABJRU5ErkJggg==\n",
       "\" style=\"display:inline;vertical-align:middle;\" /></a>, <a class=\"ProveItLink\" href=\"../__pv_it/demonstrations/02bd6ad73acd9f4d3192ee4c61bfdcabbff20f180/expr.ipynb\"><img src=\"data:image/png;base64,iVBORw0KGgoAAAANSUhEUgAAADQAAAAPBAMAAABZ6/G2AAAAMFBMVEX///8QEBBmZmaqqqrMzMxE\n",
       "REQyMjIiIiKYmJh2dna6urrc3NxUVFSIiIju7u4AAAA6P00QAAAAAXRSTlMAQObYZgAAAMRJREFU\n",
       "GNNjYMAAHIWh3xIjGLACNr4DLBFxWKVYuScwBOxBEWotL0+ASWmzIcu43kPSpc0KZLy9s+vmBSDN\n",
       "l4ds4IE1QJEJHLXsIHN4NiBJMRcBFXI+4PzHBRJlRXKGeHkyyBwG1gCwgGMaEECdMUsB4nb+C2Bq\n",
       "K7LjtVzBLH8HMMWILMX6Aqie+cF9Bt4HQAGmC0hSLAdUGBjWG8Qz7ACLFCMFFMNkHgeGN3ffajSA\n",
       "Rd5EPYAHrwNr2Gfk4FgZDgkoKAAAelg1omM6Y4wAAAAASUVORK5CYII=\n",
       "\" style=\"display:inline;vertical-align:middle;\" /></a>, <a class=\"ProveItLink\" href=\"../__pv_it/demonstrations/0886f5b6aacf5197ba709a53d4f3243edcc3de560/expr.ipynb\"><img src=\"data:image/png;base64,iVBORw0KGgoAAAANSUhEUgAAADMAAAASBAMAAAAEf/uKAAAAMFBMVEX///8iIiKYmJhUVFTMzMxE\n",
       "REQyMjKqqqq6urp2dnYQEBDc3NxmZmaIiIju7u4AAACH5sGpAAAAAXRSTlMAQObYZgAAAN1JREFU\n",
       "GNNjYMAAikvj05YqMGAFCY8ZXFUfYJUK2MnAym2AIqQqKJgAleLZkIAs43oPoYtnQwADA9+dCwy7\n",
       "QAbz5SEZyMwBNJCTYwHDfZAA8wYkqcJjQNXbeRIYQkECrAhn7BIUKwDSD7guMPwFCXilAQHUGT2s\n",
       "YLf3P2D5AqK3IjmepyUAxDjGwLsARHMh+ytOF8QIZmAFe4/nApKUM48DkHGYoR8SYOJIAcVZYAJk\n",
       "PL57HuLsxxEPYMGbwhCaXwCxDQI6AwVRgoc5ge8H9ghgYFRgvYBDiuPuERwyAAfzPe7bmvmqAAAA\n",
       "AElFTkSuQmCC\n",
       "\" style=\"display:inline;vertical-align:middle;\" /></a>, <a class=\"ProveItLink\" href=\"../../logic/equality/__pv_it/theorems/72728018cab57b4b94b0a2b3d711aa95324f266f0/expr.ipynb\"><img src=\"data:image/png;base64,iVBORw0KGgoAAAANSUhEUgAAADMAAAANBAMAAAD2/0vEAAAAMFBMVEX///8QEBBmZmaqqqrMzMxE\n",
       "REQyMjIiIiKYmJh2dna6urrc3NxUVFSIiIju7u4AAAA6P00QAAAAAXRSTlMAQObYZgAAAKFJREFU\n",
       "GNNjYHh7Z9fNCwwogO/SBYaNDxj4JnDUsicA+ZxpYKAAYnIJMNwHUg84/3FtQNW1mSmBIRSomYE1\n",
       "gAENPGC8wPAXxOC/gC7FsP4ByxcQ7e8A5kLtOgBiqzHwCjAwMD+4z8D7AE1XDAMrUMl6g3iGHegG\n",
       "6jCsb2BgeHP3rUYDutSbu/obGHABNRziPAl8v3BIsTewXsAhxXVXBUgCAM1cLDnk3FtcAAAAAElF\n",
       "TkSuQmCC\n",
       "\" style=\"display:inline;vertical-align:middle;\" /></a> <a class=\"ProveItLink\" href=\"../__pv_it/demonstrations/95dd767c4d0ac889e64e6f7247fb2deed00c7e5a0/proof.ipynb\" style=\"text-decoration: none\">&nbsp;&#x22A2;&nbsp;&nbsp;</a><a class=\"ProveItLink\" href=\"../__pv_it/demonstrations/8101ddb2ef483a8254b109ec94cb511a7c2fd0da0/expr.ipynb\"><img src=\"data:image/png;base64,iVBORw0KGgoAAAANSUhEUgAAAP8AAAAmBAMAAAD5F1AeAAAAMFBMVEX///92dnaqqqpEREQiIiJm\n",
       "Zmbc3NxUVFTMzMzu7u4QEBC6uroyMjKIiIiYmJgAAABs22DkAAAAAXRSTlMAQObYZgAABBlJREFU\n",
       "WMOdl8trE0Ecx3/JJptsNkmjoKBYja+DB2mh0EJRaasUn1hRULHQoDlIkSanelAhf4BgpErxAYkn\n",
       "K75yEAVBm4P4wBwCUqTS2Ih6kdKmBfugtHVmso/M7uzU3YENs7Pz++S7v99vfjMLABAug602aPVg\n",
       "0iFnzJ4dyHn2eCjvjCM/sikAvrKHX6edce6m7AoIMmMmDTnkXOZO6lkxtYrI9JkvyeN4LTn+WZ6d\n",
       "2MgaZWq+EeOBLlhyglzhvhzzv1jR/sD15BVLToIr/FJN33XyrBq8IsNXfE/mLTndXOHnavrr4arS\n",
       "C2cZQeYuQm/OkvOUZydhap9y04nC7Cb+EhfNUwNFHug+tiqzOOI8z84VRSLUPDwCiRz0k+4D89QE\n",
       "dzWvRdcAkxOurCY8qCdJQ5qMgObDmja1qiffMzneNmrmbtpwM7p+67fHkE+Ip8fN/3GKunPTAXEh\n",
       "74e7mBxPI09AGwmZhkEIieRfg3np7OcJ8OArxuTUdXEEhJBwUXcR8cVnsoCjJgF/eQK+oyvO5tRV\n",
       "Z9aXUgwBWHgIyy31v6kHOSKjSevwg4x5N1iiOAYB+CVGEGekCL1pmlNFxaNCnhYg4Z8SugQ04Sb8\n",
       "Kh6F69u2o8o1gR9UZbsKpBEfSssURxeAi10I3+1DBnIWhZ3mJIiAdvBFKQFiuyrcgx5sgC3pl/B8\n",
       "ZQXd7yCGEVOpW6Y4moB4RPEkdACcR9WqycAh0fQukMmbCoXDhQKp6W9bcaHCxoEcfosmvX4Twy6j\n",
       "AP+MzkGeefekUMCbjPwTJ9sPPPoYcVC1WjJwiIBAoykJh5FnPGlFAGhmfAE6R/OAjD1zSBEAw2n/\n",
       "vIFDQpCJmAR4kPu3ghIC8Ov18gVoBkoOJLUQ6Bw9Bw6gm4gSArTxhLIGTgbPrEMq6ByAECrTn0BJ\n",
       "wl2hCowqD0jyJEyrQFqiOLqA8RwEye6NkhBaQEgaOCSdvEm4bViG0hy4u5SqIc8IFXUngRMWdWCa\n",
       "4ugCMknYSTp43Z0moaU4AaJozWTRWIh6YtVNQG4D6droiHbk/kgyxHxOeUhxdAHeWWUTwD4fLPXE\n",
       "DBwhb1EJE5FX6u5JuZoUxinzkWiPRSUUp+Wq16uluNvIcdFniztaT8g21xROfT8g5I3mzYgeknSF\n",
       "rUL1pdFm5MtLi0aOe8Hqs2FOSRchZtygmee/BquvgmH1CNsMnrJQNHKqJZTVjisnDInaL5v1uku3\n",
       "jNUHnkddwgMgl86YOS1WAr6onb6awTBxh5txABWsTtch9QXEMpPzB+w31gGUdVD9L04mat8wwLCR\n",
       "Zhxy7H7T4vaNNTjmlDNk3/AZ83VSDjkTtu3YTgvnHXKEol3DXvbX3F6HHOmgTTupgz1+K+WQE4/Z\n",
       "MxQsSo7Y6ZAj2lR+z+rBRQecf3DHWxifrZoOAAAAAElFTkSuQmCC\n",
       "\" style=\"display:inline;vertical-align:middle;\" /></a></span>"
      ],
      "text/plain": [
       "{c in Real, x in Real, y in Real, x = y} |- (c + sqrt((x^{2}))) = (c + sqrt((y^{2})))"
      ]
     },
     "execution_count": 15,
     "metadata": {},
     "output_type": "execute_result"
    }
   ],
   "source": [
    "num_rel.left_add_both_sides(c)"
   ]
  },
  {
   "cell_type": "code",
   "execution_count": 16,
   "metadata": {},
   "outputs": [
    {
     "data": {
      "text/html": [
       "<strong id=\"defaults.assumptions\">defaults.assumptions:</strong> <a class=\"ProveItLink\" href=\"../__pv_it/demonstrations/9426b4c44f4344552d06bf08482a6d4178ba5a640/expr.ipynb\"><img src=\"data:image/png;base64,iVBORw0KGgoAAAANSUhEUgAAAsMAAAAUCAMAAABf9sDOAAAAOVBMVEX///8kJCQNDQ0oKChUVFTM\n",
       "zMx2dna6uroQEBCqqqqIiIgiIiJmZmYyMjJERETu7u6YmJjc3NwAAABfYoQ1AAAAAXRSTlMAQObY\n",
       "ZgAABXFJREFUaN7tm9t2wygMRZkZAzZX4///2AFjJwYJAsRp+lAe2tWsbB8hgRDgEkKIW8lf+2s/\n",
       "0Ji9+YGLi7+tafv+KmdjNq1nk495a2Y5iI6LxkbNrD4g+1U4hlusjHY5ucCN6rU4uFPR6TssTdoU\n",
       "B7F2rYAmdgq9Wk0+n7QaRsmb5LZ8RParsMd9r6x0ZSdbqWwjN6pXdrCQdERx4jdYmqXPfVqsqhkw\n",
       "xLH4a+oZSHWUvEfyzX5E9qdgq7FMvc57ptI1Jy96ck1ccSHWtIEDDrZMiiFFZ0YtzaxNs7n/UZkK\n",
       "q5G+6TwuyhH9op85WUbHRY8+yHtk+5Vv6nA6JE56H/hL4lY4W7me6GuuWO4o18KxtIJxSq6Diomx\n",
       "HRywNnGfnwuuWGRRIyyaW/zTTLWfkCyj46JggX1DdkT5ng7HpTnf7GxTHLVL2cmHsOGvuBbJCpdU\n",
       "MG7Sy2tLG9JwB4c66GIfJ0I9JhhTYraXRc4W1seJ8Gx91JMQaqmQZdQvBkLQEdFgsaDbkKwVYnJc\n",
       "MDHQXStUwNzTV10dzv18ppnrJ3ZTMcKi6GR0VKFc5mIs9Re4zMF+xmiep0GcBJLBI/QlB8OCWpsE\n",
       "gClybpz57HO13sCOD8ZlkSqLmd38B3ZzZbKIOuldZPSAaLTYPBejDlnLwrAR5LL4tyszrxxyw0YG\n",
       "lKGfserWbWwfM9cIZ05OVndX4XIXE5tVAyUOONgYWJHiZCLJ9N7++zf8VDUOCQtmbRqAVRO5HGVF\n",
       "+KYy1yBgcZlD1Zcng1jVPMwxpB2Ve7JaBkQPi3XN4BIcVibmjeauv7tuiaLGjChDP1+rW/uIsIoR\n",
       "ZkUnJzmcVLjcxaAaKHHAwUKCigknc0mYhnEOCQtibRaARZI5rg5q99AladNZny3JLdyn7rwn+yPt\n",
       "aQ5GllCV1vRdotFiVmNLsE3HYJey/2sWyWjq7zCyiwtj+PFlbKVNnYyXiiiXuthiYxhd2XMH79Ml\n",
       "r0srZFa5T685GBbM2iwAdDvH8Gz2B9NCBX5ZHxWnBiv7H+W5M6QZnU2l7K+LHhbzGluEQUbrUd4P\n",
       "COjTV90dvvoZPynbjl37UnJyoVREuNnA2gMc5yEccPBhZnY+UCRzf7jXigRZaDBrkwD4MRxriTi/\n",
       "l2uZNpdqPGPXTGdbk8k3k1YUpJV2UWhxu2zsOh1UjhlRzCPKiJ+xPd2RjdZrPsucjIcXcjBzY8d5\n",
       "iF7J1OxAr0g+K4SwQP1zrFVThcPCglqbBIDLY09n9/kw6ccFtP+iKMTFrwoqFQpzNVZPJbKEbhFa\n",
       "+kWhxR2yi407gkt919Hd/WjTXNbGdmXEz+jREXIDkDkZOeYqcJmLUUmEw00FB3rYXQUiCS6DMQ4J\n",
       "C2ptEgC/p2NxQ2BESAYTucwgCVwU708JW/bjar9RPgtvb7NRNbKEqmnfetIBUWhxs2xYkc2WvezU\n",
       "rhyM5ludLcHQavSOY3+ina9k5mRrOHZaCjngYvTWAHLYkHjOH1ojoSRXDZaiYcGsTQKgWEjFsXgW\n",
       "grpJ8Gs9bXgyV+N7LDSsAzpMUintef4h2ErKZAVlbE1W2w5RYHGzbECtUOtKhpVVcsjV3mFgNX7X\n",
       "7Ee2EHGgPMjMyaVbv5wDLr7UtrTGIUOiURFKIgfoSA+xsGDWJgEIH1fumjkz6QVq/lg7Sr6BLpXb\n",
       "yTdkO5WVvlO52kbJn+Yq5KJuVzwDYEMO7njnh4DD5i+gb4jeA/sSEWzXf2OH2e8JjbZ3KiYBiHd6\n",
       "ZvT9NyuGezuOviF6ExwOA4z4doetls9Gb1QscuOKC7vVN9cAxHcvm9+Bh3X2+HhYv0DeBXNfjNHf\n",
       "3+H194TmRRruVbwG4EzAf/+L9Nc+2vjHnryGIfw/igxzkGEEMwgAAAAASUVORK5CYII=\n",
       "\" style=\"display:inline;vertical-align:middle;\" /></a><br>"
      ],
      "text/plain": [
       "defaults.assumptions: (a in Real, b in Real, c in Real, d in Real, x in Real, y in Real, a > 0, b >= 0, c < 0, d <= 0, c != 0, x < y)"
      ]
     },
     "execution_count": 16,
     "metadata": {},
     "output_type": "execute_result"
    }
   ],
   "source": [
    "defaults.assumptions = (*basic_assumptions, Less(x, y))"
   ]
  },
  {
   "cell_type": "code",
   "execution_count": 17,
   "metadata": {},
   "outputs": [
    {
     "data": {
      "text/html": [
       "<strong id=\"num_rel\">num_rel:</strong> <span style=\"font-size:20px;\"><a class=\"ProveItLink\" href=\"../ordering/__pv_it/theorems/851392b6f273e0cbcf1bc7828c98c2cf9db6bb7a0/expr.ipynb\"><img src=\"data:image/png;base64,iVBORw0KGgoAAAANSUhEUgAAADMAAAAQBAMAAABJt1qBAAAAMFBMVEX///8QEBBmZmaqqqrMzMxE\n",
       "REQyMjIiIiKYmJh2dna6urrc3NxUVFSIiIju7u4AAAA6P00QAAAAAXRSTlMAQObYZgAAALhJREFU\n",
       "GNNjYEAFZg4MOEC7Ni6Z6/NQuG/v7Lp5Aczimw6hGfguXWDY+ICBbwJHLXsCWEC9Aaqak0uA4T6Q\n",
       "esD5j2sDSOCYAcygzUwJDKFAtQysARBTEFIPGC8w/AUx+KE2cMMNZFj/gOULiPaHeQXuDAY1Bl4B\n",
       "BgbmB/cZeB+gOT6GgfUAUK9BPMMOdC/rMKwHGv7m7luNBvSAenNXfwOuYAHahh3wJPD9wiHF3sB6\n",
       "AYcU110VIAkAWaUyBI00ZbcAAAAASUVORK5CYII=\n",
       "\" style=\"display:inline;vertical-align:middle;\" /></a> <a class=\"ProveItLink\" href=\"../__pv_it/demonstrations/fb6965cde0f1d0339e9bb298218e467eedad45500/proof.ipynb\" style=\"text-decoration: none\">&nbsp;&#x22A2;&nbsp;&nbsp;</a><a class=\"ProveItLink\" href=\"../ordering/__pv_it/theorems/851392b6f273e0cbcf1bc7828c98c2cf9db6bb7a0/expr.ipynb\"><img src=\"data:image/png;base64,iVBORw0KGgoAAAANSUhEUgAAADMAAAAQBAMAAABJt1qBAAAAMFBMVEX///8QEBBmZmaqqqrMzMxE\n",
       "REQyMjIiIiKYmJh2dna6urrc3NxUVFSIiIju7u4AAAA6P00QAAAAAXRSTlMAQObYZgAAALhJREFU\n",
       "GNNjYEAFZg4MOEC7Ni6Z6/NQuG/v7Lp5Aczimw6hGfguXWDY+ICBbwJHLXsCWEC9Aaqak0uA4T6Q\n",
       "esD5j2sDSOCYAcygzUwJDKFAtQysARBTEFIPGC8w/AUx+KE2cMMNZFj/gOULiPaHeQXuDAY1Bl4B\n",
       "BgbmB/cZeB+gOT6GgfUAUK9BPMMOdC/rMKwHGv7m7luNBvSAenNXfwOuYAHahh3wJPD9wiHF3sB6\n",
       "AYcU110VIAkAWaUyBI00ZbcAAAAASUVORK5CYII=\n",
       "\" style=\"display:inline;vertical-align:middle;\" /></a></span><br>"
      ],
      "text/plain": [
       "num_rel: {x < y} |- x < y"
      ]
     },
     "execution_count": 17,
     "metadata": {},
     "output_type": "execute_result"
    }
   ],
   "source": [
    "num_rel = Less(x, y).prove()"
   ]
  },
  {
   "cell_type": "code",
   "execution_count": 18,
   "metadata": {},
   "outputs": [
    {
     "data": {
      "text/html": [
       "<strong id=\"num_rel\">num_rel:</strong> <span style=\"font-size:20px;\"><a class=\"ProveItLink\" href=\"../__pv_it/demonstrations/bd2f502b953df5e1834a5d80011e6b2e7aa85c890/expr.ipynb\"><img src=\"data:image/png;base64,iVBORw0KGgoAAAANSUhEUgAAADMAAAAPBAMAAAC7N+rPAAAAMFBMVEX///9UVFSqqqrMzMwiIiJE\n",
       "RESYmJgyMjK6urru7u4QEBCIiIh2dnZmZmbc3NwAAABRgo0vAAAAAXRSTlMAQObYZgAAAMpJREFU\n",
       "GNNjYMAAKUvjy5cmMGAFBRMZTFMnYJUKeMPAyieAIpTq4lIAleJ9UIAsY7oToYv3QQCQwXfn9kqQ\n",
       "AGclkoGMHCADux6wfwAJMD5AklK5DnQG5zIGXpBmBlaEM165uCsAad6fDCwbQAJW5UAAdUYvK8jt\n",
       "XAEM8w1AAk+RHM/bDDJo/gEGfbAAF7K/IrNBUgoM4kwgF/BuQJIy5AWaxLqBzZEHLOKEFFA8CsJA\n",
       "F0pvfrgDLDIxYgIseIsZQusVkIOjJ8QFOXgAnyk4ZcxDaYcAAAAASUVORK5CYII=\n",
       "\" style=\"display:inline;vertical-align:middle;\" /></a>, <a class=\"ProveItLink\" href=\"../__pv_it/demonstrations/02bd6ad73acd9f4d3192ee4c61bfdcabbff20f180/expr.ipynb\"><img src=\"data:image/png;base64,iVBORw0KGgoAAAANSUhEUgAAADQAAAAPBAMAAABZ6/G2AAAAMFBMVEX///8QEBBmZmaqqqrMzMxE\n",
       "REQyMjIiIiKYmJh2dna6urrc3NxUVFSIiIju7u4AAAA6P00QAAAAAXRSTlMAQObYZgAAAMRJREFU\n",
       "GNNjYMAAHIWh3xIjGLACNr4DLBFxWKVYuScwBOxBEWotL0+ASWmzIcu43kPSpc0KZLy9s+vmBSDN\n",
       "l4ds4IE1QJEJHLXsIHN4NiBJMRcBFXI+4PzHBRJlRXKGeHkyyBwG1gCwgGMaEECdMUsB4nb+C2Bq\n",
       "K7LjtVzBLH8HMMWILMX6Aqie+cF9Bt4HQAGmC0hSLAdUGBjWG8Qz7ACLFCMFFMNkHgeGN3ffajSA\n",
       "Rd5EPYAHrwNr2Gfk4FgZDgkoKAAAelg1omM6Y4wAAAAASUVORK5CYII=\n",
       "\" style=\"display:inline;vertical-align:middle;\" /></a>, <a class=\"ProveItLink\" href=\"../__pv_it/demonstrations/0886f5b6aacf5197ba709a53d4f3243edcc3de560/expr.ipynb\"><img src=\"data:image/png;base64,iVBORw0KGgoAAAANSUhEUgAAADMAAAASBAMAAAAEf/uKAAAAMFBMVEX///8iIiKYmJhUVFTMzMxE\n",
       "REQyMjKqqqq6urp2dnYQEBDc3NxmZmaIiIju7u4AAACH5sGpAAAAAXRSTlMAQObYZgAAAN1JREFU\n",
       "GNNjYMAAikvj05YqMGAFCY8ZXFUfYJUK2MnAym2AIqQqKJgAleLZkIAs43oPoYtnQwADA9+dCwy7\n",
       "QAbz5SEZyMwBNJCTYwHDfZAA8wYkqcJjQNXbeRIYQkECrAhn7BIUKwDSD7guMPwFCXilAQHUGT2s\n",
       "YLf3P2D5AqK3IjmepyUAxDjGwLsARHMh+ytOF8QIZmAFe4/nApKUM48DkHGYoR8SYOJIAcVZYAJk\n",
       "PL57HuLsxxEPYMGbwhCaXwCxDQI6AwVRgoc5ge8H9ghgYFRgvYBDiuPuERwyAAfzPe7bmvmqAAAA\n",
       "AElFTkSuQmCC\n",
       "\" style=\"display:inline;vertical-align:middle;\" /></a>, <a class=\"ProveItLink\" href=\"../ordering/__pv_it/theorems/851392b6f273e0cbcf1bc7828c98c2cf9db6bb7a0/expr.ipynb\"><img src=\"data:image/png;base64,iVBORw0KGgoAAAANSUhEUgAAADMAAAAQBAMAAABJt1qBAAAAMFBMVEX///8QEBBmZmaqqqrMzMxE\n",
       "REQyMjIiIiKYmJh2dna6urrc3NxUVFSIiIju7u4AAAA6P00QAAAAAXRSTlMAQObYZgAAALhJREFU\n",
       "GNNjYEAFZg4MOEC7Ni6Z6/NQuG/v7Lp5Aczimw6hGfguXWDY+ICBbwJHLXsCWEC9Aaqak0uA4T6Q\n",
       "esD5j2sDSOCYAcygzUwJDKFAtQysARBTEFIPGC8w/AUx+KE2cMMNZFj/gOULiPaHeQXuDAY1Bl4B\n",
       "BgbmB/cZeB+gOT6GgfUAUK9BPMMOdC/rMKwHGv7m7luNBvSAenNXfwOuYAHahh3wJPD9wiHF3sB6\n",
       "AYcU110VIAkAWaUyBI00ZbcAAAAASUVORK5CYII=\n",
       "\" style=\"display:inline;vertical-align:middle;\" /></a> <a class=\"ProveItLink\" href=\"../__pv_it/demonstrations/0f0fa3aa38c3c1e20725744a5d7c4d93ffaca0240/proof.ipynb\" style=\"text-decoration: none\">&nbsp;&#x22A2;&nbsp;&nbsp;</a><a class=\"ProveItLink\" href=\"../addition/__pv_it/theorems/03e3f9dc0835235cc0fcc9542096eac9d469363a0/expr.ipynb\"><img src=\"data:image/png;base64,iVBORw0KGgoAAAANSUhEUgAAAJcAAAAUBAMAAABylbI8AAAAMFBMVEX///9UVFTMzMx2dna6uroQ\n",
       "EBCqqqqIiIgiIiJmZmYyMjJERETu7u6YmJjc3NwAAAC+aOQFAAAAAXRSTlMAQObYZgAAAchJREFU\n",
       "OMuVlL9LgkEYx7/6av54X80tcAj/A90qaGgJ2nRoigLHaKi3H2BO2lKr5VAIlURDOITNkb0NYdSg\n",
       "YzSEQUVLIBG0OPTc+6r5vt695MF7d889n7v37vkFBOsQtKFG/5qYXmbdA4RttH9JTDvYr8/Fh933\n",
       "L4lppQgEcqaXqb2S1CMtRVhvR48B3oZYrSS608cjfbCjb4EPiNU47Uw2J43RjvZPIc1clN+fN6ur\n",
       "q6/rNJ1o33C8s4tLK2kVbxqkHK5Imm74m2Z1LLDjJYM+GdJBNx64tORKIEP2LGKb4AX4yma1JrVc\n",
       "ZJ5FXQonu0/h0u++Ii5JymIW8LXgZctSqXQ2VyqFaANknY/qF+s5jEtrbhU/gLPJ1O4yahGLSYfV\n",
       "7mEI/j2TT8c155d+GF28FsOK1T9RnZ+xOoBPF+ChIHJlmUlrSYTbedhWD2kZeLSOA3pCg0vjAnJI\n",
       "dwB5X1YDW5LpX/HkNT5pzFuDlktjF3EyhC/GXqKMrL1smNQ3qeohs9OJNZ24NOHHdFV/xD6dstZs\n",
       "FtEF+u6sqatookQ3Gpd2FJVvI9FRGagE8WhvXVaNEmRXHCv/K46u1B71csO2EAcGKtvPwC+QWZGk\n",
       "qMPCFQAAAABJRU5ErkJggg==\n",
       "\" style=\"display:inline;vertical-align:middle;\" /></a></span><br>"
      ],
      "text/plain": [
       "num_rel: {a in Real, x in Real, y in Real, x < y} |- (a + x) < (a + y)"
      ]
     },
     "execution_count": 18,
     "metadata": {},
     "output_type": "execute_result"
    }
   ],
   "source": [
    "num_rel = num_rel.left_add_both_sides(a)"
   ]
  },
  {
   "cell_type": "code",
   "execution_count": 19,
   "metadata": {},
   "outputs": [
    {
     "data": {
      "text/html": [
       "<strong id=\"num_rel\">num_rel:</strong> <span style=\"font-size:20px;\"><a class=\"ProveItLink\" href=\"../__pv_it/demonstrations/01066498eeade39164943c7fc785297aa9d0bb160/expr.ipynb\"><img src=\"data:image/png;base64,iVBORw0KGgoAAAANSUhEUgAAADEAAAAPBAMAAAC/wjryAAAAMFBMVEX////MzMyYmJjc3NyIiIhU\n",
       "VFR2dna6urqqqqpmZmYyMjIiIiIQEBBERETu7u4AAACIO4EmAAAAAXRSTlMAQObYZgAAANJJREFU\n",
       "GNNj4LuzgQEFaJ+9v+qsAojFNQFVhmHBUwZZ3QdABn8DmswFMwZe5gAgo/4BVER39+4FUBlOAxAr\n",
       "Gyoh64fQw2lwAchY6jIDxOdbh2QaKzvQNL5fD94bAPmsBkgy3bOAVnD8Y+B3APJ5ES6w2b0L5CrO\n",
       "BQzvE4C0zCoggLqgkvcBxDv1IBW2SK7mLAQ5gF+BYT5IBQ+yf+6pgGQK+A6B+JwOSDKinAJANynw\n",
       "QoJnB1LosDUEAl09JQki8PT6A1iILmS4ux45zMpuQ0IHCgBwWkIYWdoBRwAAAABJRU5ErkJggg==\n",
       "\" style=\"display:inline;vertical-align:middle;\" /></a>, <a class=\"ProveItLink\" href=\"../__pv_it/demonstrations/bd2f502b953df5e1834a5d80011e6b2e7aa85c890/expr.ipynb\"><img src=\"data:image/png;base64,iVBORw0KGgoAAAANSUhEUgAAADMAAAAPBAMAAAC7N+rPAAAAMFBMVEX///9UVFSqqqrMzMwiIiJE\n",
       "RESYmJgyMjK6urru7u4QEBCIiIh2dnZmZmbc3NwAAABRgo0vAAAAAXRSTlMAQObYZgAAAMpJREFU\n",
       "GNNjYMAAKUvjy5cmMGAFBRMZTFMnYJUKeMPAyieAIpTq4lIAleJ9UIAsY7oToYv3QQCQwXfn9kqQ\n",
       "AGclkoGMHCADux6wfwAJMD5AklK5DnQG5zIGXpBmBlaEM165uCsAad6fDCwbQAJW5UAAdUYvK8jt\n",
       "XAEM8w1AAk+RHM/bDDJo/gEGfbAAF7K/IrNBUgoM4kwgF/BuQJIy5AWaxLqBzZEHLOKEFFA8CsJA\n",
       "F0pvfrgDLDIxYgIseIsZQusVkIOjJ8QFOXgAnyk4ZcxDaYcAAAAASUVORK5CYII=\n",
       "\" style=\"display:inline;vertical-align:middle;\" /></a>, <a class=\"ProveItLink\" href=\"../__pv_it/demonstrations/02bd6ad73acd9f4d3192ee4c61bfdcabbff20f180/expr.ipynb\"><img src=\"data:image/png;base64,iVBORw0KGgoAAAANSUhEUgAAADQAAAAPBAMAAABZ6/G2AAAAMFBMVEX///8QEBBmZmaqqqrMzMxE\n",
       "REQyMjIiIiKYmJh2dna6urrc3NxUVFSIiIju7u4AAAA6P00QAAAAAXRSTlMAQObYZgAAAMRJREFU\n",
       "GNNjYMAAHIWh3xIjGLACNr4DLBFxWKVYuScwBOxBEWotL0+ASWmzIcu43kPSpc0KZLy9s+vmBSDN\n",
       "l4ds4IE1QJEJHLXsIHN4NiBJMRcBFXI+4PzHBRJlRXKGeHkyyBwG1gCwgGMaEECdMUsB4nb+C2Bq\n",
       "K7LjtVzBLH8HMMWILMX6Aqie+cF9Bt4HQAGmC0hSLAdUGBjWG8Qz7ACLFCMFFMNkHgeGN3ffajSA\n",
       "Rd5EPYAHrwNr2Gfk4FgZDgkoKAAAelg1omM6Y4wAAAAASUVORK5CYII=\n",
       "\" style=\"display:inline;vertical-align:middle;\" /></a>, <a class=\"ProveItLink\" href=\"../__pv_it/demonstrations/0886f5b6aacf5197ba709a53d4f3243edcc3de560/expr.ipynb\"><img src=\"data:image/png;base64,iVBORw0KGgoAAAANSUhEUgAAADMAAAASBAMAAAAEf/uKAAAAMFBMVEX///8iIiKYmJhUVFTMzMxE\n",
       "REQyMjKqqqq6urp2dnYQEBDc3NxmZmaIiIju7u4AAACH5sGpAAAAAXRSTlMAQObYZgAAAN1JREFU\n",
       "GNNjYMAAikvj05YqMGAFCY8ZXFUfYJUK2MnAym2AIqQqKJgAleLZkIAs43oPoYtnQwADA9+dCwy7\n",
       "QAbz5SEZyMwBNJCTYwHDfZAA8wYkqcJjQNXbeRIYQkECrAhn7BIUKwDSD7guMPwFCXilAQHUGT2s\n",
       "YLf3P2D5AqK3IjmepyUAxDjGwLsARHMh+ytOF8QIZmAFe4/nApKUM48DkHGYoR8SYOJIAcVZYAJk\n",
       "PL57HuLsxxEPYMGbwhCaXwCxDQI6AwVRgoc5ge8H9ghgYFRgvYBDiuPuERwyAAfzPe7bmvmqAAAA\n",
       "AElFTkSuQmCC\n",
       "\" style=\"display:inline;vertical-align:middle;\" /></a>, <a class=\"ProveItLink\" href=\"../ordering/__pv_it/theorems/851392b6f273e0cbcf1bc7828c98c2cf9db6bb7a0/expr.ipynb\"><img src=\"data:image/png;base64,iVBORw0KGgoAAAANSUhEUgAAADMAAAAQBAMAAABJt1qBAAAAMFBMVEX///8QEBBmZmaqqqrMzMxE\n",
       "REQyMjIiIiKYmJh2dna6urrc3NxUVFSIiIju7u4AAAA6P00QAAAAAXRSTlMAQObYZgAAALhJREFU\n",
       "GNNjYEAFZg4MOEC7Ni6Z6/NQuG/v7Lp5Aczimw6hGfguXWDY+ICBbwJHLXsCWEC9Aaqak0uA4T6Q\n",
       "esD5j2sDSOCYAcygzUwJDKFAtQysARBTEFIPGC8w/AUx+KE2cMMNZFj/gOULiPaHeQXuDAY1Bl4B\n",
       "BgbmB/cZeB+gOT6GgfUAUK9BPMMOdC/rMKwHGv7m7luNBvSAenNXfwOuYAHahh3wJPD9wiHF3sB6\n",
       "AYcU110VIAkAWaUyBI00ZbcAAAAASUVORK5CYII=\n",
       "\" style=\"display:inline;vertical-align:middle;\" /></a> <a class=\"ProveItLink\" href=\"../__pv_it/demonstrations/88fdf966a239dc449621c832bba2c6c08e30acbe0/proof.ipynb\" style=\"text-decoration: none\">&nbsp;&#x22A2;&nbsp;&nbsp;</a><a class=\"ProveItLink\" href=\"../__pv_it/demonstrations/d347668879e9d9eee31783b8ab5fb8a008a048c70/expr.ipynb\"><img src=\"data:image/png;base64,iVBORw0KGgoAAAANSUhEUgAAANwAAAAUBAMAAAAUz05rAAAAMFBMVEX///9UVFTMzMx2dna6uroQ\n",
       "EBCqqqqIiIgiIiJmZmYyMjJERETu7u6YmJjc3NwAAAC+aOQFAAAAAXRSTlMAQObYZgAAAjdJREFU\n",
       "SMells9P02Acxh9tGRt7B9xISDT7D+AohCsJt+3AwRhJdtN44VVM5k7AQbjy4wBZgg7iQRpD8GiM\n",
       "WA6G6EzWo/FUEzVcTIwSuAzD27Xfrd92S97GJn3bPe3nefq+77dvBww60N1SblxLitf17q3fVs3N\n",
       "LnpC/EDz2fbV/ikuJ8Rza2HxXvw+ks7VbsiO/iDvtRxPydgASo6nXb04s6kaUWzLX561DhzvHUf4\n",
       "KfTijCWvfUHqkyn/eAq9OMIrXnVtbt3lcScPvy9IJg2MVErAhP9D3CJfjgfmoiLxw2ZxhL9T59Pu\n",
       "wG/mLcZzq+kakxqvxD/gq395u139HA/MDbOIRd47wlcUPYfMIR8522iaLpPmbVwA91vno6X2YHE8\n",
       "MP+ZqeEtjyN8Fsg0kfbUSct6alm73uMj6xt0pCrEX2Cs1blQXAg3LOvlHcsaBuw+6ZmHlDau7u87\n",
       "RCMfKZUhGSmVfZjnQRwGO4PJcepLwb7+hyuEq9FojGM+Wplj+UjcpdcLzERLheNkXkV/kSuEq7lu\n",
       "lDAaLIeBd8peRL/N4s7wwaFSCb0IHCfz18gO8zjCVWlnZW7ZYN6F0nv84r27gTeq3Yy+5hwn83UU\n",
       "HK4QroZHjDz69ph5H5dPdhwe93HBE/aiixjHyfy4/NzlCuG6i5g/Z0vRq70WsWq3dUbhfI39HI8L\n",
       "S0ZskeK48Of7Wk2ccaWDH0F/6/IB6oannazshdcTxB3pfV7N8kZPPMHXP/d/fx4UfgWalM0M4XCb\n",
       "PAAAAABJRU5ErkJggg==\n",
       "\" style=\"display:inline;vertical-align:middle;\" /></a></span><br>"
      ],
      "text/plain": [
       "num_rel: {b in Real, a in Real, x in Real, y in Real, x < y} |- (a + x + b) < (a + y + b)"
      ]
     },
     "execution_count": 19,
     "metadata": {},
     "output_type": "execute_result"
    }
   ],
   "source": [
    "num_rel = num_rel.right_add_both_sides(b)"
   ]
  },
  {
   "cell_type": "code",
   "execution_count": 20,
   "metadata": {},
   "outputs": [
    {
     "data": {
      "text/html": [
       "<strong id=\"num_rel\">num_rel:</strong> <span style=\"font-size:20px;\"><a class=\"ProveItLink\" href=\"../__pv_it/demonstrations/97c2cd789f92aeb5958c71e9e8648177a398980b0/expr.ipynb\"><img src=\"data:image/png;base64,iVBORw0KGgoAAAANSUhEUgAAADEAAAAPBAMAAAC/wjryAAAAMFBMVEX///+6urqYmJgQEBDu7u5m\n",
       "ZmZUVFQyMjJERESqqqoiIiLc3NzMzMyIiIh2dnYAAABqS+z4AAAAAXRSTlMAQObYZgAAALpJREFU\n",
       "GNNjYEAHWhb95RYKDNhAgRvDCQ0HbDIN+xg4uBOQRTRWrSqAyrBuKECSOHEFoYd1QwOI9fbuASDJ\n",
       "UoJkGhsjyLRdEzhAWtk2IMnMCge5YB0D2wQgxYFwweZVy0EirF8g/MPlQAB1gSgHSAtzA0RmB5Kr\n",
       "WWVAgv4PIHxmZP+06AJpfmBAgE29gCRzjBXoXNYEBleQqxlWIoUO34QcIOOdEkS1W6MDLERrGDrq\n",
       "JyAFglzXKuQwAQDAXjdf5nEJUwAAAABJRU5ErkJggg==\n",
       "\" style=\"display:inline;vertical-align:middle;\" /></a>, <a class=\"ProveItLink\" href=\"../__pv_it/demonstrations/bd2f502b953df5e1834a5d80011e6b2e7aa85c890/expr.ipynb\"><img src=\"data:image/png;base64,iVBORw0KGgoAAAANSUhEUgAAADMAAAAPBAMAAAC7N+rPAAAAMFBMVEX///9UVFSqqqrMzMwiIiJE\n",
       "RESYmJgyMjK6urru7u4QEBCIiIh2dnZmZmbc3NwAAABRgo0vAAAAAXRSTlMAQObYZgAAAMpJREFU\n",
       "GNNjYMAAKUvjy5cmMGAFBRMZTFMnYJUKeMPAyieAIpTq4lIAleJ9UIAsY7oToYv3QQCQwXfn9kqQ\n",
       "AGclkoGMHCADux6wfwAJMD5AklK5DnQG5zIGXpBmBlaEM165uCsAad6fDCwbQAJW5UAAdUYvK8jt\n",
       "XAEM8w1AAk+RHM/bDDJo/gEGfbAAF7K/IrNBUgoM4kwgF/BuQJIy5AWaxLqBzZEHLOKEFFA8CsJA\n",
       "F0pvfrgDLDIxYgIseIsZQusVkIOjJ8QFOXgAnyk4ZcxDaYcAAAAASUVORK5CYII=\n",
       "\" style=\"display:inline;vertical-align:middle;\" /></a>, <a class=\"ProveItLink\" href=\"../__pv_it/demonstrations/02bd6ad73acd9f4d3192ee4c61bfdcabbff20f180/expr.ipynb\"><img src=\"data:image/png;base64,iVBORw0KGgoAAAANSUhEUgAAADQAAAAPBAMAAABZ6/G2AAAAMFBMVEX///8QEBBmZmaqqqrMzMxE\n",
       "REQyMjIiIiKYmJh2dna6urrc3NxUVFSIiIju7u4AAAA6P00QAAAAAXRSTlMAQObYZgAAAMRJREFU\n",
       "GNNjYMAAHIWh3xIjGLACNr4DLBFxWKVYuScwBOxBEWotL0+ASWmzIcu43kPSpc0KZLy9s+vmBSDN\n",
       "l4ds4IE1QJEJHLXsIHN4NiBJMRcBFXI+4PzHBRJlRXKGeHkyyBwG1gCwgGMaEECdMUsB4nb+C2Bq\n",
       "K7LjtVzBLH8HMMWILMX6Aqie+cF9Bt4HQAGmC0hSLAdUGBjWG8Qz7ACLFCMFFMNkHgeGN3ffajSA\n",
       "Rd5EPYAHrwNr2Gfk4FgZDgkoKAAAelg1omM6Y4wAAAAASUVORK5CYII=\n",
       "\" style=\"display:inline;vertical-align:middle;\" /></a>, <a class=\"ProveItLink\" href=\"../__pv_it/demonstrations/01066498eeade39164943c7fc785297aa9d0bb160/expr.ipynb\"><img src=\"data:image/png;base64,iVBORw0KGgoAAAANSUhEUgAAADEAAAAPBAMAAAC/wjryAAAAMFBMVEX////MzMyYmJjc3NyIiIhU\n",
       "VFR2dna6urqqqqpmZmYyMjIiIiIQEBBERETu7u4AAACIO4EmAAAAAXRSTlMAQObYZgAAANJJREFU\n",
       "GNNj4LuzgQEFaJ+9v+qsAojFNQFVhmHBUwZZ3QdABn8DmswFMwZe5gAgo/4BVER39+4FUBlOAxAr\n",
       "Gyoh64fQw2lwAchY6jIDxOdbh2QaKzvQNL5fD94bAPmsBkgy3bOAVnD8Y+B3APJ5ES6w2b0L5CrO\n",
       "BQzvE4C0zCoggLqgkvcBxDv1IBW2SK7mLAQ5gF+BYT5IBQ+yf+6pgGQK+A6B+JwOSDKinAJANynw\n",
       "QoJnB1LosDUEAl09JQki8PT6A1iILmS4ux45zMpuQ0IHCgBwWkIYWdoBRwAAAABJRU5ErkJggg==\n",
       "\" style=\"display:inline;vertical-align:middle;\" /></a>, <a class=\"ProveItLink\" href=\"../__pv_it/demonstrations/0886f5b6aacf5197ba709a53d4f3243edcc3de560/expr.ipynb\"><img src=\"data:image/png;base64,iVBORw0KGgoAAAANSUhEUgAAADMAAAASBAMAAAAEf/uKAAAAMFBMVEX///8iIiKYmJhUVFTMzMxE\n",
       "REQyMjKqqqq6urp2dnYQEBDc3NxmZmaIiIju7u4AAACH5sGpAAAAAXRSTlMAQObYZgAAAN1JREFU\n",
       "GNNjYMAAikvj05YqMGAFCY8ZXFUfYJUK2MnAym2AIqQqKJgAleLZkIAs43oPoYtnQwADA9+dCwy7\n",
       "QAbz5SEZyMwBNJCTYwHDfZAA8wYkqcJjQNXbeRIYQkECrAhn7BIUKwDSD7guMPwFCXilAQHUGT2s\n",
       "YLf3P2D5AqK3IjmepyUAxDjGwLsARHMh+ytOF8QIZmAFe4/nApKUM48DkHGYoR8SYOJIAcVZYAJk\n",
       "PL57HuLsxxEPYMGbwhCaXwCxDQI6AwVRgoc5ge8H9ghgYFRgvYBDiuPuERwyAAfzPe7bmvmqAAAA\n",
       "AElFTkSuQmCC\n",
       "\" style=\"display:inline;vertical-align:middle;\" /></a>, <a class=\"ProveItLink\" href=\"../ordering/__pv_it/theorems/851392b6f273e0cbcf1bc7828c98c2cf9db6bb7a0/expr.ipynb\"><img src=\"data:image/png;base64,iVBORw0KGgoAAAANSUhEUgAAADMAAAAQBAMAAABJt1qBAAAAMFBMVEX///8QEBBmZmaqqqrMzMxE\n",
       "REQyMjIiIiKYmJh2dna6urrc3NxUVFSIiIju7u4AAAA6P00QAAAAAXRSTlMAQObYZgAAALhJREFU\n",
       "GNNjYEAFZg4MOEC7Ni6Z6/NQuG/v7Lp5Aczimw6hGfguXWDY+ICBbwJHLXsCWEC9Aaqak0uA4T6Q\n",
       "esD5j2sDSOCYAcygzUwJDKFAtQysARBTEFIPGC8w/AUx+KE2cMMNZFj/gOULiPaHeQXuDAY1Bl4B\n",
       "BgbmB/cZeB+gOT6GgfUAUK9BPMMOdC/rMKwHGv7m7luNBvSAenNXfwOuYAHahh3wJPD9wiHF3sB6\n",
       "AYcU110VIAkAWaUyBI00ZbcAAAAASUVORK5CYII=\n",
       "\" style=\"display:inline;vertical-align:middle;\" /></a>, <a class=\"ProveItLink\" href=\"../__pv_it/demonstrations/459a87fe1da4442c9b677046170601c77bfbe6fb0/expr.ipynb\"><img src=\"data:image/png;base64,iVBORw0KGgoAAAANSUhEUgAAAC8AAAAOBAMAAABN+VgMAAAAMFBMVEX///+6urqYmJgQEBDu7u5m\n",
       "ZmZUVFQyMjJERESqqqoiIiLc3NzMzMyIiIh2dnYAAABqS+z4AAAAAXRSTlMAQObYZgAAAK1JREFU\n",
       "GNNjYMAC3uodwCbMwD6BZTWaEGcNiFRmYHiOKs60dAOIamNgmO+ALM67DsL9xsAgPwFk1V2IVX5r\n",
       "IfIsX4ESFxgYdk3gKADxXRdBNXL/Y2A4D5RYx8AG0sdWCTORG6jj/AMG1i8QrhtcAmoUcwOUvxVm\n",
       "FMjy+RMY/B/A+DDLGToYGPQdGPgVGBgmoDoX4kHWBAbXA6ge5JrAYgOk3ildQAsSlrfXDjAAAP+0\n",
       "L0hrHcsJAAAAAElFTkSuQmCC\n",
       "\" style=\"display:inline;vertical-align:middle;\" /></a> <a class=\"ProveItLink\" href=\"../__pv_it/demonstrations/cab62657174117db3ac30de278d71e0a36f593290/proof.ipynb\" style=\"text-decoration: none\">&nbsp;&#x22A2;&nbsp;&nbsp;</a><a class=\"ProveItLink\" href=\"../__pv_it/demonstrations/c47317df154e8eda28779937835aef991fb34cf10/expr.ipynb\"><img src=\"data:image/png;base64,iVBORw0KGgoAAAANSUhEUgAAASwAAAAUBAMAAADFDR0yAAAAMFBMVEX///9UVFTMzMx2dna6uroQ\n",
       "EBCqqqqIiIgiIiJmZmYyMjJERETu7u6YmJjc3NwAAAC+aOQFAAAAAXRSTlMAQObYZgAAAq5JREFU\n",
       "SMetls9rE0EUx7910/xoNm1uBUHJf9CCB9G74C05eBBRyE1vXa0QcmpL0eJN7UEISBPxYFctehQx\n",
       "ThEpNUJyFoQVVHoRREsFieJMZjY7b7a7XWIHvkve291Pvvv2zc4Akz2QYcYxI+1JmeMwkB3jRCfZ\n",
       "/Z3z/HBc6QDEKMgN4+RGwuda53qndABiBGThNj1F48vhe/3UHpflSAH20yiEGaed0Itzwsis0Rs0\n",
       "jraV6gszFSk+3qxEIMw42paO3DGu2UEyW9aiOD5U4iOzzPZFmHG0LR1ZFz9P1kr+NSKeXL13kdra\n",
       "uvp53iGpiel6FTgFqcG7usUCRDRSmbDrDr4wYktHvhKPU803fYaIz3gT34kHe7awkm2SVPeJ/Rf4\n",
       "ACmJb3lDRDRSmbBSFSzQaunIm/y4jDFu0x6c47F9Cbln9I0xq5/ySGqO4RdwBVKqOVpMIRQSLIxU\n",
       "Jr7mmnhJbenIc0CuL80OHk/GWXHlade94botUS3kJTRINWD/BGYgpWw9ZgFiUOXfBtJy3UcXXLfI\n",
       "DY87woSWIUh+z7j8y2xRMXjcLRktP+UYLb+O1J5hy3+JARJLYaRfmzI78oNmdCSvcHdWmxYynjNn\n",
       "4kzJsPVnUJGzkCItH4/0TTSQqdCMjuT9OMWXrKrWn90qjqqlTnlIswVkGLG1i7c90vLBByIe6Zt4\n",
       "jnyR2tKRfD7mitgeFoPHeaewZBEP5eprfKPVOoYX/LiqRD6n8UjfxB2UezSjI0XNTnwMPnE8tqev\n",
       "fbpOPGzWtu73qK3teZF4oEQWn3ikb2KztubRjI4cdfGRM21RKg4Rvfg09vvuK2T8uvo+bEtPBUt1\n",
       "NMKMbdmCY017l2Yosm1A20g+IjY2SZDZXt6JQ464Zxv+X3u0bWCqdjcW+R873IIndYibZoX8B4RZ\n",
       "GRt2N2eqAAAAAElFTkSuQmCC\n",
       "\" style=\"display:inline;vertical-align:middle;\" /></a></span><br>"
      ],
      "text/plain": [
       "num_rel: {c in Real, a in Real, x in Real, b in Real, y in Real, x < y, c < 0} |- (c * (a + x + b)) > (c * (a + y + b))"
      ]
     },
     "execution_count": 20,
     "metadata": {},
     "output_type": "execute_result"
    }
   ],
   "source": [
    "num_rel = num_rel.left_mult_both_sides(c)"
   ]
  },
  {
   "cell_type": "code",
   "execution_count": 21,
   "metadata": {},
   "outputs": [],
   "source": [
    "# After implementing NumberRelations for Greater and GreaterEq (or, better yet,\n",
    "# Issue #180 which makes 'greater' as a style variant of Less, etc.), this should work\n",
    "#num_rel.mult_left(d)"
   ]
  },
  {
   "cell_type": "code",
   "execution_count": 22,
   "metadata": {},
   "outputs": [
    {
     "data": {
      "text/html": [
       "<span style=\"font-size:20px;\"><a class=\"ProveItLink\" href=\"../__pv_it/demonstrations/087ba5bcf4a7ff8c3c07e473fc61d308725f608c0/expr.ipynb\"><img src=\"data:image/png;base64,iVBORw0KGgoAAAANSUhEUgAAADMAAAAPBAMAAAC7N+rPAAAAMFBMVEX///9UVFSYmJiIiIjc3Nwy\n",
       "MjIiIiJ2dnbu7u66urqqqqpmZmYQEBBERETMzMwAAAAYOWz6AAAAAXRSTlMAQObYZgAAANxJREFU\n",
       "GNNjYGBg4LuzgQEJqJ29H3pWAcrhX4AsxRDQyPBWtwHCnt+AInXBnYGXRQDCLoNQumlpAVApbocA\n",
       "iFg0mHxrgdDF7XAByGDZbvcLJMARgWQgIyfIwDkOvD9AAowOSFLLtgKt5zjEwA02lxfhDJ+0VJCb\n",
       "uX8wsBWABN6EAgHUGbN5QW7mucDQPwEk4IvkeO55IFf0FzCsBwvwIPvrhjJIagGDKBfIBdwGSFIP\n",
       "uR8AbTdgSmQHi2QhBRT7AjmgC4XtHC3BIo03G2DBG8dwNx4lXKdfSwtA4gIAGoI8rx+lZVQAAAAA\n",
       "SUVORK5CYII=\n",
       "\" style=\"display:inline;vertical-align:middle;\" /></a>, <a class=\"ProveItLink\" href=\"../__pv_it/demonstrations/02bd6ad73acd9f4d3192ee4c61bfdcabbff20f180/expr.ipynb\"><img src=\"data:image/png;base64,iVBORw0KGgoAAAANSUhEUgAAADQAAAAPBAMAAABZ6/G2AAAAMFBMVEX///8QEBBmZmaqqqrMzMxE\n",
       "REQyMjIiIiKYmJh2dna6urrc3NxUVFSIiIju7u4AAAA6P00QAAAAAXRSTlMAQObYZgAAAMRJREFU\n",
       "GNNjYMAAHIWh3xIjGLACNr4DLBFxWKVYuScwBOxBEWotL0+ASWmzIcu43kPSpc0KZLy9s+vmBSDN\n",
       "l4ds4IE1QJEJHLXsIHN4NiBJMRcBFXI+4PzHBRJlRXKGeHkyyBwG1gCwgGMaEECdMUsB4nb+C2Bq\n",
       "K7LjtVzBLH8HMMWILMX6Aqie+cF9Bt4HQAGmC0hSLAdUGBjWG8Qz7ACLFCMFFMNkHgeGN3ffajSA\n",
       "Rd5EPYAHrwNr2Gfk4FgZDgkoKAAAelg1omM6Y4wAAAAASUVORK5CYII=\n",
       "\" style=\"display:inline;vertical-align:middle;\" /></a>, <a class=\"ProveItLink\" href=\"../__pv_it/demonstrations/0886f5b6aacf5197ba709a53d4f3243edcc3de560/expr.ipynb\"><img src=\"data:image/png;base64,iVBORw0KGgoAAAANSUhEUgAAADMAAAASBAMAAAAEf/uKAAAAMFBMVEX///8iIiKYmJhUVFTMzMxE\n",
       "REQyMjKqqqq6urp2dnYQEBDc3NxmZmaIiIju7u4AAACH5sGpAAAAAXRSTlMAQObYZgAAAN1JREFU\n",
       "GNNjYMAAikvj05YqMGAFCY8ZXFUfYJUK2MnAym2AIqQqKJgAleLZkIAs43oPoYtnQwADA9+dCwy7\n",
       "QAbz5SEZyMwBNJCTYwHDfZAA8wYkqcJjQNXbeRIYQkECrAhn7BIUKwDSD7guMPwFCXilAQHUGT2s\n",
       "YLf3P2D5AqK3IjmepyUAxDjGwLsARHMh+ytOF8QIZmAFe4/nApKUM48DkHGYoR8SYOJIAcVZYAJk\n",
       "PL57HuLsxxEPYMGbwhCaXwCxDQI6AwVRgoc5ge8H9ghgYFRgvYBDiuPuERwyAAfzPe7bmvmqAAAA\n",
       "AElFTkSuQmCC\n",
       "\" style=\"display:inline;vertical-align:middle;\" /></a>, <a class=\"ProveItLink\" href=\"../ordering/__pv_it/theorems/851392b6f273e0cbcf1bc7828c98c2cf9db6bb7a0/expr.ipynb\"><img src=\"data:image/png;base64,iVBORw0KGgoAAAANSUhEUgAAADMAAAAQBAMAAABJt1qBAAAAMFBMVEX///8QEBBmZmaqqqrMzMxE\n",
       "REQyMjIiIiKYmJh2dna6urrc3NxUVFSIiIju7u4AAAA6P00QAAAAAXRSTlMAQObYZgAAALhJREFU\n",
       "GNNjYEAFZg4MOEC7Ni6Z6/NQuG/v7Lp5Aczimw6hGfguXWDY+ICBbwJHLXsCWEC9Aaqak0uA4T6Q\n",
       "esD5j2sDSOCYAcygzUwJDKFAtQysARBTEFIPGC8w/AUx+KE2cMMNZFj/gOULiPaHeQXuDAY1Bl4B\n",
       "BgbmB/cZeB+gOT6GgfUAUK9BPMMOdC/rMKwHGv7m7luNBvSAenNXfwOuYAHahh3wJPD9wiHF3sB6\n",
       "AYcU110VIAkAWaUyBI00ZbcAAAAASUVORK5CYII=\n",
       "\" style=\"display:inline;vertical-align:middle;\" /></a>, <a class=\"ProveItLink\" href=\"../__pv_it/demonstrations/c2de060df214d3356d2061700c511c8e20b2bba70/expr.ipynb\"><img src=\"data:image/png;base64,iVBORw0KGgoAAAANSUhEUgAAADEAAAARBAMAAACGHlkZAAAAMFBMVEX///9UVFSYmJiIiIjc3Nwy\n",
       "MjIiIiJ2dnbu7u66urqqqqpmZmYQEBBERETMzMwAAAAYOWz6AAAAAXRSTlMAQObYZgAAAN1JREFU\n",
       "GNNjYGBg4LuzgQEVFKs/gDD4F8CEmPNAJOsCjhQIf34DVKI9GUzpMDCUQgTKoBLeSRD6IgPDeoji\n",
       "aIiAYxRUxUegMUALWLbb/QLz30ZCJTh+A2UMGBjmOPD+APF578GcwfKdgeG9AQPHIQbuALCzkmHu\n",
       "YAHqeV/AwP2Dga0ALMCU3oBiGs8Fhv4JEBGuaAe4C9YvYOgvYFgPs4AzEOL1uwwM+g0M/QsYRLmg\n",
       "ahn47k5A+JTXgCmRHR5gLHIgkm0BxzmgdcJ2jpZoAcpRbPiAgTLQmgYCeXA+AE3LNVpHH1WIAAAA\n",
       "AElFTkSuQmCC\n",
       "\" style=\"display:inline;vertical-align:middle;\" /></a> <a class=\"ProveItLink\" href=\"../__pv_it/demonstrations/ab3d86f2a7c931c8515442e22bf13caa72c6e13e0/proof.ipynb\" style=\"text-decoration: none\">&nbsp;&#x22A2;&nbsp;&nbsp;</a><a class=\"ProveItLink\" href=\"../__pv_it/demonstrations/160561088dbd712c7edfa5fc89a43aedfd66a4270/expr.ipynb\"><img src=\"data:image/png;base64,iVBORw0KGgoAAAANSUhEUgAAAIIAAAAUBAMAAACzEviQAAAAMFBMVEX///9UVFTMzMx2dna6uroQ\n",
       "EBCqqqqIiIgiIiJmZmYyMjJERETu7u6YmJjc3NwAAAC+aOQFAAAAAXRSTlMAQObYZgAAAjtJREFU\n",
       "OMuNVE1IVFEU/nTGcWbenefQZmAWg3uhmd0oCLkRpUW5CEL6YZYRUQ8pbMCFJkQEiuCikKAhQmgT\n",
       "BkmLqCZCEl2MyzFIxp0ugqFiAlHxnHvfu6933wgeePecd+655+e751zA3kKY7rbR/WqjizVo2WSp\n",
       "c3UhsNPRCBmLFV77xoPaHH1vpdRTCppXJFt/4auSymkr6GEDSKngl6vBnaJit3Nasy3X6GHQLuIg\n",
       "rlz3GzmvufziOU8zr05MG7WNYU9JbwwPySFX6HuvuK2OJhcMw9co8+7ihC5PTOZGqISIttxdlqyb\n",
       "FfvFvMbr+zPY14EBfKKf4Yaly/uGuvOU4KnoKPsyf4suPXoTXzRehWF0N4EfeExhbyDBBwRvDOJC\n",
       "9RJdtF9vXaYTp+BrW1himb3YpSVYdMG3cAVIHCJeIGWtInc/ygZpeg4eDkrWRcC8rGKWIx3IcFfR\n",
       "4wB59tC1ghoDF09L23//exD9DrSHaxB/WZ5x7zXfyx6oiloB93xwO3/LfVWF/dzreapC/EFMp8aF\n",
       "PyA2ykjWSsjGvDa+Q/BMeUjaWQ09ISla6KjoibHSeAdGcoBkJzUTcfXRltXkWUswMNgc8puP8PyA\n",
       "erqgc0hHj4gtUhYQmYnd+147ZKbKP7lzeo3O4bK+Tp7PaJ8iUz4m9srrapPWQ5r5kIZbQEx7k2VS\n",
       "MaTZNv6z8gJpsvC5nQN3ujeeMD1SyBnJzhEscrrVC2OSddoL49NImaHi+G1fuZ0zvnKpBk4ANleK\n",
       "amIjKyAAAAAASUVORK5CYII=\n",
       "\" style=\"display:inline;vertical-align:middle;\" /></a></span>"
      ],
      "text/plain": [
       "{d in Real, x in Real, y in Real, x < y, d <= 0} |- (d * x) >= (d * y)"
      ]
     },
     "execution_count": 22,
     "metadata": {},
     "output_type": "execute_result"
    }
   ],
   "source": [
    "num_rel = Less(x, y).prove()\n",
    "num_rel.left_mult_both_sides(d)"
   ]
  },
  {
   "cell_type": "code",
   "execution_count": 23,
   "metadata": {},
   "outputs": [
    {
     "data": {
      "text/html": [
       "<span style=\"font-size:20px;\"><a class=\"ProveItLink\" href=\"../__pv_it/demonstrations/97c2cd789f92aeb5958c71e9e8648177a398980b0/expr.ipynb\"><img src=\"data:image/png;base64,iVBORw0KGgoAAAANSUhEUgAAADEAAAAPBAMAAAC/wjryAAAAMFBMVEX///+6urqYmJgQEBDu7u5m\n",
       "ZmZUVFQyMjJERESqqqoiIiLc3NzMzMyIiIh2dnYAAABqS+z4AAAAAXRSTlMAQObYZgAAALpJREFU\n",
       "GNNjYEAHWhb95RYKDNhAgRvDCQ0HbDIN+xg4uBOQRTRWrSqAyrBuKECSOHEFoYd1QwOI9fbuASDJ\n",
       "UoJkGhsjyLRdEzhAWtk2IMnMCge5YB0D2wQgxYFwweZVy0EirF8g/MPlQAB1gSgHSAtzA0RmB5Kr\n",
       "WWVAgv4PIHxmZP+06AJpfmBAgE29gCRzjBXoXNYEBleQqxlWIoUO34QcIOOdEkS1W6MDLERrGDrq\n",
       "JyAFglzXKuQwAQDAXjdf5nEJUwAAAABJRU5ErkJggg==\n",
       "\" style=\"display:inline;vertical-align:middle;\" /></a>, <a class=\"ProveItLink\" href=\"../__pv_it/demonstrations/02bd6ad73acd9f4d3192ee4c61bfdcabbff20f180/expr.ipynb\"><img src=\"data:image/png;base64,iVBORw0KGgoAAAANSUhEUgAAADQAAAAPBAMAAABZ6/G2AAAAMFBMVEX///8QEBBmZmaqqqrMzMxE\n",
       "REQyMjIiIiKYmJh2dna6urrc3NxUVFSIiIju7u4AAAA6P00QAAAAAXRSTlMAQObYZgAAAMRJREFU\n",
       "GNNjYMAAHIWh3xIjGLACNr4DLBFxWKVYuScwBOxBEWotL0+ASWmzIcu43kPSpc0KZLy9s+vmBSDN\n",
       "l4ds4IE1QJEJHLXsIHN4NiBJMRcBFXI+4PzHBRJlRXKGeHkyyBwG1gCwgGMaEECdMUsB4nb+C2Bq\n",
       "K7LjtVzBLH8HMMWILMX6Aqie+cF9Bt4HQAGmC0hSLAdUGBjWG8Qz7ACLFCMFFMNkHgeGN3ffajSA\n",
       "Rd5EPYAHrwNr2Gfk4FgZDgkoKAAAelg1omM6Y4wAAAAASUVORK5CYII=\n",
       "\" style=\"display:inline;vertical-align:middle;\" /></a>, <a class=\"ProveItLink\" href=\"../__pv_it/demonstrations/0886f5b6aacf5197ba709a53d4f3243edcc3de560/expr.ipynb\"><img src=\"data:image/png;base64,iVBORw0KGgoAAAANSUhEUgAAADMAAAASBAMAAAAEf/uKAAAAMFBMVEX///8iIiKYmJhUVFTMzMxE\n",
       "REQyMjKqqqq6urp2dnYQEBDc3NxmZmaIiIju7u4AAACH5sGpAAAAAXRSTlMAQObYZgAAAN1JREFU\n",
       "GNNjYMAAikvj05YqMGAFCY8ZXFUfYJUK2MnAym2AIqQqKJgAleLZkIAs43oPoYtnQwADA9+dCwy7\n",
       "QAbz5SEZyMwBNJCTYwHDfZAA8wYkqcJjQNXbeRIYQkECrAhn7BIUKwDSD7guMPwFCXilAQHUGT2s\n",
       "YLf3P2D5AqK3IjmepyUAxDjGwLsARHMh+ytOF8QIZmAFe4/nApKUM48DkHGYoR8SYOJIAcVZYAJk\n",
       "PL57HuLsxxEPYMGbwhCaXwCxDQI6AwVRgoc5ge8H9ghgYFRgvYBDiuPuERwyAAfzPe7bmvmqAAAA\n",
       "AElFTkSuQmCC\n",
       "\" style=\"display:inline;vertical-align:middle;\" /></a>, <a class=\"ProveItLink\" href=\"../ordering/__pv_it/theorems/851392b6f273e0cbcf1bc7828c98c2cf9db6bb7a0/expr.ipynb\"><img src=\"data:image/png;base64,iVBORw0KGgoAAAANSUhEUgAAADMAAAAQBAMAAABJt1qBAAAAMFBMVEX///8QEBBmZmaqqqrMzMxE\n",
       "REQyMjIiIiKYmJh2dna6urrc3NxUVFSIiIju7u4AAAA6P00QAAAAAXRSTlMAQObYZgAAALhJREFU\n",
       "GNNjYEAFZg4MOEC7Ni6Z6/NQuG/v7Lp5Aczimw6hGfguXWDY+ICBbwJHLXsCWEC9Aaqak0uA4T6Q\n",
       "esD5j2sDSOCYAcygzUwJDKFAtQysARBTEFIPGC8w/AUx+KE2cMMNZFj/gOULiPaHeQXuDAY1Bl4B\n",
       "BgbmB/cZeB+gOT6GgfUAUK9BPMMOdC/rMKwHGv7m7luNBvSAenNXfwOuYAHahh3wJPD9wiHF3sB6\n",
       "AYcU110VIAkAWaUyBI00ZbcAAAAASUVORK5CYII=\n",
       "\" style=\"display:inline;vertical-align:middle;\" /></a>, <a class=\"ProveItLink\" href=\"../__pv_it/demonstrations/459a87fe1da4442c9b677046170601c77bfbe6fb0/expr.ipynb\"><img src=\"data:image/png;base64,iVBORw0KGgoAAAANSUhEUgAAAC8AAAAOBAMAAABN+VgMAAAAMFBMVEX///+6urqYmJgQEBDu7u5m\n",
       "ZmZUVFQyMjJERESqqqoiIiLc3NzMzMyIiIh2dnYAAABqS+z4AAAAAXRSTlMAQObYZgAAAK1JREFU\n",
       "GNNjYMAC3uodwCbMwD6BZTWaEGcNiFRmYHiOKs60dAOIamNgmO+ALM67DsL9xsAgPwFk1V2IVX5r\n",
       "IfIsX4ESFxgYdk3gKADxXRdBNXL/Y2A4D5RYx8AG0sdWCTORG6jj/AMG1i8QrhtcAmoUcwOUvxVm\n",
       "FMjy+RMY/B/A+DDLGToYGPQdGPgVGBgmoDoX4kHWBAbXA6ge5JrAYgOk3ildQAsSlrfXDjAAAP+0\n",
       "L0hrHcsJAAAAAElFTkSuQmCC\n",
       "\" style=\"display:inline;vertical-align:middle;\" /></a> <a class=\"ProveItLink\" href=\"../__pv_it/demonstrations/8905ab99f9b1c4ff9b028aa5b8d77ffcefadf8e00/proof.ipynb\" style=\"text-decoration: none\">&nbsp;&#x22A2;&nbsp;&nbsp;</a><a class=\"ProveItLink\" href=\"../__pv_it/demonstrations/669a56d5adbda6195541f711f7bd510c2aa3fc5a0/expr.ipynb\"><img src=\"data:image/png;base64,iVBORw0KGgoAAAANSUhEUgAAAH8AAAAUBAMAAABWoP+5AAAAMFBMVEX////MzMxUVFR2dna6uroQ\n",
       "EBCqqqqIiIgiIiJmZmYyMjJERETu7u6YmJjc3NwAAACgK8IjAAAAAXRSTlMAQObYZgAAAdJJREFU\n",
       "OMuNlL9Lw0AUx782tU1Navsf2MlRCg7SQXB0awc3l4xOEnUInVoUKm7+2ApiLG6iFEfFGhTx16Cb\n",
       "ICgdVFwERUEQBd9dmosmV+lB7sL3fe7du3f3Dui9QqjFmmFNxk2y7gKSNhCWZFyELbQtc3AelmSc\n",
       "bgPJRZkDxeT2LV+Rc0OA2pQZ9AIfjuaFIueOgSdI24Y7xOecliDnekZQpOFk+n7G9MO3poCcF/lC\n",
       "ywNxetHEg+OHb6WhLGKfDNnkvGqL46pgF7gRJ1pzYydOiRZQEvOfDM1G0kaFDI7yFWWYzjebRT8w\n",
       "IcBojS9K3GPCxh7758IcIgZiZYyxeVqds5csjDVu7vMdbHKBOKfbxAdb55O6xBdTu16YAUi5GVAz\n",
       "1I3jjwNvC4zLO12v7H+Wvu56y0GF42n/AN/4MBpMIuOqiBc87jLLwyuz5MScEuIiu98kiCT6x0gc\n",
       "dqBlPCxFpWGwJNJ55Y0DPIsQlqEvASvBi5TjpryoqEQGZ2kksizWQ+tk1S81Zfia+vXgVWZ7OrTW\n",
       "/Ps4eEuJ60m3u8rloOJy1YB6+n8x/W7ERWz9PVxMaHRYzg2oV5oZLmf5g9KQPShRaymgac02T1Wy\n",
       "wyftDvgB0Hd7Rg8YJokAAAAASUVORK5CYII=\n",
       "\" style=\"display:inline;vertical-align:middle;\" /></a></span>"
      ],
      "text/plain": [
       "{c in Real, x in Real, y in Real, x < y, c < 0} |- (x * c) > (y * c)"
      ]
     },
     "execution_count": 23,
     "metadata": {},
     "output_type": "execute_result"
    }
   ],
   "source": [
    "num_rel = Less(x, y).prove()\n",
    "num_rel.right_mult_both_sides(c)"
   ]
  },
  {
   "cell_type": "code",
   "execution_count": 24,
   "metadata": {},
   "outputs": [
    {
     "data": {
      "text/html": [
       "<span style=\"font-size:20px;\"><a class=\"ProveItLink\" href=\"../__pv_it/demonstrations/087ba5bcf4a7ff8c3c07e473fc61d308725f608c0/expr.ipynb\"><img src=\"data:image/png;base64,iVBORw0KGgoAAAANSUhEUgAAADMAAAAPBAMAAAC7N+rPAAAAMFBMVEX///9UVFSYmJiIiIjc3Nwy\n",
       "MjIiIiJ2dnbu7u66urqqqqpmZmYQEBBERETMzMwAAAAYOWz6AAAAAXRSTlMAQObYZgAAANxJREFU\n",
       "GNNjYGBg4LuzgQEJqJ29H3pWAcrhX4AsxRDQyPBWtwHCnt+AInXBnYGXRQDCLoNQumlpAVApbocA\n",
       "iFg0mHxrgdDF7XAByGDZbvcLJMARgWQgIyfIwDkOvD9AAowOSFLLtgKt5zjEwA02lxfhDJ+0VJCb\n",
       "uX8wsBWABN6EAgHUGbN5QW7mucDQPwEk4IvkeO55IFf0FzCsBwvwIPvrhjJIagGDKBfIBdwGSFIP\n",
       "uR8AbTdgSmQHi2QhBRT7AjmgC4XtHC3BIo03G2DBG8dwNx4lXKdfSwtA4gIAGoI8rx+lZVQAAAAA\n",
       "SUVORK5CYII=\n",
       "\" style=\"display:inline;vertical-align:middle;\" /></a>, <a class=\"ProveItLink\" href=\"../__pv_it/demonstrations/02bd6ad73acd9f4d3192ee4c61bfdcabbff20f180/expr.ipynb\"><img src=\"data:image/png;base64,iVBORw0KGgoAAAANSUhEUgAAADQAAAAPBAMAAABZ6/G2AAAAMFBMVEX///8QEBBmZmaqqqrMzMxE\n",
       "REQyMjIiIiKYmJh2dna6urrc3NxUVFSIiIju7u4AAAA6P00QAAAAAXRSTlMAQObYZgAAAMRJREFU\n",
       "GNNjYMAAHIWh3xIjGLACNr4DLBFxWKVYuScwBOxBEWotL0+ASWmzIcu43kPSpc0KZLy9s+vmBSDN\n",
       "l4ds4IE1QJEJHLXsIHN4NiBJMRcBFXI+4PzHBRJlRXKGeHkyyBwG1gCwgGMaEECdMUsB4nb+C2Bq\n",
       "K7LjtVzBLH8HMMWILMX6Aqie+cF9Bt4HQAGmC0hSLAdUGBjWG8Qz7ACLFCMFFMNkHgeGN3ffajSA\n",
       "Rd5EPYAHrwNr2Gfk4FgZDgkoKAAAelg1omM6Y4wAAAAASUVORK5CYII=\n",
       "\" style=\"display:inline;vertical-align:middle;\" /></a>, <a class=\"ProveItLink\" href=\"../__pv_it/demonstrations/0886f5b6aacf5197ba709a53d4f3243edcc3de560/expr.ipynb\"><img src=\"data:image/png;base64,iVBORw0KGgoAAAANSUhEUgAAADMAAAASBAMAAAAEf/uKAAAAMFBMVEX///8iIiKYmJhUVFTMzMxE\n",
       "REQyMjKqqqq6urp2dnYQEBDc3NxmZmaIiIju7u4AAACH5sGpAAAAAXRSTlMAQObYZgAAAN1JREFU\n",
       "GNNjYMAAikvj05YqMGAFCY8ZXFUfYJUK2MnAym2AIqQqKJgAleLZkIAs43oPoYtnQwADA9+dCwy7\n",
       "QAbz5SEZyMwBNJCTYwHDfZAA8wYkqcJjQNXbeRIYQkECrAhn7BIUKwDSD7guMPwFCXilAQHUGT2s\n",
       "YLf3P2D5AqK3IjmepyUAxDjGwLsARHMh+ytOF8QIZmAFe4/nApKUM48DkHGYoR8SYOJIAcVZYAJk\n",
       "PL57HuLsxxEPYMGbwhCaXwCxDQI6AwVRgoc5ge8H9ghgYFRgvYBDiuPuERwyAAfzPe7bmvmqAAAA\n",
       "AElFTkSuQmCC\n",
       "\" style=\"display:inline;vertical-align:middle;\" /></a>, <a class=\"ProveItLink\" href=\"../ordering/__pv_it/theorems/851392b6f273e0cbcf1bc7828c98c2cf9db6bb7a0/expr.ipynb\"><img src=\"data:image/png;base64,iVBORw0KGgoAAAANSUhEUgAAADMAAAAQBAMAAABJt1qBAAAAMFBMVEX///8QEBBmZmaqqqrMzMxE\n",
       "REQyMjIiIiKYmJh2dna6urrc3NxUVFSIiIju7u4AAAA6P00QAAAAAXRSTlMAQObYZgAAALhJREFU\n",
       "GNNjYEAFZg4MOEC7Ni6Z6/NQuG/v7Lp5Aczimw6hGfguXWDY+ICBbwJHLXsCWEC9Aaqak0uA4T6Q\n",
       "esD5j2sDSOCYAcygzUwJDKFAtQysARBTEFIPGC8w/AUx+KE2cMMNZFj/gOULiPaHeQXuDAY1Bl4B\n",
       "BgbmB/cZeB+gOT6GgfUAUK9BPMMOdC/rMKwHGv7m7luNBvSAenNXfwOuYAHahh3wJPD9wiHF3sB6\n",
       "AYcU110VIAkAWaUyBI00ZbcAAAAASUVORK5CYII=\n",
       "\" style=\"display:inline;vertical-align:middle;\" /></a>, <a class=\"ProveItLink\" href=\"../__pv_it/demonstrations/c2de060df214d3356d2061700c511c8e20b2bba70/expr.ipynb\"><img src=\"data:image/png;base64,iVBORw0KGgoAAAANSUhEUgAAADEAAAARBAMAAACGHlkZAAAAMFBMVEX///9UVFSYmJiIiIjc3Nwy\n",
       "MjIiIiJ2dnbu7u66urqqqqpmZmYQEBBERETMzMwAAAAYOWz6AAAAAXRSTlMAQObYZgAAAN1JREFU\n",
       "GNNjYGBg4LuzgQEVFKs/gDD4F8CEmPNAJOsCjhQIf34DVKI9GUzpMDCUQgTKoBLeSRD6IgPDeoji\n",
       "aIiAYxRUxUegMUALWLbb/QLz30ZCJTh+A2UMGBjmOPD+APF578GcwfKdgeG9AQPHIQbuALCzkmHu\n",
       "YAHqeV/AwP2Dga0ALMCU3oBiGs8Fhv4JEBGuaAe4C9YvYOgvYFgPs4AzEOL1uwwM+g0M/QsYRLmg\n",
       "ahn47k5A+JTXgCmRHR5gLHIgkm0BxzmgdcJ2jpZoAcpRbPiAgTLQmgYCeXA+AE3LNVpHH1WIAAAA\n",
       "AElFTkSuQmCC\n",
       "\" style=\"display:inline;vertical-align:middle;\" /></a> <a class=\"ProveItLink\" href=\"../__pv_it/demonstrations/5af500e00c6dbb7319ece9ede8918f8eafd8b7000/proof.ipynb\" style=\"text-decoration: none\">&nbsp;&#x22A2;&nbsp;&nbsp;</a><a class=\"ProveItLink\" href=\"../__pv_it/demonstrations/2aca3f9920905aa1d5f2a4078aafce7882927ce50/expr.ipynb\"><img src=\"data:image/png;base64,iVBORw0KGgoAAAANSUhEUgAAAIIAAAAUBAMAAACzEviQAAAAMFBMVEX////MzMxUVFR2dna6uroQ\n",
       "EBCqqqqIiIgiIiJmZmYyMjJERETu7u6YmJjc3NwAAACgK8IjAAAAAXRSTlMAQObYZgAAAi9JREFU\n",
       "OMuNVD1IHEEU/vQu9+PurfYB76yEK2S7U7C4RgxptAiEkChbioWeSUSvymnApIkIFgmiZANBSBMk\n",
       "JFipiyAnZ3GWmiIskiIpAgHDFXJK3pu9nSU3U2SKfbPfvHk/33tvAOsU6prRYL80WMKnz4kCd3xZ\n",
       "6/QV1NxRoNsPMEDio2q52zFdsTnejMAu1SgaqAGZNfVgzEMh2E0PSPBc1Ys3ESshpTE9CBy1tnf7\n",
       "QnBV1YtVYI7jh4afDxRzMcz1cyCtiqrXRfG/R5l21cffn5RC2Fqfa5B5mdzFthBJAqqvYT2S938W\n",
       "sg4whD1i2c68SLnhwYhvNIkeN9IU8RtUdHsEyd+ShEkceMBXrJA/L9aMMx0eF20CabqdiII+E+Gk\n",
       "HFjOBgyuqcnA0Sk2SEzhHgMCh3lFn3QTKZt6QvpaHBbiVpH07qObs61zgG89PCeRZQsIcGCZNXdQ\n",
       "L0YWzMEWQWSBq5ft4Xhy9HkI84+wsMLHAg9W3cYsZxlkYb0Je56y4PTmZYteIsFe7jCTCe8Zkl5o\n",
       "wUGeuj1g0so74Q1m0sjhk7TQQKc7w0wOUQs6B9HYGKXMcozc2fxzUoy6h/hM5+LXEtjFWY6U1ikK\n",
       "HC5Ut+SAmv1zF0+pWXraO7jCZ+UbCRwu9PaTg3faruaZUhDRFWm3fWIr2smiVVAQmqy8KNO/o0Gl\n",
       "2tcZaE137SWvpYAgH68o+bZV074wgbrmhRktt7Mj/GtfuW//+cplfPwFcNOLt017PWoAAAAASUVO\n",
       "RK5CYII=\n",
       "\" style=\"display:inline;vertical-align:middle;\" /></a></span>"
      ],
      "text/plain": [
       "{d in Real, x in Real, y in Real, x < y, d <= 0} |- (x * d) >= (y * d)"
      ]
     },
     "execution_count": 24,
     "metadata": {},
     "output_type": "execute_result"
    }
   ],
   "source": [
    "num_rel = Less(x, y).prove()\n",
    "num_rel.right_mult_both_sides(d)"
   ]
  },
  {
   "cell_type": "code",
   "execution_count": 25,
   "metadata": {},
   "outputs": [
    {
     "data": {
      "text/html": [
       "<span style=\"font-size:20px;\"><a class=\"ProveItLink\" href=\"../__pv_it/demonstrations/bd2f502b953df5e1834a5d80011e6b2e7aa85c890/expr.ipynb\"><img src=\"data:image/png;base64,iVBORw0KGgoAAAANSUhEUgAAADMAAAAPBAMAAAC7N+rPAAAAMFBMVEX///9UVFSqqqrMzMwiIiJE\n",
       "RESYmJgyMjK6urru7u4QEBCIiIh2dnZmZmbc3NwAAABRgo0vAAAAAXRSTlMAQObYZgAAAMpJREFU\n",
       "GNNjYMAAKUvjy5cmMGAFBRMZTFMnYJUKeMPAyieAIpTq4lIAleJ9UIAsY7oToYv3QQCQwXfn9kqQ\n",
       "AGclkoGMHCADux6wfwAJMD5AklK5DnQG5zIGXpBmBlaEM165uCsAad6fDCwbQAJW5UAAdUYvK8jt\n",
       "XAEM8w1AAk+RHM/bDDJo/gEGfbAAF7K/IrNBUgoM4kwgF/BuQJIy5AWaxLqBzZEHLOKEFFA8CsJA\n",
       "F0pvfrgDLDIxYgIseIsZQusVkIOjJ8QFOXgAnyk4ZcxDaYcAAAAASUVORK5CYII=\n",
       "\" style=\"display:inline;vertical-align:middle;\" /></a>, <a class=\"ProveItLink\" href=\"../__pv_it/demonstrations/02bd6ad73acd9f4d3192ee4c61bfdcabbff20f180/expr.ipynb\"><img src=\"data:image/png;base64,iVBORw0KGgoAAAANSUhEUgAAADQAAAAPBAMAAABZ6/G2AAAAMFBMVEX///8QEBBmZmaqqqrMzMxE\n",
       "REQyMjIiIiKYmJh2dna6urrc3NxUVFSIiIju7u4AAAA6P00QAAAAAXRSTlMAQObYZgAAAMRJREFU\n",
       "GNNjYMAAHIWh3xIjGLACNr4DLBFxWKVYuScwBOxBEWotL0+ASWmzIcu43kPSpc0KZLy9s+vmBSDN\n",
       "l4ds4IE1QJEJHLXsIHN4NiBJMRcBFXI+4PzHBRJlRXKGeHkyyBwG1gCwgGMaEECdMUsB4nb+C2Bq\n",
       "K7LjtVzBLH8HMMWILMX6Aqie+cF9Bt4HQAGmC0hSLAdUGBjWG8Qz7ACLFCMFFMNkHgeGN3ffajSA\n",
       "Rd5EPYAHrwNr2Gfk4FgZDgkoKAAAelg1omM6Y4wAAAAASUVORK5CYII=\n",
       "\" style=\"display:inline;vertical-align:middle;\" /></a>, <a class=\"ProveItLink\" href=\"../__pv_it/demonstrations/0886f5b6aacf5197ba709a53d4f3243edcc3de560/expr.ipynb\"><img src=\"data:image/png;base64,iVBORw0KGgoAAAANSUhEUgAAADMAAAASBAMAAAAEf/uKAAAAMFBMVEX///8iIiKYmJhUVFTMzMxE\n",
       "REQyMjKqqqq6urp2dnYQEBDc3NxmZmaIiIju7u4AAACH5sGpAAAAAXRSTlMAQObYZgAAAN1JREFU\n",
       "GNNjYMAAikvj05YqMGAFCY8ZXFUfYJUK2MnAym2AIqQqKJgAleLZkIAs43oPoYtnQwADA9+dCwy7\n",
       "QAbz5SEZyMwBNJCTYwHDfZAA8wYkqcJjQNXbeRIYQkECrAhn7BIUKwDSD7guMPwFCXilAQHUGT2s\n",
       "YLf3P2D5AqK3IjmepyUAxDjGwLsARHMh+ytOF8QIZmAFe4/nApKUM48DkHGYoR8SYOJIAcVZYAJk\n",
       "PL57HuLsxxEPYMGbwhCaXwCxDQI6AwVRgoc5ge8H9ghgYFRgvYBDiuPuERwyAAfzPe7bmvmqAAAA\n",
       "AElFTkSuQmCC\n",
       "\" style=\"display:inline;vertical-align:middle;\" /></a>, <a class=\"ProveItLink\" href=\"../ordering/__pv_it/theorems/851392b6f273e0cbcf1bc7828c98c2cf9db6bb7a0/expr.ipynb\"><img src=\"data:image/png;base64,iVBORw0KGgoAAAANSUhEUgAAADMAAAAQBAMAAABJt1qBAAAAMFBMVEX///8QEBBmZmaqqqrMzMxE\n",
       "REQyMjIiIiKYmJh2dna6urrc3NxUVFSIiIju7u4AAAA6P00QAAAAAXRSTlMAQObYZgAAALhJREFU\n",
       "GNNjYEAFZg4MOEC7Ni6Z6/NQuG/v7Lp5Aczimw6hGfguXWDY+ICBbwJHLXsCWEC9Aaqak0uA4T6Q\n",
       "esD5j2sDSOCYAcygzUwJDKFAtQysARBTEFIPGC8w/AUx+KE2cMMNZFj/gOULiPaHeQXuDAY1Bl4B\n",
       "BgbmB/cZeB+gOT6GgfUAUK9BPMMOdC/rMKwHGv7m7luNBvSAenNXfwOuYAHahh3wJPD9wiHF3sB6\n",
       "AYcU110VIAkAWaUyBI00ZbcAAAAASUVORK5CYII=\n",
       "\" style=\"display:inline;vertical-align:middle;\" /></a>, <a class=\"ProveItLink\" href=\"../__pv_it/demonstrations/a1220a607abb739d8de56a18bab7cc7a5fb534510/expr.ipynb\"><img src=\"data:image/png;base64,iVBORw0KGgoAAAANSUhEUgAAADEAAAAOBAMAAAB0nulXAAAAMFBMVEX///9UVFSqqqrMzMwiIiJE\n",
       "RESYmJgyMjK6urru7u4QEBCIiIh2dnZmZmbc3NwAAABRgo0vAAAAAXRSTlMAQObYZgAAALRJREFU\n",
       "GNNjYMAGTucYYBVnYFfg9EPiTk+AM7MYGI4jyXAe2QBjBjIw6E9ANmTLSSjjIwNDvwIDA9+d2yuh\n",
       "Iik3Ibr/AmWABnQ9YP8A06UuByL5/jAw2G9g4FzGwBsAN7BdEiQD1GN/gIH3JwPLBoRMJMI0rgCG\n",
       "+QaopoFcoK/AMP8Agz4DqgsYQhkY8icwzFdgEGd6gOpqiE9ZN7A58qD5lEWBczFQQHrzwx1oocN5\n",
       "eqMBAwAAVzCAYDQnkwAAAABJRU5ErkJggg==\n",
       "\" style=\"display:inline;vertical-align:middle;\" /></a> <a class=\"ProveItLink\" href=\"../__pv_it/demonstrations/eb98ecf896f06ccd3746cc3e7e4d3fd2b56156ba0/proof.ipynb\" style=\"text-decoration: none\">&nbsp;&#x22A2;&nbsp;&nbsp;</a><a class=\"ProveItLink\" href=\"../division/__pv_it/theorems/09ba75311f1a197d17052fcd7ee4ec2f990316fd0/expr.ipynb\"><img src=\"data:image/png;base64,iVBORw0KGgoAAAANSUhEUgAAADgAAAAlBAMAAADl4DdoAAAAMFBMVEX///8QEBBmZmaqqqrMzMxE\n",
       "REQyMjIiIiKYmJh2dna6urrc3NxUVFSIiIju7u4AAAA6P00QAAAAAXRSTlMAQObYZgAAARhJREFU\n",
       "OMtjYHh7Z9fNCwzo4K0uA7ccA98Ejlr2BAzJCQsZeD8wcD7g/Me1AV2O20CNgTWAgQ9EYAA+BlkG\n",
       "fpBl/Jg2MjBw/WPwdwDSYAIdMCUwXGRgYH5wn4H3AYYk6wGGGAaG9QbxDDuw6DzA9YOB4c3dtxoN\n",
       "WFx09tJvBtyAKQGn1DGG9wswRc0gbq9giMWUa9eG0GsvYXrw+jycFvFNv4BbTr0Bt+OPGaCL/AcD\n",
       "sEYkSbDgB5RIxGcsXgfh9wpSIGAHZg4Mgxlwa+rK4RRduIHtA6YkRJRPgoEJMz9ARZn+MbBjhihU\n",
       "lDGA4T1moEBF309gsMe0Eir63oDhGDNG/oSKsl7gqOHEzEcQUb6zV/bcwpJVQKIAUEBblvP34icA\n",
       "AAAASUVORK5CYII=\n",
       "\" style=\"display:inline;vertical-align:middle;\" /></a></span>"
      ],
      "text/plain": [
       "{a in Real, x in Real, y in Real, x < y, a > 0} |- (x / a) < (y / a)"
      ]
     },
     "execution_count": 25,
     "metadata": {},
     "output_type": "execute_result"
    }
   ],
   "source": [
    "num_rel = Less(x, y).prove()\n",
    "num_rel.divide_both_sides(a)"
   ]
  },
  {
   "cell_type": "code",
   "execution_count": 26,
   "metadata": {},
   "outputs": [
    {
     "name": "stdout",
     "output_type": "stream",
     "text": [
      "Expected error:  Cannot 'divide' a Less relation without knowing whether the divisor is greater than or less than zero.\n"
     ]
    }
   ],
   "source": [
    "try:\n",
    "    num_rel = Less(x, y).prove()\n",
    "    num_rel.divide_both_sides(b)\n",
    "    assert False, \"Expected Exception\"\n",
    "except Exception as e:\n",
    "    print(\"Expected error: \", e)"
   ]
  },
  {
   "cell_type": "code",
   "execution_count": 27,
   "metadata": {},
   "outputs": [],
   "source": [
    "# Need some work on LesserSequences to get this to work.\n",
    "#num_rel.square()"
   ]
  },
  {
   "cell_type": "code",
   "execution_count": 28,
   "metadata": {},
   "outputs": [
    {
     "data": {
      "text/html": [
       "<strong id=\"defaults.assumptions\">defaults.assumptions:</strong> <a class=\"ProveItLink\" href=\"../__pv_it/demonstrations/5f8a6065d25e0a0bf576d78e8846adbb6b14ca170/expr.ipynb\"><img src=\"data:image/png;base64,iVBORw0KGgoAAAANSUhEUgAAAsMAAAAUCAMAAABf9sDOAAAAOVBMVEX///8kJCQNDQ0oKChUVFTM\n",
       "zMx2dna6uroQEBCqqqqIiIgiIiJmZmYyMjJERETu7u6YmJjc3NwAAABfYoQ1AAAAAXRSTlMAQObY\n",
       "ZgAABXBJREFUaN7tm9t24ygQRZkZAQJx1f9/7ICQbUEVGLAd5yE8dFb3yvapCxQFuAkhxDvyN/7G\n",
       "Dwxm38wKn35a0/chbluN2bVeTTnnrVm3SXReNA1qVvUB2a/CKWXSMToU5Ao3q9cT4EFFr+ctzdn7\n",
       "WNIk1r73czSxS/TKmXJNaDWNkhfJXXxE9qtwwINXdvP1INtN2U5uVq8eYLnRGcWFz1uasZcwHFPb\n",
       "qW5HDfEs/VhGJlIbJa+RfLcfkf0p2GqsUrv1qFS6FWShF9/F1YbQtIMDAbZsk1OK3sxaWrB5NQ9/\n",
       "NJaCM1sYusyL8kQ/8bMk6+i86OnD9h7ZceU3OZxPiRt9THyRhRWuVq4X+pyrtjvK93As72C82tyk\n",
       "YmbsAAfYLHxhLfhqk0WNtGhtCb6bpp+QrKPzomCDfUF2Rvk9DqetuTyw7EuataIe5FPY8Gdcj2SD\n",
       "yzoYv2jx3NKeUtrPNctwsI8Tqe4LjCm52ssmZyv740J4sT/qRUolGmQdDZuBlHRGNFos6T4la6Vc\n",
       "PJdMTrhrpYqYf8RqyOEyzreieP0Xu6uUYVkNMjqrUK4IMVb6K1wR4LBidNmVVkggGSNCn3IwLSib\n",
       "JYApcjs48zXsLHoHJz6YF7GpImd2D/9gd18nq6jfQoiMnhBNFpvHZjQga1mcNpJcNv9+ZRaUYyXb\n",
       "yYQyjDPW3fqdHXPmmuEiyNnu7htcGWJii26gxoEAGwM3dJzMJJk+xn//xj9Vi4NpQdk8AU6TTZxt\n",
       "RfRLmWsSsLyssesri0Hqau7mGNKPbkexEhOip8W6ZXANjvsoC0ZzP+6uF0nUmBllGOdrd2vvGVYp\n",
       "w6wa5KyGkwZXhhh0AzUOBFhuoGPCyVISllKcQ9KCsEUCxEbWtDuoI0KXLYau+jay2sJD6S49OT7S\n",
       "3szByBqq8p5+SDRZzFpsDbb5HBxSDn9bZTabxh1GTnFxDt9/Gdtp8yDjjS3K5SG22BxGd/YywMdy\n",
       "KRv3Bll07stzDqYFY4sE0P02h1dzfDBtdtHH/qg4NVjbf2/PvSHd6Gqetu410dNi3mz7azCoaCPK\n",
       "xwUBfcRq2OFrnPGbsv08tYtakCuNLcKtBvYe4DoP4UCATzOV7yPLePjnigTfaACbJSDM4dRLpPUt\n",
       "rm3aWuvxjHWFzu6yxbeSXhSUlX5RaHG/bHKdTiqniijXGWUkztiZ7qxG7lrPiiDjkxFysHJj13mI\n",
       "Xs3U4kKvSpKsp/3n3KuWBoekBWezBPDtPNPZYz0s+v4AHX5RVvISKrvK8x/XauqeamQN3RMkxkWh\n",
       "xQOywqYTwaW/G3D3uNo0l/2tXxmJM3q3hrwAFEFGrrkqXBFiVBLhcFPBhR72VoFIgsdgjEPSgrJZ\n",
       "AsKZjqUDgZGxGCzksoI2EKL0fkqYOK6cw0H5dkwINhvVImuoWo6DMp0QhRZ3y8Yd2ezFl536laPR\n",
       "fG+zNRhajb5xHJ9o1ytZBNka9PEVciDE2BsHwmFT4rF+aIuEklx1WIqmBWOzBCgWS3Fq9aWkfpH8\n",
       "2v0bnq3V9D0WGvcBHRfpttnbbY1kjtTJBsqYy3bbAVFgcbdsRK1UzpFpZZVdcvU7DKzG35rDzJYy\n",
       "TZQ7WQS59upXciDEl96WtjhkSnQqQknkAh3xEEsLxmYJiE403po5M/kDahkEO0u+gIrG6+QLsoPK\n",
       "Sr9TuTlmyZ/mGqRQ84oV9pYAG2vwwHd+ysHIF9AXRN8DhxYRHNd/o8Ps96RG23lFyGYJSG96xk+a\n",
       "bOW0t/PoC6JvguNlgJHfdtjq7THoGxWr3LyiYPOxQdhrAtJ3L7u/Aw8PwfPzwX2BfBfMQzNGf7/D\n",
       "7vek5kkZdmNlOEvArQD//V+kv/HRwT/GujiF/weGX3RCGUdj3AAAAABJRU5ErkJggg==\n",
       "\" style=\"display:inline;vertical-align:middle;\" /></a><br>"
      ],
      "text/plain": [
       "defaults.assumptions: (a in Real, b in Real, c in Real, d in Real, x in Real, y in Real, a > 0, b >= 0, c < 0, d <= 0, c != 0, x != y)"
      ]
     },
     "execution_count": 28,
     "metadata": {},
     "output_type": "execute_result"
    }
   ],
   "source": [
    "defaults.assumptions = (*basic_assumptions, NotEquals(x, y))"
   ]
  },
  {
   "cell_type": "code",
   "execution_count": 29,
   "metadata": {},
   "outputs": [
    {
     "data": {
      "text/html": [
       "<strong id=\"num_rel\">num_rel:</strong> <span style=\"font-size:20px;\"><a class=\"ProveItLink\" href=\"../../logic/equality/__pv_it/theorems/2740ee762f4cb09dc1cca5f0ea489cc6a83ece200/expr.ipynb\"><img src=\"data:image/png;base64,iVBORw0KGgoAAAANSUhEUgAAADMAAAAUCAMAAAAX1vWWAAAAOVBMVEX///8QEBAkJCQNDQ0oKChm\n",
       "ZmaqqqrMzMxEREQyMjIiIiKYmJh2dna6urrc3NxUVFSIiIju7u4AAACrOLOkAAAAAXRSTlMAQObY\n",
       "ZgAAANNJREFUOMutU9kOwyAMM9u4Wo7A/3/sSK+N0iIxLQ+AglPbIQW64RJGI9jhEkQ/TmN+oNH/\n",
       "pElEMXhydL4wuoZJRgRRWpkcME+E6eiRs0u8nrzKIwsvykZ5ewKXE3zo0gQFyV81LDjth1PoWDsA\n",
       "BGvLu4VMbY058/oiBjpv7Mfhy89DrK4+bIs0Yk9QafVF9WjZ0BDHffFZwZSaMNdCZCNWRkYzLEWi\n",
       "0vq5LoFtB5qRMofbd1byOi87g35BEws85ftBV67NTUW9oSEa+OKmN+f9X+0NZpkIQHTqGcUAAAAA\n",
       "SUVORK5CYII=\n",
       "\" style=\"display:inline;vertical-align:middle;\" /></a> <a class=\"ProveItLink\" href=\"../__pv_it/demonstrations/36fed3b871a4244452639d655a93a6baea9d672d0/proof.ipynb\" style=\"text-decoration: none\">&nbsp;&#x22A2;&nbsp;&nbsp;</a><a class=\"ProveItLink\" href=\"../../logic/equality/__pv_it/theorems/2740ee762f4cb09dc1cca5f0ea489cc6a83ece200/expr.ipynb\"><img src=\"data:image/png;base64,iVBORw0KGgoAAAANSUhEUgAAADMAAAAUCAMAAAAX1vWWAAAAOVBMVEX///8QEBAkJCQNDQ0oKChm\n",
       "ZmaqqqrMzMxEREQyMjIiIiKYmJh2dna6urrc3NxUVFSIiIju7u4AAACrOLOkAAAAAXRSTlMAQObY\n",
       "ZgAAANNJREFUOMutU9kOwyAMM9u4Wo7A/3/sSK+N0iIxLQ+AglPbIQW64RJGI9jhEkQ/TmN+oNH/\n",
       "pElEMXhydL4wuoZJRgRRWpkcME+E6eiRs0u8nrzKIwsvykZ5ewKXE3zo0gQFyV81LDjth1PoWDsA\n",
       "BGvLu4VMbY058/oiBjpv7Mfhy89DrK4+bIs0Yk9QafVF9WjZ0BDHffFZwZSaMNdCZCNWRkYzLEWi\n",
       "0vq5LoFtB5qRMofbd1byOi87g35BEws85ftBV67NTUW9oSEa+OKmN+f9X+0NZpkIQHTqGcUAAAAA\n",
       "SUVORK5CYII=\n",
       "\" style=\"display:inline;vertical-align:middle;\" /></a></span><br>"
      ],
      "text/plain": [
       "num_rel: {x != y} |- x != y"
      ]
     },
     "execution_count": 29,
     "metadata": {},
     "output_type": "execute_result"
    }
   ],
   "source": [
    "num_rel = NotEquals(x, y).prove()"
   ]
  },
  {
   "cell_type": "code",
   "execution_count": 30,
   "metadata": {},
   "outputs": [
    {
     "name": "stdout",
     "output_type": "stream",
     "text": [
      "Help on function transform_both_sides in module proveit.relation.relation:\n",
      "\n",
      "transform_both_sides(*args, **kwargs)\n",
      "    Divide both sides of the NotEquals relation by the 'divisor'.\n",
      "    The new relation will be simplified by default, unless\n",
      "    'simplify=False' is given as a keyword argument.\n",
      "\n"
     ]
    }
   ],
   "source": [
    "help(num_rel.divide_both_sides)"
   ]
  },
  {
   "cell_type": "code",
   "execution_count": 31,
   "metadata": {},
   "outputs": [
    {
     "data": {
      "text/html": [
       "<span style=\"font-size:20px;\"><a class=\"ProveItLink\" href=\"../__pv_it/demonstrations/97c2cd789f92aeb5958c71e9e8648177a398980b0/expr.ipynb\"><img src=\"data:image/png;base64,iVBORw0KGgoAAAANSUhEUgAAADEAAAAPBAMAAAC/wjryAAAAMFBMVEX///+6urqYmJgQEBDu7u5m\n",
       "ZmZUVFQyMjJERESqqqoiIiLc3NzMzMyIiIh2dnYAAABqS+z4AAAAAXRSTlMAQObYZgAAALpJREFU\n",
       "GNNjYEAHWhb95RYKDNhAgRvDCQ0HbDIN+xg4uBOQRTRWrSqAyrBuKECSOHEFoYd1QwOI9fbuASDJ\n",
       "UoJkGhsjyLRdEzhAWtk2IMnMCge5YB0D2wQgxYFwweZVy0EirF8g/MPlQAB1gSgHSAtzA0RmB5Kr\n",
       "WWVAgv4PIHxmZP+06AJpfmBAgE29gCRzjBXoXNYEBleQqxlWIoUO34QcIOOdEkS1W6MDLERrGDrq\n",
       "JyAFglzXKuQwAQDAXjdf5nEJUwAAAABJRU5ErkJggg==\n",
       "\" style=\"display:inline;vertical-align:middle;\" /></a>, <a class=\"ProveItLink\" href=\"../__pv_it/demonstrations/02bd6ad73acd9f4d3192ee4c61bfdcabbff20f180/expr.ipynb\"><img src=\"data:image/png;base64,iVBORw0KGgoAAAANSUhEUgAAADQAAAAPBAMAAABZ6/G2AAAAMFBMVEX///8QEBBmZmaqqqrMzMxE\n",
       "REQyMjIiIiKYmJh2dna6urrc3NxUVFSIiIju7u4AAAA6P00QAAAAAXRSTlMAQObYZgAAAMRJREFU\n",
       "GNNjYMAAHIWh3xIjGLACNr4DLBFxWKVYuScwBOxBEWotL0+ASWmzIcu43kPSpc0KZLy9s+vmBSDN\n",
       "l4ds4IE1QJEJHLXsIHN4NiBJMRcBFXI+4PzHBRJlRXKGeHkyyBwG1gCwgGMaEECdMUsB4nb+C2Bq\n",
       "K7LjtVzBLH8HMMWILMX6Aqie+cF9Bt4HQAGmC0hSLAdUGBjWG8Qz7ACLFCMFFMNkHgeGN3ffajSA\n",
       "Rd5EPYAHrwNr2Gfk4FgZDgkoKAAAelg1omM6Y4wAAAAASUVORK5CYII=\n",
       "\" style=\"display:inline;vertical-align:middle;\" /></a>, <a class=\"ProveItLink\" href=\"../__pv_it/demonstrations/0886f5b6aacf5197ba709a53d4f3243edcc3de560/expr.ipynb\"><img src=\"data:image/png;base64,iVBORw0KGgoAAAANSUhEUgAAADMAAAASBAMAAAAEf/uKAAAAMFBMVEX///8iIiKYmJhUVFTMzMxE\n",
       "REQyMjKqqqq6urp2dnYQEBDc3NxmZmaIiIju7u4AAACH5sGpAAAAAXRSTlMAQObYZgAAAN1JREFU\n",
       "GNNjYMAAikvj05YqMGAFCY8ZXFUfYJUK2MnAym2AIqQqKJgAleLZkIAs43oPoYtnQwADA9+dCwy7\n",
       "QAbz5SEZyMwBNJCTYwHDfZAA8wYkqcJjQNXbeRIYQkECrAhn7BIUKwDSD7guMPwFCXilAQHUGT2s\n",
       "YLf3P2D5AqK3IjmepyUAxDjGwLsARHMh+ytOF8QIZmAFe4/nApKUM48DkHGYoR8SYOJIAcVZYAJk\n",
       "PL57HuLsxxEPYMGbwhCaXwCxDQI6AwVRgoc5ge8H9ghgYFRgvYBDiuPuERwyAAfzPe7bmvmqAAAA\n",
       "AElFTkSuQmCC\n",
       "\" style=\"display:inline;vertical-align:middle;\" /></a>, <a class=\"ProveItLink\" href=\"../../logic/equality/__pv_it/theorems/2740ee762f4cb09dc1cca5f0ea489cc6a83ece200/expr.ipynb\"><img src=\"data:image/png;base64,iVBORw0KGgoAAAANSUhEUgAAADMAAAAUCAMAAAAX1vWWAAAAOVBMVEX///8QEBAkJCQNDQ0oKChm\n",
       "ZmaqqqrMzMxEREQyMjIiIiKYmJh2dna6urrc3NxUVFSIiIju7u4AAACrOLOkAAAAAXRSTlMAQObY\n",
       "ZgAAANNJREFUOMutU9kOwyAMM9u4Wo7A/3/sSK+N0iIxLQ+AglPbIQW64RJGI9jhEkQ/TmN+oNH/\n",
       "pElEMXhydL4wuoZJRgRRWpkcME+E6eiRs0u8nrzKIwsvykZ5ewKXE3zo0gQFyV81LDjth1PoWDsA\n",
       "BGvLu4VMbY058/oiBjpv7Mfhy89DrK4+bIs0Yk9QafVF9WjZ0BDHffFZwZSaMNdCZCNWRkYzLEWi\n",
       "0vq5LoFtB5qRMofbd1byOi87g35BEws85ftBV67NTUW9oSEa+OKmN+f9X+0NZpkIQHTqGcUAAAAA\n",
       "SUVORK5CYII=\n",
       "\" style=\"display:inline;vertical-align:middle;\" /></a>, <a class=\"ProveItLink\" href=\"../__pv_it/demonstrations/6153190b4c58255ca4f69a4d07d43e6c8dcc19340/expr.ipynb\"><img src=\"data:image/png;base64,iVBORw0KGgoAAAANSUhEUgAAAC8AAAAUCAMAAAAqRJTwAAAAOVBMVEX///8kJCQNDQ0oKCi6urqY\n",
       "mJgQEBDu7u5mZmZUVFQyMjJERESqqqoiIiLc3NzMzMyIiIh2dnYAAACLQYzIAAAAAXRSTlMAQObY\n",
       "ZgAAAMpJREFUKM+1UksWwyAItK0KimmE+x+2YpI+zcfXLMrCBB0GBjDm2hjMHXvHLjg7nof4YBsn\n",
       "JmNgeo/oqXGcrzniiL7NTkHPJPAbvZGKt5JWLTnvtVB7AYILPivTVKJoK41jtddTT9ySCetnrvhJ\n",
       "/0Ma0Bc8LvgCxTMRc+jcth5PJ2pp12lZ+5NKKPdLoHU//KLim4UqqdNSxNWbrv64H2QzL1QSwFaf\n",
       "xUOB2kPwFcTsXO4e47EDUGYULvYt4a09PqMfWeK/0hs7evwA0nQHsYFPOOgAAAAASUVORK5CYII=\n",
       "\" style=\"display:inline;vertical-align:middle;\" /></a> <a class=\"ProveItLink\" href=\"../__pv_it/demonstrations/126890b16b15b4b50c882febd8a7f620abaad8060/proof.ipynb\" style=\"text-decoration: none\">&nbsp;&#x22A2;&nbsp;&nbsp;</a><a class=\"ProveItLink\" href=\"../__pv_it/demonstrations/2b6fa00eee6f3638629be85ff0c6d1a7a5a491110/expr.ipynb\"><img src=\"data:image/png;base64,iVBORw0KGgoAAAANSUhEUgAAADgAAAAlCAMAAAAgENppAAAAOVBMVEX///8kJCQNDQ0oKCgQEBBm\n",
       "ZmaqqqrMzMxEREQyMjIiIiKYmJh2dna6urrc3NxUVFSIiIju7u4AAADbNS0gAAAAAXRSTlMAQObY\n",
       "ZgAAARlJREFUSMe9VeHOgyAM7PYBAlJo+/4P+1GNi5hsVrOsP7DEO9vjBACAiVpFKgTnweQVVh33\n",
       "vADMmSAnA7EAuv4g0byTizBgPefVAF6/H6NW3xJLpwBOW5VNlhAYA3tvMMm0zl7JeSydkuqEwKtW\n",
       "Ygsxtm1ACRA7sc62ik0piuVG1N2Z3/HK2IjCvVgMSG90nkXDcdo5LGgoeDA4d0XR4l07+IRdocW6\n",
       "GuFexOkioaQl/p46+i8XlF0cXk3tA/hjwXq5x0Xjw61K21V2qvesQH/Tw8T3eOHnBcuPCwIaDSci\n",
       "60bYYWsO/f9KJtqAzboQLZiIe6wX+0IMWHfhfNhjWeyWjVhZD3GTxgGr1wGw6dQ7YEuZZ+sF+cL+\n",
       "AzgeDQ6k7KvfAAAAAElFTkSuQmCC\n",
       "\" style=\"display:inline;vertical-align:middle;\" /></a></span>"
      ],
      "text/plain": [
       "{c in Real, x in Real, y in Real, x != y, c != 0} |- (x / c) != (y / c)"
      ]
     },
     "execution_count": 31,
     "metadata": {},
     "output_type": "execute_result"
    }
   ],
   "source": [
    "num_rel.divide_both_sides(c)"
   ]
  },
  {
   "cell_type": "code",
   "execution_count": 32,
   "metadata": {},
   "outputs": [
    {
     "data": {
      "text/html": [
       "<span style=\"font-size:20px;\"><a class=\"ProveItLink\" href=\"../__pv_it/demonstrations/97c2cd789f92aeb5958c71e9e8648177a398980b0/expr.ipynb\"><img src=\"data:image/png;base64,iVBORw0KGgoAAAANSUhEUgAAADEAAAAPBAMAAAC/wjryAAAAMFBMVEX///+6urqYmJgQEBDu7u5m\n",
       "ZmZUVFQyMjJERESqqqoiIiLc3NzMzMyIiIh2dnYAAABqS+z4AAAAAXRSTlMAQObYZgAAALpJREFU\n",
       "GNNjYEAHWhb95RYKDNhAgRvDCQ0HbDIN+xg4uBOQRTRWrSqAyrBuKECSOHEFoYd1QwOI9fbuASDJ\n",
       "UoJkGhsjyLRdEzhAWtk2IMnMCge5YB0D2wQgxYFwweZVy0EirF8g/MPlQAB1gSgHSAtzA0RmB5Kr\n",
       "WWVAgv4PIHxmZP+06AJpfmBAgE29gCRzjBXoXNYEBleQqxlWIoUO34QcIOOdEkS1W6MDLERrGDrq\n",
       "JyAFglzXKuQwAQDAXjdf5nEJUwAAAABJRU5ErkJggg==\n",
       "\" style=\"display:inline;vertical-align:middle;\" /></a>, <a class=\"ProveItLink\" href=\"../__pv_it/demonstrations/02bd6ad73acd9f4d3192ee4c61bfdcabbff20f180/expr.ipynb\"><img src=\"data:image/png;base64,iVBORw0KGgoAAAANSUhEUgAAADQAAAAPBAMAAABZ6/G2AAAAMFBMVEX///8QEBBmZmaqqqrMzMxE\n",
       "REQyMjIiIiKYmJh2dna6urrc3NxUVFSIiIju7u4AAAA6P00QAAAAAXRSTlMAQObYZgAAAMRJREFU\n",
       "GNNjYMAAHIWh3xIjGLACNr4DLBFxWKVYuScwBOxBEWotL0+ASWmzIcu43kPSpc0KZLy9s+vmBSDN\n",
       "l4ds4IE1QJEJHLXsIHN4NiBJMRcBFXI+4PzHBRJlRXKGeHkyyBwG1gCwgGMaEECdMUsB4nb+C2Bq\n",
       "K7LjtVzBLH8HMMWILMX6Aqie+cF9Bt4HQAGmC0hSLAdUGBjWG8Qz7ACLFCMFFMNkHgeGN3ffajSA\n",
       "Rd5EPYAHrwNr2Gfk4FgZDgkoKAAAelg1omM6Y4wAAAAASUVORK5CYII=\n",
       "\" style=\"display:inline;vertical-align:middle;\" /></a>, <a class=\"ProveItLink\" href=\"../__pv_it/demonstrations/0886f5b6aacf5197ba709a53d4f3243edcc3de560/expr.ipynb\"><img src=\"data:image/png;base64,iVBORw0KGgoAAAANSUhEUgAAADMAAAASBAMAAAAEf/uKAAAAMFBMVEX///8iIiKYmJhUVFTMzMxE\n",
       "REQyMjKqqqq6urp2dnYQEBDc3NxmZmaIiIju7u4AAACH5sGpAAAAAXRSTlMAQObYZgAAAN1JREFU\n",
       "GNNjYMAAikvj05YqMGAFCY8ZXFUfYJUK2MnAym2AIqQqKJgAleLZkIAs43oPoYtnQwADA9+dCwy7\n",
       "QAbz5SEZyMwBNJCTYwHDfZAA8wYkqcJjQNXbeRIYQkECrAhn7BIUKwDSD7guMPwFCXilAQHUGT2s\n",
       "YLf3P2D5AqK3IjmepyUAxDjGwLsARHMh+ytOF8QIZmAFe4/nApKUM48DkHGYoR8SYOJIAcVZYAJk\n",
       "PL57HuLsxxEPYMGbwhCaXwCxDQI6AwVRgoc5ge8H9ghgYFRgvYBDiuPuERwyAAfzPe7bmvmqAAAA\n",
       "AElFTkSuQmCC\n",
       "\" style=\"display:inline;vertical-align:middle;\" /></a>, <a class=\"ProveItLink\" href=\"../../logic/equality/__pv_it/theorems/2740ee762f4cb09dc1cca5f0ea489cc6a83ece200/expr.ipynb\"><img src=\"data:image/png;base64,iVBORw0KGgoAAAANSUhEUgAAADMAAAAUCAMAAAAX1vWWAAAAOVBMVEX///8QEBAkJCQNDQ0oKChm\n",
       "ZmaqqqrMzMxEREQyMjIiIiKYmJh2dna6urrc3NxUVFSIiIju7u4AAACrOLOkAAAAAXRSTlMAQObY\n",
       "ZgAAANNJREFUOMutU9kOwyAMM9u4Wo7A/3/sSK+N0iIxLQ+AglPbIQW64RJGI9jhEkQ/TmN+oNH/\n",
       "pElEMXhydL4wuoZJRgRRWpkcME+E6eiRs0u8nrzKIwsvykZ5ewKXE3zo0gQFyV81LDjth1PoWDsA\n",
       "BGvLu4VMbY058/oiBjpv7Mfhy89DrK4+bIs0Yk9QafVF9WjZ0BDHffFZwZSaMNdCZCNWRkYzLEWi\n",
       "0vq5LoFtB5qRMofbd1byOi87g35BEws85ftBV67NTUW9oSEa+OKmN+f9X+0NZpkIQHTqGcUAAAAA\n",
       "SUVORK5CYII=\n",
       "\" style=\"display:inline;vertical-align:middle;\" /></a>, <a class=\"ProveItLink\" href=\"../__pv_it/demonstrations/6153190b4c58255ca4f69a4d07d43e6c8dcc19340/expr.ipynb\"><img src=\"data:image/png;base64,iVBORw0KGgoAAAANSUhEUgAAAC8AAAAUCAMAAAAqRJTwAAAAOVBMVEX///8kJCQNDQ0oKCi6urqY\n",
       "mJgQEBDu7u5mZmZUVFQyMjJERESqqqoiIiLc3NzMzMyIiIh2dnYAAACLQYzIAAAAAXRSTlMAQObY\n",
       "ZgAAAMpJREFUKM+1UksWwyAItK0KimmE+x+2YpI+zcfXLMrCBB0GBjDm2hjMHXvHLjg7nof4YBsn\n",
       "JmNgeo/oqXGcrzniiL7NTkHPJPAbvZGKt5JWLTnvtVB7AYILPivTVKJoK41jtddTT9ySCetnrvhJ\n",
       "/0Ma0Bc8LvgCxTMRc+jcth5PJ2pp12lZ+5NKKPdLoHU//KLim4UqqdNSxNWbrv64H2QzL1QSwFaf\n",
       "xUOB2kPwFcTsXO4e47EDUGYULvYt4a09PqMfWeK/0hs7evwA0nQHsYFPOOgAAAAASUVORK5CYII=\n",
       "\" style=\"display:inline;vertical-align:middle;\" /></a> <a class=\"ProveItLink\" href=\"../__pv_it/demonstrations/57203c62f18f16668da9aa5e81d07ffa5166db910/proof.ipynb\" style=\"text-decoration: none\">&nbsp;&#x22A2;&nbsp;&nbsp;</a><a class=\"ProveItLink\" href=\"../__pv_it/demonstrations/4a93e3c9af6c674ea54d4826d3e67675ae0f3c410/expr.ipynb\"><img src=\"data:image/png;base64,iVBORw0KGgoAAAANSUhEUgAAAH8AAAAUCAMAAACTUBK4AAAAOVBMVEX///8kJCQNDQ0oKChUVFTM\n",
       "zMx2dna6uroQEBCqqqqIiIgiIiJmZmYyMjJERETu7u6YmJjc3NwAAABfYoQ1AAAAAXRSTlMAQObY\n",
       "ZgAAAZ9JREFUSMellll2hSAMQGmLDGEIZP+LrYhUQRR85UMPCDdzkDHGYmBTQ8ebDwKr6SSv4NCz\n",
       "ycH7CkRXTad5O87FWfno+hxZTad5GRcsmx4CeubX9r7gbTgT5+Wj6pm/VNMXvISLhr0YTo7Mf8Vb\n",
       "cWAPbwAsVx0BeJSwe15cnevrMwMegk2kqHDH+VD01ivrkmAo1ogaYCZ/CccG4bbx852eh1oDnmAy\n",
       "xRCo4NK2LWwihVIXsefSFoRM5qhqMzB/wIua2aST9wWnckQtnXsIkjsd9EeEF2rEL7xZeOatiyr5\n",
       "n6Dg9v2qziJzxhLcy/exL/+WJ5NiCy0Fl/2FJG6TtGzeTps6/l8qZwFv/H/P29wP6g+35wvll740\n",
       "acy5Atjm302vG/CY5+WRcXtF2bSCtq0XSZp5Oq4UW5slr+X4zMsfJB244lEhQrh2V+QAa8mGcqO5\n",
       "GujwcuKZl4mW4oF71X/r8tO9Vj/Bs+6E+8f90zF/xOMuJac84/yn96/u5/gjz6yR9FDh5v8/GnLX\n",
       "/AFPrtFfGtzs/1doDJM3+yZ5G+4XJbITVcIJORUAAAAASUVORK5CYII=\n",
       "\" style=\"display:inline;vertical-align:middle;\" /></a></span>"
      ],
      "text/plain": [
       "{c in Real, x in Real, y in Real, x != y, c != 0} |- (c * x) != (c * y)"
      ]
     },
     "execution_count": 32,
     "metadata": {},
     "output_type": "execute_result"
    }
   ],
   "source": [
    "num_rel.left_mult_both_sides(c)"
   ]
  },
  {
   "cell_type": "code",
   "execution_count": 33,
   "metadata": {},
   "outputs": [],
   "source": [
    "%end demonstrations"
   ]
  }
 ],
 "metadata": {
  "kernelspec": {
   "display_name": "Python 3",
   "language": "python",
   "name": "python3"
  }
 },
 "nbformat": 4,
 "nbformat_minor": 0
}