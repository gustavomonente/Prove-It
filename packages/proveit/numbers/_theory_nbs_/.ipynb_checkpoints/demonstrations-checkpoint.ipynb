{
 "cells": [
  {
   "cell_type": "markdown",
   "metadata": {},
   "source": [
    "Demonstrations for the theory of <a class=\"ProveItLink\" href=\"theory.ipynb\">proveit.numbers</a>\n",
    "========"
   ]
  },
  {
   "cell_type": "code",
   "execution_count": 1,
   "metadata": {},
   "outputs": [],
   "source": [
    "import proveit\n",
    "from proveit import defaults\n",
    "%begin demonstrations"
   ]
  },
  {
   "cell_type": "markdown",
   "metadata": {},
   "source": [
    "### Demonstration of '..._both_sides' methods for number relations"
   ]
  },
  {
   "cell_type": "code",
   "execution_count": 2,
   "metadata": {},
   "outputs": [],
   "source": [
    "from proveit import a, b, c, d, x, y\n",
    "from proveit.logic import Equals, NotEquals, InSet\n",
    "from proveit.numbers import Less, LessEq, greater, greater_eq, Real, Complex, zero"
   ]
  },
  {
   "cell_type": "code",
   "execution_count": 3,
   "metadata": {},
   "outputs": [
    {
     "name": "stdout",
     "output_type": "stream",
     "text": [
      "Expression notebook is being updated for a > 0\n",
      "Expression notebook is being updated for b >= 0\n",
      "Expression notebook is being updated for (a in Real, b in Real, c in Real, d in Real, x in Real, y in Real, a > 0, b >= 0, c < 0, d <= 0, c != 0)\n"
     ]
    },
    {
     "data": {
      "text/html": [
       "<strong id=\"basic_assumptions\">basic_assumptions:</strong> <a class=\"ProveItLink\" href=\"../__pv_it/demonstrations/21470ffcc1262cfa8ed7fdfe3f4e8e45e12b90fc0/expr.ipynb\"><img src=\"data:image/png;base64,iVBORw0KGgoAAAANSUhEUgAAAocAAAAUCAMAAADIp2cUAAAAOVBMVEX///8kJCQNDQ0oKChUVFTM\n",
       "zMx2dna6uroQEBCqqqqIiIgiIiJmZmYyMjJERETu7u6YmJjc3NwAAABfYoQ1AAAAAXRSTlMAQObY\n",
       "ZgAABRRJREFUaN7tm9ma2yAMhWlrFrPJ+P0ftmCciQFBgGw3w0Xnm+XPkQ+yENglhBC3kd/xOz4w\n",
       "GCA/XF38CrbvQzYlrN2NETbLW7BCTaLzonFQK/Q7ZL8KHzMmN0YHXa6As4IdBg8qOoNyS0xE43pj\n",
       "NQSWENpms7w2eholT5L7+h7Zr8LE+KsC5Roug9LQC84KVg2Wis4oLhxVhCM9N90drCWOxS/LSDI0\n",
       "UfIcyXd4j+ynYDBIxdzEUTBM0+XVLK4PrIzV0MdcaTAwJacUna1EysLnNVJ5s8oPk3urHTEPYs3J\n",
       "KjovehZ39SLZr8HptJ7wkbtramvpMjcL7QBrrYN2HRzLmgGn1TapmAR75cDnpKs2HdRKQO9xH79t\n",
       "xlqSVXRetFyrnpD9JhyWuayB35eYeGvL5Shs+UOwQ7LOpS2XW0z2J92KaTlMOcOJ1D+JzrQUcFkw\n",
       "oLLWLISna41ZpNRri6yioShLSSdEQ8CS7nOyIOXiuGRyAgapA+buXg1dcO7zrThdfgK7jpMkGy5j\n",
       "mYGDqcVYCca53GCf9Ybn1RxXLCSDI7TKMU1uGzoufJU2+6WKuoq3q9Kp77D772F3DbKG+nLsr9Oa\n",
       "cdEYsL2sBwOywMLUS6LMBMy8dKgo+4xy6TPS7bmdHdOeTG7u8nWldC0ws5hAtrLWuMJga8ttMUqm\n",
       "kswc49/f8K9Guc0QFfMdRIhN26uRmLcidEHZTRkX+XsklnSjRB1FYx0XPQM2zYBrcFiTmI+au3HY\n",
       "rVHV2hnl0udrtwe3SdJxkljD5WstvWcFAmYWFytrhSsNlqroPnDFXLIshxm3KiJipdXHVV7KNRXm\n",
       "NpJ7nPsSmkVzxAo/kWBkFU372xHRGDBrsjUY0jwagv13QiYZMX7B5c7kyMPbH6OLXeYy2uhhYGYx\n",
       "YHlY5xRLUz4/icZDRXYtdGlwdL/lobDHL2mlq7ysNZpTi7Sy907VWdKNCttoZR+TsPMmW4NJXlmG\n",
       "4GPjSu9eDV/w1Wf0FGY/N5Nr3WW80UNAYUl7x9virgafYWr3iCwlgx+uoejzMK7L8T5br22LqPU8\n",
       "Frbs4rf0HhCkFy1ubzFGPgq4FjFJ8mgUPiqTFDMwEjayTzlr9ZaUldxlNKFKsKyg2FFRjSsjzQ+L\n",
       "kFAzyaM//HOuGQvKcXXuU+DIy8X8POzzlywr3voKq5M5DPdM7CaqZBWN1Dos2hdwTXaFuM249zsD\n",
       "cDz6spd1ph9GwsbObbDD4dxlhy2wCJhbjEqWHB5peViEhlpKFg/tEs7vU1hscq0MN+VCLpmsisuM\n",
       "z6oIW48jSb+BOztfL2uvx0wKOYbCUb0cGzg6LtoVcAUOq5vd0xc8+mM+gub7NnXBZdjYOfbxgSAS\n",
       "1cxlsBw7pCvBwmLsHBvhEIMv9wBthVpKcl2PNAAslMTYvkpJ3SL5taO1PLln4rN7GmqqCXeLUnAe\n",
       "BEi2pb1wStZRwtiWrFz9oo8DrsKBBam3bS7mgOvkAKUfLsJGn+v55JQyzvVdNXe58nSmAHOLsed6\n",
       "CIcY3KtYSiIHrHfO/5o2n+txZtOHVfmFwCz5BLo2niA9ITsIa/NC5eb4ODgtWCfX9jsMEGrhwHsO\n",
       "+WDkC+gToq+Bfc9U7iPfp/xx8A1TY9qpHR9rWTcpC3I64nn0CdEXwWGTauWnlGsgGHUf9IWKVW5e\n",
       "cW2ndnzvq/s92HJzNj+n2xfIV8Hcd4f0Y8ofB98wNQ/K4a0Q/v6/gN/x1tHuYbaQhv8BGjZrklwp\n",
       "8dIAAAAASUVORK5CYII=\n",
       "\" style=\"display:inline;vertical-align:middle;\" /></a><br>"
      ],
      "text/plain": [
       "basic_assumptions: (a in Real, b in Real, c in Real, d in Real, x in Real, y in Real, a > 0, b >= 0, c < 0, d <= 0, c != 0)"
      ]
     },
     "execution_count": 3,
     "metadata": {},
     "output_type": "execute_result"
    }
   ],
   "source": [
    "basic_assumptions = (InSet(a, Real), InSet(b, Real), InSet(c, Real), InSet(d, Real), \n",
    "                     InSet(x, Real), InSet(y, Real), \n",
    "                     greater(a, zero), greater_eq(b, zero), Less(c, zero), LessEq(d, zero), NotEquals(c, zero))"
   ]
  },
  {
   "cell_type": "code",
   "execution_count": 4,
   "metadata": {},
   "outputs": [
    {
     "name": "stdout",
     "output_type": "stream",
     "text": [
      "Expression notebook is being updated for (a in Real, b in Real, c in Real, d in Real, x in Real, y in Real, 0 < a, b >= 0, c < 0, d <= 0, c != 0, x = y)\n"
     ]
    },
    {
     "data": {
      "text/html": [
       "<strong id=\"defaults.assumptions\">defaults.assumptions:</strong> <a class=\"ProveItLink\" href=\"../__pv_it/demonstrations/beccdc9ee1c59b19b23664c096f211b9e53420c20/expr.ipynb\"><img src=\"data:image/png;base64,iVBORw0KGgoAAAANSUhEUgAAAsMAAAAUCAMAAABf9sDOAAAAOVBMVEX///8kJCQNDQ0oKChUVFTM\n",
       "zMx2dna6uroQEBCqqqqIiIgiIiJmZmYyMjJERETu7u6YmJjc3NwAAABfYoQ1AAAAAXRSTlMAQObY\n",
       "ZgAABXZJREFUaN7tW9uW4ygMZHcNmDv4/z92weRikMCGODP90Dx0n56ToiQVSAIyhBASPPkdv+MP\n",
       "DOZunlCE/NvZa5/3arV2M2a19Zp3dlWT0HnSPKhd9Rdovwhm0jM6IddpkD+bvoXrBniQMZg7LC3G\n",
       "khexCVcBhrgleeVtvZ+MnoaSD5Gb+Artt8AmmutUmNGrCLJTGrNqdvoODgmwVHSGceH3BOIYhn1b\n",
       "eH0ZYElg+dcyspD6UPIZkm/uK7RfAvt1T0EGq4vmJCtVQRZmASugM32XsIMDAXZMySnGYGct7VaB\n",
       "+KOzFbxVcZhaFx2IOfGzRrah86QPH9Q9tOPMUw7bfUULuPG80ic5Ce5WbpZq2Tenx9qdA2EHx8oO\n",
       "JmjlJxkLYwdw/UQc90JoNlnUSofmlui77foJkW3oPCkosB/QzjBPObwteTmKujifH3eYwogtvzA9\n",
       "QbqBgrCDKzqYsJjqI5cZyzQ8gDvrgjiR+rXBmJarO3QarlEfF8Kr4moWKbXoINvQWAykpDOkyWJJ\n",
       "tylaJ+USuGRywl0ndYKFd6yuM7tNZ+lkszjjaoAgo6sKnb4KMUbYwFUBjjvG8DoN4khAmSJCT3FQ\n",
       "FjT1FgIwTZ4HZ77GymI2cOKDugilK83cFv/BbaGNbEKDiiGyZoI0W2zfxWiA1rFUSyU5FP/rzCwy\n",
       "p0y2kXHmsLF9MRykc1VxxtUAQS6qe2hPD0KMEaI4EGBrYcOOIwtKZvbx37/pp+7hoCwPbB4aFcAb\n",
       "osSjrUh+aXsUAdNlTV1fnQxyV/Myx5LrULUnKzFB+rDY9AxugVMdZdFoHsbdDSKTWjvBHHL6oVnB\n",
       "ff0bgTV5tRogyEVj254ehhgjRHEgwFKBjglH1pQwDeM4RBasJykFEIqsuTroPUKHEkPX1/ovcguP\n",
       "qbv2ZJ/SPc3BkC2oLnv6IdJsMethW2BXrsEh5vjXKovVNMAMSqhD1zBQAwQZb2yxCl2FGCVEK3sd\n",
       "4H271G17B1l17ss5DsqCthKlAHR7ruHV7hPTRgd+qI+aU4u1/a/2PFhyGbraTtvfJ31YzHvYJhhk\n",
       "tBHm/YKAvmM1wrw9juOiedBH1QBBbjS2cPo6xDghggMBftzHVdcnTWQdj3DOSPBCg9/QPAWIazj3\n",
       "Enl/i2MDtrZ6POt8xbP5YvOt5CoUpJXrpNDi67TZdTrJnDOiXKeYc5rxRaJCjlhADRBkfDHC6WHm\n",
       "xg6RiFmoEfBCr4kkRU/7z6NWLb1AQFmKfnhBBeDqcaZz+35YzOsBOn5QNnSJVUGX+qe9mrunFrIF\n",
       "3TJIjJNCiwdohcsngkN/N+DufrVpD7VxgLlxtV9edSFqgCAj11z49HWI0bs1BIcaAS/0MIcQSvAY\n",
       "jOEQWfD3o6MA8UzH8oHAytTtLOSwgxQIUX4/JUzs19XxoPw8JkSbre4hW1C97AdlOkEKLb5Mmyqy\n",
       "3aovO11nTkbzrY9tgtNH3UpPnhzevr2QVZCd5Zi8r+nbIUYfVSAOWxLv/UN7SEjJ9QVLUVmwUQig\n",
       "WUrFudWXkoZF8mP3b3mxV/P3WGiqAyZtUqXc87ZGMk/ayA6UMV9U2wFSYPFl2gR1UntPppl1cck1\n",
       "4LBjUi7oo/Lh6ffo2xNZB7lx4HlN3wwxRojhkCVxkRFSIhfoEIfKglIeBUhOdN6aObPlA2odBDeL\n",
       "/AAqOoXmA9pBZm3uZO6OWeSfxnWQQt/O+BTApRw88J2fejDyF6AfkN4Dji0iOK7/RIfZz5HGuDsZ\n",
       "CwHym56d/f6bk9PezkM/IL0JnC4DrPzbDjuj3oPeyNjEzTMKdmtsjgLk715e/g48PIbMrwf/F5B3\n",
       "gXlsxujPd9j/HGlO0vAo41GAZwL+/b9Iv+Org39tZp+W8P9ndHLKW8g67QAAAABJRU5ErkJggg==\n",
       "\" style=\"display:inline;vertical-align:middle;\" /></a><br>"
      ],
      "text/plain": [
       "defaults.assumptions: (a in Real, b in Real, c in Real, d in Real, x in Real, y in Real, 0 < a, b >= 0, c < 0, d <= 0, c != 0, x = y)"
      ]
     },
     "execution_count": 4,
     "metadata": {},
     "output_type": "execute_result"
    }
   ],
   "source": [
    "defaults.assumptions = (*basic_assumptions, Equals(x, y))"
   ]
  },
  {
   "cell_type": "code",
   "execution_count": 5,
   "metadata": {},
   "outputs": [
    {
     "data": {
      "text/html": [
       "<strong id=\"num_rel\">num_rel:</strong> <span style=\"font-size:20px;\"><a class=\"ProveItLink\" href=\"../../logic/equality/__pv_it/theorems/f58d07b97d304663195fa7545a00d5f28794fa300/expr.ipynb\"><img src=\"data:image/png;base64,iVBORw0KGgoAAAANSUhEUgAAADMAAAANBAMAAAD2/0vEAAAAMFBMVEX///8QEBBmZmaqqqrMzMxE\n",
       "REQyMjIiIiKYmJh2dna6urrc3NxUVFSIiIju7u4AAAA6P00QAAAAAXRSTlMAQObYZgAAAKFJREFU\n",
       "GNNjYHh7Z9fNCwwogO/SBYaNDxj4JnDUsicA+ZxpYKAAYnIJMNwHUg84/3FtQNW1mSmBIRSomYE1\n",
       "gAENPGC8wPAXxOC/gC7FsP4ByxcQ7e8A5kLtOgBiqzHwCjAwMD+4z8D7AE1XDAMrUMl6g3iGHegG\n",
       "6jCsb2BgeHP3rUYDutSbu/obGHABNRziPAl8v3BIsTewXsAhxXVXBUgCAM1cLDnk3FtcAAAAAElF\n",
       "TkSuQmCC\n",
       "\" style=\"display:inline;vertical-align:middle;\" /></a> <a class=\"ProveItLink\" href=\"../__pv_it/demonstrations/770bb7c703c2a82bd3a86957decb5834016814630/proof.ipynb\" style=\"text-decoration: none\">&nbsp;&#x22A2;&nbsp;&nbsp;</a><a class=\"ProveItLink\" href=\"../../logic/equality/__pv_it/theorems/f58d07b97d304663195fa7545a00d5f28794fa300/expr.ipynb\"><img src=\"data:image/png;base64,iVBORw0KGgoAAAANSUhEUgAAADMAAAANBAMAAAD2/0vEAAAAMFBMVEX///8QEBBmZmaqqqrMzMxE\n",
       "REQyMjIiIiKYmJh2dna6urrc3NxUVFSIiIju7u4AAAA6P00QAAAAAXRSTlMAQObYZgAAAKFJREFU\n",
       "GNNjYHh7Z9fNCwwogO/SBYaNDxj4JnDUsicA+ZxpYKAAYnIJMNwHUg84/3FtQNW1mSmBIRSomYE1\n",
       "gAENPGC8wPAXxOC/gC7FsP4ByxcQ7e8A5kLtOgBiqzHwCjAwMD+4z8D7AE1XDAMrUMl6g3iGHegG\n",
       "6jCsb2BgeHP3rUYDutSbu/obGHABNRziPAl8v3BIsTewXsAhxXVXBUgCAM1cLDnk3FtcAAAAAElF\n",
       "TkSuQmCC\n",
       "\" style=\"display:inline;vertical-align:middle;\" /></a></span><br>"
      ],
      "text/plain": [
       "num_rel: {x = y} |- x = y"
      ]
     },
     "execution_count": 5,
     "metadata": {},
     "output_type": "execute_result"
    }
   ],
   "source": [
    "num_rel = Equals(x, y).prove()"
   ]
  },
  {
   "cell_type": "code",
   "execution_count": 6,
   "metadata": {},
   "outputs": [
    {
     "name": "stdout",
     "output_type": "stream",
     "text": [
      "Help on function transform_both_sides in module proveit.relation.relation:\n",
      "\n",
      "transform_both_sides(*args, **kwargs)\n",
      "    Add both sides of the Equals relation by the 'addend'\n",
      "    on the right.\n",
      "    The new relation will be simplified by default, unless\n",
      "    'simplify=False' is given as a keyword argument.\n",
      "\n"
     ]
    }
   ],
   "source": [
    "help(num_rel.right_add_both_sides)"
   ]
  },
  {
   "cell_type": "code",
   "execution_count": 7,
   "metadata": {},
   "outputs": [
    {
     "data": {
      "text/html": [
       "<strong id=\"num_rel\">num_rel:</strong> <span style=\"font-size:20px;\"><a class=\"ProveItLink\" href=\"../__pv_it/demonstrations/01066498eeade39164943c7fc785297aa9d0bb160/expr.ipynb\"><img src=\"data:image/png;base64,iVBORw0KGgoAAAANSUhEUgAAADEAAAAPBAMAAAC/wjryAAAAMFBMVEX////MzMyYmJjc3NyIiIhU\n",
       "VFR2dna6urqqqqpmZmYyMjIiIiIQEBBERETu7u4AAACIO4EmAAAAAXRSTlMAQObYZgAAANJJREFU\n",
       "GNNj4LuzgQEFaJ+9v+qsAojFNQFVhmHBUwZZ3QdABn8DmswFMwZe5gAgo/4BVER39+4FUBlOAxAr\n",
       "Gyoh64fQw2lwAchY6jIDxOdbh2QaKzvQNL5fD94bAPmsBkgy3bOAVnD8Y+B3APJ5ES6w2b0L5CrO\n",
       "BQzvE4C0zCoggLqgkvcBxDv1IBW2SK7mLAQ5gF+BYT5IBQ+yf+6pgGQK+A6B+JwOSDKinAJANynw\n",
       "QoJnB1LosDUEAl09JQki8PT6A1iILmS4ux45zMpuQ0IHCgBwWkIYWdoBRwAAAABJRU5ErkJggg==\n",
       "\" style=\"display:inline;vertical-align:middle;\" /></a>, <a class=\"ProveItLink\" href=\"../__pv_it/demonstrations/02bd6ad73acd9f4d3192ee4c61bfdcabbff20f180/expr.ipynb\"><img src=\"data:image/png;base64,iVBORw0KGgoAAAANSUhEUgAAADQAAAAPBAMAAABZ6/G2AAAAMFBMVEX///8QEBBmZmaqqqrMzMxE\n",
       "REQyMjIiIiKYmJh2dna6urrc3NxUVFSIiIju7u4AAAA6P00QAAAAAXRSTlMAQObYZgAAAMRJREFU\n",
       "GNNjYMAAHIWh3xIjGLACNr4DLBFxWKVYuScwBOxBEWotL0+ASWmzIcu43kPSpc0KZLy9s+vmBSDN\n",
       "l4ds4IE1QJEJHLXsIHN4NiBJMRcBFXI+4PzHBRJlRXKGeHkyyBwG1gCwgGMaEECdMUsB4nb+C2Bq\n",
       "K7LjtVzBLH8HMMWILMX6Aqie+cF9Bt4HQAGmC0hSLAdUGBjWG8Qz7ACLFCMFFMNkHgeGN3ffajSA\n",
       "Rd5EPYAHrwNr2Gfk4FgZDgkoKAAAelg1omM6Y4wAAAAASUVORK5CYII=\n",
       "\" style=\"display:inline;vertical-align:middle;\" /></a>, <a class=\"ProveItLink\" href=\"../__pv_it/demonstrations/0886f5b6aacf5197ba709a53d4f3243edcc3de560/expr.ipynb\"><img src=\"data:image/png;base64,iVBORw0KGgoAAAANSUhEUgAAADMAAAASBAMAAAAEf/uKAAAAMFBMVEX///8iIiKYmJhUVFTMzMxE\n",
       "REQyMjKqqqq6urp2dnYQEBDc3NxmZmaIiIju7u4AAACH5sGpAAAAAXRSTlMAQObYZgAAAN1JREFU\n",
       "GNNjYMAAikvj05YqMGAFCY8ZXFUfYJUK2MnAym2AIqQqKJgAleLZkIAs43oPoYtnQwADA9+dCwy7\n",
       "QAbz5SEZyMwBNJCTYwHDfZAA8wYkqcJjQNXbeRIYQkECrAhn7BIUKwDSD7guMPwFCXilAQHUGT2s\n",
       "YLf3P2D5AqK3IjmepyUAxDjGwLsARHMh+ytOF8QIZmAFe4/nApKUM48DkHGYoR8SYOJIAcVZYAJk\n",
       "PL57HuLsxxEPYMGbwhCaXwCxDQI6AwVRgoc5ge8H9ghgYFRgvYBDiuPuERwyAAfzPe7bmvmqAAAA\n",
       "AElFTkSuQmCC\n",
       "\" style=\"display:inline;vertical-align:middle;\" /></a>, <a class=\"ProveItLink\" href=\"../../logic/equality/__pv_it/theorems/f58d07b97d304663195fa7545a00d5f28794fa300/expr.ipynb\"><img src=\"data:image/png;base64,iVBORw0KGgoAAAANSUhEUgAAADMAAAANBAMAAAD2/0vEAAAAMFBMVEX///8QEBBmZmaqqqrMzMxE\n",
       "REQyMjIiIiKYmJh2dna6urrc3NxUVFSIiIju7u4AAAA6P00QAAAAAXRSTlMAQObYZgAAAKFJREFU\n",
       "GNNjYHh7Z9fNCwwogO/SBYaNDxj4JnDUsicA+ZxpYKAAYnIJMNwHUg84/3FtQNW1mSmBIRSomYE1\n",
       "gAENPGC8wPAXxOC/gC7FsP4ByxcQ7e8A5kLtOgBiqzHwCjAwMD+4z8D7AE1XDAMrUMl6g3iGHegG\n",
       "6jCsb2BgeHP3rUYDutSbu/obGHABNRziPAl8v3BIsTewXsAhxXVXBUgCAM1cLDnk3FtcAAAAAElF\n",
       "TkSuQmCC\n",
       "\" style=\"display:inline;vertical-align:middle;\" /></a> <a class=\"ProveItLink\" href=\"../__pv_it/demonstrations/574d4a6aebaea5e847eb323db9b695f788fe238c0/proof.ipynb\" style=\"text-decoration: none\">&nbsp;&#x22A2;&nbsp;&nbsp;</a><a class=\"ProveItLink\" href=\"../__pv_it/demonstrations/b458eeb29b6a46e3634e7fe275492a7d6fa8ce2a0/expr.ipynb\"><img src=\"data:image/png;base64,iVBORw0KGgoAAAANSUhEUgAAAHcAAAASBAMAAACTLlxQAAAAMFBMVEX///8QEBBmZmaqqqrMzMxE\n",
       "REQyMjIiIiKYmJh2dna6urrc3NxUVFSIiIju7u4AAAA6P00QAAAAAXRSTlMAQObYZgAAAVhJREFU\n",
       "OMtjYMAET8UZCAK+wAIcMkmENTOwKaAJ2ELpz3g0MV+A0PwG2DVz/SNC8/oH2DVzFhCheTqYfHtn\n",
       "180LKJrZzl5CcxPfpQsMGx+gaM65qwwUn8BRy56Aovl9Ht9vkAPSwAAUMJxcAgz3UWzm+/bg/QYG\n",
       "zgec/7g2oGi2f8DwF9XmzUwJDKEompn/MfBfYOBjYA0Ac6elpRWmpeUAWWoMfD9RNT9gvAA2D+iY\n",
       "dLG0tAMMDEDT3k8ABfoFtABLYuBCj6z1D1i+oNgMjOb1oIDxd0DT/IOB6R/CzwcYwI7hFUDRzN/A\n",
       "oP+AgfnBfQbeByiafzE8bECzOYaB9QCq5gV8EkAHGcQz7EC1+QRDEHrs6jCsb0DRzNPACoyGN3ff\n",
       "ajSgan50E91ioCr9DahRpTsDR9rGBtTQUhgGeIdLJ08C3y9YYnvAQCJgb2C9wEAu4Lqrgk0YAFhw\n",
       "ZiHm62RKAAAAAElFTkSuQmCC\n",
       "\" style=\"display:inline;vertical-align:middle;\" /></a></span><br>"
      ],
      "text/plain": [
       "num_rel: {b in Real, x in Real, y in Real, x = y} |- x + b = y + b"
      ]
     },
     "execution_count": 7,
     "metadata": {},
     "output_type": "execute_result"
    }
   ],
   "source": [
    "num_rel = num_rel.right_add_both_sides(b)"
   ]
  },
  {
   "cell_type": "code",
   "execution_count": 8,
   "metadata": {},
   "outputs": [
    {
     "data": {
      "text/html": [
       "<strong id=\"num_rel\">num_rel:</strong> <span style=\"font-size:20px;\"><a class=\"ProveItLink\" href=\"../__pv_it/demonstrations/bd2f502b953df5e1834a5d80011e6b2e7aa85c890/expr.ipynb\"><img src=\"data:image/png;base64,iVBORw0KGgoAAAANSUhEUgAAADMAAAAPBAMAAAC7N+rPAAAAMFBMVEX///9UVFSqqqrMzMwiIiJE\n",
       "RESYmJgyMjK6urru7u4QEBCIiIh2dnZmZmbc3NwAAABRgo0vAAAAAXRSTlMAQObYZgAAAMpJREFU\n",
       "GNNjYMAAKUvjy5cmMGAFBRMZTFMnYJUKeMPAyieAIpTq4lIAleJ9UIAsY7oToYv3QQCQwXfn9kqQ\n",
       "AGclkoGMHCADux6wfwAJMD5AklK5DnQG5zIGXpBmBlaEM165uCsAad6fDCwbQAJW5UAAdUYvK8jt\n",
       "XAEM8w1AAk+RHM/bDDJo/gEGfbAAF7K/IrNBUgoM4kwgF/BuQJIy5AWaxLqBzZEHLOKEFFA8CsJA\n",
       "F0pvfrgDLDIxYgIseIsZQusVkIOjJ8QFOXgAnyk4ZcxDaYcAAAAASUVORK5CYII=\n",
       "\" style=\"display:inline;vertical-align:middle;\" /></a>, <a class=\"ProveItLink\" href=\"../__pv_it/demonstrations/02bd6ad73acd9f4d3192ee4c61bfdcabbff20f180/expr.ipynb\"><img src=\"data:image/png;base64,iVBORw0KGgoAAAANSUhEUgAAADQAAAAPBAMAAABZ6/G2AAAAMFBMVEX///8QEBBmZmaqqqrMzMxE\n",
       "REQyMjIiIiKYmJh2dna6urrc3NxUVFSIiIju7u4AAAA6P00QAAAAAXRSTlMAQObYZgAAAMRJREFU\n",
       "GNNjYMAAHIWh3xIjGLACNr4DLBFxWKVYuScwBOxBEWotL0+ASWmzIcu43kPSpc0KZLy9s+vmBSDN\n",
       "l4ds4IE1QJEJHLXsIHN4NiBJMRcBFXI+4PzHBRJlRXKGeHkyyBwG1gCwgGMaEECdMUsB4nb+C2Bq\n",
       "K7LjtVzBLH8HMMWILMX6Aqie+cF9Bt4HQAGmC0hSLAdUGBjWG8Qz7ACLFCMFFMNkHgeGN3ffajSA\n",
       "Rd5EPYAHrwNr2Gfk4FgZDgkoKAAAelg1omM6Y4wAAAAASUVORK5CYII=\n",
       "\" style=\"display:inline;vertical-align:middle;\" /></a>, <a class=\"ProveItLink\" href=\"../__pv_it/demonstrations/01066498eeade39164943c7fc785297aa9d0bb160/expr.ipynb\"><img src=\"data:image/png;base64,iVBORw0KGgoAAAANSUhEUgAAADEAAAAPBAMAAAC/wjryAAAAMFBMVEX////MzMyYmJjc3NyIiIhU\n",
       "VFR2dna6urqqqqpmZmYyMjIiIiIQEBBERETu7u4AAACIO4EmAAAAAXRSTlMAQObYZgAAANJJREFU\n",
       "GNNj4LuzgQEFaJ+9v+qsAojFNQFVhmHBUwZZ3QdABn8DmswFMwZe5gAgo/4BVER39+4FUBlOAxAr\n",
       "Gyoh64fQw2lwAchY6jIDxOdbh2QaKzvQNL5fD94bAPmsBkgy3bOAVnD8Y+B3APJ5ES6w2b0L5CrO\n",
       "BQzvE4C0zCoggLqgkvcBxDv1IBW2SK7mLAQ5gF+BYT5IBQ+yf+6pgGQK+A6B+JwOSDKinAJANynw\n",
       "QoJnB1LosDUEAl09JQki8PT6A1iILmS4ux45zMpuQ0IHCgBwWkIYWdoBRwAAAABJRU5ErkJggg==\n",
       "\" style=\"display:inline;vertical-align:middle;\" /></a>, <a class=\"ProveItLink\" href=\"../__pv_it/demonstrations/0886f5b6aacf5197ba709a53d4f3243edcc3de560/expr.ipynb\"><img src=\"data:image/png;base64,iVBORw0KGgoAAAANSUhEUgAAADMAAAASBAMAAAAEf/uKAAAAMFBMVEX///8iIiKYmJhUVFTMzMxE\n",
       "REQyMjKqqqq6urp2dnYQEBDc3NxmZmaIiIju7u4AAACH5sGpAAAAAXRSTlMAQObYZgAAAN1JREFU\n",
       "GNNjYMAAikvj05YqMGAFCY8ZXFUfYJUK2MnAym2AIqQqKJgAleLZkIAs43oPoYtnQwADA9+dCwy7\n",
       "QAbz5SEZyMwBNJCTYwHDfZAA8wYkqcJjQNXbeRIYQkECrAhn7BIUKwDSD7guMPwFCXilAQHUGT2s\n",
       "YLf3P2D5AqK3IjmepyUAxDjGwLsARHMh+ytOF8QIZmAFe4/nApKUM48DkHGYoR8SYOJIAcVZYAJk\n",
       "PL57HuLsxxEPYMGbwhCaXwCxDQI6AwVRgoc5ge8H9ghgYFRgvYBDiuPuERwyAAfzPe7bmvmqAAAA\n",
       "AElFTkSuQmCC\n",
       "\" style=\"display:inline;vertical-align:middle;\" /></a>, <a class=\"ProveItLink\" href=\"../../logic/equality/__pv_it/theorems/f58d07b97d304663195fa7545a00d5f28794fa300/expr.ipynb\"><img src=\"data:image/png;base64,iVBORw0KGgoAAAANSUhEUgAAADMAAAANBAMAAAD2/0vEAAAAMFBMVEX///8QEBBmZmaqqqrMzMxE\n",
       "REQyMjIiIiKYmJh2dna6urrc3NxUVFSIiIju7u4AAAA6P00QAAAAAXRSTlMAQObYZgAAAKFJREFU\n",
       "GNNjYHh7Z9fNCwwogO/SBYaNDxj4JnDUsicA+ZxpYKAAYnIJMNwHUg84/3FtQNW1mSmBIRSomYE1\n",
       "gAENPGC8wPAXxOC/gC7FsP4ByxcQ7e8A5kLtOgBiqzHwCjAwMD+4z8D7AE1XDAMrUMl6g3iGHegG\n",
       "6jCsb2BgeHP3rUYDutSbu/obGHABNRziPAl8v3BIsTewXsAhxXVXBUgCAM1cLDnk3FtcAAAAAElF\n",
       "TkSuQmCC\n",
       "\" style=\"display:inline;vertical-align:middle;\" /></a> <a class=\"ProveItLink\" href=\"../__pv_it/demonstrations/27e5e0939b8cfbc283cd4ab8f6d6d00523de2ed30/proof.ipynb\" style=\"text-decoration: none\">&nbsp;&#x22A2;&nbsp;&nbsp;</a><a class=\"ProveItLink\" href=\"../__pv_it/demonstrations/5f77b4967c873e02d19fb4d0222da0faf4d329f10/expr.ipynb\"><img src=\"data:image/png;base64,iVBORw0KGgoAAAANSUhEUgAAAMkAAAAUBAMAAADVSATHAAAAMFBMVEX///9UVFSqqqrMzMwiIiJE\n",
       "RESYmJgyMjK6urru7u4QEBCIiIh2dnZmZmbc3NwAAABRgo0vAAAAAXRSTlMAQObYZgAAAlpJREFU\n",
       "OMudlc9rE0EUx79Js5vddmNy0kNBcvAm2PwH3fZYL/WgB8G6N2+yRWH1UOnBk5cdwSK2yOYg/rit\n",
       "eBHS0BxEDyJUBXNooauIiKdSQRsU8c2apJkfzQYHdjKZfd/9vLfv7RtAHEc86Ec+wfBxqPKUurWi\n",
       "s1t5QNPxDIpOaZ93gZzq3w3tE5bouptB0SqLm4Ty5V1zU/h7svu7R5cTD4WIynzXuFyl6bVsW0h0\n",
       "FKvDo68PpYjKHiVkNK3Ktp+hozgun68NpYjKHuVF+tqWqTa2t5707zbpWnv6dT0WKMXJJkX+Rqkq\n",
       "SWk3Y3xjAmWx8Y6cpJd5Kynu9m3PkW3LPF3wBUp03f4DXErDCtKRJkFWOlYdG0Is9k8WJTB92A9R\n",
       "muc7qROzZMucjpUIlCmGX8AJuUxl5aeSj7MCJd9BOUbeRamDQpxi+fZjWsBItXgVBHNBsEirNuzf\n",
       "wLREUZRsPObe8HivPgqCCpn4iFoY28X4PKIaN5vp2oLjxewvwdpTKaoyZGPfhVjocwmrnEKsqQPl\n",
       "LJ+maxLlB/cbNwfyUuHZUpRtTNQFStnDDoPlIqri2EGPohzm2QYmmEDZx6rXzf7AUJQ4A6MiUpYp\n",
       "eTz7RmzOOH0lVWtYvYgvYixHcYHmbYmiKPEWoSdQcp5B1VhqwZ589vF535beyu3G2gdPpNxf5xtX\n",
       "5BqTlSTdScRK3nrJs1MbqcP8U7gjdJi29O2n405Gt7w3sM7uljnf3u+5xAZuKd0SC4c+JqvzL6Dg\n",
       "GTpP1M6vP8Uy+D2l1Xivu2Eko5+r5n+fyJeBv7BGtTxkiLj/AAAAAElFTkSuQmCC\n",
       "\" style=\"display:inline;vertical-align:middle;\" /></a></span><br>"
      ],
      "text/plain": [
       "num_rel: {a in Real, x in Real, b in Real, y in Real, x = y} |- a * (x + b) = a * (y + b)"
      ]
     },
     "execution_count": 8,
     "metadata": {},
     "output_type": "execute_result"
    }
   ],
   "source": [
    "num_rel = num_rel.left_mult_both_sides(a)"
   ]
  },
  {
   "cell_type": "code",
   "execution_count": 9,
   "metadata": {},
   "outputs": [
    {
     "data": {
      "text/html": [
       "<strong id=\"num_rel\">num_rel:</strong> <span style=\"font-size:20px;\"><a class=\"ProveItLink\" href=\"../__pv_it/demonstrations/97c2cd789f92aeb5958c71e9e8648177a398980b0/expr.ipynb\"><img src=\"data:image/png;base64,iVBORw0KGgoAAAANSUhEUgAAADEAAAAPBAMAAAC/wjryAAAAMFBMVEX///+6urqYmJgQEBDu7u5m\n",
       "ZmZUVFQyMjJERESqqqoiIiLc3NzMzMyIiIh2dnYAAABqS+z4AAAAAXRSTlMAQObYZgAAALpJREFU\n",
       "GNNjYEAHWhb95RYKDNhAgRvDCQ0HbDIN+xg4uBOQRTRWrSqAyrBuKECSOHEFoYd1QwOI9fbuASDJ\n",
       "UoJkGhsjyLRdEzhAWtk2IMnMCge5YB0D2wQgxYFwweZVy0EirF8g/MPlQAB1gSgHSAtzA0RmB5Kr\n",
       "WWVAgv4PIHxmZP+06AJpfmBAgE29gCRzjBXoXNYEBleQqxlWIoUO34QcIOOdEkS1W6MDLERrGDrq\n",
       "JyAFglzXKuQwAQDAXjdf5nEJUwAAAABJRU5ErkJggg==\n",
       "\" style=\"display:inline;vertical-align:middle;\" /></a>, <a class=\"ProveItLink\" href=\"../__pv_it/demonstrations/bd2f502b953df5e1834a5d80011e6b2e7aa85c890/expr.ipynb\"><img src=\"data:image/png;base64,iVBORw0KGgoAAAANSUhEUgAAADMAAAAPBAMAAAC7N+rPAAAAMFBMVEX///9UVFSqqqrMzMwiIiJE\n",
       "RESYmJgyMjK6urru7u4QEBCIiIh2dnZmZmbc3NwAAABRgo0vAAAAAXRSTlMAQObYZgAAAMpJREFU\n",
       "GNNjYMAAKUvjy5cmMGAFBRMZTFMnYJUKeMPAyieAIpTq4lIAleJ9UIAsY7oToYv3QQCQwXfn9kqQ\n",
       "AGclkoGMHCADux6wfwAJMD5AklK5DnQG5zIGXpBmBlaEM165uCsAad6fDCwbQAJW5UAAdUYvK8jt\n",
       "XAEM8w1AAk+RHM/bDDJo/gEGfbAAF7K/IrNBUgoM4kwgF/BuQJIy5AWaxLqBzZEHLOKEFFA8CsJA\n",
       "F0pvfrgDLDIxYgIseIsZQusVkIOjJ8QFOXgAnyk4ZcxDaYcAAAAASUVORK5CYII=\n",
       "\" style=\"display:inline;vertical-align:middle;\" /></a>, <a class=\"ProveItLink\" href=\"../__pv_it/demonstrations/02bd6ad73acd9f4d3192ee4c61bfdcabbff20f180/expr.ipynb\"><img src=\"data:image/png;base64,iVBORw0KGgoAAAANSUhEUgAAADQAAAAPBAMAAABZ6/G2AAAAMFBMVEX///8QEBBmZmaqqqrMzMxE\n",
       "REQyMjIiIiKYmJh2dna6urrc3NxUVFSIiIju7u4AAAA6P00QAAAAAXRSTlMAQObYZgAAAMRJREFU\n",
       "GNNjYMAAHIWh3xIjGLACNr4DLBFxWKVYuScwBOxBEWotL0+ASWmzIcu43kPSpc0KZLy9s+vmBSDN\n",
       "l4ds4IE1QJEJHLXsIHN4NiBJMRcBFXI+4PzHBRJlRXKGeHkyyBwG1gCwgGMaEECdMUsB4nb+C2Bq\n",
       "K7LjtVzBLH8HMMWILMX6Aqie+cF9Bt4HQAGmC0hSLAdUGBjWG8Qz7ACLFCMFFMNkHgeGN3ffajSA\n",
       "Rd5EPYAHrwNr2Gfk4FgZDgkoKAAAelg1omM6Y4wAAAAASUVORK5CYII=\n",
       "\" style=\"display:inline;vertical-align:middle;\" /></a>, <a class=\"ProveItLink\" href=\"../__pv_it/demonstrations/01066498eeade39164943c7fc785297aa9d0bb160/expr.ipynb\"><img src=\"data:image/png;base64,iVBORw0KGgoAAAANSUhEUgAAADEAAAAPBAMAAAC/wjryAAAAMFBMVEX////MzMyYmJjc3NyIiIhU\n",
       "VFR2dna6urqqqqpmZmYyMjIiIiIQEBBERETu7u4AAACIO4EmAAAAAXRSTlMAQObYZgAAANJJREFU\n",
       "GNNj4LuzgQEFaJ+9v+qsAojFNQFVhmHBUwZZ3QdABn8DmswFMwZe5gAgo/4BVER39+4FUBlOAxAr\n",
       "Gyoh64fQw2lwAchY6jIDxOdbh2QaKzvQNL5fD94bAPmsBkgy3bOAVnD8Y+B3APJ5ES6w2b0L5CrO\n",
       "BQzvE4C0zCoggLqgkvcBxDv1IBW2SK7mLAQ5gF+BYT5IBQ+yf+6pgGQK+A6B+JwOSDKinAJANynw\n",
       "QoJnB1LosDUEAl09JQki8PT6A1iILmS4ux45zMpuQ0IHCgBwWkIYWdoBRwAAAABJRU5ErkJggg==\n",
       "\" style=\"display:inline;vertical-align:middle;\" /></a>, <a class=\"ProveItLink\" href=\"../__pv_it/demonstrations/0886f5b6aacf5197ba709a53d4f3243edcc3de560/expr.ipynb\"><img src=\"data:image/png;base64,iVBORw0KGgoAAAANSUhEUgAAADMAAAASBAMAAAAEf/uKAAAAMFBMVEX///8iIiKYmJhUVFTMzMxE\n",
       "REQyMjKqqqq6urp2dnYQEBDc3NxmZmaIiIju7u4AAACH5sGpAAAAAXRSTlMAQObYZgAAAN1JREFU\n",
       "GNNjYMAAikvj05YqMGAFCY8ZXFUfYJUK2MnAym2AIqQqKJgAleLZkIAs43oPoYtnQwADA9+dCwy7\n",
       "QAbz5SEZyMwBNJCTYwHDfZAA8wYkqcJjQNXbeRIYQkECrAhn7BIUKwDSD7guMPwFCXilAQHUGT2s\n",
       "YLf3P2D5AqK3IjmepyUAxDjGwLsARHMh+ytOF8QIZmAFe4/nApKUM48DkHGYoR8SYOJIAcVZYAJk\n",
       "PL57HuLsxxEPYMGbwhCaXwCxDQI6AwVRgoc5ge8H9ghgYFRgvYBDiuPuERwyAAfzPe7bmvmqAAAA\n",
       "AElFTkSuQmCC\n",
       "\" style=\"display:inline;vertical-align:middle;\" /></a>, <a class=\"ProveItLink\" href=\"../../logic/equality/__pv_it/theorems/f58d07b97d304663195fa7545a00d5f28794fa300/expr.ipynb\"><img src=\"data:image/png;base64,iVBORw0KGgoAAAANSUhEUgAAADMAAAANBAMAAAD2/0vEAAAAMFBMVEX///8QEBBmZmaqqqrMzMxE\n",
       "REQyMjIiIiKYmJh2dna6urrc3NxUVFSIiIju7u4AAAA6P00QAAAAAXRSTlMAQObYZgAAAKFJREFU\n",
       "GNNjYHh7Z9fNCwwogO/SBYaNDxj4JnDUsicA+ZxpYKAAYnIJMNwHUg84/3FtQNW1mSmBIRSomYE1\n",
       "gAENPGC8wPAXxOC/gC7FsP4ByxcQ7e8A5kLtOgBiqzHwCjAwMD+4z8D7AE1XDAMrUMl6g3iGHegG\n",
       "6jCsb2BgeHP3rUYDutSbu/obGHABNRziPAl8v3BIsTewXsAhxXVXBUgCAM1cLDnk3FtcAAAAAElF\n",
       "TkSuQmCC\n",
       "\" style=\"display:inline;vertical-align:middle;\" /></a> <a class=\"ProveItLink\" href=\"../__pv_it/demonstrations/9854f6e6d765cb5e70a030c38bf17e40cb38a6010/proof.ipynb\" style=\"text-decoration: none\">&nbsp;&#x22A2;&nbsp;&nbsp;</a><a class=\"ProveItLink\" href=\"../__pv_it/demonstrations/fac32e9a5819eff260581cc57975f1c9707746430/expr.ipynb\"><img src=\"data:image/png;base64,iVBORw0KGgoAAAANSUhEUgAAAPsAAAAUBAMAAAC5TlbCAAAAMFBMVEX///9UVFSqqqrMzMwiIiJE\n",
       "RESYmJgyMjK6urru7u4QEBCIiIh2dnZmZmbc3NwAAABRgo0vAAAAAXRSTlMAQObYZgAAArxJREFU\n",
       "SMetVs9rE0EU/pJmk2y6McGDHgqyB2+CzX/QNEf1UA8qCNY96UGQLQqrh0oPnrxkC4rYUpKDP28r\n",
       "vQhpaA5SD1WoFsyhha5SRDyVCrXBIr6ZJLuZzTTJigPzdmf2ve978+a9mQXEdsSAvEVdDN4ORTnd\n",
       "x/CRdPIpiRMh6GUo6uU8EOmziHvS2Wnqj0PQS1ESa+SD2dMuviYMT7Weu9Q1Z2B2ESXaMszoJFZ7\n",
       "GsZcGX2ywYJXHpheRGnTF20Scz0NtyGj1/JM3hmYXkRp07/lOzATzNLNjVfeoEp9/vX3JUegT4xU\n",
       "KXAffButstgHRa06+GEL9FOVT2TZsS+rlRzwwE3seDMXybAWPxszBfrSXfUPcN3nKuASc8LijQMG\n",
       "UbRkGcvC6tVfdslF3M+9bV0xoT5HeoKNuKsFMrS1RtIV6Edt/AZOchC+tzUcDVRVEOVr2sQFgT7a\n",
       "QMZBNO9pnUNER7qBmMOdY1MvGYHCgfDOss5Y1hS91aEeAGM8EMz7LTu4210odsphLrMI3X5hWVlS\n",
       "MVGqYWinrZVm+YzUBEo59jLeMgRzUky9aSR3W/QxAsKzrmTrRinaQz+F1VPZF/UmPddK8UWSR6M+\n",
       "TIGJsVyAfo+7et+L9EErAZt7n5Wi1DFcFugzBotaMt9WIhMmdRz3z3NKmqi9jGFboN/HnNGZenuk\n",
       "Ja6+CwXnoWRF+hlKkI7UI3egQ3Hi45oHQ8VV1K/im7j6Y7hCctPT+gh1XaTvQiGdoiHQRwyFaiRd\n",
       "89Ili4Uc1JHFL288QwrwbGX+syHSLyyxiVt+2a/cCN4nQRSC2XLFwttYYRngbSzeX3MGO3Sb5vmQ\n",
       "h249cOrx9jDMlfOk4z3clRMx1f22351l2vvKweShX8JcuJOIGYrM3T4Xrvx3o49jMpRkZV32QXH/\n",
       "8Tcp/l9+tm4Gxn8Bz8XL4TilY0MAAAAASUVORK5CYII=\n",
       "\" style=\"display:inline;vertical-align:middle;\" /></a></span><br>"
      ],
      "text/plain": [
       "num_rel: {c in Real, a in Real, x in Real, b in Real, y in Real, x = y} |- a * (x + b) * c = a * (y + b) * c"
      ]
     },
     "execution_count": 9,
     "metadata": {},
     "output_type": "execute_result"
    }
   ],
   "source": [
    "num_rel = num_rel.right_mult_both_sides(c)"
   ]
  },
  {
   "cell_type": "code",
   "execution_count": 10,
   "metadata": {},
   "outputs": [
    {
     "data": {
      "text/html": [
       "<strong id=\"num_rel\">num_rel:</strong> <span style=\"font-size:20px;\"><a class=\"ProveItLink\" href=\"../__pv_it/demonstrations/97c2cd789f92aeb5958c71e9e8648177a398980b0/expr.ipynb\"><img src=\"data:image/png;base64,iVBORw0KGgoAAAANSUhEUgAAADEAAAAPBAMAAAC/wjryAAAAMFBMVEX///+6urqYmJgQEBDu7u5m\n",
       "ZmZUVFQyMjJERESqqqoiIiLc3NzMzMyIiIh2dnYAAABqS+z4AAAAAXRSTlMAQObYZgAAALpJREFU\n",
       "GNNjYEAHWhb95RYKDNhAgRvDCQ0HbDIN+xg4uBOQRTRWrSqAyrBuKECSOHEFoYd1QwOI9fbuASDJ\n",
       "UoJkGhsjyLRdEzhAWtk2IMnMCge5YB0D2wQgxYFwweZVy0EirF8g/MPlQAB1gSgHSAtzA0RmB5Kr\n",
       "WWVAgv4PIHxmZP+06AJpfmBAgE29gCRzjBXoXNYEBleQqxlWIoUO34QcIOOdEkS1W6MDLERrGDrq\n",
       "JyAFglzXKuQwAQDAXjdf5nEJUwAAAABJRU5ErkJggg==\n",
       "\" style=\"display:inline;vertical-align:middle;\" /></a>, <a class=\"ProveItLink\" href=\"../__pv_it/demonstrations/bd2f502b953df5e1834a5d80011e6b2e7aa85c890/expr.ipynb\"><img src=\"data:image/png;base64,iVBORw0KGgoAAAANSUhEUgAAADMAAAAPBAMAAAC7N+rPAAAAMFBMVEX///9UVFSqqqrMzMwiIiJE\n",
       "RESYmJgyMjK6urru7u4QEBCIiIh2dnZmZmbc3NwAAABRgo0vAAAAAXRSTlMAQObYZgAAAMpJREFU\n",
       "GNNjYMAAKUvjy5cmMGAFBRMZTFMnYJUKeMPAyieAIpTq4lIAleJ9UIAsY7oToYv3QQCQwXfn9kqQ\n",
       "AGclkoGMHCADux6wfwAJMD5AklK5DnQG5zIGXpBmBlaEM165uCsAad6fDCwbQAJW5UAAdUYvK8jt\n",
       "XAEM8w1AAk+RHM/bDDJo/gEGfbAAF7K/IrNBUgoM4kwgF/BuQJIy5AWaxLqBzZEHLOKEFFA8CsJA\n",
       "F0pvfrgDLDIxYgIseIsZQusVkIOjJ8QFOXgAnyk4ZcxDaYcAAAAASUVORK5CYII=\n",
       "\" style=\"display:inline;vertical-align:middle;\" /></a>, <a class=\"ProveItLink\" href=\"../__pv_it/demonstrations/02bd6ad73acd9f4d3192ee4c61bfdcabbff20f180/expr.ipynb\"><img src=\"data:image/png;base64,iVBORw0KGgoAAAANSUhEUgAAADQAAAAPBAMAAABZ6/G2AAAAMFBMVEX///8QEBBmZmaqqqrMzMxE\n",
       "REQyMjIiIiKYmJh2dna6urrc3NxUVFSIiIju7u4AAAA6P00QAAAAAXRSTlMAQObYZgAAAMRJREFU\n",
       "GNNjYMAAHIWh3xIjGLACNr4DLBFxWKVYuScwBOxBEWotL0+ASWmzIcu43kPSpc0KZLy9s+vmBSDN\n",
       "l4ds4IE1QJEJHLXsIHN4NiBJMRcBFXI+4PzHBRJlRXKGeHkyyBwG1gCwgGMaEECdMUsB4nb+C2Bq\n",
       "K7LjtVzBLH8HMMWILMX6Aqie+cF9Bt4HQAGmC0hSLAdUGBjWG8Qz7ACLFCMFFMNkHgeGN3ffajSA\n",
       "Rd5EPYAHrwNr2Gfk4FgZDgkoKAAAelg1omM6Y4wAAAAASUVORK5CYII=\n",
       "\" style=\"display:inline;vertical-align:middle;\" /></a>, <a class=\"ProveItLink\" href=\"../__pv_it/demonstrations/01066498eeade39164943c7fc785297aa9d0bb160/expr.ipynb\"><img src=\"data:image/png;base64,iVBORw0KGgoAAAANSUhEUgAAADEAAAAPBAMAAAC/wjryAAAAMFBMVEX////MzMyYmJjc3NyIiIhU\n",
       "VFR2dna6urqqqqpmZmYyMjIiIiIQEBBERETu7u4AAACIO4EmAAAAAXRSTlMAQObYZgAAANJJREFU\n",
       "GNNj4LuzgQEFaJ+9v+qsAojFNQFVhmHBUwZZ3QdABn8DmswFMwZe5gAgo/4BVER39+4FUBlOAxAr\n",
       "Gyoh64fQw2lwAchY6jIDxOdbh2QaKzvQNL5fD94bAPmsBkgy3bOAVnD8Y+B3APJ5ES6w2b0L5CrO\n",
       "BQzvE4C0zCoggLqgkvcBxDv1IBW2SK7mLAQ5gF+BYT5IBQ+yf+6pgGQK+A6B+JwOSDKinAJANynw\n",
       "QoJnB1LosDUEAl09JQki8PT6A1iILmS4ux45zMpuQ0IHCgBwWkIYWdoBRwAAAABJRU5ErkJggg==\n",
       "\" style=\"display:inline;vertical-align:middle;\" /></a>, <a class=\"ProveItLink\" href=\"../__pv_it/demonstrations/0886f5b6aacf5197ba709a53d4f3243edcc3de560/expr.ipynb\"><img src=\"data:image/png;base64,iVBORw0KGgoAAAANSUhEUgAAADMAAAASBAMAAAAEf/uKAAAAMFBMVEX///8iIiKYmJhUVFTMzMxE\n",
       "REQyMjKqqqq6urp2dnYQEBDc3NxmZmaIiIju7u4AAACH5sGpAAAAAXRSTlMAQObYZgAAAN1JREFU\n",
       "GNNjYMAAikvj05YqMGAFCY8ZXFUfYJUK2MnAym2AIqQqKJgAleLZkIAs43oPoYtnQwADA9+dCwy7\n",
       "QAbz5SEZyMwBNJCTYwHDfZAA8wYkqcJjQNXbeRIYQkECrAhn7BIUKwDSD7guMPwFCXilAQHUGT2s\n",
       "YLf3P2D5AqK3IjmepyUAxDjGwLsARHMh+ytOF8QIZmAFe4/nApKUM48DkHGYoR8SYOJIAcVZYAJk\n",
       "PL57HuLsxxEPYMGbwhCaXwCxDQI6AwVRgoc5ge8H9ghgYFRgvYBDiuPuERwyAAfzPe7bmvmqAAAA\n",
       "AElFTkSuQmCC\n",
       "\" style=\"display:inline;vertical-align:middle;\" /></a>, <a class=\"ProveItLink\" href=\"../../logic/equality/__pv_it/theorems/f58d07b97d304663195fa7545a00d5f28794fa300/expr.ipynb\"><img src=\"data:image/png;base64,iVBORw0KGgoAAAANSUhEUgAAADMAAAANBAMAAAD2/0vEAAAAMFBMVEX///8QEBBmZmaqqqrMzMxE\n",
       "REQyMjIiIiKYmJh2dna6urrc3NxUVFSIiIju7u4AAAA6P00QAAAAAXRSTlMAQObYZgAAAKFJREFU\n",
       "GNNjYHh7Z9fNCwwogO/SBYaNDxj4JnDUsicA+ZxpYKAAYnIJMNwHUg84/3FtQNW1mSmBIRSomYE1\n",
       "gAENPGC8wPAXxOC/gC7FsP4ByxcQ7e8A5kLtOgBiqzHwCjAwMD+4z8D7AE1XDAMrUMl6g3iGHegG\n",
       "6jCsb2BgeHP3rUYDutSbu/obGHABNRziPAl8v3BIsTewXsAhxXVXBUgCAM1cLDnk3FtcAAAAAElF\n",
       "TkSuQmCC\n",
       "\" style=\"display:inline;vertical-align:middle;\" /></a>, <a class=\"ProveItLink\" href=\"../__pv_it/demonstrations/6153190b4c58255ca4f69a4d07d43e6c8dcc19340/expr.ipynb\"><img src=\"data:image/png;base64,iVBORw0KGgoAAAANSUhEUgAAAC8AAAAUCAMAAAAqRJTwAAAAOVBMVEX///8kJCQNDQ0oKCi6urqY\n",
       "mJgQEBDu7u5mZmZUVFQyMjJERESqqqoiIiLc3NzMzMyIiIh2dnYAAACLQYzIAAAAAXRSTlMAQObY\n",
       "ZgAAAMpJREFUKM+1UksWwyAItK0KimmE+x+2YpI+zcfXLMrCBB0GBjDm2hjMHXvHLjg7nof4YBsn\n",
       "JmNgeo/oqXGcrzniiL7NTkHPJPAbvZGKt5JWLTnvtVB7AYILPivTVKJoK41jtddTT9ySCetnrvhJ\n",
       "/0Ma0Bc8LvgCxTMRc+jcth5PJ2pp12lZ+5NKKPdLoHU//KLim4UqqdNSxNWbrv64H2QzL1QSwFaf\n",
       "xUOB2kPwFcTsXO4e47EDUGYULvYt4a09PqMfWeK/0hs7evwA0nQHsYFPOOgAAAAASUVORK5CYII=\n",
       "\" style=\"display:inline;vertical-align:middle;\" /></a> <a class=\"ProveItLink\" href=\"../__pv_it/demonstrations/83a5149446a27e26e0b6e9bfc26e8d95bae887660/proof.ipynb\" style=\"text-decoration: none\">&nbsp;&#x22A2;&nbsp;&nbsp;</a><a class=\"ProveItLink\" href=\"../__pv_it/demonstrations/dc9786c9098beb02dc8917eb2475840b13c7c9290/expr.ipynb\"><img src=\"data:image/png;base64,iVBORw0KGgoAAAANSUhEUgAAAQEAAAAsBAMAAACXhxCSAAAAMFBMVEX///9UVFSqqqrMzMwiIiJE\n",
       "RESYmJgyMjK6urru7u4QEBCIiIh2dnZmZmbc3NwAAABRgo0vAAAAAXRSTlMAQObYZgAAArRJREFU\n",
       "WMPtl7FrE1Ecx78NSZprL+nhYIeA3OBs8xfYNoNLHeKig6gZRAeXgEJ0qHZwqoPXoQiWcg5GWwSJ\n",
       "dJGmwZtctFAR7dCCEYq4CCFCNCjV95J4d897kXs/MwjmC/e4vHvfT3733u/d3Q8QlcpDrkgNKqJz\n",
       "FqWd91lzSCkCOue6tHeWHXeUIiBz4lvCjJW7Jw126GWFAOicaE3mTLRYo91TiIDO2YPMqU/x9qpC\n",
       "BEqc1O7Oqvujyo6lJx83yoJzOF01gU3Po1fWgv/6aXPdEjg7SK2G4czXhutu10k2S058JloQnPY1\n",
       "bR+46AWdxalAAInHuOHnwJnHaD0ER3uAZI4vT7svy+Ky9FaiJjgnLHwDDvPT9l1GHRwIRHA3jzfu\n",
       "CMZJmduI5UJwki1E+QC7fdsrPJSOTy8WrzwsFg12ug3tOzDJ4/zCL72zJEvPOmfcEW3OI4yVQ3BG\n",
       "crAzPB6j60TbJ8Q+i0Sj48Q0b0qy5CtB++yOWOlk/mQmBMd2MOFhsrzp+jxnk88Ubv4axG8kINYZ\n",
       "qQucZAHrYTi2iXHvWc0yKGI9w6glOL/yRfZlUJNdCkTQwFDhiD8TYwZOIAQnVo5P624f2ym3zXP4\n",
       "IDoP4gxrd91Rr6C9DkzCaZw3HB8HSSPRDMPR0mvvn7p9bIYWKktv86JzeYN3XPa28fNLwWVYqBxN\n",
       "z/k4jFzdV+fIn6adaZ5SfionC+oc8Y2i+Xed8ptpHPYcgXO25xW1tzPjHGOpQeAsEmLrwblVzVA4\n",
       "Pb+u4n36SlPk/PNij3yuLQz0l/pBVP03zlifOKQ8MAbrONBAA/0HktanFL2oZEg+aX1K0Z4ZK5CM\n",
       "0vqUouMYMklGaX1KEK/UaCr1KZ1GckSjtD6lyHaoTll9StEY+2ym5YG0PqXkgYFl2m6U1qcUvbzw\n",
       "p0LtJ5X1T5EUqDchAAAAAElFTkSuQmCC\n",
       "\" style=\"display:inline;vertical-align:middle;\" /></a></span><br>"
      ],
      "text/plain": [
       "num_rel: {c in Real, a in Real, x in Real, b in Real, y in Real, x = y, c != 0} |- (a * (x + b) * c) / c = (a * (y + b) * c) / c"
      ]
     },
     "execution_count": 10,
     "metadata": {},
     "output_type": "execute_result"
    }
   ],
   "source": [
    "num_rel = num_rel.divide_both_sides(c)"
   ]
  },
  {
   "cell_type": "code",
   "execution_count": 11,
   "metadata": {},
   "outputs": [],
   "source": [
    "# After implementing some division closure automation, we should be able to get this to work \n",
    "#num_rel.square()"
   ]
  },
  {
   "cell_type": "code",
   "execution_count": 12,
   "metadata": {},
   "outputs": [
    {
     "data": {
      "text/html": [
       "<strong id=\"num_rel\">num_rel:</strong> <span style=\"font-size:20px;\"><a class=\"ProveItLink\" href=\"../__pv_it/demonstrations/02bd6ad73acd9f4d3192ee4c61bfdcabbff20f180/expr.ipynb\"><img src=\"data:image/png;base64,iVBORw0KGgoAAAANSUhEUgAAADQAAAAPBAMAAABZ6/G2AAAAMFBMVEX///8QEBBmZmaqqqrMzMxE\n",
       "REQyMjIiIiKYmJh2dna6urrc3NxUVFSIiIju7u4AAAA6P00QAAAAAXRSTlMAQObYZgAAAMRJREFU\n",
       "GNNjYMAAHIWh3xIjGLACNr4DLBFxWKVYuScwBOxBEWotL0+ASWmzIcu43kPSpc0KZLy9s+vmBSDN\n",
       "l4ds4IE1QJEJHLXsIHN4NiBJMRcBFXI+4PzHBRJlRXKGeHkyyBwG1gCwgGMaEECdMUsB4nb+C2Bq\n",
       "K7LjtVzBLH8HMMWILMX6Aqie+cF9Bt4HQAGmC0hSLAdUGBjWG8Qz7ACLFCMFFMNkHgeGN3ffajSA\n",
       "Rd5EPYAHrwNr2Gfk4FgZDgkoKAAAelg1omM6Y4wAAAAASUVORK5CYII=\n",
       "\" style=\"display:inline;vertical-align:middle;\" /></a>, <a class=\"ProveItLink\" href=\"../__pv_it/demonstrations/0886f5b6aacf5197ba709a53d4f3243edcc3de560/expr.ipynb\"><img src=\"data:image/png;base64,iVBORw0KGgoAAAANSUhEUgAAADMAAAASBAMAAAAEf/uKAAAAMFBMVEX///8iIiKYmJhUVFTMzMxE\n",
       "REQyMjKqqqq6urp2dnYQEBDc3NxmZmaIiIju7u4AAACH5sGpAAAAAXRSTlMAQObYZgAAAN1JREFU\n",
       "GNNjYMAAikvj05YqMGAFCY8ZXFUfYJUK2MnAym2AIqQqKJgAleLZkIAs43oPoYtnQwADA9+dCwy7\n",
       "QAbz5SEZyMwBNJCTYwHDfZAA8wYkqcJjQNXbeRIYQkECrAhn7BIUKwDSD7guMPwFCXilAQHUGT2s\n",
       "YLf3P2D5AqK3IjmepyUAxDjGwLsARHMh+ytOF8QIZmAFe4/nApKUM48DkHGYoR8SYOJIAcVZYAJk\n",
       "PL57HuLsxxEPYMGbwhCaXwCxDQI6AwVRgoc5ge8H9ghgYFRgvYBDiuPuERwyAAfzPe7bmvmqAAAA\n",
       "AElFTkSuQmCC\n",
       "\" style=\"display:inline;vertical-align:middle;\" /></a>, <a class=\"ProveItLink\" href=\"../../logic/equality/__pv_it/theorems/f58d07b97d304663195fa7545a00d5f28794fa300/expr.ipynb\"><img src=\"data:image/png;base64,iVBORw0KGgoAAAANSUhEUgAAADMAAAANBAMAAAD2/0vEAAAAMFBMVEX///8QEBBmZmaqqqrMzMxE\n",
       "REQyMjIiIiKYmJh2dna6urrc3NxUVFSIiIju7u4AAAA6P00QAAAAAXRSTlMAQObYZgAAAKFJREFU\n",
       "GNNjYHh7Z9fNCwwogO/SBYaNDxj4JnDUsicA+ZxpYKAAYnIJMNwHUg84/3FtQNW1mSmBIRSomYE1\n",
       "gAENPGC8wPAXxOC/gC7FsP4ByxcQ7e8A5kLtOgBiqzHwCjAwMD+4z8D7AE1XDAMrUMl6g3iGHegG\n",
       "6jCsb2BgeHP3rUYDutSbu/obGHABNRziPAl8v3BIsTewXsAhxXVXBUgCAM1cLDnk3FtcAAAAAElF\n",
       "TkSuQmCC\n",
       "\" style=\"display:inline;vertical-align:middle;\" /></a> <a class=\"ProveItLink\" href=\"../__pv_it/demonstrations/db610ba08495e3a5a40554318c45a7d612b9c4640/proof.ipynb\" style=\"text-decoration: none\">&nbsp;&#x22A2;&nbsp;&nbsp;</a><a class=\"ProveItLink\" href=\"../__pv_it/demonstrations/0f6f19b139ff320095b137a19a5a807b1b6351a60/expr.ipynb\"><img src=\"data:image/png;base64,iVBORw0KGgoAAAANSUhEUgAAAEQAAAAYBAMAAACxcUYNAAAAMFBMVEX///8QEBBmZmaqqqrMzMxE\n",
       "REQyMjIiIiKYmJh2dna6urrc3NxUVFSIiIju7u4AAAA6P00QAAAAAXRSTlMAQObYZgAAAPBJREFU\n",
       "KM9jYICASUEPGLABhDjnBp4EbCqQxNk3sPzGpgRJnH0B9y+sSpDFmf9hdQuyOPsF7EqQxCdhV4Ek\n",
       "zqGAXQWS+EqGJViVIMRZko3jsKlAEmf8//8DNiUQ8bd3dt3E5pu3ugzccmAW3wSOWnZ44E9LA4Ek\n",
       "EHPCQgZeiMmcDzj/cW3ANITbQI2BNQBiCoyBBvgYZBn4YQ7gxx6uXP8Y/B2gbDgD7pYcEJMpgeEi\n",
       "NJoe3GfgxZacWA8wxEBY6w3iGXZgs4jpANcPCOvN3bcaDVjde/bSbwZCgCmBgIJjDO8XEFBSwRBL\n",
       "yJq1l6CBAQBMBEcgSQgikAAAAABJRU5ErkJggg==\n",
       "\" style=\"display:inline;vertical-align:middle;\" /></a></span><br>"
      ],
      "text/plain": [
       "num_rel: {x in Real, y in Real, x = y} |- x^{2} = y^{2}"
      ]
     },
     "execution_count": 12,
     "metadata": {},
     "output_type": "execute_result"
    }
   ],
   "source": [
    "num_rel = Equals(x, y)\n",
    "num_rel = num_rel.square_both_sides()"
   ]
  },
  {
   "cell_type": "code",
   "execution_count": 13,
   "metadata": {},
   "outputs": [
    {
     "data": {
      "text/html": [
       "<span style=\"font-size:20px;\"><a class=\"ProveItLink\" href=\"../__pv_it/demonstrations/02bd6ad73acd9f4d3192ee4c61bfdcabbff20f180/expr.ipynb\"><img src=\"data:image/png;base64,iVBORw0KGgoAAAANSUhEUgAAADQAAAAPBAMAAABZ6/G2AAAAMFBMVEX///8QEBBmZmaqqqrMzMxE\n",
       "REQyMjIiIiKYmJh2dna6urrc3NxUVFSIiIju7u4AAAA6P00QAAAAAXRSTlMAQObYZgAAAMRJREFU\n",
       "GNNjYMAAHIWh3xIjGLACNr4DLBFxWKVYuScwBOxBEWotL0+ASWmzIcu43kPSpc0KZLy9s+vmBSDN\n",
       "l4ds4IE1QJEJHLXsIHN4NiBJMRcBFXI+4PzHBRJlRXKGeHkyyBwG1gCwgGMaEECdMUsB4nb+C2Bq\n",
       "K7LjtVzBLH8HMMWILMX6Aqie+cF9Bt4HQAGmC0hSLAdUGBjWG8Qz7ACLFCMFFMNkHgeGN3ffajSA\n",
       "Rd5EPYAHrwNr2Gfk4FgZDgkoKAAAelg1omM6Y4wAAAAASUVORK5CYII=\n",
       "\" style=\"display:inline;vertical-align:middle;\" /></a>, <a class=\"ProveItLink\" href=\"../__pv_it/demonstrations/0886f5b6aacf5197ba709a53d4f3243edcc3de560/expr.ipynb\"><img src=\"data:image/png;base64,iVBORw0KGgoAAAANSUhEUgAAADMAAAASBAMAAAAEf/uKAAAAMFBMVEX///8iIiKYmJhUVFTMzMxE\n",
       "REQyMjKqqqq6urp2dnYQEBDc3NxmZmaIiIju7u4AAACH5sGpAAAAAXRSTlMAQObYZgAAAN1JREFU\n",
       "GNNjYMAAikvj05YqMGAFCY8ZXFUfYJUK2MnAym2AIqQqKJgAleLZkIAs43oPoYtnQwADA9+dCwy7\n",
       "QAbz5SEZyMwBNJCTYwHDfZAA8wYkqcJjQNXbeRIYQkECrAhn7BIUKwDSD7guMPwFCXilAQHUGT2s\n",
       "YLf3P2D5AqK3IjmepyUAxDjGwLsARHMh+ytOF8QIZmAFe4/nApKUM48DkHGYoR8SYOJIAcVZYAJk\n",
       "PL57HuLsxxEPYMGbwhCaXwCxDQI6AwVRgoc5ge8H9ghgYFRgvYBDiuPuERwyAAfzPe7bmvmqAAAA\n",
       "AElFTkSuQmCC\n",
       "\" style=\"display:inline;vertical-align:middle;\" /></a>, <a class=\"ProveItLink\" href=\"../../logic/equality/__pv_it/theorems/f58d07b97d304663195fa7545a00d5f28794fa300/expr.ipynb\"><img src=\"data:image/png;base64,iVBORw0KGgoAAAANSUhEUgAAADMAAAANBAMAAAD2/0vEAAAAMFBMVEX///8QEBBmZmaqqqrMzMxE\n",
       "REQyMjIiIiKYmJh2dna6urrc3NxUVFSIiIju7u4AAAA6P00QAAAAAXRSTlMAQObYZgAAAKFJREFU\n",
       "GNNjYHh7Z9fNCwwogO/SBYaNDxj4JnDUsicA+ZxpYKAAYnIJMNwHUg84/3FtQNW1mSmBIRSomYE1\n",
       "gAENPGC8wPAXxOC/gC7FsP4ByxcQ7e8A5kLtOgBiqzHwCjAwMD+4z8D7AE1XDAMrUMl6g3iGHegG\n",
       "6jCsb2BgeHP3rUYDutSbu/obGHABNRziPAl8v3BIsTewXsAhxXVXBUgCAM1cLDnk3FtcAAAAAElF\n",
       "TkSuQmCC\n",
       "\" style=\"display:inline;vertical-align:middle;\" /></a> <a class=\"ProveItLink\" href=\"../__pv_it/demonstrations/1c10a0f0ce740a4ac466b93f484e1d3431ed8b100/proof.ipynb\" style=\"text-decoration: none\">&nbsp;&#x22A2;&nbsp;&nbsp;</a><a class=\"ProveItLink\" href=\"../__pv_it/demonstrations/5e8f2692e6d1536d0ed9a6665836d01e5edccdb00/expr.ipynb\"><img src=\"data:image/png;base64,iVBORw0KGgoAAAANSUhEUgAAAI4AAAAaBAMAAACTJHluAAAAMFBMVEX////MzMwQEBCIiIgiIiKY\n",
       "mJiqqqp2dnbu7u4yMjK6urpUVFRERETc3NxmZmYAAAACInZpAAAAAXRSTlMAQObYZgAAAkhJREFU\n",
       "OMutlT1oFEEUx/+X21w2e7vntVYXsLEzmCaFHAciYkCSQosUSgqJFooLQbAxLipIKmMTYqozUSxE\n",
       "PLBKEQjaCBrZJoVVDiz8QPBElJAQ9O3szO6b29njCh/MsTPzm/c1894BSn78zUgHZjGgyZ63iX6l\n",
       "J1pu9q2nJ/qRfQ99/4I+0fkPgb75jX3fwnovPQwdCsuL2p4dTbfl5CxqYSnMU8NRKywc4BoPZYYA\n",
       "lb8J7DSxkaeHo1bT20OZmVygMZzOrwdixSg6WtqNHZRyg8bFdHqSzI7m6NFRi7C5dLMh0pK43ibX\n",
       "R3L06Og8jTvJrDhFz6uRTIW5FbMaHR1sR1EmD8qKgMiJsY21OTi+U40tGUShdz/BO4pneBy7Dzva\n",
       "HKPhkqH7ODd6Bodnr9LrmhYRPhLSjm+co/4qip3C0uxbcooS7Z1WMVt0nzdxO3iBY6LuLmXqiqPe\n",
       "zFe4mwOimEu09vR1FKVPPwMUZYD3ybFatx4NtXEEh+SVFqLG8JJ8tAKpB/iVr0dHnV3UqkyPRU5d\n",
       "howLhZ/JqScsP604xRytLOK4JJ0o1uIesAyZvCvFDsbl7nT2yjnqtvBOXX70oO19lNry8Tl/3I43\n",
       "JXc/ZyuUoai0nN9yveKLLhnG1ULe2a/G6+fVqYeGhpqixNYP5PKwyNOO/1y1C814I6tHRyuqPu+J\n",
       "X3dki1VDWmOGOuXoOh6ocojr1NlvSSrsbg/dwtFTeMMbG8mkfAa29j+wZSouhq7Vq9Dtn1DUNjsx\n",
       "aOyrRvQC/p/8Ay4Nw22al3SXAAAAAElFTkSuQmCC\n",
       "\" style=\"display:inline;vertical-align:middle;\" /></a></span>"
      ],
      "text/plain": [
       "{x in Real, y in Real, x = y} |- sqrt((x^{2})) = sqrt((y^{2}))"
      ]
     },
     "execution_count": 13,
     "metadata": {},
     "output_type": "execute_result"
    }
   ],
   "source": [
    "num_rel.square_root_both_sides(simplify=False)"
   ]
  },
  {
   "cell_type": "code",
   "execution_count": 14,
   "metadata": {},
   "outputs": [
    {
     "data": {
      "text/html": [
       "<strong id=\"num_rel\">num_rel:</strong> <span style=\"font-size:20px;\"><a class=\"ProveItLink\" href=\"../__pv_it/demonstrations/02bd6ad73acd9f4d3192ee4c61bfdcabbff20f180/expr.ipynb\"><img src=\"data:image/png;base64,iVBORw0KGgoAAAANSUhEUgAAADQAAAAPBAMAAABZ6/G2AAAAMFBMVEX///8QEBBmZmaqqqrMzMxE\n",
       "REQyMjIiIiKYmJh2dna6urrc3NxUVFSIiIju7u4AAAA6P00QAAAAAXRSTlMAQObYZgAAAMRJREFU\n",
       "GNNjYMAAHIWh3xIjGLACNr4DLBFxWKVYuScwBOxBEWotL0+ASWmzIcu43kPSpc0KZLy9s+vmBSDN\n",
       "l4ds4IE1QJEJHLXsIHN4NiBJMRcBFXI+4PzHBRJlRXKGeHkyyBwG1gCwgGMaEECdMUsB4nb+C2Bq\n",
       "K7LjtVzBLH8HMMWILMX6Aqie+cF9Bt4HQAGmC0hSLAdUGBjWG8Qz7ACLFCMFFMNkHgeGN3ffajSA\n",
       "Rd5EPYAHrwNr2Gfk4FgZDgkoKAAAelg1omM6Y4wAAAAASUVORK5CYII=\n",
       "\" style=\"display:inline;vertical-align:middle;\" /></a>, <a class=\"ProveItLink\" href=\"../__pv_it/demonstrations/0886f5b6aacf5197ba709a53d4f3243edcc3de560/expr.ipynb\"><img src=\"data:image/png;base64,iVBORw0KGgoAAAANSUhEUgAAADMAAAASBAMAAAAEf/uKAAAAMFBMVEX///8iIiKYmJhUVFTMzMxE\n",
       "REQyMjKqqqq6urp2dnYQEBDc3NxmZmaIiIju7u4AAACH5sGpAAAAAXRSTlMAQObYZgAAAN1JREFU\n",
       "GNNjYMAAikvj05YqMGAFCY8ZXFUfYJUK2MnAym2AIqQqKJgAleLZkIAs43oPoYtnQwADA9+dCwy7\n",
       "QAbz5SEZyMwBNJCTYwHDfZAA8wYkqcJjQNXbeRIYQkECrAhn7BIUKwDSD7guMPwFCXilAQHUGT2s\n",
       "YLf3P2D5AqK3IjmepyUAxDjGwLsARHMh+ytOF8QIZmAFe4/nApKUM48DkHGYoR8SYOJIAcVZYAJk\n",
       "PL57HuLsxxEPYMGbwhCaXwCxDQI6AwVRgoc5ge8H9ghgYFRgvYBDiuPuERwyAAfzPe7bmvmqAAAA\n",
       "AElFTkSuQmCC\n",
       "\" style=\"display:inline;vertical-align:middle;\" /></a>, <a class=\"ProveItLink\" href=\"../../logic/equality/__pv_it/theorems/f58d07b97d304663195fa7545a00d5f28794fa300/expr.ipynb\"><img src=\"data:image/png;base64,iVBORw0KGgoAAAANSUhEUgAAADMAAAANBAMAAAD2/0vEAAAAMFBMVEX///8QEBBmZmaqqqrMzMxE\n",
       "REQyMjIiIiKYmJh2dna6urrc3NxUVFSIiIju7u4AAAA6P00QAAAAAXRSTlMAQObYZgAAAKFJREFU\n",
       "GNNjYHh7Z9fNCwwogO/SBYaNDxj4JnDUsicA+ZxpYKAAYnIJMNwHUg84/3FtQNW1mSmBIRSomYE1\n",
       "gAENPGC8wPAXxOC/gC7FsP4ByxcQ7e8A5kLtOgBiqzHwCjAwMD+4z8D7AE1XDAMrUMl6g3iGHegG\n",
       "6jCsb2BgeHP3rUYDutSbu/obGHABNRziPAl8v3BIsTewXsAhxXVXBUgCAM1cLDnk3FtcAAAAAElF\n",
       "TkSuQmCC\n",
       "\" style=\"display:inline;vertical-align:middle;\" /></a> <a class=\"ProveItLink\" href=\"../__pv_it/demonstrations/1c10a0f0ce740a4ac466b93f484e1d3431ed8b100/proof.ipynb\" style=\"text-decoration: none\">&nbsp;&#x22A2;&nbsp;&nbsp;</a><a class=\"ProveItLink\" href=\"../__pv_it/demonstrations/5e8f2692e6d1536d0ed9a6665836d01e5edccdb00/expr.ipynb\"><img src=\"data:image/png;base64,iVBORw0KGgoAAAANSUhEUgAAAI4AAAAaBAMAAACTJHluAAAAMFBMVEX////MzMwQEBCIiIgiIiKY\n",
       "mJiqqqp2dnbu7u4yMjK6urpUVFRERETc3NxmZmYAAAACInZpAAAAAXRSTlMAQObYZgAAAkhJREFU\n",
       "OMutlT1oFEEUx/+X21w2e7vntVYXsLEzmCaFHAciYkCSQosUSgqJFooLQbAxLipIKmMTYqozUSxE\n",
       "PLBKEQjaCBrZJoVVDiz8QPBElJAQ9O3szO6b29njCh/MsTPzm/c1894BSn78zUgHZjGgyZ63iX6l\n",
       "J1pu9q2nJ/qRfQ99/4I+0fkPgb75jX3fwnovPQwdCsuL2p4dTbfl5CxqYSnMU8NRKywc4BoPZYYA\n",
       "lb8J7DSxkaeHo1bT20OZmVygMZzOrwdixSg6WtqNHZRyg8bFdHqSzI7m6NFRi7C5dLMh0pK43ibX\n",
       "R3L06Og8jTvJrDhFz6uRTIW5FbMaHR1sR1EmD8qKgMiJsY21OTi+U40tGUShdz/BO4pneBy7Dzva\n",
       "HKPhkqH7ODd6Bodnr9LrmhYRPhLSjm+co/4qip3C0uxbcooS7Z1WMVt0nzdxO3iBY6LuLmXqiqPe\n",
       "zFe4mwOimEu09vR1FKVPPwMUZYD3ybFatx4NtXEEh+SVFqLG8JJ8tAKpB/iVr0dHnV3UqkyPRU5d\n",
       "howLhZ/JqScsP604xRytLOK4JJ0o1uIesAyZvCvFDsbl7nT2yjnqtvBOXX70oO19lNry8Tl/3I43\n",
       "JXc/ZyuUoai0nN9yveKLLhnG1ULe2a/G6+fVqYeGhpqixNYP5PKwyNOO/1y1C814I6tHRyuqPu+J\n",
       "X3dki1VDWmOGOuXoOh6ocojr1NlvSSrsbg/dwtFTeMMbG8mkfAa29j+wZSouhq7Vq9Dtn1DUNjsx\n",
       "aOyrRvQC/p/8Ay4Nw22al3SXAAAAAElFTkSuQmCC\n",
       "\" style=\"display:inline;vertical-align:middle;\" /></a></span><br>"
      ],
      "text/plain": [
       "num_rel: {x in Real, y in Real, x = y} |- sqrt((x^{2})) = sqrt((y^{2}))"
      ]
     },
     "execution_count": 14,
     "metadata": {},
     "output_type": "execute_result"
    }
   ],
   "source": [
    "num_rel = num_rel.square_root_both_sides()"
   ]
  },
  {
   "cell_type": "code",
   "execution_count": 15,
   "metadata": {},
   "outputs": [
    {
     "data": {
      "text/html": [
       "<span style=\"font-size:20px;\"><a class=\"ProveItLink\" href=\"../__pv_it/demonstrations/97c2cd789f92aeb5958c71e9e8648177a398980b0/expr.ipynb\"><img src=\"data:image/png;base64,iVBORw0KGgoAAAANSUhEUgAAADEAAAAPBAMAAAC/wjryAAAAMFBMVEX///+6urqYmJgQEBDu7u5m\n",
       "ZmZUVFQyMjJERESqqqoiIiLc3NzMzMyIiIh2dnYAAABqS+z4AAAAAXRSTlMAQObYZgAAALpJREFU\n",
       "GNNjYEAHWhb95RYKDNhAgRvDCQ0HbDIN+xg4uBOQRTRWrSqAyrBuKECSOHEFoYd1QwOI9fbuASDJ\n",
       "UoJkGhsjyLRdEzhAWtk2IMnMCge5YB0D2wQgxYFwweZVy0EirF8g/MPlQAB1gSgHSAtzA0RmB5Kr\n",
       "WWVAgv4PIHxmZP+06AJpfmBAgE29gCRzjBXoXNYEBleQqxlWIoUO34QcIOOdEkS1W6MDLERrGDrq\n",
       "JyAFglzXKuQwAQDAXjdf5nEJUwAAAABJRU5ErkJggg==\n",
       "\" style=\"display:inline;vertical-align:middle;\" /></a>, <a class=\"ProveItLink\" href=\"../__pv_it/demonstrations/02bd6ad73acd9f4d3192ee4c61bfdcabbff20f180/expr.ipynb\"><img src=\"data:image/png;base64,iVBORw0KGgoAAAANSUhEUgAAADQAAAAPBAMAAABZ6/G2AAAAMFBMVEX///8QEBBmZmaqqqrMzMxE\n",
       "REQyMjIiIiKYmJh2dna6urrc3NxUVFSIiIju7u4AAAA6P00QAAAAAXRSTlMAQObYZgAAAMRJREFU\n",
       "GNNjYMAAHIWh3xIjGLACNr4DLBFxWKVYuScwBOxBEWotL0+ASWmzIcu43kPSpc0KZLy9s+vmBSDN\n",
       "l4ds4IE1QJEJHLXsIHN4NiBJMRcBFXI+4PzHBRJlRXKGeHkyyBwG1gCwgGMaEECdMUsB4nb+C2Bq\n",
       "K7LjtVzBLH8HMMWILMX6Aqie+cF9Bt4HQAGmC0hSLAdUGBjWG8Qz7ACLFCMFFMNkHgeGN3ffajSA\n",
       "Rd5EPYAHrwNr2Gfk4FgZDgkoKAAAelg1omM6Y4wAAAAASUVORK5CYII=\n",
       "\" style=\"display:inline;vertical-align:middle;\" /></a>, <a class=\"ProveItLink\" href=\"../__pv_it/demonstrations/0886f5b6aacf5197ba709a53d4f3243edcc3de560/expr.ipynb\"><img src=\"data:image/png;base64,iVBORw0KGgoAAAANSUhEUgAAADMAAAASBAMAAAAEf/uKAAAAMFBMVEX///8iIiKYmJhUVFTMzMxE\n",
       "REQyMjKqqqq6urp2dnYQEBDc3NxmZmaIiIju7u4AAACH5sGpAAAAAXRSTlMAQObYZgAAAN1JREFU\n",
       "GNNjYMAAikvj05YqMGAFCY8ZXFUfYJUK2MnAym2AIqQqKJgAleLZkIAs43oPoYtnQwADA9+dCwy7\n",
       "QAbz5SEZyMwBNJCTYwHDfZAA8wYkqcJjQNXbeRIYQkECrAhn7BIUKwDSD7guMPwFCXilAQHUGT2s\n",
       "YLf3P2D5AqK3IjmepyUAxDjGwLsARHMh+ytOF8QIZmAFe4/nApKUM48DkHGYoR8SYOJIAcVZYAJk\n",
       "PL57HuLsxxEPYMGbwhCaXwCxDQI6AwVRgoc5ge8H9ghgYFRgvYBDiuPuERwyAAfzPe7bmvmqAAAA\n",
       "AElFTkSuQmCC\n",
       "\" style=\"display:inline;vertical-align:middle;\" /></a>, <a class=\"ProveItLink\" href=\"../../logic/equality/__pv_it/theorems/f58d07b97d304663195fa7545a00d5f28794fa300/expr.ipynb\"><img src=\"data:image/png;base64,iVBORw0KGgoAAAANSUhEUgAAADMAAAANBAMAAAD2/0vEAAAAMFBMVEX///8QEBBmZmaqqqrMzMxE\n",
       "REQyMjIiIiKYmJh2dna6urrc3NxUVFSIiIju7u4AAAA6P00QAAAAAXRSTlMAQObYZgAAAKFJREFU\n",
       "GNNjYHh7Z9fNCwwogO/SBYaNDxj4JnDUsicA+ZxpYKAAYnIJMNwHUg84/3FtQNW1mSmBIRSomYE1\n",
       "gAENPGC8wPAXxOC/gC7FsP4ByxcQ7e8A5kLtOgBiqzHwCjAwMD+4z8D7AE1XDAMrUMl6g3iGHegG\n",
       "6jCsb2BgeHP3rUYDutSbu/obGHABNRziPAl8v3BIsTewXsAhxXVXBUgCAM1cLDnk3FtcAAAAAElF\n",
       "TkSuQmCC\n",
       "\" style=\"display:inline;vertical-align:middle;\" /></a> <a class=\"ProveItLink\" href=\"../__pv_it/demonstrations/16e36497534a54251eade71f11275c44b9f1ced30/proof.ipynb\" style=\"text-decoration: none\">&nbsp;&#x22A2;&nbsp;&nbsp;</a><a class=\"ProveItLink\" href=\"../__pv_it/demonstrations/00c19d1bcbf254f30d875f7403b628041b576ee60/expr.ipynb\"><img src=\"data:image/png;base64,iVBORw0KGgoAAAANSUhEUgAAANQAAAAaBAMAAAA9Em/vAAAAMFBMVEX///+6urqYmJgQEBDu7u5m\n",
       "ZmZUVFQyMjJERESqqqoiIiLc3NzMzMyIiIh2dnYAAABqS+z4AAAAAXRSTlMAQObYZgAAApFJREFU\n",
       "SMe9lk1oE0EUx//bbNL9SNKg4EGtloIU9NKD4EkMiAiCNoKgF21uPRQhghAUDwE/EIqQgweroNGL\n",
       "B7EuvQhempvHBGzAS2ARe5JoKqEgVfTtZjY7s9mv5OCDDfPxfvPmvZl5L0CwLP4dki5iig8boq1X\n",
       "MLaMyKZy45sakX3PtbNXLo3Nbt3PR6lf5NrfsDSSKY7NGqlShLZsKayzzhs0DNWIbYlnNSO9i2eh\n",
       "6tkqIc7pvsRGDsuxTfGsltO3kQrd5ln6Jl2NF3l7JJ6IrNrru+mK2hS6X+g74nbf0l6bgWuHshpN\n",
       "dsLUa/YRDUJSoJDMxzUlslv0nQ5Rz8zQQ6wNuvYeb8Q0JbITBSuc9kPrtOs+6pqFWK60l6c7kEyp\n",
       "3t+eKOHs+avQj+MQDvajgg9VpSSqy9ZPmz6FdncBR5uv8XH1Cb3DOTuUZVssNIo19yLTTd9avUeu\n",
       "WXprSFUFdX3NCbdGE1/xI38Ap+xs+dTrVDirVy9DqSTsJK3SWLIHttfbJ8rlIjX33LUCbNJPggKc\n",
       "x8PByg2PpQhWxklMsT2kyVyiMnS0h8l3Lc9MAX8CTUWxUg+NumtqwRxS18jZ52ABRPr3YOn93FlZ\n",
       "PkSxyRI+sXGJxqdoG2K8kdkGboId7eNMF5tsYs7jVRSrFPHAufF0LZJFnPFcWHkHaoG9W+mX0tVn\n",
       "2MQ171mFszQv/XRUrQB8n216n+Gi0U9g5LV8fbM164zf8d7AcJbg1i4bnqz7v/gNc59TO4TSUIuR\n",
       "LUQ26aTZc+JKg2KpzK9w6cjNg8Hp1p9dwoJT+DsBoLRTZJzhLQ2RwrOv8Iivlb7yjkVWFv74rMSq\n",
       "VRw73XJOSAksjZ+dxjo3OBGv4Puyx/Bf5R+Iou62dN2BkgAAAABJRU5ErkJggg==\n",
       "\" style=\"display:inline;vertical-align:middle;\" /></a></span>"
      ],
      "text/plain": [
       "{c in Real, x in Real, y in Real, x = y} |- c + sqrt((x^{2})) = c + sqrt((y^{2}))"
      ]
     },
     "execution_count": 15,
     "metadata": {},
     "output_type": "execute_result"
    }
   ],
   "source": [
    "num_rel.left_add_both_sides(c)"
   ]
  },
  {
   "cell_type": "code",
   "execution_count": 16,
   "metadata": {},
   "outputs": [
    {
     "name": "stdout",
     "output_type": "stream",
     "text": [
      "Expression notebook is being updated for (a in Real, b in Real, c in Real, d in Real, x in Real, y in Real, 0 < a, b >= 0, c < 0, d <= 0, c != 0, x < y)\n"
     ]
    },
    {
     "data": {
      "text/html": [
       "<strong id=\"defaults.assumptions\">defaults.assumptions:</strong> <a class=\"ProveItLink\" href=\"../__pv_it/demonstrations/1014c2d5b55dcb864ed85c52a7be3e676d14b3140/expr.ipynb\"><img src=\"data:image/png;base64,iVBORw0KGgoAAAANSUhEUgAAAsMAAAAUCAMAAABf9sDOAAAAOVBMVEX///8kJCQNDQ0oKChUVFTM\n",
       "zMx2dna6uroQEBCqqqqIiIgiIiJmZmYyMjJERETu7u6YmJjc3NwAAABfYoQ1AAAAAXRSTlMAQObY\n",
       "ZgAABXNJREFUaN7tW9t25CgMZHcNmDv4/z92wfTFIIEN7Z7JQ3iYnOS4VEIFksAeQggJnvyO3/EH\n",
       "BnM3GxQh/3T22vNerdZuxqy2XvPOrmoSOk+aB7Wr/gLtF8FMekYn5DoN8mfmW7hugAcZg7nD02Is\n",
       "eRGbcBVgiFvSrLyt95PR01DyIXITX6H9FthEd50KM3oVQXZKY17Nmu/gkABLRWcYF35PII5h2LeF\n",
       "15cBlgSWfywjC6kPJZ8h+ea+QvslsF/3FGSwumhOslIVZGEWsAI65ruEHRwIsGNKTjEGO+tpJzws\n",
       "+dLZCt6qOEytiw7EnMyzRrah86SPOah7aMeZpyZs9xUt4MbzSp/kJLhbuVkqXZvmsXbnQNjBsbKD\n",
       "CVr5ScbC2QFcNzwu7oXQbLKolQ7NLdGa7c4TItvQeVJQYD+gnWGemvC25OUo6uJ8ftxhCiO2/IJ5\n",
       "gnQDBWEHV3QwYTHVI5cZyzQ8gDsJj+FE6tcGY1qu7tBpuEZ9XAiviqtZpNSig2xDYzGQks6QJo8l\n",
       "3aZonZRL4JLJiek6qRMsvGN1ndltOksnm8UZVwMEGV1VqPkqxBhhA1cFOO4Yw+s0iCMBZYoIPcVB\n",
       "WVBvCwGYJs+DM19jrjYbOPFBXYTSlWZui39wW2gjm9CgYoismSDNHtt3MRqgdSxVJ0kOxf86M4vM\n",
       "KTdsZJw5bGxfDAfpXFWccTVAkIvqHtrmQYgxQhQHAmwt7EhxZEHJzD7++zf9q3s4RBbM21IAb4gS\n",
       "j7YiPantUQRMlzV1fXUyyF3Nyx1LrkPVnqzEBOnDY9NzuAVOlYlFp3kYn24QmdTaCeaQ0w/NCu7r\n",
       "3wisyavVAEEuWsW2eRhijBDFgQBLBTomHFlTwjSM4xBZEG8rAYQia64Oeo/QIWnT1TxHkVt4TN31\n",
       "THaT7ukOhmxBddnTD5Fmj1kP2wK7cg0OMcffVlmspgFmUEIduoaBGiDIeKuIVegqxCghWtnrAO/b\n",
       "pe5LO8iqc1/OcVAWzNtKALo91/Bqd8O00YEf6qPm1GJt/6s9D5Zchq620/b3SR8e8x62CQYZbYR5\n",
       "vyCg71iNMG+P47hoHvRRNUCQG60iNF+HGCdEcCDAjxuu6n6giazjEc4ZCVJoMG8LAeIazr1E3t/i\n",
       "2ICtrR7POl/xbL7YfCu5CgVp5Top9Pg6bZ46nWTOGVGuU8w5zfgiUSFHLKAGCDIuLzQPMzd2iETc\n",
       "Qp2AF3pN5LtDSAXqn0etWnqBQGRBvS0E4OpxpnP7fljM6wV0fFA2dIlVQZdEaa/m7qmFbEG3DBLj\n",
       "pNDjAVrh8ong0N8NTHe/2rSH2jjA3LjaLy+PEDVAkJFrLtx8HWL0tgrBoU7ACz1sQggleBmM4RBZ\n",
       "UG8LAeKZjuUDgZWp21nIYQcpEKL8/pQwsV9Xx4Pys/GOPlvdQ7agetmPnnSCFHp8mTZVZLtVHztd\n",
       "Z05O862PbYLTo26lJ68c3nN7IasgO8ux29KX+XaI0bcGEIctiff+oT0kpOT6gqeoLJi3hQCapVSc\n",
       "m2cpaVgkP/bTlhd7NX/HQlMdMGmTKuWe9x+SedJGdqCM+aLaDpACjy/TJqiT2nsyzayLS66BCTsm\n",
       "5YK+NT28TD3O7Ymsg4yPt/lmiDFCDIcsiYuMkBK5QIc4VJZWeF4CpD933jVzZssXqLVZN4v8ACo6\n",
       "L7Q+oB1k1uZO5u6YRf5pXAcp9O2MTwFcysED3/wQcNn8F6AfkN4Dji0iOK7/xAmznyONcXcyFgLk\n",
       "d3p29vs3J6dnOw/9gPQmcLoMsPJvT9gZ9R70RsYmbp5RsFtjcxQgf3t5+Rt42GfPrwf/F5B3gXls\n",
       "xujPn7D/OdKcpOFRxqMAzwT8+3+RfsdXB/+aZZ+W8P9vCHN1a/O+JgAAAABJRU5ErkJggg==\n",
       "\" style=\"display:inline;vertical-align:middle;\" /></a><br>"
      ],
      "text/plain": [
       "defaults.assumptions: (a in Real, b in Real, c in Real, d in Real, x in Real, y in Real, 0 < a, b >= 0, c < 0, d <= 0, c != 0, x < y)"
      ]
     },
     "execution_count": 16,
     "metadata": {},
     "output_type": "execute_result"
    }
   ],
   "source": [
    "defaults.assumptions = (*basic_assumptions, Less(x, y))"
   ]
  },
  {
   "cell_type": "code",
   "execution_count": 17,
   "metadata": {},
   "outputs": [
    {
     "data": {
      "text/html": [
       "<strong id=\"num_rel\">num_rel:</strong> <span style=\"font-size:20px;\"><a class=\"ProveItLink\" href=\"../ordering/__pv_it/theorems/1ecb4e7f1919a0041475deca3f8ae4eaf01980850/expr.ipynb\"><img src=\"data:image/png;base64,iVBORw0KGgoAAAANSUhEUgAAADMAAAAQBAMAAABJt1qBAAAAMFBMVEX///8QEBBmZmaqqqrMzMxE\n",
       "REQyMjIiIiKYmJh2dna6urrc3NxUVFSIiIju7u4AAAA6P00QAAAAAXRSTlMAQObYZgAAALhJREFU\n",
       "GNNjYEAFZg4MOEC7Ni6Z6/NQuG/v7Lp5Aczimw6hGfguXWDY+ICBbwJHLXsCWEC9Aaqak0uA4T6Q\n",
       "esD5j2sDSOCYAcygzUwJDKFAtQysARBTEFIPGC8w/AUx+KE2cMMNZFj/gOULiPaHeQXuDAY1Bl4B\n",
       "BgbmB/cZeB+gOT6GgfUAUK9BPMMOdC/rMKwHGv7m7luNBvSAenNXfwOuYAHahh3wJPD9wiHF3sB6\n",
       "AYcU110VIAkAWaUyBI00ZbcAAAAASUVORK5CYII=\n",
       "\" style=\"display:inline;vertical-align:middle;\" /></a> <a class=\"ProveItLink\" href=\"../__pv_it/demonstrations/60fa90f842d120fdb671b393845c0ecfa5d077fa0/proof.ipynb\" style=\"text-decoration: none\">&nbsp;&#x22A2;&nbsp;&nbsp;</a><a class=\"ProveItLink\" href=\"../ordering/__pv_it/theorems/1ecb4e7f1919a0041475deca3f8ae4eaf01980850/expr.ipynb\"><img src=\"data:image/png;base64,iVBORw0KGgoAAAANSUhEUgAAADMAAAAQBAMAAABJt1qBAAAAMFBMVEX///8QEBBmZmaqqqrMzMxE\n",
       "REQyMjIiIiKYmJh2dna6urrc3NxUVFSIiIju7u4AAAA6P00QAAAAAXRSTlMAQObYZgAAALhJREFU\n",
       "GNNjYEAFZg4MOEC7Ni6Z6/NQuG/v7Lp5Aczimw6hGfguXWDY+ICBbwJHLXsCWEC9Aaqak0uA4T6Q\n",
       "esD5j2sDSOCYAcygzUwJDKFAtQysARBTEFIPGC8w/AUx+KE2cMMNZFj/gOULiPaHeQXuDAY1Bl4B\n",
       "BgbmB/cZeB+gOT6GgfUAUK9BPMMOdC/rMKwHGv7m7luNBvSAenNXfwOuYAHahh3wJPD9wiHF3sB6\n",
       "AYcU110VIAkAWaUyBI00ZbcAAAAASUVORK5CYII=\n",
       "\" style=\"display:inline;vertical-align:middle;\" /></a></span><br>"
      ],
      "text/plain": [
       "num_rel: {x < y} |- x < y"
      ]
     },
     "execution_count": 17,
     "metadata": {},
     "output_type": "execute_result"
    }
   ],
   "source": [
    "num_rel = Less(x, y).prove()"
   ]
  },
  {
   "cell_type": "code",
   "execution_count": 18,
   "metadata": {},
   "outputs": [
    {
     "data": {
      "text/html": [
       "<strong id=\"num_rel\">num_rel:</strong> <span style=\"font-size:20px;\"><a class=\"ProveItLink\" href=\"../__pv_it/demonstrations/bd2f502b953df5e1834a5d80011e6b2e7aa85c890/expr.ipynb\"><img src=\"data:image/png;base64,iVBORw0KGgoAAAANSUhEUgAAADMAAAAPBAMAAAC7N+rPAAAAMFBMVEX///9UVFSqqqrMzMwiIiJE\n",
       "RESYmJgyMjK6urru7u4QEBCIiIh2dnZmZmbc3NwAAABRgo0vAAAAAXRSTlMAQObYZgAAAMpJREFU\n",
       "GNNjYMAAKUvjy5cmMGAFBRMZTFMnYJUKeMPAyieAIpTq4lIAleJ9UIAsY7oToYv3QQCQwXfn9kqQ\n",
       "AGclkoGMHCADux6wfwAJMD5AklK5DnQG5zIGXpBmBlaEM165uCsAad6fDCwbQAJW5UAAdUYvK8jt\n",
       "XAEM8w1AAk+RHM/bDDJo/gEGfbAAF7K/IrNBUgoM4kwgF/BuQJIy5AWaxLqBzZEHLOKEFFA8CsJA\n",
       "F0pvfrgDLDIxYgIseIsZQusVkIOjJ8QFOXgAnyk4ZcxDaYcAAAAASUVORK5CYII=\n",
       "\" style=\"display:inline;vertical-align:middle;\" /></a>, <a class=\"ProveItLink\" href=\"../__pv_it/demonstrations/02bd6ad73acd9f4d3192ee4c61bfdcabbff20f180/expr.ipynb\"><img src=\"data:image/png;base64,iVBORw0KGgoAAAANSUhEUgAAADQAAAAPBAMAAABZ6/G2AAAAMFBMVEX///8QEBBmZmaqqqrMzMxE\n",
       "REQyMjIiIiKYmJh2dna6urrc3NxUVFSIiIju7u4AAAA6P00QAAAAAXRSTlMAQObYZgAAAMRJREFU\n",
       "GNNjYMAAHIWh3xIjGLACNr4DLBFxWKVYuScwBOxBEWotL0+ASWmzIcu43kPSpc0KZLy9s+vmBSDN\n",
       "l4ds4IE1QJEJHLXsIHN4NiBJMRcBFXI+4PzHBRJlRXKGeHkyyBwG1gCwgGMaEECdMUsB4nb+C2Bq\n",
       "K7LjtVzBLH8HMMWILMX6Aqie+cF9Bt4HQAGmC0hSLAdUGBjWG8Qz7ACLFCMFFMNkHgeGN3ffajSA\n",
       "Rd5EPYAHrwNr2Gfk4FgZDgkoKAAAelg1omM6Y4wAAAAASUVORK5CYII=\n",
       "\" style=\"display:inline;vertical-align:middle;\" /></a>, <a class=\"ProveItLink\" href=\"../__pv_it/demonstrations/0886f5b6aacf5197ba709a53d4f3243edcc3de560/expr.ipynb\"><img src=\"data:image/png;base64,iVBORw0KGgoAAAANSUhEUgAAADMAAAASBAMAAAAEf/uKAAAAMFBMVEX///8iIiKYmJhUVFTMzMxE\n",
       "REQyMjKqqqq6urp2dnYQEBDc3NxmZmaIiIju7u4AAACH5sGpAAAAAXRSTlMAQObYZgAAAN1JREFU\n",
       "GNNjYMAAikvj05YqMGAFCY8ZXFUfYJUK2MnAym2AIqQqKJgAleLZkIAs43oPoYtnQwADA9+dCwy7\n",
       "QAbz5SEZyMwBNJCTYwHDfZAA8wYkqcJjQNXbeRIYQkECrAhn7BIUKwDSD7guMPwFCXilAQHUGT2s\n",
       "YLf3P2D5AqK3IjmepyUAxDjGwLsARHMh+ytOF8QIZmAFe4/nApKUM48DkHGYoR8SYOJIAcVZYAJk\n",
       "PL57HuLsxxEPYMGbwhCaXwCxDQI6AwVRgoc5ge8H9ghgYFRgvYBDiuPuERwyAAfzPe7bmvmqAAAA\n",
       "AElFTkSuQmCC\n",
       "\" style=\"display:inline;vertical-align:middle;\" /></a>, <a class=\"ProveItLink\" href=\"../ordering/__pv_it/theorems/1ecb4e7f1919a0041475deca3f8ae4eaf01980850/expr.ipynb\"><img src=\"data:image/png;base64,iVBORw0KGgoAAAANSUhEUgAAADMAAAAQBAMAAABJt1qBAAAAMFBMVEX///8QEBBmZmaqqqrMzMxE\n",
       "REQyMjIiIiKYmJh2dna6urrc3NxUVFSIiIju7u4AAAA6P00QAAAAAXRSTlMAQObYZgAAALhJREFU\n",
       "GNNjYEAFZg4MOEC7Ni6Z6/NQuG/v7Lp5Aczimw6hGfguXWDY+ICBbwJHLXsCWEC9Aaqak0uA4T6Q\n",
       "esD5j2sDSOCYAcygzUwJDKFAtQysARBTEFIPGC8w/AUx+KE2cMMNZFj/gOULiPaHeQXuDAY1Bl4B\n",
       "BgbmB/cZeB+gOT6GgfUAUK9BPMMOdC/rMKwHGv7m7luNBvSAenNXfwOuYAHahh3wJPD9wiHF3sB6\n",
       "AYcU110VIAkAWaUyBI00ZbcAAAAASUVORK5CYII=\n",
       "\" style=\"display:inline;vertical-align:middle;\" /></a> <a class=\"ProveItLink\" href=\"../__pv_it/demonstrations/72d2798960469f68bd927007645c3f6b19dbabf40/proof.ipynb\" style=\"text-decoration: none\">&nbsp;&#x22A2;&nbsp;&nbsp;</a><a class=\"ProveItLink\" href=\"../addition/__pv_it/theorems/5b9ef0cfc06b7be398a654bec270d8e6153d915f0/expr.ipynb\"><img src=\"data:image/png;base64,iVBORw0KGgoAAAANSUhEUgAAAHsAAAARBAMAAAAPhs5wAAAAMFBMVEX///9UVFSqqqrMzMwiIiJE\n",
       "RESYmJgyMjK6urru7u4QEBCIiIh2dnZmZmbc3NwAAABRgo0vAAAAAXRSTlMAQObYZgAAASNJREFU\n",
       "OMtjYKAaYNqATVTdgBhVuCRS7jFQoH3LSQKq+O7cXokqMXvjiz0QJueRDbhUce7dwPBqAgND1wP2\n",
       "D6gSB9i8WQrArCsJMEswVPFwLGDYD1SyjIE3AFViAs9PjgcglrgCTDemqke8BQyhDAy8PxlYQAI8\n",
       "5eUly8vLBYBKGVghKjkR2jFVTeDawPCbgYErgGG+AVqg8EMZfHDHY1HVP4H5MwPD/AMM+uhhag+L\n",
       "anjQYVF1nYF7AVBCgUGc6QGyBNOE/QzcE1AjDlMVQyADK9APrBvYHHlQzO1XiGd4hpZsMFUxXGTo\n",
       "B3qNU3rzwx0oEhN3z76WgJZoMVUBld1/QFxyxKHqOqoE5wRitENVMRZw/qAge7IksG6gQDvH7stA\n",
       "EgB6O2l5pByNYgAAAABJRU5ErkJggg==\n",
       "\" style=\"display:inline;vertical-align:middle;\" /></a></span><br>"
      ],
      "text/plain": [
       "num_rel: {a in Real, x in Real, y in Real, x < y} |- a + x < a + y"
      ]
     },
     "execution_count": 18,
     "metadata": {},
     "output_type": "execute_result"
    }
   ],
   "source": [
    "num_rel = num_rel.left_add_both_sides(a)"
   ]
  },
  {
   "cell_type": "code",
   "execution_count": 19,
   "metadata": {},
   "outputs": [
    {
     "data": {
      "text/html": [
       "<strong id=\"num_rel\">num_rel:</strong> <span style=\"font-size:20px;\"><a class=\"ProveItLink\" href=\"../__pv_it/demonstrations/01066498eeade39164943c7fc785297aa9d0bb160/expr.ipynb\"><img src=\"data:image/png;base64,iVBORw0KGgoAAAANSUhEUgAAADEAAAAPBAMAAAC/wjryAAAAMFBMVEX////MzMyYmJjc3NyIiIhU\n",
       "VFR2dna6urqqqqpmZmYyMjIiIiIQEBBERETu7u4AAACIO4EmAAAAAXRSTlMAQObYZgAAANJJREFU\n",
       "GNNj4LuzgQEFaJ+9v+qsAojFNQFVhmHBUwZZ3QdABn8DmswFMwZe5gAgo/4BVER39+4FUBlOAxAr\n",
       "Gyoh64fQw2lwAchY6jIDxOdbh2QaKzvQNL5fD94bAPmsBkgy3bOAVnD8Y+B3APJ5ES6w2b0L5CrO\n",
       "BQzvE4C0zCoggLqgkvcBxDv1IBW2SK7mLAQ5gF+BYT5IBQ+yf+6pgGQK+A6B+JwOSDKinAJANynw\n",
       "QoJnB1LosDUEAl09JQki8PT6A1iILmS4ux45zMpuQ0IHCgBwWkIYWdoBRwAAAABJRU5ErkJggg==\n",
       "\" style=\"display:inline;vertical-align:middle;\" /></a>, <a class=\"ProveItLink\" href=\"../__pv_it/demonstrations/bd2f502b953df5e1834a5d80011e6b2e7aa85c890/expr.ipynb\"><img src=\"data:image/png;base64,iVBORw0KGgoAAAANSUhEUgAAADMAAAAPBAMAAAC7N+rPAAAAMFBMVEX///9UVFSqqqrMzMwiIiJE\n",
       "RESYmJgyMjK6urru7u4QEBCIiIh2dnZmZmbc3NwAAABRgo0vAAAAAXRSTlMAQObYZgAAAMpJREFU\n",
       "GNNjYMAAKUvjy5cmMGAFBRMZTFMnYJUKeMPAyieAIpTq4lIAleJ9UIAsY7oToYv3QQCQwXfn9kqQ\n",
       "AGclkoGMHCADux6wfwAJMD5AklK5DnQG5zIGXpBmBlaEM165uCsAad6fDCwbQAJW5UAAdUYvK8jt\n",
       "XAEM8w1AAk+RHM/bDDJo/gEGfbAAF7K/IrNBUgoM4kwgF/BuQJIy5AWaxLqBzZEHLOKEFFA8CsJA\n",
       "F0pvfrgDLDIxYgIseIsZQusVkIOjJ8QFOXgAnyk4ZcxDaYcAAAAASUVORK5CYII=\n",
       "\" style=\"display:inline;vertical-align:middle;\" /></a>, <a class=\"ProveItLink\" href=\"../__pv_it/demonstrations/02bd6ad73acd9f4d3192ee4c61bfdcabbff20f180/expr.ipynb\"><img src=\"data:image/png;base64,iVBORw0KGgoAAAANSUhEUgAAADQAAAAPBAMAAABZ6/G2AAAAMFBMVEX///8QEBBmZmaqqqrMzMxE\n",
       "REQyMjIiIiKYmJh2dna6urrc3NxUVFSIiIju7u4AAAA6P00QAAAAAXRSTlMAQObYZgAAAMRJREFU\n",
       "GNNjYMAAHIWh3xIjGLACNr4DLBFxWKVYuScwBOxBEWotL0+ASWmzIcu43kPSpc0KZLy9s+vmBSDN\n",
       "l4ds4IE1QJEJHLXsIHN4NiBJMRcBFXI+4PzHBRJlRXKGeHkyyBwG1gCwgGMaEECdMUsB4nb+C2Bq\n",
       "K7LjtVzBLH8HMMWILMX6Aqie+cF9Bt4HQAGmC0hSLAdUGBjWG8Qz7ACLFCMFFMNkHgeGN3ffajSA\n",
       "Rd5EPYAHrwNr2Gfk4FgZDgkoKAAAelg1omM6Y4wAAAAASUVORK5CYII=\n",
       "\" style=\"display:inline;vertical-align:middle;\" /></a>, <a class=\"ProveItLink\" href=\"../__pv_it/demonstrations/0886f5b6aacf5197ba709a53d4f3243edcc3de560/expr.ipynb\"><img src=\"data:image/png;base64,iVBORw0KGgoAAAANSUhEUgAAADMAAAASBAMAAAAEf/uKAAAAMFBMVEX///8iIiKYmJhUVFTMzMxE\n",
       "REQyMjKqqqq6urp2dnYQEBDc3NxmZmaIiIju7u4AAACH5sGpAAAAAXRSTlMAQObYZgAAAN1JREFU\n",
       "GNNjYMAAikvj05YqMGAFCY8ZXFUfYJUK2MnAym2AIqQqKJgAleLZkIAs43oPoYtnQwADA9+dCwy7\n",
       "QAbz5SEZyMwBNJCTYwHDfZAA8wYkqcJjQNXbeRIYQkECrAhn7BIUKwDSD7guMPwFCXilAQHUGT2s\n",
       "YLf3P2D5AqK3IjmepyUAxDjGwLsARHMh+ytOF8QIZmAFe4/nApKUM48DkHGYoR8SYOJIAcVZYAJk\n",
       "PL57HuLsxxEPYMGbwhCaXwCxDQI6AwVRgoc5ge8H9ghgYFRgvYBDiuPuERwyAAfzPe7bmvmqAAAA\n",
       "AElFTkSuQmCC\n",
       "\" style=\"display:inline;vertical-align:middle;\" /></a>, <a class=\"ProveItLink\" href=\"../ordering/__pv_it/theorems/1ecb4e7f1919a0041475deca3f8ae4eaf01980850/expr.ipynb\"><img src=\"data:image/png;base64,iVBORw0KGgoAAAANSUhEUgAAADMAAAAQBAMAAABJt1qBAAAAMFBMVEX///8QEBBmZmaqqqrMzMxE\n",
       "REQyMjIiIiKYmJh2dna6urrc3NxUVFSIiIju7u4AAAA6P00QAAAAAXRSTlMAQObYZgAAALhJREFU\n",
       "GNNjYEAFZg4MOEC7Ni6Z6/NQuG/v7Lp5Aczimw6hGfguXWDY+ICBbwJHLXsCWEC9Aaqak0uA4T6Q\n",
       "esD5j2sDSOCYAcygzUwJDKFAtQysARBTEFIPGC8w/AUx+KE2cMMNZFj/gOULiPaHeQXuDAY1Bl4B\n",
       "BgbmB/cZeB+gOT6GgfUAUK9BPMMOdC/rMKwHGv7m7luNBvSAenNXfwOuYAHahh3wJPD9wiHF3sB6\n",
       "AYcU110VIAkAWaUyBI00ZbcAAAAASUVORK5CYII=\n",
       "\" style=\"display:inline;vertical-align:middle;\" /></a> <a class=\"ProveItLink\" href=\"../__pv_it/demonstrations/bf34603a0e53b7e664ec8c938ea662189c0e73020/proof.ipynb\" style=\"text-decoration: none\">&nbsp;&#x22A2;&nbsp;&nbsp;</a><a class=\"ProveItLink\" href=\"../__pv_it/demonstrations/385a58f2ff9f21855e05746220ec48577a0a8c640/expr.ipynb\"><img src=\"data:image/png;base64,iVBORw0KGgoAAAANSUhEUgAAAMAAAAASBAMAAAD/BMwQAAAAMFBMVEX///9UVFSqqqrMzMwiIiJE\n",
       "RESYmJgyMjK6urru7u4QEBCIiIh2dnZmZmbc3NwAAABRgo0vAAAAAXRSTlMAQObYZgAAAblJREFU\n",
       "OMu1lD9PwkAYxl+RQg8KMsnA0s3BAb6BuuqCg6Oxgx8AE5OLA1/AhTI4KDFlMBq3Gh1MgMBgYhyN\n",
       "RgaNVgdjnAwmBqIxpleO3luUVKLv0va5/p7n/gP4qY0dGKZ+geWHCvBik/1/cKklaBMZ/E/A9FI9\n",
       "peU3QO640vIt+A0QscEBynRPOToD3wEOFr+53scBpYOnqomkcKqmshdywt1crGtHaiY86yjAwdat\n",
       "8AtyI43QXDCHJGONfLKmS4330sW6dopchjoeAcPILsSyeD50pSNbSErr8G4/kyr3F7Cu3UMsBws4\n",
       "gGGxDgTt71NKZyldsVmQHNSVmkA+7BY3gGMKpat7lCYA9IjJeuEqDhbJgpHxLPKY6VnkPMhsx8V7\n",
       "UyRgvL8FffQVKwwzGpD27qKpjCfgze4xWmQB43ZNiJaxwjBDhWTAEt0Ceh2iOgpow5aGt6mAcbt5\n",
       "kBI4gGGSGZpRkFtBXYJHPIJxWPQcNAHjdudQ0LDCMJI6vD9GbsVK6UrDAdtVzXNVCBi3K1buLKwg\n",
       "bPBdNKjck9z88Ww7telL6ivirNdIjrSx8scV1CQT/rPkysV38heTipnj3tYwmQAAAABJRU5ErkJg\n",
       "gg==\n",
       "\" style=\"display:inline;vertical-align:middle;\" /></a></span><br>"
      ],
      "text/plain": [
       "num_rel: {b in Real, a in Real, x in Real, y in Real, x < y} |- a + x + b < a + y + b"
      ]
     },
     "execution_count": 19,
     "metadata": {},
     "output_type": "execute_result"
    }
   ],
   "source": [
    "num_rel = num_rel.right_add_both_sides(b)"
   ]
  },
  {
   "cell_type": "code",
   "execution_count": 20,
   "metadata": {},
   "outputs": [
    {
     "data": {
      "text/html": [
       "<strong id=\"num_rel\">num_rel:</strong> <span style=\"font-size:20px;\"><a class=\"ProveItLink\" href=\"../__pv_it/demonstrations/97c2cd789f92aeb5958c71e9e8648177a398980b0/expr.ipynb\"><img src=\"data:image/png;base64,iVBORw0KGgoAAAANSUhEUgAAADEAAAAPBAMAAAC/wjryAAAAMFBMVEX///+6urqYmJgQEBDu7u5m\n",
       "ZmZUVFQyMjJERESqqqoiIiLc3NzMzMyIiIh2dnYAAABqS+z4AAAAAXRSTlMAQObYZgAAALpJREFU\n",
       "GNNjYEAHWhb95RYKDNhAgRvDCQ0HbDIN+xg4uBOQRTRWrSqAyrBuKECSOHEFoYd1QwOI9fbuASDJ\n",
       "UoJkGhsjyLRdEzhAWtk2IMnMCge5YB0D2wQgxYFwweZVy0EirF8g/MPlQAB1gSgHSAtzA0RmB5Kr\n",
       "WWVAgv4PIHxmZP+06AJpfmBAgE29gCRzjBXoXNYEBleQqxlWIoUO34QcIOOdEkS1W6MDLERrGDrq\n",
       "JyAFglzXKuQwAQDAXjdf5nEJUwAAAABJRU5ErkJggg==\n",
       "\" style=\"display:inline;vertical-align:middle;\" /></a>, <a class=\"ProveItLink\" href=\"../__pv_it/demonstrations/bd2f502b953df5e1834a5d80011e6b2e7aa85c890/expr.ipynb\"><img src=\"data:image/png;base64,iVBORw0KGgoAAAANSUhEUgAAADMAAAAPBAMAAAC7N+rPAAAAMFBMVEX///9UVFSqqqrMzMwiIiJE\n",
       "RESYmJgyMjK6urru7u4QEBCIiIh2dnZmZmbc3NwAAABRgo0vAAAAAXRSTlMAQObYZgAAAMpJREFU\n",
       "GNNjYMAAKUvjy5cmMGAFBRMZTFMnYJUKeMPAyieAIpTq4lIAleJ9UIAsY7oToYv3QQCQwXfn9kqQ\n",
       "AGclkoGMHCADux6wfwAJMD5AklK5DnQG5zIGXpBmBlaEM165uCsAad6fDCwbQAJW5UAAdUYvK8jt\n",
       "XAEM8w1AAk+RHM/bDDJo/gEGfbAAF7K/IrNBUgoM4kwgF/BuQJIy5AWaxLqBzZEHLOKEFFA8CsJA\n",
       "F0pvfrgDLDIxYgIseIsZQusVkIOjJ8QFOXgAnyk4ZcxDaYcAAAAASUVORK5CYII=\n",
       "\" style=\"display:inline;vertical-align:middle;\" /></a>, <a class=\"ProveItLink\" href=\"../__pv_it/demonstrations/02bd6ad73acd9f4d3192ee4c61bfdcabbff20f180/expr.ipynb\"><img src=\"data:image/png;base64,iVBORw0KGgoAAAANSUhEUgAAADQAAAAPBAMAAABZ6/G2AAAAMFBMVEX///8QEBBmZmaqqqrMzMxE\n",
       "REQyMjIiIiKYmJh2dna6urrc3NxUVFSIiIju7u4AAAA6P00QAAAAAXRSTlMAQObYZgAAAMRJREFU\n",
       "GNNjYMAAHIWh3xIjGLACNr4DLBFxWKVYuScwBOxBEWotL0+ASWmzIcu43kPSpc0KZLy9s+vmBSDN\n",
       "l4ds4IE1QJEJHLXsIHN4NiBJMRcBFXI+4PzHBRJlRXKGeHkyyBwG1gCwgGMaEECdMUsB4nb+C2Bq\n",
       "K7LjtVzBLH8HMMWILMX6Aqie+cF9Bt4HQAGmC0hSLAdUGBjWG8Qz7ACLFCMFFMNkHgeGN3ffajSA\n",
       "Rd5EPYAHrwNr2Gfk4FgZDgkoKAAAelg1omM6Y4wAAAAASUVORK5CYII=\n",
       "\" style=\"display:inline;vertical-align:middle;\" /></a>, <a class=\"ProveItLink\" href=\"../__pv_it/demonstrations/01066498eeade39164943c7fc785297aa9d0bb160/expr.ipynb\"><img src=\"data:image/png;base64,iVBORw0KGgoAAAANSUhEUgAAADEAAAAPBAMAAAC/wjryAAAAMFBMVEX////MzMyYmJjc3NyIiIhU\n",
       "VFR2dna6urqqqqpmZmYyMjIiIiIQEBBERETu7u4AAACIO4EmAAAAAXRSTlMAQObYZgAAANJJREFU\n",
       "GNNj4LuzgQEFaJ+9v+qsAojFNQFVhmHBUwZZ3QdABn8DmswFMwZe5gAgo/4BVER39+4FUBlOAxAr\n",
       "Gyoh64fQw2lwAchY6jIDxOdbh2QaKzvQNL5fD94bAPmsBkgy3bOAVnD8Y+B3APJ5ES6w2b0L5CrO\n",
       "BQzvE4C0zCoggLqgkvcBxDv1IBW2SK7mLAQ5gF+BYT5IBQ+yf+6pgGQK+A6B+JwOSDKinAJANynw\n",
       "QoJnB1LosDUEAl09JQki8PT6A1iILmS4ux45zMpuQ0IHCgBwWkIYWdoBRwAAAABJRU5ErkJggg==\n",
       "\" style=\"display:inline;vertical-align:middle;\" /></a>, <a class=\"ProveItLink\" href=\"../__pv_it/demonstrations/0886f5b6aacf5197ba709a53d4f3243edcc3de560/expr.ipynb\"><img src=\"data:image/png;base64,iVBORw0KGgoAAAANSUhEUgAAADMAAAASBAMAAAAEf/uKAAAAMFBMVEX///8iIiKYmJhUVFTMzMxE\n",
       "REQyMjKqqqq6urp2dnYQEBDc3NxmZmaIiIju7u4AAACH5sGpAAAAAXRSTlMAQObYZgAAAN1JREFU\n",
       "GNNjYMAAikvj05YqMGAFCY8ZXFUfYJUK2MnAym2AIqQqKJgAleLZkIAs43oPoYtnQwADA9+dCwy7\n",
       "QAbz5SEZyMwBNJCTYwHDfZAA8wYkqcJjQNXbeRIYQkECrAhn7BIUKwDSD7guMPwFCXilAQHUGT2s\n",
       "YLf3P2D5AqK3IjmepyUAxDjGwLsARHMh+ytOF8QIZmAFe4/nApKUM48DkHGYoR8SYOJIAcVZYAJk\n",
       "PL57HuLsxxEPYMGbwhCaXwCxDQI6AwVRgoc5ge8H9ghgYFRgvYBDiuPuERwyAAfzPe7bmvmqAAAA\n",
       "AElFTkSuQmCC\n",
       "\" style=\"display:inline;vertical-align:middle;\" /></a>, <a class=\"ProveItLink\" href=\"../ordering/__pv_it/theorems/1ecb4e7f1919a0041475deca3f8ae4eaf01980850/expr.ipynb\"><img src=\"data:image/png;base64,iVBORw0KGgoAAAANSUhEUgAAADMAAAAQBAMAAABJt1qBAAAAMFBMVEX///8QEBBmZmaqqqrMzMxE\n",
       "REQyMjIiIiKYmJh2dna6urrc3NxUVFSIiIju7u4AAAA6P00QAAAAAXRSTlMAQObYZgAAALhJREFU\n",
       "GNNjYEAFZg4MOEC7Ni6Z6/NQuG/v7Lp5Aczimw6hGfguXWDY+ICBbwJHLXsCWEC9Aaqak0uA4T6Q\n",
       "esD5j2sDSOCYAcygzUwJDKFAtQysARBTEFIPGC8w/AUx+KE2cMMNZFj/gOULiPaHeQXuDAY1Bl4B\n",
       "BgbmB/cZeB+gOT6GgfUAUK9BPMMOdC/rMKwHGv7m7luNBvSAenNXfwOuYAHahh3wJPD9wiHF3sB6\n",
       "AYcU110VIAkAWaUyBI00ZbcAAAAASUVORK5CYII=\n",
       "\" style=\"display:inline;vertical-align:middle;\" /></a>, <a class=\"ProveItLink\" href=\"../__pv_it/demonstrations/9968fbe16d770090469d8d47ce321ceccc2cb49b0/expr.ipynb\"><img src=\"data:image/png;base64,iVBORw0KGgoAAAANSUhEUgAAAC8AAAAOBAMAAABN+VgMAAAAMFBMVEX///+6urqYmJgQEBDu7u5m\n",
       "ZmZUVFQyMjJERESqqqoiIiLc3NzMzMyIiIh2dnYAAABqS+z4AAAAAXRSTlMAQObYZgAAAK1JREFU\n",
       "GNNjYMAC3uodwCbMwD6BZTWaEGcNiFRmYHiOKs60dAOIamNgmO+ALM67DsL9xsAgPwFk1V2IVX5r\n",
       "IfIsX4ESFxgYdk3gKADxXRdBNXL/Y2A4D5RYx8AG0sdWCTORG6jj/AMG1i8QrhtcAmoUcwOUvxVm\n",
       "FMjy+RMY/B/A+DDLGToYGPQdGPgVGBgmoDoX4kHWBAbXA6ge5JrAYgOk3ildQAsSlrfXDjAAAP+0\n",
       "L0hrHcsJAAAAAElFTkSuQmCC\n",
       "\" style=\"display:inline;vertical-align:middle;\" /></a> <a class=\"ProveItLink\" href=\"../__pv_it/demonstrations/c16e8cc4e49c151fef143664296c1205be7b1a2c0/proof.ipynb\" style=\"text-decoration: none\">&nbsp;&#x22A2;&nbsp;&nbsp;</a><a class=\"ProveItLink\" href=\"../__pv_it/demonstrations/6ed068d091a6a82e82544db81b1271f2f26ff31d0/expr.ipynb\"><img src=\"data:image/png;base64,iVBORw0KGgoAAAANSUhEUgAAAQ4AAAAUBAMAAACOpc7fAAAAMFBMVEX///+6urqYmJgQEBDu7u5m\n",
       "ZmZUVFQyMjJERESqqqoiIiLc3NzMzMyIiIh2dnYAAABqS+z4AAAAAXRSTlMAQObYZgAAAxFJREFU\n",
       "SMetVktoE1EUPZNO0knaTAPuKpJQEKEiVBEsuhnox+Ki6apV6Ce4ESmBCLaDWrAofkCELFxZpEFR\n",
       "KWIZlAq66t6FIza7RkOxCEI1LQUJtuJ9k5nMvEmIT3Fg3rzPvWfO/bz7HsA9LQmIPnN/WH8hjISw\n",
       "4Z8ZENKTr+eAkNFYZlaMw8Bxaib9s1fElJuH6EeZxiKGoDOm6D3pmwsMeUcPah1oVr5tWWo2PPMz\n",
       "NaL7IQaFMr2qyS9GDDHluEZNj0v/ca3xzwR5SNssiF384htB5a+W52P2bHRRq5FsyQlCqZbgBebf\n",
       "wrKzmGcI42NHOWU5b+KlxilPF84Qgh3EweeOulpYdbpRtri0/kHjoQqT+zZ4Hs3pPAV5nXyQVaoZ\n",
       "d43ePUZziVNWpS584pTlH1rSQKCi1vew6oMF3HL6ChUA6QSu8v4YRKf5lOeRvCj/BA4AiwgRIdma\n",
       "XKDOEQRnOeXXwQxuc8rhbbSZCFseDV1ys6uI87ChIoTZk8BpnsdnfNf28jzmNewC9xHcrtCyjDsM\n",
       "No4wkS+6/kjXp6mnNZlMFKquXz6m6ymSySBZRKvltn6Xx4TmQjXFrLEVMg+UbZALhRHIv4B3aKoY\n",
       "H0nZPGicXOaTK6617nBGUPmIZ20eWKrGpRsuFOPRDXnHn6e7/jydglRmPMgw96G40HjepzyCaBen\n",
       "3JZgtko5Pk+ZXW6MsmwcLvmgHINcHltWRNoZJrKePE1mcc6u947yTSgpnkeMssjJU3ffbpGAJ0/l\n",
       "MkKZOY7HvWgJKzyPTZZGlKfBFPqq+5a2j2IGnqi8EcOIJzjlUEKhbRks+urYMOTR6hYmgbvoTBW9\n",
       "UFJZKbXwUDiLG9SOA9863KLaTt5Nr756z/PoL0wY/L4dW2NZsuyr6+raoeoMC1p/4W065oWS0yv5\n",
       "Dl9c+j4yYjNidX3Efyiw51TD40u0rlcI5hqdc72VTygjbzry3gK+0ZAHf8711t4LvFD+cw536iBG\n",
       "EopZ74LR+NxXRM991Dn3696DpMLoP/xI9B5U3/y/uBce/H/3woCB3+o03E7xaXPzAAAAAElFTkSu\n",
       "QmCC\n",
       "\" style=\"display:inline;vertical-align:middle;\" /></a></span><br>"
      ],
      "text/plain": [
       "num_rel: {c in Real, a in Real, x in Real, b in Real, y in Real, x < y, c < 0} |- c * (a + y + b) < c * (a + x + b)"
      ]
     },
     "execution_count": 20,
     "metadata": {},
     "output_type": "execute_result"
    }
   ],
   "source": [
    "num_rel = num_rel.left_mult_both_sides(c)"
   ]
  },
  {
   "cell_type": "code",
   "execution_count": 21,
   "metadata": {},
   "outputs": [],
   "source": [
    "# After implementing NumberRelations for greater and greater_eq (or, better yet,\n",
    "# Issue #180 which makes 'greater' as a style variant of Less, etc.), this should work\n",
    "#num_rel.mult_left(d)"
   ]
  },
  {
   "cell_type": "code",
   "execution_count": 22,
   "metadata": {},
   "outputs": [
    {
     "name": "stdout",
     "output_type": "stream",
     "text": [
      "Expression notebook is being updated for d * x >= d * y\n"
     ]
    },
    {
     "data": {
      "text/html": [
       "<span style=\"font-size:20px;\"><a class=\"ProveItLink\" href=\"../__pv_it/demonstrations/087ba5bcf4a7ff8c3c07e473fc61d308725f608c0/expr.ipynb\"><img src=\"data:image/png;base64,iVBORw0KGgoAAAANSUhEUgAAADMAAAAPBAMAAAC7N+rPAAAAMFBMVEX///9UVFSYmJiIiIjc3Nwy\n",
       "MjIiIiJ2dnbu7u66urqqqqpmZmYQEBBERETMzMwAAAAYOWz6AAAAAXRSTlMAQObYZgAAANxJREFU\n",
       "GNNjYGBg4LuzgQEJqJ29H3pWAcrhX4AsxRDQyPBWtwHCnt+AInXBnYGXRQDCLoNQumlpAVApbocA\n",
       "iFg0mHxrgdDF7XAByGDZbvcLJMARgWQgIyfIwDkOvD9AAowOSFLLtgKt5zjEwA02lxfhDJ+0VJCb\n",
       "uX8wsBWABN6EAgHUGbN5QW7mucDQPwEk4IvkeO55IFf0FzCsBwvwIPvrhjJIagGDKBfIBdwGSFIP\n",
       "uR8AbTdgSmQHi2QhBRT7AjmgC4XtHC3BIo03G2DBG8dwNx4lXKdfSwtA4gIAGoI8rx+lZVQAAAAA\n",
       "SUVORK5CYII=\n",
       "\" style=\"display:inline;vertical-align:middle;\" /></a>, <a class=\"ProveItLink\" href=\"../__pv_it/demonstrations/02bd6ad73acd9f4d3192ee4c61bfdcabbff20f180/expr.ipynb\"><img src=\"data:image/png;base64,iVBORw0KGgoAAAANSUhEUgAAADQAAAAPBAMAAABZ6/G2AAAAMFBMVEX///8QEBBmZmaqqqrMzMxE\n",
       "REQyMjIiIiKYmJh2dna6urrc3NxUVFSIiIju7u4AAAA6P00QAAAAAXRSTlMAQObYZgAAAMRJREFU\n",
       "GNNjYMAAHIWh3xIjGLACNr4DLBFxWKVYuScwBOxBEWotL0+ASWmzIcu43kPSpc0KZLy9s+vmBSDN\n",
       "l4ds4IE1QJEJHLXsIHN4NiBJMRcBFXI+4PzHBRJlRXKGeHkyyBwG1gCwgGMaEECdMUsB4nb+C2Bq\n",
       "K7LjtVzBLH8HMMWILMX6Aqie+cF9Bt4HQAGmC0hSLAdUGBjWG8Qz7ACLFCMFFMNkHgeGN3ffajSA\n",
       "Rd5EPYAHrwNr2Gfk4FgZDgkoKAAAelg1omM6Y4wAAAAASUVORK5CYII=\n",
       "\" style=\"display:inline;vertical-align:middle;\" /></a>, <a class=\"ProveItLink\" href=\"../__pv_it/demonstrations/0886f5b6aacf5197ba709a53d4f3243edcc3de560/expr.ipynb\"><img src=\"data:image/png;base64,iVBORw0KGgoAAAANSUhEUgAAADMAAAASBAMAAAAEf/uKAAAAMFBMVEX///8iIiKYmJhUVFTMzMxE\n",
       "REQyMjKqqqq6urp2dnYQEBDc3NxmZmaIiIju7u4AAACH5sGpAAAAAXRSTlMAQObYZgAAAN1JREFU\n",
       "GNNjYMAAikvj05YqMGAFCY8ZXFUfYJUK2MnAym2AIqQqKJgAleLZkIAs43oPoYtnQwADA9+dCwy7\n",
       "QAbz5SEZyMwBNJCTYwHDfZAA8wYkqcJjQNXbeRIYQkECrAhn7BIUKwDSD7guMPwFCXilAQHUGT2s\n",
       "YLf3P2D5AqK3IjmepyUAxDjGwLsARHMh+ytOF8QIZmAFe4/nApKUM48DkHGYoR8SYOJIAcVZYAJk\n",
       "PL57HuLsxxEPYMGbwhCaXwCxDQI6AwVRgoc5ge8H9ghgYFRgvYBDiuPuERwyAAfzPe7bmvmqAAAA\n",
       "AElFTkSuQmCC\n",
       "\" style=\"display:inline;vertical-align:middle;\" /></a>, <a class=\"ProveItLink\" href=\"../ordering/__pv_it/theorems/1ecb4e7f1919a0041475deca3f8ae4eaf01980850/expr.ipynb\"><img src=\"data:image/png;base64,iVBORw0KGgoAAAANSUhEUgAAADMAAAAQBAMAAABJt1qBAAAAMFBMVEX///8QEBBmZmaqqqrMzMxE\n",
       "REQyMjIiIiKYmJh2dna6urrc3NxUVFSIiIju7u4AAAA6P00QAAAAAXRSTlMAQObYZgAAALhJREFU\n",
       "GNNjYEAFZg4MOEC7Ni6Z6/NQuG/v7Lp5Aczimw6hGfguXWDY+ICBbwJHLXsCWEC9Aaqak0uA4T6Q\n",
       "esD5j2sDSOCYAcygzUwJDKFAtQysARBTEFIPGC8w/AUx+KE2cMMNZFj/gOULiPaHeQXuDAY1Bl4B\n",
       "BgbmB/cZeB+gOT6GgfUAUK9BPMMOdC/rMKwHGv7m7luNBvSAenNXfwOuYAHahh3wJPD9wiHF3sB6\n",
       "AYcU110VIAkAWaUyBI00ZbcAAAAASUVORK5CYII=\n",
       "\" style=\"display:inline;vertical-align:middle;\" /></a>, <a class=\"ProveItLink\" href=\"../__pv_it/demonstrations/8a95e93683eacde690a715216b771ef0fc63002c0/expr.ipynb\"><img src=\"data:image/png;base64,iVBORw0KGgoAAAANSUhEUgAAADEAAAARBAMAAACGHlkZAAAAMFBMVEX///9UVFSYmJiIiIjc3Nwy\n",
       "MjIiIiJ2dnbu7u66urqqqqpmZmYQEBBERETMzMwAAAAYOWz6AAAAAXRSTlMAQObYZgAAAN1JREFU\n",
       "GNNjYGBg4LuzgQEVFKs/gDD4F8CEmPNAJOsCjhQIf34DVKI9GUzpMDCUQgTKoBLeSRD6IgPDeoji\n",
       "aIiAYxRUxUegMUALWLbb/QLz30ZCJTh+A2UMGBjmOPD+APF578GcwfKdgeG9AQPHIQbuALCzkmHu\n",
       "YAHqeV/AwP2Dga0ALMCU3oBiGs8Fhv4JEBGuaAe4C9YvYOgvYFgPs4AzEOL1uwwM+g0M/QsYRLmg\n",
       "ahn47k5A+JTXgCmRHR5gLHIgkm0BxzmgdcJ2jpZoAcpRbPiAgTLQmgYCeXA+AE3LNVpHH1WIAAAA\n",
       "AElFTkSuQmCC\n",
       "\" style=\"display:inline;vertical-align:middle;\" /></a> <a class=\"ProveItLink\" href=\"../__pv_it/demonstrations/5258a378e7760f99f1a089cc621c1dce8e0e667a0/proof.ipynb\" style=\"text-decoration: none\">&nbsp;&#x22A2;&nbsp;&nbsp;</a><a class=\"ProveItLink\" href=\"../__pv_it/demonstrations/b5ed5f1810a230fc56f5565abc79481a53bf60290/expr.ipynb\"><img src=\"data:image/png;base64,iVBORw0KGgoAAAANSUhEUgAAAGUAAAASBAMAAACwdQ2FAAAAMFBMVEX///9UVFSYmJiIiIjc3Nwy\n",
       "MjIiIiJ2dnbu7u66urqqqqpmZmYQEBBERETMzMwAAAAYOWz6AAAAAXRSTlMAQObYZgAAATNJREFU\n",
       "KM9jYGBg4LuzgQEfwCrPvwCrWrMHeOTnN2DRwVFmgE++DIsWlm0KeOWjsWgRXYBHnmW73S8Yu3kz\n",
       "A8sJsLevTsAmz9Bs6GkOdPIcB94fMKGCOQzMH0CMuw/gypDlOQqYktkCGDgOMXAHgLggIxdsZeC9\n",
       "AA4yC7gyJHkG9gb2H5wODNw/GNgKgNz+AJD4YQZ+SGipVUD1IMsDFYCN5LnA0A9yO5sAkOD8wfAe\n",
       "6qqlWyA0ijwDxMj+Aob1cLcDXWEDY0+VA1Mo8gwQI/sXMIhyOUBFeAUYLsKl395kQJfnarBnYG5g\n",
       "4DVgSmSH2yPA+QlhpiPITBT5+QvuMzgBvSVs52gJDyRh6y/oSQhZvtG4eZMCRvyDw5UkIAoJI5JA\n",
       "EsNliIPC0kDgATF6JlsTowwA5URT67/cwTAAAAAASUVORK5CYII=\n",
       "\" style=\"display:inline;vertical-align:middle;\" /></a></span>"
      ],
      "text/plain": [
       "{d in Real, x in Real, y in Real, x < y, d <= 0} |- d * y <= d * x"
      ]
     },
     "execution_count": 22,
     "metadata": {},
     "output_type": "execute_result"
    }
   ],
   "source": [
    "num_rel = Less(x, y).prove()\n",
    "num_rel.left_mult_both_sides(d)"
   ]
  },
  {
   "cell_type": "code",
   "execution_count": 23,
   "metadata": {},
   "outputs": [
    {
     "data": {
      "text/html": [
       "<span style=\"font-size:20px;\"><a class=\"ProveItLink\" href=\"../__pv_it/demonstrations/97c2cd789f92aeb5958c71e9e8648177a398980b0/expr.ipynb\"><img src=\"data:image/png;base64,iVBORw0KGgoAAAANSUhEUgAAADEAAAAPBAMAAAC/wjryAAAAMFBMVEX///+6urqYmJgQEBDu7u5m\n",
       "ZmZUVFQyMjJERESqqqoiIiLc3NzMzMyIiIh2dnYAAABqS+z4AAAAAXRSTlMAQObYZgAAALpJREFU\n",
       "GNNjYEAHWhb95RYKDNhAgRvDCQ0HbDIN+xg4uBOQRTRWrSqAyrBuKECSOHEFoYd1QwOI9fbuASDJ\n",
       "UoJkGhsjyLRdEzhAWtk2IMnMCge5YB0D2wQgxYFwweZVy0EirF8g/MPlQAB1gSgHSAtzA0RmB5Kr\n",
       "WWVAgv4PIHxmZP+06AJpfmBAgE29gCRzjBXoXNYEBleQqxlWIoUO34QcIOOdEkS1W6MDLERrGDrq\n",
       "JyAFglzXKuQwAQDAXjdf5nEJUwAAAABJRU5ErkJggg==\n",
       "\" style=\"display:inline;vertical-align:middle;\" /></a>, <a class=\"ProveItLink\" href=\"../__pv_it/demonstrations/02bd6ad73acd9f4d3192ee4c61bfdcabbff20f180/expr.ipynb\"><img src=\"data:image/png;base64,iVBORw0KGgoAAAANSUhEUgAAADQAAAAPBAMAAABZ6/G2AAAAMFBMVEX///8QEBBmZmaqqqrMzMxE\n",
       "REQyMjIiIiKYmJh2dna6urrc3NxUVFSIiIju7u4AAAA6P00QAAAAAXRSTlMAQObYZgAAAMRJREFU\n",
       "GNNjYMAAHIWh3xIjGLACNr4DLBFxWKVYuScwBOxBEWotL0+ASWmzIcu43kPSpc0KZLy9s+vmBSDN\n",
       "l4ds4IE1QJEJHLXsIHN4NiBJMRcBFXI+4PzHBRJlRXKGeHkyyBwG1gCwgGMaEECdMUsB4nb+C2Bq\n",
       "K7LjtVzBLH8HMMWILMX6Aqie+cF9Bt4HQAGmC0hSLAdUGBjWG8Qz7ACLFCMFFMNkHgeGN3ffajSA\n",
       "Rd5EPYAHrwNr2Gfk4FgZDgkoKAAAelg1omM6Y4wAAAAASUVORK5CYII=\n",
       "\" style=\"display:inline;vertical-align:middle;\" /></a>, <a class=\"ProveItLink\" href=\"../__pv_it/demonstrations/0886f5b6aacf5197ba709a53d4f3243edcc3de560/expr.ipynb\"><img src=\"data:image/png;base64,iVBORw0KGgoAAAANSUhEUgAAADMAAAASBAMAAAAEf/uKAAAAMFBMVEX///8iIiKYmJhUVFTMzMxE\n",
       "REQyMjKqqqq6urp2dnYQEBDc3NxmZmaIiIju7u4AAACH5sGpAAAAAXRSTlMAQObYZgAAAN1JREFU\n",
       "GNNjYMAAikvj05YqMGAFCY8ZXFUfYJUK2MnAym2AIqQqKJgAleLZkIAs43oPoYtnQwADA9+dCwy7\n",
       "QAbz5SEZyMwBNJCTYwHDfZAA8wYkqcJjQNXbeRIYQkECrAhn7BIUKwDSD7guMPwFCXilAQHUGT2s\n",
       "YLf3P2D5AqK3IjmepyUAxDjGwLsARHMh+ytOF8QIZmAFe4/nApKUM48DkHGYoR8SYOJIAcVZYAJk\n",
       "PL57HuLsxxEPYMGbwhCaXwCxDQI6AwVRgoc5ge8H9ghgYFRgvYBDiuPuERwyAAfzPe7bmvmqAAAA\n",
       "AElFTkSuQmCC\n",
       "\" style=\"display:inline;vertical-align:middle;\" /></a>, <a class=\"ProveItLink\" href=\"../ordering/__pv_it/theorems/1ecb4e7f1919a0041475deca3f8ae4eaf01980850/expr.ipynb\"><img src=\"data:image/png;base64,iVBORw0KGgoAAAANSUhEUgAAADMAAAAQBAMAAABJt1qBAAAAMFBMVEX///8QEBBmZmaqqqrMzMxE\n",
       "REQyMjIiIiKYmJh2dna6urrc3NxUVFSIiIju7u4AAAA6P00QAAAAAXRSTlMAQObYZgAAALhJREFU\n",
       "GNNjYEAFZg4MOEC7Ni6Z6/NQuG/v7Lp5Aczimw6hGfguXWDY+ICBbwJHLXsCWEC9Aaqak0uA4T6Q\n",
       "esD5j2sDSOCYAcygzUwJDKFAtQysARBTEFIPGC8w/AUx+KE2cMMNZFj/gOULiPaHeQXuDAY1Bl4B\n",
       "BgbmB/cZeB+gOT6GgfUAUK9BPMMOdC/rMKwHGv7m7luNBvSAenNXfwOuYAHahh3wJPD9wiHF3sB6\n",
       "AYcU110VIAkAWaUyBI00ZbcAAAAASUVORK5CYII=\n",
       "\" style=\"display:inline;vertical-align:middle;\" /></a>, <a class=\"ProveItLink\" href=\"../__pv_it/demonstrations/9968fbe16d770090469d8d47ce321ceccc2cb49b0/expr.ipynb\"><img src=\"data:image/png;base64,iVBORw0KGgoAAAANSUhEUgAAAC8AAAAOBAMAAABN+VgMAAAAMFBMVEX///+6urqYmJgQEBDu7u5m\n",
       "ZmZUVFQyMjJERESqqqoiIiLc3NzMzMyIiIh2dnYAAABqS+z4AAAAAXRSTlMAQObYZgAAAK1JREFU\n",
       "GNNjYMAC3uodwCbMwD6BZTWaEGcNiFRmYHiOKs60dAOIamNgmO+ALM67DsL9xsAgPwFk1V2IVX5r\n",
       "IfIsX4ESFxgYdk3gKADxXRdBNXL/Y2A4D5RYx8AG0sdWCTORG6jj/AMG1i8QrhtcAmoUcwOUvxVm\n",
       "FMjy+RMY/B/A+DDLGToYGPQdGPgVGBgmoDoX4kHWBAbXA6ge5JrAYgOk3ildQAsSlrfXDjAAAP+0\n",
       "L0hrHcsJAAAAAElFTkSuQmCC\n",
       "\" style=\"display:inline;vertical-align:middle;\" /></a> <a class=\"ProveItLink\" href=\"../__pv_it/demonstrations/83f259858f32a18c76734263d548dc0822649deb0/proof.ipynb\" style=\"text-decoration: none\">&nbsp;&#x22A2;&nbsp;&nbsp;</a><a class=\"ProveItLink\" href=\"../__pv_it/demonstrations/ebc8a9cdc5cf5a3d7fb8e1671bcd059abe5d04330/expr.ipynb\"><img src=\"data:image/png;base64,iVBORw0KGgoAAAANSUhEUgAAAGIAAAAQBAMAAAAfYbf3AAAAMFBMVEX///8iIiKYmJhUVFTMzMxE\n",
       "REQyMjKqqqq6urp2dnYQEBDc3NxmZmaIiIju7u4AAACH5sGpAAAAAXRSTlMAQObYZgAAAPpJREFU\n",
       "KM9jYMAJyhwYSAOKp0nUcHEeLhm+OxcYdj2A8TjvXoGITrwAFXl7ecfNCwzI8pwcCxjuwwS4xRnC\n",
       "wBoOKsAMnMAky5iAIr+dJ4EhFCQFEmGcwGAOos0K4IY+4PzHsQFF/gHXBYa/QM57kEHnIc7jQ+jg\n",
       "Y2ANADOQ5PsfsHwBaTcAEkthtsNdxcDAD/EFkvwxBt4FMAN/wo2G+5zBHxEtUPlgBlYDmNAnBgZ2\n",
       "1NBlf3CfgfcBqvxhhn64Ew4z8B1BjcH+gniGTQyo8o/vnt8AD5lJumip5PHdt4cQfoLJHyMtNTAn\n",
       "8P0gTQejAusF0nRw3D1CmgYAHDVLppMc4FYAAAAASUVORK5CYII=\n",
       "\" style=\"display:inline;vertical-align:middle;\" /></a></span>"
      ],
      "text/plain": [
       "{c in Real, x in Real, y in Real, x < y, c < 0} |- y * c < x * c"
      ]
     },
     "execution_count": 23,
     "metadata": {},
     "output_type": "execute_result"
    }
   ],
   "source": [
    "num_rel = Less(x, y).prove()\n",
    "num_rel.right_mult_both_sides(c)"
   ]
  },
  {
   "cell_type": "code",
   "execution_count": 24,
   "metadata": {},
   "outputs": [
    {
     "name": "stdout",
     "output_type": "stream",
     "text": [
      "Expression notebook is being updated for x * d >= y * d\n"
     ]
    },
    {
     "data": {
      "text/html": [
       "<span style=\"font-size:20px;\"><a class=\"ProveItLink\" href=\"../__pv_it/demonstrations/087ba5bcf4a7ff8c3c07e473fc61d308725f608c0/expr.ipynb\"><img src=\"data:image/png;base64,iVBORw0KGgoAAAANSUhEUgAAADMAAAAPBAMAAAC7N+rPAAAAMFBMVEX///9UVFSYmJiIiIjc3Nwy\n",
       "MjIiIiJ2dnbu7u66urqqqqpmZmYQEBBERETMzMwAAAAYOWz6AAAAAXRSTlMAQObYZgAAANxJREFU\n",
       "GNNjYGBg4LuzgQEJqJ29H3pWAcrhX4AsxRDQyPBWtwHCnt+AInXBnYGXRQDCLoNQumlpAVApbocA\n",
       "iFg0mHxrgdDF7XAByGDZbvcLJMARgWQgIyfIwDkOvD9AAowOSFLLtgKt5zjEwA02lxfhDJ+0VJCb\n",
       "uX8wsBWABN6EAgHUGbN5QW7mucDQPwEk4IvkeO55IFf0FzCsBwvwIPvrhjJIagGDKBfIBdwGSFIP\n",
       "uR8AbTdgSmQHi2QhBRT7AjmgC4XtHC3BIo03G2DBG8dwNx4lXKdfSwtA4gIAGoI8rx+lZVQAAAAA\n",
       "SUVORK5CYII=\n",
       "\" style=\"display:inline;vertical-align:middle;\" /></a>, <a class=\"ProveItLink\" href=\"../__pv_it/demonstrations/02bd6ad73acd9f4d3192ee4c61bfdcabbff20f180/expr.ipynb\"><img src=\"data:image/png;base64,iVBORw0KGgoAAAANSUhEUgAAADQAAAAPBAMAAABZ6/G2AAAAMFBMVEX///8QEBBmZmaqqqrMzMxE\n",
       "REQyMjIiIiKYmJh2dna6urrc3NxUVFSIiIju7u4AAAA6P00QAAAAAXRSTlMAQObYZgAAAMRJREFU\n",
       "GNNjYMAAHIWh3xIjGLACNr4DLBFxWKVYuScwBOxBEWotL0+ASWmzIcu43kPSpc0KZLy9s+vmBSDN\n",
       "l4ds4IE1QJEJHLXsIHN4NiBJMRcBFXI+4PzHBRJlRXKGeHkyyBwG1gCwgGMaEECdMUsB4nb+C2Bq\n",
       "K7LjtVzBLH8HMMWILMX6Aqie+cF9Bt4HQAGmC0hSLAdUGBjWG8Qz7ACLFCMFFMNkHgeGN3ffajSA\n",
       "Rd5EPYAHrwNr2Gfk4FgZDgkoKAAAelg1omM6Y4wAAAAASUVORK5CYII=\n",
       "\" style=\"display:inline;vertical-align:middle;\" /></a>, <a class=\"ProveItLink\" href=\"../__pv_it/demonstrations/0886f5b6aacf5197ba709a53d4f3243edcc3de560/expr.ipynb\"><img src=\"data:image/png;base64,iVBORw0KGgoAAAANSUhEUgAAADMAAAASBAMAAAAEf/uKAAAAMFBMVEX///8iIiKYmJhUVFTMzMxE\n",
       "REQyMjKqqqq6urp2dnYQEBDc3NxmZmaIiIju7u4AAACH5sGpAAAAAXRSTlMAQObYZgAAAN1JREFU\n",
       "GNNjYMAAikvj05YqMGAFCY8ZXFUfYJUK2MnAym2AIqQqKJgAleLZkIAs43oPoYtnQwADA9+dCwy7\n",
       "QAbz5SEZyMwBNJCTYwHDfZAA8wYkqcJjQNXbeRIYQkECrAhn7BIUKwDSD7guMPwFCXilAQHUGT2s\n",
       "YLf3P2D5AqK3IjmepyUAxDjGwLsARHMh+ytOF8QIZmAFe4/nApKUM48DkHGYoR8SYOJIAcVZYAJk\n",
       "PL57HuLsxxEPYMGbwhCaXwCxDQI6AwVRgoc5ge8H9ghgYFRgvYBDiuPuERwyAAfzPe7bmvmqAAAA\n",
       "AElFTkSuQmCC\n",
       "\" style=\"display:inline;vertical-align:middle;\" /></a>, <a class=\"ProveItLink\" href=\"../ordering/__pv_it/theorems/1ecb4e7f1919a0041475deca3f8ae4eaf01980850/expr.ipynb\"><img src=\"data:image/png;base64,iVBORw0KGgoAAAANSUhEUgAAADMAAAAQBAMAAABJt1qBAAAAMFBMVEX///8QEBBmZmaqqqrMzMxE\n",
       "REQyMjIiIiKYmJh2dna6urrc3NxUVFSIiIju7u4AAAA6P00QAAAAAXRSTlMAQObYZgAAALhJREFU\n",
       "GNNjYEAFZg4MOEC7Ni6Z6/NQuG/v7Lp5Aczimw6hGfguXWDY+ICBbwJHLXsCWEC9Aaqak0uA4T6Q\n",
       "esD5j2sDSOCYAcygzUwJDKFAtQysARBTEFIPGC8w/AUx+KE2cMMNZFj/gOULiPaHeQXuDAY1Bl4B\n",
       "BgbmB/cZeB+gOT6GgfUAUK9BPMMOdC/rMKwHGv7m7luNBvSAenNXfwOuYAHahh3wJPD9wiHF3sB6\n",
       "AYcU110VIAkAWaUyBI00ZbcAAAAASUVORK5CYII=\n",
       "\" style=\"display:inline;vertical-align:middle;\" /></a>, <a class=\"ProveItLink\" href=\"../__pv_it/demonstrations/8a95e93683eacde690a715216b771ef0fc63002c0/expr.ipynb\"><img src=\"data:image/png;base64,iVBORw0KGgoAAAANSUhEUgAAADEAAAARBAMAAACGHlkZAAAAMFBMVEX///9UVFSYmJiIiIjc3Nwy\n",
       "MjIiIiJ2dnbu7u66urqqqqpmZmYQEBBERETMzMwAAAAYOWz6AAAAAXRSTlMAQObYZgAAAN1JREFU\n",
       "GNNjYGBg4LuzgQEVFKs/gDD4F8CEmPNAJOsCjhQIf34DVKI9GUzpMDCUQgTKoBLeSRD6IgPDeoji\n",
       "aIiAYxRUxUegMUALWLbb/QLz30ZCJTh+A2UMGBjmOPD+APF578GcwfKdgeG9AQPHIQbuALCzkmHu\n",
       "YAHqeV/AwP2Dga0ALMCU3oBiGs8Fhv4JEBGuaAe4C9YvYOgvYFgPs4AzEOL1uwwM+g0M/QsYRLmg\n",
       "ahn47k5A+JTXgCmRHR5gLHIgkm0BxzmgdcJ2jpZoAcpRbPiAgTLQmgYCeXA+AE3LNVpHH1WIAAAA\n",
       "AElFTkSuQmCC\n",
       "\" style=\"display:inline;vertical-align:middle;\" /></a> <a class=\"ProveItLink\" href=\"../__pv_it/demonstrations/235878df1dd3c6b8588f046ca7b75b0d212182490/proof.ipynb\" style=\"text-decoration: none\">&nbsp;&#x22A2;&nbsp;&nbsp;</a><a class=\"ProveItLink\" href=\"../__pv_it/demonstrations/bfe4dda912941d2350ea8251f016c866a8217e370/expr.ipynb\"><img src=\"data:image/png;base64,iVBORw0KGgoAAAANSUhEUgAAAGYAAAASBAMAAABbQraGAAAAMFBMVEX///8iIiKYmJhUVFTMzMxE\n",
       "REQyMjKqqqq6urp2dnYQEBDc3NxmZmaIiIju7u4AAACH5sGpAAAAAXRSTlMAQObYZgAAAW9JREFU\n",
       "KM9jYEADLFEHGPAC1zWYYvwFMNZFB6yavmMK9T+A0HwTL2DVwvEPU2wihOI+qIDdbZwCmGI5EC1m\n",
       "BTj8w3aAge/OBYZdD2AC3CevgJ3LEtYAE3p7ecdNhCv3zPUvYODkWMBwHy7UtYEV7NxQuPf5JjDJ\n",
       "MibAPbOaIf4Bw3aeBIZQkBxYwSIGHrD8xXtw5z/g/MexAabglQLDMQaGB1wXGP4Cee9Bann+MTBO\n",
       "ACtVnAezh4E1AMwAKzj/gEESHLYsX4AUowGQ4ApgeA/1SNlpeIRBfANWsJSB7weQOsbAuwAm/X4C\n",
       "Qz2M3WYCZfgjopbvJwP7ByAdzMBqANdTwGDGvgGWSCJAJPuD+wy8sHDl+87AnFDNwHCYoR8ee6wX\n",
       "mIQ54aZuBlnQXxDPsAkuFMugaAD08OO75zfA7ba9svkGahQ+vvv2kAISz9sW7OFjDCQC5gRwSJAE\n",
       "GBVYMdMvX6IgCDjg0MNx9wip1gAAcUFi8eauKu8AAAAASUVORK5CYII=\n",
       "\" style=\"display:inline;vertical-align:middle;\" /></a></span>"
      ],
      "text/plain": [
       "{d in Real, x in Real, y in Real, x < y, d <= 0} |- y * d <= x * d"
      ]
     },
     "execution_count": 24,
     "metadata": {},
     "output_type": "execute_result"
    }
   ],
   "source": [
    "num_rel = Less(x, y).prove()\n",
    "num_rel.right_mult_both_sides(d)"
   ]
  },
  {
   "cell_type": "code",
   "execution_count": 25,
   "metadata": {},
   "outputs": [
    {
     "data": {
      "text/html": [
       "<span style=\"font-size:20px;\"><a class=\"ProveItLink\" href=\"../__pv_it/demonstrations/bd2f502b953df5e1834a5d80011e6b2e7aa85c890/expr.ipynb\"><img src=\"data:image/png;base64,iVBORw0KGgoAAAANSUhEUgAAADMAAAAPBAMAAAC7N+rPAAAAMFBMVEX///9UVFSqqqrMzMwiIiJE\n",
       "RESYmJgyMjK6urru7u4QEBCIiIh2dnZmZmbc3NwAAABRgo0vAAAAAXRSTlMAQObYZgAAAMpJREFU\n",
       "GNNjYMAAKUvjy5cmMGAFBRMZTFMnYJUKeMPAyieAIpTq4lIAleJ9UIAsY7oToYv3QQCQwXfn9kqQ\n",
       "AGclkoGMHCADux6wfwAJMD5AklK5DnQG5zIGXpBmBlaEM165uCsAad6fDCwbQAJW5UAAdUYvK8jt\n",
       "XAEM8w1AAk+RHM/bDDJo/gEGfbAAF7K/IrNBUgoM4kwgF/BuQJIy5AWaxLqBzZEHLOKEFFA8CsJA\n",
       "F0pvfrgDLDIxYgIseIsZQusVkIOjJ8QFOXgAnyk4ZcxDaYcAAAAASUVORK5CYII=\n",
       "\" style=\"display:inline;vertical-align:middle;\" /></a>, <a class=\"ProveItLink\" href=\"../__pv_it/demonstrations/02bd6ad73acd9f4d3192ee4c61bfdcabbff20f180/expr.ipynb\"><img src=\"data:image/png;base64,iVBORw0KGgoAAAANSUhEUgAAADQAAAAPBAMAAABZ6/G2AAAAMFBMVEX///8QEBBmZmaqqqrMzMxE\n",
       "REQyMjIiIiKYmJh2dna6urrc3NxUVFSIiIju7u4AAAA6P00QAAAAAXRSTlMAQObYZgAAAMRJREFU\n",
       "GNNjYMAAHIWh3xIjGLACNr4DLBFxWKVYuScwBOxBEWotL0+ASWmzIcu43kPSpc0KZLy9s+vmBSDN\n",
       "l4ds4IE1QJEJHLXsIHN4NiBJMRcBFXI+4PzHBRJlRXKGeHkyyBwG1gCwgGMaEECdMUsB4nb+C2Bq\n",
       "K7LjtVzBLH8HMMWILMX6Aqie+cF9Bt4HQAGmC0hSLAdUGBjWG8Qz7ACLFCMFFMNkHgeGN3ffajSA\n",
       "Rd5EPYAHrwNr2Gfk4FgZDgkoKAAAelg1omM6Y4wAAAAASUVORK5CYII=\n",
       "\" style=\"display:inline;vertical-align:middle;\" /></a>, <a class=\"ProveItLink\" href=\"../__pv_it/demonstrations/0886f5b6aacf5197ba709a53d4f3243edcc3de560/expr.ipynb\"><img src=\"data:image/png;base64,iVBORw0KGgoAAAANSUhEUgAAADMAAAASBAMAAAAEf/uKAAAAMFBMVEX///8iIiKYmJhUVFTMzMxE\n",
       "REQyMjKqqqq6urp2dnYQEBDc3NxmZmaIiIju7u4AAACH5sGpAAAAAXRSTlMAQObYZgAAAN1JREFU\n",
       "GNNjYMAAikvj05YqMGAFCY8ZXFUfYJUK2MnAym2AIqQqKJgAleLZkIAs43oPoYtnQwADA9+dCwy7\n",
       "QAbz5SEZyMwBNJCTYwHDfZAA8wYkqcJjQNXbeRIYQkECrAhn7BIUKwDSD7guMPwFCXilAQHUGT2s\n",
       "YLf3P2D5AqK3IjmepyUAxDjGwLsARHMh+ytOF8QIZmAFe4/nApKUM48DkHGYoR8SYOJIAcVZYAJk\n",
       "PL57HuLsxxEPYMGbwhCaXwCxDQI6AwVRgoc5ge8H9ghgYFRgvYBDiuPuERwyAAfzPe7bmvmqAAAA\n",
       "AElFTkSuQmCC\n",
       "\" style=\"display:inline;vertical-align:middle;\" /></a>, <a class=\"ProveItLink\" href=\"../ordering/__pv_it/theorems/1ecb4e7f1919a0041475deca3f8ae4eaf01980850/expr.ipynb\"><img src=\"data:image/png;base64,iVBORw0KGgoAAAANSUhEUgAAADMAAAAQBAMAAABJt1qBAAAAMFBMVEX///8QEBBmZmaqqqrMzMxE\n",
       "REQyMjIiIiKYmJh2dna6urrc3NxUVFSIiIju7u4AAAA6P00QAAAAAXRSTlMAQObYZgAAALhJREFU\n",
       "GNNjYEAFZg4MOEC7Ni6Z6/NQuG/v7Lp5Aczimw6hGfguXWDY+ICBbwJHLXsCWEC9Aaqak0uA4T6Q\n",
       "esD5j2sDSOCYAcygzUwJDKFAtQysARBTEFIPGC8w/AUx+KE2cMMNZFj/gOULiPaHeQXuDAY1Bl4B\n",
       "BgbmB/cZeB+gOT6GgfUAUK9BPMMOdC/rMKwHGv7m7luNBvSAenNXfwOuYAHahh3wJPD9wiHF3sB6\n",
       "AYcU110VIAkAWaUyBI00ZbcAAAAASUVORK5CYII=\n",
       "\" style=\"display:inline;vertical-align:middle;\" /></a>, <a class=\"ProveItLink\" href=\"../__pv_it/demonstrations/81515aa9e983b7a13cc71dc7d6a3c9353c7ae52f0/expr.ipynb\"><img src=\"data:image/png;base64,iVBORw0KGgoAAAANSUhEUgAAADEAAAAOBAMAAAB0nulXAAAAMFBMVEX///9UVFSqqqrMzMwiIiJE\n",
       "RESYmJgyMjK6urru7u4QEBCIiIh2dnZmZmbc3NwAAABRgo0vAAAAAXRSTlMAQObYZgAAALRJREFU\n",
       "GNNjYMAGTucYYBVnYFfg9EPiTk+AM7MYGI4jyXAe2QBjBjIw6E9ANmTLSSjjIwNDvwIDA9+d2yuh\n",
       "Iik3Ibr/AmWABnQ9YP8A06UuByL5/jAw2G9g4FzGwBsAN7BdEiQD1GN/gIH3JwPLBoRMJMI0rgCG\n",
       "+QaopoFcoK/AMP8Agz4DqgsYQhkY8icwzFdgEGd6gOpqiE9ZN7A58qD5lEWBczFQQHrzwx1oocN5\n",
       "eqMBAwAAVzCAYDQnkwAAAABJRU5ErkJggg==\n",
       "\" style=\"display:inline;vertical-align:middle;\" /></a> <a class=\"ProveItLink\" href=\"../__pv_it/demonstrations/cb24387f5cf055d17c415367eb823ee81e04298d0/proof.ipynb\" style=\"text-decoration: none\">&nbsp;&#x22A2;&nbsp;&nbsp;</a><a class=\"ProveItLink\" href=\"../division/__pv_it/theorems/325a777233c154df8c2d09cba33199a9e86d79a20/expr.ipynb\"><img src=\"data:image/png;base64,iVBORw0KGgoAAAANSUhEUgAAADgAAAAlBAMAAADl4DdoAAAAMFBMVEX///8QEBBmZmaqqqrMzMxE\n",
       "REQyMjIiIiKYmJh2dna6urrc3NxUVFSIiIju7u4AAAA6P00QAAAAAXRSTlMAQObYZgAAARhJREFU\n",
       "OMtjYHh7Z9fNCwzo4K0uA7ccA98Ejlr2BAzJCQsZeD8wcD7g/Me1AV2O20CNgTWAgQ9EYAA+BlkG\n",
       "fpBl/Jg2MjBw/WPwdwDSYAIdMCUwXGRgYH5wn4H3AYYk6wGGGAaG9QbxDDuw6DzA9YOB4c3dtxoN\n",
       "WFx09tJvBtyAKQGn1DGG9wswRc0gbq9giMWUa9eG0GsvYXrw+jycFvFNv4BbTr0Bt+OPGaCL/AcD\n",
       "sEYkSbDgB5RIxGcsXgfh9wpSIGAHZg4Mgxlwa+rK4RRduIHtA6YkRJRPgoEJMz9ARZn+MbBjhihU\n",
       "lDGA4T1moEBF309gsMe0Eir63oDhGDNG/oSKsl7gqOHEzEcQUb6zV/bcwpJVQKIAUEBblvP34icA\n",
       "AAAASUVORK5CYII=\n",
       "\" style=\"display:inline;vertical-align:middle;\" /></a></span>"
      ],
      "text/plain": [
       "{a in Real, x in Real, y in Real, x < y, a > 0} |- x / a < y / a"
      ]
     },
     "execution_count": 25,
     "metadata": {},
     "output_type": "execute_result"
    }
   ],
   "source": [
    "num_rel = Less(x, y).prove()\n",
    "num_rel.divide_both_sides(a)"
   ]
  },
  {
   "cell_type": "code",
   "execution_count": 26,
   "metadata": {},
   "outputs": [
    {
     "name": "stdout",
     "output_type": "stream",
     "text": [
      "Expected error:  Cannot 'divide' a Less relation without knowing whether the divisor is greater than or less than zero.\n"
     ]
    }
   ],
   "source": [
    "try:\n",
    "    num_rel = Less(x, y).prove()\n",
    "    num_rel.divide_both_sides(b)\n",
    "    assert False, \"Expected Exception\"\n",
    "except Exception as e:\n",
    "    print(\"Expected error: \", e)"
   ]
  },
  {
   "cell_type": "code",
   "execution_count": 27,
   "metadata": {},
   "outputs": [],
   "source": [
    "# Need some work on LesserSequences to get this to work.\n",
    "#num_rel.square()"
   ]
  },
  {
   "cell_type": "code",
   "execution_count": 28,
   "metadata": {},
   "outputs": [
    {
     "name": "stdout",
     "output_type": "stream",
     "text": [
      "Expression notebook is being updated for (a in Real, b in Real, c in Real, d in Real, x in Real, y in Real, 0 < a, b >= 0, c < 0, d <= 0, c != 0, x != y)\n"
     ]
    },
    {
     "data": {
      "text/html": [
       "<strong id=\"defaults.assumptions\">defaults.assumptions:</strong> <a class=\"ProveItLink\" href=\"../__pv_it/demonstrations/8e54c5d52c12578108e897ce7bb0c8fc1953f8310/expr.ipynb\"><img src=\"data:image/png;base64,iVBORw0KGgoAAAANSUhEUgAAAsMAAAAUCAMAAABf9sDOAAAAOVBMVEX///8kJCQNDQ0oKChUVFTM\n",
       "zMx2dna6uroQEBCqqqqIiIgiIiJmZmYyMjJERETu7u6YmJjc3NwAAABfYoQ1AAAAAXRSTlMAQObY\n",
       "ZgAABXlJREFUaN7tm9t23CAMRWlrwNzB//+xBTMXgwQ2zEySh/CQrHTN5ggJhIApIYQET37bb/uC\n",
       "xtybWRHyb2evdeLVau1mzGrrOe/sqibRedHcqF31B2Q/CDPpGZ2I4amTX+u+xXUdPKgYzLylJfto\n",
       "S57EJlztxxC3pFF5W68Jo6dR8iK5iY/Ifgo20VynwkwmKpzslMasmu2+wyEOlorOKC583tKCPbhh\n",
       "n9peXx6oJYHlX8vIROqj5DWSb+4jsh+C/bqnICypCHOSlSonC7OAGdDpvivY4YCDHVNySjHYWUsr\n",
       "tszm8UdnKXirYjN1XHQg5mScNdlG50VvY1DvkR1Xnhqw3We0gAvPK32Sk+Bq5Wappn2ze6zcOQh2\n",
       "OFZWMEErP6lYGDvAAbZYUXEthGaRRa10aG6JY7fdcUKyjc6Lgg32BdkZ5akBb0uejqLenM+PO0xh\n",
       "wpZf6J4g1UAh2OGKCiYspvrIZcUqlV7numk42seJ1I8FxrRc3aHScI39cSG82lzNIqUWHbKNxs1A\n",
       "SjojmiyWdJuSdVIugUsmJ4brpE5YePrqurLbdA6dbG7OeDSAk9FZhXZfuRgTbHCVg+OKMXVV2iCB\n",
       "ZPIIPeVgWFC2CADT5H5w5mvcWcwGTnwwLkLpKmZui//gttAmm2hQ0UXWTIhmi+1zMxqQdSztpZIc\n",
       "Nv/ryiwqp0y2kXHlsLF9MhxC56rNGY8GcHKxu4d298DFmCDKAQdbCzd0nCwkmdnbv7/pp+5xMCwo\n",
       "WwbAG6LEraxI49L2GAQsLmuq+upkkKuahzmWXEfVnqzEhOjNYtMzuAWnfZRFo3kYH24QWdTaCeWQ\n",
       "0w/NEdznvxFYkVdHAzi5KGzb3UMXY4IoBxwsFaiYcLKWhKkU55CwIGwVAKHImncHvXvosMXQ1dxb\n",
       "kVt4TN31SPYu3d0cjGyhuqzph0SzxazHtmBXzsEh5fjXKovZNKAMtlCHzmEQDeBkvLDFdujKxagg\n",
       "urPXDt6XS122d8iqcl/OORgWjK0CQLf7HF7t3jHtVtH7/qg5tVjZ/yjPgyWX0dWelu4t0ZvFvFv2\n",
       "t2CQ0UaU9wsC+vTViPJ2O46L5kEfjQZwcqOwhd3XLsYFEQ44+HYfV12fNMnaH+FckeAbDWCLAMQ5\n",
       "nGuJvL7FsQBbWzWedb7S2Xyx+FZyFQVp5bootPi6bB46nVTOGVGuU8o5zfgiUSFHLBAN4GR8MsLu\n",
       "YebGDpGIWagR8EKvSZKipv1z26uWniNgWHC2CABXtzOd29fDYh4P0PGDshGXmNl1Gf+0VnP11CJb\n",
       "6JYhMS4KLR6QFS6fCA713cBw96tNe9jfBpQbV/vlVRcSDeBk5JoL7752MXq3hnCoEfBCDxsQIgke\n",
       "gzEOCQvKFgGIZzqWDwRWpmpnIYcVpICL8vspYWK/co4H5fsxIdpsdY9soXrZD8p0QhRafFk27ch2\n",
       "q77sdF05Gc23PtuE00fdSk+eHJ5je5CVk51FH18f3bddjD6qQA6bEs/1Q3sklOT6gqVoWDC2CIBm\n",
       "KRXnUl9KGhbJj9W/5cVazd9joWkfMGmRKuXutzWSedImOyhjvthtB0SBxZdlE+qk9p5MK+vikmtg\n",
       "wI5JiT86HZ5+j2O7k7WTG89Wj+6bLsYEMQ6ZEhcVoSRygQ45NCwYWwQgDaLz1syZLR9Qaye4WfIF\n",
       "VHQetF6QHVTW5p3K3TZLfjXXIYWeV2yw9wC4lIMHvvNTN0a+AX1B9D1wLBHBcf0nDpj9nNAYN68I\n",
       "2SIA+U3PhkmTnZwe7Tz6guib4HQZYOV3D9gZ9Wz0jYpNbl5RsHnfIOwxAPm7l5e/Aw+PIfPzwX8D\n",
       "+S6Yx2KM/vwB+58TmpM07MfScBGAewL+/b9Iv+2jjX+M9WkK/wdrW3QnsFGmUgAAAABJRU5ErkJg\n",
       "gg==\n",
       "\" style=\"display:inline;vertical-align:middle;\" /></a><br>"
      ],
      "text/plain": [
       "defaults.assumptions: (a in Real, b in Real, c in Real, d in Real, x in Real, y in Real, 0 < a, b >= 0, c < 0, d <= 0, c != 0, x != y)"
      ]
     },
     "execution_count": 28,
     "metadata": {},
     "output_type": "execute_result"
    }
   ],
   "source": [
    "defaults.assumptions = (*basic_assumptions, NotEquals(x, y))"
   ]
  },
  {
   "cell_type": "code",
   "execution_count": 29,
   "metadata": {},
   "outputs": [
    {
     "data": {
      "text/html": [
       "<strong id=\"num_rel\">num_rel:</strong> <span style=\"font-size:20px;\"><a class=\"ProveItLink\" href=\"../../logic/equality/__pv_it/theorems/2740ee762f4cb09dc1cca5f0ea489cc6a83ece200/expr.ipynb\"><img src=\"data:image/png;base64,iVBORw0KGgoAAAANSUhEUgAAADMAAAAUCAMAAAAX1vWWAAAAOVBMVEX///8QEBAkJCQNDQ0oKChm\n",
       "ZmaqqqrMzMxEREQyMjIiIiKYmJh2dna6urrc3NxUVFSIiIju7u4AAACrOLOkAAAAAXRSTlMAQObY\n",
       "ZgAAANNJREFUOMutU9kOwyAMM9u4Wo7A/3/sSK+N0iIxLQ+AglPbIQW64RJGI9jhEkQ/TmN+oNH/\n",
       "pElEMXhydL4wuoZJRgRRWpkcME+E6eiRs0u8nrzKIwsvykZ5ewKXE3zo0gQFyV81LDjth1PoWDsA\n",
       "BGvLu4VMbY058/oiBjpv7Mfhy89DrK4+bIs0Yk9QafVF9WjZ0BDHffFZwZSaMNdCZCNWRkYzLEWi\n",
       "0vq5LoFtB5qRMofbd1byOi87g35BEws85ftBV67NTUW9oSEa+OKmN+f9X+0NZpkIQHTqGcUAAAAA\n",
       "SUVORK5CYII=\n",
       "\" style=\"display:inline;vertical-align:middle;\" /></a> <a class=\"ProveItLink\" href=\"../__pv_it/demonstrations/36fed3b871a4244452639d655a93a6baea9d672d0/proof.ipynb\" style=\"text-decoration: none\">&nbsp;&#x22A2;&nbsp;&nbsp;</a><a class=\"ProveItLink\" href=\"../../logic/equality/__pv_it/theorems/2740ee762f4cb09dc1cca5f0ea489cc6a83ece200/expr.ipynb\"><img src=\"data:image/png;base64,iVBORw0KGgoAAAANSUhEUgAAADMAAAAUCAMAAAAX1vWWAAAAOVBMVEX///8QEBAkJCQNDQ0oKChm\n",
       "ZmaqqqrMzMxEREQyMjIiIiKYmJh2dna6urrc3NxUVFSIiIju7u4AAACrOLOkAAAAAXRSTlMAQObY\n",
       "ZgAAANNJREFUOMutU9kOwyAMM9u4Wo7A/3/sSK+N0iIxLQ+AglPbIQW64RJGI9jhEkQ/TmN+oNH/\n",
       "pElEMXhydL4wuoZJRgRRWpkcME+E6eiRs0u8nrzKIwsvykZ5ewKXE3zo0gQFyV81LDjth1PoWDsA\n",
       "BGvLu4VMbY058/oiBjpv7Mfhy89DrK4+bIs0Yk9QafVF9WjZ0BDHffFZwZSaMNdCZCNWRkYzLEWi\n",
       "0vq5LoFtB5qRMofbd1byOi87g35BEws85ftBV67NTUW9oSEa+OKmN+f9X+0NZpkIQHTqGcUAAAAA\n",
       "SUVORK5CYII=\n",
       "\" style=\"display:inline;vertical-align:middle;\" /></a></span><br>"
      ],
      "text/plain": [
       "num_rel: {x != y} |- x != y"
      ]
     },
     "execution_count": 29,
     "metadata": {},
     "output_type": "execute_result"
    }
   ],
   "source": [
    "num_rel = NotEquals(x, y).prove()"
   ]
  },
  {
   "cell_type": "code",
   "execution_count": 30,
   "metadata": {},
   "outputs": [
    {
     "name": "stdout",
     "output_type": "stream",
     "text": [
      "Help on function transform_both_sides in module proveit.relation.relation:\n",
      "\n",
      "transform_both_sides(*args, **kwargs)\n",
      "    Divide both sides of the NotEquals relation by the 'divisor'.\n",
      "    The new relation will be simplified by default, unless\n",
      "    'simplify=False' is given as a keyword argument.\n",
      "\n"
     ]
    }
   ],
   "source": [
    "help(num_rel.divide_both_sides)"
   ]
  },
  {
   "cell_type": "code",
   "execution_count": 31,
   "metadata": {},
   "outputs": [
    {
     "data": {
      "text/html": [
       "<span style=\"font-size:20px;\"><a class=\"ProveItLink\" href=\"../__pv_it/demonstrations/97c2cd789f92aeb5958c71e9e8648177a398980b0/expr.ipynb\"><img src=\"data:image/png;base64,iVBORw0KGgoAAAANSUhEUgAAADEAAAAPBAMAAAC/wjryAAAAMFBMVEX///+6urqYmJgQEBDu7u5m\n",
       "ZmZUVFQyMjJERESqqqoiIiLc3NzMzMyIiIh2dnYAAABqS+z4AAAAAXRSTlMAQObYZgAAALpJREFU\n",
       "GNNjYEAHWhb95RYKDNhAgRvDCQ0HbDIN+xg4uBOQRTRWrSqAyrBuKECSOHEFoYd1QwOI9fbuASDJ\n",
       "UoJkGhsjyLRdEzhAWtk2IMnMCge5YB0D2wQgxYFwweZVy0EirF8g/MPlQAB1gSgHSAtzA0RmB5Kr\n",
       "WWVAgv4PIHxmZP+06AJpfmBAgE29gCRzjBXoXNYEBleQqxlWIoUO34QcIOOdEkS1W6MDLERrGDrq\n",
       "JyAFglzXKuQwAQDAXjdf5nEJUwAAAABJRU5ErkJggg==\n",
       "\" style=\"display:inline;vertical-align:middle;\" /></a>, <a class=\"ProveItLink\" href=\"../__pv_it/demonstrations/02bd6ad73acd9f4d3192ee4c61bfdcabbff20f180/expr.ipynb\"><img src=\"data:image/png;base64,iVBORw0KGgoAAAANSUhEUgAAADQAAAAPBAMAAABZ6/G2AAAAMFBMVEX///8QEBBmZmaqqqrMzMxE\n",
       "REQyMjIiIiKYmJh2dna6urrc3NxUVFSIiIju7u4AAAA6P00QAAAAAXRSTlMAQObYZgAAAMRJREFU\n",
       "GNNjYMAAHIWh3xIjGLACNr4DLBFxWKVYuScwBOxBEWotL0+ASWmzIcu43kPSpc0KZLy9s+vmBSDN\n",
       "l4ds4IE1QJEJHLXsIHN4NiBJMRcBFXI+4PzHBRJlRXKGeHkyyBwG1gCwgGMaEECdMUsB4nb+C2Bq\n",
       "K7LjtVzBLH8HMMWILMX6Aqie+cF9Bt4HQAGmC0hSLAdUGBjWG8Qz7ACLFCMFFMNkHgeGN3ffajSA\n",
       "Rd5EPYAHrwNr2Gfk4FgZDgkoKAAAelg1omM6Y4wAAAAASUVORK5CYII=\n",
       "\" style=\"display:inline;vertical-align:middle;\" /></a>, <a class=\"ProveItLink\" href=\"../__pv_it/demonstrations/0886f5b6aacf5197ba709a53d4f3243edcc3de560/expr.ipynb\"><img src=\"data:image/png;base64,iVBORw0KGgoAAAANSUhEUgAAADMAAAASBAMAAAAEf/uKAAAAMFBMVEX///8iIiKYmJhUVFTMzMxE\n",
       "REQyMjKqqqq6urp2dnYQEBDc3NxmZmaIiIju7u4AAACH5sGpAAAAAXRSTlMAQObYZgAAAN1JREFU\n",
       "GNNjYMAAikvj05YqMGAFCY8ZXFUfYJUK2MnAym2AIqQqKJgAleLZkIAs43oPoYtnQwADA9+dCwy7\n",
       "QAbz5SEZyMwBNJCTYwHDfZAA8wYkqcJjQNXbeRIYQkECrAhn7BIUKwDSD7guMPwFCXilAQHUGT2s\n",
       "YLf3P2D5AqK3IjmepyUAxDjGwLsARHMh+ytOF8QIZmAFe4/nApKUM48DkHGYoR8SYOJIAcVZYAJk\n",
       "PL57HuLsxxEPYMGbwhCaXwCxDQI6AwVRgoc5ge8H9ghgYFRgvYBDiuPuERwyAAfzPe7bmvmqAAAA\n",
       "AElFTkSuQmCC\n",
       "\" style=\"display:inline;vertical-align:middle;\" /></a>, <a class=\"ProveItLink\" href=\"../../logic/equality/__pv_it/theorems/2740ee762f4cb09dc1cca5f0ea489cc6a83ece200/expr.ipynb\"><img src=\"data:image/png;base64,iVBORw0KGgoAAAANSUhEUgAAADMAAAAUCAMAAAAX1vWWAAAAOVBMVEX///8QEBAkJCQNDQ0oKChm\n",
       "ZmaqqqrMzMxEREQyMjIiIiKYmJh2dna6urrc3NxUVFSIiIju7u4AAACrOLOkAAAAAXRSTlMAQObY\n",
       "ZgAAANNJREFUOMutU9kOwyAMM9u4Wo7A/3/sSK+N0iIxLQ+AglPbIQW64RJGI9jhEkQ/TmN+oNH/\n",
       "pElEMXhydL4wuoZJRgRRWpkcME+E6eiRs0u8nrzKIwsvykZ5ewKXE3zo0gQFyV81LDjth1PoWDsA\n",
       "BGvLu4VMbY058/oiBjpv7Mfhy89DrK4+bIs0Yk9QafVF9WjZ0BDHffFZwZSaMNdCZCNWRkYzLEWi\n",
       "0vq5LoFtB5qRMofbd1byOi87g35BEws85ftBV67NTUW9oSEa+OKmN+f9X+0NZpkIQHTqGcUAAAAA\n",
       "SUVORK5CYII=\n",
       "\" style=\"display:inline;vertical-align:middle;\" /></a>, <a class=\"ProveItLink\" href=\"../__pv_it/demonstrations/6153190b4c58255ca4f69a4d07d43e6c8dcc19340/expr.ipynb\"><img src=\"data:image/png;base64,iVBORw0KGgoAAAANSUhEUgAAAC8AAAAUCAMAAAAqRJTwAAAAOVBMVEX///8kJCQNDQ0oKCi6urqY\n",
       "mJgQEBDu7u5mZmZUVFQyMjJERESqqqoiIiLc3NzMzMyIiIh2dnYAAACLQYzIAAAAAXRSTlMAQObY\n",
       "ZgAAAMpJREFUKM+1UksWwyAItK0KimmE+x+2YpI+zcfXLMrCBB0GBjDm2hjMHXvHLjg7nof4YBsn\n",
       "JmNgeo/oqXGcrzniiL7NTkHPJPAbvZGKt5JWLTnvtVB7AYILPivTVKJoK41jtddTT9ySCetnrvhJ\n",
       "/0Ma0Bc8LvgCxTMRc+jcth5PJ2pp12lZ+5NKKPdLoHU//KLim4UqqdNSxNWbrv64H2QzL1QSwFaf\n",
       "xUOB2kPwFcTsXO4e47EDUGYULvYt4a09PqMfWeK/0hs7evwA0nQHsYFPOOgAAAAASUVORK5CYII=\n",
       "\" style=\"display:inline;vertical-align:middle;\" /></a> <a class=\"ProveItLink\" href=\"../__pv_it/demonstrations/d243842ac81a5e9ecfb773c5178ad49fa197d8fd0/proof.ipynb\" style=\"text-decoration: none\">&nbsp;&#x22A2;&nbsp;&nbsp;</a><a class=\"ProveItLink\" href=\"../__pv_it/demonstrations/2b6fa00eee6f3638629be85ff0c6d1a7a5a491110/expr.ipynb\"><img src=\"data:image/png;base64,iVBORw0KGgoAAAANSUhEUgAAADgAAAAlCAMAAAAgENppAAAAOVBMVEX///8kJCQNDQ0oKCgQEBBm\n",
       "ZmaqqqrMzMxEREQyMjIiIiKYmJh2dna6urrc3NxUVFSIiIju7u4AAADbNS0gAAAAAXRSTlMAQObY\n",
       "ZgAAARlJREFUSMe9VeHOgyAM7PYBAlJo+/4P+1GNi5hsVrOsP7DEO9vjBACAiVpFKgTnweQVVh33\n",
       "vADMmSAnA7EAuv4g0byTizBgPefVAF6/H6NW3xJLpwBOW5VNlhAYA3tvMMm0zl7JeSydkuqEwKtW\n",
       "Ygsxtm1ACRA7sc62ik0piuVG1N2Z3/HK2IjCvVgMSG90nkXDcdo5LGgoeDA4d0XR4l07+IRdocW6\n",
       "GuFexOkioaQl/p46+i8XlF0cXk3tA/hjwXq5x0Xjw61K21V2qvesQH/Tw8T3eOHnBcuPCwIaDSci\n",
       "60bYYWsO/f9KJtqAzboQLZiIe6wX+0IMWHfhfNhjWeyWjVhZD3GTxgGr1wGw6dQ7YEuZZ+sF+cL+\n",
       "AzgeDQ6k7KvfAAAAAElFTkSuQmCC\n",
       "\" style=\"display:inline;vertical-align:middle;\" /></a></span>"
      ],
      "text/plain": [
       "{c in Real, x in Real, y in Real, x != y, c != 0} |- x / c != y / c"
      ]
     },
     "execution_count": 31,
     "metadata": {},
     "output_type": "execute_result"
    }
   ],
   "source": [
    "num_rel.divide_both_sides(c)"
   ]
  },
  {
   "cell_type": "code",
   "execution_count": 32,
   "metadata": {},
   "outputs": [
    {
     "data": {
      "text/html": [
       "<span style=\"font-size:20px;\"><a class=\"ProveItLink\" href=\"../__pv_it/demonstrations/97c2cd789f92aeb5958c71e9e8648177a398980b0/expr.ipynb\"><img src=\"data:image/png;base64,iVBORw0KGgoAAAANSUhEUgAAADEAAAAPBAMAAAC/wjryAAAAMFBMVEX///+6urqYmJgQEBDu7u5m\n",
       "ZmZUVFQyMjJERESqqqoiIiLc3NzMzMyIiIh2dnYAAABqS+z4AAAAAXRSTlMAQObYZgAAALpJREFU\n",
       "GNNjYEAHWhb95RYKDNhAgRvDCQ0HbDIN+xg4uBOQRTRWrSqAyrBuKECSOHEFoYd1QwOI9fbuASDJ\n",
       "UoJkGhsjyLRdEzhAWtk2IMnMCge5YB0D2wQgxYFwweZVy0EirF8g/MPlQAB1gSgHSAtzA0RmB5Kr\n",
       "WWVAgv4PIHxmZP+06AJpfmBAgE29gCRzjBXoXNYEBleQqxlWIoUO34QcIOOdEkS1W6MDLERrGDrq\n",
       "JyAFglzXKuQwAQDAXjdf5nEJUwAAAABJRU5ErkJggg==\n",
       "\" style=\"display:inline;vertical-align:middle;\" /></a>, <a class=\"ProveItLink\" href=\"../__pv_it/demonstrations/02bd6ad73acd9f4d3192ee4c61bfdcabbff20f180/expr.ipynb\"><img src=\"data:image/png;base64,iVBORw0KGgoAAAANSUhEUgAAADQAAAAPBAMAAABZ6/G2AAAAMFBMVEX///8QEBBmZmaqqqrMzMxE\n",
       "REQyMjIiIiKYmJh2dna6urrc3NxUVFSIiIju7u4AAAA6P00QAAAAAXRSTlMAQObYZgAAAMRJREFU\n",
       "GNNjYMAAHIWh3xIjGLACNr4DLBFxWKVYuScwBOxBEWotL0+ASWmzIcu43kPSpc0KZLy9s+vmBSDN\n",
       "l4ds4IE1QJEJHLXsIHN4NiBJMRcBFXI+4PzHBRJlRXKGeHkyyBwG1gCwgGMaEECdMUsB4nb+C2Bq\n",
       "K7LjtVzBLH8HMMWILMX6Aqie+cF9Bt4HQAGmC0hSLAdUGBjWG8Qz7ACLFCMFFMNkHgeGN3ffajSA\n",
       "Rd5EPYAHrwNr2Gfk4FgZDgkoKAAAelg1omM6Y4wAAAAASUVORK5CYII=\n",
       "\" style=\"display:inline;vertical-align:middle;\" /></a>, <a class=\"ProveItLink\" href=\"../__pv_it/demonstrations/0886f5b6aacf5197ba709a53d4f3243edcc3de560/expr.ipynb\"><img src=\"data:image/png;base64,iVBORw0KGgoAAAANSUhEUgAAADMAAAASBAMAAAAEf/uKAAAAMFBMVEX///8iIiKYmJhUVFTMzMxE\n",
       "REQyMjKqqqq6urp2dnYQEBDc3NxmZmaIiIju7u4AAACH5sGpAAAAAXRSTlMAQObYZgAAAN1JREFU\n",
       "GNNjYMAAikvj05YqMGAFCY8ZXFUfYJUK2MnAym2AIqQqKJgAleLZkIAs43oPoYtnQwADA9+dCwy7\n",
       "QAbz5SEZyMwBNJCTYwHDfZAA8wYkqcJjQNXbeRIYQkECrAhn7BIUKwDSD7guMPwFCXilAQHUGT2s\n",
       "YLf3P2D5AqK3IjmepyUAxDjGwLsARHMh+ytOF8QIZmAFe4/nApKUM48DkHGYoR8SYOJIAcVZYAJk\n",
       "PL57HuLsxxEPYMGbwhCaXwCxDQI6AwVRgoc5ge8H9ghgYFRgvYBDiuPuERwyAAfzPe7bmvmqAAAA\n",
       "AElFTkSuQmCC\n",
       "\" style=\"display:inline;vertical-align:middle;\" /></a>, <a class=\"ProveItLink\" href=\"../../logic/equality/__pv_it/theorems/2740ee762f4cb09dc1cca5f0ea489cc6a83ece200/expr.ipynb\"><img src=\"data:image/png;base64,iVBORw0KGgoAAAANSUhEUgAAADMAAAAUCAMAAAAX1vWWAAAAOVBMVEX///8QEBAkJCQNDQ0oKChm\n",
       "ZmaqqqrMzMxEREQyMjIiIiKYmJh2dna6urrc3NxUVFSIiIju7u4AAACrOLOkAAAAAXRSTlMAQObY\n",
       "ZgAAANNJREFUOMutU9kOwyAMM9u4Wo7A/3/sSK+N0iIxLQ+AglPbIQW64RJGI9jhEkQ/TmN+oNH/\n",
       "pElEMXhydL4wuoZJRgRRWpkcME+E6eiRs0u8nrzKIwsvykZ5ewKXE3zo0gQFyV81LDjth1PoWDsA\n",
       "BGvLu4VMbY058/oiBjpv7Mfhy89DrK4+bIs0Yk9QafVF9WjZ0BDHffFZwZSaMNdCZCNWRkYzLEWi\n",
       "0vq5LoFtB5qRMofbd1byOi87g35BEws85ftBV67NTUW9oSEa+OKmN+f9X+0NZpkIQHTqGcUAAAAA\n",
       "SUVORK5CYII=\n",
       "\" style=\"display:inline;vertical-align:middle;\" /></a>, <a class=\"ProveItLink\" href=\"../__pv_it/demonstrations/6153190b4c58255ca4f69a4d07d43e6c8dcc19340/expr.ipynb\"><img src=\"data:image/png;base64,iVBORw0KGgoAAAANSUhEUgAAAC8AAAAUCAMAAAAqRJTwAAAAOVBMVEX///8kJCQNDQ0oKCi6urqY\n",
       "mJgQEBDu7u5mZmZUVFQyMjJERESqqqoiIiLc3NzMzMyIiIh2dnYAAACLQYzIAAAAAXRSTlMAQObY\n",
       "ZgAAAMpJREFUKM+1UksWwyAItK0KimmE+x+2YpI+zcfXLMrCBB0GBjDm2hjMHXvHLjg7nof4YBsn\n",
       "JmNgeo/oqXGcrzniiL7NTkHPJPAbvZGKt5JWLTnvtVB7AYILPivTVKJoK41jtddTT9ySCetnrvhJ\n",
       "/0Ma0Bc8LvgCxTMRc+jcth5PJ2pp12lZ+5NKKPdLoHU//KLim4UqqdNSxNWbrv64H2QzL1QSwFaf\n",
       "xUOB2kPwFcTsXO4e47EDUGYULvYt4a09PqMfWeK/0hs7evwA0nQHsYFPOOgAAAAASUVORK5CYII=\n",
       "\" style=\"display:inline;vertical-align:middle;\" /></a> <a class=\"ProveItLink\" href=\"../__pv_it/demonstrations/24afc172c97ba7813fc96a1e13d1c80a767508a10/proof.ipynb\" style=\"text-decoration: none\">&nbsp;&#x22A2;&nbsp;&nbsp;</a><a class=\"ProveItLink\" href=\"../__pv_it/demonstrations/4a93e3c9af6c674ea54d4826d3e67675ae0f3c410/expr.ipynb\"><img src=\"data:image/png;base64,iVBORw0KGgoAAAANSUhEUgAAAGIAAAAUCAMAAABBABjgAAAAOVBMVEX///8kJCQNDQ0oKCi6urqY\n",
       "mJgQEBDu7u5mZmZUVFQyMjJERESqqqoiIiLc3NzMzMyIiIh2dnYAAACLQYzIAAAAAXRSTlMAQObY\n",
       "ZgAAASdJREFUOMvNVduOxCAIZXe93wr+/8euON2O2jbTNjFZH2gqHuAAIsCTRRomr+RmewArppPw\n",
       "80ks/5IEIeIuMo1ok0DCUeGXa3DDyKS4+VIMBTc2iSYAGRHipiBX1883S/MmdQgHAqHKBzP/ROL8\n",
       "htVy2/qUNYj0gUQH3/ApgGG3nrNqcnOPdHbNWX+Q9cX2/x38jS+bihOVWajOTmwtZNy78AOrHt7g\n",
       "Bfte8sJ+6awLqr7JLtfgS70qYrewz+A1T6hqqLLuhOFE0K9SYT+O3FiaE3iha/8EGJbaDEUUOYAv\n",
       "LpLst80u2EP4qhBrAERS7pKuLWJpbdl7ALcfsYfw1YLJ6e4dDebeeXN/JLvr74R13Au3R3Kg62dj\n",
       "SbHHmSRAlEo8mMjPXqJfz/ILox1qdfEAAAAASUVORK5CYII=\n",
       "\" style=\"display:inline;vertical-align:middle;\" /></a></span>"
      ],
      "text/plain": [
       "{c in Real, x in Real, y in Real, x != y, c != 0} |- c * x != c * y"
      ]
     },
     "execution_count": 32,
     "metadata": {},
     "output_type": "execute_result"
    }
   ],
   "source": [
    "num_rel.left_mult_both_sides(c)"
   ]
  },
  {
   "cell_type": "code",
   "execution_count": 33,
   "metadata": {},
   "outputs": [],
   "source": [
    "%end demonstrations"
   ]
  }
 ],
 "metadata": {
  "kernelspec": {
   "display_name": "Python 3",
   "language": "python",
   "name": "python3"
  },
  "language_info": {
   "codemirror_mode": {
    "name": "ipython",
    "version": 3
   },
   "file_extension": ".py",
   "mimetype": "text/x-python",
   "name": "python",
   "nbconvert_exporter": "python",
   "pygments_lexer": "ipython3",
   "version": "3.7.3"
  }
 },
 "nbformat": 4,
 "nbformat_minor": 1
}
