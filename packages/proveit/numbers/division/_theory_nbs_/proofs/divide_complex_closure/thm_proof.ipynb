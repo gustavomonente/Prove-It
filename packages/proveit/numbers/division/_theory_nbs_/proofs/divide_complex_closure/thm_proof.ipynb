{
 "cells": [
  {
   "cell_type": "markdown",
   "metadata": {},
   "source": [
    "Proof of <a class=\"ProveItLink\" href=\"../../../../../_theory_nbs_/theory.ipynb\">proveit</a>.<a class=\"ProveItLink\" href=\"../../../../_theory_nbs_/theory.ipynb\">numbers</a>.<a class=\"ProveItLink\" href=\"../../theory.ipynb\">division</a>.<a class=\"ProveItLink\" href=\"../../theorems.ipynb#divide_complex_closure\">divide_complex_closure</a> theorem\n",
    "========"
   ]
  },
  {
   "cell_type": "code",
   "execution_count": 1,
   "metadata": {},
   "outputs": [],
   "source": [
    "import proveit\n",
    "theory = proveit.Theory() # the theorem's theory"
   ]
  },
  {
   "cell_type": "code",
   "execution_count": 2,
   "metadata": {},
   "outputs": [
    {
     "data": {
      "text/html": [
       "Under these <a href=\"presumptions.txt\">presumptions</a>, we begin our proof of<br><strong id=\"divide_complex_closure\">divide_complex_closure:</strong> <a class=\"ProveItLink\" href=\"../../../__pv_it/theorems/98b8a05e37711f7801556e2150505ed2d63c3f200/expr.ipynb\"><img src=\"data:image/png;base64,iVBORw0KGgoAAAANSUhEUgAAAL4AAAAmCAMAAABNn9GBAAAAOVBMVEX///8oKCgUFBQNDQ0QEBCI\n",
       "iIhmZma6urrMzMxUVFQiIiJERETc3Nzu7u6qqqp2dnaYmJgyMjIAAAArQGDrAAAAAXRSTlMAQObY\n",
       "ZgAAA4ZJREFUWMPFWImu4yAMZPdhbnP9/8cuJJCjkLREb4ulVpECZBjGg4GQeeH9054oyfSAUB4M\n",
       "cwwojvTlYTZ6XgFzaggJcXDuk/lHKupD1hDTg/2DnwpfVvpYzKugYLC/GVPbL4eIpjzRzDtG8Xj+\n",
       "MyLUj2N06d/GBwTMo99s5GO0mcpArBllAKbBZ7vx6YTCK0nc8LZBp8GncNiCAISRwMdXMHUJv7AJ\n",
       "PtCOeNALggqRKs0qB2nBnN209L1U8OOZSoTIWYIs+go/JQwxdb8w+ovSV+MzJhLK1Ct8iAfS92X4\n",
       "/6HeU+W1SrFJ2wtS9ylZ4dtsX95hDqO+mLkbgZdK0XCWMtvVgbA5f2Y86hzKfRP+G8vG1zxMFbJo\n",
       "powxm41cXECbTlX6vizl180XBOCg5WX97l1B8ArGOMKhzwJny3w7o7h2ja12Usl9JH3ZnGVWfMJu\n",
       "Zeubb+A3qWFYF/7CTFY99AYMNZvROsZSCxQ6cSqC634oHJPfLKBVXp2mOFlFWyDssb+noUYFoIlw\n",
       "Fynk/DqF9rWpLmANZgzeLGPYPvx4XPI8z1JIUnsDv7urtcaUkkFewDeBiPIOGcggtq8ASCzqWtQt\n",
       "7PrO9ODX5mtTt5fFyo+Kp61m0l4lT0m1Fas5beWagqjEoRAFhQTYoa7w6M21SktzuRjZT/r5MlZz\n",
       "FMF3zsPa9xqq+LdzbmXB1l2QJbBCnWrBkFZky1u0N/BL83Uq9nAoodDPubt9zXaKVO0wZaHW+KrB\n",
       "ykZW6X4IpmlJWDJctfCZ0BkrxDX80rxkWqE5t49NMUnfnZRQat4kPAs0KrYj4HVgj+VriSztsXTM\n",
       "K58ntH+LlR0Pe/BLc5n84u+f7Br+ynmIPto0atoxDu70sWjoF34vA1OTVoT7nPvpTdKyz/Cc2O13\n",
       "eXZd36/Nq2kuImI93yfunJvhXQ3RD/ea4VyChWzwIrMupCupvSkRXQhaiq54tuZE76yA6+x9qdg6\n",
       "8RafVYvhRoKnEWHV/if743lbuJL2yTn5s0P3Xenx6cG5B/+DCzx9JM49K3ZtNDeng8fw/QdSOB2z\n",
       "QzrtsnH9sF+453yWdOV6pD6nigDj6D1JW4t8MSC85HEcvbWBefckmTtxEgHG0eMSnXpH68PJ9fmo\n",
       "ecLkG/7NiBf/Y4PmaaiZCz9Xtyt8Xi/5RzpbMjmMWgmUCbkedDDtyfQwoh6R3CAarDXsP0kWJWyx\n",
       "YHctAAAAAElFTkSuQmCC\n",
       "\" style=\"display:inline;vertical-align:middle;\" /></a><br>(see <a class=\"ProveItLink\" href=\"../../../__pv_it/theorems/329043fb838257415541b63f1bf761fd26acdf940/dependencies.ipynb\">dependencies</a>)<br>"
      ],
      "text/plain": [
       "divide_complex_closure: forall_{a, b in Complex | b != 0} ((a / b) in Complex)"
      ]
     },
     "execution_count": 2,
     "metadata": {},
     "output_type": "execute_result"
    }
   ],
   "source": [
    "%proving divide_complex_closure"
   ]
  },
  {
   "cell_type": "code",
   "execution_count": null,
   "metadata": {},
   "outputs": [],
   "source": []
  }
 ],
 "metadata": {
  "kernelspec": {
   "display_name": "Python 3",
   "language": "python",
   "name": "python3"
  }
 },
 "nbformat": 4,
 "nbformat_minor": 0
}