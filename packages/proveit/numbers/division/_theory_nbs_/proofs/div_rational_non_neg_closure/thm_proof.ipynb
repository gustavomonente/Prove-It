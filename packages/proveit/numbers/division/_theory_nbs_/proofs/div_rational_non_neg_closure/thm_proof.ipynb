{
 "cells": [
  {
   "cell_type": "markdown",
   "metadata": {},
   "source": [
    "Proof of <a class=\"ProveItLink\" href=\"../../../../../_theory_nbs_/theory.ipynb\">proveit</a>.<a class=\"ProveItLink\" href=\"../../../../_theory_nbs_/theory.ipynb\">numbers</a>.<a class=\"ProveItLink\" href=\"../../theory.ipynb\">division</a>.<a class=\"ProveItLink\" href=\"../../theorems.ipynb#div_rational_non_neg_closure\">div_rational_non_neg_closure</a> theorem\n",
    "========"
   ]
  },
  {
   "cell_type": "code",
   "execution_count": 1,
   "metadata": {},
   "outputs": [],
   "source": [
    "import proveit\n",
    "theory = proveit.Theory() # the theorem's theory"
   ]
  },
  {
   "cell_type": "code",
   "execution_count": 2,
   "metadata": {},
   "outputs": [
    {
     "data": {
      "text/html": [
       "Under these <a href=\"presumptions.txt\">presumptions</a>, we begin our proof of<br><strong id=\"div_rational_non_neg_closure\">div_rational_non_neg_closure:</strong> <a class=\"ProveItLink\" href=\"../../../__pv_it/theorems/8aefa1f2af870bfa9bc14eecd59fa52ec51586e50/expr.ipynb\"><img src=\"data:image/png;base64,iVBORw0KGgoAAAANSUhEUgAAAN4AAAAmBAMAAABZiDjwAAAAMFBMVEX///8QEBCIiIhmZma6urrM\n",
       "zMxUVFQiIiJERETc3Nzu7u6qqqp2dnaYmJgyMjIAAAAcRTyBAAAAAXRSTlMAQObYZgAABAVJREFU\n",
       "WMOtV2loE0EUfrvJ5tgkXREED4SoUMSjhhYPEDWoPz2i4vVHg3ggKogHBfWHStVYUVcK2j/iilKl\n",
       "FLIoCsUr2IJaK6x/VOpBsOiPilY8wHq/t5tsN5MsXbKZsJPNfC/zzbx575sZALclojk0FJNQiVKD\n",
       "T1PHOGVoyyWVoPOOxmcU9Dsw5SsxwYsJfDSY5cT2YwX4NuMzT4FdQ0ztfgbrM4prOmEAq5Egfrdz\n",
       "91b96xXcxNrn3qFV2IX4G0Kf7QyaNlG9ByScm/DTNd8FGfl+gS/bbkt4BGj6nIrvb13zzaXqMDxP\n",
       "ZmxN2hrI635K06eu+YZT1TJ+7Ya4vU1bHzrSHyVvxCFLLa/LpQt+t4VWpE5tzCmChvPjiI/LwGNq\n",
       "6StbzGzjpGWLLL5vJBmbqNL6SeQAXxaaaZQHy+Xz7LRDGqYj5zoFxIdxMz6B/wxV+B1Wy+XzF430\n",
       "RX09LRGvYR24nBRn6Qs7Qc8/CA1ApKu19VzZ4SLFmIY1k3J5GUSEjzcKCUNfunVD4RfAj1TqQPl8\n",
       "UWbPyUfCWQHj36t1MvAfAMz/48UypaNPukqSWFItzWx+Pjn3Mj+EayRE7zB//QKwAMRscdxtwyqg\n",
       "XNUl8BMDWnx4geEL5F+WG3y3QiksjSb+G5cc17YgO7fPwEF6d2C24IdKRyFk5VtPkSb9o6L/XvYJ\n",
       "Cw3fp/tTfcQM9SsGp+Y33Xu7TgtWQ/glebRWOQN+fbU/MBDLZynN5kSNeEkW8wWzq8xYbm8F/jyI\n",
       "k2kWa9Q830AB1FG3u0618ydn7kPaQcoHBsadBKOFZOdS9Tvw0sBXotBH0eymBhJwlKTCl2qlALLM\n",
       "L83Ep8f83Un5voKVP4xPuI4aIe5FSa2iph7sMBqFZ6oZL/w+PmaFrHwSuy3sNyNupiz2skc3yj89\n",
       "hzwxYSdcoqZJ1GnGkxjMh0A0krVABXwcu0AtDfkzQ+Rvf5Fseb8RgBacioen1Ri60RvtRqeWPuOe\n",
       "ZAFk4QvoqSQeGpTRRcfqc+nVGSo6PkTyG3xaDvQoPn2AGBRT1bbu7u78jiYpnGqBABKDHYSHGeoV\n",
       "KyEL4Ud3axl358xxDvL6xRCmjvgZEJ5ojXDFr7woDZEAGwOWSgp+U6o3XnzaMRy74docgBP0Ou3A\n",
       "aasflqnC9kxpKCeIWJY6POgx8sfjIgE0LixoVO0hLEf1+oFDeb8nl2hsPt9uaQ7JthCYJ6D342c7\n",
       "P10V3WOm1FrcE7GHdA/R9MW/Slp2wjfG9fmMzxpRw26EpY2Hub8/jCAVy0I648CW09zzvTHSb6mT\n",
       "I1BNBe5HAXSkpNEVaejD6qgK8Il7kS8ujnVgekWtAB+ck8GnBWIOLE9W5P4eTIBY+8SJJ0jc/gOa\n",
       "Ais33YKq6wAAAABJRU5ErkJggg==\n",
       "\" style=\"display:inline;vertical-align:middle;\" /></a><br>(see <a class=\"ProveItLink\" href=\"../../../__pv_it/theorems/d0c68ee5d463d96c63ffaffbec53afff6a326ae50/dependencies.ipynb\">dependencies</a>)<br>"
      ],
      "text/plain": [
       "div_rational_non_neg_closure: forall_{a in RationalNonNeg, b in RationalPos} ((a / b) in RationalNonNeg)"
      ]
     },
     "execution_count": 2,
     "metadata": {},
     "output_type": "execute_result"
    }
   ],
   "source": [
    "%proving div_rational_non_neg_closure"
   ]
  },
  {
   "cell_type": "code",
   "execution_count": null,
   "metadata": {},
   "outputs": [],
   "source": []
  }
 ],
 "metadata": {
  "kernelspec": {
   "display_name": "Python 3",
   "language": "python",
   "name": "python3"
  }
 },
 "nbformat": 4,
 "nbformat_minor": 0
}