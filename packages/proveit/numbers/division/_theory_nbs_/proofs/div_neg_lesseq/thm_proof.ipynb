{
 "cells": [
  {
   "cell_type": "markdown",
   "metadata": {},
   "source": [
    "Proof of <a class=\"ProveItLink\" href=\"../../../../../_theory_nbs_/theory.ipynb\">proveit</a>.<a class=\"ProveItLink\" href=\"../../../../_theory_nbs_/theory.ipynb\">numbers</a>.<a class=\"ProveItLink\" href=\"../../theory.ipynb\">division</a>.<a class=\"ProveItLink\" href=\"../../theorems.ipynb#div_neg_lesseq\">div_neg_lesseq</a> theorem\n",
    "========"
   ]
  },
  {
   "cell_type": "code",
   "execution_count": 1,
   "metadata": {},
   "outputs": [],
   "source": [
    "import proveit\n",
    "theory = proveit.Theory() # the theorem's theory"
   ]
  },
  {
   "cell_type": "code",
   "execution_count": 2,
   "metadata": {},
   "outputs": [
    {
     "data": {
      "text/html": [
       "Under these <a href=\"presumptions.txt\">presumptions</a>, we begin our proof of<br><strong id=\"div_neg_lesseq\">div_neg_lesseq:</strong> <a class=\"ProveItLink\" href=\"../../../__pv_it/theorems/ee5d6ff118179e0e5d89db93f0ac0c1e6fdc58150/expr.ipynb\"><img src=\"data:image/png;base64,iVBORw0KGgoAAAANSUhEUgAAAPgAAAAmBAMAAAAby0tnAAAAMFBMVEX///8QEBCIiIhmZma6urrM\n",
       "zMxUVFQiIiJERETc3Nzu7u6qqqp2dnaYmJgyMjIAAAAcRTyBAAAAAXRSTlMAQObYZgAABFBJREFU\n",
       "WMO1WF1oHFUU/nZ2ZudnZ7NB8KENhSXRJWhNS0OrD02MFiqINVsf1LcNwaoPGkqaqGiEIBo2leiK\n",
       "kpaKZEwlxRjZRbGgLx0iQo2lrOCT1DKIVvAHFm3ApIqee2dmszt31qywc2H33j13Zr57z/3Od84s\n",
       "EFFLVf5z2hhBhK2PPovZt3ZnBNieDN6w8GCE2PJOgrFT46oTnDHlTuwBpAi3/m6OYCxzUy4GZ96O\n",
       "OyhQ/1t04I8zB0ObFmesWAa/U0+uj6gpG7xLZ0Lmhi1lnbpEZH7vcJ+cz4XMDULqZOvbjAp8gR11\n",
       "0toDSXTuDDS+tO+jAh/k/i2/jnfEuQMY5hrwdVTgN7Gvpe7FgRCpWeq+m4fAwhB4HH7XZmx9fXu/\n",
       "IGbjK9b/3G5trQZU7cTW0Scc47o3wGm20Ok2g8ePBwzJazWxUSuaG4BSFR20JrPcZnBV2I18zY86\n",
       "uXu/t6ANpNaWl0+1m2/pvaLsFIaClhvAn4XCVNvBQ5RNHwv41/gbOAbMtpCltr9EWrX9YSksmet3\n",
       "BpIMKfwhGE6z5yXHZwbdTWiNdpGh9+MKztcELgw8dSJg+IvIASm86Pjg8wFkbHNRBE+KyvjoCCaQ\n",
       "9gMqzz38D281x0y5s9zIQ/EPonpFDY/VV89YBJ76UABPial4fhbGOmLlBvCGtjIumAhcdx6mwdns\n",
       "j+z36v4shYSchWodYr8JfKUO3Ox56Bgkjn3vCJ5nrNk3RjecfYVnUbXS1O1vviiWceR2zD5Gg0me\n",
       "4SRrTKWIMNPWUVd3M3a8vw78toQzIb/Ah/amwhLjuVzewsoPbopUfZKXgmyf/yWEgMR2fExyFN+r\n",
       "MFFS3OLmzH3oNXioZg48MVQHnuuowLjILPp7xyXGun48AmWXVz/EfMy0Hdjky2EFxw0vKGNlr6Bz\n",
       "K5CDGFWeKxReQubLO+rBkaZoMS6yE43bCQbVhSxwmV1DZ572dSTWSpUiM4lPEQtLRe1bRkalqjD7\n",
       "BG7GiOv2T9bqwfNgKtlH6OpQjIbGBuaWYdyV4zfV2K45rWQfv5SJFfNHcNpaMB2TOkzKVXzhgpt1\n",
       "hNOrl8EderUCNTcM/SR2KNeJXPqT5JGerTg3O1sAr10kj340gKPlpW9W16jD4V4HGm0vOfWr0e/U\n",
       "wI2nH9jtbu4zuuM1KF04fHsPY7Y+U4R0qaboyUB9Zvz0LGu5sDrPb150lo2iRk/spTOvNS247vcx\n",
       "RyBb7JkNyva2rVGDk0WvS9jCy4wA/pRMHvm02YNnWgC/0CD1Kb+Tr9jNwZMFaidx5BKNm74MusWh\n",
       "fnDfzpD49qyDrdcm/y+nlvgJ3lPsqIpzvrUrqupVYiw1diEupj/fKnVGBU46Qd6qE9w6H3rWWCUy\n",
       "8Kvs8dMoie9LvrUvurdUVqGWbFwIoYNr1XdEB25MctaNJYshXGTWc+XowHGqSLtPPWOG+IRb56L8\n",
       "T0bPwRi9df4W0SfcarAE+C+imiEqA/WHKwAAAABJRU5ErkJggg==\n",
       "\" style=\"display:inline;vertical-align:middle;\" /></a><br>(see <a class=\"ProveItLink\" href=\"../../../__pv_it/theorems/b8298271ff8479d24824cd223daa6f99915e2ba50/dependencies.ipynb\">dependencies</a>)<br>"
      ],
      "text/plain": [
       "div_neg_lesseq: forall_{a, x, y in Real | x <= y, a < 0} ((x / a) >= (y / a))"
      ]
     },
     "execution_count": 2,
     "metadata": {},
     "output_type": "execute_result"
    }
   ],
   "source": [
    "%proving div_neg_lesseq"
   ]
  },
  {
   "cell_type": "code",
   "execution_count": null,
   "metadata": {},
   "outputs": [],
   "source": []
  }
 ],
 "metadata": {
  "kernelspec": {
   "display_name": "Python 3",
   "language": "python",
   "name": "python3"
  }
 },
 "nbformat": 4,
 "nbformat_minor": 0
}