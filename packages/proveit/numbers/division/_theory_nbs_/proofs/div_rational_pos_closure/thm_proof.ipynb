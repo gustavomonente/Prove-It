{
 "cells": [
  {
   "cell_type": "markdown",
   "metadata": {},
   "source": [
    "Proof of <a class=\"ProveItLink\" href=\"../../../../../_theory_nbs_/theory.ipynb\">proveit</a>.<a class=\"ProveItLink\" href=\"../../../../_theory_nbs_/theory.ipynb\">numbers</a>.<a class=\"ProveItLink\" href=\"../../theory.ipynb\">division</a>.<a class=\"ProveItLink\" href=\"../../theorems.ipynb#div_rational_pos_closure\">div_rational_pos_closure</a> theorem\n",
    "========"
   ]
  },
  {
   "cell_type": "code",
   "execution_count": 1,
   "metadata": {},
   "outputs": [],
   "source": [
    "import proveit\n",
    "theory = proveit.Theory() # the theorem's theory"
   ]
  },
  {
   "cell_type": "code",
   "execution_count": 2,
   "metadata": {},
   "outputs": [
    {
     "data": {
      "text/html": [
       "Under these <a href=\"presumptions.txt\">presumptions</a>, we begin our proof of<br><strong id=\"div_rational_pos_closure\">div_rational_pos_closure:</strong> <a class=\"ProveItLink\" href=\"../../../__pv_it/theorems/316f74e3a89aa3c6eecb86e7b4bf6e88a31cce5d0/expr.ipynb\"><img src=\"data:image/png;base64,iVBORw0KGgoAAAANSUhEUgAAAKsAAAAmBAMAAABJ6HYsAAAAMFBMVEX///8QEBCIiIhmZma6urrM\n",
       "zMxUVFQiIiJERETc3Nzu7u6qqqp2dnaYmJgyMjIAAAAcRTyBAAAAAXRSTlMAQObYZgAAA3RJREFU\n",
       "SMeVlltIFFEYgP9d9zazu24vRUXJ6MMSXZeVNIhouzwFoSUVveQgXUFCiugmYRK0GtiEVL5IE4qB\n",
       "RLsUPSxd3FAoi2DeEiNakHwoWsMK8lr/mXHnlrMz5zycOZf/fOc///n//wwARfnkRKgPKIs7h1Xn\n",
       "YLlYVMqTo8TuQJ5nBUzYiEXpqOxSrO5LsMVGrlSiwvp4rLaLcMZGjllJha0XsFoO7G87weNU2HFi\n",
       "iFkI/rAW4ZX9RQoqM0WwM+DLZSxlWhTjchTYEtlxWuEDn7XBhpdQYF2yDn0VhxsSNljmF0DOafjc\n",
       "q7Wcqkt2HNVhYRXAO/L96gD72TpcTwjseDv48vmy/HcycBqgi2jd4gBbbTlzbTOij4iatpvw2rAb\n",
       "SjvAXjAPhK+fvyKnCgkNGejlNeyAAOG3/f13nVzZT1Pf27rgnqVMDNmJdg1bj2r+SSabLVk6X5o0\n",
       "TT0qOP0dLyYBjzSkYVM4cAygzRIb0xLNnGnqVKGxM4jKebkXGjaCvrgLWDVDevKWWGZuUR/Fsl/B\n",
       "PsOmsIDFQ/rR5qrsYKHxsLFKMGC9M/KCv6TI/bI8FjmzyUZID2s7RnBZSPJrA9/IcZ9XSkwUQh9h\n",
       "sPJsZdqA1aUIVduAcmW8EcvkDmoDJJ2MZPrB3Q3sOqGoEdTA90gtxMF0yTtFbrqNBF5P9AtRaTIq\n",
       "egjqAGYpTjJcmdkT4mpriIRDnT7OyRZPmnDROe808exL7lgpmRjFCY7TY2HWhPWrMRSuFtgx/UtD\n",
       "/FZ2h5KYt4mYiQvnesjEWoLNGrDLzE/byT0qd37CEKc1JMeF0a9daTcxuStRwh9KJpPc04yC1WWt\n",
       "DgV2tUm16RsleIkZgrwhKxUiJSUERrEdEV1pn5yU8Mo2GDPFq4VQjS0SNaHhl/Hsf6KoplC/F7pE\n",
       "vzgCIaKhuwpCa4xLBxQVIoumpc7kWML46ikHani8DfalvY245w05tzXf5I0rU8ql1Ni/f+Y4VxRx\n",
       "o20B2nebhAPKNq/tc11wytgVdJ2u7oxgTK+K/49XbHX2mGoLDSdZHzcel5Wjl50XU4LdY+rkVVDL\n",
       "RvlE07KfFy3lVH81rlrlgKmsjeBqKmw4p7htTdrBbzBFaSVuK5GfxqLllkCHfYBWiCRYmzOylyn/\n",
       "xpmL+BRIgVhxqYBEiYXbqEv8vY1QL6n+AUIk59L7U78hAAAAAElFTkSuQmCC\n",
       "\" style=\"display:inline;vertical-align:middle;\" /></a><br>(see <a class=\"ProveItLink\" href=\"../../../__pv_it/theorems/d57ebffad91fbb2065fc0d10cfbb3e6d7172ba6a0/dependencies.ipynb\">dependencies</a>)<br>"
      ],
      "text/plain": [
       "div_rational_pos_closure: forall_{a, b in RationalPos} ((a / b) in RationalPos)"
      ]
     },
     "execution_count": 2,
     "metadata": {},
     "output_type": "execute_result"
    }
   ],
   "source": [
    "%proving div_rational_pos_closure"
   ]
  },
  {
   "cell_type": "code",
   "execution_count": null,
   "metadata": {},
   "outputs": [],
   "source": []
  }
 ],
 "metadata": {
  "kernelspec": {
   "display_name": "Python 3",
   "language": "python",
   "name": "python3"
  }
 },
 "nbformat": 4,
 "nbformat_minor": 0
}