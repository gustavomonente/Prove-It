{
 "cells": [
  {
   "cell_type": "markdown",
   "metadata": {},
   "source": [
    "Proof of <a class=\"ProveItLink\" href=\"../../../../../_theory_nbs_/theory.ipynb\">proveit</a>.<a class=\"ProveItLink\" href=\"../../../../_theory_nbs_/theory.ipynb\">numbers</a>.<a class=\"ProveItLink\" href=\"../../theory.ipynb\">division</a>.<a class=\"ProveItLink\" href=\"../../theorems.ipynb#div_pos_lesseq\">div_pos_lesseq</a> theorem\n",
    "========"
   ]
  },
  {
   "cell_type": "code",
   "execution_count": 1,
   "metadata": {},
   "outputs": [],
   "source": [
    "import proveit\n",
    "theory = proveit.Theory() # the theorem's theory"
   ]
  },
  {
   "cell_type": "code",
   "execution_count": 2,
   "metadata": {},
   "outputs": [
    {
     "data": {
      "text/html": [
       "Under these <a href=\"presumptions.txt\">presumptions</a>, we begin our proof of<br><strong id=\"div_pos_lesseq\">div_pos_lesseq:</strong> <a class=\"ProveItLink\" href=\"../../../__pv_it/theorems/06f9d0c77a11821e058cfc85bac67a4b478d04ab0/expr.ipynb\"><img src=\"data:image/png;base64,iVBORw0KGgoAAAANSUhEUgAAAPgAAAAmBAMAAAAby0tnAAAAMFBMVEX///8QEBCIiIhmZma6urrM\n",
       "zMxUVFQiIiJERETc3Nzu7u6qqqp2dnaYmJgyMjIAAAAcRTyBAAAAAXRSTlMAQObYZgAABE9JREFU\n",
       "WMO1WF1oHFUUPjM7s/O72SD4kAZhSHQbak1LQytKE6OF+mKbrQ/atw3B+AMaSmlUtA/Bn7CtpK4g\n",
       "aalIxigpRmUXxYI+2CFSWrelrFAoSC1DQQRRWLQBExU9996ddXfuXbPC3gPJvXvu7P3uPT/fObMA\n",
       "kiRV+c9lexwkyiD+LWbe3upxsP0evOXDfonY2iaECVKHjTC+4mrdsA1AlXj197II47vrWiG+8k4i\n",
       "hDyOv8gDf5IYGMwZfsVXPPgVRzS9JNHX6JD2BGtjvr6KQ1Ka3bvYzrmsYG0E1G5yvnVZ4AvE1Y6/\n",
       "DVTeuLNg0qPdlAU+Qu1behPe5dd2wRjlgG9lgd9G/i31LQ4LqGap7wGaAgujQPPw+w5jW6sb2wWU\n",
       "AC6R8adOc2tVpN1Mwy8Z2reATeAUOehMh8EThwRsfoHlnVEx2UStQheGo1vqMLjB38a6t+Z+rW8n\n",
       "mzhrkCovL5/sdLylt3PYU9wF9T8Afs/nj3YcPM5s+olR3g9/AUwCHGujSm38iLoSRNNiPMPyIqpD\n",
       "ht8DdthqP+fw7Ai7hNmsb/KpxXa+DmfrBBcH37xFsPufGBygipuOj74eBi9wF3lwp5kZ7acpaRyB\n",
       "dMSlOergv6kwzbVy9DRV0lT8DUO9Yohz9Y3TPoKnPuHAU/FSbM0iur0KSqkJvEm+uo9TIbgVPoaT\n",
       "9zM/kM8rOzNoQy0Dhr+HfEbwjxvA3f5HJ0Gl2A+Nw0vk1jum8Av6qz6pokalldlR9k/GAw7NDsee\n",
       "wMk0rXCqP2VgWLpp/wDjXS9IDDWAb0mGR7SX6TRY10lhPJPNEVtrN0mJNKIgL4rq+MHXYvbCaIfP\n",
       "kI4S23VCSjprbk4/DAM2TVVv11OjDeDZrgrYF4nG+uCQSqJuCB5nrujBmysRZjoQOXI+y+U5TUql\n",
       "VGvoWAeyGyb0F/P5V8D75p5GcEgT514kHk0ESQLVCxnmUg99no6SWWmnS9EIxafQbsWC+R0xn17V\n",
       "WeDeDuPM7J+XG8FzQE4/iOjGqIJTew3mlolDy03RbobtVJ+olVEKuX1wyl9wQxcHmNaqcJ6Buw0B\n",
       "Z1WvADXojQoY2TGwjkOPfguD6+D9qOz/N8/d7jbA6w9pE58Ow4HS0tWVMg6wdyAEE6/nHP3ZHgrr\n",
       "4PZzj2xll/sSv3EC9F7Ye3d/BeafoQx3uc7oTqw/s398gUhW1OdFUsvOkl0w8ToD6PO6mPFzfwhz\n",
       "CMIi53URbW8ozRzsFGpDMuBeZjjwZzW0yBetNp5tA/xc0/tEKhq060FrcCePchz2XcZ5y5dB1hxa\n",
       "u3dsEvRYNe1I+73J/6upRerBBwtdgn4q0vbK6l5VEqX2HZDgW5pIq3bLAkeeQGs1EG6DDWtapSIN\n",
       "/AbZfgaKfBMRaQflvaWSDrUYwDlBODCt1SMP3J6mUTflFASxSLRnSvLA4WQBb5963hXYhGrnZP4m\n",
       "g42dPXHX/J28TajWJgXwHxt9HtEdA+PpAAAAAElFTkSuQmCC\n",
       "\" style=\"display:inline;vertical-align:middle;\" /></a><br>(see <a class=\"ProveItLink\" href=\"../../../__pv_it/theorems/cf5abf330ae27d9f9cb2c329e53a3cfc6803094a0/dependencies.ipynb\">dependencies</a>)<br>"
      ],
      "text/plain": [
       "div_pos_lesseq: forall_{a, x, y in Real | x <= y, a > 0} ((x / a) <= (y / a))"
      ]
     },
     "execution_count": 2,
     "metadata": {},
     "output_type": "execute_result"
    }
   ],
   "source": [
    "%proving div_pos_lesseq"
   ]
  },
  {
   "cell_type": "code",
   "execution_count": null,
   "metadata": {},
   "outputs": [],
   "source": []
  }
 ],
 "metadata": {
  "kernelspec": {
   "display_name": "Python 3",
   "language": "python",
   "name": "python3"
  }
 },
 "nbformat": 4,
 "nbformat_minor": 0
}