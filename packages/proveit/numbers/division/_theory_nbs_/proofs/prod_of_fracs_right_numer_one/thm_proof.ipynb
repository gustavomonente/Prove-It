{
 "cells": [
  {
   "cell_type": "markdown",
   "metadata": {},
   "source": [
    "Proof of <a class=\"ProveItLink\" href=\"../../../../../_theory_nbs_/theory.ipynb\">proveit</a>.<a class=\"ProveItLink\" href=\"../../../../_theory_nbs_/theory.ipynb\">numbers</a>.<a class=\"ProveItLink\" href=\"../../theory.ipynb\">division</a>.<a class=\"ProveItLink\" href=\"../../theorems.ipynb#prod_of_fracs_right_numer_one\">prod_of_fracs_right_numer_one</a> theorem\n",
    "========"
   ]
  },
  {
   "cell_type": "code",
   "execution_count": 1,
   "metadata": {},
   "outputs": [],
   "source": [
    "import proveit\n",
    "theory = proveit.Theory() # the theorem's theory"
   ]
  },
  {
   "cell_type": "code",
   "execution_count": 2,
   "metadata": {},
   "outputs": [
    {
     "data": {
      "text/html": [
       "Under these <a href=\"presumptions.txt\">presumptions</a>, we begin our proof of<br><strong id=\"prod_of_fracs_right_numer_one\">prod_of_fracs_right_numer_one:</strong> <a class=\"ProveItLink\" href=\"../../../__pv_it/theorems/bb7c3318da277ecfd3dda30a6372fb1e6513e2020/expr.ipynb\"><img src=\"data:image/png;base64,iVBORw0KGgoAAAANSUhEUgAAAP8AAAAyBAMAAABhUBCTAAAAMFBMVEX///8QEBCIiIhmZma6urrM\n",
       "zMxUVFQiIiJERETc3Nzu7u6qqqp2dnaYmJgyMjIAAAAcRTyBAAAAAXRSTlMAQObYZgAABNNJREFU\n",
       "WMO1WG+IVFUUPzszb/68P7sSKiIRWwvL4od27B9RmZOB0pfKLxVF7bTkByHU0MQPKdMGNRrBRIiL\n",
       "X3oFLaHFjkh/CGKHNf2wlU4SZLC6A0qEUAz+gRzRuved+x7vvrl33nkDHZg578/vXs4795zfOfcC\n",
       "JBO7hPoHHWCGPNUM9CM/CTsaOkCmRZ2KjgxJqox6VA+5QJ7sQh8GHENlLVO9tFbz/3yDOhkdGYi5\n",
       "HPUnJdWanuqEMfTZEki+iPod5VunE/YS3Z8JZM5FX3d6GZAjezaXeA12ioGeI8x7tm6YVxhg3dA7\n",
       "XR7SA6kWRwxYqvH/L+C34X0KA3wzFRIdsjOhAbkK6j3e/wKccZ9SGbDk6iaIDtEj1TKBwW9c85QL\n",
       "VWUMwOywboLoED1SLWtRpX0WuKI2YLAHxclDBhOS4UpUA4IOjetqA1L62IoMSSWLQuOWWImmp75L\n",
       "tWGNyoDCLd0M0SF6pLoQCHvHvSTI3My3C03pfUf2VHf56RqyMhkPirV/G3N6cs3I+fDr9Ku31+HV\n",
       "ezoaiA7hSC8MzpMMGBBZuCoOeIb8TQz5I9eXSehZrATm1Tjg0rNUAxhymsdChUYDmLXGFSKQNuUg\n",
       "IyO7TitFCLNuEl1Fc6qzcOTIIbK/vGy7HgccKlMN4Mh/qtW3aGhMPwJ7DFXIBjDkFoD9xJDF0mF3\n",
       "YtMFGfb031wuxiGfBLMHI397ancQUevRgHSnu8ZEpt1B9QBH5iDVVL48emIdfHYAXgnalu2osm30\n",
       "3r9c+LV5m98Ht2zKrp4VwZIESLuZU3cf7x924fcGWBoDQrI72jcsI3cYDFloPceu5h8cZTGeGYUc\n",
       "9+ehywfZ0rD7l9jDWuwSdE27IxQDf8Qi97/GItvdlmPdhj3kbubPH10c9jja+bIWDkK8sW8Qg5AS\n",
       "Axx5nFlhwF/8/vAmGMP1B5OTiXU0bMA48kAqlgcGyDzgIYe8MMfPegwmPbovgbGnWp0qfBVm9SXs\n",
       "yJxrsdlNZkIP6fClNdoGf7ALVnB1EF4E7yseGQ4l2RwaYMUaMEvu9wPkx3bLhmkX3sy0mSq8/n0F\n",
       "TvLnH50EO+AB0QkZsW1MomIk9nW/zi/A5jpsHGsx5RirXMjz0mOe/nNLl2djy/FcnWpABFk3a3n2\n",
       "leLhWHUqkjMiuPfFcnaN3JBISKuWbTzNlQadFgy0Pm7a7eSOSEY6kFlscKXbmck7n0/vg8LqcMv5\n",
       "Rullbc8mgzctN5q07k5uy0UnMoFr1HgCUmFW/vzs/ViGC4qWSQKbH4w8rEWSNyaF+uOQr0g1cVq7\n",
       "3QjAnvNMvwlMuDHxFx9jwYQ7BIcFHjog2vfuauyDsXACvODqkD3lGWSiDDJRpgMTUvu70U9XBQ34\n",
       "YCycmbIe2bN2FcPb+nQL7paSyK8A44pNtwz+ugey5wGFlAb5MrwbfnsckL6V+y0JbBUh28fOjMmd\n",
       "Igo9Bk+XM2FSNvb+fG9Je/AigZ9fPHupryMa+ZDKnBwJT5CGXy7hpr+o3BaGwEXnrpIW2VP8EReD\n",
       "hVUdvqkXVgE+5iY1oLAC9Yc8oLfBbIl8/KgC93FQCd+IKOL5uxemVJCs0q8qcLaY3IC0SLWH2G/D\n",
       "iHITfE45UAU+B33IpDBeyyD/83E9pMVKPqADzJADC5H/AVCYa58+l3QEAAAAAElFTkSuQmCC\n",
       "\" style=\"display:inline;vertical-align:middle;\" /></a><br>(see <a class=\"ProveItLink\" href=\"../../../__pv_it/theorems/8b37b0e8c0cfd307a5ed41d66e3ce75803a92e580/dependencies.ipynb\">dependencies</a>)<br>"
      ],
      "text/plain": [
       "prod_of_fracs_right_numer_one: forall_{x, y, z in Complex} (((x / y) * (1 / z)) = (x / (y * z)))"
      ]
     },
     "execution_count": 2,
     "metadata": {},
     "output_type": "execute_result"
    }
   ],
   "source": [
    "%proving prod_of_fracs_right_numer_one"
   ]
  },
  {
   "cell_type": "code",
   "execution_count": null,
   "metadata": {},
   "outputs": [],
   "source": []
  }
 ],
 "metadata": {
  "kernelspec": {
   "display_name": "Python 3",
   "language": "python",
   "name": "python3"
  }
 },
 "nbformat": 4,
 "nbformat_minor": 0
}