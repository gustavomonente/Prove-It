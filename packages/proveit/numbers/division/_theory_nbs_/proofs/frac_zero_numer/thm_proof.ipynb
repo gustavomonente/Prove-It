{
 "cells": [
  {
   "cell_type": "markdown",
   "metadata": {},
   "source": [
    "Proof of <a class=\"ProveItLink\" href=\"../../../../../_theory_nbs_/theory.ipynb\">proveit</a>.<a class=\"ProveItLink\" href=\"../../../../_theory_nbs_/theory.ipynb\">numbers</a>.<a class=\"ProveItLink\" href=\"../../theory.ipynb\">division</a>.<a class=\"ProveItLink\" href=\"../../theorems.ipynb#frac_zero_numer\">frac_zero_numer</a> theorem\n",
    "========"
   ]
  },
  {
   "cell_type": "code",
   "execution_count": 1,
   "metadata": {},
   "outputs": [],
   "source": [
    "import proveit\n",
    "theory = proveit.Theory() # the theorem's theory"
   ]
  },
  {
   "cell_type": "code",
   "execution_count": 2,
   "metadata": {},
   "outputs": [
    {
     "data": {
      "text/html": [
       "Under these <a href=\"presumptions.txt\">presumptions</a>, we begin our proof of<br><strong id=\"frac_zero_numer\">frac_zero_numer:</strong> <a class=\"ProveItLink\" href=\"../../../__pv_it/theorems/f0ddd74fb9bd3cdd5807ce29a2d8fadfb62c47a40/expr.ipynb\"><img src=\"data:image/png;base64,iVBORw0KGgoAAAANSUhEUgAAALgAAAAyCAMAAADYxuFLAAAAOVBMVEX///8QEBAoKCgUFBQNDQ2I\n",
       "iIhmZma6urrMzMxUVFQiIiJERETc3Nzu7u6qqqp2dnaYmJgyMjIAAAAMeWbTAAAAAXRSTlMAQObY\n",
       "ZgAAA1hJREFUaN7NWoly4yAMxdsFc4rj/z92OWKMDU0DSWGZScfTWOYhpKeHHIRWDL2P2SmGlg6t\n",
       "Ry13uxI3zn7T2GjaZWsWIoftuLLgd5/LLmuhV+FW2xHgJq5A20Hz2UOQfBVDBpwa3LDJgXLidBH4\n",
       "7qDvCXxNsPDscOVIAo57ly4X4DbnrNJF19Fe4MXaZzpcoBM4ScB19+LVdNzUnZwwGireEE8HTkpK\n",
       "cA9Wgd6n2PlVaCvFhhCDG4+npyd1pozVkQKUssPMVilXV/FQ8jf65sZNqZrXqqc0xoyOPIf7QD93\n",
       "7vf9v4lRIXyVkdr5T85p++vs+CDA/nGXkcZRJA8nSDEhN8cIuMri+KDD0Rp+HfgAZbdlZNw6o1UY\n",
       "ks8QKnTIrpaR8T9OhDFDLA4WjoY2cCGuEyGJCcVI/1gktS0G+V5GbiHe93CD6qlfTw9PERvWuLGD\n",
       "ZEzWNWTkFgM7/MFPSByEZpwVhPCMf0jYP+OngLq6MVcGbjG6Q4UnnjEJ/O120IT4bxQV3k/U6peA\n",
       "ywiXhz2p3csceiM5S05KwKVFtHKPESBVmNrICBleAx4W6V0U3L5Bf6hcYpx9LyN5crSQbD9KK6FR\n",
       "PuxHZuwUEofJNvBske5+pFG4mZs6OccYoJaRW7oG8ogUrBCzcaPzTUaZarYCeLZgkVT/+o/xwINv\n",
       "OK7pcIzHaxl5yMMj7P1XNvpJZVEBCp4BzxYJGaDT4xuuC9Bos/MuIw/RY87oSbtJeXSgwEgCpU+A\n",
       "Z4v4fHHQQDCpUYL7UBdK1Qds6qIX0ZmsROGTnxvAHxbMZ9PXn5BT5ltWoZ86udzVmnQxA8JqTvUr\n",
       "SbzWTR4vLA4qjCFDmjyO3Ic6Ine1ppjZfcmLnhJwBpi14hJhommRqPCBXOsWRv6h4/lTesIpxptk\n",
       "3XbDzzKNuM8AH61kbeAvePPailCeKuSOdf/pYvQI2DQz8EpSQclx3siTfX/8yNFW1niKlX2FkBlB\n",
       "6O7d5XR+Q+gS5CqrkJHuxOSx30rQ2J4vaHreett0SLzgBW3mkldAeQhJp/3nDbg0q85RA0h44LJX\n",
       "Bqx5lXJ2RxTDWGHS3/izK96kfGBe2NQa4HKj75ive0GL4C0WZgQtG+QNVjACLRxsuICs/dmH9/nw\n",
       "D21yYv4Drwolfn6CszUAAAAASUVORK5CYII=\n",
       "\" style=\"display:inline;vertical-align:middle;\" /></a><br>(see <a class=\"ProveItLink\" href=\"../../../__pv_it/theorems/917c89cf502c368437102ef51a60568717f60cd90/dependencies.ipynb\">dependencies</a>)<br>"
      ],
      "text/plain": [
       "frac_zero_numer: forall_{x in Complex | x != 0} ((0 / x) = 0)"
      ]
     },
     "execution_count": 2,
     "metadata": {},
     "output_type": "execute_result"
    }
   ],
   "source": [
    "%proving frac_zero_numer"
   ]
  },
  {
   "cell_type": "code",
   "execution_count": null,
   "metadata": {},
   "outputs": [],
   "source": []
  }
 ],
 "metadata": {
  "kernelspec": {
   "display_name": "Python 3",
   "language": "python",
   "name": "python3"
  }
 },
 "nbformat": 4,
 "nbformat_minor": 0
}