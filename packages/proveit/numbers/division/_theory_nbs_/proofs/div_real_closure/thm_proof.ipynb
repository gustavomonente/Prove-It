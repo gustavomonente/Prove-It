{
 "cells": [
  {
   "cell_type": "markdown",
   "metadata": {},
   "source": [
    "Proof of <a class=\"ProveItLink\" href=\"../../../../../_theory_nbs_/theory.ipynb\">proveit</a>.<a class=\"ProveItLink\" href=\"../../../../_theory_nbs_/theory.ipynb\">numbers</a>.<a class=\"ProveItLink\" href=\"../../theory.ipynb\">division</a>.<a class=\"ProveItLink\" href=\"../../theorems.ipynb#div_real_closure\">div_real_closure</a> theorem\n",
    "========"
   ]
  },
  {
   "cell_type": "code",
   "execution_count": 1,
   "metadata": {},
   "outputs": [],
   "source": [
    "import proveit\n",
    "theory = proveit.Theory() # the theorem's theory"
   ]
  },
  {
   "cell_type": "code",
   "execution_count": 2,
   "metadata": {},
   "outputs": [
    {
     "data": {
      "text/html": [
       "Under these <a href=\"presumptions.txt\">presumptions</a>, we begin our proof of<br><strong id=\"div_real_closure\">div_real_closure:</strong> <a class=\"ProveItLink\" href=\"../../../__pv_it/theorems/a5f044711d61deef9294ce2733723c55d9dfcea20/expr.ipynb\"><img src=\"data:image/png;base64,iVBORw0KGgoAAAANSUhEUgAAAL4AAAAmCAMAAABNn9GBAAAAOVBMVEX///8oKCgUFBQNDQ0QEBCI\n",
       "iIhmZma6urrMzMxUVFQiIiJERETc3Nzu7u6qqqp2dnaYmJgyMjIAAAArQGDrAAAAAXRSTlMAQObY\n",
       "ZgAAA4VJREFUWMPFWAlu5CAQZDc0V3P//7ELNth4jMeDlR1aSmIpHEXRXRQQMi+8f9rTSDI9IJQP\n",
       "zRwDakb68jAbPa+AOdWEhDi49sn8GyrqR84hhoP9g58KX1b6WMy7oGCwvx7Ltl8OEXX5opl3E8Xj\n",
       "9c+IUCc30aXfNj4gYB79eiPfRJupDMTqUQZgGny2Cx8mFF5J4oaPDToNPoXmCAIQWgIf38HUJfzC\n",
       "IfggdwYr1SuKGEOg2ICkacOc3XLpe6Xgxys1LE5BoMcNZioYout5ofGLqa+GuyDRbv2zCSbEhvR9\n",
       "G/5/qHuqPKoU4RU+03u62yxf3pkcWn2xciO7E3UE02U/wcdd+TPjEXMo9034N5JtznVY4EvCt+Qx\n",
       "MdexXFQAdceV3ttSft18QQAOzrys874zBPoi961izcoWFjhb1tsZxb3ssVWAkh1OO7xszjIrPk8p\n",
       "z7rp7+q0B5/mYmgrdPEbJGc99Abc2hrrGEstIJ+NzkB/osPQq0CovDsnc7ImbYGwx/5/Gmoc2E9E\n",
       "ozmVkPPrEs4pqqsKWG1yvwW+N74PP7ZbvsyzGklq38Dvnmp4IZyMCzzB14GIssGGgQximwVAmpJd\n",
       "q9Ku8F0Xfm2+FoLbbbHyo8lDr3QfjW/sxpo8qWzlWoJGicaIgjIEWOsrFviMsS780lwuQvaTfnwZ\n",
       "63QVMXfKw+ACfqKZiVcWbD0FMzChDl4wHdasgc+kVLxfZKX52tA2lxJ6AhPvVFrZvmnIh6sUrzlY\n",
       "2chZul+CacLJZFrPwmdGl9jX4C/gl+YLvVhpzlPFk5mkdzclI5Gbs2VLoyGGiprXgb0psyWy0JvS\n",
       "Me98XpA8JI8VznThl+Yy6cXfP1k1/JXyEGxl2iDtCAd3eDANXeP3MjDVaUe4z7Wf/pNy2Wd4Thxy\n",
       "312Ubm1OWlfFerpP3LE2w52H6Id7rXAuwUIWeJFZF9KV0rb12HLBpVpo70qN8tTmrTiDcx1s9shb\n",
       "fOYWw5sUPIwIJfc/Oh+JvbVPR9fAn12631mPTy/O2L1Z3HdriXPPzK6N1xg/vTh24PsPUuFwzQ7p\n",
       "tsvG84f9wjvns6IrzyP1O5lIE0ffSc5e5IsB4aWO4+irDcx7J8nciUMSmDh6XaJT32h9OKg+HxVP\n",
       "mPzCvwnxon9sUDw11XPhZ3e7wuf1kX+ksyWTQ6uVQJmQ46CCoSfTQ4t6RXKDaEz1sP8AL7QnAOE2\n",
       "kCgAAAAASUVORK5CYII=\n",
       "\" style=\"display:inline;vertical-align:middle;\" /></a><br>(see <a class=\"ProveItLink\" href=\"../../../__pv_it/theorems/a55edcb375de10a54a869e13de776d59e83245510/dependencies.ipynb\">dependencies</a>)<br>"
      ],
      "text/plain": [
       "div_real_closure: forall_{a, b in Real | b != 0} ((a / b) in Real)"
      ]
     },
     "execution_count": 2,
     "metadata": {},
     "output_type": "execute_result"
    }
   ],
   "source": [
    "%proving div_real_closure"
   ]
  },
  {
   "cell_type": "code",
   "execution_count": null,
   "metadata": {},
   "outputs": [],
   "source": []
  }
 ],
 "metadata": {
  "kernelspec": {
   "display_name": "Python 3",
   "language": "python",
   "name": "python3"
  }
 },
 "nbformat": 4,
 "nbformat_minor": 0
}