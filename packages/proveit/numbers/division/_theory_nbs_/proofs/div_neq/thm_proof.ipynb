{
 "cells": [
  {
   "cell_type": "markdown",
   "metadata": {},
   "source": [
    "Proof of <a class=\"ProveItLink\" href=\"../../../../../_theory_nbs_/theory.ipynb\">proveit</a>.<a class=\"ProveItLink\" href=\"../../../../_theory_nbs_/theory.ipynb\">numbers</a>.<a class=\"ProveItLink\" href=\"../../theory.ipynb\">division</a>.<a class=\"ProveItLink\" href=\"../../theorems.ipynb#div_neq\">div_neq</a> theorem\n",
    "========"
   ]
  },
  {
   "cell_type": "code",
   "execution_count": 1,
   "metadata": {},
   "outputs": [],
   "source": [
    "import proveit\n",
    "theory = proveit.Theory() # the theorem's theory"
   ]
  },
  {
   "cell_type": "code",
   "execution_count": 2,
   "metadata": {},
   "outputs": [
    {
     "data": {
      "text/html": [
       "Under these <a href=\"presumptions.txt\">presumptions</a>, we begin our proof of<br><strong id=\"div_neq\">div_neq:</strong> <a class=\"ProveItLink\" href=\"../../../__pv_it/theorems/d26f5f1907f7f2f848857c823e676ce0f310f5820/expr.ipynb\"><img src=\"data:image/png;base64,iVBORw0KGgoAAAANSUhEUgAAAPgAAAAmCAMAAADeO6ZmAAAAPFBMVEX///8kJCQoKCgUFBQNDQ0Q\n",
       "EBCIiIhmZma6urrMzMxUVFQiIiJERETc3Nzu7u6qqqp2dnaYmJgyMjIAAAChkoCbAAAAAXRSTlMA\n",
       "QObYZgAABBNJREFUaN7VWYly3CAMpW0Q92X//79WgLGB9a6VNOmsmclOsCXB0w1m7GYjpX9i95rd\n",
       "c8CyAQDQTkIEClgQmcxxj79yuSVuWTaPWCLa3gAzFBgR2bLO1qq6O9rcc7VhQfxx9Uy6ayYXmMj6\n",
       "sbbOl3Q/4LpZy3dALrXFGM+uvm5h4TavudFQa2/gFcgBgr6BzGpW323GogctKCpf8XTgB+fNTO4O\n",
       "gwdfcxWQIFjdfjYFwr2Ai+Xw3cAsAne0PCV0ZjloE78XcA5HGwKA1flpMxP91LUAiC4/uFWi2b+r\n",
       "J/oPnk4Nare8cpesQmwDYtg9/81DPq3kqifHKWL2q5yeuFYNnX33EDdUg09IDLqyHfJZSYzN0Ifp\n",
       "33QYqmX0FBISI3x8FHLAp+jzcObNcbNVfM3gp51QtvJq8zDx7YETq6+9zoG+1LbqGdZ9y+7kRddM\n",
       "6awxBiPE882+OoQtZfz+yL+CoESZifzXjqnBRm10Z4pXbiYI5ajQJEQd9EM1S99lcARe9JqjGz5T\n",
       "xH2IQiCDVzZ3/0skAXeEs0GlMdlv5oa6xuW2727M4fuwyhltzRcxVfDkgmqD83lbyRXIgQbcEjy9\n",
       "0PjSqfDwHPgrCaSQrcCx0Wl68gL0svtKxDIArTjIcnVhfA2N8kSF+s6dAx/YmYyjmLMFK009fZr0\n",
       "SVcvMf6L10jXF8ktblraeh1vVHdow6MPtjhGtgscfKF41+Qmnx7U2wHf2XUpGx/4lzox44I9Td2B\n",
       "gXmzlKy+kAzelBhaUyTQmGr3etVf0zgv8QVYtNFxNgyvgA/sDMIo5mzBjaZanMNpQrooKrRav4dN\n",
       "U2aOq+Eyrr/yELgwJnBlinGwB3RBqRfAB3ZvJzEnCzaaGuPrXBk5ITkSzxuyCU/b3WXeqE3eH5op\n",
       "httaRiTOl33H+sLDXJ/tqNjCrjHm/vzOkZc6MeOCA81pVmf2uuIGYnOXZuHc4WZlym2fx0DAfJGD\n",
       "ssxwOwo1lYN9V4UT5f94WscP9rGUNTFF6L7gQAPipI6zyL/L4I+ipIYAuUIr9EGvk8QOytdZeVmV\n",
       "bve64jGT2uFMYLvTf2MfS1kTU4TuC440EOOj7cLlVVmgtt2vkn6YZ754Zd1XjfHTMnq1o05M+Nyu\n",
       "L3tWssFfSRrzdZ7pSPn8cg684zvETCWBIPsqu0lqo70+L3rpYSZTJHjSKfDU2fYQk57SPNvTEJmY\n",
       "YAQQvw1MtOIHvp8J9nPD902rxLzIFtpt1EzL3/3OZR5wWMrz7DCCdCkz08LNbpfZUf8Rxmlb+8QL\n",
       "J1p+v6+GaTc5t3uLd62ukRbu+IW8FdF6vAorLTUMtI67GwLPp7kjz+HhLzgC8J7Wm8DuOJxxu+mT\n",
       "0SwS3WSntYndc7jN5BpAOQ2UnqWn9Y3hLzX0NB+ekDalAAAAAElFTkSuQmCC\n",
       "\" style=\"display:inline;vertical-align:middle;\" /></a><br>(see <a class=\"ProveItLink\" href=\"../../../__pv_it/theorems/93a0e2cf86a9c608cdfcf66c8568d153c3d52a5f0/dependencies.ipynb\">dependencies</a>)<br>"
      ],
      "text/plain": [
       "div_neq: forall_{a, x, y in Complex | x != y, a != 0} ((x / a) != (y / a))"
      ]
     },
     "execution_count": 2,
     "metadata": {},
     "output_type": "execute_result"
    }
   ],
   "source": [
    "%proving div_neq"
   ]
  },
  {
   "cell_type": "code",
   "execution_count": null,
   "metadata": {},
   "outputs": [],
   "source": []
  }
 ],
 "metadata": {
  "kernelspec": {
   "display_name": "Python 3",
   "language": "python",
   "name": "python3"
  }
 },
 "nbformat": 4,
 "nbformat_minor": 0
}