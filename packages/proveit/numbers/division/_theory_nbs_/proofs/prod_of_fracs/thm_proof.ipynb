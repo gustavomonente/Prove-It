{
 "cells": [
  {
   "cell_type": "markdown",
   "metadata": {},
   "source": [
    "Proof of <a class=\"ProveItLink\" href=\"../../../../../_theory_nbs_/theory.ipynb\">proveit</a>.<a class=\"ProveItLink\" href=\"../../../../_theory_nbs_/theory.ipynb\">numbers</a>.<a class=\"ProveItLink\" href=\"../../theory.ipynb\">division</a>.<a class=\"ProveItLink\" href=\"../../theorems.ipynb#prod_of_fracs\">prod_of_fracs</a> theorem\n",
    "========"
   ]
  },
  {
   "cell_type": "code",
   "execution_count": 1,
   "metadata": {},
   "outputs": [],
   "source": [
    "import proveit\n",
    "theory = proveit.Theory() # the theorem's theory"
   ]
  },
  {
   "cell_type": "code",
   "execution_count": 2,
   "metadata": {},
   "outputs": [
    {
     "data": {
      "text/html": [
       "Under these <a href=\"presumptions.txt\">presumptions</a>, we begin our proof of<br><strong id=\"prod_of_fracs\">prod_of_fracs:</strong> <a class=\"ProveItLink\" href=\"../../../__pv_it/theorems/234b22fff95a04798ab5d72bd7d95b30b554a1b70/expr.ipynb\"><img src=\"data:image/png;base64,iVBORw0KGgoAAAANSUhEUgAAAQ4AAAAmBAMAAADHF2h5AAAAMFBMVEX///8QEBCIiIhmZma6urrM\n",
       "zMxUVFQiIiJERETc3Nzu7u6qqqp2dnaYmJgyMjIAAAAcRTyBAAAAAXRSTlMAQObYZgAABGdJREFU\n",
       "WMOtmFloE0EYgP9ud5vsZpMUQfF4iRWKD1KlRX3RGhXrm6bg9SIN4vEmKioKKsWHEusVwQsPslap\n",
       "WoRGxIeK0thHRVjFBxWPRcQHUQkeYOtR59ikM+kkMxF/yO5m55vJPzP/NQH4J3lFrmG3LGAllceq\n",
       "Ai0VzSO3JvTpaTw5K8aOOiMGJxyAFeKeLC5BFWSxg6/6VDRWLrwj4DFNtl4Ps7GqwllyeGVUZSUn\n",
       "ktulBBrLsUf0NNN2vtaDFH74JOpZxB0pqiB1dAKbsUoQ7OTanJoYfMEPJxzRDHzc+iNFFaSDLIAx\n",
       "TL5EY3zjSsf4zihbKj6+WwGVyntyjdDeHQm+sRW0eqLmiHgOCWVUJiZdiAxelZAzGzRuWbsgSBV8\n",
       "K+jK4xVRudR6/mzw0maPw0WudR6spGHlsaArj1dE5VJDt3gCvvQ29Czko1lvwyLqP5n4+K48zqLe\n",
       "WHhUlQzZYvN7ufZWX92cfKgx9CG+f6hKjzc0qOfFPu1Z3wpPMvdn0bN4ap1V6TGfWsk2YWPADfqO\n",
       "rOUl43BoBFmvna1Kjz10FLHyesPcgm8MS8bh0PCDvr4z1dnpVxqQ5kgw46fyiBj9kUrtq06PL8I4\n",
       "Oj6G/1ZPWAjdBHCouixHx+931fS1PxOZI0OXguXJfzx0ZMuGQjilemTc0hRWKr/U54bQAGiVZ2bd\n",
       "bXGtdY7xkd/3DmLco0TI+uDZROn30fyYHbEyKpACaruByro+G+iD8AWAuyI9GC9Miu1Z1fRNbw16\n",
       "GJrbiKKk3ggB5Mfmges4ZC5Jmt5VR8c7u+w2elt5X8av4y/WPpJS9NBGFEicrQGUDuyo045D1L0h\n",
       "3Job0Toj8Qh+fPGc6UTtr1/mL6a6vxD0FgqMBq3Nzi2HmeSn8JqbV7bVxbT0ZfzizsA4+4vm/m/8\n",
       "8AMBDX4LgHjFFRq5czVxG9amUqnY+dVMr0k0N8mKKP2bsh4EDeO6xMgb+MVOwCWwmTDwu0C839Gg\n",
       "jqjUwzjmMXINyrw9rF5lFdGM7dlw1oFdet7shtMPnwG6RRKD8BxsbLLmggQMFXrdp/ZXLxlcCgjQ\n",
       "3qdDD6A9C20zPWMauO3dgG5G871mZCiHMXDjc1exsBwkhV1INt2IevVbgmatdNCFkB9Bi4c3ZB8c\n",
       "RiO6NH3IA38ZNJSuy6Eznu8aA2V7+cVtl2TwwbSyHjwaBv0lckZft/KzCdczxa2+Pb6ePb82Q8gL\n",
       "TWVqPt4xGFqCKiRcGhj6SWC/9qSFLYhyN9FyUY+dJujK0hJUQZqYQ79DKstiYMy2QtQlhYQmchef\n",
       "thRQlYMDdR162ja6ueQ/AZ86cUqqEW4spXFulqIKYYeGsNfk2sYbwDBMR0teXLRSaRvLzTJUQQ5S\n",
       "v8HuHEqWnvW6wEQp05wiLKeSyqiKXCUbY+3CWRIgyfv0PtAwIjwDsLQEVcrTe8ntTBqM/Y+a4tw/\n",
       "VvpkWIUejgqtg6Uro2pyiqqTgFp4/I5raWnonYXMzooLT+gczaJ/AY0ycokJ63ikAAAAAElFTkSu\n",
       "QmCC\n",
       "\" style=\"display:inline;vertical-align:middle;\" /></a><br>(see <a class=\"ProveItLink\" href=\"../../../__pv_it/theorems/c2d56ec29a5e5b13e17f1df3d7184b0322c819a20/dependencies.ipynb\">dependencies</a>)<br>"
      ],
      "text/plain": [
       "prod_of_fracs: forall_{x, y, z, w in Complex} (((x / z) * (y / w)) = ((x * y) / (z * w)))"
      ]
     },
     "execution_count": 2,
     "metadata": {},
     "output_type": "execute_result"
    }
   ],
   "source": [
    "%proving prod_of_fracs"
   ]
  },
  {
   "cell_type": "code",
   "execution_count": null,
   "metadata": {},
   "outputs": [],
   "source": []
  }
 ],
 "metadata": {
  "kernelspec": {
   "display_name": "Python 3",
   "language": "python",
   "name": "python3"
  }
 },
 "nbformat": 4,
 "nbformat_minor": 0
}