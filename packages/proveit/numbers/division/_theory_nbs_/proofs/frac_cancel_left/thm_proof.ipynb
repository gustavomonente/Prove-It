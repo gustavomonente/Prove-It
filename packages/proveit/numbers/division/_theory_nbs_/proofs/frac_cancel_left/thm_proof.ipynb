{
 "cells": [
  {
   "cell_type": "markdown",
   "metadata": {},
   "source": [
    "Proof of <a class=\"ProveItLink\" href=\"../../../../../_theory_nbs_/theory.ipynb\">proveit</a>.<a class=\"ProveItLink\" href=\"../../../../_theory_nbs_/theory.ipynb\">numbers</a>.<a class=\"ProveItLink\" href=\"../../theory.ipynb\">division</a>.<a class=\"ProveItLink\" href=\"../../theorems.ipynb#frac_cancel_left\">frac_cancel_left</a> theorem\n",
    "========"
   ]
  },
  {
   "cell_type": "code",
   "execution_count": 1,
   "metadata": {},
   "outputs": [],
   "source": [
    "import proveit\n",
    "theory = proveit.Theory() # the theorem's theory"
   ]
  },
  {
   "cell_type": "code",
   "execution_count": 2,
   "metadata": {},
   "outputs": [
    {
     "data": {
      "text/html": [
       "Under these <a href=\"presumptions.txt\">presumptions</a>, we begin our proof of<br><strong id=\"frac_cancel_left\">frac_cancel_left:</strong> <a class=\"ProveItLink\" href=\"../../../__pv_it/theorems/2c414fb498a09fdd783ba452c09977b54466f7550/expr.ipynb\"><img src=\"data:image/png;base64,iVBORw0KGgoAAAANSUhEUgAAAO4AAAAmCAMAAAD0i1fJAAAAOVBMVEX///8oKCgUFBQNDQ0QEBCI\n",
       "iIhmZma6urrMzMxUVFQiIiJERETc3Nzu7u6qqqp2dnaYmJgyMjIAAAArQGDrAAAAAXRSTlMAQObY\n",
       "ZgAAA9BJREFUaN7NWQmS4yAMZHe4b/z/x66EL/BJshMHqiYT2x1MI6klgJCOWowf6tgp0l9jaRoc\n",
       "Y8oKFth+2IzjTUtdA8USK1J3bMVEwgWws2ZE74cYAITzMjR0V2NZb/Z1VE7jBNZhcETY5dH033rC\n",
       "cQ6Mue9ui02xL7pKFeQqQm5IyxOKDjqwhtnbYJsC4LkmB1tc1YT04okCrA5Q2RQcNVZ15c5JVdxP\n",
       "CGX/ZLSpxw1WDh2Z167G9W7UF3YwPKPmj/u2xSbWD12eVh/0xABde6QtXCGgTXW22Ej7oUvZWhIw\n",
       "BjnzuOTAh7yK8qvaosbaQYCJP1/TNPmyfMMRXsRSSOjBL779xVCOQxNMJUxL4k0s3rFzhrPmm6Gr\n",
       "m2AaHNA0Ks4emwVwNupq5i803TbXAqKx1ev3WI+BHIPDZvU3lWrgj1QyaNHBYNPhq3SfyIkuZyWV\n",
       "TW7sr3QpbupYiKDAwvFA3mohFY03TKpAkHtvQehNUFoVprmKwRxKEbh6tctDjyTBIc8zRi175X3O\n",
       "B87hB04arMJTaKJrM0mN9t+Wr2NUTWNqavfUDrCjQoQ4Um5OksZbhwOONhP1bXRxasBt0cTUn9P9\n",
       "uCDaROTkXgHEmyk5Szne1cviWidn5eT8+bn0I9Ie0606IyKs6zwdf82Zq9hVN1I12sVYNUoMLEKg\n",
       "9NBi3v4Ap5NLYc19zNtHS5RHF3f6VtBdOlNZ+n/gL07LMM22A3lCmedJ9XNRI8tNDusE3GamjFn8\n",
       "4OtKzV/RrTojzBereMoOReSRvFunvXK5wWEQhey6bHWps7GgPrNeygu6VWfOzHbEn+zKXvrEVoOY\n",
       "XxvdOgPZLFNpB4/pcoVxKwG4jow7Vm2dbelOnSmIqr9/MLbiiTIT88TGaNy81g4Q+RizsF7IISZh\n",
       "Rsh0ZVXwEdmEdQJ4/h4O8+7a2ZKEslPzg7xLwhNL7+1LnIoCah7MpTlVCMXytOcrkBmaJ4GYJWs4\n",
       "0EWj5KEzr53NSWjiG8K++PFPbCRdCTdQchB5Js5X5UpqjN3D5Hrc2Z0SuQfKqqt3oOaqMB82+OaC\n",
       "+pjufWSaz2uVv9j0wYkQMYT16j/oxvuaqdw3Oz8jgjFpKohsG88Gyz8gh/xtTysE4fSMCPJZZJy3\n",
       "7QVssfSb+xfbxhZy52dE47fWXaYNlnW070qKBH9+RjQmc9Mu4iWW9nUmFtPp7oYudEy8oGkllvV2\n",
       "wluktvNDL/8C2xJrqe2MrtNyWnmcnxH5LIVtlEus05701qy25PqMSOoYIktN++oV1kTSX8NFyOUZ\n",
       "EccE3ca2wrr5J/8AgjYuRtCFYUEAAAAASUVORK5CYII=\n",
       "\" style=\"display:inline;vertical-align:middle;\" /></a><br>(see <a class=\"ProveItLink\" href=\"../../../__pv_it/theorems/d63f2e3c829811f228627b3763149a0b85de88740/dependencies.ipynb\">dependencies</a>)<br>"
      ],
      "text/plain": [
       "frac_cancel_left: forall_{x, y, z in Complex | x != 0} (((x * y) / (x * z)) = (y / z))"
      ]
     },
     "execution_count": 2,
     "metadata": {},
     "output_type": "execute_result"
    }
   ],
   "source": [
    "%proving frac_cancel_left"
   ]
  },
  {
   "cell_type": "code",
   "execution_count": null,
   "metadata": {},
   "outputs": [],
   "source": []
  }
 ],
 "metadata": {
  "kernelspec": {
   "display_name": "Python 3",
   "language": "python",
   "name": "python3"
  }
 },
 "nbformat": 4,
 "nbformat_minor": 0
}