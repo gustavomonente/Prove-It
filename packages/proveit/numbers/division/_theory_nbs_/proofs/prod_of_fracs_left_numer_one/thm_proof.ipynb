{
 "cells": [
  {
   "cell_type": "markdown",
   "metadata": {},
   "source": [
    "Proof of <a class=\"ProveItLink\" href=\"../../../../../_theory_nbs_/theory.ipynb\">proveit</a>.<a class=\"ProveItLink\" href=\"../../../../_theory_nbs_/theory.ipynb\">numbers</a>.<a class=\"ProveItLink\" href=\"../../theory.ipynb\">division</a>.<a class=\"ProveItLink\" href=\"../../theorems.ipynb#prod_of_fracs_left_numer_one\">prod_of_fracs_left_numer_one</a> theorem\n",
    "========"
   ]
  },
  {
   "cell_type": "code",
   "execution_count": 1,
   "metadata": {},
   "outputs": [],
   "source": [
    "import proveit\n",
    "theory = proveit.Theory() # the theorem's theory"
   ]
  },
  {
   "cell_type": "code",
   "execution_count": 2,
   "metadata": {},
   "outputs": [
    {
     "data": {
      "text/html": [
       "Under these <a href=\"presumptions.txt\">presumptions</a>, we begin our proof of<br><strong id=\"prod_of_fracs_left_numer_one\">prod_of_fracs_left_numer_one:</strong> <a class=\"ProveItLink\" href=\"../../../__pv_it/theorems/d800dffa7a55342e88c851fd0644027633513bd40/expr.ipynb\"><img src=\"data:image/png;base64,iVBORw0KGgoAAAANSUhEUgAAAP8AAAAyBAMAAABhUBCTAAAAMFBMVEX///8QEBCIiIhmZma6urrM\n",
       "zMxUVFQiIiJERETc3Nzu7u6qqqp2dnaYmJgyMjIAAAAcRTyBAAAAAXRSTlMAQObYZgAABKlJREFU\n",
       "WMOtWFGIG0UY/pvsZpNNchekleKDxAscRx+8oLaItddYocUXe31RUbRnaR8EqSfV0gdbzhNqWhFS\n",
       "pLTUB1fBIK1yKUURQQyn7cOJbVoKVbjWQItIQQnXHHgpbZ3Z3ezOv5nZ/XP0e/lmJx+Tf2f+/eaf\n",
       "AegPvwS4B1XyUFVYBjJ1zL3QmtSx6EoBwwGW4Bp5sGv9/386J3L6IZkmWaeORld6+LwkcPVcR6Yx\n",
       "V1JHoys9fIA4Kw0ATpOHO933CnQQKwIwyDNr9LsGRhExDsAcemPTrB3eknrSuxr3RZb6DODPCmIc\n",
       "wNdwJX/Abu1RDuBrIEIpxz7MOIA5uGA958RnqQbwNRChlEJvY8YBWFB2WzN51Qi+JkopRTyHOZiE\n",
       "Cy4PhFjcAnoa6M8MV0xgDgSgL7qNmDq3PE2kUobtDcw4gB9iLVhjt1J3VCP4GohQSjFawRwTA9Bu\n",
       "J1spN7IHVduPoAlXyvE+5vjrdzcIn/iONYWrbvtDlQ0IGk9pp8FVUgCrA6zEBfI7MeWvnG+S9o5b\n",
       "mEMMa5xsbeNwnOfCFMkGFjCHZCv582bKAWZGmRppK7qNWY2ZIjUApszOnTx5jCTOLmJWY3CCGgBX\n",
       "/lcuv0cSd10j2j0Gp8gBMOUugEO0grSDOcQyHYc9/y/H9Sjls2CGOPL35/Z2MyrewSxsMcFhJ8nu\n",
       "zpQGxBrSH0/9vAG+PAyvdcuWRAvxPQ7eNO/ak+k9syFzPVN9rweeMtMw5Dn30QkL/qhDWhGAj709\n",
       "lVOOXGMxZar5AmvNrh1m7qENg8En9NjNo2xp2PMrrLMStQS9w04KOfBXpPLQTpbZ1m6DldqZQWsb\n",
       "718/n7c9OvtNRUjCJcyRSUjJAa48w6LQ4R/+fGILjDjrDyY3k/QpIYDYIubowoFYYgzaae681tOw\n",
       "w7b7Euj7yuXp1LeCq2fbmEO+brIT2sosX3W9pfOOd2AVp6PwMthv8VTe/8rSbcwhBkuu9z3lZ5lm\n",
       "Bo5b8K7WYpR688cpOMv7PzkLma4P6Hcw36fNyD2rX56dg2012DzSZJTVV1uQ5DuUef7vXZ76VoCV\n",
       "+KlGDSCgrJmVJDMlt3OkPI3VBwKsLjMq5IIEKdOVRP15Tgr1xgAr8Ra5IsLKLGjzdU6q8sUS2Szk\n",
       "4Yi4DWhvl15V1mxfPAYp/zphy0q9QavucMbURM5oORgVf/7q0uPONpySlEz1ZyDmWbj5ceFJpZJ8\n",
       "MPk03sQHLcsu7+QFQ6o2BkkenmkH0C0C+zyYxFsiWyvygYOWfti9eundjU14wDG8GcelX7JUytBr\n",
       "rTbirVbgoLW5a28SG9A6sJ27qmHPnjahVoZhD+IxiKFtN93dAUYlh262Xo/4T9+FKEOrePQZHIQk\n",
       "2nTOgGPf0vMWkx70Qy1CYhknM5Z9dZHXwVaxlNL3//ZoSXnxEp/QfAd/cf7SjWVd0eBLqurQRtGy\n",
       "4nDxhnPoL0qPhQX/34rZh0tKZSiuYx6TX77JFzbepCpDcGTc50TTbNOvH3fDTOk+XFSmJ302Gknp\n",
       "R5SQzut+mCYqw7HOZ21orVTyu7R3U2GcqAxHIo9Z4jjkgnRZ1/XwRIB7UCUnlqP8H1QXcHy9Y0Nx\n",
       "AAAAAElFTkSuQmCC\n",
       "\" style=\"display:inline;vertical-align:middle;\" /></a><br>(see <a class=\"ProveItLink\" href=\"../../../__pv_it/theorems/871db34b3617297efa0628fd620f056617f87c6a0/dependencies.ipynb\">dependencies</a>)<br>"
      ],
      "text/plain": [
       "prod_of_fracs_left_numer_one: forall_{x, y, z in Complex} (((1 / y) * (x / z)) = (x / (y * z)))"
      ]
     },
     "execution_count": 2,
     "metadata": {},
     "output_type": "execute_result"
    }
   ],
   "source": [
    "%proving prod_of_fracs_left_numer_one"
   ]
  },
  {
   "cell_type": "code",
   "execution_count": null,
   "metadata": {},
   "outputs": [],
   "source": []
  }
 ],
 "metadata": {
  "kernelspec": {
   "display_name": "Python 3",
   "language": "python",
   "name": "python3"
  }
 },
 "nbformat": 4,
 "nbformat_minor": 0
}