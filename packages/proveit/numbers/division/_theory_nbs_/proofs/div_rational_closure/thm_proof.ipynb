{
 "cells": [
  {
   "cell_type": "markdown",
   "metadata": {},
   "source": [
    "Proof of <a class=\"ProveItLink\" href=\"../../../../../_theory_nbs_/theory.ipynb\">proveit</a>.<a class=\"ProveItLink\" href=\"../../../../_theory_nbs_/theory.ipynb\">numbers</a>.<a class=\"ProveItLink\" href=\"../../theory.ipynb\">division</a>.<a class=\"ProveItLink\" href=\"../../theorems.ipynb#div_rational_closure\">div_rational_closure</a> theorem\n",
    "========"
   ]
  },
  {
   "cell_type": "code",
   "execution_count": 1,
   "metadata": {},
   "outputs": [],
   "source": [
    "import proveit\n",
    "theory = proveit.Theory() # the theorem's theory"
   ]
  },
  {
   "cell_type": "code",
   "execution_count": 2,
   "metadata": {},
   "outputs": [
    {
     "data": {
      "text/html": [
       "Under these <a href=\"presumptions.txt\">presumptions</a>, we begin our proof of<br><strong id=\"div_rational_closure\">div_rational_closure:</strong> <a class=\"ProveItLink\" href=\"../../../__pv_it/theorems/5d81026827ede2888f82f088d9313f9596363dc90/expr.ipynb\"><img src=\"data:image/png;base64,iVBORw0KGgoAAAANSUhEUgAAAMAAAAAmCAMAAAClH2SqAAAAOVBMVEX///8oKCgUFBQNDQ0QEBCI\n",
       "iIhmZma6urrMzMxUVFQiIiJERETc3Nzu7u6qqqp2dnaYmJgyMjIAAAArQGDrAAAAAXRSTlMAQObY\n",
       "ZgAAA7VJREFUWMPFWYlypCAQZTc09/3/H7uggKDMGEx26KqkLNNAn68fBqF14tzztZqj5QI+Pyhi\n",
       "CWA9t5r61fbTYjLFCiEfpv1fnAONWXlIlUTk9A7eLXWAlwCSkDIhYHoHNVt1vyosqPyEU+x1YD+I\n",
       "wQrx5XAdbPxtwqMgrEuBqgnQwaRgemTUfBRgmQPkAEEZrXCCI/tgkOBlDmBoRhIAUxzokzzGRf5X\n",
       "BuP0yexJzRMppeeNpzimzZpaUZ9rCfegZzXnIraJ9lxWQ2PrIFUmiJIfbAExv0ZSwnZHWA01hCbw\n",
       "Ryr+v4hvBMtJEaVWOLhS7VLTgsEmgZmzOokSH+zhQG7rXUJf0T5yvuwKRaWI2IbBQSYR9pMO3AG4\n",
       "Pjek4ohlkKEOWVqGSHrHt9KSasBYv0FZ6Wv9zQawcAnNfu5blnC2hgIyucZZfHRtJCjZXB5sYy+Z\n",
       "1pZb0u0uX+pvPeei9YZfUPTOgUuPsN6B0q8bD0Fi75HBqC562lhCoobaSLh1ZnyUN33S094pQ2fO\n",
       "spduNuGQRgH7IjUnRwkZZFXXTNbtTlxLVRVAMEonI0ClTTQ0vEUO9DNYVJaJzWsHxoNODnLSNDHv\n",
       "0UB5xPIrTYB7Vs8B4DrX2PaC7ZYDciMHiv4eJ3uwZuFmS+hKcmLrygqjrqOyqYHzfNaCNSQVhEZA\n",
       "Grbh9L4SEIwcyPp8Q7Wv+OPyZufbir5FIXJVsMcgI+dImDIZSfwTEx1P9DEr1cLqgB05kPV3FdPc\n",
       "W/DZnHCL2eJaZI7sVIK4ay2WiKRiPS7LOKaFxOYRW0ijeaaW0NCBrL+FSZZYp6iFM9PEt3cpzSXV\n",
       "Vwrlfdc+tOzsdD4u2iedzitT+pNL/Ng1N3EDQ40DWZ9H7Pj7JyGIe4FCSLagrSUeQQi1sqUSuYx6\n",
       "THbnnbGKWUktohKGxJJ2yT5buS9sAbYghzBa9AuE7isGcwDZvkn9LbOoC60yntTRaM/NTjkYSDXG\n",
       "UuQZt7nJa8AhCCsDH4+cqo8Owhsn8XUcRhLWRS58n0eqeCfwhJ5v1gPp9oS9BzKI0bczM62969Ge\n",
       "S9Cnl/N3lOTlFVtJ5YxSbx24p1CyDZ19SoRNeP0h4LVrGixpqO7AAXdfEd113MdbMXlyGyG/8X2U\n",
       "PEy+aZ4jd9Zh/qvKhaJ8UsCfOjrMf+OBdV9VUvRYVwg6zF+o8NKvu853U4AG84MkLhFZambDQjIN\n",
       "pQqrtQ4k5rs7QMs/CeaWG7RYlNhDyKPtchrMpEPLRbFyibLT1uhCB/4BUX8of2/jdMEAAAAASUVO\n",
       "RK5CYII=\n",
       "\" style=\"display:inline;vertical-align:middle;\" /></a><br>(see <a class=\"ProveItLink\" href=\"../../../__pv_it/theorems/5b1e812f8360b21ac81038b780cf6929af9debd10/dependencies.ipynb\">dependencies</a>)<br>"
      ],
      "text/plain": [
       "div_rational_closure: forall_{a, b in Rational | b != 0} ((a / b) in Rational)"
      ]
     },
     "execution_count": 2,
     "metadata": {},
     "output_type": "execute_result"
    }
   ],
   "source": [
    "%proving div_rational_closure"
   ]
  },
  {
   "cell_type": "code",
   "execution_count": null,
   "metadata": {},
   "outputs": [],
   "source": []
  }
 ],
 "metadata": {
  "kernelspec": {
   "display_name": "Python 3",
   "language": "python",
   "name": "python3"
  }
 },
 "nbformat": 4,
 "nbformat_minor": 0
}