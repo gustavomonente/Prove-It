{
 "cells": [
  {
   "cell_type": "markdown",
   "metadata": {},
   "source": [
    "Proof of <a class=\"ProveItLink\" href=\"../../../../../_theory_nbs_/theory.ipynb\">proveit</a>.<a class=\"ProveItLink\" href=\"../../../../_theory_nbs_/theory.ipynb\">numbers</a>.<a class=\"ProveItLink\" href=\"../../theory.ipynb\">division</a>.<a class=\"ProveItLink\" href=\"../../theorems.ipynb#div_eq\">div_eq</a> theorem\n",
    "========"
   ]
  },
  {
   "cell_type": "code",
   "execution_count": 1,
   "metadata": {},
   "outputs": [],
   "source": [
    "import proveit\n",
    "theory = proveit.Theory() # the theorem's theory"
   ]
  },
  {
   "cell_type": "code",
   "execution_count": 2,
   "metadata": {},
   "outputs": [
    {
     "data": {
      "text/html": [
       "Under these <a href=\"presumptions.txt\">presumptions</a>, we begin our proof of<br><strong id=\"div_eq\">div_eq:</strong> <a class=\"ProveItLink\" href=\"../../../__pv_it/theorems/8ca044c63c6f9b0ef6bdc86f96b490587b259deb0/expr.ipynb\"><img src=\"data:image/png;base64,iVBORw0KGgoAAAANSUhEUgAAAPgAAAAmCAMAAADeO6ZmAAAAOVBMVEX///8oKCgUFBQNDQ0QEBCI\n",
       "iIhmZma6urrMzMxUVFQiIiJERETc3Nzu7u6qqqp2dnaYmJgyMjIAAAArQGDrAAAAAXRSTlMAQObY\n",
       "ZgAAA9hJREFUaN7VWemWpCoMZmYI+6bv/7A3ARWk7JLpZu4p+dGnLZPAl53I2MNWSj9i95o9c8Gy\n",
       "AQDQTkKEEbAgiMxxj3/l8kjcMh8esUS0vQFmRmBEZCOdrUV1T7S552rDgvjj6pl090wuMEH6sbY8\n",
       "L+l5wPVuLd8AudUWY5xcfd3Cwm1e86Cl1tbAKwwHCPoGMqtefY9Ziz5pQY3yZU8HXjkfZnJXDR58\n",
       "yVUwBMHq/c+mQHgWcLFU3w3MInA3lqeEJpZKm/izgHOobQgAVufRZobIRZMf3CrR7LN6ov/B09UU\n",
       "dyEVYhsQw+H5Hx7yaf1uEUTMnox8+sXt1dDZTw9x801Gg65sT/ksJ8bd0NX0H7rMdy0jMcLPURIo\n",
       "4FP0tJz5cNxsFRM7IbLyammZ+PHA51Vfn2ubzm5g3RSR8sdnyjEYIV4f9t0lbGmWGFCiJCL/vWtq\n",
       "sFEb3ZjipxkyB2NC1EG/VLOJ5XbNeqXohr+R6kMUAhm8stT9L3EacJfhGvKbvqEucbmdu1n3IC9o\n",
       "S76IqYAfLqg2OE/HSi5DDvOAkyLRqcnsPHwNfFKidAtTm2N5AXo5Un/EMgBa7UWBaIwvoZF/UaG8\n",
       "c9fAT+y1tmxirjaUsd4+TfpLVz/FuL5JbsVW1umSlLxRzaUNrz7Y4hi5D3DwheJNk5t8esmIDfCD\n",
       "Xdt9pUbMecNC8yfTlBMY6A87L6vvSgx7UyTQmOrwetWOaZyX+AIs2qjeDcM74OpqynOIudoQQjNv\n",
       "4HCZkCbW8aZEUlydhnHtyEPgxpjAlSnWA+aCUm+Ad+ydmIsNvd1tS2LXvjLyeYMTuQtP2+ySDmqT\n",
       "91Uz2XBby4jENOyr+wsPtfZeAN/Y9RF5qRFz3pBofv/aaC6zOrPzBsOpF84dHlYmurF4DATMFxSU\n",
       "+QmPo1BTFOyHKpzI/8fLOl7Zu5Z7E5OFHhsepSy7vLio4yzOGx+8iJIaAlCFVuiDXieJHZQvT/ll\n",
       "Ubo96orHTGpPeds2t/+d/WWPLCYLPTbcS9mGPMbX1ivMG5W9S/qhf/LZK8u5SoxfFuLb5qeK6ba4\n",
       "y11+Wuv2TtI5X9OTjiOfX26BVzFdSRiQPSu7hfXri0l6eZIpDtSTW+BVTLfFfV92nhFighEw+G2g\n",
       "oxX/4PuZYP9u+bZplZgX2TI2jepp+afPXPoF1VKek8OIoatBTwsPmy6zWv8RxmVb+4UXdrT8eV8N\n",
       "02Fybo8W715dZ1p44hfyvYiW61VYx1LDidZx90DgdJureQ4vf8ENAG9pvQnsicsZd5g+Gc3ioJsc\n",
       "tDaxZy63mVwDKKdhZLjZ0vqd4T/JvS3E70nWzQAAAABJRU5ErkJggg==\n",
       "\" style=\"display:inline;vertical-align:middle;\" /></a><br>(see <a class=\"ProveItLink\" href=\"../../../__pv_it/theorems/4b9eaf1617f3c0f6eb34c113dc9fb45559eb2bb80/dependencies.ipynb\">dependencies</a>)<br>"
      ],
      "text/plain": [
       "div_eq: forall_{a, x, y in Complex | x = y, a != 0} ((x / a) = (y / a))"
      ]
     },
     "execution_count": 2,
     "metadata": {},
     "output_type": "execute_result"
    }
   ],
   "source": [
    "%proving div_eq"
   ]
  },
  {
   "cell_type": "code",
   "execution_count": null,
   "metadata": {},
   "outputs": [],
   "source": []
  }
 ],
 "metadata": {
  "kernelspec": {
   "display_name": "Python 3",
   "language": "python",
   "name": "python3"
  }
 },
 "nbformat": 4,
 "nbformat_minor": 0
}