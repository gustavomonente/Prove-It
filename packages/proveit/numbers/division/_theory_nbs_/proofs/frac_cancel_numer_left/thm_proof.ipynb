{
 "cells": [
  {
   "cell_type": "markdown",
   "metadata": {},
   "source": [
    "Proof of <a class=\"ProveItLink\" href=\"../../../../../_theory_nbs_/theory.ipynb\">proveit</a>.<a class=\"ProveItLink\" href=\"../../../../_theory_nbs_/theory.ipynb\">numbers</a>.<a class=\"ProveItLink\" href=\"../../theory.ipynb\">division</a>.<a class=\"ProveItLink\" href=\"../../theorems.ipynb#frac_cancel_numer_left\">frac_cancel_numer_left</a> theorem\n",
    "========"
   ]
  },
  {
   "cell_type": "code",
   "execution_count": 1,
   "metadata": {},
   "outputs": [],
   "source": [
    "import proveit\n",
    "theory = proveit.Theory() # the theorem's theory"
   ]
  },
  {
   "cell_type": "code",
   "execution_count": 2,
   "metadata": {},
   "outputs": [
    {
     "data": {
      "text/html": [
       "Under these <a href=\"presumptions.txt\">presumptions</a>, we begin our proof of<br><strong id=\"frac_cancel_numer_left\">frac_cancel_numer_left:</strong> <a class=\"ProveItLink\" href=\"../../../__pv_it/theorems/cf262bcd619f0d5598220af7ea57f43a696cfdba0/expr.ipynb\"><img src=\"data:image/png;base64,iVBORw0KGgoAAAANSUhEUgAAAOUAAAAyCAMAAACULOyzAAAAOVBMVEX///8oKCgUFBQNDQ0QEBCI\n",
       "iIhmZma6urrMzMxUVFQiIiJERETc3Nzu7u6qqqp2dnaYmJgyMjIAAAArQGDrAAAAAXRSTlMAQObY\n",
       "ZgAAA+9JREFUaN7NWom2oyAMZWYA2UH+/2MnwX1Bqa0o57yevho0lyQ3gUjI48M399zXSvKe4f1d\n",
       "d27a14BkN654eAtMR39/Rzt+1/4VIC1tfhyLXkZ72+0vDs1/76YzlDe4yhXvmmt0B0qiXuCzKmdK\n",
       "y5g0DfPsW5QumqdBhpwKFiwQFCOq/RZlfiHrmVLncigo6kHbxnyNMtwQFB8NEXMMiIpp/Yu4JDay\n",
       "Z1HyQwK8qt3aeO3DpQGVh4YWv0HJnuUfEUM2w1hQDjW036M0+cdUqWCzi9xERzSgNOHSbe0HLnN/\n",
       "3UPzdRpjlvFwASSXNLZ8MVErCM7J1JUtS3Wd53jwCu9GMqqbWGyslK8D8JgZVtTouqYUtRJZetBg\n",
       "wsmotSp1V9Fpgrc4jKpexIpKT4pIslHjqL5FqZetI8aiTGuqa1cI/psy2rezccZiFPNIg1L2crV3\n",
       "eOaQgMA2ccdReLXNAk3BiB+sOFk67aWSEz8eUTNHNwkA0W3rDxkXXlU0Tn1zV1Sl8sOHDumhUZzn\n",
       "WFJYocEEovUlKE3CptDaW8PJWCs2OpSmJeKk1gvaGYuKBpPwuSKUuCBA5GhQ6n7qsYu4PKtTVWdC\n",
       "bWQfXZ5xwWRP8U06EVa2D930k3DdRbOLcjGdNL5LyiirwpZ9avEd7TjH8d5hYacj287FUA/0M4Hm\n",
       "Hqkp2LDWbYZynC5TcvoHfwFQos0U22aSWvly2JQMxRY8tx0X3dgGwDNAYfm08XMHKBfTCXNksiVl\n",
       "26qg1onwUDCHKUTmfsTB5ZBNhUq20YwYJ0Qe5WK61UOBhTO2kFwtlDb6bWmbTNKHLehB8b8pvrll\n",
       "UyLcouynS+CEv3+QGUKWY0WtPfx6W2AikBfGI2xQUjAJ2LanCB2BG56++718OU0fs0jyXL6bL0mt\n",
       "ndd6W2BlaKBOwYSYmL+RTHfEo0dBCySupdjz2Gn6kEV6mN7vAVKVDteOyBxgWbiqe7diXVzuJcX9\n",
       "6efFP69UFhyUH0il0pe0c/dRFthpfTyca41YxvE3QwuqiD3Zg5MXNGETSrrhu/cIroQV5kL51gis\n",
       "NU35tcQ7t7LmJ2cS1zlkcYS4aY0M1jCOcERe0lHYk3341HkZmOvWiI3teCGVFCUm2ZPV6lGQkKVW\n",
       "dcECiJKTnC3uKGxln+4GrXuLOSDJCVlZ73wjy57u7C1Y9qA1ouXwUcCFa1n6/LtN1E+elm+NcInX\n",
       "y+rBtewLOu6ztyeOWiN4jRdqu5ZtH2+4f6IE/6AcnMk6al+A0tBz5oSNOeSVsm3aSvYlbzURd57N\n",
       "8DBFF6aDlazk5B2Dn3JgA5FWeniylA2avGXI27L2i94cBWve9hbwyDz/ARbHLgDL6lOdAAAAAElF\n",
       "TkSuQmCC\n",
       "\" style=\"display:inline;vertical-align:middle;\" /></a><br>(see <a class=\"ProveItLink\" href=\"../../../__pv_it/theorems/1384997f97de7fc5f12627a6faade23193c962600/dependencies.ipynb\">dependencies</a>)<br>"
      ],
      "text/plain": [
       "frac_cancel_numer_left: forall_{x, y in Complex | x != 0} ((x / (x * y)) = (1 / y))"
      ]
     },
     "execution_count": 2,
     "metadata": {},
     "output_type": "execute_result"
    }
   ],
   "source": [
    "%proving frac_cancel_numer_left"
   ]
  },
  {
   "cell_type": "code",
   "execution_count": null,
   "metadata": {},
   "outputs": [],
   "source": []
  }
 ],
 "metadata": {
  "kernelspec": {
   "display_name": "Python 3",
   "language": "python",
   "name": "python3"
  }
 },
 "nbformat": 4,
 "nbformat_minor": 0
}