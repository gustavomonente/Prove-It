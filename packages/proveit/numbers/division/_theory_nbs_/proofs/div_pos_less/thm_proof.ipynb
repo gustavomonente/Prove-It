{
 "cells": [
  {
   "cell_type": "markdown",
   "metadata": {},
   "source": [
    "Proof of <a class=\"ProveItLink\" href=\"../../../../../_theory_nbs_/theory.ipynb\">proveit</a>.<a class=\"ProveItLink\" href=\"../../../../_theory_nbs_/theory.ipynb\">numbers</a>.<a class=\"ProveItLink\" href=\"../../theory.ipynb\">division</a>.<a class=\"ProveItLink\" href=\"../../theorems.ipynb#div_pos_less\">div_pos_less</a> theorem\n",
    "========"
   ]
  },
  {
   "cell_type": "code",
   "execution_count": 1,
   "metadata": {},
   "outputs": [],
   "source": [
    "import proveit\n",
    "theory = proveit.Theory() # the theorem's theory"
   ]
  },
  {
   "cell_type": "code",
   "execution_count": 2,
   "metadata": {},
   "outputs": [
    {
     "data": {
      "text/html": [
       "Under these <a href=\"presumptions.txt\">presumptions</a>, we begin our proof of<br><strong id=\"div_pos_less\">div_pos_less:</strong> <a class=\"ProveItLink\" href=\"../../../__pv_it/theorems/45abe06f2e8db8b6fe6fb67bf1376f69799c99190/expr.ipynb\"><img src=\"data:image/png;base64,iVBORw0KGgoAAAANSUhEUgAAAPgAAAAmBAMAAAAby0tnAAAAMFBMVEX///8QEBCIiIhmZma6urrM\n",
       "zMxUVFQiIiJERETc3Nzu7u6qqqp2dnaYmJgyMjIAAAAcRTyBAAAAAXRSTlMAQObYZgAABEBJREFU\n",
       "WMO1WG9oHEUUf7u3e/vn9u6C4Ic0FJZEz1D7j4ZWK028Wqggtrn6ofbbhWC1BRtKaUSkH4LScGmJ\n",
       "nlDSUpGsqaQYK3coCv1il4iIZyknCIVSZSn1S2nhsA2YqOibmdvr7u1cc8LNwN2beW9vfjtv3vvN\n",
       "mwMQ1JLVR5rNERDYNuJnLnNmvR2B7bPhQwf2CsRW1iCMmzymec0WS+mCTQCywKV/kkMYx1pRis2W\n",
       "j2IeFFDeEwf+OnEw6BNRiyPZ8AdKdL2gpi5TkbY5tmFHXUIRF+b3FJs5n+PYhkDuIu+3Igp8lmx1\n",
       "wtkEctS5k6DTV7slCnyI+rf8AXwctW2DYcoBP4sCf4x8zffODXKoZr73eZoCs1mgefhrh7GNpdX9\n",
       "ApILPxF5p9PcWmtti3vmg3oHzpEXnegweOwoT/stjX2tqrMElGuQwnC0yh0G13irub6dEW/vVjZO\n",
       "LEOysrBwttPxlt4c1T1VaSaivwD+LBROdBw8epb9EFX9A3AQYKqNU2r1R+RF1++WmjPMfIaTc8jw\n",
       "u8D0Ws2XODY5xN5YDxteCiUWI9Gb8E2D4JqhxnhR9TcGB8j8ouPz7wbBdq05DviB0KFgHqKkcRzS\n",
       "PpfmKda/tNEnAuBUSVPxPoZ6VePn6unzDoInv4iCzzTtkzGJ6OYSSOUQePAJntsR3PD2Y+dC5ncy\n",
       "XtyaQR8qGdCcXWSM4JcC4FbfKxgiF05i94UReIesacsY/kB9zyGnqFZt5XZuwKHbYeo17IzTE052\n",
       "xrQsYqSdfYx3bTc2EABfF/eOw6XbpOuuqORgvJjLE18rt8gRqfkAJbuNVDMw2uErpKPYZpWQksqK\n",
       "m/MvQr9JU9Xe9kY2AJ5LVUFdS3/56VGZMMkAvMo2qRtXLvmYabc1yYTynCalVK4XdKwC2QGj6tuF\n",
       "wrtg/7ghCA5p3NxrVBNz4wSqBzKMOm3c83S2Pq800ppeH2Yvofgk+q1U1G8Q96k1lQXu4zDC3P51\n",
       "JQiehxyYz5JJtKyEwlyG6QUc7a2Eol332jl9/FJGKub3wDln1vIsFDCu1OB7Bm4FAs6oXQN0qEFS\n",
       "S8sNg3EKutUHGFwHnkNr38M8t7raAG88pIx+OQj7yvO/LFZQwO5+D3RMl8SJu+aA1wA3j7y83qmn\n",
       "ljL6Pqg9sPvpvirMHKYMd7XB6Il26rNUeG/q2Vk2izoupx/3vNHCJKNOwWcwjSBsdJJH26u2MAcn\n",
       "inURdyOXGb1Z8aaCHrncauLJNsCvhO4TSV8oN91Vwfdcxa+Wl0FWHBo7tqzh1Fh17VD7tcn/O1NL\n",
       "dAd3FlOcesrX9oiqXmUSpeZaiEVLGl8rd4kCR55AbwUIN+DDulaqCgP/jUw/AaXofcnXbhR3SyUV\n",
       "asmFK5xwYFqjWxy4OU6jbixR5MQi0V4siwOHs0VcffIti+MTqp0W+Z8MFnbm6JMzT0R9QrUmOQD/\n",
       "A11TGdbjPFpuAAAAAElFTkSuQmCC\n",
       "\" style=\"display:inline;vertical-align:middle;\" /></a><br>(see <a class=\"ProveItLink\" href=\"../../../__pv_it/theorems/c7ec5eb4b37899db9db558d766ef0bc92f65bd2e0/dependencies.ipynb\">dependencies</a>)<br>"
      ],
      "text/plain": [
       "div_pos_less: forall_{a, x, y in Real | x < y, a > 0} ((x / a) < (y / a))"
      ]
     },
     "execution_count": 2,
     "metadata": {},
     "output_type": "execute_result"
    }
   ],
   "source": [
    "%proving div_pos_less"
   ]
  },
  {
   "cell_type": "code",
   "execution_count": null,
   "metadata": {},
   "outputs": [],
   "source": []
  }
 ],
 "metadata": {
  "kernelspec": {
   "display_name": "Python 3",
   "language": "python",
   "name": "python3"
  }
 },
 "nbformat": 4,
 "nbformat_minor": 0
}