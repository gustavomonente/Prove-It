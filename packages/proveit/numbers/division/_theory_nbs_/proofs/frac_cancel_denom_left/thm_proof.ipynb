{
 "cells": [
  {
   "cell_type": "markdown",
   "metadata": {},
   "source": [
    "Proof of <a class=\"ProveItLink\" href=\"../../../../../_theory_nbs_/theory.ipynb\">proveit</a>.<a class=\"ProveItLink\" href=\"../../../../_theory_nbs_/theory.ipynb\">numbers</a>.<a class=\"ProveItLink\" href=\"../../theory.ipynb\">division</a>.<a class=\"ProveItLink\" href=\"../../theorems.ipynb#frac_cancel_denom_left\">frac_cancel_denom_left</a> theorem\n",
    "========"
   ]
  },
  {
   "cell_type": "code",
   "execution_count": 1,
   "metadata": {},
   "outputs": [],
   "source": [
    "import proveit\n",
    "theory = proveit.Theory() # the theorem's theory"
   ]
  },
  {
   "cell_type": "code",
   "execution_count": 2,
   "metadata": {},
   "outputs": [
    {
     "data": {
      "text/html": [
       "Under these <a href=\"presumptions.txt\">presumptions</a>, we begin our proof of<br><strong id=\"frac_cancel_denom_left\">frac_cancel_denom_left:</strong> <a class=\"ProveItLink\" href=\"../../../__pv_it/theorems/1117fd0ae05544fede2c08b0557b23784da9d4530/expr.ipynb\"><img src=\"data:image/png;base64,iVBORw0KGgoAAAANSUhEUgAAANwAAAAmCAMAAACYjQXMAAAAOVBMVEX///8oKCgUFBQNDQ0QEBCI\n",
       "iIhmZma6urrMzMxUVFQiIiJERETc3Nzu7u6qqqp2dnaYmJgyMjIAAAArQGDrAAAAAXRSTlMAQObY\n",
       "ZgAAA4NJREFUaN7NWYmWnSAMpa3sBND//9gmiDs66OjzcU5nOiKYm/0CY++OGO/fEzT7isHbLA/n\n",
       "2kke+FZSLuiha6B+V9l+AzaZRYaANjScma1UAV8iLXSndPYFtoNGZQSIMXTApBun8m/nmSDE1p7a\n",
       "uY2vg9N6BmUhPnTtONOQW3b81M6nvPiRoTo3+2spvhkdS6JF8VV1UW9vjVYvkO6In7ySN6cV967p\n",
       "3GQ4D33G4AWJrB5+nNMcfxWcaCfP88wiOFdKA0LTC6cTRGxeBdfwqepyjvWsXNBpUiyis9IvJJrv\n",
       "0Wbh8OvqgpFP6A5rZ/Cjl342BGNdWdYtFQZ5oc7gQjeUF2c/HHKm6jWD/mSvJIeUoQaDTSb8zDB1\n",
       "ypQYcerK/p7iNAag4cyH80knnm4RyFqdpWHCp8HdXIjW9AFS+dDJ6tZd3PQw1tOHkMlsNQfd5eQc\n",
       "2tkQu/QhaU/SPFQnW2+DNnpS+1HopGiJiMzrbSW4t/Js6UOXNErRxn/4FPggBL4DylIf24YacC5B\n",
       "MmTbTavXh0QWo2r8IOCGPvRBHWIP8KgoWe+A5IsuwfJV4EgP6H9kvsYfgLuJ+a7oQw/OtUxltwmY\n",
       "d7lWQxampway56ZHyveTrghusZzJMBEbE+9zy0XM6T36AL1bYjLRfVrArhwLu5FDiKIuFL09BmSE\n",
       "uE48M3Djcp0S8D/8FzP5MHyTUO5u21f0YdCeH7oFNSfoDiQ+5ig8iImb+ANwi+WM+xklbTZQurtr\n",
       "z4o+jH4/0+K8/xb4fcqLyiRLYBfkvFL74BbLwQ4mohXb7rC5myuv6IMcPhlhwpsMkDsknE5nODPH\n",
       "Br44wFmBy8s1BsPfPxQScS9bMvvE+duMPsTVJ12HwUqxhl10ChSF+FP0jXidSP8PpTo3LR/LQHJP\n",
       "UapzLNzMJtf0Yb0/6Cixm6CMmlK31Dzr1455GzBXWa1KbjktH8pARheCKDW291KsNX1oD9we0QD6\n",
       "r80ByvuYKyWp8vIf0wXc3KKs6MPR9pQUdag5mC6DaytT92PDH5xMEGwZQ0W6LoKLFe3H7hHO/sXB\n",
       "tdTym10up+6dBuzg4uDMEcqHuffmIKAs/fbi4Mre757ssVxDixzQ/vZAp3n9JiS2T9F0/gU3dHvH\n",
       "WqfvPdaUo3HvgwNTAHF0cVC7rWdfMJxxW855cHFQ6RCRfcVwqtTc714c1BluaDD/A8pUKEFc8z8E\n",
       "AAAAAElFTkSuQmCC\n",
       "\" style=\"display:inline;vertical-align:middle;\" /></a><br>(see <a class=\"ProveItLink\" href=\"../../../__pv_it/theorems/43f73a246a214ee0521a680df942da25ae14c5930/dependencies.ipynb\">dependencies</a>)<br>"
      ],
      "text/plain": [
       "frac_cancel_denom_left: forall_{x, y in Complex | x != 0} (((x * y) / x) = y)"
      ]
     },
     "execution_count": 2,
     "metadata": {},
     "output_type": "execute_result"
    }
   ],
   "source": [
    "%proving frac_cancel_denom_left"
   ]
  },
  {
   "cell_type": "code",
   "execution_count": null,
   "metadata": {},
   "outputs": [],
   "source": []
  }
 ],
 "metadata": {
  "kernelspec": {
   "display_name": "Python 3",
   "language": "python",
   "name": "python3"
  }
 },
 "nbformat": 4,
 "nbformat_minor": 0
}