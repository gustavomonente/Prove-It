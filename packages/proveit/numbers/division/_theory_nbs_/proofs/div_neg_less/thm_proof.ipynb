{
 "cells": [
  {
   "cell_type": "markdown",
   "metadata": {},
   "source": [
    "Proof of <a class=\"ProveItLink\" href=\"../../../../../_theory_nbs_/theory.ipynb\">proveit</a>.<a class=\"ProveItLink\" href=\"../../../../_theory_nbs_/theory.ipynb\">numbers</a>.<a class=\"ProveItLink\" href=\"../../theory.ipynb\">division</a>.<a class=\"ProveItLink\" href=\"../../theorems.ipynb#div_neg_less\">div_neg_less</a> theorem\n",
    "========"
   ]
  },
  {
   "cell_type": "code",
   "execution_count": 1,
   "metadata": {},
   "outputs": [],
   "source": [
    "import proveit\n",
    "theory = proveit.Theory() # the theorem's theory"
   ]
  },
  {
   "cell_type": "code",
   "execution_count": 2,
   "metadata": {},
   "outputs": [
    {
     "data": {
      "text/html": [
       "Under these <a href=\"presumptions.txt\">presumptions</a>, we begin our proof of<br><strong id=\"div_neg_less\">div_neg_less:</strong> <a class=\"ProveItLink\" href=\"../../../__pv_it/theorems/b8a8458c696486662b1007a440ab0874a75862da0/expr.ipynb\"><img src=\"data:image/png;base64,iVBORw0KGgoAAAANSUhEUgAAAPgAAAAmBAMAAAAby0tnAAAAMFBMVEX///8QEBCIiIhmZma6urrM\n",
       "zMxUVFQiIiJERETc3Nzu7u6qqqp2dnaYmJgyMjIAAAAcRTyBAAAAAXRSTlMAQObYZgAABCxJREFU\n",
       "WMO1WF1oHFUU/mZ2ZudnZ3eD4EMbCkOiS7C1LQ0tPjRxtVChWLP1QX3bEKz6oKHERETyEATDRomO\n",
       "IG2pSMZUUoyRXRQFnzpE+mAsZQs+lSqDaClFYdEGTFT03PnZzM7MuivsXNi9d787c7+5557znTML\n",
       "JNSy9f+cVseRYNtPn+XCe/v0CO2gjndNPJEgt7CbaKzslGSHZzShDwcAPsGtf1giGlPbFozwzPsp\n",
       "GxXqf02O/DlmYMhz0RmT0/Eb9WT6hJq45XR5PWZuzBQ3qUsnZvecu3K5FDM3Cr6PPd92UuRL7Kgz\n",
       "5gHwUePOQ3Ye7cekyEcd+9bewQfRuSMYczTgelLk97CvlYHlkRipWRl42AmBpSKcOPy+x9zKZme7\n",
       "gLPwLevv9FpbG+3n0rZ61xvgPHvQuR6Tp86EJDWgKFJddgOQbyBH7qjVekwuhXezNrUjvAOH3UFm\n",
       "C9mN1dVzvfa3/MEwws9GYk78E/ijUpntOXlU2bIvh9nVv4HTwEIXWarzJfy65Q+rMRGWuRXOMaTw\n",
       "x6Da7dbLTM2PupuQWydORC49gZv4silwcZWEcCu097/IOcDHFx2ffD0C3dKWY8ifiSQFQqaR91cv\n",
       "Ox78j9N2yG+bTdQJxd/J1etSfKy+dcEk8uynUfKzkXMiRN0EV2sh72R2Ilfsp2hwsfAz+71+uECJ\n",
       "SChAMo+x30S+FiDXBp8kF7n4Bg0fHcdrzGsOTZZchLKoVG9v9hiHI7Nj4VkazDgZjjcnpSJx5M1T\n",
       "ru7qVmo4QP5A2p7G2k9saG2LLDFeKpVNF6EFJN/Jq3oXoaaQt+NzkqPUQZGJkugWNxcew5DqhKp+\n",
       "5PligLyUq0Pc49z50RmeKckwnvYQ2jnnc+at9iLTEudOUHI1r6BzK5CjmBBfrVReh/7Ng0Fy5Onc\n",
       "rjlIykozqn4UPITOPF/01uXG28vrjgMyic+SQaqGfIPZRWyIDJ/GvRh3zf7FRpC8jBLUh1h9IhU5\n",
       "6tQtLK56SMDbZbub7OOXMpxRPonz5pJma9RhRmjgikuuBRxOaVwDGVR5gfYvlcagvIld4t26hwzu\n",
       "xLnW1wV58yJh4rMRnKqtfLe+QR2OD9mQKVwys7+ow3aTXH3p8X1sc8q8QXe8DbEfx/cO1j2Ev9pU\n",
       "9Ew39Vmu9Wy86KyphkwrDtGZN1uryIgL+BiLRBJEQrLdsbVqcMbwurQVeZmRw8CLAlnkq3YLz3dB\n",
       "frlFdLJ+J9y0OpKfvEpfbV8G3eJQOXpod0yN5aGj3dcm/y+nVp0TfMTIxdRTPtqfVPXKMy9V9yAV\n",
       "LdB8lO9Lipx0gqwVENyADT2UqydG/gNbfg7V6PuSj+5P7i2VVahVC5dj3MFFlV3JkaszjtdNZowY\n",
       "X2TopVpy5Dhn0O6zr2gxNnHQxST/k1EoA03cf/a+qE0cVGUJ8F/+zRy3sTlmaQAAAABJRU5ErkJg\n",
       "gg==\n",
       "\" style=\"display:inline;vertical-align:middle;\" /></a><br>(see <a class=\"ProveItLink\" href=\"../../../__pv_it/theorems/f1dab58d1ad7bc799594637b10fccf403edd49c90/dependencies.ipynb\">dependencies</a>)<br>"
      ],
      "text/plain": [
       "div_neg_less: forall_{a, x, y in Real | x < y, a < 0} ((x / a) > (y / a))"
      ]
     },
     "execution_count": 2,
     "metadata": {},
     "output_type": "execute_result"
    }
   ],
   "source": [
    "%proving div_neg_less"
   ]
  },
  {
   "cell_type": "code",
   "execution_count": null,
   "metadata": {},
   "outputs": [],
   "source": []
  }
 ],
 "metadata": {
  "kernelspec": {
   "display_name": "Python 3",
   "language": "python",
   "name": "python3"
  }
 },
 "nbformat": 4,
 "nbformat_minor": 0
}