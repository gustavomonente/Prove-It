{
 "cells": [
  {
   "cell_type": "markdown",
   "metadata": {},
   "source": [
    "Proof of <a class=\"ProveItLink\" href=\"../../../../../_theory_nbs_/theory.ipynb\">proveit</a>.<a class=\"ProveItLink\" href=\"../../../../_theory_nbs_/theory.ipynb\">numbers</a>.<a class=\"ProveItLink\" href=\"../../theory.ipynb\">division</a>.<a class=\"ProveItLink\" href=\"../../theorems.ipynb#divide_real_pos_closure\">divide_real_pos_closure</a> theorem\n",
    "========"
   ]
  },
  {
   "cell_type": "code",
   "execution_count": 1,
   "metadata": {},
   "outputs": [],
   "source": [
    "import proveit\n",
    "theory = proveit.Theory() # the theorem's theory"
   ]
  },
  {
   "cell_type": "code",
   "execution_count": 2,
   "metadata": {},
   "outputs": [
    {
     "data": {
      "text/html": [
       "Under these <a href=\"presumptions.txt\">presumptions</a>, we begin our proof of<br><strong id=\"divide_real_pos_closure\">divide_real_pos_closure:</strong> <a class=\"ProveItLink\" href=\"../../../__pv_it/theorems/000d6c6fee03f8e2cf2fa2fd305948be574b54160/expr.ipynb\"><img src=\"data:image/png;base64,iVBORw0KGgoAAAANSUhEUgAAANgAAAAmCAMAAACRZqW2AAAAOVBMVEX///8oKCgUFBQNDQ0QEBCI\n",
       "iIhmZma6urrMzMxUVFQiIiJERETc3Nzu7u6qqqp2dnaYmJgyMjIAAAArQGDrAAAAAXRSTlMAQObY\n",
       "ZgAAA7lJREFUaN7NWYuyqyoM5ZxDeIX3/3/sJYhWqpZtde42M62dtmBWnivI2DMkxnv2cZo9SiBN\n",
       "VyuCAO4u7CTTk3DJhkVyy1jK12z0IJ85rtqVAlLgtd1SfAww3YwsMjnOwLXd7KVQvlNUttMHTr5y\n",
       "Wd1kp1+X1BRxOZR3/1WK6c5Qz3CZnR3msicVE/P29CZdXiZ4BDCxFGgsCkWjWWDXgEX+CGAcXt0V\n",
       "QFkN8iIwm8sO6fbmfzoSTxaLaDhiToljPADGePF58Etk/k7KxfPFIlXmpDCiq0lZhNPbArTkKbMz\n",
       "Vou/lGLmi7izYbrofY9BXjnq5br/V8zYoBFNkfQOTNhXIvWbeCq0MTgSa36pdmQx6t8IbtdjBRju\n",
       "A1O1cWQkMedrbLgH2KDpuG3uN2CayYNQdJnSTdeqhOeborgD16TDJ05hD3LMG/HCjDvWkqLaZW+0\n",
       "SaeAyeOlVQEIEHaqfTzRoRZgnJJuVRXe0Fdyxii7YG/78Ka6N4BaLIRFfFChXyooKCJZWW8Z8KJe\n",
       "fsnq91rIq3QeK+5AN0jcECdw234x39P5IET5F1BeBQekuBCmvPwBsLU1W1U25NENP10B2+/feFDu\n",
       "hVQ4AGYTU7tMf2anEb11pFEFFl0ceyyvY6OadhpHuD8bivyoj6GLcJi4U8yj1S0/nACd1GJMAO1a\n",
       "Ek6NbwIWhsDmpVPChdfUZeJGh0FVFHAArDhDqCOaNt3Gz93fGbWaZsA4BmJNJyuwEoBDYG2prp3k\n",
       "X3nFtu92PM6jrmH8PqUiSqHVwejq+15CKivTTRFlE7ECJrQ2clw82tJpkV/NyXwDjI/mXadRui0J\n",
       "LpAQ036Gytx0jG0hZcDrlIeXX4UuSKvdSdfiMQtxBqaOgbWlVS+cY47+nzcjCa4bg0O+U8ZkwI5S\n",
       "/YBYu7d4L0bF6Nq39CtB1V0oehXcsOO0pUS8//5pxHu/KrLQV4d0R9sP7xWH2xIxMlKRLQqUPImk\n",
       "bFBdjgUXhsDmpWxFwCldt32sENYOa76Di6f320gNHqhhKfKU0qFVTT836JBCyTmRRsCWpesuCiGI\n",
       "EaeSdxzEfKRpneGg5dhp8sP8mCnj2rzhjiHD52Pi+8VB0S6wH2R8d/SSNIC4Go3iw12/Of/YARb9\n",
       "TwLHrz4Xwu6yvQaM3zwzf1vPIL1VknztXBCecfpGFlZdELl8bYTlj3kqEVPXxeS1kg8PekK2VNxa\n",
       "p8Wlkm+5fQ4wIt8TMDk/Jft+K88eJNZMZtYFE14iVRjZo8SqeR4MlzRzM8n+D3YfKKkqju2eAAAA\n",
       "AElFTkSuQmCC\n",
       "\" style=\"display:inline;vertical-align:middle;\" /></a><br>(see <a class=\"ProveItLink\" href=\"../../../__pv_it/theorems/67e02f00da29565b42287523922f7a4f292200350/dependencies.ipynb\">dependencies</a>)<br>"
      ],
      "text/plain": [
       "divide_real_pos_closure: forall_{a, b in RealPos | b != 0} ((a / b) in RealPos)"
      ]
     },
     "execution_count": 2,
     "metadata": {},
     "output_type": "execute_result"
    }
   ],
   "source": [
    "%proving divide_real_pos_closure"
   ]
  },
  {
   "cell_type": "code",
   "execution_count": null,
   "metadata": {},
   "outputs": [],
   "source": []
  }
 ],
 "metadata": {
  "kernelspec": {
   "display_name": "Python 3",
   "language": "python",
   "name": "python3"
  }
 },
 "nbformat": 4,
 "nbformat_minor": 0
}