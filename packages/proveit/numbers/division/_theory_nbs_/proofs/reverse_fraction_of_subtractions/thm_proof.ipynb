{
 "cells": [
  {
   "cell_type": "markdown",
   "metadata": {},
   "source": [
    "Proof of <a class=\"ProveItLink\" href=\"../../../../../_theory_nbs_/theory.ipynb\">proveit</a>.<a class=\"ProveItLink\" href=\"../../../../_theory_nbs_/theory.ipynb\">numbers</a>.<a class=\"ProveItLink\" href=\"../../theory.ipynb\">division</a>.<a class=\"ProveItLink\" href=\"../../theorems.ipynb#reverse_fraction_of_subtractions\">reverse_fraction_of_subtractions</a> theorem\n",
    "========"
   ]
  },
  {
   "cell_type": "code",
   "execution_count": 1,
   "metadata": {},
   "outputs": [],
   "source": [
    "import proveit\n",
    "theory = proveit.Theory() # the theorem's theory"
   ]
  },
  {
   "cell_type": "code",
   "execution_count": 2,
   "metadata": {},
   "outputs": [
    {
     "data": {
      "text/html": [
       "Under these <a href=\"presumptions.txt\">presumptions</a>, we begin our proof of<br><strong id=\"reverse_fraction_of_subtractions\">reverse_fraction_of_subtractions:</strong> <a class=\"ProveItLink\" href=\"../../../__pv_it/theorems/7d3795340f30a19e48e6b37c727c209765c8c6680/expr.ipynb\"><img src=\"data:image/png;base64,iVBORw0KGgoAAAANSUhEUgAAAQwAAAAyBAMAAABbpfjJAAAAMFBMVEX///8QEBCIiIhmZma6urrM\n",
       "zMxUVFQiIiJERETc3Nzu7u6qqqp2dnaYmJgyMjIAAAAcRTyBAAAAAXRSTlMAQObYZgAABKdJREFU\n",
       "WMOtWW1oW1UYfno/ktybpCmjftDJyBoQ7cYaVxR/jLar6BDUxunc/khCVETxo8OBINso/ohZ3SSC\n",
       "qDhx1zmGK+JahkrH1LCf+4zzh1McXtjmD5ES9iFLZtFzzr037f3ISE7OC817zrn3Pfc5533P+3EK\n",
       "8FFsFGJIz3UifQqi6IkOZKWcMBhxk192FuJoN79CewXC+JzbzCJpgTCiPbySPxoCYWA7r+AbTDOp\n",
       "JH7ArBuR3v/S2HG/Ev2j+9ciakb72KJKnMZdY66D7GYB427NfoVfkjt9AgGj5VlEcso12gxzqjg8\n",
       "SX/3yiYWEHEv5QTOGo/6BPyj2swwEhXsYquq88HIsh0wupJqDTLd83lGGTqIYoCAM7r4oo5lyJbA\n",
       "9kG/wgfjPouNl6QexLwPg+f0jSo1rCSqYe15Phi3W2yYaBcfeJ6p14Mk/KNEowVolmENctmoumDx\n",
       "AsJlJN3PjkpVDPgkAkbJCrZDstr7KlwBpWbxNVg/qboPinIzUtV8kwaNSqZyJ5622l1cESpiuz15\n",
       "7UD+tMdB5AdSF/xuI2h0qP/gahtaZAIsvl1oC0bXJMRSrIqTlP/VltThtGAY8ev4mPqS9paXTQqG\n",
       "oV5BN4kJsZn2AtuMYBj6VcRPTE9/1J7UHxnBMPAPcKNYbDPSDpZEw7gBvAArwLROZ1vKNs6w8HGx\n",
       "pRlXAA9BbyEpje5+Me+0RwzRu3EHidqQbu1L9WNDFX2Lof7tDLxusf+aUtUzQ6L5q9YLW8kxqYRv\n",
       "DfX83DTinwLHPDAEEoGhmc8Qr383PtPfog4ttZEYC8ZyoD1t56GMQp3Vw9+QTntKsWzjz5ZgvEn+\n",
       "dj1Pvp4w7sEl0hkImdtoilZXaeCQvz+Obvreb78uNVHhJ4WYKI5MAJ9sQB73kk6mmxqKdmBCYp5V\n",
       "n8EXLFLPLT2wwv0GTWAS1DevQ6+VCiXYUuVyiHnsA8DmYrGY3LtpqfsaFQ3jKg0sVNXb9LqVwWRB\n",
       "1xoe7aJMy6hGiMHaT9NHx5mLhqH/67QuR6vxkjalVc+grE0hnBkHYR+ePI8Yw7Mug0ahka0IhqE2\n",
       "MtWnVv28Cupy/dXHVhvqcij590gPlSengHdZpTFfaFhEQnSgj9709B12CHsaPYnYhrtMMQXDiNXc\n",
       "/TmHvaKYjZ6P5KpgGCHPhBWHPX5qsedPluqLdajW5362oVcNFFO2jj7rNktSAb9vdJJVqo4qy+sh\n",
       "uRei70k9GCjz5bkh97diSg8G7fa+JLe3sevQiHtyvVlCabBscwnRCrjYWQIz4nxzmeX7vmbh4zIb\n",
       "3NIk4KhTcL1JKuBGRfkOn0k5lwlKHVmPY1eaVT6P+CYxGhUlZyntXEiQfV3pefRtM9fggzcMyS67\n",
       "JM6LBeeokDq04PlaGqFAkSOAB0iBindQOxK6y96NnLLgfrD593OXAi1jx+k1nkj0AMbto8176eRc\n",
       "wen5lMf/peMrAuOejJ+88A72j9ifv8jr9rrTi7cU/DRsK7KPdwLtNsZew2HumB8y9WtWi/96Ft+x\n",
       "3x14m3uGcCVi+87n+PdTZsY9luJPB5X+++1j18k1RV5YeO3kHxmQRSWC+sv093/vLGaeZ8RBpgAA\n",
       "AABJRU5ErkJggg==\n",
       "\" style=\"display:inline;vertical-align:middle;\" /></a><br>(see <a class=\"ProveItLink\" href=\"../../../__pv_it/theorems/07c47f64dfb16fad16a67b1ea35108711b79a0c80/dependencies.ipynb\">dependencies</a>)<br>"
      ],
      "text/plain": [
       "reverse_fraction_of_subtractions: forall_{w, x, y, z in Complex} (((w - x) / (y - z)) = ((x - w) / (z - y)))"
      ]
     },
     "execution_count": 2,
     "metadata": {},
     "output_type": "execute_result"
    }
   ],
   "source": [
    "%proving reverse_fraction_of_subtractions"
   ]
  },
  {
   "cell_type": "code",
   "execution_count": null,
   "metadata": {},
   "outputs": [],
   "source": []
  }
 ],
 "metadata": {
  "kernelspec": {
   "display_name": "Python 3",
   "language": "python",
   "name": "python3"
  }
 },
 "nbformat": 4,
 "nbformat_minor": 0
}