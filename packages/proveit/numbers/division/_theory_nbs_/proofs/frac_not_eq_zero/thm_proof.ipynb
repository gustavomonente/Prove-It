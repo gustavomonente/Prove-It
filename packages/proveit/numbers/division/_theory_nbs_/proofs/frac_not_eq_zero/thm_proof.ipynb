{
 "cells": [
  {
   "cell_type": "markdown",
   "metadata": {},
   "source": [
    "Proof of <a class=\"ProveItLink\" href=\"../../../../../_theory_nbs_/theory.ipynb\">proveit</a>.<a class=\"ProveItLink\" href=\"../../../../_theory_nbs_/theory.ipynb\">numbers</a>.<a class=\"ProveItLink\" href=\"../../theory.ipynb\">division</a>.<a class=\"ProveItLink\" href=\"../../theorems.ipynb#frac_not_eq_zero\">frac_not_eq_zero</a> theorem\n",
    "========"
   ]
  },
  {
   "cell_type": "code",
   "execution_count": 1,
   "metadata": {},
   "outputs": [],
   "source": [
    "import proveit\n",
    "theory = proveit.Theory() # the theorem's theory"
   ]
  },
  {
   "cell_type": "code",
   "execution_count": 2,
   "metadata": {},
   "outputs": [
    {
     "data": {
      "text/html": [
       "Under these <a href=\"presumptions.txt\">presumptions</a>, we begin our proof of<br><strong id=\"frac_not_eq_zero\">frac_not_eq_zero:</strong> <a class=\"ProveItLink\" href=\"../../../__pv_it/theorems/f1086ccb7f21bfa2cc58a1baea0d4906b57475010/expr.ipynb\"><img src=\"data:image/png;base64,iVBORw0KGgoAAAANSUhEUgAAALMAAAAmCAMAAAC4YVoxAAAAOVBMVEX///8kJCQNDQ0oKCgQEBCI\n",
       "iIhmZma6urrMzMxUVFQiIiJERETc3Nzu7u6qqqp2dnaYmJgyMjIAAAD9T1yxAAAAAXRSTlMAQObY\n",
       "ZgAAA2hJREFUWMPFWNmWpCAMdabZIWH5/48dIuJSYik1XZqHPp4ukZubmwWG4XYL4bN1oIenjMfp\n",
       "wQkvOIPrK2V8CLKsKCVzwxBTl7vPMA1M1QeSiLBdq2N4ArOuVIlEfBvetdr1SOm3TCU3PTFiGJL6\n",
       "0OUbLdY9Ifn8F1O3z7cT7WaaISHRFgd0fU7zuzGLpVrZvHkwevCdxZ3djZnxVYfgXDnNZfNFD4eR\n",
       "ygvif/enHmlcTDm36R6eBz8vZDkwHmepfF3e4WrK6TX7MSMEU2WfU2Bwtao7+305m4s0252CfWWe\n",
       "pxW9C+FfM3ORFr2WkB3LI9Yih1R6ggcyZ76fgkn00zykEbNMWCs0PSRLZvwNmK8VV7umGYqjsq6F\n",
       "FOZIWNeY/a4Pf8qPVYd7Tr4r3hJa2e7YfBzt5y/9FXOt8YVevnZc0s/Qguf3sUTrtdH8YHgJ+fs4\n",
       "xlL7VqkL3TTnRaJgrh8sD6Rk3vpcrGwBeiHyG6BsxqbiDhAWlw3VqDFbMLaGhYX9tNjrW/olOFtt\n",
       "TElBYW1mYJ0OgkUHhCS4ES0eYC5jGsMLmN/Q/CLSNNUN3GDOXac6B4LrqOY9ONcwiWd0VmH5zbUx\n",
       "l0nThAPM7oqe/7Ci6plta0s7gvVASK5NjQeMWo173MDAxaq9BwgHU1jFPM/xLcxwpW5E15yK5p5S\n",
       "HcfaoERGqMxm9IqZ+xkZHE2O2i88j4MQsMab6byeyn3aG1wdyRaBVQJIistBkWXyhc5OjAU8e+BQ\n",
       "1aXSVqOktGJY9JzGmKlGwWfnp4zG0AM+S3SuJTLJGvRpz0yODTCto0iTF8tOAopz0OZ5VTeaPNu1\n",
       "YMCyfeLjaacMryeVvJFKMlD7zL9kOQdKgGUQdGJ89vyg1pH6S33GZr3fDuxRXKH5/Tcy8Zojp0Ks\n",
       "iF+l/ZSjuMQpRqvVQQ5SH5z6UBMzbjnalz48F3x8o6/N93jR85u349k/9s1b7s+j5zS/6/+dR8tr\n",
       "mKe5skZ5L2d5vlE6BtZ5ztqlnPanJ9CYT4Sid2gXv3hn5zYDizo4QMBKwpCyEiD1xbMMBvcajy8J\n",
       "mfruK/jtVwXEk9pEGVLfUYM9cckY4qY6y4QfhulOm0vmWLRE1/2bY+4RzDQ6FsyyXkJfX4rDM+am\n",
       "6xWd4VrRFaIwPGVO1eOF7wIBteP8A1YHJhePdX9RAAAAAElFTkSuQmCC\n",
       "\" style=\"display:inline;vertical-align:middle;\" /></a><br>(see <a class=\"ProveItLink\" href=\"../../../__pv_it/theorems/4a910994c5363d705c3947acf0609c38145a0ef90/dependencies.ipynb\">dependencies</a>)<br>"
      ],
      "text/plain": [
       "frac_not_eq_zero: forall_{a, b in Complex - {0}} ((a / b) != 0)"
      ]
     },
     "execution_count": 2,
     "metadata": {},
     "output_type": "execute_result"
    }
   ],
   "source": [
    "%proving frac_not_eq_zero"
   ]
  },
  {
   "cell_type": "code",
   "execution_count": null,
   "metadata": {},
   "outputs": [],
   "source": []
  }
 ],
 "metadata": {
  "kernelspec": {
   "display_name": "Python 3",
   "language": "python",
   "name": "python3"
  }
 },
 "nbformat": 4,
 "nbformat_minor": 0
}