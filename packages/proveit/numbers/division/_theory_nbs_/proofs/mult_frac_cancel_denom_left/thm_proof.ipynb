{
 "cells": [
  {
   "cell_type": "markdown",
   "metadata": {},
   "source": [
    "Proof of <a class=\"ProveItLink\" href=\"../../../../../_theory_nbs_/theory.ipynb\">proveit</a>.<a class=\"ProveItLink\" href=\"../../../../_theory_nbs_/theory.ipynb\">numbers</a>.<a class=\"ProveItLink\" href=\"../../theory.ipynb\">division</a>.<a class=\"ProveItLink\" href=\"../../theorems.ipynb#mult_frac_cancel_denom_left\">mult_frac_cancel_denom_left</a> theorem\n",
    "========"
   ]
  },
  {
   "cell_type": "code",
   "execution_count": 1,
   "metadata": {},
   "outputs": [],
   "source": [
    "import proveit\n",
    "theory = proveit.Theory() # the theorem's theory"
   ]
  },
  {
   "cell_type": "code",
   "execution_count": 2,
   "metadata": {},
   "outputs": [
    {
     "data": {
      "text/html": [
       "Under these <a href=\"presumptions.txt\">presumptions</a>, we begin our proof of<br><strong id=\"mult_frac_cancel_denom_left\">mult_frac_cancel_denom_left:</strong> <a class=\"ProveItLink\" href=\"../../../__pv_it/theorems/a97eab4b62f7ea6e7882e0d41881cc5e24980b950/expr.ipynb\"><img src=\"data:image/png;base64,iVBORw0KGgoAAAANSUhEUgAAAZcAAAAyCAMAAACnHmbWAAAAOVBMVEX///8oKCgUFBQNDQ0QEBCI\n",
       "iIhmZma6urrMzMxUVFQiIiJERETc3Nzu7u6qqqp2dnaYmJgyMjIAAAArQGDrAAAAAXRSTlMAQObY\n",
       "ZgAABkhJREFUeNrVXAmWpCAMdWYE2Rfvf9gRXEqRJVJYVea97jbdFP9LICQRu+ueIHrI621F0jYs\n",
       "LwPVAn/NLDqvt5bBtmBZAVQH/C1BNK+3E8J77H4a+z7LKiDzIMOoPq83lVH5H1y/y7ISiOunmEX2\n",
       "Q1Zv68FGWQdy9QMpoFvvrqlwnNfb7mSscvpfZZUEutUbtPRiy8RK6W3FbsPL9Dss3wBiz/BkDOf1\n",
       "RQTWGPWgwdEIIRLtAZHF6/uRFrUsC1wKQNeAvyUmYGnirId++rUdAR0KNo0It/Ee+G7aM1zJssCl\n",
       "CMTwE5YLz+vrbmmm75hDOnRugq6zVQY92P1YyyqWBS5lIHOrp26UUIxDVl8E+1thqNwhPty0HO2x\n",
       "B73/G6piWeBSBroA/DXBfV5fpOf+fki5w/44jxk99rC3urVVLAtcAED295PLnub1dYZpv2EC0oxR\n",
       "d9AeEHgD3rMqcIEAoZ/f+closvp2s26/oLZTxRtaOlCAHkQcrMCywAUCBAb+mkBnEp88spl8Ujn0\n",
       "x25qS0wgPfS0hmWBCwSo//W6Mu/z+jYL6ZSSCIoANQytjUGwHjirYVngAgFy+muPMb+3eoJd+qTf\n",
       "K3qsY/k2kNP15mrtz4XNcsRZ/facltSwfB/I6WI1tuA/t1xIEMmTz0b2QLj3WUXvc10mWv2cXdSo\n",
       "svqHlyuQZSO/YLR0ItjPmSW6vj8pI61h2QDI6yN38ovl5W8nXCOvYdkAyOvUm5v/YI6pgwqe/nBF\n",
       "r98XRLTdCW7LqrcRfXAgMlKTGXKFGnxt9aYzC39TSCMdw5BZHeq+q4cL5NvLrORVoFl331AsedE4\n",
       "t1dl90KuKaO7KCPpEXzqbSajqLMzp2NGH0vyYmrhHxr3EAz0TPfIEk4gAzTr2sy2OYnNBBoqspak\n",
       "0hhPnUnCpylCrC7bRXhrMLecztMuaxe4sNqyRo1dqgjE7SJsR6KfzG1okbVkuBLSDa4R3iIKYBdn\n",
       "wKUq3qub/Fi1MJbaX2hbVoxFdS7o4v8lRtSSV3qD6IbpHot3Wyv0Wkty+cuwWmogau5CxO2y62nQ\n",
       "M5Brycx53xdZ/aP7fiY6Ea2BFl3hxV6SkWmQVlMgJju0DvbkakgfayWnxNQfrN36NtKcmO7sMvdE\n",
       "fXT+b/oyS2fnR3woiC3Qh/MXWF23AatUQXmtA+DJCmRbU74kvYy2f15Ndq02j0ip8RVPuTk2JVXG\n",
       "LvuekOpe66VH54xtyOq35y+gfL8BqxBo1c0y+Z2Lf52zdUf/MH39Zfv9qZUfXOZXwGRMoQhJ22XX\n",
       "k+RrwOLan29PBb866pL399YoUg83Cyyv8wqBzro7QmPkYiXnXdZR3PnQsJVYIvTXWsQShXE7D4MJ\n",
       "Ou2ef/+4PdQk47HS40p7b3kZXLcMN8arvIr12V64sx3GFZenQZq2F8OXa+tGDs/XvhVZW3G1vLih\n",
       "t0UisL/W0fxl6WmLkb0/w9H8Jbm+V/XeMia0IHlyd1d5FeuzA0UKuQyEuHVCqH+lw18LjAyS8/Wx\n",
       "lQvOZgPwXYhmLack6seWntYYeTGMjuawzOb04eawGRpohSwv87oSdyrAdaiheX+J5ikRBMDT+DGn\n",
       "65tL4NA0NmR5mdeF/HkfUaWuO8D5k4xdAMlB/iiipQjhqMtIHEGO7LhTS5y6Cejz4ZBlmlcC9MLj\n",
       "cgO4DrVrdjEAJ0wCR3vQ5egyp8iSTx1BjlRT2fRpkVi3AvocMmCZ5JUCDYHEBx/LVkZOuRM887sN\n",
       "2z3sDmIfjiDnVsu8P5JUviiqWAa8yqDPO9eX3WD82est1A+PGoP8em8QMqnWnNWxPPICgMaOKf24\n",
       "DEHOttd9ljBsPuR41BgW4GbrLHBvcmQZ8CqDhkAPODeeeznEp3PnxQHM0n0POlv2knUsE7ySoCEQ\n",
       "esB7FrmIzE3S+W2S4MbjR5BjwzkPEQJtbWCWKV4p0Medgp1Z6pROTfx109QR5MiS8DtBPE6+9jrd\n",
       "nmWKVwL0me/xZd57lRjp6KxMHEGOjRE2qdO/12pce5ZJXnHQEMg+4TW+r/FWvXyLZTXQVeCviehJ\n",
       "Vr9FLv97g1pWz/2/Cp1ief0OofhdlpVAFHePEUzz+g1RIH+fZRWQ4d2DhKK83jybtS1YVgA96/9c\n",
       "TXNxyOuNNxcqm7C8DLTT/wOh7FemZdFhgwAAAABJRU5ErkJggg==\n",
       "\" style=\"display:inline;vertical-align:middle;\" /></a><br>(see <a class=\"ProveItLink\" href=\"../../../__pv_it/theorems/3ea0272bee44736ade166627cec23972efc170530/dependencies.ipynb\">dependencies</a>)<br>"
      ],
      "text/plain": [
       "mult_frac_cancel_denom_left: forall_{a, b, c, d, e in Complex | c != 0} (((a / (b * c)) * ((c * d) / e)) = ((a / b) * (d / e)))"
      ]
     },
     "execution_count": 2,
     "metadata": {},
     "output_type": "execute_result"
    }
   ],
   "source": [
    "%proving mult_frac_cancel_denom_left"
   ]
  },
  {
   "cell_type": "code",
   "execution_count": null,
   "metadata": {},
   "outputs": [],
   "source": []
  }
 ],
 "metadata": {
  "kernelspec": {
   "display_name": "Python 3",
   "language": "python",
   "name": "python3"
  }
 },
 "nbformat": 4,
 "nbformat_minor": 0
}