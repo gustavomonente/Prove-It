{
 "cells": [
  {
   "cell_type": "markdown",
   "metadata": {},
   "source": [
    "Proof of <a class=\"ProveItLink\" href=\"../../../../../_theory_nbs_/theory.ipynb\">proveit</a>.<a class=\"ProveItLink\" href=\"../../../../_theory_nbs_/theory.ipynb\">numbers</a>.<a class=\"ProveItLink\" href=\"../../theory.ipynb\">division</a>.<a class=\"ProveItLink\" href=\"../../theorems.ipynb#frac_one_denom\">frac_one_denom</a> theorem\n",
    "========"
   ]
  },
  {
   "cell_type": "code",
   "execution_count": 1,
   "metadata": {},
   "outputs": [],
   "source": [
    "import proveit\n",
    "theory = proveit.Theory() # the theorem's theory"
   ]
  },
  {
   "cell_type": "code",
   "execution_count": 2,
   "metadata": {},
   "outputs": [
    {
     "data": {
      "text/html": [
       "Under these <a href=\"presumptions.txt\">presumptions</a>, we begin our proof of<br><strong id=\"frac_one_denom\">frac_one_denom:</strong> <a class=\"ProveItLink\" href=\"../../../__pv_it/theorems/2224c5eb82a6b7fda5114c8f0e9817431f296fd70/expr.ipynb\"><img src=\"data:image/png;base64,iVBORw0KGgoAAAANSUhEUgAAAIQAAAAnBAMAAAA84v3UAAAAMFBMVEX///8QEBCIiIhmZma6urrM\n",
       "zMxUVFQiIiJERETc3Nzu7u6qqqp2dnaYmJgyMjIAAAAcRTyBAAAAAXRSTlMAQObYZgAAAlpJREFU\n",
       "SMdjYCAA7uKT5EpgIAyYHgAVKmU6HcIu7UeEEY4LGBjWMFxXqMNhA2FncIkCiVMM5xd44lDwlqAR\n",
       "bCBbFjB04FQwcQEhI+IngKlP+O3AC56BSdavOBWw/iJgAudPELmL6QODFi4ljwgYwQyMUgaW3xwf\n",
       "OC/gUnKRgBGMCqBYSdJSxp3A5jswPMCXBOcHEIwzxgMMp0H0Kxzy9wmnPbYHDDNAodaAQ96ciBzw\n",
       "gYEPmDZ4NuCQryBsBPdPBt5Tq1ZNxyX/mbARrL8ZGH50dNTgkv+EJ/dAsy/XXwaGVAaGTlzK/qIJ\n",
       "nHsHAo9BTHj2BVrjzMD1AMVzPelJsMT5F7cr4Nn3DwMDOwMTLOlx7TG+wBWxgPUNkj8ZGPj/g8AH\n",
       "NCPg2RcYXjwX2GHCN3auYuCdw8CwB8UIAgEFNILzQRiQcchULYDFAMhw3QoUwuURSFigZF8uoEcY\n",
       "OlOACWRBHrsDH0jo1k2k4MQTI7DsC7ZmcwHQSFAJthgstRNJ3R+cJsCzL9iz/KDsyAAsGcI7OjoU\n",
       "ZociKRTDnSxg2ZflC5DgBRV/rB9YGdjARcQioDxMYR/h1MkLK7bm8zzgYeABZW1OmwAGeKVxEEpv\n",
       "xF3I8ghAGcuuHDrFwNANTnbv2uClxH6wVq6cfNxG8KGWv0zAsEARWA9NdPdxG7H+An6PciQQNGL/\n",
       "BAJhJUDQCDtC9eFvgkZIE4oyPUJGMAkQLJ8DCBjBeIFgwnlAwAg9womvCb8RnJKEjVgegNeI5RsI\n",
       "G8FZCSL1cRnRS0RDiWEqEJvJP8YealwODFQBABXnsss+9P5VAAAAAElFTkSuQmCC\n",
       "\" style=\"display:inline;vertical-align:middle;\" /></a><br>(see <a class=\"ProveItLink\" href=\"../../../__pv_it/theorems/f73e36665f4c991ce959c254956f9ba6d75bcc9c0/dependencies.ipynb\">dependencies</a>)<br>"
      ],
      "text/plain": [
       "frac_one_denom: forall_{x in Complex} ((x / 1) = x)"
      ]
     },
     "execution_count": 2,
     "metadata": {},
     "output_type": "execute_result"
    }
   ],
   "source": [
    "%proving frac_one_denom"
   ]
  },
  {
   "cell_type": "code",
   "execution_count": null,
   "metadata": {},
   "outputs": [],
   "source": []
  }
 ],
 "metadata": {
  "kernelspec": {
   "display_name": "Python 3",
   "language": "python",
   "name": "python3"
  }
 },
 "nbformat": 4,
 "nbformat_minor": 0
}