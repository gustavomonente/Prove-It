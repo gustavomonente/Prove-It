{
 "cells": [
  {
   "cell_type": "markdown",
   "metadata": {},
   "source": [
    "Proof of <a class=\"ProveItLink\" href=\"../../../../../_theory_nbs_/theory.ipynb\">proveit</a>.<a class=\"ProveItLink\" href=\"../../../../_theory_nbs_/theory.ipynb\">numbers</a>.<a class=\"ProveItLink\" href=\"../../theory.ipynb\">division</a>.<a class=\"ProveItLink\" href=\"../../theorems.ipynb#mult_frac_cancel_numer_left\">mult_frac_cancel_numer_left</a> theorem\n",
    "========"
   ]
  },
  {
   "cell_type": "code",
   "execution_count": 1,
   "metadata": {},
   "outputs": [],
   "source": [
    "import proveit\n",
    "theory = proveit.Theory() # the theorem's theory"
   ]
  },
  {
   "cell_type": "code",
   "execution_count": 2,
   "metadata": {},
   "outputs": [
    {
     "data": {
      "text/html": [
       "Under these <a href=\"presumptions.txt\">presumptions</a>, we begin our proof of<br><strong id=\"mult_frac_cancel_numer_left\">mult_frac_cancel_numer_left:</strong> <a class=\"ProveItLink\" href=\"../../../__pv_it/theorems/44d49a87cc6a00a2a876c98fe442c946431c5f370/expr.ipynb\"><img src=\"data:image/png;base64,iVBORw0KGgoAAAANSUhEUgAAAZcAAAAyCAMAAACnHmbWAAAAOVBMVEX///8oKCgUFBQNDQ0QEBCI\n",
       "iIhmZma6urrMzMxUVFQiIiJERETc3Nzu7u6qqqp2dnaYmJgyMjIAAAArQGDrAAAAAXRSTlMAQObY\n",
       "ZgAABm5JREFUeNrVXIm2nCAMta0g++L/f2wFdwQM6Mwo5/Qdozb3SiAkGKdp3tB0lxNvb5LeQrMY\n",
       "qBb3Z2bROfEDrbM30KwAqsP9VUM0J8aGIW8ZXD3hLQ7PGXuZJgwzADIvMoxqc2K8WVyC0KvDKa4v\n",
       "0oRiBkBcv8Ussu0yIrynM86kl2eoxTTBmFWP94TGcU6E93RmXWDXhz+MVwyzxh08wYvtu1iBelyz\n",
       "Eoi402P6As0SzACIvcOTMZwWBdYYtZEOsRQhDHFlgwZE4k5P9aKSZpJWHDMAKsP9VTN7ljuxawfB\n",
       "9hFf31s5/Dl/Pq+BJ4Y6w3U0k7RSmLmh99jpwpOibM3wFy9nZOBUenS+VnsNNtXXsoZmSOscMwAy\n",
       "hS7xF430XVLEnj9D6yRZrlgvnzrqSUPiPnlu2BivgBYAMwAqwP1Zw21abLl/CLKMWbpbVLvzWHnS\n",
       "kIpMra2hGdICYAZA9vnJZUuT4jgfVMyP92YZmFk3ltYwJvDgFXjD60Rp9HIAhB6/8hPfw3FR+vlA\n",
       "baMOT+FG4+jHT+yS1DAGTr0pp3miNHo5AALj/qxlBxIf3LAZnNdxeaAGluelNURnK4zmidLo5Yxb\n",
       "eGau32ZEOSQpRFB0XB4kRhoy5NIaJjxWQfNEafRyAOTEdY0xz5s9Lc+JH2+6r6J5GciJeola7OPC\n",
       "ZtnjjPiNpJZU0LwO5EQx21rwx00Xso/kybcDeyDgdV6xB52niVaPs4vapyCqVz+dr0CaNzkGo6Vr\n",
       "gj3OLLHp/d3W0wqaNwB5seeuPXF7+ef5Vs8raN4A5EXqrc0fmGPqfcquv76h1253RLTdNHwvr9Ye\n",
       "xc5hyMieTJfbqMFFk7dLa/XPhDTSMQyZEUv8d213gZw7YMenEGgU3R8US140zi1V2aWQa8roGmTw\n",
       "pFbszGsGo6ijL6d9RuzP28rVFvy3DQYDvdTd8Yop2uDHcUKgUXS5cXRg2EycoSJzSSqN8aBMEj6M\n",
       "EGJ11C47rcJbg7n5dBx1WbuUNFa5sVFhlzr8qF2EbUj0P+bWs8hcMlwJ6TrXCG8RFbfLfpNLNvOu\n",
       "eKs+5seq7clS6wu9lxdjMZEL2i07S9SSNb1BdIHUCKF1/wmto15OV7rZUh1RowoRs8tOa6fHU+5O\n",
       "Zo7rvsiI3173M+GJuBloEhWezCUZGTpp7jTEZIPmzh5cDWljd0n3Lt0Nn0W1kSYkurHLpJX66Pzf\n",
       "8M9Myo6v+NA+tkBfz19gG7s38EpsKM/bAHiwAlmmlN+Snnrbv68mm7sWh0ip8TuecnFsSqqMXbZa\n",
       "kWrW+dKiY8LWZcRv5C+gfP8GXgHQLJpp8DsXv5bZutI/TNcry/nDXb5zmZ8BQ7cLRUjaLhutks/x\n",
       "irv/+HRqf0rdYpeC4mVAicA9vAKgENeX9nAjJys57zLbY+NCw7vEFKCvUxFLFITtG7tMWumweP79\n",
       "45ZQk4zHcq8rLzRw8TJ43/Iqr7MN2la40g7jNpeHThoWAsOnY+t6Do/H/i4y38XV9OGGXiaJwP5Y\n",
       "R/OXSesSI3t/hqP5S2p6X3Ua0G1G6IbkZV5nG7QdRQq5DIS4eUKo/6LDHwuMDJLj8f4uF5yNBuCb\n",
       "EM1aTknUj01a5xh5MoyO5rDM5sTKBi9ehgZal3kVBJ4KcBxKaFxfIi22/6fOnTfuc2JtJ4B3zqGJ\n",
       "7GVe8AR6G1GljptUIQnMLoBBVlSJ6NIoSMCaLF52iRjePhH0/fCBV57KAafgfbkBHIdSmV0MwHcH\n",
       "Jd0k4+8FG65xgK2TxcsdG86JzSQW0PeQAa8TKgecEEh8771s7cIIL+Dx748owNb74uV1oMtxsSTb\n",
       "fFFU0cxTOeK8r64PvsDA96h2xcubnV7aGoTMVgtnVTRPqBxxYmVKD2/dPmXrkhkcvFRoX7y87vQe\n",
       "3xnD3cmO1wmVyLvpAOgFdePQb0OAmbl/6kTx8kEDKvnOAoOpHC8HQOgF31mAI7Ip5QasL6ni5anA\n",
       "AUEWsyzNEyoHnNdVwY4sdU5cnbp7mP1qmvLvieJl5NedNX4t+55uw+uESojzzu/4wN+9am0MyC8n\n",
       "i5cRNttS4LKfANjyOqES4IRA9g2f8f2OtmrlFZrVQKW4P2uiJRnxU6349w1qeb32dxUaxXLihxrF\n",
       "F2lWAlHcvKZhmhM/EwbyyzSrgAxvXtQoyomfSGftDTQrgN71O1fDUOxy4v2LC5V30CwG2oj/AZGI\n",
       "WJZmhSjHAAAAAElFTkSuQmCC\n",
       "\" style=\"display:inline;vertical-align:middle;\" /></a><br>(see <a class=\"ProveItLink\" href=\"../../../__pv_it/theorems/805649ac59c2eccd1b85828171d0b322701878470/dependencies.ipynb\">dependencies</a>)<br>"
      ],
      "text/plain": [
       "mult_frac_cancel_numer_left: forall_{a, b, c, d, e in Complex | b != 0} ((((a * b) / c) * (d / (b * e))) = ((a / c) * (d / e)))"
      ]
     },
     "execution_count": 2,
     "metadata": {},
     "output_type": "execute_result"
    }
   ],
   "source": [
    "%proving mult_frac_cancel_numer_left"
   ]
  },
  {
   "cell_type": "code",
   "execution_count": null,
   "metadata": {},
   "outputs": [],
   "source": []
  }
 ],
 "metadata": {
  "kernelspec": {
   "display_name": "Python 3",
   "language": "python",
   "name": "python3"
  }
 },
 "nbformat": 4,
 "nbformat_minor": 0
}