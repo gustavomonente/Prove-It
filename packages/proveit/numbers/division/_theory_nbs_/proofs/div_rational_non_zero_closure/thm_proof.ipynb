{
 "cells": [
  {
   "cell_type": "markdown",
   "metadata": {},
   "source": [
    "Proof of <a class=\"ProveItLink\" href=\"../../../../../_theory_nbs_/theory.ipynb\">proveit</a>.<a class=\"ProveItLink\" href=\"../../../../_theory_nbs_/theory.ipynb\">numbers</a>.<a class=\"ProveItLink\" href=\"../../theory.ipynb\">division</a>.<a class=\"ProveItLink\" href=\"../../theorems.ipynb#div_rational_non_zero_closure\">div_rational_non_zero_closure</a> theorem\n",
    "========"
   ]
  },
  {
   "cell_type": "code",
   "execution_count": 1,
   "metadata": {},
   "outputs": [],
   "source": [
    "import proveit\n",
    "theory = proveit.Theory() # the theorem's theory"
   ]
  },
  {
   "cell_type": "code",
   "execution_count": 2,
   "metadata": {},
   "outputs": [
    {
     "data": {
      "text/html": [
       "Under these <a href=\"presumptions.txt\">presumptions</a>, we begin our proof of<br><strong id=\"div_rational_non_zero_closure\">div_rational_non_zero_closure:</strong> <a class=\"ProveItLink\" href=\"../../../__pv_it/theorems/5b0d294646d17000d6f830bfdaa21631c6a8bb340/expr.ipynb\"><img src=\"data:image/png;base64,iVBORw0KGgoAAAANSUhEUgAAALoAAAAmCAMAAABEdHH7AAAAP1BMVEX///8oKCgUFBQNDQ1RUVE2\n",
       "NjYQEBCIiIhmZma6urrMzMxUVFQiIiJERETc3Nzu7u6qqqp2dnaYmJgyMjIAAADzBHuYAAAAAXRS\n",
       "TlMAQObYZgAAA85JREFUWMO9WIuyqyAM5L7kTQjw/996EwUfrVWPg82Z03GqhbDsJotCPBsp9R4R\n",
       "rPhKyFwvgkIlB+gxps7fyFy3ZPUQhMilEx5fwB0G0y6YN8p3Gjenx1O3DR5VGH0nb2Mwgo0SK/v6\n",
       "MO8gTAn1amC8oZibAyn+YaK8o33B5KnIbQIoDFe8S/UwjuM0fRSooDwLe5hBhxIZqixiuDOQh3nP\n",
       "hlhRkY+mrpYi5mmm5KzAW2UKF/a5KtA0PJr6IFdtREoTrNQ/lLnn+EP/qXKkKT0UGio/1fjCLVUa\n",
       "RYlmu1qjjCvNz3AMtBUYZ1X1pX66oUqw1lGGkK1vyYBvemEkSlsTCUeE1ieC70x1d0OQeqyDtATD\n",
       "QNqc8+9f9ME9aF1haC/KCuwF/j7hzqFI3lEslJWp8deDtqvCON5US13nShu41ANHcJ1VWtQZrb18\n",
       "oWgml1bz1FNJFH55RCKqVbtjpMuoY4e9Uz8pvfCmLULY1FKhk0AmSPyUFRR+0o708uFeHeFhkHZu\n",
       "f+yjyvc2oZYiVtYaukxiXf92kdFqxGDPGJ86YyOnTQX/XhtPUvd7g61Tp8v0WX+jtxBuUsh74Btd\n",
       "AS2qFV6jbIb6/+K9lmnLEsv9IbdYjTYTJgoMF6SEaUr/3T+12SGiUvRUGF0+Mhj0hVL//qpIFpSX\n",
       "bw5S32Wa39uIlUztlSoQsjC7Dzb/lHwMwGyWgVEBWW1UwMk976V+SpgdF0Li9HNxPP75ZEZZoq3z\n",
       "gpI2mxk4KS1UMYxfmClnKdJCF1ohJwJvY59UGLVzH5eWpM5sxpRCbJ0PCLzFC0sHYyOYyZhgel7S\n",
       "H450UUSYfZlWHR31rB1GJTUZAXXmp2Y+NoQUJWrcxqpm2om5Kcyp40yXT8VRDGcnGbBew471ybmc\n",
       "N3bd3EyqQ7CTX87bA91VpHo39ixaSJwJgwtdPha/dWUFP7g9J+43RqCSZtXvD8wdvPCTMvMJ6rd8\n",
       "lxdjF5yqTLnEpBPzjVsdZiUuBmKIWUn8yeiUaCASsbYDeweiemIOo1ks0FgcpW+n9IOIW1zKdXcX\n",
       "yLNnpa+de+cdtDJKlohhtI3FWoHmaWVx6Mul8/jWCei+B+FDm7EBSU5crxX34jHNr1eIfY1pLJ97\n",
       "7ceze/AhxXDFq22OvplOp6rfiUAduKvP+wESlYRLmxpX12RxoYReqQ+dz0VvrzXzi2ZLr7cn8tl3\n",
       "GYyN2WwwlF7HmeHx96Upb6q6LrH7dj4WvjFkrGWqU4EMQ3g+dWhemB0HdNpmcFF8IYKbALKUtVed\n",
       "tjKJr0Qw7RyAnWaE1hH/A6HlL6H8TJ4tAAAAAElFTkSuQmCC\n",
       "\" style=\"display:inline;vertical-align:middle;\" /></a><br>(see <a class=\"ProveItLink\" href=\"../../../__pv_it/theorems/c53f56ed10828e3e08c6008063944ef0a00e0fd60/dependencies.ipynb\">dependencies</a>)<br>"
      ],
      "text/plain": [
       "div_rational_non_zero_closure: forall_{a, b in RationalNonZero} ((a / b) in RationalNonZero)"
      ]
     },
     "execution_count": 2,
     "metadata": {},
     "output_type": "execute_result"
    }
   ],
   "source": [
    "%proving div_rational_non_zero_closure"
   ]
  },
  {
   "cell_type": "code",
   "execution_count": null,
   "metadata": {},
   "outputs": [],
   "source": []
  }
 ],
 "metadata": {
  "kernelspec": {
   "display_name": "Python 3",
   "language": "python",
   "name": "python3"
  }
 },
 "nbformat": 4,
 "nbformat_minor": 0
}