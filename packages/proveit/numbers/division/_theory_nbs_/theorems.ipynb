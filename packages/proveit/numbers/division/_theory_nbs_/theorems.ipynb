{
 "cells": [
  {
   "cell_type": "markdown",
   "metadata": {},
   "source": [
    "Theorems (or conjectures) for the theory of <a class=\"ProveItLink\" href=\"theory.ipynb\">proveit.numbers.division</a>\n",
    "========"
   ]
  },
  {
   "cell_type": "code",
   "execution_count": 1,
   "metadata": {},
   "outputs": [],
   "source": [
    "import proveit\n",
    "# Prepare this notebook for defining the theorems of a theory:\n",
    "%theorems_notebook # Keep this at the top following 'import proveit'.\n",
    "from proveit.logic import Forall, InSet, Equals, NotEquals, Implies\n",
    "from proveit.numbers import (Integer, NaturalPos, Rational, RationalNonZero, RationalPos, RationalNonNeg,\n",
    "                             Real, RealPos, Complex)\n",
    "from proveit.numbers import Div, frac, Add, subtract, Sum, Mult, Exp, zero, one\n",
    "from proveit.numbers import Less, LessEq, greater, greater_eq\n",
    "from proveit import a, b, c, d, e, n, w, x, y, z, P, S #, w_multi, x_multi, y_multi, z_multi, w_etc, x_etc, y_etc, z_etc, Py_etc\n",
    "from proveit.numbers import ComplexSansZero"
   ]
  },
  {
   "cell_type": "code",
   "execution_count": 2,
   "metadata": {},
   "outputs": [
    {
     "name": "stdout",
     "output_type": "stream",
     "text": [
      "Defining theorems for theory 'proveit.numbers.division'\n",
      "Subsequent end-of-cell assignments will define theorems\n",
      "'%end theorems' will finalize the definitions\n"
     ]
    }
   ],
   "source": [
    "%begin theorems"
   ]
  },
  {
   "cell_type": "code",
   "execution_count": 3,
   "metadata": {},
   "outputs": [
    {
     "data": {
      "text/html": [
       "<strong id=\"div_rational_closure\"><a class=\"ProveItLink\" href=\"proofs/div_rational_closure/thm_proof.ipynb\">div_rational_closure</a> (conjecture without proof):<br></strong> <a class=\"ProveItLink\" href=\"../__pv_it/theorems/c5b0c43b2091f31b637090b76519c41c896f5a180/theorem_expr.ipynb\"><img src=\"data:image/png;base64,iVBORw0KGgoAAAANSUhEUgAAAMAAAAAmCAMAAAClH2SqAAAAOVBMVEX///8oKCgUFBQNDQ0QEBCI\n",
       "iIhmZma6urrMzMxUVFQiIiJERETc3Nzu7u6qqqp2dnaYmJgyMjIAAAArQGDrAAAAAXRSTlMAQObY\n",
       "ZgAAA7VJREFUWMPFWYlypCAQZTc09/3/H7uggKDMGEx26KqkLNNAn68fBqF14tzztZqj5QI+Pyhi\n",
       "CWA9t5r61fbTYjLFCiEfpv1fnAONWXlIlUTk9A7eLXWAlwCSkDIhYHoHNVt1vyosqPyEU+x1YD+I\n",
       "wQrx5XAdbPxtwqMgrEuBqgnQwaRgemTUfBRgmQPkAEEZrXCCI/tgkOBlDmBoRhIAUxzokzzGRf5X\n",
       "BuP0yexJzRMppeeNpzimzZpaUZ9rCfegZzXnIraJ9lxWQ2PrIFUmiJIfbAExv0ZSwnZHWA01hCbw\n",
       "Ryr+v4hvBMtJEaVWOLhS7VLTgsEmgZmzOokSH+zhQG7rXUJf0T5yvuwKRaWI2IbBQSYR9pMO3AG4\n",
       "Pjek4ohlkKEOWVqGSHrHt9KSasBYv0FZ6Wv9zQawcAnNfu5blnC2hgIyucZZfHRtJCjZXB5sYy+Z\n",
       "1pZb0u0uX+pvPeei9YZfUPTOgUuPsN6B0q8bD0Fi75HBqC562lhCoobaSLh1ZnyUN33S094pQ2fO\n",
       "spduNuGQRgH7IjUnRwkZZFXXTNbtTlxLVRVAMEonI0ClTTQ0vEUO9DNYVJaJzWsHxoNODnLSNDHv\n",
       "0UB5xPIrTYB7Vs8B4DrX2PaC7ZYDciMHiv4eJ3uwZuFmS+hKcmLrygqjrqOyqYHzfNaCNSQVhEZA\n",
       "Grbh9L4SEIwcyPp8Q7Wv+OPyZufbir5FIXJVsMcgI+dImDIZSfwTEx1P9DEr1cLqgB05kPV3FdPc\n",
       "W/DZnHCL2eJaZI7sVIK4ay2WiKRiPS7LOKaFxOYRW0ijeaaW0NCBrL+FSZZYp6iFM9PEt3cpzSXV\n",
       "Vwrlfdc+tOzsdD4u2iedzitT+pNL/Ng1N3EDQ40DWZ9H7Pj7JyGIe4FCSLagrSUeQQi1sqUSuYx6\n",
       "THbnnbGKWUktohKGxJJ2yT5buS9sAbYghzBa9AuE7isGcwDZvkn9LbOoC60yntTRaM/NTjkYSDXG\n",
       "UuQZt7nJa8AhCCsDH4+cqo8Owhsn8XUcRhLWRS58n0eqeCfwhJ5v1gPp9oS9BzKI0bczM62969Ge\n",
       "S9Cnl/N3lOTlFVtJ5YxSbx24p1CyDZ19SoRNeP0h4LVrGixpqO7AAXdfEd113MdbMXlyGyG/8X2U\n",
       "PEy+aZ4jd9Zh/qvKhaJ8UsCfOjrMf+OBdV9VUvRYVwg6zF+o8NKvu853U4AG84MkLhFZambDQjIN\n",
       "pQqrtQ4k5rs7QMs/CeaWG7RYlNhDyKPtchrMpEPLRbFyibLT1uhCB/4BUX8of2/jdMEAAAAASUVO\n",
       "RK5CYII=\n",
       "\" style=\"display:inline;vertical-align:middle;\" /></a><br>"
      ],
      "text/plain": [
       "div_rational_closure: forall_{a, b in Rational | b != 0} ((a / b) in Rational)"
      ]
     },
     "execution_count": 3,
     "metadata": {},
     "output_type": "execute_result"
    }
   ],
   "source": [
    "div_rational_closure = Forall(\n",
    "    [a, b],\n",
    "    InSet(frac(a, b), Rational),\n",
    "    domain=Rational,\n",
    "    conditions=[NotEquals(b, zero)])"
   ]
  },
  {
   "cell_type": "code",
   "execution_count": 4,
   "metadata": {},
   "outputs": [
    {
     "data": {
      "text/html": [
       "<strong id=\"div_rational_non_zero_closure\"><a class=\"ProveItLink\" href=\"proofs/div_rational_non_zero_closure/thm_proof.ipynb\">div_rational_non_zero_closure</a> (conjecture without proof):<br></strong> <a class=\"ProveItLink\" href=\"../__pv_it/theorems/40ae3dbea3e373c5602765c7eaa8b040e24abcc30/theorem_expr.ipynb\"><img src=\"data:image/png;base64,iVBORw0KGgoAAAANSUhEUgAAALoAAAAmCAMAAABEdHH7AAAAP1BMVEX///8oKCgUFBQNDQ1RUVE2\n",
       "NjYQEBCIiIhmZma6urrMzMxUVFQiIiJERETc3Nzu7u6qqqp2dnaYmJgyMjIAAADzBHuYAAAAAXRS\n",
       "TlMAQObYZgAAA85JREFUWMO9WIuyqyAM5L7kTQjw/996EwUfrVWPg82Z03GqhbDsJotCPBsp9R4R\n",
       "rPhKyFwvgkIlB+gxps7fyFy3ZPUQhMilEx5fwB0G0y6YN8p3Gjenx1O3DR5VGH0nb2Mwgo0SK/v6\n",
       "MO8gTAn1amC8oZibAyn+YaK8o33B5KnIbQIoDFe8S/UwjuM0fRSooDwLe5hBhxIZqixiuDOQh3nP\n",
       "hlhRkY+mrpYi5mmm5KzAW2UKF/a5KtA0PJr6IFdtREoTrNQ/lLnn+EP/qXKkKT0UGio/1fjCLVUa\n",
       "RYlmu1qjjCvNz3AMtBUYZ1X1pX66oUqw1lGGkK1vyYBvemEkSlsTCUeE1ieC70x1d0OQeqyDtATD\n",
       "QNqc8+9f9ME9aF1haC/KCuwF/j7hzqFI3lEslJWp8deDtqvCON5US13nShu41ANHcJ1VWtQZrb18\n",
       "oWgml1bz1FNJFH55RCKqVbtjpMuoY4e9Uz8pvfCmLULY1FKhk0AmSPyUFRR+0o708uFeHeFhkHZu\n",
       "f+yjyvc2oZYiVtYaukxiXf92kdFqxGDPGJ86YyOnTQX/XhtPUvd7g61Tp8v0WX+jtxBuUsh74Btd\n",
       "AS2qFV6jbIb6/+K9lmnLEsv9IbdYjTYTJgoMF6SEaUr/3T+12SGiUvRUGF0+Mhj0hVL//qpIFpSX\n",
       "bw5S32Wa39uIlUztlSoQsjC7Dzb/lHwMwGyWgVEBWW1UwMk976V+SpgdF0Li9HNxPP75ZEZZoq3z\n",
       "gpI2mxk4KS1UMYxfmClnKdJCF1ohJwJvY59UGLVzH5eWpM5sxpRCbJ0PCLzFC0sHYyOYyZhgel7S\n",
       "H450UUSYfZlWHR31rB1GJTUZAXXmp2Y+NoQUJWrcxqpm2om5Kcyp40yXT8VRDGcnGbBew471ybmc\n",
       "N3bd3EyqQ7CTX87bA91VpHo39ixaSJwJgwtdPha/dWUFP7g9J+43RqCSZtXvD8wdvPCTMvMJ6rd8\n",
       "lxdjF5yqTLnEpBPzjVsdZiUuBmKIWUn8yeiUaCASsbYDeweiemIOo1ks0FgcpW+n9IOIW1zKdXcX\n",
       "yLNnpa+de+cdtDJKlohhtI3FWoHmaWVx6Mul8/jWCei+B+FDm7EBSU5crxX34jHNr1eIfY1pLJ97\n",
       "7ceze/AhxXDFq22OvplOp6rfiUAduKvP+wESlYRLmxpX12RxoYReqQ+dz0VvrzXzi2ZLr7cn8tl3\n",
       "GYyN2WwwlF7HmeHx96Upb6q6LrH7dj4WvjFkrGWqU4EMQ3g+dWhemB0HdNpmcFF8IYKbALKUtVed\n",
       "tjKJr0Qw7RyAnWaE1hH/A6HlL6H8TJ4tAAAAAElFTkSuQmCC\n",
       "\" style=\"display:inline;vertical-align:middle;\" /></a><br>"
      ],
      "text/plain": [
       "div_rational_non_zero_closure: forall_{a, b in RationalNonZero} ((a / b) in RationalNonZero)"
      ]
     },
     "execution_count": 4,
     "metadata": {},
     "output_type": "execute_result"
    }
   ],
   "source": [
    "div_rational_non_zero_closure = Forall(\n",
    "    [a, b],\n",
    "    InSet(frac(a, b), RationalNonZero),\n",
    "    domain=RationalNonZero)"
   ]
  },
  {
   "cell_type": "code",
   "execution_count": 5,
   "metadata": {},
   "outputs": [
    {
     "data": {
      "text/html": [
       "<strong id=\"div_rational_pos_closure\"><a class=\"ProveItLink\" href=\"proofs/div_rational_pos_closure/thm_proof.ipynb\">div_rational_pos_closure</a> (conjecture without proof):<br></strong> <a class=\"ProveItLink\" href=\"../__pv_it/theorems/40090af7ebbdb4dd85b986789bbd777927bd4df40/theorem_expr.ipynb\"><img src=\"data:image/png;base64,iVBORw0KGgoAAAANSUhEUgAAAKsAAAAmBAMAAABJ6HYsAAAAMFBMVEX///8QEBCIiIhmZma6urrM\n",
       "zMxUVFQiIiJERETc3Nzu7u6qqqp2dnaYmJgyMjIAAAAcRTyBAAAAAXRSTlMAQObYZgAAA3RJREFU\n",
       "SMeVlltIFFEYgP9d9zazu24vRUXJ6MMSXZeVNIhouzwFoSUVveQgXUFCiugmYRK0GtiEVL5IE4qB\n",
       "RLsUPSxd3FAoi2DeEiNakHwoWsMK8lr/mXHnlrMz5zycOZf/fOc///n//wwARfnkRKgPKIs7h1Xn\n",
       "YLlYVMqTo8TuQJ5nBUzYiEXpqOxSrO5LsMVGrlSiwvp4rLaLcMZGjllJha0XsFoO7G87weNU2HFi\n",
       "iFkI/rAW4ZX9RQoqM0WwM+DLZSxlWhTjchTYEtlxWuEDn7XBhpdQYF2yDn0VhxsSNljmF0DOafjc\n",
       "q7Wcqkt2HNVhYRXAO/L96gD72TpcTwjseDv48vmy/HcycBqgi2jd4gBbbTlzbTOij4iatpvw2rAb\n",
       "SjvAXjAPhK+fvyKnCgkNGejlNeyAAOG3/f13nVzZT1Pf27rgnqVMDNmJdg1bj2r+SSabLVk6X5o0\n",
       "TT0qOP0dLyYBjzSkYVM4cAygzRIb0xLNnGnqVKGxM4jKebkXGjaCvrgLWDVDevKWWGZuUR/Fsl/B\n",
       "PsOmsIDFQ/rR5qrsYKHxsLFKMGC9M/KCv6TI/bI8FjmzyUZID2s7RnBZSPJrA9/IcZ9XSkwUQh9h\n",
       "sPJsZdqA1aUIVduAcmW8EcvkDmoDJJ2MZPrB3Q3sOqGoEdTA90gtxMF0yTtFbrqNBF5P9AtRaTIq\n",
       "egjqAGYpTjJcmdkT4mpriIRDnT7OyRZPmnDROe808exL7lgpmRjFCY7TY2HWhPWrMRSuFtgx/UtD\n",
       "/FZ2h5KYt4mYiQvnesjEWoLNGrDLzE/byT0qd37CEKc1JMeF0a9daTcxuStRwh9KJpPc04yC1WWt\n",
       "DgV2tUm16RsleIkZgrwhKxUiJSUERrEdEV1pn5yU8Mo2GDPFq4VQjS0SNaHhl/Hsf6KoplC/F7pE\n",
       "vzgCIaKhuwpCa4xLBxQVIoumpc7kWML46ikHani8DfalvY245w05tzXf5I0rU8ql1Ni/f+Y4VxRx\n",
       "o20B2nebhAPKNq/tc11wytgVdJ2u7oxgTK+K/49XbHX2mGoLDSdZHzcel5Wjl50XU4LdY+rkVVDL\n",
       "RvlE07KfFy3lVH81rlrlgKmsjeBqKmw4p7htTdrBbzBFaSVuK5GfxqLllkCHfYBWiCRYmzOylyn/\n",
       "xpmL+BRIgVhxqYBEiYXbqEv8vY1QL6n+AUIk59L7U78hAAAAAElFTkSuQmCC\n",
       "\" style=\"display:inline;vertical-align:middle;\" /></a><br>"
      ],
      "text/plain": [
       "div_rational_pos_closure: forall_{a, b in RationalPos} ((a / b) in RationalPos)"
      ]
     },
     "execution_count": 5,
     "metadata": {},
     "output_type": "execute_result"
    }
   ],
   "source": [
    "div_rational_pos_closure = Forall(\n",
    "    [a, b],\n",
    "    InSet(frac(a, b), RationalPos),\n",
    "    domain=RationalPos)"
   ]
  },
  {
   "cell_type": "code",
   "execution_count": 6,
   "metadata": {},
   "outputs": [
    {
     "data": {
      "text/html": [
       "<strong id=\"div_rational_non_neg_closure\"><a class=\"ProveItLink\" href=\"proofs/div_rational_non_neg_closure/thm_proof.ipynb\">div_rational_non_neg_closure</a> (conjecture without proof):<br></strong> <a class=\"ProveItLink\" href=\"../__pv_it/theorems/d0c68ee5d463d96c63ffaffbec53afff6a326ae50/theorem_expr.ipynb\"><img src=\"data:image/png;base64,iVBORw0KGgoAAAANSUhEUgAAAN4AAAAmBAMAAABZiDjwAAAAMFBMVEX///8QEBCIiIhmZma6urrM\n",
       "zMxUVFQiIiJERETc3Nzu7u6qqqp2dnaYmJgyMjIAAAAcRTyBAAAAAXRSTlMAQObYZgAABAVJREFU\n",
       "WMOtV2loE0EUfrvJ5tgkXREED4SoUMSjhhYPEDWoPz2i4vVHg3ggKogHBfWHStVYUVcK2j/iilKl\n",
       "FLIoCsUr2IJaK6x/VOpBsOiPilY8wHq/t5tsN5MsXbKZsJPNfC/zzbx575sZALclojk0FJNQiVKD\n",
       "T1PHOGVoyyWVoPOOxmcU9Dsw5SsxwYsJfDSY5cT2YwX4NuMzT4FdQ0ztfgbrM4prOmEAq5Egfrdz\n",
       "91b96xXcxNrn3qFV2IX4G0Kf7QyaNlG9ByScm/DTNd8FGfl+gS/bbkt4BGj6nIrvb13zzaXqMDxP\n",
       "ZmxN2hrI635K06eu+YZT1TJ+7Ya4vU1bHzrSHyVvxCFLLa/LpQt+t4VWpE5tzCmChvPjiI/LwGNq\n",
       "6StbzGzjpGWLLL5vJBmbqNL6SeQAXxaaaZQHy+Xz7LRDGqYj5zoFxIdxMz6B/wxV+B1Wy+XzF430\n",
       "RX09LRGvYR24nBRn6Qs7Qc8/CA1ApKu19VzZ4SLFmIY1k3J5GUSEjzcKCUNfunVD4RfAj1TqQPl8\n",
       "UWbPyUfCWQHj36t1MvAfAMz/48UypaNPukqSWFItzWx+Pjn3Mj+EayRE7zB//QKwAMRscdxtwyqg\n",
       "XNUl8BMDWnx4geEL5F+WG3y3QiksjSb+G5cc17YgO7fPwEF6d2C24IdKRyFk5VtPkSb9o6L/XvYJ\n",
       "Cw3fp/tTfcQM9SsGp+Y33Xu7TgtWQ/glebRWOQN+fbU/MBDLZynN5kSNeEkW8wWzq8xYbm8F/jyI\n",
       "k2kWa9Q830AB1FG3u0618ydn7kPaQcoHBsadBKOFZOdS9Tvw0sBXotBH0eymBhJwlKTCl2qlALLM\n",
       "L83Ep8f83Un5voKVP4xPuI4aIe5FSa2iph7sMBqFZ6oZL/w+PmaFrHwSuy3sNyNupiz2skc3yj89\n",
       "hzwxYSdcoqZJ1GnGkxjMh0A0krVABXwcu0AtDfkzQ+Rvf5Fseb8RgBacioen1Ri60RvtRqeWPuOe\n",
       "ZAFk4QvoqSQeGpTRRcfqc+nVGSo6PkTyG3xaDvQoPn2AGBRT1bbu7u78jiYpnGqBABKDHYSHGeoV\n",
       "KyEL4Ud3axl358xxDvL6xRCmjvgZEJ5ojXDFr7woDZEAGwOWSgp+U6o3XnzaMRy74docgBP0Ou3A\n",
       "aasflqnC9kxpKCeIWJY6POgx8sfjIgE0LixoVO0hLEf1+oFDeb8nl2hsPt9uaQ7JthCYJ6D342c7\n",
       "P10V3WOm1FrcE7GHdA/R9MW/Slp2wjfG9fmMzxpRw26EpY2Hub8/jCAVy0I648CW09zzvTHSb6mT\n",
       "I1BNBe5HAXSkpNEVaejD6qgK8Il7kS8ujnVgekWtAB+ck8GnBWIOLE9W5P4eTIBY+8SJJ0jc/gOa\n",
       "Ais33YKq6wAAAABJRU5ErkJggg==\n",
       "\" style=\"display:inline;vertical-align:middle;\" /></a><br>"
      ],
      "text/plain": [
       "div_rational_non_neg_closure: forall_{a in RationalNonNeg, b in RationalPos} ((a / b) in RationalNonNeg)"
      ]
     },
     "execution_count": 6,
     "metadata": {},
     "output_type": "execute_result"
    }
   ],
   "source": [
    "div_rational_non_neg_closure = Forall(\n",
    "    [a, b],\n",
    "    InSet(frac(a, b), RationalNonNeg),\n",
    "    domains=(RationalNonNeg, RationalPos))"
   ]
  },
  {
   "cell_type": "code",
   "execution_count": 7,
   "metadata": {},
   "outputs": [
    {
     "data": {
      "text/html": [
       "<strong id=\"div_real_closure\"><a class=\"ProveItLink\" href=\"proofs/div_real_closure/thm_proof.ipynb\">div_real_closure</a> (conjecture without proof):<br></strong> <a class=\"ProveItLink\" href=\"../__pv_it/theorems/a55edcb375de10a54a869e13de776d59e83245510/theorem_expr.ipynb\"><img src=\"data:image/png;base64,iVBORw0KGgoAAAANSUhEUgAAAL4AAAAmCAMAAABNn9GBAAAAOVBMVEX///8oKCgUFBQNDQ0QEBCI\n",
       "iIhmZma6urrMzMxUVFQiIiJERETc3Nzu7u6qqqp2dnaYmJgyMjIAAAArQGDrAAAAAXRSTlMAQObY\n",
       "ZgAAA4VJREFUWMPFWAlu5CAQZDc0V3P//7ELNth4jMeDlR1aSmIpHEXRXRQQMi+8f9rTSDI9IJQP\n",
       "zRwDakb68jAbPa+AOdWEhDi49sn8GyrqR84hhoP9g58KX1b6WMy7oGCwvx7Ltl8OEXX5opl3E8Xj\n",
       "9c+IUCc30aXfNj4gYB79eiPfRJupDMTqUQZgGny2Cx8mFF5J4oaPDToNPoXmCAIQWgIf38HUJfzC\n",
       "IfggdwYr1SuKGEOg2ICkacOc3XLpe6Xgxys1LE5BoMcNZioYout5ofGLqa+GuyDRbv2zCSbEhvR9\n",
       "G/5/qHuqPKoU4RU+03u62yxf3pkcWn2xciO7E3UE02U/wcdd+TPjEXMo9034N5JtznVY4EvCt+Qx\n",
       "MdexXFQAdceV3ttSft18QQAOzrys874zBPoi961izcoWFjhb1tsZxb3ssVWAkh1OO7xszjIrPk8p\n",
       "z7rp7+q0B5/mYmgrdPEbJGc99Abc2hrrGEstIJ+NzkB/osPQq0CovDsnc7ImbYGwx/5/Gmoc2E9E\n",
       "ozmVkPPrEs4pqqsKWG1yvwW+N74PP7ZbvsyzGklq38Dvnmp4IZyMCzzB14GIssGGgQximwVAmpJd\n",
       "q9Ku8F0Xfm2+FoLbbbHyo8lDr3QfjW/sxpo8qWzlWoJGicaIgjIEWOsrFviMsS780lwuQvaTfnwZ\n",
       "63QVMXfKw+ACfqKZiVcWbD0FMzChDl4wHdasgc+kVLxfZKX52tA2lxJ6AhPvVFrZvmnIh6sUrzlY\n",
       "2chZul+CacLJZFrPwmdGl9jX4C/gl+YLvVhpzlPFk5mkdzclI5Gbs2VLoyGGiprXgb0psyWy0JvS\n",
       "Me98XpA8JI8VznThl+Yy6cXfP1k1/JXyEGxl2iDtCAd3eDANXeP3MjDVaUe4z7Wf/pNy2Wd4Thxy\n",
       "312Ubm1OWlfFerpP3LE2w52H6Id7rXAuwUIWeJFZF9KV0rb12HLBpVpo70qN8tTmrTiDcx1s9shb\n",
       "fOYWw5sUPIwIJfc/Oh+JvbVPR9fAn12631mPTy/O2L1Z3HdriXPPzK6N1xg/vTh24PsPUuFwzQ7p\n",
       "tsvG84f9wjvns6IrzyP1O5lIE0ffSc5e5IsB4aWO4+irDcx7J8nciUMSmDh6XaJT32h9OKg+HxVP\n",
       "mPzCvwnxon9sUDw11XPhZ3e7wuf1kX+ksyWTQ6uVQJmQ46CCoSfTQ4t6RXKDaEz1sP8AL7QnAOE2\n",
       "kCgAAAAASUVORK5CYII=\n",
       "\" style=\"display:inline;vertical-align:middle;\" /></a><br>"
      ],
      "text/plain": [
       "div_real_closure: forall_{a, b in Real | b != 0} ((a / b) in Real)"
      ]
     },
     "execution_count": 7,
     "metadata": {},
     "output_type": "execute_result"
    }
   ],
   "source": [
    "div_real_closure = Forall(\n",
    "    [a, b],\n",
    "    InSet(frac(a, b), Real),\n",
    "    domain=Real,\n",
    "    conditions=[NotEquals(b, zero)])"
   ]
  },
  {
   "cell_type": "code",
   "execution_count": 8,
   "metadata": {},
   "outputs": [
    {
     "data": {
      "text/html": [
       "<strong id=\"divide_real_pos_closure\"><a class=\"ProveItLink\" href=\"proofs/divide_real_pos_closure/thm_proof.ipynb\">divide_real_pos_closure</a> (conjecture without proof):<br></strong> <a class=\"ProveItLink\" href=\"../__pv_it/theorems/67e02f00da29565b42287523922f7a4f292200350/theorem_expr.ipynb\"><img src=\"data:image/png;base64,iVBORw0KGgoAAAANSUhEUgAAANgAAAAmCAMAAACRZqW2AAAAOVBMVEX///8oKCgUFBQNDQ0QEBCI\n",
       "iIhmZma6urrMzMxUVFQiIiJERETc3Nzu7u6qqqp2dnaYmJgyMjIAAAArQGDrAAAAAXRSTlMAQObY\n",
       "ZgAAA7lJREFUaN7NWYuyqyoM5ZxDeIX3/3/sJYhWqpZtde42M62dtmBWnivI2DMkxnv2cZo9SiBN\n",
       "VyuCAO4u7CTTk3DJhkVyy1jK12z0IJ85rtqVAlLgtd1SfAww3YwsMjnOwLXd7KVQvlNUttMHTr5y\n",
       "Wd1kp1+X1BRxOZR3/1WK6c5Qz3CZnR3msicVE/P29CZdXiZ4BDCxFGgsCkWjWWDXgEX+CGAcXt0V\n",
       "QFkN8iIwm8sO6fbmfzoSTxaLaDhiToljPADGePF58Etk/k7KxfPFIlXmpDCiq0lZhNPbArTkKbMz\n",
       "Vou/lGLmi7izYbrofY9BXjnq5br/V8zYoBFNkfQOTNhXIvWbeCq0MTgSa36pdmQx6t8IbtdjBRju\n",
       "A1O1cWQkMedrbLgH2KDpuG3uN2CayYNQdJnSTdeqhOeborgD16TDJ05hD3LMG/HCjDvWkqLaZW+0\n",
       "SaeAyeOlVQEIEHaqfTzRoRZgnJJuVRXe0Fdyxii7YG/78Ka6N4BaLIRFfFChXyooKCJZWW8Z8KJe\n",
       "fsnq91rIq3QeK+5AN0jcECdw234x39P5IET5F1BeBQekuBCmvPwBsLU1W1U25NENP10B2+/feFDu\n",
       "hVQ4AGYTU7tMf2anEb11pFEFFl0ceyyvY6OadhpHuD8bivyoj6GLcJi4U8yj1S0/nACd1GJMAO1a\n",
       "Ek6NbwIWhsDmpVPChdfUZeJGh0FVFHAArDhDqCOaNt3Gz93fGbWaZsA4BmJNJyuwEoBDYG2prp3k\n",
       "X3nFtu92PM6jrmH8PqUiSqHVwejq+15CKivTTRFlE7ECJrQ2clw82tJpkV/NyXwDjI/mXadRui0J\n",
       "LpAQ036Gytx0jG0hZcDrlIeXX4UuSKvdSdfiMQtxBqaOgbWlVS+cY47+nzcjCa4bg0O+U8ZkwI5S\n",
       "/YBYu7d4L0bF6Nq39CtB1V0oehXcsOO0pUS8//5pxHu/KrLQV4d0R9sP7xWH2xIxMlKRLQqUPImk\n",
       "bFBdjgUXhsDmpWxFwCldt32sENYOa76Di6f320gNHqhhKfKU0qFVTT836JBCyTmRRsCWpesuCiGI\n",
       "EaeSdxzEfKRpneGg5dhp8sP8mCnj2rzhjiHD52Pi+8VB0S6wH2R8d/SSNIC4Go3iw12/Of/YARb9\n",
       "TwLHrz4Xwu6yvQaM3zwzf1vPIL1VknztXBCecfpGFlZdELl8bYTlj3kqEVPXxeS1kg8PekK2VNxa\n",
       "p8Wlkm+5fQ4wIt8TMDk/Jft+K88eJNZMZtYFE14iVRjZo8SqeR4MlzRzM8n+D3YfKKkqju2eAAAA\n",
       "AElFTkSuQmCC\n",
       "\" style=\"display:inline;vertical-align:middle;\" /></a><br>"
      ],
      "text/plain": [
       "divide_real_pos_closure: forall_{a, b in RealPos | b != 0} ((a / b) in RealPos)"
      ]
     },
     "execution_count": 8,
     "metadata": {},
     "output_type": "execute_result"
    }
   ],
   "source": [
    "divide_real_pos_closure = Forall([a, b], InSet(frac(a, b), RealPos), domain=RealPos, conditions=[NotEquals(b, zero)])"
   ]
  },
  {
   "cell_type": "code",
   "execution_count": 9,
   "metadata": {},
   "outputs": [
    {
     "data": {
      "text/html": [
       "<strong id=\"divide_complex_closure\"><a class=\"ProveItLink\" href=\"proofs/divide_complex_closure/thm_proof.ipynb\">divide_complex_closure</a> (conjecture without proof):<br></strong> <a class=\"ProveItLink\" href=\"../__pv_it/theorems/31a6b5b9fedde6c7a0de762afc6359a43b6221d30/theorem_expr.ipynb\"><img src=\"data:image/png;base64,iVBORw0KGgoAAAANSUhEUgAAAL4AAAAmCAMAAABNn9GBAAAAOVBMVEX///8oKCgUFBQNDQ0QEBCI\n",
       "iIhmZma6urrMzMxUVFQiIiJERETc3Nzu7u6qqqp2dnaYmJgyMjIAAAArQGDrAAAAAXRSTlMAQObY\n",
       "ZgAAA4ZJREFUWMPFWImu4yAMZPdhbnP9/8cuJJCjkLREb4ulVpECZBjGg4GQeeH9054oyfSAUB4M\n",
       "cwwojvTlYTZ6XgFzaggJcXDuk/lHKupD1hDTg/2DnwpfVvpYzKugYLC/GVPbL4eIpjzRzDtG8Xj+\n",
       "MyLUj2N06d/GBwTMo99s5GO0mcpArBllAKbBZ7vx6YTCK0nc8LZBp8GncNiCAISRwMdXMHUJv7AJ\n",
       "PtCOeNALggqRKs0qB2nBnN209L1U8OOZSoTIWYIs+go/JQwxdb8w+ovSV+MzJhLK1Ct8iAfS92X4\n",
       "/6HeU+W1SrFJ2wtS9ylZ4dtsX95hDqO+mLkbgZdK0XCWMtvVgbA5f2Y86hzKfRP+G8vG1zxMFbJo\n",
       "powxm41cXECbTlX6vizl180XBOCg5WX97l1B8ArGOMKhzwJny3w7o7h2ja12Usl9JH3ZnGVWfMJu\n",
       "Zeubb+A3qWFYF/7CTFY99AYMNZvROsZSCxQ6cSqC634oHJPfLKBVXp2mOFlFWyDssb+noUYFoIlw\n",
       "Fynk/DqF9rWpLmANZgzeLGPYPvx4XPI8z1JIUnsDv7urtcaUkkFewDeBiPIOGcggtq8ASCzqWtQt\n",
       "7PrO9ODX5mtTt5fFyo+Kp61m0l4lT0m1Fas5beWagqjEoRAFhQTYoa7w6M21SktzuRjZT/r5MlZz\n",
       "FMF3zsPa9xqq+LdzbmXB1l2QJbBCnWrBkFZky1u0N/BL83Uq9nAoodDPubt9zXaKVO0wZaHW+KrB\n",
       "ykZW6X4IpmlJWDJctfCZ0BkrxDX80rxkWqE5t49NMUnfnZRQat4kPAs0KrYj4HVgj+VriSztsXTM\n",
       "K58ntH+LlR0Pe/BLc5n84u+f7Br+ynmIPto0atoxDu70sWjoF34vA1OTVoT7nPvpTdKyz/Cc2O13\n",
       "eXZd36/Nq2kuImI93yfunJvhXQ3RD/ea4VyChWzwIrMupCupvSkRXQhaiq54tuZE76yA6+x9qdg6\n",
       "8RafVYvhRoKnEWHV/if743lbuJL2yTn5s0P3Xenx6cG5B/+DCzx9JM49K3ZtNDeng8fw/QdSOB2z\n",
       "QzrtsnH9sF+453yWdOV6pD6nigDj6D1JW4t8MSC85HEcvbWBefckmTtxEgHG0eMSnXpH68PJ9fmo\n",
       "ecLkG/7NiBf/Y4PmaaiZCz9Xtyt8Xi/5RzpbMjmMWgmUCbkedDDtyfQwoh6R3CAarDXsP0kWJWyx\n",
       "YHctAAAAAElFTkSuQmCC\n",
       "\" style=\"display:inline;vertical-align:middle;\" /></a><br>"
      ],
      "text/plain": [
       "divide_complex_closure: forall_{a, b in Complex | b != 0} ((a / b) in Complex)"
      ]
     },
     "execution_count": 9,
     "metadata": {},
     "output_type": "execute_result"
    }
   ],
   "source": [
    "divide_complex_closure = Forall([a, b], InSet(frac(a, b), Complex), domain=Complex, conditions=[NotEquals(b, zero)])"
   ]
  },
  {
   "cell_type": "code",
   "execution_count": 10,
   "metadata": {},
   "outputs": [
    {
     "data": {
      "text/html": [
       "<strong id=\"frac_not_eq_zero\"><a class=\"ProveItLink\" href=\"proofs/frac_not_eq_zero/thm_proof.ipynb\">frac_not_eq_zero</a> (conjecture without proof):<br></strong> <a class=\"ProveItLink\" href=\"../__pv_it/theorems/4a910994c5363d705c3947acf0609c38145a0ef90/theorem_expr.ipynb\"><img src=\"data:image/png;base64,iVBORw0KGgoAAAANSUhEUgAAALMAAAAmCAMAAAC4YVoxAAAAOVBMVEX///8kJCQNDQ0oKCgQEBCI\n",
       "iIhmZma6urrMzMxUVFQiIiJERETc3Nzu7u6qqqp2dnaYmJgyMjIAAAD9T1yxAAAAAXRSTlMAQObY\n",
       "ZgAAA2hJREFUWMPFWNmWpCAMdabZIWH5/48dIuJSYik1XZqHPp4ukZubmwWG4XYL4bN1oIenjMfp\n",
       "wQkvOIPrK2V8CLKsKCVzwxBTl7vPMA1M1QeSiLBdq2N4ArOuVIlEfBvetdr1SOm3TCU3PTFiGJL6\n",
       "0OUbLdY9Ifn8F1O3z7cT7WaaISHRFgd0fU7zuzGLpVrZvHkwevCdxZ3djZnxVYfgXDnNZfNFD4eR\n",
       "ygvif/enHmlcTDm36R6eBz8vZDkwHmepfF3e4WrK6TX7MSMEU2WfU2Bwtao7+305m4s0252CfWWe\n",
       "pxW9C+FfM3ORFr2WkB3LI9Yih1R6ggcyZ76fgkn00zykEbNMWCs0PSRLZvwNmK8VV7umGYqjsq6F\n",
       "FOZIWNeY/a4Pf8qPVYd7Tr4r3hJa2e7YfBzt5y/9FXOt8YVevnZc0s/Qguf3sUTrtdH8YHgJ+fs4\n",
       "xlL7VqkL3TTnRaJgrh8sD6Rk3vpcrGwBeiHyG6BsxqbiDhAWlw3VqDFbMLaGhYX9tNjrW/olOFtt\n",
       "TElBYW1mYJ0OgkUHhCS4ES0eYC5jGsMLmN/Q/CLSNNUN3GDOXac6B4LrqOY9ONcwiWd0VmH5zbUx\n",
       "l0nThAPM7oqe/7Ci6plta0s7gvVASK5NjQeMWo173MDAxaq9BwgHU1jFPM/xLcxwpW5E15yK5p5S\n",
       "HcfaoERGqMxm9IqZ+xkZHE2O2i88j4MQsMab6byeyn3aG1wdyRaBVQJIistBkWXyhc5OjAU8e+BQ\n",
       "1aXSVqOktGJY9JzGmKlGwWfnp4zG0AM+S3SuJTLJGvRpz0yODTCto0iTF8tOAopz0OZ5VTeaPNu1\n",
       "YMCyfeLjaacMryeVvJFKMlD7zL9kOQdKgGUQdGJ89vyg1pH6S33GZr3fDuxRXKH5/Tcy8Zojp0Ks\n",
       "iF+l/ZSjuMQpRqvVQQ5SH5z6UBMzbjnalz48F3x8o6/N93jR85u349k/9s1b7s+j5zS/6/+dR8tr\n",
       "mKe5skZ5L2d5vlE6BtZ5ztqlnPanJ9CYT4Sid2gXv3hn5zYDizo4QMBKwpCyEiD1xbMMBvcajy8J\n",
       "mfruK/jtVwXEk9pEGVLfUYM9cckY4qY6y4QfhulOm0vmWLRE1/2bY+4RzDQ6FsyyXkJfX4rDM+am\n",
       "6xWd4VrRFaIwPGVO1eOF7wIBteP8A1YHJhePdX9RAAAAAElFTkSuQmCC\n",
       "\" style=\"display:inline;vertical-align:middle;\" /></a><br>"
      ],
      "text/plain": [
       "frac_not_eq_zero: forall_{a, b in Complex - {0}} ((a / b) != 0)"
      ]
     },
     "execution_count": 10,
     "metadata": {},
     "output_type": "execute_result"
    }
   ],
   "source": [
    "frac_not_eq_zero = Forall([a, b], NotEquals(frac(a,b), zero), domain=ComplexSansZero)"
   ]
  },
  {
   "cell_type": "code",
   "execution_count": 11,
   "metadata": {},
   "outputs": [
    {
     "data": {
      "text/html": [
       "<strong id=\"frac_zero_numer\"><a class=\"ProveItLink\" href=\"proofs/frac_zero_numer/thm_proof.ipynb\">frac_zero_numer</a> (conjecture without proof):<br></strong> <a class=\"ProveItLink\" href=\"../__pv_it/theorems/e0ab93440cd44656866f0ac79349c9cbea6e3beb0/theorem_expr.ipynb\"><img src=\"data:image/png;base64,iVBORw0KGgoAAAANSUhEUgAAALgAAAAyCAMAAADYxuFLAAAAOVBMVEX///8QEBAoKCgUFBQNDQ2I\n",
       "iIhmZma6urrMzMxUVFQiIiJERETc3Nzu7u6qqqp2dnaYmJgyMjIAAAAMeWbTAAAAAXRSTlMAQObY\n",
       "ZgAAA1hJREFUaN7NWoly4yAMxdsFc4rj/z92OWKMDU0DSWGZScfTWOYhpKeHHIRWDL2P2SmGlg6t\n",
       "Ry13uxI3zn7T2GjaZWsWIoftuLLgd5/LLmuhV+FW2xHgJq5A20Hz2UOQfBVDBpwa3LDJgXLidBH4\n",
       "7qDvCXxNsPDscOVIAo57ly4X4DbnrNJF19Fe4MXaZzpcoBM4ScB19+LVdNzUnZwwGireEE8HTkpK\n",
       "cA9Wgd6n2PlVaCvFhhCDG4+npyd1pozVkQKUssPMVilXV/FQ8jf65sZNqZrXqqc0xoyOPIf7QD93\n",
       "7vf9v4lRIXyVkdr5T85p++vs+CDA/nGXkcZRJA8nSDEhN8cIuMri+KDD0Rp+HfgAZbdlZNw6o1UY\n",
       "ks8QKnTIrpaR8T9OhDFDLA4WjoY2cCGuEyGJCcVI/1gktS0G+V5GbiHe93CD6qlfTw9PERvWuLGD\n",
       "ZEzWNWTkFgM7/MFPSByEZpwVhPCMf0jYP+OngLq6MVcGbjG6Q4UnnjEJ/O120IT4bxQV3k/U6peA\n",
       "ywiXhz2p3csceiM5S05KwKVFtHKPESBVmNrICBleAx4W6V0U3L5Bf6hcYpx9LyN5crSQbD9KK6FR\n",
       "PuxHZuwUEofJNvBske5+pFG4mZs6OccYoJaRW7oG8ogUrBCzcaPzTUaZarYCeLZgkVT/+o/xwINv\n",
       "OK7pcIzHaxl5yMMj7P1XNvpJZVEBCp4BzxYJGaDT4xuuC9Bos/MuIw/RY87oSbtJeXSgwEgCpU+A\n",
       "Z4v4fHHQQDCpUYL7UBdK1Qds6qIX0ZmsROGTnxvAHxbMZ9PXn5BT5ltWoZ86udzVmnQxA8JqTvUr\n",
       "SbzWTR4vLA4qjCFDmjyO3Ic6Ine1ppjZfcmLnhJwBpi14hJhommRqPCBXOsWRv6h4/lTesIpxptk\n",
       "3XbDzzKNuM8AH61kbeAvePPailCeKuSOdf/pYvQI2DQz8EpSQclx3siTfX/8yNFW1niKlX2FkBlB\n",
       "6O7d5XR+Q+gS5CqrkJHuxOSx30rQ2J4vaHreett0SLzgBW3mkldAeQhJp/3nDbg0q85RA0h44LJX\n",
       "Bqx5lXJ2RxTDWGHS3/izK96kfGBe2NQa4HKj75ive0GL4C0WZgQtG+QNVjACLRxsuICs/dmH9/nw\n",
       "D21yYv4Drwolfn6CszUAAAAASUVORK5CYII=\n",
       "\" style=\"display:inline;vertical-align:middle;\" /></a><br>"
      ],
      "text/plain": [
       "frac_zero_numer: forall_{x in Complex | x != 0} ((0 / x) = 0)"
      ]
     },
     "execution_count": 11,
     "metadata": {},
     "output_type": "execute_result"
    }
   ],
   "source": [
    "frac_zero_numer = Forall(\n",
    "        x, Equals(frac(zero, x), zero), domain=Complex,\n",
    "        conditions=[NotEquals(x, zero)])"
   ]
  },
  {
   "cell_type": "code",
   "execution_count": 12,
   "metadata": {},
   "outputs": [
    {
     "data": {
      "text/html": [
       "<strong id=\"frac_one_denom\"><a class=\"ProveItLink\" href=\"proofs/frac_one_denom/thm_proof.ipynb\">frac_one_denom</a> (conjecture without proof):<br></strong> <a class=\"ProveItLink\" href=\"../__pv_it/theorems/73af2aa927410edd42489ea6feb39750871f55b40/theorem_expr.ipynb\"><img src=\"data:image/png;base64,iVBORw0KGgoAAAANSUhEUgAAAIQAAAAnBAMAAAA84v3UAAAAMFBMVEX///8QEBCIiIhmZma6urrM\n",
       "zMxUVFQiIiJERETc3Nzu7u6qqqp2dnaYmJgyMjIAAAAcRTyBAAAAAXRSTlMAQObYZgAAAlpJREFU\n",
       "SMdjYCAA7uKT5EpgIAyYHgAVKmU6HcIu7UeEEY4LGBjWMFxXqMNhA2FncIkCiVMM5xd44lDwlqAR\n",
       "bCBbFjB04FQwcQEhI+IngKlP+O3AC56BSdavOBWw/iJgAudPELmL6QODFi4ljwgYwQyMUgaW3xwf\n",
       "OC/gUnKRgBGMCqBYSdJSxp3A5jswPMCXBOcHEIwzxgMMp0H0Kxzy9wmnPbYHDDNAodaAQ96ciBzw\n",
       "gYEPmDZ4NuCQryBsBPdPBt5Tq1ZNxyX/mbARrL8ZGH50dNTgkv+EJ/dAsy/XXwaGVAaGTlzK/qIJ\n",
       "nHsHAo9BTHj2BVrjzMD1AMVzPelJsMT5F7cr4Nn3DwMDOwMTLOlx7TG+wBWxgPUNkj8ZGPj/g8AH\n",
       "NCPg2RcYXjwX2GHCN3auYuCdw8CwB8UIAgEFNILzQRiQcchULYDFAMhw3QoUwuURSFigZF8uoEcY\n",
       "OlOACWRBHrsDH0jo1k2k4MQTI7DsC7ZmcwHQSFAJthgstRNJ3R+cJsCzL9iz/KDsyAAsGcI7OjoU\n",
       "ZociKRTDnSxg2ZflC5DgBRV/rB9YGdjARcQioDxMYR/h1MkLK7bm8zzgYeABZW1OmwAGeKVxEEpv\n",
       "xF3I8ghAGcuuHDrFwNANTnbv2uClxH6wVq6cfNxG8KGWv0zAsEARWA9NdPdxG7H+An6PciQQNGL/\n",
       "BAJhJUDQCDtC9eFvgkZIE4oyPUJGMAkQLJ8DCBjBeIFgwnlAwAg9womvCb8RnJKEjVgegNeI5RsI\n",
       "G8FZCSL1cRnRS0RDiWEqEJvJP8YealwODFQBABXnsss+9P5VAAAAAElFTkSuQmCC\n",
       "\" style=\"display:inline;vertical-align:middle;\" /></a><br>"
      ],
      "text/plain": [
       "frac_one_denom: forall_{x in Complex} ((x / 1) = x)"
      ]
     },
     "execution_count": 12,
     "metadata": {},
     "output_type": "execute_result"
    }
   ],
   "source": [
    "frac_one_denom = Forall(x, Equals(frac(x, one), x), domain=Complex)"
   ]
  },
  {
   "cell_type": "markdown",
   "metadata": {},
   "source": [
    "### Theorems for the NumberRelation class"
   ]
  },
  {
   "cell_type": "code",
   "execution_count": 13,
   "metadata": {},
   "outputs": [
    {
     "data": {
      "text/html": [
       "<strong id=\"div_eq\"><a class=\"ProveItLink\" href=\"proofs/div_eq/thm_proof.ipynb\">div_eq</a> (conjecture without proof):<br></strong> <a class=\"ProveItLink\" href=\"../__pv_it/theorems/28e0d6239a90ad43c1374b1984b333ffdffc5df40/theorem_expr.ipynb\"><img src=\"data:image/png;base64,iVBORw0KGgoAAAANSUhEUgAAAPgAAAAmCAMAAADeO6ZmAAAAOVBMVEX///8oKCgUFBQNDQ0QEBCI\n",
       "iIhmZma6urrMzMxUVFQiIiJERETc3Nzu7u6qqqp2dnaYmJgyMjIAAAArQGDrAAAAAXRSTlMAQObY\n",
       "ZgAAA9hJREFUaN7VWemWpCoMZmYI+6bv/7A3ARWk7JLpZu4p+dGnLZPAl53I2MNWSj9i95o9c8Gy\n",
       "AQDQTkKEEbAgiMxxj3/l8kjcMh8esUS0vQFmRmBEZCOdrUV1T7S552rDgvjj6pl090wuMEH6sbY8\n",
       "L+l5wPVuLd8AudUWY5xcfd3Cwm1e86Cl1tbAKwwHCPoGMqtefY9Ziz5pQY3yZU8HXjkfZnJXDR58\n",
       "yVUwBMHq/c+mQHgWcLFU3w3MInA3lqeEJpZKm/izgHOobQgAVufRZobIRZMf3CrR7LN6ov/B09UU\n",
       "dyEVYhsQw+H5Hx7yaf1uEUTMnox8+sXt1dDZTw9x801Gg65sT/ksJ8bd0NX0H7rMdy0jMcLPURIo\n",
       "4FP0tJz5cNxsFRM7IbLyammZ+PHA51Vfn2ubzm5g3RSR8sdnyjEYIV4f9t0lbGmWGFCiJCL/vWtq\n",
       "sFEb3ZjipxkyB2NC1EG/VLOJ5XbNeqXohr+R6kMUAhm8stT9L3EacJfhGvKbvqEucbmdu1n3IC9o\n",
       "S76IqYAfLqg2OE/HSi5DDvOAkyLRqcnsPHwNfFKidAtTm2N5AXo5Un/EMgBa7UWBaIwvoZF/UaG8\n",
       "c9fAT+y1tmxirjaUsd4+TfpLVz/FuL5JbsVW1umSlLxRzaUNrz7Y4hi5D3DwheJNk5t8esmIDfCD\n",
       "Xdt9pUbMecNC8yfTlBMY6A87L6vvSgx7UyTQmOrwetWOaZyX+AIs2qjeDcM74OpqynOIudoQQjNv\n",
       "4HCZkCbW8aZEUlydhnHtyEPgxpjAlSnWA+aCUm+Ad+ydmIsNvd1tS2LXvjLyeYMTuQtP2+ySDmqT\n",
       "91Uz2XBby4jENOyr+wsPtfZeAN/Y9RF5qRFz3pBofv/aaC6zOrPzBsOpF84dHlYmurF4DATMFxSU\n",
       "+QmPo1BTFOyHKpzI/8fLOl7Zu5Z7E5OFHhsepSy7vLio4yzOGx+8iJIaAlCFVuiDXieJHZQvT/ll\n",
       "Ubo96orHTGpPeds2t/+d/WWPLCYLPTbcS9mGPMbX1ivMG5W9S/qhf/LZK8u5SoxfFuLb5qeK6ba4\n",
       "y11+Wuv2TtI5X9OTjiOfX26BVzFdSRiQPSu7hfXri0l6eZIpDtSTW+BVTLfFfV92nhFighEw+G2g\n",
       "oxX/4PuZYP9u+bZplZgX2TI2jepp+afPXPoF1VKek8OIoatBTwsPmy6zWv8RxmVb+4UXdrT8eV8N\n",
       "02Fybo8W715dZ1p44hfyvYiW61VYx1LDidZx90DgdJureQ4vf8ENAG9pvQnsicsZd5g+Gc3ioJsc\n",
       "tDaxZy63mVwDKKdhZLjZ0vqd4T/JvS3E70nWzQAAAABJRU5ErkJggg==\n",
       "\" style=\"display:inline;vertical-align:middle;\" /></a><br>"
      ],
      "text/plain": [
       "div_eq: forall_{a, x, y in Complex | x = y, a != 0} ((x / a) = (y / a))"
      ]
     },
     "execution_count": 13,
     "metadata": {},
     "output_type": "execute_result"
    }
   ],
   "source": [
    "div_eq = Forall((a, x, y), Equals(frac(x, a), frac(y, a)), \n",
    "                conditions=[Equals(x, y), NotEquals(a, zero)], domain=Complex)"
   ]
  },
  {
   "cell_type": "code",
   "execution_count": 14,
   "metadata": {},
   "outputs": [
    {
     "data": {
      "text/html": [
       "<strong id=\"div_neq\"><a class=\"ProveItLink\" href=\"proofs/div_neq/thm_proof.ipynb\">div_neq</a> (conjecture without proof):<br></strong> <a class=\"ProveItLink\" href=\"../__pv_it/theorems/93a0e2cf86a9c608cdfcf66c8568d153c3d52a5f0/theorem_expr.ipynb\"><img src=\"data:image/png;base64,iVBORw0KGgoAAAANSUhEUgAAAPgAAAAmCAMAAADeO6ZmAAAAPFBMVEX///8kJCQoKCgUFBQNDQ0Q\n",
       "EBCIiIhmZma6urrMzMxUVFQiIiJERETc3Nzu7u6qqqp2dnaYmJgyMjIAAAChkoCbAAAAAXRSTlMA\n",
       "QObYZgAABBNJREFUaN7VWYly3CAMpW0Q92X//79WgLGB9a6VNOmsmclOsCXB0w1m7GYjpX9i95rd\n",
       "c8CyAQDQTkIEClgQmcxxj79yuSVuWTaPWCLa3gAzFBgR2bLO1qq6O9rcc7VhQfxx9Uy6ayYXmMj6\n",
       "sbbOl3Q/4LpZy3dALrXFGM+uvm5h4TavudFQa2/gFcgBgr6BzGpW323GogctKCpf8XTgB+fNTO4O\n",
       "gwdfcxWQIFjdfjYFwr2Ai+Xw3cAsAne0PCV0ZjloE78XcA5HGwKA1flpMxP91LUAiC4/uFWi2b+r\n",
       "J/oPnk4Nare8cpesQmwDYtg9/81DPq3kqifHKWL2q5yeuFYNnX33EDdUg09IDLqyHfJZSYzN0Ifp\n",
       "33QYqmX0FBISI3x8FHLAp+jzcObNcbNVfM3gp51QtvJq8zDx7YETq6+9zoG+1LbqGdZ9y+7kRddM\n",
       "6awxBiPE882+OoQtZfz+yL+CoESZifzXjqnBRm10Z4pXbiYI5ajQJEQd9EM1S99lcARe9JqjGz5T\n",
       "xH2IQiCDVzZ3/0skAXeEs0GlMdlv5oa6xuW2727M4fuwyhltzRcxVfDkgmqD83lbyRXIgQbcEjy9\n",
       "0PjSqfDwHPgrCaSQrcCx0Wl68gL0svtKxDIArTjIcnVhfA2N8kSF+s6dAx/YmYyjmLMFK009fZr0\n",
       "SVcvMf6L10jXF8ktblraeh1vVHdow6MPtjhGtgscfKF41+Qmnx7U2wHf2XUpGx/4lzox44I9Td2B\n",
       "gXmzlKy+kAzelBhaUyTQmGr3etVf0zgv8QVYtNFxNgyvgA/sDMIo5mzBjaZanMNpQrooKrRav4dN\n",
       "U2aOq+Eyrr/yELgwJnBlinGwB3RBqRfAB3ZvJzEnCzaaGuPrXBk5ITkSzxuyCU/b3WXeqE3eH5op\n",
       "httaRiTOl33H+sLDXJ/tqNjCrjHm/vzOkZc6MeOCA81pVmf2uuIGYnOXZuHc4WZlym2fx0DAfJGD\n",
       "ssxwOwo1lYN9V4UT5f94WscP9rGUNTFF6L7gQAPipI6zyL/L4I+ipIYAuUIr9EGvk8QOytdZeVmV\n",
       "bve64jGT2uFMYLvTf2MfS1kTU4TuC440EOOj7cLlVVmgtt2vkn6YZ754Zd1XjfHTMnq1o05M+Nyu\n",
       "L3tWssFfSRrzdZ7pSPn8cg684zvETCWBIPsqu0lqo70+L3rpYSZTJHjSKfDU2fYQk57SPNvTEJmY\n",
       "YAQQvw1MtOIHvp8J9nPD902rxLzIFtpt1EzL3/3OZR5wWMrz7DCCdCkz08LNbpfZUf8Rxmlb+8QL\n",
       "J1p+v6+GaTc5t3uLd62ukRbu+IW8FdF6vAorLTUMtI67GwLPp7kjz+HhLzgC8J7Wm8DuOJxxu+mT\n",
       "0SwS3WSntYndc7jN5BpAOQ2UnqWn9Y3hLzX0NB+ekDalAAAAAElFTkSuQmCC\n",
       "\" style=\"display:inline;vertical-align:middle;\" /></a><br>"
      ],
      "text/plain": [
       "div_neq: forall_{a, x, y in Complex | x != y, a != 0} ((x / a) != (y / a))"
      ]
     },
     "execution_count": 14,
     "metadata": {},
     "output_type": "execute_result"
    }
   ],
   "source": [
    "div_neq = Forall((a, x, y), NotEquals(frac(x, a), frac(y, a)), \n",
    "                 conditions=[NotEquals(x, y), NotEquals(a, zero)], domain=Complex)"
   ]
  },
  {
   "cell_type": "code",
   "execution_count": 15,
   "metadata": {},
   "outputs": [
    {
     "data": {
      "text/html": [
       "<strong id=\"div_pos_less\"><a class=\"ProveItLink\" href=\"proofs/div_pos_less/thm_proof.ipynb\">div_pos_less</a> (conjecture without proof):<br></strong> <a class=\"ProveItLink\" href=\"../__pv_it/theorems/c7ec5eb4b37899db9db558d766ef0bc92f65bd2e0/theorem_expr.ipynb\"><img src=\"data:image/png;base64,iVBORw0KGgoAAAANSUhEUgAAAPgAAAAmBAMAAAAby0tnAAAAMFBMVEX///8QEBCIiIhmZma6urrM\n",
       "zMxUVFQiIiJERETc3Nzu7u6qqqp2dnaYmJgyMjIAAAAcRTyBAAAAAXRSTlMAQObYZgAABEBJREFU\n",
       "WMO1WG9oHEUUf7u3e/vn9u6C4Ic0FJZEz1D7j4ZWK028Wqggtrn6ofbbhWC1BRtKaUSkH4LScGmJ\n",
       "nlDSUpGsqaQYK3coCv1il4iIZyknCIVSZSn1S2nhsA2YqOibmdvr7u1cc8LNwN2beW9vfjtv3vvN\n",
       "mwMQ1JLVR5rNERDYNuJnLnNmvR2B7bPhQwf2CsRW1iCMmzymec0WS+mCTQCywKV/kkMYx1pRis2W\n",
       "j2IeFFDeEwf+OnEw6BNRiyPZ8AdKdL2gpi5TkbY5tmFHXUIRF+b3FJs5n+PYhkDuIu+3Igp8lmx1\n",
       "wtkEctS5k6DTV7slCnyI+rf8AXwctW2DYcoBP4sCf4x8zffODXKoZr73eZoCs1mgefhrh7GNpdX9\n",
       "ApILPxF5p9PcWmtti3vmg3oHzpEXnegweOwoT/stjX2tqrMElGuQwnC0yh0G13irub6dEW/vVjZO\n",
       "LEOysrBwttPxlt4c1T1VaSaivwD+LBROdBw8epb9EFX9A3AQYKqNU2r1R+RF1++WmjPMfIaTc8jw\n",
       "u8D0Ws2XODY5xN5YDxteCiUWI9Gb8E2D4JqhxnhR9TcGB8j8ouPz7wbBdq05DviB0KFgHqKkcRzS\n",
       "PpfmKda/tNEnAuBUSVPxPoZ6VePn6unzDoInv4iCzzTtkzGJ6OYSSOUQePAJntsR3PD2Y+dC5ncy\n",
       "XtyaQR8qGdCcXWSM4JcC4FbfKxgiF05i94UReIesacsY/kB9zyGnqFZt5XZuwKHbYeo17IzTE052\n",
       "xrQsYqSdfYx3bTc2EABfF/eOw6XbpOuuqORgvJjLE18rt8gRqfkAJbuNVDMw2uErpKPYZpWQksqK\n",
       "m/MvQr9JU9Xe9kY2AJ5LVUFdS3/56VGZMMkAvMo2qRtXLvmYabc1yYTynCalVK4XdKwC2QGj6tuF\n",
       "wrtg/7ghCA5p3NxrVBNz4wSqBzKMOm3c83S2Pq800ppeH2Yvofgk+q1U1G8Q96k1lQXu4zDC3P51\n",
       "JQiehxyYz5JJtKyEwlyG6QUc7a2Eol332jl9/FJGKub3wDln1vIsFDCu1OB7Bm4FAs6oXQN0qEFS\n",
       "S8sNg3EKutUHGFwHnkNr38M8t7raAG88pIx+OQj7yvO/LFZQwO5+D3RMl8SJu+aA1wA3j7y83qmn\n",
       "ljL6Pqg9sPvpvirMHKYMd7XB6Il26rNUeG/q2Vk2izoupx/3vNHCJKNOwWcwjSBsdJJH26u2MAcn\n",
       "inURdyOXGb1Z8aaCHrncauLJNsCvhO4TSV8oN91Vwfdcxa+Wl0FWHBo7tqzh1Fh17VD7tcn/O1NL\n",
       "dAd3FlOcesrX9oiqXmUSpeZaiEVLGl8rd4kCR55AbwUIN+DDulaqCgP/jUw/AaXofcnXbhR3SyUV\n",
       "asmFK5xwYFqjWxy4OU6jbixR5MQi0V4siwOHs0VcffIti+MTqp0W+Z8MFnbm6JMzT0R9QrUmOQD/\n",
       "A11TGdbjPFpuAAAAAElFTkSuQmCC\n",
       "\" style=\"display:inline;vertical-align:middle;\" /></a><br>"
      ],
      "text/plain": [
       "div_pos_less: forall_{a, x, y in Real | x < y, a > 0} ((x / a) < (y / a))"
      ]
     },
     "execution_count": 15,
     "metadata": {},
     "output_type": "execute_result"
    }
   ],
   "source": [
    "div_pos_less = Forall((a, x, y), Less(frac(x, a), frac(y, a)), \n",
    "                      conditions=[Less(x, y), greater(a, zero)], domain=Real)"
   ]
  },
  {
   "cell_type": "code",
   "execution_count": 16,
   "metadata": {},
   "outputs": [
    {
     "data": {
      "text/html": [
       "<strong id=\"div_neg_less\"><a class=\"ProveItLink\" href=\"proofs/div_neg_less/thm_proof.ipynb\">div_neg_less</a> (conjecture without proof):<br></strong> <a class=\"ProveItLink\" href=\"../__pv_it/theorems/f1dab58d1ad7bc799594637b10fccf403edd49c90/theorem_expr.ipynb\"><img src=\"data:image/png;base64,iVBORw0KGgoAAAANSUhEUgAAAPgAAAAmBAMAAAAby0tnAAAAMFBMVEX///8QEBCIiIhmZma6urrM\n",
       "zMxUVFQiIiJERETc3Nzu7u6qqqp2dnaYmJgyMjIAAAAcRTyBAAAAAXRSTlMAQObYZgAABCxJREFU\n",
       "WMO1WF1oHFUU/mZ2ZudnZ3eD4EMbCkOiS7C1LQ0tPjRxtVChWLP1QX3bEKz6oKHERETyEATDRomO\n",
       "IG2pSMZUUoyRXRQFnzpE+mAsZQs+lSqDaClFYdEGTFT03PnZzM7MuivsXNi9d787c7+5557znTML\n",
       "JNSy9f+cVseRYNtPn+XCe/v0CO2gjndNPJEgt7CbaKzslGSHZzShDwcAPsGtf1giGlPbFozwzPsp\n",
       "GxXqf02O/DlmYMhz0RmT0/Eb9WT6hJq45XR5PWZuzBQ3qUsnZvecu3K5FDM3Cr6PPd92UuRL7Kgz\n",
       "5gHwUePOQ3Ye7cekyEcd+9bewQfRuSMYczTgelLk97CvlYHlkRipWRl42AmBpSKcOPy+x9zKZme7\n",
       "gLPwLevv9FpbG+3n0rZ61xvgPHvQuR6Tp86EJDWgKFJddgOQbyBH7qjVekwuhXezNrUjvAOH3UFm\n",
       "C9mN1dVzvfa3/MEwws9GYk78E/ijUpntOXlU2bIvh9nVv4HTwEIXWarzJfy65Q+rMRGWuRXOMaTw\n",
       "x6Da7dbLTM2PupuQWydORC49gZv4silwcZWEcCu097/IOcDHFx2ffD0C3dKWY8ifiSQFQqaR91cv\n",
       "Ox78j9N2yG+bTdQJxd/J1etSfKy+dcEk8uynUfKzkXMiRN0EV2sh72R2Ilfsp2hwsfAz+71+uECJ\n",
       "SChAMo+x30S+FiDXBp8kF7n4Bg0fHcdrzGsOTZZchLKoVG9v9hiHI7Nj4VkazDgZjjcnpSJx5M1T\n",
       "ru7qVmo4QP5A2p7G2k9saG2LLDFeKpVNF6EFJN/Jq3oXoaaQt+NzkqPUQZGJkugWNxcew5DqhKp+\n",
       "5PligLyUq0Pc49z50RmeKckwnvYQ2jnnc+at9iLTEudOUHI1r6BzK5CjmBBfrVReh/7Ng0Fy5Onc\n",
       "rjlIykozqn4UPITOPF/01uXG28vrjgMyic+SQaqGfIPZRWyIDJ/GvRh3zf7FRpC8jBLUh1h9IhU5\n",
       "6tQtLK56SMDbZbub7OOXMpxRPonz5pJma9RhRmjgikuuBRxOaVwDGVR5gfYvlcagvIld4t26hwzu\n",
       "xLnW1wV58yJh4rMRnKqtfLe+QR2OD9mQKVwys7+ow3aTXH3p8X1sc8q8QXe8DbEfx/cO1j2Ev9pU\n",
       "9Ew39Vmu9Wy86KyphkwrDtGZN1uryIgL+BiLRBJEQrLdsbVqcMbwurQVeZmRw8CLAlnkq3YLz3dB\n",
       "frlFdLJ+J9y0OpKfvEpfbV8G3eJQOXpod0yN5aGj3dcm/y+nVp0TfMTIxdRTPtqfVPXKMy9V9yAV\n",
       "LdB8lO9Lipx0gqwVENyADT2UqydG/gNbfg7V6PuSj+5P7i2VVahVC5dj3MFFlV3JkaszjtdNZowY\n",
       "X2TopVpy5Dhn0O6zr2gxNnHQxST/k1EoA03cf/a+qE0cVGUJ8F/+zRy3sTlmaQAAAABJRU5ErkJg\n",
       "gg==\n",
       "\" style=\"display:inline;vertical-align:middle;\" /></a><br>"
      ],
      "text/plain": [
       "div_neg_less: forall_{a, x, y in Real | x < y, a < 0} ((x / a) > (y / a))"
      ]
     },
     "execution_count": 16,
     "metadata": {},
     "output_type": "execute_result"
    }
   ],
   "source": [
    "div_neg_less = Forall((a, x, y), greater(frac(x, a), frac(y, a)), \n",
    "                      conditions=[Less(x, y), Less(a, zero)], domain=Real)"
   ]
  },
  {
   "cell_type": "code",
   "execution_count": 17,
   "metadata": {},
   "outputs": [
    {
     "data": {
      "text/html": [
       "<strong id=\"div_pos_lesseq\"><a class=\"ProveItLink\" href=\"proofs/div_pos_lesseq/thm_proof.ipynb\">div_pos_lesseq</a> (conjecture without proof):<br></strong> <a class=\"ProveItLink\" href=\"../__pv_it/theorems/2a693a5c4b54d5a888289f7bd483da3d2c30cd590/theorem_expr.ipynb\"><img src=\"data:image/png;base64,iVBORw0KGgoAAAANSUhEUgAAAPgAAAAmBAMAAAAby0tnAAAAMFBMVEX///8QEBCIiIhmZma6urrM\n",
       "zMxUVFQiIiJERETc3Nzu7u6qqqp2dnaYmJgyMjIAAAAcRTyBAAAAAXRSTlMAQObYZgAABE9JREFU\n",
       "WMO1WF1oHFUUPjM7s/O72SD4kAZhSHQbak1LQytKE6OF+mKbrQ/atw3B+AMaSmlUtA/Bn7CtpK4g\n",
       "aalIxigpRmUXxYI+2CFSWrelrFAoSC1DQQRRWLQBExU9996ddXfuXbPC3gPJvXvu7P3uPT/fObMA\n",
       "kiRV+c9lexwkyiD+LWbe3upxsP0evOXDfonY2iaECVKHjTC+4mrdsA1AlXj197II47vrWiG+8k4i\n",
       "hDyOv8gDf5IYGMwZfsVXPPgVRzS9JNHX6JD2BGtjvr6KQ1Ka3bvYzrmsYG0E1G5yvnVZ4AvE1Y6/\n",
       "DVTeuLNg0qPdlAU+Qu1behPe5dd2wRjlgG9lgd9G/i31LQ4LqGap7wGaAgujQPPw+w5jW6sb2wWU\n",
       "AC6R8adOc2tVpN1Mwy8Z2reATeAUOehMh8EThwRsfoHlnVEx2UStQheGo1vqMLjB38a6t+Z+rW8n\n",
       "mzhrkCovL5/sdLylt3PYU9wF9T8Afs/nj3YcPM5s+olR3g9/AUwCHGujSm38iLoSRNNiPMPyIqpD\n",
       "ht8DdthqP+fw7Ai7hNmsb/KpxXa+DmfrBBcH37xFsPufGBygipuOj74eBi9wF3lwp5kZ7acpaRyB\n",
       "dMSlOergv6kwzbVy9DRV0lT8DUO9Yohz9Y3TPoKnPuHAU/FSbM0iur0KSqkJvEm+uo9TIbgVPoaT\n",
       "9zM/kM8rOzNoQy0Dhr+HfEbwjxvA3f5HJ0Gl2A+Nw0vk1jum8Av6qz6pokalldlR9k/GAw7NDsee\n",
       "wMk0rXCqP2VgWLpp/wDjXS9IDDWAb0mGR7SX6TRY10lhPJPNEVtrN0mJNKIgL4rq+MHXYvbCaIfP\n",
       "kI4S23VCSjprbk4/DAM2TVVv11OjDeDZrgrYF4nG+uCQSqJuCB5nrujBmysRZjoQOXI+y+U5TUql\n",
       "VGvoWAeyGyb0F/P5V8D75p5GcEgT514kHk0ESQLVCxnmUg99no6SWWmnS9EIxafQbsWC+R0xn17V\n",
       "WeDeDuPM7J+XG8FzQE4/iOjGqIJTew3mlolDy03RbobtVJ+olVEKuX1wyl9wQxcHmNaqcJ6Buw0B\n",
       "Z1WvADXojQoY2TGwjkOPfguD6+D9qOz/N8/d7jbA6w9pE58Ow4HS0tWVMg6wdyAEE6/nHP3ZHgrr\n",
       "4PZzj2xll/sSv3EC9F7Ye3d/BeafoQx3uc7oTqw/s398gUhW1OdFUsvOkl0w8ToD6PO6mPFzfwhz\n",
       "CMIi53URbW8ozRzsFGpDMuBeZjjwZzW0yBetNp5tA/xc0/tEKhq060FrcCePchz2XcZ5y5dB1hxa\n",
       "u3dsEvRYNe1I+73J/6upRerBBwtdgn4q0vbK6l5VEqX2HZDgW5pIq3bLAkeeQGs1EG6DDWtapSIN\n",
       "/AbZfgaKfBMRaQflvaWSDrUYwDlBODCt1SMP3J6mUTflFASxSLRnSvLA4WQBb5963hXYhGrnZP4m\n",
       "g42dPXHX/J28TajWJgXwHxt9HtEdA+PpAAAAAElFTkSuQmCC\n",
       "\" style=\"display:inline;vertical-align:middle;\" /></a><br>"
      ],
      "text/plain": [
       "div_pos_lesseq: forall_{a, x, y in Real | x <= y, a > 0} ((x / a) <= (y / a))"
      ]
     },
     "execution_count": 17,
     "metadata": {},
     "output_type": "execute_result"
    }
   ],
   "source": [
    "div_pos_lesseq = Forall((a, x, y), LessEq(frac(x, a), frac(y, a)), \n",
    "                        conditions=[LessEq(x, y), greater(a, zero)], domain=Real)"
   ]
  },
  {
   "cell_type": "code",
   "execution_count": 18,
   "metadata": {},
   "outputs": [
    {
     "data": {
      "text/html": [
       "<strong id=\"div_neg_lesseq\"><a class=\"ProveItLink\" href=\"proofs/div_neg_lesseq/thm_proof.ipynb\">div_neg_lesseq</a> (conjecture without proof):<br></strong> <a class=\"ProveItLink\" href=\"../__pv_it/theorems/b8298271ff8479d24824cd223daa6f99915e2ba50/theorem_expr.ipynb\"><img src=\"data:image/png;base64,iVBORw0KGgoAAAANSUhEUgAAAPgAAAAmBAMAAAAby0tnAAAAMFBMVEX///8QEBCIiIhmZma6urrM\n",
       "zMxUVFQiIiJERETc3Nzu7u6qqqp2dnaYmJgyMjIAAAAcRTyBAAAAAXRSTlMAQObYZgAABFBJREFU\n",
       "WMO1WF1oHFUU/nZ2ZudnZ7NB8KENhSXRJWhNS0OrD02MFiqINVsf1LcNwaoPGkqaqGiEIBo2leiK\n",
       "kpaKZEwlxRjZRbGgLx0iQo2lrOCT1DKIVvAHFm3ApIqee2dmszt31qywc2H33j13Zr57z/3Od84s\n",
       "EFFLVf5z2hhBhK2PPovZt3ZnBNieDN6w8GCE2PJOgrFT46oTnDHlTuwBpAi3/m6OYCxzUy4GZ96O\n",
       "OyhQ/1t04I8zB0ObFmesWAa/U0+uj6gpG7xLZ0Lmhi1lnbpEZH7vcJ+cz4XMDULqZOvbjAp8gR11\n",
       "0toDSXTuDDS+tO+jAh/k/i2/jnfEuQMY5hrwdVTgN7Gvpe7FgRCpWeq+m4fAwhB4HH7XZmx9fXu/\n",
       "IGbjK9b/3G5trQZU7cTW0Scc47o3wGm20Ok2g8ePBwzJazWxUSuaG4BSFR20JrPcZnBV2I18zY86\n",
       "uXu/t6ANpNaWl0+1m2/pvaLsFIaClhvAn4XCVNvBQ5RNHwv41/gbOAbMtpCltr9EWrX9YSksmet3\n",
       "BpIMKfwhGE6z5yXHZwbdTWiNdpGh9+MKztcELgw8dSJg+IvIASm86Pjg8wFkbHNRBE+KyvjoCCaQ\n",
       "9gMqzz38D281x0y5s9zIQ/EPonpFDY/VV89YBJ76UABPial4fhbGOmLlBvCGtjIumAhcdx6mwdns\n",
       "j+z36v4shYSchWodYr8JfKUO3Ox56Bgkjn3vCJ5nrNk3RjecfYVnUbXS1O1vviiWceR2zD5Gg0me\n",
       "4SRrTKWIMNPWUVd3M3a8vw78toQzIb/Ah/amwhLjuVzewsoPbopUfZKXgmyf/yWEgMR2fExyFN+r\n",
       "MFFS3OLmzH3oNXioZg48MVQHnuuowLjILPp7xyXGun48AmWXVz/EfMy0Hdjky2EFxw0vKGNlr6Bz\n",
       "K5CDGFWeKxReQubLO+rBkaZoMS6yE43bCQbVhSxwmV1DZ572dSTWSpUiM4lPEQtLRe1bRkalqjD7\n",
       "BG7GiOv2T9bqwfNgKtlH6OpQjIbGBuaWYdyV4zfV2K45rWQfv5SJFfNHcNpaMB2TOkzKVXzhgpt1\n",
       "hNOrl8EderUCNTcM/SR2KNeJXPqT5JGerTg3O1sAr10kj340gKPlpW9W16jD4V4HGm0vOfWr0e/U\n",
       "wI2nH9jtbu4zuuM1KF04fHsPY7Y+U4R0qaboyUB9Zvz0LGu5sDrPb150lo2iRk/spTOvNS247vcx\n",
       "RyBb7JkNyva2rVGDk0WvS9jCy4wA/pRMHvm02YNnWgC/0CD1Kb+Tr9jNwZMFaidx5BKNm74MusWh\n",
       "fnDfzpD49qyDrdcm/y+nlvgJ3lPsqIpzvrUrqupVYiw1diEupj/fKnVGBU46Qd6qE9w6H3rWWCUy\n",
       "8Kvs8dMoie9LvrUvurdUVqGWbFwIoYNr1XdEB25MctaNJYshXGTWc+XowHGqSLtPPWOG+IRb56L8\n",
       "T0bPwRi9df4W0SfcarAE+C+imiEqA/WHKwAAAABJRU5ErkJggg==\n",
       "\" style=\"display:inline;vertical-align:middle;\" /></a><br>"
      ],
      "text/plain": [
       "div_neg_lesseq: forall_{a, x, y in Real | x <= y, a < 0} ((x / a) >= (y / a))"
      ]
     },
     "execution_count": 18,
     "metadata": {},
     "output_type": "execute_result"
    }
   ],
   "source": [
    "div_neg_lesseq = Forall((a, x, y), greater_eq(frac(x, a), frac(y, a)), \n",
    "                      conditions=[LessEq(x, y), Less(a, zero)], domain=Real)"
   ]
  },
  {
   "cell_type": "code",
   "execution_count": 19,
   "metadata": {},
   "outputs": [
    {
     "data": {
      "text/plain": [
       "'\\ndistribute_fraction_through_sum = Forall([x_multi, y], \\n                                      Equals(frac(Add(x_etc), y),\\n                                             Add(Etcetera(frac(x_multi, y)))), \\n                                      domain=Complex, conditions=[NotEquals(y, zero)])\\n'"
      ]
     },
     "execution_count": 19,
     "metadata": {},
     "output_type": "execute_result"
    }
   ],
   "source": [
    "\"\"\"\n",
    "distribute_fraction_through_sum = Forall([x_multi, y], \n",
    "                                      Equals(frac(Add(x_etc), y),\n",
    "                                             Add(Etcetera(frac(x_multi, y)))), \n",
    "                                      domain=Complex, conditions=[NotEquals(y, zero)])\n",
    "\"\"\""
   ]
  },
  {
   "cell_type": "code",
   "execution_count": 20,
   "metadata": {},
   "outputs": [
    {
     "data": {
      "text/plain": [
       "'\\ndistribute_fraction_through_subtract = Forall([x, y, z], \\n                                          Equals(frac(Sub(x, y), z),\\n                                                 Sub(frac(x, z), frac(y, z))), \\n                                          domain=Complex, conditions=[NotEquals(z, zero)])\\n'"
      ]
     },
     "execution_count": 20,
     "metadata": {},
     "output_type": "execute_result"
    }
   ],
   "source": [
    "\"\"\"\n",
    "distribute_fraction_through_subtract = Forall([x, y, z], \n",
    "                                          Equals(frac(Sub(x, y), z),\n",
    "                                                 Sub(frac(x, z), frac(y, z))), \n",
    "                                          domain=Complex, conditions=[NotEquals(z, zero)])\n",
    "\"\"\""
   ]
  },
  {
   "cell_type": "code",
   "execution_count": 21,
   "metadata": {},
   "outputs": [
    {
     "data": {
      "text/plain": [
       "'\\ndistribute_fraction_through_summation = Forall([P, S],\\n                                    Implies(Forall(y_multi, InSet(Py_etc, Complex), domain=S),\\n                                            Forall(z,\\n                                                   Equals(frac(Sum(y_multi, Py_etc, domain=S), z),\\n                                                          Sum(y_multi, frac(Py_etc, z), domain=S)),\\n                                                  domain=Complex)))\\n'"
      ]
     },
     "execution_count": 21,
     "metadata": {},
     "output_type": "execute_result"
    }
   ],
   "source": [
    "\"\"\"\n",
    "distribute_fraction_through_summation = Forall([P, S],\n",
    "                                    Implies(Forall(y_multi, InSet(Py_etc, Complex), domain=S),\n",
    "                                            Forall(z,\n",
    "                                                   Equals(frac(Sum(y_multi, Py_etc, domain=S), z),\n",
    "                                                          Sum(y_multi, frac(Py_etc, z), domain=S)),\n",
    "                                                  domain=Complex)))\n",
    "\"\"\""
   ]
  },
  {
   "cell_type": "code",
   "execution_count": 22,
   "metadata": {},
   "outputs": [
    {
     "data": {
      "text/plain": [
       "'\\nfrac_in_prod = Forall([w_multi, x, y, z_multi], Equals(Mult(w_etc, frac(x, y), z_etc),\\n                                                   frac(Mult(w_etc, x, z_etc), y)), domain=Complex)\\n'"
      ]
     },
     "execution_count": 22,
     "metadata": {},
     "output_type": "execute_result"
    }
   ],
   "source": [
    "\"\"\"\n",
    "frac_in_prod = Forall([w_multi, x, y, z_multi], Equals(Mult(w_etc, frac(x, y), z_etc),\n",
    "                                                   frac(Mult(w_etc, x, z_etc), y)), domain=Complex)\n",
    "\"\"\""
   ]
  },
  {
   "cell_type": "code",
   "execution_count": 23,
   "metadata": {},
   "outputs": [
    {
     "data": {
      "text/html": [
       "<strong id=\"prod_of_fracs\"><a class=\"ProveItLink\" href=\"proofs/prod_of_fracs/thm_proof.ipynb\">prod_of_fracs</a> (conjecture without proof):<br></strong> <a class=\"ProveItLink\" href=\"../__pv_it/theorems/c2d56ec29a5e5b13e17f1df3d7184b0322c819a20/theorem_expr.ipynb\"><img src=\"data:image/png;base64,iVBORw0KGgoAAAANSUhEUgAAAQ4AAAAmBAMAAADHF2h5AAAAMFBMVEX///8QEBCIiIhmZma6urrM\n",
       "zMxUVFQiIiJERETc3Nzu7u6qqqp2dnaYmJgyMjIAAAAcRTyBAAAAAXRSTlMAQObYZgAABGdJREFU\n",
       "WMOtmFloE0EYgP9ud5vsZpMUQfF4iRWKD1KlRX3RGhXrm6bg9SIN4vEmKioKKsWHEusVwQsPslap\n",
       "WoRGxIeK0thHRVjFBxWPRcQHUQkeYOtR59ikM+kkMxF/yO5m55vJPzP/NQH4J3lFrmG3LGAllceq\n",
       "Ai0VzSO3JvTpaTw5K8aOOiMGJxyAFeKeLC5BFWSxg6/6VDRWLrwj4DFNtl4Ps7GqwllyeGVUZSUn\n",
       "ktulBBrLsUf0NNN2vtaDFH74JOpZxB0pqiB1dAKbsUoQ7OTanJoYfMEPJxzRDHzc+iNFFaSDLIAx\n",
       "TL5EY3zjSsf4zihbKj6+WwGVyntyjdDeHQm+sRW0eqLmiHgOCWVUJiZdiAxelZAzGzRuWbsgSBV8\n",
       "K+jK4xVRudR6/mzw0maPw0WudR6spGHlsaArj1dE5VJDt3gCvvQ29Czko1lvwyLqP5n4+K48zqLe\n",
       "WHhUlQzZYvN7ufZWX92cfKgx9CG+f6hKjzc0qOfFPu1Z3wpPMvdn0bN4ap1V6TGfWsk2YWPADfqO\n",
       "rOUl43BoBFmvna1Kjz10FLHyesPcgm8MS8bh0PCDvr4z1dnpVxqQ5kgw46fyiBj9kUrtq06PL8I4\n",
       "Oj6G/1ZPWAjdBHCouixHx+931fS1PxOZI0OXguXJfzx0ZMuGQjilemTc0hRWKr/U54bQAGiVZ2bd\n",
       "bXGtdY7xkd/3DmLco0TI+uDZROn30fyYHbEyKpACaruByro+G+iD8AWAuyI9GC9Miu1Z1fRNbw16\n",
       "GJrbiKKk3ggB5Mfmges4ZC5Jmt5VR8c7u+w2elt5X8av4y/WPpJS9NBGFEicrQGUDuyo045D1L0h\n",
       "3Job0Toj8Qh+fPGc6UTtr1/mL6a6vxD0FgqMBq3Nzi2HmeSn8JqbV7bVxbT0ZfzizsA4+4vm/m/8\n",
       "8AMBDX4LgHjFFRq5czVxG9amUqnY+dVMr0k0N8mKKP2bsh4EDeO6xMgb+MVOwCWwmTDwu0C839Gg\n",
       "jqjUwzjmMXINyrw9rF5lFdGM7dlw1oFdet7shtMPnwG6RRKD8BxsbLLmggQMFXrdp/ZXLxlcCgjQ\n",
       "3qdDD6A9C20zPWMauO3dgG5G871mZCiHMXDjc1exsBwkhV1INt2IevVbgmatdNCFkB9Bi4c3ZB8c\n",
       "RiO6NH3IA38ZNJSuy6Eznu8aA2V7+cVtl2TwwbSyHjwaBv0lckZft/KzCdczxa2+Pb6ePb82Q8gL\n",
       "TWVqPt4xGFqCKiRcGhj6SWC/9qSFLYhyN9FyUY+dJujK0hJUQZqYQ79DKstiYMy2QtQlhYQmchef\n",
       "thRQlYMDdR162ja6ueQ/AZ86cUqqEW4spXFulqIKYYeGsNfk2sYbwDBMR0teXLRSaRvLzTJUQQ5S\n",
       "v8HuHEqWnvW6wEQp05wiLKeSyqiKXCUbY+3CWRIgyfv0PtAwIjwDsLQEVcrTe8ntTBqM/Y+a4tw/\n",
       "VvpkWIUejgqtg6Uro2pyiqqTgFp4/I5raWnonYXMzooLT+gczaJ/AY0ycokJ63ikAAAAAElFTkSu\n",
       "QmCC\n",
       "\" style=\"display:inline;vertical-align:middle;\" /></a><br>"
      ],
      "text/plain": [
       "prod_of_fracs: forall_{x, y, z, w in Complex} (((x / z) * (y / w)) = ((x * y) / (z * w)))"
      ]
     },
     "execution_count": 23,
     "metadata": {},
     "output_type": "execute_result"
    }
   ],
   "source": [
    "prod_of_fracs = Forall([x, y, z, w], Equals(Mult(frac(x, z), frac(y, w)),\n",
    "                                           frac(Mult(x, y), Mult(z, w))), domain=Complex)"
   ]
  },
  {
   "cell_type": "code",
   "execution_count": 24,
   "metadata": {},
   "outputs": [
    {
     "data": {
      "text/html": [
       "<strong id=\"prod_of_fracs_left_numer_one\"><a class=\"ProveItLink\" href=\"proofs/prod_of_fracs_left_numer_one/thm_proof.ipynb\">prod_of_fracs_left_numer_one</a> (conjecture without proof):<br></strong> <a class=\"ProveItLink\" href=\"../__pv_it/theorems/d4bf0a7c1b5e2f345e99136d4bf64651622313390/theorem_expr.ipynb\"><img src=\"data:image/png;base64,iVBORw0KGgoAAAANSUhEUgAAAP8AAAAyBAMAAABhUBCTAAAAMFBMVEX///8QEBCIiIhmZma6urrM\n",
       "zMxUVFQiIiJERETc3Nzu7u6qqqp2dnaYmJgyMjIAAAAcRTyBAAAAAXRSTlMAQObYZgAABKlJREFU\n",
       "WMOtWFGIG0UY/pvsZpNNchekleKDxAscRx+8oLaItddYocUXe31RUbRnaR8EqSfV0gdbzhNqWhFS\n",
       "pLTUB1fBIK1yKUURQQyn7cOJbVoKVbjWQItIQQnXHHgpbZ3Z3ezOv5nZ/XP0e/lmJx+Tf2f+/eaf\n",
       "AegPvwS4B1XyUFVYBjJ1zL3QmtSx6EoBwwGW4Bp5sGv9/386J3L6IZkmWaeORld6+LwkcPVcR6Yx\n",
       "V1JHoys9fIA4Kw0ATpOHO933CnQQKwIwyDNr9LsGRhExDsAcemPTrB3eknrSuxr3RZb6DODPCmIc\n",
       "wNdwJX/Abu1RDuBrIEIpxz7MOIA5uGA958RnqQbwNRChlEJvY8YBWFB2WzN51Qi+JkopRTyHOZiE\n",
       "Cy4PhFjcAnoa6M8MV0xgDgSgL7qNmDq3PE2kUobtDcw4gB9iLVhjt1J3VCP4GohQSjFawRwTA9Bu\n",
       "J1spN7IHVduPoAlXyvE+5vjrdzcIn/iONYWrbvtDlQ0IGk9pp8FVUgCrA6zEBfI7MeWvnG+S9o5b\n",
       "mEMMa5xsbeNwnOfCFMkGFjCHZCv582bKAWZGmRppK7qNWY2ZIjUApszOnTx5jCTOLmJWY3CCGgBX\n",
       "/lcuv0cSd10j2j0Gp8gBMOUugEO0grSDOcQyHYc9/y/H9Sjls2CGOPL35/Z2MyrewSxsMcFhJ8nu\n",
       "zpQGxBrSH0/9vAG+PAyvdcuWRAvxPQ7eNO/ak+k9syFzPVN9rweeMtMw5Dn30QkL/qhDWhGAj709\n",
       "lVOOXGMxZar5AmvNrh1m7qENg8En9NjNo2xp2PMrrLMStQS9w04KOfBXpPLQTpbZ1m6DldqZQWsb\n",
       "718/n7c9OvtNRUjCJcyRSUjJAa48w6LQ4R/+fGILjDjrDyY3k/QpIYDYIubowoFYYgzaae681tOw\n",
       "w7b7Euj7yuXp1LeCq2fbmEO+brIT2sosX3W9pfOOd2AVp6PwMthv8VTe/8rSbcwhBkuu9z3lZ5lm\n",
       "Bo5b8K7WYpR688cpOMv7PzkLma4P6Hcw36fNyD2rX56dg2012DzSZJTVV1uQ5DuUef7vXZ76VoCV\n",
       "+KlGDSCgrJmVJDMlt3OkPI3VBwKsLjMq5IIEKdOVRP15Tgr1xgAr8Ra5IsLKLGjzdU6q8sUS2Szk\n",
       "4Yi4DWhvl15V1mxfPAYp/zphy0q9QavucMbURM5oORgVf/7q0uPONpySlEz1ZyDmWbj5ceFJpZJ8\n",
       "MPk03sQHLcsu7+QFQ6o2BkkenmkH0C0C+zyYxFsiWyvygYOWfti9eundjU14wDG8GcelX7JUytBr\n",
       "rTbirVbgoLW5a28SG9A6sJ27qmHPnjahVoZhD+IxiKFtN93dAUYlh262Xo/4T9+FKEOrePQZHIQk\n",
       "2nTOgGPf0vMWkx70Qy1CYhknM5Z9dZHXwVaxlNL3//ZoSXnxEp/QfAd/cf7SjWVd0eBLqurQRtGy\n",
       "4nDxhnPoL0qPhQX/34rZh0tKZSiuYx6TX77JFzbepCpDcGTc50TTbNOvH3fDTOk+XFSmJ302Gknp\n",
       "R5SQzut+mCYqw7HOZ21orVTyu7R3U2GcqAxHIo9Z4jjkgnRZ1/XwRIB7UCUnlqP8H1QXcHy9Y0Nx\n",
       "AAAAAElFTkSuQmCC\n",
       "\" style=\"display:inline;vertical-align:middle;\" /></a><br>"
      ],
      "text/plain": [
       "prod_of_fracs_left_numer_one: forall_{x, y, z in Complex} (((1 / y) * (x / z)) = (x / (y * z)))"
      ]
     },
     "execution_count": 24,
     "metadata": {},
     "output_type": "execute_result"
    }
   ],
   "source": [
    "prod_of_fracs_left_numer_one = Forall([x, y, z], Equals(Mult(frac(one, y), frac(x, z)),\n",
    "                                                 frac(x, Mult(y, z))), domain=Complex)"
   ]
  },
  {
   "cell_type": "code",
   "execution_count": 25,
   "metadata": {},
   "outputs": [
    {
     "data": {
      "text/html": [
       "<strong id=\"prod_of_fracs_right_numer_one\"><a class=\"ProveItLink\" href=\"proofs/prod_of_fracs_right_numer_one/thm_proof.ipynb\">prod_of_fracs_right_numer_one</a> (conjecture without proof):<br></strong> <a class=\"ProveItLink\" href=\"../__pv_it/theorems/8b37b0e8c0cfd307a5ed41d66e3ce75803a92e580/theorem_expr.ipynb\"><img src=\"data:image/png;base64,iVBORw0KGgoAAAANSUhEUgAAAP8AAAAyBAMAAABhUBCTAAAAMFBMVEX///8QEBCIiIhmZma6urrM\n",
       "zMxUVFQiIiJERETc3Nzu7u6qqqp2dnaYmJgyMjIAAAAcRTyBAAAAAXRSTlMAQObYZgAABNNJREFU\n",
       "WMO1WG+IVFUUPzszb/68P7sSKiIRWwvL4od27B9RmZOB0pfKLxVF7bTkByHU0MQPKdMGNRrBRIiL\n",
       "X3oFLaHFjkh/CGKHNf2wlU4SZLC6A0qEUAz+gRzRuved+x7vvrl33nkDHZg578/vXs4795zfOfcC\n",
       "JBO7hPoHHWCGPNUM9CM/CTsaOkCmRZ2KjgxJqox6VA+5QJ7sQh8GHENlLVO9tFbz/3yDOhkdGYi5\n",
       "HPUnJdWanuqEMfTZEki+iPod5VunE/YS3Z8JZM5FX3d6GZAjezaXeA12ioGeI8x7tm6YVxhg3dA7\n",
       "XR7SA6kWRwxYqvH/L+C34X0KA3wzFRIdsjOhAbkK6j3e/wKccZ9SGbDk6iaIDtEj1TKBwW9c85QL\n",
       "VWUMwOywboLoED1SLWtRpX0WuKI2YLAHxclDBhOS4UpUA4IOjetqA1L62IoMSSWLQuOWWImmp75L\n",
       "tWGNyoDCLd0M0SF6pLoQCHvHvSTI3My3C03pfUf2VHf56RqyMhkPirV/G3N6cs3I+fDr9Ku31+HV\n",
       "ezoaiA7hSC8MzpMMGBBZuCoOeIb8TQz5I9eXSehZrATm1Tjg0rNUAxhymsdChUYDmLXGFSKQNuUg\n",
       "IyO7TitFCLNuEl1Fc6qzcOTIIbK/vGy7HgccKlMN4Mh/qtW3aGhMPwJ7DFXIBjDkFoD9xJDF0mF3\n",
       "YtMFGfb031wuxiGfBLMHI397ancQUevRgHSnu8ZEpt1B9QBH5iDVVL48emIdfHYAXgnalu2osm30\n",
       "3r9c+LV5m98Ht2zKrp4VwZIESLuZU3cf7x924fcGWBoDQrI72jcsI3cYDFloPceu5h8cZTGeGYUc\n",
       "9+ehywfZ0rD7l9jDWuwSdE27IxQDf8Qi97/GItvdlmPdhj3kbubPH10c9jja+bIWDkK8sW8Qg5AS\n",
       "Axx5nFlhwF/8/vAmGMP1B5OTiXU0bMA48kAqlgcGyDzgIYe8MMfPegwmPbovgbGnWp0qfBVm9SXs\n",
       "yJxrsdlNZkIP6fClNdoGf7ALVnB1EF4E7yseGQ4l2RwaYMUaMEvu9wPkx3bLhmkX3sy0mSq8/n0F\n",
       "TvLnH50EO+AB0QkZsW1MomIk9nW/zi/A5jpsHGsx5RirXMjz0mOe/nNLl2djy/FcnWpABFk3a3n2\n",
       "leLhWHUqkjMiuPfFcnaN3JBISKuWbTzNlQadFgy0Pm7a7eSOSEY6kFlscKXbmck7n0/vg8LqcMv5\n",
       "Rullbc8mgzctN5q07k5uy0UnMoFr1HgCUmFW/vzs/ViGC4qWSQKbH4w8rEWSNyaF+uOQr0g1cVq7\n",
       "3QjAnvNMvwlMuDHxFx9jwYQ7BIcFHjog2vfuauyDsXACvODqkD3lGWSiDDJRpgMTUvu70U9XBQ34\n",
       "YCycmbIe2bN2FcPb+nQL7paSyK8A44pNtwz+ugey5wGFlAb5MrwbfnsckL6V+y0JbBUh28fOjMmd\n",
       "Igo9Bk+XM2FSNvb+fG9Je/AigZ9fPHupryMa+ZDKnBwJT5CGXy7hpr+o3BaGwEXnrpIW2VP8EReD\n",
       "hVUdvqkXVgE+5iY1oLAC9Yc8oLfBbIl8/KgC93FQCd+IKOL5uxemVJCs0q8qcLaY3IC0SLWH2G/D\n",
       "iHITfE45UAU+B33IpDBeyyD/83E9pMVKPqADzJADC5H/AVCYa58+l3QEAAAAAElFTkSuQmCC\n",
       "\" style=\"display:inline;vertical-align:middle;\" /></a><br>"
      ],
      "text/plain": [
       "prod_of_fracs_right_numer_one: forall_{x, y, z in Complex} (((x / y) * (1 / z)) = (x / (y * z)))"
      ]
     },
     "execution_count": 25,
     "metadata": {},
     "output_type": "execute_result"
    }
   ],
   "source": [
    "prod_of_fracs_right_numer_one = Forall([x, y, z], Equals(Mult(frac(x, y), frac(one, z)),\n",
    "                                                 frac(x, Mult(y, z))), domain=Complex)"
   ]
  },
  {
   "cell_type": "code",
   "execution_count": 26,
   "metadata": {},
   "outputs": [
    {
     "data": {
      "text/html": [
       "<strong id=\"frac_cancel_left\"><a class=\"ProveItLink\" href=\"proofs/frac_cancel_left/thm_proof.ipynb\">frac_cancel_left</a> (conjecture without proof):<br></strong> <a class=\"ProveItLink\" href=\"../__pv_it/theorems/0e7a02296b2fee57a19ded61410dd79c911ba8d00/theorem_expr.ipynb\"><img src=\"data:image/png;base64,iVBORw0KGgoAAAANSUhEUgAAAO4AAAAmCAMAAAD0i1fJAAAAOVBMVEX///8oKCgUFBQNDQ0QEBCI\n",
       "iIhmZma6urrMzMxUVFQiIiJERETc3Nzu7u6qqqp2dnaYmJgyMjIAAAArQGDrAAAAAXRSTlMAQObY\n",
       "ZgAAA9BJREFUaN7NWQmS4yAMZHe4b/z/x66EL/BJshMHqiYT2x1MI6klgJCOWowf6tgp0l9jaRoc\n",
       "Y8oKFth+2IzjTUtdA8USK1J3bMVEwgWws2ZE74cYAITzMjR0V2NZb/Z1VE7jBNZhcETY5dH033rC\n",
       "cQ6Mue9ui02xL7pKFeQqQm5IyxOKDjqwhtnbYJsC4LkmB1tc1YT04okCrA5Q2RQcNVZ15c5JVdxP\n",
       "CGX/ZLSpxw1WDh2Z167G9W7UF3YwPKPmj/u2xSbWD12eVh/0xABde6QtXCGgTXW22Ej7oUvZWhIw\n",
       "BjnzuOTAh7yK8qvaosbaQYCJP1/TNPmyfMMRXsRSSOjBL779xVCOQxNMJUxL4k0s3rFzhrPmm6Gr\n",
       "m2AaHNA0Ks4emwVwNupq5i803TbXAqKx1ev3WI+BHIPDZvU3lWrgj1QyaNHBYNPhq3SfyIkuZyWV\n",
       "TW7sr3QpbupYiKDAwvFA3mohFY03TKpAkHtvQehNUFoVprmKwRxKEbh6tctDjyTBIc8zRi175X3O\n",
       "B87hB04arMJTaKJrM0mN9t+Wr2NUTWNqavfUDrCjQoQ4Um5OksZbhwOONhP1bXRxasBt0cTUn9P9\n",
       "uCDaROTkXgHEmyk5Szne1cviWidn5eT8+bn0I9Ie0606IyKs6zwdf82Zq9hVN1I12sVYNUoMLEKg\n",
       "9NBi3v4Ap5NLYc19zNtHS5RHF3f6VtBdOlNZ+n/gL07LMM22A3lCmedJ9XNRI8tNDusE3GamjFn8\n",
       "4OtKzV/RrTojzBereMoOReSRvFunvXK5wWEQhey6bHWps7GgPrNeygu6VWfOzHbEn+zKXvrEVoOY\n",
       "XxvdOgPZLFNpB4/pcoVxKwG4jow7Vm2dbelOnSmIqr9/MLbiiTIT88TGaNy81g4Q+RizsF7IISZh\n",
       "Rsh0ZVXwEdmEdQJ4/h4O8+7a2ZKEslPzg7xLwhNL7+1LnIoCah7MpTlVCMXytOcrkBmaJ4GYJWs4\n",
       "0EWj5KEzr53NSWjiG8K++PFPbCRdCTdQchB5Js5X5UpqjN3D5Hrc2Z0SuQfKqqt3oOaqMB82+OaC\n",
       "+pjufWSaz2uVv9j0wYkQMYT16j/oxvuaqdw3Oz8jgjFpKohsG88Gyz8gh/xtTysE4fSMCPJZZJy3\n",
       "7QVssfSb+xfbxhZy52dE47fWXaYNlnW070qKBH9+RjQmc9Mu4iWW9nUmFtPp7oYudEy8oGkllvV2\n",
       "wluktvNDL/8C2xJrqe2MrtNyWnmcnxH5LIVtlEus05701qy25PqMSOoYIktN++oV1kTSX8NFyOUZ\n",
       "EccE3ca2wrr5J/8AgjYuRtCFYUEAAAAASUVORK5CYII=\n",
       "\" style=\"display:inline;vertical-align:middle;\" /></a><br>"
      ],
      "text/plain": [
       "frac_cancel_left: forall_{x, y, z in Complex | x != 0} (((x * y) / (x * z)) = (y / z))"
      ]
     },
     "execution_count": 26,
     "metadata": {},
     "output_type": "execute_result"
    }
   ],
   "source": [
    "frac_cancel_left = Forall([x,y,z],\n",
    "                   Equals(frac(Mult(x,y),Mult(x,z)),\n",
    "                         frac(y,z)),domain=Complex, conditions=[NotEquals(x, zero)])"
   ]
  },
  {
   "cell_type": "code",
   "execution_count": 27,
   "metadata": {},
   "outputs": [
    {
     "data": {
      "text/html": [
       "<strong id=\"frac_cancel_denom_left\"><a class=\"ProveItLink\" href=\"proofs/frac_cancel_denom_left/thm_proof.ipynb\">frac_cancel_denom_left</a> (conjecture without proof):<br></strong> <a class=\"ProveItLink\" href=\"../__pv_it/theorems/3b2ff2c436dd2166042a81e8b7121d4422befd790/theorem_expr.ipynb\"><img src=\"data:image/png;base64,iVBORw0KGgoAAAANSUhEUgAAANwAAAAmCAMAAACYjQXMAAAAOVBMVEX///8oKCgUFBQNDQ0QEBCI\n",
       "iIhmZma6urrMzMxUVFQiIiJERETc3Nzu7u6qqqp2dnaYmJgyMjIAAAArQGDrAAAAAXRSTlMAQObY\n",
       "ZgAAA4NJREFUaN7NWYmWnSAMpa3sBND//9gmiDs66OjzcU5nOiKYm/0CY++OGO/fEzT7isHbLA/n\n",
       "2kke+FZSLuiha6B+V9l+AzaZRYaANjScma1UAV8iLXSndPYFtoNGZQSIMXTApBun8m/nmSDE1p7a\n",
       "uY2vg9N6BmUhPnTtONOQW3b81M6nvPiRoTo3+2spvhkdS6JF8VV1UW9vjVYvkO6In7ySN6cV967p\n",
       "3GQ4D33G4AWJrB5+nNMcfxWcaCfP88wiOFdKA0LTC6cTRGxeBdfwqepyjvWsXNBpUiyis9IvJJrv\n",
       "0Wbh8OvqgpFP6A5rZ/Cjl342BGNdWdYtFQZ5oc7gQjeUF2c/HHKm6jWD/mSvJIeUoQaDTSb8zDB1\n",
       "ypQYcerK/p7iNAag4cyH80knnm4RyFqdpWHCp8HdXIjW9AFS+dDJ6tZd3PQw1tOHkMlsNQfd5eQc\n",
       "2tkQu/QhaU/SPFQnW2+DNnpS+1HopGiJiMzrbSW4t/Js6UOXNErRxn/4FPggBL4DylIf24YacC5B\n",
       "MmTbTavXh0QWo2r8IOCGPvRBHWIP8KgoWe+A5IsuwfJV4EgP6H9kvsYfgLuJ+a7oQw/OtUxltwmY\n",
       "d7lWQxampway56ZHyveTrghusZzJMBEbE+9zy0XM6T36AL1bYjLRfVrArhwLu5FDiKIuFL09BmSE\n",
       "uE48M3Djcp0S8D/8FzP5MHyTUO5u21f0YdCeH7oFNSfoDiQ+5ig8iImb+ANwi+WM+xklbTZQurtr\n",
       "z4o+jH4/0+K8/xb4fcqLyiRLYBfkvFL74BbLwQ4mohXb7rC5myuv6IMcPhlhwpsMkDsknE5nODPH\n",
       "Br44wFmBy8s1BsPfPxQScS9bMvvE+duMPsTVJ12HwUqxhl10ChSF+FP0jXidSP8PpTo3LR/LQHJP\n",
       "UapzLNzMJtf0Yb0/6Cixm6CMmlK31Dzr1455GzBXWa1KbjktH8pARheCKDW291KsNX1oD9we0QD6\n",
       "r80ByvuYKyWp8vIf0wXc3KKs6MPR9pQUdag5mC6DaytT92PDH5xMEGwZQ0W6LoKLFe3H7hHO/sXB\n",
       "tdTym10up+6dBuzg4uDMEcqHuffmIKAs/fbi4Mre757ssVxDixzQ/vZAp3n9JiS2T9F0/gU3dHvH\n",
       "WqfvPdaUo3HvgwNTAHF0cVC7rWdfMJxxW855cHFQ6RCRfcVwqtTc714c1BluaDD/A8pUKEFc8z8E\n",
       "AAAAAElFTkSuQmCC\n",
       "\" style=\"display:inline;vertical-align:middle;\" /></a><br>"
      ],
      "text/plain": [
       "frac_cancel_denom_left: forall_{x, y in Complex | x != 0} (((x * y) / x) = y)"
      ]
     },
     "execution_count": 27,
     "metadata": {},
     "output_type": "execute_result"
    }
   ],
   "source": [
    "frac_cancel_denom_left = Forall([x,y],\n",
    "                             Equals(frac(Mult(x,y),x), y),\n",
    "                             domain=Complex, conditions=[NotEquals(x, zero)])"
   ]
  },
  {
   "cell_type": "code",
   "execution_count": 28,
   "metadata": {},
   "outputs": [
    {
     "data": {
      "text/html": [
       "<strong id=\"frac_cancel_numer_left\"><a class=\"ProveItLink\" href=\"proofs/frac_cancel_numer_left/thm_proof.ipynb\">frac_cancel_numer_left</a> (conjecture without proof):<br></strong> <a class=\"ProveItLink\" href=\"../__pv_it/theorems/6a3e2f4d393125b580bd0aeb81abc12de388c14c0/theorem_expr.ipynb\"><img src=\"data:image/png;base64,iVBORw0KGgoAAAANSUhEUgAAAOUAAAAyCAMAAACULOyzAAAAOVBMVEX///8oKCgUFBQNDQ0QEBCI\n",
       "iIhmZma6urrMzMxUVFQiIiJERETc3Nzu7u6qqqp2dnaYmJgyMjIAAAArQGDrAAAAAXRSTlMAQObY\n",
       "ZgAAA+9JREFUaN7NWom2oyAMZWYA2UH+/2MnwX1Bqa0o57yevho0lyQ3gUjI48M399zXSvKe4f1d\n",
       "d27a14BkN654eAtMR39/Rzt+1/4VIC1tfhyLXkZ72+0vDs1/76YzlDe4yhXvmmt0B0qiXuCzKmdK\n",
       "y5g0DfPsW5QumqdBhpwKFiwQFCOq/RZlfiHrmVLncigo6kHbxnyNMtwQFB8NEXMMiIpp/Yu4JDay\n",
       "Z1HyQwK8qt3aeO3DpQGVh4YWv0HJnuUfEUM2w1hQDjW036M0+cdUqWCzi9xERzSgNOHSbe0HLnN/\n",
       "3UPzdRpjlvFwASSXNLZ8MVErCM7J1JUtS3Wd53jwCu9GMqqbWGyslK8D8JgZVtTouqYUtRJZetBg\n",
       "wsmotSp1V9Fpgrc4jKpexIpKT4pIslHjqL5FqZetI8aiTGuqa1cI/psy2rezccZiFPNIg1L2crV3\n",
       "eOaQgMA2ccdReLXNAk3BiB+sOFk67aWSEz8eUTNHNwkA0W3rDxkXXlU0Tn1zV1Sl8sOHDumhUZzn\n",
       "WFJYocEEovUlKE3CptDaW8PJWCs2OpSmJeKk1gvaGYuKBpPwuSKUuCBA5GhQ6n7qsYu4PKtTVWdC\n",
       "bWQfXZ5xwWRP8U06EVa2D930k3DdRbOLcjGdNL5LyiirwpZ9avEd7TjH8d5hYacj287FUA/0M4Hm\n",
       "Hqkp2LDWbYZynC5TcvoHfwFQos0U22aSWvly2JQMxRY8tx0X3dgGwDNAYfm08XMHKBfTCXNksiVl\n",
       "26qg1onwUDCHKUTmfsTB5ZBNhUq20YwYJ0Qe5WK61UOBhTO2kFwtlDb6bWmbTNKHLehB8b8pvrll\n",
       "UyLcouynS+CEv3+QGUKWY0WtPfx6W2AikBfGI2xQUjAJ2LanCB2BG56++718OU0fs0jyXL6bL0mt\n",
       "ndd6W2BlaKBOwYSYmL+RTHfEo0dBCySupdjz2Gn6kEV6mN7vAVKVDteOyBxgWbiqe7diXVzuJcX9\n",
       "6efFP69UFhyUH0il0pe0c/dRFthpfTyca41YxvE3QwuqiD3Zg5MXNGETSrrhu/cIroQV5kL51gis\n",
       "NU35tcQ7t7LmJ2cS1zlkcYS4aY0M1jCOcERe0lHYk3341HkZmOvWiI3teCGVFCUm2ZPV6lGQkKVW\n",
       "dcECiJKTnC3uKGxln+4GrXuLOSDJCVlZ73wjy57u7C1Y9qA1ouXwUcCFa1n6/LtN1E+elm+NcInX\n",
       "y+rBtewLOu6ztyeOWiN4jRdqu5ZtH2+4f6IE/6AcnMk6al+A0tBz5oSNOeSVsm3aSvYlbzURd57N\n",
       "8DBFF6aDlazk5B2Dn3JgA5FWeniylA2avGXI27L2i94cBWve9hbwyDz/ARbHLgDL6lOdAAAAAElF\n",
       "TkSuQmCC\n",
       "\" style=\"display:inline;vertical-align:middle;\" /></a><br>"
      ],
      "text/plain": [
       "frac_cancel_numer_left: forall_{x, y in Complex | x != 0} ((x / (x * y)) = (1 / y))"
      ]
     },
     "execution_count": 28,
     "metadata": {},
     "output_type": "execute_result"
    }
   ],
   "source": [
    "frac_cancel_numer_left = Forall([x,y],\n",
    "                             Equals(frac(x,Mult(x,y)),\n",
    "                                    frac(one,y)),domain=Complex, conditions=[NotEquals(x, zero)])"
   ]
  },
  {
   "cell_type": "code",
   "execution_count": 29,
   "metadata": {},
   "outputs": [
    {
     "data": {
      "text/html": [
       "<strong id=\"mult_frac_cancel_numer_left\"><a class=\"ProveItLink\" href=\"proofs/mult_frac_cancel_numer_left/thm_proof.ipynb\">mult_frac_cancel_numer_left</a> (conjecture without proof):<br></strong> <a class=\"ProveItLink\" href=\"../__pv_it/theorems/8a334414a5236682c5577692926c0aaeb6c58a220/theorem_expr.ipynb\"><img src=\"data:image/png;base64,iVBORw0KGgoAAAANSUhEUgAAAZcAAAAyCAMAAACnHmbWAAAAOVBMVEX///8oKCgUFBQNDQ0QEBCI\n",
       "iIhmZma6urrMzMxUVFQiIiJERETc3Nzu7u6qqqp2dnaYmJgyMjIAAAArQGDrAAAAAXRSTlMAQObY\n",
       "ZgAABm5JREFUeNrVXIm2nCAMta0g++L/f2wFdwQM6Mwo5/Qdozb3SiAkGKdp3tB0lxNvb5LeQrMY\n",
       "qBb3Z2bROfEDrbM30KwAqsP9VUM0J8aGIW8ZXD3hLQ7PGXuZJgwzADIvMoxqc2K8WVyC0KvDKa4v\n",
       "0oRiBkBcv8Ussu0yIrynM86kl2eoxTTBmFWP94TGcU6E93RmXWDXhz+MVwyzxh08wYvtu1iBelyz\n",
       "Eoi402P6As0SzACIvcOTMZwWBdYYtZEOsRQhDHFlgwZE4k5P9aKSZpJWHDMAKsP9VTN7ljuxawfB\n",
       "9hFf31s5/Dl/Pq+BJ4Y6w3U0k7RSmLmh99jpwpOibM3wFy9nZOBUenS+VnsNNtXXsoZmSOscMwAy\n",
       "hS7xF430XVLEnj9D6yRZrlgvnzrqSUPiPnlu2BivgBYAMwAqwP1Zw21abLl/CLKMWbpbVLvzWHnS\n",
       "kIpMra2hGdICYAZA9vnJZUuT4jgfVMyP92YZmFk3ltYwJvDgFXjD60Rp9HIAhB6/8hPfw3FR+vlA\n",
       "baMOT+FG4+jHT+yS1DAGTr0pp3miNHo5AALj/qxlBxIf3LAZnNdxeaAGluelNURnK4zmidLo5Yxb\n",
       "eGau32ZEOSQpRFB0XB4kRhoy5NIaJjxWQfNEafRyAOTEdY0xz5s9Lc+JH2+6r6J5GciJeola7OPC\n",
       "ZtnjjPiNpJZU0LwO5EQx21rwx00Xso/kybcDeyDgdV6xB52niVaPs4vapyCqVz+dr0CaNzkGo6Vr\n",
       "gj3OLLHp/d3W0wqaNwB5seeuPXF7+ef5Vs8raN4A5EXqrc0fmGPqfcquv76h1253RLTdNHwvr9Ye\n",
       "xc5hyMieTJfbqMFFk7dLa/XPhDTSMQyZEUv8d213gZw7YMenEGgU3R8US140zi1V2aWQa8roGmTw\n",
       "pFbszGsGo6ijL6d9RuzP28rVFvy3DQYDvdTd8Yop2uDHcUKgUXS5cXRg2EycoSJzSSqN8aBMEj6M\n",
       "EGJ11C47rcJbg7n5dBx1WbuUNFa5sVFhlzr8qF2EbUj0P+bWs8hcMlwJ6TrXCG8RFbfLfpNLNvOu\n",
       "eKs+5seq7clS6wu9lxdjMZEL2i07S9SSNb1BdIHUCKF1/wmto15OV7rZUh1RowoRs8tOa6fHU+5O\n",
       "Zo7rvsiI3173M+GJuBloEhWezCUZGTpp7jTEZIPmzh5cDWljd0n3Lt0Nn0W1kSYkurHLpJX66Pzf\n",
       "8M9Myo6v+NA+tkBfz19gG7s38EpsKM/bAHiwAlmmlN+Snnrbv68mm7sWh0ip8TuecnFsSqqMXbZa\n",
       "kWrW+dKiY8LWZcRv5C+gfP8GXgHQLJpp8DsXv5bZutI/TNcry/nDXb5zmZ8BQ7cLRUjaLhutks/x\n",
       "irv/+HRqf0rdYpeC4mVAicA9vAKgENeX9nAjJys57zLbY+NCw7vEFKCvUxFLFITtG7tMWumweP79\n",
       "45ZQk4zHcq8rLzRw8TJ43/Iqr7MN2la40g7jNpeHThoWAsOnY+t6Do/H/i4y38XV9OGGXiaJwP5Y\n",
       "R/OXSesSI3t/hqP5S2p6X3Ua0G1G6IbkZV5nG7QdRQq5DIS4eUKo/6LDHwuMDJLj8f4uF5yNBuCb\n",
       "EM1aTknUj01a5xh5MoyO5rDM5sTKBi9ehgZal3kVBJ4KcBxKaFxfIi22/6fOnTfuc2JtJ4B3zqGJ\n",
       "7GVe8AR6G1GljptUIQnMLoBBVlSJ6NIoSMCaLF52iRjePhH0/fCBV57KAafgfbkBHIdSmV0MwHcH\n",
       "Jd0k4+8FG65xgK2TxcsdG86JzSQW0PeQAa8TKgecEEh8771s7cIIL+Dx748owNb74uV1oMtxsSTb\n",
       "fFFU0cxTOeK8r64PvsDA96h2xcubnV7aGoTMVgtnVTRPqBxxYmVKD2/dPmXrkhkcvFRoX7y87vQe\n",
       "3xnD3cmO1wmVyLvpAOgFdePQb0OAmbl/6kTx8kEDKvnOAoOpHC8HQOgF31mAI7Ip5QasL6ni5anA\n",
       "AUEWsyzNEyoHnNdVwY4sdU5cnbp7mP1qmvLvieJl5NedNX4t+55uw+uESojzzu/4wN+9am0MyC8n\n",
       "i5cRNttS4LKfANjyOqES4IRA9g2f8f2OtmrlFZrVQKW4P2uiJRnxU6349w1qeb32dxUaxXLihxrF\n",
       "F2lWAlHcvKZhmhM/EwbyyzSrgAxvXtQoyomfSGftDTQrgN71O1fDUOxy4v2LC5V30CwG2oj/AZGI\n",
       "WJZmhSjHAAAAAElFTkSuQmCC\n",
       "\" style=\"display:inline;vertical-align:middle;\" /></a><br>"
      ],
      "text/plain": [
       "mult_frac_cancel_numer_left: forall_{a, b, c, d, e in Complex | b != 0} ((((a * b) / c) * (d / (b * e))) = ((a / c) * (d / e)))"
      ]
     },
     "execution_count": 29,
     "metadata": {},
     "output_type": "execute_result"
    }
   ],
   "source": [
    "mult_frac_cancel_numer_left = Forall([a, b, c, d, e], \n",
    "                                 Equals(Mult(frac(Mult(a, b), c), frac(d, Mult(b, e))),\n",
    "                                        Mult(frac(a, c), frac(d, e))),\n",
    "                                domain=Complex, condition=NotEquals(b, zero))"
   ]
  },
  {
   "cell_type": "code",
   "execution_count": 30,
   "metadata": {},
   "outputs": [
    {
     "data": {
      "text/html": [
       "<strong id=\"mult_frac_cancel_denom_left\"><a class=\"ProveItLink\" href=\"proofs/mult_frac_cancel_denom_left/thm_proof.ipynb\">mult_frac_cancel_denom_left</a> (conjecture without proof):<br></strong> <a class=\"ProveItLink\" href=\"../__pv_it/theorems/3ea0272bee44736ade166627cec23972efc170530/theorem_expr.ipynb\"><img src=\"data:image/png;base64,iVBORw0KGgoAAAANSUhEUgAAAZcAAAAyCAMAAACnHmbWAAAAOVBMVEX///8oKCgUFBQNDQ0QEBCI\n",
       "iIhmZma6urrMzMxUVFQiIiJERETc3Nzu7u6qqqp2dnaYmJgyMjIAAAArQGDrAAAAAXRSTlMAQObY\n",
       "ZgAABkhJREFUeNrVXAmWpCAMdWYE2Rfvf9gRXEqRJVJYVea97jbdFP9LICQRu+ueIHrI621F0jYs\n",
       "LwPVAn/NLDqvt5bBtmBZAVQH/C1BNK+3E8J77H4a+z7LKiDzIMOoPq83lVH5H1y/y7ISiOunmEX2\n",
       "Q1Zv68FGWQdy9QMpoFvvrqlwnNfb7mSscvpfZZUEutUbtPRiy8RK6W3FbsPL9Dss3wBiz/BkDOf1\n",
       "RQTWGPWgwdEIIRLtAZHF6/uRFrUsC1wKQNeAvyUmYGnirId++rUdAR0KNo0It/Ee+G7aM1zJssCl\n",
       "CMTwE5YLz+vrbmmm75hDOnRugq6zVQY92P1YyyqWBS5lIHOrp26UUIxDVl8E+1thqNwhPty0HO2x\n",
       "B73/G6piWeBSBroA/DXBfV5fpOf+fki5w/44jxk99rC3urVVLAtcAED295PLnub1dYZpv2EC0oxR\n",
       "d9AeEHgD3rMqcIEAoZ/f+closvp2s26/oLZTxRtaOlCAHkQcrMCywAUCBAb+mkBnEp88spl8Ujn0\n",
       "x25qS0wgPfS0hmWBCwSo//W6Mu/z+jYL6ZSSCIoANQytjUGwHjirYVngAgFy+muPMb+3eoJd+qTf\n",
       "K3qsY/k2kNP15mrtz4XNcsRZ/facltSwfB/I6WI1tuA/t1xIEMmTz0b2QLj3WUXvc10mWv2cXdSo\n",
       "svqHlyuQZSO/YLR0ItjPmSW6vj8pI61h2QDI6yN38ovl5W8nXCOvYdkAyOvUm5v/YI6pgwqe/nBF\n",
       "r98XRLTdCW7LqrcRfXAgMlKTGXKFGnxt9aYzC39TSCMdw5BZHeq+q4cL5NvLrORVoFl331AsedE4\n",
       "t1dl90KuKaO7KCPpEXzqbSajqLMzp2NGH0vyYmrhHxr3EAz0TPfIEk4gAzTr2sy2OYnNBBoqspak\n",
       "0hhPnUnCpylCrC7bRXhrMLecztMuaxe4sNqyRo1dqgjE7SJsR6KfzG1okbVkuBLSDa4R3iIKYBdn\n",
       "wKUq3qub/Fi1MJbaX2hbVoxFdS7o4v8lRtSSV3qD6IbpHot3Wyv0Wkty+cuwWmogau5CxO2y62nQ\n",
       "M5Brycx53xdZ/aP7fiY6Ea2BFl3hxV6SkWmQVlMgJju0DvbkakgfayWnxNQfrN36NtKcmO7sMvdE\n",
       "fXT+b/oyS2fnR3woiC3Qh/MXWF23AatUQXmtA+DJCmRbU74kvYy2f15Ndq02j0ip8RVPuTk2JVXG\n",
       "LvuekOpe66VH54xtyOq35y+gfL8BqxBo1c0y+Z2Lf52zdUf/MH39Zfv9qZUfXOZXwGRMoQhJ22XX\n",
       "k+RrwOLan29PBb866pL399YoUg83Cyyv8wqBzro7QmPkYiXnXdZR3PnQsJVYIvTXWsQShXE7D4MJ\n",
       "Ou2ef/+4PdQk47HS40p7b3kZXLcMN8arvIr12V64sx3GFZenQZq2F8OXa+tGDs/XvhVZW3G1vLih\n",
       "t0UisL/W0fxl6WmLkb0/w9H8Jbm+V/XeMia0IHlyd1d5FeuzA0UKuQyEuHVCqH+lw18LjAyS8/Wx\n",
       "lQvOZgPwXYhmLack6seWntYYeTGMjuawzOb04eawGRpohSwv87oSdyrAdaiheX+J5ikRBMDT+DGn\n",
       "65tL4NA0NmR5mdeF/HkfUaWuO8D5k4xdAMlB/iiipQjhqMtIHEGO7LhTS5y6Cejz4ZBlmlcC9MLj\n",
       "cgO4DrVrdjEAJ0wCR3vQ5egyp8iSTx1BjlRT2fRpkVi3AvocMmCZ5JUCDYHEBx/LVkZOuRM887sN\n",
       "2z3sDmIfjiDnVsu8P5JUviiqWAa8yqDPO9eX3WD82est1A+PGoP8em8QMqnWnNWxPPICgMaOKf24\n",
       "DEHOttd9ljBsPuR41BgW4GbrLHBvcmQZ8CqDhkAPODeeeznEp3PnxQHM0n0POlv2knUsE7ySoCEQ\n",
       "esB7FrmIzE3S+W2S4MbjR5BjwzkPEQJtbWCWKV4p0Medgp1Z6pROTfx109QR5MiS8DtBPE6+9jrd\n",
       "nmWKVwL0me/xZd57lRjp6KxMHEGOjRE2qdO/12pce5ZJXnHQEMg+4TW+r/FWvXyLZTXQVeCviehJ\n",
       "Vr9FLv97g1pWz/2/Cp1ief0OofhdlpVAFHePEUzz+g1RIH+fZRWQ4d2DhKK83jybtS1YVgA96/9c\n",
       "TXNxyOuNNxcqm7C8DLTT/wOh7FemZdFhgwAAAABJRU5ErkJggg==\n",
       "\" style=\"display:inline;vertical-align:middle;\" /></a><br>"
      ],
      "text/plain": [
       "mult_frac_cancel_denom_left: forall_{a, b, c, d, e in Complex | c != 0} (((a / (b * c)) * ((c * d) / e)) = ((a / b) * (d / e)))"
      ]
     },
     "execution_count": 30,
     "metadata": {},
     "output_type": "execute_result"
    }
   ],
   "source": [
    "mult_frac_cancel_denom_left = Forall([a, b, c, d, e], \n",
    "                                 Equals(Mult(frac(a, Mult(b, c)), frac(Mult(c, d), e)),\n",
    "                                        Mult(frac(a, b), frac(d, e))),\n",
    "                                domain=Complex, condition=NotEquals(c, zero))"
   ]
  },
  {
   "cell_type": "code",
   "execution_count": 31,
   "metadata": {},
   "outputs": [],
   "source": [
    "# mult_frac_left_cancel = Forall([x,y],\n",
    "#                       Equals(Mult(frac(x,y),y),x),\n",
    "#                       domain = Complex, conditions = [NotEquals(y, zero)])"
   ]
  },
  {
   "cell_type": "code",
   "execution_count": 32,
   "metadata": {},
   "outputs": [],
   "source": [
    "# mult_frac_left_partial_cancel = Forall(\n",
    "#     [x,y,z], Equals(Mult(frac(x,Mult(y, z)),z),frac(x, y)),\n",
    "#     domain = Complex, conditions = [NotEquals(y, zero), NotEquals(z, zero)])"
   ]
  },
  {
   "cell_type": "code",
   "execution_count": 33,
   "metadata": {},
   "outputs": [],
   "source": [
    "# mult_frac_right_cancel = Forall([x,y],\n",
    "#                              Equals(Mult(x, frac(y, x)),y),\n",
    "#                              domain = Complex, conditions = [NotEquals(x, zero)])"
   ]
  },
  {
   "cell_type": "code",
   "execution_count": 34,
   "metadata": {},
   "outputs": [],
   "source": [
    "# mult_frac_right_partical_cancel = Forall(\n",
    "#     [x,y, z], Equals(Mult(x, frac(y, Mult(x, z))),frac(y, z)),\n",
    "#     domain = Complex, conditions = [NotEquals(x, zero)])"
   ]
  },
  {
   "cell_type": "code",
   "execution_count": 35,
   "metadata": {},
   "outputs": [
    {
     "data": {
      "text/html": [
       "<strong id=\"frac_cancel_complete\"><a class=\"ProveItLink\" href=\"proofs/frac_cancel_complete/thm_proof.ipynb\">frac_cancel_complete</a> (conjecture without proof):<br></strong> <a class=\"ProveItLink\" href=\"../__pv_it/theorems/131d6c3ba04cd99c5896c50ad394f7d697d920da0/theorem_expr.ipynb\"><img src=\"data:image/png;base64,iVBORw0KGgoAAAANSUhEUgAAALMAAAAmCAMAAAC4YVoxAAAAOVBMVEX///8QEBAoKCgUFBQNDQ2I\n",
       "iIhmZma6urrMzMxUVFQiIiJERETc3Nzu7u6qqqp2dnaYmJgyMjIAAAAMeWbTAAAAAXRSTlMAQObY\n",
       "ZgAAAsxJREFUWMPFWAcS4yAMxHcnqqj/f+xRXHCJE+OmmcxkEgsvi7QSIuRpc67RUQvykoHvEQAI\n",
       "ZGDhd1fm34HMOl0g28i4BCKP4IBXmNYdL19shG6DJgyPuHv3AmYxMJXYVuqoO/an9KTxUNMaoH3P\n",
       "z5kXsw3whk0/TTRONBtNIKS0OojBw8OY6SgSLBiiImY8mlSuexhzB1N9ANBAj9cXDCySfb5A/f4+\n",
       "fsG+o7BbM4bK3eHtQqOjqSRORJJxEElUt4ezbGszrKjUImfuQO9E+F0mVfMBTZhN0h5ndTKUt6dg\n",
       "oBdg5iFxG1Qyae/HDBdg1iFJhcjZrA40K2w3/nLUWVhxUN62Y9ZXRj9gLjtn6W+90xMaZYUUFUl7\n",
       "cUkTAy4CNmIlde4CnknIZKRIhtV62lhK46+aq+jBvf0JM2akMp3EsjUokdi/uLKjmPMJWFdwz59T\n",
       "BnV61GFGa37DnPYXoyCR3ZnPmM/wnDGjJ7w/SAuUQwpwNsQT46ZUL9zGPHqUp+3Uckp3MDZm8Sw+\n",
       "5mAhT6EoaRW7rFhnZF3SnXar7Kwwjx4iq8+/+HF9xyhhmYNX6MawczNUKD5cXzSdmkazh5nPLjxg\n",
       "qta+W0IMrXIKK32eK2dpcbnMtCkgaDjfwTx65J2qgdHkEpaS2LVdMqjogqdu7GLZEADTNjJ3ZFqe\n",
       "aph0dwNz7yFiDP79kyLRfdANoq6467vFshhiHsRcSPkwkos0f7eb+lx5DDqXD5Nu6DOxV/Try0W0\n",
       "cCwWsLwRNQqTjvmsBN+Mjdqj6FwP2tp1c2GuuMz5vQCDEs+bIrxdLr+lmA7nbxXNa2xj/h6t6vxN\n",
       "3wS8ELP7XuXqC2jDvG5+DT6qPs0HWyVJw7xuoyG432BE2DavI/D0qCDRxE/N60j3wpDR+VP3Fnhl\n",
       "Al2p5/F5HXb4BmYtefO8TktDXjGU2DqvU468ZMgb53V66BP/Ay9mIQnDdN1lAAAAAElFTkSuQmCC\n",
       "\" style=\"display:inline;vertical-align:middle;\" /></a><br>"
      ],
      "text/plain": [
       "frac_cancel_complete: forall_{x in Complex | x != 0} ((x / x) = 1)"
      ]
     },
     "execution_count": 35,
     "metadata": {},
     "output_type": "execute_result"
    }
   ],
   "source": [
    "frac_cancel_complete = Forall(x, Equals(frac(x, x), one), \n",
    "                            domain=Complex, conditions = [NotEquals(x, zero)])"
   ]
  },
  {
   "cell_type": "code",
   "execution_count": 36,
   "metadata": {},
   "outputs": [
    {
     "data": {
      "text/html": [
       "<strong id=\"reverse_fraction_of_subtractions\"><a class=\"ProveItLink\" href=\"proofs/reverse_fraction_of_subtractions/thm_proof.ipynb\">reverse_fraction_of_subtractions</a> (conjecture without proof):<br></strong> <a class=\"ProveItLink\" href=\"../__pv_it/theorems/e7437a298541284079725cefba7725503979e84f0/theorem_expr.ipynb\"><img src=\"data:image/png;base64,iVBORw0KGgoAAAANSUhEUgAAAQwAAAAyBAMAAABbpfjJAAAAMFBMVEX///8QEBCIiIhmZma6urrM\n",
       "zMxUVFQiIiJERETc3Nzu7u6qqqp2dnaYmJgyMjIAAAAcRTyBAAAAAXRSTlMAQObYZgAABKdJREFU\n",
       "WMOtWW1oW1UYfno/ktybpCmjftDJyBoQ7cYaVxR/jLar6BDUxunc/khCVETxo8OBINso/ohZ3SSC\n",
       "qDhx1zmGK+JahkrH1LCf+4zzh1McXtjmD5ES9iFLZtFzzr037f3ISE7OC817zrn3Pfc5533P+3EK\n",
       "8FFsFGJIz3UifQqi6IkOZKWcMBhxk192FuJoN79CewXC+JzbzCJpgTCiPbySPxoCYWA7r+AbTDOp\n",
       "JH7ArBuR3v/S2HG/Ev2j+9ciakb72KJKnMZdY66D7GYB427NfoVfkjt9AgGj5VlEcso12gxzqjg8\n",
       "SX/3yiYWEHEv5QTOGo/6BPyj2swwEhXsYquq88HIsh0wupJqDTLd83lGGTqIYoCAM7r4oo5lyJbA\n",
       "9kG/wgfjPouNl6QexLwPg+f0jSo1rCSqYe15Phi3W2yYaBcfeJ6p14Mk/KNEowVolmENctmoumDx\n",
       "AsJlJN3PjkpVDPgkAkbJCrZDstr7KlwBpWbxNVg/qboPinIzUtV8kwaNSqZyJ5622l1cESpiuz15\n",
       "7UD+tMdB5AdSF/xuI2h0qP/gahtaZAIsvl1oC0bXJMRSrIqTlP/VltThtGAY8ev4mPqS9paXTQqG\n",
       "oV5BN4kJsZn2AtuMYBj6VcRPTE9/1J7UHxnBMPAPcKNYbDPSDpZEw7gBvAArwLROZ1vKNs6w8HGx\n",
       "pRlXAA9BbyEpje5+Me+0RwzRu3EHidqQbu1L9WNDFX2Lof7tDLxusf+aUtUzQ6L5q9YLW8kxqYRv\n",
       "DfX83DTinwLHPDAEEoGhmc8Qr383PtPfog4ttZEYC8ZyoD1t56GMQp3Vw9+QTntKsWzjz5ZgvEn+\n",
       "dj1Pvp4w7sEl0hkImdtoilZXaeCQvz+Obvreb78uNVHhJ4WYKI5MAJ9sQB73kk6mmxqKdmBCYp5V\n",
       "n8EXLFLPLT2wwv0GTWAS1DevQ6+VCiXYUuVyiHnsA8DmYrGY3LtpqfsaFQ3jKg0sVNXb9LqVwWRB\n",
       "1xoe7aJMy6hGiMHaT9NHx5mLhqH/67QuR6vxkjalVc+grE0hnBkHYR+ePI8Yw7Mug0ahka0IhqE2\n",
       "MtWnVv28Cupy/dXHVhvqcij590gPlSengHdZpTFfaFhEQnSgj9709B12CHsaPYnYhrtMMQXDiNXc\n",
       "/TmHvaKYjZ6P5KpgGCHPhBWHPX5qsedPluqLdajW5362oVcNFFO2jj7rNktSAb9vdJJVqo4qy+sh\n",
       "uRei70k9GCjz5bkh97diSg8G7fa+JLe3sevQiHtyvVlCabBscwnRCrjYWQIz4nxzmeX7vmbh4zIb\n",
       "3NIk4KhTcL1JKuBGRfkOn0k5lwlKHVmPY1eaVT6P+CYxGhUlZyntXEiQfV3pefRtM9fggzcMyS67\n",
       "JM6LBeeokDq04PlaGqFAkSOAB0iBindQOxK6y96NnLLgfrD593OXAi1jx+k1nkj0AMbto8176eRc\n",
       "wen5lMf/peMrAuOejJ+88A72j9ifv8jr9rrTi7cU/DRsK7KPdwLtNsZew2HumB8y9WtWi/96Ft+x\n",
       "3x14m3uGcCVi+87n+PdTZsY9luJPB5X+++1j18k1RV5YeO3kHxmQRSWC+sv093/vLGaeZ8RBpgAA\n",
       "AABJRU5ErkJggg==\n",
       "\" style=\"display:inline;vertical-align:middle;\" /></a><br>"
      ],
      "text/plain": [
       "reverse_fraction_of_subtractions: forall_{w, x, y, z in Complex} (((w - x) / (y - z)) = ((x - w) / (z - y)))"
      ]
     },
     "execution_count": 36,
     "metadata": {},
     "output_type": "execute_result"
    }
   ],
   "source": [
    "reverse_fraction_of_subtractions = Forall([w, x, y, z], Equals(frac(subtract(w, x), subtract(y, z)),\n",
    "                                                           frac(subtract(x, w), subtract(z, y))), \n",
    "                                       domain=Complex)"
   ]
  },
  {
   "cell_type": "code",
   "execution_count": 37,
   "metadata": {},
   "outputs": [],
   "source": [
    "# frac_int_exp = Forall(n, Forall((a, b), \n",
    "#                               Equals(frac(Exp(a, n), Exp(b, n)),\n",
    "#                                      Exp(frac(a, b), n)),\n",
    "#                              conditions = [NotEquals(a, zero), NotEquals(b, zero)]),\n",
    "#                     domain=Integer)"
   ]
  },
  {
   "cell_type": "code",
   "execution_count": 38,
   "metadata": {},
   "outputs": [],
   "source": [
    "# frac_nat_pos_exp = Forall(n, Forall((a, b), \n",
    "#                               Equals(frac(Exp(a, n), Exp(b, n)),\n",
    "#                                      Exp(frac(a, b), n)),\n",
    "#                              conditions = [NotEquals(b, zero)]),\n",
    "#                     domain=NaturalPos)"
   ]
  },
  {
   "cell_type": "code",
   "execution_count": 39,
   "metadata": {},
   "outputs": [
    {
     "name": "stdout",
     "output_type": "stream",
     "text": [
      "These theorems may now be imported from the theory package: proveit.numbers.division\n"
     ]
    }
   ],
   "source": [
    "%end theorems"
   ]
  },
  {
   "cell_type": "code",
   "execution_count": null,
   "metadata": {},
   "outputs": [],
   "source": []
  }
 ],
 "metadata": {
  "kernelspec": {
   "display_name": "Python 3",
   "language": "python",
   "name": "python3"
  }
 },
 "nbformat": 4,
 "nbformat_minor": 0
}