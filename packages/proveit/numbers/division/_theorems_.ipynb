{
 "cells": [
  {
   "cell_type": "markdown",
   "metadata": {},
   "source": [
    "Theorems (or conjectures) for the theory of <a class=\"ProveItLink\" href=\"_theory_.ipynb\">proveit.numbers.division</a>\n",
    "========"
   ]
  },
  {
   "cell_type": "code",
   "execution_count": null,
   "metadata": {},
   "outputs": [],
   "source": [
    "import proveit\n",
    "# Prepare this notebook for defining the theorems of a theory:\n",
    "%theorems_notebook # Keep this at the top following 'import proveit'.\n",
    "from proveit.logic import Forall, InSet, Equals, NotEquals, Implies\n",
    "from proveit.numbers import (Integer, NaturalPos, Rational, RationalNonZero, RationalPos, RationalNonNeg,\n",
    "                             Real, RealPos, Complex)\n",
    "from proveit.numbers import Div, frac, Add, subtract, Sum, Mult, Exp, zero, one\n",
    "from proveit.numbers import Less, LessEq, Greater, GreaterEq\n",
    "from proveit._common_ import a, b, c, d, e, n, w, x, y, z, P, S #, wMulti, xMulti, yMulti, zMulti, wEtc, xEtc, yEtc, zEtc, PyEtc\n",
    "from proveit.numbers._common_ import ComplexSansZero"
   ]
  },
  {
   "cell_type": "code",
   "execution_count": null,
   "metadata": {},
   "outputs": [],
   "source": [
    "%begin theorems"
   ]
  },
  {
   "cell_type": "code",
   "execution_count": null,
   "metadata": {},
   "outputs": [],
   "source": [
    "div_rational_closure = Forall(\n",
    "    [a, b],\n",
    "    InSet(frac(a, b), Rational),\n",
    "    domain=Rational,\n",
    "    conditions=[NotEquals(b, zero)])"
   ]
  },
  {
   "cell_type": "code",
   "execution_count": null,
   "metadata": {},
   "outputs": [],
   "source": [
    "div_rational_non_zero_closure = Forall(\n",
    "    [a, b],\n",
    "    InSet(frac(a, b), RationalNonZero),\n",
    "    domain=RationalNonZero)"
   ]
  },
  {
   "cell_type": "code",
   "execution_count": null,
   "metadata": {},
   "outputs": [],
   "source": [
    "div_rational_pos_closure = Forall(\n",
    "    [a, b],\n",
    "    InSet(frac(a, b), RationalPos),\n",
    "    domain=RationalPos)"
   ]
  },
  {
   "cell_type": "code",
   "execution_count": null,
   "metadata": {},
   "outputs": [],
   "source": [
    "div_rational_non_neg_closure = Forall(\n",
    "    [a, b],\n",
    "    InSet(frac(a, b), RationalNonNeg),\n",
    "    domains=(RationalNonNeg, RationalPos))"
   ]
  },
  {
   "cell_type": "code",
   "execution_count": null,
   "metadata": {},
   "outputs": [],
   "source": [
    "divRealClosure = Forall(\n",
    "    [a, b],\n",
    "    InSet(frac(a, b), Real),\n",
    "    domain=Real,\n",
    "    conditions=[NotEquals(b, zero)])"
   ]
  },
  {
   "cell_type": "code",
   "execution_count": null,
   "metadata": {},
   "outputs": [],
   "source": [
    "divideRealPosClosure = Forall([a, b], InSet(frac(a, b), RealPos), domain=RealPos, conditions=[NotEquals(b, zero)])"
   ]
  },
  {
   "cell_type": "code",
   "execution_count": null,
   "metadata": {},
   "outputs": [],
   "source": [
    "divideComplexClosure = Forall([a, b], InSet(frac(a, b), Complex), domain=Complex, conditions=[NotEquals(b, zero)])"
   ]
  },
  {
   "cell_type": "code",
   "execution_count": null,
   "metadata": {},
   "outputs": [],
   "source": [
    "fracNotEqZero = Forall([a, b], NotEquals(frac(a,b), zero), domain=ComplexSansZero)"
   ]
  },
  {
   "cell_type": "code",
   "execution_count": null,
   "metadata": {},
   "outputs": [],
   "source": [
    "fracZeroNumer = Forall(\n",
    "        x, Equals(frac(zero, x), zero), domain=Complex,\n",
    "        conditions=[NotEquals(x, zero)])"
   ]
  },
  {
   "cell_type": "code",
   "execution_count": null,
   "metadata": {},
   "outputs": [],
   "source": [
    "fracOneDenom = Forall(x, Equals(frac(x, one), x), domain=Complex)"
   ]
  },
  {
   "cell_type": "markdown",
   "metadata": {},
   "source": [
    "### Theorems for the NumberRelation class"
   ]
  },
  {
   "cell_type": "code",
   "execution_count": null,
   "metadata": {},
   "outputs": [],
   "source": [
    "div_eq = Forall((a, x, y), Equals(frac(x, a), frac(y, a)), \n",
    "                conditions=[Equals(x, y), NotEquals(a, zero)], domain=Complex)"
   ]
  },
  {
   "cell_type": "code",
   "execution_count": null,
   "metadata": {},
   "outputs": [],
   "source": [
    "div_neq = Forall((a, x, y), NotEquals(frac(x, a), frac(y, a)), \n",
    "                 conditions=[NotEquals(x, y), NotEquals(a, zero)], domain=Complex)"
   ]
  },
  {
   "cell_type": "code",
   "execution_count": null,
   "metadata": {},
   "outputs": [],
   "source": [
    "div_pos_less = Forall((a, x, y), Less(frac(x, a), frac(y, a)), \n",
    "                      conditions=[Less(x, y), Greater(a, zero)], domain=Real)"
   ]
  },
  {
   "cell_type": "code",
   "execution_count": null,
   "metadata": {},
   "outputs": [],
   "source": [
    "div_neg_less = Forall((a, x, y), Greater(frac(x, a), frac(y, a)), \n",
    "                      conditions=[Less(x, y), Less(a, zero)], domain=Real)"
   ]
  },
  {
   "cell_type": "code",
   "execution_count": null,
   "metadata": {},
   "outputs": [],
   "source": [
    "div_pos_lesseq = Forall((a, x, y), LessEq(frac(x, a), frac(y, a)), \n",
    "                        conditions=[LessEq(x, y), Greater(a, zero)], domain=Real)"
   ]
  },
  {
   "cell_type": "code",
   "execution_count": null,
   "metadata": {},
   "outputs": [],
   "source": [
    "div_neg_lesseq = Forall((a, x, y), GreaterEq(frac(x, a), frac(y, a)), \n",
    "                      conditions=[LessEq(x, y), Less(a, zero)], domain=Real)"
   ]
  },
  {
   "cell_type": "code",
   "execution_count": null,
   "metadata": {},
   "outputs": [],
   "source": [
    "\"\"\"\n",
    "distributeFractionThroughSum = Forall([xMulti, y], \n",
    "                                      Equals(frac(Add(xEtc), y),\n",
    "                                             Add(Etcetera(frac(xMulti, y)))), \n",
    "                                      domain=Complex, conditions=[NotEquals(y, zero)])\n",
    "\"\"\""
   ]
  },
  {
   "cell_type": "code",
   "execution_count": null,
   "metadata": {},
   "outputs": [],
   "source": [
    "\"\"\"\n",
    "distributeFractionThroughSubtract = Forall([x, y, z], \n",
    "                                          Equals(frac(Sub(x, y), z),\n",
    "                                                 Sub(frac(x, z), frac(y, z))), \n",
    "                                          domain=Complex, conditions=[NotEquals(z, zero)])\n",
    "\"\"\""
   ]
  },
  {
   "cell_type": "code",
   "execution_count": null,
   "metadata": {},
   "outputs": [],
   "source": [
    "\"\"\"\n",
    "distributeFractionThroughSummation = Forall([P, S],\n",
    "                                    Implies(Forall(yMulti, InSet(PyEtc, Complex), domain=S),\n",
    "                                            Forall(z,\n",
    "                                                   Equals(frac(Sum(yMulti, PyEtc, domain=S), z),\n",
    "                                                          Sum(yMulti, frac(PyEtc, z), domain=S)),\n",
    "                                                  domain=Complex)))\n",
    "\"\"\""
   ]
  },
  {
   "cell_type": "code",
   "execution_count": null,
   "metadata": {},
   "outputs": [],
   "source": [
    "\"\"\"\n",
    "fracInProd = Forall([wMulti, x, y, zMulti], Equals(Mult(wEtc, frac(x, y), zEtc),\n",
    "                                                   frac(Mult(wEtc, x, zEtc), y)), domain=Complex)\n",
    "\"\"\""
   ]
  },
  {
   "cell_type": "code",
   "execution_count": null,
   "metadata": {},
   "outputs": [],
   "source": [
    "prodOfFracs = Forall([x, y, z, w], Equals(Mult(frac(x, z), frac(y, w)),\n",
    "                                           frac(Mult(x, y), Mult(z, w))), domain=Complex)"
   ]
  },
  {
   "cell_type": "code",
   "execution_count": null,
   "metadata": {},
   "outputs": [],
   "source": [
    "prodOfFracsLeftNumerOne = Forall([x, y, z], Equals(Mult(frac(one, y), frac(x, z)),\n",
    "                                                 frac(x, Mult(y, z))), domain=Complex)"
   ]
  },
  {
   "cell_type": "code",
   "execution_count": null,
   "metadata": {},
   "outputs": [],
   "source": [
    "prodOfFracsRightNumerOne = Forall([x, y, z], Equals(Mult(frac(x, y), frac(one, z)),\n",
    "                                                 frac(x, Mult(y, z))), domain=Complex)"
   ]
  },
  {
   "cell_type": "code",
   "execution_count": null,
   "metadata": {},
   "outputs": [],
   "source": [
    "fracCancelLeft = Forall([x,y,z],\n",
    "                   Equals(frac(Mult(x,y),Mult(x,z)),\n",
    "                         frac(y,z)),domain=Complex, conditions=[NotEquals(x, zero)])"
   ]
  },
  {
   "cell_type": "code",
   "execution_count": null,
   "metadata": {},
   "outputs": [],
   "source": [
    "fracCancelDenomLeft = Forall([x,y],\n",
    "                             Equals(frac(Mult(x,y),x), y),\n",
    "                             domain=Complex, conditions=[NotEquals(x, zero)])"
   ]
  },
  {
   "cell_type": "code",
   "execution_count": null,
   "metadata": {},
   "outputs": [],
   "source": [
    "fracCancelNumerLeft = Forall([x,y],\n",
    "                             Equals(frac(x,Mult(x,y)),\n",
    "                                    frac(one,y)),domain=Complex, conditions=[NotEquals(x, zero)])"
   ]
  },
  {
   "cell_type": "code",
   "execution_count": null,
   "metadata": {},
   "outputs": [],
   "source": [
    "multFracCancelNumerLeft = Forall([a, b, c, d, e], \n",
    "                                 Equals(Mult(frac(Mult(a, b), c), frac(d, Mult(b, e))),\n",
    "                                        Mult(frac(a, c), frac(d, e))),\n",
    "                                domain=Complex, condition=NotEquals(b, zero))"
   ]
  },
  {
   "cell_type": "code",
   "execution_count": null,
   "metadata": {},
   "outputs": [],
   "source": [
    "multFracCancelDenomLeft = Forall([a, b, c, d, e], \n",
    "                                 Equals(Mult(frac(a, Mult(b, c)), frac(Mult(c, d), e)),\n",
    "                                        Mult(frac(a, b), frac(d, e))),\n",
    "                                domain=Complex, condition=NotEquals(c, zero))"
   ]
  },
  {
   "cell_type": "code",
   "execution_count": null,
   "metadata": {},
   "outputs": [],
   "source": [
    "# multFracLeftCancel = Forall([x,y],\n",
    "#                       Equals(Mult(frac(x,y),y),x),\n",
    "#                       domain = Complex, conditions = [NotEquals(y, zero)])"
   ]
  },
  {
   "cell_type": "code",
   "execution_count": null,
   "metadata": {},
   "outputs": [],
   "source": [
    "# multFracLeftPartialCancel = Forall(\n",
    "#     [x,y,z], Equals(Mult(frac(x,Mult(y, z)),z),frac(x, y)),\n",
    "#     domain = Complex, conditions = [NotEquals(y, zero), NotEquals(z, zero)])"
   ]
  },
  {
   "cell_type": "code",
   "execution_count": null,
   "metadata": {},
   "outputs": [],
   "source": [
    "# multFracRightCancel = Forall([x,y],\n",
    "#                              Equals(Mult(x, frac(y, x)),y),\n",
    "#                              domain = Complex, conditions = [NotEquals(x, zero)])"
   ]
  },
  {
   "cell_type": "code",
   "execution_count": null,
   "metadata": {},
   "outputs": [],
   "source": [
    "# multFracRightParticalCancel = Forall(\n",
    "#     [x,y, z], Equals(Mult(x, frac(y, Mult(x, z))),frac(y, z)),\n",
    "#     domain = Complex, conditions = [NotEquals(x, zero)])"
   ]
  },
  {
   "cell_type": "code",
   "execution_count": null,
   "metadata": {},
   "outputs": [],
   "source": [
    "fracCancelComplete = Forall(x, Equals(frac(x, x), one), \n",
    "                            domain=Complex, conditions = [NotEquals(x, zero)])"
   ]
  },
  {
   "cell_type": "code",
   "execution_count": null,
   "metadata": {},
   "outputs": [],
   "source": [
    "reverseFractionOfSubtractions = Forall([w, x, y, z], Equals(frac(subtract(w, x), subtract(y, z)),\n",
    "                                                           frac(subtract(x, w), subtract(z, y))), \n",
    "                                       domain=Complex)"
   ]
  },
  {
   "cell_type": "code",
   "execution_count": null,
   "metadata": {},
   "outputs": [],
   "source": [
    "# fracIntExp = Forall(n, Forall((a, b), \n",
    "#                               Equals(frac(Exp(a, n), Exp(b, n)),\n",
    "#                                      Exp(frac(a, b), n)),\n",
    "#                              conditions = [NotEquals(a, zero), NotEquals(b, zero)]),\n",
    "#                     domain=Integer)"
   ]
  },
  {
   "cell_type": "code",
   "execution_count": null,
   "metadata": {},
   "outputs": [],
   "source": [
    "# fracNatPosExp = Forall(n, Forall((a, b), \n",
    "#                               Equals(frac(Exp(a, n), Exp(b, n)),\n",
    "#                                      Exp(frac(a, b), n)),\n",
    "#                              conditions = [NotEquals(b, zero)]),\n",
    "#                     domain=NaturalPos)"
   ]
  },
  {
   "cell_type": "code",
   "execution_count": null,
   "metadata": {},
   "outputs": [],
   "source": [
    "%end theorems"
   ]
  },
  {
   "cell_type": "code",
   "execution_count": null,
   "metadata": {},
   "outputs": [],
   "source": []
  }
 ],
 "metadata": {
  "kernelspec": {
   "display_name": "Python 3",
   "language": "python",
   "name": "python3"
  }
 },
 "nbformat": 4,
 "nbformat_minor": 0
}
