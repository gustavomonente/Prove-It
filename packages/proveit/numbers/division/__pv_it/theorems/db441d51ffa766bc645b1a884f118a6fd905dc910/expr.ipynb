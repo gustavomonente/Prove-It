{
 "cells": [
  {
   "cell_type": "markdown",
   "metadata": {},
   "source": [
    "Expression of type <a class=\"ProveItLink\" href=\"../../../../../../../doc/html/api/proveit.logic.And.html\">And</a>\n",
    "=======================\n",
    "# from the theory of <a class=\"ProveItLink\" href=\"../../../_theory_nbs_/theory.ipynb\">proveit.numbers.division</a>"
   ]
  },
  {
   "cell_type": "code",
   "execution_count": 1,
   "metadata": {},
   "outputs": [],
   "source": [
    "import proveit\n",
    "# Automation is not needed when building an expression:\n",
    "proveit.defaults.automation = False # This will speed things up.\n",
    "proveit.defaults.inline_pngs = False # Makes files smaller.\n",
    "%load_expr # Load the stored expression as 'stored_expr'\n",
    "# import Expression classes needed to build the expression\n",
    "from proveit import w, x, y, z\n",
    "from proveit.logic import And, InSet\n",
    "from proveit.numbers import Complex"
   ]
  },
  {
   "cell_type": "code",
   "execution_count": 2,
   "metadata": {},
   "outputs": [
    {
     "data": {
      "text/html": [
       "<strong id=\"expr\">expr:</strong> <a class=\"ProveItLink\" href=\"expr.ipynb\"><img src=\"expr.png\" style=\"display:inline;vertical-align:middle;\" /></a><br>"
      ],
      "text/plain": [
       "expr: (x in Complex) and (y in Complex) and (z in Complex) and (w in Complex)"
      ]
     },
     "execution_count": 2,
     "metadata": {},
     "output_type": "execute_result"
    }
   ],
   "source": [
    "# build up the expression from sub-expressions\n",
    "expr = And(InSet(x, Complex), InSet(y, Complex), InSet(z, Complex), InSet(w, Complex))"
   ]
  },
  {
   "cell_type": "code",
   "execution_count": 3,
   "metadata": {},
   "outputs": [
    {
     "name": "stdout",
     "output_type": "stream",
     "text": [
      "Passed sanity check: expr matches stored_expr\n"
     ]
    }
   ],
   "source": [
    "# check that the built expression is the same as the stored expression\n",
    "assert expr == stored_expr\n",
    "assert expr._style_id == stored_expr._style_id\n",
    "print(\"Passed sanity check: expr matches stored_expr\")"
   ]
  },
  {
   "cell_type": "code",
   "execution_count": 4,
   "metadata": {},
   "outputs": [
    {
     "name": "stdout",
     "output_type": "stream",
     "text": [
      "\\left(x \\in \\mathbb{C}\\right) \\land \\left(y \\in \\mathbb{C}\\right) \\land \\left(z \\in \\mathbb{C}\\right) \\land \\left(w \\in \\mathbb{C}\\right)\n"
     ]
    }
   ],
   "source": [
    "# Show the LaTeX representation of the expression for convenience if you need it.\n",
    "print(expr.latex())"
   ]
  },
  {
   "cell_type": "code",
   "execution_count": 5,
   "metadata": {},
   "outputs": [
    {
     "data": {
      "text/html": [
       "<table><tr><th>&nbsp;</th><th>core type</th><th>sub-expressions</th><th>expression</th></tr>\n",
       "<tr><td>0</td><td>Operation</td><td>operator:&nbsp;1<br>operands:&nbsp;2<br></td><td><a class=\"ProveItLink\" href=\"expr.ipynb\"><img src=\"expr.png\" style=\"display:inline;vertical-align:middle;\" /></a></td></tr>\n",
       "<tr><td>1</td><td>Literal</td><td></td><td><a class=\"ProveItLink\" href=\"../../../../../logic/booleans/conjunction/__pv_it/common/42118ff318bd65d98b1393f64ce7c2269feef76e0/expr.ipynb\"><img src=\"../../../../../logic/booleans/conjunction/__pv_it/common/42118ff318bd65d98b1393f64ce7c2269feef76e0/expr.png\" style=\"display:inline;vertical-align:middle;\" /></a></td></tr>\n",
       "<tr><td>2</td><td>ExprTuple</td><td>3, 4, 5, 6</td><td><a class=\"ProveItLink\" href=\"../fed16a3a8a43fdc621180e21b05435dbff0d30330/expr.ipynb\"><img src=\"../fed16a3a8a43fdc621180e21b05435dbff0d30330/expr.png\" style=\"display:inline;vertical-align:middle;\" /></a></td></tr>\n",
       "<tr><td>3</td><td>Operation</td><td>operator:&nbsp;10<br>operands:&nbsp;7<br></td><td><a class=\"ProveItLink\" href=\"../665eb28bdef08717ca4abe8886f256e37ecbb1210/expr.ipynb\"><img src=\"../665eb28bdef08717ca4abe8886f256e37ecbb1210/expr.png\" style=\"display:inline;vertical-align:middle;\" /></a></td></tr>\n",
       "<tr><td>4</td><td>Operation</td><td>operator:&nbsp;10<br>operands:&nbsp;8<br></td><td><a class=\"ProveItLink\" href=\"../4781579f73690b602fbe14fc22acbb18872578820/expr.ipynb\"><img src=\"../4781579f73690b602fbe14fc22acbb18872578820/expr.png\" style=\"display:inline;vertical-align:middle;\" /></a></td></tr>\n",
       "<tr><td>5</td><td>Operation</td><td>operator:&nbsp;10<br>operands:&nbsp;9<br></td><td><a class=\"ProveItLink\" href=\"../d95c7e0de01db90d2bff83c0ad1602ef71f085660/expr.ipynb\"><img src=\"../d95c7e0de01db90d2bff83c0ad1602ef71f085660/expr.png\" style=\"display:inline;vertical-align:middle;\" /></a></td></tr>\n",
       "<tr><td>6</td><td>Operation</td><td>operator:&nbsp;10<br>operands:&nbsp;11<br></td><td><a class=\"ProveItLink\" href=\"../df84537e958cc5babcec07d221b44e0a46bd57390/expr.ipynb\"><img src=\"../df84537e958cc5babcec07d221b44e0a46bd57390/expr.png\" style=\"display:inline;vertical-align:middle;\" /></a></td></tr>\n",
       "<tr><td>7</td><td>ExprTuple</td><td>12, 16</td><td><a class=\"ProveItLink\" href=\"../75ad744bb2803b43009bc0873a3361232799faaf0/expr.ipynb\"><img src=\"../75ad744bb2803b43009bc0873a3361232799faaf0/expr.png\" style=\"display:inline;vertical-align:middle;\" /></a></td></tr>\n",
       "<tr><td>8</td><td>ExprTuple</td><td>13, 16</td><td><a class=\"ProveItLink\" href=\"../b7a9fe0b18f49d84bc924e84c1b67da8918783610/expr.ipynb\"><img src=\"../b7a9fe0b18f49d84bc924e84c1b67da8918783610/expr.png\" style=\"display:inline;vertical-align:middle;\" /></a></td></tr>\n",
       "<tr><td>9</td><td>ExprTuple</td><td>14, 16</td><td><a class=\"ProveItLink\" href=\"../318ea89576eb3832a10d1edb99d8ff0f09d967890/expr.ipynb\"><img src=\"../318ea89576eb3832a10d1edb99d8ff0f09d967890/expr.png\" style=\"display:inline;vertical-align:middle;\" /></a></td></tr>\n",
       "<tr><td>10</td><td>Literal</td><td></td><td><a class=\"ProveItLink\" href=\"../../../../../logic/sets/membership/__pv_it/common/477487d8796864d23d5810f83761435f25167f690/expr.ipynb\"><img src=\"../../../../../logic/sets/membership/__pv_it/common/477487d8796864d23d5810f83761435f25167f690/expr.png\" style=\"display:inline;vertical-align:middle;\" /></a></td></tr>\n",
       "<tr><td>11</td><td>ExprTuple</td><td>15, 16</td><td><a class=\"ProveItLink\" href=\"../f8f194e789533b0702afba263f074b4ec6f405660/expr.ipynb\"><img src=\"../f8f194e789533b0702afba263f074b4ec6f405660/expr.png\" style=\"display:inline;vertical-align:middle;\" /></a></td></tr>\n",
       "<tr><td>12</td><td>Variable</td><td></td><td><a class=\"ProveItLink\" href=\"../../../../../__pv_it/common/a0d9d672aa5e272d907247690c152cc2c6daafb70/expr.ipynb\"><img src=\"../../../../../__pv_it/common/a0d9d672aa5e272d907247690c152cc2c6daafb70/expr.png\" style=\"display:inline;vertical-align:middle;\" /></a></td></tr>\n",
       "<tr><td>13</td><td>Variable</td><td></td><td><a class=\"ProveItLink\" href=\"../../../../../__pv_it/common/ff7dba4ef0bbe791ab573bf2d9c220a304399ac80/expr.ipynb\"><img src=\"../../../../../__pv_it/common/ff7dba4ef0bbe791ab573bf2d9c220a304399ac80/expr.png\" style=\"display:inline;vertical-align:middle;\" /></a></td></tr>\n",
       "<tr><td>14</td><td>Variable</td><td></td><td><a class=\"ProveItLink\" href=\"../../../../../__pv_it/common/95a8f6b9b9f29b83f192ad7fd05708d6be097a3f0/expr.ipynb\"><img src=\"../../../../../__pv_it/common/95a8f6b9b9f29b83f192ad7fd05708d6be097a3f0/expr.png\" style=\"display:inline;vertical-align:middle;\" /></a></td></tr>\n",
       "<tr><td>15</td><td>Variable</td><td></td><td><a class=\"ProveItLink\" href=\"../../../../../__pv_it/common/d365663894822dede40e6e04c77860068334d0820/expr.ipynb\"><img src=\"../../../../../__pv_it/common/d365663894822dede40e6e04c77860068334d0820/expr.png\" style=\"display:inline;vertical-align:middle;\" /></a></td></tr>\n",
       "<tr><td>16</td><td>Literal</td><td></td><td><a class=\"ProveItLink\" href=\"../../../../number_sets/complex_numbers/__pv_it/common/d18a028138f659eda00de597c28a3447fe87eb100/expr.ipynb\"><img src=\"../../../../number_sets/complex_numbers/__pv_it/common/d18a028138f659eda00de597c28a3447fe87eb100/expr.png\" style=\"display:inline;vertical-align:middle;\" /></a></td></tr>\n",
       "</table>\n"
      ],
      "text/plain": [
       "0. (x in Complex) and (y in Complex) and (z in Complex) and (w in Complex)\n",
       "   core type: Operation\n",
       "   operator: 1\n",
       "   operands: 2\n",
       "1. and\n",
       "   core type: Literal\n",
       "   sub-expressions: \n",
       "2. (x in Complex, y in Complex, z in Complex, w in Complex)\n",
       "   core type: ExprTuple\n",
       "   sub-expressions: 3, 4, 5, 6\n",
       "3. x in Complex\n",
       "   core type: Operation\n",
       "   operator: 10\n",
       "   operands: 7\n",
       "4. y in Complex\n",
       "   core type: Operation\n",
       "   operator: 10\n",
       "   operands: 8\n",
       "5. z in Complex\n",
       "   core type: Operation\n",
       "   operator: 10\n",
       "   operands: 9\n",
       "6. w in Complex\n",
       "   core type: Operation\n",
       "   operator: 10\n",
       "   operands: 11\n",
       "7. (x, Complex)\n",
       "   core type: ExprTuple\n",
       "   sub-expressions: 12, 16\n",
       "8. (y, Complex)\n",
       "   core type: ExprTuple\n",
       "   sub-expressions: 13, 16\n",
       "9. (z, Complex)\n",
       "   core type: ExprTuple\n",
       "   sub-expressions: 14, 16\n",
       "10. in\n",
       "    core type: Literal\n",
       "    sub-expressions: \n",
       "11. (w, Complex)\n",
       "    core type: ExprTuple\n",
       "    sub-expressions: 15, 16\n",
       "12. x\n",
       "    core type: Variable\n",
       "    sub-expressions: \n",
       "13. y\n",
       "    core type: Variable\n",
       "    sub-expressions: \n",
       "14. z\n",
       "    core type: Variable\n",
       "    sub-expressions: \n",
       "15. w\n",
       "    core type: Variable\n",
       "    sub-expressions: \n",
       "16. Complex\n",
       "    core type: Literal\n",
       "    sub-expressions: "
      ]
     },
     "execution_count": 5,
     "metadata": {},
     "output_type": "execute_result"
    }
   ],
   "source": [
    "# display the expression information\n",
    "expr.expr_info()"
   ]
  },
  {
   "cell_type": "code",
   "execution_count": null,
   "metadata": {},
   "outputs": [],
   "source": []
  }
 ],
 "metadata": {
  "kernelspec": {
   "display_name": "Python 3",
   "language": "python",
   "name": "python3"
  }
 },
 "nbformat": 4,
 "nbformat_minor": 0
}