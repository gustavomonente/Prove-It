{
 "cells": [
  {
   "cell_type": "markdown",
   "metadata": {},
   "source": [
    "Theorem <a class=\"ProveItLink\" href=\"../../../_theorems_.ipynb#prod_of_fracs_left_numer_one\">prod_of_fracs_left_numer_one</a> of type <a class=\"ProveItLink\" href=\"../../../../../../../doc/html/api/proveit.logic.Forall.html\">Forall</a>\n",
    "=======================\n",
    "# from the theory of <a class=\"ProveItLink\" href=\"../../../_theory_nbs_/theory.ipynb\">proveit.numbers.division</a>\n",
    "*** see <a class=\"ProveItLink\" href=\"dependencies.ipynb\">dependencies</a> ***"
   ]
  },
  {
   "cell_type": "code",
   "execution_count": 1,
   "metadata": {},
   "outputs": [],
   "source": [
    "import proveit\n",
    "# Automation is not needed when only building an expression:\n",
    "proveit.defaults.automation = False # This will speed things up.\n",
    "proveit.defaults.inline_pngs = False # Makes files smaller.\n",
    "%load_theorem_expr # Load the stored theorem expression as 'stored_expr'\n",
    "# import the special expression\n",
    "from proveit.numbers.division import prod_of_fracs_left_numer_one"
   ]
  },
  {
   "cell_type": "code",
   "execution_count": 2,
   "metadata": {},
   "outputs": [
    {
     "name": "stdout",
     "output_type": "stream",
     "text": [
      "Passed sanity check: prod_of_fracs_left_numer_one matches stored_expr\n"
     ]
    }
   ],
   "source": [
    "# check that the built expression is the same as the stored expression\n",
    "assert prod_of_fracs_left_numer_one.expr == stored_expr\n",
    "assert prod_of_fracs_left_numer_one.expr._style_id == stored_expr._style_id\n",
    "print(\"Passed sanity check: prod_of_fracs_left_numer_one matches stored_expr\")"
   ]
  },
  {
   "cell_type": "code",
   "execution_count": 3,
   "metadata": {},
   "outputs": [
    {
     "name": "stdout",
     "output_type": "stream",
     "text": [
      "\\vdash \\forall_{x, y, z \\in \\mathbb{C}}~\\left(\\left(\\frac{1}{y} \\cdot \\frac{x}{z}\\right) = \\frac{x}{y \\cdot z}\\right)\n"
     ]
    }
   ],
   "source": [
    "# Show the LaTeX representation of the expression for convenience if you need it.\n",
    "print(prod_of_fracs_left_numer_one.latex())"
   ]
  },
  {
   "cell_type": "code",
   "execution_count": 4,
   "metadata": {},
   "outputs": [
    {
     "data": {
      "text/html": [
       "<table><tr><th>&nbsp;</th><th>core type</th><th>sub-expressions</th><th>expression</th></tr>\n",
       "<tr><td>0</td><td>Operation</td><td>operator:&nbsp;1<br>operand:&nbsp;2<br></td><td><a class=\"ProveItLink\" href=\"../d800dffa7a55342e88c851fd0644027633513bd40/expr.ipynb\"><img src=\"../d800dffa7a55342e88c851fd0644027633513bd40/expr.png\" style=\"display:inline;vertical-align:middle;\" /></a></td></tr>\n",
       "<tr><td>1</td><td>Literal</td><td></td><td><a class=\"ProveItLink\" href=\"../../../../../logic/booleans/quantification/universality/__pv_it/common/083d2baa0b8ecab1d230f9ec29a15aa1355809fb0/expr.ipynb\"><img src=\"../../../../../logic/booleans/quantification/universality/__pv_it/common/083d2baa0b8ecab1d230f9ec29a15aa1355809fb0/expr.png\" style=\"display:inline;vertical-align:middle;\" /></a></td></tr>\n",
       "<tr><td>2</td><td>Lambda</td><td>parameters:&nbsp;3<br>body:&nbsp;4<br></td><td><a class=\"ProveItLink\" href=\"../327db34b701a519c048ec694b12cb31410920b420/expr.ipynb\"><img src=\"../327db34b701a519c048ec694b12cb31410920b420/expr.png\" style=\"display:inline;vertical-align:middle;\" /></a></td></tr>\n",
       "<tr><td>3</td><td>ExprTuple</td><td>32, 33, 34</td><td><a class=\"ProveItLink\" href=\"../657b2a86fdc9f8600274fd555734b18f92881ce00/expr.ipynb\"><img src=\"../657b2a86fdc9f8600274fd555734b18f92881ce00/expr.png\" style=\"display:inline;vertical-align:middle;\" /></a></td></tr>\n",
       "<tr><td>4</td><td>Conditional</td><td>value:&nbsp;5<br>condition:&nbsp;6<br></td><td><a class=\"ProveItLink\" href=\"../1f82b8e5ac2f87519e4ffa566852c961ba153a470/expr.ipynb\"><img src=\"../1f82b8e5ac2f87519e4ffa566852c961ba153a470/expr.png\" style=\"display:inline;vertical-align:middle;\" /></a></td></tr>\n",
       "<tr><td>5</td><td>Operation</td><td>operator:&nbsp;7<br>operands:&nbsp;8<br></td><td><a class=\"ProveItLink\" href=\"../9bbee1d6f9e8b857a2615d074961c821d59d82d10/expr.ipynb\"><img src=\"../9bbee1d6f9e8b857a2615d074961c821d59d82d10/expr.png\" style=\"display:inline;vertical-align:middle;\" /></a></td></tr>\n",
       "<tr><td>6</td><td>Operation</td><td>operator:&nbsp;9<br>operands:&nbsp;10<br></td><td><a class=\"ProveItLink\" href=\"../023ea9e29863ae1f1fc88e4495eb224bcdf5636a0/expr.ipynb\"><img src=\"../023ea9e29863ae1f1fc88e4495eb224bcdf5636a0/expr.png\" style=\"display:inline;vertical-align:middle;\" /></a></td></tr>\n",
       "<tr><td>7</td><td>Literal</td><td></td><td><a class=\"ProveItLink\" href=\"../../../../../logic/equality/__pv_it/common/fb96dc12b2aa8801dda64d0132b396c63d1502bb0/expr.ipynb\"><img src=\"../../../../../logic/equality/__pv_it/common/fb96dc12b2aa8801dda64d0132b396c63d1502bb0/expr.png\" style=\"display:inline;vertical-align:middle;\" /></a></td></tr>\n",
       "<tr><td>8</td><td>ExprTuple</td><td>11, 12</td><td><a class=\"ProveItLink\" href=\"../d21968f7c383c6b47f11d358f6f0ac7e6c5d61110/expr.ipynb\"><img src=\"../d21968f7c383c6b47f11d358f6f0ac7e6c5d61110/expr.png\" style=\"display:inline;vertical-align:middle;\" /></a></td></tr>\n",
       "<tr><td>9</td><td>Literal</td><td></td><td><a class=\"ProveItLink\" href=\"../../../../../logic/booleans/conjunction/__pv_it/common/42118ff318bd65d98b1393f64ce7c2269feef76e0/expr.ipynb\"><img src=\"../../../../../logic/booleans/conjunction/__pv_it/common/42118ff318bd65d98b1393f64ce7c2269feef76e0/expr.png\" style=\"display:inline;vertical-align:middle;\" /></a></td></tr>\n",
       "<tr><td>10</td><td>ExprTuple</td><td>13, 14, 15</td><td><a class=\"ProveItLink\" href=\"../59378032f8cf354dcec02f5e64fe90fb72cbb7490/expr.ipynb\"><img src=\"../59378032f8cf354dcec02f5e64fe90fb72cbb7490/expr.png\" style=\"display:inline;vertical-align:middle;\" /></a></td></tr>\n",
       "<tr><td>11</td><td>Operation</td><td>operator:&nbsp;29<br>operands:&nbsp;16<br></td><td><a class=\"ProveItLink\" href=\"../f7c5bb165b61b42dc8e8d1ab27b24717a14761fd0/expr.ipynb\"><img src=\"../f7c5bb165b61b42dc8e8d1ab27b24717a14761fd0/expr.png\" style=\"display:inline;vertical-align:middle;\" /></a></td></tr>\n",
       "<tr><td>12</td><td>Operation</td><td>operator:&nbsp;27<br>operands:&nbsp;17<br></td><td><a class=\"ProveItLink\" href=\"../ffc65b909743c34dde4307d5c37321b76a3386400/expr.ipynb\"><img src=\"../ffc65b909743c34dde4307d5c37321b76a3386400/expr.png\" style=\"display:inline;vertical-align:middle;\" /></a></td></tr>\n",
       "<tr><td>13</td><td>Operation</td><td>operator:&nbsp;20<br>operands:&nbsp;18<br></td><td><a class=\"ProveItLink\" href=\"../665eb28bdef08717ca4abe8886f256e37ecbb1210/expr.ipynb\"><img src=\"../665eb28bdef08717ca4abe8886f256e37ecbb1210/expr.png\" style=\"display:inline;vertical-align:middle;\" /></a></td></tr>\n",
       "<tr><td>14</td><td>Operation</td><td>operator:&nbsp;20<br>operands:&nbsp;19<br></td><td><a class=\"ProveItLink\" href=\"../4781579f73690b602fbe14fc22acbb18872578820/expr.ipynb\"><img src=\"../4781579f73690b602fbe14fc22acbb18872578820/expr.png\" style=\"display:inline;vertical-align:middle;\" /></a></td></tr>\n",
       "<tr><td>15</td><td>Operation</td><td>operator:&nbsp;20<br>operands:&nbsp;21<br></td><td><a class=\"ProveItLink\" href=\"../d95c7e0de01db90d2bff83c0ad1602ef71f085660/expr.ipynb\"><img src=\"../d95c7e0de01db90d2bff83c0ad1602ef71f085660/expr.png\" style=\"display:inline;vertical-align:middle;\" /></a></td></tr>\n",
       "<tr><td>16</td><td>ExprTuple</td><td>22, 23</td><td><a class=\"ProveItLink\" href=\"../4703c09705db44e3a191a7192cad90ff4c0400ad0/expr.ipynb\"><img src=\"../4703c09705db44e3a191a7192cad90ff4c0400ad0/expr.png\" style=\"display:inline;vertical-align:middle;\" /></a></td></tr>\n",
       "<tr><td>17</td><td>ExprTuple</td><td>32, 24</td><td><a class=\"ProveItLink\" href=\"../6caba72e8073b366d025121dedfa36ab090b0b960/expr.ipynb\"><img src=\"../6caba72e8073b366d025121dedfa36ab090b0b960/expr.png\" style=\"display:inline;vertical-align:middle;\" /></a></td></tr>\n",
       "<tr><td>18</td><td>ExprTuple</td><td>32, 25</td><td><a class=\"ProveItLink\" href=\"../75ad744bb2803b43009bc0873a3361232799faaf0/expr.ipynb\"><img src=\"../75ad744bb2803b43009bc0873a3361232799faaf0/expr.png\" style=\"display:inline;vertical-align:middle;\" /></a></td></tr>\n",
       "<tr><td>19</td><td>ExprTuple</td><td>33, 25</td><td><a class=\"ProveItLink\" href=\"../b7a9fe0b18f49d84bc924e84c1b67da8918783610/expr.ipynb\"><img src=\"../b7a9fe0b18f49d84bc924e84c1b67da8918783610/expr.png\" style=\"display:inline;vertical-align:middle;\" /></a></td></tr>\n",
       "<tr><td>20</td><td>Literal</td><td></td><td><a class=\"ProveItLink\" href=\"../../../../../logic/sets/membership/__pv_it/common/477487d8796864d23d5810f83761435f25167f690/expr.ipynb\"><img src=\"../../../../../logic/sets/membership/__pv_it/common/477487d8796864d23d5810f83761435f25167f690/expr.png\" style=\"display:inline;vertical-align:middle;\" /></a></td></tr>\n",
       "<tr><td>21</td><td>ExprTuple</td><td>34, 25</td><td><a class=\"ProveItLink\" href=\"../318ea89576eb3832a10d1edb99d8ff0f09d967890/expr.ipynb\"><img src=\"../318ea89576eb3832a10d1edb99d8ff0f09d967890/expr.png\" style=\"display:inline;vertical-align:middle;\" /></a></td></tr>\n",
       "<tr><td>22</td><td>Operation</td><td>operator:&nbsp;27<br>operands:&nbsp;26<br></td><td><a class=\"ProveItLink\" href=\"../e4130c1729545144fca57f18f21f52fa02316e610/expr.ipynb\"><img src=\"../e4130c1729545144fca57f18f21f52fa02316e610/expr.png\" style=\"display:inline;vertical-align:middle;\" /></a></td></tr>\n",
       "<tr><td>23</td><td>Operation</td><td>operator:&nbsp;27<br>operands:&nbsp;28<br></td><td><a class=\"ProveItLink\" href=\"../f7741f9fa928cb07fbfd5af929328c9774c495fc0/expr.ipynb\"><img src=\"../f7741f9fa928cb07fbfd5af929328c9774c495fc0/expr.png\" style=\"display:inline;vertical-align:middle;\" /></a></td></tr>\n",
       "<tr><td>24</td><td>Operation</td><td>operator:&nbsp;29<br>operands:&nbsp;30<br></td><td><a class=\"ProveItLink\" href=\"../1b0eff649bc52dd1dbccb87d25e58e78579ca4670/expr.ipynb\"><img src=\"../1b0eff649bc52dd1dbccb87d25e58e78579ca4670/expr.png\" style=\"display:inline;vertical-align:middle;\" /></a></td></tr>\n",
       "<tr><td>25</td><td>Literal</td><td></td><td><a class=\"ProveItLink\" href=\"../../../../number_sets/complex_numbers/__pv_it/common/d18a028138f659eda00de597c28a3447fe87eb100/expr.ipynb\"><img src=\"../../../../number_sets/complex_numbers/__pv_it/common/d18a028138f659eda00de597c28a3447fe87eb100/expr.png\" style=\"display:inline;vertical-align:middle;\" /></a></td></tr>\n",
       "<tr><td>26</td><td>ExprTuple</td><td>31, 33</td><td><a class=\"ProveItLink\" href=\"../153f9ca8d842e54388542907f22b3b07cda96f210/expr.ipynb\"><img src=\"../153f9ca8d842e54388542907f22b3b07cda96f210/expr.png\" style=\"display:inline;vertical-align:middle;\" /></a></td></tr>\n",
       "<tr><td>27</td><td>Literal</td><td></td><td><a class=\"ProveItLink\" href=\"../../common/a2a633e1e3c749fb1f2692466b287b6348c5de840/expr.ipynb\"><img src=\"../../common/a2a633e1e3c749fb1f2692466b287b6348c5de840/expr.png\" style=\"display:inline;vertical-align:middle;\" /></a></td></tr>\n",
       "<tr><td>28</td><td>ExprTuple</td><td>32, 34</td><td><a class=\"ProveItLink\" href=\"../f96ff3ba00d09f38d8239212d4fed116a60d7eed0/expr.ipynb\"><img src=\"../f96ff3ba00d09f38d8239212d4fed116a60d7eed0/expr.png\" style=\"display:inline;vertical-align:middle;\" /></a></td></tr>\n",
       "<tr><td>29</td><td>Literal</td><td></td><td><a class=\"ProveItLink\" href=\"../../../../multiplication/__pv_it/common/ed719cef37831779c16481533a4d380a2f95ab270/expr.ipynb\"><img src=\"../../../../multiplication/__pv_it/common/ed719cef37831779c16481533a4d380a2f95ab270/expr.png\" style=\"display:inline;vertical-align:middle;\" /></a></td></tr>\n",
       "<tr><td>30</td><td>ExprTuple</td><td>33, 34</td><td><a class=\"ProveItLink\" href=\"../492e20b2e20d89fac61dd9a041660426d6ca1b450/expr.ipynb\"><img src=\"../492e20b2e20d89fac61dd9a041660426d6ca1b450/expr.png\" style=\"display:inline;vertical-align:middle;\" /></a></td></tr>\n",
       "<tr><td>31</td><td>Literal</td><td></td><td><a class=\"ProveItLink\" href=\"../../../../numerals/__pv_it/common/2778428c7f555b2bdc06aa0530bc142c6e6335100/expr.ipynb\"><img src=\"../../../../numerals/__pv_it/common/2778428c7f555b2bdc06aa0530bc142c6e6335100/expr.png\" style=\"display:inline;vertical-align:middle;\" /></a></td></tr>\n",
       "<tr><td>32</td><td>Variable</td><td></td><td><a class=\"ProveItLink\" href=\"../../../../../__pv_it/common/a0d9d672aa5e272d907247690c152cc2c6daafb70/expr.ipynb\"><img src=\"../../../../../__pv_it/common/a0d9d672aa5e272d907247690c152cc2c6daafb70/expr.png\" style=\"display:inline;vertical-align:middle;\" /></a></td></tr>\n",
       "<tr><td>33</td><td>Variable</td><td></td><td><a class=\"ProveItLink\" href=\"../../../../../__pv_it/common/ff7dba4ef0bbe791ab573bf2d9c220a304399ac80/expr.ipynb\"><img src=\"../../../../../__pv_it/common/ff7dba4ef0bbe791ab573bf2d9c220a304399ac80/expr.png\" style=\"display:inline;vertical-align:middle;\" /></a></td></tr>\n",
       "<tr><td>34</td><td>Variable</td><td></td><td><a class=\"ProveItLink\" href=\"../../../../../__pv_it/common/95a8f6b9b9f29b83f192ad7fd05708d6be097a3f0/expr.ipynb\"><img src=\"../../../../../__pv_it/common/95a8f6b9b9f29b83f192ad7fd05708d6be097a3f0/expr.png\" style=\"display:inline;vertical-align:middle;\" /></a></td></tr>\n",
       "</table>\n"
      ],
      "text/plain": [
       "0. forall_{x, y, z in Complex} (((1 / y) * (x / z)) = (x / (y * z)))\n",
       "   core type: Operation\n",
       "   operator: 1\n",
       "   operand: 2\n",
       "1. forall\n",
       "   core type: Literal\n",
       "   sub-expressions: \n",
       "2. (x, y, z) -> {((1 / y) * (x / z)) = (x / (y * z)) if x in Complex ,  y in Complex ,  z in Complex.\n",
       "   core type: Lambda\n",
       "   parameters: 3\\n   body: 4\n",
       "3. (x, y, z)\n",
       "   core type: ExprTuple\n",
       "   sub-expressions: 32, 33, 34\n",
       "4. {((1 / y) * (x / z)) = (x / (y * z)) if x in Complex ,  y in Complex ,  z in Complex.\n",
       "   core type: Conditional\n",
       "   value: 5\n",
       "   condition: 6\n",
       "5. ((1 / y) * (x / z)) = (x / (y * z))\n",
       "   core type: Operation\n",
       "   operator: 7\n",
       "   operands: 8\n",
       "6. (x in Complex) and (y in Complex) and (z in Complex)\n",
       "   core type: Operation\n",
       "   operator: 9\n",
       "   operands: 10\n",
       "7. =\n",
       "   core type: Literal\n",
       "   sub-expressions: \n",
       "8. ((1 / y) * (x / z), x / (y * z))\n",
       "   core type: ExprTuple\n",
       "   sub-expressions: 11, 12\n",
       "9. and\n",
       "   core type: Literal\n",
       "   sub-expressions: \n",
       "10. (x in Complex, y in Complex, z in Complex)\n",
       "    core type: ExprTuple\n",
       "    sub-expressions: 13, 14, 15\n",
       "11. (1 / y) * (x / z)\n",
       "    core type: Operation\n",
       "    operator: 29\n",
       "    operands: 16\n",
       "12. x / (y * z)\n",
       "    core type: Operation\n",
       "    operator: 27\n",
       "    operands: 17\n",
       "13. x in Complex\n",
       "    core type: Operation\n",
       "    operator: 20\n",
       "    operands: 18\n",
       "14. y in Complex\n",
       "    core type: Operation\n",
       "    operator: 20\n",
       "    operands: 19\n",
       "15. z in Complex\n",
       "    core type: Operation\n",
       "    operator: 20\n",
       "    operands: 21\n",
       "16. (1 / y, x / z)\n",
       "    core type: ExprTuple\n",
       "    sub-expressions: 22, 23\n",
       "17. (x, y * z)\n",
       "    core type: ExprTuple\n",
       "    sub-expressions: 32, 24\n",
       "18. (x, Complex)\n",
       "    core type: ExprTuple\n",
       "    sub-expressions: 32, 25\n",
       "19. (y, Complex)\n",
       "    core type: ExprTuple\n",
       "    sub-expressions: 33, 25\n",
       "20. in\n",
       "    core type: Literal\n",
       "    sub-expressions: \n",
       "21. (z, Complex)\n",
       "    core type: ExprTuple\n",
       "    sub-expressions: 34, 25\n",
       "22. 1 / y\n",
       "    core type: Operation\n",
       "    operator: 27\n",
       "    operands: 26\n",
       "23. x / z\n",
       "    core type: Operation\n",
       "    operator: 27\n",
       "    operands: 28\n",
       "24. y * z\n",
       "    core type: Operation\n",
       "    operator: 29\n",
       "    operands: 30\n",
       "25. Complex\n",
       "    core type: Literal\n",
       "    sub-expressions: \n",
       "26. (1, y)\n",
       "    core type: ExprTuple\n",
       "    sub-expressions: 31, 33\n",
       "27. /\n",
       "    core type: Literal\n",
       "    sub-expressions: \n",
       "28. (x, z)\n",
       "    core type: ExprTuple\n",
       "    sub-expressions: 32, 34\n",
       "29. *\n",
       "    core type: Literal\n",
       "    sub-expressions: \n",
       "30. (y, z)\n",
       "    core type: ExprTuple\n",
       "    sub-expressions: 33, 34\n",
       "31. 1\n",
       "    core type: Literal\n",
       "    sub-expressions: \n",
       "32. x\n",
       "    core type: Variable\n",
       "    sub-expressions: \n",
       "33. y\n",
       "    core type: Variable\n",
       "    sub-expressions: \n",
       "34. z\n",
       "    core type: Variable\n",
       "    sub-expressions: "
      ]
     },
     "execution_count": 4,
     "metadata": {},
     "output_type": "execute_result"
    }
   ],
   "source": [
    "# display the expression information\n",
    "prod_of_fracs_left_numer_one.expr_info()"
   ]
  },
  {
   "cell_type": "code",
   "execution_count": null,
   "metadata": {},
   "outputs": [],
   "source": []
  }
 ],
 "metadata": {
  "kernelspec": {
   "display_name": "Python 3",
   "language": "python",
   "name": "python3"
  }
 },
 "nbformat": 4,
 "nbformat_minor": 0
}