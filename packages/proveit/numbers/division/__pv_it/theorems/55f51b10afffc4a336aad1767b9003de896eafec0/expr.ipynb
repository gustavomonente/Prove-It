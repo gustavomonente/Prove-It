{
 "cells": [
  {
   "cell_type": "markdown",
   "metadata": {},
   "source": [
    "Expression of type <a class=\"ProveItLink\" href=\"../../../../../../../doc/html/api/proveit.Conditional.html\">Conditional</a>\n",
    "=======================\n",
    "# from the theory of <a class=\"ProveItLink\" href=\"../../../_theory_nbs_/theory.ipynb\">proveit.numbers.division</a>"
   ]
  },
  {
   "cell_type": "code",
   "execution_count": 1,
   "metadata": {},
   "outputs": [],
   "source": [
    "import proveit\n",
    "# Automation is not needed when building an expression:\n",
    "proveit.defaults.automation = False # This will speed things up.\n",
    "proveit.defaults.inline_pngs = False # Makes files smaller.\n",
    "%load_expr # Load the stored expression as 'stored_expr'\n",
    "# import Expression classes needed to build the expression\n",
    "from proveit import Conditional, w, x, y, z\n",
    "from proveit.logic import And, Equals, InSet\n",
    "from proveit.numbers import Add, Complex, Neg, frac"
   ]
  },
  {
   "cell_type": "code",
   "execution_count": 2,
   "metadata": {},
   "outputs": [
    {
     "data": {
      "text/html": [
       "<strong id=\"expr\">expr:</strong> <a class=\"ProveItLink\" href=\"expr.ipynb\"><img src=\"expr.png\" style=\"display:inline;vertical-align:middle;\" /></a><br>"
      ],
      "text/plain": [
       "expr: {((w - x) / (y - z)) = ((x - w) / (z - y)) if w in Complex ,  x in Complex ,  y in Complex ,  z in Complex."
      ]
     },
     "execution_count": 2,
     "metadata": {},
     "output_type": "execute_result"
    }
   ],
   "source": [
    "# build up the expression from sub-expressions\n",
    "expr = Conditional(Equals(frac(Add(w, Neg(x)), Add(y, Neg(z))), frac(Add(x, Neg(w)), Add(z, Neg(y)))), And(InSet(w, Complex), InSet(x, Complex), InSet(y, Complex), InSet(z, Complex)))"
   ]
  },
  {
   "cell_type": "code",
   "execution_count": 3,
   "metadata": {},
   "outputs": [
    {
     "name": "stdout",
     "output_type": "stream",
     "text": [
      "Passed sanity check: expr matches stored_expr\n"
     ]
    }
   ],
   "source": [
    "# check that the built expression is the same as the stored expression\n",
    "assert expr == stored_expr\n",
    "assert expr._style_id == stored_expr._style_id\n",
    "print(\"Passed sanity check: expr matches stored_expr\")"
   ]
  },
  {
   "cell_type": "code",
   "execution_count": 4,
   "metadata": {},
   "outputs": [
    {
     "name": "stdout",
     "output_type": "stream",
     "text": [
      "\\left\\{\\frac{w - x}{y - z} = \\frac{x - w}{z - y} \\textrm{ if } w \\in \\mathbb{C} ,  x \\in \\mathbb{C} ,  y \\in \\mathbb{C} ,  z \\in \\mathbb{C}\\right..\n"
     ]
    }
   ],
   "source": [
    "# Show the LaTeX representation of the expression for convenience if you need it.\n",
    "print(expr.latex())"
   ]
  },
  {
   "cell_type": "code",
   "execution_count": 5,
   "metadata": {},
   "outputs": [
    {
     "data": {
      "text/html": [
       "<table>\n",
       "<tr><th>name</th><th>description</th><th>default</th><th>current value</th><th>related methods</th></tr><tr><td>condition_delimiter</td><td>'comma' or 'and'</td><td>comma</td><td>comma</td><td>('with_comma_delimiter', 'with_conjunction_delimiter')</td></tr>\n",
       "</table>\n"
      ],
      "text/plain": [
       "style name: condition_delimiter\n",
       "description: 'comma' or 'and'\n",
       "default: comma\n",
       "current value: comma\n",
       "related methods: ('with_comma_delimiter', 'with_conjunction_delimiter')"
      ]
     },
     "execution_count": 5,
     "metadata": {},
     "output_type": "execute_result"
    }
   ],
   "source": [
    "expr.style_options()"
   ]
  },
  {
   "cell_type": "code",
   "execution_count": 6,
   "metadata": {},
   "outputs": [
    {
     "data": {
      "text/html": [
       "<table><tr><th>&nbsp;</th><th>core type</th><th>sub-expressions</th><th>expression</th></tr>\n",
       "<tr><td>0</td><td>Conditional</td><td>value:&nbsp;1<br>condition:&nbsp;2<br></td><td><a class=\"ProveItLink\" href=\"expr.ipynb\"><img src=\"expr.png\" style=\"display:inline;vertical-align:middle;\" /></a></td></tr>\n",
       "<tr><td>1</td><td>Operation</td><td>operator:&nbsp;3<br>operands:&nbsp;4<br></td><td><a class=\"ProveItLink\" href=\"../9aa31f6c70bab0ec5c7db828c764206df87438590/expr.ipynb\"><img src=\"../9aa31f6c70bab0ec5c7db828c764206df87438590/expr.png\" style=\"display:inline;vertical-align:middle;\" /></a></td></tr>\n",
       "<tr><td>2</td><td>Operation</td><td>operator:&nbsp;5<br>operands:&nbsp;6<br></td><td><a class=\"ProveItLink\" href=\"../1f0578946b71d0d7129e82b39460480c8e526edc0/expr.ipynb\"><img src=\"../1f0578946b71d0d7129e82b39460480c8e526edc0/expr.png\" style=\"display:inline;vertical-align:middle;\" /></a></td></tr>\n",
       "<tr><td>3</td><td>Literal</td><td></td><td><a class=\"ProveItLink\" href=\"../../../../../logic/equality/__pv_it/common/731dd3955b346c1320ed5c0ba7a618bcda61457d0/expr.ipynb\"><img src=\"../../../../../logic/equality/__pv_it/common/731dd3955b346c1320ed5c0ba7a618bcda61457d0/expr.png\" style=\"display:inline;vertical-align:middle;\" /></a></td></tr>\n",
       "<tr><td>4</td><td>ExprTuple</td><td>7, 8</td><td><a class=\"ProveItLink\" href=\"../440d09c2705f262d7c04cff0881e5aa0d893650f0/expr.ipynb\"><img src=\"../440d09c2705f262d7c04cff0881e5aa0d893650f0/expr.png\" style=\"display:inline;vertical-align:middle;\" /></a></td></tr>\n",
       "<tr><td>5</td><td>Literal</td><td></td><td><a class=\"ProveItLink\" href=\"../../../../../logic/booleans/conjunction/__pv_it/common/26b94b53e70b1d77b70f0d9d4236347db37731060/expr.ipynb\"><img src=\"../../../../../logic/booleans/conjunction/__pv_it/common/26b94b53e70b1d77b70f0d9d4236347db37731060/expr.png\" style=\"display:inline;vertical-align:middle;\" /></a></td></tr>\n",
       "<tr><td>6</td><td>ExprTuple</td><td>9, 10, 11, 12</td><td><a class=\"ProveItLink\" href=\"../5483c4a809d2033139600f38ce455a48e0ac596f0/expr.ipynb\"><img src=\"../5483c4a809d2033139600f38ce455a48e0ac596f0/expr.png\" style=\"display:inline;vertical-align:middle;\" /></a></td></tr>\n",
       "<tr><td>7</td><td>Operation</td><td>operator:&nbsp;14<br>operands:&nbsp;13<br></td><td><a class=\"ProveItLink\" href=\"../d48941227aa25862876ccfd842de4db3bd4700610/expr.ipynb\"><img src=\"../d48941227aa25862876ccfd842de4db3bd4700610/expr.png\" style=\"display:inline;vertical-align:middle;\" /></a></td></tr>\n",
       "<tr><td>8</td><td>Operation</td><td>operator:&nbsp;14<br>operands:&nbsp;15<br></td><td><a class=\"ProveItLink\" href=\"../9a70f6e4d97338368328c71001ae69fbd34951680/expr.ipynb\"><img src=\"../9a70f6e4d97338368328c71001ae69fbd34951680/expr.png\" style=\"display:inline;vertical-align:middle;\" /></a></td></tr>\n",
       "<tr><td>9</td><td>Operation</td><td>operator:&nbsp;19<br>operands:&nbsp;16<br></td><td><a class=\"ProveItLink\" href=\"../1893f33101981d5e96ce57039c93b888f4c46bab0/expr.ipynb\"><img src=\"../1893f33101981d5e96ce57039c93b888f4c46bab0/expr.png\" style=\"display:inline;vertical-align:middle;\" /></a></td></tr>\n",
       "<tr><td>10</td><td>Operation</td><td>operator:&nbsp;19<br>operands:&nbsp;17<br></td><td><a class=\"ProveItLink\" href=\"../e99df808d7f7f716b0c7d8c3fb6eb50e7ecca4120/expr.ipynb\"><img src=\"../e99df808d7f7f716b0c7d8c3fb6eb50e7ecca4120/expr.png\" style=\"display:inline;vertical-align:middle;\" /></a></td></tr>\n",
       "<tr><td>11</td><td>Operation</td><td>operator:&nbsp;19<br>operands:&nbsp;18<br></td><td><a class=\"ProveItLink\" href=\"../bd2d4908c3fe32576a6449f6f239a621bdce36b50/expr.ipynb\"><img src=\"../bd2d4908c3fe32576a6449f6f239a621bdce36b50/expr.png\" style=\"display:inline;vertical-align:middle;\" /></a></td></tr>\n",
       "<tr><td>12</td><td>Operation</td><td>operator:&nbsp;19<br>operands:&nbsp;20<br></td><td><a class=\"ProveItLink\" href=\"../01acb89938603dfb04765d476abdb4aba9b654ac0/expr.ipynb\"><img src=\"../01acb89938603dfb04765d476abdb4aba9b654ac0/expr.png\" style=\"display:inline;vertical-align:middle;\" /></a></td></tr>\n",
       "<tr><td>13</td><td>ExprTuple</td><td>21, 22</td><td><a class=\"ProveItLink\" href=\"../91684c6f766a5c20f54e9974ad025e645c0262670/expr.ipynb\"><img src=\"../91684c6f766a5c20f54e9974ad025e645c0262670/expr.png\" style=\"display:inline;vertical-align:middle;\" /></a></td></tr>\n",
       "<tr><td>14</td><td>Literal</td><td></td><td><a class=\"ProveItLink\" href=\"../../common/9ecc1ae47b83f7ed759e5ea63a2023a8f2ab04800/expr.ipynb\"><img src=\"../../common/9ecc1ae47b83f7ed759e5ea63a2023a8f2ab04800/expr.png\" style=\"display:inline;vertical-align:middle;\" /></a></td></tr>\n",
       "<tr><td>15</td><td>ExprTuple</td><td>23, 24</td><td><a class=\"ProveItLink\" href=\"../db181bf504e3d6afb060fa3e78466019469b051d0/expr.ipynb\"><img src=\"../db181bf504e3d6afb060fa3e78466019469b051d0/expr.png\" style=\"display:inline;vertical-align:middle;\" /></a></td></tr>\n",
       "<tr><td>16</td><td>ExprTuple</td><td>42, 25</td><td><a class=\"ProveItLink\" href=\"../88284bf304e292309a02f153f34df6cb6b8aa65e0/expr.ipynb\"><img src=\"../88284bf304e292309a02f153f34df6cb6b8aa65e0/expr.png\" style=\"display:inline;vertical-align:middle;\" /></a></td></tr>\n",
       "<tr><td>17</td><td>ExprTuple</td><td>40, 25</td><td><a class=\"ProveItLink\" href=\"../03ad36b6bf36a33fba177fa19cdd688eda4273c70/expr.ipynb\"><img src=\"../03ad36b6bf36a33fba177fa19cdd688eda4273c70/expr.png\" style=\"display:inline;vertical-align:middle;\" /></a></td></tr>\n",
       "<tr><td>18</td><td>ExprTuple</td><td>43, 25</td><td><a class=\"ProveItLink\" href=\"../c87246e1c4fa268b09aff3021b282b685be742c00/expr.ipynb\"><img src=\"../c87246e1c4fa268b09aff3021b282b685be742c00/expr.png\" style=\"display:inline;vertical-align:middle;\" /></a></td></tr>\n",
       "<tr><td>19</td><td>Literal</td><td></td><td><a class=\"ProveItLink\" href=\"../../../../../logic/sets/membership/__pv_it/common/7171deca84f71f47a6ec7696972d1632274a12880/expr.ipynb\"><img src=\"../../../../../logic/sets/membership/__pv_it/common/7171deca84f71f47a6ec7696972d1632274a12880/expr.png\" style=\"display:inline;vertical-align:middle;\" /></a></td></tr>\n",
       "<tr><td>20</td><td>ExprTuple</td><td>41, 25</td><td><a class=\"ProveItLink\" href=\"../9e2412152d2581c4440b9a726d8b9b2351b6ed440/expr.ipynb\"><img src=\"../9e2412152d2581c4440b9a726d8b9b2351b6ed440/expr.png\" style=\"display:inline;vertical-align:middle;\" /></a></td></tr>\n",
       "<tr><td>21</td><td>Operation</td><td>operator:&nbsp;29<br>operands:&nbsp;26<br></td><td><a class=\"ProveItLink\" href=\"../8f1153426230a57194daee2f283ef39e3efcba560/expr.ipynb\"><img src=\"../8f1153426230a57194daee2f283ef39e3efcba560/expr.png\" style=\"display:inline;vertical-align:middle;\" /></a></td></tr>\n",
       "<tr><td>22</td><td>Operation</td><td>operator:&nbsp;29<br>operands:&nbsp;27<br></td><td><a class=\"ProveItLink\" href=\"../86db70f15e112efc0889f4badc1dd828cba76b330/expr.ipynb\"><img src=\"../86db70f15e112efc0889f4badc1dd828cba76b330/expr.png\" style=\"display:inline;vertical-align:middle;\" /></a></td></tr>\n",
       "<tr><td>23</td><td>Operation</td><td>operator:&nbsp;29<br>operands:&nbsp;28<br></td><td><a class=\"ProveItLink\" href=\"../1a5e14c5b6730347c0e066835d3f3348af88def00/expr.ipynb\"><img src=\"../1a5e14c5b6730347c0e066835d3f3348af88def00/expr.png\" style=\"display:inline;vertical-align:middle;\" /></a></td></tr>\n",
       "<tr><td>24</td><td>Operation</td><td>operator:&nbsp;29<br>operands:&nbsp;30<br></td><td><a class=\"ProveItLink\" href=\"../7be23f905a5920f682a80bc775cf091bb3dc1a2e0/expr.ipynb\"><img src=\"../7be23f905a5920f682a80bc775cf091bb3dc1a2e0/expr.png\" style=\"display:inline;vertical-align:middle;\" /></a></td></tr>\n",
       "<tr><td>25</td><td>Literal</td><td></td><td><a class=\"ProveItLink\" href=\"../../../../number_sets/complex_numbers/__pv_it/common/fbfabc61f6f66350b130e5a55a72b80825c065f90/expr.ipynb\"><img src=\"../../../../number_sets/complex_numbers/__pv_it/common/fbfabc61f6f66350b130e5a55a72b80825c065f90/expr.png\" style=\"display:inline;vertical-align:middle;\" /></a></td></tr>\n",
       "<tr><td>26</td><td>ExprTuple</td><td>42, 31</td><td><a class=\"ProveItLink\" href=\"../13bdc886c059d4f782944f61e73d47940e5bf1d40/expr.ipynb\"><img src=\"../13bdc886c059d4f782944f61e73d47940e5bf1d40/expr.png\" style=\"display:inline;vertical-align:middle;\" /></a></td></tr>\n",
       "<tr><td>27</td><td>ExprTuple</td><td>43, 32</td><td><a class=\"ProveItLink\" href=\"../309b77aed4d77356fcaa6c12f829fc443933219f0/expr.ipynb\"><img src=\"../309b77aed4d77356fcaa6c12f829fc443933219f0/expr.png\" style=\"display:inline;vertical-align:middle;\" /></a></td></tr>\n",
       "<tr><td>28</td><td>ExprTuple</td><td>40, 33</td><td><a class=\"ProveItLink\" href=\"../1abb05e7e942aa2d022dffe7d8b3f714e35867a40/expr.ipynb\"><img src=\"../1abb05e7e942aa2d022dffe7d8b3f714e35867a40/expr.png\" style=\"display:inline;vertical-align:middle;\" /></a></td></tr>\n",
       "<tr><td>29</td><td>Literal</td><td></td><td><a class=\"ProveItLink\" href=\"../../../../addition/__pv_it/common/1f38fe5cce441387feef296e2c0a2eac260bb4f30/expr.ipynb\"><img src=\"../../../../addition/__pv_it/common/1f38fe5cce441387feef296e2c0a2eac260bb4f30/expr.png\" style=\"display:inline;vertical-align:middle;\" /></a></td></tr>\n",
       "<tr><td>30</td><td>ExprTuple</td><td>41, 34</td><td><a class=\"ProveItLink\" href=\"../e8b91d8ffcb8085867278f5cbdb2761977a5b2d80/expr.ipynb\"><img src=\"../e8b91d8ffcb8085867278f5cbdb2761977a5b2d80/expr.png\" style=\"display:inline;vertical-align:middle;\" /></a></td></tr>\n",
       "<tr><td>31</td><td>Operation</td><td>operator:&nbsp;38<br>operand:&nbsp;40<br></td><td><a class=\"ProveItLink\" href=\"../7a5e0bad469147729b85543441158feb65dbfdf80/expr.ipynb\"><img src=\"../7a5e0bad469147729b85543441158feb65dbfdf80/expr.png\" style=\"display:inline;vertical-align:middle;\" /></a></td></tr>\n",
       "<tr><td>32</td><td>Operation</td><td>operator:&nbsp;38<br>operand:&nbsp;41<br></td><td><a class=\"ProveItLink\" href=\"../1a6bf1edfd29e57c43c27e5f651aa5c7565aae7d0/expr.ipynb\"><img src=\"../1a6bf1edfd29e57c43c27e5f651aa5c7565aae7d0/expr.png\" style=\"display:inline;vertical-align:middle;\" /></a></td></tr>\n",
       "<tr><td>33</td><td>Operation</td><td>operator:&nbsp;38<br>operand:&nbsp;42<br></td><td><a class=\"ProveItLink\" href=\"../3df61841af7d65e0e6e3e2b1464017cd0603b5860/expr.ipynb\"><img src=\"../3df61841af7d65e0e6e3e2b1464017cd0603b5860/expr.png\" style=\"display:inline;vertical-align:middle;\" /></a></td></tr>\n",
       "<tr><td>34</td><td>Operation</td><td>operator:&nbsp;38<br>operand:&nbsp;43<br></td><td><a class=\"ProveItLink\" href=\"../10d0c7f6b141ca66da6a9934b96827cd1cdf29b40/expr.ipynb\"><img src=\"../10d0c7f6b141ca66da6a9934b96827cd1cdf29b40/expr.png\" style=\"display:inline;vertical-align:middle;\" /></a></td></tr>\n",
       "<tr><td>35</td><td>ExprTuple</td><td>40</td><td><a class=\"ProveItLink\" href=\"../../../../../__pv_it/common/a49c8f25f899a16b1dbcf2257505d5464a9a7bb50/expr.ipynb\"><img src=\"../../../../../__pv_it/common/a49c8f25f899a16b1dbcf2257505d5464a9a7bb50/expr.png\" style=\"display:inline;vertical-align:middle;\" /></a></td></tr>\n",
       "<tr><td>36</td><td>ExprTuple</td><td>41</td><td><a class=\"ProveItLink\" href=\"../47de76b164aea6d2b520c3c001d7a39108b032390/expr.ipynb\"><img src=\"../47de76b164aea6d2b520c3c001d7a39108b032390/expr.png\" style=\"display:inline;vertical-align:middle;\" /></a></td></tr>\n",
       "<tr><td>37</td><td>ExprTuple</td><td>42</td><td><a class=\"ProveItLink\" href=\"../945b49ec9803d54b76d7c577e7cc827b56906c010/expr.ipynb\"><img src=\"../945b49ec9803d54b76d7c577e7cc827b56906c010/expr.png\" style=\"display:inline;vertical-align:middle;\" /></a></td></tr>\n",
       "<tr><td>38</td><td>Literal</td><td></td><td><a class=\"ProveItLink\" href=\"../../../../negation/__pv_it/common/31a69a5c76809537045e3884859f178d8d9c845c0/expr.ipynb\"><img src=\"../../../../negation/__pv_it/common/31a69a5c76809537045e3884859f178d8d9c845c0/expr.png\" style=\"display:inline;vertical-align:middle;\" /></a></td></tr>\n",
       "<tr><td>39</td><td>ExprTuple</td><td>43</td><td><a class=\"ProveItLink\" href=\"../c1ce6adcc1476a151f43f5b1e691eceeed8d79ab0/expr.ipynb\"><img src=\"../c1ce6adcc1476a151f43f5b1e691eceeed8d79ab0/expr.png\" style=\"display:inline;vertical-align:middle;\" /></a></td></tr>\n",
       "<tr><td>40</td><td>Variable</td><td></td><td><a class=\"ProveItLink\" href=\"../../../../../__pv_it/common/a2581dc5df71d9a30bad37de14965fa5fec97a240/expr.ipynb\"><img src=\"../../../../../__pv_it/common/a2581dc5df71d9a30bad37de14965fa5fec97a240/expr.png\" style=\"display:inline;vertical-align:middle;\" /></a></td></tr>\n",
       "<tr><td>41</td><td>Variable</td><td></td><td><a class=\"ProveItLink\" href=\"../../../../../__pv_it/common/fab62f2bacea351a074e2d41fad4d8b09cef5e740/expr.ipynb\"><img src=\"../../../../../__pv_it/common/fab62f2bacea351a074e2d41fad4d8b09cef5e740/expr.png\" style=\"display:inline;vertical-align:middle;\" /></a></td></tr>\n",
       "<tr><td>42</td><td>Variable</td><td></td><td><a class=\"ProveItLink\" href=\"../../../../../__pv_it/common/ad7999194dd5758664dd4d6463f0bc5aedf7410c0/expr.ipynb\"><img src=\"../../../../../__pv_it/common/ad7999194dd5758664dd4d6463f0bc5aedf7410c0/expr.png\" style=\"display:inline;vertical-align:middle;\" /></a></td></tr>\n",
       "<tr><td>43</td><td>Variable</td><td></td><td><a class=\"ProveItLink\" href=\"../../../../../__pv_it/common/0f21cbfd5644a1cae6781c1d58354abc2ffbc9000/expr.ipynb\"><img src=\"../../../../../__pv_it/common/0f21cbfd5644a1cae6781c1d58354abc2ffbc9000/expr.png\" style=\"display:inline;vertical-align:middle;\" /></a></td></tr>\n",
       "</table>\n"
      ],
      "text/plain": [
       "0. {((w - x) / (y - z)) = ((x - w) / (z - y)) if w in Complex ,  x in Complex ,  y in Complex ,  z in Complex.\n",
       "   core type: Conditional\n",
       "   value: 1\n",
       "   condition: 2\n",
       "1. ((w - x) / (y - z)) = ((x - w) / (z - y))\n",
       "   core type: Operation\n",
       "   operator: 3\n",
       "   operands: 4\n",
       "2. (w in Complex) and (x in Complex) and (y in Complex) and (z in Complex)\n",
       "   core type: Operation\n",
       "   operator: 5\n",
       "   operands: 6\n",
       "3. =\n",
       "   core type: Literal\n",
       "   sub-expressions: \n",
       "4. ((w - x) / (y - z), (x - w) / (z - y))\n",
       "   core type: ExprTuple\n",
       "   sub-expressions: 7, 8\n",
       "5. and\n",
       "   core type: Literal\n",
       "   sub-expressions: \n",
       "6. (w in Complex, x in Complex, y in Complex, z in Complex)\n",
       "   core type: ExprTuple\n",
       "   sub-expressions: 9, 10, 11, 12\n",
       "7. (w - x) / (y - z)\n",
       "   core type: Operation\n",
       "   operator: 14\n",
       "   operands: 13\n",
       "8. (x - w) / (z - y)\n",
       "   core type: Operation\n",
       "   operator: 14\n",
       "   operands: 15\n",
       "9. w in Complex\n",
       "   core type: Operation\n",
       "   operator: 19\n",
       "   operands: 16\n",
       "10. x in Complex\n",
       "    core type: Operation\n",
       "    operator: 19\n",
       "    operands: 17\n",
       "11. y in Complex\n",
       "    core type: Operation\n",
       "    operator: 19\n",
       "    operands: 18\n",
       "12. z in Complex\n",
       "    core type: Operation\n",
       "    operator: 19\n",
       "    operands: 20\n",
       "13. (w - x, y - z)\n",
       "    core type: ExprTuple\n",
       "    sub-expressions: 21, 22\n",
       "14. /\n",
       "    core type: Literal\n",
       "    sub-expressions: \n",
       "15. (x - w, z - y)\n",
       "    core type: ExprTuple\n",
       "    sub-expressions: 23, 24\n",
       "16. (w, Complex)\n",
       "    core type: ExprTuple\n",
       "    sub-expressions: 42, 25\n",
       "17. (x, Complex)\n",
       "    core type: ExprTuple\n",
       "    sub-expressions: 40, 25\n",
       "18. (y, Complex)\n",
       "    core type: ExprTuple\n",
       "    sub-expressions: 43, 25\n",
       "19. in\n",
       "    core type: Literal\n",
       "    sub-expressions: \n",
       "20. (z, Complex)\n",
       "    core type: ExprTuple\n",
       "    sub-expressions: 41, 25\n",
       "21. w - x\n",
       "    core type: Operation\n",
       "    operator: 29\n",
       "    operands: 26\n",
       "22. y - z\n",
       "    core type: Operation\n",
       "    operator: 29\n",
       "    operands: 27\n",
       "23. x - w\n",
       "    core type: Operation\n",
       "    operator: 29\n",
       "    operands: 28\n",
       "24. z - y\n",
       "    core type: Operation\n",
       "    operator: 29\n",
       "    operands: 30\n",
       "25. Complex\n",
       "    core type: Literal\n",
       "    sub-expressions: \n",
       "26. (w, -x)\n",
       "    core type: ExprTuple\n",
       "    sub-expressions: 42, 31\n",
       "27. (y, -z)\n",
       "    core type: ExprTuple\n",
       "    sub-expressions: 43, 32\n",
       "28. (x, -w)\n",
       "    core type: ExprTuple\n",
       "    sub-expressions: 40, 33\n",
       "29. +\n",
       "    core type: Literal\n",
       "    sub-expressions: \n",
       "30. (z, -y)\n",
       "    core type: ExprTuple\n",
       "    sub-expressions: 41, 34\n",
       "31. -x\n",
       "    core type: Operation\n",
       "    operator: 38\n",
       "    operand: 40\n",
       "32. -z\n",
       "    core type: Operation\n",
       "    operator: 38\n",
       "    operand: 41\n",
       "33. -w\n",
       "    core type: Operation\n",
       "    operator: 38\n",
       "    operand: 42\n",
       "34. -y\n",
       "    core type: Operation\n",
       "    operator: 38\n",
       "    operand: 43\n",
       "35. (x)\n",
       "    core type: ExprTuple\n",
       "    sub-expressions: 40\n",
       "36. (z)\n",
       "    core type: ExprTuple\n",
       "    sub-expressions: 41\n",
       "37. (w)\n",
       "    core type: ExprTuple\n",
       "    sub-expressions: 42\n",
       "38. -\n",
       "    core type: Literal\n",
       "    sub-expressions: \n",
       "39. (y)\n",
       "    core type: ExprTuple\n",
       "    sub-expressions: 43\n",
       "40. x\n",
       "    core type: Variable\n",
       "    sub-expressions: \n",
       "41. z\n",
       "    core type: Variable\n",
       "    sub-expressions: \n",
       "42. w\n",
       "    core type: Variable\n",
       "    sub-expressions: \n",
       "43. y\n",
       "    core type: Variable\n",
       "    sub-expressions: "
      ]
     },
     "execution_count": 6,
     "metadata": {},
     "output_type": "execute_result"
    }
   ],
   "source": [
    "# display the expression information\n",
    "expr.expr_info()"
   ]
  },
  {
   "cell_type": "code",
   "execution_count": null,
   "metadata": {},
   "outputs": [],
   "source": []
  }
 ],
 "metadata": {
  "kernelspec": {
   "display_name": "Python 3",
   "language": "python",
   "name": "python3"
  }
 },
 "nbformat": 4,
 "nbformat_minor": 0
}