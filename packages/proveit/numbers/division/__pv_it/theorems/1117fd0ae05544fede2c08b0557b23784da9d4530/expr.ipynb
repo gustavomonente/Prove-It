{
 "cells": [
  {
   "cell_type": "markdown",
   "metadata": {},
   "source": [
    "Expression of type <a class=\"ProveItLink\" href=\"../../../../../../../doc/html/api/proveit.logic.Forall.html\">Forall</a>\n",
    "=======================\n",
    "# from the theory of <a class=\"ProveItLink\" href=\"../../../_theory_nbs_/theory.ipynb\">proveit.numbers.division</a>"
   ]
  },
  {
   "cell_type": "code",
   "execution_count": 1,
   "metadata": {},
   "outputs": [],
   "source": [
    "import proveit\n",
    "# Automation is not needed when building an expression:\n",
    "proveit.defaults.automation = False # This will speed things up.\n",
    "proveit.defaults.inline_pngs = False # Makes files smaller.\n",
    "%load_expr # Load the stored expression as 'stored_expr'\n",
    "# import Expression classes needed to build the expression\n",
    "from proveit import x, y\n",
    "from proveit.logic import Equals, Forall, NotEquals\n",
    "from proveit.numbers import Complex, Mult, frac, zero"
   ]
  },
  {
   "cell_type": "code",
   "execution_count": 2,
   "metadata": {},
   "outputs": [
    {
     "data": {
      "text/html": [
       "<strong id=\"expr\">expr:</strong> <a class=\"ProveItLink\" href=\"expr.ipynb\"><img src=\"expr.png\" style=\"display:inline;vertical-align:middle;\" /></a><br>"
      ],
      "text/plain": [
       "expr: forall_{x, y in Complex | x != 0} (((x * y) / x) = y)"
      ]
     },
     "execution_count": 2,
     "metadata": {},
     "output_type": "execute_result"
    }
   ],
   "source": [
    "# build up the expression from sub-expressions\n",
    "expr = Forall([x, y], Equals(frac(Mult(x, y), x), y), domains = [Complex, Complex], condition = NotEquals(x, zero))"
   ]
  },
  {
   "cell_type": "code",
   "execution_count": 3,
   "metadata": {},
   "outputs": [
    {
     "name": "stdout",
     "output_type": "stream",
     "text": [
      "Passed sanity check: expr matches stored_expr\n"
     ]
    }
   ],
   "source": [
    "# check that the built expression is the same as the stored expression\n",
    "assert expr == stored_expr\n",
    "assert expr._style_id == stored_expr._style_id\n",
    "print(\"Passed sanity check: expr matches stored_expr\")"
   ]
  },
  {
   "cell_type": "code",
   "execution_count": 4,
   "metadata": {},
   "outputs": [
    {
     "name": "stdout",
     "output_type": "stream",
     "text": [
      "\\forall_{x, y \\in \\mathbb{C}~|~x \\neq 0}~\\left(\\frac{x \\cdot y}{x} = y\\right)\n"
     ]
    }
   ],
   "source": [
    "# Show the LaTeX representation of the expression for convenience if you need it.\n",
    "print(expr.latex())"
   ]
  },
  {
   "cell_type": "code",
   "execution_count": 5,
   "metadata": {},
   "outputs": [
    {
     "data": {
      "text/html": [
       "<table><tr><th>&nbsp;</th><th>core type</th><th>sub-expressions</th><th>expression</th></tr>\n",
       "<tr><td>0</td><td>Operation</td><td>operator:&nbsp;1<br>operand:&nbsp;2<br></td><td><a class=\"ProveItLink\" href=\"expr.ipynb\"><img src=\"expr.png\" style=\"display:inline;vertical-align:middle;\" /></a></td></tr>\n",
       "<tr><td>1</td><td>Literal</td><td></td><td><a class=\"ProveItLink\" href=\"../../../../../logic/booleans/quantification/universality/__pv_it/common/083d2baa0b8ecab1d230f9ec29a15aa1355809fb0/expr.ipynb\"><img src=\"../../../../../logic/booleans/quantification/universality/__pv_it/common/083d2baa0b8ecab1d230f9ec29a15aa1355809fb0/expr.png\" style=\"display:inline;vertical-align:middle;\" /></a></td></tr>\n",
       "<tr><td>2</td><td>Lambda</td><td>parameters:&nbsp;25<br>body:&nbsp;3<br></td><td><a class=\"ProveItLink\" href=\"../dd9c31311126189df290059bc2a46255d25a8ef60/expr.ipynb\"><img src=\"../dd9c31311126189df290059bc2a46255d25a8ef60/expr.png\" style=\"display:inline;vertical-align:middle;\" /></a></td></tr>\n",
       "<tr><td>3</td><td>Conditional</td><td>value:&nbsp;4<br>condition:&nbsp;5<br></td><td><a class=\"ProveItLink\" href=\"../7affac1d1203ccbe4e8be5f8c4d6786bc0d698340/expr.ipynb\"><img src=\"../7affac1d1203ccbe4e8be5f8c4d6786bc0d698340/expr.png\" style=\"display:inline;vertical-align:middle;\" /></a></td></tr>\n",
       "<tr><td>4</td><td>Operation</td><td>operator:&nbsp;6<br>operands:&nbsp;7<br></td><td><a class=\"ProveItLink\" href=\"../aa73c333c1d8b96fdeeb9e0ba4c21c72fca8bf5e0/expr.ipynb\"><img src=\"../aa73c333c1d8b96fdeeb9e0ba4c21c72fca8bf5e0/expr.png\" style=\"display:inline;vertical-align:middle;\" /></a></td></tr>\n",
       "<tr><td>5</td><td>Operation</td><td>operator:&nbsp;8<br>operands:&nbsp;9<br></td><td><a class=\"ProveItLink\" href=\"../fec3b8e5576ef534a4afa2fe78f1ad1be5c7eb4c0/expr.ipynb\"><img src=\"../fec3b8e5576ef534a4afa2fe78f1ad1be5c7eb4c0/expr.png\" style=\"display:inline;vertical-align:middle;\" /></a></td></tr>\n",
       "<tr><td>6</td><td>Literal</td><td></td><td><a class=\"ProveItLink\" href=\"../../../../../logic/equality/__pv_it/common/fb96dc12b2aa8801dda64d0132b396c63d1502bb0/expr.ipynb\"><img src=\"../../../../../logic/equality/__pv_it/common/fb96dc12b2aa8801dda64d0132b396c63d1502bb0/expr.png\" style=\"display:inline;vertical-align:middle;\" /></a></td></tr>\n",
       "<tr><td>7</td><td>ExprTuple</td><td>10, 27</td><td><a class=\"ProveItLink\" href=\"../7f8b840de21408cf41194d56d3b61a10cc213b780/expr.ipynb\"><img src=\"../7f8b840de21408cf41194d56d3b61a10cc213b780/expr.png\" style=\"display:inline;vertical-align:middle;\" /></a></td></tr>\n",
       "<tr><td>8</td><td>Literal</td><td></td><td><a class=\"ProveItLink\" href=\"../../../../../logic/booleans/conjunction/__pv_it/common/42118ff318bd65d98b1393f64ce7c2269feef76e0/expr.ipynb\"><img src=\"../../../../../logic/booleans/conjunction/__pv_it/common/42118ff318bd65d98b1393f64ce7c2269feef76e0/expr.png\" style=\"display:inline;vertical-align:middle;\" /></a></td></tr>\n",
       "<tr><td>9</td><td>ExprTuple</td><td>11, 12, 13</td><td><a class=\"ProveItLink\" href=\"../f36d7f434fed5cc9bdb2cb07e610f54d1210d1d40/expr.ipynb\"><img src=\"../f36d7f434fed5cc9bdb2cb07e610f54d1210d1d40/expr.png\" style=\"display:inline;vertical-align:middle;\" /></a></td></tr>\n",
       "<tr><td>10</td><td>Operation</td><td>operator:&nbsp;14<br>operands:&nbsp;15<br></td><td><a class=\"ProveItLink\" href=\"../bc85cc1d6d6c93a8e24efdb304a5244039ae9adc0/expr.ipynb\"><img src=\"../bc85cc1d6d6c93a8e24efdb304a5244039ae9adc0/expr.png\" style=\"display:inline;vertical-align:middle;\" /></a></td></tr>\n",
       "<tr><td>11</td><td>Operation</td><td>operator:&nbsp;17<br>operands:&nbsp;16<br></td><td><a class=\"ProveItLink\" href=\"../665eb28bdef08717ca4abe8886f256e37ecbb1210/expr.ipynb\"><img src=\"../665eb28bdef08717ca4abe8886f256e37ecbb1210/expr.png\" style=\"display:inline;vertical-align:middle;\" /></a></td></tr>\n",
       "<tr><td>12</td><td>Operation</td><td>operator:&nbsp;17<br>operands:&nbsp;18<br></td><td><a class=\"ProveItLink\" href=\"../4781579f73690b602fbe14fc22acbb18872578820/expr.ipynb\"><img src=\"../4781579f73690b602fbe14fc22acbb18872578820/expr.png\" style=\"display:inline;vertical-align:middle;\" /></a></td></tr>\n",
       "<tr><td>13</td><td>Operation</td><td>operator:&nbsp;19<br>operands:&nbsp;20<br></td><td><a class=\"ProveItLink\" href=\"../790116a9f1f1c07533579dee2d949fa1632065580/expr.ipynb\"><img src=\"../790116a9f1f1c07533579dee2d949fa1632065580/expr.png\" style=\"display:inline;vertical-align:middle;\" /></a></td></tr>\n",
       "<tr><td>14</td><td>Literal</td><td></td><td><a class=\"ProveItLink\" href=\"../../common/a2a633e1e3c749fb1f2692466b287b6348c5de840/expr.ipynb\"><img src=\"../../common/a2a633e1e3c749fb1f2692466b287b6348c5de840/expr.png\" style=\"display:inline;vertical-align:middle;\" /></a></td></tr>\n",
       "<tr><td>15</td><td>ExprTuple</td><td>21, 26</td><td><a class=\"ProveItLink\" href=\"../6c6b25660039729f645f39c1e18068005469cec70/expr.ipynb\"><img src=\"../6c6b25660039729f645f39c1e18068005469cec70/expr.png\" style=\"display:inline;vertical-align:middle;\" /></a></td></tr>\n",
       "<tr><td>16</td><td>ExprTuple</td><td>26, 22</td><td><a class=\"ProveItLink\" href=\"../75ad744bb2803b43009bc0873a3361232799faaf0/expr.ipynb\"><img src=\"../75ad744bb2803b43009bc0873a3361232799faaf0/expr.png\" style=\"display:inline;vertical-align:middle;\" /></a></td></tr>\n",
       "<tr><td>17</td><td>Literal</td><td></td><td><a class=\"ProveItLink\" href=\"../../../../../logic/sets/membership/__pv_it/common/477487d8796864d23d5810f83761435f25167f690/expr.ipynb\"><img src=\"../../../../../logic/sets/membership/__pv_it/common/477487d8796864d23d5810f83761435f25167f690/expr.png\" style=\"display:inline;vertical-align:middle;\" /></a></td></tr>\n",
       "<tr><td>18</td><td>ExprTuple</td><td>27, 22</td><td><a class=\"ProveItLink\" href=\"../b7a9fe0b18f49d84bc924e84c1b67da8918783610/expr.ipynb\"><img src=\"../b7a9fe0b18f49d84bc924e84c1b67da8918783610/expr.png\" style=\"display:inline;vertical-align:middle;\" /></a></td></tr>\n",
       "<tr><td>19</td><td>Literal</td><td></td><td><a class=\"ProveItLink\" href=\"../../../../../logic/equality/__pv_it/common/d96270bc9bb1bad54f773b1c04bfb343a739642c0/expr.ipynb\"><img src=\"../../../../../logic/equality/__pv_it/common/d96270bc9bb1bad54f773b1c04bfb343a739642c0/expr.png\" style=\"display:inline;vertical-align:middle;\" /></a></td></tr>\n",
       "<tr><td>20</td><td>ExprTuple</td><td>26, 23</td><td><a class=\"ProveItLink\" href=\"../115c9c398d68d2c3e54721f752d974c20fc0a3c00/expr.ipynb\"><img src=\"../115c9c398d68d2c3e54721f752d974c20fc0a3c00/expr.png\" style=\"display:inline;vertical-align:middle;\" /></a></td></tr>\n",
       "<tr><td>21</td><td>Operation</td><td>operator:&nbsp;24<br>operands:&nbsp;25<br></td><td><a class=\"ProveItLink\" href=\"../ccb4fde553d01c1956a4ff222a6b3d6b5ff2c2080/expr.ipynb\"><img src=\"../ccb4fde553d01c1956a4ff222a6b3d6b5ff2c2080/expr.png\" style=\"display:inline;vertical-align:middle;\" /></a></td></tr>\n",
       "<tr><td>22</td><td>Literal</td><td></td><td><a class=\"ProveItLink\" href=\"../../../../number_sets/complex_numbers/__pv_it/common/d18a028138f659eda00de597c28a3447fe87eb100/expr.ipynb\"><img src=\"../../../../number_sets/complex_numbers/__pv_it/common/d18a028138f659eda00de597c28a3447fe87eb100/expr.png\" style=\"display:inline;vertical-align:middle;\" /></a></td></tr>\n",
       "<tr><td>23</td><td>Literal</td><td></td><td><a class=\"ProveItLink\" href=\"../../../../numerals/__pv_it/common/7d0a36793ffe8d307a5c120ee5598162e8cd2db10/expr.ipynb\"><img src=\"../../../../numerals/__pv_it/common/7d0a36793ffe8d307a5c120ee5598162e8cd2db10/expr.png\" style=\"display:inline;vertical-align:middle;\" /></a></td></tr>\n",
       "<tr><td>24</td><td>Literal</td><td></td><td><a class=\"ProveItLink\" href=\"../../../../multiplication/__pv_it/common/ed719cef37831779c16481533a4d380a2f95ab270/expr.ipynb\"><img src=\"../../../../multiplication/__pv_it/common/ed719cef37831779c16481533a4d380a2f95ab270/expr.png\" style=\"display:inline;vertical-align:middle;\" /></a></td></tr>\n",
       "<tr><td>25</td><td>ExprTuple</td><td>26, 27</td><td><a class=\"ProveItLink\" href=\"../1d0941a32bac19e80ab1cf703883be0351553a410/expr.ipynb\"><img src=\"../1d0941a32bac19e80ab1cf703883be0351553a410/expr.png\" style=\"display:inline;vertical-align:middle;\" /></a></td></tr>\n",
       "<tr><td>26</td><td>Variable</td><td></td><td><a class=\"ProveItLink\" href=\"../../../../../__pv_it/common/a0d9d672aa5e272d907247690c152cc2c6daafb70/expr.ipynb\"><img src=\"../../../../../__pv_it/common/a0d9d672aa5e272d907247690c152cc2c6daafb70/expr.png\" style=\"display:inline;vertical-align:middle;\" /></a></td></tr>\n",
       "<tr><td>27</td><td>Variable</td><td></td><td><a class=\"ProveItLink\" href=\"../../../../../__pv_it/common/ff7dba4ef0bbe791ab573bf2d9c220a304399ac80/expr.ipynb\"><img src=\"../../../../../__pv_it/common/ff7dba4ef0bbe791ab573bf2d9c220a304399ac80/expr.png\" style=\"display:inline;vertical-align:middle;\" /></a></td></tr>\n",
       "</table>\n"
      ],
      "text/plain": [
       "0. forall_{x, y in Complex | x != 0} (((x * y) / x) = y)\n",
       "   core type: Operation\n",
       "   operator: 1\n",
       "   operand: 2\n",
       "1. forall\n",
       "   core type: Literal\n",
       "   sub-expressions: \n",
       "2. (x, y) -> {((x * y) / x) = y if x in Complex ,  y in Complex ,  x != 0.\n",
       "   core type: Lambda\n",
       "   parameters: 25\\n   body: 3\n",
       "3. {((x * y) / x) = y if x in Complex ,  y in Complex ,  x != 0.\n",
       "   core type: Conditional\n",
       "   value: 4\n",
       "   condition: 5\n",
       "4. ((x * y) / x) = y\n",
       "   core type: Operation\n",
       "   operator: 6\n",
       "   operands: 7\n",
       "5. (x in Complex) and (y in Complex) and (x != 0)\n",
       "   core type: Operation\n",
       "   operator: 8\n",
       "   operands: 9\n",
       "6. =\n",
       "   core type: Literal\n",
       "   sub-expressions: \n",
       "7. ((x * y) / x, y)\n",
       "   core type: ExprTuple\n",
       "   sub-expressions: 10, 27\n",
       "8. and\n",
       "   core type: Literal\n",
       "   sub-expressions: \n",
       "9. (x in Complex, y in Complex, x != 0)\n",
       "   core type: ExprTuple\n",
       "   sub-expressions: 11, 12, 13\n",
       "10. (x * y) / x\n",
       "    core type: Operation\n",
       "    operator: 14\n",
       "    operands: 15\n",
       "11. x in Complex\n",
       "    core type: Operation\n",
       "    operator: 17\n",
       "    operands: 16\n",
       "12. y in Complex\n",
       "    core type: Operation\n",
       "    operator: 17\n",
       "    operands: 18\n",
       "13. x != 0\n",
       "    core type: Operation\n",
       "    operator: 19\n",
       "    operands: 20\n",
       "14. /\n",
       "    core type: Literal\n",
       "    sub-expressions: \n",
       "15. (x * y, x)\n",
       "    core type: ExprTuple\n",
       "    sub-expressions: 21, 26\n",
       "16. (x, Complex)\n",
       "    core type: ExprTuple\n",
       "    sub-expressions: 26, 22\n",
       "17. in\n",
       "    core type: Literal\n",
       "    sub-expressions: \n",
       "18. (y, Complex)\n",
       "    core type: ExprTuple\n",
       "    sub-expressions: 27, 22\n",
       "19. !=\n",
       "    core type: Literal\n",
       "    sub-expressions: \n",
       "20. (x, 0)\n",
       "    core type: ExprTuple\n",
       "    sub-expressions: 26, 23\n",
       "21. x * y\n",
       "    core type: Operation\n",
       "    operator: 24\n",
       "    operands: 25\n",
       "22. Complex\n",
       "    core type: Literal\n",
       "    sub-expressions: \n",
       "23. 0\n",
       "    core type: Literal\n",
       "    sub-expressions: \n",
       "24. *\n",
       "    core type: Literal\n",
       "    sub-expressions: \n",
       "25. (x, y)\n",
       "    core type: ExprTuple\n",
       "    sub-expressions: 26, 27\n",
       "26. x\n",
       "    core type: Variable\n",
       "    sub-expressions: \n",
       "27. y\n",
       "    core type: Variable\n",
       "    sub-expressions: "
      ]
     },
     "execution_count": 5,
     "metadata": {},
     "output_type": "execute_result"
    }
   ],
   "source": [
    "# display the expression information\n",
    "expr.expr_info()"
   ]
  },
  {
   "cell_type": "code",
   "execution_count": null,
   "metadata": {},
   "outputs": [],
   "source": []
  }
 ],
 "metadata": {
  "kernelspec": {
   "display_name": "Python 3",
   "language": "python",
   "name": "python3"
  }
 },
 "nbformat": 4,
 "nbformat_minor": 0
}