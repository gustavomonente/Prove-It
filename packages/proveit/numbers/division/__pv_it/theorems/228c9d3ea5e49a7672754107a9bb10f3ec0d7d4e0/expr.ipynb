{
 "cells": [
  {
   "cell_type": "markdown",
   "metadata": {},
   "source": [
    "Expression of type <a class=\"ProveItLink\" href=\"../../../../../../../doc/html/api/proveit.ExprTuple.html\">ExprTuple</a>\n",
    "=======================\n",
    "# from the theory of <a class=\"ProveItLink\" href=\"../../../_theory_nbs_/theory.ipynb\">proveit.numbers.division</a>"
   ]
  },
  {
   "cell_type": "code",
   "execution_count": 1,
   "metadata": {},
   "outputs": [],
   "source": [
    "import proveit\n",
    "# Automation is not needed when building an expression:\n",
    "proveit.defaults.automation = False # This will speed things up.\n",
    "proveit.defaults.inline_pngs = False # Makes files smaller.\n",
    "%load_expr # Load the stored expression as 'stored_expr'\n",
    "# import Expression classes needed to build the expression\n",
    "from proveit import Conditional, ExprTuple, Lambda, a, b, c, d, e\n",
    "from proveit.logic import And, Equals, InSet, NotEquals\n",
    "from proveit.numbers import Complex, Mult, frac, zero"
   ]
  },
  {
   "cell_type": "code",
   "execution_count": 2,
   "metadata": {},
   "outputs": [
    {
     "data": {
      "text/html": [
       "<strong id=\"expr\">expr:</strong> <a class=\"ProveItLink\" href=\"expr.ipynb\"><img src=\"expr.png\" style=\"display:inline;vertical-align:middle;\" /></a><br>"
      ],
      "text/plain": [
       "expr: ((a, b, c, d, e) -> {((a / (b * c)) * ((c * d) / e)) = ((a / b) * (d / e)) if a in Complex ,  b in Complex ,  c in Complex ,  d in Complex ,  e in Complex ,  c != 0.)"
      ]
     },
     "execution_count": 2,
     "metadata": {},
     "output_type": "execute_result"
    }
   ],
   "source": [
    "# build up the expression from sub-expressions\n",
    "expr = ExprTuple(Lambda([a, b, c, d, e], Conditional(Equals(Mult(frac(a, Mult(b, c)), frac(Mult(c, d), e)), Mult(frac(a, b), frac(d, e))), And(InSet(a, Complex), InSet(b, Complex), InSet(c, Complex), InSet(d, Complex), InSet(e, Complex), NotEquals(c, zero)))))"
   ]
  },
  {
   "cell_type": "code",
   "execution_count": 3,
   "metadata": {},
   "outputs": [
    {
     "name": "stdout",
     "output_type": "stream",
     "text": [
      "Passed sanity check: expr matches stored_expr\n"
     ]
    }
   ],
   "source": [
    "# check that the built expression is the same as the stored expression\n",
    "assert expr == stored_expr\n",
    "assert expr._style_id == stored_expr._style_id\n",
    "print(\"Passed sanity check: expr matches stored_expr\")"
   ]
  },
  {
   "cell_type": "code",
   "execution_count": 4,
   "metadata": {},
   "outputs": [
    {
     "name": "stdout",
     "output_type": "stream",
     "text": [
      "\\left(\\left(a, b, c, d, e\\right) \\mapsto \\left\\{\\left(\\frac{a}{b \\cdot c} \\cdot \\frac{c \\cdot d}{e}\\right) = \\left(\\frac{a}{b} \\cdot \\frac{d}{e}\\right) \\textrm{ if } a \\in \\mathbb{C} ,  b \\in \\mathbb{C} ,  c \\in \\mathbb{C} ,  d \\in \\mathbb{C} ,  e \\in \\mathbb{C} ,  c \\neq 0\\right..\\right)\n"
     ]
    }
   ],
   "source": [
    "# Show the LaTeX representation of the expression for convenience if you need it.\n",
    "print(expr.latex())"
   ]
  },
  {
   "cell_type": "code",
   "execution_count": 5,
   "metadata": {},
   "outputs": [
    {
     "data": {
      "text/html": [
       "no style options"
      ],
      "text/plain": [
       "no style options"
      ]
     },
     "execution_count": 5,
     "metadata": {},
     "output_type": "execute_result"
    }
   ],
   "source": [
    "expr.style_options()"
   ]
  },
  {
   "cell_type": "code",
   "execution_count": 6,
   "metadata": {},
   "outputs": [
    {
     "data": {
      "text/html": [
       "<table><tr><th>&nbsp;</th><th>core type</th><th>sub-expressions</th><th>expression</th></tr>\n",
       "<tr><td>0</td><td>ExprTuple</td><td>1</td><td><a class=\"ProveItLink\" href=\"expr.ipynb\"><img src=\"expr.png\" style=\"display:inline;vertical-align:middle;\" /></a></td></tr>\n",
       "<tr><td>1</td><td>Lambda</td><td>parameters:&nbsp;2<br>body:&nbsp;3<br></td><td><a class=\"ProveItLink\" href=\"../868e5bef809404cc8f2ca860e1b577ae5914e4090/expr.ipynb\"><img src=\"../868e5bef809404cc8f2ca860e1b577ae5914e4090/expr.png\" style=\"display:inline;vertical-align:middle;\" /></a></td></tr>\n",
       "<tr><td>2</td><td>ExprTuple</td><td>41, 46, 47, 48, 42</td><td><a class=\"ProveItLink\" href=\"../addd9a086deb233b92019387faf75fbbd26fd2500/expr.ipynb\"><img src=\"../addd9a086deb233b92019387faf75fbbd26fd2500/expr.png\" style=\"display:inline;vertical-align:middle;\" /></a></td></tr>\n",
       "<tr><td>3</td><td>Conditional</td><td>value:&nbsp;4<br>condition:&nbsp;5<br></td><td><a class=\"ProveItLink\" href=\"../f3e254b811e5415ac71a3641e355c6ac8e3728eb0/expr.ipynb\"><img src=\"../f3e254b811e5415ac71a3641e355c6ac8e3728eb0/expr.png\" style=\"display:inline;vertical-align:middle;\" /></a></td></tr>\n",
       "<tr><td>4</td><td>Operation</td><td>operator:&nbsp;6<br>operands:&nbsp;7<br></td><td><a class=\"ProveItLink\" href=\"../b177344ca0c59bc6e4b09a7d2d98aa9806b78f230/expr.ipynb\"><img src=\"../b177344ca0c59bc6e4b09a7d2d98aa9806b78f230/expr.png\" style=\"display:inline;vertical-align:middle;\" /></a></td></tr>\n",
       "<tr><td>5</td><td>Operation</td><td>operator:&nbsp;8<br>operands:&nbsp;9<br></td><td><a class=\"ProveItLink\" href=\"../5bcd75a48fe5710d78f83315d609018a86ff7e320/expr.ipynb\"><img src=\"../5bcd75a48fe5710d78f83315d609018a86ff7e320/expr.png\" style=\"display:inline;vertical-align:middle;\" /></a></td></tr>\n",
       "<tr><td>6</td><td>Literal</td><td></td><td><a class=\"ProveItLink\" href=\"../../../../../logic/equality/__pv_it/common/731dd3955b346c1320ed5c0ba7a618bcda61457d0/expr.ipynb\"><img src=\"../../../../../logic/equality/__pv_it/common/731dd3955b346c1320ed5c0ba7a618bcda61457d0/expr.png\" style=\"display:inline;vertical-align:middle;\" /></a></td></tr>\n",
       "<tr><td>7</td><td>ExprTuple</td><td>10, 11</td><td><a class=\"ProveItLink\" href=\"../b979b8fb78a7f5ef5e37831f5283b651c43b96060/expr.ipynb\"><img src=\"../b979b8fb78a7f5ef5e37831f5283b651c43b96060/expr.png\" style=\"display:inline;vertical-align:middle;\" /></a></td></tr>\n",
       "<tr><td>8</td><td>Literal</td><td></td><td><a class=\"ProveItLink\" href=\"../../../../../logic/booleans/conjunction/__pv_it/common/26b94b53e70b1d77b70f0d9d4236347db37731060/expr.ipynb\"><img src=\"../../../../../logic/booleans/conjunction/__pv_it/common/26b94b53e70b1d77b70f0d9d4236347db37731060/expr.png\" style=\"display:inline;vertical-align:middle;\" /></a></td></tr>\n",
       "<tr><td>9</td><td>ExprTuple</td><td>12, 13, 14, 15, 16, 17</td><td><a class=\"ProveItLink\" href=\"../7ff984ff662dcca462ecd21a8c1933fba106370e0/expr.ipynb\"><img src=\"../7ff984ff662dcca462ecd21a8c1933fba106370e0/expr.png\" style=\"display:inline;vertical-align:middle;\" /></a></td></tr>\n",
       "<tr><td>10</td><td>Operation</td><td>operator:&nbsp;44<br>operands:&nbsp;18<br></td><td><a class=\"ProveItLink\" href=\"../33911ac9cb3488cde7bd46a18f816105aaa1d4b10/expr.ipynb\"><img src=\"../33911ac9cb3488cde7bd46a18f816105aaa1d4b10/expr.png\" style=\"display:inline;vertical-align:middle;\" /></a></td></tr>\n",
       "<tr><td>11</td><td>Operation</td><td>operator:&nbsp;44<br>operands:&nbsp;19<br></td><td><a class=\"ProveItLink\" href=\"../c00db1dd881eb54deb05acd01c10879f8e16d8390/expr.ipynb\"><img src=\"../c00db1dd881eb54deb05acd01c10879f8e16d8390/expr.png\" style=\"display:inline;vertical-align:middle;\" /></a></td></tr>\n",
       "<tr><td>12</td><td>Operation</td><td>operator:&nbsp;24<br>operands:&nbsp;20<br></td><td><a class=\"ProveItLink\" href=\"../95d0d034454e5eb6c3934a54d7a149c5c125a3cb0/expr.ipynb\"><img src=\"../95d0d034454e5eb6c3934a54d7a149c5c125a3cb0/expr.png\" style=\"display:inline;vertical-align:middle;\" /></a></td></tr>\n",
       "<tr><td>13</td><td>Operation</td><td>operator:&nbsp;24<br>operands:&nbsp;21<br></td><td><a class=\"ProveItLink\" href=\"../fe4de3ff0419f38c3d25379035ba812df4fead870/expr.ipynb\"><img src=\"../fe4de3ff0419f38c3d25379035ba812df4fead870/expr.png\" style=\"display:inline;vertical-align:middle;\" /></a></td></tr>\n",
       "<tr><td>14</td><td>Operation</td><td>operator:&nbsp;24<br>operands:&nbsp;22<br></td><td><a class=\"ProveItLink\" href=\"../b1103b770cadeb5e841bbce4a7abd8d948b044c00/expr.ipynb\"><img src=\"../b1103b770cadeb5e841bbce4a7abd8d948b044c00/expr.png\" style=\"display:inline;vertical-align:middle;\" /></a></td></tr>\n",
       "<tr><td>15</td><td>Operation</td><td>operator:&nbsp;24<br>operands:&nbsp;23<br></td><td><a class=\"ProveItLink\" href=\"../ad4b5f0ea4f7c04713b2453b5ba35ec11d79dc370/expr.ipynb\"><img src=\"../ad4b5f0ea4f7c04713b2453b5ba35ec11d79dc370/expr.png\" style=\"display:inline;vertical-align:middle;\" /></a></td></tr>\n",
       "<tr><td>16</td><td>Operation</td><td>operator:&nbsp;24<br>operands:&nbsp;25<br></td><td><a class=\"ProveItLink\" href=\"../35b79740698f4a72a41abf5d9e986b1445057d190/expr.ipynb\"><img src=\"../35b79740698f4a72a41abf5d9e986b1445057d190/expr.png\" style=\"display:inline;vertical-align:middle;\" /></a></td></tr>\n",
       "<tr><td>17</td><td>Operation</td><td>operator:&nbsp;26<br>operands:&nbsp;27<br></td><td><a class=\"ProveItLink\" href=\"../0d7c171a3d3f59af28b07f2a6b9db115b9e550760/expr.ipynb\"><img src=\"../0d7c171a3d3f59af28b07f2a6b9db115b9e550760/expr.png\" style=\"display:inline;vertical-align:middle;\" /></a></td></tr>\n",
       "<tr><td>18</td><td>ExprTuple</td><td>28, 29</td><td><a class=\"ProveItLink\" href=\"../ba817266384d3fa8d71b755950f90eb9cf46e9360/expr.ipynb\"><img src=\"../ba817266384d3fa8d71b755950f90eb9cf46e9360/expr.png\" style=\"display:inline;vertical-align:middle;\" /></a></td></tr>\n",
       "<tr><td>19</td><td>ExprTuple</td><td>30, 31</td><td><a class=\"ProveItLink\" href=\"../ad3d4c88d5508e13129acfcfdc2f87f2251d29200/expr.ipynb\"><img src=\"../ad3d4c88d5508e13129acfcfdc2f87f2251d29200/expr.png\" style=\"display:inline;vertical-align:middle;\" /></a></td></tr>\n",
       "<tr><td>20</td><td>ExprTuple</td><td>41, 32</td><td><a class=\"ProveItLink\" href=\"../124b000752291c9be9fd777a8318a35f27eebae40/expr.ipynb\"><img src=\"../124b000752291c9be9fd777a8318a35f27eebae40/expr.png\" style=\"display:inline;vertical-align:middle;\" /></a></td></tr>\n",
       "<tr><td>21</td><td>ExprTuple</td><td>46, 32</td><td><a class=\"ProveItLink\" href=\"../8366e4d5936209b9da9455e88151b300248abbf10/expr.ipynb\"><img src=\"../8366e4d5936209b9da9455e88151b300248abbf10/expr.png\" style=\"display:inline;vertical-align:middle;\" /></a></td></tr>\n",
       "<tr><td>22</td><td>ExprTuple</td><td>47, 32</td><td><a class=\"ProveItLink\" href=\"../5acac08f1845a163597574e4c4e12992b23d54dc0/expr.ipynb\"><img src=\"../5acac08f1845a163597574e4c4e12992b23d54dc0/expr.png\" style=\"display:inline;vertical-align:middle;\" /></a></td></tr>\n",
       "<tr><td>23</td><td>ExprTuple</td><td>48, 32</td><td><a class=\"ProveItLink\" href=\"../7199bce90b662539e71cd84cba1d73b4fbcf2ee50/expr.ipynb\"><img src=\"../7199bce90b662539e71cd84cba1d73b4fbcf2ee50/expr.png\" style=\"display:inline;vertical-align:middle;\" /></a></td></tr>\n",
       "<tr><td>24</td><td>Literal</td><td></td><td><a class=\"ProveItLink\" href=\"../../../../../logic/sets/membership/__pv_it/common/7171deca84f71f47a6ec7696972d1632274a12880/expr.ipynb\"><img src=\"../../../../../logic/sets/membership/__pv_it/common/7171deca84f71f47a6ec7696972d1632274a12880/expr.png\" style=\"display:inline;vertical-align:middle;\" /></a></td></tr>\n",
       "<tr><td>25</td><td>ExprTuple</td><td>42, 32</td><td><a class=\"ProveItLink\" href=\"../f32c1e9b2c7097fad62c504971846e798252bd990/expr.ipynb\"><img src=\"../f32c1e9b2c7097fad62c504971846e798252bd990/expr.png\" style=\"display:inline;vertical-align:middle;\" /></a></td></tr>\n",
       "<tr><td>26</td><td>Literal</td><td></td><td><a class=\"ProveItLink\" href=\"../../../../../logic/equality/__pv_it/common/8dab0e450b6dad95cf65833220bcc832732dfd3c0/expr.ipynb\"><img src=\"../../../../../logic/equality/__pv_it/common/8dab0e450b6dad95cf65833220bcc832732dfd3c0/expr.png\" style=\"display:inline;vertical-align:middle;\" /></a></td></tr>\n",
       "<tr><td>27</td><td>ExprTuple</td><td>47, 33</td><td><a class=\"ProveItLink\" href=\"../031869b9b1aab3b37292b77eb07e5dafc8cffe2a0/expr.ipynb\"><img src=\"../031869b9b1aab3b37292b77eb07e5dafc8cffe2a0/expr.png\" style=\"display:inline;vertical-align:middle;\" /></a></td></tr>\n",
       "<tr><td>28</td><td>Operation</td><td>operator:&nbsp;37<br>operands:&nbsp;34<br></td><td><a class=\"ProveItLink\" href=\"../f7cc854c1c696b61e24bc6164c42c38ad1e02fda0/expr.ipynb\"><img src=\"../f7cc854c1c696b61e24bc6164c42c38ad1e02fda0/expr.png\" style=\"display:inline;vertical-align:middle;\" /></a></td></tr>\n",
       "<tr><td>29</td><td>Operation</td><td>operator:&nbsp;37<br>operands:&nbsp;35<br></td><td><a class=\"ProveItLink\" href=\"../edf3961258ddb099b3adae7a751f7b98e54498b10/expr.ipynb\"><img src=\"../edf3961258ddb099b3adae7a751f7b98e54498b10/expr.png\" style=\"display:inline;vertical-align:middle;\" /></a></td></tr>\n",
       "<tr><td>30</td><td>Operation</td><td>operator:&nbsp;37<br>operands:&nbsp;36<br></td><td><a class=\"ProveItLink\" href=\"../271b4a508be8aee39e1e11c462beee1971a2b50f0/expr.ipynb\"><img src=\"../271b4a508be8aee39e1e11c462beee1971a2b50f0/expr.png\" style=\"display:inline;vertical-align:middle;\" /></a></td></tr>\n",
       "<tr><td>31</td><td>Operation</td><td>operator:&nbsp;37<br>operands:&nbsp;38<br></td><td><a class=\"ProveItLink\" href=\"../cf215f9aec750591bc9ec6eae09dda9731ff63560/expr.ipynb\"><img src=\"../cf215f9aec750591bc9ec6eae09dda9731ff63560/expr.png\" style=\"display:inline;vertical-align:middle;\" /></a></td></tr>\n",
       "<tr><td>32</td><td>Literal</td><td></td><td><a class=\"ProveItLink\" href=\"../../../../number_sets/complex_numbers/__pv_it/common/fbfabc61f6f66350b130e5a55a72b80825c065f90/expr.ipynb\"><img src=\"../../../../number_sets/complex_numbers/__pv_it/common/fbfabc61f6f66350b130e5a55a72b80825c065f90/expr.png\" style=\"display:inline;vertical-align:middle;\" /></a></td></tr>\n",
       "<tr><td>33</td><td>Literal</td><td></td><td><a class=\"ProveItLink\" href=\"../../../../numerals/__pv_it/common/c35fdf7268947ca3e24174d2909dc9d0a7f3aac60/expr.ipynb\"><img src=\"../../../../numerals/__pv_it/common/c35fdf7268947ca3e24174d2909dc9d0a7f3aac60/expr.png\" style=\"display:inline;vertical-align:middle;\" /></a></td></tr>\n",
       "<tr><td>34</td><td>ExprTuple</td><td>41, 39</td><td><a class=\"ProveItLink\" href=\"../34e729e633e9190122b4878cf4b1dca4cea06a1c0/expr.ipynb\"><img src=\"../34e729e633e9190122b4878cf4b1dca4cea06a1c0/expr.png\" style=\"display:inline;vertical-align:middle;\" /></a></td></tr>\n",
       "<tr><td>35</td><td>ExprTuple</td><td>40, 42</td><td><a class=\"ProveItLink\" href=\"../b6dada6db27a77521bccba78f9d7c1155d3f74e40/expr.ipynb\"><img src=\"../b6dada6db27a77521bccba78f9d7c1155d3f74e40/expr.png\" style=\"display:inline;vertical-align:middle;\" /></a></td></tr>\n",
       "<tr><td>36</td><td>ExprTuple</td><td>41, 46</td><td><a class=\"ProveItLink\" href=\"../1bdfc8550dcba21649b1aca02603584957f865fb0/expr.ipynb\"><img src=\"../1bdfc8550dcba21649b1aca02603584957f865fb0/expr.png\" style=\"display:inline;vertical-align:middle;\" /></a></td></tr>\n",
       "<tr><td>37</td><td>Literal</td><td></td><td><a class=\"ProveItLink\" href=\"../../common/9ecc1ae47b83f7ed759e5ea63a2023a8f2ab04800/expr.ipynb\"><img src=\"../../common/9ecc1ae47b83f7ed759e5ea63a2023a8f2ab04800/expr.png\" style=\"display:inline;vertical-align:middle;\" /></a></td></tr>\n",
       "<tr><td>38</td><td>ExprTuple</td><td>48, 42</td><td><a class=\"ProveItLink\" href=\"../84c09e5a76b7eefaee19021a6b5407491259e4ca0/expr.ipynb\"><img src=\"../84c09e5a76b7eefaee19021a6b5407491259e4ca0/expr.png\" style=\"display:inline;vertical-align:middle;\" /></a></td></tr>\n",
       "<tr><td>39</td><td>Operation</td><td>operator:&nbsp;44<br>operands:&nbsp;43<br></td><td><a class=\"ProveItLink\" href=\"../4fba42eaeae183e224507a066062ea64868999db0/expr.ipynb\"><img src=\"../4fba42eaeae183e224507a066062ea64868999db0/expr.png\" style=\"display:inline;vertical-align:middle;\" /></a></td></tr>\n",
       "<tr><td>40</td><td>Operation</td><td>operator:&nbsp;44<br>operands:&nbsp;45<br></td><td><a class=\"ProveItLink\" href=\"../6f92882234d60a1ab9ccc325d9e1f38b5a199b2e0/expr.ipynb\"><img src=\"../6f92882234d60a1ab9ccc325d9e1f38b5a199b2e0/expr.png\" style=\"display:inline;vertical-align:middle;\" /></a></td></tr>\n",
       "<tr><td>41</td><td>Variable</td><td></td><td><a class=\"ProveItLink\" href=\"../../../../../__pv_it/common/66c90e66682f107a881f2d666959f64e2e72ad750/expr.ipynb\"><img src=\"../../../../../__pv_it/common/66c90e66682f107a881f2d666959f64e2e72ad750/expr.png\" style=\"display:inline;vertical-align:middle;\" /></a></td></tr>\n",
       "<tr><td>42</td><td>Variable</td><td></td><td><a class=\"ProveItLink\" href=\"../../../../../__pv_it/common/a475a6c05cb9b679a3c3b5f3e61d3ba651c6c6140/expr.ipynb\"><img src=\"../../../../../__pv_it/common/a475a6c05cb9b679a3c3b5f3e61d3ba651c6c6140/expr.png\" style=\"display:inline;vertical-align:middle;\" /></a></td></tr>\n",
       "<tr><td>43</td><td>ExprTuple</td><td>46, 47</td><td><a class=\"ProveItLink\" href=\"../9633b4d8842b3e57e7a7031aee652628c8c091780/expr.ipynb\"><img src=\"../9633b4d8842b3e57e7a7031aee652628c8c091780/expr.png\" style=\"display:inline;vertical-align:middle;\" /></a></td></tr>\n",
       "<tr><td>44</td><td>Literal</td><td></td><td><a class=\"ProveItLink\" href=\"../../../../multiplication/__pv_it/common/c57d60974865e78d434abd3ff22c405685c80ade0/expr.ipynb\"><img src=\"../../../../multiplication/__pv_it/common/c57d60974865e78d434abd3ff22c405685c80ade0/expr.png\" style=\"display:inline;vertical-align:middle;\" /></a></td></tr>\n",
       "<tr><td>45</td><td>ExprTuple</td><td>47, 48</td><td><a class=\"ProveItLink\" href=\"../620564c539c514bca44d088e07d52c7472dc8a210/expr.ipynb\"><img src=\"../620564c539c514bca44d088e07d52c7472dc8a210/expr.png\" style=\"display:inline;vertical-align:middle;\" /></a></td></tr>\n",
       "<tr><td>46</td><td>Variable</td><td></td><td><a class=\"ProveItLink\" href=\"../../../../../__pv_it/common/4a5db8cc5c67969ec864bd3ea598be37cb6f5e550/expr.ipynb\"><img src=\"../../../../../__pv_it/common/4a5db8cc5c67969ec864bd3ea598be37cb6f5e550/expr.png\" style=\"display:inline;vertical-align:middle;\" /></a></td></tr>\n",
       "<tr><td>47</td><td>Variable</td><td></td><td><a class=\"ProveItLink\" href=\"../../../../../__pv_it/common/9a9d28748f90dec84e90f2ace4610208194e524e0/expr.ipynb\"><img src=\"../../../../../__pv_it/common/9a9d28748f90dec84e90f2ace4610208194e524e0/expr.png\" style=\"display:inline;vertical-align:middle;\" /></a></td></tr>\n",
       "<tr><td>48</td><td>Variable</td><td></td><td><a class=\"ProveItLink\" href=\"../../../../../__pv_it/common/ba27da3f6d5512be14b05498f34744a70c9279220/expr.ipynb\"><img src=\"../../../../../__pv_it/common/ba27da3f6d5512be14b05498f34744a70c9279220/expr.png\" style=\"display:inline;vertical-align:middle;\" /></a></td></tr>\n",
       "</table>\n"
      ],
      "text/plain": [
       "0. ((a, b, c, d, e) -> {((a / (b * c)) * ((c * d) / e)) = ((a / b) * (d / e)) if a in Complex ,  b in Complex ,  c in Complex ,  d in Complex ,  e in Complex ,  c != 0.)\n",
       "   core type: ExprTuple\n",
       "   sub-expressions: 1\n",
       "1. (a, b, c, d, e) -> {((a / (b * c)) * ((c * d) / e)) = ((a / b) * (d / e)) if a in Complex ,  b in Complex ,  c in Complex ,  d in Complex ,  e in Complex ,  c != 0.\n",
       "   core type: Lambda\n",
       "   parameters: 2\\n   body: 3\n",
       "2. (a, b, c, d, e)\n",
       "   core type: ExprTuple\n",
       "   sub-expressions: 41, 46, 47, 48, 42\n",
       "3. {((a / (b * c)) * ((c * d) / e)) = ((a / b) * (d / e)) if a in Complex ,  b in Complex ,  c in Complex ,  d in Complex ,  e in Complex ,  c != 0.\n",
       "   core type: Conditional\n",
       "   value: 4\n",
       "   condition: 5\n",
       "4. ((a / (b * c)) * ((c * d) / e)) = ((a / b) * (d / e))\n",
       "   core type: Operation\n",
       "   operator: 6\n",
       "   operands: 7\n",
       "5. (a in Complex) and (b in Complex) and (c in Complex) and (d in Complex) and (e in Complex) and (c != 0)\n",
       "   core type: Operation\n",
       "   operator: 8\n",
       "   operands: 9\n",
       "6. =\n",
       "   core type: Literal\n",
       "   sub-expressions: \n",
       "7. ((a / (b * c)) * ((c * d) / e), (a / b) * (d / e))\n",
       "   core type: ExprTuple\n",
       "   sub-expressions: 10, 11\n",
       "8. and\n",
       "   core type: Literal\n",
       "   sub-expressions: \n",
       "9. (a in Complex, b in Complex, c in Complex, d in Complex, e in Complex, c != 0)\n",
       "   core type: ExprTuple\n",
       "   sub-expressions: 12, 13, 14, 15, 16, 17\n",
       "10. (a / (b * c)) * ((c * d) / e)\n",
       "    core type: Operation\n",
       "    operator: 44\n",
       "    operands: 18\n",
       "11. (a / b) * (d / e)\n",
       "    core type: Operation\n",
       "    operator: 44\n",
       "    operands: 19\n",
       "12. a in Complex\n",
       "    core type: Operation\n",
       "    operator: 24\n",
       "    operands: 20\n",
       "13. b in Complex\n",
       "    core type: Operation\n",
       "    operator: 24\n",
       "    operands: 21\n",
       "14. c in Complex\n",
       "    core type: Operation\n",
       "    operator: 24\n",
       "    operands: 22\n",
       "15. d in Complex\n",
       "    core type: Operation\n",
       "    operator: 24\n",
       "    operands: 23\n",
       "16. e in Complex\n",
       "    core type: Operation\n",
       "    operator: 24\n",
       "    operands: 25\n",
       "17. c != 0\n",
       "    core type: Operation\n",
       "    operator: 26\n",
       "    operands: 27\n",
       "18. (a / (b * c), (c * d) / e)\n",
       "    core type: ExprTuple\n",
       "    sub-expressions: 28, 29\n",
       "19. (a / b, d / e)\n",
       "    core type: ExprTuple\n",
       "    sub-expressions: 30, 31\n",
       "20. (a, Complex)\n",
       "    core type: ExprTuple\n",
       "    sub-expressions: 41, 32\n",
       "21. (b, Complex)\n",
       "    core type: ExprTuple\n",
       "    sub-expressions: 46, 32\n",
       "22. (c, Complex)\n",
       "    core type: ExprTuple\n",
       "    sub-expressions: 47, 32\n",
       "23. (d, Complex)\n",
       "    core type: ExprTuple\n",
       "    sub-expressions: 48, 32\n",
       "24. in\n",
       "    core type: Literal\n",
       "    sub-expressions: \n",
       "25. (e, Complex)\n",
       "    core type: ExprTuple\n",
       "    sub-expressions: 42, 32\n",
       "26. !=\n",
       "    core type: Literal\n",
       "    sub-expressions: \n",
       "27. (c, 0)\n",
       "    core type: ExprTuple\n",
       "    sub-expressions: 47, 33\n",
       "28. a / (b * c)\n",
       "    core type: Operation\n",
       "    operator: 37\n",
       "    operands: 34\n",
       "29. (c * d) / e\n",
       "    core type: Operation\n",
       "    operator: 37\n",
       "    operands: 35\n",
       "30. a / b\n",
       "    core type: Operation\n",
       "    operator: 37\n",
       "    operands: 36\n",
       "31. d / e\n",
       "    core type: Operation\n",
       "    operator: 37\n",
       "    operands: 38\n",
       "32. Complex\n",
       "    core type: Literal\n",
       "    sub-expressions: \n",
       "33. 0\n",
       "    core type: Literal\n",
       "    sub-expressions: \n",
       "34. (a, b * c)\n",
       "    core type: ExprTuple\n",
       "    sub-expressions: 41, 39\n",
       "35. (c * d, e)\n",
       "    core type: ExprTuple\n",
       "    sub-expressions: 40, 42\n",
       "36. (a, b)\n",
       "    core type: ExprTuple\n",
       "    sub-expressions: 41, 46\n",
       "37. /\n",
       "    core type: Literal\n",
       "    sub-expressions: \n",
       "38. (d, e)\n",
       "    core type: ExprTuple\n",
       "    sub-expressions: 48, 42\n",
       "39. b * c\n",
       "    core type: Operation\n",
       "    operator: 44\n",
       "    operands: 43\n",
       "40. c * d\n",
       "    core type: Operation\n",
       "    operator: 44\n",
       "    operands: 45\n",
       "41. a\n",
       "    core type: Variable\n",
       "    sub-expressions: \n",
       "42. e\n",
       "    core type: Variable\n",
       "    sub-expressions: \n",
       "43. (b, c)\n",
       "    core type: ExprTuple\n",
       "    sub-expressions: 46, 47\n",
       "44. *\n",
       "    core type: Literal\n",
       "    sub-expressions: \n",
       "45. (c, d)\n",
       "    core type: ExprTuple\n",
       "    sub-expressions: 47, 48\n",
       "46. b\n",
       "    core type: Variable\n",
       "    sub-expressions: \n",
       "47. c\n",
       "    core type: Variable\n",
       "    sub-expressions: \n",
       "48. d\n",
       "    core type: Variable\n",
       "    sub-expressions: "
      ]
     },
     "execution_count": 6,
     "metadata": {},
     "output_type": "execute_result"
    }
   ],
   "source": [
    "# display the expression information\n",
    "expr.expr_info()"
   ]
  },
  {
   "cell_type": "code",
   "execution_count": null,
   "metadata": {},
   "outputs": [],
   "source": []
  }
 ],
 "metadata": {
  "kernelspec": {
   "display_name": "Python 3",
   "language": "python",
   "name": "python3"
  }
 },
 "nbformat": 4,
 "nbformat_minor": 0
}