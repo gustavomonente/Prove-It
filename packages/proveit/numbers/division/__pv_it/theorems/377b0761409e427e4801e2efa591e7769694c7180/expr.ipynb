{
 "cells": [
  {
   "cell_type": "markdown",
   "metadata": {},
   "source": [
    "Expression of type <a class=\"ProveItLink\" href=\"../../../../../../../doc/html/api/proveit.Lambda.html\">Lambda</a>\n",
    "=======================\n",
    "# from the theory of <a class=\"ProveItLink\" href=\"../../../_theory_nbs_/theory.ipynb\">proveit.numbers.division</a>"
   ]
  },
  {
   "cell_type": "code",
   "execution_count": 1,
   "metadata": {},
   "outputs": [],
   "source": [
    "import proveit\n",
    "# Automation is not needed when building an expression:\n",
    "proveit.defaults.automation = False # This will speed things up.\n",
    "proveit.defaults.inline_pngs = False # Makes files smaller.\n",
    "%load_expr # Load the stored expression as 'stored_expr'\n",
    "# import Expression classes needed to build the expression\n",
    "from proveit import Conditional, Lambda, w, x, y, z\n",
    "from proveit.logic import And, Equals, InSet\n",
    "from proveit.numbers import Complex, Mult, frac"
   ]
  },
  {
   "cell_type": "code",
   "execution_count": 2,
   "metadata": {},
   "outputs": [
    {
     "data": {
      "text/html": [
       "<strong id=\"expr\">expr:</strong> <a class=\"ProveItLink\" href=\"expr.ipynb\"><img src=\"expr.png\" style=\"display:inline;vertical-align:middle;\" /></a><br>"
      ],
      "text/plain": [
       "expr: (x, y, z, w) -> {((x / z) * (y / w)) = ((x * y) / (z * w)) if x in Complex ,  y in Complex ,  z in Complex ,  w in Complex."
      ]
     },
     "execution_count": 2,
     "metadata": {},
     "output_type": "execute_result"
    }
   ],
   "source": [
    "# build up the expression from sub-expressions\n",
    "expr = Lambda([x, y, z, w], Conditional(Equals(Mult(frac(x, z), frac(y, w)), frac(Mult(x, y), Mult(z, w))), And(InSet(x, Complex), InSet(y, Complex), InSet(z, Complex), InSet(w, Complex))))"
   ]
  },
  {
   "cell_type": "code",
   "execution_count": 3,
   "metadata": {},
   "outputs": [
    {
     "name": "stdout",
     "output_type": "stream",
     "text": [
      "Passed sanity check: expr matches stored_expr\n"
     ]
    }
   ],
   "source": [
    "# check that the built expression is the same as the stored expression\n",
    "assert expr == stored_expr\n",
    "assert expr._style_id == stored_expr._style_id\n",
    "print(\"Passed sanity check: expr matches stored_expr\")"
   ]
  },
  {
   "cell_type": "code",
   "execution_count": 4,
   "metadata": {},
   "outputs": [
    {
     "name": "stdout",
     "output_type": "stream",
     "text": [
      "\\left(x, y, z, w\\right) \\mapsto \\left\\{\\left(\\frac{x}{z} \\cdot \\frac{y}{w}\\right) = \\frac{x \\cdot y}{z \\cdot w} \\textrm{ if } x \\in \\mathbb{C} ,  y \\in \\mathbb{C} ,  z \\in \\mathbb{C} ,  w \\in \\mathbb{C}\\right..\n"
     ]
    }
   ],
   "source": [
    "# Show the LaTeX representation of the expression for convenience if you need it.\n",
    "print(expr.latex())"
   ]
  },
  {
   "cell_type": "code",
   "execution_count": 5,
   "metadata": {},
   "outputs": [
    {
     "data": {
      "text/html": [
       "<table><tr><th>&nbsp;</th><th>core type</th><th>sub-expressions</th><th>expression</th></tr>\n",
       "<tr><td>0</td><td>Lambda</td><td>parameters:&nbsp;1<br>body:&nbsp;2<br></td><td><a class=\"ProveItLink\" href=\"expr.ipynb\"><img src=\"expr.png\" style=\"display:inline;vertical-align:middle;\" /></a></td></tr>\n",
       "<tr><td>1</td><td>ExprTuple</td><td>33, 34, 35, 36</td><td><a class=\"ProveItLink\" href=\"../883962742e6c2bb1ab6f2eac53298d851068a9f00/expr.ipynb\"><img src=\"../883962742e6c2bb1ab6f2eac53298d851068a9f00/expr.png\" style=\"display:inline;vertical-align:middle;\" /></a></td></tr>\n",
       "<tr><td>2</td><td>Conditional</td><td>value:&nbsp;3<br>condition:&nbsp;4<br></td><td><a class=\"ProveItLink\" href=\"../4a7f510a5005d780ac0b3fd14d60aa9a1f1fb8430/expr.ipynb\"><img src=\"../4a7f510a5005d780ac0b3fd14d60aa9a1f1fb8430/expr.png\" style=\"display:inline;vertical-align:middle;\" /></a></td></tr>\n",
       "<tr><td>3</td><td>Operation</td><td>operator:&nbsp;5<br>operands:&nbsp;6<br></td><td><a class=\"ProveItLink\" href=\"../faab9faf6ef49aadca21142384048bd06abc7dd60/expr.ipynb\"><img src=\"../faab9faf6ef49aadca21142384048bd06abc7dd60/expr.png\" style=\"display:inline;vertical-align:middle;\" /></a></td></tr>\n",
       "<tr><td>4</td><td>Operation</td><td>operator:&nbsp;7<br>operands:&nbsp;8<br></td><td><a class=\"ProveItLink\" href=\"../db441d51ffa766bc645b1a884f118a6fd905dc910/expr.ipynb\"><img src=\"../db441d51ffa766bc645b1a884f118a6fd905dc910/expr.png\" style=\"display:inline;vertical-align:middle;\" /></a></td></tr>\n",
       "<tr><td>5</td><td>Literal</td><td></td><td><a class=\"ProveItLink\" href=\"../../../../../logic/equality/__pv_it/common/fb96dc12b2aa8801dda64d0132b396c63d1502bb0/expr.ipynb\"><img src=\"../../../../../logic/equality/__pv_it/common/fb96dc12b2aa8801dda64d0132b396c63d1502bb0/expr.png\" style=\"display:inline;vertical-align:middle;\" /></a></td></tr>\n",
       "<tr><td>6</td><td>ExprTuple</td><td>9, 10</td><td><a class=\"ProveItLink\" href=\"../b880ed380e77f12b9ce87b2e3b722189643772ed0/expr.ipynb\"><img src=\"../b880ed380e77f12b9ce87b2e3b722189643772ed0/expr.png\" style=\"display:inline;vertical-align:middle;\" /></a></td></tr>\n",
       "<tr><td>7</td><td>Literal</td><td></td><td><a class=\"ProveItLink\" href=\"../../../../../logic/booleans/conjunction/__pv_it/common/42118ff318bd65d98b1393f64ce7c2269feef76e0/expr.ipynb\"><img src=\"../../../../../logic/booleans/conjunction/__pv_it/common/42118ff318bd65d98b1393f64ce7c2269feef76e0/expr.png\" style=\"display:inline;vertical-align:middle;\" /></a></td></tr>\n",
       "<tr><td>8</td><td>ExprTuple</td><td>11, 12, 13, 14</td><td><a class=\"ProveItLink\" href=\"../fed16a3a8a43fdc621180e21b05435dbff0d30330/expr.ipynb\"><img src=\"../fed16a3a8a43fdc621180e21b05435dbff0d30330/expr.png\" style=\"display:inline;vertical-align:middle;\" /></a></td></tr>\n",
       "<tr><td>9</td><td>Operation</td><td>operator:&nbsp;31<br>operands:&nbsp;15<br></td><td><a class=\"ProveItLink\" href=\"../6ee28bb4eeae523489a969d84672bef20c4634070/expr.ipynb\"><img src=\"../6ee28bb4eeae523489a969d84672bef20c4634070/expr.png\" style=\"display:inline;vertical-align:middle;\" /></a></td></tr>\n",
       "<tr><td>10</td><td>Operation</td><td>operator:&nbsp;28<br>operands:&nbsp;16<br></td><td><a class=\"ProveItLink\" href=\"../75e331dbaf2bec9447e61abc3dca271cd6e74e080/expr.ipynb\"><img src=\"../75e331dbaf2bec9447e61abc3dca271cd6e74e080/expr.png\" style=\"display:inline;vertical-align:middle;\" /></a></td></tr>\n",
       "<tr><td>11</td><td>Operation</td><td>operator:&nbsp;20<br>operands:&nbsp;17<br></td><td><a class=\"ProveItLink\" href=\"../665eb28bdef08717ca4abe8886f256e37ecbb1210/expr.ipynb\"><img src=\"../665eb28bdef08717ca4abe8886f256e37ecbb1210/expr.png\" style=\"display:inline;vertical-align:middle;\" /></a></td></tr>\n",
       "<tr><td>12</td><td>Operation</td><td>operator:&nbsp;20<br>operands:&nbsp;18<br></td><td><a class=\"ProveItLink\" href=\"../4781579f73690b602fbe14fc22acbb18872578820/expr.ipynb\"><img src=\"../4781579f73690b602fbe14fc22acbb18872578820/expr.png\" style=\"display:inline;vertical-align:middle;\" /></a></td></tr>\n",
       "<tr><td>13</td><td>Operation</td><td>operator:&nbsp;20<br>operands:&nbsp;19<br></td><td><a class=\"ProveItLink\" href=\"../d95c7e0de01db90d2bff83c0ad1602ef71f085660/expr.ipynb\"><img src=\"../d95c7e0de01db90d2bff83c0ad1602ef71f085660/expr.png\" style=\"display:inline;vertical-align:middle;\" /></a></td></tr>\n",
       "<tr><td>14</td><td>Operation</td><td>operator:&nbsp;20<br>operands:&nbsp;21<br></td><td><a class=\"ProveItLink\" href=\"../df84537e958cc5babcec07d221b44e0a46bd57390/expr.ipynb\"><img src=\"../df84537e958cc5babcec07d221b44e0a46bd57390/expr.png\" style=\"display:inline;vertical-align:middle;\" /></a></td></tr>\n",
       "<tr><td>15</td><td>ExprTuple</td><td>22, 23</td><td><a class=\"ProveItLink\" href=\"../f4cc3e4435ea72f3cdf2825dcedc048359d590020/expr.ipynb\"><img src=\"../f4cc3e4435ea72f3cdf2825dcedc048359d590020/expr.png\" style=\"display:inline;vertical-align:middle;\" /></a></td></tr>\n",
       "<tr><td>16</td><td>ExprTuple</td><td>24, 25</td><td><a class=\"ProveItLink\" href=\"../8ce97c8ea358efa7ca9ebc893895219b946bb7560/expr.ipynb\"><img src=\"../8ce97c8ea358efa7ca9ebc893895219b946bb7560/expr.png\" style=\"display:inline;vertical-align:middle;\" /></a></td></tr>\n",
       "<tr><td>17</td><td>ExprTuple</td><td>33, 26</td><td><a class=\"ProveItLink\" href=\"../75ad744bb2803b43009bc0873a3361232799faaf0/expr.ipynb\"><img src=\"../75ad744bb2803b43009bc0873a3361232799faaf0/expr.png\" style=\"display:inline;vertical-align:middle;\" /></a></td></tr>\n",
       "<tr><td>18</td><td>ExprTuple</td><td>34, 26</td><td><a class=\"ProveItLink\" href=\"../b7a9fe0b18f49d84bc924e84c1b67da8918783610/expr.ipynb\"><img src=\"../b7a9fe0b18f49d84bc924e84c1b67da8918783610/expr.png\" style=\"display:inline;vertical-align:middle;\" /></a></td></tr>\n",
       "<tr><td>19</td><td>ExprTuple</td><td>35, 26</td><td><a class=\"ProveItLink\" href=\"../318ea89576eb3832a10d1edb99d8ff0f09d967890/expr.ipynb\"><img src=\"../318ea89576eb3832a10d1edb99d8ff0f09d967890/expr.png\" style=\"display:inline;vertical-align:middle;\" /></a></td></tr>\n",
       "<tr><td>20</td><td>Literal</td><td></td><td><a class=\"ProveItLink\" href=\"../../../../../logic/sets/membership/__pv_it/common/477487d8796864d23d5810f83761435f25167f690/expr.ipynb\"><img src=\"../../../../../logic/sets/membership/__pv_it/common/477487d8796864d23d5810f83761435f25167f690/expr.png\" style=\"display:inline;vertical-align:middle;\" /></a></td></tr>\n",
       "<tr><td>21</td><td>ExprTuple</td><td>36, 26</td><td><a class=\"ProveItLink\" href=\"../f8f194e789533b0702afba263f074b4ec6f405660/expr.ipynb\"><img src=\"../f8f194e789533b0702afba263f074b4ec6f405660/expr.png\" style=\"display:inline;vertical-align:middle;\" /></a></td></tr>\n",
       "<tr><td>22</td><td>Operation</td><td>operator:&nbsp;28<br>operands:&nbsp;27<br></td><td><a class=\"ProveItLink\" href=\"../f7741f9fa928cb07fbfd5af929328c9774c495fc0/expr.ipynb\"><img src=\"../f7741f9fa928cb07fbfd5af929328c9774c495fc0/expr.png\" style=\"display:inline;vertical-align:middle;\" /></a></td></tr>\n",
       "<tr><td>23</td><td>Operation</td><td>operator:&nbsp;28<br>operands:&nbsp;29<br></td><td><a class=\"ProveItLink\" href=\"../5d057430853835cb6f213bef0810be50ff3a64410/expr.ipynb\"><img src=\"../5d057430853835cb6f213bef0810be50ff3a64410/expr.png\" style=\"display:inline;vertical-align:middle;\" /></a></td></tr>\n",
       "<tr><td>24</td><td>Operation</td><td>operator:&nbsp;31<br>operands:&nbsp;30<br></td><td><a class=\"ProveItLink\" href=\"../ccb4fde553d01c1956a4ff222a6b3d6b5ff2c2080/expr.ipynb\"><img src=\"../ccb4fde553d01c1956a4ff222a6b3d6b5ff2c2080/expr.png\" style=\"display:inline;vertical-align:middle;\" /></a></td></tr>\n",
       "<tr><td>25</td><td>Operation</td><td>operator:&nbsp;31<br>operands:&nbsp;32<br></td><td><a class=\"ProveItLink\" href=\"../e3253dd90516d0b7c92179455519d11ac1374c300/expr.ipynb\"><img src=\"../e3253dd90516d0b7c92179455519d11ac1374c300/expr.png\" style=\"display:inline;vertical-align:middle;\" /></a></td></tr>\n",
       "<tr><td>26</td><td>Literal</td><td></td><td><a class=\"ProveItLink\" href=\"../../../../number_sets/complex_numbers/__pv_it/common/d18a028138f659eda00de597c28a3447fe87eb100/expr.ipynb\"><img src=\"../../../../number_sets/complex_numbers/__pv_it/common/d18a028138f659eda00de597c28a3447fe87eb100/expr.png\" style=\"display:inline;vertical-align:middle;\" /></a></td></tr>\n",
       "<tr><td>27</td><td>ExprTuple</td><td>33, 35</td><td><a class=\"ProveItLink\" href=\"../f96ff3ba00d09f38d8239212d4fed116a60d7eed0/expr.ipynb\"><img src=\"../f96ff3ba00d09f38d8239212d4fed116a60d7eed0/expr.png\" style=\"display:inline;vertical-align:middle;\" /></a></td></tr>\n",
       "<tr><td>28</td><td>Literal</td><td></td><td><a class=\"ProveItLink\" href=\"../../common/a2a633e1e3c749fb1f2692466b287b6348c5de840/expr.ipynb\"><img src=\"../../common/a2a633e1e3c749fb1f2692466b287b6348c5de840/expr.png\" style=\"display:inline;vertical-align:middle;\" /></a></td></tr>\n",
       "<tr><td>29</td><td>ExprTuple</td><td>34, 36</td><td><a class=\"ProveItLink\" href=\"../37aa29b074e013600c30ba832ea15bd6b725730a0/expr.ipynb\"><img src=\"../37aa29b074e013600c30ba832ea15bd6b725730a0/expr.png\" style=\"display:inline;vertical-align:middle;\" /></a></td></tr>\n",
       "<tr><td>30</td><td>ExprTuple</td><td>33, 34</td><td><a class=\"ProveItLink\" href=\"../1d0941a32bac19e80ab1cf703883be0351553a410/expr.ipynb\"><img src=\"../1d0941a32bac19e80ab1cf703883be0351553a410/expr.png\" style=\"display:inline;vertical-align:middle;\" /></a></td></tr>\n",
       "<tr><td>31</td><td>Literal</td><td></td><td><a class=\"ProveItLink\" href=\"../../../../multiplication/__pv_it/common/ed719cef37831779c16481533a4d380a2f95ab270/expr.ipynb\"><img src=\"../../../../multiplication/__pv_it/common/ed719cef37831779c16481533a4d380a2f95ab270/expr.png\" style=\"display:inline;vertical-align:middle;\" /></a></td></tr>\n",
       "<tr><td>32</td><td>ExprTuple</td><td>35, 36</td><td><a class=\"ProveItLink\" href=\"../4763281c2b876c2434b202c0807f18d4010b89f10/expr.ipynb\"><img src=\"../4763281c2b876c2434b202c0807f18d4010b89f10/expr.png\" style=\"display:inline;vertical-align:middle;\" /></a></td></tr>\n",
       "<tr><td>33</td><td>Variable</td><td></td><td><a class=\"ProveItLink\" href=\"../../../../../__pv_it/common/a0d9d672aa5e272d907247690c152cc2c6daafb70/expr.ipynb\"><img src=\"../../../../../__pv_it/common/a0d9d672aa5e272d907247690c152cc2c6daafb70/expr.png\" style=\"display:inline;vertical-align:middle;\" /></a></td></tr>\n",
       "<tr><td>34</td><td>Variable</td><td></td><td><a class=\"ProveItLink\" href=\"../../../../../__pv_it/common/ff7dba4ef0bbe791ab573bf2d9c220a304399ac80/expr.ipynb\"><img src=\"../../../../../__pv_it/common/ff7dba4ef0bbe791ab573bf2d9c220a304399ac80/expr.png\" style=\"display:inline;vertical-align:middle;\" /></a></td></tr>\n",
       "<tr><td>35</td><td>Variable</td><td></td><td><a class=\"ProveItLink\" href=\"../../../../../__pv_it/common/95a8f6b9b9f29b83f192ad7fd05708d6be097a3f0/expr.ipynb\"><img src=\"../../../../../__pv_it/common/95a8f6b9b9f29b83f192ad7fd05708d6be097a3f0/expr.png\" style=\"display:inline;vertical-align:middle;\" /></a></td></tr>\n",
       "<tr><td>36</td><td>Variable</td><td></td><td><a class=\"ProveItLink\" href=\"../../../../../__pv_it/common/d365663894822dede40e6e04c77860068334d0820/expr.ipynb\"><img src=\"../../../../../__pv_it/common/d365663894822dede40e6e04c77860068334d0820/expr.png\" style=\"display:inline;vertical-align:middle;\" /></a></td></tr>\n",
       "</table>\n"
      ],
      "text/plain": [
       "0. (x, y, z, w) -> {((x / z) * (y / w)) = ((x * y) / (z * w)) if x in Complex ,  y in Complex ,  z in Complex ,  w in Complex.\n",
       "   core type: Lambda\n",
       "   parameters: 1\\n   body: 2\n",
       "1. (x, y, z, w)\n",
       "   core type: ExprTuple\n",
       "   sub-expressions: 33, 34, 35, 36\n",
       "2. {((x / z) * (y / w)) = ((x * y) / (z * w)) if x in Complex ,  y in Complex ,  z in Complex ,  w in Complex.\n",
       "   core type: Conditional\n",
       "   value: 3\n",
       "   condition: 4\n",
       "3. ((x / z) * (y / w)) = ((x * y) / (z * w))\n",
       "   core type: Operation\n",
       "   operator: 5\n",
       "   operands: 6\n",
       "4. (x in Complex) and (y in Complex) and (z in Complex) and (w in Complex)\n",
       "   core type: Operation\n",
       "   operator: 7\n",
       "   operands: 8\n",
       "5. =\n",
       "   core type: Literal\n",
       "   sub-expressions: \n",
       "6. ((x / z) * (y / w), (x * y) / (z * w))\n",
       "   core type: ExprTuple\n",
       "   sub-expressions: 9, 10\n",
       "7. and\n",
       "   core type: Literal\n",
       "   sub-expressions: \n",
       "8. (x in Complex, y in Complex, z in Complex, w in Complex)\n",
       "   core type: ExprTuple\n",
       "   sub-expressions: 11, 12, 13, 14\n",
       "9. (x / z) * (y / w)\n",
       "   core type: Operation\n",
       "   operator: 31\n",
       "   operands: 15\n",
       "10. (x * y) / (z * w)\n",
       "    core type: Operation\n",
       "    operator: 28\n",
       "    operands: 16\n",
       "11. x in Complex\n",
       "    core type: Operation\n",
       "    operator: 20\n",
       "    operands: 17\n",
       "12. y in Complex\n",
       "    core type: Operation\n",
       "    operator: 20\n",
       "    operands: 18\n",
       "13. z in Complex\n",
       "    core type: Operation\n",
       "    operator: 20\n",
       "    operands: 19\n",
       "14. w in Complex\n",
       "    core type: Operation\n",
       "    operator: 20\n",
       "    operands: 21\n",
       "15. (x / z, y / w)\n",
       "    core type: ExprTuple\n",
       "    sub-expressions: 22, 23\n",
       "16. (x * y, z * w)\n",
       "    core type: ExprTuple\n",
       "    sub-expressions: 24, 25\n",
       "17. (x, Complex)\n",
       "    core type: ExprTuple\n",
       "    sub-expressions: 33, 26\n",
       "18. (y, Complex)\n",
       "    core type: ExprTuple\n",
       "    sub-expressions: 34, 26\n",
       "19. (z, Complex)\n",
       "    core type: ExprTuple\n",
       "    sub-expressions: 35, 26\n",
       "20. in\n",
       "    core type: Literal\n",
       "    sub-expressions: \n",
       "21. (w, Complex)\n",
       "    core type: ExprTuple\n",
       "    sub-expressions: 36, 26\n",
       "22. x / z\n",
       "    core type: Operation\n",
       "    operator: 28\n",
       "    operands: 27\n",
       "23. y / w\n",
       "    core type: Operation\n",
       "    operator: 28\n",
       "    operands: 29\n",
       "24. x * y\n",
       "    core type: Operation\n",
       "    operator: 31\n",
       "    operands: 30\n",
       "25. z * w\n",
       "    core type: Operation\n",
       "    operator: 31\n",
       "    operands: 32\n",
       "26. Complex\n",
       "    core type: Literal\n",
       "    sub-expressions: \n",
       "27. (x, z)\n",
       "    core type: ExprTuple\n",
       "    sub-expressions: 33, 35\n",
       "28. /\n",
       "    core type: Literal\n",
       "    sub-expressions: \n",
       "29. (y, w)\n",
       "    core type: ExprTuple\n",
       "    sub-expressions: 34, 36\n",
       "30. (x, y)\n",
       "    core type: ExprTuple\n",
       "    sub-expressions: 33, 34\n",
       "31. *\n",
       "    core type: Literal\n",
       "    sub-expressions: \n",
       "32. (z, w)\n",
       "    core type: ExprTuple\n",
       "    sub-expressions: 35, 36\n",
       "33. x\n",
       "    core type: Variable\n",
       "    sub-expressions: \n",
       "34. y\n",
       "    core type: Variable\n",
       "    sub-expressions: \n",
       "35. z\n",
       "    core type: Variable\n",
       "    sub-expressions: \n",
       "36. w\n",
       "    core type: Variable\n",
       "    sub-expressions: "
      ]
     },
     "execution_count": 5,
     "metadata": {},
     "output_type": "execute_result"
    }
   ],
   "source": [
    "# display the expression information\n",
    "expr.expr_info()"
   ]
  },
  {
   "cell_type": "code",
   "execution_count": null,
   "metadata": {},
   "outputs": [],
   "source": []
  }
 ],
 "metadata": {
  "kernelspec": {
   "display_name": "Python 3",
   "language": "python",
   "name": "python3"
  }
 },
 "nbformat": 4,
 "nbformat_minor": 0
}