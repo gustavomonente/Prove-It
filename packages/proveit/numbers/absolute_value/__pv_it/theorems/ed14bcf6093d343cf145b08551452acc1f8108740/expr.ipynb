{
 "cells": [
  {
   "cell_type": "markdown",
   "metadata": {},
   "source": [
    "Expression of type <a class=\"ProveItLink\" href=\"../../../../../../../doc/html/api/proveit.Lambda.html\">Lambda</a>\n",
    "=======================\n",
    "# from the theory of <a class=\"ProveItLink\" href=\"../../../_theory_nbs_/theory.ipynb\">proveit.numbers.absolute_value</a>"
   ]
  },
  {
   "cell_type": "code",
   "execution_count": 1,
   "metadata": {},
   "outputs": [],
   "source": [
    "import proveit\n",
    "# Automation is not needed when building an expression:\n",
    "proveit.defaults.automation = False # This will speed things up.\n",
    "proveit.defaults.inline_pngs = False # Makes files smaller.\n",
    "%load_expr # Load the stored expression as 'stored_expr'\n",
    "# import Expression classes needed to build the expression\n",
    "from proveit import Conditional, Lambda, a\n",
    "from proveit.logic import InSet\n",
    "from proveit.numbers import Abs, Complex, RealNonNeg"
   ]
  },
  {
   "cell_type": "code",
   "execution_count": 2,
   "metadata": {},
   "outputs": [
    {
     "data": {
      "text/html": [
       "<strong id=\"expr\">expr:</strong> <a class=\"ProveItLink\" href=\"expr.ipynb\"><img src=\"expr.png\" style=\"display:inline;vertical-align:middle;\" /></a><br>"
      ],
      "text/plain": [
       "expr: a -> {|a| in RealNonNeg if a in Complex."
      ]
     },
     "execution_count": 2,
     "metadata": {},
     "output_type": "execute_result"
    }
   ],
   "source": [
    "# build up the expression from sub-expressions\n",
    "expr = Lambda(a, Conditional(InSet(Abs(a), RealNonNeg), InSet(a, Complex)))"
   ]
  },
  {
   "cell_type": "code",
   "execution_count": 3,
   "metadata": {},
   "outputs": [
    {
     "name": "stdout",
     "output_type": "stream",
     "text": [
      "Passed sanity check: expr matches stored_expr\n"
     ]
    }
   ],
   "source": [
    "# check that the built expression is the same as the stored expression\n",
    "assert expr == stored_expr\n",
    "assert expr._style_id == stored_expr._style_id\n",
    "print(\"Passed sanity check: expr matches stored_expr\")"
   ]
  },
  {
   "cell_type": "code",
   "execution_count": 4,
   "metadata": {},
   "outputs": [
    {
     "name": "stdout",
     "output_type": "stream",
     "text": [
      "a \\mapsto \\left\\{\\left|a\\right| \\in \\mathbb{R}^{\\ge 0} \\textrm{ if } a \\in \\mathbb{C}\\right..\n"
     ]
    }
   ],
   "source": [
    "# Show the LaTeX representation of the expression for convenience if you need it.\n",
    "print(expr.latex())"
   ]
  },
  {
   "cell_type": "code",
   "execution_count": 5,
   "metadata": {},
   "outputs": [
    {
     "data": {
      "text/html": [
       "<table><tr><th>&nbsp;</th><th>core type</th><th>sub-expressions</th><th>expression</th></tr>\n",
       "<tr><td>0</td><td>Lambda</td><td>parameter:&nbsp;11<br>body:&nbsp;1<br></td><td><a class=\"ProveItLink\" href=\"expr.ipynb\"><img src=\"expr.png\" style=\"display:inline;vertical-align:middle;\" /></a></td></tr>\n",
       "<tr><td>1</td><td>Conditional</td><td>value:&nbsp;2<br>condition:&nbsp;3<br></td><td><a class=\"ProveItLink\" href=\"../879406eff697353e42912667ad714d94b12d39450/expr.ipynb\"><img src=\"../879406eff697353e42912667ad714d94b12d39450/expr.png\" style=\"display:inline;vertical-align:middle;\" /></a></td></tr>\n",
       "<tr><td>2</td><td>Operation</td><td>operator:&nbsp;5<br>operands:&nbsp;4<br></td><td><a class=\"ProveItLink\" href=\"../53d40c0b3a3d6990d40a7fc933b359ab2cbe509a0/expr.ipynb\"><img src=\"../53d40c0b3a3d6990d40a7fc933b359ab2cbe509a0/expr.png\" style=\"display:inline;vertical-align:middle;\" /></a></td></tr>\n",
       "<tr><td>3</td><td>Operation</td><td>operator:&nbsp;5<br>operands:&nbsp;6<br></td><td><a class=\"ProveItLink\" href=\"../ffc4a45642fde8a513aa78237f7ca59ff7c646290/expr.ipynb\"><img src=\"../ffc4a45642fde8a513aa78237f7ca59ff7c646290/expr.png\" style=\"display:inline;vertical-align:middle;\" /></a></td></tr>\n",
       "<tr><td>4</td><td>ExprTuple</td><td>7, 8</td><td><a class=\"ProveItLink\" href=\"../cdac921000d3a4e3b61919f10548d61e212a59bb0/expr.ipynb\"><img src=\"../cdac921000d3a4e3b61919f10548d61e212a59bb0/expr.png\" style=\"display:inline;vertical-align:middle;\" /></a></td></tr>\n",
       "<tr><td>5</td><td>Literal</td><td></td><td><a class=\"ProveItLink\" href=\"../../../../../logic/sets/membership/__pv_it/common/477487d8796864d23d5810f83761435f25167f690/expr.ipynb\"><img src=\"../../../../../logic/sets/membership/__pv_it/common/477487d8796864d23d5810f83761435f25167f690/expr.png\" style=\"display:inline;vertical-align:middle;\" /></a></td></tr>\n",
       "<tr><td>6</td><td>ExprTuple</td><td>11, 9</td><td><a class=\"ProveItLink\" href=\"../b09522ef7ab30f4ad67aa0f5ccb1edb96dc097ef0/expr.ipynb\"><img src=\"../b09522ef7ab30f4ad67aa0f5ccb1edb96dc097ef0/expr.png\" style=\"display:inline;vertical-align:middle;\" /></a></td></tr>\n",
       "<tr><td>7</td><td>Operation</td><td>operator:&nbsp;10<br>operand:&nbsp;11<br></td><td><a class=\"ProveItLink\" href=\"../5c19adb414aad0ce681b3fe0c453fe0a522c21ce0/expr.ipynb\"><img src=\"../5c19adb414aad0ce681b3fe0c453fe0a522c21ce0/expr.png\" style=\"display:inline;vertical-align:middle;\" /></a></td></tr>\n",
       "<tr><td>8</td><td>Literal</td><td></td><td><a class=\"ProveItLink\" href=\"../../../../number_sets/real_numbers/__pv_it/common/2dcda83bae696506ea8f9a83379941875866aa8b0/expr.ipynb\"><img src=\"../../../../number_sets/real_numbers/__pv_it/common/2dcda83bae696506ea8f9a83379941875866aa8b0/expr.png\" style=\"display:inline;vertical-align:middle;\" /></a></td></tr>\n",
       "<tr><td>9</td><td>Literal</td><td></td><td><a class=\"ProveItLink\" href=\"../../../../number_sets/complex_numbers/__pv_it/common/d18a028138f659eda00de597c28a3447fe87eb100/expr.ipynb\"><img src=\"../../../../number_sets/complex_numbers/__pv_it/common/d18a028138f659eda00de597c28a3447fe87eb100/expr.png\" style=\"display:inline;vertical-align:middle;\" /></a></td></tr>\n",
       "<tr><td>10</td><td>Literal</td><td></td><td><a class=\"ProveItLink\" href=\"../../common/eea56c667bc0aad2dc76ed04b44c2bd98b94005f0/expr.ipynb\"><img src=\"../../common/eea56c667bc0aad2dc76ed04b44c2bd98b94005f0/expr.png\" style=\"display:inline;vertical-align:middle;\" /></a></td></tr>\n",
       "<tr><td>11</td><td>Variable</td><td></td><td><a class=\"ProveItLink\" href=\"../../../../../__pv_it/common/c06c606ec12678c58933ac85412ecadc2ae28be60/expr.ipynb\"><img src=\"../../../../../__pv_it/common/c06c606ec12678c58933ac85412ecadc2ae28be60/expr.png\" style=\"display:inline;vertical-align:middle;\" /></a></td></tr>\n",
       "</table>\n"
      ],
      "text/plain": [
       "0. a -> {|a| in RealNonNeg if a in Complex.\n",
       "   core type: Lambda\n",
       "   parameter: 11\n",
       "   body: 1\n",
       "1. {|a| in RealNonNeg if a in Complex.\n",
       "   core type: Conditional\n",
       "   value: 2\n",
       "   condition: 3\n",
       "2. |a| in RealNonNeg\n",
       "   core type: Operation\n",
       "   operator: 5\n",
       "   operands: 4\n",
       "3. a in Complex\n",
       "   core type: Operation\n",
       "   operator: 5\n",
       "   operands: 6\n",
       "4. (|a|, RealNonNeg)\n",
       "   core type: ExprTuple\n",
       "   sub-expressions: 7, 8\n",
       "5. in\n",
       "   core type: Literal\n",
       "   sub-expressions: \n",
       "6. (a, Complex)\n",
       "   core type: ExprTuple\n",
       "   sub-expressions: 11, 9\n",
       "7. |a|\n",
       "   core type: Operation\n",
       "   operator: 10\n",
       "   operand: 11\n",
       "8. RealNonNeg\n",
       "   core type: Literal\n",
       "   sub-expressions: \n",
       "9. Complex\n",
       "   core type: Literal\n",
       "   sub-expressions: \n",
       "10. Abs\n",
       "    core type: Literal\n",
       "    sub-expressions: \n",
       "11. a\n",
       "    core type: Variable\n",
       "    sub-expressions: "
      ]
     },
     "execution_count": 5,
     "metadata": {},
     "output_type": "execute_result"
    }
   ],
   "source": [
    "# display the expression information\n",
    "expr.expr_info()"
   ]
  },
  {
   "cell_type": "code",
   "execution_count": null,
   "metadata": {},
   "outputs": [],
   "source": []
  }
 ],
 "metadata": {
  "kernelspec": {
   "display_name": "Python 3",
   "language": "python",
   "name": "python3"
  }
 },
 "nbformat": 4,
 "nbformat_minor": 0
}