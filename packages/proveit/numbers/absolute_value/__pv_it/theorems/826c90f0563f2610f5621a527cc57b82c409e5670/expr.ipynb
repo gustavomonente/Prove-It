{
 "cells": [
  {
   "cell_type": "markdown",
   "metadata": {},
   "source": [
    "Expression of type <a class=\"ProveItLink\" href=\"../../../../../../../doc/html/api/proveit.Conditional.html\">Conditional</a>\n",
    "=======================\n",
    "# from the theory of <a class=\"ProveItLink\" href=\"../../../_theory_nbs_/theory.ipynb\">proveit.numbers.absolute_value</a>"
   ]
  },
  {
   "cell_type": "code",
   "execution_count": 1,
   "metadata": {},
   "outputs": [],
   "source": [
    "import proveit\n",
    "# Automation is not needed when building an expression:\n",
    "proveit.defaults.automation = False # This will speed things up.\n",
    "proveit.defaults.inline_pngs = False # Makes files smaller.\n",
    "%load_expr # Load the stored expression as 'stored_expr'\n",
    "# import Expression classes needed to build the expression\n",
    "from proveit import Conditional, ExprRange, IndexedVar, i, n, x\n",
    "from proveit.core_expr_types import x_1_to_n\n",
    "from proveit.logic import Equals, Forall, InSet\n",
    "from proveit.numbers import Abs, Complex, Mult, NaturalPos, one"
   ]
  },
  {
   "cell_type": "code",
   "execution_count": 2,
   "metadata": {},
   "outputs": [
    {
     "data": {
      "text/html": [
       "<strong id=\"expr\">expr:</strong> <a class=\"ProveItLink\" href=\"expr.ipynb\"><img src=\"expr.png\" style=\"display:inline;vertical-align:middle;\" /></a><br>"
      ],
      "text/plain": [
       "expr: {forall_{x_{1}, ..x_{_a}.., x_{n} in Complex} (|x_{1} * ..x_{_a}.. * x_{n}| = (|x_{1}| * ..|x_{i}|.. * |x_{n}|)) if n in NaturalPos."
      ]
     },
     "execution_count": 2,
     "metadata": {},
     "output_type": "execute_result"
    }
   ],
   "source": [
    "# build up the expression from sub-expressions\n",
    "expr = Conditional(Forall([x_1_to_n], Equals(Abs(Mult(x_1_to_n)), Mult(ExprRange(i, Abs(IndexedVar(x, i)), one, n))), domains = [Complex]), InSet(n, NaturalPos))"
   ]
  },
  {
   "cell_type": "code",
   "execution_count": 3,
   "metadata": {},
   "outputs": [
    {
     "name": "stdout",
     "output_type": "stream",
     "text": [
      "Passed sanity check: expr matches stored_expr\n"
     ]
    }
   ],
   "source": [
    "# check that the built expression is the same as the stored expression\n",
    "assert expr == stored_expr\n",
    "assert expr._style_id == stored_expr._style_id\n",
    "print(\"Passed sanity check: expr matches stored_expr\")"
   ]
  },
  {
   "cell_type": "code",
   "execution_count": 4,
   "metadata": {},
   "outputs": [
    {
     "name": "stdout",
     "output_type": "stream",
     "text": [
      "\\left\\{\\forall_{x_{1}, \\ldots, x_{n} \\in \\mathbb{C}}~\\left(\\left|x_{1} \\cdot \\ldots \\cdot x_{n}\\right| = \\left(\\left|x_{1}\\right| \\cdot \\ldots \\cdot \\left|x_{n}\\right|\\right)\\right) \\textrm{ if } n \\in \\mathbb{N}^+\\right..\n"
     ]
    }
   ],
   "source": [
    "# Show the LaTeX representation of the expression for convenience if you need it.\n",
    "print(expr.latex())"
   ]
  },
  {
   "cell_type": "code",
   "execution_count": 5,
   "metadata": {},
   "outputs": [
    {
     "data": {
      "text/html": [
       "<table>\n",
       "<tr><th>name</th><th>description</th><th>default</th><th>current value</th><th>related methods</th></tr><tr><td>condition_delimiter</td><td>'comma' or 'and'</td><td>comma</td><td>comma</td><td>('with_comma_delimiter', 'with_conjunction_delimiter')</td></tr>\n",
       "</table>\n"
      ],
      "text/plain": [
       "style name: condition_delimiter\n",
       "description: 'comma' or 'and'\n",
       "default: comma\n",
       "current value: comma\n",
       "related methods: ('with_comma_delimiter', 'with_conjunction_delimiter')"
      ]
     },
     "execution_count": 5,
     "metadata": {},
     "output_type": "execute_result"
    }
   ],
   "source": [
    "expr.style_options()"
   ]
  },
  {
   "cell_type": "code",
   "execution_count": 6,
   "metadata": {},
   "outputs": [
    {
     "data": {
      "text/html": [
       "<table><tr><th>&nbsp;</th><th>core type</th><th>sub-expressions</th><th>expression</th></tr>\n",
       "<tr><td>0</td><td>Conditional</td><td>value:&nbsp;1<br>condition:&nbsp;2<br></td><td><a class=\"ProveItLink\" href=\"expr.ipynb\"><img src=\"expr.png\" style=\"display:inline;vertical-align:middle;\" /></a></td></tr>\n",
       "<tr><td>1</td><td>Operation</td><td>operator:&nbsp;3<br>operand:&nbsp;6<br></td><td><a class=\"ProveItLink\" href=\"../39036a76c9317a45a5db62998a41d1d76bc0346d0/expr.ipynb\"><img src=\"../39036a76c9317a45a5db62998a41d1d76bc0346d0/expr.png\" style=\"display:inline;vertical-align:middle;\" /></a></td></tr>\n",
       "<tr><td>2</td><td>Operation</td><td>operator:&nbsp;27<br>operands:&nbsp;5<br></td><td><a class=\"ProveItLink\" href=\"../ae59bd0f03e1fa8f7acebab16a13247bdc6eea470/expr.ipynb\"><img src=\"../ae59bd0f03e1fa8f7acebab16a13247bdc6eea470/expr.png\" style=\"display:inline;vertical-align:middle;\" /></a></td></tr>\n",
       "<tr><td>3</td><td>Literal</td><td></td><td><a class=\"ProveItLink\" href=\"../../../../../logic/booleans/quantification/universality/__pv_it/common/684d35ba98fcbf8ca5011f865e530a51e77730630/expr.ipynb\"><img src=\"../../../../../logic/booleans/quantification/universality/__pv_it/common/684d35ba98fcbf8ca5011f865e530a51e77730630/expr.png\" style=\"display:inline;vertical-align:middle;\" /></a></td></tr>\n",
       "<tr><td>4</td><td>ExprTuple</td><td>6</td><td><a class=\"ProveItLink\" href=\"../65d611fa8eeed7c36435e1f154550645dd0b12400/expr.ipynb\"><img src=\"../65d611fa8eeed7c36435e1f154550645dd0b12400/expr.png\" style=\"display:inline;vertical-align:middle;\" /></a></td></tr>\n",
       "<tr><td>5</td><td>ExprTuple</td><td>34, 7</td><td><a class=\"ProveItLink\" href=\"../080dd91cc3570be1095df8a1115684c8dda0284e0/expr.ipynb\"><img src=\"../080dd91cc3570be1095df8a1115684c8dda0284e0/expr.png\" style=\"display:inline;vertical-align:middle;\" /></a></td></tr>\n",
       "<tr><td>6</td><td>Lambda</td><td>parameters:&nbsp;25<br>body:&nbsp;8<br></td><td><a class=\"ProveItLink\" href=\"../8a933bca03c38fd4fce512fc312c8def236ff8ed0/expr.ipynb\"><img src=\"../8a933bca03c38fd4fce512fc312c8def236ff8ed0/expr.png\" style=\"display:inline;vertical-align:middle;\" /></a></td></tr>\n",
       "<tr><td>7</td><td>Literal</td><td></td><td><a class=\"ProveItLink\" href=\"../../../../number_sets/natural_numbers/__pv_it/common/a2a7252783c385c028dad802e97575c19e456b990/expr.ipynb\"><img src=\"../../../../number_sets/natural_numbers/__pv_it/common/a2a7252783c385c028dad802e97575c19e456b990/expr.png\" style=\"display:inline;vertical-align:middle;\" /></a></td></tr>\n",
       "<tr><td>8</td><td>Conditional</td><td>value:&nbsp;9<br>condition:&nbsp;10<br></td><td><a class=\"ProveItLink\" href=\"../f920c37dcd5b33a1403372d3653e3dfdab1b6aa90/expr.ipynb\"><img src=\"../f920c37dcd5b33a1403372d3653e3dfdab1b6aa90/expr.png\" style=\"display:inline;vertical-align:middle;\" /></a></td></tr>\n",
       "<tr><td>9</td><td>Operation</td><td>operator:&nbsp;11<br>operands:&nbsp;12<br></td><td><a class=\"ProveItLink\" href=\"../c53fb2605ccf8d1e2aef74c1888f82258875eaac0/expr.ipynb\"><img src=\"../c53fb2605ccf8d1e2aef74c1888f82258875eaac0/expr.png\" style=\"display:inline;vertical-align:middle;\" /></a></td></tr>\n",
       "<tr><td>10</td><td>Operation</td><td>operator:&nbsp;13<br>operands:&nbsp;14<br></td><td><a class=\"ProveItLink\" href=\"../7803f8bcfdf458143e54ef1dc9c18857e0d1a6430/expr.ipynb\"><img src=\"../7803f8bcfdf458143e54ef1dc9c18857e0d1a6430/expr.png\" style=\"display:inline;vertical-align:middle;\" /></a></td></tr>\n",
       "<tr><td>11</td><td>Literal</td><td></td><td><a class=\"ProveItLink\" href=\"../../../../../logic/equality/__pv_it/common/731dd3955b346c1320ed5c0ba7a618bcda61457d0/expr.ipynb\"><img src=\"../../../../../logic/equality/__pv_it/common/731dd3955b346c1320ed5c0ba7a618bcda61457d0/expr.png\" style=\"display:inline;vertical-align:middle;\" /></a></td></tr>\n",
       "<tr><td>12</td><td>ExprTuple</td><td>15, 16</td><td><a class=\"ProveItLink\" href=\"../ed6bb0ac0666ec6910cdba2468d3afb913e964ec0/expr.ipynb\"><img src=\"../ed6bb0ac0666ec6910cdba2468d3afb913e964ec0/expr.png\" style=\"display:inline;vertical-align:middle;\" /></a></td></tr>\n",
       "<tr><td>13</td><td>Literal</td><td></td><td><a class=\"ProveItLink\" href=\"../../../../../logic/booleans/conjunction/__pv_it/common/26b94b53e70b1d77b70f0d9d4236347db37731060/expr.ipynb\"><img src=\"../../../../../logic/booleans/conjunction/__pv_it/common/26b94b53e70b1d77b70f0d9d4236347db37731060/expr.png\" style=\"display:inline;vertical-align:middle;\" /></a></td></tr>\n",
       "<tr><td>14</td><td>ExprTuple</td><td>17</td><td><a class=\"ProveItLink\" href=\"../136cf3b9ca515f421635beca0c5d7c51e3cbd90a0/expr.ipynb\"><img src=\"../136cf3b9ca515f421635beca0c5d7c51e3cbd90a0/expr.png\" style=\"display:inline;vertical-align:middle;\" /></a></td></tr>\n",
       "<tr><td>15</td><td>Operation</td><td>operator:&nbsp;35<br>operand:&nbsp;21<br></td><td><a class=\"ProveItLink\" href=\"../f54d025760e2e7a2fee5916abc59880fa29efb160/expr.ipynb\"><img src=\"../f54d025760e2e7a2fee5916abc59880fa29efb160/expr.png\" style=\"display:inline;vertical-align:middle;\" /></a></td></tr>\n",
       "<tr><td>16</td><td>Operation</td><td>operator:&nbsp;24<br>operands:&nbsp;19<br></td><td><a class=\"ProveItLink\" href=\"../bb34ec5ec8ddac71cf38fdb5fd3c568d8b347d8c0/expr.ipynb\"><img src=\"../bb34ec5ec8ddac71cf38fdb5fd3c568d8b347d8c0/expr.png\" style=\"display:inline;vertical-align:middle;\" /></a></td></tr>\n",
       "<tr><td>17</td><td>ExprRange</td><td>lambda_map:&nbsp;20<br>start_index:&nbsp;33<br>end_index:&nbsp;34<br></td><td><a class=\"ProveItLink\" href=\"../512ec2cee4097af5b40e05d90efae9d1da6f3dd20/expr.ipynb\"><img src=\"../512ec2cee4097af5b40e05d90efae9d1da6f3dd20/expr.png\" style=\"display:inline;vertical-align:middle;\" /></a></td></tr>\n",
       "<tr><td>18</td><td>ExprTuple</td><td>21</td><td><a class=\"ProveItLink\" href=\"../11b0857f8e2c24d3b132cb9eaf20a8de428825160/expr.ipynb\"><img src=\"../11b0857f8e2c24d3b132cb9eaf20a8de428825160/expr.png\" style=\"display:inline;vertical-align:middle;\" /></a></td></tr>\n",
       "<tr><td>19</td><td>ExprTuple</td><td>22</td><td><a class=\"ProveItLink\" href=\"../f264adc2bac3feacf620b97c2e91be8e0f18fe340/expr.ipynb\"><img src=\"../f264adc2bac3feacf620b97c2e91be8e0f18fe340/expr.png\" style=\"display:inline;vertical-align:middle;\" /></a></td></tr>\n",
       "<tr><td>20</td><td>Lambda</td><td>parameter:&nbsp;42<br>body:&nbsp;23<br></td><td><a class=\"ProveItLink\" href=\"../a98ae35d3bf24271a73df778fe194e518c93d6de0/expr.ipynb\"><img src=\"../a98ae35d3bf24271a73df778fe194e518c93d6de0/expr.png\" style=\"display:inline;vertical-align:middle;\" /></a></td></tr>\n",
       "<tr><td>21</td><td>Operation</td><td>operator:&nbsp;24<br>operands:&nbsp;25<br></td><td><a class=\"ProveItLink\" href=\"../001be0416f25c651972c51df23827a686200cffe0/expr.ipynb\"><img src=\"../001be0416f25c651972c51df23827a686200cffe0/expr.png\" style=\"display:inline;vertical-align:middle;\" /></a></td></tr>\n",
       "<tr><td>22</td><td>ExprRange</td><td>lambda_map:&nbsp;26<br>start_index:&nbsp;33<br>end_index:&nbsp;34<br></td><td><a class=\"ProveItLink\" href=\"../f930a168402824ba9b1a810e38ac937de5f64e8b0/expr.ipynb\"><img src=\"../f930a168402824ba9b1a810e38ac937de5f64e8b0/expr.png\" style=\"display:inline;vertical-align:middle;\" /></a></td></tr>\n",
       "<tr><td>23</td><td>Operation</td><td>operator:&nbsp;27<br>operands:&nbsp;28<br></td><td><a class=\"ProveItLink\" href=\"../01a62bd6ee1d67a8e86de61bfe1b50967d48ffbc0/expr.ipynb\"><img src=\"../01a62bd6ee1d67a8e86de61bfe1b50967d48ffbc0/expr.png\" style=\"display:inline;vertical-align:middle;\" /></a></td></tr>\n",
       "<tr><td>24</td><td>Literal</td><td></td><td><a class=\"ProveItLink\" href=\"../../../../multiplication/__pv_it/common/c57d60974865e78d434abd3ff22c405685c80ade0/expr.ipynb\"><img src=\"../../../../multiplication/__pv_it/common/c57d60974865e78d434abd3ff22c405685c80ade0/expr.png\" style=\"display:inline;vertical-align:middle;\" /></a></td></tr>\n",
       "<tr><td>25</td><td>ExprTuple</td><td>29</td><td><a class=\"ProveItLink\" href=\"../68879e82f57b50f8b10ac886a15df49e26599dca0/expr.ipynb\"><img src=\"../68879e82f57b50f8b10ac886a15df49e26599dca0/expr.png\" style=\"display:inline;vertical-align:middle;\" /></a></td></tr>\n",
       "<tr><td>26</td><td>Lambda</td><td>parameter:&nbsp;43<br>body:&nbsp;30<br></td><td><a class=\"ProveItLink\" href=\"../555918563af1623e8b275d4059f61666bb0fafc00/expr.ipynb\"><img src=\"../555918563af1623e8b275d4059f61666bb0fafc00/expr.png\" style=\"display:inline;vertical-align:middle;\" /></a></td></tr>\n",
       "<tr><td>27</td><td>Literal</td><td></td><td><a class=\"ProveItLink\" href=\"../../../../../logic/sets/membership/__pv_it/common/7171deca84f71f47a6ec7696972d1632274a12880/expr.ipynb\"><img src=\"../../../../../logic/sets/membership/__pv_it/common/7171deca84f71f47a6ec7696972d1632274a12880/expr.png\" style=\"display:inline;vertical-align:middle;\" /></a></td></tr>\n",
       "<tr><td>28</td><td>ExprTuple</td><td>37, 31</td><td><a class=\"ProveItLink\" href=\"../ebde321a28df9cef74e39c8050cbc1971d18c4f60/expr.ipynb\"><img src=\"../ebde321a28df9cef74e39c8050cbc1971d18c4f60/expr.png\" style=\"display:inline;vertical-align:middle;\" /></a></td></tr>\n",
       "<tr><td>29</td><td>ExprRange</td><td>lambda_map:&nbsp;32<br>start_index:&nbsp;33<br>end_index:&nbsp;34<br></td><td><a class=\"ProveItLink\" href=\"../../../../../core_expr_types/__pv_it/common/787727f81f9180661d3864875ecab8ab340921c50/expr.ipynb\"><img src=\"../../../../../core_expr_types/__pv_it/common/787727f81f9180661d3864875ecab8ab340921c50/expr.png\" style=\"display:inline;vertical-align:middle;\" /></a></td></tr>\n",
       "<tr><td>30</td><td>Operation</td><td>operator:&nbsp;35<br>operand:&nbsp;38<br></td><td><a class=\"ProveItLink\" href=\"../b705fe99773c371192cf13a48cb9754723984f2b0/expr.ipynb\"><img src=\"../b705fe99773c371192cf13a48cb9754723984f2b0/expr.png\" style=\"display:inline;vertical-align:middle;\" /></a></td></tr>\n",
       "<tr><td>31</td><td>Literal</td><td></td><td><a class=\"ProveItLink\" href=\"../../../../number_sets/complex_numbers/__pv_it/common/fbfabc61f6f66350b130e5a55a72b80825c065f90/expr.ipynb\"><img src=\"../../../../number_sets/complex_numbers/__pv_it/common/fbfabc61f6f66350b130e5a55a72b80825c065f90/expr.png\" style=\"display:inline;vertical-align:middle;\" /></a></td></tr>\n",
       "<tr><td>32</td><td>Lambda</td><td>parameter:&nbsp;42<br>body:&nbsp;37<br></td><td><a class=\"ProveItLink\" href=\"../../../../../core_expr_types/__pv_it/common/9f9da64a6f3f7f4d7d39593366f06c70046127720/expr.ipynb\"><img src=\"../../../../../core_expr_types/__pv_it/common/9f9da64a6f3f7f4d7d39593366f06c70046127720/expr.png\" style=\"display:inline;vertical-align:middle;\" /></a></td></tr>\n",
       "<tr><td>33</td><td>Literal</td><td></td><td><a class=\"ProveItLink\" href=\"../../../../numerals/__pv_it/common/d278e359da0695d9652dd541d45264f93703e2e40/expr.ipynb\"><img src=\"../../../../numerals/__pv_it/common/d278e359da0695d9652dd541d45264f93703e2e40/expr.png\" style=\"display:inline;vertical-align:middle;\" /></a></td></tr>\n",
       "<tr><td>34</td><td>Variable</td><td></td><td><a class=\"ProveItLink\" href=\"../../../../../__pv_it/common/6165c9bb82ce3c7097cdba4440a1aeeb6eaca8a40/expr.ipynb\"><img src=\"../../../../../__pv_it/common/6165c9bb82ce3c7097cdba4440a1aeeb6eaca8a40/expr.png\" style=\"display:inline;vertical-align:middle;\" /></a></td></tr>\n",
       "<tr><td>35</td><td>Literal</td><td></td><td><a class=\"ProveItLink\" href=\"../../common/6430f141f5f0b9665d136ab5dd21c24f48b3a19c0/expr.ipynb\"><img src=\"../../common/6430f141f5f0b9665d136ab5dd21c24f48b3a19c0/expr.png\" style=\"display:inline;vertical-align:middle;\" /></a></td></tr>\n",
       "<tr><td>36</td><td>ExprTuple</td><td>38</td><td><a class=\"ProveItLink\" href=\"../338dbdeb0f81b300f1eeeb5f09245105cfd414c10/expr.ipynb\"><img src=\"../338dbdeb0f81b300f1eeeb5f09245105cfd414c10/expr.png\" style=\"display:inline;vertical-align:middle;\" /></a></td></tr>\n",
       "<tr><td>37</td><td>IndexedVar</td><td>variable:&nbsp;40<br>index:&nbsp;42<br></td><td><a class=\"ProveItLink\" href=\"../../../../../core_expr_types/__pv_it/common/2b235eefbcbf7d9287528d44110903b9cfed0a2a0/expr.ipynb\"><img src=\"../../../../../core_expr_types/__pv_it/common/2b235eefbcbf7d9287528d44110903b9cfed0a2a0/expr.png\" style=\"display:inline;vertical-align:middle;\" /></a></td></tr>\n",
       "<tr><td>38</td><td>IndexedVar</td><td>variable:&nbsp;40<br>index:&nbsp;43<br></td><td><a class=\"ProveItLink\" href=\"../3708fa6fd3d04458ab16eb7c4b059dc7522594760/expr.ipynb\"><img src=\"../3708fa6fd3d04458ab16eb7c4b059dc7522594760/expr.png\" style=\"display:inline;vertical-align:middle;\" /></a></td></tr>\n",
       "<tr><td>39</td><td>ExprTuple</td><td>42</td><td><a class=\"ProveItLink\" href=\"../../../../../core_expr_types/__pv_it/common/ecf50ade416ab41c42c9f4e777b4c862cd9469670/expr.ipynb\"><img src=\"../../../../../core_expr_types/__pv_it/common/ecf50ade416ab41c42c9f4e777b4c862cd9469670/expr.png\" style=\"display:inline;vertical-align:middle;\" /></a></td></tr>\n",
       "<tr><td>40</td><td>Variable</td><td></td><td><a class=\"ProveItLink\" href=\"../../../../../__pv_it/common/a2581dc5df71d9a30bad37de14965fa5fec97a240/expr.ipynb\"><img src=\"../../../../../__pv_it/common/a2581dc5df71d9a30bad37de14965fa5fec97a240/expr.png\" style=\"display:inline;vertical-align:middle;\" /></a></td></tr>\n",
       "<tr><td>41</td><td>ExprTuple</td><td>43</td><td><a class=\"ProveItLink\" href=\"../6420c4d2520c27c1137ad22005291620057456040/expr.ipynb\"><img src=\"../6420c4d2520c27c1137ad22005291620057456040/expr.png\" style=\"display:inline;vertical-align:middle;\" /></a></td></tr>\n",
       "<tr><td>42</td><td>Variable</td><td></td><td><a class=\"ProveItLink\" href=\"../../../../../core_expr_types/__pv_it/common/9e6d9d5d7eeb0342cf5bca68def0eb165a1a9bb10/expr.ipynb\"><img src=\"../../../../../core_expr_types/__pv_it/common/9e6d9d5d7eeb0342cf5bca68def0eb165a1a9bb10/expr.png\" style=\"display:inline;vertical-align:middle;\" /></a></td></tr>\n",
       "<tr><td>43</td><td>Variable</td><td></td><td><a class=\"ProveItLink\" href=\"../../../../../__pv_it/common/575a6156bb1c87c5beeaf38c302b5905ad57f5780/expr.ipynb\"><img src=\"../../../../../__pv_it/common/575a6156bb1c87c5beeaf38c302b5905ad57f5780/expr.png\" style=\"display:inline;vertical-align:middle;\" /></a></td></tr>\n",
       "</table>\n"
      ],
      "text/plain": [
       "0. {forall_{x_{1}, ..x_{_a}.., x_{n} in Complex} (|x_{1} * ..x_{_a}.. * x_{n}| = (|x_{1}| * ..|x_{i}|.. * |x_{n}|)) if n in NaturalPos.\n",
       "   core type: Conditional\n",
       "   value: 1\n",
       "   condition: 2\n",
       "1. forall_{x_{1}, ..x_{_a}.., x_{n} in Complex} (|x_{1} * ..x_{_a}.. * x_{n}| = (|x_{1}| * ..|x_{i}|.. * |x_{n}|))\n",
       "   core type: Operation\n",
       "   operator: 3\n",
       "   operand: 6\n",
       "2. n in NaturalPos\n",
       "   core type: Operation\n",
       "   operator: 27\n",
       "   operands: 5\n",
       "3. forall\n",
       "   core type: Literal\n",
       "   sub-expressions: \n",
       "4. ((x_{1}, ..x_{_a}.., x_{n}) -> {|x_{1} * ..x_{_a}.. * x_{n}| = (|x_{1}| * ..|x_{i}|.. * |x_{n}|) if (x_{1} in Complex) and ..(x_{_a} in Complex).. and (x_{n} in Complex).)\n",
       "   core type: ExprTuple\n",
       "   sub-expressions: 6\n",
       "5. (n, NaturalPos)\n",
       "   core type: ExprTuple\n",
       "   sub-expressions: 34, 7\n",
       "6. (x_{1}, ..x_{_a}.., x_{n}) -> {|x_{1} * ..x_{_a}.. * x_{n}| = (|x_{1}| * ..|x_{i}|.. * |x_{n}|) if (x_{1} in Complex) and ..(x_{_a} in Complex).. and (x_{n} in Complex).\n",
       "   core type: Lambda\n",
       "   parameters: 25\\n   body: 8\n",
       "7. NaturalPos\n",
       "   core type: Literal\n",
       "   sub-expressions: \n",
       "8. {|x_{1} * ..x_{_a}.. * x_{n}| = (|x_{1}| * ..|x_{i}|.. * |x_{n}|) if (x_{1} in Complex) and ..(x_{_a} in Complex).. and (x_{n} in Complex).\n",
       "   core type: Conditional\n",
       "   value: 9\n",
       "   condition: 10\n",
       "9. |x_{1} * ..x_{_a}.. * x_{n}| = (|x_{1}| * ..|x_{i}|.. * |x_{n}|)\n",
       "   core type: Operation\n",
       "   operator: 11\n",
       "   operands: 12\n",
       "10. (x_{1} in Complex) and ..(x_{_a} in Complex).. and (x_{n} in Complex)\n",
       "    core type: Operation\n",
       "    operator: 13\n",
       "    operands: 14\n",
       "11. =\n",
       "    core type: Literal\n",
       "    sub-expressions: \n",
       "12. (|x_{1} * ..x_{_a}.. * x_{n}|, |x_{1}| * ..|x_{i}|.. * |x_{n}|)\n",
       "    core type: ExprTuple\n",
       "    sub-expressions: 15, 16\n",
       "13. and\n",
       "    core type: Literal\n",
       "    sub-expressions: \n",
       "14. (x_{1} in Complex, ..x_{_a} in Complex.., x_{n} in Complex)\n",
       "    core type: ExprTuple\n",
       "    sub-expressions: 17\n",
       "15. |x_{1} * ..x_{_a}.. * x_{n}|\n",
       "    core type: Operation\n",
       "    operator: 35\n",
       "    operand: 21\n",
       "16. |x_{1}| * ..|x_{i}|.. * |x_{n}|\n",
       "    core type: Operation\n",
       "    operator: 24\n",
       "    operands: 19\n",
       "17. (x_{1} in Complex), ..(x_{_a} in Complex).., (x_{n} in Complex)\n",
       "    core type: ExprRange\n",
       "    lambda_map: 20\n",
       "    start_index: 33\n",
       "    end_index: 34\n",
       "18. (x_{1} * ..x_{_a}.. * x_{n})\n",
       "    core type: ExprTuple\n",
       "    sub-expressions: 21\n",
       "19. (|x_{1}|, ..|x_{i}|.., |x_{n}|)\n",
       "    core type: ExprTuple\n",
       "    sub-expressions: 22\n",
       "20. _a -> (x_{_a} in Complex)\n",
       "    core type: Lambda\n",
       "    parameter: 42\n",
       "    body: 23\n",
       "21. x_{1} * ..x_{_a}.. * x_{n}\n",
       "    core type: Operation\n",
       "    operator: 24\n",
       "    operands: 25\n",
       "22. |x_{1}|, ..|x_{i}|.., |x_{n}|\n",
       "    core type: ExprRange\n",
       "    lambda_map: 26\n",
       "    start_index: 33\n",
       "    end_index: 34\n",
       "23. x_{_a} in Complex\n",
       "    core type: Operation\n",
       "    operator: 27\n",
       "    operands: 28\n",
       "24. *\n",
       "    core type: Literal\n",
       "    sub-expressions: \n",
       "25. (x_{1}, ..x_{_a}.., x_{n})\n",
       "    core type: ExprTuple\n",
       "    sub-expressions: 29\n",
       "26. i -> |x_{i}|\n",
       "    core type: Lambda\n",
       "    parameter: 43\n",
       "    body: 30\n",
       "27. in\n",
       "    core type: Literal\n",
       "    sub-expressions: \n",
       "28. (x_{_a}, Complex)\n",
       "    core type: ExprTuple\n",
       "    sub-expressions: 37, 31\n",
       "29. x_{1}, ..x_{_a}.., x_{n}\n",
       "    core type: ExprRange\n",
       "    lambda_map: 32\n",
       "    start_index: 33\n",
       "    end_index: 34\n",
       "30. |x_{i}|\n",
       "    core type: Operation\n",
       "    operator: 35\n",
       "    operand: 38\n",
       "31. Complex\n",
       "    core type: Literal\n",
       "    sub-expressions: \n",
       "32. _a -> x_{_a}\n",
       "    core type: Lambda\n",
       "    parameter: 42\n",
       "    body: 37\n",
       "33. 1\n",
       "    core type: Literal\n",
       "    sub-expressions: \n",
       "34. n\n",
       "    core type: Variable\n",
       "    sub-expressions: \n",
       "35. Abs\n",
       "    core type: Literal\n",
       "    sub-expressions: \n",
       "36. (x_{i})\n",
       "    core type: ExprTuple\n",
       "    sub-expressions: 38\n",
       "37. x_{_a}\n",
       "    core type: IndexedVar\n",
       "variable: 40\n",
       "index: 42\n",
       "38. x_{i}\n",
       "    core type: IndexedVar\n",
       "variable: 40\n",
       "index: 43\n",
       "39. (_a)\n",
       "    core type: ExprTuple\n",
       "    sub-expressions: 42\n",
       "40. x\n",
       "    core type: Variable\n",
       "    sub-expressions: \n",
       "41. (i)\n",
       "    core type: ExprTuple\n",
       "    sub-expressions: 43\n",
       "42. _a\n",
       "    core type: Variable\n",
       "    sub-expressions: \n",
       "43. i\n",
       "    core type: Variable\n",
       "    sub-expressions: "
      ]
     },
     "execution_count": 6,
     "metadata": {},
     "output_type": "execute_result"
    }
   ],
   "source": [
    "# display the expression information\n",
    "expr.expr_info()"
   ]
  },
  {
   "cell_type": "code",
   "execution_count": null,
   "metadata": {},
   "outputs": [],
   "source": []
  }
 ],
 "metadata": {
  "kernelspec": {
   "display_name": "Python 3",
   "language": "python",
   "name": "python3"
  }
 },
 "nbformat": 4,
 "nbformat_minor": 0
}