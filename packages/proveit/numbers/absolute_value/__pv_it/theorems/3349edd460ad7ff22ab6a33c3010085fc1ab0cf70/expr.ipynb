{
 "cells": [
  {
   "cell_type": "markdown",
   "metadata": {},
   "source": [
    "Expression of type <a class=\"ProveItLink\" href=\"../../../../../../../doc/html/api/proveit.Conditional.html\">Conditional</a>\n",
    "=======================\n",
    "# from the theory of <a class=\"ProveItLink\" href=\"../../../_theory_nbs_/theory.ipynb\">proveit.numbers.absolute_value</a>"
   ]
  },
  {
   "cell_type": "code",
   "execution_count": 1,
   "metadata": {},
   "outputs": [],
   "source": [
    "import proveit\n",
    "# Automation is not needed when building an expression:\n",
    "proveit.defaults.automation = False # This will speed things up.\n",
    "proveit.defaults.inline_pngs = False # Makes files smaller.\n",
    "%load_expr # Load the stored expression as 'stored_expr'\n",
    "# import Expression classes needed to build the expression\n",
    "from proveit import Conditional, ExprRange, IndexedVar, i, n, x\n",
    "from proveit.core_expr_types import x_1_to_n\n",
    "from proveit.logic import Equals, Forall, InSet\n",
    "from proveit.numbers import Abs, Complex, Mult, NaturalPos, one"
   ]
  },
  {
   "cell_type": "code",
   "execution_count": 2,
   "metadata": {},
   "outputs": [
    {
     "data": {
      "text/html": [
       "<strong id=\"expr\">expr:</strong> <a class=\"ProveItLink\" href=\"expr.ipynb\"><img src=\"expr.png\" style=\"display:inline;vertical-align:middle;\" /></a><br>"
      ],
      "text/plain": [
       "expr: {forall_{x_{1}, ..x_{_a}.., x_{n} in Complex} (|x_{1} * ..x_{_a}.. * x_{n}| = (|x_{1}| * ..|x_{i}|.. * |x_{n}|)) if n in NaturalPos."
      ]
     },
     "execution_count": 2,
     "metadata": {},
     "output_type": "execute_result"
    }
   ],
   "source": [
    "# build up the expression from sub-expressions\n",
    "expr = Conditional(Forall([x_1_to_n], Equals(Abs(Mult(x_1_to_n)), Mult(ExprRange(i, Abs(IndexedVar(x, i)), one, n))), domains = [Complex]), InSet(n, NaturalPos))"
   ]
  },
  {
   "cell_type": "code",
   "execution_count": 3,
   "metadata": {},
   "outputs": [
    {
     "name": "stdout",
     "output_type": "stream",
     "text": [
      "Passed sanity check: expr matches stored_expr\n"
     ]
    }
   ],
   "source": [
    "# check that the built expression is the same as the stored expression\n",
    "assert expr == stored_expr\n",
    "assert expr._style_id == stored_expr._style_id\n",
    "print(\"Passed sanity check: expr matches stored_expr\")"
   ]
  },
  {
   "cell_type": "code",
   "execution_count": 4,
   "metadata": {},
   "outputs": [
    {
     "name": "stdout",
     "output_type": "stream",
     "text": [
      "\\left\\{\\forall_{x_{1}, \\ldots, x_{n} \\in \\mathbb{C}}~\\left(\\left|x_{1} \\cdot \\ldots \\cdot x_{n}\\right| = \\left(\\left|x_{1}\\right| \\cdot \\ldots \\cdot \\left|x_{n}\\right|\\right)\\right) \\textrm{ if } n \\in \\mathbb{N}^+\\right..\n"
     ]
    }
   ],
   "source": [
    "# Show the LaTeX representation of the expression for convenience if you need it.\n",
    "print(expr.latex())"
   ]
  },
  {
   "cell_type": "code",
   "execution_count": 5,
   "metadata": {},
   "outputs": [
    {
     "data": {
      "text/html": [
       "<table><tr><th>&nbsp;</th><th>core type</th><th>sub-expressions</th><th>expression</th></tr>\n",
       "<tr><td>0</td><td>Conditional</td><td>value:&nbsp;1<br>condition:&nbsp;2<br></td><td><a class=\"ProveItLink\" href=\"expr.ipynb\"><img src=\"expr.png\" style=\"display:inline;vertical-align:middle;\" /></a></td></tr>\n",
       "<tr><td>1</td><td>Operation</td><td>operator:&nbsp;3<br>operand:&nbsp;4<br></td><td><a class=\"ProveItLink\" href=\"../94e1a77a6ab50b5af22f3e5aa46268cc7c49f2760/expr.ipynb\"><img src=\"../94e1a77a6ab50b5af22f3e5aa46268cc7c49f2760/expr.png\" style=\"display:inline;vertical-align:middle;\" /></a></td></tr>\n",
       "<tr><td>2</td><td>Operation</td><td>operator:&nbsp;26<br>operands:&nbsp;5<br></td><td><a class=\"ProveItLink\" href=\"../a9c01f72a8710eb6455c4786cc4a8aa9a8d1beb60/expr.ipynb\"><img src=\"../a9c01f72a8710eb6455c4786cc4a8aa9a8d1beb60/expr.png\" style=\"display:inline;vertical-align:middle;\" /></a></td></tr>\n",
       "<tr><td>3</td><td>Literal</td><td></td><td><a class=\"ProveItLink\" href=\"../../../../../logic/booleans/quantification/universality/__pv_it/common/083d2baa0b8ecab1d230f9ec29a15aa1355809fb0/expr.ipynb\"><img src=\"../../../../../logic/booleans/quantification/universality/__pv_it/common/083d2baa0b8ecab1d230f9ec29a15aa1355809fb0/expr.png\" style=\"display:inline;vertical-align:middle;\" /></a></td></tr>\n",
       "<tr><td>4</td><td>Lambda</td><td>parameters:&nbsp;21<br>body:&nbsp;6<br></td><td><a class=\"ProveItLink\" href=\"../2b93cbdad0b222c264dec1cb87ff4193bd5bfaa30/expr.ipynb\"><img src=\"../2b93cbdad0b222c264dec1cb87ff4193bd5bfaa30/expr.png\" style=\"display:inline;vertical-align:middle;\" /></a></td></tr>\n",
       "<tr><td>5</td><td>ExprTuple</td><td>30, 7</td><td><a class=\"ProveItLink\" href=\"../09d617a164cf3f820cb8170f3e1680673d4b7bf10/expr.ipynb\"><img src=\"../09d617a164cf3f820cb8170f3e1680673d4b7bf10/expr.png\" style=\"display:inline;vertical-align:middle;\" /></a></td></tr>\n",
       "<tr><td>6</td><td>Conditional</td><td>value:&nbsp;8<br>condition:&nbsp;9<br></td><td><a class=\"ProveItLink\" href=\"../d8c842131cb294ff4b2753fda8ba146ca9feb0790/expr.ipynb\"><img src=\"../d8c842131cb294ff4b2753fda8ba146ca9feb0790/expr.png\" style=\"display:inline;vertical-align:middle;\" /></a></td></tr>\n",
       "<tr><td>7</td><td>Literal</td><td></td><td><a class=\"ProveItLink\" href=\"../../../../number_sets/natural_numbers/__pv_it/common/6111329435c43892c831c4793de96afbf80bdb3e0/expr.ipynb\"><img src=\"../../../../number_sets/natural_numbers/__pv_it/common/6111329435c43892c831c4793de96afbf80bdb3e0/expr.png\" style=\"display:inline;vertical-align:middle;\" /></a></td></tr>\n",
       "<tr><td>8</td><td>Operation</td><td>operator:&nbsp;10<br>operands:&nbsp;11<br></td><td><a class=\"ProveItLink\" href=\"../0b3219711f70617e3b9358d3dfa136339c85e1660/expr.ipynb\"><img src=\"../0b3219711f70617e3b9358d3dfa136339c85e1660/expr.png\" style=\"display:inline;vertical-align:middle;\" /></a></td></tr>\n",
       "<tr><td>9</td><td>Operation</td><td>operator:&nbsp;12<br>operands:&nbsp;13<br></td><td><a class=\"ProveItLink\" href=\"../c59a44ba281f842cb1078086bed88f85187097910/expr.ipynb\"><img src=\"../c59a44ba281f842cb1078086bed88f85187097910/expr.png\" style=\"display:inline;vertical-align:middle;\" /></a></td></tr>\n",
       "<tr><td>10</td><td>Literal</td><td></td><td><a class=\"ProveItLink\" href=\"../../../../../logic/equality/__pv_it/common/fb96dc12b2aa8801dda64d0132b396c63d1502bb0/expr.ipynb\"><img src=\"../../../../../logic/equality/__pv_it/common/fb96dc12b2aa8801dda64d0132b396c63d1502bb0/expr.png\" style=\"display:inline;vertical-align:middle;\" /></a></td></tr>\n",
       "<tr><td>11</td><td>ExprTuple</td><td>14, 15</td><td><a class=\"ProveItLink\" href=\"../3220e6d22fcdceb5544a5c650e73553c64a317090/expr.ipynb\"><img src=\"../3220e6d22fcdceb5544a5c650e73553c64a317090/expr.png\" style=\"display:inline;vertical-align:middle;\" /></a></td></tr>\n",
       "<tr><td>12</td><td>Literal</td><td></td><td><a class=\"ProveItLink\" href=\"../../../../../logic/booleans/conjunction/__pv_it/common/42118ff318bd65d98b1393f64ce7c2269feef76e0/expr.ipynb\"><img src=\"../../../../../logic/booleans/conjunction/__pv_it/common/42118ff318bd65d98b1393f64ce7c2269feef76e0/expr.png\" style=\"display:inline;vertical-align:middle;\" /></a></td></tr>\n",
       "<tr><td>13</td><td>ExprTuple</td><td>16</td><td><a class=\"ProveItLink\" href=\"../7d7bf4ab67fe8884389a9290788d72febc49152a0/expr.ipynb\"><img src=\"../7d7bf4ab67fe8884389a9290788d72febc49152a0/expr.png\" style=\"display:inline;vertical-align:middle;\" /></a></td></tr>\n",
       "<tr><td>14</td><td>Operation</td><td>operator:&nbsp;34<br>operand:&nbsp;17<br></td><td><a class=\"ProveItLink\" href=\"../3d4de2b8f0e6aa1f3e7e179a9ce1f5a772f752b90/expr.ipynb\"><img src=\"../3d4de2b8f0e6aa1f3e7e179a9ce1f5a772f752b90/expr.png\" style=\"display:inline;vertical-align:middle;\" /></a></td></tr>\n",
       "<tr><td>15</td><td>Operation</td><td>operator:&nbsp;20<br>operands:&nbsp;18<br></td><td><a class=\"ProveItLink\" href=\"../6fb13e7486704cc279c226b36389ad11fca6493e0/expr.ipynb\"><img src=\"../6fb13e7486704cc279c226b36389ad11fca6493e0/expr.png\" style=\"display:inline;vertical-align:middle;\" /></a></td></tr>\n",
       "<tr><td>16</td><td>ExprRange</td><td>lambda_map:&nbsp;19<br>start_index:&nbsp;29<br>end_index:&nbsp;30<br></td><td><a class=\"ProveItLink\" href=\"../00044cb56d6edb194d126595f6f6307b564e094b0/expr.ipynb\"><img src=\"../00044cb56d6edb194d126595f6f6307b564e094b0/expr.png\" style=\"display:inline;vertical-align:middle;\" /></a></td></tr>\n",
       "<tr><td>17</td><td>Operation</td><td>operator:&nbsp;20<br>operands:&nbsp;21<br></td><td><a class=\"ProveItLink\" href=\"../2c65f27e8d1122f9af37f120e2a5336cc39fa68a0/expr.ipynb\"><img src=\"../2c65f27e8d1122f9af37f120e2a5336cc39fa68a0/expr.png\" style=\"display:inline;vertical-align:middle;\" /></a></td></tr>\n",
       "<tr><td>18</td><td>ExprTuple</td><td>22</td><td><a class=\"ProveItLink\" href=\"../6e840a42b2e3c230a803e7a9be772aefb5098f9e0/expr.ipynb\"><img src=\"../6e840a42b2e3c230a803e7a9be772aefb5098f9e0/expr.png\" style=\"display:inline;vertical-align:middle;\" /></a></td></tr>\n",
       "<tr><td>19</td><td>Lambda</td><td>parameter:&nbsp;36<br>body:&nbsp;23<br></td><td><a class=\"ProveItLink\" href=\"../a6f2a7c96b930ff8420d65595e41a25c60cc77e50/expr.ipynb\"><img src=\"../a6f2a7c96b930ff8420d65595e41a25c60cc77e50/expr.png\" style=\"display:inline;vertical-align:middle;\" /></a></td></tr>\n",
       "<tr><td>20</td><td>Literal</td><td></td><td><a class=\"ProveItLink\" href=\"../../../../multiplication/__pv_it/common/ed719cef37831779c16481533a4d380a2f95ab270/expr.ipynb\"><img src=\"../../../../multiplication/__pv_it/common/ed719cef37831779c16481533a4d380a2f95ab270/expr.png\" style=\"display:inline;vertical-align:middle;\" /></a></td></tr>\n",
       "<tr><td>21</td><td>ExprTuple</td><td>24</td><td><a class=\"ProveItLink\" href=\"../598e17b052853198dace8a4bc10a2ae124114f260/expr.ipynb\"><img src=\"../598e17b052853198dace8a4bc10a2ae124114f260/expr.png\" style=\"display:inline;vertical-align:middle;\" /></a></td></tr>\n",
       "<tr><td>22</td><td>ExprRange</td><td>lambda_map:&nbsp;25<br>start_index:&nbsp;29<br>end_index:&nbsp;30<br></td><td><a class=\"ProveItLink\" href=\"../9cbf01a99360497ca0173000f07e02f5daa28b350/expr.ipynb\"><img src=\"../9cbf01a99360497ca0173000f07e02f5daa28b350/expr.png\" style=\"display:inline;vertical-align:middle;\" /></a></td></tr>\n",
       "<tr><td>23</td><td>Operation</td><td>operator:&nbsp;26<br>operands:&nbsp;27<br></td><td><a class=\"ProveItLink\" href=\"../d0208f78960043f64194d3f83903b8f179df9e4a0/expr.ipynb\"><img src=\"../d0208f78960043f64194d3f83903b8f179df9e4a0/expr.png\" style=\"display:inline;vertical-align:middle;\" /></a></td></tr>\n",
       "<tr><td>24</td><td>ExprRange</td><td>lambda_map:&nbsp;28<br>start_index:&nbsp;29<br>end_index:&nbsp;30<br></td><td><a class=\"ProveItLink\" href=\"../../../../../core_expr_types/__pv_it/common/450167a24f71fe5474c458dd6e7d0df5b127faa80/expr.ipynb\"><img src=\"../../../../../core_expr_types/__pv_it/common/450167a24f71fe5474c458dd6e7d0df5b127faa80/expr.png\" style=\"display:inline;vertical-align:middle;\" /></a></td></tr>\n",
       "<tr><td>25</td><td>Lambda</td><td>parameter:&nbsp;38<br>body:&nbsp;31<br></td><td><a class=\"ProveItLink\" href=\"../e5c33754368a4d01609bc16174db99aded0c683e0/expr.ipynb\"><img src=\"../e5c33754368a4d01609bc16174db99aded0c683e0/expr.png\" style=\"display:inline;vertical-align:middle;\" /></a></td></tr>\n",
       "<tr><td>26</td><td>Literal</td><td></td><td><a class=\"ProveItLink\" href=\"../../../../../logic/sets/membership/__pv_it/common/477487d8796864d23d5810f83761435f25167f690/expr.ipynb\"><img src=\"../../../../../logic/sets/membership/__pv_it/common/477487d8796864d23d5810f83761435f25167f690/expr.png\" style=\"display:inline;vertical-align:middle;\" /></a></td></tr>\n",
       "<tr><td>27</td><td>ExprTuple</td><td>33, 32</td><td><a class=\"ProveItLink\" href=\"../2f61f9b5397148926f57a554e1bcf402fa6f3c6a0/expr.ipynb\"><img src=\"../2f61f9b5397148926f57a554e1bcf402fa6f3c6a0/expr.png\" style=\"display:inline;vertical-align:middle;\" /></a></td></tr>\n",
       "<tr><td>28</td><td>Lambda</td><td>parameter:&nbsp;36<br>body:&nbsp;33<br></td><td><a class=\"ProveItLink\" href=\"../../../../../core_expr_types/__pv_it/common/3d60e3d4d9f83b7d879c0d18fec5b16b4aa6e4690/expr.ipynb\"><img src=\"../../../../../core_expr_types/__pv_it/common/3d60e3d4d9f83b7d879c0d18fec5b16b4aa6e4690/expr.png\" style=\"display:inline;vertical-align:middle;\" /></a></td></tr>\n",
       "<tr><td>29</td><td>Literal</td><td></td><td><a class=\"ProveItLink\" href=\"../../../../numerals/__pv_it/common/2778428c7f555b2bdc06aa0530bc142c6e6335100/expr.ipynb\"><img src=\"../../../../numerals/__pv_it/common/2778428c7f555b2bdc06aa0530bc142c6e6335100/expr.png\" style=\"display:inline;vertical-align:middle;\" /></a></td></tr>\n",
       "<tr><td>30</td><td>Variable</td><td></td><td><a class=\"ProveItLink\" href=\"../../../../../__pv_it/common/8968bb04eb3f7dfa02353397ce929b025bbd79c20/expr.ipynb\"><img src=\"../../../../../__pv_it/common/8968bb04eb3f7dfa02353397ce929b025bbd79c20/expr.png\" style=\"display:inline;vertical-align:middle;\" /></a></td></tr>\n",
       "<tr><td>31</td><td>Operation</td><td>operator:&nbsp;34<br>operand:&nbsp;35<br></td><td><a class=\"ProveItLink\" href=\"../3b10c0246cfb618362a14e151fd06ca66a3d91590/expr.ipynb\"><img src=\"../3b10c0246cfb618362a14e151fd06ca66a3d91590/expr.png\" style=\"display:inline;vertical-align:middle;\" /></a></td></tr>\n",
       "<tr><td>32</td><td>Literal</td><td></td><td><a class=\"ProveItLink\" href=\"../../../../number_sets/complex_numbers/__pv_it/common/d18a028138f659eda00de597c28a3447fe87eb100/expr.ipynb\"><img src=\"../../../../number_sets/complex_numbers/__pv_it/common/d18a028138f659eda00de597c28a3447fe87eb100/expr.png\" style=\"display:inline;vertical-align:middle;\" /></a></td></tr>\n",
       "<tr><td>33</td><td>IndexedVar</td><td>variable:&nbsp;37<br>index:&nbsp;36<br></td><td><a class=\"ProveItLink\" href=\"../../../../../core_expr_types/__pv_it/common/257cd3299a4ed17f19c9fc89f960a93cbda02b550/expr.ipynb\"><img src=\"../../../../../core_expr_types/__pv_it/common/257cd3299a4ed17f19c9fc89f960a93cbda02b550/expr.png\" style=\"display:inline;vertical-align:middle;\" /></a></td></tr>\n",
       "<tr><td>34</td><td>Literal</td><td></td><td><a class=\"ProveItLink\" href=\"../../common/eea56c667bc0aad2dc76ed04b44c2bd98b94005f0/expr.ipynb\"><img src=\"../../common/eea56c667bc0aad2dc76ed04b44c2bd98b94005f0/expr.png\" style=\"display:inline;vertical-align:middle;\" /></a></td></tr>\n",
       "<tr><td>35</td><td>IndexedVar</td><td>variable:&nbsp;37<br>index:&nbsp;38<br></td><td><a class=\"ProveItLink\" href=\"../69c2d788883cd9519c6068339312677ff6b4264e0/expr.ipynb\"><img src=\"../69c2d788883cd9519c6068339312677ff6b4264e0/expr.png\" style=\"display:inline;vertical-align:middle;\" /></a></td></tr>\n",
       "<tr><td>36</td><td>Variable</td><td></td><td><a class=\"ProveItLink\" href=\"../../../../../core_expr_types/__pv_it/common/006c465e50948aa2b52285e2de47974f741255cc0/expr.ipynb\"><img src=\"../../../../../core_expr_types/__pv_it/common/006c465e50948aa2b52285e2de47974f741255cc0/expr.png\" style=\"display:inline;vertical-align:middle;\" /></a></td></tr>\n",
       "<tr><td>37</td><td>Variable</td><td></td><td><a class=\"ProveItLink\" href=\"../../../../../__pv_it/common/a0d9d672aa5e272d907247690c152cc2c6daafb70/expr.ipynb\"><img src=\"../../../../../__pv_it/common/a0d9d672aa5e272d907247690c152cc2c6daafb70/expr.png\" style=\"display:inline;vertical-align:middle;\" /></a></td></tr>\n",
       "<tr><td>38</td><td>Variable</td><td></td><td><a class=\"ProveItLink\" href=\"../../../../../__pv_it/common/ae955345c83abf786c3aff8681cd5465beae262d0/expr.ipynb\"><img src=\"../../../../../__pv_it/common/ae955345c83abf786c3aff8681cd5465beae262d0/expr.png\" style=\"display:inline;vertical-align:middle;\" /></a></td></tr>\n",
       "</table>\n"
      ],
      "text/plain": [
       "0. {forall_{x_{1}, ..x_{_a}.., x_{n} in Complex} (|x_{1} * ..x_{_a}.. * x_{n}| = (|x_{1}| * ..|x_{i}|.. * |x_{n}|)) if n in NaturalPos.\n",
       "   core type: Conditional\n",
       "   value: 1\n",
       "   condition: 2\n",
       "1. forall_{x_{1}, ..x_{_a}.., x_{n} in Complex} (|x_{1} * ..x_{_a}.. * x_{n}| = (|x_{1}| * ..|x_{i}|.. * |x_{n}|))\n",
       "   core type: Operation\n",
       "   operator: 3\n",
       "   operand: 4\n",
       "2. n in NaturalPos\n",
       "   core type: Operation\n",
       "   operator: 26\n",
       "   operands: 5\n",
       "3. forall\n",
       "   core type: Literal\n",
       "   sub-expressions: \n",
       "4. (x_{1}, ..x_{_a}.., x_{n}) -> {|x_{1} * ..x_{_a}.. * x_{n}| = (|x_{1}| * ..|x_{i}|.. * |x_{n}|) if (x_{1} in Complex) and ..(x_{_a} in Complex).. and (x_{n} in Complex).\n",
       "   core type: Lambda\n",
       "   parameters: 21\\n   body: 6\n",
       "5. (n, NaturalPos)\n",
       "   core type: ExprTuple\n",
       "   sub-expressions: 30, 7\n",
       "6. {|x_{1} * ..x_{_a}.. * x_{n}| = (|x_{1}| * ..|x_{i}|.. * |x_{n}|) if (x_{1} in Complex) and ..(x_{_a} in Complex).. and (x_{n} in Complex).\n",
       "   core type: Conditional\n",
       "   value: 8\n",
       "   condition: 9\n",
       "7. NaturalPos\n",
       "   core type: Literal\n",
       "   sub-expressions: \n",
       "8. |x_{1} * ..x_{_a}.. * x_{n}| = (|x_{1}| * ..|x_{i}|.. * |x_{n}|)\n",
       "   core type: Operation\n",
       "   operator: 10\n",
       "   operands: 11\n",
       "9. (x_{1} in Complex) and ..(x_{_a} in Complex).. and (x_{n} in Complex)\n",
       "   core type: Operation\n",
       "   operator: 12\n",
       "   operands: 13\n",
       "10. =\n",
       "    core type: Literal\n",
       "    sub-expressions: \n",
       "11. (|x_{1} * ..x_{_a}.. * x_{n}|, |x_{1}| * ..|x_{i}|.. * |x_{n}|)\n",
       "    core type: ExprTuple\n",
       "    sub-expressions: 14, 15\n",
       "12. and\n",
       "    core type: Literal\n",
       "    sub-expressions: \n",
       "13. (x_{1} in Complex, ..x_{_a} in Complex.., x_{n} in Complex)\n",
       "    core type: ExprTuple\n",
       "    sub-expressions: 16\n",
       "14. |x_{1} * ..x_{_a}.. * x_{n}|\n",
       "    core type: Operation\n",
       "    operator: 34\n",
       "    operand: 17\n",
       "15. |x_{1}| * ..|x_{i}|.. * |x_{n}|\n",
       "    core type: Operation\n",
       "    operator: 20\n",
       "    operands: 18\n",
       "16. (x_{1} in Complex), ..(x_{_a} in Complex).., (x_{n} in Complex)\n",
       "    core type: ExprRange\n",
       "    lambda_map: 19\n",
       "    start_index: 29\n",
       "    end_index: 30\n",
       "17. x_{1} * ..x_{_a}.. * x_{n}\n",
       "    core type: Operation\n",
       "    operator: 20\n",
       "    operands: 21\n",
       "18. (|x_{1}|, ..|x_{i}|.., |x_{n}|)\n",
       "    core type: ExprTuple\n",
       "    sub-expressions: 22\n",
       "19. _a -> (x_{_a} in Complex)\n",
       "    core type: Lambda\n",
       "    parameter: 36\n",
       "    body: 23\n",
       "20. *\n",
       "    core type: Literal\n",
       "    sub-expressions: \n",
       "21. (x_{1}, ..x_{_a}.., x_{n})\n",
       "    core type: ExprTuple\n",
       "    sub-expressions: 24\n",
       "22. |x_{1}|, ..|x_{i}|.., |x_{n}|\n",
       "    core type: ExprRange\n",
       "    lambda_map: 25\n",
       "    start_index: 29\n",
       "    end_index: 30\n",
       "23. x_{_a} in Complex\n",
       "    core type: Operation\n",
       "    operator: 26\n",
       "    operands: 27\n",
       "24. x_{1}, ..x_{_a}.., x_{n}\n",
       "    core type: ExprRange\n",
       "    lambda_map: 28\n",
       "    start_index: 29\n",
       "    end_index: 30\n",
       "25. i -> |x_{i}|\n",
       "    core type: Lambda\n",
       "    parameter: 38\n",
       "    body: 31\n",
       "26. in\n",
       "    core type: Literal\n",
       "    sub-expressions: \n",
       "27. (x_{_a}, Complex)\n",
       "    core type: ExprTuple\n",
       "    sub-expressions: 33, 32\n",
       "28. _a -> x_{_a}\n",
       "    core type: Lambda\n",
       "    parameter: 36\n",
       "    body: 33\n",
       "29. 1\n",
       "    core type: Literal\n",
       "    sub-expressions: \n",
       "30. n\n",
       "    core type: Variable\n",
       "    sub-expressions: \n",
       "31. |x_{i}|\n",
       "    core type: Operation\n",
       "    operator: 34\n",
       "    operand: 35\n",
       "32. Complex\n",
       "    core type: Literal\n",
       "    sub-expressions: \n",
       "33. x_{_a}\n",
       "    core type: IndexedVar\n",
       "variable: 37\n",
       "index: 36\n",
       "34. Abs\n",
       "    core type: Literal\n",
       "    sub-expressions: \n",
       "35. x_{i}\n",
       "    core type: IndexedVar\n",
       "variable: 37\n",
       "index: 38\n",
       "36. _a\n",
       "    core type: Variable\n",
       "    sub-expressions: \n",
       "37. x\n",
       "    core type: Variable\n",
       "    sub-expressions: \n",
       "38. i\n",
       "    core type: Variable\n",
       "    sub-expressions: "
      ]
     },
     "execution_count": 5,
     "metadata": {},
     "output_type": "execute_result"
    }
   ],
   "source": [
    "# display the expression information\n",
    "expr.expr_info()"
   ]
  },
  {
   "cell_type": "code",
   "execution_count": null,
   "metadata": {},
   "outputs": [],
   "source": []
  }
 ],
 "metadata": {
  "kernelspec": {
   "display_name": "Python 3",
   "language": "python",
   "name": "python3"
  }
 },
 "nbformat": 4,
 "nbformat_minor": 0
}