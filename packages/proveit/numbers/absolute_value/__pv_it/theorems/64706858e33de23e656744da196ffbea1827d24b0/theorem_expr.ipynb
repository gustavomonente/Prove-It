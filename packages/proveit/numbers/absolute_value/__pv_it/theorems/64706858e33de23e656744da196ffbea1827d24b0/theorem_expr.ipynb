{
 "cells": [
  {
   "cell_type": "markdown",
   "metadata": {},
   "source": [
    "Theorem <a class=\"ProveItLink\" href=\"../../../_theorems_.ipynb#abs_ineq\">abs_ineq</a> of type <a class=\"ProveItLink\" href=\"../../../../../../../doc/html/api/proveit.logic.Forall.html\">Forall</a>\n",
    "=======================\n",
    "# from the theory of <a class=\"ProveItLink\" href=\"../../../_theory_nbs_/theory.ipynb\">proveit.numbers.absolute_value</a>\n",
    "*** see <a class=\"ProveItLink\" href=\"dependencies.ipynb\">dependencies</a> ***"
   ]
  },
  {
   "cell_type": "code",
   "execution_count": 1,
   "metadata": {},
   "outputs": [],
   "source": [
    "import proveit\n",
    "# Automation is not needed when only building an expression:\n",
    "proveit.defaults.automation = False # This will speed things up.\n",
    "proveit.defaults.inline_pngs = False # Makes files smaller.\n",
    "%load_theorem_expr # Load the stored theorem expression as 'stored_expr'\n",
    "# import the special expression\n",
    "from proveit.numbers.absolute_value import abs_ineq"
   ]
  },
  {
   "cell_type": "code",
   "execution_count": 2,
   "metadata": {},
   "outputs": [
    {
     "name": "stdout",
     "output_type": "stream",
     "text": [
      "Passed sanity check: abs_ineq matches stored_expr\n"
     ]
    }
   ],
   "source": [
    "# check that the built expression is the same as the stored expression\n",
    "assert abs_ineq.expr == stored_expr\n",
    "assert abs_ineq.expr._style_id == stored_expr._style_id\n",
    "print(\"Passed sanity check: abs_ineq matches stored_expr\")"
   ]
  },
  {
   "cell_type": "code",
   "execution_count": 3,
   "metadata": {},
   "outputs": [
    {
     "name": "stdout",
     "output_type": "stream",
     "text": [
      "\\vdash \\forall_{x, y \\in \\mathbb{R}~|~y \\geq 0}~\\left(\\left(\\left|x\\right| \\leq y\\right) \\Leftrightarrow \\left(\\left(\\left(-y\\right) \\leq x\\right) \\land \\left(x \\leq y\\right)\\right)\\right)\n"
     ]
    }
   ],
   "source": [
    "# Show the LaTeX representation of the expression for convenience if you need it.\n",
    "print(abs_ineq.latex())"
   ]
  },
  {
   "cell_type": "code",
   "execution_count": 4,
   "metadata": {},
   "outputs": [
    {
     "data": {
      "text/html": [
       "<table>\n",
       "<tr><th>name</th><th>description</th><th>default</th><th>current value</th><th>related methods</th></tr><tr><td>with_wrapping</td><td>If 'True', wrap the Expression after the parameters</td><td>None</td><td>None/False</td><td>('with_wrapping',)</td></tr>\n",
       "<tr><td>wrap_params</td><td>If 'True', wraps every two parameters AND wraps the Expression after the parameters</td><td>None</td><td>None/False</td><td>('with_params',)</td></tr>\n",
       "<tr><td>justification</td><td>justify to the 'left', 'center', or 'right' in the array cells</td><td>center</td><td>center</td><td>('with_justification',)</td></tr>\n",
       "</table>\n"
      ],
      "text/plain": [
       "style name: with_wrapping\n",
       "description: If 'True', wrap the Expression after the parameters\n",
       "default: None\n",
       "current value: None/False\n",
       "related methods: ('with_wrapping',)\n",
       "style name: wrap_params\n",
       "description: If 'True', wraps every two parameters AND wraps the Expression after the parameters\n",
       "default: None\n",
       "current value: None/False\n",
       "related methods: ('with_params',)\n",
       "style name: justification\n",
       "description: justify to the 'left', 'center', or 'right' in the array cells\n",
       "default: center\n",
       "current value: center\n",
       "related methods: ('with_justification',)"
      ]
     },
     "execution_count": 4,
     "metadata": {},
     "output_type": "execute_result"
    }
   ],
   "source": [
    "abs_ineq.style_options()"
   ]
  },
  {
   "cell_type": "code",
   "execution_count": 5,
   "metadata": {},
   "outputs": [
    {
     "data": {
      "text/html": [
       "<table><tr><th>&nbsp;</th><th>core type</th><th>sub-expressions</th><th>expression</th></tr>\n",
       "<tr><td>0</td><td>Operation</td><td>operator:&nbsp;1<br>operand:&nbsp;3<br></td><td><a class=\"ProveItLink\" href=\"../6317c2e17a2692876087ea64bab38c6243a8eb110/expr.ipynb\"><img src=\"../6317c2e17a2692876087ea64bab38c6243a8eb110/expr.png\" style=\"display:inline;vertical-align:middle;\" /></a></td></tr>\n",
       "<tr><td>1</td><td>Literal</td><td></td><td><a class=\"ProveItLink\" href=\"../../../../../logic/booleans/quantification/universality/__pv_it/common/684d35ba98fcbf8ca5011f865e530a51e77730630/expr.ipynb\"><img src=\"../../../../../logic/booleans/quantification/universality/__pv_it/common/684d35ba98fcbf8ca5011f865e530a51e77730630/expr.png\" style=\"display:inline;vertical-align:middle;\" /></a></td></tr>\n",
       "<tr><td>2</td><td>ExprTuple</td><td>3</td><td><a class=\"ProveItLink\" href=\"../990de7e8f25c4a68dd40b1f14eeb406fc9092fc90/expr.ipynb\"><img src=\"../990de7e8f25c4a68dd40b1f14eeb406fc9092fc90/expr.png\" style=\"display:inline;vertical-align:middle;\" /></a></td></tr>\n",
       "<tr><td>3</td><td>Lambda</td><td>parameters:&nbsp;31<br>body:&nbsp;4<br></td><td><a class=\"ProveItLink\" href=\"../ade9883031d27b1be538ee527eb6c05953bb40200/expr.ipynb\"><img src=\"../ade9883031d27b1be538ee527eb6c05953bb40200/expr.png\" style=\"display:inline;vertical-align:middle;\" /></a></td></tr>\n",
       "<tr><td>4</td><td>Conditional</td><td>value:&nbsp;5<br>condition:&nbsp;6<br></td><td><a class=\"ProveItLink\" href=\"../327b7ee03365acde982f5389b1fbdbf874013be20/expr.ipynb\"><img src=\"../327b7ee03365acde982f5389b1fbdbf874013be20/expr.png\" style=\"display:inline;vertical-align:middle;\" /></a></td></tr>\n",
       "<tr><td>5</td><td>Operation</td><td>operator:&nbsp;7<br>operands:&nbsp;8<br></td><td><a class=\"ProveItLink\" href=\"../c36ae6637e26ba3c1c86a16c4270882702d295530/expr.ipynb\"><img src=\"../c36ae6637e26ba3c1c86a16c4270882702d295530/expr.png\" style=\"display:inline;vertical-align:middle;\" /></a></td></tr>\n",
       "<tr><td>6</td><td>Operation</td><td>operator:&nbsp;16<br>operands:&nbsp;9<br></td><td><a class=\"ProveItLink\" href=\"../a9ddfea4d422d36aca5ad86168e0f3f1b9c463700/expr.ipynb\"><img src=\"../a9ddfea4d422d36aca5ad86168e0f3f1b9c463700/expr.png\" style=\"display:inline;vertical-align:middle;\" /></a></td></tr>\n",
       "<tr><td>7</td><td>Literal</td><td></td><td><a class=\"ProveItLink\" href=\"../../../../../logic/booleans/implication/__pv_it/common/274d5b2833791537ab9e3cf14842ad1ff6590b920/expr.ipynb\"><img src=\"../../../../../logic/booleans/implication/__pv_it/common/274d5b2833791537ab9e3cf14842ad1ff6590b920/expr.png\" style=\"display:inline;vertical-align:middle;\" /></a></td></tr>\n",
       "<tr><td>8</td><td>ExprTuple</td><td>10, 11</td><td><a class=\"ProveItLink\" href=\"../d197b2701518a73915261c8f3d684a3ea3b1dc9d0/expr.ipynb\"><img src=\"../d197b2701518a73915261c8f3d684a3ea3b1dc9d0/expr.png\" style=\"display:inline;vertical-align:middle;\" /></a></td></tr>\n",
       "<tr><td>9</td><td>ExprTuple</td><td>12, 13, 14</td><td><a class=\"ProveItLink\" href=\"../2493609cd1cd05b628bd9e9f88cbb0aa6554a1f90/expr.ipynb\"><img src=\"../2493609cd1cd05b628bd9e9f88cbb0aa6554a1f90/expr.png\" style=\"display:inline;vertical-align:middle;\" /></a></td></tr>\n",
       "<tr><td>10</td><td>Operation</td><td>operator:&nbsp;30<br>operands:&nbsp;15<br></td><td><a class=\"ProveItLink\" href=\"../56d2d9a43aa7d8f2c9790a1b1d65099f4e8c096f0/expr.ipynb\"><img src=\"../56d2d9a43aa7d8f2c9790a1b1d65099f4e8c096f0/expr.png\" style=\"display:inline;vertical-align:middle;\" /></a></td></tr>\n",
       "<tr><td>11</td><td>Operation</td><td>operator:&nbsp;16<br>operands:&nbsp;17<br></td><td><a class=\"ProveItLink\" href=\"../c067cd294189164c5a5f96f18a95b91fba65c5440/expr.ipynb\"><img src=\"../c067cd294189164c5a5f96f18a95b91fba65c5440/expr.png\" style=\"display:inline;vertical-align:middle;\" /></a></td></tr>\n",
       "<tr><td>12</td><td>Operation</td><td>operator:&nbsp;19<br>operands:&nbsp;18<br></td><td><a class=\"ProveItLink\" href=\"../f399694c94d63fe522f8e05f5163f6a5a160a5b80/expr.ipynb\"><img src=\"../f399694c94d63fe522f8e05f5163f6a5a160a5b80/expr.png\" style=\"display:inline;vertical-align:middle;\" /></a></td></tr>\n",
       "<tr><td>13</td><td>Operation</td><td>operator:&nbsp;19<br>operands:&nbsp;20<br></td><td><a class=\"ProveItLink\" href=\"../acfb0eefb0b1b677bba1a9b1bb8fa2b4b46ea3330/expr.ipynb\"><img src=\"../acfb0eefb0b1b677bba1a9b1bb8fa2b4b46ea3330/expr.png\" style=\"display:inline;vertical-align:middle;\" /></a></td></tr>\n",
       "<tr><td>14</td><td>Operation</td><td>operator:&nbsp;30<br>operands:&nbsp;21<br></td><td><a class=\"ProveItLink\" href=\"../8864c6053d03e05661a7cd216b205bb7f409915e0/expr.ipynb\"><img src=\"../8864c6053d03e05661a7cd216b205bb7f409915e0/expr.png\" style=\"display:inline;vertical-align:middle;\" /></a></td></tr>\n",
       "<tr><td>15</td><td>ExprTuple</td><td>22, 36</td><td><a class=\"ProveItLink\" href=\"../efdb288ca23040a7459292f4d7fbe0dbf3cb422d0/expr.ipynb\"><img src=\"../efdb288ca23040a7459292f4d7fbe0dbf3cb422d0/expr.png\" style=\"display:inline;vertical-align:middle;\" /></a></td></tr>\n",
       "<tr><td>16</td><td>Literal</td><td></td><td><a class=\"ProveItLink\" href=\"../../../../../logic/booleans/conjunction/__pv_it/common/26b94b53e70b1d77b70f0d9d4236347db37731060/expr.ipynb\"><img src=\"../../../../../logic/booleans/conjunction/__pv_it/common/26b94b53e70b1d77b70f0d9d4236347db37731060/expr.png\" style=\"display:inline;vertical-align:middle;\" /></a></td></tr>\n",
       "<tr><td>17</td><td>ExprTuple</td><td>23, 24</td><td><a class=\"ProveItLink\" href=\"../e8bd649ab0faab8f4ff2d94f3370f0c372563baa0/expr.ipynb\"><img src=\"../e8bd649ab0faab8f4ff2d94f3370f0c372563baa0/expr.png\" style=\"display:inline;vertical-align:middle;\" /></a></td></tr>\n",
       "<tr><td>18</td><td>ExprTuple</td><td>33, 25</td><td><a class=\"ProveItLink\" href=\"../55bef9982c7867f2ba0ff0e7b2f4477175e2b1970/expr.ipynb\"><img src=\"../55bef9982c7867f2ba0ff0e7b2f4477175e2b1970/expr.png\" style=\"display:inline;vertical-align:middle;\" /></a></td></tr>\n",
       "<tr><td>19</td><td>Literal</td><td></td><td><a class=\"ProveItLink\" href=\"../../../../../logic/sets/membership/__pv_it/common/7171deca84f71f47a6ec7696972d1632274a12880/expr.ipynb\"><img src=\"../../../../../logic/sets/membership/__pv_it/common/7171deca84f71f47a6ec7696972d1632274a12880/expr.png\" style=\"display:inline;vertical-align:middle;\" /></a></td></tr>\n",
       "<tr><td>20</td><td>ExprTuple</td><td>36, 25</td><td><a class=\"ProveItLink\" href=\"../6ce71d26e191a2627cb4b5feda00ad715df2a9830/expr.ipynb\"><img src=\"../6ce71d26e191a2627cb4b5feda00ad715df2a9830/expr.png\" style=\"display:inline;vertical-align:middle;\" /></a></td></tr>\n",
       "<tr><td>21</td><td>ExprTuple</td><td>26, 36</td><td><a class=\"ProveItLink\" href=\"../7393535226918a89c06a1565758e0d19efc0cbf70/expr.ipynb\"><img src=\"../7393535226918a89c06a1565758e0d19efc0cbf70/expr.png\" style=\"display:inline;vertical-align:middle;\" /></a></td></tr>\n",
       "<tr><td>22</td><td>Operation</td><td>operator:&nbsp;27<br>operand:&nbsp;33<br></td><td><a class=\"ProveItLink\" href=\"../fe99a26952963d5eb338d4a5dba837466cf3aaf80/expr.ipynb\"><img src=\"../fe99a26952963d5eb338d4a5dba837466cf3aaf80/expr.png\" style=\"display:inline;vertical-align:middle;\" /></a></td></tr>\n",
       "<tr><td>23</td><td>Operation</td><td>operator:&nbsp;30<br>operands:&nbsp;29<br></td><td><a class=\"ProveItLink\" href=\"../b4f8bffaf3aff22b06aa47d23251c07ecc4cb7a10/expr.ipynb\"><img src=\"../b4f8bffaf3aff22b06aa47d23251c07ecc4cb7a10/expr.png\" style=\"display:inline;vertical-align:middle;\" /></a></td></tr>\n",
       "<tr><td>24</td><td>Operation</td><td>operator:&nbsp;30<br>operands:&nbsp;31<br></td><td><a class=\"ProveItLink\" href=\"../d4368318b55b31d85ae4af4c9d58b6eadcbe53ab0/expr.ipynb\"><img src=\"../d4368318b55b31d85ae4af4c9d58b6eadcbe53ab0/expr.png\" style=\"display:inline;vertical-align:middle;\" /></a></td></tr>\n",
       "<tr><td>25</td><td>Literal</td><td></td><td><a class=\"ProveItLink\" href=\"../../../../number_sets/real_numbers/__pv_it/common/3eaf53c11933bb30b35e82c24807c695de530cf10/expr.ipynb\"><img src=\"../../../../number_sets/real_numbers/__pv_it/common/3eaf53c11933bb30b35e82c24807c695de530cf10/expr.png\" style=\"display:inline;vertical-align:middle;\" /></a></td></tr>\n",
       "<tr><td>26</td><td>Literal</td><td></td><td><a class=\"ProveItLink\" href=\"../../../../numerals/__pv_it/common/c35fdf7268947ca3e24174d2909dc9d0a7f3aac60/expr.ipynb\"><img src=\"../../../../numerals/__pv_it/common/c35fdf7268947ca3e24174d2909dc9d0a7f3aac60/expr.png\" style=\"display:inline;vertical-align:middle;\" /></a></td></tr>\n",
       "<tr><td>27</td><td>Literal</td><td></td><td><a class=\"ProveItLink\" href=\"../../common/6430f141f5f0b9665d136ab5dd21c24f48b3a19c0/expr.ipynb\"><img src=\"../../common/6430f141f5f0b9665d136ab5dd21c24f48b3a19c0/expr.png\" style=\"display:inline;vertical-align:middle;\" /></a></td></tr>\n",
       "<tr><td>28</td><td>ExprTuple</td><td>33</td><td><a class=\"ProveItLink\" href=\"../../../../../__pv_it/common/a49c8f25f899a16b1dbcf2257505d5464a9a7bb50/expr.ipynb\"><img src=\"../../../../../__pv_it/common/a49c8f25f899a16b1dbcf2257505d5464a9a7bb50/expr.png\" style=\"display:inline;vertical-align:middle;\" /></a></td></tr>\n",
       "<tr><td>29</td><td>ExprTuple</td><td>32, 33</td><td><a class=\"ProveItLink\" href=\"../08f9bff3d47c7c7f6214f0798ec98ba71b9b312f0/expr.ipynb\"><img src=\"../08f9bff3d47c7c7f6214f0798ec98ba71b9b312f0/expr.png\" style=\"display:inline;vertical-align:middle;\" /></a></td></tr>\n",
       "<tr><td>30</td><td>Literal</td><td></td><td><a class=\"ProveItLink\" href=\"../../../../ordering/__pv_it/common/b7491c9b87613cffc9e4ec0625a0f1afacbe2cbd0/expr.ipynb\"><img src=\"../../../../ordering/__pv_it/common/b7491c9b87613cffc9e4ec0625a0f1afacbe2cbd0/expr.png\" style=\"display:inline;vertical-align:middle;\" /></a></td></tr>\n",
       "<tr><td>31</td><td>ExprTuple</td><td>33, 36</td><td><a class=\"ProveItLink\" href=\"../ef4dae65d3387950a2be9c6d13839307bdb1f9ee0/expr.ipynb\"><img src=\"../ef4dae65d3387950a2be9c6d13839307bdb1f9ee0/expr.png\" style=\"display:inline;vertical-align:middle;\" /></a></td></tr>\n",
       "<tr><td>32</td><td>Operation</td><td>operator:&nbsp;34<br>operand:&nbsp;36<br></td><td><a class=\"ProveItLink\" href=\"../10d0c7f6b141ca66da6a9934b96827cd1cdf29b40/expr.ipynb\"><img src=\"../10d0c7f6b141ca66da6a9934b96827cd1cdf29b40/expr.png\" style=\"display:inline;vertical-align:middle;\" /></a></td></tr>\n",
       "<tr><td>33</td><td>Variable</td><td></td><td><a class=\"ProveItLink\" href=\"../../../../../__pv_it/common/a2581dc5df71d9a30bad37de14965fa5fec97a240/expr.ipynb\"><img src=\"../../../../../__pv_it/common/a2581dc5df71d9a30bad37de14965fa5fec97a240/expr.png\" style=\"display:inline;vertical-align:middle;\" /></a></td></tr>\n",
       "<tr><td>34</td><td>Literal</td><td></td><td><a class=\"ProveItLink\" href=\"../../../../negation/__pv_it/common/31a69a5c76809537045e3884859f178d8d9c845c0/expr.ipynb\"><img src=\"../../../../negation/__pv_it/common/31a69a5c76809537045e3884859f178d8d9c845c0/expr.png\" style=\"display:inline;vertical-align:middle;\" /></a></td></tr>\n",
       "<tr><td>35</td><td>ExprTuple</td><td>36</td><td><a class=\"ProveItLink\" href=\"../c1ce6adcc1476a151f43f5b1e691eceeed8d79ab0/expr.ipynb\"><img src=\"../c1ce6adcc1476a151f43f5b1e691eceeed8d79ab0/expr.png\" style=\"display:inline;vertical-align:middle;\" /></a></td></tr>\n",
       "<tr><td>36</td><td>Variable</td><td></td><td><a class=\"ProveItLink\" href=\"../../../../../__pv_it/common/0f21cbfd5644a1cae6781c1d58354abc2ffbc9000/expr.ipynb\"><img src=\"../../../../../__pv_it/common/0f21cbfd5644a1cae6781c1d58354abc2ffbc9000/expr.png\" style=\"display:inline;vertical-align:middle;\" /></a></td></tr>\n",
       "</table>\n"
      ],
      "text/plain": [
       "0. forall_{x, y in Real | y >= 0} ((|x| <= y) <=> (((-y) <= x) and (x <= y)))\n",
       "   core type: Operation\n",
       "   operator: 1\n",
       "   operand: 3\n",
       "1. forall\n",
       "   core type: Literal\n",
       "   sub-expressions: \n",
       "2. ((x, y) -> {(|x| <= y) <=> (((-y) <= x) and (x <= y)) if x in Real ,  y in Real ,  y >= 0.)\n",
       "   core type: ExprTuple\n",
       "   sub-expressions: 3\n",
       "3. (x, y) -> {(|x| <= y) <=> (((-y) <= x) and (x <= y)) if x in Real ,  y in Real ,  y >= 0.\n",
       "   core type: Lambda\n",
       "   parameters: 31\\n   body: 4\n",
       "4. {(|x| <= y) <=> (((-y) <= x) and (x <= y)) if x in Real ,  y in Real ,  y >= 0.\n",
       "   core type: Conditional\n",
       "   value: 5\n",
       "   condition: 6\n",
       "5. (|x| <= y) <=> (((-y) <= x) and (x <= y))\n",
       "   core type: Operation\n",
       "   operator: 7\n",
       "   operands: 8\n",
       "6. (x in Real) and (y in Real) and (y >= 0)\n",
       "   core type: Operation\n",
       "   operator: 16\n",
       "   operands: 9\n",
       "7. <=>\n",
       "   core type: Literal\n",
       "   sub-expressions: \n",
       "8. (|x| <= y, ((-y) <= x) and (x <= y))\n",
       "   core type: ExprTuple\n",
       "   sub-expressions: 10, 11\n",
       "9. (x in Real, y in Real, y >= 0)\n",
       "   core type: ExprTuple\n",
       "   sub-expressions: 12, 13, 14\n",
       "10. |x| <= y\n",
       "    core type: Operation\n",
       "    operator: 30\n",
       "    operands: 15\n",
       "11. ((-y) <= x) and (x <= y)\n",
       "    core type: Operation\n",
       "    operator: 16\n",
       "    operands: 17\n",
       "12. x in Real\n",
       "    core type: Operation\n",
       "    operator: 19\n",
       "    operands: 18\n",
       "13. y in Real\n",
       "    core type: Operation\n",
       "    operator: 19\n",
       "    operands: 20\n",
       "14. y >= 0\n",
       "    core type: Operation\n",
       "    operator: 30\n",
       "    operands: 21\n",
       "15. (|x|, y)\n",
       "    core type: ExprTuple\n",
       "    sub-expressions: 22, 36\n",
       "16. and\n",
       "    core type: Literal\n",
       "    sub-expressions: \n",
       "17. ((-y) <= x, x <= y)\n",
       "    core type: ExprTuple\n",
       "    sub-expressions: 23, 24\n",
       "18. (x, Real)\n",
       "    core type: ExprTuple\n",
       "    sub-expressions: 33, 25\n",
       "19. in\n",
       "    core type: Literal\n",
       "    sub-expressions: \n",
       "20. (y, Real)\n",
       "    core type: ExprTuple\n",
       "    sub-expressions: 36, 25\n",
       "21. (0, y)\n",
       "    core type: ExprTuple\n",
       "    sub-expressions: 26, 36\n",
       "22. |x|\n",
       "    core type: Operation\n",
       "    operator: 27\n",
       "    operand: 33\n",
       "23. (-y) <= x\n",
       "    core type: Operation\n",
       "    operator: 30\n",
       "    operands: 29\n",
       "24. x <= y\n",
       "    core type: Operation\n",
       "    operator: 30\n",
       "    operands: 31\n",
       "25. Real\n",
       "    core type: Literal\n",
       "    sub-expressions: \n",
       "26. 0\n",
       "    core type: Literal\n",
       "    sub-expressions: \n",
       "27. Abs\n",
       "    core type: Literal\n",
       "    sub-expressions: \n",
       "28. (x)\n",
       "    core type: ExprTuple\n",
       "    sub-expressions: 33\n",
       "29. (-y, x)\n",
       "    core type: ExprTuple\n",
       "    sub-expressions: 32, 33\n",
       "30. <=\n",
       "    core type: Literal\n",
       "    sub-expressions: \n",
       "31. (x, y)\n",
       "    core type: ExprTuple\n",
       "    sub-expressions: 33, 36\n",
       "32. -y\n",
       "    core type: Operation\n",
       "    operator: 34\n",
       "    operand: 36\n",
       "33. x\n",
       "    core type: Variable\n",
       "    sub-expressions: \n",
       "34. -\n",
       "    core type: Literal\n",
       "    sub-expressions: \n",
       "35. (y)\n",
       "    core type: ExprTuple\n",
       "    sub-expressions: 36\n",
       "36. y\n",
       "    core type: Variable\n",
       "    sub-expressions: "
      ]
     },
     "execution_count": 5,
     "metadata": {},
     "output_type": "execute_result"
    }
   ],
   "source": [
    "# display the expression information\n",
    "abs_ineq.expr_info()"
   ]
  },
  {
   "cell_type": "code",
   "execution_count": null,
   "metadata": {},
   "outputs": [],
   "source": []
  }
 ],
 "metadata": {
  "kernelspec": {
   "display_name": "Python 3",
   "language": "python",
   "name": "python3"
  }
 },
 "nbformat": 4,
 "nbformat_minor": 0
}