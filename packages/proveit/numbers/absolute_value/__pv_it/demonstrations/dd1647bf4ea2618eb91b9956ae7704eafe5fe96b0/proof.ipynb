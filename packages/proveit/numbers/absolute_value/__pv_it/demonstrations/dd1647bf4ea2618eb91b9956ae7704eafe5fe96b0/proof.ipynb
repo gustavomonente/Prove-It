{
 "cells": [
  {
   "cell_type": "markdown",
   "metadata": {},
   "source": [
    "Show the Proof\n",
    "========"
   ]
  },
  {
   "cell_type": "code",
   "execution_count": 1,
   "metadata": {},
   "outputs": [
    {
     "data": {
      "text/html": [
       "<table><tr><th>&nbsp;</th><th>step type</th><th>requirements</th><th>statement</th></tr>\n",
       "<tr><td><a name=\"proveit.numbers.absolute_value.demonstrations.dd1647bf4ea2618eb91b9956ae7704eafe5fe96b0_step0\">0</a></td><td>instantiation</td><td><a href=\"#proveit.numbers.absolute_value.demonstrations.dd1647bf4ea2618eb91b9956ae7704eafe5fe96b0_step1\">1</a>, <a href=\"#proveit.numbers.absolute_value.demonstrations.dd1647bf4ea2618eb91b9956ae7704eafe5fe96b0_step2\">2</a></td><td><span style=\"font-size:20px;\"><a class=\"ProveItLink\" href=\"../../../../addition/__pv_it/theorems/2c1fc3e8a81a10377274b829c6582ce3bef7b0ea0/expr.ipynb\"><img src=\"../../../../addition/__pv_it/theorems/2c1fc3e8a81a10377274b829c6582ce3bef7b0ea0/expr.png\" style=\"display:inline;vertical-align:middle;\" /></a> <a class=\"ProveItLink\" href=\"proof.ipynb\" style=\"text-decoration: none\">&nbsp;&#x22A2;&nbsp;&nbsp;</a><a class=\"ProveItLink\" href=\"../90ba1c977d47e783aeda010192d9790f649bb4710/expr.ipynb\"><img src=\"../90ba1c977d47e783aeda010192d9790f649bb4710/expr.png\" style=\"display:inline;vertical-align:middle;\" /></a></span></td></tr>\n",
       "<tr><td>&nbsp;</td><td colspan=4 style=\"text-align:left\"><span style=\"font-size:20px;\"><a class=\"ProveItLink\" href=\"../../../../../__pv_it/common/c06c606ec12678c58933ac85412ecadc2ae28be60/expr.ipynb\"><img src=\"../../../../../__pv_it/common/c06c606ec12678c58933ac85412ecadc2ae28be60/expr.png\" style=\"display:inline;vertical-align:middle;\" /></a> : <a class=\"ProveItLink\" href=\"../31db57b390e7fb44a97fc02d8ab242f679e7ecd00/expr.ipynb\"><img src=\"../31db57b390e7fb44a97fc02d8ab242f679e7ecd00/expr.png\" style=\"display:inline;vertical-align:middle;\" /></a></span></td></tr><tr><td><a name=\"proveit.numbers.absolute_value.demonstrations.dd1647bf4ea2618eb91b9956ae7704eafe5fe96b0_step1\">1</a></td><td>theorem</td><td></td><td><span style=\"font-size:20px;\"> <a class=\"ProveItLink\" href=\"../../../_theory_nbs_/proofs/abs_is_non_neg/thm_proof.ipynb\" style=\"text-decoration: none\">&nbsp;&#x22A2;&nbsp;&nbsp;</a><a class=\"ProveItLink\" href=\"../../theorems/653eb4b2bf6b9dba3d3dfce448e368cabb184e050/expr.ipynb\"><img src=\"../../theorems/653eb4b2bf6b9dba3d3dfce448e368cabb184e050/expr.png\" style=\"display:inline;vertical-align:middle;\" /></a></span></td></tr>\n",
       "<tr><td>&nbsp;</td><td colspan=4 style-\"text-align:left\"><a class=\"ProveItLink\" href=\"../../../_theory_nbs_/proofs/abs_is_non_neg/thm_proof.ipynb\">proveit.numbers.absolute_value.abs_is_non_neg</a></td></tr><tr><td><a name=\"proveit.numbers.absolute_value.demonstrations.dd1647bf4ea2618eb91b9956ae7704eafe5fe96b0_step2\">2</a></td><td>assumption</td><td></td><td><span style=\"font-size:20px;\"><a class=\"ProveItLink\" href=\"../../../../addition/__pv_it/theorems/2c1fc3e8a81a10377274b829c6582ce3bef7b0ea0/expr.ipynb\"><img src=\"../../../../addition/__pv_it/theorems/2c1fc3e8a81a10377274b829c6582ce3bef7b0ea0/expr.png\" style=\"display:inline;vertical-align:middle;\" /></a> <a class=\"ProveItLink\" href=\"../7ba07338f91a267439c751a9b205d4763242d5840/proof.ipynb\" style=\"text-decoration: none\">&nbsp;&#x22A2;&nbsp;&nbsp;</a><a class=\"ProveItLink\" href=\"../../../../addition/__pv_it/theorems/2c1fc3e8a81a10377274b829c6582ce3bef7b0ea0/expr.ipynb\"><img src=\"../../../../addition/__pv_it/theorems/2c1fc3e8a81a10377274b829c6582ce3bef7b0ea0/expr.png\" style=\"display:inline;vertical-align:middle;\" /></a></span></td></tr>\n",
       "</table>"
      ],
      "text/plain": [
       "<proveit._core_.proof._ShowProof at 0x7f1cf5e3dd68>"
      ]
     },
     "execution_count": 1,
     "metadata": {},
     "output_type": "execute_result"
    }
   ],
   "source": [
    "import proveit\n",
    "# Automation is not needed when only showing a stored proof:\n",
    "proveit.defaults.automation = False # This will speed things up.\n",
    "proveit.defaults.inline_pngs = False # Makes files smaller.\n",
    "%show_proof"
   ]
  },
  {
   "cell_type": "code",
   "execution_count": null,
   "metadata": {},
   "outputs": [],
   "source": []
  }
 ],
 "metadata": {
  "kernelspec": {
   "display_name": "Python 3",
   "language": "python",
   "name": "python3"
  }
 },
 "nbformat": 4,
 "nbformat_minor": 0
}