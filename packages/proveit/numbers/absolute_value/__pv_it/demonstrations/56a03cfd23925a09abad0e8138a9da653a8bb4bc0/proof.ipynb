{
 "cells": [
  {
   "cell_type": "markdown",
   "metadata": {},
   "source": [
    "Show the Proof\n",
    "========"
   ]
  },
  {
   "cell_type": "code",
   "execution_count": 1,
   "metadata": {},
   "outputs": [
    {
     "data": {
      "text/html": [
       "<table><tr><th>&nbsp;</th><th>step type</th><th>requirements</th><th>statement</th></tr>\n",
       "<tr><td><a name=\"proveit.numbers.absolute_value.demonstrations.56a03cfd23925a09abad0e8138a9da653a8bb4bc0_step0\">0</a></td><td>instantiation</td><td><a href=\"#proveit.numbers.absolute_value.demonstrations.56a03cfd23925a09abad0e8138a9da653a8bb4bc0_step1\">1</a>, <a href=\"#proveit.numbers.absolute_value.demonstrations.56a03cfd23925a09abad0e8138a9da653a8bb4bc0_step2\">2</a></td><td><span style=\"font-size:20px;\"> <a class=\"ProveItLink\" href=\"proof.ipynb\" style=\"text-decoration: none\">&nbsp;&#x22A2;&nbsp;&nbsp;</a><a class=\"ProveItLink\" href=\"../f66636dc55393fb27b60f3a0d5e6abbd85c5a7a50/expr.ipynb\"><img src=\"../f66636dc55393fb27b60f3a0d5e6abbd85c5a7a50/expr.png\" style=\"display:inline;vertical-align:middle;\" /></a></span></td></tr>\n",
       "<tr><td>&nbsp;</td><td colspan=4 style=\"text-align:left\"><span style=\"font-size:20px;\"><a class=\"ProveItLink\" href=\"../../../../../__pv_it/common/e4aad701f7f5516d8e7f0d805d518bf02c13322a0/expr.ipynb\"><img src=\"../../../../../__pv_it/common/e4aad701f7f5516d8e7f0d805d518bf02c13322a0/expr.png\" style=\"display:inline;vertical-align:middle;\" /></a> : <a class=\"ProveItLink\" href=\"../../../../number_sets/real_numbers/__pv_it/common/8c67355f38838cbd6b40f3876e11d664940344be0/expr.ipynb\"><img src=\"../../../../number_sets/real_numbers/__pv_it/common/8c67355f38838cbd6b40f3876e11d664940344be0/expr.png\" style=\"display:inline;vertical-align:middle;\" /></a>, <a class=\"ProveItLink\" href=\"../../../../../__pv_it/common/4eca3b30dcf58a58494e201d1b7886d8643a617b0/expr.ipynb\"><img src=\"../../../../../__pv_it/common/4eca3b30dcf58a58494e201d1b7886d8643a617b0/expr.png\" style=\"display:inline;vertical-align:middle;\" /></a> : <a class=\"ProveItLink\" href=\"../../../../number_sets/real_numbers/__pv_it/common/0847e9a49dd514cc67c01b50068919cf980ccc230/expr.ipynb\"><img src=\"../../../../number_sets/real_numbers/__pv_it/common/0847e9a49dd514cc67c01b50068919cf980ccc230/expr.png\" style=\"display:inline;vertical-align:middle;\" /></a></span></td></tr><tr><td><a name=\"proveit.numbers.absolute_value.demonstrations.56a03cfd23925a09abad0e8138a9da653a8bb4bc0_step1\">1</a></td><td>theorem</td><td></td><td><span style=\"font-size:20px;\"> <a class=\"ProveItLink\" href=\"../../../../../logic/sets/inclusion/_theory_nbs_/proofs/relax_proper_subset/thm_proof.ipynb\" style=\"text-decoration: none\">&nbsp;&#x22A2;&nbsp;&nbsp;</a><a class=\"ProveItLink\" href=\"../../../../../logic/sets/inclusion/__pv_it/theorems/e2806dea65f2131438692eca4e7c580b453b6a000/expr.ipynb\"><img src=\"../../../../../logic/sets/inclusion/__pv_it/theorems/e2806dea65f2131438692eca4e7c580b453b6a000/expr.png\" style=\"display:inline;vertical-align:middle;\" /></a></span></td></tr>\n",
       "<tr><td>&nbsp;</td><td colspan=4 style-\"text-align:left\"><a class=\"ProveItLink\" href=\"../../../../../logic/sets/inclusion/_theory_nbs_/proofs/relax_proper_subset/thm_proof.ipynb\">proveit.logic.sets.inclusion.relax_proper_subset</a></td></tr><tr><td><a name=\"proveit.numbers.absolute_value.demonstrations.56a03cfd23925a09abad0e8138a9da653a8bb4bc0_step2\">2</a></td><td>theorem</td><td></td><td><span style=\"font-size:20px;\"> <a class=\"ProveItLink\" href=\"../../../../number_sets/real_numbers/_theory_nbs_/proofs/real_pos_within_real_non_neg/thm_proof.ipynb\" style=\"text-decoration: none\">&nbsp;&#x22A2;&nbsp;&nbsp;</a><a class=\"ProveItLink\" href=\"../../../../number_sets/real_numbers/__pv_it/theorems/d7e5eeaaeb9b6f2b0986434953e9eefead390fda0/expr.ipynb\"><img src=\"../../../../number_sets/real_numbers/__pv_it/theorems/d7e5eeaaeb9b6f2b0986434953e9eefead390fda0/expr.png\" style=\"display:inline;vertical-align:middle;\" /></a></span></td></tr>\n",
       "<tr><td>&nbsp;</td><td colspan=4 style-\"text-align:left\"><a class=\"ProveItLink\" href=\"../../../../number_sets/real_numbers/_theory_nbs_/proofs/real_pos_within_real_non_neg/thm_proof.ipynb\">proveit.numbers.number_sets.real_numbers.real_pos_within_real_non_neg</a></td></tr></table>"
      ],
      "text/plain": [
       "<proveit._core_.proof._ShowProof at 0x7f579c171dd8>"
      ]
     },
     "execution_count": 1,
     "metadata": {},
     "output_type": "execute_result"
    }
   ],
   "source": [
    "import proveit\n",
    "# Automation is not needed when only showing a stored proof:\n",
    "proveit.defaults.automation = False # This will speed things up.\n",
    "proveit.defaults.inline_pngs = False # Makes files smaller.\n",
    "%show_proof"
   ]
  },
  {
   "cell_type": "code",
   "execution_count": null,
   "metadata": {},
   "outputs": [],
   "source": []
  }
 ],
 "metadata": {
  "kernelspec": {
   "display_name": "Python 3",
   "language": "python",
   "name": "python3"
  },
  "language_info": {
   "codemirror_mode": {
    "name": "ipython",
    "version": 3
   },
   "file_extension": ".py",
   "mimetype": "text/x-python",
   "name": "python",
   "nbconvert_exporter": "python",
   "pygments_lexer": "ipython3",
   "version": "3.7.3"
  }
 },
 "nbformat": 4,
 "nbformat_minor": 1
}