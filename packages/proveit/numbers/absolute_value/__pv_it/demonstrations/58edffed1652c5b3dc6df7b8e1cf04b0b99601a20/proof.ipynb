{
 "cells": [
  {
   "cell_type": "markdown",
   "metadata": {},
   "source": [
    "Show the Proof\n",
    "========"
   ]
  },
  {
   "cell_type": "code",
   "execution_count": 1,
   "metadata": {},
   "outputs": [
    {
     "data": {
      "text/html": [
       "<table><tr><th>&nbsp;</th><th>step type</th><th>requirements</th><th>statement</th></tr>\n",
       "<tr><td><a name=\"proveit.numbers.absolute_value.demonstrations.58edffed1652c5b3dc6df7b8e1cf04b0b99601a20_step0\">0</a></td><td>instantiation</td><td><a href=\"#proveit.numbers.absolute_value.demonstrations.58edffed1652c5b3dc6df7b8e1cf04b0b99601a20_step1\">1</a>, <a href=\"#proveit.numbers.absolute_value.demonstrations.58edffed1652c5b3dc6df7b8e1cf04b0b99601a20_step2\">2</a></td><td><span style=\"font-size:20px;\"><a class=\"ProveItLink\" href=\"../../../../multiplication/__pv_it/theorems/4e18818a916e43f260023b3f74dfa85b55295e6e0/expr.ipynb\"><img src=\"../../../../multiplication/__pv_it/theorems/4e18818a916e43f260023b3f74dfa85b55295e6e0/expr.png\" style=\"display:inline;vertical-align:middle;\" /></a> <a class=\"ProveItLink\" href=\"proof.ipynb\" style=\"text-decoration: none\">&nbsp;&#x22A2;&nbsp;&nbsp;</a><a class=\"ProveItLink\" href=\"../9dec600dc709a9cf9d9b329be1efb80dc4300d2a0/expr.ipynb\"><img src=\"../9dec600dc709a9cf9d9b329be1efb80dc4300d2a0/expr.png\" style=\"display:inline;vertical-align:middle;\" /></a></span></td></tr>\n",
       "<tr><td>&nbsp;</td><td colspan=4 style=\"text-align:left\"><span style=\"font-size:20px;\"><a class=\"ProveItLink\" href=\"../../../../../__pv_it/common/8968bb04eb3f7dfa02353397ce929b025bbd79c20/expr.ipynb\"><img src=\"../../../../../__pv_it/common/8968bb04eb3f7dfa02353397ce929b025bbd79c20/expr.png\" style=\"display:inline;vertical-align:middle;\" /></a> : <a class=\"ProveItLink\" href=\"../1bf7fff51a86fd240c89ef97908090c69e730ebc0/expr.ipynb\"><img src=\"../1bf7fff51a86fd240c89ef97908090c69e730ebc0/expr.png\" style=\"display:inline;vertical-align:middle;\" /></a></span></td></tr><tr><td><a name=\"proveit.numbers.absolute_value.demonstrations.58edffed1652c5b3dc6df7b8e1cf04b0b99601a20_step1\">1</a></td><td>theorem</td><td></td><td><span style=\"font-size:20px;\"> <a class=\"ProveItLink\" href=\"../../../../number_sets/natural_numbers/_theory_nbs_/proofs/natural_lower_bound/thm_proof.ipynb\" style=\"text-decoration: none\">&nbsp;&#x22A2;&nbsp;&nbsp;</a><a class=\"ProveItLink\" href=\"../../../../number_sets/natural_numbers/__pv_it/theorems/98e2061fb340da333cde16cecca03605536ecf700/expr.ipynb\"><img src=\"../../../../number_sets/natural_numbers/__pv_it/theorems/98e2061fb340da333cde16cecca03605536ecf700/expr.png\" style=\"display:inline;vertical-align:middle;\" /></a></span></td></tr>\n",
       "<tr><td>&nbsp;</td><td colspan=4 style-\"text-align:left\"><a class=\"ProveItLink\" href=\"../../../../number_sets/natural_numbers/_theory_nbs_/proofs/natural_lower_bound/thm_proof.ipynb\">proveit.numbers.number_sets.natural_numbers.natural_lower_bound</a></td></tr><tr><td><a name=\"proveit.numbers.absolute_value.demonstrations.58edffed1652c5b3dc6df7b8e1cf04b0b99601a20_step2\">2</a></td><td>assumption</td><td></td><td><span style=\"font-size:20px;\"><a class=\"ProveItLink\" href=\"../../../../multiplication/__pv_it/theorems/4e18818a916e43f260023b3f74dfa85b55295e6e0/expr.ipynb\"><img src=\"../../../../multiplication/__pv_it/theorems/4e18818a916e43f260023b3f74dfa85b55295e6e0/expr.png\" style=\"display:inline;vertical-align:middle;\" /></a> <a class=\"ProveItLink\" href=\"../f215bf407ea633ee071ec885adcca97d14b00d9c0/proof.ipynb\" style=\"text-decoration: none\">&nbsp;&#x22A2;&nbsp;&nbsp;</a><a class=\"ProveItLink\" href=\"../../../../multiplication/__pv_it/theorems/4e18818a916e43f260023b3f74dfa85b55295e6e0/expr.ipynb\"><img src=\"../../../../multiplication/__pv_it/theorems/4e18818a916e43f260023b3f74dfa85b55295e6e0/expr.png\" style=\"display:inline;vertical-align:middle;\" /></a></span></td></tr>\n",
       "</table>"
      ],
      "text/plain": [
       "<proveit._core_.proof._ShowProof at 0x7f37f6afee80>"
      ]
     },
     "execution_count": 1,
     "metadata": {},
     "output_type": "execute_result"
    }
   ],
   "source": [
    "import proveit\n",
    "# Automation is not needed when only showing a stored proof:\n",
    "proveit.defaults.automation = False # This will speed things up.\n",
    "proveit.defaults.inline_pngs = False # Makes files smaller.\n",
    "%show_proof"
   ]
  },
  {
   "cell_type": "code",
   "execution_count": null,
   "metadata": {},
   "outputs": [],
   "source": []
  }
 ],
 "metadata": {
  "kernelspec": {
   "display_name": "Python 3",
   "language": "python",
   "name": "python3"
  }
 },
 "nbformat": 4,
 "nbformat_minor": 0
}