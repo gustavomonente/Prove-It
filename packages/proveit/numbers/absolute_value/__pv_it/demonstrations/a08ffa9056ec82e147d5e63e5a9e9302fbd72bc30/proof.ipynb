{
 "cells": [
  {
   "cell_type": "markdown",
   "metadata": {},
   "source": [
    "Show the Proof\n",
    "========"
   ]
  },
  {
   "cell_type": "code",
   "execution_count": 1,
   "metadata": {},
   "outputs": [
    {
     "data": {
      "text/html": [
       "<table><tr><th>&nbsp;</th><th>step type</th><th>requirements</th><th>statement</th></tr>\n",
       "<tr><td><a name=\"proveit.numbers.absolute_value.demonstrations.a08ffa9056ec82e147d5e63e5a9e9302fbd72bc30_step0\">0</a></td><td>instantiation</td><td><a href=\"#proveit.numbers.absolute_value.demonstrations.a08ffa9056ec82e147d5e63e5a9e9302fbd72bc30_step1\">1</a>, <a href=\"#proveit.numbers.absolute_value.demonstrations.a08ffa9056ec82e147d5e63e5a9e9302fbd72bc30_step2\">2</a>, <a href=\"#proveit.numbers.absolute_value.demonstrations.a08ffa9056ec82e147d5e63e5a9e9302fbd72bc30_step3\">3</a></td><td><span style=\"font-size:20px;\"><a class=\"ProveItLink\" href=\"../../../../addition/__pv_it/theorems/c2741e7bf3ba56bb8af4781eceb979ce777fa1cc0/expr.ipynb\"><img src=\"../../../../addition/__pv_it/theorems/c2741e7bf3ba56bb8af4781eceb979ce777fa1cc0/expr.png\" style=\"display:inline;vertical-align:middle;\" /></a>, <a class=\"ProveItLink\" href=\"../../../../addition/__pv_it/theorems/5dc3a413adc52c16bb1fe833d0a2a30a82fffe7f0/expr.ipynb\"><img src=\"../../../../addition/__pv_it/theorems/5dc3a413adc52c16bb1fe833d0a2a30a82fffe7f0/expr.png\" style=\"display:inline;vertical-align:middle;\" /></a> <a class=\"ProveItLink\" href=\"proof.ipynb\" style=\"text-decoration: none\">&nbsp;&#x22A2;&nbsp;&nbsp;</a><a class=\"ProveItLink\" href=\"../975f0b578ded69d5893a7a4e32e3d9bd44ead2360/expr.ipynb\"><img src=\"../975f0b578ded69d5893a7a4e32e3d9bd44ead2360/expr.png\" style=\"display:inline;vertical-align:middle;\" /></a></span></td></tr>\n",
       "<tr><td>&nbsp;</td><td colspan=4 style=\"text-align:left\"><span style=\"font-size:20px;\"><a class=\"ProveItLink\" href=\"../../../../../__pv_it/common/c06c606ec12678c58933ac85412ecadc2ae28be60/expr.ipynb\"><img src=\"../../../../../__pv_it/common/c06c606ec12678c58933ac85412ecadc2ae28be60/expr.png\" style=\"display:inline;vertical-align:middle;\" /></a> : <a class=\"ProveItLink\" href=\"../../../../../__pv_it/common/c06c606ec12678c58933ac85412ecadc2ae28be60/expr.ipynb\"><img src=\"../../../../../__pv_it/common/c06c606ec12678c58933ac85412ecadc2ae28be60/expr.png\" style=\"display:inline;vertical-align:middle;\" /></a>, <a class=\"ProveItLink\" href=\"../../../../../__pv_it/common/195236b98c6c564a75b5dbada74b173bc52d5c3e0/expr.ipynb\"><img src=\"../../../../../__pv_it/common/195236b98c6c564a75b5dbada74b173bc52d5c3e0/expr.png\" style=\"display:inline;vertical-align:middle;\" /></a> : <a class=\"ProveItLink\" href=\"../../../../../__pv_it/common/195236b98c6c564a75b5dbada74b173bc52d5c3e0/expr.ipynb\"><img src=\"../../../../../__pv_it/common/195236b98c6c564a75b5dbada74b173bc52d5c3e0/expr.png\" style=\"display:inline;vertical-align:middle;\" /></a></span></td></tr><tr><td><a name=\"proveit.numbers.absolute_value.demonstrations.a08ffa9056ec82e147d5e63e5a9e9302fbd72bc30_step1\">1</a></td><td>theorem</td><td></td><td><span style=\"font-size:20px;\"> <a class=\"ProveItLink\" href=\"../../../../multiplication/_theory_nbs_/proofs/mult_real_non_neg_closure_bin/thm_proof.ipynb\" style=\"text-decoration: none\">&nbsp;&#x22A2;&nbsp;&nbsp;</a><a class=\"ProveItLink\" href=\"../../../../multiplication/__pv_it/theorems/5619d9a6c1258a64a1659e00d58dc7359dfaa1860/expr.ipynb\"><img src=\"../../../../multiplication/__pv_it/theorems/5619d9a6c1258a64a1659e00d58dc7359dfaa1860/expr.png\" style=\"display:inline;vertical-align:middle;\" /></a></span></td></tr>\n",
       "<tr><td>&nbsp;</td><td colspan=4 style-\"text-align:left\"><a class=\"ProveItLink\" href=\"../../../../multiplication/_theory_nbs_/proofs/mult_real_non_neg_closure_bin/thm_proof.ipynb\">proveit.numbers.multiplication.mult_real_non_neg_closure_bin</a></td></tr><tr><td><a name=\"proveit.numbers.absolute_value.demonstrations.a08ffa9056ec82e147d5e63e5a9e9302fbd72bc30_step2\">2</a></td><td>assumption</td><td></td><td><span style=\"font-size:20px;\"><a class=\"ProveItLink\" href=\"../../../../addition/__pv_it/theorems/c2741e7bf3ba56bb8af4781eceb979ce777fa1cc0/expr.ipynb\"><img src=\"../../../../addition/__pv_it/theorems/c2741e7bf3ba56bb8af4781eceb979ce777fa1cc0/expr.png\" style=\"display:inline;vertical-align:middle;\" /></a> <a class=\"ProveItLink\" href=\"../805a0523697af543cf64cad15841f14be67ba9ee0/proof.ipynb\" style=\"text-decoration: none\">&nbsp;&#x22A2;&nbsp;&nbsp;</a><a class=\"ProveItLink\" href=\"../../../../addition/__pv_it/theorems/c2741e7bf3ba56bb8af4781eceb979ce777fa1cc0/expr.ipynb\"><img src=\"../../../../addition/__pv_it/theorems/c2741e7bf3ba56bb8af4781eceb979ce777fa1cc0/expr.png\" style=\"display:inline;vertical-align:middle;\" /></a></span></td></tr>\n",
       "<tr><td><a name=\"proveit.numbers.absolute_value.demonstrations.a08ffa9056ec82e147d5e63e5a9e9302fbd72bc30_step3\">3</a></td><td>assumption</td><td></td><td><span style=\"font-size:20px;\"><a class=\"ProveItLink\" href=\"../../../../addition/__pv_it/theorems/5dc3a413adc52c16bb1fe833d0a2a30a82fffe7f0/expr.ipynb\"><img src=\"../../../../addition/__pv_it/theorems/5dc3a413adc52c16bb1fe833d0a2a30a82fffe7f0/expr.png\" style=\"display:inline;vertical-align:middle;\" /></a> <a class=\"ProveItLink\" href=\"../5d04f44f7db43cd2edc9e24d8a5f441121987bf30/proof.ipynb\" style=\"text-decoration: none\">&nbsp;&#x22A2;&nbsp;&nbsp;</a><a class=\"ProveItLink\" href=\"../../../../addition/__pv_it/theorems/5dc3a413adc52c16bb1fe833d0a2a30a82fffe7f0/expr.ipynb\"><img src=\"../../../../addition/__pv_it/theorems/5dc3a413adc52c16bb1fe833d0a2a30a82fffe7f0/expr.png\" style=\"display:inline;vertical-align:middle;\" /></a></span></td></tr>\n",
       "</table>"
      ],
      "text/plain": [
       "<proveit._core_.proof._ShowProof at 0x7fbb03a05780>"
      ]
     },
     "execution_count": 1,
     "metadata": {},
     "output_type": "execute_result"
    }
   ],
   "source": [
    "import proveit\n",
    "# Automation is not needed when only showing a stored proof:\n",
    "proveit.defaults.automation = False # This will speed things up.\n",
    "proveit.defaults.inline_pngs = False # Makes files smaller.\n",
    "%show_proof"
   ]
  },
  {
   "cell_type": "code",
   "execution_count": null,
   "metadata": {},
   "outputs": [],
   "source": []
  }
 ],
 "metadata": {
  "kernelspec": {
   "display_name": "Python 3",
   "language": "python",
   "name": "python3"
  }
 },
 "nbformat": 4,
 "nbformat_minor": 0
}