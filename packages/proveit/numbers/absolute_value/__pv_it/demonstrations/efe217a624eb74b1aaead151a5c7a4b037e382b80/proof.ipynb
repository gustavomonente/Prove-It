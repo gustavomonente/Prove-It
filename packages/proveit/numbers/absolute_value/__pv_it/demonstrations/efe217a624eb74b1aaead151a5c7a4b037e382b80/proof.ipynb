{
 "cells": [
  {
   "cell_type": "markdown",
   "metadata": {},
   "source": [
    "Show the Proof\n",
    "========"
   ]
  },
  {
   "cell_type": "code",
   "execution_count": 1,
   "metadata": {},
   "outputs": [
    {
     "data": {
      "text/html": [
       "<table><tr><th>&nbsp;</th><th>step type</th><th>requirements</th><th>statement</th></tr>\n",
       "<tr><td><a name=\"proveit.numbers.absolute_value.demonstrations.efe217a624eb74b1aaead151a5c7a4b037e382b80_step0\">0</a></td><td>instantiation</td><td><a href=\"#proveit.numbers.absolute_value.demonstrations.efe217a624eb74b1aaead151a5c7a4b037e382b80_step1\">1</a>, <a href=\"#proveit.numbers.absolute_value.demonstrations.efe217a624eb74b1aaead151a5c7a4b037e382b80_step2\">2</a>, <a href=\"#proveit.numbers.absolute_value.demonstrations.efe217a624eb74b1aaead151a5c7a4b037e382b80_step3\">3</a></td><td><span style=\"font-size:20px;\"><a class=\"ProveItLink\" href=\"../../../../addition/__pv_it/theorems/a8f64ad5040176b1677767d63863b3a01e36008f0/expr.ipynb\"><img src=\"../../../../addition/__pv_it/theorems/a8f64ad5040176b1677767d63863b3a01e36008f0/expr.png\" style=\"display:inline;vertical-align:middle;\" /></a>, <a class=\"ProveItLink\" href=\"../../../../addition/__pv_it/theorems/42f856cd40b7b713f55d83673851c94f79c9f2200/expr.ipynb\"><img src=\"../../../../addition/__pv_it/theorems/42f856cd40b7b713f55d83673851c94f79c9f2200/expr.png\" style=\"display:inline;vertical-align:middle;\" /></a> <a class=\"ProveItLink\" href=\"proof.ipynb\" style=\"text-decoration: none\">&nbsp;&#x22A2;&nbsp;&nbsp;</a><a class=\"ProveItLink\" href=\"../5ba1c0004fffeaab2342b6f6e1025fcff09dee520/expr.ipynb\"><img src=\"../5ba1c0004fffeaab2342b6f6e1025fcff09dee520/expr.png\" style=\"display:inline;vertical-align:middle;\" /></a></span></td></tr>\n",
       "<tr><td>&nbsp;</td><td colspan=4 style=\"text-align:left\"><span style=\"font-size:20px;\"><a class=\"ProveItLink\" href=\"../../../../../__pv_it/common/66c90e66682f107a881f2d666959f64e2e72ad750/expr.ipynb\"><img src=\"../../../../../__pv_it/common/66c90e66682f107a881f2d666959f64e2e72ad750/expr.png\" style=\"display:inline;vertical-align:middle;\" /></a> : <a class=\"ProveItLink\" href=\"../../../../../__pv_it/common/66c90e66682f107a881f2d666959f64e2e72ad750/expr.ipynb\"><img src=\"../../../../../__pv_it/common/66c90e66682f107a881f2d666959f64e2e72ad750/expr.png\" style=\"display:inline;vertical-align:middle;\" /></a>, <a class=\"ProveItLink\" href=\"../../../../../__pv_it/common/4a5db8cc5c67969ec864bd3ea598be37cb6f5e550/expr.ipynb\"><img src=\"../../../../../__pv_it/common/4a5db8cc5c67969ec864bd3ea598be37cb6f5e550/expr.png\" style=\"display:inline;vertical-align:middle;\" /></a> : <a class=\"ProveItLink\" href=\"../../../../../__pv_it/common/4a5db8cc5c67969ec864bd3ea598be37cb6f5e550/expr.ipynb\"><img src=\"../../../../../__pv_it/common/4a5db8cc5c67969ec864bd3ea598be37cb6f5e550/expr.png\" style=\"display:inline;vertical-align:middle;\" /></a></span></td></tr><tr><td><a name=\"proveit.numbers.absolute_value.demonstrations.efe217a624eb74b1aaead151a5c7a4b037e382b80_step1\">1</a></td><td>theorem</td><td></td><td><span style=\"font-size:20px;\"> <a class=\"ProveItLink\" href=\"../../../../multiplication/_theory_nbs_/proofs/mult_real_non_neg_closure_bin/thm_proof.ipynb\" style=\"text-decoration: none\">&nbsp;&#x22A2;&nbsp;&nbsp;</a><a class=\"ProveItLink\" href=\"../../../../multiplication/__pv_it/theorems/c79243f154023c3ff49a7b0db34b7039332e3c6e0/expr.ipynb\"><img src=\"../../../../multiplication/__pv_it/theorems/c79243f154023c3ff49a7b0db34b7039332e3c6e0/expr.png\" style=\"display:inline;vertical-align:middle;\" /></a></span></td></tr>\n",
       "<tr><td>&nbsp;</td><td colspan=4 style-\"text-align:left\"><a class=\"ProveItLink\" href=\"../../../../multiplication/_theory_nbs_/proofs/mult_real_non_neg_closure_bin/thm_proof.ipynb\">proveit.numbers.multiplication.mult_real_non_neg_closure_bin</a></td></tr><tr><td><a name=\"proveit.numbers.absolute_value.demonstrations.efe217a624eb74b1aaead151a5c7a4b037e382b80_step2\">2</a></td><td>assumption</td><td></td><td><span style=\"font-size:20px;\"><a class=\"ProveItLink\" href=\"../../../../addition/__pv_it/theorems/a8f64ad5040176b1677767d63863b3a01e36008f0/expr.ipynb\"><img src=\"../../../../addition/__pv_it/theorems/a8f64ad5040176b1677767d63863b3a01e36008f0/expr.png\" style=\"display:inline;vertical-align:middle;\" /></a> <a class=\"ProveItLink\" href=\"../9a317230a53647507cd1cede1add233ba36d3ce70/proof.ipynb\" style=\"text-decoration: none\">&nbsp;&#x22A2;&nbsp;&nbsp;</a><a class=\"ProveItLink\" href=\"../../../../addition/__pv_it/theorems/a8f64ad5040176b1677767d63863b3a01e36008f0/expr.ipynb\"><img src=\"../../../../addition/__pv_it/theorems/a8f64ad5040176b1677767d63863b3a01e36008f0/expr.png\" style=\"display:inline;vertical-align:middle;\" /></a></span></td></tr>\n",
       "<tr><td><a name=\"proveit.numbers.absolute_value.demonstrations.efe217a624eb74b1aaead151a5c7a4b037e382b80_step3\">3</a></td><td>assumption</td><td></td><td><span style=\"font-size:20px;\"><a class=\"ProveItLink\" href=\"../../../../addition/__pv_it/theorems/42f856cd40b7b713f55d83673851c94f79c9f2200/expr.ipynb\"><img src=\"../../../../addition/__pv_it/theorems/42f856cd40b7b713f55d83673851c94f79c9f2200/expr.png\" style=\"display:inline;vertical-align:middle;\" /></a> <a class=\"ProveItLink\" href=\"../d7c94898304cbcda11a834d75514af1b49014bfb0/proof.ipynb\" style=\"text-decoration: none\">&nbsp;&#x22A2;&nbsp;&nbsp;</a><a class=\"ProveItLink\" href=\"../../../../addition/__pv_it/theorems/42f856cd40b7b713f55d83673851c94f79c9f2200/expr.ipynb\"><img src=\"../../../../addition/__pv_it/theorems/42f856cd40b7b713f55d83673851c94f79c9f2200/expr.png\" style=\"display:inline;vertical-align:middle;\" /></a></span></td></tr>\n",
       "</table>"
      ],
      "text/plain": [
       "<proveit._core_.proof._ShowProof at 0x7f92da486b70>"
      ]
     },
     "execution_count": 1,
     "metadata": {},
     "output_type": "execute_result"
    }
   ],
   "source": [
    "import proveit\n",
    "# Automation is not needed when only showing a stored proof:\n",
    "proveit.defaults.automation = False # This will speed things up.\n",
    "proveit.defaults.inline_pngs = False # Makes files smaller.\n",
    "%show_proof"
   ]
  },
  {
   "cell_type": "code",
   "execution_count": null,
   "metadata": {},
   "outputs": [],
   "source": []
  }
 ],
 "metadata": {
  "kernelspec": {
   "display_name": "Python 3",
   "language": "python",
   "name": "python3"
  },
  "language_info": {
   "codemirror_mode": {
    "name": "ipython",
    "version": 3
   },
   "file_extension": ".py",
   "mimetype": "text/x-python",
   "name": "python",
   "nbconvert_exporter": "python",
   "pygments_lexer": "ipython3",
   "version": "3.7.3"
  }
 },
 "nbformat": 4,
 "nbformat_minor": 1
}