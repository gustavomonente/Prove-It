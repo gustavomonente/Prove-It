{
 "cells": [
  {
   "cell_type": "markdown",
   "metadata": {},
   "source": [
    "Show the Proof\n",
    "========"
   ]
  },
  {
   "cell_type": "code",
   "execution_count": 1,
   "metadata": {},
   "outputs": [
    {
     "data": {
      "text/html": [
       "<table><tr><th>&nbsp;</th><th>step type</th><th>requirements</th><th>statement</th></tr>\n",
       "<tr><td><a name=\"proveit.numbers.absolute_value.demonstrations.eb03d6f3b956c24f549284a09a36b8cf50de40490_step0\">0</a></td><td>instantiation</td><td><a href=\"#proveit.numbers.absolute_value.demonstrations.eb03d6f3b956c24f549284a09a36b8cf50de40490_step1\">1</a>, <a href=\"#proveit.numbers.absolute_value.demonstrations.eb03d6f3b956c24f549284a09a36b8cf50de40490_step2\">2</a>, <a href=\"#proveit.numbers.absolute_value.demonstrations.eb03d6f3b956c24f549284a09a36b8cf50de40490_step3\">3</a></td><td><span style=\"font-size:20px;\"><a class=\"ProveItLink\" href=\"../../theorems/95d0d034454e5eb6c3934a54d7a149c5c125a3cb0/expr.ipynb\"><img src=\"../../theorems/95d0d034454e5eb6c3934a54d7a149c5c125a3cb0/expr.png\" style=\"display:inline;vertical-align:middle;\" /></a>, <a class=\"ProveItLink\" href=\"../../theorems/fe4de3ff0419f38c3d25379035ba812df4fead870/expr.ipynb\"><img src=\"../../theorems/fe4de3ff0419f38c3d25379035ba812df4fead870/expr.png\" style=\"display:inline;vertical-align:middle;\" /></a>, <a class=\"ProveItLink\" href=\"../1d18954598c05a93849ebd85209d74dbc38f181a0/expr.ipynb\"><img src=\"../1d18954598c05a93849ebd85209d74dbc38f181a0/expr.png\" style=\"display:inline;vertical-align:middle;\" /></a> <a class=\"ProveItLink\" href=\"proof.ipynb\" style=\"text-decoration: none\">&nbsp;&#x22A2;&nbsp;&nbsp;</a><a class=\"ProveItLink\" href=\"../e38d093d29ebc693f443da081dd5b9941ff06bcd0/expr.ipynb\"><img src=\"../e38d093d29ebc693f443da081dd5b9941ff06bcd0/expr.png\" style=\"display:inline;vertical-align:middle;\" /></a></span></td></tr>\n",
       "<tr><td>&nbsp;</td><td colspan=4 style=\"text-align:left\"><span style=\"font-size:20px;\"><a class=\"ProveItLink\" href=\"../../../../../__pv_it/common/66c90e66682f107a881f2d666959f64e2e72ad750/expr.ipynb\"><img src=\"../../../../../__pv_it/common/66c90e66682f107a881f2d666959f64e2e72ad750/expr.png\" style=\"display:inline;vertical-align:middle;\" /></a> : <a class=\"ProveItLink\" href=\"../9f067a542a28b6a4a249b19364ea35cd2d1a4f470/expr.ipynb\"><img src=\"../9f067a542a28b6a4a249b19364ea35cd2d1a4f470/expr.png\" style=\"display:inline;vertical-align:middle;\" /></a></span></td></tr><tr><td><a name=\"proveit.numbers.absolute_value.demonstrations.eb03d6f3b956c24f549284a09a36b8cf50de40490_step1\">1</a></td><td>theorem</td><td></td><td><span style=\"font-size:20px;\"> <a class=\"ProveItLink\" href=\"../../../_theory_nbs_/proofs/abs_nonzero_closure/thm_proof.ipynb\" style=\"text-decoration: none\">&nbsp;&#x22A2;&nbsp;&nbsp;</a><a class=\"ProveItLink\" href=\"../../theorems/acc78f2a26a0c6c5de297a4cf552969daf11ae350/expr.ipynb\"><img src=\"../../theorems/acc78f2a26a0c6c5de297a4cf552969daf11ae350/expr.png\" style=\"display:inline;vertical-align:middle;\" /></a></span></td></tr>\n",
       "<tr><td>&nbsp;</td><td colspan=4 style-\"text-align:left\"><a class=\"ProveItLink\" href=\"../../../_theory_nbs_/proofs/abs_nonzero_closure/thm_proof.ipynb\">proveit.numbers.absolute_value.abs_nonzero_closure</a></td></tr><tr><td><a name=\"proveit.numbers.absolute_value.demonstrations.eb03d6f3b956c24f549284a09a36b8cf50de40490_step2\">2</a></td><td>instantiation</td><td><a href=\"#proveit.numbers.absolute_value.demonstrations.eb03d6f3b956c24f549284a09a36b8cf50de40490_step4\">4</a>, <a href=\"#proveit.numbers.absolute_value.demonstrations.eb03d6f3b956c24f549284a09a36b8cf50de40490_step5\">5</a>, <a href=\"#proveit.numbers.absolute_value.demonstrations.eb03d6f3b956c24f549284a09a36b8cf50de40490_step6\">6</a></td><td><span style=\"font-size:20px;\"><a class=\"ProveItLink\" href=\"../../theorems/95d0d034454e5eb6c3934a54d7a149c5c125a3cb0/expr.ipynb\"><img src=\"../../theorems/95d0d034454e5eb6c3934a54d7a149c5c125a3cb0/expr.png\" style=\"display:inline;vertical-align:middle;\" /></a>, <a class=\"ProveItLink\" href=\"../../theorems/fe4de3ff0419f38c3d25379035ba812df4fead870/expr.ipynb\"><img src=\"../../theorems/fe4de3ff0419f38c3d25379035ba812df4fead870/expr.png\" style=\"display:inline;vertical-align:middle;\" /></a> <a class=\"ProveItLink\" href=\"../747eea93663bc5eb07f267fbca2af98d391e24a20/proof.ipynb\" style=\"text-decoration: none\">&nbsp;&#x22A2;&nbsp;&nbsp;</a><a class=\"ProveItLink\" href=\"../../../../addition/__pv_it/theorems/5a7a57b03cf16b2a668a16ef30222e7976ae1b390/expr.ipynb\"><img src=\"../../../../addition/__pv_it/theorems/5a7a57b03cf16b2a668a16ef30222e7976ae1b390/expr.png\" style=\"display:inline;vertical-align:middle;\" /></a></span></td></tr>\n",
       "<tr><td>&nbsp;</td><td colspan=4 style=\"text-align:left\"><span style=\"font-size:20px;\"><a class=\"ProveItLink\" href=\"../../../../../__pv_it/common/66c90e66682f107a881f2d666959f64e2e72ad750/expr.ipynb\"><img src=\"../../../../../__pv_it/common/66c90e66682f107a881f2d666959f64e2e72ad750/expr.png\" style=\"display:inline;vertical-align:middle;\" /></a> : <a class=\"ProveItLink\" href=\"../../../../../__pv_it/common/66c90e66682f107a881f2d666959f64e2e72ad750/expr.ipynb\"><img src=\"../../../../../__pv_it/common/66c90e66682f107a881f2d666959f64e2e72ad750/expr.png\" style=\"display:inline;vertical-align:middle;\" /></a>, <a class=\"ProveItLink\" href=\"../../../../../__pv_it/common/4a5db8cc5c67969ec864bd3ea598be37cb6f5e550/expr.ipynb\"><img src=\"../../../../../__pv_it/common/4a5db8cc5c67969ec864bd3ea598be37cb6f5e550/expr.png\" style=\"display:inline;vertical-align:middle;\" /></a> : <a class=\"ProveItLink\" href=\"../../../../../__pv_it/common/4a5db8cc5c67969ec864bd3ea598be37cb6f5e550/expr.ipynb\"><img src=\"../../../../../__pv_it/common/4a5db8cc5c67969ec864bd3ea598be37cb6f5e550/expr.png\" style=\"display:inline;vertical-align:middle;\" /></a></span></td></tr><tr><td><a name=\"proveit.numbers.absolute_value.demonstrations.eb03d6f3b956c24f549284a09a36b8cf50de40490_step3\">3</a></td><td>assumption</td><td></td><td><span style=\"font-size:20px;\"><a class=\"ProveItLink\" href=\"../1d18954598c05a93849ebd85209d74dbc38f181a0/expr.ipynb\"><img src=\"../1d18954598c05a93849ebd85209d74dbc38f181a0/expr.png\" style=\"display:inline;vertical-align:middle;\" /></a> <a class=\"ProveItLink\" href=\"../16fe3d586f358a9c1fb54a0e59524708c7bbde6b0/proof.ipynb\" style=\"text-decoration: none\">&nbsp;&#x22A2;&nbsp;&nbsp;</a><a class=\"ProveItLink\" href=\"../1d18954598c05a93849ebd85209d74dbc38f181a0/expr.ipynb\"><img src=\"../1d18954598c05a93849ebd85209d74dbc38f181a0/expr.png\" style=\"display:inline;vertical-align:middle;\" /></a></span></td></tr>\n",
       "<tr><td><a name=\"proveit.numbers.absolute_value.demonstrations.eb03d6f3b956c24f549284a09a36b8cf50de40490_step4\">4</a></td><td>theorem</td><td></td><td><span style=\"font-size:20px;\"> <a class=\"ProveItLink\" href=\"../../../../addition/_theory_nbs_/proofs/add_complex_closure_bin/thm_proof.ipynb\" style=\"text-decoration: none\">&nbsp;&#x22A2;&nbsp;&nbsp;</a><a class=\"ProveItLink\" href=\"../../../../addition/__pv_it/theorems/36961ad2f5fa1196515601502c6fee53222773c50/expr.ipynb\"><img src=\"../../../../addition/__pv_it/theorems/36961ad2f5fa1196515601502c6fee53222773c50/expr.png\" style=\"display:inline;vertical-align:middle;\" /></a></span></td></tr>\n",
       "<tr><td>&nbsp;</td><td colspan=4 style-\"text-align:left\"><a class=\"ProveItLink\" href=\"../../../../addition/_theory_nbs_/proofs/add_complex_closure_bin/thm_proof.ipynb\">proveit.numbers.addition.add_complex_closure_bin</a></td></tr><tr><td><a name=\"proveit.numbers.absolute_value.demonstrations.eb03d6f3b956c24f549284a09a36b8cf50de40490_step5\">5</a></td><td>assumption</td><td></td><td><span style=\"font-size:20px;\"><a class=\"ProveItLink\" href=\"../../theorems/95d0d034454e5eb6c3934a54d7a149c5c125a3cb0/expr.ipynb\"><img src=\"../../theorems/95d0d034454e5eb6c3934a54d7a149c5c125a3cb0/expr.png\" style=\"display:inline;vertical-align:middle;\" /></a> <a class=\"ProveItLink\" href=\"../1fb55df6b04945a60b38ebf6fa7123a0821fad1c0/proof.ipynb\" style=\"text-decoration: none\">&nbsp;&#x22A2;&nbsp;&nbsp;</a><a class=\"ProveItLink\" href=\"../../theorems/95d0d034454e5eb6c3934a54d7a149c5c125a3cb0/expr.ipynb\"><img src=\"../../theorems/95d0d034454e5eb6c3934a54d7a149c5c125a3cb0/expr.png\" style=\"display:inline;vertical-align:middle;\" /></a></span></td></tr>\n",
       "<tr><td><a name=\"proveit.numbers.absolute_value.demonstrations.eb03d6f3b956c24f549284a09a36b8cf50de40490_step6\">6</a></td><td>assumption</td><td></td><td><span style=\"font-size:20px;\"><a class=\"ProveItLink\" href=\"../../theorems/fe4de3ff0419f38c3d25379035ba812df4fead870/expr.ipynb\"><img src=\"../../theorems/fe4de3ff0419f38c3d25379035ba812df4fead870/expr.png\" style=\"display:inline;vertical-align:middle;\" /></a> <a class=\"ProveItLink\" href=\"../0f6bd250be8877920fd5e9790aa7e473517d923f0/proof.ipynb\" style=\"text-decoration: none\">&nbsp;&#x22A2;&nbsp;&nbsp;</a><a class=\"ProveItLink\" href=\"../../theorems/fe4de3ff0419f38c3d25379035ba812df4fead870/expr.ipynb\"><img src=\"../../theorems/fe4de3ff0419f38c3d25379035ba812df4fead870/expr.png\" style=\"display:inline;vertical-align:middle;\" /></a></span></td></tr>\n",
       "</table>"
      ],
      "text/plain": [
       "<proveit._core_.proof._ShowProof at 0x7f55f5aa34a8>"
      ]
     },
     "execution_count": 1,
     "metadata": {},
     "output_type": "execute_result"
    }
   ],
   "source": [
    "import proveit\n",
    "# Automation is not needed when only showing a stored proof:\n",
    "proveit.defaults.automation = False # This will speed things up.\n",
    "proveit.defaults.inline_pngs = False # Makes files smaller.\n",
    "%show_proof"
   ]
  },
  {
   "cell_type": "code",
   "execution_count": null,
   "metadata": {},
   "outputs": [],
   "source": []
  }
 ],
 "metadata": {
  "kernelspec": {
   "display_name": "Python 3",
   "language": "python",
   "name": "python3"
  },
  "language_info": {
   "codemirror_mode": {
    "name": "ipython",
    "version": 3
   },
   "file_extension": ".py",
   "mimetype": "text/x-python",
   "name": "python",
   "nbconvert_exporter": "python",
   "pygments_lexer": "ipython3",
   "version": "3.7.3"
  }
 },
 "nbformat": 4,
 "nbformat_minor": 1
}