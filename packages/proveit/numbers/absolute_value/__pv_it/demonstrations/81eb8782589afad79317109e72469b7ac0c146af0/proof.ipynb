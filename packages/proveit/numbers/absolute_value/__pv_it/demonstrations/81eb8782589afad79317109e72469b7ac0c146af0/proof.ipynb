{
 "cells": [
  {
   "cell_type": "markdown",
   "metadata": {},
   "source": [
    "Show the Proof\n",
    "========"
   ]
  },
  {
   "cell_type": "code",
   "execution_count": 1,
   "metadata": {},
   "outputs": [
    {
     "data": {
      "text/html": [
       "<table><tr><th>&nbsp;</th><th>step type</th><th>requirements</th><th>statement</th></tr>\n",
       "<tr><td><a name=\"proveit.numbers.absolute_value.demonstrations.81eb8782589afad79317109e72469b7ac0c146af0_step0\">0</a></td><td>instantiation</td><td><a href=\"#proveit.numbers.absolute_value.demonstrations.81eb8782589afad79317109e72469b7ac0c146af0_step1\">1</a>, <a href=\"#proveit.numbers.absolute_value.demonstrations.81eb8782589afad79317109e72469b7ac0c146af0_step2\">2</a>, <a href=\"#proveit.numbers.absolute_value.demonstrations.81eb8782589afad79317109e72469b7ac0c146af0_step3\">3</a>, <a href=\"#proveit.numbers.absolute_value.demonstrations.81eb8782589afad79317109e72469b7ac0c146af0_step4\">4</a></td><td><span style=\"font-size:20px;\"><a class=\"ProveItLink\" href=\"../../theorems/95d0d034454e5eb6c3934a54d7a149c5c125a3cb0/expr.ipynb\"><img src=\"../../theorems/95d0d034454e5eb6c3934a54d7a149c5c125a3cb0/expr.png\" style=\"display:inline;vertical-align:middle;\" /></a>, <a class=\"ProveItLink\" href=\"../../theorems/fe4de3ff0419f38c3d25379035ba812df4fead870/expr.ipynb\"><img src=\"../../theorems/fe4de3ff0419f38c3d25379035ba812df4fead870/expr.png\" style=\"display:inline;vertical-align:middle;\" /></a>, <a class=\"ProveItLink\" href=\"../../theorems/c60120fc39d338b5df5ab620a1e969583dd2bfc10/expr.ipynb\"><img src=\"../../theorems/c60120fc39d338b5df5ab620a1e969583dd2bfc10/expr.png\" style=\"display:inline;vertical-align:middle;\" /></a> <a class=\"ProveItLink\" href=\"proof.ipynb\" style=\"text-decoration: none\">&nbsp;&#x22A2;&nbsp;&nbsp;</a><a class=\"ProveItLink\" href=\"../../theorems/e3dd42851d95575744ad07dd5773563d88ca85d20/expr.ipynb\"><img src=\"../../theorems/e3dd42851d95575744ad07dd5773563d88ca85d20/expr.png\" style=\"display:inline;vertical-align:middle;\" /></a></span></td></tr>\n",
       "<tr><td>&nbsp;</td><td colspan=4 style=\"text-align:left\"><span style=\"font-size:20px;\"><a class=\"ProveItLink\" href=\"../../../../../__pv_it/common/66c90e66682f107a881f2d666959f64e2e72ad750/expr.ipynb\"><img src=\"../../../../../__pv_it/common/66c90e66682f107a881f2d666959f64e2e72ad750/expr.png\" style=\"display:inline;vertical-align:middle;\" /></a> : <a class=\"ProveItLink\" href=\"../../../../../__pv_it/common/66c90e66682f107a881f2d666959f64e2e72ad750/expr.ipynb\"><img src=\"../../../../../__pv_it/common/66c90e66682f107a881f2d666959f64e2e72ad750/expr.png\" style=\"display:inline;vertical-align:middle;\" /></a>, <a class=\"ProveItLink\" href=\"../../../../../__pv_it/common/4a5db8cc5c67969ec864bd3ea598be37cb6f5e550/expr.ipynb\"><img src=\"../../../../../__pv_it/common/4a5db8cc5c67969ec864bd3ea598be37cb6f5e550/expr.png\" style=\"display:inline;vertical-align:middle;\" /></a> : <a class=\"ProveItLink\" href=\"../../../../../__pv_it/common/4a5db8cc5c67969ec864bd3ea598be37cb6f5e550/expr.ipynb\"><img src=\"../../../../../__pv_it/common/4a5db8cc5c67969ec864bd3ea598be37cb6f5e550/expr.png\" style=\"display:inline;vertical-align:middle;\" /></a></span></td></tr><tr><td><a name=\"proveit.numbers.absolute_value.demonstrations.81eb8782589afad79317109e72469b7ac0c146af0_step1\">1</a></td><td>theorem</td><td></td><td><span style=\"font-size:20px;\"> <a class=\"ProveItLink\" href=\"../../../_theory_nbs_/proofs/abs_frac/thm_proof.ipynb\" style=\"text-decoration: none\">&nbsp;&#x22A2;&nbsp;&nbsp;</a><a class=\"ProveItLink\" href=\"../../theorems/63eca2733e1ad1e1ed58fc0774433380ed2251800/expr.ipynb\"><img src=\"../../theorems/63eca2733e1ad1e1ed58fc0774433380ed2251800/expr.png\" style=\"display:inline;vertical-align:middle;\" /></a></span></td></tr>\n",
       "<tr><td>&nbsp;</td><td colspan=4 style-\"text-align:left\"><a class=\"ProveItLink\" href=\"../../../_theory_nbs_/proofs/abs_frac/thm_proof.ipynb\">proveit.numbers.absolute_value.abs_frac</a></td></tr><tr><td><a name=\"proveit.numbers.absolute_value.demonstrations.81eb8782589afad79317109e72469b7ac0c146af0_step2\">2</a></td><td>assumption</td><td></td><td><span style=\"font-size:20px;\"><a class=\"ProveItLink\" href=\"../../theorems/95d0d034454e5eb6c3934a54d7a149c5c125a3cb0/expr.ipynb\"><img src=\"../../theorems/95d0d034454e5eb6c3934a54d7a149c5c125a3cb0/expr.png\" style=\"display:inline;vertical-align:middle;\" /></a> <a class=\"ProveItLink\" href=\"../1fb55df6b04945a60b38ebf6fa7123a0821fad1c0/proof.ipynb\" style=\"text-decoration: none\">&nbsp;&#x22A2;&nbsp;&nbsp;</a><a class=\"ProveItLink\" href=\"../../theorems/95d0d034454e5eb6c3934a54d7a149c5c125a3cb0/expr.ipynb\"><img src=\"../../theorems/95d0d034454e5eb6c3934a54d7a149c5c125a3cb0/expr.png\" style=\"display:inline;vertical-align:middle;\" /></a></span></td></tr>\n",
       "<tr><td><a name=\"proveit.numbers.absolute_value.demonstrations.81eb8782589afad79317109e72469b7ac0c146af0_step3\">3</a></td><td>assumption</td><td></td><td><span style=\"font-size:20px;\"><a class=\"ProveItLink\" href=\"../../theorems/fe4de3ff0419f38c3d25379035ba812df4fead870/expr.ipynb\"><img src=\"../../theorems/fe4de3ff0419f38c3d25379035ba812df4fead870/expr.png\" style=\"display:inline;vertical-align:middle;\" /></a> <a class=\"ProveItLink\" href=\"../0f6bd250be8877920fd5e9790aa7e473517d923f0/proof.ipynb\" style=\"text-decoration: none\">&nbsp;&#x22A2;&nbsp;&nbsp;</a><a class=\"ProveItLink\" href=\"../../theorems/fe4de3ff0419f38c3d25379035ba812df4fead870/expr.ipynb\"><img src=\"../../theorems/fe4de3ff0419f38c3d25379035ba812df4fead870/expr.png\" style=\"display:inline;vertical-align:middle;\" /></a></span></td></tr>\n",
       "<tr><td><a name=\"proveit.numbers.absolute_value.demonstrations.81eb8782589afad79317109e72469b7ac0c146af0_step4\">4</a></td><td>assumption</td><td></td><td><span style=\"font-size:20px;\"><a class=\"ProveItLink\" href=\"../../theorems/c60120fc39d338b5df5ab620a1e969583dd2bfc10/expr.ipynb\"><img src=\"../../theorems/c60120fc39d338b5df5ab620a1e969583dd2bfc10/expr.png\" style=\"display:inline;vertical-align:middle;\" /></a> <a class=\"ProveItLink\" href=\"../8d81de1e892c311050627560bda03feb50ec776e0/proof.ipynb\" style=\"text-decoration: none\">&nbsp;&#x22A2;&nbsp;&nbsp;</a><a class=\"ProveItLink\" href=\"../../theorems/c60120fc39d338b5df5ab620a1e969583dd2bfc10/expr.ipynb\"><img src=\"../../theorems/c60120fc39d338b5df5ab620a1e969583dd2bfc10/expr.png\" style=\"display:inline;vertical-align:middle;\" /></a></span></td></tr>\n",
       "</table>"
      ],
      "text/plain": [
       "<proveit._core_.proof._ShowProof at 0x7f7e569005c0>"
      ]
     },
     "execution_count": 1,
     "metadata": {},
     "output_type": "execute_result"
    }
   ],
   "source": [
    "import proveit\n",
    "# Automation is not needed when only showing a stored proof:\n",
    "proveit.defaults.automation = False # This will speed things up.\n",
    "proveit.defaults.inline_pngs = False # Makes files smaller.\n",
    "%show_proof"
   ]
  },
  {
   "cell_type": "code",
   "execution_count": null,
   "metadata": {},
   "outputs": [],
   "source": []
  }
 ],
 "metadata": {
  "kernelspec": {
   "display_name": "Python 3",
   "language": "python",
   "name": "python3"
  },
  "language_info": {
   "codemirror_mode": {
    "name": "ipython",
    "version": 3
   },
   "file_extension": ".py",
   "mimetype": "text/x-python",
   "name": "python",
   "nbconvert_exporter": "python",
   "pygments_lexer": "ipython3",
   "version": "3.7.3"
  }
 },
 "nbformat": 4,
 "nbformat_minor": 1
}