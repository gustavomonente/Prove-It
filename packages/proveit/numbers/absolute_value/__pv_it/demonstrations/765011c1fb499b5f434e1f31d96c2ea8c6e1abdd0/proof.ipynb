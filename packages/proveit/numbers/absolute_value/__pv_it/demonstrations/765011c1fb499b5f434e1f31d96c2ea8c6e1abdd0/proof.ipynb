{
 "cells": [
  {
   "cell_type": "markdown",
   "metadata": {},
   "source": [
    "Show the Proof\n",
    "========"
   ]
  },
  {
   "cell_type": "code",
   "execution_count": 1,
   "metadata": {},
   "outputs": [
    {
     "data": {
      "text/html": [
       "<table><tr><th>&nbsp;</th><th>step type</th><th>requirements</th><th>statement</th></tr>\n",
       "<tr><td><a name=\"proveit.numbers.absolute_value.demonstrations.765011c1fb499b5f434e1f31d96c2ea8c6e1abdd0_step0\">0</a></td><td>instantiation</td><td><a href=\"#proveit.numbers.absolute_value.demonstrations.765011c1fb499b5f434e1f31d96c2ea8c6e1abdd0_step1\">1</a>, <a href=\"#proveit.numbers.absolute_value.demonstrations.765011c1fb499b5f434e1f31d96c2ea8c6e1abdd0_step2\">2</a>, <a href=\"#proveit.numbers.absolute_value.demonstrations.765011c1fb499b5f434e1f31d96c2ea8c6e1abdd0_step3\">3</a></td><td><span style=\"font-size:20px;\"><a class=\"ProveItLink\" href=\"../../../../addition/__pv_it/theorems/ac218862468437a6f6e9fb539471b032913f45d10/expr.ipynb\"><img src=\"../../../../addition/__pv_it/theorems/ac218862468437a6f6e9fb539471b032913f45d10/expr.png\" style=\"display:inline;vertical-align:middle;\" /></a>, <a class=\"ProveItLink\" href=\"../36b5e627522a68bfd7a675fad2c651ef81fbdb660/expr.ipynb\"><img src=\"../36b5e627522a68bfd7a675fad2c651ef81fbdb660/expr.png\" style=\"display:inline;vertical-align:middle;\" /></a> <a class=\"ProveItLink\" href=\"proof.ipynb\" style=\"text-decoration: none\">&nbsp;&#x22A2;&nbsp;&nbsp;</a><a class=\"ProveItLink\" href=\"../../../../addition/__pv_it/theorems/1f861f4276c2dd5e45af434d6fbd2b64d3a9045b0/expr.ipynb\"><img src=\"../../../../addition/__pv_it/theorems/1f861f4276c2dd5e45af434d6fbd2b64d3a9045b0/expr.png\" style=\"display:inline;vertical-align:middle;\" /></a></span></td></tr>\n",
       "<tr><td>&nbsp;</td><td colspan=4 style=\"text-align:left\"><span style=\"font-size:20px;\"><a class=\"ProveItLink\" href=\"../../../../../__pv_it/common/c06c606ec12678c58933ac85412ecadc2ae28be60/expr.ipynb\"><img src=\"../../../../../__pv_it/common/c06c606ec12678c58933ac85412ecadc2ae28be60/expr.png\" style=\"display:inline;vertical-align:middle;\" /></a> : <a class=\"ProveItLink\" href=\"../31db57b390e7fb44a97fc02d8ab242f679e7ecd00/expr.ipynb\"><img src=\"../31db57b390e7fb44a97fc02d8ab242f679e7ecd00/expr.png\" style=\"display:inline;vertical-align:middle;\" /></a></span></td></tr><tr><td><a name=\"proveit.numbers.absolute_value.demonstrations.765011c1fb499b5f434e1f31d96c2ea8c6e1abdd0_step1\">1</a></td><td>theorem</td><td></td><td><span style=\"font-size:20px;\"> <a class=\"ProveItLink\" href=\"../../../../number_sets/real_numbers/_theory_nbs_/proofs/in_real_non_neg_if_greater_eq_zero/thm_proof.ipynb\" style=\"text-decoration: none\">&nbsp;&#x22A2;&nbsp;&nbsp;</a><a class=\"ProveItLink\" href=\"../../../../number_sets/real_numbers/__pv_it/theorems/72dc8379fd6fb029cc662b0da332d678fcdfb8cc0/expr.ipynb\"><img src=\"../../../../number_sets/real_numbers/__pv_it/theorems/72dc8379fd6fb029cc662b0da332d678fcdfb8cc0/expr.png\" style=\"display:inline;vertical-align:middle;\" /></a></span></td></tr>\n",
       "<tr><td>&nbsp;</td><td colspan=4 style-\"text-align:left\"><a class=\"ProveItLink\" href=\"../../../../number_sets/real_numbers/_theory_nbs_/proofs/in_real_non_neg_if_greater_eq_zero/thm_proof.ipynb\">proveit.numbers.number_sets.real_numbers.in_real_non_neg_if_greater_eq_zero</a></td></tr><tr><td><a name=\"proveit.numbers.absolute_value.demonstrations.765011c1fb499b5f434e1f31d96c2ea8c6e1abdd0_step2\">2</a></td><td>assumption</td><td></td><td><span style=\"font-size:20px;\"><a class=\"ProveItLink\" href=\"../../../../addition/__pv_it/theorems/ac218862468437a6f6e9fb539471b032913f45d10/expr.ipynb\"><img src=\"../../../../addition/__pv_it/theorems/ac218862468437a6f6e9fb539471b032913f45d10/expr.png\" style=\"display:inline;vertical-align:middle;\" /></a> <a class=\"ProveItLink\" href=\"../344ff412bd52620a62e2e8e3c6be057c40a4f4b80/proof.ipynb\" style=\"text-decoration: none\">&nbsp;&#x22A2;&nbsp;&nbsp;</a><a class=\"ProveItLink\" href=\"../../../../addition/__pv_it/theorems/ac218862468437a6f6e9fb539471b032913f45d10/expr.ipynb\"><img src=\"../../../../addition/__pv_it/theorems/ac218862468437a6f6e9fb539471b032913f45d10/expr.png\" style=\"display:inline;vertical-align:middle;\" /></a></span></td></tr>\n",
       "<tr><td><a name=\"proveit.numbers.absolute_value.demonstrations.765011c1fb499b5f434e1f31d96c2ea8c6e1abdd0_step3\">3</a></td><td>instantiation</td><td><a href=\"#proveit.numbers.absolute_value.demonstrations.765011c1fb499b5f434e1f31d96c2ea8c6e1abdd0_step4\">4</a>, <a href=\"#proveit.numbers.absolute_value.demonstrations.765011c1fb499b5f434e1f31d96c2ea8c6e1abdd0_step5\">5</a></td><td><span style=\"font-size:20px;\"><a class=\"ProveItLink\" href=\"../36b5e627522a68bfd7a675fad2c651ef81fbdb660/expr.ipynb\"><img src=\"../36b5e627522a68bfd7a675fad2c651ef81fbdb660/expr.png\" style=\"display:inline;vertical-align:middle;\" /></a> <a class=\"ProveItLink\" href=\"../8b163085a935b2a37a0f656eef777f7226c129100/proof.ipynb\" style=\"text-decoration: none\">&nbsp;&#x22A2;&nbsp;&nbsp;</a><a class=\"ProveItLink\" href=\"../a24d7a907984771d7526cf695ea4d95cb48f26f50/expr.ipynb\"><img src=\"../a24d7a907984771d7526cf695ea4d95cb48f26f50/expr.png\" style=\"display:inline;vertical-align:middle;\" /></a></span></td></tr>\n",
       "<tr><td>&nbsp;</td><td colspan=4 style=\"text-align:left\"><span style=\"font-size:20px;\"><a class=\"ProveItLink\" href=\"../../../../../__pv_it/common/a0d9d672aa5e272d907247690c152cc2c6daafb70/expr.ipynb\"><img src=\"../../../../../__pv_it/common/a0d9d672aa5e272d907247690c152cc2c6daafb70/expr.png\" style=\"display:inline;vertical-align:middle;\" /></a> : <a class=\"ProveItLink\" href=\"../31db57b390e7fb44a97fc02d8ab242f679e7ecd00/expr.ipynb\"><img src=\"../31db57b390e7fb44a97fc02d8ab242f679e7ecd00/expr.png\" style=\"display:inline;vertical-align:middle;\" /></a>, <a class=\"ProveItLink\" href=\"../../../../../__pv_it/common/ff7dba4ef0bbe791ab573bf2d9c220a304399ac80/expr.ipynb\"><img src=\"../../../../../__pv_it/common/ff7dba4ef0bbe791ab573bf2d9c220a304399ac80/expr.png\" style=\"display:inline;vertical-align:middle;\" /></a> : <a class=\"ProveItLink\" href=\"../../../../numerals/__pv_it/common/7d0a36793ffe8d307a5c120ee5598162e8cd2db10/expr.ipynb\"><img src=\"../../../../numerals/__pv_it/common/7d0a36793ffe8d307a5c120ee5598162e8cd2db10/expr.png\" style=\"display:inline;vertical-align:middle;\" /></a></span></td></tr><tr><td><a name=\"proveit.numbers.absolute_value.demonstrations.765011c1fb499b5f434e1f31d96c2ea8c6e1abdd0_step4\">4</a></td><td>theorem</td><td></td><td><span style=\"font-size:20px;\"> <a class=\"ProveItLink\" href=\"../../../../ordering/_theory_nbs_/proofs/relax_greater/thm_proof.ipynb\" style=\"text-decoration: none\">&nbsp;&#x22A2;&nbsp;&nbsp;</a><a class=\"ProveItLink\" href=\"../../../../ordering/__pv_it/theorems/6ac39e68155a7238388fb4558abcba052b3a39ff0/expr.ipynb\"><img src=\"../../../../ordering/__pv_it/theorems/6ac39e68155a7238388fb4558abcba052b3a39ff0/expr.png\" style=\"display:inline;vertical-align:middle;\" /></a></span></td></tr>\n",
       "<tr><td>&nbsp;</td><td colspan=4 style-\"text-align:left\"><a class=\"ProveItLink\" href=\"../../../../ordering/_theory_nbs_/proofs/relax_greater/thm_proof.ipynb\">proveit.numbers.ordering.relax_greater</a></td></tr><tr><td><a name=\"proveit.numbers.absolute_value.demonstrations.765011c1fb499b5f434e1f31d96c2ea8c6e1abdd0_step5\">5</a></td><td>assumption</td><td></td><td><span style=\"font-size:20px;\"><a class=\"ProveItLink\" href=\"../36b5e627522a68bfd7a675fad2c651ef81fbdb660/expr.ipynb\"><img src=\"../36b5e627522a68bfd7a675fad2c651ef81fbdb660/expr.png\" style=\"display:inline;vertical-align:middle;\" /></a> <a class=\"ProveItLink\" href=\"../f018a8b085e29b7c681d4bb6b21ae6cb751846d70/proof.ipynb\" style=\"text-decoration: none\">&nbsp;&#x22A2;&nbsp;&nbsp;</a><a class=\"ProveItLink\" href=\"../36b5e627522a68bfd7a675fad2c651ef81fbdb660/expr.ipynb\"><img src=\"../36b5e627522a68bfd7a675fad2c651ef81fbdb660/expr.png\" style=\"display:inline;vertical-align:middle;\" /></a></span></td></tr>\n",
       "</table>"
      ],
      "text/plain": [
       "<proveit._core_.proof._ShowProof at 0x7fc7ef6bf128>"
      ]
     },
     "execution_count": 1,
     "metadata": {},
     "output_type": "execute_result"
    }
   ],
   "source": [
    "import proveit\n",
    "# Automation is not needed when only showing a stored proof:\n",
    "proveit.defaults.automation = False # This will speed things up.\n",
    "proveit.defaults.inline_pngs = False # Makes files smaller.\n",
    "%show_proof"
   ]
  },
  {
   "cell_type": "code",
   "execution_count": null,
   "metadata": {},
   "outputs": [],
   "source": []
  }
 ],
 "metadata": {
  "kernelspec": {
   "display_name": "Python 3",
   "language": "python",
   "name": "python3"
  }
 },
 "nbformat": 4,
 "nbformat_minor": 0
}