{
 "cells": [
  {
   "cell_type": "markdown",
   "metadata": {},
   "source": [
    "Theorems (or conjectures) for the theory of <a class=\"ProveItLink\" href=\"theory.ipynb\">proveit.numbers.absolute_value</a>\n",
    "========"
   ]
  },
  {
   "cell_type": "code",
   "execution_count": 1,
   "metadata": {},
   "outputs": [],
   "source": [
    "import proveit\n",
    "# Prepare this notebook for defining the theorems of a theory:\n",
    "%theorems_notebook # Keep this at the top following 'import proveit'.\n",
    "from proveit import IndexedVar, ExprRange\n",
    "from proveit import a, b, i, n, x, y\n",
    "from proveit.logic import And, Equals, Forall, Iff, InSet, NotEquals\n",
    "from proveit.numbers import Abs, Add, frac, GreaterEq, LessEq, Mult, Neg\n",
    "from proveit.numbers import (zero, one, Complex, NaturalPos, \n",
    "                             Rational, RationalNonZero, RationalNonNeg, RationalPos,\n",
    "                             Real, RealNeg, RealNonNeg, RealPos)\n",
    "from proveit.core_expr_types import x_1_to_n\n"
   ]
  },
  {
   "cell_type": "code",
   "execution_count": 2,
   "metadata": {},
   "outputs": [
    {
     "name": "stdout",
     "output_type": "stream",
     "text": [
      "Defining theorems for theory 'proveit.numbers.absolute_value'\n",
      "Subsequent end-of-cell assignments will define theorems\n",
      "'%end theorems' will finalize the definitions\n"
     ]
    }
   ],
   "source": [
    "%begin theorems"
   ]
  },
  {
   "cell_type": "markdown",
   "metadata": {},
   "source": [
    "<p style=\"font-size:12pt;font-weight:bold\">Basic closure theorems</p>"
   ]
  },
  {
   "cell_type": "code",
   "execution_count": 3,
   "metadata": {},
   "outputs": [
    {
     "data": {
      "text/html": [
       "<strong id=\"abs_rational_closure\"><a class=\"ProveItLink\" href=\"proofs/abs_rational_closure/thm_proof.ipynb\">abs_rational_closure</a> (conjecture without proof):<br></strong> <a class=\"ProveItLink\" href=\"../__pv_it/theorems/d6ff2b08dcd98761f30650ab80fa99eeef00299a0/theorem_expr.ipynb\"><img src=\"data:image/png;base64,iVBORw0KGgoAAAANSUhEUgAAAJ0AAAAcBAMAAACJ5KCYAAAAMFBMVEX///8QEBCIiIhmZma6urrM\n",
       "zMxUVFQiIiJERETc3Nzu7u6qqqp2dnaYmJgyMjIAAAAcRTyBAAAAAXRSTlMAQObYZgAAAu9JREFU\n",
       "SMetlU1oE0EUx//ZZLPJZJP24ElRVrSl+Fki1h4qxI+TIEaLCh60FEULIj34cbBIkIppBA0Uai/F\n",
       "QMVDKSZYFIJfRXto/YD1JrVCsOihB+1F0B7ENzuzW7bJJi30we7OvHnzmzfz3psFVkeUN+OrAwp0\n",
       "WZ8ZPFuOtZqoadJ/jr8voy6n1OadWMaa/bcA9hu+QqCjpu0ccMp2NedlNNoL9S80Ex9r4fwGMCHb\n",
       "uvfWR+fUBWgGNFqyxBVfPQwf5Krw2tN3z4rWDpP88xlQmoH3clsV5S28eY/OZ9mPDDVYU4GfX10C\n",
       "4XlgkDThlAdvXRVe725ins6BTSZkfIHrQIw+eqEyLrxQzovevnbDSmCTTir0sIO1WvpNVv610vi7\n",
       "kZH7Hu5F68t46k0Z5liYDktJZNSkqI8P1MVGev6k0z1e4S0JXrgtvlbyHttZM6CaVBzmhGvCERql\n",
       "9O7z4IVSgrcvG5uXvC57bH+EDkk1XromnCFnD4CVXMl0sSUrm7EOi8fWw5+SPCdyxwTveSRNkrHz\n",
       "i2w0OlrZZS92meFG6F9kX2u2eH4rWS2euuEnCR8LWvstTLn8y5ONbmp293NxBMoQ2FbpYEzwfCnk\n",
       "k4K3mFkhEQ93yXL/wiVe9MON3xHg048XAUM6HBL7zY/jtR3feueeMlM8X0z3+XFH+qhq2BWqwBhX\n",
       "TZOFYYjhoIhHvoBLkazgxZ25Ezyf21EWX4x1U2Y0q90Y5qotnCfvWkXkX8iIXtWlf5qT+tE9WTbr\n",
       "dg+f+KuOvPEVlA6cpEgZT4uLvICoD9bZMLBZ8tiFQw7w36+lddVq6cnJfDY0nQtaZU7x2G7brSmv\n",
       "t8CkqDc+Ell6gX6zG77smcPQeekoLdCbbHUbqt1/+tSruOsvxBacaHU+2Qvc4c2dPfecZY9W5aE/\n",
       "PetSRpf4q9D5AZmDjiJYWNb9bIuWrKQdHCraBccrscFeLFmTN1NRy7bFnV/P2Ep+xZ7X8qJEEivg\n",
       "+XNYdfkPNDbFdH4wiy8AAAAASUVORK5CYII=\n",
       "\" style=\"display:inline;vertical-align:middle;\" /></a><br>"
      ],
      "text/plain": [
       "abs_rational_closure: forall_{a in Rational} (|a| in RationalNonNeg)"
      ]
     },
     "execution_count": 3,
     "metadata": {},
     "output_type": "execute_result"
    }
   ],
   "source": [
    "abs_rational_closure = Forall(\n",
    "    a,\n",
    "    InSet(Abs(a), RationalNonNeg),\n",
    "    domain=Rational)"
   ]
  },
  {
   "cell_type": "code",
   "execution_count": 4,
   "metadata": {},
   "outputs": [
    {
     "data": {
      "text/html": [
       "<strong id=\"abs_rational_non_zero_closure\"><a class=\"ProveItLink\" href=\"proofs/abs_rational_non_zero_closure/thm_proof.ipynb\">abs_rational_non_zero_closure</a> (conjecture without proof):<br></strong> <a class=\"ProveItLink\" href=\"../__pv_it/theorems/17bcb5091f3e4226bd1e002c1579d15511b98d4b0/theorem_expr.ipynb\"><img src=\"data:image/png;base64,iVBORw0KGgoAAAANSUhEUgAAAKcAAAAbCAMAAAAuwG/QAAAANlBMVEX///9RUVE2NjYQEBCIiIhm\n",
       "Zma6urrMzMxUVFQiIiJERETc3Nzu7u6qqqp2dnaYmJgyMjIAAACxcnZJAAAAAXRSTlMAQObYZgAA\n",
       "As1JREFUWMPll9uSnCAQhknshqY5v//LBlAR0dk16l6kQtXMaA3CR/99Uoj/dCj5zjq0XsDPYNJL\n",
       "C/F6IeknOKMtsHakt/c5hQ/vY2JVyY/ae/mAU+hyythuw3Nuk+w9ToXMHEmecgKWJdxOsmfDo7jD\n",
       "aYm0yT+RuDBQzGMqX2E5fflawQ0/l31ytzhZopp5VTNWT6NdZ8bNsE9l/5YzsM6jeRyE1fvYtuju\n",
       "ObHcBG/LMPq5OcMkLnAqhr2HRWFwIZaC7ZET6rqJy9D+hWiPOyyDHmGyA6cd48CQUEsIy9Cm9pyy\n",
       "6kTVN9hcl7fs5rMOBz/jnlNOeWJMoz1p3EiCcIvPqXwZjpwqFUSJ9ZTXSw5UTxL2EHiROk47hdW1\n",
       "dpx8sl7P6TZjbH5fn9ezL3/MGp48dlaoMNPy2Q2NHSdWsfSY+FVNOHVsCzbdnfAnutqZsxSmYxRZ\n",
       "5xHzPwaoznElPebx+xc6YQqjVqM9e86J6w5q4DxJf9zHEZ3mkfq8iSftQ2BnbLEImHJYC24+qKnx\n",
       "ds7Jne42lYkuHeL9oEKJHm556UxXlea92awVyyJQbE5b56gZEETo+62y/zQGEnHP6WppEeXxnhOP\n",
       "jZrf8jyeeZ5c8rLDRXabTaTSruwHG5Y2EIruWXXMup/HEfT5kzNP0CT8mD/1saAEnOsmhi/zskjL\n",
       "GTEfR+lq17Z34/RN9U95Sfb1yBKAMgRy5LTE8vBoSDGmTxURuRltq881bJSuyT/bxDXdfd9lf6jv\n",
       "8lLdlJ77urlOcZ9WjzDGf0biUMKHttMvcVQCPnzTn6G/1YfMc7xxEcGfpaXR/LmCqFRDzqut+6t5\n",
       "CWqa+a4ETPc5c3LKLSiezAwHO0sCB7Mzc3MWSNpzuvaWQu6tfr4PPPXVvzD755LWLm40l18YFwb1\n",
       "pAu73CEZNsGZS42Kw7dfuf6mf7eQO7RrryVOvsyJVvxD4w8q3xxhzDvi9gAAAABJRU5ErkJggg==\n",
       "\" style=\"display:inline;vertical-align:middle;\" /></a><br>"
      ],
      "text/plain": [
       "abs_rational_non_zero_closure: forall_{a in RationalNonZero} (|a| in RationalPos)"
      ]
     },
     "execution_count": 4,
     "metadata": {},
     "output_type": "execute_result"
    }
   ],
   "source": [
    "abs_rational_non_zero_closure = Forall(\n",
    "    a,\n",
    "    InSet(Abs(a), RationalPos),\n",
    "    domain=RationalNonZero)"
   ]
  },
  {
   "cell_type": "code",
   "execution_count": 5,
   "metadata": {},
   "outputs": [
    {
     "data": {
      "text/html": [
       "<strong id=\"abs_complex_closure\"><a class=\"ProveItLink\" href=\"proofs/abs_complex_closure/thm_proof.ipynb\">abs_complex_closure</a> (conjecture without proof):<br></strong> <a class=\"ProveItLink\" href=\"../__pv_it/theorems/f83242c394b949c6988eada98160548be4df58bc0/theorem_expr.ipynb\"><img src=\"data:image/png;base64,iVBORw0KGgoAAAANSUhEUgAAAIMAAAAVBAMAAACXjEALAAAAMFBMVEX///8QEBCIiIhmZma6urrM\n",
       "zMxUVFQiIiJERETc3Nzu7u6qqqp2dnaYmJgyMjIAAAAcRTyBAAAAAXRSTlMAQObYZgAAAiZJREFU\n",
       "OMudlE9o1EAUxr/dJLtJNokePBRBWdB6LvVaRSlFEIRcrMWLZVHUi/SiPSgleNCsf3C8qOAeogWV\n",
       "RdygiKwULOpB9BK8WAvCXnpQZO1RevLNZsZkdYcVH4S8vBl+vO+bNwGGxFHxNiL8V1gJ3orU2Tdw\n",
       "R5ueDk++KBCPoEJ8GrnRHUmAEgM+8MI3BeKrEoHOA8ysRLCphTu832AwwR1TI4IGTGsWeA14ZJMT\n",
       "D0aU2V8I9/L8gkRojFq4R7X3zeZthQ5e70cYF6OsC41R9x7Vf4bhBQViR4qwJsa3CsSTKCekpJMQ\n",
       "h8SeAOoKxPUUsZ956wJxOu/Fi70EdEnMZM/VLCrXTtZEer6HsLdBCwQi8z24Ob/ALazMkWcoJqJs\n",
       "L+1O7JnI+C6+t/QQ2gbK1RRhbO9SiC4mTa7KWCcxSVmSV9pNuA1gqQ9RCNDyU0Tu9IOGNhUIhNWZ\n",
       "pmxx1xp0cgZTz6nUJ6S1jFfyRDbnvbjykd46CUH9OEk4a2zA40urn/+0sxXjTIWliPE8YlrzUzvx\n",
       "jDjamDGHRb70sp0h3vQQZtU954guynFuwJ2YTlNbpo9NVaAQF2dxJAzD6t3DGeJAeiK10Vs7BcI+\n",
       "dfD3NVtD+COG5/OZJWNbzFyNSnxNu08b1QOuvxMDLuOhTArs2CE4HGhN+PzqDL1mMuRe6LWne4Cr\n",
       "PH3cveTLcn0oon8sgSJ58Y+/HBkmG/7jG5V4f+AOGoFf5DienGjorQIAAAAASUVORK5CYII=\n",
       "\" style=\"display:inline;vertical-align:middle;\" /></a><br>"
      ],
      "text/plain": [
       "abs_complex_closure: forall_{a in Complex} (|a| in Real)"
      ]
     },
     "execution_count": 5,
     "metadata": {},
     "output_type": "execute_result"
    }
   ],
   "source": [
    "abs_complex_closure = Forall(\n",
    "    a,\n",
    "    InSet(Abs(a), Real),\n",
    "    domain=Complex)"
   ]
  },
  {
   "cell_type": "code",
   "execution_count": 6,
   "metadata": {},
   "outputs": [
    {
     "data": {
      "text/html": [
       "<strong id=\"abs_complex_closure_non_neg_real\"><a class=\"ProveItLink\" href=\"proofs/abs_complex_closure_non_neg_real/thm_proof.ipynb\">abs_complex_closure_non_neg_real</a> (conjecture without proof):<br></strong> <a class=\"ProveItLink\" href=\"../__pv_it/theorems/a841e687076648f09d4f28352148c88e6327ffde0/theorem_expr.ipynb\"><img src=\"data:image/png;base64,iVBORw0KGgoAAAANSUhEUgAAAJsAAAAcBAMAAACE+tDfAAAAMFBMVEX///8QEBCIiIhmZma6urrM\n",
       "zMxUVFQiIiJERETc3Nzu7u6qqqp2dnaYmJgyMjIAAAAcRTyBAAAAAXRSTlMAQObYZgAAArZJREFU\n",
       "SMetlUtoE1EUhv88Jo/Jy526SxRFXEjwASn4CIiuFCP4iG4agqLiploli7ooUmsarQQCWlBwtNBF\n",
       "qDb4gkgXoXYhViGubEuFUdFFlNqNoKmI587cSSePYRrohST3nvvz3XPOPecGWJFhnSitCMd+TvmZ\n",
       "w4vlqI+YKnKn2fclBCSrqVZImJ+YuwaIv2Ap2E3FfgmCxOcnjUSjfRD+wFnGOzPcVsAb5fNJQ9Vo\n",
       "RajCGYSTTpaZ4WNrnbtqiPNdSP/7NKjOt5TJO0sQ1jAwxQyV1jhv2Ng7v5gQBjM0ETcVWO4CUbgX\n",
       "gCHmRW9rnKVgjHO5S+i9TbTXUX6zQI+SbXgLrXH3pWbcdCola7gOP8SIsr9eqbsIJeFNPn/HIMfv\n",
       "0YSLb9Z51+GCEFO74i3lBSH6/E6nrxjgdnNc7lVIUnFiRR9sYn+9/hBFQ1U9YIBLqzj7Wvzk3jmy\n",
       "Opynu+EKO8nVvRBlvc1z80yST7+puAdllhUF59JdxerUd1KnaWS0XFMkTljLfCmObyuLcUn4wdfd\n",
       "Km6PhIscd3ieBr+KyXCmIZoxwnnLTm05XczDdw8Y5+svKm4NqysVN6QvlO3xxkognFs+RrPhjV9h\n",
       "Z7ez7zmZ+Ha/ghP/wrPAcRY9zvUo2JA7ltmBUxTmZWo7PzPNzixtn1Vxi3DIRRVnC+pwQmJH883i\n",
       "aRfJwkIXhpnpZXFpO6QGexUfEiVedz26JsOUI9ZUpwgEWTtZEzhOlxS8e7T+NMKNrDuRjHLcSJ9U\n",
       "ewJirluLdbiIskOCsaxrVnIo4Tyk0LWejTY32YHrKdnopfpca/Zs50F4mevunTFMcKuttKz3Thti\n",
       "tfYPknyyC7ihPIbz/VpGhFVt4XwNr7uVcldnON8WzhkzETymIzTNBlPcnJnAE27jL9foEdaNZ23g\n",
       "bBJWevwHcEe6tuaeXf8AAAAASUVORK5CYII=\n",
       "\" style=\"display:inline;vertical-align:middle;\" /></a><br>"
      ],
      "text/plain": [
       "abs_complex_closure_non_neg_real: forall_{a in Complex} (|a| in RealNonNeg)"
      ]
     },
     "execution_count": 6,
     "metadata": {},
     "output_type": "execute_result"
    }
   ],
   "source": [
    "abs_complex_closure_non_neg_real = Forall(\n",
    "    a,\n",
    "    InSet(Abs(a), RealNonNeg),\n",
    "    domain=Complex)"
   ]
  },
  {
   "cell_type": "code",
   "execution_count": 7,
   "metadata": {},
   "outputs": [
    {
     "data": {
      "text/html": [
       "<strong id=\"abs_nonzero_closure\"><a class=\"ProveItLink\" href=\"proofs/abs_nonzero_closure/thm_proof.ipynb\">abs_nonzero_closure</a> (conjecture without proof):<br></strong> <a class=\"ProveItLink\" href=\"../__pv_it/theorems/efa22491bf78a55c25e3a18744ac355dccabf3a10/theorem_expr.ipynb\"><img src=\"data:image/png;base64,iVBORw0KGgoAAAANSUhEUgAAAMMAAAAbCAMAAAD2zMvaAAAAOVBMVEX///8oKCgUFBQNDQ0QEBCI\n",
       "iIhmZma6urrMzMxUVFQiIiJERETc3Nzu7u6qqqp2dnaYmJgyMjIAAAArQGDrAAAAAXRSTlMAQObY\n",
       "ZgAAAu5JREFUWMPtl+uWmyAQgGnLDJfh6vs/bBk0iohJ1o3bP+WczRrDAN/cEeL/+NrQ6iPLmMcD\n",
       "/AME85l16PGgzI8zZF9JfEfmLzOImH4YAWfTx86horrOICwrIK9f081MbvJfZ0hWEk05S0pDBkBe\n",
       "Iewtfd+IKK7YIQtfvF5TIj6fyWVI/kiLYvjjAeXoZleS4RIDCRfnf2ZgB2FDo/7NIPe60iuGRLaM\n",
       "3DOg29y+ZUD+kqLn4ezNZkhSvMGgCfzQDoWBRgxQl52Ih413Z6W8O7PDiCB9x+CPQbkwmKYYtAyq\n",
       "mtfo+t69fZqn/lvPABEOKiFqGZQs++Wpt4NxJ/EQLG54LYOe+PgKqwLOjxUoGmtglNqO2tbVPYtQ\n",
       "X0KzaRi8TA9f3jHQMKYlB0gTrm4XZlWcIwEOxcGHiFjees1JTef4DsOcOywvO3VeYbFhwPqrhY5B\n",
       "16xZx84ORc10kvn9zMAF+xDRiYLzLJeqO4rwFkPdyVfzyi7P5ZZB0jqvZXB0kltRaTpLd3N45bUb\n",
       "8wgmrw5WnV8H3RmwXW0VmCfH2UV5ru0sS40v+YknhumQl+RZfSCfxk3qvBnHs5nX8VaXl7sWJPnk\n",
       "ztuVVcDU5Pan/KVlBdvtaahlCLXmiuD2DAgnDEXJqIcJZvHZgIsrYdG+tlW9a0D78IRhFZhzdWhU\n",
       "I7vjQFsfCLgVMiL29cGGca/BJdjoZ2Vngq0dAJbQtuq1bOWC1ucMq0A1Cj3CjCUmNVbYnJcMgHYG\n",
       "VM/gDSl/7Pk05+Y8DVoJpNVhls2LAilxKG+ZET1sib9j2AS4F/v9a+nFhnlJSPVWr6Ei7XqNV3eS\n",
       "3vtK4dGT4mCMq/JLQeXnOKwPm4BoejJuiA/1QWC81PM9H/6gKmUgANYj0Wo3H3Om1hdpKNBmcIgR\n",
       "jxlE3sCQnt5GYY6H59eotpq/bLhM+DyD1d+8knf546Xd5ynQbQv6G2a42qkOGdIb14+An76TXL63\n",
       "XT9JUJ9lwJuvzz83/gKr7iGTgLb0jQAAAABJRU5ErkJggg==\n",
       "\" style=\"display:inline;vertical-align:middle;\" /></a><br>"
      ],
      "text/plain": [
       "abs_nonzero_closure: forall_{a in Complex | a != 0} (|a| in RealPos)"
      ]
     },
     "execution_count": 7,
     "metadata": {},
     "output_type": "execute_result"
    }
   ],
   "source": [
    "abs_nonzero_closure = Forall(\n",
    "    a,\n",
    "    InSet(Abs(a), RealPos),\n",
    "    domain=Complex,\n",
    "    conditions=[NotEquals(a, zero)])"
   ]
  },
  {
   "cell_type": "markdown",
   "metadata": {},
   "source": [
    "<p style=\"font-size:12pt;font-weight:bold\">Non-Negativity, Non-Zero, & Positive Definiteness Theorems</p>"
   ]
  },
  {
   "cell_type": "code",
   "execution_count": 8,
   "metadata": {},
   "outputs": [
    {
     "data": {
      "text/html": [
       "<strong id=\"abs_is_non_neg\"><a class=\"ProveItLink\" href=\"proofs/abs_is_non_neg/thm_proof.ipynb\">abs_is_non_neg</a> (conjecture without proof):<br></strong> <a class=\"ProveItLink\" href=\"../__pv_it/theorems/7c765064e914d873216a6e1ccf8f39641aeca48a0/theorem_expr.ipynb\"><img src=\"data:image/png;base64,iVBORw0KGgoAAAANSUhEUgAAAH8AAAAVBAMAAACd/CwcAAAAMFBMVEX///8QEBCIiIhmZma6urrM\n",
       "zMxUVFQiIiJERETc3Nzu7u6qqqp2dnaYmJgyMjIAAAAcRTyBAAAAAXRSTlMAQObYZgAAAiVJREFU\n",
       "OMudlE9IFFEcx7+OM7vO25ntFNRtC/IseLBD4UJ4jObS38vKUngLUUQEAwmRETsMCBlU8EwoWIKG\n",
       "osOG4GKdCmSiQyWFe1FBpYQowjz0e/Nv15mnhQ8Gfr/5vfd5v9/3/d4DDh4aD41rOMx4CKMYmm9k\n",
       "8Sp9dWF8la9nYwcAFr9YyDjAO+FsyAF5JwFggzyOuWwEjLa/R44+Jgd8QDKD3JoT+u+BJUqDSMQ0\n",
       "XDlgJAWAumYFxgSwwDELmG8rlRn5er0/DYBmB39+ARdc5Mn5bdujcoDSEQCmX5/gDRH1myJf9oMA\n",
       "BRg05QYwKQe0eT5APY7vzaegd5EO+i5QKsAkFc/5WjZG7k5fObCyrg+Y9XC6GWAOCgplUKohR1Vm\n",
       "oXjRuc93euwK17YCt6XoA7o5BpoAyihvlKBt0xQvG8U+VSswHwDzewDHwH42AE8HEIm44PoAvX6J\n",
       "/Ln2VaikCHpe0q/mEtguctsxYPpWCLKBFQ6VSsDkdcpoSNtBXgSWPydEZH+QqVdDwN1N7GkkISJe\n",
       "EKW1Q+vHnAi8qsYAIzjG2/jYWwtbeTwOZl12lNbVyDxSoHJdpReXbdsu3L8Yz1GDRnp88mq5mLpM\n",
       "bLGdejIv+tIkVZ85bcs8IwKtjyi4fysnxpPIaHFK52EInH7GEldkn8uUutNxtuXnZ4Ep/5y+TViR\n",
       "iqnrvD4shhXXUU80P2nw3w9KuMO/njQl2u2ULE5H/he3a5q7nbfEUQAAAABJRU5ErkJggg==\n",
       "\" style=\"display:inline;vertical-align:middle;\" /></a><br>"
      ],
      "text/plain": [
       "abs_is_non_neg: forall_{a in Complex} (|a| >= 0)"
      ]
     },
     "execution_count": 8,
     "metadata": {},
     "output_type": "execute_result"
    }
   ],
   "source": [
    "abs_is_non_neg = Forall(\n",
    "    a,\n",
    "    GreaterEq(Abs(a), zero),\n",
    "    domain=Complex)"
   ]
  },
  {
   "cell_type": "code",
   "execution_count": 9,
   "metadata": {},
   "outputs": [
    {
     "data": {
      "text/html": [
       "<strong id=\"abs_not_eq_zero\"><a class=\"ProveItLink\" href=\"proofs/abs_not_eq_zero/thm_proof.ipynb\">abs_not_eq_zero</a> (conjecture without proof):<br></strong> <a class=\"ProveItLink\" href=\"../__pv_it/theorems/9edafc55d68cbf7675efefd3cddfe0bfa155d0a80/theorem_expr.ipynb\"><img src=\"data:image/png;base64,iVBORw0KGgoAAAANSUhEUgAAALEAAAAXCAMAAABzsl4EAAAAPFBMVEX///8kJCQoKCgUFBQNDQ0Q\n",
       "EBCIiIhmZma6urrMzMxUVFQiIiJERETc3Nzu7u6qqqp2dnaYmJgyMjIAAAChkoCbAAAAAXRSTlMA\n",
       "QObYZgAAAqVJREFUSMfNl4uSniAMhW27cifc3v9dC+EiIvrTdmzLzDqrK/Jxckiy2/a3B4fn+/9q\n",
       "aBcvlp0fjvfl6WwfRqerb/fOvQwMalsl1v70CnGWp19EQramPvdvh8frZWLRP/QREWSaDGkjWtVt\n",
       "qZeBHd1WiU8sbsfXfFa7k/YQ+6WBKq0RC97dKIEeDokTEr2zkIaWbx87ua0Sn8MdkJgFVNSnt4NK\n",
       "Q9qXiQntCTW1lOwwJ1a9xBBoJiY4m7YQKL28NntMCEhnyUUA5TpitsflfBg0th7H9690pVXwgJ/i\n",
       "mdglOzNaT+HNMMoKKcix9gMw5Wi0OEmMNjYHMewJn6q5K04SR2KaiRHcoLfShVySMRhLaXwKXEXd\n",
       "uLcrxBo5JZptSJY7O4gp/lGSKTE/7/XsCp7j4jL1ORcpoyF91+m8uSVihQc6JJF2c0+8q/balXj0\n",
       "Zyi5whzEscDUfQElwvNqFdwbNzlIekrcJuSXi+XSu9LdugIwwiZsMx9/27Obm9IK13M5ZkyWXZUa\n",
       "A5LH9aAv3g7ceCY74jZBYML5ij+ufEGS25MHqJfw2CiMGvtxub6C5JMXd0uLKWhUlkuUrh07MA/E\n",
       "bUJOYFnGrPE+ENsuu6n4NyfFZq+uaME9Rwf2HEhazBnK15P3SAoHl6hZ/LI2nN8TtwlHp1MNGgbt\n",
       "WFdBQBDCtSDsSjzpbsASUqtgdaCDspRO0UsH7jivFMiRaAfiY4KIzvvxPfnP3eSKtSpt6HP7N2aI\n",
       "mNd5YNjFNmFjdeK1B7lq3CbUzFbL2yUfr3VCHxpIS8ZqJoghFAGUOYLivep7EzWdkDNbQbZ2opX6\n",
       "3G2a517hqc7FVbOPZ0l3Xhk/NiYLHf0HiX+hlVgg9ov/NZHhIJ/u2XOH/ZvAc2L3dnv9J4P+09V/\n",
       "AgkLIbCsBuk+AAAAAElFTkSuQmCC\n",
       "\" style=\"display:inline;vertical-align:middle;\" /></a><br>"
      ],
      "text/plain": [
       "abs_not_eq_zero: forall_{a in Complex | a != 0} (|a| != 0)"
      ]
     },
     "execution_count": 9,
     "metadata": {},
     "output_type": "execute_result"
    }
   ],
   "source": [
    "abs_not_eq_zero = Forall(\n",
    "    a,\n",
    "    NotEquals(Abs(a), zero),\n",
    "    domain=Complex,\n",
    "    conditions=[NotEquals(a, zero)])"
   ]
  },
  {
   "cell_type": "code",
   "execution_count": 10,
   "metadata": {},
   "outputs": [
    {
     "data": {
      "text/html": [
       "<strong id=\"abs_pos_def\"><a class=\"ProveItLink\" href=\"proofs/abs_pos_def/thm_proof.ipynb\">abs_pos_def</a> (conjecture without proof):<br></strong> <a class=\"ProveItLink\" href=\"../__pv_it/theorems/2d3ee08f2782cf8a7dd9d4bfef704da9708bad0e0/theorem_expr.ipynb\"><img src=\"data:image/png;base64,iVBORw0KGgoAAAANSUhEUgAAAPIAAAAVBAMAAACOB66tAAAAMFBMVEX///8QEBCIiIhmZma6urrM\n",
       "zMxUVFQiIiJERETc3Nzu7u6qqqp2dnaYmJgyMjIAAAAcRTyBAAAAAXRSTlMAQObYZgAAA0pJREFU\n",
       "SMe9Vk1oE0EU/tL8b7JpBQUVhFhtb0LQi2DFiognMRe1ekkIiggiVahaKhIES4oKAUEFlW4ttKVI\n",
       "ExSRSKGhrReFEvGgLf4EtII/1KIokvbgezuTpk1mS3px4O2+N/vefPN+5s0CVYyjZe//MO4JGpfi\n",
       "uErHl1TNenOWi2akUZ6Fd2odLS7IEtm/5RlwUmU6oF5x9G0YLt4qGb3gia9qvUBSkCXyN/QnMaQy\n",
       "/aJeMK21Q2Nnyeg2hyauRn4lyQpZr4M/D3+w0lIPKRd8CUyQ4xytIAIGvdJq5HZJVsieKHwFaHVS\n",
       "JF+cUcG6lclHJzBioIcTWQf9+eDgLTWwt1WQJXJtFI454JOQariorgjeYsU/wIE0As0wjf4mEhfV\n",
       "ejUhQYx4Y2yjUYGcCsHxExgTUgs/hgyT38Qbb9q6vqxifxFyEH5ek4yOA11qZE9OECE61uGH9Nk/\n",
       "Yw627s7CScjvTW3nqvM0zohivU60OxmYZX7C1P/Ie5kHIkHoXGJktEcUW+l8XjsRk8lKCyLEnhy2\n",
       "V0a7OwQnLfbEFBqFty1mzXSQgxtgL6tcL/kcycLHGSQjt0iQGY3hbTmtxXB+F6KtWRAh7jJwFlbR\n",
       "jjDfL2sLF/ixGrAX4A4qo+3kUJCRP+cufnmTGYR+FxiuQF4L7beywnxzEtl7Ssz1ZSWyLY5UuLLC\n",
       "RtILyN78IWJ6G6fh4NztfUxT5dHW5uGbXZpndtETh14A9okjfMmcb4OMdiqLEZTy/JnZBPDBgIOj\n",
       "zUZdxygObc4CAvxxalJRYdocXPmMRSeRFWb2HAwlixWWSuN0eU8XnaRYYXhEW7CHnK3o5Y9PM6Wu\n",
       "HBJEiJfxOpqt7J4d6KGANgnBxYnZIXg6M56gfs5fpu9Oa2sIjBPCRrVUB7Z0TRSHE4lE8M7BBT2O\n",
       "ikN0kr76I7HmSuQH9XQmMS3rJ1/qwxRLLdZwc3P5FTTaSDsNhKWRTschlfRMGS7+aL9PClV2T7lc\n",
       "q2QotJqxbPcUo3+xkS0Z2Q9/2Ow8YbOlV3NjyKRUf2PIq3KxkSP2cCdw1YzgTGfxMHiSgpZHVt6S\n",
       "XdbAxVtySaOmPK/oz8AaZMAamX1ZbmeL/4YapNig0tFX+jc0KYz+ARpzD6VtXfOMAAAAAElFTkSu\n",
       "QmCC\n",
       "\" style=\"display:inline;vertical-align:middle;\" /></a><br>"
      ],
      "text/plain": [
       "abs_pos_def: forall_{a in Complex} ((|a| = 0) <=> (a = 0))"
      ]
     },
     "execution_count": 10,
     "metadata": {},
     "output_type": "execute_result"
    }
   ],
   "source": [
    "abs_pos_def = Forall(\n",
    "    a,\n",
    "    Iff(Equals(Abs(a), zero), Equals(a, zero)),\n",
    "    domain=Complex)"
   ]
  },
  {
   "cell_type": "markdown",
   "metadata": {},
   "source": [
    "<p style=\"font-size:12pt;font-weight:bold\">Evenness</p>"
   ]
  },
  {
   "cell_type": "code",
   "execution_count": 11,
   "metadata": {},
   "outputs": [
    {
     "data": {
      "text/html": [
       "<strong id=\"abs_even\"><a class=\"ProveItLink\" href=\"proofs/abs_even/thm_proof.ipynb\">abs_even</a> (conjecture without proof):<br></strong> <a class=\"ProveItLink\" href=\"../__pv_it/theorems/292303e166e1425603b2056ca6e445ff28a443730/theorem_expr.ipynb\"><img src=\"data:image/png;base64,iVBORw0KGgoAAAANSUhEUgAAAJ8AAAAVBAMAAACqHiFtAAAAMFBMVEX///8QEBCIiIhmZma6urrM\n",
       "zMxUVFQiIiJERETc3Nzu7u6qqqp2dnaYmJgyMjIAAAAcRTyBAAAAAXRSTlMAQObYZgAAAfFJREFU\n",
       "OMtjYCAAoogWYF3AQBBwXmA4gi6GU4DHgWEnkHoAYt/FYeAKBtIMZJvAwHAaxH6Fw8CXJBrIBXTe\n",
       "DJDPGrCbx2tAooEMhxgY+IBBybMBu4HsE0g1cCHQFadWrZqOw8fTGUg1kA+If3R01OAwUBlV/yK1\n",
       "KToK2AzkUsp0OgQ2kAcYSKkMDJ04DOxFMZDrAG8R+wOIAM87MDCAGLiG4bpCHdhAXmCsOIPjBgG4\n",
       "e9KToMxqFAN5FvD8YpmAzYWnGM4v8AQbyF0ADHkGpgswN+wxvsAVsYD1DZQvAvEQxDUBXAwcDdjD\n",
       "cAFDBzQMWT8A6QvsMKkbO1cx8M5hYNiDYiAC8CvgipRPSAZyPggD8g6ZqgWwgILEdStQCKuXGRji\n",
       "A2AC0DBMgBrI+hVqIAvQywydKQwMTAvy2B34QNK3buKKFO4F+kB12Fy4i+kDgxY8Uhg2A01lZXjL\n",
       "wLAYJL1rJ0LpYRQD/Tf0M8zF5mWW3xwfgMUIyEDmA7CQYfjJwBDe0dGhMDsUodQdxcBlSotsL2Az\n",
       "kCtJS/kuNGGDAoUXVI6xfmBlYANJMy8CxjbZWW85THA+zwMeBh6Q8Zw2AaAsTn7hAPXOlUOnGBi6\n",
       "Qcw179oCYMKdZBRfyIAJGIYUFbAcEwhXAaroYjgFmAIYgEkOALK0r3L1Ro9fAAAAAElFTkSuQmCC\n",
       "\" style=\"display:inline;vertical-align:middle;\" /></a><br>"
      ],
      "text/plain": [
       "abs_even: forall_{x in Complex} (|-x| = |x|)"
      ]
     },
     "execution_count": 11,
     "metadata": {},
     "output_type": "execute_result"
    }
   ],
   "source": [
    "abs_even = Forall(\n",
    "    x,\n",
    "    Equals(Abs(Neg(x)), Abs(x)),\n",
    "    domain = Complex)"
   ]
  },
  {
   "cell_type": "code",
   "execution_count": 12,
   "metadata": {},
   "outputs": [
    {
     "data": {
      "text/html": [
       "<strong id=\"abs_elim\"><a class=\"ProveItLink\" href=\"proofs/abs_elim/thm_proof.ipynb\">abs_elim</a> (conjecture without proof):<br></strong> <a class=\"ProveItLink\" href=\"../__pv_it/theorems/2a36ad735f0b190bc9fa6e8c20a50722ef5254b20/theorem_expr.ipynb\"><img src=\"data:image/png;base64,iVBORw0KGgoAAAANSUhEUgAAAJcAAAAVBAMAAAC5yWGZAAAAMFBMVEX///8QEBCIiIhmZma6urrM\n",
       "zMxUVFQiIiJERETc3Nzu7u6qqqp2dnaYmJgyMjIAAAAcRTyBAAAAAXRSTlMAQObYZgAAAhhJREFU\n",
       "OMudlE9IFFEcx7+MO+7u7NvNgydPg6LEEiSIx0QUlE4uBAYSBP2DiCKiTkp4nFXERQS9SE8Fi6WD\n",
       "4CGUDoPtaVpsDtI/CpaCoEAZgqDy0u+9t7O4zsaT/Q0z7/dm3nzm9/v+3vyAU9tExGnWkj5KoV9q\n",
       "uGKbzopwPmthz6CDtRaA18L5oYV918IsCmtZ5DCtY6V7tTDsAhkOsE0dLF7Qw1bpm16xuKTNcgl6\n",
       "WGYQ+O04U1pYl2Ks9SyesyMwq/P2EOXISIqbQD7yck5cnn/i4XxOwiw3/SBeUbC9Q2Ff5Tq8sx9T\n",
       "jlSBYVmHE/ZWqDhj1QozKWGMs7+xQiQyD2/4RSB1n7SF4R978uLs9S80jNC9Njqq1q4iQ2K6gWYc\n",
       "jhjMgFL147XkX/b5BoNnk38pm2zDo3oYcMZuWICfISxZGQ/vvd8ugmAfRaTm7HHYZJVxNRfClGbf\n",
       "5FPzl7jGKE3kb4gd19+Ti1E5JMwlAe4CATrqC5Di52HwSGQ7RoCsKgC2iGjwe/HBDBSsrxfpO/UF\n",
       "eCVhY5vzWImkGTtKBNQH0OJWdTBxAKxLWMuth0D/ia0xKmEbnWsX/AjMupbtEp0iIyRIy1f+AJcd\n",
       "x7ENtrDf3O/0tOaZgYlWlWbqCrfK5XKpiR9d2RNWYWA5pZnnRlfmT9WClG3s73rArNi0e+76QDPN\n",
       "MVGonxuk2f/bdnfodzdc8QH4B8I/ppkxuYHeAAAAAElFTkSuQmCC\n",
       "\" style=\"display:inline;vertical-align:middle;\" /></a><br>"
      ],
      "text/plain": [
       "abs_elim: forall_{x in RealNonNeg} (|x| = x)"
      ]
     },
     "execution_count": 12,
     "metadata": {},
     "output_type": "execute_result"
    }
   ],
   "source": [
    "abs_elim = Forall(\n",
    "    x,\n",
    "    Equals(Abs(x), x),\n",
    "    domain = RealNonNeg)"
   ]
  },
  {
   "cell_type": "code",
   "execution_count": 13,
   "metadata": {},
   "outputs": [
    {
     "data": {
      "text/html": [
       "<strong id=\"abs_non_neg_elim\"><a class=\"ProveItLink\" href=\"proofs/abs_non_neg_elim/thm_proof.ipynb\">abs_non_neg_elim</a> (conjecture without proof):<br></strong> <a class=\"ProveItLink\" href=\"../__pv_it/theorems/edf4b796002e2e3843e19298ae5d8d3a827638090/theorem_expr.ipynb\"><img src=\"data:image/png;base64,iVBORw0KGgoAAAANSUhEUgAAAJcAAAAVBAMAAAC5yWGZAAAAMFBMVEX///8QEBCIiIhmZma6urrM\n",
       "zMxUVFQiIiJERETc3Nzu7u6qqqp2dnaYmJgyMjIAAAAcRTyBAAAAAXRSTlMAQObYZgAAAhhJREFU\n",
       "OMudlE9IFFEcx7+MO+7u7NvNgydPg6LEEiSIx0QUlE4uBAYSBP2DiCKiTkp4nFXERQS9SE8Fi6WD\n",
       "4CGUDoPtaVpsDtI/CpaCoEAZgqDy0u+9t7O4zsaT/Q0z7/dm3nzm9/v+3vyAU9tExGnWkj5KoV9q\n",
       "uGKbzopwPmthz6CDtRaA18L5oYV918IsCmtZ5DCtY6V7tTDsAhkOsE0dLF7Qw1bpm16xuKTNcgl6\n",
       "WGYQ+O04U1pYl2Ks9SyesyMwq/P2EOXISIqbQD7yck5cnn/i4XxOwiw3/SBeUbC9Q2Ff5Tq8sx9T\n",
       "jlSBYVmHE/ZWqDhj1QozKWGMs7+xQiQyD2/4RSB1n7SF4R978uLs9S80jNC9Njqq1q4iQ2K6gWYc\n",
       "jhjMgFL147XkX/b5BoNnk38pm2zDo3oYcMZuWICfISxZGQ/vvd8ugmAfRaTm7HHYZJVxNRfClGbf\n",
       "5FPzl7jGKE3kb4gd19+Ti1E5JMwlAe4CATrqC5Di52HwSGQ7RoCsKgC2iGjwe/HBDBSsrxfpO/UF\n",
       "eCVhY5vzWImkGTtKBNQH0OJWdTBxAKxLWMuth0D/ia0xKmEbnWsX/AjMupbtEp0iIyRIy1f+AJcd\n",
       "x7ENtrDf3O/0tOaZgYlWlWbqCrfK5XKpiR9d2RNWYWA5pZnnRlfmT9WClG3s73rArNi0e+76QDPN\n",
       "MVGonxuk2f/bdnfodzdc8QH4B8I/ppkxuYHeAAAAAElFTkSuQmCC\n",
       "\" style=\"display:inline;vertical-align:middle;\" /></a><br>(alternate proof for <a class=\"ProveItLink\" href=\"#abs_elim\">abs_elim</a>)<br>"
      ],
      "text/plain": [
       "abs_non_neg_elim: forall_{x in RealNonNeg} (|x| = x)"
      ]
     },
     "execution_count": 13,
     "metadata": {},
     "output_type": "execute_result"
    }
   ],
   "source": [
    "abs_non_neg_elim = Forall(\n",
    "    x,\n",
    "    Equals(Abs(x), x),\n",
    "    domain = RealNonNeg)"
   ]
  },
  {
   "cell_type": "code",
   "execution_count": 14,
   "metadata": {},
   "outputs": [
    {
     "data": {
      "text/html": [
       "<strong id=\"abs_neg_elim\"><a class=\"ProveItLink\" href=\"proofs/abs_neg_elim/thm_proof.ipynb\">abs_neg_elim</a> (conjecture without proof):<br></strong> <a class=\"ProveItLink\" href=\"../__pv_it/theorems/713232cebc7bf1709c4326e75201f0d34571f9b80/theorem_expr.ipynb\"><img src=\"data:image/png;base64,iVBORw0KGgoAAAANSUhEUgAAAK8AAAAVBAMAAADC7aNVAAAAMFBMVEX///8QEBCIiIhmZma6urrM\n",
       "zMxUVFQiIiJERETc3Nzu7u6qqqp2dnaYmJgyMjIAAAAcRTyBAAAAAXRSTlMAQObYZgAAAiZJREFU\n",
       "OMutlc1rE0EYxp9uN918TNaLf8DS0lJKoYHFU1GKHsSTOSlIoaBW8CKheBGl5LhFpEGEehHHFqoE\n",
       "kYIHqXgItacV6kILfoCwtFRQUIIgWL10Z9/E/ZhkFNoXnjAzmfnN7PPuvAv8V1yQGocROQ/r7fa6\n",
       "9O+DVH+1JV90PinBT6AA56upgb4a6Y3ofFWCv6jAZi29k0+6L561quIWSyrwpjR/jWRygK2owEZN\n",
       "Bb4hzX9EKrr1+oLSiQUowLmKNN+cIP1ynFtK8ADxFofujVoSWCvF3O2/ejLwgJVI08CcEnwnBOcb\n",
       "xRnDJ/DGdxE7opn1oolP8c6aDTzwSafCHCriZghmnP3Wa9KJjVh6XLzlZ4BChWRAi+2KF8OXtpNr\n",
       "j9KJka128LgnMPNZ+AC74HDEUKZJYp7x16RXtqcxuFYHMHDE6gKO4kccnPPPtcffr9YRgD96edu2\n",
       "x5NWAFPlNpg8/py2Apmf4levkDB3WbzRx4bKusiwADc6JK/Ax6Bx6cTx5L3UmhiJkofnAV3j14wJ\n",
       "EwS2S4m1r0Pw2ZV5UW/SYBbN1f9km0G9Qm+DFHqXwTdgKQT3XrmeXHs6BC/3Lx73ZLAeXZD8xZEB\n",
       "Uc3MMglFLob3gPOO41gau7t1sCv9uKWW780M+siKwiQ/jCJE8ZD5DKxMHrvJ5ImL2R2c7VY2KZa3\n",
       "1lzgtrggG42lEwcp9GKn9G5a4HHnT9Nguz34z0/TB9I+9E+1d87MX7YAAAAASUVORK5CYII=\n",
       "\" style=\"display:inline;vertical-align:middle;\" /></a><br>"
      ],
      "text/plain": [
       "abs_neg_elim: forall_{x in RealNeg} (|x| = (-x))"
      ]
     },
     "execution_count": 14,
     "metadata": {},
     "output_type": "execute_result"
    }
   ],
   "source": [
    "abs_neg_elim = Forall(\n",
    "    x,\n",
    "    Equals(Abs(x), Neg(x)),\n",
    "    domain = RealNeg)"
   ]
  },
  {
   "cell_type": "code",
   "execution_count": 15,
   "metadata": {},
   "outputs": [
    {
     "data": {
      "text/html": [
       "<strong id=\"abs_ineq\"><a class=\"ProveItLink\" href=\"proofs/abs_ineq/thm_proof.ipynb\">abs_ineq</a> (conjecture without proof):<br></strong> <a class=\"ProveItLink\" href=\"../__pv_it/theorems/249af50d0e5d6e050e6a1703e2b61f6ad06a8d790/theorem_expr.ipynb\"><img src=\"data:image/png;base64,iVBORw0KGgoAAAANSUhEUgAAAb4AAAAXBAMAAACGxzdIAAAAMFBMVEX///8QEBCIiIhmZma6urrM\n",
       "zMxUVFQiIiJERETc3Nzu7u6qqqp2dnaYmJgyMjIAAAAcRTyBAAAAAXRSTlMAQObYZgAABTxJREFU\n",
       "WMPdWF1oHFUUPrs7k9m5O5NUwRefxl1MQ1EbLK2KbRxTsPhgs32RxZcuIUECJcRgaJW0lNCGjWJd\n",
       "idRSKY5BItYYF0RFH2RJFXUtuKhQhCoDtgrxhyAWbETw/s7cuTMT2/XJHvh2Zs/e8+18d849c+4A\n",
       "/HfTPX7yGNxgdobCcvnXjxMHfbBBKINkhXryP8X9Z9IviwwW8Inju87koaMU/6Kvq54eShGxsZT/\n",
       "GksgSLWxEF+Q76ud6euuUyTp21wOr8RPD6WI2DIkkgR+UyKIWHYqOpjjFIk52pm+rxni+tCnjjRs\n",
       "JT2UImKWk0wi/N39IYFsS5PKYI5uXBysRmf6nmKI6TPvacvDXuVHfB/1ajSUIpp3m5JJhL/ydEgg\n",
       "2fxhdTCH3Tp79qXO5JkTDKo+czw6X93s9yy53uPRUALFLiWTCP9IMSCQ7OTP8cEcf9Zq053py/Yz\n",
       "YH0LvS/e4XB9+gmhF5UceMEDi6VUha4MLxKa7Q/pFu4G81aAcwoJ5+Z+5BsBASqODbLcr1xKIOEY\n",
       "BZjbQIQWU7XS5Gf5NoPloqY9afhcXy2oCpa2CbYC2LTA6DcdxPbEaiQ0L+Vg80HIrgF8r5Bwbu63\n",
       "GmwxkcAluOAcoV+OJ5Fw7E4qcIXJ2QG2oPOhUlaiL8J73GE0GCzX8qx1rc71bd4iIl7O+VDDZDSX\n",
       "etmdqzTkUCNMQrMxAHlc6N5XSDg39xtg+oKgBV96D9Mpn/QSSDgMtjAke/PcLnCa1oKiD+ZHyeeT\n",
       "0MPZMi4Dvn+UVKy/Cy0e4GUc+B3fOTyh8LqoLIfkUILl34hdRnAz9OA53a+QcG7u/4omHAv0yORR\n",
       "s6c9MTgk4bDaRlSe/expD+uz31L1wTzOA3QFMg1VH1DSoH5+dB8/GfL0K1yfeYC5FpuqviA/1mF/\n",
       "OdAXkjBu7sfV81FBAGTyeL79UI+RcJg+CVjZ3ovdWi8Y3m4yDutbkvQNVgkzLB0D/SoYbTU/gZKG\n",
       "z7+9o+w4AFlcpTWan/YRep+mICU/ASfzbfiwRyVh3Mxf6OdPdhpIJk9Mzo9llURgbgRnsDdukDvR\n",
       "4+1jHZvTzG2T9DXXdfr8WVrV18Fw1PpS8LZiCql/qRyjh1nIV0V9YU/k5XpqfcFDZ0HUkZCEczM/\n",
       "0UY00sAPcSUJlqlecxUSgXfw9OrwK/n19B7oQ7RkOzsed0N95msTWboI7mrj+5fh+kjdp3CHGs+T\n",
       "flfqz07S6dwBQ/g6cqzgdhHC+5VQ6fmQq2p/48NOhYRzM3+F5ygJ1P7Kr5nh/JijCokAS++rdNBO\n",
       "GNYP1Woz4Hx+p6QPX2IXHoX6GmT99fBFQ/JOo8/3xeLCrnZCf71YfID0mOWgDxWdoAjVpMc0Gi6R\n",
       "i7gc46DczD9CPoqMAA1vKcU2BhKJgE1qj76ms+J4C1RZfr7bkvQZbqYM6DM3Uj9T+zPJBkjp5OdY\n",
       "KvI26s/w4gE0kbJXoX76TzokNXYqiQC1VyzfglMeTGlr8AnTZ8n1xSgPAbqXspeC5196fy12Rj76\n",
       "49r763F425X767S+O7m/jpEIsCT4ZqUF+xrwUJ8PeVyaCtO/oG1+qE8bPgE6S7Ps+WDN5OsUUX3o\n",
       "J9KnHCSDjXbeSdkf8VAKbodhJtgHSSQJ+yZBEPxGB09FSZbjQQ1UJ3WprzYj8dDPN+C5Dva3WnG7\n",
       "ciUb7W8HS0ROWq84d23725BkLhZUqHc198Ymmn4e0Pz0lwxZMc23J/7lt9fzfsJOeT9hX8/7CTJY\n",
       "QHaDdrGZrO+R81h+DdszN9orpNz/+/L/AUhis9YMQZhNAAAAAElFTkSuQmCC\n",
       "\" style=\"display:inline;vertical-align:middle;\" /></a><br>"
      ],
      "text/plain": [
       "abs_ineq: forall_{x, y in Real | y >= 0} ((|x| <= y) <=> (((-y) <= x) and (x <= y)))"
      ]
     },
     "execution_count": 15,
     "metadata": {},
     "output_type": "execute_result"
    }
   ],
   "source": [
    "abs_ineq = Forall(\n",
    "    (x, y),\n",
    "    Iff(LessEq(Abs(x), y),\n",
    "        And(LessEq(Neg(y), x), LessEq(x, y))),\n",
    "    domain = Real,\n",
    "    conditions = [GreaterEq(y, zero)])"
   ]
  },
  {
   "cell_type": "markdown",
   "metadata": {},
   "source": [
    "<p style=\"font-size:12pt;font-weight:bold\">Triangle Inequality</p>"
   ]
  },
  {
   "cell_type": "code",
   "execution_count": 16,
   "metadata": {},
   "outputs": [
    {
     "data": {
      "text/html": [
       "<strong id=\"triangle_inequality\"><a class=\"ProveItLink\" href=\"proofs/triangle_inequality/thm_proof.ipynb\">triangle_inequality</a> (conjecture without proof):<br></strong> <a class=\"ProveItLink\" href=\"../__pv_it/theorems/233a4d4c652bd90701ffb3c9c6939424ae27b6f30/theorem_expr.ipynb\"><img src=\"data:image/png;base64,iVBORw0KGgoAAAANSUhEUgAAAPkAAAAWBAMAAADwcyf0AAAAMFBMVEX///8QEBCIiIhmZma6urrM\n",
       "zMxUVFQiIiJERETc3Nzu7u6qqqp2dnaYmJgyMjIAAAAcRTyBAAAAAXRSTlMAQObYZgAAAyFJREFU\n",
       "SMe9lk1oE0EUgF92s02y2U0ungQlqO051KMVKyKepPGgFi+WYvEiEgpV1ArxoKSosCDUggqrPShF\n",
       "zKJ4qBQsWhAUYcFLWxACasUfQvGkOYgz83Ymu9nZaU8OPGZn3nvz7cy8mTcAmyonkhSGq+jsVgZt\n",
       "qU9iyfmwlKSzBmNd90RntzJok2qeVFSatP1RSX8EUrp5pSqjmzUFnfv0OMDkHe3+rqR/k9OhUI4A\n",
       "tAnsdVRzD3xMMmkqM3Rpayq4Xe6i50tYF70w4PE41h8gRucOpM19XgGTAgkBy1PRM04CfcgN0W9d\n",
       "Dj4uKOnc5z4wsd/Ozd1WLjzVSulvQoDpHzxEq0o69ykE8rten1TSdyI9N9C/NTrY2o49HDD8Wew+\n",
       "biyzltC5j1VGGQOY4q7ploR+E+n7ncJ6ZDDzr9twEJC9KqyzPqMw6zhd+NhNlAMs+ILyWqzujdOj\n",
       "weclRje3gV6LDJZvQ7GEAG1cXCAZFlZoHacLn3wVJQOaL+h098yF3b457Bo/g74tjK63IUMHsVqt\n",
       "r9tbrREAvQmNxQBgT3J8ii7rIFozZceB9nMfYx3F8jOdVf5DZHl+Duy7AAsReqoGjUpkKuToDnli\n",
       "ep+cMB2t43MXPpyeax4jitm+L/QG/tXnpkkswMHnRBFZ+cYivIzGfNGHfa44cem1Smjl0TpOFz7p\n",
       "KgpMnSKrPWG06f5d1MoFare60h11DQ/O5p0Ine5u57Yx6oOdqENrCZ378KiDZ+QX9LJBfyRbspuz\n",
       "1O7FPEQicYmqzlmRwXr8bDl8mebGGIGdOLSO04WPvohCgpDslqeNsE3TR47X6/XSnaMd+iGM+dHe\n",
       "6V3RE9f/XpJl0uy2QWvJieM+hQoK2CRcG052lVRFN+X1UDv9ARl9o5tWnmHVNy2vHgIKRqpz8jDM\n",
       "uBl3GSz6R7mBCksE0ixjuiq6JMtwhxA9yDLBeo0+3QtHPOMM2YrrLGO1rlW4cgo2el08OU8LZtis\n",
       "s4nXBc+w4YKpTiP7vpnXRcLcla8LXpFfZBLeTyfxZdWbRNcqkpcV7+xWBm1S0QO90vWMgP9d/gH9\n",
       "1P6UUpj7QQAAAABJRU5ErkJggg==\n",
       "\" style=\"display:inline;vertical-align:middle;\" /></a><br>"
      ],
      "text/plain": [
       "triangle_inequality: forall_{a, b in Complex} (|a + b| <= (|a| + |b|))"
      ]
     },
     "execution_count": 16,
     "metadata": {},
     "output_type": "execute_result"
    }
   ],
   "source": [
    "triangle_inequality = Forall(\n",
    "    (a, b),\n",
    "    LessEq(Abs(Add(a,b)), Add(Abs(a), Abs(b))),\n",
    "    domain=Complex)"
   ]
  },
  {
   "cell_type": "markdown",
   "metadata": {},
   "source": [
    "<p style=\"font-size:12pt;font-weight:bold\">Multiplicativity (and Preservation of Division)</p>"
   ]
  },
  {
   "cell_type": "code",
   "execution_count": 17,
   "metadata": {},
   "outputs": [
    {
     "data": {
      "text/html": [
       "<strong id=\"abs_prod\"><a class=\"ProveItLink\" href=\"proofs/abs_prod/thm_proof.ipynb\">abs_prod</a> (conjecture without proof):<br></strong> <a class=\"ProveItLink\" href=\"../__pv_it/theorems/598aef591998afca540e84d7e2f886518ba582020/theorem_expr.ipynb\"><img src=\"data:image/png;base64,iVBORw0KGgoAAAANSUhEUgAAAdoAAAAWBAMAAACVl0DnAAAAMFBMVEX///8QEBCIiIhmZma6urrM\n",
       "zMxUVFQiIiJERETc3Nzu7u6qqqp2dnaYmJgyMjIAAAAcRTyBAAAAAXRSTlMAQObYZgAABDhJREFU\n",
       "WMPVWFloE0EY/k2zptnsWh/0QUGILR6IR6GILy1ERUV8cC14IIKhKKIPUrQUUZHig6QeGERQPHCp\n",
       "UKReQQkeVCjN+lIRF1rxQCUP+qCoFEXxAHGObTK7M7uTxAj6wz/5M/P9/8y3M//szAL8VdlYgY9i\n",
       "ygIJEX6tZQ5h/psKqUZtsCpw0xKyQDwioNWCWBqIvuqAPK55GeRtlYARyiWoEltvoDLZwnagasED\n",
       "XPMumK0cI5S31WL79g/ZXgOqFpzGK6UrmK0cIxK9sUpsuUDlstXiVC2YgHJaywSzlWNEEklXiS0X\n",
       "qFy26kSqFuhDfX2nIJitHCOSU1AltlygctnCa6rI/JZK7Rf4DLBwH0ywNFDfnpkn58alYAbFceEC\n",
       "Sdmq9duXDDJsc1SRuRWgW+DTyLL1wQTLMeKrDui7InlQgtPeQRW5aB+JNAoDSdlegSfxAwzbV1SR\n",
       "uRTUvIytD0YgsaPb2hxzH/HVTO1HOK00tZM6wbFAJSMkKJ+55QJRhG+sBAzBI3Mlw/YWVWRGIGSz\n",
       "J5HdFkxPeth6MD7z099kqxtM5b3zfxKdEqjF0xombNVfvNv1PBlmbZdvVnKBCMI3Fmo1IeXK281U\n",
       "8fZsRwotl3MtcFsza8xc0+6mDLOFMxhfeXqnD/RzAP2uQQLUxQtsoVOwdSfJT11cwpYJRBF+sUjr\n",
       "Jx+20fy6wovtyBkT7sUbNe9KppjBhTMNroNCZRh7LMsisGsBom6MIlt/wSi9pbXBnbdJYSD5nqx8\n",
       "Qcbw43rnTb2CKja7t4z1sxSDs9kTHFuCCZk7IwnY4Q5NK7FMwMXzZ95dKmYuQCAZW4rSF9vj0jwX\n",
       "LpCU7d3QKMyBkWkwxbtLwU3kT/shO1FWu7qJY4sxCnwA2DTVc+HAlUQu4uLunWJTjviuzhyH8665\n",
       "JQlHiuuFrY+izsyCOpPnwgUqIgphmCzWEuGftaNRO9rTDj/o8JupjqUD6UclDLMwkOPY0qz6jnSv\n",
       "91F+d37Xp1Kp+Nm1xYYVxLe3vqfFdq/kzrHCSVkkDqoNFgtmjgvEIAphOhm2atucBnSJGR8PT6TD\n",
       "f0MVmzreynE/yp5U6iBiex5vSYaLLcEoowrPFlcO33uBYuN/NT3Oa8B74JPmLZHJ0KxITo6l5S2R\n",
       "cUbNgEFOju1ULVc/STq34Vbu6IXlgpbXCNvTZvTwWEEqb3Sh56Ph5xNtNmBQdJiPlcI2OgodWcmt\n",
       "IFY62wsQWWW4bwVsP/exOQLwQsi2d2RwiLBdk1GmwJo0LjKkcryxAbUfwaArHw8VVkU3E3/RV/np\n",
       "EcJJmGsLuHgDlch2OYQeem58bD+16BUbPpCgi5JjSwWv5OJ1iFoRmId6CKG8/Tdv8930iXlHMxvl\n",
       "LSez2C81rZ8z5KuHs6yo1Qv9tvhLzYwK2IYMWSAeEdA6A3Q0SqzzOyr53qQLrP9DfgPEtY50Pqya\n",
       "owAAAABJRU5ErkJggg==\n",
       "\" style=\"display:inline;vertical-align:middle;\" /></a><br>"
      ],
      "text/plain": [
       "abs_prod: forall_{n in NaturalPos} [forall_{x_{1}, ..x_{_a}.., x_{n} in Complex} (|x_{1} * ..x_{_a}.. * x_{n}| = (|x_{1}| * ..|x_{i}|.. * |x_{n}|))]"
      ]
     },
     "execution_count": 17,
     "metadata": {},
     "output_type": "execute_result"
    }
   ],
   "source": [
    "abs_prod = Forall(\n",
    "    n,\n",
    "    Forall(x_1_to_n,\n",
    "           Equals(Abs(Mult(x_1_to_n)), \n",
    "                  Mult(ExprRange(i, Abs(IndexedVar(x, i)), one, n))),\n",
    "           domain = Complex),\n",
    "    domain = NaturalPos)"
   ]
  },
  {
   "cell_type": "code",
   "execution_count": 18,
   "metadata": {},
   "outputs": [
    {
     "data": {
      "text/html": [
       "<strong id=\"abs_frac\"><a class=\"ProveItLink\" href=\"proofs/abs_frac/thm_proof.ipynb\">abs_frac</a> (conjecture without proof):<br></strong> <a class=\"ProveItLink\" href=\"../__pv_it/theorems/0e23ebc2471341436c57f0d9b5b67944123a0e510/theorem_expr.ipynb\"><img src=\"data:image/png;base64,iVBORw0KGgoAAAANSUhEUgAAAOEAAAAyCAMAAACdx0zJAAAAQlBMVEX///8GBgYMDAxRUVEoKCgU\n",
       "FBQNDQ0QEBCIiIhmZma6urrMzMxUVFQiIiJERETc3Nzu7u6qqqp2dnaYmJgyMjIAAAA2Mj06AAAA\n",
       "AXRSTlMAQObYZgAABFVJREFUaN7NmomyoygUQJnpngFkB/n/X21A2fFF20RCVaeeaa7heHcQgKlD\n",
       "LzdvQOTwWlLwHUPrdz+ieL2sXwGIKPgUITDfgKgg+Bwh4Ho6oITLJwnfcvt7g+MUHg6iyC3Ct5jI\n",
       "PRu1KQweLAXeIwRssp0y3KMIrDGC8jJhlisJlRUzAU3x8xFlge671V7WYSFX6bR4iDNUyDtzlNC4\n",
       "T8yvEpZyFaGxch4gsUtHiMOCGLpKWMpVhNKieYQY9iEF8rAqcpWwlKsjzzox7UPaEUqrQ3i4Gksr\n",
       "uZoQzYs1xJoBoXKfdAVKXCQs5GpCUf3MsxVp9XB3FO68xjAK9EUrLeWa/Ain9RgcDlK7pAgRQdFy\n",
       "NZYWcg0hZ84Zc2x9UKOQnyhe7tY0/tJ5p1Yp8DyXPKTFzxAaF2FFfJqCPxloqkT1azzr133C8ENR\n",
       "dVmZT1Td6hkdBmMxWvoh2KNFKXkTISI/X1sfTC3349FWo8nENwhfDet9jwZs/mT213VJ/JJQr8W4\n",
       "1DBAnysWLyIHFdxypqxbjucHCqRRbx34IuGNtBScz3+gUTLU/eNSXFNGi0jID+djbxvG4amusKB2\n",
       "gGLzOEtox6Ns0sJNtNkou7HGiCeVxtjNkoS7h09WPSZcywgpAhfzOu7atCHhR3S4EYoVkGH9FuOB\n",
       "4UpIv0ojAps6IKzih38We08D1U0rrfzwUqnJNtVxQXd3khjRleR0iajcHTU4GlHb/4khYZy/zdXb\n",
       "V34qM12keSqWwi00KLwbqWTELSouEjEJEC5KVyNNF3ELwn0+Ddnnf/fP7DdjqMsW78qHzcFFe4yR\n",
       "motYRGHHQ5JLhq5kdXpNYUaqnwj3+RuDAlmHEHUZf3kXYV3EdCc9sQA2O7p3mHyY4DeNMXXIQSlu\n",
       "/UIR8gPhPj8YA49VkxewS1e1Vd/8GwMah2zw9ev2Kcm1hFv/X167J86N3Hm9hXnm7NpYopzpOsJ9\n",
       "PnXR4L/fPiaYo1hat/jgnxyN8fDrlzqMci0hafeioPCbYMY3Gm5Rzq2MB9BJcQKHv/U4H8b5MVME\n",
       "a8WjfAiOuqeqIr9gpVGuJWxKfBcAKVLIJz7idUfofr7H0zTp4janZGylaf6WKXZEPagbAFuHhEul\n",
       "7fOESa5rNX7YiqrY0eaHw/2IkezLKh7bIaFmfxdpklxL2JQW1SLPFuIjwtflrBkra6UIYXWdMMm1\n",
       "hPC4rT+9ZzO4hXndS5Ohw0nr2nGZDOs0YZZrCMU7Nr3/8vBjsCMcD9zSqk4TZrmGcOKOcO2IEQWv\n",
       "VQo7TZjlBpuJs8YyOJnZstqSDPg0YZZrCGeezFRnexEl1AG57zhNmOXaY4uJp2tVNE2E6TDwImGS\n",
       "qwnh3PeGoO4IqSnfXzhPmOUqwsmn3OWbChHKdafaXAzTIVskuYpwnXrI/bYFHHdPCsrJhAKSTxJ+\n",
       "wRtDQLFPElIM5g9MP0doOPiGQe9n5PqgIl19yduXTosf8hWZ9vzAH6ydQNWRha1BAAAAAElFTkSu\n",
       "QmCC\n",
       "\" style=\"display:inline;vertical-align:middle;\" /></a><br>"
      ],
      "text/plain": [
       "abs_frac: forall_{a, b in Complex | b != 0} (|a / b| = (|a| / |b|))"
      ]
     },
     "execution_count": 18,
     "metadata": {},
     "output_type": "execute_result"
    }
   ],
   "source": [
    "abs_frac = Forall(\n",
    "    (a, b),\n",
    "    Equals(Abs(frac(a, b)), frac(Abs(a), Abs(b))),\n",
    "    domain = Complex,\n",
    "    conditions=[NotEquals(b, zero)])"
   ]
  },
  {
   "cell_type": "code",
   "execution_count": 19,
   "metadata": {},
   "outputs": [
    {
     "name": "stdout",
     "output_type": "stream",
     "text": [
      "These theorems may now be imported from the theory package: proveit.numbers.absolute_value\n"
     ]
    }
   ],
   "source": [
    "%end theorems"
   ]
  },
  {
   "cell_type": "code",
   "execution_count": null,
   "metadata": {},
   "outputs": [],
   "source": []
  }
 ],
 "metadata": {
  "kernelspec": {
   "display_name": "Python 3",
   "language": "python",
   "name": "python3"
  }
 },
 "nbformat": 4,
 "nbformat_minor": 0
}