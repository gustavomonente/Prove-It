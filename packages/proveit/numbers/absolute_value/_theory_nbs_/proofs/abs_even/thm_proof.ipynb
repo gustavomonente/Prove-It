{
 "cells": [
  {
   "cell_type": "markdown",
   "metadata": {},
   "source": [
    "Proof of <a class=\"ProveItLink\" href=\"../../../../../_theory_nbs_/theory.ipynb\">proveit</a>.<a class=\"ProveItLink\" href=\"../../../../_theory_nbs_/theory.ipynb\">numbers</a>.<a class=\"ProveItLink\" href=\"../../theory.ipynb\">absolute_value</a>.<a class=\"ProveItLink\" href=\"../../theorems.ipynb#abs_even\">abs_even</a> theorem\n",
    "========"
   ]
  },
  {
   "cell_type": "code",
   "execution_count": 1,
   "metadata": {},
   "outputs": [],
   "source": [
    "import proveit\n",
    "theory = proveit.Theory() # the theorem's theory"
   ]
  },
  {
   "cell_type": "code",
   "execution_count": 2,
   "metadata": {},
   "outputs": [
    {
     "data": {
      "text/html": [
       "Under these <a href=\"presumptions.txt\">presumptions</a>, we begin our proof of<br><strong id=\"abs_even\">abs_even:</strong> <a class=\"ProveItLink\" href=\"../../../__pv_it/theorems/7f9d41e6ac631bfae399a9f67490ad20451df94d0/expr.ipynb\"><img src=\"data:image/png;base64,iVBORw0KGgoAAAANSUhEUgAAAJ8AAAAVBAMAAACqHiFtAAAAMFBMVEX///8QEBCIiIhmZma6urrM\n",
       "zMxUVFQiIiJERETc3Nzu7u6qqqp2dnaYmJgyMjIAAAAcRTyBAAAAAXRSTlMAQObYZgAAAfFJREFU\n",
       "OMtjYCAAoogWYF3AQBBwXmA4gi6GU4DHgWEnkHoAYt/FYeAKBtIMZJvAwHAaxH6Fw8CXJBrIBXTe\n",
       "DJDPGrCbx2tAooEMhxgY+IBBybMBu4HsE0g1cCHQFadWrZqOw8fTGUg1kA+If3R01OAwUBlV/yK1\n",
       "KToK2AzkUsp0OgQ2kAcYSKkMDJ04DOxFMZDrAG8R+wOIAM87MDCAGLiG4bpCHdhAXmCsOIPjBgG4\n",
       "e9KToMxqFAN5FvD8YpmAzYWnGM4v8AQbyF0ADHkGpgswN+wxvsAVsYD1DZQvAvEQxDUBXAwcDdjD\n",
       "cAFDBzQMWT8A6QvsMKkbO1cx8M5hYNiDYiAC8CvgipRPSAZyPggD8g6ZqgWwgILEdStQCKuXGRji\n",
       "A2AC0DBMgBrI+hVqIAvQywydKQwMTAvy2B34QNK3buKKFO4F+kB12Fy4i+kDgxY8Uhg2A01lZXjL\n",
       "wLAYJL1rJ0LpYRQD/Tf0M8zF5mWW3xwfgMUIyEDmA7CQYfjJwBDe0dGhMDsUodQdxcBlSotsL2Az\n",
       "kCtJS/kuNGGDAoUXVI6xfmBlYANJMy8CxjbZWW85THA+zwMeBh6Q8Zw2AaAsTn7hAPXOlUOnGBi6\n",
       "Qcw179oCYMKdZBRfyIAJGIYUFbAcEwhXAaroYjgFmAIYgEkOALK0r3L1Ro9fAAAAAElFTkSuQmCC\n",
       "\" style=\"display:inline;vertical-align:middle;\" /></a><br>(see <a class=\"ProveItLink\" href=\"../../../__pv_it/theorems/292303e166e1425603b2056ca6e445ff28a443730/dependencies.ipynb\">dependencies</a>)<br>"
      ],
      "text/plain": [
       "abs_even: forall_{x in Complex} (|-x| = |x|)"
      ]
     },
     "execution_count": 2,
     "metadata": {},
     "output_type": "execute_result"
    }
   ],
   "source": [
    "%proving abs_even"
   ]
  },
  {
   "cell_type": "code",
   "execution_count": null,
   "metadata": {},
   "outputs": [],
   "source": []
  }
 ],
 "metadata": {
  "kernelspec": {
   "display_name": "Python 3",
   "language": "python",
   "name": "python3"
  }
 },
 "nbformat": 4,
 "nbformat_minor": 0
}