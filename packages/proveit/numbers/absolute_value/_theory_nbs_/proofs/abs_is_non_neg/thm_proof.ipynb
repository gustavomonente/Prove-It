{
 "cells": [
  {
   "cell_type": "markdown",
   "metadata": {},
   "source": [
    "Proof of <a class=\"ProveItLink\" href=\"../../../../../_theory_nbs_/theory.ipynb\">proveit</a>.<a class=\"ProveItLink\" href=\"../../../../_theory_nbs_/theory.ipynb\">numbers</a>.<a class=\"ProveItLink\" href=\"../../theory.ipynb\">absolute_value</a>.<a class=\"ProveItLink\" href=\"../../theorems.ipynb#abs_is_non_neg\">abs_is_non_neg</a> theorem\n",
    "========"
   ]
  },
  {
   "cell_type": "code",
   "execution_count": 1,
   "metadata": {},
   "outputs": [],
   "source": [
    "import proveit\n",
    "theory = proveit.Theory() # the theorem's theory"
   ]
  },
  {
   "cell_type": "code",
   "execution_count": 2,
   "metadata": {},
   "outputs": [
    {
     "data": {
      "text/html": [
       "Under these <a href=\"presumptions.txt\">presumptions</a>, we begin our proof of<br><strong id=\"abs_is_non_neg\">abs_is_non_neg:</strong> <a class=\"ProveItLink\" href=\"../../../__pv_it/theorems/5bf6afe1b91341232254e1b9191c0b8678e381840/expr.ipynb\"><img src=\"data:image/png;base64,iVBORw0KGgoAAAANSUhEUgAAAH8AAAAVBAMAAACd/CwcAAAAMFBMVEX///8QEBCIiIhmZma6urrM\n",
       "zMxUVFQiIiJERETc3Nzu7u6qqqp2dnaYmJgyMjIAAAAcRTyBAAAAAXRSTlMAQObYZgAAAiVJREFU\n",
       "OMudlE9IFFEcx7+OM7vO25ntFNRtC/IseLBD4UJ4jObS38vKUngLUUQEAwmRETsMCBlU8EwoWIKG\n",
       "osOG4GKdCmSiQyWFe1FBpYQowjz0e/Nv15mnhQ8Gfr/5vfd5v9/3/d4DDh4aD41rOMx4CKMYmm9k\n",
       "8Sp9dWF8la9nYwcAFr9YyDjAO+FsyAF5JwFggzyOuWwEjLa/R44+Jgd8QDKD3JoT+u+BJUqDSMQ0\n",
       "XDlgJAWAumYFxgSwwDELmG8rlRn5er0/DYBmB39+ARdc5Mn5bdujcoDSEQCmX5/gDRH1myJf9oMA\n",
       "BRg05QYwKQe0eT5APY7vzaegd5EO+i5QKsAkFc/5WjZG7k5fObCyrg+Y9XC6GWAOCgplUKohR1Vm\n",
       "oXjRuc93euwK17YCt6XoA7o5BpoAyihvlKBt0xQvG8U+VSswHwDzewDHwH42AE8HEIm44PoAvX6J\n",
       "/Ln2VaikCHpe0q/mEtguctsxYPpWCLKBFQ6VSsDkdcpoSNtBXgSWPydEZH+QqVdDwN1N7GkkISJe\n",
       "EKW1Q+vHnAi8qsYAIzjG2/jYWwtbeTwOZl12lNbVyDxSoHJdpReXbdsu3L8Yz1GDRnp88mq5mLpM\n",
       "bLGdejIv+tIkVZ85bcs8IwKtjyi4fysnxpPIaHFK52EInH7GEldkn8uUutNxtuXnZ4Ep/5y+TViR\n",
       "iqnrvD4shhXXUU80P2nw3w9KuMO/njQl2u2ULE5H/he3a5q7nbfEUQAAAABJRU5ErkJggg==\n",
       "\" style=\"display:inline;vertical-align:middle;\" /></a><br>(see <a class=\"ProveItLink\" href=\"../../../__pv_it/theorems/3961a13527f6cf63634eb167ac03547272e4e7430/dependencies.ipynb\">dependencies</a>)<br>"
      ],
      "text/plain": [
       "abs_is_non_neg: forall_{a in Complex} (|a| >= 0)"
      ]
     },
     "execution_count": 2,
     "metadata": {},
     "output_type": "execute_result"
    }
   ],
   "source": [
    "%proving abs_is_non_neg"
   ]
  },
  {
   "cell_type": "code",
   "execution_count": null,
   "metadata": {},
   "outputs": [],
   "source": []
  }
 ],
 "metadata": {
  "kernelspec": {
   "display_name": "Python 3",
   "language": "python",
   "name": "python3"
  }
 },
 "nbformat": 4,
 "nbformat_minor": 0
}