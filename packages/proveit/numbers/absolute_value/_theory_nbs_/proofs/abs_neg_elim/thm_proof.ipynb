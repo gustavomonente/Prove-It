{
 "cells": [
  {
   "cell_type": "markdown",
   "metadata": {},
   "source": [
    "Proof of <a class=\"ProveItLink\" href=\"../../../../../_theory_nbs_/theory.ipynb\">proveit</a>.<a class=\"ProveItLink\" href=\"../../../../_theory_nbs_/theory.ipynb\">numbers</a>.<a class=\"ProveItLink\" href=\"../../theory.ipynb\">absolute_value</a>.<a class=\"ProveItLink\" href=\"../../theorems.ipynb#abs_neg_elim\">abs_neg_elim</a> theorem\n",
    "========"
   ]
  },
  {
   "cell_type": "code",
   "execution_count": 1,
   "metadata": {},
   "outputs": [],
   "source": [
    "import proveit\n",
    "theory = proveit.Theory() # the theorem's theory"
   ]
  },
  {
   "cell_type": "code",
   "execution_count": 2,
   "metadata": {},
   "outputs": [
    {
     "data": {
      "text/html": [
       "Under these <a href=\"presumptions.txt\">presumptions</a>, we begin our proof of<br><strong id=\"abs_neg_elim\">abs_neg_elim:</strong> <a class=\"ProveItLink\" href=\"../../../__pv_it/theorems/389f140795047156119213002db0af7d1a88b24a0/expr.ipynb\"><img src=\"data:image/png;base64,iVBORw0KGgoAAAANSUhEUgAAAK8AAAAVBAMAAADC7aNVAAAAMFBMVEX///8QEBCIiIhmZma6urrM\n",
       "zMxUVFQiIiJERETc3Nzu7u6qqqp2dnaYmJgyMjIAAAAcRTyBAAAAAXRSTlMAQObYZgAAAiZJREFU\n",
       "OMutlc1rE0EYxp9uN918TNaLf8DS0lJKoYHFU1GKHsSTOSlIoaBW8CKheBGl5LhFpEGEehHHFqoE\n",
       "kYIHqXgItacV6kILfoCwtFRQUIIgWL10Z9/E/ZhkFNoXnjAzmfnN7PPuvAv8V1yQGocROQ/r7fa6\n",
       "9O+DVH+1JV90PinBT6AA56upgb4a6Y3ofFWCv6jAZi29k0+6L561quIWSyrwpjR/jWRygK2owEZN\n",
       "Bb4hzX9EKrr1+oLSiQUowLmKNN+cIP1ynFtK8ADxFofujVoSWCvF3O2/ejLwgJVI08CcEnwnBOcb\n",
       "xRnDJ/DGdxE7opn1oolP8c6aDTzwSafCHCriZghmnP3Wa9KJjVh6XLzlZ4BChWRAi+2KF8OXtpNr\n",
       "j9KJka128LgnMPNZ+AC74HDEUKZJYp7x16RXtqcxuFYHMHDE6gKO4kccnPPPtcffr9YRgD96edu2\n",
       "x5NWAFPlNpg8/py2Apmf4levkDB3WbzRx4bKusiwADc6JK/Ax6Bx6cTx5L3UmhiJkofnAV3j14wJ\n",
       "EwS2S4m1r0Pw2ZV5UW/SYBbN1f9km0G9Qm+DFHqXwTdgKQT3XrmeXHs6BC/3Lx73ZLAeXZD8xZEB\n",
       "Uc3MMglFLob3gPOO41gau7t1sCv9uKWW780M+siKwiQ/jCJE8ZD5DKxMHrvJ5ImL2R2c7VY2KZa3\n",
       "1lzgtrggG42lEwcp9GKn9G5a4HHnT9Nguz34z0/TB9I+9E+1d87MX7YAAAAASUVORK5CYII=\n",
       "\" style=\"display:inline;vertical-align:middle;\" /></a><br>(see <a class=\"ProveItLink\" href=\"../../../__pv_it/theorems/713232cebc7bf1709c4326e75201f0d34571f9b80/dependencies.ipynb\">dependencies</a>)<br>"
      ],
      "text/plain": [
       "abs_neg_elim: forall_{x in RealNeg} (|x| = (-x))"
      ]
     },
     "execution_count": 2,
     "metadata": {},
     "output_type": "execute_result"
    }
   ],
   "source": [
    "%proving abs_neg_elim"
   ]
  },
  {
   "cell_type": "code",
   "execution_count": null,
   "metadata": {},
   "outputs": [],
   "source": []
  }
 ],
 "metadata": {
  "kernelspec": {
   "display_name": "Python 3",
   "language": "python",
   "name": "python3"
  }
 },
 "nbformat": 4,
 "nbformat_minor": 0
}