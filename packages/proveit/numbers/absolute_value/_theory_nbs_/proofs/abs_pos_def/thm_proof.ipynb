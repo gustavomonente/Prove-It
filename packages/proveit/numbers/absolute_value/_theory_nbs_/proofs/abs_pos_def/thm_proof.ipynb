{
 "cells": [
  {
   "cell_type": "markdown",
   "metadata": {},
   "source": [
    "Proof of <a class=\"ProveItLink\" href=\"../../../../../_theory_nbs_/theory.ipynb\">proveit</a>.<a class=\"ProveItLink\" href=\"../../../../_theory_nbs_/theory.ipynb\">numbers</a>.<a class=\"ProveItLink\" href=\"../../theory.ipynb\">absolute_value</a>.<a class=\"ProveItLink\" href=\"../../theorems.ipynb#abs_pos_def\">abs_pos_def</a> theorem\n",
    "========"
   ]
  },
  {
   "cell_type": "code",
   "execution_count": 1,
   "metadata": {},
   "outputs": [],
   "source": [
    "import proveit\n",
    "theory = proveit.Theory() # the theorem's theory"
   ]
  },
  {
   "cell_type": "code",
   "execution_count": 2,
   "metadata": {},
   "outputs": [
    {
     "data": {
      "text/html": [
       "Under these <a href=\"presumptions.txt\">presumptions</a>, we begin our proof of<br><strong id=\"abs_pos_def\">abs_pos_def:</strong> <a class=\"ProveItLink\" href=\"../../../__pv_it/theorems/e98c866891fc78e9de1856f83fa8b344e773f2e30/expr.ipynb\"><img src=\"data:image/png;base64,iVBORw0KGgoAAAANSUhEUgAAAPIAAAAVBAMAAACOB66tAAAAMFBMVEX///8QEBCIiIhmZma6urrM\n",
       "zMxUVFQiIiJERETc3Nzu7u6qqqp2dnaYmJgyMjIAAAAcRTyBAAAAAXRSTlMAQObYZgAAA0pJREFU\n",
       "SMe9Vk1oE0EU/tL8b7JpBQUVhFhtb0LQi2DFiognMRe1ekkIiggiVahaKhIES4oKAUEFlW4ttKVI\n",
       "ExSRSKGhrReFEvGgLf4EtII/1KIokvbgezuTpk1mS3px4O2+N/vefPN+5s0CVYyjZe//MO4JGpfi\n",
       "uErHl1TNenOWi2akUZ6Fd2odLS7IEtm/5RlwUmU6oF5x9G0YLt4qGb3gia9qvUBSkCXyN/QnMaQy\n",
       "/aJeMK21Q2Nnyeg2hyauRn4lyQpZr4M/D3+w0lIPKRd8CUyQ4xytIAIGvdJq5HZJVsieKHwFaHVS\n",
       "JF+cUcG6lclHJzBioIcTWQf9+eDgLTWwt1WQJXJtFI454JOQariorgjeYsU/wIE0As0wjf4mEhfV\n",
       "ejUhQYx4Y2yjUYGcCsHxExgTUgs/hgyT38Qbb9q6vqxifxFyEH5ek4yOA11qZE9OECE61uGH9Nk/\n",
       "Yw627s7CScjvTW3nqvM0zohivU60OxmYZX7C1P/Ie5kHIkHoXGJktEcUW+l8XjsRk8lKCyLEnhy2\n",
       "V0a7OwQnLfbEFBqFty1mzXSQgxtgL6tcL/kcycLHGSQjt0iQGY3hbTmtxXB+F6KtWRAh7jJwFlbR\n",
       "jjDfL2sLF/ixGrAX4A4qo+3kUJCRP+cufnmTGYR+FxiuQF4L7beywnxzEtl7Ssz1ZSWyLY5UuLLC\n",
       "RtILyN78IWJ6G6fh4NztfUxT5dHW5uGbXZpndtETh14A9okjfMmcb4OMdiqLEZTy/JnZBPDBgIOj\n",
       "zUZdxygObc4CAvxxalJRYdocXPmMRSeRFWb2HAwlixWWSuN0eU8XnaRYYXhEW7CHnK3o5Y9PM6Wu\n",
       "HBJEiJfxOpqt7J4d6KGANgnBxYnZIXg6M56gfs5fpu9Oa2sIjBPCRrVUB7Z0TRSHE4lE8M7BBT2O\n",
       "ikN0kr76I7HmSuQH9XQmMS3rJ1/qwxRLLdZwc3P5FTTaSDsNhKWRTschlfRMGS7+aL9PClV2T7lc\n",
       "q2QotJqxbPcUo3+xkS0Z2Q9/2Ow8YbOlV3NjyKRUf2PIq3KxkSP2cCdw1YzgTGfxMHiSgpZHVt6S\n",
       "XdbAxVtySaOmPK/oz8AaZMAamX1ZbmeL/4YapNig0tFX+jc0KYz+ARpzD6VtXfOMAAAAAElFTkSu\n",
       "QmCC\n",
       "\" style=\"display:inline;vertical-align:middle;\" /></a><br>(see <a class=\"ProveItLink\" href=\"../../../__pv_it/theorems/7998e6aec7316c7b090fbefeffbdab1d3d852be30/dependencies.ipynb\">dependencies</a>)<br>"
      ],
      "text/plain": [
       "abs_pos_def: forall_{a in Complex} ((|a| = 0) <=> (a = 0))"
      ]
     },
     "execution_count": 2,
     "metadata": {},
     "output_type": "execute_result"
    }
   ],
   "source": [
    "%proving abs_pos_def"
   ]
  },
  {
   "cell_type": "code",
   "execution_count": null,
   "metadata": {},
   "outputs": [],
   "source": []
  }
 ],
 "metadata": {
  "kernelspec": {
   "display_name": "Python 3",
   "language": "python",
   "name": "python3"
  }
 },
 "nbformat": 4,
 "nbformat_minor": 0
}