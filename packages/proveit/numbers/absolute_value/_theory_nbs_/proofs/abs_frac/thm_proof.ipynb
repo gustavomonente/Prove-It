{
 "cells": [
  {
   "cell_type": "markdown",
   "metadata": {},
   "source": [
    "Proof of <a class=\"ProveItLink\" href=\"../../../../../_theory_nbs_/theory.ipynb\">proveit</a>.<a class=\"ProveItLink\" href=\"../../../../_theory_nbs_/theory.ipynb\">numbers</a>.<a class=\"ProveItLink\" href=\"../../theory.ipynb\">absolute_value</a>.<a class=\"ProveItLink\" href=\"../../theorems.ipynb#abs_frac\">abs_frac</a> theorem\n",
    "========"
   ]
  },
  {
   "cell_type": "code",
   "execution_count": 1,
   "metadata": {},
   "outputs": [],
   "source": [
    "import proveit\n",
    "theory = proveit.Theory() # the theorem's theory"
   ]
  },
  {
   "cell_type": "code",
   "execution_count": 2,
   "metadata": {},
   "outputs": [
    {
     "data": {
      "text/html": [
       "Under these <a href=\"presumptions.txt\">presumptions</a>, we begin our proof of<br><strong id=\"abs_frac\">abs_frac:</strong> <a class=\"ProveItLink\" href=\"../../../__pv_it/theorems/f7206b446ceddb0ec4804fdc296eb09adddd6d500/expr.ipynb\"><img src=\"data:image/png;base64,iVBORw0KGgoAAAANSUhEUgAAAOEAAAAyCAMAAACdx0zJAAAAQlBMVEX///8GBgYMDAxRUVEoKCgU\n",
       "FBQNDQ0QEBCIiIhmZma6urrMzMxUVFQiIiJERETc3Nzu7u6qqqp2dnaYmJgyMjIAAAA2Mj06AAAA\n",
       "AXRSTlMAQObYZgAABFVJREFUaN7NmomyoygUQJnpngFkB/n/X21A2fFF20RCVaeeaa7heHcQgKlD\n",
       "LzdvQOTwWlLwHUPrdz+ieL2sXwGIKPgUITDfgKgg+Bwh4Ho6oITLJwnfcvt7g+MUHg6iyC3Ct5jI\n",
       "PRu1KQweLAXeIwRssp0y3KMIrDGC8jJhlisJlRUzAU3x8xFlge671V7WYSFX6bR4iDNUyDtzlNC4\n",
       "T8yvEpZyFaGxch4gsUtHiMOCGLpKWMpVhNKieYQY9iEF8rAqcpWwlKsjzzox7UPaEUqrQ3i4Gksr\n",
       "uZoQzYs1xJoBoXKfdAVKXCQs5GpCUf3MsxVp9XB3FO68xjAK9EUrLeWa/Ain9RgcDlK7pAgRQdFy\n",
       "NZYWcg0hZ84Zc2x9UKOQnyhe7tY0/tJ5p1Yp8DyXPKTFzxAaF2FFfJqCPxloqkT1azzr133C8ENR\n",
       "dVmZT1Td6hkdBmMxWvoh2KNFKXkTISI/X1sfTC3349FWo8nENwhfDet9jwZs/mT213VJ/JJQr8W4\n",
       "1DBAnysWLyIHFdxypqxbjucHCqRRbx34IuGNtBScz3+gUTLU/eNSXFNGi0jID+djbxvG4amusKB2\n",
       "gGLzOEtox6Ns0sJNtNkou7HGiCeVxtjNkoS7h09WPSZcywgpAhfzOu7atCHhR3S4EYoVkGH9FuOB\n",
       "4UpIv0ojAps6IKzih38We08D1U0rrfzwUqnJNtVxQXd3khjRleR0iajcHTU4GlHb/4khYZy/zdXb\n",
       "V34qM12keSqWwi00KLwbqWTELSouEjEJEC5KVyNNF3ELwn0+Ddnnf/fP7DdjqMsW78qHzcFFe4yR\n",
       "motYRGHHQ5JLhq5kdXpNYUaqnwj3+RuDAlmHEHUZf3kXYV3EdCc9sQA2O7p3mHyY4DeNMXXIQSlu\n",
       "/UIR8gPhPj8YA49VkxewS1e1Vd/8GwMah2zw9ev2Kcm1hFv/X167J86N3Hm9hXnm7NpYopzpOsJ9\n",
       "PnXR4L/fPiaYo1hat/jgnxyN8fDrlzqMci0hafeioPCbYMY3Gm5Rzq2MB9BJcQKHv/U4H8b5MVME\n",
       "a8WjfAiOuqeqIr9gpVGuJWxKfBcAKVLIJz7idUfofr7H0zTp4janZGylaf6WKXZEPagbAFuHhEul\n",
       "7fOESa5rNX7YiqrY0eaHw/2IkezLKh7bIaFmfxdpklxL2JQW1SLPFuIjwtflrBkra6UIYXWdMMm1\n",
       "hPC4rT+9ZzO4hXndS5Ohw0nr2nGZDOs0YZZrCMU7Nr3/8vBjsCMcD9zSqk4TZrmGcOKOcO2IEQWv\n",
       "VQo7TZjlBpuJs8YyOJnZstqSDPg0YZZrCGeezFRnexEl1AG57zhNmOXaY4uJp2tVNE2E6TDwImGS\n",
       "qwnh3PeGoO4IqSnfXzhPmOUqwsmn3OWbChHKdafaXAzTIVskuYpwnXrI/bYFHHdPCsrJhAKSTxJ+\n",
       "wRtDQLFPElIM5g9MP0doOPiGQe9n5PqgIl19yduXTosf8hWZ9vzAH6ydQNWRha1BAAAAAElFTkSu\n",
       "QmCC\n",
       "\" style=\"display:inline;vertical-align:middle;\" /></a><br>(see <a class=\"ProveItLink\" href=\"../../../__pv_it/theorems/0e23ebc2471341436c57f0d9b5b67944123a0e510/dependencies.ipynb\">dependencies</a>)<br>"
      ],
      "text/plain": [
       "abs_frac: forall_{a, b in Complex | b != 0} (|a / b| = (|a| / |b|))"
      ]
     },
     "execution_count": 2,
     "metadata": {},
     "output_type": "execute_result"
    }
   ],
   "source": [
    "%proving abs_frac"
   ]
  },
  {
   "cell_type": "code",
   "execution_count": null,
   "metadata": {},
   "outputs": [],
   "source": []
  }
 ],
 "metadata": {
  "kernelspec": {
   "display_name": "Python 3",
   "language": "python",
   "name": "python3"
  }
 },
 "nbformat": 4,
 "nbformat_minor": 0
}