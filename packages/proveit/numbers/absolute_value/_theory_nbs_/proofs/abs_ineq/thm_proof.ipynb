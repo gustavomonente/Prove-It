{
 "cells": [
  {
   "cell_type": "markdown",
   "metadata": {},
   "source": [
    "Proof of <a class=\"ProveItLink\" href=\"../../../../../_theory_nbs_/theory.ipynb\">proveit</a>.<a class=\"ProveItLink\" href=\"../../../../_theory_nbs_/theory.ipynb\">numbers</a>.<a class=\"ProveItLink\" href=\"../../theory.ipynb\">absolute_value</a>.<a class=\"ProveItLink\" href=\"../../theorems.ipynb#abs_ineq\">abs_ineq</a> theorem\n",
    "========"
   ]
  },
  {
   "cell_type": "code",
   "execution_count": 1,
   "metadata": {},
   "outputs": [],
   "source": [
    "import proveit\n",
    "theory = proveit.Theory() # the theorem's theory"
   ]
  },
  {
   "cell_type": "code",
   "execution_count": 2,
   "metadata": {},
   "outputs": [
    {
     "data": {
      "text/html": [
       "Under these <a href=\"presumptions.txt\">presumptions</a>, we begin our proof of<br><strong id=\"abs_ineq\">abs_ineq:</strong> <a class=\"ProveItLink\" href=\"../../../__pv_it/theorems/4c1da460d450af322090f223880e297b5b5b99910/expr.ipynb\"><img src=\"data:image/png;base64,iVBORw0KGgoAAAANSUhEUgAAAb4AAAAXBAMAAACGxzdIAAAAMFBMVEX///8QEBCIiIhmZma6urrM\n",
       "zMxUVFQiIiJERETc3Nzu7u6qqqp2dnaYmJgyMjIAAAAcRTyBAAAAAXRSTlMAQObYZgAABTxJREFU\n",
       "WMPdWF1oHFUUPrs7k9m5O5NUwRefxl1MQ1EbLK2KbRxTsPhgs32RxZcuIUECJcRgaJW0lNCGjWJd\n",
       "idRSKY5BItYYF0RFH2RJFXUtuKhQhCoDtgrxhyAWbETw/s7cuTMT2/XJHvh2Zs/e8+18d849c+4A\n",
       "/HfTPX7yGNxgdobCcvnXjxMHfbBBKINkhXryP8X9Z9IviwwW8Inju87koaMU/6Kvq54eShGxsZT/\n",
       "GksgSLWxEF+Q76ud6euuUyTp21wOr8RPD6WI2DIkkgR+UyKIWHYqOpjjFIk52pm+rxni+tCnjjRs\n",
       "JT2UImKWk0wi/N39IYFsS5PKYI5uXBysRmf6nmKI6TPvacvDXuVHfB/1ajSUIpp3m5JJhL/ydEgg\n",
       "2fxhdTCH3Tp79qXO5JkTDKo+czw6X93s9yy53uPRUALFLiWTCP9IMSCQ7OTP8cEcf9Zq053py/Yz\n",
       "YH0LvS/e4XB9+gmhF5UceMEDi6VUha4MLxKa7Q/pFu4G81aAcwoJ5+Z+5BsBASqODbLcr1xKIOEY\n",
       "BZjbQIQWU7XS5Gf5NoPloqY9afhcXy2oCpa2CbYC2LTA6DcdxPbEaiQ0L+Vg80HIrgF8r5Bwbu63\n",
       "GmwxkcAluOAcoV+OJ5Fw7E4qcIXJ2QG2oPOhUlaiL8J73GE0GCzX8qx1rc71bd4iIl7O+VDDZDSX\n",
       "etmdqzTkUCNMQrMxAHlc6N5XSDg39xtg+oKgBV96D9Mpn/QSSDgMtjAke/PcLnCa1oKiD+ZHyeeT\n",
       "0MPZMi4Dvn+UVKy/Cy0e4GUc+B3fOTyh8LqoLIfkUILl34hdRnAz9OA53a+QcG7u/4omHAv0yORR\n",
       "s6c9MTgk4bDaRlSe/expD+uz31L1wTzOA3QFMg1VH1DSoH5+dB8/GfL0K1yfeYC5FpuqviA/1mF/\n",
       "OdAXkjBu7sfV81FBAGTyeL79UI+RcJg+CVjZ3ovdWi8Y3m4yDutbkvQNVgkzLB0D/SoYbTU/gZKG\n",
       "z7+9o+w4AFlcpTWan/YRep+mICU/ASfzbfiwRyVh3Mxf6OdPdhpIJk9Mzo9llURgbgRnsDdukDvR\n",
       "4+1jHZvTzG2T9DXXdfr8WVrV18Fw1PpS8LZiCql/qRyjh1nIV0V9YU/k5XpqfcFDZ0HUkZCEczM/\n",
       "0UY00sAPcSUJlqlecxUSgXfw9OrwK/n19B7oQ7RkOzsed0N95msTWboI7mrj+5fh+kjdp3CHGs+T\n",
       "flfqz07S6dwBQ/g6cqzgdhHC+5VQ6fmQq2p/48NOhYRzM3+F5ygJ1P7Kr5nh/JijCokAS++rdNBO\n",
       "GNYP1Woz4Hx+p6QPX2IXHoX6GmT99fBFQ/JOo8/3xeLCrnZCf71YfID0mOWgDxWdoAjVpMc0Gi6R\n",
       "i7gc46DczD9CPoqMAA1vKcU2BhKJgE1qj76ms+J4C1RZfr7bkvQZbqYM6DM3Uj9T+zPJBkjp5OdY\n",
       "KvI26s/w4gE0kbJXoX76TzokNXYqiQC1VyzfglMeTGlr8AnTZ8n1xSgPAbqXspeC5196fy12Rj76\n",
       "49r763F425X767S+O7m/jpEIsCT4ZqUF+xrwUJ8PeVyaCtO/oG1+qE8bPgE6S7Ps+WDN5OsUUX3o\n",
       "J9KnHCSDjXbeSdkf8VAKbodhJtgHSSQJ+yZBEPxGB09FSZbjQQ1UJ3WprzYj8dDPN+C5Dva3WnG7\n",
       "ciUb7W8HS0ROWq84d23725BkLhZUqHc198Ymmn4e0Pz0lwxZMc23J/7lt9fzfsJOeT9hX8/7CTJY\n",
       "QHaDdrGZrO+R81h+DdszN9orpNz/+/L/AUhis9YMQZhNAAAAAElFTkSuQmCC\n",
       "\" style=\"display:inline;vertical-align:middle;\" /></a><br>(see <a class=\"ProveItLink\" href=\"../../../__pv_it/theorems/249af50d0e5d6e050e6a1703e2b61f6ad06a8d790/dependencies.ipynb\">dependencies</a>)<br>"
      ],
      "text/plain": [
       "abs_ineq: forall_{x, y in Real | y >= 0} ((|x| <= y) <=> (((-y) <= x) and (x <= y)))"
      ]
     },
     "execution_count": 2,
     "metadata": {},
     "output_type": "execute_result"
    }
   ],
   "source": [
    "%proving abs_ineq"
   ]
  },
  {
   "cell_type": "code",
   "execution_count": null,
   "metadata": {},
   "outputs": [],
   "source": []
  }
 ],
 "metadata": {
  "kernelspec": {
   "display_name": "Python 3",
   "language": "python",
   "name": "python3"
  }
 },
 "nbformat": 4,
 "nbformat_minor": 0
}