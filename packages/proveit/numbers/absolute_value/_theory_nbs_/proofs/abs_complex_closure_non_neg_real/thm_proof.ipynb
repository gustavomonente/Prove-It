{
 "cells": [
  {
   "cell_type": "markdown",
   "metadata": {},
   "source": [
    "Proof of <a class=\"ProveItLink\" href=\"../../../../../_theory_nbs_/theory.ipynb\">proveit</a>.<a class=\"ProveItLink\" href=\"../../../../_theory_nbs_/theory.ipynb\">numbers</a>.<a class=\"ProveItLink\" href=\"../../theory.ipynb\">absolute_value</a>.<a class=\"ProveItLink\" href=\"../../theorems.ipynb#abs_complex_closure_non_neg_real\">abs_complex_closure_non_neg_real</a> theorem\n",
    "========"
   ]
  },
  {
   "cell_type": "code",
   "execution_count": 1,
   "metadata": {},
   "outputs": [],
   "source": [
    "import proveit\n",
    "theory = proveit.Theory() # the theorem's theory"
   ]
  },
  {
   "cell_type": "code",
   "execution_count": 2,
   "metadata": {},
   "outputs": [
    {
     "data": {
      "text/html": [
       "Under these <a href=\"presumptions.txt\">presumptions</a>, we begin our proof of<br><strong id=\"abs_complex_closure_non_neg_real\">abs_complex_closure_non_neg_real:</strong> <a class=\"ProveItLink\" href=\"../../../__pv_it/theorems/0773877b86bf3b944d28a3b3deafe40ea903e7470/expr.ipynb\"><img src=\"data:image/png;base64,iVBORw0KGgoAAAANSUhEUgAAAJsAAAAcBAMAAACE+tDfAAAAMFBMVEX///8QEBCIiIhmZma6urrM\n",
       "zMxUVFQiIiJERETc3Nzu7u6qqqp2dnaYmJgyMjIAAAAcRTyBAAAAAXRSTlMAQObYZgAAArZJREFU\n",
       "SMetlUtoE1EUhv88Jo/Jy526SxRFXEjwASn4CIiuFCP4iG4agqLiploli7ooUmsarQQCWlBwtNBF\n",
       "qDb4gkgXoXYhViGubEuFUdFFlNqNoKmI587cSSePYRrohST3nvvz3XPOPecGWJFhnSitCMd+TvmZ\n",
       "w4vlqI+YKnKn2fclBCSrqVZImJ+YuwaIv2Ap2E3FfgmCxOcnjUSjfRD+wFnGOzPcVsAb5fNJQ9Vo\n",
       "RajCGYSTTpaZ4WNrnbtqiPNdSP/7NKjOt5TJO0sQ1jAwxQyV1jhv2Ng7v5gQBjM0ETcVWO4CUbgX\n",
       "gCHmRW9rnKVgjHO5S+i9TbTXUX6zQI+SbXgLrXH3pWbcdCola7gOP8SIsr9eqbsIJeFNPn/HIMfv\n",
       "0YSLb9Z51+GCEFO74i3lBSH6/E6nrxjgdnNc7lVIUnFiRR9sYn+9/hBFQ1U9YIBLqzj7Wvzk3jmy\n",
       "Opynu+EKO8nVvRBlvc1z80yST7+puAdllhUF59JdxerUd1KnaWS0XFMkTljLfCmObyuLcUn4wdfd\n",
       "Km6PhIscd3ieBr+KyXCmIZoxwnnLTm05XczDdw8Y5+svKm4NqysVN6QvlO3xxkognFs+RrPhjV9h\n",
       "Z7ez7zmZ+Ha/ghP/wrPAcRY9zvUo2JA7ltmBUxTmZWo7PzPNzixtn1Vxi3DIRRVnC+pwQmJH883i\n",
       "aRfJwkIXhpnpZXFpO6QGexUfEiVedz26JsOUI9ZUpwgEWTtZEzhOlxS8e7T+NMKNrDuRjHLcSJ9U\n",
       "ewJirluLdbiIskOCsaxrVnIo4Tyk0LWejTY32YHrKdnopfpca/Zs50F4mevunTFMcKuttKz3Thti\n",
       "tfYPknyyC7ihPIbz/VpGhFVt4XwNr7uVcldnON8WzhkzETymIzTNBlPcnJnAE27jL9foEdaNZ23g\n",
       "bBJWevwHcEe6tuaeXf8AAAAASUVORK5CYII=\n",
       "\" style=\"display:inline;vertical-align:middle;\" /></a><br>(see <a class=\"ProveItLink\" href=\"../../../__pv_it/theorems/640cb3a66d2b8935f62af57bd032723baac3319d0/dependencies.ipynb\">dependencies</a>)<br>"
      ],
      "text/plain": [
       "abs_complex_closure_non_neg_real: forall_{a in Complex} (|a| in RealNonNeg)"
      ]
     },
     "execution_count": 2,
     "metadata": {},
     "output_type": "execute_result"
    }
   ],
   "source": [
    "%proving abs_complex_closure_non_neg_real"
   ]
  },
  {
   "cell_type": "code",
   "execution_count": null,
   "metadata": {},
   "outputs": [],
   "source": []
  }
 ],
 "metadata": {
  "kernelspec": {
   "display_name": "Python 3",
   "language": "python",
   "name": "python3"
  }
 },
 "nbformat": 4,
 "nbformat_minor": 0
}