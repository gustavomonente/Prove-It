{
 "cells": [
  {
   "cell_type": "markdown",
   "metadata": {},
   "source": [
    "Proof of <a class=\"ProveItLink\" href=\"../../../../../_theory_nbs_/theory.ipynb\">proveit</a>.<a class=\"ProveItLink\" href=\"../../../../_theory_nbs_/theory.ipynb\">numbers</a>.<a class=\"ProveItLink\" href=\"../../theory.ipynb\">absolute_value</a>.<a class=\"ProveItLink\" href=\"../../theorems.ipynb#triangle_inequality\">triangle_inequality</a> theorem\n",
    "========"
   ]
  },
  {
   "cell_type": "code",
   "execution_count": 1,
   "metadata": {},
   "outputs": [],
   "source": [
    "import proveit\n",
    "theory = proveit.Theory() # the theorem's theory"
   ]
  },
  {
   "cell_type": "code",
   "execution_count": 2,
   "metadata": {},
   "outputs": [
    {
     "data": {
      "text/html": [
       "Under these <a href=\"presumptions.txt\">presumptions</a>, we begin our proof of<br><strong id=\"triangle_inequality\">triangle_inequality:</strong> <a class=\"ProveItLink\" href=\"../../../__pv_it/theorems/79874490a27dd4254b3f684e8e19d1e5dbb87d690/expr.ipynb\"><img src=\"data:image/png;base64,iVBORw0KGgoAAAANSUhEUgAAAPkAAAAWBAMAAADwcyf0AAAAMFBMVEX///8QEBCIiIhmZma6urrM\n",
       "zMxUVFQiIiJERETc3Nzu7u6qqqp2dnaYmJgyMjIAAAAcRTyBAAAAAXRSTlMAQObYZgAAAyFJREFU\n",
       "SMe9lk1oE0EUgF92s02y2U0ungQlqO051KMVKyKepPGgFi+WYvEiEgpV1ArxoKSosCDUggqrPShF\n",
       "zKJ4qBQsWhAUYcFLWxACasUfQvGkOYgz83Ymu9nZaU8OPGZn3nvz7cy8mTcAmyonkhSGq+jsVgZt\n",
       "qU9iyfmwlKSzBmNd90RntzJok2qeVFSatP1RSX8EUrp5pSqjmzUFnfv0OMDkHe3+rqR/k9OhUI4A\n",
       "tAnsdVRzD3xMMmkqM3Rpayq4Xe6i50tYF70w4PE41h8gRucOpM19XgGTAgkBy1PRM04CfcgN0W9d\n",
       "Dj4uKOnc5z4wsd/Ozd1WLjzVSulvQoDpHzxEq0o69ykE8rten1TSdyI9N9C/NTrY2o49HDD8Wew+\n",
       "biyzltC5j1VGGQOY4q7ploR+E+n7ncJ6ZDDzr9twEJC9KqyzPqMw6zhd+NhNlAMs+ILyWqzujdOj\n",
       "weclRje3gV6LDJZvQ7GEAG1cXCAZFlZoHacLn3wVJQOaL+h098yF3b457Bo/g74tjK63IUMHsVqt\n",
       "r9tbrREAvQmNxQBgT3J8ii7rIFozZceB9nMfYx3F8jOdVf5DZHl+Duy7AAsReqoGjUpkKuToDnli\n",
       "ep+cMB2t43MXPpyeax4jitm+L/QG/tXnpkkswMHnRBFZ+cYivIzGfNGHfa44cem1Smjl0TpOFz7p\n",
       "KgpMnSKrPWG06f5d1MoFare60h11DQ/O5p0Ine5u57Yx6oOdqENrCZ378KiDZ+QX9LJBfyRbspuz\n",
       "1O7FPEQicYmqzlmRwXr8bDl8mebGGIGdOLSO04WPvohCgpDslqeNsE3TR47X6/XSnaMd+iGM+dHe\n",
       "6V3RE9f/XpJl0uy2QWvJieM+hQoK2CRcG052lVRFN+X1UDv9ARl9o5tWnmHVNy2vHgIKRqpz8jDM\n",
       "uBl3GSz6R7mBCksE0ixjuiq6JMtwhxA9yDLBeo0+3QtHPOMM2YrrLGO1rlW4cgo2el08OU8LZtis\n",
       "s4nXBc+w4YKpTiP7vpnXRcLcla8LXpFfZBLeTyfxZdWbRNcqkpcV7+xWBm1S0QO90vWMgP9d/gH9\n",
       "1P6UUpj7QQAAAABJRU5ErkJggg==\n",
       "\" style=\"display:inline;vertical-align:middle;\" /></a><br>(see <a class=\"ProveItLink\" href=\"../../../__pv_it/theorems/233a4d4c652bd90701ffb3c9c6939424ae27b6f30/dependencies.ipynb\">dependencies</a>)<br>"
      ],
      "text/plain": [
       "triangle_inequality: forall_{a, b in Complex} (|a + b| <= (|a| + |b|))"
      ]
     },
     "execution_count": 2,
     "metadata": {},
     "output_type": "execute_result"
    }
   ],
   "source": [
    "%proving triangle_inequality"
   ]
  },
  {
   "cell_type": "code",
   "execution_count": null,
   "metadata": {},
   "outputs": [],
   "source": []
  }
 ],
 "metadata": {
  "kernelspec": {
   "display_name": "Python 3",
   "language": "python",
   "name": "python3"
  }
 },
 "nbformat": 4,
 "nbformat_minor": 0
}