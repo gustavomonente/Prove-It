{
 "cells": [
  {
   "cell_type": "markdown",
   "metadata": {},
   "source": [
    "Proof of <a class=\"ProveItLink\" href=\"../../../../../_theory_nbs_/theory.ipynb\">proveit</a>.<a class=\"ProveItLink\" href=\"../../../../_theory_nbs_/theory.ipynb\">numbers</a>.<a class=\"ProveItLink\" href=\"../../theory.ipynb\">absolute_value</a>.<a class=\"ProveItLink\" href=\"../../theorems.ipynb#abs_rational_non_zero_closure\">abs_rational_non_zero_closure</a> theorem\n",
    "========"
   ]
  },
  {
   "cell_type": "code",
   "execution_count": 1,
   "metadata": {},
   "outputs": [],
   "source": [
    "import proveit\n",
    "theory = proveit.Theory() # the theorem's theory"
   ]
  },
  {
   "cell_type": "code",
   "execution_count": 2,
   "metadata": {},
   "outputs": [
    {
     "data": {
      "text/html": [
       "Under these <a href=\"presumptions.txt\">presumptions</a>, we begin our proof of<br><strong id=\"abs_rational_non_zero_closure\">abs_rational_non_zero_closure:</strong> <a class=\"ProveItLink\" href=\"../../../__pv_it/theorems/7124c28db2bca09860f97bb92cc3a1d00fd5088f0/expr.ipynb\"><img src=\"data:image/png;base64,iVBORw0KGgoAAAANSUhEUgAAAKcAAAAbCAMAAAAuwG/QAAAANlBMVEX///9RUVE2NjYQEBCIiIhm\n",
       "Zma6urrMzMxUVFQiIiJERETc3Nzu7u6qqqp2dnaYmJgyMjIAAACxcnZJAAAAAXRSTlMAQObYZgAA\n",
       "As1JREFUWMPll9uSnCAQhknshqY5v//LBlAR0dk16l6kQtXMaA3CR/99Uoj/dCj5zjq0XsDPYNJL\n",
       "C/F6IeknOKMtsHakt/c5hQ/vY2JVyY/ae/mAU+hyythuw3Nuk+w9ToXMHEmecgKWJdxOsmfDo7jD\n",
       "aYm0yT+RuDBQzGMqX2E5fflawQ0/l31ytzhZopp5VTNWT6NdZ8bNsE9l/5YzsM6jeRyE1fvYtuju\n",
       "ObHcBG/LMPq5OcMkLnAqhr2HRWFwIZaC7ZET6rqJy9D+hWiPOyyDHmGyA6cd48CQUEsIy9Cm9pyy\n",
       "6kTVN9hcl7fs5rMOBz/jnlNOeWJMoz1p3EiCcIvPqXwZjpwqFUSJ9ZTXSw5UTxL2EHiROk47hdW1\n",
       "dpx8sl7P6TZjbH5fn9ezL3/MGp48dlaoMNPy2Q2NHSdWsfSY+FVNOHVsCzbdnfAnutqZsxSmYxRZ\n",
       "5xHzPwaoznElPebx+xc6YQqjVqM9e86J6w5q4DxJf9zHEZ3mkfq8iSftQ2BnbLEImHJYC24+qKnx\n",
       "ds7Jne42lYkuHeL9oEKJHm556UxXlea92awVyyJQbE5b56gZEETo+62y/zQGEnHP6WppEeXxnhOP\n",
       "jZrf8jyeeZ5c8rLDRXabTaTSruwHG5Y2EIruWXXMup/HEfT5kzNP0CT8mD/1saAEnOsmhi/zskjL\n",
       "GTEfR+lq17Z34/RN9U95Sfb1yBKAMgRy5LTE8vBoSDGmTxURuRltq881bJSuyT/bxDXdfd9lf6jv\n",
       "8lLdlJ77urlOcZ9WjzDGf0biUMKHttMvcVQCPnzTn6G/1YfMc7xxEcGfpaXR/LmCqFRDzqut+6t5\n",
       "CWqa+a4ETPc5c3LKLSiezAwHO0sCB7Mzc3MWSNpzuvaWQu6tfr4PPPXVvzD755LWLm40l18YFwb1\n",
       "pAu73CEZNsGZS42Kw7dfuf6mf7eQO7RrryVOvsyJVvxD4w8q3xxhzDvi9gAAAABJRU5ErkJggg==\n",
       "\" style=\"display:inline;vertical-align:middle;\" /></a><br>(see <a class=\"ProveItLink\" href=\"../../../__pv_it/theorems/e385d1b4b45972ce6018cff614c850a916f2d8a50/dependencies.ipynb\">dependencies</a>)<br>"
      ],
      "text/plain": [
       "abs_rational_non_zero_closure: forall_{a in RationalNonZero} (|a| in RationalPos)"
      ]
     },
     "execution_count": 2,
     "metadata": {},
     "output_type": "execute_result"
    }
   ],
   "source": [
    "%proving abs_rational_non_zero_closure"
   ]
  },
  {
   "cell_type": "code",
   "execution_count": null,
   "metadata": {},
   "outputs": [],
   "source": []
  }
 ],
 "metadata": {
  "kernelspec": {
   "display_name": "Python 3",
   "language": "python",
   "name": "python3"
  }
 },
 "nbformat": 4,
 "nbformat_minor": 0
}