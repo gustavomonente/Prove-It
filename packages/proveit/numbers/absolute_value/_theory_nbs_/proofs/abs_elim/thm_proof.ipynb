{
 "cells": [
  {
   "cell_type": "markdown",
   "metadata": {},
   "source": [
    "Proof of <a class=\"ProveItLink\" href=\"../../../../../_theory_nbs_/theory.ipynb\">proveit</a>.<a class=\"ProveItLink\" href=\"../../../../_theory_nbs_/theory.ipynb\">numbers</a>.<a class=\"ProveItLink\" href=\"../../theory.ipynb\">absolute_value</a>.<a class=\"ProveItLink\" href=\"../../theorems.ipynb#abs_elim\">abs_elim</a> theorem\n",
    "========"
   ]
  },
  {
   "cell_type": "code",
   "execution_count": 1,
   "metadata": {},
   "outputs": [],
   "source": [
    "import proveit\n",
    "theory = proveit.Theory() # the theorem's theory"
   ]
  },
  {
   "cell_type": "code",
   "execution_count": 2,
   "metadata": {},
   "outputs": [
    {
     "data": {
      "text/html": [
       "Under these <a href=\"presumptions.txt\">presumptions</a>, we begin our proof of<br><strong id=\"abs_elim\">abs_elim:</strong> <a class=\"ProveItLink\" href=\"../../../__pv_it/theorems/cdd8d792a4738b151a3953fd3bd8f8811c65a51d0/expr.ipynb\"><img src=\"data:image/png;base64,iVBORw0KGgoAAAANSUhEUgAAAJcAAAAVBAMAAAC5yWGZAAAAMFBMVEX///8QEBCIiIhmZma6urrM\n",
       "zMxUVFQiIiJERETc3Nzu7u6qqqp2dnaYmJgyMjIAAAAcRTyBAAAAAXRSTlMAQObYZgAAAhhJREFU\n",
       "OMudlE9IFFEcx7+MO+7u7NvNgydPg6LEEiSIx0QUlE4uBAYSBP2DiCKiTkp4nFXERQS9SE8Fi6WD\n",
       "4CGUDoPtaVpsDtI/CpaCoEAZgqDy0u+9t7O4zsaT/Q0z7/dm3nzm9/v+3vyAU9tExGnWkj5KoV9q\n",
       "uGKbzopwPmthz6CDtRaA18L5oYV918IsCmtZ5DCtY6V7tTDsAhkOsE0dLF7Qw1bpm16xuKTNcgl6\n",
       "WGYQ+O04U1pYl2Ks9SyesyMwq/P2EOXISIqbQD7yck5cnn/i4XxOwiw3/SBeUbC9Q2Ff5Tq8sx9T\n",
       "jlSBYVmHE/ZWqDhj1QozKWGMs7+xQiQyD2/4RSB1n7SF4R978uLs9S80jNC9Njqq1q4iQ2K6gWYc\n",
       "jhjMgFL147XkX/b5BoNnk38pm2zDo3oYcMZuWICfISxZGQ/vvd8ugmAfRaTm7HHYZJVxNRfClGbf\n",
       "5FPzl7jGKE3kb4gd19+Ti1E5JMwlAe4CATrqC5Di52HwSGQ7RoCsKgC2iGjwe/HBDBSsrxfpO/UF\n",
       "eCVhY5vzWImkGTtKBNQH0OJWdTBxAKxLWMuth0D/ia0xKmEbnWsX/AjMupbtEp0iIyRIy1f+AJcd\n",
       "x7ENtrDf3O/0tOaZgYlWlWbqCrfK5XKpiR9d2RNWYWA5pZnnRlfmT9WClG3s73rArNi0e+76QDPN\n",
       "MVGonxuk2f/bdnfodzdc8QH4B8I/ppkxuYHeAAAAAElFTkSuQmCC\n",
       "\" style=\"display:inline;vertical-align:middle;\" /></a><br>(see <a class=\"ProveItLink\" href=\"../../../__pv_it/theorems/4b95b851e71b43eaf27ffdb2cde9105338844cb60/dependencies.ipynb\">dependencies</a>)<br>"
      ],
      "text/plain": [
       "abs_elim: forall_{x in RealNonNeg} (|x| = x)"
      ]
     },
     "execution_count": 2,
     "metadata": {},
     "output_type": "execute_result"
    }
   ],
   "source": [
    "%proving abs_elim"
   ]
  },
  {
   "cell_type": "code",
   "execution_count": null,
   "metadata": {},
   "outputs": [],
   "source": []
  }
 ],
 "metadata": {
  "kernelspec": {
   "display_name": "Python 3",
   "language": "python",
   "name": "python3"
  }
 },
 "nbformat": 4,
 "nbformat_minor": 0
}