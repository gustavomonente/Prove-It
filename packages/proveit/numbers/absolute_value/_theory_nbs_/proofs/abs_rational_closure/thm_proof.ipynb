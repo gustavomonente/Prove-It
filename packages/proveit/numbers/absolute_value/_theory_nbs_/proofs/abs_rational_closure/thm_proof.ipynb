{
 "cells": [
  {
   "cell_type": "markdown",
   "metadata": {},
   "source": [
    "Proof of <a class=\"ProveItLink\" href=\"../../../../../_theory_nbs_/theory.ipynb\">proveit</a>.<a class=\"ProveItLink\" href=\"../../../../_theory_nbs_/theory.ipynb\">numbers</a>.<a class=\"ProveItLink\" href=\"../../theory.ipynb\">absolute_value</a>.<a class=\"ProveItLink\" href=\"../../theorems.ipynb#abs_rational_closure\">abs_rational_closure</a> theorem\n",
    "========"
   ]
  },
  {
   "cell_type": "code",
   "execution_count": 1,
   "metadata": {},
   "outputs": [],
   "source": [
    "import proveit\n",
    "theory = proveit.Theory() # the theorem's theory"
   ]
  },
  {
   "cell_type": "code",
   "execution_count": 2,
   "metadata": {},
   "outputs": [
    {
     "data": {
      "text/html": [
       "Under these <a href=\"presumptions.txt\">presumptions</a>, we begin our proof of<br><strong id=\"abs_rational_closure\">abs_rational_closure:</strong> <a class=\"ProveItLink\" href=\"../../../__pv_it/theorems/cb95f31a1ae9e6f275a0ab26e9570a7241abe0ab0/expr.ipynb\"><img src=\"data:image/png;base64,iVBORw0KGgoAAAANSUhEUgAAAJ0AAAAcBAMAAACJ5KCYAAAAMFBMVEX///8QEBCIiIhmZma6urrM\n",
       "zMxUVFQiIiJERETc3Nzu7u6qqqp2dnaYmJgyMjIAAAAcRTyBAAAAAXRSTlMAQObYZgAAAu9JREFU\n",
       "SMetlU1oE0EUx//ZZLPJZJP24ElRVrSl+Fki1h4qxI+TIEaLCh60FEULIj34cbBIkIppBA0Uai/F\n",
       "QMVDKSZYFIJfRXto/YD1JrVCsOihB+1F0B7ENzuzW7bJJi30we7OvHnzmzfz3psFVkeUN+OrAwp0\n",
       "WZ8ZPFuOtZqoadJ/jr8voy6n1OadWMaa/bcA9hu+QqCjpu0ccMp2NedlNNoL9S80Ex9r4fwGMCHb\n",
       "uvfWR+fUBWgGNFqyxBVfPQwf5Krw2tN3z4rWDpP88xlQmoH3clsV5S28eY/OZ9mPDDVYU4GfX10C\n",
       "4XlgkDThlAdvXRVe725ins6BTSZkfIHrQIw+eqEyLrxQzovevnbDSmCTTir0sIO1WvpNVv610vi7\n",
       "kZH7Hu5F68t46k0Z5liYDktJZNSkqI8P1MVGev6k0z1e4S0JXrgtvlbyHttZM6CaVBzmhGvCERql\n",
       "9O7z4IVSgrcvG5uXvC57bH+EDkk1XromnCFnD4CVXMl0sSUrm7EOi8fWw5+SPCdyxwTveSRNkrHz\n",
       "i2w0OlrZZS92meFG6F9kX2u2eH4rWS2euuEnCR8LWvstTLn8y5ONbmp293NxBMoQ2FbpYEzwfCnk\n",
       "k4K3mFkhEQ93yXL/wiVe9MON3xHg048XAUM6HBL7zY/jtR3feueeMlM8X0z3+XFH+qhq2BWqwBhX\n",
       "TZOFYYjhoIhHvoBLkazgxZ25Ezyf21EWX4x1U2Y0q90Y5qotnCfvWkXkX8iIXtWlf5qT+tE9WTbr\n",
       "dg+f+KuOvPEVlA6cpEgZT4uLvICoD9bZMLBZ8tiFQw7w36+lddVq6cnJfDY0nQtaZU7x2G7brSmv\n",
       "t8CkqDc+Ell6gX6zG77smcPQeekoLdCbbHUbqt1/+tSruOsvxBacaHU+2Qvc4c2dPfecZY9W5aE/\n",
       "PetSRpf4q9D5AZmDjiJYWNb9bIuWrKQdHCraBccrscFeLFmTN1NRy7bFnV/P2Ep+xZ7X8qJEEivg\n",
       "+XNYdfkPNDbFdH4wiy8AAAAASUVORK5CYII=\n",
       "\" style=\"display:inline;vertical-align:middle;\" /></a><br>(see <a class=\"ProveItLink\" href=\"../../../__pv_it/theorems/d6ff2b08dcd98761f30650ab80fa99eeef00299a0/dependencies.ipynb\">dependencies</a>)<br>"
      ],
      "text/plain": [
       "abs_rational_closure: forall_{a in Rational} (|a| in RationalNonNeg)"
      ]
     },
     "execution_count": 2,
     "metadata": {},
     "output_type": "execute_result"
    }
   ],
   "source": [
    "%proving abs_rational_closure"
   ]
  },
  {
   "cell_type": "code",
   "execution_count": null,
   "metadata": {},
   "outputs": [],
   "source": []
  }
 ],
 "metadata": {
  "kernelspec": {
   "display_name": "Python 3",
   "language": "python",
   "name": "python3"
  }
 },
 "nbformat": 4,
 "nbformat_minor": 0
}