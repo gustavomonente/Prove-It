{
 "cells": [
  {
   "cell_type": "markdown",
   "metadata": {},
   "source": [
    "Demonstrations for the theory of <a class=\"ProveItLink\" href=\"theory.ipynb\">proveit.numbers.absolute_value</a>\n",
    "========"
   ]
  },
  {
   "cell_type": "code",
   "execution_count": 1,
   "metadata": {},
   "outputs": [],
   "source": [
    "import proveit\n",
    "from proveit import used_vars, free_vars\n",
    "from proveit import a, b, c, x, y\n",
    "from proveit.logic import Equals, InSet, NotEquals\n",
    "from proveit.numbers import zero, one, two, three\n",
    "from proveit.numbers import (Abs, Add, frac, Exp, Greater,\n",
    "                            GreaterEq, Less, LessEq, Mult, Neg)\n",
    "from proveit.numbers import (Complex, Integer, Natural, NaturalPos,\n",
    "                            Real, RealNeg, RealNonNeg, RealPos)\n",
    "from proveit.numbers.absolute_value  import abs_val_def_sqrt\n",
    "%begin demonstrations"
   ]
  },
  {
   "cell_type": "markdown",
   "metadata": {},
   "source": [
    "# Absolute Value (and norm) $|a|$"
   ]
  },
  {
   "cell_type": "markdown",
   "metadata": {},
   "source": [
    "<div style=\"line-height:1.4; font-size:14pt\">\n",
    "\n",
    "<a href='#introduction'>Introduction</a><br>\n",
    "<a href='#simple_expressions'>Simple Expressions Involving Absolute Value $|a|$</a><br>\n",
    "<a href='#common_attributes'>Common Attributes of an Absolute Value Expression</a><br>\n",
    "<a href='#axioms'>Axioms</a><br>\n",
    "<a href='#theorems'>Theorems</a><br>\n",
    "<a href='#further_demonstrations'>Further Demonstrations</a><br>\n",
    "    <ol>\n",
    "        <li><a href='#demo01'>Simplifying $|x+1|$ and Deducing Number Sets</a></li>\n",
    "        <li><a href='#demo02'>Simplifying $|a+b+2+3|$ and Deducing Number Sets</a></li>\n",
    "        <li><a href='#demo03'>Simplifying $1 + |x+1|$</a></li>\n",
    "    </ol>\n",
    "<a href='#misc_testing'>Misc Testing (temporary)</a><br>\n",
    "</div>\n"
   ]
  },
  {
   "cell_type": "markdown",
   "metadata": {},
   "source": [
    "## Introduction <a id='introduction'></a>"
   ]
  },
  {
   "cell_type": "markdown",
   "metadata": {},
   "source": [
    "<font size=3>The concept of the absolute value of a real number, and its generalization to the norm if a complex number, is ubiquitous in mathematics and often serves a key role in various proofs. The absolute value of a real number $x$, or the norm of a complex number $x$, is captured with the operation `Abs(x)`, along with a standard axiomatic definition and a variety of related theorems.</font>"
   ]
  },
  {
   "cell_type": "markdown",
   "metadata": {},
   "source": [
    "## Simple Expressions Involving Absolute Value $|a|$ <a id='simple_expressions'></a>"
   ]
  },
  {
   "cell_type": "markdown",
   "metadata": {},
   "source": [
    "<font size=3>It is straightforward to construct absolute value expressions. Here are some basic examples of such expressions:</font>"
   ]
  },
  {
   "cell_type": "code",
   "execution_count": 2,
   "metadata": {},
   "outputs": [
    {
     "data": {
      "text/html": [
       "<strong id=\"abs_value_a\">abs_value_a:</strong> <a class=\"ProveItLink\" href=\"../__pv_it/demonstrations/5c19adb414aad0ce681b3fe0c453fe0a522c21ce0/expr.ipynb\"><img src=\"data:image/png;base64,iVBORw0KGgoAAAANSUhEUgAAABMAAAAVBAMAAABWJ8jiAAAAMFBMVEX///9UVFSqqqoiIiJERESY\n",
       "mJgyMjIQEBBmZmbc3NyIiIi6urp2dnbu7u7MzMwAAABs7OAJAAAAAXRSTlMAQObYZgAAAFlJREFU\n",
       "CNdjeMsAAXwXGE5DmTwbKGBy9nTVQpnbJ7B9gDB5Sxk4HCBMjr8MzAsgTHYHhvsPIMz7Bxj0oSbc\n",
       "V2AQY5oAZrIsYDXkgZogtW7ialKdsw7K5HoAAMcCLyafaf37AAAAAElFTkSuQmCC\n",
       "\" style=\"display:inline;vertical-align:middle;\" /></a><br>"
      ],
      "text/plain": [
       "abs_value_a: |a|"
      ]
     },
     "execution_count": 2,
     "metadata": {},
     "output_type": "execute_result"
    }
   ],
   "source": [
    "# basic absolute value expression\n",
    "abs_value_a = Abs(a)"
   ]
  },
  {
   "cell_type": "code",
   "execution_count": 3,
   "metadata": {},
   "outputs": [
    {
     "data": {
      "text/html": [
       "<a class=\"ProveItLink\" href=\"../__pv_it/demonstrations/3962fd0916a3796129ab081548df4a84c2b9ee5e0/expr.ipynb\"><img src=\"data:image/png;base64,iVBORw0KGgoAAAANSUhEUgAAAKUAAAAVBAMAAADVzzOcAAAAMFBMVEX///9UVFSqqqoiIiJERESY\n",
       "mJgyMjIQEBBmZmbc3NyIiIi6urp2dnbu7u7MzMwAAABs7OAJAAAAAXRSTlMAQObYZgAAAfxJREFU\n",
       "OMuNlT1Iw0AUx1/TtKYf13Zy6CBdnayIg0WkgyA4SMFFt6oQBAcXFRyEIk5FMA6CYzehQsnm2III\n",
       "YpeIYBchGVwchOLgpOIll7vm2stplhfee/9f7u69e4F3CHkylsz5LvT7phvGTJsjrouBsytMxmYy\n",
       "hImWiiImKkuYVBMxQtYZr3HM5ALxGrJ1+hpUHQoqDWKzhSDzpUTsGowwqQD7qeYhhNm2AvLLWf9l\n",
       "Tsqkml4I8zZQo/NNP5goSplUEzfdYOK0fsSnbDSPqfx1h52qf8iX91eWgEk16ZobvDHifS4FfVq2\n",
       "QZjqCtuEWvG0qUPYFayTaWJVHET7oJW5FOUbsg3CTJZY60dJEXoVOBEwmUYp4qD2DVE3lNb1rQNd\n",
       "zwFoVbA7/t5j8xQ6ZnrMMwtKhDkQYD/TZPo4OFYG2+E+i1utXaDlULYNjrkH6EewTqbxmHYHpvi6\n",
       "Zyt4NazEqQ0nsHf0BUpfwGSalLt3uwDjisExTXzGg57PLJqDGqEPiFQnBUyq8WqkNmLTaS4lUlFr\n",
       "wbuZmPB0pJeWYTXXGWUyjeYGUb51fs33Uv1OMENSpOcfm295U9BLVBN3xPdIPOvkd5Oap6G7iSwZ\n",
       "UzBDqCDAfPhzJj/PuA+Zdarxj5k8Muvkc146k6nBH4ZWGDPpCP4dzNkSJmOzDvALsQ7bPLFpc0MA\n",
       "AAAASUVORK5CYII=\n",
       "\" style=\"display:inline;vertical-align:middle;\" /></a>"
      ],
      "text/plain": [
       "|a + b| <= (|a| + |b|)"
      ]
     },
     "execution_count": 3,
     "metadata": {},
     "output_type": "execute_result"
    }
   ],
   "source": [
    "# a version of the triangle inequality, where Abs() occurs repeatedly\n",
    "# inside a larger expression\n",
    "LessEq(Abs(Add(a, b)), Add(Abs(a),Abs(b)))"
   ]
  },
  {
   "cell_type": "markdown",
   "metadata": {},
   "source": [
    "## Common Attributes of an Absolute Value `Abs` Expression <a id='common_attributes'></a>"
   ]
  },
  {
   "cell_type": "markdown",
   "metadata": {},
   "source": [
    "<font size=3>Let's define a simple absolute value expression, $|a+b|$, and look at some of its attributes.</font>"
   ]
  },
  {
   "cell_type": "code",
   "execution_count": 4,
   "metadata": {},
   "outputs": [
    {
     "data": {
      "text/html": [
       "<strong id=\"abs_value_a_plus_b\">abs_value_a_plus_b:</strong> <a class=\"ProveItLink\" href=\"../__pv_it/demonstrations/6dc61e8fc531e2172c058db65b7924eb22d7d8a20/expr.ipynb\"><img src=\"data:image/png;base64,iVBORw0KGgoAAAANSUhEUgAAADUAAAAVBAMAAAAUZLt1AAAAMFBMVEX///9UVFSqqqoiIiJERESY\n",
       "mJgyMjIQEBBmZmbc3NyIiIi6urp2dnbu7u7MzMwAAABs7OAJAAAAAXRSTlMAQObYZgAAAL9JREFU\n",
       "KM9jeMuAA/BdYDiNS45nA1Y5XncDnHIMbA2YckwLIDS/Am65/Rdwyx2Gu4Wzp6sWVS5xVRNUbvsE\n",
       "tg8ocrzfLtyfAJbjLWXgcECRY/rLwL8ALMfxl4EZJMaTlpZclpYmwMDAkcBw/wBYjt2B4f4DFH1A\n",
       "7+1XAMvdP8Cgj+pO/gCG/gsQOQUGMaYJKHIbgG4Ay7EsYDXkQdHHGMDSAJHjlVo3cTWqH7qO4g4X\n",
       "bHHEe4Fg/BEjtw6XHNcDAI+VTMzeHv4BAAAAAElFTkSuQmCC\n",
       "\" style=\"display:inline;vertical-align:middle;\" /></a><br>"
      ],
      "text/plain": [
       "abs_value_a_plus_b: |a + b|"
      ]
     },
     "execution_count": 4,
     "metadata": {},
     "output_type": "execute_result"
    }
   ],
   "source": [
    "abs_value_a_plus_b = Abs(Add(a, b))"
   ]
  },
  {
   "cell_type": "markdown",
   "metadata": {},
   "source": [
    "<font size=3>We can use the `expr_info()` method to look at how the expression is constructed:</font>"
   ]
  },
  {
   "cell_type": "code",
   "execution_count": 5,
   "metadata": {},
   "outputs": [
    {
     "data": {
      "text/html": [
       "<table><tr><th>&nbsp;</th><th>core type</th><th>sub-expressions</th><th>expression</th></tr>\n",
       "<tr><td>0</td><td>Operation</td><td>operator:&nbsp;1<br>operand:&nbsp;2<br></td><td><a class=\"ProveItLink\" href=\"../__pv_it/demonstrations/6dc61e8fc531e2172c058db65b7924eb22d7d8a20/expr.ipynb\"><img src=\"data:image/png;base64,iVBORw0KGgoAAAANSUhEUgAAADUAAAAVBAMAAAAUZLt1AAAAMFBMVEX///9UVFSqqqoiIiJERESY\n",
       "mJgyMjIQEBBmZmbc3NyIiIi6urp2dnbu7u7MzMwAAABs7OAJAAAAAXRSTlMAQObYZgAAAL9JREFU\n",
       "KM9jeMuAA/BdYDiNS45nA1Y5XncDnHIMbA2YckwLIDS/Am65/Rdwyx2Gu4Wzp6sWVS5xVRNUbvsE\n",
       "tg8ocrzfLtyfAJbjLWXgcECRY/rLwL8ALMfxl4EZJMaTlpZclpYmwMDAkcBw/wBYjt2B4f4DFH1A\n",
       "7+1XAMvdP8Cgj+pO/gCG/gsQOQUGMaYJKHIbgG4Ay7EsYDXkQdHHGMDSAJHjlVo3cTWqH7qO4g4X\n",
       "bHHEe4Fg/BEjtw6XHNcDAI+VTMzeHv4BAAAAAElFTkSuQmCC\n",
       "\" style=\"display:inline;vertical-align:middle;\" /></a></td></tr>\n",
       "<tr><td>1</td><td>Literal</td><td></td><td><a class=\"ProveItLink\" href=\"../__pv_it/common/eea56c667bc0aad2dc76ed04b44c2bd98b94005f0/expr.ipynb\"><img src=\"data:image/png;base64,iVBORw0KGgoAAAANSUhEUgAAACIAAAAOBAMAAAC4B9O8AAAAMFBMVEX///92dnYiIiIQEBBERERU\n",
       "VFS6urqIiIjc3NxmZmaqqqru7u6YmJgyMjLMzMwAAADiRdoGAAAAAXRSTlMAQObYZgAAAMNJREFU\n",
       "CNdNzr8KQWEcxvGv/39eHJkNLsEFGJSFyWxyBruzKSmyKIszEQt34B1ksDhXICmT4gIkJxYl8R7T\n",
       "+9Rv+fT06wEvNxClHFou6pK2BomLBGOhyWbeg6bUxOmakNEgLJcOHFsz8LV2nqy5W4iP3PY4U/HE\n",
       "ZGQTf2NYUZerglRtWi8S27NNi+f4/wYCe29Oc0HjW1SidvjzGA5zOSTygqiSpIthigIHcKGvasEX\n",
       "ISdoUyZisfqeiFcftphkYdBp8wPuZzYIqI9tGgAAAABJRU5ErkJggg==\n",
       "\" style=\"display:inline;vertical-align:middle;\" /></a></td></tr>\n",
       "<tr><td>2</td><td>Operation</td><td>operator:&nbsp;3<br>operands:&nbsp;4<br></td><td><a class=\"ProveItLink\" href=\"../__pv_it/demonstrations/31db57b390e7fb44a97fc02d8ab242f679e7ecd00/expr.ipynb\"><img src=\"data:image/png;base64,iVBORw0KGgoAAAANSUhEUgAAAC0AAAAQBAMAAABw0OvaAAAAMFBMVEX///9UVFSqqqrMzMwiIiJE\n",
       "RESYmJgyMjK6urru7u4QEBCIiIh2dnZmZmbc3NwAAABRgo0vAAAAAXRSTlMAQObYZgAAAKFJREFU\n",
       "GNNjYMAAnFEODFgB+wVUPtMGCM2vgF28fwJ28SNgku/O7ZWo4oW7LwHJrgfsH1DEOb9PmP+AgXMZ\n",
       "A28AijjTTwb+DQy8PxlYQHye8vKS5eXlAgwMvAUM8w8wcAUwzDdAUQ90fr8CSEof1T38CQz3JzDM\n",
       "V2AQZ3qAIt4AtJOBdQObIw+KesYEVmBAcEpvfrgD1Z23j2H3L0YAI4ULAI70LzJJYuzOAAAAAElF\n",
       "TkSuQmCC\n",
       "\" style=\"display:inline;vertical-align:middle;\" /></a></td></tr>\n",
       "<tr><td>3</td><td>Literal</td><td></td><td><a class=\"ProveItLink\" href=\"../../addition/__pv_it/common/4b7effaab3619a1c2c38fe2dee8601df8ec714590/expr.ipynb\"><img src=\"data:image/png;base64,iVBORw0KGgoAAAANSUhEUgAAAA4AAAAPBAMAAAAmOuNHAAAAHlBMVEX////u7u5UVFQQEBAiIiIy\n",
       "MjJ2dnaIiIiqqqoAAABCN83zAAAAAXRSTlMAQObYZgAAABxJREFUCNdjYECAdlLo1NBQ59DQIJL1\n",
       "AYEgEAMABwsItInrGUMAAAAASUVORK5CYII=\n",
       "\" style=\"display:inline;vertical-align:middle;\" /></a></td></tr>\n",
       "<tr><td>4</td><td>ExprTuple</td><td>5, 6</td><td><a class=\"ProveItLink\" href=\"../__pv_it/demonstrations/0e00cf301f391b9db3f5ff72911e8e2539c94fb00/expr.ipynb\"><img src=\"data:image/png;base64,iVBORw0KGgoAAAANSUhEUgAAACkAAAAUBAMAAADiqgm2AAAAMFBMVEX///9UVFTMzMx2dna6uroQ\n",
       "EBCqqqqIiIgiIiJmZmYyMjJERETu7u6YmJjc3NwAAAC+aOQFAAAAAXRSTlMAQObYZgAAAQNJREFU\n",
       "GNNjYOC7wIAK8kDEaSQBnq0NDAyMD4CsdcjquCYApRYwMPBOQBblTwAS5gwMHA+QRf0PAImjDAwv\n",
       "UGyyABvjwFAJpPgmT4+BiC4sn8bAwDyBYS+Q7fqA6wPEDb8OnH/AwLuAoQ3IjmXg3AAWZfvDwF/A\n",
       "wNbAEMLAwPmHgaMALMq5gOG8AQPTB5Ao6waG8wow5/ongESBJgCl86HOvcAw/wADSwPItvMJDFJs\n",
       "YGfzOwDtANlmycDAXcDbyMxwHuhRxgvcQK9yGjB4AN0gXvSwhIGjB8iabgsyXQHJxzkwxgnk0DGA\n",
       "MYChw7APFrYFMMYCpFDnhSnlBpmJEUP3GBgAwQA85Uf1dX8AAAAASUVORK5CYII=\n",
       "\" style=\"display:inline;vertical-align:middle;\" /></a></td></tr>\n",
       "<tr><td>5</td><td>Variable</td><td></td><td><a class=\"ProveItLink\" href=\"../../../__pv_it/common/c06c606ec12678c58933ac85412ecadc2ae28be60/expr.ipynb\"><img src=\"data:image/png;base64,iVBORw0KGgoAAAANSUhEUgAAAAsAAAAJBAMAAAAWSsseAAAAMFBMVEX///9UVFSqqqrMzMwiIiJE\n",
       "RESYmJgyMjK6urru7u4QEBCIiIh2dnZmZmbc3NwAAABRgo0vAAAAAXRSTlMAQObYZgAAAEdJREFU\n",
       "CNdjYOC7c3slAwND1wP2DwwMnMsYeAMYGHh/MrBsYGDgCmCYb8DAMP8Agz5QxXwFBnGmBwysG9gc\n",
       "eYAqpTc/3MEAAP4BD32xAXDqAAAAAElFTkSuQmCC\n",
       "\" style=\"display:inline;vertical-align:middle;\" /></a></td></tr>\n",
       "<tr><td>6</td><td>Variable</td><td></td><td><a class=\"ProveItLink\" href=\"../../../__pv_it/common/195236b98c6c564a75b5dbada74b173bc52d5c3e0/expr.ipynb\"><img src=\"data:image/png;base64,iVBORw0KGgoAAAANSUhEUgAAAAkAAAAOBAMAAAAPuiubAAAALVBMVEX///+YmJjc3NyIiIhUVFR2\n",
       "dna6urqqqqpmZmYyMjIiIiIQEBBERETu7u4AAAALjtrwAAAAAXRSTlMAQObYZgAAAE9JREFUCNdj\n",
       "4D29gAEIOBtAJF8BiMy7ACKjQATDFON2BgbelxfuKTCwv2XgM2DgmMBwLwCkPK+AgU+Aoe8CA18C\n",
       "70YGBhYBHqARvM2BDAwAqXgQspq5HJAAAAAASUVORK5CYII=\n",
       "\" style=\"display:inline;vertical-align:middle;\" /></a></td></tr>\n",
       "</table>\n"
      ],
      "text/plain": [
       "0. |a + b|\n",
       "   core type: Operation\n",
       "   operator: 1\n",
       "   operand: 2\n",
       "1. Abs\n",
       "   core type: Literal\n",
       "   sub-expressions: \n",
       "2. a + b\n",
       "   core type: Operation\n",
       "   operator: 3\n",
       "   operands: 4\n",
       "3. +\n",
       "   core type: Literal\n",
       "   sub-expressions: \n",
       "4. (a, b)\n",
       "   core type: ExprTuple\n",
       "   sub-expressions: 5, 6\n",
       "5. a\n",
       "   core type: Variable\n",
       "   sub-expressions: \n",
       "6. b\n",
       "   core type: Variable\n",
       "   sub-expressions: "
      ]
     },
     "execution_count": 5,
     "metadata": {},
     "output_type": "execute_result"
    }
   ],
   "source": [
    "abs_value_a_plus_b.expr_info()"
   ]
  },
  {
   "cell_type": "markdown",
   "metadata": {},
   "source": [
    "<font size=3>The string version of the absolute value operator is simply the `Abs` string:</font>"
   ]
  },
  {
   "cell_type": "code",
   "execution_count": 6,
   "metadata": {},
   "outputs": [
    {
     "data": {
      "text/html": [
       "<a class=\"ProveItLink\" href=\"../__pv_it/common/eea56c667bc0aad2dc76ed04b44c2bd98b94005f0/expr.ipynb\"><img src=\"data:image/png;base64,iVBORw0KGgoAAAANSUhEUgAAACIAAAAOBAMAAAC4B9O8AAAAMFBMVEX///92dnYiIiIQEBBERERU\n",
       "VFS6urqIiIjc3NxmZmaqqqru7u6YmJgyMjLMzMwAAADiRdoGAAAAAXRSTlMAQObYZgAAAMNJREFU\n",
       "CNdNzr8KQWEcxvGv/39eHJkNLsEFGJSFyWxyBruzKSmyKIszEQt34B1ksDhXICmT4gIkJxYl8R7T\n",
       "+9Rv+fT06wEvNxClHFou6pK2BomLBGOhyWbeg6bUxOmakNEgLJcOHFsz8LV2nqy5W4iP3PY4U/HE\n",
       "ZGQTf2NYUZerglRtWi8S27NNi+f4/wYCe29Oc0HjW1SidvjzGA5zOSTygqiSpIthigIHcKGvasEX\n",
       "ISdoUyZisfqeiFcftphkYdBp8wPuZzYIqI9tGgAAAABJRU5ErkJggg==\n",
       "\" style=\"display:inline;vertical-align:middle;\" /></a>"
      ],
      "text/plain": [
       "Abs"
      ]
     },
     "execution_count": 6,
     "metadata": {},
     "output_type": "execute_result"
    }
   ],
   "source": [
    "abs_value_a_plus_b.operator"
   ]
  },
  {
   "cell_type": "markdown",
   "metadata": {},
   "source": [
    "<font size=3>And we can test for instances of `Abs()` in the usual way, by testing for the `Abs` class:</font>"
   ]
  },
  {
   "cell_type": "code",
   "execution_count": 7,
   "metadata": {},
   "outputs": [
    {
     "name": "stdout",
     "output_type": "stream",
     "text": [
      "|a + b| is an instance of Abs\n"
     ]
    }
   ],
   "source": [
    "if isinstance(abs_value_a_plus_b, Abs):\n",
    "    print(\"{} is an instance of Abs\".format(abs_value_a_plus_b))"
   ]
  },
  {
   "cell_type": "markdown",
   "metadata": {},
   "source": [
    "<font size=3>We can obtain the operand (the expression inside the absolute value) apart from the `Abs()` expression. We can also get a list of the variables and a separate list of the *free* variables in the expression (of course, in this expression, all the variables are also free variables):</font>"
   ]
  },
  {
   "cell_type": "code",
   "execution_count": 8,
   "metadata": {},
   "outputs": [
    {
     "data": {
      "text/html": [
       "<a class=\"ProveItLink\" href=\"../__pv_it/demonstrations/31db57b390e7fb44a97fc02d8ab242f679e7ecd00/expr.ipynb\"><img src=\"data:image/png;base64,iVBORw0KGgoAAAANSUhEUgAAAC0AAAAQBAMAAABw0OvaAAAAMFBMVEX///9UVFSqqqrMzMwiIiJE\n",
       "RESYmJgyMjK6urru7u4QEBCIiIh2dnZmZmbc3NwAAABRgo0vAAAAAXRSTlMAQObYZgAAAKFJREFU\n",
       "GNNjYMAAnFEODFgB+wVUPtMGCM2vgF28fwJ28SNgku/O7ZWo4oW7LwHJrgfsH1DEOb9PmP+AgXMZ\n",
       "A28AijjTTwb+DQy8PxlYQHye8vKS5eXlAgwMvAUM8w8wcAUwzDdAUQ90fr8CSEof1T38CQz3JzDM\n",
       "V2AQZ3qAIt4AtJOBdQObIw+KesYEVmBAcEpvfrgD1Z23j2H3L0YAI4ULAI70LzJJYuzOAAAAAElF\n",
       "TkSuQmCC\n",
       "\" style=\"display:inline;vertical-align:middle;\" /></a>"
      ],
      "text/plain": [
       "a + b"
      ]
     },
     "execution_count": 8,
     "metadata": {},
     "output_type": "execute_result"
    }
   ],
   "source": [
    "# the \"bare\" operand\n",
    "abs_value_a_plus_b.operand"
   ]
  },
  {
   "cell_type": "code",
   "execution_count": 9,
   "metadata": {},
   "outputs": [
    {
     "data": {
      "text/html": [
       "<a class=\"ProveItLink\" href=\"../__pv_it/demonstrations/77ac102fdd812c62407021be9671ae9323bcc2790/expr.ipynb\"><img src=\"data:image/png;base64,iVBORw0KGgoAAAANSUhEUgAAADkAAAAUBAMAAADFBIheAAAAMFBMVEX///9UVFTMzMx2dna6uroQ\n",
       "EBCqqqqIiIgiIiJmZmYyMjJERETu7u6YmJjc3NwAAAC+aOQFAAAAAXRSTlMAQObYZgAAAQ9JREFU\n",
       "KM9jYOC7wIAd5IGI01gkeLY2MDAwPgCy1mHTxzUBqGQBAwPvBGRRtgIIzZ8AJMwZGDgeYJP1PwAk\n",
       "jjIwvGDAJmsBNt6BoRJI8U2eHoMqu7B8GgMD8wSGvUC26wOuDyiyPL8OnH/AwLuAoQ3IjmXg3IAi\n",
       "y/aHgb+Aga2BIYSBgfMPAwdIlHnVqhVRq1YJAEUWMJw3YGD6AJJl3cBwXgFFL9C7/gkgWaDJQGX5\n",
       "qG7mv8Aw/wADSwPIVecTGKTYHqDIOgDdAnKVJQMDdwFvIzOKXsYL3MAg5DRg8AC6WbzoYQmqj6bb\n",
       "gmxXwBGSYHACPRZ4DiBxgLHAsA9H5INjEGvsgwE3yE6cKeceAwMAszdDzhEi5xEAAAAASUVORK5C\n",
       "YII=\n",
       "\" style=\"display:inline;vertical-align:middle;\" /></a>"
      ],
      "text/plain": [
       "(a + b)"
      ]
     },
     "execution_count": 9,
     "metadata": {},
     "output_type": "execute_result"
    }
   ],
   "source": [
    "# the operand in a (1-element) tuple\n",
    "abs_value_a_plus_b.operands"
   ]
  },
  {
   "cell_type": "code",
   "execution_count": 10,
   "metadata": {},
   "outputs": [
    {
     "data": {
      "text/plain": [
       "{a, b}"
      ]
     },
     "execution_count": 10,
     "metadata": {},
     "output_type": "execute_result"
    }
   ],
   "source": [
    "# the variables appearing in the expression\n",
    "used_vars(abs_value_a_plus_b)"
   ]
  },
  {
   "cell_type": "code",
   "execution_count": 11,
   "metadata": {},
   "outputs": [
    {
     "data": {
      "text/plain": [
       "{a, b}"
      ]
     },
     "execution_count": 11,
     "metadata": {},
     "output_type": "execute_result"
    }
   ],
   "source": [
    "# the free variables appearing in the expression\n",
    "free_vars(abs_value_a_plus_b, err_inclusively=True)"
   ]
  },
  {
   "cell_type": "markdown",
   "metadata": {},
   "source": [
    "<font size=3>And of course, we can reach into the expression and substitute for variables with other variables in the usual way:</font>"
   ]
  },
  {
   "cell_type": "code",
   "execution_count": 12,
   "metadata": {},
   "outputs": [
    {
     "data": {
      "text/html": [
       "<strong id=\"abs_value_c_plus_b\">abs_value_c_plus_b:</strong> <a class=\"ProveItLink\" href=\"../__pv_it/demonstrations/c75089044d5745ccb1b5a29284e4fbfdae01091b0/expr.ipynb\"><img src=\"data:image/png;base64,iVBORw0KGgoAAAANSUhEUgAAADMAAAAVBAMAAAAZessyAAAAMFBMVEX///+YmJgQEBBmZmZUVFQy\n",
       "MjJERESqqqoiIiLc3NyIiIi6urp2dnbu7u7MzMwAAAAvOLFOAAAAAXRSTlMAQObYZgAAALNJREFU\n",
       "KM9jeMuAHfBdYDiNQ4pnAzYp3qQGXFIMrAYYUuwLIDR/AU6p/RdwSp1AOOPUqgcoUiGrzKFSMwrY\n",
       "ApCleL9euD8BItXDwFKALMX+l4F/AViK+S/Ej6GhEaqhoQ4MDMwBDPcPgKWYEtCcAfTW/gKw1P0D\n",
       "aFL8Agz2F8BSQBYDil38G3gVIS5kdmC4jOJ4FgE2A6jjzwguQDGQ1+ogztDAEim8FwjFFxFS63BI\n",
       "cT0AADq8R9JjMxynAAAAAElFTkSuQmCC\n",
       "\" style=\"display:inline;vertical-align:middle;\" /></a><br>"
      ],
      "text/plain": [
       "abs_value_c_plus_b: |c + b|"
      ]
     },
     "execution_count": 12,
     "metadata": {},
     "output_type": "execute_result"
    }
   ],
   "source": [
    "abs_value_c_plus_b = abs_value_a_plus_b.replaced({a:c})"
   ]
  },
  {
   "cell_type": "markdown",
   "metadata": {},
   "source": [
    "## Axioms <a id='axioms'></a>"
   ]
  },
  {
   "cell_type": "markdown",
   "metadata": {},
   "source": [
    "<font size=3>At this time, there is a single axiom for absolute value, defining $|x|=\\sqrt{x^2}$ for real-valued $x$:</font>"
   ]
  },
  {
   "cell_type": "code",
   "execution_count": 13,
   "metadata": {},
   "outputs": [
    {
     "data": {
      "text/html": [
       "<span style=\"font-size:20px;\"> <a class=\"ProveItLink\" href=\"axioms.ipynb#abs_val_def_sqrt\" style=\"text-decoration: none\">&nbsp;&#x22A2;&nbsp;&nbsp;</a><a class=\"ProveItLink\" href=\"../__pv_it/axioms/acbaec688d2c994ddac7475b5f4bce56f7fcd2420/expr.ipynb\"><img src=\"data:image/png;base64,iVBORw0KGgoAAAANSUhEUgAAALgAAAAmBAMAAACFcUzHAAAAMFBMVEX///8QEBCIiIhmZma6urrM\n",
       "zMxUVFQiIiJERETc3Nzu7u6qqqp2dnaYmJgyMjIAAAAcRTyBAAAAAXRSTlMAQObYZgAAAztJREFU\n",
       "SMelV01oE0EUftn8bHe7iTmoIF6C0uJBrVDEkyUi4kVsTgpFMKD2KCKCVj1UvaRKNYpSL9LYQlty\n",
       "sIUepCi4xp4ilBV6qKK4KAgqStEKpkmp87tp2t3OMA5smJn95pv3vnnvzQZA0D6AUjOzEiDNVSOH\n",
       "oxKYAwVFck1surkJVNsPISImIx2El9c2uCv0+WRehvyhml1fpBQ47TcZXRSsMioy3MbKiHp1g8vx\n",
       "SSQmXtbFR11BqHS9b+VjfKs3AvJQCv1M89F0AOoJtt6hfT0frcAU6Q6mwV0vDQczMuSv0TPG+nra\n",
       "WIAYCYOQTd7At4BlH0GC3MT2ffWGzYt0BpA+OIyM3gDyfTLkFlIkvscb6kjKEsnReUigw7UmAsgv\n",
       "yZDrROp6uKDnMXGhAvFysTgQdKC/Zch3oafOQHxI4PiJVgH+5nJXg8h/Mc6h1vs7U0Hk59CzHTjo\n",
       "CBxCUuAdzCWAMwB9QWVriZKbdvy87lLymZ+4faYAnC8aDtd+YKDo92c3kfkuM+0gO1zWnu445aWW\n",
       "wcitgrUYya+1fMBmksMVYKDQ8vI8kht7AzX8UnO4pc/bHc2CcoqXhyqzHJp6fTSPzCXR73vc3Qgc\n",
       "RBfOsxOzHJ3PzU0VAZG/c1aRA2xI+R1oBHt2mZEzUCO54R5DndLe1kwEHwMmt1fJgkqvl6pUc1Yt\n",
       "LyIFbCYLA9FdsSwmkgX6UMXUCmf1dAIoeTvPCJNFS3OhDSF8oqUtTfKEHCgD0Xh0uWmTaJsovpWG\n",
       "CXm4+4K3uEbJOyfuwCO/OB/PwiTPHAaiddLmolKpUOU+nsvlUpp1b9ZbvJmSj2wb2u/4kYcrrKgc\n",
       "Bg4iLYEFiixgHwrkCKIQo7I0n/Buv9uCDDVqkSyrtA3zo0QbfhUNWq4FVoZqXuYHCi9F6X+tKV9P\n",
       "+nojhctKstHIbKkMcAsn0Yw93MFBLwoC8s5u1ulbU4Qh0XhDa0jzxgNzBOT6H9YZWzlL3Rl31r/m\n",
       "mvDmLXzU4vNdxZPSWMn0lrot+CyJJ0G9dYi+5qr/Qb5VBNitzq0JvQ5llMlDjggRd5XJJZy+rspt\n",
       "bBFjRlV1GZ2QMKBHkbxfBvRA8Q8X/rj4BzLvA+8W7c1EAAAAAElFTkSuQmCC\n",
       "\" style=\"display:inline;vertical-align:middle;\" /></a></span>"
      ],
      "text/plain": [
       "|- forall_{x in Real} (|x| = sqrt((x^{2})))"
      ]
     },
     "execution_count": 13,
     "metadata": {},
     "output_type": "execute_result"
    }
   ],
   "source": [
    "abs_val_def_sqrt"
   ]
  },
  {
   "cell_type": "markdown",
   "metadata": {},
   "source": [
    "<font size=3>When the `Conditional` class has been established, the axiomatic definition will use the standard piece-wise definition, and the “square root of the square” could then be a theorem instead. The definition for $|a+bi|$, the norm of complex number $z=a+bi$, is still under development.</font>"
   ]
  },
  {
   "cell_type": "markdown",
   "metadata": {},
   "source": [
    "## Theorems <a id='axioms'></a>"
   ]
  },
  {
   "cell_type": "markdown",
   "metadata": {},
   "source": [
    "<font size=3>Some typical absolute value-related theorems are illustrated below. The full complement of theorems appears in the `proveit.numbers/absolute_value/_theorems_.ipynb` notebook.</font>"
   ]
  },
  {
   "cell_type": "code",
   "execution_count": 14,
   "metadata": {},
   "outputs": [],
   "source": [
    "from proveit.numbers.absolute_value import (\n",
    "        abs_nonzero_closure, abs_is_non_neg, abs_elim, triangle_inequality)"
   ]
  },
  {
   "cell_type": "code",
   "execution_count": 15,
   "metadata": {},
   "outputs": [
    {
     "data": {
      "text/html": [
       "<span style=\"font-size:20px;\"> <a class=\"ProveItLink\" href=\"proofs/abs_nonzero_closure/thm_proof.ipynb\" style=\"text-decoration: none\">&nbsp;&#x22A2;&nbsp;&nbsp;</a><a class=\"ProveItLink\" href=\"../__pv_it/theorems/0911c49c43964f139c7d2aac63fe5fb10b9cf35c0/expr.ipynb\"><img src=\"data:image/png;base64,iVBORw0KGgoAAAANSUhEUgAAAMMAAAAbCAMAAAD2zMvaAAAAOVBMVEX///8oKCgUFBQNDQ0QEBCI\n",
       "iIhmZma6urrMzMxUVFQiIiJERETc3Nzu7u6qqqp2dnaYmJgyMjIAAAArQGDrAAAAAXRSTlMAQObY\n",
       "ZgAAAu5JREFUWMPtl+uWmyAQgGnLDJfh6vs/bBk0iohJ1o3bP+WczRrDAN/cEeL/+NrQ6iPLmMcD\n",
       "/AME85l16PGgzI8zZF9JfEfmLzOImH4YAWfTx86horrOICwrIK9f081MbvJfZ0hWEk05S0pDBkBe\n",
       "Iewtfd+IKK7YIQtfvF5TIj6fyWVI/kiLYvjjAeXoZleS4RIDCRfnf2ZgB2FDo/7NIPe60iuGRLaM\n",
       "3DOg29y+ZUD+kqLn4ezNZkhSvMGgCfzQDoWBRgxQl52Ih413Z6W8O7PDiCB9x+CPQbkwmKYYtAyq\n",
       "mtfo+t69fZqn/lvPABEOKiFqGZQs++Wpt4NxJ/EQLG54LYOe+PgKqwLOjxUoGmtglNqO2tbVPYtQ\n",
       "X0KzaRi8TA9f3jHQMKYlB0gTrm4XZlWcIwEOxcGHiFjees1JTef4DsOcOywvO3VeYbFhwPqrhY5B\n",
       "16xZx84ORc10kvn9zMAF+xDRiYLzLJeqO4rwFkPdyVfzyi7P5ZZB0jqvZXB0kltRaTpLd3N45bUb\n",
       "8wgmrw5WnV8H3RmwXW0VmCfH2UV5ru0sS40v+YknhumQl+RZfSCfxk3qvBnHs5nX8VaXl7sWJPnk\n",
       "ztuVVcDU5Pan/KVlBdvtaahlCLXmiuD2DAgnDEXJqIcJZvHZgIsrYdG+tlW9a0D78IRhFZhzdWhU\n",
       "I7vjQFsfCLgVMiL29cGGca/BJdjoZ2Vngq0dAJbQtuq1bOWC1ucMq0A1Cj3CjCUmNVbYnJcMgHYG\n",
       "VM/gDSl/7Pk05+Y8DVoJpNVhls2LAilxKG+ZET1sib9j2AS4F/v9a+nFhnlJSPVWr6Ei7XqNV3eS\n",
       "3vtK4dGT4mCMq/JLQeXnOKwPm4BoejJuiA/1QWC81PM9H/6gKmUgANYj0Wo3H3Om1hdpKNBmcIgR\n",
       "jxlE3sCQnt5GYY6H59eotpq/bLhM+DyD1d+8knf546Xd5ynQbQv6G2a42qkOGdIb14+An76TXL63\n",
       "XT9JUJ9lwJuvzz83/gKr7iGTgLb0jQAAAABJRU5ErkJggg==\n",
       "\" style=\"display:inline;vertical-align:middle;\" /></a></span>"
      ],
      "text/plain": [
       "|- forall_{a in Complex | a != 0} (|a| in RealPos)"
      ]
     },
     "execution_count": 15,
     "metadata": {},
     "output_type": "execute_result"
    }
   ],
   "source": [
    "# abs value of a non-zero value is a positive real number\n",
    "abs_nonzero_closure"
   ]
  },
  {
   "cell_type": "code",
   "execution_count": 16,
   "metadata": {},
   "outputs": [
    {
     "data": {
      "text/html": [
       "<span style=\"font-size:20px;\"> <a class=\"ProveItLink\" href=\"proofs/abs_is_non_neg/thm_proof.ipynb\" style=\"text-decoration: none\">&nbsp;&#x22A2;&nbsp;&nbsp;</a><a class=\"ProveItLink\" href=\"../__pv_it/theorems/653eb4b2bf6b9dba3d3dfce448e368cabb184e050/expr.ipynb\"><img src=\"data:image/png;base64,iVBORw0KGgoAAAANSUhEUgAAAH8AAAAVBAMAAACd/CwcAAAAMFBMVEX///8QEBCIiIhmZma6urrM\n",
       "zMxUVFQiIiJERETc3Nzu7u6qqqp2dnaYmJgyMjIAAAAcRTyBAAAAAXRSTlMAQObYZgAAAiVJREFU\n",
       "OMudlE9IFFEcx7+OM7vO25ntFNRtC/IseLBD4UJ4jObS38vKUngLUUQEAwmRETsMCBlU8EwoWIKG\n",
       "osOG4GKdCmSiQyWFe1FBpYQowjz0e/Nv15mnhQ8Gfr/5vfd5v9/3/d4DDh4aD41rOMx4CKMYmm9k\n",
       "8Sp9dWF8la9nYwcAFr9YyDjAO+FsyAF5JwFggzyOuWwEjLa/R44+Jgd8QDKD3JoT+u+BJUqDSMQ0\n",
       "XDlgJAWAumYFxgSwwDELmG8rlRn5er0/DYBmB39+ARdc5Mn5bdujcoDSEQCmX5/gDRH1myJf9oMA\n",
       "BRg05QYwKQe0eT5APY7vzaegd5EO+i5QKsAkFc/5WjZG7k5fObCyrg+Y9XC6GWAOCgplUKohR1Vm\n",
       "oXjRuc93euwK17YCt6XoA7o5BpoAyihvlKBt0xQvG8U+VSswHwDzewDHwH42AE8HEIm44PoAvX6J\n",
       "/Ln2VaikCHpe0q/mEtguctsxYPpWCLKBFQ6VSsDkdcpoSNtBXgSWPydEZH+QqVdDwN1N7GkkISJe\n",
       "EKW1Q+vHnAi8qsYAIzjG2/jYWwtbeTwOZl12lNbVyDxSoHJdpReXbdsu3L8Yz1GDRnp88mq5mLpM\n",
       "bLGdejIv+tIkVZ85bcs8IwKtjyi4fysnxpPIaHFK52EInH7GEldkn8uUutNxtuXnZ4Ep/5y+TViR\n",
       "iqnrvD4shhXXUU80P2nw3w9KuMO/njQl2u2ULE5H/he3a5q7nbfEUQAAAABJRU5ErkJggg==\n",
       "\" style=\"display:inline;vertical-align:middle;\" /></a></span>"
      ],
      "text/plain": [
       "|- forall_{a in Complex} (|a| >= 0)"
      ]
     },
     "execution_count": 16,
     "metadata": {},
     "output_type": "execute_result"
    }
   ],
   "source": [
    "# abs value of any number is non-negative\n",
    "abs_is_non_neg"
   ]
  },
  {
   "cell_type": "code",
   "execution_count": 17,
   "metadata": {},
   "outputs": [
    {
     "data": {
      "text/html": [
       "<span style=\"font-size:20px;\"> <a class=\"ProveItLink\" href=\"proofs/abs_elim/thm_proof.ipynb\" style=\"text-decoration: none\">&nbsp;&#x22A2;&nbsp;&nbsp;</a><a class=\"ProveItLink\" href=\"../__pv_it/theorems/c3857a67187f7096a168052cabdb36cd6042ec2a0/expr.ipynb\"><img src=\"data:image/png;base64,iVBORw0KGgoAAAANSUhEUgAAAJcAAAAVBAMAAAC5yWGZAAAAMFBMVEX///8QEBCIiIhmZma6urrM\n",
       "zMxUVFQiIiJERETc3Nzu7u6qqqp2dnaYmJgyMjIAAAAcRTyBAAAAAXRSTlMAQObYZgAAAhhJREFU\n",
       "OMudlE9IFFEcx7+MO+7u7NvNgydPg6LEEiSIx0QUlE4uBAYSBP2DiCKiTkp4nFXERQS9SE8Fi6WD\n",
       "4CGUDoPtaVpsDtI/CpaCoEAZgqDy0u+9t7O4zsaT/Q0z7/dm3nzm9/v+3vyAU9tExGnWkj5KoV9q\n",
       "uGKbzopwPmthz6CDtRaA18L5oYV918IsCmtZ5DCtY6V7tTDsAhkOsE0dLF7Qw1bpm16xuKTNcgl6\n",
       "WGYQ+O04U1pYl2Ks9SyesyMwq/P2EOXISIqbQD7yck5cnn/i4XxOwiw3/SBeUbC9Q2Ff5Tq8sx9T\n",
       "jlSBYVmHE/ZWqDhj1QozKWGMs7+xQiQyD2/4RSB1n7SF4R978uLs9S80jNC9Njqq1q4iQ2K6gWYc\n",
       "jhjMgFL147XkX/b5BoNnk38pm2zDo3oYcMZuWICfISxZGQ/vvd8ugmAfRaTm7HHYZJVxNRfClGbf\n",
       "5FPzl7jGKE3kb4gd19+Ti1E5JMwlAe4CATrqC5Di52HwSGQ7RoCsKgC2iGjwe/HBDBSsrxfpO/UF\n",
       "eCVhY5vzWImkGTtKBNQH0OJWdTBxAKxLWMuth0D/ia0xKmEbnWsX/AjMupbtEp0iIyRIy1f+AJcd\n",
       "x7ENtrDf3O/0tOaZgYlWlWbqCrfK5XKpiR9d2RNWYWA5pZnnRlfmT9WClG3s73rArNi0e+76QDPN\n",
       "MVGonxuk2f/bdnfodzdc8QH4B8I/ppkxuYHeAAAAAElFTkSuQmCC\n",
       "\" style=\"display:inline;vertical-align:middle;\" /></a></span>"
      ],
      "text/plain": [
       "|- forall_{x in RealNonNeg} (|x| = x)"
      ]
     },
     "execution_count": 17,
     "metadata": {},
     "output_type": "execute_result"
    }
   ],
   "source": [
    "# we can eliminate the abs value wrapper around a non-negative real number\n",
    "abs_elim"
   ]
  },
  {
   "cell_type": "code",
   "execution_count": 18,
   "metadata": {},
   "outputs": [
    {
     "data": {
      "text/html": [
       "<span style=\"font-size:20px;\"> <a class=\"ProveItLink\" href=\"proofs/triangle_inequality/thm_proof.ipynb\" style=\"text-decoration: none\">&nbsp;&#x22A2;&nbsp;&nbsp;</a><a class=\"ProveItLink\" href=\"../__pv_it/theorems/79874490a27dd4254b3f684e8e19d1e5dbb87d690/expr.ipynb\"><img src=\"data:image/png;base64,iVBORw0KGgoAAAANSUhEUgAAAPkAAAAWBAMAAADwcyf0AAAAMFBMVEX///8QEBCIiIhmZma6urrM\n",
       "zMxUVFQiIiJERETc3Nzu7u6qqqp2dnaYmJgyMjIAAAAcRTyBAAAAAXRSTlMAQObYZgAAAyFJREFU\n",
       "SMe9lk1oE0EUgF92s02y2U0ungQlqO051KMVKyKepPGgFi+WYvEiEgpV1ArxoKSosCDUggqrPShF\n",
       "zKJ4qBQsWhAUYcFLWxACasUfQvGkOYgz83Ymu9nZaU8OPGZn3nvz7cy8mTcAmyonkhSGq+jsVgZt\n",
       "qU9iyfmwlKSzBmNd90RntzJok2qeVFSatP1RSX8EUrp5pSqjmzUFnfv0OMDkHe3+rqR/k9OhUI4A\n",
       "tAnsdVRzD3xMMmkqM3Rpayq4Xe6i50tYF70w4PE41h8gRucOpM19XgGTAgkBy1PRM04CfcgN0W9d\n",
       "Dj4uKOnc5z4wsd/Ozd1WLjzVSulvQoDpHzxEq0o69ykE8rten1TSdyI9N9C/NTrY2o49HDD8Wew+\n",
       "biyzltC5j1VGGQOY4q7ploR+E+n7ncJ6ZDDzr9twEJC9KqyzPqMw6zhd+NhNlAMs+ILyWqzujdOj\n",
       "weclRje3gV6LDJZvQ7GEAG1cXCAZFlZoHacLn3wVJQOaL+h098yF3b457Bo/g74tjK63IUMHsVqt\n",
       "r9tbrREAvQmNxQBgT3J8ii7rIFozZceB9nMfYx3F8jOdVf5DZHl+Duy7AAsReqoGjUpkKuToDnli\n",
       "ep+cMB2t43MXPpyeax4jitm+L/QG/tXnpkkswMHnRBFZ+cYivIzGfNGHfa44cem1Smjl0TpOFz7p\n",
       "KgpMnSKrPWG06f5d1MoFare60h11DQ/O5p0Ine5u57Yx6oOdqENrCZ378KiDZ+QX9LJBfyRbspuz\n",
       "1O7FPEQicYmqzlmRwXr8bDl8mebGGIGdOLSO04WPvohCgpDslqeNsE3TR47X6/XSnaMd+iGM+dHe\n",
       "6V3RE9f/XpJl0uy2QWvJieM+hQoK2CRcG052lVRFN+X1UDv9ARl9o5tWnmHVNy2vHgIKRqpz8jDM\n",
       "uBl3GSz6R7mBCksE0ixjuiq6JMtwhxA9yDLBeo0+3QtHPOMM2YrrLGO1rlW4cgo2el08OU8LZtis\n",
       "s4nXBc+w4YKpTiP7vpnXRcLcla8LXpFfZBLeTyfxZdWbRNcqkpcV7+xWBm1S0QO90vWMgP9d/gH9\n",
       "1P6UUpj7QQAAAABJRU5ErkJggg==\n",
       "\" style=\"display:inline;vertical-align:middle;\" /></a></span>"
      ],
      "text/plain": [
       "|- forall_{a, b in Complex} (|a + b| <= (|a| + |b|))"
      ]
     },
     "execution_count": 18,
     "metadata": {},
     "output_type": "execute_result"
    }
   ],
   "source": [
    "# abs value version of a triangle inequality thm\n",
    "triangle_inequality"
   ]
  },
  {
   "cell_type": "markdown",
   "metadata": {},
   "source": [
    "## Demonstrations <a id='further_demonstrations'></a>"
   ]
  },
  {
   "cell_type": "markdown",
   "metadata": {},
   "source": [
    "<a id='demo01'></a><font size=4><b>1. Simplifying $|x+1|$ and Deducing Number Sets</b></font><br><br>\n",
    "<font size=3>Consider the very simple absolute value expression $|x+1|$, where the operand is a sum of a variable and known constant:</font>"
   ]
  },
  {
   "cell_type": "code",
   "execution_count": 19,
   "metadata": {},
   "outputs": [
    {
     "data": {
      "text/html": [
       "<strong id=\"demo_expr_01\">demo_expr_01:</strong> <a class=\"ProveItLink\" href=\"../__pv_it/demonstrations/93d6023045ad9be30c5111485439c5bf1e80a9280/expr.ipynb\"><img src=\"data:image/png;base64,iVBORw0KGgoAAAANSUhEUgAAADcAAAAVBAMAAAAQkWtIAAAAMFBMVEX///8QEBBmZmaqqqpEREQy\n",
       "MjIiIiKYmJjc3NxUVFSIiIi6urp2dnbu7u7MzMwAAACA5bTBAAAAAXRSTlMAQObYZgAAAIlJREFU\n",
       "KM9jeMuAC/BdYDiNU5JnAzmSzLKYkswLIPTNk39xSzKwEyd5a2X3mgU4JHkPsGexBeCQ5LnA85e7\n",
       "AZdOBhYHsL9CQ8NEQ0MnoDmIfwEe175/gFOS+cJ6Bq4LOCT3G/gztKPp5IJJ3lx1S70AVZJp4ld1\n",
       "3CGELVZ4L1Acn1DJdTgluR4AAIvmSyByPkopAAAAAElFTkSuQmCC\n",
       "\" style=\"display:inline;vertical-align:middle;\" /></a><br>"
      ],
      "text/plain": [
       "demo_expr_01: |x + 1|"
      ]
     },
     "execution_count": 19,
     "metadata": {},
     "output_type": "execute_result"
    }
   ],
   "source": [
    "demo_expr_01 = Abs(Add(x, one))"
   ]
  },
  {
   "cell_type": "markdown",
   "metadata": {},
   "source": [
    "<font size=3>The general expression simplification() method can eliminate the absolute value wrapper under the right conditions &mdash; for example, when we know that $x$ is a positive real number:</font>"
   ]
  },
  {
   "cell_type": "code",
   "execution_count": 20,
   "metadata": {},
   "outputs": [
    {
     "data": {
      "text/html": [
       "<span style=\"font-size:20px;\"><a class=\"ProveItLink\" href=\"../__pv_it/demonstrations/f753f28ff099603bf4f80e8cfce3668c42bfcdd50/expr.ipynb\"><img src=\"data:image/png;base64,iVBORw0KGgoAAAANSUhEUgAAAEAAAAAUBAMAAADPWCYMAAAAMFBMVEX///8QEBBmZmaqqqrMzMxE\n",
       "REQyMjIiIiKYmJh2dna6urrc3NxUVFSIiIju7u4AAAA6P00QAAAAAXRSTlMAQObYZgAAANhJREFU\n",
       "KM9jYKAIHCCkIIBGCjgKQ78lRuAzgY3vAEtEHANPWppYWgY2BazcExgC9mAxobW8PAGmQJsNU4Hr\n",
       "PSQTtFnhCt7e2XXzApDmy0O24sAamAK+CRy17CCTeTYgKWAuyoMp4HzA+Y8LJMeK5Ejx8mQwCyTO\n",
       "x8AKcYpjGhBAHTlLIQ7JcfwXwNRWZG9quSIp8HcAU4zIClhfXIDxmB/cZ+B9AGQwXUBSwHJABcZb\n",
       "bxDPsAPMKkYKaobJPA5Q3pu7bzUaIKyoB/DIcmAN+4wZByvDIUGNAgAV7jueYKkKYgAAAABJRU5E\n",
       "rkJggg==\n",
       "\" style=\"display:inline;vertical-align:middle;\" /></a> <a class=\"ProveItLink\" href=\"../__pv_it/demonstrations/2e600fb08ccb98c970935af7b2b82475637931050/proof.ipynb\" style=\"text-decoration: none\">&nbsp;&#x22A2;&nbsp;&nbsp;</a><a class=\"ProveItLink\" href=\"../__pv_it/demonstrations/6f59eadf185508c18af9518e07aba147457ee60a0/expr.ipynb\"><img src=\"data:image/png;base64,iVBORw0KGgoAAAANSUhEUgAAAJMAAAAVBAMAAACwIsHjAAAAMFBMVEX///8QEBBmZmaqqqpEREQy\n",
       "MjIiIiKYmJjc3NxUVFSIiIi6urp2dnbu7u7MzMwAAACA5bTBAAAAAXRSTlMAQObYZgAAAXNJREFU\n",
       "OMtjeMuAC/BdYCANnMYpw7MBQ6gdp2ILEo3idcCpmLMBl1HMstiMYm3AqZg3AN0oKwh18+RfbEYV\n",
       "oZqwAEkxwykcRjGwYzUqA6tRYMUMF0kyiiMBj1GsG0BG3VrZvWYBEUZxKQDDZNWMXaewGcWjADSK\n",
       "9wB7FlsALqOOhoJAEIjJUsDAcIehbEEqNqPYA4BG8Vzg+cvdQISr2AwYGM4ynL+wA5tRzAkgVzGw\n",
       "QNIL0AGJoaGROI1iBApcYHCBJLrQ0DDR0NAJcKP4PoCDnX8BUcHOCBb4hT3YoUa9f4DbKEhYRcI8\n",
       "yMD3D7tR3CAPMl9Yz8B1gQhXgYLdlusDw1qcwb7fwB+eT2FGcWEzChjf3J9ZPnAUoBkFUszAdABo\n",
       "1M1Vt9QLUI1imvhVHdMooB94Z61dVI7mQbBiBtYHOFI79pIBR8YBg2voGecuXqNQszMvStF4irTy\n",
       "iqUBp2LMQobsog9kyzqcslwPSCiQKxgYAAAWi8E1IDb7AAAAAElFTkSuQmCC\n",
       "\" style=\"display:inline;vertical-align:middle;\" /></a></span>"
      ],
      "text/plain": [
       "{x in RealPos} |- |x + 1| = (x + 1)"
      ]
     },
     "execution_count": 20,
     "metadata": {},
     "output_type": "execute_result"
    }
   ],
   "source": [
    "demo_expr_01.simplification(assumptions=[InSet(x, RealPos)])"
   ]
  },
  {
   "cell_type": "markdown",
   "metadata": {},
   "source": [
    "<font size=3>We can deduce that the absolute value expression is in a specific number set (given the right assumptions):</font>"
   ]
  },
  {
   "cell_type": "code",
   "execution_count": 21,
   "metadata": {},
   "outputs": [
    {
     "data": {
      "text/html": [
       "<span style=\"font-size:20px;\"><a class=\"ProveItLink\" href=\"../__pv_it/axioms/02bd6ad73acd9f4d3192ee4c61bfdcabbff20f180/expr.ipynb\"><img src=\"data:image/png;base64,iVBORw0KGgoAAAANSUhEUgAAADQAAAAPBAMAAABZ6/G2AAAAMFBMVEX///8QEBBmZmaqqqrMzMxE\n",
       "REQyMjIiIiKYmJh2dna6urrc3NxUVFSIiIju7u4AAAA6P00QAAAAAXRSTlMAQObYZgAAAMRJREFU\n",
       "GNNjYMAAHIWh3xIjGLACNr4DLBFxWKVYuScwBOxBEWotL0+ASWmzIcu43kPSpc0KZLy9s+vmBSDN\n",
       "l4ds4IE1QJEJHLXsIHN4NiBJMRcBFXI+4PzHBRJlRXKGeHkyyBwG1gCwgGMaEECdMUsB4nb+C2Bq\n",
       "K7LjtVzBLH8HMMWILMX6Aqie+cF9Bt4HQAGmC0hSLAdUGBjWG8Qz7ACLFCMFFMNkHgeGN3ffajSA\n",
       "Rd5EPYAHrwNr2Gfk4FgZDgkoKAAAelg1omM6Y4wAAAAASUVORK5CYII=\n",
       "\" style=\"display:inline;vertical-align:middle;\" /></a> <a class=\"ProveItLink\" href=\"../__pv_it/demonstrations/0060e0fc9cc04bb59d13abb9b8fe31e947c0aac90/proof.ipynb\" style=\"text-decoration: none\">&nbsp;&#x22A2;&nbsp;&nbsp;</a><a class=\"ProveItLink\" href=\"../__pv_it/demonstrations/f7b420aa28d0dbf11bb02473432268ea187aa2070/expr.ipynb\"><img src=\"data:image/png;base64,iVBORw0KGgoAAAANSUhEUgAAAHYAAAAZBAMAAAAWK8etAAAAMFBMVEX///8QEBBmZmaqqqpEREQy\n",
       "MjIiIiKYmJjc3NxUVFSIiIi6urp2dnbu7u7MzMwAAACA5bTBAAAAAXRSTlMAQObYZgAAAYlJREFU\n",
       "OMtjYCATrFlDhqadDSCS/QDzBNL1cmg+AJJsGxj+kmExhwpQ8/0HDMIMb3Gq4buAQ4L3yAaG9w0M\n",
       "6Qyncerl2YBLhvfohfcXGLKI11sm4h8qUgBmcoWD7JXCoZdZFtPegJsMT0pA/rjlDPbvb1S9zAsg\n",
       "9M2TfzH1OvQwsHAAI+aONyycseplYEfSW5KWFgDVy9QQwHDJG+xsBWD8EtT7ZC3CXqYGB4Z30HR1\n",
       "iAGk99bK7jULcOnljUVyMyc3SmI6zcB7gD2LLQCXXs4GJL1mqhdQ9fJc4PnL3YBLLwsirBrTUg0Y\n",
       "GExcgOACzF4GFgdwfIaGhomGhk5A1fswFAigYbWJBTWpgcKKfwHusGpBiiOmfQ4Yet8/wK2XETl+\n",
       "favQ9DJfWM/AdQGXXqYFSHpfMj1A1bvfwJ+hHc1eLkT8JiOlSR6Deah6b666pV6Aqpdp4ld1mN6b\n",
       "3hdgeSGOwSXeAM2/mOkKOR/tcYOkSUyAopf3AlH5F6teIvM+NfSuwynD9YCAVgBeUJGWa+RvjgAA\n",
       "AABJRU5ErkJggg==\n",
       "\" style=\"display:inline;vertical-align:middle;\" /></a></span>"
      ],
      "text/plain": [
       "{x in Real} |- |x + 1| in RealNonNeg"
      ]
     },
     "execution_count": 21,
     "metadata": {},
     "output_type": "execute_result"
    }
   ],
   "source": [
    "demo_expr_01.deduce_in_number_set(RealNonNeg, assumptions=[InSet(x, Real)])"
   ]
  },
  {
   "cell_type": "markdown",
   "metadata": {},
   "source": [
    "<font size=3>Now when $x \\in \\mathbb{R}^{+}$, we should have $|x+1|>1$ and thus $|x+1| \\in \\mathbb{R}^{+}$. Interestingly, this requires a little more work before Prove-It agrees:</font>"
   ]
  },
  {
   "cell_type": "code",
   "execution_count": 22,
   "metadata": {},
   "outputs": [
    {
     "name": "stdout",
     "output_type": "stream",
     "text": [
      "SpecializationFailure: Proof step failed assuming {x in RealPos}:\n",
      "Attempting to instantiate |- forall_{a in Complex | a != 0} (|a| in RealPos) with {a: x + 1}:\n",
      "Unsatisfied condition: (x + 1) != 0\n"
     ]
    }
   ],
   "source": [
    "from proveit import InstantiationFailure\n",
    "try:\n",
    "    demo_expr_01.deduce_in_number_set(RealPos, assumptions=[InSet(x, RealPos)])\n",
    "except InstantiationFailure as e:\n",
    "    print(\"SpecializationFailure: \" + str(e))\n",
    "    "
   ]
  },
  {
   "cell_type": "markdown",
   "metadata": {},
   "source": [
    "<font size=3>We could include the information the system seems to want, <i>i.e.</i>, that $x+1 \\ne 0$, and Prove-It is happy:</font>"
   ]
  },
  {
   "cell_type": "code",
   "execution_count": 23,
   "metadata": {},
   "outputs": [
    {
     "data": {
      "text/html": [
       "<span style=\"font-size:20px;\"><a class=\"ProveItLink\" href=\"../__pv_it/demonstrations/f753f28ff099603bf4f80e8cfce3668c42bfcdd50/expr.ipynb\"><img src=\"data:image/png;base64,iVBORw0KGgoAAAANSUhEUgAAAEAAAAAUBAMAAADPWCYMAAAAMFBMVEX///8QEBBmZmaqqqrMzMxE\n",
       "REQyMjIiIiKYmJh2dna6urrc3NxUVFSIiIju7u4AAAA6P00QAAAAAXRSTlMAQObYZgAAANhJREFU\n",
       "KM9jYKAIHCCkIIBGCjgKQ78lRuAzgY3vAEtEHANPWppYWgY2BazcExgC9mAxobW8PAGmQJsNU4Hr\n",
       "PSQTtFnhCt7e2XXzApDmy0O24sAamAK+CRy17CCTeTYgKWAuyoMp4HzA+Y8LJMeK5Ejx8mQwCyTO\n",
       "x8AKcYpjGhBAHTlLIQ7JcfwXwNRWZG9quSIp8HcAU4zIClhfXIDxmB/cZ+B9AGQwXUBSwHJABcZb\n",
       "bxDPsAPMKkYKaobJPA5Q3pu7bzUaIKyoB/DIcmAN+4wZByvDIUGNAgAV7jueYKkKYgAAAABJRU5E\n",
       "rkJggg==\n",
       "\" style=\"display:inline;vertical-align:middle;\" /></a>, <a class=\"ProveItLink\" href=\"../__pv_it/demonstrations/1e68f22b0ffbe41236aa6ecb0418298d0714b3ad0/expr.ipynb\"><img src=\"data:image/png;base64,iVBORw0KGgoAAAANSUhEUgAAAGMAAAAUCAMAAACuwnPeAAAAOVBMVEX///8kJCQNDQ0oKCjMzMxU\n",
       "VFR2dna6uroQEBCqqqqIiIgiIiJmZmYyMjJERETu7u6YmJjc3NwAAABBIaITAAAAAXRSTlMAQObY\n",
       "ZgAAAWNJREFUOMudldmCgyAMRTMzrGEJ8P8fOyy1ilIq8lC1JBzuJUYAgBhgdej4YULQ8G/ysD74\n",
       "GBJdB8QgWL1zcUWAahslN0bLw4PTOc6U1YOdrIi9Yi54om2PIxlHS4KqcWUzJt5mlMSNQWokgx0e\n",
       "PK9L5IRo4BEDnJzLgFQZMmnAl1WEyKPE3oIZQ1w99kcZlGxjIPhWuCRyvkEw7i4j7JHC1fH3W343\n",
       "dEyiXFhmGP2ua5HzZbzL0GYqIzNsYwhQzdaS6Q92tq0ZVS98xGDphGC8L8LdK7UfXcKVM78w/KlA\n",
       "06uu9OZVTWIrDGl60T9N8y662VISXmeuCbBsDOnBmY/bxf4OCrtVsU+X9nhl4JthRTchr6VcLCLF\n",
       "NsnEEQltCHOvLFfJ2RbkemfdteGSyO9cjVrrJfsCfelqO+uks55I9HHq1BMdTdu1X+ntb3p/4lp8\n",
       "CX/yjTpt7IuMR9/acNIuZ8H/80cQjd6M5ToAAAAASUVORK5CYII=\n",
       "\" style=\"display:inline;vertical-align:middle;\" /></a> <a class=\"ProveItLink\" href=\"../__pv_it/demonstrations/70a518f6bf50dbdf63ccaf1d8e521bf356c1c6b80/proof.ipynb\" style=\"text-decoration: none\">&nbsp;&#x22A2;&nbsp;&nbsp;</a><a class=\"ProveItLink\" href=\"../__pv_it/demonstrations/dfbd37d40ce93b51fc64b6fe48d1dcaff6d667170/expr.ipynb\"><img src=\"data:image/png;base64,iVBORw0KGgoAAAANSUhEUgAAAG4AAAAYBAMAAADpDtUUAAAAMFBMVEX///8QEBBmZmaqqqpEREQy\n",
       "MjIiIiKYmJjc3NxUVFSIiIi6urp2dnbu7u7MzMwAAACA5bTBAAAAAXRSTlMAQObYZgAAATVJREFU\n",
       "OMtjYKAjmECmPgcgfotTlu8CPn2ncerj2UAVfeyJLl8D3QnoY5bFtI+VdwKfuy8DZ2ioaGg4qj7m\n",
       "BRD65sm/mPpYOA4wOHRitQ+mj4EdSV9JWloATJ8GK9H6nqxFsk+DBUnfrZXdaxbg0scbi+zOCTsR\n",
       "+ngPsGexBeDSx9mApI85KRahj+cCz1/uBlz6WJDCRSwtGMxqgNjHwOIAjq/Q0DDR0NAJqPoehgIB\n",
       "NFxOK/jCTQGFC/8C3OHSghwP2k9Q9L1/gFsfI7I+lusLEPqYL6xn4LqASx/TAiR9fBP0EPr2G/gz\n",
       "tKPZx4WIv2SkdMZwmPMBXN/NVbfUC1D1MU38qg7Td9P7AjxdP2Bx/YzkP8z0gpwf9rhB0hkqQNHH\n",
       "e4Go/MdAZr6lRN86nDJcD/BoAwCeJXRBg3pMCwAAAABJRU5ErkJggg==\n",
       "\" style=\"display:inline;vertical-align:middle;\" /></a></span>"
      ],
      "text/plain": [
       "{x in RealPos, (x + 1) != 0} |- |x + 1| in RealPos"
      ]
     },
     "execution_count": 23,
     "metadata": {},
     "output_type": "execute_result"
    }
   ],
   "source": [
    "demo_expr_01.deduce_in_number_set(\n",
    "    RealPos,\n",
    "    assumptions=[InSet(x, RealPos), NotEquals(Add(x, one), zero)])"
   ]
  },
  {
   "cell_type": "markdown",
   "metadata": {},
   "source": [
    "<font size=3>But that seems a little clunky, with that additional (and redundant) assumption appearing in the result. Instead we can nudge Prove-It by first having it prove that the operand $x+1$ is itself a positive real value, and then it has no problem proving that the absolute value expression $|x+1|$ itself is also a positive real value:</font>"
   ]
  },
  {
   "cell_type": "code",
   "execution_count": 24,
   "metadata": {},
   "outputs": [
    {
     "data": {
      "text/html": [
       "<span style=\"font-size:20px;\"><a class=\"ProveItLink\" href=\"../__pv_it/demonstrations/f753f28ff099603bf4f80e8cfce3668c42bfcdd50/expr.ipynb\"><img src=\"data:image/png;base64,iVBORw0KGgoAAAANSUhEUgAAAEAAAAAUBAMAAADPWCYMAAAAMFBMVEX///8QEBBmZmaqqqrMzMxE\n",
       "REQyMjIiIiKYmJh2dna6urrc3NxUVFSIiIju7u4AAAA6P00QAAAAAXRSTlMAQObYZgAAANhJREFU\n",
       "KM9jYKAIHCCkIIBGCjgKQ78lRuAzgY3vAEtEHANPWppYWgY2BazcExgC9mAxobW8PAGmQJsNU4Hr\n",
       "PSQTtFnhCt7e2XXzApDmy0O24sAamAK+CRy17CCTeTYgKWAuyoMp4HzA+Y8LJMeK5Ejx8mQwCyTO\n",
       "x8AKcYpjGhBAHTlLIQ7JcfwXwNRWZG9quSIp8HcAU4zIClhfXIDxmB/cZ+B9AGQwXUBSwHJABcZb\n",
       "bxDPsAPMKkYKaobJPA5Q3pu7bzUaIKyoB/DIcmAN+4wZByvDIUGNAgAV7jueYKkKYgAAAABJRU5E\n",
       "rkJggg==\n",
       "\" style=\"display:inline;vertical-align:middle;\" /></a> <a class=\"ProveItLink\" href=\"../__pv_it/demonstrations/9d3af4d2d133fd8a5c262084800a2a07f27761770/proof.ipynb\" style=\"text-decoration: none\">&nbsp;&#x22A2;&nbsp;&nbsp;</a><a class=\"ProveItLink\" href=\"../__pv_it/demonstrations/3992486068d44c94174d494a812a9698b12867d50/expr.ipynb\"><img src=\"data:image/png;base64,iVBORw0KGgoAAAANSUhEUgAAAHIAAAAYBAMAAADUnLRyAAAAMFBMVEX////MzMxUVFR2dna6uroQ\n",
       "EBCqqqqIiIgiIiJmZmYyMjJERETu7u6YmJjc3NwAAACgK8IjAAAAAXRSTlMAQObYZgAAAYNJREFU\n",
       "OMtjYKAzUCBb5wbKdPJdwCWdR0DnaZzSTA9Q+bytu38t3YvQuQ6rLrYYBgaeBWiCXDwKjHv3MDCt\n",
       "WhW1ai0D7wQUDQUQ+pDRHyBpjqaTm8+AYcMjmJ0cD7DpZOAF6TwK5dzu6FgA0zmPC6bzBQNunVwO\n",
       "YLZ0DZKd87hhOiuB+HjRk+ICLDqZwT7hWYPsWgUnmE5gWPEY8LZzLMCik3cBahADdbJ1roHpbAMa\n",
       "fYD5D8sDLDrZGsDqkUIoomMZmAVSHQK0k4EbHD/Mq1atiFq1SgGuk/EDiCm6CgigIWQyYQ/cnBAQ\n",
       "wV+ANYQgOl8jx8oUaTivDUTIC2DVyQJ2LSuyTu6zMBWgEGI7UM/AfgBnCHEWIOlkVJgI41kyMPgn\n",
       "7Gd4i2YnO0gnpwHCWdDUx2DGBHOfBzCplR+fewFVJ6fqr7lAlRBFh7YcgKd4Ae5d36A6caQ+MDgB\n",
       "pZ13dCzAzBSoKZ7nADLPHH/23odThmcBfp24czb3A/w6cZcm9/DqAwAUtHDjfE3mBwAAAABJRU5E\n",
       "rkJggg==\n",
       "\" style=\"display:inline;vertical-align:middle;\" /></a></span>"
      ],
      "text/plain": [
       "{x in RealPos} |- (x + 1) in RealPos"
      ]
     },
     "execution_count": 24,
     "metadata": {},
     "output_type": "execute_result"
    }
   ],
   "source": [
    "InSet(Add(x, one), RealPos).prove(assumptions=[InSet(x, RealPos)])"
   ]
  },
  {
   "cell_type": "code",
   "execution_count": 25,
   "metadata": {},
   "outputs": [
    {
     "data": {
      "text/html": [
       "<span style=\"font-size:20px;\"><a class=\"ProveItLink\" href=\"../__pv_it/demonstrations/f753f28ff099603bf4f80e8cfce3668c42bfcdd50/expr.ipynb\"><img src=\"data:image/png;base64,iVBORw0KGgoAAAANSUhEUgAAAEAAAAAUBAMAAADPWCYMAAAAMFBMVEX///8QEBBmZmaqqqrMzMxE\n",
       "REQyMjIiIiKYmJh2dna6urrc3NxUVFSIiIju7u4AAAA6P00QAAAAAXRSTlMAQObYZgAAANhJREFU\n",
       "KM9jYKAIHCCkIIBGCjgKQ78lRuAzgY3vAEtEHANPWppYWgY2BazcExgC9mAxobW8PAGmQJsNU4Hr\n",
       "PSQTtFnhCt7e2XXzApDmy0O24sAamAK+CRy17CCTeTYgKWAuyoMp4HzA+Y8LJMeK5Ejx8mQwCyTO\n",
       "x8AKcYpjGhBAHTlLIQ7JcfwXwNRWZG9quSIp8HcAU4zIClhfXIDxmB/cZ+B9AGQwXUBSwHJABcZb\n",
       "bxDPsAPMKkYKaobJPA5Q3pu7bzUaIKyoB/DIcmAN+4wZByvDIUGNAgAV7jueYKkKYgAAAABJRU5E\n",
       "rkJggg==\n",
       "\" style=\"display:inline;vertical-align:middle;\" /></a> <a class=\"ProveItLink\" href=\"../__pv_it/demonstrations/872aaa64142e5acd502d9f54ceba17261107d0cb0/proof.ipynb\" style=\"text-decoration: none\">&nbsp;&#x22A2;&nbsp;&nbsp;</a><a class=\"ProveItLink\" href=\"../__pv_it/demonstrations/dfbd37d40ce93b51fc64b6fe48d1dcaff6d667170/expr.ipynb\"><img src=\"data:image/png;base64,iVBORw0KGgoAAAANSUhEUgAAAG4AAAAYBAMAAADpDtUUAAAAMFBMVEX///8QEBBmZmaqqqpEREQy\n",
       "MjIiIiKYmJjc3NxUVFSIiIi6urp2dnbu7u7MzMwAAACA5bTBAAAAAXRSTlMAQObYZgAAATVJREFU\n",
       "OMtjYKAjmECmPgcgfotTlu8CPn2ncerj2UAVfeyJLl8D3QnoY5bFtI+VdwKfuy8DZ2ioaGg4qj7m\n",
       "BRD65sm/mPpYOA4wOHRitQ+mj4EdSV9JWloATJ8GK9H6nqxFsk+DBUnfrZXdaxbg0scbi+zOCTsR\n",
       "+ngPsGexBeDSx9mApI85KRahj+cCz1/uBlz6WJDCRSwtGMxqgNjHwOIAjq/Q0DDR0NAJqPoehgIB\n",
       "NFxOK/jCTQGFC/8C3OHSghwP2k9Q9L1/gFsfI7I+lusLEPqYL6xn4LqASx/TAiR9fBP0EPr2G/gz\n",
       "tKPZx4WIv2SkdMZwmPMBXN/NVbfUC1D1MU38qg7Td9P7AjxdP2Bx/YzkP8z0gpwf9rhB0hkqQNHH\n",
       "e4Go/MdAZr6lRN86nDJcD/BoAwCeJXRBg3pMCwAAAABJRU5ErkJggg==\n",
       "\" style=\"display:inline;vertical-align:middle;\" /></a></span>"
      ],
      "text/plain": [
       "{x in RealPos} |- |x + 1| in RealPos"
      ]
     },
     "execution_count": 25,
     "metadata": {},
     "output_type": "execute_result"
    }
   ],
   "source": [
    "InSet(demo_expr_01, RealPos).prove(assumptions=[InSet(x, RealPos)])"
   ]
  },
  {
   "cell_type": "markdown",
   "metadata": {},
   "source": [
    "<a id='demo02'></a><font size=4><b>2. Simplifying $|a+b+2+3|$ and Deducing Numbers Sets</b></font><br><br>\n",
    "<font size=3>Now consider a simple absolute value expression, where the operand is a sum of variables and known constants: $|a+b+2+3|$</font>"
   ]
  },
  {
   "cell_type": "code",
   "execution_count": 26,
   "metadata": {},
   "outputs": [
    {
     "data": {
      "text/html": [
       "<strong id=\"demo_expr_02\">demo_expr_02:</strong> <a class=\"ProveItLink\" href=\"../__pv_it/demonstrations/013214995eedd8c2ef091aca4d29bd734b4bcffd0/expr.ipynb\"><img src=\"data:image/png;base64,iVBORw0KGgoAAAANSUhEUgAAAHwAAAAVBAMAAAB2y5cfAAAAMFBMVEX///9UVFSqqqoiIiJERESY\n",
       "mJgyMjIQEBBmZmbc3NyIiIi6urp2dnbu7u7MzMwAAABs7OAJAAAAAXRSTlMAQObYZgAAAWFJREFU\n",
       "OMtjeMtAAXjLcJoS7aexaud1N0ATudHihyYy54wTLu0MbA1o5gkwnN+AIsLZwKAfgK5dC0rzK6AK\n",
       "cFxgYC9AEeH6xMBvgEv7/guoAuwGDIw/UUS4qxn4E3BpP4wmwPaXgfEfqhIGuONnnFh+AVUucVUT\n",
       "umLmv2givDaQoOOuZMhHtYz324X7E9C07z+Aqp3zcC9E+/UAhhZU7Ux/GfgXoGk3ZEB3z/INYO39\n",
       "FxisQNxjaWnmaWmJoIBOYLh/AFkAKNSAqgQUnrVg7SUMvP/QQqqBYb8Cql0r0AKTcwIDyyeQdt4/\n",
       "DEwfUOX4A0BOQtbO1MAwE1XJX5j2TwyMCZqocht4S1F9+oaBYSVqSnAAxQXI8V4MwQKowcoYwNKA\n",
       "6lSbM40GKCKsAbB4v7jqpdQG1IjrOooWGP///0fVzrCjw5sBV6rDLYAqgqb9LrpiDAFUkdO0KC5I\n",
       "0L6OEu3rAEYceWwCfNm9AAAAAElFTkSuQmCC\n",
       "\" style=\"display:inline;vertical-align:middle;\" /></a><br>"
      ],
      "text/plain": [
       "demo_expr_02: |a + b + 2 + 3|"
      ]
     },
     "execution_count": 26,
     "metadata": {},
     "output_type": "execute_result"
    }
   ],
   "source": [
    "demo_expr_02 = Abs(Add(a, b, two, three))"
   ]
  },
  {
   "cell_type": "markdown",
   "metadata": {},
   "source": [
    "<font size=3>We can obtain simplification equivalences, depending on our assumptions about the nature of the variables $a$ and $b$. If $a$ and $b$ are complex numbers or real numbers, for example, Prove-It simplifies the $2+3$ portion to $5$ and keeps the absolute value:</font>"
   ]
  },
  {
   "cell_type": "code",
   "execution_count": 27,
   "metadata": {},
   "outputs": [
    {
     "data": {
      "text/html": [
       "<span style=\"font-size:20px;\"><a class=\"ProveItLink\" href=\"../__pv_it/theorems/ffc4a45642fde8a513aa78237f7ca59ff7c646290/expr.ipynb\"><img src=\"data:image/png;base64,iVBORw0KGgoAAAANSUhEUgAAADMAAAAPBAMAAAC7N+rPAAAAMFBMVEX///9UVFSqqqrMzMwiIiJE\n",
       "RESYmJgyMjK6urru7u4QEBCIiIh2dnZmZmbc3NwAAABRgo0vAAAAAXRSTlMAQObYZgAAANBJREFU\n",
       "GNNjYMACuEvql8Rik2BgtlfgvJ+LVSpBmoGB7S+KUKqLSwGQYjNYCSRlkWVMd0JoXr4AIDkbiPnu\n",
       "3AapYuCshCqZyHwByup6wP4BRDM+gAq84dgAYXAuY+AFGcDACjP4LUyK9ycDC5hpVQ4EIGdMZT4A\n",
       "keIKYJhvAGI8helinyAAYcw/wKAPUQOTYrsAkuIESikwiDOBXMC7ASYX3Q0k2oG2b2Bz5AGLOMGk\n",
       "eEtPcqpGAjVKb364A+KfiAlQOduqL5dRw64nBBxQMAAAUJwvP1Qg9PwAAAAASUVORK5CYII=\n",
       "\" style=\"display:inline;vertical-align:middle;\" /></a>, <a class=\"ProveItLink\" href=\"../__pv_it/theorems/cc5977648bc1a1b7dbb543c11fb2eb11ba7bfd0b0/expr.ipynb\"><img src=\"data:image/png;base64,iVBORw0KGgoAAAANSUhEUgAAADEAAAAPBAMAAAC/wjryAAAAMFBMVEX////MzMyYmJjc3NyIiIhU\n",
       "VFR2dna6urqqqqpmZmYyMjIiIiIQEBBERETu7u4AAACIO4EmAAAAAXRSTlMAQObYZgAAANhJREFU\n",
       "GNNj4LuzgQENsKxef/omkOaagCbBKN/AN18TyOBvQJNRCGFgYPoJZNQ/gIro7t69AEgxCZwDkpFA\n",
       "nA2VkPWD0JzMF4DkEyBe6jIDJMC3DqriKSPUYr5fD94bAGlWA6iMGbsDhMHxj4EfxOSFOcASJsO5\n",
       "gOF9ApCWWQUEIBe8ZUyAyAC9Uw9yty1MD9eDAAiDX4FhPsjdPDAZpgkgGT6gTAHfIbCpDjCpKyVA\n",
       "ogroJgVeiCt3wGQ41+bx9d4DapuSBPXHdVhgSK75PRElvMpug0MHBgCFGjXcupX6XQAAAABJRU5E\n",
       "rkJggg==\n",
       "\" style=\"display:inline;vertical-align:middle;\" /></a> <a class=\"ProveItLink\" href=\"../__pv_it/demonstrations/21dfdb1bdd2d4ee465c66d280d400d834b5a18450/proof.ipynb\" style=\"text-decoration: none\">&nbsp;&#x22A2;&nbsp;&nbsp;</a><a class=\"ProveItLink\" href=\"../__pv_it/demonstrations/b15e2c54a2ac97342a70f90476c74b28db0e6b130/expr.ipynb\"><img src=\"data:image/png;base64,iVBORw0KGgoAAAANSUhEUgAAAPUAAAAVBAMAAABs27XUAAAAMFBMVEX///9UVFSqqqoiIiJERESY\n",
       "mJgyMjIQEBBmZmbc3NyIiIi6urp2dnbu7u7MzMwAAABs7OAJAAAAAXRSTlMAQObYZgAAAfVJREFU\n",
       "SMfFls8rPGEcx98Wy8zObEokF3N0w0VuFAc3Lo7fwzc17UUOfiUpSdpEVi6UgyMRe3Pdb32Tojyi\n",
       "uO38A0pEsTR2zJDPZ+fh2baY08xrnuf9en7NMw+uUcIVFwxcF1X3uBS3kWbguKi6oaUvRhgwkz0O\n",
       "JdrJf0vRXZAW/ROflbqRYM9nMHKUrCFyr9pvnlblupkCd2QzuLllYAmYoGTfwt03bmla9N82pO7Y\n",
       "CwP5UWtKEXKQxoOiuyCtLGy+318arQwMCzQ5tDPfj7k07ZNbW1yYZoPSuGUxEzoFI+eZULdCWtnA\n",
       "lhO4D1LRG1o6O2Q+MlPsmU3iRocI3Ie2dyUCt0JahdByvtscQ3UXLd0i8MTc5TXMDX0qrN9qaej2\n",
       "3dUvKPegYduD47btOeZhPhMAJAFGMCFC3GppWE69uau6kHVoSxOI3dKW6jNsvawDfVaIWyWtHjhN\n",
       "v7mzGbSw4Huv+cTdDI1+Y674cPvz/dd3q6SN5/stfLeF+ggNzuGyn4B4BjotMuqt/JB+q6Tlx7Dd\n",
       "n++Kzco2g7a0Dr0UrJ4c1VIyIPm+VdLWUDkZrPPGvZUd+vJqt5/tLa57xzar5Fw6dJ0rpGmLDUK+\n",
       "n0sBJYr7uawuKW3ys0ABoORr99dp0n/oL54dfsi9V4pbZ4eZYtJ05xUFzPl9amtFIgAAAABJRU5E\n",
       "rkJggg==\n",
       "\" style=\"display:inline;vertical-align:middle;\" /></a></span>"
      ],
      "text/plain": [
       "{a in Complex, b in Complex} |- |a + b + 2 + 3| = |a + b + 5|"
      ]
     },
     "execution_count": 27,
     "metadata": {},
     "output_type": "execute_result"
    }
   ],
   "source": [
    "# variables a and b are complex, notated as a tuple\n",
    "demo_expr_02.simplification(assumptions=[InSet(a, Complex), InSet(b, Complex)])"
   ]
  },
  {
   "cell_type": "code",
   "execution_count": 28,
   "metadata": {},
   "outputs": [
    {
     "data": {
      "text/html": [
       "<span style=\"font-size:20px;\"><a class=\"ProveItLink\" href=\"../../addition/__pv_it/theorems/bd2f502b953df5e1834a5d80011e6b2e7aa85c890/expr.ipynb\"><img src=\"data:image/png;base64,iVBORw0KGgoAAAANSUhEUgAAADMAAAAPBAMAAAC7N+rPAAAAMFBMVEX///9UVFSqqqrMzMwiIiJE\n",
       "RESYmJgyMjK6urru7u4QEBCIiIh2dnZmZmbc3NwAAABRgo0vAAAAAXRSTlMAQObYZgAAAMpJREFU\n",
       "GNNjYMAAKUvjy5cmMGAFBRMZTFMnYJUKeMPAyieAIpTq4lIAleJ9UIAsY7oToYv3QQCQwXfn9kqQ\n",
       "AGclkoGMHCADux6wfwAJMD5AklK5DnQG5zIGXpBmBlaEM165uCsAad6fDCwbQAJW5UAAdUYvK8jt\n",
       "XAEM8w1AAk+RHM/bDDJo/gEGfbAAF7K/IrNBUgoM4kwgF/BuQJIy5AWaxLqBzZEHLOKEFFA8CsJA\n",
       "F0pvfrgDLDIxYgIseIsZQusVkIOjJ8QFOXgAnyk4ZcxDaYcAAAAASUVORK5CYII=\n",
       "\" style=\"display:inline;vertical-align:middle;\" /></a>, <a class=\"ProveItLink\" href=\"../../addition/__pv_it/theorems/01066498eeade39164943c7fc785297aa9d0bb160/expr.ipynb\"><img src=\"data:image/png;base64,iVBORw0KGgoAAAANSUhEUgAAADEAAAAPBAMAAAC/wjryAAAAMFBMVEX////MzMyYmJjc3NyIiIhU\n",
       "VFR2dna6urqqqqpmZmYyMjIiIiIQEBBERETu7u4AAACIO4EmAAAAAXRSTlMAQObYZgAAANJJREFU\n",
       "GNNj4LuzgQEFaJ+9v+qsAojFNQFVhmHBUwZZ3QdABn8DmswFMwZe5gAgo/4BVER39+4FUBlOAxAr\n",
       "Gyoh64fQw2lwAchY6jIDxOdbh2QaKzvQNL5fD94bAPmsBkgy3bOAVnD8Y+B3APJ5ES6w2b0L5CrO\n",
       "BQzvE4C0zCoggLqgkvcBxDv1IBW2SK7mLAQ5gF+BYT5IBQ+yf+6pgGQK+A6B+JwOSDKinAJANynw\n",
       "QoJnB1LosDUEAl09JQki8PT6A1iILmS4ux45zMpuQ0IHCgBwWkIYWdoBRwAAAABJRU5ErkJggg==\n",
       "\" style=\"display:inline;vertical-align:middle;\" /></a> <a class=\"ProveItLink\" href=\"../__pv_it/demonstrations/11b0ae140f34e4a9b90c47d6fb065037980ac8360/proof.ipynb\" style=\"text-decoration: none\">&nbsp;&#x22A2;&nbsp;&nbsp;</a><a class=\"ProveItLink\" href=\"../__pv_it/demonstrations/b15e2c54a2ac97342a70f90476c74b28db0e6b130/expr.ipynb\"><img src=\"data:image/png;base64,iVBORw0KGgoAAAANSUhEUgAAAPUAAAAVBAMAAABs27XUAAAAMFBMVEX///9UVFSqqqoiIiJERESY\n",
       "mJgyMjIQEBBmZmbc3NyIiIi6urp2dnbu7u7MzMwAAABs7OAJAAAAAXRSTlMAQObYZgAAAfVJREFU\n",
       "SMfFls8rPGEcx98Wy8zObEokF3N0w0VuFAc3Lo7fwzc17UUOfiUpSdpEVi6UgyMRe3Pdb32Tojyi\n",
       "uO38A0pEsTR2zJDPZ+fh2baY08xrnuf9en7NMw+uUcIVFwxcF1X3uBS3kWbguKi6oaUvRhgwkz0O\n",
       "JdrJf0vRXZAW/ROflbqRYM9nMHKUrCFyr9pvnlblupkCd2QzuLllYAmYoGTfwt03bmla9N82pO7Y\n",
       "CwP5UWtKEXKQxoOiuyCtLGy+318arQwMCzQ5tDPfj7k07ZNbW1yYZoPSuGUxEzoFI+eZULdCWtnA\n",
       "lhO4D1LRG1o6O2Q+MlPsmU3iRocI3Ie2dyUCt0JahdByvtscQ3UXLd0i8MTc5TXMDX0qrN9qaej2\n",
       "3dUvKPegYduD47btOeZhPhMAJAFGMCFC3GppWE69uau6kHVoSxOI3dKW6jNsvawDfVaIWyWtHjhN\n",
       "v7mzGbSw4Huv+cTdDI1+Y674cPvz/dd3q6SN5/stfLeF+ggNzuGyn4B4BjotMuqt/JB+q6Tlx7Dd\n",
       "n++Kzco2g7a0Dr0UrJ4c1VIyIPm+VdLWUDkZrPPGvZUd+vJqt5/tLa57xzar5Fw6dJ0rpGmLDUK+\n",
       "n0sBJYr7uawuKW3ys0ABoORr99dp0n/oL54dfsi9V4pbZ4eZYtJ05xUFzPl9amtFIgAAAABJRU5E\n",
       "rkJggg==\n",
       "\" style=\"display:inline;vertical-align:middle;\" /></a></span>"
      ],
      "text/plain": [
       "{a in Real, b in Real} |- |a + b + 2 + 3| = |a + b + 5|"
      ]
     },
     "execution_count": 28,
     "metadata": {},
     "output_type": "execute_result"
    }
   ],
   "source": [
    "# variables a and b are real, notated individually\n",
    "demo_expr_02.simplification(assumptions=[InSet(a, Real), InSet(b, Real)])"
   ]
  },
  {
   "cell_type": "markdown",
   "metadata": {},
   "source": [
    "<font size=3>We can simplify further if we know that $a$ and $b$ are non-negative reals, with `simplification()` combining the numerical constants *and* removing the absolute value:</font>"
   ]
  },
  {
   "cell_type": "code",
   "execution_count": 29,
   "metadata": {},
   "outputs": [
    {
     "data": {
      "text/html": [
       "<span style=\"font-size:20px;\"><a class=\"ProveItLink\" href=\"../../addition/__pv_it/theorems/c2741e7bf3ba56bb8af4781eceb979ce777fa1cc0/expr.ipynb\"><img src=\"data:image/png;base64,iVBORw0KGgoAAAANSUhEUgAAAEgAAAAVBAMAAAAX07VdAAAAMFBMVEX///9UVFSqqqrMzMwiIiJE\n",
       "RESYmJgyMjK6urru7u4QEBCIiIh2dnZmZmbc3NwAAABRgo0vAAAAAXRSTlMAQObYZgAAASlJREFU\n",
       "KM9jYCAE9uzBJ9v4AESyHWASwKOI76IBkGRpYPiJzyi+q0BV8w0YFuF1DufRBgb7Bwxu+B3NeXyC\n",
       "/QQGbywyKUvjy5cmgJncZSCTVmPTXzCRwTR1ApAxOwjsph/YFAW8YWDlA/p7TgQW36W6uBRAFfE+\n",
       "KGCYGwG28QJKOJnuRJjE+yCAwRga4mdBoXHn9kqwTyqRrGPkQA3mrgfsH0A04wMkRSrXJ6AExTIG\n",
       "3gAQgxXh8Fcu7goMDKqhQABRy/uTgWUDiGFVDgRQh/eyohjEwBUACgogeIoUBLzNASiK5h9g0Ieo\n",
       "Rg6nyGxURQoM4kwgN/NuQFJkyGuArIh1A5sjD5jlhBQtPArCKL6T3vxwB5g1MWICLIKLGULrFbAn\n",
       "jJ4QSLRgAAALr1Nqmplu+QAAAABJRU5ErkJggg==\n",
       "\" style=\"display:inline;vertical-align:middle;\" /></a>, <a class=\"ProveItLink\" href=\"../../addition/__pv_it/theorems/5dc3a413adc52c16bb1fe833d0a2a30a82fffe7f0/expr.ipynb\"><img src=\"data:image/png;base64,iVBORw0KGgoAAAANSUhEUgAAAEYAAAAVBAMAAAAJGoXuAAAAMFBMVEX////MzMyYmJjc3NyIiIhU\n",
       "VFR2dna6urqqqqpmZmYyMjIiIiIQEBBERETu7u4AAACIO4EmAAAAAXRSTlMAQObYZgAAATdJREFU\n",
       "KM9jYCAA3NzwSJYagEimBI4A3GqYpwoASe4Chn94DGKeC1T0XoDhBD6n8OUWMMgbMGzC616+rAfy\n",
       "Dxi2MPDd2YAqoX32/qqzCmAmyyKQOUcYGLgmoOle8JRBVvcBkPHkBtg93xkY+BvQ1FwwY+BlBnr4\n",
       "2XW4v+ofQOV0d+9eAFXDabCA4eV1sHUTQOGTDVUi64cwh9PgAoMgNJwzgcRSlxlgP6xDsouVHSVw\n",
       "+X49eA8KdVYDJDXdsx4gq+H4x8DvAKR5EW622b0L6I/eu0AAUcq5gOF9ApCWWQUEUDdX8qIYAwqe\n",
       "epDvbZH8zll4AUUNvwLDfJAuHuTwuaeCqqaA7xDYTgckNaKcAshqWBV4IZGxAyku2BoCUfw+JQnC\n",
       "eHr9ASxOFzLcXd+ANSWU3YbEBQYAANJKXoCzSUXmAAAAAElFTkSuQmCC\n",
       "\" style=\"display:inline;vertical-align:middle;\" /></a> <a class=\"ProveItLink\" href=\"../__pv_it/demonstrations/61c2ccf07c8e4686995084d3019f6017fc759f9a0/proof.ipynb\" style=\"text-decoration: none\">&nbsp;&#x22A2;&nbsp;&nbsp;</a><a class=\"ProveItLink\" href=\"../__pv_it/demonstrations/2fd3c078590ca4b7d7d9d908d9fd38bb71f64bb40/expr.ipynb\"><img src=\"data:image/png;base64,iVBORw0KGgoAAAANSUhEUgAAAPkAAAAVBAMAAAB251VaAAAAMFBMVEX///9UVFSqqqoiIiJERESY\n",
       "mJgyMjIQEBBmZmbc3NyIiIi6urp2dnbu7u7MzMwAAABs7OAJAAAAAXRSTlMAQObYZgAAAnVJREFU\n",
       "SMetlr9rE2EYx79JLpcfd5criEW6NKNOiQ5OgsUqKi63ODgIESHoIA5iRUrh6FBCaelJF4cO2Yw/\n",
       "CAEH3RopQqkFTwzU7fIPCCWioO0R30uC5HnuPRtI3yHhPnmf7zfPj/fu8B1jrLGCg/XpeIMz1sjB\n",
       "ZyLcjatFTiqX25Rs7F6SBbdkPq1HDKi3c4uIORG5qzYDX6Af0BxtFCxJ8H1pmvfYdarbbcIoMfd4\n",
       "tf9t5hlYBZ4Qku3ALIbdk7ZMDh0G1A8vxedOhPumy4Ao3bQzTLR5mKWwe8KRyWk+A7He516E+xYH\n",
       "D11Mt2k+0sqvQyanF6XuaiMQyKwsL9Bf77xaZLUDLrqUGBckQ1ODTE6dquWp+82ayEW3A4F3jrpP\n",
       "thu/XM9h7tohVcxsrQ7c9XJv9Tp+BRI5eA+M3wQobkYMcTJonfEY6RmyPe7DrDL3xASvxotGOPdz\n",
       "kMih4OIPL+WsuArGNu0jUe3ncHeuXBYu6RK85jAQqwIwkloIu89DIoclGIcsGGsOcvtCIDUDr03+\n",
       "rDjum7RRyNp0cDIOlI7UPSwnjrvWIWAS+Nzou4s0C1TatLDGZux04De8xf/nPuj7xKDyYTn8DAoy\n",
       "DOYQGGhB5b08JuNUuiGaR7bnmsiSLSLDhB/OXUxdWA4H2LMIEIU8P5g6pZo8qxOzmKXY1H19d/sE\n",
       "IUlLet63IZHDSVyj4DmST8WENIOZn6o/e01P3PJHfrfpdn9Q8r5yQ3Le30Iih29vLHZcV06Jzqpt\n",
       "+b0uGlAy4p02AnxlAobLn6wu/keOeMocIbdz7G8X10cPDj1hx3dvjR6siC7Vx3Gvj/NmdQv4C523\n",
       "6f8XXdeIAAAAAElFTkSuQmCC\n",
       "\" style=\"display:inline;vertical-align:middle;\" /></a></span>"
      ],
      "text/plain": [
       "{a in RealNonNeg, b in RealNonNeg} |- |a + b + 2 + 3| = (a + b + 5)"
      ]
     },
     "execution_count": 29,
     "metadata": {},
     "output_type": "execute_result"
    }
   ],
   "source": [
    "demo_expr_02.simplification(\n",
    "    assumptions=[InSet(a, RealNonNeg), InSet(b, RealNonNeg)])"
   ]
  },
  {
   "cell_type": "markdown",
   "metadata": {},
   "source": [
    "<font size=3>Similarly, given the assumption that $a$ and $b$ are non-negative reals, we can explicitly deduce that the entire expression is also a non-negative real:</font>"
   ]
  },
  {
   "cell_type": "code",
   "execution_count": 30,
   "metadata": {},
   "outputs": [
    {
     "data": {
      "text/html": [
       "<span style=\"font-size:20px;\"><a class=\"ProveItLink\" href=\"../../addition/__pv_it/theorems/c2741e7bf3ba56bb8af4781eceb979ce777fa1cc0/expr.ipynb\"><img src=\"data:image/png;base64,iVBORw0KGgoAAAANSUhEUgAAAEgAAAAVBAMAAAAX07VdAAAAMFBMVEX///9UVFSqqqrMzMwiIiJE\n",
       "RESYmJgyMjK6urru7u4QEBCIiIh2dnZmZmbc3NwAAABRgo0vAAAAAXRSTlMAQObYZgAAASlJREFU\n",
       "KM9jYCAE9uzBJ9v4AESyHWASwKOI76IBkGRpYPiJzyi+q0BV8w0YFuF1DufRBgb7Bwxu+B3NeXyC\n",
       "/QQGbywyKUvjy5cmgJncZSCTVmPTXzCRwTR1ApAxOwjsph/YFAW8YWDlA/p7TgQW36W6uBRAFfE+\n",
       "KGCYGwG28QJKOJnuRJjE+yCAwRga4mdBoXHn9kqwTyqRrGPkQA3mrgfsH0A04wMkRSrXJ6AExTIG\n",
       "3gAQgxXh8Fcu7goMDKqhQABRy/uTgWUDiGFVDgRQh/eyohjEwBUACgogeIoUBLzNASiK5h9g0Ieo\n",
       "Rg6nyGxURQoM4kwgN/NuQFJkyGuArIh1A5sjD5jlhBQtPArCKL6T3vxwB5g1MWICLIKLGULrFbAn\n",
       "jJ4QSLRgAAALr1Nqmplu+QAAAABJRU5ErkJggg==\n",
       "\" style=\"display:inline;vertical-align:middle;\" /></a>, <a class=\"ProveItLink\" href=\"../../addition/__pv_it/theorems/5dc3a413adc52c16bb1fe833d0a2a30a82fffe7f0/expr.ipynb\"><img src=\"data:image/png;base64,iVBORw0KGgoAAAANSUhEUgAAAEYAAAAVBAMAAAAJGoXuAAAAMFBMVEX////MzMyYmJjc3NyIiIhU\n",
       "VFR2dna6urqqqqpmZmYyMjIiIiIQEBBERETu7u4AAACIO4EmAAAAAXRSTlMAQObYZgAAATdJREFU\n",
       "KM9jYCAA3NzwSJYagEimBI4A3GqYpwoASe4Chn94DGKeC1T0XoDhBD6n8OUWMMgbMGzC616+rAfy\n",
       "Dxi2MPDd2YAqoX32/qqzCmAmyyKQOUcYGLgmoOle8JRBVvcBkPHkBtg93xkY+BvQ1FwwY+BlBnr4\n",
       "2XW4v+ofQOV0d+9eAFXDabCA4eV1sHUTQOGTDVUi64cwh9PgAoMgNJwzgcRSlxlgP6xDsouVHSVw\n",
       "+X49eA8KdVYDJDXdsx4gq+H4x8DvAKR5EW622b0L6I/eu0AAUcq5gOF9ApCWWQUEUDdX8qIYAwqe\n",
       "epDvbZH8zll4AUUNvwLDfJAuHuTwuaeCqqaA7xDYTgckNaKcAshqWBV4IZGxAyku2BoCUfw+JQnC\n",
       "eHr9ASxOFzLcXd+ANSWU3YbEBQYAANJKXoCzSUXmAAAAAElFTkSuQmCC\n",
       "\" style=\"display:inline;vertical-align:middle;\" /></a> <a class=\"ProveItLink\" href=\"../__pv_it/demonstrations/43d7efbf51705d7fdc940a4c3d5feeb3756401550/proof.ipynb\" style=\"text-decoration: none\">&nbsp;&#x22A2;&nbsp;&nbsp;</a><a class=\"ProveItLink\" href=\"../__pv_it/demonstrations/49bccb0656c3fc56533a9e37753bf667ff8d69d60/expr.ipynb\"><img src=\"data:image/png;base64,iVBORw0KGgoAAAANSUhEUgAAALwAAAAZBAMAAAB5tlnFAAAAMFBMVEX///9UVFSqqqoiIiJERESY\n",
       "mJgyMjIQEBBmZmbc3NyIiIi6urp2dnbu7u7MzMwAAABs7OAJAAAAAXRSTlMAQObYZgAAAlpJREFU\n",
       "SMe9lUFo01AYx/9r2i1pm6agCHpwAT3stslwBxEMsyBYxICePFXEHJ3odKAMqoiU4jDiwUsPvQk6\n",
       "Rj25i66wKYPt8HYREaEVvLrJBC+zzJc2Wd/32rpDqO+QhD/v++XL9/3fF6B/a36+P9w3rneNVSPp\n",
       "vuC1B3V+VSpo9Cd97RHn1+q4hR9hMD2D9ZUKtlycxFoYfO9g/SPbYjjVdYd+bkxWCpk6VUrrkx34\n",
       "S9MXnWm7+Ri/7mV/r3sCg3lJ2EByh1Y3j1G7Izi3ge+XGX/4Mtms/Q7dESm37oYpCXPADFHi2zDG\n",
       "OvBWCVGNu/FrNnBOV/wSk4TbwLArKon7MHJBcOzs+ESAV90cPmebGeS577vil2VhimG4ThS0i5M6\n",
       "z9rZq66FTf/Urja7oz0pzlLa1VcPIcFwhlFFPx209hMTijOQSEveeusO/iQ0/TeruRI+8Ye+UFue\n",
       "C/CHxdofe8woXr8D1SKxkQaMsoRX0vL3vKz4eKuNfzE+wV1xPMMX8/FqA4oXk3Sca3cdh2PUHGpV\n",
       "UeCrAEjK0GwLn+KK4/jZL0aZdPCGLM+iYmrc9ksmzTWep83WXES3W3hNyL6kvrckPE90lMYaNp5K\n",
       "jRzxgOKWxh4eN8XaX7gi400citDYCu8HwaeqiJMt/JOV4NAURfw3tU7x0XLsRJLQBuxonuKfr68e\n",
       "IErMbvteMYWhkDSPSs45svDsNTVm8YN8rHZ3f1FlsZANjKkffLc30m4gM2X2mqnCKeohUMUPTqz4\n",
       "Q2Gfka0zeRAz/EtZC/FHCPU7+U/4hTD4fYP/AseFy1YIJSFIAAAAAElFTkSuQmCC\n",
       "\" style=\"display:inline;vertical-align:middle;\" /></a></span>"
      ],
      "text/plain": [
       "{a in RealNonNeg, b in RealNonNeg} |- |a + b + 2 + 3| in RealNonNeg"
      ]
     },
     "execution_count": 30,
     "metadata": {},
     "output_type": "execute_result"
    }
   ],
   "source": [
    "demo_expr_02.deduce_in_number_set(\n",
    "        RealNonNeg,\n",
    "        assumptions=[InSet(a, RealNonNeg), InSet(b, RealNonNeg)])"
   ]
  },
  {
   "cell_type": "markdown",
   "metadata": {},
   "source": [
    "<font size=3>In fact, as long as we explicitly establish that $a$ and $b$ each belong to some defined subset of the complex numbers, the `deduce_in_number_set()` will be able to deduce that our absolute value expression is an element of the non-negative real numbers:</font>"
   ]
  },
  {
   "cell_type": "code",
   "execution_count": 31,
   "metadata": {},
   "outputs": [
    {
     "data": {
      "text/html": [
       "<span style=\"font-size:20px;\"><a class=\"ProveItLink\" href=\"../__pv_it/theorems/ffc4a45642fde8a513aa78237f7ca59ff7c646290/expr.ipynb\"><img src=\"data:image/png;base64,iVBORw0KGgoAAAANSUhEUgAAADMAAAAPBAMAAAC7N+rPAAAAMFBMVEX///9UVFSqqqrMzMwiIiJE\n",
       "RESYmJgyMjK6urru7u4QEBCIiIh2dnZmZmbc3NwAAABRgo0vAAAAAXRSTlMAQObYZgAAANBJREFU\n",
       "GNNjYMACuEvql8Rik2BgtlfgvJ+LVSpBmoGB7S+KUKqLSwGQYjNYCSRlkWVMd0JoXr4AIDkbiPnu\n",
       "3AapYuCshCqZyHwByup6wP4BRDM+gAq84dgAYXAuY+AFGcDACjP4LUyK9ycDC5hpVQ4EIGdMZT4A\n",
       "keIKYJhvAGI8helinyAAYcw/wKAPUQOTYrsAkuIESikwiDOBXMC7ASYX3Q0k2oG2b2Bz5AGLOMGk\n",
       "eEtPcqpGAjVKb364A+KfiAlQOduqL5dRw64nBBxQMAAAUJwvP1Qg9PwAAAAASUVORK5CYII=\n",
       "\" style=\"display:inline;vertical-align:middle;\" /></a>, <a class=\"ProveItLink\" href=\"../__pv_it/demonstrations/6051a0540e9e0a0b592a6d597e12da191c24af4b0/expr.ipynb\"><img src=\"data:image/png;base64,iVBORw0KGgoAAAANSUhEUgAAAD0AAAAPBAMAAACl/tp8AAAAMFBMVEX////MzMyYmJjc3NyIiIhU\n",
       "VFR2dna6urqqqqpmZmYyMjIiIiIQEBBERETu7u4AAACIO4EmAAAAAXRSTlMAQObYZgAAANxJREFU\n",
       "GNNj4LuzgQEFaJ+9v+qsAoLPNQFVnmHBUwZZ3QcMtXeB4AEDA38DmvwFMwZe5gA4t/4BlKG7e/cC\n",
       "qDynwQK4fDaUlvVD6Oc0uACXX+oyA0TxrUMyn5Udbj7frwfvDYA0qwGSfPcsmKUMHP8Y+B2ANC/C\n",
       "fTa7dyHczLmA4X0CkJZZBQRQ91XyPkD2fj1ItS2S/zgLEc7jV2CYD1LNg+z/eyoI+QK+Q2B7HJDk\n",
       "RTkFYDxWBV5IAO9ACl+2hkC4/6YkQRhPrz+Axc9Chrvr0UOdgaHs9u4FGIIAV7ZG6f/qy2MAAAAA\n",
       "SUVORK5CYII=\n",
       "\" style=\"display:inline;vertical-align:middle;\" /></a> <a class=\"ProveItLink\" href=\"../__pv_it/demonstrations/e1aa707ca8c2d747b0629808be77d7901ef3712a0/proof.ipynb\" style=\"text-decoration: none\">&nbsp;&#x22A2;&nbsp;&nbsp;</a><a class=\"ProveItLink\" href=\"../__pv_it/demonstrations/49bccb0656c3fc56533a9e37753bf667ff8d69d60/expr.ipynb\"><img src=\"data:image/png;base64,iVBORw0KGgoAAAANSUhEUgAAALwAAAAZBAMAAAB5tlnFAAAAMFBMVEX///9UVFSqqqoiIiJERESY\n",
       "mJgyMjIQEBBmZmbc3NyIiIi6urp2dnbu7u7MzMwAAABs7OAJAAAAAXRSTlMAQObYZgAAAlpJREFU\n",
       "SMe9lUFo01AYx/9r2i1pm6agCHpwAT3stslwBxEMsyBYxICePFXEHJ3odKAMqoiU4jDiwUsPvQk6\n",
       "Rj25i66wKYPt8HYREaEVvLrJBC+zzJc2Wd/32rpDqO+QhD/v++XL9/3fF6B/a36+P9w3rneNVSPp\n",
       "vuC1B3V+VSpo9Cd97RHn1+q4hR9hMD2D9ZUKtlycxFoYfO9g/SPbYjjVdYd+bkxWCpk6VUrrkx34\n",
       "S9MXnWm7+Ri/7mV/r3sCg3lJ2EByh1Y3j1G7Izi3ge+XGX/4Mtms/Q7dESm37oYpCXPADFHi2zDG\n",
       "OvBWCVGNu/FrNnBOV/wSk4TbwLArKon7MHJBcOzs+ESAV90cPmebGeS577vil2VhimG4ThS0i5M6\n",
       "z9rZq66FTf/Urja7oz0pzlLa1VcPIcFwhlFFPx209hMTijOQSEveeusO/iQ0/TeruRI+8Ye+UFue\n",
       "C/CHxdofe8woXr8D1SKxkQaMsoRX0vL3vKz4eKuNfzE+wV1xPMMX8/FqA4oXk3Sca3cdh2PUHGpV\n",
       "UeCrAEjK0GwLn+KK4/jZL0aZdPCGLM+iYmrc9ksmzTWep83WXES3W3hNyL6kvrckPE90lMYaNp5K\n",
       "jRzxgOKWxh4eN8XaX7gi400citDYCu8HwaeqiJMt/JOV4NAURfw3tU7x0XLsRJLQBuxonuKfr68e\n",
       "IErMbvteMYWhkDSPSs45svDsNTVm8YN8rHZ3f1FlsZANjKkffLc30m4gM2X2mqnCKeohUMUPTqz4\n",
       "Q2Gfka0zeRAz/EtZC/FHCPU7+U/4hTD4fYP/AseFy1YIJSFIAAAAAElFTkSuQmCC\n",
       "\" style=\"display:inline;vertical-align:middle;\" /></a></span>"
      ],
      "text/plain": [
       "{a in Complex, b in RealNeg} |- |a + b + 2 + 3| in RealNonNeg"
      ]
     },
     "execution_count": 31,
     "metadata": {},
     "output_type": "execute_result"
    }
   ],
   "source": [
    "demo_expr_02.deduce_in_number_set(\n",
    "        RealNonNeg,\n",
    "        assumptions=[InSet(a, Complex), InSet(b, RealNeg)])"
   ]
  },
  {
   "cell_type": "markdown",
   "metadata": {},
   "source": [
    "<font size=3>If we want instead to derive the fact that $|a+b+2+3|\\ge 0$, it turns out we have to work a little harder, with the automation not accomplishing everything for us:</font>"
   ]
  },
  {
   "cell_type": "code",
   "execution_count": 32,
   "metadata": {},
   "outputs": [],
   "source": [
    "# |x| ≥ 0 not derived automatically\n",
    "from proveit import ProofFailure\n",
    "try:\n",
    "    GreaterEq(demo_expr_02, zero).prove(\n",
    "        assumptions=[InSet(a, Complex), InSet(b, RealNeg)])\n",
    "except ProofFailure as e:\n",
    "    print(\"Without a little more help, Prove-It returns an error: {}\".format(e))"
   ]
  },
  {
   "cell_type": "markdown",
   "metadata": {},
   "source": [
    "<font size=3>So we pull in a related theorem, essentially serving as a definition for the set of non-negative real numbers, $R^{\\ge 0}$:</font>"
   ]
  },
  {
   "cell_type": "code",
   "execution_count": 33,
   "metadata": {},
   "outputs": [
    {
     "data": {
      "text/html": [
       "<span style=\"font-size:20px;\"> <a class=\"ProveItLink\" href=\"../../number_sets/real_numbers/_theory_nbs_/proofs/in_real_non_neg_iff_non_negative/thm_proof.ipynb\" style=\"text-decoration: none\">&nbsp;&#x22A2;&nbsp;&nbsp;</a><a class=\"ProveItLink\" href=\"../../number_sets/real_numbers/__pv_it/theorems/8219e54f3232a5065b09a175cab0a48e504c20ba0/expr.ipynb\"><img src=\"data:image/png;base64,iVBORw0KGgoAAAANSUhEUgAAAQUAAAAcBAMAAACaFrdFAAAAMFBMVEX///8QEBCIiIhmZma6urrM\n",
       "zMxUVFQiIiJERETc3Nzu7u6qqqp2dnaYmJgyMjIAAAAcRTyBAAAAAXRSTlMAQObYZgAABG1JREFU\n",
       "SMfNV2toFFcUPtnd2dmZfWQFxdairK1Gf8kSlZrU2oigIKgrFI0g7BKrGCriK01tSwhB6xpRFoXo\n",
       "v4wEjATNDipKQMwSBSU+WGmpViyNLS2ooIIPfCE95965M7PjbHZdLO2BO3N35uTOd875zndvAN6H\n",
       "eYZy8J+Zr5ndbsPpf+8bUgNevhzF4cBaum6Dag1iFWWwtMsKwpEazePATgD1KVTpsLCiRKZKutzD\n",
       "EdFGdTm2A6QXIOchlK8ExNVSDl7Kb20Jp2P3pJcgo+d3bm+V4sgG6CJjhCM0+a2IVzc6KC9dXoQ3\n",
       "p9/c2cvnM/KYhyrE8InbEkfdVx66nQB/hggRB7gsUu5m53GE4m5vImpK2tuJE3W6TnyoRvJ2uzne\n",
       "taa99daf6+p2UCl+5RHAIbq3F8HwEQ5km4sFlBy0dyGESw2iL0B28QzbIzjXLGbXAa5hMmj6PWdc\n",
       "SHeHwMrQXUDJ8K7WNoGhLgLqHIKAVSB98IpQRqxmkjP2v1661pj8CDCowWGazsFFh/v6DhZJQzjK\n",
       "Idv0okOz8lAXACnBu/wKheuJGj1PNNzJ546lG3fw+zOAZTpEKIDJOJ6n0z8Uawsq2DymAucns4/3\n",
       "a7ZapByK4DPY22jzJJ4qc2snCJ+u+3RVHyOGGKfaMnTE9OwugiFAyU3T6h/CQ/ak2caH4FYHlaWn\n",
       "/DamFW0zf0m9Mz8TeWRp2nZC9RogGYMwxZjEVC7g/BR2ZvqaP0z2UlH/xnE4T2VDa7cwjG/FkIJp\n",
       "tE5BnyfsVsMz0KgbjFMnWkwBuEGxK5iHZA6Cm4hvWBCZ14+l6OzMvCcEw0L5ZfLfiuMLDbawECc9\n",
       "QOMYLsQ7HWlTGYZeob7f0mUsVpQrGLdpw7ZaSJSeLGII5WXhcHOgDxDDLYEpQhj+xPEBSUBBE2Mt\n",
       "ZjU624hhUDbwX0dyBoaqdsgmDJQXYyYnB3WOgfKgjNDG1FPzF/gYuRGDOAwEUryN1NcQ5BWN2jAE\n",
       "jjt2SpRL1k1tlKwHLWDUIpuDQQPkpyI6JNnvGvioFknq3t1f4VdaUPMjwDHMFLrip7DX49tX4B9h\n",
       "6l5rwyClZrv3xU+sLzKCk1kdNgbpl7JRL9QoxknqCziJaLxxaRP0MAzeddvMzT1q9G8H3Eix5JhS\n",
       "iFoNl/2Jt+WEoFPbf2aqfSAW/ibEto4G01XW1XH41ZzQn+oYCbInBSuR4zFPaP/PBYERziMfr2pi\n",
       "C6jrF5t7ViKw71WhnBhsoT4TzFmEP5umdk1x0neoBvFHElwncT38SDYTuKX5eS2Cq011Hkv7RUNB\n",
       "vi9xrXbdxwQ/MPGq5qbVDuuli6kEVZnkEgglOB+GzQPqXDASVpZltRJ71lsbOGXEPBr4mk58DrCH\n",
       "NOparmeeeLyc2B4tF8Mvbg9tGtxP+tnaYhWEKBl2HOY8yIeCB36i4NflYmh5hzMM6y2qk5wosSpD\n",
       "2l8mhHDuHc9yv/J/C0rZSRzBeHkYDlVypC16fLIsSE1xqrzl6ivB4NXgf2H/AEw2IqfG4ZlyAAAA\n",
       "AElFTkSuQmCC\n",
       "\" style=\"display:inline;vertical-align:middle;\" /></a></span>"
      ],
      "text/plain": [
       "|- forall_{a in Real} ((a in RealNonNeg) <=> (a >= 0))"
      ]
     },
     "execution_count": 33,
     "metadata": {},
     "output_type": "execute_result"
    }
   ],
   "source": [
    "from proveit.numbers.number_sets.real_numbers import in_real_non_neg_iff_non_negative\n",
    "in_real_non_neg_iff_non_negative"
   ]
  },
  {
   "cell_type": "markdown",
   "metadata": {},
   "source": [
    "<font size=3>Then we prove that the absolute value expression in question is real (so that we can instantiate the theorem above):</font>"
   ]
  },
  {
   "cell_type": "code",
   "execution_count": 34,
   "metadata": {},
   "outputs": [
    {
     "data": {
      "text/html": [
       "<span style=\"font-size:20px;\"><a class=\"ProveItLink\" href=\"../__pv_it/theorems/ffc4a45642fde8a513aa78237f7ca59ff7c646290/expr.ipynb\"><img src=\"data:image/png;base64,iVBORw0KGgoAAAANSUhEUgAAADMAAAAPBAMAAAC7N+rPAAAAMFBMVEX///9UVFSqqqrMzMwiIiJE\n",
       "RESYmJgyMjK6urru7u4QEBCIiIh2dnZmZmbc3NwAAABRgo0vAAAAAXRSTlMAQObYZgAAANBJREFU\n",
       "GNNjYMACuEvql8Rik2BgtlfgvJ+LVSpBmoGB7S+KUKqLSwGQYjNYCSRlkWVMd0JoXr4AIDkbiPnu\n",
       "3AapYuCshCqZyHwByup6wP4BRDM+gAq84dgAYXAuY+AFGcDACjP4LUyK9ycDC5hpVQ4EIGdMZT4A\n",
       "keIKYJhvAGI8helinyAAYcw/wKAPUQOTYrsAkuIESikwiDOBXMC7ASYX3Q0k2oG2b2Bz5AGLOMGk\n",
       "eEtPcqpGAjVKb364A+KfiAlQOduqL5dRw64nBBxQMAAAUJwvP1Qg9PwAAAAASUVORK5CYII=\n",
       "\" style=\"display:inline;vertical-align:middle;\" /></a>, <a class=\"ProveItLink\" href=\"../__pv_it/demonstrations/6051a0540e9e0a0b592a6d597e12da191c24af4b0/expr.ipynb\"><img src=\"data:image/png;base64,iVBORw0KGgoAAAANSUhEUgAAAD0AAAAPBAMAAACl/tp8AAAAMFBMVEX////MzMyYmJjc3NyIiIhU\n",
       "VFR2dna6urqqqqpmZmYyMjIiIiIQEBBERETu7u4AAACIO4EmAAAAAXRSTlMAQObYZgAAANxJREFU\n",
       "GNNj4LuzgQEFaJ+9v+qsAoLPNQFVnmHBUwZZ3QcMtXeB4AEDA38DmvwFMwZe5gA4t/4BlKG7e/cC\n",
       "qDynwQK4fDaUlvVD6Oc0uACXX+oyA0TxrUMyn5Udbj7frwfvDYA0qwGSfPcsmKUMHP8Y+B2ANC/C\n",
       "fTa7dyHczLmA4X0CkJZZBQRQ91XyPkD2fj1ItS2S/zgLEc7jV2CYD1LNg+z/eyoI+QK+Q2B7HJDk\n",
       "RTkFYDxWBV5IAO9ACl+2hkC4/6YkQRhPrz+Axc9Chrvr0UOdgaHs9u4FGIIAV7ZG6f/qy2MAAAAA\n",
       "SUVORK5CYII=\n",
       "\" style=\"display:inline;vertical-align:middle;\" /></a> <a class=\"ProveItLink\" href=\"../__pv_it/demonstrations/7c5ef2a1e9dc4d694bbd2c7ff00c8c07f1b465bf0/proof.ipynb\" style=\"text-decoration: none\">&nbsp;&#x22A2;&nbsp;&nbsp;</a><a class=\"ProveItLink\" href=\"../__pv_it/demonstrations/26f0a15555565a603110f877e7c2796dfa8e01d60/expr.ipynb\"><img src=\"data:image/png;base64,iVBORw0KGgoAAAANSUhEUgAAAKcAAAAVBAMAAADROuOhAAAAMFBMVEX///9UVFSqqqoiIiJERESY\n",
       "mJgyMjIQEBBmZmbc3NyIiIi6urp2dnbu7u7MzMwAAABs7OAJAAAAAXRSTlMAQObYZgAAAfFJREFU\n",
       "OMu1lEEoBGEUx5/dxczuzK4ixYGvXNyQkpspSintFi5OKzVHlMVBapO0bWTkgNrDnin2xoXdQil7\n",
       "+DbluqNclRIXtGZnZ+28t7tFm7lM/ZrvN//vfe978Aw1PF5emd/VIpUSv5fKo72UREZ0TMT0NaPS\n",
       "iZBfDQWqJW0IE5AB6QOTA3C8lSUNZuBpkhOpI154+xgB2wArmJwyeC2TKjFwiU1VpElOwCJAp4bI\n",
       "WQLei9L64f6BolTQglWkVxTMc+jUEYHS9r1jvJRU0BRTKm5F17Bj5mgdiAKGOCH3KUv6wG3br/MU\n",
       "tn+mNbwgh/zOsxpReD7Jb2KD3JK22WvatWkelLwEgoJWOL7AFydSZxPN7l61pEpJut8/wMyWEr7A\n",
       "mf9SUtXZZVU1FgtByKbswHgiAITACjelXoOoqpX03MVNaaMCWR3FMNo0yXAud5gc3SGAn5lS0ZY0\n",
       "JlwqptQI1YNX+AKwQ46lG0Rc5RwvSmHBXtPx6YKUQasDrfAljDojhTcFbiwN5fuhII3apY+Cnpe6\n",
       "4vV9EnLUBVxhLN1L3zZjMlXqUyezXVOJdZin336ye4xbKnpDmz+Xe8XEE9lIWFK55eJnoMzByDyr\n",
       "fKOqA0ysa+q5tq5pxdEn06FbBjD5yzz9lyFds/SkFqlbr4i/AbMnr1sKJjvHAAAAAElFTkSuQmCC\n",
       "\" style=\"display:inline;vertical-align:middle;\" /></a></span>"
      ],
      "text/plain": [
       "{a in Complex, b in RealNeg} |- |a + b + 2 + 3| in Real"
      ]
     },
     "execution_count": 34,
     "metadata": {},
     "output_type": "execute_result"
    }
   ],
   "source": [
    "demo_expr_02.deduce_in_number_set(\n",
    "        Real,\n",
    "        assumptions=[InSet(a, Complex), InSet(b, RealNeg)])"
   ]
  },
  {
   "cell_type": "markdown",
   "metadata": {},
   "source": [
    "<font size=3>And perform the instantiation:</font>"
   ]
  },
  {
   "cell_type": "code",
   "execution_count": 35,
   "metadata": {},
   "outputs": [
    {
     "data": {
      "text/html": [
       "<strong id=\"in_real_non_neg_iff_nonNegative_spec\">in_real_non_neg_iff_nonNegative_spec:</strong> <span style=\"font-size:20px;\"><a class=\"ProveItLink\" href=\"../__pv_it/theorems/ffc4a45642fde8a513aa78237f7ca59ff7c646290/expr.ipynb\"><img src=\"data:image/png;base64,iVBORw0KGgoAAAANSUhEUgAAADMAAAAPBAMAAAC7N+rPAAAAMFBMVEX///9UVFSqqqrMzMwiIiJE\n",
       "RESYmJgyMjK6urru7u4QEBCIiIh2dnZmZmbc3NwAAABRgo0vAAAAAXRSTlMAQObYZgAAANBJREFU\n",
       "GNNjYMACuEvql8Rik2BgtlfgvJ+LVSpBmoGB7S+KUKqLSwGQYjNYCSRlkWVMd0JoXr4AIDkbiPnu\n",
       "3AapYuCshCqZyHwByup6wP4BRDM+gAq84dgAYXAuY+AFGcDACjP4LUyK9ycDC5hpVQ4EIGdMZT4A\n",
       "keIKYJhvAGI8helinyAAYcw/wKAPUQOTYrsAkuIESikwiDOBXMC7ASYX3Q0k2oG2b2Bz5AGLOMGk\n",
       "eEtPcqpGAjVKb364A+KfiAlQOduqL5dRw64nBBxQMAAAUJwvP1Qg9PwAAAAASUVORK5CYII=\n",
       "\" style=\"display:inline;vertical-align:middle;\" /></a>, <a class=\"ProveItLink\" href=\"../__pv_it/demonstrations/6051a0540e9e0a0b592a6d597e12da191c24af4b0/expr.ipynb\"><img src=\"data:image/png;base64,iVBORw0KGgoAAAANSUhEUgAAAD0AAAAPBAMAAACl/tp8AAAAMFBMVEX////MzMyYmJjc3NyIiIhU\n",
       "VFR2dna6urqqqqpmZmYyMjIiIiIQEBBERETu7u4AAACIO4EmAAAAAXRSTlMAQObYZgAAANxJREFU\n",
       "GNNj4LuzgQEFaJ+9v+qsAoLPNQFVnmHBUwZZ3QcMtXeB4AEDA38DmvwFMwZe5gA4t/4BlKG7e/cC\n",
       "qDynwQK4fDaUlvVD6Oc0uACXX+oyA0TxrUMyn5Udbj7frwfvDYA0qwGSfPcsmKUMHP8Y+B2ANC/C\n",
       "fTa7dyHczLmA4X0CkJZZBQRQ91XyPkD2fj1ItS2S/zgLEc7jV2CYD1LNg+z/eyoI+QK+Q2B7HJDk\n",
       "RTkFYDxWBV5IAO9ACl+2hkC4/6YkQRhPrz+Axc9Chrvr0UOdgaHs9u4FGIIAV7ZG6f/qy2MAAAAA\n",
       "SUVORK5CYII=\n",
       "\" style=\"display:inline;vertical-align:middle;\" /></a> <a class=\"ProveItLink\" href=\"../__pv_it/demonstrations/ea9ebe48d146201d8ded183ada60fcfd897222bd0/proof.ipynb\" style=\"text-decoration: none\">&nbsp;&#x22A2;&nbsp;&nbsp;</a><a class=\"ProveItLink\" href=\"../__pv_it/demonstrations/53092b1050cd9345bbdeb2037510f0ab4401691d0/expr.ipynb\"><img src=\"data:image/png;base64,iVBORw0KGgoAAAANSUhEUgAAAaQAAAAcBAMAAADcjNaqAAAAMFBMVEX///8iIiJERESYmJiqqqoQ\n",
       "EBB2dnbc3NyIiIhmZmbu7u4yMjJUVFS6urrMzMwAAADZVrDbAAAAAXRSTlMAQObYZgAABTlJREFU\n",
       "WMPtWG1oW1UYfvKd3CQ3KXZlBcXaTtRqZ6Zsf/wTf6mgrJ0MwVHINikWmWb+mBQKDY5qq6CxiFs3\n",
       "P+4mK6wrtIXKtqa6+IEORZf9UBCEhsEURNnGgh0pWzznnvtxzum9dhJTQTyQ3ts373ue9znvxzkn\n",
       "QGNH+NkM/isj/pX+2ILH/wXw3xsz7cB39O9tSGjhtWakFhs08cBGQLmBQDpeXGNKUQ2qVs+SuBpP\n",
       "dEFdgieF3W4av9bjuLvxQSBYqmPmvzCemFer8OTgcWQdSmFPPZQcjf1ZMnHVxaujPZJAGW8vS071\n",
       "7UrLxr517csfdbD311MkSoEcwnkn9KPOXil3JiXJ8bGNkmRf3wYH4+D+5wHSlYJ5t4U+Lf0/heB1\n",
       "qVrgv7rCOKoU1Y5O6tvLaVpLiRJCl53mP+my0FFpAZQiXhAxQnlsNUKstNoZMIcjWZwAqV6Jkj9n\n",
       "vFRMyaPscQjYLqq8mcaVFZS8oQzaBgnYrpLR8YBmB899eYmSAYNEWhRENAS6BUm4gkTSMPYvZM0J\n",
       "uxGcQTCHIc2FUrwqYZFEPJcVVL4vYdkyfqCpacakdCAKZUyXj+r70pgZAPL5zXj3ZF0oLWqiIJBE\n",
       "bEmQxHuRmDGN4wtGOXiL8FehdGMzXCgFkxLWGQ3nymIgucS78BoXpQNeqEw13EfTaNj4bj/93vBg\n",
       "L1wo7ZQE0SpiN0QVWIlHW2478yBRRJxk1sc4bFAa6B/WBH+jZ0fT8kS3axKlIxmDkjLPJ17xJzHJ\n",
       "jIVX2zjNUUbJwrVgFkbelnE9VUmitHDrEfpGd3Q6j/g1oB/tjFL8KZwRozQ9ryxJE8X/kMptHylO\n",
       "RimW5Sj5W+dFSpdYZC72NJGxg1Ho0CnZuCaMsqxNZyVKixnRk9DOQ3yIQ29Rg6EMVELpISwwSsdS\n",
       "ZsKb/m7VcE2i5ClKlBDuNSh5ufbQ0zRHdNrJ6DRkQ7pO+GsWqw36o1mnZOOaMKQeEjmJ0q2Q4zZc\n",
       "4ij5WnWQPFSy5g+jlVH6QMN6+lYozO4oFKjrh6HQoDxXKKwrFBZ003GIKmRs1xiliwUyjPawJ98p\n",
       "dbdpqqOYjnlo/qFXp2TgcjCRGUxnRNxIHpInCDxtUwq3aFziXdJ3H+LVNrqFCCE4rRcbvzbWjmmq\n",
       "vATcn2aUXuSb+HsXJEosSoMsfZQvYVOyca1ukMdiWozJqNQwQll4KxalifUw24O/Qindp1MiAfFf\n",
       "Fv29iohUlI/RuXiVmmZRCvCUvB/mpFpidptoKAuzZTvxOFwTJpGioeNx/Xm6eLxKlaM0cIsJ3AYf\n",
       "8fg8PmOUKojNPCL4e53mOT+RmkFYpLSN9kBGKZLjKKnF9x07Ht1doZyE3R44XMvfkvKkuJQ/A6+K\n",
       "O1Ub7YGM0uAchK2WtIdhlnh3Y1MxI/j7Oe4Rl29vX/+nYiAf5PalZu5AhGdi4mlws/H8lpI3toZ+\n",
       "PfFsXBMmlvLmxTRr6Xs3KUh8KftA1GWjNOMYgX1HX0Di1dTIL2dLgr/HX0lJW22tdkU6YIyTI4JB\n",
       "aapLs46tZe+9FYGS2dROcFV3Xqdk41pN/OBuqbhqtZpICT+OdzkcECdG6K3zEwRKbme8Fdu6s4pp\n",
       "/MMd7EDkNE6ZGwj5TK52IHIXiBLnm4mSRCQjUVJWXG4mV5hpN3dfsvSrN3NsnVwVV5Q4UyLHVrW7\n",
       "cVdAy3vHm/pd+AeugMosPZA02aVLc/uLxlPylP/GFbC+Wy1dKEorXK7nl7rVjbfA5aL+Rj2UHI19\n",
       "WbaRNXiE2tb6V68nGg0Q0fD/qGv8CS+Qn9GZFDVuAAAAAElFTkSuQmCC\n",
       "\" style=\"display:inline;vertical-align:middle;\" /></a></span><br>"
      ],
      "text/plain": [
       "in_real_non_neg_iff_nonNegative_spec: {a in Complex, b in RealNeg} |- (|a + b + 2 + 3| in RealNonNeg) <=> (|a + b + 2 + 3| >= 0)"
      ]
     },
     "execution_count": 35,
     "metadata": {},
     "output_type": "execute_result"
    }
   ],
   "source": [
    "in_real_non_neg_iff_nonNegative_spec = in_real_non_neg_iff_non_negative.instantiate(\n",
    "        {a:demo_expr_02}, assumptions=[InSet(a, Complex), InSet(b, RealNeg)])"
   ]
  },
  {
   "cell_type": "markdown",
   "metadata": {},
   "source": [
    "<font size=3>Then derive the right-hand side of that logical equivalence (which is possible because we earlier proved the left-hand side of that logical equivalence under the same assumptions):</font>"
   ]
  },
  {
   "cell_type": "code",
   "execution_count": 36,
   "metadata": {},
   "outputs": [
    {
     "data": {
      "text/html": [
       "<strong id=\"demo_expr_02_ge_zero\">demo_expr_02_ge_zero:</strong> <span style=\"font-size:20px;\"><a class=\"ProveItLink\" href=\"../__pv_it/theorems/ffc4a45642fde8a513aa78237f7ca59ff7c646290/expr.ipynb\"><img src=\"data:image/png;base64,iVBORw0KGgoAAAANSUhEUgAAADMAAAAPBAMAAAC7N+rPAAAAMFBMVEX///9UVFSqqqrMzMwiIiJE\n",
       "RESYmJgyMjK6urru7u4QEBCIiIh2dnZmZmbc3NwAAABRgo0vAAAAAXRSTlMAQObYZgAAANBJREFU\n",
       "GNNjYMACuEvql8Rik2BgtlfgvJ+LVSpBmoGB7S+KUKqLSwGQYjNYCSRlkWVMd0JoXr4AIDkbiPnu\n",
       "3AapYuCshCqZyHwByup6wP4BRDM+gAq84dgAYXAuY+AFGcDACjP4LUyK9ycDC5hpVQ4EIGdMZT4A\n",
       "keIKYJhvAGI8helinyAAYcw/wKAPUQOTYrsAkuIESikwiDOBXMC7ASYX3Q0k2oG2b2Bz5AGLOMGk\n",
       "eEtPcqpGAjVKb364A+KfiAlQOduqL5dRw64nBBxQMAAAUJwvP1Qg9PwAAAAASUVORK5CYII=\n",
       "\" style=\"display:inline;vertical-align:middle;\" /></a>, <a class=\"ProveItLink\" href=\"../__pv_it/demonstrations/6051a0540e9e0a0b592a6d597e12da191c24af4b0/expr.ipynb\"><img src=\"data:image/png;base64,iVBORw0KGgoAAAANSUhEUgAAAD0AAAAPBAMAAACl/tp8AAAAMFBMVEX////MzMyYmJjc3NyIiIhU\n",
       "VFR2dna6urqqqqpmZmYyMjIiIiIQEBBERETu7u4AAACIO4EmAAAAAXRSTlMAQObYZgAAANxJREFU\n",
       "GNNj4LuzgQEFaJ+9v+qsAoLPNQFVnmHBUwZZ3QcMtXeB4AEDA38DmvwFMwZe5gA4t/4BlKG7e/cC\n",
       "qDynwQK4fDaUlvVD6Oc0uACXX+oyA0TxrUMyn5Udbj7frwfvDYA0qwGSfPcsmKUMHP8Y+B2ANC/C\n",
       "fTa7dyHczLmA4X0CkJZZBQRQ91XyPkD2fj1ItS2S/zgLEc7jV2CYD1LNg+z/eyoI+QK+Q2B7HJDk\n",
       "RTkFYDxWBV5IAO9ACl+2hkC4/6YkQRhPrz+Axc9Chrvr0UOdgaHs9u4FGIIAV7ZG6f/qy2MAAAAA\n",
       "SUVORK5CYII=\n",
       "\" style=\"display:inline;vertical-align:middle;\" /></a> <a class=\"ProveItLink\" href=\"../__pv_it/demonstrations/89f5422718ce4c6d11199e023b9bf0814a1fddba0/proof.ipynb\" style=\"text-decoration: none\">&nbsp;&#x22A2;&nbsp;&nbsp;</a><a class=\"ProveItLink\" href=\"../__pv_it/demonstrations/91139c3ef03326debbff4bc41cead3119c6e9a900/expr.ipynb\"><img src=\"data:image/png;base64,iVBORw0KGgoAAAANSUhEUgAAAKMAAAAVBAMAAADY0UPbAAAAMFBMVEX///9UVFSqqqoiIiJERESY\n",
       "mJgyMjIQEBBmZmbc3NyIiIi6urp2dnbu7u7MzMwAAABs7OAJAAAAAXRSTlMAQObYZgAAAehJREFU\n",
       "OMu1lD1IQlEUx/9aWi+5vaaGJtdaNCL6wKEiCAriQUNLkBa8tYYaIorXxxBBZFtBg01WQzi2JUQR\n",
       "GfSaaih6a1BYDlGQ2b1o+s5NIRDvovzeOb937jn3XbygjFU8OVGOMvFvygb8ErlbHZbI7lVfkeTL\n",
       "MavEi9yG9I4GXMcIUQz4tGwy6zTzeV7WJSlbcr+ql4JaEzXThNSloPpzyc5QOBc+CpyXUJ6YFNT4\n",
       "4fgkxDMPNfib7AlZ2T+9gM8srjyVgDsNxzcNQX7jfNX3Z9vyxqvxCrp9ETVpfOhwWRZUpSXCArYt\n",
       "Ko2iVeyDKyOceuYwRYti7+ZjWFKexKlSOd2wd01Z4QnKF5AUylsNq1TpTEONSMpWyHVHYzalq1N4\n",
       "eZXJOKebJroFPdf1Dl0PiQEH8Ri3A44MGiJmtlBQ1gVM+8ZnwL6laRiiy6SmfWlgShjVqbzyvhu/\n",
       "4/Hx8bAvOF9pvKqJ0u1Kp4EdGpK2Kbfbc2H9wDg/RCwFR7CZxsfYLO3cM3BAT2qPOANZ5dYEpKM+\n",
       "iJEGOk6HVm3QbQaulvyEuLTCBzlUOGletiiUN4dPTTF6iNbPpOZmMhmqxPHa0N8Lgl3uWSU+yNKA\n",
       "kn9cbg/y0z+AkkSFrmA22SaWVclb/agcZdHkHwt5nW4kYNl6AAAAAElFTkSuQmCC\n",
       "\" style=\"display:inline;vertical-align:middle;\" /></a></span><br>"
      ],
      "text/plain": [
       "demo_expr_02_ge_zero: {a in Complex, b in RealNeg} |- |a + b + 2 + 3| >= 0"
      ]
     },
     "execution_count": 36,
     "metadata": {},
     "output_type": "execute_result"
    }
   ],
   "source": [
    "demo_expr_02_ge_zero = in_real_non_neg_iff_nonNegative_spec.derive_right()"
   ]
  },
  {
   "cell_type": "markdown",
   "metadata": {},
   "source": [
    "<font size=3>The detailed proof includes a number of steps that establish that all the sub-operands can be found in the complex numbers, but we see toward the top of the proof table the explicit use of the modus ponens-like `right_from_iff` theorem (cited in line 1) and the `in_real_non_neg_iff_nonNegative` theorem (cited in line 5), which we were nudging Prove-It toward by our few steps above:</font>"
   ]
  },
  {
   "cell_type": "code",
   "execution_count": 37,
   "metadata": {},
   "outputs": [
    {
     "data": {
      "text/html": [
       "<table><tr><th>&nbsp;</th><th>step type</th><th>requirements</th><th>statement</th></tr>\n",
       "<tr><td><a name=\"0x46a464496da4ef0a_step0\">0</a></td><td>instantiation</td><td><a href=\"#0x46a464496da4ef0a_step1\">1</a>, <a href=\"#0x46a464496da4ef0a_step2\">2</a></td><td><span style=\"font-size:20px;\"><a class=\"ProveItLink\" href=\"../__pv_it/theorems/ffc4a45642fde8a513aa78237f7ca59ff7c646290/expr.ipynb\"><img src=\"data:image/png;base64,iVBORw0KGgoAAAANSUhEUgAAADMAAAAPBAMAAAC7N+rPAAAAMFBMVEX///9UVFSqqqrMzMwiIiJE\n",
       "RESYmJgyMjK6urru7u4QEBCIiIh2dnZmZmbc3NwAAABRgo0vAAAAAXRSTlMAQObYZgAAANBJREFU\n",
       "GNNjYMACuEvql8Rik2BgtlfgvJ+LVSpBmoGB7S+KUKqLSwGQYjNYCSRlkWVMd0JoXr4AIDkbiPnu\n",
       "3AapYuCshCqZyHwByup6wP4BRDM+gAq84dgAYXAuY+AFGcDACjP4LUyK9ycDC5hpVQ4EIGdMZT4A\n",
       "keIKYJhvAGI8helinyAAYcw/wKAPUQOTYrsAkuIESikwiDOBXMC7ASYX3Q0k2oG2b2Bz5AGLOMGk\n",
       "eEtPcqpGAjVKb364A+KfiAlQOduqL5dRw64nBBxQMAAAUJwvP1Qg9PwAAAAASUVORK5CYII=\n",
       "\" style=\"display:inline;vertical-align:middle;\" /></a>, <a class=\"ProveItLink\" href=\"../__pv_it/demonstrations/6051a0540e9e0a0b592a6d597e12da191c24af4b0/expr.ipynb\"><img src=\"data:image/png;base64,iVBORw0KGgoAAAANSUhEUgAAAD0AAAAPBAMAAACl/tp8AAAAMFBMVEX////MzMyYmJjc3NyIiIhU\n",
       "VFR2dna6urqqqqpmZmYyMjIiIiIQEBBERETu7u4AAACIO4EmAAAAAXRSTlMAQObYZgAAANxJREFU\n",
       "GNNj4LuzgQEFaJ+9v+qsAoLPNQFVnmHBUwZZ3QcMtXeB4AEDA38DmvwFMwZe5gA4t/4BlKG7e/cC\n",
       "qDynwQK4fDaUlvVD6Oc0uACXX+oyA0TxrUMyn5Udbj7frwfvDYA0qwGSfPcsmKUMHP8Y+B2ANC/C\n",
       "fTa7dyHczLmA4X0CkJZZBQRQ91XyPkD2fj1ItS2S/zgLEc7jV2CYD1LNg+z/eyoI+QK+Q2B7HJDk\n",
       "RTkFYDxWBV5IAO9ACl+2hkC4/6YkQRhPrz+Axc9Chrvr0UOdgaHs9u4FGIIAV7ZG6f/qy2MAAAAA\n",
       "SUVORK5CYII=\n",
       "\" style=\"display:inline;vertical-align:middle;\" /></a> <a class=\"ProveItLink\" href=\"../__pv_it/demonstrations/89f5422718ce4c6d11199e023b9bf0814a1fddba0/proof.ipynb\" style=\"text-decoration: none\">&nbsp;&#x22A2;&nbsp;&nbsp;</a><a class=\"ProveItLink\" href=\"../__pv_it/demonstrations/91139c3ef03326debbff4bc41cead3119c6e9a900/expr.ipynb\"><img src=\"data:image/png;base64,iVBORw0KGgoAAAANSUhEUgAAAKMAAAAVBAMAAADY0UPbAAAAMFBMVEX///9UVFSqqqoiIiJERESY\n",
       "mJgyMjIQEBBmZmbc3NyIiIi6urp2dnbu7u7MzMwAAABs7OAJAAAAAXRSTlMAQObYZgAAAehJREFU\n",
       "OMu1lD1IQlEUx/9aWi+5vaaGJtdaNCL6wKEiCAriQUNLkBa8tYYaIorXxxBBZFtBg01WQzi2JUQR\n",
       "GfSaaih6a1BYDlGQ2b1o+s5NIRDvovzeOb937jn3XbygjFU8OVGOMvFvygb8ErlbHZbI7lVfkeTL\n",
       "MavEi9yG9I4GXMcIUQz4tGwy6zTzeV7WJSlbcr+ql4JaEzXThNSloPpzyc5QOBc+CpyXUJ6YFNT4\n",
       "4fgkxDMPNfib7AlZ2T+9gM8srjyVgDsNxzcNQX7jfNX3Z9vyxqvxCrp9ETVpfOhwWRZUpSXCArYt\n",
       "Ko2iVeyDKyOceuYwRYti7+ZjWFKexKlSOd2wd01Z4QnKF5AUylsNq1TpTEONSMpWyHVHYzalq1N4\n",
       "eZXJOKebJroFPdf1Dl0PiQEH8Ri3A44MGiJmtlBQ1gVM+8ZnwL6laRiiy6SmfWlgShjVqbzyvhu/\n",
       "4/Hx8bAvOF9pvKqJ0u1Kp4EdGpK2Kbfbc2H9wDg/RCwFR7CZxsfYLO3cM3BAT2qPOANZ5dYEpKM+\n",
       "iJEGOk6HVm3QbQaulvyEuLTCBzlUOGletiiUN4dPTTF6iNbPpOZmMhmqxPHa0N8Lgl3uWSU+yNKA\n",
       "kn9cbg/y0z+AkkSFrmA22SaWVclb/agcZdHkHwt5nW4kYNl6AAAAAElFTkSuQmCC\n",
       "\" style=\"display:inline;vertical-align:middle;\" /></a></span></td></tr>\n",
       "<tr><td>&nbsp;</td><td colspan=4 style=\"text-align:left\"><span style=\"font-size:20px;\"><a class=\"ProveItLink\" href=\"../../../__pv_it/common/c06c606ec12678c58933ac85412ecadc2ae28be60/expr.ipynb\"><img src=\"data:image/png;base64,iVBORw0KGgoAAAANSUhEUgAAAAsAAAAJBAMAAAAWSsseAAAAMFBMVEX///9UVFSqqqrMzMwiIiJE\n",
       "RESYmJgyMjK6urru7u4QEBCIiIh2dnZmZmbc3NwAAABRgo0vAAAAAXRSTlMAQObYZgAAAEdJREFU\n",
       "CNdjYOC7c3slAwND1wP2DwwMnMsYeAMYGHh/MrBsYGDgCmCYb8DAMP8Agz5QxXwFBnGmBwysG9gc\n",
       "eYAqpTc/3MEAAP4BD32xAXDqAAAAAElFTkSuQmCC\n",
       "\" style=\"display:inline;vertical-align:middle;\" /></a> : <a class=\"ProveItLink\" href=\"../__pv_it/demonstrations/013214995eedd8c2ef091aca4d29bd734b4bcffd0/expr.ipynb\"><img src=\"data:image/png;base64,iVBORw0KGgoAAAANSUhEUgAAAHwAAAAVBAMAAAB2y5cfAAAAMFBMVEX///9UVFSqqqoiIiJERESY\n",
       "mJgyMjIQEBBmZmbc3NyIiIi6urp2dnbu7u7MzMwAAABs7OAJAAAAAXRSTlMAQObYZgAAAWFJREFU\n",
       "OMtjeMtAAXjLcJoS7aexaud1N0ATudHihyYy54wTLu0MbA1o5gkwnN+AIsLZwKAfgK5dC0rzK6AK\n",
       "cFxgYC9AEeH6xMBvgEv7/guoAuwGDIw/UUS4qxn4E3BpP4wmwPaXgfEfqhIGuONnnFh+AVUucVUT\n",
       "umLmv2givDaQoOOuZMhHtYz324X7E9C07z+Aqp3zcC9E+/UAhhZU7Ux/GfgXoGk3ZEB3z/INYO39\n",
       "FxisQNxjaWnmaWmJoIBOYLh/AFkAKNSAqgQUnrVg7SUMvP/QQqqBYb8Cql0r0AKTcwIDyyeQdt4/\n",
       "DEwfUOX4A0BOQtbO1MAwE1XJX5j2TwyMCZqocht4S1F9+oaBYSVqSnAAxQXI8V4MwQKowcoYwNKA\n",
       "6lSbM40GKCKsAbB4v7jqpdQG1IjrOooWGP///0fVzrCjw5sBV6rDLYAqgqb9LrpiDAFUkdO0KC5I\n",
       "0L6OEu3rAEYceWwCfNm9AAAAAElFTkSuQmCC\n",
       "\" style=\"display:inline;vertical-align:middle;\" /></a></span></td></tr><tr><td><a name=\"0x46a464496da4ef0a_step1\">1</a></td><td>conjecture</td><td></td><td><span style=\"font-size:20px;\"> <a class=\"ProveItLink\" href=\"../../ordering/_theory_nbs_/proofs/non_neg_if_real_non_neg/thm_proof.ipynb\" style=\"text-decoration: none\">&nbsp;&#x22A2;&nbsp;&nbsp;</a><a class=\"ProveItLink\" href=\"../../ordering/__pv_it/theorems/d5c0a2bc18eb852a55e350bec30a8b7e1709bd9d0/expr.ipynb\"><img src=\"data:image/png;base64,iVBORw0KGgoAAAANSUhEUgAAAIcAAAAUBAMAAABVOzPUAAAAMFBMVEX///8QEBCIiIhmZma6urrM\n",
       "zMxUVFQiIiJERETc3Nzu7u6qqqp2dnaYmJgyMjIAAAAcRTyBAAAAAXRSTlMAQObYZgAAAjpJREFU\n",
       "OMuVVE1oE1EQ/rL53ZdN7EVQT6uHtngKFKkIakDwpgYEq1BIaasgohRpkIKHIiJbewkW1IuwJWAl\n",
       "SLvoQQqlDVUopKGsKFZLxSB40YMBqUjtoTPZ7GaTWLZOyNuZ9/Mx3zfzHrA7e7Ljyiz9y+x89sIQ\n",
       "o/+cXlxPIZQFljn47gUSzzru1LH6rCFGICiNxxTIo14g71z+/FXbewusUDqEpgOK4QUy4g7OXq45\n",
       "94AFHZNArJjPP/LCkIcawot3re9v4JyBeBL4o2m3vUCkBA0Trw/qtfjhj6ravwhEhUKLlNtYy6kU\n",
       "D8/X7UMREwjsx09nfYL5yVtAWkWMlD1V1bfJPrBK953ChimcNHHUWV/l1GTKJF1AlLiGIZmu4686\n",
       "B77S5zTNtdHPMh/RPqnjpr2po+iiE6xQacyw01JzXaakoKiSf/6w3IaMC2QfxEZt25LqCLtgVEHk\n",
       "8gUb5ONsHgSyxpkFx10gREdsIVqxStVtZ64BX3QEuHRjgzTk2r8hwEQZpABErwMVHKgLK/4iVOZ7\n",
       "It8wGpuNhcVLQhKZ4CbisEC6EohdaxCWq3gHq32EjmdJR7+wIfYCfp7dQwz9ieAQclUQ/5Vh4Ehj\n",
       "iTnjp4cu9SebruViO/VCnPshRlt9htSHHk3TVEl58N6j7ZtsynZmspE1PWTRifbqolQqvdnpAra8\n",
       "B7bjy6bPQElZmhQLLRsj9adg+hZbps7JadVA/4vjwDg320ohd2K3j1ITvnXPSJP/fh4/Adu6JZaG\n",
       "aF1XYwAAAABJRU5ErkJggg==\n",
       "\" style=\"display:inline;vertical-align:middle;\" /></a></span></td></tr>\n",
       "<tr><td>&nbsp;</td><td colspan=4 style-\"text-align:left\"><a class=\"ProveItLink\" href=\"../../ordering/_theory_nbs_/proofs/non_neg_if_real_non_neg/thm_proof.ipynb\">proveit.numbers.ordering.non_neg_if_real_non_neg</a></td></tr><tr><td><a name=\"0x46a464496da4ef0a_step2\">2</a></td><td>instantiation</td><td><a href=\"#0x46a464496da4ef0a_step3\">3</a>, <a href=\"#0x46a464496da4ef0a_step4\">4</a></td><td><span style=\"font-size:20px;\"><a class=\"ProveItLink\" href=\"../__pv_it/theorems/ffc4a45642fde8a513aa78237f7ca59ff7c646290/expr.ipynb\"><img src=\"data:image/png;base64,iVBORw0KGgoAAAANSUhEUgAAADMAAAAPBAMAAAC7N+rPAAAAMFBMVEX///9UVFSqqqrMzMwiIiJE\n",
       "RESYmJgyMjK6urru7u4QEBCIiIh2dnZmZmbc3NwAAABRgo0vAAAAAXRSTlMAQObYZgAAANBJREFU\n",
       "GNNjYMACuEvql8Rik2BgtlfgvJ+LVSpBmoGB7S+KUKqLSwGQYjNYCSRlkWVMd0JoXr4AIDkbiPnu\n",
       "3AapYuCshCqZyHwByup6wP4BRDM+gAq84dgAYXAuY+AFGcDACjP4LUyK9ycDC5hpVQ4EIGdMZT4A\n",
       "keIKYJhvAGI8helinyAAYcw/wKAPUQOTYrsAkuIESikwiDOBXMC7ASYX3Q0k2oG2b2Bz5AGLOMGk\n",
       "eEtPcqpGAjVKb364A+KfiAlQOduqL5dRw64nBBxQMAAAUJwvP1Qg9PwAAAAASUVORK5CYII=\n",
       "\" style=\"display:inline;vertical-align:middle;\" /></a>, <a class=\"ProveItLink\" href=\"../__pv_it/demonstrations/6051a0540e9e0a0b592a6d597e12da191c24af4b0/expr.ipynb\"><img src=\"data:image/png;base64,iVBORw0KGgoAAAANSUhEUgAAAD0AAAAPBAMAAACl/tp8AAAAMFBMVEX////MzMyYmJjc3NyIiIhU\n",
       "VFR2dna6urqqqqpmZmYyMjIiIiIQEBBERETu7u4AAACIO4EmAAAAAXRSTlMAQObYZgAAANxJREFU\n",
       "GNNj4LuzgQEFaJ+9v+qsAoLPNQFVnmHBUwZZ3QcMtXeB4AEDA38DmvwFMwZe5gA4t/4BlKG7e/cC\n",
       "qDynwQK4fDaUlvVD6Oc0uACXX+oyA0TxrUMyn5Udbj7frwfvDYA0qwGSfPcsmKUMHP8Y+B2ANC/C\n",
       "fTa7dyHczLmA4X0CkJZZBQRQ91XyPkD2fj1ItS2S/zgLEc7jV2CYD1LNg+z/eyoI+QK+Q2B7HJDk\n",
       "RTkFYDxWBV5IAO9ACl+2hkC4/6YkQRhPrz+Axc9Chrvr0UOdgaHs9u4FGIIAV7ZG6f/qy2MAAAAA\n",
       "SUVORK5CYII=\n",
       "\" style=\"display:inline;vertical-align:middle;\" /></a> <a class=\"ProveItLink\" href=\"../__pv_it/demonstrations/e1aa707ca8c2d747b0629808be77d7901ef3712a0/proof.ipynb\" style=\"text-decoration: none\">&nbsp;&#x22A2;&nbsp;&nbsp;</a><a class=\"ProveItLink\" href=\"../__pv_it/demonstrations/49bccb0656c3fc56533a9e37753bf667ff8d69d60/expr.ipynb\"><img src=\"data:image/png;base64,iVBORw0KGgoAAAANSUhEUgAAALwAAAAZBAMAAAB5tlnFAAAAMFBMVEX///9UVFSqqqoiIiJERESY\n",
       "mJgyMjIQEBBmZmbc3NyIiIi6urp2dnbu7u7MzMwAAABs7OAJAAAAAXRSTlMAQObYZgAAAlpJREFU\n",
       "SMe9lUFo01AYx/9r2i1pm6agCHpwAT3stslwBxEMsyBYxICePFXEHJ3odKAMqoiU4jDiwUsPvQk6\n",
       "Rj25i66wKYPt8HYREaEVvLrJBC+zzJc2Wd/32rpDqO+QhD/v++XL9/3fF6B/a36+P9w3rneNVSPp\n",
       "vuC1B3V+VSpo9Cd97RHn1+q4hR9hMD2D9ZUKtlycxFoYfO9g/SPbYjjVdYd+bkxWCpk6VUrrkx34\n",
       "S9MXnWm7+Ri/7mV/r3sCg3lJ2EByh1Y3j1G7Izi3ge+XGX/4Mtms/Q7dESm37oYpCXPADFHi2zDG\n",
       "OvBWCVGNu/FrNnBOV/wSk4TbwLArKon7MHJBcOzs+ESAV90cPmebGeS577vil2VhimG4ThS0i5M6\n",
       "z9rZq66FTf/Urja7oz0pzlLa1VcPIcFwhlFFPx209hMTijOQSEveeusO/iQ0/TeruRI+8Ye+UFue\n",
       "C/CHxdofe8woXr8D1SKxkQaMsoRX0vL3vKz4eKuNfzE+wV1xPMMX8/FqA4oXk3Sca3cdh2PUHGpV\n",
       "UeCrAEjK0GwLn+KK4/jZL0aZdPCGLM+iYmrc9ksmzTWep83WXES3W3hNyL6kvrckPE90lMYaNp5K\n",
       "jRzxgOKWxh4eN8XaX7gi400citDYCu8HwaeqiJMt/JOV4NAURfw3tU7x0XLsRJLQBuxonuKfr68e\n",
       "IErMbvteMYWhkDSPSs45svDsNTVm8YN8rHZ3f1FlsZANjKkffLc30m4gM2X2mqnCKeohUMUPTqz4\n",
       "Q2Gfka0zeRAz/EtZC/FHCPU7+U/4hTD4fYP/AseFy1YIJSFIAAAAAElFTkSuQmCC\n",
       "\" style=\"display:inline;vertical-align:middle;\" /></a></span></td></tr>\n",
       "<tr><td>&nbsp;</td><td colspan=4 style=\"text-align:left\"><span style=\"font-size:20px;\"><a class=\"ProveItLink\" href=\"../../../__pv_it/common/c06c606ec12678c58933ac85412ecadc2ae28be60/expr.ipynb\"><img src=\"data:image/png;base64,iVBORw0KGgoAAAANSUhEUgAAAAsAAAAJBAMAAAAWSsseAAAAMFBMVEX///9UVFSqqqrMzMwiIiJE\n",
       "RESYmJgyMjK6urru7u4QEBCIiIh2dnZmZmbc3NwAAABRgo0vAAAAAXRSTlMAQObYZgAAAEdJREFU\n",
       "CNdjYOC7c3slAwND1wP2DwwMnMsYeAMYGHh/MrBsYGDgCmCYb8DAMP8Agz5QxXwFBnGmBwysG9gc\n",
       "eYAqpTc/3MEAAP4BD32xAXDqAAAAAElFTkSuQmCC\n",
       "\" style=\"display:inline;vertical-align:middle;\" /></a> : <a class=\"ProveItLink\" href=\"../__pv_it/demonstrations/f623e2f2dfe76e10c69e3e82a730dd87cd1972330/expr.ipynb\"><img src=\"data:image/png;base64,iVBORw0KGgoAAAANSUhEUgAAAHUAAAAQBAMAAADaEy1mAAAAMFBMVEX///9UVFSqqqrMzMwiIiJE\n",
       "RESYmJgyMjK6urru7u4QEBCIiIh2dnZmZmbc3NwAAABRgo0vAAAAAXRSTlMAQObYZgAAAT9JREFU\n",
       "KM+Fk79Kw1AUxj9itYlJg4Po0KF5AWkeQR9A7OIodvIJhOBQ7Ox0BV0EyeLfTgUXB8Usbi24iIgG\n",
       "KjiqSCm1xWJsog7fMeKdcn/n++45Ofdc4Pfa3hPACBddJnbj0kHqqoj9Jqwek2doXQJa/fujLcAt\n",
       "UGNy4aCT6tX7Agz/odAislHFW6rXmhVgXaHgcmlfNdv3d8cszebPHaHEghJkK4jTt7Kv7PXXjA+h\n",
       "1AeiJU/zw8OMA+RKHCgqvAtvZkJ4YR4BuT4yMbA8b/XQ82LNDYwBASAEBEFNYbwE3+VDK9DbnMW8\n",
       "Et17AZYd+AGKItCNiyHvDGy+o0glXgfTGgd62CkTGAlgsmQ/6fxofWzO4rxTWGLw2GhOMllJ7tfI\n",
       "nzyccmD3rCxmI4o6YvTC62r6PP8JUsjPU1P/ASafAz9v0qQY2GoAAAAASUVORK5CYII=\n",
       "\" style=\"display:inline;vertical-align:middle;\" /></a></span></td></tr><tr><td><a name=\"0x46a464496da4ef0a_step3\">3</a></td><td>conjecture</td><td></td><td><span style=\"font-size:20px;\"> <a class=\"ProveItLink\" href=\"proofs/abs_complex_closure_non_neg_real/thm_proof.ipynb\" style=\"text-decoration: none\">&nbsp;&#x22A2;&nbsp;&nbsp;</a><a class=\"ProveItLink\" href=\"../__pv_it/theorems/73a876718d231f4fb10cefaff62948879b23f8ec0/expr.ipynb\"><img src=\"data:image/png;base64,iVBORw0KGgoAAAANSUhEUgAAAJsAAAAcBAMAAACE+tDfAAAAMFBMVEX///8QEBCIiIhmZma6urrM\n",
       "zMxUVFQiIiJERETc3Nzu7u6qqqp2dnaYmJgyMjIAAAAcRTyBAAAAAXRSTlMAQObYZgAAArZJREFU\n",
       "SMetlUtoE1EUhv88Jo/Jy526SxRFXEjwASn4CIiuFCP4iG4agqLiploli7ooUmsarQQCWlBwtNBF\n",
       "qDb4gkgXoXYhViGubEuFUdFFlNqNoKmI587cSSePYRrohST3nvvz3XPOPecGWJFhnSitCMd+TvmZ\n",
       "w4vlqI+YKnKn2fclBCSrqVZImJ+YuwaIv2Ap2E3FfgmCxOcnjUSjfRD+wFnGOzPcVsAb5fNJQ9Vo\n",
       "RajCGYSTTpaZ4WNrnbtqiPNdSP/7NKjOt5TJO0sQ1jAwxQyV1jhv2Ng7v5gQBjM0ETcVWO4CUbgX\n",
       "gCHmRW9rnKVgjHO5S+i9TbTXUX6zQI+SbXgLrXH3pWbcdCola7gOP8SIsr9eqbsIJeFNPn/HIMfv\n",
       "0YSLb9Z51+GCEFO74i3lBSH6/E6nrxjgdnNc7lVIUnFiRR9sYn+9/hBFQ1U9YIBLqzj7Wvzk3jmy\n",
       "Opynu+EKO8nVvRBlvc1z80yST7+puAdllhUF59JdxerUd1KnaWS0XFMkTljLfCmObyuLcUn4wdfd\n",
       "Km6PhIscd3ieBr+KyXCmIZoxwnnLTm05XczDdw8Y5+svKm4NqysVN6QvlO3xxkognFs+RrPhjV9h\n",
       "Z7ez7zmZ+Ha/ghP/wrPAcRY9zvUo2JA7ltmBUxTmZWo7PzPNzixtn1Vxi3DIRRVnC+pwQmJH883i\n",
       "aRfJwkIXhpnpZXFpO6QGexUfEiVedz26JsOUI9ZUpwgEWTtZEzhOlxS8e7T+NMKNrDuRjHLcSJ9U\n",
       "ewJirluLdbiIskOCsaxrVnIo4Tyk0LWejTY32YHrKdnopfpca/Zs50F4mevunTFMcKuttKz3Thti\n",
       "tfYPknyyC7ihPIbz/VpGhFVt4XwNr7uVcldnON8WzhkzETymIzTNBlPcnJnAE27jL9foEdaNZ23g\n",
       "bBJWevwHcEe6tuaeXf8AAAAASUVORK5CYII=\n",
       "\" style=\"display:inline;vertical-align:middle;\" /></a></span></td></tr>\n",
       "<tr><td>&nbsp;</td><td colspan=4 style-\"text-align:left\"><a class=\"ProveItLink\" href=\"proofs/abs_complex_closure_non_neg_real/thm_proof.ipynb\">proveit.numbers.absolute_value.abs_complex_closure_non_neg_real</a></td></tr><tr><td><a name=\"0x46a464496da4ef0a_step4\">4</a></td><td>instantiation</td><td><a href=\"#0x46a464496da4ef0a_step5\">5</a>, <a href=\"#0x46a464496da4ef0a_step6\">6</a>, <a href=\"#0x46a464496da4ef0a_step7\">7</a></td><td><span style=\"font-size:20px;\"><a class=\"ProveItLink\" href=\"../__pv_it/theorems/ffc4a45642fde8a513aa78237f7ca59ff7c646290/expr.ipynb\"><img src=\"data:image/png;base64,iVBORw0KGgoAAAANSUhEUgAAADMAAAAPBAMAAAC7N+rPAAAAMFBMVEX///9UVFSqqqrMzMwiIiJE\n",
       "RESYmJgyMjK6urru7u4QEBCIiIh2dnZmZmbc3NwAAABRgo0vAAAAAXRSTlMAQObYZgAAANBJREFU\n",
       "GNNjYMACuEvql8Rik2BgtlfgvJ+LVSpBmoGB7S+KUKqLSwGQYjNYCSRlkWVMd0JoXr4AIDkbiPnu\n",
       "3AapYuCshCqZyHwByup6wP4BRDM+gAq84dgAYXAuY+AFGcDACjP4LUyK9ycDC5hpVQ4EIGdMZT4A\n",
       "keIKYJhvAGI8helinyAAYcw/wKAPUQOTYrsAkuIESikwiDOBXMC7ASYX3Q0k2oG2b2Bz5AGLOMGk\n",
       "eEtPcqpGAjVKb364A+KfiAlQOduqL5dRw64nBBxQMAAAUJwvP1Qg9PwAAAAASUVORK5CYII=\n",
       "\" style=\"display:inline;vertical-align:middle;\" /></a>, <a class=\"ProveItLink\" href=\"../__pv_it/demonstrations/6051a0540e9e0a0b592a6d597e12da191c24af4b0/expr.ipynb\"><img src=\"data:image/png;base64,iVBORw0KGgoAAAANSUhEUgAAAD0AAAAPBAMAAACl/tp8AAAAMFBMVEX////MzMyYmJjc3NyIiIhU\n",
       "VFR2dna6urqqqqpmZmYyMjIiIiIQEBBERETu7u4AAACIO4EmAAAAAXRSTlMAQObYZgAAANxJREFU\n",
       "GNNj4LuzgQEFaJ+9v+qsAoLPNQFVnmHBUwZZ3QcMtXeB4AEDA38DmvwFMwZe5gA4t/4BlKG7e/cC\n",
       "qDynwQK4fDaUlvVD6Oc0uACXX+oyA0TxrUMyn5Udbj7frwfvDYA0qwGSfPcsmKUMHP8Y+B2ANC/C\n",
       "fTa7dyHczLmA4X0CkJZZBQRQ91XyPkD2fj1ItS2S/zgLEc7jV2CYD1LNg+z/eyoI+QK+Q2B7HJDk\n",
       "RTkFYDxWBV5IAO9ACl+2hkC4/6YkQRhPrz+Axc9Chrvr0UOdgaHs9u4FGIIAV7ZG6f/qy2MAAAAA\n",
       "SUVORK5CYII=\n",
       "\" style=\"display:inline;vertical-align:middle;\" /></a> <a class=\"ProveItLink\" href=\"../__pv_it/demonstrations/3984ff59e65ad845979c1a83fbe79fd19dc61b5e0/proof.ipynb\" style=\"text-decoration: none\">&nbsp;&#x22A2;&nbsp;&nbsp;</a><a class=\"ProveItLink\" href=\"../__pv_it/demonstrations/b380a57e95809811eba1697040e6ae183f25d59f0/expr.ipynb\"><img src=\"data:image/png;base64,iVBORw0KGgoAAAANSUhEUgAAAKsAAAAUBAMAAAAAWtCKAAAAMFBMVEX///9UVFTMzMx2dna6uroQ\n",
       "EBCqqqqIiIgiIiJmZmYyMjJERETu7u6YmJjc3NwAAAC+aOQFAAAAAXRSTlMAQObYZgAAAjpJREFU\n",
       "OMullUFoE0EUhv8maZJNdpPeql6aiwfxYKCHWlQIiCi99GKhaIW9iqBBBBEK6qXEk0HBEhRaD0JZ\n",
       "i81BaUVbpwex0ENyFVFWeqkIIughlpb4drK7+J7ZInYOM7v/7Hzz5r03b4FcE//fLkfOrHfRzBe3\n",
       "pFJ7VeBKbvCYjR5XLk3NLYy/pPFZt70yVSGsIv6TK1+Q3IE5K76LHbHNmfeAxQDJcmfM20J4BIxx\n",
       "5aaNFjAksM1+Qv4C0m437KgSwjgw4DLlVAlbwFv/uw+Vime4VZigfj+wiW7Yo1JYUBgoMAWeE5Ap\n",
       "6cfDkx3JyNWpfwfc8Lx/f3qCUx5ffwABwV0llLUiENc+NOeDEMR8ny5753Ez3xnF3FINV0ASP8RG\n",
       "G3doH0vHLEyIjYQ/O0WQCzDqbE1yG/mywKb7pP2ps/SmMzEbpkeApSljG2nvLe44c+cch5Ybs2gU\n",
       "/xSo1QChYEwhpo950KHm2b0eK4bY3joaBWYKpe2ozW1LVUUQvwFvbB/7Ncx31Rc6gQy7wtfkm5gR\n",
       "AbqIHPd2W3nYhHZCb4C1qh7W1CFr2DiQZGvyJfI3g9DhUhx7XudGJ2RG6O/F09SNAMPk8LJ1O84o\n",
       "Pc1slWM3B4f3ceWjzlujGJzZT9ynx81Lr4EzZHP/1c/XeIJNn5DXod1ucSVRe0hXIdMJyurz4Foe\n",
       "etK6h6jLGy0IZc0fTy5VWNXhpcZUsiAq7KoMRdXblT1U8b8L465l/J9b1o2a2dNP51OE/hu8G6NU\n",
       "Jz/WjgAAAABJRU5ErkJggg==\n",
       "\" style=\"display:inline;vertical-align:middle;\" /></a></span></td></tr>\n",
       "<tr><td>&nbsp;</td><td colspan=4 style=\"text-align:left\"><span style=\"font-size:20px;\"><a class=\"ProveItLink\" href=\"../__pv_it/demonstrations/84fb6bfbf82ffd89b2e4fb128d4f37cc62a695fa0/expr.ipynb\"><img src=\"data:image/png;base64,iVBORw0KGgoAAAANSUhEUgAAADcAAAAUBAMAAADbzbjtAAAAMFBMVEX///8iIiLc3Ny6urqIiIiq\n",
       "qqp2dnbMzMwQEBDu7u5mZmYyMjJERERUVFSYmJgAAAA4CJ/KAAAAAXRSTlMAQObYZgAAAQ1JREFU\n",
       "KM9jYIADpgcMyCAITL79f/burgkMDHNQ5Bh4FcDUbwYGnk4Ghk2okpwbQCT7NwYG1i8MfAtQJRlS\n",
       "QATLZyD+xsCogCY5A0TwfABa8JlBEU2OgdsASPADDddfwOCF5O5lS4BuYAPZU5/AwCrGwHAOIWmh\n",
       "wA00jQ/kIv9raUuAPhFFuLOPgesA0JECQPb5CWChZrgk108GRgegL4C6GT4yoElyHGCYXwCRZP8F\n",
       "EUIYOz+BIR5IMQtAvAkCCAfND2C4zaoAdhD3T4hQFlySx4FPlg1odQID1/6/DmAhQ6BBZ4DgJAPn\n",
       "FXddZ6CuAoTnMIJvIhIbe8DDwCFsUQYDaJHNg2INWjJ5xMAAAHA6PhPQZp1jAAAAAElFTkSuQmCC\n",
       "\" style=\"display:inline;vertical-align:middle;\" /></a> : <a class=\"ProveItLink\" href=\"../__pv_it/demonstrations/971e5255f3dab415b640abbf96d0640a5a6167920/expr.ipynb\"><img src=\"data:image/png;base64,iVBORw0KGgoAAAANSUhEUgAAAEAAAAAPBAMAAACmSdRUAAAAMFBMVEX///9UVFSqqqrMzMwiIiKY\n",
       "mJgyMjIQEBCIiIh2dnZmZmbc3Nzu7u5ERES6uroAAACFTSmKAAAAAXRSTlMAQObYZgAAANZJREFU\n",
       "GNNjYMAN2ty++y7AI2/8ieHUVzwKWBkbGBjisShgveLiBqKD2Q8wMDBiKmC+cQDCWLAXSPA0wCV2\n",
       "zWoHyxyDyvMIWKFo5KtmyAczpKEC3BNeoCg4HsCwFsy4AFOwAFXB+gMMHmAnlKUBAciKC5YoCmoZ\n",
       "eD6DNcJMYMhhRJbn+cnA9AHMKoAJRYEVHIAp+MTAmKANYq2AKeDtA3qRLwHGvcEQIjABxGBRgAkt\n",
       "u3ng0N0DDG/vAsEBhoMd1hIPwGbJvoEF2bJ6LwMsccA3FxLUUAAAox86hX2KqUcAAAAASUVORK5C\n",
       "YII=\n",
       "\" style=\"display:inline;vertical-align:middle;\" /></a>, <a class=\"ProveItLink\" href=\"../../../__pv_it/common/a0d9d672aa5e272d907247690c152cc2c6daafb70/expr.ipynb\"><img src=\"data:image/png;base64,iVBORw0KGgoAAAANSUhEUgAAAAsAAAAJBAMAAAAWSsseAAAALVBMVEX///9mZmaqqqrMzMxEREQy\n",
       "MjIiIiKYmJh2dna6urrc3NxUVFSIiIju7u4AAACJHQtQAAAAAXRSTlMAQObYZgAAAEJJREFUCNdj\n",
       "YLhzeuWJAwy8Dew5bAEMHBc43nIuYOBlYHFgAAG+A2DKzgBIMF04x8BzgWGegh/DcgaG22fuiBcw\n",
       "AAATyhBrnyPYZQAAAABJRU5ErkJggg==\n",
       "\" style=\"display:inline;vertical-align:middle;\" /></a> : <a class=\"ProveItLink\" href=\"../__pv_it/demonstrations/f623e2f2dfe76e10c69e3e82a730dd87cd1972330/expr.ipynb\"><img src=\"data:image/png;base64,iVBORw0KGgoAAAANSUhEUgAAAHUAAAAQBAMAAADaEy1mAAAAMFBMVEX///9UVFSqqqrMzMwiIiJE\n",
       "RESYmJgyMjK6urru7u4QEBCIiIh2dnZmZmbc3NwAAABRgo0vAAAAAXRSTlMAQObYZgAAAT9JREFU\n",
       "KM+Fk79Kw1AUxj9itYlJg4Po0KF5AWkeQR9A7OIodvIJhOBQ7Ox0BV0EyeLfTgUXB8Usbi24iIgG\n",
       "KjiqSCm1xWJsog7fMeKdcn/n++45Ofdc4Pfa3hPACBddJnbj0kHqqoj9Jqwek2doXQJa/fujLcAt\n",
       "UGNy4aCT6tX7Agz/odAislHFW6rXmhVgXaHgcmlfNdv3d8cszebPHaHEghJkK4jTt7Kv7PXXjA+h\n",
       "1AeiJU/zw8OMA+RKHCgqvAtvZkJ4YR4BuT4yMbA8b/XQ82LNDYwBASAEBEFNYbwE3+VDK9DbnMW8\n",
       "Et17AZYd+AGKItCNiyHvDGy+o0glXgfTGgd62CkTGAlgsmQ/6fxofWzO4rxTWGLw2GhOMllJ7tfI\n",
       "nzyccmD3rCxmI4o6YvTC62r6PP8JUsjPU1P/ASafAz9v0qQY2GoAAAAASUVORK5CYII=\n",
       "\" style=\"display:inline;vertical-align:middle;\" /></a>, <a class=\"ProveItLink\" href=\"../../../__pv_it/common/ff7dba4ef0bbe791ab573bf2d9c220a304399ac80/expr.ipynb\"><img src=\"data:image/png;base64,iVBORw0KGgoAAAANSUhEUgAAAAsAAAANBAMAAACN24kIAAAAMFBMVEX///8iIiKYmJhUVFTMzMxE\n",
       "REQyMjKqqqq6urp2dnYQEBDc3NxmZmaIiIju7u4AAACH5sGpAAAAAXRSTlMAQObYZgAAAFlJREFU\n",
       "CNdj4LtzgWHXAwZOjgUM9xkYtvMkMIQyMDzgusDwl4GBof8ByxcgdYyBdwGQCmZgNQBShxn6FYDU\n",
       "47vnNzAwgGUZGJgT+H4AKUYF1gtAiuPuESAJAJGkFvXVdzA+AAAAAElFTkSuQmCC\n",
       "\" style=\"display:inline;vertical-align:middle;\" /></a> : <a class=\"ProveItLink\" href=\"../__pv_it/demonstrations/26dcf485f427acdc317261d8d84fe1f548b91b000/expr.ipynb\"><img src=\"data:image/png;base64,iVBORw0KGgoAAAANSUhEUgAAAFEAAAAQBAMAAACcpY7MAAAAMFBMVEX///9UVFSqqqrMzMwiIiJE\n",
       "RESYmJgyMjK6urru7u4QEBCIiIh2dnZmZmbc3NwAAABRgo0vAAAAAXRSTlMAQObYZgAAAPJJREFU\n",
       "KM9jYMAEU5egCbBnMl9iwApq0fhc//8fQBFg2gBlfEITYD+4jwGrSo6faAKM6JbCJHgcsKvku3N7\n",
       "JZpl0nsVUFWm7TUAUl0P2D+gqpxfyfkPRYB1At8PBgbOZQy8Aagq9Scw/Eb1IgNDCAMD708GFpAA\n",
       "T3l5yfLycgEg8zoD5x8UASC4/4CBK4BhvgGqmbUMHJ9QBMQZGM43MMw/wKCP5tVvIIuQBZYDzZzA\n",
       "MF+BQZzpAYrED4ZZCSgCFxgY3IH+2sDmyINqphhDLKrAWwa2dUC/S29+uANVYu6eBFQBvjuyE7DH\n",
       "O04BGOCcgE8AAMLATCGSwol8AAAAAElFTkSuQmCC\n",
       "\" style=\"display:inline;vertical-align:middle;\" /></a></span></td></tr><tr><td><a name=\"0x46a464496da4ef0a_step5\">5</a></td><td>theorem</td><td></td><td><span style=\"font-size:20px;\"> <a class=\"ProveItLink\" href=\"../../../logic/equality/_theory_nbs_/proofs/sub_left_side_into/thm_proof.ipynb\" style=\"text-decoration: none\">&nbsp;&#x22A2;&nbsp;&nbsp;</a><a class=\"ProveItLink\" href=\"../../../logic/equality/__pv_it/theorems/8c444378a3a7afbc2953d40707cf277d9e5724670/expr.ipynb\"><img src=\"data:image/png;base64,iVBORw0KGgoAAAANSUhEUgAAAL8AAAAWBAMAAABj11ATAAAAMFBMVEX///8QEBCIiIhmZma6urrM\n",
       "zMxUVFQiIiJERETc3Nzu7u6qqqp2dnaYmJgyMjIAAAAcRTyBAAAAAXRSTlMAQObYZgAAAthJREFU\n",
       "SMe1VU1oE0EU/rruTzbZJl48eQkWSgkFcxFUREKFqmA19SDeDMEWKrXtoR4sKvGWCrW5WQRxBalY\n",
       "PAQ8iIK41IMQg0YURFDYs1C7KEpbi/rmp5vdJhHF+GD3zXxvZr43782bAf6H3JD6IX0ua3xoz7qd\n",
       "4yvDY3uBaEECegl4zhof2+R5gty9bCNekv0o9edIm4U2EZxygCdJvPaBRSBuA1a5TQQ7M/Q5OO8D\n",
       "tyhulYWFa+1K7ix94xlzwgfixLhSLF74w/k8tNpvBvygcH+Bkqbo7xjpo/hY1BwCpgF1dnT3mcYZ\n",
       "Gf6XRot3YpmW62vrwAMHkRpwD2+Tlyg+lOUDPNd4BTxrnCKzL4wjorOnJYHyrfo0BRiU0gpe2ofJ\n",
       "G4qWAYUYMUzpaUnAjZojOvMtCSJrXHXQHm0U+Z482njNYM2LEFBTAm7UszJxpZZlMOETAJ83CEz3\n",
       "BCuJVShT7ODu6qZ11G4Ydp1AGMmPvhymxIatruNDclkOijJIc8VCBO0rzx6jnD7NWuu9rKYVe8wg\n",
       "fithDwZ2IIx0mJ01bStiOYJSujupF0lmBOiXAYsUefBI8ZASScZ9xmK54hxgianrB9ETIBDGQzBv\n",
       "TygFqAzMxmtyAwLksmyL4Wmo3yOeSSO2sLwlkow1Lcev8v8+5AMEwtjPxutJaJwu4WeCg0z2/xST\n",
       "KC7RfKqL3aBxlrdOxpuQt4Xm8UKaxLYAgTCepOhmOrJQczzeyOqfSJYEGJL6VXGnfk0xh+bsm5Zr\n",
       "kcI51QsQcCMbbGSPkUOOecX0XkCeWgGGJHTZyRJZZuUzWJ5/s1ghhf4et04gjOxcqfmrFJKMtj16\n",
       "9kivLedyMFwPwes6JDJO5WgpUgvWgXCijLuYobhSgQYncTAk/oMT2VQysZJUunMUDQTUGVXJpcfi\n",
       "KfSFg82fzHebn7wNpb53mhAMYKBK7tGRqoXg6j9c8OnGDSr2X63wC2jlxTKsC1d/AAAAAElFTkSu\n",
       "QmCC\n",
       "\" style=\"display:inline;vertical-align:middle;\" /></a></span></td></tr>\n",
       "<tr><td>&nbsp;</td><td colspan=4 style-\"text-align:left\"><a class=\"ProveItLink\" href=\"../../../logic/equality/_theory_nbs_/proofs/sub_left_side_into/thm_proof.ipynb\">proveit.logic.equality.sub_left_side_into</a></td></tr><tr><td><a name=\"0x46a464496da4ef0a_step6\">6</a></td><td>instantiation</td><td><a href=\"#0x46a464496da4ef0a_step8\">8</a>, <a href=\"#0x46a464496da4ef0a_step46\">46</a>, <a href=\"#0x46a464496da4ef0a_step9\">9</a>, <a href=\"#0x46a464496da4ef0a_step21\">21</a>, <a href=\"#0x46a464496da4ef0a_step22\">22</a>, <a href=\"#0x46a464496da4ef0a_step10\">10</a></td><td><span style=\"font-size:20px;\"><a class=\"ProveItLink\" href=\"../__pv_it/theorems/ffc4a45642fde8a513aa78237f7ca59ff7c646290/expr.ipynb\"><img src=\"data:image/png;base64,iVBORw0KGgoAAAANSUhEUgAAADMAAAAPBAMAAAC7N+rPAAAAMFBMVEX///9UVFSqqqrMzMwiIiJE\n",
       "RESYmJgyMjK6urru7u4QEBCIiIh2dnZmZmbc3NwAAABRgo0vAAAAAXRSTlMAQObYZgAAANBJREFU\n",
       "GNNjYMACuEvql8Rik2BgtlfgvJ+LVSpBmoGB7S+KUKqLSwGQYjNYCSRlkWVMd0JoXr4AIDkbiPnu\n",
       "3AapYuCshCqZyHwByup6wP4BRDM+gAq84dgAYXAuY+AFGcDACjP4LUyK9ycDC5hpVQ4EIGdMZT4A\n",
       "keIKYJhvAGI8helinyAAYcw/wKAPUQOTYrsAkuIESikwiDOBXMC7ASYX3Q0k2oG2b2Bz5AGLOMGk\n",
       "eEtPcqpGAjVKb364A+KfiAlQOduqL5dRw64nBBxQMAAAUJwvP1Qg9PwAAAAASUVORK5CYII=\n",
       "\" style=\"display:inline;vertical-align:middle;\" /></a>, <a class=\"ProveItLink\" href=\"../__pv_it/demonstrations/6051a0540e9e0a0b592a6d597e12da191c24af4b0/expr.ipynb\"><img src=\"data:image/png;base64,iVBORw0KGgoAAAANSUhEUgAAAD0AAAAPBAMAAACl/tp8AAAAMFBMVEX////MzMyYmJjc3NyIiIhU\n",
       "VFR2dna6urqqqqpmZmYyMjIiIiIQEBBERETu7u4AAACIO4EmAAAAAXRSTlMAQObYZgAAANxJREFU\n",
       "GNNj4LuzgQEFaJ+9v+qsAoLPNQFVnmHBUwZZ3QcMtXeB4AEDA38DmvwFMwZe5gA4t/4BlKG7e/cC\n",
       "qDynwQK4fDaUlvVD6Oc0uACXX+oyA0TxrUMyn5Udbj7frwfvDYA0qwGSfPcsmKUMHP8Y+B2ANC/C\n",
       "fTa7dyHczLmA4X0CkJZZBQRQ91XyPkD2fj1ItS2S/zgLEc7jV2CYD1LNg+z/eyoI+QK+Q2B7HJDk\n",
       "RTkFYDxWBV5IAO9ACl+2hkC4/6YkQRhPrz+Axc9Chrvr0UOdgaHs9u4FGIIAV7ZG6f/qy2MAAAAA\n",
       "SUVORK5CYII=\n",
       "\" style=\"display:inline;vertical-align:middle;\" /></a> <a class=\"ProveItLink\" href=\"../__pv_it/demonstrations/323c8181c670a25a9c93b3683502722a05fde7150/proof.ipynb\" style=\"text-decoration: none\">&nbsp;&#x22A2;&nbsp;&nbsp;</a><a class=\"ProveItLink\" href=\"../__pv_it/demonstrations/da0dea00bc62093f4ea5578ec22fa9a2963876510/expr.ipynb\"><img src=\"data:image/png;base64,iVBORw0KGgoAAAANSUhEUgAAAIcAAAAUBAMAAABVOzPUAAAAMFBMVEX///9UVFTMzMx2dna6uroQ\n",
       "EBCqqqqIiIgiIiJmZmYyMjJERETu7u6YmJjc3NwAAAC+aOQFAAAAAXRSTlMAQObYZgAAAetJREFU\n",
       "OMtjYOC7wEAsyMMpcxqLGM/WBjQRrjtM0xgYH6ArZF+xPmInkF6HzWSuCWgCrP//GzDwLEATZdJP\n",
       "4Jl/k4GBF0U5WwGE5k9AE+AyrAOS5miGXBAHGvCTgYHjATZD/A+gCTCCyaNQ0dsdHSBH8SrEAElJ\n",
       "BoYXDNgMsWDAagiXA5jSroEIcvJtAJLHGRgqgRTf5OkxqHoWlk9DM+RupQIDAzPY7zxroDYcZIKG\n",
       "xV4gdn3A9QFFD8+vA+cfoBjCfYDvC9D94JCFR9JjFqhsG1BLLAPnBhRD2P4w8BegGAIEO4A8cMxz\n",
       "w0RewgwJAXrtDwMHiMe8atWKqFWrBIAiCxjOGyALgMD8BwxMYAerrgICkJtOMxnADWHdwHBeAcUl\n",
       "wGTin4DiEikGBnsHqCGv4anpgADcO0BL81Ejg/8Cw/wDKIZEMYBEWMDeYYUZwjsBZAgPOGDPJzBI\n",
       "saGEI78DMJxQDAFGQxcsYDnh4bTdHUh4MTBYAgOqgLeRGUUP4wXuCaiGvGTgjQNqN4C5HppQVtvw\n",
       "ZO9hYPAAuke86GEJahRPt0VLbHyTJYH+44IE3cEtsAStufTHJAZcyR6HwAko7byjAyUvomZAngPo\n",
       "hQKKgDmu8mQf0WUSZlGAt1DCAbgf4JIhoXi8h0McAJdCgYXNFPy8AAAAAElFTkSuQmCC\n",
       "\" style=\"display:inline;vertical-align:middle;\" /></a></span></td></tr>\n",
       "<tr><td>&nbsp;</td><td colspan=4 style=\"text-align:left\"><span style=\"font-size:20px;\"><a class=\"ProveItLink\" href=\"../../../__pv_it/common/ae955345c83abf786c3aff8681cd5465beae262d0/expr.ipynb\"><img src=\"data:image/png;base64,iVBORw0KGgoAAAANSUhEUgAAAAcAAAAOBAMAAAARcxsoAAAAKlBMVEX///8yMjKqqqrc3NwQEBC6\n",
       "urp2dnZmZmaIiIju7u6YmJhERERUVFQAAAAIfTrnAAAAAXRSTlMAQObYZgAAADhJREFUCNdjYGA4\n",
       "zQAEpxjQAWd7AwMDG6sDA4MRuwADwwReIJdBdwKQ2AOSvcTGwMB6wQqkdQEDAPwvCSrC7lmiAAAA\n",
       "AElFTkSuQmCC\n",
       "\" style=\"display:inline;vertical-align:middle;\" /></a> : <a class=\"ProveItLink\" href=\"../../numerals/__pv_it/common/0a19a501c0770212f27a044b71e9c626b8ca0bec0/expr.ipynb\"><img src=\"data:image/png;base64,iVBORw0KGgoAAAANSUhEUgAAAAoAAAAOBAMAAADkjZCYAAAAKlBMVEX////u7u4yMjIQEBC6uroi\n",
       "IiKIiIiYmJhmZmaqqqpERER2dnbc3NwAAAAz17lDAAAAAXRSTlMAQObYZgAAAE5JREFUCNdjYDi9\n",
       "eyUDA08Dw9wCBrabDLwBDCwmDLwKDEAAFGFgYIwGEjxbG0ECDMkOIJLZkIHnAAMXUPFFEMm8gIH1\n",
       "IgN7AVi9R8cSBgCvphDNutx7AgAAAABJRU5ErkJggg==\n",
       "\" style=\"display:inline;vertical-align:middle;\" /></a>, <a class=\"ProveItLink\" href=\"../../../__pv_it/common/c06c606ec12678c58933ac85412ecadc2ae28be60/expr.ipynb\"><img src=\"data:image/png;base64,iVBORw0KGgoAAAANSUhEUgAAAAsAAAAJBAMAAAAWSsseAAAAMFBMVEX///9UVFSqqqrMzMwiIiJE\n",
       "RESYmJgyMjK6urru7u4QEBCIiIh2dnZmZmbc3NwAAABRgo0vAAAAAXRSTlMAQObYZgAAAEdJREFU\n",
       "CNdjYOC7c3slAwND1wP2DwwMnMsYeAMYGHh/MrBsYGDgCmCYb8DAMP8Agz5QxXwFBnGmBwysG9gc\n",
       "eYAqpTc/3MEAAP4BD32xAXDqAAAAAElFTkSuQmCC\n",
       "\" style=\"display:inline;vertical-align:middle;\" /></a> : <a class=\"ProveItLink\" href=\"../__pv_it/demonstrations/854ffef2bc2810c28ed83ca6c7c8a9cc79b73c510/expr.ipynb\"><img src=\"data:image/png;base64,iVBORw0KGgoAAAANSUhEUgAAAD0AAAAUBAMAAADM7ygkAAAAMFBMVEX///9UVFTMzMx2dna6uroQ\n",
       "EBCqqqqIiIgiIiJmZmYyMjJERETu7u6YmJjc3NwAAAC+aOQFAAAAAXRSTlMAQObYZgAAAVRJREFU\n",
       "KM99UjFLw0AU/tqmIU0vWYsFIT8hTuJkF8Ef4CCi0h8gNqhLFomLiDgUBAUXuwoiHXVQshSVDvEH\n",
       "qMRNt4JFQar1Xe4uJIPe8O7L+/LdvfveA+wH/LXWeehnM/1FCczH4hEKMaGLnORM7uXx2AXrAFY7\n",
       "x38o/dQ2xWnAiLO0NpKgkMQe8JqTl4Icbzbg02YfHi/LY2t+U/BPvkO/t3FNH3OxORB8dM5+ElAN\n",
       "7SEV18EuwFZQ6Qq+FeJT3XUJ6AEWgMoIhidyJ2Dvij+NURxwvtxF5Kjna+KFdWC2wXk6P3LRkppv\n",
       "fhhfS6QPoQW8vqiJui5sGKIn2kGu7Sf1zVCtnrVTQkRmYhJXYF8E3mCtUmUu5qn+2sbLFowDSt9v\n",
       "knwv5JZMUDSdjL9rCuihQnfZ/ripyand1B/cSMw8lb1VgPc3nQ8rVaUDVeV3/zNfz8AvxjRT321L\n",
       "VzgAAAAASUVORK5CYII=\n",
       "\" style=\"display:inline;vertical-align:middle;\" /></a></span></td></tr><tr><td><a name=\"0x46a464496da4ef0a_step7\">7</a></td><td>instantiation</td><td><a href=\"#0x46a464496da4ef0a_step11\">11</a>, <a href=\"#0x46a464496da4ef0a_step12\">12</a>, <a href=\"#0x46a464496da4ef0a_step13\">13</a></td><td><span style=\"font-size:20px;\"><a class=\"ProveItLink\" href=\"../__pv_it/theorems/ffc4a45642fde8a513aa78237f7ca59ff7c646290/expr.ipynb\"><img src=\"data:image/png;base64,iVBORw0KGgoAAAANSUhEUgAAADMAAAAPBAMAAAC7N+rPAAAAMFBMVEX///9UVFSqqqrMzMwiIiJE\n",
       "RESYmJgyMjK6urru7u4QEBCIiIh2dnZmZmbc3NwAAABRgo0vAAAAAXRSTlMAQObYZgAAANBJREFU\n",
       "GNNjYMACuEvql8Rik2BgtlfgvJ+LVSpBmoGB7S+KUKqLSwGQYjNYCSRlkWVMd0JoXr4AIDkbiPnu\n",
       "3AapYuCshCqZyHwByup6wP4BRDM+gAq84dgAYXAuY+AFGcDACjP4LUyK9ycDC5hpVQ4EIGdMZT4A\n",
       "keIKYJhvAGI8helinyAAYcw/wKAPUQOTYrsAkuIESikwiDOBXMC7ASYX3Q0k2oG2b2Bz5AGLOMGk\n",
       "eEtPcqpGAjVKb364A+KfiAlQOduqL5dRw64nBBxQMAAAUJwvP1Qg9PwAAAAASUVORK5CYII=\n",
       "\" style=\"display:inline;vertical-align:middle;\" /></a>, <a class=\"ProveItLink\" href=\"../__pv_it/demonstrations/6051a0540e9e0a0b592a6d597e12da191c24af4b0/expr.ipynb\"><img src=\"data:image/png;base64,iVBORw0KGgoAAAANSUhEUgAAAD0AAAAPBAMAAACl/tp8AAAAMFBMVEX////MzMyYmJjc3NyIiIhU\n",
       "VFR2dna6urqqqqpmZmYyMjIiIiIQEBBERETu7u4AAACIO4EmAAAAAXRSTlMAQObYZgAAANxJREFU\n",
       "GNNj4LuzgQEFaJ+9v+qsAoLPNQFVnmHBUwZZ3QcMtXeB4AEDA38DmvwFMwZe5gA4t/4BlKG7e/cC\n",
       "qDynwQK4fDaUlvVD6Oc0uACXX+oyA0TxrUMyn5Udbj7frwfvDYA0qwGSfPcsmKUMHP8Y+B2ANC/C\n",
       "fTa7dyHczLmA4X0CkJZZBQRQ91XyPkD2fj1ItS2S/zgLEc7jV2CYD1LNg+z/eyoI+QK+Q2B7HJDk\n",
       "RTkFYDxWBV5IAO9ACl+2hkC4/6YkQRhPrz+Axc9Chrvr0UOdgaHs9u4FGIIAV7ZG6f/qy2MAAAAA\n",
       "SUVORK5CYII=\n",
       "\" style=\"display:inline;vertical-align:middle;\" /></a> <a class=\"ProveItLink\" href=\"../__pv_it/demonstrations/6b692b54e69baaa70b4f0f79b0988b621d7f67cb0/proof.ipynb\" style=\"text-decoration: none\">&nbsp;&#x22A2;&nbsp;&nbsp;</a><a class=\"ProveItLink\" href=\"../__pv_it/demonstrations/5af705d71eb67d1d9882da5e22b0f4eff1dbe8580/expr.ipynb\"><img src=\"data:image/png;base64,iVBORw0KGgoAAAANSUhEUgAAAP0AAAAUBAMAAAC0UCaFAAAAMFBMVEX///9UVFTMzMx2dna6uroQ\n",
       "EBCqqqqIiIgiIiJmZmYyMjJERETu7u6YmJjc3NwAAAC+aOQFAAAAAXRSTlMAQObYZgAAApdJREFU\n",
       "SMells9rE0EUx7/JJmmy2U28VQva/AdGerAVxFwEPdVDBSkqOerFBH8guciK4MGLgUBLRGgqHjSI\n",
       "9qCiiGU9FNQesmdRWfFSb4WWKBKNb1aFfS8Tm9g5TLKfffv97rx5szNAxsN/t4Tfy4bQO6e6Vc0N\n",
       "64kjSf1FjpPPE0+BPb3P6vSwekIA8310DhH1+g918WZVgFcwNvkwqyh5eNv7qFYP98V1vNvNw2oA\n",
       "NnNKlH//ZosC3AaOMzLSRtaBUZZGej20BTD3XaF+P5D0dfHTrgCUv3E/TGIzyDZgHZP+er1YR4BI\n",
       "0K8Aa9DFT0rwyMV4jg9J5R93pb9ez3C0/mYBFTWXtfmT/Pbi5TmRQOCmy4l1jbop6a/XM0crRe7/\n",
       "oULDMap4SReHfXOdxVvf3ZYv/GMbXDIzSTWBd8H/A03VghrT6qH1wPrJQNrNUD3bDVwnt1NILbH4\n",
       "RAfZsvBP7pAZuVQAzsjxa/VQcvFV5vMZXTmYAVIdJBU2ms17s80m+aQaaOXDgFodECROSd4r/bV6\n",
       "uAVrQzyNBR/RdRUfX0Irx96Xlv80ny+MVHkFZXyk23r/Xj1a/rE2A2PAoYLyp3zRUEtcPOthQVTb\n",
       "WeUYDukE/kdC87/4J/+9evihkhIGs1AOMUfVS6uIsQQXL9AcsvhoHiMshAaZ7Pytv1DT6mETKx4D\n",
       "lM0bQf3RAkqX7asGs4t46Sr3X5uY2smI7QXrvyb9tXrYjeccfIF9miolrxJojZ7/dJGvv/mD8vvT\n",
       "7X7j5Gj9MfV3pL9WD28ueGL11nbRBJu5Pt/L/oATyxns+9sHvJb7heXKfdfFv8hW+88WerT/YBnb\n",
       "aJr9dwg9tf/qzwuDtuUBzx/6lvaHOy/1NHt756+PwC/u4OUTZvtZCwAAAABJRU5ErkJggg==\n",
       "\" style=\"display:inline;vertical-align:middle;\" /></a></span></td></tr>\n",
       "<tr><td>&nbsp;</td><td colspan=4 style=\"text-align:left\"><span style=\"font-size:20px;\"><a class=\"ProveItLink\" href=\"../../../__pv_it/common/a0d9d672aa5e272d907247690c152cc2c6daafb70/expr.ipynb\"><img src=\"data:image/png;base64,iVBORw0KGgoAAAANSUhEUgAAAAsAAAAJBAMAAAAWSsseAAAALVBMVEX///9mZmaqqqrMzMxEREQy\n",
       "MjIiIiKYmJh2dna6urrc3NxUVFSIiIju7u4AAACJHQtQAAAAAXRSTlMAQObYZgAAAEJJREFUCNdj\n",
       "YLhzeuWJAwy8Dew5bAEMHBc43nIuYOBlYHFgAAG+A2DKzgBIMF04x8BzgWGegh/DcgaG22fuiBcw\n",
       "AAATyhBrnyPYZQAAAABJRU5ErkJggg==\n",
       "\" style=\"display:inline;vertical-align:middle;\" /></a> : <a class=\"ProveItLink\" href=\"../__pv_it/demonstrations/f623e2f2dfe76e10c69e3e82a730dd87cd1972330/expr.ipynb\"><img src=\"data:image/png;base64,iVBORw0KGgoAAAANSUhEUgAAAHUAAAAQBAMAAADaEy1mAAAAMFBMVEX///9UVFSqqqrMzMwiIiJE\n",
       "RESYmJgyMjK6urru7u4QEBCIiIh2dnZmZmbc3NwAAABRgo0vAAAAAXRSTlMAQObYZgAAAT9JREFU\n",
       "KM+Fk79Kw1AUxj9itYlJg4Po0KF5AWkeQR9A7OIodvIJhOBQ7Ox0BV0EyeLfTgUXB8Usbi24iIgG\n",
       "KjiqSCm1xWJsog7fMeKdcn/n++45Ofdc4Pfa3hPACBddJnbj0kHqqoj9Jqwek2doXQJa/fujLcAt\n",
       "UGNy4aCT6tX7Agz/odAislHFW6rXmhVgXaHgcmlfNdv3d8cszebPHaHEghJkK4jTt7Kv7PXXjA+h\n",
       "1AeiJU/zw8OMA+RKHCgqvAtvZkJ4YR4BuT4yMbA8b/XQ82LNDYwBASAEBEFNYbwE3+VDK9DbnMW8\n",
       "Et17AZYd+AGKItCNiyHvDGy+o0glXgfTGgd62CkTGAlgsmQ/6fxofWzO4rxTWGLw2GhOMllJ7tfI\n",
       "nzyccmD3rCxmI4o6YvTC62r6PP8JUsjPU1P/ASafAz9v0qQY2GoAAAAASUVORK5CYII=\n",
       "\" style=\"display:inline;vertical-align:middle;\" /></a>, <a class=\"ProveItLink\" href=\"../../../__pv_it/common/ff7dba4ef0bbe791ab573bf2d9c220a304399ac80/expr.ipynb\"><img src=\"data:image/png;base64,iVBORw0KGgoAAAANSUhEUgAAAAsAAAANBAMAAACN24kIAAAAMFBMVEX///8iIiKYmJhUVFTMzMxE\n",
       "REQyMjKqqqq6urp2dnYQEBDc3NxmZmaIiIju7u4AAACH5sGpAAAAAXRSTlMAQObYZgAAAFlJREFU\n",
       "CNdj4LtzgWHXAwZOjgUM9xkYtvMkMIQyMDzgusDwl4GBof8ByxcgdYyBdwGQCmZgNQBShxn6FYDU\n",
       "47vnNzAwgGUZGJgT+H4AKUYF1gtAiuPuESAJAJGkFvXVdzA+AAAAAElFTkSuQmCC\n",
       "\" style=\"display:inline;vertical-align:middle;\" /></a> : <a class=\"ProveItLink\" href=\"../__pv_it/demonstrations/bee9075616b7c22c5a14fd1cfdfa8a22f55d36e50/expr.ipynb\"><img src=\"data:image/png;base64,iVBORw0KGgoAAAANSUhEUgAAAIMAAAAUBAMAAABc0JOuAAAAMFBMVEX///9UVFSqqqrMzMwiIiJE\n",
       "RESYmJgyMjK6urru7u4QEBCIiIh2dnZmZmbc3NwAAABRgo0vAAAAAXRSTlMAQObYZgAAAaNJREFU\n",
       "OMuVlD9Lw0AYxh/7x/TatDiIDh2aL6DNR6gfQM3iKHZyUzoIwaHYuVOEuhQki387FVwcFLM4tYKL\n",
       "iGghgjiplFJqi8V6CYXyXhOotyT5Pe89uffufQ+YaLz7CYve+OBIJEwDa6ypFCbqtwqmbG+PvAgk\n",
       "G/uQuxR+ItAByxEWqA5fWiLYAp6ACqU3CtpAzdMi0hMtVgCeXMomtFjAN1D2tJAzAkhwsGcgpVJj\n",
       "JxFIBa6/PJ/TGVLyWiEgdu8+Vg3BomTx/3GtaEtNamHusl8Cwlk3v76Q3scy95zOgZ0grlEtbeCH\n",
       "gJC7qNCMYIHYGf/KIN5DyGGyru+c6roT9gjWJyBacCY0QMP4qBgINhHVYKrUPo9IiwDXYrghI/oF\n",
       "bCiOhWkhLWgdZ2ljiSwgQQ91YDgWkQxMBfMBqnVRzo5tZ9BCjIYdu2fEtzNcnV6S6SrmsC4UCs/h\n",
       "rX43S+mmWxdxCyx58XpJtcOrrFCuTmkNBm2BNh74HkmqZ4/Ao8D9wkq0pQ2xx41Rm/mF1Sa7cBC2\n",
       "/RSh2f0H0/5vPvHFtw38AU2kheCIF/f6AAAAAElFTkSuQmCC\n",
       "\" style=\"display:inline;vertical-align:middle;\" /></a>, <a class=\"ProveItLink\" href=\"../../../__pv_it/common/95a8f6b9b9f29b83f192ad7fd05708d6be097a3f0/expr.ipynb\"><img src=\"data:image/png;base64,iVBORw0KGgoAAAANSUhEUgAAAAoAAAAJBAMAAAD5iKAgAAAAMFBMVEX///8yMjJ2dnaqqqpUVFTc\n",
       "3NxmZmaIiIhERETu7u6YmJjMzMwQEBAiIiK6uroAAABWQA0ZAAAAAXRSTlMAQObYZgAAADZJREFU\n",
       "CNdjYOC782AXA8OM5WkNDAwTGCIYgIC7E0Q+ARHMDiDSjIHBgYH7llbhAwY2hjVyDABOxArzLvBK\n",
       "ugAAAABJRU5ErkJggg==\n",
       "\" style=\"display:inline;vertical-align:middle;\" /></a> : <a class=\"ProveItLink\" href=\"../__pv_it/demonstrations/26dcf485f427acdc317261d8d84fe1f548b91b000/expr.ipynb\"><img src=\"data:image/png;base64,iVBORw0KGgoAAAANSUhEUgAAAFEAAAAQBAMAAACcpY7MAAAAMFBMVEX///9UVFSqqqrMzMwiIiJE\n",
       "RESYmJgyMjK6urru7u4QEBCIiIh2dnZmZmbc3NwAAABRgo0vAAAAAXRSTlMAQObYZgAAAPJJREFU\n",
       "KM9jYMAEU5egCbBnMl9iwApq0fhc//8fQBFg2gBlfEITYD+4jwGrSo6faAKM6JbCJHgcsKvku3N7\n",
       "JZpl0nsVUFWm7TUAUl0P2D+gqpxfyfkPRYB1At8PBgbOZQy8Aagq9Scw/Eb1IgNDCAMD708GFpAA\n",
       "T3l5yfLycgEg8zoD5x8UASC4/4CBK4BhvgGqmbUMHJ9QBMQZGM43MMw/wKCP5tVvIIuQBZYDzZzA\n",
       "MF+BQZzpAYrED4ZZCSgCFxgY3IH+2sDmyINqphhDLKrAWwa2dUC/S29+uANVYu6eBFQBvjuyE7DH\n",
       "O04BGOCcgE8AAMLATCGSwol8AAAAAElFTkSuQmCC\n",
       "\" style=\"display:inline;vertical-align:middle;\" /></a></span></td></tr><tr><td><a name=\"0x46a464496da4ef0a_step8\">8</a></td><td>conjecture</td><td></td><td><span style=\"font-size:20px;\"> <a class=\"ProveItLink\" href=\"../../addition/_theory_nbs_/proofs/add_complex_closure/thm_proof.ipynb\" style=\"text-decoration: none\">&nbsp;&#x22A2;&nbsp;&nbsp;</a><a class=\"ProveItLink\" href=\"../../addition/__pv_it/theorems/67a938595b535c5e0bf36142bb530c5a10db108e0/expr.ipynb\"><img src=\"data:image/png;base64,iVBORw0KGgoAAAANSUhEUgAAAVwAAAAVBAMAAAD4GEsPAAAAMFBMVEX///8QEBCIiIhmZma6urrM\n",
       "zMxUVFQiIiJERETc3Nzu7u6qqqp2dnaYmJgyMjIAAAAcRTyBAAAAAXRSTlMAQObYZgAABBVJREFU\n",
       "SMetl12IE1cUx/+7yeTjZrL2oQ9dpTR+dC0WZNCH+qB2W6n70kJWsSosbAgtRSmyVeuKFrssRWf9\n",
       "gKGCLraFsUItsTVBCeuKpaGxLxVKQMUPWpsHFZSSblGhXdvS+5XJTDJ3SaKHPTN37rk795dzzz33\n",
       "DKCUxXfQjkRLQtuUSUV/zAJubUeZtX/1G3BxBtsM8rXUNiVkNfptz587DWziSJdYx31/XLVtBrkn\n",
       "tU0h5fqedY9x4l8DpznSOFu/EX9ctU0tcUNonZxRjW8w/FD/wlAC+M2AnmBIXTag5/xx1Ta1hC2h\n",
       "beMel/frw8Pc0Vc7KEXIAHmGIcV/ymSOwh9XbVPLUalt43b18tuGRfLZYGtMqGtvMyT8ZZofKXDV\n",
       "NrXMlxpdvmR2K7iHi3Nt3tB5JJHqliGptbJV5EjvAmNAp+GHK2wtySGpr1ldU9RHzeIGu/GHoIiX\n",
       "PQkiWnhdtm5xpFV8M2rCrG27iLkpB3eVz0b1TYoH30vL5m6h5HkERrD2lWZxj5ewTFDEhthzxEnj\n",
       "RhV3giOF0SmT+qniCpzT7YDt4NZs6sRzYWmJbLC13+Xzs0ID0wjTeOvjfT9XKh9UKncb/7lmeNXG\n",
       "VtGnTbFrf4UKcxUZGZCDBzmSXgrLjHHgmI3vEoZeCwbHppbrkxnEPwcueHE7RpBNVnGb8O5zII/c\n",
       "uOPOgPshD260/DYNnR628lTy+U9duNyGEz2NxzFZsiXJY47F/Bt5OtQbDNkCvkfzuOQfxKY4BYI8\n",
       "GDqcAZc5rs3fRZEw9g514yxbHLl5/duBGi63kQ+1aWCzd5aTyUEbXWB/wM0bDVstm8MWesw3jfsY\n",
       "ofIko5BbLZCoDogsoM1gubrVcJb+nGMTIDw35FEounCZLWBoQxiY7Z1lKdbTSajn2cN5V11SFBpJ\n",
       "xHfojd4l/9FLtiwbLsMorqUKlIJOV3BWScjKg/Ypk/6O5QJpVoIP13aa5ijF/SLswmW2jlwnzRW7\n",
       "vLhz0MPv603TTHy2rmboE0rSLx5Z4BMMO9jBl5INl+GreRvTvZSCrldSdHwidzy0lS9sY313BFKc\n",
       "9pPpJFLCu8E1Llxmy1qRm3YdLvkbhzKxeTQ/8pX7knva5xDua+lUYxQ4KR/e3DfsSaJkSCDxxFku\n",
       "4EfWuAL84sLlUW8NvsW9O25H9/MLvXVrD0sxujn1JD/Bkk5l4i1xJqqNjArXbWAUDSVOVUSJI9Hf\n",
       "txChxUxwTy9CdbjB9JkVHLc/p3Wj39K6tTlY/fL8Ejv0cIAN+aayN1l97RhqR+Hhj9MtFY+UQnku\n",
       "nXYhcXnJHK07hF3CgsEpzmJyeWg10klj92mW5xFLYRhrQPLKQne2XfMgx78/PF8oafvpf/zcUNXR\n",
       "dPLF21uqvJ1W+zRPKP8DB0c+8T2jAuoAAAAASUVORK5CYII=\n",
       "\" style=\"display:inline;vertical-align:middle;\" /></a></span></td></tr>\n",
       "<tr><td>&nbsp;</td><td colspan=4 style-\"text-align:left\"><a class=\"ProveItLink\" href=\"../../addition/_theory_nbs_/proofs/add_complex_closure/thm_proof.ipynb\">proveit.numbers.addition.add_complex_closure</a></td></tr><tr><td><a name=\"0x46a464496da4ef0a_step9\">9</a></td><td>instantiation</td><td><a href=\"#0x46a464496da4ef0a_step14\">14</a></td><td><span style=\"font-size:20px;\"> <a class=\"ProveItLink\" href=\"../__pv_it/demonstrations/543c99cef1db6234d24fd0efbb88329b709852b70/proof.ipynb\" style=\"text-decoration: none\">&nbsp;&#x22A2;&nbsp;&nbsp;</a><a class=\"ProveItLink\" href=\"../__pv_it/demonstrations/9e10f4c1e6f655f4edb1693d74ea8a1cccfb45720/expr.ipynb\"><img src=\"data:image/png;base64,iVBORw0KGgoAAAANSUhEUgAAANEAAAAVBAMAAAAqbRZ+AAAAMFBMVEX///9UVFQQEBCqqqoiIiJm\n",
       "ZmYyMjJERESYmJjc3NyIiIi6urp2dnbu7u7MzMwAAAADGpxCAAAAAXRSTlMAQObYZgAAAnBJREFU\n",
       "SMellT2I1FAQx//7kY/dS24PC9GrxEZBxBQ2FmIOtbAQAyLKcWpsRFHksNJCXARFrVbwQEFwGxuF\n",
       "NYj97YGieBZRDgWbbGMpXiGLoss5eXnJvWT3JSu+4mWS/e/8MvMmM/iGsVZWNunjnxbpl5lRa8ok\n",
       "lRa7LGceGx67PChm7In1kYvPwk/mZZtb5/yvFjbnkMz5XEjt/RsLpVaKdF4UqA43dq39AT7lkFTy\n",
       "UtkpJS2g8hOmK5J0RxQ0LG5cnCZPRltOugl8WBpISc8t/ADeiaRqSxQsxqc9xTK0RU46FL6lnPTC\n",
       "Qx/4KJLupwSvIJJwQUqq2fkkhNmD6gmkJ+Hf5mZ5xs88PRoZm+6eov21lFR3ikgrXZI6AulKGGpL\n",
       "XY1qr+8HUTav4TE5vJWQjLNsOTFJaxaQHh2kg9BdgbSf/G+HEtVsZYBGm0s1ys9uaUxVqyim+g7y\n",
       "ZwskulcGqEb+FRdBlyuVX8B3KansFZGw1cfkappUnkfQiz+nRVbnJRfG7/8hPQSuW2kSZY/C2Mc/\n",
       "pyZOszovu2GkeJk9p6lxs7fmh6QJO10RgYWNUY9reHRmLHXkyxUrIhtTUUVsA4746YqgQtba+oyB\n",
       "gJ6WmprDjJqDG8Sek5JY/daJFKrNPviW3N1m35PSFUiUIHO6c+8ZqofJmn0LZmBh6STtl6SkMC/K\n",
       "hv6JSD0DvlXD9B6gA5g4dpxkam9kN9o7ZJh2fjdKq9e7QzLAVkZ32O6QUdBhM+p1QWKlOiyuxgG0\n",
       "s0bu1NBaWXWyviQ5cUdOQh1Zg79E/iTUh+suGeJaPAk7BdNdj167k20zvXGn+x2u/wsGjNW6kQxR\n",
       "QgAAAABJRU5ErkJggg==\n",
       "\" style=\"display:inline;vertical-align:middle;\" /></a></span></td></tr>\n",
       "<tr><td>&nbsp;</td><td colspan=4 style=\"text-align:left\"><span style=\"font-size:20px;\"><a class=\"ProveItLink\" href=\"../../../__pv_it/common/c06c606ec12678c58933ac85412ecadc2ae28be60/expr.ipynb\"><img src=\"data:image/png;base64,iVBORw0KGgoAAAANSUhEUgAAAAsAAAAJBAMAAAAWSsseAAAAMFBMVEX///9UVFSqqqrMzMwiIiJE\n",
       "RESYmJgyMjK6urru7u4QEBCIiIh2dnZmZmbc3NwAAABRgo0vAAAAAXRSTlMAQObYZgAAAEdJREFU\n",
       "CNdjYOC7c3slAwND1wP2DwwMnMsYeAMYGHh/MrBsYGDgCmCYb8DAMP8Agz5QxXwFBnGmBwysG9gc\n",
       "eYAqpTc/3MEAAP4BD32xAXDqAAAAAElFTkSuQmCC\n",
       "\" style=\"display:inline;vertical-align:middle;\" /></a> : <a class=\"ProveItLink\" href=\"../../../__pv_it/common/c06c606ec12678c58933ac85412ecadc2ae28be60/expr.ipynb\"><img src=\"data:image/png;base64,iVBORw0KGgoAAAANSUhEUgAAAAsAAAAJBAMAAAAWSsseAAAAMFBMVEX///9UVFSqqqrMzMwiIiJE\n",
       "RESYmJgyMjK6urru7u4QEBCIiIh2dnZmZmbc3NwAAABRgo0vAAAAAXRSTlMAQObYZgAAAEdJREFU\n",
       "CNdjYOC7c3slAwND1wP2DwwMnMsYeAMYGHh/MrBsYGDgCmCYb8DAMP8Agz5QxXwFBnGmBwysG9gc\n",
       "eYAqpTc/3MEAAP4BD32xAXDqAAAAAElFTkSuQmCC\n",
       "\" style=\"display:inline;vertical-align:middle;\" /></a>, <a class=\"ProveItLink\" href=\"../../../__pv_it/common/195236b98c6c564a75b5dbada74b173bc52d5c3e0/expr.ipynb\"><img src=\"data:image/png;base64,iVBORw0KGgoAAAANSUhEUgAAAAkAAAAOBAMAAAAPuiubAAAALVBMVEX///+YmJjc3NyIiIhUVFR2\n",
       "dna6urqqqqpmZmYyMjIiIiIQEBBERETu7u4AAAALjtrwAAAAAXRSTlMAQObYZgAAAE9JREFUCNdj\n",
       "4D29gAEIOBtAJF8BiMy7ACKjQATDFON2BgbelxfuKTCwv2XgM2DgmMBwLwCkPK+AgU+Aoe8CA18C\n",
       "70YGBhYBHqARvM2BDAwAqXgQspq5HJAAAAAASUVORK5CYII=\n",
       "\" style=\"display:inline;vertical-align:middle;\" /></a> : <a class=\"ProveItLink\" href=\"../../../__pv_it/common/195236b98c6c564a75b5dbada74b173bc52d5c3e0/expr.ipynb\"><img src=\"data:image/png;base64,iVBORw0KGgoAAAANSUhEUgAAAAkAAAAOBAMAAAAPuiubAAAALVBMVEX///+YmJjc3NyIiIhUVFR2\n",
       "dna6urqqqqpmZmYyMjIiIiIQEBBERETu7u4AAAALjtrwAAAAAXRSTlMAQObYZgAAAE9JREFUCNdj\n",
       "4D29gAEIOBtAJF8BiMy7ACKjQATDFON2BgbelxfuKTCwv2XgM2DgmMBwLwCkPK+AgU+Aoe8CA18C\n",
       "70YGBhYBHqARvM2BDAwAqXgQspq5HJAAAAAASUVORK5CYII=\n",
       "\" style=\"display:inline;vertical-align:middle;\" /></a>, <a class=\"ProveItLink\" href=\"../../../__pv_it/common/ceef4280a2f1cc604b455b54e735507244cc62cd0/expr.ipynb\"><img src=\"data:image/png;base64,iVBORw0KGgoAAAANSUhEUgAAAAkAAAAJBAMAAAASvxsjAAAALVBMVEX///+YmJgQEBDu7u5mZmZU\n",
       "VFQyMjJERESqqqoiIiLc3NzMzMyIiIh2dnYAAABuqkWTAAAAAXRSTlMAQObYZgAAADZJREFUCNdj\n",
       "YGC4c2YDA8PKBvYEBoa5DKwNDCyPGYCAqQBE2l0AkXwCDAxA8QAGE6DKu4IHGABBiAr2Gi8OxgAA\n",
       "AABJRU5ErkJggg==\n",
       "\" style=\"display:inline;vertical-align:middle;\" /></a> : <a class=\"ProveItLink\" href=\"../../numerals/__pv_it/common/22be4c1fb377b3840c975e8e14bb0ce0d20bb1d90/expr.ipynb\"><img src=\"data:image/png;base64,iVBORw0KGgoAAAANSUhEUgAAAAkAAAAOBAMAAAAPuiubAAAAMFBMVEX///8iIiK6urpERETc3NyI\n",
       "iIhUVFR2dnYQEBCqqqpmZmbMzMzu7u6YmJgyMjIAAABZcJOfAAAAAXRSTlMAQObYZgAAAE1JREFU\n",
       "CNdj4LvDvZKBgeP//wIGBr6yEAYGBjYGBgR5N2oDAwPzAZZPYK4hmFzvwJDHwFCvwNAHZB9gWMDA\n",
       "IMfA4MXA28LAwLI86wADAK3wEDcX5lPUAAAAAElFTkSuQmCC\n",
       "\" style=\"display:inline;vertical-align:middle;\" /></a></span></td></tr><tr><td><a name=\"0x46a464496da4ef0a_step10\">10</a></td><td>instantiation</td><td><a href=\"#0x46a464496da4ef0a_step44\">44</a>, <a href=\"#0x46a464496da4ef0a_step31\">31</a>, <a href=\"#0x46a464496da4ef0a_step15\">15</a></td><td><span style=\"font-size:20px;\"> <a class=\"ProveItLink\" href=\"../__pv_it/demonstrations/0bd06538b697602222c5474616f5432854e70b440/proof.ipynb\" style=\"text-decoration: none\">&nbsp;&#x22A2;&nbsp;&nbsp;</a><a class=\"ProveItLink\" href=\"../__pv_it/demonstrations/0f60bf8435562ce6996e86b25b3ec04c83d032810/expr.ipynb\"><img src=\"data:image/png;base64,iVBORw0KGgoAAAANSUhEUgAAADIAAAAPBAMAAABU9YHxAAAAMFBMVEX///8iIiK6urpERETc3NyI\n",
       "iIhUVFR2dnYQEBCqqqpmZmbMzMzu7u6YmJgyMjIAAABZcJOfAAAAAXRSTlMAQObYZgAAANZJREFU\n",
       "GNNj4LvDvZIBDcTJ/RBewMDx/38BmsTunwyn/i5g4CsLQZPgZQtgYLi/gIENLnJZUPABiL7NcYCB\n",
       "gQ1JZnMMlLHAGUjwBDCw3Y3aAOLzvIFK8CTsgjCYD7B8AtFsDlAZlgJVuAWGYBUwHssChMx6kPId\n",
       "74AA5AIeg+0Q4TwGhnoFIO0MV/gG6qg+oB6gKxk44DK3wDIHGBYwMMiBWFwBMBnmICCT6QGDFwNv\n",
       "C1hAEq5pnfmBk8YHGFiWZx0A848ZHYDKcK/rl9qAHF7qhpDQgQIAuyo2HikjFToAAAAASUVORK5C\n",
       "YII=\n",
       "\" style=\"display:inline;vertical-align:middle;\" /></a></span></td></tr>\n",
       "<tr><td>&nbsp;</td><td colspan=4 style=\"text-align:left\"><span style=\"font-size:20px;\"><a class=\"ProveItLink\" href=\"../../../__pv_it/common/09585084922504426caf1db2ff588a23a0932a960/expr.ipynb\"><img src=\"data:image/png;base64,iVBORw0KGgoAAAANSUhEUgAAAA8AAAAOBAMAAAACpFvcAAAALVBMVEX///8iIiIQEBBERERUVFS6\n",
       "urqIiIjc3NxmZmaqqqru7u6YmJgyMjLMzMwAAACK9jtgAAAAAXRSTlMAQObYZgAAAFtJREFUCNdj\n",
       "YACBOwxQcA5Kc59bAGGs7CuAMDbkBYBp1gXzNoAZSxnuJYAZAQx1DSCa16PDzwCshIGB6QCIMYGB\n",
       "gVEBSLMDGTwPgIxCIGZ+zsCw+N0pBk67hw0AfpEVEQi8t+wAAAAASUVORK5CYII=\n",
       "\" style=\"display:inline;vertical-align:middle;\" /></a> : <a class=\"ProveItLink\" href=\"../../number_sets/real_numbers/__pv_it/common/93cac87a1a47e613f7a83b23ef7891599a1a4cca0/expr.ipynb\"><img src=\"data:image/png;base64,iVBORw0KGgoAAAANSUhEUgAAAA8AAAAOBAMAAAACpFvcAAAAMFBMVEX///+IiIiqqqq6urpmZmZ2\n",
       "dnbc3NzMzMxUVFTu7u4yMjJEREQQEBAiIiKYmJgAAACIyPRpAAAAAXRSTlMAQObYZgAAAFlJREFU\n",
       "CNdjeHt6/6rTDxiAYMEMhurXE4CMDakM3GwNEAZLwgIYYwOEwcEMldL1AivOuXtLgQEsYsI9AcJg\n",
       "Md8AYTDsfAhlVLAUQKxgVWhnYABaupxh93oFAP7MI7KHKGXxAAAAAElFTkSuQmCC\n",
       "\" style=\"display:inline;vertical-align:middle;\" /></a>, <a class=\"ProveItLink\" href=\"../../../__pv_it/common/a9162d1c3cc0470c02e5daf414500903a7a419230/expr.ipynb\"><img src=\"data:image/png;base64,iVBORw0KGgoAAAANSUhEUgAAABAAAAAOBAMAAADUAYG5AAAALVBMVEX///8yMjKqqqoiIiLu7u7c\n",
       "3NyIiIjMzMwQEBC6urpERERmZmZUVFSYmJgAAACsPVCVAAAAAXRSTlMAQObYZgAAAGxJREFUCNdj\n",
       "YGC48+70nlUTGICgi4GB+zmQZn/LwMD5Gshge8rAwPsMyOBqYGDwMAEy+A4wsNs4ABl1Z68tVgBp\n",
       "ygtgYOkBMVaAOCChNyBGAsQYhnMTIMawvwJyGIHGzFjCwMAj92b3qUUMDAAXABxvZ4rl5AAAAABJ\n",
       "RU5ErkJggg==\n",
       "\" style=\"display:inline;vertical-align:middle;\" /></a> : <a class=\"ProveItLink\" href=\"../../number_sets/complex_numbers/__pv_it/common/d18a028138f659eda00de597c28a3447fe87eb100/expr.ipynb\"><img src=\"data:image/png;base64,iVBORw0KGgoAAAANSUhEUgAAAA8AAAAOBAMAAAACpFvcAAAAMFBMVEX///+6urp2dnbc3NxUVFSY\n",
       "mJju7u6qqqrMzMxmZmZEREQQEBAiIiIyMjKIiIgAAAAjslSOAAAAAXRSTlMAQObYZgAAAGNJREFU\n",
       "CNdjYGDgu3N/z0oGBgaO/gK2+ZFARoAfAwPrTyBu2AbkeTIwcDIvADLyGBhSOCYwgIER4wMIwxLG\n",
       "yOJQgDB4ExwgDNYJIAYbEK+TAxKyQMx5S42tahlIsvP2nxkMDABpcxTBm+Hj2gAAAABJRU5ErkJg\n",
       "gg==\n",
       "\" style=\"display:inline;vertical-align:middle;\" /></a>, <a class=\"ProveItLink\" href=\"../../../__pv_it/common/a0d9d672aa5e272d907247690c152cc2c6daafb70/expr.ipynb\"><img src=\"data:image/png;base64,iVBORw0KGgoAAAANSUhEUgAAAAsAAAAJBAMAAAAWSsseAAAALVBMVEX///9mZmaqqqrMzMxEREQy\n",
       "MjIiIiKYmJh2dna6urrc3NxUVFSIiIju7u4AAACJHQtQAAAAAXRSTlMAQObYZgAAAEJJREFUCNdj\n",
       "YLhzeuWJAwy8Dew5bAEMHBc43nIuYOBlYHFgAAG+A2DKzgBIMF04x8BzgWGegh/DcgaG22fuiBcw\n",
       "AAATyhBrnyPYZQAAAABJRU5ErkJggg==\n",
       "\" style=\"display:inline;vertical-align:middle;\" /></a> : <a class=\"ProveItLink\" href=\"../../numerals/__pv_it/common/22be4c1fb377b3840c975e8e14bb0ce0d20bb1d90/expr.ipynb\"><img src=\"data:image/png;base64,iVBORw0KGgoAAAANSUhEUgAAAAkAAAAOBAMAAAAPuiubAAAAMFBMVEX///8iIiK6urpERETc3NyI\n",
       "iIhUVFR2dnYQEBCqqqpmZmbMzMzu7u6YmJgyMjIAAABZcJOfAAAAAXRSTlMAQObYZgAAAE1JREFU\n",
       "CNdj4LvDvZKBgeP//wIGBr6yEAYGBjYGBgR5N2oDAwPzAZZPYK4hmFzvwJDHwFCvwNAHZB9gWMDA\n",
       "IMfA4MXA28LAwLI86wADAK3wEDcX5lPUAAAAAElFTkSuQmCC\n",
       "\" style=\"display:inline;vertical-align:middle;\" /></a></span></td></tr><tr><td><a name=\"0x46a464496da4ef0a_step11\">11</a></td><td>axiom</td><td></td><td><span style=\"font-size:20px;\"> <a class=\"ProveItLink\" href=\"../../../logic/equality/_theory_nbs_/axioms.ipynb#equals_transitivity\" style=\"text-decoration: none\">&nbsp;&#x22A2;&nbsp;&nbsp;</a><a class=\"ProveItLink\" href=\"../../../logic/equality/__pv_it/axioms/f827123c5f21af6ab6d517e6d3247a9ee44c13460/expr.ipynb\"><img src=\"data:image/png;base64,iVBORw0KGgoAAAANSUhEUgAAANEAAAAWBAMAAACs+WTQAAAAMFBMVEX///8QEBCIiIhmZma6urrM\n",
       "zMxUVFQiIiJERETc3Nzu7u6qqqp2dnaYmJgyMjIAAAAcRTyBAAAAAXRSTlMAQObYZgAAAnJJREFU\n",
       "SMetVU1oE0EU/prsTzfZJB4UBEGCgVKCh1wEQQ+hgkXwZ+NBxYsl2INQJYd6UKTkmBYiudQWQVyh\n",
       "KK0eAoKgUFhyTKUGFVSIsKB4KFSCIPhz8c3sZrOu2djAPFi+mfeY+d6+980MIM7uhYee02ezwUcR\n",
       "RLFyeEypARtssCWCKVkbkAX90DKhVhbB9GZQsEGZmIBeF8F0Y1DwAZBorq0tiSDSSgNLmwd+VCq3\n",
       "RDBFctSOA1cmGsHA5G65BZ2i08B8yGJpGKbRFvAE79JzbLL5ldknLoZq5jCVjiRxjAuj/+JhmFRq\n",
       "dhOvzBNB2XHBxam2KiItEUwj1AkTlT6RCyQ6uUPCa6kQxQR869ODKThMmn2O6f3QmEHOMaiUAJa2\n",
       "FntMeubstLtoYgo3e8AVN7dq9KoH+bszcfr0hY+fcTqmzPnLJBzzmko56SmzwPxH2ukeU1axZ5UK\n",
       "WRXWL3kXeRi4nuh6w6eIF5EOsoFfiuegOIrAU6KTsc28dycxzsOPfdUzkt0+aiulSNkDt+HdU086\n",
       "ln6PdrRg08+3X38GohYNUzz/n9x9FEW+PO/vU8q70KKWku4BtxWvHSXEitnMP5d1LrGfdkuyGidM\n",
       "3jGZuWexh8EiLvqYLsFQWNm3oeZH2AoGrkczZHMnt9Gj7uC+butYNnFd6hBoM+tlj0nrbMLqnhnj\n",
       "DLQFDq7d2Xi/0xvWsYdvG00U6jg+bhMk5L2mxxS7evJgN22peBvyPg6utQoL3pn4z6vht3qsxhRU\n",
       "Dz1Pq6iSmBwY6iUMZBGvKdZpBqFMM5LNXmoOQ73uH/6eJiC1LQahTKdesoI5INSiIjf7A4jqrxun\n",
       "Ivq8AAAAAElFTkSuQmCC\n",
       "\" style=\"display:inline;vertical-align:middle;\" /></a></span></td></tr>\n",
       "<tr><td>&nbsp;</td><td colspan=4 style-\"text-align:left\"><a class=\"ProveItLink\" href=\"../../../logic/equality/_theory_nbs_/axioms.ipynb#equals_transitivity\">proveit.logic.equality.equals_transitivity</a></td></tr><tr><td><a name=\"0x46a464496da4ef0a_step12\">12</a></td><td>instantiation</td><td><a href=\"#0x46a464496da4ef0a_step16\">16</a>, <a href=\"#0x46a464496da4ef0a_step43\">43</a>, <a href=\"#0x46a464496da4ef0a_step17\">17</a>, <a href=\"#0x46a464496da4ef0a_step18\">18</a>, <a href=\"#0x46a464496da4ef0a_step19\">19</a>, <a href=\"#0x46a464496da4ef0a_step20\">20</a>, <a href=\"#0x46a464496da4ef0a_step21\">21</a>, <a href=\"#0x46a464496da4ef0a_step22\">22</a>, <a href=\"#0x46a464496da4ef0a_step23\">23</a>, <a href=\"#0x46a464496da4ef0a_step24\">24</a></td><td><span style=\"font-size:20px;\"><a class=\"ProveItLink\" href=\"../__pv_it/theorems/ffc4a45642fde8a513aa78237f7ca59ff7c646290/expr.ipynb\"><img src=\"data:image/png;base64,iVBORw0KGgoAAAANSUhEUgAAADMAAAAPBAMAAAC7N+rPAAAAMFBMVEX///9UVFSqqqrMzMwiIiJE\n",
       "RESYmJgyMjK6urru7u4QEBCIiIh2dnZmZmbc3NwAAABRgo0vAAAAAXRSTlMAQObYZgAAANBJREFU\n",
       "GNNjYMACuEvql8Rik2BgtlfgvJ+LVSpBmoGB7S+KUKqLSwGQYjNYCSRlkWVMd0JoXr4AIDkbiPnu\n",
       "3AapYuCshCqZyHwByup6wP4BRDM+gAq84dgAYXAuY+AFGcDACjP4LUyK9ycDC5hpVQ4EIGdMZT4A\n",
       "keIKYJhvAGI8helinyAAYcw/wKAPUQOTYrsAkuIESikwiDOBXMC7ASYX3Q0k2oG2b2Bz5AGLOMGk\n",
       "eEtPcqpGAjVKb364A+KfiAlQOduqL5dRw64nBBxQMAAAUJwvP1Qg9PwAAAAASUVORK5CYII=\n",
       "\" style=\"display:inline;vertical-align:middle;\" /></a>, <a class=\"ProveItLink\" href=\"../__pv_it/demonstrations/6051a0540e9e0a0b592a6d597e12da191c24af4b0/expr.ipynb\"><img src=\"data:image/png;base64,iVBORw0KGgoAAAANSUhEUgAAAD0AAAAPBAMAAACl/tp8AAAAMFBMVEX////MzMyYmJjc3NyIiIhU\n",
       "VFR2dna6urqqqqpmZmYyMjIiIiIQEBBERETu7u4AAACIO4EmAAAAAXRSTlMAQObYZgAAANxJREFU\n",
       "GNNj4LuzgQEFaJ+9v+qsAoLPNQFVnmHBUwZZ3QcMtXeB4AEDA38DmvwFMwZe5gA4t/4BlKG7e/cC\n",
       "qDynwQK4fDaUlvVD6Oc0uACXX+oyA0TxrUMyn5Udbj7frwfvDYA0qwGSfPcsmKUMHP8Y+B2ANC/C\n",
       "fTa7dyHczLmA4X0CkJZZBQRQ91XyPkD2fj1ItS2S/zgLEc7jV2CYD1LNg+z/eyoI+QK+Q2B7HJDk\n",
       "RTkFYDxWBV5IAO9ACl+2hkC4/6YkQRhPrz+Axc9Chrvr0UOdgaHs9u4FGIIAV7ZG6f/qy2MAAAAA\n",
       "SUVORK5CYII=\n",
       "\" style=\"display:inline;vertical-align:middle;\" /></a> <a class=\"ProveItLink\" href=\"../__pv_it/demonstrations/ef37607ffbfe697b14a394bbefc31d60cb7bc39f0/proof.ipynb\" style=\"text-decoration: none\">&nbsp;&#x22A2;&nbsp;&nbsp;</a><a class=\"ProveItLink\" href=\"../__pv_it/demonstrations/e5571b96c74decfc0ee9826763ccb565aead0f340/expr.ipynb\"><img src=\"data:image/png;base64,iVBORw0KGgoAAAANSUhEUgAAATEAAAAUBAMAAAAXXRdqAAAAMFBMVEX///9UVFTMzMx2dna6uroQ\n",
       "EBCqqqqIiIgiIiJmZmYyMjJERETu7u6YmJjc3NwAAAC+aOQFAAAAAXRSTlMAQObYZgAAAx5JREFU\n",
       "SMe1VktrE1EU/tpM85wk3VUEbX6BBrqwVYRsBF3VRQviiyx10wa1lKyMCBU3NVCwxAqm4sIGsVn4\n",
       "QMQ6XQjVLjJLKygj3dSFIrbEUlLrubeJ5Ny5U4PFC2cy+ebc7373nHMfQMzGPze/48Za5fvq9WGo\n",
       "bljUfDSf5lSk8DLBkeWeZ8B+d18dHxZPuYYoazhjPUfSaKPpCsNjHVM4rwDz8K1xkjyGbbxzd9Xy\n",
       "YcY1guPmxBf4N2EWIS3KNPgz27/xtALcBQYZEqginoMvo46o50NVBZY0nLiaxjpwCNKCjo6p31IA\n",
       "yka304wYA4gXYZ5Ulen5jJqqbFzDiWMpbABvIG0FOqZeFZi10J3g3CKbeKAq0/P5cgoQy+k5KZsI\n",
       "p6RlhdvE5FnecXr0tjJH4JbFEfM6PfpUZVlZL30j3DnclU0zIJDXcmIhSdPIS3slguiEvzMh5oZV\n",
       "cZQ+xqoy616qE3yQ74dLoskqF3zGecxy58oj8xcDIraOE8s3SWq0KG2MdJxDqMxc/DXEM4qyYKca\n",
       "xRGK+gU1ZmOiSGxMcedhCz8ZEEzrOQMD9C8njd5CNQTFJ1+p9PB0qUTeoSIqyWaAWgFQkA4qgYOq\n",
       "MuLDPQs3uPMdmKsM6EjpOTFooZ0SSEZMHWVUEkw8bWf9vC4ahfEHiTmIVD2UnYH5gwdjBkaVAVKZ\n",
       "yolvwOt0QxlFn8IzzF3itpg3U3ZRaGl2qUllx5vqbLqeTQqPn9ctNkViXNlUObFlCWUGZZOMKraS\n",
       "xl4/HzZFtcf6tCcRYC4U6GCtsQKaGvGZVbQVh1j3NVF76gpwcVKwxWqtrwBa9pFM9JqPCWmzI3mu\n",
       "bKWnbw9DorbczyZUZWIbeY73nUnWfR9eKBtcXsOJj3I/CyWlUTrMrkufr/BdY/KoutNuba1z5ETh\n",
       "CT3vq8pEeudHD3SlmPPby7ZyKOR0nEZhSuyyCWn608Qb4IiZa+10cgPj3m4L28ZPYNNSLysWdkL+\n",
       "dqJ78y15u9VPdMxhF01zC2qRL+J4fWncgvQ3vVbbXIs3R8345Z00S927uW1H/8dt+9O2/Qb/0iIF\n",
       "u2axMQAAAABJRU5ErkJggg==\n",
       "\" style=\"display:inline;vertical-align:middle;\" /></a></span></td></tr>\n",
       "<tr><td>&nbsp;</td><td colspan=4 style=\"text-align:left\"><span style=\"font-size:20px;\"><a class=\"ProveItLink\" href=\"../../../__pv_it/common/ae955345c83abf786c3aff8681cd5465beae262d0/expr.ipynb\"><img src=\"data:image/png;base64,iVBORw0KGgoAAAANSUhEUgAAAAcAAAAOBAMAAAARcxsoAAAAKlBMVEX///8yMjKqqqrc3NwQEBC6\n",
       "urp2dnZmZmaIiIju7u6YmJhERERUVFQAAAAIfTrnAAAAAXRSTlMAQObYZgAAADhJREFUCNdjYGA4\n",
       "zQAEpxjQAWd7AwMDG6sDA4MRuwADwwReIJdBdwKQ2AOSvcTGwMB6wQqkdQEDAPwvCSrC7lmiAAAA\n",
       "AElFTkSuQmCC\n",
       "\" style=\"display:inline;vertical-align:middle;\" /></a> : <a class=\"ProveItLink\" href=\"../../numerals/__pv_it/common/ba3b059982e8b49413dc653e957beb11e974e4bc0/expr.ipynb\"><img src=\"data:image/png;base64,iVBORw0KGgoAAAANSUhEUgAAAAkAAAAOBAMAAAAPuiubAAAALVBMVEX///+qqqqIiIgyMjLc3Nwi\n",
       "IiIQEBC6urp2dnZUVFTMzMxERERmZmbu7u4AAAAQI6y7AAAAAXRSTlMAQObYZgAAAFJJREFUCNdj\n",
       "4D2zewEDw00GjucMDGcZGNIYGFIZGOY5MNhdYJgHlGBgiLsAJNhfgJisE0DkGRDBdABEyjCwODBw\n",
       "NTAwOTC4dvRMZWCwe/fuKQMANh0TGKpG4roAAAAASUVORK5CYII=\n",
       "\" style=\"display:inline;vertical-align:middle;\" /></a>, <a class=\"ProveItLink\" href=\"../../../__pv_it/common/1ed21df18baca2f42b561a7ffbf30a2743d594650/expr.ipynb\"><img src=\"data:image/png;base64,iVBORw0KGgoAAAANSUhEUgAAAAoAAAASBAMAAACQmVJ4AAAAMFBMVEX////MzMwyMjIiIiJ2dna6\n",
       "urrc3NxmZmZERESIiIhUVFSYmJju7u4QEBCqqqoAAACA8xhiAAAAAXRSTlMAQObYZgAAAE1JREFU\n",
       "CNdjYGBg4LsDJBi4FzBgAydngMgC3g1AFQn8DxgYeBjiD4CEnMHS6iCC5x+I5PsDItkNQCRzAQMD\n",
       "44F8AQaGfId2IJ9rOlA/AHmNDZhMFHq1AAAAAElFTkSuQmCC\n",
       "\" style=\"display:inline;vertical-align:middle;\" /></a> : <a class=\"ProveItLink\" href=\"../../numerals/__pv_it/common/ba3b059982e8b49413dc653e957beb11e974e4bc0/expr.ipynb\"><img src=\"data:image/png;base64,iVBORw0KGgoAAAANSUhEUgAAAAkAAAAOBAMAAAAPuiubAAAALVBMVEX///+qqqqIiIgyMjLc3Nwi\n",
       "IiIQEBC6urp2dnZUVFTMzMxERERmZmbu7u4AAAAQI6y7AAAAAXRSTlMAQObYZgAAAFJJREFUCNdj\n",
       "4D2zewEDw00GjucMDGcZGNIYGFIZGOY5MNhdYJgHlGBgiLsAJNhfgJisE0DkGRDBdABEyjCwODBw\n",
       "NTAwOTC4dvRMZWCwe/fuKQMANh0TGKpG4roAAAAASUVORK5CYII=\n",
       "\" style=\"display:inline;vertical-align:middle;\" /></a>, <a class=\"ProveItLink\" href=\"../../../__pv_it/common/63b7c64bf9ec7a04ecc396c7a1670f3f12fb59490/expr.ipynb\"><img src=\"data:image/png;base64,iVBORw0KGgoAAAANSUhEUgAAAAoAAAAOBAMAAADkjZCYAAAAMFBMVEX////MzMxUVFSIiIjc3NyY\n",
       "mJh2dna6urqqqqpmZmYyMjIiIiIQEBBERETu7u4AAAA59f8xAAAAAXRSTlMAQObYZgAAAE9JREFU\n",
       "CNdj4LuzgQEIuCaASP4GEFn/AERmgwiGlQytUxj4fjC7f2Xg+GfHF8DAeRIkzK18GUi+L/AvYGCI\n",
       "Z3jfkMCgy8AvkMBwg4F58gMA1VoTUDpQu/EAAAAASUVORK5CYII=\n",
       "\" style=\"display:inline;vertical-align:middle;\" /></a> : <a class=\"ProveItLink\" href=\"../../numerals/__pv_it/common/7d0a36793ffe8d307a5c120ee5598162e8cd2db10/expr.ipynb\"><img src=\"data:image/png;base64,iVBORw0KGgoAAAANSUhEUgAAAAoAAAAOBAMAAADkjZCYAAAAMFBMVEX///9mZma6urpUVFREREQQ\n",
       "EBDc3NwiIiLu7u6qqqoyMjLMzMyYmJiIiIh2dnYAAADXmt2vAAAAAXRSTlMAQObYZgAAAFFJREFU\n",
       "CNdjYOC785qBgWElQ3sCA08AA98CBhYDBs4fDPwGDEw/GfoFGJj+MuQ/YOAGkgIM3P+gIkBZzp8M\n",
       "LA4MPD+guhgqGVo3MDD03bVmAABi3RThwIkdoQAAAABJRU5ErkJggg==\n",
       "\" style=\"display:inline;vertical-align:middle;\" /></a>, <a class=\"ProveItLink\" href=\"../../../__pv_it/common/c06c606ec12678c58933ac85412ecadc2ae28be60/expr.ipynb\"><img src=\"data:image/png;base64,iVBORw0KGgoAAAANSUhEUgAAAAsAAAAJBAMAAAAWSsseAAAAMFBMVEX///9UVFSqqqrMzMwiIiJE\n",
       "RESYmJgyMjK6urru7u4QEBCIiIh2dnZmZmbc3NwAAABRgo0vAAAAAXRSTlMAQObYZgAAAEdJREFU\n",
       "CNdjYOC7c3slAwND1wP2DwwMnMsYeAMYGHh/MrBsYGDgCmCYb8DAMP8Agz5QxXwFBnGmBwysG9gc\n",
       "eYAqpTc/3MEAAP4BD32xAXDqAAAAAElFTkSuQmCC\n",
       "\" style=\"display:inline;vertical-align:middle;\" /></a> : <a class=\"ProveItLink\" href=\"../__pv_it/demonstrations/0e00cf301f391b9db3f5ff72911e8e2539c94fb00/expr.ipynb\"><img src=\"data:image/png;base64,iVBORw0KGgoAAAANSUhEUgAAACkAAAAUBAMAAADiqgm2AAAAMFBMVEX///9UVFTMzMx2dna6uroQ\n",
       "EBCqqqqIiIgiIiJmZmYyMjJERETu7u6YmJjc3NwAAAC+aOQFAAAAAXRSTlMAQObYZgAAAQNJREFU\n",
       "GNNjYOC7wIAK8kDEaSQBnq0NDAyMD4CsdcjquCYApRYwMPBOQBblTwAS5gwMHA+QRf0PAImjDAwv\n",
       "UGyyABvjwFAJpPgmT4+BiC4sn8bAwDyBYS+Q7fqA6wPEDb8OnH/AwLuAoQ3IjmXg3AAWZfvDwF/A\n",
       "wNbAEMLAwPmHgaMALMq5gOG8AQPTB5Ao6waG8wow5/ongESBJgCl86HOvcAw/wADSwPItvMJDFJs\n",
       "YGfzOwDtANlmycDAXcDbyMxwHuhRxgvcQK9yGjB4AN0gXvSwhIGjB8iabgsyXQHJxzkwxgnk0DGA\n",
       "MYChw7APFrYFMMYCpFDnhSnlBpmJEUP3GBgAwQA85Uf1dX8AAAAASUVORK5CYII=\n",
       "\" style=\"display:inline;vertical-align:middle;\" /></a>, <a class=\"ProveItLink\" href=\"../../../__pv_it/common/195236b98c6c564a75b5dbada74b173bc52d5c3e0/expr.ipynb\"><img src=\"data:image/png;base64,iVBORw0KGgoAAAANSUhEUgAAAAkAAAAOBAMAAAAPuiubAAAALVBMVEX///+YmJjc3NyIiIhUVFR2\n",
       "dna6urqqqqpmZmYyMjIiIiIQEBBERETu7u4AAAALjtrwAAAAAXRSTlMAQObYZgAAAE9JREFUCNdj\n",
       "4D29gAEIOBtAJF8BiMy7ACKjQATDFON2BgbelxfuKTCwv2XgM2DgmMBwLwCkPK+AgU+Aoe8CA18C\n",
       "70YGBhYBHqARvM2BDAwAqXgQspq5HJAAAAAASUVORK5CYII=\n",
       "\" style=\"display:inline;vertical-align:middle;\" /></a> : <a class=\"ProveItLink\" href=\"../../numerals/decimals/__pv_it/theorems/4ccef2d03fb90af885ea98a20b01fb871317993d0/expr.ipynb\"><img src=\"data:image/png;base64,iVBORw0KGgoAAAANSUhEUgAAACkAAAAUBAMAAADiqgm2AAAAMFBMVEX///9UVFTMzMx2dna6uroQ\n",
       "EBCqqqqIiIgiIiJmZmYyMjJERETu7u6YmJjc3NwAAAC+aOQFAAAAAXRSTlMAQObYZgAAARFJREFU\n",
       "GNNlkb1KxFAQhb+4P25iXHwEwRcIbCFiYRrBTou12iZPYL+NRgTRyljKNvsEFvbqbcQVG19AWbDR\n",
       "RsRKZDXOTLIBcYrLnK+YOXMutB/4Wzv63MPd4KIA7c5qgjeW7pxwgbXY6CvNb8IhzGf4jsaW0b2E\n",
       "T1iG1phGivdjdD3mC27gBYIJ3ke5SiYQxPRNtCYlHUVQy7g0sRkV8PnYyaohh6b2p2ZnuzIlpau9\n",
       "n1U3bDtm3gvaL9EbXCdKdUIzUy2VO6X11LYtwa7RHpw43bYi1x90TtNQ7PNofv2IDXGd53nKkXiq\n",
       "nw0kkGBRLy6vclMbI0unqFplTtLhquxvp1CT1NStqi+Z05n/fugJfgEnykT/YsQJJAAAAABJRU5E\n",
       "rkJggg==\n",
       "\" style=\"display:inline;vertical-align:middle;\" /></a>, <a class=\"ProveItLink\" href=\"../../../__pv_it/common/ceef4280a2f1cc604b455b54e735507244cc62cd0/expr.ipynb\"><img src=\"data:image/png;base64,iVBORw0KGgoAAAANSUhEUgAAAAkAAAAJBAMAAAASvxsjAAAALVBMVEX///+YmJgQEBDu7u5mZmZU\n",
       "VFQyMjJERESqqqoiIiLc3NzMzMyIiIh2dnYAAABuqkWTAAAAAXRSTlMAQObYZgAAADZJREFUCNdj\n",
       "YGC4c2YDA8PKBvYEBoa5DKwNDCyPGYCAqQBE2l0AkXwCDAxA8QAGE6DKu4IHGABBiAr2Gi8OxgAA\n",
       "AABJRU5ErkJggg==\n",
       "\" style=\"display:inline;vertical-align:middle;\" /></a> : <a class=\"ProveItLink\" href=\"../../../core_expr_types/tuples/__pv_it/axioms/4bb7d36ca64d107000d79d4921539d4617258ebf0/expr.ipynb\"><img src=\"data:image/png;base64,iVBORw0KGgoAAAANSUhEUgAAAAwAAAAUBAMAAABL3sEiAAAAMFBMVEX////MzMxUVFR2dna6uroQ\n",
       "EBCqqqqIiIgiIiJmZmYyMjJERETu7u6YmJjc3NwAAACgK8IjAAAAAXRSTlMAQObYZgAAAGNJREFU\n",
       "CNdjYOC7wPaAgYHhNAODHpBax8BwioGBdwIDA3MBAwdQgieA4QVQnGEJQyWIsmTYC6JuMbSBqAyG\n",
       "EBAlD6PAgh4wJZYgajKQDwQLIYY1wIxm2Ae2CGQtkAV0BO8DBgBfVhetSSF8+gAAAABJRU5ErkJg\n",
       "gg==\n",
       "\" style=\"display:inline;vertical-align:middle;\" /></a></span></td></tr><tr><td><a name=\"0x46a464496da4ef0a_step13\">13</a></td><td>instantiation</td><td><a href=\"#0x46a464496da4ef0a_step25\">25</a>, <a href=\"#0x46a464496da4ef0a_step26\">26</a></td><td><span style=\"font-size:20px;\"> <a class=\"ProveItLink\" href=\"../__pv_it/demonstrations/5427f9d4206f1ed0d3595da5d3f80ac4b88b94420/proof.ipynb\" style=\"text-decoration: none\">&nbsp;&#x22A2;&nbsp;&nbsp;</a><a class=\"ProveItLink\" href=\"../__pv_it/demonstrations/de1731bf7c73f8ed97c014b8e7792ee69f5149f60/expr.ipynb\"><img src=\"data:image/png;base64,iVBORw0KGgoAAAANSUhEUgAAAQ0AAAAUBAMAAABlknXcAAAAMFBMVEX///9UVFTMzMx2dna6uroQ\n",
       "EBCqqqqIiIgiIiJmZmYyMjJERETu7u6YmJjc3NwAAAC+aOQFAAAAAXRSTlMAQObYZgAAAxdJREFU\n",
       "SMells9rE1EQxydNmjTJJuktWtDmL9BID7aCmIugp3qIIFVLbuqlCWopuZSIWMGLgUBLVGgqHswi\n",
       "pgd/Isr2UKhGyB5FVFa8tLdgQxSJxpm3XZp5uykpfYf9MTufed83b957CxDWoZfW1c1r4GVqF4C9\n",
       "Cbrq8EF5npNN6KYU38S48cfIC4CD+OAywAGwt+o5yRD40jdv0k+d/AN52YJuK+Bu8CHnIa3DBxJe\n",
       "AgfAoZWl9/52Oy7oEOvx0tY9krKynjHv5PYA4Cyz+poQyYGbXo7KHfK4VhhoSobAkVmTHjCcdIxr\n",
       "kj+5YU6HjU6rJwmREihn8HFV1sHjWmE8LcngElek18FJx6gcgNwqGgzH+PBoXuARjSsh6eBxLcCd\n",
       "c9SBdJbmubBwgetYmpnn/lnzdlfjOpSbeBmjDuSCEsDG2DQHAtFsiuv4mo0J+i2+nDQCdaZD+aPV\n",
       "2AwIN0zrJlcXHsWagc9UDqJQj6nUyhbgmYQKB2pPlH/MENTCDUHPYa8Xwb/MdHhbEMkw/zlz0gel\n",
       "soNpnI/LZJEXOgGrOtznQFqDX1IEeCXoJIC/BQMZczS3VHUJn/wlqMUxXar6eEJVqfOkQIpijret\n",
       "uO5wQg/jva8u6SBgUYPbHLgHyqYUARYNotG/fxlqMZYP3D7G+TwKHb48r7KwAcHmDjrOg/KT56MM\n",
       "niYzDAGcSBCN+cOhp/l6ieg0Ftu8XKGeO6yRltBxikoht10fS1sADt1b5zr+UvI7DRMia0hjPdVS\n",
       "MOQ1mI4E1oytTvvi4GM6MJEDrc467WgIKE1wlaZYmAbVTKcBM3xH0LjogpnQDTfLh0sP5rkOWpvr\n",
       "I2P7mDWki/2jQBUVl3QQ8BI+DcZZmAPwmsfdgNCkoDGpSvTq9+t83S4cl/Ybyn2l3f7NraeLz/D6\n",
       "kCpKOgEFsDJzKJpgwPtrurTyC/s1QTvv67aN0HmbNkVTaaz1tq93MazJ59FH2x+A5nRsWVZzr+7h\n",
       "nGOA3UD0u97+Vbq7dTn3e4wLFl3tzbe6o8KgsQvA1gS91//CEAX5tqf/QqT/AwWs/1U8IdIrAAAA\n",
       "AElFTkSuQmCC\n",
       "\" style=\"display:inline;vertical-align:middle;\" /></a></span></td></tr>\n",
       "<tr><td>&nbsp;</td><td colspan=4 style=\"text-align:left\"><span style=\"font-size:20px;\"><a class=\"ProveItLink\" href=\"../__pv_it/demonstrations/e83ebc607cda2e51fc4a1a4cbd0bc18ab078f28d0/expr.ipynb\"><img src=\"data:image/png;base64,iVBORw0KGgoAAAANSUhEUgAAADIAAAAUBAMAAAA95HOpAAAAMFBMVEX///8yMjJERETMzMwQEBCY\n",
       "mJgiIiK6urqqqqp2dnZUVFTc3NyIiIhmZmbu7u4AAADOOTK3AAAAAXRSTlMAQObYZgAAAPhJREFU\n",
       "KM9jYICCrQzIgGMDmHp7dgMDnwKKDMNqMLmyv4GBcQOqzEMQwff9OQNDLKoEA+cBkJkfgEQ2mgyf\n",
       "A0g6gYGBOwFNhkGcgYH1Su4FBp4LCLG9c488YGCYC2TxA41kCoBLsHszyAOpQCDeb8DAwNYAl3kS\n",
       "wHAJSLUBcT8QsxTAZe4/YMgBUvZAPA1VxomB7zNURosB2TS+nxBvlAGxDwOyC/h+MHAJdINdwPcd\n",
       "5CeEq3UYwhZMYGC4CXQlSC870KdFSkDwgOHVGes1QFuFgcrBoYwROgkMXYxgK7CEaBI4vBmYMGMh\n",
       "5jZEN1rMaSOYqLHNuoEBAG5lOWYfr0riAAAAAElFTkSuQmCC\n",
       "\" style=\"display:inline;vertical-align:middle;\" /></a> : <a class=\"ProveItLink\" href=\"../__pv_it/demonstrations/0cad5042c6281492bff7bbe49dfde095d52ebb2d0/expr.ipynb\"><img src=\"data:image/png;base64,iVBORw0KGgoAAAANSUhEUgAAAGAAAAAQBAMAAAAblGfKAAAAMFBMVEX///9UVFSqqqrMzMwiIiJE\n",
       "RESYmJgyMjK6urru7u4QEBCIiIh2dnZmZmbc3NwAAABRgo0vAAAAAXRSTlMAQObYZgAAAP1JREFU\n",
       "KM9jYMAAnFEODKQB9gtEKtSG0vwKUAbTBuI09E8gUcMRBrwa+O7cXomqoXD3Jewa3p7dBbS86wH7\n",
       "BxQNnN8nzH+ATQPHOoZ6oPQyBt4AFA1MPxn4N2DTMCuB4SoDA+9PBhaQ+PHycq/y8kIgi7eAYf4B\n",
       "Bgae8vKS5eXlAggN9ycweDMwcAUwzDdAsQEYDf0K2GxYysD5mQFkmD5qKPEngMzC1MD5h4EJ6Nv5\n",
       "CgziTA9QNDQA/YVNwycGxgI9BtYNbI48KDYwJrBewBqs0QwpAgcYOKU3P9yBGqy3j6FFXGsoEExg\n",
       "mLjbTroBW0wzMBCZNGZiJPQJmIoAJsxIPj9EuFcAAAAASUVORK5CYII=\n",
       "\" style=\"display:inline;vertical-align:middle;\" /></a>, <a class=\"ProveItLink\" href=\"../../../__pv_it/common/a0d9d672aa5e272d907247690c152cc2c6daafb70/expr.ipynb\"><img src=\"data:image/png;base64,iVBORw0KGgoAAAANSUhEUgAAAAsAAAAJBAMAAAAWSsseAAAALVBMVEX///9mZmaqqqrMzMxEREQy\n",
       "MjIiIiKYmJh2dna6urrc3NxUVFSIiIju7u4AAACJHQtQAAAAAXRSTlMAQObYZgAAAEJJREFUCNdj\n",
       "YLhzeuWJAwy8Dew5bAEMHBc43nIuYOBlYHFgAAG+A2DKzgBIMF04x8BzgWGegh/DcgaG22fuiBcw\n",
       "AAATyhBrnyPYZQAAAABJRU5ErkJggg==\n",
       "\" style=\"display:inline;vertical-align:middle;\" /></a> : <a class=\"ProveItLink\" href=\"../../numerals/decimals/__pv_it/theorems/2b1ed7e0c83e27d84cc196867ad3bf86fc33289c0/expr.ipynb\"><img src=\"data:image/png;base64,iVBORw0KGgoAAAANSUhEUgAAACwAAAAQBAMAAACfEoDkAAAAMFBMVEX///+YmJiqqqqIiIgyMjLc\n",
       "3NwiIiIQEBC6urp2dnZUVFTMzMxERERmZmbu7u4AAADrYmUNAAAAAXRSTlMAQObYZgAAALVJREFU\n",
       "GNNj4Lt7ZgMDCoiceYiB4RUD5w8UUdYLDPoCDPcYGMohfCYDMMX8iYE/gaGMgWF9ALIwRwUDvwOD\n",
       "/wOG9RuQhYEAaAgQ5D9AFebLBOv6iWI2A+u0eyCKbQEDmiHmDUDiLojF6eLiVuLiAlHBXgd00AUG\n",
       "FNWsAQw8nxgYdEEMJGH+fyBh7gkMzCjC7AcY2P4xhM2cuwzFEEYBkLv9////huqS3rsnkMMI4UAU\n",
       "wPcAwQYAJ/ErAD1jPH0AAAAASUVORK5CYII=\n",
       "\" style=\"display:inline;vertical-align:middle;\" /></a>, <a class=\"ProveItLink\" href=\"../../../__pv_it/common/ff7dba4ef0bbe791ab573bf2d9c220a304399ac80/expr.ipynb\"><img src=\"data:image/png;base64,iVBORw0KGgoAAAANSUhEUgAAAAsAAAANBAMAAACN24kIAAAAMFBMVEX///8iIiKYmJhUVFTMzMxE\n",
       "REQyMjKqqqq6urp2dnYQEBDc3NxmZmaIiIju7u4AAACH5sGpAAAAAXRSTlMAQObYZgAAAFlJREFU\n",
       "CNdj4LtzgWHXAwZOjgUM9xkYtvMkMIQyMDzgusDwl4GBof8ByxcgdYyBdwGQCmZgNQBShxn6FYDU\n",
       "47vnNzAwgGUZGJgT+H4AKUYF1gtAiuPuESAJAJGkFvXVdzA+AAAAAElFTkSuQmCC\n",
       "\" style=\"display:inline;vertical-align:middle;\" /></a> : <a class=\"ProveItLink\" href=\"../../numerals/__pv_it/common/22be4c1fb377b3840c975e8e14bb0ce0d20bb1d90/expr.ipynb\"><img src=\"data:image/png;base64,iVBORw0KGgoAAAANSUhEUgAAAAkAAAAOBAMAAAAPuiubAAAAMFBMVEX///8iIiK6urpERETc3NyI\n",
       "iIhUVFR2dnYQEBCqqqpmZmbMzMzu7u6YmJgyMjIAAABZcJOfAAAAAXRSTlMAQObYZgAAAE1JREFU\n",
       "CNdj4LvDvZKBgeP//wIGBr6yEAYGBjYGBgR5N2oDAwPzAZZPYK4hmFzvwJDHwFCvwNAHZB9gWMDA\n",
       "IMfA4MXA28LAwLI86wADAK3wEDcX5lPUAAAAAElFTkSuQmCC\n",
       "\" style=\"display:inline;vertical-align:middle;\" /></a></span></td></tr><tr><td><a name=\"0x46a464496da4ef0a_step14\">14</a></td><td>conjecture</td><td></td><td><span style=\"font-size:20px;\"> <a class=\"ProveItLink\" href=\"../../numerals/decimals/_theory_nbs_/proofs/tuple_len_3_typical_eq/thm_proof.ipynb\" style=\"text-decoration: none\">&nbsp;&#x22A2;&nbsp;&nbsp;</a><a class=\"ProveItLink\" href=\"../../numerals/decimals/__pv_it/theorems/d91b0baa73b160791e9a9af92b6e7e976f37822b0/expr.ipynb\"><img src=\"data:image/png;base64,iVBORw0KGgoAAAANSUhEUgAAARoAAAAWBAMAAADtKE5GAAAAMFBMVEX///8QEBCIiIhmZma6urrM\n",
       "zMxUVFQiIiJERETc3Nzu7u6qqqp2dnaYmJgyMjIAAAAcRTyBAAAAAXRSTlMAQObYZgAAA01JREFU\n",
       "SMfFVj1oFEEUfneby/7c7m2KVIJwRpN6iZ0meJIileRsLGwSgxaCyBUaMFpEsMghwlYmhcJJQEMK\n",
       "b9FCtMlhggGNsGijQmQLI0QhBCu9QPDN7L673b3M7amFr5j75t03b76deTPzAJLsLHRimcpfDfsz\n",
       "vurCKgGBPeetXoi5/WH3k6fI2gGfAY/BDRF1kcIuhpzazVKo122L1Wgz7ZXcW78NcJH4CN4w+E1E\n",
       "3yI1W2Fvzgpr88Rqcqg0e0C88hYsu/CY+AjmmVf0CYYVhDXC84PphHsvxWreAzx8VReqSe+CWQI9\n",
       "H/AR5DD9dEdAl+0grGyH3WORlH0gVnONfYhYTVcvmB5oPQEfgfF6aWlORJ+jsFHGWqSXK4jUqKX2\n",
       "atBwp+AL8RH8nJ29IeIeJjUMqEODQQp87TtOu9RXBN0SqUlbSWo0NvUK8RFcACg3lm47Sr5Dahg4\n",
       "aed2/BB7laq/c3OO4oHhkRp9m5tF0RU3QY26dgzbz8RHMBKcCm4rUfZ1UoNAOwiSn+3ZOpg88+AG\n",
       "dDuQLYnWRnYSd+oQjntGfAQypJs32/cot5fUIJDqIPsaJA+qNQ74RJkdkZpUIVFNCjd/nPgIdFdu\n",
       "/vlLrCY1A9UiXTdj/BSmZv5NjWqDshtVo3pnECwMbLLAPwbY4dX78q07hcuxHFw3LpzgZ9xfoa5S\n",
       "LG8mOt0ps87VjBKfgfJ5TIqrGTYoPc2PwZVMT2sWVx247L8pZgFzKJAFTiiL42uTlMW4tnI9msXw\n",
       "FL9NsjLsC5U8C43JWmwm9WoA8L8pHar4f7erWBxIE7BQBKkmUsPPfhrnY2TeaHsQ6hkuv2+GiM8A\n",
       "Ox8pJz3BNxonwA6FHCU1CLTJ/rtHQJ5GNPgWOID1DRybK4rUsD2Uzu0N+2SZzTBFgLtGjt7CdpP4\n",
       "DBiYA1Vb+YQ/ZoUpMe02L8OLFvCo/csQJTet4dJK9DJQaZCyx0/BfEWufMAWr3pL+GrWWkD7VzNG\n",
       "blrDFX41g0t48skwnHYyl2rYqoPv6FksU0VB17WWbwFtKgrFjpFDb0LDFa4owuaEWkG1ZUAcKB1U\n",
       "W8Y+xUoDlYlf3qcmzNrRSrQ/oRL96JcqxZi7v9NK1LADvmHvI9eA/2e/AQA2FjDT8yibAAAAAElF\n",
       "TkSuQmCC\n",
       "\" style=\"display:inline;vertical-align:middle;\" /></a></span></td></tr>\n",
       "<tr><td>&nbsp;</td><td colspan=4 style-\"text-align:left\"><a class=\"ProveItLink\" href=\"../../numerals/decimals/_theory_nbs_/proofs/tuple_len_3_typical_eq/thm_proof.ipynb\">proveit.numbers.numerals.decimals.tuple_len_3_typical_eq</a></td></tr><tr><td><a name=\"0x46a464496da4ef0a_step15\">15</a></td><td>instantiation</td><td><a href=\"#0x46a464496da4ef0a_step44\">44</a>, <a href=\"#0x46a464496da4ef0a_step37\">37</a>, <a href=\"#0x46a464496da4ef0a_step27\">27</a></td><td><span style=\"font-size:20px;\"> <a class=\"ProveItLink\" href=\"../__pv_it/demonstrations/9e14539ba3082fd46173bd4f5a964df1c0d6a0700/proof.ipynb\" style=\"text-decoration: none\">&nbsp;&#x22A2;&nbsp;&nbsp;</a><a class=\"ProveItLink\" href=\"../__pv_it/demonstrations/f38d55cb6c09fcea4e80f79285f1c0f2b5c5e5bc0/expr.ipynb\"><img src=\"data:image/png;base64,iVBORw0KGgoAAAANSUhEUgAAADIAAAAPBAMAAABU9YHxAAAAMFBMVEX///8iIiK6urpERETc3NyI\n",
       "iIhUVFR2dnYQEBCqqqpmZmbMzMzu7u6YmJgyMjIAAABZcJOfAAAAAXRSTlMAQObYZgAAAM1JREFU\n",
       "GNNj4LvDvZIBGfBKGP97YQtkcPz/X4Aiw8DHk8BtawOky0JQJRiYWQoYDNwYGNjgIpcFBR/AZJbw\n",
       "IclsjkHSs4QZKHM3agOIz/MG2bQENSB9gOUTiM/mgCTDKQVRZwjmI7mgUfAlhLkepHzHOyCAuqBo\n",
       "AdDRDHkMDPUKQNoZ2dWLNgPpPqCeAyAfI8swnw1gYFjAwCAH4nMFIMlwJ6xmYPBi4G0BC0gihQ5D\n",
       "JdsGBpblWQfAAseMDsBDdAOz3U+k8FI3hIQOFAAAADMzS+srCg4AAAAASUVORK5CYII=\n",
       "\" style=\"display:inline;vertical-align:middle;\" /></a></span></td></tr>\n",
       "<tr><td>&nbsp;</td><td colspan=4 style=\"text-align:left\"><span style=\"font-size:20px;\"><a class=\"ProveItLink\" href=\"../../../__pv_it/common/09585084922504426caf1db2ff588a23a0932a960/expr.ipynb\"><img src=\"data:image/png;base64,iVBORw0KGgoAAAANSUhEUgAAAA8AAAAOBAMAAAACpFvcAAAALVBMVEX///8iIiIQEBBERERUVFS6\n",
       "urqIiIjc3NxmZmaqqqru7u6YmJgyMjLMzMwAAACK9jtgAAAAAXRSTlMAQObYZgAAAFtJREFUCNdj\n",
       "YACBOwxQcA5Kc59bAGGs7CuAMDbkBYBp1gXzNoAZSxnuJYAZAQx1DSCa16PDzwCshIGB6QCIMYGB\n",
       "gVEBSLMDGTwPgIxCIGZ+zsCw+N0pBk67hw0AfpEVEQi8t+wAAAAASUVORK5CYII=\n",
       "\" style=\"display:inline;vertical-align:middle;\" /></a> : <a class=\"ProveItLink\" href=\"../../number_sets/rational_numbers/__pv_it/common/3de3e316334b6ece430a3f1aee01ae68b192ecb30/expr.ipynb\"><img src=\"data:image/png;base64,iVBORw0KGgoAAAANSUhEUgAAABAAAAARBAMAAAAmgTH3AAAALVBMVEX///+qqqp2dnaYmJiIiIjc\n",
       "3NwiIiLu7u66urpUVFQyMjJERERmZmbMzMwAAAAPPdWlAAAAAXRSTlMAQObYZgAAAIFJREFUCNdj\n",
       "YGC4s3vXDAYgqJwWwL5yO5Cx4yyQc6uAgcVgAQMDd8UEBi7WAwwMLA3bGSJ5DRgYOAw0GFoYBRgY\n",
       "eB2EGa5AGIIMnGApAVUGbojiCUB1G0DagcIaIAPvAE1mPhbAvsYAZBnzq3UCDGCgwTgBwmBSlTqi\n",
       "AGbF7F7TAADtgR4r3cUBHgAAAABJRU5ErkJggg==\n",
       "\" style=\"display:inline;vertical-align:middle;\" /></a>, <a class=\"ProveItLink\" href=\"../../../__pv_it/common/a9162d1c3cc0470c02e5daf414500903a7a419230/expr.ipynb\"><img src=\"data:image/png;base64,iVBORw0KGgoAAAANSUhEUgAAABAAAAAOBAMAAADUAYG5AAAALVBMVEX///8yMjKqqqoiIiLu7u7c\n",
       "3NyIiIjMzMwQEBC6urpERERmZmZUVFSYmJgAAACsPVCVAAAAAXRSTlMAQObYZgAAAGxJREFUCNdj\n",
       "YGC48+70nlUTGICgi4GB+zmQZn/LwMD5Gshge8rAwPsMyOBqYGDwMAEy+A4wsNs4ABl1Z68tVgBp\n",
       "ygtgYOkBMVaAOCChNyBGAsQYhnMTIMawvwJyGIHGzFjCwMAj92b3qUUMDAAXABxvZ4rl5AAAAABJ\n",
       "RU5ErkJggg==\n",
       "\" style=\"display:inline;vertical-align:middle;\" /></a> : <a class=\"ProveItLink\" href=\"../../number_sets/real_numbers/__pv_it/common/93cac87a1a47e613f7a83b23ef7891599a1a4cca0/expr.ipynb\"><img src=\"data:image/png;base64,iVBORw0KGgoAAAANSUhEUgAAAA8AAAAOBAMAAAACpFvcAAAAMFBMVEX///+IiIiqqqq6urpmZmZ2\n",
       "dnbc3NzMzMxUVFTu7u4yMjJEREQQEBAiIiKYmJgAAACIyPRpAAAAAXRSTlMAQObYZgAAAFlJREFU\n",
       "CNdjeHt6/6rTDxiAYMEMhurXE4CMDakM3GwNEAZLwgIYYwOEwcEMldL1AivOuXtLgQEsYsI9AcJg\n",
       "Md8AYTDsfAhlVLAUQKxgVWhnYABaupxh93oFAP7MI7KHKGXxAAAAAElFTkSuQmCC\n",
       "\" style=\"display:inline;vertical-align:middle;\" /></a>, <a class=\"ProveItLink\" href=\"../../../__pv_it/common/a0d9d672aa5e272d907247690c152cc2c6daafb70/expr.ipynb\"><img src=\"data:image/png;base64,iVBORw0KGgoAAAANSUhEUgAAAAsAAAAJBAMAAAAWSsseAAAALVBMVEX///9mZmaqqqrMzMxEREQy\n",
       "MjIiIiKYmJh2dna6urrc3NxUVFSIiIju7u4AAACJHQtQAAAAAXRSTlMAQObYZgAAAEJJREFUCNdj\n",
       "YLhzeuWJAwy8Dew5bAEMHBc43nIuYOBlYHFgAAG+A2DKzgBIMF04x8BzgWGegh/DcgaG22fuiBcw\n",
       "AAATyhBrnyPYZQAAAABJRU5ErkJggg==\n",
       "\" style=\"display:inline;vertical-align:middle;\" /></a> : <a class=\"ProveItLink\" href=\"../../numerals/__pv_it/common/22be4c1fb377b3840c975e8e14bb0ce0d20bb1d90/expr.ipynb\"><img src=\"data:image/png;base64,iVBORw0KGgoAAAANSUhEUgAAAAkAAAAOBAMAAAAPuiubAAAAMFBMVEX///8iIiK6urpERETc3NyI\n",
       "iIhUVFR2dnYQEBCqqqpmZmbMzMzu7u6YmJgyMjIAAABZcJOfAAAAAXRSTlMAQObYZgAAAE1JREFU\n",
       "CNdj4LvDvZKBgeP//wIGBr6yEAYGBjYGBgR5N2oDAwPzAZZPYK4hmFzvwJDHwFCvwNAHZB9gWMDA\n",
       "IMfA4MXA28LAwLI86wADAK3wEDcX5lPUAAAAAElFTkSuQmCC\n",
       "\" style=\"display:inline;vertical-align:middle;\" /></a></span></td></tr><tr><td><a name=\"0x46a464496da4ef0a_step16\">16</a></td><td>conjecture</td><td></td><td><span style=\"font-size:20px;\"> <a class=\"ProveItLink\" href=\"../../addition/_theory_nbs_/proofs/association/thm_proof.ipynb\" style=\"text-decoration: none\">&nbsp;&#x22A2;&nbsp;&nbsp;</a><a class=\"ProveItLink\" href=\"../../addition/__pv_it/theorems/5cab72fac70391821c788f69cd8281303f63960e0/expr.ipynb\"><img src=\"data:image/png;base64,iVBORw0KGgoAAAANSUhEUgAAAxcAAAAyBAMAAADchzsXAAAAMFBMVEX///8QEBCIiIhmZma6urrM\n",
       "zMxUVFQiIiJERETc3Nzu7u6qqqp2dnaYmJgyMjIAAAAcRTyBAAAAAXRSTlMAQObYZgAACidJREFU\n",
       "eNrlXH+MFFcd/97uze7t7OweaSoVsM32TpBUG9YS2yonrJpqNCnsaSxF/2BztjEo1q0/MLUkrpjY\n",
       "w7ZmTJMCrbZDiYWeprvSGnKmkZNL2khBN22MikA3AjUlel5oS3qLLb7vm5k37+28Zd/QuR8DL+F4\n",
       "9/1+3+fNfD/zfn3nOwegVrrOnx+D2ShGAS7popec+zx/fp5qm67RHdasXOwhuMTLaoeUHY+qk1Gc\n",
       "nUuNlS51MjINp6LNeTJ+w2qpevQdPyoTPhAVMvQrWXVPSIg/LE+jeYeSMCXCnYWIkNGTZ9XXQoLM\n",
       "5qfTvAO1DYkwPS8iZOxnu4aM3yl72zRK5y4k7a2pYDCFYH5hZIULPCAz2xwRMr7NakkzJDLWWIHI\n",
       "EMzfNRk7pU+cGQkyMlOsug1CIuMFCETGCxAmGVnZqSmZjwQZyQqr9uOGauCGhUHIeGj8WssnfbVv\n",
       "RRAyBHOGbPQtDkLGgT7HfYZsBco0I0HGeu9BepD8+4SZnQS4XZWM7gXwX3JSyQtS/R2ranbGcBW2\n",
       "OZwSkVP3wk9Bq6iSsa3W04hd4R0q/jSB5QRb1s9EgowPe9V7yUVfDfEKfOEmVTJ21uFmco+mIE03\n",
       "oTfXGcNVUHOAmoicHIOva8vLqmRshkQNvkNNpRvliUiQMd+rkgNHvAlJct+fAefpunti4lVfE2Ni\n",
       "4l/XTEzgwX2VBd/ySeMNqI51wOAUtrkEmQy8cou0LQZOQzqdi7RJ2W0uMyNAhva2QEZXBapFlwyF\n",
       "kfFe0N/0Scm5YU2tM4arsM39yIwMhZHRVWHWcjIer0eAjNiUME2RR3Q/qJOh/w/Sk9C9RJT21vG5\n",
       "ViaDmuv9tVbkIGTQoWXkP19y29hrhjciu0oRIKOHuzyygFdrcFfaVCfjHCQao0avJZJRIEtPADLQ\n",
       "PN7dEN1ORmxanQxCKNSy//hck4sKivdZjgAZXd7OFsbJNecymwy/I/V38OlrOBXOOVvgr6WxR/aJ\n",
       "LkvUMcTSEcNVUPOnjJKIfCPoH/GRQZsyIA4jXoJdxd47aXVMdp/GpEMGbXdMhYws3ZvNZOy0yu3K\n",
       "ifv0ocUPv1/yVG/C/U3JqXAue7Jv3VCBUCK67IbDoIDBWKLmPXUR2Tj8kmSa2iQAceCHjuVgcClO\n",
       "dVnpM5150yHjRfz/tAoZBkWzZvKYwY1/LxyivIDb3mwWJVLlacqZaEwJhvI0RctSbR4B2S3fqJxx\n",
       "yNiOZ5iKChnUavuMhgm5IJ0XKHTnHRhp00wXwkmNMYm0I4aoGJQil2XSdhhbtHKuTaAQ9NcdMvBR\n",
       "N2pKawaOnxdnkoxX+EG91Y1x/GAoCIa+UfIOISAGLJXIUjedzQWAeA2GivIQOilnHTIyB0dGtqkt\n",
       "4EdHRp4qzyQZy3g/7oHZK1vC2h6acvlb7m7qreHhzWpk9A4P3zc2kz74Mz/+Z++1a+KzC0NC+nsb\n",
       "+TUuGXfSGcAJp2FA7NpcGzISxbbUemV1Q02mUlZZMBdK4nlzmnu4yiXjU3Qmc8JpuHgkC47J2oFC\n",
       "bD5HRncenu6IKwsSGwFeXaYf+Cqbz78Jl0m52yUjCTFxAqji86g/t7yerhyEj/GHvjJc3xE3W1OT\n",
       "ydZa0qd+u6X9+/Ilw6gnRQ3dg/9tdATSL8VhjCfjMHRev3tNNZmkYJ+ZnwM8N8emqekv33PJSDVu\n",
       "AyecZgfExrUlOCORGePL63ICGY9pJTyT3uU/Ru5acso9qPV9zX9482QH+vyX4shon7f8llwRW8DN\n",
       "y4QMtoDD1jvI8KDhNDsg9p9nqxYNfaSLB/8ikNHzMFlOdhfXW5AQn1n9u1oT7MjKB6z+Vi2VwQZ6\n",
       "ji4M+rQoW4mTGf5yhN9wLBNZ/0VY937RQOmwno4WoPmMjGfI3GOH0+yA2Fnigl02GQZbeikZaXxB\n",
       "thzWgvYH0aHxvEZALHtLfrxVizKndjNoPi2RwTPg9Pk7PunulYLAeCUkTxCgPVcFasHMN4T1PIhA\n",
       "rzMy8LWic6zBgJh2xf1kIzU8PJxLF1P1Mk8GYAxlEZApLSk6tKvGcmKvhBtbtVRml0Xga0tl+NKf\n",
       "9vnoF/lwiEBGNqzHEoFOBGvimj8dFhkCkP1+hJKRsVg4DVfaWGUwBQl7ZMAtOYGMI8RyCh4caXVo\n",
       "1ew5Yu2ltk3i3FZ3o+wYnfCmJGSg7J5b83af8SdIF2ytEbZ5L/sHu0qEzi9FoHNKOEzhmhs5pR46\n",
       "X6jBS1igkIXTUj/BgNh2qye3NgYG+j5TgIywZtCyQHujjg7dbpEWzo8uc/2t8GweyC/fz1RQ6+ls\n",
       "WepLZZSdhLhPi7KrH6nbfaYGil40rVc4n9wTFhkEqLsZiAxmrs8LiQydf5OUPieQoW80tUUYEBus\n",
       "Zc3EYoD7cY97EqDkI+PTH+ynZAzWtAUwaOKPWvfQ3o/jAZ1g3HaIPvukZutMR0b2SqT20PXX+bRE\n",
       "1v1PdDv2Cb+e+DHrKsmf3FPlkMhAIKMciAzP/GRIZDAgCj8lkEFb0JXDOZ/FyPzdGg7hd0AWswS3\n",
       "trubYjjaNI8LdmS4rTaWO13z9wlx/vU9DdgIaWmdyRCz3vZ6QNmh/loAMjzz8Va3s/w0JTK85Ldx\n",
       "Pt4y6SNjFANi7TZvIhnashWcpVNLXOd8gIBa7lMEu4ah+rbauHm0IOk0w08muLmw09LUs8fsrLd+\n",
       "UYpA1dNk7euM4yqoOX1Nd7ylB8xPU0+ro8lvduzvOO/cio+MOgbEMqBCBvWUpAb1drUdj11I26Zo\n",
       "/DKbrDlpaerZY3bWG6wTpQi034IzCjiuAs3tQbyvxe2Yn6aeVofJb07sbx+nfjznI+OC5d0mJBz9\n",
       "6MW0ms9fQcFNSwuSPZbM+aQItBK3kx1wOMVKZ/dJNni+HiBYWp0T+7OB3MNtFJLYYFULGXZaWpDs\n",
       "sap/RkegE9B9TgHHVVBz4H3I56cFSatj1jwZ90EUyFhTEKYpOy0tUPbYfoBPlvzT1Nv4TKuTQc2f\n",
       "WMH5nc9PC5JW58T+uDbOWToCnwTkhQXcTksLQAbNehtr+hfwN3D5USeDmudXg28Bp/lp6iODJr9h\n",
       "7E9YwGPR+CSA305hmIympalnj9Gst9SvyqKrEOgb8CPJCGNZbC6Oq0Bz3Xye1AZErDjmp/nIoM1l\n",
       "aXU0+e0sdeUA59tSJMiA93lVdJ2dlqacPWZnvfW0hDCw+a4P1SVksCw2F8dVUHP6icipljGA+Wk+\n",
       "MmhzWVodJr/R2J8HBJH5jIz7wJILhwTLHoPqL/3hEEUcUUGOGnpZ1kOgtDoa+/OAvCjknCeD//CX\n",
       "BQqDZY/B740W6cvKOIKCvhbNyXoIlFZHY398oDC9MCJkpN7D3YVz5A+YPQZP/rFF4AAFxYlV2oTQ\n",
       "g6XE2bE/DigyH+XzB9UwXy5dTMG1Z2tY98UBfQWiQkacOxnP7mvXO35mQSas91scUKYSnIzZ+hNH\n",
       "QzBHysYN04N7MX/iaLb++Fe8AJd00Z3EGfzjX/8HH0x12rxZj7kAAAAASUVORK5CYII=\n",
       "\" style=\"display:inline;vertical-align:middle;\" /></a></span></td></tr>\n",
       "<tr><td>&nbsp;</td><td colspan=4 style-\"text-align:left\"><a class=\"ProveItLink\" href=\"../../addition/_theory_nbs_/proofs/association/thm_proof.ipynb\">proveit.numbers.addition.association</a></td></tr><tr><td><a name=\"0x46a464496da4ef0a_step17\">17</a></td><td>axiom</td><td></td><td><span style=\"font-size:20px;\"> <a class=\"ProveItLink\" href=\"../../number_sets/natural_numbers/_theory_nbs_/axioms.ipynb#zero_in_nats\" style=\"text-decoration: none\">&nbsp;&#x22A2;&nbsp;&nbsp;</a><a class=\"ProveItLink\" href=\"../../number_sets/natural_numbers/__pv_it/axioms/41585b68a7dd1d513f84c532999561d9671aca5e0/expr.ipynb\"><img src=\"data:image/png;base64,iVBORw0KGgoAAAANSUhEUgAAADMAAAAPBAMAAAC7N+rPAAAAMFBMVEX///9mZma6urpUVFREREQQ\n",
       "EBDc3NwiIiLu7u6qqqoyMjLMzMyYmJiIiIh2dnYAAADXmt2vAAAAAXRSTlMAQObYZgAAAONJREFU\n",
       "GNNjYOC785oBBXR98WpgePpVgYFhJUN7AqqcD7cBA8cHBgaeAAa+BahS5hvuMjAEMDCwGDBw/gCL\n",
       "8LiXV4EZRh7MGxgKGBj4DRiYfoIEuH0boLrMNnOsAEn1CzAw/QXbDpNhMOO8sBkklf+AgRssZQa3\n",
       "y4zhEc8FkJQAA/c/kIADkhRzgzWSgdxRq4AAKsVhwBUAdgYnyBlsyLoY9nGDHO/AwAN2fACyFM8E\n",
       "ByQvy8KlrIH4GciQSobWDSAB9gkwqZVAzAhS3nfXGizAYaIBkdn+FaiDAyXwmJ5AAwoKAGQvOOyD\n",
       "fUpGAAAAAElFTkSuQmCC\n",
       "\" style=\"display:inline;vertical-align:middle;\" /></a></span></td></tr>\n",
       "<tr><td>&nbsp;</td><td colspan=4 style-\"text-align:left\"><a class=\"ProveItLink\" href=\"../../number_sets/natural_numbers/_theory_nbs_/axioms.ipynb#zero_in_nats\">proveit.numbers.number_sets.natural_numbers.zero_in_nats</a></td></tr><tr><td><a name=\"0x46a464496da4ef0a_step18\">18</a></td><td>instantiation</td><td><a href=\"#0x46a464496da4ef0a_step28\">28</a></td><td><span style=\"font-size:20px;\"> <a class=\"ProveItLink\" href=\"../__pv_it/demonstrations/7c1b33e3425b133eab91b759af44586bf15d22050/proof.ipynb\" style=\"text-decoration: none\">&nbsp;&#x22A2;&nbsp;&nbsp;</a><a class=\"ProveItLink\" href=\"../../numerals/decimals/__pv_it/theorems/5d2fead64486616c368b6f1d6361f0653778a8120/expr.ipynb\"><img src=\"data:image/png;base64,iVBORw0KGgoAAAANSUhEUgAAAL0AAAAVBAMAAADhtvKAAAAAMFBMVEX///9UVFQQEBCqqqoiIiJm\n",
       "ZmYyMjJERESYmJjc3NyIiIi6urp2dnbu7u7MzMwAAAADGpxCAAAAAXRSTlMAQObYZgAAAiRJREFU\n",
       "OMullbFrFEEUxr9kd+/2Lnt3IQQLm4BYCEG4xsJCvBCbFJIFCUhQPJtAqoQ0areNhd0KKSyvsTFw\n",
       "HCF9TjAgxmINgUCa3X8gcIVco0d8O7Pv3Nlzdg98sMNj3vt+zM6beYMr5NhV4US+1QOcCqfiZSL3\n",
       "xXiaFciJD8VkqXd6ieIiFarttYAZX8+v7eaiaxuvokQ/5m+nE0ouJbX1/BJpjbta/g84vxI98203\n",
       "ndBo0vBNz39LjM8jLf85cCvRM9/00wnHAQ1nev5avCI9/zaw5Es98/eVhC9iE3o6fqWVz98JsBRJ\n",
       "PfM/xrJnm8mevvz0hEKujl918/lk64HUM/81fYd+aSDrPwxCH3ab+c6WMJf5Za+IP/cbUs/8VaLe\n",
       "gSXPnTFCowOjpVu/2Szim/OQeuYvA9YIZkdErTbCPuoDHX+2V8TfiK/uQOXP7iKM+PgfN/+HLwqk\n",
       "8Gl/aMkPk+Pv4UWAuVZm/+en3p97qPhSn6pv2MQNQ1yDRo9qkapvdv1F9a33UfXV+p6QqmOvOAhp\n",
       "dsYr0w9afR1fnLwq8eNkMdSGaWf/+8liomf+EYVudt8fwHxM3ubXuAqRjh//ubUwfCqSxVnBCjuP\n",
       "6OrvXF//TPST/eEBO+f5/UFNHpsRKPrJ/tZnJ7+/ZZLH5kDRj/vzG+7dHXZy+nPZzyT/tUso+on3\n",
       "xeZ4eYr3xZ48O56qJ3733+/jOzF2s/rutO+j1FejPzkxwWpoiDi7AAAAAElFTkSuQmCC\n",
       "\" style=\"display:inline;vertical-align:middle;\" /></a></span></td></tr>\n",
       "<tr><td>&nbsp;</td><td colspan=4 style=\"text-align:left\"><span style=\"font-size:20px;\"><a class=\"ProveItLink\" href=\"../../../__pv_it/common/c06c606ec12678c58933ac85412ecadc2ae28be60/expr.ipynb\"><img src=\"data:image/png;base64,iVBORw0KGgoAAAANSUhEUgAAAAsAAAAJBAMAAAAWSsseAAAAMFBMVEX///9UVFSqqqrMzMwiIiJE\n",
       "RESYmJgyMjK6urru7u4QEBCIiIh2dnZmZmbc3NwAAABRgo0vAAAAAXRSTlMAQObYZgAAAEdJREFU\n",
       "CNdjYOC7c3slAwND1wP2DwwMnMsYeAMYGHh/MrBsYGDgCmCYb8DAMP8Agz5QxXwFBnGmBwysG9gc\n",
       "eYAqpTc/3MEAAP4BD32xAXDqAAAAAElFTkSuQmCC\n",
       "\" style=\"display:inline;vertical-align:middle;\" /></a> : <a class=\"ProveItLink\" href=\"../../../__pv_it/common/c06c606ec12678c58933ac85412ecadc2ae28be60/expr.ipynb\"><img src=\"data:image/png;base64,iVBORw0KGgoAAAANSUhEUgAAAAsAAAAJBAMAAAAWSsseAAAAMFBMVEX///9UVFSqqqrMzMwiIiJE\n",
       "RESYmJgyMjK6urru7u4QEBCIiIh2dnZmZmbc3NwAAABRgo0vAAAAAXRSTlMAQObYZgAAAEdJREFU\n",
       "CNdjYOC7c3slAwND1wP2DwwMnMsYeAMYGHh/MrBsYGDgCmCYb8DAMP8Agz5QxXwFBnGmBwysG9gc\n",
       "eYAqpTc/3MEAAP4BD32xAXDqAAAAAElFTkSuQmCC\n",
       "\" style=\"display:inline;vertical-align:middle;\" /></a>, <a class=\"ProveItLink\" href=\"../../../__pv_it/common/195236b98c6c564a75b5dbada74b173bc52d5c3e0/expr.ipynb\"><img src=\"data:image/png;base64,iVBORw0KGgoAAAANSUhEUgAAAAkAAAAOBAMAAAAPuiubAAAALVBMVEX///+YmJjc3NyIiIhUVFR2\n",
       "dna6urqqqqpmZmYyMjIiIiIQEBBERETu7u4AAAALjtrwAAAAAXRSTlMAQObYZgAAAE9JREFUCNdj\n",
       "4D29gAEIOBtAJF8BiMy7ACKjQATDFON2BgbelxfuKTCwv2XgM2DgmMBwLwCkPK+AgU+Aoe8CA18C\n",
       "70YGBhYBHqARvM2BDAwAqXgQspq5HJAAAAAASUVORK5CYII=\n",
       "\" style=\"display:inline;vertical-align:middle;\" /></a> : <a class=\"ProveItLink\" href=\"../../../__pv_it/common/195236b98c6c564a75b5dbada74b173bc52d5c3e0/expr.ipynb\"><img src=\"data:image/png;base64,iVBORw0KGgoAAAANSUhEUgAAAAkAAAAOBAMAAAAPuiubAAAALVBMVEX///+YmJjc3NyIiIhUVFR2\n",
       "dna6urqqqqpmZmYyMjIiIiIQEBBERETu7u4AAAALjtrwAAAAAXRSTlMAQObYZgAAAE9JREFUCNdj\n",
       "4D29gAEIOBtAJF8BiMy7ACKjQATDFON2BgbelxfuKTCwv2XgM2DgmMBwLwCkPK+AgU+Aoe8CA18C\n",
       "70YGBhYBHqARvM2BDAwAqXgQspq5HJAAAAAASUVORK5CYII=\n",
       "\" style=\"display:inline;vertical-align:middle;\" /></a></span></td></tr><tr><td><a name=\"0x46a464496da4ef0a_step19\">19</a></td><td>instantiation</td><td><a href=\"#0x46a464496da4ef0a_step28\">28</a></td><td><span style=\"font-size:20px;\"> <a class=\"ProveItLink\" href=\"../__pv_it/demonstrations/0c55a38e697c617c77d1c046f0d7400e384531e20/proof.ipynb\" style=\"text-decoration: none\">&nbsp;&#x22A2;&nbsp;&nbsp;</a><a class=\"ProveItLink\" href=\"../__pv_it/demonstrations/30cd75a716a60bc2aca2294b6d9f7d1a6ca80be00/expr.ipynb\"><img src=\"data:image/png;base64,iVBORw0KGgoAAAANSUhEUgAAAL4AAAAVBAMAAAAKgUmDAAAAMFBMVEX///9UVFQQEBCqqqoiIiJm\n",
       "ZmYyMjJERESYmJjc3NyIiIi6urp2dnbu7u7MzMwAAAADGpxCAAAAAXRSTlMAQObYZgAAAi5JREFU\n",
       "OMullb9LHEEUx7/3e++8PQ6xsVIkkEICVySFhbAWKYSIZ3GYwoBVmkC0E5skTULSXaGgYGFjkeY8\n",
       "JL1nIYIeZA3G1vsDIkkhhyHRdebN7s7trDM5yIO7233ve5+Zee/xBpcwWMlVHEb1PXaJE/rdUAMT\n",
       "9F1sKm6NOm6puq+nf9jLsGsrHRHKt48qSNT1fKY22vf5N8BwLz9bxymKf0R4Halr2It6PlMj9UiL\n",
       "t8v42sR5L/898AIYE/HdCq6AYz2fqU8PbrT8jIvkKIrbPfxp4AEwInK210QX+KbnMzUsPT/pIPEb\n",
       "9qjk5x1gycVIJyjONUtCU8fnahM/e4PELfBK8gtVCswG3XjWYuiqjk9qA59ZmkUPJT/3jj8P/PWj\n",
       "W0/ZQtZiwC++JKsGfFKb+ftsgx8kP12hRctBuDDOcuTo9k9qM3+KfR5LfpIwNRkfc1H6peOT2sjP\n",
       "8LP+VPh+EYBN4G3lv/g7iPLpxE+QF/3puZw/4Cj5L/edn1SV7/FLtL6lFgqC/5A6SdZX3f8/6/sD\n",
       "+BypL+/FtfbhEC449CP1f6al41PnFhif1PzL7qLnLf+sPccOvyD5PBdLnneF9Ax/q80zbLaj43N1\n",
       "ZrD7XKip66aCB+7Kep7HJK+j80HYZEg6M88HRY2Yy3ai801YKxSa55uqRswVmW+5ur/odri8YT7H\n",
       "1XI2h65z5X4hs0Jhro/7xYpvX7pWfX3j/hvvkxgUHcXd6Pd+tMQZG3dE/MW9jW7tCwAAAABJRU5E\n",
       "rkJggg==\n",
       "\" style=\"display:inline;vertical-align:middle;\" /></a></span></td></tr>\n",
       "<tr><td>&nbsp;</td><td colspan=4 style=\"text-align:left\"><span style=\"font-size:20px;\"><a class=\"ProveItLink\" href=\"../../../__pv_it/common/c06c606ec12678c58933ac85412ecadc2ae28be60/expr.ipynb\"><img src=\"data:image/png;base64,iVBORw0KGgoAAAANSUhEUgAAAAsAAAAJBAMAAAAWSsseAAAAMFBMVEX///9UVFSqqqrMzMwiIiJE\n",
       "RESYmJgyMjK6urru7u4QEBCIiIh2dnZmZmbc3NwAAABRgo0vAAAAAXRSTlMAQObYZgAAAEdJREFU\n",
       "CNdjYOC7c3slAwND1wP2DwwMnMsYeAMYGHh/MrBsYGDgCmCYb8DAMP8Agz5QxXwFBnGmBwysG9gc\n",
       "eYAqpTc/3MEAAP4BD32xAXDqAAAAAElFTkSuQmCC\n",
       "\" style=\"display:inline;vertical-align:middle;\" /></a> : <a class=\"ProveItLink\" href=\"../../numerals/__pv_it/common/ba3b059982e8b49413dc653e957beb11e974e4bc0/expr.ipynb\"><img src=\"data:image/png;base64,iVBORw0KGgoAAAANSUhEUgAAAAkAAAAOBAMAAAAPuiubAAAALVBMVEX///+qqqqIiIgyMjLc3Nwi\n",
       "IiIQEBC6urp2dnZUVFTMzMxERERmZmbu7u4AAAAQI6y7AAAAAXRSTlMAQObYZgAAAFJJREFUCNdj\n",
       "4D2zewEDw00GjucMDGcZGNIYGFIZGOY5MNhdYJgHlGBgiLsAJNhfgJisE0DkGRDBdABEyjCwODBw\n",
       "NTAwOTC4dvRMZWCwe/fuKQMANh0TGKpG4roAAAAASUVORK5CYII=\n",
       "\" style=\"display:inline;vertical-align:middle;\" /></a>, <a class=\"ProveItLink\" href=\"../../../__pv_it/common/195236b98c6c564a75b5dbada74b173bc52d5c3e0/expr.ipynb\"><img src=\"data:image/png;base64,iVBORw0KGgoAAAANSUhEUgAAAAkAAAAOBAMAAAAPuiubAAAALVBMVEX///+YmJjc3NyIiIhUVFR2\n",
       "dna6urqqqqpmZmYyMjIiIiIQEBBERETu7u4AAAALjtrwAAAAAXRSTlMAQObYZgAAAE9JREFUCNdj\n",
       "4D29gAEIOBtAJF8BiMy7ACKjQATDFON2BgbelxfuKTCwv2XgM2DgmMBwLwCkPK+AgU+Aoe8CA18C\n",
       "70YGBhYBHqARvM2BDAwAqXgQspq5HJAAAAAASUVORK5CYII=\n",
       "\" style=\"display:inline;vertical-align:middle;\" /></a> : <a class=\"ProveItLink\" href=\"../../numerals/__pv_it/common/0a19a501c0770212f27a044b71e9c626b8ca0bec0/expr.ipynb\"><img src=\"data:image/png;base64,iVBORw0KGgoAAAANSUhEUgAAAAoAAAAOBAMAAADkjZCYAAAAKlBMVEX////u7u4yMjIQEBC6uroi\n",
       "IiKIiIiYmJhmZmaqqqpERER2dnbc3NwAAAAz17lDAAAAAXRSTlMAQObYZgAAAE5JREFUCNdjYDi9\n",
       "eyUDA08Dw9wCBrabDLwBDCwmDLwKDEAAFGFgYIwGEjxbG0ECDMkOIJLZkIHnAAMXUPFFEMm8gIH1\n",
       "IgN7AVi9R8cSBgCvphDNutx7AgAAAABJRU5ErkJggg==\n",
       "\" style=\"display:inline;vertical-align:middle;\" /></a></span></td></tr><tr><td><a name=\"0x46a464496da4ef0a_step20\">20</a></td><td>conjecture</td><td></td><td><span style=\"font-size:20px;\"> <a class=\"ProveItLink\" href=\"../../../core_expr_types/tuples/_theory_nbs_/proofs/tuple_len_0_typical_eq/thm_proof.ipynb\" style=\"text-decoration: none\">&nbsp;&#x22A2;&nbsp;&nbsp;</a><a class=\"ProveItLink\" href=\"../../../core_expr_types/tuples/__pv_it/theorems/0e50a84fcd29aed2e6c3f826159fa446aca6ee610/expr.ipynb\"><img src=\"data:image/png;base64,iVBORw0KGgoAAAANSUhEUgAAAJkAAAAVBAMAAACnAFEqAAAAMFBMVEX///9UVFQQEBCqqqoiIiJm\n",
       "ZmYyMjJERESYmJjc3NyIiIi6urp2dnbu7u7MzMwAAAADGpxCAAAAAXRSTlMAQObYZgAAAatJREFU\n",
       "OMtjeMsAB0hMHAL4Ad8FhtNAirOBeQKQOo0uDRGYQdgcSzDJswGs4zoDgyRO03gL8Jt0qucBA+ME\n",
       "JNMyGRiu4TSNDaiSWRenYWwGvJ4MvAkI0zgCgKwFuExrZWC4ePAvTtOaGBiOAR2IMI0FaDuvAi7T\n",
       "PIGYA7dphQwM9hcYLiFMmwJiZuMwjdMBv2kfGRj2GzCwbYCbthQkehSHaVwBeE3j/Qo0bQEDTwDc\n",
       "tAqQcBvUNJ40MAiAmcbegNc0zj8MDO8XMHAkwE1zBgmb4HAbiwF+04Bue3+AgdkBbpo2SPg9DtOY\n",
       "NhDjU74PVDENFAv2BsimgX26BTXcBIj0KUM5A0P/BQZuB+yxgO42ArEATb1IsXAUJBqDwzRw3HMB\n",
       "TbsP0gAieL8hM1gMePUYGFgPwE3bAtKZh8M0kB9Yhb5FMLD4gvSCQsARxnC5ADTy1MIHwNz6ADVn\n",
       "OeDLWWBgi+FL5gsw1hUScj0EHMAwjQdRLCGVSJX4SiT2CdCUtQDDtFvwVJeAWlpWEiwtOTDjswHG\n",
       "YIeVluvAJTkHiLsOXfU6YkvyTjDJ9QAAefyjssLNpqIAAAAASUVORK5CYII=\n",
       "\" style=\"display:inline;vertical-align:middle;\" /></a></span></td></tr>\n",
       "<tr><td>&nbsp;</td><td colspan=4 style-\"text-align:left\"><a class=\"ProveItLink\" href=\"../../../core_expr_types/tuples/_theory_nbs_/proofs/tuple_len_0_typical_eq/thm_proof.ipynb\">proveit.core_expr_types.tuples.tuple_len_0_typical_eq</a></td></tr><tr><td><a name=\"0x46a464496da4ef0a_step21\">21</a></td><td>assumption</td><td></td><td><span style=\"font-size:20px;\"><a class=\"ProveItLink\" href=\"../__pv_it/theorems/ffc4a45642fde8a513aa78237f7ca59ff7c646290/expr.ipynb\"><img src=\"data:image/png;base64,iVBORw0KGgoAAAANSUhEUgAAADMAAAAPBAMAAAC7N+rPAAAAMFBMVEX///9UVFSqqqrMzMwiIiJE\n",
       "RESYmJgyMjK6urru7u4QEBCIiIh2dnZmZmbc3NwAAABRgo0vAAAAAXRSTlMAQObYZgAAANBJREFU\n",
       "GNNjYMACuEvql8Rik2BgtlfgvJ+LVSpBmoGB7S+KUKqLSwGQYjNYCSRlkWVMd0JoXr4AIDkbiPnu\n",
       "3AapYuCshCqZyHwByup6wP4BRDM+gAq84dgAYXAuY+AFGcDACjP4LUyK9ycDC5hpVQ4EIGdMZT4A\n",
       "keIKYJhvAGI8helinyAAYcw/wKAPUQOTYrsAkuIESikwiDOBXMC7ASYX3Q0k2oG2b2Bz5AGLOMGk\n",
       "eEtPcqpGAjVKb364A+KfiAlQOduqL5dRw64nBBxQMAAAUJwvP1Qg9PwAAAAASUVORK5CYII=\n",
       "\" style=\"display:inline;vertical-align:middle;\" /></a> <a class=\"ProveItLink\" href=\"../__pv_it/demonstrations/f4b835c950e2858529c9841a49b688e961bff1fa0/proof.ipynb\" style=\"text-decoration: none\">&nbsp;&#x22A2;&nbsp;&nbsp;</a><a class=\"ProveItLink\" href=\"../__pv_it/theorems/ffc4a45642fde8a513aa78237f7ca59ff7c646290/expr.ipynb\"><img src=\"data:image/png;base64,iVBORw0KGgoAAAANSUhEUgAAADMAAAAPBAMAAAC7N+rPAAAAMFBMVEX///9UVFSqqqrMzMwiIiJE\n",
       "RESYmJgyMjK6urru7u4QEBCIiIh2dnZmZmbc3NwAAABRgo0vAAAAAXRSTlMAQObYZgAAANBJREFU\n",
       "GNNjYMACuEvql8Rik2BgtlfgvJ+LVSpBmoGB7S+KUKqLSwGQYjNYCSRlkWVMd0JoXr4AIDkbiPnu\n",
       "3AapYuCshCqZyHwByup6wP4BRDM+gAq84dgAYXAuY+AFGcDACjP4LUyK9ycDC5hpVQ4EIGdMZT4A\n",
       "keIKYJhvAGI8helinyAAYcw/wKAPUQOTYrsAkuIESikwiDOBXMC7ASYX3Q0k2oG2b2Bz5AGLOMGk\n",
       "eEtPcqpGAjVKb364A+KfiAlQOduqL5dRw64nBBxQMAAAUJwvP1Qg9PwAAAAASUVORK5CYII=\n",
       "\" style=\"display:inline;vertical-align:middle;\" /></a></span></td></tr>\n",
       "<tr><td><a name=\"0x46a464496da4ef0a_step22\">22</a></td><td>instantiation</td><td><a href=\"#0x46a464496da4ef0a_step44\">44</a>, <a href=\"#0x46a464496da4ef0a_step31\">31</a>, <a href=\"#0x46a464496da4ef0a_step29\">29</a></td><td><span style=\"font-size:20px;\"><a class=\"ProveItLink\" href=\"../__pv_it/demonstrations/6051a0540e9e0a0b592a6d597e12da191c24af4b0/expr.ipynb\"><img src=\"data:image/png;base64,iVBORw0KGgoAAAANSUhEUgAAAD0AAAAPBAMAAACl/tp8AAAAMFBMVEX////MzMyYmJjc3NyIiIhU\n",
       "VFR2dna6urqqqqpmZmYyMjIiIiIQEBBERETu7u4AAACIO4EmAAAAAXRSTlMAQObYZgAAANxJREFU\n",
       "GNNj4LuzgQEFaJ+9v+qsAoLPNQFVnmHBUwZZ3QcMtXeB4AEDA38DmvwFMwZe5gA4t/4BlKG7e/cC\n",
       "qDynwQK4fDaUlvVD6Oc0uACXX+oyA0TxrUMyn5Udbj7frwfvDYA0qwGSfPcsmKUMHP8Y+B2ANC/C\n",
       "fTa7dyHczLmA4X0CkJZZBQRQ91XyPkD2fj1ItS2S/zgLEc7jV2CYD1LNg+z/eyoI+QK+Q2B7HJDk\n",
       "RTkFYDxWBV5IAO9ACl+2hkC4/6YkQRhPrz+Axc9Chrvr0UOdgaHs9u4FGIIAV7ZG6f/qy2MAAAAA\n",
       "SUVORK5CYII=\n",
       "\" style=\"display:inline;vertical-align:middle;\" /></a> <a class=\"ProveItLink\" href=\"../__pv_it/demonstrations/dda1e476e93db0e53265bcfe49dbdf260af1f6ae0/proof.ipynb\" style=\"text-decoration: none\">&nbsp;&#x22A2;&nbsp;&nbsp;</a><a class=\"ProveItLink\" href=\"../__pv_it/theorems/cc5977648bc1a1b7dbb543c11fb2eb11ba7bfd0b0/expr.ipynb\"><img src=\"data:image/png;base64,iVBORw0KGgoAAAANSUhEUgAAADEAAAAPBAMAAAC/wjryAAAAMFBMVEX////MzMyYmJjc3NyIiIhU\n",
       "VFR2dna6urqqqqpmZmYyMjIiIiIQEBBERETu7u4AAACIO4EmAAAAAXRSTlMAQObYZgAAANhJREFU\n",
       "GNNj4LuzgQENsKxef/omkOaagCbBKN/AN18TyOBvQJNRCGFgYPoJZNQ/gIro7t69AEgxCZwDkpFA\n",
       "nA2VkPWD0JzMF4DkEyBe6jIDJMC3DqriKSPUYr5fD94bAGlWA6iMGbsDhMHxj4EfxOSFOcASJsO5\n",
       "gOF9ApCWWQUEIBe8ZUyAyAC9Uw9yty1MD9eDAAiDX4FhPsjdPDAZpgkgGT6gTAHfIbCpDjCpKyVA\n",
       "ogroJgVeiCt3wGQ41+bx9d4DapuSBPXHdVhgSK75PRElvMpug0MHBgCFGjXcupX6XQAAAABJRU5E\n",
       "rkJggg==\n",
       "\" style=\"display:inline;vertical-align:middle;\" /></a></span></td></tr>\n",
       "<tr><td>&nbsp;</td><td colspan=4 style=\"text-align:left\"><span style=\"font-size:20px;\"><a class=\"ProveItLink\" href=\"../../../__pv_it/common/09585084922504426caf1db2ff588a23a0932a960/expr.ipynb\"><img src=\"data:image/png;base64,iVBORw0KGgoAAAANSUhEUgAAAA8AAAAOBAMAAAACpFvcAAAALVBMVEX///8iIiIQEBBERERUVFS6\n",
       "urqIiIjc3NxmZmaqqqru7u6YmJgyMjLMzMwAAACK9jtgAAAAAXRSTlMAQObYZgAAAFtJREFUCNdj\n",
       "YACBOwxQcA5Kc59bAGGs7CuAMDbkBYBp1gXzNoAZSxnuJYAZAQx1DSCa16PDzwCshIGB6QCIMYGB\n",
       "gVEBSLMDGTwPgIxCIGZ+zsCw+N0pBk67hw0AfpEVEQi8t+wAAAAASUVORK5CYII=\n",
       "\" style=\"display:inline;vertical-align:middle;\" /></a> : <a class=\"ProveItLink\" href=\"../../number_sets/real_numbers/__pv_it/common/93cac87a1a47e613f7a83b23ef7891599a1a4cca0/expr.ipynb\"><img src=\"data:image/png;base64,iVBORw0KGgoAAAANSUhEUgAAAA8AAAAOBAMAAAACpFvcAAAAMFBMVEX///+IiIiqqqq6urpmZmZ2\n",
       "dnbc3NzMzMxUVFTu7u4yMjJEREQQEBAiIiKYmJgAAACIyPRpAAAAAXRSTlMAQObYZgAAAFlJREFU\n",
       "CNdjeHt6/6rTDxiAYMEMhurXE4CMDakM3GwNEAZLwgIYYwOEwcEMldL1AivOuXtLgQEsYsI9AcJg\n",
       "Md8AYTDsfAhlVLAUQKxgVWhnYABaupxh93oFAP7MI7KHKGXxAAAAAElFTkSuQmCC\n",
       "\" style=\"display:inline;vertical-align:middle;\" /></a>, <a class=\"ProveItLink\" href=\"../../../__pv_it/common/a9162d1c3cc0470c02e5daf414500903a7a419230/expr.ipynb\"><img src=\"data:image/png;base64,iVBORw0KGgoAAAANSUhEUgAAABAAAAAOBAMAAADUAYG5AAAALVBMVEX///8yMjKqqqoiIiLu7u7c\n",
       "3NyIiIjMzMwQEBC6urpERERmZmZUVFSYmJgAAACsPVCVAAAAAXRSTlMAQObYZgAAAGxJREFUCNdj\n",
       "YGC48+70nlUTGICgi4GB+zmQZn/LwMD5Gshge8rAwPsMyOBqYGDwMAEy+A4wsNs4ABl1Z68tVgBp\n",
       "ygtgYOkBMVaAOCChNyBGAsQYhnMTIMawvwJyGIHGzFjCwMAj92b3qUUMDAAXABxvZ4rl5AAAAABJ\n",
       "RU5ErkJggg==\n",
       "\" style=\"display:inline;vertical-align:middle;\" /></a> : <a class=\"ProveItLink\" href=\"../../number_sets/complex_numbers/__pv_it/common/d18a028138f659eda00de597c28a3447fe87eb100/expr.ipynb\"><img src=\"data:image/png;base64,iVBORw0KGgoAAAANSUhEUgAAAA8AAAAOBAMAAAACpFvcAAAAMFBMVEX///+6urp2dnbc3NxUVFSY\n",
       "mJju7u6qqqrMzMxmZmZEREQQEBAiIiIyMjKIiIgAAAAjslSOAAAAAXRSTlMAQObYZgAAAGNJREFU\n",
       "CNdjYGDgu3N/z0oGBgaO/gK2+ZFARoAfAwPrTyBu2AbkeTIwcDIvADLyGBhSOCYwgIER4wMIwxLG\n",
       "yOJQgDB4ExwgDNYJIAYbEK+TAxKyQMx5S42tahlIsvP2nxkMDABpcxTBm+Hj2gAAAABJRU5ErkJg\n",
       "gg==\n",
       "\" style=\"display:inline;vertical-align:middle;\" /></a>, <a class=\"ProveItLink\" href=\"../../../__pv_it/common/a0d9d672aa5e272d907247690c152cc2c6daafb70/expr.ipynb\"><img src=\"data:image/png;base64,iVBORw0KGgoAAAANSUhEUgAAAAsAAAAJBAMAAAAWSsseAAAALVBMVEX///9mZmaqqqrMzMxEREQy\n",
       "MjIiIiKYmJh2dna6urrc3NxUVFSIiIju7u4AAACJHQtQAAAAAXRSTlMAQObYZgAAAEJJREFUCNdj\n",
       "YLhzeuWJAwy8Dew5bAEMHBc43nIuYOBlYHFgAAG+A2DKzgBIMF04x8BzgWGegh/DcgaG22fuiBcw\n",
       "AAATyhBrnyPYZQAAAABJRU5ErkJggg==\n",
       "\" style=\"display:inline;vertical-align:middle;\" /></a> : <a class=\"ProveItLink\" href=\"../../../__pv_it/common/195236b98c6c564a75b5dbada74b173bc52d5c3e0/expr.ipynb\"><img src=\"data:image/png;base64,iVBORw0KGgoAAAANSUhEUgAAAAkAAAAOBAMAAAAPuiubAAAALVBMVEX///+YmJjc3NyIiIhUVFR2\n",
       "dna6urqqqqpmZmYyMjIiIiIQEBBERETu7u4AAAALjtrwAAAAAXRSTlMAQObYZgAAAE9JREFUCNdj\n",
       "4D29gAEIOBtAJF8BiMy7ACKjQATDFON2BgbelxfuKTCwv2XgM2DgmMBwLwCkPK+AgU+Aoe8CA18C\n",
       "70YGBhYBHqARvM2BDAwAqXgQspq5HJAAAAAASUVORK5CYII=\n",
       "\" style=\"display:inline;vertical-align:middle;\" /></a></span></td></tr><tr><td><a name=\"0x46a464496da4ef0a_step23\">23</a></td><td>instantiation</td><td><a href=\"#0x46a464496da4ef0a_step44\">44</a>, <a href=\"#0x46a464496da4ef0a_step31\">31</a>, <a href=\"#0x46a464496da4ef0a_step30\">30</a></td><td><span style=\"font-size:20px;\"> <a class=\"ProveItLink\" href=\"../__pv_it/demonstrations/15770247c5568474b9e642e9ea47b1ae91ba4b8f0/proof.ipynb\" style=\"text-decoration: none\">&nbsp;&#x22A2;&nbsp;&nbsp;</a><a class=\"ProveItLink\" href=\"../__pv_it/demonstrations/a840461c54840606cec50f80491d33a09bcb30450/expr.ipynb\"><img src=\"data:image/png;base64,iVBORw0KGgoAAAANSUhEUgAAADIAAAAPBAMAAABU9YHxAAAAMFBMVEX///+YmJiqqqqIiIgyMjLc\n",
       "3NwiIiIQEBC6urp2dnZUVFTMzMxERERmZmbu7u4AAADrYmUNAAAAAXRSTlMAQObYZgAAANtJREFU\n",
       "GNNj4Lt7ZgMDGjBJ+Z5zgeEVA+cPNIndnxjefrzAcI+BoRxVgpHLgIFB/gJDGQPD+gCwiExamgOI\n",
       "lmZ/wMDAdYHB/wHDerBFe+ygei7EAAk+AxAz/wGI6QeV4FuwF2Yux08QyRUA5bJOaIbJsC0AkTww\n",
       "LusFuMxdMLndBQhALuA7sBMqwXwBTMXAXe3HBWXoMrCCrGCHy8iCZR4wcE9gYAbJ8BrAZHgsgEwO\n",
       "B4awmXOXgQWS4JqunHzw6MwDBv///7+B+a9OPIDKcF+pz0UJ5c5jkNCBAgAChzpDD4pEigAAAABJ\n",
       "RU5ErkJggg==\n",
       "\" style=\"display:inline;vertical-align:middle;\" /></a></span></td></tr>\n",
       "<tr><td>&nbsp;</td><td colspan=4 style=\"text-align:left\"><span style=\"font-size:20px;\"><a class=\"ProveItLink\" href=\"../../../__pv_it/common/09585084922504426caf1db2ff588a23a0932a960/expr.ipynb\"><img src=\"data:image/png;base64,iVBORw0KGgoAAAANSUhEUgAAAA8AAAAOBAMAAAACpFvcAAAALVBMVEX///8iIiIQEBBERERUVFS6\n",
       "urqIiIjc3NxmZmaqqqru7u6YmJgyMjLMzMwAAACK9jtgAAAAAXRSTlMAQObYZgAAAFtJREFUCNdj\n",
       "YACBOwxQcA5Kc59bAGGs7CuAMDbkBYBp1gXzNoAZSxnuJYAZAQx1DSCa16PDzwCshIGB6QCIMYGB\n",
       "gVEBSLMDGTwPgIxCIGZ+zsCw+N0pBk67hw0AfpEVEQi8t+wAAAAASUVORK5CYII=\n",
       "\" style=\"display:inline;vertical-align:middle;\" /></a> : <a class=\"ProveItLink\" href=\"../../number_sets/real_numbers/__pv_it/common/93cac87a1a47e613f7a83b23ef7891599a1a4cca0/expr.ipynb\"><img src=\"data:image/png;base64,iVBORw0KGgoAAAANSUhEUgAAAA8AAAAOBAMAAAACpFvcAAAAMFBMVEX///+IiIiqqqq6urpmZmZ2\n",
       "dnbc3NzMzMxUVFTu7u4yMjJEREQQEBAiIiKYmJgAAACIyPRpAAAAAXRSTlMAQObYZgAAAFlJREFU\n",
       "CNdjeHt6/6rTDxiAYMEMhurXE4CMDakM3GwNEAZLwgIYYwOEwcEMldL1AivOuXtLgQEsYsI9AcJg\n",
       "Md8AYTDsfAhlVLAUQKxgVWhnYABaupxh93oFAP7MI7KHKGXxAAAAAElFTkSuQmCC\n",
       "\" style=\"display:inline;vertical-align:middle;\" /></a>, <a class=\"ProveItLink\" href=\"../../../__pv_it/common/a9162d1c3cc0470c02e5daf414500903a7a419230/expr.ipynb\"><img src=\"data:image/png;base64,iVBORw0KGgoAAAANSUhEUgAAABAAAAAOBAMAAADUAYG5AAAALVBMVEX///8yMjKqqqoiIiLu7u7c\n",
       "3NyIiIjMzMwQEBC6urpERERmZmZUVFSYmJgAAACsPVCVAAAAAXRSTlMAQObYZgAAAGxJREFUCNdj\n",
       "YGC48+70nlUTGICgi4GB+zmQZn/LwMD5Gshge8rAwPsMyOBqYGDwMAEy+A4wsNs4ABl1Z68tVgBp\n",
       "ygtgYOkBMVaAOCChNyBGAsQYhnMTIMawvwJyGIHGzFjCwMAj92b3qUUMDAAXABxvZ4rl5AAAAABJ\n",
       "RU5ErkJggg==\n",
       "\" style=\"display:inline;vertical-align:middle;\" /></a> : <a class=\"ProveItLink\" href=\"../../number_sets/complex_numbers/__pv_it/common/d18a028138f659eda00de597c28a3447fe87eb100/expr.ipynb\"><img src=\"data:image/png;base64,iVBORw0KGgoAAAANSUhEUgAAAA8AAAAOBAMAAAACpFvcAAAAMFBMVEX///+6urp2dnbc3NxUVFSY\n",
       "mJju7u6qqqrMzMxmZmZEREQQEBAiIiIyMjKIiIgAAAAjslSOAAAAAXRSTlMAQObYZgAAAGNJREFU\n",
       "CNdjYGDgu3N/z0oGBgaO/gK2+ZFARoAfAwPrTyBu2AbkeTIwcDIvADLyGBhSOCYwgIER4wMIwxLG\n",
       "yOJQgDB4ExwgDNYJIAYbEK+TAxKyQMx5S42tahlIsvP2nxkMDABpcxTBm+Hj2gAAAABJRU5ErkJg\n",
       "gg==\n",
       "\" style=\"display:inline;vertical-align:middle;\" /></a>, <a class=\"ProveItLink\" href=\"../../../__pv_it/common/a0d9d672aa5e272d907247690c152cc2c6daafb70/expr.ipynb\"><img src=\"data:image/png;base64,iVBORw0KGgoAAAANSUhEUgAAAAsAAAAJBAMAAAAWSsseAAAALVBMVEX///9mZmaqqqrMzMxEREQy\n",
       "MjIiIiKYmJh2dna6urrc3NxUVFSIiIju7u4AAACJHQtQAAAAAXRSTlMAQObYZgAAAEJJREFUCNdj\n",
       "YLhzeuWJAwy8Dew5bAEMHBc43nIuYOBlYHFgAAG+A2DKzgBIMF04x8BzgWGegh/DcgaG22fuiBcw\n",
       "AAATyhBrnyPYZQAAAABJRU5ErkJggg==\n",
       "\" style=\"display:inline;vertical-align:middle;\" /></a> : <a class=\"ProveItLink\" href=\"../../numerals/__pv_it/common/ba3b059982e8b49413dc653e957beb11e974e4bc0/expr.ipynb\"><img src=\"data:image/png;base64,iVBORw0KGgoAAAANSUhEUgAAAAkAAAAOBAMAAAAPuiubAAAALVBMVEX///+qqqqIiIgyMjLc3Nwi\n",
       "IiIQEBC6urp2dnZUVFTMzMxERERmZmbu7u4AAAAQI6y7AAAAAXRSTlMAQObYZgAAAFJJREFUCNdj\n",
       "4D2zewEDw00GjucMDGcZGNIYGFIZGOY5MNhdYJgHlGBgiLsAJNhfgJisE0DkGRDBdABEyjCwODBw\n",
       "NTAwOTC4dvRMZWCwe/fuKQMANh0TGKpG4roAAAAASUVORK5CYII=\n",
       "\" style=\"display:inline;vertical-align:middle;\" /></a></span></td></tr><tr><td><a name=\"0x46a464496da4ef0a_step24\">24</a></td><td>instantiation</td><td><a href=\"#0x46a464496da4ef0a_step44\">44</a>, <a href=\"#0x46a464496da4ef0a_step31\">31</a>, <a href=\"#0x46a464496da4ef0a_step32\">32</a></td><td><span style=\"font-size:20px;\"> <a class=\"ProveItLink\" href=\"../__pv_it/demonstrations/bf81a64af9b4c4c7b88fb5c394841c76bde6959a0/proof.ipynb\" style=\"text-decoration: none\">&nbsp;&#x22A2;&nbsp;&nbsp;</a><a class=\"ProveItLink\" href=\"../__pv_it/demonstrations/4e6093c2c36097e69dcbe851bd8540c1c97414ef0/expr.ipynb\"><img src=\"data:image/png;base64,iVBORw0KGgoAAAANSUhEUgAAADMAAAAPBAMAAAC7N+rPAAAAMFBMVEX///9UVFTMzMzu7u4yMjIQ\n",
       "EBC6uroiIiKIiIiYmJhmZmaqqqpERER2dnbc3NwAAACDMjhQAAAAAXRSTlMAQObYZgAAANtJREFU\n",
       "GNNjYHh79zQDGuBw9w8/xcDAt4Bh/wRUGSb9DczrZwFV/GbgL0CVmiDBwMD5i4GBLYyB3wEswnm8\n",
       "vARMKwQDSSmwGMRAphMGEE1cfAeApAWIyVwLFjGByjAYMi2AsviuLwbTcjCr3rI1wK1tTQCRB2Dc\n",
       "V0hSrCBrmUJcgADEtWG6ADXvAQPPbxAN18ViIABh8H+GSDEEwKQ4F4CkmIGmHWBg/wwSWQG34EQG\n",
       "kEgBqpkA9Rf7BpgUl89l5j2HgYysVcfAAswyyTA5Ldfvi1CCju0OJKBgAAAMVTJEXTR08AAAAABJ\n",
       "RU5ErkJggg==\n",
       "\" style=\"display:inline;vertical-align:middle;\" /></a></span></td></tr>\n",
       "<tr><td>&nbsp;</td><td colspan=4 style=\"text-align:left\"><span style=\"font-size:20px;\"><a class=\"ProveItLink\" href=\"../../../__pv_it/common/09585084922504426caf1db2ff588a23a0932a960/expr.ipynb\"><img src=\"data:image/png;base64,iVBORw0KGgoAAAANSUhEUgAAAA8AAAAOBAMAAAACpFvcAAAALVBMVEX///8iIiIQEBBERERUVFS6\n",
       "urqIiIjc3NxmZmaqqqru7u6YmJgyMjLMzMwAAACK9jtgAAAAAXRSTlMAQObYZgAAAFtJREFUCNdj\n",
       "YACBOwxQcA5Kc59bAGGs7CuAMDbkBYBp1gXzNoAZSxnuJYAZAQx1DSCa16PDzwCshIGB6QCIMYGB\n",
       "gVEBSLMDGTwPgIxCIGZ+zsCw+N0pBk67hw0AfpEVEQi8t+wAAAAASUVORK5CYII=\n",
       "\" style=\"display:inline;vertical-align:middle;\" /></a> : <a class=\"ProveItLink\" href=\"../../number_sets/real_numbers/__pv_it/common/93cac87a1a47e613f7a83b23ef7891599a1a4cca0/expr.ipynb\"><img src=\"data:image/png;base64,iVBORw0KGgoAAAANSUhEUgAAAA8AAAAOBAMAAAACpFvcAAAAMFBMVEX///+IiIiqqqq6urpmZmZ2\n",
       "dnbc3NzMzMxUVFTu7u4yMjJEREQQEBAiIiKYmJgAAACIyPRpAAAAAXRSTlMAQObYZgAAAFlJREFU\n",
       "CNdjeHt6/6rTDxiAYMEMhurXE4CMDakM3GwNEAZLwgIYYwOEwcEMldL1AivOuXtLgQEsYsI9AcJg\n",
       "Md8AYTDsfAhlVLAUQKxgVWhnYABaupxh93oFAP7MI7KHKGXxAAAAAElFTkSuQmCC\n",
       "\" style=\"display:inline;vertical-align:middle;\" /></a>, <a class=\"ProveItLink\" href=\"../../../__pv_it/common/a9162d1c3cc0470c02e5daf414500903a7a419230/expr.ipynb\"><img src=\"data:image/png;base64,iVBORw0KGgoAAAANSUhEUgAAABAAAAAOBAMAAADUAYG5AAAALVBMVEX///8yMjKqqqoiIiLu7u7c\n",
       "3NyIiIjMzMwQEBC6urpERERmZmZUVFSYmJgAAACsPVCVAAAAAXRSTlMAQObYZgAAAGxJREFUCNdj\n",
       "YGC48+70nlUTGICgi4GB+zmQZn/LwMD5Gshge8rAwPsMyOBqYGDwMAEy+A4wsNs4ABl1Z68tVgBp\n",
       "ygtgYOkBMVaAOCChNyBGAsQYhnMTIMawvwJyGIHGzFjCwMAj92b3qUUMDAAXABxvZ4rl5AAAAABJ\n",
       "RU5ErkJggg==\n",
       "\" style=\"display:inline;vertical-align:middle;\" /></a> : <a class=\"ProveItLink\" href=\"../../number_sets/complex_numbers/__pv_it/common/d18a028138f659eda00de597c28a3447fe87eb100/expr.ipynb\"><img src=\"data:image/png;base64,iVBORw0KGgoAAAANSUhEUgAAAA8AAAAOBAMAAAACpFvcAAAAMFBMVEX///+6urp2dnbc3NxUVFSY\n",
       "mJju7u6qqqrMzMxmZmZEREQQEBAiIiIyMjKIiIgAAAAjslSOAAAAAXRSTlMAQObYZgAAAGNJREFU\n",
       "CNdjYGDgu3N/z0oGBgaO/gK2+ZFARoAfAwPrTyBu2AbkeTIwcDIvADLyGBhSOCYwgIER4wMIwxLG\n",
       "yOJQgDB4ExwgDNYJIAYbEK+TAxKyQMx5S42tahlIsvP2nxkMDABpcxTBm+Hj2gAAAABJRU5ErkJg\n",
       "gg==\n",
       "\" style=\"display:inline;vertical-align:middle;\" /></a>, <a class=\"ProveItLink\" href=\"../../../__pv_it/common/a0d9d672aa5e272d907247690c152cc2c6daafb70/expr.ipynb\"><img src=\"data:image/png;base64,iVBORw0KGgoAAAANSUhEUgAAAAsAAAAJBAMAAAAWSsseAAAALVBMVEX///9mZmaqqqrMzMxEREQy\n",
       "MjIiIiKYmJh2dna6urrc3NxUVFSIiIju7u4AAACJHQtQAAAAAXRSTlMAQObYZgAAAEJJREFUCNdj\n",
       "YLhzeuWJAwy8Dew5bAEMHBc43nIuYOBlYHFgAAG+A2DKzgBIMF04x8BzgWGegh/DcgaG22fuiBcw\n",
       "AAATyhBrnyPYZQAAAABJRU5ErkJggg==\n",
       "\" style=\"display:inline;vertical-align:middle;\" /></a> : <a class=\"ProveItLink\" href=\"../../numerals/__pv_it/common/0a19a501c0770212f27a044b71e9c626b8ca0bec0/expr.ipynb\"><img src=\"data:image/png;base64,iVBORw0KGgoAAAANSUhEUgAAAAoAAAAOBAMAAADkjZCYAAAAKlBMVEX////u7u4yMjIQEBC6uroi\n",
       "IiKIiIiYmJhmZmaqqqpERER2dnbc3NwAAAAz17lDAAAAAXRSTlMAQObYZgAAAE5JREFUCNdjYDi9\n",
       "eyUDA08Dw9wCBrabDLwBDCwmDLwKDEAAFGFgYIwGEjxbG0ECDMkOIJLZkIHnAAMXUPFFEMm8gIH1\n",
       "IgN7AVi9R8cSBgCvphDNutx7AgAAAABJRU5ErkJggg==\n",
       "\" style=\"display:inline;vertical-align:middle;\" /></a></span></td></tr><tr><td><a name=\"0x46a464496da4ef0a_step25\">25</a></td><td>axiom</td><td></td><td><span style=\"font-size:20px;\"> <a class=\"ProveItLink\" href=\"../../../logic/equality/_theory_nbs_/axioms.ipynb#substitution\" style=\"text-decoration: none\">&nbsp;&#x22A2;&nbsp;&nbsp;</a><a class=\"ProveItLink\" href=\"../../../logic/equality/__pv_it/axioms/326b89aaf9a595f74daee801075977039365c5540/expr.ipynb\"><img src=\"data:image/png;base64,iVBORw0KGgoAAAANSUhEUgAAAOcAAAAWBAMAAADJFJavAAAAMFBMVEX///8QEBCIiIhmZma6urrM\n",
       "zMxUVFQiIiJERETc3Nzu7u6qqqp2dnaYmJgyMjIAAAAcRTyBAAAAAXRSTlMAQObYZgAAAuNJREFU\n",
       "SMe1Vk1oE1EQniSbbLLZ/BwUD70sCXiQQsWiINga9CCIkuDBa4PoQVBYxJN66EmSQG0EQUGEtYg/\n",
       "PdiCB/Fk0INiRQKC6EHZgx4UKkEsSLz45s28/XHTlgQ68L1M3nx5X/bNm3kLMKpluv972fZm3GcM\n",
       "F798HkH0IQ7Gnv3soZ0dQAsxUm3CCn75MYLod7nKyl/20B4PoIUYhku4hU8/O7xmbjeOS0cr7KGZ\n",
       "VpQXZrwg5B1BXh5eVJcJfO558kGKUV6YcZeQe7O4eHOE3aXfvPI8aV+jvDAjXyH8aTSujCBaxuH9\n",
       "jknyFnbeGBd7+zJCUwyjbMF1B0yx0YgzAE0MH+hGfqFtIDonx1/kGZ3cBV0ckC8ysz+lcR6ZYWpF\n",
       "mBD76hIOy/MEZqkTWTi9gehlWX9r5JmO2ddE4p5GK5QZtxMuNEQp2wQd4l3e7WFEt8l20CPPgLQs\n",
       "gJkITTGcmIUPnewRzK6O0YIzgqhpK69gDRb1GFUnueaLZtyTWHbzU0gpnxAphkN1uOSL8iQEAmp7\n",
       "03XlzdRwPBLIaR1CjGmIi4LSbAI0T2P0Iw67Uu5F8dHpJ4u+KE6mGsLmvIA6SDGLvKwzAXGHD1LI\n",
       "FAOuSn11kOAJKsMkDrU8pjdzz47P+qI0CcEAcHUsVcirLs/DHayAaENiBuyDqlgm0SFwOqgECrJ3\n",
       "JDopK5DTgtdQVEDtZJW9+6WFKfxn3yKiiiEoB8Uy+RoBcvIIbQc6CTijV2K1gKiYTGGWVr2Aam2v\n",
       "IdwG7YhogDEt8IDB/D5kWpneO+hkWqDXqv7plZNKiQPU8LP1Vb/1D2z4PiPlGr/9hq+ajw3JMeP8\n",
       "sXEnOQbaqWu+qJxULA6gNUFvueytd7X5DL2btvyrLXBTZfnvwSPOcKROVYAu8Vy57V/nIXVvVY+h\n",
       "lfbigm0Cd/8PNXqRkO8T5zR3sKgKDH5dyW36uvKJwdkoiYEjXTj+dp2OpAJbaYktWvcfpC3c9HKM\n",
       "He8AAAAASUVORK5CYII=\n",
       "\" style=\"display:inline;vertical-align:middle;\" /></a></span></td></tr>\n",
       "<tr><td>&nbsp;</td><td colspan=4 style-\"text-align:left\"><a class=\"ProveItLink\" href=\"../../../logic/equality/_theory_nbs_/axioms.ipynb#substitution\">proveit.logic.equality.substitution</a></td></tr><tr><td><a name=\"0x46a464496da4ef0a_step26\">26</a></td><td>conjecture</td><td></td><td><span style=\"font-size:20px;\"> <a class=\"ProveItLink\" href=\"../../numerals/decimals/_theory_nbs_/proofs/add_2_3/thm_proof.ipynb\" style=\"text-decoration: none\">&nbsp;&#x22A2;&nbsp;&nbsp;</a><a class=\"ProveItLink\" href=\"../../numerals/decimals/__pv_it/theorems/caae817c1512b17b84dc1fdeaef81b407eaee6890/expr.ipynb\"><img src=\"data:image/png;base64,iVBORw0KGgoAAAANSUhEUgAAAGEAAAAUBAMAAABvx07iAAAAMFBMVEX///9UVFTMzMx2dna6uroQ\n",
       "EBCqqqqIiIgiIiJmZmYyMjJERETu7u6YmJjc3NwAAAC+aOQFAAAAAXRSTlMAQObYZgAAAXNJREFU\n",
       "KM91kzFLw1AQx/9pm9qkTeiqU8EvEOlQ1MEugpsOdVGQbN3cs9SIKOhiRBCkg7pmcOjkor5FqOjg\n",
       "B7AScLGLiDiIVON7L4J5L8kN7967ez/ujrsDzAeky3qGHXfAbbcn2sz6rA0lkL/qj7kjqs5RqWKu\n",
       "KbiGKH6jcioTahhagOFBI1CXIls7Uhs2PoFGIsZUh56lAKoL5Ucg5pv4Am5kQuHnC0VHUN4FAiwr\n",
       "6M1UwuFnaSQRfZpw3pOJgVMDLvl90RKJ511CS+Sl530ujC4T8wPY4T82IcUYa9HM3GQvLoAW0xqP\n",
       "P+P7275/FrmWCXJvSeIkiAgHYoxX4NpOEhNgjWNZFT32J0aEhBEFN1ZHlV5XaAzCK58EOgKxCuyT\n",
       "v8pjQnPfA6bpFG3VD1yBGPB+aJZEDGGsAQu0U2EYikThuEu7p9ckwjwcJ3xKYtKOP/rpw24Ijb2P\n",
       "PxoZ+3GVtTjJaf/fqHQpBxmOzK19Sjf/AgoxYri4J3dRAAAAAElFTkSuQmCC\n",
       "\" style=\"display:inline;vertical-align:middle;\" /></a></span></td></tr>\n",
       "<tr><td>&nbsp;</td><td colspan=4 style-\"text-align:left\"><a class=\"ProveItLink\" href=\"../../numerals/decimals/_theory_nbs_/proofs/add_2_3/thm_proof.ipynb\">proveit.numbers.numerals.decimals.add_2_3</a></td></tr><tr><td><a name=\"0x46a464496da4ef0a_step27\">27</a></td><td>instantiation</td><td><a href=\"#0x46a464496da4ef0a_step44\">44</a>, <a href=\"#0x46a464496da4ef0a_step41\">41</a>, <a href=\"#0x46a464496da4ef0a_step33\">33</a></td><td><span style=\"font-size:20px;\"> <a class=\"ProveItLink\" href=\"../__pv_it/demonstrations/d948fcad243062d6f36d6944277c5a8e1c4be03f0/proof.ipynb\" style=\"text-decoration: none\">&nbsp;&#x22A2;&nbsp;&nbsp;</a><a class=\"ProveItLink\" href=\"../__pv_it/demonstrations/2d6cd38c6935ee7879dbb6ba704fd66eee70bf8d0/expr.ipynb\"><img src=\"data:image/png;base64,iVBORw0KGgoAAAANSUhEUgAAADMAAAARBAMAAACC64kkAAAAMFBMVEX///8iIiK6urpERETc3NyI\n",
       "iIhUVFR2dnYQEBCqqqpmZmbMzMzu7u6YmJgyMjIAAABZcJOfAAAAAXRSTlMAQObYZgAAAPRJREFU\n",
       "GNNj4LvDvZIBFXAvNn6mAKQ5/v8vQJXhSRNhOJd8gIGBrywETROz1gYGnuw3DAxscKHLgoIPQHQs\n",
       "H5CwUUOS2hwDZTzwAhJBzAcY2O5GbQDb8AYqw5KwF0jqsiswMB9g+QQSYXOASjEFzASSWzkvgDiG\n",
       "YMvhTodKTQBx1oM07HgHBGBngA3UZHdgyGNgqAf5zxnuUgOwM4DO6wPqOgDyOlxKF2S2jS4DwwIG\n",
       "BjmQAFcATIod7GWguBcDbwtYRBKu7RYwoNaCvLE86wBY4JjRAZjc/Xc/UcNO3RASUEAjFaYx4ALl\n",
       "nq/CcUixLLZbxAAAm0s7qeofdT0AAAAASUVORK5CYII=\n",
       "\" style=\"display:inline;vertical-align:middle;\" /></a></span></td></tr>\n",
       "<tr><td>&nbsp;</td><td colspan=4 style=\"text-align:left\"><span style=\"font-size:20px;\"><a class=\"ProveItLink\" href=\"../../../__pv_it/common/09585084922504426caf1db2ff588a23a0932a960/expr.ipynb\"><img src=\"data:image/png;base64,iVBORw0KGgoAAAANSUhEUgAAAA8AAAAOBAMAAAACpFvcAAAALVBMVEX///8iIiIQEBBERERUVFS6\n",
       "urqIiIjc3NxmZmaqqqru7u6YmJgyMjLMzMwAAACK9jtgAAAAAXRSTlMAQObYZgAAAFtJREFUCNdj\n",
       "YACBOwxQcA5Kc59bAGGs7CuAMDbkBYBp1gXzNoAZSxnuJYAZAQx1DSCa16PDzwCshIGB6QCIMYGB\n",
       "gVEBSLMDGTwPgIxCIGZ+zsCw+N0pBk67hw0AfpEVEQi8t+wAAAAASUVORK5CYII=\n",
       "\" style=\"display:inline;vertical-align:middle;\" /></a> : <a class=\"ProveItLink\" href=\"../../number_sets/integers/__pv_it/common/e6b4e90f9467053e055a4fd2f735c0bb79cb79300/expr.ipynb\"><img src=\"data:image/png;base64,iVBORw0KGgoAAAANSUhEUgAAAA4AAAAOBAMAAADtZjDiAAAAMFBMVEX///9UVFTc3Nzu7u6qqqp2\n",
       "dnbMzMxmZmZERESIiIiYmJgyMjIQEBAiIiK6uroAAABqpg13AAAAAXRSTlMAQObYZgAAAGVJREFU\n",
       "CNdj4LvzZ/fZPQsYONsTGDZwMDCwBzCwOsQBaQMGRbYCBhBo5jAAUVwTVoG5FswNYFqMUQFE8RU8\n",
       "BXO5GYDCwQwMIawPGBgOMDAJKAINOcDAYdDMwCzVwPCm+0TH+RMFANGWFoagnRaJAAAAAElFTkSu\n",
       "QmCC\n",
       "\" style=\"display:inline;vertical-align:middle;\" /></a>, <a class=\"ProveItLink\" href=\"../../../__pv_it/common/a9162d1c3cc0470c02e5daf414500903a7a419230/expr.ipynb\"><img src=\"data:image/png;base64,iVBORw0KGgoAAAANSUhEUgAAABAAAAAOBAMAAADUAYG5AAAALVBMVEX///8yMjKqqqoiIiLu7u7c\n",
       "3NyIiIjMzMwQEBC6urpERERmZmZUVFSYmJgAAACsPVCVAAAAAXRSTlMAQObYZgAAAGxJREFUCNdj\n",
       "YGC48+70nlUTGICgi4GB+zmQZn/LwMD5Gshge8rAwPsMyOBqYGDwMAEy+A4wsNs4ABl1Z68tVgBp\n",
       "ygtgYOkBMVaAOCChNyBGAsQYhnMTIMawvwJyGIHGzFjCwMAj92b3qUUMDAAXABxvZ4rl5AAAAABJ\n",
       "RU5ErkJggg==\n",
       "\" style=\"display:inline;vertical-align:middle;\" /></a> : <a class=\"ProveItLink\" href=\"../../number_sets/rational_numbers/__pv_it/common/3de3e316334b6ece430a3f1aee01ae68b192ecb30/expr.ipynb\"><img src=\"data:image/png;base64,iVBORw0KGgoAAAANSUhEUgAAABAAAAARBAMAAAAmgTH3AAAALVBMVEX///+qqqp2dnaYmJiIiIjc\n",
       "3NwiIiLu7u66urpUVFQyMjJERERmZmbMzMwAAAAPPdWlAAAAAXRSTlMAQObYZgAAAIFJREFUCNdj\n",
       "YGC4s3vXDAYgqJwWwL5yO5Cx4yyQc6uAgcVgAQMDd8UEBi7WAwwMLA3bGSJ5DRgYOAw0GFoYBRgY\n",
       "eB2EGa5AGIIMnGApAVUGbojiCUB1G0DagcIaIAPvAE1mPhbAvsYAZBnzq3UCDGCgwTgBwmBSlTqi\n",
       "AGbF7F7TAADtgR4r3cUBHgAAAABJRU5ErkJggg==\n",
       "\" style=\"display:inline;vertical-align:middle;\" /></a>, <a class=\"ProveItLink\" href=\"../../../__pv_it/common/a0d9d672aa5e272d907247690c152cc2c6daafb70/expr.ipynb\"><img src=\"data:image/png;base64,iVBORw0KGgoAAAANSUhEUgAAAAsAAAAJBAMAAAAWSsseAAAALVBMVEX///9mZmaqqqrMzMxEREQy\n",
       "MjIiIiKYmJh2dna6urrc3NxUVFSIiIju7u4AAACJHQtQAAAAAXRSTlMAQObYZgAAAEJJREFUCNdj\n",
       "YLhzeuWJAwy8Dew5bAEMHBc43nIuYOBlYHFgAAG+A2DKzgBIMF04x8BzgWGegh/DcgaG22fuiBcw\n",
       "AAATyhBrnyPYZQAAAABJRU5ErkJggg==\n",
       "\" style=\"display:inline;vertical-align:middle;\" /></a> : <a class=\"ProveItLink\" href=\"../../numerals/__pv_it/common/22be4c1fb377b3840c975e8e14bb0ce0d20bb1d90/expr.ipynb\"><img src=\"data:image/png;base64,iVBORw0KGgoAAAANSUhEUgAAAAkAAAAOBAMAAAAPuiubAAAAMFBMVEX///8iIiK6urpERETc3NyI\n",
       "iIhUVFR2dnYQEBCqqqpmZmbMzMzu7u6YmJgyMjIAAABZcJOfAAAAAXRSTlMAQObYZgAAAE1JREFU\n",
       "CNdj4LvDvZKBgeP//wIGBr6yEAYGBjYGBgR5N2oDAwPzAZZPYK4hmFzvwJDHwFCvwNAHZB9gWMDA\n",
       "IMfA4MXA28LAwLI86wADAK3wEDcX5lPUAAAAAElFTkSuQmCC\n",
       "\" style=\"display:inline;vertical-align:middle;\" /></a></span></td></tr><tr><td><a name=\"0x46a464496da4ef0a_step28\">28</a></td><td>conjecture</td><td></td><td><span style=\"font-size:20px;\"> <a class=\"ProveItLink\" href=\"../../numerals/decimals/_theory_nbs_/proofs/tuple_len_2_typical_eq/thm_proof.ipynb\" style=\"text-decoration: none\">&nbsp;&#x22A2;&nbsp;&nbsp;</a><a class=\"ProveItLink\" href=\"../../numerals/decimals/__pv_it/theorems/bb1c1a418873d36ac86831cd16ffb643d1ab33940/expr.ipynb\"><img src=\"data:image/png;base64,iVBORw0KGgoAAAANSUhEUgAAAPsAAAAWBAMAAAD0hvfJAAAAMFBMVEX///8QEBCIiIhmZma6urrM\n",
       "zMxUVFQiIiJERETc3Nzu7u6qqqp2dnaYmJgyMjIAAAAcRTyBAAAAAXRSTlMAQObYZgAAAxVJREFU\n",
       "SMe9lk9o01Acx39N1iZNk3YHT4JQ1A68hR1EcMOKh52k9eJBhNWhB0EkFyfOHeZBWA9CTm4ehKjg\n",
       "xg426EH0YnFFwT9Y8KKC0oMTpjCGILgeWt/v5b0mbfrSiuCDpl/e++X7Sd775fcegLidgr8ZjIwO\n",
       "t7gTOZysQ42L7vaEXmu9N3gdtweDUzZe9Tw1aqD+HA5a5YargU7tmgWQsMV4bSEafe/QdYDzDI9G\n",
       "r1F/DwducsJmsDdtEkRDjE8Tx9RuIV0rwbs8PGB4NFrG+Q0/s2EyQxR+y7jk8lyMfw9w/0VTiJcd\n",
       "iI2CnvXwaJQmKaC7oUDFZoaKHewuYMLcEeOv4AOL8TELEjugjTI8MTJera0thQOXuGH32Es6w3kR\n",
       "PmlF49NNSPwC+MrwaPR7cXE+HLiPE1AkJ8bZen7be5jcaYrwkhmNx9kko+sMj0bnAMp8bGSLqxuc\n",
       "gOKond72UqflVGwwGnxQ36LN5Hi1PhBfqAJ8YXg0OsZSmbZ1Lq5yAhHaHpC95Ew1IZOFlCV6e8Ud\n",
       "iJ8lv8cMj0YKSH5h+cHFLk4gQm6CkvUytwGVKsS3RfhYfhBexpmaZng00uuKP7rTDx9bgEqRf/YF\n",
       "95/wmEpd+GTjJJajsQ0sxD/HnPDkkxd+xj77OhxxYMTqWfvS0JOfMuEWwBTDU6PyWbK8l+J4kzQn\n",
       "meHUq7hw0SvUmTzJg0Dq9b79wNQ7DXCgO/XgkYVLEscnUbNGw8/BGhOkd1aHChlJ1FXyeHJVhKef\n",
       "pETwGEwvWisokvNvDhLOBMNTI5LLEHOlEl07ueSZTXECEdpM7uZ+UOaIGn+LGVAU4XE25TOtSRoM\n",
       "SollOhWXybKm2+02CdngZQeNDNJfsdVP5C/jxFxh0X3KxUp00e0O9pe9s8FrFsOvdIqxPX0clh3F\n",
       "+SDecqpcRG85PcGdpvsqsOWwcjfzcBJOuPELndvKnMBLopblImLDVe2eYL/d7ajghhtsbtRxw+Aj\n",
       "6hDHDSOc9H5tKzO8avc5BfmHrVz/w9ZHes312ueGPWwZFCMVmZHfD/+9/QF9Af9Lm1VaRQAAAABJ\n",
       "RU5ErkJggg==\n",
       "\" style=\"display:inline;vertical-align:middle;\" /></a></span></td></tr>\n",
       "<tr><td>&nbsp;</td><td colspan=4 style-\"text-align:left\"><a class=\"ProveItLink\" href=\"../../numerals/decimals/_theory_nbs_/proofs/tuple_len_2_typical_eq/thm_proof.ipynb\">proveit.numbers.numerals.decimals.tuple_len_2_typical_eq</a></td></tr><tr><td><a name=\"0x46a464496da4ef0a_step29\">29</a></td><td>instantiation</td><td><a href=\"#0x46a464496da4ef0a_step44\">44</a>, <a href=\"#0x46a464496da4ef0a_step34\">34</a>, <a href=\"#0x46a464496da4ef0a_step35\">35</a></td><td><span style=\"font-size:20px;\"><a class=\"ProveItLink\" href=\"../__pv_it/demonstrations/6051a0540e9e0a0b592a6d597e12da191c24af4b0/expr.ipynb\"><img src=\"data:image/png;base64,iVBORw0KGgoAAAANSUhEUgAAAD0AAAAPBAMAAACl/tp8AAAAMFBMVEX////MzMyYmJjc3NyIiIhU\n",
       "VFR2dna6urqqqqpmZmYyMjIiIiIQEBBERETu7u4AAACIO4EmAAAAAXRSTlMAQObYZgAAANxJREFU\n",
       "GNNj4LuzgQEFaJ+9v+qsAoLPNQFVnmHBUwZZ3QcMtXeB4AEDA38DmvwFMwZe5gA4t/4BlKG7e/cC\n",
       "qDynwQK4fDaUlvVD6Oc0uACXX+oyA0TxrUMyn5Udbj7frwfvDYA0qwGSfPcsmKUMHP8Y+B2ANC/C\n",
       "fTa7dyHczLmA4X0CkJZZBQRQ91XyPkD2fj1ItS2S/zgLEc7jV2CYD1LNg+z/eyoI+QK+Q2B7HJDk\n",
       "RTkFYDxWBV5IAO9ACl+2hkC4/6YkQRhPrz+Axc9Chrvr0UOdgaHs9u4FGIIAV7ZG6f/qy2MAAAAA\n",
       "SUVORK5CYII=\n",
       "\" style=\"display:inline;vertical-align:middle;\" /></a> <a class=\"ProveItLink\" href=\"../__pv_it/demonstrations/bde4d34a83e4b36c385834a5d962ed4d8ef8656f0/proof.ipynb\" style=\"text-decoration: none\">&nbsp;&#x22A2;&nbsp;&nbsp;</a><a class=\"ProveItLink\" href=\"../../addition/__pv_it/theorems/01066498eeade39164943c7fc785297aa9d0bb160/expr.ipynb\"><img src=\"data:image/png;base64,iVBORw0KGgoAAAANSUhEUgAAADEAAAAPBAMAAAC/wjryAAAAMFBMVEX////MzMyYmJjc3NyIiIhU\n",
       "VFR2dna6urqqqqpmZmYyMjIiIiIQEBBERETu7u4AAACIO4EmAAAAAXRSTlMAQObYZgAAANJJREFU\n",
       "GNNj4LuzgQEFaJ+9v+qsAojFNQFVhmHBUwZZ3QdABn8DmswFMwZe5gAgo/4BVER39+4FUBlOAxAr\n",
       "Gyoh64fQw2lwAchY6jIDxOdbh2QaKzvQNL5fD94bAPmsBkgy3bOAVnD8Y+B3APJ5ES6w2b0L5CrO\n",
       "BQzvE4C0zCoggLqgkvcBxDv1IBW2SK7mLAQ5gF+BYT5IBQ+yf+6pgGQK+A6B+JwOSDKinAJANynw\n",
       "QoJnB1LosDUEAl09JQki8PT6A1iILmS4ux45zMpuQ0IHCgBwWkIYWdoBRwAAAABJRU5ErkJggg==\n",
       "\" style=\"display:inline;vertical-align:middle;\" /></a></span></td></tr>\n",
       "<tr><td>&nbsp;</td><td colspan=4 style=\"text-align:left\"><span style=\"font-size:20px;\"><a class=\"ProveItLink\" href=\"../../../__pv_it/common/09585084922504426caf1db2ff588a23a0932a960/expr.ipynb\"><img src=\"data:image/png;base64,iVBORw0KGgoAAAANSUhEUgAAAA8AAAAOBAMAAAACpFvcAAAALVBMVEX///8iIiIQEBBERERUVFS6\n",
       "urqIiIjc3NxmZmaqqqru7u6YmJgyMjLMzMwAAACK9jtgAAAAAXRSTlMAQObYZgAAAFtJREFUCNdj\n",
       "YACBOwxQcA5Kc59bAGGs7CuAMDbkBYBp1gXzNoAZSxnuJYAZAQx1DSCa16PDzwCshIGB6QCIMYGB\n",
       "gVEBSLMDGTwPgIxCIGZ+zsCw+N0pBk67hw0AfpEVEQi8t+wAAAAASUVORK5CYII=\n",
       "\" style=\"display:inline;vertical-align:middle;\" /></a> : <a class=\"ProveItLink\" href=\"../../number_sets/real_numbers/__pv_it/common/25f9f3c17fa110a939147a9d49561d0d559c20ba0/expr.ipynb\"><img src=\"data:image/png;base64,iVBORw0KGgoAAAANSUhEUgAAABsAAAAOBAMAAAAs4XpOAAAAMFBMVEX///+IiIiqqqq6urpmZmZ2\n",
       "dnbc3NzMzMxUVFTu7u4yMjJEREQQEBAiIiKYmJgAAACIyPRpAAAAAXRSTlMAQObYZgAAAGRJREFU\n",
       "CNdjeHt6/6rTDxjgYMEMhurXExisdwPBBAaGDakM3GwNcFkglyVhASp3AzKXgxlFsa7XBAQ35+4t\n",
       "BQYkWRPuCchcFvMNyFyGnQ9RuBUsBciOZFVoh/GAXljOsHs91GwABkgnaQ/nc4UAAAAASUVORK5C\n",
       "YII=\n",
       "\" style=\"display:inline;vertical-align:middle;\" /></a>, <a class=\"ProveItLink\" href=\"../../../__pv_it/common/a9162d1c3cc0470c02e5daf414500903a7a419230/expr.ipynb\"><img src=\"data:image/png;base64,iVBORw0KGgoAAAANSUhEUgAAABAAAAAOBAMAAADUAYG5AAAALVBMVEX///8yMjKqqqoiIiLu7u7c\n",
       "3NyIiIjMzMwQEBC6urpERERmZmZUVFSYmJgAAACsPVCVAAAAAXRSTlMAQObYZgAAAGxJREFUCNdj\n",
       "YGC48+70nlUTGICgi4GB+zmQZn/LwMD5Gshge8rAwPsMyOBqYGDwMAEy+A4wsNs4ABl1Z68tVgBp\n",
       "ygtgYOkBMVaAOCChNyBGAsQYhnMTIMawvwJyGIHGzFjCwMAj92b3qUUMDAAXABxvZ4rl5AAAAABJ\n",
       "RU5ErkJggg==\n",
       "\" style=\"display:inline;vertical-align:middle;\" /></a> : <a class=\"ProveItLink\" href=\"../../number_sets/real_numbers/__pv_it/common/93cac87a1a47e613f7a83b23ef7891599a1a4cca0/expr.ipynb\"><img src=\"data:image/png;base64,iVBORw0KGgoAAAANSUhEUgAAAA8AAAAOBAMAAAACpFvcAAAAMFBMVEX///+IiIiqqqq6urpmZmZ2\n",
       "dnbc3NzMzMxUVFTu7u4yMjJEREQQEBAiIiKYmJgAAACIyPRpAAAAAXRSTlMAQObYZgAAAFlJREFU\n",
       "CNdjeHt6/6rTDxiAYMEMhurXE4CMDakM3GwNEAZLwgIYYwOEwcEMldL1AivOuXtLgQEsYsI9AcJg\n",
       "Md8AYTDsfAhlVLAUQKxgVWhnYABaupxh93oFAP7MI7KHKGXxAAAAAElFTkSuQmCC\n",
       "\" style=\"display:inline;vertical-align:middle;\" /></a>, <a class=\"ProveItLink\" href=\"../../../__pv_it/common/a0d9d672aa5e272d907247690c152cc2c6daafb70/expr.ipynb\"><img src=\"data:image/png;base64,iVBORw0KGgoAAAANSUhEUgAAAAsAAAAJBAMAAAAWSsseAAAALVBMVEX///9mZmaqqqrMzMxEREQy\n",
       "MjIiIiKYmJh2dna6urrc3NxUVFSIiIju7u4AAACJHQtQAAAAAXRSTlMAQObYZgAAAEJJREFUCNdj\n",
       "YLhzeuWJAwy8Dew5bAEMHBc43nIuYOBlYHFgAAG+A2DKzgBIMF04x8BzgWGegh/DcgaG22fuiBcw\n",
       "AAATyhBrnyPYZQAAAABJRU5ErkJggg==\n",
       "\" style=\"display:inline;vertical-align:middle;\" /></a> : <a class=\"ProveItLink\" href=\"../../../__pv_it/common/195236b98c6c564a75b5dbada74b173bc52d5c3e0/expr.ipynb\"><img src=\"data:image/png;base64,iVBORw0KGgoAAAANSUhEUgAAAAkAAAAOBAMAAAAPuiubAAAALVBMVEX///+YmJjc3NyIiIhUVFR2\n",
       "dna6urqqqqpmZmYyMjIiIiIQEBBERETu7u4AAAALjtrwAAAAAXRSTlMAQObYZgAAAE9JREFUCNdj\n",
       "4D29gAEIOBtAJF8BiMy7ACKjQATDFON2BgbelxfuKTCwv2XgM2DgmMBwLwCkPK+AgU+Aoe8CA18C\n",
       "70YGBhYBHqARvM2BDAwAqXgQspq5HJAAAAAASUVORK5CYII=\n",
       "\" style=\"display:inline;vertical-align:middle;\" /></a></span></td></tr><tr><td><a name=\"0x46a464496da4ef0a_step30\">30</a></td><td>instantiation</td><td><a href=\"#0x46a464496da4ef0a_step44\">44</a>, <a href=\"#0x46a464496da4ef0a_step37\">37</a>, <a href=\"#0x46a464496da4ef0a_step36\">36</a></td><td><span style=\"font-size:20px;\"> <a class=\"ProveItLink\" href=\"../__pv_it/demonstrations/be536f31e8868766fb90814dc0071635e21f35d80/proof.ipynb\" style=\"text-decoration: none\">&nbsp;&#x22A2;&nbsp;&nbsp;</a><a class=\"ProveItLink\" href=\"../__pv_it/demonstrations/57754d9d3568aedb4dee9605bffb87b9992015de0/expr.ipynb\"><img src=\"data:image/png;base64,iVBORw0KGgoAAAANSUhEUgAAADIAAAAPBAMAAABU9YHxAAAAMFBMVEX///+YmJiqqqqIiIgyMjLc\n",
       "3NwiIiIQEBC6urp2dnZUVFTMzMxERERmZmbu7u4AAADrYmUNAAAAAXRSTlMAQObYZgAAANVJREFU\n",
       "GNNj4Lt7ZgMDMmBMP/PF/SCQ8YqB8weKDAML3wLug+cYGO4xMJSjyvCwTmA4EMXAUMbAsD4ALCKT\n",
       "luYAk7nKwsDg/4BhPdiiPXZIeq7ygJn5D4AEnx+yaQu6QCyOnyCSKwBJhikXrI5tAZiP5IKyNCcw\n",
       "6y6Y3O4CBFAXzLhwDsRgvgCWiUF29Y09IIYuAyvICnZkGZ6HBgwM3BMYmEEyvAZIMtwLbjMwhM2c\n",
       "uwwskIQUOgyTuDYw+P///w0s8OrEA3iIbuA58gkpvDqPQUIHCgBnrj0uOO3EnwAAAABJRU5ErkJg\n",
       "gg==\n",
       "\" style=\"display:inline;vertical-align:middle;\" /></a></span></td></tr>\n",
       "<tr><td>&nbsp;</td><td colspan=4 style=\"text-align:left\"><span style=\"font-size:20px;\"><a class=\"ProveItLink\" href=\"../../../__pv_it/common/09585084922504426caf1db2ff588a23a0932a960/expr.ipynb\"><img src=\"data:image/png;base64,iVBORw0KGgoAAAANSUhEUgAAAA8AAAAOBAMAAAACpFvcAAAALVBMVEX///8iIiIQEBBERERUVFS6\n",
       "urqIiIjc3NxmZmaqqqru7u6YmJgyMjLMzMwAAACK9jtgAAAAAXRSTlMAQObYZgAAAFtJREFUCNdj\n",
       "YACBOwxQcA5Kc59bAGGs7CuAMDbkBYBp1gXzNoAZSxnuJYAZAQx1DSCa16PDzwCshIGB6QCIMYGB\n",
       "gVEBSLMDGTwPgIxCIGZ+zsCw+N0pBk67hw0AfpEVEQi8t+wAAAAASUVORK5CYII=\n",
       "\" style=\"display:inline;vertical-align:middle;\" /></a> : <a class=\"ProveItLink\" href=\"../../number_sets/rational_numbers/__pv_it/common/3de3e316334b6ece430a3f1aee01ae68b192ecb30/expr.ipynb\"><img src=\"data:image/png;base64,iVBORw0KGgoAAAANSUhEUgAAABAAAAARBAMAAAAmgTH3AAAALVBMVEX///+qqqp2dnaYmJiIiIjc\n",
       "3NwiIiLu7u66urpUVFQyMjJERERmZmbMzMwAAAAPPdWlAAAAAXRSTlMAQObYZgAAAIFJREFUCNdj\n",
       "YGC4s3vXDAYgqJwWwL5yO5Cx4yyQc6uAgcVgAQMDd8UEBi7WAwwMLA3bGSJ5DRgYOAw0GFoYBRgY\n",
       "eB2EGa5AGIIMnGApAVUGbojiCUB1G0DagcIaIAPvAE1mPhbAvsYAZBnzq3UCDGCgwTgBwmBSlTqi\n",
       "AGbF7F7TAADtgR4r3cUBHgAAAABJRU5ErkJggg==\n",
       "\" style=\"display:inline;vertical-align:middle;\" /></a>, <a class=\"ProveItLink\" href=\"../../../__pv_it/common/a9162d1c3cc0470c02e5daf414500903a7a419230/expr.ipynb\"><img src=\"data:image/png;base64,iVBORw0KGgoAAAANSUhEUgAAABAAAAAOBAMAAADUAYG5AAAALVBMVEX///8yMjKqqqoiIiLu7u7c\n",
       "3NyIiIjMzMwQEBC6urpERERmZmZUVFSYmJgAAACsPVCVAAAAAXRSTlMAQObYZgAAAGxJREFUCNdj\n",
       "YGC48+70nlUTGICgi4GB+zmQZn/LwMD5Gshge8rAwPsMyOBqYGDwMAEy+A4wsNs4ABl1Z68tVgBp\n",
       "ygtgYOkBMVaAOCChNyBGAsQYhnMTIMawvwJyGIHGzFjCwMAj92b3qUUMDAAXABxvZ4rl5AAAAABJ\n",
       "RU5ErkJggg==\n",
       "\" style=\"display:inline;vertical-align:middle;\" /></a> : <a class=\"ProveItLink\" href=\"../../number_sets/real_numbers/__pv_it/common/93cac87a1a47e613f7a83b23ef7891599a1a4cca0/expr.ipynb\"><img src=\"data:image/png;base64,iVBORw0KGgoAAAANSUhEUgAAAA8AAAAOBAMAAAACpFvcAAAAMFBMVEX///+IiIiqqqq6urpmZmZ2\n",
       "dnbc3NzMzMxUVFTu7u4yMjJEREQQEBAiIiKYmJgAAACIyPRpAAAAAXRSTlMAQObYZgAAAFlJREFU\n",
       "CNdjeHt6/6rTDxiAYMEMhurXE4CMDakM3GwNEAZLwgIYYwOEwcEMldL1AivOuXtLgQEsYsI9AcJg\n",
       "Md8AYTDsfAhlVLAUQKxgVWhnYABaupxh93oFAP7MI7KHKGXxAAAAAElFTkSuQmCC\n",
       "\" style=\"display:inline;vertical-align:middle;\" /></a>, <a class=\"ProveItLink\" href=\"../../../__pv_it/common/a0d9d672aa5e272d907247690c152cc2c6daafb70/expr.ipynb\"><img src=\"data:image/png;base64,iVBORw0KGgoAAAANSUhEUgAAAAsAAAAJBAMAAAAWSsseAAAALVBMVEX///9mZmaqqqrMzMxEREQy\n",
       "MjIiIiKYmJh2dna6urrc3NxUVFSIiIju7u4AAACJHQtQAAAAAXRSTlMAQObYZgAAAEJJREFUCNdj\n",
       "YLhzeuWJAwy8Dew5bAEMHBc43nIuYOBlYHFgAAG+A2DKzgBIMF04x8BzgWGegh/DcgaG22fuiBcw\n",
       "AAATyhBrnyPYZQAAAABJRU5ErkJggg==\n",
       "\" style=\"display:inline;vertical-align:middle;\" /></a> : <a class=\"ProveItLink\" href=\"../../numerals/__pv_it/common/ba3b059982e8b49413dc653e957beb11e974e4bc0/expr.ipynb\"><img src=\"data:image/png;base64,iVBORw0KGgoAAAANSUhEUgAAAAkAAAAOBAMAAAAPuiubAAAALVBMVEX///+qqqqIiIgyMjLc3Nwi\n",
       "IiIQEBC6urp2dnZUVFTMzMxERERmZmbu7u4AAAAQI6y7AAAAAXRSTlMAQObYZgAAAFJJREFUCNdj\n",
       "4D2zewEDw00GjucMDGcZGNIYGFIZGOY5MNhdYJgHlGBgiLsAJNhfgJisE0DkGRDBdABEyjCwODBw\n",
       "NTAwOTC4dvRMZWCwe/fuKQMANh0TGKpG4roAAAAASUVORK5CYII=\n",
       "\" style=\"display:inline;vertical-align:middle;\" /></a></span></td></tr><tr><td><a name=\"0x46a464496da4ef0a_step31\">31</a></td><td>conjecture</td><td></td><td><span style=\"font-size:20px;\"> <a class=\"ProveItLink\" href=\"../../number_sets/complex_numbers/_theory_nbs_/proofs/real_within_complex/thm_proof.ipynb\" style=\"text-decoration: none\">&nbsp;&#x22A2;&nbsp;&nbsp;</a><a class=\"ProveItLink\" href=\"../../number_sets/complex_numbers/__pv_it/theorems/194b3c30e61cf8941008b764e42b5ade58636b2b0/expr.ipynb\"><img src=\"data:image/png;base64,iVBORw0KGgoAAAANSUhEUgAAADoAAAAPBAMAAABHIsEFAAAAMFBMVEX///+IiIiqqqq6urpmZmZ2\n",
       "dnbc3NzMzMxUVFTu7u4yMjJEREQQEBAiIiKYmJgAAACIyPRpAAAAAXRSTlMAQObYZgAAAONJREFU\n",
       "GNNjeHt6/6rTDxgwgNStP7cdGBgWzGCofj0BXbL8E8OUf0DZDakM3GwNaJJ8HAIMDO8hsiwJCyCC\n",
       "r+/evXsdxHjOAzSNAya7ASyZFQbT65ANJDgFwLIczBCTr8EkORtKoCygrK4X2FUsCjBZtgBDmGzO\n",
       "3VsQYV64o9gc4LKpJtwQD2XAZTk3lMJlWcwhjpqN8NFKDoS9Ox+imczwBCw7ASxbwVIA4rAKwGW5\n",
       "hYFs5gXgkGRVaAeLLUJo9to6YdLuCQzAWFjOsHs92NUzmuHhze51/koBWvCW7oWGJBQAAGgURyiB\n",
       "GqKtAAAAAElFTkSuQmCC\n",
       "\" style=\"display:inline;vertical-align:middle;\" /></a></span></td></tr>\n",
       "<tr><td>&nbsp;</td><td colspan=4 style-\"text-align:left\"><a class=\"ProveItLink\" href=\"../../number_sets/complex_numbers/_theory_nbs_/proofs/real_within_complex/thm_proof.ipynb\">proveit.numbers.number_sets.complex_numbers.real_within_complex</a></td></tr><tr><td><a name=\"0x46a464496da4ef0a_step32\">32</a></td><td>instantiation</td><td><a href=\"#0x46a464496da4ef0a_step44\">44</a>, <a href=\"#0x46a464496da4ef0a_step37\">37</a>, <a href=\"#0x46a464496da4ef0a_step38\">38</a></td><td><span style=\"font-size:20px;\"> <a class=\"ProveItLink\" href=\"../__pv_it/demonstrations/d049a09974bf57a918b1102c8c097956dfd381ec0/proof.ipynb\" style=\"text-decoration: none\">&nbsp;&#x22A2;&nbsp;&nbsp;</a><a class=\"ProveItLink\" href=\"../__pv_it/demonstrations/dc5bf7805ddee390c76a8f5f5f0e5e802616f69d0/expr.ipynb\"><img src=\"data:image/png;base64,iVBORw0KGgoAAAANSUhEUgAAADMAAAAPBAMAAAC7N+rPAAAAMFBMVEX///9UVFTMzMzu7u4yMjIQ\n",
       "EBC6uroiIiKIiIiYmJhmZmaqqqpERER2dnbc3NwAAACDMjhQAAAAAXRSTlMAQObYZgAAANRJREFU\n",
       "GNNjYHh79zQDCpgec94lZgKQwbeAYf8EVDkHQwadOQYMDBy/GfgLUKUOvGXg4RNgYGALY+B3AItw\n",
       "Hi8vgUlxPYCIQQxkOmGA0MX14ACIxVwLFjAxQDKQkU0A5I7ri8ECcsh2bV8CUdiaABZASD0tL9kA\n",
       "YbIGg6wKcQECqK4sHpAmvgcMPL9BNJKut1xJIB7/Z4gUQwCyXYdngEw7wMD+GSSwAllKkUsB6NEJ\n",
       "UH+xb0AKKN4NQkBG1qpjYAFmmWR48DoxnPHfgBR0bHegAQUFADmlQtNh0ST9AAAAAElFTkSuQmCC\n",
       "\" style=\"display:inline;vertical-align:middle;\" /></a></span></td></tr>\n",
       "<tr><td>&nbsp;</td><td colspan=4 style=\"text-align:left\"><span style=\"font-size:20px;\"><a class=\"ProveItLink\" href=\"../../../__pv_it/common/09585084922504426caf1db2ff588a23a0932a960/expr.ipynb\"><img src=\"data:image/png;base64,iVBORw0KGgoAAAANSUhEUgAAAA8AAAAOBAMAAAACpFvcAAAALVBMVEX///8iIiIQEBBERERUVFS6\n",
       "urqIiIjc3NxmZmaqqqru7u6YmJgyMjLMzMwAAACK9jtgAAAAAXRSTlMAQObYZgAAAFtJREFUCNdj\n",
       "YACBOwxQcA5Kc59bAGGs7CuAMDbkBYBp1gXzNoAZSxnuJYAZAQx1DSCa16PDzwCshIGB6QCIMYGB\n",
       "gVEBSLMDGTwPgIxCIGZ+zsCw+N0pBk67hw0AfpEVEQi8t+wAAAAASUVORK5CYII=\n",
       "\" style=\"display:inline;vertical-align:middle;\" /></a> : <a class=\"ProveItLink\" href=\"../../number_sets/rational_numbers/__pv_it/common/3de3e316334b6ece430a3f1aee01ae68b192ecb30/expr.ipynb\"><img src=\"data:image/png;base64,iVBORw0KGgoAAAANSUhEUgAAABAAAAARBAMAAAAmgTH3AAAALVBMVEX///+qqqp2dnaYmJiIiIjc\n",
       "3NwiIiLu7u66urpUVFQyMjJERERmZmbMzMwAAAAPPdWlAAAAAXRSTlMAQObYZgAAAIFJREFUCNdj\n",
       "YGC4s3vXDAYgqJwWwL5yO5Cx4yyQc6uAgcVgAQMDd8UEBi7WAwwMLA3bGSJ5DRgYOAw0GFoYBRgY\n",
       "eB2EGa5AGIIMnGApAVUGbojiCUB1G0DagcIaIAPvAE1mPhbAvsYAZBnzq3UCDGCgwTgBwmBSlTqi\n",
       "AGbF7F7TAADtgR4r3cUBHgAAAABJRU5ErkJggg==\n",
       "\" style=\"display:inline;vertical-align:middle;\" /></a>, <a class=\"ProveItLink\" href=\"../../../__pv_it/common/a9162d1c3cc0470c02e5daf414500903a7a419230/expr.ipynb\"><img src=\"data:image/png;base64,iVBORw0KGgoAAAANSUhEUgAAABAAAAAOBAMAAADUAYG5AAAALVBMVEX///8yMjKqqqoiIiLu7u7c\n",
       "3NyIiIjMzMwQEBC6urpERERmZmZUVFSYmJgAAACsPVCVAAAAAXRSTlMAQObYZgAAAGxJREFUCNdj\n",
       "YGC48+70nlUTGICgi4GB+zmQZn/LwMD5Gshge8rAwPsMyOBqYGDwMAEy+A4wsNs4ABl1Z68tVgBp\n",
       "ygtgYOkBMVaAOCChNyBGAsQYhnMTIMawvwJyGIHGzFjCwMAj92b3qUUMDAAXABxvZ4rl5AAAAABJ\n",
       "RU5ErkJggg==\n",
       "\" style=\"display:inline;vertical-align:middle;\" /></a> : <a class=\"ProveItLink\" href=\"../../number_sets/real_numbers/__pv_it/common/93cac87a1a47e613f7a83b23ef7891599a1a4cca0/expr.ipynb\"><img src=\"data:image/png;base64,iVBORw0KGgoAAAANSUhEUgAAAA8AAAAOBAMAAAACpFvcAAAAMFBMVEX///+IiIiqqqq6urpmZmZ2\n",
       "dnbc3NzMzMxUVFTu7u4yMjJEREQQEBAiIiKYmJgAAACIyPRpAAAAAXRSTlMAQObYZgAAAFlJREFU\n",
       "CNdjeHt6/6rTDxiAYMEMhurXE4CMDakM3GwNEAZLwgIYYwOEwcEMldL1AivOuXtLgQEsYsI9AcJg\n",
       "Md8AYTDsfAhlVLAUQKxgVWhnYABaupxh93oFAP7MI7KHKGXxAAAAAElFTkSuQmCC\n",
       "\" style=\"display:inline;vertical-align:middle;\" /></a>, <a class=\"ProveItLink\" href=\"../../../__pv_it/common/a0d9d672aa5e272d907247690c152cc2c6daafb70/expr.ipynb\"><img src=\"data:image/png;base64,iVBORw0KGgoAAAANSUhEUgAAAAsAAAAJBAMAAAAWSsseAAAALVBMVEX///9mZmaqqqrMzMxEREQy\n",
       "MjIiIiKYmJh2dna6urrc3NxUVFSIiIju7u4AAACJHQtQAAAAAXRSTlMAQObYZgAAAEJJREFUCNdj\n",
       "YLhzeuWJAwy8Dew5bAEMHBc43nIuYOBlYHFgAAG+A2DKzgBIMF04x8BzgWGegh/DcgaG22fuiBcw\n",
       "AAATyhBrnyPYZQAAAABJRU5ErkJggg==\n",
       "\" style=\"display:inline;vertical-align:middle;\" /></a> : <a class=\"ProveItLink\" href=\"../../numerals/__pv_it/common/0a19a501c0770212f27a044b71e9c626b8ca0bec0/expr.ipynb\"><img src=\"data:image/png;base64,iVBORw0KGgoAAAANSUhEUgAAAAoAAAAOBAMAAADkjZCYAAAAKlBMVEX////u7u4yMjIQEBC6uroi\n",
       "IiKIiIiYmJhmZmaqqqpERER2dnbc3NwAAAAz17lDAAAAAXRSTlMAQObYZgAAAE5JREFUCNdjYDi9\n",
       "eyUDA08Dw9wCBrabDLwBDCwmDLwKDEAAFGFgYIwGEjxbG0ECDMkOIJLZkIHnAAMXUPFFEMm8gIH1\n",
       "IgN7AVi9R8cSBgCvphDNutx7AgAAAABJRU5ErkJggg==\n",
       "\" style=\"display:inline;vertical-align:middle;\" /></a></span></td></tr><tr><td><a name=\"0x46a464496da4ef0a_step33\">33</a></td><td>instantiation</td><td><a href=\"#0x46a464496da4ef0a_step44\">44</a>, <a href=\"#0x46a464496da4ef0a_step45\">45</a>, <a href=\"#0x46a464496da4ef0a_step39\">39</a></td><td><span style=\"font-size:20px;\"> <a class=\"ProveItLink\" href=\"../__pv_it/demonstrations/abc093ffd73d8ed3f25295b84d7d39ba5e3e73770/proof.ipynb\" style=\"text-decoration: none\">&nbsp;&#x22A2;&nbsp;&nbsp;</a><a class=\"ProveItLink\" href=\"../__pv_it/demonstrations/c5457d43cce409e0cbb80303f2e0c6a5fd82a0ce0/expr.ipynb\"><img src=\"data:image/png;base64,iVBORw0KGgoAAAANSUhEUgAAADEAAAAPBAMAAAC/wjryAAAAMFBMVEX///8iIiK6urpERETc3NyI\n",
       "iIhUVFR2dnYQEBCqqqpmZmbMzMzu7u6YmJgyMjIAAABZcJOfAAAAAXRSTlMAQObYZgAAANxJREFU\n",
       "GNNj4LvDvZIBBSj2972Q62Vg4Pj/vwBVJng1Ax+DAQMDX1kIqgTDcgaGSnYFBgY2uMhlQcEHIHoN\n",
       "A0vCLgYkmc0xcDXMB2xAMnejNoB4PG8Q5l3lvQCWZ/kE4rE5wCV4DA5DWYZgExBa2DakQFnrQcp3\n",
       "vAMCsAsYtJjA/shjYKgHOpHBGaHnAVA/+wGGPqCeA0AuB1yCfUIRmLuAgUEOxOcKgMm4sSQwMKxg\n",
       "YPBi4G0BC0jCZGyYDzAcu8zAwLI86wBY4JgRhGZqfmFs8cMKObzUDSGhAwUALd8zntZpoxgAAAAA\n",
       "SUVORK5CYII=\n",
       "\" style=\"display:inline;vertical-align:middle;\" /></a></span></td></tr>\n",
       "<tr><td>&nbsp;</td><td colspan=4 style=\"text-align:left\"><span style=\"font-size:20px;\"><a class=\"ProveItLink\" href=\"../../../__pv_it/common/09585084922504426caf1db2ff588a23a0932a960/expr.ipynb\"><img src=\"data:image/png;base64,iVBORw0KGgoAAAANSUhEUgAAAA8AAAAOBAMAAAACpFvcAAAALVBMVEX///8iIiIQEBBERERUVFS6\n",
       "urqIiIjc3NxmZmaqqqru7u6YmJgyMjLMzMwAAACK9jtgAAAAAXRSTlMAQObYZgAAAFtJREFUCNdj\n",
       "YACBOwxQcA5Kc59bAGGs7CuAMDbkBYBp1gXzNoAZSxnuJYAZAQx1DSCa16PDzwCshIGB6QCIMYGB\n",
       "gVEBSLMDGTwPgIxCIGZ+zsCw+N0pBk67hw0AfpEVEQi8t+wAAAAASUVORK5CYII=\n",
       "\" style=\"display:inline;vertical-align:middle;\" /></a> : <a class=\"ProveItLink\" href=\"../../number_sets/natural_numbers/__pv_it/common/8b7c321957f52ed3b05b36af612eeae4fa4783bc0/expr.ipynb\"><img src=\"data:image/png;base64,iVBORw0KGgoAAAANSUhEUgAAAA8AAAAOBAMAAAACpFvcAAAAMFBMVEX///9mZmaqqqrc3NyIiIgi\n",
       "IiJUVFTMzMyYmJi6uroQEBB2dnZEREQyMjLu7u4AAAA1o4RqAAAAAXRSTlMAQObYZgAAAGVJREFU\n",
       "CNdjePvn7AOGXb8mMDCcYE9g4PvAwMCQWuDCwLAAyMg8x1bAEABkJJfx3YMwmBzKIAyGnRwOEAbb\n",
       "g3QIgy+BdwGYwVDNDmVwKBwAMtKBeDOIcQmIGS8wMJT+AvL4LjAAADA2HcoIlkTkAAAAAElFTkSu\n",
       "QmCC\n",
       "\" style=\"display:inline;vertical-align:middle;\" /></a>, <a class=\"ProveItLink\" href=\"../../../__pv_it/common/a9162d1c3cc0470c02e5daf414500903a7a419230/expr.ipynb\"><img src=\"data:image/png;base64,iVBORw0KGgoAAAANSUhEUgAAABAAAAAOBAMAAADUAYG5AAAALVBMVEX///8yMjKqqqoiIiLu7u7c\n",
       "3NyIiIjMzMwQEBC6urpERERmZmZUVFSYmJgAAACsPVCVAAAAAXRSTlMAQObYZgAAAGxJREFUCNdj\n",
       "YGC48+70nlUTGICgi4GB+zmQZn/LwMD5Gshge8rAwPsMyOBqYGDwMAEy+A4wsNs4ABl1Z68tVgBp\n",
       "ygtgYOkBMVaAOCChNyBGAsQYhnMTIMawvwJyGIHGzFjCwMAj92b3qUUMDAAXABxvZ4rl5AAAAABJ\n",
       "RU5ErkJggg==\n",
       "\" style=\"display:inline;vertical-align:middle;\" /></a> : <a class=\"ProveItLink\" href=\"../../number_sets/integers/__pv_it/common/e6b4e90f9467053e055a4fd2f735c0bb79cb79300/expr.ipynb\"><img src=\"data:image/png;base64,iVBORw0KGgoAAAANSUhEUgAAAA4AAAAOBAMAAADtZjDiAAAAMFBMVEX///9UVFTc3Nzu7u6qqqp2\n",
       "dnbMzMxmZmZERESIiIiYmJgyMjIQEBAiIiK6uroAAABqpg13AAAAAXRSTlMAQObYZgAAAGVJREFU\n",
       "CNdj4LvzZ/fZPQsYONsTGDZwMDCwBzCwOsQBaQMGRbYCBhBo5jAAUVwTVoG5FswNYFqMUQFE8RU8\n",
       "BXO5GYDCwQwMIawPGBgOMDAJKAINOcDAYdDMwCzVwPCm+0TH+RMFANGWFoagnRaJAAAAAElFTkSu\n",
       "QmCC\n",
       "\" style=\"display:inline;vertical-align:middle;\" /></a>, <a class=\"ProveItLink\" href=\"../../../__pv_it/common/a0d9d672aa5e272d907247690c152cc2c6daafb70/expr.ipynb\"><img src=\"data:image/png;base64,iVBORw0KGgoAAAANSUhEUgAAAAsAAAAJBAMAAAAWSsseAAAALVBMVEX///9mZmaqqqrMzMxEREQy\n",
       "MjIiIiKYmJh2dna6urrc3NxUVFSIiIju7u4AAACJHQtQAAAAAXRSTlMAQObYZgAAAEJJREFUCNdj\n",
       "YLhzeuWJAwy8Dew5bAEMHBc43nIuYOBlYHFgAAG+A2DKzgBIMF04x8BzgWGegh/DcgaG22fuiBcw\n",
       "AAATyhBrnyPYZQAAAABJRU5ErkJggg==\n",
       "\" style=\"display:inline;vertical-align:middle;\" /></a> : <a class=\"ProveItLink\" href=\"../../numerals/__pv_it/common/22be4c1fb377b3840c975e8e14bb0ce0d20bb1d90/expr.ipynb\"><img src=\"data:image/png;base64,iVBORw0KGgoAAAANSUhEUgAAAAkAAAAOBAMAAAAPuiubAAAAMFBMVEX///8iIiK6urpERETc3NyI\n",
       "iIhUVFR2dnYQEBCqqqpmZmbMzMzu7u6YmJgyMjIAAABZcJOfAAAAAXRSTlMAQObYZgAAAE1JREFU\n",
       "CNdj4LvDvZKBgeP//wIGBr6yEAYGBjYGBgR5N2oDAwPzAZZPYK4hmFzvwJDHwFCvwNAHZB9gWMDA\n",
       "IMfA4MXA28LAwLI86wADAK3wEDcX5lPUAAAAAElFTkSuQmCC\n",
       "\" style=\"display:inline;vertical-align:middle;\" /></a></span></td></tr><tr><td><a name=\"0x46a464496da4ef0a_step34\">34</a></td><td>conjecture</td><td></td><td><span style=\"font-size:20px;\"> <a class=\"ProveItLink\" href=\"../../number_sets/real_numbers/_theory_nbs_/proofs/real_neg_within_real/thm_proof.ipynb\" style=\"text-decoration: none\">&nbsp;&#x22A2;&nbsp;&nbsp;</a><a class=\"ProveItLink\" href=\"../../number_sets/real_numbers/__pv_it/theorems/40568044769083a4b7ff1bcc6d3d04ee826f53bb0/expr.ipynb\"><img src=\"data:image/png;base64,iVBORw0KGgoAAAANSUhEUgAAAEgAAAAPBAMAAAC1npSgAAAAMFBMVEX///+IiIiqqqq6urpmZmZ2\n",
       "dnbc3NzMzMxUVFTu7u4yMjJEREQQEBAiIiKYmJgAAACIyPRpAAAAAXRSTlMAQObYZgAAAORJREFU\n",
       "KM9jeHt6/6rTDxiwAr47u3+t2QdiLZjBUP16AoP1biCYgKaKi7OBfd9OIGNDKgM3WwN2o7jZAhg2\n",
       "ZEAUsSQsQJF7fffu3eswRW5cMEUbkNVkhSGb5MYNUcTBjGLdNRTrGiwginS9kF3MooCsiOnKSpCi\n",
       "nLu3FJAN4kV2+Nm7ixjAJplwo3g9A1lRsMNOiCIWcxR3z0YJAudqiCKGnQ9xWhfAPU8AoqiCpQBJ\n",
       "EasAsiL2BndItLAqtCMbtQg5WhiCOAoYgBG8nGH3emT/zWiegIjgAu5dn7BGWeleaLRAAQDnmE3y\n",
       "vYHSAQAAAABJRU5ErkJggg==\n",
       "\" style=\"display:inline;vertical-align:middle;\" /></a></span></td></tr>\n",
       "<tr><td>&nbsp;</td><td colspan=4 style-\"text-align:left\"><a class=\"ProveItLink\" href=\"../../number_sets/real_numbers/_theory_nbs_/proofs/real_neg_within_real/thm_proof.ipynb\">proveit.numbers.number_sets.real_numbers.real_neg_within_real</a></td></tr><tr><td><a name=\"0x46a464496da4ef0a_step35\">35</a></td><td>assumption</td><td></td><td><span style=\"font-size:20px;\"><a class=\"ProveItLink\" href=\"../__pv_it/demonstrations/6051a0540e9e0a0b592a6d597e12da191c24af4b0/expr.ipynb\"><img src=\"data:image/png;base64,iVBORw0KGgoAAAANSUhEUgAAAD0AAAAPBAMAAACl/tp8AAAAMFBMVEX////MzMyYmJjc3NyIiIhU\n",
       "VFR2dna6urqqqqpmZmYyMjIiIiIQEBBERETu7u4AAACIO4EmAAAAAXRSTlMAQObYZgAAANxJREFU\n",
       "GNNj4LuzgQEFaJ+9v+qsAoLPNQFVnmHBUwZZ3QcMtXeB4AEDA38DmvwFMwZe5gA4t/4BlKG7e/cC\n",
       "qDynwQK4fDaUlvVD6Oc0uACXX+oyA0TxrUMyn5Udbj7frwfvDYA0qwGSfPcsmKUMHP8Y+B2ANC/C\n",
       "fTa7dyHczLmA4X0CkJZZBQRQ91XyPkD2fj1ItS2S/zgLEc7jV2CYD1LNg+z/eyoI+QK+Q2B7HJDk\n",
       "RTkFYDxWBV5IAO9ACl+2hkC4/6YkQRhPrz+Axc9Chrvr0UOdgaHs9u4FGIIAV7ZG6f/qy2MAAAAA\n",
       "SUVORK5CYII=\n",
       "\" style=\"display:inline;vertical-align:middle;\" /></a> <a class=\"ProveItLink\" href=\"../__pv_it/demonstrations/cc82178136ec0f94fb96518ea24fe7e08150d3100/proof.ipynb\" style=\"text-decoration: none\">&nbsp;&#x22A2;&nbsp;&nbsp;</a><a class=\"ProveItLink\" href=\"../__pv_it/demonstrations/6051a0540e9e0a0b592a6d597e12da191c24af4b0/expr.ipynb\"><img src=\"data:image/png;base64,iVBORw0KGgoAAAANSUhEUgAAAD0AAAAPBAMAAACl/tp8AAAAMFBMVEX////MzMyYmJjc3NyIiIhU\n",
       "VFR2dna6urqqqqpmZmYyMjIiIiIQEBBERETu7u4AAACIO4EmAAAAAXRSTlMAQObYZgAAANxJREFU\n",
       "GNNj4LuzgQEFaJ+9v+qsAoLPNQFVnmHBUwZZ3QcMtXeB4AEDA38DmvwFMwZe5gA4t/4BlKG7e/cC\n",
       "qDynwQK4fDaUlvVD6Oc0uACXX+oyA0TxrUMyn5Udbj7frwfvDYA0qwGSfPcsmKUMHP8Y+B2ANC/C\n",
       "fTa7dyHczLmA4X0CkJZZBQRQ91XyPkD2fj1ItS2S/zgLEc7jV2CYD1LNg+z/eyoI+QK+Q2B7HJDk\n",
       "RTkFYDxWBV5IAO9ACl+2hkC4/6YkQRhPrz+Axc9Chrvr0UOdgaHs9u4FGIIAV7ZG6f/qy2MAAAAA\n",
       "SUVORK5CYII=\n",
       "\" style=\"display:inline;vertical-align:middle;\" /></a></span></td></tr>\n",
       "<tr><td><a name=\"0x46a464496da4ef0a_step36\">36</a></td><td>instantiation</td><td><a href=\"#0x46a464496da4ef0a_step44\">44</a>, <a href=\"#0x46a464496da4ef0a_step41\">41</a>, <a href=\"#0x46a464496da4ef0a_step40\">40</a></td><td><span style=\"font-size:20px;\"> <a class=\"ProveItLink\" href=\"../__pv_it/demonstrations/57f39e5a03fdefd02e8e8f70aa2f46709c4fc4f00/proof.ipynb\" style=\"text-decoration: none\">&nbsp;&#x22A2;&nbsp;&nbsp;</a><a class=\"ProveItLink\" href=\"../__pv_it/demonstrations/727fa1c1f25370cf153c5124e30af574c44ee0cc0/expr.ipynb\"><img src=\"data:image/png;base64,iVBORw0KGgoAAAANSUhEUgAAADMAAAARBAMAAACC64kkAAAAMFBMVEX///+YmJiqqqqIiIgyMjLc\n",
       "3NwiIiIQEBC6urp2dnZUVFTMzMxERERmZmbu7u4AAADrYmUNAAAAAXRSTlMAQObYZgAAAPpJREFU\n",
       "GNNj4Lt7ZgMDKuC+c8arAUi/YuD8gSrDtyqV4cmaBwwM9xgYylGleHo3MPCt9mNgKGNgWB8AFpJJ\n",
       "S3MA0YYsQOJcFwOD/wOG9WDL9thBdTnEAgkLngcgdj6I5PODyrAu2AgkGzlBDuH4CRLhCoBKcRgo\n",
       "AcnNTAJAkm0B2HK406FSCkDyLlhkuwsQgJ0BNrCJE2gK8wWwVAzc8QfAzuACEroMrCBr2OFSjSCz\n",
       "zzUCjZ7AwAyS4jWASXGCvQw0K2zm3GVgkSS4NllgQF0E0v7//38DC7w68QAmJ+/yCTXsOo9BAgpo\n",
       "ZIMWAy4wM8jXEocU650jNxgAxFtAZoWfG6oAAAAASUVORK5CYII=\n",
       "\" style=\"display:inline;vertical-align:middle;\" /></a></span></td></tr>\n",
       "<tr><td>&nbsp;</td><td colspan=4 style=\"text-align:left\"><span style=\"font-size:20px;\"><a class=\"ProveItLink\" href=\"../../../__pv_it/common/09585084922504426caf1db2ff588a23a0932a960/expr.ipynb\"><img src=\"data:image/png;base64,iVBORw0KGgoAAAANSUhEUgAAAA8AAAAOBAMAAAACpFvcAAAALVBMVEX///8iIiIQEBBERERUVFS6\n",
       "urqIiIjc3NxmZmaqqqru7u6YmJgyMjLMzMwAAACK9jtgAAAAAXRSTlMAQObYZgAAAFtJREFUCNdj\n",
       "YACBOwxQcA5Kc59bAGGs7CuAMDbkBYBp1gXzNoAZSxnuJYAZAQx1DSCa16PDzwCshIGB6QCIMYGB\n",
       "gVEBSLMDGTwPgIxCIGZ+zsCw+N0pBk67hw0AfpEVEQi8t+wAAAAASUVORK5CYII=\n",
       "\" style=\"display:inline;vertical-align:middle;\" /></a> : <a class=\"ProveItLink\" href=\"../../number_sets/integers/__pv_it/common/e6b4e90f9467053e055a4fd2f735c0bb79cb79300/expr.ipynb\"><img src=\"data:image/png;base64,iVBORw0KGgoAAAANSUhEUgAAAA4AAAAOBAMAAADtZjDiAAAAMFBMVEX///9UVFTc3Nzu7u6qqqp2\n",
       "dnbMzMxmZmZERESIiIiYmJgyMjIQEBAiIiK6uroAAABqpg13AAAAAXRSTlMAQObYZgAAAGVJREFU\n",
       "CNdj4LvzZ/fZPQsYONsTGDZwMDCwBzCwOsQBaQMGRbYCBhBo5jAAUVwTVoG5FswNYFqMUQFE8RU8\n",
       "BXO5GYDCwQwMIawPGBgOMDAJKAINOcDAYdDMwCzVwPCm+0TH+RMFANGWFoagnRaJAAAAAElFTkSu\n",
       "QmCC\n",
       "\" style=\"display:inline;vertical-align:middle;\" /></a>, <a class=\"ProveItLink\" href=\"../../../__pv_it/common/a9162d1c3cc0470c02e5daf414500903a7a419230/expr.ipynb\"><img src=\"data:image/png;base64,iVBORw0KGgoAAAANSUhEUgAAABAAAAAOBAMAAADUAYG5AAAALVBMVEX///8yMjKqqqoiIiLu7u7c\n",
       "3NyIiIjMzMwQEBC6urpERERmZmZUVFSYmJgAAACsPVCVAAAAAXRSTlMAQObYZgAAAGxJREFUCNdj\n",
       "YGC48+70nlUTGICgi4GB+zmQZn/LwMD5Gshge8rAwPsMyOBqYGDwMAEy+A4wsNs4ABl1Z68tVgBp\n",
       "ygtgYOkBMVaAOCChNyBGAsQYhnMTIMawvwJyGIHGzFjCwMAj92b3qUUMDAAXABxvZ4rl5AAAAABJ\n",
       "RU5ErkJggg==\n",
       "\" style=\"display:inline;vertical-align:middle;\" /></a> : <a class=\"ProveItLink\" href=\"../../number_sets/rational_numbers/__pv_it/common/3de3e316334b6ece430a3f1aee01ae68b192ecb30/expr.ipynb\"><img src=\"data:image/png;base64,iVBORw0KGgoAAAANSUhEUgAAABAAAAARBAMAAAAmgTH3AAAALVBMVEX///+qqqp2dnaYmJiIiIjc\n",
       "3NwiIiLu7u66urpUVFQyMjJERERmZmbMzMwAAAAPPdWlAAAAAXRSTlMAQObYZgAAAIFJREFUCNdj\n",
       "YGC4s3vXDAYgqJwWwL5yO5Cx4yyQc6uAgcVgAQMDd8UEBi7WAwwMLA3bGSJ5DRgYOAw0GFoYBRgY\n",
       "eB2EGa5AGIIMnGApAVUGbojiCUB1G0DagcIaIAPvAE1mPhbAvsYAZBnzq3UCDGCgwTgBwmBSlTqi\n",
       "AGbF7F7TAADtgR4r3cUBHgAAAABJRU5ErkJggg==\n",
       "\" style=\"display:inline;vertical-align:middle;\" /></a>, <a class=\"ProveItLink\" href=\"../../../__pv_it/common/a0d9d672aa5e272d907247690c152cc2c6daafb70/expr.ipynb\"><img src=\"data:image/png;base64,iVBORw0KGgoAAAANSUhEUgAAAAsAAAAJBAMAAAAWSsseAAAALVBMVEX///9mZmaqqqrMzMxEREQy\n",
       "MjIiIiKYmJh2dna6urrc3NxUVFSIiIju7u4AAACJHQtQAAAAAXRSTlMAQObYZgAAAEJJREFUCNdj\n",
       "YLhzeuWJAwy8Dew5bAEMHBc43nIuYOBlYHFgAAG+A2DKzgBIMF04x8BzgWGegh/DcgaG22fuiBcw\n",
       "AAATyhBrnyPYZQAAAABJRU5ErkJggg==\n",
       "\" style=\"display:inline;vertical-align:middle;\" /></a> : <a class=\"ProveItLink\" href=\"../../numerals/__pv_it/common/ba3b059982e8b49413dc653e957beb11e974e4bc0/expr.ipynb\"><img src=\"data:image/png;base64,iVBORw0KGgoAAAANSUhEUgAAAAkAAAAOBAMAAAAPuiubAAAALVBMVEX///+qqqqIiIgyMjLc3Nwi\n",
       "IiIQEBC6urp2dnZUVFTMzMxERERmZmbu7u4AAAAQI6y7AAAAAXRSTlMAQObYZgAAAFJJREFUCNdj\n",
       "4D2zewEDw00GjucMDGcZGNIYGFIZGOY5MNhdYJgHlGBgiLsAJNhfgJisE0DkGRDBdABEyjCwODBw\n",
       "NTAwOTC4dvRMZWCwe/fuKQMANh0TGKpG4roAAAAASUVORK5CYII=\n",
       "\" style=\"display:inline;vertical-align:middle;\" /></a></span></td></tr><tr><td><a name=\"0x46a464496da4ef0a_step37\">37</a></td><td>conjecture</td><td></td><td><span style=\"font-size:20px;\"> <a class=\"ProveItLink\" href=\"../../number_sets/real_numbers/_theory_nbs_/proofs/rational_within_real/thm_proof.ipynb\" style=\"text-decoration: none\">&nbsp;&#x22A2;&nbsp;&nbsp;</a><a class=\"ProveItLink\" href=\"../../number_sets/real_numbers/__pv_it/theorems/499c21dd58d197396d60882ee6cf9cf586ce5c7a0/expr.ipynb\"><img src=\"data:image/png;base64,iVBORw0KGgoAAAANSUhEUgAAADsAAAARBAMAAACRPMnQAAAAMFBMVEX///8QEBCqqqp2dnaYmJiI\n",
       "iIjc3NwiIiLu7u66urpUVFQyMjJERERmZmbMzMwAAAC8H5PlAAAAAXRSTlMAQObYZgAAAQhJREFU\n",
       "KM9jYGB4e+b0SgY04C5zfreMA4jVtTyBY9cJdPkNXQxvfBqAjJP3gEpeN6BJH0hm4GFbwMDA6rCB\n",
       "gYGncwFYkOV4eXn5A6g0bwJQhpvtAlDNBLDpbJsTkHTzJhxgYMjiA7qA08ESJMaegGw4FyfQyKlM\n",
       "CgwMfAEqILFLKHar3wY66ClEWgkkVoAknVheDZRg4AIbrmAGsnoBsu65PCDf8ECcBpLhOIAszTsP\n",
       "xOV0OADymAO64ckMJ1xBDEtQsLwFi5miSL/iBYUAy/UEjr1gzQzcCsiByqywDhxUv/dDhTlWzUBE\n",
       "yT6GMxBxSyaYk/lsYIGKBJjNtK8aMOAGuWf2TsAuAwAAqlBKx2vCQAAAAABJRU5ErkJggg==\n",
       "\" style=\"display:inline;vertical-align:middle;\" /></a></span></td></tr>\n",
       "<tr><td>&nbsp;</td><td colspan=4 style-\"text-align:left\"><a class=\"ProveItLink\" href=\"../../number_sets/real_numbers/_theory_nbs_/proofs/rational_within_real/thm_proof.ipynb\">proveit.numbers.number_sets.real_numbers.rational_within_real</a></td></tr><tr><td><a name=\"0x46a464496da4ef0a_step38\">38</a></td><td>instantiation</td><td><a href=\"#0x46a464496da4ef0a_step44\">44</a>, <a href=\"#0x46a464496da4ef0a_step41\">41</a>, <a href=\"#0x46a464496da4ef0a_step42\">42</a></td><td><span style=\"font-size:20px;\"> <a class=\"ProveItLink\" href=\"../__pv_it/demonstrations/db6c879a5f886e3e2d857099e4313782cd638b5b0/proof.ipynb\" style=\"text-decoration: none\">&nbsp;&#x22A2;&nbsp;&nbsp;</a><a class=\"ProveItLink\" href=\"../__pv_it/demonstrations/e20b660f5ffb9875cfb6d90cb35c1fbfb82ea1520/expr.ipynb\"><img src=\"data:image/png;base64,iVBORw0KGgoAAAANSUhEUgAAADQAAAARBAMAAABgN5JdAAAAMFBMVEX///9UVFTMzMzu7u4yMjIQ\n",
       "EBC6uroiIiKIiIiYmJhmZmaqqqpERER2dnbc3NwAAACDMjhQAAAAAXRSTlMAQObYZgAAAPxJREFU\n",
       "GNNjYHh79zQDGtA6c0QMSPEtYNg/AVXGUPwBs+NhBgaO3wz8BahSxxYBpVUMGNjCGPgdwCKcx8tL\n",
       "QDTHBCCfx0wAxIYYyHTCAKKJBWgHA0cC0EQG5lqwiAlUhuEhE1Ap24RrQHdcXwwWkYNZlcG9AWhG\n",
       "w04QuzUBRB6ASWlApHaD2KzBIKtCXIAAxGUEG7jhHgPfAwae3yD/wXXxQJwhwMD/GSLFEACTYptw\n",
       "AOT4CQysBxjYP4NEVsC9fA3kZS2gRydA/cW+ASbFufwBsxdILGvVMbAAs0wyXO6L/waUoGO7Awko\n",
       "kJHcAgw4AO+9LSsu4JB7dcYrAQAt8kFx2bCsZAAAAABJRU5ErkJggg==\n",
       "\" style=\"display:inline;vertical-align:middle;\" /></a></span></td></tr>\n",
       "<tr><td>&nbsp;</td><td colspan=4 style=\"text-align:left\"><span style=\"font-size:20px;\"><a class=\"ProveItLink\" href=\"../../../__pv_it/common/09585084922504426caf1db2ff588a23a0932a960/expr.ipynb\"><img src=\"data:image/png;base64,iVBORw0KGgoAAAANSUhEUgAAAA8AAAAOBAMAAAACpFvcAAAALVBMVEX///8iIiIQEBBERERUVFS6\n",
       "urqIiIjc3NxmZmaqqqru7u6YmJgyMjLMzMwAAACK9jtgAAAAAXRSTlMAQObYZgAAAFtJREFUCNdj\n",
       "YACBOwxQcA5Kc59bAGGs7CuAMDbkBYBp1gXzNoAZSxnuJYAZAQx1DSCa16PDzwCshIGB6QCIMYGB\n",
       "gVEBSLMDGTwPgIxCIGZ+zsCw+N0pBk67hw0AfpEVEQi8t+wAAAAASUVORK5CYII=\n",
       "\" style=\"display:inline;vertical-align:middle;\" /></a> : <a class=\"ProveItLink\" href=\"../../number_sets/integers/__pv_it/common/e6b4e90f9467053e055a4fd2f735c0bb79cb79300/expr.ipynb\"><img src=\"data:image/png;base64,iVBORw0KGgoAAAANSUhEUgAAAA4AAAAOBAMAAADtZjDiAAAAMFBMVEX///9UVFTc3Nzu7u6qqqp2\n",
       "dnbMzMxmZmZERESIiIiYmJgyMjIQEBAiIiK6uroAAABqpg13AAAAAXRSTlMAQObYZgAAAGVJREFU\n",
       "CNdj4LvzZ/fZPQsYONsTGDZwMDCwBzCwOsQBaQMGRbYCBhBo5jAAUVwTVoG5FswNYFqMUQFE8RU8\n",
       "BXO5GYDCwQwMIawPGBgOMDAJKAINOcDAYdDMwCzVwPCm+0TH+RMFANGWFoagnRaJAAAAAElFTkSu\n",
       "QmCC\n",
       "\" style=\"display:inline;vertical-align:middle;\" /></a>, <a class=\"ProveItLink\" href=\"../../../__pv_it/common/a9162d1c3cc0470c02e5daf414500903a7a419230/expr.ipynb\"><img src=\"data:image/png;base64,iVBORw0KGgoAAAANSUhEUgAAABAAAAAOBAMAAADUAYG5AAAALVBMVEX///8yMjKqqqoiIiLu7u7c\n",
       "3NyIiIjMzMwQEBC6urpERERmZmZUVFSYmJgAAACsPVCVAAAAAXRSTlMAQObYZgAAAGxJREFUCNdj\n",
       "YGC48+70nlUTGICgi4GB+zmQZn/LwMD5Gshge8rAwPsMyOBqYGDwMAEy+A4wsNs4ABl1Z68tVgBp\n",
       "ygtgYOkBMVaAOCChNyBGAsQYhnMTIMawvwJyGIHGzFjCwMAj92b3qUUMDAAXABxvZ4rl5AAAAABJ\n",
       "RU5ErkJggg==\n",
       "\" style=\"display:inline;vertical-align:middle;\" /></a> : <a class=\"ProveItLink\" href=\"../../number_sets/rational_numbers/__pv_it/common/3de3e316334b6ece430a3f1aee01ae68b192ecb30/expr.ipynb\"><img src=\"data:image/png;base64,iVBORw0KGgoAAAANSUhEUgAAABAAAAARBAMAAAAmgTH3AAAALVBMVEX///+qqqp2dnaYmJiIiIjc\n",
       "3NwiIiLu7u66urpUVFQyMjJERERmZmbMzMwAAAAPPdWlAAAAAXRSTlMAQObYZgAAAIFJREFUCNdj\n",
       "YGC4s3vXDAYgqJwWwL5yO5Cx4yyQc6uAgcVgAQMDd8UEBi7WAwwMLA3bGSJ5DRgYOAw0GFoYBRgY\n",
       "eB2EGa5AGIIMnGApAVUGbojiCUB1G0DagcIaIAPvAE1mPhbAvsYAZBnzq3UCDGCgwTgBwmBSlTqi\n",
       "AGbF7F7TAADtgR4r3cUBHgAAAABJRU5ErkJggg==\n",
       "\" style=\"display:inline;vertical-align:middle;\" /></a>, <a class=\"ProveItLink\" href=\"../../../__pv_it/common/a0d9d672aa5e272d907247690c152cc2c6daafb70/expr.ipynb\"><img src=\"data:image/png;base64,iVBORw0KGgoAAAANSUhEUgAAAAsAAAAJBAMAAAAWSsseAAAALVBMVEX///9mZmaqqqrMzMxEREQy\n",
       "MjIiIiKYmJh2dna6urrc3NxUVFSIiIju7u4AAACJHQtQAAAAAXRSTlMAQObYZgAAAEJJREFUCNdj\n",
       "YLhzeuWJAwy8Dew5bAEMHBc43nIuYOBlYHFgAAG+A2DKzgBIMF04x8BzgWGegh/DcgaG22fuiBcw\n",
       "AAATyhBrnyPYZQAAAABJRU5ErkJggg==\n",
       "\" style=\"display:inline;vertical-align:middle;\" /></a> : <a class=\"ProveItLink\" href=\"../../numerals/__pv_it/common/0a19a501c0770212f27a044b71e9c626b8ca0bec0/expr.ipynb\"><img src=\"data:image/png;base64,iVBORw0KGgoAAAANSUhEUgAAAAoAAAAOBAMAAADkjZCYAAAAKlBMVEX////u7u4yMjIQEBC6uroi\n",
       "IiKIiIiYmJhmZmaqqqpERER2dnbc3NwAAAAz17lDAAAAAXRSTlMAQObYZgAAAE5JREFUCNdjYDi9\n",
       "eyUDA08Dw9wCBrabDLwBDCwmDLwKDEAAFGFgYIwGEjxbG0ECDMkOIJLZkIHnAAMXUPFFEMm8gIH1\n",
       "IgN7AVi9R8cSBgCvphDNutx7AgAAAABJRU5ErkJggg==\n",
       "\" style=\"display:inline;vertical-align:middle;\" /></a></span></td></tr><tr><td><a name=\"0x46a464496da4ef0a_step39\">39</a></td><td>conjecture</td><td></td><td><span style=\"font-size:20px;\"> <a class=\"ProveItLink\" href=\"../../numerals/decimals/_theory_nbs_/proofs/nat5/thm_proof.ipynb\" style=\"text-decoration: none\">&nbsp;&#x22A2;&nbsp;&nbsp;</a><a class=\"ProveItLink\" href=\"../../numerals/decimals/__pv_it/theorems/587c8b1fb21066e3deadd413cfe201a678c21fe30/expr.ipynb\"><img src=\"data:image/png;base64,iVBORw0KGgoAAAANSUhEUgAAADIAAAAPBAMAAABU9YHxAAAAMFBMVEX///8iIiK6urpERETc3NyI\n",
       "iIhUVFR2dnYQEBCqqqpmZmbMzMzu7u6YmJgyMjIAAABZcJOfAAAAAXRSTlMAQObYZgAAANpJREFU\n",
       "GNNj4LvDvZIBGfC8N37DwN7fxMDx/38BigwD84VtDAznGRj4ykJQJRjYpFkDGDiANFzksqDgA7CM\n",
       "8oFsBkYkmc0xMD3eCecOgGTuRm0AW/wGbprDVO4EoAzzAZZPED5Chl3hKiOYaQh2EcIFDgw5bBvB\n",
       "zPUg5TveAcEDqMwxhhcMDHkMDPUKQL4zsh7ugh0MDH1APQeAfA5kGYabQMMXMDDIgfhcAXAZoFvZ\n",
       "gUZ4MfC2gAUkYTJ8E4DEOgYGluVZB8ACx4wgNLd8M5A8hxxe6oaQ0IECADzbM1HlfW9lAAAAAElF\n",
       "TkSuQmCC\n",
       "\" style=\"display:inline;vertical-align:middle;\" /></a></span></td></tr>\n",
       "<tr><td>&nbsp;</td><td colspan=4 style-\"text-align:left\"><a class=\"ProveItLink\" href=\"../../numerals/decimals/_theory_nbs_/proofs/nat5/thm_proof.ipynb\">proveit.numbers.numerals.decimals.nat5</a></td></tr><tr><td><a name=\"0x46a464496da4ef0a_step40\">40</a></td><td>instantiation</td><td><a href=\"#0x46a464496da4ef0a_step44\">44</a>, <a href=\"#0x46a464496da4ef0a_step45\">45</a>, <a href=\"#0x46a464496da4ef0a_step43\">43</a></td><td><span style=\"font-size:20px;\"> <a class=\"ProveItLink\" href=\"../__pv_it/demonstrations/fb30d6ebeb217c7431b9eb72c0545530798d7cbf0/proof.ipynb\" style=\"text-decoration: none\">&nbsp;&#x22A2;&nbsp;&nbsp;</a><a class=\"ProveItLink\" href=\"../__pv_it/demonstrations/cd044ff2c9eed9fcc62b58f921afc3efe6c2dfc20/expr.ipynb\"><img src=\"data:image/png;base64,iVBORw0KGgoAAAANSUhEUgAAADEAAAAPBAMAAAC/wjryAAAAMFBMVEX///+YmJiqqqqIiIgyMjLc\n",
       "3NwiIiIQEBC6urp2dnZUVFTMzMxERERmZmbu7u4AAADrYmUNAAAAAXRSTlMAQObYZgAAAOFJREFU\n",
       "GNNj4Lt7ZgMDCmirL3FPKWRgeMXA+QNVxuY2AwvDAQaGewwM5agyNxkYJnE2MDCUMTCsDwCLyKSl\n",
       "OYDoewysC/YCaf8HDOvBFu2xg+vieXAOwsh/ACT4/BDmCTMKgGmOnyCSKwAuwXfgDYTBtgBsAkIL\n",
       "14alEMZdMLndBQjALmDo5ZgAppkvgKkYhB4HoH5OoN26DKwgK9jhEpwKM8Bc7gkMzCAZXgOYTBQr\n",
       "0OLrDAxhM+cuAwskwWTO8TxgeCUD9On//9/AAq9OPIB4osb9zPHvZ5HDq/MYJHSgAACl9Dkf5s66\n",
       "MQAAAABJRU5ErkJggg==\n",
       "\" style=\"display:inline;vertical-align:middle;\" /></a></span></td></tr>\n",
       "<tr><td>&nbsp;</td><td colspan=4 style=\"text-align:left\"><span style=\"font-size:20px;\"><a class=\"ProveItLink\" href=\"../../../__pv_it/common/09585084922504426caf1db2ff588a23a0932a960/expr.ipynb\"><img src=\"data:image/png;base64,iVBORw0KGgoAAAANSUhEUgAAAA8AAAAOBAMAAAACpFvcAAAALVBMVEX///8iIiIQEBBERERUVFS6\n",
       "urqIiIjc3NxmZmaqqqru7u6YmJgyMjLMzMwAAACK9jtgAAAAAXRSTlMAQObYZgAAAFtJREFUCNdj\n",
       "YACBOwxQcA5Kc59bAGGs7CuAMDbkBYBp1gXzNoAZSxnuJYAZAQx1DSCa16PDzwCshIGB6QCIMYGB\n",
       "gVEBSLMDGTwPgIxCIGZ+zsCw+N0pBk67hw0AfpEVEQi8t+wAAAAASUVORK5CYII=\n",
       "\" style=\"display:inline;vertical-align:middle;\" /></a> : <a class=\"ProveItLink\" href=\"../../number_sets/natural_numbers/__pv_it/common/8b7c321957f52ed3b05b36af612eeae4fa4783bc0/expr.ipynb\"><img src=\"data:image/png;base64,iVBORw0KGgoAAAANSUhEUgAAAA8AAAAOBAMAAAACpFvcAAAAMFBMVEX///9mZmaqqqrc3NyIiIgi\n",
       "IiJUVFTMzMyYmJi6uroQEBB2dnZEREQyMjLu7u4AAAA1o4RqAAAAAXRSTlMAQObYZgAAAGVJREFU\n",
       "CNdjePvn7AOGXb8mMDCcYE9g4PvAwMCQWuDCwLAAyMg8x1bAEABkJJfx3YMwmBzKIAyGnRwOEAbb\n",
       "g3QIgy+BdwGYwVDNDmVwKBwAMtKBeDOIcQmIGS8wMJT+AvL4LjAAADA2HcoIlkTkAAAAAElFTkSu\n",
       "QmCC\n",
       "\" style=\"display:inline;vertical-align:middle;\" /></a>, <a class=\"ProveItLink\" href=\"../../../__pv_it/common/a9162d1c3cc0470c02e5daf414500903a7a419230/expr.ipynb\"><img src=\"data:image/png;base64,iVBORw0KGgoAAAANSUhEUgAAABAAAAAOBAMAAADUAYG5AAAALVBMVEX///8yMjKqqqoiIiLu7u7c\n",
       "3NyIiIjMzMwQEBC6urpERERmZmZUVFSYmJgAAACsPVCVAAAAAXRSTlMAQObYZgAAAGxJREFUCNdj\n",
       "YGC48+70nlUTGICgi4GB+zmQZn/LwMD5Gshge8rAwPsMyOBqYGDwMAEy+A4wsNs4ABl1Z68tVgBp\n",
       "ygtgYOkBMVaAOCChNyBGAsQYhnMTIMawvwJyGIHGzFjCwMAj92b3qUUMDAAXABxvZ4rl5AAAAABJ\n",
       "RU5ErkJggg==\n",
       "\" style=\"display:inline;vertical-align:middle;\" /></a> : <a class=\"ProveItLink\" href=\"../../number_sets/integers/__pv_it/common/e6b4e90f9467053e055a4fd2f735c0bb79cb79300/expr.ipynb\"><img src=\"data:image/png;base64,iVBORw0KGgoAAAANSUhEUgAAAA4AAAAOBAMAAADtZjDiAAAAMFBMVEX///9UVFTc3Nzu7u6qqqp2\n",
       "dnbMzMxmZmZERESIiIiYmJgyMjIQEBAiIiK6uroAAABqpg13AAAAAXRSTlMAQObYZgAAAGVJREFU\n",
       "CNdj4LvzZ/fZPQsYONsTGDZwMDCwBzCwOsQBaQMGRbYCBhBo5jAAUVwTVoG5FswNYFqMUQFE8RU8\n",
       "BXO5GYDCwQwMIawPGBgOMDAJKAINOcDAYdDMwCzVwPCm+0TH+RMFANGWFoagnRaJAAAAAElFTkSu\n",
       "QmCC\n",
       "\" style=\"display:inline;vertical-align:middle;\" /></a>, <a class=\"ProveItLink\" href=\"../../../__pv_it/common/a0d9d672aa5e272d907247690c152cc2c6daafb70/expr.ipynb\"><img src=\"data:image/png;base64,iVBORw0KGgoAAAANSUhEUgAAAAsAAAAJBAMAAAAWSsseAAAALVBMVEX///9mZmaqqqrMzMxEREQy\n",
       "MjIiIiKYmJh2dna6urrc3NxUVFSIiIju7u4AAACJHQtQAAAAAXRSTlMAQObYZgAAAEJJREFUCNdj\n",
       "YLhzeuWJAwy8Dew5bAEMHBc43nIuYOBlYHFgAAG+A2DKzgBIMF04x8BzgWGegh/DcgaG22fuiBcw\n",
       "AAATyhBrnyPYZQAAAABJRU5ErkJggg==\n",
       "\" style=\"display:inline;vertical-align:middle;\" /></a> : <a class=\"ProveItLink\" href=\"../../numerals/__pv_it/common/ba3b059982e8b49413dc653e957beb11e974e4bc0/expr.ipynb\"><img src=\"data:image/png;base64,iVBORw0KGgoAAAANSUhEUgAAAAkAAAAOBAMAAAAPuiubAAAALVBMVEX///+qqqqIiIgyMjLc3Nwi\n",
       "IiIQEBC6urp2dnZUVFTMzMxERERmZmbu7u4AAAAQI6y7AAAAAXRSTlMAQObYZgAAAFJJREFUCNdj\n",
       "4D2zewEDw00GjucMDGcZGNIYGFIZGOY5MNhdYJgHlGBgiLsAJNhfgJisE0DkGRDBdABEyjCwODBw\n",
       "NTAwOTC4dvRMZWCwe/fuKQMANh0TGKpG4roAAAAASUVORK5CYII=\n",
       "\" style=\"display:inline;vertical-align:middle;\" /></a></span></td></tr><tr><td><a name=\"0x46a464496da4ef0a_step41\">41</a></td><td>conjecture</td><td></td><td><span style=\"font-size:20px;\"> <a class=\"ProveItLink\" href=\"../../number_sets/rational_numbers/_theory_nbs_/proofs/int_within_rational/thm_proof.ipynb\" style=\"text-decoration: none\">&nbsp;&#x22A2;&nbsp;&nbsp;</a><a class=\"ProveItLink\" href=\"../../number_sets/rational_numbers/__pv_it/theorems/b9639f7615b58f1d10922d45d6551abf5633175f0/expr.ipynb\"><img src=\"data:image/png;base64,iVBORw0KGgoAAAANSUhEUgAAADkAAAARBAMAAACVyRntAAAAMFBMVEX///9UVFTc3Nzu7u6qqqp2\n",
       "dnbMzMxmZmZERESIiIiYmJgyMjIQEBAiIiK6uroAAABqpg13AAAAAXRSTlMAQObYZgAAAQlJREFU\n",
       "GNNj4LvzZ/fZPQsYUAFbRcfGB0Casz2BYQMHmiSz4CUGawkDBgb2AAZWhzg0WY7nCQzMYpuBsgYM\n",
       "imwFEMEVd+/evQZizOIGEs0PwYLNHAZgWjsIpneDOpCYBxbmmrAKInYJJskkkAUkX7GC3GXB3AAW\n",
       "Y3eAyfJNcAGSmSwgn4gxKoDFeBH+gcoClfMVPIWIKSLcDDb5CStQFzcD0OBgkA0I2QawqxiBRAjI\n",
       "8gMoJjO8AgVP8yuQ+4AmsoNkWSfAZVnBoQEMBQ6DZgZmKbCrtyA0LweGZBWQftN9ouP8CXBgGcoZ\n",
       "wKXX7/6CFroMqb3QkASa/cCRAQ8IVdk+FbcsU0V3HQMAQThBdx6juCoAAAAASUVORK5CYII=\n",
       "\" style=\"display:inline;vertical-align:middle;\" /></a></span></td></tr>\n",
       "<tr><td>&nbsp;</td><td colspan=4 style-\"text-align:left\"><a class=\"ProveItLink\" href=\"../../number_sets/rational_numbers/_theory_nbs_/proofs/int_within_rational/thm_proof.ipynb\">proveit.numbers.number_sets.rational_numbers.int_within_rational</a></td></tr><tr><td><a name=\"0x46a464496da4ef0a_step42\">42</a></td><td>instantiation</td><td><a href=\"#0x46a464496da4ef0a_step44\">44</a>, <a href=\"#0x46a464496da4ef0a_step45\">45</a>, <a href=\"#0x46a464496da4ef0a_step46\">46</a></td><td><span style=\"font-size:20px;\"> <a class=\"ProveItLink\" href=\"../__pv_it/demonstrations/947e720ba07b52f8ab524281e346d33e6140e0da0/proof.ipynb\" style=\"text-decoration: none\">&nbsp;&#x22A2;&nbsp;&nbsp;</a><a class=\"ProveItLink\" href=\"../__pv_it/demonstrations/05c62eb79a3dc35ce8599f5a02f4d9c2c42178810/expr.ipynb\"><img src=\"data:image/png;base64,iVBORw0KGgoAAAANSUhEUgAAADIAAAAPBAMAAABU9YHxAAAAMFBMVEX///9UVFTMzMzu7u4yMjIQ\n",
       "EBC6uroiIiKIiIiYmJhmZmaqqqpERER2dnbc3NwAAACDMjhQAAAAAXRSTlMAQObYZgAAANpJREFU\n",
       "GNNjYHh79zQDCmAr/eoS7jqBgW8Bw/4JKDIcpxQYHHiA9G8G/gIUGa4LDLwbrgH1hjHwO4BFOI+X\n",
       "l4BlDBgeMi0AC0FMYzphANd2mAfMZq4F80wQEpwNM0EU3/XFYK4cwiYb5gMQRmsCiDyAkBFifABh\n",
       "sAaDrAlxAQKIhxbkgg17wMDzG0Qj9LCA9F9m4P8MkWEIgMvc5k0AcVkPMLB/BvFXwCT4BB4CPRXA\n",
       "wDkB6h/2DVAZHoPDDMySQAOzVh0DCzDLJENkUo/EnImPWYAcxncgoQMFAJMfNnnC+bxdAAAAAElF\n",
       "TkSuQmCC\n",
       "\" style=\"display:inline;vertical-align:middle;\" /></a></span></td></tr>\n",
       "<tr><td>&nbsp;</td><td colspan=4 style=\"text-align:left\"><span style=\"font-size:20px;\"><a class=\"ProveItLink\" href=\"../../../__pv_it/common/09585084922504426caf1db2ff588a23a0932a960/expr.ipynb\"><img src=\"data:image/png;base64,iVBORw0KGgoAAAANSUhEUgAAAA8AAAAOBAMAAAACpFvcAAAALVBMVEX///8iIiIQEBBERERUVFS6\n",
       "urqIiIjc3NxmZmaqqqru7u6YmJgyMjLMzMwAAACK9jtgAAAAAXRSTlMAQObYZgAAAFtJREFUCNdj\n",
       "YACBOwxQcA5Kc59bAGGs7CuAMDbkBYBp1gXzNoAZSxnuJYAZAQx1DSCa16PDzwCshIGB6QCIMYGB\n",
       "gVEBSLMDGTwPgIxCIGZ+zsCw+N0pBk67hw0AfpEVEQi8t+wAAAAASUVORK5CYII=\n",
       "\" style=\"display:inline;vertical-align:middle;\" /></a> : <a class=\"ProveItLink\" href=\"../../number_sets/natural_numbers/__pv_it/common/8b7c321957f52ed3b05b36af612eeae4fa4783bc0/expr.ipynb\"><img src=\"data:image/png;base64,iVBORw0KGgoAAAANSUhEUgAAAA8AAAAOBAMAAAACpFvcAAAAMFBMVEX///9mZmaqqqrc3NyIiIgi\n",
       "IiJUVFTMzMyYmJi6uroQEBB2dnZEREQyMjLu7u4AAAA1o4RqAAAAAXRSTlMAQObYZgAAAGVJREFU\n",
       "CNdjePvn7AOGXb8mMDCcYE9g4PvAwMCQWuDCwLAAyMg8x1bAEABkJJfx3YMwmBzKIAyGnRwOEAbb\n",
       "g3QIgy+BdwGYwVDNDmVwKBwAMtKBeDOIcQmIGS8wMJT+AvL4LjAAADA2HcoIlkTkAAAAAElFTkSu\n",
       "QmCC\n",
       "\" style=\"display:inline;vertical-align:middle;\" /></a>, <a class=\"ProveItLink\" href=\"../../../__pv_it/common/a9162d1c3cc0470c02e5daf414500903a7a419230/expr.ipynb\"><img src=\"data:image/png;base64,iVBORw0KGgoAAAANSUhEUgAAABAAAAAOBAMAAADUAYG5AAAALVBMVEX///8yMjKqqqoiIiLu7u7c\n",
       "3NyIiIjMzMwQEBC6urpERERmZmZUVFSYmJgAAACsPVCVAAAAAXRSTlMAQObYZgAAAGxJREFUCNdj\n",
       "YGC48+70nlUTGICgi4GB+zmQZn/LwMD5Gshge8rAwPsMyOBqYGDwMAEy+A4wsNs4ABl1Z68tVgBp\n",
       "ygtgYOkBMVaAOCChNyBGAsQYhnMTIMawvwJyGIHGzFjCwMAj92b3qUUMDAAXABxvZ4rl5AAAAABJ\n",
       "RU5ErkJggg==\n",
       "\" style=\"display:inline;vertical-align:middle;\" /></a> : <a class=\"ProveItLink\" href=\"../../number_sets/integers/__pv_it/common/e6b4e90f9467053e055a4fd2f735c0bb79cb79300/expr.ipynb\"><img src=\"data:image/png;base64,iVBORw0KGgoAAAANSUhEUgAAAA4AAAAOBAMAAADtZjDiAAAAMFBMVEX///9UVFTc3Nzu7u6qqqp2\n",
       "dnbMzMxmZmZERESIiIiYmJgyMjIQEBAiIiK6uroAAABqpg13AAAAAXRSTlMAQObYZgAAAGVJREFU\n",
       "CNdj4LvzZ/fZPQsYONsTGDZwMDCwBzCwOsQBaQMGRbYCBhBo5jAAUVwTVoG5FswNYFqMUQFE8RU8\n",
       "BXO5GYDCwQwMIawPGBgOMDAJKAINOcDAYdDMwCzVwPCm+0TH+RMFANGWFoagnRaJAAAAAElFTkSu\n",
       "QmCC\n",
       "\" style=\"display:inline;vertical-align:middle;\" /></a>, <a class=\"ProveItLink\" href=\"../../../__pv_it/common/a0d9d672aa5e272d907247690c152cc2c6daafb70/expr.ipynb\"><img src=\"data:image/png;base64,iVBORw0KGgoAAAANSUhEUgAAAAsAAAAJBAMAAAAWSsseAAAALVBMVEX///9mZmaqqqrMzMxEREQy\n",
       "MjIiIiKYmJh2dna6urrc3NxUVFSIiIju7u4AAACJHQtQAAAAAXRSTlMAQObYZgAAAEJJREFUCNdj\n",
       "YLhzeuWJAwy8Dew5bAEMHBc43nIuYOBlYHFgAAG+A2DKzgBIMF04x8BzgWGegh/DcgaG22fuiBcw\n",
       "AAATyhBrnyPYZQAAAABJRU5ErkJggg==\n",
       "\" style=\"display:inline;vertical-align:middle;\" /></a> : <a class=\"ProveItLink\" href=\"../../numerals/__pv_it/common/0a19a501c0770212f27a044b71e9c626b8ca0bec0/expr.ipynb\"><img src=\"data:image/png;base64,iVBORw0KGgoAAAANSUhEUgAAAAoAAAAOBAMAAADkjZCYAAAAKlBMVEX////u7u4yMjIQEBC6uroi\n",
       "IiKIiIiYmJhmZmaqqqpERER2dnbc3NwAAAAz17lDAAAAAXRSTlMAQObYZgAAAE5JREFUCNdjYDi9\n",
       "eyUDA08Dw9wCBrabDLwBDCwmDLwKDEAAFGFgYIwGEjxbG0ECDMkOIJLZkIHnAAMXUPFFEMm8gIH1\n",
       "IgN7AVi9R8cSBgCvphDNutx7AgAAAABJRU5ErkJggg==\n",
       "\" style=\"display:inline;vertical-align:middle;\" /></a></span></td></tr><tr><td><a name=\"0x46a464496da4ef0a_step43\">43</a></td><td>theorem</td><td></td><td><span style=\"font-size:20px;\"> <a class=\"ProveItLink\" href=\"../../numerals/decimals/_theory_nbs_/proofs/nat2/thm_proof.ipynb\" style=\"text-decoration: none\">&nbsp;&#x22A2;&nbsp;&nbsp;</a><a class=\"ProveItLink\" href=\"../../numerals/decimals/__pv_it/theorems/f05a14f3b1e025929c966a4ccb020e28f34812b20/expr.ipynb\"><img src=\"data:image/png;base64,iVBORw0KGgoAAAANSUhEUgAAADIAAAAPBAMAAABU9YHxAAAAMFBMVEX///+YmJiqqqqIiIgyMjLc\n",
       "3NwiIiIQEBC6urp2dnZUVFTMzMxERERmZmbu7u4AAADrYmUNAAAAAXRSTlMAQObYZgAAAOBJREFU\n",
       "GNNj4Lt7ZgMDMuDzP+PHwFlfwfCKgfMHigwDj8AuBob3DAz3GBjKUWW4spkNGNgZGMoYGNYHgEVk\n",
       "0tIcwDI9D1YzsDEw+D9gWA+2aI8dTE/0gicP2MDM/Acgi/3gpgUocy8Ay3D8hPARMpwNwmAZtgVg\n",
       "FyFcEMCwjmsbiHUXzN/uAgQOUJlXDO5ABvMFsEwMsh7uCduBDF0GVpAV7MgyDEJAw7knMDCDZHgN\n",
       "4DJAT3ACjQibOXcZWCAJJsOiACSuAH36//83sMCrEw/ANHd+DZB8ghxenccgoQMFAOa6NR2IZoaj\n",
       "AAAAAElFTkSuQmCC\n",
       "\" style=\"display:inline;vertical-align:middle;\" /></a></span></td></tr>\n",
       "<tr><td>&nbsp;</td><td colspan=4 style-\"text-align:left\"><a class=\"ProveItLink\" href=\"../../numerals/decimals/_theory_nbs_/proofs/nat2/thm_proof.ipynb\">proveit.numbers.numerals.decimals.nat2</a></td></tr><tr><td><a name=\"0x46a464496da4ef0a_step44\">44</a></td><td>theorem</td><td></td><td><span style=\"font-size:20px;\"> <a class=\"ProveItLink\" href=\"../../../logic/sets/inclusion/_theory_nbs_/proofs/superset_membership_from_proper_subset/thm_proof.ipynb\" style=\"text-decoration: none\">&nbsp;&#x22A2;&nbsp;&nbsp;</a><a class=\"ProveItLink\" href=\"../../../logic/sets/inclusion/__pv_it/theorems/301575c0019a5beac29617bed7eb9fe46c3f48960/expr.ipynb\"><img src=\"data:image/png;base64,iVBORw0KGgoAAAANSUhEUgAAAPcAAAAWBAMAAADuuhdHAAAAMFBMVEX///8QEBCIiIhmZma6urrM\n",
       "zMxUVFQiIiJERETc3Nzu7u6qqqp2dnaYmJgyMjIAAAAcRTyBAAAAAXRSTlMAQObYZgAAA4ZJREFU\n",
       "SMe1lktoE1EUhn+TmTQzTdquRNBFsAul+AgEKoqPqBuVitGFuDP4gAqKQcX3o0qx0yo0brQI2hHB\n",
       "RxQNuNKNsSJK6yMq+BYHXBS60NJarZWi9547mblNk2Ij3kXm3nvOPd+Zc885E6DE4fkSG1vh3FjC\n",
       "20CwOwqLzz+OHx6IVvBHMFtErjcU3H71e2OtEYUvyS2gi2/1lAIPpNmjwiwir0gW3p8EeAegWwRv\n",
       "YxtaQylwOtVWTP6y8LY6DCj9QAfBuev0DuOGU7y6isn3jVi92bPHEqnyk11VH3CBLAQ7U6kzKAn+\n",
       "IZW6migi1kYI1tXkZv4qBt7PbiXKLWDQMA6WBq80jKZMsWIIs5ybumVJByWfm1OVcai7ebDDBN8M\n",
       "NNO++F3Wf7+eckVxnHVSR2mdX9vswn0xSZan62dVcB2vQ4f5wudqrd/2oolfctAi+FJKPbb8RtJg\n",
       "FQJVdDyn/ynqHH0O3HPhShg38l7Y0S1jhE48M5ePMAXMTkKfyJ7lCYKXwUO1enGYpN44yofkE/oi\n",
       "JlarIxE2rwXumg4cCczMGb12f0FOl8YEJjZhiMXqL2yIhDvKHWCOqb1kIZAto+3OncLlELyWDA9c\n",
       "DkPfuiKVYvMdwEL3zfEEubQKnjhr2rouHOgTC6kev3N4yIFr1loqwJBw82YMs0wZvsbfwG+XgjAA\n",
       "T48EP6/G2aR6zWZ2d46uG3aoA7YnI8oc29lRRYQdzZsoKTCHxKtmTo9Dhse9CdTZCdf34riU7fCf\n",
       "Zj81PmuXaNJC1024O55eUI15Q04RsDJXB92Ewy068B6zSfwUmCbDg2lm4oENtOBJSPBy7m+sIgs9\n",
       "7Ora4jCUX/5eTeTAAafpslxe3ML9yQh4JfdL//y4laJ9EmhPS/Ab8x8NYa79OhlovyS4uNPKJNS9\n",
       "hnHM1rWDlIC+oaba/mJdahRp6vv6PVJ/gryICQtBLvCaaKeLZcZXJSX4PGgDLCyiQ6Sh/JTh76h0\n",
       "EUPc1S3YXuua7PaaG5dtCzRWMtNZrQXaELQpUtgVFrdhXBFK7SZOZWQ476O9T5ER9yJ0x/6w5EaH\n",
       "BPcPQms9pE7Gw/5IfVSCtzag7UdWob4WOBKpbUQeXN9WN8OEP+3ojuqLBb/2lvzmYpTLnVIWXDIM\n",
       "Y1Rvl8d0fud/8WdCci0ffrsYvMCX4/C//I16ywx058Gzfw//v8P7/xF/AAdz9RArGsNxAAAAAElF\n",
       "TkSuQmCC\n",
       "\" style=\"display:inline;vertical-align:middle;\" /></a></span></td></tr>\n",
       "<tr><td>&nbsp;</td><td colspan=4 style-\"text-align:left\"><a class=\"ProveItLink\" href=\"../../../logic/sets/inclusion/_theory_nbs_/proofs/superset_membership_from_proper_subset/thm_proof.ipynb\">proveit.logic.sets.inclusion.superset_membership_from_proper_subset</a></td></tr><tr><td><a name=\"0x46a464496da4ef0a_step45\">45</a></td><td>conjecture</td><td></td><td><span style=\"font-size:20px;\"> <a class=\"ProveItLink\" href=\"../../number_sets/integers/_theory_nbs_/proofs/nat_within_int/thm_proof.ipynb\" style=\"text-decoration: none\">&nbsp;&#x22A2;&nbsp;&nbsp;</a><a class=\"ProveItLink\" href=\"../../number_sets/integers/__pv_it/theorems/d41d654a59eae2353d0659866c1e7bfe3eb3ac620/expr.ipynb\"><img src=\"data:image/png;base64,iVBORw0KGgoAAAANSUhEUgAAADkAAAAPBAMAAACsFXoGAAAAMFBMVEX///9mZmaqqqrc3NyIiIgi\n",
       "IiJUVFTMzMyYmJi6uroQEBB2dnZEREQyMjLu7u4AAAA1o4RqAAAAAXRSTlMAQObYZgAAAPZJREFU\n",
       "GNNjePvn7AOGXb8mMKCAqevX3opdAWScYE9g4PuAKsngI87Ay3AAyEgtcGFgWIAmK83AsIkbZF7m\n",
       "ObYChgCIYE9oaGg4iCHHwJxQCGIkl/Hdg8rabkbo5nlwDizL5FAGlQ1GMruFowEsy7CTwwEsy6iA\n",
       "kOQ78IYBIsv2IB0sy4qkla0gGSrLl8ALdrMZkuxEzg1QWYZqdrDsGyTZCzwMDNwPwLIcCgfQTOZW\n",
       "2MnAwAVkpAPxZrAstwNc1ow5gYFBCsi4BHLtBbDYJbjsOZ4HDM96GBhKfwH18UFkn2U+gEhyrrl1\n",
       "5tSvg2jBW30UGpJQAADwfUE6b5/KAQAAAABJRU5ErkJggg==\n",
       "\" style=\"display:inline;vertical-align:middle;\" /></a></span></td></tr>\n",
       "<tr><td>&nbsp;</td><td colspan=4 style-\"text-align:left\"><a class=\"ProveItLink\" href=\"../../number_sets/integers/_theory_nbs_/proofs/nat_within_int/thm_proof.ipynb\">proveit.numbers.number_sets.integers.nat_within_int</a></td></tr><tr><td><a name=\"0x46a464496da4ef0a_step46\">46</a></td><td>conjecture</td><td></td><td><span style=\"font-size:20px;\"> <a class=\"ProveItLink\" href=\"../../numerals/decimals/_theory_nbs_/proofs/nat3/thm_proof.ipynb\" style=\"text-decoration: none\">&nbsp;&#x22A2;&nbsp;&nbsp;</a><a class=\"ProveItLink\" href=\"../../numerals/decimals/__pv_it/theorems/f147593b5b15e3dc286e1d3c9d3aa15c2a17a5260/expr.ipynb\"><img src=\"data:image/png;base64,iVBORw0KGgoAAAANSUhEUgAAADMAAAAPBAMAAAC7N+rPAAAAMFBMVEX///9UVFTMzMzu7u4yMjIQ\n",
       "EBC6uroiIiKIiIiYmJhmZmaqqqpERER2dnbc3NwAAACDMjhQAAAAAXRSTlMAQObYZgAAAOBJREFU\n",
       "GNNjYHh79zQDCjD5c8SA4erXBAa+BQz7J6DKnWQSYGD+wMDA8ZuBvwBVSlyhg4EhgIGBLYyB3wEs\n",
       "wnm8vATMEDvMqMAAUQ4xkOmEAVSXnCKzM0SKuRZiO0yGQY67QREsxXd9MUQAbpccwzXOBoiBrQkg\n",
       "8gCSFKOBEESKNRhkVYgLEEClmAVYgC7ke8DA8xtkLrIuBl0moBT/Z4gUyCMIKc4NQJWsBxjYP4ME\n",
       "VsClhID4HlCKcwLUX+wbYFLeQMwFCoasVcfAAswyyRAZ9a9AHcwOyEHHdgcaUFAAAH26M5vnYGic\n",
       "AAAAAElFTkSuQmCC\n",
       "\" style=\"display:inline;vertical-align:middle;\" /></a></span></td></tr>\n",
       "<tr><td>&nbsp;</td><td colspan=4 style-\"text-align:left\"><a class=\"ProveItLink\" href=\"../../numerals/decimals/_theory_nbs_/proofs/nat3/thm_proof.ipynb\">proveit.numbers.numerals.decimals.nat3</a></td></tr></table>"
      ],
      "text/plain": [
       "\tstep type\trequirements\tstatement\n",
       "0\tinstantiation\t1, 2\t{a in Complex, b in RealNeg} |- |a + b + 2 + 3| >= 0\n",
       "\ta : |a + b + 2 + 3|\n",
       "1\tconjecture\t\t|- forall_{a in RealNonNeg} (a >= 0)\n",
       "2\tinstantiation\t3, 4\t{a in Complex, b in RealNeg} |- |a + b + 2 + 3| in RealNonNeg\n",
       "\ta : a + b + 2 + 3\n",
       "3\tconjecture\t\t|- forall_{a in Complex} (|a| in RealNonNeg)\n",
       "4\tinstantiation\t5, 6, 7\t{a in Complex, b in RealNeg} |- (a + b + 2 + 3) in Complex\n",
       "\tP(_a) : _a in Complex, x : a + b + 2 + 3, y : a + b + 5\n",
       "5\ttheorem\t\t|- forall_{P, x, y | P(y), x = y} P(x)\n",
       "\tproveit.logic.equality.sub_left_side_into\n",
       "6\tinstantiation\t8, 46, 9, 21, 22, 10\t{a in Complex, b in RealNeg} |- (a + b + 5) in Complex\n",
       "\ti : 3, a : (a, b, 5)\n",
       "7\tinstantiation\t11, 12, 13\t{a in Complex, b in RealNeg} |- (a + b + 2 + 3) = (a + b + 5)\n",
       "\tx : a + b + 2 + 3, y : a + b + (2 + 3), z : a + b + 5\n",
       "8\tconjecture\t\t|- forall_{i in Natural} [forall_{a_{1}, ..a_{_a}.., a_{i} in Complex} ((a_{1} + ..a_{_a}.. + a_{i}) in Complex)]\n",
       "9\tinstantiation\t14\t|- |(a, b, 5)| = |(1, ..k.., 3)|\n",
       "\ta : a, b : b, c : 5\n",
       "10\tinstantiation\t44, 31, 15\t|- 5 in Complex\n",
       "\tA : Real, B : Complex, x : 5\n",
       "11\taxiom\t\t|- forall_{x, y, z | x = y, y = z} (x = z)\n",
       "\tproveit.logic.equality.equals_transitivity\n",
       "12\tinstantiation\t16, 43, 17, 18, 19, 20, 21, 22, 23, 24\t{a in Complex, b in RealNeg} |- (a + b + 2 + 3) = (a + b + (2 + 3))\n",
       "\ti : 2, j : 2, k : 0, a : (a, b), b : (2, 3), c : ()\n",
       "13\tinstantiation\t25, 26\t|- (a + b + (2 + 3)) = (a + b + 5)\n",
       "\tf(_a) : a + b + _a, x : 2 + 3, y : 5\n",
       "14\tconjecture\t\t|- forall_{a, b, c} (|(a, b, c)| = |(1, ..k.., 3)|)\n",
       "15\tinstantiation\t44, 37, 27\t|- 5 in Real\n",
       "\tA : Rational, B : Real, x : 5\n",
       "16\tconjecture\t\t|- forall_{i, j, k in Natural} [forall_{a_{1}, ..a_{_a}.., a_{i}, b_{1}, ..b_{_a}.., b_{j}, c_{1}, ..c_{_a}.., c_{k} in Complex} ((a_{1} + ..a_{_a}.. + a_{i} + b_{1} + ..b_{_a}.. + b_{j} + c_{1} + ..c_{_a}.. + c_{k}) =  \\\\ (a_{1} + ..a_{_a}.. + a_{i} + (b_{1} + ..b_{_a}.. + b_{j}) + c_{1} + ..c_{_a}.. + c_{k}))]\n",
       "17\taxiom\t\t|- 0 in Natural\n",
       "\tproveit.numbers.number_sets.natural_numbers.zero_in_nats\n",
       "18\tinstantiation\t28\t|- |(a, b)| = |(1, ..k.., 2)|\n",
       "\ta : a, b : b\n",
       "19\tinstantiation\t28\t|- |(2, 3)| = |(1, ..k.., 2)|\n",
       "\ta : 2, b : 3\n",
       "20\tconjecture\t\t|- |()| = |(1, ..a.., 0)|\n",
       "21\tassumption\t\t{a in Complex} |- a in Complex\n",
       "22\tinstantiation\t44, 31, 29\t{b in RealNeg} |- b in Complex\n",
       "\tA : Real, B : Complex, x : b\n",
       "23\tinstantiation\t44, 31, 30\t|- 2 in Complex\n",
       "\tA : Real, B : Complex, x : 2\n",
       "24\tinstantiation\t44, 31, 32\t|- 3 in Complex\n",
       "\tA : Real, B : Complex, x : 3\n",
       "25\taxiom\t\t|- forall_{f, x, y | x = y} (f(x) = f(y))\n",
       "\tproveit.logic.equality.substitution\n",
       "26\tconjecture\t\t|- (2 + 3) = 5\n",
       "27\tinstantiation\t44, 41, 33\t|- 5 in Rational\n",
       "\tA : Integer, B : Rational, x : 5\n",
       "28\tconjecture\t\t|- forall_{a, b} (|(a, b)| = |(1, ..k.., 2)|)\n",
       "29\tinstantiation\t44, 34, 35\t{b in RealNeg} |- b in Real\n",
       "\tA : RealNeg, B : Real, x : b\n",
       "30\tinstantiation\t44, 37, 36\t|- 2 in Real\n",
       "\tA : Rational, B : Real, x : 2\n",
       "31\tconjecture\t\t|- Real proper_subset Complex\n",
       "32\tinstantiation\t44, 37, 38\t|- 3 in Real\n",
       "\tA : Rational, B : Real, x : 3\n",
       "33\tinstantiation\t44, 45, 39\t|- 5 in Integer\n",
       "\tA : Natural, B : Integer, x : 5\n",
       "34\tconjecture\t\t|- RealNeg proper_subset Real\n",
       "35\tassumption\t\t{b in RealNeg} |- b in RealNeg\n",
       "36\tinstantiation\t44, 41, 40\t|- 2 in Rational\n",
       "\tA : Integer, B : Rational, x : 2\n",
       "37\tconjecture\t\t|- Rational proper_subset Real\n",
       "38\tinstantiation\t44, 41, 42\t|- 3 in Rational\n",
       "\tA : Integer, B : Rational, x : 3\n",
       "39\tconjecture\t\t|- 5 in Natural\n",
       "40\tinstantiation\t44, 45, 43\t|- 2 in Integer\n",
       "\tA : Natural, B : Integer, x : 2\n",
       "41\tconjecture\t\t|- Integer proper_subset Rational\n",
       "42\tinstantiation\t44, 45, 46\t|- 3 in Integer\n",
       "\tA : Natural, B : Integer, x : 3\n",
       "43\ttheorem\t\t|- 2 in Natural\n",
       "\tproveit.numbers.numerals.decimals.nat2\n",
       "44\ttheorem\t\t|- forall_{A, B | A proper_subset B} [forall_{x in A} (x in B)]\n",
       "\tproveit.logic.sets.inclusion.superset_membership_from_proper_subset\n",
       "45\tconjecture\t\t|- Natural proper_subset Integer\n",
       "46\tconjecture\t\t|- 3 in Natural"
      ]
     },
     "execution_count": 37,
     "metadata": {},
     "output_type": "execute_result"
    }
   ],
   "source": [
    "demo_expr_02_ge_zero.proof()"
   ]
  },
  {
   "cell_type": "markdown",
   "metadata": {},
   "source": [
    "<a id='demo03'></a><font size=4><br><b>3. Simplifying $1 + |x+1|$</b></font><br><br>\n",
    "<font size=3>Consider the simple expression $1 + |x+1|$ involving the sum of a constant and an absolute value expression.</font>"
   ]
  },
  {
   "cell_type": "code",
   "execution_count": 38,
   "metadata": {},
   "outputs": [
    {
     "data": {
      "text/html": [
       "<strong id=\"demo_expr_03\">demo_expr_03:</strong> <a class=\"ProveItLink\" href=\"../__pv_it/demonstrations/95323b96bed794bd0e9c4f6b40d32abdd09c83de0/expr.ipynb\"><img src=\"data:image/png;base64,iVBORw0KGgoAAAANSUhEUgAAAFwAAAAVBAMAAAA5lpTPAAAAMFBMVEX///9ERETc3Ny6urrMzMwi\n",
       "IiIyMjJmZmaIiIiYmJh2dnZUVFTu7u4QEBCqqqoAAACfeJGdAAAAAXRSTlMAQObYZgAAALhJREFU\n",
       "KM9jYMAALAcYcAEfLGJcBjiVLyZZOd8d4pS/PQBSfnr1HyifrwGb8hcQimfXfrByBk6ilDMwzKea\n",
       "cp6OTRYriFd+imFqQxjxytcwrD9ghE85V1pa6rW0tA0Q5QcYBMFKlqWlxaalZRP26g+SQoblCynK\n",
       "33B8YOjBrpwDUznzP8YPTBPQlPeDlbPv/VaJrpxnR0/7TDTHVN9Pn4CSIgnEKnoC5jmATfkZytI7\n",
       "pco5HHAqbwEAH6pgbU6UPlcAAAAASUVORK5CYII=\n",
       "\" style=\"display:inline;vertical-align:middle;\" /></a><br>"
      ],
      "text/plain": [
       "demo_expr_03: 1 + |x + 1|"
      ]
     },
     "execution_count": 38,
     "metadata": {},
     "output_type": "execute_result"
    }
   ],
   "source": [
    "demo_expr_03 = Add(one, Abs(Add(x, one)))"
   ]
  },
  {
   "cell_type": "markdown",
   "metadata": {},
   "source": [
    "<font size=3>If we know that $x\\in \\mathbb{R}^{+}$, simplification should be able to eliminate the absolute value and commute and combine the known constants:</font>"
   ]
  },
  {
   "cell_type": "code",
   "execution_count": 39,
   "metadata": {},
   "outputs": [
    {
     "data": {
      "text/html": [
       "<span style=\"font-size:20px;\"><a class=\"ProveItLink\" href=\"../__pv_it/demonstrations/f753f28ff099603bf4f80e8cfce3668c42bfcdd50/expr.ipynb\"><img src=\"data:image/png;base64,iVBORw0KGgoAAAANSUhEUgAAAEAAAAAUBAMAAADPWCYMAAAAMFBMVEX///8QEBBmZmaqqqrMzMxE\n",
       "REQyMjIiIiKYmJh2dna6urrc3NxUVFSIiIju7u4AAAA6P00QAAAAAXRSTlMAQObYZgAAANhJREFU\n",
       "KM9jYKAIHCCkIIBGCjgKQ78lRuAzgY3vAEtEHANPWppYWgY2BazcExgC9mAxobW8PAGmQJsNU4Hr\n",
       "PSQTtFnhCt7e2XXzApDmy0O24sAamAK+CRy17CCTeTYgKWAuyoMp4HzA+Y8LJMeK5Ejx8mQwCyTO\n",
       "x8AKcYpjGhBAHTlLIQ7JcfwXwNRWZG9quSIp8HcAU4zIClhfXIDxmB/cZ+B9AGQwXUBSwHJABcZb\n",
       "bxDPsAPMKkYKaobJPA5Q3pu7bzUaIKyoB/DIcmAN+4wZByvDIUGNAgAV7jueYKkKYgAAAABJRU5E\n",
       "rkJggg==\n",
       "\" style=\"display:inline;vertical-align:middle;\" /></a> <a class=\"ProveItLink\" href=\"../__pv_it/demonstrations/394e782ad037120bc1c8c8054912da8f0036358d0/proof.ipynb\" style=\"text-decoration: none\">&nbsp;&#x22A2;&nbsp;&nbsp;</a><a class=\"ProveItLink\" href=\"../__pv_it/demonstrations/7eaa46c17c03b082ee5dee6dfcf2ba5862533a690/expr.ipynb\"><img src=\"data:image/png;base64,iVBORw0KGgoAAAANSUhEUgAAAMYAAAAVBAMAAADvH4zvAAAAMFBMVEX////MzMxUVFR2dna6uroQ\n",
       "EBCqqqqIiIgiIiJmZmYyMjJERETu7u6YmJjc3NwAAACgK8IjAAAAAXRSTlMAQObYZgAAAixJREFU\n",
       "SMedlT9IHEEUxr+7vbu9u93VA1tBG7GTIwbEEPA6rdTCSizstBBZk0IEMUtCEkghRyxFULHQLURr\n",
       "URdF/JMUliaQsIVFmsjZGJDDy5vdu7g3O5Pc5sHdLm/fvN/MvJnvAUJrhcxiDqJb06XA+VQarhQw\n",
       "LXD/lMWnXPr7hKiMuBvy6jui2PPlXaCLXrYZbKwhBgsjhr4a+pJ1BeF6O/oKuACMInD0pFzLYooY\n",
       "E/7DCyMGekLpvtTPxc+ScZAchmIizWZgNMTwwhjjJMRYFDGSFuIP0IfxA9EZ2QJ/biwRI1tG/BbY\n",
       "wJyMcfri+qUpZihFjqGSQ5/t6u+pzwKkaUQv9iUMPW+8T6+KGYbnf2Yz22KvGp3/Y1yZH3jGUB74\n",
       "incShuIo5YQrZqQsbh3pceA5+pxBnvGafpMYeWQotr05atvt/jqg+WeepvvWtteDjFiJYyTJ6WAP\n",
       "XBZk2Ka2BRlczZtNWc2FDOAXV3P4xW6T7hV9y8kYCeuxHuu1vULslmekirgBBqQ1TzmvoDp/q3nA\n",
       "WM2n1BLm67O0AAus5r3e2QszhsYP/whdjaFWGZk8L2JFJO60Uk1eq1ma3nR/pBUv0UpoTMf9Cs84\n",
       "mj1duaxneGHeHcxxDNo8vXN+7ht3ByuVCjHWfC3hb6jknld1F2eNaUlVGS1PEwMOR8T4zDH+pYl6\n",
       "sI+RJuIgcv8QaLvmSgdc/FeP0hrtUZ4dyHrtjHSImsP3KL3WcPEbv06v4m6GSFMAAAAASUVORK5C\n",
       "YII=\n",
       "\" style=\"display:inline;vertical-align:middle;\" /></a></span>"
      ],
      "text/plain": [
       "{x in RealPos} |- (1 + |x + 1|) = (x + 2)"
      ]
     },
     "execution_count": 39,
     "metadata": {},
     "output_type": "execute_result"
    }
   ],
   "source": [
    "demo_expr_03.simplification(assumptions=[InSet(x, RealPos)])"
   ]
  },
  {
   "cell_type": "markdown",
   "metadata": {},
   "source": [
    "## Misc Testing\n",
    "<font size=3>The material below was developed to test various absolute_value methods. Some of this material could be integrated into the `_demonstrations_` page eventually and/or deleted as development continues.</font>"
   ]
  },
  {
   "cell_type": "markdown",
   "metadata": {},
   "source": [
    "### Some Example `Abs` Expressions For Testing"
   ]
  },
  {
   "cell_type": "code",
   "execution_count": 40,
   "metadata": {},
   "outputs": [
    {
     "data": {
      "text/html": [
       "<strong id=\"abs_value_1_plus_2\">abs_value_1_plus_2:</strong> <a class=\"ProveItLink\" href=\"../__pv_it/demonstrations/a275c5385da724e750bc0ae2e95f6ac4e314f1a40/expr.ipynb\"><img src=\"data:image/png;base64,iVBORw0KGgoAAAANSUhEUgAAADUAAAAVBAMAAAAUZLt1AAAAMFBMVEX////c3NxEREQiIiIyMjJm\n",
       "ZmaYmJhUVFQQEBCqqqqIiIi6urp2dnbu7u7MzMwAAABqK0sxAAAAAXRSTlMAQObYZgAAAJhJREFU\n",
       "KM9jeMuAA/BdYDiNS45nA1Y53lClBzC5GRdQ5a4z8PyGyPHW1MPkZkGoWAaGDpi+fDS5ZgaGegEc\n",
       "cv4XGOof4JADAvsLOOW4/zDglGMuQJU74uJi4eLiDpYLZcCpjysAt9xUBkZcfuA7wMAFk1uPJid8\n",
       "5mgx1MzwftcEVL////8ZIx5m4Ymju4Tjjxi5dbjkuB4AALYBTibRq6jFAAAAAElFTkSuQmCC\n",
       "\" style=\"display:inline;vertical-align:middle;\" /></a><br>"
      ],
      "text/plain": [
       "abs_value_1_plus_2: |1 + 2|"
      ]
     },
     "execution_count": 40,
     "metadata": {},
     "output_type": "execute_result"
    }
   ],
   "source": [
    "abs_value_1_plus_2 = Abs(Add(one, two))"
   ]
  },
  {
   "cell_type": "code",
   "execution_count": 41,
   "metadata": {},
   "outputs": [
    {
     "data": {
      "text/html": [
       "<strong id=\"abs_value_a_plus_b\">abs_value_a_plus_b:</strong> <a class=\"ProveItLink\" href=\"../__pv_it/demonstrations/6dc61e8fc531e2172c058db65b7924eb22d7d8a20/expr.ipynb\"><img src=\"data:image/png;base64,iVBORw0KGgoAAAANSUhEUgAAADUAAAAVBAMAAAAUZLt1AAAAMFBMVEX///9UVFSqqqoiIiJERESY\n",
       "mJgyMjIQEBBmZmbc3NyIiIi6urp2dnbu7u7MzMwAAABs7OAJAAAAAXRSTlMAQObYZgAAAL9JREFU\n",
       "KM9jeMuAA/BdYDiNS45nA1Y5XncDnHIMbA2YckwLIDS/Am65/Rdwyx2Gu4Wzp6sWVS5xVRNUbvsE\n",
       "tg8ocrzfLtyfAJbjLWXgcECRY/rLwL8ALMfxl4EZJMaTlpZclpYmwMDAkcBw/wBYjt2B4f4DFH1A\n",
       "7+1XAMvdP8Cgj+pO/gCG/gsQOQUGMaYJKHIbgG4Ay7EsYDXkQdHHGMDSAJHjlVo3cTWqH7qO4g4X\n",
       "bHHEe4Fg/BEjtw6XHNcDAI+VTMzeHv4BAAAAAElFTkSuQmCC\n",
       "\" style=\"display:inline;vertical-align:middle;\" /></a><br>"
      ],
      "text/plain": [
       "abs_value_a_plus_b: |a + b|"
      ]
     },
     "execution_count": 41,
     "metadata": {},
     "output_type": "execute_result"
    }
   ],
   "source": [
    "abs_value_a_plus_b = Abs(Add(a, b))"
   ]
  },
  {
   "cell_type": "code",
   "execution_count": 42,
   "metadata": {},
   "outputs": [
    {
     "data": {
      "text/html": [
       "<strong id=\"abs_value_a_plus_2\">abs_value_a_plus_2:</strong> <a class=\"ProveItLink\" href=\"../__pv_it/demonstrations/e1177f1d03e3b95964a152becd63ed6f6c25f0180/expr.ipynb\"><img src=\"data:image/png;base64,iVBORw0KGgoAAAANSUhEUgAAADYAAAAVBAMAAAD/UwB2AAAAMFBMVEX///9UVFSqqqoiIiJERESY\n",
       "mJgyMjIQEBBmZmbc3NyIiIi6urp2dnbu7u7MzMwAAABs7OAJAAAAAXRSTlMAQObYZgAAALtJREFU\n",
       "KM9jeMuAC7xlOI1T7jR2uRstfrjkeAUYzm9Al9OCUBwXGNgLcMixGzAw/sQhx/aXgfEfRG7GieUX\n",
       "UOSAgPkvWI67kiGfAV1u/wGw3PUAhhYMOUOIH/ovMFiBuMfS0szT0hIhLm2AyJUw8P5D17cCEi68\n",
       "fxiYPqDJMTUwzATLfWJgTNBElXvDwLASbKYXQ7DAARQ5TpszjQZguYurXkptQPX7////DXCEC9Y4\n",
       "uktE/BEhtw6n3DoATqpLHbg/bWoAAAAASUVORK5CYII=\n",
       "\" style=\"display:inline;vertical-align:middle;\" /></a><br>"
      ],
      "text/plain": [
       "abs_value_a_plus_2: |a + 2|"
      ]
     },
     "execution_count": 42,
     "metadata": {},
     "output_type": "execute_result"
    }
   ],
   "source": [
    "abs_value_a_plus_2 = Abs(Add(a, two))"
   ]
  },
  {
   "cell_type": "code",
   "execution_count": 43,
   "metadata": {},
   "outputs": [
    {
     "data": {
      "text/html": [
       "<strong id=\"abs_value_a_times_b\">abs_value_a_times_b:</strong> <a class=\"ProveItLink\" href=\"../__pv_it/demonstrations/35f0a21c60b2e5c450b0a24470809f4e4d4bf8370/expr.ipynb\"><img src=\"data:image/png;base64,iVBORw0KGgoAAAANSUhEUgAAACoAAAAVBAMAAADCwWEQAAAAMFBMVEX///9UVFSqqqoiIiJERESY\n",
       "mJgyMjIQEBBmZmbc3NyIiIi6urp2dnbu7u7MzMwAAABs7OAJAAAAAXRSTlMAQObYZgAAAKhJREFU\n",
       "GNNjeMuACd4ynMYiehpd9EoxNlGGDKyin7CJcv/FJspjABOdcWL5BZgom9QKBbAodyVDPlzt/Vze\n",
       "n2DR6wEMLSABXhChf4HhF1i0/wKDFVhZApBoY+D9AxYtYeD9BxJlFgA7l/sTSBQox/QBbu5XBo6/\n",
       "YNFPDIwJmjDR3yBrQCZ4MQQLHICJijJ4QNx7cdVLqQ0w0RtrArCFA9aQJEN0HRbRdQClf0W9FSh9\n",
       "CwAAAABJRU5ErkJggg==\n",
       "\" style=\"display:inline;vertical-align:middle;\" /></a><br>"
      ],
      "text/plain": [
       "abs_value_a_times_b: |a * b|"
      ]
     },
     "execution_count": 43,
     "metadata": {},
     "output_type": "execute_result"
    }
   ],
   "source": [
    "abs_value_a_times_b = Abs(Mult(a, b))"
   ]
  },
  {
   "cell_type": "code",
   "execution_count": 44,
   "metadata": {},
   "outputs": [
    {
     "data": {
      "text/html": [
       "<strong id=\"abs_value_a_div_b\">abs_value_a_div_b:</strong> <a class=\"ProveItLink\" href=\"../__pv_it/demonstrations/957c0c0588e381ce036365611d83efb5c35ef6350/expr.ipynb\"><img src=\"data:image/png;base64,iVBORw0KGgoAAAANSUhEUgAAABgAAAAnCAMAAAAihXiyAAAAOVBMVEX///9UVFSqqqoiIiJERESY\n",
       "mJgyMjK6urru7u6IiIh2dnbc3NxRUVEGBgYMDAxmZmYQEBDMzMwAAAD6XNRlAAAAAXRSTlMAQObY\n",
       "ZgAAALtJREFUKM+909sOgyAMANByL6AW+v8fOzRTHMVkLxsPDfFIaQWhwnRUKHMoHTIligUFhJIB\n",
       "PIsVWFyLZAUQ70lMFFD2d5HrCMipRc0gQbeoPOg8pLItuzMKkqhKxVizikE2OHa+zWGDdQ7rFx/x\n",
       "58B9/H/zCSzvGdpibrDcVnh6SHWc7gQC4xySeajKt1MnLQHZYwtZgD624CiA/HUhP+HoIlwld2B3\n",
       "3fkBwvmTDKDaM0u3Ps45UkyuN0gveiUJ4h0NKxwAAAAASUVORK5CYII=\n",
       "\" style=\"display:inline;vertical-align:middle;\" /></a><br>"
      ],
      "text/plain": [
       "abs_value_a_div_b: |a / b|"
      ]
     },
     "execution_count": 44,
     "metadata": {},
     "output_type": "execute_result"
    }
   ],
   "source": [
    "abs_value_a_div_b = Abs(frac(a,b))"
   ]
  },
  {
   "cell_type": "markdown",
   "metadata": {},
   "source": [
    "### Testing the `deduce_in_number_set()` method"
   ]
  },
  {
   "cell_type": "code",
   "execution_count": 45,
   "metadata": {},
   "outputs": [
    {
     "data": {
      "text/html": [
       "<span style=\"font-size:20px;\"> <a class=\"ProveItLink\" href=\"../__pv_it/demonstrations/cafe5791c557c50a58f52d521dd8066201714daa0/proof.ipynb\" style=\"text-decoration: none\">&nbsp;&#x22A2;&nbsp;&nbsp;</a><a class=\"ProveItLink\" href=\"../__pv_it/demonstrations/88a876b21d1bc2da22a5dc39b67ff6ff3e9792f00/expr.ipynb\"><img src=\"data:image/png;base64,iVBORw0KGgoAAAANSUhEUgAAAGAAAAAVBAMAAABLWfZ5AAAAMFBMVEX////c3NxEREQiIiIyMjJm\n",
       "ZmaYmJhUVFQQEBCqqqqIiIi6urp2dnbu7u7MzMwAAABqK0sxAAAAAXRSTlMAQObYZgAAASpJREFU\n",
       "OMtjeMuAA/BdwC5+GpcGng3Ea+ANVXqAroHNQumLhxpEA2cvmobrDDy/MWxg4S3gU9MFabh+/C9U\n",
       "jHMBhI5lYOjA0MDEeIBBQRxsAxu6hmYGhnoBmIYkY2MHmIZAFuwa/C8w1D+Aani0FsmGQCbsGoDA\n",
       "/gJEA68vspMKtuPSwP0H6gd2ASQNnKa+uDQwF0A1MCF5utnYkwFJA4+Li3OLi0sBWDYUFnEvXIAA\n",
       "6unTAboMOGzgCoBpEEIO1uhHuDRMZWCEBisHsgamawuwa+A7wMAF1cC6AEkDX0EcWAMXugbhM0eL\n",
       "YTFtiZQ0GE6yPwBqYK34EoYWcf//f4ZpuK59AZ74HjCp/ERJrUgRh0jee5QhSQNb8ua9QGZ+oK6G\n",
       "dbg0cD3AKgwAqpJsgPozL9kAAAAASUVORK5CYII=\n",
       "\" style=\"display:inline;vertical-align:middle;\" /></a></span>"
      ],
      "text/plain": [
       "|- |1 + 2| in Real"
      ]
     },
     "execution_count": 45,
     "metadata": {},
     "output_type": "execute_result"
    }
   ],
   "source": [
    "abs_value_1_plus_2.deduce_in_number_set(Real)"
   ]
  },
  {
   "cell_type": "code",
   "execution_count": 46,
   "metadata": {},
   "outputs": [
    {
     "name": "stdout",
     "output_type": "stream",
     "text": [
      "EXCEPTION:  Proof step failed:\n",
      "Attempting to instantiate |- forall_{a in Complex | a != 0} (|a| in RealPos) with {a: 1 + 2}:\n",
      "Unsatisfied condition: (1 + 2) != 0\n"
     ]
    }
   ],
   "source": [
    "# Prove-It does not automatically know that 1 + 2 ≠ 0\n",
    "# so we don't automatically know |1+2| is a positive real\n",
    "try:\n",
    "    abs_value_1_plus_2.deduce_in_number_set(RealPos)\n",
    "except Exception as e:\n",
    "    print(\"EXCEPTION: \", e)"
   ]
  },
  {
   "cell_type": "code",
   "execution_count": 47,
   "metadata": {},
   "outputs": [
    {
     "data": {
      "text/html": [
       "<strong id=\"result01\">result01:</strong> <span style=\"font-size:20px;\"> <a class=\"ProveItLink\" href=\"../../numerals/decimals/_theory_nbs_/proofs/add_1_2/thm_proof.ipynb\" style=\"text-decoration: none\">&nbsp;&#x22A2;&nbsp;&nbsp;</a><a class=\"ProveItLink\" href=\"../../numerals/decimals/__pv_it/theorems/ea88931e857d0a37b34de85c1f49714f07cb1b5f0/expr.ipynb\"><img src=\"data:image/png;base64,iVBORw0KGgoAAAANSUhEUgAAAGEAAAAUBAMAAABvx07iAAAAMFBMVEX////MzMxUVFR2dna6uroQ\n",
       "EBCqqqqIiIgiIiJmZmYyMjJERETu7u6YmJjc3NwAAACgK8IjAAAAAXRSTlMAQObYZgAAAUlJREFU\n",
       "KM9jYOC7wIAd5OEQZziNRYxn5m4BBqYH6MJ8xtYJQGodEKceQJU6xMD8hYFnAbqOlwxsfxkYeCcw\n",
       "8Cjrw3SkQ6g5DAyhDAzm6DrqExh+MDBwgOy+j6YjgoFB/wHDUXQdrg4MvxgYXjBg0bH+AIO+AAOX\n",
       "A4YHQa6qxKYDCPoPMDBPwNBxwoCBYS92HSyfgV4Ee515FRiAdT/uBCpsw66DQwHohAYMO9hDGBhC\n",
       "EDqsVq1qXbVqEVhqJhAzfsCMqdADyDqQ7GCfgE3HOwaG/Qk4XJXJwPeAgaUByR9AVzL8PwDSgdXn\n",
       "jAYM7A+gPkcC0eAgtARHJpqOF8aWGgwMnAZoOu6C48MDyJoUv/ICagz+/w9MDlwCaDpYZs52gKYS\n",
       "OEhHiS7siZ0XJWLPIHPMceSPfbgyDmZqx5OjwID7AQ4JnLn2HnZhAFxhZ5Sc2KPRAAAAAElFTkSu\n",
       "QmCC\n",
       "\" style=\"display:inline;vertical-align:middle;\" /></a></span><br>\n",
       "<strong id=\"result02\">result02:</strong> <span style=\"font-size:20px;\"> <a class=\"ProveItLink\" href=\"../__pv_it/demonstrations/1d13ec2daee033a07e9e45466a2cdb4bf86ff8d60/proof.ipynb\" style=\"text-decoration: none\">&nbsp;&#x22A2;&nbsp;&nbsp;</a><a class=\"ProveItLink\" href=\"../__pv_it/demonstrations/c3b9cacc4381ffe8dacd4d86904018a634ffa63a0/expr.ipynb\"><img src=\"data:image/png;base64,iVBORw0KGgoAAAANSUhEUgAAADEAAAAUCAMAAAATIyWrAAAAOVBMVEX///8kJCQNDQ0oKCjMzMxU\n",
       "VFTu7u4yMjIQEBC6uroiIiKIiIiYmJhmZmaqqqpERER2dnbc3NwAAAB8e35GAAAAAXRSTlMAQObY\n",
       "ZgAAAOBJREFUKM+1UssSwyAItK1RfBCR///YKiYdNU5mcigHR8RlYUGpOyOzfM5ElPZlxA7wEEnL\n",
       "M5Zj57hAbK5zbElqfC63wDU/+wVF6pwIwlNZHdRMbBcUunPSpqSWs7NVVQOFYkE4Pho2nq4Uqacw\n",
       "jA0RmlgeOxnJin3e9cSTkCWnbojaPrhbioLAhvgVAzANS2+D21eVs2TkaYYpjz4fWpVvLIJ1COnj\n",
       "Ba2bH1MS5WL9DHL1PFZlJ4p+gjEu5uHwIravWwK6RRHTJJW9Lq2hEIYtGGxH9dCseQjY6e8Uyt0F\n",
       "v1FHCOw+F3OJAAAAAElFTkSuQmCC\n",
       "\" style=\"display:inline;vertical-align:middle;\" /></a></span><br>"
      ],
      "text/plain": [
       "result01: |- (1 + 2) = 3\n",
       "result02: |- 3 != 0"
      ]
     },
     "execution_count": 47,
     "metadata": {},
     "output_type": "execute_result"
    }
   ],
   "source": [
    "# This and the next cell combine to produce a puzzle\n",
    "# The deduce_in_number_set in the next cell does not automatically\n",
    "# find that 1 + 2 ≠ 0, but even when we do that manually first\n",
    "# as in this cell, the next cell initially fails, but will then\n",
    "# go through if manually entered a second time.\n",
    "result01, result02 = (\n",
    "    Add(one, two).evaluation(),\n",
    "    NotEquals(three, zero).prove())"
   ]
  },
  {
   "cell_type": "code",
   "execution_count": 48,
   "metadata": {},
   "outputs": [
    {
     "name": "stdout",
     "output_type": "stream",
     "text": [
      "|- |1 + 2| in RealPos\n"
     ]
    }
   ],
   "source": [
    "success = False\n",
    "try:\n",
    "    print(abs_value_1_plus_2.deduce_in_number_set(RealPos))\n",
    "except:\n",
    "    print(\"Initial attempt failed.\")\n",
    "    print(abs_value_1_plus_2.deduce_in_number_set(RealPos))"
   ]
  },
  {
   "cell_type": "code",
   "execution_count": null,
   "metadata": {},
   "outputs": [],
   "source": []
  },
  {
   "cell_type": "code",
   "execution_count": 49,
   "metadata": {},
   "outputs": [
    {
     "data": {
      "text/html": [
       "<span style=\"font-size:20px;\"><a class=\"ProveItLink\" href=\"../../addition/__pv_it/theorems/2c1fc3e8a81a10377274b829c6582ce3bef7b0ea0/expr.ipynb\"><img src=\"data:image/png;base64,iVBORw0KGgoAAAANSUhEUgAAAGQAAAAUBAMAAACJ7oWmAAAAMFBMVEX///9UVFTMzMx2dna6uroQ\n",
       "EBCqqqqIiIgiIiJmZmYyMjJERETu7u6YmJjc3NwAAAC+aOQFAAAAAXRSTlMAQObYZgAAAZpJREFU\n",
       "KM9jYOC7wIAd5DHgAqexiPFsbWBgYHyAIV7V9bV7AgPDOmzmcAEleBagiyp9Yzj5dwID7wRkwXQo\n",
       "zZ8AJMzRdPAyFjAw3J/AwPEAmxb/A0DiKJRzu6MDbOElVqAo4wSGFwzYtFiAXecAZmvXQAUnvAZ5\n",
       "s4ChEkjxTZ4eg6plYfk0BgZmsJt51sDCREATwtgLxK4PuD6gaOH5deD8AwZesHPgAcdn4A5htAEV\n",
       "xDJwbkDRwvaHgb+Aga0BxOaGOZpvAlRLCAMD5x8GDmBYMFitWtW6atVCIItzAcN5AwYmsNWqq4AA\n",
       "ZB/PBmW4FtYNDOcVUGwBRot/AlTLa3jYrGGEOwxoYD5qiPFfYJh/gIEF7DBWuJabYC0HQN4/n8Ag\n",
       "xfYARYsD0H9Q73MWwLRwlwCZLAsYLIHMAt5GZhRbGC9wAwOY0wDmDiiYtfnAsd0HGDyA/hIveliC\n",
       "GsjTbUE+gnjw4JYDUC1Ms+I7gWLYEwwYnIDSzjs6UFIoarI8g8wxx5Vf9uGSwEz8+LIYJIAe4JLB\n",
       "mZHv4RAHAGvUatedSwhcAAAAAElFTkSuQmCC\n",
       "\" style=\"display:inline;vertical-align:middle;\" /></a> <a class=\"ProveItLink\" href=\"../__pv_it/demonstrations/794eff01469f2b4f5d7b97107b2b239aa2370f090/proof.ipynb\" style=\"text-decoration: none\">&nbsp;&#x22A2;&nbsp;&nbsp;</a><a class=\"ProveItLink\" href=\"../__pv_it/demonstrations/a49243f86de5d2896e1e205bebf28e80d4af8b770/expr.ipynb\"><img src=\"data:image/png;base64,iVBORw0KGgoAAAANSUhEUgAAAF8AAAAVBAMAAADSoS/MAAAAMFBMVEX///9UVFSqqqoiIiJERESY\n",
       "mJgyMjIQEBBmZmbc3NyIiIi6urp2dnbu7u7MzMwAAABs7OAJAAAAAXRSTlMAQObYZgAAAU1JREFU\n",
       "OMtjeMuAA/BdwC5+GpcGng3Ea+B1N8DQEFzin1YSgMsGtgZMGxIuMjwJuYCmQQtK8ytganCYw8DC\n",
       "KYBDw/4LCA0hxsYJUA0cExJwaDiM8PSTtQgbOCY4gDVw9nTVompIXNUE1cCbi+QkRm6Ik7ZPYPuA\n",
       "ooH324X7EyAaGCcgaVBuA3uat5SBwwFFA9NfBv4FEA0sCE9PNzZTAAcrx18G5gVA1rG0NPO0tEQg\n",
       "iyOB4f4BiIbnaUAA9fQOlgtgDewODPcfoNgAjIb9ChANU5CClWOfA1jD/QMM+qihxB/A0H8BooEd\n",
       "OR58oyAaFBjEmCagaNgA9BdEA8cCJA0POR6ANLAsYDXkQbGBMYClARYPRkhJg0dBDhxKUusmrkYN\n",
       "1q6j8Ii76H0BlvjyGFzyFbDHNHLy3uMMSRpYk/ddMvMDdTWsw6WB6wFWYQDv3W4MyegTlAAAAABJ\n",
       "RU5ErkJggg==\n",
       "\" style=\"display:inline;vertical-align:middle;\" /></a></span>"
      ],
      "text/plain": [
       "{(a + b) in Complex} |- |a + b| in Real"
      ]
     },
     "execution_count": 49,
     "metadata": {},
     "output_type": "execute_result"
    }
   ],
   "source": [
    "# Abs(x) is real when x is complex\n",
    "abs_value_a_plus_b.deduce_in_number_set(\n",
    "    Real, assumptions=[InSet(Add(a,b), Complex)])"
   ]
  },
  {
   "cell_type": "code",
   "execution_count": 50,
   "metadata": {},
   "outputs": [
    {
     "data": {
      "text/html": [
       "<span style=\"font-size:20px;\"><a class=\"ProveItLink\" href=\"../../addition/__pv_it/theorems/bd2f502b953df5e1834a5d80011e6b2e7aa85c890/expr.ipynb\"><img src=\"data:image/png;base64,iVBORw0KGgoAAAANSUhEUgAAADMAAAAPBAMAAAC7N+rPAAAAMFBMVEX///9UVFSqqqrMzMwiIiJE\n",
       "RESYmJgyMjK6urru7u4QEBCIiIh2dnZmZmbc3NwAAABRgo0vAAAAAXRSTlMAQObYZgAAAMpJREFU\n",
       "GNNjYMAAKUvjy5cmMGAFBRMZTFMnYJUKeMPAyieAIpTq4lIAleJ9UIAsY7oToYv3QQCQwXfn9kqQ\n",
       "AGclkoGMHCADux6wfwAJMD5AklK5DnQG5zIGXpBmBlaEM165uCsAad6fDCwbQAJW5UAAdUYvK8jt\n",
       "XAEM8w1AAk+RHM/bDDJo/gEGfbAAF7K/IrNBUgoM4kwgF/BuQJIy5AWaxLqBzZEHLOKEFFA8CsJA\n",
       "F0pvfrgDLDIxYgIseIsZQusVkIOjJ8QFOXgAnyk4ZcxDaYcAAAAASUVORK5CYII=\n",
       "\" style=\"display:inline;vertical-align:middle;\" /></a>, <a class=\"ProveItLink\" href=\"../__pv_it/demonstrations/e21bfd427aea9db5d9615569745a3188e5338b8c0/expr.ipynb\"><img src=\"data:image/png;base64,iVBORw0KGgoAAAANSUhEUgAAAD0AAAAUBAMAAADM7ygkAAAAMFBMVEX////MzMyYmJjc3NyIiIhU\n",
       "VFR2dna6urqqqqpmZmYyMjIiIiIQEBBERETu7u4AAACIO4EmAAAAAXRSTlMAQObYZgAAAPNJREFU\n",
       "KM9jYCAfsBKQ56WGPN+dDaiir/7eesCQ86cApp9rApq2S4wBDHwfGKJWrVm1SoGBgb8BTT5awIWB\n",
       "4QDc/voHUHHd3bsXgOjwe6wCDBvg8tlQaVk/KCNYlG8dkvxSlxlgd66DmR/M4SCKkOf79eC9ASiw\n",
       "DODyDOlMDnB5jn8M/A4ogRHMwPogECTPDOJxLmB4nwCkZVYBwQKIPF8A1wGYaqD360E+tEXSzyDG\n",
       "CJfnV2CYD/IhD7I8U8MFuHwB3yGwPQ4wkUAgTobLsyrwQgJ4B0xkBcRVUMA3JQnCeHodEpDSf4B6\n",
       "+RZgRmfZ7d2YogCRtz/SUEahMwAAAABJRU5ErkJggg==\n",
       "\" style=\"display:inline;vertical-align:middle;\" /></a> <a class=\"ProveItLink\" href=\"../__pv_it/demonstrations/32577628592ce5b8b1fc19d561c730c71a676e290/proof.ipynb\" style=\"text-decoration: none\">&nbsp;&#x22A2;&nbsp;&nbsp;</a><a class=\"ProveItLink\" href=\"../__pv_it/demonstrations/a49243f86de5d2896e1e205bebf28e80d4af8b770/expr.ipynb\"><img src=\"data:image/png;base64,iVBORw0KGgoAAAANSUhEUgAAAF8AAAAVBAMAAADSoS/MAAAAMFBMVEX///9UVFSqqqoiIiJERESY\n",
       "mJgyMjIQEBBmZmbc3NyIiIi6urp2dnbu7u7MzMwAAABs7OAJAAAAAXRSTlMAQObYZgAAAU1JREFU\n",
       "OMtjeMuAA/BdwC5+GpcGng3Ea+B1N8DQEFzin1YSgMsGtgZMGxIuMjwJuYCmQQtK8ytganCYw8DC\n",
       "KYBDw/4LCA0hxsYJUA0cExJwaDiM8PSTtQgbOCY4gDVw9nTVompIXNUE1cCbi+QkRm6Ik7ZPYPuA\n",
       "ooH324X7EyAaGCcgaVBuA3uat5SBwwFFA9NfBv4FEA0sCE9PNzZTAAcrx18G5gVA1rG0NPO0tEQg\n",
       "iyOB4f4BiIbnaUAA9fQOlgtgDewODPcfoNgAjIb9ChANU5CClWOfA1jD/QMM+qihxB/A0H8BooEd\n",
       "OR58oyAaFBjEmCagaNgA9BdEA8cCJA0POR6ANLAsYDXkQbGBMYClARYPRkhJg0dBDhxKUusmrkYN\n",
       "1q6j8Ii76H0BlvjyGFzyFbDHNHLy3uMMSRpYk/ddMvMDdTWsw6WB6wFWYQDv3W4MyegTlAAAAABJ\n",
       "RU5ErkJggg==\n",
       "\" style=\"display:inline;vertical-align:middle;\" /></a></span>"
      ],
      "text/plain": [
       "{a in Real, b in NaturalPos} |- |a + b| in Real"
      ]
     },
     "execution_count": 50,
     "metadata": {},
     "output_type": "execute_result"
    }
   ],
   "source": [
    "# Abs(a+b) is real if a is real and b a positive natural, etc\n",
    "abs_value_a_plus_b.deduce_in_number_set(\n",
    "    Real, assumptions=[InSet(a, Real), InSet(b, NaturalPos)])"
   ]
  },
  {
   "cell_type": "code",
   "execution_count": 51,
   "metadata": {},
   "outputs": [
    {
     "data": {
      "text/html": [
       "<span style=\"font-size:20px;\"><a class=\"ProveItLink\" href=\"../../addition/__pv_it/theorems/bd2f502b953df5e1834a5d80011e6b2e7aa85c890/expr.ipynb\"><img src=\"data:image/png;base64,iVBORw0KGgoAAAANSUhEUgAAADMAAAAPBAMAAAC7N+rPAAAAMFBMVEX///9UVFSqqqrMzMwiIiJE\n",
       "RESYmJgyMjK6urru7u4QEBCIiIh2dnZmZmbc3NwAAABRgo0vAAAAAXRSTlMAQObYZgAAAMpJREFU\n",
       "GNNjYMAAKUvjy5cmMGAFBRMZTFMnYJUKeMPAyieAIpTq4lIAleJ9UIAsY7oToYv3QQCQwXfn9kqQ\n",
       "AGclkoGMHCADux6wfwAJMD5AklK5DnQG5zIGXpBmBlaEM165uCsAad6fDCwbQAJW5UAAdUYvK8jt\n",
       "XAEM8w1AAk+RHM/bDDJo/gEGfbAAF7K/IrNBUgoM4kwgF/BuQJIy5AWaxLqBzZEHLOKEFFA8CsJA\n",
       "F0pvfrgDLDIxYgIseIsZQusVkIOjJ8QFOXgAnyk4ZcxDaYcAAAAASUVORK5CYII=\n",
       "\" style=\"display:inline;vertical-align:middle;\" /></a> <a class=\"ProveItLink\" href=\"../__pv_it/demonstrations/db05e5af2e52dc775275556e4f6084cad157bd700/proof.ipynb\" style=\"text-decoration: none\">&nbsp;&#x22A2;&nbsp;&nbsp;</a><a class=\"ProveItLink\" href=\"../__pv_it/demonstrations/eff8f46b8cdd7d9850560a9139dbc764ceb678210/expr.ipynb\"><img src=\"data:image/png;base64,iVBORw0KGgoAAAANSUhEUgAAAGEAAAAVBAMAAACkm51HAAAAMFBMVEX///9UVFSqqqoiIiJERESY\n",
       "mJgyMjIQEBBmZmbc3NyIiIi6urp2dnbu7u7MzMwAAABs7OAJAAAAAXRSTlMAQObYZgAAAVJJREFU\n",
       "OMtjeMuAC/BdwC5+GqcOng0k6ODtcHmAriO4xD+tJACXjosMPL8x7Ei4yPAk5AKaDqYFELqXgaEc\n",
       "Q4fDHAYWTgEcOooZGOQnQHWwOhubwXRwTEjAoSP/AoP8A4gOPq8LCDs4JjiAdXD2dNWi6gAC+wsQ\n",
       "HdcuILmKkRviqu0T2D6g6+D+A/WHJLI/lNvAPuctZeBwQNfBLADV4YDQMd3YTAEcuhx/GZhBKnnS\n",
       "0pLL0tIEwNId0BjkA4qkpUHt2MFyAayD3YHh/gM0O7gaoDo4keyYw7HPAazj/gEGfbSwYtBg4ISG\n",
       "bgGyP3yjIDoUGMSYJqDo4DvAwAXV0YWs4yHHA5AOlgWshjyodkw+c0IY6nNmBaRUwqMgBw4rqXUT\n",
       "V6PF4P//n6E6eEX2wlNiHoNLvgL2OEdO7dxHoKkEa2rnvUBu/qCyjnU4dXA9wCoMAGjccXaqQIi8\n",
       "AAAAAElFTkSuQmCC\n",
       "\" style=\"display:inline;vertical-align:middle;\" /></a></span>"
      ],
      "text/plain": [
       "{a in Real} |- |a + 2| in Real"
      ]
     },
     "execution_count": 51,
     "metadata": {},
     "output_type": "execute_result"
    }
   ],
   "source": [
    "# Abs(a+2) is real if a is real\n",
    "abs_value_a_plus_2.deduce_in_number_set(\n",
    "    Real, assumptions=[InSet(a, Real)])"
   ]
  },
  {
   "cell_type": "code",
   "execution_count": 52,
   "metadata": {},
   "outputs": [
    {
     "data": {
      "text/html": [
       "<span style=\"font-size:20px;\"><a class=\"ProveItLink\" href=\"../__pv_it/theorems/ffc4a45642fde8a513aa78237f7ca59ff7c646290/expr.ipynb\"><img src=\"data:image/png;base64,iVBORw0KGgoAAAANSUhEUgAAADMAAAAPBAMAAAC7N+rPAAAAMFBMVEX///9UVFSqqqrMzMwiIiJE\n",
       "RESYmJgyMjK6urru7u4QEBCIiIh2dnZmZmbc3NwAAABRgo0vAAAAAXRSTlMAQObYZgAAANBJREFU\n",
       "GNNjYMACuEvql8Rik2BgtlfgvJ+LVSpBmoGB7S+KUKqLSwGQYjNYCSRlkWVMd0JoXr4AIDkbiPnu\n",
       "3AapYuCshCqZyHwByup6wP4BRDM+gAq84dgAYXAuY+AFGcDACjP4LUyK9ycDC5hpVQ4EIGdMZT4A\n",
       "keIKYJhvAGI8helinyAAYcw/wKAPUQOTYrsAkuIESikwiDOBXMC7ASYX3Q0k2oG2b2Bz5AGLOMGk\n",
       "eEtPcqpGAjVKb364A+KfiAlQOduqL5dRw64nBBxQMAAAUJwvP1Qg9PwAAAAASUVORK5CYII=\n",
       "\" style=\"display:inline;vertical-align:middle;\" /></a>, <a class=\"ProveItLink\" href=\"../__pv_it/theorems/cc5977648bc1a1b7dbb543c11fb2eb11ba7bfd0b0/expr.ipynb\"><img src=\"data:image/png;base64,iVBORw0KGgoAAAANSUhEUgAAADEAAAAPBAMAAAC/wjryAAAAMFBMVEX////MzMyYmJjc3NyIiIhU\n",
       "VFR2dna6urqqqqpmZmYyMjIiIiIQEBBERETu7u4AAACIO4EmAAAAAXRSTlMAQObYZgAAANhJREFU\n",
       "GNNj4LuzgQENsKxef/omkOaagCbBKN/AN18TyOBvQJNRCGFgYPoJZNQ/gIro7t69AEgxCZwDkpFA\n",
       "nA2VkPWD0JzMF4DkEyBe6jIDJMC3DqriKSPUYr5fD94bAGlWA6iMGbsDhMHxj4EfxOSFOcASJsO5\n",
       "gOF9ApCWWQUEIBe8ZUyAyAC9Uw9yty1MD9eDAAiDX4FhPsjdPDAZpgkgGT6gTAHfIbCpDjCpKyVA\n",
       "ogroJgVeiCt3wGQ41+bx9d4DapuSBPXHdVhgSK75PRElvMpug0MHBgCFGjXcupX6XQAAAABJRU5E\n",
       "rkJggg==\n",
       "\" style=\"display:inline;vertical-align:middle;\" /></a>, <a class=\"ProveItLink\" href=\"../__pv_it/demonstrations/c7f62391635311f7535c7c05f9a55ec4865531a10/expr.ipynb\"><img src=\"data:image/png;base64,iVBORw0KGgoAAAANSUhEUgAAAGEAAAAUCAMAAACqN6PjAAAAOVBMVEX///8kJCQNDQ0oKChUVFTM\n",
       "zMx2dna6uroQEBCqqqqIiIgiIiJmZmYyMjJERETu7u6YmJjc3NwAAABfYoQ1AAAAAXRSTlMAQObY\n",
       "ZgAAAYRJREFUOMudVdmChCAMY3e5oRT4/49dLHigTscZHzywkCYNRQghShafXa68+KHxdhjTw4Ux\n",
       "2dDf5D1EgQnOZ63oDcrj5CEOLLj9Lc0x1rW4sKydIyOHn7+r2/K7o3AUI1uKW1IJ5TGCqavOaO8o\n",
       "qMNHkrRAm1GCeIyg91gwPAVRZc/JCb+KVKKO3iKHANL72IXSV23TkQLW2BG8SMOqxja1oHIcsAK2\n",
       "G6ma91proOvvd7lv+Va9PFRDCG4IuyDFxCE4KkOlMRdYCg0hdgQtbBc00uzg58SCpYfsYxGIyEju\n",
       "BKDkvHd2lQaCTTSsOA4kgemOvSCkkyXr8JIbKvXMXGW9VPNGVpgw1+Gns4WNSSLBc4vulUbKTMKp\n",
       "5ZwQzFqvqdL3jWHfccN2qa2VgxSa4SDb4mmYJc6B5mreRRy0aqOLzeqqSG84t0av1zYMc8Xg2lRR\n",
       "e993+Qdd4zB9NquLXL/kOh/iq4PAv6PA+ezJSTHX2el3B8vHCKek3lD44hTNJ9aGC/4HViIQ7Psp\n",
       "FFgAAAAASUVORK5CYII=\n",
       "\" style=\"display:inline;vertical-align:middle;\" /></a> <a class=\"ProveItLink\" href=\"../__pv_it/demonstrations/23d89272a9080c7e90cefc2eafb17e5eba0ebcdb0/proof.ipynb\" style=\"text-decoration: none\">&nbsp;&#x22A2;&nbsp;&nbsp;</a><a class=\"ProveItLink\" href=\"../__pv_it/demonstrations/e7b2e31cef9c3f9dd7b6751ab630860e0148d8430/expr.ipynb\"><img src=\"data:image/png;base64,iVBORw0KGgoAAAANSUhEUgAAAGsAAAAYBAMAAAAPJx5QAAAAMFBMVEX///9UVFSqqqoiIiJERESY\n",
       "mJgyMjIQEBBmZmbc3NyIiIi6urp2dnbu7u7MzMwAAABs7OAJAAAAAXRSTlMAQObYZgAAAW5JREFU\n",
       "OMtjYKAXYCRPGwuIeItLlu8CPm2ncWnj2UCqNl53AwxtwSX+aSUB+G1ja8C0LeEiw5OQCwxiaelp\n",
       "aQGo2pgWQGh+BUxtDnMYWDgFsNoG07b/AkJbiLFxAlQbx4QEvNoOI4LkyVqEbRwTHJC0cfZ01aJq\n",
       "S1zVBNXGm4vkSEZuZEdun8D2AUUb77cL9ydAtDFOQNKm3HYBoY23lIHDAUUb018G/gUQbSyIIJlu\n",
       "bKYAYnBCtHH8ZWAGKedJS0suS0sDuoMjgeH+AYi252lAAA2SHSyIhHOagd2B4f4DFNuA0bZfAaJt\n",
       "ClIEcOxzQNJ2/wCDPmpI8gcw9F+AaGNHjjffKGRtCgxiTBNQtG0A+heijWMBkraHHA8Q2lgWsBry\n",
       "oNjGGMDSAIs3I6TExaMgh9DGK7Vu4mrUCOg6Co/ui94XYEk5j8ElXwGuDUsqQc44e5whiQsVoGjj\n",
       "vUBEfmMgL5tSom0dLgmuB3h0AQDlJXVwmpmLjgAAAABJRU5ErkJggg==\n",
       "\" style=\"display:inline;vertical-align:middle;\" /></a></span>"
      ],
      "text/plain": [
       "{a in Complex, b in Complex, (a + b) != 0} |- |a + b| in RealPos"
      ]
     },
     "execution_count": 52,
     "metadata": {},
     "output_type": "execute_result"
    }
   ],
   "source": [
    "abs_value_a_plus_b.deduce_in_number_set(RealPos,\n",
    "    assumptions=[InSet(a, Complex),\n",
    "                 InSet(b, Complex),\n",
    "                 NotEquals(Add(a,b), zero)])"
   ]
  },
  {
   "cell_type": "code",
   "execution_count": 53,
   "metadata": {},
   "outputs": [
    {
     "data": {
      "text/html": [
       "<span style=\"font-size:20px;\"> <a class=\"ProveItLink\" href=\"../__pv_it/demonstrations/bb33b90d6da5e5ed83efc019eb923924a1c5113f0/proof.ipynb\" style=\"text-decoration: none\">&nbsp;&#x22A2;&nbsp;&nbsp;</a><a class=\"ProveItLink\" href=\"../__pv_it/demonstrations/5aeef04d20aba876bf89be9bae6b066d1a1efd500/expr.ipynb\"><img src=\"data:image/png;base64,iVBORw0KGgoAAAANSUhEUgAAAHUAAAAZBAMAAAD9HHyuAAAAMFBMVEX////c3NxEREQiIiIyMjJm\n",
       "ZmaYmJhUVFQQEBCqqqqIiIi6urp2dnbu7u7MzMwAAABqK0sxAAAAAXRSTlMAQObYZgAAAZZJREFU\n",
       "OMtjYCAPcJ06QLom7kIwlcMwnQwbRetApDUD/wVyNOsxMPD+Y+CYwPAWlxI+nObe0Wbg+8jAnMBw\n",
       "GpcKng04bb7jy/eXgXkBVr28oUoP0PWyWSh98VCDsJckAO3lAOvl7EXTe52B5zeGvSy8BXxquiCT\n",
       "F00A+Zd/A1Dv9eN/odKcCyB0LANDB4ZeJsYDDAriQK2HNsDCGWgvG7reZgaGegGY3iRjYweY3kAW\n",
       "Bt4gsPhSUPxi0+t/gaH+AVTvo7VI9gYyMfA9gKSrMwHY9QKB/QWIXl5fZDcXbEfxBna93H+g/mUX\n",
       "QNLLaepLhF7mAqheJqSwajb2BKpRAgJdNL08Li7OLS4uBWDRUFjaeOECBNCwOh2gy0DYXq4AmF4h\n",
       "5DiKfkSE3qkMjNA44kDWy3RtAUG9fAcYuKB6WRcg6eUriEPXy4WuV/jM0WJYurJESpMMJ9kfoOpl\n",
       "rfgShpY2/v//DNN7XfsCPC88YFL5iWYvHHAuwJIH9yhD0iQWgKyX9wJx+RebXmLzPjX0rsNZAj8g\n",
       "pBUAt0yF0FLVgYsAAAAASUVORK5CYII=\n",
       "\" style=\"display:inline;vertical-align:middle;\" /></a></span>"
      ],
      "text/plain": [
       "|- |1 + 2| in RealNonNeg"
      ]
     },
     "execution_count": 53,
     "metadata": {},
     "output_type": "execute_result"
    }
   ],
   "source": [
    "abs_value_1_plus_2.deduce_in_number_set(RealNonNeg)"
   ]
  },
  {
   "cell_type": "code",
   "execution_count": 54,
   "metadata": {},
   "outputs": [
    {
     "data": {
      "text/html": [
       "<span style=\"font-size:20px;\"><a class=\"ProveItLink\" href=\"../__pv_it/theorems/ffc4a45642fde8a513aa78237f7ca59ff7c646290/expr.ipynb\"><img src=\"data:image/png;base64,iVBORw0KGgoAAAANSUhEUgAAADMAAAAPBAMAAAC7N+rPAAAAMFBMVEX///9UVFSqqqrMzMwiIiJE\n",
       "RESYmJgyMjK6urru7u4QEBCIiIh2dnZmZmbc3NwAAABRgo0vAAAAAXRSTlMAQObYZgAAANBJREFU\n",
       "GNNjYMACuEvql8Rik2BgtlfgvJ+LVSpBmoGB7S+KUKqLSwGQYjNYCSRlkWVMd0JoXr4AIDkbiPnu\n",
       "3AapYuCshCqZyHwByup6wP4BRDM+gAq84dgAYXAuY+AFGcDACjP4LUyK9ycDC5hpVQ4EIGdMZT4A\n",
       "keIKYJhvAGI8helinyAAYcw/wKAPUQOTYrsAkuIESikwiDOBXMC7ASYX3Q0k2oG2b2Bz5AGLOMGk\n",
       "eEtPcqpGAjVKb364A+KfiAlQOduqL5dRw64nBBxQMAAAUJwvP1Qg9PwAAAAASUVORK5CYII=\n",
       "\" style=\"display:inline;vertical-align:middle;\" /></a>, <a class=\"ProveItLink\" href=\"../__pv_it/theorems/cc5977648bc1a1b7dbb543c11fb2eb11ba7bfd0b0/expr.ipynb\"><img src=\"data:image/png;base64,iVBORw0KGgoAAAANSUhEUgAAADEAAAAPBAMAAAC/wjryAAAAMFBMVEX////MzMyYmJjc3NyIiIhU\n",
       "VFR2dna6urqqqqpmZmYyMjIiIiIQEBBERETu7u4AAACIO4EmAAAAAXRSTlMAQObYZgAAANhJREFU\n",
       "GNNj4LuzgQENsKxef/omkOaagCbBKN/AN18TyOBvQJNRCGFgYPoJZNQ/gIro7t69AEgxCZwDkpFA\n",
       "nA2VkPWD0JzMF4DkEyBe6jIDJMC3DqriKSPUYr5fD94bAGlWA6iMGbsDhMHxj4EfxOSFOcASJsO5\n",
       "gOF9ApCWWQUEIBe8ZUyAyAC9Uw9yty1MD9eDAAiDX4FhPsjdPDAZpgkgGT6gTAHfIbCpDjCpKyVA\n",
       "ogroJgVeiCt3wGQ41+bx9d4DapuSBPXHdVhgSK75PRElvMpug0MHBgCFGjXcupX6XQAAAABJRU5E\n",
       "rkJggg==\n",
       "\" style=\"display:inline;vertical-align:middle;\" /></a> <a class=\"ProveItLink\" href=\"../__pv_it/demonstrations/62e21ae216f18b2121071ce779cb6271f0b889ca0/proof.ipynb\" style=\"text-decoration: none\">&nbsp;&#x22A2;&nbsp;&nbsp;</a><a class=\"ProveItLink\" href=\"../__pv_it/demonstrations/2f0e0fd4fe52f8055d1d575bc1339205035d0a740/expr.ipynb\"><img src=\"data:image/png;base64,iVBORw0KGgoAAAANSUhEUgAAAHQAAAAZBAMAAAAS3heQAAAAMFBMVEX///9UVFSqqqoiIiJERESY\n",
       "mJgyMjIQEBBmZmbc3NyIiIi6urp2dnbu7u7MzMwAAABs7OAJAAAAAXRSTlMAQObYZgAAAbtJREFU\n",
       "OMtjYCAPrFlDup6NE0Ak6wEmAZK1cjY+AJLMGxj+km4tZwtQ7/0HDEUMb3Ep4buAQ4L3yAaG9xMY\n",
       "TBlO49LKswGXDO+xC+8vMFhh1crrboChNbjEP60kAMzkSgXZWoXdVrYGTFsTLjI8CQF54pYT2K+/\n",
       "UbVqQWl+BUytDnMYWDiBMXLHGxbCWLXuv4DQGmJsnADVyjEhgeGGN9jNDcB4xar1MCKYnqxF2Mox\n",
       "wYHhHTQ1nWAAaeXs6apF1Zq4qgmqlTcXycGM3ChJCKh1+wS2Dyhaeb9duD8BopVxApJW5bYLqFp5\n",
       "Sxk4HFC0Mv1l4F8A0cqCCKbpxmbA0FNxAYILUK0cfxmYFwBZx9LSzNPSEoEsjgSG+wcgWp+nAQE0\n",
       "mHawoCaw0wzsDqBoQrYVGK37FSBapyBFDsc+BzSt9w8w6KOGMH8AQ/8FiFZ25Hj1jULXqsAgxjQB\n",
       "ResGoP8hWjkWIGl9yPEAVSvLAlZDHhRbGQNYGmDxaoSUEHkU5NBCWGrdxNWokdN1FJ4kLnpfgCX/\n",
       "PAaXfAXUeMVMTciZbo8zJCFiAhStd4nKr1i1MtBL6zpcElwPCOgEAKbsjj+BUD4GAAAAAElFTkSu\n",
       "QmCC\n",
       "\" style=\"display:inline;vertical-align:middle;\" /></a></span>"
      ],
      "text/plain": [
       "{a in Complex, b in Complex} |- |a + b| in RealNonNeg"
      ]
     },
     "execution_count": 54,
     "metadata": {},
     "output_type": "execute_result"
    }
   ],
   "source": [
    "abs_value_a_plus_b.deduce_in_number_set(RealNonNeg,\n",
    "    assumptions=[InSet(a, Complex), InSet(b, Complex)])"
   ]
  },
  {
   "cell_type": "code",
   "execution_count": 55,
   "metadata": {},
   "outputs": [
    {
     "name": "stdout",
     "output_type": "stream",
     "text": [
      "EXCEPTION:  Unable to prove |a + b| in RealNeg assuming {(a + b) in Complex}:\n",
      "'Abs.deduce_in_number_set()' not implemented for the RealNeg set\n"
     ]
    }
   ],
   "source": [
    "# what happens if we try to deduce into an incorrect set?\n",
    "try:\n",
    "    abs_value_a_plus_b.deduce_in_number_set(RealNeg,\n",
    "    assumptions=[InSet(Add(a,b), Complex)])\n",
    "except Exception as e:\n",
    "    print(\"EXCEPTION: \", e)"
   ]
  },
  {
   "cell_type": "code",
   "execution_count": 56,
   "metadata": {},
   "outputs": [
    {
     "data": {
      "text/html": [
       "<span style=\"font-size:20px;\"><a class=\"ProveItLink\" href=\"../../addition/__pv_it/theorems/2c1fc3e8a81a10377274b829c6582ce3bef7b0ea0/expr.ipynb\"><img src=\"data:image/png;base64,iVBORw0KGgoAAAANSUhEUgAAAGQAAAAUBAMAAACJ7oWmAAAAMFBMVEX///9UVFTMzMx2dna6uroQ\n",
       "EBCqqqqIiIgiIiJmZmYyMjJERETu7u6YmJjc3NwAAAC+aOQFAAAAAXRSTlMAQObYZgAAAZpJREFU\n",
       "KM9jYOC7wIAd5DHgAqexiPFsbWBgYHyAIV7V9bV7AgPDOmzmcAEleBagiyp9Yzj5dwID7wRkwXQo\n",
       "zZ8AJMzRdPAyFjAw3J/AwPEAmxb/A0DiKJRzu6MDbOElVqAo4wSGFwzYtFiAXecAZmvXQAUnvAZ5\n",
       "s4ChEkjxTZ4eg6plYfk0BgZmsJt51sDCREATwtgLxK4PuD6gaOH5deD8AwZesHPgAcdn4A5htAEV\n",
       "xDJwbkDRwvaHgb+Aga0BxOaGOZpvAlRLCAMD5x8GDmBYMFitWtW6atVCIItzAcN5AwYmsNWqq4AA\n",
       "ZB/PBmW4FtYNDOcVUGwBRot/AlTLa3jYrGGEOwxoYD5qiPFfYJh/gIEF7DBWuJabYC0HQN4/n8Ag\n",
       "xfYARYsD0H9Q73MWwLRwlwCZLAsYLIHMAt5GZhRbGC9wAwOY0wDmDiiYtfnAsd0HGDyA/hIveliC\n",
       "GsjTbUE+gnjw4JYDUC1Ms+I7gWLYEwwYnIDSzjs6UFIoarI8g8wxx5Vf9uGSwEz8+LIYJIAe4JLB\n",
       "mZHv4RAHAGvUatedSwhcAAAAAElFTkSuQmCC\n",
       "\" style=\"display:inline;vertical-align:middle;\" /></a> <a class=\"ProveItLink\" href=\"../__pv_it/demonstrations/c947b5291bb4ff4fac5cd49e7040ff95ff32197a0/proof.ipynb\" style=\"text-decoration: none\">&nbsp;&#x22A2;&nbsp;&nbsp;</a><a class=\"ProveItLink\" href=\"../__pv_it/demonstrations/a74a5d35bcd4d37a9239f8a8016110c1964568800/expr.ipynb\"><img src=\"data:image/png;base64,iVBORw0KGgoAAAANSUhEUgAAAF8AAAAVBAMAAADSoS/MAAAAMFBMVEX///9UVFSqqqoiIiJERESY\n",
       "mJgyMjIQEBBmZmbc3NyIiIi6urp2dnbu7u7MzMwAAABs7OAJAAAAAXRSTlMAQObYZgAAAVJJREFU\n",
       "OMtjeMuAA/BdwC5+GpcGng3Ea+B1N8CigSs5v9gDhw1sDZga+N4r8PZHoGnQgtL8CpgaAqQYGFh/\n",
       "4NCw/wJCQ4ixcQKQYn1QCyQlcGg4jPD0k7UQIQ5OByB5C6yBs6erFlVD4qomqAbeXKjQRb4GeCht\n",
       "n8D2AUUD77cL9ydANDBOgGqYw70ApoG3lIHDAUUD018G/gUQDSww185AaOD4y8AM4hxLSzNPS0sE\n",
       "uTeB4f4BiIbnaUAA8vQVvgMwDewODPcfoNgAjIb9ChANU+BRc0EApuH+AQZ91FDiD2DovwDRwA7T\n",
       "wNoA0sAL1qDAIMY0AUXDBqC/IBo4FsB0eO0CEttAGlgWsBryoNjAGMDSAIsHI5gGjpSzvCq+4FCS\n",
       "WjdxNWqwdh2FR9xFb1gyf5H+uY8BR0wjJ+89zuCkgT153yUzP1BXwzpcGrgeYBUGAAJoaCkk2gJt\n",
       "AAAAAElFTkSuQmCC\n",
       "\" style=\"display:inline;vertical-align:middle;\" /></a></span>"
      ],
      "text/plain": [
       "{(a + b) in Complex} |- |a + b| in Complex"
      ]
     },
     "execution_count": 56,
     "metadata": {},
     "output_type": "execute_result"
    }
   ],
   "source": [
    "# but of course, the Complex numbers contain the non-negative Real numbers …\n",
    "# so it would be nice to be able to be able to deduce_in_number_set(X) if\n",
    "# X contains a set Y for which deduce_in_number_set(Y) is possible …\n",
    "abs_value_a_plus_b.deduce_in_number_set(Complex,\n",
    "    assumptions=[InSet(Add(a,b), Complex)])"
   ]
  },
  {
   "cell_type": "markdown",
   "metadata": {},
   "source": [
    "### Testing the `Abs.not_equal()` method"
   ]
  },
  {
   "cell_type": "code",
   "execution_count": 57,
   "metadata": {},
   "outputs": [
    {
     "data": {
      "text/html": [
       "<a class=\"ProveItLink\" href=\"../__pv_it/demonstrations/6dc61e8fc531e2172c058db65b7924eb22d7d8a20/expr.ipynb\"><img src=\"data:image/png;base64,iVBORw0KGgoAAAANSUhEUgAAADUAAAAVBAMAAAAUZLt1AAAAMFBMVEX///9UVFSqqqoiIiJERESY\n",
       "mJgyMjIQEBBmZmbc3NyIiIi6urp2dnbu7u7MzMwAAABs7OAJAAAAAXRSTlMAQObYZgAAAL9JREFU\n",
       "KM9jeMuAA/BdYDiNS45nA1Y5XncDnHIMbA2YckwLIDS/Am65/Rdwyx2Gu4Wzp6sWVS5xVRNUbvsE\n",
       "tg8ocrzfLtyfAJbjLWXgcECRY/rLwL8ALMfxl4EZJMaTlpZclpYmwMDAkcBw/wBYjt2B4f4DFH1A\n",
       "7+1XAMvdP8Cgj+pO/gCG/gsQOQUGMaYJKHIbgG4Ay7EsYDXkQdHHGMDSAJHjlVo3cTWqH7qO4g4X\n",
       "bHHEe4Fg/BEjtw6XHNcDAI+VTMzeHv4BAAAAAElFTkSuQmCC\n",
       "\" style=\"display:inline;vertical-align:middle;\" /></a>"
      ],
      "text/plain": [
       "|a + b|"
      ]
     },
     "execution_count": 57,
     "metadata": {},
     "output_type": "execute_result"
    }
   ],
   "source": [
    "# recall our Abs(Add(a, b)) expression\n",
    "abs_value_a_plus_b"
   ]
  },
  {
   "cell_type": "code",
   "execution_count": 58,
   "metadata": {},
   "outputs": [
    {
     "data": {
      "text/html": [
       "<span style=\"font-size:20px;\"><a class=\"ProveItLink\" href=\"../__pv_it/theorems/ffc4a45642fde8a513aa78237f7ca59ff7c646290/expr.ipynb\"><img src=\"data:image/png;base64,iVBORw0KGgoAAAANSUhEUgAAADMAAAAPBAMAAAC7N+rPAAAAMFBMVEX///9UVFSqqqrMzMwiIiJE\n",
       "RESYmJgyMjK6urru7u4QEBCIiIh2dnZmZmbc3NwAAABRgo0vAAAAAXRSTlMAQObYZgAAANBJREFU\n",
       "GNNjYMACuEvql8Rik2BgtlfgvJ+LVSpBmoGB7S+KUKqLSwGQYjNYCSRlkWVMd0JoXr4AIDkbiPnu\n",
       "3AapYuCshCqZyHwByup6wP4BRDM+gAq84dgAYXAuY+AFGcDACjP4LUyK9ycDC5hpVQ4EIGdMZT4A\n",
       "keIKYJhvAGI8helinyAAYcw/wKAPUQOTYrsAkuIESikwiDOBXMC7ASYX3Q0k2oG2b2Bz5AGLOMGk\n",
       "eEtPcqpGAjVKb364A+KfiAlQOduqL5dRw64nBBxQMAAAUJwvP1Qg9PwAAAAASUVORK5CYII=\n",
       "\" style=\"display:inline;vertical-align:middle;\" /></a>, <a class=\"ProveItLink\" href=\"../__pv_it/theorems/cc5977648bc1a1b7dbb543c11fb2eb11ba7bfd0b0/expr.ipynb\"><img src=\"data:image/png;base64,iVBORw0KGgoAAAANSUhEUgAAADEAAAAPBAMAAAC/wjryAAAAMFBMVEX////MzMyYmJjc3NyIiIhU\n",
       "VFR2dna6urqqqqpmZmYyMjIiIiIQEBBERETu7u4AAACIO4EmAAAAAXRSTlMAQObYZgAAANhJREFU\n",
       "GNNj4LuzgQENsKxef/omkOaagCbBKN/AN18TyOBvQJNRCGFgYPoJZNQ/gIro7t69AEgxCZwDkpFA\n",
       "nA2VkPWD0JzMF4DkEyBe6jIDJMC3DqriKSPUYr5fD94bAGlWA6iMGbsDhMHxj4EfxOSFOcASJsO5\n",
       "gOF9ApCWWQUEIBe8ZUyAyAC9Uw9yty1MD9eDAAiDX4FhPsjdPDAZpgkgGT6gTAHfIbCpDjCpKyVA\n",
       "ogroJgVeiCt3wGQ41+bx9d4DapuSBPXHdVhgSK75PRElvMpug0MHBgCFGjXcupX6XQAAAABJRU5E\n",
       "rkJggg==\n",
       "\" style=\"display:inline;vertical-align:middle;\" /></a>, <a class=\"ProveItLink\" href=\"../__pv_it/demonstrations/c7f62391635311f7535c7c05f9a55ec4865531a10/expr.ipynb\"><img src=\"data:image/png;base64,iVBORw0KGgoAAAANSUhEUgAAAGEAAAAUCAMAAACqN6PjAAAAOVBMVEX///8kJCQNDQ0oKChUVFTM\n",
       "zMx2dna6uroQEBCqqqqIiIgiIiJmZmYyMjJERETu7u6YmJjc3NwAAABfYoQ1AAAAAXRSTlMAQObY\n",
       "ZgAAAYRJREFUOMudVdmChCAMY3e5oRT4/49dLHigTscZHzywkCYNRQghShafXa68+KHxdhjTw4Ux\n",
       "2dDf5D1EgQnOZ63oDcrj5CEOLLj9Lc0x1rW4sKydIyOHn7+r2/K7o3AUI1uKW1IJ5TGCqavOaO8o\n",
       "qMNHkrRAm1GCeIyg91gwPAVRZc/JCb+KVKKO3iKHANL72IXSV23TkQLW2BG8SMOqxja1oHIcsAK2\n",
       "G6ma91proOvvd7lv+Va9PFRDCG4IuyDFxCE4KkOlMRdYCg0hdgQtbBc00uzg58SCpYfsYxGIyEju\n",
       "BKDkvHd2lQaCTTSsOA4kgemOvSCkkyXr8JIbKvXMXGW9VPNGVpgw1+Gns4WNSSLBc4vulUbKTMKp\n",
       "5ZwQzFqvqdL3jWHfccN2qa2VgxSa4SDb4mmYJc6B5mreRRy0aqOLzeqqSG84t0av1zYMc8Xg2lRR\n",
       "e993+Qdd4zB9NquLXL/kOh/iq4PAv6PA+ezJSTHX2el3B8vHCKek3lD44hTNJ9aGC/4HViIQ7Psp\n",
       "FFgAAAAASUVORK5CYII=\n",
       "\" style=\"display:inline;vertical-align:middle;\" /></a> <a class=\"ProveItLink\" href=\"../__pv_it/demonstrations/da1aa17898ae771c11147a28e7f9b26788b338620/proof.ipynb\" style=\"text-decoration: none\">&nbsp;&#x22A2;&nbsp;&nbsp;</a><a class=\"ProveItLink\" href=\"../__pv_it/demonstrations/1c4f62580374b107fd559c697a01e0890b5a83290/expr.ipynb\"><img src=\"data:image/png;base64,iVBORw0KGgoAAAANSUhEUgAAAF0AAAAVCAMAAAATpBLwAAAAOVBMVEX///8kJCQNDQ0oKChUVFSq\n",
       "qqoiIiJERESYmJgyMjIQEBBmZmbc3NyIiIi6urp2dnbu7u7MzMwAAACN5oA5AAAAAXRSTlMAQObY\n",
       "ZgAAAU1JREFUOMu1ldtyhSAMRW3LLQRM4P8/thi0I4j02M7xAQcmWbNDLiyJl6ffAxdaH9PHLsT/\n",
       "obP1ZuISoKFGR+mZdsAJXZ0PQRc1JkzpOrb7rO/pwZ42zosZPKGvme/pKp02Vol7sX+dTuY+VY30\n",
       "JauqRh+mAQmj5xkdVIyox3R7ls4ZKz3upqsvKYA8084ZuCxtqgjk+/rcVjwCySRtcdDZu7KindG1\n",
       "XHvxGGhvpBc6VjpVUxRPE1tJxstP1TMECYAG9KTazuhuxls5TDPtEviWqSvdhq5095qpWRVFZTet\n",
       "meyOIPt7/6gxwk8EVq7Y7RXJ0icKFh0m9PXIT68dOul9N9nCcUYtNNGuCtjioN5XvBSo2SaBT7sp\n",
       "l1JOQcV1VpEYyY26Ca7DkSlG9csU6+fMeKxq/Nt8Z37FBfiNr4emd75NU+lLTI/pjctU3DcxexGi\n",
       "tjVzmgAAAABJRU5ErkJggg==\n",
       "\" style=\"display:inline;vertical-align:middle;\" /></a></span>"
      ],
      "text/plain": [
       "{a in Complex, b in Complex, (a + b) != 0} |- |a + b| != 0"
      ]
     },
     "execution_count": 58,
     "metadata": {},
     "output_type": "execute_result"
    }
   ],
   "source": [
    "abs_value_a_plus_b.not_equal(\n",
    "    zero,\n",
    "    assumptions=[InSet(a, Complex),\n",
    "                 InSet(b, Complex),\n",
    "                 NotEquals(Add(a,b), zero)])"
   ]
  },
  {
   "cell_type": "code",
   "execution_count": 59,
   "metadata": {},
   "outputs": [
    {
     "data": {
      "text/html": [
       "<span style=\"font-size:20px;\"><a class=\"ProveItLink\" href=\"../../addition/__pv_it/theorems/ac218862468437a6f6e9fb539471b032913f45d10/expr.ipynb\"><img src=\"data:image/png;base64,iVBORw0KGgoAAAANSUhEUgAAAGQAAAAUBAMAAACJ7oWmAAAAMFBMVEX///9UVFTMzMx2dna6uroQ\n",
       "EBCqqqqIiIgiIiJmZmYyMjJERETu7u6YmJjc3NwAAAC+aOQFAAAAAXRSTlMAQObYZgAAAZNJREFU\n",
       "KM9jYOC7wIAd5DHgAqexiPFsbWBgYHyAKsjbuvvX0r0g1jps5nBNAOpbgC7II8C0dw9Q7wRk0XQo\n",
       "zZ8AJMzRtHDzGTBseMjAwPEAmxb/A0DiKJRzu6NjAUzLPC4GhhcM2LRYgB3iAGZr1yDZMo+bgaES\n",
       "yOabPD0GVcvC8mkMDMxgN/OsQXaYgCMDAygIXB9wfUDRwvPrwPkHDLxg5yACDqiFrRNoQBtQQSwD\n",
       "5wYULWx/GPgLGNgawAqRvB/RsQxIhzAwcP5h4CgAMq1WrWpdtWohkMW5gOG8AQMT2GrVVUAA9b7J\n",
       "hD0QLawbGM4roNgCjBb/BKiW18iBPEWbAewwoIH5qCHGf4Fh/gEGFrDDWJG1cJ8tAHv/fAKDFNsD\n",
       "FC0OQP9Bvc9ZgKSFSWASA4MlkFnA28iMYgvjBW5gAHMagDltSAmGwYxRgcEDGGLiRQ9LUAN5ui1I\n",
       "CcSDB7ccgCdLBe5d33AkGDA4AaWdd3SgpFDUZHkGmWOOK7/swyWBkfjxZjFIAD3AJYMzI9/DIQ4A\n",
       "hBxocR6bJXUAAAAASUVORK5CYII=\n",
       "\" style=\"display:inline;vertical-align:middle;\" /></a>, <a class=\"ProveItLink\" href=\"../__pv_it/demonstrations/c7f62391635311f7535c7c05f9a55ec4865531a10/expr.ipynb\"><img src=\"data:image/png;base64,iVBORw0KGgoAAAANSUhEUgAAAGEAAAAUCAMAAACqN6PjAAAAOVBMVEX///8kJCQNDQ0oKChUVFTM\n",
       "zMx2dna6uroQEBCqqqqIiIgiIiJmZmYyMjJERETu7u6YmJjc3NwAAABfYoQ1AAAAAXRSTlMAQObY\n",
       "ZgAAAYRJREFUOMudVdmChCAMY3e5oRT4/49dLHigTscZHzywkCYNRQghShafXa68+KHxdhjTw4Ux\n",
       "2dDf5D1EgQnOZ63oDcrj5CEOLLj9Lc0x1rW4sKydIyOHn7+r2/K7o3AUI1uKW1IJ5TGCqavOaO8o\n",
       "qMNHkrRAm1GCeIyg91gwPAVRZc/JCb+KVKKO3iKHANL72IXSV23TkQLW2BG8SMOqxja1oHIcsAK2\n",
       "G6ma91proOvvd7lv+Va9PFRDCG4IuyDFxCE4KkOlMRdYCg0hdgQtbBc00uzg58SCpYfsYxGIyEju\n",
       "BKDkvHd2lQaCTTSsOA4kgemOvSCkkyXr8JIbKvXMXGW9VPNGVpgw1+Gns4WNSSLBc4vulUbKTMKp\n",
       "5ZwQzFqvqdL3jWHfccN2qa2VgxSa4SDb4mmYJc6B5mreRRy0aqOLzeqqSG84t0av1zYMc8Xg2lRR\n",
       "e993+Qdd4zB9NquLXL/kOh/iq4PAv6PA+ezJSTHX2el3B8vHCKek3lD44hTNJ9aGC/4HViIQ7Psp\n",
       "FFgAAAAASUVORK5CYII=\n",
       "\" style=\"display:inline;vertical-align:middle;\" /></a> <a class=\"ProveItLink\" href=\"../__pv_it/demonstrations/14f045aaec9be1fc216ba4b6eb12c2697f6e7bf00/proof.ipynb\" style=\"text-decoration: none\">&nbsp;&#x22A2;&nbsp;&nbsp;</a><a class=\"ProveItLink\" href=\"../__pv_it/demonstrations/1c4f62580374b107fd559c697a01e0890b5a83290/expr.ipynb\"><img src=\"data:image/png;base64,iVBORw0KGgoAAAANSUhEUgAAAF0AAAAVCAMAAAATpBLwAAAAOVBMVEX///8kJCQNDQ0oKChUVFSq\n",
       "qqoiIiJERESYmJgyMjIQEBBmZmbc3NyIiIi6urp2dnbu7u7MzMwAAACN5oA5AAAAAXRSTlMAQObY\n",
       "ZgAAAU1JREFUOMu1ldtyhSAMRW3LLQRM4P8/thi0I4j02M7xAQcmWbNDLiyJl6ffAxdaH9PHLsT/\n",
       "obP1ZuISoKFGR+mZdsAJXZ0PQRc1JkzpOrb7rO/pwZ42zosZPKGvme/pKp02Vol7sX+dTuY+VY30\n",
       "JauqRh+mAQmj5xkdVIyox3R7ls4ZKz3upqsvKYA8084ZuCxtqgjk+/rcVjwCySRtcdDZu7KindG1\n",
       "XHvxGGhvpBc6VjpVUxRPE1tJxstP1TMECYAG9KTazuhuxls5TDPtEviWqSvdhq5095qpWRVFZTet\n",
       "meyOIPt7/6gxwk8EVq7Y7RXJ0icKFh0m9PXIT68dOul9N9nCcUYtNNGuCtjioN5XvBSo2SaBT7sp\n",
       "l1JOQcV1VpEYyY26Ca7DkSlG9csU6+fMeKxq/Nt8Z37FBfiNr4emd75NU+lLTI/pjctU3DcxexGi\n",
       "tjVzmgAAAABJRU5ErkJggg==\n",
       "\" style=\"display:inline;vertical-align:middle;\" /></a></span>"
      ],
      "text/plain": [
       "{(a + b) in Real, (a + b) != 0} |- |a + b| != 0"
      ]
     },
     "execution_count": 59,
     "metadata": {},
     "output_type": "execute_result"
    }
   ],
   "source": [
    "# And automation will generally be able to prove\n",
    "# Abs(x) ≠ 0 when x in a defined set with x ≠ 0.\n",
    "NotEquals(abs_value_a_plus_b, zero).prove(\n",
    "    assumptions=[InSet(Add(a,b), Real), NotEquals(Add(a,b), zero)])"
   ]
  },
  {
   "cell_type": "markdown",
   "metadata": {},
   "source": [
    "### Testing the `Abs.abs_elimination()` method"
   ]
  },
  {
   "cell_type": "code",
   "execution_count": 60,
   "metadata": {},
   "outputs": [],
   "source": [
    "# abs_elimination() by itself often needs some\n",
    "# pre-processing of the expression operand\n",
    "try:\n",
    "    abs_value_1_plus_2.abs_elimination()\n",
    "except Exception as e:\n",
    "    print(\"EXCEPTION: \", e)"
   ]
  },
  {
   "cell_type": "code",
   "execution_count": 61,
   "metadata": {},
   "outputs": [
    {
     "data": {
      "text/html": [
       "<span style=\"font-size:20px;\"> <a class=\"ProveItLink\" href=\"../__pv_it/demonstrations/88425e6150593558b8ee61fe373f3180abe37b430/proof.ipynb\" style=\"text-decoration: none\">&nbsp;&#x22A2;&nbsp;&nbsp;</a><a class=\"ProveItLink\" href=\"../__pv_it/demonstrations/47554734e1fc10143f10121ac5625dd3d787a20f0/expr.ipynb\"><img src=\"data:image/png;base64,iVBORw0KGgoAAAANSUhEUgAAAHAAAAAYBAMAAADQaWRPAAAAMFBMVEX////MzMxUVFR2dna6uroQ\n",
       "EBCqqqqIiIgiIiJmZmYyMjJERETu7u6YmJjc3NwAAACgK8IjAAAAAXRSTlMAQObYZgAAAZBJREFU\n",
       "OMtjYKArUCBX4waKNPJdwCGbR0DjaSwSPDN3CzAwPUAV5G3d/WvpXoTGdUCcegBVzSEG5i8MPAvQ\n",
       "jOPiUWDcu4eBadWqqFVrGXgnMPAo68M0pkOoOQwMoQwM5mgaufkMGDY8gtnIAXLQfTSNEQwM+g8Y\n",
       "jsLcuKOjC6ZxHhdM4wsGLBrXH2DQF2DgcgBzGLcfQNg4jxumsRKbRiDoP8DAPAHMOnUAyakKTjCN\n",
       "e7FrZPkMdCIkdPSQ/MjWuQamsQ27Rg5gqmJrQE0m3HwRHcvALFC4hCA0Wq1a1bpq1SKw1EyQ5z6A\n",
       "vRi1CgggGk0m7IH7JQSrjewT4Br5kGw0mCIN14jdqZkMfA8YWCBODUDSyH22AMbDGjiMBgzsD2CB\n",
       "Mx1JI6PCRBjPEkTUo2l8YWypwcDAaQAJpwREkmMwYxKA8jyAeFL8yguoCeD//x9AhRA1PNo+8EQu\n",
       "wL3rGyzcUfJAOjLnBCxOrSFJDi2zTEDmnUHmmOPPzftwSWBkKzRwGpcE9wP8GnEWHffwagMAJXd2\n",
       "qAcP2XoAAAAASUVORK5CYII=\n",
       "\" style=\"display:inline;vertical-align:middle;\" /></a></span>"
      ],
      "text/plain": [
       "|- (1 + 2) in RealPos"
      ]
     },
     "execution_count": 61,
     "metadata": {},
     "output_type": "execute_result"
    }
   ],
   "source": [
    "# So prove 1+2 is non-negative real first\n",
    "InSet(Add(one, two), RealPos).prove()"
   ]
  },
  {
   "cell_type": "code",
   "execution_count": 62,
   "metadata": {},
   "outputs": [
    {
     "data": {
      "text/html": [
       "<span style=\"font-size:20px;\"> <a class=\"ProveItLink\" href=\"../__pv_it/demonstrations/b0385f4b6b89e77bc4937fa16ccc5cfb29bcb9480/proof.ipynb\" style=\"text-decoration: none\">&nbsp;&#x22A2;&nbsp;&nbsp;</a><a class=\"ProveItLink\" href=\"../__pv_it/demonstrations/d58e63f0682c9cca26743fb7189264e76153634c0/expr.ipynb\"><img src=\"data:image/png;base64,iVBORw0KGgoAAAANSUhEUgAAAI8AAAAVBAMAAACNsKCFAAAAMFBMVEX////c3NxEREQiIiIyMjJm\n",
       "ZmaYmJhUVFQQEBCqqqqIiIi6urp2dnbu7u7MzMwAAABqK0sxAAAAAXRSTlMAQObYZgAAAX1JREFU\n",
       "OMtjeMuAA/BdYCAJnMYlwbMBQ0gMl9qJOAziDVV6gMUgXgVcatkFIAbNQPPFdQae31gMYgEq5+xl\n",
       "wKKW1wFkEG9NPcygWRAqloGhA4tBqUBtx/9COZwLkNQynIK4KB/NoGYGhnoBTIMMgZgN3SCwWoYb\n",
       "2A3yv8BQ/wDDIEYDbAaB1TKwbMBqEBDYX8AwiCsAm0FgtQw8ATgM4v4DDaMjLiDgCmIyJWA3CKiW\n",
       "gc0Bh0HMBZiBzTwBu0FAtQycBkgGAS23cHFxB0uGYkmQHBvgBvG4uDi3uLgUwNQy8H3A7iJQcOAz\n",
       "CNlF4KDDZdBUBkYB5DByx+M1kFoGbgOsBvEdYODCTEfYAxusFhbY69EMEj5ztBjTazwgP3ChGwRW\n",
       "y8B6AGRQeL9rAmqC/P//M6ZBQOczsFZ8CUNLkCC1DCwPUHP/LLzFiCEyBylBAsFltGLkLl6DUlGK\n",
       "D5QS4xRJBRuTAC61kGKEaIOwFmxwK9bhkuR6QHxRm8jAAAAnuI/phJGCRwAAAABJRU5ErkJggg==\n",
       "\" style=\"display:inline;vertical-align:middle;\" /></a></span>"
      ],
      "text/plain": [
       "|- |1 + 2| = (1 + 2)"
      ]
     },
     "execution_count": 62,
     "metadata": {},
     "output_type": "execute_result"
    }
   ],
   "source": [
    "# And then we should be able to use the basic Abs.abs_elimination()\n",
    "abs_value_1_plus_2.abs_elimination()"
   ]
  },
  {
   "cell_type": "code",
   "execution_count": 63,
   "metadata": {},
   "outputs": [
    {
     "data": {
      "text/html": [
       "<span style=\"font-size:20px;\"><a class=\"ProveItLink\" href=\"../../addition/__pv_it/theorems/0269bd3eceabf2243555e558d411289d47a7cfb20/expr.ipynb\"><img src=\"data:image/png;base64,iVBORw0KGgoAAAANSUhEUgAAAHAAAAAYBAMAAADQaWRPAAAAMFBMVEX///9UVFTMzMx2dna6uroQ\n",
       "EBCqqqqIiIgiIiJmZmYyMjJERETu7u6YmJjc3NwAAAC+aOQFAAAAAXRSTlMAQObYZgAAAbFJREFU\n",
       "OMtjYKArECBX4waKNPJdwCGbR0DjaSwSPFsbGBgYH6AK8rbu/rV0L0LjOmxGck0A6l6ALsgjwLR3\n",
       "DwPjqlVRq9Yy8E5AlmMrgND8CUDCHE0jN58Bw4aHMBs5HmDT6H8ASByFCt7u6FgA0ziPC6bxBQM2\n",
       "jRZgpzmA2do1SDbO44ZprAQF7OTpMagaF5ZPY2BgBvuCZw2yUwUcYRpBweT6gOsDikaeXwfOP2Dg\n",
       "BTsQEbhAjWyda2Aa24DKYhk4N6BoZPvDwF/AwNYAVo4UOBEdy8AskFkhDAycfxg4QBqYV61aEbVq\n",
       "FTAhci5gOG/AwAR2huoqIIAGjsmEPXBjgBpZNzCcV0CxERiN/glQja+Ro2OKNpwHdCrQ8HzUUOW/\n",
       "wDD/AAML2KmsyBq5zxbAeMDAOZ/AIMX2AEWjA9Df0MDhLEDSyCQwCcazBAoU8DYyo9jIeIEbGBWc\n",
       "BjA3wZMcgxkj1FMMHsBQFS96WIIaHdNtQQohag5uOQBP5Arcu75BNWJPcmBwAko77+hYgJkPUBM5\n",
       "zwEkjjn+3LwPlwTPAvwaT+OS4H6AXyPOouMeXm0Aa9xzADhGmXMAAAAASUVORK5CYII=\n",
       "\" style=\"display:inline;vertical-align:middle;\" /></a> <a class=\"ProveItLink\" href=\"../__pv_it/demonstrations/c425c71cb1301c2a79db4255ebb01b4d9be0456e0/proof.ipynb\" style=\"text-decoration: none\">&nbsp;&#x22A2;&nbsp;&nbsp;</a><a class=\"ProveItLink\" href=\"../__pv_it/demonstrations/84d1edd030eb34416d67106e34c5d66ef28d86b70/expr.ipynb\"><img src=\"data:image/png;base64,iVBORw0KGgoAAAANSUhEUgAAAI4AAAAVBAMAAABicsu7AAAAMFBMVEX///9UVFSqqqoiIiJERESY\n",
       "mJgyMjIQEBBmZmbc3NyIiIi6urp2dnbu7u7MzMwAAABs7OAJAAAAAXRSTlMAQObYZgAAAbVJREFU\n",
       "OMuVlL1Lw0AYxh/7ZWsT20XBTgU3l1YX1y6ibpmcLUKoiCKILiIUB4dSMOI/kLGolEIHxxZEKbhk\n",
       "KNVF0n9AlIKCHwXv2kbumjdFD3I57h5+efLc3YtneLRJC/9p914LSmV4JqJ5SH0GzVGX0xSnSTGa\n",
       "e6yb8fATylOcTdJMjj2tIc7c4B1LEpxgXvoXczDo8AxMmlOzCI7foDjRLg9il+bcUDmfg+Ioad5v\n",
       "cU6kWDiSOdmLYzenBFHqcEKJEguhwTnXRuhV4qjvlm30OIrea71kliBKHY69rX4Aa4yj7iOckTi+\n",
       "LmKmy88CRKnDSVn4BGYZJ9yFn0/e6fqirmfZKLwOu+7iHOJXymxuHOh6nA1PoH4DL4wznoHdlvyw\n",
       "41NLUhxB6vjJIdrpc+w6UvJ+xTScWmI+8cF/CVKH88ZNoso5SUz7DIlTYUG4/LCcBanD+cKD1s85\n",
       "YAbnFcnPmBbIuzkNiFKHM4UV1hf5fiXKZ5fyvhduiXNYhSh1OI9XvArs0OeZrBv0veh/OC1znkZx\n",
       "5HuqimVu+J6OrmOrnsWw9a962PTksC+UvdYm2n+uq0EDP75IjccEBkJNAAAAAElFTkSuQmCC\n",
       "\" style=\"display:inline;vertical-align:middle;\" /></a></span>"
      ],
      "text/plain": [
       "{(a + b) in RealPos} |- |a + b| = (a + b)"
      ]
     },
     "execution_count": 63,
     "metadata": {},
     "output_type": "execute_result"
    }
   ],
   "source": [
    "abs_value_a_plus_b.abs_elimination(\n",
    "    assumptions = [InSet(Add(a,b), RealPos)])"
   ]
  },
  {
   "cell_type": "markdown",
   "metadata": {},
   "source": [
    "### Testing the `Abs.deduce_greater_than_equals_zero()` method"
   ]
  },
  {
   "cell_type": "code",
   "execution_count": 64,
   "metadata": {},
   "outputs": [
    {
     "data": {
      "text/html": [
       "<span style=\"font-size:20px;\"> <a class=\"ProveItLink\" href=\"../__pv_it/demonstrations/b7023dc372eef2618469617f2dbd6b9d7f9879520/proof.ipynb\" style=\"text-decoration: none\">&nbsp;&#x22A2;&nbsp;&nbsp;</a><a class=\"ProveItLink\" href=\"../__pv_it/demonstrations/4bf62fe274f6f4b5c51d13bb65363683b2c8a11f0/expr.ipynb\"><img src=\"data:image/png;base64,iVBORw0KGgoAAAANSUhEUgAAAF0AAAAVBAMAAADWVP/xAAAAMFBMVEX////c3NxEREQiIiIyMjJm\n",
       "ZmaYmJhUVFQQEBCqqqqIiIi6urp2dnbu7u7MzMwAAABqK0sxAAAAAXRSTlMAQObYZgAAASJJREFU\n",
       "KM9jeMuAA/BdwCp8Gpd6ng1Eq+cNVXqARf2pnAcQ9TPQrL7OwPMbqv5yLFyUZQKvIUg9b009TP0s\n",
       "CAVU0wEzf0ohTH0GA8MRiPn5aOqbGRjqBWDu2VIHlVRnYJh/Aat6/wsM9Q/g7n+kDaG/MzDsn4BV\n",
       "PRDYX0D4V9wTHAhfgeoX4FDP/Qc5fESB/mRg/MPA8B6XeuYCZPXJASD1QPPfH0BSf8TFxcLFxR2s\n",
       "IhQ5vhafJeQergCEet7DC+D+nY/Dv1MZGGHhyRicABVUAivEpp7vAAMXVD1jyQTM+FqPpl74zNFi\n",
       "qHsuIXzNPIG3D6w+vN81ATW+/v//jJneeE8tf4CWPmeRmJ7vkpf+kdRfMQYBO/Lz1zpc6rkeYBMF\n",
       "AHyNdkEaMrLUAAAAAElFTkSuQmCC\n",
       "\" style=\"display:inline;vertical-align:middle;\" /></a></span>"
      ],
      "text/plain": [
       "|- |1 + 2| >= 0"
      ]
     },
     "execution_count": 64,
     "metadata": {},
     "output_type": "execute_result"
    }
   ],
   "source": [
    "abs_value_1_plus_2.deduce_greater_than_equals_zero()"
   ]
  },
  {
   "cell_type": "code",
   "execution_count": 65,
   "metadata": {},
   "outputs": [
    {
     "data": {
      "text/html": [
       "<span style=\"font-size:20px;\"><a class=\"ProveItLink\" href=\"../../addition/__pv_it/theorems/2c1fc3e8a81a10377274b829c6582ce3bef7b0ea0/expr.ipynb\"><img src=\"data:image/png;base64,iVBORw0KGgoAAAANSUhEUgAAAGQAAAAUBAMAAACJ7oWmAAAAMFBMVEX///9UVFTMzMx2dna6uroQ\n",
       "EBCqqqqIiIgiIiJmZmYyMjJERETu7u6YmJjc3NwAAAC+aOQFAAAAAXRSTlMAQObYZgAAAZpJREFU\n",
       "KM9jYOC7wIAd5DHgAqexiPFsbWBgYHyAIV7V9bV7AgPDOmzmcAEleBagiyp9Yzj5dwID7wRkwXQo\n",
       "zZ8AJMzRdPAyFjAw3J/AwPEAmxb/A0DiKJRzu6MDbOElVqAo4wSGFwzYtFiAXecAZmvXQAUnvAZ5\n",
       "s4ChEkjxTZ4eg6plYfk0BgZmsJt51sDCREATwtgLxK4PuD6gaOH5deD8AwZesHPgAcdn4A5htAEV\n",
       "xDJwbkDRwvaHgb+Aga0BxOaGOZpvAlRLCAMD5x8GDmBYMFitWtW6atVCIItzAcN5AwYmsNWqq4AA\n",
       "ZB/PBmW4FtYNDOcVUGwBRot/AlTLa3jYrGGEOwxoYD5qiPFfYJh/gIEF7DBWuJabYC0HQN4/n8Ag\n",
       "xfYARYsD0H9Q73MWwLRwlwCZLAsYLIHMAt5GZhRbGC9wAwOY0wDmDiiYtfnAsd0HGDyA/hIveliC\n",
       "GsjTbUE+gnjw4JYDUC1Ms+I7gWLYEwwYnIDSzjs6UFIoarI8g8wxx5Vf9uGSwEz8+LIYJIAe4JLB\n",
       "mZHv4RAHAGvUatedSwhcAAAAAElFTkSuQmCC\n",
       "\" style=\"display:inline;vertical-align:middle;\" /></a> <a class=\"ProveItLink\" href=\"../__pv_it/demonstrations/dd1647bf4ea2618eb91b9956ae7704eafe5fe96b0/proof.ipynb\" style=\"text-decoration: none\">&nbsp;&#x22A2;&nbsp;&nbsp;</a><a class=\"ProveItLink\" href=\"../__pv_it/demonstrations/90ba1c977d47e783aeda010192d9790f649bb4710/expr.ipynb\"><img src=\"data:image/png;base64,iVBORw0KGgoAAAANSUhEUgAAAF0AAAAVBAMAAADWVP/xAAAAMFBMVEX///9UVFSqqqoiIiJERESY\n",
       "mJgyMjIQEBBmZmbc3NyIiIi6urp2dnbu7u7MzMwAAABs7OAJAAAAAXRSTlMAQObYZgAAAUxJREFU\n",
       "KM9jeMuAA/BdwCp8Gpd6ng1Eq+d1N8Cm/lTMAxzmszXA1F/uRQgq8FqiqWdaAKH5FeDmq0nCJMMZ\n",
       "GI7hUL//AsI92+Sgko4MDPoXsKs/jOzfJ94Q+iPQHAWQes6erlpU9YmrmpD8OzEJHAg/gOoXgNRv\n",
       "n8D2AUU977cL9ycghc8MoD8ZOP8wMLwHqectZeBwQFHP9JeBfwGS+uAGkHqg+e8PANVz/GVgBqnj\n",
       "SUtLLktLE2Bg4EhguH8AoX7xWRT3sDsw3H+AYj4w+PcrwNTzHl4A968+yL/3DzDoo4YPfwBD/wWo\n",
       "es7mAKikCwNDPCg87yswiDFNQFG/AegniHpOMQX0+GJZwGrIg2I+YwBLA1T9FYSvmRV460DqeaXW\n",
       "TVyNGp5dR7GkN95TCx/gSA/EpmfeC2SlfyT114xBwI78/LUOl3quB9hEAftVchhfvlMDAAAAAElF\n",
       "TkSuQmCC\n",
       "\" style=\"display:inline;vertical-align:middle;\" /></a></span>"
      ],
      "text/plain": [
       "{(a + b) in Complex} |- |a + b| >= 0"
      ]
     },
     "execution_count": 65,
     "metadata": {},
     "output_type": "execute_result"
    }
   ],
   "source": [
    "abs_value_a_plus_b.deduce_greater_than_equals_zero(\n",
    "    assumptions=[InSet(Add(a,b), Complex)])"
   ]
  },
  {
   "cell_type": "markdown",
   "metadata": {},
   "source": [
    "### Testing the `Abs.distribute()` method over products and fractions"
   ]
  },
  {
   "cell_type": "code",
   "execution_count": 66,
   "metadata": {},
   "outputs": [
    {
     "data": {
      "text/html": [
       "<a class=\"ProveItLink\" href=\"../__pv_it/demonstrations/35f0a21c60b2e5c450b0a24470809f4e4d4bf8370/expr.ipynb\"><img src=\"data:image/png;base64,iVBORw0KGgoAAAANSUhEUgAAACoAAAAVBAMAAADCwWEQAAAAMFBMVEX///9UVFSqqqoiIiJERESY\n",
       "mJgyMjIQEBBmZmbc3NyIiIi6urp2dnbu7u7MzMwAAABs7OAJAAAAAXRSTlMAQObYZgAAAKhJREFU\n",
       "GNNjeMuACd4ynMYiehpd9EoxNlGGDKyin7CJcv/FJspjABOdcWL5BZgom9QKBbAodyVDPlzt/Vze\n",
       "n2DR6wEMLSABXhChf4HhF1i0/wKDFVhZApBoY+D9AxYtYeD9BxJlFgA7l/sTSBQox/QBbu5XBo6/\n",
       "YNFPDIwJmjDR3yBrQCZ4MQQLHICJijJ4QNx7cdVLqQ0w0RtrArCFA9aQJEN0HRbRdQClf0W9FSh9\n",
       "CwAAAABJRU5ErkJggg==\n",
       "\" style=\"display:inline;vertical-align:middle;\" /></a>"
      ],
      "text/plain": [
       "|a * b|"
      ]
     },
     "execution_count": 66,
     "metadata": {},
     "output_type": "execute_result"
    }
   ],
   "source": [
    "abs_value_a_times_b"
   ]
  },
  {
   "cell_type": "code",
   "execution_count": 67,
   "metadata": {},
   "outputs": [
    {
     "data": {
      "text/html": [
       "<a class=\"ProveItLink\" href=\"../__pv_it/demonstrations/957c0c0588e381ce036365611d83efb5c35ef6350/expr.ipynb\"><img src=\"data:image/png;base64,iVBORw0KGgoAAAANSUhEUgAAABgAAAAnCAMAAAAihXiyAAAAOVBMVEX///9UVFSqqqoiIiJERESY\n",
       "mJgyMjK6urru7u6IiIh2dnbc3NxRUVEGBgYMDAxmZmYQEBDMzMwAAAD6XNRlAAAAAXRSTlMAQObY\n",
       "ZgAAALtJREFUKM+909sOgyAMANByL6AW+v8fOzRTHMVkLxsPDfFIaQWhwnRUKHMoHTIligUFhJIB\n",
       "PIsVWFyLZAUQ70lMFFD2d5HrCMipRc0gQbeoPOg8pLItuzMKkqhKxVizikE2OHa+zWGDdQ7rFx/x\n",
       "58B9/H/zCSzvGdpibrDcVnh6SHWc7gQC4xySeajKt1MnLQHZYwtZgD624CiA/HUhP+HoIlwld2B3\n",
       "3fkBwvmTDKDaM0u3Ps45UkyuN0gveiUJ4h0NKxwAAAAASUVORK5CYII=\n",
       "\" style=\"display:inline;vertical-align:middle;\" /></a>"
      ],
      "text/plain": [
       "|a / b|"
      ]
     },
     "execution_count": 67,
     "metadata": {},
     "output_type": "execute_result"
    }
   ],
   "source": [
    "abs_value_a_div_b"
   ]
  },
  {
   "cell_type": "code",
   "execution_count": 68,
   "metadata": {},
   "outputs": [],
   "source": [
    "# distribution over a product is still problematic\n",
    "# instantiation having trouble when dealing with\n",
    "# multiple simultaneous set membership conditions;\n",
    "# giving a \"Must implement 'extract_init_arg_value'\" error\n",
    "# see email with WW on 3/23/2020\n",
    "# abs_value_a_times_b.distribute(\n",
    "#     assumptions=[InSet(a, Complex), InSet(b, Complex)])"
   ]
  },
  {
   "cell_type": "code",
   "execution_count": 69,
   "metadata": {},
   "outputs": [
    {
     "data": {
      "text/html": [
       "<span style=\"font-size:20px;\"><a class=\"ProveItLink\" href=\"../__pv_it/theorems/ffc4a45642fde8a513aa78237f7ca59ff7c646290/expr.ipynb\"><img src=\"data:image/png;base64,iVBORw0KGgoAAAANSUhEUgAAADMAAAAPBAMAAAC7N+rPAAAAMFBMVEX///9UVFSqqqrMzMwiIiJE\n",
       "RESYmJgyMjK6urru7u4QEBCIiIh2dnZmZmbc3NwAAABRgo0vAAAAAXRSTlMAQObYZgAAANBJREFU\n",
       "GNNjYMACuEvql8Rik2BgtlfgvJ+LVSpBmoGB7S+KUKqLSwGQYjNYCSRlkWVMd0JoXr4AIDkbiPnu\n",
       "3AapYuCshCqZyHwByup6wP4BRDM+gAq84dgAYXAuY+AFGcDACjP4LUyK9ycDC5hpVQ4EIGdMZT4A\n",
       "keIKYJhvAGI8helinyAAYcw/wKAPUQOTYrsAkuIESikwiDOBXMC7ASYX3Q0k2oG2b2Bz5AGLOMGk\n",
       "eEtPcqpGAjVKb364A+KfiAlQOduqL5dRw64nBBxQMAAAUJwvP1Qg9PwAAAAASUVORK5CYII=\n",
       "\" style=\"display:inline;vertical-align:middle;\" /></a>, <a class=\"ProveItLink\" href=\"../__pv_it/theorems/cc5977648bc1a1b7dbb543c11fb2eb11ba7bfd0b0/expr.ipynb\"><img src=\"data:image/png;base64,iVBORw0KGgoAAAANSUhEUgAAADEAAAAPBAMAAAC/wjryAAAAMFBMVEX////MzMyYmJjc3NyIiIhU\n",
       "VFR2dna6urqqqqpmZmYyMjIiIiIQEBBERETu7u4AAACIO4EmAAAAAXRSTlMAQObYZgAAANhJREFU\n",
       "GNNj4LuzgQENsKxef/omkOaagCbBKN/AN18TyOBvQJNRCGFgYPoJZNQ/gIro7t69AEgxCZwDkpFA\n",
       "nA2VkPWD0JzMF4DkEyBe6jIDJMC3DqriKSPUYr5fD94bAGlWA6iMGbsDhMHxj4EfxOSFOcASJsO5\n",
       "gOF9ApCWWQUEIBe8ZUyAyAC9Uw9yty1MD9eDAAiDX4FhPsjdPDAZpgkgGT6gTAHfIbCpDjCpKyVA\n",
       "ogroJgVeiCt3wGQ41+bx9d4DapuSBPXHdVhgSK75PRElvMpug0MHBgCFGjXcupX6XQAAAABJRU5E\n",
       "rkJggg==\n",
       "\" style=\"display:inline;vertical-align:middle;\" /></a>, <a class=\"ProveItLink\" href=\"../__pv_it/theorems/283f8ea23d0d350af3b3dd8e1825fdbdee185e340/expr.ipynb\"><img src=\"data:image/png;base64,iVBORw0KGgoAAAANSUhEUgAAAC8AAAAUCAMAAAAqRJTwAAAAOVBMVEX///8kJCQNDQ0oKCjMzMyY\n",
       "mJjc3NyIiIhUVFR2dna6urqqqqpmZmYyMjIiIiIQEBBERETu7u4AAABpMeEWAAAAAXRSTlMAQObY\n",
       "ZgAAAN5JREFUKM+1UksWwyAItK1/RcX7H7aCTZ4mpn1ZlAXBZJwhA0Jch8PVWyw5LeEapstGOdlL\n",
       "iEu89cMBQmNOmusalvRlOKjMGqzo67JPK4dDsZQDI136SS+q7czUCVhj4qmlMtJjjR1vqAZsSW8+\n",
       "AMfrSXkzQldHD0n43hRVl/QNHzu+XYvAgm6CSzvPaOiHRf3B06Jnufrxp6GqalXcPeX+H7n/xa5S\n",
       "2C1FqNrGiFlNdHCgH+dlG7TMG+HPC5JoHzKZgNG4mV3AeeDojJkmPkSI4lYA3oIH91d64b99fAMh\n",
       "pgkdaBmRwQAAAABJRU5ErkJggg==\n",
       "\" style=\"display:inline;vertical-align:middle;\" /></a> <a class=\"ProveItLink\" href=\"../__pv_it/demonstrations/18076d25f9df333781ca258cb99105a457be18540/proof.ipynb\" style=\"text-decoration: none\">&nbsp;&#x22A2;&nbsp;&nbsp;</a><a class=\"ProveItLink\" href=\"../__pv_it/theorems/4ed5ce706c014e0d9933726d1f003e10148dbe5a0/expr.ipynb\"><img src=\"data:image/png;base64,iVBORw0KGgoAAAANSUhEUgAAAFAAAAAyCAMAAAD886zOAAAANlBMVEX///9UVFSqqqoiIiJERESY\n",
       "mJgyMjK6urru7u6IiIh2dnbc3NwGBgYMDAxmZmYQEBDMzMwAAACR1E8BAAAAAXRSTlMAQObYZgAA\n",
       "AWdJREFUSMftl9mugyAQQMGFtQX5/5+9VMswTG3qoMlNms4DCcRzZBtEIfpjMZ8amOH0p4afsE+4\n",
       "vFnBbmGEqg8u2Phc+XhcWLlWqKMXQiXBFSKuEZo45zJMXCHmGmFIj06PlivEXCOMj3eYtHCFmMNC\n",
       "k1wuhzKFh4UN1wqHXEolBs8UIq4Z8pRnYR6lcMwhY65dZWnt4qXV3FVGHNnYTcQLMuUi4X3/4Xu3\n",
       "8Lb/8O0/hmyXvYYTQhaJmp1CES4QXt7DPmGqcVCY9oM7h/J75rBLSC5HW/VELtPc26qQtGaKIy+X\n",
       "nwcicJsQjQ2nQWT0sHAvwvXz0CEsHBXqZLqEwFGhG0WXEDgqVPlzEwa+EDgiNEmZXHiusHJEOKxT\n",
       "kSxXWDkiDApuJCxh5Yhw3U26bIHjwsoRYZrhcsYSVo4Kdbk9MoXAbUJIN5nbJqiFw8LKkbPCBOvm\n",
       "jv+Kyp39TXlzfP2ErCC3pbX6B/N2FXh5w7bRAAAAAElFTkSuQmCC\n",
       "\" style=\"display:inline;vertical-align:middle;\" /></a></span>"
      ],
      "text/plain": [
       "{a in Complex, b in Complex, b != 0} |- |a / b| = (|a| / |b|)"
      ]
     },
     "execution_count": 69,
     "metadata": {},
     "output_type": "execute_result"
    }
   ],
   "source": [
    "# distribution over a fraction works fine\n",
    "abs_value_a_div_b.distribute(\n",
    "    assumptions=[InSet(a, Complex),\n",
    "                 InSet(b, Complex),\n",
    "                 NotEquals(b, zero)])"
   ]
  },
  {
   "cell_type": "markdown",
   "metadata": {},
   "source": [
    "### Testing Expression simplification() on Abs() Objects"
   ]
  },
  {
   "cell_type": "code",
   "execution_count": 70,
   "metadata": {},
   "outputs": [
    {
     "data": {
      "text/html": [
       "<a class=\"ProveItLink\" href=\"../__pv_it/demonstrations/a275c5385da724e750bc0ae2e95f6ac4e314f1a40/expr.ipynb\"><img src=\"data:image/png;base64,iVBORw0KGgoAAAANSUhEUgAAADUAAAAVBAMAAAAUZLt1AAAAMFBMVEX////c3NxEREQiIiIyMjJm\n",
       "ZmaYmJhUVFQQEBCqqqqIiIi6urp2dnbu7u7MzMwAAABqK0sxAAAAAXRSTlMAQObYZgAAAJhJREFU\n",
       "KM9jeMuAA/BdYDiNS45nA1Y53lClBzC5GRdQ5a4z8PyGyPHW1MPkZkGoWAaGDpi+fDS5ZgaGegEc\n",
       "cv4XGOof4JADAvsLOOW4/zDglGMuQJU74uJi4eLiDpYLZcCpjysAt9xUBkZcfuA7wMAFk1uPJid8\n",
       "5mgx1MzwftcEVL////8ZIx5m4Ymju4Tjjxi5dbjkuB4AALYBTibRq6jFAAAAAElFTkSuQmCC\n",
       "\" style=\"display:inline;vertical-align:middle;\" /></a>"
      ],
      "text/plain": [
       "|1 + 2|"
      ]
     },
     "execution_count": 70,
     "metadata": {},
     "output_type": "execute_result"
    }
   ],
   "source": [
    "abs_value_1_plus_2"
   ]
  },
  {
   "cell_type": "code",
   "execution_count": 71,
   "metadata": {},
   "outputs": [
    {
     "data": {
      "text/html": [
       "<span style=\"font-size:20px;\"> <a class=\"ProveItLink\" href=\"../__pv_it/demonstrations/db70d65d5f8b5ce60b4dbc67457b39dcc77179da0/proof.ipynb\" style=\"text-decoration: none\">&nbsp;&#x22A2;&nbsp;&nbsp;</a><a class=\"ProveItLink\" href=\"../__pv_it/demonstrations/4f8b283ef1356cc69df23b69e6f46354e57802db0/expr.ipynb\"><img src=\"data:image/png;base64,iVBORw0KGgoAAAANSUhEUgAAAF0AAAAVBAMAAADWVP/xAAAAMFBMVEX////c3NxEREQiIiIyMjJm\n",
       "ZmaYmJhUVFQQEBCqqqqIiIi6urp2dnbu7u7MzMwAAABqK0sxAAAAAXRSTlMAQObYZgAAAPFJREFU\n",
       "KM9jeMuAA/BdwCp8Gpd6ng1Eq+cNVXqAqZ7xzKEJEPUz0Ky+zsDzG1O9KAPnN5B63pp6mPpZECqW\n",
       "gaEDU/36CQyfIebno6lvZmCoF8BQv2MDwxfs6v0vMNQ/wOJfiHsw1QOB/QUs6i8fwKWe+w/U/Udc\n",
       "QMAVLChjegGXeuYCbOHP1Y2sHmiUhYuLO1gmFHt8dVzAbj5XABb1ggwM+hOwq5/KwCiA7H6wpf8v\n",
       "4FLPd4CBCzP8m0ChBla/Hk298JmjxZjuSYOFf3i/awJqfP3//xlTPXdo0Aa09DmLxPR8l7z0T031\n",
       "63Cp53qATRQAuDBn+dff9N0AAAAASUVORK5CYII=\n",
       "\" style=\"display:inline;vertical-align:middle;\" /></a></span>"
      ],
      "text/plain": [
       "|- |1 + 2| = 3"
      ]
     },
     "execution_count": 71,
     "metadata": {},
     "output_type": "execute_result"
    }
   ],
   "source": [
    "abs_value_1_plus_2.simplification()"
   ]
  },
  {
   "cell_type": "code",
   "execution_count": 72,
   "metadata": {},
   "outputs": [
    {
     "data": {
      "text/html": [
       "<strong id=\"abs_value_neg_three\">abs_value_neg_three:</strong> <a class=\"ProveItLink\" href=\"../__pv_it/demonstrations/825491dcf0082125bf7c57b470ef8be1e6974a9e0/expr.ipynb\"><img src=\"data:image/png;base64,iVBORw0KGgoAAAANSUhEUgAAACEAAAAVBAMAAAA6IZrnAAAALVBMVEX///8QEBAiIiKYmJhmZmaq\n",
       "qqpERETc3NwyMjKIiIi6urp2dnbu7u7MzMwAAADAHWEhAAAAAXRSTlMAQObYZgAAAHJJREFUGNNj\n",
       "uMOAAngPMOxCFeFegCTCvntbAKpICQPrY1SReQEMj1BFFi5geIEqwoChi4Hh0AY0kWqVA+hqOKUg\n",
       "Iic6QKAXJCR4AEVNOQNDXgCKyLsD6CJiDAx6qLqMMdzD5eK2AN129NAgRWQuqgjnBQAqvTRaF/kq\n",
       "mAAAAABJRU5ErkJggg==\n",
       "\" style=\"display:inline;vertical-align:middle;\" /></a><br>"
      ],
      "text/plain": [
       "abs_value_neg_three: |-3|"
      ]
     },
     "execution_count": 72,
     "metadata": {},
     "output_type": "execute_result"
    }
   ],
   "source": [
    "abs_value_neg_three = Abs(Neg(three))"
   ]
  },
  {
   "cell_type": "code",
   "execution_count": 73,
   "metadata": {},
   "outputs": [
    {
     "data": {
      "text/html": [
       "<span style=\"font-size:20px;\"> <a class=\"ProveItLink\" href=\"../__pv_it/demonstrations/e46155231aaef9703813b2ccd064b863627a1d560/proof.ipynb\" style=\"text-decoration: none\">&nbsp;&#x22A2;&nbsp;&nbsp;</a><a class=\"ProveItLink\" href=\"../__pv_it/demonstrations/10f66afa6d9a41305888265e82eb462bf429b8920/expr.ipynb\"><img src=\"data:image/png;base64,iVBORw0KGgoAAAANSUhEUgAAAIwAAAAVBAMAAABmhxuGAAAAMFBMVEX///9UVFQQEBAiIiKYmJhm\n",
       "ZmaqqqpERETc3NwyMjKIiIi6urp2dnbu7u7MzMwAAABXDuCaAAAAAXRSTlMAQObYZgAAAWdJREFU\n",
       "OMudlL9Lw0AUx79qTZsm7ewoLg4uWYRuOljQrYu4OARcHB3dzKDg4KCDgwjFv0CD/gMuIv4Ygk7d\n",
       "+g+Igi5O+t4p9s57L0UPQu9zfPPJvdfk8ARnNAv8a9y5GOdeYruEsE5XkNma2v11KmgaGwqZ/Agp\n",
       "MGFrdhC8CZowU8jkG/s069masxSvgqatkcnjljtxYmnOc7wLmpZGJo8HrnTSabFUVC3RifII+YZj\n",
       "R/N46WvqHZ0oj5hXrmzN3mzxrbk54nHI0+q8faNDnEeFe7zk7KY+4+9mLNWJ8gi4zDXS9Myju7w+\n",
       "VXiaUVoYJFyiPJov9Pts7WYX2EpFjUwm72s+ih/NV28OyosyeURc1IWlmQbm/KL0Fpu83+IF8b2J\n",
       "OxqZPMbpT8eqpYmWV3JfEyUamTzCPk27ww+KVgnxK8gfQzJc0y4hCJ+moqlmOkE4KBSNemwNtJvA\n",
       "6a8vsf+3Q3SRrkqGTxtXh9prRLI4AAAAAElFTkSuQmCC\n",
       "\" style=\"display:inline;vertical-align:middle;\" /></a></span>"
      ],
      "text/plain": [
       "|- |-3| = (-(-3))"
      ]
     },
     "execution_count": 73,
     "metadata": {},
     "output_type": "execute_result"
    }
   ],
   "source": [
    "# an example suggesting we modify the do_reduced_simplification()\n",
    "# to be on the lookout for double negation results?\n",
    "abs_value_neg_three.simplification()"
   ]
  },
  {
   "cell_type": "code",
   "execution_count": 74,
   "metadata": {},
   "outputs": [
    {
     "data": {
      "text/html": [
       "<span style=\"font-size:20px;\"> <a class=\"ProveItLink\" href=\"../__pv_it/demonstrations/e46155231aaef9703813b2ccd064b863627a1d560/proof.ipynb\" style=\"text-decoration: none\">&nbsp;&#x22A2;&nbsp;&nbsp;</a><a class=\"ProveItLink\" href=\"../__pv_it/demonstrations/10f66afa6d9a41305888265e82eb462bf429b8920/expr.ipynb\"><img src=\"data:image/png;base64,iVBORw0KGgoAAAANSUhEUgAAAIwAAAAVBAMAAABmhxuGAAAAMFBMVEX///9UVFQQEBAiIiKYmJhm\n",
       "ZmaqqqpERETc3NwyMjKIiIi6urp2dnbu7u7MzMwAAABXDuCaAAAAAXRSTlMAQObYZgAAAWdJREFU\n",
       "OMudlL9Lw0AUx79qTZsm7ewoLg4uWYRuOljQrYu4OARcHB3dzKDg4KCDgwjFv0CD/gMuIv4Ygk7d\n",
       "+g+Igi5O+t4p9s57L0UPQu9zfPPJvdfk8ARnNAv8a9y5GOdeYruEsE5XkNma2v11KmgaGwqZ/Agp\n",
       "MGFrdhC8CZowU8jkG/s069masxSvgqatkcnjljtxYmnOc7wLmpZGJo8HrnTSabFUVC3RifII+YZj\n",
       "R/N46WvqHZ0oj5hXrmzN3mzxrbk54nHI0+q8faNDnEeFe7zk7KY+4+9mLNWJ8gi4zDXS9Myju7w+\n",
       "VXiaUVoYJFyiPJov9Pts7WYX2EpFjUwm72s+ih/NV28OyosyeURc1IWlmQbm/KL0Fpu83+IF8b2J\n",
       "OxqZPMbpT8eqpYmWV3JfEyUamTzCPk27ww+KVgnxK8gfQzJc0y4hCJ+moqlmOkE4KBSNemwNtJvA\n",
       "6a8vsf+3Q3SRrkqGTxtXh9prRLI4AAAAAElFTkSuQmCC\n",
       "\" style=\"display:inline;vertical-align:middle;\" /></a></span>"
      ],
      "text/plain": [
       "|- |-3| = (-(-3))"
      ]
     },
     "execution_count": 74,
     "metadata": {},
     "output_type": "execute_result"
    }
   ],
   "source": [
    "# we can simplify the double negation manually with a little work\n",
    "abs_value_neg_three.simplification().inner_expr().rhs.simplify()"
   ]
  },
  {
   "cell_type": "code",
   "execution_count": 75,
   "metadata": {},
   "outputs": [
    {
     "data": {
      "text/html": [
       "<span style=\"font-size:20px;\"> <a class=\"ProveItLink\" href=\"../__pv_it/demonstrations/e46155231aaef9703813b2ccd064b863627a1d560/proof.ipynb\" style=\"text-decoration: none\">&nbsp;&#x22A2;&nbsp;&nbsp;</a><a class=\"ProveItLink\" href=\"../__pv_it/demonstrations/10f66afa6d9a41305888265e82eb462bf429b8920/expr.ipynb\"><img src=\"data:image/png;base64,iVBORw0KGgoAAAANSUhEUgAAAIwAAAAVBAMAAABmhxuGAAAAMFBMVEX///9UVFQQEBAiIiKYmJhm\n",
       "ZmaqqqpERETc3NwyMjKIiIi6urp2dnbu7u7MzMwAAABXDuCaAAAAAXRSTlMAQObYZgAAAWdJREFU\n",
       "OMudlL9Lw0AUx79qTZsm7ewoLg4uWYRuOljQrYu4OARcHB3dzKDg4KCDgwjFv0CD/gMuIv4Ygk7d\n",
       "+g+Igi5O+t4p9s57L0UPQu9zfPPJvdfk8ARnNAv8a9y5GOdeYruEsE5XkNma2v11KmgaGwqZ/Agp\n",
       "MGFrdhC8CZowU8jkG/s069masxSvgqatkcnjljtxYmnOc7wLmpZGJo8HrnTSabFUVC3RifII+YZj\n",
       "R/N46WvqHZ0oj5hXrmzN3mzxrbk54nHI0+q8faNDnEeFe7zk7KY+4+9mLNWJ8gi4zDXS9Myju7w+\n",
       "VXiaUVoYJFyiPJov9Pts7WYX2EpFjUwm72s+ih/NV28OyosyeURc1IWlmQbm/KL0Fpu83+IF8b2J\n",
       "OxqZPMbpT8eqpYmWV3JfEyUamTzCPk27ww+KVgnxK8gfQzJc0y4hCJ+moqlmOkE4KBSNemwNtJvA\n",
       "6a8vsf+3Q3SRrkqGTxtXh9prRLI4AAAAAElFTkSuQmCC\n",
       "\" style=\"display:inline;vertical-align:middle;\" /></a></span>"
      ],
      "text/plain": [
       "|- |-3| = (-(-3))"
      ]
     },
     "execution_count": 75,
     "metadata": {},
     "output_type": "execute_result"
    }
   ],
   "source": [
    "# after which the system now knows:\n",
    "abs_value_neg_three.simplification()"
   ]
  },
  {
   "cell_type": "code",
   "execution_count": 76,
   "metadata": {},
   "outputs": [
    {
     "data": {
      "text/html": [
       "<span style=\"font-size:20px;\"><a class=\"ProveItLink\" href=\"../../addition/__pv_it/theorems/ac218862468437a6f6e9fb539471b032913f45d10/expr.ipynb\"><img src=\"data:image/png;base64,iVBORw0KGgoAAAANSUhEUgAAAGQAAAAUBAMAAACJ7oWmAAAAMFBMVEX///9UVFTMzMx2dna6uroQ\n",
       "EBCqqqqIiIgiIiJmZmYyMjJERETu7u6YmJjc3NwAAAC+aOQFAAAAAXRSTlMAQObYZgAAAZNJREFU\n",
       "KM9jYOC7wIAd5DHgAqexiPFsbWBgYHyAKsjbuvvX0r0g1jps5nBNAOpbgC7II8C0dw9Q7wRk0XQo\n",
       "zZ8AJMzRtHDzGTBseMjAwPEAmxb/A0DiKJRzu6NjAUzLPC4GhhcM2LRYgB3iAGZr1yDZMo+bgaES\n",
       "yOabPD0GVcvC8mkMDMxgN/OsQXaYgCMDAygIXB9wfUDRwvPrwPkHDLxg5yACDqiFrRNoQBtQQSwD\n",
       "5wYULWx/GPgLGNgawAqRvB/RsQxIhzAwcP5h4CgAMq1WrWpdtWohkMW5gOG8AQMT2GrVVUAA9b7J\n",
       "hD0QLawbGM4roNgCjBb/BKiW18iBPEWbAewwoIH5qCHGf4Fh/gEGFrDDWJG1cJ8tAHv/fAKDFNsD\n",
       "FC0OQP9Bvc9ZgKSFSWASA4MlkFnA28iMYgvjBW5gAHMagDltSAmGwYxRgcEDGGLiRQ9LUAN5ui1I\n",
       "CcSDB7ccgCdLBe5d33AkGDA4AaWdd3SgpFDUZHkGmWOOK7/swyWBkfjxZjFIAD3AJYMzI9/DIQ4A\n",
       "hBxocR6bJXUAAAAASUVORK5CYII=\n",
       "\" style=\"display:inline;vertical-align:middle;\" /></a>, <a class=\"ProveItLink\" href=\"../__pv_it/demonstrations/36b5e627522a68bfd7a675fad2c651ef81fbdb660/expr.ipynb\"><img src=\"data:image/png;base64,iVBORw0KGgoAAAANSUhEUgAAAGEAAAAUBAMAAABvx07iAAAAMFBMVEX///9UVFTMzMx2dna6uroQ\n",
       "EBCqqqqIiIgiIiJmZmYyMjJERETu7u6YmJjc3NwAAAC+aOQFAAAAAXRSTlMAQObYZgAAAYNJREFU\n",
       "KM99U79Lw0AU/mo0NG3Sugkikv+g3VpFoYsgLoI4iUJmBxtFULe6OEpBsItg3SRDqYOTP8giiA4J\n",
       "iOCkcXOsOCkdfJfYpNdcvOF6/S7fe9/37j0g50K8NhJwPAow9bIGpLwYXnrSaW+JwmTqRGvGUEM9\n",
       "BLR6PyabwW/eYBH940Ok+hmYBtKeiLFo03YXKCybvdsLoGrjAyJG2RdRCf7szvzdflIoA3t0yh01\n",
       "VnnG2c4xIPUEv5wE2b6JYeKGjnNepsMx1B/b8aCF1tcn2Z77AgomDuh+DUqbY8hd5E3ItVDtwgRj\n",
       "UI5CEcuA0kWafSlZ1vmKZY0S0oRTxFAnYlxHqogx0oajcznoOchixAhUMedVg6micFW+VnkXpzaG\n",
       "a7xzXAFvNnPuGBiXPY5RIW+h87C6wQtOAVlT25e4HCk3S5VVigMvmDbUJWCesLGt922+uo1Z5kYf\n",
       "6BK1tKkndYm/7sXNzneiavf3dsJ83CYNTrzb/5kof2W9hIvEqX0Vw799PmNEpb4EnwAAAABJRU5E\n",
       "rkJggg==\n",
       "\" style=\"display:inline;vertical-align:middle;\" /></a> <a class=\"ProveItLink\" href=\"../__pv_it/demonstrations/dceb03c520f19d16228f0d1b0e7b898b257f0b990/proof.ipynb\" style=\"text-decoration: none\">&nbsp;&#x22A2;&nbsp;&nbsp;</a><a class=\"ProveItLink\" href=\"../__pv_it/demonstrations/84d1edd030eb34416d67106e34c5d66ef28d86b70/expr.ipynb\"><img src=\"data:image/png;base64,iVBORw0KGgoAAAANSUhEUgAAAI4AAAAVBAMAAABicsu7AAAAMFBMVEX///9UVFSqqqoiIiJERESY\n",
       "mJgyMjIQEBBmZmbc3NyIiIi6urp2dnbu7u7MzMwAAABs7OAJAAAAAXRSTlMAQObYZgAAAbVJREFU\n",
       "OMuVlL1Lw0AYxh/7ZWsT20XBTgU3l1YX1y6ibpmcLUKoiCKILiIUB4dSMOI/kLGolEIHxxZEKbhk\n",
       "KNVF0n9AlIKCHwXv2kbumjdFD3I57h5+efLc3YtneLRJC/9p914LSmV4JqJ5SH0GzVGX0xSnSTGa\n",
       "e6yb8fATylOcTdJMjj2tIc7c4B1LEpxgXvoXczDo8AxMmlOzCI7foDjRLg9il+bcUDmfg+Ioad5v\n",
       "cU6kWDiSOdmLYzenBFHqcEKJEguhwTnXRuhV4qjvlm30OIrea71kliBKHY69rX4Aa4yj7iOckTi+\n",
       "LmKmy88CRKnDSVn4BGYZJ9yFn0/e6fqirmfZKLwOu+7iHOJXymxuHOh6nA1PoH4DL4wznoHdlvyw\n",
       "41NLUhxB6vjJIdrpc+w6UvJ+xTScWmI+8cF/CVKH88ZNoso5SUz7DIlTYUG4/LCcBanD+cKD1s85\n",
       "YAbnFcnPmBbIuzkNiFKHM4UV1hf5fiXKZ5fyvhduiXNYhSh1OI9XvArs0OeZrBv0veh/OC1znkZx\n",
       "5HuqimVu+J6OrmOrnsWw9a962PTksC+UvdYm2n+uq0EDP75IjccEBkJNAAAAAElFTkSuQmCC\n",
       "\" style=\"display:inline;vertical-align:middle;\" /></a></span>"
      ],
      "text/plain": [
       "{(a + b) in Real, (a + b) > 0} |- |a + b| = (a + b)"
      ]
     },
     "execution_count": 76,
     "metadata": {},
     "output_type": "execute_result"
    }
   ],
   "source": [
    "# see if we can catch these in the do_reduced_simplification …\n",
    "# add a Greater(x, zero) or GreaterEq(x, zero) to the routine\n",
    "abs_value_a_plus_b.simplification(\n",
    "    assumptions=[InSet(Add(a, b), Real), Greater(Add(a, b), zero)])"
   ]
  },
  {
   "cell_type": "code",
   "execution_count": 77,
   "metadata": {},
   "outputs": [
    {
     "data": {
      "text/html": [
       "<span style=\"font-size:20px;\"><a class=\"ProveItLink\" href=\"../../addition/__pv_it/theorems/fe2ea8ebe0fb22589d78df83973bcde4d0e1a2f00/expr.ipynb\"><img src=\"data:image/png;base64,iVBORw0KGgoAAAANSUhEUgAAAD8AAAAUBAMAAADIGvgZAAAAMFBMVEX///9UVFSqqqrMzMwiIiJE\n",
       "RESYmJgyMjK6urru7u4QEBCIiIh2dnZmZmbc3NwAAABRgo0vAAAAAXRSTlMAQObYZgAAANtJREFU\n",
       "KM9jYKAEMBJSwEorBSlL48uXJuAzoWAig2nqBAbx8qry8gRsCgLeMLDyCWAxIdXFpQCqgPdBAaYC\n",
       "050IE3gfBMAV8N25vRJEc1YiWcHIgbCi6wH7B3CwPUBSoHJ9AkwB5zIG3gBUPwW8cnFXABsOInh/\n",
       "MrBsADGsyoEA6she1glw5VwBDPMNQIynSN7kbQ6A8+YfYNCHqEQOh8hshAIFBnEmkPt4NyApMOQ1\n",
       "gEfIBjZHHjDLCSmoeRSEYTxO6c0Pd4BZEyMmwCKrmCG0XgEzDnpCIEGNAgDkIjr3QDmHMAAAAABJ\n",
       "RU5ErkJggg==\n",
       "\" style=\"display:inline;vertical-align:middle;\" /></a>, <a class=\"ProveItLink\" href=\"../../addition/__pv_it/theorems/9b957f8664689a5edcf6697040635edc720ca5b90/expr.ipynb\"><img src=\"data:image/png;base64,iVBORw0KGgoAAAANSUhEUgAAAD0AAAAUBAMAAADM7ygkAAAAMFBMVEX////MzMyYmJjc3NyIiIhU\n",
       "VFR2dna6urqqqqpmZmYyMjIiIiIQEBBERETu7u4AAACIO4EmAAAAAXRSTlMAQObYZgAAAOhJREFU\n",
       "KM9jYCAfsBKQ56WGPN+dDaii2mfvrzqrgNDPNQFN24KnDLK6DxiiVq1ZtQqojr8BTf6CGQMvcwBc\n",
       "f/0DqLju7t0LoPKcBgvg8tlQaVk/hH5Ogwtw+aUuM8DuXIdkPis73Hy+Xw/eG4ACywBJvnvWA5g8\n",
       "xz8GfgeUwLhgs3sX2M3MIIJzAcP7BCAtswoIoO6r5H0AVw30fj1ItS2S/zgLL8B5/AoM80GqeZD9\n",
       "f08FIV/AdwhsjwOSvCinADySFXghAbwDKXzZGgJhPL4pSRDG0+sPYPGzkOHu+gaM6Cy7DQlfFAAA\n",
       "YJhFuWXv1BsAAAAASUVORK5CYII=\n",
       "\" style=\"display:inline;vertical-align:middle;\" /></a> <a class=\"ProveItLink\" href=\"../__pv_it/demonstrations/106924f0cf8074b9f00aa1f56501ba28f5477f340/proof.ipynb\" style=\"text-decoration: none\">&nbsp;&#x22A2;&nbsp;&nbsp;</a><a class=\"ProveItLink\" href=\"../__pv_it/demonstrations/84d1edd030eb34416d67106e34c5d66ef28d86b70/expr.ipynb\"><img src=\"data:image/png;base64,iVBORw0KGgoAAAANSUhEUgAAAI4AAAAVBAMAAABicsu7AAAAMFBMVEX///9UVFSqqqoiIiJERESY\n",
       "mJgyMjIQEBBmZmbc3NyIiIi6urp2dnbu7u7MzMwAAABs7OAJAAAAAXRSTlMAQObYZgAAAbVJREFU\n",
       "OMuVlL1Lw0AYxh/7ZWsT20XBTgU3l1YX1y6ibpmcLUKoiCKILiIUB4dSMOI/kLGolEIHxxZEKbhk\n",
       "KNVF0n9AlIKCHwXv2kbumjdFD3I57h5+efLc3YtneLRJC/9p914LSmV4JqJ5SH0GzVGX0xSnSTGa\n",
       "e6yb8fATylOcTdJMjj2tIc7c4B1LEpxgXvoXczDo8AxMmlOzCI7foDjRLg9il+bcUDmfg+Ioad5v\n",
       "cU6kWDiSOdmLYzenBFHqcEKJEguhwTnXRuhV4qjvlm30OIrea71kliBKHY69rX4Aa4yj7iOckTi+\n",
       "LmKmy88CRKnDSVn4BGYZJ9yFn0/e6fqirmfZKLwOu+7iHOJXymxuHOh6nA1PoH4DL4wznoHdlvyw\n",
       "41NLUhxB6vjJIdrpc+w6UvJ+xTScWmI+8cF/CVKH88ZNoso5SUz7DIlTYUG4/LCcBanD+cKD1s85\n",
       "YAbnFcnPmBbIuzkNiFKHM4UV1hf5fiXKZ5fyvhduiXNYhSh1OI9XvArs0OeZrBv0veh/OC1znkZx\n",
       "5HuqimVu+J6OrmOrnsWw9a962PTksC+UvdYm2n+uq0EDP75IjccEBkJNAAAAAElFTkSuQmCC\n",
       "\" style=\"display:inline;vertical-align:middle;\" /></a></span>"
      ],
      "text/plain": [
       "{a in RealPos, b in RealPos} |- |a + b| = (a + b)"
      ]
     },
     "execution_count": 77,
     "metadata": {},
     "output_type": "execute_result"
    }
   ],
   "source": [
    "abs_value_a_plus_b.simplification(\n",
    "    assumptions=[InSet(a, RealPos), InSet(b, RealPos)])"
   ]
  },
  {
   "cell_type": "code",
   "execution_count": 78,
   "metadata": {},
   "outputs": [
    {
     "data": {
      "text/html": [
       "<span style=\"font-size:20px;\"><a class=\"ProveItLink\" href=\"../../addition/__pv_it/theorems/0269bd3eceabf2243555e558d411289d47a7cfb20/expr.ipynb\"><img src=\"data:image/png;base64,iVBORw0KGgoAAAANSUhEUgAAAHAAAAAYBAMAAADQaWRPAAAAMFBMVEX///9UVFTMzMx2dna6uroQ\n",
       "EBCqqqqIiIgiIiJmZmYyMjJERETu7u6YmJjc3NwAAAC+aOQFAAAAAXRSTlMAQObYZgAAAbFJREFU\n",
       "OMtjYKArECBX4waKNPJdwCGbR0DjaSwSPFsbGBgYH6AK8rbu/rV0L0LjOmxGck0A6l6ALsgjwLR3\n",
       "DwPjqlVRq9Yy8E5AlmMrgND8CUDCHE0jN58Bw4aHMBs5HmDT6H8ASByFCt7u6FgA0ziPC6bxBQM2\n",
       "jRZgpzmA2do1SDbO44ZprAQF7OTpMagaF5ZPY2BgBvuCZw2yUwUcYRpBweT6gOsDikaeXwfOP2Dg\n",
       "BTsQEbhAjWyda2Aa24DKYhk4N6BoZPvDwF/AwNYAVo4UOBEdy8AskFkhDAycfxg4QBqYV61aEbVq\n",
       "FTAhci5gOG/AwAR2huoqIIAGjsmEPXBjgBpZNzCcV0CxERiN/glQja+Ro2OKNpwHdCrQ8HzUUOW/\n",
       "wDD/AAML2KmsyBq5zxbAeMDAOZ/AIMX2AEWjA9Df0MDhLEDSyCQwCcazBAoU8DYyo9jIeIEbGBWc\n",
       "BjA3wZMcgxkj1FMMHsBQFS96WIIaHdNtQQohag5uOQBP5Arcu75BNWJPcmBwAko77+hYgJkPUBM5\n",
       "zwEkjjn+3LwPlwTPAvwaT+OS4H6AXyPOouMeXm0Aa9xzADhGmXMAAAAASUVORK5CYII=\n",
       "\" style=\"display:inline;vertical-align:middle;\" /></a> <a class=\"ProveItLink\" href=\"../__pv_it/demonstrations/c425c71cb1301c2a79db4255ebb01b4d9be0456e0/proof.ipynb\" style=\"text-decoration: none\">&nbsp;&#x22A2;&nbsp;&nbsp;</a><a class=\"ProveItLink\" href=\"../__pv_it/demonstrations/84d1edd030eb34416d67106e34c5d66ef28d86b70/expr.ipynb\"><img src=\"data:image/png;base64,iVBORw0KGgoAAAANSUhEUgAAAI4AAAAVBAMAAABicsu7AAAAMFBMVEX///9UVFSqqqoiIiJERESY\n",
       "mJgyMjIQEBBmZmbc3NyIiIi6urp2dnbu7u7MzMwAAABs7OAJAAAAAXRSTlMAQObYZgAAAbVJREFU\n",
       "OMuVlL1Lw0AYxh/7ZWsT20XBTgU3l1YX1y6ibpmcLUKoiCKILiIUB4dSMOI/kLGolEIHxxZEKbhk\n",
       "KNVF0n9AlIKCHwXv2kbumjdFD3I57h5+efLc3YtneLRJC/9p914LSmV4JqJ5SH0GzVGX0xSnSTGa\n",
       "e6yb8fATylOcTdJMjj2tIc7c4B1LEpxgXvoXczDo8AxMmlOzCI7foDjRLg9il+bcUDmfg+Ioad5v\n",
       "cU6kWDiSOdmLYzenBFHqcEKJEguhwTnXRuhV4qjvlm30OIrea71kliBKHY69rX4Aa4yj7iOckTi+\n",
       "LmKmy88CRKnDSVn4BGYZJ9yFn0/e6fqirmfZKLwOu+7iHOJXymxuHOh6nA1PoH4DL4wznoHdlvyw\n",
       "41NLUhxB6vjJIdrpc+w6UvJ+xTScWmI+8cF/CVKH88ZNoso5SUz7DIlTYUG4/LCcBanD+cKD1s85\n",
       "YAbnFcnPmBbIuzkNiFKHM4UV1hf5fiXKZ5fyvhduiXNYhSh1OI9XvArs0OeZrBv0veh/OC1znkZx\n",
       "5HuqimVu+J6OrmOrnsWw9a962PTksC+UvdYm2n+uq0EDP75IjccEBkJNAAAAAElFTkSuQmCC\n",
       "\" style=\"display:inline;vertical-align:middle;\" /></a></span>"
      ],
      "text/plain": [
       "{(a + b) in RealPos} |- |a + b| = (a + b)"
      ]
     },
     "execution_count": 78,
     "metadata": {},
     "output_type": "execute_result"
    }
   ],
   "source": [
    "abs_value_a_plus_b.simplification(\n",
    "    assumptions=[InSet(Add(a,b), RealPos)])"
   ]
  },
  {
   "cell_type": "code",
   "execution_count": 79,
   "metadata": {},
   "outputs": [
    {
     "data": {
      "text/html": [
       "<a class=\"ProveItLink\" href=\"../__pv_it/demonstrations/35f0a21c60b2e5c450b0a24470809f4e4d4bf8370/expr.ipynb\"><img src=\"data:image/png;base64,iVBORw0KGgoAAAANSUhEUgAAACoAAAAVBAMAAADCwWEQAAAAMFBMVEX///9UVFSqqqoiIiJERESY\n",
       "mJgyMjIQEBBmZmbc3NyIiIi6urp2dnbu7u7MzMwAAABs7OAJAAAAAXRSTlMAQObYZgAAAKhJREFU\n",
       "GNNjeMuACd4ynMYiehpd9EoxNlGGDKyin7CJcv/FJspjABOdcWL5BZgom9QKBbAodyVDPlzt/Vze\n",
       "n2DR6wEMLSABXhChf4HhF1i0/wKDFVhZApBoY+D9AxYtYeD9BxJlFgA7l/sTSBQox/QBbu5XBo6/\n",
       "YNFPDIwJmjDR3yBrQCZ4MQQLHICJijJ4QNx7cdVLqQ0w0RtrArCFA9aQJEN0HRbRdQClf0W9FSh9\n",
       "CwAAAABJRU5ErkJggg==\n",
       "\" style=\"display:inline;vertical-align:middle;\" /></a>"
      ],
      "text/plain": [
       "|a * b|"
      ]
     },
     "execution_count": 79,
     "metadata": {},
     "output_type": "execute_result"
    }
   ],
   "source": [
    "abs_value_a_times_b"
   ]
  },
  {
   "cell_type": "code",
   "execution_count": 80,
   "metadata": {},
   "outputs": [
    {
     "data": {
      "text/html": [
       "<span style=\"font-size:20px;\"><a class=\"ProveItLink\" href=\"../__pv_it/demonstrations/5977b8829751743373daf0cc63e4425f2d246bd60/expr.ipynb\"><img src=\"data:image/png;base64,iVBORw0KGgoAAAANSUhEUgAAAGYAAAAYBAMAAAD62ZXgAAAAMFBMVEX///9UVFTMzMx2dna6uroQ\n",
       "EBCqqqqIiIgiIiJmZmYyMjJERETu7u6YmJjc3NwAAAC+aOQFAAAAAXRSTlMAQObYZgAAAaBJREFU\n",
       "OMtjYKADECBDzwZy9fBdwJTII6DnNKoYz9YGBgbGB6iCvK27fy3di9CzDs0grglAjQvQBXkEmPbu\n",
       "YWBctSpq1VoG3glo0vwJQMIcTZCbz4Bhw0OYPRxozmDwPwAkjkI5tzs6FsD0zOOC6XmB7kkLsFsc\n",
       "wGztGiR75nHD9FSCgm7y9Bi4noXl0xgYmMEu5lmD7DYBR5geUGi4PuD6AA+3XwfOP2DgBbsIEXxA\n",
       "PWyda2B62oDKYhk4wUEI8gnbHwb+Aga2BrBKpDCI6FgGZoGMCWFg4PzDwFEAtgJIcC5gOG/AwAS2\n",
       "V3UVEEDDwGTCHrgJQD2sGxjOK4DYjZDo8U+A6nmNHNZTtOE8oNuA5uYjoucCw/wDDCxgt7Ei6+E+\n",
       "WwDjAcPgfAKDFBvMu/wOQO9Bw4CzAEkPk8AkGM8SKFDA28gM4zNe4AaGM6cBzBHwtMNgxqgA5XkA\n",
       "/S5e9LAEHtbTbUFqINIHtxyAp1EF7l3foGow0g4YnIDSzjs6FmDKYqRRMDDHn/H2YRHjWYBfz2ks\n",
       "YtwP8OvBlrfv4dUBAP9qaza41mtGAAAAAElFTkSuQmCC\n",
       "\" style=\"display:inline;vertical-align:middle;\" /></a> <a class=\"ProveItLink\" href=\"../__pv_it/demonstrations/807fc7436ec698457b7b89eef97291c672cf9efc0/proof.ipynb\" style=\"text-decoration: none\">&nbsp;&#x22A2;&nbsp;&nbsp;</a><a class=\"ProveItLink\" href=\"../__pv_it/demonstrations/cf7733797130ba3926875cda4e2bf9603d1f21040/expr.ipynb\"><img src=\"data:image/png;base64,iVBORw0KGgoAAAANSUhEUgAAAHkAAAAVBAMAAACQ4lxbAAAAMFBMVEX///9UVFSqqqoiIiJERESY\n",
       "mJgyMjIQEBBmZmbc3NyIiIi6urp2dnbu7u7MzMwAAABs7OAJAAAAAXRSTlMAQObYZgAAAVFJREFU\n",
       "OMuNlLFKw1AUhv+mSUw1aZwcnLI62foEXUTcsrrFRfABnEQIjkUw4gtkFIUScHBsQQSpS8CCY/oC\n",
       "Qie3gvcmNornH3KGDIfvu/eec+4NPiGjm6NhvJGcm/3PdEJJ7UjbO+gxe0aoViL3tmNmnxLKi6Tt\n",
       "B8S2YkJhKu1xTux2Qih8SPuZde0WhIKdabtzNbyo88f3l9K+A6Hgxtp+SuxF3c2vvEhK2z0po6x4\n",
       "H4SCFSnbO4Mz0Dldi7GEn4q990AoGD1lO0u003JB9XEiFBNhn4NQ6C6UvTZAMddMvxrkOGC2pCpb\n",
       "rbL7O8gQ1/nfujd/Ti4pbOiTFwG2jNVA/UwVKPZWXZNU1TUztfruimuFZiztVxAKzkT3fHt081DP\n",
       "YvhCbssjCAV73uyFiptaxnvD9y1eSRnTpn+HQ0KxF8rtGaFMVc6I5NfnTf5MR8A3iXyCWzJpmdkA\n",
       "AAAASUVORK5CYII=\n",
       "\" style=\"display:inline;vertical-align:middle;\" /></a></span>"
      ],
      "text/plain": [
       "{(a * b) in RealPos} |- |a * b| = (a * b)"
      ]
     },
     "execution_count": 80,
     "metadata": {},
     "output_type": "execute_result"
    }
   ],
   "source": [
    "abs_value_a_times_b.simplification(\n",
    "    assumptions=[InSet(Mult(a,b), RealPos)])"
   ]
  },
  {
   "cell_type": "code",
   "execution_count": 81,
   "metadata": {},
   "outputs": [
    {
     "data": {
      "text/html": [
       "<span style=\"font-size:20px;\"><a class=\"ProveItLink\" href=\"../../addition/__pv_it/theorems/fe2ea8ebe0fb22589d78df83973bcde4d0e1a2f00/expr.ipynb\"><img src=\"data:image/png;base64,iVBORw0KGgoAAAANSUhEUgAAAD8AAAAUBAMAAADIGvgZAAAAMFBMVEX///9UVFSqqqrMzMwiIiJE\n",
       "RESYmJgyMjK6urru7u4QEBCIiIh2dnZmZmbc3NwAAABRgo0vAAAAAXRSTlMAQObYZgAAANtJREFU\n",
       "KM9jYKAEMBJSwEorBSlL48uXJuAzoWAig2nqBAbx8qry8gRsCgLeMLDyCWAxIdXFpQCqgPdBAaYC\n",
       "050IE3gfBMAV8N25vRJEc1YiWcHIgbCi6wH7B3CwPUBSoHJ9AkwB5zIG3gBUPwW8cnFXABsOInh/\n",
       "MrBsADGsyoEA6she1glw5VwBDPMNQIynSN7kbQ6A8+YfYNCHqEQOh8hshAIFBnEmkPt4NyApMOQ1\n",
       "gEfIBjZHHjDLCSmoeRSEYTxO6c0Pd4BZEyMmwCKrmCG0XgEzDnpCIEGNAgDkIjr3QDmHMAAAAABJ\n",
       "RU5ErkJggg==\n",
       "\" style=\"display:inline;vertical-align:middle;\" /></a>, <a class=\"ProveItLink\" href=\"../../addition/__pv_it/theorems/9b957f8664689a5edcf6697040635edc720ca5b90/expr.ipynb\"><img src=\"data:image/png;base64,iVBORw0KGgoAAAANSUhEUgAAAD0AAAAUBAMAAADM7ygkAAAAMFBMVEX////MzMyYmJjc3NyIiIhU\n",
       "VFR2dna6urqqqqpmZmYyMjIiIiIQEBBERETu7u4AAACIO4EmAAAAAXRSTlMAQObYZgAAAOhJREFU\n",
       "KM9jYCAfsBKQ56WGPN+dDaii2mfvrzqrgNDPNQFN24KnDLK6DxiiVq1ZtQqojr8BTf6CGQMvcwBc\n",
       "f/0DqLju7t0LoPKcBgvg8tlQaVk/hH5Ogwtw+aUuM8DuXIdkPis73Hy+Xw/eG4ACywBJvnvWA5g8\n",
       "xz8GfgeUwLhgs3sX2M3MIIJzAcP7BCAtswoIoO6r5H0AVw30fj1ItS2S/zgLL8B5/AoM80GqeZD9\n",
       "f08FIV/AdwhsjwOSvCinADySFXghAbwDKXzZGgJhPL4pSRDG0+sPYPGzkOHu+gaM6Cy7DQlfFAAA\n",
       "YJhFuWXv1BsAAAAASUVORK5CYII=\n",
       "\" style=\"display:inline;vertical-align:middle;\" /></a> <a class=\"ProveItLink\" href=\"../__pv_it/demonstrations/f5cd492476017104586ecc43af1bcc12709007d90/proof.ipynb\" style=\"text-decoration: none\">&nbsp;&#x22A2;&nbsp;&nbsp;</a><a class=\"ProveItLink\" href=\"../__pv_it/demonstrations/cf7733797130ba3926875cda4e2bf9603d1f21040/expr.ipynb\"><img src=\"data:image/png;base64,iVBORw0KGgoAAAANSUhEUgAAAHkAAAAVBAMAAACQ4lxbAAAAMFBMVEX///9UVFSqqqoiIiJERESY\n",
       "mJgyMjIQEBBmZmbc3NyIiIi6urp2dnbu7u7MzMwAAABs7OAJAAAAAXRSTlMAQObYZgAAAVFJREFU\n",
       "OMuNlLFKw1AUhv+mSUw1aZwcnLI62foEXUTcsrrFRfABnEQIjkUw4gtkFIUScHBsQQSpS8CCY/oC\n",
       "Qie3gvcmNornH3KGDIfvu/eec+4NPiGjm6NhvJGcm/3PdEJJ7UjbO+gxe0aoViL3tmNmnxLKi6Tt\n",
       "B8S2YkJhKu1xTux2Qih8SPuZde0WhIKdabtzNbyo88f3l9K+A6Hgxtp+SuxF3c2vvEhK2z0po6x4\n",
       "H4SCFSnbO4Mz0Dldi7GEn4q990AoGD1lO0u003JB9XEiFBNhn4NQ6C6UvTZAMddMvxrkOGC2pCpb\n",
       "rbL7O8gQ1/nfujd/Ti4pbOiTFwG2jNVA/UwVKPZWXZNU1TUztfruimuFZiztVxAKzkT3fHt081DP\n",
       "YvhCbssjCAV73uyFiptaxnvD9y1eSRnTpn+HQ0KxF8rtGaFMVc6I5NfnTf5MR8A3iXyCWzJpmdkA\n",
       "AAAASUVORK5CYII=\n",
       "\" style=\"display:inline;vertical-align:middle;\" /></a></span>"
      ],
      "text/plain": [
       "{a in RealPos, b in RealPos} |- |a * b| = (a * b)"
      ]
     },
     "execution_count": 81,
     "metadata": {},
     "output_type": "execute_result"
    }
   ],
   "source": [
    "abs_value_a_times_b.simplification(\n",
    "    assumptions=[InSet(a, RealPos), InSet(b, RealPos)])"
   ]
  },
  {
   "cell_type": "code",
   "execution_count": 82,
   "metadata": {},
   "outputs": [
    {
     "data": {
      "text/html": [
       "<span style=\"font-size:20px;\"> <a class=\"ProveItLink\" href=\"../__pv_it/demonstrations/2ee0d24b6e191bb0746805c562c828b4c995649d0/proof.ipynb\" style=\"text-decoration: none\">&nbsp;&#x22A2;&nbsp;&nbsp;</a><a class=\"ProveItLink\" href=\"../__pv_it/demonstrations/c8917271227648419545b6dc44201f4e9e3ac4100/expr.ipynb\"><img src=\"data:image/png;base64,iVBORw0KGgoAAAANSUhEUgAAAHUAAAAVBAMAAACK3rzVAAAAMFBMVEX///9UVFSqqqoiIiJERESY\n",
       "mJgyMjIQEBBmZmbc3NyIiIi6urp2dnbu7u7MzMwAAABs7OAJAAAAAXRSTlMAQObYZgAAAQFJREFU\n",
       "OMtjeMuACfguEBKAiJ3GopdnAyEBiBiaXl53A8J6YYrQ7WVrIMJeqCJ0vfwKROiFKkLXu/8CEXqh\n",
       "itD1HiYmrA7Dw4qzp6sWLpy4qgmrXmyKgHq3T2D7AA/CbxfuT4DoPZYGAhlQvdgUnWbgLWXgcAAJ\n",
       "gRIA018G/gVY7MWq6DQDx18G5gVg04AERwLD/QNY9GJVdJqB3YHh/gOQCkNIzO1XwKIXq6LTQCMY\n",
       "9BExF8DQfwHZv4kQvVgVAfUqMIgxTYAJg3yGxV6sik4zsCxgNeSBqWIMYGnApherImA4S62buBoe\n",
       "/F1HsaYNrIqomAeHhN51WPRyPSAkABYDAB1NjPzrsUwCAAAAAElFTkSuQmCC\n",
       "\" style=\"display:inline;vertical-align:middle;\" /></a></span>"
      ],
      "text/plain": [
       "|- |a * b| = |a * b|"
      ]
     },
     "execution_count": 82,
     "metadata": {},
     "output_type": "execute_result"
    }
   ],
   "source": [
    "# but if we don't know anything about a and b,\n",
    "# no error, just return itself\n",
    "abs_value_a_times_b.simplification()"
   ]
  },
  {
   "cell_type": "code",
   "execution_count": 83,
   "metadata": {},
   "outputs": [
    {
     "data": {
      "text/html": [
       "<span style=\"font-size:20px;\"><a class=\"ProveItLink\" href=\"../../multiplication/__pv_it/theorems/4e18818a916e43f260023b3f74dfa85b55295e6e0/expr.ipynb\"><img src=\"data:image/png;base64,iVBORw0KGgoAAAANSUhEUgAAAFkAAAAUBAMAAAAU44wuAAAAMFBMVEX///9UVFTMzMx2dna6uroQ\n",
       "EBCqqqqIiIgiIiJmZmYyMjJERETu7u6YmJjc3NwAAAC+aOQFAAAAAXRSTlMAQObYZgAAAZVJREFU\n",
       "KM9jYOC7wIAB8hhwgdOoXJ6tDQwMjA9QBU/93nWAwfSrAwPDOjTdXBOAWhagCe5lEmDg+cDAwDsB\n",
       "TYI/AUiYowlKKJQzMAQwMHCgWcrgfwBIHIVybnd0gK0R2cOowAB04gt0f1iAneMAZmvXQAXlFHnW\n",
       "gFRXAtl8k6fHwFUvLJ/GwMAMdh9QBUw1W4EiSPVeINv1AdcHeJj8OnD+AQMv2H5E0MgxmPAWAFW3\n",
       "ARXEMnBuAImBXMz2h4G/gIGtAcTnZkCoZjwgBBQLYWDg/MPAUQA2FkhwLmA4b8DABLZLdRUQLICo\n",
       "5hHgCgCrZt3AcF4BJNYICW7/BKjq10hmMygzBYBdAjQrHxHcFxjmH2BgAbuEFVk1b8IGsC/PJzBI\n",
       "scE8xO8A9AbUl5wFMNVCQGwHVG0J9EwBbyMzTJzxAjcw9DgNwJw2mOgyiI8YPIC+Ey96WAIPwem2\n",
       "INeD/cFwcMsBMK3xdQMk8WDEPBicgNLOOzpQEhhGqgIDc1zpex8WMYwUiys3gAH3A1yqseW0ezjU\n",
       "AgAF6GAIkZvtHQAAAABJRU5ErkJggg==\n",
       "\" style=\"display:inline;vertical-align:middle;\" /></a> <a class=\"ProveItLink\" href=\"../__pv_it/demonstrations/59428f2b6138169fe0c4f9252721d00d70ce61350/proof.ipynb\" style=\"text-decoration: none\">&nbsp;&#x22A2;&nbsp;&nbsp;</a><a class=\"ProveItLink\" href=\"../__pv_it/demonstrations/cf7733797130ba3926875cda4e2bf9603d1f21040/expr.ipynb\"><img src=\"data:image/png;base64,iVBORw0KGgoAAAANSUhEUgAAAHkAAAAVBAMAAACQ4lxbAAAAMFBMVEX///9UVFSqqqoiIiJERESY\n",
       "mJgyMjIQEBBmZmbc3NyIiIi6urp2dnbu7u7MzMwAAABs7OAJAAAAAXRSTlMAQObYZgAAAVFJREFU\n",
       "OMuNlLFKw1AUhv+mSUw1aZwcnLI62foEXUTcsrrFRfABnEQIjkUw4gtkFIUScHBsQQSpS8CCY/oC\n",
       "Qie3gvcmNornH3KGDIfvu/eec+4NPiGjm6NhvJGcm/3PdEJJ7UjbO+gxe0aoViL3tmNmnxLKi6Tt\n",
       "B8S2YkJhKu1xTux2Qih8SPuZde0WhIKdabtzNbyo88f3l9K+A6Hgxtp+SuxF3c2vvEhK2z0po6x4\n",
       "H4SCFSnbO4Mz0Dldi7GEn4q990AoGD1lO0u003JB9XEiFBNhn4NQ6C6UvTZAMddMvxrkOGC2pCpb\n",
       "rbL7O8gQ1/nfujd/Ti4pbOiTFwG2jNVA/UwVKPZWXZNU1TUztfruimuFZiztVxAKzkT3fHt081DP\n",
       "YvhCbssjCAV73uyFiptaxnvD9y1eSRnTpn+HQ0KxF8rtGaFMVc6I5NfnTf5MR8A3iXyCWzJpmdkA\n",
       "AAAASUVORK5CYII=\n",
       "\" style=\"display:inline;vertical-align:middle;\" /></a></span>"
      ],
      "text/plain": [
       "{(a * b) in Natural} |- |a * b| = (a * b)"
      ]
     },
     "execution_count": 83,
     "metadata": {},
     "output_type": "execute_result"
    }
   ],
   "source": [
    "abs_value_a_times_b.simplification(\n",
    "    assumptions=[InSet(Mult(a,b), Natural)])"
   ]
  },
  {
   "cell_type": "code",
   "execution_count": 84,
   "metadata": {},
   "outputs": [
    {
     "data": {
      "text/html": [
       "<span style=\"font-size:20px;\"><a class=\"ProveItLink\" href=\"../../addition/__pv_it/theorems/c2741e7bf3ba56bb8af4781eceb979ce777fa1cc0/expr.ipynb\"><img src=\"data:image/png;base64,iVBORw0KGgoAAAANSUhEUgAAAEgAAAAVBAMAAAAX07VdAAAAMFBMVEX///9UVFSqqqrMzMwiIiJE\n",
       "RESYmJgyMjK6urru7u4QEBCIiIh2dnZmZmbc3NwAAABRgo0vAAAAAXRSTlMAQObYZgAAASlJREFU\n",
       "KM9jYCAE9uzBJ9v4AESyHWASwKOI76IBkGRpYPiJzyi+q0BV8w0YFuF1DufRBgb7Bwxu+B3NeXyC\n",
       "/QQGbywyKUvjy5cmgJncZSCTVmPTXzCRwTR1ApAxOwjsph/YFAW8YWDlA/p7TgQW36W6uBRAFfE+\n",
       "KGCYGwG28QJKOJnuRJjE+yCAwRga4mdBoXHn9kqwTyqRrGPkQA3mrgfsH0A04wMkRSrXJ6AExTIG\n",
       "3gAQgxXh8Fcu7goMDKqhQABRy/uTgWUDiGFVDgRQh/eyohjEwBUACgogeIoUBLzNASiK5h9g0Ieo\n",
       "Rg6nyGxURQoM4kwgN/NuQFJkyGuArIh1A5sjD5jlhBQtPArCKL6T3vxwB5g1MWICLIKLGULrFbAn\n",
       "jJ4QSLRgAAALr1Nqmplu+QAAAABJRU5ErkJggg==\n",
       "\" style=\"display:inline;vertical-align:middle;\" /></a>, <a class=\"ProveItLink\" href=\"../../addition/__pv_it/theorems/5dc3a413adc52c16bb1fe833d0a2a30a82fffe7f0/expr.ipynb\"><img src=\"data:image/png;base64,iVBORw0KGgoAAAANSUhEUgAAAEYAAAAVBAMAAAAJGoXuAAAAMFBMVEX////MzMyYmJjc3NyIiIhU\n",
       "VFR2dna6urqqqqpmZmYyMjIiIiIQEBBERETu7u4AAACIO4EmAAAAAXRSTlMAQObYZgAAATdJREFU\n",
       "KM9jYCAA3NzwSJYagEimBI4A3GqYpwoASe4Chn94DGKeC1T0XoDhBD6n8OUWMMgbMGzC616+rAfy\n",
       "Dxi2MPDd2YAqoX32/qqzCmAmyyKQOUcYGLgmoOle8JRBVvcBkPHkBtg93xkY+BvQ1FwwY+BlBnr4\n",
       "2XW4v+ofQOV0d+9eAFXDabCA4eV1sHUTQOGTDVUi64cwh9PgAoMgNJwzgcRSlxlgP6xDsouVHSVw\n",
       "+X49eA8KdVYDJDXdsx4gq+H4x8DvAKR5EW622b0L6I/eu0AAUcq5gOF9ApCWWQUEUDdX8qIYAwqe\n",
       "epDvbZH8zll4AUUNvwLDfJAuHuTwuaeCqqaA7xDYTgckNaKcAshqWBV4IZGxAyku2BoCUfw+JQnC\n",
       "eHr9ASxOFzLcXd+ANSWU3YbEBQYAANJKXoCzSUXmAAAAAElFTkSuQmCC\n",
       "\" style=\"display:inline;vertical-align:middle;\" /></a> <a class=\"ProveItLink\" href=\"../__pv_it/demonstrations/7b85e1b52eb4eb8a1b06513713261e68a5661aff0/proof.ipynb\" style=\"text-decoration: none\">&nbsp;&#x22A2;&nbsp;&nbsp;</a><a class=\"ProveItLink\" href=\"../__pv_it/demonstrations/cf7733797130ba3926875cda4e2bf9603d1f21040/expr.ipynb\"><img src=\"data:image/png;base64,iVBORw0KGgoAAAANSUhEUgAAAHkAAAAVBAMAAACQ4lxbAAAAMFBMVEX///9UVFSqqqoiIiJERESY\n",
       "mJgyMjIQEBBmZmbc3NyIiIi6urp2dnbu7u7MzMwAAABs7OAJAAAAAXRSTlMAQObYZgAAAVFJREFU\n",
       "OMuNlLFKw1AUhv+mSUw1aZwcnLI62foEXUTcsrrFRfABnEQIjkUw4gtkFIUScHBsQQSpS8CCY/oC\n",
       "Qie3gvcmNornH3KGDIfvu/eec+4NPiGjm6NhvJGcm/3PdEJJ7UjbO+gxe0aoViL3tmNmnxLKi6Tt\n",
       "B8S2YkJhKu1xTux2Qih8SPuZde0WhIKdabtzNbyo88f3l9K+A6Hgxtp+SuxF3c2vvEhK2z0po6x4\n",
       "H4SCFSnbO4Mz0Dldi7GEn4q990AoGD1lO0u003JB9XEiFBNhn4NQ6C6UvTZAMddMvxrkOGC2pCpb\n",
       "rbL7O8gQ1/nfujd/Ti4pbOiTFwG2jNVA/UwVKPZWXZNU1TUztfruimuFZiztVxAKzkT3fHt081DP\n",
       "YvhCbssjCAV73uyFiptaxnvD9y1eSRnTpn+HQ0KxF8rtGaFMVc6I5NfnTf5MR8A3iXyCWzJpmdkA\n",
       "AAAASUVORK5CYII=\n",
       "\" style=\"display:inline;vertical-align:middle;\" /></a></span>"
      ],
      "text/plain": [
       "{a in RealNonNeg, b in RealNonNeg} |- |a * b| = (a * b)"
      ]
     },
     "execution_count": 84,
     "metadata": {},
     "output_type": "execute_result"
    }
   ],
   "source": [
    "abs_value_a_times_b.simplification(\n",
    "    assumptions=[InSet(a, RealNonNeg), InSet(b, RealNonNeg)])"
   ]
  },
  {
   "cell_type": "code",
   "execution_count": 85,
   "metadata": {},
   "outputs": [
    {
     "data": {
      "text/html": [
       "<span style=\"font-size:20px;\"><a class=\"ProveItLink\" href=\"../../addition/__pv_it/theorems/6dd6097d7445632e2aa0cb7bea1facd58ca206600/expr.ipynb\"><img src=\"data:image/png;base64,iVBORw0KGgoAAAANSUhEUgAAADMAAAAPBAMAAAC7N+rPAAAAMFBMVEX///9UVFSqqqrMzMwiIiJE\n",
       "RESYmJgyMjK6urru7u4QEBCIiIh2dnZmZmbc3NwAAABRgo0vAAAAAXRSTlMAQObYZgAAANZJREFU\n",
       "GNNjYMAA07+GT2A49auBAQsIYxZg4PyATYZBxGA3A8MCFKFUF5cCEC0RyWjA4IAsY7oTypAz5KwE\n",
       "S/Hdub0SJADkwqSYNhiCpboesIOtZHwAl2I4wbYBKMW5jIE3ACTAyoCQYpwgDJTi/cnAsgEkYFUO\n",
       "BAUQKU4BdqALuQIY5huABJ4i6WKwYQZKzT/AoA8W4EKWYlMAWjJfgUGcCeQC3g0wKWEgPgeUYt3A\n",
       "5sgDFnGCSRWBFAJt5ZTe/HAHWGRixAQwbfILqIOzACWgekJckAUA35wvARSvnUAAAAAASUVORK5C\n",
       "YII=\n",
       "\" style=\"display:inline;vertical-align:middle;\" /></a>, <a class=\"ProveItLink\" href=\"../../addition/__pv_it/theorems/79857841975a629a0902c6d150cb640c73d78e8f0/expr.ipynb\"><img src=\"data:image/png;base64,iVBORw0KGgoAAAANSUhEUgAAADEAAAAPBAMAAAC/wjryAAAAMFBMVEX////MzMyYmJjc3NyIiIhU\n",
       "VFR2dna6urqqqqpmZmYyMjIiIiIQEBBERETu7u4AAACIO4EmAAAAAXRSTlMAQObYZgAAAN9JREFU\n",
       "GNNj4LuzgQEFvPp76wFDzp8CBgauCagyDJcYAxj4PgAZ/A1oMtECLgwMB4CM+gdQEd3duxeA6PB7\n",
       "rAIMICuyoRKyflBGsCjfOrDMUpcZID6QB5PhcBAFyfD9evDeAMhnNYDLMKQzOQBlOP4x8DsA+bwM\n",
       "CBnWB4FAGc4FDO8TgHyZVUCwACLDF8B1AOydepC7bZH0MIgxAmX4FRjmg9zNgyzD1HABKFPAdwjE\n",
       "53SAyQQCcTJQhlWBFxI8O2AyKxjAtjPwTUmCCDy9DgkM6T9A9XwLkMOr7PZuZD4ADBo8McGv+1gA\n",
       "AAAASUVORK5CYII=\n",
       "\" style=\"display:inline;vertical-align:middle;\" /></a> <a class=\"ProveItLink\" href=\"../__pv_it/demonstrations/13986fa1c173247e155e84f59a77c18f6896aae90/proof.ipynb\" style=\"text-decoration: none\">&nbsp;&#x22A2;&nbsp;&nbsp;</a><a class=\"ProveItLink\" href=\"../__pv_it/demonstrations/cf7733797130ba3926875cda4e2bf9603d1f21040/expr.ipynb\"><img src=\"data:image/png;base64,iVBORw0KGgoAAAANSUhEUgAAAHkAAAAVBAMAAACQ4lxbAAAAMFBMVEX///9UVFSqqqoiIiJERESY\n",
       "mJgyMjIQEBBmZmbc3NyIiIi6urp2dnbu7u7MzMwAAABs7OAJAAAAAXRSTlMAQObYZgAAAVFJREFU\n",
       "OMuNlLFKw1AUhv+mSUw1aZwcnLI62foEXUTcsrrFRfABnEQIjkUw4gtkFIUScHBsQQSpS8CCY/oC\n",
       "Qie3gvcmNornH3KGDIfvu/eec+4NPiGjm6NhvJGcm/3PdEJJ7UjbO+gxe0aoViL3tmNmnxLKi6Tt\n",
       "B8S2YkJhKu1xTux2Qih8SPuZde0WhIKdabtzNbyo88f3l9K+A6Hgxtp+SuxF3c2vvEhK2z0po6x4\n",
       "H4SCFSnbO4Mz0Dldi7GEn4q990AoGD1lO0u003JB9XEiFBNhn4NQ6C6UvTZAMddMvxrkOGC2pCpb\n",
       "rbL7O8gQ1/nfujd/Ti4pbOiTFwG2jNVA/UwVKPZWXZNU1TUztfruimuFZiztVxAKzkT3fHt081DP\n",
       "YvhCbssjCAV73uyFiptaxnvD9y1eSRnTpn+HQ0KxF8rtGaFMVc6I5NfnTf5MR8A3iXyCWzJpmdkA\n",
       "AAAASUVORK5CYII=\n",
       "\" style=\"display:inline;vertical-align:middle;\" /></a></span>"
      ],
      "text/plain": [
       "{a in Natural, b in Natural} |- |a * b| = (a * b)"
      ]
     },
     "execution_count": 85,
     "metadata": {},
     "output_type": "execute_result"
    }
   ],
   "source": [
    "abs_value_a_times_b.simplification(\n",
    "    assumptions=[InSet(a, Natural), InSet(b, Natural)])"
   ]
  },
  {
   "cell_type": "code",
   "execution_count": 86,
   "metadata": {},
   "outputs": [
    {
     "data": {
      "text/html": [
       "<span style=\"font-size:20px;\"><a class=\"ProveItLink\" href=\"../../addition/__pv_it/theorems/c2741e7bf3ba56bb8af4781eceb979ce777fa1cc0/expr.ipynb\"><img src=\"data:image/png;base64,iVBORw0KGgoAAAANSUhEUgAAAEgAAAAVBAMAAAAX07VdAAAAMFBMVEX///9UVFSqqqrMzMwiIiJE\n",
       "RESYmJgyMjK6urru7u4QEBCIiIh2dnZmZmbc3NwAAABRgo0vAAAAAXRSTlMAQObYZgAAASlJREFU\n",
       "KM9jYCAE9uzBJ9v4AESyHWASwKOI76IBkGRpYPiJzyi+q0BV8w0YFuF1DufRBgb7Bwxu+B3NeXyC\n",
       "/QQGbywyKUvjy5cmgJncZSCTVmPTXzCRwTR1ApAxOwjsph/YFAW8YWDlA/p7TgQW36W6uBRAFfE+\n",
       "KGCYGwG28QJKOJnuRJjE+yCAwRga4mdBoXHn9kqwTyqRrGPkQA3mrgfsH0A04wMkRSrXJ6AExTIG\n",
       "3gAQgxXh8Fcu7goMDKqhQABRy/uTgWUDiGFVDgRQh/eyohjEwBUACgogeIoUBLzNASiK5h9g0Ieo\n",
       "Rg6nyGxURQoM4kwgN/NuQFJkyGuArIh1A5sjD5jlhBQtPArCKL6T3vxwB5g1MWICLIKLGULrFbAn\n",
       "jJ4QSLRgAAALr1Nqmplu+QAAAABJRU5ErkJggg==\n",
       "\" style=\"display:inline;vertical-align:middle;\" /></a>, <a class=\"ProveItLink\" href=\"../../addition/__pv_it/theorems/79857841975a629a0902c6d150cb640c73d78e8f0/expr.ipynb\"><img src=\"data:image/png;base64,iVBORw0KGgoAAAANSUhEUgAAADEAAAAPBAMAAAC/wjryAAAAMFBMVEX////MzMyYmJjc3NyIiIhU\n",
       "VFR2dna6urqqqqpmZmYyMjIiIiIQEBBERETu7u4AAACIO4EmAAAAAXRSTlMAQObYZgAAAN9JREFU\n",
       "GNNj4LuzgQEFvPp76wFDzp8CBgauCagyDJcYAxj4PgAZ/A1oMtECLgwMB4CM+gdQEd3duxeA6PB7\n",
       "rAIMICuyoRKyflBGsCjfOrDMUpcZID6QB5PhcBAFyfD9evDeAMhnNYDLMKQzOQBlOP4x8DsA+bwM\n",
       "CBnWB4FAGc4FDO8TgHyZVUCwACLDF8B1AOydepC7bZH0MIgxAmX4FRjmg9zNgyzD1HABKFPAdwjE\n",
       "53SAyQQCcTJQhlWBFxI8O2AyKxjAtjPwTUmCCDy9DgkM6T9A9XwLkMOr7PZuZD4ADBo8McGv+1gA\n",
       "AAAASUVORK5CYII=\n",
       "\" style=\"display:inline;vertical-align:middle;\" /></a> <a class=\"ProveItLink\" href=\"../__pv_it/demonstrations/7eab175e7bb6c614039334c0af10712c6a048f7f0/proof.ipynb\" style=\"text-decoration: none\">&nbsp;&#x22A2;&nbsp;&nbsp;</a><a class=\"ProveItLink\" href=\"../__pv_it/demonstrations/cf7733797130ba3926875cda4e2bf9603d1f21040/expr.ipynb\"><img src=\"data:image/png;base64,iVBORw0KGgoAAAANSUhEUgAAAHkAAAAVBAMAAACQ4lxbAAAAMFBMVEX///9UVFSqqqoiIiJERESY\n",
       "mJgyMjIQEBBmZmbc3NyIiIi6urp2dnbu7u7MzMwAAABs7OAJAAAAAXRSTlMAQObYZgAAAVFJREFU\n",
       "OMuNlLFKw1AUhv+mSUw1aZwcnLI62foEXUTcsrrFRfABnEQIjkUw4gtkFIUScHBsQQSpS8CCY/oC\n",
       "Qie3gvcmNornH3KGDIfvu/eec+4NPiGjm6NhvJGcm/3PdEJJ7UjbO+gxe0aoViL3tmNmnxLKi6Tt\n",
       "B8S2YkJhKu1xTux2Qih8SPuZde0WhIKdabtzNbyo88f3l9K+A6Hgxtp+SuxF3c2vvEhK2z0po6x4\n",
       "H4SCFSnbO4Mz0Dldi7GEn4q990AoGD1lO0u003JB9XEiFBNhn4NQ6C6UvTZAMddMvxrkOGC2pCpb\n",
       "rbL7O8gQ1/nfujd/Ti4pbOiTFwG2jNVA/UwVKPZWXZNU1TUztfruimuFZiztVxAKzkT3fHt081DP\n",
       "YvhCbssjCAV73uyFiptaxnvD9y1eSRnTpn+HQ0KxF8rtGaFMVc6I5NfnTf5MR8A3iXyCWzJpmdkA\n",
       "AAAASUVORK5CYII=\n",
       "\" style=\"display:inline;vertical-align:middle;\" /></a></span>"
      ],
      "text/plain": [
       "{a in RealNonNeg, b in Natural} |- |a * b| = (a * b)"
      ]
     },
     "execution_count": 86,
     "metadata": {},
     "output_type": "execute_result"
    }
   ],
   "source": [
    "abs_value_a_times_b.simplification(\n",
    "    assumptions=[InSet(a, RealNonNeg), InSet(b, Natural)])"
   ]
  },
  {
   "cell_type": "code",
   "execution_count": 87,
   "metadata": {},
   "outputs": [
    {
     "data": {
      "text/html": [
       "<strong id=\"test_neg\">test_neg:</strong> <a class=\"ProveItLink\" href=\"../__pv_it/demonstrations/cb97f39b4c46bcfb6d7f372ff833d0926283eba20/expr.ipynb\"><img src=\"data:image/png;base64,iVBORw0KGgoAAAANSUhEUgAAAGYAAAAVBAMAAABGR4Y+AAAAMFBMVEX///9UVFQQEBCqqqoiIiJm\n",
       "ZmZERESYmJjc3NwyMjKIiIi6urp2dnbu7u7MzMwAAACMGezpAAAAAXRSTlMAQObYZgAAAUlJREFU\n",
       "OMuV0yFPw0AUB/D/2Bhb21sqUJglhBBwGJLJSoJhZjgCCoGagAR5AoKtwJwaQSKWfoSaGYa4LfsA\n",
       "JzFLloBjYbR3hdC76wLP9C7vfr327j1MkY8GzwZ64iemGObmd/CibDi0LG+pRC5FzgoN6ZwLlKhp\n",
       "6rTQjOB9gISmuYJhyg/qeQJsAs+mOSg2W0CTYmyYWlBsehxNgXqkG6etzO3gkesmiSMOr62balca\n",
       "dwc9mMadA2uhbip70oy7OLaYip/MAmUIkyGAlUiaU45DZTzG7ncZ86XppFUy0/fJzDbIp7lP+rMW\n",
       "o76NzFGemWYfNQo3sJ8BeUMpbOmmEcOhljPw1Flf4NKPdXPzMlgHVmPduOpOR0+vG5Fxp4vFe1KQ\n",
       "4j+1o2Lypxol/PcCS41W6fKes/XCkp77fmea6Gu97Yhs2LeYa5n4AvCxiXKm/6TEAAAAAElFTkSu\n",
       "QmCC\n",
       "\" style=\"display:inline;vertical-align:middle;\" /></a><br>"
      ],
      "text/plain": [
       "test_neg: |-(|a| + 2)|"
      ]
     },
     "execution_count": 87,
     "metadata": {},
     "output_type": "execute_result"
    }
   ],
   "source": [
    "# an extra test expression, slightly more interesting\n",
    "test_neg = Abs(Neg(Add(Abs(a), two)))"
   ]
  },
  {
   "cell_type": "code",
   "execution_count": 88,
   "metadata": {},
   "outputs": [
    {
     "data": {
      "text/html": [
       "<strong id=\"test_neg_simp01\">test_neg_simp01:</strong> <span style=\"font-size:20px;\"><a class=\"ProveItLink\" href=\"../../addition/__pv_it/theorems/fe2ea8ebe0fb22589d78df83973bcde4d0e1a2f00/expr.ipynb\"><img src=\"data:image/png;base64,iVBORw0KGgoAAAANSUhEUgAAAD8AAAAUBAMAAADIGvgZAAAAMFBMVEX///9UVFSqqqrMzMwiIiJE\n",
       "RESYmJgyMjK6urru7u4QEBCIiIh2dnZmZmbc3NwAAABRgo0vAAAAAXRSTlMAQObYZgAAANtJREFU\n",
       "KM9jYKAEMBJSwEorBSlL48uXJuAzoWAig2nqBAbx8qry8gRsCgLeMLDyCWAxIdXFpQCqgPdBAaYC\n",
       "050IE3gfBMAV8N25vRJEc1YiWcHIgbCi6wH7B3CwPUBSoHJ9AkwB5zIG3gBUPwW8cnFXABsOInh/\n",
       "MrBsADGsyoEA6she1glw5VwBDPMNQIynSN7kbQ6A8+YfYNCHqEQOh8hshAIFBnEmkPt4NyApMOQ1\n",
       "gEfIBjZHHjDLCSmoeRSEYTxO6c0Pd4BZEyMmwCKrmCG0XgEzDnpCIEGNAgDkIjr3QDmHMAAAAABJ\n",
       "RU5ErkJggg==\n",
       "\" style=\"display:inline;vertical-align:middle;\" /></a> <a class=\"ProveItLink\" href=\"../__pv_it/demonstrations/4e08dd97d7d9dace8eac859b2af5a636c0edfd790/proof.ipynb\" style=\"text-decoration: none\">&nbsp;&#x22A2;&nbsp;&nbsp;</a><a class=\"ProveItLink\" href=\"../__pv_it/demonstrations/4e6dc6d63f53e31d301bfd884a1ba2283de4af590/expr.ipynb\"><img src=\"data:image/png;base64,iVBORw0KGgoAAAANSUhEUgAAAOAAAAAVBAMAAACtXP94AAAAMFBMVEX///9UVFQQEBCqqqoiIiJm\n",
       "ZmZERESYmJjc3NwyMjKIiIi6urp2dnbu7u7MzMwAAACMGezpAAAAAXRSTlMAQObYZgAAAfRJREFU\n",
       "SMedlq9Pw0AYht/BGGxtyQQKQ0IIAYchIagFRTBgwBFQCNQES5AVEOyWgKgBgkQs/RNmEDBEIRgE\n",
       "SSVmCQk4FsZ619HvfnQ39pmmvXvep9f27ooWpGpJR6R16NVkgMGrhaZwfoa/C01N9xVdg+3LEfqK\n",
       "YQF39lOFzvZBiIxrFEYRSlFYwPNuqvAJ9jecqlEYRShFYQGvQBWu8sMuMAs8GIUVejJ6rcICvp4u\n",
       "nANmXDwbhes6IYUpPlFKF14FmAmR9w1CFqEIKUzxwhYXnd7dBLKwW5sB7C2DkEUwngopTPFcmQmt\n",
       "BVxBFVptYLwaN9x7UV0owiiC86Iwgakwu8SEz2XsaITZYjehZBhhFMF5UZjATTjsZr0QGPGZcC/A\n",
       "RjKQNc+rMWY7WlU+tMJXlnAJHsF52J53vuh5RQmmeCych/OjjpC9nRShGMF5YYQEVh+p08bohypc\n",
       "xoQLqyS8w5rukca8ICSw+tE4n8hUV2ThZAMFN/lo0kbYjYh5KqQwxW0+LQ5xVGzIwpPHuylgrGEQ\n",
       "RhGcp0IKU9ziE//p9n3aVyZ+p/PVXSlDgzCK4Lww8Qk86NLG62W4pY3CxsX7jXb45+LtBCos4Dm3\n",
       "/wY8wPaUc9M2YN321GcDTtKG2IApXJf/D3oX6hrmWNdQCAf7xeDwL/EA9vX4bjELAAAAAElFTkSu\n",
       "QmCC\n",
       "\" style=\"display:inline;vertical-align:middle;\" /></a></span><br>"
      ],
      "text/plain": [
       "test_neg_simp01: {a in RealPos} |- |-(|a| + 2)| = |-(a + 2)|"
      ]
     },
     "execution_count": 88,
     "metadata": {},
     "output_type": "execute_result"
    }
   ],
   "source": [
    "# this one is interesting: reaching down inside an Abs to\n",
    "# simplify another Abs, but not clear how it knows to do that\n",
    "test_neg_simp01 = test_neg.simplification(\n",
    "    assumptions=[InSet(a, RealPos)])"
   ]
  },
  {
   "cell_type": "code",
   "execution_count": 89,
   "metadata": {},
   "outputs": [
    {
     "data": {
      "text/html": [
       "<strong id=\"test_neg_simp02\">test_neg_simp02:</strong> <span style=\"font-size:20px;\"><a class=\"ProveItLink\" href=\"../../addition/__pv_it/theorems/c2741e7bf3ba56bb8af4781eceb979ce777fa1cc0/expr.ipynb\"><img src=\"data:image/png;base64,iVBORw0KGgoAAAANSUhEUgAAAEgAAAAVBAMAAAAX07VdAAAAMFBMVEX///9UVFSqqqrMzMwiIiJE\n",
       "RESYmJgyMjK6urru7u4QEBCIiIh2dnZmZmbc3NwAAABRgo0vAAAAAXRSTlMAQObYZgAAASlJREFU\n",
       "KM9jYCAE9uzBJ9v4AESyHWASwKOI76IBkGRpYPiJzyi+q0BV8w0YFuF1DufRBgb7Bwxu+B3NeXyC\n",
       "/QQGbywyKUvjy5cmgJncZSCTVmPTXzCRwTR1ApAxOwjsph/YFAW8YWDlA/p7TgQW36W6uBRAFfE+\n",
       "KGCYGwG28QJKOJnuRJjE+yCAwRga4mdBoXHn9kqwTyqRrGPkQA3mrgfsH0A04wMkRSrXJ6AExTIG\n",
       "3gAQgxXh8Fcu7goMDKqhQABRy/uTgWUDiGFVDgRQh/eyohjEwBUACgogeIoUBLzNASiK5h9g0Ieo\n",
       "Rg6nyGxURQoM4kwgN/NuQFJkyGuArIh1A5sjD5jlhBQtPArCKL6T3vxwB5g1MWICLIKLGULrFbAn\n",
       "jJ4QSLRgAAALr1Nqmplu+QAAAABJRU5ErkJggg==\n",
       "\" style=\"display:inline;vertical-align:middle;\" /></a> <a class=\"ProveItLink\" href=\"../__pv_it/demonstrations/b559deaece8b4f9ae8a27bc096910c1b5564d68c0/proof.ipynb\" style=\"text-decoration: none\">&nbsp;&#x22A2;&nbsp;&nbsp;</a><a class=\"ProveItLink\" href=\"../__pv_it/demonstrations/4e6dc6d63f53e31d301bfd884a1ba2283de4af590/expr.ipynb\"><img src=\"data:image/png;base64,iVBORw0KGgoAAAANSUhEUgAAAOAAAAAVBAMAAACtXP94AAAAMFBMVEX///9UVFQQEBCqqqoiIiJm\n",
       "ZmZERESYmJjc3NwyMjKIiIi6urp2dnbu7u7MzMwAAACMGezpAAAAAXRSTlMAQObYZgAAAfRJREFU\n",
       "SMedlq9Pw0AYht/BGGxtyQQKQ0IIAYchIagFRTBgwBFQCNQES5AVEOyWgKgBgkQs/RNmEDBEIRgE\n",
       "SSVmCQk4FsZ619HvfnQ39pmmvXvep9f27ooWpGpJR6R16NVkgMGrhaZwfoa/C01N9xVdg+3LEfqK\n",
       "YQF39lOFzvZBiIxrFEYRSlFYwPNuqvAJ9jecqlEYRShFYQGvQBWu8sMuMAs8GIUVejJ6rcICvp4u\n",
       "nANmXDwbhes6IYUpPlFKF14FmAmR9w1CFqEIKUzxwhYXnd7dBLKwW5sB7C2DkEUwngopTPFcmQmt\n",
       "BVxBFVptYLwaN9x7UV0owiiC86Iwgakwu8SEz2XsaITZYjehZBhhFMF5UZjATTjsZr0QGPGZcC/A\n",
       "RjKQNc+rMWY7WlU+tMJXlnAJHsF52J53vuh5RQmmeCych/OjjpC9nRShGMF5YYQEVh+p08bohypc\n",
       "xoQLqyS8w5rukca8ICSw+tE4n8hUV2ThZAMFN/lo0kbYjYh5KqQwxW0+LQ5xVGzIwpPHuylgrGEQ\n",
       "RhGcp0IKU9ziE//p9n3aVyZ+p/PVXSlDgzCK4Lww8Qk86NLG62W4pY3CxsX7jXb45+LtBCos4Dm3\n",
       "/wY8wPaUc9M2YN321GcDTtKG2IApXJf/D3oX6hrmWNdQCAf7xeDwL/EA9vX4bjELAAAAAElFTkSu\n",
       "QmCC\n",
       "\" style=\"display:inline;vertical-align:middle;\" /></a></span><br>"
      ],
      "text/plain": [
       "test_neg_simp02: {a in RealNonNeg} |- |-(|a| + 2)| = |-(a + 2)|"
      ]
     },
     "execution_count": 89,
     "metadata": {},
     "output_type": "execute_result"
    }
   ],
   "source": [
    "test_neg_simp02 = test_neg.simplification(\n",
    "    assumptions=[InSet(a, RealNonNeg),\n",
    "                 InSet(Add(a, two),\n",
    "                 RealNonNeg)])"
   ]
  },
  {
   "cell_type": "code",
   "execution_count": 90,
   "metadata": {},
   "outputs": [
    {
     "data": {
      "text/html": [
       "<span style=\"font-size:20px;\"><a class=\"ProveItLink\" href=\"../../addition/__pv_it/theorems/c2741e7bf3ba56bb8af4781eceb979ce777fa1cc0/expr.ipynb\"><img src=\"data:image/png;base64,iVBORw0KGgoAAAANSUhEUgAAAEgAAAAVBAMAAAAX07VdAAAAMFBMVEX///9UVFSqqqrMzMwiIiJE\n",
       "RESYmJgyMjK6urru7u4QEBCIiIh2dnZmZmbc3NwAAABRgo0vAAAAAXRSTlMAQObYZgAAASlJREFU\n",
       "KM9jYCAE9uzBJ9v4AESyHWASwKOI76IBkGRpYPiJzyi+q0BV8w0YFuF1DufRBgb7Bwxu+B3NeXyC\n",
       "/QQGbywyKUvjy5cmgJncZSCTVmPTXzCRwTR1ApAxOwjsph/YFAW8YWDlA/p7TgQW36W6uBRAFfE+\n",
       "KGCYGwG28QJKOJnuRJjE+yCAwRga4mdBoXHn9kqwTyqRrGPkQA3mrgfsH0A04wMkRSrXJ6AExTIG\n",
       "3gAQgxXh8Fcu7goMDKqhQABRy/uTgWUDiGFVDgRQh/eyohjEwBUACgogeIoUBLzNASiK5h9g0Ieo\n",
       "Rg6nyGxURQoM4kwgN/NuQFJkyGuArIh1A5sjD5jlhBQtPArCKL6T3vxwB5g1MWICLIKLGULrFbAn\n",
       "jJ4QSLRgAAALr1Nqmplu+QAAAABJRU5ErkJggg==\n",
       "\" style=\"display:inline;vertical-align:middle;\" /></a> <a class=\"ProveItLink\" href=\"../__pv_it/demonstrations/b559deaece8b4f9ae8a27bc096910c1b5564d68c0/proof.ipynb\" style=\"text-decoration: none\">&nbsp;&#x22A2;&nbsp;&nbsp;</a><a class=\"ProveItLink\" href=\"../__pv_it/demonstrations/4e6dc6d63f53e31d301bfd884a1ba2283de4af590/expr.ipynb\"><img src=\"data:image/png;base64,iVBORw0KGgoAAAANSUhEUgAAAOAAAAAVBAMAAACtXP94AAAAMFBMVEX///9UVFQQEBCqqqoiIiJm\n",
       "ZmZERESYmJjc3NwyMjKIiIi6urp2dnbu7u7MzMwAAACMGezpAAAAAXRSTlMAQObYZgAAAfRJREFU\n",
       "SMedlq9Pw0AYht/BGGxtyQQKQ0IIAYchIagFRTBgwBFQCNQES5AVEOyWgKgBgkQs/RNmEDBEIRgE\n",
       "SSVmCQk4FsZ619HvfnQ39pmmvXvep9f27ooWpGpJR6R16NVkgMGrhaZwfoa/C01N9xVdg+3LEfqK\n",
       "YQF39lOFzvZBiIxrFEYRSlFYwPNuqvAJ9jecqlEYRShFYQGvQBWu8sMuMAs8GIUVejJ6rcICvp4u\n",
       "nANmXDwbhes6IYUpPlFKF14FmAmR9w1CFqEIKUzxwhYXnd7dBLKwW5sB7C2DkEUwngopTPFcmQmt\n",
       "BVxBFVptYLwaN9x7UV0owiiC86Iwgakwu8SEz2XsaITZYjehZBhhFMF5UZjATTjsZr0QGPGZcC/A\n",
       "RjKQNc+rMWY7WlU+tMJXlnAJHsF52J53vuh5RQmmeCych/OjjpC9nRShGMF5YYQEVh+p08bohypc\n",
       "xoQLqyS8w5rukca8ICSw+tE4n8hUV2ThZAMFN/lo0kbYjYh5KqQwxW0+LQ5xVGzIwpPHuylgrGEQ\n",
       "RhGcp0IKU9ziE//p9n3aVyZ+p/PVXSlDgzCK4Lww8Qk86NLG62W4pY3CxsX7jXb45+LtBCos4Dm3\n",
       "/wY8wPaUc9M2YN321GcDTtKG2IApXJf/D3oX6hrmWNdQCAf7xeDwL/EA9vX4bjELAAAAAElFTkSu\n",
       "QmCC\n",
       "\" style=\"display:inline;vertical-align:middle;\" /></a></span>"
      ],
      "text/plain": [
       "{a in RealNonNeg} |- |-(|a| + 2)| = |-(a + 2)|"
      ]
     },
     "execution_count": 90,
     "metadata": {},
     "output_type": "execute_result"
    }
   ],
   "source": [
    "# then it takes a little work to then eliminate the double negative\n",
    "test_neg_simp02.inner_expr().rhs.simplify(\n",
    "    assumptions=[InSet(a, RealNonNeg)])"
   ]
  },
  {
   "cell_type": "code",
   "execution_count": 91,
   "metadata": {},
   "outputs": [],
   "source": [
    "%end demonstrations"
   ]
  },
  {
   "cell_type": "code",
   "execution_count": null,
   "metadata": {},
   "outputs": [],
   "source": []
  }
 ],
 "metadata": {
  "kernelspec": {
   "display_name": "Python 3",
   "language": "python",
   "name": "python3"
  }
 },
 "nbformat": 4,
 "nbformat_minor": 0
}