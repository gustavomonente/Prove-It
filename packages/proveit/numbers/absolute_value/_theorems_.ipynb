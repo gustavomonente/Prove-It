{
 "cells": [
  {
   "cell_type": "markdown",
   "metadata": {},
   "source": [
    "Theorems (or conjectures) for the theory of <a class=\"ProveItLink\" href=\"_theory_.ipynb\">proveit.numbers.absolute_value</a>\n",
    "========"
   ]
  },
  {
   "cell_type": "code",
   "execution_count": null,
   "metadata": {},
   "outputs": [],
   "source": [
    "import proveit\n",
    "# Prepare this notebook for defining the theorems of a theory:\n",
    "%theorems_notebook # Keep this at the top following 'import proveit'.\n",
    "from proveit import IndexedVar, ExprRange\n",
    "from proveit._common_ import a, b, i, n, x, y\n",
    "from proveit.logic import And, Equals, Forall, Iff, InSet, NotEquals\n",
    "from proveit.numbers import Abs, Add, frac, GreaterEq, LessEq, Mult, Neg\n",
    "from proveit.numbers import (zero, one, Complex, NaturalPos, Real, RealNeg,\n",
    "                            RealNonNeg, RealPos)\n",
    "from proveit.core_expr_types._common_ import x_1_to_n\n"
   ]
  },
  {
   "cell_type": "code",
   "execution_count": null,
   "metadata": {},
   "outputs": [],
   "source": [
    "%begin theorems"
   ]
  },
  {
   "cell_type": "markdown",
   "metadata": {},
   "source": [
    "<p style=\"font-size:12pt;font-weight:bold\">Basic closure theorems</p>"
   ]
  },
  {
   "cell_type": "code",
   "execution_count": null,
   "metadata": {},
   "outputs": [],
   "source": [
    "absComplexClosure = Forall(\n",
    "    a,\n",
    "    InSet(Abs(a), Real),\n",
    "    domain=Complex)"
   ]
  },
  {
   "cell_type": "code",
   "execution_count": null,
   "metadata": {},
   "outputs": [],
   "source": [
    "absComplexClosureNonNegReal = Forall(\n",
    "    a,\n",
    "    InSet(Abs(a), RealNonNeg),\n",
    "    domain=Complex)"
   ]
  },
  {
   "cell_type": "code",
   "execution_count": null,
   "metadata": {},
   "outputs": [],
   "source": [
    "absNonzeroClosure = Forall(\n",
    "    a,\n",
    "    InSet(Abs(a), RealPos),\n",
    "    domain=Complex,\n",
    "    conditions=[NotEquals(a, zero)])"
   ]
  },
  {
   "cell_type": "markdown",
   "metadata": {},
   "source": [
    "<p style=\"font-size:12pt;font-weight:bold\">Non-Negativity, Non-Zero, & Positive Definiteness Theorems</p>"
   ]
  },
  {
   "cell_type": "code",
   "execution_count": null,
   "metadata": {},
   "outputs": [],
   "source": [
    "absIsNonNeg = Forall(\n",
    "    a,\n",
    "    GreaterEq(Abs(a), zero),\n",
    "    domain=Complex)"
   ]
  },
  {
   "cell_type": "code",
   "execution_count": null,
   "metadata": {},
   "outputs": [],
   "source": [
    "absNotEqZero = Forall(\n",
    "    a,\n",
    "    NotEquals(Abs(a), zero),\n",
    "    domain=Complex,\n",
    "    conditions=[NotEquals(a, zero)])"
   ]
  },
  {
   "cell_type": "code",
   "execution_count": null,
   "metadata": {},
   "outputs": [],
   "source": [
    "absPosDef = Forall(\n",
    "    a,\n",
    "    Iff(Equals(Abs(a), zero), Equals(a, zero)),\n",
    "    domain=Complex)"
   ]
  },
  {
   "cell_type": "markdown",
   "metadata": {},
   "source": [
    "<p style=\"font-size:12pt;font-weight:bold\">Evenness</p>"
   ]
  },
  {
   "cell_type": "code",
   "execution_count": null,
   "metadata": {},
   "outputs": [],
   "source": [
    "absEven = Forall(\n",
    "    x,\n",
    "    Equals(Abs(Neg(x)), Abs(x)),\n",
    "    domain = Complex)"
   ]
  },
  {
   "cell_type": "code",
   "execution_count": null,
   "metadata": {},
   "outputs": [],
   "source": [
    "absElim = Forall(\n",
    "    x,\n",
    "    Equals(Abs(x), x),\n",
    "    domain = RealNonNeg)"
   ]
  },
  {
   "cell_type": "code",
   "execution_count": null,
   "metadata": {},
   "outputs": [],
   "source": [
    "absNonNegElim = Forall(\n",
    "    x,\n",
    "    Equals(Abs(x), x),\n",
    "    domain = RealNonNeg)"
   ]
  },
  {
   "cell_type": "code",
   "execution_count": null,
   "metadata": {},
   "outputs": [],
   "source": [
    "absNegElim = Forall(\n",
    "    x,\n",
    "    Equals(Abs(x), Neg(x)),\n",
    "    domain = RealNeg)"
   ]
  },
  {
   "cell_type": "code",
   "execution_count": null,
   "metadata": {},
   "outputs": [],
   "source": [
    "absIneq = Forall(\n",
    "    (x, y),\n",
    "    Iff(LessEq(Abs(x), y),\n",
    "        And(LessEq(Neg(y), x), LessEq(x, y))),\n",
    "    domain = Real,\n",
    "    conditions = [GreaterEq(y, zero)])"
   ]
  },
  {
   "cell_type": "markdown",
   "metadata": {},
   "source": [
    "<p style=\"font-size:12pt;font-weight:bold\">Triangle Inequality</p>"
   ]
  },
  {
   "cell_type": "code",
   "execution_count": null,
   "metadata": {},
   "outputs": [],
   "source": [
    "triangleInequality = Forall(\n",
    "    (a, b),\n",
    "    LessEq(Abs(Add(a,b)), Add(Abs(a), Abs(b))),\n",
    "    domain=Complex)"
   ]
  },
  {
   "cell_type": "markdown",
   "metadata": {},
   "source": [
    "<p style=\"font-size:12pt;font-weight:bold\">Multiplicativity (and Preservation of Division)</p>"
   ]
  },
  {
   "cell_type": "code",
   "execution_count": null,
   "metadata": {},
   "outputs": [],
   "source": [
    "absProd = Forall(\n",
    "    n,\n",
    "    Forall(x_1_to_n,\n",
    "           Equals(Abs(Mult(x_1_to_n)), \n",
    "                  Mult(ExprRange(i, Abs(IndexedVar(x, i)), one, n))),\n",
    "           domain = Complex),\n",
    "    domain = NaturalPos)"
   ]
  },
  {
   "cell_type": "code",
   "execution_count": null,
   "metadata": {},
   "outputs": [],
   "source": [
    "absFrac = Forall(\n",
    "    (a, b),\n",
    "    Equals(Abs(frac(a, b)), frac(Abs(a), Abs(b))),\n",
    "    domain = Complex,\n",
    "    conditions=[NotEquals(b, zero)])"
   ]
  },
  {
   "cell_type": "code",
   "execution_count": null,
   "metadata": {},
   "outputs": [],
   "source": [
    "%end theorems"
   ]
  },
  {
   "cell_type": "code",
   "execution_count": null,
   "metadata": {},
   "outputs": [],
   "source": []
  }
 ],
 "metadata": {
  "kernelspec": {
   "display_name": "Python 3",
   "language": "python",
   "name": "python3"
  }
 },
 "nbformat": 4,
 "nbformat_minor": 0
}
