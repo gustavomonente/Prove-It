{
 "cells": [
  {
   "cell_type": "markdown",
   "metadata": {},
   "source": [
    "Theorems (or conjectures) for the theory of <a class=\"ProveItLink\" href=\"theory.ipynb\">proveit.numbers.divisibility</a>\n",
    "========"
   ]
  },
  {
   "cell_type": "code",
   "execution_count": 1,
   "metadata": {},
   "outputs": [],
   "source": [
    "import proveit\n",
    "# Prepare this notebook for defining the theorems of a theory:\n",
    "%theorems_notebook # Keep this at the top following 'import proveit'.\n",
    "from proveit import a, b, c, k, m, n, p, x, y, z\n",
    "from proveit.logic import And, Boolean, Equals, InSet, Forall, NotEquals, Not, Or\n",
    "from proveit.numbers import zero, one, two, Complex, Integer, NaturalPos\n",
    "from proveit.numbers import Add, Divides, Exp, GCD, Greater, Mult, Neg, subtract"
   ]
  },
  {
   "cell_type": "code",
   "execution_count": 2,
   "metadata": {},
   "outputs": [
    {
     "name": "stdout",
     "output_type": "stream",
     "text": [
      "Defining theorems for theory 'proveit.numbers.divisibility'\n",
      "Subsequent end-of-cell assignments will define theorems\n",
      "'%end theorems' will finalize the definitions\n"
     ]
    }
   ],
   "source": [
    "%begin theorems"
   ]
  },
  {
   "cell_type": "code",
   "execution_count": 3,
   "metadata": {},
   "outputs": [],
   "source": [
    "def non_zero_conditions(non_zero_vars):\n",
    "    temp_list = [NotEquals(_i, zero) for _i in non_zero_vars]\n",
    "    return temp_list"
   ]
  },
  {
   "cell_type": "markdown",
   "metadata": {},
   "source": [
    "#### Fundamental InBool theorem: a Divides(m,n) claim is Boolean."
   ]
  },
  {
   "cell_type": "code",
   "execution_count": 4,
   "metadata": {},
   "outputs": [
    {
     "data": {
      "text/html": [
       "<strong id=\"divides_is_bool\"><a class=\"ProveItLink\" href=\"proofs/divides_is_bool/thm_proof.ipynb\">divides_is_bool</a> (conjecture with conjecture-based proof):<br></strong> <a class=\"ProveItLink\" href=\"../__pv_it/theorems/4f2e236a8ac9575b0b07da32df72d287beda21950/theorem_expr.ipynb\"><img src=\"data:image/png;base64,iVBORw0KGgoAAAANSUhEUgAAAJAAAAAWBAMAAADdgQhOAAAAMFBMVEX///8QEBCIiIhmZma6urrM\n",
       "zMxUVFQiIiJERETc3Nzu7u6qqqp2dnaYmJgyMjIAAAAcRTyBAAAAAXRSTlMAQObYZgAAAlRJREFU\n",
       "OMudlEFoE0EUhn/jJrvZ7NocFDzJktLYg1AR2lNbFcGAoGk9eBDBIgp6kSJWD5YaPGgiSFcQWhRx\n",
       "6CGUHiTgwYOX0OYgVWEPHqusoAcFpYqCenJm3qTNbmZBOvAy2X9evsx7+94D/mudxtZXNiCTq0Vb\n",
       "ztf7Cj0UX95pDheVdYJwKea0d/fsh2uHpP5KPH/RgD4ri4Cexr3Ck/bdEanPiygq3Rx3P1kU5Hgx\n",
       "t8px9FlS38H41ugGmT5ZFGTn1d/cuT7TBr2wpO6uLi3NaSKbUxYF4aP8TN9imzdqLZL+u1qd1oB6\n",
       "lS0UH+zzOMju9XCfYYVSxTZDM6Yu8J3rfKtpQPfI7KZ7xQw5yDHyGADex15e5fDN7/ytCf0I7FAD\n",
       "ukHmMOev4XPQo+0hqsBz+nlnst+sQeomUoEGtJPMhlWROWLbPPwAzsoU7fnGVxtkGYHUncBEMgjo\n",
       "8SjZZZb+pUDZyI0sTEg9G57iwvJgcQwwijBZJDTuMkagUaT4uy/Jw3wnKCO6Q+i180CKXTZ5zpwe\n",
       "Nh5Ndo4N8EMBug1rop3sA5EbuU3Sn03yqPFVyA9L6FceK2TlxiweyxsNocxzMUzVulHB4Rm8HgLp\n",
       "Mgn4I/VhnFMeJbJ6YWEkkKB64SAv9E9U4BePRZtW6q7ISno9LQ6uYldyi4xywiQ9Gy9Vi7RbR+l4\n",
       "4oQO5hmmjPWEps2E9k9N08abuf52eRXjDRzt3yjOGjpKvgUzsDzNGNGPl4btW0HCYDMKg9A3E7r0\n",
       "nJ9pntCP2j4Vb8KojekujLXmVkf8P+SuqLuf5iAMAAAAAElFTkSuQmCC\n",
       "\" style=\"display:inline;vertical-align:middle;\" /></a><br>"
      ],
      "text/plain": [
       "divides_is_bool: forall_{x, y} ((x | y) in BOOLEAN)"
      ]
     },
     "execution_count": 4,
     "metadata": {},
     "output_type": "execute_result"
    }
   ],
   "source": [
    "# Proven\n",
    "divides_is_bool = Forall(\n",
    "        (x, y),\n",
    "        InSet(Divides(x, y), Boolean))"
   ]
  },
  {
   "cell_type": "markdown",
   "metadata": {},
   "source": [
    "#### Divides is Transitive"
   ]
  },
  {
   "cell_type": "code",
   "execution_count": 5,
   "metadata": {},
   "outputs": [
    {
     "data": {
      "text/html": [
       "<strong id=\"divides_transitivity\"><a class=\"ProveItLink\" href=\"proofs/divides_transitivity/thm_proof.ipynb\">divides_transitivity</a> (conjecture without proof):<br></strong> <a class=\"ProveItLink\" href=\"../__pv_it/theorems/257e56efc47387c3f88147a976c5ab9bdaa243de0/theorem_expr.ipynb\"><img src=\"data:image/png;base64,iVBORw0KGgoAAAANSUhEUgAAAKsAAAAXBAMAAACGzqIkAAAAMFBMVEX///8QEBCIiIhmZma6urrM\n",
       "zMxUVFQiIiJERETc3Nzu7u6qqqp2dnaYmJgyMjIAAAAcRTyBAAAAAXRSTlMAQObYZgAAAnxJREFU\n",
       "OMutlU1oE0EUx/9N9iO72U08KAiCFAOlBA+5CIIeQgWL4MfGg4oXS7AHoUoO9VCRsse0UNlLbRHE\n",
       "FYrS6iEgCAqFJcdUdFFBhRT24KkgBEHw4+Kb2WR3k6z1sB0I//fezvx28t6bWWDvhmhjL8fDrmpl\n",
       "X1/Rz2PGdhKqag5gJQvYYsZOEmzOGsCqtNVVUsVMgv2AASya9C7Ks9ZIgp0bwj4G9NbGxkoSqlIb\n",
       "wubI+Fmv302CTZUom0duTDQ5dnK/6EKj0DSw8I8VQmiW+x5EvYwLPMen0XmGVZcKxykDVLNTvHKx\n",
       "IxOa/UWNejIVpoV39hmO5eXPUl5kpNwk2BHauo16L7dXqAXEDjmujKRY4HsXK0zBxyreJdZqx8YM\n",
       "Co5BZgd7ZWc5xGqFi9MEmpjCHfK4mFDm140wCRB/dLEveU1Ycyxcp3Lat2QKanm7wuIn2qMhtih5\n",
       "swRyfov7yONiIr3ZjJTsdaqDIsNmS5D8kuEFsUV8Y1MeTGKcz30WSYKRo4WmslZL0X/3hQy1d4So\n",
       "m4Q/mY7iMuzl9vuvQNqheJ7v7BefcxJVfqrL0dzmLZbNtCOxiVwIuxZ0YQ1qtVjY5kko6YdpaY7l\n",
       "R7d5lkU2ZxYHmCzjagR7DQaB5PIIm82FcmsEt+vw4X3aizzSPA2rNm4LHRJlZtMMsErnLRyGNS5A\n",
       "WeRC3v2tz7teNf548rHZQqWB0+MeiS4etAOsevPsUZtAQvUexENcyHMri0Ebxl2M0dFQLVbXRmzf\n",
       "rmOJzo8v5q7XePAef2QtyTnPJBY7I3jse8LFjP3opLqd/KV/szqEtsMkFnvuDYnrS6JrH+nQLPU9\n",
       "KP1v5V/MEagpL7uwwAAAAABJRU5ErkJggg==\n",
       "\" style=\"display:inline;vertical-align:middle;\" /></a><br>"
      ],
      "text/plain": [
       "divides_transitivity: forall_{x, y, z | x | y, y | z} (x | z)"
      ]
     },
     "execution_count": 5,
     "metadata": {},
     "output_type": "execute_result"
    }
   ],
   "source": [
    "divides_transitivity = Forall(\n",
    "        (x, y, z),\n",
    "        Divides(x, z),\n",
    "        conditions=[Divides(x, y), Divides(y, z)])"
   ]
  },
  {
   "cell_type": "markdown",
   "metadata": {},
   "source": [
    "#### Divides is Reflexive"
   ]
  },
  {
   "cell_type": "code",
   "execution_count": 6,
   "metadata": {},
   "outputs": [
    {
     "data": {
      "text/html": [
       "<strong id=\"divides_reflexivity\"><a class=\"ProveItLink\" href=\"proofs/divides_reflexivity/thm_proof.ipynb\">divides_reflexivity</a> (conjecture without proof):<br></strong> <a class=\"ProveItLink\" href=\"../__pv_it/theorems/2fa6f1569c809d826a6345df15326722ca102c630/theorem_expr.ipynb\"><img src=\"data:image/png;base64,iVBORw0KGgoAAAANSUhEUgAAAJQAAAAXCAMAAADaxpaQAAAAOVBMVEX///8QEBAoKCgUFBQNDQ2I\n",
       "iIhmZma6urrMzMxUVFQiIiJERETc3Nzu7u6qqqp2dnaYmJgyMjIAAAAMeWbTAAAAAXRSTlMAQObY\n",
       "ZgAAAixJREFUSMfFlomSpCAMQNO7G+5w/f/HLgGhFRnbmSprUtW2BoKPXAjwq6IIfl1cnBRBTgrv\n",
       "+JrGc4xPM5GFT1CgmSr4/pged2Vyn6GIveQ6vbNPM0UBn6Eg4M5Bb5c9JcbdgaIX8wdicebxLF+8\n",
       "YQEFiXXZspjwNBRu0SNE7STWMDWovaboeJ5WfGvd/eXlZYlVgICnTdpW3VQGokEwqUMdNOWW/6To\n",
       "Sf+FeBu00bhb/oJJqJoSxUrPKdWSNhTqkAmk61AHTTGsYeYLnpoU+SBE0ZKyxUilcAvKVRRT02Jq\n",
       "MS85PGntPqcOmvKqXEdiAzvWr/WOeHp0Fcffg+INAGV218svoVgyzomecYJyCZTuTUIo5CSTvadI\n",
       "5VXzwRpqWLTZoS3Lk01chq+OqwnqrSlrNAdZp9sgEuhUnT9SLFI8lcAOaljoWsP/yi+WV7C/DC4T\n",
       "3RNgbpYb1EGzJXrRii16BTdVUxrN15O/ghoWDdHD21OvCaqWOsjsweZ+NjPUUVNKJZwiWtcDZerG\n",
       "LYLzSl1ADYv9gdtyKk+do4WFNCKh2E5/hjpqyiZVj9E+y1j5rmdB+O4/C6jNQqeU/v4pF3bcsvru\n",
       "HjNTzbkMoQSU3ReGe5yo92HZp3YWvR305n3qU985kPeQOsrSiusO7agVCilZrZbh21u0drBRhSAW\n",
       "/eLup8vXR1XLqWUzWjf+j6fnnY+87xx3N6DSDz6HcS6i+FOmNVR8/HvsWsTD6/8H8OUYyt1sIAoA\n",
       "AAAASUVORK5CYII=\n",
       "\" style=\"display:inline;vertical-align:middle;\" /></a><br>"
      ],
      "text/plain": [
       "divides_reflexivity: forall_{x in Complex | x != 0} (x | x)"
      ]
     },
     "execution_count": 6,
     "metadata": {},
     "output_type": "execute_result"
    }
   ],
   "source": [
    "divides_reflexivity = Forall(\n",
    "        x,\n",
    "        Divides(x, x),\n",
    "        domain=Complex,\n",
    "        conditions=non_zero_conditions([x]))"
   ]
  },
  {
   "cell_type": "markdown",
   "metadata": {},
   "source": [
    "#### Divides is Disjunctive Anti-Symmetric"
   ]
  },
  {
   "cell_type": "code",
   "execution_count": 7,
   "metadata": {},
   "outputs": [
    {
     "data": {
      "text/html": [
       "<strong id=\"divides_anti_symmetry\"><a class=\"ProveItLink\" href=\"proofs/divides_anti_symmetry/thm_proof.ipynb\">divides_anti_symmetry</a> (conjecture without proof):<br></strong> <a class=\"ProveItLink\" href=\"../__pv_it/theorems/7684196e5c53878bb00bce8cee24aa9d9f2b01350/theorem_expr.ipynb\"><img src=\"data:image/png;base64,iVBORw0KGgoAAAANSUhEUgAAAT8AAAAWBAMAAABEXIbSAAAAMFBMVEX///8QEBCIiIhmZma6urrM\n",
       "zMxUVFQiIiJERETc3Nzu7u6qqqp2dnaYmJgyMjIAAAAcRTyBAAAAAXRSTlMAQObYZgAAA0NJREFU\n",
       "SMfNVk9IFFEY/9yd3Xmus+qh7oMLIhLoxS6VSULSJfXSLRIpokssUYcwwpPsHqQNAsWoRg8qErHg\n",
       "yU7LerNDCwUhFAx0MiiWKMi69L73Z+fNvDdaI0Qf/PbN/N73vf3N9773B+Ao9kQgxraiRHvD7Bjl\n",
       "txT4SHxIpi83yxFn2UqEWI9xXDcESrxC4lMygZ0VjtgPYF+fYc8T+LMX47hnCJRYxAzPJhP4RiDW\n",
       "6iwdqC3v4s+g2U3n6wE6PQCnmkzgXYFYW2YZnKI/toc/MdnW+eUA+Z2NjYVk+tqLHAfUwIicwFF8\n",
       "iPufBWOgxI9S6V4ygalBjlzPjXP1SBEVXHjogcPmbpOijA8FipXeRyfcyEAFY6DENREdspHWkxXi\n",
       "Q2+kwfEc3rn36bvzhRmKcqxuGKDTw1aJTaeZVfk8FVDL37L9sDPy0pRAiVGx2EIWrBoS4kNvdpVj\n",
       "B157F8Lxj9M+lAA6WAGkXMiyL56hAjznpxUtuRljoIQNqUYygW0jHB4OGTavzYWvNHFNNm1FeMHY\n",
       "Y/QZiL5lIM8TOqEESjgNG44mEHDIiI17me9SIJziuy0KAehyTQINgRLt/iXccIZ66XZl9fL9QAhE\n",
       "kkiSNUR6qlMMOGRQVrirwDCkumkMX+NPoRhM5ZUJzVmZYiVQAspXaZl4N22aC6fLmwwyyEgiSdYQ\n",
       "6akukpepJvRHkjIHZEouEiCXedboYujwBugQEed5Y6AEbBbxOPqMvUtj0BcIZCSRJGuI9GRJ4PuA\n",
       "9Ys0tVvASRinVLrGXjLXuaRtOoPVB/r1YtsYKCGKYp91n4ZptQb3WdUJEhvS8oTWHOSm+wvabWO1\n",
       "5ywe1KIYPvJmDPmVM9qaHDMGSkAePy/TZGf6bTiuCESStEhsSMvz0KNumGJNPC/FHWkmXgauKQPA\n",
       "M8d3YNGDO1YzEMhIKglJ0Uc4eehlIevnvsnLwkGXAo1XAuvqAKtv6zswWYXzfX4gkJFUIJKij3BS\n",
       "bjoVDkNOGsQF/QQox2S7bAiUUK2aq5CGtg9ykveRP7ywWj1DYBB/+IU1CDR8fUclW7uob9SMFH3k\n",
       "r678u0mv/LsK1FIA631NF8hI0UfgP7GgatMhPv3PlfwGWJ0npYbBR+8AAAAASUVORK5CYII=\n",
       "\" style=\"display:inline;vertical-align:middle;\" /></a><br>"
      ],
      "text/plain": [
       "divides_anti_symmetry: forall_{x, y | x | y, y | x} ((x = y) or (x = (-y)))"
      ]
     },
     "execution_count": 7,
     "metadata": {},
     "output_type": "execute_result"
    }
   ],
   "source": [
    "divides_anti_symmetry = Forall(\n",
    "        (x, y),\n",
    "        Or(Equals(x, y), Equals(x, Neg(y))),\n",
    "        conditions=[Divides(x, y), Divides(y, x)])"
   ]
  },
  {
   "cell_type": "markdown",
   "metadata": {},
   "source": [
    "#### If $a|b$ and $a|c$, then $a|(b±c)$"
   ]
  },
  {
   "cell_type": "code",
   "execution_count": 8,
   "metadata": {},
   "outputs": [
    {
     "data": {
      "text/html": [
       "<strong id=\"divides_sum\"><a class=\"ProveItLink\" href=\"proofs/divides_sum/thm_proof.ipynb\">divides_sum</a> (conjecture without proof):<br></strong> <a class=\"ProveItLink\" href=\"../__pv_it/theorems/9985969cc0e83c0ca829b18fba31dc792dc46de80/theorem_expr.ipynb\"><img src=\"data:image/png;base64,iVBORw0KGgoAAAANSUhEUgAAAOQAAAAXBAMAAADpf/4JAAAAMFBMVEX///8QEBCIiIhmZma6urrM\n",
       "zMxUVFQiIiJERETc3Nzu7u6qqqp2dnaYmJgyMjIAAAAcRTyBAAAAAXRSTlMAQObYZgAAAxNJREFU\n",
       "SMe9lk1oE0EYht8mu0l2s0mKKIhCiQZKKR6CIAgWiRUsgj9bDypeGoI9FGrpoR4qWoIHaQuVXGqL\n",
       "IK5SlFbRgKAoFEK8taLBCiq0soeKUDAEQbAVwW92uz9jtr1scWCYefNN9tmdeeebAbauiBr+V7mz\n",
       "3ioZTtaVl1SjBUBnYskPUc5zSFvWlRDh0APMM7HiBxkvcEhb1r8b+7wnwCQ1Ut4PcgEccsEdiybd\n",
       "qswGJRGnNVeKfpCDPHJwY+Q99qmNiM3NzEz4IUr9HNKR9cg4G7AM/BoevuoHGUjTq+/taS+bSCbv\n",
       "74e0i0d2bBcrUCiG10A3MLLB0wSnm+ECbhWpAI/xMTlkIpksHUGgxiHlsdRBIMb88wU4ajrJq0Sc\n",
       "Lm8wtwqTEebwTjtuIklKxcOI5HmkYdEom/QXNAaBih9kA4E0DFtrSVLGNiSIpVSr35qq1awx7DzZ\n",
       "VGSf3kWBShh+kcAPFxLCGrpUfi0FBraQkn6WbZkDzTRIaEaYJcqJlXEHqaTOdBOkPYsrjpKGplVn\n",
       "YiH+tJBMBnXs+cexzw0um9gOqiMXyWdaX5j+oCS0ThY7tJh0kK0hfYAgpTWx0VHB2bLLPq/ILa2O\n",
       "fSJZ3OCR0TRCjn3wjNgivrPI7Q60GEMeuSZWjdNT8tJUfyBvKzKElT7I+cLvSE2qmEi2EYJZ4Q+P\n",
       "PLf4nvZjsETdNqoJ4+dVI9SGnGGwjHstEwUGCZZCSUdhyt5J/ZBzraml9YllkyfnUqs8Mh1romCc\n",
       "rcVXqjHNWFmRhQawgzXjuOBCdkElSDjToDpKUu3T0SvhBXWv7POQfY2Vne4quoJJDZeFGjVS72ze\n",
       "Rkq1tygxpHoa0qilbs1/2jit9+HperKQNY+0bpYHH8pz6CziWItOTUzcqdlI+dKJfRpBhNxNiLst\n",
       "VekctbcSf3iRvIbrmx1e7lKUC8xwRc99OY0xmiiPXVp/RLenVM9tzt6NT67RQqh0yrwreCB7Bd28\n",
       "S9QlBuvmEVA3v4h8ZsbhD/AYhMUSazyRJ99QU/FCbmUJOt00F0j7eepfXgfStPPcnqEAAAAASUVO\n",
       "RK5CYII=\n",
       "\" style=\"display:inline;vertical-align:middle;\" /></a><br>"
      ],
      "text/plain": [
       "divides_sum: forall_{x, y, z | x | y, x | z} (x | (y + z))"
      ]
     },
     "execution_count": 8,
     "metadata": {},
     "output_type": "execute_result"
    }
   ],
   "source": [
    "divides_sum = Forall(\n",
    "        (x, y, z),\n",
    "        Divides(x, Add(y, z)),\n",
    "        conditions=[Divides(x, y), Divides(x, z)])"
   ]
  },
  {
   "cell_type": "code",
   "execution_count": 9,
   "metadata": {},
   "outputs": [
    {
     "data": {
      "text/html": [
       "<strong id=\"divides_difference\"><a class=\"ProveItLink\" href=\"proofs/divides_difference/thm_proof.ipynb\">divides_difference</a> (conjecture without proof):<br></strong> <a class=\"ProveItLink\" href=\"../__pv_it/theorems/9cb5b342bd8c208d913dbdf668bf7d9bf768a9eb0/theorem_expr.ipynb\"><img src=\"data:image/png;base64,iVBORw0KGgoAAAANSUhEUgAAAOQAAAAXBAMAAADpf/4JAAAAMFBMVEX///8QEBCIiIhmZma6urrM\n",
       "zMxUVFQiIiJERETc3Nzu7u6qqqp2dnaYmJgyMjIAAAAcRTyBAAAAAXRSTlMAQObYZgAAAwZJREFU\n",
       "SMe9lk9IFFEcx7/uzuzu7F+JgiiIrQUR6SBBECSxGSRBf8YOFV1cljwIJh7sYJQsHUIFYy+mBNEU\n",
       "UmhRC0FRIAzbTaOWDCrQ2INdhGIJgjSCfr8Zd2aeO+tlpB8Mb76838xn3vt933sDbF3IGv5X3F1v\n",
       "o2lB1sQruiJ5oMxiyQsxnBOQlqyJAOHQA8yzWPGCjOcFpCVrv42H9xSYpEbJeUEuQEAu1M8sclIS\n",
       "cap5tOAFOSgiB+tn3uehNiI2NzMz4YWo9AtIW7qUgBOWgd/Dw9e8IH2t9On7etqLJpLlgwNQdolZ\n",
       "HdvlEqLUhzdANzBS522SfZsWOpwqVAKe4FNyyESy1I/CVxGdM5Y6BMTYP1+BY6aT3CJk34oGc6og\n",
       "GWEO77UTJpKkUjiCkPhA2LBohCf9JeXAV/KCbCCQhuFqLUmGsQ2JJHF+GKEaaRfIpjIPvYsSS0F4\n",
       "RQI/HUhIa+hSN9QoAxuplM/xkjnYRElSE4K8UU6sjNvIaOpsN0HaM7hqK2VoWrUnFvKvKpKlv4y9\n",
       "G77+hcHlie2ga+QS+UzrC9ID0YTWyX2HF5M2siVQHiCIviY32so/W3TY5zW5pcW2TyiDmyIx0oqA\n",
       "bR88J7aM79xzpwPNRspjx8SqcXpLTpnq9+UsRYWqbh/kfOlPqKKUTCQvBH9G+isizy9+oPXo1+m2\n",
       "ja6EMaJVo6sNWcNgaWctE3mG+PVA0laYsqrUj3C2JbW0PrE8eeFsalVEtsb2UGeca/GNrphmVFbm\n",
       "rgHs4GYcFx3ILqgECaYbVFspqnU6um14ftd194hHU92d7kXLUUxquCJVqFF6Z3MWUqm8g85I9QyU\n",
       "0aq6Pf+5/rbeh2fpTbZ1Mx5+LM6hs4DjzWVqYvJOzUKGL5/crxFEyt6CvLuqSp2j1lISDy+S13Fj\n",
       "s8PLGYVwng1XcF2X0xgj57ms0tojuj2lui5z/jZxc43kA/pp81/BBdkrlc1/iZqNofrn4VM3/xH5\n",
       "wsYRD/AYpEWdG1fkqbfUlNyQWxl+h8tFz3t56z8Dc9DLm98iowAAAABJRU5ErkJggg==\n",
       "\" style=\"display:inline;vertical-align:middle;\" /></a><br>"
      ],
      "text/plain": [
       "divides_difference: forall_{x, y, z | x | y, x | z} (x | (y - z))"
      ]
     },
     "execution_count": 9,
     "metadata": {},
     "output_type": "execute_result"
    }
   ],
   "source": [
    "divides_difference = Forall(\n",
    "        (x, y, z),\n",
    "        Divides(x, subtract(y, z)),\n",
    "        conditions=[Divides(x, y), Divides(x, z)])"
   ]
  },
  {
   "cell_type": "code",
   "execution_count": 10,
   "metadata": {},
   "outputs": [
    {
     "data": {
      "text/html": [
       "<strong id=\"euclids_lemma\"><a class=\"ProveItLink\" href=\"proofs/euclids_lemma/thm_proof.ipynb\">euclids_lemma</a> (conjecture without proof):<br></strong> <a class=\"ProveItLink\" href=\"../__pv_it/theorems/af3be16d11e3f6552e83ac3f8b5b7b1f67c44e3b0/theorem_expr.ipynb\"><img src=\"data:image/png;base64,iVBORw0KGgoAAAANSUhEUgAAARYAAAAXBAMAAAA8SH1tAAAAMFBMVEX///8QEBCIiIhmZma6urrM\n",
       "zMxUVFQiIiJERETc3Nzu7u6qqqp2dnaYmJgyMjIAAAAcRTyBAAAAAXRSTlMAQObYZgAAA+BJREFU\n",
       "SMfFll1oFFcUx//ZndnZnZlNfCkU8rKkuITgx2KUSjUYLMRATd31oYiQZhtUFFJJJSkqKou+rNrq\n",
       "gNWIYB2M+FXQxY+KD5Yl0ZeoYbR9qJKWfWgfqih5KiZPnnNnZndmPwyKrAd275mZ3733P/ece+4A\n",
       "H9o2fnAFOO06d+1GM4ACO3/VXYqaKdOCbcB9bp/VXUujUa7lCnCSmkim7lp+R7kWPYZGk5pc3bXs\n",
       "qtCizkN04vLlkbpLiQxWaME/wKtsds/bDmV4L5LvAAQS9Hc2/tOCGGuRvuvsBcaBzcDBuWfv9Hq6\n",
       "79GNMnRVsiYgu4kZtigo+egOpcBaLj5upwd/A59DLdSU8M0Py9uFU8rujNh+Hgsa/j5XawJyuxsa\n",
       "hTJUN/VZyWAtpthBt+g2AlZVHb+Md1CKTbRVaJHz/lKR9vf7rTYguVoaaHVVhDNOvsiH6K+P5FlK\n",
       "VSnRw6dM5OQnVoWWUFkC/Oe/HK8N+LQATTFHSxdsLZHCV+SMLYvTAFIcCu3xyL5LSYqdWF8dJS36\n",
       "J+s3k6cUQYw8Ow4sFNLH4jRKC0ZbnjMgUGB1GrsdwKdFEVWkL2lr0cTCraHfwU2U1+Z2hZOyyUyx\n",
       "gDtjzuGAJzc9WtpChSHyRoogVkzRq/3KXhwHoHSm1GF5lgGBAvlZeR4DW7NkVkkL565mLqZ5Wct1\n",
       "IC1yF9cJkPGCkVNr0CoinIOaEE4s79GSbLTY63bAUU4q+nVzwZjBYSyHHEzQ5N0Oisi5wUDGBvzr\n",
       "otPo63JH+YS8C3nvw0W0ECvdqGFGMCvRz805Urczm90PXTcjZilfmgz2uhwwZUDluH/NIRrELJop\n",
       "EXKBtACaxOYJ5kMxG/BrYed8y9kOi7UE8YjqHP7lYXgyeVpmZggf8eskZRMihl/0QjdKWvqobmWw\n",
       "oQjiOH9+8NR6mtaD3ueqEX5qbnBQyovOhiQD21+SeWJU7Qxwn53RCzpOmhiWpiOHcOL+n8A9vp9I\n",
       "iJSytUSmJ5En7wL5BPKdgTv0YIp6aulQmqp4sMHo6yVAoDSSklwHBhzTBt94Ntp2/o+xCaRy6Got\n",
       "yM2wUrTfw5Tq0S0Dk98Xtajfrl1g8j6ihSSQl1T+mPyl3HPJpIVjC9uk/msdBAiURpL6j4AB5xT6\n",
       "9H93wnC1bwav5VSDElxzrlopX7zVtugFKLMZdI1Uke6GUlEJOOe+hkv4Ee6WnONbyn8QaUYo/yVw\n",
       "u1rl850BVO4YdLuRfOMEldsK+jYGpIIA3vCNOd8prf6TJAppirawNaeWHht0bJR7/vz4Mw/dYzcW\n",
       "eh7YwHu1hNfTfO/QVknPCVS11/x6GgzQI7UEAAAAAElFTkSuQmCC\n",
       "\" style=\"display:inline;vertical-align:middle;\" /></a><br>"
      ],
      "text/plain": [
       "euclids_lemma: forall_{x, y, z in Integer | x | (y * z), gcd(x, y) = 1} (x | z)"
      ]
     },
     "execution_count": 10,
     "metadata": {},
     "output_type": "execute_result"
    }
   ],
   "source": [
    "# We need to constrain to the set of integer numbers in the case of Euclid's Lemma\n",
    "euclids_lemma = Forall(\n",
    "        (x, y, z),\n",
    "        Divides(x, z),\n",
    "        domain=Integer,\n",
    "        conditions=[Divides(x, Mult(y, z)), Equals(GCD(x, y), one)])"
   ]
  },
  {
   "cell_type": "code",
   "execution_count": 11,
   "metadata": {},
   "outputs": [
    {
     "data": {
      "text/html": [
       "<strong id=\"non_zero_divides_zero\"><a class=\"ProveItLink\" href=\"proofs/non_zero_divides_zero/thm_proof.ipynb\">non_zero_divides_zero</a> (conjecture with conjecture-based proof):<br></strong> <a class=\"ProveItLink\" href=\"../__pv_it/theorems/40734556a70c045234dd9063082ee38fbb0988010/theorem_expr.ipynb\"><img src=\"data:image/png;base64,iVBORw0KGgoAAAANSUhEUgAAAJEAAAAXCAMAAAA8713UAAAAOVBMVEX///8QEBAoKCgUFBQNDQ2I\n",
       "iIhmZma6urrMzMxUVFQiIiJERETc3Nzu7u6qqqp2dnaYmJgyMjIAAAAMeWbTAAAAAXRSTlMAQObY\n",
       "ZgAAAk9JREFUSMfFlouO7CAIhp09i3e8vf/DHoHW3uzsZJNmSWbSWrGf8INV6i/Novpbi+U0kM3h\n",
       "NkX6r+O+lIeBMKg5UYaSLV04QsppfVyfDmGNc6LaEdDTQ6T4xBU8hoeBilZTovLiyyrR2oVmC9ZD\n",
       "5uOcKDjWUCMOJLqSkSz6p2U9eQETNSYyjSNSeSSQ+fwwESxJQwAXDXB+iAibFiJgRrpxLPMQP1/c\n",
       "vCsofnuGywaDlDL2B8WD8nUhio2nWiEqNGz0qvIbSyE772C3+P1cbVkI3cmdZSQ6zR05d82YOIi0\n",
       "EDFY4tzSH1yaEaasdR9FG/oituZPiCJzeBbDqZm8zIhhCDsdHbNmG48XoTrWakgRyb1Egf+IKHDB\n",
       "NArUK02JyBpclZ1E2UIUq7JLjDNoCyQsszYPY5OV7U+JhoNMXiRBc32ZZo2f20P183JFYmokNCE6\n",
       "2QCgcpWDPmRVsFw0vxENB8cF+91/pb+RFvcwVXZCBU08Jx1SlN1n6SVpnb2yI47+mjC9IRoOwpfU\n",
       "FqPXiSjrte2Eth66copQ9PAlcdP5lNh+ye+3nvccQMVk7T3RcNifpKKjduoRkg90AAh6OdWFCDOM\n",
       "xFe7pmbLMW9cbbWrEbZGcyVaHFyt9d9X/6OQTWvt9hQ5FPipwmLjdFLg8ghM1HydZ/1o57BW/tqe\n",
       "L/3o9qQ9DJxSja6Y3m15c2GUBuZag7OzrO0dpPIXpJz1pDXEn4je9em+quho2nWmnf3Hg/H2i+0N\n",
       "84c2Jaq/+KqFY9GU3wJNicrTn1dvTT+5+H8TzhnnvjAnkgAAAABJRU5ErkJggg==\n",
       "\" style=\"display:inline;vertical-align:middle;\" /></a><br>"
      ],
      "text/plain": [
       "non_zero_divides_zero: forall_{x in Complex | x != 0} (x | 0)"
      ]
     },
     "execution_count": 11,
     "metadata": {},
     "output_type": "execute_result"
    }
   ],
   "source": [
    "non_zero_divides_zero = Forall(\n",
    "        x,\n",
    "        Divides(x, zero),\n",
    "        domain=Complex,\n",
    "        conditions=non_zero_conditions([x]))"
   ]
  },
  {
   "cell_type": "code",
   "execution_count": 12,
   "metadata": {},
   "outputs": [
    {
     "data": {
      "text/html": [
       "<strong id=\"left_factor_divisibility\"><a class=\"ProveItLink\" href=\"proofs/left_factor_divisibility/thm_proof.ipynb\">left_factor_divisibility</a> (conjecture without proof):<br></strong> <a class=\"ProveItLink\" href=\"../__pv_it/theorems/3633241435315c6e47d4ebacab842e312f32c56a0/theorem_expr.ipynb\"><img src=\"data:image/png;base64,iVBORw0KGgoAAAANSUhEUgAAAOMAAAAXCAMAAADOUwhxAAAAOVBMVEX///8oKCgUFBQNDQ0QEBCI\n",
       "iIhmZma6urrMzMxUVFQiIiJERETc3Nzu7u6qqqp2dnaYmJgyMjIAAAArQGDrAAAAAXRSTlMAQObY\n",
       "ZgAAA0BJREFUWMPdWImO3CAMpW24zZX//9hiEwgQJrPTXWlGRdowirme/fxwlrEPb8qx/61BnF4E\n",
       "eWN82Dz0fWrvY3w/RGfZY4xX4+OmoeuDr6/TB7AiwQ3Gq/HGWanroToH7PshRsEeY1wYb1rgXV/D\n",
       "dwb0fc3ADUYDL7F+6/oYHDYwHyA4izM0jK8eMMmu3y02E96PkR9sdJxrkJxo1jCujFPouMCXsBEz\n",
       "wzGeeq3wp4WfPK28pREdOfCLV21RdpcN0XBmUo9xZZxCziQSk+8lfY8B1EvR6dDysrFBG83vlHqz\n",
       "QVhxisKdfglFGZLX1XM6FkkI2Qlhd0xCj3FlPF2G8fNMIApbNvcHt0uPD365HJ0PQuS3Ttm8ikor\n",
       "LtcxKAfBcfcVjEDIDGXJdFttsh3a2jkfV0Z6saeGdcNA7CUaamddH2LBOcq49eBwwQiEzi8wtjHZ\n",
       "xSr2VcgNRvRYPhgGc/NLjOw86BXjYCwBbnSQ6DRFS88YITGl620iFMcElZV3Uvky5+CG5DjUONaN\n",
       "IQay3gl2uKmONcv8UDbG5UxccpWdB71ydTDOWYAR5celIc3QW9Blpcw2nYhHLT2jizAmdnaW2sYy\n",
       "EKPt1RpjW1OTfv/JfzEfE51k+FJzvCu6QdyfNWcwzhTR9TFrTp4nDsz5mImWci1E3vkeIzj0C7fD\n",
       "GJTtIYw9xrZmQezZGcdtwljkXu6e2b1W4A3jyjjHUeOAwyLC2HcEp82ZMuR0y7NaqZEZOIdE9hyD\n",
       "0UW9A7fOxx3msrrk4z5dMYVWTnOer7rjE6FhXBlnCcxGUTdLauyjO7lOnmenrAvHB4lGJm807xwj\n",
       "vcJNAywxHmvqlNLvX/mBYV3q6k/UcqKqrBn7RsSdhcSIdaEFDwT9znUFkCQalflQtlen4IguyweM\n",
       "3Zr13qhVy+V+/GZNntM+E0QuavIh1lHm8oO8a5uMuZCSRV1UpPVSc3v4qo6JWusQ0iniHcZ+zXJv\n",
       "HCBDWJzZ3n1bPSvFUKYtX3xbPS4ea671FU+eBE3i1mNu7kf/tCb+1jeyzNmoJn+8XKKiwupcFaan\n",
       "I9eneT7vqpdc/cv/Oup9F1+uwnELGcMXvlCWGOMHfKH+YBOfdJi/gg0lcS9Y1rMAAAAASUVORK5C\n",
       "YII=\n",
       "\" style=\"display:inline;vertical-align:middle;\" /></a><br>"
      ],
      "text/plain": [
       "left_factor_divisibility: forall_{x in Complex, y in Integer | x != 0} (x | (x * y))"
      ]
     },
     "execution_count": 12,
     "metadata": {},
     "output_type": "execute_result"
    }
   ],
   "source": [
    "# Here the restriction of y to the set of Integer numbers is related to the axiomatic def of Divides\n",
    "# x|y = (y/x in Integer). Thus x|xy = (xy/x = y in Integer)\n",
    "left_factor_divisibility = Forall(\n",
    "    (x, y),\n",
    "    Divides(x, Mult(x, y)),\n",
    "    domains=(Complex, Integer),\n",
    "    condition=NotEquals(x, zero))"
   ]
  },
  {
   "cell_type": "code",
   "execution_count": 13,
   "metadata": {},
   "outputs": [
    {
     "data": {
      "text/html": [
       "<strong id=\"right_factor_divisibility\"><a class=\"ProveItLink\" href=\"proofs/right_factor_divisibility/thm_proof.ipynb\">right_factor_divisibility</a> (conjecture without proof):<br></strong> <a class=\"ProveItLink\" href=\"../__pv_it/theorems/e26b7105ce5b35b87bddeb3cc62f047288cd4dd30/theorem_expr.ipynb\"><img src=\"data:image/png;base64,iVBORw0KGgoAAAANSUhEUgAAAOMAAAAXCAMAAADOUwhxAAAAOVBMVEX///8oKCgUFBQNDQ0QEBCI\n",
       "iIhmZma6urrMzMxUVFQiIiJERETc3Nzu7u6qqqp2dnaYmJgyMjIAAAArQGDrAAAAAXRSTlMAQObY\n",
       "ZgAAA0xJREFUWMPdWIuu2yAMZVt4v/n/j50NgZiEpu10pVZDal0F7HDM4WDK2Jc35dn/1lw6PYjy\n",
       "pvNhC47aPJ6n9HmI3rLHGK+dj5t2xMbQH+cvYEV2NxivnTfJysS6nhxnPw8xCfYY46LzpkVObF++\n",
       "Y0E/14y7wWjcW6zfiE3RY3PmCwRnMYeB8d0JZklssdhM/DxGvrPRc66d5JVmA+Pe6bnAx267qgd1\n",
       "A8c9WLVa4U/rfnK28pZGdcqRX7Jqm7J76EiGM5Mpxr0zMons4+UalrrBz111qpWC6NDysLFRG83v\n",
       "lHqzUVhxiMKdfglVdwjE1eft2CQhQhJi8Uw6irF1usAETtXaKWMXN4i+c7tZ/OKXw9GHKAQ89cqC\n",
       "s8orLvcxKAfRc/8KRleRmbpLTnzb5Jj1wDAwtk7o2zDbpafcl0zAHtCZKtTG1HDOMm6D8+iWXEUX\n",
       "FhjHGEixSrQKucGIGYOZ4WJuYYmRUQwnjEA7zIyq/m19KRsKf4DRZaZ0P02E4rhBZeedVKGF2/er\n",
       "5DjUeEbGVAYymgQ7nVR7zOYf24sxnElLrjKK4cRV1qjKt3Vxe0Bn0kzWOt0iAdt0rjwa2zP5NKlR\n",
       "RIapbS4DcbWDWmMcMXXV7z/wSTAZTJLhS80JvklK5f5Zc5jV/essG9TtpDnQK3bMMM1cQ3lxeAaK\n",
       "0XnMC7fTGJTtaRkpxhGzIQ7sWMfthLHJvSyB2dIr8IGxnwVC45BrbT27wbg4W0Lj+nKmTE265SBk\n",
       "Ss2yCD5VZI8xuLqoas6v92Nx57K67cdyOmIarbzmHE7B/YowMHbuYbco15NudoPEqtkmT3cqPjy4\n",
       "IDyfNBqZvFW/Y4wMCkNHt8S4x9Q559+/4AuXdamrL9dyIj+v5cxsBxELi5lV1sWxeE7U31A9uCqJ\n",
       "RgEt2uvVITiCZHrCSGL2c6NXLZfz8ZWaHPY2sEC+V5NPy50klB81uzYc9UPOFnVRVa2Xmts9jX1M\n",
       "0lrHmImK22XMdm7sIGNc3CPs3d3Kdi22/L271ePise81Kl3g5A6JW465OR/D05r4+R1Zwm5Uz4vJ\n",
       "nqy3S1RUWA0F4/PdsMb43O/6dwZX//JfRz/v0ttVOL5CpvjCDWWJMX3BDfUHm/imyfwFijAlceiz\n",
       "Ak0AAAAASUVORK5CYII=\n",
       "\" style=\"display:inline;vertical-align:middle;\" /></a><br>"
      ],
      "text/plain": [
       "right_factor_divisibility: forall_{x in Complex, y in Integer | x != 0} (x | (y * x))"
      ]
     },
     "execution_count": 13,
     "metadata": {},
     "output_type": "execute_result"
    }
   ],
   "source": [
    "right_factor_divisibility = Forall(\n",
    "    (x, y),\n",
    "    Divides(x, Mult(y, x)),\n",
    "    domains=(Complex, Integer),\n",
    "    condition=NotEquals(x, zero))"
   ]
  },
  {
   "cell_type": "code",
   "execution_count": 14,
   "metadata": {},
   "outputs": [],
   "source": [
    "# later generalize those binary versions to a1,..,ai, b, c1,…,cj ?"
   ]
  },
  {
   "cell_type": "code",
   "execution_count": 15,
   "metadata": {},
   "outputs": [
    {
     "data": {
      "text/html": [
       "<strong id=\"even__if__power_is_even\"><a class=\"ProveItLink\" href=\"proofs/even__if__power_is_even/thm_proof.ipynb\">even__if__power_is_even</a> (conjecture without proof):<br></strong> <a class=\"ProveItLink\" href=\"../__pv_it/theorems/e4b528afabeb0e32b925a286bcbdcfc768faba930/theorem_expr.ipynb\"><img src=\"data:image/png;base64,iVBORw0KGgoAAAANSUhEUgAAAKEAAAAXBAMAAACR7DLtAAAAMFBMVEX///8QEBCIiIhmZma6urrM\n",
       "zMxUVFQiIiJERETc3Nzu7u6qqqp2dnaYmJgyMjIAAAAcRTyBAAAAAXRSTlMAQObYZgAAApZJREFU\n",
       "OMutlU1oE0EUx//bZJPsR1IPelARArG1fhyWFqRgAwmiHlSMHhREaQzWk5QcNCj2EBQhUQt70trT\n",
       "Sg+VeEhQehAPhkYv9WsPXiIUcvGgveRQweQS32yy2ew2BFz6IJP/TGZ+M2/eexNgW+wytssEvf39\n",
       "odN/S58aE+tuiS+BpcmHFtGnAp+Y+O2W+AtiEt9iXaJIB1xgZ8+6BAYVeDRwO7pErAIhDZBLLol+\n",
       "FVwavoZFfEHbrBUKz9w6TQtDTfj+WMRQDPiby825JUbaJ20yojA1vofcVYAZID9oVcxoKw+0juq1\n",
       "eaM9V2bEuBqqk8sUmuNGgLbYtSeTE4Ywoiarvhq2xu+e0WZY9oj74KEJUprOjCHdMfFVJYq7WDtk\n",
       "Ef0q3+gQg8fWy+bEnazxKIzoacIfBng6p6z7nTnxeFFDia/qPcSYsNkhSmNI24gRo2a4LIqJNlGo\n",
       "XaShpdGfjBW9EGH3YGwtwyISqElKHJ9NYIbP9notKXhOxGIZ76nnZbvlr1Ou3+abjBjXObVdmKiu\n",
       "2IjkUhbLiWkN6aHvvZG5AhxkxBJmJdWIDN6k2V3wDL54AMOaqBj1FC7biBWmJnCJyk76YhJpUJj7\n",
       "fDRNxEA4mCGvPGzVMF0oVxpKsikpxMHfyeXuQ5Y1QbOIVG+k9mLUduOnKKVbrRYjiqmRp/upm2CT\n",
       "aWFRDfxg63dhiofBPn2VUsYinsEJZMUG5guOKrS/Zlg2BadOn8WCJtRxawUf2YiisBOYRH7j3SNS\n",
       "u/lN3fFSOIirpvCmXkdxvuRN4oiOAD0cwRs3v2YsItdq1UmdPByx527eQXQWi/kEjdE9di3bR/W+\n",
       "uDZiQLX9LKn96nog0fxXGOn0q45awX8TXZnSRw2yf3/pr4CHq4HRAAAAAElFTkSuQmCC\n",
       "\" style=\"display:inline;vertical-align:middle;\" /></a><br>"
      ],
      "text/plain": [
       "even__if__power_is_even: forall_{a, n in Integer | 2 | a^{n}} (2 | a)"
      ]
     },
     "execution_count": 15,
     "metadata": {},
     "output_type": "execute_result"
    }
   ],
   "source": [
    "# This can be generalized to any prime number. \n",
    "even__if__power_is_even = Forall(\n",
    "    (a, n), Divides(two, a), domain=Integer,\n",
    "    conditions = [Divides(two, Exp(a, n))])"
   ]
  },
  {
   "cell_type": "code",
   "execution_count": 16,
   "metadata": {},
   "outputs": [
    {
     "data": {
      "text/html": [
       "<strong id=\"common_exponent_elimination\"><a class=\"ProveItLink\" href=\"proofs/common_exponent_elimination/thm_proof.ipynb\">common_exponent_elimination</a> (conjecture without proof):<br></strong> <a class=\"ProveItLink\" href=\"../__pv_it/theorems/fd9be1e75d6f2c908e68f4f3c40487e85260f6490/theorem_expr.ipynb\"><img src=\"data:image/png;base64,iVBORw0KGgoAAAANSUhEUgAAAPEAAAAYBAMAAADZrgZwAAAAMFBMVEX///8QEBCIiIhmZma6urrM\n",
       "zMxUVFQiIiJERETc3Nzu7u6qqqp2dnaYmJgyMjIAAAAcRTyBAAAAAXRSTlMAQObYZgAAA3lJREFU\n",
       "SMe9llFoHEUYx/+5vc3m9vYu0CKoQbhSEyW1cOReFBK4INgHEa95MFIaGkMbfCghkDa0UMoZXy5G\n",
       "YRHREAldU7AQkVuqCwYSeuRaxChloVKaEmmgSKFQyEMJbUTo981s9nbvSDlSLgN7M/xv9vvNN/Of\n",
       "mQX2tBzDXpdZr77u1Qv0rHPjnwaD9Tz0z0YD5GYT+JMbDxtMThIomQ6QdUp4mupYvsHkW/S02gEy\n",
       "lmkoFmDYDSafp+dDK0j+AUiszM9/12BwjJf496DDkMwCTwqFC7sLWKq3Y4SX+D6W3mFyrLvrVZpm\n",
       "kk4Bk7sjp+vt2OKSp/6LfPM/k3vN5AZNNVnsXWG0A6ndk7Pi148QremokY/iW526S2T9NShk6Dgt\n",
       "gIYIDUnLbu+0l8ufh5P55Mu3MyFBHbuOA4MVstwZHOHW0hpl6PmZ27I00V/KfrnOyhY0GqNKeRuu\n",
       "RlKRnacvZlzNNOYsH/JTuYeMudKJkPKbYSlWOTOWsQNkjnA1r/lk0a6QtaEJQW7Ko5iT5Nj6RyQd\n",
       "4R53FuYRx8Csj0lMzViw1VU3rCyl0gaqc+YIzbmPfbJoV2a7mL2UZXKxhGu8JGz3yZP0U1Y7EJWh\n",
       "0sKzetdIjjzARTEEs6fvIKTiOF/XkjmChsNZJl/u+Fe2Kw67h6JdYrKNkbgpHIZfGP/o16KVlFl9\n",
       "n+PqSu6EJQ91rDpC73WbTKk4xs/Ha8gc4UcsukTWz6pbEG1ZeAt9itYck1tSiXEatsLptbIpNwl3\n",
       "WXSbExkig37oIraeEpMw8wZaLak4KJVryJu57QyhpNXRoCV5aqcQ6bLY20Pt375OJwn3TpA11H1T\n",
       "QH+hUEihtIIZUtvQAfVcoTABw7Bi7Lkh9HqKg1l2Ty5IFhE8cpMdGaw5PUO3JK74p0z+aAzNYnyO\n",
       "iz8o0af4ah7i/fcHYNBdg5fQrUrFQbQvEDfvR/DIRbPlrlV9Y4TJy/4pk+qPwOAkFIUmJ/YFXlEf\n",
       "u7ghHJcm305bsQ2ccaTyN7BWTRYRtnM2T3wQPsTMKrK+XrlAm9t5LYDbw389GFTb8N6hg2QW2g6J\n",
       "4dM3x3HUjg7iLalEL2bl/ATJMoIkR4eu9lR/GYTJ/lC255zXWZS4p7xZmPBado0SJgcSfM7XkDc4\n",
       "rO54JC9UC3Fz5/O7DnL9xa0WEtgj8ovclkp9bz0DxjTzNAYdFBQAAAAASUVORK5CYII=\n",
       "\" style=\"display:inline;vertical-align:middle;\" /></a><br>"
      ],
      "text/plain": [
       "common_exponent_elimination: forall_{k in Integer, a in Integer, n in NaturalPos | k^{n} | a^{n}} (k | a)"
      ]
     },
     "execution_count": 16,
     "metadata": {},
     "output_type": "execute_result"
    }
   ],
   "source": [
    "# might not need explicit restrictions here on k and a\n",
    "common_exponent_elimination = (\n",
    "    Forall(\n",
    "    (k, a, n),\n",
    "    Divides(k, a),\n",
    "    domains = [Integer, Integer, NaturalPos],\n",
    "    conditions = [Divides(Exp(k, n), Exp(a, n))]))"
   ]
  },
  {
   "cell_type": "code",
   "execution_count": 17,
   "metadata": {},
   "outputs": [
    {
     "data": {
      "text/html": [
       "<strong id=\"common_exponent_introduction\"><a class=\"ProveItLink\" href=\"proofs/common_exponent_introduction/thm_proof.ipynb\">common_exponent_introduction</a> (conjecture without proof):<br></strong> <a class=\"ProveItLink\" href=\"../__pv_it/theorems/5aaaf7488d34ace2e6f70f3e0b5245b2a87298100/theorem_expr.ipynb\"><img src=\"data:image/png;base64,iVBORw0KGgoAAAANSUhEUgAAAPMAAAAYBAMAAADdW9ZNAAAAMFBMVEX///8QEBCIiIhmZma6urrM\n",
       "zMxUVFQiIiJERETc3Nzu7u6qqqp2dnaYmJgyMjIAAAAcRTyBAAAAAXRSTlMAQObYZgAAA3BJREFU\n",
       "SMe9lk9IFFEcx7/uzuzOzo4rRJHiZU0ysw5be/GQpAR1iGj1kASJm5SnCMmSogixy5oJQx0SQxgV\n",
       "MgxxqRYSisStQxYxUFRGwUJEFEQeNEo79Hvzdv7sbiu0sD2c2ff7zvj97Hu/3/x2gOKP0oaWakDU\n",
       "nFGRh09Pw5r0EhVKozOaoVmKhR+Kgr5Ffxvpc3gLyjQLzSOPCjxj4deioL/Q8ZFNOtAEC80jmZY8\n",
       "xHamtygpDtFplc02YJdoo40Ic0CAsq/Ei4H20p4KK2xlizidsNA8wih9t/nJyetF2W/mqnTRSYhi\n",
       "u26heYQAhT9jsQuFec+ufZk9QoGQ/6XKQ4a+lqxKP2JQKB3Hgf7C0KG1Lw/SMR3felC30EIFvluV\n",
       "QHW2x6i2qmDhaL6TzEFwXj5Px6MxbQoWelRHvXnVT6nwwkXfy2vWn6c8eSlzOUev1IczBLH7Maqi\n",
       "Npo/H8xBct62no4dthWhd2s4ZZkskqR72c6wHMgPwrpXVcY06/7byQacw3wdMpT7iubWkuHucNyB\n",
       "Zg456J7aoANdDnnZifalDtFsHwvfzkzCj7YR+9EcGNYQFxf0TOVhMKQge9XMQcracHnJt2Sj5d/w\n",
       "L5qhwGq//xidkmINBO4VMipX3nkyQnXAhlux276hJBJXc9HMgdDjNZ/sMitdlFcVG70KT2rGUWa4\n",
       "y/jf7k1rAa7diLCPiUi7xhs8FhJ22zeUhDJ1JAfNHCTIZ8SVtJykwunFso1GH95EzSfSzSZlLB0/\n",
       "iDduaGP83jBaIRvmcnDWavtcSWA2mYNmDhLcIbErLVMGpDiq62z0zU2HO8xyDrAFllJ9iOsGgNZY\n",
       "LBbE7DyGSa1EDcSzsVgfFEXzaem2z5UERlhpRpxow0FCSdwVdTRSx7B6OB8T5sTV2+yDx0h/QsdT\n",
       "WuovDE7CcNnfBkU1236Ur1pocbj0Wg4SplXpneb4+ciLnjMnUrDVBYUtw+2m4vNdRoW4pOOJUXYh\n",
       "2rshjbd9Q3kFvM9GGw60arX9gKn3r4GWU+YsoHo2A7RleN35/HNUrMTebdU6yxVKO0+86EFznLd9\n",
       "pggXG/kOOdGGgwSh406D41UhL1rKzAZcLNe8zaWVWsosH/EcJRPNDf/6gpQ2jzijhbzteSZb8Kv5\n",
       "e3k+dGFDz3nlwP9CF/jj6f6Xf/sD46DwRTLGxYcAAAAASUVORK5CYII=\n",
       "\" style=\"display:inline;vertical-align:middle;\" /></a><br>"
      ],
      "text/plain": [
       "common_exponent_introduction: forall_{k in Integer, a in Integer, n in NaturalPos | k | a} (k^{n} | a^{n})"
      ]
     },
     "execution_count": 17,
     "metadata": {},
     "output_type": "execute_result"
    }
   ],
   "source": [
    "common_exponent_introduction = (\n",
    "    Forall(\n",
    "    (k, a, n),\n",
    "    Divides(Exp(k, n), Exp(a, n)),\n",
    "    domains = [Integer, Integer, NaturalPos],\n",
    "    conditions = [Divides(k, a)]))"
   ]
  },
  {
   "cell_type": "code",
   "execution_count": 18,
   "metadata": {},
   "outputs": [
    {
     "data": {
      "text/html": [
       "<strong id=\"common_factor_elimination\"><a class=\"ProveItLink\" href=\"proofs/common_factor_elimination/thm_proof.ipynb\">common_factor_elimination</a> (conjecture without proof):<br></strong> <a class=\"ProveItLink\" href=\"../__pv_it/theorems/949d6f6b4caefb9bd717a1988eb36736a016ad180/theorem_expr.ipynb\"><img src=\"data:image/png;base64,iVBORw0KGgoAAAANSUhEUgAAAPkAAAAXCAMAAAD+3xlQAAAAOVBMVEX///8oKCgUFBQNDQ0QEBCI\n",
       "iIhmZma6urrMzMxUVFQiIiJERETc3Nzu7u6qqqp2dnaYmJgyMjIAAAArQGDrAAAAAXRSTlMAQObY\n",
       "ZgAAA5RJREFUWMPlWAmO2zAMdFvrpO7/P7a6bzm7CyzQZgUksJMRqaGGpOzr+hGDyuuHDGHGe036\n",
       "OyXCt633xrwNcQnXhrmEm6dbFqhrVf6176MIK67tnlucIxP2W5TwCHgb4gZfe+aubLNG3Va3zf/v\n",
       "Bxd75sQVWcs7BEjLMAR/n/K2UknMdfvDhh8chMH1d6zh2GU+BqRf8oqK2AXWGN2yMrcMIZykrQOG\n",
       "RfuwOifWduZu9AGnZIz0cZ4iA34BZteqt7dYitJFGs17BrlJkdtzsq7VduczW7pI1AT7BJdqt2ik\n",
       "rxScbAiAZpx1CxqqZOwd23nXhUWH3wCzayzOK8A05qpfBZvSXOVcDhHAUJmrmOYuLldF4YcvtGvm\n",
       "tit6slaHSyqNscdLCv43avWeOdXTvGG/WMPvgNm1ZNsVRCmzGo3JxZ0ihOPPHFXm2EYr0RtNUjCJ\n",
       "/TJcF3FSEQaUkMGoEdGIOjBPWUT4U8uFE7C47jrzZClE3fMIc2+1Y35DBSTmsZuT1NkSc2EvmmMr\n",
       "MWK21BXqEGKyyY8iVpIjroQqOpennjkf5032k8jgAKyuOy2OlkjeuuCcm43a0+Yq12q7M1UJJYwg\n",
       "WAqT5NQbK2QRl61OWqNI1FstCEaapSrC0lvqvMl+Sk44AKvrLocLgMVe9Md/TDbG0abCybi5zMZT\n",
       "emJOSvLnCufN4ywk7J3RKipAFeGnJU36XavlTaon5gTWeZ399DccgNU1aRYLIIVGXW3Pp6Kfq2O0\n",
       "wVlsHJE586QhLx/nFHV5akiYJqiQLzjf0RtBShAeQ+7NCkXpE3M2zgstprNPbWW+AxbXtEqsAvpH\n",
       "kpTGbiz6WcnSd28qGCK1q2GkS16UlDYy2xFBKzJLLiipFA8E3nXM6CY/LFHrqwtzCuO8yT6pat8A\n",
       "m2tS3VUAs9b+/uW/rNnX9uPptesTc9314aaOmPD44o35XDOQr/0ee5kGprputD8i0XL6X5kn423e\n",
       "YD814oTfAbPrDJtWUDpaOa/N/fz8xNLu5+MVYUih0KppCDhlWl/5OnQXhtJpr2lOWwt99o21XV7D\n",
       "vN6+FwxptX0FZtcZNq8gdbRMXeuF53ognZhvz221fh2uo+5inu9Gzxw9PvzZhn8C2t0K1KtnjP2b\n",
       "iYfILC9s1usXA443s33TQeAVbFqB/fTbKDTUYvNEyByuP8OcnCeW3gjPwAIb/zf/4psEfBTOtAdy\n",
       "wJ+A6BtfkP0FBOYrEDKpaWkAAAAASUVORK5CYII=\n",
       "\" style=\"display:inline;vertical-align:middle;\" /></a><br>"
      ],
      "text/plain": [
       "common_factor_elimination: forall_{a, b, k in Complex | (k * a) | (k * b), k != 0} (a | b)"
      ]
     },
     "execution_count": 18,
     "metadata": {},
     "output_type": "execute_result"
    }
   ],
   "source": [
    "common_factor_elimination = (\n",
    "       Forall((a, b, k),\n",
    "              Divides(a,b),\n",
    "              domain=Complex,\n",
    "              conditions=[Divides(Mult(k,a), Mult(k,b)), NotEquals(k, zero)]))"
   ]
  },
  {
   "cell_type": "markdown",
   "metadata": {},
   "source": [
    "### GCD Theorems"
   ]
  },
  {
   "cell_type": "code",
   "execution_count": 19,
   "metadata": {},
   "outputs": [
    {
     "data": {
      "text/html": [
       "<strong id=\"GCD_one_def\"><a class=\"ProveItLink\" href=\"proofs/GCD_one_def/thm_proof.ipynb\">GCD_one_def</a> (conjecture without proof):<br></strong> <a class=\"ProveItLink\" href=\"../__pv_it/theorems/0604b6f2793d7b4b6e5ea31adf8c3ad7f04d208d0/theorem_expr.ipynb\"><img src=\"data:image/png;base64,iVBORw0KGgoAAAANSUhEUgAAAckAAAAaBAMAAAAuzLp3AAAAMFBMVEX///8QEBCIiIhmZma6urrM\n",
       "zMxUVFQiIiJERETc3Nzu7u6qqqp2dnaYmJgyMjIAAAAcRTyBAAAAAXRSTlMAQObYZgAABb1JREFU\n",
       "WMPVmH2IVFUUwI8z783OvPdmd/+xkv4Zd2GJtHg4wYZpDUXaH32MBrqS5LBYGVQMWZgmNSjVLBI8\n",
       "EjYJzFcLfWyUQ7WaULawfcBKMGmhiMaQGWRoi7RSbkXnvHvve/fdeW/VrQm7cObOveecmfe799x7\n",
       "z7sALSupDRvhcihLN4y28Nfb4DIpmdL/jFJ3Z2Bw2VLuVBu8wyqw2nRiPLgB6YUQZYM6j7eGsp2q\n",
       "bP3SXY2K0hAdghIejvFAg7eu5HohSHmAdKdaQ2nVsGp3L9213VEaosOnfE9Eo+JBBie4XghS7qCq\n",
       "0hpK73d3zMD1kNoQHT6lleN0dtiDDKa4XghS0lB7Y96KdUkxcmAGrhvVxkaV0uhkdd+msAcaaOe5\n",
       "XghSZseHh19u1e5zbHj47fIMtv6y0vA7fEr4gVVru8IeaGCVhZ4L7bG/Vaub4/7O+oeUHdXqCxFH\n",
       "8oVO6YStNEjuHFje4xLl9rG5GH9jbEobbb6RMGjv764xPReifABgIO7vktMNuPS9GEOZKkLaadbY\n",
       "F6BM15UGyehDNatCATkHfsHu79g01Nhqkw12nzJ+Z3ouRHkbDoj4Re1MNKWm0k8GE0I+HwanckWm\n",
       "1Gx/M4yiLKiKPu6JT967Actm3kDJ1H6E7ARCvFaHG7F7r9jhGtzDN/jUhbNMz4Uo2yARDN0Yr1cu\n",
       "KiSuCCjT6uk0ASlH8kmKhp4vh7KCMlwnJybrP4O5pYDSH5EMC4Z7e1lzlsAf5A0UA7dO6zxC3OLC\n",
       "49i9xjM46MVi2OBmMP5gei5EadWlJOVnQvg4Xzcr47DQyvfmb4qkNBuwWvYx/BxKC1N+BX77nbHF\n",
       "8JHlJt2x/Pp8LUxprGPDtDSekrbOdCdCXAXGpE+JO+wK4SEMToA21USZaawIHh8DGo7sGwbzYJJC\n",
       "Mm4uLZsNoe/zUwzlq7rgz257xYVPcrYFEXMJmecdibKtJlHyiKWtc7dtFXCezAlhato8H5AM4E9I\n",
       "nmd6Ll4eO7AWP4Z6TlJIne1xNXoG875VuWbKY10lsLpyxoLrazRHgU8QlwplehAH+dDxniIufywj\n",
       "Iy81UXpa0Le6AaW/+wxKuw+e/1/jFmpMQaqxj+8+REiksgH8SktX3X3gA3ww40mdztLEpoTtJZ9m\n",
       "cfzbJspEKW3DE3rnm8U1Lh5Qkg/sgXVVLHWV0qSV9s2kXmb58oj17mqV0tPi8HwfUFrCQOcNko6K\n",
       "PpuOwy1wuISPtsjfrTZB2OBR2ApMz8Wj7MAkKGl7f5XOZRtDjNIixzDlLiddS1agmIdloFVkH7gj\n",
       "Zi5pt8u8XspMGN6Dj8DomELpab2QnuNTanJWQA2Se27tdgjija5V/RggJ72cgD66IGwwNJ9C4WQg\n",
       "HmUWY2VWLVHyFnGytBLnJGcWM/UyG8uA8jB0uLNwAVwNPaCVZB+4P47yKF0a5MxO/alqdQtS7myT\n",
       "jldvLklL9f6cTxmZ4X0ZzvDK/lGkQ4QB6YX475e7nfRRhCWKFJtLuD0nncze5xc4hx0O4Jn74jCe\n",
       "i5IPLIHHzmBpili2ZRZTNpTYXGrLpeev+FqAu8eDiI3M1k9EZuuSUchAydb5gzhr7oIdbpt7BCwa\n",
       "6WwBsqMq5R54ENoLYM/RJ+s4RpIPHPPPmAjKXc5KFz731qBkKSg9LfQtBP+oh3DCRI20Y0xFvnkF\n",
       "RmED5c2LB1r/+4thWU1/BNG20aBikltSKZPzT0NmwUF3ybzuOq552ecGcSL0nss1Ue7vQoQ0hrr2\n",
       "TAFSKqWnHfTeirc/2x/7Fr33r5xMOdD0Fh02GJBEuRFhx1QC16U6UryeHXTNC/k0prsR8bZDuAbX\n",
       "pVIqQqs/d5E3Igm+pLNxNyLcgPRCFErTiU2f2SWR2WgCZz5mfTrKp+N+tjKttkV3eFmYnvJ0t3S5\n",
       "odUln6HIdxJ+H5s8505DGa/99+5jL/IOL+oNbJ/0/dqZ/b8N/1H5G0IQx0XdpKBfAAAAAElFTkSu\n",
       "QmCC\n",
       "\" style=\"display:inline;vertical-align:middle;\" /></a><br>"
      ],
      "text/plain": [
       "GCD_one_def: forall_{a, b in NaturalPos | gcd(a, b) = 1} [forall_{p in NaturalPos | p > 1} [not]((p | a) and (p | b))]"
      ]
     },
     "execution_count": 19,
     "metadata": {},
     "output_type": "execute_result"
    }
   ],
   "source": [
    "# Defining/interpreting GCD(a,b)=1.\n",
    "# Somewhat opaque because we are not explicitly restricting p <= a, p <= b\n",
    "# BUT if p > a then p|a will be FALSE (b/c a/p will not be an integer)\n",
    "GCD_one_def = Forall(\n",
    "    (a, b),\n",
    "    Forall(p,\n",
    "           Not(And(Divides(p, a), Divides(p, b))),\n",
    "           domain=NaturalPos,\n",
    "           condition=Greater(p, one)),\n",
    "    domain=NaturalPos,\n",
    "    condition = Equals(GCD(a, b), one))"
   ]
  },
  {
   "cell_type": "code",
   "execution_count": 20,
   "metadata": {},
   "outputs": [
    {
     "name": "stdout",
     "output_type": "stream",
     "text": [
      "These theorems may now be imported from the theory package: proveit.numbers.divisibility\n"
     ]
    }
   ],
   "source": [
    "%end theorems"
   ]
  }
 ],
 "metadata": {
  "kernelspec": {
   "display_name": "Python 3",
   "language": "python",
   "name": "python3"
  }
 },
 "nbformat": 4,
 "nbformat_minor": 0
}