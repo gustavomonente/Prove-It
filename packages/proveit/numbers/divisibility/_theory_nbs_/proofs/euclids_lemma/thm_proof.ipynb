{
 "cells": [
  {
   "cell_type": "markdown",
   "metadata": {},
   "source": [
    "Proof of <a class=\"ProveItLink\" href=\"../../../../../_theory_nbs_/theory.ipynb\">proveit</a>.<a class=\"ProveItLink\" href=\"../../../../_theory_nbs_/theory.ipynb\">numbers</a>.<a class=\"ProveItLink\" href=\"../../theory.ipynb\">divisibility</a>.<a class=\"ProveItLink\" href=\"../../theorems.ipynb#euclids_lemma\">euclids_lemma</a> theorem\n",
    "========"
   ]
  },
  {
   "cell_type": "code",
   "execution_count": 1,
   "metadata": {},
   "outputs": [],
   "source": [
    "import proveit\n",
    "theory = proveit.Theory() # the theorem's theory"
   ]
  },
  {
   "cell_type": "code",
   "execution_count": 2,
   "metadata": {},
   "outputs": [
    {
     "data": {
      "text/html": [
       "Under these <a href=\"presumptions.txt\">presumptions</a>, we begin our proof of<br><strong id=\"euclids_lemma\">euclids_lemma:</strong> <a class=\"ProveItLink\" href=\"../../../__pv_it/theorems/d4460adfe2de24463c4bec8fe25f8072caa350e00/expr.ipynb\"><img src=\"data:image/png;base64,iVBORw0KGgoAAAANSUhEUgAAARYAAAAXBAMAAAA8SH1tAAAAMFBMVEX///8QEBCIiIhmZma6urrM\n",
       "zMxUVFQiIiJERETc3Nzu7u6qqqp2dnaYmJgyMjIAAAAcRTyBAAAAAXRSTlMAQObYZgAAA+BJREFU\n",
       "SMfFll1oFFcUx//ZndnZnZlNfCkU8rKkuITgx2KUSjUYLMRATd31oYiQZhtUFFJJJSkqKou+rNrq\n",
       "gNWIYB2M+FXQxY+KD5Yl0ZeoYbR9qJKWfWgfqih5KiZPnnNnZndmPwyKrAd275mZ3733P/ece+4A\n",
       "H9o2fnAFOO06d+1GM4ACO3/VXYqaKdOCbcB9bp/VXUujUa7lCnCSmkim7lp+R7kWPYZGk5pc3bXs\n",
       "qtCizkN04vLlkbpLiQxWaME/wKtsds/bDmV4L5LvAAQS9Hc2/tOCGGuRvuvsBcaBzcDBuWfv9Hq6\n",
       "79GNMnRVsiYgu4kZtigo+egOpcBaLj5upwd/A59DLdSU8M0Py9uFU8rujNh+Hgsa/j5XawJyuxsa\n",
       "hTJUN/VZyWAtpthBt+g2AlZVHb+Md1CKTbRVaJHz/lKR9vf7rTYguVoaaHVVhDNOvsiH6K+P5FlK\n",
       "VSnRw6dM5OQnVoWWUFkC/Oe/HK8N+LQATTFHSxdsLZHCV+SMLYvTAFIcCu3xyL5LSYqdWF8dJS36\n",
       "J+s3k6cUQYw8Ow4sFNLH4jRKC0ZbnjMgUGB1GrsdwKdFEVWkL2lr0cTCraHfwU2U1+Z2hZOyyUyx\n",
       "gDtjzuGAJzc9WtpChSHyRoogVkzRq/3KXhwHoHSm1GF5lgGBAvlZeR4DW7NkVkkL565mLqZ5Wct1\n",
       "IC1yF9cJkPGCkVNr0CoinIOaEE4s79GSbLTY63bAUU4q+nVzwZjBYSyHHEzQ5N0Oisi5wUDGBvzr\n",
       "otPo63JH+YS8C3nvw0W0ECvdqGFGMCvRz805Urczm90PXTcjZilfmgz2uhwwZUDluH/NIRrELJop\n",
       "EXKBtACaxOYJ5kMxG/BrYed8y9kOi7UE8YjqHP7lYXgyeVpmZggf8eskZRMihl/0QjdKWvqobmWw\n",
       "oQjiOH9+8NR6mtaD3ueqEX5qbnBQyovOhiQD21+SeWJU7Qxwn53RCzpOmhiWpiOHcOL+n8A9vp9I\n",
       "iJSytUSmJ5En7wL5BPKdgTv0YIp6aulQmqp4sMHo6yVAoDSSklwHBhzTBt94Ntp2/o+xCaRy6Got\n",
       "yM2wUrTfw5Tq0S0Dk98Xtajfrl1g8j6ihSSQl1T+mPyl3HPJpIVjC9uk/msdBAiURpL6j4AB5xT6\n",
       "9H93wnC1bwav5VSDElxzrlopX7zVtugFKLMZdI1Uke6GUlEJOOe+hkv4Ee6WnONbyn8QaUYo/yVw\n",
       "u1rl850BVO4YdLuRfOMEldsK+jYGpIIA3vCNOd8prf6TJAppirawNaeWHht0bJR7/vz4Mw/dYzcW\n",
       "eh7YwHu1hNfTfO/QVknPCVS11/x6GgzQI7UEAAAAAElFTkSuQmCC\n",
       "\" style=\"display:inline;vertical-align:middle;\" /></a><br>(see <a class=\"ProveItLink\" href=\"../../../__pv_it/theorems/9d9cf284748d0b3dad1882b124a3d16fb307a3ae0/dependencies.ipynb\">dependencies</a>)<br>"
      ],
      "text/plain": [
       "euclids_lemma: forall_{x, y, z in Integer | x | (y * z), gcd(x, y) = 1} (x | z)"
      ]
     },
     "execution_count": 2,
     "metadata": {},
     "output_type": "execute_result"
    }
   ],
   "source": [
    "%proving euclids_lemma"
   ]
  },
  {
   "cell_type": "code",
   "execution_count": null,
   "metadata": {},
   "outputs": [],
   "source": []
  }
 ],
 "metadata": {
  "kernelspec": {
   "display_name": "Python 3",
   "language": "python",
   "name": "python3"
  }
 },
 "nbformat": 4,
 "nbformat_minor": 0
}