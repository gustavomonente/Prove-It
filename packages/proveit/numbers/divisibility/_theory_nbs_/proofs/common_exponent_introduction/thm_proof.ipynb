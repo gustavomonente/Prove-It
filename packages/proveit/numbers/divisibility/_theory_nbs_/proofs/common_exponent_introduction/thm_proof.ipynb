{
 "cells": [
  {
   "cell_type": "markdown",
   "metadata": {},
   "source": [
    "Proof of <a class=\"ProveItLink\" href=\"../../../../../_theory_nbs_/theory.ipynb\">proveit</a>.<a class=\"ProveItLink\" href=\"../../../../_theory_nbs_/theory.ipynb\">numbers</a>.<a class=\"ProveItLink\" href=\"../../theory.ipynb\">divisibility</a>.<a class=\"ProveItLink\" href=\"../../theorems.ipynb#common_exponent_introduction\">common_exponent_introduction</a> theorem\n",
    "========"
   ]
  },
  {
   "cell_type": "code",
   "execution_count": 1,
   "metadata": {},
   "outputs": [],
   "source": [
    "import proveit\n",
    "theory = proveit.Theory() # the theorem's theory"
   ]
  },
  {
   "cell_type": "code",
   "execution_count": 2,
   "metadata": {},
   "outputs": [
    {
     "data": {
      "text/html": [
       "Under these <a href=\"presumptions.txt\">presumptions</a>, we begin our proof of<br><strong id=\"common_exponent_introduction\">common_exponent_introduction:</strong> <a class=\"ProveItLink\" href=\"../../../__pv_it/theorems/4f2885bf4ca9b51b036138cef4837c2d8d070aaa0/expr.ipynb\"><img src=\"data:image/png;base64,iVBORw0KGgoAAAANSUhEUgAAAPMAAAAYBAMAAADdW9ZNAAAAMFBMVEX///8QEBCIiIhmZma6urrM\n",
       "zMxUVFQiIiJERETc3Nzu7u6qqqp2dnaYmJgyMjIAAAAcRTyBAAAAAXRSTlMAQObYZgAAA3BJREFU\n",
       "SMe9lk9IFFEcx7/uzuzOzo4rRJHiZU0ysw5be/GQpAR1iGj1kASJm5SnCMmSogixy5oJQx0SQxgV\n",
       "MgxxqRYSisStQxYxUFRGwUJEFEQeNEo79Hvzdv7sbiu0sD2c2ff7zvj97Hu/3/x2gOKP0oaWakDU\n",
       "nFGRh09Pw5r0EhVKozOaoVmKhR+Kgr5Ffxvpc3gLyjQLzSOPCjxj4deioL/Q8ZFNOtAEC80jmZY8\n",
       "xHamtygpDtFplc02YJdoo40Ic0CAsq/Ei4H20p4KK2xlizidsNA8wih9t/nJyetF2W/mqnTRSYhi\n",
       "u26heYQAhT9jsQuFec+ufZk9QoGQ/6XKQ4a+lqxKP2JQKB3Hgf7C0KG1Lw/SMR3felC30EIFvluV\n",
       "QHW2x6i2qmDhaL6TzEFwXj5Px6MxbQoWelRHvXnVT6nwwkXfy2vWn6c8eSlzOUev1IczBLH7Maqi\n",
       "Npo/H8xBct62no4dthWhd2s4ZZkskqR72c6wHMgPwrpXVcY06/7byQacw3wdMpT7iubWkuHucNyB\n",
       "Zg456J7aoANdDnnZifalDtFsHwvfzkzCj7YR+9EcGNYQFxf0TOVhMKQge9XMQcracHnJt2Sj5d/w\n",
       "L5qhwGq//xidkmINBO4VMipX3nkyQnXAhlux276hJBJXc9HMgdDjNZ/sMitdlFcVG70KT2rGUWa4\n",
       "y/jf7k1rAa7diLCPiUi7xhs8FhJ22zeUhDJ1JAfNHCTIZ8SVtJykwunFso1GH95EzSfSzSZlLB0/\n",
       "iDduaGP83jBaIRvmcnDWavtcSWA2mYNmDhLcIbErLVMGpDiq62z0zU2HO8xyDrAFllJ9iOsGgNZY\n",
       "LBbE7DyGSa1EDcSzsVgfFEXzaem2z5UERlhpRpxow0FCSdwVdTRSx7B6OB8T5sTV2+yDx0h/QsdT\n",
       "WuovDE7CcNnfBkU1236Ur1pocbj0Wg4SplXpneb4+ciLnjMnUrDVBYUtw+2m4vNdRoW4pOOJUXYh\n",
       "2rshjbd9Q3kFvM9GGw60arX9gKn3r4GWU+YsoHo2A7RleN35/HNUrMTebdU6yxVKO0+86EFznLd9\n",
       "pggXG/kOOdGGgwSh406D41UhL1rKzAZcLNe8zaWVWsosH/EcJRPNDf/6gpQ2jzijhbzteSZb8Kv5\n",
       "e3k+dGFDz3nlwP9CF/jj6f6Xf/sD46DwRTLGxYcAAAAASUVORK5CYII=\n",
       "\" style=\"display:inline;vertical-align:middle;\" /></a><br>(see <a class=\"ProveItLink\" href=\"../../../__pv_it/theorems/5aaaf7488d34ace2e6f70f3e0b5245b2a87298100/dependencies.ipynb\">dependencies</a>)<br>"
      ],
      "text/plain": [
       "common_exponent_introduction: forall_{k in Integer, a in Integer, n in NaturalPos | k | a} (k^{n} | a^{n})"
      ]
     },
     "execution_count": 2,
     "metadata": {},
     "output_type": "execute_result"
    }
   ],
   "source": [
    "%proving common_exponent_introduction"
   ]
  },
  {
   "cell_type": "code",
   "execution_count": null,
   "metadata": {},
   "outputs": [],
   "source": []
  }
 ],
 "metadata": {
  "kernelspec": {
   "display_name": "Python 3",
   "language": "python",
   "name": "python3"
  }
 },
 "nbformat": 4,
 "nbformat_minor": 0
}