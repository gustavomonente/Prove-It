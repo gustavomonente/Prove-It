{
 "cells": [
  {
   "cell_type": "markdown",
   "metadata": {},
   "source": [
    "Proof of <a class=\"ProveItLink\" href=\"../../../../../_theory_nbs_/theory.ipynb\">proveit</a>.<a class=\"ProveItLink\" href=\"../../../../_theory_nbs_/theory.ipynb\">numbers</a>.<a class=\"ProveItLink\" href=\"../../theory.ipynb\">divisibility</a>.<a class=\"ProveItLink\" href=\"../../theorems.ipynb#even__if__power_is_even\">even__if__power_is_even</a> theorem\n",
    "========"
   ]
  },
  {
   "cell_type": "code",
   "execution_count": 1,
   "metadata": {},
   "outputs": [],
   "source": [
    "import proveit\n",
    "theory = proveit.Theory() # the theorem's theory"
   ]
  },
  {
   "cell_type": "code",
   "execution_count": 2,
   "metadata": {},
   "outputs": [
    {
     "data": {
      "text/html": [
       "Under these <a href=\"presumptions.txt\">presumptions</a>, we begin our proof of<br><strong id=\"even__if__power_is_even\">even__if__power_is_even:</strong> <a class=\"ProveItLink\" href=\"../../../__pv_it/theorems/d74b5e85fc8bfd36c225d932bb9a400943f0ce5f0/expr.ipynb\"><img src=\"data:image/png;base64,iVBORw0KGgoAAAANSUhEUgAAAKEAAAAXBAMAAACR7DLtAAAAMFBMVEX///8QEBCIiIhmZma6urrM\n",
       "zMxUVFQiIiJERETc3Nzu7u6qqqp2dnaYmJgyMjIAAAAcRTyBAAAAAXRSTlMAQObYZgAAApZJREFU\n",
       "OMutlU1oE0EUx//bZJPsR1IPelARArG1fhyWFqRgAwmiHlSMHhREaQzWk5QcNCj2EBQhUQt70trT\n",
       "Sg+VeEhQehAPhkYv9WsPXiIUcvGgveRQweQS32yy2ew2BFz6IJP/TGZ+M2/eexNgW+wytssEvf39\n",
       "odN/S58aE+tuiS+BpcmHFtGnAp+Y+O2W+AtiEt9iXaJIB1xgZ8+6BAYVeDRwO7pErAIhDZBLLol+\n",
       "FVwavoZFfEHbrBUKz9w6TQtDTfj+WMRQDPiby825JUbaJ20yojA1vofcVYAZID9oVcxoKw+0juq1\n",
       "eaM9V2bEuBqqk8sUmuNGgLbYtSeTE4Ywoiarvhq2xu+e0WZY9oj74KEJUprOjCHdMfFVJYq7WDtk\n",
       "Ef0q3+gQg8fWy+bEnazxKIzoacIfBng6p6z7nTnxeFFDia/qPcSYsNkhSmNI24gRo2a4LIqJNlGo\n",
       "XaShpdGfjBW9EGH3YGwtwyISqElKHJ9NYIbP9notKXhOxGIZ76nnZbvlr1Ou3+abjBjXObVdmKiu\n",
       "2IjkUhbLiWkN6aHvvZG5AhxkxBJmJdWIDN6k2V3wDL54AMOaqBj1FC7biBWmJnCJyk76YhJpUJj7\n",
       "fDRNxEA4mCGvPGzVMF0oVxpKsikpxMHfyeXuQ5Y1QbOIVG+k9mLUduOnKKVbrRYjiqmRp/upm2CT\n",
       "aWFRDfxg63dhiofBPn2VUsYinsEJZMUG5guOKrS/Zlg2BadOn8WCJtRxawUf2YiisBOYRH7j3SNS\n",
       "u/lN3fFSOIirpvCmXkdxvuRN4oiOAD0cwRs3v2YsItdq1UmdPByx527eQXQWi/kEjdE9di3bR/W+\n",
       "uDZiQLX9LKn96nog0fxXGOn0q45awX8TXZnSRw2yf3/pr4CHq4HRAAAAAElFTkSuQmCC\n",
       "\" style=\"display:inline;vertical-align:middle;\" /></a><br>(see <a class=\"ProveItLink\" href=\"../../../__pv_it/theorems/b9d4b76d2e7986f05d06244072a3e80571a7d8cc0/dependencies.ipynb\">dependencies</a>)<br>"
      ],
      "text/plain": [
       "even__if__power_is_even: forall_{a, n in Integer | 2 | a^{n}} (2 | a)"
      ]
     },
     "execution_count": 2,
     "metadata": {},
     "output_type": "execute_result"
    }
   ],
   "source": [
    "%proving even__if__power_is_even"
   ]
  },
  {
   "cell_type": "code",
   "execution_count": null,
   "metadata": {},
   "outputs": [],
   "source": []
  }
 ],
 "metadata": {
  "kernelspec": {
   "display_name": "Python 3",
   "language": "python",
   "name": "python3"
  }
 },
 "nbformat": 4,
 "nbformat_minor": 0
}