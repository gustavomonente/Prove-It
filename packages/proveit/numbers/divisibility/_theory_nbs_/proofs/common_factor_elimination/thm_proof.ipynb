{
 "cells": [
  {
   "cell_type": "markdown",
   "metadata": {},
   "source": [
    "Proof of <a class=\"ProveItLink\" href=\"../../../../../_theory_nbs_/theory.ipynb\">proveit</a>.<a class=\"ProveItLink\" href=\"../../../../_theory_nbs_/theory.ipynb\">numbers</a>.<a class=\"ProveItLink\" href=\"../../theory.ipynb\">divisibility</a>.<a class=\"ProveItLink\" href=\"../../theorems.ipynb#common_factor_elimination\">common_factor_elimination</a> theorem\n",
    "========"
   ]
  },
  {
   "cell_type": "code",
   "execution_count": 1,
   "metadata": {},
   "outputs": [],
   "source": [
    "import proveit\n",
    "theory = proveit.Theory() # the theorem's theory"
   ]
  },
  {
   "cell_type": "code",
   "execution_count": 2,
   "metadata": {},
   "outputs": [
    {
     "data": {
      "text/html": [
       "Under these <a href=\"presumptions.txt\">presumptions</a>, we begin our proof of<br><strong id=\"common_factor_elimination\">common_factor_elimination:</strong> <a class=\"ProveItLink\" href=\"../../../__pv_it/theorems/2e1ed862c5648da02a27c3816d3ef060d42784c00/expr.ipynb\"><img src=\"data:image/png;base64,iVBORw0KGgoAAAANSUhEUgAAAPkAAAAXCAMAAAD+3xlQAAAAOVBMVEX///8oKCgUFBQNDQ0QEBCI\n",
       "iIhmZma6urrMzMxUVFQiIiJERETc3Nzu7u6qqqp2dnaYmJgyMjIAAAArQGDrAAAAAXRSTlMAQObY\n",
       "ZgAAA5RJREFUWMPlWAmO2zAMdFvrpO7/P7a6bzm7CyzQZgUksJMRqaGGpOzr+hGDyuuHDGHGe036\n",
       "OyXCt633xrwNcQnXhrmEm6dbFqhrVf6176MIK67tnlucIxP2W5TwCHgb4gZfe+aubLNG3Va3zf/v\n",
       "Bxd75sQVWcs7BEjLMAR/n/K2UknMdfvDhh8chMH1d6zh2GU+BqRf8oqK2AXWGN2yMrcMIZykrQOG\n",
       "RfuwOifWduZu9AGnZIz0cZ4iA34BZteqt7dYitJFGs17BrlJkdtzsq7VduczW7pI1AT7BJdqt2ik\n",
       "rxScbAiAZpx1CxqqZOwd23nXhUWH3wCzayzOK8A05qpfBZvSXOVcDhHAUJmrmOYuLldF4YcvtGvm\n",
       "tit6slaHSyqNscdLCv43avWeOdXTvGG/WMPvgNm1ZNsVRCmzGo3JxZ0ihOPPHFXm2EYr0RtNUjCJ\n",
       "/TJcF3FSEQaUkMGoEdGIOjBPWUT4U8uFE7C47jrzZClE3fMIc2+1Y35DBSTmsZuT1NkSc2EvmmMr\n",
       "MWK21BXqEGKyyY8iVpIjroQqOpennjkf5032k8jgAKyuOy2OlkjeuuCcm43a0+Yq12q7M1UJJYwg\n",
       "WAqT5NQbK2QRl61OWqNI1FstCEaapSrC0lvqvMl+Sk44AKvrLocLgMVe9Md/TDbG0abCybi5zMZT\n",
       "emJOSvLnCufN4ywk7J3RKipAFeGnJU36XavlTaon5gTWeZ399DccgNU1aRYLIIVGXW3Pp6Kfq2O0\n",
       "wVlsHJE586QhLx/nFHV5akiYJqiQLzjf0RtBShAeQ+7NCkXpE3M2zgstprNPbWW+AxbXtEqsAvpH\n",
       "kpTGbiz6WcnSd28qGCK1q2GkS16UlDYy2xFBKzJLLiipFA8E3nXM6CY/LFHrqwtzCuO8yT6pat8A\n",
       "m2tS3VUAs9b+/uW/rNnX9uPptesTc9314aaOmPD44o35XDOQr/0ee5kGprputD8i0XL6X5kn423e\n",
       "YD814oTfAbPrDJtWUDpaOa/N/fz8xNLu5+MVYUih0KppCDhlWl/5OnQXhtJpr2lOWwt99o21XV7D\n",
       "vN6+FwxptX0FZtcZNq8gdbRMXeuF53ognZhvz221fh2uo+5inu9Gzxw9PvzZhn8C2t0K1KtnjP2b\n",
       "iYfILC9s1usXA443s33TQeAVbFqB/fTbKDTUYvNEyByuP8OcnCeW3gjPwAIb/zf/4psEfBTOtAdy\n",
       "wJ+A6BtfkP0FBOYrEDKpaWkAAAAASUVORK5CYII=\n",
       "\" style=\"display:inline;vertical-align:middle;\" /></a><br>(see <a class=\"ProveItLink\" href=\"../../../__pv_it/theorems/a0f9c035ec5ff46a749277e8f7888962ef0a91320/dependencies.ipynb\">dependencies</a>)<br>"
      ],
      "text/plain": [
       "common_factor_elimination: forall_{a, b, k in Complex | (k * a) | (k * b), k != 0} (a | b)"
      ]
     },
     "execution_count": 2,
     "metadata": {},
     "output_type": "execute_result"
    }
   ],
   "source": [
    "%proving common_factor_elimination"
   ]
  },
  {
   "cell_type": "code",
   "execution_count": null,
   "metadata": {},
   "outputs": [],
   "source": []
  }
 ],
 "metadata": {
  "kernelspec": {
   "display_name": "Python 3",
   "language": "python",
   "name": "python3"
  }
 },
 "nbformat": 4,
 "nbformat_minor": 0
}