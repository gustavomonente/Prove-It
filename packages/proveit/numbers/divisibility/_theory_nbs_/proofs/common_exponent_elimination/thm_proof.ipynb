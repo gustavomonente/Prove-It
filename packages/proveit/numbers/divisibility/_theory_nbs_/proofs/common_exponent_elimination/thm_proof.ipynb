{
 "cells": [
  {
   "cell_type": "markdown",
   "metadata": {},
   "source": [
    "Proof of <a class=\"ProveItLink\" href=\"../../../../../_theory_nbs_/theory.ipynb\">proveit</a>.<a class=\"ProveItLink\" href=\"../../../../_theory_nbs_/theory.ipynb\">numbers</a>.<a class=\"ProveItLink\" href=\"../../theory.ipynb\">divisibility</a>.<a class=\"ProveItLink\" href=\"../../theorems.ipynb#common_exponent_elimination\">common_exponent_elimination</a> theorem\n",
    "========"
   ]
  },
  {
   "cell_type": "code",
   "execution_count": 1,
   "metadata": {},
   "outputs": [],
   "source": [
    "import proveit\n",
    "theory = proveit.Theory() # the theorem's theory"
   ]
  },
  {
   "cell_type": "code",
   "execution_count": 2,
   "metadata": {},
   "outputs": [
    {
     "data": {
      "text/html": [
       "Under these <a href=\"presumptions.txt\">presumptions</a>, we begin our proof of<br><strong id=\"common_exponent_elimination\">common_exponent_elimination:</strong> <a class=\"ProveItLink\" href=\"../../../__pv_it/theorems/fcd445497397ce835696359f43ff09dd03b72ad70/expr.ipynb\"><img src=\"data:image/png;base64,iVBORw0KGgoAAAANSUhEUgAAAPEAAAAYBAMAAADZrgZwAAAAMFBMVEX///8QEBCIiIhmZma6urrM\n",
       "zMxUVFQiIiJERETc3Nzu7u6qqqp2dnaYmJgyMjIAAAAcRTyBAAAAAXRSTlMAQObYZgAAA3lJREFU\n",
       "SMe9llFoHEUYx/+5vc3m9vYu0CKoQbhSEyW1cOReFBK4INgHEa95MFIaGkMbfCghkDa0UMoZXy5G\n",
       "YRHREAldU7AQkVuqCwYSeuRaxChloVKaEmmgSKFQyEMJbUTo981s9nbvSDlSLgN7M/xv9vvNN/Of\n",
       "mQX2tBzDXpdZr77u1Qv0rHPjnwaD9Tz0z0YD5GYT+JMbDxtMThIomQ6QdUp4mupYvsHkW/S02gEy\n",
       "lmkoFmDYDSafp+dDK0j+AUiszM9/12BwjJf496DDkMwCTwqFC7sLWKq3Y4SX+D6W3mFyrLvrVZpm\n",
       "kk4Bk7sjp+vt2OKSp/6LfPM/k3vN5AZNNVnsXWG0A6ndk7Pi148QremokY/iW526S2T9NShk6Dgt\n",
       "gIYIDUnLbu+0l8ufh5P55Mu3MyFBHbuOA4MVstwZHOHW0hpl6PmZ27I00V/KfrnOyhY0GqNKeRuu\n",
       "RlKRnacvZlzNNOYsH/JTuYeMudKJkPKbYSlWOTOWsQNkjnA1r/lk0a6QtaEJQW7Ko5iT5Nj6RyQd\n",
       "4R53FuYRx8Csj0lMzViw1VU3rCyl0gaqc+YIzbmPfbJoV2a7mL2UZXKxhGu8JGz3yZP0U1Y7EJWh\n",
       "0sKzetdIjjzARTEEs6fvIKTiOF/XkjmChsNZJl/u+Fe2Kw67h6JdYrKNkbgpHIZfGP/o16KVlFl9\n",
       "n+PqSu6EJQ91rDpC73WbTKk4xs/Ha8gc4UcsukTWz6pbEG1ZeAt9itYck1tSiXEatsLptbIpNwl3\n",
       "WXSbExkig37oIraeEpMw8wZaLak4KJVryJu57QyhpNXRoCV5aqcQ6bLY20Pt375OJwn3TpA11H1T\n",
       "QH+hUEihtIIZUtvQAfVcoTABw7Bi7Lkh9HqKg1l2Ty5IFhE8cpMdGaw5PUO3JK74p0z+aAzNYnyO\n",
       "iz8o0af4ah7i/fcHYNBdg5fQrUrFQbQvEDfvR/DIRbPlrlV9Y4TJy/4pk+qPwOAkFIUmJ/YFXlEf\n",
       "u7ghHJcm305bsQ2ccaTyN7BWTRYRtnM2T3wQPsTMKrK+XrlAm9t5LYDbw389GFTb8N6hg2QW2g6J\n",
       "4dM3x3HUjg7iLalEL2bl/ATJMoIkR4eu9lR/GYTJ/lC255zXWZS4p7xZmPBado0SJgcSfM7XkDc4\n",
       "rO54JC9UC3Fz5/O7DnL9xa0WEtgj8ovclkp9bz0DxjTzNAYdFBQAAAAASUVORK5CYII=\n",
       "\" style=\"display:inline;vertical-align:middle;\" /></a><br>(see <a class=\"ProveItLink\" href=\"../../../__pv_it/theorems/ff6bea9ecd12a670f137a5a72e3fd220def960090/dependencies.ipynb\">dependencies</a>)<br>"
      ],
      "text/plain": [
       "common_exponent_elimination: forall_{k in Integer, a in Integer, n in NaturalPos | k^{n} | a^{n}} (k | a)"
      ]
     },
     "execution_count": 2,
     "metadata": {},
     "output_type": "execute_result"
    }
   ],
   "source": [
    "%proving common_exponent_elimination"
   ]
  },
  {
   "cell_type": "code",
   "execution_count": null,
   "metadata": {},
   "outputs": [],
   "source": []
  }
 ],
 "metadata": {
  "kernelspec": {
   "display_name": "Python 3",
   "language": "python",
   "name": "python3"
  }
 },
 "nbformat": 4,
 "nbformat_minor": 0
}