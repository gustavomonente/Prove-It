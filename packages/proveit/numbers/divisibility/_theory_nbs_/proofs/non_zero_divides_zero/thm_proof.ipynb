{
 "cells": [
  {
   "cell_type": "markdown",
   "metadata": {},
   "source": [
    "Proof of <a class=\"ProveItLink\" href=\"../../../../../_theory_nbs_/theory.ipynb\">proveit</a>.<a class=\"ProveItLink\" href=\"../../../../_theory_nbs_/theory.ipynb\">numbers</a>.<a class=\"ProveItLink\" href=\"../../theory.ipynb\">divisibility</a>.<a class=\"ProveItLink\" href=\"../../theorems.ipynb#non_zero_divides_zero\">non_zero_divides_zero</a> theorem\n",
    "========"
   ]
  },
  {
   "cell_type": "code",
   "execution_count": 1,
   "metadata": {},
   "outputs": [],
   "source": [
    "import proveit\n",
    "from proveit import defaults\n",
    "from proveit import x, y\n",
    "from proveit.numbers import zero\n",
    "from proveit.numbers.divisibility  import divides_def\n",
    "from proveit.numbers.division import frac_zero_numer\n",
    "from proveit.numbers.number_sets.integers import zero_is_int\n",
    "theory = proveit.Theory() # the theorem's theory"
   ]
  },
  {
   "cell_type": "code",
   "execution_count": 2,
   "metadata": {},
   "outputs": [
    {
     "data": {
      "text/html": [
       "Under these <a href=\"presumptions.txt\">presumptions</a>, we begin our proof of<br><strong id=\"non_zero_divides_zero\">non_zero_divides_zero:</strong> <a class=\"ProveItLink\" href=\"../../../__pv_it/theorems/c26fbba24bdbcad6816f572385df269241b68aef0/expr.ipynb\"><img src=\"data:image/png;base64,iVBORw0KGgoAAAANSUhEUgAAAJEAAAAXCAMAAAA8713UAAAAOVBMVEX///8QEBAoKCgUFBQNDQ2I\n",
       "iIhmZma6urrMzMxUVFQiIiJERETc3Nzu7u6qqqp2dnaYmJgyMjIAAAAMeWbTAAAAAXRSTlMAQObY\n",
       "ZgAAAk9JREFUSMfFlouO7CAIhp09i3e8vf/DHoHW3uzsZJNmSWbSWrGf8INV6i/Novpbi+U0kM3h\n",
       "NkX6r+O+lIeBMKg5UYaSLV04QsppfVyfDmGNc6LaEdDTQ6T4xBU8hoeBilZTovLiyyrR2oVmC9ZD\n",
       "5uOcKDjWUCMOJLqSkSz6p2U9eQETNSYyjSNSeSSQ+fwwESxJQwAXDXB+iAibFiJgRrpxLPMQP1/c\n",
       "vCsofnuGywaDlDL2B8WD8nUhio2nWiEqNGz0qvIbSyE772C3+P1cbVkI3cmdZSQ6zR05d82YOIi0\n",
       "EDFY4tzSH1yaEaasdR9FG/oituZPiCJzeBbDqZm8zIhhCDsdHbNmG48XoTrWakgRyb1Egf+IKHDB\n",
       "NArUK02JyBpclZ1E2UIUq7JLjDNoCyQsszYPY5OV7U+JhoNMXiRBc32ZZo2f20P183JFYmokNCE6\n",
       "2QCgcpWDPmRVsFw0vxENB8cF+91/pb+RFvcwVXZCBU08Jx1SlN1n6SVpnb2yI47+mjC9IRoOwpfU\n",
       "FqPXiSjrte2Eth66copQ9PAlcdP5lNh+ye+3nvccQMVk7T3RcNifpKKjduoRkg90AAh6OdWFCDOM\n",
       "xFe7pmbLMW9cbbWrEbZGcyVaHFyt9d9X/6OQTWvt9hQ5FPipwmLjdFLg8ghM1HydZ/1o57BW/tqe\n",
       "L/3o9qQ9DJxSja6Y3m15c2GUBuZag7OzrO0dpPIXpJz1pDXEn4je9em+quho2nWmnf3Hg/H2i+0N\n",
       "84c2Jaq/+KqFY9GU3wJNicrTn1dvTT+5+H8TzhnnvjAnkgAAAABJRU5ErkJggg==\n",
       "\" style=\"display:inline;vertical-align:middle;\" /></a><br>(see <a class=\"ProveItLink\" href=\"../../../__pv_it/theorems/2b2605a58895fa2efe69852852d8e47b9dddf3620/dependencies.ipynb\">dependencies</a>)<br>"
      ],
      "text/plain": [
       "non_zero_divides_zero: forall_{x in Complex | x != 0} (x | 0)"
      ]
     },
     "execution_count": 2,
     "metadata": {},
     "output_type": "execute_result"
    }
   ],
   "source": [
    "%proving non_zero_divides_zero"
   ]
  },
  {
   "cell_type": "code",
   "execution_count": 3,
   "metadata": {},
   "outputs": [
    {
     "data": {
      "text/html": [
       "<strong id=\"defaults.assumptions\">defaults.assumptions:</strong> <a class=\"ProveItLink\" href=\"../../../../division/__pv_it/theorems/f738593685508dfc461d92eb8212a29046b814bb0/expr.ipynb\"><img src=\"data:image/png;base64,iVBORw0KGgoAAAANSUhEUgAAAHsAAAAUCAMAAACau7LCAAAAOVBMVEX///8kJCQNDQ0oKCjMzMxU\n",
       "VFR2dna6uroQEBCqqqqIiIgiIiJmZmYyMjJERETu7u6YmJjc3NwAAABBIaITAAAAAXRSTlMAQObY\n",
       "ZgAAAdxJREFUSMe1VteSwyAM1N3Rm4D//9ijmIANZpzMhAfHdpBWuyoYACB4+OJiuHgpQ/1F944r\n",
       "ZbWNQjvzcH+wp0CUZyTf0Apuw3NkQqJM0Zron2JTPjzYbKwzHpaQHnvJe4GqehMfWoVRVC8Kd1sV\n",
       "SBe9oe2dTuulmicgjuzRh9iUDA+OllzH7ANTHEHfC+zUuU5Mp4HqfdoQCzbPaUv6c1CmOVM0cMW6\n",
       "T7SXCkUKZE13Nm5MR9pYE8Vj2cYMuNpgyJKkWkEXuJXiQIIBX9KdjZkt6+83X1u8IbIiZ8X2FrR8\n",
       "dSFLieAdcGq9YG6wF8YL2gnbVOwSgtQgag9ked0JjQjbFrwGAWFL3pPx4YKet500J7Fhl1JQ92VS\n",
       "2xOB3lVVXCjiLjrEo87lgX1oXh5OCoGYW8507EsdXoxLvn8O5V42VRtfegy4brUmEVTMI7P7NDMT\n",
       "p1rC+TgqF8bLgTnOllxrzLSec/FyrHRJejzWpcJC6Rzm/FUvS+P0eu7H7BFFVciwTL20rlKojPfn\n",
       "fnb8eggRY0XUppprjbfGpTrmZkyD4EiOJfuZypkbZ+p8FOK9rdxPXdRvniVTY2/+s7g3VatOeL52\n",
       "Q12yvan94NvhfKR+TLsR/so3E99HnaH/AT/FFTYCphTmAAAAAElFTkSuQmCC\n",
       "\" style=\"display:inline;vertical-align:middle;\" /></a><br>"
      ],
      "text/plain": [
       "defaults.assumptions: (x in Complex, x != 0)"
      ]
     },
     "execution_count": 3,
     "metadata": {},
     "output_type": "execute_result"
    }
   ],
   "source": [
    "defaults.assumptions = non_zero_divides_zero.conditions"
   ]
  },
  {
   "cell_type": "code",
   "execution_count": 4,
   "metadata": {},
   "outputs": [
    {
     "data": {
      "text/html": [
       "<span style=\"font-size:20px;\"> <a class=\"ProveItLink\" href=\"../../axioms.ipynb#divides_def\" style=\"text-decoration: none\">&nbsp;&#x22A2;&nbsp;&nbsp;</a><a class=\"ProveItLink\" href=\"../../../__pv_it/axioms/46404eb6709b03d47893726a6b6d4b91883a93730/expr.ipynb\"><img src=\"data:image/png;base64,iVBORw0KGgoAAAANSUhEUgAAANwAAAAmBAMAAABdfejNAAAAMFBMVEX///8QEBCIiIhmZma6urrM\n",
       "zMxUVFQiIiJERETc3Nzu7u6qqqp2dnaYmJgyMjIAAAAcRTyBAAAAAXRSTlMAQObYZgAABCRJREFU\n",
       "WMONWF1IFFEUPurs7uzs7CpR0Q/ZoiQikRZYEGWWkNRDrgQ99JJIRb6ERFJRiBmYCtYKlVKEow8q\n",
       "ErnQU724mQ+hUFsEFfSzFggFhVlCalH3Z2bu7Mzc8R7Yb4a9d+937jn3fPfeBfCw9yBq4ZRHo1LH\n",
       "0MOy08J0W9BwhVHo1lxbD1mQb3s1UTZpHYAq5UEpx+86hvwYrBKeXH8M4E5OGto57d8syDN/nTDd\n",
       "SfTRsqIwx2mnQe72jNaxuCibbwFjjeab9/Tc2/8Z4clFyDgVkJ3H82eRIceCC8J0fSQObSBz3f9k\n",
       "QXfLySyDox5dKwhuhxpu9b2woLuhzOM5GiNM6M+HLl1XEBws2MPNdl+ljmmefPTFMA6Djc7vHDI4\n",
       "nzFLi1VvzJ9u3oB9TwLFKfz86kL3keAXO53ilJrwLPEjrfyytxSXQwRaSCPtAr3YvRYXuh1kpDI7\n",
       "HYw7s9yIMZCSo/aWXQBTKo5jNvEIYQTVnppwoTtPxog76PodPQPEW6mgnM336rlm/NwJwbrD+CW0\n",
       "oGN4cmSkxy27PzGwFpMuUmnvmVtmL7NWUz9krZN8s2Tg7/b2S250RJAK0Weg6MbmKKLTJV8tc9DZ\n",
       "g3ifqdVLujUpfw08AdDhJtCkQxd6SYbPBNKITpf8MMn6s+/YPpOuo/Zya2CjtAxbnMdY5bbY0PIh\n",
       "dBdRYjV1UYojOl3yQ42OkrHTsZXnj+nUfwwMQLabGNBor0QOgtxCcqdLvm/WoeV4peX+w0bafPl4\n",
       "5qSpSkpaVgJGNRUALzo9NxOG5HPorIFhs0vLODxWumD6CK6m8iKkIlIRBDRbMNFwMUpHJV9qZLmb\n",
       "cQ+muTGoCfSzLJxDEkyCHcdRAWqnA2iBq7larZHkOX2phLRS1IzpqOSHHZketa/MbcbLrSD6wVbT\n",
       "eYIPkLs+urPfroZioyvx5wkKYeI63CWzo5Kfk3QUgv2bgBHdTlmDwTcZdaeXzYKuOvXGb1YTjcVC\n",
       "P7A7Reio5Edijr3Dvs0ppw7SE9Oa6fbLP67gNyKnBMM4W75ZH/7iLJjnoWsuIoYlf8ixqmRHeKWn\n",
       "VMSYqi0yxNlW0yr0atAkmevusV2idcl3SrSat+x+T7uYHQdfjU9CbQL2F5uejpEl2sHoqOS7aEJo\n",
       "UfA0E8mMekKJy+aiptJk2V6p5Mtxjt55Gh0sU+1CcX+SnazpOcc8PGzSn29dBmtblm4sztDMJ0jv\n",
       "2JoOL5+RjIOPUtCwb9z78FThdWZfEqYbxXV2D15Hm3k91luQf6sRNHJVmoTn2gFehzyG3JNfTJgP\n",
       "F6vGvZCgoVIMuVdE8evdB8sWyg/UMuFqFaYjZzDuhQSCaxnybUg4mkoTwCN0rCvhDJRg6HEpuSA8\n",
       "vZ64tCTPBjnJ6bKgh90UpgvGlPqSQs5fB0qlif8BmJM0CfLsRSsAAAAASUVORK5CYII=\n",
       "\" style=\"display:inline;vertical-align:middle;\" /></a></span>"
      ],
      "text/plain": [
       "|- forall_{x, y} ((x | y) = ((y / x) in Integer))"
      ]
     },
     "execution_count": 4,
     "metadata": {},
     "output_type": "execute_result"
    }
   ],
   "source": [
    "divides_def"
   ]
  },
  {
   "cell_type": "code",
   "execution_count": 5,
   "metadata": {},
   "outputs": [
    {
     "data": {
      "text/html": [
       "<strong id=\"divides_def_inst\">divides_def_inst:</strong> <span style=\"font-size:20px;\"> <a class=\"ProveItLink\" href=\"../../../__pv_it/_proof_non_zero_divides_zero/e332e81d6c5b2b674d7c336b3c95c5e4617c75870/proof.ipynb\" style=\"text-decoration: none\">&nbsp;&#x22A2;&nbsp;&nbsp;</a><a class=\"ProveItLink\" href=\"../../../__pv_it/_proof_non_zero_divides_zero/038c810375d837af7a9d77c9228e96e0b8b99a4e0/expr.ipynb\"><img src=\"data:image/png;base64,iVBORw0KGgoAAAANSUhEUgAAAJkAAAAyBAMAAAC9qWSkAAAAMFBMVEX////MzMxUVFR2dna6uroQ\n",
       "EBCqqqqIiIgiIiJmZmYyMjJERETu7u6YmJjc3NwAAACgK8IjAAAAAXRSTlMAQObYZgAAAz1JREFU\n",
       "SMetV89rE0EUfml+bbK7Sf6DxFMPYhtQDGqhBRE9iE3Vg5iDuRQ8iA31UAqF5GLVHmQv4knai5ce\n",
       "JHix2qpLRSr20IIIotSG4sGLEBVbhFadmbfJbjKZySz1QXY2zOy389773jdvAVQtOCSbXQZ/dlg6\n",
       "G5rzBRbN0GvuXUow/9EX2ii9xIvGXcG8nvUBZlyk1/cAx6ULFE236PUxwJgt27yiIcgPgOGiYIXm\n",
       "w9U7zJvfBK0kWBH5owxmsqWJnwDpkvSFSqZVGRrZW1ro0KatipYe6uoprJVU0e7hQLIwJsoCxJXL\n",
       "4TwOizJ/oqppCOzhKGEviepeyyPiKDZeqxWNEbkDifU2ybneoRLyTvnkxlNitAXyW/UKGNWInhq3\n",
       "LlwVS9HNX/OXHrIdDZLfIw8a0wiDz82aJQ7C0xTM6Ui4FJiWBw2jnOPpJqZSLAvB4pHGKq3mQUON\n",
       "eM3XPE8yc+H2DEOzYStgNTz46hV+1Ig4dwJscrEPPHEZsKTjfTIDkzRVE32ncwTNqZwgF6Uyl5i3\n",
       "LphZ2sCbZBWek+EVfCjNEDRHI0yahuA8MwQe5KjY596uGk7Gw3MwTYYBsvwcRUONiFTan53l0DyU\n",
       "OdCgVLgCVM5tWoCup4F6+7P9OPxlxsJ2mW4cCWedbMhWHvBw2GlmgaRPiOapSXdvcbrPAQdtmr3q\n",
       "O6KhRoQqbtwyAk/zzbujtIbYX63CsnAtWocpl70mVwyDXE7vN3eZ2SKkyztZOEY839brpPYJGmpE\n",
       "jBPrMsc3rcFn3V4C4xBzPJyBM4RuvVOTG8xT1Ig49+wmx2fj4Fm8OfWssHilwIiUtForC+0NX1l8\n",
       "fxQ6gZXl1YZsa9Wjdaj6daWjiGjDi3a0DoqUtJT6gWKbWrK48mqpKR1HNPNNJY86wf/cQcTqKmj9\n",
       "qo3DLo4r419uiIWzoHoCbmNEs+YtsdOJHX+nc9AO7oZq+z6dYRb3BnpV0jBWVNGGnXwnJZ1LUrmr\n",
       "0RzCpSWHc1m548KkRuwyRO0unY+KXWD+Fl/CN9h/p4pd9PLEygNhxcYtdbTua0dtdbTEiNLniapd\n",
       "7TLfY/lBi2Xk85/8fVH2/s8vSojJv3ZZDv4BOJTeEY/V1sQAAAAASUVORK5CYII=\n",
       "\" style=\"display:inline;vertical-align:middle;\" /></a></span><br>"
      ],
      "text/plain": [
       "divides_def_inst: |- (x | 0) = ((0 / x) in Integer)"
      ]
     },
     "execution_count": 5,
     "metadata": {},
     "output_type": "execute_result"
    }
   ],
   "source": [
    "divides_def_inst = divides_def.instantiate({x:x, y:zero})"
   ]
  },
  {
   "cell_type": "code",
   "execution_count": 6,
   "metadata": {},
   "outputs": [
    {
     "data": {
      "text/html": [
       "<span style=\"font-size:20px;\"> <a class=\"ProveItLink\" href=\"../../../../division/_theory_nbs_/proofs/frac_zero_numer/thm_proof.ipynb\" style=\"text-decoration: none\">&nbsp;&#x22A2;&nbsp;&nbsp;</a><a class=\"ProveItLink\" href=\"../../../../division/__pv_it/theorems/598aca81d2ac08428354401c2d0b6cc8f08e1c260/expr.ipynb\"><img src=\"data:image/png;base64,iVBORw0KGgoAAAANSUhEUgAAALgAAAAyCAMAAADYxuFLAAAAOVBMVEX///8QEBAoKCgUFBQNDQ2I\n",
       "iIhmZma6urrMzMxUVFQiIiJERETc3Nzu7u6qqqp2dnaYmJgyMjIAAAAMeWbTAAAAAXRSTlMAQObY\n",
       "ZgAAA1hJREFUaN7NWoly4yAMxdsFc4rj/z92OWKMDU0DSWGZScfTWOYhpKeHHIRWDL2P2SmGlg6t\n",
       "Ry13uxI3zn7T2GjaZWsWIoftuLLgd5/LLmuhV+FW2xHgJq5A20Hz2UOQfBVDBpwa3LDJgXLidBH4\n",
       "7qDvCXxNsPDscOVIAo57ly4X4DbnrNJF19Fe4MXaZzpcoBM4ScB19+LVdNzUnZwwGireEE8HTkpK\n",
       "cA9Wgd6n2PlVaCvFhhCDG4+npyd1pozVkQKUssPMVilXV/FQ8jf65sZNqZrXqqc0xoyOPIf7QD93\n",
       "7vf9v4lRIXyVkdr5T85p++vs+CDA/nGXkcZRJA8nSDEhN8cIuMri+KDD0Rp+HfgAZbdlZNw6o1UY\n",
       "ks8QKnTIrpaR8T9OhDFDLA4WjoY2cCGuEyGJCcVI/1gktS0G+V5GbiHe93CD6qlfTw9PERvWuLGD\n",
       "ZEzWNWTkFgM7/MFPSByEZpwVhPCMf0jYP+OngLq6MVcGbjG6Q4UnnjEJ/O120IT4bxQV3k/U6peA\n",
       "ywiXhz2p3csceiM5S05KwKVFtHKPESBVmNrICBleAx4W6V0U3L5Bf6hcYpx9LyN5crSQbD9KK6FR\n",
       "PuxHZuwUEofJNvBske5+pFG4mZs6OccYoJaRW7oG8ogUrBCzcaPzTUaZarYCeLZgkVT/+o/xwINv\n",
       "OK7pcIzHaxl5yMMj7P1XNvpJZVEBCp4BzxYJGaDT4xuuC9Bos/MuIw/RY87oSbtJeXSgwEgCpU+A\n",
       "Z4v4fHHQQDCpUYL7UBdK1Qds6qIX0ZmsROGTnxvAHxbMZ9PXn5BT5ltWoZ86udzVmnQxA8JqTvUr\n",
       "SbzWTR4vLA4qjCFDmjyO3Ic6Ine1ppjZfcmLnhJwBpi14hJhommRqPCBXOsWRv6h4/lTesIpxptk\n",
       "3XbDzzKNuM8AH61kbeAvePPailCeKuSOdf/pYvQI2DQz8EpSQclx3siTfX/8yNFW1niKlX2FkBlB\n",
       "6O7d5XR+Q+gS5CqrkJHuxOSx30rQ2J4vaHreett0SLzgBW3mkldAeQhJp/3nDbg0q85RA0h44LJX\n",
       "Bqx5lXJ2RxTDWGHS3/izK96kfGBe2NQa4HKj75ive0GL4C0WZgQtG+QNVjACLRxsuICs/dmH9/nw\n",
       "D21yYv4Drwolfn6CszUAAAAASUVORK5CYII=\n",
       "\" style=\"display:inline;vertical-align:middle;\" /></a></span>"
      ],
      "text/plain": [
       "|- forall_{x in Complex | x != 0} ((0 / x) = 0)"
      ]
     },
     "execution_count": 6,
     "metadata": {},
     "output_type": "execute_result"
    }
   ],
   "source": [
    "frac_zero_numer"
   ]
  },
  {
   "cell_type": "code",
   "execution_count": 7,
   "metadata": {},
   "outputs": [
    {
     "data": {
      "text/html": [
       "<strong id=\"frac_zero_numer_inst\">frac_zero_numer_inst:</strong> <span style=\"font-size:20px;\"><a class=\"ProveItLink\" href=\"../../../../division/__pv_it/theorems/e99df808d7f7f716b0c7d8c3fb6eb50e7ecca4120/expr.ipynb\"><img src=\"data:image/png;base64,iVBORw0KGgoAAAANSUhEUgAAADQAAAAPBAMAAABZ6/G2AAAAMFBMVEX///8QEBBmZmaqqqrMzMxE\n",
       "REQyMjIiIiKYmJh2dna6urrc3NxUVFSIiIju7u4AAAA6P00QAAAAAXRSTlMAQObYZgAAAM1JREFU\n",
       "GNNjYMAGrpV9LFXAKuPymeHRD6xSHDwXGBj6UaRay8sTQHQL4wMGBh5kKdd7UIbCViDBB9T59s6u\n",
       "mxdA7DyoDN8BJyhjAkctO8gcng1QKe4JayEMzgec/7hAoqwwg7kVoFJ8DKwBYIZjGhCAtPMFeMJU\n",
       "8V8AU1vh7snjgbH8HcAUI1yqCSz1gIH5wX0GXqA/GJguwKRYbwGZXAkM6w3iGXaARYrh2tQiHzwO\n",
       "fcDw5u5bjQawwJuoB1ApFjX5IgeUsFsZDgkoKAAA9fQ1vValRIIAAAAASUVORK5CYII=\n",
       "\" style=\"display:inline;vertical-align:middle;\" /></a>, <a class=\"ProveItLink\" href=\"../../../../division/__pv_it/theorems/fc754fd89b63e925ce60299eafbc02e90d2050f80/expr.ipynb\"><img src=\"data:image/png;base64,iVBORw0KGgoAAAANSUhEUgAAADEAAAAUCAMAAAATIyWrAAAAOVBMVEX///8QEBAkJCQNDQ0oKChm\n",
       "ZmaqqqrMzMxEREQyMjIiIiKYmJh2dna6urrc3NxUVFSIiIju7u4AAACrOLOkAAAAAXRSTlMAQObY\n",
       "ZgAAANlJREFUKM+1kssWwiAMRFMVCiVAwv9/rAlYpa2iXZgFPTn0MpMHwCiQ4Vwkv8Ep4PyFyLFL\n",
       "vAXgJY0lXJeEqer4sUTvwWU9beFfJaBUIhbxBkyUUySkHeF6CS6mEfIXo5hcCJbVIvoat6ueZhUs\n",
       "qJ9ZCe05ir2YBhJCmEYIqKU4d6hizpu0d1XLogPhdpLl0Svb3iu9g1rHZWrVPJWajaDdtQxUJKFN\n",
       "p/1+uK8JaoedECn099EcbC66JZOY4UzEZMIGAH8cLaPM7eMmWnNyy99JjMPi3yUgji7vUJEIvLuq\n",
       "lhYAAAAASUVORK5CYII=\n",
       "\" style=\"display:inline;vertical-align:middle;\" /></a> <a class=\"ProveItLink\" href=\"../../../__pv_it/_proof_non_zero_divides_zero/5210600a4e47375ef1c5e0dfd76b9c8c95988c010/proof.ipynb\" style=\"text-decoration: none\">&nbsp;&#x22A2;&nbsp;&nbsp;</a><a class=\"ProveItLink\" href=\"../../../../division/__pv_it/theorems/71a749fb0a2479987dbd7f6c3d9cfde7fe05d25d0/expr.ipynb\"><img src=\"data:image/png;base64,iVBORw0KGgoAAAANSUhEUgAAADQAAAAqBAMAAAAOimUzAAAAMFBMVEX///9mZma6urpUVFREREQQ\n",
       "EBDc3NwiIiLu7u6qqqoyMjLMzMyYmJiIiIh2dnYAAADXmt2vAAAAAXRSTlMAQObYZgAAAK5JREFU\n",
       "OMtjYOC785oBB1jJ0J6AXYYngIFvAXYpFgMGzh/YpfgNGJh+YpfqF2Bg+otdKv8BAzcuKQEG7n8k\n",
       "Gwh0BicOZ7A4MPD8INnLDJUMrRtwSPXdtWYgBQzO6OBbBQYCxETHfzAgPzqgdhkMiuigKei9nHTv\n",
       "AlYZjgc8tezYvcfXwPeDCXs64AAFGC7AfwGn1H5cocXZcJ+BtwGrlP4Ef4Yc7Lqa7/bKHMAqAwCv\n",
       "0khfOLhEogAAAABJRU5ErkJggg==\n",
       "\" style=\"display:inline;vertical-align:middle;\" /></a></span><br>"
      ],
      "text/plain": [
       "frac_zero_numer_inst: {x in Complex, x != 0} |- (0 / x) = 0"
      ]
     },
     "execution_count": 7,
     "metadata": {},
     "output_type": "execute_result"
    }
   ],
   "source": [
    "frac_zero_numer_inst = frac_zero_numer.instantiate({x:x})"
   ]
  },
  {
   "cell_type": "code",
   "execution_count": 8,
   "metadata": {},
   "outputs": [
    {
     "data": {
      "text/html": [
       "<span style=\"font-size:20px;\"> <a class=\"ProveItLink\" href=\"../../../../number_sets/integers/_theory_nbs_/proofs/zero_is_int/thm_proof.ipynb\" style=\"text-decoration: none\">&nbsp;&#x22A2;&nbsp;&nbsp;</a><a class=\"ProveItLink\" href=\"../../../../number_sets/integers/__pv_it/theorems/c54a85a7fba1cb8b9a29fbc9775ebd553c5430430/expr.ipynb\"><img src=\"data:image/png;base64,iVBORw0KGgoAAAANSUhEUgAAADIAAAAPBAMAAABU9YHxAAAAMFBMVEX///9mZma6urpUVFREREQQ\n",
       "EBDc3NwiIiLu7u6qqqoyMjLMzMyYmJiIiIh2dnYAAADXmt2vAAAAAXRSTlMAQObYZgAAAONJREFU\n",
       "GNNjYOC785oBBTCVfl0VvvQAA8NKhvYEFBlexw0MC1gYGHgCGPgWoMgwPmDgm/CIgYHFgIHzB1iE\n",
       "x728CizTwJDMLcDAwG/AwPQTJMDt2wDX5sECZPcLMDD9BfG6EBI8F84AyfwHDNxgGTOETS0cDiAZ\n",
       "AQbufyCuA0LGmhnkWphp3FGrgADiIQE9EAV0ASfIBWwIPVwg/S8YWBwYeMCuDoDLvORTAHHhPpWF\n",
       "SbAZJAM9BVRYydC6ASTAPgEqw9LgwcBhAzSw7641WIDDRAMio+oV4hIfIoAcxk8goQMFAJt1Mp5H\n",
       "5qSTAAAAAElFTkSuQmCC\n",
       "\" style=\"display:inline;vertical-align:middle;\" /></a></span>"
      ],
      "text/plain": [
       "|- 0 in Integer"
      ]
     },
     "execution_count": 8,
     "metadata": {},
     "output_type": "execute_result"
    }
   ],
   "source": [
    "zero_is_int"
   ]
  },
  {
   "cell_type": "code",
   "execution_count": 9,
   "metadata": {},
   "outputs": [
    {
     "data": {
      "text/html": [
       "<strong id=\"zero_over_x_in_z\">zero_over_x_in_z:</strong> <span style=\"font-size:20px;\"><a class=\"ProveItLink\" href=\"../../../../division/__pv_it/theorems/e99df808d7f7f716b0c7d8c3fb6eb50e7ecca4120/expr.ipynb\"><img src=\"data:image/png;base64,iVBORw0KGgoAAAANSUhEUgAAADQAAAAPBAMAAABZ6/G2AAAAMFBMVEX///8QEBBmZmaqqqrMzMxE\n",
       "REQyMjIiIiKYmJh2dna6urrc3NxUVFSIiIju7u4AAAA6P00QAAAAAXRSTlMAQObYZgAAAM1JREFU\n",
       "GNNjYMAGrpV9LFXAKuPymeHRD6xSHDwXGBj6UaRay8sTQHQL4wMGBh5kKdd7UIbCViDBB9T59s6u\n",
       "mxdA7DyoDN8BJyhjAkctO8gcng1QKe4JayEMzgec/7hAoqwwg7kVoFJ8DKwBYIZjGhCAtPMFeMJU\n",
       "8V8AU1vh7snjgbH8HcAUI1yqCSz1gIH5wX0GXqA/GJguwKRYbwGZXAkM6w3iGXaARYrh2tQiHzwO\n",
       "fcDw5u5bjQawwJuoB1ApFjX5IgeUsFsZDgkoKAAA9fQ1vValRIIAAAAASUVORK5CYII=\n",
       "\" style=\"display:inline;vertical-align:middle;\" /></a>, <a class=\"ProveItLink\" href=\"../../../../division/__pv_it/theorems/fc754fd89b63e925ce60299eafbc02e90d2050f80/expr.ipynb\"><img src=\"data:image/png;base64,iVBORw0KGgoAAAANSUhEUgAAADEAAAAUCAMAAAATIyWrAAAAOVBMVEX///8QEBAkJCQNDQ0oKChm\n",
       "ZmaqqqrMzMxEREQyMjIiIiKYmJh2dna6urrc3NxUVFSIiIju7u4AAACrOLOkAAAAAXRSTlMAQObY\n",
       "ZgAAANlJREFUKM+1kssWwiAMRFMVCiVAwv9/rAlYpa2iXZgFPTn0MpMHwCiQ4Vwkv8Ep4PyFyLFL\n",
       "vAXgJY0lXJeEqer4sUTvwWU9beFfJaBUIhbxBkyUUySkHeF6CS6mEfIXo5hcCJbVIvoat6ueZhUs\n",
       "qJ9ZCe05ir2YBhJCmEYIqKU4d6hizpu0d1XLogPhdpLl0Svb3iu9g1rHZWrVPJWajaDdtQxUJKFN\n",
       "p/1+uK8JaoedECn099EcbC66JZOY4UzEZMIGAH8cLaPM7eMmWnNyy99JjMPi3yUgji7vUJEIvLuq\n",
       "lhYAAAAASUVORK5CYII=\n",
       "\" style=\"display:inline;vertical-align:middle;\" /></a> <a class=\"ProveItLink\" href=\"../../../__pv_it/_proof_non_zero_divides_zero/919c62187278cf549dc48187be2a21c9ec15157d0/proof.ipynb\" style=\"text-decoration: none\">&nbsp;&#x22A2;&nbsp;&nbsp;</a><a class=\"ProveItLink\" href=\"../../../__pv_it/_proof_non_zero_divides_zero/b88a03c57370d53d2a35c1c90badcbadb91598600/expr.ipynb\"><img src=\"data:image/png;base64,iVBORw0KGgoAAAANSUhEUgAAADYAAAAqBAMAAAAKf7UOAAAAMFBMVEX///9mZma6urpUVFREREQQ\n",
       "EBDc3NwiIiLu7u6qqqoyMjLMzMyYmJiIiIh2dnYAAADXmt2vAAAAAXRSTlMAQObYZgAAASpJREFU\n",
       "OMtjYGB4e24DAw7ANYGjDJfcUQaGV7jknBkY5jfgkPvMwKA/AbsUx0eg3AXscmz/GBj245ID6tv/\n",
       "gHQzQW6Zj8MtDC4MDOcbyPA7+wSOaFxyHG8v4wxrLICp9Ouq8KUHsMrxOm5gWMCCXR/jAwa+CY9Q\n",
       "xXjcy6vAcg0MydwCKFLcvgh/erCg+rkLweW5cAbVSDMEs4XDAVUOiWvNnAAk/4MB2LqoVUAA8aCA\n",
       "HlpMIvRxgcx4gSwZAGe95FNA5gKBLNwEg2SgJwNQYwTKYGnwYOCwQXEph4kGhKHqFeISH4IaMExP\n",
       "IGE2YKD3ctI9HGmX4wFPLfsC7HJ8DXw/mBJw6GNgccBtIf8F3HL7cSZdzob7DLw48or+BH+GHBz6\n",
       "mu/2ymBP3QwAKDpOPbLXy4kAAAAASUVORK5CYII=\n",
       "\" style=\"display:inline;vertical-align:middle;\" /></a></span><br>"
      ],
      "text/plain": [
       "zero_over_x_in_z: {x in Complex, x != 0} |- (0 / x) in Integer"
      ]
     },
     "execution_count": 9,
     "metadata": {},
     "output_type": "execute_result"
    }
   ],
   "source": [
    "zero_over_x_in_z = frac_zero_numer_inst.sub_left_side_into(zero_is_int)"
   ]
  },
  {
   "cell_type": "code",
   "execution_count": 10,
   "metadata": {},
   "outputs": [
    {
     "data": {
      "text/html": [
       "<span style=\"font-size:20px;\"><a class=\"ProveItLink\" href=\"../../../../division/__pv_it/theorems/e99df808d7f7f716b0c7d8c3fb6eb50e7ecca4120/expr.ipynb\"><img src=\"data:image/png;base64,iVBORw0KGgoAAAANSUhEUgAAADQAAAAPBAMAAABZ6/G2AAAAMFBMVEX///8QEBBmZmaqqqrMzMxE\n",
       "REQyMjIiIiKYmJh2dna6urrc3NxUVFSIiIju7u4AAAA6P00QAAAAAXRSTlMAQObYZgAAAM1JREFU\n",
       "GNNjYMAGrpV9LFXAKuPymeHRD6xSHDwXGBj6UaRay8sTQHQL4wMGBh5kKdd7UIbCViDBB9T59s6u\n",
       "mxdA7DyoDN8BJyhjAkctO8gcng1QKe4JayEMzgec/7hAoqwwg7kVoFJ8DKwBYIZjGhCAtPMFeMJU\n",
       "8V8AU1vh7snjgbH8HcAUI1yqCSz1gIH5wX0GXqA/GJguwKRYbwGZXAkM6w3iGXaARYrh2tQiHzwO\n",
       "fcDw5u5bjQawwJuoB1ApFjX5IgeUsFsZDgkoKAAA9fQ1vValRIIAAAAASUVORK5CYII=\n",
       "\" style=\"display:inline;vertical-align:middle;\" /></a>, <a class=\"ProveItLink\" href=\"../../../../division/__pv_it/theorems/fc754fd89b63e925ce60299eafbc02e90d2050f80/expr.ipynb\"><img src=\"data:image/png;base64,iVBORw0KGgoAAAANSUhEUgAAADEAAAAUCAMAAAATIyWrAAAAOVBMVEX///8QEBAkJCQNDQ0oKChm\n",
       "ZmaqqqrMzMxEREQyMjIiIiKYmJh2dna6urrc3NxUVFSIiIju7u4AAACrOLOkAAAAAXRSTlMAQObY\n",
       "ZgAAANlJREFUKM+1kssWwiAMRFMVCiVAwv9/rAlYpa2iXZgFPTn0MpMHwCiQ4Vwkv8Ep4PyFyLFL\n",
       "vAXgJY0lXJeEqer4sUTvwWU9beFfJaBUIhbxBkyUUySkHeF6CS6mEfIXo5hcCJbVIvoat6ueZhUs\n",
       "qJ9ZCe05ir2YBhJCmEYIqKU4d6hizpu0d1XLogPhdpLl0Svb3iu9g1rHZWrVPJWajaDdtQxUJKFN\n",
       "p/1+uK8JaoedECn099EcbC66JZOY4UzEZMIGAH8cLaPM7eMmWnNyy99JjMPi3yUgji7vUJEIvLuq\n",
       "lhYAAAAASUVORK5CYII=\n",
       "\" style=\"display:inline;vertical-align:middle;\" /></a> <a class=\"ProveItLink\" href=\"../../../__pv_it/_proof_non_zero_divides_zero/ec121fc3533e597c75f854a9ccbed750f60c15d00/proof.ipynb\" style=\"text-decoration: none\">&nbsp;&#x22A2;&nbsp;&nbsp;</a><a class=\"ProveItLink\" href=\"../../../__pv_it/theorems/354541093b719cf79b11acfa01a5206eb87aa6fd0/expr.ipynb\"><img src=\"data:image/png;base64,iVBORw0KGgoAAAANSUhEUgAAABwAAAAVBAMAAACnLJNvAAAAMFBMVEX///8QEBBmZmaqqqrMzMxE\n",
       "REQyMjIiIiKYmJh2dna6urrc3NxUVFSIiIju7u4AAAA6P00QAAAAAXRSTlMAQObYZgAAAJ5JREFU\n",
       "GNNjYIAAPwYUMAuDy3ljCjI3meH5BgSXQ4CBMwHBZT3AwPwPweU/wMD1mYHh7Z1dNy8Aue8VGLj+\n",
       "MvBN4KhlTwBy909gYPnLwPmA8x/XBhBXgYHlJwMfA2sAWC9EMQMD/wWYUcxAoxj8HSAWBTBw/GNg\n",
       "fnCfgfcB3BnrDeIZdoAdWczw0IHhzd23Gg1g7su7R/B4kHjuFQgFAOOwNl56f7ILAAAAAElFTkSu\n",
       "QmCC\n",
       "\" style=\"display:inline;vertical-align:middle;\" /></a></span>"
      ],
      "text/plain": [
       "{x in Complex, x != 0} |- x | 0"
      ]
     },
     "execution_count": 10,
     "metadata": {},
     "output_type": "execute_result"
    }
   ],
   "source": [
    "divides_def_inst.sub_left_side_into(zero_over_x_in_z)"
   ]
  },
  {
   "cell_type": "code",
   "execution_count": 11,
   "metadata": {},
   "outputs": [
    {
     "data": {
      "text/html": [
       "<table><tr><th>&nbsp;</th><th>step type</th><th>requirements</th><th>statement</th></tr>\n",
       "<tr><td><a name=\"-0x661a6b2e06d1cfd4_step0\">0</a></td><td>generalizaton</td><td><a href=\"#-0x661a6b2e06d1cfd4_step1\">1</a></td><td><span style=\"font-size:20px;\"> <a class=\"ProveItLink\" href=\"../../../__pv_it/_proof_non_zero_divides_zero/82350bde45c92ded3d47bba899f20100852536b70/proof.ipynb\" style=\"text-decoration: none\">&nbsp;&#x22A2;&nbsp;&nbsp;</a><a class=\"ProveItLink\" href=\"../../../__pv_it/theorems/c26fbba24bdbcad6816f572385df269241b68aef0/expr.ipynb\"><img src=\"data:image/png;base64,iVBORw0KGgoAAAANSUhEUgAAAJEAAAAXCAMAAAA8713UAAAAOVBMVEX///8QEBAoKCgUFBQNDQ2I\n",
       "iIhmZma6urrMzMxUVFQiIiJERETc3Nzu7u6qqqp2dnaYmJgyMjIAAAAMeWbTAAAAAXRSTlMAQObY\n",
       "ZgAAAk9JREFUSMfFlouO7CAIhp09i3e8vf/DHoHW3uzsZJNmSWbSWrGf8INV6i/Novpbi+U0kM3h\n",
       "NkX6r+O+lIeBMKg5UYaSLV04QsppfVyfDmGNc6LaEdDTQ6T4xBU8hoeBilZTovLiyyrR2oVmC9ZD\n",
       "5uOcKDjWUCMOJLqSkSz6p2U9eQETNSYyjSNSeSSQ+fwwESxJQwAXDXB+iAibFiJgRrpxLPMQP1/c\n",
       "vCsofnuGywaDlDL2B8WD8nUhio2nWiEqNGz0qvIbSyE772C3+P1cbVkI3cmdZSQ6zR05d82YOIi0\n",
       "EDFY4tzSH1yaEaasdR9FG/oituZPiCJzeBbDqZm8zIhhCDsdHbNmG48XoTrWakgRyb1Egf+IKHDB\n",
       "NArUK02JyBpclZ1E2UIUq7JLjDNoCyQsszYPY5OV7U+JhoNMXiRBc32ZZo2f20P183JFYmokNCE6\n",
       "2QCgcpWDPmRVsFw0vxENB8cF+91/pb+RFvcwVXZCBU08Jx1SlN1n6SVpnb2yI47+mjC9IRoOwpfU\n",
       "FqPXiSjrte2Eth66copQ9PAlcdP5lNh+ye+3nvccQMVk7T3RcNifpKKjduoRkg90AAh6OdWFCDOM\n",
       "xFe7pmbLMW9cbbWrEbZGcyVaHFyt9d9X/6OQTWvt9hQ5FPipwmLjdFLg8ghM1HydZ/1o57BW/tqe\n",
       "L/3o9qQ9DJxSja6Y3m15c2GUBuZag7OzrO0dpPIXpJz1pDXEn4je9em+quho2nWmnf3Hg/H2i+0N\n",
       "84c2Jaq/+KqFY9GU3wJNicrTn1dvTT+5+H8TzhnnvjAnkgAAAABJRU5ErkJggg==\n",
       "\" style=\"display:inline;vertical-align:middle;\" /></a></span></td></tr>\n",
       "<tr><td><a name=\"-0x661a6b2e06d1cfd4_step1\">1</a></td><td>instantiation</td><td><a href=\"#-0x661a6b2e06d1cfd4_step4\">4</a>, <a href=\"#-0x661a6b2e06d1cfd4_step2\">2</a>, <a href=\"#-0x661a6b2e06d1cfd4_step3\">3</a></td><td><span style=\"font-size:20px;\"><a class=\"ProveItLink\" href=\"../../../../division/__pv_it/theorems/e99df808d7f7f716b0c7d8c3fb6eb50e7ecca4120/expr.ipynb\"><img src=\"data:image/png;base64,iVBORw0KGgoAAAANSUhEUgAAADQAAAAPBAMAAABZ6/G2AAAAMFBMVEX///8QEBBmZmaqqqrMzMxE\n",
       "REQyMjIiIiKYmJh2dna6urrc3NxUVFSIiIju7u4AAAA6P00QAAAAAXRSTlMAQObYZgAAAM1JREFU\n",
       "GNNjYMAGrpV9LFXAKuPymeHRD6xSHDwXGBj6UaRay8sTQHQL4wMGBh5kKdd7UIbCViDBB9T59s6u\n",
       "mxdA7DyoDN8BJyhjAkctO8gcng1QKe4JayEMzgec/7hAoqwwg7kVoFJ8DKwBYIZjGhCAtPMFeMJU\n",
       "8V8AU1vh7snjgbH8HcAUI1yqCSz1gIH5wX0GXqA/GJguwKRYbwGZXAkM6w3iGXaARYrh2tQiHzwO\n",
       "fcDw5u5bjQawwJuoB1ApFjX5IgeUsFsZDgkoKAAA9fQ1vValRIIAAAAASUVORK5CYII=\n",
       "\" style=\"display:inline;vertical-align:middle;\" /></a>, <a class=\"ProveItLink\" href=\"../../../../division/__pv_it/theorems/fc754fd89b63e925ce60299eafbc02e90d2050f80/expr.ipynb\"><img src=\"data:image/png;base64,iVBORw0KGgoAAAANSUhEUgAAADEAAAAUCAMAAAATIyWrAAAAOVBMVEX///8QEBAkJCQNDQ0oKChm\n",
       "ZmaqqqrMzMxEREQyMjIiIiKYmJh2dna6urrc3NxUVFSIiIju7u4AAACrOLOkAAAAAXRSTlMAQObY\n",
       "ZgAAANlJREFUKM+1kssWwiAMRFMVCiVAwv9/rAlYpa2iXZgFPTn0MpMHwCiQ4Vwkv8Ep4PyFyLFL\n",
       "vAXgJY0lXJeEqer4sUTvwWU9beFfJaBUIhbxBkyUUySkHeF6CS6mEfIXo5hcCJbVIvoat6ueZhUs\n",
       "qJ9ZCe05ir2YBhJCmEYIqKU4d6hizpu0d1XLogPhdpLl0Svb3iu9g1rHZWrVPJWajaDdtQxUJKFN\n",
       "p/1+uK8JaoedECn099EcbC66JZOY4UzEZMIGAH8cLaPM7eMmWnNyy99JjMPi3yUgji7vUJEIvLuq\n",
       "lhYAAAAASUVORK5CYII=\n",
       "\" style=\"display:inline;vertical-align:middle;\" /></a> <a class=\"ProveItLink\" href=\"../../../__pv_it/_proof_non_zero_divides_zero/ec121fc3533e597c75f854a9ccbed750f60c15d00/proof.ipynb\" style=\"text-decoration: none\">&nbsp;&#x22A2;&nbsp;&nbsp;</a><a class=\"ProveItLink\" href=\"../../../__pv_it/theorems/354541093b719cf79b11acfa01a5206eb87aa6fd0/expr.ipynb\"><img src=\"data:image/png;base64,iVBORw0KGgoAAAANSUhEUgAAABwAAAAVBAMAAACnLJNvAAAAMFBMVEX///8QEBBmZmaqqqrMzMxE\n",
       "REQyMjIiIiKYmJh2dna6urrc3NxUVFSIiIju7u4AAAA6P00QAAAAAXRSTlMAQObYZgAAAJ5JREFU\n",
       "GNNjYIAAPwYUMAuDy3ljCjI3meH5BgSXQ4CBMwHBZT3AwPwPweU/wMD1mYHh7Z1dNy8Aue8VGLj+\n",
       "MvBN4KhlTwBy909gYPnLwPmA8x/XBhBXgYHlJwMfA2sAWC9EMQMD/wWYUcxAoxj8HSAWBTBw/GNg\n",
       "fnCfgfcB3BnrDeIZdoAdWczw0IHhzd23Gg1g7su7R/B4kHjuFQgFAOOwNl56f7ILAAAAAElFTkSu\n",
       "QmCC\n",
       "\" style=\"display:inline;vertical-align:middle;\" /></a></span></td></tr>\n",
       "<tr><td>&nbsp;</td><td colspan=4 style=\"text-align:left\"><span style=\"font-size:20px;\"><a class=\"ProveItLink\" href=\"../../../__pv_it/_proof_non_zero_divides_zero/6b3a11bcfb6b260a119649cb9ebfc0e2d8e305090/expr.ipynb\"><img src=\"data:image/png;base64,iVBORw0KGgoAAAANSUhEUgAAADcAAAAUBAMAAADbzbjtAAAAMFBMVEX///8iIiLc3Ny6urqIiIiq\n",
       "qqp2dnbMzMwQEBDu7u5mZmYyMjJERERUVFSYmJgAAAA4CJ/KAAAAAXRSTlMAQObYZgAAAQ1JREFU\n",
       "KM9jYIADpgcMyCAITL79f/burgkMDHNQ5Bh4FcDUbwYGnk4Ghk2okpwbQCT7NwYG1i8MfAtQJRlS\n",
       "QATLZyD+xsCogCY5A0TwfABa8JlBEU2OgdsASPADDddfwOCF5O5lS4BuYAPZU5/AwCrGwHAOIWmh\n",
       "wA00jQ/kIv9raUuAPhFFuLOPgesA0JECQPb5CWChZrgk108GRgegL4C6GT4yoElyHGCYXwCRZP8F\n",
       "EUIYOz+BIR5IMQtAvAkCCAfND2C4zaoAdhD3T4hQFlySx4FPlg1odQID1/6/DmAhQ6BBZ4DgJAPn\n",
       "FXddZ6CuAoTnMIJvIhIbe8DDwCFsUQYDaJHNg2INWjJ5xMAAAHA6PhPQZp1jAAAAAElFTkSuQmCC\n",
       "\" style=\"display:inline;vertical-align:middle;\" /></a> : <a class=\"ProveItLink\" href=\"../../../__pv_it/_proof_non_zero_divides_zero/9e6d9d5d7eeb0342cf5bca68def0eb165a1a9bb10/expr.ipynb\"><img src=\"data:image/png;base64,iVBORw0KGgoAAAANSUhEUgAAABgAAAAJBAMAAADa0/H1AAAAMFBMVEX///9UVFSqqqrMzMwiIiKY\n",
       "mJgyMjIQEBCIiIh2dnZmZmbc3Nzu7u5ERES6uroAAACFTSmKAAAAAXRSTlMAQObYZgAAAElJREFU\n",
       "CNdjYICCXbPaD8DYfNUM+TA2w/EAhrVwzvoDDB5wTi0Dz2cYm+cnA9MHOOcTA2OCNox3gyFEYALD\n",
       "27tAcIDhYIe1xAMAoVgVdfU81nAAAAAASUVORK5CYII=\n",
       "\" style=\"display:inline;vertical-align:middle;\" /></a>, <a class=\"ProveItLink\" href=\"../../../../../__pv_it/common/a2581dc5df71d9a30bad37de14965fa5fec97a240/expr.ipynb\"><img src=\"data:image/png;base64,iVBORw0KGgoAAAANSUhEUgAAAAsAAAAJBAMAAAAWSsseAAAALVBMVEX///9mZmaqqqrMzMxEREQy\n",
       "MjIiIiKYmJh2dna6urrc3NxUVFSIiIju7u4AAACJHQtQAAAAAXRSTlMAQObYZgAAAEJJREFUCNdj\n",
       "YLhzeuWJAwy8Dew5bAEMHBc43nIuYOBlYHFgAAG+A2DKzgBIMF04x8BzgWGegh/DcgaG22fuiBcw\n",
       "AAATyhBrnyPYZQAAAABJRU5ErkJggg==\n",
       "\" style=\"display:inline;vertical-align:middle;\" /></a> : <a class=\"ProveItLink\" href=\"../../../__pv_it/theorems/354541093b719cf79b11acfa01a5206eb87aa6fd0/expr.ipynb\"><img src=\"data:image/png;base64,iVBORw0KGgoAAAANSUhEUgAAABwAAAAVBAMAAACnLJNvAAAAMFBMVEX///8QEBBmZmaqqqrMzMxE\n",
       "REQyMjIiIiKYmJh2dna6urrc3NxUVFSIiIju7u4AAAA6P00QAAAAAXRSTlMAQObYZgAAAJ5JREFU\n",
       "GNNjYIAAPwYUMAuDy3ljCjI3meH5BgSXQ4CBMwHBZT3AwPwPweU/wMD1mYHh7Z1dNy8Aue8VGLj+\n",
       "MvBN4KhlTwBy909gYPnLwPmA8x/XBhBXgYHlJwMfA2sAWC9EMQMD/wWYUcxAoxj8HSAWBTBw/GNg\n",
       "fnCfgfcB3BnrDeIZdoAdWczw0IHhzd23Gg1g7su7R/B4kHjuFQgFAOOwNl56f7ILAAAAAElFTkSu\n",
       "QmCC\n",
       "\" style=\"display:inline;vertical-align:middle;\" /></a>, <a class=\"ProveItLink\" href=\"../../../../../__pv_it/common/0f21cbfd5644a1cae6781c1d58354abc2ffbc9000/expr.ipynb\"><img src=\"data:image/png;base64,iVBORw0KGgoAAAANSUhEUgAAAAsAAAANBAMAAACN24kIAAAAMFBMVEX///8iIiKYmJhUVFTMzMxE\n",
       "REQyMjKqqqq6urp2dnYQEBDc3NxmZmaIiIju7u4AAACH5sGpAAAAAXRSTlMAQObYZgAAAFlJREFU\n",
       "CNdj4LtzgWHXAwZOjgUM9xkYtvMkMIQyMDzgusDwl4GBof8ByxcgdYyBdwGQCmZgNQBShxn6FYDU\n",
       "47vnNzAwgGUZGJgT+H4AKUYF1gtAiuPuESAJAJGkFvXVdzA+AAAAAElFTkSuQmCC\n",
       "\" style=\"display:inline;vertical-align:middle;\" /></a> : <a class=\"ProveItLink\" href=\"../../../__pv_it/_proof_non_zero_divides_zero/b88a03c57370d53d2a35c1c90badcbadb91598600/expr.ipynb\"><img src=\"data:image/png;base64,iVBORw0KGgoAAAANSUhEUgAAADYAAAAqBAMAAAAKf7UOAAAAMFBMVEX///9mZma6urpUVFREREQQ\n",
       "EBDc3NwiIiLu7u6qqqoyMjLMzMyYmJiIiIh2dnYAAADXmt2vAAAAAXRSTlMAQObYZgAAASpJREFU\n",
       "OMtjYGB4e24DAw7ANYGjDJfcUQaGV7jknBkY5jfgkPvMwKA/AbsUx0eg3AXscmz/GBj245ID6tv/\n",
       "gHQzQW6Zj8MtDC4MDOcbyPA7+wSOaFxyHG8v4wxrLICp9Ouq8KUHsMrxOm5gWMCCXR/jAwa+CY9Q\n",
       "xXjcy6vAcg0MydwCKFLcvgh/erCg+rkLweW5cAbVSDMEs4XDAVUOiWvNnAAk/4MB2LqoVUAA8aCA\n",
       "HlpMIvRxgcx4gSwZAGe95FNA5gKBLNwEg2SgJwNQYwTKYGnwYOCwQXEph4kGhKHqFeISH4IaMExP\n",
       "IGE2YKD3ctI9HGmX4wFPLfsC7HJ8DXw/mBJw6GNgccBtIf8F3HL7cSZdzob7DLw48or+BH+GHBz6\n",
       "mu/2ymBP3QwAKDpOPbLXy4kAAAAASUVORK5CYII=\n",
       "\" style=\"display:inline;vertical-align:middle;\" /></a></span></td></tr><tr><td><a name=\"-0x661a6b2e06d1cfd4_step2\">2</a></td><td>instantiation</td><td><a href=\"#-0x661a6b2e06d1cfd4_step4\">4</a>, <a href=\"#-0x661a6b2e06d1cfd4_step5\">5</a>, <a href=\"#-0x661a6b2e06d1cfd4_step6\">6</a></td><td><span style=\"font-size:20px;\"><a class=\"ProveItLink\" href=\"../../../../division/__pv_it/theorems/e99df808d7f7f716b0c7d8c3fb6eb50e7ecca4120/expr.ipynb\"><img src=\"data:image/png;base64,iVBORw0KGgoAAAANSUhEUgAAADQAAAAPBAMAAABZ6/G2AAAAMFBMVEX///8QEBBmZmaqqqrMzMxE\n",
       "REQyMjIiIiKYmJh2dna6urrc3NxUVFSIiIju7u4AAAA6P00QAAAAAXRSTlMAQObYZgAAAM1JREFU\n",
       "GNNjYMAGrpV9LFXAKuPymeHRD6xSHDwXGBj6UaRay8sTQHQL4wMGBh5kKdd7UIbCViDBB9T59s6u\n",
       "mxdA7DyoDN8BJyhjAkctO8gcng1QKe4JayEMzgec/7hAoqwwg7kVoFJ8DKwBYIZjGhCAtPMFeMJU\n",
       "8V8AU1vh7snjgbH8HcAUI1yqCSz1gIH5wX0GXqA/GJguwKRYbwGZXAkM6w3iGXaARYrh2tQiHzwO\n",
       "fcDw5u5bjQawwJuoB1ApFjX5IgeUsFsZDgkoKAAA9fQ1vValRIIAAAAASUVORK5CYII=\n",
       "\" style=\"display:inline;vertical-align:middle;\" /></a>, <a class=\"ProveItLink\" href=\"../../../../division/__pv_it/theorems/fc754fd89b63e925ce60299eafbc02e90d2050f80/expr.ipynb\"><img src=\"data:image/png;base64,iVBORw0KGgoAAAANSUhEUgAAADEAAAAUCAMAAAATIyWrAAAAOVBMVEX///8QEBAkJCQNDQ0oKChm\n",
       "ZmaqqqrMzMxEREQyMjIiIiKYmJh2dna6urrc3NxUVFSIiIju7u4AAACrOLOkAAAAAXRSTlMAQObY\n",
       "ZgAAANlJREFUKM+1kssWwiAMRFMVCiVAwv9/rAlYpa2iXZgFPTn0MpMHwCiQ4Vwkv8Ep4PyFyLFL\n",
       "vAXgJY0lXJeEqer4sUTvwWU9beFfJaBUIhbxBkyUUySkHeF6CS6mEfIXo5hcCJbVIvoat6ueZhUs\n",
       "qJ9ZCe05ir2YBhJCmEYIqKU4d6hizpu0d1XLogPhdpLl0Svb3iu9g1rHZWrVPJWajaDdtQxUJKFN\n",
       "p/1+uK8JaoedECn099EcbC66JZOY4UzEZMIGAH8cLaPM7eMmWnNyy99JjMPi3yUgji7vUJEIvLuq\n",
       "lhYAAAAASUVORK5CYII=\n",
       "\" style=\"display:inline;vertical-align:middle;\" /></a> <a class=\"ProveItLink\" href=\"../../../__pv_it/_proof_non_zero_divides_zero/919c62187278cf549dc48187be2a21c9ec15157d0/proof.ipynb\" style=\"text-decoration: none\">&nbsp;&#x22A2;&nbsp;&nbsp;</a><a class=\"ProveItLink\" href=\"../../../__pv_it/_proof_non_zero_divides_zero/b88a03c57370d53d2a35c1c90badcbadb91598600/expr.ipynb\"><img src=\"data:image/png;base64,iVBORw0KGgoAAAANSUhEUgAAADYAAAAqBAMAAAAKf7UOAAAAMFBMVEX///9mZma6urpUVFREREQQ\n",
       "EBDc3NwiIiLu7u6qqqoyMjLMzMyYmJiIiIh2dnYAAADXmt2vAAAAAXRSTlMAQObYZgAAASpJREFU\n",
       "OMtjYGB4e24DAw7ANYGjDJfcUQaGV7jknBkY5jfgkPvMwKA/AbsUx0eg3AXscmz/GBj245ID6tv/\n",
       "gHQzQW6Zj8MtDC4MDOcbyPA7+wSOaFxyHG8v4wxrLICp9Ouq8KUHsMrxOm5gWMCCXR/jAwa+CY9Q\n",
       "xXjcy6vAcg0MydwCKFLcvgh/erCg+rkLweW5cAbVSDMEs4XDAVUOiWvNnAAk/4MB2LqoVUAA8aCA\n",
       "HlpMIvRxgcx4gSwZAGe95FNA5gKBLNwEg2SgJwNQYwTKYGnwYOCwQXEph4kGhKHqFeISH4IaMExP\n",
       "IGE2YKD3ctI9HGmX4wFPLfsC7HJ8DXw/mBJw6GNgccBtIf8F3HL7cSZdzob7DLw48or+BH+GHBz6\n",
       "mu/2ymBP3QwAKDpOPbLXy4kAAAAASUVORK5CYII=\n",
       "\" style=\"display:inline;vertical-align:middle;\" /></a></span></td></tr>\n",
       "<tr><td>&nbsp;</td><td colspan=4 style=\"text-align:left\"><span style=\"font-size:20px;\"><a class=\"ProveItLink\" href=\"../../../__pv_it/_proof_non_zero_divides_zero/6b3a11bcfb6b260a119649cb9ebfc0e2d8e305090/expr.ipynb\"><img src=\"data:image/png;base64,iVBORw0KGgoAAAANSUhEUgAAADcAAAAUBAMAAADbzbjtAAAAMFBMVEX///8iIiLc3Ny6urqIiIiq\n",
       "qqp2dnbMzMwQEBDu7u5mZmYyMjJERERUVFSYmJgAAAA4CJ/KAAAAAXRSTlMAQObYZgAAAQ1JREFU\n",
       "KM9jYIADpgcMyCAITL79f/burgkMDHNQ5Bh4FcDUbwYGnk4Ghk2okpwbQCT7NwYG1i8MfAtQJRlS\n",
       "QATLZyD+xsCogCY5A0TwfABa8JlBEU2OgdsASPADDddfwOCF5O5lS4BuYAPZU5/AwCrGwHAOIWmh\n",
       "wA00jQ/kIv9raUuAPhFFuLOPgesA0JECQPb5CWChZrgk108GRgegL4C6GT4yoElyHGCYXwCRZP8F\n",
       "EUIYOz+BIR5IMQtAvAkCCAfND2C4zaoAdhD3T4hQFlySx4FPlg1odQID1/6/DmAhQ6BBZ4DgJAPn\n",
       "FXddZ6CuAoTnMIJvIhIbe8DDwCFsUQYDaJHNg2INWjJ5xMAAAHA6PhPQZp1jAAAAAElFTkSuQmCC\n",
       "\" style=\"display:inline;vertical-align:middle;\" /></a> : <a class=\"ProveItLink\" href=\"../../../__pv_it/_proof_non_zero_divides_zero/c2cf81cdd031bfe59801be4ee4bba89e3b5c0ca20/expr.ipynb\"><img src=\"data:image/png;base64,iVBORw0KGgoAAAANSUhEUgAAAD8AAAAPBAMAAAChCwpBAAAAMFBMVEX///9UVFSqqqrMzMwiIiKY\n",
       "mJgyMjIQEBCIiIh2dnZmZmbc3Nzu7u5ERES6uroAAACFTSmKAAAAAXRSTlMAQObYZgAAANtJREFU\n",
       "GNNjYMAFntSXpbuVMuAGvYsZ2Bgu4FGwkoFhEucDLBKxLi4JIHoNA7eAFRZ52x44k/fAHSSJXbPa\n",
       "DwApnhyEUARrAILDV82QD6IZN8CFeC6cRTLgeADDWrCxCCFGA2kkBesPMHiAaPM0IAA7kuEV3wQk\n",
       "BbUMPJ9B9F6EUALQNM4DMPt+MjB9ADHY4fKcCvOQuDyfGBgTtIEMrgaY0EZuAQaG5XD1NxhCBMBW\n",
       "OsFE7vAeYDgYy8Dw9i4QAJkd1hLgcD14D2ItX2363evfb2EJypdXIEENBQCseznmdhtbowAAAABJ\n",
       "RU5ErkJggg==\n",
       "\" style=\"display:inline;vertical-align:middle;\" /></a>, <a class=\"ProveItLink\" href=\"../../../../../__pv_it/common/a2581dc5df71d9a30bad37de14965fa5fec97a240/expr.ipynb\"><img src=\"data:image/png;base64,iVBORw0KGgoAAAANSUhEUgAAAAsAAAAJBAMAAAAWSsseAAAALVBMVEX///9mZmaqqqrMzMxEREQy\n",
       "MjIiIiKYmJh2dna6urrc3NxUVFSIiIju7u4AAACJHQtQAAAAAXRSTlMAQObYZgAAAEJJREFUCNdj\n",
       "YLhzeuWJAwy8Dew5bAEMHBc43nIuYOBlYHFgAAG+A2DKzgBIMF04x8BzgWGegh/DcgaG22fuiBcw\n",
       "AAATyhBrnyPYZQAAAABJRU5ErkJggg==\n",
       "\" style=\"display:inline;vertical-align:middle;\" /></a> : <a class=\"ProveItLink\" href=\"../../../../division/__pv_it/theorems/35c300386d1ee3af16a585367513c9f0877990260/expr.ipynb\"><img src=\"data:image/png;base64,iVBORw0KGgoAAAANSUhEUgAAAAwAAAAqBAMAAAB1rqf/AAAAMFBMVEX///9mZma6urpUVFREREQQ\n",
       "EBDc3NwiIiLu7u6qqqoyMjLMzMyYmJiIiIh2dnYAAADXmt2vAAAAAXRSTlMAQObYZgAAAJJJREFU\n",
       "GNNjYGB4e24DAwMD1wSOMiB1lIHhFZByZmCY38DA8JmBQX8CA8dHIHWBge0fA8N+IAXk7X8AEwQp\n",
       "mT+BgcGFgeF8A1w7+wSOaCDF8fYyyGgywX8wYKAS6L2cdO8CA8cDnlr2BQx8DXw/mBIYOBhYHMCS\n",
       "/BfA1H6Qazkb7jPwNgD97c+Qw8DQfLdX5gADAEgzMIA1zYOYAAAAAElFTkSuQmCC\n",
       "\" style=\"display:inline;vertical-align:middle;\" /></a>, <a class=\"ProveItLink\" href=\"../../../../../__pv_it/common/0f21cbfd5644a1cae6781c1d58354abc2ffbc9000/expr.ipynb\"><img src=\"data:image/png;base64,iVBORw0KGgoAAAANSUhEUgAAAAsAAAANBAMAAACN24kIAAAAMFBMVEX///8iIiKYmJhUVFTMzMxE\n",
       "REQyMjKqqqq6urp2dnYQEBDc3NxmZmaIiIju7u4AAACH5sGpAAAAAXRSTlMAQObYZgAAAFlJREFU\n",
       "CNdj4LtzgWHXAwZOjgUM9xkYtvMkMIQyMDzgusDwl4GBof8ByxcgdYyBdwGQCmZgNQBShxn6FYDU\n",
       "47vnNzAwgGUZGJgT+H4AKUYF1gtAiuPuESAJAJGkFvXVdzA+AAAAAElFTkSuQmCC\n",
       "\" style=\"display:inline;vertical-align:middle;\" /></a> : <a class=\"ProveItLink\" href=\"../../../../numerals/__pv_it/common/c35fdf7268947ca3e24174d2909dc9d0a7f3aac60/expr.ipynb\"><img src=\"data:image/png;base64,iVBORw0KGgoAAAANSUhEUgAAAAoAAAAOBAMAAADkjZCYAAAAMFBMVEX///9mZma6urpUVFREREQQ\n",
       "EBDc3NwiIiLu7u6qqqoyMjLMzMyYmJiIiIh2dnYAAADXmt2vAAAAAXRSTlMAQObYZgAAAFFJREFU\n",
       "CNdjYOC785qBgWElQ3sCA08AA98CBhYDBs4fDPwGDEw/GfoFGJj+MuQ/YOAGkgIM3P+gIkBZzp8M\n",
       "LA4MPD+guhgqGVo3MDD03bVmAABi3RThwIkdoQAAAABJRU5ErkJggg==\n",
       "\" style=\"display:inline;vertical-align:middle;\" /></a></span></td></tr><tr><td><a name=\"-0x661a6b2e06d1cfd4_step3\">3</a></td><td>instantiation</td><td><a href=\"#-0x661a6b2e06d1cfd4_step7\">7</a></td><td><span style=\"font-size:20px;\"> <a class=\"ProveItLink\" href=\"../../../__pv_it/_proof_non_zero_divides_zero/e332e81d6c5b2b674d7c336b3c95c5e4617c75870/proof.ipynb\" style=\"text-decoration: none\">&nbsp;&#x22A2;&nbsp;&nbsp;</a><a class=\"ProveItLink\" href=\"../../../__pv_it/_proof_non_zero_divides_zero/038c810375d837af7a9d77c9228e96e0b8b99a4e0/expr.ipynb\"><img src=\"data:image/png;base64,iVBORw0KGgoAAAANSUhEUgAAAJkAAAAyBAMAAAC9qWSkAAAAMFBMVEX////MzMxUVFR2dna6uroQ\n",
       "EBCqqqqIiIgiIiJmZmYyMjJERETu7u6YmJjc3NwAAACgK8IjAAAAAXRSTlMAQObYZgAAAz1JREFU\n",
       "SMetV89rE0EUfml+bbK7Sf6DxFMPYhtQDGqhBRE9iE3Vg5iDuRQ8iA31UAqF5GLVHmQv4knai5ce\n",
       "JHix2qpLRSr20IIIotSG4sGLEBVbhFadmbfJbjKZySz1QXY2zOy389773jdvAVQtOCSbXQZ/dlg6\n",
       "G5rzBRbN0GvuXUow/9EX2ii9xIvGXcG8nvUBZlyk1/cAx6ULFE236PUxwJgt27yiIcgPgOGiYIXm\n",
       "w9U7zJvfBK0kWBH5owxmsqWJnwDpkvSFSqZVGRrZW1ro0KatipYe6uoprJVU0e7hQLIwJsoCxJXL\n",
       "4TwOizJ/oqppCOzhKGEviepeyyPiKDZeqxWNEbkDifU2ybneoRLyTvnkxlNitAXyW/UKGNWInhq3\n",
       "LlwVS9HNX/OXHrIdDZLfIw8a0wiDz82aJQ7C0xTM6Ui4FJiWBw2jnOPpJqZSLAvB4pHGKq3mQUON\n",
       "eM3XPE8yc+H2DEOzYStgNTz46hV+1Ig4dwJscrEPPHEZsKTjfTIDkzRVE32ncwTNqZwgF6Uyl5i3\n",
       "LphZ2sCbZBWek+EVfCjNEDRHI0yahuA8MwQe5KjY596uGk7Gw3MwTYYBsvwcRUONiFTan53l0DyU\n",
       "OdCgVLgCVM5tWoCup4F6+7P9OPxlxsJ2mW4cCWedbMhWHvBw2GlmgaRPiOapSXdvcbrPAQdtmr3q\n",
       "O6KhRoQqbtwyAk/zzbujtIbYX63CsnAtWocpl70mVwyDXE7vN3eZ2SKkyztZOEY839brpPYJGmpE\n",
       "jBPrMsc3rcFn3V4C4xBzPJyBM4RuvVOTG8xT1Ig49+wmx2fj4Fm8OfWssHilwIiUtForC+0NX1l8\n",
       "fxQ6gZXl1YZsa9Wjdaj6daWjiGjDi3a0DoqUtJT6gWKbWrK48mqpKR1HNPNNJY86wf/cQcTqKmj9\n",
       "qo3DLo4r419uiIWzoHoCbmNEs+YtsdOJHX+nc9AO7oZq+z6dYRb3BnpV0jBWVNGGnXwnJZ1LUrmr\n",
       "0RzCpSWHc1m548KkRuwyRO0unY+KXWD+Fl/CN9h/p4pd9PLEygNhxcYtdbTua0dtdbTEiNLniapd\n",
       "7TLfY/lBi2Xk85/8fVH2/s8vSojJv3ZZDv4BOJTeEY/V1sQAAAAASUVORK5CYII=\n",
       "\" style=\"display:inline;vertical-align:middle;\" /></a></span></td></tr>\n",
       "<tr><td>&nbsp;</td><td colspan=4 style=\"text-align:left\"><span style=\"font-size:20px;\"><a class=\"ProveItLink\" href=\"../../../../../__pv_it/common/a2581dc5df71d9a30bad37de14965fa5fec97a240/expr.ipynb\"><img src=\"data:image/png;base64,iVBORw0KGgoAAAANSUhEUgAAAAsAAAAJBAMAAAAWSsseAAAALVBMVEX///9mZmaqqqrMzMxEREQy\n",
       "MjIiIiKYmJh2dna6urrc3NxUVFSIiIju7u4AAACJHQtQAAAAAXRSTlMAQObYZgAAAEJJREFUCNdj\n",
       "YLhzeuWJAwy8Dew5bAEMHBc43nIuYOBlYHFgAAG+A2DKzgBIMF04x8BzgWGegh/DcgaG22fuiBcw\n",
       "AAATyhBrnyPYZQAAAABJRU5ErkJggg==\n",
       "\" style=\"display:inline;vertical-align:middle;\" /></a> : <a class=\"ProveItLink\" href=\"../../../../../__pv_it/common/a2581dc5df71d9a30bad37de14965fa5fec97a240/expr.ipynb\"><img src=\"data:image/png;base64,iVBORw0KGgoAAAANSUhEUgAAAAsAAAAJBAMAAAAWSsseAAAALVBMVEX///9mZmaqqqrMzMxEREQy\n",
       "MjIiIiKYmJh2dna6urrc3NxUVFSIiIju7u4AAACJHQtQAAAAAXRSTlMAQObYZgAAAEJJREFUCNdj\n",
       "YLhzeuWJAwy8Dew5bAEMHBc43nIuYOBlYHFgAAG+A2DKzgBIMF04x8BzgWGegh/DcgaG22fuiBcw\n",
       "AAATyhBrnyPYZQAAAABJRU5ErkJggg==\n",
       "\" style=\"display:inline;vertical-align:middle;\" /></a>, <a class=\"ProveItLink\" href=\"../../../../../__pv_it/common/0f21cbfd5644a1cae6781c1d58354abc2ffbc9000/expr.ipynb\"><img src=\"data:image/png;base64,iVBORw0KGgoAAAANSUhEUgAAAAsAAAANBAMAAACN24kIAAAAMFBMVEX///8iIiKYmJhUVFTMzMxE\n",
       "REQyMjKqqqq6urp2dnYQEBDc3NxmZmaIiIju7u4AAACH5sGpAAAAAXRSTlMAQObYZgAAAFlJREFU\n",
       "CNdj4LtzgWHXAwZOjgUM9xkYtvMkMIQyMDzgusDwl4GBof8ByxcgdYyBdwGQCmZgNQBShxn6FYDU\n",
       "47vnNzAwgGUZGJgT+H4AKUYF1gtAiuPuESAJAJGkFvXVdzA+AAAAAElFTkSuQmCC\n",
       "\" style=\"display:inline;vertical-align:middle;\" /></a> : <a class=\"ProveItLink\" href=\"../../../../numerals/__pv_it/common/c35fdf7268947ca3e24174d2909dc9d0a7f3aac60/expr.ipynb\"><img src=\"data:image/png;base64,iVBORw0KGgoAAAANSUhEUgAAAAoAAAAOBAMAAADkjZCYAAAAMFBMVEX///9mZma6urpUVFREREQQ\n",
       "EBDc3NwiIiLu7u6qqqoyMjLMzMyYmJiIiIh2dnYAAADXmt2vAAAAAXRSTlMAQObYZgAAAFFJREFU\n",
       "CNdjYOC785qBgWElQ3sCA08AA98CBhYDBs4fDPwGDEw/GfoFGJj+MuQ/YOAGkgIM3P+gIkBZzp8M\n",
       "LA4MPD+guhgqGVo3MDD03bVmAABi3RThwIkdoQAAAABJRU5ErkJggg==\n",
       "\" style=\"display:inline;vertical-align:middle;\" /></a></span></td></tr><tr><td><a name=\"-0x661a6b2e06d1cfd4_step4\">4</a></td><td>theorem</td><td></td><td><span style=\"font-size:20px;\"> <a class=\"ProveItLink\" href=\"../../../../../logic/equality/_theory_nbs_/proofs/sub_left_side_into/thm_proof.ipynb\" style=\"text-decoration: none\">&nbsp;&#x22A2;&nbsp;&nbsp;</a><a class=\"ProveItLink\" href=\"../../../../../logic/equality/__pv_it/theorems/75144010233a3c81a15f68a7971ea51ab0e7a18c0/expr.ipynb\"><img src=\"data:image/png;base64,iVBORw0KGgoAAAANSUhEUgAAAL8AAAAWBAMAAABj11ATAAAAMFBMVEX///8QEBCIiIhmZma6urrM\n",
       "zMxUVFQiIiJERETc3Nzu7u6qqqp2dnaYmJgyMjIAAAAcRTyBAAAAAXRSTlMAQObYZgAAAthJREFU\n",
       "SMe1VU1oE0EU/rruTzbZJl48eQkWSgkFcxFUREKFqmA19SDeDMEWKrXtoR4sKvGWCrW5WQRxBalY\n",
       "PAQ8iIK41IMQg0YURFDYs1C7KEpbi/rmp5vdJhHF+GD3zXxvZr43782bAf6H3JD6IX0ua3xoz7qd\n",
       "4yvDY3uBaEECegl4zhof2+R5gty9bCNekv0o9edIm4U2EZxygCdJvPaBRSBuA1a5TQQ7M/Q5OO8D\n",
       "tyhulYWFa+1K7ix94xlzwgfixLhSLF74w/k8tNpvBvygcH+Bkqbo7xjpo/hY1BwCpgF1dnT3mcYZ\n",
       "Gf6XRot3YpmW62vrwAMHkRpwD2+Tlyg+lOUDPNd4BTxrnCKzL4wjorOnJYHyrfo0BRiU0gpe2ofJ\n",
       "G4qWAYUYMUzpaUnAjZojOvMtCSJrXHXQHm0U+Z482njNYM2LEFBTAm7UszJxpZZlMOETAJ83CEz3\n",
       "BCuJVShT7ODu6qZ11G4Ydp1AGMmPvhymxIatruNDclkOijJIc8VCBO0rzx6jnD7NWuu9rKYVe8wg\n",
       "fithDwZ2IIx0mJ01bStiOYJSujupF0lmBOiXAYsUefBI8ZASScZ9xmK54hxgianrB9ETIBDGQzBv\n",
       "TygFqAzMxmtyAwLksmyL4Wmo3yOeSSO2sLwlkow1Lcev8v8+5AMEwtjPxutJaJwu4WeCg0z2/xST\n",
       "KC7RfKqL3aBxlrdOxpuQt4Xm8UKaxLYAgTCepOhmOrJQczzeyOqfSJYEGJL6VXGnfk0xh+bsm5Zr\n",
       "kcI51QsQcCMbbGSPkUOOecX0XkCeWgGGJHTZyRJZZuUzWJ5/s1ghhf4et04gjOxcqfmrFJKMtj16\n",
       "9kivLedyMFwPwes6JDJO5WgpUgvWgXCijLuYobhSgQYncTAk/oMT2VQysZJUunMUDQTUGVXJpcfi\n",
       "KfSFg82fzHebn7wNpb53mhAMYKBK7tGRqoXg6j9c8OnGDSr2X63wC2jlxTKsC1d/AAAAAElFTkSu\n",
       "QmCC\n",
       "\" style=\"display:inline;vertical-align:middle;\" /></a></span></td></tr>\n",
       "<tr><td>&nbsp;</td><td colspan=4 style-\"text-align:left\"><a class=\"ProveItLink\" href=\"../../../../../logic/equality/_theory_nbs_/proofs/sub_left_side_into/thm_proof.ipynb\">proveit.logic.equality.sub_left_side_into</a></td></tr><tr><td><a name=\"-0x661a6b2e06d1cfd4_step5\">5</a></td><td>conjecture</td><td></td><td><span style=\"font-size:20px;\"> <a class=\"ProveItLink\" href=\"../../../../number_sets/integers/_theory_nbs_/proofs/zero_is_int/thm_proof.ipynb\" style=\"text-decoration: none\">&nbsp;&#x22A2;&nbsp;&nbsp;</a><a class=\"ProveItLink\" href=\"../../../../number_sets/integers/__pv_it/theorems/c54a85a7fba1cb8b9a29fbc9775ebd553c5430430/expr.ipynb\"><img src=\"data:image/png;base64,iVBORw0KGgoAAAANSUhEUgAAADIAAAAPBAMAAABU9YHxAAAAMFBMVEX///9mZma6urpUVFREREQQ\n",
       "EBDc3NwiIiLu7u6qqqoyMjLMzMyYmJiIiIh2dnYAAADXmt2vAAAAAXRSTlMAQObYZgAAAONJREFU\n",
       "GNNjYOC785oBBTCVfl0VvvQAA8NKhvYEFBlexw0MC1gYGHgCGPgWoMgwPmDgm/CIgYHFgIHzB1iE\n",
       "x728CizTwJDMLcDAwG/AwPQTJMDt2wDX5sECZPcLMDD9BfG6EBI8F84AyfwHDNxgGTOETS0cDiAZ\n",
       "AQbufyCuA0LGmhnkWphp3FGrgADiIQE9EAV0ASfIBWwIPVwg/S8YWBwYeMCuDoDLvORTAHHhPpWF\n",
       "SbAZJAM9BVRYydC6ASTAPgEqw9LgwcBhAzSw7641WIDDRAMio+oV4hIfIoAcxk8goQMFAJt1Mp5H\n",
       "5qSTAAAAAElFTkSuQmCC\n",
       "\" style=\"display:inline;vertical-align:middle;\" /></a></span></td></tr>\n",
       "<tr><td>&nbsp;</td><td colspan=4 style-\"text-align:left\"><a class=\"ProveItLink\" href=\"../../../../number_sets/integers/_theory_nbs_/proofs/zero_is_int/thm_proof.ipynb\">proveit.numbers.number_sets.integers.zero_is_int</a></td></tr><tr><td><a name=\"-0x661a6b2e06d1cfd4_step6\">6</a></td><td>instantiation</td><td><a href=\"#-0x661a6b2e06d1cfd4_step8\">8</a>, <a href=\"#-0x661a6b2e06d1cfd4_step9\">9</a>, <a href=\"#-0x661a6b2e06d1cfd4_step10\">10</a></td><td><span style=\"font-size:20px;\"><a class=\"ProveItLink\" href=\"../../../../division/__pv_it/theorems/e99df808d7f7f716b0c7d8c3fb6eb50e7ecca4120/expr.ipynb\"><img src=\"data:image/png;base64,iVBORw0KGgoAAAANSUhEUgAAADQAAAAPBAMAAABZ6/G2AAAAMFBMVEX///8QEBBmZmaqqqrMzMxE\n",
       "REQyMjIiIiKYmJh2dna6urrc3NxUVFSIiIju7u4AAAA6P00QAAAAAXRSTlMAQObYZgAAAM1JREFU\n",
       "GNNjYMAGrpV9LFXAKuPymeHRD6xSHDwXGBj6UaRay8sTQHQL4wMGBh5kKdd7UIbCViDBB9T59s6u\n",
       "mxdA7DyoDN8BJyhjAkctO8gcng1QKe4JayEMzgec/7hAoqwwg7kVoFJ8DKwBYIZjGhCAtPMFeMJU\n",
       "8V8AU1vh7snjgbH8HcAUI1yqCSz1gIH5wX0GXqA/GJguwKRYbwGZXAkM6w3iGXaARYrh2tQiHzwO\n",
       "fcDw5u5bjQawwJuoB1ApFjX5IgeUsFsZDgkoKAAA9fQ1vValRIIAAAAASUVORK5CYII=\n",
       "\" style=\"display:inline;vertical-align:middle;\" /></a>, <a class=\"ProveItLink\" href=\"../../../../division/__pv_it/theorems/fc754fd89b63e925ce60299eafbc02e90d2050f80/expr.ipynb\"><img src=\"data:image/png;base64,iVBORw0KGgoAAAANSUhEUgAAADEAAAAUCAMAAAATIyWrAAAAOVBMVEX///8QEBAkJCQNDQ0oKChm\n",
       "ZmaqqqrMzMxEREQyMjIiIiKYmJh2dna6urrc3NxUVFSIiIju7u4AAACrOLOkAAAAAXRSTlMAQObY\n",
       "ZgAAANlJREFUKM+1kssWwiAMRFMVCiVAwv9/rAlYpa2iXZgFPTn0MpMHwCiQ4Vwkv8Ep4PyFyLFL\n",
       "vAXgJY0lXJeEqer4sUTvwWU9beFfJaBUIhbxBkyUUySkHeF6CS6mEfIXo5hcCJbVIvoat6ueZhUs\n",
       "qJ9ZCe05ir2YBhJCmEYIqKU4d6hizpu0d1XLogPhdpLl0Svb3iu9g1rHZWrVPJWajaDdtQxUJKFN\n",
       "p/1+uK8JaoedECn099EcbC66JZOY4UzEZMIGAH8cLaPM7eMmWnNyy99JjMPi3yUgji7vUJEIvLuq\n",
       "lhYAAAAASUVORK5CYII=\n",
       "\" style=\"display:inline;vertical-align:middle;\" /></a> <a class=\"ProveItLink\" href=\"../../../__pv_it/_proof_non_zero_divides_zero/5210600a4e47375ef1c5e0dfd76b9c8c95988c010/proof.ipynb\" style=\"text-decoration: none\">&nbsp;&#x22A2;&nbsp;&nbsp;</a><a class=\"ProveItLink\" href=\"../../../../division/__pv_it/theorems/71a749fb0a2479987dbd7f6c3d9cfde7fe05d25d0/expr.ipynb\"><img src=\"data:image/png;base64,iVBORw0KGgoAAAANSUhEUgAAADQAAAAqBAMAAAAOimUzAAAAMFBMVEX///9mZma6urpUVFREREQQ\n",
       "EBDc3NwiIiLu7u6qqqoyMjLMzMyYmJiIiIh2dnYAAADXmt2vAAAAAXRSTlMAQObYZgAAAK5JREFU\n",
       "OMtjYOC785oBB1jJ0J6AXYYngIFvAXYpFgMGzh/YpfgNGJh+YpfqF2Bg+otdKv8BAzcuKQEG7n8k\n",
       "Gwh0BicOZ7A4MPD8INnLDJUMrRtwSPXdtWYgBQzO6OBbBQYCxETHfzAgPzqgdhkMiuigKei9nHTv\n",
       "AlYZjgc8tezYvcfXwPeDCXs64AAFGC7AfwGn1H5cocXZcJ+BtwGrlP4Ef4Yc7Lqa7/bKHMAqAwCv\n",
       "0khfOLhEogAAAABJRU5ErkJggg==\n",
       "\" style=\"display:inline;vertical-align:middle;\" /></a></span></td></tr>\n",
       "<tr><td>&nbsp;</td><td colspan=4 style=\"text-align:left\"><span style=\"font-size:20px;\"><a class=\"ProveItLink\" href=\"../../../../../__pv_it/common/a2581dc5df71d9a30bad37de14965fa5fec97a240/expr.ipynb\"><img src=\"data:image/png;base64,iVBORw0KGgoAAAANSUhEUgAAAAsAAAAJBAMAAAAWSsseAAAALVBMVEX///9mZmaqqqrMzMxEREQy\n",
       "MjIiIiKYmJh2dna6urrc3NxUVFSIiIju7u4AAACJHQtQAAAAAXRSTlMAQObYZgAAAEJJREFUCNdj\n",
       "YLhzeuWJAwy8Dew5bAEMHBc43nIuYOBlYHFgAAG+A2DKzgBIMF04x8BzgWGegh/DcgaG22fuiBcw\n",
       "AAATyhBrnyPYZQAAAABJRU5ErkJggg==\n",
       "\" style=\"display:inline;vertical-align:middle;\" /></a> : <a class=\"ProveItLink\" href=\"../../../../../__pv_it/common/a2581dc5df71d9a30bad37de14965fa5fec97a240/expr.ipynb\"><img src=\"data:image/png;base64,iVBORw0KGgoAAAANSUhEUgAAAAsAAAAJBAMAAAAWSsseAAAALVBMVEX///9mZmaqqqrMzMxEREQy\n",
       "MjIiIiKYmJh2dna6urrc3NxUVFSIiIju7u4AAACJHQtQAAAAAXRSTlMAQObYZgAAAEJJREFUCNdj\n",
       "YLhzeuWJAwy8Dew5bAEMHBc43nIuYOBlYHFgAAG+A2DKzgBIMF04x8BzgWGegh/DcgaG22fuiBcw\n",
       "AAATyhBrnyPYZQAAAABJRU5ErkJggg==\n",
       "\" style=\"display:inline;vertical-align:middle;\" /></a></span></td></tr><tr><td><a name=\"-0x661a6b2e06d1cfd4_step7\">7</a></td><td>axiom</td><td></td><td><span style=\"font-size:20px;\"> <a class=\"ProveItLink\" href=\"../../axioms.ipynb#divides_def\" style=\"text-decoration: none\">&nbsp;&#x22A2;&nbsp;&nbsp;</a><a class=\"ProveItLink\" href=\"../../../__pv_it/axioms/46404eb6709b03d47893726a6b6d4b91883a93730/expr.ipynb\"><img src=\"data:image/png;base64,iVBORw0KGgoAAAANSUhEUgAAANwAAAAmBAMAAABdfejNAAAAMFBMVEX///8QEBCIiIhmZma6urrM\n",
       "zMxUVFQiIiJERETc3Nzu7u6qqqp2dnaYmJgyMjIAAAAcRTyBAAAAAXRSTlMAQObYZgAABCRJREFU\n",
       "WMONWF1IFFEUPurs7uzs7CpR0Q/ZoiQikRZYEGWWkNRDrgQ99JJIRb6ERFJRiBmYCtYKlVKEow8q\n",
       "ErnQU724mQ+hUFsEFfSzFggFhVlCalH3Z2bu7Mzc8R7Yb4a9d+937jn3fPfeBfCw9yBq4ZRHo1LH\n",
       "0MOy08J0W9BwhVHo1lxbD1mQb3s1UTZpHYAq5UEpx+86hvwYrBKeXH8M4E5OGto57d8syDN/nTDd\n",
       "SfTRsqIwx2mnQe72jNaxuCibbwFjjeab9/Tc2/8Z4clFyDgVkJ3H82eRIceCC8J0fSQObSBz3f9k\n",
       "QXfLySyDox5dKwhuhxpu9b2woLuhzOM5GiNM6M+HLl1XEBws2MPNdl+ljmmefPTFMA6Djc7vHDI4\n",
       "nzFLi1VvzJ9u3oB9TwLFKfz86kL3keAXO53ilJrwLPEjrfyytxSXQwRaSCPtAr3YvRYXuh1kpDI7\n",
       "HYw7s9yIMZCSo/aWXQBTKo5jNvEIYQTVnppwoTtPxog76PodPQPEW6mgnM336rlm/NwJwbrD+CW0\n",
       "oGN4cmSkxy27PzGwFpMuUmnvmVtmL7NWUz9krZN8s2Tg7/b2S250RJAK0Weg6MbmKKLTJV8tc9DZ\n",
       "g3ifqdVLujUpfw08AdDhJtCkQxd6SYbPBNKITpf8MMn6s+/YPpOuo/Zya2CjtAxbnMdY5bbY0PIh\n",
       "dBdRYjV1UYojOl3yQ42OkrHTsZXnj+nUfwwMQLabGNBor0QOgtxCcqdLvm/WoeV4peX+w0bafPl4\n",
       "5qSpSkpaVgJGNRUALzo9NxOG5HPorIFhs0vLODxWumD6CK6m8iKkIlIRBDRbMNFwMUpHJV9qZLmb\n",
       "cQ+muTGoCfSzLJxDEkyCHcdRAWqnA2iBq7larZHkOX2phLRS1IzpqOSHHZketa/MbcbLrSD6wVbT\n",
       "eYIPkLs+urPfroZioyvx5wkKYeI63CWzo5Kfk3QUgv2bgBHdTlmDwTcZdaeXzYKuOvXGb1YTjcVC\n",
       "P7A7Reio5Edijr3Dvs0ppw7SE9Oa6fbLP67gNyKnBMM4W75ZH/7iLJjnoWsuIoYlf8ixqmRHeKWn\n",
       "VMSYqi0yxNlW0yr0atAkmevusV2idcl3SrSat+x+T7uYHQdfjU9CbQL2F5uejpEl2sHoqOS7aEJo\n",
       "UfA0E8mMekKJy+aiptJk2V6p5Mtxjt55Gh0sU+1CcX+SnazpOcc8PGzSn29dBmtblm4sztDMJ0jv\n",
       "2JoOL5+RjIOPUtCwb9z78FThdWZfEqYbxXV2D15Hm3k91luQf6sRNHJVmoTn2gFehzyG3JNfTJgP\n",
       "F6vGvZCgoVIMuVdE8evdB8sWyg/UMuFqFaYjZzDuhQSCaxnybUg4mkoTwCN0rCvhDJRg6HEpuSA8\n",
       "vZ64tCTPBjnJ6bKgh90UpgvGlPqSQs5fB0qlif8BmJM0CfLsRSsAAAAASUVORK5CYII=\n",
       "\" style=\"display:inline;vertical-align:middle;\" /></a></span></td></tr>\n",
       "<tr><td>&nbsp;</td><td colspan=4 style-\"text-align:left\"><a class=\"ProveItLink\" href=\"../../axioms.ipynb#divides_def\">proveit.numbers.divisibility.divides_def</a></td></tr><tr><td><a name=\"-0x661a6b2e06d1cfd4_step8\">8</a></td><td>conjecture</td><td></td><td><span style=\"font-size:20px;\"> <a class=\"ProveItLink\" href=\"../../../../division/_theory_nbs_/proofs/frac_zero_numer/thm_proof.ipynb\" style=\"text-decoration: none\">&nbsp;&#x22A2;&nbsp;&nbsp;</a><a class=\"ProveItLink\" href=\"../../../../division/__pv_it/theorems/598aca81d2ac08428354401c2d0b6cc8f08e1c260/expr.ipynb\"><img src=\"data:image/png;base64,iVBORw0KGgoAAAANSUhEUgAAALgAAAAyCAMAAADYxuFLAAAAOVBMVEX///8QEBAoKCgUFBQNDQ2I\n",
       "iIhmZma6urrMzMxUVFQiIiJERETc3Nzu7u6qqqp2dnaYmJgyMjIAAAAMeWbTAAAAAXRSTlMAQObY\n",
       "ZgAAA1hJREFUaN7NWoly4yAMxdsFc4rj/z92OWKMDU0DSWGZScfTWOYhpKeHHIRWDL2P2SmGlg6t\n",
       "Ry13uxI3zn7T2GjaZWsWIoftuLLgd5/LLmuhV+FW2xHgJq5A20Hz2UOQfBVDBpwa3LDJgXLidBH4\n",
       "7qDvCXxNsPDscOVIAo57ly4X4DbnrNJF19Fe4MXaZzpcoBM4ScB19+LVdNzUnZwwGireEE8HTkpK\n",
       "cA9Wgd6n2PlVaCvFhhCDG4+npyd1pozVkQKUssPMVilXV/FQ8jf65sZNqZrXqqc0xoyOPIf7QD93\n",
       "7vf9v4lRIXyVkdr5T85p++vs+CDA/nGXkcZRJA8nSDEhN8cIuMri+KDD0Rp+HfgAZbdlZNw6o1UY\n",
       "ks8QKnTIrpaR8T9OhDFDLA4WjoY2cCGuEyGJCcVI/1gktS0G+V5GbiHe93CD6qlfTw9PERvWuLGD\n",
       "ZEzWNWTkFgM7/MFPSByEZpwVhPCMf0jYP+OngLq6MVcGbjG6Q4UnnjEJ/O120IT4bxQV3k/U6peA\n",
       "ywiXhz2p3csceiM5S05KwKVFtHKPESBVmNrICBleAx4W6V0U3L5Bf6hcYpx9LyN5crSQbD9KK6FR\n",
       "PuxHZuwUEofJNvBske5+pFG4mZs6OccYoJaRW7oG8ogUrBCzcaPzTUaZarYCeLZgkVT/+o/xwINv\n",
       "OK7pcIzHaxl5yMMj7P1XNvpJZVEBCp4BzxYJGaDT4xuuC9Bos/MuIw/RY87oSbtJeXSgwEgCpU+A\n",
       "Z4v4fHHQQDCpUYL7UBdK1Qds6qIX0ZmsROGTnxvAHxbMZ9PXn5BT5ltWoZ86udzVmnQxA8JqTvUr\n",
       "SbzWTR4vLA4qjCFDmjyO3Ic6Ine1ppjZfcmLnhJwBpi14hJhommRqPCBXOsWRv6h4/lTesIpxptk\n",
       "3XbDzzKNuM8AH61kbeAvePPailCeKuSOdf/pYvQI2DQz8EpSQclx3siTfX/8yNFW1niKlX2FkBlB\n",
       "6O7d5XR+Q+gS5CqrkJHuxOSx30rQ2J4vaHreett0SLzgBW3mkldAeQhJp/3nDbg0q85RA0h44LJX\n",
       "Bqx5lXJ2RxTDWGHS3/izK96kfGBe2NQa4HKj75ive0GL4C0WZgQtG+QNVjACLRxsuICs/dmH9/nw\n",
       "D21yYv4Drwolfn6CszUAAAAASUVORK5CYII=\n",
       "\" style=\"display:inline;vertical-align:middle;\" /></a></span></td></tr>\n",
       "<tr><td>&nbsp;</td><td colspan=4 style-\"text-align:left\"><a class=\"ProveItLink\" href=\"../../../../division/_theory_nbs_/proofs/frac_zero_numer/thm_proof.ipynb\">proveit.numbers.division.frac_zero_numer</a></td></tr><tr><td><a name=\"-0x661a6b2e06d1cfd4_step9\">9</a></td><td>assumption</td><td></td><td><span style=\"font-size:20px;\"><a class=\"ProveItLink\" href=\"../../../../division/__pv_it/theorems/e99df808d7f7f716b0c7d8c3fb6eb50e7ecca4120/expr.ipynb\"><img src=\"data:image/png;base64,iVBORw0KGgoAAAANSUhEUgAAADQAAAAPBAMAAABZ6/G2AAAAMFBMVEX///8QEBBmZmaqqqrMzMxE\n",
       "REQyMjIiIiKYmJh2dna6urrc3NxUVFSIiIju7u4AAAA6P00QAAAAAXRSTlMAQObYZgAAAM1JREFU\n",
       "GNNjYMAGrpV9LFXAKuPymeHRD6xSHDwXGBj6UaRay8sTQHQL4wMGBh5kKdd7UIbCViDBB9T59s6u\n",
       "mxdA7DyoDN8BJyhjAkctO8gcng1QKe4JayEMzgec/7hAoqwwg7kVoFJ8DKwBYIZjGhCAtPMFeMJU\n",
       "8V8AU1vh7snjgbH8HcAUI1yqCSz1gIH5wX0GXqA/GJguwKRYbwGZXAkM6w3iGXaARYrh2tQiHzwO\n",
       "fcDw5u5bjQawwJuoB1ApFjX5IgeUsFsZDgkoKAAA9fQ1vValRIIAAAAASUVORK5CYII=\n",
       "\" style=\"display:inline;vertical-align:middle;\" /></a> <a class=\"ProveItLink\" href=\"../../../__pv_it/_proof_non_zero_divides_zero/23ff75484acf9aa823e52a07f12d180e498a1ce50/proof.ipynb\" style=\"text-decoration: none\">&nbsp;&#x22A2;&nbsp;&nbsp;</a><a class=\"ProveItLink\" href=\"../../../../division/__pv_it/theorems/e99df808d7f7f716b0c7d8c3fb6eb50e7ecca4120/expr.ipynb\"><img src=\"data:image/png;base64,iVBORw0KGgoAAAANSUhEUgAAADQAAAAPBAMAAABZ6/G2AAAAMFBMVEX///8QEBBmZmaqqqrMzMxE\n",
       "REQyMjIiIiKYmJh2dna6urrc3NxUVFSIiIju7u4AAAA6P00QAAAAAXRSTlMAQObYZgAAAM1JREFU\n",
       "GNNjYMAGrpV9LFXAKuPymeHRD6xSHDwXGBj6UaRay8sTQHQL4wMGBh5kKdd7UIbCViDBB9T59s6u\n",
       "mxdA7DyoDN8BJyhjAkctO8gcng1QKe4JayEMzgec/7hAoqwwg7kVoFJ8DKwBYIZjGhCAtPMFeMJU\n",
       "8V8AU1vh7snjgbH8HcAUI1yqCSz1gIH5wX0GXqA/GJguwKRYbwGZXAkM6w3iGXaARYrh2tQiHzwO\n",
       "fcDw5u5bjQawwJuoB1ApFjX5IgeUsFsZDgkoKAAA9fQ1vValRIIAAAAASUVORK5CYII=\n",
       "\" style=\"display:inline;vertical-align:middle;\" /></a></span></td></tr>\n",
       "<tr><td><a name=\"-0x661a6b2e06d1cfd4_step10\">10</a></td><td>assumption</td><td></td><td><span style=\"font-size:20px;\"><a class=\"ProveItLink\" href=\"../../../../division/__pv_it/theorems/fc754fd89b63e925ce60299eafbc02e90d2050f80/expr.ipynb\"><img src=\"data:image/png;base64,iVBORw0KGgoAAAANSUhEUgAAADEAAAAUCAMAAAATIyWrAAAAOVBMVEX///8QEBAkJCQNDQ0oKChm\n",
       "ZmaqqqrMzMxEREQyMjIiIiKYmJh2dna6urrc3NxUVFSIiIju7u4AAACrOLOkAAAAAXRSTlMAQObY\n",
       "ZgAAANlJREFUKM+1kssWwiAMRFMVCiVAwv9/rAlYpa2iXZgFPTn0MpMHwCiQ4Vwkv8Ep4PyFyLFL\n",
       "vAXgJY0lXJeEqer4sUTvwWU9beFfJaBUIhbxBkyUUySkHeF6CS6mEfIXo5hcCJbVIvoat6ueZhUs\n",
       "qJ9ZCe05ir2YBhJCmEYIqKU4d6hizpu0d1XLogPhdpLl0Svb3iu9g1rHZWrVPJWajaDdtQxUJKFN\n",
       "p/1+uK8JaoedECn099EcbC66JZOY4UzEZMIGAH8cLaPM7eMmWnNyy99JjMPi3yUgji7vUJEIvLuq\n",
       "lhYAAAAASUVORK5CYII=\n",
       "\" style=\"display:inline;vertical-align:middle;\" /></a> <a class=\"ProveItLink\" href=\"../../../__pv_it/_proof_non_zero_divides_zero/97ed24d43a065f3a1eefa2bd9e80b0ad3f98efa30/proof.ipynb\" style=\"text-decoration: none\">&nbsp;&#x22A2;&nbsp;&nbsp;</a><a class=\"ProveItLink\" href=\"../../../../division/__pv_it/theorems/fc754fd89b63e925ce60299eafbc02e90d2050f80/expr.ipynb\"><img src=\"data:image/png;base64,iVBORw0KGgoAAAANSUhEUgAAADEAAAAUCAMAAAATIyWrAAAAOVBMVEX///8QEBAkJCQNDQ0oKChm\n",
       "ZmaqqqrMzMxEREQyMjIiIiKYmJh2dna6urrc3NxUVFSIiIju7u4AAACrOLOkAAAAAXRSTlMAQObY\n",
       "ZgAAANlJREFUKM+1kssWwiAMRFMVCiVAwv9/rAlYpa2iXZgFPTn0MpMHwCiQ4Vwkv8Ep4PyFyLFL\n",
       "vAXgJY0lXJeEqer4sUTvwWU9beFfJaBUIhbxBkyUUySkHeF6CS6mEfIXo5hcCJbVIvoat6ueZhUs\n",
       "qJ9ZCe05ir2YBhJCmEYIqKU4d6hizpu0d1XLogPhdpLl0Svb3iu9g1rHZWrVPJWajaDdtQxUJKFN\n",
       "p/1+uK8JaoedECn099EcbC66JZOY4UzEZMIGAH8cLaPM7eMmWnNyy99JjMPi3yUgji7vUJEIvLuq\n",
       "lhYAAAAASUVORK5CYII=\n",
       "\" style=\"display:inline;vertical-align:middle;\" /></a></span></td></tr>\n",
       "</table>"
      ],
      "text/plain": [
       "\tstep type\trequirements\tstatement\n",
       "0\tgeneralizaton\t1\t|- forall_{x in Complex | x != 0} (x | 0)\n",
       "1\tinstantiation\t4, 2, 3\t{x in Complex, x != 0} |- x | 0\n",
       "\tP(_a) : _a, x : x | 0, y : (0 / x) in Integer\n",
       "2\tinstantiation\t4, 5, 6\t{x in Complex, x != 0} |- (0 / x) in Integer\n",
       "\tP(_a) : _a in Integer, x : 0 / x, y : 0\n",
       "3\tinstantiation\t7\t|- (x | 0) = ((0 / x) in Integer)\n",
       "\tx : x, y : 0\n",
       "4\ttheorem\t\t|- forall_{P, x, y | P(y), x = y} P(x)\n",
       "\tproveit.logic.equality.sub_left_side_into\n",
       "5\tconjecture\t\t|- 0 in Integer\n",
       "6\tinstantiation\t8, 9, 10\t{x in Complex, x != 0} |- (0 / x) = 0\n",
       "\tx : x\n",
       "7\taxiom\t\t|- forall_{x, y} ((x | y) = ((y / x) in Integer))\n",
       "\tproveit.numbers.divisibility.divides_def\n",
       "8\tconjecture\t\t|- forall_{x in Complex | x != 0} ((0 / x) = 0)\n",
       "9\tassumption\t\t{x in Complex} |- x in Complex\n",
       "10\tassumption\t\t{x != 0} |- x != 0"
      ]
     },
     "execution_count": 11,
     "metadata": {},
     "output_type": "execute_result"
    }
   ],
   "source": [
    "%qed"
   ]
  },
  {
   "cell_type": "code",
   "execution_count": null,
   "metadata": {},
   "outputs": [],
   "source": []
  }
 ],
 "metadata": {
  "kernelspec": {
   "display_name": "Python 3",
   "language": "python",
   "name": "python3"
  }
 },
 "nbformat": 4,
 "nbformat_minor": 0
}