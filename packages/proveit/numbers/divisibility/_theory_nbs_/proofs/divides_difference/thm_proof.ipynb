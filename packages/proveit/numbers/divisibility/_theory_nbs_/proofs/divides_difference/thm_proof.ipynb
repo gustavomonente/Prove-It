{
 "cells": [
  {
   "cell_type": "markdown",
   "metadata": {},
   "source": [
    "Proof of <a class=\"ProveItLink\" href=\"../../../../../_theory_nbs_/theory.ipynb\">proveit</a>.<a class=\"ProveItLink\" href=\"../../../../_theory_nbs_/theory.ipynb\">numbers</a>.<a class=\"ProveItLink\" href=\"../../theory.ipynb\">divisibility</a>.<a class=\"ProveItLink\" href=\"../../theorems.ipynb#divides_difference\">divides_difference</a> theorem\n",
    "========"
   ]
  },
  {
   "cell_type": "code",
   "execution_count": 1,
   "metadata": {},
   "outputs": [],
   "source": [
    "import proveit\n",
    "theory = proveit.Theory() # the theorem's theory"
   ]
  },
  {
   "cell_type": "code",
   "execution_count": 2,
   "metadata": {},
   "outputs": [
    {
     "data": {
      "text/html": [
       "Under these <a href=\"presumptions.txt\">presumptions</a>, we begin our proof of<br><strong id=\"divides_difference\">divides_difference:</strong> <a class=\"ProveItLink\" href=\"../../../__pv_it/theorems/ba1f5f508fd590c88fc8e3de0535c4e1ce7b96650/expr.ipynb\"><img src=\"data:image/png;base64,iVBORw0KGgoAAAANSUhEUgAAAOQAAAAXBAMAAADpf/4JAAAAMFBMVEX///8QEBCIiIhmZma6urrM\n",
       "zMxUVFQiIiJERETc3Nzu7u6qqqp2dnaYmJgyMjIAAAAcRTyBAAAAAXRSTlMAQObYZgAAAwZJREFU\n",
       "SMe9lk9IFFEcx7/uzuzu7F+JgiiIrQUR6SBBECSxGSRBf8YOFV1cljwIJh7sYJQsHUIFYy+mBNEU\n",
       "UmhRC0FRIAzbTaOWDCrQ2INdhGIJgjSCfr8Zd2aeO+tlpB8Mb76838xn3vt933sDbF3IGv5X3F1v\n",
       "o2lB1sQruiJ5oMxiyQsxnBOQlqyJAOHQA8yzWPGCjOcFpCVrv42H9xSYpEbJeUEuQEAu1M8sclIS\n",
       "cap5tOAFOSgiB+tn3uehNiI2NzMz4YWo9AtIW7qUgBOWgd/Dw9e8IH2t9On7etqLJpLlgwNQdolZ\n",
       "HdvlEqLUhzdANzBS522SfZsWOpwqVAKe4FNyyESy1I/CVxGdM5Y6BMTYP1+BY6aT3CJk34oGc6og\n",
       "GWEO77UTJpKkUjiCkPhA2LBohCf9JeXAV/KCbCCQhuFqLUmGsQ2JJHF+GKEaaRfIpjIPvYsSS0F4\n",
       "RQI/HUhIa+hSN9QoAxuplM/xkjnYRElSE4K8UU6sjNvIaOpsN0HaM7hqK2VoWrUnFvKvKpKlv4y9\n",
       "G77+hcHlie2ga+QS+UzrC9ID0YTWyX2HF5M2siVQHiCIviY32so/W3TY5zW5pcW2TyiDmyIx0oqA\n",
       "bR88J7aM79xzpwPNRspjx8SqcXpLTpnq9+UsRYWqbh/kfOlPqKKUTCQvBH9G+isizy9+oPXo1+m2\n",
       "ja6EMaJVo6sNWcNgaWctE3mG+PVA0laYsqrUj3C2JbW0PrE8eeFsalVEtsb2UGeca/GNrphmVFbm\n",
       "rgHs4GYcFx3ILqgECaYbVFspqnU6um14ftd194hHU92d7kXLUUxquCJVqFF6Z3MWUqm8g85I9QyU\n",
       "0aq6Pf+5/rbeh2fpTbZ1Mx5+LM6hs4DjzWVqYvJOzUKGL5/crxFEyt6CvLuqSp2j1lISDy+S13Fj\n",
       "s8PLGYVwng1XcF2X0xgj57ms0tojuj2lui5z/jZxc43kA/pp81/BBdkrlc1/iZqNofrn4VM3/xH5\n",
       "wsYRD/AYpEWdG1fkqbfUlNyQWxl+h8tFz3t56z8Dc9DLm98iowAAAABJRU5ErkJggg==\n",
       "\" style=\"display:inline;vertical-align:middle;\" /></a><br>(see <a class=\"ProveItLink\" href=\"../../../__pv_it/theorems/9cb5b342bd8c208d913dbdf668bf7d9bf768a9eb0/dependencies.ipynb\">dependencies</a>)<br>"
      ],
      "text/plain": [
       "divides_difference: forall_{x, y, z | x | y, x | z} (x | (y - z))"
      ]
     },
     "execution_count": 2,
     "metadata": {},
     "output_type": "execute_result"
    }
   ],
   "source": [
    "%proving divides_difference"
   ]
  },
  {
   "cell_type": "code",
   "execution_count": null,
   "metadata": {},
   "outputs": [],
   "source": []
  }
 ],
 "metadata": {
  "kernelspec": {
   "display_name": "Python 3",
   "language": "python",
   "name": "python3"
  }
 },
 "nbformat": 4,
 "nbformat_minor": 0
}