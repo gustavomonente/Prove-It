{
 "cells": [
  {
   "cell_type": "markdown",
   "metadata": {},
   "source": [
    "Proof of <a class=\"ProveItLink\" href=\"../../../../../_theory_nbs_/theory.ipynb\">proveit</a>.<a class=\"ProveItLink\" href=\"../../../../_theory_nbs_/theory.ipynb\">numbers</a>.<a class=\"ProveItLink\" href=\"../../theory.ipynb\">divisibility</a>.<a class=\"ProveItLink\" href=\"../../theorems.ipynb#GCD_one_def\">GCD_one_def</a> theorem\n",
    "========"
   ]
  },
  {
   "cell_type": "code",
   "execution_count": 1,
   "metadata": {},
   "outputs": [],
   "source": [
    "import proveit\n",
    "theory = proveit.Theory() # the theorem's theory"
   ]
  },
  {
   "cell_type": "code",
   "execution_count": 2,
   "metadata": {},
   "outputs": [
    {
     "data": {
      "text/html": [
       "Under these <a href=\"presumptions.txt\">presumptions</a>, we begin our proof of<br><strong id=\"GCD_one_def\">GCD_one_def:</strong> <a class=\"ProveItLink\" href=\"../../../__pv_it/theorems/3b27607e5c20e07d89f107cfa97e87195b45e6db0/expr.ipynb\"><img src=\"data:image/png;base64,iVBORw0KGgoAAAANSUhEUgAAAckAAAAaBAMAAAAuzLp3AAAAMFBMVEX///8QEBCIiIhmZma6urrM\n",
       "zMxUVFQiIiJERETc3Nzu7u6qqqp2dnaYmJgyMjIAAAAcRTyBAAAAAXRSTlMAQObYZgAABb1JREFU\n",
       "WMPVmH2IVFUUwI8z783OvPdmd/+xkv4Zd2GJtHg4wYZpDUXaH32MBrqS5LBYGVQMWZgmNSjVLBI8\n",
       "EjYJzFcLfWyUQ7WaULawfcBKMGmhiMaQGWRoi7RSbkXnvHvve/fdeW/VrQm7cObOveecmfe799x7\n",
       "z7sALSupDRvhcihLN4y28Nfb4DIpmdL/jFJ3Z2Bw2VLuVBu8wyqw2nRiPLgB6YUQZYM6j7eGsp2q\n",
       "bP3SXY2K0hAdghIejvFAg7eu5HohSHmAdKdaQ2nVsGp3L9213VEaosOnfE9Eo+JBBie4XghS7qCq\n",
       "0hpK73d3zMD1kNoQHT6lleN0dtiDDKa4XghS0lB7Y96KdUkxcmAGrhvVxkaV0uhkdd+msAcaaOe5\n",
       "XghSZseHh19u1e5zbHj47fIMtv6y0vA7fEr4gVVru8IeaGCVhZ4L7bG/Vaub4/7O+oeUHdXqCxFH\n",
       "8oVO6YStNEjuHFje4xLl9rG5GH9jbEobbb6RMGjv764xPReifABgIO7vktMNuPS9GEOZKkLaadbY\n",
       "F6BM15UGyehDNatCATkHfsHu79g01Nhqkw12nzJ+Z3ouRHkbDoj4Re1MNKWm0k8GE0I+HwanckWm\n",
       "1Gx/M4yiLKiKPu6JT967Actm3kDJ1H6E7ARCvFaHG7F7r9jhGtzDN/jUhbNMz4Uo2yARDN0Yr1cu\n",
       "KiSuCCjT6uk0ASlH8kmKhp4vh7KCMlwnJybrP4O5pYDSH5EMC4Z7e1lzlsAf5A0UA7dO6zxC3OLC\n",
       "49i9xjM46MVi2OBmMP5gei5EadWlJOVnQvg4Xzcr47DQyvfmb4qkNBuwWvYx/BxKC1N+BX77nbHF\n",
       "8JHlJt2x/Pp8LUxprGPDtDSekrbOdCdCXAXGpE+JO+wK4SEMToA21USZaawIHh8DGo7sGwbzYJJC\n",
       "Mm4uLZsNoe/zUwzlq7rgz257xYVPcrYFEXMJmecdibKtJlHyiKWtc7dtFXCezAlhato8H5AM4E9I\n",
       "nmd6Ll4eO7AWP4Z6TlJIne1xNXoG875VuWbKY10lsLpyxoLrazRHgU8QlwplehAH+dDxniIufywj\n",
       "Iy81UXpa0Le6AaW/+wxKuw+e/1/jFmpMQaqxj+8+REiksgH8SktX3X3gA3ww40mdztLEpoTtJZ9m\n",
       "cfzbJspEKW3DE3rnm8U1Lh5Qkg/sgXVVLHWV0qSV9s2kXmb58oj17mqV0tPi8HwfUFrCQOcNko6K\n",
       "PpuOwy1wuISPtsjfrTZB2OBR2ApMz8Wj7MAkKGl7f5XOZRtDjNIixzDlLiddS1agmIdloFVkH7gj\n",
       "Zi5pt8u8XspMGN6Dj8DomELpab2QnuNTanJWQA2Se27tdgjija5V/RggJ72cgD66IGwwNJ9C4WQg\n",
       "HmUWY2VWLVHyFnGytBLnJGcWM/UyG8uA8jB0uLNwAVwNPaCVZB+4P47yKF0a5MxO/alqdQtS7myT\n",
       "jldvLklL9f6cTxmZ4X0ZzvDK/lGkQ4QB6YX475e7nfRRhCWKFJtLuD0nncze5xc4hx0O4Jn74jCe\n",
       "i5IPLIHHzmBpili2ZRZTNpTYXGrLpeev+FqAu8eDiI3M1k9EZuuSUchAydb5gzhr7oIdbpt7BCwa\n",
       "6WwBsqMq5R54ENoLYM/RJ+s4RpIPHPPPmAjKXc5KFz731qBkKSg9LfQtBP+oh3DCRI20Y0xFvnkF\n",
       "RmED5c2LB1r/+4thWU1/BNG20aBikltSKZPzT0NmwUF3ybzuOq552ecGcSL0nss1Ue7vQoQ0hrr2\n",
       "TAFSKqWnHfTeirc/2x/7Fr33r5xMOdD0Fh02GJBEuRFhx1QC16U6UryeHXTNC/k0prsR8bZDuAbX\n",
       "pVIqQqs/d5E3Igm+pLNxNyLcgPRCFErTiU2f2SWR2WgCZz5mfTrKp+N+tjKttkV3eFmYnvJ0t3S5\n",
       "odUln6HIdxJ+H5s8505DGa/99+5jL/IOL+oNbJ/0/dqZ/b8N/1H5G0IQx0XdpKBfAAAAAElFTkSu\n",
       "QmCC\n",
       "\" style=\"display:inline;vertical-align:middle;\" /></a><br>(see <a class=\"ProveItLink\" href=\"../../../__pv_it/theorems/fa049807c24f685119e7100c321b9e684e5118e30/dependencies.ipynb\">dependencies</a>)<br>"
      ],
      "text/plain": [
       "GCD_one_def: forall_{a, b in NaturalPos | gcd(a, b) = 1} [forall_{p in NaturalPos | p > 1} not((p | a) and (p | b))]"
      ]
     },
     "execution_count": 2,
     "metadata": {},
     "output_type": "execute_result"
    }
   ],
   "source": [
    "%proving GCD_one_def"
   ]
  },
  {
   "cell_type": "code",
   "execution_count": null,
   "metadata": {},
   "outputs": [],
   "source": []
  }
 ],
 "metadata": {
  "kernelspec": {
   "display_name": "Python 3",
   "language": "python",
   "name": "python3"
  }
 },
 "nbformat": 4,
 "nbformat_minor": 0
}