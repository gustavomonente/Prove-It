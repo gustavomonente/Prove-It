{
 "cells": [
  {
   "cell_type": "markdown",
   "metadata": {},
   "source": [
    "Proof of <a class=\"ProveItLink\" href=\"../../../../../_theory_nbs_/theory.ipynb\">proveit</a>.<a class=\"ProveItLink\" href=\"../../../../_theory_nbs_/theory.ipynb\">numbers</a>.<a class=\"ProveItLink\" href=\"../../theory.ipynb\">divisibility</a>.<a class=\"ProveItLink\" href=\"../../theorems.ipynb#right_factor_divisibility\">right_factor_divisibility</a> theorem\n",
    "========"
   ]
  },
  {
   "cell_type": "code",
   "execution_count": 1,
   "metadata": {},
   "outputs": [],
   "source": [
    "import proveit\n",
    "theory = proveit.Theory() # the theorem's theory"
   ]
  },
  {
   "cell_type": "code",
   "execution_count": 2,
   "metadata": {},
   "outputs": [
    {
     "data": {
      "text/html": [
       "Under these <a href=\"presumptions.txt\">presumptions</a>, we begin our proof of<br><strong id=\"right_factor_divisibility\">right_factor_divisibility:</strong> <a class=\"ProveItLink\" href=\"../../../__pv_it/theorems/b5034fbd304816d08978eee577b1fdac6f7531ef0/expr.ipynb\"><img src=\"data:image/png;base64,iVBORw0KGgoAAAANSUhEUgAAAOMAAAAXCAMAAADOUwhxAAAAOVBMVEX///8oKCgUFBQNDQ0QEBCI\n",
       "iIhmZma6urrMzMxUVFQiIiJERETc3Nzu7u6qqqp2dnaYmJgyMjIAAAArQGDrAAAAAXRSTlMAQObY\n",
       "ZgAAA0xJREFUWMPdWIuu2yAMZVt4v/n/j50NgZiEpu10pVZDal0F7HDM4WDK2Jc35dn/1lw6PYjy\n",
       "pvNhC47aPJ6n9HmI3rLHGK+dj5t2xMbQH+cvYEV2NxivnTfJysS6nhxnPw8xCfYY46LzpkVObF++\n",
       "Y0E/14y7wWjcW6zfiE3RY3PmCwRnMYeB8d0JZklssdhM/DxGvrPRc66d5JVmA+Pe6bnAx267qgd1\n",
       "A8c9WLVa4U/rfnK28pZGdcqRX7Jqm7J76EiGM5Mpxr0zMons4+UalrrBz111qpWC6NDysLFRG83v\n",
       "lHqzUVhxiMKdfglVdwjE1eft2CQhQhJi8Uw6irF1usAETtXaKWMXN4i+c7tZ/OKXw9GHKAQ89cqC\n",
       "s8orLvcxKAfRc/8KRleRmbpLTnzb5Jj1wDAwtk7o2zDbpafcl0zAHtCZKtTG1HDOMm6D8+iWXEUX\n",
       "FhjHGEixSrQKucGIGYOZ4WJuYYmRUQwnjEA7zIyq/m19KRsKf4DRZaZ0P02E4rhBZeedVKGF2/er\n",
       "5DjUeEbGVAYymgQ7nVR7zOYf24sxnElLrjKK4cRV1qjKt3Vxe0Bn0kzWOt0iAdt0rjwa2zP5NKlR\n",
       "RIapbS4DcbWDWmMcMXXV7z/wSTAZTJLhS80JvklK5f5Zc5jV/essG9TtpDnQK3bMMM1cQ3lxeAaK\n",
       "0XnMC7fTGJTtaRkpxhGzIQ7sWMfthLHJvSyB2dIr8IGxnwVC45BrbT27wbg4W0Lj+nKmTE265SBk\n",
       "Ss2yCD5VZI8xuLqoas6v92Nx57K67cdyOmIarbzmHE7B/YowMHbuYbco15NudoPEqtkmT3cqPjy4\n",
       "IDyfNBqZvFW/Y4wMCkNHt8S4x9Q559+/4AuXdamrL9dyIj+v5cxsBxELi5lV1sWxeE7U31A9uCqJ\n",
       "RgEt2uvVITiCZHrCSGL2c6NXLZfz8ZWaHPY2sEC+V5NPy50klB81uzYc9UPOFnVRVa2Xmts9jX1M\n",
       "0lrHmImK22XMdm7sIGNc3CPs3d3Kdi22/L271ePise81Kl3g5A6JW465OR/D05r4+R1Zwm5Uz4vJ\n",
       "nqy3S1RUWA0F4/PdsMb43O/6dwZX//JfRz/v0ttVOL5CpvjCDWWJMX3BDfUHm/imyfwFijAlceiz\n",
       "Ak0AAAAASUVORK5CYII=\n",
       "\" style=\"display:inline;vertical-align:middle;\" /></a><br>(see <a class=\"ProveItLink\" href=\"../../../__pv_it/theorems/b301ad0fac16346eee415b5bff7d1cdb60e824da0/dependencies.ipynb\">dependencies</a>)<br>"
      ],
      "text/plain": [
       "right_factor_divisibility: forall_{x in Complex, y in Integer | x != 0} (x | (y * x))"
      ]
     },
     "execution_count": 2,
     "metadata": {},
     "output_type": "execute_result"
    }
   ],
   "source": [
    "%proving right_factor_divisibility"
   ]
  },
  {
   "cell_type": "code",
   "execution_count": null,
   "metadata": {},
   "outputs": [],
   "source": []
  }
 ],
 "metadata": {
  "kernelspec": {
   "display_name": "Python 3",
   "language": "python",
   "name": "python3"
  }
 },
 "nbformat": 4,
 "nbformat_minor": 0
}