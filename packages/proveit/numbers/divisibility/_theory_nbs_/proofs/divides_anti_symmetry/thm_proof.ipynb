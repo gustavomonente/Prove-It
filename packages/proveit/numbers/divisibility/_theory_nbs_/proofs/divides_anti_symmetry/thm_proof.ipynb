{
 "cells": [
  {
   "cell_type": "markdown",
   "metadata": {},
   "source": [
    "Proof of <a class=\"ProveItLink\" href=\"../../../../../_theory_nbs_/theory.ipynb\">proveit</a>.<a class=\"ProveItLink\" href=\"../../../../_theory_nbs_/theory.ipynb\">numbers</a>.<a class=\"ProveItLink\" href=\"../../theory.ipynb\">divisibility</a>.<a class=\"ProveItLink\" href=\"../../theorems.ipynb#divides_anti_symmetry\">divides_anti_symmetry</a> theorem\n",
    "========"
   ]
  },
  {
   "cell_type": "code",
   "execution_count": 1,
   "metadata": {},
   "outputs": [],
   "source": [
    "import proveit\n",
    "theory = proveit.Theory() # the theorem's theory"
   ]
  },
  {
   "cell_type": "code",
   "execution_count": 2,
   "metadata": {},
   "outputs": [
    {
     "data": {
      "text/html": [
       "Under these <a href=\"presumptions.txt\">presumptions</a>, we begin our proof of<br><strong id=\"divides_anti_symmetry\">divides_anti_symmetry:</strong> <a class=\"ProveItLink\" href=\"../../../__pv_it/theorems/75a843038c0497e97ef1b030ad9390e6f39c89970/expr.ipynb\"><img src=\"data:image/png;base64,iVBORw0KGgoAAAANSUhEUgAAAT8AAAAWBAMAAABEXIbSAAAAMFBMVEX///8QEBCIiIhmZma6urrM\n",
       "zMxUVFQiIiJERETc3Nzu7u6qqqp2dnaYmJgyMjIAAAAcRTyBAAAAAXRSTlMAQObYZgAAA0NJREFU\n",
       "SMfNVk9IFFEY/9yd3Xmus+qh7oMLIhLoxS6VSULSJfXSLRIpokssUYcwwpPsHqQNAsWoRg8qErHg\n",
       "yU7LerNDCwUhFAx0MiiWKMi69L73Z+fNvDdaI0Qf/PbN/N73vf3N9773B+Ao9kQgxraiRHvD7Bjl\n",
       "txT4SHxIpi83yxFn2UqEWI9xXDcESrxC4lMygZ0VjtgPYF+fYc8T+LMX47hnCJRYxAzPJhP4RiDW\n",
       "6iwdqC3v4s+g2U3n6wE6PQCnmkzgXYFYW2YZnKI/toc/MdnW+eUA+Z2NjYVk+tqLHAfUwIicwFF8\n",
       "iPufBWOgxI9S6V4ygalBjlzPjXP1SBEVXHjogcPmbpOijA8FipXeRyfcyEAFY6DENREdspHWkxXi\n",
       "Q2+kwfEc3rn36bvzhRmKcqxuGKDTw1aJTaeZVfk8FVDL37L9sDPy0pRAiVGx2EIWrBoS4kNvdpVj\n",
       "B157F8Lxj9M+lAA6WAGkXMiyL56hAjznpxUtuRljoIQNqUYygW0jHB4OGTavzYWvNHFNNm1FeMHY\n",
       "Y/QZiL5lIM8TOqEESjgNG44mEHDIiI17me9SIJziuy0KAehyTQINgRLt/iXccIZ66XZl9fL9QAhE\n",
       "kkiSNUR6qlMMOGRQVrirwDCkumkMX+NPoRhM5ZUJzVmZYiVQAspXaZl4N22aC6fLmwwyyEgiSdYQ\n",
       "6akukpepJvRHkjIHZEouEiCXedboYujwBugQEed5Y6AEbBbxOPqMvUtj0BcIZCSRJGuI9GRJ4PuA\n",
       "9Ys0tVvASRinVLrGXjLXuaRtOoPVB/r1YtsYKCGKYp91n4ZptQb3WdUJEhvS8oTWHOSm+wvabWO1\n",
       "5ywe1KIYPvJmDPmVM9qaHDMGSkAePy/TZGf6bTiuCESStEhsSMvz0KNumGJNPC/FHWkmXgauKQPA\n",
       "M8d3YNGDO1YzEMhIKglJ0Uc4eehlIevnvsnLwkGXAo1XAuvqAKtv6zswWYXzfX4gkJFUIJKij3BS\n",
       "bjoVDkNOGsQF/QQox2S7bAiUUK2aq5CGtg9ykveRP7ywWj1DYBB/+IU1CDR8fUclW7uob9SMFH3k\n",
       "r678u0mv/LsK1FIA631NF8hI0UfgP7GgatMhPv3PlfwGWJ0npYbBR+8AAAAASUVORK5CYII=\n",
       "\" style=\"display:inline;vertical-align:middle;\" /></a><br>(see <a class=\"ProveItLink\" href=\"../../../__pv_it/theorems/7684196e5c53878bb00bce8cee24aa9d9f2b01350/dependencies.ipynb\">dependencies</a>)<br>"
      ],
      "text/plain": [
       "divides_anti_symmetry: forall_{x, y | x | y, y | x} ((x = y) or (x = (-y)))"
      ]
     },
     "execution_count": 2,
     "metadata": {},
     "output_type": "execute_result"
    }
   ],
   "source": [
    "%proving divides_anti_symmetry"
   ]
  },
  {
   "cell_type": "code",
   "execution_count": null,
   "metadata": {},
   "outputs": [],
   "source": []
  }
 ],
 "metadata": {
  "kernelspec": {
   "display_name": "Python 3",
   "language": "python",
   "name": "python3"
  }
 },
 "nbformat": 4,
 "nbformat_minor": 0
}