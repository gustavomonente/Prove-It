{
 "cells": [
  {
   "cell_type": "markdown",
   "metadata": {},
   "source": [
    "Proof of <a class=\"ProveItLink\" href=\"../../../../../_theory_nbs_/theory.ipynb\">proveit</a>.<a class=\"ProveItLink\" href=\"../../../../_theory_nbs_/theory.ipynb\">numbers</a>.<a class=\"ProveItLink\" href=\"../../theory.ipynb\">divisibility</a>.<a class=\"ProveItLink\" href=\"../../theorems.ipynb#divides_reflexivity\">divides_reflexivity</a> theorem\n",
    "========"
   ]
  },
  {
   "cell_type": "code",
   "execution_count": 1,
   "metadata": {},
   "outputs": [],
   "source": [
    "import proveit\n",
    "theory = proveit.Theory() # the theorem's theory"
   ]
  },
  {
   "cell_type": "code",
   "execution_count": 2,
   "metadata": {},
   "outputs": [
    {
     "data": {
      "text/html": [
       "Under these <a href=\"presumptions.txt\">presumptions</a>, we begin our proof of<br><strong id=\"divides_reflexivity\">divides_reflexivity:</strong> <a class=\"ProveItLink\" href=\"../../../__pv_it/theorems/8ce02370299f186b72323480f9e02f1597cd07130/expr.ipynb\"><img src=\"data:image/png;base64,iVBORw0KGgoAAAANSUhEUgAAAJQAAAAXCAMAAADaxpaQAAAAOVBMVEX///8QEBAoKCgUFBQNDQ2I\n",
       "iIhmZma6urrMzMxUVFQiIiJERETc3Nzu7u6qqqp2dnaYmJgyMjIAAAAMeWbTAAAAAXRSTlMAQObY\n",
       "ZgAAAixJREFUSMfFlomSpCAMQNO7G+5w/f/HLgGhFRnbmSprUtW2BoKPXAjwq6IIfl1cnBRBTgrv\n",
       "+JrGc4xPM5GFT1CgmSr4/pged2Vyn6GIveQ6vbNPM0UBn6Eg4M5Bb5c9JcbdgaIX8wdicebxLF+8\n",
       "YQEFiXXZspjwNBRu0SNE7STWMDWovaboeJ5WfGvd/eXlZYlVgICnTdpW3VQGokEwqUMdNOWW/6To\n",
       "Sf+FeBu00bhb/oJJqJoSxUrPKdWSNhTqkAmk61AHTTGsYeYLnpoU+SBE0ZKyxUilcAvKVRRT02Jq\n",
       "MS85PGntPqcOmvKqXEdiAzvWr/WOeHp0Fcffg+INAGV218svoVgyzomecYJyCZTuTUIo5CSTvadI\n",
       "5VXzwRpqWLTZoS3Lk01chq+OqwnqrSlrNAdZp9sgEuhUnT9SLFI8lcAOaljoWsP/yi+WV7C/DC4T\n",
       "3RNgbpYb1EGzJXrRii16BTdVUxrN15O/ghoWDdHD21OvCaqWOsjsweZ+NjPUUVNKJZwiWtcDZerG\n",
       "LYLzSl1ADYv9gdtyKk+do4WFNCKh2E5/hjpqyiZVj9E+y1j5rmdB+O4/C6jNQqeU/v4pF3bcsvru\n",
       "HjNTzbkMoQSU3ReGe5yo92HZp3YWvR305n3qU985kPeQOsrSiusO7agVCilZrZbh21u0drBRhSAW\n",
       "/eLup8vXR1XLqWUzWjf+j6fnnY+87xx3N6DSDz6HcS6i+FOmNVR8/HvsWsTD6/8H8OUYyt1sIAoA\n",
       "AAAASUVORK5CYII=\n",
       "\" style=\"display:inline;vertical-align:middle;\" /></a><br>(see <a class=\"ProveItLink\" href=\"../../../__pv_it/theorems/2fa6f1569c809d826a6345df15326722ca102c630/dependencies.ipynb\">dependencies</a>)<br>"
      ],
      "text/plain": [
       "divides_reflexivity: forall_{x in Complex | x != 0} (x | x)"
      ]
     },
     "execution_count": 2,
     "metadata": {},
     "output_type": "execute_result"
    }
   ],
   "source": [
    "%proving divides_reflexivity"
   ]
  },
  {
   "cell_type": "code",
   "execution_count": null,
   "metadata": {},
   "outputs": [],
   "source": []
  }
 ],
 "metadata": {
  "kernelspec": {
   "display_name": "Python 3",
   "language": "python",
   "name": "python3"
  }
 },
 "nbformat": 4,
 "nbformat_minor": 0
}