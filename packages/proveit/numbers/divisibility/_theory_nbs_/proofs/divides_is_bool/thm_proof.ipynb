{
 "cells": [
  {
   "cell_type": "markdown",
   "metadata": {},
   "source": [
    "Proof of <a class=\"ProveItLink\" href=\"../../../../../_theory_nbs_/theory.ipynb\">proveit</a>.<a class=\"ProveItLink\" href=\"../../../../_theory_nbs_/theory.ipynb\">numbers</a>.<a class=\"ProveItLink\" href=\"../../theory.ipynb\">divisibility</a>.<a class=\"ProveItLink\" href=\"../../theorems.ipynb#divides_is_bool\">divides_is_bool</a> theorem\n",
    "========"
   ]
  },
  {
   "cell_type": "code",
   "execution_count": 1,
   "metadata": {},
   "outputs": [],
   "source": [
    "import proveit\n",
    "from proveit import defaults\n",
    "# from proveit.core_expr_types import\n",
    "from proveit import a, b, x, y\n",
    "from proveit.numbers import frac\n",
    "from proveit.numbers.divisibility  import divides_def\n",
    "from proveit.numbers.number_sets.integers import int_membership_is_bool\n",
    "theory = proveit.Theory() # the theorem's theory"
   ]
  },
  {
   "cell_type": "code",
   "execution_count": 2,
   "metadata": {},
   "outputs": [
    {
     "data": {
      "text/html": [
       "Under these <a href=\"presumptions.txt\">presumptions</a>, we begin our proof of<br><strong id=\"divides_is_bool\">divides_is_bool:</strong> <a class=\"ProveItLink\" href=\"../../../__pv_it/theorems/8f86534a0925123cb27dafc582f8ca797aad4dd20/expr.ipynb\"><img src=\"data:image/png;base64,iVBORw0KGgoAAAANSUhEUgAAAJAAAAAWBAMAAADdgQhOAAAAMFBMVEX///8QEBCIiIhmZma6urrM\n",
       "zMxUVFQiIiJERETc3Nzu7u6qqqp2dnaYmJgyMjIAAAAcRTyBAAAAAXRSTlMAQObYZgAAAlRJREFU\n",
       "OMudlEFoE0EUhn/jJrvZ7NocFDzJktLYg1AR2lNbFcGAoGk9eBDBIgp6kSJWD5YaPGgiSFcQWhRx\n",
       "6CGUHiTgwYOX0OYgVWEPHqusoAcFpYqCenJm3qTNbmZBOvAy2X9evsx7+94D/mudxtZXNiCTq0Vb\n",
       "ztf7Cj0UX95pDheVdYJwKea0d/fsh2uHpP5KPH/RgD4ri4Cexr3Ck/bdEanPiygq3Rx3P1kU5Hgx\n",
       "t8px9FlS38H41ugGmT5ZFGTn1d/cuT7TBr2wpO6uLi3NaSKbUxYF4aP8TN9imzdqLZL+u1qd1oB6\n",
       "lS0UH+zzOMju9XCfYYVSxTZDM6Yu8J3rfKtpQPfI7KZ7xQw5yDHyGADex15e5fDN7/ytCf0I7FAD\n",
       "ukHmMOev4XPQo+0hqsBz+nlnst+sQeomUoEGtJPMhlWROWLbPPwAzsoU7fnGVxtkGYHUncBEMgjo\n",
       "8SjZZZb+pUDZyI0sTEg9G57iwvJgcQwwijBZJDTuMkagUaT4uy/Jw3wnKCO6Q+i180CKXTZ5zpwe\n",
       "Nh5Ndo4N8EMBug1rop3sA5EbuU3Sn03yqPFVyA9L6FceK2TlxiweyxsNocxzMUzVulHB4Rm8HgLp\n",
       "Mgn4I/VhnFMeJbJ6YWEkkKB64SAv9E9U4BePRZtW6q7ISno9LQ6uYldyi4xywiQ9Gy9Vi7RbR+l4\n",
       "4oQO5hmmjPWEps2E9k9N08abuf52eRXjDRzt3yjOGjpKvgUzsDzNGNGPl4btW0HCYDMKg9A3E7r0\n",
       "nJ9pntCP2j4Vb8KojekujLXmVkf8P+SuqLuf5iAMAAAAAElFTkSuQmCC\n",
       "\" style=\"display:inline;vertical-align:middle;\" /></a><br>(see <a class=\"ProveItLink\" href=\"../../../__pv_it/theorems/4f2e236a8ac9575b0b07da32df72d287beda21950/dependencies.ipynb\">dependencies</a>)<br>"
      ],
      "text/plain": [
       "divides_is_bool: forall_{x, y} ((x | y) in BOOLEAN)"
      ]
     },
     "execution_count": 2,
     "metadata": {},
     "output_type": "execute_result"
    }
   ],
   "source": [
    "%proving divides_is_bool"
   ]
  },
  {
   "cell_type": "code",
   "execution_count": 3,
   "metadata": {},
   "outputs": [
    {
     "data": {
      "text/html": [
       "<strong id=\"defaults.assumptions\">defaults.assumptions:</strong> <a class=\"ProveItLink\" href=\"../../../__pv_it/_proof_divides_is_bool/4bb7d36ca64d107000d79d4921539d4617258ebf0/expr.ipynb\"><img src=\"data:image/png;base64,iVBORw0KGgoAAAANSUhEUgAAAAwAAAAUBAMAAABL3sEiAAAAMFBMVEX////MzMxUVFR2dna6uroQ\n",
       "EBCqqqqIiIgiIiJmZmYyMjJERETu7u6YmJjc3NwAAACgK8IjAAAAAXRSTlMAQObYZgAAAGNJREFU\n",
       "CNdjYOC7wPaAgYHhNAODHpBax8BwioGBdwIDA3MBAwdQgieA4QVQnGEJQyWIsmTYC6JuMbSBqAyG\n",
       "EBAlD6PAgh4wJZYgajKQDwQLIYY1wIxm2Ae2CGQtkAV0BO8DBgBfVhetSSF8+gAAAABJRU5ErkJg\n",
       "gg==\n",
       "\" style=\"display:inline;vertical-align:middle;\" /></a><br>"
      ],
      "text/plain": [
       "defaults.assumptions: ()"
      ]
     },
     "execution_count": 3,
     "metadata": {},
     "output_type": "execute_result"
    }
   ],
   "source": [
    "defaults.assumptions = divides_is_bool.conditions"
   ]
  },
  {
   "cell_type": "code",
   "execution_count": 4,
   "metadata": {},
   "outputs": [
    {
     "data": {
      "text/html": [
       "<span style=\"font-size:20px;\"> <a class=\"ProveItLink\" href=\"../../axioms.ipynb#divides_def\" style=\"text-decoration: none\">&nbsp;&#x22A2;&nbsp;&nbsp;</a><a class=\"ProveItLink\" href=\"../../../__pv_it/axioms/66faaf3fe115a7bf532b9576f80d04f09c94018d0/expr.ipynb\"><img src=\"data:image/png;base64,iVBORw0KGgoAAAANSUhEUgAAANwAAAAmBAMAAABdfejNAAAAMFBMVEX///8QEBCIiIhmZma6urrM\n",
       "zMxUVFQiIiJERETc3Nzu7u6qqqp2dnaYmJgyMjIAAAAcRTyBAAAAAXRSTlMAQObYZgAABCRJREFU\n",
       "WMONWF1IFFEUPurs7uzs7CpR0Q/ZoiQikRZYEGWWkNRDrgQ99JJIRb6ERFJRiBmYCtYKlVKEow8q\n",
       "ErnQU724mQ+hUFsEFfSzFggFhVlCalH3Z2bu7Mzc8R7Yb4a9d+937jn3fPfeBfCw9yBq4ZRHo1LH\n",
       "0MOy08J0W9BwhVHo1lxbD1mQb3s1UTZpHYAq5UEpx+86hvwYrBKeXH8M4E5OGto57d8syDN/nTDd\n",
       "SfTRsqIwx2mnQe72jNaxuCibbwFjjeab9/Tc2/8Z4clFyDgVkJ3H82eRIceCC8J0fSQObSBz3f9k\n",
       "QXfLySyDox5dKwhuhxpu9b2woLuhzOM5GiNM6M+HLl1XEBws2MPNdl+ljmmefPTFMA6Djc7vHDI4\n",
       "nzFLi1VvzJ9u3oB9TwLFKfz86kL3keAXO53ilJrwLPEjrfyytxSXQwRaSCPtAr3YvRYXuh1kpDI7\n",
       "HYw7s9yIMZCSo/aWXQBTKo5jNvEIYQTVnppwoTtPxog76PodPQPEW6mgnM336rlm/NwJwbrD+CW0\n",
       "oGN4cmSkxy27PzGwFpMuUmnvmVtmL7NWUz9krZN8s2Tg7/b2S250RJAK0Weg6MbmKKLTJV8tc9DZ\n",
       "g3ifqdVLujUpfw08AdDhJtCkQxd6SYbPBNKITpf8MMn6s+/YPpOuo/Zya2CjtAxbnMdY5bbY0PIh\n",
       "dBdRYjV1UYojOl3yQ42OkrHTsZXnj+nUfwwMQLabGNBor0QOgtxCcqdLvm/WoeV4peX+w0bafPl4\n",
       "5qSpSkpaVgJGNRUALzo9NxOG5HPorIFhs0vLODxWumD6CK6m8iKkIlIRBDRbMNFwMUpHJV9qZLmb\n",
       "cQ+muTGoCfSzLJxDEkyCHcdRAWqnA2iBq7larZHkOX2phLRS1IzpqOSHHZketa/MbcbLrSD6wVbT\n",
       "eYIPkLs+urPfroZioyvx5wkKYeI63CWzo5Kfk3QUgv2bgBHdTlmDwTcZdaeXzYKuOvXGb1YTjcVC\n",
       "P7A7Reio5Edijr3Dvs0ppw7SE9Oa6fbLP67gNyKnBMM4W75ZH/7iLJjnoWsuIoYlf8ixqmRHeKWn\n",
       "VMSYqi0yxNlW0yr0atAkmevusV2idcl3SrSat+x+T7uYHQdfjU9CbQL2F5uejpEl2sHoqOS7aEJo\n",
       "UfA0E8mMekKJy+aiptJk2V6p5Mtxjt55Gh0sU+1CcX+SnazpOcc8PGzSn29dBmtblm4sztDMJ0jv\n",
       "2JoOL5+RjIOPUtCwb9z78FThdWZfEqYbxXV2D15Hm3k91luQf6sRNHJVmoTn2gFehzyG3JNfTJgP\n",
       "F6vGvZCgoVIMuVdE8evdB8sWyg/UMuFqFaYjZzDuhQSCaxnybUg4mkoTwCN0rCvhDJRg6HEpuSA8\n",
       "vZ64tCTPBjnJ6bKgh90UpgvGlPqSQs5fB0qlif8BmJM0CfLsRSsAAAAASUVORK5CYII=\n",
       "\" style=\"display:inline;vertical-align:middle;\" /></a></span>"
      ],
      "text/plain": [
       "|- forall_{x, y} ((x | y) = ((y / x) in Integer))"
      ]
     },
     "execution_count": 4,
     "metadata": {},
     "output_type": "execute_result"
    }
   ],
   "source": [
    "divides_def"
   ]
  },
  {
   "cell_type": "code",
   "execution_count": 5,
   "metadata": {},
   "outputs": [
    {
     "data": {
      "text/html": [
       "<strong id=\"divides_def_inst\">divides_def_inst:</strong> <span style=\"font-size:20px;\"> <a class=\"ProveItLink\" href=\"../../../__pv_it/_proof_divides_is_bool/944c314c4c15685349f976f5937737aaae09865d0/proof.ipynb\" style=\"text-decoration: none\">&nbsp;&#x22A2;&nbsp;&nbsp;</a><a class=\"ProveItLink\" href=\"../../../__pv_it/axioms/c9a72e65af4674db58b8fb550fe3be1dae4aa11f0/expr.ipynb\"><img src=\"data:image/png;base64,iVBORw0KGgoAAAANSUhEUgAAAJQAAAAmBAMAAADQEK+ZAAAAMFBMVEX////MzMxUVFR2dna6uroQ\n",
       "EBCqqqqIiIgiIiJmZmYyMjJERETu7u6YmJjc3NwAAACgK8IjAAAAAXRSTlMAQObYZgAAAvFJREFU\n",
       "SMeVVs1rE0EUf+luPnc35uJBFMzNW8mhWhTBgIjVg41SPChq/gCxqx5CaqA9xVBBWkWQoLgUiigq\n",
       "QRQ/2uoSkRZ6MBdRKGoUFUGkKakpQqzOx+ZrJtNM32H27by3vzfz9v3eDICkfFjLqIdBXrwW+iBp\n",
       "wje7rfngOqD2IQhFjcGwIJL8svTDaPjut2BK4HBfGqoLR7XdJqwIHAQbbyNbi3jst11La8WSkgky\n",
       "ZsEbEzi4qpJIwVXyeAiaMPjt5pctYiiUbyxXoL8gcnmLI9asPc7zDO+H8o0ln7hVFEEtRgHmgYHq\n",
       "4t0XQ46SZS19p45Njp7A0SIAD1go3eKgPtEYlr7MWi6MQwByxAjGGAsFvRzUdTL6CprJWq4C7FCi\n",
       "uN5L4CtyUK85qEtkVBPj9ZmFTIYs/gYEw5uw4lmFH8BBBaIs1B92YnOqrmr2NCmsCiTRY/bc1/Mm\n",
       "gnKor4yxX7J00e819HcGKQH9L8ygMWJc9FkIyqG+QZa+6y6WO44bQ5PGT9Zz87VwadQ8bKWqFhGU\n",
       "Q33PCFvsLJTWhBrqpkoZBhAwaDmSK4f6rhJLsAoeN/zDQmwb8YJpzRxQI7V8DhAvk6adUl8A1SQ/\n",
       "G6ql4W0RqDTpISEKRamvjjRyNdF2g+66psR76Ktexmn32MPgtTEUpb7BlrvO/kF/vVS/BNEH12i4\n",
       "nWhb8Zfwi6yKUt8fYYuhzE6ka8q0ZkN+gSahDxN+9maBQFHqB0Lsl0fYifwj2oDV45NTj38/w9oy\n",
       "SxxM/TmOOM+5mb1PM61pMKotdHaoz9N5e+dGq6D/9aIBRanfpskMdj5PAuGW1kepr/Gt702hIxR2\n",
       "qTfks87zI++ndT6aBotyJ45Bziw90b2/V+SSlT3nCXNewXtzVORyVPZIHcLDbthjHxLddGKyUG5c\n",
       "tbbw8oEcCrJQDi1X1l62nDwhzWZJeBM4KQ81h3Z4Gh1QKYE5Lg8VvAxqRSsFBSmZWccFEj6Dvi2V\n",
       "FFxudXzc/QemX9OTAcIugAAAAABJRU5ErkJggg==\n",
       "\" style=\"display:inline;vertical-align:middle;\" /></a></span><br>"
      ],
      "text/plain": [
       "divides_def_inst: |- (x | y) = ((y / x) in Integer)"
      ]
     },
     "execution_count": 5,
     "metadata": {},
     "output_type": "execute_result"
    }
   ],
   "source": [
    "divides_def_inst = divides_def.instantiate(\n",
    "    {x:x, y:y})"
   ]
  },
  {
   "cell_type": "code",
   "execution_count": 6,
   "metadata": {},
   "outputs": [
    {
     "data": {
      "text/html": [
       "<span style=\"font-size:20px;\"> <a class=\"ProveItLink\" href=\"../../../../number_sets/integers/_theory_nbs_/proofs/int_membership_is_bool/thm_proof.ipynb\" style=\"text-decoration: none\">&nbsp;&#x22A2;&nbsp;&nbsp;</a><a class=\"ProveItLink\" href=\"../../../../number_sets/integers/__pv_it/theorems/61eb8237e30765709b602c6d4460339ea1f22e910/expr.ipynb\"><img src=\"data:image/png;base64,iVBORw0KGgoAAAANSUhEUgAAAJkAAAAUBAMAAABsXIKPAAAAMFBMVEX///8QEBCIiIhmZma6urrM\n",
       "zMxUVFQiIiJERETc3Nzu7u6qqqp2dnaYmJgyMjIAAAAcRTyBAAAAAXRSTlMAQObYZgAAAkpJREFU\n",
       "OMuFlDGI02AUx//GpE1yaewg9CYNCg43lQM3h6rD4aHQ6VaLeOANSm8SQaToYHuDdDpdxIigxyGl\n",
       "4CA6lZyD9AYDCiJ4UkEXwaMKgiKo7/tek+azCX3wp19/H/nnfe99L8Bk3B0pI2ba6fwZaSAWO0lq\n",
       "N1gToa9+2y19DLGiYm21+ad0HsjRW7YF+JLcddusidBuVDEwgc5/3DW8jQchbErsDv21lExejzQR\n",
       "e3twui8Ax1O5qYdalSwCMvZpu5vcvDJSHIWbl69JNx/rRpnKUFQ5uc10ye0+of7m5u3ks1adFYdx\n",
       "3Y/Xa6ZYf1I5uTmL5OZWgJ/N5lWlOmWWfWjlRCBAZ2xW8GS/tqBwcltYqtIR6alloKVUIWQ9xltP\n",
       "HiTRwg3u9Qco3NRLf/eLd1EbTspmjCPfZfXxyj8lQKJFyznZ66dQuDjpTo8uItUnDy1Muu2psHw0\n",
       "uTwHdin4wpVPy9+zKic3NM4QGdJpwzzS3IDv3JVxbq7Ipz9ys5K5oZFjN2uwRCQ4eqSqnhTGDwbF\n",
       "2G3bqci/CyoXbjWXUhc3oUVTofmX8hW1C8+1IeYEmI/vTm2dLl0x6sK8ktt77gKekKWBr9Ge6DNJ\n",
       "/20OrTBKlp/y12BfpAMeg8Jdo+ds1eSsAPvkoPyKZ7suZZ+bO8wfA/vCIu8cvzXbPDhLL/us8Gjq\n",
       "4YpaFcQtNIZG5mTpL3mC4o9MPZ0/ihb3nIEzderjWnjpPIgWD98E/biobVZmdNKxOgRTv5ZRtNJx\n",
       "RgZTvuSFjLzfAf8AgRyl+yot++sAAAAASUVORK5CYII=\n",
       "\" style=\"display:inline;vertical-align:middle;\" /></a></span>"
      ],
      "text/plain": [
       "|- forall_{x} ((x in Integer) in BOOLEAN)"
      ]
     },
     "execution_count": 6,
     "metadata": {},
     "output_type": "execute_result"
    }
   ],
   "source": [
    "int_membership_is_bool"
   ]
  },
  {
   "cell_type": "code",
   "execution_count": 7,
   "metadata": {},
   "outputs": [
    {
     "data": {
      "text/html": [
       "<strong id=\"int_membership_is_bool_inst\">int_membership_is_bool_inst:</strong> <span style=\"font-size:20px;\"> <a class=\"ProveItLink\" href=\"../../../__pv_it/_proof_divides_is_bool/e28995537e41c4abfec9a1f1685984e759dc61810/proof.ipynb\" style=\"text-decoration: none\">&nbsp;&#x22A2;&nbsp;&nbsp;</a><a class=\"ProveItLink\" href=\"../../../__pv_it/_proof_divides_is_bool/84347f3546bbe7a8c945e7de9b9f821611de16260/expr.ipynb\"><img src=\"data:image/png;base64,iVBORw0KGgoAAAANSUhEUgAAAHQAAAAmBAMAAADn8qLoAAAAMFBMVEX///92dnaqqqpEREQiIiJm\n",
       "Zmbc3NxUVFTMzMzu7u4QEBC6uroyMjKIiIiYmJgAAABs22DkAAAAAXRSTlMAQObYZgAAAoxJREFU\n",
       "SMeFVd1r01AUP2natEmatig++ZL/wEAnY4ofSB9EJuiTU6YGFQQFLQjuwZeAiODLAlMK4mjRIYpT\n",
       "J8yHgdi8OlQiIiI4VtmbqEzBsfo170fapHc56YHe3uR3fznnnvO75wIAFFqAm1pNAOEjWfDOhzNu\n",
       "LPosganfB5D0BizGw0aC25sOwImMB2UEf41Tx8jP1Xz4i+DIRojlVujYdHOryIIsGnGeIaNgNLBv\n",
       "tzHqeZuOgyCjH3+FAaNsPARNtLqfMeAhG2sLx200rpn498pqj/eIzT6enh9+RCZaSaj0vvKfqUtE\n",
       "hcssi576W6S+HYE8WAwUM5vzJ260ILObPqRbsi9SDwJskGisxrKAyHrLcCxIW0yMCyNdoDBQGab/\n",
       "h0GpXqGT1EqALFUqXkBNmRYUD4hl3NFVj+wOsTc/+OPlD6FXaY5QxUBvhbr7yo+j+o8fvxeRgGev\n",
       "OlAXy3kxPKrWBJ9wdWftkDq19oAUTaRaoXid4DPfOSGaJulbCcZN+rDGjG1s+iUxtuKpHhT0Jxuv\n",
       "UaCTJrCeB9SIREKvHvEjuV3qyahXsLLrA+4eIMncTJRE98wD1nqo1TzUxQwf7UxOK+QsHaGB8Axn\n",
       "/B6vn6AoCBTSnR0MyS7UliJ13RMKsSRtqoImHlP1whzvdnfmy9t+baWzQN617W6P/GVvXYfcyIUY\n",
       "KrPTJp4MVKKrpQb0M2xJqt2XmkdaTyDQJKtjrWewL3WLndi0Jt+ffeMnNr64cGgd1VJhf9pDVtzG\n",
       "qAZlSK7U1pG4DLwG96hXkC0M1/Dr9wsbi37C9YsZ74XjDgIrdxOu/L1EGO4iGPGX4XUzoW6nbGia\n",
       "u+BcPLozqeSKQ66cyWPx2VBnMNp/XJCuw+l4vzYAAAAASUVORK5CYII=\n",
       "\" style=\"display:inline;vertical-align:middle;\" /></a></span><br>"
      ],
      "text/plain": [
       "int_membership_is_bool_inst: |- ((y / x) in Integer) in BOOLEAN"
      ]
     },
     "execution_count": 7,
     "metadata": {},
     "output_type": "execute_result"
    }
   ],
   "source": [
    "int_membership_is_bool_inst = int_membership_is_bool.instantiate({x:frac(y, x)})"
   ]
  },
  {
   "cell_type": "code",
   "execution_count": 8,
   "metadata": {},
   "outputs": [
    {
     "data": {
      "text/html": [
       "<span style=\"font-size:20px;\"> <a class=\"ProveItLink\" href=\"../../../__pv_it/_proof_divides_is_bool/2ba2325f98011725c1f4d610e01f481a5ed4e3d30/proof.ipynb\" style=\"text-decoration: none\">&nbsp;&#x22A2;&nbsp;&nbsp;</a><a class=\"ProveItLink\" href=\"../../../__pv_it/theorems/032025661b3f8ce1c10b8cde10fe8a486a6a580c0/expr.ipynb\"><img src=\"data:image/png;base64,iVBORw0KGgoAAAANSUhEUgAAAFEAAAAVBAMAAADMaB9/AAAAMFBMVEX////MzMxUVFR2dna6uroQ\n",
       "EBCqqqqIiIgiIiJmZmYyMjJERETu7u6YmJjc3NwAAACgK8IjAAAAAXRSTlMAQObYZgAAAYBJREFU\n",
       "KM9jYIADGQYCgO8ClGECodge4FJ5mgFVJYMemoKK6P1LmxyAjHXoKk+hm7VAnGfPXAYG3gnoKpkL\n",
       "0FRu8GUo5GZg4HiArpInAELz7ujogqlMA6p8wYCukmEJmGTcfgBhpgnQN5VA5vGiJ8UFQJU8lQUM\n",
       "Tw8wWEKcewBhO0ujIgPDXqB1BrztHAuAKplZAhjqGRhuoQXBBtf+r0C/twG9cID5D8sDoMpnnAsY\n",
       "djMwZEDkkX1ke5mBIQRoJgP3BrA7D7AWMHxnYJAHOzNqFRDAVHKzXACpZGDgL4D4yP8A40eoSj4U\n",
       "M7kZFEC2A+UEICpnMbADg8gDLB+ArJKJYQHIR2wH6hnYD4BUbmLgVoD5aDqKmbwGoCDxT9jP8BZs\n",
       "5iQGf2B6mQyW50iAx6Ywg/EksFWHyo/PvQBWeah8PjDKFkKiStsHNYWgxeYsoJIGCJ/FGhqbUICc\n",
       "QpgW8HzBkkJgYB9CJccF7gIsqQ5LSmYpn4isFWfuKIQ6B0fuAACf2miLoc+niAAAAABJRU5ErkJg\n",
       "gg==\n",
       "\" style=\"display:inline;vertical-align:middle;\" /></a></span>"
      ],
      "text/plain": [
       "|- (x | y) in BOOLEAN"
      ]
     },
     "execution_count": 8,
     "metadata": {},
     "output_type": "execute_result"
    }
   ],
   "source": [
    "divides_def_inst.sub_left_side_into(int_membership_is_bool_inst)"
   ]
  },
  {
   "cell_type": "code",
   "execution_count": 9,
   "metadata": {},
   "outputs": [
    {
     "data": {
      "text/html": [
       "<table><tr><th>&nbsp;</th><th>step type</th><th>requirements</th><th>statement</th></tr>\n",
       "<tr><td><a name=\"-0xb6ddd2c1e2522da_step0\">0</a></td><td>generalizaton</td><td><a href=\"#-0xb6ddd2c1e2522da_step1\">1</a></td><td><span style=\"font-size:20px;\"> <a class=\"ProveItLink\" href=\"../../../__pv_it/_proof_divides_is_bool/3fa4b4134fc6e14d9caebd988b2087498bf1483f0/proof.ipynb\" style=\"text-decoration: none\">&nbsp;&#x22A2;&nbsp;&nbsp;</a><a class=\"ProveItLink\" href=\"../../../__pv_it/theorems/8f86534a0925123cb27dafc582f8ca797aad4dd20/expr.ipynb\"><img src=\"data:image/png;base64,iVBORw0KGgoAAAANSUhEUgAAAJAAAAAWBAMAAADdgQhOAAAAMFBMVEX///8QEBCIiIhmZma6urrM\n",
       "zMxUVFQiIiJERETc3Nzu7u6qqqp2dnaYmJgyMjIAAAAcRTyBAAAAAXRSTlMAQObYZgAAAlRJREFU\n",
       "OMudlEFoE0EUhn/jJrvZ7NocFDzJktLYg1AR2lNbFcGAoGk9eBDBIgp6kSJWD5YaPGgiSFcQWhRx\n",
       "6CGUHiTgwYOX0OYgVWEPHqusoAcFpYqCenJm3qTNbmZBOvAy2X9evsx7+94D/mudxtZXNiCTq0Vb\n",
       "ztf7Cj0UX95pDheVdYJwKea0d/fsh2uHpP5KPH/RgD4ri4Cexr3Ck/bdEanPiygq3Rx3P1kU5Hgx\n",
       "t8px9FlS38H41ugGmT5ZFGTn1d/cuT7TBr2wpO6uLi3NaSKbUxYF4aP8TN9imzdqLZL+u1qd1oB6\n",
       "lS0UH+zzOMju9XCfYYVSxTZDM6Yu8J3rfKtpQPfI7KZ7xQw5yDHyGADex15e5fDN7/ytCf0I7FAD\n",
       "ukHmMOev4XPQo+0hqsBz+nlnst+sQeomUoEGtJPMhlWROWLbPPwAzsoU7fnGVxtkGYHUncBEMgjo\n",
       "8SjZZZb+pUDZyI0sTEg9G57iwvJgcQwwijBZJDTuMkagUaT4uy/Jw3wnKCO6Q+i180CKXTZ5zpwe\n",
       "Nh5Ndo4N8EMBug1rop3sA5EbuU3Sn03yqPFVyA9L6FceK2TlxiweyxsNocxzMUzVulHB4Rm8HgLp\n",
       "Mgn4I/VhnFMeJbJ6YWEkkKB64SAv9E9U4BePRZtW6q7ISno9LQ6uYldyi4xywiQ9Gy9Vi7RbR+l4\n",
       "4oQO5hmmjPWEps2E9k9N08abuf52eRXjDRzt3yjOGjpKvgUzsDzNGNGPl4btW0HCYDMKg9A3E7r0\n",
       "nJ9pntCP2j4Vb8KojekujLXmVkf8P+SuqLuf5iAMAAAAAElFTkSuQmCC\n",
       "\" style=\"display:inline;vertical-align:middle;\" /></a></span></td></tr>\n",
       "<tr><td><a name=\"-0xb6ddd2c1e2522da_step1\">1</a></td><td>instantiation</td><td><a href=\"#-0xb6ddd2c1e2522da_step2\">2</a>, <a href=\"#-0xb6ddd2c1e2522da_step3\">3</a>, <a href=\"#-0xb6ddd2c1e2522da_step4\">4</a></td><td><span style=\"font-size:20px;\"> <a class=\"ProveItLink\" href=\"../../../__pv_it/_proof_divides_is_bool/2ba2325f98011725c1f4d610e01f481a5ed4e3d30/proof.ipynb\" style=\"text-decoration: none\">&nbsp;&#x22A2;&nbsp;&nbsp;</a><a class=\"ProveItLink\" href=\"../../../__pv_it/theorems/032025661b3f8ce1c10b8cde10fe8a486a6a580c0/expr.ipynb\"><img src=\"data:image/png;base64,iVBORw0KGgoAAAANSUhEUgAAAFEAAAAVBAMAAADMaB9/AAAAMFBMVEX////MzMxUVFR2dna6uroQ\n",
       "EBCqqqqIiIgiIiJmZmYyMjJERETu7u6YmJjc3NwAAACgK8IjAAAAAXRSTlMAQObYZgAAAYBJREFU\n",
       "KM9jYIADGQYCgO8ClGECodge4FJ5mgFVJYMemoKK6P1LmxyAjHXoKk+hm7VAnGfPXAYG3gnoKpkL\n",
       "0FRu8GUo5GZg4HiArpInAELz7ujogqlMA6p8wYCukmEJmGTcfgBhpgnQN5VA5vGiJ8UFQJU8lQUM\n",
       "Tw8wWEKcewBhO0ujIgPDXqB1BrztHAuAKplZAhjqGRhuoQXBBtf+r0C/twG9cID5D8sDoMpnnAsY\n",
       "djMwZEDkkX1ke5mBIQRoJgP3BrA7D7AWMHxnYJAHOzNqFRDAVHKzXACpZGDgL4D4yP8A40eoSj4U\n",
       "M7kZFEC2A+UEICpnMbADg8gDLB+ArJKJYQHIR2wH6hnYD4BUbmLgVoD5aDqKmbwGoCDxT9jP8BZs\n",
       "5iQGf2B6mQyW50iAx6Ywg/EksFWHyo/PvQBWeah8PjDKFkKiStsHNYWgxeYsoJIGCJ/FGhqbUICc\n",
       "QpgW8HzBkkJgYB9CJccF7gIsqQ5LSmYpn4isFWfuKIQ6B0fuAACf2miLoc+niAAAAABJRU5ErkJg\n",
       "gg==\n",
       "\" style=\"display:inline;vertical-align:middle;\" /></a></span></td></tr>\n",
       "<tr><td>&nbsp;</td><td colspan=4 style=\"text-align:left\"><span style=\"font-size:20px;\"><a class=\"ProveItLink\" href=\"../../../__pv_it/_proof_divides_is_bool/f7c00ab253a0854833b7e2e433c52d2d5254155b0/expr.ipynb\"><img src=\"data:image/png;base64,iVBORw0KGgoAAAANSUhEUgAAADcAAAAUBAMAAADbzbjtAAAAMFBMVEX///8iIiLc3Ny6urqIiIiq\n",
       "qqp2dnbMzMwQEBDu7u5mZmYyMjJERERUVFSYmJgAAAA4CJ/KAAAAAXRSTlMAQObYZgAAAQ1JREFU\n",
       "KM9jYIADpgcMyCAITL79f/burgkMDHNQ5Bh4FcDUbwYGnk4Ghk2okpwbQCT7NwYG1i8MfAtQJRlS\n",
       "QATLZyD+xsCogCY5A0TwfABa8JlBEU2OgdsASPADDddfwOCF5O5lS4BuYAPZU5/AwCrGwHAOIWmh\n",
       "wA00jQ/kIv9raUuAPhFFuLOPgesA0JECQPb5CWChZrgk108GRgegL4C6GT4yoElyHGCYXwCRZP8F\n",
       "EUIYOz+BIR5IMQtAvAkCCAfND2C4zaoAdhD3T4hQFlySx4FPlg1odQID1/6/DmAhQ6BBZ4DgJAPn\n",
       "FXddZ6CuAoTnMIJvIhIbe8DDwCFsUQYDaJHNg2INWjJ5xMAAAHA6PhPQZp1jAAAAAElFTkSuQmCC\n",
       "\" style=\"display:inline;vertical-align:middle;\" /></a> : <a class=\"ProveItLink\" href=\"../../../__pv_it/_proof_divides_is_bool/f7ec6777673cd30594b80e16488b0902dd2014520/expr.ipynb\"><img src=\"data:image/png;base64,iVBORw0KGgoAAAANSUhEUgAAAD4AAAAPBAMAAABOyWF/AAAAMFBMVEX///9UVFSqqqrMzMwiIiKY\n",
       "mJgyMjIQEBCIiIh2dnZmZmbc3Nzu7u5ERES6uroAAACFTSmKAAAAAXRSTlMAQObYZgAAAMRJREFU\n",
       "GNNjYMABONzvfiuRY8AN2Jgbzp4KwC3PyxfAYXABUzzWxSUBKs+kgClv24PQz/kGIb9rVvsBIMWT\n",
       "g2T+E0MDGI+vmiEfRDNuQMiX/K+Daz8ewLAWLIrsPs7QCTDe+gMMHiDaPA0IYO5juPAUJl/LwPMZ\n",
       "RO9F1s9wgRHK4fnJwPQBxGBHkRdgg8l/YmBM0AYyuBpQ9EfCeDcYQgTAjnFChO8EzlkCDG/vAsEB\n",
       "hoMd1hIPQMIH7x3AHz8vr0DCFwIAr5Y54qhCm2YAAAAASUVORK5CYII=\n",
       "\" style=\"display:inline;vertical-align:middle;\" /></a>, <a class=\"ProveItLink\" href=\"../../../../../__pv_it/common/a0d9d672aa5e272d907247690c152cc2c6daafb70/expr.ipynb\"><img src=\"data:image/png;base64,iVBORw0KGgoAAAANSUhEUgAAAAsAAAAJBAMAAAAWSsseAAAALVBMVEX///9mZmaqqqrMzMxEREQy\n",
       "MjIiIiKYmJh2dna6urrc3NxUVFSIiIju7u4AAACJHQtQAAAAAXRSTlMAQObYZgAAAEJJREFUCNdj\n",
       "YLhzeuWJAwy8Dew5bAEMHBc43nIuYOBlYHFgAAG+A2DKzgBIMF04x8BzgWGegh/DcgaG22fuiBcw\n",
       "AAATyhBrnyPYZQAAAABJRU5ErkJggg==\n",
       "\" style=\"display:inline;vertical-align:middle;\" /></a> : <a class=\"ProveItLink\" href=\"../../../__pv_it/axioms/d030cbd517b033081824986267d27aef88c1effe0/expr.ipynb\"><img src=\"data:image/png;base64,iVBORw0KGgoAAAANSUhEUgAAAB0AAAAVBAMAAABI7vhRAAAAMFBMVEX///8QEBBmZmaqqqrMzMxE\n",
       "REQyMjIiIiKYmJh2dna6urrc3NxUVFSIiIju7u4AAAA6P00QAAAAAXRSTlMAQObYZgAAAKFJREFU\n",
       "GNNjYIAAPwZUMItm/Ld3dt28AOTzXbrAsPEBA98Ejlr2BCCfk0uA4T4DA+cDzn9cG4D8zUwJDKEM\n",
       "DHwMrAFg/Q8YLzD8BRnAfwFi3voHLF9AfH8HCF+NgVeAgYH5wX0G3gcgfgwD6wGgKoN4hh1geR2G\n",
       "9Q0MDG/uvtVoAPPf3NXfgOo+NWT38iTw/ULmszewXkDmc91VQfLfFSgNAG1HMw+xhLGTAAAAAElF\n",
       "TkSuQmCC\n",
       "\" style=\"display:inline;vertical-align:middle;\" /></a>, <a class=\"ProveItLink\" href=\"../../../../../__pv_it/common/ff7dba4ef0bbe791ab573bf2d9c220a304399ac80/expr.ipynb\"><img src=\"data:image/png;base64,iVBORw0KGgoAAAANSUhEUgAAAAsAAAANBAMAAACN24kIAAAAMFBMVEX///8iIiKYmJhUVFTMzMxE\n",
       "REQyMjKqqqq6urp2dnYQEBDc3NxmZmaIiIju7u4AAACH5sGpAAAAAXRSTlMAQObYZgAAAFlJREFU\n",
       "CNdj4LtzgWHXAwZOjgUM9xkYtvMkMIQyMDzgusDwl4GBof8ByxcgdYyBdwGQCmZgNQBShxn6FYDU\n",
       "47vnNzAwgGUZGJgT+H4AKUYF1gtAiuPuESAJAJGkFvXVdzA+AAAAAElFTkSuQmCC\n",
       "\" style=\"display:inline;vertical-align:middle;\" /></a> : <a class=\"ProveItLink\" href=\"../../../__pv_it/axioms/36d8826c57e873e04afe5c4992189a23c2f72a1d0/expr.ipynb\"><img src=\"data:image/png;base64,iVBORw0KGgoAAAANSUhEUgAAADYAAAAlBAMAAAD7KQfbAAAAMFBMVEX///8iIiKYmJhUVFTMzMxE\n",
       "REQyMjKqqqq6urp2dnYQEBDc3NxmZmaIiIju7u4AAACH5sGpAAAAAXRSTlMAQObYZgAAASxJREFU\n",
       "OMtjYHh7loF7HQN2MKGLgfcDdinugmMMrAHY5fgY1jLwX8BhJsc/Bn8HHHI8CQy3cEgxsBowBOOS\n",
       "4zHg+IRLjs/2zm8GnABoI5rzpH6lLcxSYGAwY3jfgCbHG+PAkMAKZAgxxGIYNIGBs2AGkNF7B+47\n",
       "pkBBMbDcA4bNLAdQlLPEPoCz41gfoMg9Q3CZLiihWmONYD7lQwt+JK4J8wYg+R8MwNYtSwMCiAcP\n",
       "dKLFJEIfG8iMeciSC+Cs6ZwNyFwgOAs3wWAz0JMocowFsGh7EMfAZ4TiUj7TPgijK2xp6PqlqAHD\n",
       "MRUSZgMG3l7ecRNH2uWbwCTLmIBdjvMB5z+ODbjyA66cAgI4cwoQ4MwpDOwP7jPwPsAu118Qz7AJ\n",
       "h77Hd98eUsAuBQCyEExLesrz+gAAAABJRU5ErkJggg==\n",
       "\" style=\"display:inline;vertical-align:middle;\" /></a></span></td></tr><tr><td><a name=\"-0xb6ddd2c1e2522da_step2\">2</a></td><td>theorem</td><td></td><td><span style=\"font-size:20px;\"> <a class=\"ProveItLink\" href=\"../../../../../logic/equality/_theory_nbs_/proofs/sub_left_side_into/thm_proof.ipynb\" style=\"text-decoration: none\">&nbsp;&#x22A2;&nbsp;&nbsp;</a><a class=\"ProveItLink\" href=\"../../../../../logic/equality/__pv_it/theorems/8c444378a3a7afbc2953d40707cf277d9e5724670/expr.ipynb\"><img src=\"data:image/png;base64,iVBORw0KGgoAAAANSUhEUgAAAL8AAAAWBAMAAABj11ATAAAAMFBMVEX///8QEBCIiIhmZma6urrM\n",
       "zMxUVFQiIiJERETc3Nzu7u6qqqp2dnaYmJgyMjIAAAAcRTyBAAAAAXRSTlMAQObYZgAAAthJREFU\n",
       "SMe1VU1oE0EU/rruTzbZJl48eQkWSgkFcxFUREKFqmA19SDeDMEWKrXtoR4sKvGWCrW5WQRxBalY\n",
       "PAQ8iIK41IMQg0YURFDYs1C7KEpbi/rmp5vdJhHF+GD3zXxvZr43782bAf6H3JD6IX0ua3xoz7qd\n",
       "4yvDY3uBaEECegl4zhof2+R5gty9bCNekv0o9edIm4U2EZxygCdJvPaBRSBuA1a5TQQ7M/Q5OO8D\n",
       "tyhulYWFa+1K7ix94xlzwgfixLhSLF74w/k8tNpvBvygcH+Bkqbo7xjpo/hY1BwCpgF1dnT3mcYZ\n",
       "Gf6XRot3YpmW62vrwAMHkRpwD2+Tlyg+lOUDPNd4BTxrnCKzL4wjorOnJYHyrfo0BRiU0gpe2ofJ\n",
       "G4qWAYUYMUzpaUnAjZojOvMtCSJrXHXQHm0U+Z482njNYM2LEFBTAm7UszJxpZZlMOETAJ83CEz3\n",
       "BCuJVShT7ODu6qZ11G4Ydp1AGMmPvhymxIatruNDclkOijJIc8VCBO0rzx6jnD7NWuu9rKYVe8wg\n",
       "fithDwZ2IIx0mJ01bStiOYJSujupF0lmBOiXAYsUefBI8ZASScZ9xmK54hxgianrB9ETIBDGQzBv\n",
       "TygFqAzMxmtyAwLksmyL4Wmo3yOeSSO2sLwlkow1Lcev8v8+5AMEwtjPxutJaJwu4WeCg0z2/xST\n",
       "KC7RfKqL3aBxlrdOxpuQt4Xm8UKaxLYAgTCepOhmOrJQczzeyOqfSJYEGJL6VXGnfk0xh+bsm5Zr\n",
       "kcI51QsQcCMbbGSPkUOOecX0XkCeWgGGJHTZyRJZZuUzWJ5/s1ghhf4et04gjOxcqfmrFJKMtj16\n",
       "9kivLedyMFwPwes6JDJO5WgpUgvWgXCijLuYobhSgQYncTAk/oMT2VQysZJUunMUDQTUGVXJpcfi\n",
       "KfSFg82fzHebn7wNpb53mhAMYKBK7tGRqoXg6j9c8OnGDSr2X63wC2jlxTKsC1d/AAAAAElFTkSu\n",
       "QmCC\n",
       "\" style=\"display:inline;vertical-align:middle;\" /></a></span></td></tr>\n",
       "<tr><td>&nbsp;</td><td colspan=4 style-\"text-align:left\"><a class=\"ProveItLink\" href=\"../../../../../logic/equality/_theory_nbs_/proofs/sub_left_side_into/thm_proof.ipynb\">proveit.logic.equality.sub_left_side_into</a></td></tr><tr><td><a name=\"-0xb6ddd2c1e2522da_step3\">3</a></td><td>instantiation</td><td><a href=\"#-0xb6ddd2c1e2522da_step5\">5</a></td><td><span style=\"font-size:20px;\"> <a class=\"ProveItLink\" href=\"../../../__pv_it/_proof_divides_is_bool/e28995537e41c4abfec9a1f1685984e759dc61810/proof.ipynb\" style=\"text-decoration: none\">&nbsp;&#x22A2;&nbsp;&nbsp;</a><a class=\"ProveItLink\" href=\"../../../__pv_it/_proof_divides_is_bool/84347f3546bbe7a8c945e7de9b9f821611de16260/expr.ipynb\"><img src=\"data:image/png;base64,iVBORw0KGgoAAAANSUhEUgAAAHQAAAAmBAMAAADn8qLoAAAAMFBMVEX///92dnaqqqpEREQiIiJm\n",
       "Zmbc3NxUVFTMzMzu7u4QEBC6uroyMjKIiIiYmJgAAABs22DkAAAAAXRSTlMAQObYZgAAAoxJREFU\n",
       "SMeFVd1r01AUP2natEmatig++ZL/wEAnY4ofSB9EJuiTU6YGFQQFLQjuwZeAiODLAlMK4mjRIYpT\n",
       "J8yHgdi8OlQiIiI4VtmbqEzBsfo170fapHc56YHe3uR3fznnnvO75wIAFFqAm1pNAOEjWfDOhzNu\n",
       "LPosganfB5D0BizGw0aC25sOwImMB2UEf41Tx8jP1Xz4i+DIRojlVujYdHOryIIsGnGeIaNgNLBv\n",
       "tzHqeZuOgyCjH3+FAaNsPARNtLqfMeAhG2sLx200rpn498pqj/eIzT6enh9+RCZaSaj0vvKfqUtE\n",
       "hcssi576W6S+HYE8WAwUM5vzJ260ILObPqRbsi9SDwJskGisxrKAyHrLcCxIW0yMCyNdoDBQGab/\n",
       "h0GpXqGT1EqALFUqXkBNmRYUD4hl3NFVj+wOsTc/+OPlD6FXaY5QxUBvhbr7yo+j+o8fvxeRgGev\n",
       "OlAXy3kxPKrWBJ9wdWftkDq19oAUTaRaoXid4DPfOSGaJulbCcZN+rDGjG1s+iUxtuKpHhT0Jxuv\n",
       "UaCTJrCeB9SIREKvHvEjuV3qyahXsLLrA+4eIMncTJRE98wD1nqo1TzUxQwf7UxOK+QsHaGB8Axn\n",
       "/B6vn6AoCBTSnR0MyS7UliJ13RMKsSRtqoImHlP1whzvdnfmy9t+baWzQN617W6P/GVvXYfcyIUY\n",
       "KrPTJp4MVKKrpQb0M2xJqt2XmkdaTyDQJKtjrWewL3WLndi0Jt+ffeMnNr64cGgd1VJhf9pDVtzG\n",
       "qAZlSK7U1pG4DLwG96hXkC0M1/Dr9wsbi37C9YsZ74XjDgIrdxOu/L1EGO4iGPGX4XUzoW6nbGia\n",
       "u+BcPLozqeSKQ66cyWPx2VBnMNp/XJCuw+l4vzYAAAAASUVORK5CYII=\n",
       "\" style=\"display:inline;vertical-align:middle;\" /></a></span></td></tr>\n",
       "<tr><td>&nbsp;</td><td colspan=4 style=\"text-align:left\"><span style=\"font-size:20px;\"><a class=\"ProveItLink\" href=\"../../../../../__pv_it/common/a0d9d672aa5e272d907247690c152cc2c6daafb70/expr.ipynb\"><img src=\"data:image/png;base64,iVBORw0KGgoAAAANSUhEUgAAAAsAAAAJBAMAAAAWSsseAAAALVBMVEX///9mZmaqqqrMzMxEREQy\n",
       "MjIiIiKYmJh2dna6urrc3NxUVFSIiIju7u4AAACJHQtQAAAAAXRSTlMAQObYZgAAAEJJREFUCNdj\n",
       "YLhzeuWJAwy8Dew5bAEMHBc43nIuYOBlYHFgAAG+A2DKzgBIMF04x8BzgWGegh/DcgaG22fuiBcw\n",
       "AAATyhBrnyPYZQAAAABJRU5ErkJggg==\n",
       "\" style=\"display:inline;vertical-align:middle;\" /></a> : <a class=\"ProveItLink\" href=\"../../../__pv_it/axioms/878844aa0648d29427a913b93ada820a4485e8960/expr.ipynb\"><img src=\"data:image/png;base64,iVBORw0KGgoAAAANSUhEUgAAAAwAAAAlBAMAAACE+BUqAAAAMFBMVEX///8iIiKYmJhUVFTMzMxE\n",
       "REQyMjKqqqq6urp2dnYQEBDc3NxmZmaIiIju7u4AAACH5sGpAAAAAXRSTlMAQObYZgAAAJVJREFU\n",
       "GNNj4LtzgWHXAwZOjgUM9xkYtvMkMIQyMDzgusDwl4GBof8ByxcgdYyBdwGQCmZgNQBShxn6FYDU\n",
       "47vnNzAwgGUZGJgT+H4AKUYF1gtAiuPuEQYC4D8YMFAJvL284+YFBr4JTLKMCQycDzj/cWxg4GNg\n",
       "DQBL8l8AU/4OQIL9wX0G3gcM/QXxDJtAXnh7SIEBAAcTLvnFnCeAAAAAAElFTkSuQmCC\n",
       "\" style=\"display:inline;vertical-align:middle;\" /></a></span></td></tr><tr><td><a name=\"-0xb6ddd2c1e2522da_step4\">4</a></td><td>instantiation</td><td><a href=\"#-0xb6ddd2c1e2522da_step6\">6</a></td><td><span style=\"font-size:20px;\"> <a class=\"ProveItLink\" href=\"../../../__pv_it/_proof_divides_is_bool/944c314c4c15685349f976f5937737aaae09865d0/proof.ipynb\" style=\"text-decoration: none\">&nbsp;&#x22A2;&nbsp;&nbsp;</a><a class=\"ProveItLink\" href=\"../../../__pv_it/axioms/c9a72e65af4674db58b8fb550fe3be1dae4aa11f0/expr.ipynb\"><img src=\"data:image/png;base64,iVBORw0KGgoAAAANSUhEUgAAAJQAAAAmBAMAAADQEK+ZAAAAMFBMVEX////MzMxUVFR2dna6uroQ\n",
       "EBCqqqqIiIgiIiJmZmYyMjJERETu7u6YmJjc3NwAAACgK8IjAAAAAXRSTlMAQObYZgAAAvFJREFU\n",
       "SMeVVs1rE0EUf+luPnc35uJBFMzNW8mhWhTBgIjVg41SPChq/gCxqx5CaqA9xVBBWkWQoLgUiigq\n",
       "QRQ/2uoSkRZ6MBdRKGoUFUGkKakpQqzOx+ZrJtNM32H27by3vzfz9v3eDICkfFjLqIdBXrwW+iBp\n",
       "wje7rfngOqD2IQhFjcGwIJL8svTDaPjut2BK4HBfGqoLR7XdJqwIHAQbbyNbi3jst11La8WSkgky\n",
       "ZsEbEzi4qpJIwVXyeAiaMPjt5pctYiiUbyxXoL8gcnmLI9asPc7zDO+H8o0ln7hVFEEtRgHmgYHq\n",
       "4t0XQ46SZS19p45Njp7A0SIAD1go3eKgPtEYlr7MWi6MQwByxAjGGAsFvRzUdTL6CprJWq4C7FCi\n",
       "uN5L4CtyUK85qEtkVBPj9ZmFTIYs/gYEw5uw4lmFH8BBBaIs1B92YnOqrmr2NCmsCiTRY/bc1/Mm\n",
       "gnKor4yxX7J00e819HcGKQH9L8ygMWJc9FkIyqG+QZa+6y6WO44bQ5PGT9Zz87VwadQ8bKWqFhGU\n",
       "Q33PCFvsLJTWhBrqpkoZBhAwaDmSK4f6rhJLsAoeN/zDQmwb8YJpzRxQI7V8DhAvk6adUl8A1SQ/\n",
       "G6ql4W0RqDTpISEKRamvjjRyNdF2g+66psR76Ktexmn32MPgtTEUpb7BlrvO/kF/vVS/BNEH12i4\n",
       "nWhb8Zfwi6yKUt8fYYuhzE6ka8q0ZkN+gSahDxN+9maBQFHqB0Lsl0fYifwj2oDV45NTj38/w9oy\n",
       "SxxM/TmOOM+5mb1PM61pMKotdHaoz9N5e+dGq6D/9aIBRanfpskMdj5PAuGW1kepr/Gt702hIxR2\n",
       "qTfks87zI++ndT6aBotyJ45Bziw90b2/V+SSlT3nCXNewXtzVORyVPZIHcLDbthjHxLddGKyUG5c\n",
       "tbbw8oEcCrJQDi1X1l62nDwhzWZJeBM4KQ81h3Z4Gh1QKYE5Lg8VvAxqRSsFBSmZWccFEj6Dvi2V\n",
       "FFxudXzc/QemX9OTAcIugAAAAABJRU5ErkJggg==\n",
       "\" style=\"display:inline;vertical-align:middle;\" /></a></span></td></tr>\n",
       "<tr><td>&nbsp;</td><td colspan=4 style=\"text-align:left\"><span style=\"font-size:20px;\"><a class=\"ProveItLink\" href=\"../../../../../__pv_it/common/a0d9d672aa5e272d907247690c152cc2c6daafb70/expr.ipynb\"><img src=\"data:image/png;base64,iVBORw0KGgoAAAANSUhEUgAAAAsAAAAJBAMAAAAWSsseAAAALVBMVEX///9mZmaqqqrMzMxEREQy\n",
       "MjIiIiKYmJh2dna6urrc3NxUVFSIiIju7u4AAACJHQtQAAAAAXRSTlMAQObYZgAAAEJJREFUCNdj\n",
       "YLhzeuWJAwy8Dew5bAEMHBc43nIuYOBlYHFgAAG+A2DKzgBIMF04x8BzgWGegh/DcgaG22fuiBcw\n",
       "AAATyhBrnyPYZQAAAABJRU5ErkJggg==\n",
       "\" style=\"display:inline;vertical-align:middle;\" /></a> : <a class=\"ProveItLink\" href=\"../../../../../__pv_it/common/a0d9d672aa5e272d907247690c152cc2c6daafb70/expr.ipynb\"><img src=\"data:image/png;base64,iVBORw0KGgoAAAANSUhEUgAAAAsAAAAJBAMAAAAWSsseAAAALVBMVEX///9mZmaqqqrMzMxEREQy\n",
       "MjIiIiKYmJh2dna6urrc3NxUVFSIiIju7u4AAACJHQtQAAAAAXRSTlMAQObYZgAAAEJJREFUCNdj\n",
       "YLhzeuWJAwy8Dew5bAEMHBc43nIuYOBlYHFgAAG+A2DKzgBIMF04x8BzgWGegh/DcgaG22fuiBcw\n",
       "AAATyhBrnyPYZQAAAABJRU5ErkJggg==\n",
       "\" style=\"display:inline;vertical-align:middle;\" /></a>, <a class=\"ProveItLink\" href=\"../../../../../__pv_it/common/ff7dba4ef0bbe791ab573bf2d9c220a304399ac80/expr.ipynb\"><img src=\"data:image/png;base64,iVBORw0KGgoAAAANSUhEUgAAAAsAAAANBAMAAACN24kIAAAAMFBMVEX///8iIiKYmJhUVFTMzMxE\n",
       "REQyMjKqqqq6urp2dnYQEBDc3NxmZmaIiIju7u4AAACH5sGpAAAAAXRSTlMAQObYZgAAAFlJREFU\n",
       "CNdj4LtzgWHXAwZOjgUM9xkYtvMkMIQyMDzgusDwl4GBof8ByxcgdYyBdwGQCmZgNQBShxn6FYDU\n",
       "47vnNzAwgGUZGJgT+H4AKUYF1gtAiuPuESAJAJGkFvXVdzA+AAAAAElFTkSuQmCC\n",
       "\" style=\"display:inline;vertical-align:middle;\" /></a> : <a class=\"ProveItLink\" href=\"../../../../../__pv_it/common/ff7dba4ef0bbe791ab573bf2d9c220a304399ac80/expr.ipynb\"><img src=\"data:image/png;base64,iVBORw0KGgoAAAANSUhEUgAAAAsAAAANBAMAAACN24kIAAAAMFBMVEX///8iIiKYmJhUVFTMzMxE\n",
       "REQyMjKqqqq6urp2dnYQEBDc3NxmZmaIiIju7u4AAACH5sGpAAAAAXRSTlMAQObYZgAAAFlJREFU\n",
       "CNdj4LtzgWHXAwZOjgUM9xkYtvMkMIQyMDzgusDwl4GBof8ByxcgdYyBdwGQCmZgNQBShxn6FYDU\n",
       "47vnNzAwgGUZGJgT+H4AKUYF1gtAiuPuESAJAJGkFvXVdzA+AAAAAElFTkSuQmCC\n",
       "\" style=\"display:inline;vertical-align:middle;\" /></a></span></td></tr><tr><td><a name=\"-0xb6ddd2c1e2522da_step5\">5</a></td><td>conjecture</td><td></td><td><span style=\"font-size:20px;\"> <a class=\"ProveItLink\" href=\"../../../../number_sets/integers/_theory_nbs_/proofs/int_membership_is_bool/thm_proof.ipynb\" style=\"text-decoration: none\">&nbsp;&#x22A2;&nbsp;&nbsp;</a><a class=\"ProveItLink\" href=\"../../../../number_sets/integers/__pv_it/theorems/61eb8237e30765709b602c6d4460339ea1f22e910/expr.ipynb\"><img src=\"data:image/png;base64,iVBORw0KGgoAAAANSUhEUgAAAJkAAAAUBAMAAABsXIKPAAAAMFBMVEX///8QEBCIiIhmZma6urrM\n",
       "zMxUVFQiIiJERETc3Nzu7u6qqqp2dnaYmJgyMjIAAAAcRTyBAAAAAXRSTlMAQObYZgAAAkpJREFU\n",
       "OMuFlDGI02AUx//GpE1yaewg9CYNCg43lQM3h6rD4aHQ6VaLeOANSm8SQaToYHuDdDpdxIigxyGl\n",
       "4CA6lZyD9AYDCiJ4UkEXwaMKgiKo7/tek+azCX3wp19/H/nnfe99L8Bk3B0pI2ba6fwZaSAWO0lq\n",
       "N1gToa9+2y19DLGiYm21+ad0HsjRW7YF+JLcddusidBuVDEwgc5/3DW8jQchbErsDv21lExejzQR\n",
       "e3twui8Ax1O5qYdalSwCMvZpu5vcvDJSHIWbl69JNx/rRpnKUFQ5uc10ye0+of7m5u3ks1adFYdx\n",
       "3Y/Xa6ZYf1I5uTmL5OZWgJ/N5lWlOmWWfWjlRCBAZ2xW8GS/tqBwcltYqtIR6alloKVUIWQ9xltP\n",
       "HiTRwg3u9Qco3NRLf/eLd1EbTspmjCPfZfXxyj8lQKJFyznZ66dQuDjpTo8uItUnDy1Muu2psHw0\n",
       "uTwHdin4wpVPy9+zKic3NM4QGdJpwzzS3IDv3JVxbq7Ipz9ys5K5oZFjN2uwRCQ4eqSqnhTGDwbF\n",
       "2G3bqci/CyoXbjWXUhc3oUVTofmX8hW1C8+1IeYEmI/vTm2dLl0x6sK8ktt77gKekKWBr9Ge6DNJ\n",
       "/20OrTBKlp/y12BfpAMeg8Jdo+ds1eSsAPvkoPyKZ7suZZ+bO8wfA/vCIu8cvzXbPDhLL/us8Gjq\n",
       "4YpaFcQtNIZG5mTpL3mC4o9MPZ0/ihb3nIEzderjWnjpPIgWD98E/biobVZmdNKxOgRTv5ZRtNJx\n",
       "RgZTvuSFjLzfAf8AgRyl+yot++sAAAAASUVORK5CYII=\n",
       "\" style=\"display:inline;vertical-align:middle;\" /></a></span></td></tr>\n",
       "<tr><td>&nbsp;</td><td colspan=4 style-\"text-align:left\"><a class=\"ProveItLink\" href=\"../../../../number_sets/integers/_theory_nbs_/proofs/int_membership_is_bool/thm_proof.ipynb\">proveit.numbers.number_sets.integers.int_membership_is_bool</a></td></tr><tr><td><a name=\"-0xb6ddd2c1e2522da_step6\">6</a></td><td>axiom</td><td></td><td><span style=\"font-size:20px;\"> <a class=\"ProveItLink\" href=\"../../axioms.ipynb#divides_def\" style=\"text-decoration: none\">&nbsp;&#x22A2;&nbsp;&nbsp;</a><a class=\"ProveItLink\" href=\"../../../__pv_it/axioms/66faaf3fe115a7bf532b9576f80d04f09c94018d0/expr.ipynb\"><img src=\"data:image/png;base64,iVBORw0KGgoAAAANSUhEUgAAANwAAAAmBAMAAABdfejNAAAAMFBMVEX///8QEBCIiIhmZma6urrM\n",
       "zMxUVFQiIiJERETc3Nzu7u6qqqp2dnaYmJgyMjIAAAAcRTyBAAAAAXRSTlMAQObYZgAABCRJREFU\n",
       "WMONWF1IFFEUPurs7uzs7CpR0Q/ZoiQikRZYEGWWkNRDrgQ99JJIRb6ERFJRiBmYCtYKlVKEow8q\n",
       "ErnQU724mQ+hUFsEFfSzFggFhVlCalH3Z2bu7Mzc8R7Yb4a9d+937jn3fPfeBfCw9yBq4ZRHo1LH\n",
       "0MOy08J0W9BwhVHo1lxbD1mQb3s1UTZpHYAq5UEpx+86hvwYrBKeXH8M4E5OGto57d8syDN/nTDd\n",
       "SfTRsqIwx2mnQe72jNaxuCibbwFjjeab9/Tc2/8Z4clFyDgVkJ3H82eRIceCC8J0fSQObSBz3f9k\n",
       "QXfLySyDox5dKwhuhxpu9b2woLuhzOM5GiNM6M+HLl1XEBws2MPNdl+ljmmefPTFMA6Djc7vHDI4\n",
       "nzFLi1VvzJ9u3oB9TwLFKfz86kL3keAXO53ilJrwLPEjrfyytxSXQwRaSCPtAr3YvRYXuh1kpDI7\n",
       "HYw7s9yIMZCSo/aWXQBTKo5jNvEIYQTVnppwoTtPxog76PodPQPEW6mgnM336rlm/NwJwbrD+CW0\n",
       "oGN4cmSkxy27PzGwFpMuUmnvmVtmL7NWUz9krZN8s2Tg7/b2S250RJAK0Weg6MbmKKLTJV8tc9DZ\n",
       "g3ifqdVLujUpfw08AdDhJtCkQxd6SYbPBNKITpf8MMn6s+/YPpOuo/Zya2CjtAxbnMdY5bbY0PIh\n",
       "dBdRYjV1UYojOl3yQ42OkrHTsZXnj+nUfwwMQLabGNBor0QOgtxCcqdLvm/WoeV4peX+w0bafPl4\n",
       "5qSpSkpaVgJGNRUALzo9NxOG5HPorIFhs0vLODxWumD6CK6m8iKkIlIRBDRbMNFwMUpHJV9qZLmb\n",
       "cQ+muTGoCfSzLJxDEkyCHcdRAWqnA2iBq7larZHkOX2phLRS1IzpqOSHHZketa/MbcbLrSD6wVbT\n",
       "eYIPkLs+urPfroZioyvx5wkKYeI63CWzo5Kfk3QUgv2bgBHdTlmDwTcZdaeXzYKuOvXGb1YTjcVC\n",
       "P7A7Reio5Edijr3Dvs0ppw7SE9Oa6fbLP67gNyKnBMM4W75ZH/7iLJjnoWsuIoYlf8ixqmRHeKWn\n",
       "VMSYqi0yxNlW0yr0atAkmevusV2idcl3SrSat+x+T7uYHQdfjU9CbQL2F5uejpEl2sHoqOS7aEJo\n",
       "UfA0E8mMekKJy+aiptJk2V6p5Mtxjt55Gh0sU+1CcX+SnazpOcc8PGzSn29dBmtblm4sztDMJ0jv\n",
       "2JoOL5+RjIOPUtCwb9z78FThdWZfEqYbxXV2D15Hm3k91luQf6sRNHJVmoTn2gFehzyG3JNfTJgP\n",
       "F6vGvZCgoVIMuVdE8evdB8sWyg/UMuFqFaYjZzDuhQSCaxnybUg4mkoTwCN0rCvhDJRg6HEpuSA8\n",
       "vZ64tCTPBjnJ6bKgh90UpgvGlPqSQs5fB0qlif8BmJM0CfLsRSsAAAAASUVORK5CYII=\n",
       "\" style=\"display:inline;vertical-align:middle;\" /></a></span></td></tr>\n",
       "<tr><td>&nbsp;</td><td colspan=4 style-\"text-align:left\"><a class=\"ProveItLink\" href=\"../../axioms.ipynb#divides_def\">proveit.numbers.divisibility.divides_def</a></td></tr></table>"
      ],
      "text/plain": [
       "\tstep type\trequirements\tstatement\n",
       "0\tgeneralizaton\t1\t|- forall_{x, y} ((x | y) in BOOLEAN)\n",
       "1\tinstantiation\t2, 3, 4\t|- (x | y) in BOOLEAN\n",
       "\tP(_a) : _a in BOOLEAN, x : x | y, y : (y / x) in Integer\n",
       "2\ttheorem\t\t|- forall_{P, x, y | P(y), x = y} P(x)\n",
       "\tproveit.logic.equality.sub_left_side_into\n",
       "3\tinstantiation\t5\t|- ((y / x) in Integer) in BOOLEAN\n",
       "\tx : y / x\n",
       "4\tinstantiation\t6\t|- (x | y) = ((y / x) in Integer)\n",
       "\tx : x, y : y\n",
       "5\tconjecture\t\t|- forall_{x} ((x in Integer) in BOOLEAN)\n",
       "6\taxiom\t\t|- forall_{x, y} ((x | y) = ((y / x) in Integer))\n",
       "\tproveit.numbers.divisibility.divides_def"
      ]
     },
     "execution_count": 9,
     "metadata": {},
     "output_type": "execute_result"
    }
   ],
   "source": [
    "%qed"
   ]
  },
  {
   "cell_type": "code",
   "execution_count": null,
   "metadata": {},
   "outputs": [],
   "source": []
  }
 ],
 "metadata": {
  "kernelspec": {
   "display_name": "Python 3",
   "language": "python",
   "name": "python3"
  }
 },
 "nbformat": 4,
 "nbformat_minor": 0
}