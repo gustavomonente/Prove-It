{
 "cells": [
  {
   "cell_type": "markdown",
   "metadata": {},
   "source": [
    "Proof of <a class=\"ProveItLink\" href=\"../../../../../_theory_nbs_/theory.ipynb\">proveit</a>.<a class=\"ProveItLink\" href=\"../../../../_theory_nbs_/theory.ipynb\">numbers</a>.<a class=\"ProveItLink\" href=\"../../theory.ipynb\">divisibility</a>.<a class=\"ProveItLink\" href=\"../../theorems.ipynb#left_factor_divisibility\">left_factor_divisibility</a> theorem\n",
    "========"
   ]
  },
  {
   "cell_type": "code",
   "execution_count": 1,
   "metadata": {},
   "outputs": [],
   "source": [
    "import proveit\n",
    "theory = proveit.Theory() # the theorem's theory"
   ]
  },
  {
   "cell_type": "code",
   "execution_count": 2,
   "metadata": {},
   "outputs": [
    {
     "data": {
      "text/html": [
       "Under these <a href=\"presumptions.txt\">presumptions</a>, we begin our proof of<br><strong id=\"left_factor_divisibility\">left_factor_divisibility:</strong> <a class=\"ProveItLink\" href=\"../../../__pv_it/theorems/5277d548c6b5db92617df20526edf3461884eb610/expr.ipynb\"><img src=\"data:image/png;base64,iVBORw0KGgoAAAANSUhEUgAAAOMAAAAXCAMAAADOUwhxAAAAOVBMVEX///8oKCgUFBQNDQ0QEBCI\n",
       "iIhmZma6urrMzMxUVFQiIiJERETc3Nzu7u6qqqp2dnaYmJgyMjIAAAArQGDrAAAAAXRSTlMAQObY\n",
       "ZgAAA0BJREFUWMPdWImO3CAMpW24zZX//9hiEwgQJrPTXWlGRdowirme/fxwlrEPb8qx/61BnF4E\n",
       "eWN82Dz0fWrvY3w/RGfZY4xX4+OmoeuDr6/TB7AiwQ3Gq/HGWanroToH7PshRsEeY1wYb1rgXV/D\n",
       "dwb0fc3ADUYDL7F+6/oYHDYwHyA4izM0jK8eMMmu3y02E96PkR9sdJxrkJxo1jCujFPouMCXsBEz\n",
       "wzGeeq3wp4WfPK28pREdOfCLV21RdpcN0XBmUo9xZZxCziQSk+8lfY8B1EvR6dDysrFBG83vlHqz\n",
       "QVhxisKdfglFGZLX1XM6FkkI2Qlhd0xCj3FlPF2G8fNMIApbNvcHt0uPD365HJ0PQuS3Ttm8ikor\n",
       "LtcxKAfBcfcVjEDIDGXJdFttsh3a2jkfV0Z6saeGdcNA7CUaamddH2LBOcq49eBwwQiEzi8wtjHZ\n",
       "xSr2VcgNRvRYPhgGc/NLjOw86BXjYCwBbnSQ6DRFS88YITGl620iFMcElZV3Uvky5+CG5DjUONaN\n",
       "IQay3gl2uKmONcv8UDbG5UxccpWdB71ydTDOWYAR5celIc3QW9Blpcw2nYhHLT2jizAmdnaW2sYy\n",
       "EKPt1RpjW1OTfv/JfzEfE51k+FJzvCu6QdyfNWcwzhTR9TFrTp4nDsz5mImWci1E3vkeIzj0C7fD\n",
       "GJTtIYw9xrZmQezZGcdtwljkXu6e2b1W4A3jyjjHUeOAwyLC2HcEp82ZMuR0y7NaqZEZOIdE9hyD\n",
       "0UW9A7fOxx3msrrk4z5dMYVWTnOer7rjE6FhXBlnCcxGUTdLauyjO7lOnmenrAvHB4lGJm807xwj\n",
       "vcJNAywxHmvqlNLvX/mBYV3q6k/UcqKqrBn7RsSdhcSIdaEFDwT9znUFkCQalflQtlen4IguyweM\n",
       "3Zr13qhVy+V+/GZNntM+E0QuavIh1lHm8oO8a5uMuZCSRV1UpPVSc3v4qo6JWusQ0iniHcZ+zXJv\n",
       "HCBDWJzZ3n1bPSvFUKYtX3xbPS4ea671FU+eBE3i1mNu7kf/tCb+1jeyzNmoJn+8XKKiwupcFaan\n",
       "I9eneT7vqpdc/cv/Oup9F1+uwnELGcMXvlCWGOMHfKH+YBOfdJi/gg0lcS9Y1rMAAAAASUVORK5C\n",
       "YII=\n",
       "\" style=\"display:inline;vertical-align:middle;\" /></a><br>(see <a class=\"ProveItLink\" href=\"../../../__pv_it/theorems/bc81a714bf8fca3ba4491794291159525c32756b0/dependencies.ipynb\">dependencies</a>)<br>"
      ],
      "text/plain": [
       "left_factor_divisibility: forall_{x in Complex, y in Integer | x != 0} (x | (x * y))"
      ]
     },
     "execution_count": 2,
     "metadata": {},
     "output_type": "execute_result"
    }
   ],
   "source": [
    "%proving left_factor_divisibility"
   ]
  },
  {
   "cell_type": "code",
   "execution_count": null,
   "metadata": {},
   "outputs": [],
   "source": []
  }
 ],
 "metadata": {
  "kernelspec": {
   "display_name": "Python 3",
   "language": "python",
   "name": "python3"
  }
 },
 "nbformat": 4,
 "nbformat_minor": 0
}