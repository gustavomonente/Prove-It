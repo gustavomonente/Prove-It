{
 "cells": [
  {
   "cell_type": "markdown",
   "metadata": {},
   "source": [
    "Proof of <a class=\"ProveItLink\" href=\"../../../../../_theory_nbs_/theory.ipynb\">proveit</a>.<a class=\"ProveItLink\" href=\"../../../../_theory_nbs_/theory.ipynb\">numbers</a>.<a class=\"ProveItLink\" href=\"../../theory.ipynb\">divisibility</a>.<a class=\"ProveItLink\" href=\"../../theorems.ipynb#divides_sum\">divides_sum</a> theorem\n",
    "========"
   ]
  },
  {
   "cell_type": "code",
   "execution_count": 1,
   "metadata": {},
   "outputs": [],
   "source": [
    "import proveit\n",
    "theory = proveit.Theory() # the theorem's theory"
   ]
  },
  {
   "cell_type": "code",
   "execution_count": 2,
   "metadata": {},
   "outputs": [
    {
     "data": {
      "text/html": [
       "Under these <a href=\"presumptions.txt\">presumptions</a>, we begin our proof of<br><strong id=\"divides_sum\">divides_sum:</strong> <a class=\"ProveItLink\" href=\"../../../__pv_it/theorems/4a62d28dee49cc4a15299eb160678fe522a98ba50/expr.ipynb\"><img src=\"data:image/png;base64,iVBORw0KGgoAAAANSUhEUgAAAOQAAAAXBAMAAADpf/4JAAAAMFBMVEX///8QEBCIiIhmZma6urrM\n",
       "zMxUVFQiIiJERETc3Nzu7u6qqqp2dnaYmJgyMjIAAAAcRTyBAAAAAXRSTlMAQObYZgAAAxNJREFU\n",
       "SMe9lk1oE0EYht8mu0l2s0mKKIhCiQZKKR6CIAgWiRUsgj9bDypeGoI9FGrpoR4qWoIHaQuVXGqL\n",
       "IK5SlFbRgKAoFEK8taLBCiq0soeKUDAEQbAVwW92uz9jtr1scWCYefNN9tmdeeebAbauiBr+V7mz\n",
       "3ioZTtaVl1SjBUBnYskPUc5zSFvWlRDh0APMM7HiBxkvcEhb1r8b+7wnwCQ1Ut4PcgEccsEdiybd\n",
       "qswGJRGnNVeKfpCDPHJwY+Q99qmNiM3NzEz4IUr9HNKR9cg4G7AM/BoevuoHGUjTq+/taS+bSCbv\n",
       "74e0i0d2bBcrUCiG10A3MLLB0wSnm+ECbhWpAI/xMTlkIpksHUGgxiHlsdRBIMb88wU4ajrJq0Sc\n",
       "Lm8wtwqTEebwTjtuIklKxcOI5HmkYdEom/QXNAaBih9kA4E0DFtrSVLGNiSIpVSr35qq1awx7DzZ\n",
       "VGSf3kWBShh+kcAPFxLCGrpUfi0FBraQkn6WbZkDzTRIaEaYJcqJlXEHqaTOdBOkPYsrjpKGplVn\n",
       "YiH+tJBMBnXs+cexzw0um9gOqiMXyWdaX5j+oCS0ThY7tJh0kK0hfYAgpTWx0VHB2bLLPq/ILa2O\n",
       "fSJZ3OCR0TRCjn3wjNgivrPI7Q60GEMeuSZWjdNT8tJUfyBvKzKElT7I+cLvSE2qmEi2EYJZ4Q+P\n",
       "PLf4nvZjsETdNqoJ4+dVI9SGnGGwjHstEwUGCZZCSUdhyt5J/ZBzraml9YllkyfnUqs8Mh1romCc\n",
       "rcVXqjHNWFmRhQawgzXjuOBCdkElSDjToDpKUu3T0SvhBXWv7POQfY2Vne4quoJJDZeFGjVS72ze\n",
       "Rkq1tygxpHoa0qilbs1/2jit9+HperKQNY+0bpYHH8pz6CziWItOTUzcqdlI+dKJfRpBhNxNiLst\n",
       "VekctbcSf3iRvIbrmx1e7lKUC8xwRc99OY0xmiiPXVp/RLenVM9tzt6NT67RQqh0yrwreCB7Bd28\n",
       "S9QlBuvmEVA3v4h8ZsbhD/AYhMUSazyRJ99QU/FCbmUJOt00F0j7eepfXgfStPPcnqEAAAAASUVO\n",
       "RK5CYII=\n",
       "\" style=\"display:inline;vertical-align:middle;\" /></a><br>(see <a class=\"ProveItLink\" href=\"../../../__pv_it/theorems/9985969cc0e83c0ca829b18fba31dc792dc46de80/dependencies.ipynb\">dependencies</a>)<br>"
      ],
      "text/plain": [
       "divides_sum: forall_{x, y, z | x | y, x | z} (x | (y + z))"
      ]
     },
     "execution_count": 2,
     "metadata": {},
     "output_type": "execute_result"
    }
   ],
   "source": [
    "%proving divides_sum"
   ]
  },
  {
   "cell_type": "code",
   "execution_count": null,
   "metadata": {},
   "outputs": [],
   "source": []
  }
 ],
 "metadata": {
  "kernelspec": {
   "display_name": "Python 3",
   "language": "python",
   "name": "python3"
  }
 },
 "nbformat": 4,
 "nbformat_minor": 0
}