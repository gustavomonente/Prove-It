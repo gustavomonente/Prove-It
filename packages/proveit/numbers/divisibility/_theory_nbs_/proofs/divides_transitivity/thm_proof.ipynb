{
 "cells": [
  {
   "cell_type": "markdown",
   "metadata": {},
   "source": [
    "Proof of <a class=\"ProveItLink\" href=\"../../../../../_theory_nbs_/theory.ipynb\">proveit</a>.<a class=\"ProveItLink\" href=\"../../../../_theory_nbs_/theory.ipynb\">numbers</a>.<a class=\"ProveItLink\" href=\"../../theory.ipynb\">divisibility</a>.<a class=\"ProveItLink\" href=\"../../theorems.ipynb#divides_transitivity\">divides_transitivity</a> theorem\n",
    "========"
   ]
  },
  {
   "cell_type": "code",
   "execution_count": 1,
   "metadata": {},
   "outputs": [],
   "source": [
    "import proveit\n",
    "theory = proveit.Theory() # the theorem's theory"
   ]
  },
  {
   "cell_type": "code",
   "execution_count": 2,
   "metadata": {},
   "outputs": [
    {
     "data": {
      "text/html": [
       "Under these <a href=\"presumptions.txt\">presumptions</a>, we begin our proof of<br><strong id=\"divides_transitivity\">divides_transitivity:</strong> <a class=\"ProveItLink\" href=\"../../../__pv_it/theorems/f10b806cc77df382185d4f7caebbac779b855b660/expr.ipynb\"><img src=\"data:image/png;base64,iVBORw0KGgoAAAANSUhEUgAAAKsAAAAXBAMAAACGzqIkAAAAMFBMVEX///8QEBCIiIhmZma6urrM\n",
       "zMxUVFQiIiJERETc3Nzu7u6qqqp2dnaYmJgyMjIAAAAcRTyBAAAAAXRSTlMAQObYZgAAAnxJREFU\n",
       "OMutlU1oE0EUx/9N9iO72U08KAiCFAOlBA+5CIIeQgWL4MfGg4oXS7AHoUoO9VCRsse0UNlLbRHE\n",
       "FYrS6iEgCAqFJcdUdFFBhRT24KkgBEHw4+Kb2WR3k6z1sB0I//fezvx28t6bWWDvhmhjL8fDrmpl\n",
       "X1/Rz2PGdhKqag5gJQvYYsZOEmzOGsCqtNVVUsVMgv2AASya9C7Ks9ZIgp0bwj4G9NbGxkoSqlIb\n",
       "wubI+Fmv302CTZUom0duTDQ5dnK/6EKj0DSw8I8VQmiW+x5EvYwLPMen0XmGVZcKxykDVLNTvHKx\n",
       "IxOa/UWNejIVpoV39hmO5eXPUl5kpNwk2BHauo16L7dXqAXEDjmujKRY4HsXK0zBxyreJdZqx8YM\n",
       "Co5BZgd7ZWc5xGqFi9MEmpjCHfK4mFDm140wCRB/dLEveU1Ycyxcp3Lat2QKanm7wuIn2qMhtih5\n",
       "swRyfov7yONiIr3ZjJTsdaqDIsNmS5D8kuEFsUV8Y1MeTGKcz30WSYKRo4WmslZL0X/3hQy1d4So\n",
       "m4Q/mY7iMuzl9vuvQNqheJ7v7BefcxJVfqrL0dzmLZbNtCOxiVwIuxZ0YQ1qtVjY5kko6YdpaY7l\n",
       "R7d5lkU2ZxYHmCzjagR7DQaB5PIIm82FcmsEt+vw4X3aizzSPA2rNm4LHRJlZtMMsErnLRyGNS5A\n",
       "WeRC3v2tz7teNf548rHZQqWB0+MeiS4etAOsevPsUZtAQvUexENcyHMri0Ebxl2M0dFQLVbXRmzf\n",
       "rmOJzo8v5q7XePAef2QtyTnPJBY7I3jse8LFjP3opLqd/KV/szqEtsMkFnvuDYnrS6JrH+nQLPU9\n",
       "KP1v5V/MEagpL7uwwAAAAABJRU5ErkJggg==\n",
       "\" style=\"display:inline;vertical-align:middle;\" /></a><br>(see <a class=\"ProveItLink\" href=\"../../../__pv_it/theorems/d107538059c0304dd289e494bfca2503a8f9d66e0/dependencies.ipynb\">dependencies</a>)<br>"
      ],
      "text/plain": [
       "divides_transitivity: forall_{x, y, z | x | y, y | z} (x | z)"
      ]
     },
     "execution_count": 2,
     "metadata": {},
     "output_type": "execute_result"
    }
   ],
   "source": [
    "%proving divides_transitivity"
   ]
  },
  {
   "cell_type": "code",
   "execution_count": null,
   "metadata": {},
   "outputs": [],
   "source": []
  }
 ],
 "metadata": {
  "kernelspec": {
   "display_name": "Python 3",
   "language": "python",
   "name": "python3"
  }
 },
 "nbformat": 4,
 "nbformat_minor": 0
}