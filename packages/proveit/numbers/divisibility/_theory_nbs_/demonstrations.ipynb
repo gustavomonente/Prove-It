{
 "cells": [
  {
   "cell_type": "markdown",
   "metadata": {},
   "source": [
    "Demonstrations for the theory of <a class=\"ProveItLink\" href=\"theory.ipynb\">proveit.numbers.divisibility</a>\n",
    "========"
   ]
  },
  {
   "cell_type": "code",
   "execution_count": 1,
   "metadata": {},
   "outputs": [],
   "source": [
    "import proveit\n",
    "from proveit import defaults, free_vars, used_vars, ProofFailure\n",
    "from proveit import a, b, c, n, x, y\n",
    "from proveit.logic import Equals, InSet, NotEquals\n",
    "from proveit.numbers import one, zero, two, three, four, five, six, Complex, Integer, NaturalPos\n",
    "from proveit.numbers import Add, Divides, DividesProper, Exp, GCD, Mult\n",
    "from proveit.numbers.divisibility  import divides_def\n",
    "from proveit.numbers.divisibility import divides_is_bool\n",
    "%begin demonstrations"
   ]
  },
  {
   "cell_type": "markdown",
   "metadata": {},
   "source": [
    "# Divisibility (Divides) $x\\rvert y$ and Greatest Common Divisor (GCD)"
   ]
  },
  {
   "cell_type": "markdown",
   "metadata": {},
   "source": [
    "<div style=\"line-height:1.4; font-size:14pt\">\n",
    "\n",
    "<a href='#introduction'>Introduction</a><br>\n",
    "<a href='#simple_expressions'>Simple Expressions involving Divides $(x \\rvert y)$ and GCD</a><br>\n",
    "<a href='#common_attributes'>Common Attributes of Divides $(x \\rvert y)$ and GCD Expressions</a><br>\n",
    "<a href='#axioms'>Axioms</a><br>\n",
    "<a href='#theorems_and_conjectures'>Theorems & Conjectures</a><br>\n",
    "<a href='#further_demonstrations'>Further Demonstrations</a><br>\n",
    "    <ol>\n",
    "        <li><a href='#demo01'>TBA</a></li>\n",
    "        <li><a href='#demo02'>TBA</a></li>\n",
    "        <li><a href='#demo03'>TBA</a></li>\n",
    "    </ol>\n",
    "<a href='#miscellaneous_testing'>Miscellaneous Testing</a><br>\n",
    "</div>\n"
   ]
  },
  {
   "cell_type": "markdown",
   "metadata": {},
   "source": [
    "## Introduction <a id='introduction'></a>"
   ]
  },
  {
   "cell_type": "markdown",
   "metadata": {},
   "source": [
    "<font size=3>Divisibility of one number by another is a common concern throughout various fields of mathematics $\\dots$ The notation $x\\rvert y$, read as “x divides y,” indicates that $x$ is a factor of $y$, or $y$ is a multiple of $x$, and is often defined as meaning there exists some integer $k$ such that $y=kx$. As we'll see further below in the section on axioms, in Prove-It we define $x\\rvert y$ as meaning that $\\frac{y}{x} \\in \\mathbb{Z}$. This ``_demonstrations_`` notebook explores $x\\rvert y$  expressions and related methods.</font>"
   ]
  },
  {
   "cell_type": "markdown",
   "metadata": {},
   "source": [
    "## Simple Expressions Involving the Divides Class $x\\rvert y$<a id='simple_expressions'></a>"
   ]
  },
  {
   "cell_type": "markdown",
   "metadata": {},
   "source": [
    "<font size=3>Expressions involving divisibility claims are easy to construct using the Divides() class. Here are some basic examples of such expressions:</font>"
   ]
  },
  {
   "cell_type": "code",
   "execution_count": 2,
   "metadata": {},
   "outputs": [
    {
     "data": {
      "text/html": [
       "<a class=\"ProveItLink\" href=\"../__pv_it/axioms/5056af04341463ce593648c224a69724791882d20/expr.ipynb\"><img src=\"data:image/png;base64,iVBORw0KGgoAAAANSUhEUgAAAB0AAAAVBAMAAABI7vhRAAAAMFBMVEX///8QEBBmZmaqqqrMzMxE\n",
       "REQyMjIiIiKYmJh2dna6urrc3NxUVFSIiIju7u4AAAA6P00QAAAAAXRSTlMAQObYZgAAAKFJREFU\n",
       "GNNjYIAAPwZUMItm/Ld3dt28AOTzXbrAsPEBA98Ejlr2BCCfk0uA4T4DA+cDzn9cG4D8zUwJDKEM\n",
       "DHwMrAFg/Q8YLzD8BRnAfwFi3voHLF9AfH8HCF+NgVeAgYH5wX0G3gcgfgwD6wGgKoN4hh1geR2G\n",
       "9Q0MDG/uvtVoAPPf3NXfgOo+NWT38iTw/ULmszewXkDmc91VQfLfFSgNAG1HMw+xhLGTAAAAAElF\n",
       "TkSuQmCC\n",
       "\" style=\"display:inline;vertical-align:middle;\" /></a>"
      ],
      "text/plain": [
       "x | y"
      ]
     },
     "execution_count": 2,
     "metadata": {},
     "output_type": "execute_result"
    }
   ],
   "source": [
    "# a simple divisibility claim\n",
    "Divides(x, y)"
   ]
  },
  {
   "cell_type": "code",
   "execution_count": 3,
   "metadata": {},
   "outputs": [
    {
     "data": {
      "text/html": [
       "<strong id=\"example_1\">example_1:</strong> <a class=\"ProveItLink\" href=\"../__pv_it/demonstrations/9f4c7c9d3f79b97e35cc06e790e53190957b4fc90/expr.ipynb\"><img src=\"data:image/png;base64,iVBORw0KGgoAAAANSUhEUgAAABkAAAAVBAMAAABBBVgrAAAAMFBMVEX///+YmJiqqqqIiIgyMjLc\n",
       "3NwiIiIQEBC6urp2dnZUVFTMzMxERERmZmbu7u4AAADrYmUNAAAAAXRSTlMAQObYZgAAAJ9JREFU\n",
       "GNNjYAAB7gcMSICzAcrgu3tmA4THfYGB4RUD5w8Ij20BA8M9BoZyCM8cyCtjYFgfAOKxigB5/g8Y\n",
       "1m8A8ThZFoANyn8A4olCeBw/Qfr4DCA8oFlAHicDhHcXbLs2hMd8AcTjmwDh6TKwAm1gWnv3fq0B\n",
       "A/cEBmawfQzsQLmwmXOXQdzCfgBo+///38A8zvO/BNB8RCKPeQOEBgCw6S9+wi94aQAAAABJRU5E\n",
       "rkJggg==\n",
       "\" style=\"display:inline;vertical-align:middle;\" /></a><br>\n",
       "<strong id=\"example_2\">example_2:</strong> <a class=\"ProveItLink\" href=\"../__pv_it/demonstrations/0d6fe96b0fadf99acec7d4ea414089cab71d732a0/expr.ipynb\"><img src=\"data:image/png;base64,iVBORw0KGgoAAAANSUhEUgAAAB0AAAAVBAMAAABI7vhRAAAALVBMVEX///9mZmaqqqrMzMxEREQy\n",
       "MjIiIiKYmJh2dna6urrc3NxUVFSIiIju7u4AAACJHQtQAAAAAXRSTlMAQObYZgAAAGdJREFUGNNj\n",
       "YIAAWwZU0Ekz/p3TK08cAPEhDN4G9hy2ACAfyuC4wPGWcwGQD2XwMrA4gPVDGQwMfAeg5oEZDAx2\n",
       "BlA+mMF04RwDzwUgH8qYp+DHsBwkD2XcPnNHvADEhzKo5L/DUBoAwWIsAO2/ymoAAAAASUVORK5C\n",
       "YII=\n",
       "\" style=\"display:inline;vertical-align:middle;\" /></a><br>\n",
       "<strong id=\"example_3\">example_3:</strong> <a class=\"ProveItLink\" href=\"../__pv_it/demonstrations/08a9199fa2c2f122b7fc58f6ec424d4bc9ac97ef0/expr.ipynb\"><img src=\"data:image/png;base64,iVBORw0KGgoAAAANSUhEUgAAAE0AAAAVBAMAAADx+n4ZAAAAMFBMVEX///9UVFSqqqrMzMwiIiJE\n",
       "RESYmJgyMjK6urru7u4QEBCIiIh2dnZmZmbc3NwAAABRgo0vAAAAAXRSTlMAQObYZgAAAUtJREFU\n",
       "KM+Nkr9Lw0AUx7+NTdJo0nRz6HJ/gd6fEJ0dOjk4SCZHiSBkkw5OLr1BF0Gy+WMLuAhF6CAutVBc\n",
       "Kxihf0A36eaLpzEXr+KDO8K9z718770v8BlLAv8Kt5vvzVCfXatwZ3B2Ag1Xy1TuCLDHGs6JFM4i\n",
       "xmdfJ0ZaAocKV6fyPaHjzhVuSusBOs6mdPNlciO5e1oH/ecKN+xzuKToJLNnktsmxe8iyRRuyswI\n",
       "VgTnEl5HcpuUncNPFW4LNQYjgDdHPZXcNeBFSAYkN44Pr+K4hTydj2uG5Q4SXnDUvh4r16O05Oj6\n",
       "Oor/+iFeRZnLqwONAAnDqpF9v8Pvkt4yRxfB8neYqbXhynojmmRojhXOa+GCwxvAad++3UnumPoy\n",
       "eaz0+WmPPmxenRu08zj95YMfj4iFPsDuAhdXfEU+1YdZCFrhf/l+H/gAyLJbvSBx4NkAAAAASUVO\n",
       "RK5CYII=\n",
       "\" style=\"display:inline;vertical-align:middle;\" /></a><br>\n",
       "<strong id=\"example_4\">example_4:</strong> <a class=\"ProveItLink\" href=\"../__pv_it/demonstrations/29ae078115bf718fb185e3f425d0f7ecc07ad22c0/expr.ipynb\"><img src=\"data:image/png;base64,iVBORw0KGgoAAAANSUhEUgAAABoAAAAVBAMAAACqMuMoAAAAMFBMVEX///9UVFSqqqoiIiKYmJgQ\n",
       "EBDc3NxERERmZma6uroyMjLu7u7MzMyIiIh2dnYAAACR0mqaAAAAAXRSTlMAQObYZgAAAKhJREFU\n",
       "GNNjYACD0wzI4CWc9fbeARAv710RkLNrAscCII+tgUHfgYGhgoG9AMjj/cTAb8DA+Q2ijzOSgX8B\n",
       "A3sA3BSgSv41bzshPG47Bob9SxiYFUA8tsfdQN4HBo5oiMqrE0AGsfyE8FijGZgXMLB8AdmXwMD+\n",
       "iYExACLH/xvE4/nNwBEA5LEWMDD/ZmCQY9gKMpPFAewyvj4ZsH0zOioxfUQa7w6EAgDcBTbRNgGS\n",
       "WwAAAABJRU5ErkJggg==\n",
       "\" style=\"display:inline;vertical-align:middle;\" /></a><br>\n",
       "<strong id=\"example_5\">example_5:</strong> <a class=\"ProveItLink\" href=\"../__pv_it/demonstrations/2523806d68d8135df43ff02cb9087f2484e9f4bd0/expr.ipynb\"><img src=\"data:image/png;base64,iVBORw0KGgoAAAANSUhEUgAAAEkAAAAVBAMAAAD4Ed5jAAAAMFBMVEX///8QEBBmZmaqqqrMzMxE\n",
       "REQyMjIiIiKYmJh2dna6urrc3NxUVFSIiIju7u4AAAA6P00QAAAAAXRSTlMAQObYZgAAAUhJREFU\n",
       "KM+N0r9Lw0AUB/Bvf1zSpM3ZP6GDFAfB7oL0L9Au3QTzJ2RyUSG4KLh0FtTuIom4iJO7CEdxEUx7\n",
       "TiK0EFAcBMW7JEaTnj8e3JHkPsl74T0gjmX8J/aj/Vx1tJhTtKNSNT+rNF+lqJ1V2+pqDrJqQ63u\n",
       "M6rqqJXWByZ3F7csUlZDFBFcnaQZ6IDhlMNogPYqW7odKeICj9hh65/KMOsYARUbBjfeTT9Segs4\n",
       "xBE/loKLdVa00QVKDihIJ6mr0JeH3TjZi5QFhjegHIrrGfZNQT6WsSk3j5efE7XSTpTMCPk4jSas\n",
       "OmA6KPERLJ5Wv2SFGKZqFeQyqt5rrckmSyX+2HwiYdVN1Tw8cVPsYRxM5txYiS/T6+Fg9yvjOFgQ\n",
       "rdXaf3WoKdbD792u2fR1utskNzm6S9j05OSn0Axms+/e/DzRe8AHIb1dt6Av6X0AAAAASUVORK5C\n",
       "YII=\n",
       "\" style=\"display:inline;vertical-align:middle;\" /></a><br>"
      ],
      "text/plain": [
       "example_1: 2 | 4\n",
       "example_2: x | x\n",
       "example_3: a | (b + c)\n",
       "example_4: 6 | 3\n",
       "example_5: x | (x * y)"
      ]
     },
     "execution_count": 3,
     "metadata": {},
     "output_type": "execute_result"
    }
   ],
   "source": [
    "# some other examples, some true, some false, some indeterminant\n",
    "example_1, example_2, example_3, example_4, example_5 = (\n",
    "    Divides(two, four), Divides(x, x), Divides(a, Add(b, c)),\n",
    "    Divides(six, three), Divides(x, Mult(x,y)))"
   ]
  },
  {
   "cell_type": "markdown",
   "metadata": {},
   "source": [
    "## Common Attributes of a Subset expression <a id='common_attributes'></a>"
   ]
  },
  {
   "cell_type": "markdown",
   "metadata": {},
   "source": [
    "<font size=3>Consider ``example_5`` from above, $x\\rvert(xy)$, which is true for all $x\\ne 0$, and look at some of its attributes.</font>"
   ]
  },
  {
   "cell_type": "markdown",
   "metadata": {},
   "source": [
    "<font size=3>We can look at the construction of such an expression by calling <font style=\"font-family:courier\">expr_info()</font> to see the tabular representation of the expression's underlying directed acyclic graph (DAG) representation:</font>"
   ]
  },
  {
   "cell_type": "code",
   "execution_count": 4,
   "metadata": {},
   "outputs": [
    {
     "data": {
      "text/html": [
       "<table><tr><th>&nbsp;</th><th>core type</th><th>sub-expressions</th><th>expression</th></tr>\n",
       "<tr><td>0</td><td>Operation</td><td>operator:&nbsp;1<br>operands:&nbsp;2<br></td><td><a class=\"ProveItLink\" href=\"../__pv_it/demonstrations/2523806d68d8135df43ff02cb9087f2484e9f4bd0/expr.ipynb\"><img src=\"data:image/png;base64,iVBORw0KGgoAAAANSUhEUgAAAEkAAAAVBAMAAAD4Ed5jAAAAMFBMVEX///8QEBBmZmaqqqrMzMxE\n",
       "REQyMjIiIiKYmJh2dna6urrc3NxUVFSIiIju7u4AAAA6P00QAAAAAXRSTlMAQObYZgAAAUhJREFU\n",
       "KM+N0r9Lw0AUB/Bvf1zSpM3ZP6GDFAfB7oL0L9Au3QTzJ2RyUSG4KLh0FtTuIom4iJO7CEdxEUx7\n",
       "TiK0EFAcBMW7JEaTnj8e3JHkPsl74T0gjmX8J/aj/Vx1tJhTtKNSNT+rNF+lqJ1V2+pqDrJqQ63u\n",
       "M6rqqJXWByZ3F7csUlZDFBFcnaQZ6IDhlMNogPYqW7odKeICj9hh65/KMOsYARUbBjfeTT9Segs4\n",
       "xBE/loKLdVa00QVKDihIJ6mr0JeH3TjZi5QFhjegHIrrGfZNQT6WsSk3j5efE7XSTpTMCPk4jSas\n",
       "OmA6KPERLJ5Wv2SFGKZqFeQyqt5rrckmSyX+2HwiYdVN1Tw8cVPsYRxM5txYiS/T6+Fg9yvjOFgQ\n",
       "rdXaf3WoKdbD792u2fR1utskNzm6S9j05OSn0Axms+/e/DzRe8AHIb1dt6Av6X0AAAAASUVORK5C\n",
       "YII=\n",
       "\" style=\"display:inline;vertical-align:middle;\" /></a></td></tr>\n",
       "<tr><td>1</td><td>Literal</td><td></td><td><a class=\"ProveItLink\" href=\"../__pv_it/common/3c37786c454f6a891321d0cf7d9b57e8a788eef80/expr.ipynb\"><img src=\"data:image/png;base64,iVBORw0KGgoAAAANSUhEUgAAAAIAAAAVBAMAAACeSyI0AAAAFVBMVEX///+IiIi6urp2dnbu7u7M\n",
       "zMwAAAAS7dIuAAAAAXRSTlMAQObYZgAAAA9JREFUCNdjCGEwIgqKAgBboQQgu5OEXAAAAABJRU5E\n",
       "rkJggg==\n",
       "\" style=\"display:inline;vertical-align:middle;\" /></a></td></tr>\n",
       "<tr><td>2</td><td>ExprTuple</td><td>6, 3</td><td><a class=\"ProveItLink\" href=\"../__pv_it/demonstrations/b8792ecf0fc01f68be99e56fa1b9711b226e11940/expr.ipynb\"><img src=\"data:image/png;base64,iVBORw0KGgoAAAANSUhEUgAAAEcAAAAUBAMAAAAthD11AAAAMFBMVEX////MzMxUVFR2dna6uroQ\n",
       "EBCqqqqIiIgiIiJmZmYyMjJERETu7u6YmJjc3NwAAACgK8IjAAAAAXRSTlMAQObYZgAAAUpJREFU\n",
       "KM+FkjFLw0AUx/81MUmbVPsNdHOTbkUQdNPJdvAD9AOIHDqEQKHFoYpTdSyI+QQirqIeFUnBpaOL\n",
       "0kHFRYggFsTB9xKTBgPNwb3L//HL3f/uPWBmgIljm8P9ZAZTQwpnGZDlAsVOBoQKYAyzoDvgLYtB\n",
       "YRUOLd7O864IDdiLa5XYjSPwIqF0cEWiXNw33CB/iwdxGEGKWkOTXLtok5DKjxpaW8aK3OAPSfM1\n",
       "7+IS0FrYpJ1gnv/9LDnLJ32zmBYYATmfIWBWxDZH4bLHoSpzHwHUZjVXihjOxqMLvQaoLTauySZ0\n",
       "GaS3dB+NGLqAOR8YX6Jd6zd4D2yoX6afKPgxqiTyZawDPds7IXEgYS00nMfxcT37lC5dKCXKosn0\n",
       "a3dp9pMFVlJN4lqfYYFxHeW8/5AxMEXYKuOmS3Woah9RNNlPVvs+Ab9CflQ52sj06AAAAABJRU5E\n",
       "rkJggg==\n",
       "\" style=\"display:inline;vertical-align:middle;\" /></a></td></tr>\n",
       "<tr><td>3</td><td>Operation</td><td>operator:&nbsp;4<br>operands:&nbsp;5<br></td><td><a class=\"ProveItLink\" href=\"../__pv_it/demonstrations/c5977eab03d3d149ddfa710f838c42c7b8554bac0/expr.ipynb\"><img src=\"data:image/png;base64,iVBORw0KGgoAAAANSUhEUgAAACYAAAANBAMAAAA3eAFoAAAAMFBMVEX///8QEBBmZmaqqqrMzMxE\n",
       "REQyMjIiIiKYmJh2dna6urrc3NxUVFSIiIju7u4AAAA6P00QAAAAAXRSTlMAQObYZgAAAJlJREFU\n",
       "GNNjYHh7Z9fNCwxQ8FaXgVuOgW8CRy17AkxswkIG3g8MnA84/3FtAHIfADG3gRoDawADH4gAAr5v\n",
       "IIJBloEfZBA/xLQaEMH1j8HfAUiDCShgSmC4yMDA/OA+A+8DmBjrAYYYBob1BvEMOxDqDnD9YGB4\n",
       "c/etRgNcjO/spd8MGIApAV3kGMP7BehiFQyxGDrXXgI6DABJSSdo7aLCzgAAAABJRU5ErkJggg==\n",
       "\" style=\"display:inline;vertical-align:middle;\" /></a></td></tr>\n",
       "<tr><td>4</td><td>Literal</td><td></td><td><a class=\"ProveItLink\" href=\"../../multiplication/__pv_it/common/c57d60974865e78d434abd3ff22c405685c80ade0/expr.ipynb\"><img src=\"data:image/png;base64,iVBORw0KGgoAAAANSUhEUgAAAAMAAAADBAMAAACkBqiMAAAAElBMVEX///9UVFQiIiIyMjLu7u4A\n",
       "AACDZsVeAAAAAXRSTlMAQObYZgAAABFJREFUCNdjYGFgcDVgYBIAAAJWAIzwV2E9AAAAAElFTkSu\n",
       "QmCC\n",
       "\" style=\"display:inline;vertical-align:middle;\" /></a></td></tr>\n",
       "<tr><td>5</td><td>ExprTuple</td><td>6, 7</td><td><a class=\"ProveItLink\" href=\"../../../__pv_it/common/4abfcdcaafe6ad83c2ed27be2700d58c6f9aaa1b0/expr.ipynb\"><img src=\"data:image/png;base64,iVBORw0KGgoAAAANSUhEUgAAACwAAAAUBAMAAAAEg8LyAAAAMFBMVEX////MzMxUVFR2dna6uroQ\n",
       "EBCqqqqIiIgiIiJmZmYyMjJERETu7u6YmJjc3NwAAACgK8IjAAAAAXRSTlMAQObYZgAAAP9JREFU\n",
       "GNNjYOC7wIAG2B4AidMMGEAPiNdhCp9iYOCdgCnMXMDA8QBTmCeA4QUDFrCEoRJIHi96UlwA5h+f\n",
       "zsAXw8BgybAXqMeAt51jAVjYwJWB/QMDwy2GNqANB5j/sICt4EuYxcC9gYEhgyEEqBrMBNvFEM7A\n",
       "DzROHiTMAGaCAcsfBnkBkHAbiAdiggHnAoZSIOUBspLtQD0D+wGwMLcCwyYGkJWWDAz+CfsZ3jLw\n",
       "/AKpVmD5C6QmA9UzHCo/PhcYjB1ADTzqlf+AwguRPM92AGo6A08DUlAxA7EWw3kHcFAx7IMJHwfi\n",
       "XobtkIBFRAMoltwrQU4FqcSMNN4HDAD7TDyPVbLVsgAAAABJRU5ErkJggg==\n",
       "\" style=\"display:inline;vertical-align:middle;\" /></a></td></tr>\n",
       "<tr><td>6</td><td>Variable</td><td></td><td><a class=\"ProveItLink\" href=\"../../../__pv_it/common/a2581dc5df71d9a30bad37de14965fa5fec97a240/expr.ipynb\"><img src=\"data:image/png;base64,iVBORw0KGgoAAAANSUhEUgAAAAsAAAAJBAMAAAAWSsseAAAALVBMVEX///9mZmaqqqrMzMxEREQy\n",
       "MjIiIiKYmJh2dna6urrc3NxUVFSIiIju7u4AAACJHQtQAAAAAXRSTlMAQObYZgAAAEJJREFUCNdj\n",
       "YLhzeuWJAwy8Dew5bAEMHBc43nIuYOBlYHFgAAG+A2DKzgBIMF04x8BzgWGegh/DcgaG22fuiBcw\n",
       "AAATyhBrnyPYZQAAAABJRU5ErkJggg==\n",
       "\" style=\"display:inline;vertical-align:middle;\" /></a></td></tr>\n",
       "<tr><td>7</td><td>Variable</td><td></td><td><a class=\"ProveItLink\" href=\"../../../__pv_it/common/0f21cbfd5644a1cae6781c1d58354abc2ffbc9000/expr.ipynb\"><img src=\"data:image/png;base64,iVBORw0KGgoAAAANSUhEUgAAAAsAAAANBAMAAACN24kIAAAAMFBMVEX///8iIiKYmJhUVFTMzMxE\n",
       "REQyMjKqqqq6urp2dnYQEBDc3NxmZmaIiIju7u4AAACH5sGpAAAAAXRSTlMAQObYZgAAAFlJREFU\n",
       "CNdj4LtzgWHXAwZOjgUM9xkYtvMkMIQyMDzgusDwl4GBof8ByxcgdYyBdwGQCmZgNQBShxn6FYDU\n",
       "47vnNzAwgGUZGJgT+H4AKUYF1gtAiuPuESAJAJGkFvXVdzA+AAAAAElFTkSuQmCC\n",
       "\" style=\"display:inline;vertical-align:middle;\" /></a></td></tr>\n",
       "</table>\n"
      ],
      "text/plain": [
       "0. x | (x * y)\n",
       "   core type: Operation\n",
       "   operator: 1\n",
       "   operands: 2\n",
       "1. |\n",
       "   core type: Literal\n",
       "   sub-expressions: \n",
       "2. (x, x * y)\n",
       "   core type: ExprTuple\n",
       "   sub-expressions: 6, 3\n",
       "3. x * y\n",
       "   core type: Operation\n",
       "   operator: 4\n",
       "   operands: 5\n",
       "4. *\n",
       "   core type: Literal\n",
       "   sub-expressions: \n",
       "5. (x, y)\n",
       "   core type: ExprTuple\n",
       "   sub-expressions: 6, 7\n",
       "6. x\n",
       "   core type: Variable\n",
       "   sub-expressions: \n",
       "7. y\n",
       "   core type: Variable\n",
       "   sub-expressions: "
      ]
     },
     "execution_count": 4,
     "metadata": {},
     "output_type": "execute_result"
    }
   ],
   "source": [
    "example_5.expr_info()"
   ]
  },
  {
   "cell_type": "markdown",
   "metadata": {},
   "source": [
    "<font size=3>We can access the left-hand and right-hand sides of such expressions in terms of operands:</font>"
   ]
  },
  {
   "cell_type": "code",
   "execution_count": 5,
   "metadata": {},
   "outputs": [
    {
     "data": {
      "text/html": [
       "<a class=\"ProveItLink\" href=\"../__pv_it/demonstrations/b8792ecf0fc01f68be99e56fa1b9711b226e11940/expr.ipynb\"><img src=\"data:image/png;base64,iVBORw0KGgoAAAANSUhEUgAAAEcAAAAUBAMAAAAthD11AAAAMFBMVEX////MzMxUVFR2dna6uroQ\n",
       "EBCqqqqIiIgiIiJmZmYyMjJERETu7u6YmJjc3NwAAACgK8IjAAAAAXRSTlMAQObYZgAAAUpJREFU\n",
       "KM+FkjFLw0AUx/81MUmbVPsNdHOTbkUQdNPJdvAD9AOIHDqEQKHFoYpTdSyI+QQirqIeFUnBpaOL\n",
       "0kHFRYggFsTB9xKTBgPNwb3L//HL3f/uPWBmgIljm8P9ZAZTQwpnGZDlAsVOBoQKYAyzoDvgLYtB\n",
       "YRUOLd7O864IDdiLa5XYjSPwIqF0cEWiXNw33CB/iwdxGEGKWkOTXLtok5DKjxpaW8aK3OAPSfM1\n",
       "7+IS0FrYpJ1gnv/9LDnLJ32zmBYYATmfIWBWxDZH4bLHoSpzHwHUZjVXihjOxqMLvQaoLTauySZ0\n",
       "GaS3dB+NGLqAOR8YX6Jd6zd4D2yoX6afKPgxqiTyZawDPds7IXEgYS00nMfxcT37lC5dKCXKosn0\n",
       "a3dp9pMFVlJN4lqfYYFxHeW8/5AxMEXYKuOmS3Woah9RNNlPVvs+Ab9CflQ52sj06AAAAABJRU5E\n",
       "rkJggg==\n",
       "\" style=\"display:inline;vertical-align:middle;\" /></a>"
      ],
      "text/plain": [
       "(x, x * y)"
      ]
     },
     "execution_count": 5,
     "metadata": {},
     "output_type": "execute_result"
    }
   ],
   "source": [
    "example_5.operands"
   ]
  },
  {
   "cell_type": "code",
   "execution_count": 6,
   "metadata": {},
   "outputs": [
    {
     "data": {
      "text/html": [
       "<a class=\"ProveItLink\" href=\"../../../__pv_it/common/a2581dc5df71d9a30bad37de14965fa5fec97a240/expr.ipynb\"><img src=\"data:image/png;base64,iVBORw0KGgoAAAANSUhEUgAAAAsAAAAJBAMAAAAWSsseAAAALVBMVEX///9mZmaqqqrMzMxEREQy\n",
       "MjIiIiKYmJh2dna6urrc3NxUVFSIiIju7u4AAACJHQtQAAAAAXRSTlMAQObYZgAAAEJJREFUCNdj\n",
       "YLhzeuWJAwy8Dew5bAEMHBc43nIuYOBlYHFgAAG+A2DKzgBIMF04x8BzgWGegh/DcgaG22fuiBcw\n",
       "AAATyhBrnyPYZQAAAABJRU5ErkJggg==\n",
       "\" style=\"display:inline;vertical-align:middle;\" /></a>"
      ],
      "text/plain": [
       "x"
      ]
     },
     "execution_count": 6,
     "metadata": {},
     "output_type": "execute_result"
    }
   ],
   "source": [
    "example_5.operands[0]"
   ]
  },
  {
   "cell_type": "code",
   "execution_count": 7,
   "metadata": {},
   "outputs": [
    {
     "data": {
      "text/html": [
       "<a class=\"ProveItLink\" href=\"../__pv_it/demonstrations/c5977eab03d3d149ddfa710f838c42c7b8554bac0/expr.ipynb\"><img src=\"data:image/png;base64,iVBORw0KGgoAAAANSUhEUgAAACYAAAANBAMAAAA3eAFoAAAAMFBMVEX///8QEBBmZmaqqqrMzMxE\n",
       "REQyMjIiIiKYmJh2dna6urrc3NxUVFSIiIju7u4AAAA6P00QAAAAAXRSTlMAQObYZgAAAJlJREFU\n",
       "GNNjYHh7Z9fNCwxQ8FaXgVuOgW8CRy17AkxswkIG3g8MnA84/3FtAHIfADG3gRoDawADH4gAAr5v\n",
       "IIJBloEfZBA/xLQaEMH1j8HfAUiDCShgSmC4yMDA/OA+A+8DmBjrAYYYBob1BvEMOxDqDnD9YGB4\n",
       "c/etRgNcjO/spd8MGIApAV3kGMP7BehiFQyxGDrXXgI6DABJSSdo7aLCzgAAAABJRU5ErkJggg==\n",
       "\" style=\"display:inline;vertical-align:middle;\" /></a>"
      ],
      "text/plain": [
       "x * y"
      ]
     },
     "execution_count": 7,
     "metadata": {},
     "output_type": "execute_result"
    }
   ],
   "source": [
    "example_5.operands[1]"
   ]
  },
  {
   "cell_type": "markdown",
   "metadata": {},
   "source": [
    "<font size=3>We can access the “divides” operator itself:</font>"
   ]
  },
  {
   "cell_type": "code",
   "execution_count": 8,
   "metadata": {},
   "outputs": [
    {
     "data": {
      "text/html": [
       "<a class=\"ProveItLink\" href=\"../__pv_it/common/3c37786c454f6a891321d0cf7d9b57e8a788eef80/expr.ipynb\"><img src=\"data:image/png;base64,iVBORw0KGgoAAAANSUhEUgAAAAIAAAAVBAMAAACeSyI0AAAAFVBMVEX///+IiIi6urp2dnbu7u7M\n",
       "zMwAAAAS7dIuAAAAAXRSTlMAQObYZgAAAA9JREFUCNdjCGEwIgqKAgBboQQgu5OEXAAAAABJRU5E\n",
       "rkJggg==\n",
       "\" style=\"display:inline;vertical-align:middle;\" /></a>"
      ],
      "text/plain": [
       "|"
      ]
     },
     "execution_count": 8,
     "metadata": {},
     "output_type": "execute_result"
    }
   ],
   "source": [
    "example_5.operator"
   ]
  },
  {
   "cell_type": "markdown",
   "metadata": {},
   "source": [
    "<font size=3>If and when needed, we can check for an expression being an instance of the Divides class:</font>"
   ]
  },
  {
   "cell_type": "code",
   "execution_count": 9,
   "metadata": {},
   "outputs": [
    {
     "data": {
      "text/plain": [
       "True"
      ]
     },
     "execution_count": 9,
     "metadata": {},
     "output_type": "execute_result"
    }
   ],
   "source": [
    "isinstance(example_5, Divides)"
   ]
  },
  {
   "cell_type": "markdown",
   "metadata": {},
   "source": [
    "<font size=3>We can also get a list of the variables and a separate list of the *free* variables in the expression (of course, in this expression, all the variables are also free variables):</font>"
   ]
  },
  {
   "cell_type": "code",
   "execution_count": 10,
   "metadata": {},
   "outputs": [
    {
     "data": {
      "text/plain": [
       "{x, y}"
      ]
     },
     "execution_count": 10,
     "metadata": {},
     "output_type": "execute_result"
    }
   ],
   "source": [
    "used_vars(example_5)"
   ]
  },
  {
   "cell_type": "code",
   "execution_count": 11,
   "metadata": {},
   "outputs": [
    {
     "data": {
      "text/plain": [
       "{x, y}"
      ]
     },
     "execution_count": 11,
     "metadata": {},
     "output_type": "execute_result"
    }
   ],
   "source": [
    "free_vars(example_5, err_inclusively=True)"
   ]
  },
  {
   "cell_type": "markdown",
   "metadata": {},
   "source": [
    "## Axioms <a id='axioms'></a>"
   ]
  },
  {
   "cell_type": "markdown",
   "metadata": {},
   "source": [
    "<font size=3>Currently there is a single ``axiom`` for the divisibility theory, establishing the basic definition for $x\\rvert y$ (see [divisibility axioms](./_axioms_.ipynb) page.) for updates).</font>"
   ]
  },
  {
   "cell_type": "code",
   "execution_count": 12,
   "metadata": {},
   "outputs": [
    {
     "data": {
      "text/html": [
       "<span style=\"font-size:20px;\"> <a class=\"ProveItLink\" href=\"axioms.ipynb#divides_def\" style=\"text-decoration: none\">&nbsp;&#x22A2;&nbsp;&nbsp;</a><a class=\"ProveItLink\" href=\"../__pv_it/axioms/46404eb6709b03d47893726a6b6d4b91883a93730/expr.ipynb\"><img src=\"data:image/png;base64,iVBORw0KGgoAAAANSUhEUgAAANwAAAAmBAMAAABdfejNAAAAMFBMVEX///8QEBCIiIhmZma6urrM\n",
       "zMxUVFQiIiJERETc3Nzu7u6qqqp2dnaYmJgyMjIAAAAcRTyBAAAAAXRSTlMAQObYZgAABCRJREFU\n",
       "WMONWF1IFFEUPurs7uzs7CpR0Q/ZoiQikRZYEGWWkNRDrgQ99JJIRb6ERFJRiBmYCtYKlVKEow8q\n",
       "ErnQU724mQ+hUFsEFfSzFggFhVlCalH3Z2bu7Mzc8R7Yb4a9d+937jn3fPfeBfCw9yBq4ZRHo1LH\n",
       "0MOy08J0W9BwhVHo1lxbD1mQb3s1UTZpHYAq5UEpx+86hvwYrBKeXH8M4E5OGto57d8syDN/nTDd\n",
       "SfTRsqIwx2mnQe72jNaxuCibbwFjjeab9/Tc2/8Z4clFyDgVkJ3H82eRIceCC8J0fSQObSBz3f9k\n",
       "QXfLySyDox5dKwhuhxpu9b2woLuhzOM5GiNM6M+HLl1XEBws2MPNdl+ljmmefPTFMA6Djc7vHDI4\n",
       "nzFLi1VvzJ9u3oB9TwLFKfz86kL3keAXO53ilJrwLPEjrfyytxSXQwRaSCPtAr3YvRYXuh1kpDI7\n",
       "HYw7s9yIMZCSo/aWXQBTKo5jNvEIYQTVnppwoTtPxog76PodPQPEW6mgnM336rlm/NwJwbrD+CW0\n",
       "oGN4cmSkxy27PzGwFpMuUmnvmVtmL7NWUz9krZN8s2Tg7/b2S250RJAK0Weg6MbmKKLTJV8tc9DZ\n",
       "g3ifqdVLujUpfw08AdDhJtCkQxd6SYbPBNKITpf8MMn6s+/YPpOuo/Zya2CjtAxbnMdY5bbY0PIh\n",
       "dBdRYjV1UYojOl3yQ42OkrHTsZXnj+nUfwwMQLabGNBor0QOgtxCcqdLvm/WoeV4peX+w0bafPl4\n",
       "5qSpSkpaVgJGNRUALzo9NxOG5HPorIFhs0vLODxWumD6CK6m8iKkIlIRBDRbMNFwMUpHJV9qZLmb\n",
       "cQ+muTGoCfSzLJxDEkyCHcdRAWqnA2iBq7larZHkOX2phLRS1IzpqOSHHZketa/MbcbLrSD6wVbT\n",
       "eYIPkLs+urPfroZioyvx5wkKYeI63CWzo5Kfk3QUgv2bgBHdTlmDwTcZdaeXzYKuOvXGb1YTjcVC\n",
       "P7A7Reio5Edijr3Dvs0ppw7SE9Oa6fbLP67gNyKnBMM4W75ZH/7iLJjnoWsuIoYlf8ixqmRHeKWn\n",
       "VMSYqi0yxNlW0yr0atAkmevusV2idcl3SrSat+x+T7uYHQdfjU9CbQL2F5uejpEl2sHoqOS7aEJo\n",
       "UfA0E8mMekKJy+aiptJk2V6p5Mtxjt55Gh0sU+1CcX+SnazpOcc8PGzSn29dBmtblm4sztDMJ0jv\n",
       "2JoOL5+RjIOPUtCwb9z78FThdWZfEqYbxXV2D15Hm3k91luQf6sRNHJVmoTn2gFehzyG3JNfTJgP\n",
       "F6vGvZCgoVIMuVdE8evdB8sWyg/UMuFqFaYjZzDuhQSCaxnybUg4mkoTwCN0rCvhDJRg6HEpuSA8\n",
       "vZ64tCTPBjnJ6bKgh90UpgvGlPqSQs5fB0qlif8BmJM0CfLsRSsAAAAASUVORK5CYII=\n",
       "\" style=\"display:inline;vertical-align:middle;\" /></a></span>"
      ],
      "text/plain": [
       "|- forall_{x, y} ((x | y) = ((y / x) in Integer))"
      ]
     },
     "execution_count": 12,
     "metadata": {},
     "output_type": "execute_result"
    }
   ],
   "source": [
    "# def of x|y\n",
    "divides_def"
   ]
  },
  {
   "cell_type": "markdown",
   "metadata": {},
   "source": [
    "<font size=3>Divisibility $x\\rvert y$ involving non-zero integers $x$ and $y$ is often defined as  $(x\\rvert y) = \\exists_{k\\in\\mathbb{Z}}[y = kx]$. The axiomatic definition shown above is essentially the same, implicitly disallowing $x=0$ by the nature of the fraction $\\frac{y}{x}$, but also allowing $y=0$.</font>"
   ]
  },
  {
   "cell_type": "markdown",
   "metadata": {},
   "source": [
    "## Theorems & Conjectures<a id='theorems_and_conjectures'></a>"
   ]
  },
  {
   "cell_type": "markdown",
   "metadata": {},
   "source": [
    "<font size=3>The `number/divisbility` theory has a handful of related theorems and conjectures established, with a number of other possibilities still open for development. Some illustrative examples of the theorems are shown below, and the remainder can be found in the [divisibility theorems notebook](./\\_theorems\\_.ipynb).</font>"
   ]
  },
  {
   "cell_type": "code",
   "execution_count": 13,
   "metadata": {},
   "outputs": [],
   "source": [
    "from proveit.numbers.divisibility import (\n",
    "        divides_is_bool, divides_transitivity, divides_reflexivity,\n",
    "        divides_anti_symmetry, euclids_lemma, divides_sum, non_zero_divides_zero)"
   ]
  },
  {
   "cell_type": "code",
   "execution_count": 14,
   "metadata": {},
   "outputs": [
    {
     "data": {
      "text/html": [
       "<span style=\"font-size:20px;\"> <a class=\"ProveItLink\" href=\"proofs/divides_is_bool/thm_proof.ipynb\" style=\"text-decoration: none\">&nbsp;&#x22A2;&nbsp;&nbsp;</a><a class=\"ProveItLink\" href=\"../__pv_it/theorems/0814462b52794c2d445d5b2f1a3455ef5c8706200/expr.ipynb\"><img src=\"data:image/png;base64,iVBORw0KGgoAAAANSUhEUgAAAJAAAAAWBAMAAADdgQhOAAAAMFBMVEX///8QEBCIiIhmZma6urrM\n",
       "zMxUVFQiIiJERETc3Nzu7u6qqqp2dnaYmJgyMjIAAAAcRTyBAAAAAXRSTlMAQObYZgAAAlRJREFU\n",
       "OMudlEFoE0EUhn/jJrvZ7NocFDzJktLYg1AR2lNbFcGAoGk9eBDBIgp6kSJWD5YaPGgiSFcQWhRx\n",
       "6CGUHiTgwYOX0OYgVWEPHqusoAcFpYqCenJm3qTNbmZBOvAy2X9evsx7+94D/mudxtZXNiCTq0Vb\n",
       "ztf7Cj0UX95pDheVdYJwKea0d/fsh2uHpP5KPH/RgD4ri4Cexr3Ck/bdEanPiygq3Rx3P1kU5Hgx\n",
       "t8px9FlS38H41ugGmT5ZFGTn1d/cuT7TBr2wpO6uLi3NaSKbUxYF4aP8TN9imzdqLZL+u1qd1oB6\n",
       "lS0UH+zzOMju9XCfYYVSxTZDM6Yu8J3rfKtpQPfI7KZ7xQw5yDHyGADex15e5fDN7/ytCf0I7FAD\n",
       "ukHmMOev4XPQo+0hqsBz+nlnst+sQeomUoEGtJPMhlWROWLbPPwAzsoU7fnGVxtkGYHUncBEMgjo\n",
       "8SjZZZb+pUDZyI0sTEg9G57iwvJgcQwwijBZJDTuMkagUaT4uy/Jw3wnKCO6Q+i180CKXTZ5zpwe\n",
       "Nh5Ndo4N8EMBug1rop3sA5EbuU3Sn03yqPFVyA9L6FceK2TlxiweyxsNocxzMUzVulHB4Rm8HgLp\n",
       "Mgn4I/VhnFMeJbJ6YWEkkKB64SAv9E9U4BePRZtW6q7ISno9LQ6uYldyi4xywiQ9Gy9Vi7RbR+l4\n",
       "4oQO5hmmjPWEps2E9k9N08abuf52eRXjDRzt3yjOGjpKvgUzsDzNGNGPl4btW0HCYDMKg9A3E7r0\n",
       "nJ9pntCP2j4Vb8KojekujLXmVkf8P+SuqLuf5iAMAAAAAElFTkSuQmCC\n",
       "\" style=\"display:inline;vertical-align:middle;\" /></a></span>"
      ],
      "text/plain": [
       "|- forall_{x, y} ((x | y) in BOOLEAN)"
      ]
     },
     "execution_count": 14,
     "metadata": {},
     "output_type": "execute_result"
    }
   ],
   "source": [
    "# divisibility claims are Boolean\n",
    "divides_is_bool"
   ]
  },
  {
   "cell_type": "code",
   "execution_count": 15,
   "metadata": {},
   "outputs": [
    {
     "data": {
      "text/html": [
       "<span style=\"font-size:20px;\"> <a class=\"ProveItLink\" href=\"proofs/divides_transitivity/thm_proof.ipynb\" style=\"text-decoration: none\">&nbsp;&#x22A2;&nbsp;&nbsp;</a><a class=\"ProveItLink\" href=\"../__pv_it/theorems/f10b806cc77df382185d4f7caebbac779b855b660/expr.ipynb\"><img src=\"data:image/png;base64,iVBORw0KGgoAAAANSUhEUgAAAKsAAAAXBAMAAACGzqIkAAAAMFBMVEX///8QEBCIiIhmZma6urrM\n",
       "zMxUVFQiIiJERETc3Nzu7u6qqqp2dnaYmJgyMjIAAAAcRTyBAAAAAXRSTlMAQObYZgAAAnxJREFU\n",
       "OMutlU1oE0EUx/9N9iO72U08KAiCFAOlBA+5CIIeQgWL4MfGg4oXS7AHoUoO9VCRsse0UNlLbRHE\n",
       "FYrS6iEgCAqFJcdUdFFBhRT24KkgBEHw4+Kb2WR3k6z1sB0I//fezvx28t6bWWDvhmhjL8fDrmpl\n",
       "X1/Rz2PGdhKqag5gJQvYYsZOEmzOGsCqtNVVUsVMgv2AASya9C7Ks9ZIgp0bwj4G9NbGxkoSqlIb\n",
       "wubI+Fmv302CTZUom0duTDQ5dnK/6EKj0DSw8I8VQmiW+x5EvYwLPMen0XmGVZcKxykDVLNTvHKx\n",
       "IxOa/UWNejIVpoV39hmO5eXPUl5kpNwk2BHauo16L7dXqAXEDjmujKRY4HsXK0zBxyreJdZqx8YM\n",
       "Co5BZgd7ZWc5xGqFi9MEmpjCHfK4mFDm140wCRB/dLEveU1Ycyxcp3Lat2QKanm7wuIn2qMhtih5\n",
       "swRyfov7yONiIr3ZjJTsdaqDIsNmS5D8kuEFsUV8Y1MeTGKcz30WSYKRo4WmslZL0X/3hQy1d4So\n",
       "m4Q/mY7iMuzl9vuvQNqheJ7v7BefcxJVfqrL0dzmLZbNtCOxiVwIuxZ0YQ1qtVjY5kko6YdpaY7l\n",
       "R7d5lkU2ZxYHmCzjagR7DQaB5PIIm82FcmsEt+vw4X3aizzSPA2rNm4LHRJlZtMMsErnLRyGNS5A\n",
       "WeRC3v2tz7teNf548rHZQqWB0+MeiS4etAOsevPsUZtAQvUexENcyHMri0Ebxl2M0dFQLVbXRmzf\n",
       "rmOJzo8v5q7XePAef2QtyTnPJBY7I3jse8LFjP3opLqd/KV/szqEtsMkFnvuDYnrS6JrH+nQLPU9\n",
       "KP1v5V/MEagpL7uwwAAAAABJRU5ErkJggg==\n",
       "\" style=\"display:inline;vertical-align:middle;\" /></a></span>"
      ],
      "text/plain": [
       "|- forall_{x, y, z | x | y, y | z} (x | z)"
      ]
     },
     "execution_count": 15,
     "metadata": {},
     "output_type": "execute_result"
    }
   ],
   "source": [
    "# divisbility is transitive\n",
    "divides_transitivity"
   ]
  },
  {
   "cell_type": "code",
   "execution_count": 16,
   "metadata": {},
   "outputs": [
    {
     "data": {
      "text/html": [
       "<span style=\"font-size:20px;\"> <a class=\"ProveItLink\" href=\"proofs/divides_reflexivity/thm_proof.ipynb\" style=\"text-decoration: none\">&nbsp;&#x22A2;&nbsp;&nbsp;</a><a class=\"ProveItLink\" href=\"../__pv_it/theorems/9ed461e7b1f4ac75dfbf30a05b921fc1f107327d0/expr.ipynb\"><img src=\"data:image/png;base64,iVBORw0KGgoAAAANSUhEUgAAAJQAAAAXCAMAAADaxpaQAAAAOVBMVEX///8QEBAoKCgUFBQNDQ2I\n",
       "iIhmZma6urrMzMxUVFQiIiJERETc3Nzu7u6qqqp2dnaYmJgyMjIAAAAMeWbTAAAAAXRSTlMAQObY\n",
       "ZgAAAixJREFUSMfFlomSpCAMQNO7G+5w/f/HLgGhFRnbmSprUtW2BoKPXAjwq6IIfl1cnBRBTgrv\n",
       "+JrGc4xPM5GFT1CgmSr4/pged2Vyn6GIveQ6vbNPM0UBn6Eg4M5Bb5c9JcbdgaIX8wdicebxLF+8\n",
       "YQEFiXXZspjwNBRu0SNE7STWMDWovaboeJ5WfGvd/eXlZYlVgICnTdpW3VQGokEwqUMdNOWW/6To\n",
       "Sf+FeBu00bhb/oJJqJoSxUrPKdWSNhTqkAmk61AHTTGsYeYLnpoU+SBE0ZKyxUilcAvKVRRT02Jq\n",
       "MS85PGntPqcOmvKqXEdiAzvWr/WOeHp0Fcffg+INAGV218svoVgyzomecYJyCZTuTUIo5CSTvadI\n",
       "5VXzwRpqWLTZoS3Lk01chq+OqwnqrSlrNAdZp9sgEuhUnT9SLFI8lcAOaljoWsP/yi+WV7C/DC4T\n",
       "3RNgbpYb1EGzJXrRii16BTdVUxrN15O/ghoWDdHD21OvCaqWOsjsweZ+NjPUUVNKJZwiWtcDZerG\n",
       "LYLzSl1ADYv9gdtyKk+do4WFNCKh2E5/hjpqyiZVj9E+y1j5rmdB+O4/C6jNQqeU/v4pF3bcsvru\n",
       "HjNTzbkMoQSU3ReGe5yo92HZp3YWvR305n3qU985kPeQOsrSiusO7agVCilZrZbh21u0drBRhSAW\n",
       "/eLup8vXR1XLqWUzWjf+j6fnnY+87xx3N6DSDz6HcS6i+FOmNVR8/HvsWsTD6/8H8OUYyt1sIAoA\n",
       "AAAASUVORK5CYII=\n",
       "\" style=\"display:inline;vertical-align:middle;\" /></a></span>"
      ],
      "text/plain": [
       "|- forall_{x in Complex | x != 0} (x | x)"
      ]
     },
     "execution_count": 16,
     "metadata": {},
     "output_type": "execute_result"
    }
   ],
   "source": [
    "# divisbility is reflexive\n",
    "divides_reflexivity"
   ]
  },
  {
   "cell_type": "code",
   "execution_count": 17,
   "metadata": {},
   "outputs": [
    {
     "data": {
      "text/html": [
       "<span style=\"font-size:20px;\"> <a class=\"ProveItLink\" href=\"proofs/divides_anti_symmetry/thm_proof.ipynb\" style=\"text-decoration: none\">&nbsp;&#x22A2;&nbsp;&nbsp;</a><a class=\"ProveItLink\" href=\"../__pv_it/theorems/0d22c4b5318850e3198f7ade25beefae05158e930/expr.ipynb\"><img src=\"data:image/png;base64,iVBORw0KGgoAAAANSUhEUgAAAT8AAAAWBAMAAABEXIbSAAAAMFBMVEX///8QEBCIiIhmZma6urrM\n",
       "zMxUVFQiIiJERETc3Nzu7u6qqqp2dnaYmJgyMjIAAAAcRTyBAAAAAXRSTlMAQObYZgAAA0NJREFU\n",
       "SMfNVk9IFFEY/9yd3Xmus+qh7oMLIhLoxS6VSULSJfXSLRIpokssUYcwwpPsHqQNAsWoRg8qErHg\n",
       "yU7LerNDCwUhFAx0MiiWKMi69L73Z+fNvDdaI0Qf/PbN/N73vf3N9773B+Ao9kQgxraiRHvD7Bjl\n",
       "txT4SHxIpi83yxFn2UqEWI9xXDcESrxC4lMygZ0VjtgPYF+fYc8T+LMX47hnCJRYxAzPJhP4RiDW\n",
       "6iwdqC3v4s+g2U3n6wE6PQCnmkzgXYFYW2YZnKI/toc/MdnW+eUA+Z2NjYVk+tqLHAfUwIicwFF8\n",
       "iPufBWOgxI9S6V4ygalBjlzPjXP1SBEVXHjogcPmbpOijA8FipXeRyfcyEAFY6DENREdspHWkxXi\n",
       "Q2+kwfEc3rn36bvzhRmKcqxuGKDTw1aJTaeZVfk8FVDL37L9sDPy0pRAiVGx2EIWrBoS4kNvdpVj\n",
       "B157F8Lxj9M+lAA6WAGkXMiyL56hAjznpxUtuRljoIQNqUYygW0jHB4OGTavzYWvNHFNNm1FeMHY\n",
       "Y/QZiL5lIM8TOqEESjgNG44mEHDIiI17me9SIJziuy0KAehyTQINgRLt/iXccIZ66XZl9fL9QAhE\n",
       "kkiSNUR6qlMMOGRQVrirwDCkumkMX+NPoRhM5ZUJzVmZYiVQAspXaZl4N22aC6fLmwwyyEgiSdYQ\n",
       "6akukpepJvRHkjIHZEouEiCXedboYujwBugQEed5Y6AEbBbxOPqMvUtj0BcIZCSRJGuI9GRJ4PuA\n",
       "9Ys0tVvASRinVLrGXjLXuaRtOoPVB/r1YtsYKCGKYp91n4ZptQb3WdUJEhvS8oTWHOSm+wvabWO1\n",
       "5ywe1KIYPvJmDPmVM9qaHDMGSkAePy/TZGf6bTiuCESStEhsSMvz0KNumGJNPC/FHWkmXgauKQPA\n",
       "M8d3YNGDO1YzEMhIKglJ0Uc4eehlIevnvsnLwkGXAo1XAuvqAKtv6zswWYXzfX4gkJFUIJKij3BS\n",
       "bjoVDkNOGsQF/QQox2S7bAiUUK2aq5CGtg9ykveRP7ywWj1DYBB/+IU1CDR8fUclW7uob9SMFH3k\n",
       "r678u0mv/LsK1FIA631NF8hI0UfgP7GgatMhPv3PlfwGWJ0npYbBR+8AAAAASUVORK5CYII=\n",
       "\" style=\"display:inline;vertical-align:middle;\" /></a></span>"
      ],
      "text/plain": [
       "|- forall_{x, y | x | y, y | x} ((x = y) or (x = (-y)))"
      ]
     },
     "execution_count": 17,
     "metadata": {},
     "output_type": "execute_result"
    }
   ],
   "source": [
    "# divisbility manifests a form of antisymmetry\n",
    "divides_anti_symmetry"
   ]
  },
  {
   "cell_type": "code",
   "execution_count": 18,
   "metadata": {},
   "outputs": [
    {
     "data": {
      "text/html": [
       "<span style=\"font-size:20px;\"> <a class=\"ProveItLink\" href=\"proofs/euclids_lemma/thm_proof.ipynb\" style=\"text-decoration: none\">&nbsp;&#x22A2;&nbsp;&nbsp;</a><a class=\"ProveItLink\" href=\"../__pv_it/theorems/d4460adfe2de24463c4bec8fe25f8072caa350e00/expr.ipynb\"><img src=\"data:image/png;base64,iVBORw0KGgoAAAANSUhEUgAAARYAAAAXBAMAAAA8SH1tAAAAMFBMVEX///8QEBCIiIhmZma6urrM\n",
       "zMxUVFQiIiJERETc3Nzu7u6qqqp2dnaYmJgyMjIAAAAcRTyBAAAAAXRSTlMAQObYZgAAA+BJREFU\n",
       "SMfFll1oFFcUx//ZndnZnZlNfCkU8rKkuITgx2KUSjUYLMRATd31oYiQZhtUFFJJJSkqKou+rNrq\n",
       "gNWIYB2M+FXQxY+KD5Yl0ZeoYbR9qJKWfWgfqih5KiZPnnNnZndmPwyKrAd275mZ3733P/ece+4A\n",
       "H9o2fnAFOO06d+1GM4ACO3/VXYqaKdOCbcB9bp/VXUujUa7lCnCSmkim7lp+R7kWPYZGk5pc3bXs\n",
       "qtCizkN04vLlkbpLiQxWaME/wKtsds/bDmV4L5LvAAQS9Hc2/tOCGGuRvuvsBcaBzcDBuWfv9Hq6\n",
       "79GNMnRVsiYgu4kZtigo+egOpcBaLj5upwd/A59DLdSU8M0Py9uFU8rujNh+Hgsa/j5XawJyuxsa\n",
       "hTJUN/VZyWAtpthBt+g2AlZVHb+Md1CKTbRVaJHz/lKR9vf7rTYguVoaaHVVhDNOvsiH6K+P5FlK\n",
       "VSnRw6dM5OQnVoWWUFkC/Oe/HK8N+LQATTFHSxdsLZHCV+SMLYvTAFIcCu3xyL5LSYqdWF8dJS36\n",
       "J+s3k6cUQYw8Ow4sFNLH4jRKC0ZbnjMgUGB1GrsdwKdFEVWkL2lr0cTCraHfwU2U1+Z2hZOyyUyx\n",
       "gDtjzuGAJzc9WtpChSHyRoogVkzRq/3KXhwHoHSm1GF5lgGBAvlZeR4DW7NkVkkL565mLqZ5Wct1\n",
       "IC1yF9cJkPGCkVNr0CoinIOaEE4s79GSbLTY63bAUU4q+nVzwZjBYSyHHEzQ5N0Oisi5wUDGBvzr\n",
       "otPo63JH+YS8C3nvw0W0ECvdqGFGMCvRz805Urczm90PXTcjZilfmgz2uhwwZUDluH/NIRrELJop\n",
       "EXKBtACaxOYJ5kMxG/BrYed8y9kOi7UE8YjqHP7lYXgyeVpmZggf8eskZRMihl/0QjdKWvqobmWw\n",
       "oQjiOH9+8NR6mtaD3ueqEX5qbnBQyovOhiQD21+SeWJU7Qxwn53RCzpOmhiWpiOHcOL+n8A9vp9I\n",
       "iJSytUSmJ5En7wL5BPKdgTv0YIp6aulQmqp4sMHo6yVAoDSSklwHBhzTBt94Ntp2/o+xCaRy6Got\n",
       "yM2wUrTfw5Tq0S0Dk98Xtajfrl1g8j6ihSSQl1T+mPyl3HPJpIVjC9uk/msdBAiURpL6j4AB5xT6\n",
       "9H93wnC1bwav5VSDElxzrlopX7zVtugFKLMZdI1Uke6GUlEJOOe+hkv4Ee6WnONbyn8QaUYo/yVw\n",
       "u1rl850BVO4YdLuRfOMEldsK+jYGpIIA3vCNOd8prf6TJAppirawNaeWHht0bJR7/vz4Mw/dYzcW\n",
       "eh7YwHu1hNfTfO/QVknPCVS11/x6GgzQI7UEAAAAAElFTkSuQmCC\n",
       "\" style=\"display:inline;vertical-align:middle;\" /></a></span>"
      ],
      "text/plain": [
       "|- forall_{x, y, z in Integer | x | (y * z), gcd(x, y) = 1} (x | z)"
      ]
     },
     "execution_count": 18,
     "metadata": {},
     "output_type": "execute_result"
    }
   ],
   "source": [
    "# when dealing with integers, we can make some important claims\n",
    "euclids_lemma"
   ]
  },
  {
   "cell_type": "code",
   "execution_count": 19,
   "metadata": {},
   "outputs": [
    {
     "data": {
      "text/html": [
       "<span style=\"font-size:20px;\"> <a class=\"ProveItLink\" href=\"proofs/divides_sum/thm_proof.ipynb\" style=\"text-decoration: none\">&nbsp;&#x22A2;&nbsp;&nbsp;</a><a class=\"ProveItLink\" href=\"../__pv_it/theorems/4f424f4ad9e4d2a171abb89e2661204b3b3319980/expr.ipynb\"><img src=\"data:image/png;base64,iVBORw0KGgoAAAANSUhEUgAAAOQAAAAXBAMAAADpf/4JAAAAMFBMVEX///8QEBCIiIhmZma6urrM\n",
       "zMxUVFQiIiJERETc3Nzu7u6qqqp2dnaYmJgyMjIAAAAcRTyBAAAAAXRSTlMAQObYZgAAAxNJREFU\n",
       "SMe9lk1oE0EYht8mu0l2s0mKKIhCiQZKKR6CIAgWiRUsgj9bDypeGoI9FGrpoR4qWoIHaQuVXGqL\n",
       "IK5SlFbRgKAoFEK8taLBCiq0soeKUDAEQbAVwW92uz9jtr1scWCYefNN9tmdeeebAbauiBr+V7mz\n",
       "3ioZTtaVl1SjBUBnYskPUc5zSFvWlRDh0APMM7HiBxkvcEhb1r8b+7wnwCQ1Ut4PcgEccsEdiybd\n",
       "qswGJRGnNVeKfpCDPHJwY+Q99qmNiM3NzEz4IUr9HNKR9cg4G7AM/BoevuoHGUjTq+/taS+bSCbv\n",
       "74e0i0d2bBcrUCiG10A3MLLB0wSnm+ECbhWpAI/xMTlkIpksHUGgxiHlsdRBIMb88wU4ajrJq0Sc\n",
       "Lm8wtwqTEebwTjtuIklKxcOI5HmkYdEom/QXNAaBih9kA4E0DFtrSVLGNiSIpVSr35qq1awx7DzZ\n",
       "VGSf3kWBShh+kcAPFxLCGrpUfi0FBraQkn6WbZkDzTRIaEaYJcqJlXEHqaTOdBOkPYsrjpKGplVn\n",
       "YiH+tJBMBnXs+cexzw0um9gOqiMXyWdaX5j+oCS0ThY7tJh0kK0hfYAgpTWx0VHB2bLLPq/ILa2O\n",
       "fSJZ3OCR0TRCjn3wjNgivrPI7Q60GEMeuSZWjdNT8tJUfyBvKzKElT7I+cLvSE2qmEi2EYJZ4Q+P\n",
       "PLf4nvZjsETdNqoJ4+dVI9SGnGGwjHstEwUGCZZCSUdhyt5J/ZBzraml9YllkyfnUqs8Mh1romCc\n",
       "rcVXqjHNWFmRhQawgzXjuOBCdkElSDjToDpKUu3T0SvhBXWv7POQfY2Vne4quoJJDZeFGjVS72ze\n",
       "Rkq1tygxpHoa0qilbs1/2jit9+HperKQNY+0bpYHH8pz6CziWItOTUzcqdlI+dKJfRpBhNxNiLst\n",
       "VekctbcSf3iRvIbrmx1e7lKUC8xwRc99OY0xmiiPXVp/RLenVM9tzt6NT67RQqh0yrwreCB7Bd28\n",
       "S9QlBuvmEVA3v4h8ZsbhD/AYhMUSazyRJ99QU/FCbmUJOt00F0j7eepfXgfStPPcnqEAAAAASUVO\n",
       "RK5CYII=\n",
       "\" style=\"display:inline;vertical-align:middle;\" /></a></span>"
      ],
      "text/plain": [
       "|- forall_{x, y, z | x | y, x | z} (x | (y + z))"
      ]
     },
     "execution_count": 19,
     "metadata": {},
     "output_type": "execute_result"
    }
   ],
   "source": [
    "# divisibility across sums of divisible pieces\n",
    "divides_sum"
   ]
  },
  {
   "cell_type": "code",
   "execution_count": 20,
   "metadata": {},
   "outputs": [
    {
     "data": {
      "text/html": [
       "<span style=\"font-size:20px;\"> <a class=\"ProveItLink\" href=\"proofs/non_zero_divides_zero/thm_proof.ipynb\" style=\"text-decoration: none\">&nbsp;&#x22A2;&nbsp;&nbsp;</a><a class=\"ProveItLink\" href=\"../__pv_it/theorems/c26fbba24bdbcad6816f572385df269241b68aef0/expr.ipynb\"><img src=\"data:image/png;base64,iVBORw0KGgoAAAANSUhEUgAAAJEAAAAXCAMAAAA8713UAAAAOVBMVEX///8QEBAoKCgUFBQNDQ2I\n",
       "iIhmZma6urrMzMxUVFQiIiJERETc3Nzu7u6qqqp2dnaYmJgyMjIAAAAMeWbTAAAAAXRSTlMAQObY\n",
       "ZgAAAk9JREFUSMfFlouO7CAIhp09i3e8vf/DHoHW3uzsZJNmSWbSWrGf8INV6i/Novpbi+U0kM3h\n",
       "NkX6r+O+lIeBMKg5UYaSLV04QsppfVyfDmGNc6LaEdDTQ6T4xBU8hoeBilZTovLiyyrR2oVmC9ZD\n",
       "5uOcKDjWUCMOJLqSkSz6p2U9eQETNSYyjSNSeSSQ+fwwESxJQwAXDXB+iAibFiJgRrpxLPMQP1/c\n",
       "vCsofnuGywaDlDL2B8WD8nUhio2nWiEqNGz0qvIbSyE772C3+P1cbVkI3cmdZSQ6zR05d82YOIi0\n",
       "EDFY4tzSH1yaEaasdR9FG/oituZPiCJzeBbDqZm8zIhhCDsdHbNmG48XoTrWakgRyb1Egf+IKHDB\n",
       "NArUK02JyBpclZ1E2UIUq7JLjDNoCyQsszYPY5OV7U+JhoNMXiRBc32ZZo2f20P183JFYmokNCE6\n",
       "2QCgcpWDPmRVsFw0vxENB8cF+91/pb+RFvcwVXZCBU08Jx1SlN1n6SVpnb2yI47+mjC9IRoOwpfU\n",
       "FqPXiSjrte2Eth66copQ9PAlcdP5lNh+ye+3nvccQMVk7T3RcNifpKKjduoRkg90AAh6OdWFCDOM\n",
       "xFe7pmbLMW9cbbWrEbZGcyVaHFyt9d9X/6OQTWvt9hQ5FPipwmLjdFLg8ghM1HydZ/1o57BW/tqe\n",
       "L/3o9qQ9DJxSja6Y3m15c2GUBuZag7OzrO0dpPIXpJz1pDXEn4je9em+quho2nWmnf3Hg/H2i+0N\n",
       "84c2Jaq/+KqFY9GU3wJNicrTn1dvTT+5+H8TzhnnvjAnkgAAAABJRU5ErkJggg==\n",
       "\" style=\"display:inline;vertical-align:middle;\" /></a></span>"
      ],
      "text/plain": [
       "|- forall_{x in Complex | x != 0} (x | 0)"
      ]
     },
     "execution_count": 20,
     "metadata": {},
     "output_type": "execute_result"
    }
   ],
   "source": [
    "# everything (non-zero) divides zero\n",
    "non_zero_divides_zero"
   ]
  },
  {
   "cell_type": "markdown",
   "metadata": {},
   "source": [
    "## Demonstrations <a id='further_demonstrations'></a>"
   ]
  },
  {
   "cell_type": "markdown",
   "metadata": {},
   "source": [
    "<div style=\"width: 90%; border: 5px solid green; padding: 10px; margin: 0px;\"><a id='demo01'></a><font size=4><font size=4><b>1.</b> TBA.</font></div><br>\n",
    "<font size=3>TBA</font>"
   ]
  },
  {
   "cell_type": "markdown",
   "metadata": {},
   "source": [
    "<div style=\"width: 90%; border: 5px solid green; padding: 10px; margin: 0px;\"><a id='demo02'></a><font size=4><font size=4><b>2.</b> TBA.</font></div><br>\n",
    "<font size=\"3\">TBA</font>"
   ]
  },
  {
   "cell_type": "markdown",
   "metadata": {},
   "source": [
    "<div style=\"width: 90%; border: 5px solid green; padding: 10px; margin: 0px;\"><a id='demo03'></a><font size=4><font size=4><b>3.</b> TBA.</font></div><br>\n",
    "<font size=\"3\">TBA</font>"
   ]
  },
  {
   "cell_type": "markdown",
   "metadata": {},
   "source": [
    "## Miscellaneous Testing\n",
    "<font size=3>The material below was developed to test various divisbility-related methods. Some of this material could be integrated into the `_demonstrations_` page eventually and/or deleted as development continues.</font>"
   ]
  },
  {
   "cell_type": "code",
   "execution_count": 21,
   "metadata": {},
   "outputs": [
    {
     "data": {
      "text/html": [
       "<span style=\"font-size:20px;\"> <a class=\"ProveItLink\" href=\"proofs/divides_is_bool/thm_proof.ipynb\" style=\"text-decoration: none\">&nbsp;&#x22A2;&nbsp;&nbsp;</a><a class=\"ProveItLink\" href=\"../__pv_it/theorems/0814462b52794c2d445d5b2f1a3455ef5c8706200/expr.ipynb\"><img src=\"data:image/png;base64,iVBORw0KGgoAAAANSUhEUgAAAJAAAAAWBAMAAADdgQhOAAAAMFBMVEX///8QEBCIiIhmZma6urrM\n",
       "zMxUVFQiIiJERETc3Nzu7u6qqqp2dnaYmJgyMjIAAAAcRTyBAAAAAXRSTlMAQObYZgAAAlRJREFU\n",
       "OMudlEFoE0EUhn/jJrvZ7NocFDzJktLYg1AR2lNbFcGAoGk9eBDBIgp6kSJWD5YaPGgiSFcQWhRx\n",
       "6CGUHiTgwYOX0OYgVWEPHqusoAcFpYqCenJm3qTNbmZBOvAy2X9evsx7+94D/mudxtZXNiCTq0Vb\n",
       "ztf7Cj0UX95pDheVdYJwKea0d/fsh2uHpP5KPH/RgD4ri4Cexr3Ck/bdEanPiygq3Rx3P1kU5Hgx\n",
       "t8px9FlS38H41ugGmT5ZFGTn1d/cuT7TBr2wpO6uLi3NaSKbUxYF4aP8TN9imzdqLZL+u1qd1oB6\n",
       "lS0UH+zzOMju9XCfYYVSxTZDM6Yu8J3rfKtpQPfI7KZ7xQw5yDHyGADex15e5fDN7/ytCf0I7FAD\n",
       "ukHmMOev4XPQo+0hqsBz+nlnst+sQeomUoEGtJPMhlWROWLbPPwAzsoU7fnGVxtkGYHUncBEMgjo\n",
       "8SjZZZb+pUDZyI0sTEg9G57iwvJgcQwwijBZJDTuMkagUaT4uy/Jw3wnKCO6Q+i180CKXTZ5zpwe\n",
       "Nh5Ndo4N8EMBug1rop3sA5EbuU3Sn03yqPFVyA9L6FceK2TlxiweyxsNocxzMUzVulHB4Rm8HgLp\n",
       "Mgn4I/VhnFMeJbJ6YWEkkKB64SAv9E9U4BePRZtW6q7ISno9LQ6uYldyi4xywiQ9Gy9Vi7RbR+l4\n",
       "4oQO5hmmjPWEps2E9k9N08abuf52eRXjDRzt3yjOGjpKvgUzsDzNGNGPl4btW0HCYDMKg9A3E7r0\n",
       "nJ9pntCP2j4Vb8KojekujLXmVkf8P+SuqLuf5iAMAAAAAElFTkSuQmCC\n",
       "\" style=\"display:inline;vertical-align:middle;\" /></a></span>"
      ],
      "text/plain": [
       "|- forall_{x, y} ((x | y) in BOOLEAN)"
      ]
     },
     "execution_count": 21,
     "metadata": {},
     "output_type": "execute_result"
    }
   ],
   "source": [
    "divides_is_bool"
   ]
  },
  {
   "cell_type": "code",
   "execution_count": 22,
   "metadata": {},
   "outputs": [
    {
     "data": {
      "text/html": [
       "<strong id=\"params_example\">params_example:</strong> <a class=\"ProveItLink\" href=\"../../../__pv_it/common/4abfcdcaafe6ad83c2ed27be2700d58c6f9aaa1b0/expr.ipynb\"><img src=\"data:image/png;base64,iVBORw0KGgoAAAANSUhEUgAAACwAAAAUBAMAAAAEg8LyAAAAMFBMVEX////MzMxUVFR2dna6uroQ\n",
       "EBCqqqqIiIgiIiJmZmYyMjJERETu7u6YmJjc3NwAAACgK8IjAAAAAXRSTlMAQObYZgAAAP9JREFU\n",
       "GNNjYOC7wIAG2B4AidMMGEAPiNdhCp9iYOCdgCnMXMDA8QBTmCeA4QUDFrCEoRJIHi96UlwA5h+f\n",
       "zsAXw8BgybAXqMeAt51jAVjYwJWB/QMDwy2GNqANB5j/sICt4EuYxcC9gYEhgyEEqBrMBNvFEM7A\n",
       "DzROHiTMAGaCAcsfBnkBkHAbiAdiggHnAoZSIOUBspLtQD0D+wGwMLcCwyYGkJWWDAz+CfsZ3jLw\n",
       "/AKpVmD5C6QmA9UzHCo/PhcYjB1ADTzqlf+AwguRPM92AGo6A08DUlAxA7EWw3kHcFAx7IMJHwfi\n",
       "XobtkIBFRAMoltwrQU4FqcSMNN4HDAD7TDyPVbLVsgAAAABJRU5ErkJggg==\n",
       "\" style=\"display:inline;vertical-align:middle;\" /></a><br>\n",
       "<strong id=\"vars_example\">vars_example:</strong> <a class=\"ProveItLink\" href=\"../../../__pv_it/common/4abfcdcaafe6ad83c2ed27be2700d58c6f9aaa1b0/expr.ipynb\"><img src=\"data:image/png;base64,iVBORw0KGgoAAAANSUhEUgAAACwAAAAUBAMAAAAEg8LyAAAAMFBMVEX////MzMxUVFR2dna6uroQ\n",
       "EBCqqqqIiIgiIiJmZmYyMjJERETu7u6YmJjc3NwAAACgK8IjAAAAAXRSTlMAQObYZgAAAP9JREFU\n",
       "GNNjYOC7wIAG2B4AidMMGEAPiNdhCp9iYOCdgCnMXMDA8QBTmCeA4QUDFrCEoRJIHi96UlwA5h+f\n",
       "zsAXw8BgybAXqMeAt51jAVjYwJWB/QMDwy2GNqANB5j/sICt4EuYxcC9gYEhgyEEqBrMBNvFEM7A\n",
       "DzROHiTMAGaCAcsfBnkBkHAbiAdiggHnAoZSIOUBspLtQD0D+wGwMLcCwyYGkJWWDAz+CfsZ3jLw\n",
       "/AKpVmD5C6QmA9UzHCo/PhcYjB1ADTzqlf+AwguRPM92AGo6A08DUlAxA7EWw3kHcFAx7IMJHwfi\n",
       "XobtkIBFRAMoltwrQU4FqcSMNN4HDAD7TDyPVbLVsgAAAABJRU5ErkJggg==\n",
       "\" style=\"display:inline;vertical-align:middle;\" /></a><br>"
      ],
      "text/plain": [
       "params_example: (x, y)\n",
       "vars_example: (x, y)"
      ]
     },
     "execution_count": 22,
     "metadata": {},
     "output_type": "execute_result"
    }
   ],
   "source": [
    "# notice that .instance_params and .instance_vars often appear to\n",
    "# provide the same information for the quantified params/vars:\n",
    "# really the correct thing\n",
    "params_example, vars_example = (\n",
    "    divides_is_bool.instance_params,\n",
    "    divides_is_bool.instance_vars)\n"
   ]
  },
  {
   "cell_type": "code",
   "execution_count": 23,
   "metadata": {},
   "outputs": [
    {
     "data": {
      "text/html": [
       "<strong id=\"example_forall\">example_forall:</strong> <a class=\"ProveItLink\" href=\"../__pv_it/demonstrations/d67a76d768e16d9a51beb669961b66025294dc860/expr.ipynb\"><img src=\"data:image/png;base64,iVBORw0KGgoAAAANSUhEUgAAAFgAAAAVBAMAAAAwfTS1AAAAMFBMVEX///8QEBCIiIhmZma6urrM\n",
       "zMxUVFQiIiJERETc3Nzu7u6qqqp2dnaYmJgyMjIAAAAcRTyBAAAAAXRSTlMAQObYZgAAARxJREFU\n",
       "KM9jYCAFPAARd4lUfBpEvCJS8Qwg5mwgUjHfAgYGng1EKuY9tWrVdKJ9+KOjo4awKi6lTKdDDAyp\n",
       "DAydhBWvYbiuUMfA4MzA9YCw4lMM5xd4MjCwMzBdIKx4AUMHiOK5wE6U3z6BCM4HYUBysdpTTHlk\n",
       "QdavYKozBejZUtZfDAxZaCEAFoR4aBfTBwYtIL25gIGB2YC1gCFGClUxWBDoWiBg+c3xgRPkNX4F\n",
       "BgbGDUwJDAxVqIohghBLkrSUwamNF6h3/QSOWwvQFYMFNylgeIVxQrwv2OQZCzi7YARYcIsBhmKW\n",
       "pE22YMWBG1glGQIngIgNYEG2ABxBCXIGIgFCWMtZsKsN+ryBgXsCjAdlsWnhSbFYWHAAAMlxS4G0\n",
       "u/ibAAAAAElFTkSuQmCC\n",
       "\" style=\"display:inline;vertical-align:middle;\" /></a><br>"
      ],
      "text/plain": [
       "example_forall: forall_{a_{1}, ..a_{_a}.., a_{i}} x"
      ]
     },
     "execution_count": 23,
     "metadata": {},
     "output_type": "execute_result"
    }
   ],
   "source": [
    "# But when we have ranges of params like A1 … An\n",
    "# instance_vars would give A (used more commonly for internal stuff)\n",
    "# while instance_params would give A1 … An, and is typically what we want\n",
    "from proveit.logic import Forall\n",
    "from proveit.core_expr_types import (a_1_to_i, a_1_to_m, b_1_to_j, b_1_to_n,\n",
    "                                              c_1_to_j, c_1_to_k, c_1_to_n,\n",
    "                                              d_1_to_k, y_1_to_n)\n",
    "example_forall = Forall(a_1_to_i, x)"
   ]
  },
  {
   "cell_type": "code",
   "execution_count": 24,
   "metadata": {},
   "outputs": [
    {
     "data": {
      "text/html": [
       "<strong id=\"params_example\">params_example:</strong> <a class=\"ProveItLink\" href=\"../__pv_it/demonstrations/a3b302517b8fc1133cb007ad1965347bc1418e000/expr.ipynb\"><img src=\"data:image/png;base64,iVBORw0KGgoAAAANSUhEUgAAAGEAAAAUBAMAAABvx07iAAAAMFBMVEX///9UVFTMzMx2dna6uroQ\n",
       "EBCqqqqIiIgiIiJmZmYyMjJERETu7u6YmJjc3NwAAAC+aOQFAAAAAXRSTlMAQObYZgAAATZJREFU\n",
       "KM9jYOC7wEA8yAMRp0nQwMD4AEisI0UHzwIGBt4JpOhgMGdg4HhAko6jDAwvSNLAwOXAUAmiX1qW\n",
       "HsCrEK6AeQLDXiDFEsewnoGBaQNODRAF7EAv8y5gaAM57gLDbAammQ24XQ9SwMAE9DJbA0MIUGD+\n",
       "AYZ2oEG4dUAUgADTB7COaAaeT3h1QBRAdQBdxfOZge0DPh0QBSyFDGBFQJ/zfGNgXJCHTwdYATP/\n",
       "AbDPLYEi2xluCBiAdZwHpgKeXwwQBoIHVvAmA8jiNGDwAFIHy/XEHcA6OHqA3EYg5hCAER0HYAq2\n",
       "g2JQASmVgF2Vg+EkNljc8vxRYGA4gZwS2UA6DDB0MMPlFxiAUyLDPqgA34yPBQw8BRg6jsP9L/wA\n",
       "nNpRcxQvZkChZFFukB9IyrX3GBgARelVx2JDBrYAAAAASUVORK5CYII=\n",
       "\" style=\"display:inline;vertical-align:middle;\" /></a><br>\n",
       "<strong id=\"vars_example\">vars_example:</strong> <a class=\"ProveItLink\" href=\"../__pv_it/demonstrations/d44dc3f84a5035a3c448121a02d4b2964d58a7910/expr.ipynb\"><img src=\"data:image/png;base64,iVBORw0KGgoAAAANSUhEUgAAABcAAAAUBAMAAACUkLs9AAAAMFBMVEX///9UVFTMzMx2dna6uroQ\n",
       "EBCqqqqIiIgiIiJmZmYyMjJERETu7u6YmJjc3NwAAAC+aOQFAAAAAXRSTlMAQObYZgAAAK5JREFU\n",
       "GNNjYOC7wAAGeSDiNITNwPgASKyDcngWMDDwToByGMwZGDgewDhHGRhewNgMXA4MlUCKb/L0GAYG\n",
       "5gkMe4Ec1wdcH4C6FzC0Ac2JZeDcwMDA1sAQwsDA+YeBo4CBgekDiMO6geG8ApgDVHbegCEfqJOl\n",
       "AWTA+QQGKbYHIAMsGRi4C3gbmYFaDRg8gKaJFz0sAVqqgOScE2gOZdiH5AW457hB6mHevsfAAACm\n",
       "UydVsb016gAAAABJRU5ErkJggg==\n",
       "\" style=\"display:inline;vertical-align:middle;\" /></a><br>"
      ],
      "text/plain": [
       "params_example: (a_{1}, ..a_{_a}.., a_{i})\n",
       "vars_example: (a)"
      ]
     },
     "execution_count": 24,
     "metadata": {},
     "output_type": "execute_result"
    }
   ],
   "source": [
    "params_example, vars_example = (\n",
    "    example_forall.instance_params,\n",
    "    example_forall.instance_var_or_vars)"
   ]
  },
  {
   "cell_type": "code",
   "execution_count": 25,
   "metadata": {},
   "outputs": [
    {
     "data": {
      "text/html": [
       "<strong id=\"two_divides_four\">two_divides_four:</strong> <a class=\"ProveItLink\" href=\"../__pv_it/demonstrations/9f4c7c9d3f79b97e35cc06e790e53190957b4fc90/expr.ipynb\"><img src=\"data:image/png;base64,iVBORw0KGgoAAAANSUhEUgAAABkAAAAVBAMAAABBBVgrAAAAMFBMVEX///+YmJiqqqqIiIgyMjLc\n",
       "3NwiIiIQEBC6urp2dnZUVFTMzMxERERmZmbu7u4AAADrYmUNAAAAAXRSTlMAQObYZgAAAJ9JREFU\n",
       "GNNjYAAB7gcMSICzAcrgu3tmA4THfYGB4RUD5w8Ij20BA8M9BoZyCM8cyCtjYFgfAOKxigB5/g8Y\n",
       "1m8A8ThZFoANyn8A4olCeBw/Qfr4DCA8oFlAHicDhHcXbLs2hMd8AcTjmwDh6TKwAm1gWnv3fq0B\n",
       "A/cEBmawfQzsQLmwmXOXQdzCfgBo+///38A8zvO/BNB8RCKPeQOEBgCw6S9+wi94aQAAAABJRU5E\n",
       "rkJggg==\n",
       "\" style=\"display:inline;vertical-align:middle;\" /></a><br>"
      ],
      "text/plain": [
       "two_divides_four: 2 | 4"
      ]
     },
     "execution_count": 25,
     "metadata": {},
     "output_type": "execute_result"
    }
   ],
   "source": [
    "two_divides_four = Divides(two, four)"
   ]
  },
  {
   "cell_type": "code",
   "execution_count": 26,
   "metadata": {},
   "outputs": [
    {
     "data": {
      "text/html": [
       "<a class=\"ProveItLink\" href=\"../__pv_it/demonstrations/3e2ce6f8884879083eab93ef1375722023e1aa2d0/expr.ipynb\"><img src=\"data:image/png;base64,iVBORw0KGgoAAAANSUhEUgAAACkAAAAUBAMAAADiqgm2AAAAMFBMVEX///9UVFTMzMx2dna6uroQ\n",
       "EBCqqqqIiIgiIiJmZmYyMjJERETu7u6YmJjc3NwAAAC+aOQFAAAAAXRSTlMAQObYZgAAAQVJREFU\n",
       "GNNlkbFKA0EQhr9LvMOcm3CtneALHFiIlSnttLCx9QEkjYWNnAhiuZZiYZ5AxF69RlRsUluElFYS\n",
       "LSV47uzsCuIUuzvfwj8z/0BvxN/Yk+MFni9uImpZkom7rzAF6/1A5wvMELqWTk26Feh+Aavuc0Ja\n",
       "kXwr7L06+gBvkM9IPpW2c0fzPgcqN1M6Ftq23Ppss/SXGQjtDjnx6VEQQGhWsS1Zxyrd9bQ1Vari\n",
       "mDJSUcgs70KzxfPLnQFzla+2DIdhilSrrbnWj1fOKvOl9NpVKdlwXTdNU3FaSxP3HyPyJZlYI6uj\n",
       "b0/endhrDOcOd+H9GKE4Ka77+F3Jgmj+29AYfgDdbjmLKFFPRQAAAABJRU5ErkJggg==\n",
       "\" style=\"display:inline;vertical-align:middle;\" /></a>"
      ],
      "text/plain": [
       "(2, 4)"
      ]
     },
     "execution_count": 26,
     "metadata": {},
     "output_type": "execute_result"
    }
   ],
   "source": [
    "two_divides_four.operands"
   ]
  },
  {
   "cell_type": "code",
   "execution_count": 27,
   "metadata": {},
   "outputs": [
    {
     "data": {
      "text/html": [
       "<a class=\"ProveItLink\" href=\"../../numerals/__pv_it/common/3829356ce3fdf8f35810c63c00bc1a19e838663e0/expr.ipynb\"><img src=\"data:image/png;base64,iVBORw0KGgoAAAANSUhEUgAAAAkAAAAOBAMAAAAPuiubAAAALVBMVEX///+qqqqIiIgyMjLc3Nwi\n",
       "IiIQEBC6urp2dnZUVFTMzMxERERmZmbu7u4AAAAQI6y7AAAAAXRSTlMAQObYZgAAAFJJREFUCNdj\n",
       "4D2zewEDw00GjucMDGcZGNIYGFIZGOY5MNhdYJgHlGBgiLsAJNhfgJisE0DkGRDBdABEyjCwODBw\n",
       "NTAwOTC4dvRMZWCwe/fuKQMANh0TGKpG4roAAAAASUVORK5CYII=\n",
       "\" style=\"display:inline;vertical-align:middle;\" /></a>"
      ],
      "text/plain": [
       "2"
      ]
     },
     "execution_count": 27,
     "metadata": {},
     "output_type": "execute_result"
    }
   ],
   "source": [
    "two_divides_four.lhs"
   ]
  },
  {
   "cell_type": "code",
   "execution_count": 28,
   "metadata": {},
   "outputs": [
    {
     "data": {
      "text/html": [
       "<span style=\"font-size:20px;\"> <a class=\"ProveItLink\" href=\"../__pv_it/demonstrations/1bbdc76da4c80a64d541ba51e2b33a368d711c4d0/proof.ipynb\" style=\"text-decoration: none\">&nbsp;&#x22A2;&nbsp;&nbsp;</a><a class=\"ProveItLink\" href=\"../__pv_it/demonstrations/93a0f47b42e07f8aff67c1e5736e6c05aa54ce2e0/expr.ipynb\"><img src=\"data:image/png;base64,iVBORw0KGgoAAAANSUhEUgAAAE8AAAAVBAMAAAD1D64kAAAAMFBMVEX///9UVFTMzMx2dna6uroQ\n",
       "EBCqqqqIiIgiIiJmZmYyMjJERETu7u6YmJjc3NwAAAC+aOQFAAAAAXRSTlMAQObYZgAAAYFJREFU\n",
       "KM9jYIABHQYCgO8ChDaBUGwPcCk8zcBwcvYmqEJNBgY5NPmK6P1LGx2AjHUMPAIM9g4QhY0MDKfQ\n",
       "TVqgzrNnLgMD7wQGzgMMrAFgheyBDAzMBWgKN/gyFHEzMHA8YGBtYGD8B1b4diEDA08ARJ53R0cX\n",
       "TGEaUOELBgauPwyMn8AKDYAKGZaApZm2H0CYaAL0SCWYw/EHpJD3AUihJVjk1AGE1SxNQgwMe8Ec\n",
       "fwOQwuMMIIW3wCIIz29w7f8K9HUbA9S3QIUGYIUZEGlkz9heZmAIAbE5J4AUsimAFeqDnRi1Cghg\n",
       "CrlZLkAUVoJj5jADQiEfioncDAJgq9kmMLwDKkycOfPrdAYGD7B0ALJCRoYFYM8oMzDUQWImEO6Z\n",
       "6Sgm8hqAAoOv2XhiA0RhNBBPhgRYAjwKlRmMJ4It4vr//z9EofV/WQaGRWBpHmkf1ETBAUtW0GTG\n",
       "wNMAoVmsoVEIBcBEgaoQI1HAwD40hafwJFwUhfsIZYUiqFNwZAUA50djxmFR9yIAAAAASUVORK5C\n",
       "YII=\n",
       "\" style=\"display:inline;vertical-align:middle;\" /></a></span>"
      ],
      "text/plain": [
       "|- (2 | 4) in BOOLEAN"
      ]
     },
     "execution_count": 28,
     "metadata": {},
     "output_type": "execute_result"
    }
   ],
   "source": [
    "two_divides_four.deduce_in_bool()"
   ]
  },
  {
   "cell_type": "code",
   "execution_count": 29,
   "metadata": {},
   "outputs": [
    {
     "data": {
      "text/html": [
       "<strong id=\"two_divides_four_proper\">two_divides_four_proper:</strong> <a class=\"ProveItLink\" href=\"../__pv_it/demonstrations/65f338b07755db5ebe0f5ae960e5d82e478d12030/expr.ipynb\"><img src=\"data:image/png;base64,iVBORw0KGgoAAAANSUhEUgAAACcAAAAVBAMAAAA3P+qgAAAAMFBMVEX///+YmJiqqqqIiIgyMjLc\n",
       "3NwiIiIQEBC6urp2dnZUVFTMzMxERERmZmbu7u4AAADrYmUNAAAAAXRSTlMAQObYZgAAANdJREFU\n",
       "GNNjYAAB7gcMmICzAZXPd/fMBhRB7gsMDK8YOH+gCLItYGC4x8BQjiJoDhQsY2BYH4AkyCoCFPR/\n",
       "wLB+A5IgJ8sCMJ3/AElQFCLI8RNsZs+vuaceMPAZQASB1oEEGQsYOBMYOBkggnchjudawMD8gUEb\n",
       "Ish8ASLIJsDAc4BvAkRQl4EV7KT3AQxmD5jW3r1fa8DAPYGBGSzYP3mmAsg0dqDKsJlzl4G1T4G6\n",
       "if0A0PH//38DC56FOv78LwFE0H3CEp7cX7EImvwNIBDyYMC8AYULANkHP6j3lSyKAAAAAElFTkSu\n",
       "QmCC\n",
       "\" style=\"display:inline;vertical-align:middle;\" /></a><br>"
      ],
      "text/plain": [
       "two_divides_four_proper: 2 | 4"
      ]
     },
     "execution_count": 29,
     "metadata": {},
     "output_type": "execute_result"
    }
   ],
   "source": [
    "two_divides_four_proper = DividesProper(two, four)"
   ]
  },
  {
   "cell_type": "code",
   "execution_count": 30,
   "metadata": {},
   "outputs": [
    {
     "data": {
      "text/plain": [
       "True"
      ]
     },
     "execution_count": 30,
     "metadata": {},
     "output_type": "execute_result"
    }
   ],
   "source": [
    "InSet(x, Complex).proven(assumptions=[InSet(x, Complex)])"
   ]
  },
  {
   "cell_type": "code",
   "execution_count": 31,
   "metadata": {},
   "outputs": [
    {
     "data": {
      "text/html": [
       "<span style=\"font-size:20px;\"><a class=\"ProveItLink\" href=\"../__pv_it/theorems/e99df808d7f7f716b0c7d8c3fb6eb50e7ecca4120/expr.ipynb\"><img src=\"data:image/png;base64,iVBORw0KGgoAAAANSUhEUgAAADQAAAAPBAMAAABZ6/G2AAAAMFBMVEX///8QEBBmZmaqqqrMzMxE\n",
       "REQyMjIiIiKYmJh2dna6urrc3NxUVFSIiIju7u4AAAA6P00QAAAAAXRSTlMAQObYZgAAAM1JREFU\n",
       "GNNjYMAGrpV9LFXAKuPymeHRD6xSHDwXGBj6UaRay8sTQHQL4wMGBh5kKdd7UIbCViDBB9T59s6u\n",
       "mxdA7DyoDN8BJyhjAkctO8gcng1QKe4JayEMzgec/7hAoqwwg7kVoFJ8DKwBYIZjGhCAtPMFeMJU\n",
       "8V8AU1vh7snjgbH8HcAUI1yqCSz1gIH5wX0GXqA/GJguwKRYbwGZXAkM6w3iGXaARYrh2tQiHzwO\n",
       "fcDw5u5bjQawwJuoB1ApFjX5IgeUsFsZDgkoKAAA9fQ1vValRIIAAAAASUVORK5CYII=\n",
       "\" style=\"display:inline;vertical-align:middle;\" /></a>, <a class=\"ProveItLink\" href=\"../__pv_it/theorems/fc754fd89b63e925ce60299eafbc02e90d2050f80/expr.ipynb\"><img src=\"data:image/png;base64,iVBORw0KGgoAAAANSUhEUgAAADEAAAAUCAMAAAATIyWrAAAAOVBMVEX///8QEBAkJCQNDQ0oKChm\n",
       "ZmaqqqrMzMxEREQyMjIiIiKYmJh2dna6urrc3NxUVFSIiIju7u4AAACrOLOkAAAAAXRSTlMAQObY\n",
       "ZgAAANlJREFUKM+1kssWwiAMRFMVCiVAwv9/rAlYpa2iXZgFPTn0MpMHwCiQ4Vwkv8Ep4PyFyLFL\n",
       "vAXgJY0lXJeEqer4sUTvwWU9beFfJaBUIhbxBkyUUySkHeF6CS6mEfIXo5hcCJbVIvoat6ueZhUs\n",
       "qJ9ZCe05ir2YBhJCmEYIqKU4d6hizpu0d1XLogPhdpLl0Svb3iu9g1rHZWrVPJWajaDdtQxUJKFN\n",
       "p/1+uK8JaoedECn099EcbC66JZOY4UzEZMIGAH8cLaPM7eMmWnNyy99JjMPi3yUgji7vUJEIvLuq\n",
       "lhYAAAAASUVORK5CYII=\n",
       "\" style=\"display:inline;vertical-align:middle;\" /></a> <a class=\"ProveItLink\" href=\"../__pv_it/demonstrations/b0a39afdecafd1bb6d69eb66f2e85b6ecb2e5c830/proof.ipynb\" style=\"text-decoration: none\">&nbsp;&#x22A2;&nbsp;&nbsp;</a><a class=\"ProveItLink\" href=\"../__pv_it/demonstrations/0d6fe96b0fadf99acec7d4ea414089cab71d732a0/expr.ipynb\"><img src=\"data:image/png;base64,iVBORw0KGgoAAAANSUhEUgAAAB0AAAAVBAMAAABI7vhRAAAALVBMVEX///9mZmaqqqrMzMxEREQy\n",
       "MjIiIiKYmJh2dna6urrc3NxUVFSIiIju7u4AAACJHQtQAAAAAXRSTlMAQObYZgAAAGdJREFUGNNj\n",
       "YIAAWwZU0Ekz/p3TK08cAPEhDN4G9hy2ACAfyuC4wPGWcwGQD2XwMrA4gPVDGQwMfAeg5oEZDAx2\n",
       "BlA+mMF04RwDzwUgH8qYp+DHsBwkD2XcPnNHvADEhzKo5L/DUBoAwWIsAO2/ymoAAAAASUVORK5C\n",
       "YII=\n",
       "\" style=\"display:inline;vertical-align:middle;\" /></a></span>"
      ],
      "text/plain": [
       "{x in Complex, x != 0} |- x | x"
      ]
     },
     "execution_count": 31,
     "metadata": {},
     "output_type": "execute_result"
    }
   ],
   "source": [
    "Divides(x, x).conclude(assumptions=[InSet(x, Complex), NotEquals(x, zero)])"
   ]
  },
  {
   "cell_type": "code",
   "execution_count": 32,
   "metadata": {},
   "outputs": [],
   "source": [
    "try:\n",
    "    Divides(two, two).conclude()\n",
    "except ProofFailure as e:\n",
    "    print(\"Proof Failure: {}\".format(e))"
   ]
  },
  {
   "cell_type": "code",
   "execution_count": 33,
   "metadata": {},
   "outputs": [
    {
     "data": {
      "text/html": [
       "<span style=\"font-size:20px;\"> <a class=\"ProveItLink\" href=\"../__pv_it/demonstrations/23772de2a8c46a3dc13bf4ccc44e8e4dbb1961e10/proof.ipynb\" style=\"text-decoration: none\">&nbsp;&#x22A2;&nbsp;&nbsp;</a><a class=\"ProveItLink\" href=\"../__pv_it/demonstrations/b2479951c6dc16d3197a4b6416727e14043321110/expr.ipynb\"><img src=\"data:image/png;base64,iVBORw0KGgoAAAANSUhEUgAAADIAAAAPBAMAAABU9YHxAAAAMFBMVEX///+YmJiqqqqIiIgyMjLc\n",
       "3NwiIiIQEBC6urp2dnZUVFTMzMxERERmZmbu7u4AAADrYmUNAAAAAXRSTlMAQObYZgAAANtJREFU\n",
       "GNNj4Lt7ZgMDGjBJ+Z5zgeEVA+cPNIndnxjefrzAcI+BoRxVgpHLgIFB/gJDGQPD+gCwiExamgOI\n",
       "lmZ/wMDAdYHB/wHDerBFe+ygei7EAAk+AxAz/wGI6QeV4FuwF2Yux08QyRUA5bJOaIbJsC0AkTww\n",
       "LusFuMxdMLndBQhALuA7sBMqwXwBTMXAXe3HBWXoMrCCrGCHy8iCZR4wcE9gYAbJ8BrAZHgsgEwO\n",
       "B4awmXOXgQWS4JqunHzw6MwDBv///7+B+a9OPIDKcF+pz0UJ5c5jkNCBAgAChzpDD4pEigAAAABJ\n",
       "RU5ErkJggg==\n",
       "\" style=\"display:inline;vertical-align:middle;\" /></a></span>"
      ],
      "text/plain": [
       "|- 2 in Complex"
      ]
     },
     "execution_count": 33,
     "metadata": {},
     "output_type": "execute_result"
    }
   ],
   "source": [
    "InSet(two, Complex).prove()"
   ]
  },
  {
   "cell_type": "code",
   "execution_count": 34,
   "metadata": {},
   "outputs": [
    {
     "data": {
      "text/html": [
       "<span style=\"font-size:20px;\"> <a class=\"ProveItLink\" href=\"../__pv_it/demonstrations/deea3e3531230834d8b77d69f92c99836088b8320/proof.ipynb\" style=\"text-decoration: none\">&nbsp;&#x22A2;&nbsp;&nbsp;</a><a class=\"ProveItLink\" href=\"../__pv_it/demonstrations/1654e16e44465bc9e6c53ef05ee59788bc5a323b0/expr.ipynb\"><img src=\"data:image/png;base64,iVBORw0KGgoAAAANSUhEUgAAADAAAAAUCAMAAAD84U6VAAAAOVBMVEX///+YmJgkJCQNDQ0oKCiq\n",
       "qqqIiIgyMjLc3NwiIiIQEBC6urp2dnZUVFTMzMxERERmZmbu7u4AAAAEpOdQAAAAAXRSTlMAQObY\n",
       "ZgAAANxJREFUKM+1UssSwyAIJG19oyL//7GNmDSx2szkUA7OILssrAJcBJbZbSHKOc0q1nRsvWCF\n",
       "lVgTDhNCPF8atWKdBSCR9X4ikE/JIgBcNb2TZmxHgfOcuQ4CigsYLkJIlwLAQgisttzxYEhnRGFq\n",
       "BN3ywHi4YSRez3rSLtcAaSe4CJcCK4EaoTUmGvCpb9GPpEc85C/XeHOpLq0q3tpuh4dvm3x0sni2\n",
       "VG+SjKX7jub7WY6Hsw4RKbquHMYhXf0afnXCsERPMOM3Lah1TD++tSK4F6bcwyv8swCEq+Ib1gwJ\n",
       "AmsEG48AAAAASUVORK5CYII=\n",
       "\" style=\"display:inline;vertical-align:middle;\" /></a></span>"
      ],
      "text/plain": [
       "|- 2 != 0"
      ]
     },
     "execution_count": 34,
     "metadata": {},
     "output_type": "execute_result"
    }
   ],
   "source": [
    "NotEquals(two, zero).prove()"
   ]
  },
  {
   "cell_type": "code",
   "execution_count": 35,
   "metadata": {},
   "outputs": [
    {
     "data": {
      "text/html": [
       "<span style=\"font-size:20px;\"> <a class=\"ProveItLink\" href=\"../__pv_it/demonstrations/d163f49e56e88c0ce046e9b098c81551b3bcbe210/proof.ipynb\" style=\"text-decoration: none\">&nbsp;&#x22A2;&nbsp;&nbsp;</a><a class=\"ProveItLink\" href=\"../__pv_it/demonstrations/890825e64b27705e1f2007e38af01fe2c6a78c130/expr.ipynb\"><img src=\"data:image/png;base64,iVBORw0KGgoAAAANSUhEUgAAABkAAAAVBAMAAABBBVgrAAAALVBMVEX///+qqqqIiIgyMjLc3Nwi\n",
       "IiIQEBC6urp2dnZUVFTMzMxERERmZmbu7u4AAAAQI6y7AAAAAXRSTlMAQObYZgAAAIxJREFUGNOV\n",
       "j7EJAkEQRR+L4nFgB9ZymNjGZRpbgqGBgYnpsX2YWMAKm1qAaHQ1OH/mAjHzJ28eDPMZUNrKV5r9\n",
       "NCzLNcucPGheMid32MmcbGFYmznpKkM2c+pQX+Nmr57FOxqMlvk5zGgpU3uRpFuYCCtmanDSHkgy\n",
       "J5vj6aJNJ904PmXOn4/+tJSDH4grMJNq0g7RAAAAAElFTkSuQmCC\n",
       "\" style=\"display:inline;vertical-align:middle;\" /></a></span>"
      ],
      "text/plain": [
       "|- 2 | 2"
      ]
     },
     "execution_count": 35,
     "metadata": {},
     "output_type": "execute_result"
    }
   ],
   "source": [
    "Divides(two, two).conclude()"
   ]
  },
  {
   "cell_type": "code",
   "execution_count": 36,
   "metadata": {},
   "outputs": [
    {
     "data": {
      "text/plain": [
       "True"
      ]
     },
     "execution_count": 36,
     "metadata": {},
     "output_type": "execute_result"
    }
   ],
   "source": [
    "Divides(two, two).proven()"
   ]
  },
  {
   "cell_type": "code",
   "execution_count": 37,
   "metadata": {},
   "outputs": [
    {
     "data": {
      "text/html": [
       "<strong id=\"two_divides_zero\">two_divides_zero:</strong> <a class=\"ProveItLink\" href=\"../__pv_it/demonstrations/f26a4824943addd8923c3f5d58e721b45f2891da0/expr.ipynb\"><img src=\"data:image/png;base64,iVBORw0KGgoAAAANSUhEUgAAABkAAAAVBAMAAABBBVgrAAAAMFBMVEX///+YmJiqqqqIiIgyMjLc\n",
       "3NwiIiIQEBC6urp2dnZUVFTMzMxERERmZmbu7u4AAADrYmUNAAAAAXRSTlMAQObYZgAAALJJREFU\n",
       "GNNjYAAB7gcMSICzAcrgu3tmA5g3WXIDA8MrBs4fIB6LAl8qA8M9BoZyEE+cgWEKA0MZA8P6ACDv\n",
       "FAOD/gMG/wcM6zcAeb8YGPoVQAblP+Bs4PsL5BkAORw/gfpYfzIw7Afx2BaAeEC5/ROAvLsg22Eq\n",
       "mS+A3QI0RR9oii4DK8iGMwwM8g8YuCcwMAfAbQ+bOXcZSCWbAl81A4P////fQDy+yVYb0H1EIo8Z\n",
       "agAADXQ06n3ju8gAAAAASUVORK5CYII=\n",
       "\" style=\"display:inline;vertical-align:middle;\" /></a><br>"
      ],
      "text/plain": [
       "two_divides_zero: 2 | 0"
      ]
     },
     "execution_count": 37,
     "metadata": {},
     "output_type": "execute_result"
    }
   ],
   "source": [
    "two_divides_zero = Divides(two, zero)"
   ]
  },
  {
   "cell_type": "code",
   "execution_count": 38,
   "metadata": {},
   "outputs": [
    {
     "data": {
      "text/html": [
       "<span style=\"font-size:20px;\"> <a class=\"ProveItLink\" href=\"../__pv_it/demonstrations/f0cb21cfdb252ea64c0619e91c833a6484af23800/proof.ipynb\" style=\"text-decoration: none\">&nbsp;&#x22A2;&nbsp;&nbsp;</a><a class=\"ProveItLink\" href=\"../__pv_it/demonstrations/f26a4824943addd8923c3f5d58e721b45f2891da0/expr.ipynb\"><img src=\"data:image/png;base64,iVBORw0KGgoAAAANSUhEUgAAABkAAAAVBAMAAABBBVgrAAAAMFBMVEX///+YmJiqqqqIiIgyMjLc\n",
       "3NwiIiIQEBC6urp2dnZUVFTMzMxERERmZmbu7u4AAADrYmUNAAAAAXRSTlMAQObYZgAAALJJREFU\n",
       "GNNjYAAB7gcMSICzAcrgu3tmA5g3WXIDA8MrBs4fIB6LAl8qA8M9BoZyEE+cgWEKA0MZA8P6ACDv\n",
       "FAOD/gMG/wcM6zcAeb8YGPoVQAblP+Bs4PsL5BkAORw/gfpYfzIw7Afx2BaAeEC5/ROAvLsg22Eq\n",
       "mS+A3QI0RR9oii4DK8iGMwwM8g8YuCcwMAfAbQ+bOXcZSCWbAl81A4P////fQDy+yVYb0H1EIo8Z\n",
       "agAADXQ06n3ju8gAAAAASUVORK5CYII=\n",
       "\" style=\"display:inline;vertical-align:middle;\" /></a></span>"
      ],
      "text/plain": [
       "|- 2 | 0"
      ]
     },
     "execution_count": 38,
     "metadata": {},
     "output_type": "execute_result"
    }
   ],
   "source": [
    "two_divides_zero.conclude()"
   ]
  },
  {
   "cell_type": "code",
   "execution_count": 39,
   "metadata": {},
   "outputs": [
    {
     "data": {
      "text/html": [
       "<span style=\"font-size:20px;\"><a class=\"ProveItLink\" href=\"../__pv_it/theorems/e99df808d7f7f716b0c7d8c3fb6eb50e7ecca4120/expr.ipynb\"><img src=\"data:image/png;base64,iVBORw0KGgoAAAANSUhEUgAAADQAAAAPBAMAAABZ6/G2AAAAMFBMVEX///8QEBBmZmaqqqrMzMxE\n",
       "REQyMjIiIiKYmJh2dna6urrc3NxUVFSIiIju7u4AAAA6P00QAAAAAXRSTlMAQObYZgAAAM1JREFU\n",
       "GNNjYMAGrpV9LFXAKuPymeHRD6xSHDwXGBj6UaRay8sTQHQL4wMGBh5kKdd7UIbCViDBB9T59s6u\n",
       "mxdA7DyoDN8BJyhjAkctO8gcng1QKe4JayEMzgec/7hAoqwwg7kVoFJ8DKwBYIZjGhCAtPMFeMJU\n",
       "8V8AU1vh7snjgbH8HcAUI1yqCSz1gIH5wX0GXqA/GJguwKRYbwGZXAkM6w3iGXaARYrh2tQiHzwO\n",
       "fcDw5u5bjQawwJuoB1ApFjX5IgeUsFsZDgkoKAAA9fQ1vValRIIAAAAASUVORK5CYII=\n",
       "\" style=\"display:inline;vertical-align:middle;\" /></a>, <a class=\"ProveItLink\" href=\"../__pv_it/theorems/fc754fd89b63e925ce60299eafbc02e90d2050f80/expr.ipynb\"><img src=\"data:image/png;base64,iVBORw0KGgoAAAANSUhEUgAAADEAAAAUCAMAAAATIyWrAAAAOVBMVEX///8QEBAkJCQNDQ0oKChm\n",
       "ZmaqqqrMzMxEREQyMjIiIiKYmJh2dna6urrc3NxUVFSIiIju7u4AAACrOLOkAAAAAXRSTlMAQObY\n",
       "ZgAAANlJREFUKM+1kssWwiAMRFMVCiVAwv9/rAlYpa2iXZgFPTn0MpMHwCiQ4Vwkv8Ep4PyFyLFL\n",
       "vAXgJY0lXJeEqer4sUTvwWU9beFfJaBUIhbxBkyUUySkHeF6CS6mEfIXo5hcCJbVIvoat6ueZhUs\n",
       "qJ9ZCe05ir2YBhJCmEYIqKU4d6hizpu0d1XLogPhdpLl0Svb3iu9g1rHZWrVPJWajaDdtQxUJKFN\n",
       "p/1+uK8JaoedECn099EcbC66JZOY4UzEZMIGAH8cLaPM7eMmWnNyy99JjMPi3yUgji7vUJEIvLuq\n",
       "lhYAAAAASUVORK5CYII=\n",
       "\" style=\"display:inline;vertical-align:middle;\" /></a> <a class=\"ProveItLink\" href=\"../__pv_it/demonstrations/16a183894fdc9919d2762db312a48947e000e0a00/proof.ipynb\" style=\"text-decoration: none\">&nbsp;&#x22A2;&nbsp;&nbsp;</a><a class=\"ProveItLink\" href=\"../__pv_it/theorems/354541093b719cf79b11acfa01a5206eb87aa6fd0/expr.ipynb\"><img src=\"data:image/png;base64,iVBORw0KGgoAAAANSUhEUgAAABwAAAAVBAMAAACnLJNvAAAAMFBMVEX///8QEBBmZmaqqqrMzMxE\n",
       "REQyMjIiIiKYmJh2dna6urrc3NxUVFSIiIju7u4AAAA6P00QAAAAAXRSTlMAQObYZgAAAJ5JREFU\n",
       "GNNjYIAAPwYUMAuDy3ljCjI3meH5BgSXQ4CBMwHBZT3AwPwPweU/wMD1mYHh7Z1dNy8Aue8VGLj+\n",
       "MvBN4KhlTwBy909gYPnLwPmA8x/XBhBXgYHlJwMfA2sAWC9EMQMD/wWYUcxAoxj8HSAWBTBw/GNg\n",
       "fnCfgfcB3BnrDeIZdoAdWczw0IHhzd23Gg1g7su7R/B4kHjuFQgFAOOwNl56f7ILAAAAAElFTkSu\n",
       "QmCC\n",
       "\" style=\"display:inline;vertical-align:middle;\" /></a></span>"
      ],
      "text/plain": [
       "{x in Complex, x != 0} |- x | 0"
      ]
     },
     "execution_count": 39,
     "metadata": {},
     "output_type": "execute_result"
    }
   ],
   "source": [
    "Divides(x, zero).conclude(assumptions=[InSet(x, Complex), NotEquals(x, zero)])"
   ]
  },
  {
   "cell_type": "markdown",
   "metadata": {},
   "source": [
    "#### Equality in Divides.conclude() (x|x)"
   ]
  },
  {
   "cell_type": "code",
   "execution_count": 40,
   "metadata": {},
   "outputs": [
    {
     "name": "stdout",
     "output_type": "stream",
     "text": [
      "Exception! Unable to prove x | x:\n",
      "In Divides.conclude() we tried:\n",
      "Case: lhs = rhs. Although lhs = rhs = x, either x is not known to be non-zero or x is not known to be in the complex numbers (or both). Try proving one or both of those claims first.\n",
      "Case: x|xy. This possible case returned the following error message: conclude_via_factor only applies for an explicit Mult expression on the rhs of the Divides, but received x on the right side. \n",
      "Case: (x^n) | (y^n). Does not appear applicable.\n",
      "Case: transitivity search. In attempting to use conclude_via_transitivity(), obtained the following error message: .\n"
     ]
    }
   ],
   "source": [
    "# testing general Divide.conclude() method with x|x where we\n",
    "# have no information about x\n",
    "try:\n",
    "    Divides(x, x).conclude()\n",
    "except Exception as e:\n",
    "    print(\"Exception! {0}\".format(e))"
   ]
  },
  {
   "cell_type": "code",
   "execution_count": 41,
   "metadata": {},
   "outputs": [
    {
     "data": {
      "text/html": [
       "<span style=\"font-size:20px;\"><a class=\"ProveItLink\" href=\"../__pv_it/theorems/e99df808d7f7f716b0c7d8c3fb6eb50e7ecca4120/expr.ipynb\"><img src=\"data:image/png;base64,iVBORw0KGgoAAAANSUhEUgAAADQAAAAPBAMAAABZ6/G2AAAAMFBMVEX///8QEBBmZmaqqqrMzMxE\n",
       "REQyMjIiIiKYmJh2dna6urrc3NxUVFSIiIju7u4AAAA6P00QAAAAAXRSTlMAQObYZgAAAM1JREFU\n",
       "GNNjYMAGrpV9LFXAKuPymeHRD6xSHDwXGBj6UaRay8sTQHQL4wMGBh5kKdd7UIbCViDBB9T59s6u\n",
       "mxdA7DyoDN8BJyhjAkctO8gcng1QKe4JayEMzgec/7hAoqwwg7kVoFJ8DKwBYIZjGhCAtPMFeMJU\n",
       "8V8AU1vh7snjgbH8HcAUI1yqCSz1gIH5wX0GXqA/GJguwKRYbwGZXAkM6w3iGXaARYrh2tQiHzwO\n",
       "fcDw5u5bjQawwJuoB1ApFjX5IgeUsFsZDgkoKAAA9fQ1vValRIIAAAAASUVORK5CYII=\n",
       "\" style=\"display:inline;vertical-align:middle;\" /></a>, <a class=\"ProveItLink\" href=\"../__pv_it/theorems/fc754fd89b63e925ce60299eafbc02e90d2050f80/expr.ipynb\"><img src=\"data:image/png;base64,iVBORw0KGgoAAAANSUhEUgAAADEAAAAUCAMAAAATIyWrAAAAOVBMVEX///8QEBAkJCQNDQ0oKChm\n",
       "ZmaqqqrMzMxEREQyMjIiIiKYmJh2dna6urrc3NxUVFSIiIju7u4AAACrOLOkAAAAAXRSTlMAQObY\n",
       "ZgAAANlJREFUKM+1kssWwiAMRFMVCiVAwv9/rAlYpa2iXZgFPTn0MpMHwCiQ4Vwkv8Ep4PyFyLFL\n",
       "vAXgJY0lXJeEqer4sUTvwWU9beFfJaBUIhbxBkyUUySkHeF6CS6mEfIXo5hcCJbVIvoat6ueZhUs\n",
       "qJ9ZCe05ir2YBhJCmEYIqKU4d6hizpu0d1XLogPhdpLl0Svb3iu9g1rHZWrVPJWajaDdtQxUJKFN\n",
       "p/1+uK8JaoedECn099EcbC66JZOY4UzEZMIGAH8cLaPM7eMmWnNyy99JjMPi3yUgji7vUJEIvLuq\n",
       "lhYAAAAASUVORK5CYII=\n",
       "\" style=\"display:inline;vertical-align:middle;\" /></a> <a class=\"ProveItLink\" href=\"../__pv_it/demonstrations/b0a39afdecafd1bb6d69eb66f2e85b6ecb2e5c830/proof.ipynb\" style=\"text-decoration: none\">&nbsp;&#x22A2;&nbsp;&nbsp;</a><a class=\"ProveItLink\" href=\"../__pv_it/demonstrations/0d6fe96b0fadf99acec7d4ea414089cab71d732a0/expr.ipynb\"><img src=\"data:image/png;base64,iVBORw0KGgoAAAANSUhEUgAAAB0AAAAVBAMAAABI7vhRAAAALVBMVEX///9mZmaqqqrMzMxEREQy\n",
       "MjIiIiKYmJh2dna6urrc3NxUVFSIiIju7u4AAACJHQtQAAAAAXRSTlMAQObYZgAAAGdJREFUGNNj\n",
       "YIAAWwZU0Ekz/p3TK08cAPEhDN4G9hy2ACAfyuC4wPGWcwGQD2XwMrA4gPVDGQwMfAeg5oEZDAx2\n",
       "BlA+mMF04RwDzwUgH8qYp+DHsBwkD2XcPnNHvADEhzKo5L/DUBoAwWIsAO2/ymoAAAAASUVORK5C\n",
       "YII=\n",
       "\" style=\"display:inline;vertical-align:middle;\" /></a></span>"
      ],
      "text/plain": [
       "{x in Complex, x != 0} |- x | x"
      ]
     },
     "execution_count": 41,
     "metadata": {},
     "output_type": "execute_result"
    }
   ],
   "source": [
    "# testing general Divide.conclude() method with x|x where we\n",
    "# now have sufficient information about x\n",
    "Divides(x, x).conclude(assumptions=[NotEquals(x, zero), InSet(x, Complex)])"
   ]
  },
  {
   "cell_type": "markdown",
   "metadata": {},
   "source": [
    "#### x|xy in Divides.conclude_via_factor() (which is then used in the Divides.conclude() method"
   ]
  },
  {
   "cell_type": "code",
   "execution_count": 42,
   "metadata": {},
   "outputs": [],
   "source": [
    "# Divides(x, Mult(x, y)).conclude_via_factor(assumptions=[InSet(x, Integer), InSet(y, Integer), NotEquals(x, zero)])"
   ]
  },
  {
   "cell_type": "code",
   "execution_count": 43,
   "metadata": {},
   "outputs": [],
   "source": [
    "# Divides(x, Mult(y, x)).conclude_via_factor(assumptions=[InSet(x, Integer), InSet(y, Integer), NotEquals(x, zero)])"
   ]
  },
  {
   "cell_type": "code",
   "execution_count": 44,
   "metadata": {},
   "outputs": [
    {
     "data": {
      "text/html": [
       "<span style=\"font-size:20px;\"><a class=\"ProveItLink\" href=\"../__pv_it/theorems/14e2630e87af69b9e0a6893a8f8a8fa89d8b1f4a0/expr.ipynb\"><img src=\"data:image/png;base64,iVBORw0KGgoAAAANSUhEUgAAADMAAAAPBAMAAAC7N+rPAAAAMFBMVEX///8QEBBmZmaqqqrMzMxE\n",
       "REQyMjIiIiKYmJh2dna6urrc3NxUVFSIiIju7u4AAAA6P00QAAAAAXRSTlMAQObYZgAAANZJREFU\n",
       "GNNjYMAEy+XFEsskGLCBqyoMbAwBWKU0GRgmcy5AEeIILy8D0XoM3AecUGRYYh/AmKwP4kDU2zu7\n",
       "bl4AMZ7BZRh6ORqAJN8Ejlr2BBD/NFyGL+ApiOJ8wPmPawOIhXATjwNYGR8DK0SMRSwNCMDMRVwT\n",
       "IGr4wTYxcCN0JbCCTAMy/B0gAgIwGU6DWQwMjAwMzA/uM/CC3aYLk9rDfYCBQZGBYb1BPMMOsAi7\n",
       "AVQqjvUBw5tWBoY3d99qNECcfHQdmOYSTQwN/BiEEhxcUyEBBQUAa7sxwOkLdCEAAAAASUVORK5C\n",
       "YII=\n",
       "\" style=\"display:inline;vertical-align:middle;\" /></a>, <a class=\"ProveItLink\" href=\"../__pv_it/theorems/a848422fb3c9b8244aa1ea3d3536c98438e106ac0/expr.ipynb\"><img src=\"data:image/png;base64,iVBORw0KGgoAAAANSUhEUgAAADIAAAASBAMAAADrvZC0AAAAMFBMVEX///8iIiKYmJhUVFTMzMxE\n",
       "REQyMjKqqqq6urp2dnYQEBDc3NxmZmaIiIju7u4AAACH5sGpAAAAAXRSTlMAQObYZgAAAOhJREFU\n",
       "GNNjYMAAHFK/0hZmKWBKMPDGODAksGKRYOCZwMBZMANZhClQUAws84BhM8sBJAmW2AdwdhwrkM13\n",
       "5wLDLpDYM4QE0wUlIMnJsYDhPohrjdD+lC8ASG7nSWAIBXEDEDImzBuA5AOuCwx/QdYsSwMCiIcO\n",
       "dILp/gcsX4AUN0IPG0j/PAaGYwy8C0D8BXCZ6ZwNYG4wA6sBiH8WJsFtsBnoKaDMYYZ+cBgxFkBl\n",
       "WB/EMfAZAQ18fPc8yCUMfKZ9EJmusKWh65eCA+EYNIynQkIHBpgT+H4wYAWMCqwXsMtw3D2CXQIA\n",
       "CSg4nSezvQQAAAAASUVORK5CYII=\n",
       "\" style=\"display:inline;vertical-align:middle;\" /></a>, <a class=\"ProveItLink\" href=\"../__pv_it/theorems/fc754fd89b63e925ce60299eafbc02e90d2050f80/expr.ipynb\"><img src=\"data:image/png;base64,iVBORw0KGgoAAAANSUhEUgAAADEAAAAUCAMAAAATIyWrAAAAOVBMVEX///8QEBAkJCQNDQ0oKChm\n",
       "ZmaqqqrMzMxEREQyMjIiIiKYmJh2dna6urrc3NxUVFSIiIju7u4AAACrOLOkAAAAAXRSTlMAQObY\n",
       "ZgAAANlJREFUKM+1kssWwiAMRFMVCiVAwv9/rAlYpa2iXZgFPTn0MpMHwCiQ4Vwkv8Ep4PyFyLFL\n",
       "vAXgJY0lXJeEqer4sUTvwWU9beFfJaBUIhbxBkyUUySkHeF6CS6mEfIXo5hcCJbVIvoat6ueZhUs\n",
       "qJ9ZCe05ir2YBhJCmEYIqKU4d6hizpu0d1XLogPhdpLl0Svb3iu9g1rHZWrVPJWajaDdtQxUJKFN\n",
       "p/1+uK8JaoedECn099EcbC66JZOY4UzEZMIGAH8cLaPM7eMmWnNyy99JjMPi3yUgji7vUJEIvLuq\n",
       "lhYAAAAASUVORK5CYII=\n",
       "\" style=\"display:inline;vertical-align:middle;\" /></a> <a class=\"ProveItLink\" href=\"../__pv_it/demonstrations/91c25a3f1941303b9f49cd518810688a3000cbdb0/proof.ipynb\" style=\"text-decoration: none\">&nbsp;&#x22A2;&nbsp;&nbsp;</a><a class=\"ProveItLink\" href=\"../__pv_it/demonstrations/2523806d68d8135df43ff02cb9087f2484e9f4bd0/expr.ipynb\"><img src=\"data:image/png;base64,iVBORw0KGgoAAAANSUhEUgAAAEkAAAAVBAMAAAD4Ed5jAAAAMFBMVEX///8QEBBmZmaqqqrMzMxE\n",
       "REQyMjIiIiKYmJh2dna6urrc3NxUVFSIiIju7u4AAAA6P00QAAAAAXRSTlMAQObYZgAAAUhJREFU\n",
       "KM+N0r9Lw0AUB/Bvf1zSpM3ZP6GDFAfB7oL0L9Au3QTzJ2RyUSG4KLh0FtTuIom4iJO7CEdxEUx7\n",
       "TiK0EFAcBMW7JEaTnj8e3JHkPsl74T0gjmX8J/aj/Vx1tJhTtKNSNT+rNF+lqJ1V2+pqDrJqQ63u\n",
       "M6rqqJXWByZ3F7csUlZDFBFcnaQZ6IDhlMNogPYqW7odKeICj9hh65/KMOsYARUbBjfeTT9Segs4\n",
       "xBE/loKLdVa00QVKDihIJ6mr0JeH3TjZi5QFhjegHIrrGfZNQT6WsSk3j5efE7XSTpTMCPk4jSas\n",
       "OmA6KPERLJ5Wv2SFGKZqFeQyqt5rrckmSyX+2HwiYdVN1Tw8cVPsYRxM5txYiS/T6+Fg9yvjOFgQ\n",
       "rdXaf3WoKdbD792u2fR1utskNzm6S9j05OSn0Axms+/e/DzRe8AHIb1dt6Av6X0AAAAASUVORK5C\n",
       "YII=\n",
       "\" style=\"display:inline;vertical-align:middle;\" /></a></span>"
      ],
      "text/plain": [
       "{x in Integer, y in Integer, x != 0} |- x | (x * y)"
      ]
     },
     "execution_count": 44,
     "metadata": {},
     "output_type": "execute_result"
    }
   ],
   "source": [
    "Divides(x, Mult(x, y)).conclude(assumptions=[InSet(x, Integer), InSet(y, Integer), NotEquals(x, zero)])"
   ]
  },
  {
   "cell_type": "markdown",
   "metadata": {},
   "source": [
    "#### Transitivity in Divides.conclude()"
   ]
  },
  {
   "cell_type": "markdown",
   "metadata": {},
   "source": [
    "Using Divides.conclude() to indirectly utilize transitivity, given the right assumptions:"
   ]
  },
  {
   "cell_type": "code",
   "execution_count": 45,
   "metadata": {},
   "outputs": [
    {
     "data": {
      "text/html": [
       "<span style=\"font-size:20px;\"><a class=\"ProveItLink\" href=\"../__pv_it/demonstrations/c3f1d31f2084556b92f54c9cfee3069ff784f3c60/expr.ipynb\"><img src=\"data:image/png;base64,iVBORw0KGgoAAAANSUhEUgAAAB0AAAAVBAMAAABI7vhRAAAAMFBMVEX///8QEBBmZmaqqqrMzMxE\n",
       "REQyMjIiIiKYmJh2dna6urrc3NxUVFSIiIju7u4AAAA6P00QAAAAAXRSTlMAQObYZgAAAIxJREFU\n",
       "GNNjYIAAPwZUMItm/Ld3dt28AOJza+rKMTDwTeCoZU8A8RduYPvAwMD5gPMf1wYgn0+CgSkAKM/A\n",
       "GgDWz/SPgf0CyAD+C2A+YwDDewcQ398BzH8/gcEeyGB+cJ+B9wGIb8BwjHkDw3qDeIYdIHnWCxw1\n",
       "nAwMb+6+1WgA8fnOXtlzi2r+uwKlAV6ZLlcwScOvAAAAAElFTkSuQmCC\n",
       "\" style=\"display:inline;vertical-align:middle;\" /></a>, <a class=\"ProveItLink\" href=\"../__pv_it/demonstrations/2dffe02ac2561100d94de9a1a0b6dc4e321f2c800/expr.ipynb\"><img src=\"data:image/png;base64,iVBORw0KGgoAAAANSUhEUgAAABwAAAAVBAMAAACnLJNvAAAAMFBMVEX///9UVFSqqqrMzMwiIiJE\n",
       "RESYmJgyMjK6urru7u4QEBCIiIh2dnZmZmbc3NwAAABRgo0vAAAAAXRSTlMAQObYZgAAAKNJREFU\n",
       "GNNjYAAD5gkMyICngQZcvju3V4K4s28z8K1kYOh6wP4BxD3QxcD9gYFzGQNvAJDLp3CdgTWAgfcn\n",
       "A8sGIJeTYTUD/wYGrgCG+QYgxRw/GewNGOYfYNAHm8xbwLCLgWG+AoM40wMgl1WAIZCBgXUDmyMP\n",
       "WFaA4xsDA6f05oc7QFxO6b3/UFwF1I3gijPMb0DiujFEI3uhe68BnMsNZQIANUorwY/Nxz4AAAAA\n",
       "SUVORK5CYII=\n",
       "\" style=\"display:inline;vertical-align:middle;\" /></a> <a class=\"ProveItLink\" href=\"../__pv_it/demonstrations/76f0917218a4c472d7c27313aad7cede40a9f3e70/proof.ipynb\" style=\"text-decoration: none\">&nbsp;&#x22A2;&nbsp;&nbsp;</a><a class=\"ProveItLink\" href=\"../__pv_it/axioms/5056af04341463ce593648c224a69724791882d20/expr.ipynb\"><img src=\"data:image/png;base64,iVBORw0KGgoAAAANSUhEUgAAAB0AAAAVBAMAAABI7vhRAAAAMFBMVEX///8QEBBmZmaqqqrMzMxE\n",
       "REQyMjIiIiKYmJh2dna6urrc3NxUVFSIiIju7u4AAAA6P00QAAAAAXRSTlMAQObYZgAAAKFJREFU\n",
       "GNNjYIAAPwZUMItm/Ld3dt28AOTzXbrAsPEBA98Ejlr2BCCfk0uA4T4DA+cDzn9cG4D8zUwJDKEM\n",
       "DHwMrAFg/Q8YLzD8BRnAfwFi3voHLF9AfH8HCF+NgVeAgYH5wX0G3gcgfgwD6wGgKoN4hh1geR2G\n",
       "9Q0MDG/uvtVoAPPf3NXfgOo+NWT38iTw/ULmszewXkDmc91VQfLfFSgNAG1HMw+xhLGTAAAAAElF\n",
       "TkSuQmCC\n",
       "\" style=\"display:inline;vertical-align:middle;\" /></a></span>"
      ],
      "text/plain": [
       "{x | a, a | y} |- x | y"
      ]
     },
     "execution_count": 45,
     "metadata": {},
     "output_type": "execute_result"
    }
   ],
   "source": [
    "Divides(x, y).conclude(assumptions=[Divides(x, a), Divides(a, y)])"
   ]
  },
  {
   "cell_type": "code",
   "execution_count": 46,
   "metadata": {},
   "outputs": [
    {
     "data": {
      "text/html": [
       "<strong id=\"defaults.assumptions\">defaults.assumptions:</strong> <a class=\"ProveItLink\" href=\"../__pv_it/demonstrations/5b05223cedd88a242fae1cab9e2289d50843449e0/expr.ipynb\"><img src=\"data:image/png;base64,iVBORw0KGgoAAAANSUhEUgAAAE0AAAAVBAMAAADx+n4ZAAAAMFBMVEX////MzMxUVFR2dna6uroQ\n",
       "EBCqqqqIiIgiIiJmZmYyMjJERETu7u6YmJjc3NwAAACgK8IjAAAAAXRSTlMAQObYZgAAAXVJREFU\n",
       "KM+Nkr1Kw1AYht+a2KbNj7kAod0KnTII4pal6OYiuCjkAkRTf5BOFoe6KBQcCoKQK5Di4qQGQSI4\n",
       "pFcgQRxchFxAFb/vnCKxLbRnOOfJ4eHkO995gb+xiNGRCzMfVn8IS2Oe4sp1l6dXTPXmEppupntG\n",
       "AJid6R6WAS2ZwXsGPjGDV3LRpCXa/zjw2bMuu1vDLjCRF3VhEXRwT2U65pkWsFdPSqn0BJHn1FFI\n",
       "YQZo0/GhMlAT8oxtFHvyhoIU1/KuoPeQb2GDNhm5vuIAmi88SYprYBMLPnIpe2Bkb76H2BaeJPqv\n",
       "OkDZZq/N22VbeLGDPVmeJPKKAY4AtcX3yIcnKITseajlRT8lkadXcAu+xwqw7j3ii8/TffNUQUyv\n",
       "JInPq6jfVK6DNeDpOLrus2dUG++H0M4xJPKMavOH+mxPeredf+9BFeJlYg6cjFdD7Ioc4GHUM/yM\n",
       "d4E7mavxnJrZHKw2qWV6ks19YywvBdl0vAG/jwdjhaP3slAAAAAASUVORK5CYII=\n",
       "\" style=\"display:inline;vertical-align:middle;\" /></a><br>"
      ],
      "text/plain": [
       "defaults.assumptions: (x | a, a | y)"
      ]
     },
     "execution_count": 46,
     "metadata": {},
     "output_type": "execute_result"
    }
   ],
   "source": [
    "defaults.assumptions = [Divides(x, a), Divides(a, y)]"
   ]
  },
  {
   "cell_type": "code",
   "execution_count": 47,
   "metadata": {},
   "outputs": [
    {
     "data": {
      "text/html": [
       "<span style=\"font-size:20px;\"><a class=\"ProveItLink\" href=\"../__pv_it/demonstrations/c3f1d31f2084556b92f54c9cfee3069ff784f3c60/expr.ipynb\"><img src=\"data:image/png;base64,iVBORw0KGgoAAAANSUhEUgAAAB0AAAAVBAMAAABI7vhRAAAAMFBMVEX///8QEBBmZmaqqqrMzMxE\n",
       "REQyMjIiIiKYmJh2dna6urrc3NxUVFSIiIju7u4AAAA6P00QAAAAAXRSTlMAQObYZgAAAIxJREFU\n",
       "GNNjYIAAPwZUMItm/Ld3dt28AOJza+rKMTDwTeCoZU8A8RduYPvAwMD5gPMf1wYgn0+CgSkAKM/A\n",
       "GgDWz/SPgf0CyAD+C2A+YwDDewcQ398BzH8/gcEeyGB+cJ+B9wGIb8BwjHkDw3qDeIYdIHnWCxw1\n",
       "nAwMb+6+1WgA8fnOXtlzi2r+uwKlAV6ZLlcwScOvAAAAAElFTkSuQmCC\n",
       "\" style=\"display:inline;vertical-align:middle;\" /></a>, <a class=\"ProveItLink\" href=\"../__pv_it/demonstrations/2dffe02ac2561100d94de9a1a0b6dc4e321f2c800/expr.ipynb\"><img src=\"data:image/png;base64,iVBORw0KGgoAAAANSUhEUgAAABwAAAAVBAMAAACnLJNvAAAAMFBMVEX///9UVFSqqqrMzMwiIiJE\n",
       "RESYmJgyMjK6urru7u4QEBCIiIh2dnZmZmbc3NwAAABRgo0vAAAAAXRSTlMAQObYZgAAAKNJREFU\n",
       "GNNjYAAD5gkMyICngQZcvju3V4K4s28z8K1kYOh6wP4BxD3QxcD9gYFzGQNvAJDLp3CdgTWAgfcn\n",
       "A8sGIJeTYTUD/wYGrgCG+QYgxRw/GewNGOYfYNAHm8xbwLCLgWG+AoM40wMgl1WAIZCBgXUDmyMP\n",
       "WFaA4xsDA6f05oc7QFxO6b3/UFwF1I3gijPMb0DiujFEI3uhe68BnMsNZQIANUorwY/Nxz4AAAAA\n",
       "SUVORK5CYII=\n",
       "\" style=\"display:inline;vertical-align:middle;\" /></a> <a class=\"ProveItLink\" href=\"../__pv_it/demonstrations/76f0917218a4c472d7c27313aad7cede40a9f3e70/proof.ipynb\" style=\"text-decoration: none\">&nbsp;&#x22A2;&nbsp;&nbsp;</a><a class=\"ProveItLink\" href=\"../__pv_it/axioms/5056af04341463ce593648c224a69724791882d20/expr.ipynb\"><img src=\"data:image/png;base64,iVBORw0KGgoAAAANSUhEUgAAAB0AAAAVBAMAAABI7vhRAAAAMFBMVEX///8QEBBmZmaqqqrMzMxE\n",
       "REQyMjIiIiKYmJh2dna6urrc3NxUVFSIiIju7u4AAAA6P00QAAAAAXRSTlMAQObYZgAAAKFJREFU\n",
       "GNNjYIAAPwZUMItm/Ld3dt28AOTzXbrAsPEBA98Ejlr2BCCfk0uA4T4DA+cDzn9cG4D8zUwJDKEM\n",
       "DHwMrAFg/Q8YLzD8BRnAfwFi3voHLF9AfH8HCF+NgVeAgYH5wX0G3gcgfgwD6wGgKoN4hh1geR2G\n",
       "9Q0MDG/uvtVoAPPf3NXfgOo+NWT38iTw/ULmszewXkDmc91VQfLfFSgNAG1HMw+xhLGTAAAAAElF\n",
       "TkSuQmCC\n",
       "\" style=\"display:inline;vertical-align:middle;\" /></a></span>"
      ],
      "text/plain": [
       "{x | a, a | y} |- x | y"
      ]
     },
     "execution_count": 47,
     "metadata": {},
     "output_type": "execute_result"
    }
   ],
   "source": [
    "Divides(x, y).conclude()"
   ]
  },
  {
   "cell_type": "markdown",
   "metadata": {},
   "source": [
    "#### Divisibility called from the Mult class?"
   ]
  },
  {
   "cell_type": "code",
   "execution_count": 48,
   "metadata": {},
   "outputs": [
    {
     "data": {
      "text/html": [
       "<span style=\"font-size:20px;\"> <a class=\"ProveItLink\" href=\"../__pv_it/demonstrations/f956152ddc83722e3f7b49e524722c971337db950/proof.ipynb\" style=\"text-decoration: none\">&nbsp;&#x22A2;&nbsp;&nbsp;</a><a class=\"ProveItLink\" href=\"../__pv_it/demonstrations/ec2a5c77a533cd11e56409a5b31f336f97e6dc340/expr.ipynb\"><img src=\"data:image/png;base64,iVBORw0KGgoAAAANSUhEUgAAAEQAAAAVBAMAAAAN71XTAAAAMFBMVEX///+YmJiqqqqIiIgyMjLc\n",
       "3NwiIiIQEBC6urp2dnZUVFTMzMxERERmZmbu7u4AAADrYmUNAAAAAXRSTlMAQObYZgAAAUBJREFU\n",
       "KM+Fkr1Lw1AUxU+NTRoakgyuBSc3sZuro+DQ5yK4ZelQF53USZzcBCehQ8FF1+Y/sAiCg0NXh0iG\n",
       "To5FpC6t97178yGNeCB57yQ/3j08DqDVTPGf3Euz7C//WVGAn7zGgvgjdpkO+0/APfABdybIqmIn\n",
       "qo+xFWICvANngrTEiawpgghuG6fAUDHSBTtBGucIduCfoJNiGBukHoFdEZYGYVdvjlODWGOwywm/\n",
       "R6+BPvCbs3gh2OV5byka1uix7xix18GOJCdt0/cNWhO5OsdkTsyET0acC+CRIxSIBDrScxS8qUE2\n",
       "aV8M0k6iBHODXKF5A0vlcY0TxBnBnuu4B/3BAw9yaYZxolpo7uUNncXii5GGvjrtMl0nL/TeK5eh\n",
       "W9UTPyojrcoqtcuIpyqQya/WUaWW9ZxVI/6rmDWFH4igWhyQoCAfAAAAAElFTkSuQmCC\n",
       "\" style=\"display:inline;vertical-align:middle;\" /></a></span>"
      ],
      "text/plain": [
       "|- 2 | (2 * 3)"
      ]
     },
     "execution_count": 48,
     "metadata": {},
     "output_type": "execute_result"
    }
   ],
   "source": [
    "Mult(two, three).deduce_divided_by(two)"
   ]
  },
  {
   "cell_type": "code",
   "execution_count": 49,
   "metadata": {},
   "outputs": [
    {
     "data": {
      "text/html": [
       "<span style=\"font-size:20px;\"> <a class=\"ProveItLink\" href=\"../__pv_it/demonstrations/407a1a34081f3357be4ed14e979c1bb71a54c7f60/proof.ipynb\" style=\"text-decoration: none\">&nbsp;&#x22A2;&nbsp;&nbsp;</a><a class=\"ProveItLink\" href=\"../__pv_it/demonstrations/09e622ff0c4d39fd32792fbd7c45c302a78534c40/expr.ipynb\"><img src=\"data:image/png;base64,iVBORw0KGgoAAAANSUhEUgAAAEQAAAAVBAMAAAAN71XTAAAAMFBMVEX///+YmJiqqqqIiIgyMjLc\n",
       "3NwiIiIQEBC6urp2dnZUVFTMzMxERERmZmbu7u4AAADrYmUNAAAAAXRSTlMAQObYZgAAAV5JREFU\n",
       "KM+Fkj9Iw0AUhz+bpm36Jyi4Fjq5CV0cxVVwaBwUHIQuHRTETtbBIZOOdi1Y7KJruzrp0knBrkor\n",
       "GYqD4CBoUYTGu1wSIq14cPdyed/x3vvxA7kyDv8tw/bC+mQmZoE5uOv4iHmD3jgrhOnX/i1cwAvG\n",
       "p4/ELbaJvQWE2eLcZghPUPORPKwUGAVIziFZxShyAG1LIRU4sXkPkGSZ9AdmlZJDu+MhetnrLywU\n",
       "H5P+hlX5ve94iNaTl+d6ZJ7EGJoipr5UL9lZcWztRSU6Ffy8RFsKSXjjaofy9LldsRfEHvjSJZV+\n",
       "NZE2Vc85WfpatRAiG3Bf8J/DMgpZRLfCQq6jECV+Tz45JlNHs8J2j+R8AXIFS7LdzUbzUhUyRMW5\n",
       "iC76TuNRSPVAyXVHCkmJe2rQt0PpXNcVv9aiZqhM84lZjiL5qVYqRpGsNQUZ/nKdsNTk6vpR6/xl\n",
       "zBmLH7MbXmMS9hclAAAAAElFTkSuQmCC\n",
       "\" style=\"display:inline;vertical-align:middle;\" /></a></span>"
      ],
      "text/plain": [
       "|- 2 | (3 * 2)"
      ]
     },
     "execution_count": 49,
     "metadata": {},
     "output_type": "execute_result"
    }
   ],
   "source": [
    "Mult(two, three).deduce_divided_by(three)"
   ]
  },
  {
   "cell_type": "code",
   "execution_count": 50,
   "metadata": {},
   "outputs": [
    {
     "name": "stdout",
     "output_type": "stream",
     "text": [
      "Exception! In Mult(2, 3).deduce_divided_by(4), the supplied divisor 4 does not appear to be equal to either of the multiplicands 2 or 3.\n"
     ]
    }
   ],
   "source": [
    "# Then a case where the divisibility is clearly not true:\n",
    "try:\n",
    "    Mult(two, three).deduce_divided_by(four)\n",
    "except Exception as e:\n",
    "    print(\"Exception! {0}\".format(e))"
   ]
  },
  {
   "cell_type": "markdown",
   "metadata": {},
   "source": [
    "### Testing Divides.eliminate_common_factor()"
   ]
  },
  {
   "cell_type": "code",
   "execution_count": 51,
   "metadata": {},
   "outputs": [
    {
     "data": {
      "text/html": [
       "<span style=\"font-size:20px;\"><a class=\"ProveItLink\" href=\"../__pv_it/demonstrations/2a148a9c0175c12eb3fe67b699726f7830fa6f4a0/expr.ipynb\"><img src=\"data:image/png;base64,iVBORw0KGgoAAAANSUhEUgAAAG0AAAAVBAMAAAC+p33JAAAAMFBMVEX///9UVFTMzMx2dna6uroQ\n",
       "EBCqqqqIiIgiIiJmZmYyMjJERETu7u6YmJjc3NwAAAC+aOQFAAAAAXRSTlMAQObYZgAAAgBJREFU\n",
       "OMt9lD1IHFEQx//35Z17u3tXqoUepA3kwgXiVV6plRYKQURSmiaGgIWNrAgpUiQrgnAoeIi1HiIS\n",
       "CMpaBPwovNagspBGCyUkIkEO13mzu29Xbs0Uw9s3/Gbm/ee9BZ605/iv6Y3WvTab3CteXkUg74U7\n",
       "Ag6WNoPNX6VtoNvn1DrU6veCjCqn8UXERNp1qHn0VWR5E5MNHPqcYmMPiRvJpRynCLUGaCbaLaSG\n",
       "/ED6FjkDiQ8edwIsAyNBvZcz5F8DGRspA7F7P5AcRq4GdcjjvgBvgB7bD8fY/wAuKEcTsT+hY1Of\n",
       "WHM53QA2LPQUHnNKBdO8yDQDTJ0jV3a5tMlbXy3JnU1TjoSJHf4cLAZz6aUD4afLZXlIyb8ymrV0\n",
       "Ekmr4RN/znIhLzZF4k64XOYtd5MX3q/5jeZrYFgs27md45qn9RjwwuVSPJ8qZ73zuBUb8d8u5x1S\n",
       "pNVtZG8fc94huacuiFkTJ/psM3HtHyDXZK4/1Oc7kcyzUapnIWmwLs+AGXkh6ixuSJd4EWnJUenP\n",
       "rAsJrs+V5g0/oDV4fgsuR4LjolTukHpeQhsnPYqiIcVxHMlhoLpFftXlkmLujvMvmNJCJ+mqFMQ9\n",
       "izDVCO5ZhO3zvY6w8L2OMLrX2I0KyHeUjWpHvCPxblttN/RuW42TRf0nNBH4+OR/4hx4AFnYgO/L\n",
       "VXMyAAAAAElFTkSuQmCC\n",
       "\" style=\"display:inline;vertical-align:middle;\" /></a> <a class=\"ProveItLink\" href=\"../__pv_it/demonstrations/2567a6c4a5e75834b36270d81cf38e7b9d9173810/proof.ipynb\" style=\"text-decoration: none\">&nbsp;&#x22A2;&nbsp;&nbsp;</a><a class=\"ProveItLink\" href=\"../__pv_it/demonstrations/2a148a9c0175c12eb3fe67b699726f7830fa6f4a0/expr.ipynb\"><img src=\"data:image/png;base64,iVBORw0KGgoAAAANSUhEUgAAAG0AAAAVBAMAAAC+p33JAAAAMFBMVEX///9UVFTMzMx2dna6uroQ\n",
       "EBCqqqqIiIgiIiJmZmYyMjJERETu7u6YmJjc3NwAAAC+aOQFAAAAAXRSTlMAQObYZgAAAgBJREFU\n",
       "OMt9lD1IHFEQx//35Z17u3tXqoUepA3kwgXiVV6plRYKQURSmiaGgIWNrAgpUiQrgnAoeIi1HiIS\n",
       "CMpaBPwovNagspBGCyUkIkEO13mzu29Xbs0Uw9s3/Gbm/ee9BZ605/iv6Y3WvTab3CteXkUg74U7\n",
       "Ag6WNoPNX6VtoNvn1DrU6veCjCqn8UXERNp1qHn0VWR5E5MNHPqcYmMPiRvJpRynCLUGaCbaLaSG\n",
       "/ED6FjkDiQ8edwIsAyNBvZcz5F8DGRspA7F7P5AcRq4GdcjjvgBvgB7bD8fY/wAuKEcTsT+hY1Of\n",
       "WHM53QA2LPQUHnNKBdO8yDQDTJ0jV3a5tMlbXy3JnU1TjoSJHf4cLAZz6aUD4afLZXlIyb8ymrV0\n",
       "Ekmr4RN/znIhLzZF4k64XOYtd5MX3q/5jeZrYFgs27md45qn9RjwwuVSPJ8qZ73zuBUb8d8u5x1S\n",
       "pNVtZG8fc94huacuiFkTJ/psM3HtHyDXZK4/1Oc7kcyzUapnIWmwLs+AGXkh6ixuSJd4EWnJUenP\n",
       "rAsJrs+V5g0/oDV4fgsuR4LjolTukHpeQhsnPYqiIcVxHMlhoLpFftXlkmLujvMvmNJCJ+mqFMQ9\n",
       "izDVCO5ZhO3zvY6w8L2OMLrX2I0KyHeUjWpHvCPxblttN/RuW42TRf0nNBH4+OR/4hx4AFnYgO/L\n",
       "VXMyAAAAAElFTkSuQmCC\n",
       "\" style=\"display:inline;vertical-align:middle;\" /></a></span>"
      ],
      "text/plain": [
       "{(2 * 3) | (2 * 5)} |- (2 * 3) | (2 * 5)"
      ]
     },
     "execution_count": 51,
     "metadata": {},
     "output_type": "execute_result"
    }
   ],
   "source": [
    "Divides(Mult(two, three), Mult(two, five)).prove(assumptions=[Divides(Mult(two, three), Mult(two, five))])"
   ]
  },
  {
   "cell_type": "code",
   "execution_count": 52,
   "metadata": {},
   "outputs": [
    {
     "data": {
      "text/html": [
       "<span style=\"font-size:20px;\"><a class=\"ProveItLink\" href=\"../__pv_it/demonstrations/2a148a9c0175c12eb3fe67b699726f7830fa6f4a0/expr.ipynb\"><img src=\"data:image/png;base64,iVBORw0KGgoAAAANSUhEUgAAAG0AAAAVBAMAAAC+p33JAAAAMFBMVEX///9UVFTMzMx2dna6uroQ\n",
       "EBCqqqqIiIgiIiJmZmYyMjJERETu7u6YmJjc3NwAAAC+aOQFAAAAAXRSTlMAQObYZgAAAgBJREFU\n",
       "OMt9lD1IHFEQx//35Z17u3tXqoUepA3kwgXiVV6plRYKQURSmiaGgIWNrAgpUiQrgnAoeIi1HiIS\n",
       "CMpaBPwovNagspBGCyUkIkEO13mzu29Xbs0Uw9s3/Gbm/ee9BZ605/iv6Y3WvTab3CteXkUg74U7\n",
       "Ag6WNoPNX6VtoNvn1DrU6veCjCqn8UXERNp1qHn0VWR5E5MNHPqcYmMPiRvJpRynCLUGaCbaLaSG\n",
       "/ED6FjkDiQ8edwIsAyNBvZcz5F8DGRspA7F7P5AcRq4GdcjjvgBvgB7bD8fY/wAuKEcTsT+hY1Of\n",
       "WHM53QA2LPQUHnNKBdO8yDQDTJ0jV3a5tMlbXy3JnU1TjoSJHf4cLAZz6aUD4afLZXlIyb8ymrV0\n",
       "Ekmr4RN/znIhLzZF4k64XOYtd5MX3q/5jeZrYFgs27md45qn9RjwwuVSPJ8qZ73zuBUb8d8u5x1S\n",
       "pNVtZG8fc94huacuiFkTJ/psM3HtHyDXZK4/1Oc7kcyzUapnIWmwLs+AGXkh6ixuSJd4EWnJUenP\n",
       "rAsJrs+V5g0/oDV4fgsuR4LjolTukHpeQhsnPYqiIcVxHMlhoLpFftXlkmLujvMvmNJCJ+mqFMQ9\n",
       "izDVCO5ZhO3zvY6w8L2OMLrX2I0KyHeUjWpHvCPxblttN/RuW42TRf0nNBH4+OR/4hx4AFnYgO/L\n",
       "VXMyAAAAAElFTkSuQmCC\n",
       "\" style=\"display:inline;vertical-align:middle;\" /></a> <a class=\"ProveItLink\" href=\"../__pv_it/demonstrations/283265aefdd95f1606e1113cb57496c0f2400daa0/proof.ipynb\" style=\"text-decoration: none\">&nbsp;&#x22A2;&nbsp;&nbsp;</a><a class=\"ProveItLink\" href=\"../__pv_it/demonstrations/a0542881037fbdbf54c8cef9fe6865a9143cf55e0/expr.ipynb\"><img src=\"data:image/png;base64,iVBORw0KGgoAAAANSUhEUgAAABoAAAAVBAMAAACqMuMoAAAAMFBMVEX///9UVFTMzMzu7u4yMjIQ\n",
       "EBC6uroiIiKIiIiYmJhmZmaqqqpERER2dnbc3NwAAACDMjhQAAAAAXRSTlMAQObYZgAAAKNJREFU\n",
       "GNNjYAADZQZkcA3GeHv3NJjnaaC1gYFvAcP+CSBe/P+/DAwcvxn4C0A8X4kHDAxsYQz8DiCeAFQn\n",
       "RCWUx1wLNkVyxiIgh+/6YjDvMMP7BJBkawLEPp4CEMkaDOFx/WPge8DA8xvIY3Rg4P3GwP8ZwmN1\n",
       "YOD6zMB6gIH9M5DHxcDA7sDAOQFiH9CFU4GOyVp1DGzDq4uLMXxEIq8JQgEAz282rn/7rJwAAAAA\n",
       "SUVORK5CYII=\n",
       "\" style=\"display:inline;vertical-align:middle;\" /></a></span>"
      ],
      "text/plain": [
       "{(2 * 3) | (2 * 5)} |- 3 | 5"
      ]
     },
     "execution_count": 52,
     "metadata": {},
     "output_type": "execute_result"
    }
   ],
   "source": [
    "Divides(Mult(two, three), Mult(two, five)).eliminate_common_factor(assumptions=[Divides(Mult(two, three), Mult(two, five))])"
   ]
  },
  {
   "cell_type": "markdown",
   "metadata": {},
   "source": [
    "### Testing Divides side_effects"
   ]
  },
  {
   "cell_type": "code",
   "execution_count": 53,
   "metadata": {},
   "outputs": [
    {
     "data": {
      "text/html": [
       "<span style=\"font-size:20px;\"><a class=\"ProveItLink\" href=\"../__pv_it/demonstrations/7289f087114819aecdad6b0756ec926104daab2a0/expr.ipynb\"><img src=\"data:image/png;base64,iVBORw0KGgoAAAANSUhEUgAAADoAAAAVBAMAAADlb+D4AAAAMFBMVEX///+YmJiqqqqIiIgyMjLc\n",
       "3NwiIiIQEBC6urp2dnZUVFTMzMxERERmZmbu7u4AAADrYmUNAAAAAXRSTlMAQObYZgAAARNJREFU\n",
       "KM9jYAABzjv3GHCDqQxL8MimMuwPwC2bwRDfgEczg/4DfLLJ2IX57p7ZAHT0BVRRjvTvLmXuAgyv\n",
       "GDh/MDDIoulhPruBwYGHgQHo0XIGjgkcG1BkeScwcCrMYGAoY2BYH7BFSQfqKpm0NAeQ7AOGKG6g\n",
       "bf4PGNZvqP//HyK5xw6u/RwPREM+3Dd8fnBJRgNBiPt+woW4ECH2hu8AmGZbABfiQbhrNVTlXYTQ\n",
       "dhcgcAAbeKET4jWkgIiBs1gYgAbPY2DQZWCF28YOl53ECYyWAgbuCQzMcFleAyiDdUEUkFfAEDZz\n",
       "7jKE0Ukw5z04x8C38ACD////3xCyr05A/N5+pOZMfc0F9CjrPAYOSSgAAE77R0ddFSujAAAAAElF\n",
       "TkSuQmCC\n",
       "\" style=\"display:inline;vertical-align:middle;\" /></a> <a class=\"ProveItLink\" href=\"../__pv_it/demonstrations/5faa1220d514e232d475dca8f8b1138d9d1dfb9d0/proof.ipynb\" style=\"text-decoration: none\">&nbsp;&#x22A2;&nbsp;&nbsp;</a><a class=\"ProveItLink\" href=\"../__pv_it/demonstrations/97bb0d02e39d69d251897e28ffb7396e1cc372e20/expr.ipynb\"><img src=\"data:image/png;base64,iVBORw0KGgoAAAANSUhEUgAAAFAAAAAcBAMAAAAEpSWJAAAAMFBMVEX///+YmJiqqqqIiIgyMjLc\n",
       "3NwiIiIQEBC6urp2dnZUVFTMzMxERERmZmbu7u4AAADrYmUNAAAAAXRSTlMAQObYZgAAAaJJREFU\n",
       "OMuNlLtLw1AUxr82jyZpI86CUJwtdnEs9C+wXXQSWhDBB1hxUDc7u5jFoUMxg7i2gyC62F2HrEor\n",
       "mQXpVFGExptzb2L6CPZAXuf7cR4ftwX+Cb37hpniEteTyXR9MreNxzLyY8mHKRV3UKnjPCzl0mNt\n",
       "avMVF/p8MDH1NPNTwS12HQBzvee2ACus7kf3KSRIgu6w1wLwDv1LgE2m2bgKNyIJi1QDYC6dCPCI\n",
       "dXeROgxAkjRLY2XVLI6BVplAZQikqjAGAUjS7dIym8jsoOSi1SYwwUrJQxg/AUjSmeexV4na1FwC\n",
       "zSLJ6jCycY37Bs1Pat98xkyHchfWH8ckYbTfRrU5KNuU2yNnuK7aAlTY+ugJw1WHXKd7n4/RCy1l\n",
       "oOQIUCakECklOYhUzEHh9mR8MelgPRzRl8SMA6QtSBw0/GXugdXwqPhSuPVGo3nDW/teKbuN12oA\n",
       "ksSDeVzyvE8O+l7JnueFIEk8zE70mJ3G/yDkfBR8iQf7bhS8iwcXRk64kY0F98VTapP9xTguYY1+\n",
       "5+LAzbHvZD0GnPHPguIXnHJ5cliCHqcAAAAASUVORK5CYII=\n",
       "\" style=\"display:inline;vertical-align:middle;\" /></a></span>"
      ],
      "text/plain": [
       "{2^{2} in Integer} |- 2 | (2 * 2^{2})"
      ]
     },
     "execution_count": 53,
     "metadata": {},
     "output_type": "execute_result"
    }
   ],
   "source": [
    "Divides(two, Mult(two, Exp(two, two))).conclude(assumptions=[InSet(Exp(two, two), Integer)])"
   ]
  },
  {
   "cell_type": "code",
   "execution_count": 54,
   "metadata": {},
   "outputs": [
    {
     "data": {
      "text/html": [
       "<span style=\"font-size:20px;\"><a class=\"ProveItLink\" href=\"../__pv_it/demonstrations/5e8e518475840e88372f7d35a87e1a74c973af570/expr.ipynb\"><img src=\"data:image/png;base64,iVBORw0KGgoAAAANSUhEUgAAADIAAAAVBAMAAAD2uKAMAAAAMFBMVEX///8QEBBmZmaqqqrMzMxE\n",
       "REQyMjIiIiKYmJh2dna6urrc3NxUVFSIiIju7u4AAAA6P00QAAAAAXRSTlMAQObYZgAAAONJREFU\n",
       "KM9tkD0KwkAQRj//MCYkaWy1FC2EFB7AC4geQDHHEEHIEXKE5ABiSrGQVHaCphFBcQ9g0FIQxJjZ\n",
       "bALmVfPmMVssECO1BwFQZlnjs2sVPNScrBHbE3QmChlnDxeikHHq6JTTEhuhPDHviUJGyD7Olihk\n",
       "CC+b84E2UQm7UJpkmi0tqqYotgv1yY3VPrKXFMVooTLiN2L6FQ0N6IfE0yl6Tf5g2E88naJSNHHk\n",
       "VmI3qEyUio8xLytjinXmxpdf3O7XsG2lRdsHb/wT/0HRzC87PJz8MsME+WUZ9POKmt1+AbLXSRRm\n",
       "XAXbAAAAAElFTkSuQmCC\n",
       "\" style=\"display:inline;vertical-align:middle;\" /></a> <a class=\"ProveItLink\" href=\"../__pv_it/demonstrations/a9679240dd279c7f00716b47dfdfb26215ffe74a0/proof.ipynb\" style=\"text-decoration: none\">&nbsp;&#x22A2;&nbsp;&nbsp;</a><a class=\"ProveItLink\" href=\"../__pv_it/demonstrations/5e8e518475840e88372f7d35a87e1a74c973af570/expr.ipynb\"><img src=\"data:image/png;base64,iVBORw0KGgoAAAANSUhEUgAAADIAAAAVBAMAAAD2uKAMAAAAMFBMVEX///8QEBBmZmaqqqrMzMxE\n",
       "REQyMjIiIiKYmJh2dna6urrc3NxUVFSIiIju7u4AAAA6P00QAAAAAXRSTlMAQObYZgAAAONJREFU\n",
       "KM9tkD0KwkAQRj//MCYkaWy1FC2EFB7AC4geQDHHEEHIEXKE5ABiSrGQVHaCphFBcQ9g0FIQxJjZ\n",
       "bALmVfPmMVssECO1BwFQZlnjs2sVPNScrBHbE3QmChlnDxeikHHq6JTTEhuhPDHviUJGyD7Olihk\n",
       "CC+b84E2UQm7UJpkmi0tqqYotgv1yY3VPrKXFMVooTLiN2L6FQ0N6IfE0yl6Tf5g2E88naJSNHHk\n",
       "VmI3qEyUio8xLytjinXmxpdf3O7XsG2lRdsHb/wT/0HRzC87PJz8MsME+WUZ9POKmt1+AbLXSRRm\n",
       "XAXbAAAAAElFTkSuQmCC\n",
       "\" style=\"display:inline;vertical-align:middle;\" /></a></span>"
      ],
      "text/plain": [
       "{x^{n} | y^{n}} |- x^{n} | y^{n}"
      ]
     },
     "execution_count": 54,
     "metadata": {},
     "output_type": "execute_result"
    }
   ],
   "source": [
    "Divides(Exp(x, n), Exp(y,n)).prove(\n",
    "    assumptions=[Divides(Exp(x, n), Exp(y,n)), InSet(x, Integer), InSet(y, Integer), InSet(n, NaturalPos)])"
   ]
  },
  {
   "cell_type": "code",
   "execution_count": 55,
   "metadata": {},
   "outputs": [
    {
     "data": {
      "text/html": [
       "<span style=\"font-size:20px;\"> <a class=\"ProveItLink\" href=\"proofs/common_factor_elimination/thm_proof.ipynb\" style=\"text-decoration: none\">&nbsp;&#x22A2;&nbsp;&nbsp;</a><a class=\"ProveItLink\" href=\"../__pv_it/theorems/2e1ed862c5648da02a27c3816d3ef060d42784c00/expr.ipynb\"><img src=\"data:image/png;base64,iVBORw0KGgoAAAANSUhEUgAAAPkAAAAXCAMAAAD+3xlQAAAAOVBMVEX///8oKCgUFBQNDQ0QEBCI\n",
       "iIhmZma6urrMzMxUVFQiIiJERETc3Nzu7u6qqqp2dnaYmJgyMjIAAAArQGDrAAAAAXRSTlMAQObY\n",
       "ZgAAA5RJREFUWMPlWAmO2zAMdFvrpO7/P7a6bzm7CyzQZgUksJMRqaGGpOzr+hGDyuuHDGHGe036\n",
       "OyXCt633xrwNcQnXhrmEm6dbFqhrVf6176MIK67tnlucIxP2W5TwCHgb4gZfe+aubLNG3Va3zf/v\n",
       "Bxd75sQVWcs7BEjLMAR/n/K2UknMdfvDhh8chMH1d6zh2GU+BqRf8oqK2AXWGN2yMrcMIZykrQOG\n",
       "RfuwOifWduZu9AGnZIz0cZ4iA34BZteqt7dYitJFGs17BrlJkdtzsq7VduczW7pI1AT7BJdqt2ik\n",
       "rxScbAiAZpx1CxqqZOwd23nXhUWH3wCzayzOK8A05qpfBZvSXOVcDhHAUJmrmOYuLldF4YcvtGvm\n",
       "tit6slaHSyqNscdLCv43avWeOdXTvGG/WMPvgNm1ZNsVRCmzGo3JxZ0ihOPPHFXm2EYr0RtNUjCJ\n",
       "/TJcF3FSEQaUkMGoEdGIOjBPWUT4U8uFE7C47jrzZClE3fMIc2+1Y35DBSTmsZuT1NkSc2EvmmMr\n",
       "MWK21BXqEGKyyY8iVpIjroQqOpennjkf5032k8jgAKyuOy2OlkjeuuCcm43a0+Yq12q7M1UJJYwg\n",
       "WAqT5NQbK2QRl61OWqNI1FstCEaapSrC0lvqvMl+Sk44AKvrLocLgMVe9Md/TDbG0abCybi5zMZT\n",
       "emJOSvLnCufN4ywk7J3RKipAFeGnJU36XavlTaon5gTWeZ399DccgNU1aRYLIIVGXW3Pp6Kfq2O0\n",
       "wVlsHJE586QhLx/nFHV5akiYJqiQLzjf0RtBShAeQ+7NCkXpE3M2zgstprNPbWW+AxbXtEqsAvpH\n",
       "kpTGbiz6WcnSd28qGCK1q2GkS16UlDYy2xFBKzJLLiipFA8E3nXM6CY/LFHrqwtzCuO8yT6pat8A\n",
       "m2tS3VUAs9b+/uW/rNnX9uPptesTc9314aaOmPD44o35XDOQr/0ee5kGprputD8i0XL6X5kn423e\n",
       "YD814oTfAbPrDJtWUDpaOa/N/fz8xNLu5+MVYUih0KppCDhlWl/5OnQXhtJpr2lOWwt99o21XV7D\n",
       "vN6+FwxptX0FZtcZNq8gdbRMXeuF53ognZhvz221fh2uo+5inu9Gzxw9PvzZhn8C2t0K1KtnjP2b\n",
       "iYfILC9s1usXA443s33TQeAVbFqB/fTbKDTUYvNEyByuP8OcnCeW3gjPwAIb/zf/4psEfBTOtAdy\n",
       "wJ+A6BtfkP0FBOYrEDKpaWkAAAAASUVORK5CYII=\n",
       "\" style=\"display:inline;vertical-align:middle;\" /></a></span>"
      ],
      "text/plain": [
       "|- forall_{a, b, k in Complex | (k * a) | (k * b), k != 0} (a | b)"
      ]
     },
     "execution_count": 55,
     "metadata": {},
     "output_type": "execute_result"
    }
   ],
   "source": [
    "from proveit.numbers.divisibility import common_factor_elimination\n",
    "common_factor_elimination"
   ]
  },
  {
   "cell_type": "code",
   "execution_count": 56,
   "metadata": {},
   "outputs": [
    {
     "data": {
      "text/html": [
       "<span style=\"font-size:20px;\"><a class=\"ProveItLink\" href=\"../__pv_it/theorems/14e2630e87af69b9e0a6893a8f8a8fa89d8b1f4a0/expr.ipynb\"><img src=\"data:image/png;base64,iVBORw0KGgoAAAANSUhEUgAAADMAAAAPBAMAAAC7N+rPAAAAMFBMVEX///8QEBBmZmaqqqrMzMxE\n",
       "REQyMjIiIiKYmJh2dna6urrc3NxUVFSIiIju7u4AAAA6P00QAAAAAXRSTlMAQObYZgAAANZJREFU\n",
       "GNNjYMAEy+XFEsskGLCBqyoMbAwBWKU0GRgmcy5AEeIILy8D0XoM3AecUGRYYh/AmKwP4kDU2zu7\n",
       "bl4AMZ7BZRh6ORqAJN8Ejlr2BBD/NFyGL+ApiOJ8wPmPawOIhXATjwNYGR8DK0SMRSwNCMDMRVwT\n",
       "IGr4wTYxcCN0JbCCTAMy/B0gAgIwGU6DWQwMjAwMzA/uM/CC3aYLk9rDfYCBQZGBYb1BPMMOsAi7\n",
       "AVQqjvUBw5tWBoY3d99qNECcfHQdmOYSTQwN/BiEEhxcUyEBBQUAa7sxwOkLdCEAAAAASUVORK5C\n",
       "YII=\n",
       "\" style=\"display:inline;vertical-align:middle;\" /></a>, <a class=\"ProveItLink\" href=\"../__pv_it/theorems/a848422fb3c9b8244aa1ea3d3536c98438e106ac0/expr.ipynb\"><img src=\"data:image/png;base64,iVBORw0KGgoAAAANSUhEUgAAADIAAAASBAMAAADrvZC0AAAAMFBMVEX///8iIiKYmJhUVFTMzMxE\n",
       "REQyMjKqqqq6urp2dnYQEBDc3NxmZmaIiIju7u4AAACH5sGpAAAAAXRSTlMAQObYZgAAAOhJREFU\n",
       "GNNjYMAAHFK/0hZmKWBKMPDGODAksGKRYOCZwMBZMANZhClQUAws84BhM8sBJAmW2AdwdhwrkM13\n",
       "5wLDLpDYM4QE0wUlIMnJsYDhPohrjdD+lC8ASG7nSWAIBXEDEDImzBuA5AOuCwx/QdYsSwMCiIcO\n",
       "dILp/gcsX4AUN0IPG0j/PAaGYwy8C0D8BXCZ6ZwNYG4wA6sBiH8WJsFtsBnoKaDMYYZ+cBgxFkBl\n",
       "WB/EMfAZAQ18fPc8yCUMfKZ9EJmusKWh65eCA+EYNIynQkIHBpgT+H4wYAWMCqwXsMtw3D2CXQIA\n",
       "CSg4nSezvQQAAAAASUVORK5CYII=\n",
       "\" style=\"display:inline;vertical-align:middle;\" /></a>, <a class=\"ProveItLink\" href=\"../__pv_it/demonstrations/fc72b9a970c7f1b499bd005454705b4f4f6305060/expr.ipynb\"><img src=\"data:image/png;base64,iVBORw0KGgoAAAANSUhEUgAAAC4AAAAZBAMAAAC86AERAAAAMFBMVEX///8QEBBmZmaqqqrMzMxE\n",
       "REQyMjIiIiKYmJh2dna6urrc3NxUVFSIiIju7u4AAAA6P00QAAAAAXRSTlMAQObYZgAAAPVJREFU\n",
       "KM9jYICASUEPGOAAweHcwJMAF0bisG9g+Q0XR+KwL+D+hRBH5jD/Y2B5gMSBK7rAwLkAiQN3AwOS\n",
       "+CS4MIcCkjiIAwUrGZYgxEEcCGBJNo6Di4M5EMD4//8HuDiYw/D2zq6bEOuB4m91GbjlwBy+CRy1\n",
       "7Akw8QkLGXg/QDgPOP9xbYCKcxuoMbAGQNTDGCBxPgZZBn6Yn+AMoDlc/xj8HaBcOAMozpTAcBEa\n",
       "RA/uM/A+gImzHmCIgYivN4hn2IFQf4DrB4Tz5u5bjQa4ON/ZS4j4YUCYzwCyAYv4MYb3C7CJVzDE\n",
       "MmATX3vJAVOcF0kMAIwVTubEFr1fAAAAAElFTkSuQmCC\n",
       "\" style=\"display:inline;vertical-align:middle;\" /></a> <a class=\"ProveItLink\" href=\"../__pv_it/demonstrations/e66925fe03101ef5d03fcd2cbccddeb8e99787ce0/proof.ipynb\" style=\"text-decoration: none\">&nbsp;&#x22A2;&nbsp;&nbsp;</a><a class=\"ProveItLink\" href=\"../__pv_it/axioms/5056af04341463ce593648c224a69724791882d20/expr.ipynb\"><img src=\"data:image/png;base64,iVBORw0KGgoAAAANSUhEUgAAAB0AAAAVBAMAAABI7vhRAAAAMFBMVEX///8QEBBmZmaqqqrMzMxE\n",
       "REQyMjIiIiKYmJh2dna6urrc3NxUVFSIiIju7u4AAAA6P00QAAAAAXRSTlMAQObYZgAAAKFJREFU\n",
       "GNNjYIAAPwZUMItm/Ld3dt28AOTzXbrAsPEBA98Ejlr2BCCfk0uA4T4DA+cDzn9cG4D8zUwJDKEM\n",
       "DHwMrAFg/Q8YLzD8BRnAfwFi3voHLF9AfH8HCF+NgVeAgYH5wX0G3gcgfgwD6wGgKoN4hh1geR2G\n",
       "9Q0MDG/uvtVoAPPf3NXfgOo+NWT38iTw/ULmszewXkDmc91VQfLfFSgNAG1HMw+xhLGTAAAAAElF\n",
       "TkSuQmCC\n",
       "\" style=\"display:inline;vertical-align:middle;\" /></a></span>"
      ],
      "text/plain": [
       "{x in Integer, y in Integer, x^{2} | y^{2}} |- x | y"
      ]
     },
     "execution_count": 56,
     "metadata": {},
     "output_type": "execute_result"
    }
   ],
   "source": [
    "Divides(x, y).prove(\n",
    "    assumptions=[Divides(Exp(x, two), Exp(y,two)), InSet(x, Integer), InSet(y, Integer)])"
   ]
  },
  {
   "cell_type": "code",
   "execution_count": 57,
   "metadata": {},
   "outputs": [
    {
     "data": {
      "text/html": [
       "<span style=\"font-size:20px;\"><a class=\"ProveItLink\" href=\"../__pv_it/demonstrations/5b6a55398cfdd24db8608980a8faad90304afa6c0/expr.ipynb\"><img src=\"data:image/png;base64,iVBORw0KGgoAAAANSUhEUgAAAG8AAAAVBAMAAAC6Uq30AAAAMFBMVEX///9UVFTMzMx2dna6uroQ\n",
       "EBCqqqqIiIgiIiJmZmYyMjJERETu7u6YmJjc3NwAAAC+aOQFAAAAAXRSTlMAQObYZgAAAfZJREFU\n",
       "OMt9lD1M20AUx/9JHOLETsjI1CCxViISlVAmGNmcASRGxnapDB0QCxhVarc20Cl8CAsxQ2BFTZ2h\n",
       "SoEBVhiqDIBYiiqKBEJR3bt38SU+mT7JJ989/c7/92XgeXuJ/1ruLOKwr8WWV/T6K8L9li8nwNH6\n",
       "gep6EYBmDWb1cDDsjfF7d2HmMTaugMcBmGmhgcR92Gu6QLaCtIdkWQETdgc8BzaAKcU9CugtJB3E\n",
       "/ioes9wBPwHTQKEVdn8HbpiaNmJ3apA7Asw5wJ6HghJkZhwL9KK35Vlz9vId01kSYKpCh5+9QMmC\n",
       "jSsPiQq+0t4qSo3F7EedxX4hQIOKpf2RsWtlLLHMuPhA+2ViyOMl2hqL6LUA9RkSlOcr/+p12sUh\n",
       "q7ODSX6UJkGnLtFGjW+GBZikOlXp3icOJ208APHfAuwESvei31bBTqAky/LidwRyqX0V3HYzNkwZ\n",
       "nOiR+gY5WY41pFilNIeSMwQsyi71lpDyQsmJF5GS4D6MPCWHpT33fmTFCRzWzDfq6y8CZHnHzUhp\n",
       "QOpZgcXuShe5pIzv+xJszDc3eQm2BajxBvD9R3T9W+zrmUHeclFmOt2WU2yNPT+oyaOst8lDA+Wa\n",
       "96LJUY8E5VgZYUX6mWGLseKDHGH1nkHuNW1+Nbgt8teR5Z65Z38dP4F/AraCkwlKcqQAAAAASUVO\n",
       "RK5CYII=\n",
       "\" style=\"display:inline;vertical-align:middle;\" /></a> <a class=\"ProveItLink\" href=\"../__pv_it/demonstrations/cf2b3bf65b5cfb6eebb50522b3a1a92b580de2410/proof.ipynb\" style=\"text-decoration: none\">&nbsp;&#x22A2;&nbsp;&nbsp;</a><a class=\"ProveItLink\" href=\"../__pv_it/demonstrations/5b6a55398cfdd24db8608980a8faad90304afa6c0/expr.ipynb\"><img src=\"data:image/png;base64,iVBORw0KGgoAAAANSUhEUgAAAG8AAAAVBAMAAAC6Uq30AAAAMFBMVEX///9UVFTMzMx2dna6uroQ\n",
       "EBCqqqqIiIgiIiJmZmYyMjJERETu7u6YmJjc3NwAAAC+aOQFAAAAAXRSTlMAQObYZgAAAfZJREFU\n",
       "OMt9lD1M20AUx/9JHOLETsjI1CCxViISlVAmGNmcASRGxnapDB0QCxhVarc20Cl8CAsxQ2BFTZ2h\n",
       "SoEBVhiqDIBYiiqKBEJR3bt38SU+mT7JJ989/c7/92XgeXuJ/1ruLOKwr8WWV/T6K8L9li8nwNH6\n",
       "gep6EYBmDWb1cDDsjfF7d2HmMTaugMcBmGmhgcR92Gu6QLaCtIdkWQETdgc8BzaAKcU9CugtJB3E\n",
       "/ioes9wBPwHTQKEVdn8HbpiaNmJ3apA7Asw5wJ6HghJkZhwL9KK35Vlz9vId01kSYKpCh5+9QMmC\n",
       "jSsPiQq+0t4qSo3F7EedxX4hQIOKpf2RsWtlLLHMuPhA+2ViyOMl2hqL6LUA9RkSlOcr/+p12sUh\n",
       "q7ODSX6UJkGnLtFGjW+GBZikOlXp3icOJ208APHfAuwESvei31bBTqAky/LidwRyqX0V3HYzNkwZ\n",
       "nOiR+gY5WY41pFilNIeSMwQsyi71lpDyQsmJF5GS4D6MPCWHpT33fmTFCRzWzDfq6y8CZHnHzUhp\n",
       "QOpZgcXuShe5pIzv+xJszDc3eQm2BajxBvD9R3T9W+zrmUHeclFmOt2WU2yNPT+oyaOst8lDA+Wa\n",
       "96LJUY8E5VgZYUX6mWGLseKDHGH1nkHuNW1+Nbgt8teR5Z65Z38dP4F/AraCkwlKcqQAAAAASUVO\n",
       "RK5CYII=\n",
       "\" style=\"display:inline;vertical-align:middle;\" /></a></span>"
      ],
      "text/plain": [
       "{(2 * x) | (2 * y)} |- (2 * x) | (2 * y)"
      ]
     },
     "execution_count": 57,
     "metadata": {},
     "output_type": "execute_result"
    }
   ],
   "source": [
    "Divides(Mult(two, x), Mult(two, y)).prove(assumptions=[Divides(Mult(two, x), Mult(two, y))])"
   ]
  },
  {
   "cell_type": "code",
   "execution_count": 58,
   "metadata": {},
   "outputs": [
    {
     "data": {
      "text/html": [
       "<span style=\"font-size:20px;\"><a class=\"ProveItLink\" href=\"../__pv_it/demonstrations/c3f1d31f2084556b92f54c9cfee3069ff784f3c60/expr.ipynb\"><img src=\"data:image/png;base64,iVBORw0KGgoAAAANSUhEUgAAAB0AAAAVBAMAAABI7vhRAAAAMFBMVEX///8QEBBmZmaqqqrMzMxE\n",
       "REQyMjIiIiKYmJh2dna6urrc3NxUVFSIiIju7u4AAAA6P00QAAAAAXRSTlMAQObYZgAAAIxJREFU\n",
       "GNNjYIAAPwZUMItm/Ld3dt28AOJza+rKMTDwTeCoZU8A8RduYPvAwMD5gPMf1wYgn0+CgSkAKM/A\n",
       "GgDWz/SPgf0CyAD+C2A+YwDDewcQ398BzH8/gcEeyGB+cJ+B9wGIb8BwjHkDw3qDeIYdIHnWCxw1\n",
       "nAwMb+6+1WgA8fnOXtlzi2r+uwKlAV6ZLlcwScOvAAAAAElFTkSuQmCC\n",
       "\" style=\"display:inline;vertical-align:middle;\" /></a>, <a class=\"ProveItLink\" href=\"../__pv_it/demonstrations/2dffe02ac2561100d94de9a1a0b6dc4e321f2c800/expr.ipynb\"><img src=\"data:image/png;base64,iVBORw0KGgoAAAANSUhEUgAAABwAAAAVBAMAAACnLJNvAAAAMFBMVEX///9UVFSqqqrMzMwiIiJE\n",
       "RESYmJgyMjK6urru7u4QEBCIiIh2dnZmZmbc3NwAAABRgo0vAAAAAXRSTlMAQObYZgAAAKNJREFU\n",
       "GNNjYAAD5gkMyICngQZcvju3V4K4s28z8K1kYOh6wP4BxD3QxcD9gYFzGQNvAJDLp3CdgTWAgfcn\n",
       "A8sGIJeTYTUD/wYGrgCG+QYgxRw/GewNGOYfYNAHm8xbwLCLgWG+AoM40wMgl1WAIZCBgXUDmyMP\n",
       "WFaA4xsDA6f05oc7QFxO6b3/UFwF1I3gijPMb0DiujFEI3uhe68BnMsNZQIANUorwY/Nxz4AAAAA\n",
       "SUVORK5CYII=\n",
       "\" style=\"display:inline;vertical-align:middle;\" /></a> <a class=\"ProveItLink\" href=\"../__pv_it/demonstrations/76f0917218a4c472d7c27313aad7cede40a9f3e70/proof.ipynb\" style=\"text-decoration: none\">&nbsp;&#x22A2;&nbsp;&nbsp;</a><a class=\"ProveItLink\" href=\"../__pv_it/axioms/5056af04341463ce593648c224a69724791882d20/expr.ipynb\"><img src=\"data:image/png;base64,iVBORw0KGgoAAAANSUhEUgAAAB0AAAAVBAMAAABI7vhRAAAAMFBMVEX///8QEBBmZmaqqqrMzMxE\n",
       "REQyMjIiIiKYmJh2dna6urrc3NxUVFSIiIju7u4AAAA6P00QAAAAAXRSTlMAQObYZgAAAKFJREFU\n",
       "GNNjYIAAPwZUMItm/Ld3dt28AOTzXbrAsPEBA98Ejlr2BCCfk0uA4T4DA+cDzn9cG4D8zUwJDKEM\n",
       "DHwMrAFg/Q8YLzD8BRnAfwFi3voHLF9AfH8HCF+NgVeAgYH5wX0G3gcgfgwD6wGgKoN4hh1geR2G\n",
       "9Q0MDG/uvtVoAPPf3NXfgOo+NWT38iTw/ULmszewXkDmc91VQfLfFSgNAG1HMw+xhLGTAAAAAElF\n",
       "TkSuQmCC\n",
       "\" style=\"display:inline;vertical-align:middle;\" /></a></span>"
      ],
      "text/plain": [
       "{x | a, a | y} |- x | y"
      ]
     },
     "execution_count": 58,
     "metadata": {},
     "output_type": "execute_result"
    }
   ],
   "source": [
    "Divides(x, y).prove()"
   ]
  },
  {
   "cell_type": "code",
   "execution_count": 59,
   "metadata": {},
   "outputs": [],
   "source": [
    "# Divides(x, y).prove(\n",
    "#     assumptions=[Divides(Mult(two, x), Mult(two, y)), InSet(x, Integer), InSet(y, Integer)])"
   ]
  },
  {
   "cell_type": "markdown",
   "metadata": {},
   "source": [
    "### GCD"
   ]
  },
  {
   "cell_type": "code",
   "execution_count": 60,
   "metadata": {},
   "outputs": [
    {
     "data": {
      "text/html": [
       "<a class=\"ProveItLink\" href=\"../__pv_it/theorems/3cb99b7d982ed6b0a808a1559ac6eee81dc060ff0/expr.ipynb\"><img src=\"data:image/png;base64,iVBORw0KGgoAAAANSUhEUgAAAE0AAAAUBAMAAAA6pq28AAAAMFBMVEX///8yMjK6urpUVFQiIiKY\n",
       "mJjMzMwQEBDu7u7c3Nx2dnZERESIiIhmZmaqqqoAAAA6bD3aAAAAAXRSTlMAQObYZgAAAaRJREFU\n",
       "KM+Fkj9LW1EYh59Ek5x7TxLzBQqCgwiCOgrSRlx0KRnsUFDwI7g4uRxQEFwSKMWtZGihQ8GIg4MI\n",
       "F4cQypVGBIcONaMiYhCUKG3wPTcGzb1CD9w7/N7nnPf3/oHI+RxRLsJCcq+OqkS4vlJYGWgQi4io\n",
       "XFgZMyxGnfAjLHyFuVe4jbDwBif/ChcblN+VfwmuX8X5XW2Trosff3K0k0odeWwZXBHdivMP5z07\n",
       "DJd0C12ATea96YBz48v8goQUcm1o01/mrVohk6O/Ad/ZNiMB90WUfciKmVWSLc4MZFoWT4kVY2PB\n",
       "MSmPv9LXJslb0nmBIVWhOBhw2Fi3Ucm7gEvco+vqQaRimWuCvNhY5xyTXoZ4nmzTDuFWPBQbTGRL\n",
       "to7zdJNah9tFjwd1qHveGU5Qp9pLzLi2BfG2bjoFinZaJ4zJxUwZhn7KENxvC6ip6qdDm0JN1Y4+\n",
       "iINZ4db8M5l3bMm+fdDT++e5nT85hHWxjLrp4Z73QJL15YKoDGfb6HoPp7t7pTzJXdBeZ6+GFv6E\n",
       "lq27pwn54v7py6v/2fuP8Aj8nW8530hiVgAAAABJRU5ErkJggg==\n",
       "\" style=\"display:inline;vertical-align:middle;\" /></a>"
      ],
      "text/plain": [
       "gcd(x, y)"
      ]
     },
     "execution_count": 60,
     "metadata": {},
     "output_type": "execute_result"
    }
   ],
   "source": [
    "GCD(x, y)"
   ]
  },
  {
   "cell_type": "code",
   "execution_count": 61,
   "metadata": {},
   "outputs": [
    {
     "data": {
      "text/html": [
       "<a class=\"ProveItLink\" href=\"../../../__pv_it/common/4abfcdcaafe6ad83c2ed27be2700d58c6f9aaa1b0/expr.ipynb\"><img src=\"data:image/png;base64,iVBORw0KGgoAAAANSUhEUgAAACwAAAAUBAMAAAAEg8LyAAAAMFBMVEX////MzMxUVFR2dna6uroQ\n",
       "EBCqqqqIiIgiIiJmZmYyMjJERETu7u6YmJjc3NwAAACgK8IjAAAAAXRSTlMAQObYZgAAAP9JREFU\n",
       "GNNjYOC7wIAG2B4AidMMGEAPiNdhCp9iYOCdgCnMXMDA8QBTmCeA4QUDFrCEoRJIHi96UlwA5h+f\n",
       "zsAXw8BgybAXqMeAt51jAVjYwJWB/QMDwy2GNqANB5j/sICt4EuYxcC9gYEhgyEEqBrMBNvFEM7A\n",
       "DzROHiTMAGaCAcsfBnkBkHAbiAdiggHnAoZSIOUBspLtQD0D+wGwMLcCwyYGkJWWDAz+CfsZ3jLw\n",
       "/AKpVmD5C6QmA9UzHCo/PhcYjB1ADTzqlf+AwguRPM92AGo6A08DUlAxA7EWw3kHcFAx7IMJHwfi\n",
       "XobtkIBFRAMoltwrQU4FqcSMNN4HDAD7TDyPVbLVsgAAAABJRU5ErkJggg==\n",
       "\" style=\"display:inline;vertical-align:middle;\" /></a>"
      ],
      "text/plain": [
       "(x, y)"
      ]
     },
     "execution_count": 61,
     "metadata": {},
     "output_type": "execute_result"
    }
   ],
   "source": [
    "GCD(x, y).operands"
   ]
  },
  {
   "cell_type": "markdown",
   "metadata": {},
   "source": [
    "### GCD.deduce_relatively_prime()"
   ]
  },
  {
   "cell_type": "code",
   "execution_count": 62,
   "metadata": {},
   "outputs": [
    {
     "name": "stdout",
     "output_type": "stream",
     "text": [
      "Exception! Proof step failed assuming {x | a, a | y}:\n",
      "Attempting to instantiate |- forall_{a, b in NaturalPos | gcd(a, b) = 1} [forall_{p in NaturalPos | p > 1} not((p | a) and (p | b))] with {a: x, b: y}:\n",
      "Unsatisfied condition: x in NaturalPos\n"
     ]
    }
   ],
   "source": [
    "try:\n",
    "    GCD(x, y).deduce_relatively_prime()\n",
    "except Exception as e:\n",
    "    print(\"Exception! {0}\".format(e))"
   ]
  },
  {
   "cell_type": "code",
   "execution_count": 63,
   "metadata": {},
   "outputs": [
    {
     "data": {
      "text/html": [
       "<span style=\"font-size:20px;\"><a class=\"ProveItLink\" href=\"../__pv_it/demonstrations/7ba39d1db3a1d8a06d4664f61cd5f4eb58bf186b0/expr.ipynb\"><img src=\"data:image/png;base64,iVBORw0KGgoAAAANSUhEUgAAAEAAAAAUBAMAAADPWCYMAAAAMFBMVEX///8QEBBmZmaqqqrMzMxE\n",
       "REQyMjIiIiKYmJh2dna6urrc3NxUVFSIiIju7u4AAAA6P00QAAAAAXRSTlMAQObYZgAAAORJREFU\n",
       "KM9jYKAIHCCkIIBGCvjyQ/MYOOWlcJvA2uDDwPCegSctTSwtA5sCnhLeCwyMWKxoLS9PACtY+uAI\n",
       "AzumAtd7MBO2HHj2AKHg7Z1dNy+A3JYHt2KDLcsBuAK+CRy17AlgYYQCzgW9cAWcDzj/cYHkWBGO\n",
       "3MBwjscdxAKJ8zGwQpzimAYECVAFbxgSEY7jvwCmtiKbwDLBEaHA3wFMMSIrYGiG28j84D4D7wMg\n",
       "g+kCXAFQByfcwPUG8Qw7wKximBCbAZBQg/He3H2r0QBhRT0A0yz1okDyGZY4WBkOCWoUAAA8Izw6\n",
       "xpnQqgAAAABJRU5ErkJggg==\n",
       "\" style=\"display:inline;vertical-align:middle;\" /></a>, <a class=\"ProveItLink\" href=\"../__pv_it/demonstrations/b3cf06f367e6080bec9087ca21e5ebf1d43278920/expr.ipynb\"><img src=\"data:image/png;base64,iVBORw0KGgoAAAANSUhEUgAAAD8AAAAXBAMAAABOjoq3AAAAMFBMVEX///8iIiKYmJhUVFTMzMxE\n",
       "REQyMjKqqqq6urp2dnYQEBDc3NxmZmaIiIju7u4AAACH5sGpAAAAAXRSTlMAQObYZgAAAPtJREFU\n",
       "KM9jYKAEMBNSwEorBc++hj1gmPWrAbcJQSwGDHwfGMzSstLSFLApMHS4y8CwAIsVqoKCCSDaIo7Z\n",
       "gUEAU4HrPSjD2pkvD6GA784Fhl0PQIw8mEpr9gvOCAWcHAsY7oODbQNcAcMMpgtwBdt5EhhCUT1t\n",
       "zcD8wASkgBvEe8B1geEviOGVBgQJEAV8BmwL4Or7H7B8AdFbkUxg8GRBKDjGwAvmcCErYCoIgHOD\n",
       "GVgNQDTPBZiICRDPRig4zNAPCU9xmEg6SHkCXMHju+chHnwc8QBMO/4C6uZLQArCY1C6M1AwAUuy\n",
       "SuD7gTdRMCqwXsCrgOPuEbzyACGtOa+21ReYAAAAAElFTkSuQmCC\n",
       "\" style=\"display:inline;vertical-align:middle;\" /></a>, <a class=\"ProveItLink\" href=\"../__pv_it/theorems/e6d83826d32db1fef485901d6f964c40451996be0/expr.ipynb\"><img src=\"data:image/png;base64,iVBORw0KGgoAAAANSUhEUgAAAHQAAAAUBAMAAACuQAROAAAAMFBMVEX///8yMjK6urpUVFQiIiKY\n",
       "mJjMzMwQEBDu7u7c3Nx2dnZERESIiIhmZmaqqqoAAAA6bD3aAAAAAXRSTlMAQObYZgAAAdNJREFU\n",
       "OMuNlMFLAkEUxj8tdXZnNaOzIHSIIKhOEURtdKlLeKhDUNCf4CUIugwUBF0UIrqFUUGHIKNDhwiW\n",
       "DhKxkiF16FAejYgsMDRKmlkzc3eiHojr5/ebefPmvQUcseZQ7vF3eI8yIEmH3BT/B9uSg8vpI0GH\n",
       "FJi3K90MM5IV9+zC4lbJLm0DYxJ02aF4HGgIii5BXWE5+mg+AKqZgnKTqkDL8LOZ/V3VHEnawDqD\n",
       "mpGialL5gDKOA3TEaQk0Aqxgwhi2HKo7igtutOq02SoiVEefGCpoTmCQzMEfRHMO2MU+67QcG1w5\n",
       "5vXUpbsuwFvCHQP8JbGCjx+LCbsVzGfgnd93QYZ6i9B0zgO+JGJhC4Ww127L+/ob6imDZsgb/xVL\n",
       "4AlWwhD2alxCiwJuvX7Wtm80UBAtVOQPsRx6A3FRprxWwFkVPQTtqZXJvispY4ghC3JNDc+IKu7B\n",
       "XaEFJYKY8GfRzdfyJ+yoJsrUfs5bSN2ZBhlIrZ6K3MjAWXqSpz4qOs684z3tmrWR/r7nK/F90qDW\n",
       "GzH/dVpgST5nIC8NQr39eZZNQevfPSm6z2hjl9Ha0BGDJx2hhnToRLRP39qGszbqHv5xm9c/V/sr\n",
       "nC+YKanvEzOqf+xh8/lGAAAAAElFTkSuQmCC\n",
       "\" style=\"display:inline;vertical-align:middle;\" /></a> <a class=\"ProveItLink\" href=\"../__pv_it/demonstrations/903deaadbc79a70d9f6ecc9eb3dd74e1463d74800/proof.ipynb\" style=\"text-decoration: none\">&nbsp;&#x22A2;&nbsp;&nbsp;</a><a class=\"ProveItLink\" href=\"../__pv_it/demonstrations/dd70b49513fe95d601dae306d24592f69b92d9fb0/expr.ipynb\"><img src=\"data:image/png;base64,iVBORw0KGgoAAAANSUhEUgAAAQwAAAAYBAMAAAD9kt6ZAAAAMFBMVEX///8QEBCIiIhmZma6urrM\n",
       "zMxUVFQiIiJERETc3Nzu7u6qqqp2dnaYmJgyMjIAAAAcRTyBAAAAAXRSTlMAQObYZgAAA+FJREFU\n",
       "SMfFlktoE0EYx78m2U12s0l7sB4EYUmwBy8Giu9qS0VEEbJ6sD4OBh/4OOUmPtB4UBNEWA8+ULSr\n",
       "BZVSbKSHoogEFZQKGl+oBzVYFfRUfFFbEOebmd3ZzaPV4mPgT2aHfDu//eY/3wzAn26SNd4/1v7J\n",
       "6ZSi6+EMF2laGx+7WiviNn8Om0IlHHg5AYxLrr6aYfJgyGaNCBsDtgndw+ePE8D44OpHTSYPhlri\n",
       "HbMswsG4LHQSs5X5fYpIwvXwmMuDATf572BZhIOh6Y6ixFFa/vcxgu6U7+TyYpzjnj1keSMcDLXB\n",
       "UWSgu/vEBNbEHaOkmcowoqwnt+veCAcD3goNZ7N7KmfRxsOIu/q+BNPy3Momi2CosW3tZEW0BHdA\n",
       "2o4I3D0W204w1LgOR0mOboGjzQC5yln842EccfVDRabClryWIRg98EzfS8zAPHqPbQOM0OTdcJdg\n",
       "aIEGmEGGXgktEpaugsHyKlV6eDf5zw5sBbLqeSol/x4iQwRjAB5YS0k9YFlIw1k74nQ0Ba8Jxml/\n",
       "CbJkqF8oCD53IepoafNNFhh0fqmZL/wy8b9Jti9SAHVtVCqMgjZCMCw6B0hDdIPoIBs8wqrPE8Lb\n",
       "YNXp8IkMrRfSikHHudebi+HMAMzTmmc3zxcYEGAYq1NjYkBgBEIN1KKfBEbQAillRyQt2I8WTVrS\n",
       "Vy+GUlplv/r51W4IP/JDoSwbHON4zrsoDgZfFNDS0JtADDoHj+qzCxdG3AH1M2IsBB/ZqLDEpdwm\n",
       "krkFjzZDAJ0dXrdGr47RdQCL1Msmw2NRxLAtGk3AQ9wp13xDMN226AeOQiMGITIFMQ5CKOW1KPSR\n",
       "OSJJowOi9LwxBp5WxejBDQ5PvkpsgW7ZaTHYzkTVZ6RGUjcCo6EhPMb8BdvdQYtHDMMKAzFmQRIN\n",
       "2eJSPakup5qgE7oYhoZvrMCQptJvP59S6IrTPNoNKVHJ9rhJMNQN0+N4WEYxbzJaxaeziMCX2Fxa\n",
       "vi7EWrGmvnMpgqgb4Ap0ZLNZPWwoRfJGqSIb9+nelfVwQ81ifsdbRS/SUDtlGKGlnSq6ELdEWoi1\n",
       "RtgIMssGLNbFBAJDnYPvqjPkRM2jbbD60SYOw2iCYcgl9Yv3aONG+y7tAg3nibRBpFCOQQuRspUk\n",
       "oNPs4Lcr97YJmSh1tPpBb7cc9OYZRrAY0r0HPb8IvYmTtx/GFSROTJVhKLO/YZRy0IQbsXk1rz39\n",
       "P3Q3Rqji2hPe94ZhBGIz7S/Jub+Imhp8xBtloZ4qLuWop8e+BPoMPvai1iVwmr1KphC/PdS6cWQq\n",
       "j5K/2Fq3/xqG/5sF/6Ml/s00PwG4vB6kXWLy8AAAAABJRU5ErkJggg==\n",
       "\" style=\"display:inline;vertical-align:middle;\" /></a></span>"
      ],
      "text/plain": [
       "{x in NaturalPos, y in NaturalPos, gcd(x, y) = 1} |- forall_{p in NaturalPos | 1 < p} not((p | x) and (p | y))"
      ]
     },
     "execution_count": 63,
     "metadata": {},
     "output_type": "execute_result"
    }
   ],
   "source": [
    "GCD(x, y).deduce_relatively_prime(\n",
    "    assumptions=[Equals(GCD(x,y), one), InSet(x, NaturalPos), InSet(y, NaturalPos)])"
   ]
  },
  {
   "cell_type": "code",
   "execution_count": 64,
   "metadata": {},
   "outputs": [
    {
     "data": {
      "text/html": [
       "<a class=\"ProveItLink\" href=\"../__pv_it/demonstrations/edbcbc917d0d4ded75b634f8dd6c41a04efbc0c40/expr.ipynb\"><img src=\"data:image/png;base64,iVBORw0KGgoAAAANSUhEUgAAABcAAAAUBAMAAACUkLs9AAAAMFBMVEX///9UVFTMzMx2dna6uroQ\n",
       "EBCqqqqIiIgiIiJmZmYyMjJERETu7u6YmJjc3NwAAAC+aOQFAAAAAXRSTlMAQObYZgAAALlJREFU\n",
       "GNM1jz0KwkAUhD+TYGKMwdIuOULAQtJZegAFr2Bjb5fK1rQBi5xADyBKLATBxhPIlikFLezi/ujA\n",
       "Lm/YebMzEN7RWKrrBkFxiGkJSXZwxn4TlNDLYQszGIEnX+cQCS5QS+W+Iorxx6yM16bCzjnq2XnJ\n",
       "7ZK1Jl4f2hlTTQp5rKchbm6Ili0IBU6mDawEVyiDVJJ6mA6gkzBRnzbNB/xYxzG4mqAGMiin36wq\n",
       "qHIaXaX/137AF0UgKwmsJ1HvAAAAAElFTkSuQmCC\n",
       "\" style=\"display:inline;vertical-align:middle;\" /></a>"
      ],
      "text/plain": [
       "(2)"
      ]
     },
     "execution_count": 64,
     "metadata": {},
     "output_type": "execute_result"
    }
   ],
   "source": [
    "mult0 = Mult(two, x)\n",
    "mult1 = Mult(y, two)\n",
    "operands_intersection = set(mult0.operands).intersection(set(mult1.operands))\n",
    "operands_intersection"
   ]
  },
  {
   "cell_type": "code",
   "execution_count": 65,
   "metadata": {},
   "outputs": [
    {
     "data": {
      "text/plain": [
       "False"
      ]
     },
     "execution_count": 65,
     "metadata": {},
     "output_type": "execute_result"
    }
   ],
   "source": [
    "x = 'a'\n",
    "y = 2\n",
    "z = \"Hello!\"\n",
    "z is x"
   ]
  },
  {
   "cell_type": "code",
   "execution_count": 66,
   "metadata": {},
   "outputs": [],
   "source": [
    "%end demonstrations"
   ]
  }
 ],
 "metadata": {
  "kernelspec": {
   "display_name": "Python 3",
   "language": "python",
   "name": "python3"
  }
 },
 "nbformat": 4,
 "nbformat_minor": 0
}