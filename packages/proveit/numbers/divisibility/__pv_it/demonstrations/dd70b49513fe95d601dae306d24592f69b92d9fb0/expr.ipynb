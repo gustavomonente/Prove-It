{
 "cells": [
  {
   "cell_type": "markdown",
   "metadata": {},
   "source": [
    "Expression of type <a class=\"ProveItLink\" href=\"../../../../../../../doc/html/api/proveit.logic.Forall.html\">Forall</a>\n",
    "=======================\n",
    "# from the theory of <a class=\"ProveItLink\" href=\"../../../_theory_nbs_/theory.ipynb\">proveit.numbers.divisibility</a>"
   ]
  },
  {
   "cell_type": "code",
   "execution_count": 1,
   "metadata": {},
   "outputs": [],
   "source": [
    "import proveit\n",
    "# Automation is not needed when building an expression:\n",
    "proveit.defaults.automation = False # This will speed things up.\n",
    "proveit.defaults.inline_pngs = False # Makes files smaller.\n",
    "%load_expr # Load the stored expression as 'stored_expr'\n",
    "# import Expression classes needed to build the expression\n",
    "from proveit import p, x, y\n",
    "from proveit.logic import And, Forall, Not\n",
    "from proveit.numbers import Divides, Less, NaturalPos, one"
   ]
  },
  {
   "cell_type": "code",
   "execution_count": 2,
   "metadata": {},
   "outputs": [
    {
     "data": {
      "text/html": [
       "<strong id=\"expr\">expr:</strong> <a class=\"ProveItLink\" href=\"expr.ipynb\"><img src=\"expr.png\" style=\"display:inline;vertical-align:middle;\" /></a><br>"
      ],
      "text/plain": [
       "expr: forall_{p in NaturalPos | 1 < p} not((p | x) and (p | y))"
      ]
     },
     "execution_count": 2,
     "metadata": {},
     "output_type": "execute_result"
    }
   ],
   "source": [
    "# build up the expression from sub-expressions\n",
    "expr = Forall([p], Not(And(Divides(p, x), Divides(p, y))), domains = [NaturalPos], condition = Less(one, p))"
   ]
  },
  {
   "cell_type": "code",
   "execution_count": 3,
   "metadata": {},
   "outputs": [
    {
     "name": "stdout",
     "output_type": "stream",
     "text": [
      "Passed sanity check: expr matches stored_expr\n"
     ]
    }
   ],
   "source": [
    "# check that the built expression is the same as the stored expression\n",
    "assert expr == stored_expr\n",
    "assert expr._style_id == stored_expr._style_id\n",
    "print(\"Passed sanity check: expr matches stored_expr\")"
   ]
  },
  {
   "cell_type": "code",
   "execution_count": 4,
   "metadata": {},
   "outputs": [
    {
     "name": "stdout",
     "output_type": "stream",
     "text": [
      "\\forall_{p \\in \\mathbb{N}^+~|~1 < p}~(\\lnot \\left(\\left(p \\rvert x\\right) \\land \\left(p \\rvert y\\right)\\right))\n"
     ]
    }
   ],
   "source": [
    "# Show the LaTeX representation of the expression for convenience if you need it.\n",
    "print(expr.latex())"
   ]
  },
  {
   "cell_type": "code",
   "execution_count": 5,
   "metadata": {},
   "outputs": [
    {
     "data": {
      "text/html": [
       "<table>\n",
       "<tr><th>name</th><th>description</th><th>default</th><th>current value</th><th>related methods</th></tr><tr><td>with_wrapping</td><td>If 'True', wrap the Expression after the parameters</td><td>None</td><td>None/False</td><td>('with_wrapping',)</td></tr>\n",
       "<tr><td>wrap_params</td><td>If 'True', wraps every two parameters AND wraps the Expression after the parameters</td><td>None</td><td>None/False</td><td>('with_params',)</td></tr>\n",
       "<tr><td>justification</td><td>justify to the 'left', 'center', or 'right' in the array cells</td><td>center</td><td>center</td><td>('with_justification',)</td></tr>\n",
       "</table>\n"
      ],
      "text/plain": [
       "style name: with_wrapping\n",
       "description: If 'True', wrap the Expression after the parameters\n",
       "default: None\n",
       "current value: None/False\n",
       "related methods: ('with_wrapping',)\n",
       "style name: wrap_params\n",
       "description: If 'True', wraps every two parameters AND wraps the Expression after the parameters\n",
       "default: None\n",
       "current value: None/False\n",
       "related methods: ('with_params',)\n",
       "style name: justification\n",
       "description: justify to the 'left', 'center', or 'right' in the array cells\n",
       "default: center\n",
       "current value: center\n",
       "related methods: ('with_justification',)"
      ]
     },
     "execution_count": 5,
     "metadata": {},
     "output_type": "execute_result"
    }
   ],
   "source": [
    "expr.style_options()"
   ]
  },
  {
   "cell_type": "code",
   "execution_count": 6,
   "metadata": {},
   "outputs": [
    {
     "data": {
      "text/html": [
       "<table><tr><th>&nbsp;</th><th>core type</th><th>sub-expressions</th><th>expression</th></tr>\n",
       "<tr><td>0</td><td>Operation</td><td>operator:&nbsp;1<br>operand:&nbsp;3<br></td><td><a class=\"ProveItLink\" href=\"expr.ipynb\"><img src=\"expr.png\" style=\"display:inline;vertical-align:middle;\" /></a></td></tr>\n",
       "<tr><td>1</td><td>Literal</td><td></td><td><a class=\"ProveItLink\" href=\"../../../../../logic/booleans/quantification/universality/__pv_it/common/684d35ba98fcbf8ca5011f865e530a51e77730630/expr.ipynb\"><img src=\"../../../../../logic/booleans/quantification/universality/__pv_it/common/684d35ba98fcbf8ca5011f865e530a51e77730630/expr.png\" style=\"display:inline;vertical-align:middle;\" /></a></td></tr>\n",
       "<tr><td>2</td><td>ExprTuple</td><td>3</td><td><a class=\"ProveItLink\" href=\"../dc0f08bfbd7c64b384da2f1e590be4cb523e96e50/expr.ipynb\"><img src=\"../dc0f08bfbd7c64b384da2f1e590be4cb523e96e50/expr.png\" style=\"display:inline;vertical-align:middle;\" /></a></td></tr>\n",
       "<tr><td>3</td><td>Lambda</td><td>parameter:&nbsp;27<br>body:&nbsp;4<br></td><td><a class=\"ProveItLink\" href=\"../3b21a0629766cbd742405db4e5f21a57fae792a00/expr.ipynb\"><img src=\"../3b21a0629766cbd742405db4e5f21a57fae792a00/expr.png\" style=\"display:inline;vertical-align:middle;\" /></a></td></tr>\n",
       "<tr><td>4</td><td>Conditional</td><td>value:&nbsp;5<br>condition:&nbsp;6<br></td><td><a class=\"ProveItLink\" href=\"../ced8b4af452a54db00748b93b4fca4d6a7a49cf10/expr.ipynb\"><img src=\"../ced8b4af452a54db00748b93b4fca4d6a7a49cf10/expr.png\" style=\"display:inline;vertical-align:middle;\" /></a></td></tr>\n",
       "<tr><td>5</td><td>Operation</td><td>operator:&nbsp;7<br>operand:&nbsp;10<br></td><td><a class=\"ProveItLink\" href=\"../f58aabaf06f7a8d9c0f9d33aad3d3802ea81f45c0/expr.ipynb\"><img src=\"../f58aabaf06f7a8d9c0f9d33aad3d3802ea81f45c0/expr.png\" style=\"display:inline;vertical-align:middle;\" /></a></td></tr>\n",
       "<tr><td>6</td><td>Operation</td><td>operator:&nbsp;13<br>operands:&nbsp;9<br></td><td><a class=\"ProveItLink\" href=\"../dd0bdf163b3869510d102951c389c2274e64742f0/expr.ipynb\"><img src=\"../dd0bdf163b3869510d102951c389c2274e64742f0/expr.png\" style=\"display:inline;vertical-align:middle;\" /></a></td></tr>\n",
       "<tr><td>7</td><td>Literal</td><td></td><td><a class=\"ProveItLink\" href=\"../../../../../logic/booleans/negation/__pv_it/common/44cff78c6737753417865a5233f827322c0f04ad0/expr.ipynb\"><img src=\"../../../../../logic/booleans/negation/__pv_it/common/44cff78c6737753417865a5233f827322c0f04ad0/expr.png\" style=\"display:inline;vertical-align:middle;\" /></a></td></tr>\n",
       "<tr><td>8</td><td>ExprTuple</td><td>10</td><td><a class=\"ProveItLink\" href=\"../365c831c1dbdc570e4702a6027d2a924926ad7600/expr.ipynb\"><img src=\"../365c831c1dbdc570e4702a6027d2a924926ad7600/expr.png\" style=\"display:inline;vertical-align:middle;\" /></a></td></tr>\n",
       "<tr><td>9</td><td>ExprTuple</td><td>11, 12</td><td><a class=\"ProveItLink\" href=\"../775299f0b235024d90b4ebd6038ac3f40415e59a0/expr.ipynb\"><img src=\"../775299f0b235024d90b4ebd6038ac3f40415e59a0/expr.png\" style=\"display:inline;vertical-align:middle;\" /></a></td></tr>\n",
       "<tr><td>10</td><td>Operation</td><td>operator:&nbsp;13<br>operands:&nbsp;14<br></td><td><a class=\"ProveItLink\" href=\"../05e46e1efc0ad2f47d8a7e50d2d5678560ab4b5f0/expr.ipynb\"><img src=\"../05e46e1efc0ad2f47d8a7e50d2d5678560ab4b5f0/expr.png\" style=\"display:inline;vertical-align:middle;\" /></a></td></tr>\n",
       "<tr><td>11</td><td>Operation</td><td>operator:&nbsp;15<br>operands:&nbsp;16<br></td><td><a class=\"ProveItLink\" href=\"../../theorems/ac8401cd2b998d94cdd73904159c529c44bc0a9f0/expr.ipynb\"><img src=\"../../theorems/ac8401cd2b998d94cdd73904159c529c44bc0a9f0/expr.png\" style=\"display:inline;vertical-align:middle;\" /></a></td></tr>\n",
       "<tr><td>12</td><td>Operation</td><td>operator:&nbsp;17<br>operands:&nbsp;18<br></td><td><a class=\"ProveItLink\" href=\"../7b4bc1a3e43c6a48f81746e3d12aba22d6a3ab1a0/expr.ipynb\"><img src=\"../7b4bc1a3e43c6a48f81746e3d12aba22d6a3ab1a0/expr.png\" style=\"display:inline;vertical-align:middle;\" /></a></td></tr>\n",
       "<tr><td>13</td><td>Literal</td><td></td><td><a class=\"ProveItLink\" href=\"../../../../../logic/booleans/conjunction/__pv_it/common/26b94b53e70b1d77b70f0d9d4236347db37731060/expr.ipynb\"><img src=\"../../../../../logic/booleans/conjunction/__pv_it/common/26b94b53e70b1d77b70f0d9d4236347db37731060/expr.png\" style=\"display:inline;vertical-align:middle;\" /></a></td></tr>\n",
       "<tr><td>14</td><td>ExprTuple</td><td>19, 20</td><td><a class=\"ProveItLink\" href=\"../7c6849b9f2ea2ac48897e738a837c423ebc8fee70/expr.ipynb\"><img src=\"../7c6849b9f2ea2ac48897e738a837c423ebc8fee70/expr.png\" style=\"display:inline;vertical-align:middle;\" /></a></td></tr>\n",
       "<tr><td>15</td><td>Literal</td><td></td><td><a class=\"ProveItLink\" href=\"../../../../../logic/sets/membership/__pv_it/common/7171deca84f71f47a6ec7696972d1632274a12880/expr.ipynb\"><img src=\"../../../../../logic/sets/membership/__pv_it/common/7171deca84f71f47a6ec7696972d1632274a12880/expr.png\" style=\"display:inline;vertical-align:middle;\" /></a></td></tr>\n",
       "<tr><td>16</td><td>ExprTuple</td><td>27, 21</td><td><a class=\"ProveItLink\" href=\"../../theorems/19c33c90beabc12631684774afcb760a327c6bbd0/expr.ipynb\"><img src=\"../../theorems/19c33c90beabc12631684774afcb760a327c6bbd0/expr.png\" style=\"display:inline;vertical-align:middle;\" /></a></td></tr>\n",
       "<tr><td>17</td><td>Literal</td><td></td><td><a class=\"ProveItLink\" href=\"../../../../ordering/__pv_it/common/28edf56075f82c850836d8cd79dbcacf62e589820/expr.ipynb\"><img src=\"../../../../ordering/__pv_it/common/28edf56075f82c850836d8cd79dbcacf62e589820/expr.png\" style=\"display:inline;vertical-align:middle;\" /></a></td></tr>\n",
       "<tr><td>18</td><td>ExprTuple</td><td>22, 27</td><td><a class=\"ProveItLink\" href=\"../../theorems/2acbbc08e271ada7eeb6eb83e02d763f4b12c87a0/expr.ipynb\"><img src=\"../../theorems/2acbbc08e271ada7eeb6eb83e02d763f4b12c87a0/expr.png\" style=\"display:inline;vertical-align:middle;\" /></a></td></tr>\n",
       "<tr><td>19</td><td>Operation</td><td>operator:&nbsp;24<br>operands:&nbsp;23<br></td><td><a class=\"ProveItLink\" href=\"../9a4895395102ee32acffc067930bb5296cdd5b3f0/expr.ipynb\"><img src=\"../9a4895395102ee32acffc067930bb5296cdd5b3f0/expr.png\" style=\"display:inline;vertical-align:middle;\" /></a></td></tr>\n",
       "<tr><td>20</td><td>Operation</td><td>operator:&nbsp;24<br>operands:&nbsp;25<br></td><td><a class=\"ProveItLink\" href=\"../e886623ee813b3a5c23b5272b85adbc106b9a77b0/expr.ipynb\"><img src=\"../e886623ee813b3a5c23b5272b85adbc106b9a77b0/expr.png\" style=\"display:inline;vertical-align:middle;\" /></a></td></tr>\n",
       "<tr><td>21</td><td>Literal</td><td></td><td><a class=\"ProveItLink\" href=\"../../../../number_sets/natural_numbers/__pv_it/common/a2a7252783c385c028dad802e97575c19e456b990/expr.ipynb\"><img src=\"../../../../number_sets/natural_numbers/__pv_it/common/a2a7252783c385c028dad802e97575c19e456b990/expr.png\" style=\"display:inline;vertical-align:middle;\" /></a></td></tr>\n",
       "<tr><td>22</td><td>Literal</td><td></td><td><a class=\"ProveItLink\" href=\"../../../../numerals/__pv_it/common/d278e359da0695d9652dd541d45264f93703e2e40/expr.ipynb\"><img src=\"../../../../numerals/__pv_it/common/d278e359da0695d9652dd541d45264f93703e2e40/expr.png\" style=\"display:inline;vertical-align:middle;\" /></a></td></tr>\n",
       "<tr><td>23</td><td>ExprTuple</td><td>27, 26</td><td><a class=\"ProveItLink\" href=\"../57d146602e159c43f57338c9abfbc182df6eeeb20/expr.ipynb\"><img src=\"../57d146602e159c43f57338c9abfbc182df6eeeb20/expr.png\" style=\"display:inline;vertical-align:middle;\" /></a></td></tr>\n",
       "<tr><td>24</td><td>Literal</td><td></td><td><a class=\"ProveItLink\" href=\"../../common/3c37786c454f6a891321d0cf7d9b57e8a788eef80/expr.ipynb\"><img src=\"../../common/3c37786c454f6a891321d0cf7d9b57e8a788eef80/expr.png\" style=\"display:inline;vertical-align:middle;\" /></a></td></tr>\n",
       "<tr><td>25</td><td>ExprTuple</td><td>27, 28</td><td><a class=\"ProveItLink\" href=\"../33420c29cb006d5e74fab039e916a1d909e75b720/expr.ipynb\"><img src=\"../33420c29cb006d5e74fab039e916a1d909e75b720/expr.png\" style=\"display:inline;vertical-align:middle;\" /></a></td></tr>\n",
       "<tr><td>26</td><td>Variable</td><td></td><td><a class=\"ProveItLink\" href=\"../../../../../__pv_it/common/a2581dc5df71d9a30bad37de14965fa5fec97a240/expr.ipynb\"><img src=\"../../../../../__pv_it/common/a2581dc5df71d9a30bad37de14965fa5fec97a240/expr.png\" style=\"display:inline;vertical-align:middle;\" /></a></td></tr>\n",
       "<tr><td>27</td><td>Variable</td><td></td><td><a class=\"ProveItLink\" href=\"../../../../../__pv_it/common/2caa425a622fdcc34ba2e9c3992fa95a228fc7f10/expr.ipynb\"><img src=\"../../../../../__pv_it/common/2caa425a622fdcc34ba2e9c3992fa95a228fc7f10/expr.png\" style=\"display:inline;vertical-align:middle;\" /></a></td></tr>\n",
       "<tr><td>28</td><td>Variable</td><td></td><td><a class=\"ProveItLink\" href=\"../../../../../__pv_it/common/0f21cbfd5644a1cae6781c1d58354abc2ffbc9000/expr.ipynb\"><img src=\"../../../../../__pv_it/common/0f21cbfd5644a1cae6781c1d58354abc2ffbc9000/expr.png\" style=\"display:inline;vertical-align:middle;\" /></a></td></tr>\n",
       "</table>\n"
      ],
      "text/plain": [
       "0. forall_{p in NaturalPos | 1 < p} not((p | x) and (p | y))\n",
       "   core type: Operation\n",
       "   operator: 1\n",
       "   operand: 3\n",
       "1. forall\n",
       "   core type: Literal\n",
       "   sub-expressions: \n",
       "2. (p -> {not((p | x) and (p | y)) if p in NaturalPos ,  1 < p.)\n",
       "   core type: ExprTuple\n",
       "   sub-expressions: 3\n",
       "3. p -> {not((p | x) and (p | y)) if p in NaturalPos ,  1 < p.\n",
       "   core type: Lambda\n",
       "   parameter: 27\n",
       "   body: 4\n",
       "4. {not((p | x) and (p | y)) if p in NaturalPos ,  1 < p.\n",
       "   core type: Conditional\n",
       "   value: 5\n",
       "   condition: 6\n",
       "5. not((p | x) and (p | y))\n",
       "   core type: Operation\n",
       "   operator: 7\n",
       "   operand: 10\n",
       "6. (p in NaturalPos) and (1 < p)\n",
       "   core type: Operation\n",
       "   operator: 13\n",
       "   operands: 9\n",
       "7. not\n",
       "   core type: Literal\n",
       "   sub-expressions: \n",
       "8. ((p | x) and (p | y))\n",
       "   core type: ExprTuple\n",
       "   sub-expressions: 10\n",
       "9. (p in NaturalPos, 1 < p)\n",
       "   core type: ExprTuple\n",
       "   sub-expressions: 11, 12\n",
       "10. (p | x) and (p | y)\n",
       "    core type: Operation\n",
       "    operator: 13\n",
       "    operands: 14\n",
       "11. p in NaturalPos\n",
       "    core type: Operation\n",
       "    operator: 15\n",
       "    operands: 16\n",
       "12. 1 < p\n",
       "    core type: Operation\n",
       "    operator: 17\n",
       "    operands: 18\n",
       "13. and\n",
       "    core type: Literal\n",
       "    sub-expressions: \n",
       "14. (p | x, p | y)\n",
       "    core type: ExprTuple\n",
       "    sub-expressions: 19, 20\n",
       "15. in\n",
       "    core type: Literal\n",
       "    sub-expressions: \n",
       "16. (p, NaturalPos)\n",
       "    core type: ExprTuple\n",
       "    sub-expressions: 27, 21\n",
       "17. <\n",
       "    core type: Literal\n",
       "    sub-expressions: \n",
       "18. (1, p)\n",
       "    core type: ExprTuple\n",
       "    sub-expressions: 22, 27\n",
       "19. p | x\n",
       "    core type: Operation\n",
       "    operator: 24\n",
       "    operands: 23\n",
       "20. p | y\n",
       "    core type: Operation\n",
       "    operator: 24\n",
       "    operands: 25\n",
       "21. NaturalPos\n",
       "    core type: Literal\n",
       "    sub-expressions: \n",
       "22. 1\n",
       "    core type: Literal\n",
       "    sub-expressions: \n",
       "23. (p, x)\n",
       "    core type: ExprTuple\n",
       "    sub-expressions: 27, 26\n",
       "24. |\n",
       "    core type: Literal\n",
       "    sub-expressions: \n",
       "25. (p, y)\n",
       "    core type: ExprTuple\n",
       "    sub-expressions: 27, 28\n",
       "26. x\n",
       "    core type: Variable\n",
       "    sub-expressions: \n",
       "27. p\n",
       "    core type: Variable\n",
       "    sub-expressions: \n",
       "28. y\n",
       "    core type: Variable\n",
       "    sub-expressions: "
      ]
     },
     "execution_count": 6,
     "metadata": {},
     "output_type": "execute_result"
    }
   ],
   "source": [
    "# display the expression information\n",
    "expr.expr_info()"
   ]
  },
  {
   "cell_type": "code",
   "execution_count": null,
   "metadata": {},
   "outputs": [],
   "source": []
  }
 ],
 "metadata": {
  "kernelspec": {
   "display_name": "Python 3",
   "language": "python",
   "name": "python3"
  }
 },
 "nbformat": 4,
 "nbformat_minor": 0
}