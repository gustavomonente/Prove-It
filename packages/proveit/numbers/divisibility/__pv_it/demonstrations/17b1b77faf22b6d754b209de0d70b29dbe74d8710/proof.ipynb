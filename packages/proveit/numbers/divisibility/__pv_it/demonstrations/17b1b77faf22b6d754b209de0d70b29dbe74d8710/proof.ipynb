{
 "cells": [
  {
   "cell_type": "markdown",
   "metadata": {},
   "source": [
    "Show the Proof\n",
    "========"
   ]
  },
  {
   "cell_type": "code",
   "execution_count": 1,
   "metadata": {},
   "outputs": [
    {
     "data": {
      "text/html": [
       "<table><tr><th>&nbsp;</th><th>step type</th><th>requirements</th><th>statement</th></tr>\n",
       "<tr><td><a name=\"proveit.numbers.divisibility.demonstrations.17b1b77faf22b6d754b209de0d70b29dbe74d8710_step0\">0</a></td><td>instantiation</td><td><a href=\"#proveit.numbers.divisibility.demonstrations.17b1b77faf22b6d754b209de0d70b29dbe74d8710_step1\">1</a>, <a href=\"#proveit.numbers.divisibility.demonstrations.17b1b77faf22b6d754b209de0d70b29dbe74d8710_step2\">2</a>, <a href=\"#proveit.numbers.divisibility.demonstrations.17b1b77faf22b6d754b209de0d70b29dbe74d8710_step3\">3</a>, <a href=\"#proveit.numbers.divisibility.demonstrations.17b1b77faf22b6d754b209de0d70b29dbe74d8710_step4\">4</a></td><td><span style=\"font-size:20px;\"><a class=\"ProveItLink\" href=\"../6e7da8879a5b85a867ab9b85903a9dc5e4630bc10/expr.ipynb\"><img src=\"../6e7da8879a5b85a867ab9b85903a9dc5e4630bc10/expr.png\" style=\"display:inline;vertical-align:middle;\" /></a>, <a class=\"ProveItLink\" href=\"../cefaff1a6482acb986d144f32c2aa3de8376ef970/expr.ipynb\"><img src=\"../cefaff1a6482acb986d144f32c2aa3de8376ef970/expr.png\" style=\"display:inline;vertical-align:middle;\" /></a>, <a class=\"ProveItLink\" href=\"../../theorems/49b3c9c148adb618bea069dda6b8cb81ded957720/expr.ipynb\"><img src=\"../../theorems/49b3c9c148adb618bea069dda6b8cb81ded957720/expr.png\" style=\"display:inline;vertical-align:middle;\" /></a> <a class=\"ProveItLink\" href=\"proof.ipynb\" style=\"text-decoration: none\">&nbsp;&#x22A2;&nbsp;&nbsp;</a><a class=\"ProveItLink\" href=\"../b06a0c23266fa6e972bc21f7c9a3ee387483010d0/expr.ipynb\"><img src=\"../b06a0c23266fa6e972bc21f7c9a3ee387483010d0/expr.png\" style=\"display:inline;vertical-align:middle;\" /></a></span></td></tr>\n",
       "<tr><td>&nbsp;</td><td colspan=4 style=\"text-align:left\"><span style=\"font-size:20px;\"><a class=\"ProveItLink\" href=\"../../../../../__pv_it/common/c06c606ec12678c58933ac85412ecadc2ae28be60/expr.ipynb\"><img src=\"../../../../../__pv_it/common/c06c606ec12678c58933ac85412ecadc2ae28be60/expr.png\" style=\"display:inline;vertical-align:middle;\" /></a> : <a class=\"ProveItLink\" href=\"../../../../../__pv_it/common/a0d9d672aa5e272d907247690c152cc2c6daafb70/expr.ipynb\"><img src=\"../../../../../__pv_it/common/a0d9d672aa5e272d907247690c152cc2c6daafb70/expr.png\" style=\"display:inline;vertical-align:middle;\" /></a>, <a class=\"ProveItLink\" href=\"../../../../../__pv_it/common/195236b98c6c564a75b5dbada74b173bc52d5c3e0/expr.ipynb\"><img src=\"../../../../../__pv_it/common/195236b98c6c564a75b5dbada74b173bc52d5c3e0/expr.png\" style=\"display:inline;vertical-align:middle;\" /></a> : <a class=\"ProveItLink\" href=\"../../../../../__pv_it/common/ff7dba4ef0bbe791ab573bf2d9c220a304399ac80/expr.ipynb\"><img src=\"../../../../../__pv_it/common/ff7dba4ef0bbe791ab573bf2d9c220a304399ac80/expr.png\" style=\"display:inline;vertical-align:middle;\" /></a></span></td></tr><tr><td><a name=\"proveit.numbers.divisibility.demonstrations.17b1b77faf22b6d754b209de0d70b29dbe74d8710_step1\">1</a></td><td>theorem</td><td></td><td><span style=\"font-size:20px;\"> <a class=\"ProveItLink\" href=\"../../../_theory_nbs_/proofs/GCD_one_def/thm_proof.ipynb\" style=\"text-decoration: none\">&nbsp;&#x22A2;&nbsp;&nbsp;</a><a class=\"ProveItLink\" href=\"../../theorems/ded144720e13d5f3418d0955add2f3b91709e4800/expr.ipynb\"><img src=\"../../theorems/ded144720e13d5f3418d0955add2f3b91709e4800/expr.png\" style=\"display:inline;vertical-align:middle;\" /></a></span></td></tr>\n",
       "<tr><td>&nbsp;</td><td colspan=4 style-\"text-align:left\"><a class=\"ProveItLink\" href=\"../../../_theory_nbs_/proofs/GCD_one_def/thm_proof.ipynb\">proveit.numbers.divisibility.GCD_one_def</a></td></tr><tr><td><a name=\"proveit.numbers.divisibility.demonstrations.17b1b77faf22b6d754b209de0d70b29dbe74d8710_step2\">2</a></td><td>assumption</td><td></td><td><span style=\"font-size:20px;\"><a class=\"ProveItLink\" href=\"../6e7da8879a5b85a867ab9b85903a9dc5e4630bc10/expr.ipynb\"><img src=\"../6e7da8879a5b85a867ab9b85903a9dc5e4630bc10/expr.png\" style=\"display:inline;vertical-align:middle;\" /></a> <a class=\"ProveItLink\" href=\"../d0696a5fddcfad50f2b51f8c3a74d1d4ddaa06420/proof.ipynb\" style=\"text-decoration: none\">&nbsp;&#x22A2;&nbsp;&nbsp;</a><a class=\"ProveItLink\" href=\"../6e7da8879a5b85a867ab9b85903a9dc5e4630bc10/expr.ipynb\"><img src=\"../6e7da8879a5b85a867ab9b85903a9dc5e4630bc10/expr.png\" style=\"display:inline;vertical-align:middle;\" /></a></span></td></tr>\n",
       "<tr><td><a name=\"proveit.numbers.divisibility.demonstrations.17b1b77faf22b6d754b209de0d70b29dbe74d8710_step3\">3</a></td><td>assumption</td><td></td><td><span style=\"font-size:20px;\"><a class=\"ProveItLink\" href=\"../cefaff1a6482acb986d144f32c2aa3de8376ef970/expr.ipynb\"><img src=\"../cefaff1a6482acb986d144f32c2aa3de8376ef970/expr.png\" style=\"display:inline;vertical-align:middle;\" /></a> <a class=\"ProveItLink\" href=\"../c1684d443f7830d740e598da1bbf6cd377621c5b0/proof.ipynb\" style=\"text-decoration: none\">&nbsp;&#x22A2;&nbsp;&nbsp;</a><a class=\"ProveItLink\" href=\"../cefaff1a6482acb986d144f32c2aa3de8376ef970/expr.ipynb\"><img src=\"../cefaff1a6482acb986d144f32c2aa3de8376ef970/expr.png\" style=\"display:inline;vertical-align:middle;\" /></a></span></td></tr>\n",
       "<tr><td><a name=\"proveit.numbers.divisibility.demonstrations.17b1b77faf22b6d754b209de0d70b29dbe74d8710_step4\">4</a></td><td>assumption</td><td></td><td><span style=\"font-size:20px;\"><a class=\"ProveItLink\" href=\"../../theorems/49b3c9c148adb618bea069dda6b8cb81ded957720/expr.ipynb\"><img src=\"../../theorems/49b3c9c148adb618bea069dda6b8cb81ded957720/expr.png\" style=\"display:inline;vertical-align:middle;\" /></a> <a class=\"ProveItLink\" href=\"../2bb644b55f27db48c02412d25fa86bbe5f2f85340/proof.ipynb\" style=\"text-decoration: none\">&nbsp;&#x22A2;&nbsp;&nbsp;</a><a class=\"ProveItLink\" href=\"../../theorems/49b3c9c148adb618bea069dda6b8cb81ded957720/expr.ipynb\"><img src=\"../../theorems/49b3c9c148adb618bea069dda6b8cb81ded957720/expr.png\" style=\"display:inline;vertical-align:middle;\" /></a></span></td></tr>\n",
       "</table>"
      ],
      "text/plain": [
       "<proveit._core_.proof._ShowProof at 0x7f37f6c36a90>"
      ]
     },
     "execution_count": 1,
     "metadata": {},
     "output_type": "execute_result"
    }
   ],
   "source": [
    "import proveit\n",
    "# Automation is not needed when only showing a stored proof:\n",
    "proveit.defaults.automation = False # This will speed things up.\n",
    "proveit.defaults.inline_pngs = False # Makes files smaller.\n",
    "%show_proof"
   ]
  },
  {
   "cell_type": "code",
   "execution_count": null,
   "metadata": {},
   "outputs": [],
   "source": []
  }
 ],
 "metadata": {
  "kernelspec": {
   "display_name": "Python 3",
   "language": "python",
   "name": "python3"
  }
 },
 "nbformat": 4,
 "nbformat_minor": 0
}