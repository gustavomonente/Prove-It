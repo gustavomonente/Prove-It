{
 "cells": [
  {
   "cell_type": "markdown",
   "metadata": {},
   "source": [
    "Show the Proof\n",
    "========"
   ]
  },
  {
   "cell_type": "code",
   "execution_count": 1,
   "metadata": {},
   "outputs": [
    {
     "data": {
      "text/html": [
       "<table><tr><th>&nbsp;</th><th>step type</th><th>requirements</th><th>statement</th></tr>\n",
       "<tr><td><a name=\"proveit.numbers.divisibility.demonstrations.903deaadbc79a70d9f6ecc9eb3dd74e1463d74800_step0\">0</a></td><td>instantiation</td><td><a href=\"#proveit.numbers.divisibility.demonstrations.903deaadbc79a70d9f6ecc9eb3dd74e1463d74800_step1\">1</a>, <a href=\"#proveit.numbers.divisibility.demonstrations.903deaadbc79a70d9f6ecc9eb3dd74e1463d74800_step2\">2</a>, <a href=\"#proveit.numbers.divisibility.demonstrations.903deaadbc79a70d9f6ecc9eb3dd74e1463d74800_step3\">3</a>, <a href=\"#proveit.numbers.divisibility.demonstrations.903deaadbc79a70d9f6ecc9eb3dd74e1463d74800_step4\">4</a></td><td><span style=\"font-size:20px;\"><a class=\"ProveItLink\" href=\"../7ba39d1db3a1d8a06d4664f61cd5f4eb58bf186b0/expr.ipynb\"><img src=\"../7ba39d1db3a1d8a06d4664f61cd5f4eb58bf186b0/expr.png\" style=\"display:inline;vertical-align:middle;\" /></a>, <a class=\"ProveItLink\" href=\"../b3cf06f367e6080bec9087ca21e5ebf1d43278920/expr.ipynb\"><img src=\"../b3cf06f367e6080bec9087ca21e5ebf1d43278920/expr.png\" style=\"display:inline;vertical-align:middle;\" /></a>, <a class=\"ProveItLink\" href=\"../../theorems/e6d83826d32db1fef485901d6f964c40451996be0/expr.ipynb\"><img src=\"../../theorems/e6d83826d32db1fef485901d6f964c40451996be0/expr.png\" style=\"display:inline;vertical-align:middle;\" /></a> <a class=\"ProveItLink\" href=\"proof.ipynb\" style=\"text-decoration: none\">&nbsp;&#x22A2;&nbsp;&nbsp;</a><a class=\"ProveItLink\" href=\"../dd70b49513fe95d601dae306d24592f69b92d9fb0/expr.ipynb\"><img src=\"../dd70b49513fe95d601dae306d24592f69b92d9fb0/expr.png\" style=\"display:inline;vertical-align:middle;\" /></a></span></td></tr>\n",
       "<tr><td>&nbsp;</td><td colspan=4 style=\"text-align:left\"><span style=\"font-size:20px;\"><a class=\"ProveItLink\" href=\"../../../../../__pv_it/common/66c90e66682f107a881f2d666959f64e2e72ad750/expr.ipynb\"><img src=\"../../../../../__pv_it/common/66c90e66682f107a881f2d666959f64e2e72ad750/expr.png\" style=\"display:inline;vertical-align:middle;\" /></a> : <a class=\"ProveItLink\" href=\"../../../../../__pv_it/common/a2581dc5df71d9a30bad37de14965fa5fec97a240/expr.ipynb\"><img src=\"../../../../../__pv_it/common/a2581dc5df71d9a30bad37de14965fa5fec97a240/expr.png\" style=\"display:inline;vertical-align:middle;\" /></a>, <a class=\"ProveItLink\" href=\"../../../../../__pv_it/common/4a5db8cc5c67969ec864bd3ea598be37cb6f5e550/expr.ipynb\"><img src=\"../../../../../__pv_it/common/4a5db8cc5c67969ec864bd3ea598be37cb6f5e550/expr.png\" style=\"display:inline;vertical-align:middle;\" /></a> : <a class=\"ProveItLink\" href=\"../../../../../__pv_it/common/0f21cbfd5644a1cae6781c1d58354abc2ffbc9000/expr.ipynb\"><img src=\"../../../../../__pv_it/common/0f21cbfd5644a1cae6781c1d58354abc2ffbc9000/expr.png\" style=\"display:inline;vertical-align:middle;\" /></a></span></td></tr><tr><td><a name=\"proveit.numbers.divisibility.demonstrations.903deaadbc79a70d9f6ecc9eb3dd74e1463d74800_step1\">1</a></td><td>theorem</td><td></td><td><span style=\"font-size:20px;\"> <a class=\"ProveItLink\" href=\"../../../_theory_nbs_/proofs/GCD_one_def/thm_proof.ipynb\" style=\"text-decoration: none\">&nbsp;&#x22A2;&nbsp;&nbsp;</a><a class=\"ProveItLink\" href=\"../../theorems/3b27607e5c20e07d89f107cfa97e87195b45e6db0/expr.ipynb\"><img src=\"../../theorems/3b27607e5c20e07d89f107cfa97e87195b45e6db0/expr.png\" style=\"display:inline;vertical-align:middle;\" /></a></span></td></tr>\n",
       "<tr><td>&nbsp;</td><td colspan=4 style-\"text-align:left\"><a class=\"ProveItLink\" href=\"../../../_theory_nbs_/proofs/GCD_one_def/thm_proof.ipynb\">proveit.numbers.divisibility.GCD_one_def</a></td></tr><tr><td><a name=\"proveit.numbers.divisibility.demonstrations.903deaadbc79a70d9f6ecc9eb3dd74e1463d74800_step2\">2</a></td><td>assumption</td><td></td><td><span style=\"font-size:20px;\"><a class=\"ProveItLink\" href=\"../7ba39d1db3a1d8a06d4664f61cd5f4eb58bf186b0/expr.ipynb\"><img src=\"../7ba39d1db3a1d8a06d4664f61cd5f4eb58bf186b0/expr.png\" style=\"display:inline;vertical-align:middle;\" /></a> <a class=\"ProveItLink\" href=\"../04cdc5c6af31b096e83ae061413f7bd20b6b5fa30/proof.ipynb\" style=\"text-decoration: none\">&nbsp;&#x22A2;&nbsp;&nbsp;</a><a class=\"ProveItLink\" href=\"../7ba39d1db3a1d8a06d4664f61cd5f4eb58bf186b0/expr.ipynb\"><img src=\"../7ba39d1db3a1d8a06d4664f61cd5f4eb58bf186b0/expr.png\" style=\"display:inline;vertical-align:middle;\" /></a></span></td></tr>\n",
       "<tr><td><a name=\"proveit.numbers.divisibility.demonstrations.903deaadbc79a70d9f6ecc9eb3dd74e1463d74800_step3\">3</a></td><td>assumption</td><td></td><td><span style=\"font-size:20px;\"><a class=\"ProveItLink\" href=\"../b3cf06f367e6080bec9087ca21e5ebf1d43278920/expr.ipynb\"><img src=\"../b3cf06f367e6080bec9087ca21e5ebf1d43278920/expr.png\" style=\"display:inline;vertical-align:middle;\" /></a> <a class=\"ProveItLink\" href=\"../f1a660a3323c3536be32f91a324dd4efcba1e78a0/proof.ipynb\" style=\"text-decoration: none\">&nbsp;&#x22A2;&nbsp;&nbsp;</a><a class=\"ProveItLink\" href=\"../b3cf06f367e6080bec9087ca21e5ebf1d43278920/expr.ipynb\"><img src=\"../b3cf06f367e6080bec9087ca21e5ebf1d43278920/expr.png\" style=\"display:inline;vertical-align:middle;\" /></a></span></td></tr>\n",
       "<tr><td><a name=\"proveit.numbers.divisibility.demonstrations.903deaadbc79a70d9f6ecc9eb3dd74e1463d74800_step4\">4</a></td><td>assumption</td><td></td><td><span style=\"font-size:20px;\"><a class=\"ProveItLink\" href=\"../../theorems/e6d83826d32db1fef485901d6f964c40451996be0/expr.ipynb\"><img src=\"../../theorems/e6d83826d32db1fef485901d6f964c40451996be0/expr.png\" style=\"display:inline;vertical-align:middle;\" /></a> <a class=\"ProveItLink\" href=\"../33802bdf25e666687a677b90d6580f2f69ede6a30/proof.ipynb\" style=\"text-decoration: none\">&nbsp;&#x22A2;&nbsp;&nbsp;</a><a class=\"ProveItLink\" href=\"../../theorems/e6d83826d32db1fef485901d6f964c40451996be0/expr.ipynb\"><img src=\"../../theorems/e6d83826d32db1fef485901d6f964c40451996be0/expr.png\" style=\"display:inline;vertical-align:middle;\" /></a></span></td></tr>\n",
       "</table>"
      ],
      "text/plain": [
       "<proveit._core_.proof._ShowProof at 0x7f8694222278>"
      ]
     },
     "execution_count": 1,
     "metadata": {},
     "output_type": "execute_result"
    }
   ],
   "source": [
    "import proveit\n",
    "# Automation is not needed when only showing a stored proof:\n",
    "proveit.defaults.automation = False # This will speed things up.\n",
    "proveit.defaults.inline_pngs = False # Makes files smaller.\n",
    "%show_proof"
   ]
  },
  {
   "cell_type": "code",
   "execution_count": null,
   "metadata": {},
   "outputs": [],
   "source": []
  }
 ],
 "metadata": {
  "kernelspec": {
   "display_name": "Python 3",
   "language": "python",
   "name": "python3"
  },
  "language_info": {
   "codemirror_mode": {
    "name": "ipython",
    "version": 3
   },
   "file_extension": ".py",
   "mimetype": "text/x-python",
   "name": "python",
   "nbconvert_exporter": "python",
   "pygments_lexer": "ipython3",
   "version": "3.7.3"
  }
 },
 "nbformat": 4,
 "nbformat_minor": 1
}