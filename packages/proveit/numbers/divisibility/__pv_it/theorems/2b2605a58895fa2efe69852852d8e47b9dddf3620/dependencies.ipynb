{
 "cells": [
  {
   "cell_type": "markdown",
   "metadata": {},
   "source": [
    "Theorem Dependencies\n",
    "=======================\n",
    "\n",
    "## <a class=\"ProveItLink\" href=\"../../../_theory_nbs_/theory.ipynb\">proveit.numbers.divisibility</a>.<a class=\"ProveItLink\" href=\"../../../_theorems_.ipynb#non_zero_divides_zero\">non_zero_divides_zero</a> \n",
    "***see <a class=\"ProveItLink\" href=\"../../../_theory_nbs_/proofs/non_zero_divides_zero/thm_proof.ipynb\">proof</a>***"
   ]
  },
  {
   "cell_type": "code",
   "execution_count": 1,
   "metadata": {},
   "outputs": [],
   "source": [
    "import proveit\n",
    "# Automation is not needed when querying dependencies:\n",
    "proveit.defaults.automation = False # This will speed things up.\n",
    "proveit.defaults.inline_pngs = False # Makes files smaller.\n",
    "from proveit.numbers.divisibility import non_zero_divides_zero"
   ]
  },
  {
   "cell_type": "code",
   "execution_count": 2,
   "metadata": {},
   "outputs": [
    {
     "data": {
      "text/html": [
       "<h3>Unproven conjectures required (directly or indirectly) to prove non_zero_divides_zero</h3>"
      ],
      "text/plain": [
       "<IPython.core.display.HTML object>"
      ]
     },
     "metadata": {},
     "output_type": "display_data"
    },
    {
     "data": {
      "text/html": [
       "<dl>"
      ],
      "text/plain": [
       "<IPython.core.display.HTML object>"
      ]
     },
     "metadata": {},
     "output_type": "display_data"
    },
    {
     "data": {
      "text/html": [
       "<dt><a class=\"ProveItLink\" href=\"../../../../division/_theory_nbs_/proofs/frac_zero_numer/thm_proof.ipynb\">proveit.numbers.division.frac_zero_numer</a></dt><dd><a class=\"ProveItLink\" href=\"../../../../division/__pv_it/theorems/598aca81d2ac08428354401c2d0b6cc8f08e1c260/expr.ipynb\"><img src=\"../../../../division/__pv_it/theorems/598aca81d2ac08428354401c2d0b6cc8f08e1c260/expr.png\" style=\"display:inline;vertical-align:middle;\" /></a></dd>"
      ],
      "text/plain": [
       "<IPython.core.display.HTML object>"
      ]
     },
     "metadata": {},
     "output_type": "display_data"
    },
    {
     "data": {
      "text/html": [
       "<dt><a class=\"ProveItLink\" href=\"../../../../number_sets/integers/_theory_nbs_/proofs/nat_within_int/thm_proof.ipynb\">proveit.numbers.number_sets.integers.nat_within_int</a></dt><dd><a class=\"ProveItLink\" href=\"../../../../number_sets/integers/__pv_it/theorems/dd89a0f842c9f2861f516e9a182b2db243ae58e90/expr.ipynb\"><img src=\"../../../../number_sets/integers/__pv_it/theorems/dd89a0f842c9f2861f516e9a182b2db243ae58e90/expr.png\" style=\"display:inline;vertical-align:middle;\" /></a></dd>"
      ],
      "text/plain": [
       "<IPython.core.display.HTML object>"
      ]
     },
     "metadata": {},
     "output_type": "display_data"
    },
    {
     "data": {
      "text/html": [
       "</dl>"
      ],
      "text/plain": [
       "<IPython.core.display.HTML object>"
      ]
     },
     "metadata": {},
     "output_type": "display_data"
    },
    {
     "data": {
      "text/html": [
       "<h3>Axioms required (directly or indirectly) to prove non_zero_divides_zero</h3>"
      ],
      "text/plain": [
       "<IPython.core.display.HTML object>"
      ]
     },
     "metadata": {},
     "output_type": "display_data"
    },
    {
     "data": {
      "text/html": [
       "<dl>"
      ],
      "text/plain": [
       "<IPython.core.display.HTML object>"
      ]
     },
     "metadata": {},
     "output_type": "display_data"
    },
    {
     "data": {
      "text/html": [
       "<dt><a class=\"ProveItLink\" href=\"../../../../../logic/booleans/_theory_nbs_/axioms.ipynb#eq_true_elim\">proveit.logic.booleans.eq_true_elim</a></dt><dd><a class=\"ProveItLink\" href=\"../../../../../logic/booleans/__pv_it/axioms/ed8b0a27c515b8c85261606f0835dadd8c8b34f70/expr.ipynb\"><img src=\"../../../../../logic/booleans/__pv_it/axioms/ed8b0a27c515b8c85261606f0835dadd8c8b34f70/expr.png\" style=\"display:inline;vertical-align:middle;\" /></a></dd>"
      ],
      "text/plain": [
       "<IPython.core.display.HTML object>"
      ]
     },
     "metadata": {},
     "output_type": "display_data"
    },
    {
     "data": {
      "text/html": [
       "<dt><a class=\"ProveItLink\" href=\"../../../../../logic/booleans/_theory_nbs_/axioms.ipynb#eq_true_intro\">proveit.logic.booleans.eq_true_intro</a></dt><dd><a class=\"ProveItLink\" href=\"../../../../../logic/booleans/__pv_it/axioms/3a99d3cb7c410f4636cdc59f7b36cdf6997b37680/expr.ipynb\"><img src=\"../../../../../logic/booleans/__pv_it/axioms/3a99d3cb7c410f4636cdc59f7b36cdf6997b37680/expr.png\" style=\"display:inline;vertical-align:middle;\" /></a></dd>"
      ],
      "text/plain": [
       "<IPython.core.display.HTML object>"
      ]
     },
     "metadata": {},
     "output_type": "display_data"
    },
    {
     "data": {
      "text/html": [
       "<dt><a class=\"ProveItLink\" href=\"../../../../../logic/equality/_theory_nbs_/axioms.ipynb#equals_symmetry\">proveit.logic.equality.equals_symmetry</a></dt><dd><a class=\"ProveItLink\" href=\"../../../../../logic/equality/__pv_it/axioms/34996bbbceac0f69a08b78cc992f42a548486c1c0/expr.ipynb\"><img src=\"../../../../../logic/equality/__pv_it/axioms/34996bbbceac0f69a08b78cc992f42a548486c1c0/expr.png\" style=\"display:inline;vertical-align:middle;\" /></a></dd>"
      ],
      "text/plain": [
       "<IPython.core.display.HTML object>"
      ]
     },
     "metadata": {},
     "output_type": "display_data"
    },
    {
     "data": {
      "text/html": [
       "<dt><a class=\"ProveItLink\" href=\"../../../../../logic/equality/_theory_nbs_/axioms.ipynb#equals_transitivity\">proveit.logic.equality.equals_transitivity</a></dt><dd><a class=\"ProveItLink\" href=\"../../../../../logic/equality/__pv_it/axioms/fe5ecb4839370106d7aa598ff8e51b95c71757a70/expr.ipynb\"><img src=\"../../../../../logic/equality/__pv_it/axioms/fe5ecb4839370106d7aa598ff8e51b95c71757a70/expr.png\" style=\"display:inline;vertical-align:middle;\" /></a></dd>"
      ],
      "text/plain": [
       "<IPython.core.display.HTML object>"
      ]
     },
     "metadata": {},
     "output_type": "display_data"
    },
    {
     "data": {
      "text/html": [
       "<dt><a class=\"ProveItLink\" href=\"../../../../../logic/equality/_theory_nbs_/axioms.ipynb#substitution\">proveit.logic.equality.substitution</a></dt><dd><a class=\"ProveItLink\" href=\"../../../../../logic/equality/__pv_it/axioms/fb5aa0007e656f471030da411c3555b23b265d8f0/expr.ipynb\"><img src=\"../../../../../logic/equality/__pv_it/axioms/fb5aa0007e656f471030da411c3555b23b265d8f0/expr.png\" style=\"display:inline;vertical-align:middle;\" /></a></dd>"
      ],
      "text/plain": [
       "<IPython.core.display.HTML object>"
      ]
     },
     "metadata": {},
     "output_type": "display_data"
    },
    {
     "data": {
      "text/html": [
       "<dt><a class=\"ProveItLink\" href=\"../../../../../logic/sets/inclusion/_theory_nbs_/axioms.ipynb#proper_subset_def\">proveit.logic.sets.inclusion.proper_subset_def</a></dt><dd><a class=\"ProveItLink\" href=\"../../../../../logic/sets/inclusion/__pv_it/axioms/e95bfa29563f2d409f4f144fe6c68968590429550/expr.ipynb\"><img src=\"../../../../../logic/sets/inclusion/__pv_it/axioms/e95bfa29563f2d409f4f144fe6c68968590429550/expr.png\" style=\"display:inline;vertical-align:middle;\" /></a></dd>"
      ],
      "text/plain": [
       "<IPython.core.display.HTML object>"
      ]
     },
     "metadata": {},
     "output_type": "display_data"
    },
    {
     "data": {
      "text/html": [
       "<dt><a class=\"ProveItLink\" href=\"../../../../../logic/sets/inclusion/_theory_nbs_/axioms.ipynb#subset_eq_def\">proveit.logic.sets.inclusion.subset_eq_def</a></dt><dd><a class=\"ProveItLink\" href=\"../../../../../logic/sets/inclusion/__pv_it/axioms/d7449297494a795000bc445b03cbe0385e2bd3490/expr.ipynb\"><img src=\"../../../../../logic/sets/inclusion/__pv_it/axioms/d7449297494a795000bc445b03cbe0385e2bd3490/expr.png\" style=\"display:inline;vertical-align:middle;\" /></a></dd>"
      ],
      "text/plain": [
       "<IPython.core.display.HTML object>"
      ]
     },
     "metadata": {},
     "output_type": "display_data"
    },
    {
     "data": {
      "text/html": [
       "<dt><a class=\"ProveItLink\" href=\"../../../_theory_nbs_/axioms.ipynb#divides_def\">proveit.numbers.divisibility.divides_def</a></dt><dd><a class=\"ProveItLink\" href=\"../../axioms/46404eb6709b03d47893726a6b6d4b91883a93730/expr.ipynb\"><img src=\"../../axioms/46404eb6709b03d47893726a6b6d4b91883a93730/expr.png\" style=\"display:inline;vertical-align:middle;\" /></a></dd>"
      ],
      "text/plain": [
       "<IPython.core.display.HTML object>"
      ]
     },
     "metadata": {},
     "output_type": "display_data"
    },
    {
     "data": {
      "text/html": [
       "<dt><a class=\"ProveItLink\" href=\"../../../../number_sets/natural_numbers/_theory_nbs_/axioms.ipynb#zero_in_nats\">proveit.numbers.number_sets.natural_numbers.zero_in_nats</a></dt><dd><a class=\"ProveItLink\" href=\"../../../../number_sets/natural_numbers/__pv_it/axioms/0b15b4387138326157a681ee81e504aafbe547fc0/expr.ipynb\"><img src=\"../../../../number_sets/natural_numbers/__pv_it/axioms/0b15b4387138326157a681ee81e504aafbe547fc0/expr.png\" style=\"display:inline;vertical-align:middle;\" /></a></dd>"
      ],
      "text/plain": [
       "<IPython.core.display.HTML object>"
      ]
     },
     "metadata": {},
     "output_type": "display_data"
    },
    {
     "data": {
      "text/html": [
       "</dl>"
      ],
      "text/plain": [
       "<IPython.core.display.HTML object>"
      ]
     },
     "metadata": {},
     "output_type": "display_data"
    },
    {
     "data": {
      "text/html": [
       "<h3>No theorems/conjectures depend upon non_zero_divides_zero</h3>"
      ],
      "text/plain": [
       "<IPython.core.display.HTML object>"
      ]
     },
     "metadata": {},
     "output_type": "display_data"
    }
   ],
   "source": [
    "%dependencies non_zero_divides_zero"
   ]
  }
 ],
 "metadata": {
  "kernelspec": {
   "display_name": "Python 3",
   "language": "python",
   "name": "python3"
  }
 },
 "nbformat": 4,
 "nbformat_minor": 0
}