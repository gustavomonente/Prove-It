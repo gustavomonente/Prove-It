{
 "cells": [
  {
   "cell_type": "markdown",
   "metadata": {},
   "source": [
    "Expression of type <a class=\"ProveItLink\" href=\"../../../../../../../doc/html/api/proveit.Conditional.html\">Conditional</a>\n",
    "=======================\n",
    "# from the theory of <a class=\"ProveItLink\" href=\"../../../_theory_nbs_/theory.ipynb\">proveit.numbers.divisibility</a>"
   ]
  },
  {
   "cell_type": "code",
   "execution_count": 1,
   "metadata": {},
   "outputs": [],
   "source": [
    "import proveit\n",
    "# Automation is not needed when building an expression:\n",
    "proveit.defaults.automation = False # This will speed things up.\n",
    "proveit.defaults.inline_pngs = False # Makes files smaller.\n",
    "%load_expr # Load the stored expression as 'stored_expr'\n",
    "# import Expression classes needed to build the expression\n",
    "from proveit import Conditional, a, b, p\n",
    "from proveit.logic import And, Equals, Forall, InSet, Not\n",
    "from proveit.numbers import Divides, GCD, Greater, NaturalPos, one"
   ]
  },
  {
   "cell_type": "code",
   "execution_count": 2,
   "metadata": {},
   "outputs": [
    {
     "data": {
      "text/html": [
       "<strong id=\"expr\">expr:</strong> <a class=\"ProveItLink\" href=\"expr.ipynb\"><img src=\"expr.png\" style=\"display:inline;vertical-align:middle;\" /></a><br>"
      ],
      "text/plain": [
       "expr: {forall_{p in NaturalPos | p > 1} [not]((p | a) and (p | b)) if a in NaturalPos ,  b in NaturalPos ,  gcd(a, b) = 1."
      ]
     },
     "execution_count": 2,
     "metadata": {},
     "output_type": "execute_result"
    }
   ],
   "source": [
    "# build up the expression from sub-expressions\n",
    "expr = Conditional(Forall([p], Not(And(Divides(p, a), Divides(p, b))), domains = [NaturalPos], condition = Greater(p, one)), And(InSet(a, NaturalPos), InSet(b, NaturalPos), Equals(GCD(a, b), one)))"
   ]
  },
  {
   "cell_type": "code",
   "execution_count": 3,
   "metadata": {},
   "outputs": [
    {
     "name": "stdout",
     "output_type": "stream",
     "text": [
      "Passed sanity check: expr matches stored_expr\n"
     ]
    }
   ],
   "source": [
    "# check that the built expression is the same as the stored expression\n",
    "assert expr == stored_expr\n",
    "assert expr._style_id == stored_expr._style_id\n",
    "print(\"Passed sanity check: expr matches stored_expr\")"
   ]
  },
  {
   "cell_type": "code",
   "execution_count": 4,
   "metadata": {},
   "outputs": [
    {
     "name": "stdout",
     "output_type": "stream",
     "text": [
      "\\left\\{\\forall_{p \\in \\mathbb{N}^+~|~p > 1}~(\\lnot \\left(\\left(p \\rvert a\\right) \\land \\left(p \\rvert b\\right)\\right)) \\textrm{ if } a \\in \\mathbb{N}^+ ,  b \\in \\mathbb{N}^+ ,  gcd(a, b) = 1\\right..\n"
     ]
    }
   ],
   "source": [
    "# Show the LaTeX representation of the expression for convenience if you need it.\n",
    "print(expr.latex())"
   ]
  },
  {
   "cell_type": "code",
   "execution_count": 5,
   "metadata": {},
   "outputs": [
    {
     "data": {
      "text/html": [
       "<table><tr><th>&nbsp;</th><th>core type</th><th>sub-expressions</th><th>expression</th></tr>\n",
       "<tr><td>0</td><td>Conditional</td><td>value:&nbsp;1<br>condition:&nbsp;2<br></td><td><a class=\"ProveItLink\" href=\"expr.ipynb\"><img src=\"expr.png\" style=\"display:inline;vertical-align:middle;\" /></a></td></tr>\n",
       "<tr><td>1</td><td>Operation</td><td>operator:&nbsp;3<br>operand:&nbsp;4<br></td><td><a class=\"ProveItLink\" href=\"../d59aa75f6be4496d7a0fb47616bcfabd0b7ad48b0/expr.ipynb\"><img src=\"../d59aa75f6be4496d7a0fb47616bcfabd0b7ad48b0/expr.png\" style=\"display:inline;vertical-align:middle;\" /></a></td></tr>\n",
       "<tr><td>2</td><td>Operation</td><td>operator:&nbsp;20<br>operands:&nbsp;5<br></td><td><a class=\"ProveItLink\" href=\"../73b4137215929ff44d4f2013c7332c5d5a3251430/expr.ipynb\"><img src=\"../73b4137215929ff44d4f2013c7332c5d5a3251430/expr.png\" style=\"display:inline;vertical-align:middle;\" /></a></td></tr>\n",
       "<tr><td>3</td><td>Literal</td><td></td><td><a class=\"ProveItLink\" href=\"../../../../../logic/booleans/quantification/universality/__pv_it/common/083d2baa0b8ecab1d230f9ec29a15aa1355809fb0/expr.ipynb\"><img src=\"../../../../../logic/booleans/quantification/universality/__pv_it/common/083d2baa0b8ecab1d230f9ec29a15aa1355809fb0/expr.png\" style=\"display:inline;vertical-align:middle;\" /></a></td></tr>\n",
       "<tr><td>4</td><td>Lambda</td><td>parameter:&nbsp;38<br>body:&nbsp;6<br></td><td><a class=\"ProveItLink\" href=\"../d342e2fa1b6c876b57498765374c106bd21367dd0/expr.ipynb\"><img src=\"../d342e2fa1b6c876b57498765374c106bd21367dd0/expr.png\" style=\"display:inline;vertical-align:middle;\" /></a></td></tr>\n",
       "<tr><td>5</td><td>ExprTuple</td><td>7, 8, 9</td><td><a class=\"ProveItLink\" href=\"../6314e28a4a08447b3a35b824f8cfab555e31c1600/expr.ipynb\"><img src=\"../6314e28a4a08447b3a35b824f8cfab555e31c1600/expr.png\" style=\"display:inline;vertical-align:middle;\" /></a></td></tr>\n",
       "<tr><td>6</td><td>Conditional</td><td>value:&nbsp;10<br>condition:&nbsp;11<br></td><td><a class=\"ProveItLink\" href=\"../0b659eb8c493d0592f9af41c3b838050b1184c740/expr.ipynb\"><img src=\"../0b659eb8c493d0592f9af41c3b838050b1184c740/expr.png\" style=\"display:inline;vertical-align:middle;\" /></a></td></tr>\n",
       "<tr><td>7</td><td>Operation</td><td>operator:&nbsp;28<br>operands:&nbsp;12<br></td><td><a class=\"ProveItLink\" href=\"../3ff6d030480eb6e23c542771ee1266642bd211550/expr.ipynb\"><img src=\"../3ff6d030480eb6e23c542771ee1266642bd211550/expr.png\" style=\"display:inline;vertical-align:middle;\" /></a></td></tr>\n",
       "<tr><td>8</td><td>Operation</td><td>operator:&nbsp;28<br>operands:&nbsp;13<br></td><td><a class=\"ProveItLink\" href=\"../e21bfd427aea9db5d9615569745a3188e5338b8c0/expr.ipynb\"><img src=\"../e21bfd427aea9db5d9615569745a3188e5338b8c0/expr.png\" style=\"display:inline;vertical-align:middle;\" /></a></td></tr>\n",
       "<tr><td>9</td><td>Operation</td><td>operator:&nbsp;14<br>operands:&nbsp;15<br></td><td><a class=\"ProveItLink\" href=\"../0e78f9834c69980405d631602f797e52f90141ba0/expr.ipynb\"><img src=\"../0e78f9834c69980405d631602f797e52f90141ba0/expr.png\" style=\"display:inline;vertical-align:middle;\" /></a></td></tr>\n",
       "<tr><td>10</td><td>Operation</td><td>operator:&nbsp;16<br>operand:&nbsp;17<br></td><td><a class=\"ProveItLink\" href=\"../f9e099d1be2cd0a5415aa0697658da9ad93320440/expr.ipynb\"><img src=\"../f9e099d1be2cd0a5415aa0697658da9ad93320440/expr.png\" style=\"display:inline;vertical-align:middle;\" /></a></td></tr>\n",
       "<tr><td>11</td><td>Operation</td><td>operator:&nbsp;20<br>operands:&nbsp;18<br></td><td><a class=\"ProveItLink\" href=\"../a2ed095827cf305eb0f293ddf9e883a7666c23690/expr.ipynb\"><img src=\"../a2ed095827cf305eb0f293ddf9e883a7666c23690/expr.png\" style=\"display:inline;vertical-align:middle;\" /></a></td></tr>\n",
       "<tr><td>12</td><td>ExprTuple</td><td>37, 35</td><td><a class=\"ProveItLink\" href=\"../79a641ef054dd7b954e474f7deee296576054d470/expr.ipynb\"><img src=\"../79a641ef054dd7b954e474f7deee296576054d470/expr.png\" style=\"display:inline;vertical-align:middle;\" /></a></td></tr>\n",
       "<tr><td>13</td><td>ExprTuple</td><td>39, 35</td><td><a class=\"ProveItLink\" href=\"../29db2e458432d098272f4098502086c44835de9b0/expr.ipynb\"><img src=\"../29db2e458432d098272f4098502086c44835de9b0/expr.png\" style=\"display:inline;vertical-align:middle;\" /></a></td></tr>\n",
       "<tr><td>14</td><td>Literal</td><td></td><td><a class=\"ProveItLink\" href=\"../../../../../logic/equality/__pv_it/common/fb96dc12b2aa8801dda64d0132b396c63d1502bb0/expr.ipynb\"><img src=\"../../../../../logic/equality/__pv_it/common/fb96dc12b2aa8801dda64d0132b396c63d1502bb0/expr.png\" style=\"display:inline;vertical-align:middle;\" /></a></td></tr>\n",
       "<tr><td>15</td><td>ExprTuple</td><td>19, 36</td><td><a class=\"ProveItLink\" href=\"../75e3cff5691a81d919004bea441c432caea3f94d0/expr.ipynb\"><img src=\"../75e3cff5691a81d919004bea441c432caea3f94d0/expr.png\" style=\"display:inline;vertical-align:middle;\" /></a></td></tr>\n",
       "<tr><td>16</td><td>Literal</td><td></td><td><a class=\"ProveItLink\" href=\"../../../../../logic/booleans/negation/__pv_it/common/1a811a997e5d75fdb50cdaf74f302daccad39af40/expr.ipynb\"><img src=\"../../../../../logic/booleans/negation/__pv_it/common/1a811a997e5d75fdb50cdaf74f302daccad39af40/expr.png\" style=\"display:inline;vertical-align:middle;\" /></a></td></tr>\n",
       "<tr><td>17</td><td>Operation</td><td>operator:&nbsp;20<br>operands:&nbsp;21<br></td><td><a class=\"ProveItLink\" href=\"../9826079f559042df5f839e1a5ce1b7f3871aeb6d0/expr.ipynb\"><img src=\"../9826079f559042df5f839e1a5ce1b7f3871aeb6d0/expr.png\" style=\"display:inline;vertical-align:middle;\" /></a></td></tr>\n",
       "<tr><td>18</td><td>ExprTuple</td><td>22, 23</td><td><a class=\"ProveItLink\" href=\"../49d993d17db90322660b82a2950924f8fb4633ce0/expr.ipynb\"><img src=\"../49d993d17db90322660b82a2950924f8fb4633ce0/expr.png\" style=\"display:inline;vertical-align:middle;\" /></a></td></tr>\n",
       "<tr><td>19</td><td>Operation</td><td>operator:&nbsp;24<br>operands:&nbsp;25<br></td><td><a class=\"ProveItLink\" href=\"../4d1c21a556835742ec4e625c2aeffe5821a045bc0/expr.ipynb\"><img src=\"../4d1c21a556835742ec4e625c2aeffe5821a045bc0/expr.png\" style=\"display:inline;vertical-align:middle;\" /></a></td></tr>\n",
       "<tr><td>20</td><td>Literal</td><td></td><td><a class=\"ProveItLink\" href=\"../../../../../logic/booleans/conjunction/__pv_it/common/42118ff318bd65d98b1393f64ce7c2269feef76e0/expr.ipynb\"><img src=\"../../../../../logic/booleans/conjunction/__pv_it/common/42118ff318bd65d98b1393f64ce7c2269feef76e0/expr.png\" style=\"display:inline;vertical-align:middle;\" /></a></td></tr>\n",
       "<tr><td>21</td><td>ExprTuple</td><td>26, 27</td><td><a class=\"ProveItLink\" href=\"../b11c4023a5a6f626c99e922a39970838b8f8bb2d0/expr.ipynb\"><img src=\"../b11c4023a5a6f626c99e922a39970838b8f8bb2d0/expr.png\" style=\"display:inline;vertical-align:middle;\" /></a></td></tr>\n",
       "<tr><td>22</td><td>Operation</td><td>operator:&nbsp;28<br>operands:&nbsp;29<br></td><td><a class=\"ProveItLink\" href=\"../a34891b1f3958224d72dedeaf7fd502f720a50710/expr.ipynb\"><img src=\"../a34891b1f3958224d72dedeaf7fd502f720a50710/expr.png\" style=\"display:inline;vertical-align:middle;\" /></a></td></tr>\n",
       "<tr><td>23</td><td>Operation</td><td>operator:&nbsp;30<br>operands:&nbsp;31<br></td><td><a class=\"ProveItLink\" href=\"../eb751a380704021fe138e62f5654650ff140666e0/expr.ipynb\"><img src=\"../eb751a380704021fe138e62f5654650ff140666e0/expr.png\" style=\"display:inline;vertical-align:middle;\" /></a></td></tr>\n",
       "<tr><td>24</td><td>Literal</td><td></td><td><a class=\"ProveItLink\" href=\"../../common/4992ec160f5fadacbaffecc5cde14b74057220530/expr.ipynb\"><img src=\"../../common/4992ec160f5fadacbaffecc5cde14b74057220530/expr.png\" style=\"display:inline;vertical-align:middle;\" /></a></td></tr>\n",
       "<tr><td>25</td><td>ExprTuple</td><td>37, 39</td><td><a class=\"ProveItLink\" href=\"../0e00cf301f391b9db3f5ff72911e8e2539c94fb00/expr.ipynb\"><img src=\"../0e00cf301f391b9db3f5ff72911e8e2539c94fb00/expr.png\" style=\"display:inline;vertical-align:middle;\" /></a></td></tr>\n",
       "<tr><td>26</td><td>Operation</td><td>operator:&nbsp;33<br>operands:&nbsp;32<br></td><td><a class=\"ProveItLink\" href=\"../bd2ebba0d5ba19518ab3e694162b45132e9956720/expr.ipynb\"><img src=\"../bd2ebba0d5ba19518ab3e694162b45132e9956720/expr.png\" style=\"display:inline;vertical-align:middle;\" /></a></td></tr>\n",
       "<tr><td>27</td><td>Operation</td><td>operator:&nbsp;33<br>operands:&nbsp;34<br></td><td><a class=\"ProveItLink\" href=\"../1c5dc8f7881cafea62b6c0bedfd3907c79f5ae7a0/expr.ipynb\"><img src=\"../1c5dc8f7881cafea62b6c0bedfd3907c79f5ae7a0/expr.png\" style=\"display:inline;vertical-align:middle;\" /></a></td></tr>\n",
       "<tr><td>28</td><td>Literal</td><td></td><td><a class=\"ProveItLink\" href=\"../../../../../logic/sets/membership/__pv_it/common/477487d8796864d23d5810f83761435f25167f690/expr.ipynb\"><img src=\"../../../../../logic/sets/membership/__pv_it/common/477487d8796864d23d5810f83761435f25167f690/expr.png\" style=\"display:inline;vertical-align:middle;\" /></a></td></tr>\n",
       "<tr><td>29</td><td>ExprTuple</td><td>38, 35</td><td><a class=\"ProveItLink\" href=\"../da500116dab4daae24690feda7604944d98ec87c0/expr.ipynb\"><img src=\"../da500116dab4daae24690feda7604944d98ec87c0/expr.png\" style=\"display:inline;vertical-align:middle;\" /></a></td></tr>\n",
       "<tr><td>30</td><td>Literal</td><td></td><td><a class=\"ProveItLink\" href=\"../../../../ordering/__pv_it/common/869e6d5549437128ed25d67d9fc2182576bdc1d70/expr.ipynb\"><img src=\"../../../../ordering/__pv_it/common/869e6d5549437128ed25d67d9fc2182576bdc1d70/expr.png\" style=\"display:inline;vertical-align:middle;\" /></a></td></tr>\n",
       "<tr><td>31</td><td>ExprTuple</td><td>38, 36</td><td><a class=\"ProveItLink\" href=\"../4ca8b829a2e3136aaca621c44bea81ec815b2e2c0/expr.ipynb\"><img src=\"../4ca8b829a2e3136aaca621c44bea81ec815b2e2c0/expr.png\" style=\"display:inline;vertical-align:middle;\" /></a></td></tr>\n",
       "<tr><td>32</td><td>ExprTuple</td><td>38, 37</td><td><a class=\"ProveItLink\" href=\"../46d58b11d0a291babdda869a3fdd736d19d3f83b0/expr.ipynb\"><img src=\"../46d58b11d0a291babdda869a3fdd736d19d3f83b0/expr.png\" style=\"display:inline;vertical-align:middle;\" /></a></td></tr>\n",
       "<tr><td>33</td><td>Literal</td><td></td><td><a class=\"ProveItLink\" href=\"../../common/a65366842efe06ee8900f970dcf24400f165cec40/expr.ipynb\"><img src=\"../../common/a65366842efe06ee8900f970dcf24400f165cec40/expr.png\" style=\"display:inline;vertical-align:middle;\" /></a></td></tr>\n",
       "<tr><td>34</td><td>ExprTuple</td><td>38, 39</td><td><a class=\"ProveItLink\" href=\"../2d1235deb6b2030650adf0c8a53495aeca04488a0/expr.ipynb\"><img src=\"../2d1235deb6b2030650adf0c8a53495aeca04488a0/expr.png\" style=\"display:inline;vertical-align:middle;\" /></a></td></tr>\n",
       "<tr><td>35</td><td>Literal</td><td></td><td><a class=\"ProveItLink\" href=\"../../../../number_sets/natural_numbers/__pv_it/common/6111329435c43892c831c4793de96afbf80bdb3e0/expr.ipynb\"><img src=\"../../../../number_sets/natural_numbers/__pv_it/common/6111329435c43892c831c4793de96afbf80bdb3e0/expr.png\" style=\"display:inline;vertical-align:middle;\" /></a></td></tr>\n",
       "<tr><td>36</td><td>Literal</td><td></td><td><a class=\"ProveItLink\" href=\"../../../../numerals/__pv_it/common/2778428c7f555b2bdc06aa0530bc142c6e6335100/expr.ipynb\"><img src=\"../../../../numerals/__pv_it/common/2778428c7f555b2bdc06aa0530bc142c6e6335100/expr.png\" style=\"display:inline;vertical-align:middle;\" /></a></td></tr>\n",
       "<tr><td>37</td><td>Variable</td><td></td><td><a class=\"ProveItLink\" href=\"../../../../../__pv_it/common/c06c606ec12678c58933ac85412ecadc2ae28be60/expr.ipynb\"><img src=\"../../../../../__pv_it/common/c06c606ec12678c58933ac85412ecadc2ae28be60/expr.png\" style=\"display:inline;vertical-align:middle;\" /></a></td></tr>\n",
       "<tr><td>38</td><td>Variable</td><td></td><td><a class=\"ProveItLink\" href=\"../../../../../__pv_it/common/bbfd8ec921873eb340439a30c11dc66622cd75e90/expr.ipynb\"><img src=\"../../../../../__pv_it/common/bbfd8ec921873eb340439a30c11dc66622cd75e90/expr.png\" style=\"display:inline;vertical-align:middle;\" /></a></td></tr>\n",
       "<tr><td>39</td><td>Variable</td><td></td><td><a class=\"ProveItLink\" href=\"../../../../../__pv_it/common/195236b98c6c564a75b5dbada74b173bc52d5c3e0/expr.ipynb\"><img src=\"../../../../../__pv_it/common/195236b98c6c564a75b5dbada74b173bc52d5c3e0/expr.png\" style=\"display:inline;vertical-align:middle;\" /></a></td></tr>\n",
       "</table>\n"
      ],
      "text/plain": [
       "0. {forall_{p in NaturalPos | p > 1} [not]((p | a) and (p | b)) if a in NaturalPos ,  b in NaturalPos ,  gcd(a, b) = 1.\n",
       "   core type: Conditional\n",
       "   value: 1\n",
       "   condition: 2\n",
       "1. forall_{p in NaturalPos | p > 1} [not]((p | a) and (p | b))\n",
       "   core type: Operation\n",
       "   operator: 3\n",
       "   operand: 4\n",
       "2. (a in NaturalPos) and (b in NaturalPos) and (gcd(a, b) = 1)\n",
       "   core type: Operation\n",
       "   operator: 20\n",
       "   operands: 5\n",
       "3. forall\n",
       "   core type: Literal\n",
       "   sub-expressions: \n",
       "4. p -> {[not]((p | a) and (p | b)) if p in NaturalPos ,  p > 1.\n",
       "   core type: Lambda\n",
       "   parameter: 38\n",
       "   body: 6\n",
       "5. (a in NaturalPos, b in NaturalPos, gcd(a, b) = 1)\n",
       "   core type: ExprTuple\n",
       "   sub-expressions: 7, 8, 9\n",
       "6. {[not]((p | a) and (p | b)) if p in NaturalPos ,  p > 1.\n",
       "   core type: Conditional\n",
       "   value: 10\n",
       "   condition: 11\n",
       "7. a in NaturalPos\n",
       "   core type: Operation\n",
       "   operator: 28\n",
       "   operands: 12\n",
       "8. b in NaturalPos\n",
       "   core type: Operation\n",
       "   operator: 28\n",
       "   operands: 13\n",
       "9. gcd(a, b) = 1\n",
       "   core type: Operation\n",
       "   operator: 14\n",
       "   operands: 15\n",
       "10. [not]((p | a) and (p | b))\n",
       "    core type: Operation\n",
       "    operator: 16\n",
       "    operand: 17\n",
       "11. (p in NaturalPos) and (p > 1)\n",
       "    core type: Operation\n",
       "    operator: 20\n",
       "    operands: 18\n",
       "12. (a, NaturalPos)\n",
       "    core type: ExprTuple\n",
       "    sub-expressions: 37, 35\n",
       "13. (b, NaturalPos)\n",
       "    core type: ExprTuple\n",
       "    sub-expressions: 39, 35\n",
       "14. =\n",
       "    core type: Literal\n",
       "    sub-expressions: \n",
       "15. (gcd(a, b), 1)\n",
       "    core type: ExprTuple\n",
       "    sub-expressions: 19, 36\n",
       "16. not\n",
       "    core type: Literal\n",
       "    sub-expressions: \n",
       "17. (p | a) and (p | b)\n",
       "    core type: Operation\n",
       "    operator: 20\n",
       "    operands: 21\n",
       "18. (p in NaturalPos, p > 1)\n",
       "    core type: ExprTuple\n",
       "    sub-expressions: 22, 23\n",
       "19. gcd(a, b)\n",
       "    core type: Operation\n",
       "    operator: 24\n",
       "    operands: 25\n",
       "20. and\n",
       "    core type: Literal\n",
       "    sub-expressions: \n",
       "21. (p | a, p | b)\n",
       "    core type: ExprTuple\n",
       "    sub-expressions: 26, 27\n",
       "22. p in NaturalPos\n",
       "    core type: Operation\n",
       "    operator: 28\n",
       "    operands: 29\n",
       "23. p > 1\n",
       "    core type: Operation\n",
       "    operator: 30\n",
       "    operands: 31\n",
       "24. gcd\n",
       "    core type: Literal\n",
       "    sub-expressions: \n",
       "25. (a, b)\n",
       "    core type: ExprTuple\n",
       "    sub-expressions: 37, 39\n",
       "26. p | a\n",
       "    core type: Operation\n",
       "    operator: 33\n",
       "    operands: 32\n",
       "27. p | b\n",
       "    core type: Operation\n",
       "    operator: 33\n",
       "    operands: 34\n",
       "28. in\n",
       "    core type: Literal\n",
       "    sub-expressions: \n",
       "29. (p, NaturalPos)\n",
       "    core type: ExprTuple\n",
       "    sub-expressions: 38, 35\n",
       "30. >\n",
       "    core type: Literal\n",
       "    sub-expressions: \n",
       "31. (p, 1)\n",
       "    core type: ExprTuple\n",
       "    sub-expressions: 38, 36\n",
       "32. (p, a)\n",
       "    core type: ExprTuple\n",
       "    sub-expressions: 38, 37\n",
       "33. |\n",
       "    core type: Literal\n",
       "    sub-expressions: \n",
       "34. (p, b)\n",
       "    core type: ExprTuple\n",
       "    sub-expressions: 38, 39\n",
       "35. NaturalPos\n",
       "    core type: Literal\n",
       "    sub-expressions: \n",
       "36. 1\n",
       "    core type: Literal\n",
       "    sub-expressions: \n",
       "37. a\n",
       "    core type: Variable\n",
       "    sub-expressions: \n",
       "38. p\n",
       "    core type: Variable\n",
       "    sub-expressions: \n",
       "39. b\n",
       "    core type: Variable\n",
       "    sub-expressions: "
      ]
     },
     "execution_count": 5,
     "metadata": {},
     "output_type": "execute_result"
    }
   ],
   "source": [
    "# display the expression information\n",
    "expr.expr_info()"
   ]
  },
  {
   "cell_type": "code",
   "execution_count": null,
   "metadata": {},
   "outputs": [],
   "source": []
  }
 ],
 "metadata": {
  "kernelspec": {
   "display_name": "Python 3",
   "language": "python",
   "name": "python3"
  }
 },
 "nbformat": 4,
 "nbformat_minor": 0
}