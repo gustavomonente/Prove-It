{
 "cells": [
  {
   "cell_type": "markdown",
   "metadata": {},
   "source": [
    "Expression of type <a class=\"ProveItLink\" href=\"../../../../../../../doc/html/api/proveit.Lambda.html\">Lambda</a>\n",
    "=======================\n",
    "# from the theory of <a class=\"ProveItLink\" href=\"../../../_theory_nbs_/theory.ipynb\">proveit.numbers.divisibility</a>"
   ]
  },
  {
   "cell_type": "code",
   "execution_count": 1,
   "metadata": {},
   "outputs": [],
   "source": [
    "import proveit\n",
    "# Automation is not needed when building an expression:\n",
    "proveit.defaults.automation = False # This will speed things up.\n",
    "proveit.defaults.inline_pngs = False # Makes files smaller.\n",
    "%load_expr # Load the stored expression as 'stored_expr'\n",
    "# import Expression classes needed to build the expression\n",
    "from proveit import Conditional, Lambda, a, k, n\n",
    "from proveit.logic import And, InSet\n",
    "from proveit.numbers import Divides, Exp, Integer, NaturalPos"
   ]
  },
  {
   "cell_type": "code",
   "execution_count": 2,
   "metadata": {},
   "outputs": [
    {
     "data": {
      "text/html": [
       "<strong id=\"expr\">expr:</strong> <a class=\"ProveItLink\" href=\"expr.ipynb\"><img src=\"expr.png\" style=\"display:inline;vertical-align:middle;\" /></a><br>"
      ],
      "text/plain": [
       "expr: (k, a, n) -> {k | a if k in Integer ,  a in Integer ,  n in NaturalPos ,  k^{n} | a^{n}."
      ]
     },
     "execution_count": 2,
     "metadata": {},
     "output_type": "execute_result"
    }
   ],
   "source": [
    "# build up the expression from sub-expressions\n",
    "expr = Lambda([k, a, n], Conditional(Divides(k, a), And(InSet(k, Integer), InSet(a, Integer), InSet(n, NaturalPos), Divides(Exp(k, n), Exp(a, n)))))"
   ]
  },
  {
   "cell_type": "code",
   "execution_count": 3,
   "metadata": {},
   "outputs": [
    {
     "name": "stdout",
     "output_type": "stream",
     "text": [
      "Passed sanity check: expr matches stored_expr\n"
     ]
    }
   ],
   "source": [
    "# check that the built expression is the same as the stored expression\n",
    "assert expr == stored_expr\n",
    "assert expr._style_id == stored_expr._style_id\n",
    "print(\"Passed sanity check: expr matches stored_expr\")"
   ]
  },
  {
   "cell_type": "code",
   "execution_count": 4,
   "metadata": {},
   "outputs": [
    {
     "name": "stdout",
     "output_type": "stream",
     "text": [
      "\\left(k, a, n\\right) \\mapsto \\left\\{k \\rvert a \\textrm{ if } k \\in \\mathbb{Z} ,  a \\in \\mathbb{Z} ,  n \\in \\mathbb{N}^+ ,  k^{n} \\rvert a^{n}\\right..\n"
     ]
    }
   ],
   "source": [
    "# Show the LaTeX representation of the expression for convenience if you need it.\n",
    "print(expr.latex())"
   ]
  },
  {
   "cell_type": "code",
   "execution_count": 5,
   "metadata": {},
   "outputs": [
    {
     "data": {
      "text/html": [
       "<table><tr><th>&nbsp;</th><th>core type</th><th>sub-expressions</th><th>expression</th></tr>\n",
       "<tr><td>0</td><td>Lambda</td><td>parameters:&nbsp;1<br>body:&nbsp;2<br></td><td><a class=\"ProveItLink\" href=\"expr.ipynb\"><img src=\"expr.png\" style=\"display:inline;vertical-align:middle;\" /></a></td></tr>\n",
       "<tr><td>1</td><td>ExprTuple</td><td>25, 26, 27</td><td><a class=\"ProveItLink\" href=\"../b50f524f2d1fdf05b765cd957c671a748812eb040/expr.ipynb\"><img src=\"../b50f524f2d1fdf05b765cd957c671a748812eb040/expr.png\" style=\"display:inline;vertical-align:middle;\" /></a></td></tr>\n",
       "<tr><td>2</td><td>Conditional</td><td>value:&nbsp;3<br>condition:&nbsp;4<br></td><td><a class=\"ProveItLink\" href=\"../17c611a4edeae762ae832e8a75f0e6f8c4afba4e0/expr.ipynb\"><img src=\"../17c611a4edeae762ae832e8a75f0e6f8c4afba4e0/expr.png\" style=\"display:inline;vertical-align:middle;\" /></a></td></tr>\n",
       "<tr><td>3</td><td>Operation</td><td>operator:&nbsp;16<br>operands:&nbsp;5<br></td><td><a class=\"ProveItLink\" href=\"../89d57998b4ac18adc5846732d9b6808d8d88a46b0/expr.ipynb\"><img src=\"../89d57998b4ac18adc5846732d9b6808d8d88a46b0/expr.png\" style=\"display:inline;vertical-align:middle;\" /></a></td></tr>\n",
       "<tr><td>4</td><td>Operation</td><td>operator:&nbsp;6<br>operands:&nbsp;7<br></td><td><a class=\"ProveItLink\" href=\"../218fb85a100ad8b8a02f0972c7c3e877babd6e510/expr.ipynb\"><img src=\"../218fb85a100ad8b8a02f0972c7c3e877babd6e510/expr.png\" style=\"display:inline;vertical-align:middle;\" /></a></td></tr>\n",
       "<tr><td>5</td><td>ExprTuple</td><td>25, 26</td><td><a class=\"ProveItLink\" href=\"../a166e84c204fc5adf9b373d7bfb6a6ad4084b5880/expr.ipynb\"><img src=\"../a166e84c204fc5adf9b373d7bfb6a6ad4084b5880/expr.png\" style=\"display:inline;vertical-align:middle;\" /></a></td></tr>\n",
       "<tr><td>6</td><td>Literal</td><td></td><td><a class=\"ProveItLink\" href=\"../../../../../logic/booleans/conjunction/__pv_it/common/42118ff318bd65d98b1393f64ce7c2269feef76e0/expr.ipynb\"><img src=\"../../../../../logic/booleans/conjunction/__pv_it/common/42118ff318bd65d98b1393f64ce7c2269feef76e0/expr.png\" style=\"display:inline;vertical-align:middle;\" /></a></td></tr>\n",
       "<tr><td>7</td><td>ExprTuple</td><td>8, 9, 10, 11</td><td><a class=\"ProveItLink\" href=\"../826f99455ee50d9b93dcb9564534ca1b016fe1490/expr.ipynb\"><img src=\"../826f99455ee50d9b93dcb9564534ca1b016fe1490/expr.png\" style=\"display:inline;vertical-align:middle;\" /></a></td></tr>\n",
       "<tr><td>8</td><td>Operation</td><td>operator:&nbsp;14<br>operands:&nbsp;12<br></td><td><a class=\"ProveItLink\" href=\"../af42eea59ac7689415a417e3e479fec08200ba1f0/expr.ipynb\"><img src=\"../af42eea59ac7689415a417e3e479fec08200ba1f0/expr.png\" style=\"display:inline;vertical-align:middle;\" /></a></td></tr>\n",
       "<tr><td>9</td><td>Operation</td><td>operator:&nbsp;14<br>operands:&nbsp;13<br></td><td><a class=\"ProveItLink\" href=\"../719e316770207ff1eb898e95cd0798b2c84bdd920/expr.ipynb\"><img src=\"../719e316770207ff1eb898e95cd0798b2c84bdd920/expr.png\" style=\"display:inline;vertical-align:middle;\" /></a></td></tr>\n",
       "<tr><td>10</td><td>Operation</td><td>operator:&nbsp;14<br>operands:&nbsp;15<br></td><td><a class=\"ProveItLink\" href=\"../a9c01f72a8710eb6455c4786cc4a8aa9a8d1beb60/expr.ipynb\"><img src=\"../a9c01f72a8710eb6455c4786cc4a8aa9a8d1beb60/expr.png\" style=\"display:inline;vertical-align:middle;\" /></a></td></tr>\n",
       "<tr><td>11</td><td>Operation</td><td>operator:&nbsp;16<br>operands:&nbsp;17<br></td><td><a class=\"ProveItLink\" href=\"../50781a6e595aaa94b31e4cd5c4fa6b3c513e66770/expr.ipynb\"><img src=\"../50781a6e595aaa94b31e4cd5c4fa6b3c513e66770/expr.png\" style=\"display:inline;vertical-align:middle;\" /></a></td></tr>\n",
       "<tr><td>12</td><td>ExprTuple</td><td>25, 18</td><td><a class=\"ProveItLink\" href=\"../93ff2af4509993af671355c31960f66ec6d933f90/expr.ipynb\"><img src=\"../93ff2af4509993af671355c31960f66ec6d933f90/expr.png\" style=\"display:inline;vertical-align:middle;\" /></a></td></tr>\n",
       "<tr><td>13</td><td>ExprTuple</td><td>26, 18</td><td><a class=\"ProveItLink\" href=\"../1e319c010321fff87c914a8c002ad0cd25b3fbb80/expr.ipynb\"><img src=\"../1e319c010321fff87c914a8c002ad0cd25b3fbb80/expr.png\" style=\"display:inline;vertical-align:middle;\" /></a></td></tr>\n",
       "<tr><td>14</td><td>Literal</td><td></td><td><a class=\"ProveItLink\" href=\"../../../../../logic/sets/membership/__pv_it/common/477487d8796864d23d5810f83761435f25167f690/expr.ipynb\"><img src=\"../../../../../logic/sets/membership/__pv_it/common/477487d8796864d23d5810f83761435f25167f690/expr.png\" style=\"display:inline;vertical-align:middle;\" /></a></td></tr>\n",
       "<tr><td>15</td><td>ExprTuple</td><td>27, 19</td><td><a class=\"ProveItLink\" href=\"../09d617a164cf3f820cb8170f3e1680673d4b7bf10/expr.ipynb\"><img src=\"../09d617a164cf3f820cb8170f3e1680673d4b7bf10/expr.png\" style=\"display:inline;vertical-align:middle;\" /></a></td></tr>\n",
       "<tr><td>16</td><td>Literal</td><td></td><td><a class=\"ProveItLink\" href=\"../../common/a65366842efe06ee8900f970dcf24400f165cec40/expr.ipynb\"><img src=\"../../common/a65366842efe06ee8900f970dcf24400f165cec40/expr.png\" style=\"display:inline;vertical-align:middle;\" /></a></td></tr>\n",
       "<tr><td>17</td><td>ExprTuple</td><td>20, 21</td><td><a class=\"ProveItLink\" href=\"../5bdda90080b33c6f17ec2623dceed42de57639930/expr.ipynb\"><img src=\"../5bdda90080b33c6f17ec2623dceed42de57639930/expr.png\" style=\"display:inline;vertical-align:middle;\" /></a></td></tr>\n",
       "<tr><td>18</td><td>Literal</td><td></td><td><a class=\"ProveItLink\" href=\"../../../../number_sets/integers/__pv_it/common/e6b4e90f9467053e055a4fd2f735c0bb79cb79300/expr.ipynb\"><img src=\"../../../../number_sets/integers/__pv_it/common/e6b4e90f9467053e055a4fd2f735c0bb79cb79300/expr.png\" style=\"display:inline;vertical-align:middle;\" /></a></td></tr>\n",
       "<tr><td>19</td><td>Literal</td><td></td><td><a class=\"ProveItLink\" href=\"../../../../number_sets/natural_numbers/__pv_it/common/6111329435c43892c831c4793de96afbf80bdb3e0/expr.ipynb\"><img src=\"../../../../number_sets/natural_numbers/__pv_it/common/6111329435c43892c831c4793de96afbf80bdb3e0/expr.png\" style=\"display:inline;vertical-align:middle;\" /></a></td></tr>\n",
       "<tr><td>20</td><td>Operation</td><td>operator:&nbsp;23<br>operands:&nbsp;22<br></td><td><a class=\"ProveItLink\" href=\"../8d462343d32e3f662ea37fb6cf6745b25171ba620/expr.ipynb\"><img src=\"../8d462343d32e3f662ea37fb6cf6745b25171ba620/expr.png\" style=\"display:inline;vertical-align:middle;\" /></a></td></tr>\n",
       "<tr><td>21</td><td>Operation</td><td>operator:&nbsp;23<br>operands:&nbsp;24<br></td><td><a class=\"ProveItLink\" href=\"../c14591899cd600757e74048fdeadfc1e30a0032e0/expr.ipynb\"><img src=\"../c14591899cd600757e74048fdeadfc1e30a0032e0/expr.png\" style=\"display:inline;vertical-align:middle;\" /></a></td></tr>\n",
       "<tr><td>22</td><td>ExprTuple</td><td>25, 27</td><td><a class=\"ProveItLink\" href=\"../aeaf34a4c9726a6411da5f359b8865432e4e36790/expr.ipynb\"><img src=\"../aeaf34a4c9726a6411da5f359b8865432e4e36790/expr.png\" style=\"display:inline;vertical-align:middle;\" /></a></td></tr>\n",
       "<tr><td>23</td><td>Literal</td><td></td><td><a class=\"ProveItLink\" href=\"../../../../exponentiation/__pv_it/common/0ac37aca1e54c35c5cda09672df32d4f69f1f3020/expr.ipynb\"><img src=\"../../../../exponentiation/__pv_it/common/0ac37aca1e54c35c5cda09672df32d4f69f1f3020/expr.png\" style=\"display:inline;vertical-align:middle;\" /></a></td></tr>\n",
       "<tr><td>24</td><td>ExprTuple</td><td>26, 27</td><td><a class=\"ProveItLink\" href=\"../51bea2e1b15adc02e6c96292e5f99533c92a228d0/expr.ipynb\"><img src=\"../51bea2e1b15adc02e6c96292e5f99533c92a228d0/expr.png\" style=\"display:inline;vertical-align:middle;\" /></a></td></tr>\n",
       "<tr><td>25</td><td>Variable</td><td></td><td><a class=\"ProveItLink\" href=\"../../../../../__pv_it/common/63b7c64bf9ec7a04ecc396c7a1670f3f12fb59490/expr.ipynb\"><img src=\"../../../../../__pv_it/common/63b7c64bf9ec7a04ecc396c7a1670f3f12fb59490/expr.png\" style=\"display:inline;vertical-align:middle;\" /></a></td></tr>\n",
       "<tr><td>26</td><td>Variable</td><td></td><td><a class=\"ProveItLink\" href=\"../../../../../__pv_it/common/c06c606ec12678c58933ac85412ecadc2ae28be60/expr.ipynb\"><img src=\"../../../../../__pv_it/common/c06c606ec12678c58933ac85412ecadc2ae28be60/expr.png\" style=\"display:inline;vertical-align:middle;\" /></a></td></tr>\n",
       "<tr><td>27</td><td>Variable</td><td></td><td><a class=\"ProveItLink\" href=\"../../../../../__pv_it/common/8968bb04eb3f7dfa02353397ce929b025bbd79c20/expr.ipynb\"><img src=\"../../../../../__pv_it/common/8968bb04eb3f7dfa02353397ce929b025bbd79c20/expr.png\" style=\"display:inline;vertical-align:middle;\" /></a></td></tr>\n",
       "</table>\n"
      ],
      "text/plain": [
       "0. (k, a, n) -> {k | a if k in Integer ,  a in Integer ,  n in NaturalPos ,  k^{n} | a^{n}.\n",
       "   core type: Lambda\n",
       "   parameters: 1\\n   body: 2\n",
       "1. (k, a, n)\n",
       "   core type: ExprTuple\n",
       "   sub-expressions: 25, 26, 27\n",
       "2. {k | a if k in Integer ,  a in Integer ,  n in NaturalPos ,  k^{n} | a^{n}.\n",
       "   core type: Conditional\n",
       "   value: 3\n",
       "   condition: 4\n",
       "3. k | a\n",
       "   core type: Operation\n",
       "   operator: 16\n",
       "   operands: 5\n",
       "4. (k in Integer) and (a in Integer) and (n in NaturalPos) and (k^{n} | a^{n})\n",
       "   core type: Operation\n",
       "   operator: 6\n",
       "   operands: 7\n",
       "5. (k, a)\n",
       "   core type: ExprTuple\n",
       "   sub-expressions: 25, 26\n",
       "6. and\n",
       "   core type: Literal\n",
       "   sub-expressions: \n",
       "7. (k in Integer, a in Integer, n in NaturalPos, k^{n} | a^{n})\n",
       "   core type: ExprTuple\n",
       "   sub-expressions: 8, 9, 10, 11\n",
       "8. k in Integer\n",
       "   core type: Operation\n",
       "   operator: 14\n",
       "   operands: 12\n",
       "9. a in Integer\n",
       "   core type: Operation\n",
       "   operator: 14\n",
       "   operands: 13\n",
       "10. n in NaturalPos\n",
       "    core type: Operation\n",
       "    operator: 14\n",
       "    operands: 15\n",
       "11. k^{n} | a^{n}\n",
       "    core type: Operation\n",
       "    operator: 16\n",
       "    operands: 17\n",
       "12. (k, Integer)\n",
       "    core type: ExprTuple\n",
       "    sub-expressions: 25, 18\n",
       "13. (a, Integer)\n",
       "    core type: ExprTuple\n",
       "    sub-expressions: 26, 18\n",
       "14. in\n",
       "    core type: Literal\n",
       "    sub-expressions: \n",
       "15. (n, NaturalPos)\n",
       "    core type: ExprTuple\n",
       "    sub-expressions: 27, 19\n",
       "16. |\n",
       "    core type: Literal\n",
       "    sub-expressions: \n",
       "17. (k^{n}, a^{n})\n",
       "    core type: ExprTuple\n",
       "    sub-expressions: 20, 21\n",
       "18. Integer\n",
       "    core type: Literal\n",
       "    sub-expressions: \n",
       "19. NaturalPos\n",
       "    core type: Literal\n",
       "    sub-expressions: \n",
       "20. k^{n}\n",
       "    core type: Operation\n",
       "    operator: 23\n",
       "    operands: 22\n",
       "21. a^{n}\n",
       "    core type: Operation\n",
       "    operator: 23\n",
       "    operands: 24\n",
       "22. (k, n)\n",
       "    core type: ExprTuple\n",
       "    sub-expressions: 25, 27\n",
       "23. Exp\n",
       "    core type: Literal\n",
       "    sub-expressions: \n",
       "24. (a, n)\n",
       "    core type: ExprTuple\n",
       "    sub-expressions: 26, 27\n",
       "25. k\n",
       "    core type: Variable\n",
       "    sub-expressions: \n",
       "26. a\n",
       "    core type: Variable\n",
       "    sub-expressions: \n",
       "27. n\n",
       "    core type: Variable\n",
       "    sub-expressions: "
      ]
     },
     "execution_count": 5,
     "metadata": {},
     "output_type": "execute_result"
    }
   ],
   "source": [
    "# display the expression information\n",
    "expr.expr_info()"
   ]
  },
  {
   "cell_type": "code",
   "execution_count": null,
   "metadata": {},
   "outputs": [],
   "source": []
  }
 ],
 "metadata": {
  "kernelspec": {
   "display_name": "Python 3",
   "language": "python",
   "name": "python3"
  }
 },
 "nbformat": 4,
 "nbformat_minor": 0
}