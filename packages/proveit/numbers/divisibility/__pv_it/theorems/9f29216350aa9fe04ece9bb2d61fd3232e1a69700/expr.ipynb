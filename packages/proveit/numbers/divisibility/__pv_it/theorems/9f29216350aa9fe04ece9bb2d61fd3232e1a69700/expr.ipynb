{
 "cells": [
  {
   "cell_type": "markdown",
   "metadata": {},
   "source": [
    "Expression of type <a class=\"ProveItLink\" href=\"../../../../../../../doc/html/api/proveit.Conditional.html\">Conditional</a>\n",
    "=======================\n",
    "# from the theory of <a class=\"ProveItLink\" href=\"../../../_theory_nbs_/theory.ipynb\">proveit.numbers.divisibility</a>"
   ]
  },
  {
   "cell_type": "code",
   "execution_count": 1,
   "metadata": {},
   "outputs": [],
   "source": [
    "import proveit\n",
    "# Automation is not needed when building an expression:\n",
    "proveit.defaults.automation = False # This will speed things up.\n",
    "proveit.defaults.inline_pngs = False # Makes files smaller.\n",
    "%load_expr # Load the stored expression as 'stored_expr'\n",
    "# import Expression classes needed to build the expression\n",
    "from proveit import Conditional, a, b, p\n",
    "from proveit.logic import And, InSet, Not\n",
    "from proveit.numbers import Divides, NaturalPos, greater, one"
   ]
  },
  {
   "cell_type": "code",
   "execution_count": 2,
   "metadata": {},
   "outputs": [
    {
     "data": {
      "text/html": [
       "<strong id=\"expr\">expr:</strong> <a class=\"ProveItLink\" href=\"expr.ipynb\"><img src=\"expr.png\" style=\"display:inline;vertical-align:middle;\" /></a><br>"
      ],
      "text/plain": [
       "expr: {not((p | a) and (p | b)) if p in NaturalPos ,  p > 1."
      ]
     },
     "execution_count": 2,
     "metadata": {},
     "output_type": "execute_result"
    }
   ],
   "source": [
    "# build up the expression from sub-expressions\n",
    "expr = Conditional(Not(And(Divides(p, a), Divides(p, b))), And(InSet(p, NaturalPos), greater(p, one)))"
   ]
  },
  {
   "cell_type": "code",
   "execution_count": 3,
   "metadata": {},
   "outputs": [
    {
     "name": "stdout",
     "output_type": "stream",
     "text": [
      "Passed sanity check: expr matches stored_expr\n"
     ]
    }
   ],
   "source": [
    "# check that the built expression is the same as the stored expression\n",
    "assert expr == stored_expr\n",
    "assert expr._style_id == stored_expr._style_id\n",
    "print(\"Passed sanity check: expr matches stored_expr\")"
   ]
  },
  {
   "cell_type": "code",
   "execution_count": 4,
   "metadata": {},
   "outputs": [
    {
     "name": "stdout",
     "output_type": "stream",
     "text": [
      "\\left\\{\\lnot \\left(\\left(p \\rvert a\\right) \\land \\left(p \\rvert b\\right)\\right) \\textrm{ if } p \\in \\mathbb{N}^+ ,  p > 1\\right..\n"
     ]
    }
   ],
   "source": [
    "# Show the LaTeX representation of the expression for convenience if you need it.\n",
    "print(expr.latex())"
   ]
  },
  {
   "cell_type": "code",
   "execution_count": 5,
   "metadata": {},
   "outputs": [
    {
     "data": {
      "text/html": [
       "<table>\n",
       "<tr><th>name</th><th>description</th><th>default</th><th>current value</th><th>related methods</th></tr><tr><td>condition_delimiter</td><td>'comma' or 'and'</td><td>comma</td><td>comma</td><td>('with_comma_delimiter', 'with_conjunction_delimiter')</td></tr>\n",
       "</table>\n"
      ],
      "text/plain": [
       "style name: condition_delimiter\n",
       "description: 'comma' or 'and'\n",
       "default: comma\n",
       "current value: comma\n",
       "related methods: ('with_comma_delimiter', 'with_conjunction_delimiter')"
      ]
     },
     "execution_count": 5,
     "metadata": {},
     "output_type": "execute_result"
    }
   ],
   "source": [
    "expr.style_options()"
   ]
  },
  {
   "cell_type": "code",
   "execution_count": 6,
   "metadata": {},
   "outputs": [
    {
     "data": {
      "text/html": [
       "<table><tr><th>&nbsp;</th><th>core type</th><th>sub-expressions</th><th>expression</th></tr>\n",
       "<tr><td>0</td><td>Conditional</td><td>value:&nbsp;1<br>condition:&nbsp;2<br></td><td><a class=\"ProveItLink\" href=\"expr.ipynb\"><img src=\"expr.png\" style=\"display:inline;vertical-align:middle;\" /></a></td></tr>\n",
       "<tr><td>1</td><td>Operation</td><td>operator:&nbsp;3<br>operand:&nbsp;6<br></td><td><a class=\"ProveItLink\" href=\"../68afb2a8e93a02987e73e17e632c680e93bb34720/expr.ipynb\"><img src=\"../68afb2a8e93a02987e73e17e632c680e93bb34720/expr.png\" style=\"display:inline;vertical-align:middle;\" /></a></td></tr>\n",
       "<tr><td>2</td><td>Operation</td><td>operator:&nbsp;9<br>operands:&nbsp;5<br></td><td><a class=\"ProveItLink\" href=\"../ccc81ce6410edde7ebc000327bdd7881b69d65060/expr.ipynb\"><img src=\"../ccc81ce6410edde7ebc000327bdd7881b69d65060/expr.png\" style=\"display:inline;vertical-align:middle;\" /></a></td></tr>\n",
       "<tr><td>3</td><td>Literal</td><td></td><td><a class=\"ProveItLink\" href=\"../../../../../logic/booleans/negation/__pv_it/common/44cff78c6737753417865a5233f827322c0f04ad0/expr.ipynb\"><img src=\"../../../../../logic/booleans/negation/__pv_it/common/44cff78c6737753417865a5233f827322c0f04ad0/expr.png\" style=\"display:inline;vertical-align:middle;\" /></a></td></tr>\n",
       "<tr><td>4</td><td>ExprTuple</td><td>6</td><td><a class=\"ProveItLink\" href=\"../f7348ef9acda5f3c89afe5bb46968e2947369df50/expr.ipynb\"><img src=\"../f7348ef9acda5f3c89afe5bb46968e2947369df50/expr.png\" style=\"display:inline;vertical-align:middle;\" /></a></td></tr>\n",
       "<tr><td>5</td><td>ExprTuple</td><td>7, 8</td><td><a class=\"ProveItLink\" href=\"../181c5f7b438fb869244341423864b4fa0b369dcf0/expr.ipynb\"><img src=\"../181c5f7b438fb869244341423864b4fa0b369dcf0/expr.png\" style=\"display:inline;vertical-align:middle;\" /></a></td></tr>\n",
       "<tr><td>6</td><td>Operation</td><td>operator:&nbsp;9<br>operands:&nbsp;10<br></td><td><a class=\"ProveItLink\" href=\"../77d8cf1aa12571ae162b98f4e368b967c863506e0/expr.ipynb\"><img src=\"../77d8cf1aa12571ae162b98f4e368b967c863506e0/expr.png\" style=\"display:inline;vertical-align:middle;\" /></a></td></tr>\n",
       "<tr><td>7</td><td>Operation</td><td>operator:&nbsp;11<br>operands:&nbsp;12<br></td><td><a class=\"ProveItLink\" href=\"../ac8401cd2b998d94cdd73904159c529c44bc0a9f0/expr.ipynb\"><img src=\"../ac8401cd2b998d94cdd73904159c529c44bc0a9f0/expr.png\" style=\"display:inline;vertical-align:middle;\" /></a></td></tr>\n",
       "<tr><td>8</td><td>Operation</td><td>operator:&nbsp;13<br>operands:&nbsp;14<br></td><td><a class=\"ProveItLink\" href=\"../fed82cd15285c7f926492e24cc63e88d20af2fad0/expr.ipynb\"><img src=\"../fed82cd15285c7f926492e24cc63e88d20af2fad0/expr.png\" style=\"display:inline;vertical-align:middle;\" /></a></td></tr>\n",
       "<tr><td>9</td><td>Literal</td><td></td><td><a class=\"ProveItLink\" href=\"../../../../../logic/booleans/conjunction/__pv_it/common/26b94b53e70b1d77b70f0d9d4236347db37731060/expr.ipynb\"><img src=\"../../../../../logic/booleans/conjunction/__pv_it/common/26b94b53e70b1d77b70f0d9d4236347db37731060/expr.png\" style=\"display:inline;vertical-align:middle;\" /></a></td></tr>\n",
       "<tr><td>10</td><td>ExprTuple</td><td>15, 16</td><td><a class=\"ProveItLink\" href=\"../0cee62fbb3102b3ee9a25cd3424c5d6bfb88e67c0/expr.ipynb\"><img src=\"../0cee62fbb3102b3ee9a25cd3424c5d6bfb88e67c0/expr.png\" style=\"display:inline;vertical-align:middle;\" /></a></td></tr>\n",
       "<tr><td>11</td><td>Literal</td><td></td><td><a class=\"ProveItLink\" href=\"../../../../../logic/sets/membership/__pv_it/common/7171deca84f71f47a6ec7696972d1632274a12880/expr.ipynb\"><img src=\"../../../../../logic/sets/membership/__pv_it/common/7171deca84f71f47a6ec7696972d1632274a12880/expr.png\" style=\"display:inline;vertical-align:middle;\" /></a></td></tr>\n",
       "<tr><td>12</td><td>ExprTuple</td><td>23, 17</td><td><a class=\"ProveItLink\" href=\"../19c33c90beabc12631684774afcb760a327c6bbd0/expr.ipynb\"><img src=\"../19c33c90beabc12631684774afcb760a327c6bbd0/expr.png\" style=\"display:inline;vertical-align:middle;\" /></a></td></tr>\n",
       "<tr><td>13</td><td>Literal</td><td></td><td><a class=\"ProveItLink\" href=\"../../../../ordering/__pv_it/common/28edf56075f82c850836d8cd79dbcacf62e589820/expr.ipynb\"><img src=\"../../../../ordering/__pv_it/common/28edf56075f82c850836d8cd79dbcacf62e589820/expr.png\" style=\"display:inline;vertical-align:middle;\" /></a></td></tr>\n",
       "<tr><td>14</td><td>ExprTuple</td><td>18, 23</td><td><a class=\"ProveItLink\" href=\"../2acbbc08e271ada7eeb6eb83e02d763f4b12c87a0/expr.ipynb\"><img src=\"../2acbbc08e271ada7eeb6eb83e02d763f4b12c87a0/expr.png\" style=\"display:inline;vertical-align:middle;\" /></a></td></tr>\n",
       "<tr><td>15</td><td>Operation</td><td>operator:&nbsp;20<br>operands:&nbsp;19<br></td><td><a class=\"ProveItLink\" href=\"../31b832cdeafa366e2317328d4a05b774d73d56730/expr.ipynb\"><img src=\"../31b832cdeafa366e2317328d4a05b774d73d56730/expr.png\" style=\"display:inline;vertical-align:middle;\" /></a></td></tr>\n",
       "<tr><td>16</td><td>Operation</td><td>operator:&nbsp;20<br>operands:&nbsp;21<br></td><td><a class=\"ProveItLink\" href=\"../b2fbe35018ab3a8b83f521101157f10f0188fd460/expr.ipynb\"><img src=\"../b2fbe35018ab3a8b83f521101157f10f0188fd460/expr.png\" style=\"display:inline;vertical-align:middle;\" /></a></td></tr>\n",
       "<tr><td>17</td><td>Literal</td><td></td><td><a class=\"ProveItLink\" href=\"../../../../number_sets/natural_numbers/__pv_it/common/a2a7252783c385c028dad802e97575c19e456b990/expr.ipynb\"><img src=\"../../../../number_sets/natural_numbers/__pv_it/common/a2a7252783c385c028dad802e97575c19e456b990/expr.png\" style=\"display:inline;vertical-align:middle;\" /></a></td></tr>\n",
       "<tr><td>18</td><td>Literal</td><td></td><td><a class=\"ProveItLink\" href=\"../../../../numerals/__pv_it/common/d278e359da0695d9652dd541d45264f93703e2e40/expr.ipynb\"><img src=\"../../../../numerals/__pv_it/common/d278e359da0695d9652dd541d45264f93703e2e40/expr.png\" style=\"display:inline;vertical-align:middle;\" /></a></td></tr>\n",
       "<tr><td>19</td><td>ExprTuple</td><td>23, 22</td><td><a class=\"ProveItLink\" href=\"../2d081cd42ff857fe95aa864de93549b9904e4e130/expr.ipynb\"><img src=\"../2d081cd42ff857fe95aa864de93549b9904e4e130/expr.png\" style=\"display:inline;vertical-align:middle;\" /></a></td></tr>\n",
       "<tr><td>20</td><td>Literal</td><td></td><td><a class=\"ProveItLink\" href=\"../../common/3c37786c454f6a891321d0cf7d9b57e8a788eef80/expr.ipynb\"><img src=\"../../common/3c37786c454f6a891321d0cf7d9b57e8a788eef80/expr.png\" style=\"display:inline;vertical-align:middle;\" /></a></td></tr>\n",
       "<tr><td>21</td><td>ExprTuple</td><td>23, 24</td><td><a class=\"ProveItLink\" href=\"../eb1db28dabde2f914661029b293425832b26b1460/expr.ipynb\"><img src=\"../eb1db28dabde2f914661029b293425832b26b1460/expr.png\" style=\"display:inline;vertical-align:middle;\" /></a></td></tr>\n",
       "<tr><td>22</td><td>Variable</td><td></td><td><a class=\"ProveItLink\" href=\"../../../../../__pv_it/common/66c90e66682f107a881f2d666959f64e2e72ad750/expr.ipynb\"><img src=\"../../../../../__pv_it/common/66c90e66682f107a881f2d666959f64e2e72ad750/expr.png\" style=\"display:inline;vertical-align:middle;\" /></a></td></tr>\n",
       "<tr><td>23</td><td>Variable</td><td></td><td><a class=\"ProveItLink\" href=\"../../../../../__pv_it/common/2caa425a622fdcc34ba2e9c3992fa95a228fc7f10/expr.ipynb\"><img src=\"../../../../../__pv_it/common/2caa425a622fdcc34ba2e9c3992fa95a228fc7f10/expr.png\" style=\"display:inline;vertical-align:middle;\" /></a></td></tr>\n",
       "<tr><td>24</td><td>Variable</td><td></td><td><a class=\"ProveItLink\" href=\"../../../../../__pv_it/common/4a5db8cc5c67969ec864bd3ea598be37cb6f5e550/expr.ipynb\"><img src=\"../../../../../__pv_it/common/4a5db8cc5c67969ec864bd3ea598be37cb6f5e550/expr.png\" style=\"display:inline;vertical-align:middle;\" /></a></td></tr>\n",
       "</table>\n"
      ],
      "text/plain": [
       "0. {not((p | a) and (p | b)) if p in NaturalPos ,  p > 1.\n",
       "   core type: Conditional\n",
       "   value: 1\n",
       "   condition: 2\n",
       "1. not((p | a) and (p | b))\n",
       "   core type: Operation\n",
       "   operator: 3\n",
       "   operand: 6\n",
       "2. (p in NaturalPos) and (p > 1)\n",
       "   core type: Operation\n",
       "   operator: 9\n",
       "   operands: 5\n",
       "3. not\n",
       "   core type: Literal\n",
       "   sub-expressions: \n",
       "4. ((p | a) and (p | b))\n",
       "   core type: ExprTuple\n",
       "   sub-expressions: 6\n",
       "5. (p in NaturalPos, p > 1)\n",
       "   core type: ExprTuple\n",
       "   sub-expressions: 7, 8\n",
       "6. (p | a) and (p | b)\n",
       "   core type: Operation\n",
       "   operator: 9\n",
       "   operands: 10\n",
       "7. p in NaturalPos\n",
       "   core type: Operation\n",
       "   operator: 11\n",
       "   operands: 12\n",
       "8. p > 1\n",
       "   core type: Operation\n",
       "   operator: 13\n",
       "   operands: 14\n",
       "9. and\n",
       "   core type: Literal\n",
       "   sub-expressions: \n",
       "10. (p | a, p | b)\n",
       "    core type: ExprTuple\n",
       "    sub-expressions: 15, 16\n",
       "11. in\n",
       "    core type: Literal\n",
       "    sub-expressions: \n",
       "12. (p, NaturalPos)\n",
       "    core type: ExprTuple\n",
       "    sub-expressions: 23, 17\n",
       "13. <\n",
       "    core type: Literal\n",
       "    sub-expressions: \n",
       "14. (1, p)\n",
       "    core type: ExprTuple\n",
       "    sub-expressions: 18, 23\n",
       "15. p | a\n",
       "    core type: Operation\n",
       "    operator: 20\n",
       "    operands: 19\n",
       "16. p | b\n",
       "    core type: Operation\n",
       "    operator: 20\n",
       "    operands: 21\n",
       "17. NaturalPos\n",
       "    core type: Literal\n",
       "    sub-expressions: \n",
       "18. 1\n",
       "    core type: Literal\n",
       "    sub-expressions: \n",
       "19. (p, a)\n",
       "    core type: ExprTuple\n",
       "    sub-expressions: 23, 22\n",
       "20. |\n",
       "    core type: Literal\n",
       "    sub-expressions: \n",
       "21. (p, b)\n",
       "    core type: ExprTuple\n",
       "    sub-expressions: 23, 24\n",
       "22. a\n",
       "    core type: Variable\n",
       "    sub-expressions: \n",
       "23. p\n",
       "    core type: Variable\n",
       "    sub-expressions: \n",
       "24. b\n",
       "    core type: Variable\n",
       "    sub-expressions: "
      ]
     },
     "execution_count": 6,
     "metadata": {},
     "output_type": "execute_result"
    }
   ],
   "source": [
    "# display the expression information\n",
    "expr.expr_info()"
   ]
  },
  {
   "cell_type": "code",
   "execution_count": null,
   "metadata": {},
   "outputs": [],
   "source": []
  }
 ],
 "metadata": {
  "kernelspec": {
   "display_name": "Python 3",
   "language": "python",
   "name": "python3"
  }
 },
 "nbformat": 4,
 "nbformat_minor": 0
}