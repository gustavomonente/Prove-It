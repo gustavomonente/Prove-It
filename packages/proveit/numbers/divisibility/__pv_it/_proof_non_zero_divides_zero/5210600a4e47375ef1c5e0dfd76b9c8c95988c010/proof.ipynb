{
 "cells": [
  {
   "cell_type": "markdown",
   "metadata": {},
   "source": [
    "Show the Proof\n",
    "========"
   ]
  },
  {
   "cell_type": "code",
   "execution_count": 1,
   "metadata": {},
   "outputs": [
    {
     "data": {
      "text/html": [
       "<table><tr><th>&nbsp;</th><th>step type</th><th>requirements</th><th>statement</th></tr>\n",
       "<tr><td><a name=\"proveit.numbers.divisibility._proof_non_zero_divides_zero.5210600a4e47375ef1c5e0dfd76b9c8c95988c010_step0\">0</a></td><td>instantiation</td><td><a href=\"#proveit.numbers.divisibility._proof_non_zero_divides_zero.5210600a4e47375ef1c5e0dfd76b9c8c95988c010_step1\">1</a>, <a href=\"#proveit.numbers.divisibility._proof_non_zero_divides_zero.5210600a4e47375ef1c5e0dfd76b9c8c95988c010_step2\">2</a>, <a href=\"#proveit.numbers.divisibility._proof_non_zero_divides_zero.5210600a4e47375ef1c5e0dfd76b9c8c95988c010_step3\">3</a></td><td><span style=\"font-size:20px;\"><a class=\"ProveItLink\" href=\"../../../../division/__pv_it/theorems/e99df808d7f7f716b0c7d8c3fb6eb50e7ecca4120/expr.ipynb\"><img src=\"../../../../division/__pv_it/theorems/e99df808d7f7f716b0c7d8c3fb6eb50e7ecca4120/expr.png\" style=\"display:inline;vertical-align:middle;\" /></a>, <a class=\"ProveItLink\" href=\"../../../../division/__pv_it/theorems/fc754fd89b63e925ce60299eafbc02e90d2050f80/expr.ipynb\"><img src=\"../../../../division/__pv_it/theorems/fc754fd89b63e925ce60299eafbc02e90d2050f80/expr.png\" style=\"display:inline;vertical-align:middle;\" /></a> <a class=\"ProveItLink\" href=\"proof.ipynb\" style=\"text-decoration: none\">&nbsp;&#x22A2;&nbsp;&nbsp;</a><a class=\"ProveItLink\" href=\"../../../../division/__pv_it/theorems/71a749fb0a2479987dbd7f6c3d9cfde7fe05d25d0/expr.ipynb\"><img src=\"../../../../division/__pv_it/theorems/71a749fb0a2479987dbd7f6c3d9cfde7fe05d25d0/expr.png\" style=\"display:inline;vertical-align:middle;\" /></a></span></td></tr>\n",
       "<tr><td>&nbsp;</td><td colspan=4 style=\"text-align:left\"><span style=\"font-size:20px;\"><a class=\"ProveItLink\" href=\"../../../../../__pv_it/common/a2581dc5df71d9a30bad37de14965fa5fec97a240/expr.ipynb\"><img src=\"../../../../../__pv_it/common/a2581dc5df71d9a30bad37de14965fa5fec97a240/expr.png\" style=\"display:inline;vertical-align:middle;\" /></a> : <a class=\"ProveItLink\" href=\"../../../../../__pv_it/common/a2581dc5df71d9a30bad37de14965fa5fec97a240/expr.ipynb\"><img src=\"../../../../../__pv_it/common/a2581dc5df71d9a30bad37de14965fa5fec97a240/expr.png\" style=\"display:inline;vertical-align:middle;\" /></a></span></td></tr><tr><td><a name=\"proveit.numbers.divisibility._proof_non_zero_divides_zero.5210600a4e47375ef1c5e0dfd76b9c8c95988c010_step1\">1</a></td><td>theorem</td><td></td><td><span style=\"font-size:20px;\"> <a class=\"ProveItLink\" href=\"../../../../division/_theory_nbs_/proofs/frac_zero_numer/thm_proof.ipynb\" style=\"text-decoration: none\">&nbsp;&#x22A2;&nbsp;&nbsp;</a><a class=\"ProveItLink\" href=\"../../../../division/__pv_it/theorems/598aca81d2ac08428354401c2d0b6cc8f08e1c260/expr.ipynb\"><img src=\"../../../../division/__pv_it/theorems/598aca81d2ac08428354401c2d0b6cc8f08e1c260/expr.png\" style=\"display:inline;vertical-align:middle;\" /></a></span></td></tr>\n",
       "<tr><td>&nbsp;</td><td colspan=4 style-\"text-align:left\"><a class=\"ProveItLink\" href=\"../../../../division/_theory_nbs_/proofs/frac_zero_numer/thm_proof.ipynb\">proveit.numbers.division.frac_zero_numer</a></td></tr><tr><td><a name=\"proveit.numbers.divisibility._proof_non_zero_divides_zero.5210600a4e47375ef1c5e0dfd76b9c8c95988c010_step2\">2</a></td><td>assumption</td><td></td><td><span style=\"font-size:20px;\"><a class=\"ProveItLink\" href=\"../../../../division/__pv_it/theorems/e99df808d7f7f716b0c7d8c3fb6eb50e7ecca4120/expr.ipynb\"><img src=\"../../../../division/__pv_it/theorems/e99df808d7f7f716b0c7d8c3fb6eb50e7ecca4120/expr.png\" style=\"display:inline;vertical-align:middle;\" /></a> <a class=\"ProveItLink\" href=\"../23ff75484acf9aa823e52a07f12d180e498a1ce50/proof.ipynb\" style=\"text-decoration: none\">&nbsp;&#x22A2;&nbsp;&nbsp;</a><a class=\"ProveItLink\" href=\"../../../../division/__pv_it/theorems/e99df808d7f7f716b0c7d8c3fb6eb50e7ecca4120/expr.ipynb\"><img src=\"../../../../division/__pv_it/theorems/e99df808d7f7f716b0c7d8c3fb6eb50e7ecca4120/expr.png\" style=\"display:inline;vertical-align:middle;\" /></a></span></td></tr>\n",
       "<tr><td><a name=\"proveit.numbers.divisibility._proof_non_zero_divides_zero.5210600a4e47375ef1c5e0dfd76b9c8c95988c010_step3\">3</a></td><td>assumption</td><td></td><td><span style=\"font-size:20px;\"><a class=\"ProveItLink\" href=\"../../../../division/__pv_it/theorems/fc754fd89b63e925ce60299eafbc02e90d2050f80/expr.ipynb\"><img src=\"../../../../division/__pv_it/theorems/fc754fd89b63e925ce60299eafbc02e90d2050f80/expr.png\" style=\"display:inline;vertical-align:middle;\" /></a> <a class=\"ProveItLink\" href=\"../97ed24d43a065f3a1eefa2bd9e80b0ad3f98efa30/proof.ipynb\" style=\"text-decoration: none\">&nbsp;&#x22A2;&nbsp;&nbsp;</a><a class=\"ProveItLink\" href=\"../../../../division/__pv_it/theorems/fc754fd89b63e925ce60299eafbc02e90d2050f80/expr.ipynb\"><img src=\"../../../../division/__pv_it/theorems/fc754fd89b63e925ce60299eafbc02e90d2050f80/expr.png\" style=\"display:inline;vertical-align:middle;\" /></a></span></td></tr>\n",
       "</table>"
      ],
      "text/plain": [
       "<proveit._core_.proof._ShowProof at 0x7f140d0615c0>"
      ]
     },
     "execution_count": 1,
     "metadata": {},
     "output_type": "execute_result"
    }
   ],
   "source": [
    "import proveit\n",
    "# Automation is not needed when only showing a stored proof:\n",
    "proveit.defaults.automation = False # This will speed things up.\n",
    "proveit.defaults.inline_pngs = False # Makes files smaller.\n",
    "%show_proof"
   ]
  },
  {
   "cell_type": "code",
   "execution_count": null,
   "metadata": {},
   "outputs": [],
   "source": []
  }
 ],
 "metadata": {
  "kernelspec": {
   "display_name": "Python 3",
   "language": "python",
   "name": "python3"
  },
  "language_info": {
   "codemirror_mode": {
    "name": "ipython",
    "version": 3
   },
   "file_extension": ".py",
   "mimetype": "text/x-python",
   "name": "python",
   "nbconvert_exporter": "python",
   "pygments_lexer": "ipython3",
   "version": "3.7.3"
  }
 },
 "nbformat": 4,
 "nbformat_minor": 1
}