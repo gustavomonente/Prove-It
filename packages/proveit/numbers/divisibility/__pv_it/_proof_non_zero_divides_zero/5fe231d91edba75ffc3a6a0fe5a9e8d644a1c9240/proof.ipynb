{
 "cells": [
  {
   "cell_type": "markdown",
   "metadata": {},
   "source": [
    "Show the Proof\n",
    "========"
   ]
  },
  {
   "cell_type": "code",
   "execution_count": 1,
   "metadata": {},
   "outputs": [
    {
     "data": {
      "text/html": [
       "<table><tr><th>&nbsp;</th><th>step type</th><th>requirements</th><th>statement</th></tr>\n",
       "<tr><td><a name=\"proveit.numbers.divisibility._proof_non_zero_divides_zero.5fe231d91edba75ffc3a6a0fe5a9e8d644a1c9240_step0\">0</a></td><td>instantiation</td><td><a href=\"#proveit.numbers.divisibility._proof_non_zero_divides_zero.5fe231d91edba75ffc3a6a0fe5a9e8d644a1c9240_step1\">1</a>, <a href=\"#proveit.numbers.divisibility._proof_non_zero_divides_zero.5fe231d91edba75ffc3a6a0fe5a9e8d644a1c9240_step2\">2</a>, <a href=\"#proveit.numbers.divisibility._proof_non_zero_divides_zero.5fe231d91edba75ffc3a6a0fe5a9e8d644a1c9240_step3\">3</a></td><td><span style=\"font-size:20px;\"><a class=\"ProveItLink\" href=\"../../../../division/__pv_it/theorems/665eb28bdef08717ca4abe8886f256e37ecbb1210/expr.ipynb\"><img src=\"../../../../division/__pv_it/theorems/665eb28bdef08717ca4abe8886f256e37ecbb1210/expr.png\" style=\"display:inline;vertical-align:middle;\" /></a>, <a class=\"ProveItLink\" href=\"../../../../division/__pv_it/theorems/790116a9f1f1c07533579dee2d949fa1632065580/expr.ipynb\"><img src=\"../../../../division/__pv_it/theorems/790116a9f1f1c07533579dee2d949fa1632065580/expr.png\" style=\"display:inline;vertical-align:middle;\" /></a> <a class=\"ProveItLink\" href=\"proof.ipynb\" style=\"text-decoration: none\">&nbsp;&#x22A2;&nbsp;&nbsp;</a><a class=\"ProveItLink\" href=\"../../../../division/__pv_it/theorems/69e64f01237fd7dce6fd7cb828f7345be8483ad20/expr.ipynb\"><img src=\"../../../../division/__pv_it/theorems/69e64f01237fd7dce6fd7cb828f7345be8483ad20/expr.png\" style=\"display:inline;vertical-align:middle;\" /></a></span></td></tr>\n",
       "<tr><td>&nbsp;</td><td colspan=4 style=\"text-align:left\"><span style=\"font-size:20px;\"><a class=\"ProveItLink\" href=\"../../../../../__pv_it/common/a0d9d672aa5e272d907247690c152cc2c6daafb70/expr.ipynb\"><img src=\"../../../../../__pv_it/common/a0d9d672aa5e272d907247690c152cc2c6daafb70/expr.png\" style=\"display:inline;vertical-align:middle;\" /></a> : <a class=\"ProveItLink\" href=\"../../../../../__pv_it/common/a0d9d672aa5e272d907247690c152cc2c6daafb70/expr.ipynb\"><img src=\"../../../../../__pv_it/common/a0d9d672aa5e272d907247690c152cc2c6daafb70/expr.png\" style=\"display:inline;vertical-align:middle;\" /></a></span></td></tr><tr><td><a name=\"proveit.numbers.divisibility._proof_non_zero_divides_zero.5fe231d91edba75ffc3a6a0fe5a9e8d644a1c9240_step1\">1</a></td><td>theorem</td><td></td><td><span style=\"font-size:20px;\"> <a class=\"ProveItLink\" href=\"../../../../division/_theory_nbs_/proofs/frac_zero_numer/thm_proof.ipynb\" style=\"text-decoration: none\">&nbsp;&#x22A2;&nbsp;&nbsp;</a><a class=\"ProveItLink\" href=\"../../../../division/__pv_it/theorems/f0ddd74fb9bd3cdd5807ce29a2d8fadfb62c47a40/expr.ipynb\"><img src=\"../../../../division/__pv_it/theorems/f0ddd74fb9bd3cdd5807ce29a2d8fadfb62c47a40/expr.png\" style=\"display:inline;vertical-align:middle;\" /></a></span></td></tr>\n",
       "<tr><td>&nbsp;</td><td colspan=4 style-\"text-align:left\"><a class=\"ProveItLink\" href=\"../../../../division/_theory_nbs_/proofs/frac_zero_numer/thm_proof.ipynb\">proveit.numbers.division.frac_zero_numer</a></td></tr><tr><td><a name=\"proveit.numbers.divisibility._proof_non_zero_divides_zero.5fe231d91edba75ffc3a6a0fe5a9e8d644a1c9240_step2\">2</a></td><td>assumption</td><td></td><td><span style=\"font-size:20px;\"><a class=\"ProveItLink\" href=\"../../../../division/__pv_it/theorems/665eb28bdef08717ca4abe8886f256e37ecbb1210/expr.ipynb\"><img src=\"../../../../division/__pv_it/theorems/665eb28bdef08717ca4abe8886f256e37ecbb1210/expr.png\" style=\"display:inline;vertical-align:middle;\" /></a> <a class=\"ProveItLink\" href=\"../bcfb2fc0e3165f5adfd9ae264109f5e4dceb55c20/proof.ipynb\" style=\"text-decoration: none\">&nbsp;&#x22A2;&nbsp;&nbsp;</a><a class=\"ProveItLink\" href=\"../../../../division/__pv_it/theorems/665eb28bdef08717ca4abe8886f256e37ecbb1210/expr.ipynb\"><img src=\"../../../../division/__pv_it/theorems/665eb28bdef08717ca4abe8886f256e37ecbb1210/expr.png\" style=\"display:inline;vertical-align:middle;\" /></a></span></td></tr>\n",
       "<tr><td><a name=\"proveit.numbers.divisibility._proof_non_zero_divides_zero.5fe231d91edba75ffc3a6a0fe5a9e8d644a1c9240_step3\">3</a></td><td>assumption</td><td></td><td><span style=\"font-size:20px;\"><a class=\"ProveItLink\" href=\"../../../../division/__pv_it/theorems/790116a9f1f1c07533579dee2d949fa1632065580/expr.ipynb\"><img src=\"../../../../division/__pv_it/theorems/790116a9f1f1c07533579dee2d949fa1632065580/expr.png\" style=\"display:inline;vertical-align:middle;\" /></a> <a class=\"ProveItLink\" href=\"../2a60ef2bfddf94873a8db7b3fe782e42c69093c00/proof.ipynb\" style=\"text-decoration: none\">&nbsp;&#x22A2;&nbsp;&nbsp;</a><a class=\"ProveItLink\" href=\"../../../../division/__pv_it/theorems/790116a9f1f1c07533579dee2d949fa1632065580/expr.ipynb\"><img src=\"../../../../division/__pv_it/theorems/790116a9f1f1c07533579dee2d949fa1632065580/expr.png\" style=\"display:inline;vertical-align:middle;\" /></a></span></td></tr>\n",
       "</table>"
      ],
      "text/plain": [
       "<proveit._core_.proof._ShowProof at 0x7fb75418a898>"
      ]
     },
     "execution_count": 1,
     "metadata": {},
     "output_type": "execute_result"
    }
   ],
   "source": [
    "import proveit\n",
    "# Automation is not needed when only showing a stored proof:\n",
    "proveit.defaults.automation = False # This will speed things up.\n",
    "proveit.defaults.inline_pngs = False # Makes files smaller.\n",
    "%show_proof"
   ]
  },
  {
   "cell_type": "code",
   "execution_count": null,
   "metadata": {},
   "outputs": [],
   "source": []
  }
 ],
 "metadata": {
  "kernelspec": {
   "display_name": "Python 3",
   "language": "python",
   "name": "python3"
  }
 },
 "nbformat": 4,
 "nbformat_minor": 0
}