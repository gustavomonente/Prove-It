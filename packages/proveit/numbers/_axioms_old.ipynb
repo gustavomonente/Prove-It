{
 "cells": [
  {
   "cell_type": "code",
   "execution_count": null,
   "metadata": {},
   "outputs": [],
   "source": [
    "from proveit.basiclogic.boolean.boolOps import Implies, Not, Or\n",
    "from proveit.basiclogic import Equals\n",
    "from proveit.basiclogic.boolean.quantifiers import Forall\n",
    "from proveit.common import a, b, c, x, y, z, f, fx, fy, fa, fb, xEtc, yEtc, zEtc\n",
    "from proveit.numbers.arithmeticOps import Add, subtract, Multiply, GreaterThan, LessThan, \\\n",
    "    GreaterThanEquals, LessThanEquals, Summation, DiscreteContiguousSet\n",
    "from proveit.numbers import Integer\n",
    "from proveit.numbers.common import one\n",
    "import proveit.specialStatementMagic # for %begin_axioms and %end_axioms"
   ]
  },
  {
   "cell_type": "code",
   "execution_count": null,
   "metadata": {},
   "outputs": [],
   "source": [
    "%begin_axioms"
   ]
  },
  {
   "cell_type": "markdown",
   "metadata": {},
   "source": [
    "Here we define the addition operation to be associative.  Don't use this ADD for any non-associative operation."
   ]
  },
  {
   "cell_type": "code",
   "execution_count": null,
   "metadata": {},
   "outputs": [],
   "source": [
    "addAssoc = Forall([xEtc,yEtc,zEtc],\n",
    "                  Equals(\n",
    "                        Add(\n",
    "                                xEtc,yEtc,zEtc),\n",
    "                        Add(\n",
    "                                xEtc,Add(yEtc),zEtc)\n",
    "                        ),\n",
    "                  )\n",
    "addAssoc"
   ]
  },
  {
   "cell_type": "markdown",
   "metadata": {},
   "source": [
    "Here we define the addition operation to be associative.  Don't use this ADD for any non-associative operation."
   ]
  },
  {
   "cell_type": "code",
   "execution_count": null,
   "metadata": {},
   "outputs": [],
   "source": [
    "multAssoc = Forall([xEtc,yEtc,zEtc],\n",
    "                  Equals(\n",
    "                        Multiply(\n",
    "                                xEtc,yEtc,zEtc),\n",
    "                        Multiply(\n",
    "                                xEtc,Multiply(yEtc),zEtc)\n",
    "                        )\n",
    "                  )\n",
    "multAssoc"
   ]
  },
  {
   "cell_type": "code",
   "execution_count": null,
   "metadata": {},
   "outputs": [],
   "source": [
    "reverseGreaterThanEquals = Forall((x, y), Implies(GreaterThanEquals(x, y), LessThanEquals(y, x)))\n",
    "reverseGreaterThanEquals"
   ]
  },
  {
   "cell_type": "code",
   "execution_count": null,
   "metadata": {},
   "outputs": [],
   "source": [
    "reverseLessThanEquals = Forall((x, y), Implies(LessThanEquals(x, y), GreaterThanEquals(y, x)))\n",
    "reverseLessThanEquals"
   ]
  },
  {
   "cell_type": "code",
   "execution_count": null,
   "metadata": {},
   "outputs": [],
   "source": [
    "reverseGreaterThan = Forall((x, y), Implies(GreaterThan(x, y), LessThan(y, x)))\n",
    "reverseGreaterThan"
   ]
  },
  {
   "cell_type": "code",
   "execution_count": null,
   "metadata": {},
   "outputs": [],
   "source": [
    "reverseLessThan = Forall((x, y), Implies(LessThan(x, y), GreaterThan(y, x)))\n",
    "reverseLessThan"
   ]
  },
  {
   "cell_type": "code",
   "execution_count": null,
   "metadata": {},
   "outputs": [],
   "source": [
    "greaterThanEqualsDef = Forall((x,y), Implies(GreaterThanEquals(x,y), Or(GreaterThan(x,y),Equals(x,y))))\n",
    "greaterThanEqualsDef"
   ]
  },
  {
   "cell_type": "code",
   "execution_count": null,
   "metadata": {},
   "outputs": [],
   "source": [
    "lessThanEqualsDef = Forall((x,y), Implies(LessThanEquals(x,y), Or(LessThan(x,y),Equals(x,y))))\n",
    "lessThanEqualsDef"
   ]
  },
  {
   "cell_type": "code",
   "execution_count": null,
   "metadata": {},
   "outputs": [],
   "source": [
    "lessThanTransLessThanRight = Forall((x,y,z),\n",
    "                               Implies(LessThan(x,y),\n",
    "                                      Implies(LessThan(y,z),\n",
    "                                             LessThan(x,z))))\n",
    "lessThanTransLessThanRight"
   ]
  },
  {
   "cell_type": "code",
   "execution_count": null,
   "metadata": {},
   "outputs": [],
   "source": [
    "lessThanTransLessThanEqualsRight = Forall((x,y,z),\n",
    "                               Implies(LessThan(x,y),\n",
    "                                      Implies(LessThanEquals(y,z),\n",
    "                                             LessThan(x,z))))\n",
    "lessThanTransLessThanEqualsRight"
   ]
  },
  {
   "cell_type": "code",
   "execution_count": null,
   "metadata": {},
   "outputs": [],
   "source": [
    "lessThanTransLessThanLeft = Forall((x,y,z),\n",
    "                               Implies(LessThan(x,y),\n",
    "                                      Implies(LessThan(z,x),\n",
    "                                             LessThan(z,y))))\n",
    "lessThanTransLessThanLeft"
   ]
  },
  {
   "cell_type": "code",
   "execution_count": null,
   "metadata": {},
   "outputs": [],
   "source": [
    "lessThanTransLessThanEqualsLeft = Forall((x,y,z),\n",
    "                               Implies(LessThan(x,y),\n",
    "                                      Implies(LessThanEquals(z,x),\n",
    "                                             LessThan(z,y))))\n",
    "lessThanTransLessThanEqualsLeft"
   ]
  },
  {
   "cell_type": "code",
   "execution_count": null,
   "metadata": {},
   "outputs": [],
   "source": [
    "lessThanEqualsTransLessThanRight = Forall((x,y,z),\n",
    "                               Implies(LessThanEquals(x,y),\n",
    "                                      Implies(LessThan(y,z),\n",
    "                                             LessThan(x,z))))\n",
    "lessThanEqualsTransLessThanRight"
   ]
  },
  {
   "cell_type": "code",
   "execution_count": null,
   "metadata": {},
   "outputs": [],
   "source": [
    "lessThanEqualsTransLessThanEqualsRight = Forall((x,y,z),\n",
    "                               Implies(LessThanEquals(x,y),\n",
    "                                      Implies(LessThanEquals(y,z),\n",
    "                                             LessThanEquals(x,z))))\n",
    "lessThanEqualsTransLessThanEqualsRight"
   ]
  },
  {
   "cell_type": "code",
   "execution_count": null,
   "metadata": {},
   "outputs": [],
   "source": [
    "lessThanEqualsTransLessThanLeft = Forall((x,y,z),\n",
    "                               Implies(LessThanEquals(x,y),\n",
    "                                      Implies(LessThan(z,x),\n",
    "                                             LessThan(z,y))))\n",
    "lessThanEqualsTransLessThanLeft"
   ]
  },
  {
   "cell_type": "code",
   "execution_count": null,
   "metadata": {},
   "outputs": [],
   "source": [
    "lessThanEqualsTransLessThanEqualsLeft = Forall((x,y,z),\n",
    "                               Implies(LessThanEquals(x,y),\n",
    "                                      Implies(LessThanEquals(z,x),\n",
    "                                             LessThanEquals(z,y))))\n",
    "lessThanEqualsTransLessThanEqualsLeft"
   ]
  },
  {
   "cell_type": "code",
   "execution_count": null,
   "metadata": {},
   "outputs": [],
   "source": [
    "greaterThanTransGreaterThanRight = Forall((x,y,z),\n",
    "                                    Implies(GreaterThan(x,y),\n",
    "                                           Implies(GreaterThan(y,z),\n",
    "                                                  GreaterThan(x,z))))\n",
    "greaterThanTransGreaterThanRight"
   ]
  },
  {
   "cell_type": "code",
   "execution_count": null,
   "metadata": {},
   "outputs": [],
   "source": [
    "greaterThanTransGreaterThanEqualsRight = Forall((x,y,z),\n",
    "                                    Implies(GreaterThan(x,y),\n",
    "                                           Implies(GreaterThanEquals(y,z),\n",
    "                                                  GreaterThan(x,z))))\n",
    "greaterThanTransGreaterThanEqualsRight"
   ]
  },
  {
   "cell_type": "code",
   "execution_count": null,
   "metadata": {},
   "outputs": [],
   "source": [
    "greaterThanTransGreaterThanLeft = Forall((x,y,z),\n",
    "                                    Implies(GreaterThan(x,y),\n",
    "                                           Implies(GreaterThan(z,x),\n",
    "                                                  GreaterThan(z,y))))\n",
    "greaterThanTransGreaterThanLeft"
   ]
  },
  {
   "cell_type": "code",
   "execution_count": null,
   "metadata": {},
   "outputs": [],
   "source": [
    "greaterThanTransGreaterThanEqualsLeft = Forall((x,y,z),\n",
    "                                    Implies(GreaterThan(x,y),\n",
    "                                           Implies(GreaterThanEquals(z,x),\n",
    "                                                  GreaterThan(z,y))))\n",
    "greaterThanTransGreaterThanEqualsLeft"
   ]
  },
  {
   "cell_type": "code",
   "execution_count": null,
   "metadata": {},
   "outputs": [],
   "source": [
    "greaterThanEqualsTransGreaterThanRight = Forall((x,y,z),\n",
    "                                               Implies(GreaterThanEquals(x,y),\n",
    "                                                      Implies(GreaterThan(y,z),\n",
    "                                                             GreaterThan(x,z))))\n",
    "greaterThanEqualsTransGreaterThanRight"
   ]
  },
  {
   "cell_type": "code",
   "execution_count": null,
   "metadata": {},
   "outputs": [],
   "source": [
    "greaterThanEqualsTransGreaterThanEqualsRight = Forall((x,y,z),\n",
    "                                               Implies(GreaterThanEquals(x,y),\n",
    "                                                      Implies(GreaterThanEquals(y,z),\n",
    "                                                             GreaterThanEquals(x,z))))\n",
    "greaterThanEqualsTransGreaterThanEqualsRight"
   ]
  },
  {
   "cell_type": "code",
   "execution_count": null,
   "metadata": {},
   "outputs": [],
   "source": [
    "greaterThanEqualsTransGreaterThanLeft = Forall((x,y,z),\n",
    "                                               Implies(GreaterThanEquals(x,y),\n",
    "                                                      Implies(GreaterThan(z,x),\n",
    "                                                             GreaterThan(z,y))))\n",
    "greaterThanEqualsTransGreaterThanLeft"
   ]
  },
  {
   "cell_type": "code",
   "execution_count": null,
   "metadata": {},
   "outputs": [],
   "source": [
    "greaterThanEqualsTransGreaterThanEqualsLeft = Forall((x,y,z),\n",
    "                                               Implies(GreaterThanEquals(x,y),\n",
    "                                                      Implies(GreaterThanEquals(z,x),\n",
    "                                                             GreaterThanEquals(z,y))))\n",
    "greaterThanEqualsTransGreaterThanEqualsLeft"
   ]
  },
  {
   "cell_type": "markdown",
   "metadata": {},
   "source": [
    "These define summation over a discrete continguous set.  Does not assume that addition is commutative or associative."
   ]
  },
  {
   "cell_type": "code",
   "execution_count": null,
   "metadata": {},
   "outputs": [],
   "source": [
    "sumSingle = Forall(f, Forall(a,\n",
    "                              Equals(Summation(x,fx,DiscreteContiguousSet(a,a)),\n",
    "                                     fa),\n",
    "                              domain=Integer))\n",
    "sumSingle"
   ]
  },
  {
   "cell_type": "code",
   "execution_count": null,
   "metadata": {},
   "outputs": [],
   "source": [
    "sumSplitLast = Forall(f, \n",
    "                      Forall([a,b],\n",
    "                             Equals(Summation(x,fx,DiscreteContiguousSet(a,b)),\n",
    "                                    Add(Summation(x,fx,DiscreteContiguousSet(a,subtract(b, one))),\n",
    "                                       fb)),\n",
    "                             domain=Integer, conditions=[LessThan(a, b)]))\n",
    "sumSplitLast"
   ]
  },
  {
   "cell_type": "code",
   "execution_count": null,
   "metadata": {},
   "outputs": [],
   "source": [
    "%end_axioms"
   ]
  },
  {
   "cell_type": "code",
   "execution_count": null,
   "metadata": {},
   "outputs": [],
   "source": []
  }
 ],
 "metadata": {
  "kernelspec": {
   "display_name": "Python 3",
   "language": "python",
   "name": "python3"
  }
 },
 "nbformat": 4,
 "nbformat_minor": 0
}
