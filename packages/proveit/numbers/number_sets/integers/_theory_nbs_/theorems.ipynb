{
 "cells": [
  {
   "cell_type": "markdown",
   "metadata": {},
   "source": [
    "Theorems (or conjectures) for the theory of <a class=\"ProveItLink\" href=\"theory.ipynb\">proveit.numbers.number_sets.integers</a>\n",
    "========"
   ]
  },
  {
   "cell_type": "code",
   "execution_count": 1,
   "metadata": {},
   "outputs": [],
   "source": [
    "import proveit\n",
    "# Prepare this notebook for defining the theorems of a theory:\n",
    "%theorems_notebook # Keep this at the top following 'import proveit'.\n",
    "from proveit import Operation\n",
    "from proveit import a, b, c, d, e, f, g, h, i, m, n, x, y, S, P\n",
    "from proveit.logic import And, Equals, Forall, Implies, in_bool, InSet, NotEquals, ProperSubset\n",
    "from proveit.numbers import zero, one, num, frac\n",
    "from proveit.numbers import Natural, NaturalPos, Integer, Interval, Rational, Real, RealPos, Complex\n",
    "from proveit.numbers import Add, subtract, Greater, GreaterEq, Less, LessEq, LessEqOnlySeq\n",
    "from proveit.numbers import Pzero, Pone, Pm, P_mAddOne, Pn"
   ]
  },
  {
   "cell_type": "code",
   "execution_count": 2,
   "metadata": {},
   "outputs": [
    {
     "name": "stdout",
     "output_type": "stream",
     "text": [
      "Defining theorems for theory 'proveit.numbers.number_sets.integers'\n",
      "Subsequent end-of-cell assignments will define theorems\n",
      "'%end theorems' will finalize the definitions\n"
     ]
    }
   ],
   "source": [
    "%begin theorems"
   ]
  },
  {
   "cell_type": "code",
   "execution_count": 3,
   "metadata": {},
   "outputs": [],
   "source": [
    "# Proven\n",
    "#zero_in_nats = InSet(zero, Natural)"
   ]
  },
  {
   "cell_type": "code",
   "execution_count": 4,
   "metadata": {},
   "outputs": [],
   "source": [
    "# In Progress\n",
    "#successive_nats = Forall(n, InSet(Add(n, one), Natural), domain=Natural)"
   ]
  },
  {
   "cell_type": "code",
   "execution_count": 5,
   "metadata": {},
   "outputs": [],
   "source": [
    "#induction_lemma = Forall(n, Forall(S, Implies(And(InSet(zero, S), Forall(x, InSet(Add(x,one), S), domain=S)), InSet(n, S))), domain=Natural)"
   ]
  },
  {
   "cell_type": "code",
   "execution_count": 6,
   "metadata": {},
   "outputs": [
    {
     "data": {
      "text/plain": [
       "'\\ninduction = Forall(P, Implies(And(Pzero, \\n                                  Forall(m, P_mAddOne, \\n                                         domain=Natural, condition=Pm)), \\n                              Forall(n, Pn, domain=Natural)))\\n'"
      ]
     },
     "execution_count": 6,
     "metadata": {},
     "output_type": "execute_result"
    }
   ],
   "source": [
    "'''\n",
    "induction = Forall(P, Implies(And(Pzero, \n",
    "                                  Forall(m, P_mAddOne, \n",
    "                                         domain=Natural, condition=Pm)), \n",
    "                              Forall(n, Pn, domain=Natural)))\n",
    "'''"
   ]
  },
  {
   "cell_type": "code",
   "execution_count": 7,
   "metadata": {},
   "outputs": [
    {
     "data": {
      "text/plain": [
       "'\\nnat_pos_induction = Forall(P, Implies(And(Pone, \\n                                        Forall(m, P_mAddOne, domain=NaturalPos, \\n                                               condition=Pm)), \\n                                    Forall(n, Pn, domain=NaturalPos)))\\n'"
      ]
     },
     "execution_count": 7,
     "metadata": {},
     "output_type": "execute_result"
    }
   ],
   "source": [
    "'''\n",
    "nat_pos_induction = Forall(P, Implies(And(Pone, \n",
    "                                        Forall(m, P_mAddOne, domain=NaturalPos, \n",
    "                                               condition=Pm)), \n",
    "                                    Forall(n, Pn, domain=NaturalPos)))\n",
    "'''"
   ]
  },
  {
   "cell_type": "code",
   "execution_count": 8,
   "metadata": {},
   "outputs": [
    {
     "data": {
      "text/html": [
       "<strong id=\"in_natural_if_non_neg\"><a class=\"ProveItLink\" href=\"proofs/in_natural_if_non_neg/thm_proof.ipynb\">in_natural_if_non_neg</a> (conjecture without proof):<br></strong> <a class=\"ProveItLink\" href=\"../__pv_it/theorems/da7081e636b6dd3ee5a7192b766612341b591eb30/theorem_expr.ipynb\"><img src=\"data:image/png;base64,iVBORw0KGgoAAAANSUhEUgAAAKcAAAAWBAMAAABXrpEPAAAAMFBMVEX///8QEBCIiIhmZma6urrM\n",
       "zMxUVFQiIiJERETc3Nzu7u6qqqp2dnaYmJgyMjIAAAAcRTyBAAAAAXRSTlMAQObYZgAAAoxJREFU\n",
       "OMutVU1oE1EQ/pLN72Y3ingQRVj8O0gPQUE8KEQEvSjEg6kHJaG0Si5SCpqDCgEDJoqyJxVFWBtQ\n",
       "CWKCIlgQjI0HW0VyEhWEXESsKC14KDk58/YvK7G4wYEls997872Z+eZtgGEs3vn72gw9XXY++yR9\n",
       "MAB7tHzNwMuldEQH3jCw4JP02yDwajgPeREypXmTqyn541RTg9BTmU3AamAWSBqA0vRHGtX73z4U\n",
       "i6KH45cjGUwCd+nU+Xr9hs/qPfuPbbecQlZeYNJkGliuVM77JN3MLduzYz37sqNHIaFlmVSh5kwA\n",
       "1UGR6T+BkRFHEnr26clF9iNOKwp4pWpEqlIz9gu9HIusa18UOrjiHRBxaiuRt4BzlOBGSGJHDC5p\n",
       "xJgg0gQ9UQTtUZaf7+xEdWXa8JLGd2VYnTR6FrAWkHqIauwf+UnWNUnlfJLUD1MFSifq6DhTRwIn\n",
       "7sBLivhuYm1ksMElDZQYgDmSdqY4HrZI490sIbVtXxAyxy/V6iNlnEp4nUZOxwW3/EYLL4Qf6CdV\n",
       "mxQVovJRHaeoM+EekuZk3864pALn33dGzsCUK1SjidMJ7rWk2aSkOOZKplB4QsxSKjyJmlibVuCS\n",
       "Cpws+IMzXWOFt0kfTT2r2Gmb9p33E6HEla6iswLNYB6jlUpFQ2setxxSgdNBV0RPf1nhByn1sa3X\n",
       "t4iXe2WhK0aXKIIHKcmVqgQ29NgnI8JroacdzDmkAsfDsld97zU9dKnYP5O4bzsBPXcYCh8hSWan\n",
       "rUwZr5VFB1LOnA7+oNg2azuhscd7ASoS70++/Zp3SAV+1LpRbSeuugKn5ypxMtxT20o+P9K2xfQV\n",
       "FktD/p18xD+RPqOpqBj4H5YaPvQ3KfStYNRrsO8AAAAASUVORK5CYII=\n",
       "\" style=\"display:inline;vertical-align:middle;\" /></a><br>"
      ],
      "text/plain": [
       "in_natural_if_non_neg: forall_{a in Integer | a >= 0} (a in Natural)"
      ]
     },
     "execution_count": 8,
     "metadata": {},
     "output_type": "execute_result"
    }
   ],
   "source": [
    "in_natural_if_non_neg = Forall(a, InSet(a,Natural), \n",
    "                            domain=Integer, condition=GreaterEq(a, zero))"
   ]
  },
  {
   "cell_type": "code",
   "execution_count": 9,
   "metadata": {},
   "outputs": [
    {
     "data": {
      "text/html": [
       "<strong id=\"in_natural_pos_if_pos\"><a class=\"ProveItLink\" href=\"proofs/in_natural_pos_if_pos/thm_proof.ipynb\">in_natural_pos_if_pos</a> (conjecture without proof):<br></strong> <a class=\"ProveItLink\" href=\"../__pv_it/theorems/719e8bbc54651a3b819f25966c9d35b3942ad4820/theorem_expr.ipynb\"><img src=\"data:image/png;base64,iVBORw0KGgoAAAANSUhEUgAAALcAAAAbBAMAAADMngM5AAAAMFBMVEX///8QEBCIiIhmZma6urrM\n",
       "zMxUVFQiIiJERETc3Nzu7u6qqqp2dnaYmJgyMjIAAAAcRTyBAAAAAXRSTlMAQObYZgAAAtxJREFU\n",
       "SMfNlk1oE0EUx//ZbHabzTYW6SEi1NSDpx6CXkT8CHgRQU0vth4kS7FFPRWh9OBXaA+meFmQYlHE\n",
       "tYUccmhKi4eCh0AuWhVSDyp+QCyIUDTtQUGqB99MsruTpmabgOCDDTNvMr+8efN/bwP8fxaIN1o1\n",
       "6JFah59tuJqiRzZahq96wvGyVbY/6g1XLaDEBh+bhD+06n3aWnoV+p5OGy7FgOfep6y3wlbOtiLd\n",
       "RA5KudxV/gYE14EpcgdTTcJ3b+VURqQofE5acBUI0wn1uebYwQ1x1n5r9AaHn7AGobrwg7S0lM3e\n",
       "bTLw9g5R8mPVC1AmjVlLgHfT8zOdvtasWJgK7hS6OXXWvlzFnA8YAvwMLQwCE1sR6mqwp8e5Otot\n",
       "78Ian1xycm7q8VcCPJkAjkMridcSKYzH3G8wm6zkIh+yiy5Mg0dFllTxe4qJy0ofG5kVvVJ4KqSi\n",
       "LdUnB4qqqU9btfAMP5kah32PKv36MQtXeMq7ymRVeAaf3DBzBNeLqj19u5hFCOcf1EZEcmVHzyUc\n",
       "BYYJHoH2AzUyJngg3ytUGsGDJdaFZvZ9hszTgVhegDM/0H+IUmjiup1zA9pvhNb5pEOA432bC0+y\n",
       "7ExcoISMBDYQruT2fsKFcz/Z6SiS1TwwTAraLyilRTbZ78Bpnz7lwplasDBM4ooFhjHDfdO60H24\n",
       "n9mySYHsrG6TKNoxvDH4EVW7AsNscNSFL7OPHdTifHOSgb50Oh1Ffgn3HDj3k4VWWM6/V7fJdJrM\n",
       "3nMDXK3axZOVYroZYap34VxM7RR+zmx7Zyl84+Minjlw7ifnV0tUCzpF/ctPK+W/2Vbsgc9MnoLO\n",
       "ku33Qx52I2d+BMYt1kIdnePwNspYc0KRB+aPALdp9HroxRfDgXN/cIhXRY/baHu304A2vecklvOa\n",
       "1wm3/kRdd91GG1UTXu+qvx255A3/gBbhWPDu+Q33xxothuKebdn6x3+d/gCiBbZ60yLxBgAAAABJ\n",
       "RU5ErkJggg==\n",
       "\" style=\"display:inline;vertical-align:middle;\" /></a><br>"
      ],
      "text/plain": [
       "in_natural_pos_if_pos: forall_{a in Integer | a > 0} (a in NaturalPos)"
      ]
     },
     "execution_count": 9,
     "metadata": {},
     "output_type": "execute_result"
    }
   ],
   "source": [
    "in_natural_pos_if_pos = Forall(a, InSet(a,NaturalPos), \n",
    "                            domain=Integer, condition=Greater(a, zero))"
   ]
  },
  {
   "cell_type": "code",
   "execution_count": 10,
   "metadata": {},
   "outputs": [],
   "source": [
    "# moved to sets.natural._theorems_\n",
    "# interval_is_nat = Forall((a, b), Forall(n, InSet(n, Natural), \n",
    "#                                        domain=Interval(a, b)), domain=Natural)"
   ]
  },
  {
   "cell_type": "code",
   "execution_count": 11,
   "metadata": {},
   "outputs": [
    {
     "data": {
      "text/html": [
       "<strong id=\"interval_in_nat_pos\"><a class=\"ProveItLink\" href=\"proofs/interval_in_nat_pos/thm_proof.ipynb\">interval_in_nat_pos</a> (conjecture without proof):<br></strong> <a class=\"ProveItLink\" href=\"../__pv_it/theorems/844909ede3e35aa404b4f11936817c735afae5ee0/theorem_expr.ipynb\"><img src=\"data:image/png;base64,iVBORw0KGgoAAAANSUhEUgAAATIAAAAbBAMAAAANPB68AAAAMFBMVEX///8QEBCIiIhmZma6urrM\n",
       "zMxUVFQiIiJERETc3Nzu7u6qqqp2dnaYmJgyMjIAAAAcRTyBAAAAAXRSTlMAQObYZgAABFpJREFU\n",
       "WMPdl29oHEUUwN/tv/u3mwTxQ8+irgbywUY42g9CoXIgRMFaN6WYfqjkEFuthhIs6UGtGojYbUU4\n",
       "Cq1HRbtNocX7kBxVPwiiC/lka2XrnxJaC9eKCq1eS0nB5FPfzOzNzPaO3OYKKi7M7e2+fW9+8+bN\n",
       "ezMA/8frlVJ5xTpblhcXsdnYtNK+eyEbX7mKXlxePoltiP478g+T9Xidyczg3yBbC53JYC8jq5Pb\n",
       "5S7JesjNCmJrpJfavc3ccK+B+fD9TbJ+RnaW3K51SWbWYsyQdJn5tq9TwQsAs2A0Gg81/gI4xsgq\n",
       "ZCiTXZJRxUp8jUSt7WtjQrEhwWczWaNkZMRmrds4I84+G1/jWNS986USDSbjGW87JDmZOknJrDPV\n",
       "6oddr4BfqtVPV7AQzkeetj7W9Nnh4ownyJQ+tjb/dt19XZP1uu5+P77Gk9g27jzUb9PA59FtlE/r\n",
       "RUGmLTGy7QAHmp9ojbttaXe/GByUyQwHUtFCsC2yUonBzSJWXGy+a2cWGY8gMws/CDL9NiN7CjJ1\n",
       "rjrX/HbV3BRdRykuOkx/LT9blMi0PMxE88ID0YEQg2P86XfstvY2pG9HTSPja8YI+Udh0wuMLAmK\n",
       "GOZ14uWv1gXJsjntRdVPUs8mC7AkZ9pxeJynJdSDbD1KRgx+zZ9241eZBbBukofhBl71kOwkXBH5\n",
       "LSQzg6QwRNw8/2UVsvDixxAlg8pO/Jl1YLVMdk5UAqLXQrYYIfsVW/YmGPSjiuwz3R8Wfg/J0nVM\n",
       "c3Bi4Dcyw7cGPI1lw7wvkTHp1vUAo2V4Syb7hNToH39+NA9Mj5Bl1u5ymhUcDUpk75GcUIfegMxH\n",
       "QiaDS8IH+mJYNw+8jMYmdDJJyl4l38Pi6SNHkIVS2GTDqAdvyGSpIwWAnx6EHKtUlOyUM9rMW8Sg\n",
       "RPYqAfLhG48MW7U5GfZlChc21yZ8hj2oeZ32Y1v1E1Q6bYIgC6WYj8ros/tksuwT6PXpcQw+pmdg\n",
       "n+tghNcdNAjH+SJ8hGTbAnxv0WG/yXcgtTCjsMsK8xn02qRsKGTJJQpqccR1XRv8M3CUk4VSyF4l\n",
       "cbYQ2WvcIji21gdUT5/Cx9UwwMsRGgSd58vn0ZdPY6+X2Jp6l7lWf2cV/oo1HtYARET5bDl1EW+9\n",
       "XqJmUId+EcC3nCyUan96LWsTLpL+HdV3jKbPMFt9UA0/IQYlnyUKkeWxcX+p3m4TZ0v7s0R59Dmo\n",
       "eElvHkziaVUFbVz4jEhBn0I6JR/JZ2E5hOSzDtWjcZbTF4L0QTSXPkgMSnGmxqoXs55Epr10egMM\n",
       "1/QxVH0fny/s+O6PIiej0vQOOvTBudad4xAo55geJRta0x/oORgu6zlqUJDpfXHILrTuaVkZUUic\n",
       "8RAW9dfpsKeletk20yPI4PU4ZBMtZNk2R6HUCnfbHchmYoBZfguZBfdOlsm1vhuTwPOdySrxzk7q\n",
       "MrJSu/PmoZZTwTZ5X/p5Z7L19Ly55797zr4D+Jc3KSqOvP4AAAAASUVORK5CYII=\n",
       "\" style=\"display:inline;vertical-align:middle;\" /></a><br>"
      ],
      "text/plain": [
       "interval_in_nat_pos: forall_{a, b in Integer | a > 0} [forall_{n in {a...b}} (n in NaturalPos)]"
      ]
     },
     "execution_count": 11,
     "metadata": {},
     "output_type": "execute_result"
    }
   ],
   "source": [
    "interval_in_nat_pos = Forall((a, b), Forall(n, InSet(n, NaturalPos), \n",
    "                                          domain=Interval(a, b)), \n",
    "                           domain=Integer, condition=Greater(a, zero))"
   ]
  },
  {
   "cell_type": "code",
   "execution_count": 12,
   "metadata": {},
   "outputs": [
    {
     "data": {
      "text/html": [
       "<strong id=\"all_in_negative_interval_are_negative\"><a class=\"ProveItLink\" href=\"proofs/all_in_negative_interval_are_negative/thm_proof.ipynb\">all_in_negative_interval_are_negative</a> (conjecture without proof):<br></strong> <a class=\"ProveItLink\" href=\"../__pv_it/theorems/4895510dc2f31253352a4b61595838df55c643400/theorem_expr.ipynb\"><img src=\"data:image/png;base64,iVBORw0KGgoAAAANSUhEUgAAAR0AAAAZBAMAAAD+oufqAAAAMFBMVEX///8QEBCIiIhmZma6urrM\n",
       "zMxUVFQiIiJERETc3Nzu7u6qqqp2dnaYmJgyMjIAAAAcRTyBAAAAAXRSTlMAQObYZgAABBBJREFU\n",
       "SMfll1GIG0UYx/9JdpPNJnu5hz40aiHcwfWhFJYWWoUqAaEFRUlfeoLKBVGpUkselMO2D6VFTZTC\n",
       "4kM9Fb31+lANpRcUK4JosKh4vcqCrZZSax5aRAUfjha8VMHvm8nuzibXNJf2zYHM7szuf+c333zf\n",
       "NxNg6JKcfhl3tuyYbt6GOoU7XtLl/zdP2rvpo4wjeVrc+GU4nhG+WN7gkg9X7s5u/AZ4TvKc4Y4/\n",
       "huPJNugy4g4u+X3l7j9x3MFJyTPDl4PD8QjdzOAKy+7u+bLE3aPItpAtCB6enpjnMP7Ddj2zCoXT\n",
       "1fHzfVwbZWTaMEcFj7VQr781rD9fqtc/qgyu6B5n/YK45MrQbgBXZHz9Xa0eGJYnV62+tooUNg5o\n",
       "3749tkm2zO8K8mbehrYEnJY8zwA1X6D91f0JTdSPtvx2/OumwpMswYiuwRPRaCOhviFoHSHXMA5h\n",
       "XkjMrf6rs03oxHNZ8jwIMxiNGeVesPb0YeF8hgzIjiM+hEs4pfBotggLJcHc1RXJJEwGM9gPPJ5q\n",
       "YZadGHsDp521of8DfCZ5Uoh7SuQR+BebvZSTnXNDnhGpfayMF5FzlXxYwUZfyjJkWlEeFoZ9awB3\n",
       "vohfxeshT2e9piRP1lMS7TL9LnxeRwZPvoeQJycsfLQG8zpiDYXnLAJ3ZlkPDwsjPPiKLCNNGawX\n",
       "+XPmRsCTbu2ivmMTV6nWlyZcTa6N3VR4psaep1deoReWkfIUnvd1+sKP58dsSBmPbW7aW/IJWBjy\n",
       "0HrhAeBfM+rPxkFYbdrdO/tX7Wl69pLeZm/dF7dHZOp6t6TwrHfHceIKA7eRKig8xtEicG4d8nLv\n",
       "EGMfL00FKZuFIQ/5M+6hXJONxrvMh74/4xMyecLW2fBGwWodE+/MdTSS5xAu6+v4huwTU3kyW+kj\n",
       "cxW0IWXsu5sxGawXCWHmlWhJX6Oxz0fzIdntA5r9tg5PjgaINeJ8GysmypPVarWA5gLeCXnWYAt+\n",
       "KLKNryNXVPf3JYYoaKMQMv0wNe/GBEKP2QJM+gFGK6JVkH6hEd0vcGKMkg6udngssu68Y1ykS86N\n",
       "NZIi7Xzq4fuQp02DmPeytiu+cJFnUUo0S0nfPuYyjtT98YQwf9P9Qi1mRTn/xJypRzDjptwLyPKw\n",
       "iQTPJODZZ9HOmd7tcIo91XP+mUXq4ZKQCV/J69e89Ov0NapYGPpP736qpqqCwqM99fH92NnQ95Bp\n",
       "36D2T88u/lYOeXYtigh91UF80e7h2Y74WSkTY2/fMO7peex0qGKhkgNqfXhO9p4P5brG2X/8YqjP\n",
       "9Vqf86GQdecfn7H/eSxgjfJkVlheY3Xn1Vvw9DmvWk4Pj4Xb5gl9V/lfNPgJ4Nbn+UQfnpX+f73Z\n",
       "YwF98APbjunyf4PSDpzGgpr1AAAAAElFTkSuQmCC\n",
       "\" style=\"display:inline;vertical-align:middle;\" /></a><br>"
      ],
      "text/plain": [
       "all_in_negative_interval_are_negative: forall_{a, b in Integer | b < 0} [forall_{n in {a...b}} (n < 0)]"
      ]
     },
     "execution_count": 12,
     "metadata": {},
     "output_type": "execute_result"
    }
   ],
   "source": [
    "all_in_negative_interval_are_negative = Forall((a, b), Forall(n, Less(n, zero), \n",
    "                                                         domain=Interval(a, b)), \n",
    "                                          domain=Integer, condition=Less(b, zero))"
   ]
  },
  {
   "cell_type": "code",
   "execution_count": 13,
   "metadata": {},
   "outputs": [
    {
     "data": {
      "text/html": [
       "<strong id=\"all_in_positive_interval_are_positive\"><a class=\"ProveItLink\" href=\"proofs/all_in_positive_interval_are_positive/thm_proof.ipynb\">all_in_positive_interval_are_positive</a> (conjecture without proof):<br></strong> <a class=\"ProveItLink\" href=\"../__pv_it/theorems/68ebf1a972aadbbf5076cf9908e0ecc2033415930/theorem_expr.ipynb\"><img src=\"data:image/png;base64,iVBORw0KGgoAAAANSUhEUgAAAR8AAAAZBAMAAAD6VzfXAAAAMFBMVEX///8QEBCIiIhmZma6urrM\n",
       "zMxUVFQiIiJERETc3Nzu7u6qqqp2dnaYmJgyMjIAAAAcRTyBAAAAAXRSTlMAQObYZgAAA/hJREFU\n",
       "SMfll12IE1cUx/9JZjKTyWSzDz4YPyCssC9FGPShIFoWBH0QJfqggpYN0haFVYK1LFUfpIsaFWHw\n",
       "QVdFd1wf1CBuqGgpiA1dFFwVAn4gojWUqlVpHxYL3VXBc+9NZu5k4pqN++ZAcu/cnHPmN+f+77k3\n",
       "QOtXtPdHTO21tLf0Ke4apvyKZT93oFj5gz/FbQFUYTePWwRqY02i3LzL2cbD5txrwCYBdJMNvGwR\n",
       "yCxS0+Y07/Ki8fArnLFxQQD1s2ZXi0Dcsb95j4Tl9Y1/vOF2mBWYaQ7E3o+/aEsaYqm9OQkPW7o5\n",
       "v7XW07OIj8No50CJkULhSMuiflQonMs17+F/UHhndbKTWShvgL/EKvs/n9/ZMlAyn987iVo2B1Cu\n",
       "H+2YV5uq7wXRkAVlFBgWQN8C+2oOyr/1IZT6gfDvJQkomoFu+35f71tzLOAqTxAHSR76TxiqucSf\n",
       "8d5ACSoB/SGAFsOouB7DtV1h+nAfF6DulZAMbx7hsgSkWHxxSIVmhp+fBexx73YA67QKBjIu8DOW\n",
       "owEL6lvgFwGkIVyW1h/J/8r8smabg44fyNjI32Ybko5UGHOY6xqQH+KV+gUNXHXvpgHOUBeeeBn8\n",
       "2/GmrFsAmWWp4o7R58GvBcTx9Qn4gRDbQ0TGfwgVJaDbcDXN/AJAY/VA+A3YAv+Ukajjb1ygWGU1\n",
       "jZ3ufErf6mino4haYZUkIGPeFsqy2udAHYNWloBOqhTizr0OC8KPAQlrfrGAEhBNGb4C3hl+Ueu7\n",
       "kBinvb66l+37hmL8oI4zxW4PW23C9nhGAjqT6Wauyp8gMy0tAemHu4C7s5ES2wgHqlqjGlACIlFj\n",
       "FtUc07/sRWGsiRoXKekRS2Wp19OJymluM2hCApqPNcIzRRkKyUDxLynKYA7jEH7RkmddDYhTtiTx\n",
       "2Gt6+D1/YaTMnaL3X1gFStIDQsUw64a6Itk1+Xw+jdIIjnlAM9HJ26tp0lCyS97tRxlFWmkH91P7\n",
       "JOtqQKhunaNJUXKIbS76tw6c76Dig6dVoAQlbsjWH1KTdELFKFf/pTJuuEDGGA6SYLFiJLDK8JA9\n",
       "NhMpZaK1DNWsuVwpoJQhzZ6gaho56TwUsruXo9/RnAcwmXgiEfYqboZS6mtS8toFvNheDpyHBqAt\n",
       "y3A/riFmHdtP4WL7WUBJQ/LmGjyDpCUgZcPPi7CyqPaQBA7Q/f3vbj3PekBLvphTxuFNXIm3rADQ\n",
       "EoRvCz8OxKzVFFbaaooH9IC8PaHBdSF4YhQFJsw05KrS7am7P3Ji5H71dQi+OvShA5oL6weKN5hh\n",
       "fZJH2I8ATXCETdgBoAQ+HchIBcd6pvKQH5kIqNH/skOBHKxv/vi3tDf7HjUyEuHcDIG0AAAAAElF\n",
       "TkSuQmCC\n",
       "\" style=\"display:inline;vertical-align:middle;\" /></a><br>"
      ],
      "text/plain": [
       "all_in_positive_interval_are_positive: forall_{a, b in Integer | a > 0} [forall_{n in {a...b}} (n > 0)]"
      ]
     },
     "execution_count": 13,
     "metadata": {},
     "output_type": "execute_result"
    }
   ],
   "source": [
    "all_in_positive_interval_are_positive = Forall((a, b), Forall(n, Greater(n, zero), \n",
    "                                                         domain=Interval(a, b)), \n",
    "                                          domain=Integer, condition=Greater(a, zero))"
   ]
  },
  {
   "cell_type": "code",
   "execution_count": 14,
   "metadata": {},
   "outputs": [
    {
     "data": {
      "text/html": [
       "<strong id=\"interval_lower_bound\"><a class=\"ProveItLink\" href=\"proofs/interval_lower_bound/thm_proof.ipynb\">interval_lower_bound</a> (conjecture without proof):<br></strong> <a class=\"ProveItLink\" href=\"../__pv_it/theorems/e46abef26bbd976fe8d99695feb4e2126c1bdcca0/theorem_expr.ipynb\"><img src=\"data:image/png;base64,iVBORw0KGgoAAAANSUhEUgAAAO4AAAAZBAMAAADEVw+wAAAAMFBMVEX///8QEBCIiIhmZma6urrM\n",
       "zMxUVFQiIiJERETc3Nzu7u6qqqp2dnaYmJgyMjIAAAAcRTyBAAAAAXRSTlMAQObYZgAAA4RJREFU\n",
       "SMfdlktoE0EYx79ks3ltNvHgwVQKodF6EGFpQS8KEaEefLC9tB6UhmIFRUoptMFapVjErVJYKsSi\n",
       "aNf2UA3SBMVDQXBpT/YhCz6o9cGCL1SQUipoTs7Mdp9pkxV6ciA7++03md/M9/3nAVCx+DPnYGOL\n",
       "L9ProlUANr5k/y9uSFnfN6lxVVy9L8+N4opV3HPvlZOLSLiz+P17eW6kgKqo5J77zWF7u8z3sEq4\n",
       "wzgsfeW5xD/sHstydvtBp9WaIlw8DTKfcvnF8Zh1zw2INvP6BZt5l3DZmVzuRiVdvcvl7ne459r7\n",
       "y/6we6MpouffgtBbiRsThCuye24S525vXRUxjn3SPx8+PZRMoOhyhNsGMGBsJD/X5vp5CNpjd9yu\n",
       "7qMq0DsNaxD99ovRJfwevGx8loVE+A/Kvkq4BzSFaWVaF/uW6X7O5Po4mLAv0Cr72PAc/EZEziPV\n",
       "VgNF1Ort1NcBXbgIoV8ATAfhBsBrjh2nIvykXgmIkVHJsm90wC5jHSA3MKojZ0iZ5rfNAFQRAglN\n",
       "3L2rHYXDK8CiGNBLhBtRLBsSCgMsTOaAgRO3rfvVPBiywu4Sbkx0cD19kOc1i/m4miJmCfyqwQ2p\n",
       "TejbWO1nHIrlWsmnxZeTrdw7dBrgxasaDjQ3ZoTr2nm9TUvNGQsXxTkvw1NDNV+0dpQKMUUCnxZn\n",
       "GDiJ+uiiizgZPV4uqkXnFm/lBrNI/C+rIa7tmYQxzrcYW9gOKWnhIl3lC9DO6FKkhRSuPGgskqzr\n",
       "Ch4hPsXROJDBBKuOkaajEdu5wOxBgRntgCJobqyhemg22lyCDxCOW9SJeuo2uwi14edICp6zPFCy\n",
       "xo2h/HsK3jQeUYpKNwuCkAB5Bm5az6NlDEv4NgFx0/3I3Aq1YGZ0N0CznpqDKICt27PbHAsSfc6+\n",
       "RRrkNS6LopUXg4uoikmegp+k5LECz6zcRTwqnpJ5vz5ftBQHc3qXRTQKc76OfdJRxi3nr0dsOQLD\n",
       "UkBagAhOLEWR9NvP3xEIHOKJm+QyTq8ooavoX+jRw/ZZ8us8F+xlysL1tT7cB40F+iwK1TVkvz41\n",
       "9zXt5DaAd15zE0bDzqRCx6FRRI+mOdvaGjApExlcSs9Ba9GOJS/O7/r3DeJ2rl99LC7O/aDo5DKi\n",
       "63tOBW65e86bkvsV6/5+ZWrIcoH5hxPL1b1urfvzUMmMaPcXA1+m+y/iEPBL8FLaIAAAAABJRU5E\n",
       "rkJggg==\n",
       "\" style=\"display:inline;vertical-align:middle;\" /></a><br>"
      ],
      "text/plain": [
       "interval_lower_bound: forall_{a, b in Integer} [forall_{n in {a...b}} (a <= n)]"
      ]
     },
     "execution_count": 14,
     "metadata": {},
     "output_type": "execute_result"
    }
   ],
   "source": [
    "interval_lower_bound = Forall((a, b), Forall(n, LessEq(a, n), domain=Interval(a, b)), \n",
    "                            domain=Integer)"
   ]
  },
  {
   "cell_type": "code",
   "execution_count": 15,
   "metadata": {},
   "outputs": [
    {
     "data": {
      "text/html": [
       "<strong id=\"interval_upper_bound\"><a class=\"ProveItLink\" href=\"proofs/interval_upper_bound/thm_proof.ipynb\">interval_upper_bound</a> (conjecture without proof):<br></strong> <a class=\"ProveItLink\" href=\"../__pv_it/theorems/2d7a90dbce21b68af8311e4897acba3173dcb45f0/theorem_expr.ipynb\"><img src=\"data:image/png;base64,iVBORw0KGgoAAAANSUhEUgAAAOwAAAAZBAMAAADAot+NAAAAMFBMVEX///8QEBCIiIhmZma6urrM\n",
       "zMxUVFQiIiJERETc3Nzu7u6qqqp2dnaYmJgyMjIAAAAcRTyBAAAAAXRSTlMAQObYZgAAA49JREFU\n",
       "SMfdlk9IFHEUx7/u7uz/Px06ZCUsCgpJMCgkEdVCYIcox4sGFUpUhyjZS0nmwTRoLYyhg1lRTnqw\n",
       "9tAuRQchalFI8g8MlGXSn7mUVBAhHlIo+v1+szM7M6u7c/DUD3Z++3tvZj7v996b93tA0eFuv4B1\n",
       "Ha72Tht3ebDuo/+/wvrkNVWjKlah08fC2DCdQrJ97INVpf5LcZIpIsNOUcH3wthgmkxhyT72m1VQ\n",
       "JdBrmCdshWEHqE+6CmOZfsA+NcRbtjkRZXOEmj/GsHQTbDeFYku9MWUf6xHNka7LxqeBOuw+w4Ym\n",
       "k8mbxVLqQzL5MG4fa36fr03b1QTzdIxl8u9EorMYNpJIXMnYx1aQkvDyVnkNW3DXY5r8a/ku4lqe\n",
       "YU8CvXr9+Lk61i3Aa3bcUXNeH1LAVeurPvJybzdS7JGEoIf4r0REIYVh96nJpY5xrSBuGu/hc1gX\n",
       "j0dmx202m0a34Nb9cRE44lEwyIBV2zRxYAWRKAJxhvXAkbP8BzXqWa3sEYNDkqFcxLFdt5moEVDM\n",
       "2DAJX062EZBSMXxWV+8ms2KnglQG3C+GDcqGMrRMfnOjSQRw7K6xSs1AzyiqzsNGRAsWL4C27PL5\n",
       "zqxtPBrSGtanNBHRcOUXGv7FSsmlOpfPGLH3uFbg9Ww5D1VNEf6aNj1sLeWnDVjiZOwB/vi1yJ9U\n",
       "bZOxV4JLdTJ6T5BXnONWyF9Hh4MPq1/8HcGI9faTdHxThlK1UDLEiNCiF64qqcKAJSmFrSSUQU1w\n",
       "+DLDxvxl0FIKTwjeyXPUi95oSBlmNw4FTUdBoI64ZSiOFahqmj61aNbv6cYn+EsNielbQlCZzR05\n",
       "dBNu2Utc5cyoWJJdKEk7iBdREnO2NicSiSgyk7htPIEW6WNR1wYwNddDlltQiVw0dwDNWlz2g7rS\n",
       "d9ZS/Pw1MzTCgooNEVelRO88mSJSSdrNPuCnMl4ZsfPUKMGZEdzabv3L6Etqb1whRuR2aymO5jFi\n",
       "OG9LxJaDGJA80hyC1B9OJwu9+bwdhOeAwNQsjqXckuy7Sp4il45QlyG21qPANMYMWNfxx7vRmObO\n",
       "ED9dI+u3p6YXWq3YejhmVDVD1FdXyFwpGkVyaZo2fVS9Bs8utNORK1VKXnehxsJBY7t2d8HU1u9W\n",
       "M6XgMc+GV7RiA6LtpqYItkBT8z6vlwrZ76Vy6WNobO2fUbZauNX65Bt5++Fs9wGu9vP/AGmJ8KR+\n",
       "ZgTjAAAAAElFTkSuQmCC\n",
       "\" style=\"display:inline;vertical-align:middle;\" /></a><br>"
      ],
      "text/plain": [
       "interval_upper_bound: forall_{a, b in Integer} [forall_{n in {a...b}} (n <= b)]"
      ]
     },
     "execution_count": 15,
     "metadata": {},
     "output_type": "execute_result"
    }
   ],
   "source": [
    "interval_upper_bound = Forall((a, b), Forall(n, LessEq(n, b), domain=Interval(a, b)), \n",
    "                            domain=Integer)"
   ]
  },
  {
   "cell_type": "code",
   "execution_count": 16,
   "metadata": {},
   "outputs": [
    {
     "data": {
      "text/html": [
       "<strong id=\"in_interval\"><a class=\"ProveItLink\" href=\"proofs/in_interval/thm_proof.ipynb\">in_interval</a> (conjecture without proof):<br></strong> <a class=\"ProveItLink\" href=\"../__pv_it/theorems/bd21e51aa5521de7210600dfa79e47e9334b454b0/theorem_expr.ipynb\"><img src=\"data:image/png;base64,iVBORw0KGgoAAAANSUhEUgAAARMAAAAXBAMAAADaYbYpAAAAMFBMVEX///8QEBCIiIhmZma6urrM\n",
       "zMxUVFQiIiJERETc3Nzu7u6qqqp2dnaYmJgyMjIAAAAcRTyBAAAAAXRSTlMAQObYZgAAA5RJREFU\n",
       "SMe9VltoE0EUPXk1ySYx/VBQfFBbsCIioYIUtJriR0HxDaKItBYVFRURn61IDYKpVVjww8ePI4KK\n",
       "iomKoH5oaVGLL/ZHtIIaFAXfRRS0PvDe2c3upkmaFqLzMXtn7tmZMzPn3hngf5RQTT/ORRP+yZx+\n",
       "LVev8qHfn2rnA9fom+LGs2JROZN7U3rywJU9m6h2EYcSFbjHXe+KReVtzt7gpnz4IRHDrRCdI7yt\n",
       "LcXSRGSQVMLJtLuDeAmyk0Wi4lUziO3bvrsAlXki7T5B+Ltnzx4u1vlkDOSJiYK7csd0D4kC3+Px\n",
       "XcWiUgG4bx8tr5KNCyLjgA51jhVZP7wpn0ruUsbQ2a4CWtMe96d8k0T7ITA3lbYO0pC+GBLynNaa\n",
       "gBICuEfgc3YE/RGElQEWIsxMqV6jdPbBrjhQPVkamcK+apmBFrkgvTQDy7wpHJ+f+ctFap/QUJ1F\n",
       "JdCLcBnwik3aOS+cVl56b8Od66zBTtydkE3lRpk12Es6ZlP1QwGRiOKFlMqYT1TYWrKTqhkCm7Oo\n",
       "UEZJtNOukcdDWxPUvJbvh03/bccEkp5uLYvKc4t66CNHpGqjgpvARmRmCE6nw6F8y5VW5tE63kCn\n",
       "4k8tJuvkuNfc/jJO8I2xsIIPTvIOwkZFoiZpSGOczAT15eusA8J04LfCjVJLKy1QfiGQnXPDGu+W\n",
       "1Iqbpd26kvSz1dNLprPJSeceqtUcqn4joPuKjYpE1cnjkBh3s/RVigpLthhFCpD8q+wpTvlJ4r2W\n",
       "RSWqjDYiiGWLy8THFfEwK18Z9xyrRFgoUotKWbuNikSd38umjumSgRXDc0v1/q8Iph7JfJe0B3MM\n",
       "jxvaOWZgVAm+eTRfxIh1F0/EGnYknQ1kOqIu/jSiFp4d8XgMwaDwC5OKjjrfBgMDpSspFTLFmLNO\n",
       "brR/gyShrJllo3KqfGkjE98Go/LSUErVAzPFcdSFaK6E6ntKn7Bw8CjDMM0D5oTZyxFUTSoGyvk+\n",
       "jSHhEL4XI3MmfndXwcRvuU+nWw61fg6OCK94QrW/B1uu4Bb3RyK8UnNXGKXHjY7Rw6kp1FLgOiwt\n",
       "TKXDXEDjpRosSHrWt1PtbsBEDT5ab2j1+ofbLCoSJbOJ0DFcrmPxfXPU1sG9V8zsYk+zsiRtNTCe\n",
       "tGKWAT4jcj+dUOAVRxryqZlpWLXqvmWAVHI/KBEo+Lbt7rOPtjo/latxKvodG2BzP/5zifz7Kf4C\n",
       "hR4AiBCu2joAAAAASUVORK5CYII=\n",
       "\" style=\"display:inline;vertical-align:middle;\" /></a><br>"
      ],
      "text/plain": [
       "in_interval: forall_{a, b, n in Integer | a <= n <= b} (n in {a...b})"
      ]
     },
     "execution_count": 16,
     "metadata": {},
     "output_type": "execute_result"
    }
   ],
   "source": [
    "in_interval = Forall((a, b, n), InSet(n, Interval(a, b)), domain=Integer, \n",
    "                    conditions=[LessEqOnlySeq(a, n, b)])"
   ]
  },
  {
   "cell_type": "code",
   "execution_count": 17,
   "metadata": {},
   "outputs": [],
   "source": [
    "# nat_within_int = Forall(a,InSet(a,Integer),domain = Natural)"
   ]
  },
  {
   "cell_type": "code",
   "execution_count": 18,
   "metadata": {},
   "outputs": [],
   "source": [
    "# nat_within_real = Forall(a,InSet(a,Real),domain = Natural)"
   ]
  },
  {
   "cell_type": "code",
   "execution_count": 19,
   "metadata": {},
   "outputs": [],
   "source": [
    "# nat_within_complex = Forall(a,InSet(a,Complex),domain = Natural)"
   ]
  },
  {
   "cell_type": "code",
   "execution_count": 20,
   "metadata": {},
   "outputs": [],
   "source": [
    "# nats_pos_in_natural = Forall(a,InSet(a,Natural),domain = NaturalPos)"
   ]
  },
  {
   "cell_type": "code",
   "execution_count": 21,
   "metadata": {},
   "outputs": [],
   "source": [
    "# nats_pos_in_integer = Forall(a,InSet(a,Integer),domain = NaturalPos)"
   ]
  },
  {
   "cell_type": "code",
   "execution_count": 22,
   "metadata": {},
   "outputs": [],
   "source": [
    "# nat_pos_within_real_pos = Forall(a,InSet(a,RealPos),domain = NaturalPos)"
   ]
  },
  {
   "cell_type": "code",
   "execution_count": 23,
   "metadata": {},
   "outputs": [],
   "source": [
    "# nat_pos_within_real = Forall(a,InSet(a,Real),domain = NaturalPos)"
   ]
  },
  {
   "cell_type": "code",
   "execution_count": 24,
   "metadata": {},
   "outputs": [],
   "source": [
    "# nat_pos_within_complex = Forall(a,InSet(a,Complex),domain = NaturalPos)"
   ]
  },
  {
   "cell_type": "code",
   "execution_count": 25,
   "metadata": {},
   "outputs": [],
   "source": [
    "# moved to sets.natural._theorems_\n",
    "# natural_lower_bound = Forall(n, GreaterEq(n, zero), domain=Natural)"
   ]
  },
  {
   "cell_type": "code",
   "execution_count": 26,
   "metadata": {},
   "outputs": [],
   "source": [
    "# moved to sets.natural._theorems_\n",
    "# natural_pos_lower_bound = Forall(n, GreaterEq(n, one), domain=NaturalPos)"
   ]
  },
  {
   "cell_type": "code",
   "execution_count": 27,
   "metadata": {},
   "outputs": [],
   "source": [
    "# moved to sets.natural._theorems_\n",
    "# proven\n",
    "# non_zero_if_is_nat_pos = Forall(\n",
    "#         n,\n",
    "#         NotEquals(n, zero),\n",
    "#         domain=NaturalPos)"
   ]
  },
  {
   "cell_type": "code",
   "execution_count": 28,
   "metadata": {},
   "outputs": [
    {
     "data": {
      "text/html": [
       "<strong id=\"interval_is_int\"><a class=\"ProveItLink\" href=\"proofs/interval_is_int/thm_proof.ipynb\">interval_is_int</a> (conjecture without proof):<br></strong> <a class=\"ProveItLink\" href=\"../__pv_it/theorems/ba96e1d1ae3aea08ce5a505b26343b8d135f96340/theorem_expr.ipynb\"><img src=\"data:image/png;base64,iVBORw0KGgoAAAANSUhEUgAAAO8AAAAZBAMAAAArlWSOAAAAMFBMVEX///8QEBCIiIhmZma6urrM\n",
       "zMxUVFQiIiJERETc3Nzu7u6qqqp2dnaYmJgyMjIAAAAcRTyBAAAAAXRSTlMAQObYZgAAA3JJREFU\n",
       "SMfdVl1IFFEUPruzszs7O+P6UKT00JCg0Q8sBD0pKD34YqE9qC/hIBkYBgbFlkWIBo0KMfVgYkiT\n",
       "QoSBDYVEELaw9ZBaDAQhRjFBEhSIRUH51P3ZvXtnd91R8KnzsLvn3u/sd+75ufcA+Eo4eQm2WRqT\n",
       "qU2gIrD9EtX/N+KJjbdiJiV2sfLRh9gf5BW5v8hi6NyP1V2fHeimxAt47ZsPsT/IK2VmkcXgYDO4\n",
       "EsAMJR7DX/0+xP4gr7wrtiikQLFfAigaIS6z0E/bh9gf5BVv/y0lkzhXggWjYgLloZwQq/PT07f9\n",
       "issf5K3ZXl5r389+DkvoBPCFVvUfw7jiW9W+IG820bmaum9VaaTQcrWhaqRA05S4C2CIFd7qBsQ8\n",
       "iIj4xqMed0E8wDTJAUgZmvyXXHy5QntAq/0TJT4Kssu20tlrsiI9mOCIPSAsNy2PqiBwmF2DERtE\n",
       "+ypEfxMvcqgu6sRTShyBoMO2vuPYPD/sRExl0uKIedDDdB3AXF7/oMqLMdcC9SDLv0Bdw0rLKhKy\n",
       "FUo0ke0OSqw43NWEg7P0bBpicHKCDzUHUkfGrQLiuJlHDLE1CJOFsZx3gCI9z4ijbitanKpewZn7\n",
       "WW2FaIgTKZ6YgNS6E1U46ljmmA09xN4zHDEKNQguxB0ctAAjXlCQQ6iXGjN39dApFN4L4joux75g\n",
       "ooye606z567GILXBCZj0+sTEGRsiNVYVR4yLK5CCFxZ2XtDYwzCKtHJWXPAEdZ2QEHHvSZrqThHU\n",
       "pOJ9JDBovAbilkwD0sNsiAygf5Mr+VK7Ww9vVeL85aw71jDIZ1G0azPEceRSwA7qJDmC3mYYhgap\n",
       "eRjniTEIOqEBxIuGMQDtCWZDZAccAWjLZifUS+I5+oFo96/RMm24UWHsqUCGKxliFa0/MqVl9BW3\n",
       "AnaYmM468JonxiDYCbUi6NkTZ2yIrMNu7sR5V2bT9STfi3Iv9x4HzI5jMGZFrCVQcHwEgbjtfY+j\n",
       "a3B+Fl5lc5yxiQ6jjz61n8tx8UeCJULjiEOdj+ugxRZ7ULRGkP7+9OJXPZ84pMNBByQ7Q0xtTLES\n",
       "fbQu8u0EklmCeKZwAqHvTxDnuMQEsg/lOL+PyWjhlh4EsjJUQBwzNz/6lCYuNfqoZgGxuoWZ616h\n",
       "k+HUFh7OTQ17xebq6KH8FXFhK3O1/g9gvPW9p7669gAAAABJRU5ErkJggg==\n",
       "\" style=\"display:inline;vertical-align:middle;\" /></a><br>"
      ],
      "text/plain": [
       "interval_is_int: forall_{a, b in Integer} [forall_{n in {a...b}} (n in Integer)]"
      ]
     },
     "execution_count": 28,
     "metadata": {},
     "output_type": "execute_result"
    }
   ],
   "source": [
    "# ACTUALLY, PROBABLY WANT TO DO THE SUBSET THING\n",
    "interval_is_int = Forall((a, b), Forall(n, InSet(n, Integer), \n",
    "                                       domain=Interval(a, b)), \n",
    "                        domain=Integer)"
   ]
  },
  {
   "cell_type": "code",
   "execution_count": 29,
   "metadata": {},
   "outputs": [],
   "source": [
    "# moved to sets.natural._theorems_\n",
    "# nat_pos_within_nat = ProperSubset(NaturalPos, Natural)"
   ]
  },
  {
   "cell_type": "code",
   "execution_count": 30,
   "metadata": {},
   "outputs": [
    {
     "data": {
      "text/html": [
       "<strong id=\"nat_within_int\"><a class=\"ProveItLink\" href=\"proofs/nat_within_int/thm_proof.ipynb\">nat_within_int</a> (conjecture without proof):<br></strong> <a class=\"ProveItLink\" href=\"../__pv_it/theorems/563b7dc0da0b988e6d643c506c13af7dfaff755b0/theorem_expr.ipynb\"><img src=\"data:image/png;base64,iVBORw0KGgoAAAANSUhEUgAAADkAAAAPBAMAAACsFXoGAAAAMFBMVEX///9mZmaqqqrc3NyIiIgi\n",
       "IiJUVFTMzMyYmJi6uroQEBB2dnZEREQyMjLu7u4AAAA1o4RqAAAAAXRSTlMAQObYZgAAAPZJREFU\n",
       "GNNjePvn7AOGXb8mMKCAqevX3opdAWScYE9g4PuAKsngI87Ay3AAyEgtcGFgWIAmK83AsIkbZF7m\n",
       "ObYChgCIYE9oaGg4iCHHwJxQCGIkl/Hdg8rabkbo5nlwDizL5FAGlQ1GMruFowEsy7CTwwEsy6iA\n",
       "kOQ78IYBIsv2IB0sy4qkla0gGSrLl8ALdrMZkuxEzg1QWYZqdrDsGyTZCzwMDNwPwLIcCgfQTOZW\n",
       "2MnAwAVkpAPxZrAstwNc1ow5gYFBCsi4BHLtBbDYJbjsOZ4HDM96GBhKfwH18UFkn2U+gEhyrrl1\n",
       "5tSvg2jBW30UGpJQAADwfUE6b5/KAQAAAABJRU5ErkJggg==\n",
       "\" style=\"display:inline;vertical-align:middle;\" /></a><br>"
      ],
      "text/plain": [
       "nat_within_int: Natural proper_subset Integer"
      ]
     },
     "execution_count": 30,
     "metadata": {},
     "output_type": "execute_result"
    }
   ],
   "source": [
    "nat_within_int = ProperSubset(Natural, Integer)"
   ]
  },
  {
   "cell_type": "code",
   "execution_count": 31,
   "metadata": {},
   "outputs": [
    {
     "data": {
      "text/html": [
       "<strong id=\"nat_pos_within_int\"><a class=\"ProveItLink\" href=\"proofs/nat_pos_within_int/thm_proof.ipynb\">nat_pos_within_int</a> (conjecture without proof):<br></strong> <a class=\"ProveItLink\" href=\"../__pv_it/theorems/3f59c9f6b2b39efbeb3a7ff7decd1887f7fc53020/theorem_expr.ipynb\"><img src=\"data:image/png;base64,iVBORw0KGgoAAAANSUhEUgAAAEYAAAAUBAMAAADCRlZLAAAAMFBMVEX///9mZmaqqqrc3NyIiIgi\n",
       "IiJUVFTMzMyYmJi6uroQEBB2dnZEREQyMjLu7u4AAAA1o4RqAAAAAXRSTlMAQObYZgAAAQ1JREFU\n",
       "KM9jYCAJsBGhhofmat7+OfuAYdevCdjUcEb9urv0VgMDwwn2BAa+Dwy5d2/dvduAqoblYAHDBZDW\n",
       "1AIXBoYFWO1i3MDArbATyMg8x1bAEICshuNoaGhoAUjNAwYzdgEgI7mM7x6KGubbBgijzvE8AKlh\n",
       "cihDUcOKpITDoQNEJTPs5HBAViOE5KI3fAcgatgepIPUMEPFA5DUpLMZQNTwJfAuQAgzJyAFkMBs\n",
       "Bogahmp2JDUQ0yGAlwHI2QdWw6GAJI5s1ybuCeCwSweyNyOr2YJkrRkwkIBqLoEC6wKSGl4FeCw/\n",
       "OMfAl3GAofQX0Aw+ZDV8afOgrFln15xZv0YAW1Jg3wONCygAACzQRrKr0tMGAAAAAElFTkSuQmCC\n",
       "\" style=\"display:inline;vertical-align:middle;\" /></a><br>"
      ],
      "text/plain": [
       "nat_pos_within_int: NaturalPos proper_subset Integer"
      ]
     },
     "execution_count": 31,
     "metadata": {},
     "output_type": "execute_result"
    }
   ],
   "source": [
    "nat_pos_within_int = ProperSubset(NaturalPos, Integer)"
   ]
  },
  {
   "cell_type": "code",
   "execution_count": 32,
   "metadata": {},
   "outputs": [
    {
     "data": {
      "text/html": [
       "<strong id=\"zero_is_int\"><a class=\"ProveItLink\" href=\"proofs/zero_is_int/thm_proof.ipynb\">zero_is_int</a> (conjecture with conjecture-based proof):<br></strong> <a class=\"ProveItLink\" href=\"../__pv_it/theorems/40114f13600a1e57b5d3bcff8261de6d22a49d180/theorem_expr.ipynb\"><img src=\"data:image/png;base64,iVBORw0KGgoAAAANSUhEUgAAADIAAAAPBAMAAABU9YHxAAAAMFBMVEX///9mZma6urpUVFREREQQ\n",
       "EBDc3NwiIiLu7u6qqqoyMjLMzMyYmJiIiIh2dnYAAADXmt2vAAAAAXRSTlMAQObYZgAAAONJREFU\n",
       "GNNjYOC785oBBTCVfl0VvvQAA8NKhvYEFBlexw0MC1gYGHgCGPgWoMgwPmDgm/CIgYHFgIHzB1iE\n",
       "x728CizTwJDMLcDAwG/AwPQTJMDt2wDX5sECZPcLMDD9BfG6EBI8F84AyfwHDNxgGTOETS0cDiAZ\n",
       "AQbufyCuA0LGmhnkWphp3FGrgADiIQE9EAV0ASfIBWwIPVwg/S8YWBwYeMCuDoDLvORTAHHhPpWF\n",
       "SbAZJAM9BVRYydC6ASTAPgEqw9LgwcBhAzSw7641WIDDRAMio+oV4hIfIoAcxk8goQMFAJt1Mp5H\n",
       "5qSTAAAAAElFTkSuQmCC\n",
       "\" style=\"display:inline;vertical-align:middle;\" /></a><br>"
      ],
      "text/plain": [
       "zero_is_int: 0 in Integer"
      ]
     },
     "execution_count": 32,
     "metadata": {},
     "output_type": "execute_result"
    }
   ],
   "source": [
    "# Proven\n",
    "zero_is_int = InSet(zero, Integer)"
   ]
  },
  {
   "cell_type": "markdown",
   "metadata": {},
   "source": [
    "***A set of in_bool theorems, which are accessed by the respective NumberSets to implement their deduce_membership_in_bool() methods:***"
   ]
  },
  {
   "cell_type": "code",
   "execution_count": 33,
   "metadata": {},
   "outputs": [],
   "source": [
    "# moved to sets.natural._theorems_\n",
    "# In progress\n",
    "# For Natural\n",
    "# nat_membership_is_bool = Forall(x, in_bool(InSet(x, Natural)))"
   ]
  },
  {
   "cell_type": "code",
   "execution_count": 34,
   "metadata": {},
   "outputs": [],
   "source": [
    "# moved to sets.natural._theorems_\n",
    "# For Positive Natural (NaturalPos)\n",
    "# nat_pos_membership_is_bool = Forall(x, in_bool(InSet(x, NaturalPos)))"
   ]
  },
  {
   "cell_type": "code",
   "execution_count": 35,
   "metadata": {},
   "outputs": [
    {
     "data": {
      "text/html": [
       "<strong id=\"int_membership_is_bool\"><a class=\"ProveItLink\" href=\"proofs/int_membership_is_bool/thm_proof.ipynb\">int_membership_is_bool</a> (conjecture without proof):<br></strong> <a class=\"ProveItLink\" href=\"../__pv_it/theorems/4153650f25ef5cf4ee3529607ce7d82d8896866f0/theorem_expr.ipynb\"><img src=\"data:image/png;base64,iVBORw0KGgoAAAANSUhEUgAAAJkAAAAUBAMAAABsXIKPAAAAMFBMVEX///8QEBCIiIhmZma6urrM\n",
       "zMxUVFQiIiJERETc3Nzu7u6qqqp2dnaYmJgyMjIAAAAcRTyBAAAAAXRSTlMAQObYZgAAAkpJREFU\n",
       "OMuFlDGI02AUx//GpE1yaewg9CYNCg43lQM3h6rD4aHQ6VaLeOANSm8SQaToYHuDdDpdxIigxyGl\n",
       "4CA6lZyD9AYDCiJ4UkEXwaMKgiKo7/tek+azCX3wp19/H/nnfe99L8Bk3B0pI2ba6fwZaSAWO0lq\n",
       "N1gToa9+2y19DLGiYm21+ad0HsjRW7YF+JLcddusidBuVDEwgc5/3DW8jQchbErsDv21lExejzQR\n",
       "e3twui8Ax1O5qYdalSwCMvZpu5vcvDJSHIWbl69JNx/rRpnKUFQ5uc10ye0+of7m5u3ks1adFYdx\n",
       "3Y/Xa6ZYf1I5uTmL5OZWgJ/N5lWlOmWWfWjlRCBAZ2xW8GS/tqBwcltYqtIR6alloKVUIWQ9xltP\n",
       "HiTRwg3u9Qco3NRLf/eLd1EbTspmjCPfZfXxyj8lQKJFyznZ66dQuDjpTo8uItUnDy1Muu2psHw0\n",
       "uTwHdin4wpVPy9+zKic3NM4QGdJpwzzS3IDv3JVxbq7Ipz9ys5K5oZFjN2uwRCQ4eqSqnhTGDwbF\n",
       "2G3bqci/CyoXbjWXUhc3oUVTofmX8hW1C8+1IeYEmI/vTm2dLl0x6sK8ktt77gKekKWBr9Ge6DNJ\n",
       "/20OrTBKlp/y12BfpAMeg8Jdo+ds1eSsAPvkoPyKZ7suZZ+bO8wfA/vCIu8cvzXbPDhLL/us8Gjq\n",
       "4YpaFcQtNIZG5mTpL3mC4o9MPZ0/ihb3nIEzderjWnjpPIgWD98E/biobVZmdNKxOgRTv5ZRtNJx\n",
       "RgZTvuSFjLzfAf8AgRyl+yot++sAAAAASUVORK5CYII=\n",
       "\" style=\"display:inline;vertical-align:middle;\" /></a><br>"
      ],
      "text/plain": [
       "int_membership_is_bool: forall_{x} ((x in Integer) in BOOLEAN)"
      ]
     },
     "execution_count": 35,
     "metadata": {},
     "output_type": "execute_result"
    }
   ],
   "source": [
    "# For Integer numbers\n",
    "int_membership_is_bool = Forall(x, in_bool(InSet(x, Integer)))"
   ]
  },
  {
   "cell_type": "code",
   "execution_count": 36,
   "metadata": {},
   "outputs": [
    {
     "data": {
      "text/html": [
       "<strong id=\"difference_is_nat\"><a class=\"ProveItLink\" href=\"proofs/difference_is_nat/thm_proof.ipynb\">difference_is_nat</a> (conjecture without proof):<br></strong> <a class=\"ProveItLink\" href=\"../__pv_it/theorems/df79c01a603aedb4084f6737e99fa064608626620/theorem_expr.ipynb\"><img src=\"data:image/png;base64,iVBORw0KGgoAAAANSUhEUgAAAOUAAAAWBAMAAADN4UaSAAAAMFBMVEX///8QEBCIiIhmZma6urrM\n",
       "zMxUVFQiIiJERETc3Nzu7u6qqqp2dnaYmJgyMjIAAAAcRTyBAAAAAXRSTlMAQObYZgAAAzFJREFU\n",
       "SMe9ll9IU1Ecx7/7c7d57+7WQw9KBGuCQUEMhQgiGgQ9Vc6XWVA4RAsjYgQhaQ/LgqZhDHpIiuCq\n",
       "YLCHvBQ9GD0sDVIzuBCUBcklqMDINArUIjp/7rZ7t6VyoQ78ds/9nHPP99zf+Z5zB9gvd4yoWMbW\n",
       "4DqtvLMjKaZ4lDdcSgKejBXeW76u4MlSlPLnFMzb0QxkeFRoiRBhvQT2CwmIi4wPkNuqlB3Nl0aU\n",
       "l6BKfsZL4KlYGNjEeEAB/KodzQtGlJdGMiYGjZvZzk72ym19nhiSjMvT2exNO5JVSR4VyjOW4Cir\n",
       "H91hwI64OE81KV9Opy/a0XRGeODGxDbF2vQxvJckL8L8VLBKhxSKU03K24HePHcvlI7sZr9H9HJN\n",
       "n8bDXYOvJb79rYxmILNnivbtwFM5RDQpP2C22IRx9VRPXGbz9LFbPmdIZq95VR6DGvZYNaVVBEOQ\n",
       "ksXnuaZHaSeMci+cWqHhM53m4wbNm/EPKcVnAsxk0nvzyI4oj/0KzrENuEDLB1Jz6RjNQViktIlC\n",
       "nWuKiQDxLeV+zVscaIUabSwLCSf4CcM1gzRD8hdU0qyG+KNsezaqhuaA6T1xXDA0q/Q4IcN1dIbC\n",
       "tzrFzfMYyZk0W8Kn4WSSYv3ZmCW34i9IiyXbU6Mv72a5dZg1ZZUsDuO9bWSo88Iq9WKXMxJgPeTb\n",
       "MZPmdqXW3c1qd2MtisVD4k94dOvhGoyKW2F4yBXKU+JVTKUM/oAIuyIClfeFZH2Y9Rjyw6TZgzlx\n",
       "ku23BjQbY1Bf0ejB60TOounRfIS7OOw2W4WsNOfEY3CozgRbI1eiOZ1Oh5Cbxq2i5mbshjhJjbQF\n",
       "dfldlOQxEj7WGrXulfoXdFV5okau8Lw0L6X4Icy4TOBoxveWXIKKQ/WwAR9qmCpqrhItYBdZvRX0\n",
       "Z9c9+/gqGNdDVzv1ShyOTMthDCheZRZ+Og+Xy/AA1+yS2c6c01AjfNfWPeNZGV+Pu1vv70OTKpwh\n",
       "yb5G7l+dnPmUKGrGZ3i3Rzi4szav6cvw+MvXVd8Y558XJ13Pwgln45tdmNEGuFShm8/uf5M3G+My\n",
       "1tCUiJ3TffgfxfUPxvwD5gjmqqB7tnUAAAAASUVORK5CYII=\n",
       "\" style=\"display:inline;vertical-align:middle;\" /></a><br>"
      ],
      "text/plain": [
       "difference_is_nat: forall_{a, b in Integer | b <= a} ((a - b) in Natural)"
      ]
     },
     "execution_count": 36,
     "metadata": {},
     "output_type": "execute_result"
    }
   ],
   "source": [
    "difference_is_nat = Forall((a, b), InSet(subtract(a, b), Natural),\n",
    "                              domain=Integer, \n",
    "                              conditions=[LessEq(b, a)])"
   ]
  },
  {
   "cell_type": "code",
   "execution_count": 37,
   "metadata": {},
   "outputs": [
    {
     "data": {
      "text/html": [
       "<strong id=\"difference_is_nat_pos\"><a class=\"ProveItLink\" href=\"proofs/difference_is_nat_pos/thm_proof.ipynb\">difference_is_nat_pos</a> (conjecture without proof):<br></strong> <a class=\"ProveItLink\" href=\"../__pv_it/theorems/9eb988ac0bdb3beccec38ef646b822afcae436ae0/theorem_expr.ipynb\"><img src=\"data:image/png;base64,iVBORw0KGgoAAAANSUhEUgAAAPUAAAAbBAMAAABW0dSkAAAAMFBMVEX///8QEBCIiIhmZma6urrM\n",
       "zMxUVFQiIiJERETc3Nzu7u6qqqp2dnaYmJgyMjIAAAAcRTyBAAAAAXRSTlMAQObYZgAAA5RJREFU\n",
       "SMfVlk1oE0EUgF82P9tsN2kPgvVSUws9eQh66cGfgAdFEFMQqwfpUqy0WqEoRVDR0mJNECEgalGk\n",
       "awOl9JCGqkhBMNCL1h+iBy3+EbUqtpiWomCtgu/NbPYnJlG3B/HBbCZv3sw3P++9GYD/VHbY66Zg\n",
       "EZaIdiv2+nVhcSlLY/tV+2x4sDT2GizedJHG8lhptogTz1DlpR209xt+hgq1DC3HT5tVJ81GpkFe\n",
       "uSzHFoIA96gybYctY2/4WLDpLZZEnq4svRNgBDzZbHX2E858DqCPVtBlh+1IAviCBZsWaWoBq87T\n",
       "KQTAoe85HOMOIyftsPuxp1jwVF10GlIl/+M7feQEY29RW0A02PXYNDE8fNGWqz3CUrin3EHfKR6I\n",
       "3Vo0eM4rCdXErsHyNRI5bou9AUstVc6N11ijzd9cizs5zuqJXJMnNupWTOzt2NACENU3K5sPCBVW\n",
       "k0SwnKXWFTBrbRmZlhYAXrG67u6emBx6bGI3hQE2gZTRe43nDKvGe4KGnaZ2WZb3njsMXE3T2Znl\n",
       "tgrzADeNYOZs2O9ppBr3kX5clgiCkR9myElurU2LMXlANbrO8KPrtRAOY6Fw3ajCIeqWZRJmpyF9\n",
       "x4WxPtWk1NiD8Nq0OciW06KhwK2CybFhKIc9V0zTXmC5pDX2SxATuwqkL/nh7VrU2F7zut2pBlOY\n",
       "INubwZiHeN07muV8neriIRtMGWxSg1Qf1u2Y9PI9xyWWz1nZP8CJUbaZ1StNbHheZhg10Uqie3GA\n",
       "TjfFpHBUCPp5VF4OG2xSSw/J7TQ7Jq3c16RF8GTGLOzP5AOar63R2Tig3GcYkZ/DNYxGZ9BNMVkW\n",
       "8GXirGVANuV9Ujcwp9Ds9AAlJ+yGp0rKwj4IPfhdx+piLm/5k1pcmtIDVAQoPwp0oTpCTqUxEokE\n",
       "IDUBl3Q2qeUpnkcFxTxx2tfBVbubQxZ2fDVNlB+O1LqVO+rJKmuSZ7HhwzFGYmXP8KdCdSQ9LJpu\n",
       "pOGuziY1xE+BbsfzeahYTuVQbYNcd3hOzZc3+r0Qa9oGfaqoToJMB+10gqvDdNdO4vdCVLPTxJkq\n",
       "epdAgbskf2q637iaR9dDQ9LdjuOdwf9P9t3/oBh+3s7Os6+N2+WeTOTC0aKDJ0pnZF/eo4m7hUDn\n",
       "bXlj5GSXdYcPFHs7MImWZovh3z5zSt3siVJvJl+sNPtFnjn8Hbs8aP+t9yfPlZLDX7fPdqrwT+Un\n",
       "7En1Ipqo3SQAAAAASUVORK5CYII=\n",
       "\" style=\"display:inline;vertical-align:middle;\" /></a><br>"
      ],
      "text/plain": [
       "difference_is_nat_pos: forall_{a, b in Integer | b < a} ((a - b) in NaturalPos)"
      ]
     },
     "execution_count": 37,
     "metadata": {},
     "output_type": "execute_result"
    }
   ],
   "source": [
    "difference_is_nat_pos = \\\n",
    "    Forall((a, b), InSet(subtract(a, b), NaturalPos),\n",
    "           domain=Integer, \n",
    "           conditions=[Less(b, a)])"
   ]
  },
  {
   "cell_type": "code",
   "execution_count": 38,
   "metadata": {},
   "outputs": [
    {
     "name": "stdout",
     "output_type": "stream",
     "text": [
      "These theorems may now be imported from the theory package: proveit.numbers.number_sets.integers\n"
     ]
    }
   ],
   "source": [
    "%end theorems"
   ]
  },
  {
   "cell_type": "code",
   "execution_count": null,
   "metadata": {},
   "outputs": [],
   "source": []
  }
 ],
 "metadata": {
  "kernelspec": {
   "display_name": "Python 3",
   "language": "python",
   "name": "python3"
  }
 },
 "nbformat": 4,
 "nbformat_minor": 0
}