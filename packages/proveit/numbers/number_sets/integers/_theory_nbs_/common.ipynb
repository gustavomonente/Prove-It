{
 "cells": [
  {
   "cell_type": "markdown",
   "metadata": {},
   "source": [
    "Common expressions for the theory of <a class=\"ProveItLink\" href=\"theory.ipynb\">proveit.numbers.number_sets.integers</a>\n",
    "========"
   ]
  },
  {
   "cell_type": "code",
   "execution_count": 1,
   "metadata": {},
   "outputs": [
    {
     "name": "stdout",
     "output_type": "stream",
     "text": [
      "Defining common sub-expressions for theory 'proveit.numbers.number_sets.integers'\n",
      "Subsequent end-of-cell assignments will define common sub-expressions\n",
      "%end_common will finalize the definitions\n"
     ]
    }
   ],
   "source": [
    "import proveit\n",
    "# Prepare this notebook for defining the common expressions of a theory:\n",
    "%common_expressions_notebook # Keep this at the top following 'import proveit'.\n",
    "from proveit import Literal\n",
    "from proveit.numbers.number_sets.integers.integer import IntegerSet\n",
    "%begin common"
   ]
  },
  {
   "cell_type": "code",
   "execution_count": 2,
   "metadata": {},
   "outputs": [
    {
     "data": {
      "text/html": [
       "<strong id=\"Integer\">Integer:</strong> <a class=\"ProveItLink\" href=\"../__pv_it/common/e6b4e90f9467053e055a4fd2f735c0bb79cb79300/common_expr.ipynb\"><img src=\"data:image/png;base64,iVBORw0KGgoAAAANSUhEUgAAAA4AAAAOBAMAAADtZjDiAAAAMFBMVEX///9UVFTc3Nzu7u6qqqp2\n",
       "dnbMzMxmZmZERESIiIiYmJgyMjIQEBAiIiK6uroAAABqpg13AAAAAXRSTlMAQObYZgAAAGVJREFU\n",
       "CNdj4LvzZ/fZPQsYONsTGDZwMDCwBzCwOsQBaQMGRbYCBhBo5jAAUVwTVoG5FswNYFqMUQFE8RU8\n",
       "BXO5GYDCwQwMIawPGBgOMDAJKAINOcDAYdDMwCzVwPCm+0TH+RMFANGWFoagnRaJAAAAAElFTkSu\n",
       "QmCC\n",
       "\" style=\"display:inline;vertical-align:middle;\" /></a><br>"
      ],
      "text/plain": [
       "Integer: Integer"
      ]
     },
     "execution_count": 2,
     "metadata": {},
     "output_type": "execute_result"
    }
   ],
   "source": [
    "Integer = IntegerSet()"
   ]
  },
  {
   "cell_type": "code",
   "execution_count": 3,
   "metadata": {},
   "outputs": [
    {
     "data": {
      "text/html": [
       "<strong id=\"infinity\">infinity:</strong> <a class=\"ProveItLink\" href=\"../__pv_it/common/7875e51279427bfc5cfbe257a7e8862d194c8f9b0/common_expr.ipynb\"><img src=\"data:image/png;base64,iVBORw0KGgoAAAANSUhEUgAAABMAAAALBAMAAABv+6sJAAAAMFBMVEX///+6uroiIiLc3Nyqqqoy\n",
       "MjLMzMyIiIhmZmZERER2dnaYmJgQEBBUVFTu7u4AAAABSZ7wAAAAAXRSTlMAQObYZgAAAG1JREFU\n",
       "CNdjYGB4wMAAIfju/NnAwLCyt4CBgTOB/SvDUwcGcwaGbQwM/hPCGBi4DRiAElyfgATDBhCTYT5Q\n",
       "NZABYs75CNS+gWEfAwP74jMGDOwGDBwMDCsYcg4y7AJKdNx0YODrP7OAAQaAtgEA6KMcJKCaE10A\n",
       "AAAASUVORK5CYII=\n",
       "\" style=\"display:inline;vertical-align:middle;\" /></a><br>"
      ],
      "text/plain": [
       "infinity: infinity"
      ]
     },
     "execution_count": 3,
     "metadata": {},
     "output_type": "execute_result"
    }
   ],
   "source": [
    "infinity = Literal('infinity',r'\\infty')"
   ]
  },
  {
   "cell_type": "code",
   "execution_count": 4,
   "metadata": {},
   "outputs": [
    {
     "name": "stdout",
     "output_type": "stream",
     "text": [
      "These common expressions may now be imported from the theory package: proveit.numbers.number_sets.integers\n"
     ]
    }
   ],
   "source": [
    "%end common"
   ]
  },
  {
   "cell_type": "code",
   "execution_count": null,
   "metadata": {},
   "outputs": [],
   "source": []
  }
 ],
 "metadata": {
  "kernelspec": {
   "display_name": "Python 3",
   "language": "python",
   "name": "python3"
  }
 },
 "nbformat": 4,
 "nbformat_minor": 0
}