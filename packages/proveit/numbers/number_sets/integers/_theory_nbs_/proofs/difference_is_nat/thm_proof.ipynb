{
 "cells": [
  {
   "cell_type": "markdown",
   "metadata": {},
   "source": [
    "Proof of <a class=\"ProveItLink\" href=\"../../../../../../_theory_nbs_/theory.ipynb\">proveit</a>.<a class=\"ProveItLink\" href=\"../../../../../_theory_nbs_/theory.ipynb\">numbers</a>.<a class=\"ProveItLink\" href=\"../../../../_theory_nbs_/theory.ipynb\">number_sets</a>.<a class=\"ProveItLink\" href=\"../../theory.ipynb\">integers</a>.<a class=\"ProveItLink\" href=\"../../theorems.ipynb#difference_is_nat\">difference_is_nat</a> theorem\n",
    "========"
   ]
  },
  {
   "cell_type": "code",
   "execution_count": 1,
   "metadata": {},
   "outputs": [],
   "source": [
    "import proveit\n",
    "theory = proveit.Theory() # the theorem's theory"
   ]
  },
  {
   "cell_type": "code",
   "execution_count": 2,
   "metadata": {},
   "outputs": [
    {
     "data": {
      "text/html": [
       "Under these <a href=\"presumptions.txt\">presumptions</a>, we begin our proof of<br><strong id=\"difference_is_nat\">difference_is_nat:</strong> <a class=\"ProveItLink\" href=\"../../../__pv_it/theorems/c7753033b563d33b0c6357b5571bde8c0dbac18d0/expr.ipynb\"><img src=\"data:image/png;base64,iVBORw0KGgoAAAANSUhEUgAAAOUAAAAWBAMAAADN4UaSAAAAMFBMVEX///8QEBCIiIhmZma6urrM\n",
       "zMxUVFQiIiJERETc3Nzu7u6qqqp2dnaYmJgyMjIAAAAcRTyBAAAAAXRSTlMAQObYZgAAAzFJREFU\n",
       "SMe9ll9IU1Ecx7/7c7d57+7WQw9KBGuCQUEMhQgiGgQ9Vc6XWVA4RAsjYgQhaQ/LgqZhDHpIiuCq\n",
       "YLCHvBQ9GD0sDVIzuBCUBcklqMDINArUIjp/7rZ7t6VyoQ78ds/9nHPP99zf+Z5zB9gvd4yoWMbW\n",
       "4DqtvLMjKaZ4lDdcSgKejBXeW76u4MlSlPLnFMzb0QxkeFRoiRBhvQT2CwmIi4wPkNuqlB3Nl0aU\n",
       "l6BKfsZL4KlYGNjEeEAB/KodzQtGlJdGMiYGjZvZzk72ym19nhiSjMvT2exNO5JVSR4VyjOW4Cir\n",
       "H91hwI64OE81KV9Opy/a0XRGeODGxDbF2vQxvJckL8L8VLBKhxSKU03K24HePHcvlI7sZr9H9HJN\n",
       "n8bDXYOvJb79rYxmILNnivbtwFM5RDQpP2C22IRx9VRPXGbz9LFbPmdIZq95VR6DGvZYNaVVBEOQ\n",
       "ksXnuaZHaSeMci+cWqHhM53m4wbNm/EPKcVnAsxk0nvzyI4oj/0KzrENuEDLB1Jz6RjNQViktIlC\n",
       "nWuKiQDxLeV+zVscaIUabSwLCSf4CcM1gzRD8hdU0qyG+KNsezaqhuaA6T1xXDA0q/Q4IcN1dIbC\n",
       "tzrFzfMYyZk0W8Kn4WSSYv3ZmCW34i9IiyXbU6Mv72a5dZg1ZZUsDuO9bWSo88Iq9WKXMxJgPeTb\n",
       "MZPmdqXW3c1qd2MtisVD4k94dOvhGoyKW2F4yBXKU+JVTKUM/oAIuyIClfeFZH2Y9Rjyw6TZgzlx\n",
       "ku23BjQbY1Bf0ejB60TOounRfIS7OOw2W4WsNOfEY3CozgRbI1eiOZ1Oh5Cbxq2i5mbshjhJjbQF\n",
       "dfldlOQxEj7WGrXulfoXdFV5okau8Lw0L6X4Icy4TOBoxveWXIKKQ/WwAR9qmCpqrhItYBdZvRX0\n",
       "Z9c9+/gqGNdDVzv1ShyOTMthDCheZRZ+Og+Xy/AA1+yS2c6c01AjfNfWPeNZGV+Pu1vv70OTKpwh\n",
       "yb5G7l+dnPmUKGrGZ3i3Rzi4szav6cvw+MvXVd8Y558XJ13Pwgln45tdmNEGuFShm8/uf5M3G+My\n",
       "1tCUiJ3TffgfxfUPxvwD5gjmqqB7tnUAAAAASUVORK5CYII=\n",
       "\" style=\"display:inline;vertical-align:middle;\" /></a><br>(see <a class=\"ProveItLink\" href=\"../../../__pv_it/theorems/b913dc0b8bddbb655193117d3133388ae7ca3e680/dependencies.ipynb\">dependencies</a>)<br>"
      ],
      "text/plain": [
       "difference_is_nat: forall_{a, b in Integer | b <= a} ((a - b) in Natural)"
      ]
     },
     "execution_count": 2,
     "metadata": {},
     "output_type": "execute_result"
    }
   ],
   "source": [
    "%proving difference_is_nat"
   ]
  },
  {
   "cell_type": "code",
   "execution_count": null,
   "metadata": {},
   "outputs": [],
   "source": []
  }
 ],
 "metadata": {
  "kernelspec": {
   "display_name": "Python 3",
   "language": "python",
   "name": "python3"
  }
 },
 "nbformat": 4,
 "nbformat_minor": 0
}