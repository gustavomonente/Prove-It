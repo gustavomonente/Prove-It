{
 "cells": [
  {
   "cell_type": "markdown",
   "metadata": {},
   "source": [
    "Proof of <a class=\"ProveItLink\" href=\"../../../../../../_theory_nbs_/theory.ipynb\">proveit</a>.<a class=\"ProveItLink\" href=\"../../../../../_theory_nbs_/theory.ipynb\">numbers</a>.<a class=\"ProveItLink\" href=\"../../../../_theory_nbs_/theory.ipynb\">number_sets</a>.<a class=\"ProveItLink\" href=\"../../theory.ipynb\">integers</a>.<a class=\"ProveItLink\" href=\"../../theorems.ipynb#interval_is_int\">interval_is_int</a> theorem\n",
    "========"
   ]
  },
  {
   "cell_type": "code",
   "execution_count": 1,
   "metadata": {},
   "outputs": [],
   "source": [
    "import proveit\n",
    "theory = proveit.Theory() # the theorem's theory"
   ]
  },
  {
   "cell_type": "code",
   "execution_count": 2,
   "metadata": {},
   "outputs": [
    {
     "data": {
      "text/html": [
       "Under these <a href=\"presumptions.txt\">presumptions</a>, we begin our proof of<br><strong id=\"interval_is_int\">interval_is_int:</strong> <a class=\"ProveItLink\" href=\"../../../__pv_it/theorems/4a11913b3c2ce099fe15fef29c6ad3511735ad200/expr.ipynb\"><img src=\"data:image/png;base64,iVBORw0KGgoAAAANSUhEUgAAAO8AAAAZBAMAAAArlWSOAAAAMFBMVEX///8QEBCIiIhmZma6urrM\n",
       "zMxUVFQiIiJERETc3Nzu7u6qqqp2dnaYmJgyMjIAAAAcRTyBAAAAAXRSTlMAQObYZgAAA3JJREFU\n",
       "SMfdVl1IFFEUPruzszs7O+P6UKT00JCg0Q8sBD0pKD34YqE9qC/hIBkYBgbFlkWIBo0KMfVgYkiT\n",
       "QoSBDYVEELaw9ZBaDAQhRjFBEhSIRUH51P3ZvXtnd91R8KnzsLvn3u/sd+75ufcA+Eo4eQm2WRqT\n",
       "qU2gIrD9EtX/N+KJjbdiJiV2sfLRh9gf5BW5v8hi6NyP1V2fHeimxAt47ZsPsT/IK2VmkcXgYDO4\n",
       "EsAMJR7DX/0+xP4gr7wrtiikQLFfAigaIS6z0E/bh9gf5BVv/y0lkzhXggWjYgLloZwQq/PT07f9\n",
       "issf5K3ZXl5r389+DkvoBPCFVvUfw7jiW9W+IG820bmaum9VaaTQcrWhaqRA05S4C2CIFd7qBsQ8\n",
       "iIj4xqMed0E8wDTJAUgZmvyXXHy5QntAq/0TJT4Kssu20tlrsiI9mOCIPSAsNy2PqiBwmF2DERtE\n",
       "+ypEfxMvcqgu6sRTShyBoMO2vuPYPD/sRExl0uKIedDDdB3AXF7/oMqLMdcC9SDLv0Bdw0rLKhKy\n",
       "FUo0ke0OSqw43NWEg7P0bBpicHKCDzUHUkfGrQLiuJlHDLE1CJOFsZx3gCI9z4ijbitanKpewZn7\n",
       "WW2FaIgTKZ6YgNS6E1U46ljmmA09xN4zHDEKNQguxB0ctAAjXlCQQ6iXGjN39dApFN4L4joux75g\n",
       "ooye606z567GILXBCZj0+sTEGRsiNVYVR4yLK5CCFxZ2XtDYwzCKtHJWXPAEdZ2QEHHvSZrqThHU\n",
       "pOJ9JDBovAbilkwD0sNsiAygf5Mr+VK7Ww9vVeL85aw71jDIZ1G0azPEceRSwA7qJDmC3mYYhgap\n",
       "eRjniTEIOqEBxIuGMQDtCWZDZAccAWjLZifUS+I5+oFo96/RMm24UWHsqUCGKxliFa0/MqVl9BW3\n",
       "AnaYmM468JonxiDYCbUi6NkTZ2yIrMNu7sR5V2bT9STfi3Iv9x4HzI5jMGZFrCVQcHwEgbjtfY+j\n",
       "a3B+Fl5lc5yxiQ6jjz61n8tx8UeCJULjiEOdj+ugxRZ7ULRGkP7+9OJXPZ84pMNBByQ7Q0xtTLES\n",
       "fbQu8u0EklmCeKZwAqHvTxDnuMQEsg/lOL+PyWjhlh4EsjJUQBwzNz/6lCYuNfqoZgGxuoWZ616h\n",
       "k+HUFh7OTQ17xebq6KH8FXFhK3O1/g9gvPW9p7669gAAAABJRU5ErkJggg==\n",
       "\" style=\"display:inline;vertical-align:middle;\" /></a><br>(see <a class=\"ProveItLink\" href=\"../../../__pv_it/theorems/bc5a99d427f6df466c617485fe6480806a3508bf0/dependencies.ipynb\">dependencies</a>)<br>"
      ],
      "text/plain": [
       "interval_is_int: forall_{a, b in Integer} [forall_{n in {a...b}} (n in Integer)]"
      ]
     },
     "execution_count": 2,
     "metadata": {},
     "output_type": "execute_result"
    }
   ],
   "source": [
    "%proving interval_is_int"
   ]
  },
  {
   "cell_type": "code",
   "execution_count": null,
   "metadata": {},
   "outputs": [],
   "source": []
  }
 ],
 "metadata": {
  "kernelspec": {
   "display_name": "Python 3",
   "language": "python",
   "name": "python3"
  }
 },
 "nbformat": 4,
 "nbformat_minor": 0
}