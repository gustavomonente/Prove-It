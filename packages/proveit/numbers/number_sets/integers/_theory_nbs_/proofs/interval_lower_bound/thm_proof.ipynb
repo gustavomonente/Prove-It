{
 "cells": [
  {
   "cell_type": "markdown",
   "metadata": {},
   "source": [
    "Proof of <a class=\"ProveItLink\" href=\"../../../../../../_theory_nbs_/theory.ipynb\">proveit</a>.<a class=\"ProveItLink\" href=\"../../../../../_theory_nbs_/theory.ipynb\">numbers</a>.<a class=\"ProveItLink\" href=\"../../../../_theory_nbs_/theory.ipynb\">number_sets</a>.<a class=\"ProveItLink\" href=\"../../theory.ipynb\">integers</a>.<a class=\"ProveItLink\" href=\"../../theorems.ipynb#interval_lower_bound\">interval_lower_bound</a> theorem\n",
    "========"
   ]
  },
  {
   "cell_type": "code",
   "execution_count": 1,
   "metadata": {},
   "outputs": [],
   "source": [
    "import proveit\n",
    "theory = proveit.Theory() # the theorem's theory"
   ]
  },
  {
   "cell_type": "code",
   "execution_count": 2,
   "metadata": {},
   "outputs": [
    {
     "data": {
      "text/html": [
       "Under these <a href=\"presumptions.txt\">presumptions</a>, we begin our proof of<br><strong id=\"interval_lower_bound\">interval_lower_bound:</strong> <a class=\"ProveItLink\" href=\"../../../__pv_it/theorems/36223c05dc161e8510b7cdced6c6f18f96a592980/expr.ipynb\"><img src=\"data:image/png;base64,iVBORw0KGgoAAAANSUhEUgAAAO4AAAAZBAMAAADEVw+wAAAAMFBMVEX///8QEBCIiIhmZma6urrM\n",
       "zMxUVFQiIiJERETc3Nzu7u6qqqp2dnaYmJgyMjIAAAAcRTyBAAAAAXRSTlMAQObYZgAAA4RJREFU\n",
       "SMfdlktoE0EYx79ks3ltNvHgwVQKodF6EGFpQS8KEaEefLC9tB6UhmIFRUoptMFapVjErVJYKsSi\n",
       "aNf2UA3SBMVDQXBpT/YhCz6o9cGCL1SQUipoTs7Mdp9pkxV6ciA7++03md/M9/3nAVCx+DPnYGOL\n",
       "L9ProlUANr5k/y9uSFnfN6lxVVy9L8+N4opV3HPvlZOLSLiz+P17eW6kgKqo5J77zWF7u8z3sEq4\n",
       "wzgsfeW5xD/sHstydvtBp9WaIlw8DTKfcvnF8Zh1zw2INvP6BZt5l3DZmVzuRiVdvcvl7ne459r7\n",
       "y/6we6MpouffgtBbiRsThCuye24S525vXRUxjn3SPx8+PZRMoOhyhNsGMGBsJD/X5vp5CNpjd9yu\n",
       "7qMq0DsNaxD99ovRJfwevGx8loVE+A/Kvkq4BzSFaWVaF/uW6X7O5Po4mLAv0Cr72PAc/EZEziPV\n",
       "VgNF1Ort1NcBXbgIoV8ATAfhBsBrjh2nIvykXgmIkVHJsm90wC5jHSA3MKojZ0iZ5rfNAFQRAglN\n",
       "3L2rHYXDK8CiGNBLhBtRLBsSCgMsTOaAgRO3rfvVPBiywu4Sbkx0cD19kOc1i/m4miJmCfyqwQ2p\n",
       "TejbWO1nHIrlWsmnxZeTrdw7dBrgxasaDjQ3ZoTr2nm9TUvNGQsXxTkvw1NDNV+0dpQKMUUCnxZn\n",
       "GDiJ+uiiizgZPV4uqkXnFm/lBrNI/C+rIa7tmYQxzrcYW9gOKWnhIl3lC9DO6FKkhRSuPGgskqzr\n",
       "Ch4hPsXROJDBBKuOkaajEdu5wOxBgRntgCJobqyhemg22lyCDxCOW9SJeuo2uwi14edICp6zPFCy\n",
       "xo2h/HsK3jQeUYpKNwuCkAB5Bm5az6NlDEv4NgFx0/3I3Aq1YGZ0N0CznpqDKICt27PbHAsSfc6+\n",
       "RRrkNS6LopUXg4uoikmegp+k5LECz6zcRTwqnpJ5vz5ftBQHc3qXRTQKc76OfdJRxi3nr0dsOQLD\n",
       "UkBagAhOLEWR9NvP3xEIHOKJm+QyTq8ooavoX+jRw/ZZ8us8F+xlysL1tT7cB40F+iwK1TVkvz41\n",
       "9zXt5DaAd15zE0bDzqRCx6FRRI+mOdvaGjApExlcSs9Ba9GOJS/O7/r3DeJ2rl99LC7O/aDo5DKi\n",
       "63tOBW65e86bkvsV6/5+ZWrIcoH5hxPL1b1urfvzUMmMaPcXA1+m+y/iEPBL8FLaIAAAAABJRU5E\n",
       "rkJggg==\n",
       "\" style=\"display:inline;vertical-align:middle;\" /></a><br>(see <a class=\"ProveItLink\" href=\"../../../__pv_it/theorems/e46abef26bbd976fe8d99695feb4e2126c1bdcca0/dependencies.ipynb\">dependencies</a>)<br>"
      ],
      "text/plain": [
       "interval_lower_bound: forall_{a, b in Integer} [forall_{n in {a...b}} (a <= n)]"
      ]
     },
     "execution_count": 2,
     "metadata": {},
     "output_type": "execute_result"
    }
   ],
   "source": [
    "%proving interval_lower_bound"
   ]
  },
  {
   "cell_type": "code",
   "execution_count": null,
   "metadata": {},
   "outputs": [],
   "source": []
  }
 ],
 "metadata": {
  "kernelspec": {
   "display_name": "Python 3",
   "language": "python",
   "name": "python3"
  }
 },
 "nbformat": 4,
 "nbformat_minor": 0
}