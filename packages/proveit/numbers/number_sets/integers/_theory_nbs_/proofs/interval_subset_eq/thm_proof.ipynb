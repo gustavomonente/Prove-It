{
 "cells": [
  {
   "cell_type": "markdown",
   "metadata": {},
   "source": [
    "Proof of <a class=\"ProveItLink\" href=\"../../../../../../_theory_nbs_/theory.ipynb\">proveit</a>.<a class=\"ProveItLink\" href=\"../../../../../_theory_nbs_/theory.ipynb\">numbers</a>.<a class=\"ProveItLink\" href=\"../../../../_theory_nbs_/theory.ipynb\">number_sets</a>.<a class=\"ProveItLink\" href=\"../../theory.ipynb\">integers</a>.<a class=\"ProveItLink\" href=\"../../theorems.ipynb#interval_subset_eq\">interval_subset_eq</a> theorem\n",
    "========"
   ]
  },
  {
   "cell_type": "code",
   "execution_count": 1,
   "metadata": {},
   "outputs": [],
   "source": [
    "import proveit\n",
    "theory = proveit.Theory() # the theorem's theory"
   ]
  },
  {
   "cell_type": "code",
   "execution_count": 2,
   "metadata": {},
   "outputs": [
    {
     "data": {
      "text/html": [
       "Under these <a href=\"presumptions.txt\">presumptions</a>, we begin our proof of<br><strong id=\"interval_subset_eq\">interval_subset_eq:</strong> <a class=\"ProveItLink\" href=\"../../../__pv_it/theorems/8a8065552608bb11a836011be782022c40d33d600/expr.ipynb\"><img src=\"data:image/png;base64,iVBORw0KGgoAAAANSUhEUgAAAW4AAAAXBAMAAADZ1rgBAAAAMFBMVEX///8QEBCIiIhmZma6urrM\n",
       "zMxUVFQiIiJERETc3Nzu7u6qqqp2dnaYmJgyMjIAAAAcRTyBAAAAAXRSTlMAQObYZgAABEZJREFU\n",
       "WMPNV11oFFcU/rI/2ezs7CTQFm2hsKTVJ5Elpb7Un0gfAgVhfWntg2QJrbZYJQ/WxepDqIVuEHSg\n",
       "0IaWwGiglCDutlIaocTVPKS1FZYIKgVjQEVIUgkhD62Jpefcn9mZnd1NAi54Ye6cOed8d76599xz\n",
       "7gDNbskddU3RLqeG9ma5wWi1Ic+6DQPGfAN75KWg7mKp4ZAMSdjADD/cbQ5tY4CmewH4YUM9j51B\n",
       "1b0GA+57QUI+Bv7g59nm8LZoXsx+Eu7X85jUwXQwl8tlfKqabVnaLwJDdIsPNIf3TSjey6vwjs/b\n",
       "gU+pGSRPpN1MwaI4N4vN4X1c8ebXNeRt2VgTbx6M7UYHktdHR79pDu14v3qVmPNGvN/C2nhbaWV/\n",
       "APyTz59sDu9QWvG2+l4LrqjZuQm4KuX+Kt7x7V2vBMf76lpvUUEmgA+BQTd+Hvscd2X8wO7qcHtc\n",
       "k6+GtXEibqWEVZg1/g0sxgmc0ckjnvUYjtC127YWgsH9Ms46CjINvA1jxrVN+DwL8ta6ceIUTx38\n",
       "23fMdR/z6lwYYjzJP9JHXHGwWM0iVsIhufAyX+qWoPxsvIpwMFWcK4scKCC/0AAIVQrUnM9znIb4\n",
       "9Y1yzDbPOwHe4yntzhI80rh6aqH12XdcZGljJbAosu4dTPnjJPolbdHwE8RSqIE4qSG9FGflWMXm\n",
       "X06azjuXR5HA/mFU854ua/fpsk9XWTTmjd0ZTt+RQCbcKDeajJBr/nrYMoBCBkGEsaQhxDs+8y4J\n",
       "I5sf8tcubnbEluGvHemcQ0SsI9IlD2/hurWs3YUkIFJimCdOWgn0lGewqpSueIuj5dm2H1GglXAl\n",
       "WHxXkFjQkB66Bj8g5adRHjn0mcgBR6MdSmXJavZdpsJb6HvEi9hdSgyRkhrJ3ZecT5Y4NqvaUwpl\n",
       "N58YB97x5pNCEUcSdjXvZdrjlxWE9iUu0cjhdJRjrC2VpD1KeyIjVB0YEZDzJiq8heuFL6DcpcQQ\n",
       "JTFMZTqdBw/jFG/XGdUZ/5GwDcablWQd/c1b52ncY6bXWUA/x+1sSUG209VOQdFSDGVFRIaz/CCi\n",
       "k1Xv5fP5FErX8a3LW7peOK3dpcQQJYV0VovoujOyhac7ltXdMdbfmKpdZEhl9G36+nWvsxC+73y/\n",
       "r1tBOKiTFNIFu+0vurU7TKBdLJFQtYr3/1zG7y5v5Rqa0+5CEhCWlNlX5+u3yTWpAnZDD9pi9+7B\n",
       "kBNz7lBvdSM95JBqP0xeu3BYTp2ab3blz/0b7C4lhkhJwLznqo518r66Bt6mzpKRvp92YG8x+kmJ\n",
       "+njXlLO3KFTgpb914M9HWZe31HOFcNhdSgyRkmvm+Lfl+bt+U+fvyVzOje97q/DeKc+x3lYM9Ahx\n",
       "fOu23uOuqIMN/3derHF2WuV/hyGDPpVMPd6+qq37mM7lKrHe/8tLq/5fJv3kkoG+Lu8xyjN5p570\n",
       "vLX080Plf03nWSO0NfhfAAAAAElFTkSuQmCC\n",
       "\" style=\"display:inline;vertical-align:middle;\" /></a><br>(see <a class=\"ProveItLink\" href=\"../../../__pv_it/theorems/725e43d9d9509cb3d87989674a79fe4e9bd36d850/dependencies.ipynb\">dependencies</a>)<br>"
      ],
      "text/plain": [
       "interval_subset_eq: forall_{a, b, c, d in Integer | a <= b <= c <= d} ({b...c} subset_eq {a...d})"
      ]
     },
     "execution_count": 2,
     "metadata": {},
     "output_type": "execute_result"
    }
   ],
   "source": [
    "%proving interval_subset_eq"
   ]
  },
  {
   "cell_type": "code",
   "execution_count": null,
   "metadata": {},
   "outputs": [],
   "source": []
  }
 ],
 "metadata": {
  "kernelspec": {
   "display_name": "Python 3",
   "language": "python",
   "name": "python3"
  }
 },
 "nbformat": 4,
 "nbformat_minor": 0
}