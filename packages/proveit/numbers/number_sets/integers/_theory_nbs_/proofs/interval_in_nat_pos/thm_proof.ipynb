{
 "cells": [
  {
   "cell_type": "markdown",
   "metadata": {},
   "source": [
    "Proof of <a class=\"ProveItLink\" href=\"../../../../../../_theory_nbs_/theory.ipynb\">proveit</a>.<a class=\"ProveItLink\" href=\"../../../../../_theory_nbs_/theory.ipynb\">numbers</a>.<a class=\"ProveItLink\" href=\"../../../../_theory_nbs_/theory.ipynb\">number_sets</a>.<a class=\"ProveItLink\" href=\"../../theory.ipynb\">integers</a>.<a class=\"ProveItLink\" href=\"../../theorems.ipynb#interval_in_nat_pos\">interval_in_nat_pos</a> theorem\n",
    "========"
   ]
  },
  {
   "cell_type": "code",
   "execution_count": 1,
   "metadata": {},
   "outputs": [],
   "source": [
    "import proveit\n",
    "theory = proveit.Theory() # the theorem's theory"
   ]
  },
  {
   "cell_type": "code",
   "execution_count": 2,
   "metadata": {},
   "outputs": [
    {
     "data": {
      "text/html": [
       "Under these <a href=\"presumptions.txt\">presumptions</a>, we begin our proof of<br><strong id=\"interval_in_nat_pos\">interval_in_nat_pos:</strong> <a class=\"ProveItLink\" href=\"../../../__pv_it/theorems/e0c1bda4dc116c8b04257fa47c7a7500c48f38f70/expr.ipynb\"><img src=\"data:image/png;base64,iVBORw0KGgoAAAANSUhEUgAAATIAAAAbBAMAAAANPB68AAAAMFBMVEX///8QEBCIiIhmZma6urrM\n",
       "zMxUVFQiIiJERETc3Nzu7u6qqqp2dnaYmJgyMjIAAAAcRTyBAAAAAXRSTlMAQObYZgAABFpJREFU\n",
       "WMPdl29oHEUUwN/tv/u3mwTxQ8+irgbywUY42g9CoXIgRMFaN6WYfqjkEFuthhIs6UGtGojYbUU4\n",
       "Cq1HRbtNocX7kBxVPwiiC/lka2XrnxJaC9eKCq1eS0nB5FPfzOzNzPaO3OYKKi7M7e2+fW9+8+bN\n",
       "ezMA/8frlVJ5xTpblhcXsdnYtNK+eyEbX7mKXlxePoltiP478g+T9Xidyczg3yBbC53JYC8jq5Pb\n",
       "5S7JesjNCmJrpJfavc3ccK+B+fD9TbJ+RnaW3K51SWbWYsyQdJn5tq9TwQsAs2A0Gg81/gI4xsgq\n",
       "ZCiTXZJRxUp8jUSt7WtjQrEhwWczWaNkZMRmrds4I84+G1/jWNS986USDSbjGW87JDmZOknJrDPV\n",
       "6oddr4BfqtVPV7AQzkeetj7W9Nnh4ownyJQ+tjb/dt19XZP1uu5+P77Gk9g27jzUb9PA59FtlE/r\n",
       "RUGmLTGy7QAHmp9ojbttaXe/GByUyQwHUtFCsC2yUonBzSJWXGy+a2cWGY8gMws/CDL9NiN7CjJ1\n",
       "rjrX/HbV3BRdRykuOkx/LT9blMi0PMxE88ID0YEQg2P86XfstvY2pG9HTSPja8YI+Udh0wuMLAmK\n",
       "GOZ14uWv1gXJsjntRdVPUs8mC7AkZ9pxeJynJdSDbD1KRgx+zZ9241eZBbBukofhBl71kOwkXBH5\n",
       "LSQzg6QwRNw8/2UVsvDixxAlg8pO/Jl1YLVMdk5UAqLXQrYYIfsVW/YmGPSjiuwz3R8Wfg/J0nVM\n",
       "c3Bi4Dcyw7cGPI1lw7wvkTHp1vUAo2V4Syb7hNToH39+NA9Mj5Bl1u5ymhUcDUpk75GcUIfegMxH\n",
       "QiaDS8IH+mJYNw+8jMYmdDJJyl4l38Pi6SNHkIVS2GTDqAdvyGSpIwWAnx6EHKtUlOyUM9rMW8Sg\n",
       "RPYqAfLhG48MW7U5GfZlChc21yZ8hj2oeZ32Y1v1E1Q6bYIgC6WYj8ros/tksuwT6PXpcQw+pmdg\n",
       "n+tghNcdNAjH+SJ8hGTbAnxv0WG/yXcgtTCjsMsK8xn02qRsKGTJJQpqccR1XRv8M3CUk4VSyF4l\n",
       "cbYQ2WvcIji21gdUT5/Cx9UwwMsRGgSd58vn0ZdPY6+X2Jp6l7lWf2cV/oo1HtYARET5bDl1EW+9\n",
       "XqJmUId+EcC3nCyUan96LWsTLpL+HdV3jKbPMFt9UA0/IQYlnyUKkeWxcX+p3m4TZ0v7s0R59Dmo\n",
       "eElvHkziaVUFbVz4jEhBn0I6JR/JZ2E5hOSzDtWjcZbTF4L0QTSXPkgMSnGmxqoXs55Epr10egMM\n",
       "1/QxVH0fny/s+O6PIiej0vQOOvTBudad4xAo55geJRta0x/oORgu6zlqUJDpfXHILrTuaVkZUUic\n",
       "8RAW9dfpsKeletk20yPI4PU4ZBMtZNk2R6HUCnfbHchmYoBZfguZBfdOlsm1vhuTwPOdySrxzk7q\n",
       "MrJSu/PmoZZTwTZ5X/p5Z7L19Ly55797zr4D+Jc3KSqOvP4AAAAASUVORK5CYII=\n",
       "\" style=\"display:inline;vertical-align:middle;\" /></a><br>(see <a class=\"ProveItLink\" href=\"../../../__pv_it/theorems/8c2a389b530b98d46cd76d40888d4dd59804b02b0/dependencies.ipynb\">dependencies</a>)<br>"
      ],
      "text/plain": [
       "interval_in_nat_pos: forall_{a, b in Integer | a > 0} [forall_{n in {a...b}} (n in NaturalPos)]"
      ]
     },
     "execution_count": 2,
     "metadata": {},
     "output_type": "execute_result"
    }
   ],
   "source": [
    "%proving interval_in_nat_pos"
   ]
  },
  {
   "cell_type": "code",
   "execution_count": null,
   "metadata": {},
   "outputs": [],
   "source": []
  }
 ],
 "metadata": {
  "kernelspec": {
   "display_name": "Python 3",
   "language": "python",
   "name": "python3"
  }
 },
 "nbformat": 4,
 "nbformat_minor": 0
}