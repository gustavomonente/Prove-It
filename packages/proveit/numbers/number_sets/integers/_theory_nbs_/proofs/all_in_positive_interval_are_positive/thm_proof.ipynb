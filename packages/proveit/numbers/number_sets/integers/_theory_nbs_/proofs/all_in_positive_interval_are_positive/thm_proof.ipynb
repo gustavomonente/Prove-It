{
 "cells": [
  {
   "cell_type": "markdown",
   "metadata": {},
   "source": [
    "Proof of <a class=\"ProveItLink\" href=\"../../../../../../_theory_nbs_/theory.ipynb\">proveit</a>.<a class=\"ProveItLink\" href=\"../../../../../_theory_nbs_/theory.ipynb\">numbers</a>.<a class=\"ProveItLink\" href=\"../../../../_theory_nbs_/theory.ipynb\">number_sets</a>.<a class=\"ProveItLink\" href=\"../../theory.ipynb\">integers</a>.<a class=\"ProveItLink\" href=\"../../theorems.ipynb#all_in_positive_interval_are_positive\">all_in_positive_interval_are_positive</a> theorem\n",
    "========"
   ]
  },
  {
   "cell_type": "code",
   "execution_count": 1,
   "metadata": {},
   "outputs": [],
   "source": [
    "import proveit\n",
    "theory = proveit.Theory() # the theorem's theory"
   ]
  },
  {
   "cell_type": "code",
   "execution_count": 2,
   "metadata": {},
   "outputs": [
    {
     "data": {
      "text/html": [
       "Under these <a href=\"presumptions.txt\">presumptions</a>, we begin our proof of<br><strong id=\"all_in_positive_interval_are_positive\">all_in_positive_interval_are_positive:</strong> <a class=\"ProveItLink\" href=\"../../../__pv_it/theorems/e4a6bf807969f91cb5f2f3f9e4d990e2e7d1409e0/expr.ipynb\"><img src=\"data:image/png;base64,iVBORw0KGgoAAAANSUhEUgAAAR8AAAAZBAMAAAD6VzfXAAAAMFBMVEX///8QEBCIiIhmZma6urrM\n",
       "zMxUVFQiIiJERETc3Nzu7u6qqqp2dnaYmJgyMjIAAAAcRTyBAAAAAXRSTlMAQObYZgAAA/hJREFU\n",
       "SMfll12IE1cUx/9JZjKTyWSzDz4YPyCssC9FGPShIFoWBH0QJfqggpYN0haFVYK1LFUfpIsaFWHw\n",
       "QVdFd1wf1CBuqGgpiA1dFFwVAn4gojWUqlVpHxYL3VXBc+9NZu5k4pqN++ZAcu/cnHPmN+f+77k3\n",
       "QOtXtPdHTO21tLf0Ke4apvyKZT93oFj5gz/FbQFUYTePWwRqY02i3LzL2cbD5txrwCYBdJMNvGwR\n",
       "yCxS0+Y07/Ki8fArnLFxQQD1s2ZXi0Dcsb95j4Tl9Y1/vOF2mBWYaQ7E3o+/aEsaYqm9OQkPW7o5\n",
       "v7XW07OIj8No50CJkULhSMuiflQonMs17+F/UHhndbKTWShvgL/EKvs/n9/ZMlAyn987iVo2B1Cu\n",
       "H+2YV5uq7wXRkAVlFBgWQN8C+2oOyr/1IZT6gfDvJQkomoFu+35f71tzLOAqTxAHSR76TxiqucSf\n",
       "8d5ACSoB/SGAFsOouB7DtV1h+nAfF6DulZAMbx7hsgSkWHxxSIVmhp+fBexx73YA67QKBjIu8DOW\n",
       "owEL6lvgFwGkIVyW1h/J/8r8smabg44fyNjI32Ybko5UGHOY6xqQH+KV+gUNXHXvpgHOUBeeeBn8\n",
       "2/GmrFsAmWWp4o7R58GvBcTx9Qn4gRDbQ0TGfwgVJaDbcDXN/AJAY/VA+A3YAv+Ukajjb1ygWGU1\n",
       "jZ3ufErf6mino4haYZUkIGPeFsqy2udAHYNWloBOqhTizr0OC8KPAQlrfrGAEhBNGb4C3hl+Ueu7\n",
       "kBinvb66l+37hmL8oI4zxW4PW23C9nhGAjqT6Wauyp8gMy0tAemHu4C7s5ES2wgHqlqjGlACIlFj\n",
       "FtUc07/sRWGsiRoXKekRS2Wp19OJymluM2hCApqPNcIzRRkKyUDxLynKYA7jEH7RkmddDYhTtiTx\n",
       "2Gt6+D1/YaTMnaL3X1gFStIDQsUw64a6Itk1+Xw+jdIIjnlAM9HJ26tp0lCyS97tRxlFWmkH91P7\n",
       "JOtqQKhunaNJUXKIbS76tw6c76Dig6dVoAQlbsjWH1KTdELFKFf/pTJuuEDGGA6SYLFiJLDK8JA9\n",
       "NhMpZaK1DNWsuVwpoJQhzZ6gaho56TwUsruXo9/RnAcwmXgiEfYqboZS6mtS8toFvNheDpyHBqAt\n",
       "y3A/riFmHdtP4WL7WUBJQ/LmGjyDpCUgZcPPi7CyqPaQBA7Q/f3vbj3PekBLvphTxuFNXIm3rADQ\n",
       "EoRvCz8OxKzVFFbaaooH9IC8PaHBdSF4YhQFJsw05KrS7am7P3Ji5H71dQi+OvShA5oL6weKN5hh\n",
       "fZJH2I8ATXCETdgBoAQ+HchIBcd6pvKQH5kIqNH/skOBHKxv/vi3tDf7HjUyEuHcDIG0AAAAAElF\n",
       "TkSuQmCC\n",
       "\" style=\"display:inline;vertical-align:middle;\" /></a><br>(see <a class=\"ProveItLink\" href=\"../../../__pv_it/theorems/801f3c7968754851c22d3cfcf92ef69e82f660e50/dependencies.ipynb\">dependencies</a>)<br>"
      ],
      "text/plain": [
       "all_in_positive_interval_are_positive: forall_{a, b in Integer | a > 0} [forall_{n in {a...b}} (n > 0)]"
      ]
     },
     "execution_count": 2,
     "metadata": {},
     "output_type": "execute_result"
    }
   ],
   "source": [
    "%proving all_in_positive_interval_are_positive"
   ]
  },
  {
   "cell_type": "code",
   "execution_count": null,
   "metadata": {},
   "outputs": [],
   "source": []
  }
 ],
 "metadata": {
  "kernelspec": {
   "display_name": "Python 3",
   "language": "python",
   "name": "python3"
  }
 },
 "nbformat": 4,
 "nbformat_minor": 0
}