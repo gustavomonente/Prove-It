{
 "cells": [
  {
   "cell_type": "markdown",
   "metadata": {},
   "source": [
    "Proof of <a class=\"ProveItLink\" href=\"../../../../../../_theory_nbs_/theory.ipynb\">proveit</a>.<a class=\"ProveItLink\" href=\"../../../../../_theory_nbs_/theory.ipynb\">numbers</a>.<a class=\"ProveItLink\" href=\"../../../../_theory_nbs_/theory.ipynb\">number_sets</a>.<a class=\"ProveItLink\" href=\"../../theory.ipynb\">integers</a>.<a class=\"ProveItLink\" href=\"../../theorems.ipynb#interval_upper_bound\">interval_upper_bound</a> theorem\n",
    "========"
   ]
  },
  {
   "cell_type": "code",
   "execution_count": 1,
   "metadata": {},
   "outputs": [],
   "source": [
    "import proveit\n",
    "theory = proveit.Theory() # the theorem's theory"
   ]
  },
  {
   "cell_type": "code",
   "execution_count": 2,
   "metadata": {},
   "outputs": [
    {
     "data": {
      "text/html": [
       "Under these <a href=\"presumptions.txt\">presumptions</a>, we begin our proof of<br><strong id=\"interval_upper_bound\">interval_upper_bound:</strong> <a class=\"ProveItLink\" href=\"../../../__pv_it/theorems/65ed65906a5a540369ea682924048cff6e5f32c00/expr.ipynb\"><img src=\"data:image/png;base64,iVBORw0KGgoAAAANSUhEUgAAAOwAAAAZBAMAAADAot+NAAAAMFBMVEX///8QEBCIiIhmZma6urrM\n",
       "zMxUVFQiIiJERETc3Nzu7u6qqqp2dnaYmJgyMjIAAAAcRTyBAAAAAXRSTlMAQObYZgAAA49JREFU\n",
       "SMfdlk9IFHEUx7/u7uz/Px06ZCUsCgpJMCgkEdVCYIcox4sGFUpUhyjZS0nmwTRoLYyhg1lRTnqw\n",
       "9tAuRQchalFI8g8MlGXSn7mUVBAhHlIo+v1+szM7M6u7c/DUD3Z++3tvZj7v996b93tA0eFuv4B1\n",
       "Ha72Tht3ebDuo/+/wvrkNVWjKlah08fC2DCdQrJ97INVpf5LcZIpIsNOUcH3wthgmkxhyT72m1VQ\n",
       "JdBrmCdshWEHqE+6CmOZfsA+NcRbtjkRZXOEmj/GsHQTbDeFYku9MWUf6xHNka7LxqeBOuw+w4Ym\n",
       "k8mbxVLqQzL5MG4fa36fr03b1QTzdIxl8u9EorMYNpJIXMnYx1aQkvDyVnkNW3DXY5r8a/ku4lqe\n",
       "YU8CvXr9+Lk61i3Aa3bcUXNeH1LAVeurPvJybzdS7JGEoIf4r0REIYVh96nJpY5xrSBuGu/hc1gX\n",
       "j0dmx202m0a34Nb9cRE44lEwyIBV2zRxYAWRKAJxhvXAkbP8BzXqWa3sEYNDkqFcxLFdt5moEVDM\n",
       "2DAJX062EZBSMXxWV+8ms2KnglQG3C+GDcqGMrRMfnOjSQRw7K6xSs1AzyiqzsNGRAsWL4C27PL5\n",
       "zqxtPBrSGtanNBHRcOUXGv7FSsmlOpfPGLH3uFbg9Ww5D1VNEf6aNj1sLeWnDVjiZOwB/vi1yJ9U\n",
       "bZOxV4JLdTJ6T5BXnONWyF9Hh4MPq1/8HcGI9faTdHxThlK1UDLEiNCiF64qqcKAJSmFrSSUQU1w\n",
       "+DLDxvxl0FIKTwjeyXPUi95oSBlmNw4FTUdBoI64ZSiOFahqmj61aNbv6cYn+EsNielbQlCZzR05\n",
       "dBNu2Utc5cyoWJJdKEk7iBdREnO2NicSiSgyk7htPIEW6WNR1wYwNddDlltQiVw0dwDNWlz2g7rS\n",
       "d9ZS/Pw1MzTCgooNEVelRO88mSJSSdrNPuCnMl4ZsfPUKMGZEdzabv3L6Etqb1whRuR2aymO5jFi\n",
       "OG9LxJaDGJA80hyC1B9OJwu9+bwdhOeAwNQsjqXckuy7Sp4il45QlyG21qPANMYMWNfxx7vRmObO\n",
       "ED9dI+u3p6YXWq3YejhmVDVD1FdXyFwpGkVyaZo2fVS9Bs8utNORK1VKXnehxsJBY7t2d8HU1u9W\n",
       "M6XgMc+GV7RiA6LtpqYItkBT8z6vlwrZ76Vy6WNobO2fUbZauNX65Bt5++Fs9wGu9vP/AGmJ8KR+\n",
       "ZgTjAAAAAElFTkSuQmCC\n",
       "\" style=\"display:inline;vertical-align:middle;\" /></a><br>(see <a class=\"ProveItLink\" href=\"../../../__pv_it/theorems/2d7a90dbce21b68af8311e4897acba3173dcb45f0/dependencies.ipynb\">dependencies</a>)<br>"
      ],
      "text/plain": [
       "interval_upper_bound: forall_{a, b in Integer} [forall_{n in {a...b}} (n <= b)]"
      ]
     },
     "execution_count": 2,
     "metadata": {},
     "output_type": "execute_result"
    }
   ],
   "source": [
    "%proving interval_upper_bound"
   ]
  },
  {
   "cell_type": "code",
   "execution_count": null,
   "metadata": {},
   "outputs": [],
   "source": []
  }
 ],
 "metadata": {
  "kernelspec": {
   "display_name": "Python 3",
   "language": "python",
   "name": "python3"
  }
 },
 "nbformat": 4,
 "nbformat_minor": 0
}