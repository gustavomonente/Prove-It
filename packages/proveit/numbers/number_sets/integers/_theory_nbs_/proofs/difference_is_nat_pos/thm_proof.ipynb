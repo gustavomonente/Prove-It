{
 "cells": [
  {
   "cell_type": "markdown",
   "metadata": {},
   "source": [
    "Proof of <a class=\"ProveItLink\" href=\"../../../../../../_theory_nbs_/theory.ipynb\">proveit</a>.<a class=\"ProveItLink\" href=\"../../../../../_theory_nbs_/theory.ipynb\">numbers</a>.<a class=\"ProveItLink\" href=\"../../../../_theory_nbs_/theory.ipynb\">number_sets</a>.<a class=\"ProveItLink\" href=\"../../theory.ipynb\">integers</a>.<a class=\"ProveItLink\" href=\"../../theorems.ipynb#difference_is_nat_pos\">difference_is_nat_pos</a> theorem\n",
    "========"
   ]
  },
  {
   "cell_type": "code",
   "execution_count": 1,
   "metadata": {},
   "outputs": [],
   "source": [
    "import proveit\n",
    "theory = proveit.Theory() # the theorem's theory"
   ]
  },
  {
   "cell_type": "code",
   "execution_count": 2,
   "metadata": {},
   "outputs": [
    {
     "data": {
      "text/html": [
       "Under these <a href=\"presumptions.txt\">presumptions</a>, we begin our proof of<br><strong id=\"difference_is_nat_pos\">difference_is_nat_pos:</strong> <a class=\"ProveItLink\" href=\"../../../__pv_it/theorems/5d4ef855e8e3df493cfec4411134c120da2348f60/expr.ipynb\"><img src=\"data:image/png;base64,iVBORw0KGgoAAAANSUhEUgAAAPUAAAAbBAMAAABW0dSkAAAAMFBMVEX///8QEBCIiIhmZma6urrM\n",
       "zMxUVFQiIiJERETc3Nzu7u6qqqp2dnaYmJgyMjIAAAAcRTyBAAAAAXRSTlMAQObYZgAAA5RJREFU\n",
       "SMfVlk1oE0EUgF82P9tsN2kPgvVSUws9eQh66cGfgAdFEFMQqwfpUqy0WqEoRVDR0mJNECEgalGk\n",
       "awOl9JCGqkhBMNCL1h+iBy3+EbUqtpiWomCtgu/NbPYnJlG3B/HBbCZv3sw3P++9GYD/VHbY66Zg\n",
       "EZaIdiv2+nVhcSlLY/tV+2x4sDT2GizedJHG8lhptogTz1DlpR209xt+hgq1DC3HT5tVJ81GpkFe\n",
       "uSzHFoIA96gybYctY2/4WLDpLZZEnq4svRNgBDzZbHX2E858DqCPVtBlh+1IAviCBZsWaWoBq87T\n",
       "KQTAoe85HOMOIyftsPuxp1jwVF10GlIl/+M7feQEY29RW0A02PXYNDE8fNGWqz3CUrin3EHfKR6I\n",
       "3Vo0eM4rCdXErsHyNRI5bou9AUstVc6N11ijzd9cizs5zuqJXJMnNupWTOzt2NACENU3K5sPCBVW\n",
       "k0SwnKXWFTBrbRmZlhYAXrG67u6emBx6bGI3hQE2gZTRe43nDKvGe4KGnaZ2WZb3njsMXE3T2Znl\n",
       "tgrzADeNYOZs2O9ppBr3kX5clgiCkR9myElurU2LMXlANbrO8KPrtRAOY6Fw3ajCIeqWZRJmpyF9\n",
       "x4WxPtWk1NiD8Nq0OciW06KhwK2CybFhKIc9V0zTXmC5pDX2SxATuwqkL/nh7VrU2F7zut2pBlOY\n",
       "INubwZiHeN07muV8neriIRtMGWxSg1Qf1u2Y9PI9xyWWz1nZP8CJUbaZ1StNbHheZhg10Uqie3GA\n",
       "TjfFpHBUCPp5VF4OG2xSSw/J7TQ7Jq3c16RF8GTGLOzP5AOar63R2Tig3GcYkZ/DNYxGZ9BNMVkW\n",
       "8GXirGVANuV9Ujcwp9Ds9AAlJ+yGp0rKwj4IPfhdx+piLm/5k1pcmtIDVAQoPwp0oTpCTqUxEokE\n",
       "IDUBl3Q2qeUpnkcFxTxx2tfBVbubQxZ2fDVNlB+O1LqVO+rJKmuSZ7HhwzFGYmXP8KdCdSQ9LJpu\n",
       "pOGuziY1xE+BbsfzeahYTuVQbYNcd3hOzZc3+r0Qa9oGfaqoToJMB+10gqvDdNdO4vdCVLPTxJkq\n",
       "epdAgbskf2q637iaR9dDQ9LdjuOdwf9P9t3/oBh+3s7Os6+N2+WeTOTC0aKDJ0pnZF/eo4m7hUDn\n",
       "bXlj5GSXdYcPFHs7MImWZovh3z5zSt3siVJvJl+sNPtFnjn8Hbs8aP+t9yfPlZLDX7fPdqrwT+Un\n",
       "7En1Ipqo3SQAAAAASUVORK5CYII=\n",
       "\" style=\"display:inline;vertical-align:middle;\" /></a><br>(see <a class=\"ProveItLink\" href=\"../../../__pv_it/theorems/9eb988ac0bdb3beccec38ef646b822afcae436ae0/dependencies.ipynb\">dependencies</a>)<br>"
      ],
      "text/plain": [
       "difference_is_nat_pos: forall_{a, b in Integer | b < a} ((a - b) in NaturalPos)"
      ]
     },
     "execution_count": 2,
     "metadata": {},
     "output_type": "execute_result"
    }
   ],
   "source": [
    "%proving difference_is_nat_pos"
   ]
  },
  {
   "cell_type": "code",
   "execution_count": null,
   "metadata": {},
   "outputs": [],
   "source": []
  }
 ],
 "metadata": {
  "kernelspec": {
   "display_name": "Python 3",
   "language": "python",
   "name": "python3"
  }
 },
 "nbformat": 4,
 "nbformat_minor": 0
}