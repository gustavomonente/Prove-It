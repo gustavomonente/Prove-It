{
 "cells": [
  {
   "cell_type": "markdown",
   "metadata": {},
   "source": [
    "Proof of <a class=\"ProveItLink\" href=\"../../../../../../_theory_nbs_/theory.ipynb\">proveit</a>.<a class=\"ProveItLink\" href=\"../../../../../_theory_nbs_/theory.ipynb\">numbers</a>.<a class=\"ProveItLink\" href=\"../../../../_theory_nbs_/theory.ipynb\">number_sets</a>.<a class=\"ProveItLink\" href=\"../../theory.ipynb\">integers</a>.<a class=\"ProveItLink\" href=\"../../theorems.ipynb#in_interval\">in_interval</a> theorem\n",
    "========"
   ]
  },
  {
   "cell_type": "code",
   "execution_count": 1,
   "metadata": {},
   "outputs": [],
   "source": [
    "import proveit\n",
    "theory = proveit.Theory() # the theorem's theory"
   ]
  },
  {
   "cell_type": "code",
   "execution_count": 2,
   "metadata": {},
   "outputs": [
    {
     "data": {
      "text/html": [
       "Under these <a href=\"presumptions.txt\">presumptions</a>, we begin our proof of<br><strong id=\"in_interval\">in_interval:</strong> <a class=\"ProveItLink\" href=\"../../../__pv_it/theorems/534cef9cef50608ae28152f22cdf2d3b445f8ff40/expr.ipynb\"><img src=\"data:image/png;base64,iVBORw0KGgoAAAANSUhEUgAAARMAAAAXBAMAAADaYbYpAAAAMFBMVEX///8QEBCIiIhmZma6urrM\n",
       "zMxUVFQiIiJERETc3Nzu7u6qqqp2dnaYmJgyMjIAAAAcRTyBAAAAAXRSTlMAQObYZgAAA5RJREFU\n",
       "SMe9VltoE0EUPXk1ySYx/VBQfFBbsCIioYIUtJriR0HxDaKItBYVFRURn61IDYKpVVjww8ePI4KK\n",
       "iomKoH5oaVGLL/ZHtIIaFAXfRRS0PvDe2c3upkmaFqLzMXtn7tmZMzPn3hngf5RQTT/ORRP+yZx+\n",
       "LVev8qHfn2rnA9fom+LGs2JROZN7U3rywJU9m6h2EYcSFbjHXe+KReVtzt7gpnz4IRHDrRCdI7yt\n",
       "LcXSRGSQVMLJtLuDeAmyk0Wi4lUziO3bvrsAlXki7T5B+Ltnzx4u1vlkDOSJiYK7csd0D4kC3+Px\n",
       "XcWiUgG4bx8tr5KNCyLjgA51jhVZP7wpn0ruUsbQ2a4CWtMe96d8k0T7ITA3lbYO0pC+GBLynNaa\n",
       "gBICuEfgc3YE/RGElQEWIsxMqV6jdPbBrjhQPVkamcK+apmBFrkgvTQDy7wpHJ+f+ctFap/QUJ1F\n",
       "JdCLcBnwik3aOS+cVl56b8Od66zBTtydkE3lRpk12Es6ZlP1QwGRiOKFlMqYT1TYWrKTqhkCm7Oo\n",
       "UEZJtNOukcdDWxPUvJbvh03/bccEkp5uLYvKc4t66CNHpGqjgpvARmRmCE6nw6F8y5VW5tE63kCn\n",
       "4k8tJuvkuNfc/jJO8I2xsIIPTvIOwkZFoiZpSGOczAT15eusA8J04LfCjVJLKy1QfiGQnXPDGu+W\n",
       "1Iqbpd26kvSz1dNLprPJSeceqtUcqn4joPuKjYpE1cnjkBh3s/RVigpLthhFCpD8q+wpTvlJ4r2W\n",
       "RSWqjDYiiGWLy8THFfEwK18Z9xyrRFgoUotKWbuNikSd38umjumSgRXDc0v1/q8Iph7JfJe0B3MM\n",
       "jxvaOWZgVAm+eTRfxIh1F0/EGnYknQ1kOqIu/jSiFp4d8XgMwaDwC5OKjjrfBgMDpSspFTLFmLNO\n",
       "brR/gyShrJllo3KqfGkjE98Go/LSUErVAzPFcdSFaK6E6ntKn7Bw8CjDMM0D5oTZyxFUTSoGyvk+\n",
       "jSHhEL4XI3MmfndXwcRvuU+nWw61fg6OCK94QrW/B1uu4Bb3RyK8UnNXGKXHjY7Rw6kp1FLgOiwt\n",
       "TKXDXEDjpRosSHrWt1PtbsBEDT5ab2j1+ofbLCoSJbOJ0DFcrmPxfXPU1sG9V8zsYk+zsiRtNTCe\n",
       "tGKWAT4jcj+dUOAVRxryqZlpWLXqvmWAVHI/KBEo+Lbt7rOPtjo/latxKvodG2BzP/5zifz7Kf4C\n",
       "hR4AiBCu2joAAAAASUVORK5CYII=\n",
       "\" style=\"display:inline;vertical-align:middle;\" /></a><br>(see <a class=\"ProveItLink\" href=\"../../../__pv_it/theorems/bd21e51aa5521de7210600dfa79e47e9334b454b0/dependencies.ipynb\">dependencies</a>)<br>"
      ],
      "text/plain": [
       "in_interval: forall_{a, b, n in Integer | a <= n <= b} (n in {a...b})"
      ]
     },
     "execution_count": 2,
     "metadata": {},
     "output_type": "execute_result"
    }
   ],
   "source": [
    "%proving in_interval"
   ]
  },
  {
   "cell_type": "code",
   "execution_count": null,
   "metadata": {},
   "outputs": [],
   "source": []
  }
 ],
 "metadata": {
  "kernelspec": {
   "display_name": "Python 3",
   "language": "python",
   "name": "python3"
  }
 },
 "nbformat": 4,
 "nbformat_minor": 0
}