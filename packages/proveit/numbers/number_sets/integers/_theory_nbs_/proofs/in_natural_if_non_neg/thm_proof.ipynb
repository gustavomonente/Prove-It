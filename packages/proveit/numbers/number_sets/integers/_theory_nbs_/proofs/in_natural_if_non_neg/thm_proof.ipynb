{
 "cells": [
  {
   "cell_type": "markdown",
   "metadata": {},
   "source": [
    "Proof of <a class=\"ProveItLink\" href=\"../../../../../../_theory_nbs_/theory.ipynb\">proveit</a>.<a class=\"ProveItLink\" href=\"../../../../../_theory_nbs_/theory.ipynb\">numbers</a>.<a class=\"ProveItLink\" href=\"../../../../_theory_nbs_/theory.ipynb\">number_sets</a>.<a class=\"ProveItLink\" href=\"../../theory.ipynb\">integers</a>.<a class=\"ProveItLink\" href=\"../../theorems.ipynb#in_natural_if_non_neg\">in_natural_if_non_neg</a> theorem\n",
    "========"
   ]
  },
  {
   "cell_type": "code",
   "execution_count": 1,
   "metadata": {},
   "outputs": [],
   "source": [
    "import proveit\n",
    "from proveit import defaults\n",
    "from proveit import a, m, n, x, A, B\n",
    "from proveit.core_expr_types import A_1_to_m\n",
    "from proveit.numbers import zero, num, Neg, NaturalPos, Integer, Greater, Natural, GreaterEq\n",
    "from proveit.logic import NotInSet, SetOfAll, InSet, Implies, And\n",
    "from proveit.logic.sets.unification import membership_unfolding\n",
    "from proveit.numbers.number_sets.natural_numbers  import natural_pos_def\n",
    "from proveit.numbers.number_sets.integers  import integers_def\n",
    "theory = proveit.Theory() # the theorem's theory"
   ]
  },
  {
   "cell_type": "code",
   "execution_count": 2,
   "metadata": {},
   "outputs": [
    {
     "data": {
      "text/html": [
       "Under these <a href=\"presumptions.txt\">presumptions</a>, we begin our proof of<br><strong id=\"in_natural_if_non_neg\">in_natural_if_non_neg:</strong> <a class=\"ProveItLink\" href=\"../../../__pv_it/theorems/fed88d15fe748023736b5a63fa74c4346ab89f8d0/expr.ipynb\"><img src=\"data:image/png;base64,iVBORw0KGgoAAAANSUhEUgAAAKcAAAAWBAMAAABXrpEPAAAAMFBMVEX///8QEBCIiIhmZma6urrM\n",
       "zMxUVFQiIiJERETc3Nzu7u6qqqp2dnaYmJgyMjIAAAAcRTyBAAAAAXRSTlMAQObYZgAAAoxJREFU\n",
       "OMutVU1oE1EQ/pLN72Y3ingQRVj8O0gPQUE8KEQEvSjEg6kHJaG0Si5SCpqDCgEDJoqyJxVFWBtQ\n",
       "CWKCIlgQjI0HW0VyEhWEXESsKC14KDk58/YvK7G4wYEls997872Z+eZtgGEs3vn72gw9XXY++yR9\n",
       "MAB7tHzNwMuldEQH3jCw4JP02yDwajgPeREypXmTqyn541RTg9BTmU3AamAWSBqA0vRHGtX73z4U\n",
       "i6KH45cjGUwCd+nU+Xr9hs/qPfuPbbecQlZeYNJkGliuVM77JN3MLduzYz37sqNHIaFlmVSh5kwA\n",
       "1UGR6T+BkRFHEnr26clF9iNOKwp4pWpEqlIz9gu9HIusa18UOrjiHRBxaiuRt4BzlOBGSGJHDC5p\n",
       "xJgg0gQ9UQTtUZaf7+xEdWXa8JLGd2VYnTR6FrAWkHqIauwf+UnWNUnlfJLUD1MFSifq6DhTRwIn\n",
       "7sBLivhuYm1ksMElDZQYgDmSdqY4HrZI490sIbVtXxAyxy/V6iNlnEp4nUZOxwW3/EYLL4Qf6CdV\n",
       "mxQVovJRHaeoM+EekuZk3864pALn33dGzsCUK1SjidMJ7rWk2aSkOOZKplB4QsxSKjyJmlibVuCS\n",
       "Cpws+IMzXWOFt0kfTT2r2Gmb9p33E6HEla6iswLNYB6jlUpFQ2setxxSgdNBV0RPf1nhByn1sa3X\n",
       "t4iXe2WhK0aXKIIHKcmVqgQ29NgnI8JroacdzDmkAsfDsld97zU9dKnYP5O4bzsBPXcYCh8hSWan\n",
       "rUwZr5VFB1LOnA7+oNg2azuhscd7ASoS70++/Zp3SAV+1LpRbSeuugKn5ypxMtxT20o+P9K2xfQV\n",
       "FktD/p18xD+RPqOpqBj4H5YaPvQ3KfStYNRrsO8AAAAASUVORK5CYII=\n",
       "\" style=\"display:inline;vertical-align:middle;\" /></a><br>(see <a class=\"ProveItLink\" href=\"../../../__pv_it/theorems/da7081e636b6dd3ee5a7192b766612341b591eb30/dependencies.ipynb\">dependencies</a>)<br>"
      ],
      "text/plain": [
       "in_natural_if_non_neg: forall_{a in Integer | a >= 0} (a in Natural)"
      ]
     },
     "execution_count": 2,
     "metadata": {},
     "output_type": "execute_result"
    }
   ],
   "source": [
    "%proving in_natural_if_non_neg"
   ]
  },
  {
   "cell_type": "code",
   "execution_count": 3,
   "metadata": {},
   "outputs": [
    {
     "data": {
      "text/html": [
       "<strong id=\"defaults.assumptions\">defaults.assumptions:</strong> <a class=\"ProveItLink\" href=\"../../../__pv_it/theorems/80f1e169fb7f3cf387294707bec3c7ffa7c433b70/expr.ipynb\"><img src=\"data:image/png;base64,iVBORw0KGgoAAAANSUhEUgAAAHkAAAAUBAMAAABbvo/+AAAAMFBMVEX///9UVFTMzMx2dna6uroQ\n",
       "EBCqqqqIiIgiIiJmZmYyMjJERETu7u6YmJjc3NwAAAC+aOQFAAAAAXRSTlMAQObYZgAAAfBJREFU\n",
       "OMtjYOC7wEAeyAMRp7HJeMRHLe2Kxa3T/LICA+MDIGMdNtnqSQxcDBtQxU7MgTO5Enj6GHgWMDDw\n",
       "TsCmezIDgxmzA5pglhyMdZWBwQroAAYGjgfICm53dCwA0XMY+AQ0Mcz0EoIyNjIw5B9gOMrA8AJZ\n",
       "WrsGzuQ+sAfTSdpbIPRHBgb/BAYuB4ZKIIdv8vQYkCDPGoTC67ywuIDJgsDDZWB1P4G6CxiYJzDs\n",
       "BfJcH3B9AIkyInzBswEeFzBZMHjZBzLvMwODfgED7wKGNqDKWAZOcPhyI6xmVIAFEVwWDG6AApkP\n",
       "aLe+AQNbA0MIAwPnHwaOApCU6iogAIcagyeLAVQ9XBYEKmyQXM70AaSbdQPDeQWQ6GuE3QuA7mA+\n",
       "AGLBZYG6LArgoZafANINdPl5A4Z8sCArXDNzggmMC5dl4JsBC8jdDAz3DzCwNIBC7XwCgxQbKMA4\n",
       "4S58yCfAwDAVohsmyyeVgJpagKFmCQysAt5GZrBoG0x6D/cBhoO3Gc4vQJI9jUh7HAk8QUDLDBg8\n",
       "gN4RL3pYAhY9uAXsVQaW6KW7t37dycDRgyyLADzmhcCg4FJAS6nOOyApFQZy8GXRE7hyCQwY4JME\n",
       "5hKGfXjkeQqQOKc6QKAJIbkAV+kABbz4rOYGRwS5JdM9BgYAK4qCNG+iuW0AAAAASUVORK5CYII=\n",
       "\" style=\"display:inline;vertical-align:middle;\" /></a><br>"
      ],
      "text/plain": [
       "defaults.assumptions: (a in Integer, a >= 0)"
      ]
     },
     "execution_count": 3,
     "metadata": {},
     "output_type": "execute_result"
    }
   ],
   "source": [
    "defaults.assumptions = in_natural_if_non_neg.conditions"
   ]
  },
  {
   "cell_type": "code",
   "execution_count": 4,
   "metadata": {},
   "outputs": [
    {
     "data": {
      "text/html": [
       "<span style=\"font-size:20px;\"> <a class=\"ProveItLink\" href=\"../../axioms.ipynb#integers_def\" style=\"text-decoration: none\">&nbsp;&#x22A2;&nbsp;&nbsp;</a><a class=\"ProveItLink\" href=\"../../../__pv_it/axioms/a26a64917b9e68a3bdf19565512eeab06a31ff570/expr.ipynb\"><img src=\"data:image/png;base64,iVBORw0KGgoAAAANSUhEUgAAAL8AAAAaBAMAAAAUFZBoAAAAMFBMVEX///9UVFTc3Nzu7u6qqqp2\n",
       "dnbMzMxmZmZERESIiIiYmJgyMjIQEBAiIiK6uroAAABqpg13AAAAAXRSTlMAQObYZgAAAtBJREFU\n",
       "SMe1lk2I00AUgF9+Jk3bbSgIi6wIXQ/irREPKj20CLoIgpUKgqhE6cHDlg3o0q2iBFaw4iU3WfDQ\n",
       "g1ZXRANFUHbRKipF0C0ingQrqHhQFHoTEd8k9ic/E7DFgUwy85L3zfubCQCjSR0Yu0XDhMfH1w9K\n",
       "MkTYCJ6OnfFaWlHZSg6zRREzcFq451/mc7aWBMKVd79WXq7WvKK0KjyqNoCsvXIb8MOv5WxIEHS8\n",
       "LmpgyT7RIQC5hnHI0oHtBIF2pO3XcpQN4HE9kTyQ3DGf6CkA9zZqwgQdWLSLjwCANwhQYVrSfegu\n",
       "Ar6ok5CgI1trYhTAgt0vyr5EiDURsDmZUccEXLWVmbf8SYRe4VJ7pWQIQDmwaamC9yMhgO906TsE\n",
       "wx6QFbvZ7pINCiCdZQ+AswYfE/kSZFMAd0MAcxp2k1zKJ4gnKQDWcSU3YJ82eKeYsCCN47jOBqRx\n",
       "w1H0TwEVotuArbDqApx8TfPVsVRTsx1n9RsDipI4N3wF0w/dUfBa4ACk/Kzbgq9DFsB+gA1/rfUH\n",
       "cWDBQYJdcxAD+3XZcRFck/t1kLFjYLhL+KfgjUFpvhN93AfMpYBPTuOw6VkAVcThaskWOjpPuxlf\n",
       "mj4DsUuGs0jYXa6JRgFO9QGYRbK6CMKU4d1EkBjP9TaaDKKUhhfA/wZi1Yfr4OaubSAuRyBPyufK\n",
       "p+nMbfTq5VZ1reVNBKUL0vtWzzH8/T3F9aqvDtrAT+UcwI36ko7pgk9i8YSZ71uwwMwv9yYqXak4\n",
       "qcyq5Dsv4ImzW4laoT4APGAC5oOnSTMQwO9sQxe2OwBC9B5A6DIBs4wDjXEecKbShFK1WjVFja+1\n",
       "e4AY+8zkcsHzASca9eaEFslrnGMBfMbCk5x61ZgAwQqeF4PP5DQkPmqEqot1IJbvCa+HbFMz//T/\n",
       "8AGieMBfwKdvDwF6juGNkE/EEf6LohgD136hwv9vfwAWGK90UNmFmAAAAABJRU5ErkJggg==\n",
       "\" style=\"display:inline;vertical-align:middle;\" /></a></span>"
      ],
      "text/plain": [
       "|- Integer = (Natural union {-n}_{n in NaturalPos})"
      ]
     },
     "execution_count": 4,
     "metadata": {},
     "output_type": "execute_result"
    }
   ],
   "source": [
    "integers_def"
   ]
  },
  {
   "cell_type": "code",
   "execution_count": 5,
   "metadata": {},
   "outputs": [
    {
     "data": {
      "text/html": [
       "<strong id=\"int_union\">int_union:</strong> <a class=\"ProveItLink\" href=\"../../../__pv_it/axioms/6185f999be9766d37f0b8f39901fa62ab40f0d280/expr.ipynb\"><img src=\"data:image/png;base64,iVBORw0KGgoAAAANSUhEUgAAAIAAAAAXBAMAAAAxc1oDAAAAMFBMVEX///9mZmaqqqrc3NyIiIgi\n",
       "IiJUVFTMzMyYmJi6uroQEBB2dnZEREQyMjLu7u4AAAA1o4RqAAAAAXRSTlMAQObYZgAAAdFJREFU\n",
       "OMtjYMAKGhtQ+ewiDxhIAW83oItwLsep9s/ZBwy7fk1AEezHVCeL07YT7AkMfB+ADLAj+cBiWzGV\n",
       "bcVpQGqBCwPDAiDjAojHS7oBmefYChgCgAwQZmAl3YDkMr57lBnA5FCGxwDObcYuIkB6F24DGHZy\n",
       "OKAZkIuQ5uY5wvDeAGvEwA1ge5COagATUqQXsV5gsC8Ahq4AbgP4EngXIBvAfhRoI99dMCh48H4C\n",
       "xPZUB0y93BADGKrZUQxATXb6EB/xJmCxnBFqAIfCAVg6eAuWyEFNgj/40MOgVHoCyzKoAelAvBlk\n",
       "gCSIp4gRZ6sZmP5xI8cCn7ZgA9OBfQxyUAMugZwCsv0tMKg476EbwPyTgftCO7JQj/I7BqYWRoYN\n",
       "3IKigkIMpb+AtvOBDGC+o16U8wAjHQQwMGcoQIQa210EGDhB0cFUVOywAeoCpEzvKGLAgC8ldq5g\n",
       "WAzJLUwF+9oxDUCAXVgNYH4SwPCP4SHEAG5uATwG4CgP2Bw4FzCUnjlzxoGpgLkhAI8BvJgl0kog\n",
       "wVXAuKGADeIChunAhMWOM30rYi0T7RlYJxVwAyOLgWMCA8cGBpLBNAaWHQwMh4CsqTcZGBIYyAQs\n",
       "wDBA8ABJ4X4TZXVETwAAAABJRU5ErkJggg==\n",
       "\" style=\"display:inline;vertical-align:middle;\" /></a><br>"
      ],
      "text/plain": [
       "int_union: Natural union {-n}_{n in NaturalPos}"
      ]
     },
     "execution_count": 5,
     "metadata": {},
     "output_type": "execute_result"
    }
   ],
   "source": [
    "int_union = integers_def.expr.rhs"
   ]
  },
  {
   "cell_type": "code",
   "execution_count": 6,
   "metadata": {},
   "outputs": [
    {
     "data": {
      "text/html": [
       "<a class=\"ProveItLink\" href=\"../../../__pv_it/axioms/f746140ff62e41cb4c8e96c0689c3e732c5cdf180/expr.ipynb\"><img src=\"data:image/png;base64,iVBORw0KGgoAAAANSUhEUgAAAIQAAAAaBAMAAACEBumnAAAAMFBMVEX///8iIiJERESYmJiqqqoQ\n",
       "EBB2dnbc3NyIiIhmZmbu7u4yMjJUVFS6urrMzMwAAADZVrDbAAAAAXRSTlMAQObYZgAAAj5JREFU\n",
       "OMutlEFo02AUx/9tmnTN0m/Ti9bhHMGDBw85TPGgUBTBi7F4V3Mtogy9jCFrFCbMU6EgTi8f6EGY\n",
       "MC8K6tAgguJBqlBBEJyCMkGht8Gkw/flW7IsTWTrfNCX9PG93/e+9/75APzGFswVjnlbQXwWrp/H\n",
       "okojFvh5Ix2hWeRuxYL64651rYV0xi4gvwz9hfkU2rkzq0W0u5YVHqYjpqmSOpC1fgFzQWmD3dUO\n",
       "piNqgFoGjOE+F2pviEwZNeqm8YG/Q6Y3RGEEB+hhTHqzvEdEXwV3BGLsBPOSEB9fj0+TeLRKOqK4\n",
       "DNNHaM1DAcKItN8xXX0pcUihsRXM+wi8Nb6uxo6viYCVh5BfoZcn6Yh8ByWJeIBHMvRtB7nZZ8Ke\n",
       "63pHVmDsTEh2pBI7/gaEYM73BCnm2vJc80n714Mq9ksERrNBL0bWyXLA4rFesNIFTHkBgi3hpcii\n",
       "jbVLCRNRHZziTnQi96oNHNV4gQcImsiU+FhJoTRd/U8cUWvivLIQCSl7JziOuXUN1ZnSjEhTKvjC\n",
       "wfacFi0EtvEY4j1wZVSGlMYifVGfRNS2x7WwF6ROtRnpHk9Xp9Ky1DH4mrG1uz9CRL+LghNZ6rtK\n",
       "ImLiKga47qfZcKohYo5OEcm4/6/74g1aYNtNcx8hLmdCxGH6vVpbavk+4dYShz2LmwyerKK4SA+p\n",
       "n2HZxvWWS7w7823stnFR/D8CHAxHJPqQq2/oqi56uG4hS3MsDjVhBGGpppObufSvUS+idhv/w/4C\n",
       "y/SL3SMouGwAAAAASUVORK5CYII=\n",
       "\" style=\"display:inline;vertical-align:middle;\" /></a>"
      ],
      "text/plain": [
       "(Natural, {-n}_{n in NaturalPos})"
      ]
     },
     "execution_count": 6,
     "metadata": {},
     "output_type": "execute_result"
    }
   ],
   "source": [
    "int_union.operands"
   ]
  },
  {
   "cell_type": "code",
   "execution_count": 7,
   "metadata": {},
   "outputs": [
    {
     "data": {
      "text/html": [
       "<span style=\"font-size:20px;\"> <a class=\"ProveItLink\" href=\"../../../../../../logic/sets/unification/_theory_nbs_/proofs/membership_unfolding/thm_proof.ipynb\" style=\"text-decoration: none\">&nbsp;&#x22A2;&nbsp;&nbsp;</a><a class=\"ProveItLink\" href=\"../../../../../../logic/sets/unification/__pv_it/theorems/014ed4426a19e25d00c613ba1b4086a1611f07870/expr.ipynb\"><img src=\"data:image/png;base64,iVBORw0KGgoAAAANSUhEUgAAAkQAAAAZBAMAAAAiQSxpAAAAMFBMVEX///8QEBCIiIhmZma6urrM\n",
       "zMxUVFQiIiJERETc3Nzu7u6qqqp2dnaYmJgyMjIAAAAcRTyBAAAAAXRSTlMAQObYZgAABkFJREFU\n",
       "WMPlWWtoHFUUPpmdSXZndrb9UQtalCGVKFXJQqqFPuiq+ERx0x9ppbVdqkVaRFcLDU2q7A8fG0V2\n",
       "f0gaKpqxlaTUUhcjaqXiGhFkFRyaFis+ulD90YJ2sa19SFvvc/fOzJ3sJBho6YEzeydz7jd3vnvO\n",
       "uefeAISR1t6tcG2K2rstnGEbXLsyeHVQ9A7TSWV/WLSY09zGKFLFFFXxz6/NKQplN0Oi56jKZS3P\n",
       "BsWQcLuDHmjVRnsjU0TRd/jnRHOKQtnNkCSKVOVykhNJPlAj7bTPKt14eDzwPbVGex9TRNEQ9rxc\n",
       "c4pC2c2QTDCVinnSZq1x4kuYC9PymW3Al4OkQzII6rcLjXbcooooSqAXxEvNKQplN0OylWlDjvT2\n",
       "8qD4YDn3r/eIo2TweG0fRg++9JGPKQYg6WPnheCeTRVRZFb27NkeIl2HspsZiWWpNmTVgkbb6Uzx\n",
       "OEnxMLpXHqwq8Z/tQUimclp48jtTtKKdy+e3haAolN3MiJKkqrdvvIcEky7kRNX+ki9QccLAGNIB\n",
       "yRKFHkaJ/8xHurPjrdstDxI8bFwU7r5mOkiCdEA6sribokC7KTnEFGzrKTfqUN0LP1ovedeu92Ed\n",
       "TzxmlY1Vk+VM5IarSONNxEzZfKGt6kHSU9rfYmJiOoidUq9KhxhxU+S1k/MVdQV6yvu47LcJBPi4\n",
       "/vYS1Qr8YD9EbFyvGE4yUgwSjIoFrSkJcDvAU6TRj2bfjl9Qix4kFWKnhNtPmQ7iz1c8pdTKpSll\n",
       "ro8ij515WvqFR12j884mnbSjqUkoajyMcLJaUlRtyNM/dP+FhM6X9mTXcznQujA7Glmz9SxdrL0y\n",
       "yqd4DrKBaM6LBD1dd50T7NcxRRTFHbF21g90OUauAot9FLntYNdFaZG33AmgCAPDGtEmInoqvxEA\n",
       "9IyHIgAWCEPi1EML+kS1QREsoTWcLyhKbEGegy+zLC8Sdvmb5BTFqj3iGrh/DxgHI1COdy3qWiJS\n",
       "5LaDymZp/hpNBlCEgWlxwm2ioqPzGxHguCfQQDvDOGvA4kezGUUqXfXehaw0DVbZFPcTAtJeJAPp\n",
       "84L9A0zxHm0Ahai5bMV8pSNNl0Vj9eNW2edFxA7G7+ygdaqVl41jRTTnpwj3oettVrSRUiQC3OFJ\n",
       "158rNSBrdKReGcZKtCYm7NB0DdEnLGkIv3IQeLo27E5QbBcSvE0L9YnD7cn2De50DWMI3rzbadmk\n",
       "ZCBB+ExXDksownaK/WwbcflWWIQuvgotE8n6KCJ9ErzAYTabAigSAT4RFnOk6r/RGtuB9nMTXONE\n",
       "zzOKImWanp4mw9Iv8cuHlLqevvpq/lipwLbF/WLxBYUiHLoR5todqL2U6SALyx23wKwUesUuSlEc\n",
       "j8pLEbbT4E/6l5+hE7SvvBSZJaXmo4j0IcBqjtusuUFOkQvgQZ5vskT19Qvms330yMv0zbsvnwCj\n",
       "cDZJKUqwMuEY/dnCL200qSWS9Qgaad+5zHEh6YVLNnx2eXNsZxZOE2r+YIopMrHReujG8b4yn89b\n",
       "RjrmZP0UETugNbp+7PuC7a/z9y399oIkF6E+BFjN1G365BS5ANYGb0Aeea3XVYEQikbZzY6AmoyN\n",
       "1r0B8SK1Wtps7FtoYSTaOC+6Dm6FYQ3FD/EiuM/i22LPeZFWI3+O2DCc9lO0GGJnYOKLidXfiBTh\n",
       "PgSYVC/EBlPUClTpyKi6AO4PtY1tUDQeriQN3saSBJ5WcrFaWtzGMoZryI+OxCFO9skpMMvyI7Xh\n",
       "eDUOQzY8iuLOwRTFXke3/KIi570IH1VbSgcEikgfAoxnhdpgilSUj5bx3vTGDfCLWE5OWm+SqjGg\n",
       "AvbLpJuEYeRHZq4sHoawWcigJXawAvAGDla0e8vIKRo5NF6B7lL0HMQKL2KKtHnQXdSux5d5UMjB\n",
       "0FmnNT0KCwWKSB8CjImhNmTP3fNqPsV70xs3wMJwR2p4hhf9YzUhMcyRGhDXTRRjz9iExwHpwayC\n",
       "UkbTg1l+JoIDzXAVFtR4DLIlb11EgG+r3/ZNummmANWpHcz+9H8ezJpFqtM8uzbYdGmdS8QTY94a\n",
       "gZthfVG6Aaln5xWnJjl6YgCGA1eCTIsiU7xxJK3APZo6la/eBVcVRdP8P1py2v+lQLLgSiBI7d3y\n",
       "H92z4BxGI7FCAAAAAElFTkSuQmCC\n",
       "\" style=\"display:inline;vertical-align:middle;\" /></a></span>"
      ],
      "text/plain": [
       "|- forall_{m in NaturalPos} [forall_{x, A_{1}, ..A_{_a}.., A_{m} | x in (A_{1} union ..A_{_a}.. union A_{m})} ((x in A_{1}) or ..(x in A_{i}).. or (x in A_{m}))]"
      ]
     },
     "execution_count": 7,
     "metadata": {},
     "output_type": "execute_result"
    }
   ],
   "source": [
    "membership_unfolding"
   ]
  },
  {
   "cell_type": "code",
   "execution_count": 8,
   "metadata": {},
   "outputs": [
    {
     "data": {
      "text/html": [
       "<strong id=\"spec1\">spec1:</strong> <span style=\"font-size:20px;\"><a class=\"ProveItLink\" href=\"../../../__pv_it/theorems/fbe1b6ce8ed9d8f253e825a8f5b21fd6a211e9940/expr.ipynb\"><img src=\"data:image/png;base64,iVBORw0KGgoAAAANSUhEUgAAADIAAAAPBAMAAABU9YHxAAAAMFBMVEX///9UVFSqqqrMzMwiIiJE\n",
       "RESYmJgyMjK6urru7u4QEBCIiIh2dnZmZmbc3NwAAABRgo0vAAAAAXRSTlMAQObYZgAAANNJREFU\n",
       "GNNjYMAAHF6/ypdUJWBKMHDHGjAUsGKRYOA9wMCjcAJZhC3ExR0sM4HhIfMFJAnm6AlwdiQriM13\n",
       "5/ZKEG86QoJtQxqI6nrA/gFEyyG0T+UMAJKcyxh4QTRDAEJGmPEByL6fDCwbQNYsLwcCiIcu9IAo\n",
       "rgCG+QYg6xB62EH6TzLMP8CgD+YvgMsc4mkAcecrMIgzgYy9DZPgE3gItGQBA+sGNkcekACLAlSG\n",
       "dUIkA6dYAAOn9OaHO0ACnKKdEJmu8KWh65ciBwLHUUjoQAEAnkQxLZ74G3AAAAAASUVORK5CYII=\n",
       "\" style=\"display:inline;vertical-align:middle;\" /></a> <a class=\"ProveItLink\" href=\"../../../__pv_it/_proof_in_natural_if_non_neg/c73d0fbd2c7c47309e5c24937eb39724cf953e5a0/proof.ipynb\" style=\"text-decoration: none\">&nbsp;&#x22A2;&nbsp;&nbsp;</a><a class=\"ProveItLink\" href=\"../../../__pv_it/_proof_in_natural_if_non_neg/069ff469420207696dd84f91dbab8dcc54d7706d0/expr.ipynb\"><img src=\"data:image/png;base64,iVBORw0KGgoAAAANSUhEUgAAAOsAAAAaBAMAAACk6rZaAAAAMFBMVEX///9UVFTMzMx2dna6uroQ\n",
       "EBCqqqqIiIgiIiJmZmYyMjJERETu7u6YmJjc3NwAAAC+aOQFAAAAAXRSTlMAQObYZgAAA09JREFU\n",
       "SMfFVk9o01Ac/tJ0aZsmpQzBMXFkyMZAdBWcU5hSFWWerDo8OSl42mUGUYbgoV5kx8Jgc85DD6I4\n",
       "hvQgOpyTehB1Ci1TkTHQehMVu4M7WcH3J8na7GUzTvAHyUt+78v78vv7HuBPAklsVEJ/8U3rhlkR\n",
       "jPv/ZkqsXii5nDJW8F5jP73FSt6AQbciYgpxc4lVJp30XjVMf+mVaJmfjwroWk5KZddERWzEx9Wq\n",
       "G2sEN0tu90Qzs4E4tCVoOeYxpjLobZ94ob1/pLIltgToWdFMkzEEpIBu+iJRRp259/S/oMU14ug6\n",
       "Py4ODzMDNz0mXBngGbM2bgckVoUI7Zd2Avhc+779ivXQ0qpNUVqVlSmNwzH6oKeEaL+0l4DL1IiR\n",
       "sTP0VXPKo0UxWymtzEIwQK4nLJFzQnQtR3DX96ExMnatQXu8gFkyHCmrSyyIjsNbsFs3Ca3OnBgm\n",
       "js7Th2heiEbzypJy9CGKZWFyO9Jp0PBq/YjwVbFCKxUaCa2SYRlvQmLeVuNCtFJTpO3hHCokB9Ws\n",
       "N20liT7iuirCLE/bJonkOK0WV0kgA8wuLYM5XuhZETowTazTJpkYhWKSW9ok6CwyH4qMtiGPIqvK\n",
       "rzXWYlvAocUo9rCRmiBA17Wk89znqqjzRhxriZOLCYol0lBLq6eJK4PMyfgCPkbjQjS21LenX5o7\n",
       "th0jydAJh7azTFOqmEazUq7ruI3kOpC3UwrRHXxGygvRddVyCkpVrs1k7dx4Scn34KZDSzKZtLuo\n",
       "qV+V7fbB5bZVLRHe4wNNvBeHUkJ0LW3sB+TcfK1qcfA1lPcRJOTx6+OjVPMO6CW/s/nCp4sM8fQ+\n",
       "X75jmZhFG7Jq8E/vWkGsitD1dZtBbGuaqxbmh7II0pRW2neaCcfaCXdzPDxttTtLXljjN2vsgxDt\n",
       "0aXe9uMsVFZiRs/8Cu0dr63Alm7X+4gY1iWkjT3PoIqXnFamDY/TalW763mIlnMp2uBnv5XMYAod\n",
       "MzMzpmLEShmbVo97bPO2RN3bvJQW4tTVpwsajgYjkjAkbi0OmfbOHTbWOdR8WNd8SwaEZ6kKwkcN\n",
       "me3WSejOr73xf4Qb8AM+iBA5rj0gT723ALttxfL+aRX/5+QQiW1dhyzgf8lv9A/cwKyXG5wAAAAA\n",
       "SUVORK5CYII=\n",
       "\" style=\"display:inline;vertical-align:middle;\" /></a></span><br>"
      ],
      "text/plain": [
       "spec1: {a in Integer} |- (a in Natural) or (a in {-n}_{n in NaturalPos})"
      ]
     },
     "execution_count": 8,
     "metadata": {},
     "output_type": "execute_result"
    }
   ],
   "source": [
    "spec1 = membership_unfolding.instantiate({x:a, m:num(2), A:int_union.operands}, assumptions = [InSet(m, NaturalPos), *defaults.assumptions])"
   ]
  },
  {
   "cell_type": "code",
   "execution_count": 9,
   "metadata": {},
   "outputs": [
    {
     "data": {
      "text/html": [
       "<strong id=\"a_in_int\">a_in_int:</strong> <a class=\"ProveItLink\" href=\"../../../__pv_it/theorems/243c1fc15ff6fd05556b800f2ea2d9c0ff0f136a0/expr.ipynb\"><img src=\"data:image/png;base64,iVBORw0KGgoAAAANSUhEUgAAADEAAAARBAMAAACGHlkZAAAAMFBMVEX///9UVFSqqqrMzMwiIiJE\n",
       "RESYmJgyMjK6urru7u4QEBCIiIh2dnZmZmbc3NwAAABRgo0vAAAAAXRSTlMAQObYZgAAAMpJREFU\n",
       "GNNjYMAGTucYIPGm3IQz2RU4/ZAVqsvBWFkMDMdRzGgXhjICGRj0J6BImUZA6I8MDP0KDAx8d26v\n",
       "hEk9LAKRnH+BMhsYGLoesH+A63oLspnvDwOD/QYGzmUMvAFwmZQLIBmgHvsDDLw/GVg2wCS2nEQy\n",
       "jSuAYT7UW5xHNsBdoK/AMP8Agz6Ez3clAao1lIEhfwLDfAUGcaYHIAlxBVSfsm5gc+QBcac2wN3B\n",
       "osC5GGi49OaHO9AClPP0RgMGysB0FxBwhvMBoBsyeenM43oAAAAASUVORK5CYII=\n",
       "\" style=\"display:inline;vertical-align:middle;\" /></a><br>"
      ],
      "text/plain": [
       "a_in_int: a >= 0"
      ]
     },
     "execution_count": 9,
     "metadata": {},
     "output_type": "execute_result"
    }
   ],
   "source": [
    "a_in_int = defaults.assumptions[0]"
   ]
  },
  {
   "cell_type": "code",
   "execution_count": 10,
   "metadata": {},
   "outputs": [
    {
     "data": {
      "text/html": [
       "<strong id=\"a_elem_union\">a_elem_union:</strong> <a class=\"ProveItLink\" href=\"../../../__pv_it/_proof_in_natural_if_non_neg/0ab8cdf8c576368fda549301a3d0dea1e51a75340/expr.ipynb\"><img src=\"data:image/png;base64,iVBORw0KGgoAAAANSUhEUgAAAigAAAAaBAMAAABvDro5AAAAMFBMVEX///8iIiJERESYmJiqqqoQ\n",
       "EBB2dnbc3NyIiIhmZmbu7u4yMjJUVFS6urrMzMwAAADZVrDbAAAAAXRSTlMAQObYZgAABehJREFU\n",
       "WMPtmWuIG1UUx09eM8nkQQpK8cGaRsFaK6yP1gq6zRetRbTptiiotamt0K4Ka7+IuJjxQ6EFlVRl\n",
       "yW4RpguCGiFBWuvuKsZtUXFhScUVUbHZssUvyi6ISoMVzz137mSSmQnM7v3oXfZkXmd+/9x7z7ln\n",
       "JgDwO/hsng6pBqy66cJE/UFksKOWgFTdp6u3w2+r1wU/C5Os+4LIYBOSBMQNn67eDlPuh0NvdXdr\n",
       "2Zup9Auz3xdEBpuQxC7jv9rved02x5Gy16Ux3fWw9rFzSJ7yFnatMAHDB0QOm5DIVlv4OeF+zcHN\n",
       "TUgMdx1Eh+TVf07vPO3oyKKhfZ6dAmXvns7BWnbe+YS3sGPCREtup4vuAy2HTUhkK+zzTPv4yfF2\n",
       "nOS0taDVzD3ROegQvaUJtaDjlocAgv0Y21W2Q9o1ckg76fu8hRWFUZfdTh9y95LDJiSyIznsT/uY\n",
       "PPSV2NoE8CxOF3Nv0vxEh1gBlNzzjlvuBkj0RXWIsB3qy/gKhAVywlzldnq3u5ccNiGRzaZjoCNE\n",
       "fpozNzYC7DDgXTNBrTOs+RszYCTlmNwsEBPfGnMQYHukJrACYbGMMG/ajt5sg9iiY92a62SyCYls\n",
       "nA7wQueZi7fxz38ALuQgzguAxA+6NX+wbQg6YjuUx6teqVeM1QmL5oU5Ytdkg7RXkvWGXDYhkX3C\n",
       "TGvqaPlxcWrkFAXlZewUnScdgAqkbXkqpN/pHGKctYnhB1P1HsKSz714lK1ez/QoFlrCXLD1u4hw\n",
       "BrG0VgzJbEIiO4ubN+L//HC8ndheWsvQfwEs6RDimfYA/lFjDjChZXjWnaZGioMZJkxpbOkSlqjZ\n",
       "qpDgeqhisG7tURv+K8xSk77vGmqX+VkGsbRa2U8Wm5DI/pSnF20Xj2PebmffUkUdSwUI885Ow8v8\n",
       "HHOAOcdKjZmtzoTBN4mFTmH3N9vXLAZqUMT9eMl7BbgiTNFeuYdPWRBLa0Y2m5DIvgY3cW2PtSBg\n",
       "1T+vDtnCJ7XM4wUSHMAckqXvXZaNEgn7EE53CLvIZp3GZ1TTqDb4SH3hUmwpvN66Iky143GmskdA\n",
       "hNbUE+yeMtmERPYk75RIBqpmr2r7dCvR7siZnYK1nvnMM0nLHQ7SUPdM4cJShUudozVvGy3YATBr\n",
       "jqwzKfWaKeqXwwIitKoZ2WwxUzby8KkWmA/Rj4tSFbPHVgOShNhulXjM4YCCzvl2TiFMkE9huCto\n",
       "1QoViutMZzn5h9Yd1wujjeiTQljqb2GWqBtiHDHN45VBLK3tlUgSm5DInuGJtpqD2TDjqrO5zuKN\n",
       "J9ozZscAc1DrI3ibfFdnMwEsxJTDbO8d0ZWdy+KjEG4p9hVAe2CsP5wZgnEhzH31SdbaEEtrWTZb\n",
       "rD5HzBpZD11PcTXRsNWWGj48YfmKvZexntDQIWhsAO1sxqXAiOfEol1BicmpbmE4NZXagL1WuGPb\n",
       "BxDeEoOCMnZ87G1RiZDZZM8oRhtiaQ3kJLMJiWzWN+ex075+Y+T17kfMg6+xZM3CMsG6KqqbnTl/\n",
       "62B272DJWWCkbhgUE1f96JHFGcNRK6RBPZvjwu4ZOFrClM1WlsVf9YIYLfeKds5WxVhatZkf5bJF\n",
       "RRtpdJf5Xe0k3ZA2KWtFPF9xdT6gpo6V+W29qsr7dsFj/Akl3BwasITFdWE+sTkMu0KST5tlviQ2\n",
       "IZHNoiPUY+W2HgitPF3wunLU47VR3lWY+l4aWvA+F6awupkLqxqm0Vo+IHLYhER2Km973GLzj+rH\n",
       "vnYM1borzrxXp1zyePnl8U4joSfzsJDNZvVwU+1PC2H3ChOq+4DIYROSsc95v2Sixc4RWue8Lk3k\n",
       "3I+7vP1isz3SjBWaCT5a8AvGS4rO9QkTaPqAyGETss9MTT1eR97tOFLxutQxqUSF7v6etAiB75oK\n",
       "kxFqQEgEJW2Q2ewHIoVNSNoLl3y+uPZ22O7zvX10P8BNuHX+MwARK4eFUTO+IDLYhCQB8LDfXwI8\n",
       "HcIr+O0linFt3x8XJmb4gshgE3Ic/m9u7T+n2CAUXroTqAAAAABJRU5ErkJggg==\n",
       "\" style=\"display:inline;vertical-align:middle;\" /></a><br>"
      ],
      "text/plain": [
       "a_elem_union: ((a >= 0) and (Integer = (Natural union {-n}_{n in NaturalPos}))) => (a in (Natural union {-n}_{n in NaturalPos}))"
      ]
     },
     "execution_count": 10,
     "metadata": {},
     "output_type": "execute_result"
    }
   ],
   "source": [
    "a_elem_union = Implies(And(a_in_int, integers_def.expr),InSet(a,int_union))"
   ]
  },
  {
   "cell_type": "code",
   "execution_count": 11,
   "metadata": {},
   "outputs": [
    {
     "data": {
      "text/html": [
       "<strong id=\"new_assumpt\">new_assumpt:</strong> <a class=\"ProveItLink\" href=\"../../../__pv_it/_proof_in_natural_if_non_neg/4ef64fbfa55a5ec04d7a40f2bfba2bdcfe79b7280/expr.ipynb\"><img src=\"data:image/png;base64,iVBORw0KGgoAAAANSUhEUgAAAVgAAAAaBAMAAAAApVmgAAAAMFBMVEX///8iIiJERESYmJiqqqoQ\n",
       "EBB2dnbc3NyIiIhmZmbu7u4yMjJUVFS6urrMzMwAAADZVrDbAAAAAXRSTlMAQObYZgAABM9JREFU\n",
       "WMPVWF9oHEUY/+7fbjq3u20VbWOwnodCWiuc2tYWFA9FtILX8xR8KDZH8SFnaTnal1qCOQsRIz6c\n",
       "BkPaoq7V+nKBVDFC02CXKLQolFRIoVLoKVZbUJoH29JiivPN7Mz+ud0NJt6D8/AdM/PNzG9+832/\n",
       "mT0A+BPaWYzpxc9Rk8aw2gr2j/9gjvPSpM22gp0Ibk4M+RouvxM+h5ITZgSrexYI5Zn5HJbUApvJ\n",
       "1y1NM83wWe6yjXoTx2YCfXo3hE5wpmfreNeLoFVFg37H1eMvjOf8fv0mOZGdAKXnFS+xs63bOhoO\n",
       "dtA2Sh1DoersuVOGRTpPVoQN3/8RpCEDRK7QsboJR+MtfhWAeI7G7RhW2MyEHeyy1rNeFg623zap\n",
       "PP3d5OpITgrk6wF2hA0fBnhVoYneK4kpg5Lf2eL3EoC2qqMGKaywnaUXADaW56Yft+shUJ+0D38t\n",
       "wBZ/9iXuXd6FvwdBtS7T3yMSrAl9Rt2/CgaZ9qN5GmJYY3BiCwC7JMPNepzS62dkuTb+DXAh71PN\n",
       "bok+bq5BnlwyuibeIiyJIgX7htUwFwe2o8jNIfxBRl6vDIi11B8QI7lBwdrJLDobDpyNCSYoDpmJ\n",
       "2iOBWaNVnzWsCLBnT+4dpMsoxXCw+k1uskgSXVZ/GU44p/cejVv1GsAVDlZ2nnQSMXOYIXRy+LCt\n",
       "KcpxVtgu4hkEq0xv9IHVXKlfztbI9UCBcA70FjeTdvweycH7DkmdiJgye6XM6rLTkTityYAnHYpO\n",
       "OzomS9pCsPC99rMX7NOOJhr5LlARzLFwsOocNwgrRQPvYxNWyhC50/SGgeg0tiJnrOmczvZhSD70\n",
       "+tmANK4zsKMw7gH7C2Z0gx3AN4TMcVa1lQEwOVlkjptjNtgSkFu2w+f2KJpgW3iCiU7VYRY1VTFd\n",
       "YFF24TU/sxysUb7oZdZ9XSVneVRMBnFa9zC7locBuYaDeDLdbjvScH6C67jslEnANJWKpy7DgMlu\n",
       "0YlZ9j6K8zCAdXGpsw0WRBlPEi7Nmb6YNTp3woAlwBrXuZniCUb+ottjN33fV+C/FJzOEdHXp9KZ\n",
       "PnAlmGr10XX9GY2gNMqishtrH6LZ7FeDVJnKedmtBp9VhuBJxaTSbYMVajBg6083PGRhgJAHXfcG\n",
       "2QZjiEZ08qtEaOrow+ziAuaDsku+zQQIZBrHHGKkUtj6hB9s/zTsSDRdTYn79pnwVK2uQOVA54G8\n",
       "LddoLpj8LEff/v2U751Met9tQgxfPLKTTP3Et1oaz95/dTVFgsGHPjMPlLI9pXqrQBr3lMThq18W\n",
       "fp0y/WDP0HNax5sSQ5foc+UcthYKexUZs+IGw+SCFRGPvOe8q2/n160onwT4uIv3sWUMjlQh4gZL\n",
       "zORSVR7aBeXT3yTYdI0bdo6bIsCWI9+rvfP4DIc8p4uBYPe9CUtNwgAWoFyRYMdMbgwcFnc9Eb9Y\n",
       "jkVKC6lFYeVPxAifiyEfCiHv2VMwA8Zt2Ww3BbsnJsE+Jsx34Y9vNm0ksXyXET5aPrg94EsB43Eb\n",
       "DBtgcWb1S/SHk7ZKmMZiPmsenc+BhLz/k4HfYOos3F2AXVh/HGCDJKwsTLLe1g/Gzf/GWbfgrRzE\n",
       "6WnoXdOgiebd0sDzbQWbXMD/BvtpzLrLQWn+R+UftFxJ0QTty5cAAAAASUVORK5CYII=\n",
       "\" style=\"display:inline;vertical-align:middle;\" /></a><br>"
      ],
      "text/plain": [
       "new_assumpt: ((a >= 0, a in Integer), Integer = (Natural union {-n}_{n in NaturalPos}))"
      ]
     },
     "execution_count": 11,
     "metadata": {},
     "output_type": "execute_result"
    }
   ],
   "source": [
    "new_assumpt = [defaults.assumptions]+ [integers_def.expr]"
   ]
  },
  {
   "cell_type": "code",
   "execution_count": null,
   "metadata": {},
   "outputs": [],
   "source": []
  },
  {
   "cell_type": "code",
   "execution_count": null,
   "metadata": {},
   "outputs": [],
   "source": []
  }
 ],
 "metadata": {
  "kernelspec": {
   "display_name": "Python 3",
   "language": "python",
   "name": "python3"
  }
 },
 "nbformat": 4,
 "nbformat_minor": 0
}