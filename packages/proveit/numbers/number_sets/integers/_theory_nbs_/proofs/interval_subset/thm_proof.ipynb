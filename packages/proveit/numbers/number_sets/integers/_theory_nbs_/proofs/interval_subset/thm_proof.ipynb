{
 "cells": [
  {
   "cell_type": "markdown",
   "metadata": {},
   "source": [
    "Proof of <a class=\"ProveItLink\" href=\"../../../../../../_theory_nbs_/theory.ipynb\">proveit</a>.<a class=\"ProveItLink\" href=\"../../../../../_theory_nbs_/theory.ipynb\">numbers</a>.<a class=\"ProveItLink\" href=\"../../../../_theory_nbs_/theory.ipynb\">number_sets</a>.<a class=\"ProveItLink\" href=\"../../theory.ipynb\">integers</a>.<a class=\"ProveItLink\" href=\"../../theorems.ipynb#interval_subset\">interval_subset</a> theorem\n",
    "========"
   ]
  },
  {
   "cell_type": "code",
   "execution_count": 1,
   "metadata": {},
   "outputs": [],
   "source": [
    "import proveit\n",
    "theory = proveit.Theory() # the theorem's theory"
   ]
  },
  {
   "cell_type": "code",
   "execution_count": 2,
   "metadata": {},
   "outputs": [
    {
     "data": {
      "text/html": [
       "Under these <a href=\"presumptions.txt\">presumptions</a>, we begin our proof of<br><strong id=\"interval_subset\">interval_subset:</strong> <a class=\"ProveItLink\" href=\"../../../__pv_it/theorems/fbe361aab849fccc18023a1644d2bc940918f8900/expr.ipynb\"><img src=\"data:image/png;base64,iVBORw0KGgoAAAANSUhEUgAAAW4AAAAXBAMAAADZ1rgBAAAAMFBMVEX///8QEBCIiIhmZma6urrM\n",
       "zMxUVFQiIiJERETc3Nzu7u6qqqp2dnaYmJgyMjIAAAAcRTyBAAAAAXRSTlMAQObYZgAABFFJREFU\n",
       "WMPNV21oU1cYfpqPprm5SQtO5gaDUD9+DQkVhzB1lf0QBoP0z9b9kIbiJ37gD7U4+6PMqSmD7cLA\n",
       "lQ3hzsAYRZpsMqYgGu0Pv7YRFDYRdIUpglUppT+2to697/m4uTc3SVNmxg7k5OY57/PmOee8533P\n",
       "BZrd4htqDoW77Cro7VIdb9UpL7qdAowndcZDS/3YWLGuS6bELGCCf9xrjmxjiJZ7Cvj25VoWG/3Q\n",
       "73Uc9i6RlF3ATf79uDm6E7Qu5n56+KOWxdWGoHKbk+NjwAh9RYeao/s2lO65F6Q7NCvHzSQSFOdm\n",
       "oTm6Dyvd/Hf1dcdPDAwMpBfUzc543OhA/Mbo6BfNkR3dr/5KrHk93dEnVkPrnUip8QfAn9nsYHN0\n",
       "B1JKd6J/uX9Hzc6VwGX5HLG8U4mu73rV7+/zK30FRRkHtgHDTvw88xi+lfYSuyvD7VlVvZrWxom4\n",
       "lRJW/rHxl28zjuBTJ3m86RrYR59NVmLKH9yv4DNbUe4Db8OYcMbGPZZ5+dW6bPwoLx28xzdka/Nz\n",
       "bsyhIcKL/B1N4pKN6UoVkSJ2y42n5oqjGOVn4zUE/ani65LIgYLyIzlAoFygJj2WF8nFhTWliGWe\n",
       "tn26w8e1+cWkGxM00Vpof3oPiyxtzPs2Rda9HcyNZspeT1DIBGcRSaIKY1BT+ijOSpHymHc7aTnv\n",
       "nB9FDFtOoVJ3dKelzO+XPFh501g3NqU5fYd8mXCZPGgZXZ/c9bBlCPk0/AxjRlNId3TiPXrIrXrI\n",
       "s51eZYsjw7PNdU4iJPcxVXTpFqbGurQyX12CoghM0Fxx0kqk57yCFaV03l0c3flmJwVaEZf8xXce\n",
       "sSlN2Uyf4a0EHgyz58CHIgccCHcoKCGz61fpsm6BG790K/PNMlMQRWLKk3MuOZ/McGxWtOcUyk4+\n",
       "ueJNjfkC9sWsSt1zdMbPKwqdS5wlz8FUmOfclozTGaUzkRZQB3KCctpEWbcw7RE62PzMxwIkisQE\n",
       "TWU6nQf34igf1wnVGX/Twxsw1jrJOlHw6Ca/h0y3saB+hN8yRUVZT592CoqWQiAjIjKY4R8iOhl6\n",
       "P5vNJlG8gS8d3QI3H0Cbn/kEkqIw6UmEqq47udd5SpGM7g4x/vOtcpExtr/j1m30rzy5wm0sHr7p\n",
       "/KC/W1E4qOMU0nmr7S59tdssoF1skYBaxf//UMJ1R7c0zR2DNg9MKorAlCdPna/ddHEMX2uozutx\n",
       "QzttsfrexYgdse9Qn+hGasQmaAtM9hUMyqVT682mwEkqVmzOE38KpkhM0Nz3qo5GdLva5QZ0mzpL\n",
       "hvq/34CeQnhPkfpo1y27pyAgcBD8uv2nRxlHt8TpIrkLbC5qhc0UielhEf+WvH/Xbou8f2vKmBcq\n",
       "+HoEOL5189awXqvKxd6qfG9A3fedl6rcnRZ432HKsAeSqcfdV7RFX9O5XMUW+355dsH3y7hXXNzX\n",
       "N6D7HGWc7H/xrvovWur/I+UfMMhOtLeFCJsAAAAASUVORK5CYII=\n",
       "\" style=\"display:inline;vertical-align:middle;\" /></a><br>(see <a class=\"ProveItLink\" href=\"../../../__pv_it/theorems/1803e750c0455d7c1321077ffaf9380ecb8f80c60/dependencies.ipynb\">dependencies</a>)<br>"
      ],
      "text/plain": [
       "interval_subset: forall_{a, b, c, d in Integer | a < b <= c < d} ({b...c} proper_subset {a...d})"
      ]
     },
     "execution_count": 2,
     "metadata": {},
     "output_type": "execute_result"
    }
   ],
   "source": [
    "%proving interval_subset"
   ]
  },
  {
   "cell_type": "code",
   "execution_count": null,
   "metadata": {},
   "outputs": [],
   "source": []
  }
 ],
 "metadata": {
  "kernelspec": {
   "display_name": "Python 3",
   "language": "python",
   "name": "python3"
  }
 },
 "nbformat": 4,
 "nbformat_minor": 0
}