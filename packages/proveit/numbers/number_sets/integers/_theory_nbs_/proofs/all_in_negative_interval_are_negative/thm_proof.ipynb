{
 "cells": [
  {
   "cell_type": "markdown",
   "metadata": {},
   "source": [
    "Proof of <a class=\"ProveItLink\" href=\"../../../../../../_theory_nbs_/theory.ipynb\">proveit</a>.<a class=\"ProveItLink\" href=\"../../../../../_theory_nbs_/theory.ipynb\">numbers</a>.<a class=\"ProveItLink\" href=\"../../../../_theory_nbs_/theory.ipynb\">number_sets</a>.<a class=\"ProveItLink\" href=\"../../theory.ipynb\">integers</a>.<a class=\"ProveItLink\" href=\"../../theorems.ipynb#all_in_negative_interval_are_negative\">all_in_negative_interval_are_negative</a> theorem\n",
    "========"
   ]
  },
  {
   "cell_type": "code",
   "execution_count": 1,
   "metadata": {},
   "outputs": [],
   "source": [
    "import proveit\n",
    "theory = proveit.Theory() # the theorem's theory"
   ]
  },
  {
   "cell_type": "code",
   "execution_count": 2,
   "metadata": {},
   "outputs": [
    {
     "data": {
      "text/html": [
       "Under these <a href=\"presumptions.txt\">presumptions</a>, we begin our proof of<br><strong id=\"all_in_negative_interval_are_negative\">all_in_negative_interval_are_negative:</strong> <a class=\"ProveItLink\" href=\"../../../__pv_it/theorems/0618a8745877407757bc9b133af503bde89dd1560/expr.ipynb\"><img src=\"data:image/png;base64,iVBORw0KGgoAAAANSUhEUgAAAR0AAAAZBAMAAAD+oufqAAAAMFBMVEX///8QEBCIiIhmZma6urrM\n",
       "zMxUVFQiIiJERETc3Nzu7u6qqqp2dnaYmJgyMjIAAAAcRTyBAAAAAXRSTlMAQObYZgAABBBJREFU\n",
       "SMfll1GIG0UYx/9JdpPNJnu5hz40aiHcwfWhFJYWWoUqAaEFRUlfeoLKBVGpUkselMO2D6VFTZTC\n",
       "4kM9Fb31+lANpRcUK4JosKh4vcqCrZZSax5aRAUfjha8VMHvm8nuzibXNJf2zYHM7szuf+c333zf\n",
       "NxNg6JKcfhl3tuyYbt6GOoU7XtLl/zdP2rvpo4wjeVrc+GU4nhG+WN7gkg9X7s5u/AZ4TvKc4Y4/\n",
       "huPJNugy4g4u+X3l7j9x3MFJyTPDl4PD8QjdzOAKy+7u+bLE3aPItpAtCB6enpjnMP7Ddj2zCoXT\n",
       "1fHzfVwbZWTaMEcFj7VQr781rD9fqtc/qgyu6B5n/YK45MrQbgBXZHz9Xa0eGJYnV62+tooUNg5o\n",
       "3749tkm2zO8K8mbehrYEnJY8zwA1X6D91f0JTdSPtvx2/OumwpMswYiuwRPRaCOhviFoHSHXMA5h\n",
       "XkjMrf6rs03oxHNZ8jwIMxiNGeVesPb0YeF8hgzIjiM+hEs4pfBotggLJcHc1RXJJEwGM9gPPJ5q\n",
       "YZadGHsDp521of8DfCZ5Uoh7SuQR+BebvZSTnXNDnhGpfayMF5FzlXxYwUZfyjJkWlEeFoZ9awB3\n",
       "vohfxeshT2e9piRP1lMS7TL9LnxeRwZPvoeQJycsfLQG8zpiDYXnLAJ3ZlkPDwsjPPiKLCNNGawX\n",
       "+XPmRsCTbu2ivmMTV6nWlyZcTa6N3VR4psaep1deoReWkfIUnvd1+sKP58dsSBmPbW7aW/IJWBjy\n",
       "0HrhAeBfM+rPxkFYbdrdO/tX7Wl69pLeZm/dF7dHZOp6t6TwrHfHceIKA7eRKig8xtEicG4d8nLv\n",
       "EGMfL00FKZuFIQ/5M+6hXJONxrvMh74/4xMyecLW2fBGwWodE+/MdTSS5xAu6+v4huwTU3kyW+kj\n",
       "cxW0IWXsu5sxGawXCWHmlWhJX6Oxz0fzIdntA5r9tg5PjgaINeJ8GysmypPVarWA5gLeCXnWYAt+\n",
       "KLKNryNXVPf3JYYoaKMQMv0wNe/GBEKP2QJM+gFGK6JVkH6hEd0vcGKMkg6udngssu68Y1ykS86N\n",
       "NZIi7Xzq4fuQp02DmPeytiu+cJFnUUo0S0nfPuYyjtT98YQwf9P9Qi1mRTn/xJypRzDjptwLyPKw\n",
       "iQTPJODZZ9HOmd7tcIo91XP+mUXq4ZKQCV/J69e89Ov0NapYGPpP736qpqqCwqM99fH92NnQ95Bp\n",
       "36D2T88u/lYOeXYtigh91UF80e7h2Y74WSkTY2/fMO7peex0qGKhkgNqfXhO9p4P5brG2X/8YqjP\n",
       "9Vqf86GQdecfn7H/eSxgjfJkVlheY3Xn1Vvw9DmvWk4Pj4Xb5gl9V/lfNPgJ4Nbn+UQfnpX+f73Z\n",
       "YwF98APbjunyf4PSDpzGgpr1AAAAAElFTkSuQmCC\n",
       "\" style=\"display:inline;vertical-align:middle;\" /></a><br>(see <a class=\"ProveItLink\" href=\"../../../__pv_it/theorems/4895510dc2f31253352a4b61595838df55c643400/dependencies.ipynb\">dependencies</a>)<br>"
      ],
      "text/plain": [
       "all_in_negative_interval_are_negative: forall_{a, b in Integer | b < 0} [forall_{n in {a...b}} (n < 0)]"
      ]
     },
     "execution_count": 2,
     "metadata": {},
     "output_type": "execute_result"
    }
   ],
   "source": [
    "%proving all_in_negative_interval_are_negative"
   ]
  },
  {
   "cell_type": "code",
   "execution_count": null,
   "metadata": {},
   "outputs": [],
   "source": []
  }
 ],
 "metadata": {
  "kernelspec": {
   "display_name": "Python 3",
   "language": "python",
   "name": "python3"
  }
 },
 "nbformat": 4,
 "nbformat_minor": 0
}