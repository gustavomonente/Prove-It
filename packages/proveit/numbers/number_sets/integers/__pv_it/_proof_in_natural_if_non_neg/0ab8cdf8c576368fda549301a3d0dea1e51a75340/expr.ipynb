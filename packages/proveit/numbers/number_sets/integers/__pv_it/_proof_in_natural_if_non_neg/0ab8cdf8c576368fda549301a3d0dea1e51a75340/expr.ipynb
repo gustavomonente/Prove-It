{
 "cells": [
  {
   "cell_type": "markdown",
   "metadata": {},
   "source": [
    "Expression of type <a class=\"ProveItLink\" href=\"../../../../../../../../doc/html/api/proveit.logic.Implies.html\">Implies</a>\n",
    "=======================\n",
    "# from the theory of <a class=\"ProveItLink\" href=\"../../../_theory_nbs_/theory.ipynb\">proveit.numbers.number_sets.integers</a>"
   ]
  },
  {
   "cell_type": "code",
   "execution_count": 1,
   "metadata": {},
   "outputs": [],
   "source": [
    "import proveit\n",
    "# Automation is not needed when building an expression:\n",
    "proveit.defaults.automation = False # This will speed things up.\n",
    "proveit.defaults.inline_pngs = False # Makes files smaller.\n",
    "%load_expr # Load the stored expression as 'stored_expr'\n",
    "# import Expression classes needed to build the expression\n",
    "from proveit import a, n\n",
    "from proveit.logic import And, Equals, Implies, InSet, SetOfAll, Union\n",
    "from proveit.numbers import GreaterEq, Integer, Natural, NaturalPos, Neg, zero"
   ]
  },
  {
   "cell_type": "code",
   "execution_count": 2,
   "metadata": {},
   "outputs": [
    {
     "data": {
      "text/html": [
       "<strong id=\"expr\">expr:</strong> <a class=\"ProveItLink\" href=\"expr.ipynb\"><img src=\"expr.png\" style=\"display:inline;vertical-align:middle;\" /></a><br>"
      ],
      "text/plain": [
       "expr: ((a >= 0) and (Integer = (Natural union {-n}_{n in NaturalPos}))) => (a in (Natural union {-n}_{n in NaturalPos}))"
      ]
     },
     "execution_count": 2,
     "metadata": {},
     "output_type": "execute_result"
    }
   ],
   "source": [
    "# build up the expression from sub-expressions\n",
    "sub_expr1 = Union(Natural, SetOfAll([n], Neg(n), domains = [NaturalPos]))\n",
    "expr = Implies(And(GreaterEq(a, zero), Equals(Integer, sub_expr1)), InSet(a, sub_expr1))"
   ]
  },
  {
   "cell_type": "code",
   "execution_count": 3,
   "metadata": {},
   "outputs": [
    {
     "name": "stdout",
     "output_type": "stream",
     "text": [
      "Passed sanity check: expr matches stored_expr\n"
     ]
    }
   ],
   "source": [
    "# check that the built expression is the same as the stored expression\n",
    "assert expr == stored_expr\n",
    "assert expr._style_id == stored_expr._style_id\n",
    "print(\"Passed sanity check: expr matches stored_expr\")"
   ]
  },
  {
   "cell_type": "code",
   "execution_count": 4,
   "metadata": {},
   "outputs": [
    {
     "name": "stdout",
     "output_type": "stream",
     "text": [
      "\\left(\\left(a \\geq 0\\right) \\land \\left(\\mathbb{Z} = \\left(\\mathbb{N} \\cup \\left\\{-n\\right\\}_{n \\in \\mathbb{N}^+}\\right)\\right)\\right) \\Rightarrow \\left(a \\in \\left(\\mathbb{N} \\cup \\left\\{-n\\right\\}_{n \\in \\mathbb{N}^+}\\right)\\right)\n"
     ]
    }
   ],
   "source": [
    "# Show the LaTeX representation of the expression for convenience if you need it.\n",
    "print(expr.latex())"
   ]
  },
  {
   "cell_type": "code",
   "execution_count": 5,
   "metadata": {},
   "outputs": [
    {
     "data": {
      "text/html": [
       "<table><tr><th>&nbsp;</th><th>core type</th><th>sub-expressions</th><th>expression</th></tr>\n",
       "<tr><td>0</td><td>Operation</td><td>operator:&nbsp;1<br>operands:&nbsp;2<br></td><td><a class=\"ProveItLink\" href=\"expr.ipynb\"><img src=\"expr.png\" style=\"display:inline;vertical-align:middle;\" /></a></td></tr>\n",
       "<tr><td>1</td><td>Literal</td><td></td><td><a class=\"ProveItLink\" href=\"../../../../../../logic/booleans/implication/__pv_it/common/02bdb382575728da8cdbaed545b9096ea7a1bd5b0/expr.ipynb\"><img src=\"../../../../../../logic/booleans/implication/__pv_it/common/02bdb382575728da8cdbaed545b9096ea7a1bd5b0/expr.png\" style=\"display:inline;vertical-align:middle;\" /></a></td></tr>\n",
       "<tr><td>2</td><td>ExprTuple</td><td>3, 4</td><td><a class=\"ProveItLink\" href=\"../68f395124ffa98e533b4860c3d53bc3d33fdfdfb0/expr.ipynb\"><img src=\"../68f395124ffa98e533b4860c3d53bc3d33fdfdfb0/expr.png\" style=\"display:inline;vertical-align:middle;\" /></a></td></tr>\n",
       "<tr><td>3</td><td>Operation</td><td>operator:&nbsp;5<br>operands:&nbsp;6<br></td><td><a class=\"ProveItLink\" href=\"../a62985f1200a2b8a8087e60f08946d0729ac12ad0/expr.ipynb\"><img src=\"../a62985f1200a2b8a8087e60f08946d0729ac12ad0/expr.png\" style=\"display:inline;vertical-align:middle;\" /></a></td></tr>\n",
       "<tr><td>4</td><td>Operation</td><td>operator:&nbsp;28<br>operands:&nbsp;7<br></td><td><a class=\"ProveItLink\" href=\"../299212a145d42c8cead6b69156d7df205fd930260/expr.ipynb\"><img src=\"../299212a145d42c8cead6b69156d7df205fd930260/expr.png\" style=\"display:inline;vertical-align:middle;\" /></a></td></tr>\n",
       "<tr><td>5</td><td>Literal</td><td></td><td><a class=\"ProveItLink\" href=\"../../../../../../logic/booleans/conjunction/__pv_it/common/42118ff318bd65d98b1393f64ce7c2269feef76e0/expr.ipynb\"><img src=\"../../../../../../logic/booleans/conjunction/__pv_it/common/42118ff318bd65d98b1393f64ce7c2269feef76e0/expr.png\" style=\"display:inline;vertical-align:middle;\" /></a></td></tr>\n",
       "<tr><td>6</td><td>ExprTuple</td><td>8, 9</td><td><a class=\"ProveItLink\" href=\"../78218d9b74e3b23c782e20bed8f33ebb4443f5200/expr.ipynb\"><img src=\"../78218d9b74e3b23c782e20bed8f33ebb4443f5200/expr.png\" style=\"display:inline;vertical-align:middle;\" /></a></td></tr>\n",
       "<tr><td>7</td><td>ExprTuple</td><td>14, 17</td><td><a class=\"ProveItLink\" href=\"../7dbca26c4f6f1eb69edc479c5ecb927c923363b30/expr.ipynb\"><img src=\"../7dbca26c4f6f1eb69edc479c5ecb927c923363b30/expr.png\" style=\"display:inline;vertical-align:middle;\" /></a></td></tr>\n",
       "<tr><td>8</td><td>Operation</td><td>operator:&nbsp;10<br>operands:&nbsp;11<br></td><td><a class=\"ProveItLink\" href=\"../../theorems/243c1fc15ff6fd05556b800f2ea2d9c0ff0f136a0/expr.ipynb\"><img src=\"../../theorems/243c1fc15ff6fd05556b800f2ea2d9c0ff0f136a0/expr.png\" style=\"display:inline;vertical-align:middle;\" /></a></td></tr>\n",
       "<tr><td>9</td><td>Operation</td><td>operator:&nbsp;12<br>operands:&nbsp;13<br></td><td><a class=\"ProveItLink\" href=\"../../axioms/a26a64917b9e68a3bdf19565512eeab06a31ff570/expr.ipynb\"><img src=\"../../axioms/a26a64917b9e68a3bdf19565512eeab06a31ff570/expr.png\" style=\"display:inline;vertical-align:middle;\" /></a></td></tr>\n",
       "<tr><td>10</td><td>Literal</td><td></td><td><a class=\"ProveItLink\" href=\"../../../../../ordering/__pv_it/common/56e138890b2b12c3a40604810660982a612f33050/expr.ipynb\"><img src=\"../../../../../ordering/__pv_it/common/56e138890b2b12c3a40604810660982a612f33050/expr.png\" style=\"display:inline;vertical-align:middle;\" /></a></td></tr>\n",
       "<tr><td>11</td><td>ExprTuple</td><td>14, 15</td><td><a class=\"ProveItLink\" href=\"../../theorems/60ba91908b283be41d3d42f3d78214c73295c9430/expr.ipynb\"><img src=\"../../theorems/60ba91908b283be41d3d42f3d78214c73295c9430/expr.png\" style=\"display:inline;vertical-align:middle;\" /></a></td></tr>\n",
       "<tr><td>12</td><td>Literal</td><td></td><td><a class=\"ProveItLink\" href=\"../../../../../../logic/equality/__pv_it/common/fb96dc12b2aa8801dda64d0132b396c63d1502bb0/expr.ipynb\"><img src=\"../../../../../../logic/equality/__pv_it/common/fb96dc12b2aa8801dda64d0132b396c63d1502bb0/expr.png\" style=\"display:inline;vertical-align:middle;\" /></a></td></tr>\n",
       "<tr><td>13</td><td>ExprTuple</td><td>16, 17</td><td><a class=\"ProveItLink\" href=\"../../axioms/ecc08ab4fc471d1197232b63c22030e4186313580/expr.ipynb\"><img src=\"../../axioms/ecc08ab4fc471d1197232b63c22030e4186313580/expr.png\" style=\"display:inline;vertical-align:middle;\" /></a></td></tr>\n",
       "<tr><td>14</td><td>Variable</td><td></td><td><a class=\"ProveItLink\" href=\"../../../../../../__pv_it/common/c06c606ec12678c58933ac85412ecadc2ae28be60/expr.ipynb\"><img src=\"../../../../../../__pv_it/common/c06c606ec12678c58933ac85412ecadc2ae28be60/expr.png\" style=\"display:inline;vertical-align:middle;\" /></a></td></tr>\n",
       "<tr><td>15</td><td>Literal</td><td></td><td><a class=\"ProveItLink\" href=\"../../../../../numerals/__pv_it/common/7d0a36793ffe8d307a5c120ee5598162e8cd2db10/expr.ipynb\"><img src=\"../../../../../numerals/__pv_it/common/7d0a36793ffe8d307a5c120ee5598162e8cd2db10/expr.png\" style=\"display:inline;vertical-align:middle;\" /></a></td></tr>\n",
       "<tr><td>16</td><td>Literal</td><td></td><td><a class=\"ProveItLink\" href=\"../../common/e6b4e90f9467053e055a4fd2f735c0bb79cb79300/expr.ipynb\"><img src=\"../../common/e6b4e90f9467053e055a4fd2f735c0bb79cb79300/expr.png\" style=\"display:inline;vertical-align:middle;\" /></a></td></tr>\n",
       "<tr><td>17</td><td>Operation</td><td>operator:&nbsp;18<br>operands:&nbsp;19<br></td><td><a class=\"ProveItLink\" href=\"../../axioms/6185f999be9766d37f0b8f39901fa62ab40f0d280/expr.ipynb\"><img src=\"../../axioms/6185f999be9766d37f0b8f39901fa62ab40f0d280/expr.png\" style=\"display:inline;vertical-align:middle;\" /></a></td></tr>\n",
       "<tr><td>18</td><td>Literal</td><td></td><td><a class=\"ProveItLink\" href=\"../../../../../../logic/sets/unification/__pv_it/common/107121809b4c0da74aebbd3977266676ee980ebe0/expr.ipynb\"><img src=\"../../../../../../logic/sets/unification/__pv_it/common/107121809b4c0da74aebbd3977266676ee980ebe0/expr.png\" style=\"display:inline;vertical-align:middle;\" /></a></td></tr>\n",
       "<tr><td>19</td><td>ExprTuple</td><td>20, 21</td><td><a class=\"ProveItLink\" href=\"../../axioms/f746140ff62e41cb4c8e96c0689c3e732c5cdf180/expr.ipynb\"><img src=\"../../axioms/f746140ff62e41cb4c8e96c0689c3e732c5cdf180/expr.png\" style=\"display:inline;vertical-align:middle;\" /></a></td></tr>\n",
       "<tr><td>20</td><td>Literal</td><td></td><td><a class=\"ProveItLink\" href=\"../../../../natural_numbers/__pv_it/common/8b7c321957f52ed3b05b36af612eeae4fa4783bc0/expr.ipynb\"><img src=\"../../../../natural_numbers/__pv_it/common/8b7c321957f52ed3b05b36af612eeae4fa4783bc0/expr.png\" style=\"display:inline;vertical-align:middle;\" /></a></td></tr>\n",
       "<tr><td>21</td><td>Operation</td><td>operator:&nbsp;22<br>operand:&nbsp;23<br></td><td><a class=\"ProveItLink\" href=\"../../axioms/e2406baab4d16fadd0a9345316efb2ceee2ed2270/expr.ipynb\"><img src=\"../../axioms/e2406baab4d16fadd0a9345316efb2ceee2ed2270/expr.png\" style=\"display:inline;vertical-align:middle;\" /></a></td></tr>\n",
       "<tr><td>22</td><td>Literal</td><td></td><td><a class=\"ProveItLink\" href=\"../../../../../../logic/sets/comprehension/__pv_it/common/b4bb00fffb81c35677d73fdf9e971725e2b59ae40/expr.ipynb\"><img src=\"../../../../../../logic/sets/comprehension/__pv_it/common/b4bb00fffb81c35677d73fdf9e971725e2b59ae40/expr.png\" style=\"display:inline;vertical-align:middle;\" /></a></td></tr>\n",
       "<tr><td>23</td><td>Lambda</td><td>parameter:&nbsp;30<br>body:&nbsp;24<br></td><td><a class=\"ProveItLink\" href=\"../../axioms/798d4dd2057e2d2e89c6cc0db56a8b60a5f1e5470/expr.ipynb\"><img src=\"../../axioms/798d4dd2057e2d2e89c6cc0db56a8b60a5f1e5470/expr.png\" style=\"display:inline;vertical-align:middle;\" /></a></td></tr>\n",
       "<tr><td>24</td><td>Conditional</td><td>value:&nbsp;25<br>condition:&nbsp;26<br></td><td><a class=\"ProveItLink\" href=\"../../axioms/a28f884e12ae0f71ca98de684056d771790869e80/expr.ipynb\"><img src=\"../../axioms/a28f884e12ae0f71ca98de684056d771790869e80/expr.png\" style=\"display:inline;vertical-align:middle;\" /></a></td></tr>\n",
       "<tr><td>25</td><td>Operation</td><td>operator:&nbsp;27<br>operand:&nbsp;30<br></td><td><a class=\"ProveItLink\" href=\"../../axioms/499d4e36f6511324ee9e8173ecdcbccb5db19e0a0/expr.ipynb\"><img src=\"../../axioms/499d4e36f6511324ee9e8173ecdcbccb5db19e0a0/expr.png\" style=\"display:inline;vertical-align:middle;\" /></a></td></tr>\n",
       "<tr><td>26</td><td>Operation</td><td>operator:&nbsp;28<br>operands:&nbsp;29<br></td><td><a class=\"ProveItLink\" href=\"../../axioms/a9c01f72a8710eb6455c4786cc4a8aa9a8d1beb60/expr.ipynb\"><img src=\"../../axioms/a9c01f72a8710eb6455c4786cc4a8aa9a8d1beb60/expr.png\" style=\"display:inline;vertical-align:middle;\" /></a></td></tr>\n",
       "<tr><td>27</td><td>Literal</td><td></td><td><a class=\"ProveItLink\" href=\"../../../../../negation/__pv_it/common/221b3c4d1770ee9051b7c044c3f9ec61196fc34b0/expr.ipynb\"><img src=\"../../../../../negation/__pv_it/common/221b3c4d1770ee9051b7c044c3f9ec61196fc34b0/expr.png\" style=\"display:inline;vertical-align:middle;\" /></a></td></tr>\n",
       "<tr><td>28</td><td>Literal</td><td></td><td><a class=\"ProveItLink\" href=\"../../../../../../logic/sets/membership/__pv_it/common/477487d8796864d23d5810f83761435f25167f690/expr.ipynb\"><img src=\"../../../../../../logic/sets/membership/__pv_it/common/477487d8796864d23d5810f83761435f25167f690/expr.png\" style=\"display:inline;vertical-align:middle;\" /></a></td></tr>\n",
       "<tr><td>29</td><td>ExprTuple</td><td>30, 31</td><td><a class=\"ProveItLink\" href=\"../../axioms/09d617a164cf3f820cb8170f3e1680673d4b7bf10/expr.ipynb\"><img src=\"../../axioms/09d617a164cf3f820cb8170f3e1680673d4b7bf10/expr.png\" style=\"display:inline;vertical-align:middle;\" /></a></td></tr>\n",
       "<tr><td>30</td><td>Variable</td><td></td><td><a class=\"ProveItLink\" href=\"../../../../../../__pv_it/common/8968bb04eb3f7dfa02353397ce929b025bbd79c20/expr.ipynb\"><img src=\"../../../../../../__pv_it/common/8968bb04eb3f7dfa02353397ce929b025bbd79c20/expr.png\" style=\"display:inline;vertical-align:middle;\" /></a></td></tr>\n",
       "<tr><td>31</td><td>Literal</td><td></td><td><a class=\"ProveItLink\" href=\"../../../../natural_numbers/__pv_it/common/6111329435c43892c831c4793de96afbf80bdb3e0/expr.ipynb\"><img src=\"../../../../natural_numbers/__pv_it/common/6111329435c43892c831c4793de96afbf80bdb3e0/expr.png\" style=\"display:inline;vertical-align:middle;\" /></a></td></tr>\n",
       "</table>\n"
      ],
      "text/plain": [
       "0. ((a >= 0) and (Integer = (Natural union {-n}_{n in NaturalPos}))) => (a in (Natural union {-n}_{n in NaturalPos}))\n",
       "   core type: Operation\n",
       "   operator: 1\n",
       "   operands: 2\n",
       "1. =>\n",
       "   core type: Literal\n",
       "   sub-expressions: \n",
       "2. ((a >= 0) and (Integer = (Natural union {-n}_{n in NaturalPos})), a in (Natural union {-n}_{n in NaturalPos}))\n",
       "   core type: ExprTuple\n",
       "   sub-expressions: 3, 4\n",
       "3. (a >= 0) and (Integer = (Natural union {-n}_{n in NaturalPos}))\n",
       "   core type: Operation\n",
       "   operator: 5\n",
       "   operands: 6\n",
       "4. a in (Natural union {-n}_{n in NaturalPos})\n",
       "   core type: Operation\n",
       "   operator: 28\n",
       "   operands: 7\n",
       "5. and\n",
       "   core type: Literal\n",
       "   sub-expressions: \n",
       "6. (a >= 0, Integer = (Natural union {-n}_{n in NaturalPos}))\n",
       "   core type: ExprTuple\n",
       "   sub-expressions: 8, 9\n",
       "7. (a, Natural union {-n}_{n in NaturalPos})\n",
       "   core type: ExprTuple\n",
       "   sub-expressions: 14, 17\n",
       "8. a >= 0\n",
       "   core type: Operation\n",
       "   operator: 10\n",
       "   operands: 11\n",
       "9. Integer = (Natural union {-n}_{n in NaturalPos})\n",
       "   core type: Operation\n",
       "   operator: 12\n",
       "   operands: 13\n",
       "10. >=\n",
       "    core type: Literal\n",
       "    sub-expressions: \n",
       "11. (a, 0)\n",
       "    core type: ExprTuple\n",
       "    sub-expressions: 14, 15\n",
       "12. =\n",
       "    core type: Literal\n",
       "    sub-expressions: \n",
       "13. (Integer, Natural union {-n}_{n in NaturalPos})\n",
       "    core type: ExprTuple\n",
       "    sub-expressions: 16, 17\n",
       "14. a\n",
       "    core type: Variable\n",
       "    sub-expressions: \n",
       "15. 0\n",
       "    core type: Literal\n",
       "    sub-expressions: \n",
       "16. Integer\n",
       "    core type: Literal\n",
       "    sub-expressions: \n",
       "17. Natural union {-n}_{n in NaturalPos}\n",
       "    core type: Operation\n",
       "    operator: 18\n",
       "    operands: 19\n",
       "18. union\n",
       "    core type: Literal\n",
       "    sub-expressions: \n",
       "19. (Natural, {-n}_{n in NaturalPos})\n",
       "    core type: ExprTuple\n",
       "    sub-expressions: 20, 21\n",
       "20. Natural\n",
       "    core type: Literal\n",
       "    sub-expressions: \n",
       "21. {-n}_{n in NaturalPos}\n",
       "    core type: Operation\n",
       "    operator: 22\n",
       "    operand: 23\n",
       "22. SetOfAll\n",
       "    core type: Literal\n",
       "    sub-expressions: \n",
       "23. n -> {-n if n in NaturalPos.\n",
       "    core type: Lambda\n",
       "    parameter: 30\n",
       "    body: 24\n",
       "24. {-n if n in NaturalPos.\n",
       "    core type: Conditional\n",
       "    value: 25\n",
       "    condition: 26\n",
       "25. -n\n",
       "    core type: Operation\n",
       "    operator: 27\n",
       "    operand: 30\n",
       "26. n in NaturalPos\n",
       "    core type: Operation\n",
       "    operator: 28\n",
       "    operands: 29\n",
       "27. -\n",
       "    core type: Literal\n",
       "    sub-expressions: \n",
       "28. in\n",
       "    core type: Literal\n",
       "    sub-expressions: \n",
       "29. (n, NaturalPos)\n",
       "    core type: ExprTuple\n",
       "    sub-expressions: 30, 31\n",
       "30. n\n",
       "    core type: Variable\n",
       "    sub-expressions: \n",
       "31. NaturalPos\n",
       "    core type: Literal\n",
       "    sub-expressions: "
      ]
     },
     "execution_count": 5,
     "metadata": {},
     "output_type": "execute_result"
    }
   ],
   "source": [
    "# display the expression information\n",
    "expr.expr_info()"
   ]
  },
  {
   "cell_type": "code",
   "execution_count": null,
   "metadata": {},
   "outputs": [],
   "source": []
  }
 ],
 "metadata": {
  "kernelspec": {
   "display_name": "Python 3",
   "language": "python",
   "name": "python3"
  }
 },
 "nbformat": 4,
 "nbformat_minor": 0
}