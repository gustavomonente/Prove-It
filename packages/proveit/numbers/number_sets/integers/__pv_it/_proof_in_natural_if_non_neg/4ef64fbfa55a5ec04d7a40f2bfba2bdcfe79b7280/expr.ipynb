{
 "cells": [
  {
   "cell_type": "markdown",
   "metadata": {},
   "source": [
    "Expression of type <a class=\"ProveItLink\" href=\"../../../../../../../../doc/html/api/proveit.ExprTuple.html\">ExprTuple</a>\n",
    "=======================\n",
    "# from the theory of <a class=\"ProveItLink\" href=\"../../../_theory_nbs_/theory.ipynb\">proveit.numbers.number_sets.integers</a>"
   ]
  },
  {
   "cell_type": "code",
   "execution_count": 1,
   "metadata": {},
   "outputs": [],
   "source": [
    "import proveit\n",
    "# Automation is not needed when building an expression:\n",
    "proveit.defaults.automation = False # This will speed things up.\n",
    "proveit.defaults.inline_pngs = False # Makes files smaller.\n",
    "%load_expr # Load the stored expression as 'stored_expr'\n",
    "# import Expression classes needed to build the expression\n",
    "from proveit import ExprTuple, a, n\n",
    "from proveit.logic import Equals, InSet, SetOfAll, Union\n",
    "from proveit.numbers import GreaterEq, Integer, Natural, NaturalPos, Neg, zero"
   ]
  },
  {
   "cell_type": "code",
   "execution_count": 2,
   "metadata": {},
   "outputs": [
    {
     "data": {
      "text/html": [
       "<strong id=\"expr\">expr:</strong> <a class=\"ProveItLink\" href=\"expr.ipynb\"><img src=\"expr.png\" style=\"display:inline;vertical-align:middle;\" /></a><br>"
      ],
      "text/plain": [
       "expr: ((a >= 0, a in Integer), Integer = (Natural union {-n}_{n in NaturalPos}))"
      ]
     },
     "execution_count": 2,
     "metadata": {},
     "output_type": "execute_result"
    }
   ],
   "source": [
    "# build up the expression from sub-expressions\n",
    "expr = ExprTuple([GreaterEq(a, zero), InSet(a, Integer)], Equals(Integer, Union(Natural, SetOfAll([n], Neg(n), domains = [NaturalPos]))))"
   ]
  },
  {
   "cell_type": "code",
   "execution_count": 3,
   "metadata": {},
   "outputs": [
    {
     "name": "stdout",
     "output_type": "stream",
     "text": [
      "Passed sanity check: expr matches stored_expr\n"
     ]
    }
   ],
   "source": [
    "# check that the built expression is the same as the stored expression\n",
    "assert expr == stored_expr\n",
    "assert expr._style_id == stored_expr._style_id\n",
    "print(\"Passed sanity check: expr matches stored_expr\")"
   ]
  },
  {
   "cell_type": "code",
   "execution_count": 4,
   "metadata": {},
   "outputs": [
    {
     "name": "stdout",
     "output_type": "stream",
     "text": [
      "\\left(\\left(a \\geq 0, a \\in \\mathbb{Z}\\right), \\mathbb{Z} = \\left(\\mathbb{N} \\cup \\left\\{-n\\right\\}_{n \\in \\mathbb{N}^+}\\right)\\right)\n"
     ]
    }
   ],
   "source": [
    "# Show the LaTeX representation of the expression for convenience if you need it.\n",
    "print(expr.latex())"
   ]
  },
  {
   "cell_type": "code",
   "execution_count": 5,
   "metadata": {},
   "outputs": [
    {
     "data": {
      "text/html": [
       "<table><tr><th>&nbsp;</th><th>core type</th><th>sub-expressions</th><th>expression</th></tr>\n",
       "<tr><td>0</td><td>ExprTuple</td><td>1, 2</td><td><a class=\"ProveItLink\" href=\"expr.ipynb\"><img src=\"expr.png\" style=\"display:inline;vertical-align:middle;\" /></a></td></tr>\n",
       "<tr><td>1</td><td>ExprTuple</td><td>3, 4</td><td><a class=\"ProveItLink\" href=\"../4d2e285d4241a57d0232bdb6ef308c29cc81a1960/expr.ipynb\"><img src=\"../4d2e285d4241a57d0232bdb6ef308c29cc81a1960/expr.png\" style=\"display:inline;vertical-align:middle;\" /></a></td></tr>\n",
       "<tr><td>2</td><td>Operation</td><td>operator:&nbsp;5<br>operands:&nbsp;6<br></td><td><a class=\"ProveItLink\" href=\"../../axioms/a26a64917b9e68a3bdf19565512eeab06a31ff570/expr.ipynb\"><img src=\"../../axioms/a26a64917b9e68a3bdf19565512eeab06a31ff570/expr.png\" style=\"display:inline;vertical-align:middle;\" /></a></td></tr>\n",
       "<tr><td>3</td><td>Operation</td><td>operator:&nbsp;7<br>operands:&nbsp;8<br></td><td><a class=\"ProveItLink\" href=\"../../theorems/243c1fc15ff6fd05556b800f2ea2d9c0ff0f136a0/expr.ipynb\"><img src=\"../../theorems/243c1fc15ff6fd05556b800f2ea2d9c0ff0f136a0/expr.png\" style=\"display:inline;vertical-align:middle;\" /></a></td></tr>\n",
       "<tr><td>4</td><td>Operation</td><td>operator:&nbsp;24<br>operands:&nbsp;9<br></td><td><a class=\"ProveItLink\" href=\"../../theorems/fbe1b6ce8ed9d8f253e825a8f5b21fd6a211e9940/expr.ipynb\"><img src=\"../../theorems/fbe1b6ce8ed9d8f253e825a8f5b21fd6a211e9940/expr.png\" style=\"display:inline;vertical-align:middle;\" /></a></td></tr>\n",
       "<tr><td>5</td><td>Literal</td><td></td><td><a class=\"ProveItLink\" href=\"../../../../../../logic/equality/__pv_it/common/fb96dc12b2aa8801dda64d0132b396c63d1502bb0/expr.ipynb\"><img src=\"../../../../../../logic/equality/__pv_it/common/fb96dc12b2aa8801dda64d0132b396c63d1502bb0/expr.png\" style=\"display:inline;vertical-align:middle;\" /></a></td></tr>\n",
       "<tr><td>6</td><td>ExprTuple</td><td>13, 10</td><td><a class=\"ProveItLink\" href=\"../../axioms/ecc08ab4fc471d1197232b63c22030e4186313580/expr.ipynb\"><img src=\"../../axioms/ecc08ab4fc471d1197232b63c22030e4186313580/expr.png\" style=\"display:inline;vertical-align:middle;\" /></a></td></tr>\n",
       "<tr><td>7</td><td>Literal</td><td></td><td><a class=\"ProveItLink\" href=\"../../../../../ordering/__pv_it/common/56e138890b2b12c3a40604810660982a612f33050/expr.ipynb\"><img src=\"../../../../../ordering/__pv_it/common/56e138890b2b12c3a40604810660982a612f33050/expr.png\" style=\"display:inline;vertical-align:middle;\" /></a></td></tr>\n",
       "<tr><td>8</td><td>ExprTuple</td><td>12, 11</td><td><a class=\"ProveItLink\" href=\"../../theorems/60ba91908b283be41d3d42f3d78214c73295c9430/expr.ipynb\"><img src=\"../../theorems/60ba91908b283be41d3d42f3d78214c73295c9430/expr.png\" style=\"display:inline;vertical-align:middle;\" /></a></td></tr>\n",
       "<tr><td>9</td><td>ExprTuple</td><td>12, 13</td><td><a class=\"ProveItLink\" href=\"../../theorems/c8f1b31aef93a44ba993e16bad7f1ded007058d40/expr.ipynb\"><img src=\"../../theorems/c8f1b31aef93a44ba993e16bad7f1ded007058d40/expr.png\" style=\"display:inline;vertical-align:middle;\" /></a></td></tr>\n",
       "<tr><td>10</td><td>Operation</td><td>operator:&nbsp;14<br>operands:&nbsp;15<br></td><td><a class=\"ProveItLink\" href=\"../../axioms/6185f999be9766d37f0b8f39901fa62ab40f0d280/expr.ipynb\"><img src=\"../../axioms/6185f999be9766d37f0b8f39901fa62ab40f0d280/expr.png\" style=\"display:inline;vertical-align:middle;\" /></a></td></tr>\n",
       "<tr><td>11</td><td>Literal</td><td></td><td><a class=\"ProveItLink\" href=\"../../../../../numerals/__pv_it/common/7d0a36793ffe8d307a5c120ee5598162e8cd2db10/expr.ipynb\"><img src=\"../../../../../numerals/__pv_it/common/7d0a36793ffe8d307a5c120ee5598162e8cd2db10/expr.png\" style=\"display:inline;vertical-align:middle;\" /></a></td></tr>\n",
       "<tr><td>12</td><td>Variable</td><td></td><td><a class=\"ProveItLink\" href=\"../../../../../../__pv_it/common/c06c606ec12678c58933ac85412ecadc2ae28be60/expr.ipynb\"><img src=\"../../../../../../__pv_it/common/c06c606ec12678c58933ac85412ecadc2ae28be60/expr.png\" style=\"display:inline;vertical-align:middle;\" /></a></td></tr>\n",
       "<tr><td>13</td><td>Literal</td><td></td><td><a class=\"ProveItLink\" href=\"../../common/e6b4e90f9467053e055a4fd2f735c0bb79cb79300/expr.ipynb\"><img src=\"../../common/e6b4e90f9467053e055a4fd2f735c0bb79cb79300/expr.png\" style=\"display:inline;vertical-align:middle;\" /></a></td></tr>\n",
       "<tr><td>14</td><td>Literal</td><td></td><td><a class=\"ProveItLink\" href=\"../../../../../../logic/sets/unification/__pv_it/common/107121809b4c0da74aebbd3977266676ee980ebe0/expr.ipynb\"><img src=\"../../../../../../logic/sets/unification/__pv_it/common/107121809b4c0da74aebbd3977266676ee980ebe0/expr.png\" style=\"display:inline;vertical-align:middle;\" /></a></td></tr>\n",
       "<tr><td>15</td><td>ExprTuple</td><td>16, 17</td><td><a class=\"ProveItLink\" href=\"../../axioms/f746140ff62e41cb4c8e96c0689c3e732c5cdf180/expr.ipynb\"><img src=\"../../axioms/f746140ff62e41cb4c8e96c0689c3e732c5cdf180/expr.png\" style=\"display:inline;vertical-align:middle;\" /></a></td></tr>\n",
       "<tr><td>16</td><td>Literal</td><td></td><td><a class=\"ProveItLink\" href=\"../../../../natural_numbers/__pv_it/common/8b7c321957f52ed3b05b36af612eeae4fa4783bc0/expr.ipynb\"><img src=\"../../../../natural_numbers/__pv_it/common/8b7c321957f52ed3b05b36af612eeae4fa4783bc0/expr.png\" style=\"display:inline;vertical-align:middle;\" /></a></td></tr>\n",
       "<tr><td>17</td><td>Operation</td><td>operator:&nbsp;18<br>operand:&nbsp;19<br></td><td><a class=\"ProveItLink\" href=\"../../axioms/e2406baab4d16fadd0a9345316efb2ceee2ed2270/expr.ipynb\"><img src=\"../../axioms/e2406baab4d16fadd0a9345316efb2ceee2ed2270/expr.png\" style=\"display:inline;vertical-align:middle;\" /></a></td></tr>\n",
       "<tr><td>18</td><td>Literal</td><td></td><td><a class=\"ProveItLink\" href=\"../../../../../../logic/sets/comprehension/__pv_it/common/b4bb00fffb81c35677d73fdf9e971725e2b59ae40/expr.ipynb\"><img src=\"../../../../../../logic/sets/comprehension/__pv_it/common/b4bb00fffb81c35677d73fdf9e971725e2b59ae40/expr.png\" style=\"display:inline;vertical-align:middle;\" /></a></td></tr>\n",
       "<tr><td>19</td><td>Lambda</td><td>parameter:&nbsp;26<br>body:&nbsp;20<br></td><td><a class=\"ProveItLink\" href=\"../../axioms/798d4dd2057e2d2e89c6cc0db56a8b60a5f1e5470/expr.ipynb\"><img src=\"../../axioms/798d4dd2057e2d2e89c6cc0db56a8b60a5f1e5470/expr.png\" style=\"display:inline;vertical-align:middle;\" /></a></td></tr>\n",
       "<tr><td>20</td><td>Conditional</td><td>value:&nbsp;21<br>condition:&nbsp;22<br></td><td><a class=\"ProveItLink\" href=\"../../axioms/a28f884e12ae0f71ca98de684056d771790869e80/expr.ipynb\"><img src=\"../../axioms/a28f884e12ae0f71ca98de684056d771790869e80/expr.png\" style=\"display:inline;vertical-align:middle;\" /></a></td></tr>\n",
       "<tr><td>21</td><td>Operation</td><td>operator:&nbsp;23<br>operand:&nbsp;26<br></td><td><a class=\"ProveItLink\" href=\"../../axioms/499d4e36f6511324ee9e8173ecdcbccb5db19e0a0/expr.ipynb\"><img src=\"../../axioms/499d4e36f6511324ee9e8173ecdcbccb5db19e0a0/expr.png\" style=\"display:inline;vertical-align:middle;\" /></a></td></tr>\n",
       "<tr><td>22</td><td>Operation</td><td>operator:&nbsp;24<br>operands:&nbsp;25<br></td><td><a class=\"ProveItLink\" href=\"../../axioms/a9c01f72a8710eb6455c4786cc4a8aa9a8d1beb60/expr.ipynb\"><img src=\"../../axioms/a9c01f72a8710eb6455c4786cc4a8aa9a8d1beb60/expr.png\" style=\"display:inline;vertical-align:middle;\" /></a></td></tr>\n",
       "<tr><td>23</td><td>Literal</td><td></td><td><a class=\"ProveItLink\" href=\"../../../../../negation/__pv_it/common/221b3c4d1770ee9051b7c044c3f9ec61196fc34b0/expr.ipynb\"><img src=\"../../../../../negation/__pv_it/common/221b3c4d1770ee9051b7c044c3f9ec61196fc34b0/expr.png\" style=\"display:inline;vertical-align:middle;\" /></a></td></tr>\n",
       "<tr><td>24</td><td>Literal</td><td></td><td><a class=\"ProveItLink\" href=\"../../../../../../logic/sets/membership/__pv_it/common/477487d8796864d23d5810f83761435f25167f690/expr.ipynb\"><img src=\"../../../../../../logic/sets/membership/__pv_it/common/477487d8796864d23d5810f83761435f25167f690/expr.png\" style=\"display:inline;vertical-align:middle;\" /></a></td></tr>\n",
       "<tr><td>25</td><td>ExprTuple</td><td>26, 27</td><td><a class=\"ProveItLink\" href=\"../../axioms/09d617a164cf3f820cb8170f3e1680673d4b7bf10/expr.ipynb\"><img src=\"../../axioms/09d617a164cf3f820cb8170f3e1680673d4b7bf10/expr.png\" style=\"display:inline;vertical-align:middle;\" /></a></td></tr>\n",
       "<tr><td>26</td><td>Variable</td><td></td><td><a class=\"ProveItLink\" href=\"../../../../../../__pv_it/common/8968bb04eb3f7dfa02353397ce929b025bbd79c20/expr.ipynb\"><img src=\"../../../../../../__pv_it/common/8968bb04eb3f7dfa02353397ce929b025bbd79c20/expr.png\" style=\"display:inline;vertical-align:middle;\" /></a></td></tr>\n",
       "<tr><td>27</td><td>Literal</td><td></td><td><a class=\"ProveItLink\" href=\"../../../../natural_numbers/__pv_it/common/6111329435c43892c831c4793de96afbf80bdb3e0/expr.ipynb\"><img src=\"../../../../natural_numbers/__pv_it/common/6111329435c43892c831c4793de96afbf80bdb3e0/expr.png\" style=\"display:inline;vertical-align:middle;\" /></a></td></tr>\n",
       "</table>\n"
      ],
      "text/plain": [
       "0. ((a >= 0, a in Integer), Integer = (Natural union {-n}_{n in NaturalPos}))\n",
       "   core type: ExprTuple\n",
       "   sub-expressions: 1, 2\n",
       "1. (a >= 0, a in Integer)\n",
       "   core type: ExprTuple\n",
       "   sub-expressions: 3, 4\n",
       "2. Integer = (Natural union {-n}_{n in NaturalPos})\n",
       "   core type: Operation\n",
       "   operator: 5\n",
       "   operands: 6\n",
       "3. a >= 0\n",
       "   core type: Operation\n",
       "   operator: 7\n",
       "   operands: 8\n",
       "4. a in Integer\n",
       "   core type: Operation\n",
       "   operator: 24\n",
       "   operands: 9\n",
       "5. =\n",
       "   core type: Literal\n",
       "   sub-expressions: \n",
       "6. (Integer, Natural union {-n}_{n in NaturalPos})\n",
       "   core type: ExprTuple\n",
       "   sub-expressions: 13, 10\n",
       "7. >=\n",
       "   core type: Literal\n",
       "   sub-expressions: \n",
       "8. (a, 0)\n",
       "   core type: ExprTuple\n",
       "   sub-expressions: 12, 11\n",
       "9. (a, Integer)\n",
       "   core type: ExprTuple\n",
       "   sub-expressions: 12, 13\n",
       "10. Natural union {-n}_{n in NaturalPos}\n",
       "    core type: Operation\n",
       "    operator: 14\n",
       "    operands: 15\n",
       "11. 0\n",
       "    core type: Literal\n",
       "    sub-expressions: \n",
       "12. a\n",
       "    core type: Variable\n",
       "    sub-expressions: \n",
       "13. Integer\n",
       "    core type: Literal\n",
       "    sub-expressions: \n",
       "14. union\n",
       "    core type: Literal\n",
       "    sub-expressions: \n",
       "15. (Natural, {-n}_{n in NaturalPos})\n",
       "    core type: ExprTuple\n",
       "    sub-expressions: 16, 17\n",
       "16. Natural\n",
       "    core type: Literal\n",
       "    sub-expressions: \n",
       "17. {-n}_{n in NaturalPos}\n",
       "    core type: Operation\n",
       "    operator: 18\n",
       "    operand: 19\n",
       "18. SetOfAll\n",
       "    core type: Literal\n",
       "    sub-expressions: \n",
       "19. n -> {-n if n in NaturalPos.\n",
       "    core type: Lambda\n",
       "    parameter: 26\n",
       "    body: 20\n",
       "20. {-n if n in NaturalPos.\n",
       "    core type: Conditional\n",
       "    value: 21\n",
       "    condition: 22\n",
       "21. -n\n",
       "    core type: Operation\n",
       "    operator: 23\n",
       "    operand: 26\n",
       "22. n in NaturalPos\n",
       "    core type: Operation\n",
       "    operator: 24\n",
       "    operands: 25\n",
       "23. -\n",
       "    core type: Literal\n",
       "    sub-expressions: \n",
       "24. in\n",
       "    core type: Literal\n",
       "    sub-expressions: \n",
       "25. (n, NaturalPos)\n",
       "    core type: ExprTuple\n",
       "    sub-expressions: 26, 27\n",
       "26. n\n",
       "    core type: Variable\n",
       "    sub-expressions: \n",
       "27. NaturalPos\n",
       "    core type: Literal\n",
       "    sub-expressions: "
      ]
     },
     "execution_count": 5,
     "metadata": {},
     "output_type": "execute_result"
    }
   ],
   "source": [
    "# display the expression information\n",
    "expr.expr_info()"
   ]
  },
  {
   "cell_type": "code",
   "execution_count": null,
   "metadata": {},
   "outputs": [],
   "source": []
  }
 ],
 "metadata": {
  "kernelspec": {
   "display_name": "Python 3",
   "language": "python",
   "name": "python3"
  }
 },
 "nbformat": 4,
 "nbformat_minor": 0
}