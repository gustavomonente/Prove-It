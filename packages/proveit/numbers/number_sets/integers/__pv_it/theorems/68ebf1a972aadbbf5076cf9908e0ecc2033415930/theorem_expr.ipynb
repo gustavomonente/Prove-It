{
 "cells": [
  {
   "cell_type": "markdown",
   "metadata": {},
   "source": [
    "Theorem <a class=\"ProveItLink\" href=\"../../../_theorems_.ipynb#all_in_positive_interval_are_positive\">all_in_positive_interval_are_positive</a> of type <a class=\"ProveItLink\" href=\"../../../../../../../../doc/html/api/proveit.logic.Forall.html\">Forall</a>\n",
    "=======================\n",
    "# from the theory of <a class=\"ProveItLink\" href=\"../../../_theory_nbs_/theory.ipynb\">proveit.numbers.number_sets.integers</a>\n",
    "*** see <a class=\"ProveItLink\" href=\"dependencies.ipynb\">dependencies</a> ***"
   ]
  },
  {
   "cell_type": "code",
   "execution_count": 1,
   "metadata": {},
   "outputs": [],
   "source": [
    "import proveit\n",
    "# Automation is not needed when only building an expression:\n",
    "proveit.defaults.automation = False # This will speed things up.\n",
    "proveit.defaults.inline_pngs = False # Makes files smaller.\n",
    "%load_theorem_expr # Load the stored theorem expression as 'stored_expr'\n",
    "# import the special expression\n",
    "from proveit.numbers.number_sets.integers import all_in_positive_interval_are_positive"
   ]
  },
  {
   "cell_type": "code",
   "execution_count": 2,
   "metadata": {},
   "outputs": [
    {
     "name": "stdout",
     "output_type": "stream",
     "text": [
      "Passed sanity check: all_in_positive_interval_are_positive matches stored_expr\n"
     ]
    }
   ],
   "source": [
    "# check that the built expression is the same as the stored expression\n",
    "assert all_in_positive_interval_are_positive.expr == stored_expr\n",
    "assert all_in_positive_interval_are_positive.expr._style_id == stored_expr._style_id\n",
    "print(\"Passed sanity check: all_in_positive_interval_are_positive matches stored_expr\")"
   ]
  },
  {
   "cell_type": "code",
   "execution_count": 3,
   "metadata": {},
   "outputs": [
    {
     "name": "stdout",
     "output_type": "stream",
     "text": [
      "\\vdash \\forall_{a, b \\in \\mathbb{Z}~|~a > 0}~\\left[\\forall_{n \\in \\{a \\dots b\\}}~\\left(n > 0\\right)\\right]\n"
     ]
    }
   ],
   "source": [
    "# Show the LaTeX representation of the expression for convenience if you need it.\n",
    "print(all_in_positive_interval_are_positive.latex())"
   ]
  },
  {
   "cell_type": "code",
   "execution_count": 4,
   "metadata": {},
   "outputs": [
    {
     "data": {
      "text/html": [
       "<table><tr><th>&nbsp;</th><th>core type</th><th>sub-expressions</th><th>expression</th></tr>\n",
       "<tr><td>0</td><td>Operation</td><td>operator:&nbsp;5<br>operand:&nbsp;1<br></td><td><a class=\"ProveItLink\" href=\"../75015c8a2a3abbed5ed1b22ff68b00f9795f303b0/expr.ipynb\"><img src=\"../75015c8a2a3abbed5ed1b22ff68b00f9795f303b0/expr.png\" style=\"display:inline;vertical-align:middle;\" /></a></td></tr>\n",
       "<tr><td>1</td><td>Lambda</td><td>parameters:&nbsp;27<br>body:&nbsp;2<br></td><td><a class=\"ProveItLink\" href=\"../39f8e7f9a0a8df572467723a85020ba9da4383030/expr.ipynb\"><img src=\"../39f8e7f9a0a8df572467723a85020ba9da4383030/expr.png\" style=\"display:inline;vertical-align:middle;\" /></a></td></tr>\n",
       "<tr><td>2</td><td>Conditional</td><td>value:&nbsp;3<br>condition:&nbsp;4<br></td><td><a class=\"ProveItLink\" href=\"../4b2c761e05c0f0e5826fa4aaa34d5cca39ce31c00/expr.ipynb\"><img src=\"../4b2c761e05c0f0e5826fa4aaa34d5cca39ce31c00/expr.png\" style=\"display:inline;vertical-align:middle;\" /></a></td></tr>\n",
       "<tr><td>3</td><td>Operation</td><td>operator:&nbsp;5<br>operand:&nbsp;6<br></td><td><a class=\"ProveItLink\" href=\"../27c098a30264acb8094149af39d89692488899020/expr.ipynb\"><img src=\"../27c098a30264acb8094149af39d89692488899020/expr.png\" style=\"display:inline;vertical-align:middle;\" /></a></td></tr>\n",
       "<tr><td>4</td><td>Operation</td><td>operator:&nbsp;7<br>operands:&nbsp;8<br></td><td><a class=\"ProveItLink\" href=\"../2e255846ae08f9d0b24c688e63d40a2c9e11f3b90/expr.ipynb\"><img src=\"../2e255846ae08f9d0b24c688e63d40a2c9e11f3b90/expr.png\" style=\"display:inline;vertical-align:middle;\" /></a></td></tr>\n",
       "<tr><td>5</td><td>Literal</td><td></td><td><a class=\"ProveItLink\" href=\"../../../../../../logic/booleans/quantification/universality/__pv_it/common/083d2baa0b8ecab1d230f9ec29a15aa1355809fb0/expr.ipynb\"><img src=\"../../../../../../logic/booleans/quantification/universality/__pv_it/common/083d2baa0b8ecab1d230f9ec29a15aa1355809fb0/expr.png\" style=\"display:inline;vertical-align:middle;\" /></a></td></tr>\n",
       "<tr><td>6</td><td>Lambda</td><td>parameter:&nbsp;24<br>body:&nbsp;9<br></td><td><a class=\"ProveItLink\" href=\"../8aefee3524fb487d9e03cdf007153fbb4a13ecd70/expr.ipynb\"><img src=\"../8aefee3524fb487d9e03cdf007153fbb4a13ecd70/expr.png\" style=\"display:inline;vertical-align:middle;\" /></a></td></tr>\n",
       "<tr><td>7</td><td>Literal</td><td></td><td><a class=\"ProveItLink\" href=\"../../../../../../logic/booleans/conjunction/__pv_it/common/42118ff318bd65d98b1393f64ce7c2269feef76e0/expr.ipynb\"><img src=\"../../../../../../logic/booleans/conjunction/__pv_it/common/42118ff318bd65d98b1393f64ce7c2269feef76e0/expr.png\" style=\"display:inline;vertical-align:middle;\" /></a></td></tr>\n",
       "<tr><td>8</td><td>ExprTuple</td><td>10, 11, 12</td><td><a class=\"ProveItLink\" href=\"../d77ba3240037b6d1837f397d504a7ef2187fc8ab0/expr.ipynb\"><img src=\"../d77ba3240037b6d1837f397d504a7ef2187fc8ab0/expr.png\" style=\"display:inline;vertical-align:middle;\" /></a></td></tr>\n",
       "<tr><td>9</td><td>Conditional</td><td>value:&nbsp;13<br>condition:&nbsp;14<br></td><td><a class=\"ProveItLink\" href=\"../b4152cd90126ff87fbf01e351045706cff7f5f270/expr.ipynb\"><img src=\"../b4152cd90126ff87fbf01e351045706cff7f5f270/expr.png\" style=\"display:inline;vertical-align:middle;\" /></a></td></tr>\n",
       "<tr><td>10</td><td>Operation</td><td>operator:&nbsp;20<br>operands:&nbsp;15<br></td><td><a class=\"ProveItLink\" href=\"../fbe1b6ce8ed9d8f253e825a8f5b21fd6a211e9940/expr.ipynb\"><img src=\"../fbe1b6ce8ed9d8f253e825a8f5b21fd6a211e9940/expr.png\" style=\"display:inline;vertical-align:middle;\" /></a></td></tr>\n",
       "<tr><td>11</td><td>Operation</td><td>operator:&nbsp;20<br>operands:&nbsp;16<br></td><td><a class=\"ProveItLink\" href=\"../2e91f6db9f6a1ab11eddf02be9601b8829f29a830/expr.ipynb\"><img src=\"../2e91f6db9f6a1ab11eddf02be9601b8829f29a830/expr.png\" style=\"display:inline;vertical-align:middle;\" /></a></td></tr>\n",
       "<tr><td>12</td><td>Operation</td><td>operator:&nbsp;18<br>operands:&nbsp;17<br></td><td><a class=\"ProveItLink\" href=\"../a1220a607abb739d8de56a18bab7cc7a5fb534510/expr.ipynb\"><img src=\"../a1220a607abb739d8de56a18bab7cc7a5fb534510/expr.png\" style=\"display:inline;vertical-align:middle;\" /></a></td></tr>\n",
       "<tr><td>13</td><td>Operation</td><td>operator:&nbsp;18<br>operands:&nbsp;19<br></td><td><a class=\"ProveItLink\" href=\"../b9d0304f810e7ff9f61da5401dda8e87b31c94a50/expr.ipynb\"><img src=\"../b9d0304f810e7ff9f61da5401dda8e87b31c94a50/expr.png\" style=\"display:inline;vertical-align:middle;\" /></a></td></tr>\n",
       "<tr><td>14</td><td>Operation</td><td>operator:&nbsp;20<br>operands:&nbsp;21<br></td><td><a class=\"ProveItLink\" href=\"../d97fe031b7cf8101e0de9d353cb395189f7cafa70/expr.ipynb\"><img src=\"../d97fe031b7cf8101e0de9d353cb395189f7cafa70/expr.png\" style=\"display:inline;vertical-align:middle;\" /></a></td></tr>\n",
       "<tr><td>15</td><td>ExprTuple</td><td>28, 22</td><td><a class=\"ProveItLink\" href=\"../c8f1b31aef93a44ba993e16bad7f1ded007058d40/expr.ipynb\"><img src=\"../c8f1b31aef93a44ba993e16bad7f1ded007058d40/expr.png\" style=\"display:inline;vertical-align:middle;\" /></a></td></tr>\n",
       "<tr><td>16</td><td>ExprTuple</td><td>29, 22</td><td><a class=\"ProveItLink\" href=\"../736c49f6c3698a77695776ac857c7809031236850/expr.ipynb\"><img src=\"../736c49f6c3698a77695776ac857c7809031236850/expr.png\" style=\"display:inline;vertical-align:middle;\" /></a></td></tr>\n",
       "<tr><td>17</td><td>ExprTuple</td><td>28, 23</td><td><a class=\"ProveItLink\" href=\"../60ba91908b283be41d3d42f3d78214c73295c9430/expr.ipynb\"><img src=\"../60ba91908b283be41d3d42f3d78214c73295c9430/expr.png\" style=\"display:inline;vertical-align:middle;\" /></a></td></tr>\n",
       "<tr><td>18</td><td>Literal</td><td></td><td><a class=\"ProveItLink\" href=\"../../../../../ordering/__pv_it/common/869e6d5549437128ed25d67d9fc2182576bdc1d70/expr.ipynb\"><img src=\"../../../../../ordering/__pv_it/common/869e6d5549437128ed25d67d9fc2182576bdc1d70/expr.png\" style=\"display:inline;vertical-align:middle;\" /></a></td></tr>\n",
       "<tr><td>19</td><td>ExprTuple</td><td>24, 23</td><td><a class=\"ProveItLink\" href=\"../161a76a7a48cad9fb6f614235829ba978f4d9c300/expr.ipynb\"><img src=\"../161a76a7a48cad9fb6f614235829ba978f4d9c300/expr.png\" style=\"display:inline;vertical-align:middle;\" /></a></td></tr>\n",
       "<tr><td>20</td><td>Literal</td><td></td><td><a class=\"ProveItLink\" href=\"../../../../../../logic/sets/membership/__pv_it/common/477487d8796864d23d5810f83761435f25167f690/expr.ipynb\"><img src=\"../../../../../../logic/sets/membership/__pv_it/common/477487d8796864d23d5810f83761435f25167f690/expr.png\" style=\"display:inline;vertical-align:middle;\" /></a></td></tr>\n",
       "<tr><td>21</td><td>ExprTuple</td><td>24, 25</td><td><a class=\"ProveItLink\" href=\"../85a8d12516934590882289c41b38a2585746e89f0/expr.ipynb\"><img src=\"../85a8d12516934590882289c41b38a2585746e89f0/expr.png\" style=\"display:inline;vertical-align:middle;\" /></a></td></tr>\n",
       "<tr><td>22</td><td>Literal</td><td></td><td><a class=\"ProveItLink\" href=\"../../common/e6b4e90f9467053e055a4fd2f735c0bb79cb79300/expr.ipynb\"><img src=\"../../common/e6b4e90f9467053e055a4fd2f735c0bb79cb79300/expr.png\" style=\"display:inline;vertical-align:middle;\" /></a></td></tr>\n",
       "<tr><td>23</td><td>Literal</td><td></td><td><a class=\"ProveItLink\" href=\"../../../../../numerals/__pv_it/common/7d0a36793ffe8d307a5c120ee5598162e8cd2db10/expr.ipynb\"><img src=\"../../../../../numerals/__pv_it/common/7d0a36793ffe8d307a5c120ee5598162e8cd2db10/expr.png\" style=\"display:inline;vertical-align:middle;\" /></a></td></tr>\n",
       "<tr><td>24</td><td>Variable</td><td></td><td><a class=\"ProveItLink\" href=\"../../../../../../__pv_it/common/8968bb04eb3f7dfa02353397ce929b025bbd79c20/expr.ipynb\"><img src=\"../../../../../../__pv_it/common/8968bb04eb3f7dfa02353397ce929b025bbd79c20/expr.png\" style=\"display:inline;vertical-align:middle;\" /></a></td></tr>\n",
       "<tr><td>25</td><td>Operation</td><td>operator:&nbsp;26<br>operands:&nbsp;27<br></td><td><a class=\"ProveItLink\" href=\"../764f035886f82f99e419ea94dcfff73df08a8afa0/expr.ipynb\"><img src=\"../764f035886f82f99e419ea94dcfff73df08a8afa0/expr.png\" style=\"display:inline;vertical-align:middle;\" /></a></td></tr>\n",
       "<tr><td>26</td><td>Literal</td><td></td><td><a class=\"ProveItLink\" href=\"../../common/92f3a0a77e3c3ea8e4a5c8674edadc54e4f57d550/expr.ipynb\"><img src=\"../../common/92f3a0a77e3c3ea8e4a5c8674edadc54e4f57d550/expr.png\" style=\"display:inline;vertical-align:middle;\" /></a></td></tr>\n",
       "<tr><td>27</td><td>ExprTuple</td><td>28, 29</td><td><a class=\"ProveItLink\" href=\"../0e00cf301f391b9db3f5ff72911e8e2539c94fb00/expr.ipynb\"><img src=\"../0e00cf301f391b9db3f5ff72911e8e2539c94fb00/expr.png\" style=\"display:inline;vertical-align:middle;\" /></a></td></tr>\n",
       "<tr><td>28</td><td>Variable</td><td></td><td><a class=\"ProveItLink\" href=\"../../../../../../__pv_it/common/c06c606ec12678c58933ac85412ecadc2ae28be60/expr.ipynb\"><img src=\"../../../../../../__pv_it/common/c06c606ec12678c58933ac85412ecadc2ae28be60/expr.png\" style=\"display:inline;vertical-align:middle;\" /></a></td></tr>\n",
       "<tr><td>29</td><td>Variable</td><td></td><td><a class=\"ProveItLink\" href=\"../../../../../../__pv_it/common/195236b98c6c564a75b5dbada74b173bc52d5c3e0/expr.ipynb\"><img src=\"../../../../../../__pv_it/common/195236b98c6c564a75b5dbada74b173bc52d5c3e0/expr.png\" style=\"display:inline;vertical-align:middle;\" /></a></td></tr>\n",
       "</table>\n"
      ],
      "text/plain": [
       "0. forall_{a, b in Integer | a > 0} [forall_{n in {a...b}} (n > 0)]\n",
       "   core type: Operation\n",
       "   operator: 5\n",
       "   operand: 1\n",
       "1. (a, b) -> {forall_{n in {a...b}} (n > 0) if a in Integer ,  b in Integer ,  a > 0.\n",
       "   core type: Lambda\n",
       "   parameters: 27\\n   body: 2\n",
       "2. {forall_{n in {a...b}} (n > 0) if a in Integer ,  b in Integer ,  a > 0.\n",
       "   core type: Conditional\n",
       "   value: 3\n",
       "   condition: 4\n",
       "3. forall_{n in {a...b}} (n > 0)\n",
       "   core type: Operation\n",
       "   operator: 5\n",
       "   operand: 6\n",
       "4. (a in Integer) and (b in Integer) and (a > 0)\n",
       "   core type: Operation\n",
       "   operator: 7\n",
       "   operands: 8\n",
       "5. forall\n",
       "   core type: Literal\n",
       "   sub-expressions: \n",
       "6. n -> {n > 0 if n in {a...b}.\n",
       "   core type: Lambda\n",
       "   parameter: 24\n",
       "   body: 9\n",
       "7. and\n",
       "   core type: Literal\n",
       "   sub-expressions: \n",
       "8. (a in Integer, b in Integer, a > 0)\n",
       "   core type: ExprTuple\n",
       "   sub-expressions: 10, 11, 12\n",
       "9. {n > 0 if n in {a...b}.\n",
       "   core type: Conditional\n",
       "   value: 13\n",
       "   condition: 14\n",
       "10. a in Integer\n",
       "    core type: Operation\n",
       "    operator: 20\n",
       "    operands: 15\n",
       "11. b in Integer\n",
       "    core type: Operation\n",
       "    operator: 20\n",
       "    operands: 16\n",
       "12. a > 0\n",
       "    core type: Operation\n",
       "    operator: 18\n",
       "    operands: 17\n",
       "13. n > 0\n",
       "    core type: Operation\n",
       "    operator: 18\n",
       "    operands: 19\n",
       "14. n in {a...b}\n",
       "    core type: Operation\n",
       "    operator: 20\n",
       "    operands: 21\n",
       "15. (a, Integer)\n",
       "    core type: ExprTuple\n",
       "    sub-expressions: 28, 22\n",
       "16. (b, Integer)\n",
       "    core type: ExprTuple\n",
       "    sub-expressions: 29, 22\n",
       "17. (a, 0)\n",
       "    core type: ExprTuple\n",
       "    sub-expressions: 28, 23\n",
       "18. >\n",
       "    core type: Literal\n",
       "    sub-expressions: \n",
       "19. (n, 0)\n",
       "    core type: ExprTuple\n",
       "    sub-expressions: 24, 23\n",
       "20. in\n",
       "    core type: Literal\n",
       "    sub-expressions: \n",
       "21. (n, {a...b})\n",
       "    core type: ExprTuple\n",
       "    sub-expressions: 24, 25\n",
       "22. Integer\n",
       "    core type: Literal\n",
       "    sub-expressions: \n",
       "23. 0\n",
       "    core type: Literal\n",
       "    sub-expressions: \n",
       "24. n\n",
       "    core type: Variable\n",
       "    sub-expressions: \n",
       "25. {a...b}\n",
       "    core type: Operation\n",
       "    operator: 26\n",
       "    operands: 27\n",
       "26. Interval\n",
       "    core type: Literal\n",
       "    sub-expressions: \n",
       "27. (a, b)\n",
       "    core type: ExprTuple\n",
       "    sub-expressions: 28, 29\n",
       "28. a\n",
       "    core type: Variable\n",
       "    sub-expressions: \n",
       "29. b\n",
       "    core type: Variable\n",
       "    sub-expressions: "
      ]
     },
     "execution_count": 4,
     "metadata": {},
     "output_type": "execute_result"
    }
   ],
   "source": [
    "# display the expression information\n",
    "all_in_positive_interval_are_positive.expr_info()"
   ]
  },
  {
   "cell_type": "code",
   "execution_count": null,
   "metadata": {},
   "outputs": [],
   "source": []
  }
 ],
 "metadata": {
  "kernelspec": {
   "display_name": "Python 3",
   "language": "python",
   "name": "python3"
  }
 },
 "nbformat": 4,
 "nbformat_minor": 0
}