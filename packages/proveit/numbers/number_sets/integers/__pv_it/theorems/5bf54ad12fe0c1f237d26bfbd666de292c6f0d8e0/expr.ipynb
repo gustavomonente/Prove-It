{
 "cells": [
  {
   "cell_type": "markdown",
   "metadata": {},
   "source": [
    "Expression of type <a class=\"ProveItLink\" href=\"../../../../../../../../doc/html/api/proveit.Conditional.html\">Conditional</a>\n",
    "=======================\n",
    "# from the theory of <a class=\"ProveItLink\" href=\"../../../_theory_nbs_/theory.ipynb\">proveit.numbers.number_sets.integers</a>"
   ]
  },
  {
   "cell_type": "code",
   "execution_count": 1,
   "metadata": {},
   "outputs": [],
   "source": [
    "import proveit\n",
    "# Automation is not needed when building an expression:\n",
    "proveit.defaults.automation = False # This will speed things up.\n",
    "proveit.defaults.inline_pngs = False # Makes files smaller.\n",
    "%load_expr # Load the stored expression as 'stored_expr'\n",
    "# import Expression classes needed to build the expression\n",
    "from proveit import Conditional, a, b, n\n",
    "from proveit.logic import And, Forall, InSet\n",
    "from proveit.numbers import Integer, Interval, LessEq"
   ]
  },
  {
   "cell_type": "code",
   "execution_count": 2,
   "metadata": {},
   "outputs": [
    {
     "data": {
      "text/html": [
       "<strong id=\"expr\">expr:</strong> <a class=\"ProveItLink\" href=\"expr.ipynb\"><img src=\"expr.png\" style=\"display:inline;vertical-align:middle;\" /></a><br>"
      ],
      "text/plain": [
       "expr: {forall_{n in {a...b}} (n <= b) if a in Integer ,  b in Integer."
      ]
     },
     "execution_count": 2,
     "metadata": {},
     "output_type": "execute_result"
    }
   ],
   "source": [
    "# build up the expression from sub-expressions\n",
    "expr = Conditional(Forall([n], LessEq(n, b), domains = [Interval(a, b)]), And(InSet(a, Integer), InSet(b, Integer)))"
   ]
  },
  {
   "cell_type": "code",
   "execution_count": 3,
   "metadata": {},
   "outputs": [
    {
     "name": "stdout",
     "output_type": "stream",
     "text": [
      "Passed sanity check: expr matches stored_expr\n"
     ]
    }
   ],
   "source": [
    "# check that the built expression is the same as the stored expression\n",
    "assert expr == stored_expr\n",
    "assert expr._style_id == stored_expr._style_id\n",
    "print(\"Passed sanity check: expr matches stored_expr\")"
   ]
  },
  {
   "cell_type": "code",
   "execution_count": 4,
   "metadata": {},
   "outputs": [
    {
     "name": "stdout",
     "output_type": "stream",
     "text": [
      "\\left\\{\\forall_{n \\in \\{a \\ldots b\\}}~\\left(n \\leq b\\right) \\textrm{ if } a \\in \\mathbb{Z} ,  b \\in \\mathbb{Z}\\right..\n"
     ]
    }
   ],
   "source": [
    "# Show the LaTeX representation of the expression for convenience if you need it.\n",
    "print(expr.latex())"
   ]
  },
  {
   "cell_type": "code",
   "execution_count": 5,
   "metadata": {},
   "outputs": [
    {
     "data": {
      "text/html": [
       "<table>\n",
       "<tr><th>name</th><th>description</th><th>default</th><th>current value</th><th>related methods</th></tr><tr><td>condition_delimiter</td><td>'comma' or 'and'</td><td>comma</td><td>comma</td><td>('with_comma_delimiter', 'with_conjunction_delimiter')</td></tr>\n",
       "</table>\n"
      ],
      "text/plain": [
       "style name: condition_delimiter\n",
       "description: 'comma' or 'and'\n",
       "default: comma\n",
       "current value: comma\n",
       "related methods: ('with_comma_delimiter', 'with_conjunction_delimiter')"
      ]
     },
     "execution_count": 5,
     "metadata": {},
     "output_type": "execute_result"
    }
   ],
   "source": [
    "expr.style_options()"
   ]
  },
  {
   "cell_type": "code",
   "execution_count": 6,
   "metadata": {},
   "outputs": [
    {
     "data": {
      "text/html": [
       "<table><tr><th>&nbsp;</th><th>core type</th><th>sub-expressions</th><th>expression</th></tr>\n",
       "<tr><td>0</td><td>Conditional</td><td>value:&nbsp;1<br>condition:&nbsp;2<br></td><td><a class=\"ProveItLink\" href=\"expr.ipynb\"><img src=\"expr.png\" style=\"display:inline;vertical-align:middle;\" /></a></td></tr>\n",
       "<tr><td>1</td><td>Operation</td><td>operator:&nbsp;3<br>operand:&nbsp;7<br></td><td><a class=\"ProveItLink\" href=\"../dc202c1703ab03491354bc485b81111e38f683df0/expr.ipynb\"><img src=\"../dc202c1703ab03491354bc485b81111e38f683df0/expr.png\" style=\"display:inline;vertical-align:middle;\" /></a></td></tr>\n",
       "<tr><td>2</td><td>Operation</td><td>operator:&nbsp;5<br>operands:&nbsp;6<br></td><td><a class=\"ProveItLink\" href=\"../743ca0591597ccf6e9725c37447ef4e3cb6eeeff0/expr.ipynb\"><img src=\"../743ca0591597ccf6e9725c37447ef4e3cb6eeeff0/expr.png\" style=\"display:inline;vertical-align:middle;\" /></a></td></tr>\n",
       "<tr><td>3</td><td>Literal</td><td></td><td><a class=\"ProveItLink\" href=\"../../../../../../logic/booleans/quantification/universality/__pv_it/common/684d35ba98fcbf8ca5011f865e530a51e77730630/expr.ipynb\"><img src=\"../../../../../../logic/booleans/quantification/universality/__pv_it/common/684d35ba98fcbf8ca5011f865e530a51e77730630/expr.png\" style=\"display:inline;vertical-align:middle;\" /></a></td></tr>\n",
       "<tr><td>4</td><td>ExprTuple</td><td>7</td><td><a class=\"ProveItLink\" href=\"../df5b4c7192ae75d3a9ca652524270dfbea8fa5cf0/expr.ipynb\"><img src=\"../df5b4c7192ae75d3a9ca652524270dfbea8fa5cf0/expr.png\" style=\"display:inline;vertical-align:middle;\" /></a></td></tr>\n",
       "<tr><td>5</td><td>Literal</td><td></td><td><a class=\"ProveItLink\" href=\"../../../../../../logic/booleans/conjunction/__pv_it/common/26b94b53e70b1d77b70f0d9d4236347db37731060/expr.ipynb\"><img src=\"../../../../../../logic/booleans/conjunction/__pv_it/common/26b94b53e70b1d77b70f0d9d4236347db37731060/expr.png\" style=\"display:inline;vertical-align:middle;\" /></a></td></tr>\n",
       "<tr><td>6</td><td>ExprTuple</td><td>8, 9</td><td><a class=\"ProveItLink\" href=\"../b5fda8537b9d73227443d116c7dfa78a286c98890/expr.ipynb\"><img src=\"../b5fda8537b9d73227443d116c7dfa78a286c98890/expr.png\" style=\"display:inline;vertical-align:middle;\" /></a></td></tr>\n",
       "<tr><td>7</td><td>Lambda</td><td>parameter:&nbsp;20<br>body:&nbsp;10<br></td><td><a class=\"ProveItLink\" href=\"../aa2ce4698681614196f00bc872464f9519ec9e970/expr.ipynb\"><img src=\"../aa2ce4698681614196f00bc872464f9519ec9e970/expr.png\" style=\"display:inline;vertical-align:middle;\" /></a></td></tr>\n",
       "<tr><td>8</td><td>Operation</td><td>operator:&nbsp;18<br>operands:&nbsp;11<br></td><td><a class=\"ProveItLink\" href=\"../aeb86e7d5c288ba2e25ee615623628c0d66cb63f0/expr.ipynb\"><img src=\"../aeb86e7d5c288ba2e25ee615623628c0d66cb63f0/expr.png\" style=\"display:inline;vertical-align:middle;\" /></a></td></tr>\n",
       "<tr><td>9</td><td>Operation</td><td>operator:&nbsp;18<br>operands:&nbsp;12<br></td><td><a class=\"ProveItLink\" href=\"../bd3b9159ee6eab26d799dfb5128925c8965e71930/expr.ipynb\"><img src=\"../bd3b9159ee6eab26d799dfb5128925c8965e71930/expr.png\" style=\"display:inline;vertical-align:middle;\" /></a></td></tr>\n",
       "<tr><td>10</td><td>Conditional</td><td>value:&nbsp;13<br>condition:&nbsp;14<br></td><td><a class=\"ProveItLink\" href=\"../4c88cbdddc2fce2fec72e38a13e688049b5c70430/expr.ipynb\"><img src=\"../4c88cbdddc2fce2fec72e38a13e688049b5c70430/expr.png\" style=\"display:inline;vertical-align:middle;\" /></a></td></tr>\n",
       "<tr><td>11</td><td>ExprTuple</td><td>24, 15</td><td><a class=\"ProveItLink\" href=\"../5713fd7d5d5cd591e3ee125b63c591a518d5370d0/expr.ipynb\"><img src=\"../5713fd7d5d5cd591e3ee125b63c591a518d5370d0/expr.png\" style=\"display:inline;vertical-align:middle;\" /></a></td></tr>\n",
       "<tr><td>12</td><td>ExprTuple</td><td>25, 15</td><td><a class=\"ProveItLink\" href=\"../fc00758960c2ab7909c23126ef77f76c2cf0793f0/expr.ipynb\"><img src=\"../fc00758960c2ab7909c23126ef77f76c2cf0793f0/expr.png\" style=\"display:inline;vertical-align:middle;\" /></a></td></tr>\n",
       "<tr><td>13</td><td>Operation</td><td>operator:&nbsp;16<br>operands:&nbsp;17<br></td><td><a class=\"ProveItLink\" href=\"../4740026e2d28d272e4954dd78171ec91498e2c020/expr.ipynb\"><img src=\"../4740026e2d28d272e4954dd78171ec91498e2c020/expr.png\" style=\"display:inline;vertical-align:middle;\" /></a></td></tr>\n",
       "<tr><td>14</td><td>Operation</td><td>operator:&nbsp;18<br>operands:&nbsp;19<br></td><td><a class=\"ProveItLink\" href=\"../17818e05030d9cf44f81d261fd0737893b7201360/expr.ipynb\"><img src=\"../17818e05030d9cf44f81d261fd0737893b7201360/expr.png\" style=\"display:inline;vertical-align:middle;\" /></a></td></tr>\n",
       "<tr><td>15</td><td>Literal</td><td></td><td><a class=\"ProveItLink\" href=\"../../common/21b035fc94b1f20bfb5161d2c7bd6eb2042cc5670/expr.ipynb\"><img src=\"../../common/21b035fc94b1f20bfb5161d2c7bd6eb2042cc5670/expr.png\" style=\"display:inline;vertical-align:middle;\" /></a></td></tr>\n",
       "<tr><td>16</td><td>Literal</td><td></td><td><a class=\"ProveItLink\" href=\"../../../../../ordering/__pv_it/common/b7491c9b87613cffc9e4ec0625a0f1afacbe2cbd0/expr.ipynb\"><img src=\"../../../../../ordering/__pv_it/common/b7491c9b87613cffc9e4ec0625a0f1afacbe2cbd0/expr.png\" style=\"display:inline;vertical-align:middle;\" /></a></td></tr>\n",
       "<tr><td>17</td><td>ExprTuple</td><td>20, 25</td><td><a class=\"ProveItLink\" href=\"../88d4a1cfa69d2cc0f781148a1f9076692058cd190/expr.ipynb\"><img src=\"../88d4a1cfa69d2cc0f781148a1f9076692058cd190/expr.png\" style=\"display:inline;vertical-align:middle;\" /></a></td></tr>\n",
       "<tr><td>18</td><td>Literal</td><td></td><td><a class=\"ProveItLink\" href=\"../../../../../../logic/sets/membership/__pv_it/common/7171deca84f71f47a6ec7696972d1632274a12880/expr.ipynb\"><img src=\"../../../../../../logic/sets/membership/__pv_it/common/7171deca84f71f47a6ec7696972d1632274a12880/expr.png\" style=\"display:inline;vertical-align:middle;\" /></a></td></tr>\n",
       "<tr><td>19</td><td>ExprTuple</td><td>20, 21</td><td><a class=\"ProveItLink\" href=\"../e698566a0ef5fdf60f74be40b266a7b95ebdb04c0/expr.ipynb\"><img src=\"../e698566a0ef5fdf60f74be40b266a7b95ebdb04c0/expr.png\" style=\"display:inline;vertical-align:middle;\" /></a></td></tr>\n",
       "<tr><td>20</td><td>Variable</td><td></td><td><a class=\"ProveItLink\" href=\"../../../../../../__pv_it/common/6165c9bb82ce3c7097cdba4440a1aeeb6eaca8a40/expr.ipynb\"><img src=\"../../../../../../__pv_it/common/6165c9bb82ce3c7097cdba4440a1aeeb6eaca8a40/expr.png\" style=\"display:inline;vertical-align:middle;\" /></a></td></tr>\n",
       "<tr><td>21</td><td>Operation</td><td>operator:&nbsp;22<br>operands:&nbsp;23<br></td><td><a class=\"ProveItLink\" href=\"../32ef0856258084810215b68484bc6d25ac9b53ec0/expr.ipynb\"><img src=\"../32ef0856258084810215b68484bc6d25ac9b53ec0/expr.png\" style=\"display:inline;vertical-align:middle;\" /></a></td></tr>\n",
       "<tr><td>22</td><td>Literal</td><td></td><td><a class=\"ProveItLink\" href=\"../../common/fcf0def17f5c3c84b64c959b39aed0e5dad7f3340/expr.ipynb\"><img src=\"../../common/fcf0def17f5c3c84b64c959b39aed0e5dad7f3340/expr.png\" style=\"display:inline;vertical-align:middle;\" /></a></td></tr>\n",
       "<tr><td>23</td><td>ExprTuple</td><td>24, 25</td><td><a class=\"ProveItLink\" href=\"../1bdfc8550dcba21649b1aca02603584957f865fb0/expr.ipynb\"><img src=\"../1bdfc8550dcba21649b1aca02603584957f865fb0/expr.png\" style=\"display:inline;vertical-align:middle;\" /></a></td></tr>\n",
       "<tr><td>24</td><td>Variable</td><td></td><td><a class=\"ProveItLink\" href=\"../../../../../../__pv_it/common/66c90e66682f107a881f2d666959f64e2e72ad750/expr.ipynb\"><img src=\"../../../../../../__pv_it/common/66c90e66682f107a881f2d666959f64e2e72ad750/expr.png\" style=\"display:inline;vertical-align:middle;\" /></a></td></tr>\n",
       "<tr><td>25</td><td>Variable</td><td></td><td><a class=\"ProveItLink\" href=\"../../../../../../__pv_it/common/4a5db8cc5c67969ec864bd3ea598be37cb6f5e550/expr.ipynb\"><img src=\"../../../../../../__pv_it/common/4a5db8cc5c67969ec864bd3ea598be37cb6f5e550/expr.png\" style=\"display:inline;vertical-align:middle;\" /></a></td></tr>\n",
       "</table>\n"
      ],
      "text/plain": [
       "0. {forall_{n in {a...b}} (n <= b) if a in Integer ,  b in Integer.\n",
       "   core type: Conditional\n",
       "   value: 1\n",
       "   condition: 2\n",
       "1. forall_{n in {a...b}} (n <= b)\n",
       "   core type: Operation\n",
       "   operator: 3\n",
       "   operand: 7\n",
       "2. (a in Integer) and (b in Integer)\n",
       "   core type: Operation\n",
       "   operator: 5\n",
       "   operands: 6\n",
       "3. forall\n",
       "   core type: Literal\n",
       "   sub-expressions: \n",
       "4. (n -> {n <= b if n in {a...b}.)\n",
       "   core type: ExprTuple\n",
       "   sub-expressions: 7\n",
       "5. and\n",
       "   core type: Literal\n",
       "   sub-expressions: \n",
       "6. (a in Integer, b in Integer)\n",
       "   core type: ExprTuple\n",
       "   sub-expressions: 8, 9\n",
       "7. n -> {n <= b if n in {a...b}.\n",
       "   core type: Lambda\n",
       "   parameter: 20\n",
       "   body: 10\n",
       "8. a in Integer\n",
       "   core type: Operation\n",
       "   operator: 18\n",
       "   operands: 11\n",
       "9. b in Integer\n",
       "   core type: Operation\n",
       "   operator: 18\n",
       "   operands: 12\n",
       "10. {n <= b if n in {a...b}.\n",
       "    core type: Conditional\n",
       "    value: 13\n",
       "    condition: 14\n",
       "11. (a, Integer)\n",
       "    core type: ExprTuple\n",
       "    sub-expressions: 24, 15\n",
       "12. (b, Integer)\n",
       "    core type: ExprTuple\n",
       "    sub-expressions: 25, 15\n",
       "13. n <= b\n",
       "    core type: Operation\n",
       "    operator: 16\n",
       "    operands: 17\n",
       "14. n in {a...b}\n",
       "    core type: Operation\n",
       "    operator: 18\n",
       "    operands: 19\n",
       "15. Integer\n",
       "    core type: Literal\n",
       "    sub-expressions: \n",
       "16. <=\n",
       "    core type: Literal\n",
       "    sub-expressions: \n",
       "17. (n, b)\n",
       "    core type: ExprTuple\n",
       "    sub-expressions: 20, 25\n",
       "18. in\n",
       "    core type: Literal\n",
       "    sub-expressions: \n",
       "19. (n, {a...b})\n",
       "    core type: ExprTuple\n",
       "    sub-expressions: 20, 21\n",
       "20. n\n",
       "    core type: Variable\n",
       "    sub-expressions: \n",
       "21. {a...b}\n",
       "    core type: Operation\n",
       "    operator: 22\n",
       "    operands: 23\n",
       "22. Interval\n",
       "    core type: Literal\n",
       "    sub-expressions: \n",
       "23. (a, b)\n",
       "    core type: ExprTuple\n",
       "    sub-expressions: 24, 25\n",
       "24. a\n",
       "    core type: Variable\n",
       "    sub-expressions: \n",
       "25. b\n",
       "    core type: Variable\n",
       "    sub-expressions: "
      ]
     },
     "execution_count": 6,
     "metadata": {},
     "output_type": "execute_result"
    }
   ],
   "source": [
    "# display the expression information\n",
    "expr.expr_info()"
   ]
  },
  {
   "cell_type": "code",
   "execution_count": null,
   "metadata": {},
   "outputs": [],
   "source": []
  }
 ],
 "metadata": {
  "kernelspec": {
   "display_name": "Python 3",
   "language": "python",
   "name": "python3"
  }
 },
 "nbformat": 4,
 "nbformat_minor": 0
}