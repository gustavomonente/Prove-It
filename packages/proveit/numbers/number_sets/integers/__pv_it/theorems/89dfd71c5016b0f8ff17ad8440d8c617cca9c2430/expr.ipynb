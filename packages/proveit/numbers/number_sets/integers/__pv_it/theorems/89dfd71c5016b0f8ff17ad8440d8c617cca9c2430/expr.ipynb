{
 "cells": [
  {
   "cell_type": "markdown",
   "metadata": {},
   "source": [
    "Expression of type <a class=\"ProveItLink\" href=\"../../../../../../../../doc/html/api/proveit.Conditional.html\">Conditional</a>\n",
    "=======================\n",
    "# from the theory of <a class=\"ProveItLink\" href=\"../../../_theory_nbs_/theory.ipynb\">proveit.numbers.number_sets.integers</a>"
   ]
  },
  {
   "cell_type": "code",
   "execution_count": 1,
   "metadata": {},
   "outputs": [],
   "source": [
    "import proveit\n",
    "# Automation is not needed when building an expression:\n",
    "proveit.defaults.automation = False # This will speed things up.\n",
    "proveit.defaults.inline_pngs = False # Makes files smaller.\n",
    "%load_expr # Load the stored expression as 'stored_expr'\n",
    "# import Expression classes needed to build the expression\n",
    "from proveit import Conditional, a, b\n",
    "from proveit.logic import And, InSet\n",
    "from proveit.numbers import Add, Integer, Less, NaturalPos, Neg"
   ]
  },
  {
   "cell_type": "code",
   "execution_count": 2,
   "metadata": {},
   "outputs": [
    {
     "data": {
      "text/html": [
       "<strong id=\"expr\">expr:</strong> <a class=\"ProveItLink\" href=\"expr.ipynb\"><img src=\"expr.png\" style=\"display:inline;vertical-align:middle;\" /></a><br>"
      ],
      "text/plain": [
       "expr: {(a - b) in NaturalPos if a in Integer ,  b in Integer ,  b < a."
      ]
     },
     "execution_count": 2,
     "metadata": {},
     "output_type": "execute_result"
    }
   ],
   "source": [
    "# build up the expression from sub-expressions\n",
    "expr = Conditional(InSet(Add(a, Neg(b)), NaturalPos), And(InSet(a, Integer), InSet(b, Integer), Less(b, a)))"
   ]
  },
  {
   "cell_type": "code",
   "execution_count": 3,
   "metadata": {},
   "outputs": [
    {
     "name": "stdout",
     "output_type": "stream",
     "text": [
      "Passed sanity check: expr matches stored_expr\n"
     ]
    }
   ],
   "source": [
    "# check that the built expression is the same as the stored expression\n",
    "assert expr == stored_expr\n",
    "assert expr._style_id == stored_expr._style_id\n",
    "print(\"Passed sanity check: expr matches stored_expr\")"
   ]
  },
  {
   "cell_type": "code",
   "execution_count": 4,
   "metadata": {},
   "outputs": [
    {
     "name": "stdout",
     "output_type": "stream",
     "text": [
      "\\left\\{\\left(a - b\\right) \\in \\mathbb{N}^+ \\textrm{ if } a \\in \\mathbb{Z} ,  b \\in \\mathbb{Z} ,  b < a\\right..\n"
     ]
    }
   ],
   "source": [
    "# Show the LaTeX representation of the expression for convenience if you need it.\n",
    "print(expr.latex())"
   ]
  },
  {
   "cell_type": "code",
   "execution_count": 5,
   "metadata": {},
   "outputs": [
    {
     "data": {
      "text/html": [
       "<table><tr><th>&nbsp;</th><th>core type</th><th>sub-expressions</th><th>expression</th></tr>\n",
       "<tr><td>0</td><td>Conditional</td><td>value:&nbsp;1<br>condition:&nbsp;2<br></td><td><a class=\"ProveItLink\" href=\"expr.ipynb\"><img src=\"expr.png\" style=\"display:inline;vertical-align:middle;\" /></a></td></tr>\n",
       "<tr><td>1</td><td>Operation</td><td>operator:&nbsp;14<br>operands:&nbsp;3<br></td><td><a class=\"ProveItLink\" href=\"../8ad096c991a085de73ad7b1a845b3f9a85f6dc1f0/expr.ipynb\"><img src=\"../8ad096c991a085de73ad7b1a845b3f9a85f6dc1f0/expr.png\" style=\"display:inline;vertical-align:middle;\" /></a></td></tr>\n",
       "<tr><td>2</td><td>Operation</td><td>operator:&nbsp;4<br>operands:&nbsp;5<br></td><td><a class=\"ProveItLink\" href=\"../75de98b2dfadac52983281ce91198fbcbafa582c0/expr.ipynb\"><img src=\"../75de98b2dfadac52983281ce91198fbcbafa582c0/expr.png\" style=\"display:inline;vertical-align:middle;\" /></a></td></tr>\n",
       "<tr><td>3</td><td>ExprTuple</td><td>6, 7</td><td><a class=\"ProveItLink\" href=\"../592003a9d264bddc3e16910b244f609b4b2771ea0/expr.ipynb\"><img src=\"../592003a9d264bddc3e16910b244f609b4b2771ea0/expr.png\" style=\"display:inline;vertical-align:middle;\" /></a></td></tr>\n",
       "<tr><td>4</td><td>Literal</td><td></td><td><a class=\"ProveItLink\" href=\"../../../../../../logic/booleans/conjunction/__pv_it/common/42118ff318bd65d98b1393f64ce7c2269feef76e0/expr.ipynb\"><img src=\"../../../../../../logic/booleans/conjunction/__pv_it/common/42118ff318bd65d98b1393f64ce7c2269feef76e0/expr.png\" style=\"display:inline;vertical-align:middle;\" /></a></td></tr>\n",
       "<tr><td>5</td><td>ExprTuple</td><td>8, 9, 10</td><td><a class=\"ProveItLink\" href=\"../66df4c0548bd646a101149dc60c562a69725f4f40/expr.ipynb\"><img src=\"../66df4c0548bd646a101149dc60c562a69725f4f40/expr.png\" style=\"display:inline;vertical-align:middle;\" /></a></td></tr>\n",
       "<tr><td>6</td><td>Operation</td><td>operator:&nbsp;11<br>operands:&nbsp;12<br></td><td><a class=\"ProveItLink\" href=\"../71b7bf681aeb77e4293824ea0f36a7550298cade0/expr.ipynb\"><img src=\"../71b7bf681aeb77e4293824ea0f36a7550298cade0/expr.png\" style=\"display:inline;vertical-align:middle;\" /></a></td></tr>\n",
       "<tr><td>7</td><td>Literal</td><td></td><td><a class=\"ProveItLink\" href=\"../../../../natural_numbers/__pv_it/common/6111329435c43892c831c4793de96afbf80bdb3e0/expr.ipynb\"><img src=\"../../../../natural_numbers/__pv_it/common/6111329435c43892c831c4793de96afbf80bdb3e0/expr.png\" style=\"display:inline;vertical-align:middle;\" /></a></td></tr>\n",
       "<tr><td>8</td><td>Operation</td><td>operator:&nbsp;14<br>operands:&nbsp;13<br></td><td><a class=\"ProveItLink\" href=\"../fbe1b6ce8ed9d8f253e825a8f5b21fd6a211e9940/expr.ipynb\"><img src=\"../fbe1b6ce8ed9d8f253e825a8f5b21fd6a211e9940/expr.png\" style=\"display:inline;vertical-align:middle;\" /></a></td></tr>\n",
       "<tr><td>9</td><td>Operation</td><td>operator:&nbsp;14<br>operands:&nbsp;15<br></td><td><a class=\"ProveItLink\" href=\"../2e91f6db9f6a1ab11eddf02be9601b8829f29a830/expr.ipynb\"><img src=\"../2e91f6db9f6a1ab11eddf02be9601b8829f29a830/expr.png\" style=\"display:inline;vertical-align:middle;\" /></a></td></tr>\n",
       "<tr><td>10</td><td>Operation</td><td>operator:&nbsp;16<br>operands:&nbsp;17<br></td><td><a class=\"ProveItLink\" href=\"../b883e4a6b44d9f8e4994034548d4917bb8d7c3a60/expr.ipynb\"><img src=\"../b883e4a6b44d9f8e4994034548d4917bb8d7c3a60/expr.png\" style=\"display:inline;vertical-align:middle;\" /></a></td></tr>\n",
       "<tr><td>11</td><td>Literal</td><td></td><td><a class=\"ProveItLink\" href=\"../../../../../addition/__pv_it/common/4b7effaab3619a1c2c38fe2dee8601df8ec714590/expr.ipynb\"><img src=\"../../../../../addition/__pv_it/common/4b7effaab3619a1c2c38fe2dee8601df8ec714590/expr.png\" style=\"display:inline;vertical-align:middle;\" /></a></td></tr>\n",
       "<tr><td>12</td><td>ExprTuple</td><td>20, 18</td><td><a class=\"ProveItLink\" href=\"../fc25a5df1bc113a979e083f52c4ae2028a1f3a520/expr.ipynb\"><img src=\"../fc25a5df1bc113a979e083f52c4ae2028a1f3a520/expr.png\" style=\"display:inline;vertical-align:middle;\" /></a></td></tr>\n",
       "<tr><td>13</td><td>ExprTuple</td><td>20, 19</td><td><a class=\"ProveItLink\" href=\"../c8f1b31aef93a44ba993e16bad7f1ded007058d40/expr.ipynb\"><img src=\"../c8f1b31aef93a44ba993e16bad7f1ded007058d40/expr.png\" style=\"display:inline;vertical-align:middle;\" /></a></td></tr>\n",
       "<tr><td>14</td><td>Literal</td><td></td><td><a class=\"ProveItLink\" href=\"../../../../../../logic/sets/membership/__pv_it/common/477487d8796864d23d5810f83761435f25167f690/expr.ipynb\"><img src=\"../../../../../../logic/sets/membership/__pv_it/common/477487d8796864d23d5810f83761435f25167f690/expr.png\" style=\"display:inline;vertical-align:middle;\" /></a></td></tr>\n",
       "<tr><td>15</td><td>ExprTuple</td><td>22, 19</td><td><a class=\"ProveItLink\" href=\"../736c49f6c3698a77695776ac857c7809031236850/expr.ipynb\"><img src=\"../736c49f6c3698a77695776ac857c7809031236850/expr.png\" style=\"display:inline;vertical-align:middle;\" /></a></td></tr>\n",
       "<tr><td>16</td><td>Literal</td><td></td><td><a class=\"ProveItLink\" href=\"../../../../../ordering/__pv_it/common/fa503ed52033522c609eef1cf3e1b45796489da50/expr.ipynb\"><img src=\"../../../../../ordering/__pv_it/common/fa503ed52033522c609eef1cf3e1b45796489da50/expr.png\" style=\"display:inline;vertical-align:middle;\" /></a></td></tr>\n",
       "<tr><td>17</td><td>ExprTuple</td><td>22, 20</td><td><a class=\"ProveItLink\" href=\"../5ea6309560fa64152e27f7b9a886636aed7e02190/expr.ipynb\"><img src=\"../5ea6309560fa64152e27f7b9a886636aed7e02190/expr.png\" style=\"display:inline;vertical-align:middle;\" /></a></td></tr>\n",
       "<tr><td>18</td><td>Operation</td><td>operator:&nbsp;21<br>operand:&nbsp;22<br></td><td><a class=\"ProveItLink\" href=\"../7671fea725b7bcaf8182b4bb695191dc0c5161020/expr.ipynb\"><img src=\"../7671fea725b7bcaf8182b4bb695191dc0c5161020/expr.png\" style=\"display:inline;vertical-align:middle;\" /></a></td></tr>\n",
       "<tr><td>19</td><td>Literal</td><td></td><td><a class=\"ProveItLink\" href=\"../../common/e6b4e90f9467053e055a4fd2f735c0bb79cb79300/expr.ipynb\"><img src=\"../../common/e6b4e90f9467053e055a4fd2f735c0bb79cb79300/expr.png\" style=\"display:inline;vertical-align:middle;\" /></a></td></tr>\n",
       "<tr><td>20</td><td>Variable</td><td></td><td><a class=\"ProveItLink\" href=\"../../../../../../__pv_it/common/c06c606ec12678c58933ac85412ecadc2ae28be60/expr.ipynb\"><img src=\"../../../../../../__pv_it/common/c06c606ec12678c58933ac85412ecadc2ae28be60/expr.png\" style=\"display:inline;vertical-align:middle;\" /></a></td></tr>\n",
       "<tr><td>21</td><td>Literal</td><td></td><td><a class=\"ProveItLink\" href=\"../../../../../negation/__pv_it/common/221b3c4d1770ee9051b7c044c3f9ec61196fc34b0/expr.ipynb\"><img src=\"../../../../../negation/__pv_it/common/221b3c4d1770ee9051b7c044c3f9ec61196fc34b0/expr.png\" style=\"display:inline;vertical-align:middle;\" /></a></td></tr>\n",
       "<tr><td>22</td><td>Variable</td><td></td><td><a class=\"ProveItLink\" href=\"../../../../../../__pv_it/common/195236b98c6c564a75b5dbada74b173bc52d5c3e0/expr.ipynb\"><img src=\"../../../../../../__pv_it/common/195236b98c6c564a75b5dbada74b173bc52d5c3e0/expr.png\" style=\"display:inline;vertical-align:middle;\" /></a></td></tr>\n",
       "</table>\n"
      ],
      "text/plain": [
       "0. {(a - b) in NaturalPos if a in Integer ,  b in Integer ,  b < a.\n",
       "   core type: Conditional\n",
       "   value: 1\n",
       "   condition: 2\n",
       "1. (a - b) in NaturalPos\n",
       "   core type: Operation\n",
       "   operator: 14\n",
       "   operands: 3\n",
       "2. (a in Integer) and (b in Integer) and (b < a)\n",
       "   core type: Operation\n",
       "   operator: 4\n",
       "   operands: 5\n",
       "3. (a - b, NaturalPos)\n",
       "   core type: ExprTuple\n",
       "   sub-expressions: 6, 7\n",
       "4. and\n",
       "   core type: Literal\n",
       "   sub-expressions: \n",
       "5. (a in Integer, b in Integer, b < a)\n",
       "   core type: ExprTuple\n",
       "   sub-expressions: 8, 9, 10\n",
       "6. a - b\n",
       "   core type: Operation\n",
       "   operator: 11\n",
       "   operands: 12\n",
       "7. NaturalPos\n",
       "   core type: Literal\n",
       "   sub-expressions: \n",
       "8. a in Integer\n",
       "   core type: Operation\n",
       "   operator: 14\n",
       "   operands: 13\n",
       "9. b in Integer\n",
       "   core type: Operation\n",
       "   operator: 14\n",
       "   operands: 15\n",
       "10. b < a\n",
       "    core type: Operation\n",
       "    operator: 16\n",
       "    operands: 17\n",
       "11. +\n",
       "    core type: Literal\n",
       "    sub-expressions: \n",
       "12. (a, -b)\n",
       "    core type: ExprTuple\n",
       "    sub-expressions: 20, 18\n",
       "13. (a, Integer)\n",
       "    core type: ExprTuple\n",
       "    sub-expressions: 20, 19\n",
       "14. in\n",
       "    core type: Literal\n",
       "    sub-expressions: \n",
       "15. (b, Integer)\n",
       "    core type: ExprTuple\n",
       "    sub-expressions: 22, 19\n",
       "16. <\n",
       "    core type: Literal\n",
       "    sub-expressions: \n",
       "17. (b, a)\n",
       "    core type: ExprTuple\n",
       "    sub-expressions: 22, 20\n",
       "18. -b\n",
       "    core type: Operation\n",
       "    operator: 21\n",
       "    operand: 22\n",
       "19. Integer\n",
       "    core type: Literal\n",
       "    sub-expressions: \n",
       "20. a\n",
       "    core type: Variable\n",
       "    sub-expressions: \n",
       "21. -\n",
       "    core type: Literal\n",
       "    sub-expressions: \n",
       "22. b\n",
       "    core type: Variable\n",
       "    sub-expressions: "
      ]
     },
     "execution_count": 5,
     "metadata": {},
     "output_type": "execute_result"
    }
   ],
   "source": [
    "# display the expression information\n",
    "expr.expr_info()"
   ]
  },
  {
   "cell_type": "code",
   "execution_count": null,
   "metadata": {},
   "outputs": [],
   "source": []
  }
 ],
 "metadata": {
  "kernelspec": {
   "display_name": "Python 3",
   "language": "python",
   "name": "python3"
  }
 },
 "nbformat": 4,
 "nbformat_minor": 0
}