{
 "cells": [
  {
   "cell_type": "markdown",
   "metadata": {},
   "source": [
    "Axioms for the theory of <a class=\"ProveItLink\" href=\"theory.ipynb\">proveit.numbers.number_sets.real_numbers</a>\n",
    "========"
   ]
  },
  {
   "cell_type": "code",
   "execution_count": null,
   "metadata": {},
   "outputs": [],
   "source": [
    "import proveit\n",
    "# Prepare this notebook for defining the axioms of a theory:\n",
    "%axioms_notebook # Keep this at the top following 'import proveit'.\n",
    "from proveit import a, b, x\n",
    "from proveit.logic import And, Equals, Forall, InSet\n",
    "from proveit.numbers import Less, LessEq, LesserSequence\n",
    "from proveit.numbers import (IntervalOO, IntervalCO, IntervalOC,\n",
    "                            IntervalCC, Real)"
   ]
  },
  {
   "cell_type": "code",
   "execution_count": null,
   "metadata": {},
   "outputs": [],
   "source": [
    "%begin axioms"
   ]
  },
  {
   "cell_type": "markdown",
   "metadata": {},
   "source": [
    "**Being in a real interval means being real and being bound appropriately between the lower and upper bounds of the interval, and we define this for each of the 4 possible types of (finite) real intervals:**"
   ]
  },
  {
   "cell_type": "code",
   "execution_count": null,
   "metadata": {},
   "outputs": [],
   "source": [
    "in_IntervalOO_def = Forall((a, b),\n",
    "       Forall(x,\n",
    "              Equals(InSet(x, IntervalOO(a, b)),\n",
    "                     And(InSet(x, Real),\n",
    "                         LesserSequence(\n",
    "                             [Less._operator_, Less._operator_],\n",
    "                             [a, x, b])))),\n",
    "       domain=Real)"
   ]
  },
  {
   "cell_type": "code",
   "execution_count": null,
   "metadata": {},
   "outputs": [],
   "source": [
    "in_IntervalOC_def = \\\n",
    "    Forall((a, b),\n",
    "           Forall(x,\n",
    "                  Equals(InSet(x, IntervalOC(a, b)),\n",
    "                         And(InSet(x, Real),\n",
    "                             LesserSequence(\n",
    "                                 [Less._operator_, LessEq._operator_],\n",
    "                                 [a, x, b])))),\n",
    "           domain=Real)"
   ]
  },
  {
   "cell_type": "code",
   "execution_count": null,
   "metadata": {},
   "outputs": [],
   "source": [
    "in_IntervalCO_def = \\\n",
    "    Forall((a, b),\n",
    "           Forall(x,\n",
    "                  Equals(InSet(x, IntervalCO(a, b)),\n",
    "                         And(InSet(x, Real),\n",
    "                             LesserSequence(\n",
    "                                 [LessEq._operator_, Less._operator_],\n",
    "                                 [a, x, b])))),\n",
    "           domain=Real)"
   ]
  },
  {
   "cell_type": "code",
   "execution_count": null,
   "metadata": {},
   "outputs": [],
   "source": [
    "in_IntervalCC_def = \\\n",
    "    Forall((a, b),\n",
    "           Forall(x,\n",
    "                  Equals(InSet(x, IntervalCC(a, b)),\n",
    "                         And(InSet(x, Real),\n",
    "                             LesserSequence(\n",
    "                                 [LessEq._operator_, LessEq._operator_],\n",
    "                                 [a, x, b])))),\n",
    "           domain=Real)"
   ]
  },
  {
   "cell_type": "code",
   "execution_count": null,
   "metadata": {},
   "outputs": [],
   "source": [
    "%end axioms"
   ]
  }
 ],
 "metadata": {
  "kernelspec": {
   "display_name": "Python 3",
   "language": "python",
   "name": "python3"
  }
 },
 "nbformat": 4,
 "nbformat_minor": 0
}
