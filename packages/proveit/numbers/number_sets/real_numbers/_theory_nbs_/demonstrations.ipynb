{
 "cells": [
  {
   "cell_type": "markdown",
   "metadata": {},
   "source": [
    "Demonstrations for the theory of <a class=\"ProveItLink\" href=\"theory.ipynb\">proveit.numbers.number_sets.real_numbers</a>\n",
    "========"
   ]
  },
  {
   "cell_type": "code",
   "execution_count": 1,
   "metadata": {},
   "outputs": [],
   "source": [
    "import proveit\n",
    "from proveit import ProofFailure\n",
    "from proveit import a, b, c, n, x, y\n",
    "from proveit.logic import InSet\n",
    "from proveit.numbers import Neg\n",
    "from proveit.numbers import (IntervalCC, IntervalCO, IntervalOC, IntervalOO,\n",
    "                            Real, RealPos, RealNeg, RealNonNeg)\n",
    "from proveit.numbers import zero, one, two, three, four\n",
    "%begin demonstrations"
   ]
  },
  {
   "cell_type": "markdown",
   "metadata": {},
   "source": [
    "# Real Numbers and Real Intervals<br>$\\mathbf{R}$, $\\mathbf{R}^+$, $\\mathbf{R}^-$, $\\mathbf{R}^{\\ge 0}$, $[a, b]$, $[a, b)$, $(a, b]$, $(a, b)$"
   ]
  },
  {
   "cell_type": "markdown",
   "metadata": {},
   "source": [
    "<div style=\"line-height:1.4; font-size:14pt\">\n",
    "\n",
    "<a href='#introduction'>Introduction</a><br>\n",
    "<a href='#simple_expressions'>Simple Expressions involving the Real number sets and real number intervals $\\mathbf{R}$, $[a, b]$, etc</a><br>\n",
    "<a href='#common_attributes'>Common Attributes of the Real number NumberSets and real number intervals</a><br>\n",
    "<a href='#axioms'>Axioms</a><br>\n",
    "<a href='#theorems'>Theorems</a><br>\n",
    "<a href='#further_demonstrations'>Further Demonstrations</a><br>\n",
    "    <ol>\n",
    "        <li><a href='#demo01'>$2\\in(1, 3]$ and $2\\in[1, 3]$</a></li>\n",
    "        <li><a href='#demo02'>Proving $[1,2]\\subseteq \\mathbb{R}^{+}$</a></li>\n",
    "        <li><a href='#demo03'>Proving $[1,4]\\subset \\mathbb{R}^{+}$</a></li>\n",
    "    </ol>\n",
    "<a href='#misc_testing'>Misc Testing (temporary)</a><br>\n",
    "</div>\n"
   ]
  },
  {
   "cell_type": "markdown",
   "metadata": {},
   "source": [
    "## Introduction <a id='introduction'></a>"
   ]
  },
  {
   "cell_type": "markdown",
   "metadata": {},
   "source": [
    "<font size=3><br>The real numbers (or more simply, the “reals”), symbolized by $\\mathbb{R}$, consist of the set of all rational numbers, $\\mathbb{Q}$, such as $-10$ or $\\frac{4}{3}$, and the set of all irrational numbers, such as $\\pi$ and $\\sqrt{2}$.<br>\n",
    "The reals, various common subsets of the reals, and various open, closed, and half-open real intervals are ubiquitous in proofs and are easily represented and accessed in Prove-It.</font>"
   ]
  },
  {
   "cell_type": "markdown",
   "metadata": {},
   "source": [
    "## Simple Expressions Involving Real NumberSets and Real Intervals<a id='simple_expressions'></a>"
   ]
  },
  {
   "cell_type": "markdown",
   "metadata": {},
   "source": [
    "<font size=3>The real numbers $\\mathbb{R}$ and some standard real-valued subsets of the reals have standard names in Prove-It and can be imported and called upon as desired.</font>"
   ]
  },
  {
   "cell_type": "code",
   "execution_count": 2,
   "metadata": {},
   "outputs": [
    {
     "data": {
      "text/html": [
       "<a class=\"ProveItLink\" href=\"../__pv_it/common/93cac87a1a47e613f7a83b23ef7891599a1a4cca0/expr.ipynb\"><img src=\"data:image/png;base64,iVBORw0KGgoAAAANSUhEUgAAAA8AAAAOBAMAAAACpFvcAAAAMFBMVEX///+IiIiqqqq6urpmZmZ2\n",
       "dnbc3NzMzMxUVFTu7u4yMjJEREQQEBAiIiKYmJgAAACIyPRpAAAAAXRSTlMAQObYZgAAAFlJREFU\n",
       "CNdjeHt6/6rTDxiAYMEMhurXE4CMDakM3GwNEAZLwgIYYwOEwcEMldL1AivOuXtLgQEsYsI9AcJg\n",
       "Md8AYTDsfAhlVLAUQKxgVWhnYABaupxh93oFAP7MI7KHKGXxAAAAAElFTkSuQmCC\n",
       "\" style=\"display:inline;vertical-align:middle;\" /></a>"
      ],
      "text/plain": [
       "Real"
      ]
     },
     "execution_count": 2,
     "metadata": {},
     "output_type": "execute_result"
    }
   ],
   "source": [
    "# The real numbers\n",
    "Real"
   ]
  },
  {
   "cell_type": "code",
   "execution_count": 3,
   "metadata": {},
   "outputs": [
    {
     "data": {
      "text/html": [
       "<a class=\"ProveItLink\" href=\"../__pv_it/common/bce03b8bb2f8dc632941ebceb41ff458ace6f34c0/expr.ipynb\"><img src=\"data:image/png;base64,iVBORw0KGgoAAAANSUhEUgAAABsAAAATBAMAAACTqWsLAAAAMFBMVEX///+IiIiqqqq6urpmZmZ2\n",
       "dnbc3NzMzMxUVFTu7u4yMjJEREQQEBAiIiKYmJgAAACIyPRpAAAAAXRSTlMAQObYZgAAAHNJREFU\n",
       "GNNjYMAFOFC53IS5b0/vX3X6AUJ2wQyG6tcTGLpWrVm1Cii8IZWBm60BLgvksiQsQOVuQOZyMKMo\n",
       "1vWagODm3L2lAGKwQWVNuCcgHLMhlcV8AzKXYedDFG4FSwGcC3Qkq0I7jAf0wnKG3esVIDwAl3Yo\n",
       "N6tRnxsAAAAASUVORK5CYII=\n",
       "\" style=\"display:inline;vertical-align:middle;\" /></a>"
      ],
      "text/plain": [
       "RealPos"
      ]
     },
     "execution_count": 3,
     "metadata": {},
     "output_type": "execute_result"
    }
   ],
   "source": [
    "# The positive real numbers\n",
    "RealPos"
   ]
  },
  {
   "cell_type": "code",
   "execution_count": 4,
   "metadata": {},
   "outputs": [
    {
     "data": {
      "text/html": [
       "<a class=\"ProveItLink\" href=\"../__pv_it/common/25f9f3c17fa110a939147a9d49561d0d559c20ba0/expr.ipynb\"><img src=\"data:image/png;base64,iVBORw0KGgoAAAANSUhEUgAAABsAAAAOBAMAAAAs4XpOAAAAMFBMVEX///+IiIiqqqq6urpmZmZ2\n",
       "dnbc3NzMzMxUVFTu7u4yMjJEREQQEBAiIiKYmJgAAACIyPRpAAAAAXRSTlMAQObYZgAAAGRJREFU\n",
       "CNdjeHt6/6rTDxjgYMEMhurXExisdwPBBAaGDakM3GwNcFkglyVhASp3AzKXgxlFsa7XBAQ35+4t\n",
       "BQYkWRPuCchcFvMNyFyGnQ9RuBUsBciOZFVoh/GAXljOsHs91GwABkgnaQ/nc4UAAAAASUVORK5C\n",
       "YII=\n",
       "\" style=\"display:inline;vertical-align:middle;\" /></a>"
      ],
      "text/plain": [
       "RealNeg"
      ]
     },
     "execution_count": 4,
     "metadata": {},
     "output_type": "execute_result"
    }
   ],
   "source": [
    "# The negative real numbers\n",
    "RealNeg"
   ]
  },
  {
   "cell_type": "code",
   "execution_count": 5,
   "metadata": {},
   "outputs": [
    {
     "data": {
      "text/html": [
       "<a class=\"ProveItLink\" href=\"../__pv_it/common/2dcda83bae696506ea8f9a83379941875866aa8b0/expr.ipynb\"><img src=\"data:image/png;base64,iVBORw0KGgoAAAANSUhEUgAAACQAAAAUBAMAAAAXVIIGAAAAMFBMVEX///+IiIiqqqq6urpmZmZ2\n",
       "dnbc3NzMzMxUVFTu7u4yMjJEREQQEBAiIiKYmJgAAACIyPRpAAAAAXRSTlMAQObYZgAAAMRJREFU\n",
       "GNNjYEAFoqIItkUCiOQLYGqAC7F5FABJXgOGnwhlbN5AsfkFDIeQjOGMNmCoT2C4h2w0Z9SE+gkM\n",
       "Fxnent6/6vQDsBDjOpCqgwwMC2YwVL+eABSZuAls1mcGhg2pDNxsQJunbobbCBRiSVjAMGUzWK8D\n",
       "yF1goQ0M5VDXhzCAhTiYG1B8BRTS9ZqAKpRz95YCA4P2biCYAFNlwo2qCCjEYr4BXYhh50MMoQqW\n",
       "AhQhoIdYFdqRRYDeXs6we70CQgQAOJo9oRG1cZ4AAAAASUVORK5CYII=\n",
       "\" style=\"display:inline;vertical-align:middle;\" /></a>"
      ],
      "text/plain": [
       "RealNonNeg"
      ]
     },
     "execution_count": 5,
     "metadata": {},
     "output_type": "execute_result"
    }
   ],
   "source": [
    "# The non-negative real numbers [0, Inf]\n",
    "RealNonNeg"
   ]
  },
  {
   "cell_type": "code",
   "execution_count": 6,
   "metadata": {},
   "outputs": [
    {
     "data": {
      "text/html": [
       "<a class=\"ProveItLink\" href=\"../__pv_it/demonstrations/1b3b4f94506a9cd59e966e69c08ca0b10674b06d0/expr.ipynb\"><img src=\"data:image/png;base64,iVBORw0KGgoAAAANSUhEUgAAAEoAAAAVBAMAAAATJmVgAAAAMFBMVEX///8QEBBmZmaqqqrMzMxE\n",
       "REQyMjIiIiKYmJh2dna6urrc3NxUVFSIiIju7u4AAAA6P00QAAAAAXRSTlMAQObYZgAAAStJREFU\n",
       "KM9jYCAIbt7EK71mA4jkmMB8AJ8qbh0HIMm+gOEfXsO4VYHK3jswCON3Et/UBQz+GxgqCLicb9oD\n",
       "/wcMtdik2kXj00QbwEzeDJBZslhNSHjD4Nr6AMh4Gwx21y+sqgJ2MrByA73/MgqLHznCy8tgqpg2\n",
       "JDA8igJbqoASXiyxDxBmMW0IYHCBhv0kkN13dt28AOI9e4BkIw8XSoDzTeCoZU8AsU4ju8tc7QGy\n",
       "Ks4HnP+4wBEWgFC1sbzMgIHBNBQIIIr5GFgh0ixiaUAANWsR6wM0f/NfgEQaklk7mZYEoKnyd4DQ\n",
       "AsjuiutFUcP84D4DL9h4XWRVPkwOyKrWG8Qz7ACz2A2QYojT4Aiyqjd332pAYpbv6Dp4bKcwhOYb\n",
       "YE8mXFOhMYQBALcpV1wIq+GRAAAAAElFTkSuQmCC\n",
       "\" style=\"display:inline;vertical-align:middle;\" /></a>"
      ],
      "text/plain": [
       "x in RealNonNeg"
      ]
     },
     "execution_count": 6,
     "metadata": {},
     "output_type": "execute_result"
    }
   ],
   "source": [
    "# An example claim that x is a non-negative real number\n",
    "InSet(x, RealNonNeg)"
   ]
  },
  {
   "cell_type": "markdown",
   "metadata": {},
   "source": [
    "<font size=3>Open, closed, and half-open real intervals are also easy to express and easy to utilize in larger expressions, with the following constructions:\n",
    "<table>\n",
    "    <thead><td>real interval</td><td>Prove-It construction</td></thead>\n",
    "    <tr><td style=\"font-family:courier;text-align:center\">(a, b)</td>\n",
    "        <td style=\"font-family:courier;text-align:left\">IntervalOO(a, b)</td></tr>\n",
    "    <tr><td style=\"font-family:courier;text-align:center\">(a, b]</td>\n",
    "        <td style=\"font-family:courier;text-align:left\">IntervalOC(a, b)</td></tr>\n",
    "    <tr><td style=\"font-family:courier;text-align:center\">[a, b)</td>\n",
    "        <td style=\"font-family:courier;text-align:left\">IntervalCO(a, b)</td></tr>\n",
    "    <tr><td style=\"font-family:courier;text-align:center\">[a, b]</td>\n",
    "        <td style=\"font-family:courier;text-align:left\">IntervalCC(a, b)</td></tr>\n",
    "</table>\n",
    "</font>\n",
    "For example:"
   ]
  },
  {
   "cell_type": "code",
   "execution_count": 7,
   "metadata": {},
   "outputs": [
    {
     "data": {
      "text/html": [
       "<a class=\"ProveItLink\" href=\"../__pv_it/demonstrations/ff07a67bfc4a01fc48b72afaee9e0ff8e2daedb60/expr.ipynb\"><img src=\"data:image/png;base64,iVBORw0KGgoAAAANSUhEUgAAAFEAAAAUBAMAAAAHNMzaAAAAMFBMVEX///8QEBBmZmaqqqrMzMxE\n",
       "REQyMjIiIiKYmJh2dna6urrc3NxUVFSIiIju7u4AAAA6P00QAAAAAXRSTlMAQObYZgAAAW5JREFU\n",
       "KM9jYMAGuBvQBKwZcICnSGy+wAIGBp4NOFRmI3PYFIDKE7Ar5FBA5vEbAIm5qArCy8vADHYUu9Y/\n",
       "ABIPkUVYYh9AWdtRDJgOdsICBoa3d3bdvADiPIMpZLgE8r6mrhyEl3NXmYGBU4GBbwJHLTvYvafh\n",
       "pkQA8cINbB8gfv/24P0GBo4EBs4HnP+4wO4KgKssBspLMDBBBJj/MfBfYGAuYOBjYIWIsIilAQGY\n",
       "KcXAwPSPgR3sJgamBIb3ExhYQBbwQ0S4EWYCVTIGMLx3gAXnegOISn+ICIMAsu1AY+yhwdnAoP+A\n",
       "gauAgfnBfQZesK91kX303oDhGDPY+fwLgG4G+Wi9QTzDDkh4G8BUTmJgYL3AUcPJ8B4YKDwNrMAo\n",
       "Y5rA8ObuWw1IyuE7ug6qcjmQc/bKnlsM7HVAlu4MkGsdkCODaypGbNrBGM8JpZAJMMZcHKkuGpY2\n",
       "L8AYCQRSMgdMgBVXSsbIHd0MDAAFvlaiO9oIEQAAAABJRU5ErkJggg==\n",
       "\" style=\"display:inline;vertical-align:middle;\" /></a>"
      ],
      "text/plain": [
       "x in (a,b)"
      ]
     },
     "execution_count": 7,
     "metadata": {},
     "output_type": "execute_result"
    }
   ],
   "source": [
    "# Claim that x is a real number in the open interval (a, b)\n",
    "# Notice the IntervalOO uses two 'ohs', not zeros, standing\n",
    "# for 'open' at each end\n",
    "InSet(x, IntervalOO(a, b))"
   ]
  },
  {
   "cell_type": "code",
   "execution_count": 8,
   "metadata": {},
   "outputs": [
    {
     "data": {
      "text/html": [
       "<a class=\"ProveItLink\" href=\"../__pv_it/demonstrations/f9a01fe34ade6f3f2aa3c49e117f93dd11f083350/expr.ipynb\"><img src=\"data:image/png;base64,iVBORw0KGgoAAAANSUhEUgAAAE4AAAAUBAMAAADRkRa/AAAAMFBMVEX///8iIiKYmJhUVFTMzMxE\n",
       "REQyMjKqqqq6urp2dnYQEBDc3NxmZmaIiIju7u4AAACH5sGpAAAAAXRSTlMAQObYZgAAAVpJREFU\n",
       "KM9jYMACuBXQBNQksCljeIrCWQgkZmBVl43Cy8GljukACvc7ujpVQcEEEM24AVmU4x+aOtd7UMZG\n",
       "FOM4BcDq+O5cYNj1AMjky4PJ3AF5+eTZdRAem+2dAqA6To4FDPdBfGa4bUFA3LWB7QOE9z6P7zdQ\n",
       "3XaeBIZQEJ8VbpM40PBFDDwBEF79A4a/QHUPuC4AaSDwSgMCsD9WMDDw/GNgvABRd4yB7yfIH/0P\n",
       "WL6A+Fvh5gHVcQUwvHeABR/Hd5C6Ywy8C0B8LmR7309gqIfyPoEMB6oLZmA1APF5LiD5430Bgxk7\n",
       "xGM/GF4pgNQdZuhXgBkDAXOAnrrAJMzJ8B7kXCOGGHA4P757HqLxccQDiLpGoH9tr2y+wcAoB+S9\n",
       "uakAjY9jUHM6A9HjrQ7GmMHAnMD3A2c6mIBQx6jAegE9wURDab4LCHUcd4/gTKdMDAh1RKX7axIA\n",
       "ENtf9bAZtK8AAAAASUVORK5CYII=\n",
       "\" style=\"display:inline;vertical-align:middle;\" /></a>"
      ],
      "text/plain": [
       "y in (a,b]"
      ]
     },
     "execution_count": 8,
     "metadata": {},
     "output_type": "execute_result"
    }
   ],
   "source": [
    "# Claim that y is a real number in the half-open interval (a, b]\n",
    "# Notice the IntervalOC uses an 'ohs', not a zero, standing for\n",
    "# 'open' on the left side\n",
    "InSet(y, IntervalOC(a, b))"
   ]
  },
  {
   "cell_type": "code",
   "execution_count": 9,
   "metadata": {},
   "outputs": [
    {
     "data": {
      "text/html": [
       "<strong id=\"interval_C1bO\">interval_C1bO:</strong> <a class=\"ProveItLink\" href=\"../__pv_it/demonstrations/a7afd84cbd3ccc96a9e02cee3925e654f0ea264c0/expr.ipynb\"><img src=\"data:image/png;base64,iVBORw0KGgoAAAANSUhEUgAAACYAAAAUBAMAAAAToVI7AAAAMFBMVEX////c3NxERERmZmaYmJhU\n",
       "VFTu7u4QEBCqqqoiIiK6urp2dnbMzMwyMjKIiIgAAAB1lk67AAAAAXRSTlMAQObYZgAAALxJREFU\n",
       "GNNjeHuHAQVwCDAw7ELiJ1UCiUCwGEcZTPAyEOeCxFK3foOJ/QBi7gcgdSwwMS4Qg60ARYx7Aoi8\n",
       "hSLGG/e4gYFhM4pY/jW2jwwMvihi/QkM/xgYOlHEbBnYfjMwnEcRu8zA9QNd7AsDM5C5EkXsF0O6\n",
       "A9QOPqBY/gWgWAiDMpC0Booxh/81YeCcBuQlvwYqY7gDD5c2mJ/ZJsDFNsDEIGEAln0AE8uFhykL\n",
       "PGAVGRheooU9iwADADu8P87VcpbQAAAAAElFTkSuQmCC\n",
       "\" style=\"display:inline;vertical-align:middle;\" /></a><br>\n",
       "<strong id=\"interval_C23C\">interval_C23C:</strong> <a class=\"ProveItLink\" href=\"../__pv_it/demonstrations/d13a9edfc6dafe0de05ba205e2e0d094432e324c0/expr.ipynb\"><img src=\"data:image/png;base64,iVBORw0KGgoAAAANSUhEUgAAACUAAAAUBAMAAAD4luk4AAAAMFBMVEX///+YmJiqqqrc3NwQEBBU\n",
       "VFRERERmZmbu7u4iIiK6urp2dnbMzMwyMjKIiIgAAACJFrqlAAAAAXRSTlMAQObYZgAAAMpJREFU\n",
       "GNNjeHuHAQUw3lzAsIuBob0sB8Jn3r1NgYEbJMYRwLB/AVjMnIHpI0SMvYGBxQEs9l6B4SdEjGUC\n",
       "A+tnsNiSBQx/IWK8PxhY/0BtgOkFAs4fULHODXCx9RsgQtbTG+BiU2Gu4/OCibEXwJ3s0gAVew4V\n",
       "MGZgyFeAiDEVgHhA8L8BLnaageExWMyNgWE+RC/z7N2lEzj+AsUE4e7j/f///wSGmQ0MDFzlZQvg\n",
       "bgH5oAHKQBLjZsAU68MiJoAk9hIt7PluLgAAh0ZJf48cPkMAAAAASUVORK5CYII=\n",
       "\" style=\"display:inline;vertical-align:middle;\" /></a><br>"
      ],
      "text/plain": [
       "interval_C1bO: [1,b)\n",
       "interval_C23C: [2,3]"
      ]
     },
     "execution_count": 9,
     "metadata": {},
     "output_type": "execute_result"
    }
   ],
   "source": [
    "# Or simply define some intervals of interest\n",
    "interval_C1bO, interval_C23C = (\n",
    "    IntervalCO(one, b), IntervalCC(two, three))"
   ]
  },
  {
   "cell_type": "markdown",
   "metadata": {},
   "source": [
    "## Common Attributes of NumberSet and Interval expressions <a id='common_attributes'></a>"
   ]
  },
  {
   "cell_type": "markdown",
   "metadata": {},
   "source": [
    "<font size=3>Let's look at some simple examples of real NumberSets and real Intervals, along with some of their attributesibutes.</font>"
   ]
  },
  {
   "cell_type": "code",
   "execution_count": 10,
   "metadata": {},
   "outputs": [
    {
     "data": {
      "text/html": [
       "<strong id=\"example_set\">example_set:</strong> <a class=\"ProveItLink\" href=\"../__pv_it/common/bce03b8bb2f8dc632941ebceb41ff458ace6f34c0/expr.ipynb\"><img src=\"data:image/png;base64,iVBORw0KGgoAAAANSUhEUgAAABsAAAATBAMAAACTqWsLAAAAMFBMVEX///+IiIiqqqq6urpmZmZ2\n",
       "dnbc3NzMzMxUVFTu7u4yMjJEREQQEBAiIiKYmJgAAACIyPRpAAAAAXRSTlMAQObYZgAAAHNJREFU\n",
       "GNNjYMAFOFC53IS5b0/vX3X6AUJ2wQyG6tcTGLpWrVm1Cii8IZWBm60BLgvksiQsQOVuQOZyMKMo\n",
       "1vWagODm3L2lAGKwQWVNuCcgHLMhlcV8AzKXYedDFG4FSwGcC3Qkq0I7jAf0wnKG3esVIDwAl3Yo\n",
       "N6tRnxsAAAAASUVORK5CYII=\n",
       "\" style=\"display:inline;vertical-align:middle;\" /></a><br>\n",
       "<strong id=\"interval_C1bO\">interval_C1bO:</strong> <a class=\"ProveItLink\" href=\"../__pv_it/demonstrations/a7afd84cbd3ccc96a9e02cee3925e654f0ea264c0/expr.ipynb\"><img src=\"data:image/png;base64,iVBORw0KGgoAAAANSUhEUgAAACYAAAAUBAMAAAAToVI7AAAAMFBMVEX////c3NxERERmZmaYmJhU\n",
       "VFTu7u4QEBCqqqoiIiK6urp2dnbMzMwyMjKIiIgAAAB1lk67AAAAAXRSTlMAQObYZgAAALxJREFU\n",
       "GNNjeHuHAQVwCDAw7ELiJ1UCiUCwGEcZTPAyEOeCxFK3foOJ/QBi7gcgdSwwMS4Qg60ARYx7Aoi8\n",
       "hSLGG/e4gYFhM4pY/jW2jwwMvihi/QkM/xgYOlHEbBnYfjMwnEcRu8zA9QNd7AsDM5C5EkXsF0O6\n",
       "A9QOPqBY/gWgWAiDMpC0Booxh/81YeCcBuQlvwYqY7gDD5c2mJ/ZJsDFNsDEIGEAln0AE8uFhykL\n",
       "PGAVGRheooU9iwADADu8P87VcpbQAAAAAElFTkSuQmCC\n",
       "\" style=\"display:inline;vertical-align:middle;\" /></a><br>"
      ],
      "text/plain": [
       "example_set: RealPos\n",
       "interval_C1bO: [1,b)"
      ]
     },
     "execution_count": 10,
     "metadata": {},
     "output_type": "execute_result"
    }
   ],
   "source": [
    "example_set, interval_C1bO = RealPos, IntervalCO(one, b)"
   ]
  },
  {
   "cell_type": "code",
   "execution_count": 11,
   "metadata": {},
   "outputs": [
    {
     "data": {
      "text/html": [
       "<table><tr><th>&nbsp;</th><th>core type</th><th>sub-expressions</th><th>expression</th></tr>\n",
       "<tr><td>0</td><td>Literal</td><td></td><td><a class=\"ProveItLink\" href=\"../__pv_it/common/bce03b8bb2f8dc632941ebceb41ff458ace6f34c0/expr.ipynb\"><img src=\"data:image/png;base64,iVBORw0KGgoAAAANSUhEUgAAABsAAAATBAMAAACTqWsLAAAAMFBMVEX///+IiIiqqqq6urpmZmZ2\n",
       "dnbc3NzMzMxUVFTu7u4yMjJEREQQEBAiIiKYmJgAAACIyPRpAAAAAXRSTlMAQObYZgAAAHNJREFU\n",
       "GNNjYMAFOFC53IS5b0/vX3X6AUJ2wQyG6tcTGLpWrVm1Cii8IZWBm60BLgvksiQsQOVuQOZyMKMo\n",
       "1vWagODm3L2lAGKwQWVNuCcgHLMhlcV8AzKXYedDFG4FSwGcC3Qkq0I7jAf0wnKG3esVIDwAl3Yo\n",
       "N6tRnxsAAAAASUVORK5CYII=\n",
       "\" style=\"display:inline;vertical-align:middle;\" /></a></td></tr>\n",
       "</table>\n"
      ],
      "text/plain": [
       "0. RealPos\n",
       "   core type: Literal\n",
       "   sub-expressions: "
      ]
     },
     "execution_count": 11,
     "metadata": {},
     "output_type": "execute_result"
    }
   ],
   "source": [
    "# The expression for our set of real positive numbers is simply a Literal\n",
    "example_set.expr_info()"
   ]
  },
  {
   "cell_type": "code",
   "execution_count": 12,
   "metadata": {},
   "outputs": [
    {
     "data": {
      "text/html": [
       "<table><tr><th>&nbsp;</th><th>core type</th><th>sub-expressions</th><th>expression</th></tr>\n",
       "<tr><td>0</td><td>Operation</td><td>operator:&nbsp;1<br>operands:&nbsp;2<br></td><td><a class=\"ProveItLink\" href=\"../__pv_it/demonstrations/a7afd84cbd3ccc96a9e02cee3925e654f0ea264c0/expr.ipynb\"><img src=\"data:image/png;base64,iVBORw0KGgoAAAANSUhEUgAAACYAAAAUBAMAAAAToVI7AAAAMFBMVEX////c3NxERERmZmaYmJhU\n",
       "VFTu7u4QEBCqqqoiIiK6urp2dnbMzMwyMjKIiIgAAAB1lk67AAAAAXRSTlMAQObYZgAAALxJREFU\n",
       "GNNjeHuHAQVwCDAw7ELiJ1UCiUCwGEcZTPAyEOeCxFK3foOJ/QBi7gcgdSwwMS4Qg60ARYx7Aoi8\n",
       "hSLGG/e4gYFhM4pY/jW2jwwMvihi/QkM/xgYOlHEbBnYfjMwnEcRu8zA9QNd7AsDM5C5EkXsF0O6\n",
       "A9QOPqBY/gWgWAiDMpC0Booxh/81YeCcBuQlvwYqY7gDD5c2mJ/ZJsDFNsDEIGEAln0AE8uFhykL\n",
       "PGAVGRheooU9iwADADu8P87VcpbQAAAAAElFTkSuQmCC\n",
       "\" style=\"display:inline;vertical-align:middle;\" /></a></td></tr>\n",
       "<tr><td>1</td><td>Literal</td><td></td><td><a class=\"ProveItLink\" href=\"../__pv_it/common/da5a5fc1f3f3ada8da2b36f3e6963bacf1c8e9fc0/expr.ipynb\"><img src=\"data:image/png;base64,iVBORw0KGgoAAAANSUhEUgAAAG8AAAAOBAMAAADTQ1+sAAAAMFBMVEX///8QEBCYmJiqqqru7u4i\n",
       "IiLMzMxERER2dna6urrc3NxmZmYyMjJUVFSIiIgAAAALIunGAAAAAXRSTlMAQObYZgAAAfpJREFU\n",
       "KM99kktoE2EQx39NvjTZxGSDgoqCLlXPehLRQ7cnH7FYxIMHHwveFNFbLyqLKAgGG9GCtyx48CAa\n",
       "9NKCj0TEk4cEL4JFuz2Ih9BQLaQP1Dqz0b3FhZ2ZHWbmN9/3X2B+7X3A/5+vXTHm28yHrC++fet5\n",
       "L/0zLkj1mZBYEDPnkHzmQNkj39CstRwXDPch5i7DwRMS1AOOSsxWzWZW4oKXfRoHQnjjSnAX3mli\n",
       "Vs26hbjgZJ/GmkduUYMLfzETnhhb2A8+PW2H1tTSa8yddmDNH+6Eph1yHB7fnnPZLb1j2nCEWnS8\n",
       "ekVMVfbwx0OzSlLYk0HWz6TfposZq8hprC004aMwwh58wlHbDHrYwT2nyHbJNTAbKHnnUi3Le5gb\n",
       "Yx8jDlOwDc56vcbIm+9RtwRmRa885ZNf39mJe0w2ceVG7lF3OcPgKmzXu8FlTX0hEmJJXllStJF6\n",
       "uxXLUnUJ2YTpUigKSVNJr+dHiirjbxWqge24VYztx7LclKObZZ2ZbrmqoCgnQihxVvfN6O804DPs\n",
       "+mX2yrbC2ayNnwVgFmWT/bbjU9PLuQGXnH/Kp1TGWoVywntlwkKDUpDVWZQ5BNfY1fLt+yHJH3BA\n",
       "aIWNmCtKH23+EsgkPNnBoyFoDzlYkWb56zJ8tHP+SyUxLZ+lqzMqHhenX6j/A6sgmZUzc8fAAAAA\n",
       "AElFTkSuQmCC\n",
       "\" style=\"display:inline;vertical-align:middle;\" /></a></td></tr>\n",
       "<tr><td>2</td><td>ExprTuple</td><td>3, 4</td><td><a class=\"ProveItLink\" href=\"../__pv_it/demonstrations/c10b20ee0880b90cb714a3850a942bf55988db620/expr.ipynb\"><img src=\"data:image/png;base64,iVBORw0KGgoAAAANSUhEUgAAACkAAAAUBAMAAADiqgm2AAAAMFBMVEX////MzMxUVFR2dna6uroQ\n",
       "EBCqqqqIiIgiIiJmZmYyMjJERETu7u6YmJjc3NwAAACgK8IjAAAAAXRSTlMAQObYZgAAAOVJREFU\n",
       "GNNjYOC7wIAK8kDEaSQBnq0NDAxMD4CsdUCcegAqzDUBKLWAgYF3AgOPsj5MlD8BSJgzMHCA1N+H\n",
       "ifqDGEcZGF4wIItagI1xYKhEEV1UPo2BgXkCw15kUZ5fB84/YOBdwNCGLMr2h4G/gIGtgSEEWZRz\n",
       "AcN5AwbGD6iiQOf6J4BEUUzgv8Aw/wADSwOqbfwOPLEMINssQbz6A0DrgTTTBW6glzkNGDyAnEnx\n",
       "Ky8wdADV80y3BZkuAPEx2FUwnzCcAIcOBDDDwxMYOgz7oOzj8EBegBTq8CjhBpmJEUP3GBgA5UlE\n",
       "VtuYBi4AAAAASUVORK5CYII=\n",
       "\" style=\"display:inline;vertical-align:middle;\" /></a></td></tr>\n",
       "<tr><td>3</td><td>Literal</td><td></td><td><a class=\"ProveItLink\" href=\"../../../numerals/__pv_it/common/2778428c7f555b2bdc06aa0530bc142c6e6335100/expr.ipynb\"><img src=\"data:image/png;base64,iVBORw0KGgoAAAANSUhEUgAAAAgAAAAPBAMAAAArJJMAAAAAIVBMVEX///8yMjJmZmaIiIiYmJh2\n",
       "dnZUVFTu7u4QEBCqqqoAAAADAhFxAAAAAXRSTlMAQObYZgAAACBJREFUCNdjYAADznYGhrKw5UAW\n",
       "CykEM5BgylioAjYDAHBOCeDSSky9AAAAAElFTkSuQmCC\n",
       "\" style=\"display:inline;vertical-align:middle;\" /></a></td></tr>\n",
       "<tr><td>4</td><td>Variable</td><td></td><td><a class=\"ProveItLink\" href=\"../../../../__pv_it/common/195236b98c6c564a75b5dbada74b173bc52d5c3e0/expr.ipynb\"><img src=\"data:image/png;base64,iVBORw0KGgoAAAANSUhEUgAAAAkAAAAOBAMAAAAPuiubAAAALVBMVEX///+YmJjc3NyIiIhUVFR2\n",
       "dna6urqqqqpmZmYyMjIiIiIQEBBERETu7u4AAAALjtrwAAAAAXRSTlMAQObYZgAAAE9JREFUCNdj\n",
       "4D29gAEIOBtAJF8BiMy7ACKjQATDFON2BgbelxfuKTCwv2XgM2DgmMBwLwCkPK+AgU+Aoe8CA18C\n",
       "70YGBhYBHqARvM2BDAwAqXgQspq5HJAAAAAASUVORK5CYII=\n",
       "\" style=\"display:inline;vertical-align:middle;\" /></a></td></tr>\n",
       "</table>\n"
      ],
      "text/plain": [
       "0. [1,b)\n",
       "   core type: Operation\n",
       "   operator: 1\n",
       "   operands: 2\n",
       "1. IntervalCO\n",
       "   core type: Literal\n",
       "   sub-expressions: \n",
       "2. (1, b)\n",
       "   core type: ExprTuple\n",
       "   sub-expressions: 3, 4\n",
       "3. 1\n",
       "   core type: Literal\n",
       "   sub-expressions: \n",
       "4. b\n",
       "   core type: Variable\n",
       "   sub-expressions: "
      ]
     },
     "execution_count": 12,
     "metadata": {},
     "output_type": "execute_result"
    }
   ],
   "source": [
    "# The interval expression has more structure and each\n",
    "# of the boundaries can be either a Literal or a Variable\n",
    "interval_C1bO.expr_info()"
   ]
  },
  {
   "cell_type": "markdown",
   "metadata": {},
   "source": [
    "<font size=4>We can access the left-hand and right-hand bounds of the interval combined as a simple tuple, or access each bound separately:</font>"
   ]
  },
  {
   "cell_type": "code",
   "execution_count": 13,
   "metadata": {},
   "outputs": [
    {
     "data": {
      "text/html": [
       "<a class=\"ProveItLink\" href=\"../__pv_it/demonstrations/c10b20ee0880b90cb714a3850a942bf55988db620/expr.ipynb\"><img src=\"data:image/png;base64,iVBORw0KGgoAAAANSUhEUgAAACkAAAAUBAMAAADiqgm2AAAAMFBMVEX////MzMxUVFR2dna6uroQ\n",
       "EBCqqqqIiIgiIiJmZmYyMjJERETu7u6YmJjc3NwAAACgK8IjAAAAAXRSTlMAQObYZgAAAOVJREFU\n",
       "GNNjYOC7wIAK8kDEaSQBnq0NDAxMD4CsdUCcegAqzDUBKLWAgYF3AgOPsj5MlD8BSJgzMHCA1N+H\n",
       "ifqDGEcZGF4wIItagI1xYKhEEV1UPo2BgXkCw15kUZ5fB84/YOBdwNCGLMr2h4G/gIGtgSEEWZRz\n",
       "AcN5AwbGD6iiQOf6J4BEUUzgv8Aw/wADSwOqbfwOPLEMINssQbz6A0DrgTTTBW6glzkNGDyAnEnx\n",
       "Ky8wdADV80y3BZkuAPEx2FUwnzCcAIcOBDDDwxMYOgz7oOzj8EBegBTq8CjhBpmJEUP3GBgA5UlE\n",
       "VtuYBi4AAAAASUVORK5CYII=\n",
       "\" style=\"display:inline;vertical-align:middle;\" /></a>"
      ],
      "text/plain": [
       "(1, b)"
      ]
     },
     "execution_count": 13,
     "metadata": {},
     "output_type": "execute_result"
    }
   ],
   "source": [
    "# the bounds extracted as a tuple\n",
    "interval_C1bO.operands"
   ]
  },
  {
   "cell_type": "code",
   "execution_count": 14,
   "metadata": {},
   "outputs": [
    {
     "data": {
      "text/html": [
       "<a class=\"ProveItLink\" href=\"../../../numerals/__pv_it/common/2778428c7f555b2bdc06aa0530bc142c6e6335100/expr.ipynb\"><img src=\"data:image/png;base64,iVBORw0KGgoAAAANSUhEUgAAAAgAAAAPBAMAAAArJJMAAAAAIVBMVEX///8yMjJmZmaIiIiYmJh2\n",
       "dnZUVFTu7u4QEBCqqqoAAAADAhFxAAAAAXRSTlMAQObYZgAAACBJREFUCNdjYAADznYGhrKw5UAW\n",
       "CykEM5BgylioAjYDAHBOCeDSSky9AAAAAElFTkSuQmCC\n",
       "\" style=\"display:inline;vertical-align:middle;\" /></a>"
      ],
      "text/plain": [
       "1"
      ]
     },
     "execution_count": 14,
     "metadata": {},
     "output_type": "execute_result"
    }
   ],
   "source": [
    "# lower bound\n",
    "interval_C1bO.lower_bound"
   ]
  },
  {
   "cell_type": "code",
   "execution_count": 15,
   "metadata": {},
   "outputs": [
    {
     "data": {
      "text/html": [
       "<a class=\"ProveItLink\" href=\"../../../../__pv_it/common/195236b98c6c564a75b5dbada74b173bc52d5c3e0/expr.ipynb\"><img src=\"data:image/png;base64,iVBORw0KGgoAAAANSUhEUgAAAAkAAAAOBAMAAAAPuiubAAAALVBMVEX///+YmJjc3NyIiIhUVFR2\n",
       "dna6urqqqqpmZmYyMjIiIiIQEBBERETu7u4AAAALjtrwAAAAAXRSTlMAQObYZgAAAE9JREFUCNdj\n",
       "4D29gAEIOBtAJF8BiMy7ACKjQATDFON2BgbelxfuKTCwv2XgM2DgmMBwLwCkPK+AgU+Aoe8CA18C\n",
       "70YGBhYBHqARvM2BDAwAqXgQspq5HJAAAAAASUVORK5CYII=\n",
       "\" style=\"display:inline;vertical-align:middle;\" /></a>"
      ],
      "text/plain": [
       "b"
      ]
     },
     "execution_count": 15,
     "metadata": {},
     "output_type": "execute_result"
    }
   ],
   "source": [
    "# upper bound\n",
    "interval_C1bO.upper_bound"
   ]
  },
  {
   "cell_type": "markdown",
   "metadata": {},
   "source": [
    "<font size=3>Many simple interval membership claims can be deduced relatively easily via `IntervalXX` methods relying on related theorems:</font>"
   ]
  },
  {
   "cell_type": "code",
   "execution_count": 16,
   "metadata": {},
   "outputs": [
    {
     "data": {
      "text/html": [
       "<strong id=\"two_in_O13C\">two_in_O13C:</strong> <a class=\"ProveItLink\" href=\"../__pv_it/demonstrations/dab929e46500e90926437640716cb691276812e60/expr.ipynb\"><img src=\"data:image/png;base64,iVBORw0KGgoAAAANSUhEUgAAAEwAAAAUBAMAAADVZMaCAAAAMFBMVEX///+YmJiqqqqIiIgyMjLc\n",
       "3NwiIiIQEBC6urp2dnZUVFTMzMxERERmZmbu7u4AAADrYmUNAAAAAXRSTlMAQObYZgAAAUVJREFU\n",
       "KM9jYMACAtH4IhkMfHfPbEAT5TuAxImceYiBYQbDKwbOH2jKWAIYGJjqIGzWCwz6AkBl9xgYytGU\n",
       "yTIwvJr1D8Jm/sTAnwBUVsbAsD4ALCKTluYAZqQCMSNUGUcFA78DUJn/A4b1YMftsYMaxpqApAwI\n",
       "wJYCQf4DkLv9YMLMF1CU8WUygJVx/ATxuAJg4jwCyMpYp92DKGNbAJaEW8KmgGqpeQNY2V0wZ7sL\n",
       "EIC9wN6Aqoy9DqQM7BQGhhiEMLIy1gAGnk8gZbogJlASu6X8/yDKuCcwMIOU8Rpg9QL7AQa2f0Bl\n",
       "YTPnLgMLJMGUcYJcwQxU9h7oVEYBSLj5////DSz76sQDaMADg5d3+ZeLDGx5QF7v3ROQAIGBzmNI\n",
       "kQUGejDGDGzJTRbGmIBXGQ80QvgM8CqDJUtGBrzKMBK5SQYArdBVk3NTsqgAAAAASUVORK5CYII=\n",
       "\" style=\"display:inline;vertical-align:middle;\" /></a><br>"
      ],
      "text/plain": [
       "two_in_O13C: 2 in (1,3]"
      ]
     },
     "execution_count": 16,
     "metadata": {},
     "output_type": "execute_result"
    }
   ],
   "source": [
    "# here is an unproven claim\n",
    "two_in_O13C = InSet(two, IntervalOC(one, three))"
   ]
  },
  {
   "cell_type": "markdown",
   "metadata": {},
   "source": [
    "<font size=3>Prove-It will not automatically prove our assertion that $2\\in (1, 3]$:</font>"
   ]
  },
  {
   "cell_type": "code",
   "execution_count": 17,
   "metadata": {},
   "outputs": [
    {
     "name": "stdout",
     "output_type": "stream",
     "text": [
      "ProofFailure. Unable to prove 2 in (1,3]:\n",
      "Unable to conclude automatically; the domain, (1,3], has no 'membership_object' method with a strategy for proving membership.\n"
     ]
    }
   ],
   "source": [
    "try:\n",
    "    two_in_O13C.prove()\n",
    "except ProofFailure as e:\n",
    "    print(\"ProofFailure. {}\".format(e))"
   ]
  },
  {
   "cell_type": "markdown",
   "metadata": {},
   "source": [
    "<font size=3>But we can manually prompt Prove-It to prove that $2\\in (1, 3]$ utilizing an explicit `Interval` method:</font>"
   ]
  },
  {
   "cell_type": "code",
   "execution_count": 18,
   "metadata": {},
   "outputs": [
    {
     "data": {
      "text/html": [
       "<span style=\"font-size:20px;\"> <a class=\"ProveItLink\" href=\"../__pv_it/demonstrations/38d68f6e1d666bfac5d3d482cf29316e8347f4ad0/proof.ipynb\" style=\"text-decoration: none\">&nbsp;&#x22A2;&nbsp;&nbsp;</a><a class=\"ProveItLink\" href=\"../__pv_it/demonstrations/dab929e46500e90926437640716cb691276812e60/expr.ipynb\"><img src=\"data:image/png;base64,iVBORw0KGgoAAAANSUhEUgAAAEwAAAAUBAMAAADVZMaCAAAAMFBMVEX///+YmJiqqqqIiIgyMjLc\n",
       "3NwiIiIQEBC6urp2dnZUVFTMzMxERERmZmbu7u4AAADrYmUNAAAAAXRSTlMAQObYZgAAAUVJREFU\n",
       "KM9jYMACAtH4IhkMfHfPbEAT5TuAxImceYiBYQbDKwbOH2jKWAIYGJjqIGzWCwz6AkBl9xgYytGU\n",
       "yTIwvJr1D8Jm/sTAnwBUVsbAsD4ALCKTluYAZqQCMSNUGUcFA78DUJn/A4b1YMftsYMaxpqApAwI\n",
       "wJYCQf4DkLv9YMLMF1CU8WUygJVx/ATxuAJg4jwCyMpYp92DKGNbAJaEW8KmgGqpeQNY2V0wZ7sL\n",
       "EIC9wN6Aqoy9DqQM7BQGhhiEMLIy1gAGnk8gZbogJlASu6X8/yDKuCcwMIOU8Rpg9QL7AQa2f0Bl\n",
       "YTPnLgMLJMGUcYJcwQxU9h7oVEYBSLj5////DSz76sQDaMADg5d3+ZeLDGx5QF7v3ROQAIGBzmNI\n",
       "kQUGejDGDGzJTRbGmIBXGQ80QvgM8CqDJUtGBrzKMBK5SQYArdBVk3NTsqgAAAAASUVORK5CYII=\n",
       "\" style=\"display:inline;vertical-align:middle;\" /></a></span>"
      ],
      "text/plain": [
       "|- 2 in (1,3]"
      ]
     },
     "execution_count": 18,
     "metadata": {},
     "output_type": "execute_result"
    }
   ],
   "source": [
    "# deduce the claim as a judgment\n",
    "IntervalOC(one, three).deduce_elem_in_set(two)"
   ]
  },
  {
   "cell_type": "markdown",
   "metadata": {},
   "source": [
    "## Axioms <a id='axioms'></a>"
   ]
  },
  {
   "cell_type": "markdown",
   "metadata": {},
   "source": [
    "<font size=3>The current axioms for the `number/sets/real` theory consist of definitions of what it means for something to be an element of a real interval. For example, when we write $x\\in (a, b)$ for $a \\le b$ and $a,b\\in \\mathbb{R}$, that is equivalent to saying $x\\in\\mathbb{R}$ and $a < x < b$.<br/>\n",
    "The axiom for open intervals is shown below (and the related axioms can be found in the [axioms notebook](./\\_axioms\\_.ipynb)):</font>"
   ]
  },
  {
   "cell_type": "code",
   "execution_count": 19,
   "metadata": {},
   "outputs": [
    {
     "data": {
      "text/html": [
       "<span style=\"font-size:20px;\"> <a class=\"ProveItLink\" href=\"axioms.ipynb#in_IntervalOO_def\" style=\"text-decoration: none\">&nbsp;&#x22A2;&nbsp;&nbsp;</a><a class=\"ProveItLink\" href=\"../__pv_it/axioms/b7aad2ab06bf7d7bf513a2843d81f9f2979e26ea0/expr.ipynb\"><img src=\"data:image/png;base64,iVBORw0KGgoAAAANSUhEUgAAAc0AAAAVBAMAAADWcajYAAAAMFBMVEX///8QEBCIiIhmZma6urrM\n",
       "zMxUVFQiIiJERETc3Nzu7u6qqqp2dnaYmJgyMjIAAAAcRTyBAAAAAXRSTlMAQObYZgAABRtJREFU\n",
       "WMPdWF1oHFUUPjs7s7OZndn44EMRlCXVVIrokiIi2ro2iChI1pfqg9AQbbEgYak/xdqG0ZduFOn4\n",
       "g+1D1GkDaQmlO9iHkiK6bIXKltZFC0kKhUVpSxVjCAg2gnju3Dtz752Z3W3smwe+bnrvOd+Zb/be\n",
       "c89dgJ724NX4WF+LApKnJJtjiNrnDJ1sridzV5vjsK6XoE3GrnQL+C7B5zhDgonDxrsVgIxDETHD\n",
       "pojZ/LqDS+taCTHHb1WilJbALMF5MvFrd51xnxsMCSYN54uYtU0RsbxDEbf2DLy44PIYJ4m5q4lp\n",
       "CVDnYbIg7O46Yz5WkSLB5OF+D/9pMMj2E0Pc7CnI9o3ymF+SmNFyCRvqm3IsbcPXmXfxw+uuM+aj\n",
       "OxSCvAN7JsIpbiMYCUcYZHubIU6BOtNOO4zRDrgJzOj/enw1zD8aT3vE12k1Z2cPQXedMZ9DDKFp\n",
       "77nCFLdz/ioqUchFpUKRQOHrtMOYzNZCAjMo+9zYo25oJqRFoE74q1rd10NnzGc9w9HBTx/wH+Kk\n",
       "K071PT50F/3ftYHH8G0WKeTHLFIYA7u2NmQK1JlRR8OYk1BJYD6xOyg6AQEY5wqQkBZBdO4AmAwy\n",
       "qEvJOkUfYh9SGHVrt+5Xi13S1JNOfplm/setOWChi+W7XVwi5u+3bIviBMwXJmQK1Hl6ixvEYBU8\n",
       "H2ee3h94hwTGI8G5I6dFEJ3DYjE8yz5P3//yz4LO4UjBfIfCdM1V1d8ktjhl3A1pOpBbhf4C5PD7\n",
       "yFUib0/3KJrwg/uMTGF/tGeCVAMWU4EvYsyZ30LvkGA8rCByWgTRqYPCz18Sbny9qaWY0CxwnZIP\n",
       "2p0UBmTp02n3kO8pmEqvgk6D022o1UHDr0BbjuhMlShcqEYp7KnhLFnENMYqQKYcZZ7hOgMCg+uU\n",
       "0yKITrOl8+w3EQtzs4A6L7e4TsmH6wTy2kA+dHA4ZUOtHJxjI153nQArUQp7Kv2UHerUXdBGY8yf\n",
       "7OdUK6yyhetWTst09rW3kfU+SA4jbWXQVcnuJzrrXCf1aTw8WJbWLcB2NnCHuG7xXX7Ljs8WPOGC\n",
       "iotHrfD9eU1ct6D9GaXA/fn+jxDEnAo6BImZ16GQgNchOa1K1y1MvoIub2qrRN5epZgHqnNTkev0\n",
       "fRR3XC9JdSjnPoSjZGBIrEM1D8Zz/rbtL+GOEuqQYEEdOqMsw0aZAnVuS5eDmBtMq8zMz5WQgJ8r\n",
       "clpWh+AUak4XNfLysgWrPe2TpHe+IdQh30eD38VyhRjxDrJOXPeEKWR5y4Qapsi0svi20nUKyVjF\n",
       "V//OLtP+nFNg32d6O1iMZtO1KzBLfQIn4H2CnBbh6yR7LOUpo/6mSY++UK1WC4r58SVRJ92HN4Oh\n",
       "pylmBo5upimMV5/lU8bYfZ/dC/pe/GvoAtkuZQrJ2IoyxjauvyJTYB9/Fap/eDQmQx5RKYjMUt/H\n",
       "CXjfJ6dF+DotfFk1J3sZP/rdlJeh6zb3kivotGj90zr2fer3sb7vTPDHMYYefV9IIcaB6v9ZTuj7\n",
       "etkxDjPoxlLO9ufgsKu7C2CW6f5sCnXIty/NtrmWPj5cqWvt48W4jjeE3ib38exdjn21GZ73tNfw\n",
       "4T4gfcLF+vSWiM6ZS41mwDEJkQ6JWzBsBOdvh3tZ1qHofItsd2C+xUuofC8TjVYCBfdnpO9LvEz3\n",
       "uGdbPQR1vGeLcf/tni2lzTpRnbnkt7vhNn83WWRY6+8mi7f3u8kih3Jd0mnB/9f+BbdS5pRTRqZz\n",
       "AAAAAElFTkSuQmCC\n",
       "\" style=\"display:inline;vertical-align:middle;\" /></a></span>"
      ],
      "text/plain": [
       "|- forall_{a, b in Real} [forall_{x} ((x in (a,b)) = ((x in Real) and (a < x < b)))]"
      ]
     },
     "execution_count": 19,
     "metadata": {},
     "output_type": "execute_result"
    }
   ],
   "source": [
    "from proveit.numbers.number_sets.real_numbers  import in_IntervalOO_def\n",
    "in_IntervalOO_def"
   ]
  },
  {
   "cell_type": "markdown",
   "metadata": {},
   "source": [
    "## Theorems<a id='theorems'></a>"
   ]
  },
  {
   "cell_type": "markdown",
   "metadata": {},
   "source": [
    "<font size=3>There are already a good number of basic theorems established in the `number/sets/real` theory. Some examples are shown explicitly below, and the remainder can be found in the [theorems Jupyter Python notebook](./\\_theorems\\_.ipynb). Most such theorems are typically not acccessed directly but are instead used behind-the-scenes when calling various related class methods.</font>"
   ]
  },
  {
   "cell_type": "code",
   "execution_count": 20,
   "metadata": {},
   "outputs": [],
   "source": [
    "from proveit.numbers.number_sets.real_numbers import (\n",
    "        all_in_interval_oc__is__real, in_IntervalOO,\n",
    "        in_real_neg_iff_negative, interval_c_c_lower_bound,\n",
    "        nat_within_real_non_neg, not_int_if_between_successive_int)"
   ]
  },
  {
   "cell_type": "code",
   "execution_count": 21,
   "metadata": {},
   "outputs": [
    {
     "data": {
      "text/html": [
       "<span style=\"font-size:20px;\"> <a class=\"ProveItLink\" href=\"proofs/nat_within_real_non_neg/thm_proof.ipynb\" style=\"text-decoration: none\">&nbsp;&#x22A2;&nbsp;&nbsp;</a><a class=\"ProveItLink\" href=\"../__pv_it/theorems/d48962572c4c30d880196a3a75dc63432f2710fa0/expr.ipynb\"><img src=\"data:image/png;base64,iVBORw0KGgoAAAANSUhEUgAAAE4AAAAVBAMAAAAazcUaAAAAMFBMVEX///9mZmaqqqrc3NyIiIgi\n",
       "IiJUVFTMzMyYmJi6uroQEBB2dnZEREQyMjLu7u4AAAA1o4RqAAAAAXRSTlMAQObYZgAAAVNJREFU\n",
       "KM9jYCACeHsTUDDNAERybGBKwK+OWawASLJOYPhHwEBmGaDC9wUMiwg5jW/PBIZ6A4YIgn7g2/ug\n",
       "/gFDCMPbP2cfMOz6NQFFsnXN+btrGsBMlhsg85YwMJxgT2Dg+4BmyoVnDDU9D4CMJ4fA7vvJwJBa\n",
       "4MLAsABN3QFrBh5mYGC8Pgn3b+Y5tgKGALAsx9HQ0NACqDpGgwsMD0+CrRYAhV9yGd89iDrm2wZI\n",
       "5jEaHGAoh8bHRiCRzORQBlHHaoBsLxsnaiQkM+zkcACrE0Jxn6rsAzR1bA/SweoCkNRZhcYqMDDo\n",
       "nAGCBzB1fAm8IP8yJyCbN5EH1TigOoZqdpA6vgPI6hinH8BQx6FwAN1ea4ZzLajq0oF4M1jdFhR1\n",
       "ZYwFKOouATHjBRCLVwE53rgV0pGVlf4CmsUHVseXNg+RDq4znLmvgCMNse+BxRsGAAClvGelUqpA\n",
       "WwAAAABJRU5ErkJggg==\n",
       "\" style=\"display:inline;vertical-align:middle;\" /></a></span>"
      ],
      "text/plain": [
       "|- Natural proper_subset RealNonNeg"
      ]
     },
     "execution_count": 21,
     "metadata": {},
     "output_type": "execute_result"
    }
   ],
   "source": [
    "# The natural numbers are a proper subset of the non-negative reals\n",
    "nat_within_real_non_neg"
   ]
  },
  {
   "cell_type": "code",
   "execution_count": 22,
   "metadata": {},
   "outputs": [
    {
     "data": {
      "text/html": [
       "<span style=\"font-size:20px;\"> <a class=\"ProveItLink\" href=\"proofs/in_real_neg_iff_negative/thm_proof.ipynb\" style=\"text-decoration: none\">&nbsp;&#x22A2;&nbsp;&nbsp;</a><a class=\"ProveItLink\" href=\"../__pv_it/theorems/862eba136388c20b6c9d400c3113459b807b5e070/expr.ipynb\"><img src=\"data:image/png;base64,iVBORw0KGgoAAAANSUhEUgAAAPwAAAAaBAMAAABhmCzLAAAAMFBMVEX///8QEBCIiIhmZma6urrM\n",
       "zMxUVFQiIiJERETc3Nzu7u6qqqp2dnaYmJgyMjIAAAAcRTyBAAAAAXRSTlMAQObYZgAAA9lJREFU\n",
       "SMfFVlloE1EUvU0zWSaZWKHihpK6FD+DC7gvCAqCNP5oBSGhLiiIWLXWnSCoaUUJFmr/OiXQSlEz\n",
       "2A8pCB1aP6SitCgupWIU+qFCFVzQVMT75s17mUwnMzY/3o+TWW7eeffc5Q2ArQkbGdiaC0qxsKPH\n",
       "Tg625o6XQr/F0eMjB3t7Ugp9cMjBoTzMwMG8stVTf/H1ewmcAciS3zdFnNplBiaT6pN/3l0zJD9i\n",
       "9fdb1qv2j0bBk8KLhQCP7eQd4GC2kBgXrjWDO4nWjHF+sXL6YLloSBFPg0jCbgdoIyIlitDP5WA2\n",
       "n1+FRGv+/qyFj2SWJDBGcBjgKUpAUqZACKUNKtbs/hyD/JJXGi8w+lWh/POV7AKjEvQ+8KZM2zmu\n",
       "PbgM0CdDB6mqBEiD3d03iwQvVTDgc+CinI9+lS//oooVAam2S/TatKzrHP3vD4AaDBuHiQuX/plM\n",
       "nitW+FkGLQNV2n/vygbx44bGrdFf1Bq8FhLt1i6dQ9/cPkZ/xa/oHYYgZsaNwu4HaCpC70vo4J4N\n",
       "n7Unhwy5Dxw3VGwsStWZ3ohWT1+QztiUCtGqTJ9nGf2N3mGQSJa+A2ymVcjs/pK973mNxnXoGNKT\n",
       "m8jTz2z8ZGxROpirady1il6O4jySYDQPd/Zj9DEVAkfx8hsWCM2XpsuDZUOuIAyyOeON6LBBBk06\n",
       "Yf44GqV/GGk20Gc0+i42fE8RqMTM5cCrrdbJ6XXxBRRF/EZGn5e9edXbDUg/wrYTiugwC8TvUNCh\n",
       "KP7y2knR+w/Tu05Vpy9LQIampYWJT0qvT9HoSfT+LDlS0tVj4CZshF5lHHEK4m8I0AxWGOh9dwzT\n",
       "OEabTLpA5BlvYLMgo0IfFJYeJAHeyuBG8YVfeNu0D2VoEHKgtTHSL2PjwpOgIE6AJ6tN6aUGeiG+\n",
       "YnLlP9MqP8VKL6PAkUCqsPHo2CGlRyofenAf5RHhKKQ1p/IDJ3inVuhwEV7GNUm8Sn7owmNPlNMP\n",
       "sx2TJKzhI9sXlk4GTWPHq4gzkFHVR8o01LBMccVhF87vsCt44zk/xnM6dC7YXaclVzy4jR85Ud/1\n",
       "iUlTj3QRq5CteFu3uHWRaeiK/dW47VAUaFNIqEkm5RuRPVT8wB5+xFVy4Dt6RIeu2XizYoCibD10\n",
       "C6yLSMiKpywV2w7BKM39ICs9WMvBwcTcvxw5Bacu6VYWp7vu3jqAq2TsPFXT65nPDg4OJll+bTXZ\n",
       "7JeMuhemQwFzX/DAozBw+tqJTuFzQ+sckpgGJ02zDBxsFKb4sfWaSKY6LdvDwdaKfq/YWpujR2Aj\n",
       "A/tPUrkU+tXwv+0vRaMHh9aeR5sAAAAASUVORK5CYII=\n",
       "\" style=\"display:inline;vertical-align:middle;\" /></a></span>"
      ],
      "text/plain": [
       "|- forall_{a in Real} ((a in RealNeg) <=> (a < 0))"
      ]
     },
     "execution_count": 22,
     "metadata": {},
     "output_type": "execute_result"
    }
   ],
   "source": [
    "# a is a negative real number iff a < 0\n",
    "in_real_neg_iff_negative"
   ]
  },
  {
   "cell_type": "code",
   "execution_count": 23,
   "metadata": {},
   "outputs": [
    {
     "data": {
      "text/html": [
       "<span style=\"font-size:20px;\"> <a class=\"ProveItLink\" href=\"proofs/all_in_interval_oc__is__real/thm_proof.ipynb\" style=\"text-decoration: none\">&nbsp;&#x22A2;&nbsp;&nbsp;</a><a class=\"ProveItLink\" href=\"../__pv_it/theorems/b3491a5c593f0540929261290e3eb6b5a7f8efc70/expr.ipynb\"><img src=\"data:image/png;base64,iVBORw0KGgoAAAANSUhEUgAAAOAAAAAZBAMAAADanj8DAAAAMFBMVEX///8QEBCIiIhmZma6urrM\n",
       "zMxUVFQiIiJERETc3Nzu7u6qqqp2dnaYmJgyMjIAAAAcRTyBAAAAAXRSTlMAQObYZgAAA1lJREFU\n",
       "SMfVlk9IFHEUx9/O7LizuzO7HToYQiwubKGXRalbIklFQbFdtIOg2F8jxEO1YCKLl1ZDmjqUB6EJ\n",
       "QUWihjqI0WHZLrFFLSFoQrIEHiraRArSLr3f7zc78xtdd+fgpQfDzPzem/nMfN/7vd8PoLpdTmqw\n",
       "O+ZNDroJ64fdswf/OdCfr+CcZ8ACOX2uAnQRRG2m3OBi7d1iLX5JjUaBb8nYtypAF0HUvpYdLUzB\n",
       "uSUdAgUKHCdKpKoAXQQRU+Nlh1MTIPu7AbIUGNIBFKMK0EUQMZ9j+qi3k0MloKjh7z2mQDU3O/uw\n",
       "WtG4CCLmCJGGdfsPRQ31CbXSKv2TTg9WrdJtQX7ueqWkZBSPQH3vUaIdPNU5SWu8KKkSp8CLACNW\n",
       "JyjuAOSDqGVKF2dQq1J2x/B4AosRqmQvn8O5FsSrBQpsY+XD7LV5njt4/gsPdASBWeLUyGeXgLfw\n",
       "yMEH/STF2MB7ySFSAMF+CvSBYE/X70SUV815QYFchANyQcQNndYTIcN+9148dEizFO4vopl/2CYT\n",
       "faU1ClTyPvvLN/BYmp8FBC7nOSAXRNxEYtPCmhMIsM6SzP3hhHgsZQP9hXa8mYytkqH1mO4lJUCA\n",
       "GQ7IgrKHYgnqJkOBpr4EXnXVX3VICtJvdrOHz+HoR1IhTFIYuYBP35A2CWdAiIeAAZvjfC8lQYLe\n",
       "52ulbj8OTSe6iE4H9KijaF4Ka9BAbpp4YLuYsIoGXuDTYlwir5UjamGSAsVL1x3NmwRJ8AOloNWM\n",
       "iGboIJfDsGIBseS8f+U11sJ9BtfaFAOTIGYYMIzV4TEEnCjgaRW7O9LpdERQ7i84gOGImWLqJrOq\n",
       "DmIsb4ct4AmUqqchyrp84Mopq3mvQvqnAaEEA6qozDNNXsZTWPcYNUzSYKfOA1VWZhJQt5SCwAaM\n",
       "YfXAJpJTZVub943Z2ko2za2HHq3rNIzrPn0JlATLYS6zdT18pBQU5g7g0D7pV94/CgNqygLu0LxL\n",
       "luWA3p7nR+CsIV1Dyh0y8d9nJlu2AqcWsjnmhgGA443RvFQH7e+4OT5SiWcuT7yxNAuYpAorPnU3\n",
       "mjdBcDSVmUpAWdsKDGqutxgyv22wgRW3GJ+27WlU93sar/nmvBO4S5uoZJl96Xy55cnFvvTmP5QC\n",
       "BME3VM8yAAAAAElFTkSuQmCC\n",
       "\" style=\"display:inline;vertical-align:middle;\" /></a></span>"
      ],
      "text/plain": [
       "|- forall_{a, b in Real} [forall_{x in (a,b]} (x in Real)]"
      ]
     },
     "execution_count": 23,
     "metadata": {},
     "output_type": "execute_result"
    }
   ],
   "source": [
    "# all elems of a real interval are real numbers\n",
    "all_in_interval_oc__is__real"
   ]
  },
  {
   "cell_type": "code",
   "execution_count": 24,
   "metadata": {},
   "outputs": [
    {
     "data": {
      "text/html": [
       "<span style=\"font-size:20px;\"> <a class=\"ProveItLink\" href=\"proofs/interval_c_c_lower_bound/thm_proof.ipynb\" style=\"text-decoration: none\">&nbsp;&#x22A2;&nbsp;&nbsp;</a><a class=\"ProveItLink\" href=\"../__pv_it/theorems/d09a150fa930ab11d0c4a3dd45bc44a7691608a50/expr.ipynb\"><img src=\"data:image/png;base64,iVBORw0KGgoAAAANSUhEUgAAANwAAAAZBAMAAACoUV21AAAAMFBMVEX///8QEBCIiIhmZma6urrM\n",
       "zMxUVFQiIiJERETc3Nzu7u6qqqp2dnaYmJgyMjIAAAAcRTyBAAAAAXRSTlMAQObYZgAAAzJJREFU\n",
       "SMfVlk1oE0EUgF823SZNdjcXL1qE0GiUegktelKJCooHJV5aD0JLtYoipRTbSK0lCMKqFBaF2psr\n",
       "BStFTNCDVARDeouieyhYC5bgH6gooSjYenHeTHZ3dvuzK/Tig83My3vZL/PemzcD4C1nshqsh9Rl\n",
       "h/y49cJ6yej/jGswVrdNMVwFh3ceOB9OKPfXsNVrFPcC5189cD6cUL64dKHfnkcqFDeGQch54Hw4\n",
       "EZFTTv1BH6+VKE7RAaSCB86HE5GQc7/cuuxQ71KcXJ6cvO1VKj6ciDg9Rr85rUqaVuZvVR3yrEy3\n",
       "00VuIfNmDBMY8t0tm6hy/KOVtaaz+0kkpRTFdQNcs/b9j1VwvBNKpzk5SirATOoIefZpShXn4at2\n",
       "CuFNfJhktkJxB1jRMJmujU+2n3zP4xxOPA7/s4m7RFayGYJUFfp006UMr/XDANFeiguBYO9OjHfk\n",
       "WashSFCOczjOCc02TinYuA0AwSUIsd/JQyZPBxUHsUpxkhGy//UieWanJoHg5gwOxzmh2cbFNAcu\n",
       "kIN8hmnRD1Z+FzhcQ6WNKOPJT/jVQlKvw8wjrsjhmFNpZzJDzQQXaenB93Y0neODmS/Cc6sQPtfA\n",
       "4i+qsmDCtVMkQv3iElIGhZQCDNea4nsmOgl6Tyit1HI3kenAaG3TE3yp5AvQEzVXJappHJ4KVWi2\n",
       "SgUek9cFUyK+NByXK+MUFzx9wdGi0UmE7yQMNVwrtOPkCsxbuGn6ggHJbtnduKo/4Sr27mCR4WIk\n",
       "t4GCgOkIpIOd7aqqxgXp5owDF4vXUkvNBNcISZavXRbuEIlS19bRLc5tFOlqTmB3VzIMJ5Og5LXw\n",
       "HBlieqBQz4IZPaHzOHQi2Rahnq0usggjpGRgiXBzKzcxl0xw511A6zgCY3pInwUpw3JXLrrPuztS\n",
       "RWJmsrqN4k+j4ToMyjkL527RTilxuLquR3vgWEE8Txg3cJu/Ko7vdePuzZTKzExwB3ckDLER2l7a\n",
       "G4FvPA+zKMsPIF5YzxcwOauf5gLLHdtb9DPn53gNa25cVPN9eejkbgQ2bq3Lw9tldxUZ/hVnOHHr\n",
       "czXKLr9nDq90AHnfMwf+Ah6V8L3rkFnYAAAAAElFTkSuQmCC\n",
       "\" style=\"display:inline;vertical-align:middle;\" /></a></span>"
      ],
      "text/plain": [
       "|- forall_{a, b in Real} [forall_{x in [a,b]} (a <= x)]"
      ]
     },
     "execution_count": 24,
     "metadata": {},
     "output_type": "execute_result"
    }
   ],
   "source": [
    "# all elements in [a, b] are ≥ a\n",
    "interval_c_c_lower_bound"
   ]
  },
  {
   "cell_type": "code",
   "execution_count": 25,
   "metadata": {},
   "outputs": [
    {
     "data": {
      "text/html": [
       "<span style=\"font-size:20px;\"> <a class=\"ProveItLink\" href=\"proofs/in_IntervalOO/thm_proof.ipynb\" style=\"text-decoration: none\">&nbsp;&#x22A2;&nbsp;&nbsp;</a><a class=\"ProveItLink\" href=\"../__pv_it/theorems/882fd50bf6ae00c7c98b113a59ddd95ee504b40b0/expr.ipynb\"><img src=\"data:image/png;base64,iVBORw0KGgoAAAANSUhEUgAAAQUAAAAWBAMAAAA7jZQjAAAAMFBMVEX///8QEBCIiIhmZma6urrM\n",
       "zMxUVFQiIiJERETc3Nzu7u6qqqp2dnaYmJgyMjIAAAAcRTyBAAAAAXRSTlMAQObYZgAAA5FJREFU\n",
       "SMe9Vk1oE0EUfvnZ/G6SSy9aCqHRKNVDaFEE/6KCYqk29dD2IKRUKypaeqgWW5Eo/qRKYfFQexFX\n",
       "Cq2EQoIepEUwxIMQtQYsWAtKEBVULKEo2Ajim5ndzWwSacHUgTcz72Xy5pv3vjezACvRbpe12jNF\n",
       "hklFskR5W1kIjkhZ8z1+ycUeAIvE5BmxfKksBrdU1vxZtyaAQLJMRkiQIpXF8Kqs1RXgNU8CuxQT\n",
       "twwgJiqL4ZxOm+3rowm36qLTjPvCXSaudCx2q7IQ7D281l6nTPS7PKUJCTL5GY2erywGI0l17Ynd\n",
       "KUo+jWs+Am9b/WqmfardigkIMOkCGFSXmef/5je45M4Hs+rMhjU4Aa+9F4hi0TIwhLJLcudYXfyW\n",
       "4xK48D9E9lBqKu2J3u/D9Ufes5metY0lCBrpeVizIr3S8FLeTwFpSwZw5xowMU/OPHi84MSsEbGC\n",
       "sXB3fOUq+FFDxihC2luKob2jGAJa3BqxDRg0GaJMaZnHRg9ZBWDKg5X5M2UhngQBg0JEzFgLvhY5\n",
       "Ok/GADHMZUowDA8WQyAWj8RjAFhgyoi2CDEYIhAPqddDc0LDYM+2om3U/xF7YcFPSia1yR8yk9AS\n",
       "DMkCBkd9N3oYvYJT0XeoSxuoJVx7kssFCD8UQHwu8OiPleshAztlMGMeiMDgUfR+RsiTPfsJp41y\n",
       "tzXoBoahIVDAMB4KyzDxgUzrLNledWCWdbKP4+SUMQe0KE1ejpPxBHQ7abw8QeSGxkl4gEBMAYHA\n",
       "sXmJRYBveDaKwXSsl+NkA7SBUEP1kDujDorlErxTNkN2mn/ZcsoTNcDxHf2fFSGOe1gyNjycKcmE\n",
       "8BMMCWMHzaSpQ6FFWzQa9RrFmzMchmrwA0yzMlXSTwZmqYLNaoX3gKOzzqc8hGOXZTbZh+HuXDu8\n",
       "Bqz9JK0vCCtCTMCFa+KSbQ4Hj2ygucwJYGG5cB6WNQyORRiKgWMLZVUYtIFZ8gix7F3ddK34rp5S\n",
       "J+OKMOZI4QMwIlvlWezviFkRxBDjQ5rj5CrhO8bXflwCe24akvbrdGAW6HdFlvtmJdWJ8mYp4eu8\n",
       "vx1aEsKpJPZjM6k0wA1yR00nR3cUMOzd4CM5tl+VHKebNspCNR2YBVqfa7vZyr/dakk7VJqqbzff\n",
       "ElwPRuRD4SfdHSUo3pwllmV9w7h4rEV4WdU4yx6irNfJf/yWe6MInzA9yqUxZOC/tsAK+v4DCqED\n",
       "YATGuI4AAAAASUVORK5CYII=\n",
       "\" style=\"display:inline;vertical-align:middle;\" /></a></span>"
      ],
      "text/plain": [
       "|- forall_{a, b, x in Real | a < x, x < b} (x in (a,b))"
      ]
     },
     "execution_count": 25,
     "metadata": {},
     "output_type": "execute_result"
    }
   ],
   "source": [
    "# reals greater than a but less than b are in the interval (a, b)\n",
    "in_IntervalOO"
   ]
  },
  {
   "cell_type": "code",
   "execution_count": 26,
   "metadata": {},
   "outputs": [
    {
     "data": {
      "text/html": [
       "<span style=\"font-size:20px;\"> <a class=\"ProveItLink\" href=\"proofs/not_int_if_between_successive_int/thm_proof.ipynb\" style=\"text-decoration: none\">&nbsp;&#x22A2;&nbsp;&nbsp;</a><a class=\"ProveItLink\" href=\"../__pv_it/theorems/1eae82f352a4d38060aa030fa5c25534fe70c7680/expr.ipynb\"><img src=\"data:image/png;base64,iVBORw0KGgoAAAANSUhEUgAAAO4AAAAZCAMAAAABp+KxAAAARVBMVEX///8/Pz9vb28YGBgNDQ0r\n",
       "KysPDw8WFhYQEBCIiIhmZma6urrMzMxUVFQiIiJERETc3Nzu7u6qqqp2dnaYmJgyMjIAAACoIi7K\n",
       "AAAAAXRSTlMAQObYZgAAA2dJREFUWMPdWImSpCAMdW/CFU7//1MXRCQotq1bO7Wz1NRU2+0LPEJe\n",
       "Eqbp8VBaazN9miHScv0f4PX02YZR/xFd+Z/RNeHRepwhdOP2dQgP6D6H3x4WXztXkTBlM4uR6cjy\n",
       "opRpdL2rL0X7gO5z+O0RX+siF9tHQC6LK5YdsrHRNXXPDD45zM/hd0fgb8cW96snfNkCDy12q1ea\n",
       "n27F7mP4bak4d25ArX/9bHHFbeEm1x2yrNEN3uZh9DOpegy/q1OnE0iERA/3u4E2/61xIJoyz5jH\n",
       "/RS8zv8G/G4xMkopUD0FoIyAej5zZFoan5vHgYin542uWqyjeUj3Gn5jI+WiAE4cf8GydpuMBQ2T\n",
       "3ugV3QU4yDhR8hAbXcFHu0OKRYaeI+cndK/gLQ9ck+W8GOVHiC7a4JMr/Wwnsb2Bw7yQnEDmdZqU\n",
       "GfkzHLOmdZ7zUDTCW7BnUjiGV/Qkr51LM2YBH8sfVjyeV4E0CciUYGP88T39owUynwSZV86Erg+j\n",
       "kiSgMzZbT9sqw6CiqZAhfEOvh/3lwD3dQY5l7YDP9OCWBLjPCzXlLqdhR9fEWpIEHiQUURD08PJR\n",
       "/FWKDZ4SHJeQ+RG03hkePB7pHk+Lds1V3QayQQHZUi6jZteaGY0qPwaRqy5muuowfW2cfJHXN3g6\n",
       "8CpOWlB0SSDE8ODxSNepE6lydoK5TFVdATvflOqpGODsIFXJxqoQxkL+kJRgssSAhaG4bnQrPCeQ\n",
       "uKyKoAX2hqfj44CuONRoJZeI2U04991C8vsuYGrKtSogKbO2jmiLBpW3Ku+I1Es6RVgSSY4AY0+r\n",
       "NhJM8+IxghaqN7ybR2WhWdQmULoyHrvzomEAFnjXjliF37q1CYaRpdlTn4Bl36Ps6Ib6OpPLVshO\n",
       "LZ3M1r05pbvBF02QndaWTEoMDx4H3lV3isivX1IVqc9zodXjftfksNAiR6qXTac4WciL/jKhfSxV\n",
       "RUOXqZphk48ZmaenuybIVJreaRGuSiTaInTHID+DX44KrlIYlFLeR60u6aZQER6K9OMmpNp2hiVz\n",
       "/TyEruF6VrDr5q5JXTTCXQN4PqDG7qPbjA0N+1bJvci7JG++zwouLhbQfOTlDZ7dpZzTdeHO5c2F\n",
       "c4P50Lsq0a8yXHdMlv+LN5Hv3jO7u80W/I17oHzPrH4DAm40b6pAgnkAAAAASUVORK5CYII=\n",
       "\" style=\"display:inline;vertical-align:middle;\" /></a></span>"
      ],
      "text/plain": [
       "|- forall_{n in Integer} [forall_{x in (n,n + 1)} (x not-in Integer)]"
      ]
     },
     "execution_count": 26,
     "metadata": {},
     "output_type": "execute_result"
    }
   ],
   "source": [
    "# a real value between successive integers is not itself an integer\n",
    "not_int_if_between_successive_int"
   ]
  },
  {
   "cell_type": "markdown",
   "metadata": {},
   "source": [
    "## Demonstrations <a id='further_demonstrations'></a>"
   ]
  },
  {
   "cell_type": "markdown",
   "metadata": {},
   "source": [
    "<a id='demo01'></a><font size=4><b>1.</b> $2\\in(1,3]$ and $2\\in[1,3]$</font><br><br>\n",
    "<font size=3>We begin with a simple demonstration deriving the judgment $\\vdash 2\\in(1, 3]$, and then also deriving as a judgment the fact that $2\\in[1, 3]$ using an `IntervalOC` method based on a relaxation theorem.</font>"
   ]
  },
  {
   "cell_type": "markdown",
   "metadata": {},
   "source": [
    "<font size=3>First we define a real number interval of interest:</font>"
   ]
  },
  {
   "cell_type": "code",
   "execution_count": 27,
   "metadata": {},
   "outputs": [
    {
     "data": {
      "text/html": [
       "<strong id=\"interval_O1_3C\">interval_O1_3C:</strong> <a class=\"ProveItLink\" href=\"../__pv_it/demonstrations/071ecfa54a7014392f5646d63a13af2153d229190/expr.ipynb\"><img src=\"data:image/png;base64,iVBORw0KGgoAAAANSUhEUgAAACcAAAAUBAMAAAD8YzkFAAAALVBMVEX///9UVFR2dna6uroQEBCq\n",
       "qqqIiIgiIiJmZmYyMjJERETu7u6YmJjc3NwAAAAjnpn1AAAAAXRSTlMAQObYZgAAALtJREFUGNNj\n",
       "YOA9wIACeKYbMDDsQhLgVdIKYGACCs4FckI2QARvMLC+AQnyNDBwC8lBBfMCGJ6DBNkvADnnoIIm\n",
       "BgwvQYLXGZAEGaDaM1AFtyuABNegCF6q2AASLEVVyeYMEnRGFWRw2YAueJeBYV0AuvZ3GyCCKBZ5\n",
       "MTDUgbRrgH2ygYH7JZA+A3WnOZDd6DfjAEM5UDVzR5cB3Jtgv8BcAAkQKJsBIciwFsrehiwIC+QD\n",
       "yILo0cE23QAAyuI659B3i2wAAAAASUVORK5CYII=\n",
       "\" style=\"display:inline;vertical-align:middle;\" /></a><br>"
      ],
      "text/plain": [
       "interval_O1_3C: (1,3]"
      ]
     },
     "execution_count": 27,
     "metadata": {},
     "output_type": "execute_result"
    }
   ],
   "source": [
    "interval_O1_3C = IntervalOC(one, three)"
   ]
  },
  {
   "cell_type": "markdown",
   "metadata": {},
   "source": [
    "<font size=3>We can automatically deduce that $2\\in(1,3]$.</font>"
   ]
  },
  {
   "cell_type": "code",
   "execution_count": 28,
   "metadata": {},
   "outputs": [
    {
     "data": {
      "text/html": [
       "<span style=\"font-size:20px;\"> <a class=\"ProveItLink\" href=\"../__pv_it/demonstrations/38d68f6e1d666bfac5d3d482cf29316e8347f4ad0/proof.ipynb\" style=\"text-decoration: none\">&nbsp;&#x22A2;&nbsp;&nbsp;</a><a class=\"ProveItLink\" href=\"../__pv_it/demonstrations/dab929e46500e90926437640716cb691276812e60/expr.ipynb\"><img src=\"data:image/png;base64,iVBORw0KGgoAAAANSUhEUgAAAEwAAAAUBAMAAADVZMaCAAAAMFBMVEX///+YmJiqqqqIiIgyMjLc\n",
       "3NwiIiIQEBC6urp2dnZUVFTMzMxERERmZmbu7u4AAADrYmUNAAAAAXRSTlMAQObYZgAAAUVJREFU\n",
       "KM9jYMACAtH4IhkMfHfPbEAT5TuAxImceYiBYQbDKwbOH2jKWAIYGJjqIGzWCwz6AkBl9xgYytGU\n",
       "yTIwvJr1D8Jm/sTAnwBUVsbAsD4ALCKTluYAZqQCMSNUGUcFA78DUJn/A4b1YMftsYMaxpqApAwI\n",
       "wJYCQf4DkLv9YMLMF1CU8WUygJVx/ATxuAJg4jwCyMpYp92DKGNbAJaEW8KmgGqpeQNY2V0wZ7sL\n",
       "EIC9wN6Aqoy9DqQM7BQGhhiEMLIy1gAGnk8gZbogJlASu6X8/yDKuCcwMIOU8Rpg9QL7AQa2f0Bl\n",
       "YTPnLgMLJMGUcYJcwQxU9h7oVEYBSLj5////DSz76sQDaMADg5d3+ZeLDGx5QF7v3ROQAIGBzmNI\n",
       "kQUGejDGDGzJTRbGmIBXGQ80QvgM8CqDJUtGBrzKMBK5SQYArdBVk3NTsqgAAAAASUVORK5CYII=\n",
       "\" style=\"display:inline;vertical-align:middle;\" /></a></span>"
      ],
      "text/plain": [
       "|- 2 in (1,3]"
      ]
     },
     "execution_count": 28,
     "metadata": {},
     "output_type": "execute_result"
    }
   ],
   "source": [
    "interval_O1_3C.deduce_elem_in_set(two)"
   ]
  },
  {
   "cell_type": "markdown",
   "metadata": {},
   "source": [
    "<font size=3>Then we consider the closed real interval $[1,3]$:</font>"
   ]
  },
  {
   "cell_type": "code",
   "execution_count": 29,
   "metadata": {},
   "outputs": [
    {
     "data": {
      "text/html": [
       "<strong id=\"interval_C1_3C\">interval_C1_3C:</strong> <a class=\"ProveItLink\" href=\"../__pv_it/demonstrations/5343a3af9bbe49e007252b8bed4516af70daa3a80/expr.ipynb\"><img src=\"data:image/png;base64,iVBORw0KGgoAAAANSUhEUgAAACUAAAAUBAMAAAD4luk4AAAAMFBMVEX///9ERETc3NxmZmaYmJhU\n",
       "VFTu7u4QEBCqqqoiIiK6urp2dnbMzMwyMjKIiIgAAABr1WidAAAAAXRSTlMAQObYZgAAAJRJREFU\n",
       "GNNjeHuHAQWw3FzAsAuJz7R7YwMDN0SsPQEipszA8QUixhYdDxV738DwE6bOHyq2fAHDX3QxBrhe\n",
       "ZLHMDRhi2pMTMNXxVWGKMZQnoIkpMTDIN6CJ/U/AFCtkYJgP0/s+gYHtL5B2QbjPtP6yA8NMoFou\n",
       "Y8MFMHvBPoDZjSTGzYAplodFzAFJ7CVa2PPdXAAA/DxA1ptCYYQAAAAASUVORK5CYII=\n",
       "\" style=\"display:inline;vertical-align:middle;\" /></a><br>"
      ],
      "text/plain": [
       "interval_C1_3C: [1,3]"
      ]
     },
     "execution_count": 29,
     "metadata": {},
     "output_type": "execute_result"
    }
   ],
   "source": [
    "interval_C1_3C = IntervalCC(one, three)"
   ]
  },
  {
   "cell_type": "markdown",
   "metadata": {},
   "source": [
    "<font size=3>The underlying machinery will not automatically prove that $2$ is also in this closed interval $[1, 3]$, despite the fact that we have the judgment $2\\in(1,3]$:</font>"
   ]
  },
  {
   "cell_type": "code",
   "execution_count": 30,
   "metadata": {},
   "outputs": [
    {
     "name": "stdout",
     "output_type": "stream",
     "text": [
      "EXPECTED ERROR: Unable to prove 2 in [1,3]:\n",
      "Unable to conclude automatically; the domain, [1,3], has no 'membership_object' method with a strategy for proving membership.\n"
     ]
    }
   ],
   "source": [
    "from proveit import ProofFailure\n",
    "try:\n",
    "    InSet(two, IntervalCC(one, three)).prove()\n",
    "    assert False, \"Expecting a ProofFailure error; should not make it to this point\"\n",
    "except ProofFailure as e:\n",
    "    print(\"EXPECTED ERROR:\", e)"
   ]
  },
  {
   "cell_type": "markdown",
   "metadata": {},
   "source": [
    "<font size=3>We could instead use the `deduce_elem_in_set()` Interval class method, or we can use the `deduce_relaxed_membership()` method variation, and because we have previously shown that $2\\in(1,3]$ we don't need to provide that fact as an assumption for the deduction:</font>"
   ]
  },
  {
   "cell_type": "code",
   "execution_count": 31,
   "metadata": {},
   "outputs": [
    {
     "data": {
      "text/html": [
       "<strong id=\"two_in_O1_3C\">two_in_O1_3C:</strong> <span style=\"font-size:20px;\"> <a class=\"ProveItLink\" href=\"../__pv_it/demonstrations/01b53e0b43550c74bb3c14cb6af265d59dd934dd0/proof.ipynb\" style=\"text-decoration: none\">&nbsp;&#x22A2;&nbsp;&nbsp;</a><a class=\"ProveItLink\" href=\"../__pv_it/demonstrations/73e015d9da264c6efdfcec44ceeae0fbe6ef82550/expr.ipynb\"><img src=\"data:image/png;base64,iVBORw0KGgoAAAANSUhEUgAAAEoAAAAUBAMAAADYerbFAAAAMFBMVEX///+YmJiqqqqIiIgyMjLc\n",
       "3NwiIiIQEBC6urp2dnZUVFTMzMxERERmZmbu7u4AAADrYmUNAAAAAXRSTlMAQObYZgAAASNJREFU\n",
       "KM9jYMAAzC4bUAVEMhj47p5BE+RsQOJEzjzEwDCD4RUD5w9MVUx1EDbrBQZ9AaCqewwM5RiqXs36\n",
       "B7X9EwN/AlBVGQPD+gCwiExamgPMLEaoKo4KBn4HoCr/BwzrwQ7bY4dkI0wVEIBtBIL8B0CCz48B\n",
       "qyq+TAawKo6fIB5XAFZVrNPuQVSxLQBxeRiwm8Vg3gBWdRfM2e4CBA5YVLHXgVQxXwBzYrCaxRrA\n",
       "wPMJpEoXxARqwaqK/x9EFfcEBmaQKl4DbKrYDzCw/QOqCps5dxlYIAlZFTNQ1XugKxkFIOHl////\n",
       "N7DkqxMP4Kp4l3+5yMCWB+T03j0BCQkY6DyGiCEw0IPJzMBMXghVE4hRxWdAjCpGBnyqmFPQEq9J\n",
       "BgB1mllGomsgdAAAAABJRU5ErkJggg==\n",
       "\" style=\"display:inline;vertical-align:middle;\" /></a></span><br>"
      ],
      "text/plain": [
       "two_in_O1_3C: |- 2 in [1,3]"
      ]
     },
     "execution_count": 31,
     "metadata": {},
     "output_type": "execute_result"
    }
   ],
   "source": [
    "two_in_O1_3C = interval_O1_3C.deduce_relaxed_membership(two)"
   ]
  },
  {
   "cell_type": "markdown",
   "metadata": {},
   "source": [
    "<font size=3>The proof that Prove-It produces involves a number of steps dealing with the elements 1, 2, and 3 being positive naturals (important in this case as a subset of the reals), and the definition of $2\\in(1,3]$, all of which eventually lead to the instantiation of a relaxation theorem (see rows 0–4):</font>"
   ]
  },
  {
   "cell_type": "code",
   "execution_count": 32,
   "metadata": {},
   "outputs": [
    {
     "data": {
      "text/html": [
       "<table><tr><th>&nbsp;</th><th>step type</th><th>requirements</th><th>statement</th></tr>\n",
       "<tr><td><a name=\"0x3ace2a383d0579cc_step0\">0</a></td><td>instantiation</td><td><a href=\"#0x3ace2a383d0579cc_step1\">1</a>, <a href=\"#0x3ace2a383d0579cc_step2\">2</a>, <a href=\"#0x3ace2a383d0579cc_step3\">3</a>, <a href=\"#0x3ace2a383d0579cc_step4\">4</a></td><td><span style=\"font-size:20px;\"> <a class=\"ProveItLink\" href=\"../__pv_it/demonstrations/01b53e0b43550c74bb3c14cb6af265d59dd934dd0/proof.ipynb\" style=\"text-decoration: none\">&nbsp;&#x22A2;&nbsp;&nbsp;</a><a class=\"ProveItLink\" href=\"../__pv_it/demonstrations/73e015d9da264c6efdfcec44ceeae0fbe6ef82550/expr.ipynb\"><img src=\"data:image/png;base64,iVBORw0KGgoAAAANSUhEUgAAAEoAAAAUBAMAAADYerbFAAAAMFBMVEX///+YmJiqqqqIiIgyMjLc\n",
       "3NwiIiIQEBC6urp2dnZUVFTMzMxERERmZmbu7u4AAADrYmUNAAAAAXRSTlMAQObYZgAAASNJREFU\n",
       "KM9jYMAAzC4bUAVEMhj47p5BE+RsQOJEzjzEwDCD4RUD5w9MVUx1EDbrBQZ9AaCqewwM5RiqXs36\n",
       "B7X9EwN/AlBVGQPD+gCwiExamgPMLEaoKo4KBn4HoCr/BwzrwQ7bY4dkI0wVEIBtBIL8B0CCz48B\n",
       "qyq+TAawKo6fIB5XAFZVrNPuQVSxLQBxeRiwm8Vg3gBWdRfM2e4CBA5YVLHXgVQxXwBzYrCaxRrA\n",
       "wPMJpEoXxARqwaqK/x9EFfcEBmaQKl4DbKrYDzCw/QOqCps5dxlYIAlZFTNQ1XugKxkFIOHl////\n",
       "N7DkqxMP4Kp4l3+5yMCWB+T03j0BCQkY6DyGiCEw0IPJzMBMXghVE4hRxWdAjCpGBnyqmFPQEq9J\n",
       "BgB1mllGomsgdAAAAABJRU5ErkJggg==\n",
       "\" style=\"display:inline;vertical-align:middle;\" /></a></span></td></tr>\n",
       "<tr><td>&nbsp;</td><td colspan=4 style=\"text-align:left\"><span style=\"font-size:20px;\"><a class=\"ProveItLink\" href=\"../../../../__pv_it/common/c06c606ec12678c58933ac85412ecadc2ae28be60/expr.ipynb\"><img src=\"data:image/png;base64,iVBORw0KGgoAAAANSUhEUgAAAAsAAAAJBAMAAAAWSsseAAAAMFBMVEX///9UVFSqqqrMzMwiIiJE\n",
       "RESYmJgyMjK6urru7u4QEBCIiIh2dnZmZmbc3NwAAABRgo0vAAAAAXRSTlMAQObYZgAAAEdJREFU\n",
       "CNdjYOC7c3slAwND1wP2DwwMnMsYeAMYGHh/MrBsYGDgCmCYb8DAMP8Agz5QxXwFBnGmBwysG9gc\n",
       "eYAqpTc/3MEAAP4BD32xAXDqAAAAAElFTkSuQmCC\n",
       "\" style=\"display:inline;vertical-align:middle;\" /></a> : <a class=\"ProveItLink\" href=\"../../../numerals/__pv_it/common/2778428c7f555b2bdc06aa0530bc142c6e6335100/expr.ipynb\"><img src=\"data:image/png;base64,iVBORw0KGgoAAAANSUhEUgAAAAgAAAAPBAMAAAArJJMAAAAAIVBMVEX///8yMjJmZmaIiIiYmJh2\n",
       "dnZUVFTu7u4QEBCqqqoAAAADAhFxAAAAAXRSTlMAQObYZgAAACBJREFUCNdjYAADznYGhrKw5UAW\n",
       "CykEM5BgylioAjYDAHBOCeDSSky9AAAAAElFTkSuQmCC\n",
       "\" style=\"display:inline;vertical-align:middle;\" /></a>, <a class=\"ProveItLink\" href=\"../../../../__pv_it/common/195236b98c6c564a75b5dbada74b173bc52d5c3e0/expr.ipynb\"><img src=\"data:image/png;base64,iVBORw0KGgoAAAANSUhEUgAAAAkAAAAOBAMAAAAPuiubAAAALVBMVEX///+YmJjc3NyIiIhUVFR2\n",
       "dna6urqqqqpmZmYyMjIiIiIQEBBERETu7u4AAAALjtrwAAAAAXRSTlMAQObYZgAAAE9JREFUCNdj\n",
       "4D29gAEIOBtAJF8BiMy7ACKjQATDFON2BgbelxfuKTCwv2XgM2DgmMBwLwCkPK+AgU+Aoe8CA18C\n",
       "70YGBhYBHqARvM2BDAwAqXgQspq5HJAAAAAASUVORK5CYII=\n",
       "\" style=\"display:inline;vertical-align:middle;\" /></a> : <a class=\"ProveItLink\" href=\"../../../numerals/__pv_it/common/0a19a501c0770212f27a044b71e9c626b8ca0bec0/expr.ipynb\"><img src=\"data:image/png;base64,iVBORw0KGgoAAAANSUhEUgAAAAoAAAAOBAMAAADkjZCYAAAAKlBMVEX////u7u4yMjIQEBC6uroi\n",
       "IiKIiIiYmJhmZmaqqqpERER2dnbc3NwAAAAz17lDAAAAAXRSTlMAQObYZgAAAE5JREFUCNdjYDi9\n",
       "eyUDA08Dw9wCBrabDLwBDCwmDLwKDEAAFGFgYIwGEjxbG0ECDMkOIJLZkIHnAAMXUPFFEMm8gIH1\n",
       "IgN7AVi9R8cSBgCvphDNutx7AgAAAABJRU5ErkJggg==\n",
       "\" style=\"display:inline;vertical-align:middle;\" /></a>, <a class=\"ProveItLink\" href=\"../../../../__pv_it/common/a0d9d672aa5e272d907247690c152cc2c6daafb70/expr.ipynb\"><img src=\"data:image/png;base64,iVBORw0KGgoAAAANSUhEUgAAAAsAAAAJBAMAAAAWSsseAAAALVBMVEX///9mZmaqqqrMzMxEREQy\n",
       "MjIiIiKYmJh2dna6urrc3NxUVFSIiIju7u4AAACJHQtQAAAAAXRSTlMAQObYZgAAAEJJREFUCNdj\n",
       "YLhzeuWJAwy8Dew5bAEMHBc43nIuYOBlYHFgAAG+A2DKzgBIMF04x8BzgWGegh/DcgaG22fuiBcw\n",
       "AAATyhBrnyPYZQAAAABJRU5ErkJggg==\n",
       "\" style=\"display:inline;vertical-align:middle;\" /></a> : <a class=\"ProveItLink\" href=\"../../../numerals/__pv_it/common/ba3b059982e8b49413dc653e957beb11e974e4bc0/expr.ipynb\"><img src=\"data:image/png;base64,iVBORw0KGgoAAAANSUhEUgAAAAkAAAAOBAMAAAAPuiubAAAALVBMVEX///+qqqqIiIgyMjLc3Nwi\n",
       "IiIQEBC6urp2dnZUVFTMzMxERERmZmbu7u4AAAAQI6y7AAAAAXRSTlMAQObYZgAAAFJJREFUCNdj\n",
       "4D2zewEDw00GjucMDGcZGNIYGFIZGOY5MNhdYJgHlGBgiLsAJNhfgJisE0DkGRDBdABEyjCwODBw\n",
       "NTAwOTC4dvRMZWCwe/fuKQMANh0TGKpG4roAAAAASUVORK5CYII=\n",
       "\" style=\"display:inline;vertical-align:middle;\" /></a></span></td></tr><tr><td><a name=\"0x3ace2a383d0579cc_step1\">1</a></td><td>conjecture</td><td></td><td><span style=\"font-size:20px;\"> <a class=\"ProveItLink\" href=\"proofs/relax_IntervalOC/thm_proof.ipynb\" style=\"text-decoration: none\">&nbsp;&#x22A2;&nbsp;&nbsp;</a><a class=\"ProveItLink\" href=\"../__pv_it/theorems/57c0f463c4fd93ff8082f50b24f8c32bb9e895250/expr.ipynb\"><img src=\"data:image/png;base64,iVBORw0KGgoAAAANSUhEUgAAAPoAAAAZBAMAAADqEi4iAAAAMFBMVEX///8QEBCIiIhmZma6urrM\n",
       "zMxUVFQiIiJERETc3Nzu7u6qqqp2dnaYmJgyMjIAAAAcRTyBAAAAAXRSTlMAQObYZgAAA+VJREFU\n",
       "SMfdll9oHEUcx7+3d3u3t7d750NfalGOpCYlWjkS0AetRoXSSv+cPrQ+CAmpUSsa8lAbDUXOvHRr\n",
       "ERYfYhBaRvJQei29wz6UBMGlrSiprQsVbIOGQ9CCQjmCBRNB/M3M3t3s9cy2D3lx4G7+MDufmd/v\n",
       "O7/5AdHljQkX61ASE0fuZdo41qlM/6/oJzoNPv5ruG/fGsScpNd49XMEPSs+8iPhZqnT6GV1xod0\n",
       "FmsQSVfQr/Cx3yPoVpWqLIukZ90oOrIFQTdrgj5D/+lSBF1MmIk2/HVE0nNVQcdFQecnEkdb0+/c\n",
       "OFei6e+H3Ht04oO76XuZpH8u6PZCufxppOp+KpdPR4svrU7Rp1ins38DSc8OCs3/5ThHIuk5xznq\n",
       "hQYVDy8VgoZGDbPr4PPcqjjHFMunn+5/UHZ+63pK0K2CoI8Cx5rh5/Z/0JNFGCFFWY3GHpJPQzYG\n",
       "3Yqz+DEvDH5Q9ftzbrYuNf8Pq7icbtcE/QWpP1kuBfWFLQd+UemJAs6FdtRcm5+hQU+RfhbwPdvJ\n",
       "OyWFbj6EuOxnVpHLc3pmXNBT0FoX+Q++vS8HfM3CQl6NNuPY2uieubQNetMN2WoLFKNVGRzp9odv\n",
       "Uwno8VWk5HLxGioep+t1Qbf8VOtIK/S7MVcG0Rd9lX61GfHs458x7onGDXLDdGBZKlA9e6yESrFx\n",
       "3fdWFXq6to9GZ3t4ONSXe1iCa4jTPZV+Uh+mjXa/PEqe4jYmE/WP8QWHut4KWR76Hdl5QKFXPHwV\n",
       "bNbHs4zTE9LyOPYaLfWuvsqhk1pBRFWiDxRUujFNX/Qla4dkaKY7eqo4xFXdy7pDqpvX6ujjnX6V\n",
       "XsVYRqg2N0gaUFSH87R6vKALRt6uzQp6/PVDoVcm8yT9FbM+TLGpHcAA9vPWFJaadFJg4m+jnvab\n",
       "hgjotO5hCxUCJn2jIOhxT9JzpIdYVRsWjosP73ccJ69Zn/wQfuOWAyfr7znOFLYDm9DDhzbgiSad\n",
       "rGmO9HXLN8t888WW5kcemd6M1CT319Ug2hQl3SYDVlxjkaoci1WT0vKZV1mIvsj/hlAE3yVegbmC\n",
       "j8vUWqVtlDpG2sS37ZF2vmEjop9S3veYO7QbMyzFbsAqSr8veO3ve7p+DR6+5k36dqP+p5/+CJN2\n",
       "qUWPeGU8hX5RoSdGvtiGl6r62zThOI8217zZZ9rp5ju7HmMwuD9TDNsf7fb1Tdj3nRJYjDVfWDPf\n",
       "ogcvrFqkTjTy+1q5zRbyuxZIKoNQWFs7u7DRohtuOz3j3ntmFWDmwvTOmVVvW2alUWZ18668zr6P\n",
       "vG63rPw2+jpklRMd8vlMpxf2fvP5w/8CBm8Zte2gusMAAAAASUVORK5CYII=\n",
       "\" style=\"display:inline;vertical-align:middle;\" /></a></span></td></tr>\n",
       "<tr><td>&nbsp;</td><td colspan=4 style-\"text-align:left\"><a class=\"ProveItLink\" href=\"proofs/relax_IntervalOC/thm_proof.ipynb\">proveit.numbers.number_sets.real_numbers.relax_IntervalOC</a></td></tr><tr><td><a name=\"0x3ace2a383d0579cc_step2\">2</a></td><td><i>reference</i></td><td><a href=\"#0x3ace2a383d0579cc_step6\">6</a></td><td><span style=\"font-size:20px;\"> <a class=\"ProveItLink\" href=\"../__pv_it/demonstrations/44e968bfc01d8f82a6d6e58e5a51d52a3b76a33a0/proof.ipynb\" style=\"text-decoration: none\">&nbsp;&#x22A2;&nbsp;&nbsp;</a><a class=\"ProveItLink\" href=\"../__pv_it/demonstrations/158a8b4ba0e3a97d00705156d510abde8b722cfa0/expr.ipynb\"><img src=\"data:image/png;base64,iVBORw0KGgoAAAANSUhEUgAAADIAAAAPBAMAAABU9YHxAAAAMFBMVEX///+6urrc3NzMzMwiIiJE\n",
       "REQyMjJmZmaIiIiYmJh2dnZUVFTu7u4QEBCqqqoAAABhZHJKAAAAAXRSTlMAQObYZgAAAKNJREFU\n",
       "GNNjYEAHnL6h33IjQSy+O2hSbDwbmCNjGBhOr/6DJsPKtIAhQBukGyYz1cUlASZTxIYkY9qDpKeI\n",
       "FSHDk4Ns2gZphAy3ApIMn3sOQoYVyQVXXPIYEDK2aUAAdcHCghgkGVVkVxeaIsnwIsuwnmxAyLA3\n",
       "IMkwbygGMjig/vFDCh2GddwGDOx7v1WCBU4HHoCHqAFr2D+k8JIKgYQOFAAAkJkv0ItwCngAAAAA\n",
       "SUVORK5CYII=\n",
       "\" style=\"display:inline;vertical-align:middle;\" /></a></span></td></tr>\n",
       "<tr><td><a name=\"0x3ace2a383d0579cc_step3\">3</a></td><td><i>reference</i></td><td><a href=\"#0x3ace2a383d0579cc_step7\">7</a></td><td><span style=\"font-size:20px;\"> <a class=\"ProveItLink\" href=\"../__pv_it/demonstrations/417ada74f4593967fa2d78307f440fc408f447b50/proof.ipynb\" style=\"text-decoration: none\">&nbsp;&#x22A2;&nbsp;&nbsp;</a><a class=\"ProveItLink\" href=\"../__pv_it/demonstrations/4096e74b8e7ef474727090d8722c9e439b29a9dd0/expr.ipynb\"><img src=\"data:image/png;base64,iVBORw0KGgoAAAANSUhEUgAAADMAAAAPBAMAAAC7N+rPAAAAMFBMVEX///9UVFTMzMzu7u4yMjIQ\n",
       "EBC6uroiIiKIiIiYmJhmZmaqqqpERER2dnbc3NwAAACDMjhQAAAAAXRSTlMAQObYZgAAANRJREFU\n",
       "GNNjYHh79zQDCpgec94lZgKQwbeAYf8EVDkHQwadOQYMDBy/GfgLUKUOvGXg4RNgYGALY+B3AItw\n",
       "Hi8vgUlxPYCIQQxkOmGA0MX14ACIxVwLFjAxQDKQkU0A5I7ri8ECcsh2bV8CUdiaABZASD0tL9kA\n",
       "YbIGg6wKcQECqK4sHpAmvgcMPL9BNJKut1xJIB7/Z4gUQwCyXYdngEw7wMD+GSSwAllKkUsB6NEJ\n",
       "UH+xb0AKKN4NQkBG1qpjYAFmmWR48DoxnPHfgBR0bHegAQUFADmlQtNh0ST9AAAAAElFTkSuQmCC\n",
       "\" style=\"display:inline;vertical-align:middle;\" /></a></span></td></tr>\n",
       "<tr><td><a name=\"0x3ace2a383d0579cc_step4\">4</a></td><td>instantiation</td><td><a href=\"#0x3ace2a383d0579cc_step5\">5</a>, <a href=\"#0x3ace2a383d0579cc_step6\">6</a>, <a href=\"#0x3ace2a383d0579cc_step7\">7</a>, <a href=\"#0x3ace2a383d0579cc_step8\">8</a>, <a href=\"#0x3ace2a383d0579cc_step9\">9</a>, <a href=\"#0x3ace2a383d0579cc_step10\">10</a></td><td><span style=\"font-size:20px;\"> <a class=\"ProveItLink\" href=\"../__pv_it/demonstrations/38d68f6e1d666bfac5d3d482cf29316e8347f4ad0/proof.ipynb\" style=\"text-decoration: none\">&nbsp;&#x22A2;&nbsp;&nbsp;</a><a class=\"ProveItLink\" href=\"../__pv_it/demonstrations/dab929e46500e90926437640716cb691276812e60/expr.ipynb\"><img src=\"data:image/png;base64,iVBORw0KGgoAAAANSUhEUgAAAEwAAAAUBAMAAADVZMaCAAAAMFBMVEX///+YmJiqqqqIiIgyMjLc\n",
       "3NwiIiIQEBC6urp2dnZUVFTMzMxERERmZmbu7u4AAADrYmUNAAAAAXRSTlMAQObYZgAAAUVJREFU\n",
       "KM9jYMACAtH4IhkMfHfPbEAT5TuAxImceYiBYQbDKwbOH2jKWAIYGJjqIGzWCwz6AkBl9xgYytGU\n",
       "yTIwvJr1D8Jm/sTAnwBUVsbAsD4ALCKTluYAZqQCMSNUGUcFA78DUJn/A4b1YMftsYMaxpqApAwI\n",
       "wJYCQf4DkLv9YMLMF1CU8WUygJVx/ATxuAJg4jwCyMpYp92DKGNbAJaEW8KmgGqpeQNY2V0wZ7sL\n",
       "EIC9wN6Aqoy9DqQM7BQGhhiEMLIy1gAGnk8gZbogJlASu6X8/yDKuCcwMIOU8Rpg9QL7AQa2f0Bl\n",
       "YTPnLgMLJMGUcYJcwQxU9h7oVEYBSLj5////DSz76sQDaMADg5d3+ZeLDGx5QF7v3ROQAIGBzmNI\n",
       "kQUGejDGDGzJTRbGmIBXGQ80QvgM8CqDJUtGBrzKMBK5SQYArdBVk3NTsqgAAAAASUVORK5CYII=\n",
       "\" style=\"display:inline;vertical-align:middle;\" /></a></span></td></tr>\n",
       "<tr><td>&nbsp;</td><td colspan=4 style=\"text-align:left\"><span style=\"font-size:20px;\"><a class=\"ProveItLink\" href=\"../../../../__pv_it/common/c06c606ec12678c58933ac85412ecadc2ae28be60/expr.ipynb\"><img src=\"data:image/png;base64,iVBORw0KGgoAAAANSUhEUgAAAAsAAAAJBAMAAAAWSsseAAAAMFBMVEX///9UVFSqqqrMzMwiIiJE\n",
       "RESYmJgyMjK6urru7u4QEBCIiIh2dnZmZmbc3NwAAABRgo0vAAAAAXRSTlMAQObYZgAAAEdJREFU\n",
       "CNdjYOC7c3slAwND1wP2DwwMnMsYeAMYGHh/MrBsYGDgCmCYb8DAMP8Agz5QxXwFBnGmBwysG9gc\n",
       "eYAqpTc/3MEAAP4BD32xAXDqAAAAAElFTkSuQmCC\n",
       "\" style=\"display:inline;vertical-align:middle;\" /></a> : <a class=\"ProveItLink\" href=\"../../../numerals/__pv_it/common/2778428c7f555b2bdc06aa0530bc142c6e6335100/expr.ipynb\"><img src=\"data:image/png;base64,iVBORw0KGgoAAAANSUhEUgAAAAgAAAAPBAMAAAArJJMAAAAAIVBMVEX///8yMjJmZmaIiIiYmJh2\n",
       "dnZUVFTu7u4QEBCqqqoAAAADAhFxAAAAAXRSTlMAQObYZgAAACBJREFUCNdjYAADznYGhrKw5UAW\n",
       "CykEM5BgylioAjYDAHBOCeDSSky9AAAAAElFTkSuQmCC\n",
       "\" style=\"display:inline;vertical-align:middle;\" /></a>, <a class=\"ProveItLink\" href=\"../../../../__pv_it/common/195236b98c6c564a75b5dbada74b173bc52d5c3e0/expr.ipynb\"><img src=\"data:image/png;base64,iVBORw0KGgoAAAANSUhEUgAAAAkAAAAOBAMAAAAPuiubAAAALVBMVEX///+YmJjc3NyIiIhUVFR2\n",
       "dna6urqqqqpmZmYyMjIiIiIQEBBERETu7u4AAAALjtrwAAAAAXRSTlMAQObYZgAAAE9JREFUCNdj\n",
       "4D29gAEIOBtAJF8BiMy7ACKjQATDFON2BgbelxfuKTCwv2XgM2DgmMBwLwCkPK+AgU+Aoe8CA18C\n",
       "70YGBhYBHqARvM2BDAwAqXgQspq5HJAAAAAASUVORK5CYII=\n",
       "\" style=\"display:inline;vertical-align:middle;\" /></a> : <a class=\"ProveItLink\" href=\"../../../numerals/__pv_it/common/0a19a501c0770212f27a044b71e9c626b8ca0bec0/expr.ipynb\"><img src=\"data:image/png;base64,iVBORw0KGgoAAAANSUhEUgAAAAoAAAAOBAMAAADkjZCYAAAAKlBMVEX////u7u4yMjIQEBC6uroi\n",
       "IiKIiIiYmJhmZmaqqqpERER2dnbc3NwAAAAz17lDAAAAAXRSTlMAQObYZgAAAE5JREFUCNdjYDi9\n",
       "eyUDA08Dw9wCBrabDLwBDCwmDLwKDEAAFGFgYIwGEjxbG0ECDMkOIJLZkIHnAAMXUPFFEMm8gIH1\n",
       "IgN7AVi9R8cSBgCvphDNutx7AgAAAABJRU5ErkJggg==\n",
       "\" style=\"display:inline;vertical-align:middle;\" /></a>, <a class=\"ProveItLink\" href=\"../../../../__pv_it/common/a0d9d672aa5e272d907247690c152cc2c6daafb70/expr.ipynb\"><img src=\"data:image/png;base64,iVBORw0KGgoAAAANSUhEUgAAAAsAAAAJBAMAAAAWSsseAAAALVBMVEX///9mZmaqqqrMzMxEREQy\n",
       "MjIiIiKYmJh2dna6urrc3NxUVFSIiIju7u4AAACJHQtQAAAAAXRSTlMAQObYZgAAAEJJREFUCNdj\n",
       "YLhzeuWJAwy8Dew5bAEMHBc43nIuYOBlYHFgAAG+A2DKzgBIMF04x8BzgWGegh/DcgaG22fuiBcw\n",
       "AAATyhBrnyPYZQAAAABJRU5ErkJggg==\n",
       "\" style=\"display:inline;vertical-align:middle;\" /></a> : <a class=\"ProveItLink\" href=\"../../../numerals/__pv_it/common/ba3b059982e8b49413dc653e957beb11e974e4bc0/expr.ipynb\"><img src=\"data:image/png;base64,iVBORw0KGgoAAAANSUhEUgAAAAkAAAAOBAMAAAAPuiubAAAALVBMVEX///+qqqqIiIgyMjLc3Nwi\n",
       "IiIQEBC6urp2dnZUVFTMzMxERERmZmbu7u4AAAAQI6y7AAAAAXRSTlMAQObYZgAAAFJJREFUCNdj\n",
       "4D2zewEDw00GjucMDGcZGNIYGFIZGOY5MNhdYJgHlGBgiLsAJNhfgJisE0DkGRDBdABEyjCwODBw\n",
       "NTAwOTC4dvRMZWCwe/fuKQMANh0TGKpG4roAAAAASUVORK5CYII=\n",
       "\" style=\"display:inline;vertical-align:middle;\" /></a></span></td></tr><tr><td><a name=\"0x3ace2a383d0579cc_step5\">5</a></td><td>conjecture</td><td></td><td><span style=\"font-size:20px;\"> <a class=\"ProveItLink\" href=\"proofs/in_IntervalOC/thm_proof.ipynb\" style=\"text-decoration: none\">&nbsp;&#x22A2;&nbsp;&nbsp;</a><a class=\"ProveItLink\" href=\"../__pv_it/theorems/ef1023a3a581725be92c3aabdc7380daaa96125c0/expr.ipynb\"><img src=\"data:image/png;base64,iVBORw0KGgoAAAANSUhEUgAAAQMAAAAWBAMAAAA2k+RkAAAAMFBMVEX///8QEBCIiIhmZma6urrM\n",
       "zMxUVFQiIiJERETc3Nzu7u6qqqp2dnaYmJgyMjIAAAAcRTyBAAAAAXRSTlMAQObYZgAAA21JREFU\n",
       "SMe1lk9IFFEcx387u+Pszs6ulyAIgiVLQkKWJOhQYnWQoGC9lIcg2f6QUOLBkjRCyGolgqWDeYlG\n",
       "BAsRdqmDf4hctk4b2EBCJiRidUhRFilILej3/szMm3FCg/XBzpv39vt7+5nfv1mA7RhPPHdDhmtj\n",
       "tg3GcJoj959LS6B2eW4/dyx24uUtlKUB3pH1QmkRomnP7e+O1ReKoKIL+oiHukqL8MFzNxJ3LNcp\n",
       "AuSRWAfQsqVFuOlYTbe302grDt8E1hhCP7IVhoYel5Yg1CquGqv4jfNXtFaGEK0D+JVK3SotgoQe\n",
       "V/c0H8/T1LTyrILQHTm4i+dLsiJLEDQUXwLosbyz/K9j6zb9Yds2iMU3DB9jt8mizHL/Q/wcS0eL\n",
       "bJVZUFcJQgSDdIJmJR9vnMeO7L8wz+6cCRvQ3QCjgq2CqVWA9/pJymNJOtElu8HPT5rQYYUghDEg\n",
       "Ckh2y1gUivtVjSFpUIhtRJDvuQlexwRbH7pMhxRbNCzjoM+4A8C/Bgo7D2pB/U0QZPSKZij2UatC\n",
       "Io8NASLMGBsQQlfcdT9riLY+GrUVtuizRIjg64JMwmwLgXUTITR3BncGKr+Rx1upJC7OH6pMBEgV\n",
       "E4ScgEBV6uEE15hTtWHb8kCA/JPziIHI5GCCr/4QlyBCgFRGz0U89rpM6lTqINks6S1KXRQYQk3c\n",
       "RqAqdZI8JNXwqZ62FWZrpuO4VARajf6YkI6ZLLSEmQt/QL9hpiO8RA5/XCY0wRjZkWEJH5ge67/c\n",
       "JqQjVTXQyFANn4a7wbKlJR9HJweL/K3UKaQ6am5okCG6a3CH9gU/8XI5cvqyUhONor+Jp8TZVCoV\n",
       "k7RHUwICVWlfHWlDpuEHgi31rZqsquDvvsFuHp96dGNyX+9eUDpITA8YrDWRcEZQkkkHZ3Aq1300\n",
       "jkUZylggwud0G4GpBu4C11iTtGjZbmzQp+67G/S4eYMIz6wkTp8/DX26ok/j9ak2p4GWYLlQENKR\n",
       "qgB6sZVRDZeSx1gCYrvF11ROQMhbvSb54ig0ZOWrObwOTuULAMS5I5O5gVobgapIoTUD1ZhSHGGd\n",
       "2Jrt0ftlbTZhNWYjCG2RjqxwBQlzwf7K2R0b06LB//5liYCN4KJl5RL2fATPQ72lW//jVt0Gn1zB\n",
       "cjFuisClo1g8KR22e8S37+i/0pwVLAnVwM4AAAAASUVORK5CYII=\n",
       "\" style=\"display:inline;vertical-align:middle;\" /></a></span></td></tr>\n",
       "<tr><td>&nbsp;</td><td colspan=4 style-\"text-align:left\"><a class=\"ProveItLink\" href=\"proofs/in_IntervalOC/thm_proof.ipynb\">proveit.numbers.number_sets.real_numbers.in_IntervalOC</a></td></tr><tr><td><a name=\"0x3ace2a383d0579cc_step6\">6</a></td><td>instantiation</td><td><a href=\"#0x3ace2a383d0579cc_step23\">23</a>, <a href=\"#0x3ace2a383d0579cc_step13\">13</a>, <a href=\"#0x3ace2a383d0579cc_step11\">11</a></td><td><span style=\"font-size:20px;\"> <a class=\"ProveItLink\" href=\"../__pv_it/demonstrations/44e968bfc01d8f82a6d6e58e5a51d52a3b76a33a0/proof.ipynb\" style=\"text-decoration: none\">&nbsp;&#x22A2;&nbsp;&nbsp;</a><a class=\"ProveItLink\" href=\"../__pv_it/demonstrations/158a8b4ba0e3a97d00705156d510abde8b722cfa0/expr.ipynb\"><img src=\"data:image/png;base64,iVBORw0KGgoAAAANSUhEUgAAADIAAAAPBAMAAABU9YHxAAAAMFBMVEX///+6urrc3NzMzMwiIiJE\n",
       "REQyMjJmZmaIiIiYmJh2dnZUVFTu7u4QEBCqqqoAAABhZHJKAAAAAXRSTlMAQObYZgAAAKNJREFU\n",
       "GNNjYEAHnL6h33IjQSy+O2hSbDwbmCNjGBhOr/6DJsPKtIAhQBukGyYz1cUlASZTxIYkY9qDpKeI\n",
       "FSHDk4Ns2gZphAy3ApIMn3sOQoYVyQVXXPIYEDK2aUAAdcHCghgkGVVkVxeaIsnwIsuwnmxAyLA3\n",
       "IMkwbygGMjig/vFDCh2GddwGDOx7v1WCBU4HHoCHqAFr2D+k8JIKgYQOFAAAkJkv0ItwCngAAAAA\n",
       "SUVORK5CYII=\n",
       "\" style=\"display:inline;vertical-align:middle;\" /></a></span></td></tr>\n",
       "<tr><td>&nbsp;</td><td colspan=4 style=\"text-align:left\"><span style=\"font-size:20px;\"><a class=\"ProveItLink\" href=\"../../../../__pv_it/common/09585084922504426caf1db2ff588a23a0932a960/expr.ipynb\"><img src=\"data:image/png;base64,iVBORw0KGgoAAAANSUhEUgAAAA8AAAAOBAMAAAACpFvcAAAALVBMVEX///8iIiIQEBBERERUVFS6\n",
       "urqIiIjc3NxmZmaqqqru7u6YmJgyMjLMzMwAAACK9jtgAAAAAXRSTlMAQObYZgAAAFtJREFUCNdj\n",
       "YACBOwxQcA5Kc59bAGGs7CuAMDbkBYBp1gXzNoAZSxnuJYAZAQx1DSCa16PDzwCshIGB6QCIMYGB\n",
       "gVEBSLMDGTwPgIxCIGZ+zsCw+N0pBk67hw0AfpEVEQi8t+wAAAAASUVORK5CYII=\n",
       "\" style=\"display:inline;vertical-align:middle;\" /></a> : <a class=\"ProveItLink\" href=\"../../rational_numbers/__pv_it/common/3de3e316334b6ece430a3f1aee01ae68b192ecb30/expr.ipynb\"><img src=\"data:image/png;base64,iVBORw0KGgoAAAANSUhEUgAAABAAAAARBAMAAAAmgTH3AAAALVBMVEX///+qqqp2dnaYmJiIiIjc\n",
       "3NwiIiLu7u66urpUVFQyMjJERERmZmbMzMwAAAAPPdWlAAAAAXRSTlMAQObYZgAAAIFJREFUCNdj\n",
       "YGC4s3vXDAYgqJwWwL5yO5Cx4yyQc6uAgcVgAQMDd8UEBi7WAwwMLA3bGSJ5DRgYOAw0GFoYBRgY\n",
       "eB2EGa5AGIIMnGApAVUGbojiCUB1G0DagcIaIAPvAE1mPhbAvsYAZBnzq3UCDGCgwTgBwmBSlTqi\n",
       "AGbF7F7TAADtgR4r3cUBHgAAAABJRU5ErkJggg==\n",
       "\" style=\"display:inline;vertical-align:middle;\" /></a>, <a class=\"ProveItLink\" href=\"../../../../__pv_it/common/a9162d1c3cc0470c02e5daf414500903a7a419230/expr.ipynb\"><img src=\"data:image/png;base64,iVBORw0KGgoAAAANSUhEUgAAABAAAAAOBAMAAADUAYG5AAAALVBMVEX///8yMjKqqqoiIiLu7u7c\n",
       "3NyIiIjMzMwQEBC6urpERERmZmZUVFSYmJgAAACsPVCVAAAAAXRSTlMAQObYZgAAAGxJREFUCNdj\n",
       "YGC48+70nlUTGICgi4GB+zmQZn/LwMD5Gshge8rAwPsMyOBqYGDwMAEy+A4wsNs4ABl1Z68tVgBp\n",
       "ygtgYOkBMVaAOCChNyBGAsQYhnMTIMawvwJyGIHGzFjCwMAj92b3qUUMDAAXABxvZ4rl5AAAAABJ\n",
       "RU5ErkJggg==\n",
       "\" style=\"display:inline;vertical-align:middle;\" /></a> : <a class=\"ProveItLink\" href=\"../__pv_it/common/93cac87a1a47e613f7a83b23ef7891599a1a4cca0/expr.ipynb\"><img src=\"data:image/png;base64,iVBORw0KGgoAAAANSUhEUgAAAA8AAAAOBAMAAAACpFvcAAAAMFBMVEX///+IiIiqqqq6urpmZmZ2\n",
       "dnbc3NzMzMxUVFTu7u4yMjJEREQQEBAiIiKYmJgAAACIyPRpAAAAAXRSTlMAQObYZgAAAFlJREFU\n",
       "CNdjeHt6/6rTDxiAYMEMhurXE4CMDakM3GwNEAZLwgIYYwOEwcEMldL1AivOuXtLgQEsYsI9AcJg\n",
       "Md8AYTDsfAhlVLAUQKxgVWhnYABaupxh93oFAP7MI7KHKGXxAAAAAElFTkSuQmCC\n",
       "\" style=\"display:inline;vertical-align:middle;\" /></a>, <a class=\"ProveItLink\" href=\"../../../../__pv_it/common/a0d9d672aa5e272d907247690c152cc2c6daafb70/expr.ipynb\"><img src=\"data:image/png;base64,iVBORw0KGgoAAAANSUhEUgAAAAsAAAAJBAMAAAAWSsseAAAALVBMVEX///9mZmaqqqrMzMxEREQy\n",
       "MjIiIiKYmJh2dna6urrc3NxUVFSIiIju7u4AAACJHQtQAAAAAXRSTlMAQObYZgAAAEJJREFUCNdj\n",
       "YLhzeuWJAwy8Dew5bAEMHBc43nIuYOBlYHFgAAG+A2DKzgBIMF04x8BzgWGegh/DcgaG22fuiBcw\n",
       "AAATyhBrnyPYZQAAAABJRU5ErkJggg==\n",
       "\" style=\"display:inline;vertical-align:middle;\" /></a> : <a class=\"ProveItLink\" href=\"../../../numerals/__pv_it/common/2778428c7f555b2bdc06aa0530bc142c6e6335100/expr.ipynb\"><img src=\"data:image/png;base64,iVBORw0KGgoAAAANSUhEUgAAAAgAAAAPBAMAAAArJJMAAAAAIVBMVEX///8yMjJmZmaIiIiYmJh2\n",
       "dnZUVFTu7u4QEBCqqqoAAAADAhFxAAAAAXRSTlMAQObYZgAAACBJREFUCNdjYAADznYGhrKw5UAW\n",
       "CykEM5BgylioAjYDAHBOCeDSSky9AAAAAElFTkSuQmCC\n",
       "\" style=\"display:inline;vertical-align:middle;\" /></a></span></td></tr><tr><td><a name=\"0x3ace2a383d0579cc_step7\">7</a></td><td>instantiation</td><td><a href=\"#0x3ace2a383d0579cc_step23\">23</a>, <a href=\"#0x3ace2a383d0579cc_step13\">13</a>, <a href=\"#0x3ace2a383d0579cc_step12\">12</a></td><td><span style=\"font-size:20px;\"> <a class=\"ProveItLink\" href=\"../__pv_it/demonstrations/417ada74f4593967fa2d78307f440fc408f447b50/proof.ipynb\" style=\"text-decoration: none\">&nbsp;&#x22A2;&nbsp;&nbsp;</a><a class=\"ProveItLink\" href=\"../__pv_it/demonstrations/4096e74b8e7ef474727090d8722c9e439b29a9dd0/expr.ipynb\"><img src=\"data:image/png;base64,iVBORw0KGgoAAAANSUhEUgAAADMAAAAPBAMAAAC7N+rPAAAAMFBMVEX///9UVFTMzMzu7u4yMjIQ\n",
       "EBC6uroiIiKIiIiYmJhmZmaqqqpERER2dnbc3NwAAACDMjhQAAAAAXRSTlMAQObYZgAAANRJREFU\n",
       "GNNjYHh79zQDCpgec94lZgKQwbeAYf8EVDkHQwadOQYMDBy/GfgLUKUOvGXg4RNgYGALY+B3AItw\n",
       "Hi8vgUlxPYCIQQxkOmGA0MX14ACIxVwLFjAxQDKQkU0A5I7ri8ECcsh2bV8CUdiaABZASD0tL9kA\n",
       "YbIGg6wKcQECqK4sHpAmvgcMPL9BNJKut1xJIB7/Z4gUQwCyXYdngEw7wMD+GSSwAllKkUsB6NEJ\n",
       "UH+xb0AKKN4NQkBG1qpjYAFmmWR48DoxnPHfgBR0bHegAQUFADmlQtNh0ST9AAAAAElFTkSuQmCC\n",
       "\" style=\"display:inline;vertical-align:middle;\" /></a></span></td></tr>\n",
       "<tr><td>&nbsp;</td><td colspan=4 style=\"text-align:left\"><span style=\"font-size:20px;\"><a class=\"ProveItLink\" href=\"../../../../__pv_it/common/09585084922504426caf1db2ff588a23a0932a960/expr.ipynb\"><img src=\"data:image/png;base64,iVBORw0KGgoAAAANSUhEUgAAAA8AAAAOBAMAAAACpFvcAAAALVBMVEX///8iIiIQEBBERERUVFS6\n",
       "urqIiIjc3NxmZmaqqqru7u6YmJgyMjLMzMwAAACK9jtgAAAAAXRSTlMAQObYZgAAAFtJREFUCNdj\n",
       "YACBOwxQcA5Kc59bAGGs7CuAMDbkBYBp1gXzNoAZSxnuJYAZAQx1DSCa16PDzwCshIGB6QCIMYGB\n",
       "gVEBSLMDGTwPgIxCIGZ+zsCw+N0pBk67hw0AfpEVEQi8t+wAAAAASUVORK5CYII=\n",
       "\" style=\"display:inline;vertical-align:middle;\" /></a> : <a class=\"ProveItLink\" href=\"../../rational_numbers/__pv_it/common/3de3e316334b6ece430a3f1aee01ae68b192ecb30/expr.ipynb\"><img src=\"data:image/png;base64,iVBORw0KGgoAAAANSUhEUgAAABAAAAARBAMAAAAmgTH3AAAALVBMVEX///+qqqp2dnaYmJiIiIjc\n",
       "3NwiIiLu7u66urpUVFQyMjJERERmZmbMzMwAAAAPPdWlAAAAAXRSTlMAQObYZgAAAIFJREFUCNdj\n",
       "YGC4s3vXDAYgqJwWwL5yO5Cx4yyQc6uAgcVgAQMDd8UEBi7WAwwMLA3bGSJ5DRgYOAw0GFoYBRgY\n",
       "eB2EGa5AGIIMnGApAVUGbojiCUB1G0DagcIaIAPvAE1mPhbAvsYAZBnzq3UCDGCgwTgBwmBSlTqi\n",
       "AGbF7F7TAADtgR4r3cUBHgAAAABJRU5ErkJggg==\n",
       "\" style=\"display:inline;vertical-align:middle;\" /></a>, <a class=\"ProveItLink\" href=\"../../../../__pv_it/common/a9162d1c3cc0470c02e5daf414500903a7a419230/expr.ipynb\"><img src=\"data:image/png;base64,iVBORw0KGgoAAAANSUhEUgAAABAAAAAOBAMAAADUAYG5AAAALVBMVEX///8yMjKqqqoiIiLu7u7c\n",
       "3NyIiIjMzMwQEBC6urpERERmZmZUVFSYmJgAAACsPVCVAAAAAXRSTlMAQObYZgAAAGxJREFUCNdj\n",
       "YGC48+70nlUTGICgi4GB+zmQZn/LwMD5Gshge8rAwPsMyOBqYGDwMAEy+A4wsNs4ABl1Z68tVgBp\n",
       "ygtgYOkBMVaAOCChNyBGAsQYhnMTIMawvwJyGIHGzFjCwMAj92b3qUUMDAAXABxvZ4rl5AAAAABJ\n",
       "RU5ErkJggg==\n",
       "\" style=\"display:inline;vertical-align:middle;\" /></a> : <a class=\"ProveItLink\" href=\"../__pv_it/common/93cac87a1a47e613f7a83b23ef7891599a1a4cca0/expr.ipynb\"><img src=\"data:image/png;base64,iVBORw0KGgoAAAANSUhEUgAAAA8AAAAOBAMAAAACpFvcAAAAMFBMVEX///+IiIiqqqq6urpmZmZ2\n",
       "dnbc3NzMzMxUVFTu7u4yMjJEREQQEBAiIiKYmJgAAACIyPRpAAAAAXRSTlMAQObYZgAAAFlJREFU\n",
       "CNdjeHt6/6rTDxiAYMEMhurXE4CMDakM3GwNEAZLwgIYYwOEwcEMldL1AivOuXtLgQEsYsI9AcJg\n",
       "Md8AYTDsfAhlVLAUQKxgVWhnYABaupxh93oFAP7MI7KHKGXxAAAAAElFTkSuQmCC\n",
       "\" style=\"display:inline;vertical-align:middle;\" /></a>, <a class=\"ProveItLink\" href=\"../../../../__pv_it/common/a0d9d672aa5e272d907247690c152cc2c6daafb70/expr.ipynb\"><img src=\"data:image/png;base64,iVBORw0KGgoAAAANSUhEUgAAAAsAAAAJBAMAAAAWSsseAAAALVBMVEX///9mZmaqqqrMzMxEREQy\n",
       "MjIiIiKYmJh2dna6urrc3NxUVFSIiIju7u4AAACJHQtQAAAAAXRSTlMAQObYZgAAAEJJREFUCNdj\n",
       "YLhzeuWJAwy8Dew5bAEMHBc43nIuYOBlYHFgAAG+A2DKzgBIMF04x8BzgWGegh/DcgaG22fuiBcw\n",
       "AAATyhBrnyPYZQAAAABJRU5ErkJggg==\n",
       "\" style=\"display:inline;vertical-align:middle;\" /></a> : <a class=\"ProveItLink\" href=\"../../../numerals/__pv_it/common/0a19a501c0770212f27a044b71e9c626b8ca0bec0/expr.ipynb\"><img src=\"data:image/png;base64,iVBORw0KGgoAAAANSUhEUgAAAAoAAAAOBAMAAADkjZCYAAAAKlBMVEX////u7u4yMjIQEBC6uroi\n",
       "IiKIiIiYmJhmZmaqqqpERER2dnbc3NwAAAAz17lDAAAAAXRSTlMAQObYZgAAAE5JREFUCNdjYDi9\n",
       "eyUDA08Dw9wCBrabDLwBDCwmDLwKDEAAFGFgYIwGEjxbG0ECDMkOIJLZkIHnAAMXUPFFEMm8gIH1\n",
       "IgN7AVi9R8cSBgCvphDNutx7AgAAAABJRU5ErkJggg==\n",
       "\" style=\"display:inline;vertical-align:middle;\" /></a></span></td></tr><tr><td><a name=\"0x3ace2a383d0579cc_step8\">8</a></td><td>instantiation</td><td><a href=\"#0x3ace2a383d0579cc_step23\">23</a>, <a href=\"#0x3ace2a383d0579cc_step13\">13</a>, <a href=\"#0x3ace2a383d0579cc_step14\">14</a></td><td><span style=\"font-size:20px;\"> <a class=\"ProveItLink\" href=\"../__pv_it/demonstrations/6e35ecb3ef0260ad450b561d2b66e43b5b49bb7a0/proof.ipynb\" style=\"text-decoration: none\">&nbsp;&#x22A2;&nbsp;&nbsp;</a><a class=\"ProveItLink\" href=\"../__pv_it/demonstrations/b11f5a8f29a9c8de32a487181b2c9b63e96a05d50/expr.ipynb\"><img src=\"data:image/png;base64,iVBORw0KGgoAAAANSUhEUgAAADIAAAAPBAMAAABU9YHxAAAAMFBMVEX///+YmJiqqqqIiIgyMjLc\n",
       "3NwiIiIQEBC6urp2dnZUVFTMzMxERERmZmbu7u4AAADrYmUNAAAAAXRSTlMAQObYZgAAANVJREFU\n",
       "GNNj4Lt7ZgMDMmBMP/PF/SCQ8YqB8weKDAML3wLug+cYGO4xMJSjyvCwTmA4EMXAUMbAsD4ALCKT\n",
       "luYAk7nKwsDg/4BhPdiiPXZIeq7ygJn5D4AEnx+yaQu6QCyOnyCSKwBJhikXrI5tAZiP5IKyNCcw\n",
       "6y6Y3O4CBFAXzLhwDsRgvgCWiUF29Y09IIYuAyvICnZkGZ6HBgwM3BMYmEEyvAZIMtwLbjMwhM2c\n",
       "uwwskIQUOgyTuDYw+P///w0s8OrEA3iIbuA58gkpvDqPQUIHCgBnrj0uOO3EnwAAAABJRU5ErkJg\n",
       "gg==\n",
       "\" style=\"display:inline;vertical-align:middle;\" /></a></span></td></tr>\n",
       "<tr><td>&nbsp;</td><td colspan=4 style=\"text-align:left\"><span style=\"font-size:20px;\"><a class=\"ProveItLink\" href=\"../../../../__pv_it/common/09585084922504426caf1db2ff588a23a0932a960/expr.ipynb\"><img src=\"data:image/png;base64,iVBORw0KGgoAAAANSUhEUgAAAA8AAAAOBAMAAAACpFvcAAAALVBMVEX///8iIiIQEBBERERUVFS6\n",
       "urqIiIjc3NxmZmaqqqru7u6YmJgyMjLMzMwAAACK9jtgAAAAAXRSTlMAQObYZgAAAFtJREFUCNdj\n",
       "YACBOwxQcA5Kc59bAGGs7CuAMDbkBYBp1gXzNoAZSxnuJYAZAQx1DSCa16PDzwCshIGB6QCIMYGB\n",
       "gVEBSLMDGTwPgIxCIGZ+zsCw+N0pBk67hw0AfpEVEQi8t+wAAAAASUVORK5CYII=\n",
       "\" style=\"display:inline;vertical-align:middle;\" /></a> : <a class=\"ProveItLink\" href=\"../../rational_numbers/__pv_it/common/3de3e316334b6ece430a3f1aee01ae68b192ecb30/expr.ipynb\"><img src=\"data:image/png;base64,iVBORw0KGgoAAAANSUhEUgAAABAAAAARBAMAAAAmgTH3AAAALVBMVEX///+qqqp2dnaYmJiIiIjc\n",
       "3NwiIiLu7u66urpUVFQyMjJERERmZmbMzMwAAAAPPdWlAAAAAXRSTlMAQObYZgAAAIFJREFUCNdj\n",
       "YGC4s3vXDAYgqJwWwL5yO5Cx4yyQc6uAgcVgAQMDd8UEBi7WAwwMLA3bGSJ5DRgYOAw0GFoYBRgY\n",
       "eB2EGa5AGIIMnGApAVUGbojiCUB1G0DagcIaIAPvAE1mPhbAvsYAZBnzq3UCDGCgwTgBwmBSlTqi\n",
       "AGbF7F7TAADtgR4r3cUBHgAAAABJRU5ErkJggg==\n",
       "\" style=\"display:inline;vertical-align:middle;\" /></a>, <a class=\"ProveItLink\" href=\"../../../../__pv_it/common/a9162d1c3cc0470c02e5daf414500903a7a419230/expr.ipynb\"><img src=\"data:image/png;base64,iVBORw0KGgoAAAANSUhEUgAAABAAAAAOBAMAAADUAYG5AAAALVBMVEX///8yMjKqqqoiIiLu7u7c\n",
       "3NyIiIjMzMwQEBC6urpERERmZmZUVFSYmJgAAACsPVCVAAAAAXRSTlMAQObYZgAAAGxJREFUCNdj\n",
       "YGC48+70nlUTGICgi4GB+zmQZn/LwMD5Gshge8rAwPsMyOBqYGDwMAEy+A4wsNs4ABl1Z68tVgBp\n",
       "ygtgYOkBMVaAOCChNyBGAsQYhnMTIMawvwJyGIHGzFjCwMAj92b3qUUMDAAXABxvZ4rl5AAAAABJ\n",
       "RU5ErkJggg==\n",
       "\" style=\"display:inline;vertical-align:middle;\" /></a> : <a class=\"ProveItLink\" href=\"../__pv_it/common/93cac87a1a47e613f7a83b23ef7891599a1a4cca0/expr.ipynb\"><img src=\"data:image/png;base64,iVBORw0KGgoAAAANSUhEUgAAAA8AAAAOBAMAAAACpFvcAAAAMFBMVEX///+IiIiqqqq6urpmZmZ2\n",
       "dnbc3NzMzMxUVFTu7u4yMjJEREQQEBAiIiKYmJgAAACIyPRpAAAAAXRSTlMAQObYZgAAAFlJREFU\n",
       "CNdjeHt6/6rTDxiAYMEMhurXE4CMDakM3GwNEAZLwgIYYwOEwcEMldL1AivOuXtLgQEsYsI9AcJg\n",
       "Md8AYTDsfAhlVLAUQKxgVWhnYABaupxh93oFAP7MI7KHKGXxAAAAAElFTkSuQmCC\n",
       "\" style=\"display:inline;vertical-align:middle;\" /></a>, <a class=\"ProveItLink\" href=\"../../../../__pv_it/common/a0d9d672aa5e272d907247690c152cc2c6daafb70/expr.ipynb\"><img src=\"data:image/png;base64,iVBORw0KGgoAAAANSUhEUgAAAAsAAAAJBAMAAAAWSsseAAAALVBMVEX///9mZmaqqqrMzMxEREQy\n",
       "MjIiIiKYmJh2dna6urrc3NxUVFSIiIju7u4AAACJHQtQAAAAAXRSTlMAQObYZgAAAEJJREFUCNdj\n",
       "YLhzeuWJAwy8Dew5bAEMHBc43nIuYOBlYHFgAAG+A2DKzgBIMF04x8BzgWGegh/DcgaG22fuiBcw\n",
       "AAATyhBrnyPYZQAAAABJRU5ErkJggg==\n",
       "\" style=\"display:inline;vertical-align:middle;\" /></a> : <a class=\"ProveItLink\" href=\"../../../numerals/__pv_it/common/ba3b059982e8b49413dc653e957beb11e974e4bc0/expr.ipynb\"><img src=\"data:image/png;base64,iVBORw0KGgoAAAANSUhEUgAAAAkAAAAOBAMAAAAPuiubAAAALVBMVEX///+qqqqIiIgyMjLc3Nwi\n",
       "IiIQEBC6urp2dnZUVFTMzMxERERmZmbu7u4AAAAQI6y7AAAAAXRSTlMAQObYZgAAAFJJREFUCNdj\n",
       "4D2zewEDw00GjucMDGcZGNIYGFIZGOY5MNhdYJgHlGBgiLsAJNhfgJisE0DkGRDBdABEyjCwODBw\n",
       "NTAwOTC4dvRMZWCwe/fuKQMANh0TGKpG4roAAAAASUVORK5CYII=\n",
       "\" style=\"display:inline;vertical-align:middle;\" /></a></span></td></tr><tr><td><a name=\"0x3ace2a383d0579cc_step9\">9</a></td><td>conjecture</td><td></td><td><span style=\"font-size:20px;\"> <a class=\"ProveItLink\" href=\"../../../numerals/decimals/_theory_nbs_/proofs/less_1_2/thm_proof.ipynb\" style=\"text-decoration: none\">&nbsp;&#x22A2;&nbsp;&nbsp;</a><a class=\"ProveItLink\" href=\"../../../numerals/decimals/__pv_it/theorems/de566d14109e3353602244bae3447431ee27dc570/expr.ipynb\"><img src=\"data:image/png;base64,iVBORw0KGgoAAAANSUhEUgAAADAAAAAPBAMAAABQAFHMAAAAMFBMVEX///+6urpERETc3NwiIiLM\n",
       "zMwyMjJmZmaIiIiYmJh2dnZUVFTu7u4QEBCqqqoAAAD7YXnbAAAAAXRSTlMAQObYZgAAAJVJREFU\n",
       "GNNjYMACjhepAkm+O+jiPBsY1gswnF79B0nsWQCQYD/AwHuBgYETSWJKMYjkdWDg/owi0bIGTLH9\n",
       "YeD+iiTBs6QBroTlD0KCp2QCwkz5BQiJbQ+QHOHNAJfgQZZgL0BIMDAjGdXOwIDVcr4CBmNszmWI\n",
       "YmBoZmDgwPAgs9eqagcG9r3fKtGChO3///8ODLgAAJC0L58BnxxZAAAAAElFTkSuQmCC\n",
       "\" style=\"display:inline;vertical-align:middle;\" /></a></span></td></tr>\n",
       "<tr><td>&nbsp;</td><td colspan=4 style-\"text-align:left\"><a class=\"ProveItLink\" href=\"../../../numerals/decimals/_theory_nbs_/proofs/less_1_2/thm_proof.ipynb\">proveit.numbers.numerals.decimals.less_1_2</a></td></tr><tr><td><a name=\"0x3ace2a383d0579cc_step10\">10</a></td><td>instantiation</td><td><a href=\"#0x3ace2a383d0579cc_step15\">15</a>, <a href=\"#0x3ace2a383d0579cc_step16\">16</a></td><td><span style=\"font-size:20px;\"> <a class=\"ProveItLink\" href=\"../__pv_it/demonstrations/0876da0d2ec5892aa7fdc22f2837aa188a1b03190/proof.ipynb\" style=\"text-decoration: none\">&nbsp;&#x22A2;&nbsp;&nbsp;</a><a class=\"ProveItLink\" href=\"../__pv_it/demonstrations/624f0aa40b8b4a88d4f643e4015e94e0167bb2d30/expr.ipynb\"><img src=\"data:image/png;base64,iVBORw0KGgoAAAANSUhEUgAAADAAAAARBAMAAABp3DInAAAAMFBMVEX///+YmJiqqqqIiIgyMjLc\n",
       "3NwiIiIQEBC6urp2dnZUVFTMzMxERERmZmbu7u4AAADrYmUNAAAAAXRSTlMAQObYZgAAAM5JREFU\n",
       "GNNj4Lt7ZgMDGoiceYiB4RUD5w+EkBlIEesFBn0BhnsMDOUwYb5pBiCK+RMDfwJDGQPD+gCIOOs1\n",
       "ATDNUcHA78Dg/4BhPcQS1iUKcCP1wUryH4BI7iMNcHG+TLDOn2AOkuNYp90DUWwLIA6yQ3KwOUj3\n",
       "XShHbB5Cgr0O6LgLMJ7KVahJAQw8nxgYdEEMCGhZDab4/4EkuCcwMMMkGPacAJtzgIHtH0PYzLnL\n",
       "EGZHgZzGKADyh////9/QA7H37gkGCgCfWxoIwL0PALFGNGA5ADnVAAAAAElFTkSuQmCC\n",
       "\" style=\"display:inline;vertical-align:middle;\" /></a></span></td></tr>\n",
       "<tr><td>&nbsp;</td><td colspan=4 style=\"text-align:left\"><span style=\"font-size:20px;\"><a class=\"ProveItLink\" href=\"../../../../__pv_it/common/a0d9d672aa5e272d907247690c152cc2c6daafb70/expr.ipynb\"><img src=\"data:image/png;base64,iVBORw0KGgoAAAANSUhEUgAAAAsAAAAJBAMAAAAWSsseAAAALVBMVEX///9mZmaqqqrMzMxEREQy\n",
       "MjIiIiKYmJh2dna6urrc3NxUVFSIiIju7u4AAACJHQtQAAAAAXRSTlMAQObYZgAAAEJJREFUCNdj\n",
       "YLhzeuWJAwy8Dew5bAEMHBc43nIuYOBlYHFgAAG+A2DKzgBIMF04x8BzgWGegh/DcgaG22fuiBcw\n",
       "AAATyhBrnyPYZQAAAABJRU5ErkJggg==\n",
       "\" style=\"display:inline;vertical-align:middle;\" /></a> : <a class=\"ProveItLink\" href=\"../../../numerals/__pv_it/common/ba3b059982e8b49413dc653e957beb11e974e4bc0/expr.ipynb\"><img src=\"data:image/png;base64,iVBORw0KGgoAAAANSUhEUgAAAAkAAAAOBAMAAAAPuiubAAAALVBMVEX///+qqqqIiIgyMjLc3Nwi\n",
       "IiIQEBC6urp2dnZUVFTMzMxERERmZmbu7u4AAAAQI6y7AAAAAXRSTlMAQObYZgAAAFJJREFUCNdj\n",
       "4D2zewEDw00GjucMDGcZGNIYGFIZGOY5MNhdYJgHlGBgiLsAJNhfgJisE0DkGRDBdABEyjCwODBw\n",
       "NTAwOTC4dvRMZWCwe/fuKQMANh0TGKpG4roAAAAASUVORK5CYII=\n",
       "\" style=\"display:inline;vertical-align:middle;\" /></a>, <a class=\"ProveItLink\" href=\"../../../../__pv_it/common/ff7dba4ef0bbe791ab573bf2d9c220a304399ac80/expr.ipynb\"><img src=\"data:image/png;base64,iVBORw0KGgoAAAANSUhEUgAAAAsAAAANBAMAAACN24kIAAAAMFBMVEX///8iIiKYmJhUVFTMzMxE\n",
       "REQyMjKqqqq6urp2dnYQEBDc3NxmZmaIiIju7u4AAACH5sGpAAAAAXRSTlMAQObYZgAAAFlJREFU\n",
       "CNdj4LtzgWHXAwZOjgUM9xkYtvMkMIQyMDzgusDwl4GBof8ByxcgdYyBdwGQCmZgNQBShxn6FYDU\n",
       "47vnNzAwgGUZGJgT+H4AKUYF1gtAiuPuESAJAJGkFvXVdzA+AAAAAElFTkSuQmCC\n",
       "\" style=\"display:inline;vertical-align:middle;\" /></a> : <a class=\"ProveItLink\" href=\"../../../numerals/__pv_it/common/0a19a501c0770212f27a044b71e9c626b8ca0bec0/expr.ipynb\"><img src=\"data:image/png;base64,iVBORw0KGgoAAAANSUhEUgAAAAoAAAAOBAMAAADkjZCYAAAAKlBMVEX////u7u4yMjIQEBC6uroi\n",
       "IiKIiIiYmJhmZmaqqqpERER2dnbc3NwAAAAz17lDAAAAAXRSTlMAQObYZgAAAE5JREFUCNdjYDi9\n",
       "eyUDA08Dw9wCBrabDLwBDCwmDLwKDEAAFGFgYIwGEjxbG0ECDMkOIJLZkIHnAAMXUPFFEMm8gIH1\n",
       "IgN7AVi9R8cSBgCvphDNutx7AgAAAABJRU5ErkJggg==\n",
       "\" style=\"display:inline;vertical-align:middle;\" /></a></span></td></tr><tr><td><a name=\"0x3ace2a383d0579cc_step11\">11</a></td><td>instantiation</td><td><a href=\"#0x3ace2a383d0579cc_step23\">23</a>, <a href=\"#0x3ace2a383d0579cc_step19\">19</a>, <a href=\"#0x3ace2a383d0579cc_step17\">17</a></td><td><span style=\"font-size:20px;\"> <a class=\"ProveItLink\" href=\"../__pv_it/demonstrations/61b1274004fac177f6b591820b14ca89b82a9f4a0/proof.ipynb\" style=\"text-decoration: none\">&nbsp;&#x22A2;&nbsp;&nbsp;</a><a class=\"ProveItLink\" href=\"../__pv_it/demonstrations/48eae5e5526454bf0366e9fde977674cf2b2495d0/expr.ipynb\"><img src=\"data:image/png;base64,iVBORw0KGgoAAAANSUhEUgAAADMAAAARBAMAAACC64kkAAAAMFBMVEX///+6urrc3NzMzMwiIiJE\n",
       "REQyMjJmZmaIiIiYmJh2dnZUVFTu7u4QEBCqqqoAAABhZHJKAAAAAXRSTlMAQObYZgAAAMxJREFU\n",
       "GNNjYMAEzKWh2QIgBt8dNBme3U4Mx7YeYGA4vfoPmhSruAEDz+YcIIsTJjXVxSUBRHeyAYkYaSQp\n",
       "0x6okgR1INHIegAuxZMDlWHaYAkkJbkE4FLcClApxoZ3QNKCbwJcihXudKjUA7iUbRoQgJ0BNlCO\n",
       "SwEupQp3fADYGdwIF/LCpSRBZsdIIqTYG2BSXGAvFwBZHFB/+cG1TQcGVCVI9d5vlWCB04EHYHLz\n",
       "0/6hhp1UCCSggEYKvGbABVbppXfhkGIqDStkAACKYDQPp4mWMwAAAABJRU5ErkJggg==\n",
       "\" style=\"display:inline;vertical-align:middle;\" /></a></span></td></tr>\n",
       "<tr><td>&nbsp;</td><td colspan=4 style=\"text-align:left\"><span style=\"font-size:20px;\"><a class=\"ProveItLink\" href=\"../../../../__pv_it/common/09585084922504426caf1db2ff588a23a0932a960/expr.ipynb\"><img src=\"data:image/png;base64,iVBORw0KGgoAAAANSUhEUgAAAA8AAAAOBAMAAAACpFvcAAAALVBMVEX///8iIiIQEBBERERUVFS6\n",
       "urqIiIjc3NxmZmaqqqru7u6YmJgyMjLMzMwAAACK9jtgAAAAAXRSTlMAQObYZgAAAFtJREFUCNdj\n",
       "YACBOwxQcA5Kc59bAGGs7CuAMDbkBYBp1gXzNoAZSxnuJYAZAQx1DSCa16PDzwCshIGB6QCIMYGB\n",
       "gVEBSLMDGTwPgIxCIGZ+zsCw+N0pBk67hw0AfpEVEQi8t+wAAAAASUVORK5CYII=\n",
       "\" style=\"display:inline;vertical-align:middle;\" /></a> : <a class=\"ProveItLink\" href=\"../../integers/__pv_it/common/e6b4e90f9467053e055a4fd2f735c0bb79cb79300/expr.ipynb\"><img src=\"data:image/png;base64,iVBORw0KGgoAAAANSUhEUgAAAA4AAAAOBAMAAADtZjDiAAAAMFBMVEX///9UVFTc3Nzu7u6qqqp2\n",
       "dnbMzMxmZmZERESIiIiYmJgyMjIQEBAiIiK6uroAAABqpg13AAAAAXRSTlMAQObYZgAAAGVJREFU\n",
       "CNdj4LvzZ/fZPQsYONsTGDZwMDCwBzCwOsQBaQMGRbYCBhBo5jAAUVwTVoG5FswNYFqMUQFE8RU8\n",
       "BXO5GYDCwQwMIawPGBgOMDAJKAINOcDAYdDMwCzVwPCm+0TH+RMFANGWFoagnRaJAAAAAElFTkSu\n",
       "QmCC\n",
       "\" style=\"display:inline;vertical-align:middle;\" /></a>, <a class=\"ProveItLink\" href=\"../../../../__pv_it/common/a9162d1c3cc0470c02e5daf414500903a7a419230/expr.ipynb\"><img src=\"data:image/png;base64,iVBORw0KGgoAAAANSUhEUgAAABAAAAAOBAMAAADUAYG5AAAALVBMVEX///8yMjKqqqoiIiLu7u7c\n",
       "3NyIiIjMzMwQEBC6urpERERmZmZUVFSYmJgAAACsPVCVAAAAAXRSTlMAQObYZgAAAGxJREFUCNdj\n",
       "YGC48+70nlUTGICgi4GB+zmQZn/LwMD5Gshge8rAwPsMyOBqYGDwMAEy+A4wsNs4ABl1Z68tVgBp\n",
       "ygtgYOkBMVaAOCChNyBGAsQYhnMTIMawvwJyGIHGzFjCwMAj92b3qUUMDAAXABxvZ4rl5AAAAABJ\n",
       "RU5ErkJggg==\n",
       "\" style=\"display:inline;vertical-align:middle;\" /></a> : <a class=\"ProveItLink\" href=\"../../rational_numbers/__pv_it/common/3de3e316334b6ece430a3f1aee01ae68b192ecb30/expr.ipynb\"><img src=\"data:image/png;base64,iVBORw0KGgoAAAANSUhEUgAAABAAAAARBAMAAAAmgTH3AAAALVBMVEX///+qqqp2dnaYmJiIiIjc\n",
       "3NwiIiLu7u66urpUVFQyMjJERERmZmbMzMwAAAAPPdWlAAAAAXRSTlMAQObYZgAAAIFJREFUCNdj\n",
       "YGC4s3vXDAYgqJwWwL5yO5Cx4yyQc6uAgcVgAQMDd8UEBi7WAwwMLA3bGSJ5DRgYOAw0GFoYBRgY\n",
       "eB2EGa5AGIIMnGApAVUGbojiCUB1G0DagcIaIAPvAE1mPhbAvsYAZBnzq3UCDGCgwTgBwmBSlTqi\n",
       "AGbF7F7TAADtgR4r3cUBHgAAAABJRU5ErkJggg==\n",
       "\" style=\"display:inline;vertical-align:middle;\" /></a>, <a class=\"ProveItLink\" href=\"../../../../__pv_it/common/a0d9d672aa5e272d907247690c152cc2c6daafb70/expr.ipynb\"><img src=\"data:image/png;base64,iVBORw0KGgoAAAANSUhEUgAAAAsAAAAJBAMAAAAWSsseAAAALVBMVEX///9mZmaqqqrMzMxEREQy\n",
       "MjIiIiKYmJh2dna6urrc3NxUVFSIiIju7u4AAACJHQtQAAAAAXRSTlMAQObYZgAAAEJJREFUCNdj\n",
       "YLhzeuWJAwy8Dew5bAEMHBc43nIuYOBlYHFgAAG+A2DKzgBIMF04x8BzgWGegh/DcgaG22fuiBcw\n",
       "AAATyhBrnyPYZQAAAABJRU5ErkJggg==\n",
       "\" style=\"display:inline;vertical-align:middle;\" /></a> : <a class=\"ProveItLink\" href=\"../../../numerals/__pv_it/common/2778428c7f555b2bdc06aa0530bc142c6e6335100/expr.ipynb\"><img src=\"data:image/png;base64,iVBORw0KGgoAAAANSUhEUgAAAAgAAAAPBAMAAAArJJMAAAAAIVBMVEX///8yMjJmZmaIiIiYmJh2\n",
       "dnZUVFTu7u4QEBCqqqoAAAADAhFxAAAAAXRSTlMAQObYZgAAACBJREFUCNdjYAADznYGhrKw5UAW\n",
       "CykEM5BgylioAjYDAHBOCeDSSky9AAAAAElFTkSuQmCC\n",
       "\" style=\"display:inline;vertical-align:middle;\" /></a></span></td></tr><tr><td><a name=\"0x3ace2a383d0579cc_step12\">12</a></td><td>instantiation</td><td><a href=\"#0x3ace2a383d0579cc_step23\">23</a>, <a href=\"#0x3ace2a383d0579cc_step19\">19</a>, <a href=\"#0x3ace2a383d0579cc_step18\">18</a></td><td><span style=\"font-size:20px;\"> <a class=\"ProveItLink\" href=\"../__pv_it/demonstrations/db6c879a5f886e3e2d857099e4313782cd638b5b0/proof.ipynb\" style=\"text-decoration: none\">&nbsp;&#x22A2;&nbsp;&nbsp;</a><a class=\"ProveItLink\" href=\"../__pv_it/demonstrations/e20b660f5ffb9875cfb6d90cb35c1fbfb82ea1520/expr.ipynb\"><img src=\"data:image/png;base64,iVBORw0KGgoAAAANSUhEUgAAADQAAAARBAMAAABgN5JdAAAAMFBMVEX///9UVFTMzMzu7u4yMjIQ\n",
       "EBC6uroiIiKIiIiYmJhmZmaqqqpERER2dnbc3NwAAACDMjhQAAAAAXRSTlMAQObYZgAAAPxJREFU\n",
       "GNNjYHh79zQDGtA6c0QMSPEtYNg/AVXGUPwBs+NhBgaO3wz8BahSxxYBpVUMGNjCGPgdwCKcx8tL\n",
       "QDTHBCCfx0wAxIYYyHTCAKKJBWgHA0cC0EQG5lqwiAlUhuEhE1Ap24RrQHdcXwwWkYNZlcG9AWhG\n",
       "w04QuzUBRB6ASWlApHaD2KzBIKtCXIAAxGUEG7jhHgPfAwae3yD/wXXxQJwhwMD/GSLFEACTYptw\n",
       "AOT4CQysBxjYP4NEVsC9fA3kZS2gRydA/cW+ASbFufwBsxdILGvVMbAAs0wyXO6L/waUoGO7Awko\n",
       "kJHcAgw4AO+9LSsu4JB7dcYrAQAt8kFx2bCsZAAAAABJRU5ErkJggg==\n",
       "\" style=\"display:inline;vertical-align:middle;\" /></a></span></td></tr>\n",
       "<tr><td>&nbsp;</td><td colspan=4 style=\"text-align:left\"><span style=\"font-size:20px;\"><a class=\"ProveItLink\" href=\"../../../../__pv_it/common/09585084922504426caf1db2ff588a23a0932a960/expr.ipynb\"><img src=\"data:image/png;base64,iVBORw0KGgoAAAANSUhEUgAAAA8AAAAOBAMAAAACpFvcAAAALVBMVEX///8iIiIQEBBERERUVFS6\n",
       "urqIiIjc3NxmZmaqqqru7u6YmJgyMjLMzMwAAACK9jtgAAAAAXRSTlMAQObYZgAAAFtJREFUCNdj\n",
       "YACBOwxQcA5Kc59bAGGs7CuAMDbkBYBp1gXzNoAZSxnuJYAZAQx1DSCa16PDzwCshIGB6QCIMYGB\n",
       "gVEBSLMDGTwPgIxCIGZ+zsCw+N0pBk67hw0AfpEVEQi8t+wAAAAASUVORK5CYII=\n",
       "\" style=\"display:inline;vertical-align:middle;\" /></a> : <a class=\"ProveItLink\" href=\"../../integers/__pv_it/common/e6b4e90f9467053e055a4fd2f735c0bb79cb79300/expr.ipynb\"><img src=\"data:image/png;base64,iVBORw0KGgoAAAANSUhEUgAAAA4AAAAOBAMAAADtZjDiAAAAMFBMVEX///9UVFTc3Nzu7u6qqqp2\n",
       "dnbMzMxmZmZERESIiIiYmJgyMjIQEBAiIiK6uroAAABqpg13AAAAAXRSTlMAQObYZgAAAGVJREFU\n",
       "CNdj4LvzZ/fZPQsYONsTGDZwMDCwBzCwOsQBaQMGRbYCBhBo5jAAUVwTVoG5FswNYFqMUQFE8RU8\n",
       "BXO5GYDCwQwMIawPGBgOMDAJKAINOcDAYdDMwCzVwPCm+0TH+RMFANGWFoagnRaJAAAAAElFTkSu\n",
       "QmCC\n",
       "\" style=\"display:inline;vertical-align:middle;\" /></a>, <a class=\"ProveItLink\" href=\"../../../../__pv_it/common/a9162d1c3cc0470c02e5daf414500903a7a419230/expr.ipynb\"><img src=\"data:image/png;base64,iVBORw0KGgoAAAANSUhEUgAAABAAAAAOBAMAAADUAYG5AAAALVBMVEX///8yMjKqqqoiIiLu7u7c\n",
       "3NyIiIjMzMwQEBC6urpERERmZmZUVFSYmJgAAACsPVCVAAAAAXRSTlMAQObYZgAAAGxJREFUCNdj\n",
       "YGC48+70nlUTGICgi4GB+zmQZn/LwMD5Gshge8rAwPsMyOBqYGDwMAEy+A4wsNs4ABl1Z68tVgBp\n",
       "ygtgYOkBMVaAOCChNyBGAsQYhnMTIMawvwJyGIHGzFjCwMAj92b3qUUMDAAXABxvZ4rl5AAAAABJ\n",
       "RU5ErkJggg==\n",
       "\" style=\"display:inline;vertical-align:middle;\" /></a> : <a class=\"ProveItLink\" href=\"../../rational_numbers/__pv_it/common/3de3e316334b6ece430a3f1aee01ae68b192ecb30/expr.ipynb\"><img src=\"data:image/png;base64,iVBORw0KGgoAAAANSUhEUgAAABAAAAARBAMAAAAmgTH3AAAALVBMVEX///+qqqp2dnaYmJiIiIjc\n",
       "3NwiIiLu7u66urpUVFQyMjJERERmZmbMzMwAAAAPPdWlAAAAAXRSTlMAQObYZgAAAIFJREFUCNdj\n",
       "YGC4s3vXDAYgqJwWwL5yO5Cx4yyQc6uAgcVgAQMDd8UEBi7WAwwMLA3bGSJ5DRgYOAw0GFoYBRgY\n",
       "eB2EGa5AGIIMnGApAVUGbojiCUB1G0DagcIaIAPvAE1mPhbAvsYAZBnzq3UCDGCgwTgBwmBSlTqi\n",
       "AGbF7F7TAADtgR4r3cUBHgAAAABJRU5ErkJggg==\n",
       "\" style=\"display:inline;vertical-align:middle;\" /></a>, <a class=\"ProveItLink\" href=\"../../../../__pv_it/common/a0d9d672aa5e272d907247690c152cc2c6daafb70/expr.ipynb\"><img src=\"data:image/png;base64,iVBORw0KGgoAAAANSUhEUgAAAAsAAAAJBAMAAAAWSsseAAAALVBMVEX///9mZmaqqqrMzMxEREQy\n",
       "MjIiIiKYmJh2dna6urrc3NxUVFSIiIju7u4AAACJHQtQAAAAAXRSTlMAQObYZgAAAEJJREFUCNdj\n",
       "YLhzeuWJAwy8Dew5bAEMHBc43nIuYOBlYHFgAAG+A2DKzgBIMF04x8BzgWGegh/DcgaG22fuiBcw\n",
       "AAATyhBrnyPYZQAAAABJRU5ErkJggg==\n",
       "\" style=\"display:inline;vertical-align:middle;\" /></a> : <a class=\"ProveItLink\" href=\"../../../numerals/__pv_it/common/0a19a501c0770212f27a044b71e9c626b8ca0bec0/expr.ipynb\"><img src=\"data:image/png;base64,iVBORw0KGgoAAAANSUhEUgAAAAoAAAAOBAMAAADkjZCYAAAAKlBMVEX////u7u4yMjIQEBC6uroi\n",
       "IiKIiIiYmJhmZmaqqqpERER2dnbc3NwAAAAz17lDAAAAAXRSTlMAQObYZgAAAE5JREFUCNdjYDi9\n",
       "eyUDA08Dw9wCBrabDLwBDCwmDLwKDEAAFGFgYIwGEjxbG0ECDMkOIJLZkIHnAAMXUPFFEMm8gIH1\n",
       "IgN7AVi9R8cSBgCvphDNutx7AgAAAABJRU5ErkJggg==\n",
       "\" style=\"display:inline;vertical-align:middle;\" /></a></span></td></tr><tr><td><a name=\"0x3ace2a383d0579cc_step13\">13</a></td><td>conjecture</td><td></td><td><span style=\"font-size:20px;\"> <a class=\"ProveItLink\" href=\"proofs/rational_within_real/thm_proof.ipynb\" style=\"text-decoration: none\">&nbsp;&#x22A2;&nbsp;&nbsp;</a><a class=\"ProveItLink\" href=\"../__pv_it/theorems/499c21dd58d197396d60882ee6cf9cf586ce5c7a0/expr.ipynb\"><img src=\"data:image/png;base64,iVBORw0KGgoAAAANSUhEUgAAADsAAAARBAMAAACRPMnQAAAAMFBMVEX///8QEBCqqqp2dnaYmJiI\n",
       "iIjc3NwiIiLu7u66urpUVFQyMjJERERmZmbMzMwAAAC8H5PlAAAAAXRSTlMAQObYZgAAAQhJREFU\n",
       "KM9jYGB4e+b0SgY04C5zfreMA4jVtTyBY9cJdPkNXQxvfBqAjJP3gEpeN6BJH0hm4GFbwMDA6rCB\n",
       "gYGncwFYkOV4eXn5A6g0bwJQhpvtAlDNBLDpbJsTkHTzJhxgYMjiA7qA08ESJMaegGw4FyfQyKlM\n",
       "CgwMfAEqILFLKHar3wY66ClEWgkkVoAknVheDZRg4AIbrmAGsnoBsu65PCDf8ECcBpLhOIAszTsP\n",
       "xOV0OADymAO64ckMJ1xBDEtQsLwFi5miSL/iBYUAy/UEjr1gzQzcCsiByqywDhxUv/dDhTlWzUBE\n",
       "yT6GMxBxSyaYk/lsYIGKBJjNtK8aMOAGuWf2TsAuAwAAqlBKx2vCQAAAAABJRU5ErkJggg==\n",
       "\" style=\"display:inline;vertical-align:middle;\" /></a></span></td></tr>\n",
       "<tr><td>&nbsp;</td><td colspan=4 style-\"text-align:left\"><a class=\"ProveItLink\" href=\"proofs/rational_within_real/thm_proof.ipynb\">proveit.numbers.number_sets.real_numbers.rational_within_real</a></td></tr><tr><td><a name=\"0x3ace2a383d0579cc_step14\">14</a></td><td>instantiation</td><td><a href=\"#0x3ace2a383d0579cc_step23\">23</a>, <a href=\"#0x3ace2a383d0579cc_step19\">19</a>, <a href=\"#0x3ace2a383d0579cc_step20\">20</a></td><td><span style=\"font-size:20px;\"> <a class=\"ProveItLink\" href=\"../__pv_it/demonstrations/57f39e5a03fdefd02e8e8f70aa2f46709c4fc4f00/proof.ipynb\" style=\"text-decoration: none\">&nbsp;&#x22A2;&nbsp;&nbsp;</a><a class=\"ProveItLink\" href=\"../__pv_it/demonstrations/727fa1c1f25370cf153c5124e30af574c44ee0cc0/expr.ipynb\"><img src=\"data:image/png;base64,iVBORw0KGgoAAAANSUhEUgAAADMAAAARBAMAAACC64kkAAAAMFBMVEX///+YmJiqqqqIiIgyMjLc\n",
       "3NwiIiIQEBC6urp2dnZUVFTMzMxERERmZmbu7u4AAADrYmUNAAAAAXRSTlMAQObYZgAAAPpJREFU\n",
       "GNNj4Lt7ZgMDKuC+c8arAUi/YuD8gSrDtyqV4cmaBwwM9xgYylGleHo3MPCt9mNgKGNgWB8AFpJJ\n",
       "S3MA0YYsQOJcFwOD/wOG9WDL9thBdTnEAgkLngcgdj6I5PODyrAu2AgkGzlBDuH4CRLhCoBKcRgo\n",
       "AcnNTAJAkm0B2HK406FSCkDyLlhkuwsQgJ0BNrCJE2gK8wWwVAzc8QfAzuACEroMrCBr2OFSjSCz\n",
       "zzUCjZ7AwAyS4jWASXGCvQw0K2zm3GVgkSS4NllgQF0E0v7//38DC7w68QAmJ+/yCTXsOo9BAgpo\n",
       "ZIMWAy4wM8jXEocU650jNxgAxFtAZoWfG6oAAAAASUVORK5CYII=\n",
       "\" style=\"display:inline;vertical-align:middle;\" /></a></span></td></tr>\n",
       "<tr><td>&nbsp;</td><td colspan=4 style=\"text-align:left\"><span style=\"font-size:20px;\"><a class=\"ProveItLink\" href=\"../../../../__pv_it/common/09585084922504426caf1db2ff588a23a0932a960/expr.ipynb\"><img src=\"data:image/png;base64,iVBORw0KGgoAAAANSUhEUgAAAA8AAAAOBAMAAAACpFvcAAAALVBMVEX///8iIiIQEBBERERUVFS6\n",
       "urqIiIjc3NxmZmaqqqru7u6YmJgyMjLMzMwAAACK9jtgAAAAAXRSTlMAQObYZgAAAFtJREFUCNdj\n",
       "YACBOwxQcA5Kc59bAGGs7CuAMDbkBYBp1gXzNoAZSxnuJYAZAQx1DSCa16PDzwCshIGB6QCIMYGB\n",
       "gVEBSLMDGTwPgIxCIGZ+zsCw+N0pBk67hw0AfpEVEQi8t+wAAAAASUVORK5CYII=\n",
       "\" style=\"display:inline;vertical-align:middle;\" /></a> : <a class=\"ProveItLink\" href=\"../../integers/__pv_it/common/e6b4e90f9467053e055a4fd2f735c0bb79cb79300/expr.ipynb\"><img src=\"data:image/png;base64,iVBORw0KGgoAAAANSUhEUgAAAA4AAAAOBAMAAADtZjDiAAAAMFBMVEX///9UVFTc3Nzu7u6qqqp2\n",
       "dnbMzMxmZmZERESIiIiYmJgyMjIQEBAiIiK6uroAAABqpg13AAAAAXRSTlMAQObYZgAAAGVJREFU\n",
       "CNdj4LvzZ/fZPQsYONsTGDZwMDCwBzCwOsQBaQMGRbYCBhBo5jAAUVwTVoG5FswNYFqMUQFE8RU8\n",
       "BXO5GYDCwQwMIawPGBgOMDAJKAINOcDAYdDMwCzVwPCm+0TH+RMFANGWFoagnRaJAAAAAElFTkSu\n",
       "QmCC\n",
       "\" style=\"display:inline;vertical-align:middle;\" /></a>, <a class=\"ProveItLink\" href=\"../../../../__pv_it/common/a9162d1c3cc0470c02e5daf414500903a7a419230/expr.ipynb\"><img src=\"data:image/png;base64,iVBORw0KGgoAAAANSUhEUgAAABAAAAAOBAMAAADUAYG5AAAALVBMVEX///8yMjKqqqoiIiLu7u7c\n",
       "3NyIiIjMzMwQEBC6urpERERmZmZUVFSYmJgAAACsPVCVAAAAAXRSTlMAQObYZgAAAGxJREFUCNdj\n",
       "YGC48+70nlUTGICgi4GB+zmQZn/LwMD5Gshge8rAwPsMyOBqYGDwMAEy+A4wsNs4ABl1Z68tVgBp\n",
       "ygtgYOkBMVaAOCChNyBGAsQYhnMTIMawvwJyGIHGzFjCwMAj92b3qUUMDAAXABxvZ4rl5AAAAABJ\n",
       "RU5ErkJggg==\n",
       "\" style=\"display:inline;vertical-align:middle;\" /></a> : <a class=\"ProveItLink\" href=\"../../rational_numbers/__pv_it/common/3de3e316334b6ece430a3f1aee01ae68b192ecb30/expr.ipynb\"><img src=\"data:image/png;base64,iVBORw0KGgoAAAANSUhEUgAAABAAAAARBAMAAAAmgTH3AAAALVBMVEX///+qqqp2dnaYmJiIiIjc\n",
       "3NwiIiLu7u66urpUVFQyMjJERERmZmbMzMwAAAAPPdWlAAAAAXRSTlMAQObYZgAAAIFJREFUCNdj\n",
       "YGC4s3vXDAYgqJwWwL5yO5Cx4yyQc6uAgcVgAQMDd8UEBi7WAwwMLA3bGSJ5DRgYOAw0GFoYBRgY\n",
       "eB2EGa5AGIIMnGApAVUGbojiCUB1G0DagcIaIAPvAE1mPhbAvsYAZBnzq3UCDGCgwTgBwmBSlTqi\n",
       "AGbF7F7TAADtgR4r3cUBHgAAAABJRU5ErkJggg==\n",
       "\" style=\"display:inline;vertical-align:middle;\" /></a>, <a class=\"ProveItLink\" href=\"../../../../__pv_it/common/a0d9d672aa5e272d907247690c152cc2c6daafb70/expr.ipynb\"><img src=\"data:image/png;base64,iVBORw0KGgoAAAANSUhEUgAAAAsAAAAJBAMAAAAWSsseAAAALVBMVEX///9mZmaqqqrMzMxEREQy\n",
       "MjIiIiKYmJh2dna6urrc3NxUVFSIiIju7u4AAACJHQtQAAAAAXRSTlMAQObYZgAAAEJJREFUCNdj\n",
       "YLhzeuWJAwy8Dew5bAEMHBc43nIuYOBlYHFgAAG+A2DKzgBIMF04x8BzgWGegh/DcgaG22fuiBcw\n",
       "AAATyhBrnyPYZQAAAABJRU5ErkJggg==\n",
       "\" style=\"display:inline;vertical-align:middle;\" /></a> : <a class=\"ProveItLink\" href=\"../../../numerals/__pv_it/common/ba3b059982e8b49413dc653e957beb11e974e4bc0/expr.ipynb\"><img src=\"data:image/png;base64,iVBORw0KGgoAAAANSUhEUgAAAAkAAAAOBAMAAAAPuiubAAAALVBMVEX///+qqqqIiIgyMjLc3Nwi\n",
       "IiIQEBC6urp2dnZUVFTMzMxERERmZmbu7u4AAAAQI6y7AAAAAXRSTlMAQObYZgAAAFJJREFUCNdj\n",
       "4D2zewEDw00GjucMDGcZGNIYGFIZGOY5MNhdYJgHlGBgiLsAJNhfgJisE0DkGRDBdABEyjCwODBw\n",
       "NTAwOTC4dvRMZWCwe/fuKQMANh0TGKpG4roAAAAASUVORK5CYII=\n",
       "\" style=\"display:inline;vertical-align:middle;\" /></a></span></td></tr><tr><td><a name=\"0x3ace2a383d0579cc_step15\">15</a></td><td>conjecture</td><td></td><td><span style=\"font-size:20px;\"> <a class=\"ProveItLink\" href=\"../../../ordering/_theory_nbs_/proofs/relax_less/thm_proof.ipynb\" style=\"text-decoration: none\">&nbsp;&#x22A2;&nbsp;&nbsp;</a><a class=\"ProveItLink\" href=\"../../../ordering/__pv_it/theorems/6cfce90ffc1c38d626eeb811368419a3a117039e0/expr.ipynb\"><img src=\"data:image/png;base64,iVBORw0KGgoAAAANSUhEUgAAAKEAAAAWBAMAAABasOFIAAAAMFBMVEX///8QEBCIiIhmZma6urrM\n",
       "zMxUVFQiIiJERETc3Nzu7u6qqqp2dnaYmJgyMjIAAAAcRTyBAAAAAXRSTlMAQObYZgAAAkZJREFU\n",
       "OMudVU1o1EAU/rpNmp9mt714D1uopRd7qT8gdVFQvLTuRXqUYsFeigdFBJEetGwvEi+6KOKIoFA8\n",
       "LHjSgyx7EVbQgEIRFHIQBEEIoqB48b3JJplsdivpg5B535f55v3MTIDi9mA49YKegAefiwjaG8O5\n",
       "MQ94w4NvRRQrXh+w/0y6GgXYpLe1UUTxfV/Ir13F69CKAnBaRRSvZjzrkK+6j4Byd3v7bhFB62LG\n",
       "W89GU6kBvxuNa0UUS3OUaXXteIcd/VYtTn7KxW0Bh9hVYCs3rTZc0aQsn2HHvc5OI2mKo03iAKVM\n",
       "rTkhG9Rn2VZpQnEMSrOLd+K0bPNsDN8fDdAAxqkmBkr+7or6puqNUPyCJ0vb6fYGYsTFD/o2pHB9\n",
       "A7sqWhe8fkXw5MheHekNloT+K1K0grO8j+anqSTaNAyRKkrQPqwSUdbgyT1bXI3eCyhN0oe8E7bO\n",
       "UwPFukFrOxOinsYoQfstx5QQUWdelkIkFVy+IV+bMM9FncFzktXxndF7pzCTKkqw7mcI8P7Q/pqh\n",
       "lRb/jmz4QSwRNNqm4YQ8RX8keRQrah0JdL5kCJmXvTI7lbtcnlSPUb0rrF7mAumhzvAl7FMUJfj4\n",
       "pkrkTqFiC/Q8jZ2HTuCgKXBZC1NFCVJSfABiIn9TxPdYYP+MbopeyB86XdRbODkTpIoSJGuuISG4\n",
       "Nelmsr9eYeNMDd90kTssLdsz/QFnZtlLiKE3rladz67GNu6NtRcHnULKKSb+81f4mHXL0D61Bysm\n",
       "xJ5tbu9T/wHjpZf0RDE5VQAAAABJRU5ErkJggg==\n",
       "\" style=\"display:inline;vertical-align:middle;\" /></a></span></td></tr>\n",
       "<tr><td>&nbsp;</td><td colspan=4 style-\"text-align:left\"><a class=\"ProveItLink\" href=\"../../../ordering/_theory_nbs_/proofs/relax_less/thm_proof.ipynb\">proveit.numbers.ordering.relax_less</a></td></tr><tr><td><a name=\"0x3ace2a383d0579cc_step16\">16</a></td><td>conjecture</td><td></td><td><span style=\"font-size:20px;\"> <a class=\"ProveItLink\" href=\"../../../numerals/decimals/_theory_nbs_/proofs/less_2_3/thm_proof.ipynb\" style=\"text-decoration: none\">&nbsp;&#x22A2;&nbsp;&nbsp;</a><a class=\"ProveItLink\" href=\"../../../numerals/decimals/__pv_it/theorems/5ee8fddf82dc23baaa124983c910f2c8e88dfb090/expr.ipynb\"><img src=\"data:image/png;base64,iVBORw0KGgoAAAANSUhEUgAAADAAAAAOBAMAAACbXIJpAAAAMFBMVEX///+YmJiqqqqIiIgyMjLc\n",
       "3NwiIiIQEBC6urp2dnZUVFTMzMxERERmZmbu7u4AAADrYmUNAAAAAXRSTlMAQObYZgAAALhJREFU\n",
       "GNNj4Lt7ZgMDGoiceYiB4RUD5w80cdYLDPoCDPcYGMoRYiog3cyfGPgTGMoYGNYHwMTFroJIjgoG\n",
       "fgcG/wcM62GWmM2DqQAaBQT5D8AcvmkGMHG+TLDOnxDONQG47dPugSi2BWDeEgUkh5k3AIm7EA0o\n",
       "Eux1QMddgOqHG8UawMDziYFBF8RAsZz/H0iCewIDcwCqc9kPMLD9YwibOXcZA6oHGQVA/vD///8b\n",
       "WpAw9N49wQAAOKUvinSXmHsAAAAASUVORK5CYII=\n",
       "\" style=\"display:inline;vertical-align:middle;\" /></a></span></td></tr>\n",
       "<tr><td>&nbsp;</td><td colspan=4 style-\"text-align:left\"><a class=\"ProveItLink\" href=\"../../../numerals/decimals/_theory_nbs_/proofs/less_2_3/thm_proof.ipynb\">proveit.numbers.numerals.decimals.less_2_3</a></td></tr><tr><td><a name=\"0x3ace2a383d0579cc_step17\">17</a></td><td>instantiation</td><td><a href=\"#0x3ace2a383d0579cc_step23\">23</a>, <a href=\"#0x3ace2a383d0579cc_step24\">24</a>, <a href=\"#0x3ace2a383d0579cc_step21\">21</a></td><td><span style=\"font-size:20px;\"> <a class=\"ProveItLink\" href=\"../__pv_it/demonstrations/d235870b387352bc4053dabb1c4f1df6bc53906f0/proof.ipynb\" style=\"text-decoration: none\">&nbsp;&#x22A2;&nbsp;&nbsp;</a><a class=\"ProveItLink\" href=\"../__pv_it/demonstrations/01e2e8262b124835ebfc2d77a794e7dae8a261780/expr.ipynb\"><img src=\"data:image/png;base64,iVBORw0KGgoAAAANSUhEUgAAADEAAAAPBAMAAAC/wjryAAAAMFBMVEX///+6urrc3NzMzMwiIiJE\n",
       "REQyMjJmZmaIiIiYmJh2dnZUVFTu7u4QEBCqqqoAAABhZHJKAAAAAXRSTlMAQObYZgAAALZJREFU\n",
       "GNNjYMAAIvev5brdBDL47qDJtBYzsDEEMDCcXv0HTaaKgWEdlwCQwQmTmerikgCiaxiYNpgzIMmY\n",
       "9sB1sR6IQZLhyUGYN4NzApIMtwJcgifgKAOSDCtCC7fBJmQZ2zQgALuAQZxxAbKMKkJPAlA/1wG4\n",
       "DC9cguvBQggXKsPeAJPRZtrAwFALZHBA/eMHk4lhPcBweipQ7d5vlWCB04EHwDTj1dzQ2L/hyOEl\n",
       "FQIJHSgAAKR1Lx76K3s7AAAAAElFTkSuQmCC\n",
       "\" style=\"display:inline;vertical-align:middle;\" /></a></span></td></tr>\n",
       "<tr><td>&nbsp;</td><td colspan=4 style=\"text-align:left\"><span style=\"font-size:20px;\"><a class=\"ProveItLink\" href=\"../../../../__pv_it/common/09585084922504426caf1db2ff588a23a0932a960/expr.ipynb\"><img src=\"data:image/png;base64,iVBORw0KGgoAAAANSUhEUgAAAA8AAAAOBAMAAAACpFvcAAAALVBMVEX///8iIiIQEBBERERUVFS6\n",
       "urqIiIjc3NxmZmaqqqru7u6YmJgyMjLMzMwAAACK9jtgAAAAAXRSTlMAQObYZgAAAFtJREFUCNdj\n",
       "YACBOwxQcA5Kc59bAGGs7CuAMDbkBYBp1gXzNoAZSxnuJYAZAQx1DSCa16PDzwCshIGB6QCIMYGB\n",
       "gVEBSLMDGTwPgIxCIGZ+zsCw+N0pBk67hw0AfpEVEQi8t+wAAAAASUVORK5CYII=\n",
       "\" style=\"display:inline;vertical-align:middle;\" /></a> : <a class=\"ProveItLink\" href=\"../../natural_numbers/__pv_it/common/8b7c321957f52ed3b05b36af612eeae4fa4783bc0/expr.ipynb\"><img src=\"data:image/png;base64,iVBORw0KGgoAAAANSUhEUgAAAA8AAAAOBAMAAAACpFvcAAAAMFBMVEX///9mZmaqqqrc3NyIiIgi\n",
       "IiJUVFTMzMyYmJi6uroQEBB2dnZEREQyMjLu7u4AAAA1o4RqAAAAAXRSTlMAQObYZgAAAGVJREFU\n",
       "CNdjePvn7AOGXb8mMDCcYE9g4PvAwMCQWuDCwLAAyMg8x1bAEABkJJfx3YMwmBzKIAyGnRwOEAbb\n",
       "g3QIgy+BdwGYwVDNDmVwKBwAMtKBeDOIcQmIGS8wMJT+AvL4LjAAADA2HcoIlkTkAAAAAElFTkSu\n",
       "QmCC\n",
       "\" style=\"display:inline;vertical-align:middle;\" /></a>, <a class=\"ProveItLink\" href=\"../../../../__pv_it/common/a9162d1c3cc0470c02e5daf414500903a7a419230/expr.ipynb\"><img src=\"data:image/png;base64,iVBORw0KGgoAAAANSUhEUgAAABAAAAAOBAMAAADUAYG5AAAALVBMVEX///8yMjKqqqoiIiLu7u7c\n",
       "3NyIiIjMzMwQEBC6urpERERmZmZUVFSYmJgAAACsPVCVAAAAAXRSTlMAQObYZgAAAGxJREFUCNdj\n",
       "YGC48+70nlUTGICgi4GB+zmQZn/LwMD5Gshge8rAwPsMyOBqYGDwMAEy+A4wsNs4ABl1Z68tVgBp\n",
       "ygtgYOkBMVaAOCChNyBGAsQYhnMTIMawvwJyGIHGzFjCwMAj92b3qUUMDAAXABxvZ4rl5AAAAABJ\n",
       "RU5ErkJggg==\n",
       "\" style=\"display:inline;vertical-align:middle;\" /></a> : <a class=\"ProveItLink\" href=\"../../integers/__pv_it/common/e6b4e90f9467053e055a4fd2f735c0bb79cb79300/expr.ipynb\"><img src=\"data:image/png;base64,iVBORw0KGgoAAAANSUhEUgAAAA4AAAAOBAMAAADtZjDiAAAAMFBMVEX///9UVFTc3Nzu7u6qqqp2\n",
       "dnbMzMxmZmZERESIiIiYmJgyMjIQEBAiIiK6uroAAABqpg13AAAAAXRSTlMAQObYZgAAAGVJREFU\n",
       "CNdj4LvzZ/fZPQsYONsTGDZwMDCwBzCwOsQBaQMGRbYCBhBo5jAAUVwTVoG5FswNYFqMUQFE8RU8\n",
       "BXO5GYDCwQwMIawPGBgOMDAJKAINOcDAYdDMwCzVwPCm+0TH+RMFANGWFoagnRaJAAAAAElFTkSu\n",
       "QmCC\n",
       "\" style=\"display:inline;vertical-align:middle;\" /></a>, <a class=\"ProveItLink\" href=\"../../../../__pv_it/common/a0d9d672aa5e272d907247690c152cc2c6daafb70/expr.ipynb\"><img src=\"data:image/png;base64,iVBORw0KGgoAAAANSUhEUgAAAAsAAAAJBAMAAAAWSsseAAAALVBMVEX///9mZmaqqqrMzMxEREQy\n",
       "MjIiIiKYmJh2dna6urrc3NxUVFSIiIju7u4AAACJHQtQAAAAAXRSTlMAQObYZgAAAEJJREFUCNdj\n",
       "YLhzeuWJAwy8Dew5bAEMHBc43nIuYOBlYHFgAAG+A2DKzgBIMF04x8BzgWGegh/DcgaG22fuiBcw\n",
       "AAATyhBrnyPYZQAAAABJRU5ErkJggg==\n",
       "\" style=\"display:inline;vertical-align:middle;\" /></a> : <a class=\"ProveItLink\" href=\"../../../numerals/__pv_it/common/2778428c7f555b2bdc06aa0530bc142c6e6335100/expr.ipynb\"><img src=\"data:image/png;base64,iVBORw0KGgoAAAANSUhEUgAAAAgAAAAPBAMAAAArJJMAAAAAIVBMVEX///8yMjJmZmaIiIiYmJh2\n",
       "dnZUVFTu7u4QEBCqqqoAAAADAhFxAAAAAXRSTlMAQObYZgAAACBJREFUCNdjYAADznYGhrKw5UAW\n",
       "CykEM5BgylioAjYDAHBOCeDSSky9AAAAAElFTkSuQmCC\n",
       "\" style=\"display:inline;vertical-align:middle;\" /></a></span></td></tr><tr><td><a name=\"0x3ace2a383d0579cc_step18\">18</a></td><td>instantiation</td><td><a href=\"#0x3ace2a383d0579cc_step23\">23</a>, <a href=\"#0x3ace2a383d0579cc_step24\">24</a>, <a href=\"#0x3ace2a383d0579cc_step22\">22</a></td><td><span style=\"font-size:20px;\"> <a class=\"ProveItLink\" href=\"../__pv_it/demonstrations/947e720ba07b52f8ab524281e346d33e6140e0da0/proof.ipynb\" style=\"text-decoration: none\">&nbsp;&#x22A2;&nbsp;&nbsp;</a><a class=\"ProveItLink\" href=\"../__pv_it/demonstrations/05c62eb79a3dc35ce8599f5a02f4d9c2c42178810/expr.ipynb\"><img src=\"data:image/png;base64,iVBORw0KGgoAAAANSUhEUgAAADIAAAAPBAMAAABU9YHxAAAAMFBMVEX///9UVFTMzMzu7u4yMjIQ\n",
       "EBC6uroiIiKIiIiYmJhmZmaqqqpERER2dnbc3NwAAACDMjhQAAAAAXRSTlMAQObYZgAAANpJREFU\n",
       "GNNjYHh79zQDCmAr/eoS7jqBgW8Bw/4JKDIcpxQYHHiA9G8G/gIUGa4LDLwbrgH1hjHwO4BFOI+X\n",
       "l4BlDBgeMi0AC0FMYzphANd2mAfMZq4F80wQEpwNM0EU3/XFYK4cwiYb5gMQRmsCiDyAkBFifABh\n",
       "sAaDrAlxAQKIhxbkgg17wMDzG0Qj9LCA9F9m4P8MkWEIgMvc5k0AcVkPMLB/BvFXwCT4BB4CPRXA\n",
       "wDkB6h/2DVAZHoPDDMySQAOzVh0DCzDLJENkUo/EnImPWYAcxncgoQMFAJMfNnnC+bxdAAAAAElF\n",
       "TkSuQmCC\n",
       "\" style=\"display:inline;vertical-align:middle;\" /></a></span></td></tr>\n",
       "<tr><td>&nbsp;</td><td colspan=4 style=\"text-align:left\"><span style=\"font-size:20px;\"><a class=\"ProveItLink\" href=\"../../../../__pv_it/common/09585084922504426caf1db2ff588a23a0932a960/expr.ipynb\"><img src=\"data:image/png;base64,iVBORw0KGgoAAAANSUhEUgAAAA8AAAAOBAMAAAACpFvcAAAALVBMVEX///8iIiIQEBBERERUVFS6\n",
       "urqIiIjc3NxmZmaqqqru7u6YmJgyMjLMzMwAAACK9jtgAAAAAXRSTlMAQObYZgAAAFtJREFUCNdj\n",
       "YACBOwxQcA5Kc59bAGGs7CuAMDbkBYBp1gXzNoAZSxnuJYAZAQx1DSCa16PDzwCshIGB6QCIMYGB\n",
       "gVEBSLMDGTwPgIxCIGZ+zsCw+N0pBk67hw0AfpEVEQi8t+wAAAAASUVORK5CYII=\n",
       "\" style=\"display:inline;vertical-align:middle;\" /></a> : <a class=\"ProveItLink\" href=\"../../natural_numbers/__pv_it/common/8b7c321957f52ed3b05b36af612eeae4fa4783bc0/expr.ipynb\"><img src=\"data:image/png;base64,iVBORw0KGgoAAAANSUhEUgAAAA8AAAAOBAMAAAACpFvcAAAAMFBMVEX///9mZmaqqqrc3NyIiIgi\n",
       "IiJUVFTMzMyYmJi6uroQEBB2dnZEREQyMjLu7u4AAAA1o4RqAAAAAXRSTlMAQObYZgAAAGVJREFU\n",
       "CNdjePvn7AOGXb8mMDCcYE9g4PvAwMCQWuDCwLAAyMg8x1bAEABkJJfx3YMwmBzKIAyGnRwOEAbb\n",
       "g3QIgy+BdwGYwVDNDmVwKBwAMtKBeDOIcQmIGS8wMJT+AvL4LjAAADA2HcoIlkTkAAAAAElFTkSu\n",
       "QmCC\n",
       "\" style=\"display:inline;vertical-align:middle;\" /></a>, <a class=\"ProveItLink\" href=\"../../../../__pv_it/common/a9162d1c3cc0470c02e5daf414500903a7a419230/expr.ipynb\"><img src=\"data:image/png;base64,iVBORw0KGgoAAAANSUhEUgAAABAAAAAOBAMAAADUAYG5AAAALVBMVEX///8yMjKqqqoiIiLu7u7c\n",
       "3NyIiIjMzMwQEBC6urpERERmZmZUVFSYmJgAAACsPVCVAAAAAXRSTlMAQObYZgAAAGxJREFUCNdj\n",
       "YGC48+70nlUTGICgi4GB+zmQZn/LwMD5Gshge8rAwPsMyOBqYGDwMAEy+A4wsNs4ABl1Z68tVgBp\n",
       "ygtgYOkBMVaAOCChNyBGAsQYhnMTIMawvwJyGIHGzFjCwMAj92b3qUUMDAAXABxvZ4rl5AAAAABJ\n",
       "RU5ErkJggg==\n",
       "\" style=\"display:inline;vertical-align:middle;\" /></a> : <a class=\"ProveItLink\" href=\"../../integers/__pv_it/common/e6b4e90f9467053e055a4fd2f735c0bb79cb79300/expr.ipynb\"><img src=\"data:image/png;base64,iVBORw0KGgoAAAANSUhEUgAAAA4AAAAOBAMAAADtZjDiAAAAMFBMVEX///9UVFTc3Nzu7u6qqqp2\n",
       "dnbMzMxmZmZERESIiIiYmJgyMjIQEBAiIiK6uroAAABqpg13AAAAAXRSTlMAQObYZgAAAGVJREFU\n",
       "CNdj4LvzZ/fZPQsYONsTGDZwMDCwBzCwOsQBaQMGRbYCBhBo5jAAUVwTVoG5FswNYFqMUQFE8RU8\n",
       "BXO5GYDCwQwMIawPGBgOMDAJKAINOcDAYdDMwCzVwPCm+0TH+RMFANGWFoagnRaJAAAAAElFTkSu\n",
       "QmCC\n",
       "\" style=\"display:inline;vertical-align:middle;\" /></a>, <a class=\"ProveItLink\" href=\"../../../../__pv_it/common/a0d9d672aa5e272d907247690c152cc2c6daafb70/expr.ipynb\"><img src=\"data:image/png;base64,iVBORw0KGgoAAAANSUhEUgAAAAsAAAAJBAMAAAAWSsseAAAALVBMVEX///9mZmaqqqrMzMxEREQy\n",
       "MjIiIiKYmJh2dna6urrc3NxUVFSIiIju7u4AAACJHQtQAAAAAXRSTlMAQObYZgAAAEJJREFUCNdj\n",
       "YLhzeuWJAwy8Dew5bAEMHBc43nIuYOBlYHFgAAG+A2DKzgBIMF04x8BzgWGegh/DcgaG22fuiBcw\n",
       "AAATyhBrnyPYZQAAAABJRU5ErkJggg==\n",
       "\" style=\"display:inline;vertical-align:middle;\" /></a> : <a class=\"ProveItLink\" href=\"../../../numerals/__pv_it/common/0a19a501c0770212f27a044b71e9c626b8ca0bec0/expr.ipynb\"><img src=\"data:image/png;base64,iVBORw0KGgoAAAANSUhEUgAAAAoAAAAOBAMAAADkjZCYAAAAKlBMVEX////u7u4yMjIQEBC6uroi\n",
       "IiKIiIiYmJhmZmaqqqpERER2dnbc3NwAAAAz17lDAAAAAXRSTlMAQObYZgAAAE5JREFUCNdjYDi9\n",
       "eyUDA08Dw9wCBrabDLwBDCwmDLwKDEAAFGFgYIwGEjxbG0ECDMkOIJLZkIHnAAMXUPFFEMm8gIH1\n",
       "IgN7AVi9R8cSBgCvphDNutx7AgAAAABJRU5ErkJggg==\n",
       "\" style=\"display:inline;vertical-align:middle;\" /></a></span></td></tr><tr><td><a name=\"0x3ace2a383d0579cc_step19\">19</a></td><td>conjecture</td><td></td><td><span style=\"font-size:20px;\"> <a class=\"ProveItLink\" href=\"../../rational_numbers/_theory_nbs_/proofs/int_within_rational/thm_proof.ipynb\" style=\"text-decoration: none\">&nbsp;&#x22A2;&nbsp;&nbsp;</a><a class=\"ProveItLink\" href=\"../../rational_numbers/__pv_it/theorems/b9639f7615b58f1d10922d45d6551abf5633175f0/expr.ipynb\"><img src=\"data:image/png;base64,iVBORw0KGgoAAAANSUhEUgAAADkAAAARBAMAAACVyRntAAAAMFBMVEX///9UVFTc3Nzu7u6qqqp2\n",
       "dnbMzMxmZmZERESIiIiYmJgyMjIQEBAiIiK6uroAAABqpg13AAAAAXRSTlMAQObYZgAAAQlJREFU\n",
       "GNNj4LvzZ/fZPQsYUAFbRcfGB0Casz2BYQMHmiSz4CUGawkDBgb2AAZWhzg0WY7nCQzMYpuBsgYM\n",
       "imwFEMEVd+/evQZizOIGEs0PwYLNHAZgWjsIpneDOpCYBxbmmrAKInYJJskkkAUkX7GC3GXB3AAW\n",
       "Y3eAyfJNcAGSmSwgn4gxKoDFeBH+gcoClfMVPIWIKSLcDDb5CStQFzcD0OBgkA0I2QawqxiBRAjI\n",
       "8gMoJjO8AgVP8yuQ+4AmsoNkWSfAZVnBoQEMBQ6DZgZmKbCrtyA0LweGZBWQftN9ouP8CXBgGcoZ\n",
       "wKXX7/6CFroMqb3QkASa/cCRAQ8IVdk+FbcsU0V3HQMAQThBdx6juCoAAAAASUVORK5CYII=\n",
       "\" style=\"display:inline;vertical-align:middle;\" /></a></span></td></tr>\n",
       "<tr><td>&nbsp;</td><td colspan=4 style-\"text-align:left\"><a class=\"ProveItLink\" href=\"../../rational_numbers/_theory_nbs_/proofs/int_within_rational/thm_proof.ipynb\">proveit.numbers.number_sets.rational_numbers.int_within_rational</a></td></tr><tr><td><a name=\"0x3ace2a383d0579cc_step20\">20</a></td><td>instantiation</td><td><a href=\"#0x3ace2a383d0579cc_step23\">23</a>, <a href=\"#0x3ace2a383d0579cc_step24\">24</a>, <a href=\"#0x3ace2a383d0579cc_step25\">25</a></td><td><span style=\"font-size:20px;\"> <a class=\"ProveItLink\" href=\"../__pv_it/demonstrations/fb30d6ebeb217c7431b9eb72c0545530798d7cbf0/proof.ipynb\" style=\"text-decoration: none\">&nbsp;&#x22A2;&nbsp;&nbsp;</a><a class=\"ProveItLink\" href=\"../__pv_it/demonstrations/cd044ff2c9eed9fcc62b58f921afc3efe6c2dfc20/expr.ipynb\"><img src=\"data:image/png;base64,iVBORw0KGgoAAAANSUhEUgAAADEAAAAPBAMAAAC/wjryAAAAMFBMVEX///+YmJiqqqqIiIgyMjLc\n",
       "3NwiIiIQEBC6urp2dnZUVFTMzMxERERmZmbu7u4AAADrYmUNAAAAAXRSTlMAQObYZgAAAOFJREFU\n",
       "GNNj4Lt7ZgMDCmirL3FPKWRgeMXA+QNVxuY2AwvDAQaGewwM5agyNxkYJnE2MDCUMTCsDwCLyKSl\n",
       "OYDoewysC/YCaf8HDOvBFu2xg+vieXAOwsh/ACT4/BDmCTMKgGmOnyCSKwAuwXfgDYTBtgBsAkIL\n",
       "14alEMZdMLndBQjALmDo5ZgAppkvgKkYhB4HoH5OoN26DKwgK9jhEpwKM8Bc7gkMzCAZXgOYTBQr\n",
       "0OLrDAxhM+cuAwskwWTO8TxgeCUD9On//9/AAq9OPIB4osb9zPHvZ5HDq/MYJHSgAACl9Dkf5s66\n",
       "MQAAAABJRU5ErkJggg==\n",
       "\" style=\"display:inline;vertical-align:middle;\" /></a></span></td></tr>\n",
       "<tr><td>&nbsp;</td><td colspan=4 style=\"text-align:left\"><span style=\"font-size:20px;\"><a class=\"ProveItLink\" href=\"../../../../__pv_it/common/09585084922504426caf1db2ff588a23a0932a960/expr.ipynb\"><img src=\"data:image/png;base64,iVBORw0KGgoAAAANSUhEUgAAAA8AAAAOBAMAAAACpFvcAAAALVBMVEX///8iIiIQEBBERERUVFS6\n",
       "urqIiIjc3NxmZmaqqqru7u6YmJgyMjLMzMwAAACK9jtgAAAAAXRSTlMAQObYZgAAAFtJREFUCNdj\n",
       "YACBOwxQcA5Kc59bAGGs7CuAMDbkBYBp1gXzNoAZSxnuJYAZAQx1DSCa16PDzwCshIGB6QCIMYGB\n",
       "gVEBSLMDGTwPgIxCIGZ+zsCw+N0pBk67hw0AfpEVEQi8t+wAAAAASUVORK5CYII=\n",
       "\" style=\"display:inline;vertical-align:middle;\" /></a> : <a class=\"ProveItLink\" href=\"../../natural_numbers/__pv_it/common/8b7c321957f52ed3b05b36af612eeae4fa4783bc0/expr.ipynb\"><img src=\"data:image/png;base64,iVBORw0KGgoAAAANSUhEUgAAAA8AAAAOBAMAAAACpFvcAAAAMFBMVEX///9mZmaqqqrc3NyIiIgi\n",
       "IiJUVFTMzMyYmJi6uroQEBB2dnZEREQyMjLu7u4AAAA1o4RqAAAAAXRSTlMAQObYZgAAAGVJREFU\n",
       "CNdjePvn7AOGXb8mMDCcYE9g4PvAwMCQWuDCwLAAyMg8x1bAEABkJJfx3YMwmBzKIAyGnRwOEAbb\n",
       "g3QIgy+BdwGYwVDNDmVwKBwAMtKBeDOIcQmIGS8wMJT+AvL4LjAAADA2HcoIlkTkAAAAAElFTkSu\n",
       "QmCC\n",
       "\" style=\"display:inline;vertical-align:middle;\" /></a>, <a class=\"ProveItLink\" href=\"../../../../__pv_it/common/a9162d1c3cc0470c02e5daf414500903a7a419230/expr.ipynb\"><img src=\"data:image/png;base64,iVBORw0KGgoAAAANSUhEUgAAABAAAAAOBAMAAADUAYG5AAAALVBMVEX///8yMjKqqqoiIiLu7u7c\n",
       "3NyIiIjMzMwQEBC6urpERERmZmZUVFSYmJgAAACsPVCVAAAAAXRSTlMAQObYZgAAAGxJREFUCNdj\n",
       "YGC48+70nlUTGICgi4GB+zmQZn/LwMD5Gshge8rAwPsMyOBqYGDwMAEy+A4wsNs4ABl1Z68tVgBp\n",
       "ygtgYOkBMVaAOCChNyBGAsQYhnMTIMawvwJyGIHGzFjCwMAj92b3qUUMDAAXABxvZ4rl5AAAAABJ\n",
       "RU5ErkJggg==\n",
       "\" style=\"display:inline;vertical-align:middle;\" /></a> : <a class=\"ProveItLink\" href=\"../../integers/__pv_it/common/e6b4e90f9467053e055a4fd2f735c0bb79cb79300/expr.ipynb\"><img src=\"data:image/png;base64,iVBORw0KGgoAAAANSUhEUgAAAA4AAAAOBAMAAADtZjDiAAAAMFBMVEX///9UVFTc3Nzu7u6qqqp2\n",
       "dnbMzMxmZmZERESIiIiYmJgyMjIQEBAiIiK6uroAAABqpg13AAAAAXRSTlMAQObYZgAAAGVJREFU\n",
       "CNdj4LvzZ/fZPQsYONsTGDZwMDCwBzCwOsQBaQMGRbYCBhBo5jAAUVwTVoG5FswNYFqMUQFE8RU8\n",
       "BXO5GYDCwQwMIawPGBgOMDAJKAINOcDAYdDMwCzVwPCm+0TH+RMFANGWFoagnRaJAAAAAElFTkSu\n",
       "QmCC\n",
       "\" style=\"display:inline;vertical-align:middle;\" /></a>, <a class=\"ProveItLink\" href=\"../../../../__pv_it/common/a0d9d672aa5e272d907247690c152cc2c6daafb70/expr.ipynb\"><img src=\"data:image/png;base64,iVBORw0KGgoAAAANSUhEUgAAAAsAAAAJBAMAAAAWSsseAAAALVBMVEX///9mZmaqqqrMzMxEREQy\n",
       "MjIiIiKYmJh2dna6urrc3NxUVFSIiIju7u4AAACJHQtQAAAAAXRSTlMAQObYZgAAAEJJREFUCNdj\n",
       "YLhzeuWJAwy8Dew5bAEMHBc43nIuYOBlYHFgAAG+A2DKzgBIMF04x8BzgWGegh/DcgaG22fuiBcw\n",
       "AAATyhBrnyPYZQAAAABJRU5ErkJggg==\n",
       "\" style=\"display:inline;vertical-align:middle;\" /></a> : <a class=\"ProveItLink\" href=\"../../../numerals/__pv_it/common/ba3b059982e8b49413dc653e957beb11e974e4bc0/expr.ipynb\"><img src=\"data:image/png;base64,iVBORw0KGgoAAAANSUhEUgAAAAkAAAAOBAMAAAAPuiubAAAALVBMVEX///+qqqqIiIgyMjLc3Nwi\n",
       "IiIQEBC6urp2dnZUVFTMzMxERERmZmbu7u4AAAAQI6y7AAAAAXRSTlMAQObYZgAAAFJJREFUCNdj\n",
       "4D2zewEDw00GjucMDGcZGNIYGFIZGOY5MNhdYJgHlGBgiLsAJNhfgJisE0DkGRDBdABEyjCwODBw\n",
       "NTAwOTC4dvRMZWCwe/fuKQMANh0TGKpG4roAAAAASUVORK5CYII=\n",
       "\" style=\"display:inline;vertical-align:middle;\" /></a></span></td></tr><tr><td><a name=\"0x3ace2a383d0579cc_step21\">21</a></td><td>theorem</td><td></td><td><span style=\"font-size:20px;\"> <a class=\"ProveItLink\" href=\"../../../numerals/decimals/_theory_nbs_/proofs/nat1/thm_proof.ipynb\" style=\"text-decoration: none\">&nbsp;&#x22A2;&nbsp;&nbsp;</a><a class=\"ProveItLink\" href=\"../../../numerals/decimals/__pv_it/theorems/7fb9a05424b991456a1d535347793e2786ff41910/expr.ipynb\"><img src=\"data:image/png;base64,iVBORw0KGgoAAAANSUhEUgAAADIAAAAPBAMAAABU9YHxAAAAMFBMVEX///+6urrc3NzMzMwiIiJE\n",
       "REQyMjJmZmaIiIiYmJh2dnZUVFTu7u4QEBCqqqoAAABhZHJKAAAAAXRSTlMAQObYZgAAALJJREFU\n",
       "GNNjYEAHPPmhOQxc9y8yMPDdQZNinWDNwHCegeH06j9oMtzOHA0MvEAGJ0xmqotLAlhG9MBmBhYk\n",
       "GdMemB7lDccOIMnw5MBNU3jBvAFJhlsBIcMlMANJhhXhAgWGPdwmCBnbNCBIgMqcZshFyKgi62Fe\n",
       "YIuQ4UWWYZjHipBhb4DLGDAwcIGM4ID6xw8mw/YASJQB1e79VgkWOB14AEwz+18FkseQw0sqBBI6\n",
       "UAAAZMEtCDaxdO0AAAAASUVORK5CYII=\n",
       "\" style=\"display:inline;vertical-align:middle;\" /></a></span></td></tr>\n",
       "<tr><td>&nbsp;</td><td colspan=4 style-\"text-align:left\"><a class=\"ProveItLink\" href=\"../../../numerals/decimals/_theory_nbs_/proofs/nat1/thm_proof.ipynb\">proveit.numbers.numerals.decimals.nat1</a></td></tr><tr><td><a name=\"0x3ace2a383d0579cc_step22\">22</a></td><td>conjecture</td><td></td><td><span style=\"font-size:20px;\"> <a class=\"ProveItLink\" href=\"../../../numerals/decimals/_theory_nbs_/proofs/nat3/thm_proof.ipynb\" style=\"text-decoration: none\">&nbsp;&#x22A2;&nbsp;&nbsp;</a><a class=\"ProveItLink\" href=\"../../../numerals/decimals/__pv_it/theorems/f147593b5b15e3dc286e1d3c9d3aa15c2a17a5260/expr.ipynb\"><img src=\"data:image/png;base64,iVBORw0KGgoAAAANSUhEUgAAADMAAAAPBAMAAAC7N+rPAAAAMFBMVEX///9UVFTMzMzu7u4yMjIQ\n",
       "EBC6uroiIiKIiIiYmJhmZmaqqqpERER2dnbc3NwAAACDMjhQAAAAAXRSTlMAQObYZgAAAOBJREFU\n",
       "GNNjYHh79zQDCjD5c8SA4erXBAa+BQz7J6DKnWQSYGD+wMDA8ZuBvwBVSlyhg4EhgIGBLYyB3wEs\n",
       "wnm8vATMEDvMqMAAUQ4xkOmEAVSXnCKzM0SKuRZiO0yGQY67QREsxXd9MUQAbpccwzXOBoiBrQkg\n",
       "8gCSFKOBEESKNRhkVYgLEEClmAVYgC7ke8DA8xtkLrIuBl0moBT/Z4gUyCMIKc4NQJWsBxjYP4ME\n",
       "VsClhID4HlCKcwLUX+wbYFLeQMwFCoasVcfAAswyyRAZ9a9AHcwOyEHHdgcaUFAAAH26M5vnYGic\n",
       "AAAAAElFTkSuQmCC\n",
       "\" style=\"display:inline;vertical-align:middle;\" /></a></span></td></tr>\n",
       "<tr><td>&nbsp;</td><td colspan=4 style-\"text-align:left\"><a class=\"ProveItLink\" href=\"../../../numerals/decimals/_theory_nbs_/proofs/nat3/thm_proof.ipynb\">proveit.numbers.numerals.decimals.nat3</a></td></tr><tr><td><a name=\"0x3ace2a383d0579cc_step23\">23</a></td><td>theorem</td><td></td><td><span style=\"font-size:20px;\"> <a class=\"ProveItLink\" href=\"../../../../logic/sets/inclusion/_theory_nbs_/proofs/superset_membership_from_proper_subset/thm_proof.ipynb\" style=\"text-decoration: none\">&nbsp;&#x22A2;&nbsp;&nbsp;</a><a class=\"ProveItLink\" href=\"../../../../logic/sets/inclusion/__pv_it/theorems/301575c0019a5beac29617bed7eb9fe46c3f48960/expr.ipynb\"><img src=\"data:image/png;base64,iVBORw0KGgoAAAANSUhEUgAAAPcAAAAWBAMAAADuuhdHAAAAMFBMVEX///8QEBCIiIhmZma6urrM\n",
       "zMxUVFQiIiJERETc3Nzu7u6qqqp2dnaYmJgyMjIAAAAcRTyBAAAAAXRSTlMAQObYZgAAA4ZJREFU\n",
       "SMe1lktoE1EUhn+TmTQzTdquRNBFsAul+AgEKoqPqBuVitGFuDP4gAqKQcX3o0qx0yo0brQI2hHB\n",
       "RxQNuNKNsSJK6yMq+BYHXBS60NJarZWi9547mblNk2Ij3kXm3nvOPd+Zc885E6DE4fkSG1vh3FjC\n",
       "20CwOwqLzz+OHx6IVvBHMFtErjcU3H71e2OtEYUvyS2gi2/1lAIPpNmjwiwir0gW3p8EeAegWwRv\n",
       "YxtaQylwOtVWTP6y8LY6DCj9QAfBuev0DuOGU7y6isn3jVi92bPHEqnyk11VH3CBLAQ7U6kzKAn+\n",
       "IZW6migi1kYI1tXkZv4qBt7PbiXKLWDQMA6WBq80jKZMsWIIs5ybumVJByWfm1OVcai7ebDDBN8M\n",
       "NNO++F3Wf7+eckVxnHVSR2mdX9vswn0xSZan62dVcB2vQ4f5wudqrd/2oolfctAi+FJKPbb8RtJg\n",
       "FQJVdDyn/ynqHH0O3HPhShg38l7Y0S1jhE48M5ePMAXMTkKfyJ7lCYKXwUO1enGYpN44yofkE/oi\n",
       "JlarIxE2rwXumg4cCczMGb12f0FOl8YEJjZhiMXqL2yIhDvKHWCOqb1kIZAto+3OncLlELyWDA9c\n",
       "DkPfuiKVYvMdwEL3zfEEubQKnjhr2rouHOgTC6kev3N4yIFr1loqwJBw82YMs0wZvsbfwG+XgjAA\n",
       "T48EP6/G2aR6zWZ2d46uG3aoA7YnI8oc29lRRYQdzZsoKTCHxKtmTo9Dhse9CdTZCdf34riU7fCf\n",
       "Zj81PmuXaNJC1024O55eUI15Q04RsDJXB92Ewy068B6zSfwUmCbDg2lm4oENtOBJSPBy7m+sIgs9\n",
       "7Ora4jCUX/5eTeTAAafpslxe3ML9yQh4JfdL//y4laJ9EmhPS/Ab8x8NYa79OhlovyS4uNPKJNS9\n",
       "hnHM1rWDlIC+oaba/mJdahRp6vv6PVJ/gryICQtBLvCaaKeLZcZXJSX4PGgDLCyiQ6Sh/JTh76h0\n",
       "EUPc1S3YXuua7PaaG5dtCzRWMtNZrQXaELQpUtgVFrdhXBFK7SZOZWQ476O9T5ER9yJ0x/6w5EaH\n",
       "BPcPQms9pE7Gw/5IfVSCtzag7UdWob4WOBKpbUQeXN9WN8OEP+3ojuqLBb/2lvzmYpTLnVIWXDIM\n",
       "Y1Rvl8d0fud/8WdCci0ffrsYvMCX4/C//I16ywx058Gzfw//v8P7/xF/AAdz9RArGsNxAAAAAElF\n",
       "TkSuQmCC\n",
       "\" style=\"display:inline;vertical-align:middle;\" /></a></span></td></tr>\n",
       "<tr><td>&nbsp;</td><td colspan=4 style-\"text-align:left\"><a class=\"ProveItLink\" href=\"../../../../logic/sets/inclusion/_theory_nbs_/proofs/superset_membership_from_proper_subset/thm_proof.ipynb\">proveit.logic.sets.inclusion.superset_membership_from_proper_subset</a></td></tr><tr><td><a name=\"0x3ace2a383d0579cc_step24\">24</a></td><td>conjecture</td><td></td><td><span style=\"font-size:20px;\"> <a class=\"ProveItLink\" href=\"../../integers/_theory_nbs_/proofs/nat_within_int/thm_proof.ipynb\" style=\"text-decoration: none\">&nbsp;&#x22A2;&nbsp;&nbsp;</a><a class=\"ProveItLink\" href=\"../../integers/__pv_it/theorems/d41d654a59eae2353d0659866c1e7bfe3eb3ac620/expr.ipynb\"><img src=\"data:image/png;base64,iVBORw0KGgoAAAANSUhEUgAAADkAAAAPBAMAAACsFXoGAAAAMFBMVEX///9mZmaqqqrc3NyIiIgi\n",
       "IiJUVFTMzMyYmJi6uroQEBB2dnZEREQyMjLu7u4AAAA1o4RqAAAAAXRSTlMAQObYZgAAAPZJREFU\n",
       "GNNjePvn7AOGXb8mMKCAqevX3opdAWScYE9g4PuAKsngI87Ay3AAyEgtcGFgWIAmK83AsIkbZF7m\n",
       "ObYChgCIYE9oaGg4iCHHwJxQCGIkl/Hdg8rabkbo5nlwDizL5FAGlQ1GMruFowEsy7CTwwEsy6iA\n",
       "kOQ78IYBIsv2IB0sy4qkla0gGSrLl8ALdrMZkuxEzg1QWYZqdrDsGyTZCzwMDNwPwLIcCgfQTOZW\n",
       "2MnAwAVkpAPxZrAstwNc1ow5gYFBCsi4BHLtBbDYJbjsOZ4HDM96GBhKfwH18UFkn2U+gEhyrrl1\n",
       "5tSvg2jBW30UGpJQAADwfUE6b5/KAQAAAABJRU5ErkJggg==\n",
       "\" style=\"display:inline;vertical-align:middle;\" /></a></span></td></tr>\n",
       "<tr><td>&nbsp;</td><td colspan=4 style-\"text-align:left\"><a class=\"ProveItLink\" href=\"../../integers/_theory_nbs_/proofs/nat_within_int/thm_proof.ipynb\">proveit.numbers.number_sets.integers.nat_within_int</a></td></tr><tr><td><a name=\"0x3ace2a383d0579cc_step25\">25</a></td><td>theorem</td><td></td><td><span style=\"font-size:20px;\"> <a class=\"ProveItLink\" href=\"../../../numerals/decimals/_theory_nbs_/proofs/nat2/thm_proof.ipynb\" style=\"text-decoration: none\">&nbsp;&#x22A2;&nbsp;&nbsp;</a><a class=\"ProveItLink\" href=\"../../../numerals/decimals/__pv_it/theorems/f05a14f3b1e025929c966a4ccb020e28f34812b20/expr.ipynb\"><img src=\"data:image/png;base64,iVBORw0KGgoAAAANSUhEUgAAADIAAAAPBAMAAABU9YHxAAAAMFBMVEX///+YmJiqqqqIiIgyMjLc\n",
       "3NwiIiIQEBC6urp2dnZUVFTMzMxERERmZmbu7u4AAADrYmUNAAAAAXRSTlMAQObYZgAAAOBJREFU\n",
       "GNNj4Lt7ZgMDMuDzP+PHwFlfwfCKgfMHigwDj8AuBob3DAz3GBjKUWW4spkNGNgZGMoYGNYHgEVk\n",
       "0tIcwDI9D1YzsDEw+D9gWA+2aI8dTE/0gicP2MDM/Acgi/3gpgUocy8Ay3D8hPARMpwNwmAZtgVg\n",
       "FyFcEMCwjmsbiHUXzN/uAgQOUJlXDO5ABvMFsEwMsh7uCduBDF0GVpAV7MgyDEJAw7knMDCDZHgN\n",
       "4DJAT3ACjQibOXcZWCAJJsOiACSuAH36//83sMCrEw/ANHd+DZB8ghxenccgoQMFAOa6NR2IZoaj\n",
       "AAAAAElFTkSuQmCC\n",
       "\" style=\"display:inline;vertical-align:middle;\" /></a></span></td></tr>\n",
       "<tr><td>&nbsp;</td><td colspan=4 style-\"text-align:left\"><a class=\"ProveItLink\" href=\"../../../numerals/decimals/_theory_nbs_/proofs/nat2/thm_proof.ipynb\">proveit.numbers.numerals.decimals.nat2</a></td></tr></table>"
      ],
      "text/plain": [
       "\tstep type\trequirements\tstatement\n",
       "0\tinstantiation\t1, 4, 5, 2\t|- 2 in [1,3]\n",
       "\ta : 1, b : 3, x : 2\n",
       "1\tconjecture\t\t|- forall_{a, b in Real} [forall_{x in (a,b]} (x in [a,b])]\n",
       "2\tinstantiation\t3, 4, 5, 6, 7, 8\t|- 2 in (1,3]\n",
       "\ta : 1, b : 3, x : 2\n",
       "3\tconjecture\t\t|- forall_{a, b, x in Real | a < x, x <= b} (x in (a,b])\n",
       "4\tinstantiation\t21, 11, 9\t|- 1 in Real\n",
       "\tA : Rational, B : Real, x : 1\n",
       "5\tinstantiation\t21, 11, 10\t|- 3 in Real\n",
       "\tA : Rational, B : Real, x : 3\n",
       "6\tinstantiation\t21, 11, 12\t|- 2 in Real\n",
       "\tA : Rational, B : Real, x : 2\n",
       "7\tconjecture\t\t|- 1 < 2\n",
       "8\tinstantiation\t13, 14\t|- 2 <= 3\n",
       "\tx : 2, y : 3\n",
       "9\tinstantiation\t21, 17, 15\t|- 1 in Rational\n",
       "\tA : Integer, B : Rational, x : 1\n",
       "10\tinstantiation\t21, 17, 16\t|- 3 in Rational\n",
       "\tA : Integer, B : Rational, x : 3\n",
       "11\tconjecture\t\t|- Rational proper_subset Real\n",
       "12\tinstantiation\t21, 17, 18\t|- 2 in Rational\n",
       "\tA : Integer, B : Rational, x : 2\n",
       "13\tconjecture\t\t|- forall_{x, y | x < y} (x <= y)\n",
       "14\tconjecture\t\t|- 2 < 3\n",
       "15\tinstantiation\t21, 22, 19\t|- 1 in Integer\n",
       "\tA : Natural, B : Integer, x : 1\n",
       "16\tinstantiation\t21, 22, 20\t|- 3 in Integer\n",
       "\tA : Natural, B : Integer, x : 3\n",
       "17\tconjecture\t\t|- Integer proper_subset Rational\n",
       "18\tinstantiation\t21, 22, 23\t|- 2 in Integer\n",
       "\tA : Natural, B : Integer, x : 2\n",
       "19\ttheorem\t\t|- 1 in Natural\n",
       "\tproveit.numbers.numerals.decimals.nat1\n",
       "20\tconjecture\t\t|- 3 in Natural\n",
       "21\ttheorem\t\t|- forall_{A, B | A proper_subset B} [forall_{x in A} (x in B)]\n",
       "\tproveit.logic.sets.inclusion.superset_membership_from_proper_subset\n",
       "22\tconjecture\t\t|- Natural proper_subset Integer\n",
       "23\ttheorem\t\t|- 2 in Natural\n",
       "\tproveit.numbers.numerals.decimals.nat2"
      ]
     },
     "execution_count": 32,
     "metadata": {},
     "output_type": "execute_result"
    }
   ],
   "source": [
    "two_in_O1_3C.proof()"
   ]
  },
  {
   "cell_type": "markdown",
   "metadata": {},
   "source": [
    "<a id='demo02'></a><font size=4><b>2.</b> Proving $[1,2]\\subseteq \\mathbb{R}^{+}$</font><br><br>\n",
    "<font size=3>The set of real numbers in the closed interval $[1, 2]$ is clearly a subset (and thus also an improper subset) of the positive real numbers $\\mathbb{R}^{+}$. Prove-It will not automatically prove this, however:</font>"
   ]
  },
  {
   "cell_type": "code",
   "execution_count": 33,
   "metadata": {},
   "outputs": [
    {
     "name": "stdout",
     "output_type": "stream",
     "text": [
      "Proof failure. Proof step failed:\n",
      "Attempting to instantiate |- forall_{A, B | forall_{x in A} (x in B)} (A subseteq B) with {A: [1,2], B: RealPos, x: _a}:\n",
      "Unsatisfied condition: forall_{_a in [1,2]} (_a in RealPos)\n"
     ]
    }
   ],
   "source": [
    "from proveit.logic import SubsetEq\n",
    "try:\n",
    "    SubsetEq(IntervalCC(one, two), RealPos).prove()\n",
    "except ProofFailure as e:\n",
    "    print(\"Proof failure. {}\".format(e))"
   ]
  },
  {
   "cell_type": "markdown",
   "metadata": {},
   "source": [
    "<font size=3>So we do a little work first to lead Prove-It to a proof. (See Demonstration \\#3 below for an alternative approach.)\n",
    "\n",
    "First we define our interval of interest and use some basic `IntervalCC` methods to derive that an element of $[1,2]$ is real, greater than or equal to 1, and greater than 0:</font>"
   ]
  },
  {
   "cell_type": "code",
   "execution_count": 34,
   "metadata": {},
   "outputs": [
    {
     "data": {
      "text/html": [
       "<strong id=\"interval_12\">interval_12:</strong> <a class=\"ProveItLink\" href=\"../__pv_it/demonstrations/1bdb905855e1abbbe2fd6581fe04af941efb84500/expr.ipynb\"><img src=\"data:image/png;base64,iVBORw0KGgoAAAANSUhEUgAAACUAAAAUBAMAAAD4luk4AAAAMFBMVEX////c3NxERERmZmaYmJhU\n",
       "VFTu7u4QEBCqqqoiIiK6urp2dnbMzMwyMjKIiIgAAAB1lk67AAAAAXRSTlMAQObYZgAAAJhJREFU\n",
       "GNNjeHuHAQWw3FzAsAuJz2asdICBGyLWngARS2Xg/gURY4uOh4qZMTCUw9T5Q8UqGRjiBdDE7icw\n",
       "xB9AEwOC+QkYYly/GTDEOAMwxYwZMMT4DDDFmhkY0d3Cs4GBDyb2PoGB7S+Qlty9ORKq17T+sgPD\n",
       "TKDa+////4SZBwIcMDORxLgZMMXysIg5IIm9RAt7vpsLAOY9PnimwCFWAAAAAElFTkSuQmCC\n",
       "\" style=\"display:inline;vertical-align:middle;\" /></a><br>"
      ],
      "text/plain": [
       "interval_12: [1,2]"
      ]
     },
     "execution_count": 34,
     "metadata": {},
     "output_type": "execute_result"
    }
   ],
   "source": [
    "# define our interval of interest\n",
    "interval_12 = IntervalCC(one, two)"
   ]
  },
  {
   "cell_type": "code",
   "execution_count": 35,
   "metadata": {},
   "outputs": [
    {
     "data": {
      "text/html": [
       "<span style=\"font-size:20px;\"><a class=\"ProveItLink\" href=\"../__pv_it/demonstrations/519f917bb33a68582dab3b0e2856b35290988af50/expr.ipynb\"><img src=\"data:image/png;base64,iVBORw0KGgoAAAANSUhEUgAAAE0AAAAUBAMAAAA6pq28AAAAMFBMVEX///8QEBBmZmaqqqrMzMxE\n",
       "REQyMjIiIiKYmJh2dna6urrc3NxUVFSIiIju7u4AAAA6P00QAAAAAXRSTlMAQObYZgAAARRJREFU\n",
       "KM9jYMACrqWg8jnSF2BTxjALic2nFOrAwIlTHbMclP2GgfMXbnVv5vyDsvUYGATR1HGEl5fBzOOA\n",
       "qRNnYDi/AUUdS+wDhL1wdfkPGM47gNS9vbPr5gWQyLMHDFjUAUH9A6A6vgkctewJIO5pBuzquH6C\n",
       "3Mf5gPMf1wYQPwCHOvYDIHV8DKwQBSxiaUCARZ0SA8S//GDXMXDjMI9XAarO3wEiIIBdnREDNyhc\n",
       "mB/cZ+AF+1QXqzqWCQy8IHXrDeIZdkDca4Ckjheo7j0oGLbPnHQcZO+bu281GiAxfnQdXB3TwW8a\n",
       "DOx1oHD+//87WrxxTUXEGxjYwWQ48aerCcSp47tAnDoOBgLqrqOle970BQAPBF160ikbGQAAAABJ\n",
       "RU5ErkJggg==\n",
       "\" style=\"display:inline;vertical-align:middle;\" /></a> <a class=\"ProveItLink\" href=\"../__pv_it/demonstrations/6a0cd0c91a10c6cf61466c21bd223d1200620cfc0/proof.ipynb\" style=\"text-decoration: none\">&nbsp;&#x22A2;&nbsp;&nbsp;</a><a class=\"ProveItLink\" href=\"../__pv_it/theorems/d54ee3eb718ab9be6c4ed1cdc7b96ed6214ca6030/expr.ipynb\"><img src=\"data:image/png;base64,iVBORw0KGgoAAAANSUhEUgAAADQAAAAPBAMAAABZ6/G2AAAAMFBMVEX///8QEBBmZmaqqqrMzMxE\n",
       "REQyMjIiIiKYmJh2dna6urrc3NxUVFSIiIju7u4AAAA6P00QAAAAAXRSTlMAQObYZgAAAMRJREFU\n",
       "GNNjYMAAHIWh3xIjGLACNr4DLBFxWKVYuScwBOxBEWotL0+ASWmzIcu43kPSpc0KZLy9s+vmBSDN\n",
       "l4ds4IE1QJEJHLXsIHN4NiBJMRcBFXI+4PzHBRJlRXKGeHkyyBwG1gCwgGMaEECdMUsB4nb+C2Bq\n",
       "K7LjtVzBLH8HMMWILMX6Aqie+cF9Bt4HQAGmC0hSLAdUGBjWG8Qz7ACLFCMFFMNkHgeGN3ffajSA\n",
       "Rd5EPYAHrwNr2Gfk4FgZDgkoKAAAelg1omM6Y4wAAAAASUVORK5CYII=\n",
       "\" style=\"display:inline;vertical-align:middle;\" /></a></span>"
      ],
      "text/plain": [
       "{x in [1,2]} |- x in Real"
      ]
     },
     "execution_count": 35,
     "metadata": {},
     "output_type": "execute_result"
    }
   ],
   "source": [
    "# if x is in [1, 2] x must be real\n",
    "interval_12.deduce_member_in_real(x, assumptions=[InSet(x, interval_12)])"
   ]
  },
  {
   "cell_type": "code",
   "execution_count": 36,
   "metadata": {},
   "outputs": [
    {
     "data": {
      "text/html": [
       "<span style=\"font-size:20px;\"><a class=\"ProveItLink\" href=\"../__pv_it/demonstrations/519f917bb33a68582dab3b0e2856b35290988af50/expr.ipynb\"><img src=\"data:image/png;base64,iVBORw0KGgoAAAANSUhEUgAAAE0AAAAUBAMAAAA6pq28AAAAMFBMVEX///8QEBBmZmaqqqrMzMxE\n",
       "REQyMjIiIiKYmJh2dna6urrc3NxUVFSIiIju7u4AAAA6P00QAAAAAXRSTlMAQObYZgAAARRJREFU\n",
       "KM9jYMACrqWg8jnSF2BTxjALic2nFOrAwIlTHbMclP2GgfMXbnVv5vyDsvUYGATR1HGEl5fBzOOA\n",
       "qRNnYDi/AUUdS+wDhL1wdfkPGM47gNS9vbPr5gWQyLMHDFjUAUH9A6A6vgkctewJIO5pBuzquH6C\n",
       "3Mf5gPMf1wYQPwCHOvYDIHV8DKwQBSxiaUCARZ0SA8S//GDXMXDjMI9XAarO3wEiIIBdnREDNyhc\n",
       "mB/cZ+AF+1QXqzqWCQy8IHXrDeIZdkDca4Ckjheo7j0oGLbPnHQcZO+bu281GiAxfnQdXB3TwW8a\n",
       "DOx1oHD+//87WrxxTUXEGxjYwWQ48aerCcSp47tAnDoOBgLqrqOle970BQAPBF160ikbGQAAAABJ\n",
       "RU5ErkJggg==\n",
       "\" style=\"display:inline;vertical-align:middle;\" /></a> <a class=\"ProveItLink\" href=\"../__pv_it/demonstrations/23be1d0457a1f6d2cfd45589c2c74d436ef900bd0/proof.ipynb\" style=\"text-decoration: none\">&nbsp;&#x22A2;&nbsp;&nbsp;</a><a class=\"ProveItLink\" href=\"../__pv_it/demonstrations/10971ce0dd3c4d19ead2826e9821116e4808e2410/expr.ipynb\"><img src=\"data:image/png;base64,iVBORw0KGgoAAAANSUhEUgAAADAAAAARBAMAAABp3DInAAAAMFBMVEX///+6urpERETc3NzMzMwi\n",
       "IiIyMjJmZmaIiIiYmJh2dnZUVFTu7u4QEBCqqqoAAAA8/FlzAAAAAXRSTlMAQObYZgAAAJVJREFU\n",
       "GNNjYMAJ+O4g2BwhCPbp1X/g7FMRyDo44RLmkQxYJazzGLBKOCXCRHg6NkusgEswqSCsYpjaEAaX\n",
       "4Ig4AJNYw7D+gDDCKM4omMwBBiUUy/nSDWB6fqA6lzHbAcJg+YIqwcCiJACi3nB8YOgB2oqQYGDe\n",
       "AtL4j+kD8wQG9r3fKlE9xrOjp30mAwXgWCgIIIIdAHX9KyVSNAaOAAAAAElFTkSuQmCC\n",
       "\" style=\"display:inline;vertical-align:middle;\" /></a></span>"
      ],
      "text/plain": [
       "{x in [1,2]} |- 1 <= x"
      ]
     },
     "execution_count": 36,
     "metadata": {},
     "output_type": "execute_result"
    }
   ],
   "source": [
    "# and of course if x is in [1, 2] then 1 ≤ x\n",
    "interval_12.deduce_member_lower_bound(x, assumptions=[InSet(x, interval_12)])"
   ]
  },
  {
   "cell_type": "code",
   "execution_count": 37,
   "metadata": {},
   "outputs": [
    {
     "data": {
      "text/html": [
       "<span style=\"font-size:20px;\"><a class=\"ProveItLink\" href=\"../__pv_it/demonstrations/519f917bb33a68582dab3b0e2856b35290988af50/expr.ipynb\"><img src=\"data:image/png;base64,iVBORw0KGgoAAAANSUhEUgAAAE0AAAAUBAMAAAA6pq28AAAAMFBMVEX///8QEBBmZmaqqqrMzMxE\n",
       "REQyMjIiIiKYmJh2dna6urrc3NxUVFSIiIju7u4AAAA6P00QAAAAAXRSTlMAQObYZgAAARRJREFU\n",
       "KM9jYMACrqWg8jnSF2BTxjALic2nFOrAwIlTHbMclP2GgfMXbnVv5vyDsvUYGATR1HGEl5fBzOOA\n",
       "qRNnYDi/AUUdS+wDhL1wdfkPGM47gNS9vbPr5gWQyLMHDFjUAUH9A6A6vgkctewJIO5pBuzquH6C\n",
       "3Mf5gPMf1wYQPwCHOvYDIHV8DKwQBSxiaUCARZ0SA8S//GDXMXDjMI9XAarO3wEiIIBdnREDNyhc\n",
       "mB/cZ+AF+1QXqzqWCQy8IHXrDeIZdkDca4Ckjheo7j0oGLbPnHQcZO+bu281GiAxfnQdXB3TwW8a\n",
       "DOx1oHD+//87WrxxTUXEGxjYwWQ48aerCcSp47tAnDoOBgLqrqOle970BQAPBF160ikbGQAAAABJ\n",
       "RU5ErkJggg==\n",
       "\" style=\"display:inline;vertical-align:middle;\" /></a> <a class=\"ProveItLink\" href=\"../__pv_it/demonstrations/1351b2491b420cddc8d90f86836459b2876b8f1d0/proof.ipynb\" style=\"text-decoration: none\">&nbsp;&#x22A2;&nbsp;&nbsp;</a><a class=\"ProveItLink\" href=\"../__pv_it/demonstrations/c6babe4d6cabe05283820a5a9d1133e842f8cb8b0/expr.ipynb\"><img src=\"data:image/png;base64,iVBORw0KGgoAAAANSUhEUgAAADEAAAAOBAMAAAB0nulXAAAAMFBMVEX///8QEBBmZmaqqqrMzMxE\n",
       "REQyMjIiIiKYmJh2dna6urrc3NxUVFSIiIju7u4AAAA6P00QAAAAAXRSTlMAQObYZgAAALhJREFU\n",
       "GNNjYMAG5nY6YBVnYDPgq0biPmuAMxsZGKYhyfBNvwBjxjAw2D9ANuT6PCjjDwPDegMGhrd3dt2E\n",
       "qm7Xg+j+BJS5wMA3gaOWPQGq2Ow0iOT+ycDgf4GB8wHnP64NMAOXnQPJAPX4T2DgY2ANQFi1LA5h\n",
       "GgMDP9xNUNNALrAHuoDBH+5fqAsYQhkY+h8wMD+4z8D7ANXVEJ+uN4hn2IHmU3YDPhEGhjd332o0\n",
       "oIUO39w7DgwA0hc2rjz1UYUAAAAASUVORK5CYII=\n",
       "\" style=\"display:inline;vertical-align:middle;\" /></a></span>"
      ],
      "text/plain": [
       "{x in [1,2]} |- x > 0"
      ]
     },
     "execution_count": 37,
     "metadata": {},
     "output_type": "execute_result"
    }
   ],
   "source": [
    "# x being real and x ≥ 1 also means x > 0\n",
    "from proveit.numbers import Greater\n",
    "Greater(x, zero).conclude_via_transitivity(assumptions=[InSet(x, interval_12)])"
   ]
  },
  {
   "cell_type": "markdown",
   "metadata": {},
   "source": [
    "<font size=3>Then we can pull in a version of the definition of positive real numbers and instantiate this for our element $x$ in the interval $[1, 2]$:</font>"
   ]
  },
  {
   "cell_type": "code",
   "execution_count": 38,
   "metadata": {},
   "outputs": [
    {
     "data": {
      "text/html": [
       "<span style=\"font-size:20px;\"> <a class=\"ProveItLink\" href=\"proofs/in_real_pos_iff_positive/thm_proof.ipynb\" style=\"text-decoration: none\">&nbsp;&#x22A2;&nbsp;&nbsp;</a><a class=\"ProveItLink\" href=\"../__pv_it/theorems/5e94e4fb4d6d7bc6f2a537f31e488d246f66c1f70/expr.ipynb\"><img src=\"data:image/png;base64,iVBORw0KGgoAAAANSUhEUgAAAPsAAAAbBAMAAABIGOQXAAAAMFBMVEX///8QEBCIiIhmZma6urrM\n",
       "zMxUVFQiIiJERETc3Nzu7u6qqqp2dnaYmJgyMjIAAAAcRTyBAAAAAXRSTlMAQObYZgAAA/xJREFU\n",
       "SMfNV19oW1UY/5rkJjc3N23fNgVLOp2IMAitg03qrAj1xbEMxE0QeqlVNjdkrluDdg9BRNOOSlCo\n",
       "fRnNKGwQZlPcYAwEL0xfOiaVDSdlk+jWqh3Lythga8vw+86/e9Pc5NK8uA/uLycn55zfOd/5nd+5\n",
       "AXiS4y0FNcPCJ9HI2AHfFpoloXZk8OlphD5k+bVozkuoT2/ONsJ/2a9Bh4L69PCp508nanaK5RAi\n",
       "uK4Sfbvh3Si6LGFtxD/OPv5z1KF/1qu7kfEc1dzyM8B+2vwkwCWqWfSmN5MSqrfFsLTREQiXy23l\n",
       "OwATnm1ynqPehtM5mKKFLQGM06f3NKFpWkJV6FEbMmNq9RGvRldcibjjJK4VzBKYdFiGuLDMaW/6\n",
       "ibwEFb+n0yVJv71Z0QflAqjqbVH+xNXvzGE1cQtiy2C0YnEbTmamUPi2hkB+VSBj74uu1W/XFX2g\n",
       "VdRvod9SXDmHKk75MbGMFgtCKwC3sNiOz8Ns9lgN+h0Sol0dT7McLrqTb/Uo+pDQp5ZxWpGy4JuL\n",
       "7YI2PsALxSSE7gFcxOIurHkfYLgGfVbCa7nmJSqHcy762MCiotce8OrdG9IYbYxIRzMIPQV31WFb\n",
       "YL0nbNCQ/g8s9mKaXgej5KI8/8J7f8nyggDjGbG5ukt6G9K3WYmNGb3PF/whz8FxKceTs7TB0uYW\n",
       "mJaSoK0iDxW7sRUEpGcZP3TOBkyYkRY+ICC4DBFWt7uMIaT3U3LEpWxGbwyKrxGabBMO/moeDjv0\n",
       "/+Sd5PdSsZsMM6JkfaEASD8np3NTQFMGikxO4+6D99Jel0Hx1Y/ZfDIHQdBvBOPBmuSj9GIrnJ5W\n",
       "Hy3RQZl8fh5CpBWit0WHLwQUbfiRG4GbXv/Ouei0R/zzGqWn/HdKJN9YhdgSVEpPz0AchfoG7T3N\n",
       "Z7gf53tUW2Znlug7pc/tE1Ccho+YSwcTLnrN2urkVSg/Tl2Nf0FIz1iBcOlC5cHjtsOkR8qHs3g+\n",
       "g0ntEEyyZsEPjshB2wXoifigyWqGXKYLl8Ipl5Xx6KdJTivL/gyuWXal7eAYJ7Ffl7SUlgQ5a8CC\n",
       "PdlsNhEwv74qG7LZIRh9m8eeYzWnPs+rKyelf7UiWyrXm3IUEsJlndr0Tl93penCmU141mGeux4O\n",
       "hSMWc/pcPsyTH3tX2iyJh4OKN79Ml7xuF7krUXwKHqZbdRuSJaoT3pTr3Qlmiu/9jJRe0JbgF8V8\n",
       "/Sun+jLF+RrqKg/1ff8KALnF+V/syR1Sz60S/OI3z1sxV7sDbVJ8zdtWAPe+ouKAAp84uo7XDRbk\n",
       "85GUz6hTCupH3F7ny1acEnPdb9hYUkL9GG/kTTOa8W1yTkHdeLkR+mD+f/8b8x/8GA0VrBlwlgAA\n",
       "AABJRU5ErkJggg==\n",
       "\" style=\"display:inline;vertical-align:middle;\" /></a></span>"
      ],
      "text/plain": [
       "|- forall_{a in Real} ((a in RealPos) <=> (a > 0))"
      ]
     },
     "execution_count": 38,
     "metadata": {},
     "output_type": "execute_result"
    }
   ],
   "source": [
    "# pull in a definition of positive reals\n",
    "from proveit.numbers.number_sets.real_numbers import in_real_pos_iff_positive\n",
    "in_real_pos_iff_positive"
   ]
  },
  {
   "cell_type": "code",
   "execution_count": 39,
   "metadata": {},
   "outputs": [
    {
     "data": {
      "text/html": [
       "<strong id=\"x_real_pos_iff_xPos\">x_real_pos_iff_xPos:</strong> <span style=\"font-size:20px;\"><a class=\"ProveItLink\" href=\"../__pv_it/demonstrations/519f917bb33a68582dab3b0e2856b35290988af50/expr.ipynb\"><img src=\"data:image/png;base64,iVBORw0KGgoAAAANSUhEUgAAAE0AAAAUBAMAAAA6pq28AAAAMFBMVEX///8QEBBmZmaqqqrMzMxE\n",
       "REQyMjIiIiKYmJh2dna6urrc3NxUVFSIiIju7u4AAAA6P00QAAAAAXRSTlMAQObYZgAAARRJREFU\n",
       "KM9jYMACrqWg8jnSF2BTxjALic2nFOrAwIlTHbMclP2GgfMXbnVv5vyDsvUYGATR1HGEl5fBzOOA\n",
       "qRNnYDi/AUUdS+wDhL1wdfkPGM47gNS9vbPr5gWQyLMHDFjUAUH9A6A6vgkctewJIO5pBuzquH6C\n",
       "3Mf5gPMf1wYQPwCHOvYDIHV8DKwQBSxiaUCARZ0SA8S//GDXMXDjMI9XAarO3wEiIIBdnREDNyhc\n",
       "mB/cZ+AF+1QXqzqWCQy8IHXrDeIZdkDca4Ckjheo7j0oGLbPnHQcZO+bu281GiAxfnQdXB3TwW8a\n",
       "DOx1oHD+//87WrxxTUXEGxjYwWQ48aerCcSp47tAnDoOBgLqrqOle970BQAPBF160ikbGQAAAABJ\n",
       "RU5ErkJggg==\n",
       "\" style=\"display:inline;vertical-align:middle;\" /></a> <a class=\"ProveItLink\" href=\"../__pv_it/demonstrations/1a57ccee387b0a8258f79a84eea992aaa9b3b3630/proof.ipynb\" style=\"text-decoration: none\">&nbsp;&#x22A2;&nbsp;&nbsp;</a><a class=\"ProveItLink\" href=\"../__pv_it/demonstrations/88fe1fbb1e194bfba15ad3b075d9641f4f3ce74e0/expr.ipynb\"><img src=\"data:image/png;base64,iVBORw0KGgoAAAANSUhEUgAAALIAAAAbBAMAAAAqt8h9AAAAMFBMVEX///8iIiJERESYmJiqqqoQ\n",
       "EBB2dnbc3NyIiIhmZmbu7u4yMjJUVFS6urrMzMwAAADZVrDbAAAAAXRSTlMAQObYZgAAAsxJREFU\n",
       "SMfNVk1oU0EQ/pKX5ufZF42otAZKrAdFxKaKoOghvQpCKHgSIXiyHjQq9iYJiJKWggFFxF62gqWQ\n",
       "QoM/iCbWUMQIgrQnfxBbclbsIWgJKM6+fT+b+EzSgOAedt/O7H47M9/MJMA/HF+barv5lO4IOFhq\n",
       "qnbz6VNHyBtYa2RvtBPkO2iNjO1OKt/f3/MkSV1z0gwODxSGozbymNOhe86o3qvngDKtWUd1fhaV\n",
       "/QxvCo8LBXoh5XTmiTPyI0wlkQO6Yo7qyCjcvpJls8vhlCLZpD60xXF48/CmkaojUNkRCpvIgWTe\n",
       "Qg5ETF/sZHIlpYvTPRYxJXhqUOM4WJeBu5ltcyAZsZD9cSH289jvE98X6jzwbzOubixBqwLPMcl9\n",
       "yZTfn+HSHJOi0a3Z0dAMnivSKc7qzMSV60YZKb1CPJeFtgaMoJ+7gsG0HoSyHOehSWYhB3+J5USI\n",
       "xtZn+mYnmZRQelx5M9OKenhSCQQJ+QiKtDmL8+ydjmcjXw6FddZ8InV/6suEMKuia7ZQYjFvTbPC\n",
       "rRW5OpVF8DswhF7aMN1yMulkgYZh8we3xK2qI0+ZjWAzn06RGG7bGGgPmB2Nb3iqC9eEZZLNo4HP\n",
       "0iVhs++V2M0mDGTiy25WRjSIQU+VI++Vwoi4HOc9h6Sk+SFYCnOnCn0wokEAK1bCGgySFwrxvYQF\n",
       "2hzzr2K8vocQ8pfAiu2okRuH9dxImgx62A34WX3WiUohBq/Rtap7VXQXu9Sour2xt3JhiW69SNMt\n",
       "8T0CLMcGcKmhUsiX+2TSbSwzqK/Hxw4IohY+Wh1pHv0vrIfMGlTzNhtLFPDMzM1oQ3VjOsMtmkfX\n",
       "olxJ2mmjuhubuEkUBUJlDtXdONRNCCTaaeJzrHlH+rOVphGMt4N81Em4q8kF6qJ42Q5y3zo6v/Vq\n",
       "rg1gJbHOXyuFc+DJtka+2Nn/jeOtj9zF/zR+A76hrPCz5T+tAAAAAElFTkSuQmCC\n",
       "\" style=\"display:inline;vertical-align:middle;\" /></a></span><br>"
      ],
      "text/plain": [
       "x_real_pos_iff_xPos: {x in [1,2]} |- (x in RealPos) <=> (x > 0)"
      ]
     },
     "execution_count": 39,
     "metadata": {},
     "output_type": "execute_result"
    }
   ],
   "source": [
    "# instantiate for our element x in [1, 2]\n",
    "x_real_pos_iff_xPos = in_real_pos_iff_positive.instantiate(\n",
    "    {a:x}, assumptions=[InSet(x, interval_12)])"
   ]
  },
  {
   "cell_type": "markdown",
   "metadata": {},
   "source": [
    "<font size=3>Since we have already established that $x > 0$ when $x\\in [1,2]$, we can derive the left-hand side of that logical equivalence under our assumption for $x$:</font>"
   ]
  },
  {
   "cell_type": "code",
   "execution_count": 40,
   "metadata": {},
   "outputs": [
    {
     "data": {
      "text/html": [
       "<strong id=\"x_in_interval_then_xPos\">x_in_interval_then_xPos:</strong> <span style=\"font-size:20px;\"><a class=\"ProveItLink\" href=\"../__pv_it/demonstrations/519f917bb33a68582dab3b0e2856b35290988af50/expr.ipynb\"><img src=\"data:image/png;base64,iVBORw0KGgoAAAANSUhEUgAAAE0AAAAUBAMAAAA6pq28AAAAMFBMVEX///8QEBBmZmaqqqrMzMxE\n",
       "REQyMjIiIiKYmJh2dna6urrc3NxUVFSIiIju7u4AAAA6P00QAAAAAXRSTlMAQObYZgAAARRJREFU\n",
       "KM9jYMACrqWg8jnSF2BTxjALic2nFOrAwIlTHbMclP2GgfMXbnVv5vyDsvUYGATR1HGEl5fBzOOA\n",
       "qRNnYDi/AUUdS+wDhL1wdfkPGM47gNS9vbPr5gWQyLMHDFjUAUH9A6A6vgkctewJIO5pBuzquH6C\n",
       "3Mf5gPMf1wYQPwCHOvYDIHV8DKwQBSxiaUCARZ0SA8S//GDXMXDjMI9XAarO3wEiIIBdnREDNyhc\n",
       "mB/cZ+AF+1QXqzqWCQy8IHXrDeIZdkDca4Ckjheo7j0oGLbPnHQcZO+bu281GiAxfnQdXB3TwW8a\n",
       "DOx1oHD+//87WrxxTUXEGxjYwWQ48aerCcSp47tAnDoOBgLqrqOle970BQAPBF160ikbGQAAAABJ\n",
       "RU5ErkJggg==\n",
       "\" style=\"display:inline;vertical-align:middle;\" /></a> <a class=\"ProveItLink\" href=\"../__pv_it/demonstrations/110675d3f16e3a222c2fce9919f72437c4e0c3190/proof.ipynb\" style=\"text-decoration: none\">&nbsp;&#x22A2;&nbsp;&nbsp;</a><a class=\"ProveItLink\" href=\"../__pv_it/demonstrations/e0c0ddcdd8680e2a75a0d193816ad79cde92e4720/expr.ipynb\"><img src=\"data:image/png;base64,iVBORw0KGgoAAAANSUhEUgAAAEAAAAAUBAMAAADPWCYMAAAAMFBMVEX///8QEBBmZmaqqqrMzMxE\n",
       "REQyMjIiIiKYmJh2dna6urrc3NxUVFSIiIju7u4AAAA6P00QAAAAAXRSTlMAQObYZgAAANhJREFU\n",
       "KM9jYKAIHCCkIIBGCjgKQ78lRuAzgY3vAEtEHANPWppYWgY2BazcExgC9mAxobW8PAGmQJsNU4Hr\n",
       "PSQTtFnhCt7e2XXzApDmy0O24sAamAK+CRy17CCTeTYgKWAuyoMp4HzA+Y8LJMeK5Ejx8mQwCyTO\n",
       "x8AKcYpjGhBAHTlLIQ7JcfwXwNRWZG9quSIp8HcAU4zIClhfXIDxmB/cZ+B9AGQwXUBSwHJABcZb\n",
       "bxDPsAPMKkYKaobJPA5Q3pu7bzUaIKyoB/DIcmAN+4wZByvDIUGNAgAV7jueYKkKYgAAAABJRU5E\n",
       "rkJggg==\n",
       "\" style=\"display:inline;vertical-align:middle;\" /></a></span><br>"
      ],
      "text/plain": [
       "x_in_interval_then_xPos: {x in [1,2]} |- x in RealPos"
      ]
     },
     "execution_count": 40,
     "metadata": {},
     "output_type": "execute_result"
    }
   ],
   "source": [
    "# since we already know x > 0, we can derive the LHS of the logical equiv\n",
    "x_in_interval_then_xPos = x_real_pos_iff_xPos.derive_left(\n",
    "    assumptions=[InSet(x, interval_12)])"
   ]
  },
  {
   "cell_type": "markdown",
   "metadata": {},
   "source": [
    "<font size=3>If we jump the gun a bit here and ask Prove-It to now complete the proof, we still get an error message:</font>"
   ]
  },
  {
   "cell_type": "code",
   "execution_count": 41,
   "metadata": {},
   "outputs": [
    {
     "name": "stdout",
     "output_type": "stream",
     "text": [
      "Proof failure. Proof step failed:\n",
      "Attempting to instantiate |- forall_{A, B | forall_{x in A} (x in B)} (A subseteq B) with {A: [1,2], B: RealPos, x: _a}:\n",
      "Unsatisfied condition: forall_{_a in [1,2]} (_a in RealPos)\n"
     ]
    }
   ],
   "source": [
    "from proveit.logic import SubsetEq\n",
    "try:\n",
    "    SubsetEq(IntervalCC(one, two), RealPos).prove()\n",
    "except ProofFailure as e:\n",
    "    print(\"Proof failure. {}\".format(e))"
   ]
  },
  {
   "cell_type": "markdown",
   "metadata": {},
   "source": [
    "<font size=3>But the error message is instructive:  apparently Prove-It is trying to apply modus ponens to a known implication, and we just need to modify our earlier result to make it more obviously applicable. So we generalize the previous judgment that $\\{x\\in [1, 2]\\}\\vdash x \\in \\mathbb{R}^{+}$ as follows:</font>"
   ]
  },
  {
   "cell_type": "code",
   "execution_count": 42,
   "metadata": {},
   "outputs": [
    {
     "data": {
      "text/html": [
       "<span style=\"font-size:20px;\"> <a class=\"ProveItLink\" href=\"../__pv_it/demonstrations/e528662d36fee8fea7a5771f48f074830f22c2350/proof.ipynb\" style=\"text-decoration: none\">&nbsp;&#x22A2;&nbsp;&nbsp;</a><a class=\"ProveItLink\" href=\"../__pv_it/demonstrations/e358a2dfd4c019bcf0d1625eac8acd2be649404c0/expr.ipynb\"><img src=\"data:image/png;base64,iVBORw0KGgoAAAANSUhEUgAAAJ0AAAAbBAMAAACU4ZAgAAAAMFBMVEX///8QEBCIiIhmZma6urrM\n",
       "zMxUVFQiIiJERETc3Nzu7u6qqqp2dnaYmJgyMjIAAAAcRTyBAAAAAXRSTlMAQObYZgAAAo5JREFU\n",
       "SMfFlT9o1FAcx3+e+X/J2UFwEMrp0EkwqMUWFA5ECyI0RdBuDaKgi/hnqKDUQwfTk2pAURfpo0KH\n",
       "AzXQQUSHo3WQFuEEBweV6NjicYODPaH195JLXnLkmhQEfxDy8l7yye/f9z2A/2R8acNlE6/cZnin\n",
       "Nl4u48WZm+Atp/PgQ3bc1mIGnkgAXDr4msqbJgmT2mVr7fsU4+V0gKUMwaAtJM4WFJOfqoDQaPQ2\n",
       "fgLITYAnOC2XU3k7E2cluQblR6F/cB1/gYGoThpObsUDvTM+EfAGC4w3gEuL1erjVPe0nlgv3iLM\n",
       "v0GJ8Xbh9duybkRfvmaz8Tc9KC8t20zfwz1emV+QSLzmMcYbxoVzAJMdnT7ql+A2gSCxEg6UmnZF\n",
       "9NrhQiR/+avLjDdmABwBxY3zTh6kd9UW3JBXwL+oRG1xNvvY4+0YX/FGflDTKEoRcvX2svJ2f536\n",
       "N+Q1p82vhl+KGLjieUnT19tA83nv9ErEl5fIU+ti8Pj5dRUYryT/Yv55idzmi0SO+Fc7MBrteuTJ\n",
       "LpX6fH+fwent/A35q/kWy58ZpIdaT4QnPY8ocYyGPXkWlUIuiqUCxHliMeQJOMiTvfgefdoX4fFm\n",
       "P+PR+sLcJUwJoFyedfAWWOZz6NKwcx+e+j9ymN5gSTBC3keWlVWA05ZlFRlP0xmPQ33M7p457FdO\n",
       "OX883A8M6d6fkDfgzVIn+SYPQty/E3CUdcb2mFy4977eOu1HWBjVVUE12rxXuE0QfuVNhfEOZdkk\n",
       "lVDls5/mFwHu+rwHN8/AiLNlfb3JeCNZeFrHhp9r54+aAzElCE4Gnmh0OamwOew4L67JLvYFuvI0\n",
       "iPNgLh2XvC1PJO1X6HAp/cwi//7Y/wtiQqd3BKUpTwAAAABJRU5ErkJggg==\n",
       "\" style=\"display:inline;vertical-align:middle;\" /></a></span>"
      ],
      "text/plain": [
       "|- forall_{x in [1,2]} (x in RealPos)"
      ]
     },
     "execution_count": 42,
     "metadata": {},
     "output_type": "execute_result"
    }
   ],
   "source": [
    "# generalize\n",
    "x_in_interval_then_xPos.generalize(x, conditions=[InSet(x, interval_12)])"
   ]
  },
  {
   "cell_type": "markdown",
   "metadata": {},
   "source": [
    "<font size=3>And now Prove-It has the pieces it needs to establish the desired judgment:</font>"
   ]
  },
  {
   "cell_type": "code",
   "execution_count": 43,
   "metadata": {},
   "outputs": [
    {
     "data": {
      "text/html": [
       "<span style=\"font-size:20px;\"> <a class=\"ProveItLink\" href=\"../__pv_it/demonstrations/4489393cec0fccf5a17607023080b52b376422bd0/proof.ipynb\" style=\"text-decoration: none\">&nbsp;&#x22A2;&nbsp;&nbsp;</a><a class=\"ProveItLink\" href=\"../__pv_it/demonstrations/a5ef13c66ecdd1cc16114b24c910c3b90c1778c70/expr.ipynb\"><img src=\"data:image/png;base64,iVBORw0KGgoAAAANSUhEUgAAAF4AAAAYBAMAAACB/VcsAAAAMFBMVEX////c3NxERERmZmaYmJhU\n",
       "VFTu7u4QEBCqqqoiIiK6urp2dnbMzMwyMjKIiIgAAAB1lk67AAAAAXRSTlMAQObYZgAAAUJJREFU\n",
       "OMtjYKAhCCBRvQIZ6t/eQRVjubkAr/pdSHw2Y6UDDNxo6lmmK/29roKsnqMMKpXKwP0Lrt515syZ\n",
       "c0AMXrYAHhU1Bta7d2vvXgGqT936DarejIGhHKZediPMAibGDQwKokjms8DUVzIwxAtA1V9kQFZv\n",
       "yItN/f0EhvgDEPXMDajqmbCpB4L5CRD1nAwo6gOWYlfP9RvqflEU9RyTr2FXzxkAVZ+ErL5y5g0w\n",
       "SwBDvTEDAxb37DJQg/NQ1PMZwNRzP0B2j9Uh7OqbGRhh4XkDWT1TygNs6nk2MPDB1KdGJSDU8wTY\n",
       "IKnnA6rPvwBkS+7eHAlPD6c1EemBYQfrAbh65vC/Jgyc00Dx9f//T6zp7QCT7g+E+WDQBpPnXoA3\n",
       "D8DUbyBNPdsDVPXcM2fC0jNW9SwMRJr/Ei0/8t3Eqx4A1NhtdU6M+AgAAAAASUVORK5CYII=\n",
       "\" style=\"display:inline;vertical-align:middle;\" /></a></span>"
      ],
      "text/plain": [
       "|- [1,2] subseteq RealPos"
      ]
     },
     "execution_count": 43,
     "metadata": {},
     "output_type": "execute_result"
    }
   ],
   "source": [
    "# The previous generalization result allows the instantiation of\n",
    "# a conditional theorem definition of improper subset\n",
    "SubsetEq(interval_12, RealPos).prove()"
   ]
  },
  {
   "cell_type": "markdown",
   "metadata": {},
   "source": [
    "<font size=3>It turns out it takes quite a bit more work to take the further step and conclude that $[1, 2] \\subset \\mathbb{R}^{+}$ (<i>i.e.</i>, using a strict subset instead of an improper subset). Such proper subset relationships have been formulated as theorems, as demonstrated below in the next example.</font>"
   ]
  },
  {
   "cell_type": "markdown",
   "metadata": {},
   "source": [
    "<a id='demo03'></a><font size=4><b>3.</b> Proving $[1,4]\\subset \\mathbb{R}^{+}$</font><br><br>\n",
    "<font size=3>The set of real numbers in the closed interval $[1, 4]$ is clearly a subset of the positive real numbers $\\mathbb{R}^{+}$. We prove this subset relationship by instantiation of a general theorem:</font>"
   ]
  },
  {
   "cell_type": "code",
   "execution_count": 44,
   "metadata": {},
   "outputs": [
    {
     "data": {
      "text/html": [
       "<span style=\"font-size:20px;\"> <a class=\"ProveItLink\" href=\"proofs/real_pos_interval_c_c_is_subset_of_RealPos/thm_proof.ipynb\" style=\"text-decoration: none\">&nbsp;&#x22A2;&nbsp;&nbsp;</a><a class=\"ProveItLink\" href=\"../__pv_it/theorems/7c9ee595edeb14b407ba49169c5f0b4d1bebfafa0/expr.ipynb\"><img src=\"data:image/png;base64,iVBORw0KGgoAAAANSUhEUgAAAL8AAAAbBAMAAADfSUPNAAAAMFBMVEX///8QEBCIiIhmZma6urrM\n",
       "zMxUVFQiIiJERETc3Nzu7u6qqqp2dnaYmJgyMjIAAAAcRTyBAAAAAXRSTlMAQObYZgAAAw1JREFU\n",
       "SMfNll9IFEEYwD937597e2dv1kucBdJDxNIVJZEdBL2FF0R/QHAxi6CCSuXoDyEFtRrGUWA+1daB\n",
       "iFAeFYQQdKAvKcUGQSIVl1EPSpdIQd6V9M3O3e7MpnfuQ9DA7M3MfrO/b75/cwD/T9vvSlrFLrja\n",
       "4VVdiXdh97jaEtZdA+Clmx2b8ci5OL/2oaM8wI9KZcngfeXvV+cB5BizMFiLjzFeKHRGW/zYawME\n",
       "BWCCDGYqA2TFAYBPfwMgLKne3h7w5XJrc19RqzmAfqJdV2VAVdoJKCwBCFRnoKvPOgFcoL6T05UB\n",
       "d3UHwJO3AZOJRKKzBGgI24DtaLbxoaHbK/Dxa3AA5NMW4M4L9gQNARtQh/2npl1c1vD2sLEIuDVa\n",
       "R+M13Lo+XQSc40yk7rEBTSh7FKB7OYBoDzUK8KyBb3RheEZaoAAxzQKC7TM2oAXjejdIWcuuuWUB\n",
       "XyjgnkHsStpzHeYpwM86uTYxa46S1HMx8lowLIHR4u/TDUemeUA7BezS4WzJZtIvCuhjAWNKD6Ph\n",
       "MAJkg9GA0KVnUUOQYTwiR7dFd7BRj4DVIP0oLXgKFDDIhemWQ2zsIaA6e8BeWCAxNzIECJgyuBNc\n",
       "NQGodHCOLvwGMb+EiTKBBxF73kIs1d2Gj1T9Z1Ix5+t1j0JyHAEZDnCcAgrgy46YC9+JP0yAHGEB\n",
       "XnWrvYtEETzGgJY6vSRvhPOCYqYJAqIKB6ijJroMb9WMtIiTU3CllAezbKmACV+cyx6oQQVExUvy\n",
       "JhAJZVMmQDzWwTu5iWbywLrDrTFI4CS10SgBBtp0u9jFAzcK1i4z4kI6qTQCuRyqYqJ6UNO0iCDf\n",
       "fENMxtSiGJPJwdLdUCwVzdeKpcLZpq1wSgamcFONXpX2URMFm/kLRswwACvDx8rXFylv6Zds2Qv9\n",
       "ul+fBDlOfTCe4W/MVQzg/goBIevO9LQ+2gn70t6T+NXrJNFeZVKNvPAJBmCsEOB33IC0pgjogyWE\n",
       "H+KbS44NmzrKA97x02CynHBQcf1Hx3mRhcqLP3ENEHX49+0P1XHSFEaJTp4AAAAASUVORK5CYII=\n",
       "\" style=\"display:inline;vertical-align:middle;\" /></a></span>"
      ],
      "text/plain": [
       "|- forall_{a, b in RealPos} ([a,b] proper_subset RealPos)"
      ]
     },
     "execution_count": 44,
     "metadata": {},
     "output_type": "execute_result"
    }
   ],
   "source": [
    "from proveit.numbers.number_sets.real_numbers import real_pos_interval_c_c_is_subset_of_RealPos\n",
    "real_pos_interval_c_c_is_subset_of_RealPos"
   ]
  },
  {
   "cell_type": "markdown",
   "metadata": {},
   "source": [
    "<font size=3>For convenience and clarity, we explicitly define our interval of interest:</font>"
   ]
  },
  {
   "cell_type": "code",
   "execution_count": 45,
   "metadata": {},
   "outputs": [
    {
     "data": {
      "text/html": [
       "<strong id=\"interval_14\">interval_14:</strong> <a class=\"ProveItLink\" href=\"../__pv_it/demonstrations/49a40821d886a4b4d2ca701729ed4320951eb1fc0/expr.ipynb\"><img src=\"data:image/png;base64,iVBORw0KGgoAAAANSUhEUgAAACUAAAAUBAMAAAD4luk4AAAAMFBMVEX///9ERETc3NxmZmaYmJhU\n",
       "VFTu7u4QEBCqqqoiIiK6urp2dnbMzMwyMjKIiIgAAABr1WidAAAAAXRSTlMAQObYZgAAAIVJREFU\n",
       "GNNjeHuHAQWw3FzAsAtFhMeAgRsi1p4AE+MMgIixRcfDxZ4HwNT5w8SYfDHFuHkxxZwwxdgeYIpx\n",
       "M2CK9WCKsW3AFOMINrYvfoBuLwM7XN37BAa2vxAxAaiYaf1lB4aZILXc8l8duBHhwgH3C0KMmwFT\n",
       "LA+LmAOS2Eu0sOe7uQAAQoY5FOcniaYAAAAASUVORK5CYII=\n",
       "\" style=\"display:inline;vertical-align:middle;\" /></a><br>"
      ],
      "text/plain": [
       "interval_14: [1,4]"
      ]
     },
     "execution_count": 45,
     "metadata": {},
     "output_type": "execute_result"
    }
   ],
   "source": [
    "interval_14 = IntervalCC(one, four)"
   ]
  },
  {
   "cell_type": "markdown",
   "metadata": {},
   "source": [
    "<font size=3>Then instantiate the general theorem for this case:</font>"
   ]
  },
  {
   "cell_type": "code",
   "execution_count": 46,
   "metadata": {},
   "outputs": [
    {
     "data": {
      "text/html": [
       "<span style=\"font-size:20px;\"> <a class=\"ProveItLink\" href=\"../__pv_it/demonstrations/b3b450e47920b5fd0bb77446ee94c96e30473cb20/proof.ipynb\" style=\"text-decoration: none\">&nbsp;&#x22A2;&nbsp;&nbsp;</a><a class=\"ProveItLink\" href=\"../__pv_it/demonstrations/1c1c08f545ff440c64646b45a2a308ea934ffd2c0/expr.ipynb\"><img src=\"data:image/png;base64,iVBORw0KGgoAAAANSUhEUgAAAF4AAAAYBAMAAACB/VcsAAAAMFBMVEX///9ERETc3NxmZmaYmJhU\n",
       "VFTu7u4QEBCqqqoiIiK6urp2dnbMzMwyMjKIiIgAAABr1WidAAAAAXRSTlMAQObYZgAAAStJREFU\n",
       "OMtjYKAhCCBRvQAZ6t/eQRVjubkAr/pdKCI8BgzcaOpZpgv+vS6CrJ6jDC7JGYChnoGXLYBHRIyB\n",
       "9e7d2rtXgOpTt36Dyz3Hop6RaQODgCqS+Sxw9Uy+CPWOM2fOnANTb8SLVT03L1y97iZk840Ysap3\n",
       "QqifhOKegKXY1LM9gKtnbkBWzzH5Gjb13Axw9ZzI/q2ceQPMUkBT34NQr4qsfpeBGJyHpJ5tA0J9\n",
       "Ikp4Wh3Epp4j2Ni++AEW92xgTHmART0QsMPM536ArJ4nwAZJPR9Qff4FiHoBWHjeQE4PDDtYD8DV\n",
       "M4f/NWHgnAY2Vf6rA1R9alQCIr0dYJT9gTAfDNrgcQxND6cloekBFcDUb0BXjwPsgkUtaepZGIhU\n",
       "/xItP/LdxKseAF1RY0ZcCfJsAAAAAElFTkSuQmCC\n",
       "\" style=\"display:inline;vertical-align:middle;\" /></a></span>"
      ],
      "text/plain": [
       "|- [1,4] proper_subset RealPos"
      ]
     },
     "execution_count": 46,
     "metadata": {},
     "output_type": "execute_result"
    }
   ],
   "source": [
    "real_pos_interval_c_c_is_subset_of_RealPos.instantiate(\n",
    "    {a:one, b:four})"
   ]
  },
  {
   "cell_type": "markdown",
   "metadata": {},
   "source": [
    "<font size=3>As a bit of an encore, we could then easily derive that $[1,4]\\subseteq\\mathbb{R}^{+}$ using a relaxation theorem from the set theory theory:</font>"
   ]
  },
  {
   "cell_type": "code",
   "execution_count": 47,
   "metadata": {},
   "outputs": [
    {
     "data": {
      "text/html": [
       "<span style=\"font-size:20px;\"> <a class=\"ProveItLink\" href=\"../../../../logic/sets/inclusion/_theory_nbs_/proofs/relax_proper_subset/thm_proof.ipynb\" style=\"text-decoration: none\">&nbsp;&#x22A2;&nbsp;&nbsp;</a><a class=\"ProveItLink\" href=\"../../../../logic/sets/inclusion/__pv_it/theorems/7ffc508d85358e43f8b36ad2fe2274af22b02ba80/expr.ipynb\"><img src=\"data:image/png;base64,iVBORw0KGgoAAAANSUhEUgAAALkAAAAWBAMAAABuySBUAAAAMFBMVEX///8QEBCIiIhmZma6urrM\n",
       "zMxUVFQiIiJERETc3Nzu7u6qqqp2dnaYmJgyMjIAAAAcRTyBAAAAAXRSTlMAQObYZgAAAs1JREFU\n",
       "SMetVU1oE0EU/tyfNLtJak8iKBLwoBdtIBBRika8SFFaPPQkGLBCD4rRokFRjCB2W4XEixZEuyK0\n",
       "koMGetGTtSJqFYkVBBE14Ml6aGlsTSO1vpnZTSdtrbg6sPvemzfzvd+ZATyPG3/QP6CvyJgPHsDN\n",
       "NCd6cZHm7dzBmBWHLwu8YPKYB/T6rCATLmYqlToh2NWAOgWT7PaSZKQ9oL8R5GNF0JvPqxp9FtBK\n",
       "wDDZtoFg3gP6KZGfwRkhfpnXKDQVmgRuERnJ5a55ADeSnISUb5yqkoP+BkI+TY7HgbJlnfGArkQ4\n",
       "aQ7MclonqVYmoJ9kKaElh4BuPin+u0uPO3i9tKorWZfTMk2xbne2wBMT1ye5eFVCP3BktIuFEqKy\n",
       "7uLFJV6EGGpAsIFvdxd/ilf3vQYeOWxdXrhglLh4R0JvzMJcRTSQZDEp3I3bIkQ1gUBFRjd3kFpf\n",
       "H40SHwMe2mJ6BbfZFo2VF2XmPLNAxnVq1mBBaEY6xbIw1KKMHhyIwDzcnMsRfxzYDhmdfuvEqvA8\n",
       "+jRDDwt0o9jGmzRscdW9Vmy2ZfR9/jR8rSKMKShjcmYC9B0T8teadsdRsquxtupuZ3M+bOG6lk0b\n",
       "E5DRE2oSe5yqTo5ehFzV6/SNC7m/3ZbaXS87VcUg79z3aOS6V8AGGT2UVybwxElSEUrSTVjE6fmM\n",
       "01L7u5yboJ6aYmcPK+EQa0+WMvPzyww3fhnoy0vod5ueVbDV8XcIxg+3O5MwMz9t3J/rrD0IvvHp\n",
       "aMclboblM8RQVRt9PLm0uyUroW+DMUWBiWOShzZTexMsNwaq3F7aWzB6YFRgrJUyo1F6Z91u7rNx\n",
       "ZWjBLbbMGK7WqAwjc1Zfg6elaEdcQs+k0fu9oPETGjwXjV3A4iPMdanU/A3sHJSFN39A4v2yot+y\n",
       "rKVfj9+PWvPOY7UkupeX793CicLfoP/TUP8Dxi9bSbT1CXT83gAAAABJRU5ErkJggg==\n",
       "\" style=\"display:inline;vertical-align:middle;\" /></a></span>"
      ],
      "text/plain": [
       "|- forall_{A, B | A proper_subset B} (A subseteq B)"
      ]
     },
     "execution_count": 47,
     "metadata": {},
     "output_type": "execute_result"
    }
   ],
   "source": [
    "from proveit import A, B\n",
    "from proveit.logic.sets.inclusion import relax_proper_subset\n",
    "relax_proper_subset"
   ]
  },
  {
   "cell_type": "code",
   "execution_count": 48,
   "metadata": {},
   "outputs": [
    {
     "data": {
      "text/html": [
       "<span style=\"font-size:20px;\"> <a class=\"ProveItLink\" href=\"../__pv_it/demonstrations/2ddbc0e7bc8374868d31d001c8dcb1e24d2676e80/proof.ipynb\" style=\"text-decoration: none\">&nbsp;&#x22A2;&nbsp;&nbsp;</a><a class=\"ProveItLink\" href=\"../__pv_it/demonstrations/f9bf9ed7d788d706fa04baffc27f7699d4de93520/expr.ipynb\"><img src=\"data:image/png;base64,iVBORw0KGgoAAAANSUhEUgAAAF4AAAAYBAMAAACB/VcsAAAAMFBMVEX///9ERETc3NxmZmaYmJhU\n",
       "VFTu7u4QEBCqqqoiIiK6urp2dnbMzMwyMjKIiIgAAABr1WidAAAAAXRSTlMAQObYZgAAAS9JREFU\n",
       "OMtjYKAhCCBRvQAZ6t/eQRVjubkAr/pdKCI8BgzcaOpZpgv+vS6CrJ6jDC7JGQBX7zpz5sw5IAYv\n",
       "WwCPiBgD6927tXevANWnbv0GV/8crl53E0yMkWkDg4AqkvkscPVMvnD1lxiQ1RvxYlXPzQtTz9yA\n",
       "qp4Rq3onuHpOBhT1AUuxqWd7AFeviqKeY/I1bOq5GeDqE5HVV868AWYpoKnvYcDunl0GYnAeknq2\n",
       "DQj13A+Q3WN1EJt6jmBj++IH0PC8gayeMeUBFvVAwA4P/9SoBIR6ngAbJPV8QPX5FyDqBeDp4bQk\n",
       "Ij0w7GA9AFfPHP7XhIFzGtjV8l8dsKW3A4yyPxDmg0EbPI4X4M0DMPUbSFPP9gBVPffMmbD0jFU9\n",
       "CwOR5r9Ey498N/GqBwDXxGcuh4aTNQAAAABJRU5ErkJggg==\n",
       "\" style=\"display:inline;vertical-align:middle;\" /></a></span>"
      ],
      "text/plain": [
       "|- [1,4] subseteq RealPos"
      ]
     },
     "execution_count": 48,
     "metadata": {},
     "output_type": "execute_result"
    }
   ],
   "source": [
    "relax_proper_subset.instantiate({A:interval_14, B:RealPos})"
   ]
  },
  {
   "cell_type": "markdown",
   "metadata": {},
   "source": [
    "<font size=3>Of course, in so doing we've ended up with a result similar to that in the Demonstration \\#2 above, but we've let that subset theorem we loaded at the beginning of this demonstration do all of the heavy lifting. At some point, that general theorem itself requires its own proof to be established.</font>"
   ]
  },
  {
   "cell_type": "markdown",
   "metadata": {},
   "source": [
    "## Misc Testing <a id='further_demonstrations'></a>"
   ]
  },
  {
   "cell_type": "markdown",
   "metadata": {},
   "source": [
    "<font size=3>The material below was developed to test the various methods related to the real number NumberSet classes and the Interval classes. Some or all of this material could eventually be integrated into the `demonstrations` page and/or deleted as development continues.</font>"
   ]
  },
  {
   "cell_type": "markdown",
   "metadata": {},
   "source": [
    "### Testing the `NumberSet.deduce_member_lower_bound()` and `NumberSet.deduce_member_upper_bound()` methods"
   ]
  },
  {
   "cell_type": "code",
   "execution_count": 49,
   "metadata": {},
   "outputs": [
    {
     "data": {
      "text/html": [
       "<strong id=\"one_is__real_pos_implies_one_greater_zero\">one_is__real_pos_implies_one_greater_zero:</strong> <span style=\"font-size:20px;\"> <a class=\"ProveItLink\" href=\"../__pv_it/demonstrations/579af19ab280a79d128ea79f4dc8542562e80dd30/proof.ipynb\" style=\"text-decoration: none\">&nbsp;&#x22A2;&nbsp;&nbsp;</a><a class=\"ProveItLink\" href=\"../__pv_it/demonstrations/e01fa1a4284da427fd8d1f517c661a12bc2269ff0/expr.ipynb\"><img src=\"data:image/png;base64,iVBORw0KGgoAAAANSUhEUgAAAK4AAAAbBAMAAAAXJakbAAAAMFBMVEX///8iIiJERESYmJiqqqoQ\n",
       "EBB2dnbc3NyIiIhmZmbu7u4yMjJUVFS6urrMzMwAAADZVrDbAAAAAXRSTlMAQObYZgAAAm1JREFU\n",
       "SMfNlk1o1EAUx/9NthsTm+iCFy1IrIdKEWwFQVBwe/AkQuhViqu3epAo2Ou2iKAnc5LSeoiCXiJ0\n",
       "DxUp0boUaUFB7dEPVHpWvBQ/FhQnHzvzNp1t1gXBd8gw+5/3m8l7814W+Gf2ZSuxL3pMdYO16lup\n",
       "SvR43w13u5/LLQ53wZ1BLhd7ZJLWdreCy9SGRBgZOxSODQvuDZn3XSmzePUisMpGj01OZmNRe4D1\n",
       "wz5ehA/DkPGrMsIjmSMWcMdFAPSWYay8ysr2JBStzs/bU96MVT3hGPCQqA6KNRSnUI2UEylX3Vfq\n",
       "b3J1t8a5ui14g+nY4wpH41zzKip1FBowHByBkK0Dvjiv7tqcu80R3PV0vEQcgekLybijDnMDeII5\n",
       "Igc+iUOfKeJgNlreX+SSczEyGw/zHswfwAQGiLxK4zs653Ou9TuORim2n8mS/a1cnIq9qxVYjHsM\n",
       "j4ksomhfKfXHudKSq/qL3s6FeNiV4eLd84jrwfoGjGK3kK0zIbP0vG8U4mJQLoLx6Dm+iTsk4vAV\n",
       "i0LWyHkn9Q/kDrScV1txZdwkDixvhY2Ie5DIDo3v0FHSm77H8Q0Tc2VxSPOm2FBZktewTOQZyv2s\n",
       "f+JTeh/MmixvzXuW1AXL27VodtPPlBWr42L5JUgVieimqAniKOqCvcY9dp5b+MiU22cX40I0lt/y\n",
       "vrOEgad8G1pvzd3WIBxFHeP+9WjBEnpfk5SY59M6zvZo8sVwaR23MWMn9EoHPXrel/adtsb6juV0\n",
       "wD0u+3Gw/XrWJ/GsA+7ezvs63zLIx6qVv/sOqVHoC14u93JX/x9O566YxX9jfwB2V6bWtyXupwAA\n",
       "AABJRU5ErkJggg==\n",
       "\" style=\"display:inline;vertical-align:middle;\" /></a></span><br>"
      ],
      "text/plain": [
       "one_is__real_pos_implies_one_greater_zero: |- (1 in RealPos) => (1 > 0)"
      ]
     },
     "execution_count": 49,
     "metadata": {},
     "output_type": "execute_result"
    }
   ],
   "source": [
    "one_is__real_pos_implies_one_greater_zero = RealPos.deduce_member_lower_bound(one)"
   ]
  },
  {
   "cell_type": "code",
   "execution_count": 50,
   "metadata": {},
   "outputs": [
    {
     "data": {
      "text/html": [
       "<span style=\"font-size:20px;\"> <a class=\"ProveItLink\" href=\"../__pv_it/demonstrations/4386df21a1c36239fe02fb0a7ffbeb5439832d880/proof.ipynb\" style=\"text-decoration: none\">&nbsp;&#x22A2;&nbsp;&nbsp;</a><a class=\"ProveItLink\" href=\"../__pv_it/demonstrations/9846d12dc588e52f8e547971d10b816aa391390e0/expr.ipynb\"><img src=\"data:image/png;base64,iVBORw0KGgoAAAANSUhEUgAAAPAAAAAaBAMAAAB7pMxFAAAAMFBMVEX///8iIiJERESYmJiqqqoQ\n",
       "EBB2dnbc3NyIiIhmZmbu7u4yMjJUVFS6urrMzMwAAADZVrDbAAAAAXRSTlMAQObYZgAAA2dJREFU\n",
       "SMfVVktoU0EUPc23eWliA2opCI3polA/qFCluKkrkSK0C5dCRKmtoKa6cFNIRcTPKu3CWquSKhWk\n",
       "hWbRorZaowguBJtu3Cg0FHQnUSi1RDTOnfdeZt7L9BPIxoE2mZM7596598ydAfAd5Y5qVGIE02Uv\n",
       "CaQr4difLH/N6Uo4vkv/LluxoxusqVIGSyTefRbIFVOuJ9ibZ1+0cBHThiNZ1Njsndsiv6cbpSIn\n",
       "FGyc5JGYPx3cC7wvMfNcu8BhD3H4haMJeP5AS9nroaWDjc0IRNhoZtH+UNWMSJ6JONK4mMF4idkU\n",
       "RmMEu9vYpFXg94ATQLfN2uGNItwn5lsVjonEKVLhS8LdAU+/MGjPkgXDUgTHqVx14tdOYD6GMWN2\n",
       "IBRKmY6H/MJqUIrJzBaRVInUuWtR8wtaRxHYP8TN03DlCW4hRdQKntdJzGfhz/DJ0m1px0MOYXVd\n",
       "Oo6GPjhJr5T5PGr+Aq/M+dVz/GNLGoFlgkdKtdKQ1CsPbUZOdfqLMFlMWlNsktyyip8Jt8eo+Ckj\n",
       "55MJBFYJjhCt5QwEVlgleIKFuJljV/2MsMlRuTAQotGgh81JGi2OF6PAYd3vgOkiHkVwleCXFFmb\n",
       "JU7Wl1w8+Q5JXJ2hKckmnpEm7Xw5J7GKbgf7O8K/fSh6iCcQXCG4nnTAaMZnacyx2TAVjp+XrwQZ\n",
       "4jqfaJYoJ2XH2nTGIMFJNuNEsywlPkpFjlsIx0aqc3hhrrE0B93xJfk4PVhaa8d9ZyE5FoMXPKcr\n",
       "r5hqJi7XMsG77ak+Bm8MAZ5qt+zY8Vg6kjle/RF9c3rTKEm1K4ErwIJNXI4wnHmC39rEFYyiOmaI\n",
       "y9cvOQ6mH6pV/RlqcX0DbpjiEsdJbyAMphPpkY5Tb1fPG+Yyam1QrGXiTE22aNUiVdgQOyfpEbh3\n",
       "e9d9lrc7tgbCOMeyBFPsAbmBFAo/mSPdx8SeZPGSyDp2Las6lxkOJ1mQGkihUGDQnK1l4snNjyCY\n",
       "a6LO3ndHjc9PO0Mp1b32XNoZ1C3TyEet8l5kME9qq/2H7vXvYy2/8SVhFKBfScDgYIfc6E3i1PqO\n",
       "naq3DydpsoHjagKC31kfAtYbZ60XSHYTDwE+mtQETWZMtqfPoQ2ePgexyaePU70DDrsSZT/TvOGK\n",
       "vG+Pl73Cl8T/O/4BR0jdTnFG0sEAAAAASUVORK5CYII=\n",
       "\" style=\"display:inline;vertical-align:middle;\" /></a></span>"
      ],
      "text/plain": [
       "|- ((-2) in RealNeg) => ((-2) < 0)"
      ]
     },
     "execution_count": 50,
     "metadata": {},
     "output_type": "execute_result"
    }
   ],
   "source": [
    "RealNeg.deduce_member_upper_bound(Neg(two))"
   ]
  },
  {
   "cell_type": "code",
   "execution_count": 51,
   "metadata": {},
   "outputs": [
    {
     "data": {
      "text/html": [
       "<span style=\"font-size:20px;\"> <a class=\"ProveItLink\" href=\"../__pv_it/demonstrations/9cec8b3959fd691e92bdfe88f4769e6df768051e0/proof.ipynb\" style=\"text-decoration: none\">&nbsp;&#x22A2;&nbsp;&nbsp;</a><a class=\"ProveItLink\" href=\"../__pv_it/demonstrations/5c9c9841c4fb0f8251a9e775f45b112680c721fa0/expr.ipynb\"><img src=\"data:image/png;base64,iVBORw0KGgoAAAANSUhEUgAAALgAAAAcBAMAAAAgkGgMAAAAMFBMVEX///8iIiJERESYmJiqqqoQ\n",
       "EBB2dnbc3NyIiIhmZmbu7u4yMjJUVFS6urrMzMwAAADZVrDbAAAAAXRSTlMAQObYZgAAAxJJREFU\n",
       "SMfNVk1IVFEU/uZ/5jnznCGThMJpXAiWIoFCtLFlVDAuWgZDxZSLamwTguBQRFmb0UVmVryKhEjQ\n",
       "QLHU8hVBiyDHTZsERahdWCAZEzndn/dz3/DGXkOLzuK+e8+557vnnr/7AAcUPJPCv6fIW/Zpx5FK\n",
       "Eb5sIet5T8ddqFaCFWHL6lbSnhZA2oSvI6JWAl6lbCkebYa8AVcrTlYCfusP8tEZuQBXFi5bIwKt\n",
       "5fS8GSItkHsPJ1YsAs/2xM+pBj6/0Uos92URzNlBPAAeD7aUcv2XzwEkGfxEZwz+XyW+klS5oYlM\n",
       "pEsd1OfVeQS+2oFPQ1JxPk931plXm8T9DJ6AhAq4DRyz6rgDKcR7icaJvJYtQI0NtieHkAJfkvlh\n",
       "LqNzk/BPwJ9FH1HrBBa4YF8sNqGDD1VBGqTY6Gd5PiicrcO4MvBFEd7gVTGnOdetwluAlEQbWcwr\n",
       "WGD81euC5UNuyHx3ME39fUVI37g26SYeLCC8qbETzBZUq4isAy8wwvn11GHSjOgWdcnqgmUhXfZr\n",
       "335uf0HPnXcd9DOeQ+QH0IUEv9F3OoYzAri3bsYKvsauMRCjVK+lDs+oZaP1BAYoRF8KMgE/gDl+\n",
       "Nqs/txDQztgkiVGCUJPG68sLJx1mJmpB3mkGuI7tzEEm1h4EW2GYjZ9mCWkBPZtrKsmMcRFcmmKr\n",
       "43QIGRUQrFUEt6zhOWNy8QUxFe+uloBbLO89DQO83yjmHdAD6l2n4Hvp6hAC1Fc+Edz9MFvicxaR\n",
       "kVlG0zDc4s3hIm9y23TtODwkxot4TVMohSDVDGUFcFm9Vz5bPsIM6GfgKrvMJCxFRAJKs7c73fVK\n",
       "iA8vf5wKWxtOm+BxPZG6SILUpu9EKa/ZlNfgEdG9yeyZLxa/MeZYs2I0rhX3nnULuFChxrGLxI5i\n",
       "sRgt7aTX6CPzEj4xTPiwm5e/HT0TGi3M8i9LUhQhp2+vVLBvXGWJNC456RDcY/vONZqHP2W1a8aJ\n",
       "tFy8cQjuWinzWJSjRu0AJ9SOv3vmPBleA04oEK/o3+Koo10hBf8X/Qa1ksbWaRXTewAAAABJRU5E\n",
       "rkJggg==\n",
       "\" style=\"display:inline;vertical-align:middle;\" /></a></span>"
      ],
      "text/plain": [
       "|- (2 in RealNonNeg) => (2 >= 0)"
      ]
     },
     "execution_count": 51,
     "metadata": {},
     "output_type": "execute_result"
    }
   ],
   "source": [
    "RealNonNeg.deduce_member_lower_bound(two)"
   ]
  },
  {
   "cell_type": "markdown",
   "metadata": {},
   "source": [
    "### Testing the `Interval.deduce_member_lower_bound()` and `Interval.deduce_member_upper_bound()` methods"
   ]
  },
  {
   "cell_type": "code",
   "execution_count": 52,
   "metadata": {},
   "outputs": [
    {
     "data": {
      "text/html": [
       "<span style=\"font-size:20px;\"><a class=\"ProveItLink\" href=\"../__pv_it/demonstrations/31edb4d0443117edb776c7250052860bcf045e480/expr.ipynb\"><img src=\"data:image/png;base64,iVBORw0KGgoAAAANSUhEUgAAAE4AAAAUBAMAAADRkRa/AAAAMFBMVEX///+YmJiqqqqIiIgyMjLc\n",
       "3NwiIiIQEBC6urp2dnZUVFTMzMxERERmZmbu7u4AAADrYmUNAAAAAXRSTlMAQObYZgAAAWJJREFU\n",
       "KM9jYMACAtH4TAEMDHx3z2xAE+Y7gMSJnHmIgWEpA8MrBs4faOpYgNqZ6iBs1gsM+gIMTxgY7jEw\n",
       "lKOpkwXqnvUPwmb+xMCfwMBpwFDGwLA+ACwkk5bmAGakAjEjVB1HBQO/AwNfAYP/A4b1YAfusYMa\n",
       "x5qApA4IgPYyeIAY+Q9AjveDiTNfQFHHlwkk5oKM/gnicgXAJHgEkNWxTgP6gEEEiNkWgGXh9rAp\n",
       "oNpr3sDAoAak74J5212AAOwP9gZUdezAINoPdQ4DQwxCHFkdawADzyewOl0QGyiL3V7+f2B1bQzc\n",
       "ExiYQep4DbD6g/0AA9s/kD/CZs5dBhZJgqnjBDmEGSj5HuhcRgFw+N1k8P///xtY+tWJB9AoAIYz\n",
       "7/IvFxnY8oC83rsngKQ3UrR2HkOKNzDQg4d1ArbkJwtjTIA7xQCbOh5o1PDBZZ9gUwZPp4xwkaNY\n",
       "1WGke8YABgDzK1NZD99f4gAAAABJRU5ErkJggg==\n",
       "\" style=\"display:inline;vertical-align:middle;\" /></a> <a class=\"ProveItLink\" href=\"../__pv_it/demonstrations/bf7b564c5cbfd80d52b114c160dd0bcdfd3638550/proof.ipynb\" style=\"text-decoration: none\">&nbsp;&#x22A2;&nbsp;&nbsp;</a><a class=\"ProveItLink\" href=\"../../../numerals/decimals/__pv_it/theorems/de566d14109e3353602244bae3447431ee27dc570/expr.ipynb\"><img src=\"data:image/png;base64,iVBORw0KGgoAAAANSUhEUgAAADAAAAAPBAMAAABQAFHMAAAAMFBMVEX///+6urpERETc3NwiIiLM\n",
       "zMwyMjJmZmaIiIiYmJh2dnZUVFTu7u4QEBCqqqoAAAD7YXnbAAAAAXRSTlMAQObYZgAAAJVJREFU\n",
       "GNNjYMACjhepAkm+O+jiPBsY1gswnF79B0nsWQCQYD/AwHuBgYETSWJKMYjkdWDg/owi0bIGTLH9\n",
       "YeD+iiTBs6QBroTlD0KCp2QCwkz5BQiJbQ+QHOHNAJfgQZZgL0BIMDAjGdXOwIDVcr4CBmNszmWI\n",
       "YmBoZmDgwPAgs9eqagcG9r3fKtGChO3///8ODLgAAJC0L58BnxxZAAAAAElFTkSuQmCC\n",
       "\" style=\"display:inline;vertical-align:middle;\" /></a></span>"
      ],
      "text/plain": [
       "{2 in (1,3)} |- 1 < 2"
      ]
     },
     "execution_count": 52,
     "metadata": {},
     "output_type": "execute_result"
    }
   ],
   "source": [
    "# Element in an Open Interval (1,3)\n",
    "IntervalOO(one, three).deduce_member_lower_bound(\n",
    "        two, assumptions=[InSet(two, IntervalOO(one, three))])"
   ]
  },
  {
   "cell_type": "code",
   "execution_count": 53,
   "metadata": {},
   "outputs": [
    {
     "data": {
      "text/html": [
       "<span style=\"font-size:20px;\"><a class=\"ProveItLink\" href=\"../__pv_it/demonstrations/31edb4d0443117edb776c7250052860bcf045e480/expr.ipynb\"><img src=\"data:image/png;base64,iVBORw0KGgoAAAANSUhEUgAAAE4AAAAUBAMAAADRkRa/AAAAMFBMVEX///+YmJiqqqqIiIgyMjLc\n",
       "3NwiIiIQEBC6urp2dnZUVFTMzMxERERmZmbu7u4AAADrYmUNAAAAAXRSTlMAQObYZgAAAWJJREFU\n",
       "KM9jYMACAtH4TAEMDHx3z2xAE+Y7gMSJnHmIgWEpA8MrBs4faOpYgNqZ6iBs1gsM+gIMTxgY7jEw\n",
       "lKOpkwXqnvUPwmb+xMCfwMBpwFDGwLA+ACwkk5bmAGakAjEjVB1HBQO/AwNfAYP/A4b1YAfusYMa\n",
       "x5qApA4IgPYyeIAY+Q9AjveDiTNfQFHHlwkk5oKM/gnicgXAJHgEkNWxTgP6gEEEiNkWgGXh9rAp\n",
       "oNpr3sDAoAak74J5212AAOwP9gZUdezAINoPdQ4DQwxCHFkdawADzyewOl0QGyiL3V7+f2B1bQzc\n",
       "ExiYQep4DbD6g/0AA9s/kD/CZs5dBhZJgqnjBDmEGSj5HuhcRgFw+N1k8P///xtY+tWJB9AoAIYz\n",
       "7/IvFxnY8oC83rsngKQ3UrR2HkOKNzDQg4d1ArbkJwtjTIA7xQCbOh5o1PDBZZ9gUwZPp4xwkaNY\n",
       "1WGke8YABgDzK1NZD99f4gAAAABJRU5ErkJggg==\n",
       "\" style=\"display:inline;vertical-align:middle;\" /></a> <a class=\"ProveItLink\" href=\"../__pv_it/demonstrations/e6e3622fdcc56ee0cfa592a871f7d9e516d062480/proof.ipynb\" style=\"text-decoration: none\">&nbsp;&#x22A2;&nbsp;&nbsp;</a><a class=\"ProveItLink\" href=\"../../../numerals/decimals/__pv_it/theorems/5ee8fddf82dc23baaa124983c910f2c8e88dfb090/expr.ipynb\"><img src=\"data:image/png;base64,iVBORw0KGgoAAAANSUhEUgAAADAAAAAOBAMAAACbXIJpAAAAMFBMVEX///+YmJiqqqqIiIgyMjLc\n",
       "3NwiIiIQEBC6urp2dnZUVFTMzMxERERmZmbu7u4AAADrYmUNAAAAAXRSTlMAQObYZgAAALhJREFU\n",
       "GNNj4Lt7ZgMDGoiceYiB4RUD5w80cdYLDPoCDPcYGMoRYiog3cyfGPgTGMoYGNYHwMTFroJIjgoG\n",
       "fgcG/wcM62GWmM2DqQAaBQT5D8AcvmkGMHG+TLDOnxDONQG47dPugSi2BWDeEgUkh5k3AIm7EA0o\n",
       "Eux1QMddgOqHG8UawMDziYFBF8RAsZz/H0iCewIDcwCqc9kPMLD9YwibOXcZA6oHGQVA/vD///8b\n",
       "WpAw9N49wQAAOKUvinSXmHsAAAAASUVORK5CYII=\n",
       "\" style=\"display:inline;vertical-align:middle;\" /></a></span>"
      ],
      "text/plain": [
       "{2 in (1,3)} |- 2 < 3"
      ]
     },
     "execution_count": 53,
     "metadata": {},
     "output_type": "execute_result"
    }
   ],
   "source": [
    "# Element in an Open Interval (1,3)\n",
    "IntervalOO(one, three).deduce_member_upper_bound(\n",
    "        two, assumptions=[InSet(two, IntervalOO(one, three))])"
   ]
  },
  {
   "cell_type": "code",
   "execution_count": 54,
   "metadata": {},
   "outputs": [
    {
     "data": {
      "text/html": [
       "<span style=\"font-size:20px;\"><a class=\"ProveItLink\" href=\"../__pv_it/demonstrations/671216dc5f5c00cc990a2e62afe8c658115081780/expr.ipynb\"><img src=\"data:image/png;base64,iVBORw0KGgoAAAANSUhEUgAAAE4AAAAUBAMAAADRkRa/AAAAMFBMVEX///+6urqYmJgQEBDu7u5m\n",
       "ZmZUVFQyMjJERESqqqoiIiLc3NzMzMyIiIh2dnYAAABqS+z4AAAAAXRSTlMAQObYZgAAAUZJREFU\n",
       "KM9jYMACNqHxOTdgU8XA0oDE2feuk4EhG6s6dqB2ThMImzuAYb4CgztWdaoMDG7PvkDYvD8Z+Bcw\n",
       "8F1AktZYtaoAzFgNxExQdYyGDPwFDCwGCGUnrkAZ3AuQ1AEB0F6GQiD99u4BkONLYOK8ASjqWNYB\n",
       "iacMDLsmcICsY4P7nUMBWR33qxAgqc7AsI6BbQJIFm4P1wRUey8LMDDMYmCFChwuBwKwP5gFUNUx\n",
       "A4PoPAMzNFB3IMSR1XFvYOD4CVLn/wAqi91e/i9gdVIM/EBXgyRYL2D1B9A6ri8gf7AmMLiCwoVh\n",
       "JUwdHyhceIGS/kDnMimAwy+OgeGdEsQkt0YHaBQAw5k1+XsQA9cSIE80tBFI1iDFm1wXUryBwRR4\n",
       "WC/AkQ4g4AHcKRewqeOARg0LXNYdbzplgot0Y1WHke6ZNjAAAIdiTpWBG+RXAAAAAElFTkSuQmCC\n",
       "\" style=\"display:inline;vertical-align:middle;\" /></a> <a class=\"ProveItLink\" href=\"../__pv_it/demonstrations/610719dd4da77b3a28be24504696bb80bf425ada0/proof.ipynb\" style=\"text-decoration: none\">&nbsp;&#x22A2;&nbsp;&nbsp;</a><a class=\"ProveItLink\" href=\"../__pv_it/demonstrations/2aee00d76175919323dc0ee31c520df45511ccd40/expr.ipynb\"><img src=\"data:image/png;base64,iVBORw0KGgoAAAANSUhEUgAAAC8AAAAOBAMAAABN+VgMAAAAMFBMVEX///+6urqYmJgQEBDu7u5m\n",
       "ZmZUVFQyMjJERESqqqoiIiLc3NzMzMyIiIh2dnYAAABqS+z4AAAAAXRSTlMAQObYZgAAAKFJREFU\n",
       "GNNjYMAE3O9eTGDABrYycH5CE+KsAZH3JzD8QhVnWroBRAkLMHxHEedd5wDTCTbq7d0DYJ7fWrgS\n",
       "rwdAYtcEjgIQx3URXHzfUpDWdQxsIMexVSIbasjAwPoFwnZDlmAwdmBgboC5Hm7UbgaG/gkM/g9g\n",
       "fLjl/x1AEvwKDAwTUJ1rwcCw3oGBNYHB9QCqB5Ug/nindAEtSBhDIwQYALIsKryCEJu2AAAAAElF\n",
       "TkSuQmCC\n",
       "\" style=\"display:inline;vertical-align:middle;\" /></a></span>"
      ],
      "text/plain": [
       "{c in (1,3)} |- c < 3"
      ]
     },
     "execution_count": 54,
     "metadata": {},
     "output_type": "execute_result"
    }
   ],
   "source": [
    "# Variable Element in an Open Interval (1,3)\n",
    "IntervalOO(one, three).deduce_member_upper_bound(\n",
    "        c, assumptions=[InSet(c, IntervalOO(one, three))])"
   ]
  },
  {
   "cell_type": "code",
   "execution_count": 55,
   "metadata": {},
   "outputs": [
    {
     "data": {
      "text/html": [
       "<span style=\"font-size:20px;\"><a class=\"ProveItLink\" href=\"../__pv_it/demonstrations/dab929e46500e90926437640716cb691276812e60/expr.ipynb\"><img src=\"data:image/png;base64,iVBORw0KGgoAAAANSUhEUgAAAEwAAAAUBAMAAADVZMaCAAAAMFBMVEX///+YmJiqqqqIiIgyMjLc\n",
       "3NwiIiIQEBC6urp2dnZUVFTMzMxERERmZmbu7u4AAADrYmUNAAAAAXRSTlMAQObYZgAAAUVJREFU\n",
       "KM9jYMACAtH4IhkMfHfPbEAT5TuAxImceYiBYQbDKwbOH2jKWAIYGJjqIGzWCwz6AkBl9xgYytGU\n",
       "yTIwvJr1D8Jm/sTAnwBUVsbAsD4ALCKTluYAZqQCMSNUGUcFA78DUJn/A4b1YMftsYMaxpqApAwI\n",
       "wJYCQf4DkLv9YMLMF1CU8WUygJVx/ATxuAJg4jwCyMpYp92DKGNbAJaEW8KmgGqpeQNY2V0wZ7sL\n",
       "EIC9wN6Aqoy9DqQM7BQGhhiEMLIy1gAGnk8gZbogJlASu6X8/yDKuCcwMIOU8Rpg9QL7AQa2f0Bl\n",
       "YTPnLgMLJMGUcYJcwQxU9h7oVEYBSLj5////DSz76sQDaMADg5d3+ZeLDGx5QF7v3ROQAIGBzmNI\n",
       "kQUGejDGDGzJTRbGmIBXGQ80QvgM8CqDJUtGBrzKMBK5SQYArdBVk3NTsqgAAAAASUVORK5CYII=\n",
       "\" style=\"display:inline;vertical-align:middle;\" /></a> <a class=\"ProveItLink\" href=\"../__pv_it/demonstrations/9b2317370d0f098e1b19c0a7ba478cb7e71342e30/proof.ipynb\" style=\"text-decoration: none\">&nbsp;&#x22A2;&nbsp;&nbsp;</a><a class=\"ProveItLink\" href=\"../../../numerals/decimals/__pv_it/theorems/de566d14109e3353602244bae3447431ee27dc570/expr.ipynb\"><img src=\"data:image/png;base64,iVBORw0KGgoAAAANSUhEUgAAADAAAAAPBAMAAABQAFHMAAAAMFBMVEX///+6urpERETc3NwiIiLM\n",
       "zMwyMjJmZmaIiIiYmJh2dnZUVFTu7u4QEBCqqqoAAAD7YXnbAAAAAXRSTlMAQObYZgAAAJVJREFU\n",
       "GNNjYMACjhepAkm+O+jiPBsY1gswnF79B0nsWQCQYD/AwHuBgYETSWJKMYjkdWDg/owi0bIGTLH9\n",
       "YeD+iiTBs6QBroTlD0KCp2QCwkz5BQiJbQ+QHOHNAJfgQZZgL0BIMDAjGdXOwIDVcr4CBmNszmWI\n",
       "YmBoZmDgwPAgs9eqagcG9r3fKtGChO3///8ODLgAAJC0L58BnxxZAAAAAElFTkSuQmCC\n",
       "\" style=\"display:inline;vertical-align:middle;\" /></a></span>"
      ],
      "text/plain": [
       "{2 in (1,3]} |- 1 < 2"
      ]
     },
     "execution_count": 55,
     "metadata": {},
     "output_type": "execute_result"
    }
   ],
   "source": [
    "# Element in a Half-Open Interval (1,3]\n",
    "IntervalOC(one, three).deduce_member_lower_bound(\n",
    "        two, assumptions=[InSet(two, IntervalOC(one, three))])"
   ]
  },
  {
   "cell_type": "code",
   "execution_count": 56,
   "metadata": {},
   "outputs": [
    {
     "data": {
      "text/html": [
       "<span style=\"font-size:20px;\"><a class=\"ProveItLink\" href=\"../__pv_it/demonstrations/dab929e46500e90926437640716cb691276812e60/expr.ipynb\"><img src=\"data:image/png;base64,iVBORw0KGgoAAAANSUhEUgAAAEwAAAAUBAMAAADVZMaCAAAAMFBMVEX///+YmJiqqqqIiIgyMjLc\n",
       "3NwiIiIQEBC6urp2dnZUVFTMzMxERERmZmbu7u4AAADrYmUNAAAAAXRSTlMAQObYZgAAAUVJREFU\n",
       "KM9jYMACAtH4IhkMfHfPbEAT5TuAxImceYiBYQbDKwbOH2jKWAIYGJjqIGzWCwz6AkBl9xgYytGU\n",
       "yTIwvJr1D8Jm/sTAnwBUVsbAsD4ALCKTluYAZqQCMSNUGUcFA78DUJn/A4b1YMftsYMaxpqApAwI\n",
       "wJYCQf4DkLv9YMLMF1CU8WUygJVx/ATxuAJg4jwCyMpYp92DKGNbAJaEW8KmgGqpeQNY2V0wZ7sL\n",
       "EIC9wN6Aqoy9DqQM7BQGhhiEMLIy1gAGnk8gZbogJlASu6X8/yDKuCcwMIOU8Rpg9QL7AQa2f0Bl\n",
       "YTPnLgMLJMGUcYJcwQxU9h7oVEYBSLj5////DSz76sQDaMADg5d3+ZeLDGx5QF7v3ROQAIGBzmNI\n",
       "kQUGejDGDGzJTRbGmIBXGQ80QvgM8CqDJUtGBrzKMBK5SQYArdBVk3NTsqgAAAAASUVORK5CYII=\n",
       "\" style=\"display:inline;vertical-align:middle;\" /></a> <a class=\"ProveItLink\" href=\"../__pv_it/demonstrations/b2e2343e4984cde123c7b0343d852be870342b440/proof.ipynb\" style=\"text-decoration: none\">&nbsp;&#x22A2;&nbsp;&nbsp;</a><a class=\"ProveItLink\" href=\"../__pv_it/demonstrations/624f0aa40b8b4a88d4f643e4015e94e0167bb2d30/expr.ipynb\"><img src=\"data:image/png;base64,iVBORw0KGgoAAAANSUhEUgAAADAAAAARBAMAAABp3DInAAAAMFBMVEX///+YmJiqqqqIiIgyMjLc\n",
       "3NwiIiIQEBC6urp2dnZUVFTMzMxERERmZmbu7u4AAADrYmUNAAAAAXRSTlMAQObYZgAAAM5JREFU\n",
       "GNNj4Lt7ZgMDGoiceYiB4RUD5w+EkBlIEesFBn0BhnsMDOUwYb5pBiCK+RMDfwJDGQPD+gCIOOs1\n",
       "ATDNUcHA78Dg/4BhPcQS1iUKcCP1wUryH4BI7iMNcHG+TLDOn2AOkuNYp90DUWwLIA6yQ3KwOUj3\n",
       "XShHbB5Cgr0O6LgLMJ7KVahJAQw8nxgYdEEMCGhZDab4/4EkuCcwMMMkGPacAJtzgIHtH0PYzLnL\n",
       "EGZHgZzGKADyh////9/QA7H37gkGCgCfWxoIwL0PALFGNGA5ADnVAAAAAElFTkSuQmCC\n",
       "\" style=\"display:inline;vertical-align:middle;\" /></a></span>"
      ],
      "text/plain": [
       "{2 in (1,3]} |- 2 <= 3"
      ]
     },
     "execution_count": 56,
     "metadata": {},
     "output_type": "execute_result"
    }
   ],
   "source": [
    "# Element in a Half-Open Interval (1,3]\n",
    "IntervalOC(one, three).deduce_member_upper_bound(\n",
    "        two, assumptions=[InSet(two, IntervalOC(one, three))])"
   ]
  },
  {
   "cell_type": "code",
   "execution_count": 57,
   "metadata": {},
   "outputs": [
    {
     "data": {
      "text/html": [
       "<span style=\"font-size:20px;\"><a class=\"ProveItLink\" href=\"../__pv_it/demonstrations/90fb8fc3a0b1bec1d07c88501135037acc97efd80/expr.ipynb\"><img src=\"data:image/png;base64,iVBORw0KGgoAAAANSUhEUgAAAEwAAAAUBAMAAADVZMaCAAAAMFBMVEX///+YmJiqqqqIiIgyMjLc\n",
       "3NwiIiIQEBC6urp2dnZUVFTMzMxERERmZmbu7u4AAADrYmUNAAAAAXRSTlMAQObYZgAAAUNJREFU\n",
       "KM9jYMAAzC4bUAWYAhgY+O6eQRPlbEDiRM48xMCwlIHhFQPnD0xl6g8gbNYLDPoCDE8YGO4xMJSj\n",
       "K+NbuR6qjPkTA38CA6cBQxkDw/oAsJBMWpoDzDR5qDKOCgZ+Bwa+Agb/BwzrwY7bY4dkKUwZEAAt\n",
       "ZfAAMfJBYnx+DFiV8WUCibkgg3+CuFwBWJWxTgM6nkEEiNkWgPg8DNhNYzAHctWA9F0wb7sLEDhg\n",
       "UcZex8CwH+jnC2BeDFbTWAMYeD6BlemC2EBNWJXx/wMra2PgnsDADFLGa4BNGfsBBrZ/IC+EzZy7\n",
       "DCyShKzM/gED3xcgm1EAHG43Gfz///8Gln114gFc2a16XwGGNBC/9+4JIOmNFJedxxCRBU4/iCBO\n",
       "wExucGWcCBEDPMoew0WeMOBRJgAXOYpNGXMKWnJmDGAAADUdWDhOJj89AAAAAElFTkSuQmCC\n",
       "\" style=\"display:inline;vertical-align:middle;\" /></a> <a class=\"ProveItLink\" href=\"../__pv_it/demonstrations/09e96489aa01355c3697e430d90f1a65f72112190/proof.ipynb\" style=\"text-decoration: none\">&nbsp;&#x22A2;&nbsp;&nbsp;</a><a class=\"ProveItLink\" href=\"../__pv_it/demonstrations/1aa4b9d3d52daf4bc6a48e0fd8f3d7f096b9de4e0/expr.ipynb\"><img src=\"data:image/png;base64,iVBORw0KGgoAAAANSUhEUgAAADAAAAARBAMAAABp3DInAAAAMFBMVEX///+6urpERETc3NzMzMwi\n",
       "IiIyMjJmZmaIiIiYmJh2dnZUVFTu7u4QEBCqqqoAAAA8/FlzAAAAAXRSTlMAQObYZgAAAK5JREFU\n",
       "GNNjYMACjhepAEm+O0hCrQ5AgmcDw3oBhtOr/8CFeZY2gCj2Awy8FxgYOOESzKUTwDRvAAP3ZyQJ\n",
       "5m0PIAy2PwzcXxASLGoCCLtY/yAklByQHCG/ACHR2oMkEc2AZMfUNXBx9gJkCYZnxTBWOwOKBIPY\n",
       "FgjNV8BgjCLB4KQIprwYGJoZGDiQJBisQU5jjlpVHcDAvvdbJVoYsv3//z+AgXzAkxoKAnDvAwAd\n",
       "oy41jc509gAAAABJRU5ErkJggg==\n",
       "\" style=\"display:inline;vertical-align:middle;\" /></a></span>"
      ],
      "text/plain": [
       "{2 in [1,3)} |- 1 <= 2"
      ]
     },
     "execution_count": 57,
     "metadata": {},
     "output_type": "execute_result"
    }
   ],
   "source": [
    "# Element in a Half-Open Interval [1,3)\n",
    "IntervalCO(one, three).deduce_member_lower_bound(\n",
    "        two, assumptions=[InSet(two, IntervalCO(one, three))])"
   ]
  },
  {
   "cell_type": "code",
   "execution_count": 58,
   "metadata": {},
   "outputs": [
    {
     "data": {
      "text/html": [
       "<span style=\"font-size:20px;\"><a class=\"ProveItLink\" href=\"../__pv_it/demonstrations/90fb8fc3a0b1bec1d07c88501135037acc97efd80/expr.ipynb\"><img src=\"data:image/png;base64,iVBORw0KGgoAAAANSUhEUgAAAEwAAAAUBAMAAADVZMaCAAAAMFBMVEX///+YmJiqqqqIiIgyMjLc\n",
       "3NwiIiIQEBC6urp2dnZUVFTMzMxERERmZmbu7u4AAADrYmUNAAAAAXRSTlMAQObYZgAAAUNJREFU\n",
       "KM9jYMAAzC4bUAWYAhgY+O6eQRPlbEDiRM48xMCwlIHhFQPnD0xl6g8gbNYLDPoCDE8YGO4xMJSj\n",
       "K+NbuR6qjPkTA38CA6cBQxkDw/oAsJBMWpoDzDR5qDKOCgZ+Bwa+Agb/BwzrwY7bY4dkKUwZEAAt\n",
       "ZfAAMfJBYnx+DFiV8WUCibkgg3+CuFwBWJWxTgM6nkEEiNkWgPg8DNhNYzAHctWA9F0wb7sLEDhg\n",
       "UcZex8CwH+jnC2BeDFbTWAMYeD6BlemC2EBNWJXx/wMra2PgnsDADFLGa4BNGfsBBrZ/IC+EzZy7\n",
       "DCyShKzM/gED3xcgm1EAHG43Gfz///8Gln114gFc2a16XwGGNBC/9+4JIOmNFJedxxCRBU4/iCBO\n",
       "wExucGWcCBEDPMoew0WeMOBRJgAXOYpNGXMKWnJmDGAAADUdWDhOJj89AAAAAElFTkSuQmCC\n",
       "\" style=\"display:inline;vertical-align:middle;\" /></a> <a class=\"ProveItLink\" href=\"../__pv_it/demonstrations/79cf017d610585d3f27a74e472e2619f1e24670e0/proof.ipynb\" style=\"text-decoration: none\">&nbsp;&#x22A2;&nbsp;&nbsp;</a><a class=\"ProveItLink\" href=\"../../../numerals/decimals/__pv_it/theorems/5ee8fddf82dc23baaa124983c910f2c8e88dfb090/expr.ipynb\"><img src=\"data:image/png;base64,iVBORw0KGgoAAAANSUhEUgAAADAAAAAOBAMAAACbXIJpAAAAMFBMVEX///+YmJiqqqqIiIgyMjLc\n",
       "3NwiIiIQEBC6urp2dnZUVFTMzMxERERmZmbu7u4AAADrYmUNAAAAAXRSTlMAQObYZgAAALhJREFU\n",
       "GNNj4Lt7ZgMDGoiceYiB4RUD5w80cdYLDPoCDPcYGMoRYiog3cyfGPgTGMoYGNYHwMTFroJIjgoG\n",
       "fgcG/wcM62GWmM2DqQAaBQT5D8AcvmkGMHG+TLDOnxDONQG47dPugSi2BWDeEgUkh5k3AIm7EA0o\n",
       "Eux1QMddgOqHG8UawMDziYFBF8RAsZz/H0iCewIDcwCqc9kPMLD9YwibOXcZA6oHGQVA/vD///8b\n",
       "WpAw9N49wQAAOKUvinSXmHsAAAAASUVORK5CYII=\n",
       "\" style=\"display:inline;vertical-align:middle;\" /></a></span>"
      ],
      "text/plain": [
       "{2 in [1,3)} |- 2 < 3"
      ]
     },
     "execution_count": 58,
     "metadata": {},
     "output_type": "execute_result"
    }
   ],
   "source": [
    "# Element in a Half-Open Interval [1,3)\n",
    "IntervalCO(one, three).deduce_member_upper_bound(\n",
    "        two, assumptions=[InSet(two, IntervalCO(one, three))])"
   ]
  },
  {
   "cell_type": "code",
   "execution_count": 59,
   "metadata": {},
   "outputs": [
    {
     "data": {
      "text/html": [
       "<span style=\"font-size:20px;\"><a class=\"ProveItLink\" href=\"../__pv_it/demonstrations/73e015d9da264c6efdfcec44ceeae0fbe6ef82550/expr.ipynb\"><img src=\"data:image/png;base64,iVBORw0KGgoAAAANSUhEUgAAAEoAAAAUBAMAAADYerbFAAAAMFBMVEX///+YmJiqqqqIiIgyMjLc\n",
       "3NwiIiIQEBC6urp2dnZUVFTMzMxERERmZmbu7u4AAADrYmUNAAAAAXRSTlMAQObYZgAAASNJREFU\n",
       "KM9jYMAAzC4bUAVEMhj47p5BE+RsQOJEzjzEwDCD4RUD5w9MVUx1EDbrBQZ9AaCqewwM5RiqXs36\n",
       "B7X9EwN/AlBVGQPD+gCwiExamgPMLEaoKo4KBn4HoCr/BwzrwQ7bY4dkI0wVEIBtBIL8B0CCz48B\n",
       "qyq+TAawKo6fIB5XAFZVrNPuQVSxLQBxeRiwm8Vg3gBWdRfM2e4CBA5YVLHXgVQxXwBzYrCaxRrA\n",
       "wPMJpEoXxARqwaqK/x9EFfcEBmaQKl4DbKrYDzCw/QOqCps5dxlYIAlZFTNQ1XugKxkFIOHl////\n",
       "N7DkqxMP4Kp4l3+5yMCWB+T03j0BCQkY6DyGiCEw0IPJzMBMXghVE4hRxWdAjCpGBnyqmFPQEq9J\n",
       "BgB1mllGomsgdAAAAABJRU5ErkJggg==\n",
       "\" style=\"display:inline;vertical-align:middle;\" /></a> <a class=\"ProveItLink\" href=\"../__pv_it/demonstrations/396fb340903ece2ece7d3e540ac0a7a428fac8930/proof.ipynb\" style=\"text-decoration: none\">&nbsp;&#x22A2;&nbsp;&nbsp;</a><a class=\"ProveItLink\" href=\"../__pv_it/demonstrations/1aa4b9d3d52daf4bc6a48e0fd8f3d7f096b9de4e0/expr.ipynb\"><img src=\"data:image/png;base64,iVBORw0KGgoAAAANSUhEUgAAADAAAAARBAMAAABp3DInAAAAMFBMVEX///+6urpERETc3NzMzMwi\n",
       "IiIyMjJmZmaIiIiYmJh2dnZUVFTu7u4QEBCqqqoAAAA8/FlzAAAAAXRSTlMAQObYZgAAAK5JREFU\n",
       "GNNjYMACjhepAEm+O0hCrQ5AgmcDw3oBhtOr/8CFeZY2gCj2Awy8FxgYOOESzKUTwDRvAAP3ZyQJ\n",
       "5m0PIAy2PwzcXxASLGoCCLtY/yAklByQHCG/ACHR2oMkEc2AZMfUNXBx9gJkCYZnxTBWOwOKBIPY\n",
       "FgjNV8BgjCLB4KQIprwYGJoZGDiQJBisQU5jjlpVHcDAvvdbJVoYsv3//z+AgXzAkxoKAnDvAwAd\n",
       "oy41jc509gAAAABJRU5ErkJggg==\n",
       "\" style=\"display:inline;vertical-align:middle;\" /></a></span>"
      ],
      "text/plain": [
       "{2 in [1,3]} |- 1 <= 2"
      ]
     },
     "execution_count": 59,
     "metadata": {},
     "output_type": "execute_result"
    }
   ],
   "source": [
    "# Element in a Closed Interval [1,3]\n",
    "IntervalCC(one, three).deduce_member_lower_bound(\n",
    "        two, assumptions=[InSet(two, IntervalCC(one, three))])"
   ]
  },
  {
   "cell_type": "code",
   "execution_count": 60,
   "metadata": {},
   "outputs": [
    {
     "data": {
      "text/html": [
       "<span style=\"font-size:20px;\"><a class=\"ProveItLink\" href=\"../__pv_it/demonstrations/73e015d9da264c6efdfcec44ceeae0fbe6ef82550/expr.ipynb\"><img src=\"data:image/png;base64,iVBORw0KGgoAAAANSUhEUgAAAEoAAAAUBAMAAADYerbFAAAAMFBMVEX///+YmJiqqqqIiIgyMjLc\n",
       "3NwiIiIQEBC6urp2dnZUVFTMzMxERERmZmbu7u4AAADrYmUNAAAAAXRSTlMAQObYZgAAASNJREFU\n",
       "KM9jYMAAzC4bUAVEMhj47p5BE+RsQOJEzjzEwDCD4RUD5w9MVUx1EDbrBQZ9AaCqewwM5RiqXs36\n",
       "B7X9EwN/AlBVGQPD+gCwiExamgPMLEaoKo4KBn4HoCr/BwzrwQ7bY4dkI0wVEIBtBIL8B0CCz48B\n",
       "qyq+TAawKo6fIB5XAFZVrNPuQVSxLQBxeRiwm8Vg3gBWdRfM2e4CBA5YVLHXgVQxXwBzYrCaxRrA\n",
       "wPMJpEoXxARqwaqK/x9EFfcEBmaQKl4DbKrYDzCw/QOqCps5dxlYIAlZFTNQ1XugKxkFIOHl////\n",
       "N7DkqxMP4Kp4l3+5yMCWB+T03j0BCQkY6DyGiCEw0IPJzMBMXghVE4hRxWdAjCpGBnyqmFPQEq9J\n",
       "BgB1mllGomsgdAAAAABJRU5ErkJggg==\n",
       "\" style=\"display:inline;vertical-align:middle;\" /></a> <a class=\"ProveItLink\" href=\"../__pv_it/demonstrations/5846cb3616e9cffe92346e91bb8b2307c1b13fb70/proof.ipynb\" style=\"text-decoration: none\">&nbsp;&#x22A2;&nbsp;&nbsp;</a><a class=\"ProveItLink\" href=\"../__pv_it/demonstrations/624f0aa40b8b4a88d4f643e4015e94e0167bb2d30/expr.ipynb\"><img src=\"data:image/png;base64,iVBORw0KGgoAAAANSUhEUgAAADAAAAARBAMAAABp3DInAAAAMFBMVEX///+YmJiqqqqIiIgyMjLc\n",
       "3NwiIiIQEBC6urp2dnZUVFTMzMxERERmZmbu7u4AAADrYmUNAAAAAXRSTlMAQObYZgAAAM5JREFU\n",
       "GNNj4Lt7ZgMDGoiceYiB4RUD5w+EkBlIEesFBn0BhnsMDOUwYb5pBiCK+RMDfwJDGQPD+gCIOOs1\n",
       "ATDNUcHA78Dg/4BhPcQS1iUKcCP1wUryH4BI7iMNcHG+TLDOn2AOkuNYp90DUWwLIA6yQ3KwOUj3\n",
       "XShHbB5Cgr0O6LgLMJ7KVahJAQw8nxgYdEEMCGhZDab4/4EkuCcwMMMkGPacAJtzgIHtH0PYzLnL\n",
       "EGZHgZzGKADyh////9/QA7H37gkGCgCfWxoIwL0PALFGNGA5ADnVAAAAAElFTkSuQmCC\n",
       "\" style=\"display:inline;vertical-align:middle;\" /></a></span>"
      ],
      "text/plain": [
       "{2 in [1,3]} |- 2 <= 3"
      ]
     },
     "execution_count": 60,
     "metadata": {},
     "output_type": "execute_result"
    }
   ],
   "source": [
    "# Element in a Closed Interval [1,3]\n",
    "IntervalCC(one, three).deduce_member_upper_bound(\n",
    "        two, assumptions=[InSet(two, IntervalCC(one, three))])"
   ]
  },
  {
   "cell_type": "markdown",
   "metadata": {},
   "source": [
    "### Testing the `Interval.deduce_member_in_real()` methods"
   ]
  },
  {
   "cell_type": "code",
   "execution_count": 61,
   "metadata": {},
   "outputs": [
    {
     "data": {
      "text/html": [
       "<span style=\"font-size:20px;\"><a class=\"ProveItLink\" href=\"../__pv_it/demonstrations/31edb4d0443117edb776c7250052860bcf045e480/expr.ipynb\"><img src=\"data:image/png;base64,iVBORw0KGgoAAAANSUhEUgAAAE4AAAAUBAMAAADRkRa/AAAAMFBMVEX///+YmJiqqqqIiIgyMjLc\n",
       "3NwiIiIQEBC6urp2dnZUVFTMzMxERERmZmbu7u4AAADrYmUNAAAAAXRSTlMAQObYZgAAAWJJREFU\n",
       "KM9jYMACAtH4TAEMDHx3z2xAE+Y7gMSJnHmIgWEpA8MrBs4faOpYgNqZ6iBs1gsM+gIMTxgY7jEw\n",
       "lKOpkwXqnvUPwmb+xMCfwMBpwFDGwLA+ACwkk5bmAGakAjEjVB1HBQO/AwNfAYP/A4b1YAfusYMa\n",
       "x5qApA4IgPYyeIAY+Q9AjveDiTNfQFHHlwkk5oKM/gnicgXAJHgEkNWxTgP6gEEEiNkWgGXh9rAp\n",
       "oNpr3sDAoAak74J5212AAOwP9gZUdezAINoPdQ4DQwxCHFkdawADzyewOl0QGyiL3V7+f2B1bQzc\n",
       "ExiYQep4DbD6g/0AA9s/kD/CZs5dBhZJgqnjBDmEGSj5HuhcRgFw+N1k8P///xtY+tWJB9AoAIYz\n",
       "7/IvFxnY8oC83rsngKQ3UrR2HkOKNzDQg4d1ArbkJwtjTIA7xQCbOh5o1PDBZZ9gUwZPp4xwkaNY\n",
       "1WGke8YABgDzK1NZD99f4gAAAABJRU5ErkJggg==\n",
       "\" style=\"display:inline;vertical-align:middle;\" /></a> <a class=\"ProveItLink\" href=\"../__pv_it/demonstrations/9ee778b2ab6b4f783f15cec87fd556ac2830edfa0/proof.ipynb\" style=\"text-decoration: none\">&nbsp;&#x22A2;&nbsp;&nbsp;</a><a class=\"ProveItLink\" href=\"../__pv_it/demonstrations/b11f5a8f29a9c8de32a487181b2c9b63e96a05d50/expr.ipynb\"><img src=\"data:image/png;base64,iVBORw0KGgoAAAANSUhEUgAAADIAAAAPBAMAAABU9YHxAAAAMFBMVEX///+YmJiqqqqIiIgyMjLc\n",
       "3NwiIiIQEBC6urp2dnZUVFTMzMxERERmZmbu7u4AAADrYmUNAAAAAXRSTlMAQObYZgAAANVJREFU\n",
       "GNNj4Lt7ZgMDMmBMP/PF/SCQ8YqB8weKDAML3wLug+cYGO4xMJSjyvCwTmA4EMXAUMbAsD4ALCKT\n",
       "luYAk7nKwsDg/4BhPdiiPXZIeq7ygJn5D4AEnx+yaQu6QCyOnyCSKwBJhikXrI5tAZiP5IKyNCcw\n",
       "6y6Y3O4CBFAXzLhwDsRgvgCWiUF29Y09IIYuAyvICnZkGZ6HBgwM3BMYmEEyvAZIMtwLbjMwhM2c\n",
       "uwwskIQUOgyTuDYw+P///w0s8OrEA3iIbuA58gkpvDqPQUIHCgBnrj0uOO3EnwAAAABJRU5ErkJg\n",
       "gg==\n",
       "\" style=\"display:inline;vertical-align:middle;\" /></a></span>"
      ],
      "text/plain": [
       "{2 in (1,3)} |- 2 in Real"
      ]
     },
     "execution_count": 61,
     "metadata": {},
     "output_type": "execute_result"
    }
   ],
   "source": [
    "# Element in an Open Interval (1,3)\n",
    "IntervalOO(one, three).deduce_member_in_real(\n",
    "        two, assumptions=[InSet(two, IntervalOO(one, three))])"
   ]
  },
  {
   "cell_type": "code",
   "execution_count": 62,
   "metadata": {},
   "outputs": [
    {
     "data": {
      "text/html": [
       "<span style=\"font-size:20px;\"><a class=\"ProveItLink\" href=\"../__pv_it/demonstrations/671216dc5f5c00cc990a2e62afe8c658115081780/expr.ipynb\"><img src=\"data:image/png;base64,iVBORw0KGgoAAAANSUhEUgAAAE4AAAAUBAMAAADRkRa/AAAAMFBMVEX///+6urqYmJgQEBDu7u5m\n",
       "ZmZUVFQyMjJERESqqqoiIiLc3NzMzMyIiIh2dnYAAABqS+z4AAAAAXRSTlMAQObYZgAAAUZJREFU\n",
       "KM9jYMACNqHxOTdgU8XA0oDE2feuk4EhG6s6dqB2ThMImzuAYb4CgztWdaoMDG7PvkDYvD8Z+Bcw\n",
       "8F1AktZYtaoAzFgNxExQdYyGDPwFDCwGCGUnrkAZ3AuQ1AEB0F6GQiD99u4BkONLYOK8ASjqWNYB\n",
       "iacMDLsmcICsY4P7nUMBWR33qxAgqc7AsI6BbQJIFm4P1wRUey8LMDDMYmCFChwuBwKwP5gFUNUx\n",
       "A4PoPAMzNFB3IMSR1XFvYOD4CVLn/wAqi91e/i9gdVIM/EBXgyRYL2D1B9A6ri8gf7AmMLiCwoVh\n",
       "JUwdHyhceIGS/kDnMimAwy+OgeGdEsQkt0YHaBQAw5k1+XsQA9cSIE80tBFI1iDFm1wXUryBwRR4\n",
       "WC/AkQ4g4AHcKRewqeOARg0LXNYdbzplgot0Y1WHke6ZNjAAAIdiTpWBG+RXAAAAAElFTkSuQmCC\n",
       "\" style=\"display:inline;vertical-align:middle;\" /></a> <a class=\"ProveItLink\" href=\"../__pv_it/demonstrations/c548a3e51399179691a363036f14668a73c9b4cb0/proof.ipynb\" style=\"text-decoration: none\">&nbsp;&#x22A2;&nbsp;&nbsp;</a><a class=\"ProveItLink\" href=\"../__pv_it/demonstrations/e9640e313437969d69581c7199d777452724afa90/expr.ipynb\"><img src=\"data:image/png;base64,iVBORw0KGgoAAAANSUhEUgAAADEAAAAPBAMAAAC/wjryAAAAMFBMVEX///+6urqYmJgQEBDu7u5m\n",
       "ZmZUVFQyMjJERESqqqoiIiLc3NzMzMyIiIh2dnYAAABqS+z4AAAAAXRSTlMAQObYZgAAALpJREFU\n",
       "GNNjYEAHWhb95RYKDNhAgRvDCQ0HbDIN+xg4uBOQRTRWrSqAyrBuKECSOHEFoYd1QwOI9fbuASDJ\n",
       "UoJkGhsjyLRdEzhAWtk2IMnMCge5YB0D2wQgxYFwweZVy0EirF8g/MPlQAB1gSgHSAtzA0RmB5Kr\n",
       "WWVAgv4PIHxmZP+06AJpfmBAgE29gCRzjBXoXNYEBleQqxlWIoUO34QcIOOdEkS1W6MDLERrGDrq\n",
       "JyAFglzXKuQwAQDAXjdf5nEJUwAAAABJRU5ErkJggg==\n",
       "\" style=\"display:inline;vertical-align:middle;\" /></a></span>"
      ],
      "text/plain": [
       "{c in (1,3)} |- c in Real"
      ]
     },
     "execution_count": 62,
     "metadata": {},
     "output_type": "execute_result"
    }
   ],
   "source": [
    "# Variable Element in an Open Interval (1,3)\n",
    "IntervalOO(one, three).deduce_member_in_real(\n",
    "        c, assumptions=[InSet(c, IntervalOO(one, three))])"
   ]
  },
  {
   "cell_type": "code",
   "execution_count": 63,
   "metadata": {},
   "outputs": [
    {
     "data": {
      "text/html": [
       "<span style=\"font-size:20px;\"><a class=\"ProveItLink\" href=\"../__pv_it/demonstrations/dab929e46500e90926437640716cb691276812e60/expr.ipynb\"><img src=\"data:image/png;base64,iVBORw0KGgoAAAANSUhEUgAAAEwAAAAUBAMAAADVZMaCAAAAMFBMVEX///+YmJiqqqqIiIgyMjLc\n",
       "3NwiIiIQEBC6urp2dnZUVFTMzMxERERmZmbu7u4AAADrYmUNAAAAAXRSTlMAQObYZgAAAUVJREFU\n",
       "KM9jYMACAtH4IhkMfHfPbEAT5TuAxImceYiBYQbDKwbOH2jKWAIYGJjqIGzWCwz6AkBl9xgYytGU\n",
       "yTIwvJr1D8Jm/sTAnwBUVsbAsD4ALCKTluYAZqQCMSNUGUcFA78DUJn/A4b1YMftsYMaxpqApAwI\n",
       "wJYCQf4DkLv9YMLMF1CU8WUygJVx/ATxuAJg4jwCyMpYp92DKGNbAJaEW8KmgGqpeQNY2V0wZ7sL\n",
       "EIC9wN6Aqoy9DqQM7BQGhhiEMLIy1gAGnk8gZbogJlASu6X8/yDKuCcwMIOU8Rpg9QL7AQa2f0Bl\n",
       "YTPnLgMLJMGUcYJcwQxU9h7oVEYBSLj5////DSz76sQDaMADg5d3+ZeLDGx5QF7v3ROQAIGBzmNI\n",
       "kQUGejDGDGzJTRbGmIBXGQ80QvgM8CqDJUtGBrzKMBK5SQYArdBVk3NTsqgAAAAASUVORK5CYII=\n",
       "\" style=\"display:inline;vertical-align:middle;\" /></a> <a class=\"ProveItLink\" href=\"../__pv_it/demonstrations/faef3afca50b2bf9bcb55c9888739e2d386ac8440/proof.ipynb\" style=\"text-decoration: none\">&nbsp;&#x22A2;&nbsp;&nbsp;</a><a class=\"ProveItLink\" href=\"../__pv_it/demonstrations/b11f5a8f29a9c8de32a487181b2c9b63e96a05d50/expr.ipynb\"><img src=\"data:image/png;base64,iVBORw0KGgoAAAANSUhEUgAAADIAAAAPBAMAAABU9YHxAAAAMFBMVEX///+YmJiqqqqIiIgyMjLc\n",
       "3NwiIiIQEBC6urp2dnZUVFTMzMxERERmZmbu7u4AAADrYmUNAAAAAXRSTlMAQObYZgAAANVJREFU\n",
       "GNNj4Lt7ZgMDMmBMP/PF/SCQ8YqB8weKDAML3wLug+cYGO4xMJSjyvCwTmA4EMXAUMbAsD4ALCKT\n",
       "luYAk7nKwsDg/4BhPdiiPXZIeq7ygJn5D4AEnx+yaQu6QCyOnyCSKwBJhikXrI5tAZiP5IKyNCcw\n",
       "6y6Y3O4CBFAXzLhwDsRgvgCWiUF29Y09IIYuAyvICnZkGZ6HBgwM3BMYmEEyvAZIMtwLbjMwhM2c\n",
       "uwwskIQUOgyTuDYw+P///w0s8OrEA3iIbuA58gkpvDqPQUIHCgBnrj0uOO3EnwAAAABJRU5ErkJg\n",
       "gg==\n",
       "\" style=\"display:inline;vertical-align:middle;\" /></a></span>"
      ],
      "text/plain": [
       "{2 in (1,3]} |- 2 in Real"
      ]
     },
     "execution_count": 63,
     "metadata": {},
     "output_type": "execute_result"
    }
   ],
   "source": [
    "# Element in an Half-Open Interval (1,3]\n",
    "IntervalOC(one, three).deduce_member_in_real(\n",
    "        two, assumptions=[InSet(two, IntervalOC(one, three))])"
   ]
  },
  {
   "cell_type": "code",
   "execution_count": 64,
   "metadata": {},
   "outputs": [
    {
     "data": {
      "text/html": [
       "<span style=\"font-size:20px;\"><a class=\"ProveItLink\" href=\"../__pv_it/demonstrations/630e85a2b11ec45365b2e4bfc9c5e7a73ee3ef220/expr.ipynb\"><img src=\"data:image/png;base64,iVBORw0KGgoAAAANSUhEUgAAAEwAAAAUBAMAAADVZMaCAAAAMFBMVEX///+6urqYmJgQEBDu7u5m\n",
       "ZmZUVFQyMjJERESqqqoiIiLc3NzMzMyIiIh2dnYAAABqS+z4AAAAAXRSTlMAQObYZgAAAR5JREFU\n",
       "KM9jYMAE3ApoAuoLsahi8EDm7HvXycDwEJuyaiCe7AA1OYBhvgJWZUwBDCx5+VBlvD8Z+BcgK2Pq\n",
       "WrUczODaACT0ocoYDRn4C5CU8fRCJRh2MSApAwKopW/vHgCS7nDxq6jKWNaBvbBrAkcBkJcN192E\n",
       "ooz7VQhY2ToGtglAbgNc2Uo0Sy8LAJWxfoE4zbwcCMBMQzRlzCZAZcwQY7gRpqEo497AwPETqMz/\n",
       "AYRvgN1S/i8QZfzACAS5LRa7F4CWcX0BuS2BwRUUIFwTYMqegoj7Dgws30GBrgANt3dKF8DBkyEC\n",
       "VSYFxGH2pQoMq0AmioY2okQ94wvkyAIBTrhvcUQ9BPAx4FPG0A2lffErgyVLBfzKMBL59YUAkG9N\n",
       "tzh9LwIAAAAASUVORK5CYII=\n",
       "\" style=\"display:inline;vertical-align:middle;\" /></a> <a class=\"ProveItLink\" href=\"../__pv_it/demonstrations/5a907c074d900f6d75a286625b6cfb714a93c2030/proof.ipynb\" style=\"text-decoration: none\">&nbsp;&#x22A2;&nbsp;&nbsp;</a><a class=\"ProveItLink\" href=\"../__pv_it/demonstrations/e9640e313437969d69581c7199d777452724afa90/expr.ipynb\"><img src=\"data:image/png;base64,iVBORw0KGgoAAAANSUhEUgAAADEAAAAPBAMAAAC/wjryAAAAMFBMVEX///+6urqYmJgQEBDu7u5m\n",
       "ZmZUVFQyMjJERESqqqoiIiLc3NzMzMyIiIh2dnYAAABqS+z4AAAAAXRSTlMAQObYZgAAALpJREFU\n",
       "GNNjYEAHWhb95RYKDNhAgRvDCQ0HbDIN+xg4uBOQRTRWrSqAyrBuKECSOHEFoYd1QwOI9fbuASDJ\n",
       "UoJkGhsjyLRdEzhAWtk2IMnMCge5YB0D2wQgxYFwweZVy0EirF8g/MPlQAB1gSgHSAtzA0RmB5Kr\n",
       "WWVAgv4PIHxmZP+06AJpfmBAgE29gCRzjBXoXNYEBleQqxlWIoUO34QcIOOdEkS1W6MDLERrGDrq\n",
       "JyAFglzXKuQwAQDAXjdf5nEJUwAAAABJRU5ErkJggg==\n",
       "\" style=\"display:inline;vertical-align:middle;\" /></a></span>"
      ],
      "text/plain": [
       "{c in (1,3]} |- c in Real"
      ]
     },
     "execution_count": 64,
     "metadata": {},
     "output_type": "execute_result"
    }
   ],
   "source": [
    "# Variable Element in an Half-Open Interval (1,3]\n",
    "IntervalOC(one, three).deduce_member_in_real(\n",
    "        c, assumptions=[InSet(c, IntervalOC(one, three))])"
   ]
  },
  {
   "cell_type": "code",
   "execution_count": 65,
   "metadata": {},
   "outputs": [
    {
     "data": {
      "text/html": [
       "<span style=\"font-size:20px;\"><a class=\"ProveItLink\" href=\"../__pv_it/demonstrations/90fb8fc3a0b1bec1d07c88501135037acc97efd80/expr.ipynb\"><img src=\"data:image/png;base64,iVBORw0KGgoAAAANSUhEUgAAAEwAAAAUBAMAAADVZMaCAAAAMFBMVEX///+YmJiqqqqIiIgyMjLc\n",
       "3NwiIiIQEBC6urp2dnZUVFTMzMxERERmZmbu7u4AAADrYmUNAAAAAXRSTlMAQObYZgAAAUNJREFU\n",
       "KM9jYMAAzC4bUAWYAhgY+O6eQRPlbEDiRM48xMCwlIHhFQPnD0xl6g8gbNYLDPoCDE8YGO4xMJSj\n",
       "K+NbuR6qjPkTA38CA6cBQxkDw/oAsJBMWpoDzDR5qDKOCgZ+Bwa+Agb/BwzrwY7bY4dkKUwZEAAt\n",
       "ZfAAMfJBYnx+DFiV8WUCibkgg3+CuFwBWJWxTgM6nkEEiNkWgPg8DNhNYzAHctWA9F0wb7sLEDhg\n",
       "UcZex8CwH+jnC2BeDFbTWAMYeD6BlemC2EBNWJXx/wMra2PgnsDADFLGa4BNGfsBBrZ/IC+EzZy7\n",
       "DCyShKzM/gED3xcgm1EAHG43Gfz///8Gln114gFc2a16XwGGNBC/9+4JIOmNFJedxxCRBU4/iCBO\n",
       "wExucGWcCBEDPMoew0WeMOBRJgAXOYpNGXMKWnJmDGAAADUdWDhOJj89AAAAAElFTkSuQmCC\n",
       "\" style=\"display:inline;vertical-align:middle;\" /></a> <a class=\"ProveItLink\" href=\"../__pv_it/demonstrations/100fbdfa476574774e08c0ed6ea8d69c693c83550/proof.ipynb\" style=\"text-decoration: none\">&nbsp;&#x22A2;&nbsp;&nbsp;</a><a class=\"ProveItLink\" href=\"../__pv_it/demonstrations/b11f5a8f29a9c8de32a487181b2c9b63e96a05d50/expr.ipynb\"><img src=\"data:image/png;base64,iVBORw0KGgoAAAANSUhEUgAAADIAAAAPBAMAAABU9YHxAAAAMFBMVEX///+YmJiqqqqIiIgyMjLc\n",
       "3NwiIiIQEBC6urp2dnZUVFTMzMxERERmZmbu7u4AAADrYmUNAAAAAXRSTlMAQObYZgAAANVJREFU\n",
       "GNNj4Lt7ZgMDMmBMP/PF/SCQ8YqB8weKDAML3wLug+cYGO4xMJSjyvCwTmA4EMXAUMbAsD4ALCKT\n",
       "luYAk7nKwsDg/4BhPdiiPXZIeq7ygJn5D4AEnx+yaQu6QCyOnyCSKwBJhikXrI5tAZiP5IKyNCcw\n",
       "6y6Y3O4CBFAXzLhwDsRgvgCWiUF29Y09IIYuAyvICnZkGZ6HBgwM3BMYmEEyvAZIMtwLbjMwhM2c\n",
       "uwwskIQUOgyTuDYw+P///w0s8OrEA3iIbuA58gkpvDqPQUIHCgBnrj0uOO3EnwAAAABJRU5ErkJg\n",
       "gg==\n",
       "\" style=\"display:inline;vertical-align:middle;\" /></a></span>"
      ],
      "text/plain": [
       "{2 in [1,3)} |- 2 in Real"
      ]
     },
     "execution_count": 65,
     "metadata": {},
     "output_type": "execute_result"
    }
   ],
   "source": [
    "# Element in an Half-Open Interval [1,3)\n",
    "IntervalCO(one, three).deduce_member_in_real(\n",
    "        two, assumptions=[InSet(two, IntervalCO(one, three))])"
   ]
  },
  {
   "cell_type": "code",
   "execution_count": 66,
   "metadata": {},
   "outputs": [
    {
     "data": {
      "text/html": [
       "<span style=\"font-size:20px;\"><a class=\"ProveItLink\" href=\"../__pv_it/demonstrations/5da310dc8d8d953d09a62acb75f289d9a99b5b290/expr.ipynb\"><img src=\"data:image/png;base64,iVBORw0KGgoAAAANSUhEUgAAAEsAAAAUBAMAAAA3uN37AAAAMFBMVEX///+6urqYmJgQEBDu7u5m\n",
       "ZmZUVFQyMjJERESqqqoiIiLc3NzMzMyIiIh2dnYAAABqS+z4AAAAAXRSTlMAQObYZgAAAStJREFU\n",
       "KM9jYMAA12vQBGYzYAMPkdjc715MYGDbgEvZZAcIeysD5ycGlgLsyljy8qHK7k9g+MXA8BZJlqlr\n",
       "1XK4afpQZcICDN8ZGJwRqnh6HZAshSljAFnKwC4AZLy9ewBIujswYFXm9YCBgS+AgWHXBA6QE7MZ\n",
       "sCrbtxTIYgIqWMfANgHIb8CujIHXEGjxAgbWLxCnmZcDARZlDMYODDwfGJghxnBjN203A0P/BJAy\n",
       "/wcQAQOsyv47gJQxLmDgV2BgALktFqsyCwaG9Q4gL7AmMLiCAoRrArKy+w4MLMBwZVAChxsr0MZ3\n",
       "ShdAkiwZIghlYfalCgyrgCYyhkYAg5b9ACIaGF8gRRY4/BFBjC8h8cFF3uJT5gsTwJWQIEABJsCB\n",
       "NVneQk/k2gwMAKvAU2ES0jAYAAAAAElFTkSuQmCC\n",
       "\" style=\"display:inline;vertical-align:middle;\" /></a> <a class=\"ProveItLink\" href=\"../__pv_it/demonstrations/9e8f5bbcbe197a826fbe6ccc690cce32982e7c040/proof.ipynb\" style=\"text-decoration: none\">&nbsp;&#x22A2;&nbsp;&nbsp;</a><a class=\"ProveItLink\" href=\"../__pv_it/demonstrations/e9640e313437969d69581c7199d777452724afa90/expr.ipynb\"><img src=\"data:image/png;base64,iVBORw0KGgoAAAANSUhEUgAAADEAAAAPBAMAAAC/wjryAAAAMFBMVEX///+6urqYmJgQEBDu7u5m\n",
       "ZmZUVFQyMjJERESqqqoiIiLc3NzMzMyIiIh2dnYAAABqS+z4AAAAAXRSTlMAQObYZgAAALpJREFU\n",
       "GNNjYEAHWhb95RYKDNhAgRvDCQ0HbDIN+xg4uBOQRTRWrSqAyrBuKECSOHEFoYd1QwOI9fbuASDJ\n",
       "UoJkGhsjyLRdEzhAWtk2IMnMCge5YB0D2wQgxYFwweZVy0EirF8g/MPlQAB1gSgHSAtzA0RmB5Kr\n",
       "WWVAgv4PIHxmZP+06AJpfmBAgE29gCRzjBXoXNYEBleQqxlWIoUO34QcIOOdEkS1W6MDLERrGDrq\n",
       "JyAFglzXKuQwAQDAXjdf5nEJUwAAAABJRU5ErkJggg==\n",
       "\" style=\"display:inline;vertical-align:middle;\" /></a></span>"
      ],
      "text/plain": [
       "{c in [1,3)} |- c in Real"
      ]
     },
     "execution_count": 66,
     "metadata": {},
     "output_type": "execute_result"
    }
   ],
   "source": [
    "# Variable Element in an Half-Open Interval [1,3)\n",
    "IntervalCO(one, three).deduce_member_in_real(\n",
    "        c, assumptions=[InSet(c, IntervalCO(one, three))])"
   ]
  },
  {
   "cell_type": "code",
   "execution_count": 67,
   "metadata": {},
   "outputs": [
    {
     "data": {
      "text/html": [
       "<span style=\"font-size:20px;\"><a class=\"ProveItLink\" href=\"../__pv_it/demonstrations/73e015d9da264c6efdfcec44ceeae0fbe6ef82550/expr.ipynb\"><img src=\"data:image/png;base64,iVBORw0KGgoAAAANSUhEUgAAAEoAAAAUBAMAAADYerbFAAAAMFBMVEX///+YmJiqqqqIiIgyMjLc\n",
       "3NwiIiIQEBC6urp2dnZUVFTMzMxERERmZmbu7u4AAADrYmUNAAAAAXRSTlMAQObYZgAAASNJREFU\n",
       "KM9jYMAAzC4bUAVEMhj47p5BE+RsQOJEzjzEwDCD4RUD5w9MVUx1EDbrBQZ9AaCqewwM5RiqXs36\n",
       "B7X9EwN/AlBVGQPD+gCwiExamgPMLEaoKo4KBn4HoCr/BwzrwQ7bY4dkI0wVEIBtBIL8B0CCz48B\n",
       "qyq+TAawKo6fIB5XAFZVrNPuQVSxLQBxeRiwm8Vg3gBWdRfM2e4CBA5YVLHXgVQxXwBzYrCaxRrA\n",
       "wPMJpEoXxARqwaqK/x9EFfcEBmaQKl4DbKrYDzCw/QOqCps5dxlYIAlZFTNQ1XugKxkFIOHl////\n",
       "N7DkqxMP4Kp4l3+5yMCWB+T03j0BCQkY6DyGiCEw0IPJzMBMXghVE4hRxWdAjCpGBnyqmFPQEq9J\n",
       "BgB1mllGomsgdAAAAABJRU5ErkJggg==\n",
       "\" style=\"display:inline;vertical-align:middle;\" /></a> <a class=\"ProveItLink\" href=\"../__pv_it/demonstrations/2cb49dc2bcbe26549a600fd918610ffdd59a4c170/proof.ipynb\" style=\"text-decoration: none\">&nbsp;&#x22A2;&nbsp;&nbsp;</a><a class=\"ProveItLink\" href=\"../__pv_it/demonstrations/b11f5a8f29a9c8de32a487181b2c9b63e96a05d50/expr.ipynb\"><img src=\"data:image/png;base64,iVBORw0KGgoAAAANSUhEUgAAADIAAAAPBAMAAABU9YHxAAAAMFBMVEX///+YmJiqqqqIiIgyMjLc\n",
       "3NwiIiIQEBC6urp2dnZUVFTMzMxERERmZmbu7u4AAADrYmUNAAAAAXRSTlMAQObYZgAAANVJREFU\n",
       "GNNj4Lt7ZgMDMmBMP/PF/SCQ8YqB8weKDAML3wLug+cYGO4xMJSjyvCwTmA4EMXAUMbAsD4ALCKT\n",
       "luYAk7nKwsDg/4BhPdiiPXZIeq7ygJn5D4AEnx+yaQu6QCyOnyCSKwBJhikXrI5tAZiP5IKyNCcw\n",
       "6y6Y3O4CBFAXzLhwDsRgvgCWiUF29Y09IIYuAyvICnZkGZ6HBgwM3BMYmEEyvAZIMtwLbjMwhM2c\n",
       "uwwskIQUOgyTuDYw+P///w0s8OrEA3iIbuA58gkpvDqPQUIHCgBnrj0uOO3EnwAAAABJRU5ErkJg\n",
       "gg==\n",
       "\" style=\"display:inline;vertical-align:middle;\" /></a></span>"
      ],
      "text/plain": [
       "{2 in [1,3]} |- 2 in Real"
      ]
     },
     "execution_count": 67,
     "metadata": {},
     "output_type": "execute_result"
    }
   ],
   "source": [
    "# Element in an Closed Interval [1,3)\n",
    "IntervalCC(one, three).deduce_member_in_real(\n",
    "        two, assumptions=[InSet(two, IntervalCC(one, three))])"
   ]
  },
  {
   "cell_type": "code",
   "execution_count": 68,
   "metadata": {},
   "outputs": [
    {
     "data": {
      "text/html": [
       "<span style=\"font-size:20px;\"><a class=\"ProveItLink\" href=\"../__pv_it/demonstrations/f3475b14df68597836864bf678fc7b24471fc5600/expr.ipynb\"><img src=\"data:image/png;base64,iVBORw0KGgoAAAANSUhEUgAAAEkAAAAUBAMAAAAzTQ3GAAAAMFBMVEX///+6urqYmJgQEBDu7u5m\n",
       "ZmZUVFQyMjJERESqqqoiIiLc3NzMzMyIiIh2dnYAAABqS+z4AAAAAXRSTlMAQObYZgAAAQFJREFU\n",
       "KM9jYMAA12tQ+UxVApiKGB4isbnfvZjAwIdL1WQHCHsrA+cnXKpY8vKhqu5PYPiFqkpj1aoCmFn6\n",
       "UFXCAgzfUVSduIJkI0wVA9zGt3cPAEmWEgasqrwegFXtmsABsohtA1ZV+5Y6gFWtY2CbAORyMGA3\n",
       "i9cQpIr1C4R3uBwICjBVMRg7AFUxN0A4O7CatZuBoX8CUJX/AwifGauq/w4QVfwKDAwgd7FewKbK\n",
       "goFhPchG1gQGV1BIMKxEVnXfgYHlO5BWgoXXOyWIKW6NDnBVYfalCgyrgHzG0AgB1BiS60LEEDjU\n",
       "Yf7kw5dy+BiIUeVLlCoFvKpuoaVo3ioBALd/TPIKl6e9AAAAAElFTkSuQmCC\n",
       "\" style=\"display:inline;vertical-align:middle;\" /></a> <a class=\"ProveItLink\" href=\"../__pv_it/demonstrations/5ea94bdffbc2b3b1cc0586eb58edfcd3e60044680/proof.ipynb\" style=\"text-decoration: none\">&nbsp;&#x22A2;&nbsp;&nbsp;</a><a class=\"ProveItLink\" href=\"../__pv_it/demonstrations/e9640e313437969d69581c7199d777452724afa90/expr.ipynb\"><img src=\"data:image/png;base64,iVBORw0KGgoAAAANSUhEUgAAADEAAAAPBAMAAAC/wjryAAAAMFBMVEX///+6urqYmJgQEBDu7u5m\n",
       "ZmZUVFQyMjJERESqqqoiIiLc3NzMzMyIiIh2dnYAAABqS+z4AAAAAXRSTlMAQObYZgAAALpJREFU\n",
       "GNNjYEAHWhb95RYKDNhAgRvDCQ0HbDIN+xg4uBOQRTRWrSqAyrBuKECSOHEFoYd1QwOI9fbuASDJ\n",
       "UoJkGhsjyLRdEzhAWtk2IMnMCge5YB0D2wQgxYFwweZVy0EirF8g/MPlQAB1gSgHSAtzA0RmB5Kr\n",
       "WWVAgv4PIHxmZP+06AJpfmBAgE29gCRzjBXoXNYEBleQqxlWIoUO34QcIOOdEkS1W6MDLERrGDrq\n",
       "JyAFglzXKuQwAQDAXjdf5nEJUwAAAABJRU5ErkJggg==\n",
       "\" style=\"display:inline;vertical-align:middle;\" /></a></span>"
      ],
      "text/plain": [
       "{c in [1,3]} |- c in Real"
      ]
     },
     "execution_count": 68,
     "metadata": {},
     "output_type": "execute_result"
    }
   ],
   "source": [
    "# Variable Element in an Closed Interval [1,3)\n",
    "IntervalCC(one, three).deduce_member_in_real(\n",
    "        c, assumptions=[InSet(c, IntervalCC(one, three))])"
   ]
  },
  {
   "cell_type": "markdown",
   "metadata": {},
   "source": [
    "### Testing the `Interval.deduce_elem_in_set()` methods"
   ]
  },
  {
   "cell_type": "code",
   "execution_count": 69,
   "metadata": {},
   "outputs": [
    {
     "data": {
      "text/html": [
       "<span style=\"font-size:20px;\"> <a class=\"ProveItLink\" href=\"../__pv_it/demonstrations/bb050456bf28002c8ef36b06ca6157b2d946a1c10/proof.ipynb\" style=\"text-decoration: none\">&nbsp;&#x22A2;&nbsp;&nbsp;</a><a class=\"ProveItLink\" href=\"../__pv_it/demonstrations/31edb4d0443117edb776c7250052860bcf045e480/expr.ipynb\"><img src=\"data:image/png;base64,iVBORw0KGgoAAAANSUhEUgAAAE4AAAAUBAMAAADRkRa/AAAAMFBMVEX///+YmJiqqqqIiIgyMjLc\n",
       "3NwiIiIQEBC6urp2dnZUVFTMzMxERERmZmbu7u4AAADrYmUNAAAAAXRSTlMAQObYZgAAAWJJREFU\n",
       "KM9jYMACAtH4TAEMDHx3z2xAE+Y7gMSJnHmIgWEpA8MrBs4faOpYgNqZ6iBs1gsM+gIMTxgY7jEw\n",
       "lKOpkwXqnvUPwmb+xMCfwMBpwFDGwLA+ACwkk5bmAGakAjEjVB1HBQO/AwNfAYP/A4b1YAfusYMa\n",
       "x5qApA4IgPYyeIAY+Q9AjveDiTNfQFHHlwkk5oKM/gnicgXAJHgEkNWxTgP6gEEEiNkWgGXh9rAp\n",
       "oNpr3sDAoAak74J5212AAOwP9gZUdezAINoPdQ4DQwxCHFkdawADzyewOl0QGyiL3V7+f2B1bQzc\n",
       "ExiYQep4DbD6g/0AA9s/kD/CZs5dBhZJgqnjBDmEGSj5HuhcRgFw+N1k8P///xtY+tWJB9AoAIYz\n",
       "7/IvFxnY8oC83rsngKQ3UrR2HkOKNzDQg4d1ArbkJwtjTIA7xQCbOh5o1PDBZZ9gUwZPp4xwkaNY\n",
       "1WGke8YABgDzK1NZD99f4gAAAABJRU5ErkJggg==\n",
       "\" style=\"display:inline;vertical-align:middle;\" /></a></span>"
      ],
      "text/plain": [
       "|- 2 in (1,3)"
      ]
     },
     "execution_count": 69,
     "metadata": {},
     "output_type": "execute_result"
    }
   ],
   "source": [
    "# Element in an Open Interval (1,3)\n",
    "IntervalOO(one, three).deduce_elem_in_set(two)"
   ]
  },
  {
   "cell_type": "code",
   "execution_count": 70,
   "metadata": {},
   "outputs": [
    {
     "name": "stdout",
     "output_type": "stream",
     "text": [
      "Proof failure: Proof step failed:\n",
      "Attempting to instantiate |- forall_{a, b, x in Real | a < x, x < b} (x in (a,b)) with {a: 1, b: 3, x: 1}:\n",
      "Unsatisfied condition: 1 < 1\n"
     ]
    }
   ],
   "source": [
    "# but this should NOT work for a discluded endpoint\n",
    "try:\n",
    "    IntervalOO(one, three).deduce_elem_in_set(one)\n",
    "except ProofFailure as e:\n",
    "    print(\"Proof failure: {}\".format(e))"
   ]
  },
  {
   "cell_type": "code",
   "execution_count": 71,
   "metadata": {},
   "outputs": [
    {
     "data": {
      "text/html": [
       "<span style=\"font-size:20px;\"> <a class=\"ProveItLink\" href=\"../__pv_it/demonstrations/19383ae5c081c6cb4d4522adee371f99335d1f240/proof.ipynb\" style=\"text-decoration: none\">&nbsp;&#x22A2;&nbsp;&nbsp;</a><a class=\"ProveItLink\" href=\"../__pv_it/demonstrations/9a5ee4e79751dfaefbcda49e06371439f10b0da60/expr.ipynb\"><img src=\"data:image/png;base64,iVBORw0KGgoAAAANSUhEUgAAAE0AAAAUBAMAAAA6pq28AAAAMFBMVEX///9UVFTMzMzu7u4yMjIQ\n",
       "EBC6uroiIiKIiIiYmJhmZmaqqqpERER2dnbc3NwAAACDMjhQAAAAAXRSTlMAQObYZgAAAS9JREFU\n",
       "KM9jYMAC+Cag8jndExgY3t49ja7OBoXHtICBN4GBbwHDfjTtDH5AvNUAxmMXAKnj+M3AX4BmzQIG\n",
       "Zll5uLpWsDq2MAZ+B4j08fISiAEPgMR8mDq+KWB1QACxl+kETOY5A7I6XhaoOuZaMN8EblEXirp5\n",
       "UHV81xeD+XJw951EVsfcADOPoRVMHoCrq0ZWx8sAV8caDHJeiAsQgKXCkNVtgqrje8DA8xvkLYR5\n",
       "yOqYL0DV8X+GqGMIwGovt9Sq9VENQHWsBxjYP4NEVmD3B9BZYPM4J0DDj30DTOIWiOg3YGD+AlF3\n",
       "AOyPrFXHIC6RSYaqSwfihfFeExjKQWbynv84AeJfKGC7gxxvYMfB4yQBW/IDpgNY2OFVx3AOSlsQ\n",
       "UAdLpxMIqENP9xzuCQDslUyE+MEP2gAAAABJRU5ErkJggg==\n",
       "\" style=\"display:inline;vertical-align:middle;\" /></a></span>"
      ],
      "text/plain": [
       "|- 3 in (1,4]"
      ]
     },
     "execution_count": 71,
     "metadata": {},
     "output_type": "execute_result"
    }
   ],
   "source": [
    "# Element in Half-Open Interval (1,4]\n",
    "IntervalOC(one, four).deduce_elem_in_set(three)"
   ]
  },
  {
   "cell_type": "code",
   "execution_count": 72,
   "metadata": {},
   "outputs": [
    {
     "data": {
      "text/html": [
       "<span style=\"font-size:20px;\"> <a class=\"ProveItLink\" href=\"../__pv_it/demonstrations/d65c6f95683f64bc6c994dbc8c85fbd74d6c777a0/proof.ipynb\" style=\"text-decoration: none\">&nbsp;&#x22A2;&nbsp;&nbsp;</a><a class=\"ProveItLink\" href=\"../__pv_it/demonstrations/938366a68adb0a085079ea578a8b325e3495e2630/expr.ipynb\"><img src=\"data:image/png;base64,iVBORw0KGgoAAAANSUhEUgAAAE0AAAAUBAMAAAA6pq28AAAAMFBMVEX///+6urpERESqqqru7u52\n",
       "dnYyMjKYmJjc3NwQEBCIiIhUVFQiIiJmZmbMzMwAAABIfTqqAAAAAXRSTlMAQObYZgAAAR1JREFU\n",
       "KM9jYMACOApQ+ew5AiDqLbo6JxQe3wUGVrC60+jqMoDY0gHG49kAUcc1G00Z+wUGlq374epWQtW1\n",
       "Z0Oldc4cgxjQACTqYeo4yqDqAiDq+LRgMj0MyOpY2SDq2Bsg6tzgFq1FUVcBVefFAFG3A+4+dWR1\n",
       "LAug6gKg6hTg6g4jq2NlgKhjfgBRxzctDQjAUhOR1dlB1bkyQNRxIMxDVscSAFVnfffuz1sgkQlY\n",
       "7WXee/f+3AWQ+ICE8y3s/mBg4ISGH8MkSOgawCRiQcR6BwaWbxB1ChB1Qf+3g12ySQSqTgaIb8/P\n",
       "LWA4AzKTVf93AcQ8KGAMQo43sOPgcSKALfkB0wEs7PCqY9CA0l4E1MHSaQEBdejpnitHAAAHE0U+\n",
       "HDxqPAAAAABJRU5ErkJggg==\n",
       "\" style=\"display:inline;vertical-align:middle;\" /></a></span>"
      ],
      "text/plain": [
       "|- 4 in (1,4]"
      ]
     },
     "execution_count": 72,
     "metadata": {},
     "output_type": "execute_result"
    }
   ],
   "source": [
    "# this should also work for the included (right) endpoint as well\n",
    "IntervalOC(one, four).deduce_elem_in_set(four)"
   ]
  },
  {
   "cell_type": "code",
   "execution_count": 73,
   "metadata": {},
   "outputs": [
    {
     "name": "stdout",
     "output_type": "stream",
     "text": [
      "Proof failure: Proof step failed:\n",
      "Attempting to instantiate |- forall_{a, b, x in Real | a < x, x <= b} (x in (a,b]) with {a: 1, b: 4, x: 1}:\n",
      "Unsatisfied condition: 1 < 1\n"
     ]
    }
   ],
   "source": [
    "# but this should NOT work for the discluded (left) endpoint\n",
    "try:\n",
    "    IntervalOC(one, four).deduce_elem_in_set(one)\n",
    "except ProofFailure as e:\n",
    "    print(\"Proof failure: {}\".format(e))"
   ]
  },
  {
   "cell_type": "code",
   "execution_count": 74,
   "metadata": {},
   "outputs": [
    {
     "data": {
      "text/html": [
       "<span style=\"font-size:20px;\"> <a class=\"ProveItLink\" href=\"../__pv_it/demonstrations/40f2ae37a0d171e804699aa10d44fc6fdcde350d0/proof.ipynb\" style=\"text-decoration: none\">&nbsp;&#x22A2;&nbsp;&nbsp;</a><a class=\"ProveItLink\" href=\"../__pv_it/demonstrations/8be83d9bf7847201bfb34bef8e521d0bf28516820/expr.ipynb\"><img src=\"data:image/png;base64,iVBORw0KGgoAAAANSUhEUgAAAE0AAAAUBAMAAAA6pq28AAAAMFBMVEX///9UVFTMzMzu7u4yMjIQ\n",
       "EBC6uroiIiKIiIiYmJhmZmaqqqpERER2dnbc3NwAAACDMjhQAAAAAXRSTlMAQObYZgAAAWJJREFU\n",
       "KM99krtLw1AUxj/zjm2aboKI7Z8QQXG0iLuCL3AS3JwKCk5iBotrB+cS6CJZFLs5aCcVFMykRSxk\n",
       "cxKUgg5F6n0lTWPpGS7nfPnd87oB/tvxYkq4psdH+yElP0P2H4tRJHkYC4Gch5tqmpuB9R1Feh5y\n",
       "CTC6sMtprg6sR1ElD7QAbQN2iQnm3cG+4DaBQsix3Cnh5pjL60r3Tpxv2UFBNGgphFO2iScfMmHW\n",
       "6dcldiTCGuUsjyR+qTNhGklO++W+7FLOZJ1VaFY0BzgyJS8LymXYpOoqbW9tiVjM+eLOJeOkT+RC\n",
       "ZLt0roF8hifKBhFndziHlSR3Re8Ty0z651sutDLUJvQOlc4SnBTAEPuDyucwq2J/+kWfe2+/TmCB\n",
       "r58kwngA7Pq3vJWpnf6ee70f6Hts4KevKpRi4lm1t/jduDXiT/MYZhEXxEprFCe7kSCXRnFmLGTD\n",
       "odxJ+r+vAX8r6lr2JUBwFgAAAABJRU5ErkJggg==\n",
       "\" style=\"display:inline;vertical-align:middle;\" /></a></span>"
      ],
      "text/plain": [
       "|- 3 in [2,4)"
      ]
     },
     "execution_count": 74,
     "metadata": {},
     "output_type": "execute_result"
    }
   ],
   "source": [
    "# Element in Half-Open Interval [2,4)\n",
    "IntervalCO(two, four).deduce_elem_in_set(three)"
   ]
  },
  {
   "cell_type": "code",
   "execution_count": 75,
   "metadata": {},
   "outputs": [
    {
     "data": {
      "text/html": [
       "<span style=\"font-size:20px;\"> <a class=\"ProveItLink\" href=\"../__pv_it/demonstrations/c881ebcb340129171fcc0fc4a975b0b71cd519820/proof.ipynb\" style=\"text-decoration: none\">&nbsp;&#x22A2;&nbsp;&nbsp;</a><a class=\"ProveItLink\" href=\"../__pv_it/demonstrations/3082d9ad121ff99c1cd0fe84f904026f8abc001d0/expr.ipynb\"><img src=\"data:image/png;base64,iVBORw0KGgoAAAANSUhEUgAAAEwAAAAUBAMAAADVZMaCAAAAMFBMVEX///+YmJiqqqqIiIgyMjLc\n",
       "3NwiIiIQEBC6urp2dnZUVFTMzMxERERmZmbu7u4AAADrYmUNAAAAAXRSTlMAQObYZgAAAWFJREFU\n",
       "KM99kj1Iw0AYht821phogoOjs4MgdHFUOnQQBRsHnRyCSMAudlIoDp0EJ7MWLNZB13YrguKkCDoU\n",
       "nBQjgXax4OYvQuPdJXdNUmngwj1vnly+73JA3yVl69EgaQC6cx9LlRLenu8EXgKnQAfKd1zTqzgu\n",
       "ccwDbeAF2I1rmgu5wEsokiSNHaBmsGDSsjK+JptQPwJtZZEUVkDORY0VdzEvVhvqQv0NyCYaFuhs\n",
       "2yU3fTnUAjDc9SFhUK1CxsgPZdWIaIe2Dy1QbYK+WKU8hoiW599k2hQZDuNGllwZrmnNYGfrTLsi\n",
       "HfvJemS1uWD+Cq7NIEXLksNasolVNp92nK8HYB+jNiSqaemQdg7MciyyFtbKlTOGGz0ttVV+MvV3\n",
       "H/fIeETO8z4Zdm5dsb2e55mwGB95J8BS6F8e3FiiU9aly5/oZv9xE5rSS9IDtJZI2higjYvk+j9N\n",
       "2owd54SBP5Y8XGjc81HTAAAAAElFTkSuQmCC\n",
       "\" style=\"display:inline;vertical-align:middle;\" /></a></span>"
      ],
      "text/plain": [
       "|- 2 in [2,4)"
      ]
     },
     "execution_count": 75,
     "metadata": {},
     "output_type": "execute_result"
    }
   ],
   "source": [
    "# this should also work for the included (left) endpoint as well\n",
    "IntervalCO(two, four).deduce_elem_in_set(two)"
   ]
  },
  {
   "cell_type": "code",
   "execution_count": 76,
   "metadata": {},
   "outputs": [
    {
     "name": "stdout",
     "output_type": "stream",
     "text": [
      "Proof failure: Proof step failed:\n",
      "Attempting to instantiate |- forall_{a, b, x in Real | a <= x, x < b} (x in [a,b)) with {a: 2, b: 4, x: 4}:\n",
      "Unsatisfied condition: 4 < 4\n"
     ]
    }
   ],
   "source": [
    "# but this should NOT work for the discluded (right) endpoint\n",
    "try:\n",
    "    IntervalCO(two, four).deduce_elem_in_set(four)\n",
    "except ProofFailure as e:\n",
    "    print(\"Proof failure: {}\".format(e))"
   ]
  },
  {
   "cell_type": "code",
   "execution_count": 77,
   "metadata": {},
   "outputs": [
    {
     "data": {
      "text/html": [
       "<span style=\"font-size:20px;\"> <a class=\"ProveItLink\" href=\"../__pv_it/demonstrations/67705403f92c86133b9dda99b4096d70066196cd0/proof.ipynb\" style=\"text-decoration: none\">&nbsp;&#x22A2;&nbsp;&nbsp;</a><a class=\"ProveItLink\" href=\"../__pv_it/demonstrations/73e015d9da264c6efdfcec44ceeae0fbe6ef82550/expr.ipynb\"><img src=\"data:image/png;base64,iVBORw0KGgoAAAANSUhEUgAAAEoAAAAUBAMAAADYerbFAAAAMFBMVEX///+YmJiqqqqIiIgyMjLc\n",
       "3NwiIiIQEBC6urp2dnZUVFTMzMxERERmZmbu7u4AAADrYmUNAAAAAXRSTlMAQObYZgAAASNJREFU\n",
       "KM9jYMAAzC4bUAVEMhj47p5BE+RsQOJEzjzEwDCD4RUD5w9MVUx1EDbrBQZ9AaCqewwM5RiqXs36\n",
       "B7X9EwN/AlBVGQPD+gCwiExamgPMLEaoKo4KBn4HoCr/BwzrwQ7bY4dkI0wVEIBtBIL8B0CCz48B\n",
       "qyq+TAawKo6fIB5XAFZVrNPuQVSxLQBxeRiwm8Vg3gBWdRfM2e4CBA5YVLHXgVQxXwBzYrCaxRrA\n",
       "wPMJpEoXxARqwaqK/x9EFfcEBmaQKl4DbKrYDzCw/QOqCps5dxlYIAlZFTNQ1XugKxkFIOHl////\n",
       "N7DkqxMP4Kp4l3+5yMCWB+T03j0BCQkY6DyGiCEw0IPJzMBMXghVE4hRxWdAjCpGBnyqmFPQEq9J\n",
       "BgB1mllGomsgdAAAAABJRU5ErkJggg==\n",
       "\" style=\"display:inline;vertical-align:middle;\" /></a></span>"
      ],
      "text/plain": [
       "|- 2 in [1,3]"
      ]
     },
     "execution_count": 77,
     "metadata": {},
     "output_type": "execute_result"
    }
   ],
   "source": [
    "# Element in a Closed Interval [1,3]\n",
    "IntervalCC(one, three).deduce_elem_in_set(two)"
   ]
  },
  {
   "cell_type": "code",
   "execution_count": 78,
   "metadata": {},
   "outputs": [
    {
     "data": {
      "text/html": [
       "<span style=\"font-size:20px;\"> <a class=\"ProveItLink\" href=\"../__pv_it/demonstrations/403b9f0fa2251fd70121642ee214b61007e579580/proof.ipynb\" style=\"text-decoration: none\">&nbsp;&#x22A2;&nbsp;&nbsp;</a><a class=\"ProveItLink\" href=\"../__pv_it/demonstrations/6080336901560f6748420d2bd341228d94ee2b260/expr.ipynb\"><img src=\"data:image/png;base64,iVBORw0KGgoAAAANSUhEUgAAAEoAAAAUBAMAAADYerbFAAAAMFBMVEX///+6urrc3NzMzMwiIiJE\n",
       "REQyMjJmZmaIiIiYmJh2dnZUVFTu7u4QEBCqqqoAAABhZHJKAAAAAXRSTlMAQObYZgAAAOlJREFU\n",
       "KM9jYMAAHGkGqALTHDEVMXAJIHG0VsUxMCxkYOC7g0UVTJCpgOH9BKCq06v/YKqCC3L8Y+B3AJnF\n",
       "CVM11cUlAWYWTJDxIgN/ArIq0x4kGzkRFoBthAnw5DBgVcXjxYCkilsBqyqmJTXIqlgZsJvF0CuA\n",
       "pMo2DQgSsKjivYOkShWrWUwKDKz/kFTxYlXF/wdVFXsDNlW8AQwsf0CqOKACfsiqQILnga7knAAJ\n",
       "L/a93yrBkqcDD8BVgQVZfIAc8fJAcEjAgVQIIobA4A1MZiG+lLOAGFU8DcSo4mTAp4rDDS1FtzkC\n",
       "AHnwTc5eZzhCAAAAAElFTkSuQmCC\n",
       "\" style=\"display:inline;vertical-align:middle;\" /></a></span>"
      ],
      "text/plain": [
       "|- 1 in [1,3]"
      ]
     },
     "execution_count": 78,
     "metadata": {},
     "output_type": "execute_result"
    }
   ],
   "source": [
    "# this should also work for the included left endpoint\n",
    "IntervalCC(one, three).deduce_elem_in_set(one)"
   ]
  },
  {
   "cell_type": "code",
   "execution_count": 79,
   "metadata": {},
   "outputs": [
    {
     "data": {
      "text/html": [
       "<span style=\"font-size:20px;\"> <a class=\"ProveItLink\" href=\"../__pv_it/demonstrations/ddd0d7b7a625762a0fdeb97c2f256db0ad32cc260/proof.ipynb\" style=\"text-decoration: none\">&nbsp;&#x22A2;&nbsp;&nbsp;</a><a class=\"ProveItLink\" href=\"../__pv_it/demonstrations/4da7f55e5e091a4c1a0729521cf0ad5cc76a74cc0/expr.ipynb\"><img src=\"data:image/png;base64,iVBORw0KGgoAAAANSUhEUgAAAEsAAAAUBAMAAAA3uN37AAAAMFBMVEX///9UVFTMzMzu7u4yMjIQ\n",
       "EBC6uroiIiKIiIiYmJhmZmaqqqpERER2dnbc3NwAAACDMjhQAAAAAXRSTlMAQObYZgAAASBJREFU\n",
       "KM9jYMAELU6ofE73BAaGt3dPoym7hsTmu3tnAwNvAgPfAob9EzCVbTWAsF8xcP8EKeP4zcBfgK6M\n",
       "WVYeqqx/A8N3kDK2MAZ+B4gTjpeXwE2bD1WWmsDwBaQMCCCWMp0wQLIUpowBaikDA3MtmGtiwIBV\n",
       "mfkFsDK+64vBXDkGrMreVhlALW0FkwewK2PgCIMqYw0GOS3EBQiwKGMINQCF2wMGnt+gcMRu2jsG\n",
       "hvMbgMr4P0OUMQRgVfbfAKKM9QAD+2eQwAqsymIYGOpBlnJOgIYb+wZkZf0GDMxfgPRMWLhlrToG\n",
       "lmSWSUYoWxjvNYGhHGgi26o1CVCfQgHbHaTIAoc/zLcoyjASEi8DUcosiFM2Ab+ydrREzuGeAAD9\n",
       "O1zavDNXSAAAAABJRU5ErkJggg==\n",
       "\" style=\"display:inline;vertical-align:middle;\" /></a></span>"
      ],
      "text/plain": [
       "|- 3 in [1,3]"
      ]
     },
     "execution_count": 79,
     "metadata": {},
     "output_type": "execute_result"
    }
   ],
   "source": [
    "# this should also work for the included right endpoint\n",
    "IntervalCC(one, three).deduce_elem_in_set(three)"
   ]
  },
  {
   "cell_type": "code",
   "execution_count": 80,
   "metadata": {},
   "outputs": [
    {
     "name": "stdout",
     "output_type": "stream",
     "text": [
      "Proof failure: Proof step failed:\n",
      "Attempting to instantiate |- forall_{a, b, x in Real | a <= x, x <= b} (x in [a,b]) with {a: 1, b: 3, x: 4}:\n",
      "Unsatisfied condition: 4 <= 3\n"
     ]
    }
   ],
   "source": [
    "# but this should NOT work for a value outside the interval\n",
    "try:\n",
    "    IntervalCC(one, three).deduce_elem_in_set(four)\n",
    "except ProofFailure as e:\n",
    "    print(\"Proof failure: {}\".format(e))"
   ]
  },
  {
   "cell_type": "markdown",
   "metadata": {},
   "source": [
    "### Testing the `Interval.deduce_rescaled_membership()` methods (testing the Scaling of Elements of Intervals To Scaled Intervals)"
   ]
  },
  {
   "cell_type": "code",
   "execution_count": 81,
   "metadata": {},
   "outputs": [
    {
     "data": {
      "text/html": [
       "<span style=\"font-size:20px;\"><a class=\"ProveItLink\" href=\"../__pv_it/demonstrations/beb80a7d0a05fcba43d4322e69fa9c11d6980e080/expr.ipynb\"><img src=\"data:image/png;base64,iVBORw0KGgoAAAANSUhEUgAAAE4AAAAUBAMAAADRkRa/AAAAMFBMVEX///+YmJiqqqqIiIgyMjLc\n",
       "3NwiIiIQEBC6urp2dnZUVFTMzMxERERmZmbu7u4AAADrYmUNAAAAAXRSTlMAQObYZgAAAVVJREFU\n",
       "KM9jYMACAtH4TAEMDHx3z2xAE+Y7gMLdy8CwlIHhFQPnDzR1LEDtTHVwbhYDwxMGhnsMDOVo6mSB\n",
       "umf9g/GYqxgYOA0YyhgY1geABWTS0hzAjFQgZoSrC/QCuqSAwf8Bw3qwA/fYQSVYE1DUTQCqY/AA\n",
       "sfIfgBzvB7foArI6xgCQurlAzPETxOcKgKnjEUBW95gBpE4EiNkWgGXh3mBTQFY3AaxODYjvgvnb\n",
       "XYAA7A/2BiR1TBvA6vZDncPAEAM3D0XdSwaYOl0GVpDT2LHbq3X37vfLDAxtDNwTGJhB6ngNsPuD\n",
       "gaEK7I+wmXOXgblJMHFOkEOYgereQ4K9BohvMvj///8NzH114gFEHQcwnHmXf7nIwJYH4s75v5CB\n",
       "wRspWjuPIcUbGOjBU1ACtuQnC48yuFMMsKnjgUYNH1z2CTZl8HTKCBc5ilUdRrpnDGAAAFvyUhIb\n",
       "uo9PAAAAAElFTkSuQmCC\n",
       "\" style=\"display:inline;vertical-align:middle;\" /></a> <a class=\"ProveItLink\" href=\"../__pv_it/demonstrations/1bb190e444ac9b00f6b9b06f9d8c1432228943c10/proof.ipynb\" style=\"text-decoration: none\">&nbsp;&#x22A2;&nbsp;&nbsp;</a><a class=\"ProveItLink\" href=\"../__pv_it/demonstrations/4ef6c493682ae6b893e35efce29bceb677c99bfd0/expr.ipynb\"><img src=\"data:image/png;base64,iVBORw0KGgoAAAANSUhEUgAAAKkAAAAUBAMAAAAErwC3AAAAMFBMVEX///9UVFTMzMx2dna6uroQ\n",
       "EBCqqqqIiIgiIiJmZmYyMjJERETu7u6YmJjc3NwAAAC+aOQFAAAAAXRSTlMAQObYZgAAAjBJREFU\n",
       "OMullT9oFEEUxr9zc5fL3eY4sNHqAmJlc5BCUhmwsdNCwVSKYGEj11gERC8I4SrdlIeCaRUxQSwE\n",
       "0WwKUUnhtirELQOiqEkhElzfvJm3f2ZGEHzN3b5vf9/Oe292FugkcOKqm/qCfw2Gt4C3d5/kuXD8\n",
       "fAa11L41XNeKG2UYOBBp+DHCLk7MS3oTwR7CVZttpVrJ43JsHleGgWaX4ekIUzHqZyR9DzgHHLdd\n",
       "34tivA72jGsFBq51GW6mqA9R+y3p80AvxStz9XE00su+LYrEJ+NagdH5QK4E71B1+6j9kPxajN4M\n",
       "WrqoY9fl7qEotmsFRtAiV4IXdTv2S9XeiRFEXOcjSU1GotiuVXhbuRL8gq9O9wvTiV3qNtddbIV2\n",
       "IorHtYDDgXIleJkvlziXjxGNIXsVy7koChDbrgUcoKXhszxILvCdHsxYbbtv6t/RhxScrM+LgvCX\n",
       "5VqCL7Erwey6iGIp3ELt+jlfDrua5i5ZrgUc9sVVdaAR4WtucAWdFBPcgXq1A6w4fS3BjcPj+wsD\n",
       "BatpHQFu5K9cH5OpmdbUoDwtrTiuZZgWoqc1R5vx1uzKUNI7s3OHyE+PdTnfh5EoEjdj3eEKTK7r\n",
       "DJ+iXZtlWS6sZdlPSuntvvnUrEh1RCsmVi48SDCKLRjBxvdEwc3Ud5q9Mb8nnxVvrBuNGH+BpyOf\n",
       "4Dtd3Aj8B6yCX3ry7knY9pX02mvK8JZHaPtObTcSryvDvi/M9v98YQj+A7wYsXUOB33gAAAAAElF\n",
       "TkSuQmCC\n",
       "\" style=\"display:inline;vertical-align:middle;\" /></a></span>"
      ],
      "text/plain": [
       "{2 in (1,4)} |- (2 * 2) in (2 * 1,2 * 4)"
      ]
     },
     "execution_count": 81,
     "metadata": {},
     "output_type": "execute_result"
    }
   ],
   "source": [
    "# Element in an Open Interval (1,3)\n",
    "IntervalOO(one, four).deduce_rescaled_membership(two, two,\n",
    "        assumptions=[InSet(two, IntervalOO(one, four))])"
   ]
  },
  {
   "cell_type": "code",
   "execution_count": 82,
   "metadata": {},
   "outputs": [
    {
     "data": {
      "text/html": [
       "<span style=\"font-size:20px;\"> <a class=\"ProveItLink\" href=\"../__pv_it/demonstrations/3927d1b15540376b5d9930ef44cb9612d377111c0/proof.ipynb\" style=\"text-decoration: none\">&nbsp;&#x22A2;&nbsp;&nbsp;</a><a class=\"ProveItLink\" href=\"../__pv_it/demonstrations/853527a06dce68108b862de64ea6d836fddb13920/expr.ipynb\"><img src=\"data:image/png;base64,iVBORw0KGgoAAAANSUhEUgAAAKcAAAAUBAMAAAAaZjAEAAAAMFBMVEX////MzMxUVFR2dna6uroQ\n",
       "EBCqqqqIiIgiIiJmZmYyMjJERETu7u6YmJjc3NwAAACgK8IjAAAAAXRSTlMAQObYZgAAAjpJREFU\n",
       "OMulVTFoFEEUffHusuft5u4aqzSBNHYXuMIEmwURtE9AMGAaizRqYxEQIgrh0sQj3ZEUKaOISRFE\n",
       "EHUQxECKXCsSXUgTEYOgBAmRy58/s7szu3MQyIfb3Xn73rv/Z/7MAtUucnEvD/3CGWNoPQR2gP3m\n",
       "6wQLOm/ruBBlqcEmqs2rMw4TU8yUApm+QrWN+0m6H1H4i2AtK61E+IHB/ylwV2gfU8wUMh1qwztC\n",
       "7XGMrwJTwJWs6Rdgfgb/ksRHG9rUEjOFTMsRipOoJandAhoRPunR11ZLvVkCroc4Tv/luza1xEwh\n",
       "0wMepRVsCDTqqIQ8GH4UTxYnY5Yfm1pi6PLnuJqnZqnPBApthl/GkMfj7TGXqSUmCpm+k3mMrxp4\n",
       "8Q/1BVeUNoEvk9lfFA5TSywpZLrAg4ey3EC9KI9QFVyun5DL3EzepLyKbPmmmChkyjyUpumyqya8\n",
       "Q7+B3/Lp0gsKBktqjqfIKTjOmppioijTagT/SKeop0+Z/kx1ZHoIfJAJP7FMLTFTVPm1E4WrmJW8\n",
       "IpdfssrvCWVqz6klZopaqNImyicxPjAGL9ILdfGBuVC3uS+yppaYKWQ6QUvdNVrtoDlxmexU8yzE\n",
       "qGyxPatP54WaXUu8p/v0Bj3f7Gwl5I1ejzZjpa4Ogq1439B0FDsrYUJbvvO8i5bIiJmitqkjtvX9\n",
       "2pt0m+ZjULhQdaA4wnWgOOToY4r3Djx/9Pmugj73Nd1x4L7rkM5Ht6+p63Py7RyfE289PAWU+L4y\n",
       "QuOJrgAAAABJRU5ErkJggg==\n",
       "\" style=\"display:inline;vertical-align:middle;\" /></a></span>"
      ],
      "text/plain": [
       "|- (3 * 2) in (3 * 1,3 * 3]"
      ]
     },
     "execution_count": 82,
     "metadata": {},
     "output_type": "execute_result"
    }
   ],
   "source": [
    "# Element in an Half-Open Interval (1,3]\n",
    "IntervalOC(one, three).deduce_rescaled_membership(two, three)"
   ]
  },
  {
   "cell_type": "code",
   "execution_count": 83,
   "metadata": {},
   "outputs": [
    {
     "data": {
      "text/html": [
       "<span style=\"font-size:20px;\"> <a class=\"ProveItLink\" href=\"../__pv_it/demonstrations/942ead44ee5219ed6d8a93fb49bf5759282856e10/proof.ipynb\" style=\"text-decoration: none\">&nbsp;&#x22A2;&nbsp;&nbsp;</a><a class=\"ProveItLink\" href=\"../__pv_it/demonstrations/72fb5264d8f810d17de43deab7b98e6578654fbc0/expr.ipynb\"><img src=\"data:image/png;base64,iVBORw0KGgoAAAANSUhEUgAAAKcAAAAUBAMAAAAaZjAEAAAAMFBMVEX////MzMxUVFR2dna6uroQ\n",
       "EBCqqqqIiIgiIiJmZmYyMjJERETu7u6YmJjc3NwAAACgK8IjAAAAAXRSTlMAQObYZgAAAi9JREFU\n",
       "OMuNlTFIW0EYx/82iUlNTLJ0chG6dIuQQaVLoBR0j1BoQReHLm2XDoVCioJEFx/dQh2yKkUdggii\n",
       "HoIoOJhdqg9cLIVSaAlFLPG7717u3b13hXyQ5N19/9//3Xd3uQPybcTiTbQjvVFEn8HsGXBd3tF9\n",
       "ucZeEQ/8iDJRQb78dM7hYbIsYXYTeQ9v9XCPkPiDXDNu+h2D/8KOeRH4mCxLJDvsId1B4VMvsQbM\n",
       "AONx09oc/upyHpcCU4tVEmIzPpJVFPTQXgAlH8dB66Jebwamzyu4Dd9yFZharJIQe8PNsIQtgVIR\n",
       "QxVujHwMRwqr/J6pxSoJsR+4nEWz1lWBhMfdX2Gano65TC1WSojdl7M9sWYkkr9pprmkcBNI0+tl\n",
       "4TC1WJYQu8St93IkOZXJjFIZPPlZWCNNV+WjiJZvslJCLAuRekVf52rGG/QZ+CWfHm1QNLUpZsgp\n",
       "dxs1NVkpIZZM8z6ynWCI9DJPm/4wR/oTOJS7f8EytVglIZbKL9yphIrXUpjk8lOmaVcoU3tOLVZJ\n",
       "iKWFSm0jc9dLDIwh7QcL9fCdYfqSt0XU1GKVhNhJWq62sdduypNPyE7tniXD9Ju1T2tCza7FKgmx\n",
       "U9SYbrS0eqvbpb/akDqUjlpCmyYbXypa9Xl2vY26iLBKQmzGd51fp8Hvs926sfqRGBT4DzvsuRKO\n",
       "AyUeCfeBKtkDR7/r6IvHidOT2TNHIuv3Y9p2mjLruk4uY9fJSt/XCbH3Q4i8UcI7mPIAAAAASUVO\n",
       "RK5CYII=\n",
       "\" style=\"display:inline;vertical-align:middle;\" /></a></span>"
      ],
      "text/plain": [
       "|- (3 * 2) in [3 * 1,3 * 3)"
      ]
     },
     "execution_count": 83,
     "metadata": {},
     "output_type": "execute_result"
    }
   ],
   "source": [
    "# Element in an Half-Open Interval [1,3)\n",
    "IntervalCO(one, three).deduce_elem_in_set(two)\n",
    "IntervalCO(one, three).deduce_rescaled_membership(two, three)"
   ]
  },
  {
   "cell_type": "code",
   "execution_count": 84,
   "metadata": {},
   "outputs": [
    {
     "data": {
      "text/html": [
       "<span style=\"font-size:20px;\"><a class=\"ProveItLink\" href=\"../__pv_it/demonstrations/9963a962d2aed60a7404f99091d34d941e7d8fd00/expr.ipynb\"><img src=\"data:image/png;base64,iVBORw0KGgoAAAANSUhEUgAAAEsAAAAUBAMAAAA3uN37AAAAMFBMVEX///9UVFTMzMzu7u4yMjIQ\n",
       "EBC6uroiIiKIiIiYmJhmZmaqqqpERER2dnbc3NwAAACDMjhQAAAAAXRSTlMAQObYZgAAAT1JREFU\n",
       "KM9jYMAELU6ofE73BAaGt3dPoym7xsDA23kJxmNawMCbwMC3gGH/BAxl3gzmD6A8dgGQMo7fDPwF\n",
       "6Mo4Axh4HaC8VrAytjAGfogI5/HyEqgyHgEG7s8QVXxTwMqAAGIp0wkDuGn8AgxsvyEcXhaoMuZa\n",
       "MN/EAGGp/QIGth8QzjyoMr7ri8F8OSS3vb/AwARRxtwAM42hFUweQFa2gIHpL8ROBrgy1mCQ00Jc\n",
       "gADD0k1QZXwPGHhAruVDNg3oBW6wF5gvQJXxf4YoYwhAUsZzgIETHCDcUqvWRzUAlbEeYGAHi6zA\n",
       "EbysYNM4J0DDjX0DUmRVM5gqMH+BKDsA9kLWqmMQr8skI5TZdggxMJSDQpL3/McJEJ9CAdsdeGRB\n",
       "ADcswFGUIacQaJgRpcyCOGUT8CtrR0vkHO4JAM7hWfptFmxIAAAAAElFTkSuQmCC\n",
       "\" style=\"display:inline;vertical-align:middle;\" /></a> <a class=\"ProveItLink\" href=\"../__pv_it/demonstrations/3d3063dcf5642af108021873f476fe12204bc9d70/proof.ipynb\" style=\"text-decoration: none\">&nbsp;&#x22A2;&nbsp;&nbsp;</a><a class=\"ProveItLink\" href=\"../__pv_it/demonstrations/cb3e060707e16415be99e49106169c6ac8f8bd160/expr.ipynb\"><img src=\"data:image/png;base64,iVBORw0KGgoAAAANSUhEUgAAAKUAAAAUBAMAAAAek+A5AAAAMFBMVEX///9UVFTMzMx2dna6uroQ\n",
       "EBCqqqqIiIgiIiJmZmYyMjJERETu7u6YmJjc3NwAAAC+aOQFAAAAAXRSTlMAQObYZgAAAlZJREFU\n",
       "OMuNlb1rFEEYxp/b3exdLnubw0oRTMB/YPEKCSncJmAheEUCfjSHnY2kEUmhngghpnFTyZFArCSk\n",
       "0CNNBNGsSPA0Ra4WDAc2sTF+EUM4XWfnc/d2Du6tZt6d5zfzfuwM4LaRsVu9jvz6OAaz0poP7AAf\n",
       "ljekz61M1pDr9Kw0fTiNV4pr3j3HR0ktYATxUjyHU8YFX3i/wv4L52mW+Rbmbzl/hhbbNqUFCuV4\n",
       "aSnAcIihqvDer+EIOJ9lrgAzMsAqTLZtSgvcpsxCB0N15P4J75SPY2BbiF8uLHLmFWBMpGSkDLtL\n",
       "Rykt3E+UuQ8Uu8j9VHuR2FFk8RiboTznixBjIqGjZViHdJTWmkXKnGN56CpmyyMfAzr8GKrYiT0W\n",
       "090A1h+ZQ6XdY8zXdHLZk/4vj4iyxLJ1Bkmm9UtMDzwYkqm0zixjztPZA+rivThN4q/TYTPFJEUl\n",
       "Fp/1IIAhN1BaE4w5TatHQ93lHTQTwvhO03ltnZhkNqj4uCf2hPZGkjknmgv4BmzVONNNnTMfyGOR\n",
       "GtmH/JPSOh5U7HYQo5hFYcy0WOzVJPMmXNlLTZR4ZRJa+1Rj9eosr9FZ4J5QX6fl5TV6kmAaHvKd\n",
       "TM+ntKRd6TknSIgPK0t14f1M+3OY1bJQU8z9ysRJqZ3H9jjNbEpLmM146UXSt1EUSb/VWCZxFll3\n",
       "O6cvqZ6PoiOpfXfnBLAQ9mhhbv1os39TYy2xw6T8N7Nmhzopu0M0prlDNGr0YeKNxq+767L2vi9z\n",
       "R+Mf6QzCbPdl6t6OvczbsTjo25Ff8/8Dg7KoFYrLGCQAAAAASUVORK5CYII=\n",
       "\" style=\"display:inline;vertical-align:middle;\" /></a></span>"
      ],
      "text/plain": [
       "{3 in [0,4]} |- (2 * 3) in [2 * 0,2 * 4]"
      ]
     },
     "execution_count": 84,
     "metadata": {},
     "output_type": "execute_result"
    }
   ],
   "source": [
    "# Element in an Closed Interval [1,3]\n",
    "IntervalCC(zero, four).deduce_rescaled_membership(three, two,\n",
    "        assumptions=[InSet(three, IntervalCC(zero, four))])"
   ]
  },
  {
   "cell_type": "markdown",
   "metadata": {},
   "source": [
    "### Testing the `Interval.deduce_left/RightRelaxedMembership()` methods"
   ]
  },
  {
   "cell_type": "code",
   "execution_count": 85,
   "metadata": {},
   "outputs": [
    {
     "data": {
      "text/html": [
       "<span style=\"font-size:20px;\"><a class=\"ProveItLink\" href=\"../__pv_it/demonstrations/beb80a7d0a05fcba43d4322e69fa9c11d6980e080/expr.ipynb\"><img src=\"data:image/png;base64,iVBORw0KGgoAAAANSUhEUgAAAE4AAAAUBAMAAADRkRa/AAAAMFBMVEX///+YmJiqqqqIiIgyMjLc\n",
       "3NwiIiIQEBC6urp2dnZUVFTMzMxERERmZmbu7u4AAADrYmUNAAAAAXRSTlMAQObYZgAAAVVJREFU\n",
       "KM9jYMACAtH4TAEMDHx3z2xAE+Y7gMLdy8CwlIHhFQPnDzR1LEDtTHVwbhYDwxMGhnsMDOVo6mSB\n",
       "umf9g/GYqxgYOA0YyhgY1geABWTS0hzAjFQgZoSrC/QCuqSAwf8Bw3qwA/fYQSVYE1DUTQCqY/AA\n",
       "sfIfgBzvB7foArI6xgCQurlAzPETxOcKgKnjEUBW95gBpE4EiNkWgGXh3mBTQFY3AaxODYjvgvnb\n",
       "XYAA7A/2BiR1TBvA6vZDncPAEAM3D0XdSwaYOl0GVpDT2LHbq3X37vfLDAxtDNwTGJhB6ngNsPuD\n",
       "gaEK7I+wmXOXgblJMHFOkEOYgereQ4K9BohvMvj///8NzH114gFEHQcwnHmXf7nIwJYH4s75v5CB\n",
       "wRspWjuPIcUbGOjBU1ACtuQnC48yuFMMsKnjgUYNH1z2CTZl8HTKCBc5ilUdRrpnDGAAAFvyUhIb\n",
       "uo9PAAAAAElFTkSuQmCC\n",
       "\" style=\"display:inline;vertical-align:middle;\" /></a> <a class=\"ProveItLink\" href=\"../__pv_it/demonstrations/ffd8b8cdf8409ab3a4cd360e6e764a748cfaa70f0/proof.ipynb\" style=\"text-decoration: none\">&nbsp;&#x22A2;&nbsp;&nbsp;</a><a class=\"ProveItLink\" href=\"../__pv_it/demonstrations/fc3d5e9ac83d4c4add2712b471d8207d73edf56a0/expr.ipynb\"><img src=\"data:image/png;base64,iVBORw0KGgoAAAANSUhEUgAAAEwAAAAUBAMAAADVZMaCAAAAMFBMVEX///+YmJiqqqqIiIgyMjLc\n",
       "3NwiIiIQEBC6urp2dnZUVFTMzMxERERmZmbu7u4AAADrYmUNAAAAAXRSTlMAQObYZgAAATRJREFU\n",
       "KM9jYMAAzC4bUAWYAhgY+O6eQRPlbEDh7mVgWMrA8IqB8wemMvUHcG4WA8MTBoZ7DAzl6Mr4Vq6H\n",
       "K2OuAooYMJQxMKwPAAvIpKU5wEyThysL9AI6rIDB/wHDerDj9tghWYpQNgGojMEDxMoHifH5MWBT\n",
       "xhgAUjYXiDl+gvhcAViVPWYAKRMBYrYFID4PA1ZlE8DK1ID4Lpi/3QUIMLzAtAGsbD/QxxfAAjFY\n",
       "TXvJAFOmy8AKchY7VmVad+9+v8zA0MbAPYGBGaSM1wCr2xgYqsBeCJs5dxmYm4SszP4BA98XCLcG\n",
       "iG8y+P///w3MfXXiAVzZrXpfAYY0MH/O/4UMDN5Icdl5DBFZYF/CLeZLwExucGWcCBEDPMoew0We\n",
       "MOBRJgAXOYpNGXMKWnJmDGAAALsZVvF6FiO4AAAAAElFTkSuQmCC\n",
       "\" style=\"display:inline;vertical-align:middle;\" /></a></span>"
      ],
      "text/plain": [
       "{2 in (1,4)} |- 2 in [1,4)"
      ]
     },
     "execution_count": 85,
     "metadata": {},
     "output_type": "execute_result"
    }
   ],
   "source": [
    "# Element in open interval (1,4) means element in half-open interval [1,4)\n",
    "IntervalOO(one, four).deduce_left_relaxed_membership(two,\n",
    "        assumptions=[InSet(two, IntervalOO(one, four))])"
   ]
  },
  {
   "cell_type": "code",
   "execution_count": 86,
   "metadata": {},
   "outputs": [
    {
     "data": {
      "text/html": [
       "<span style=\"font-size:20px;\"><a class=\"ProveItLink\" href=\"../__pv_it/demonstrations/beb80a7d0a05fcba43d4322e69fa9c11d6980e080/expr.ipynb\"><img src=\"data:image/png;base64,iVBORw0KGgoAAAANSUhEUgAAAE4AAAAUBAMAAADRkRa/AAAAMFBMVEX///+YmJiqqqqIiIgyMjLc\n",
       "3NwiIiIQEBC6urp2dnZUVFTMzMxERERmZmbu7u4AAADrYmUNAAAAAXRSTlMAQObYZgAAAVVJREFU\n",
       "KM9jYMACAtH4TAEMDHx3z2xAE+Y7gMLdy8CwlIHhFQPnDzR1LEDtTHVwbhYDwxMGhnsMDOVo6mSB\n",
       "umf9g/GYqxgYOA0YyhgY1geABWTS0hzAjFQgZoSrC/QCuqSAwf8Bw3qwA/fYQSVYE1DUTQCqY/AA\n",
       "sfIfgBzvB7foArI6xgCQurlAzPETxOcKgKnjEUBW95gBpE4EiNkWgGXh3mBTQFY3AaxODYjvgvnb\n",
       "XYAA7A/2BiR1TBvA6vZDncPAEAM3D0XdSwaYOl0GVpDT2LHbq3X37vfLDAxtDNwTGJhB6ngNsPuD\n",
       "gaEK7I+wmXOXgblJMHFOkEOYgereQ4K9BohvMvj///8NzH114gFEHQcwnHmXf7nIwJYH4s75v5CB\n",
       "wRspWjuPIcUbGOjBU1ACtuQnC48yuFMMsKnjgUYNH1z2CTZl8HTKCBc5ilUdRrpnDGAAAFvyUhIb\n",
       "uo9PAAAAAElFTkSuQmCC\n",
       "\" style=\"display:inline;vertical-align:middle;\" /></a> <a class=\"ProveItLink\" href=\"../__pv_it/demonstrations/c4b9ace7d39047c73b7968e1705b724856d28f450/proof.ipynb\" style=\"text-decoration: none\">&nbsp;&#x22A2;&nbsp;&nbsp;</a><a class=\"ProveItLink\" href=\"../__pv_it/demonstrations/38f4c3cd26a2023af457d1828a087c6d20808d480/expr.ipynb\"><img src=\"data:image/png;base64,iVBORw0KGgoAAAANSUhEUgAAAEwAAAAUBAMAAADVZMaCAAAAMFBMVEX///+YmJiqqqqIiIgyMjLc\n",
       "3NwiIiIQEBC6urp2dnZUVFTMzMxERERmZmbu7u4AAADrYmUNAAAAAXRSTlMAQObYZgAAATJJREFU\n",
       "KM9jYMACAtH4IhkMfHfPbEAT5TuAwt3LwDCD4RUD5w80ZSwBDAxMdXBuFkjZPQaGcjRlsgwMr2b9\n",
       "g/GYq0DKyhgY1geA+TJpaQ5gRioQM8KVBXqBlPk/YFgPdtweO6g4awKKsglgZUCQ/wDkbj+4LReQ\n",
       "lTEGQJVx/ARxuQJgyngEkJU9ZoAqY1sAloT7gE0BWdkEmLK7YO52FyAAe4G9AUkZ0waoMrBTGBhi\n",
       "4KahKHvJAFWmy8AKchY7dku17t79fhmojHsCAzNIGa8Bdi8wMICDN2zm3GVgXhJMmBPkCmagsveQ\n",
       "0K4BB+///9/AvFcnHkCUcQCDl3f5l4sMbHkg7pz/CyHBCwWdx5AiCwz0YIwZ2JKbLDye8CrjgUYI\n",
       "nwFeZbBkyciAVxlGIjfJAAA1IlRMHgPfOgAAAABJRU5ErkJggg==\n",
       "\" style=\"display:inline;vertical-align:middle;\" /></a></span>"
      ],
      "text/plain": [
       "{2 in (1,4)} |- 2 in (1,4]"
      ]
     },
     "execution_count": 86,
     "metadata": {},
     "output_type": "execute_result"
    }
   ],
   "source": [
    "# Element in open interval (1,4) means element in half-open interval (1,4]\n",
    "IntervalOO(one, four).deduce_right_relaxed_membership(two,\n",
    "        assumptions=[InSet(two, IntervalOO(one, four))])"
   ]
  },
  {
   "cell_type": "code",
   "execution_count": 87,
   "metadata": {},
   "outputs": [
    {
     "data": {
      "text/html": [
       "<span style=\"font-size:20px;\"><a class=\"ProveItLink\" href=\"../__pv_it/demonstrations/beb80a7d0a05fcba43d4322e69fa9c11d6980e080/expr.ipynb\"><img src=\"data:image/png;base64,iVBORw0KGgoAAAANSUhEUgAAAE4AAAAUBAMAAADRkRa/AAAAMFBMVEX///+YmJiqqqqIiIgyMjLc\n",
       "3NwiIiIQEBC6urp2dnZUVFTMzMxERERmZmbu7u4AAADrYmUNAAAAAXRSTlMAQObYZgAAAVVJREFU\n",
       "KM9jYMACAtH4TAEMDHx3z2xAE+Y7gMLdy8CwlIHhFQPnDzR1LEDtTHVwbhYDwxMGhnsMDOVo6mSB\n",
       "umf9g/GYqxgYOA0YyhgY1geABWTS0hzAjFQgZoSrC/QCuqSAwf8Bw3qwA/fYQSVYE1DUTQCqY/AA\n",
       "sfIfgBzvB7foArI6xgCQurlAzPETxOcKgKnjEUBW95gBpE4EiNkWgGXh3mBTQFY3AaxODYjvgvnb\n",
       "XYAA7A/2BiR1TBvA6vZDncPAEAM3D0XdSwaYOl0GVpDT2LHbq3X37vfLDAxtDNwTGJhB6ngNsPuD\n",
       "gaEK7I+wmXOXgblJMHFOkEOYgereQ4K9BohvMvj///8NzH114gFEHQcwnHmXf7nIwJYH4s75v5CB\n",
       "wRspWjuPIcUbGOjBU1ACtuQnC48yuFMMsKnjgUYNH1z2CTZl8HTKCBc5ilUdRrpnDGAAAFvyUhIb\n",
       "uo9PAAAAAElFTkSuQmCC\n",
       "\" style=\"display:inline;vertical-align:middle;\" /></a> <a class=\"ProveItLink\" href=\"../__pv_it/demonstrations/c53c1f486e331a0020f95e15585d76322ba5ad920/proof.ipynb\" style=\"text-decoration: none\">&nbsp;&#x22A2;&nbsp;&nbsp;</a><a class=\"ProveItLink\" href=\"../__pv_it/demonstrations/79feb8ee8f8fc91c2d15ea4bef9a4ebeca0803670/expr.ipynb\"><img src=\"data:image/png;base64,iVBORw0KGgoAAAANSUhEUgAAAEoAAAAUBAMAAADYerbFAAAAMFBMVEX///+YmJiqqqqIiIgyMjLc\n",
       "3NwiIiIQEBC6urp2dnZUVFTMzMxERERmZmbu7u4AAADrYmUNAAAAAXRSTlMAQObYZgAAAQ9JREFU\n",
       "KM9jYMAAzC4bUAVEMhj47p5BE+RsQOHuZWCYwfCKgfMHpiqmOjg3C6TqHgNDOYaqV7P+we2vAqkq\n",
       "Y2BYHwDmy6SlOcDMYoSrCvQCqfJ/wLAe7LA9dkg2IlRNAKsCgvwHQILPjwGbKsYAqCqOnyAuVwBW\n",
       "VY8ZoKrYFoC4PAxYVU2AqboL5m53AQIM1zNtgKpivgDmx2A16yUDVJUuAyvISexYVWndvfv9MlAV\n",
       "9wQGZpAqXgOs7mJgAIdq2My5y8C8JGRVzEBV78GuZKgBh+r//9/AvFcnHsBV8S7/cpGBLQ/Em/N/\n",
       "ISRUoaDzGCKGwEAPJjMDM3khVE0gRhWfATGqGBnwqWJOQUu8JhkAGjBX/+A0354AAAAASUVORK5C\n",
       "YII=\n",
       "\" style=\"display:inline;vertical-align:middle;\" /></a></span>"
      ],
      "text/plain": [
       "{2 in (1,4)} |- 2 in [1,4]"
      ]
     },
     "execution_count": 87,
     "metadata": {},
     "output_type": "execute_result"
    }
   ],
   "source": [
    "# Element in open interval (1,4) means element in half-open interval (1,4]\n",
    "IntervalOO(one, four).deduce_left_right_relaxed_membership(two,\n",
    "        assumptions=[InSet(two, IntervalOO(one, four))])"
   ]
  },
  {
   "cell_type": "code",
   "execution_count": 88,
   "metadata": {},
   "outputs": [
    {
     "data": {
      "text/html": [
       "<span style=\"font-size:20px;\"><a class=\"ProveItLink\" href=\"../__pv_it/demonstrations/b5a8dbaa1f5630e3a5b074cef386884ab07106510/expr.ipynb\"><img src=\"data:image/png;base64,iVBORw0KGgoAAAANSUhEUgAAAEwAAAAUBAMAAADVZMaCAAAAMFBMVEX///+YmJiqqqqIiIgyMjLc\n",
       "3NwiIiIQEBC6urp2dnZUVFTMzMxERERmZmbu7u4AAADrYmUNAAAAAXRSTlMAQObYZgAAAXJJREFU\n",
       "KM99krFLQlEUxj/R93yWXR2CCJL8B+q9IQgawqE5X0sQNEiQ2FJbBUG4NkSCEToETa26tQRKQ0g4\n",
       "+A8ob3YJHKKCtHPPfU/tJX7Td879vXPuOe8CE7Tji+dzEO1m1ZcVdaC46Gb3yi9ACV1EPn1YyEYo\n",
       "KQ7Zay2YccI6wJkPSwALwC37YA+xDGGnQMXmzFI2m2JDdd4A05HeOEcsRVjaQYWv8bzpFtMywDdw\n",
       "k3Rjbko6kd+Jba9nsAXxQ5jlDnQExowvGc3YHhaNQ6NUTWHaXUdh+gMfDifQk9CoWq3gxut5xtoc\n",
       "PG2ReIRw/k9ThC8lRleR2h9WI0yOYPIImo1oT2Ir0tLheFM0gWVeSKyvsNkCghKbs8ZGGK03XIfe\n",
       "J2y3fP/IiQMPi7RkRXGBd7pqIK72lh4MPvi023AUZtB6RXGjCv2Yout2Qy3E09Xr6GcprXqmNOm5\n",
       "JTxTmIpF3R8irKmYfJZSAUzF/j3ytdwveipaCytsKPIAAAAASUVORK5CYII=\n",
       "\" style=\"display:inline;vertical-align:middle;\" /></a> <a class=\"ProveItLink\" href=\"../__pv_it/demonstrations/c8f3b359267fa147d3f4b28699493d38070214b20/proof.ipynb\" style=\"text-decoration: none\">&nbsp;&#x22A2;&nbsp;&nbsp;</a><a class=\"ProveItLink\" href=\"../__pv_it/demonstrations/0d5d603ea6919182ee0b109f6aa64ddc9f4820c40/expr.ipynb\"><img src=\"data:image/png;base64,iVBORw0KGgoAAAANSUhEUgAAAEoAAAAUBAMAAADYerbFAAAAMFBMVEX///+YmJiqqqqIiIgyMjLc\n",
       "3NwiIiIQEBC6urp2dnZUVFTMzMxERERmZmbu7u4AAADrYmUNAAAAAXRSTlMAQObYZgAAAVBJREFU\n",
       "KM9jYMAAzC4bUAVEMhj47p5BE+RsYGCYLAkVjJx5iIFhBsMrBs4fGKpYFPhSwWzWCwz6AkBV9xgY\n",
       "yjFUiTMwTIHY/omBPwGoqoyBYX0AWEQmLc0BquoUA4P+AxCbo4KB3wGoyv8Bw3qwG/bYIcz6xcDQ\n",
       "rwDlgm0EgnyQNj4/hI18f4GqDCA8vkwGsCqOnyAeVwBCFStQZD9EFeu0exBVbAtAXB4k17MCzdo/\n",
       "Aco1bwCrugvmbHcBAgdMGxnY60CqmC+AOTHIIQF0vT7Y9awBDDyfQKp0QUygFmRVZxgY5MEhwf8P\n",
       "oop7AgMzSBWvAbZQZT/AwPYPqCps5txlYIEkJFVsCnzVDO+BrmQUgISX////38CSr048gKvim2y1\n",
       "gYEtD8jpvXsCEhIw0HkMHkMQoAeTmYGZvBCqJhCjis+AGFWMDPhUMaegJV6TDAADTF2+0dXKQwAA\n",
       "AABJRU5ErkJggg==\n",
       "\" style=\"display:inline;vertical-align:middle;\" /></a></span>"
      ],
      "text/plain": [
       "{2 in (0,3]} |- 2 in [0,3]"
      ]
     },
     "execution_count": 88,
     "metadata": {},
     "output_type": "execute_result"
    }
   ],
   "source": [
    "# Element in half-open interval (0,3] means element in closed interval [0,3]\n",
    "IntervalOC(zero, three).deduce_relaxed_membership(two,\n",
    "        assumptions=[InSet(two, IntervalOC(zero, three))])"
   ]
  },
  {
   "cell_type": "code",
   "execution_count": 89,
   "metadata": {},
   "outputs": [
    {
     "data": {
      "text/html": [
       "<span style=\"font-size:20px;\"><a class=\"ProveItLink\" href=\"../__pv_it/demonstrations/7dc775a68468efc89a11839e3271282f2e6e4d7c0/expr.ipynb\"><img src=\"data:image/png;base64,iVBORw0KGgoAAAANSUhEUgAAAEwAAAAUBAMAAADVZMaCAAAAMFBMVEX///+YmJiqqqqIiIgyMjLc\n",
       "3NwiIiIQEBC6urp2dnZUVFTMzMxERERmZmbu7u4AAADrYmUNAAAAAXRSTlMAQObYZgAAAXRJREFU\n",
       "KM9jYMAAzC4bUAWYAhgY+O6eQRPlbGDgNJwN5UTOPMTAsJSB4RUD5w8MZU4MzwLAbNYLDPoCDE8Y\n",
       "GO4xMJSjK2MsYOB0gDjgEwN/AgOnAUMZA8N6iE6ZtDQHiDKeBQxM/8BiHBUM/A4MfAUM/g8Y1oMd\n",
       "t8cObhr/AgaOTzDDgZYyeIAY+Q+ABJ8fwtL3Fxg4PkN5fJlAYi7I4J8gLlcAQln8BAZuqDLWaUDH\n",
       "M4gAMdsCEJ8HyQvxFxi4f8K45g0MDGpA+i6Yt90FCBwwLWVgr2Ng2A/08wUwLwbJNKAXmCBeYA1g\n",
       "4PkEVqYLYgM1ISnjOcDACAkQ/n9gZW0M3BMYmEHKeA2wBS/7AQa2fyAvhM2cuwwskoQUWUkMzzfw\n",
       "fQGyGQXA4XaTwf///29g2VcnHsCVvTRezcCQBuL33j0BJL2R4rLzGCyyoOnnAUyGLwEzucGVcSJE\n",
       "DPAoewwXecKAR5kAXOQoNmXMKWjJmTGAAQCMOWD3GC5HdwAAAABJRU5ErkJggg==\n",
       "\" style=\"display:inline;vertical-align:middle;\" /></a> <a class=\"ProveItLink\" href=\"../__pv_it/demonstrations/ec68d360f7718202f1d6cbd3b16da500abc373460/proof.ipynb\" style=\"text-decoration: none\">&nbsp;&#x22A2;&nbsp;&nbsp;</a><a class=\"ProveItLink\" href=\"../__pv_it/demonstrations/0d5d603ea6919182ee0b109f6aa64ddc9f4820c40/expr.ipynb\"><img src=\"data:image/png;base64,iVBORw0KGgoAAAANSUhEUgAAAEoAAAAUBAMAAADYerbFAAAAMFBMVEX///+YmJiqqqqIiIgyMjLc\n",
       "3NwiIiIQEBC6urp2dnZUVFTMzMxERERmZmbu7u4AAADrYmUNAAAAAXRSTlMAQObYZgAAAVBJREFU\n",
       "KM9jYMAAzC4bUAVEMhj47p5BE+RsYGCYLAkVjJx5iIFhBsMrBs4fGKpYFPhSwWzWCwz6AkBV9xgY\n",
       "yjFUiTMwTIHY/omBPwGoqoyBYX0AWEQmLc0BquoUA4P+AxCbo4KB3wGoyv8Bw3qwG/bYIcz6xcDQ\n",
       "rwDlgm0EgnyQNj4/hI18f4GqDCA8vkwGsCqOnyAeVwBCFStQZD9EFeu0exBVbAtAXB4k17MCzdo/\n",
       "Aco1bwCrugvmbHcBAgdMGxnY60CqmC+AOTHIIQF0vT7Y9awBDDyfQKp0QUygFmRVZxgY5MEhwf8P\n",
       "oop7AgMzSBWvAbZQZT/AwPYPqCps5txlYIEkJFVsCnzVDO+BrmQUgISX////38CSr048gKvim2y1\n",
       "gYEtD8jpvXsCEhIw0HkMHkMQoAeTmYGZvBCqJhCjis+AGFWMDPhUMaegJV6TDAADTF2+0dXKQwAA\n",
       "AABJRU5ErkJggg==\n",
       "\" style=\"display:inline;vertical-align:middle;\" /></a></span>"
      ],
      "text/plain": [
       "{2 in [0,3)} |- 2 in [0,3]"
      ]
     },
     "execution_count": 89,
     "metadata": {},
     "output_type": "execute_result"
    }
   ],
   "source": [
    "# Element in half-open interval [0,3) means element in closed interval [0,3]\n",
    "IntervalCO(zero, three).deduce_relaxed_membership(two,\n",
    "        assumptions=[InSet(two, IntervalCO(zero, three))])"
   ]
  },
  {
   "cell_type": "markdown",
   "metadata": {},
   "source": [
    "### Testing the `InSet.deduce_in_bool()` methods<br>(indirectly testing the NumberSet.deduce_membership_in_bool() methods)"
   ]
  },
  {
   "cell_type": "code",
   "execution_count": 90,
   "metadata": {},
   "outputs": [
    {
     "data": {
      "text/html": [
       "<span style=\"font-size:20px;\"> <a class=\"ProveItLink\" href=\"../__pv_it/demonstrations/fb17638cf2885ee93f41126b43daa8f4b9913ffa0/proof.ipynb\" style=\"text-decoration: none\">&nbsp;&#x22A2;&nbsp;&nbsp;</a><a class=\"ProveItLink\" href=\"../__pv_it/theorems/8a50ee9a12f9bb62742b631ed14b0a084bab98cd0/expr.ipynb\"><img src=\"data:image/png;base64,iVBORw0KGgoAAAANSUhEUgAAAGkAAAAUBAMAAAB8EA4WAAAAMFBMVEX////MzMxUVFR2dna6uroQ\n",
       "EBCqqqqIiIgiIiJmZmYyMjJERETu7u6YmJjc3NwAAACgK8IjAAAAAXRSTlMAQObYZgAAAZZJREFU\n",
       "OMtjYOC7wIATsD3AJXMaixhv6+5fS/cCGXpoEhXR+5c2OQAZ67AZxcWjwLh3DwPDKXSJBeI8e+YC\n",
       "jZ2ATRc3nwHDhkcMDMwFaBIbfBkKuRkYOFCczrujowumax4XAwNPAKo4SFcaUNcLZE2M2w8g7JoH\n",
       "lGVYgioO0mUCDIlKIPN40ZNisFNOHUByoYITkGHJgCIO1MXSqMjAAAwpHgPedo4FDMhBBtTF1rkG\n",
       "yLjFgCLOsMG1/yswDNuAXj7A/IcF7L0NCF0RHctAjAwGFHGQC20vMzCEAO1i4IYIM0atAgKILpMJ\n",
       "e0AMeVRxkC5ulgsgXQwM/JAA5kOyy2CKNFwXH4pd3AwKIBcC5QQgYgFIurjPgozyQBUH6WJiWAAK\n",
       "DbYD9Qzs4FCajqSLUWEiPDSmo9jFawAKWv+E/QxvwWIcCYgUxWDGBHTBZFRxhgXCDMaTwE44VH58\n",
       "LiTh82j7wFOvAPeubwwMC1HE4akXNUWxWENTDhTwNGAXx556YQAj9cLAPny6TpGSKwkbia8E4MVR\n",
       "AgAAmRRylgSPiSgAAAAASUVORK5CYII=\n",
       "\" style=\"display:inline;vertical-align:middle;\" /></a></span>"
      ],
      "text/plain": [
       "|- (x in Real) in BOOLEAN"
      ]
     },
     "execution_count": 90,
     "metadata": {},
     "output_type": "execute_result"
    }
   ],
   "source": [
    "InSet(x, Real).deduce_in_bool()"
   ]
  },
  {
   "cell_type": "code",
   "execution_count": 91,
   "metadata": {},
   "outputs": [
    {
     "data": {
      "text/html": [
       "<span style=\"font-size:20px;\"> <a class=\"ProveItLink\" href=\"../__pv_it/demonstrations/469efc634c5b05052d689dec497cbbb4a3bc17090/proof.ipynb\" style=\"text-decoration: none\">&nbsp;&#x22A2;&nbsp;&nbsp;</a><a class=\"ProveItLink\" href=\"../__pv_it/demonstrations/192f2dd50730bebf17b43664e4355b3cb566c72d0/expr.ipynb\"><img src=\"data:image/png;base64,iVBORw0KGgoAAAANSUhEUgAAAHgAAAAbBAMAAABFKlYVAAAAMFBMVEX///8iIiJERESYmJiqqqoQ\n",
       "EBB2dnbc3NyIiIhmZmbu7u4yMjJUVFS6urrMzMwAAADZVrDbAAAAAXRSTlMAQObYZgAAAepJREFU\n",
       "OMutlM8rBGEYx7/G/pjZ3RltOLgNLvKjJrLn/QeUvYnUFBcHJWdlLw6cNhdKtHEhyhYK6/AmByVF\n",
       "IkmZlBtRlFoH3pnZ3XlnmndX8dY0T+/n/czzzjPPvMDfxktFSuglcqlCKsoqvWTukmi2qowRHl1E\n",
       "dbmGkyBc8JmsbWz52mt1ZDHj5iLlqXMglPF9lwhRWtsRy+eH8js0w5uXK+nVDQ3BpJ8shHWoU+XM\n",
       "aPByWRMNFdOu1+mOx3MleSHqyPNeLmuBpIpe1n2cYzIvCI484+WyFrpTsUTD9UWEB+k9cshum9w7\n",
       "8oO1P4bL2uWzgRYa6tcQzZLEJhg50HToyK8G3FxOfQ8DR7SWySUI5iKBKVgqvmtF9vrpC7g53XaP\n",
       "jia6GwygLk2nnvJ0FAs2nmlnirFtyQyXNahXODB7t2Dva5L9VMuPjGxnnmQzQ42hk4ZSzi5nkJWF\n",
       "tbQjv054OJVJFMdmSKxnQEozskJWHNmuNsPNzAkrpUTkd3cj0fbEaMwoy8VucLiih8aI9czI6eyn\n",
       "NbfVlS3/GIbQ8VGWix1W4qUfI2iVQsrZ9KY5nvPr9X34ckkHzoqfgjsiBc4p1A/Uo63yiVDLO4dO\n",
       "gNtZo7Jcw+ObvzhgEzwQyFR1wyoX9VWVpSz+f/wAgTOBFfsn1ucAAAAASUVORK5CYII=\n",
       "\" style=\"display:inline;vertical-align:middle;\" /></a></span>"
      ],
      "text/plain": [
       "|- (y in RealPos) in BOOLEAN"
      ]
     },
     "execution_count": 91,
     "metadata": {},
     "output_type": "execute_result"
    }
   ],
   "source": [
    "InSet(y, RealPos).deduce_in_bool()"
   ]
  },
  {
   "cell_type": "code",
   "execution_count": 92,
   "metadata": {},
   "outputs": [
    {
     "data": {
      "text/html": [
       "<span style=\"font-size:20px;\"> <a class=\"ProveItLink\" href=\"../__pv_it/demonstrations/feed73f93d1b407cab9c046d5472d92fce1af3860/proof.ipynb\" style=\"text-decoration: none\">&nbsp;&#x22A2;&nbsp;&nbsp;</a><a class=\"ProveItLink\" href=\"../__pv_it/demonstrations/25633b34c827aee3e0213da88eb505341b54f8aa0/expr.ipynb\"><img src=\"data:image/png;base64,iVBORw0KGgoAAAANSUhEUgAAAHgAAAAaBAMAAACOdoWwAAAAMFBMVEX///8iIiJERESYmJiqqqoQ\n",
       "EBB2dnbc3NyIiIhmZmbu7u4yMjJUVFS6urrMzMwAAADZVrDbAAAAAXRSTlMAQObYZgAAAcpJREFU\n",
       "OMuVlL9Lw0AUx7+mv0zTBAo6FBzOulWFoNS5/4BocROEgC4OQnEWzOIiKMXBCqIUnURBBwWtDkEc\n",
       "BBEqooMIBsFN0cGpDnqJ1lzPHok3Je+Tz727l3cH4AV+o1VINMtXVoWfKGVfGeMisOLvokWQIFZr\n",
       "Egy1pz8OuphNF7kiUJ6/BKLFpnuJW1pXBmqajgzN8MZzzdzY0hHJNZOlmAEy47238VzVW22C2Ybt\n",
       "9CWTe3W5pHjxJZ6rejhHkGXdx3kmc0nywBzPVT16R7DqFG15ZdQJxSvssq17T34oc1zVr55tpOnj\n",
       "TUFxK5IoMHI4VfHkV5vjav5zDDihE45AJm6IKVg+uc/sZ7bKcbrsfgMpQK6hxXRCT8d0/BRsqphh\n",
       "5N0qx1Ud5BpHQIRg113WNPur1h7/ZJ5mM4Mk0EOnNTDkhiKsLG2azJ4LHKeypeCUyjlchB0qm4ys\n",
       "Wet8tRnuZB5w/qBkhjqijY1E2xMTCftXznKNpmhGdNJy5oyfL84suLGd3vLvwbCl7ne+w+q8fjAi\n",
       "VbbFbju/248fh825bAQ4z/Ga4BYaDiCHRPfQWZCbxBaA7QDygAiEi75ujAjRoK8sB7hg/z2+AHLb\n",
       "dgPrQcVwAAAAAElFTkSuQmCC\n",
       "\" style=\"display:inline;vertical-align:middle;\" /></a></span>"
      ],
      "text/plain": [
       "|- (a in RealNeg) in BOOLEAN"
      ]
     },
     "execution_count": 92,
     "metadata": {},
     "output_type": "execute_result"
    }
   ],
   "source": [
    "InSet(a, RealNeg).deduce_in_bool()"
   ]
  },
  {
   "cell_type": "code",
   "execution_count": 93,
   "metadata": {},
   "outputs": [
    {
     "data": {
      "text/html": [
       "<span style=\"font-size:20px;\"> <a class=\"ProveItLink\" href=\"../__pv_it/demonstrations/8cf9f4e2ef9a1d54b6d3cd383d59fa4ccdd472660/proof.ipynb\" style=\"text-decoration: none\">&nbsp;&#x22A2;&nbsp;&nbsp;</a><a class=\"ProveItLink\" href=\"../__pv_it/demonstrations/5c0b1befcffac4f157091ac7b854c4b66ca012110/expr.ipynb\"><img src=\"data:image/png;base64,iVBORw0KGgoAAAANSUhEUgAAAH4AAAAcBAMAAABVMRbqAAAAMFBMVEX///8iIiJERESYmJiqqqoQ\n",
       "EBB2dnbc3NyIiIhmZmbu7u4yMjJUVFS6urrMzMwAAADZVrDbAAAAAXRSTlMAQObYZgAAAixJREFU\n",
       "OMu1VM9rE0EU/rLN5sckuzFQDz0Ia4qXaGVQmnP+gAoGz0L8gehBKL0VhC6C4I9LCEILoi4KBamQ\n",
       "HhQ0elhE8KREBA8idCl4U+yhIKSgvtndyOyQiYvgO+wO733fvPe+NzPA361wsY1/MutN+GtgYRLq\n",
       "mz60/E58D6DiFbQY25+w9/JRgP2E2bS0qJI3qbj1Odg/kOE4p0OsTdZgvW8PkXGR0aTJD8EO7Uv6\n",
       "pvbX9p7ORutbnPKbLgodZSiEab0FcuQvddSemG/P1mnBrjZF/5UB8jsqxnYfPOIkDVBpKjEj34Zz\n",
       "hehnB7H+wLSKsXghcLBCoa1Rb8eq1c0Rf7UE1hV03Ajn31UxFs82HczT8kwc2r4p5V81YAdRqxdE\n",
       "f9dUjMVznxzcoeXL67eFh/Xl+v3PyXqjIiWMxd9/DVAj357XWyRPeVHiZ2f6Sf73sBgJY7V+nabc\n",
       "QHaIiis8kn6t6hMK1MjqsW8l1MKQ9csdb2MGKG6iJ27YlxdksX6XO3VF717IlzAWh/MBz8Pxb4kJ\n",
       "Lsnzu7ut8KP8S3J+OGUcofFz3BfimDLfeOgq/Yedmwm+X8Ir4g/YKeEpuhLf9u+N01/CiPwNMdYy\n",
       "N6IDPC2dX5wvBwn+PBSM3c5d8sW2bC2+nI/nvD/3JzAO7yb43SRmdH/MgYT5eDA6m+Ps2XhMMeXb\n",
       "yIaa5+tkOv6U7gF7nY6fCTSBjXT8hi6Q7aSh5x1t6EQaftHDf7HfAOaPXrUJlAMAAAAASUVORK5C\n",
       "YII=\n",
       "\" style=\"display:inline;vertical-align:middle;\" /></a></span>"
      ],
      "text/plain": [
       "|- (b in RealNonNeg) in BOOLEAN"
      ]
     },
     "execution_count": 93,
     "metadata": {},
     "output_type": "execute_result"
    }
   ],
   "source": [
    "InSet(b, RealNonNeg).deduce_in_bool()"
   ]
  },
  {
   "cell_type": "code",
   "execution_count": 94,
   "metadata": {},
   "outputs": [
    {
     "data": {
      "text/html": [
       "<span style=\"font-size:20px;\"> <a class=\"ProveItLink\" href=\"../__pv_it/demonstrations/8cf9f4e2ef9a1d54b6d3cd383d59fa4ccdd472660/proof.ipynb\" style=\"text-decoration: none\">&nbsp;&#x22A2;&nbsp;&nbsp;</a><a class=\"ProveItLink\" href=\"../__pv_it/demonstrations/5c0b1befcffac4f157091ac7b854c4b66ca012110/expr.ipynb\"><img src=\"data:image/png;base64,iVBORw0KGgoAAAANSUhEUgAAAH4AAAAcBAMAAABVMRbqAAAAMFBMVEX///8iIiJERESYmJiqqqoQ\n",
       "EBB2dnbc3NyIiIhmZmbu7u4yMjJUVFS6urrMzMwAAADZVrDbAAAAAXRSTlMAQObYZgAAAixJREFU\n",
       "OMu1VM9rE0EU/rLN5sckuzFQDz0Ia4qXaGVQmnP+gAoGz0L8gehBKL0VhC6C4I9LCEILoi4KBamQ\n",
       "HhQ0elhE8KREBA8idCl4U+yhIKSgvtndyOyQiYvgO+wO733fvPe+NzPA361wsY1/MutN+GtgYRLq\n",
       "mz60/E58D6DiFbQY25+w9/JRgP2E2bS0qJI3qbj1Odg/kOE4p0OsTdZgvW8PkXGR0aTJD8EO7Uv6\n",
       "pvbX9p7ORutbnPKbLgodZSiEab0FcuQvddSemG/P1mnBrjZF/5UB8jsqxnYfPOIkDVBpKjEj34Zz\n",
       "hehnB7H+wLSKsXghcLBCoa1Rb8eq1c0Rf7UE1hV03Ajn31UxFs82HczT8kwc2r4p5V81YAdRqxdE\n",
       "f9dUjMVznxzcoeXL67eFh/Xl+v3PyXqjIiWMxd9/DVAj357XWyRPeVHiZ2f6Sf73sBgJY7V+nabc\n",
       "QHaIiis8kn6t6hMK1MjqsW8l1MKQ9csdb2MGKG6iJ27YlxdksX6XO3VF717IlzAWh/MBz8Pxb4kJ\n",
       "Lsnzu7ut8KP8S3J+OGUcofFz3BfimDLfeOgq/Yedmwm+X8Ir4g/YKeEpuhLf9u+N01/CiPwNMdYy\n",
       "N6IDPC2dX5wvBwn+PBSM3c5d8sW2bC2+nI/nvD/3JzAO7yb43SRmdH/MgYT5eDA6m+Ps2XhMMeXb\n",
       "yIaa5+tkOv6U7gF7nY6fCTSBjXT8hi6Q7aSh5x1t6EQaftHDf7HfAOaPXrUJlAMAAAAASUVORK5C\n",
       "YII=\n",
       "\" style=\"display:inline;vertical-align:middle;\" /></a></span>"
      ],
      "text/plain": [
       "|- (b in RealNonNeg) in BOOLEAN"
      ]
     },
     "execution_count": 94,
     "metadata": {},
     "output_type": "execute_result"
    }
   ],
   "source": [
    "InSet(b, RealNonNeg).deduce_in_bool()"
   ]
  },
  {
   "cell_type": "markdown",
   "metadata": {},
   "source": [
    "## Misc Testing <a id='misc_testing'></a>"
   ]
  },
  {
   "cell_type": "markdown",
   "metadata": {},
   "source": [
    "## Testing the `RealNonNeg.deduce_member_lower_bound()` method"
   ]
  },
  {
   "cell_type": "code",
   "execution_count": 95,
   "metadata": {},
   "outputs": [
    {
     "data": {
      "text/html": [
       "<span style=\"font-size:20px;\"> <a class=\"ProveItLink\" href=\"../__pv_it/demonstrations/9cec8b3959fd691e92bdfe88f4769e6df768051e0/proof.ipynb\" style=\"text-decoration: none\">&nbsp;&#x22A2;&nbsp;&nbsp;</a><a class=\"ProveItLink\" href=\"../__pv_it/demonstrations/5c9c9841c4fb0f8251a9e775f45b112680c721fa0/expr.ipynb\"><img src=\"data:image/png;base64,iVBORw0KGgoAAAANSUhEUgAAALgAAAAcBAMAAAAgkGgMAAAAMFBMVEX///8iIiJERESYmJiqqqoQ\n",
       "EBB2dnbc3NyIiIhmZmbu7u4yMjJUVFS6urrMzMwAAADZVrDbAAAAAXRSTlMAQObYZgAAAxJJREFU\n",
       "SMfNVk1IVFEU/uZ/5jnznCGThMJpXAiWIoFCtLFlVDAuWgZDxZSLamwTguBQRFmb0UVmVryKhEjQ\n",
       "QLHU8hVBiyDHTZsERahdWCAZEzndn/dz3/DGXkOLzuK+e8+557vnnr/7AAcUPJPCv6fIW/Zpx5FK\n",
       "Eb5sIet5T8ddqFaCFWHL6lbSnhZA2oSvI6JWAl6lbCkebYa8AVcrTlYCfusP8tEZuQBXFi5bIwKt\n",
       "5fS8GSItkHsPJ1YsAs/2xM+pBj6/0Uos92URzNlBPAAeD7aUcv2XzwEkGfxEZwz+XyW+klS5oYlM\n",
       "pEsd1OfVeQS+2oFPQ1JxPk931plXm8T9DJ6AhAq4DRyz6rgDKcR7icaJvJYtQI0NtieHkAJfkvlh\n",
       "LqNzk/BPwJ9FH1HrBBa4YF8sNqGDD1VBGqTY6Gd5PiicrcO4MvBFEd7gVTGnOdetwluAlEQbWcwr\n",
       "WGD81euC5UNuyHx3ME39fUVI37g26SYeLCC8qbETzBZUq4isAy8wwvn11GHSjOgWdcnqgmUhXfZr\n",
       "335uf0HPnXcd9DOeQ+QH0IUEv9F3OoYzAri3bsYKvsauMRCjVK+lDs+oZaP1BAYoRF8KMgE/gDl+\n",
       "Nqs/txDQztgkiVGCUJPG68sLJx1mJmpB3mkGuI7tzEEm1h4EW2GYjZ9mCWkBPZtrKsmMcRFcmmKr\n",
       "43QIGRUQrFUEt6zhOWNy8QUxFe+uloBbLO89DQO83yjmHdAD6l2n4Hvp6hAC1Fc+Edz9MFvicxaR\n",
       "kVlG0zDc4s3hIm9y23TtODwkxot4TVMohSDVDGUFcFm9Vz5bPsIM6GfgKrvMJCxFRAJKs7c73fVK\n",
       "iA8vf5wKWxtOm+BxPZG6SILUpu9EKa/ZlNfgEdG9yeyZLxa/MeZYs2I0rhX3nnULuFChxrGLxI5i\n",
       "sRgt7aTX6CPzEj4xTPiwm5e/HT0TGi3M8i9LUhQhp2+vVLBvXGWJNC456RDcY/vONZqHP2W1a8aJ\n",
       "tFy8cQjuWinzWJSjRu0AJ9SOv3vmPBleA04oEK/o3+Koo10hBf8X/Qa1ksbWaRXTewAAAABJRU5E\n",
       "rkJggg==\n",
       "\" style=\"display:inline;vertical-align:middle;\" /></a></span>"
      ],
      "text/plain": [
       "|- (2 in RealNonNeg) => (2 >= 0)"
      ]
     },
     "execution_count": 95,
     "metadata": {},
     "output_type": "execute_result"
    }
   ],
   "source": [
    "RealNonNeg.deduce_member_lower_bound(two)"
   ]
  },
  {
   "cell_type": "code",
   "execution_count": 96,
   "metadata": {},
   "outputs": [],
   "source": [
    "%end demonstrations"
   ]
  },
  {
   "cell_type": "code",
   "execution_count": null,
   "metadata": {},
   "outputs": [],
   "source": []
  }
 ],
 "metadata": {
  "kernelspec": {
   "display_name": "Python 3",
   "language": "python",
   "name": "python3"
  }
 },
 "nbformat": 4,
 "nbformat_minor": 0
}