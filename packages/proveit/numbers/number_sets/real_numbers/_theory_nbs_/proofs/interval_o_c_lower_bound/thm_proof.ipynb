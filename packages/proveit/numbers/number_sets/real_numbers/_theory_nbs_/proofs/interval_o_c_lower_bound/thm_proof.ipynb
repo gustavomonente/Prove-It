{
 "cells": [
  {
   "cell_type": "markdown",
   "metadata": {},
   "source": [
    "Proof of <a class=\"ProveItLink\" href=\"../../../../../../_theory_nbs_/theory.ipynb\">proveit</a>.<a class=\"ProveItLink\" href=\"../../../../../_theory_nbs_/theory.ipynb\">numbers</a>.<a class=\"ProveItLink\" href=\"../../../../_theory_nbs_/theory.ipynb\">number_sets</a>.<a class=\"ProveItLink\" href=\"../../theory.ipynb\">real_numbers</a>.<a class=\"ProveItLink\" href=\"../../theorems.ipynb#interval_o_c_lower_bound\">interval_o_c_lower_bound</a> theorem\n",
    "========"
   ]
  },
  {
   "cell_type": "code",
   "execution_count": 1,
   "metadata": {},
   "outputs": [],
   "source": [
    "import proveit\n",
    "theory = proveit.Theory() # the theorem's theory"
   ]
  },
  {
   "cell_type": "code",
   "execution_count": 2,
   "metadata": {},
   "outputs": [
    {
     "data": {
      "text/html": [
       "Under these <a href=\"presumptions.txt\">presumptions</a>, we begin our proof of<br><strong id=\"interval_o_c_lower_bound\">interval_o_c_lower_bound:</strong> <a class=\"ProveItLink\" href=\"../../../__pv_it/theorems/fca2bf6a66f8953bf2e903cbba6493c6370729490/expr.ipynb\"><img src=\"data:image/png;base64,iVBORw0KGgoAAAANSUhEUgAAAN4AAAAZBAMAAACspI2IAAAAMFBMVEX///8QEBCIiIhmZma6urrM\n",
       "zMxUVFQiIiJERETc3Nzu7u6qqqp2dnaYmJgyMjIAAAAcRTyBAAAAAXRSTlMAQObYZgAAAzBJREFU\n",
       "SMfVlk1oE1EQxyebbPO1m1y8aBFCo1HqJbToSaUqKB6UeGkvhZb6hSKl+NFCbSV4SpXColB7c6XQ\n",
       "Sikk6EEqgiG9RdE9FKwFSxA8qCihKNh68c28bPbtts3uoRcHNvvezn/fbzMz7wPA3S4PabAtFhga\n",
       "8SIbgG2zif+bFza29s1zXgVvn1x4HkRkTxv4mjTivcH2NxeeBxHZ1wa+SIV4kxiGrAvPgwhNTTse\n",
       "RL8InRLxYjqAUnDheRChBR3zRr0hPnhCPLU8O/vIrV48iNAcEmlEF7uxDqrPP7nciGt9bhCFhfaK\n",
       "GcYkOg637eK9uetm5lquHGfBVNLEuwgwVl8Afm7BE0VkRbNxlpWBmdlxdh3TYlXqTI2akjn4kLjD\n",
       "olsh3gleOdwWavcX+89/Fnk2kVncZPjVJu82+y+7wU/dpu91cRne66dZ8QwQLwiSNUtRFHnVbkgK\n",
       "lBMCTxChG7qtrBQs3g4A/zoE6cVpi6dDDm9ylXiKEbS+e41dS/OzwHjLhsATROjG+NYsrtl4vizk\n",
       "M9R5OGoNuyrwwpVOjHYKp4q8mtIDmH3kFQUeF5UOpjLkxkeRtn4cuKflqhjPfBFeg6NeQP5NxcHj\n",
       "CWMX2Mu35HXEDEvpGHBee1pcP1Ek6f3BDnKH2aOZTA+W+z49KdZLvgD9Uc0+H15KVWit1ws8Zy/7\n",
       "0zKOGkqolSmS+i/dtK3XKJLhBwsEfSojtEMXNu/CSp23QCMMKvb5HvgbquJC7i9yXpzl11eQelnT\n",
       "1+Hv7crlcglJebBo48UTtfSSO8DEzZDiOTtU551igerbO7HHvp5F+lqTuNbHMpynsn+d10LL7BbX\n",
       "fYUmHs9oty7yUMQyLgO55SxE1mCcFQ6sM3B2i/XMbjPC/ufTes7ApB7Ul0DJ8PyVi87977FSUbg7\n",
       "wh7tlH8Z4XswrGbrvA3rtc1KAi/Q9+wInCvI1xjkPs73d8Wpo07e9GKpzN0wDHDyQNKQm6HzrTUf\n",
       "HGvQpvuRaHwHkFiCGuzv5D5gJoh+s17225Dm5EU1z+eJkHhIsHiNzhMfN5xfVO/nl0BtYMPO257z\n",
       "0tAm58/5zfYj9/Pn4D9bmu4mixyLYAAAAABJRU5ErkJggg==\n",
       "\" style=\"display:inline;vertical-align:middle;\" /></a><br>(see <a class=\"ProveItLink\" href=\"../../../__pv_it/theorems/241473c28287680500845c96c03d030afce8d9590/dependencies.ipynb\">dependencies</a>)<br>"
      ],
      "text/plain": [
       "interval_o_c_lower_bound: forall_{a, b in Real} [forall_{x in (a,b]} (a < x)]"
      ]
     },
     "execution_count": 2,
     "metadata": {},
     "output_type": "execute_result"
    }
   ],
   "source": [
    "%proving interval_o_c_lower_bound"
   ]
  },
  {
   "cell_type": "code",
   "execution_count": null,
   "metadata": {},
   "outputs": [],
   "source": []
  }
 ],
 "metadata": {
  "kernelspec": {
   "display_name": "Python 3",
   "language": "python",
   "name": "python3"
  }
 },
 "nbformat": 4,
 "nbformat_minor": 0
}