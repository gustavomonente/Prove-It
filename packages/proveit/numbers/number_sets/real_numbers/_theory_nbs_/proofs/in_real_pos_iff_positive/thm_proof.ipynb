{
 "cells": [
  {
   "cell_type": "markdown",
   "metadata": {},
   "source": [
    "Proof of <a class=\"ProveItLink\" href=\"../../../../../../_theory_nbs_/theory.ipynb\">proveit</a>.<a class=\"ProveItLink\" href=\"../../../../../_theory_nbs_/theory.ipynb\">numbers</a>.<a class=\"ProveItLink\" href=\"../../../../_theory_nbs_/theory.ipynb\">number_sets</a>.<a class=\"ProveItLink\" href=\"../../theory.ipynb\">real_numbers</a>.<a class=\"ProveItLink\" href=\"../../theorems.ipynb#in_real_pos_iff_positive\">in_real_pos_iff_positive</a> theorem\n",
    "========"
   ]
  },
  {
   "cell_type": "code",
   "execution_count": 1,
   "metadata": {},
   "outputs": [],
   "source": [
    "import proveit\n",
    "theory = proveit.Theory() # the theorem's theory"
   ]
  },
  {
   "cell_type": "code",
   "execution_count": 2,
   "metadata": {},
   "outputs": [
    {
     "data": {
      "text/html": [
       "Under these <a href=\"presumptions.txt\">presumptions</a>, we begin our proof of<br><strong id=\"in_real_pos_iff_positive\">in_real_pos_iff_positive:</strong> <a class=\"ProveItLink\" href=\"../../../__pv_it/theorems/0af02034ea44cb390e04120d0ecd8afe8794a9b00/expr.ipynb\"><img src=\"data:image/png;base64,iVBORw0KGgoAAAANSUhEUgAAAPsAAAAbBAMAAABIGOQXAAAAMFBMVEX///8QEBCIiIhmZma6urrM\n",
       "zMxUVFQiIiJERETc3Nzu7u6qqqp2dnaYmJgyMjIAAAAcRTyBAAAAAXRSTlMAQObYZgAAA/xJREFU\n",
       "SMfNV19oW1UY/5rkJjc3N23fNgVLOp2IMAitg03qrAj1xbEMxE0QeqlVNjdkrluDdg9BRNOOSlCo\n",
       "fRnNKGwQZlPcYAwEL0xfOiaVDSdlk+jWqh3Lythga8vw+86/e9Pc5NK8uA/uLycn55zfOd/5nd+5\n",
       "AXiS4y0FNcPCJ9HI2AHfFpoloXZk8OlphD5k+bVozkuoT2/ONsJ/2a9Bh4L69PCp508nanaK5RAi\n",
       "uK4Sfbvh3Si6LGFtxD/OPv5z1KF/1qu7kfEc1dzyM8B+2vwkwCWqWfSmN5MSqrfFsLTREQiXy23l\n",
       "OwATnm1ynqPehtM5mKKFLQGM06f3NKFpWkJV6FEbMmNq9RGvRldcibjjJK4VzBKYdFiGuLDMaW/6\n",
       "ibwEFb+n0yVJv71Z0QflAqjqbVH+xNXvzGE1cQtiy2C0YnEbTmamUPi2hkB+VSBj74uu1W/XFX2g\n",
       "VdRvod9SXDmHKk75MbGMFgtCKwC3sNiOz8Ns9lgN+h0Sol0dT7McLrqTb/Uo+pDQp5ZxWpGy4JuL\n",
       "7YI2PsALxSSE7gFcxOIurHkfYLgGfVbCa7nmJSqHcy762MCiotce8OrdG9IYbYxIRzMIPQV31WFb\n",
       "YL0nbNCQ/g8s9mKaXgej5KI8/8J7f8nyggDjGbG5ukt6G9K3WYmNGb3PF/whz8FxKceTs7TB0uYW\n",
       "mJaSoK0iDxW7sRUEpGcZP3TOBkyYkRY+ICC4DBFWt7uMIaT3U3LEpWxGbwyKrxGabBMO/moeDjv0\n",
       "/+Sd5PdSsZsMM6JkfaEASD8np3NTQFMGikxO4+6D99Jel0Hx1Y/ZfDIHQdBvBOPBmuSj9GIrnJ5W\n",
       "Hy3RQZl8fh5CpBWit0WHLwQUbfiRG4GbXv/Ouei0R/zzGqWn/HdKJN9YhdgSVEpPz0AchfoG7T3N\n",
       "Z7gf53tUW2Znlug7pc/tE1Ccho+YSwcTLnrN2urkVSg/Tl2Nf0FIz1iBcOlC5cHjtsOkR8qHs3g+\n",
       "g0ntEEyyZsEPjshB2wXoifigyWqGXKYLl8Ipl5Xx6KdJTivL/gyuWXal7eAYJ7Ffl7SUlgQ5a8CC\n",
       "PdlsNhEwv74qG7LZIRh9m8eeYzWnPs+rKyelf7UiWyrXm3IUEsJlndr0Tl93penCmU141mGeux4O\n",
       "hSMWc/pcPsyTH3tX2iyJh4OKN79Ml7xuF7krUXwKHqZbdRuSJaoT3pTr3Qlmiu/9jJRe0JbgF8V8\n",
       "/Sun+jLF+RrqKg/1ff8KALnF+V/syR1Sz60S/OI3z1sxV7sDbVJ8zdtWAPe+ouKAAp84uo7XDRbk\n",
       "85GUz6hTCupH3F7ny1acEnPdb9hYUkL9GG/kTTOa8W1yTkHdeLkR+mD+f/8b8x/8GA0VrBlwlgAA\n",
       "AABJRU5ErkJggg==\n",
       "\" style=\"display:inline;vertical-align:middle;\" /></a><br>(see <a class=\"ProveItLink\" href=\"../../../__pv_it/theorems/0921e2c59d83f48a2cb88a24fba3b40314ca0efe0/dependencies.ipynb\">dependencies</a>)<br>"
      ],
      "text/plain": [
       "in_real_pos_iff_positive: forall_{a in Real} ((a in RealPos) <=> (a > 0))"
      ]
     },
     "execution_count": 2,
     "metadata": {},
     "output_type": "execute_result"
    }
   ],
   "source": [
    "%proving in_real_pos_iff_positive"
   ]
  },
  {
   "cell_type": "code",
   "execution_count": null,
   "metadata": {},
   "outputs": [],
   "source": []
  }
 ],
 "metadata": {
  "kernelspec": {
   "display_name": "Python 3",
   "language": "python",
   "name": "python3"
  }
 },
 "nbformat": 4,
 "nbformat_minor": 0
}