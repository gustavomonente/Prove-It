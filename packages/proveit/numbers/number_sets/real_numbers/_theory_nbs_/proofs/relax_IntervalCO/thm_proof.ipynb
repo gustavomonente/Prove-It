{
 "cells": [
  {
   "cell_type": "markdown",
   "metadata": {},
   "source": [
    "Proof of <a class=\"ProveItLink\" href=\"../../../../../../_theory_nbs_/theory.ipynb\">proveit</a>.<a class=\"ProveItLink\" href=\"../../../../../_theory_nbs_/theory.ipynb\">numbers</a>.<a class=\"ProveItLink\" href=\"../../../../_theory_nbs_/theory.ipynb\">number_sets</a>.<a class=\"ProveItLink\" href=\"../../theory.ipynb\">real_numbers</a>.<a class=\"ProveItLink\" href=\"../../theorems.ipynb#relax_IntervalCO\">relax_IntervalCO</a> theorem\n",
    "========"
   ]
  },
  {
   "cell_type": "code",
   "execution_count": 1,
   "metadata": {},
   "outputs": [],
   "source": [
    "import proveit\n",
    "theory = proveit.Theory() # the theorem's theory"
   ]
  },
  {
   "cell_type": "code",
   "execution_count": 2,
   "metadata": {},
   "outputs": [
    {
     "data": {
      "text/html": [
       "Under these <a href=\"presumptions.txt\">presumptions</a>, we begin our proof of<br><strong id=\"relax_IntervalCO\">relax_IntervalCO:</strong> <a class=\"ProveItLink\" href=\"../../../__pv_it/theorems/c4616f5e3f8fde3d1d0dddf0b8892ee5635d76b00/expr.ipynb\"><img src=\"data:image/png;base64,iVBORw0KGgoAAAANSUhEUgAAAPoAAAAZBAMAAADqEi4iAAAAMFBMVEX///8QEBCIiIhmZma6urrM\n",
       "zMxUVFQiIiJERETc3Nzu7u6qqqp2dnaYmJgyMjIAAAAcRTyBAAAAAXRSTlMAQObYZgAAA9dJREFU\n",
       "SMfdlltoE0EUhk82u7lssokPvqgoodUq9cLSgiLeooKgeIk+6IvQUO+i0gc1WkRiX1wVYfGhFkEZ\n",
       "KShGMUEfRFFcvKDU24KCWlSCoKKChKKgFcQzM0l2ksZuFfriQHb2DJP5dv5z5swBcG+bUiYMQ5NT\n",
       "+4YyrQ2GqXX+V/STtQanvau0tQ9xuMrpedq9dqFH2J9sV7iarjV6R5xxAPcSjoPPZPQHdOyTCz2c\n",
       "wy5CXOkR040OEZ3R1Tyjd+EzmHahswld7sI/BVd6NMfocIvR6Y7Y1gb1OxXngTt9b4V7D6b2D6Sv\n",
       "IJx+mtG1nkzmuGvUvcpkzrkHX1CconSQWnu/B5weibOY/24Y+1zpUcM4aAlD/kMCpvwmoU/Vui0L\n",
       "qKpwkQjKB2c3jebG+7pZjB7WGX0DQHkp+csf6L4EBMSI8pVeluchFC8ZATwVF+B5jAm+RfT7fDNS\n",
       "4DH/i2RNStfyjL6Qxx9vt4v9lUnr3op0WYeLUItOtzCzrAjGTw88IYupkRbo6ljwcjvUD9EYpYfa\n",
       "GN0PknOQP9PPu95sS2HoiYnZpg2mlszzt+c49AgCz5QMD65KwOD+GPcFW5Hu7Qc/X86bh6xF6UqB\n",
       "0cO239nTD/y9uJoBpPfaIv1ROeNpR04Qhx41hVPuYT7o4xEo7t2ThmyidNxX5AR6ML8aR7sbaDpU\n",
       "+hoIigyMbon0U0oSP7R+1Qb0FFNebdpB12up2+poR5UH5Rs3Rgj0rAU3i19rwzxC6TJXHg6tR7V3\n",
       "Kf0U2i7pLKsivVkX6YFO/EejL7+Tp2YfnE200KCeSOohlBSi7ppUgEZqNIn0HOwIMYWicYwBIerg\n",
       "Mq7u1RXGiGn5bkb3btxZccuEZuAjEbFB1Tm9GdbQlw54A3LaCUH5Z6AQtMtCFOm47u4wZBHoswM6\n",
       "o3stTo9iPHhyUpI5zptcYxhGTAofe1Z5x/UVvazsMYwOpI+BBjoyEqaDUjozqKba2ljP7yx18xIn\n",
       "5lsndI4HfzuONj0qZpsEp2uoYNYM9GIXJZ6cjysfWksq6L300QIJYDL71B9wNIMv/fgZcrJmppXv\n",
       "V2faayWNkH5WuN89Zssy6CJ+8gLCCe73Hqv6fg8WHoMFd7nyo5SvdvAwtGtp0Kwh3jKWQL8l0OXW\n",
       "S3NgZU7ZhhOO0Gzz2OqeW01Xty+dQiCQY/RFk+ttZQysfogudJLdoDesGnPoxRtWbDxOJPT7YLXN\n",
       "JOZ3nrn4GR5idaGBQw+Y1fSQOeTKqkhn9RHccKmsJlZVVhJWVi8H1HUa/C2dHS1VH9aqMjWwnvd/\n",
       "FLZC/o0tp3b/Bo3SEu+pT1MDAAAAAElFTkSuQmCC\n",
       "\" style=\"display:inline;vertical-align:middle;\" /></a><br>(see <a class=\"ProveItLink\" href=\"../../../__pv_it/theorems/fa027539520c5e3f2dd4840d5054cfaf5c99bb4a0/dependencies.ipynb\">dependencies</a>)<br>"
      ],
      "text/plain": [
       "relax_IntervalCO: forall_{a, b in Real} [forall_{x in [a,b)} (x in [a,b])]"
      ]
     },
     "execution_count": 2,
     "metadata": {},
     "output_type": "execute_result"
    }
   ],
   "source": [
    "%proving relax_IntervalCO"
   ]
  },
  {
   "cell_type": "code",
   "execution_count": null,
   "metadata": {},
   "outputs": [],
   "source": []
  }
 ],
 "metadata": {
  "kernelspec": {
   "display_name": "Python 3",
   "language": "python",
   "name": "python3"
  }
 },
 "nbformat": 4,
 "nbformat_minor": 0
}