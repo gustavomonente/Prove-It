{
 "cells": [
  {
   "cell_type": "markdown",
   "metadata": {},
   "source": [
    "Proof of <a class=\"ProveItLink\" href=\"../../../../../../_theory_nbs_/theory.ipynb\">proveit</a>.<a class=\"ProveItLink\" href=\"../../../../../_theory_nbs_/theory.ipynb\">numbers</a>.<a class=\"ProveItLink\" href=\"../../../../_theory_nbs_/theory.ipynb\">number_sets</a>.<a class=\"ProveItLink\" href=\"../../theory.ipynb\">real_numbers</a>.<a class=\"ProveItLink\" href=\"../../theorems.ipynb#in_IntervalCC\">in_IntervalCC</a> theorem\n",
    "========"
   ]
  },
  {
   "cell_type": "code",
   "execution_count": 1,
   "metadata": {},
   "outputs": [],
   "source": [
    "import proveit\n",
    "theory = proveit.Theory() # the theorem's theory"
   ]
  },
  {
   "cell_type": "code",
   "execution_count": 2,
   "metadata": {},
   "outputs": [
    {
     "data": {
      "text/html": [
       "Under these <a href=\"presumptions.txt\">presumptions</a>, we begin our proof of<br><strong id=\"in_IntervalCC\">in_IntervalCC:</strong> <a class=\"ProveItLink\" href=\"../../../__pv_it/theorems/77b93f93f50d461b1ca94db30b5228e2c6346cb10/expr.ipynb\"><img src=\"data:image/png;base64,iVBORw0KGgoAAAANSUhEUgAAAQEAAAAWBAMAAAAyZjRZAAAAMFBMVEX///8QEBCIiIhmZma6urrM\n",
       "zMxUVFQiIiJERETc3Nzu7u6qqqp2dnaYmJgyMjIAAAAcRTyBAAAAAXRSTlMAQObYZgAAA1NJREFU\n",
       "SMe1lk1oE0EUx192s9l8bJK7ICxVq/RQQosnv6IeRFDaXtSDYKkfIEjxoBarSIWCKV6CB+1FXClU\n",
       "KIUseugHoiEKQkRdsGAtKEFQoaUlFARbQXzzZjY7SbZWJB3ozs7r/83+MvOftwuwEe2+X7D1a/U4\n",
       "/j0NU9iX2OBTYwGiA37Rl7Li5kUAIw2hLMBrFphvLEEiux4BJFJEEMUFGMZhZKCxBO9hXYKkTQRQ\n",
       "QBgLb+3GElytGs329ZXqCDosTvAQ/VAcG7vXWIDIRXl0osVvDV4BJ0jg389M5npjCRTc42jT+QMF\n",
       "8ty8tAuR3W2b+OBb0y4iMFB7FmDIFQWX1po1ve5zvdywAzAOH8wbbBDKSgT7s4kyPwu/rVyWEcRx\n",
       "gw6SIUV7UT3rxI7TX/hdtVcn654/KeXqaKsivLMOE47kxOhmUPlEsVVImowghjumg+JUVAvSkX3a\n",
       "7igGFM16gmdmLQCLVHIDOLMFGT7oWsImnKiugs5T1RLk8oxAwzUxHN2baUWy8NQYIMGcU0fw2akF\n",
       "oMiKTACwzAfD0hoEBiDX6ZaDDtsliJSOYWikmdVMbbkZTwkUdjZ3BlPMU0iQlwhI1UoATON2FBG5\n",
       "YhdA+yFwJIJcHp6LcuDAPosRBNm5GTqDS35ZW2VP7Gc+VqxePZ0ATtCe8ghIdYiKB2lEJyKU6zpx\n",
       "WikDHUPVlAhs6I2RM5Np9ITrRHiCGGpKYzBhk0U0WMSfS7Oq5y5JTiTV+CC7JY3oeITnsoYnLPgr\n",
       "XI7wzbrmEaDkigE5lIWccIoIVLbESaQM2Eo37aDaLexwPJPJmIpxZ0Yi4Krx27JlWEcRN5dWNtrT\n",
       "skW87kYHrcpZ6Nl2dyvo/biabW9ERWJbGUdFLhuewy5pBWgPyxqE+C7ETloegVApC0JT6VhE5NZX\n",
       "5SO3aqrytOgZwaOKfbOnjsKwpVuzeH1glAwwOrkPipITScWYF4E0QsojLPff3kx5iaBQKWg9j/dA\n",
       "l61dyON1dKZQBGArO/E2P7LXIyAVFRSLNK6UIizXLYp/fTtHTY9AKobUbOkKCvrA+5f/+9v+ny+U\n",
       "OHgENaz8oMR8f4DvnP7Stb7Sttd8pSn4lfax5sOtGnENgkk8JBlLlkqRDWypDZv5D6uDEw7hpIx4\n",
       "AAAAAElFTkSuQmCC\n",
       "\" style=\"display:inline;vertical-align:middle;\" /></a><br>(see <a class=\"ProveItLink\" href=\"../../../__pv_it/theorems/5bb9f19ccf28c953800e97c7f78c532d5921f3720/dependencies.ipynb\">dependencies</a>)<br>"
      ],
      "text/plain": [
       "in_IntervalCC: forall_{a, b, x in Real | a <= x, x <= b} (x in [a,b])"
      ]
     },
     "execution_count": 2,
     "metadata": {},
     "output_type": "execute_result"
    }
   ],
   "source": [
    "%proving in_IntervalCC"
   ]
  },
  {
   "cell_type": "code",
   "execution_count": null,
   "metadata": {},
   "outputs": [],
   "source": []
  }
 ],
 "metadata": {
  "kernelspec": {
   "display_name": "Python 3",
   "language": "python",
   "name": "python3"
  }
 },
 "nbformat": 4,
 "nbformat_minor": 0
}