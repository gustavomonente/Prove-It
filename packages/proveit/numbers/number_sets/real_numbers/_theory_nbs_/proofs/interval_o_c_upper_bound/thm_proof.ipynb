{
 "cells": [
  {
   "cell_type": "markdown",
   "metadata": {},
   "source": [
    "Proof of <a class=\"ProveItLink\" href=\"../../../../../../_theory_nbs_/theory.ipynb\">proveit</a>.<a class=\"ProveItLink\" href=\"../../../../../_theory_nbs_/theory.ipynb\">numbers</a>.<a class=\"ProveItLink\" href=\"../../../../_theory_nbs_/theory.ipynb\">number_sets</a>.<a class=\"ProveItLink\" href=\"../../theory.ipynb\">real_numbers</a>.<a class=\"ProveItLink\" href=\"../../theorems.ipynb#interval_o_c_upper_bound\">interval_o_c_upper_bound</a> theorem\n",
    "========"
   ]
  },
  {
   "cell_type": "code",
   "execution_count": 1,
   "metadata": {},
   "outputs": [],
   "source": [
    "import proveit\n",
    "theory = proveit.Theory() # the theorem's theory"
   ]
  },
  {
   "cell_type": "code",
   "execution_count": 2,
   "metadata": {},
   "outputs": [
    {
     "data": {
      "text/html": [
       "Under these <a href=\"presumptions.txt\">presumptions</a>, we begin our proof of<br><strong id=\"interval_o_c_upper_bound\">interval_o_c_upper_bound:</strong> <a class=\"ProveItLink\" href=\"../../../__pv_it/theorems/9601ac225ff5d3cbf45591d8e6a87059d7898a670/expr.ipynb\"><img src=\"data:image/png;base64,iVBORw0KGgoAAAANSUhEUgAAANwAAAAZBAMAAACoUV21AAAAMFBMVEX///8QEBCIiIhmZma6urrM\n",
       "zMxUVFQiIiJERETc3Nzu7u6qqqp2dnaYmJgyMjIAAAAcRTyBAAAAAXRSTlMAQObYZgAAA1FJREFU\n",
       "SMfVlk1oE1EQxycf23ztJhcvUoTQQipWMLSoiFQDgp5s46X1UGjxE0RKETVQe4jiIVWqi4j2Iq4t\n",
       "tNJLFz1IQSTEQyF+sIeCtaAsgoqKIuLB5iDOvLebvE3T7h56cSC7mzf/t7+3M/M+ANztdE6FjbBg\n",
       "btSLbBg2yu7817iIsaZrnuNMur1zwXkQMXvYsDV6GQfcpDLcC2r46oLzIGL2pb6hLUvXeBqZJsNN\n",
       "UAzyLjgPIjIlXfdZC0l2T+h4KTFcXAOQdRecBxFZyDlhIrutVPZgd3jAcEp5dvauW6l4EJE5JZEh\n",
       "e4ALLKIZVpl/CoVR18pcJYoIz+/tGLbibzJ1ezsLoXQjYws+tezF6KQZ7iTAWHXe/1gDJ4qYFe2H\n",
       "biwBO6vjmK6ici7ECrmQrabwrzangmIy3AFeNNyeW/cnW49/EHEOEVhlzYwGbeMu4V9NrgSZs22b\n",
       "LYlVIJGE2DDDhcBfm5zfaDBPOw2/DOWkgBNE5Ib+ao+4XsNtQi+E7X9vytZDwIS5Ikg/GU42QrVR\n",
       "r+BvaX4WELdsCDhBRG4KrmUJ1YED+hDLnu2xRpSGHt3GRcxebJpKfaT0/kppQUo84YoCjotKO1NZ\n",
       "5qamaMcQZWeg5YwYTGyo5gy6+agSBuzXIMiDCWMnsO8FqUKUEX86DhzXmRbXTBL5taFQhrkj2DST\n",
       "HaDp1Ka1iqUS03agzu559CrDZaJbwC4VeIx9A2mJXhpOKuYUwwVOnXcs0SSS4DuGgVUwAjqhjx6v\n",
       "wPsqDgutR78J94QtgD61yQjj0ANFjqNg+3T/ID76MoHBvkKhkPTLtxYdOJ4RTC1zB1HcDCmer11V\n",
       "3CGA6ZbJrvptIdrxijKY5TgFv31ODS/jLaH59CYezFi/JuJIhNmWgLmlPERXYBxrBirIzTdexJw2\n",
       "I+x3PnXgMExoIW0J5CzPXblYv9/dl02Zu6PYtFn6bUSuwYiSr+Lql2iHlQRc8NijLjiiS2eRcZ2m\n",
       "+evi1L563PRiqczdMAJwsL3VkJqh92VtIogrT/Rzjqy2tJirdnO+pPoxOevs5szdbi8Y7Jpff3tl\n",
       "FlbrcTHV8+EhLB4Jarh1Dg9vV51VFO9nlaD1XsOJ25CjUa7BOXO+0Qbkes68+A80qvH49IWqnQAA\n",
       "AABJRU5ErkJggg==\n",
       "\" style=\"display:inline;vertical-align:middle;\" /></a><br>(see <a class=\"ProveItLink\" href=\"../../../__pv_it/theorems/fa4915b781697c977ce8be893d7ad624e0ea78690/dependencies.ipynb\">dependencies</a>)<br>"
      ],
      "text/plain": [
       "interval_o_c_upper_bound: forall_{a, b in Real} [forall_{x in (a,b]} (x <= b)]"
      ]
     },
     "execution_count": 2,
     "metadata": {},
     "output_type": "execute_result"
    }
   ],
   "source": [
    "%proving interval_o_c_upper_bound"
   ]
  },
  {
   "cell_type": "code",
   "execution_count": null,
   "metadata": {},
   "outputs": [],
   "source": []
  }
 ],
 "metadata": {
  "kernelspec": {
   "display_name": "Python 3",
   "language": "python",
   "name": "python3"
  }
 },
 "nbformat": 4,
 "nbformat_minor": 0
}