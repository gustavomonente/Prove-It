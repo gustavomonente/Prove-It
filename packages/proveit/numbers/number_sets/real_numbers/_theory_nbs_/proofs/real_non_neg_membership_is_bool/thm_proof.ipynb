{
 "cells": [
  {
   "cell_type": "markdown",
   "metadata": {},
   "source": [
    "Proof of <a class=\"ProveItLink\" href=\"../../../../../../_theory_nbs_/theory.ipynb\">proveit</a>.<a class=\"ProveItLink\" href=\"../../../../../_theory_nbs_/theory.ipynb\">numbers</a>.<a class=\"ProveItLink\" href=\"../../../../_theory_nbs_/theory.ipynb\">number_sets</a>.<a class=\"ProveItLink\" href=\"../../theory.ipynb\">real_numbers</a>.<a class=\"ProveItLink\" href=\"../../theorems.ipynb#real_non_neg_membership_is_bool\">real_non_neg_membership_is_bool</a> theorem\n",
    "========"
   ]
  },
  {
   "cell_type": "code",
   "execution_count": 1,
   "metadata": {},
   "outputs": [],
   "source": [
    "import proveit\n",
    "theory = proveit.Theory() # the theorem's theory"
   ]
  },
  {
   "cell_type": "code",
   "execution_count": 2,
   "metadata": {},
   "outputs": [
    {
     "data": {
      "text/html": [
       "Under these <a href=\"presumptions.txt\">presumptions</a>, we begin our proof of<br><strong id=\"real_non_neg_membership_is_bool\">real_non_neg_membership_is_bool:</strong> <a class=\"ProveItLink\" href=\"../../../__pv_it/theorems/7486b1d2895f6540914e1bc9164b02699cc7fe2a0/expr.ipynb\"><img src=\"data:image/png;base64,iVBORw0KGgoAAAANSUhEUgAAALUAAAAcBAMAAADVbuO8AAAAMFBMVEX///8QEBCIiIhmZma6urrM\n",
       "zMxUVFQiIiJERETc3Nzu7u6qqqp2dnaYmJgyMjIAAAAcRTyBAAAAAXRSTlMAQObYZgAAArxJREFU\n",
       "SMetlD9oE2EYxl/z93JNahGHQJeqqBA6ZLFkUDktCoKHqWDpICSIHVxEhJqhWm8ImNah52QGoYdC\n",
       "kFJooIOiS4kOEq1GEdqhwllwKbRGUdC4+N19f/Ldl5zJSZ/h6fHrk/c+3u+9F+D/NTgIO6/TuuWx\n",
       "5Z6s558GFWouigylkYcVaIDPJeLGR5m5Fk+h4otp6IeAy9Hd+CYzV8mvFMjocAtgxSXRnvsHqP2r\n",
       "+FsjY8B11BmjfcDipvXwiadzBjVRq/HZ7XgN93PLOvce9JB0Zg7HZz/fUDB/3dKAF8xaZJZgbM16\n",
       "68O7dr9/oNbXxcx5eeYY5kXrajT+n/3MWqQ9ACmCbmkhT+cEYFLMqHBQwrwXHSNa5megQa2ptVzO\n",
       "JLX9ugmP8nZbkvZ8p8SMCs8lzGPV+fn7fJ1YHzWmsUTz3H5dgwvku7Qbt0/MqPDyMeG/CoWbjjEx\n",
       "icn7r5ys2DOxyfUkJE7uOUPIqIGJccLR32k+K2nEFmB1YMoiIZ2r/eS4MEGZtJA5cfubQvgwyCaf\n",
       "7c0Sq8I744z9tuY93ctNobt5WkCir5hThIwKK+uEh8FXcwx9kpgBBUxGtpHIXQ5L4uAvKkJGBSlQ\n",
       "wzxaCzuyvUlq8B2TIjeD/lOaUBufu8ifW4Is5hHTWkuVI4fSpN9ZasGfmOzi53vmg1A7owsZFULW\n",
       "127z6ctoVo2rYbJUQxqxZ746JMCxW1DtUX+63ZxwGXTu2DLhS9fQEWGLbd4+bIE/Uj2Cb2KS++aj\n",
       "5XFn7fcgZC7CmyHKd9uv/M02bwObfClxgOywUt6gu+oLFL6WHbVTzgzdVZjHLBisB2l4LzOms3dy\n",
       "ptu23XDJbLDLjppR+nyUWTeSG5146WOlSp9HmHWjWNYLD5WpdaNw2gu3V4Bsdll73RtfYtZZEc0b\n",
       "71GodZbf8MZ3Sn8BS3TaJfQ5/QIAAAAASUVORK5CYII=\n",
       "\" style=\"display:inline;vertical-align:middle;\" /></a><br>(see <a class=\"ProveItLink\" href=\"../../../__pv_it/theorems/13bd9a5e03411367d0ed9b2ee7e9905d9ae9afee0/dependencies.ipynb\">dependencies</a>)<br>"
      ],
      "text/plain": [
       "real_non_neg_membership_is_bool: forall_{x} ((x in RealNonNeg) in BOOLEAN)"
      ]
     },
     "execution_count": 2,
     "metadata": {},
     "output_type": "execute_result"
    }
   ],
   "source": [
    "%proving real_non_neg_membership_is_bool"
   ]
  },
  {
   "cell_type": "code",
   "execution_count": null,
   "metadata": {},
   "outputs": [],
   "source": []
  }
 ],
 "metadata": {
  "kernelspec": {
   "display_name": "Python 3",
   "language": "python",
   "name": "python3"
  }
 },
 "nbformat": 4,
 "nbformat_minor": 0
}