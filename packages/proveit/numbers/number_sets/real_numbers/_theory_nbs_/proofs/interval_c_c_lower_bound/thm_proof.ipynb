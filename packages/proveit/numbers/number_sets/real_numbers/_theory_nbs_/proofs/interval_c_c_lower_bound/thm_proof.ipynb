{
 "cells": [
  {
   "cell_type": "markdown",
   "metadata": {},
   "source": [
    "Proof of <a class=\"ProveItLink\" href=\"../../../../../../_theory_nbs_/theory.ipynb\">proveit</a>.<a class=\"ProveItLink\" href=\"../../../../../_theory_nbs_/theory.ipynb\">numbers</a>.<a class=\"ProveItLink\" href=\"../../../../_theory_nbs_/theory.ipynb\">number_sets</a>.<a class=\"ProveItLink\" href=\"../../theory.ipynb\">real_numbers</a>.<a class=\"ProveItLink\" href=\"../../theorems.ipynb#interval_c_c_lower_bound\">interval_c_c_lower_bound</a> theorem\n",
    "========"
   ]
  },
  {
   "cell_type": "code",
   "execution_count": 1,
   "metadata": {},
   "outputs": [],
   "source": [
    "import proveit\n",
    "theory = proveit.Theory() # the theorem's theory"
   ]
  },
  {
   "cell_type": "code",
   "execution_count": 2,
   "metadata": {},
   "outputs": [
    {
     "data": {
      "text/html": [
       "Under these <a href=\"presumptions.txt\">presumptions</a>, we begin our proof of<br><strong id=\"interval_c_c_lower_bound\">interval_c_c_lower_bound:</strong> <a class=\"ProveItLink\" href=\"../../../__pv_it/theorems/20af298bfbd416cb812b99b6b7c1db162404a6750/expr.ipynb\"><img src=\"data:image/png;base64,iVBORw0KGgoAAAANSUhEUgAAANwAAAAZBAMAAACoUV21AAAAMFBMVEX///8QEBCIiIhmZma6urrM\n",
       "zMxUVFQiIiJERETc3Nzu7u6qqqp2dnaYmJgyMjIAAAAcRTyBAAAAAXRSTlMAQObYZgAAAzJJREFU\n",
       "SMfVlk1oE0EUgF823SZNdjcXL1qE0GiUegktelKJCooHJV5aD0JLtYoipRTbSK0lCMKqFBaF2psr\n",
       "BStFTNCDVARDeouieyhYC5bgH6gooSjYenHeTHZ3dvuzK/Tig83My3vZL/PemzcD4C1nshqsh9Rl\n",
       "h/y49cJ6yej/jGswVrdNMVwFh3ceOB9OKPfXsNVrFPcC5189cD6cUL64dKHfnkcqFDeGQch54Hw4\n",
       "EZFTTv1BH6+VKE7RAaSCB86HE5GQc7/cuuxQ71KcXJ6cvO1VKj6ciDg9Rr85rUqaVuZvVR3yrEy3\n",
       "00VuIfNmDBMY8t0tm6hy/KOVtaaz+0kkpRTFdQNcs/b9j1VwvBNKpzk5SirATOoIefZpShXn4at2\n",
       "CuFNfJhktkJxB1jRMJmujU+2n3zP4xxOPA7/s4m7RFayGYJUFfp006UMr/XDANFeiguBYO9OjHfk\n",
       "WashSFCOczjOCc02TinYuA0AwSUIsd/JQyZPBxUHsUpxkhGy//UieWanJoHg5gwOxzmh2cbFNAcu\n",
       "kIN8hmnRD1Z+FzhcQ6WNKOPJT/jVQlKvw8wjrsjhmFNpZzJDzQQXaenB93Y0neODmS/Cc6sQPtfA\n",
       "4i+qsmDCtVMkQv3iElIGhZQCDNea4nsmOgl6Tyit1HI3kenAaG3TE3yp5AvQEzVXJappHJ4KVWi2\n",
       "SgUek9cFUyK+NByXK+MUFzx9wdGi0UmE7yQMNVwrtOPkCsxbuGn6ggHJbtnduKo/4Sr27mCR4WIk\n",
       "t4GCgOkIpIOd7aqqxgXp5owDF4vXUkvNBNcISZavXRbuEIlS19bRLc5tFOlqTmB3VzIMJ5Og5LXw\n",
       "HBlieqBQz4IZPaHzOHQi2Rahnq0usggjpGRgiXBzKzcxl0xw511A6zgCY3pInwUpw3JXLrrPuztS\n",
       "RWJmsrqN4k+j4ToMyjkL527RTilxuLquR3vgWEE8Txg3cJu/Ko7vdePuzZTKzExwB3ckDLER2l7a\n",
       "G4FvPA+zKMsPIF5YzxcwOauf5gLLHdtb9DPn53gNa25cVPN9eejkbgQ2bq3Lw9tldxUZ/hVnOHHr\n",
       "czXKLr9nDq90AHnfMwf+Ah6V8L3rkFnYAAAAAElFTkSuQmCC\n",
       "\" style=\"display:inline;vertical-align:middle;\" /></a><br>(see <a class=\"ProveItLink\" href=\"../../../__pv_it/theorems/c8f3f9de5df5a4c1a5cc2c7dbc18816a11bd5ad70/dependencies.ipynb\">dependencies</a>)<br>"
      ],
      "text/plain": [
       "interval_c_c_lower_bound: forall_{a, b in Real} [forall_{x in [a,b]} (a <= x)]"
      ]
     },
     "execution_count": 2,
     "metadata": {},
     "output_type": "execute_result"
    }
   ],
   "source": [
    "%proving interval_c_c_lower_bound"
   ]
  },
  {
   "cell_type": "code",
   "execution_count": null,
   "metadata": {},
   "outputs": [],
   "source": []
  }
 ],
 "metadata": {
  "kernelspec": {
   "display_name": "Python 3",
   "language": "python",
   "name": "python3"
  }
 },
 "nbformat": 4,
 "nbformat_minor": 0
}