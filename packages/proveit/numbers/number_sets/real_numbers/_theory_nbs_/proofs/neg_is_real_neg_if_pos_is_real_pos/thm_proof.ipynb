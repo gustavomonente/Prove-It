{
 "cells": [
  {
   "cell_type": "markdown",
   "metadata": {},
   "source": [
    "Proof of <a class=\"ProveItLink\" href=\"../../../../../../_theory_nbs_/theory.ipynb\">proveit</a>.<a class=\"ProveItLink\" href=\"../../../../../_theory_nbs_/theory.ipynb\">numbers</a>.<a class=\"ProveItLink\" href=\"../../../../_theory_nbs_/theory.ipynb\">number_sets</a>.<a class=\"ProveItLink\" href=\"../../theory.ipynb\">real_numbers</a>.<a class=\"ProveItLink\" href=\"../../theorems.ipynb#neg_is_real_neg_if_pos_is_real_pos\">neg_is_real_neg_if_pos_is_real_pos</a> theorem\n",
    "========"
   ]
  },
  {
   "cell_type": "code",
   "execution_count": 1,
   "metadata": {},
   "outputs": [],
   "source": [
    "import proveit\n",
    "theory = proveit.Theory() # the theorem's theory"
   ]
  },
  {
   "cell_type": "code",
   "execution_count": 2,
   "metadata": {},
   "outputs": [
    {
     "data": {
      "text/html": [
       "Under these <a href=\"presumptions.txt\">presumptions</a>, we begin our proof of<br><strong id=\"neg_is_real_neg_if_pos_is_real_pos\">neg_is_real_neg_if_pos_is_real_pos:</strong> <a class=\"ProveItLink\" href=\"../../../__pv_it/theorems/ed9088b291cee7827f4bc6bf44af2e9f737e2c860/expr.ipynb\"><img src=\"data:image/png;base64,iVBORw0KGgoAAAANSUhEUgAAALMAAAAaBAMAAAAOKXDmAAAAMFBMVEX///8QEBCIiIhmZma6urrM\n",
       "zMxUVFQiIiJERETc3Nzu7u6qqqp2dnaYmJgyMjIAAAAcRTyBAAAAAXRSTlMAQObYZgAAArtJREFU\n",
       "SMdjYCAChDCQCpiIVMeaQLLRLERq4VtAstEMZ4lTZgQi5qKKcU/Ar4cd6JwHIMZdfKo4fwEJrgY0\n",
       "0UxULm9hx7+HvUiBbcDAcBrEeIXPaB4DUKCgu3IdeqhxJbD2djGwdABBF9A9HxgYZoDc1YDPaMYN\n",
       "QOIyhoUKqHwOzgMMDdMQ/GpIHPFswGf0fFAsVqKLcglAQ6K9vA5mtCUfQt4CKHVq1arpeGPkIshf\n",
       "BRjCTyAJs2kBwtWWHAhpRSD+0dFRgyWAEUw7aKzAweTDikDzDkOCfAFSgCS4IRT5AyVSGRg6MY1m\n",
       "RjA7QBovIGUHSYb3QOoeakIBGs1djJQc4gMYGJwZuB7gNfoZKJkixcbCC6CAZNgO5jQgjBYvf40c\n",
       "Qw5AXQxMSE5i2K6R/AjV6GJQKgEqXPcOBJ4y2C9gKAI5CxzUciAxiNFHDLqQzFkP1MFzgR0e63uM\n",
       "LzDxMJxS4DE2N7aGiT6GGg0DEgxcX2FGcyK5+oBJBJqrOR+Ewbg3dq5iABp96wKKq9tQA4TrDwM3\n",
       "MD8wuIN5AkhGc6xFSuvxoDzWmQIkFqs9ZWABJQOQ0QdQjM5AjUau3wxsD3bCotEIyWjWBFPUFMKw\n",
       "GZhmuUpZfzGAEzzQaGMDFKMVYZkdCpoYricALbeBFEMbEBmd4TRbAEpuYOAHeoPZgLWAYTHYaOa0\n",
       "EtRoBNnPgpRllilFJgED8inEDxle8OIpgKPvN3JuBIouAJUTTAkM4cCSRYGJZ9IVUNQjlSEOWDM6\n",
       "1DKWE5CMjg4ewZPKBI5bC9ggAcIdg1r0Mx8gpnhCt/kX3GUT4n0ZeAIgYX3qAGr9BUoFHIQKVTTA\n",
       "C6/BWJI22TIwdIOyzLkDi+1QlWVjqwo6CdQyAWj1MDCssShbh6UC4yVQgd0hrm7kNiC51sVfuSCB\n",
       "LSQbzUxGI4AEAAA/9al9fL/fKwAAAABJRU5ErkJggg==\n",
       "\" style=\"display:inline;vertical-align:middle;\" /></a><br>(see <a class=\"ProveItLink\" href=\"../../../__pv_it/theorems/297625102ef03fccc26866e22305cd8119f5abf70/dependencies.ipynb\">dependencies</a>)<br>"
      ],
      "text/plain": [
       "neg_is_real_neg_if_pos_is_real_pos: forall_{a in RealPos} ((-a) in RealNeg)"
      ]
     },
     "execution_count": 2,
     "metadata": {},
     "output_type": "execute_result"
    }
   ],
   "source": [
    "%proving neg_is_real_neg_if_pos_is_real_pos"
   ]
  },
  {
   "cell_type": "code",
   "execution_count": null,
   "metadata": {},
   "outputs": [],
   "source": []
  }
 ],
 "metadata": {
  "kernelspec": {
   "display_name": "Python 3",
   "language": "python",
   "name": "python3"
  }
 },
 "nbformat": 4,
 "nbformat_minor": 0
}