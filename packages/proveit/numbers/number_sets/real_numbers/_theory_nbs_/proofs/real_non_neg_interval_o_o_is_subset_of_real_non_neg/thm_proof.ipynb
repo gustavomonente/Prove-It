{
 "cells": [
  {
   "cell_type": "markdown",
   "metadata": {},
   "source": [
    "Proof of <a class=\"ProveItLink\" href=\"../../../../../../_theory_nbs_/theory.ipynb\">proveit</a>.<a class=\"ProveItLink\" href=\"../../../../../_theory_nbs_/theory.ipynb\">numbers</a>.<a class=\"ProveItLink\" href=\"../../../../_theory_nbs_/theory.ipynb\">number_sets</a>.<a class=\"ProveItLink\" href=\"../../theory.ipynb\">real_numbers</a>.<a class=\"ProveItLink\" href=\"../../theorems.ipynb#real_non_neg_interval_o_o_is_subset_of_real_non_neg\">real_non_neg_interval_o_o_is_subset_of_real_non_neg</a> theorem\n",
    "========"
   ]
  },
  {
   "cell_type": "code",
   "execution_count": 1,
   "metadata": {},
   "outputs": [],
   "source": [
    "import proveit\n",
    "theory = proveit.Theory() # the theorem's theory"
   ]
  },
  {
   "cell_type": "code",
   "execution_count": 2,
   "metadata": {},
   "outputs": [
    {
     "data": {
      "text/html": [
       "Under these <a href=\"presumptions.txt\">presumptions</a>, we begin our proof of<br><strong id=\"real_non_neg_interval_o_o_is_subset_of_real_non_neg\">real_non_neg_interval_o_o_is_subset_of_real_non_neg:</strong> <a class=\"ProveItLink\" href=\"../../../__pv_it/theorems/27d6b29f9893d9d6af7adc01cd8438d1de15df7c0/expr.ipynb\"><img src=\"data:image/png;base64,iVBORw0KGgoAAAANSUhEUgAAANQAAAAcBAMAAADrS4zyAAAAMFBMVEX///8QEBCIiIhmZma6urrM\n",
       "zMxUVFQiIiJERETc3Nzu7u6qqqp2dnaYmJgyMjIAAAAcRTyBAAAAAXRSTlMAQObYZgAAA5dJREFU\n",
       "SMe9Vl1IFFEU/nZmf2dnN4kgyxcrkAgfhCikzBYkgyBYiawgcLEUooSIZEkqlhLy56GpHvLBaHJB\n",
       "QiKHfLAgaMkexESWChWpGCpf+lNEobKic2d21pldrVnBLsxw75lz73d+vnPuACs/iotXHqNSYu9A\n",
       "wh9ZxmZXKBdt3/YwvT0h/EBhzlDVuan7SgmrN4wCVOYM9TFHfWEwhBoJFyAmc9zJszjcyhD6pb9h\n",
       "jcg1Ms4ATYDKBG9sQt2WaXPMJLi7ll4nMtXG8q9+zdfd4L4wr1YDm4DnucRlgJ6gxYn39NzP0lO7\n",
       "cXiczEJXu5arWbIS6GDZi9mEKqDnpUUyT4+YRa9YJ7w+Yvi9ZoOB8CgIErio2CQUbcE5s8TJJEKe\n",
       "vghciUaj4RQUL6mIN2sxLGF1xccQGOrpuWnTqQCd6Tttloja6oNuyGfJ5BUvxXAw1S1Y3Dna+62l\n",
       "5bxdAqrMRprcGNgga5Jg7SZFTyGFSDIH0O20tgjmfx3QusTRWjDuvZaNtZdy6iVmOddhSpf0fhS+\n",
       "A2+1+U5LrvrLZWufmQMqIKhp6K+Wz6Msh20L7A5GtPTiThKluuSJjBmgX5ubIhu7Fr1Ieg9baKQQ\n",
       "fcRCD7ikhc1s9G8+9o71S/qShzzjq4eC56AuuFsrSjbKIfwEarSzImavKrxyRi0TlJj0LAg+MeHj\n",
       "rUlOxBCj8IEtvjw0pr1KQeVDmDPKyjmfgjKXdqyT35NRQMwrn2rqoRR4jD/qAUFNMF9d7WYorx5A\n",
       "csQ/rUt+gad0780KYCfaXmTcCezo1uP0ihdNsvVMkexkFGNQCWpvDcA01hvqbp0Wwjzc6iNNMsvy\n",
       "lqLFUwtUNR/OYiD6yByh0cWmXBNXEoQOtbUEgZNWWrDaEMmSSxiLJITfJGnAZXqX6eFVzI1JVOqy\n",
       "ahKrKCl8iYv57y0MqHHtUL7+LLAtg+zMMifpdW88UhtClOTxYhbmST3x9fsW2u0kWqYsPYhnBgdo\n",
       "i0PhGIEcIT5yiAhayInXXy1SaGvMjclvmCCksuQaNBrTIiNoNMpeyTtBO1fJDsWtB9B/VBaGh4ef\n",
       "WfTLzO1WTE/s3Oa9hmEOqWY/OmSPPA4xrOdqKJGtX8WCbPSfLkN6305TG01nofbBLlQprlN0fjsr\n",
       "4ZFEvDxb362Y6idd+K12oBqtSz2PHOVqqetbXeTCD0h2LoWE/Z8EffQt95ewIwP53zv8oWVC7cD/\n",
       "HH8Abh74dyTEDTMAAAAASUVORK5CYII=\n",
       "\" style=\"display:inline;vertical-align:middle;\" /></a><br>(see <a class=\"ProveItLink\" href=\"../../../__pv_it/theorems/52f41d75a4e9c3315015594ac8cea3d8c10d70080/dependencies.ipynb\">dependencies</a>)<br>"
      ],
      "text/plain": [
       "real_non_neg_interval_o_o_is_subset_of_real_non_neg: forall_{a, b in RealNonNeg} ((a,b) proper_subset RealNonNeg)"
      ]
     },
     "execution_count": 2,
     "metadata": {},
     "output_type": "execute_result"
    }
   ],
   "source": [
    "%proving real_non_neg_interval_o_o_is_subset_of_real_non_neg"
   ]
  },
  {
   "cell_type": "code",
   "execution_count": null,
   "metadata": {},
   "outputs": [],
   "source": []
  }
 ],
 "metadata": {
  "kernelspec": {
   "display_name": "Python 3",
   "language": "python",
   "name": "python3"
  }
 },
 "nbformat": 4,
 "nbformat_minor": 0
}