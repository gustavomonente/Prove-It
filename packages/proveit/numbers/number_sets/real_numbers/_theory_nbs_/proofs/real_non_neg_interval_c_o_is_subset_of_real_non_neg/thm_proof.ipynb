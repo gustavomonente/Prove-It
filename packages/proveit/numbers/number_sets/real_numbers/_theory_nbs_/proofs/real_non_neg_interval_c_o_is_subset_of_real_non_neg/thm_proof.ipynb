{
 "cells": [
  {
   "cell_type": "markdown",
   "metadata": {},
   "source": [
    "Proof of <a class=\"ProveItLink\" href=\"../../../../../../_theory_nbs_/theory.ipynb\">proveit</a>.<a class=\"ProveItLink\" href=\"../../../../../_theory_nbs_/theory.ipynb\">numbers</a>.<a class=\"ProveItLink\" href=\"../../../../_theory_nbs_/theory.ipynb\">number_sets</a>.<a class=\"ProveItLink\" href=\"../../theory.ipynb\">real_numbers</a>.<a class=\"ProveItLink\" href=\"../../theorems.ipynb#real_non_neg_interval_c_o_is_subset_of_real_non_neg\">real_non_neg_interval_c_o_is_subset_of_real_non_neg</a> theorem\n",
    "========"
   ]
  },
  {
   "cell_type": "code",
   "execution_count": 1,
   "metadata": {},
   "outputs": [],
   "source": [
    "import proveit\n",
    "theory = proveit.Theory() # the theorem's theory"
   ]
  },
  {
   "cell_type": "code",
   "execution_count": 2,
   "metadata": {},
   "outputs": [
    {
     "data": {
      "text/html": [
       "Under these <a href=\"presumptions.txt\">presumptions</a>, we begin our proof of<br><strong id=\"real_non_neg_interval_c_o_is_subset_of_real_non_neg\">real_non_neg_interval_c_o_is_subset_of_real_non_neg:</strong> <a class=\"ProveItLink\" href=\"../../../__pv_it/theorems/25e7fc4fd9eefc7d47be75f6c5c773d44bdf68c30/expr.ipynb\"><img src=\"data:image/png;base64,iVBORw0KGgoAAAANSUhEUgAAANEAAAAcBAMAAAANYke2AAAAMFBMVEX///8QEBCIiIhmZma6urrM\n",
       "zMxUVFQiIiJERETc3Nzu7u6qqqp2dnaYmJgyMjIAAAAcRTyBAAAAAXRSTlMAQObYZgAAA4pJREFU\n",
       "SMe9lltIFFEYx/87u+Puzt58C4Rg7WLSQyyWoHTbCHwLN4rqQWjpRtEFQ026PBh0WQ1jSbCeakKo\n",
       "kGqHisIIWiyo1GKDiBKDzcgHhZAgSAPpO2dmx5lZzVnBzrJz+c7l953v/M93BljoIvSmFxrhOsRv\n",
       "Q3g8n97bC2ncsZ9dGxGShYJBYryg5h3nAekXHIorXigpKBfW/u45iBNwZ/C2UFIFsOq7xdbzT9So\n",
       "OAl3GG5yMcsMX+yBvJPAS8O7dLYeKEpaWgWOJ6a+tqvPqzI0J0cYQgToZ4ZReyR/xExCkAxSNi/G\n",
       "Ulxsb2OelCtsnUJReMeBa8zXFnskh2IhhciAXmszjzeNlk4CvY5q2gNOq4vsV+yRbsgWUi1TyE3t\n",
       "5VNzc3NTjlQdhFTFQFjK91MVRbWvu/uqTUG8h4X0igeLD4jrb4xzqvZAjKk5YoBCjFL6/04kztgk\n",
       "bVBJ3nUVJaphZMladfWonDRFL15j7spmTxu5dZaRuVN3h/RNlFBJm5LBcVV7U3IqiQCXhFMxknwN\n",
       "FpHtprE2G9Tj+mGq/sh6t0m6XkY4SVoMp2ryTSIUhq+ePbuNiljUPEa1CSptuSWOsiZCRm/0Qrs/\n",
       "Kd87TLcaqimmn1YaOMnJ9yKfRxapNEQ+wU4j6WWkzRKeFJH8GYM7Yywmz1ZnBD/62GjbVnqL0ZSr\n",
       "/cZJjhakYrntVKtopDsmla/ZZZUtkbzZHdOGCabWnm4QaZDNVLxkJF3gJJrGc207ZbBRhis/emnP\n",
       "vbBlnVgmad1Hl64yls/En2Wyi0mJkegA8x0FxlGSa35QJSk45uMpKBSlNdMU4Q8bSWK8Ml97eEg+\n",
       "SU2UCQlwSogEoZJWRxA4bFZEKSd5woETfqRo/KKMh9xypvXA69kI/UWxvK3I5ANnRGQxoEGyXZzk\n",
       "PNAIVFpUXstzhLRneecyuE+RfxXsNAiqY97aJ09n2Jjn8h8TqYrXyCyjCeywckSd8Z2kzbDgv/Jh\n",
       "hrwXNeSIp7mH29q97qKWjWYqw7oIk55BAoZkh1KkRs9XJ0sDAwOm5MPipBv075BeG9lFmtS9Te7e\n",
       "gmuyW/4Ef0xdp778TxqxeJok5RSQf2rMUAL68e7a82A9tiriERr+Etu579JdG/I7HJ4mBXSlJW2Q\n",
       "3GZ9QE1dAq3TLB3uAyusp/tnO7l5yPzqm9M7X2R+n37WozYwd5dH8yM5ZfzH8hfoQ/GPmCEVNgAA\n",
       "AABJRU5ErkJggg==\n",
       "\" style=\"display:inline;vertical-align:middle;\" /></a><br>(see <a class=\"ProveItLink\" href=\"../../../__pv_it/theorems/11bf87b715ddea1bbade323986e82ca0640c797b0/dependencies.ipynb\">dependencies</a>)<br>"
      ],
      "text/plain": [
       "real_non_neg_interval_c_o_is_subset_of_real_non_neg: forall_{a, b in RealNonNeg} ([a,b) proper_subset RealNonNeg)"
      ]
     },
     "execution_count": 2,
     "metadata": {},
     "output_type": "execute_result"
    }
   ],
   "source": [
    "%proving real_non_neg_interval_c_o_is_subset_of_real_non_neg"
   ]
  },
  {
   "cell_type": "code",
   "execution_count": null,
   "metadata": {},
   "outputs": [],
   "source": []
  }
 ],
 "metadata": {
  "kernelspec": {
   "display_name": "Python 3",
   "language": "python",
   "name": "python3"
  }
 },
 "nbformat": 4,
 "nbformat_minor": 0
}