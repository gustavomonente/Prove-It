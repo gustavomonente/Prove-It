{
 "cells": [
  {
   "cell_type": "markdown",
   "metadata": {},
   "source": [
    "Proof of <a class=\"ProveItLink\" href=\"../../../../../../_theory_nbs_/theory.ipynb\">proveit</a>.<a class=\"ProveItLink\" href=\"../../../../../_theory_nbs_/theory.ipynb\">numbers</a>.<a class=\"ProveItLink\" href=\"../../../../_theory_nbs_/theory.ipynb\">number_sets</a>.<a class=\"ProveItLink\" href=\"../../theory.ipynb\">real_numbers</a>.<a class=\"ProveItLink\" href=\"../../theorems.ipynb#interval_c_o_is_subset_of_Real\">interval_c_o_is_subset_of_Real</a> theorem\n",
    "========"
   ]
  },
  {
   "cell_type": "code",
   "execution_count": 1,
   "metadata": {},
   "outputs": [],
   "source": [
    "import proveit\n",
    "theory = proveit.Theory() # the theorem's theory"
   ]
  },
  {
   "cell_type": "code",
   "execution_count": 2,
   "metadata": {},
   "outputs": [
    {
     "data": {
      "text/html": [
       "Under these <a href=\"presumptions.txt\">presumptions</a>, we begin our proof of<br><strong id=\"interval_c_o_is_subset_of_Real\">interval_c_o_is_subset_of_Real:</strong> <a class=\"ProveItLink\" href=\"../../../__pv_it/theorems/528edac8bfb94734445e92ca76c3395a741efe560/expr.ipynb\"><img src=\"data:image/png;base64,iVBORw0KGgoAAAANSUhEUgAAAKUAAAAVBAMAAADVzzOcAAAAMFBMVEX///8QEBCIiIhmZma6urrM\n",
       "zMxUVFQiIiJERETc3Nzu7u6qqqp2dnaYmJgyMjIAAAAcRTyBAAAAAXRSTlMAQObYZgAAAqVJREFU\n",
       "OMutlU9o01Acx3/N65+0TdqLhyEIxT/Tk4TtqM7KEE+yepkeBpa5eRLZwVmcIvFkqojRw9xhSKQw\n",
       "Ry8JehgTwaIDsaIEEawDIQgTVJjiSXsQ37/U17SJF3NIXn7f9z55v9/3vReAf19pF/ZuBGKrYZ2J\n",
       "4JHGh0jmMsCa8Jq5MgOQNAOd3g3c3BxwmfCSBL5EMj93MyGnYbAX7OUtwYmWRYUFkpwehVS1ADPv\n",
       "4NvTYDd9EeR0mQo5C0BxopgpM8Acw0PgHn9pVSqVWc5EpkcFtVmv34lMnahdzOe0AEXavvtCmCcy\n",
       "dSb8NIxLkcwdjJneP7SVBT5t34dz02j7gph7Ml5mwjRA1Y/HN/swbzDmITP3nfn+27JNUKlJyBGZ\n",
       "KyO4KkQYFT18xp8re0599GMXKTOzDRCzMtuGfAGyM7TWgke3KpfJF4iQAsntCF/JPB4Pu5ICzQKP\n",
       "baFM1IYUiyAP7AYk6KTnRd9HZWIeERRX+Ngv4uRqHTBz3e1ixnSwS/7yHHM4c1lkosM6Z6a9cdyq\n",
       "DZLdl/gxaMVJ8Qmz0ZU7ntoTvjxdOGhBvCf3Rbj2hnhChOoUznc20SaoOUnLAWMOa10e2Q6czdIN\n",
       "mS/i2nKPlILIHEclLjzEYKQlCF4uqF6NMtHpc6Jva0Q6r4CNByRdGX8ONToGdPam4kxzAZsIMUfC\n",
       "SwtiRVQ+bhhGQVJuv/U7H2G+T+6a3wmpOZzT0CtSVVbcpSmrc4ZsgPHNYYKKo7Ypr+NH3oo5SZZ7\n",
       "dsLqtzcf+Y37/Dlxle/NoAAx8+RRWLBSVguUEqtns9HvDPGDvWdIjxCffHAAjjmJM3jMdbLmXzdq\n",
       "I75Y/cvM+J70nnUhAttoEq5n2Jms+jHZDGEGhKwZ+u/YHfx3vA9LPSCo8H+uP7MqykM8Ouw6AAAA\n",
       "AElFTkSuQmCC\n",
       "\" style=\"display:inline;vertical-align:middle;\" /></a><br>(see <a class=\"ProveItLink\" href=\"../../../__pv_it/theorems/ccb2cafcd01daad3cc6ed6f0395e35a33fabe3480/dependencies.ipynb\">dependencies</a>)<br>"
      ],
      "text/plain": [
       "interval_c_o_is_subset_of_Real: forall_{a, b in Real} ([a,b) proper_subset Real)"
      ]
     },
     "execution_count": 2,
     "metadata": {},
     "output_type": "execute_result"
    }
   ],
   "source": [
    "%proving interval_c_o_is_subset_of_Real"
   ]
  },
  {
   "cell_type": "code",
   "execution_count": null,
   "metadata": {},
   "outputs": [],
   "source": []
  }
 ],
 "metadata": {
  "kernelspec": {
   "display_name": "Python 3",
   "language": "python",
   "name": "python3"
  }
 },
 "nbformat": 4,
 "nbformat_minor": 0
}