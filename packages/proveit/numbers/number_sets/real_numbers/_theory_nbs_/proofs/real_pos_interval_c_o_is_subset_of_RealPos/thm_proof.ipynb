{
 "cells": [
  {
   "cell_type": "markdown",
   "metadata": {},
   "source": [
    "Proof of <a class=\"ProveItLink\" href=\"../../../../../../_theory_nbs_/theory.ipynb\">proveit</a>.<a class=\"ProveItLink\" href=\"../../../../../_theory_nbs_/theory.ipynb\">numbers</a>.<a class=\"ProveItLink\" href=\"../../../../_theory_nbs_/theory.ipynb\">number_sets</a>.<a class=\"ProveItLink\" href=\"../../theory.ipynb\">real_numbers</a>.<a class=\"ProveItLink\" href=\"../../theorems.ipynb#real_pos_interval_c_o_is_subset_of_RealPos\">real_pos_interval_c_o_is_subset_of_RealPos</a> theorem\n",
    "========"
   ]
  },
  {
   "cell_type": "code",
   "execution_count": 1,
   "metadata": {},
   "outputs": [],
   "source": [
    "import proveit\n",
    "theory = proveit.Theory() # the theorem's theory"
   ]
  },
  {
   "cell_type": "code",
   "execution_count": 2,
   "metadata": {},
   "outputs": [
    {
     "data": {
      "text/html": [
       "Under these <a href=\"presumptions.txt\">presumptions</a>, we begin our proof of<br><strong id=\"real_pos_interval_c_o_is_subset_of_RealPos\">real_pos_interval_c_o_is_subset_of_RealPos:</strong> <a class=\"ProveItLink\" href=\"../../../__pv_it/theorems/f868785badeab9cfbd7d836081aab545608125e80/expr.ipynb\"><img src=\"data:image/png;base64,iVBORw0KGgoAAAANSUhEUgAAAMEAAAAbBAMAAAA3yfbmAAAAMFBMVEX///8QEBCIiIhmZma6urrM\n",
       "zMxUVFQiIiJERETc3Nzu7u6qqqp2dnaYmJgyMjIAAAAcRTyBAAAAAXRSTlMAQObYZgAAAyhJREFU\n",
       "SMfNll9IFEEYwD937597e+qb9RJngfTQw9IVJZUdBPUUXhD9AcHFLIoKLJOjP8RRUKthHAXmU24d\n",
       "iAjpUYEIQQv2klJcEChScVn2YHSJFKRX0jc7d7uza9e6L9HAzM7OfnO/b75/cwD/UdvvTlzGzrna\n",
       "4ZXdERLYPa72VKjuCfDCzY6NeOhczLoWTDoQ/KhWlkzeOgPKFwHEKLPQX43DCZtU6Iyy9L7LJHAS\n",
       "wDiZzDoTRMlGgA/YB5fZUpC9XZ3gy+XW5L6gXnMAPUS/hDOhLG0n5Ak3bBMLlGuQ6DbOABepA8W0\n",
       "M6FXtRE8aDYQqujLZDweby8S6ipMwla03NjAwJ0VOPoV2AhiKxk/6vO7z9kz1AVMQg32H4pyqaTx\n",
       "zWl9gXB7tIaGbUXzOjz6qD4/b7GSvNskNKDwUYCOUgTenCqU4FkNX+nC0KywAPBOF0uzhGDbrElo\n",
       "wvjeBULWsG2uJOETJdzLENOS9lSFeYBhPepZT1fHP+szmiq9UfKZyxgCo4Xn8Poj01ZCGyXsVOFs\n",
       "0WzCT9SRTLtZwjOpk9FxCAlihlGB4IUnkQwnwlhYjGyJbGOjHwmrQPheXPDkC4R+S7RuOsSGIBLK\n",
       "swfMhQUSeSMDgISpjOUM13QCqh2cowu/gMd43bPMSlrgAZMkTcRYHS04pGpnSP2cr1U9Esl2JGgW\n",
       "wnFKyIMvO6IvfCM+oZ5m8g4JXnmzuY3EEjzCwBbavSSBuAucpKcLEiKShVBDrXQFJmRNWMKX03AV\n",
       "x+2GcY2qAeO+mCWNoBI14CUvSaBAOJRN6QT+2DmrpxtoTvetPdwchTi+pDaQAJnRP/a1qGbliwVu\n",
       "5o1teuCFVFJ1OHJZlEV5+aCiKGFOvPWaWI2pS1Emp4PFu0Jopc/G64WqYW/TRlAlA1O4q1ItS/uo\n",
       "lYKN1huH1xiCkevLKp+tCYuGhsmmvdCj+tVJEGPUD2Oa9RKtYgj3i6uDDtUsZFyjnuaHO2Bf2nsK\n",
       "f/YGybiXWqreKnySIRgp2uFA8NsuRVpeOPTDH4RRXe6ybUMo6UB4s/JbF79K7v8A2a+20N/FH7sn\n",
       "8Cr8g/Yby7zNCuW3xrkAAAAASUVORK5CYII=\n",
       "\" style=\"display:inline;vertical-align:middle;\" /></a><br>(see <a class=\"ProveItLink\" href=\"../../../__pv_it/theorems/cb2188feaeb862bbadb4b8066e45144aba3fd2190/dependencies.ipynb\">dependencies</a>)<br>"
      ],
      "text/plain": [
       "real_pos_interval_c_o_is_subset_of_RealPos: forall_{a, b in RealPos} ([a,b) proper_subset RealPos)"
      ]
     },
     "execution_count": 2,
     "metadata": {},
     "output_type": "execute_result"
    }
   ],
   "source": [
    "%proving real_pos_interval_c_o_is_subset_of_RealPos"
   ]
  },
  {
   "cell_type": "code",
   "execution_count": null,
   "metadata": {},
   "outputs": [],
   "source": []
  }
 ],
 "metadata": {
  "kernelspec": {
   "display_name": "Python 3",
   "language": "python",
   "name": "python3"
  }
 },
 "nbformat": 4,
 "nbformat_minor": 0
}