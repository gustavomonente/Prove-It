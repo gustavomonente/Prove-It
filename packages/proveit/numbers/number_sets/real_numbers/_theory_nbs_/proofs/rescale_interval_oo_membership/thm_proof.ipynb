{
 "cells": [
  {
   "cell_type": "markdown",
   "metadata": {},
   "source": [
    "Proof of <a class=\"ProveItLink\" href=\"../../../../../../_theory_nbs_/theory.ipynb\">proveit</a>.<a class=\"ProveItLink\" href=\"../../../../../_theory_nbs_/theory.ipynb\">numbers</a>.<a class=\"ProveItLink\" href=\"../../../../_theory_nbs_/theory.ipynb\">number_sets</a>.<a class=\"ProveItLink\" href=\"../../theory.ipynb\">real_numbers</a>.<a class=\"ProveItLink\" href=\"../../theorems.ipynb#rescale_interval_oo_membership\">rescale_interval_oo_membership</a> theorem\n",
    "========"
   ]
  },
  {
   "cell_type": "code",
   "execution_count": 1,
   "metadata": {},
   "outputs": [],
   "source": [
    "import proveit\n",
    "theory = proveit.Theory() # the theorem's theory"
   ]
  },
  {
   "cell_type": "code",
   "execution_count": 2,
   "metadata": {},
   "outputs": [
    {
     "data": {
      "text/html": [
       "Under these <a href=\"presumptions.txt\">presumptions</a>, we begin our proof of<br><strong id=\"rescale_interval_oo_membership\">rescale_interval_oo_membership:</strong> <a class=\"ProveItLink\" href=\"../../../__pv_it/theorems/df1a72104cac80ae67e98f5de1a7fae31bc780d00/expr.ipynb\"><img src=\"data:image/png;base64,iVBORw0KGgoAAAANSUhEUgAAAWQAAAAZBAMAAAD0/km4AAAAMFBMVEX///8QEBCIiIhmZma6urrM\n",
       "zMxUVFQiIiJERETc3Nzu7u6qqqp2dnaYmJgyMjIAAAAcRTyBAAAAAXRSTlMAQObYZgAABKpJREFU\n",
       "WMPtWF1oHFUUPpmd2dndmdnNgy9alGWjsWjFZQOK2GhEaEWsWX1ofRA2VOsfWorErMQgMS+dWIqD\n",
       "yCYIyrWBVldwF30olYpDgyjpD4P4UIOVRaygQinFB5sH8dyfmbmzmWZGlOqDB87MvXe/mfvdc79z\n",
       "750FSGtPNx34901tzqQH74P/hrX+p8wt73HvN8OJhaayY8KRco/ezqWiXKQ3K0Uf7wtfZ8/GQpOs\n",
       "8BqGK+twR8onaeMvqSibXbwVSTL0Z+Hr7KNYaKIVq8i7xx0pL9LZmU1FmcEWk5FWlft6M8sx0GQr\n",
       "0VidEN5iUWPhS6FlOhknk5G6wz1migcF0/3NVwNoso3TmX1PeAuslXZ7IWX6fdduf5AiCxeEx9iP\n",
       "7KrNEQmabF8ydYxxxxXjd9ueSUm5ZNv73UijFCQtKA0JhxOVut92aPitLaiKZS5pIkNlWH5r7TpR\n",
       "lFp/qtyNUqhyR8p7AOaDveXChpSzdchFZtL0Cw/3wBjzKweFL3RzPV8RrvWijpXv+xaOPhjc5xQv\n",
       "ivhLD/9BOg5YWKWOlO/nichtOcLy6OYnfpApq9W+nA/6psO/y6+8InwGsjRJaEhNYq6pONqjDBBm\n",
       "ewgrMHLXQ0b8KD1srEGpDAYSoI6UdVDCpfbXMFOOj3iKCStleSvZB7f51Q+XR0ELVFLE1x/2K9dw\n",
       "z6yJGNEL5BiVBpPQDRfQfKiAdWjcsKzzDuWHMz3ouKBh+KkjZdPTw7BdDkpnj7UBKa96MuXTwR5o\n",
       "HXibUKH4yxBGsOhEKQ+IeE1xRDmgLK2pIUyfAFbu8HfKD+OyPN6VKed7O7F5afg8Hf+lYTaNlbJK\n",
       "F0xK2ZUpv6vhi82hR/egnGg3GIbaXtpHo/JcOFlCGJ1IpjYYle2sPCgLQ4Zh+fOgFC7LHtxLQKXK\n",
       "5MKA+Sex55c0OhPKtEKpTmqDbHNGyiNVmXKuhTl2S7Y3yfd5XKKO1Bt0kDeTITAmoumHPYG/4Bvk\n",
       "dlCIn341Of1kWKcLe/lBRG4tjaHG5fSDT5BMpqoxSmXaiBlQX2KUM09NRo5Fxp14qRc9KLCRPAAw\n",
       "ArtoaQ7JqLNSDqNnJmDJV8549w14B+9buQi6UrrLMOx/ymSylluzXg67y7jcW0JlA12FaWkMoVgB\n",
       "2GXbdlkx3/wmepK7JISrvWzbc7ANYBMMc03eAZq/8GwXfupckLuHK4dGqW7O86R65kEJKsEKu29q\n",
       "3Qj6dF9r7TRVdJ07pWzhhHWc3CreSoTSpbmU5cIwHicRyqs8h+rARPAYFC7DwTaW1pC7OpG8YYvs\n",
       "Vb/acMP+NK7xiHD/vDzgNHbAItHJWbzitlg161zLK27/eTl/8Qy48IV4y7Xab17+dZi2ZsFy/6lj\n",
       "kRvXGB6LxLB3fzwKj3S151285mtfEzhAt5Iz7tI9/ZQLLzy0hUCOylEnsO3WIU/bBDtPodCC7W8e\n",
       "pB1148NnHKxQjmsMD5+ydaWrglre6KtkM2pZEWlk8O0k+Yg/n+qIb8U9Sk8KOaefMl9eDCf9h9Rs\n",
       "+JED8Fnih5T1Nz6kvhUepWxdeYxXoLyD31i3hSpcFfsLn6vNmP8x5BlRyNUgrDan/gS50F3OrkOW\n",
       "rgAAAABJRU5ErkJggg==\n",
       "\" style=\"display:inline;vertical-align:middle;\" /></a><br>(see <a class=\"ProveItLink\" href=\"../../../__pv_it/theorems/6a6247ec6003a91fed933f148aa76cfdc703a8f10/dependencies.ipynb\">dependencies</a>)<br>"
      ],
      "text/plain": [
       "rescale_interval_oo_membership: forall_{a, b, c in Real} [forall_{x in (a,b)} ((c * x) in (c * a,c * b))]"
      ]
     },
     "execution_count": 2,
     "metadata": {},
     "output_type": "execute_result"
    }
   ],
   "source": [
    "%proving rescale_interval_oo_membership"
   ]
  },
  {
   "cell_type": "code",
   "execution_count": null,
   "metadata": {},
   "outputs": [],
   "source": []
  }
 ],
 "metadata": {
  "kernelspec": {
   "display_name": "Python 3",
   "language": "python",
   "name": "python3"
  }
 },
 "nbformat": 4,
 "nbformat_minor": 0
}