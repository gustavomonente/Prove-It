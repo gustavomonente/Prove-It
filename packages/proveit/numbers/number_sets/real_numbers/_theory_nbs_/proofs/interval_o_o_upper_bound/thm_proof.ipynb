{
 "cells": [
  {
   "cell_type": "markdown",
   "metadata": {},
   "source": [
    "Proof of <a class=\"ProveItLink\" href=\"../../../../../../_theory_nbs_/theory.ipynb\">proveit</a>.<a class=\"ProveItLink\" href=\"../../../../../_theory_nbs_/theory.ipynb\">numbers</a>.<a class=\"ProveItLink\" href=\"../../../../_theory_nbs_/theory.ipynb\">number_sets</a>.<a class=\"ProveItLink\" href=\"../../theory.ipynb\">real_numbers</a>.<a class=\"ProveItLink\" href=\"../../theorems.ipynb#interval_o_o_upper_bound\">interval_o_o_upper_bound</a> theorem\n",
    "========"
   ]
  },
  {
   "cell_type": "code",
   "execution_count": 1,
   "metadata": {},
   "outputs": [],
   "source": [
    "import proveit\n",
    "theory = proveit.Theory() # the theorem's theory"
   ]
  },
  {
   "cell_type": "code",
   "execution_count": 2,
   "metadata": {},
   "outputs": [
    {
     "data": {
      "text/html": [
       "Under these <a href=\"presumptions.txt\">presumptions</a>, we begin our proof of<br><strong id=\"interval_o_o_upper_bound\">interval_o_o_upper_bound:</strong> <a class=\"ProveItLink\" href=\"../../../__pv_it/theorems/d2512d0e1b28f1bd82b319dcd4a25303dd2808ad0/expr.ipynb\"><img src=\"data:image/png;base64,iVBORw0KGgoAAAANSUhEUgAAAN4AAAAZBAMAAACspI2IAAAAMFBMVEX///8QEBCIiIhmZma6urrM\n",
       "zMxUVFQiIiJERETc3Nzu7u6qqqp2dnaYmJgyMjIAAAAcRTyBAAAAAXRSTlMAQObYZgAAA09JREFU\n",
       "SMfVlk1oE0EUgF82u02yP8nFixQhtJAKFVxaVIpUA4KetPHSXgop/oJIKaIW0h6qp1QpLiLai7i2\n",
       "0EovXfQgBZUlHgrxhz0UrAVlERRUFBEPNgfxzUw2mWwbdw+9+GB3dua93W/2/cwMQLCcHTVgS0Qc\n",
       "HQ9jNgJbJrf/c17CaapaYjyXNO8CeCGMmDzYdFS+glNuMSjvBRn4EsALYcTk8+bDSR2hLuVNEy9M\n",
       "BPBCGFHRdP/Isxy5pyy8lSgvaQKoVgAvhBGVmL9w3vTQpg/fh/uUp5UXFu4E5UsIIyp+m44ya5ep\n",
       "U7M0P38Xi+OB+bnBKME9S7WndrxmMrd2pVmaLKer45/a9qODdMo7DTBZWwC+N+HxRlRs7+GYC0rW\n",
       "60whxNYuxGg+y/u84pD/mIsGaC7lHWKZw+R5tX288+QHntdgBNXkpkJm3eN1xrBvqhWRaodrAVcq\n",
       "kEqDMkJ5MRDqRfqVzOZJtyOoUE5zPM6IqGGwnur41Tmvsw3VEGeJLNd5URcWbZB+UJ7qxOrzXsdr\n",
       "dWkBkLfmcDzOiKiJf6uSwn9JGnUekF9hIa75E8uvz/J4Cbcfh2YzH0nkf2ZMkdQQ4dkcjxmV9mRy\n",
       "VE2G5K5hUlv5tnP1fx8jt3zO84SXLykHDpogMn/C5ClUXZIqBFMQ9CQwXrfOr5/ESDCHY1mqTuDQ\n",
       "fC5PqqrDbAdlqJ4virkbDRvrIZWVd4CXL/AIX47qEvlqPK25s5QXPXOxYb0mRhJ8Q0fQPMYQdcMA\n",
       "ebwK72nXS7c+6wbc9dV7ixPHyUdtxiP+jlgCmWMkGx0aKBaLaUG9udLAY0HB8FK1iMatkGEh2wuS\n",
       "l7tHMHfaZnod33omd70iUcwxnoZ/v2jE17BJmRGrhflTGTR5HjHCiEtA1dIEyOswhYkDFQSLQ83W\n",
       "M17muf0vYuSPwrQZM1dBzbH4lW3//ndPdVWmlnFou/TLSVyDgjYBmt10veakxPHEEw974bglncc3\n",
       "r5N6f23PHvDz5lZKZaaGAsDhznZHaoX+lxiZ2gIz2RxX3Y94YQUqYID+sb9Tdae3crD6CthvqcQN\n",
       "P08xQp8n4vwhAZ6GOU+83XB+0cKfX8Tqd2kj61t7Xhrd5Py5xHvYDH3+vPwXx3Xuld4CS2oAAAAA\n",
       "SUVORK5CYII=\n",
       "\" style=\"display:inline;vertical-align:middle;\" /></a><br>(see <a class=\"ProveItLink\" href=\"../../../__pv_it/theorems/f77aa7767d7e8cb7cdffd13b0c7f77915c9990ce0/dependencies.ipynb\">dependencies</a>)<br>"
      ],
      "text/plain": [
       "interval_o_o_upper_bound: forall_{a, b in Real} [forall_{x in (a,b)} (x < b)]"
      ]
     },
     "execution_count": 2,
     "metadata": {},
     "output_type": "execute_result"
    }
   ],
   "source": [
    "%proving interval_o_o_upper_bound"
   ]
  },
  {
   "cell_type": "code",
   "execution_count": null,
   "metadata": {},
   "outputs": [],
   "source": []
  }
 ],
 "metadata": {
  "kernelspec": {
   "display_name": "Python 3",
   "language": "python",
   "name": "python3"
  }
 },
 "nbformat": 4,
 "nbformat_minor": 0
}