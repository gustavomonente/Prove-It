{
 "cells": [
  {
   "cell_type": "markdown",
   "metadata": {},
   "source": [
    "Proof of <a class=\"ProveItLink\" href=\"../../../../../../_theory_nbs_/theory.ipynb\">proveit</a>.<a class=\"ProveItLink\" href=\"../../../../../_theory_nbs_/theory.ipynb\">numbers</a>.<a class=\"ProveItLink\" href=\"../../../../_theory_nbs_/theory.ipynb\">number_sets</a>.<a class=\"ProveItLink\" href=\"../../theory.ipynb\">real_numbers</a>.<a class=\"ProveItLink\" href=\"../../theorems.ipynb#positive_implies_not_zero\">positive_implies_not_zero</a> theorem\n",
    "========"
   ]
  },
  {
   "cell_type": "code",
   "execution_count": 1,
   "metadata": {},
   "outputs": [],
   "source": [
    "import proveit\n",
    "theory = proveit.Theory() # the theorem's theory"
   ]
  },
  {
   "cell_type": "code",
   "execution_count": 2,
   "metadata": {},
   "outputs": [
    {
     "data": {
      "text/html": [
       "Under these <a href=\"presumptions.txt\">presumptions</a>, we begin our proof of<br><strong id=\"positive_implies_not_zero\">positive_implies_not_zero:</strong> <a class=\"ProveItLink\" href=\"../../../__pv_it/theorems/5c83e35cecc5c4cf2906cd875e718844c5ee683a0/expr.ipynb\"><img src=\"data:image/png;base64,iVBORw0KGgoAAAANSUhEUgAAAKUAAAAWCAMAAACWq6wzAAAAOVBMVEX///8kJCQNDQ0oKCgQEBCI\n",
       "iIhmZma6urrMzMxUVFQiIiJERETc3Nzu7u6qqqp2dnaYmJgyMjIAAAD9T1yxAAAAAXRSTlMAQObY\n",
       "ZgAAAn1JREFUSMe9V9t24yAM9O4amZu4/f/HFgmwwSF2263LQ07jWGiYGUl0WX5v2XD9u8fJQ2fp\n",
       "M+7fQ3gWJJqbQ8QBsghe0h+KYHrXnkd8FmW017+rrX85w0JNEUjgbTuhNc+CDHBDZZ8/rMxnLKx2\n",
       "FB6kPrP0HZWy+2IUezIRNiTEwSMtqx8uHf0FKpfEKLfEzEWyQjK0tH8WpdgFt+BBrOciMD2VmKCg\n",
       "FKwy7FQb++mE2z0kL86HNq2DbGvOFNNey5HXv7/02U5iE4fLgjKQPTdolTRbTgujIIo+4UywnoqQ\n",
       "czh1smW1Pa4EF8wVlRklFJS+QOAN6PQvzRKdB8hPxeKp4YprlKg6MTQbadR0rQoAP9diDJfjmUbF\n",
       "JRPvQ0E6Ng7jLNKGjDJguEZJ9le25SBiVjdFuZr9jZ7Kk99SrXF3oMxNv50FQagomw2KxwpKP0e5\n",
       "B9BuBrDsSjl1mCmOLKJLy+DLP2tx586o4Ryh6LHpepLa91HLnAOHwckoAWCK8ggolcH+lTNRa/Ug\n",
       "06Ninc/vxlLf1Uv15KNBFZywSM0UdShBKb3Nq2cPOLa3lct1ROnrjiY/DlotfQ/YXscSUY9rEQnq\n",
       "u6nuSF4SRLvU3ERpy8ylFeENyj2gdQQis7gujQ2rypbLTAhplRiG9usNAr0QbRo1RwWscliShopG\n",
       "DYo72d+qTFeLe0ARvLw2q/GLCemuJzyeK5vl2shBXg6+9G+q5wg4iqfMmXO/vLht3FzGvDhPFSWc\n",
       "AE5qXOvqPvrsU4gzlEeAVcp2s8e/Yno33dz1bH47b0qm6svXNeuX0sjv3oJvqPzC6L5F+R//UVxf\n",
       "C8I3QS4PX5d/aMGvZ/wAEdsbHdGVAAgAAAAASUVORK5CYII=\n",
       "\" style=\"display:inline;vertical-align:middle;\" /></a><br>(see <a class=\"ProveItLink\" href=\"../../../__pv_it/theorems/831b8eb0cfa85a3f5c8b8bc9348bb5f31609101e0/dependencies.ipynb\">dependencies</a>)<br>"
      ],
      "text/plain": [
       "positive_implies_not_zero: forall_{a in Real | a > 0} (a != 0)"
      ]
     },
     "execution_count": 2,
     "metadata": {},
     "output_type": "execute_result"
    }
   ],
   "source": [
    "%proving positive_implies_not_zero"
   ]
  },
  {
   "cell_type": "code",
   "execution_count": null,
   "metadata": {},
   "outputs": [],
   "source": []
  }
 ],
 "metadata": {
  "kernelspec": {
   "display_name": "Python 3",
   "language": "python",
   "name": "python3"
  }
 },
 "nbformat": 4,
 "nbformat_minor": 0
}