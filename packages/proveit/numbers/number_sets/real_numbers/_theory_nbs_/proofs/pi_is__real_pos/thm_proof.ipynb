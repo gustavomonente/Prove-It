{
 "cells": [
  {
   "cell_type": "markdown",
   "metadata": {},
   "source": [
    "Proof of <a class=\"ProveItLink\" href=\"../../../../../../_theory_nbs_/theory.ipynb\">proveit</a>.<a class=\"ProveItLink\" href=\"../../../../../_theory_nbs_/theory.ipynb\">numbers</a>.<a class=\"ProveItLink\" href=\"../../../../_theory_nbs_/theory.ipynb\">number_sets</a>.<a class=\"ProveItLink\" href=\"../../theory.ipynb\">real_numbers</a>.<a class=\"ProveItLink\" href=\"../../theorems.ipynb#pi_is__real_pos\">pi_is__real_pos</a> theorem\n",
    "========"
   ]
  },
  {
   "cell_type": "code",
   "execution_count": 1,
   "metadata": {},
   "outputs": [],
   "source": [
    "import proveit\n",
    "theory = proveit.Theory() # the theorem's theory"
   ]
  },
  {
   "cell_type": "code",
   "execution_count": 2,
   "metadata": {},
   "outputs": [
    {
     "data": {
      "text/html": [
       "Under these <a href=\"presumptions.txt\">presumptions</a>, we begin our proof of<br><strong id=\"pi_is__real_pos\">pi_is__real_pos:</strong> <a class=\"ProveItLink\" href=\"../../../__pv_it/theorems/83908047b1f28c8f27a570ee58c1fe7cd193d5050/expr.ipynb\"><img src=\"data:image/png;base64,iVBORw0KGgoAAAANSUhEUgAAAEEAAAAUBAMAAAAgmk0yAAAAMFBMVEX///8yMjK6uroiIiLu7u5U\n",
       "VFRERESYmJjc3NyqqqrMzMx2dnZmZmYQEBCIiIgAAADT23BBAAAAAXRSTlMAQObYZgAAANdJREFU\n",
       "KM9jYKAMsBJUwUZDFcXX8gWvFeA1Q8CVYVmZA0OgoKygYAFWFQndDGwcAdjMKDM2FoCq4GkQwKJi\n",
       "2ROEGTwNCXAVb/////8HxGARQbKFlQluC/euee0vGsAB2ICkYvJBB5iKlQw7+BageT6h19hwAojB\n",
       "AeWzOoDptYJAAHWpDpsDwn1cAcwQRhuSb3m0EhAqeAr4Iep5kcMjpQ6hwt+BXwGi9AGSiqU8C+Aq\n",
       "HjPwboCwLJFCnXtCFFxFJgMrVIVrkgMs5qQY0uQnYIkP7WRIqKMAAOynMpDCmoSdAAAAAElFTkSu\n",
       "QmCC\n",
       "\" style=\"display:inline;vertical-align:middle;\" /></a><br>(see <a class=\"ProveItLink\" href=\"../../../__pv_it/theorems/276292fd6a58401f31aaebe1c5b1f4c8c9145c210/dependencies.ipynb\">dependencies</a>)<br>"
      ],
      "text/plain": [
       "pi_is__real_pos: pi in RealPos"
      ]
     },
     "execution_count": 2,
     "metadata": {},
     "output_type": "execute_result"
    }
   ],
   "source": [
    "%proving pi_is__real_pos"
   ]
  },
  {
   "cell_type": "code",
   "execution_count": null,
   "metadata": {},
   "outputs": [],
   "source": []
  }
 ],
 "metadata": {
  "kernelspec": {
   "display_name": "Python 3",
   "language": "python",
   "name": "python3"
  }
 },
 "nbformat": 4,
 "nbformat_minor": 0
}