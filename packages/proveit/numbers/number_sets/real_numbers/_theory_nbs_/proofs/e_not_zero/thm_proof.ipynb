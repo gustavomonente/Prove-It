{
 "cells": [
  {
   "cell_type": "markdown",
   "metadata": {},
   "source": [
    "Proof of <a class=\"ProveItLink\" href=\"../../../../../../_theory_nbs_/theory.ipynb\">proveit</a>.<a class=\"ProveItLink\" href=\"../../../../../_theory_nbs_/theory.ipynb\">numbers</a>.<a class=\"ProveItLink\" href=\"../../../../_theory_nbs_/theory.ipynb\">number_sets</a>.<a class=\"ProveItLink\" href=\"../../theory.ipynb\">real_numbers</a>.<a class=\"ProveItLink\" href=\"../../theorems.ipynb#e_not_zero\">e_not_zero</a> theorem\n",
    "========"
   ]
  },
  {
   "cell_type": "code",
   "execution_count": 1,
   "metadata": {},
   "outputs": [],
   "source": [
    "import proveit\n",
    "theory = proveit.Theory() # the theorem's theory"
   ]
  },
  {
   "cell_type": "code",
   "execution_count": 2,
   "metadata": {},
   "outputs": [
    {
     "data": {
      "text/html": [
       "Under these <a href=\"presumptions.txt\">presumptions</a>, we begin our proof of<br><strong id=\"e_not_zero\">e_not_zero:</strong> <a class=\"ProveItLink\" href=\"../../../__pv_it/theorems/1ae0a6f15a15078447a31330aacc2291b6ad17eb0/expr.ipynb\"><img src=\"data:image/png;base64,iVBORw0KGgoAAAANSUhEUgAAAC8AAAAUCAMAAAAqRJTwAAAAOVBMVEX///8kJCQNDQ0oKCiqqqq6\n",
       "uroyMjJmZmbMzMxERETc3NyIiIiYmJh2dnYiIiIQEBBUVFTu7u4AAADPG9cHAAAAAXRSTlMAQObY\n",
       "ZgAAANFJREFUKM+1UlsOwyAMYxtvCIHc/7AjsG7QB1I/FgkkVNd2nAhxXVDEnfJ6+jlEsEt8VsND\n",
       "SyFK8it6NzwiNg29oh/VXeZbEndUMiZY0wtqeEXsClMMmPd4N9IXMh0fqi5WEU9bdqBbvZ58m02M\n",
       "mgHLeD6VLi7oK950PNTTa+7Azv4GP5ai55pn6XZJ0ycfufn5zZF9P7B38VVxLa3IXRps1BOh3g9y\n",
       "mFdJCBFwVFHmMI7Uku8hmER6ikcfF7NACPli36S5tcdn9KuS8Fd6oVYf3+FmCLbj3Z4qAAAAAElF\n",
       "TkSuQmCC\n",
       "\" style=\"display:inline;vertical-align:middle;\" /></a><br>(see <a class=\"ProveItLink\" href=\"../../../__pv_it/theorems/cd5b3f0c1fcb07789b04f0cec436548b34d3b6c30/dependencies.ipynb\">dependencies</a>)<br>"
      ],
      "text/plain": [
       "e_not_zero: e != 0"
      ]
     },
     "execution_count": 2,
     "metadata": {},
     "output_type": "execute_result"
    }
   ],
   "source": [
    "%proving e_not_zero"
   ]
  },
  {
   "cell_type": "code",
   "execution_count": null,
   "metadata": {},
   "outputs": [],
   "source": []
  }
 ],
 "metadata": {
  "kernelspec": {
   "display_name": "Python 3",
   "language": "python",
   "name": "python3"
  }
 },
 "nbformat": 4,
 "nbformat_minor": 0
}