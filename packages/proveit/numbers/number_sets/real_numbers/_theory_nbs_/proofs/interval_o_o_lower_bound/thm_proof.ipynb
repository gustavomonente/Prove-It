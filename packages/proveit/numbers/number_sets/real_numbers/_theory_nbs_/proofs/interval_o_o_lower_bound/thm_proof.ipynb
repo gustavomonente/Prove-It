{
 "cells": [
  {
   "cell_type": "markdown",
   "metadata": {},
   "source": [
    "Proof of <a class=\"ProveItLink\" href=\"../../../../../../_theory_nbs_/theory.ipynb\">proveit</a>.<a class=\"ProveItLink\" href=\"../../../../../_theory_nbs_/theory.ipynb\">numbers</a>.<a class=\"ProveItLink\" href=\"../../../../_theory_nbs_/theory.ipynb\">number_sets</a>.<a class=\"ProveItLink\" href=\"../../theory.ipynb\">real_numbers</a>.<a class=\"ProveItLink\" href=\"../../theorems.ipynb#interval_o_o_lower_bound\">interval_o_o_lower_bound</a> theorem\n",
    "========"
   ]
  },
  {
   "cell_type": "code",
   "execution_count": 1,
   "metadata": {},
   "outputs": [],
   "source": [
    "import proveit\n",
    "theory = proveit.Theory() # the theorem's theory"
   ]
  },
  {
   "cell_type": "code",
   "execution_count": 2,
   "metadata": {},
   "outputs": [
    {
     "data": {
      "text/html": [
       "Under these <a href=\"presumptions.txt\">presumptions</a>, we begin our proof of<br><strong id=\"interval_o_o_lower_bound\">interval_o_o_lower_bound:</strong> <a class=\"ProveItLink\" href=\"../../../__pv_it/theorems/164af4edd20da0fc5b5279a2282687de30ee5cba0/expr.ipynb\"><img src=\"data:image/png;base64,iVBORw0KGgoAAAANSUhEUgAAAOAAAAAZBAMAAADanj8DAAAAMFBMVEX///8QEBCIiIhmZma6urrM\n",
       "zMxUVFQiIiJERETc3Nzu7u6qqqp2dnaYmJgyMjIAAAAcRTyBAAAAAXRSTlMAQObYZgAAA0JJREFU\n",
       "SMfVVk1oE0EUftnsNslmN7l40SKERqO0l9CiIKhEBcWDEi/tpdBS/1AkFH9aqK0ET6lSWBRqb64U\n",
       "WimFBD1IRXGJtyiaQ8FaUBbBg4oSioKtF2feZLOzW9PdQy8+WHbevG/mm3nvzZsB8JbzwxpsjojD\n",
       "o35gg7B5Mvm/E0aqzW0LjNCkvw8ehD5ATB5uYGvRkPAVbX/1IPQBYvJlA5tsIuEUdUTeg9AHCEVN\n",
       "uzqinzmljIQxHUApeRD6AKGEXOdHvcJ3PEBCtTI3d88raXyAUFwYYVTn1VgGs/R3oTDqmaXrQBGu\n",
       "LTVaSWrZ37mNafOXrei1XThM/KmkkfAswHijEvxoQsiDUAyrcdKEaMZSJsh3SIvVUJkes7rn4V3i\n",
       "BnGwiYRHWPoweVn/P9l9+hNP6ABZKY5Cl73PUq6T3WyHIKZXy7cGugJv9eMkgwaRMASCfVopSH7W\n",
       "VRUUqCQ4Qg5EzdBrB4bk0oylbAEIrkEIR87YhDoU0PU1JFSqIXvlq+RbWpgDQrhc5Qg5EDVTF9cl\n",
       "TvYa02zCQB6KWVTujtnzrnCEEbObOjxFT4y0ktJFepYoocERMlB5TyqLZtold+boxH1tF+3dE5cW\n",
       "DXgBrqQB6RdmCHMpjJ8ho69Ja5RnREjHgBF2pflaSkGCngtl0BwhXbPZPpr0u/QkRPvtpCmWIBfV\n",
       "nMfiqVCD9kbSwGMyOpiW6LThhGpOIzR47qqjeFOQBN+JK3CtJC26oIc2b8JHVK2cI1MMKc6DL/4J\n",
       "12hVDxqMME5iHCgJdJWBTLC/p1AoJATlzqKDMJ6ohxjNIgG3QoqFbS9IVgYfI74a2Dm5w1na5IH2\n",
       "JK38sSwjVMm+i1p4mfzieqDUwlwa7dV5QgoiUZcAzVIe5FWYINkDa4RZ7G9S2pwyy92HAa3vBEzp\n",
       "IX0JlCyLYcVw34f3FVNhZpl0bZV+ViO3YETNg2o0K94OKXOE4sCjA3CqJF0iQ2/Tg//GmD7oJpxZ\n",
       "LFeYGUYAjnYkq1IrdL8mwWmUmnHv64kXdh8IJEgb3Pho7rBixA6/rws4rLkJo5rvJ0aYfzbAc19P\n",
       "jPfr3jSq/zeNWJ8Yf3J6kx9Rw/94ly7wTtb9v0uH/gKeeuyYiczmaQAAAABJRU5ErkJggg==\n",
       "\" style=\"display:inline;vertical-align:middle;\" /></a><br>(see <a class=\"ProveItLink\" href=\"../../../__pv_it/theorems/2810e873927ff824c99762df187c2234b985b9980/dependencies.ipynb\">dependencies</a>)<br>"
      ],
      "text/plain": [
       "interval_o_o_lower_bound: forall_{a, b in Real} [forall_{x in (a,b)} (a < x)]"
      ]
     },
     "execution_count": 2,
     "metadata": {},
     "output_type": "execute_result"
    }
   ],
   "source": [
    "%proving interval_o_o_lower_bound"
   ]
  },
  {
   "cell_type": "code",
   "execution_count": null,
   "metadata": {},
   "outputs": [],
   "source": []
  }
 ],
 "metadata": {
  "kernelspec": {
   "display_name": "Python 3",
   "language": "python",
   "name": "python3"
  }
 },
 "nbformat": 4,
 "nbformat_minor": 0
}