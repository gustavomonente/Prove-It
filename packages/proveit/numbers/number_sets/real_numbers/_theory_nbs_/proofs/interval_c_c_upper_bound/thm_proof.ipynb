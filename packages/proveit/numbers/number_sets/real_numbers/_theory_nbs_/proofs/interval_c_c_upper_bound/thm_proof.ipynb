{
 "cells": [
  {
   "cell_type": "markdown",
   "metadata": {},
   "source": [
    "Proof of <a class=\"ProveItLink\" href=\"../../../../../../_theory_nbs_/theory.ipynb\">proveit</a>.<a class=\"ProveItLink\" href=\"../../../../../_theory_nbs_/theory.ipynb\">numbers</a>.<a class=\"ProveItLink\" href=\"../../../../_theory_nbs_/theory.ipynb\">number_sets</a>.<a class=\"ProveItLink\" href=\"../../theory.ipynb\">real_numbers</a>.<a class=\"ProveItLink\" href=\"../../theorems.ipynb#interval_c_c_upper_bound\">interval_c_c_upper_bound</a> theorem\n",
    "========"
   ]
  },
  {
   "cell_type": "code",
   "execution_count": 1,
   "metadata": {},
   "outputs": [],
   "source": [
    "import proveit\n",
    "theory = proveit.Theory() # the theorem's theory"
   ]
  },
  {
   "cell_type": "code",
   "execution_count": 2,
   "metadata": {},
   "outputs": [
    {
     "data": {
      "text/html": [
       "Under these <a href=\"presumptions.txt\">presumptions</a>, we begin our proof of<br><strong id=\"interval_c_c_upper_bound\">interval_c_c_upper_bound:</strong> <a class=\"ProveItLink\" href=\"../../../__pv_it/theorems/c68aa9224b4f3878dda49a787af0bc57705c03710/expr.ipynb\"><img src=\"data:image/png;base64,iVBORw0KGgoAAAANSUhEUgAAANoAAAAZBAMAAAClTy3yAAAAMFBMVEX///8QEBCIiIhmZma6urrM\n",
       "zMxUVFQiIiJERETc3Nzu7u6qqqp2dnaYmJgyMjIAAAAcRTyBAAAAAXRSTlMAQObYZgAAA0FJREFU\n",
       "SMfVlktoE1EUhk8mmeY5ycaNFCG0kIoKhhYVkWpA0JVt3LQuhBa1CiKliBqpRaK4SJXqIKLdiGML\n",
       "rXTTQRdSEAlxUYgPZlGwCpZBUFFRRFzYLMRz7s1k7kwfE6EbD8zr3j/57j3/fQF4x4mcCmsQgdxQ\n",
       "PbIBWKO4/R/TwsaKVTOcZtLjnQetDhHFg2VLI5ewuQ0qoz2ngi8etDpEFJ/dBS1ZusfTiDQZbZQy\n",
       "kPeg1SHCUNKuTs0m2TOh463EaHENIKZ70OoQYQSdEyW8o2pjJ/4a7jOaUp6auuM1SuoQYTgV4X6r\n",
       "ebMsnRk2Jn8XCkOeY9ItOi90Y8FKYDNeY6lbW1j+5OsZS/CxaRemJs1ofQDDten+fQWaKKLotV46\n",
       "0H3L0BG0qqicDrIRXMjW7PujTaugmIy2l48XHs+qz8cbj74XaQ6RSKMmW7QL+KnFKgHW75ZNliRa\n",
       "gUQSogOMFgTJnpRfqS1P2gwpBuWkQBNEVG3T4rpNW4eVELK+XperL34Tposg/2C0mBG027yI1/zM\n",
       "FCDtrSHQBBFV27SE6qABdaMaT3dWG5SGTt2ihc0uLBpPfSBrf6a0AJlOtKJA46LStlSWVSMt0tpP\n",
       "zvQ0nRQziQU1v6CjjzfIgD0aBHgmYfgYZuCsXCHIoJSOA6e1pcV1kkSS1h/MxKu+TWZ7aBq1aM3i\n",
       "KIlqW1Fm/fDQFUbLRDaANUrgEf6bPy3Tf4aSijnOaP7jZxyrMolk+IZJqNLaoJteLsNCjYZDrFO/\n",
       "AXeFRZ862mCEsOH+IqdRpn26RFb4Mv7e7kKhkJRiN+ccNG4H2sqqkdYIKe7V9hptP8BE01i7eyOI\n",
       "tL4k97KcpmDPp9XQW3wkNJ/ewDMZPayJNBKh0zI08L5FFmEERwtUEJtffuVyxqSwv/nUngMwqgW1\n",
       "eYhluW/lont/uxczY7wa+7Ze/mWEr8Kgkq/R3KuyI0oCLXDkYTsc1OVTiLhGs/tVcXy3mzYxVyrz\n",
       "aqTt29xsyI3Q9cKeAeJyE/mUo7AXFHPJ3s2XUYmMWXnvlrhvfJlg9/zquymLkOqmRdW6Twq9wv5v\n",
       "01Y5KbxZci5R4F9phpO2Jqeg3NLz5MXldhzP8+S5v2zt8iSMFqOYAAAAAElFTkSuQmCC\n",
       "\" style=\"display:inline;vertical-align:middle;\" /></a><br>(see <a class=\"ProveItLink\" href=\"../../../__pv_it/theorems/d1e745797450028c0a776e85e10104c091f00d630/dependencies.ipynb\">dependencies</a>)<br>"
      ],
      "text/plain": [
       "interval_c_c_upper_bound: forall_{a, b in Real} [forall_{x in [a,b]} (x <= b)]"
      ]
     },
     "execution_count": 2,
     "metadata": {},
     "output_type": "execute_result"
    }
   ],
   "source": [
    "%proving interval_c_c_upper_bound"
   ]
  },
  {
   "cell_type": "code",
   "execution_count": null,
   "metadata": {},
   "outputs": [],
   "source": []
  }
 ],
 "metadata": {
  "kernelspec": {
   "display_name": "Python 3",
   "language": "python",
   "name": "python3"
  }
 },
 "nbformat": 4,
 "nbformat_minor": 0
}