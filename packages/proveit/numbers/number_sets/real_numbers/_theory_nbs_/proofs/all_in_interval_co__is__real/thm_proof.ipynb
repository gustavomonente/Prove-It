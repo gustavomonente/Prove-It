{
 "cells": [
  {
   "cell_type": "markdown",
   "metadata": {},
   "source": [
    "Proof of <a class=\"ProveItLink\" href=\"../../../../../../_theory_nbs_/theory.ipynb\">proveit</a>.<a class=\"ProveItLink\" href=\"../../../../../_theory_nbs_/theory.ipynb\">numbers</a>.<a class=\"ProveItLink\" href=\"../../../../_theory_nbs_/theory.ipynb\">number_sets</a>.<a class=\"ProveItLink\" href=\"../../theory.ipynb\">real_numbers</a>.<a class=\"ProveItLink\" href=\"../../theorems.ipynb#all_in_interval_co__is__real\">all_in_interval_co__is__real</a> theorem\n",
    "========"
   ]
  },
  {
   "cell_type": "code",
   "execution_count": 1,
   "metadata": {},
   "outputs": [],
   "source": [
    "import proveit\n",
    "theory = proveit.Theory() # the theorem's theory"
   ]
  },
  {
   "cell_type": "code",
   "execution_count": 2,
   "metadata": {},
   "outputs": [
    {
     "data": {
      "text/html": [
       "Under these <a href=\"presumptions.txt\">presumptions</a>, we begin our proof of<br><strong id=\"all_in_interval_co__is__real\">all_in_interval_co__is__real:</strong> <a class=\"ProveItLink\" href=\"../../../__pv_it/theorems/a052f20fe024747bf44cc186573e8b6e839d9cb20/expr.ipynb\"><img src=\"data:image/png;base64,iVBORw0KGgoAAAANSUhEUgAAAOAAAAAZBAMAAADanj8DAAAAMFBMVEX///8QEBCIiIhmZma6urrM\n",
       "zMxUVFQiIiJERETc3Nzu7u6qqqp2dnaYmJgyMjIAAAAcRTyBAAAAAXRSTlMAQObYZgAAA1lJREFU\n",
       "SMfVlk1oE0EUgF/2J7+7iQcPlYKEBqLUS2hR8GAJFhUFJV5aD0JD/a1I6UGNtKWEXkwrxdWD9lBw\n",
       "pdBKEQ16KBWFEC8SRYMUWgvKIvSgYi1FwdaLb2ay2UmaJlvoxQfDzs/b/fb9zJsBqC0XEhpsjUiJ\n",
       "fjtqPbB1cvc/B3ryVRZnGNAgj081gDaUqDysNDlXd2upDv/EqVHgGzL3rQbQhhKVrxVnjQk4Na+D\n",
       "16DAUeKJZA2gDSUiaqTidHIM3J44QJYC/TqAkq4BtKFExFWyfdQbiQETKGpo3gMKVHNTU/dqJY0N\n",
       "JSIlKvKgblkoaugff5Rm6Z9Uqr9mlpYrXedskYu9EDZvQ9dB4jt4rHMudUroUiVCgecAhoqVYGkD\n",
       "IK9EJG52Thjgi5qDEWyPYC5IPdnFx3C6BfGqQYGtLH2YvCo8p3ef+cIDS5R4IPnr/eagD1sO3utH\n",
       "KcYC3k4MkATw9VCgCwRru34nTnnRnBcUyAU5IKdEli2gH780YQ62Y9MhxRy9cwmlYGGrm/hXXqZA\n",
       "Je+y/nwV2/zMFCBwIc8BOSWybAEDGEy/xgEBVljR4SwcEw8lLaDHaMPBeHiRTK2EdYlsJgLMcECm\n",
       "lN0bjtFlBHqbumPY6Wi4ZBnfR037zQbb+BgOfyAZwlwKQ2fRT1flNcLpFSJ+YMDmCF9LiZKgd7ui\n",
       "/kIMJ2MdxE279BD44lzSPBeWoZEMmnhgmxgrJg08ww+KEZl81h1UjXEKFM9fKSneREmGH+iKArAZ\n",
       "2klnED6DlLRSTvrrXmYl3JXmSpuSxjwXMwwYwOxwpAXym46oGG9PpVJBQbkzWwIMBAshpssIrIcw\n",
       "C9s+kM0EPoKu6mwMsSrvvXisWLwXIfUzDf4YA6romieaewEfAd2RdjKX+k7rPFBlaSaDk1noXYUR\n",
       "TB5YQ7IUr1japNeF0mbKJHceOrSO4zCqu/R5UGIshrlM+Xl4XzEUtowW7pB/5T3D0KsmQc1UL96m\n",
       "ZDmg1Pn0AJxMy5fx3Ztk47/LjLeUAydmszm2jMDDe0J5uR7a3mJsiqVmqBqvcDzxwsIskCBtfOIL\n",
       "LIZUfGzzVz+ATXFr5UCfZvuKEeduDfDS3hXj47o7jQqbBdLveyNbfYlKrL+XDnAzgr6Je+m1f1O2\n",
       "A19FnFzbAAAAAElFTkSuQmCC\n",
       "\" style=\"display:inline;vertical-align:middle;\" /></a><br>(see <a class=\"ProveItLink\" href=\"../../../__pv_it/theorems/f0396f1c4b27b0a84cafee5ba04bc857283c2fdd0/dependencies.ipynb\">dependencies</a>)<br>"
      ],
      "text/plain": [
       "all_in_interval_co__is__real: forall_{a, b in Real} [forall_{x in [a,b)} (x in Real)]"
      ]
     },
     "execution_count": 2,
     "metadata": {},
     "output_type": "execute_result"
    }
   ],
   "source": [
    "%proving all_in_interval_co__is__real"
   ]
  },
  {
   "cell_type": "code",
   "execution_count": null,
   "metadata": {},
   "outputs": [],
   "source": []
  }
 ],
 "metadata": {
  "kernelspec": {
   "display_name": "Python 3",
   "language": "python",
   "name": "python3"
  }
 },
 "nbformat": 4,
 "nbformat_minor": 0
}