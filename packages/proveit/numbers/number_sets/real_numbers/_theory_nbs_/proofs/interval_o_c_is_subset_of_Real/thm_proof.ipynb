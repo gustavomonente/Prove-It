{
 "cells": [
  {
   "cell_type": "markdown",
   "metadata": {},
   "source": [
    "Proof of <a class=\"ProveItLink\" href=\"../../../../../../_theory_nbs_/theory.ipynb\">proveit</a>.<a class=\"ProveItLink\" href=\"../../../../../_theory_nbs_/theory.ipynb\">numbers</a>.<a class=\"ProveItLink\" href=\"../../../../_theory_nbs_/theory.ipynb\">number_sets</a>.<a class=\"ProveItLink\" href=\"../../theory.ipynb\">real_numbers</a>.<a class=\"ProveItLink\" href=\"../../theorems.ipynb#interval_o_c_is_subset_of_Real\">interval_o_c_is_subset_of_Real</a> theorem\n",
    "========"
   ]
  },
  {
   "cell_type": "code",
   "execution_count": 1,
   "metadata": {},
   "outputs": [],
   "source": [
    "import proveit\n",
    "theory = proveit.Theory() # the theorem's theory"
   ]
  },
  {
   "cell_type": "code",
   "execution_count": 2,
   "metadata": {},
   "outputs": [
    {
     "data": {
      "text/html": [
       "Under these <a href=\"presumptions.txt\">presumptions</a>, we begin our proof of<br><strong id=\"interval_o_c_is_subset_of_Real\">interval_o_c_is_subset_of_Real:</strong> <a class=\"ProveItLink\" href=\"../../../__pv_it/theorems/f7d474f730dab4de1b4dc19f5b802c0a6b0de0860/expr.ipynb\"><img src=\"data:image/png;base64,iVBORw0KGgoAAAANSUhEUgAAAKUAAAAVBAMAAADVzzOcAAAAMFBMVEX///8QEBCIiIhmZma6urrM\n",
       "zMxUVFQiIiJERETc3Nzu7u6qqqp2dnaYmJgyMjIAAAAcRTyBAAAAAXRSTlMAQObYZgAAAqVJREFU\n",
       "OMutlU1oE0EUx1928rFJdpOLhyIIix/FY2iPao0U8SSNl+qhYKnVk0gP1mAViSc3irh6aHsoshKo\n",
       "JZdd9FAqgkt7ECPKIoKxIAShihaq9KQ5iG8ys9nJRzcefPDYyZvNb+Y/771ZgN4Wd5mLpn7Ndn95\n",
       "Bb1GB58CmUvcPUvcnAJQ2pgf+u5t9eHCUQPgNQ18D2R+4960VKaTCbVFOFM1IYGbnKfiCkFINcPc\n",
       "t7TdhVlYADk+DrCKa5o4bwcxYwZz30ZMn1nN5/PTnEkM3OQj3EGlXJ4LlD7H3beX0GQ+fCXskxgo\n",
       "OIUTv3T9eiBzH/f44YHdLPJl7yGPeVXUHg2jdgWP6TxA0YuHt7ow73I/ZqR+srz/MS2DMYktMpeH\n",
       "8FBU1D/cSBW3Nf5cPnjusxe7xjyxBwjLZbIOaY0xY0KO7udv0BWSUzQs+fW8SbfxfNCVFKhoPLaL\n",
       "OalDjIVIDSyHMWfFvA/LuE2IoBjFFRb7TTO5UgZkrrutzFABrJxXniM2Yy6JTHK8wJnx2iiOSv0b\n",
       "9Pd2vxmmpUiZTqt2y4EXvDxdOGp2al+A2+9oTlA7FCdR73SkTlEzUiYFjDmYac2RZcOlZKNM01k8\n",
       "W8ZUNJE5SnIsR/AUwSQToXhZU2ulBpNcuCzmba0xd0UBC/8RdeWMV0ubYm8qNhYRofrSuFbIlrC0\n",
       "IJQl46d1Xdck5cF77+UTzBMTB2b3Q2wGRwNvmjW/OGk275AN0H/YkKKHrmLUMuR1fKTNkB1l2pNj\n",
       "ZtfefMafXm+O3eK96dljbxAyzp6EeTNmVkHJsfOsOF3vEKeN2WGrzQaaeHIETtmRi/iXO7Tm3zql\n",
       "IW+yCH6rJbQeTKGBGsYaTcLz3PFOVqEHU265wSBp/Pu3Q9rp2/Gx7fKF/2N/Ae1Zvmurv98nAAAA\n",
       "AElFTkSuQmCC\n",
       "\" style=\"display:inline;vertical-align:middle;\" /></a><br>(see <a class=\"ProveItLink\" href=\"../../../__pv_it/theorems/8b4a4153189f7b8241d111cf40491f04932bcefd0/dependencies.ipynb\">dependencies</a>)<br>"
      ],
      "text/plain": [
       "interval_o_c_is_subset_of_Real: forall_{a, b in Real} ((a,b] proper_subset Real)"
      ]
     },
     "execution_count": 2,
     "metadata": {},
     "output_type": "execute_result"
    }
   ],
   "source": [
    "%proving interval_o_c_is_subset_of_Real"
   ]
  },
  {
   "cell_type": "code",
   "execution_count": null,
   "metadata": {},
   "outputs": [],
   "source": []
  }
 ],
 "metadata": {
  "kernelspec": {
   "display_name": "Python 3",
   "language": "python",
   "name": "python3"
  }
 },
 "nbformat": 4,
 "nbformat_minor": 0
}