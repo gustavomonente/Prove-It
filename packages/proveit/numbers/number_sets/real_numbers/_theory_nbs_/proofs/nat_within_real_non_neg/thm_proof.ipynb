{
 "cells": [
  {
   "cell_type": "markdown",
   "metadata": {},
   "source": [
    "Proof of <a class=\"ProveItLink\" href=\"../../../../../../_theory_nbs_/theory.ipynb\">proveit</a>.<a class=\"ProveItLink\" href=\"../../../../../_theory_nbs_/theory.ipynb\">numbers</a>.<a class=\"ProveItLink\" href=\"../../../../_theory_nbs_/theory.ipynb\">number_sets</a>.<a class=\"ProveItLink\" href=\"../../theory.ipynb\">real_numbers</a>.<a class=\"ProveItLink\" href=\"../../theorems.ipynb#nat_within_real_non_neg\">nat_within_real_non_neg</a> theorem\n",
    "========"
   ]
  },
  {
   "cell_type": "code",
   "execution_count": 1,
   "metadata": {},
   "outputs": [],
   "source": [
    "import proveit\n",
    "theory = proveit.Theory() # the theorem's theory"
   ]
  },
  {
   "cell_type": "code",
   "execution_count": 2,
   "metadata": {},
   "outputs": [
    {
     "data": {
      "text/html": [
       "Under these <a href=\"presumptions.txt\">presumptions</a>, we begin our proof of<br><strong id=\"nat_within_real_non_neg\">nat_within_real_non_neg:</strong> <a class=\"ProveItLink\" href=\"../../../__pv_it/theorems/d48962572c4c30d880196a3a75dc63432f2710fa0/expr.ipynb\"><img src=\"data:image/png;base64,iVBORw0KGgoAAAANSUhEUgAAAE4AAAAVBAMAAAAazcUaAAAAMFBMVEX///9mZmaqqqrc3NyIiIgi\n",
       "IiJUVFTMzMyYmJi6uroQEBB2dnZEREQyMjLu7u4AAAA1o4RqAAAAAXRSTlMAQObYZgAAAVNJREFU\n",
       "KM9jYCACeHsTUDDNAERybGBKwK+OWawASLJOYPhHwEBmGaDC9wUMiwg5jW/PBIZ6A4YIgn7g2/ug\n",
       "/gFDCMPbP2cfMOz6NQFFsnXN+btrGsBMlhsg85YwMJxgT2Dg+4BmyoVnDDU9D4CMJ4fA7vvJwJBa\n",
       "4MLAsABN3QFrBh5mYGC8Pgn3b+Y5tgKGALAsx9HQ0NACqDpGgwsMD0+CrRYAhV9yGd89iDrm2wZI\n",
       "5jEaHGAoh8bHRiCRzORQBlHHaoBsLxsnaiQkM+zkcACrE0Jxn6rsAzR1bA/SweoCkNRZhcYqMDDo\n",
       "nAGCBzB1fAm8IP8yJyCbN5EH1TigOoZqdpA6vgPI6hinH8BQx6FwAN1ea4ZzLajq0oF4M1jdFhR1\n",
       "ZYwFKOouATHjBRCLVwE53rgV0pGVlf4CmsUHVseXNg+RDq4znLmvgCMNse+BxRsGAAClvGelUqpA\n",
       "WwAAAABJRU5ErkJggg==\n",
       "\" style=\"display:inline;vertical-align:middle;\" /></a><br>(see <a class=\"ProveItLink\" href=\"../../../__pv_it/theorems/7871271536d075506873e8acd360641d86c317b40/dependencies.ipynb\">dependencies</a>)<br>"
      ],
      "text/plain": [
       "nat_within_real_non_neg: Natural proper_subset RealNonNeg"
      ]
     },
     "execution_count": 2,
     "metadata": {},
     "output_type": "execute_result"
    }
   ],
   "source": [
    "%proving nat_within_real_non_neg"
   ]
  },
  {
   "cell_type": "code",
   "execution_count": null,
   "metadata": {},
   "outputs": [],
   "source": []
  }
 ],
 "metadata": {
  "kernelspec": {
   "display_name": "Python 3",
   "language": "python",
   "name": "python3"
  }
 },
 "nbformat": 4,
 "nbformat_minor": 0
}