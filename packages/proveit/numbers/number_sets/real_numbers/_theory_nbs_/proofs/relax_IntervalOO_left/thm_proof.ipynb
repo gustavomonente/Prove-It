{
 "cells": [
  {
   "cell_type": "markdown",
   "metadata": {},
   "source": [
    "Proof of <a class=\"ProveItLink\" href=\"../../../../../../_theory_nbs_/theory.ipynb\">proveit</a>.<a class=\"ProveItLink\" href=\"../../../../../_theory_nbs_/theory.ipynb\">numbers</a>.<a class=\"ProveItLink\" href=\"../../../../_theory_nbs_/theory.ipynb\">number_sets</a>.<a class=\"ProveItLink\" href=\"../../theory.ipynb\">real_numbers</a>.<a class=\"ProveItLink\" href=\"../../theorems.ipynb#relax_IntervalOO_left\">relax_IntervalOO_left</a> theorem\n",
    "========"
   ]
  },
  {
   "cell_type": "code",
   "execution_count": 1,
   "metadata": {},
   "outputs": [],
   "source": [
    "import proveit\n",
    "theory = proveit.Theory() # the theorem's theory"
   ]
  },
  {
   "cell_type": "code",
   "execution_count": 2,
   "metadata": {},
   "outputs": [
    {
     "data": {
      "text/html": [
       "Under these <a href=\"presumptions.txt\">presumptions</a>, we begin our proof of<br><strong id=\"relax_IntervalOO_left\">relax_IntervalOO_left:</strong> <a class=\"ProveItLink\" href=\"../../../__pv_it/theorems/4510656775b446162a3dff4a9e096808413a2dc00/expr.ipynb\"><img src=\"data:image/png;base64,iVBORw0KGgoAAAANSUhEUgAAAP4AAAAZBAMAAADj+Y5YAAAAMFBMVEX///8QEBCIiIhmZma6urrM\n",
       "zMxUVFQiIiJERETc3Nzu7u6qqqp2dnaYmJgyMjIAAAAcRTyBAAAAAXRSTlMAQObYZgAAA/RJREFU\n",
       "SMfdll9oHEUcx7/Z27277N5e+uCDpShnAmmptR4N+AeJPShUkbY5fWgrCDmi/YtKKNWTtsiZl24s\n",
       "pYfKGYSWaQKtntAc+iABhcW0tCRt2QehbbDlECqoEENRsFGKv9nZ2509z+wp5KUDv5s/7M1nfn9n\n",
       "gOi2p1jGsjS1eKSdz4axbK1yn/E7nVar6283LUx5Qvw6725G8NO8M51o/qctV89LY/09UideFkL8\n",
       "Wb74cwQ/VaMuzaL5P0Xykc7SIepCiD/GrVaK4LsfjEXjzWw0v4vr8q0nFVcrV70l/c8NNBvNT4QS\n",
       "1TxafPef/AFuxtOeVGDOVKsfR8bf99XqZ22EYWgjbYS10v+i64ScEIr/PyzrSCS/y7KO2qFFSVPN\n",
       "H/WQjPd+tC7DJ+eYZP8Ppx/xpj92P0MWzwoh/i5g1C9I8//Cj+eRDNk21Rhsq8PINSbHKaxs80DC\n",
       "Tap9kv/VlfjVi/97bLIMk77gQvxNIhJFm/b6r9a8+oPMV7M4FzqTvznX4unG5DDNWWpRdY9akvin\n",
       "HTwlxsYiujIwaE8uxE9ACRL7F37Cr/scJYWZjFx/hvFYY/r5dD803xlpit0zjckD9G8kBVh7eJ6a\n",
       "x9/IcEB8Eqtj0oa2AFeIn3ISgVp3Sa5PVUH8OUfmX/GroHnsE8b90Ugn0jVdDvjg6iGc1OfxIPTf\n",
       "/fQfqMn8zvp2Wp7o5TVSu9PLVJ7DnG/L/FNagY7a89Iu8hdPNFJ0w5v8EIPd+wMDHuY/g97ZVgR8\n",
       "/S8YC955HW4MlftU2B+jr9Fmb2mLHHtIybq1lvh9WZmfrFCQrY3XD4qCTYl2Nj/II3o164FRCOLP\n",
       "YI9DcUN9g8T/E/H6lODn9Icgxx++pP1jWc2lZMz6hMuP7T4Yun+MJ+knn3agu8d6HujDDj4awS2o\n",
       "pSB8B2oncFIUo1pg/xFcK9j6PRrHnSTtELOFVDx/ddQUrkNHLlbYYVlWRkl98F34/rvjOVt7x7JG\n",
       "sBlYhV7h8iegNRLoOYrF7vF+4Q597ws+/0z3y0M5FBl32xUeBXkhnG/S6mQ5OUddF+uoxYX9jVdY\n",
       "iD/nuhZ5uLbeCf0ujldptEgHUQst6696qan+Gv6WZz1p3P8d5cGtGGMJdh2pvPD/jN18/3cuXIWN\n",
       "C97/V2q/OZ3v45BZgmm3d//4RUu6f7yjDn3Rjxdr2uu00zFef67aE8828/U3tqxjSHK3Jhg2P9rj\n",
       "aKuw/TJ50i+Ao0vyx/1HQHD/yk0EjEL+X+r9s4b8r3ixZYicbvP94VcUXsuT5Wa+UW7//VUKHlLA\n",
       "NxHvr9XN768bnoT55n94/22VNNKzy/v+LLZ4/8u2Utj/pKvFt/8GHj0fp194nOEAAAAASUVORK5C\n",
       "YII=\n",
       "\" style=\"display:inline;vertical-align:middle;\" /></a><br>(see <a class=\"ProveItLink\" href=\"../../../__pv_it/theorems/319f553b0cb185acb6dfd6db59cc91062ba2e6930/dependencies.ipynb\">dependencies</a>)<br>"
      ],
      "text/plain": [
       "relax_IntervalOO_left: forall_{a, b in Real} [forall_{x in (a,b)} (x in [a,b))]"
      ]
     },
     "execution_count": 2,
     "metadata": {},
     "output_type": "execute_result"
    }
   ],
   "source": [
    "%proving relax_IntervalOO_left"
   ]
  },
  {
   "cell_type": "code",
   "execution_count": null,
   "metadata": {},
   "outputs": [],
   "source": []
  }
 ],
 "metadata": {
  "kernelspec": {
   "display_name": "Python 3",
   "language": "python",
   "name": "python3"
  }
 },
 "nbformat": 4,
 "nbformat_minor": 0
}