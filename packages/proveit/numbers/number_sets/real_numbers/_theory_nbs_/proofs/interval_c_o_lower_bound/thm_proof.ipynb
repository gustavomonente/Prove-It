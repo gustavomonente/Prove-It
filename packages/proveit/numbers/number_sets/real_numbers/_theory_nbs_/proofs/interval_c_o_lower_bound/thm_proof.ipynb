{
 "cells": [
  {
   "cell_type": "markdown",
   "metadata": {},
   "source": [
    "Proof of <a class=\"ProveItLink\" href=\"../../../../../../_theory_nbs_/theory.ipynb\">proveit</a>.<a class=\"ProveItLink\" href=\"../../../../../_theory_nbs_/theory.ipynb\">numbers</a>.<a class=\"ProveItLink\" href=\"../../../../_theory_nbs_/theory.ipynb\">number_sets</a>.<a class=\"ProveItLink\" href=\"../../theory.ipynb\">real_numbers</a>.<a class=\"ProveItLink\" href=\"../../theorems.ipynb#interval_c_o_lower_bound\">interval_c_o_lower_bound</a> theorem\n",
    "========"
   ]
  },
  {
   "cell_type": "code",
   "execution_count": 1,
   "metadata": {},
   "outputs": [],
   "source": [
    "import proveit\n",
    "theory = proveit.Theory() # the theorem's theory"
   ]
  },
  {
   "cell_type": "code",
   "execution_count": 2,
   "metadata": {},
   "outputs": [
    {
     "data": {
      "text/html": [
       "Under these <a href=\"presumptions.txt\">presumptions</a>, we begin our proof of<br><strong id=\"interval_c_o_lower_bound\">interval_c_o_lower_bound:</strong> <a class=\"ProveItLink\" href=\"../../../__pv_it/theorems/16720fcb3238d5f122585856f66ef90698f0a08d0/expr.ipynb\"><img src=\"data:image/png;base64,iVBORw0KGgoAAAANSUhEUgAAAN4AAAAZBAMAAACspI2IAAAAMFBMVEX///8QEBCIiIhmZma6urrM\n",
       "zMxUVFQiIiJERETc3Nzu7u6qqqp2dnaYmJgyMjIAAAAcRTyBAAAAAXRSTlMAQObYZgAAA0VJREFU\n",
       "SMfVlk1oE0EUgF822SbN/uTiRYsQGo1SL6FFQVCJCooHJV5aD0JDtYoioRTbSK0lCEKqFBaF2psr\n",
       "hVaKmKAHqSiGeIuiORSsBSX4BypKKAq2Xpw3k92dTY27Qi8+CDtv38t8O++9eTMAznIyrcGqiC89\n",
       "7MatD1ZNxv9vXnO5sW2W8Sr4eO3Ac+FE5dZfbE0a5T3F8WcHngsnKp/qdGHAGgcrlDeBYcg48Fw4\n",
       "oSgxu367n9eKlKfqAHLegefCCcVv3zfXLtjUm5SnlGZmrjvViwsnFLvL+Be7VY3T+vyZzQ471me9\n",
       "0zluJaI5imDYd7Svo8qR92bmWk/tIcGUY5TXCzBqNoBvDXi8E0rSGByqgBQ3lDHy262pVRwHLllp\n",
       "hJfhEZLdCuXtZZXD5EnteX/zsbc8z+bE8/CjtxvKebKW9eClhSX068brErzQDwBIfZTnB8HapRjy\n",
       "4MOOsiBDKczxOCc0WzyVVNGUoawB8C6Dn/1RGTaAOmRp3KuUJ5f91ncvkd/87AwQ3kKZ43FOaLZ4\n",
       "IZJIVbN4ngzkEkyT3plJXuR4zZVOokxGP+Crxajuw02EvALHY07FrdEENRNesD2F83a3nraWTuKZ\n",
       "K8Bjsxo+1sjiD6qyeMLocRKkAXEZMUNCTAXG64jx/ROdBD3lj6u1/E0nujFem/QISEmrXnJ5SEnG\n",
       "usQsLaUHQhXazHqBe2Q+b0zEWQNhpTJJed4TZ239Gp1E+EoCUeN1QBcOLsIb8GWsaiMzDMpW/+7F\n",
       "df0KVLGRewuMFyL59eQF/EhP3JvsymazYUG+OmfjhcK19FIz4bVAlKVsG4hG6e4ngerZOL7Bvp2C\n",
       "PW0R7PVqgvEUEpecFlggj5DuyTexeEpHdZ6HTiTjIjSx9QWXYIzUDSwTsC/5535WJ9Pc+efRug/C\n",
       "hO7X50FOsPyVCvXn3w25IjMzWd9a8Xu5+TIMKRlQCg36tV2KHM/Xc3cnHM6LZ8hfr+B+f16Y3FXP\n",
       "m5orlpiZ8PZtiZTFFuh8RhJjNhiuB91Jo6w8j3hhJ4CACWp8vgssf2yLsT3v6rwNaPU8SXN9n0hy\n",
       "dwR45Oo+8WrF/UWBf+XR6YOxVb4vpVfeP0e4N4Lu/v45+BuBze8vX21mywAAAABJRU5ErkJggg==\n",
       "\" style=\"display:inline;vertical-align:middle;\" /></a><br>(see <a class=\"ProveItLink\" href=\"../../../__pv_it/theorems/a976af09f6e5c2e34afba4ba106bfab80822a86d0/dependencies.ipynb\">dependencies</a>)<br>"
      ],
      "text/plain": [
       "interval_c_o_lower_bound: forall_{a, b in Real} [forall_{x in [a,b)} (a <= x)]"
      ]
     },
     "execution_count": 2,
     "metadata": {},
     "output_type": "execute_result"
    }
   ],
   "source": [
    "%proving interval_c_o_lower_bound"
   ]
  },
  {
   "cell_type": "code",
   "execution_count": null,
   "metadata": {},
   "outputs": [],
   "source": []
  }
 ],
 "metadata": {
  "kernelspec": {
   "display_name": "Python 3",
   "language": "python",
   "name": "python3"
  }
 },
 "nbformat": 4,
 "nbformat_minor": 0
}