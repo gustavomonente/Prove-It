{
 "cells": [
  {
   "cell_type": "markdown",
   "metadata": {},
   "source": [
    "Proof of <a class=\"ProveItLink\" href=\"../../../../../../_theory_nbs_/theory.ipynb\">proveit</a>.<a class=\"ProveItLink\" href=\"../../../../../_theory_nbs_/theory.ipynb\">numbers</a>.<a class=\"ProveItLink\" href=\"../../../../_theory_nbs_/theory.ipynb\">number_sets</a>.<a class=\"ProveItLink\" href=\"../../theory.ipynb\">real_numbers</a>.<a class=\"ProveItLink\" href=\"../../theorems.ipynb#real_pos_interval_o_o_is_subset_of_RealPos\">real_pos_interval_o_o_is_subset_of_RealPos</a> theorem\n",
    "========"
   ]
  },
  {
   "cell_type": "code",
   "execution_count": 1,
   "metadata": {},
   "outputs": [],
   "source": [
    "import proveit\n",
    "theory = proveit.Theory() # the theorem's theory"
   ]
  },
  {
   "cell_type": "code",
   "execution_count": 2,
   "metadata": {},
   "outputs": [
    {
     "data": {
      "text/html": [
       "Under these <a href=\"presumptions.txt\">presumptions</a>, we begin our proof of<br><strong id=\"real_pos_interval_o_o_is_subset_of_RealPos\">real_pos_interval_o_o_is_subset_of_RealPos:</strong> <a class=\"ProveItLink\" href=\"../../../__pv_it/theorems/08a4f9c9837228d32f5ccd7aac639ee96f0b47320/expr.ipynb\"><img src=\"data:image/png;base64,iVBORw0KGgoAAAANSUhEUgAAAMMAAAAbBAMAAAAzPCbbAAAAMFBMVEX///8QEBCIiIhmZma6urrM\n",
       "zMxUVFQiIiJERETc3Nzu7u6qqqp2dnaYmJgyMjIAAAAcRTyBAAAAAXRSTlMAQObYZgAAAz5JREFU\n",
       "SMfNVk1oE0EUft3d/G02rTfrLVUoHjwEc1CoxkIRQRArSFUQGqotij+IPwR/kKCgqR5c9WAPFVcD\n",
       "RXpogwqlIBjsRSpK/IGWohKr9VAlLUVBWxXf28nuzqSt2/QgDsxk5s2b/d687703Afif2vYy9b3Y\n",
       "pbJOeOJlQvixK2UdqjQWAQHPyjmxmoabJcKg7gLhQ8PyNHnrjhCYxkFNcpK7S3HYX6o3VH2lUJ2z\n",
       "IaQIwFOajLtDaBFylmD0B+w9sxTzXbBz2IDDhfeFQg4CkwAdZGHSHaIig8MrQTRDyOFSxWQn+ANx\n",
       "6xZwmrGoZdwhbhHbJ3mJYrpuCVuELiYSicYihKznbYi1uDfY3X1jAWy/oNseEVxnrj4ypr7o3C1k\n",
       "PWlD1GD/nkqdmZcAZxorcgfXB2pY+Fa2rMDbD5hzn847yqs4jtqKyq0A7fNByM40RYcwUpRlMMEk\n",
       "vePqD4B35rxO4KIvZtgQzei9BlDztnsL80J8IlvR6ts5ci+1RwZMAfSZc86DyauJsya3AcZhPZ4D\n",
       "KWfvDxR/+1buGRUhjlFUofoGA45arlN/opXm1+L8LRr8XCHoxTNazucIPlOQPIzmJA0Gw1p0TbSO\n",
       "TwKCqAb1myVRZooQfEomO+WN3JJuEcg3OQJ0Lgz3dwNCjOSEW1xgjkLDg5NM8gtkDNtNsxzVCZde\n",
       "OstmCoT2vTika8eomk7VGgqFDUFkBYh9jG51Brz5flPylXgp0v1YgGiSG+0lRRTcRxPUEx5KJOmU\n",
       "FKkEBhGNCBA1xSJyDobiWfU3rg7BeRzXsQDO8AVEy7QK+QRVWAPkiIfu6g+H8mkTQm47LtJN1iio\n",
       "07V8V0s9JHCVXkVhMmbuqm2bnTI4BqkJG9IMv5BBFUiKm3zK8R2pVCosaddek+O4GlXPF5CgFTNq\n",
       "kQXPE6uAlLRRO7R0/wieqjIqMl7mqOBu8QmSs3wZtNN+dhkUmzpt26g3b4EOw2cMg9bIuBjMiu8q\n",
       "1Tu/VSfuWOIel9IWsjNGabm3HrZlPAfxu5cp9Z5n0zFR+QAf/3aytrtA+EqcxziSkIs5lHvmelhD\n",
       "ugvEm4U/xLgbWcQfo9LHLvR39QeLgJAN+BftD4uT1bQbDnXfAAAAAElFTkSuQmCC\n",
       "\" style=\"display:inline;vertical-align:middle;\" /></a><br>(see <a class=\"ProveItLink\" href=\"../../../__pv_it/theorems/473b35bec6d5240baaaf4f703c646ff11ed06e940/dependencies.ipynb\">dependencies</a>)<br>"
      ],
      "text/plain": [
       "real_pos_interval_o_o_is_subset_of_RealPos: forall_{a, b in RealPos} ((a,b) proper_subset RealPos)"
      ]
     },
     "execution_count": 2,
     "metadata": {},
     "output_type": "execute_result"
    }
   ],
   "source": [
    "%proving real_pos_interval_o_o_is_subset_of_RealPos"
   ]
  },
  {
   "cell_type": "code",
   "execution_count": null,
   "metadata": {},
   "outputs": [],
   "source": []
  }
 ],
 "metadata": {
  "kernelspec": {
   "display_name": "Python 3",
   "language": "python",
   "name": "python3"
  }
 },
 "nbformat": 4,
 "nbformat_minor": 0
}