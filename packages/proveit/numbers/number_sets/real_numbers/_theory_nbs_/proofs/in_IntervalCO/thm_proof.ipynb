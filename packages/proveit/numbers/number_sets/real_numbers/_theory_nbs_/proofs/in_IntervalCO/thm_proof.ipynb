{
 "cells": [
  {
   "cell_type": "markdown",
   "metadata": {},
   "source": [
    "Proof of <a class=\"ProveItLink\" href=\"../../../../../../_theory_nbs_/theory.ipynb\">proveit</a>.<a class=\"ProveItLink\" href=\"../../../../../_theory_nbs_/theory.ipynb\">numbers</a>.<a class=\"ProveItLink\" href=\"../../../../_theory_nbs_/theory.ipynb\">number_sets</a>.<a class=\"ProveItLink\" href=\"../../theory.ipynb\">real_numbers</a>.<a class=\"ProveItLink\" href=\"../../theorems.ipynb#in_IntervalCO\">in_IntervalCO</a> theorem\n",
    "========"
   ]
  },
  {
   "cell_type": "code",
   "execution_count": 1,
   "metadata": {},
   "outputs": [],
   "source": [
    "import proveit\n",
    "theory = proveit.Theory() # the theorem's theory"
   ]
  },
  {
   "cell_type": "code",
   "execution_count": 2,
   "metadata": {},
   "outputs": [
    {
     "data": {
      "text/html": [
       "Under these <a href=\"presumptions.txt\">presumptions</a>, we begin our proof of<br><strong id=\"in_IntervalCO\">in_IntervalCO:</strong> <a class=\"ProveItLink\" href=\"../../../__pv_it/theorems/6298e6c9b31979b4ea60317323ae3ea493152b3c0/expr.ipynb\"><img src=\"data:image/png;base64,iVBORw0KGgoAAAANSUhEUgAAAQMAAAAWBAMAAAA2k+RkAAAAMFBMVEX///8QEBCIiIhmZma6urrM\n",
       "zMxUVFQiIiJERETc3Nzu7u6qqqp2dnaYmJgyMjIAAAAcRTyBAAAAAXRSTlMAQObYZgAAA1tJREFU\n",
       "SMe1Vk1oE0EUftnNZvOzSe6CEKpW6aGEFkHwL+pBBKXpRXsQLPUHC1J6UItVpELVFC+Lh9qLOFKo\n",
       "UAoJeugPoiEKQsS6YMFaUEJRDy0toSBoBfHNz2YnyfbnkA68nZ3Z781++943bxZgK9pjt8nGHxUT\n",
       "k8IKdPC1tgyCfW6zb2XEnW4An8ntPZ1ZqC2FiLkRBYjEkUeB2xCOA321pfAJNqQQzeAlxy1CAIxM\n",
       "bSncKBvN9vQUqii04GvhKbdwfnT0UW0ZBLrlUVuDWxTesWwkuP1OpW7VloJC81zXeTTHhLcgJSJw\n",
       "oGkbH/ys24/Rj3O7CDBgo7zLay2b2PDFjq/fAhiDz7HbdOAzJQpHzEiR74h/JG1CGBNE7RhTpWhv\n",
       "ypcd33N+nt+VC3aimgBxfHWUVh4+khOMjyTH4HZQ+UKhVYjGIIQZo6aDYpVgi9LWfdlsKQbkY9UU\n",
       "XsUqGWj3JF8PhoxAig9al7EJOaqroHNXtQDpLGgYEmqGpTtL/ZGEPDkKSGHOqqLwzaoS4GVT8vWw\n",
       "rK3wwZAUBU8fpJN2WWjJlCgECqdxbrielk9tpZ5ultze+qQ3ToWFFLISBYZqZAwoxu6C+5IlX5EI\n",
       "0H4JPhIF/PDXoixYcJiAF5NADQYuYNSvaav0lb1UzQrp0hMR4BSa4w4FhjrOigjDiC44nSj52nKc\n",
       "UorAdqMakyhkoCvE5BlNoC5KcoQXyEONa5SNP0ZnNFjCD2YvUi9dleTIUGP9LPkUI7pWFhbuSxvu\n",
       "M+9ffzHA83XToYCQ6wakEeaz/MhXzXKj0gRPRmlnWVTbhSTOpFKpmGI8nJEocNTYA1k22BnfQfJl\n",
       "sQ12NOwQZ99IPyntiI5dgztB78V4Nn2gikhygzBC0qZ/Drso8bA8FjXw8USEzhKHgkApiwJjd8N3\n",
       "oeRbXaBP3q8o0FP2zTNhXDTmuVMwRHQyi9cnRsEAI8m1kJfkyFCU9BIwjIACDGJxo76bO6ay9o04\n",
       "pkTsOp4fhNaMdiWL15GZXB6Ahnt8Ojt8yKHAUKyyEIaxobj1OoH62uVx3cM6aAvUPqzllpGuoKAW\n",
       "nEfux7lzwraZm/5lCctMK9jy/RJy/QTXRd2ha/247a78cfsiTGrhcpJrUJjArZIi60C3qsW3bun/\n",
       "yoEViKkFGWQAAAAASUVORK5CYII=\n",
       "\" style=\"display:inline;vertical-align:middle;\" /></a><br>(see <a class=\"ProveItLink\" href=\"../../../__pv_it/theorems/f28744a47b70d54ec5c6c82d990a739695d4f04e0/dependencies.ipynb\">dependencies</a>)<br>"
      ],
      "text/plain": [
       "in_IntervalCO: forall_{a, b, x in Real | a <= x, x < b} (x in [a,b))"
      ]
     },
     "execution_count": 2,
     "metadata": {},
     "output_type": "execute_result"
    }
   ],
   "source": [
    "%proving in_IntervalCO"
   ]
  },
  {
   "cell_type": "code",
   "execution_count": null,
   "metadata": {},
   "outputs": [],
   "source": []
  }
 ],
 "metadata": {
  "kernelspec": {
   "display_name": "Python 3",
   "language": "python",
   "name": "python3"
  }
 },
 "nbformat": 4,
 "nbformat_minor": 0
}