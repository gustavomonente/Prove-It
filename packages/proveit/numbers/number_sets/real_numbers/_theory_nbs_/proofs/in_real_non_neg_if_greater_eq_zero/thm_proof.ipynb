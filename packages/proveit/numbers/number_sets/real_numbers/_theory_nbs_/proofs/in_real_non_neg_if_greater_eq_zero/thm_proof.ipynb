{
 "cells": [
  {
   "cell_type": "markdown",
   "metadata": {},
   "source": [
    "Proof of <a class=\"ProveItLink\" href=\"../../../../../../_theory_nbs_/theory.ipynb\">proveit</a>.<a class=\"ProveItLink\" href=\"../../../../../_theory_nbs_/theory.ipynb\">numbers</a>.<a class=\"ProveItLink\" href=\"../../../../_theory_nbs_/theory.ipynb\">number_sets</a>.<a class=\"ProveItLink\" href=\"../../theory.ipynb\">real_numbers</a>.<a class=\"ProveItLink\" href=\"../../theorems.ipynb#in_real_non_neg_if_greater_eq_zero\">in_real_non_neg_if_greater_eq_zero</a> theorem\n",
    "========"
   ]
  },
  {
   "cell_type": "code",
   "execution_count": 1,
   "metadata": {},
   "outputs": [],
   "source": [
    "import proveit\n",
    "theory = proveit.Theory() # the theorem's theory"
   ]
  },
  {
   "cell_type": "code",
   "execution_count": 2,
   "metadata": {},
   "outputs": [
    {
     "data": {
      "text/html": [
       "Under these <a href=\"presumptions.txt\">presumptions</a>, we begin our proof of<br><strong id=\"in_real_non_neg_if_greater_eq_zero\">in_real_non_neg_if_greater_eq_zero:</strong> <a class=\"ProveItLink\" href=\"../../../__pv_it/theorems/72dc8379fd6fb029cc662b0da332d678fcdfb8cc0/expr.ipynb\"><img src=\"data:image/png;base64,iVBORw0KGgoAAAANSUhEUgAAAMEAAAAcBAMAAAAqzMZeAAAAMFBMVEX///8QEBCIiIhmZma6urrM\n",
       "zMxUVFQiIiJERETc3Nzu7u6qqqp2dnaYmJgyMjIAAAAcRTyBAAAAAXRSTlMAQObYZgAAAutJREFU\n",
       "SMe9lU1oE0EUx//dzTabzTbxJirCSrUUBQmNQgpaKkJPiiuI7UFoqB8oQqm0mkM95FA1rVSChdqb\n",
       "CwWFUG1QUQTBIB6kVVnBg5QKsaKHCtKDgq0gvtlNk9k0rptKfbDJfP9m5r33H2CtTHiWW6ulfWes\n",
       "v1k8/Kdljrj0jZxkv30IG8LqAVLcrXfkEqB8R03WF181IWS4dk8MQFqE38SrVROa/tI/MS8twa/B\n",
       "TzvJs4b3VQICSxUa686lfn0Ytss7TTpDjQYhAkyzhvkqCWqk4tUpcWl4iApKY5b5IdyKwAIwxraU\n",
       "rJJQk63UKgdySI4S4EVrIZaAfttnarZKwk2Ho98lEvllQnMISowBUG/lQ4xubyqTuVGto9/wlY7t\n",
       "3BmaZUi6ndMv2VVuoe9HKnWxWkILu9o9TRtZWZnnbyne5hx5iE5LCThYMfldhCZF3750aIGVa9Mc\n",
       "IdhbFjSddKD9UPJc06PG43P2eBeh+Uxb3wwx6RwnB9YnvgDBFNnQssfIJ34IZqGqPImagoopzTmT\n",
       "E5pCQy8gWhlFdvgrWcHTzyNDZQefJIJq+otB8TgDIsyYZYSS0BTqHylgk5i0XDrGR+uujvKoI0Ig\n",
       "f5RK4w2f4GPOZ4RciaA0deu80Nh2mTaXw1M7N3iCfEcr8wPz0uAJWug86UgINiEaKRFu650GLzS2\n",
       "nSZCFt1BNl3UOIIU370ylnC/h4ZFpB6MWwTxVB/n6SjaHUJjG0W5rNVdUK1KP6camK7VV2ZOWGMy\n",
       "IMTRTjGgCer1txxhExocQlPcmdK1bXSrVbk1YBSVT5ev/XQQYlYPDZhMyzNGrX1LwWNGkaAsYjjj\n",
       "EBr77lv5VQ5cSeT/lJtzRSlLdx6Eqtt+mOI8vUH6ZjqExjLR6yOvFGXe13VvL3CVZdzr3HhLidC2\n",
       "o950CI39iK7zSKgre0YF8kMp9txmnvVI8Osuna6Eux4Js/BEcAhNoSni7bV1fdpE17kPPBFEA//B\n",
       "fgPas8XDza+mNgAAAABJRU5ErkJggg==\n",
       "\" style=\"display:inline;vertical-align:middle;\" /></a><br>(see <a class=\"ProveItLink\" href=\"../../../__pv_it/theorems/d5eecdc2e8b467573cc0145f18d9c9ee21ab0da10/dependencies.ipynb\">dependencies</a>)<br>"
      ],
      "text/plain": [
       "in_real_non_neg_if_greater_eq_zero: forall_{a in Real | a >= 0} (a in RealNonNeg)"
      ]
     },
     "execution_count": 2,
     "metadata": {},
     "output_type": "execute_result"
    }
   ],
   "source": [
    "%proving in_real_non_neg_if_greater_eq_zero"
   ]
  },
  {
   "cell_type": "code",
   "execution_count": null,
   "metadata": {},
   "outputs": [],
   "source": []
  }
 ],
 "metadata": {
  "kernelspec": {
   "display_name": "Python 3",
   "language": "python",
   "name": "python3"
  }
 },
 "nbformat": 4,
 "nbformat_minor": 0
}