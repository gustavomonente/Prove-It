{
 "cells": [
  {
   "cell_type": "markdown",
   "metadata": {},
   "source": [
    "Proof of <a class=\"ProveItLink\" href=\"../../../../../../_theory_nbs_/theory.ipynb\">proveit</a>.<a class=\"ProveItLink\" href=\"../../../../../_theory_nbs_/theory.ipynb\">numbers</a>.<a class=\"ProveItLink\" href=\"../../../../_theory_nbs_/theory.ipynb\">number_sets</a>.<a class=\"ProveItLink\" href=\"../../theory.ipynb\">real_numbers</a>.<a class=\"ProveItLink\" href=\"../../theorems.ipynb#rescale_interval_oc_membership\">rescale_interval_oc_membership</a> theorem\n",
    "========"
   ]
  },
  {
   "cell_type": "code",
   "execution_count": 1,
   "metadata": {},
   "outputs": [],
   "source": [
    "import proveit\n",
    "theory = proveit.Theory() # the theorem's theory"
   ]
  },
  {
   "cell_type": "code",
   "execution_count": 2,
   "metadata": {},
   "outputs": [
    {
     "data": {
      "text/html": [
       "Under these <a href=\"presumptions.txt\">presumptions</a>, we begin our proof of<br><strong id=\"rescale_interval_oc_membership\">rescale_interval_oc_membership:</strong> <a class=\"ProveItLink\" href=\"../../../__pv_it/theorems/c5c1ab9db9e303ce87e01a6228788ea75185610a0/expr.ipynb\"><img src=\"data:image/png;base64,iVBORw0KGgoAAAANSUhEUgAAAWAAAAAZBAMAAAD9FenCAAAAMFBMVEX///8QEBCIiIhmZma6urrM\n",
       "zMxUVFQiIiJERETc3Nzu7u6qqqp2dnaYmJgyMjIAAAAcRTyBAAAAAXRSTlMAQObYZgAABMRJREFU\n",
       "WMPtmF2IG1UUgM9OMslkMkn64IO1KCGxa1krhCzWB61GhfqDtdGH1gdhl2rV+lP2Yd3V7SJxXzpr\n",
       "qQw+xEVQpuzDapRm0AdpERxaRNl269AKtostQVBRoSyLQrv+4Dn3zs+dJLsZFLEPXjgzNyfn5H73\n",
       "3nPuTwCilqfHDfivS3x8MrrxCFwNpf4/MJW3XWkvRzs0KSfaL2Z+qHDvOrTodSEScJa59m5CrXHp\n",
       "KImOLHg3QsPqqzhWWoV71+Ek6X6KBKxZ+MqaPS2zBpfOplvtmh+jDG+2xICZdx1maGJqkYCZ2Uxv\n",
       "y7OudJbj7TNdigKcsxgw866zEWNDFyGGaSJO9rZ82ZXOctjlPDD+CqskI62UO0wOfJgBZ+YbjTcj\n",
       "Jt03jcZ7vXMvNcKl2+RW6ClPeWEVqWH4HDgweeMqcVnXJyMC53T9gB1SCiN00ZteqcQFtMJGP3oL\n",
       "e+/BGdWYzRE/DYosTgpVv693lK/zoifQfl+4nQGTNwLvAZj2d5JLawInqqCEJlHzKg9jQniJoDhc\n",
       "Uvvhde/7D+DrPEZBhmXdXt//EI2ypfi5eLeRXXLHPtCqf5pNg4DJG4HvFZP3RIjx401PfCsCx0tw\n",
       "JGTgN02d94CTlis2PIcf2XDOw5fmAwBpFilBiu9HmYSE5Zqp10PM/VLQplcglydg8kbgJEjB0vpz\n",
       "sAR9MuhIGsznxY1jBG7xPr5/YivIfnxkrYCjr8LlLpOPD7CGdRa9NH7yDZewMNNrAGIr4JthPcnb\n",
       "C2lb0LQJmLwRWHOSwZBd8WvnjjYAgRcdEXjB3+8yB98yKUS8lcfoBL6Wfxzjr2UfWFhEEbivFphh\n",
       "vcl/UtTiMrzDEoBTrZ2one3/jn5wud9k2ZKPU3oQsC0CvyMP47fFR/dgINHk4xiU91ETQ4Vn20NC\n",
       "/V0MHvlXliOsv+vEkGgKWYz1T/1asAw7OFkEHOchAdNPYrsvyjQJ0gRL71F5HduGEXiwJAIrdfQb\n",
       "SLRG+Y6Oq9JcdYi6eJNZ7Ei6PzDqPOdj0hIMeElXFpMOccDbBpoW7EsbLqSvzVUwtoWkg48QJVaS\n",
       "GVCelBj41VkGHHtqNHT4Sd+Gj2rWAZX1436AQdhFtSm46ANTApJsAfVWb/X5TVmic07M9qbAz/HY\n",
       "MMx6kYXNj2nQbIW1CUcpMWDyJuAcxnmfJQ2z8ENL/ACwS9f1vKS98VX4tLbsBqz8kq5PwTaADdDP\n",
       "g3GLD0wzR6ItnPEzePdAkQ5YWQahPvOgq78P5dSFfGC2sX4jJCfatOUFd+OocuAMzmnTUBbxlTMJ\n",
       "ljIowUMi/bgZAl6kxxBUgboHj4F6BQ41sLaC5LXeW/Oc26Uv1tyaj3XREfCccB7uM4a2w4yZNM/h\n",
       "E7fAklblMTxvt5+HU0unwYbP3PbXy784qddgIlMLgP/p4cdeBfi4ABzf/eFWeMSSn7fxmSqfMeEg\n",
       "bRyn7dk724HVFx7abIJCcZg0YdvNRUfeADtPCfsB7YZKtOPldDerfHdg93gpFkt4ShjDa904NmEM\n",
       "S2728MWg1vMAr0Q6wGegO7BitAPzFSVtRL8i1cSrT63nFen8374iSXhFOt9xp8us3sFVgLfzl9MG\n",
       "fHVcQse7/C+R7na8/Ff/lxj7C8p0W+fCDJodAAAAAElFTkSuQmCC\n",
       "\" style=\"display:inline;vertical-align:middle;\" /></a><br>(see <a class=\"ProveItLink\" href=\"../../../__pv_it/theorems/6cce6e8725280e2172c3083f34622fa8fb5a2ab10/dependencies.ipynb\">dependencies</a>)<br>"
      ],
      "text/plain": [
       "rescale_interval_oc_membership: forall_{a, b, c in Real} [forall_{x in (a,b]} ((c * x) in (c * a,c * b])]"
      ]
     },
     "execution_count": 2,
     "metadata": {},
     "output_type": "execute_result"
    }
   ],
   "source": [
    "%proving rescale_interval_oc_membership"
   ]
  },
  {
   "cell_type": "code",
   "execution_count": null,
   "metadata": {},
   "outputs": [],
   "source": []
  }
 ],
 "metadata": {
  "kernelspec": {
   "display_name": "Python 3",
   "language": "python",
   "name": "python3"
  }
 },
 "nbformat": 4,
 "nbformat_minor": 0
}