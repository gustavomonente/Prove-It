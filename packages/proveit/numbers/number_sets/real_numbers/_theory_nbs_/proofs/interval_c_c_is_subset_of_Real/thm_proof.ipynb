{
 "cells": [
  {
   "cell_type": "markdown",
   "metadata": {},
   "source": [
    "Proof of <a class=\"ProveItLink\" href=\"../../../../../../_theory_nbs_/theory.ipynb\">proveit</a>.<a class=\"ProveItLink\" href=\"../../../../../_theory_nbs_/theory.ipynb\">numbers</a>.<a class=\"ProveItLink\" href=\"../../../../_theory_nbs_/theory.ipynb\">number_sets</a>.<a class=\"ProveItLink\" href=\"../../theory.ipynb\">real_numbers</a>.<a class=\"ProveItLink\" href=\"../../theorems.ipynb#interval_c_c_is_subset_of_Real\">interval_c_c_is_subset_of_Real</a> theorem\n",
    "========"
   ]
  },
  {
   "cell_type": "code",
   "execution_count": 1,
   "metadata": {},
   "outputs": [],
   "source": [
    "import proveit\n",
    "theory = proveit.Theory() # the theorem's theory"
   ]
  },
  {
   "cell_type": "code",
   "execution_count": 2,
   "metadata": {},
   "outputs": [
    {
     "data": {
      "text/html": [
       "Under these <a href=\"presumptions.txt\">presumptions</a>, we begin our proof of<br><strong id=\"interval_c_c_is_subset_of_Real\">interval_c_c_is_subset_of_Real:</strong> <a class=\"ProveItLink\" href=\"../../../__pv_it/theorems/92585295e41d8630ca81646f70e4a502d2a700b30/expr.ipynb\"><img src=\"data:image/png;base64,iVBORw0KGgoAAAANSUhEUgAAAKMAAAAVBAMAAADY0UPbAAAAMFBMVEX///8QEBCIiIhmZma6urrM\n",
       "zMxUVFQiIiJERETc3Nzu7u6qqqp2dnaYmJgyMjIAAAAcRTyBAAAAAXRSTlMAQObYZgAAAqtJREFU\n",
       "OMutlU9o03AUx1+TpknTJL14GIJQ/DM9SdiO0zkZIgiyepkeBMfUnUR20BWmSD2ZKuJPD7rDDpGC\n",
       "Si8JehgTwTAHSkUJIlgHQhGm+IcpnrQH8f3yS9qkf9KLD0J+eS/55L33/f0B6G9pF3avR13q57Hu\n",
       "7y7jVaeDD7HIBwCroUf58iyA0oZ8N3BjY8AFSBGAl9TxNRb5JYoETe9EQv0eHKuZIGOKC7SyYhxR\n",
       "1duQWbsLsrgIUnoKYAV/aWLcjkOKpA05YTaR6pVCoZD3kTzBFO+is1qp3Imtm0YjyOcQINPfSShL\n",
       "nmC1GgZ+G8bFWOQ2hkzvGdrMHJ+2jvhIkYQLTyWxcAXbdBqgFPiTG12Q1xlyP9F+MsX/mhZhyJFI\n",
       "L5dGsSMqFj/uqeTbM/++tOvkx8B3wUPKW4BnKmYakM0x5GwIebNwiUqSQZ8InNsMfKNZPBl2OQWq\n",
       "Od+3yUPyDRCZh6+D5XhIqnAry3EJkwQBS1FcsRX4g1dtuQKIXHMjyEQRrHwwLSdsDykXw0j+QNFH\n",
       "puuTOCoP0iUn/Bo0k9hfD+lECrcceOpPSxf2mZ2FL8LVN1QO6iudwv+dFxqUNM/pGjDksB6Rx7Lh\n",
       "bMYTODuGfWXIlQhyks8zeeARcnldoHQpp9bLHpKfOReWbJWG5hSw8IOUK+k+UrPDC1KxcfbwtLgs\n",
       "dj1hc7TViTF+6qhhGDlOufU2ePkgU3x6x+3tIM5jRUOvgqkuzxxqbRvrYPywQaMNV1Eoi0hreMua\n",
       "CTvFCs8cN7styMf+3V+QwotgQQZ2PxgkyInDsGCKZg2UPOtl1em2bThRZKc125ucfrgXjtjCGfzk\n",
       "Gp3qr53yaBAstZByrg8ytGw8Y83msJe9tmAV+iAlEnnMkJ4Hxc62g4LrdVC8b9tr4b/YP7Osw9Hk\n",
       "e6ucAAAAAElFTkSuQmCC\n",
       "\" style=\"display:inline;vertical-align:middle;\" /></a><br>(see <a class=\"ProveItLink\" href=\"../../../__pv_it/theorems/674a1d0b23239b6d2f84bf8027c768606c56012c0/dependencies.ipynb\">dependencies</a>)<br>"
      ],
      "text/plain": [
       "interval_c_c_is_subset_of_Real: forall_{a, b in Real} ([a,b] proper_subset Real)"
      ]
     },
     "execution_count": 2,
     "metadata": {},
     "output_type": "execute_result"
    }
   ],
   "source": [
    "%proving interval_c_c_is_subset_of_Real"
   ]
  },
  {
   "cell_type": "code",
   "execution_count": null,
   "metadata": {},
   "outputs": [],
   "source": []
  }
 ],
 "metadata": {
  "kernelspec": {
   "display_name": "Python 3",
   "language": "python",
   "name": "python3"
  }
 },
 "nbformat": 4,
 "nbformat_minor": 0
}