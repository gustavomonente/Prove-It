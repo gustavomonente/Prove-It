{
 "cells": [
  {
   "cell_type": "markdown",
   "metadata": {},
   "source": [
    "Proof of <a class=\"ProveItLink\" href=\"../../../../../../_theory_nbs_/theory.ipynb\">proveit</a>.<a class=\"ProveItLink\" href=\"../../../../../_theory_nbs_/theory.ipynb\">numbers</a>.<a class=\"ProveItLink\" href=\"../../../../_theory_nbs_/theory.ipynb\">number_sets</a>.<a class=\"ProveItLink\" href=\"../../theory.ipynb\">real_numbers</a>.<a class=\"ProveItLink\" href=\"../../theorems.ipynb#relax_IntervalOO_right\">relax_IntervalOO_right</a> theorem\n",
    "========"
   ]
  },
  {
   "cell_type": "code",
   "execution_count": 1,
   "metadata": {},
   "outputs": [],
   "source": [
    "import proveit\n",
    "theory = proveit.Theory() # the theorem's theory"
   ]
  },
  {
   "cell_type": "code",
   "execution_count": 2,
   "metadata": {},
   "outputs": [
    {
     "data": {
      "text/html": [
       "Under these <a href=\"presumptions.txt\">presumptions</a>, we begin our proof of<br><strong id=\"relax_IntervalOO_right\">relax_IntervalOO_right:</strong> <a class=\"ProveItLink\" href=\"../../../__pv_it/theorems/14e65e148733a46b830fcc077e2d3cdfdbe2eaf00/expr.ipynb\"><img src=\"data:image/png;base64,iVBORw0KGgoAAAANSUhEUgAAAP4AAAAZBAMAAADj+Y5YAAAAMFBMVEX///8QEBCIiIhmZma6urrM\n",
       "zMxUVFQiIiJERETc3Nzu7u6qqqp2dnaYmJgyMjIAAAAcRTyBAAAAAXRSTlMAQObYZgAAA/FJREFU\n",
       "SMfdll9oHEUcx3+3t3t/9s+dD75oUI7EpkEjLgkootErhbaIba59SHwQ7ojWf2gJEnOSFDnz0o0h\n",
       "dCkSQ6EyNmDbK/SW9qGktLgklEpiwj74UIPKIaioUELxwd6D+JuZ29u59Oxehbw4cDc7P3bnM/P7\n",
       "fX+/GYDw9mbRhm1pcvFoO6+Nwra1uf8ZP+m1ZTZ+zcIi51dp90MIP8U+8sL5Z8PN6se4Hz0LMZvx\n",
       "V6nt9xC+7mCXIuH839owp0zGV6uMP0/dUwrhsxfmw/GG2YY57TA+LDE+3RXb3j3jTx20Gs6PNyWq\n",
       "caz4UQvzIOH8LxjfWCmXPwvV3/fl8rk2ZNg0kTJFWpnhBnB+Ksv0/5dlHQ3lpy3rmNtkFLakNJ66\n",
       "8He6+9PeDB1cIKI5+Xzfw3z0S+dzjK+bjH8YYLpRkG79Cz+Wg0STE3X/4UAVtKw/mEV5u8b7cZZU\n",
       "b4Nghl12apPr/29SsSnfqDL+bq5E3pbr/eWe134S+bIJF5rW1Jic7uJZfzCJY6LXZLbUQNRoVh+B\n",
       "KDdoNUhnKF8bZfw4SEFi/0EXeLXfk3RYyYj1ZxSe9IfnlwdAaQQjhdr90h88iF9DgnOUR29h883R\n",
       "GsT5hNEqVFzKVzYZX/fiwbbu4O/mYhmQv+GJ/LVGFTRmThIaDz+bcK8pO+CjhXOEpEZzpASVnJ/+\n",
       "g47AT1aH0LrQ/TNd8+1uItNkpXxX5H+uFHCpXYcOY7xoRuFG+47QCfOd7wQOnKR/+fraHhD9X3Hh\n",
       "q/qCPXiRUL7M/Q/Tr+NkHyg1ip2QTFZrkd9vivzEHH7xeKw6xgs2ZtSZXJ4KfCfpAq0QCE0jT4HE\n",
       "lN8n6q/iwBGNuSmdRS0I+oNLOH/UVBglY1QXGD/6xljT+aM9g3+5lAcqW9Y+gH4Ypk9T8CPIpUC+\n",
       "g85xOMWrjiOoGmce16GCyJiXMBk/6nI+jVfEkegeItloYdiyrIykn/i2+fy7XQ+28qFlTcEegA7o\n",
       "5rF9GhQ/gfaiFjtPD/BwqG+9FJjVkR1zj0F8gsZtrV5/cpxvoLcqdmIDuzSJODHuf+1V0sTfYKGF\n",
       "HDBfvwLqHZgt41MNFyIXWtZf+eu76u8VP2uRf0Y4/yN2fj/Mkzi5CXqOx3/F3Xr+JzfXwYXr9BG/\n",
       "fUj500t+AhNGCQy33fPHFfhLAl8euTgABx3lXXxhhtafdXfhha189b2XewkkaFjjBPY80eUpHTD0\n",
       "DUayUQCnW1dw36xmAn79/BUbF4yE8b/X/acH4y/VtaXxlG73/mFAwE/YW/ma3f79q654domCa/d7\n",
       "/5Lw/vXdXfc/4z7uf/t5x+ZVze29fxZb3P9FX0nkP9Ll4vg/I4wPeSpbhFEAAAAASUVORK5CYII=\n",
       "\" style=\"display:inline;vertical-align:middle;\" /></a><br>(see <a class=\"ProveItLink\" href=\"../../../__pv_it/theorems/faa7d3019de71d279cdaf9cb37f3d72aea42503a0/dependencies.ipynb\">dependencies</a>)<br>"
      ],
      "text/plain": [
       "relax_IntervalOO_right: forall_{a, b in Real} [forall_{x in (a,b)} (x in (a,b])]"
      ]
     },
     "execution_count": 2,
     "metadata": {},
     "output_type": "execute_result"
    }
   ],
   "source": [
    "%proving relax_IntervalOO_right"
   ]
  },
  {
   "cell_type": "code",
   "execution_count": null,
   "metadata": {},
   "outputs": [],
   "source": []
  }
 ],
 "metadata": {
  "kernelspec": {
   "display_name": "Python 3",
   "language": "python",
   "name": "python3"
  }
 },
 "nbformat": 4,
 "nbformat_minor": 0
}