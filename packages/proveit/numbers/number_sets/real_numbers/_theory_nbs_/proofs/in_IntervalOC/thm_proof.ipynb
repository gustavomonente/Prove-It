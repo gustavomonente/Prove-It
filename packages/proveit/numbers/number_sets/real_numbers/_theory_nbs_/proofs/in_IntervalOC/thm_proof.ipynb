{
 "cells": [
  {
   "cell_type": "markdown",
   "metadata": {},
   "source": [
    "Proof of <a class=\"ProveItLink\" href=\"../../../../../../_theory_nbs_/theory.ipynb\">proveit</a>.<a class=\"ProveItLink\" href=\"../../../../../_theory_nbs_/theory.ipynb\">numbers</a>.<a class=\"ProveItLink\" href=\"../../../../_theory_nbs_/theory.ipynb\">number_sets</a>.<a class=\"ProveItLink\" href=\"../../theory.ipynb\">real_numbers</a>.<a class=\"ProveItLink\" href=\"../../theorems.ipynb#in_IntervalOC\">in_IntervalOC</a> theorem\n",
    "========"
   ]
  },
  {
   "cell_type": "code",
   "execution_count": 1,
   "metadata": {},
   "outputs": [],
   "source": [
    "import proveit\n",
    "theory = proveit.Theory() # the theorem's theory"
   ]
  },
  {
   "cell_type": "code",
   "execution_count": 2,
   "metadata": {},
   "outputs": [
    {
     "data": {
      "text/html": [
       "Under these <a href=\"presumptions.txt\">presumptions</a>, we begin our proof of<br><strong id=\"in_IntervalOC\">in_IntervalOC:</strong> <a class=\"ProveItLink\" href=\"../../../__pv_it/theorems/13ec85e30d9374e39ad396d3dcca19575f7086100/expr.ipynb\"><img src=\"data:image/png;base64,iVBORw0KGgoAAAANSUhEUgAAAQMAAAAWBAMAAAA2k+RkAAAAMFBMVEX///8QEBCIiIhmZma6urrM\n",
       "zMxUVFQiIiJERETc3Nzu7u6qqqp2dnaYmJgyMjIAAAAcRTyBAAAAAXRSTlMAQObYZgAAA21JREFU\n",
       "SMe1lk9IFFEcx387u+Pszs6ulyAIgiVLQkKWJOhQYnWQoGC9lIcg2f6QUOLBkjRCyGolgqWDeYlG\n",
       "BAsRdqmDf4hctk4b2EBCJiRidUhRFilILej3/szMm3FCg/XBzpv39vt7+5nfv1mA7RhPPHdDhmtj\n",
       "tg3GcJoj959LS6B2eW4/dyx24uUtlKUB3pH1QmkRomnP7e+O1ReKoKIL+oiHukqL8MFzNxJ3LNcp\n",
       "AuSRWAfQsqVFuOlYTbe302grDt8E1hhCP7IVhoYel5Yg1CquGqv4jfNXtFaGEK0D+JVK3SotgoQe\n",
       "V/c0H8/T1LTyrILQHTm4i+dLsiJLEDQUXwLosbyz/K9j6zb9Yds2iMU3DB9jt8mizHL/Q/wcS0eL\n",
       "bJVZUFcJQgSDdIJmJR9vnMeO7L8wz+6cCRvQ3QCjgq2CqVWA9/pJymNJOtElu8HPT5rQYYUghDEg\n",
       "Ckh2y1gUivtVjSFpUIhtRJDvuQlexwRbH7pMhxRbNCzjoM+4A8C/Bgo7D2pB/U0QZPSKZij2UatC\n",
       "Io8NASLMGBsQQlfcdT9riLY+GrUVtuizRIjg64JMwmwLgXUTITR3BncGKr+Rx1upJC7OH6pMBEgV\n",
       "E4ScgEBV6uEE15hTtWHb8kCA/JPziIHI5GCCr/4QlyBCgFRGz0U89rpM6lTqINks6S1KXRQYQk3c\n",
       "RqAqdZI8JNXwqZ62FWZrpuO4VARajf6YkI6ZLLSEmQt/QL9hpiO8RA5/XCY0wRjZkWEJH5ge67/c\n",
       "JqQjVTXQyFANn4a7wbKlJR9HJweL/K3UKaQ6am5okCG6a3CH9gU/8XI5cvqyUhONor+Jp8TZVCoV\n",
       "k7RHUwICVWlfHWlDpuEHgi31rZqsquDvvsFuHp96dGNyX+9eUDpITA8YrDWRcEZQkkkHZ3Aq1300\n",
       "jkUZylggwud0G4GpBu4C11iTtGjZbmzQp+67G/S4eYMIz6wkTp8/DX26ok/j9ak2p4GWYLlQENKR\n",
       "qgB6sZVRDZeSx1gCYrvF11ROQMhbvSb54ig0ZOWrObwOTuULAMS5I5O5gVobgapIoTUD1ZhSHGGd\n",
       "2Jrt0ftlbTZhNWYjCG2RjqxwBQlzwf7K2R0b06LB//5liYCN4KJl5RL2fATPQ72lW//jVt0Gn1zB\n",
       "cjFuisClo1g8KR22e8S37+i/0pwVLAnVwM4AAAAASUVORK5CYII=\n",
       "\" style=\"display:inline;vertical-align:middle;\" /></a><br>(see <a class=\"ProveItLink\" href=\"../../../__pv_it/theorems/07572f852c462022a2bee1f4f6159a3753fbc2090/dependencies.ipynb\">dependencies</a>)<br>"
      ],
      "text/plain": [
       "in_IntervalOC: forall_{a, b, x in Real | a < x, x <= b} (x in (a,b])"
      ]
     },
     "execution_count": 2,
     "metadata": {},
     "output_type": "execute_result"
    }
   ],
   "source": [
    "%proving in_IntervalOC"
   ]
  },
  {
   "cell_type": "code",
   "execution_count": null,
   "metadata": {},
   "outputs": [],
   "source": []
  }
 ],
 "metadata": {
  "kernelspec": {
   "display_name": "Python 3",
   "language": "python",
   "name": "python3"
  }
 },
 "nbformat": 4,
 "nbformat_minor": 0
}