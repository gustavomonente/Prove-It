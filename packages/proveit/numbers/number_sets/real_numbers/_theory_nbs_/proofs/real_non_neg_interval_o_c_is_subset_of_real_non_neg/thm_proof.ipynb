{
 "cells": [
  {
   "cell_type": "markdown",
   "metadata": {},
   "source": [
    "Proof of <a class=\"ProveItLink\" href=\"../../../../../../_theory_nbs_/theory.ipynb\">proveit</a>.<a class=\"ProveItLink\" href=\"../../../../../_theory_nbs_/theory.ipynb\">numbers</a>.<a class=\"ProveItLink\" href=\"../../../../_theory_nbs_/theory.ipynb\">number_sets</a>.<a class=\"ProveItLink\" href=\"../../theory.ipynb\">real_numbers</a>.<a class=\"ProveItLink\" href=\"../../theorems.ipynb#real_non_neg_interval_o_c_is_subset_of_real_non_neg\">real_non_neg_interval_o_c_is_subset_of_real_non_neg</a> theorem\n",
    "========"
   ]
  },
  {
   "cell_type": "code",
   "execution_count": 1,
   "metadata": {},
   "outputs": [],
   "source": [
    "import proveit\n",
    "theory = proveit.Theory() # the theorem's theory"
   ]
  },
  {
   "cell_type": "code",
   "execution_count": 2,
   "metadata": {},
   "outputs": [
    {
     "data": {
      "text/html": [
       "Under these <a href=\"presumptions.txt\">presumptions</a>, we begin our proof of<br><strong id=\"real_non_neg_interval_o_c_is_subset_of_real_non_neg\">real_non_neg_interval_o_c_is_subset_of_real_non_neg:</strong> <a class=\"ProveItLink\" href=\"../../../__pv_it/theorems/661f235de57a4645efba3edab934412b5b648a310/expr.ipynb\"><img src=\"data:image/png;base64,iVBORw0KGgoAAAANSUhEUgAAANEAAAAcBAMAAAANYke2AAAAMFBMVEX///8QEBCIiIhmZma6urrM\n",
       "zMxUVFQiIiJERETc3Nzu7u6qqqp2dnaYmJgyMjIAAAAcRTyBAAAAAXRSTlMAQObYZgAAA31JREFU\n",
       "SMe9lm9IE2EYwJ/ddm673TY/BIIQTCyRCBmaoFCyCOxTtCiqD4LDLAozCrWR9UHo35wYI8H8VBdC\n",
       "iFg7KooicJQfSlcsiBCxWEZBCiFSkLOi5733bru7Td0J9sp7dz73vO/vueffO4D1Hszz2HojLCek\n",
       "2zQ8WsvqA0aU+46Sazu4BcYwiA0YUu+7DMD9BJNoCRgluQRj+iOXgF0EawJeGyVV4rQndMKP7Sug\n",
       "ZtkUWD1gRROTRPAhP5A9hZchtWSoCC9jWi3nmdDfT730uSKB32TyAOMFmCCC2fxIPOrDN43oczYJ\n",
       "XFyA7Q3jA1cukji5fWCfBxggtnblRzKJaLFXI1rKQbLZY9DVj6CXPjn3AM7TIPNifqRbqGuNaGom\n",
       "lSFNBoPBDoVU6wKuhoCgVKqnGrRxfHj4Rp4J8RanVpc/nSbdfKX+plobsH7aI+LECyU4f4VCF/Ik\n",
       "1Ukmore3VxbLIWkqFWXSOY33AvXapXvRHVjI3cvsLBk1Mp0uohBOklQ7I655KonOcouUZBbVJEeb\n",
       "Lskaca9dwCXTbv+uef2erA5z6Xz5ClJouY1glmWjAixQklWdEUXBOQBHCEdYCbGPqDCZWnwh3x+X\n",
       "H5nBWz2+KcQ/ebTh3IDmS8Uo+5P7TUn9atKYN6xzTxRJfEJlzhypgmdVCYaHcbLZ/i32QuhQFw+S\n",
       "TF0Q9SsSyxIlDWmyfNthfdoiyZ48mBEskmx9MgxImiJfyvaoSVeo96IxGJUlf8gHZnsvZrvr0cWJ\n",
       "FEd3M14Gy76QjRfKBAtJSkLCA8zRCjAPxYr6cZoRURFOOWhZ/YDbCUriPWoSG6jOzj14gDXBdbCk\n",
       "BplOxusCSqrygrNFmxElNJI2j/MsD1GSR61wUamnOXU3gokCf1YpghutMXtZUoO4R3JQIpmPYYeu\n",
       "1mU5MWw3mtW0uX8TWDuJK7YmFNKdZiHTYf22a0saUo30RiAdjSGHlclnDhzC3PQw/PV3OfqeT92N\n",
       "nioPcjdquCp3o1xjJp2EEdsUAt2CSSyg3nM0CFw8Htd0T3NM3WFjOtJKg0ulrY007oEBwSpMAu+n\n",
       "cRrP/knDkspSGgrnMUBypo93S9P9HbBPZE/i9j2kct/EBuuyF7SoCscJBkhWbX4AbV0MxmmZBfdy\n",
       "ne4V7auTprX/OiKrLXB41/bTT3/UOldf8nBtJLMA/3H8A6Jh8TMGVsooAAAAAElFTkSuQmCC\n",
       "\" style=\"display:inline;vertical-align:middle;\" /></a><br>(see <a class=\"ProveItLink\" href=\"../../../__pv_it/theorems/4edd21ea1049534d59ad6afee6f82327dca603860/dependencies.ipynb\">dependencies</a>)<br>"
      ],
      "text/plain": [
       "real_non_neg_interval_o_c_is_subset_of_real_non_neg: forall_{a, b in RealNonNeg} ((a,b] proper_subset RealNonNeg)"
      ]
     },
     "execution_count": 2,
     "metadata": {},
     "output_type": "execute_result"
    }
   ],
   "source": [
    "%proving real_non_neg_interval_o_c_is_subset_of_real_non_neg"
   ]
  },
  {
   "cell_type": "code",
   "execution_count": null,
   "metadata": {},
   "outputs": [],
   "source": []
  }
 ],
 "metadata": {
  "kernelspec": {
   "display_name": "Python 3",
   "language": "python",
   "name": "python3"
  }
 },
 "nbformat": 4,
 "nbformat_minor": 0
}