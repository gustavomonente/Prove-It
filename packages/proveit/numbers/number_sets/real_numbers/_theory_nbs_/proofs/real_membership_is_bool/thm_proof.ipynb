{
 "cells": [
  {
   "cell_type": "markdown",
   "metadata": {},
   "source": [
    "Proof of <a class=\"ProveItLink\" href=\"../../../../../../_theory_nbs_/theory.ipynb\">proveit</a>.<a class=\"ProveItLink\" href=\"../../../../../_theory_nbs_/theory.ipynb\">numbers</a>.<a class=\"ProveItLink\" href=\"../../../../_theory_nbs_/theory.ipynb\">number_sets</a>.<a class=\"ProveItLink\" href=\"../../theory.ipynb\">real_numbers</a>.<a class=\"ProveItLink\" href=\"../../theorems.ipynb#real_membership_is_bool\">real_membership_is_bool</a> theorem\n",
    "========"
   ]
  },
  {
   "cell_type": "code",
   "execution_count": 1,
   "metadata": {},
   "outputs": [],
   "source": [
    "import proveit\n",
    "theory = proveit.Theory() # the theorem's theory"
   ]
  },
  {
   "cell_type": "code",
   "execution_count": 2,
   "metadata": {},
   "outputs": [
    {
     "data": {
      "text/html": [
       "Under these <a href=\"presumptions.txt\">presumptions</a>, we begin our proof of<br><strong id=\"real_membership_is_bool\">real_membership_is_bool:</strong> <a class=\"ProveItLink\" href=\"../../../__pv_it/theorems/3fcd19ea7c8db4a29623b2f5bef8fa85c420dc4a0/expr.ipynb\"><img src=\"data:image/png;base64,iVBORw0KGgoAAAANSUhEUgAAAJoAAAAUBAMAAACHazmMAAAAMFBMVEX///8QEBCIiIhmZma6urrM\n",
       "zMxUVFQiIiJERETc3Nzu7u6qqqp2dnaYmJgyMjIAAAAcRTyBAAAAAXRSTlMAQObYZgAAAiJJREFU\n",
       "OMtjYMAAnBcgGBfgnoBb/AGIcRdZdAUUowPewo5/D3uBjEw0CXWJ/odlDmDx0yD+K2TJl1CMAfi4\n",
       "Elh7uxgY1qFLPAji6rIFi88A+a0B2QkGEIwJODgPMDRMY2DgUUCTaPBlUOUAi/MtAFIbkKTYJ0Aw\n",
       "kvnt5XUw0yz5GBi4BFDFQabt5gCL855atWo6st7pUAwHrE0LEG6zBOpieIIqDjLtyAqI+I+Ojhpk\n",
       "zcpQvEhtig7YS+sWIPk0wQ3IOMyAIg40jaU0FSIOpDqRTeuFYK4DvEXs4AjPRAo37mJQhN1jQBFn\n",
       "aHCs/+gAEXdm4HqAbFo1BPMs4PnFAg6+BoRp4uWvQYztDCjiIJ+evQMRZ2dgQkmqIhDMxcABUc4q\n",
       "9w4IIKYdMegCMeJRxUGmcbBcAIvzXGBnwGIaAwM/JCFwIrntgEkE3DROFLdxMCSAxTkfhAEFDpmq\n",
       "BaD4FCgHFRBAMo1jLcgKd1RxkGlsoEwFEu9MYWBgWpDH7oASC9wL9IGiIAEjJNNYE0zhsWCE4jbe\n",
       "AxDxzQXAQGB4C5M6DMH+G/oZ5kKS8wZEzmI4zQZ0sQ2qOMODGIYzZgwQcUj4/IRJuUPwMqVFtpDY\n",
       "4crwguf6AI6+3wwMT1HE4bkeLM4L8g/rB1acOYvlBDQHQQFXAX5xhvk8D3gI5noYwMj16OLLrhw6\n",
       "BRPsZEDLHehgHSniuEpLBmTriBYnVJLzTsApDgBzaqKtYmf6WQAAAABJRU5ErkJggg==\n",
       "\" style=\"display:inline;vertical-align:middle;\" /></a><br>(see <a class=\"ProveItLink\" href=\"../../../__pv_it/theorems/b44fbef10d98872da102af0b4bf4e961d52ef8f80/dependencies.ipynb\">dependencies</a>)<br>"
      ],
      "text/plain": [
       "real_membership_is_bool: forall_{x} ((x in Real) in BOOLEAN)"
      ]
     },
     "execution_count": 2,
     "metadata": {},
     "output_type": "execute_result"
    }
   ],
   "source": [
    "%proving real_membership_is_bool"
   ]
  },
  {
   "cell_type": "code",
   "execution_count": null,
   "metadata": {},
   "outputs": [],
   "source": []
  }
 ],
 "metadata": {
  "kernelspec": {
   "display_name": "Python 3",
   "language": "python",
   "name": "python3"
  }
 },
 "nbformat": 4,
 "nbformat_minor": 0
}