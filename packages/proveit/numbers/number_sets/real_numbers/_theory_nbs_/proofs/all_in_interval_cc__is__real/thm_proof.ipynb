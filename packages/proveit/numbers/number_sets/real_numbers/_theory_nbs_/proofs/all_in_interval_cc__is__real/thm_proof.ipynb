{
 "cells": [
  {
   "cell_type": "markdown",
   "metadata": {},
   "source": [
    "Proof of <a class=\"ProveItLink\" href=\"../../../../../../_theory_nbs_/theory.ipynb\">proveit</a>.<a class=\"ProveItLink\" href=\"../../../../../_theory_nbs_/theory.ipynb\">numbers</a>.<a class=\"ProveItLink\" href=\"../../../../_theory_nbs_/theory.ipynb\">number_sets</a>.<a class=\"ProveItLink\" href=\"../../theory.ipynb\">real_numbers</a>.<a class=\"ProveItLink\" href=\"../../theorems.ipynb#all_in_interval_cc__is__real\">all_in_interval_cc__is__real</a> theorem\n",
    "========"
   ]
  },
  {
   "cell_type": "code",
   "execution_count": 1,
   "metadata": {},
   "outputs": [],
   "source": [
    "import proveit\n",
    "theory = proveit.Theory() # the theorem's theory"
   ]
  },
  {
   "cell_type": "code",
   "execution_count": 2,
   "metadata": {},
   "outputs": [
    {
     "data": {
      "text/html": [
       "Under these <a href=\"presumptions.txt\">presumptions</a>, we begin our proof of<br><strong id=\"all_in_interval_cc__is__real\">all_in_interval_cc__is__real:</strong> <a class=\"ProveItLink\" href=\"../../../__pv_it/theorems/77a231cca283d03bce4f43b9ba3fb5fa2df66b130/expr.ipynb\"><img src=\"data:image/png;base64,iVBORw0KGgoAAAANSUhEUgAAAN4AAAAZBAMAAACspI2IAAAAMFBMVEX///8QEBCIiIhmZma6urrM\n",
       "zMxUVFQiIiJERETc3Nzu7u6qqqp2dnaYmJgyMjIAAAAcRTyBAAAAAXRSTlMAQObYZgAAA01JREFU\n",
       "SMfVlk1oE0EUx192s8lms5t48FApSGghSr2EFr1ZikVBQYmX1oPQUD8rUnpQo6WU0ItpRVw9aA8V\n",
       "VwotFNFFD6XiIcSLRNHFFloLliD0olhLUbD14puZTXaSpskKvfgg2dl5j/3tvP/bNwNQ2y4kddgW\n",
       "8yYH3IT1wbbZ/f+b97CKb4bx8uTyuQbPRRAxJVVhcr7uzkqdBeDTKe8tmftag+ciiFioYl3lJ+DU\n",
       "ggFKnvJG8T+QqsFzEURstuJsagzkQAIgS3khA0A1a/BcBBG7wd9oN5ODBZ6o4+IeU56Wm5p6UKte\n",
       "XASRDPCFJQ0ZzvpEHZMTaqP1+TudHqhZn+VB1zmllmL2QMCB0tBziCQOnhpcPn1ezKcao7xzAMPF\n",
       "BrCyBY8PIpYoDE5gogrCyliFT2A+QtPYw+s33Yp0LU957axymL22r9N7z3zheSVBPI+8dIHnR4Vz\n",
       "8ME4SikO725ykGgf7KM8PwhW0feNfEWvWixBhVyE43FBxO3wQqbzaA8KZECaybd7Bc1eX7tMkiut\n",
       "Up5q+Z33XsffwswUIG/R4nhcEHE7vLBeygNYY7XDrW9MPJxyeIF8B96MR5fJ1FrU8BL5CS/D8VhQ\n",
       "dn80Tt3IU5p74zjoarhUkk+QfrGbHbx+Ix9JcbB8wvBZTNJVaYNg+oVYCBivJcb3TxIkGL3+tpCt\n",
       "32S8iyRpj9FYUi8vhVVoIjfNPK9DjBfrBV7g88SYRJ4qR7T8OOWJ56+U9GsSJMF3TITNa4FOMhiC\n",
       "pSIPa8f7R14NWMXFFvqZamKBixnGC2NheEwhQRUQE53pdDoiqPfmSnjhiC0vdSOvHqJkZiccKPIw\n",
       "YUp3UyPr68rFY8V+vQzpHyaE4oynYV6e6fIiXsKGx/SxfAZPGzxPYxUmgY+tT1mH21g3sIHgVMV+\n",
       "5n1j97OCTXL7n0fvOg6jht9YADXO9Mtlyve/R2peZW5c3y7ppxUYgX4t5fBmq7apLMfzdj8/CCdN\n",
       "6TJCbpHv/X1mvLWcNzGXzTE38o7sa7Skeuh4x33acrVzjr0f8cYkFohAW+/vAtOPWhBKWolSbcuS\n",
       "9XJeUHd9nkhwZwSudVU7T3zadH7R4F95Vhlve85Lyc3nz8FK+5GL8+e1vxIuBeyZTCizAAAAAElF\n",
       "TkSuQmCC\n",
       "\" style=\"display:inline;vertical-align:middle;\" /></a><br>(see <a class=\"ProveItLink\" href=\"../../../__pv_it/theorems/12928ab9c2808f390f4db1d2152907b0702b542d0/dependencies.ipynb\">dependencies</a>)<br>"
      ],
      "text/plain": [
       "all_in_interval_cc__is__real: forall_{a, b in Real} [forall_{x in [a,b]} (x in Real)]"
      ]
     },
     "execution_count": 2,
     "metadata": {},
     "output_type": "execute_result"
    }
   ],
   "source": [
    "%proving all_in_interval_cc__is__real"
   ]
  },
  {
   "cell_type": "code",
   "execution_count": null,
   "metadata": {},
   "outputs": [],
   "source": []
  }
 ],
 "metadata": {
  "kernelspec": {
   "display_name": "Python 3",
   "language": "python",
   "name": "python3"
  }
 },
 "nbformat": 4,
 "nbformat_minor": 0
}