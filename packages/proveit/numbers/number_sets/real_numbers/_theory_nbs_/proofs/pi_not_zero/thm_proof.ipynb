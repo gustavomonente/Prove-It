{
 "cells": [
  {
   "cell_type": "markdown",
   "metadata": {},
   "source": [
    "Proof of <a class=\"ProveItLink\" href=\"../../../../../../_theory_nbs_/theory.ipynb\">proveit</a>.<a class=\"ProveItLink\" href=\"../../../../../_theory_nbs_/theory.ipynb\">numbers</a>.<a class=\"ProveItLink\" href=\"../../../../_theory_nbs_/theory.ipynb\">number_sets</a>.<a class=\"ProveItLink\" href=\"../../theory.ipynb\">real_numbers</a>.<a class=\"ProveItLink\" href=\"../../theorems.ipynb#pi_not_zero\">pi_not_zero</a> theorem\n",
    "========"
   ]
  },
  {
   "cell_type": "code",
   "execution_count": 1,
   "metadata": {},
   "outputs": [],
   "source": [
    "import proveit\n",
    "theory = proveit.Theory() # the theorem's theory"
   ]
  },
  {
   "cell_type": "code",
   "execution_count": 2,
   "metadata": {},
   "outputs": [
    {
     "data": {
      "text/html": [
       "Under these <a href=\"presumptions.txt\">presumptions</a>, we begin our proof of<br><strong id=\"pi_not_zero\">pi_not_zero:</strong> <a class=\"ProveItLink\" href=\"../../../__pv_it/theorems/145309da70ae9f572341321d06aa6bc9913c54ae0/expr.ipynb\"><img src=\"data:image/png;base64,iVBORw0KGgoAAAANSUhEUgAAADMAAAAUCAMAAAAX1vWWAAAAOVBMVEX///8kJCQNDQ0oKCgyMjK6\n",
       "uroiIiLu7u5UVFRERESYmJjc3NyqqqrMzMx2dnZmZmYQEBCIiIgAAAAy0RBxAAAAAXRSTlMAQObY\n",
       "ZgAAANZJREFUOMu9k1sSwyAIRWmr8U2E/S+2on0Yk4nNT/kwY/B64KoA54EGrkZQmw3IY5pqrO4m\n",
       "KgKYJcwwrpv4XFlqhukrcVbGyOZ3DHDVaC4VAmVusY4a12NMy2umUiCmSMFT+DaHqsbjLuN7p8Ao\n",
       "n1Q0qaAwAB14uMEUzdo02JKl231nyW6mfW0tuRxghpPgl2/iAay+/Og5tZ9bbl19aK666OtKIyPr\n",
       "EaPGA+/PlKSujMMKvXMeFrk7uRrjpEA7atTeFINE9uSOxvXyGzjCzCLiXzCgz5JPvHYH3dL4nSAA\n",
       "AAAASUVORK5CYII=\n",
       "\" style=\"display:inline;vertical-align:middle;\" /></a><br>(see <a class=\"ProveItLink\" href=\"../../../__pv_it/theorems/f85143a1b9a758cd0a02e87153f8d300e822895d0/dependencies.ipynb\">dependencies</a>)<br>"
      ],
      "text/plain": [
       "pi_not_zero: pi != 0"
      ]
     },
     "execution_count": 2,
     "metadata": {},
     "output_type": "execute_result"
    }
   ],
   "source": [
    "%proving pi_not_zero"
   ]
  },
  {
   "cell_type": "code",
   "execution_count": null,
   "metadata": {},
   "outputs": [],
   "source": []
  }
 ],
 "metadata": {
  "kernelspec": {
   "display_name": "Python 3",
   "language": "python",
   "name": "python3"
  }
 },
 "nbformat": 4,
 "nbformat_minor": 0
}