{
 "cells": [
  {
   "cell_type": "markdown",
   "metadata": {},
   "source": [
    "Proof of <a class=\"ProveItLink\" href=\"../../../../../../_theory_nbs_/theory.ipynb\">proveit</a>.<a class=\"ProveItLink\" href=\"../../../../../_theory_nbs_/theory.ipynb\">numbers</a>.<a class=\"ProveItLink\" href=\"../../../../_theory_nbs_/theory.ipynb\">number_sets</a>.<a class=\"ProveItLink\" href=\"../../theory.ipynb\">real_numbers</a>.<a class=\"ProveItLink\" href=\"../../theorems.ipynb#rescale_interval_co_membership\">rescale_interval_co_membership</a> theorem\n",
    "========"
   ]
  },
  {
   "cell_type": "code",
   "execution_count": 1,
   "metadata": {},
   "outputs": [],
   "source": [
    "import proveit\n",
    "theory = proveit.Theory() # the theorem's theory"
   ]
  },
  {
   "cell_type": "code",
   "execution_count": 2,
   "metadata": {},
   "outputs": [
    {
     "data": {
      "text/html": [
       "Under these <a href=\"presumptions.txt\">presumptions</a>, we begin our proof of<br><strong id=\"rescale_interval_co_membership\">rescale_interval_co_membership:</strong> <a class=\"ProveItLink\" href=\"../../../__pv_it/theorems/2b4352398612fce28ec8819569e98cadf94760f40/expr.ipynb\"><img src=\"data:image/png;base64,iVBORw0KGgoAAAANSUhEUgAAAWAAAAAZBAMAAAD9FenCAAAAMFBMVEX///8QEBCIiIhmZma6urrM\n",
       "zMxUVFQiIiJERETc3Nzu7u6qqqp2dnaYmJgyMjIAAAAcRTyBAAAAAXRSTlMAQObYZgAABLRJREFU\n",
       "WMPtmF1oHFUUgE92d2ZnZ2d2++CDWpRlY9OSWlk2qIhWVwVBUbv60L4UEqqt1p+Sh5jVGGTNS6cW\n",
       "ZfBhGwRlSsDgKt1BHySl4pBWLGlThyrYBiuLoKBCCUHBxh885975ubvbZCdFtA9eOHfuPbln7zf3\n",
       "nnPPnQBELU9VTPivS6IyHn3wMFwNpfY/MJW3PWkvM+2KW76P+IszvnUNmvS4EAk4Qw/d7TpSrXLp\n",
       "KHJ7FJyIMK/66jC3ZNY1OEXKnyIBazY+MlbXkRmTS+fczSsAhkyBWzLrGkxinapGAmbDJruP/NKT\n",
       "zjJ7JcBZ27OcZcC0YmzpIvgwbcSp7iNf8qSzHOYPfX/llejA2yzP8jAD1ufq9UMRg+6bev297rGX\n",
       "GuZyud0tUS1NWGtZ4c99SxI8JX4zjPGIwFnD2O8IquSBsC0FrViBC2j5DYH35vfehzuqkRqOWKJL\n",
       "zObLwaveVbzed55Q+0P+Tm5JgsC7AYJ5ExdXBZbLoIjBJPuNR5uQLvkdxeWSehne8HUfwNc59AKd\n",
       "Rd1e0YcP2UoQiveamUXeErTqX1bDZJYkCHy/GLzHWxg/3vTEdyJwogBH4HLA9O53BOtue+LAs9hl\n",
       "yzkHX1gPAqSZp1RF4HGQcazK0G6AuPc3rmW26WXI5pglCQInIRYerT+HR9CxATemwVxOTBzDsMXv\n",
       "vn98awicwV9/1+/0lLjcY/EFAjazwfyGFlC68SIWDzi+zBoNWjNsJ/l0npbZxpvQcJglCQJrbjJc\n",
       "s0tB69xMHRB4wRWB54N8px98ywqBs+LJ6wNfy7uj/LEUAKfEFe7hneQQGVahwT3X0zJbPIa32SJw\n",
       "qrkd1VN9lCWlpT6LRUsuQeFBwI4I/I6EP6z1Pr4bHYm5hFrcR1MM5p8J98lzCfUP0XukX1mMsPdd\n",
       "JwA3hCDG9qdBKzyGXdorskxwl4ADT+LivyDRLsTGWHiPSOtYGkbggYIIrNRw5frl5gjP6DJMlwfp\n",
       "DTdavZAeagu6P9HrfOOjsUXo94OuKAAjDvhZoGHDvrTpQQbabAl9Www6+AhR4gWJAeVIiZ5fnmLA\n",
       "8T0jLZef9O1YlTMuqAUOPAA7qDEB30KiKkQgyW2g3uqfPr8riymEiDv+FvjA8SGY8g8wnH1UY+4s\n",
       "amVXKXBLEgLGGIQeO8a8qIRDsQOwwzCMXEx786vW29qS57HSi4YxgcDroY801yCd5J81/u5p82eD\n",
       "CN7V30sXrAyjUJ9+KDwlTl/IhaM21G6C5Bi0aovzniUJAeu4qQ1TWcBH1iJYCiGZu0R6p9UCvEDV\n",
       "IJSB7b+sXoLX69hYRvLEUPfUPO290snVUvPRlSynhftwjzn4CExaSesc1pgCC1qZ+/Cc034fTi2e\n",
       "AQc+4y5xnfSLm3oNxvQq6M4/dPlxVrKcFYATuz7cCo/Z0nMO1qniWQsOUuI440zd3Q6sPv/wzRYo\n",
       "NgN+YHOvK62H7afRw8JUZ0JrRlzT9VLNrWDpXS/FYgt1DH14tS+OTcyHWeFnQab7BV6JcoHXYQVL\n",
       "xWwH5kdK2oz8iSSLXz6fdP9EOt+u2Bj1E+m8b13rfDcd1grMMoZauNo+Qiud/5dI/hi2Y9a/gJuo\n",
       "jP4NQylg2xmm2PcAAAAASUVORK5CYII=\n",
       "\" style=\"display:inline;vertical-align:middle;\" /></a><br>(see <a class=\"ProveItLink\" href=\"../../../__pv_it/theorems/eafcf9602fd78463d0a8951db416f2b07cdade1b0/dependencies.ipynb\">dependencies</a>)<br>"
      ],
      "text/plain": [
       "rescale_interval_co_membership: forall_{a, b, c in Real} [forall_{x in [a,b)} ((c * x) in [c * a,c * b))]"
      ]
     },
     "execution_count": 2,
     "metadata": {},
     "output_type": "execute_result"
    }
   ],
   "source": [
    "%proving rescale_interval_co_membership"
   ]
  },
  {
   "cell_type": "code",
   "execution_count": null,
   "metadata": {},
   "outputs": [],
   "source": []
  }
 ],
 "metadata": {
  "kernelspec": {
   "display_name": "Python 3",
   "language": "python",
   "name": "python3"
  }
 },
 "nbformat": 4,
 "nbformat_minor": 0
}