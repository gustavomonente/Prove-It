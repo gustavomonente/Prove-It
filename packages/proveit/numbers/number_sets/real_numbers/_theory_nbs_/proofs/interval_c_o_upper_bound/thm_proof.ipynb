{
 "cells": [
  {
   "cell_type": "markdown",
   "metadata": {},
   "source": [
    "Proof of <a class=\"ProveItLink\" href=\"../../../../../../_theory_nbs_/theory.ipynb\">proveit</a>.<a class=\"ProveItLink\" href=\"../../../../../_theory_nbs_/theory.ipynb\">numbers</a>.<a class=\"ProveItLink\" href=\"../../../../_theory_nbs_/theory.ipynb\">number_sets</a>.<a class=\"ProveItLink\" href=\"../../theory.ipynb\">real_numbers</a>.<a class=\"ProveItLink\" href=\"../../theorems.ipynb#interval_c_o_upper_bound\">interval_c_o_upper_bound</a> theorem\n",
    "========"
   ]
  },
  {
   "cell_type": "code",
   "execution_count": 1,
   "metadata": {},
   "outputs": [],
   "source": [
    "import proveit\n",
    "theory = proveit.Theory() # the theorem's theory"
   ]
  },
  {
   "cell_type": "code",
   "execution_count": 2,
   "metadata": {},
   "outputs": [
    {
     "data": {
      "text/html": [
       "Under these <a href=\"presumptions.txt\">presumptions</a>, we begin our proof of<br><strong id=\"interval_c_o_upper_bound\">interval_c_o_upper_bound:</strong> <a class=\"ProveItLink\" href=\"../../../__pv_it/theorems/3dee25eaf3dca40872fa3fe36ceea7b11e392bb40/expr.ipynb\"><img src=\"data:image/png;base64,iVBORw0KGgoAAAANSUhEUgAAANwAAAAZBAMAAACoUV21AAAAMFBMVEX///8QEBCIiIhmZma6urrM\n",
       "zMxUVFQiIiJERETc3Nzu7u6qqqp2dnaYmJgyMjIAAAAcRTyBAAAAAXRSTlMAQObYZgAAA0NJREFU\n",
       "SMfVlk1oE0EUgF822STd7CYXL1KE0EIqKBhaVIpUA4KetPHSXoQEf0GkFFErbZHqKVWKi4j2Iq4t\n",
       "tNJLgx6koBLioRB/2EPBWlAWQUFFEfFgcxDfm8lmJ9uGXaEXH+zO7ry3+828n5kB8JbTQzpshISG\n",
       "Rv2YDcJGye3/GtdiNlUtcJxFzTsPnA8jJg/W7VWu4IDDOsO9oI4vHjgfRkw+r98dTyPTYrhJ8sGY\n",
       "B86HEYmWdvc8y9I9UcRbmeHiBoBa9MD5MCKJuAvmTTdrevFzuM9wWmVu7o5XqvgwInGbdFR4u8g8\n",
       "mmGZ+btQGPXMTLfRJWEecv2pHa+p1K3tSZ4hi8la/6e2PeidNMOdBBiv1/33JjjRiCRvPxy2IJax\n",
       "XyaQUdLORVgiK7vtqlD+GPM6aBbD7edJw+V5rX289fgHEddgJOJozN32ywi+G2o1xKY+UI91rAqJ\n",
       "JMQGGS4CklOcX2kwT7pMSYVKUsAJRqR2cHH86Yz9sgm1EOUZrDi4oAXzJZB/MJxqRpxRr+K1vDAH\n",
       "iFsxBZxgRGoHl8CZxHUHBzQRvsLUnYll11u0cS1WH3ZNpz5S1H+mjBAVD+FKAo4blXemskyNOKVz\n",
       "gGoq13bGmfgI3XJZ2w12qiRM2GdAiDsTxk+g6oJcJcqwlI4Dx3WlxTWTjCRjIJKJ12I3m81RNXUY\n",
       "7RDLO6kSM3agXWMhJDLKFrBTBR7h74JpmX4aTWrWNMMFT51vWKLJSIZv6IYargv66eEqvIfQmJNo\n",
       "vcUbcNdV5mEzikMPljiOnB0oSjTEQCaY7y8UCklJvbnUgOMRwdAyNeJaIcXDtQtkO2kPYtq0TfWY\n",
       "rkVM6XxFEcxynIZzn9ejK9gkjEAxzJ0ZO2qIODLCaMsQ5rNTVmECUwaqyA3lmy1ioswK+11Azx2C\n",
       "SSNiLIOa5bGrlNz73T3VUrkaZ7dZ/mW2XINhbQy0UtMlWpCygAsde9gDR4ryWfzyOpX569L0Xjdu\n",
       "Zqlc4WrEHdjWbsqt0PcSo1JfVsab02obkCi8MCUKTvPdXOKx4+sFryuP7ZVJVHfjYrrvw0NeOBHA\n",
       "Uz+Hh7drzioa/CuO/V1Jb+zRaGjtOfOy0FOvau9z5sW/E/7uwRWXz6sAAAAASUVORK5CYII=\n",
       "\" style=\"display:inline;vertical-align:middle;\" /></a><br>(see <a class=\"ProveItLink\" href=\"../../../__pv_it/theorems/2cf5b46f50d4d87d4e9a39dab8843199d6a9eeb90/dependencies.ipynb\">dependencies</a>)<br>"
      ],
      "text/plain": [
       "interval_c_o_upper_bound: forall_{a, b in Real} [forall_{x in [a,b)} (x < b)]"
      ]
     },
     "execution_count": 2,
     "metadata": {},
     "output_type": "execute_result"
    }
   ],
   "source": [
    "%proving interval_c_o_upper_bound"
   ]
  },
  {
   "cell_type": "code",
   "execution_count": null,
   "metadata": {},
   "outputs": [],
   "source": []
  }
 ],
 "metadata": {
  "kernelspec": {
   "display_name": "Python 3",
   "language": "python",
   "name": "python3"
  }
 },
 "nbformat": 4,
 "nbformat_minor": 0
}