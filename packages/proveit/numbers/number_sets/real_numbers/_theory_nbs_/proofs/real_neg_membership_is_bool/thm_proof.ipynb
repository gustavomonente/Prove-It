{
 "cells": [
  {
   "cell_type": "markdown",
   "metadata": {},
   "source": [
    "Proof of <a class=\"ProveItLink\" href=\"../../../../../../_theory_nbs_/theory.ipynb\">proveit</a>.<a class=\"ProveItLink\" href=\"../../../../../_theory_nbs_/theory.ipynb\">numbers</a>.<a class=\"ProveItLink\" href=\"../../../../_theory_nbs_/theory.ipynb\">number_sets</a>.<a class=\"ProveItLink\" href=\"../../theory.ipynb\">real_numbers</a>.<a class=\"ProveItLink\" href=\"../../theorems.ipynb#real_neg_membership_is_bool\">real_neg_membership_is_bool</a> theorem\n",
    "========"
   ]
  },
  {
   "cell_type": "code",
   "execution_count": 1,
   "metadata": {},
   "outputs": [],
   "source": [
    "import proveit\n",
    "theory = proveit.Theory() # the theorem's theory"
   ]
  },
  {
   "cell_type": "code",
   "execution_count": 2,
   "metadata": {},
   "outputs": [
    {
     "data": {
      "text/html": [
       "Under these <a href=\"presumptions.txt\">presumptions</a>, we begin our proof of<br><strong id=\"real_neg_membership_is_bool\">real_neg_membership_is_bool:</strong> <a class=\"ProveItLink\" href=\"../../../__pv_it/theorems/b43892c3102e77cead58f8b3aa96c5e42a2b10d40/expr.ipynb\"><img src=\"data:image/png;base64,iVBORw0KGgoAAAANSUhEUgAAAK0AAAAaBAMAAAA3TsG9AAAAMFBMVEX///8QEBCIiIhmZma6urrM\n",
       "zMxUVFQiIiJERETc3Nzu7u6qqqp2dnaYmJgyMjIAAAAcRTyBAAAAAXRSTlMAQObYZgAAAptJREFU\n",
       "SMe1VT9oE1EY/8wluT8msYNDwCVaVMiURRGpEi2KgoepQ+kgNIgdXMSlBqzUGwqmXRonMwi9KUgR\n",
       "Gugg6CLRKVr8g9gOFU7BpWCNUsHq0u/13nv37t1dbvIH+b273y9879/3fQcQRKrMqD8KEXoiQh/l\n",
       "1B/nI/RkNVzf4NQfmXcRxkqoqhQYxeFOhK7aAA55+CyqCzYjGav5+c28sMhByT+an/9yG+8lUQJ4\n",
       "Hdj0S04BOC0YW7PhQh2BEy8E/CvG3CkAvQfQxFfdEs0DnAKwHoGme7eitmXfhMMajlMAOZw3I/r6\n",
       "X0Ye1mo1h8ZVGo53E5bsm/CcxD0BkO0uLj4UY2QHGHGMFb31Kg1vc4kB2Tfh1WMcD+LvT71+15cO\n",
       "DiXj0I2zHaIYG8I5pIXsTLq7EnwzOTmB42U8BBxnxbiaRekJrBamiZJuCHGfnvYyJfUbJP/MvZ+k\n",
       "TscrAMNgOGLcXJVSF97aF3dn8u7lQW1auAt9CyTfhJV1kqUYXIWEr27UEiUb6q4ysomg9zasCYlt\n",
       "bMm+CVoSoy2VSTWqvrvPlRjBL1dpCnmmnLMC622K69Wg6q5Xd0iL6Rw7UqHnW2VEjw/2iPk790Fo\n",
       "fNuyb0KaVPA4OfHZ65gx9k2VNsa0RelZogdF8PUKjDuqVOR8EHxcb/aFmw+wfAtnhu++pERK/tN6\n",
       "unvyU0IdZ9oT/lT3+VfhzXEc35OXfbvTbfsWgWRcKw7SftSasVnf+Qb1H2253pjP+g6pN5yViKle\n",
       "iv17PyeOS/drTki7yBUi/K+8N2acDHse4hSHJTtcN3h3aX3sdNnzCKc4fIrQs6EfonSbURwmo74X\n",
       "ldBdOIxiQDIqFOvh8jKn/mhG6P7PhIe9ZUb9cTJCV2z4b9gBqSrD5Em2g6oAAAAASUVORK5CYII=\n",
       "\" style=\"display:inline;vertical-align:middle;\" /></a><br>(see <a class=\"ProveItLink\" href=\"../../../__pv_it/theorems/6cc7911b2691d3bad20fac6402ab088ea66270500/dependencies.ipynb\">dependencies</a>)<br>"
      ],
      "text/plain": [
       "real_neg_membership_is_bool: forall_{x} ((x in RealNeg) in BOOLEAN)"
      ]
     },
     "execution_count": 2,
     "metadata": {},
     "output_type": "execute_result"
    }
   ],
   "source": [
    "%proving real_neg_membership_is_bool"
   ]
  },
  {
   "cell_type": "code",
   "execution_count": null,
   "metadata": {},
   "outputs": [],
   "source": []
  }
 ],
 "metadata": {
  "kernelspec": {
   "display_name": "Python 3",
   "language": "python",
   "name": "python3"
  }
 },
 "nbformat": 4,
 "nbformat_minor": 0
}