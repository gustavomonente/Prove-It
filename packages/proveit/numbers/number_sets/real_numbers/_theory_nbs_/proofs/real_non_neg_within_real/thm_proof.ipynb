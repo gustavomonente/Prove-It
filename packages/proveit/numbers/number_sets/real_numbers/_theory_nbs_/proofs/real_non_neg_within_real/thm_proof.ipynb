{
 "cells": [
  {
   "cell_type": "markdown",
   "metadata": {},
   "source": [
    "Proof of <a class=\"ProveItLink\" href=\"../../../../../../_theory_nbs_/theory.ipynb\">proveit</a>.<a class=\"ProveItLink\" href=\"../../../../../_theory_nbs_/theory.ipynb\">numbers</a>.<a class=\"ProveItLink\" href=\"../../../../_theory_nbs_/theory.ipynb\">number_sets</a>.<a class=\"ProveItLink\" href=\"../../theory.ipynb\">real_numbers</a>.<a class=\"ProveItLink\" href=\"../../theorems.ipynb#real_non_neg_within_real\">real_non_neg_within_real</a> theorem\n",
    "========"
   ]
  },
  {
   "cell_type": "code",
   "execution_count": 1,
   "metadata": {},
   "outputs": [],
   "source": [
    "import proveit\n",
    "theory = proveit.Theory() # the theorem's theory"
   ]
  },
  {
   "cell_type": "code",
   "execution_count": 2,
   "metadata": {},
   "outputs": [
    {
     "data": {
      "text/html": [
       "Under these <a href=\"presumptions.txt\">presumptions</a>, we begin our proof of<br><strong id=\"real_non_neg_within_real\">real_non_neg_within_real:</strong> <a class=\"ProveItLink\" href=\"../../../__pv_it/theorems/5e090078e2751702ff6875e8e2616116b27415fe0/expr.ipynb\"><img src=\"data:image/png;base64,iVBORw0KGgoAAAANSUhEUgAAAFAAAAAVBAMAAAAjqnRBAAAAMFBMVEX///+IiIiqqqq6urpmZmZ2\n",
       "dnbc3NzMzMxUVFTu7u4yMjJEREQQEBAiIiKYmJgAAACIyPRpAAAAAXRSTlMAQObYZgAAAUFJREFU\n",
       "KM9jYEAFoqIMBIBFAojkC2BqIKCQzaMASPIaMPwkZCSbN1Dl/AKGQ4QUMnBGGzDUJzDcYyCsMmpC\n",
       "/QSGizhk357ev+r0AzCTcR3IxIOo8nx3dv9asw/EWjCDofr1BCBj4iawGz+jmcTF2cC+byeQsSGV\n",
       "gZsNGCZTN2P3NTdbAMOGDIhCloQFDFM2g213gIXj67t3716HKXTjgincwFAOjZkQCJ0VhmyiGzdE\n",
       "IQczRnRcQ7G6wQKiUNdrApo6FgVkhUxXVoIU5ty9BRTW3g0EcPW8yJ45e3cRA9hEE250AxkykBUG\n",
       "O+yEKGQx34CucDZK8DhXQxQy7HyIrhDF6gDueQIQhRUsBWgKWQWQFbI3uEOikFWhHd3IRchRyBDE\n",
       "UQBKFMsZdq9XQFM4o3kCIlEUcO/6hDPNle6FRiEUAABZD2QqD9oQnwAAAABJRU5ErkJggg==\n",
       "\" style=\"display:inline;vertical-align:middle;\" /></a><br>(see <a class=\"ProveItLink\" href=\"../../../__pv_it/theorems/77c6b78ce6055ce03d2becd628fe17ca700abebb0/dependencies.ipynb\">dependencies</a>)<br>"
      ],
      "text/plain": [
       "real_non_neg_within_real: RealNonNeg proper_subset Real"
      ]
     },
     "execution_count": 2,
     "metadata": {},
     "output_type": "execute_result"
    }
   ],
   "source": [
    "%proving real_non_neg_within_real"
   ]
  },
  {
   "cell_type": "code",
   "execution_count": null,
   "metadata": {},
   "outputs": [],
   "source": []
  }
 ],
 "metadata": {
  "kernelspec": {
   "display_name": "Python 3",
   "language": "python",
   "name": "python3"
  }
 },
 "nbformat": 4,
 "nbformat_minor": 0
}