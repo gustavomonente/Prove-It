{
 "cells": [
  {
   "cell_type": "markdown",
   "metadata": {},
   "source": [
    "Proof of <a class=\"ProveItLink\" href=\"../../../../../../_theory_nbs_/theory.ipynb\">proveit</a>.<a class=\"ProveItLink\" href=\"../../../../../_theory_nbs_/theory.ipynb\">numbers</a>.<a class=\"ProveItLink\" href=\"../../../../_theory_nbs_/theory.ipynb\">number_sets</a>.<a class=\"ProveItLink\" href=\"../../theory.ipynb\">real_numbers</a>.<a class=\"ProveItLink\" href=\"../../theorems.ipynb#e_is__real_pos\">e_is__real_pos</a> theorem\n",
    "========"
   ]
  },
  {
   "cell_type": "code",
   "execution_count": 1,
   "metadata": {},
   "outputs": [],
   "source": [
    "import proveit\n",
    "theory = proveit.Theory() # the theorem's theory"
   ]
  },
  {
   "cell_type": "code",
   "execution_count": 2,
   "metadata": {},
   "outputs": [
    {
     "data": {
      "text/html": [
       "Under these <a href=\"presumptions.txt\">presumptions</a>, we begin our proof of<br><strong id=\"e_is__real_pos\">e_is__real_pos:</strong> <a class=\"ProveItLink\" href=\"../../../__pv_it/theorems/2b84eb234fa03e2cecb1ae7b22303c9d40c52b6d0/expr.ipynb\"><img src=\"data:image/png;base64,iVBORw0KGgoAAAANSUhEUgAAAD4AAAAUBAMAAAAn2JMnAAAAMFBMVEX///+6urqqqqoyMjJmZmbM\n",
       "zMxERETc3NyIiIiYmJh2dnYiIiIQEBBUVFTu7u4AAADP9LAkAAAAAXRSTlMAQObYZgAAANVJREFU\n",
       "KM9jYKAAXCAgn0ALec49aZ9tMvHoZ+a7wJqZx8BrbHzY2BKLPBv7AoaEWkz903bvNoDJuzPD5d+e\n",
       "XgCWDutD0u/OBpPnOz3jLIjNZ4ds/gVZmDzvOYb6ByC6AEmeaYsdTJ6/gYFtAkgUyX2ndxuBWSAt\n",
       "8f///wc5IMYYCKDuW+iQB1cdP728HGR+GbL/HMPgPKD5YMCDLM/2sgHGYzkHsYelAUme9YIrjMe3\n",
       "Z+UasNQmpPBlWMQbADdgPySQ3yY+gMdPAFvyJ4xwl8qGhC8KAAA2lj4oDHrjQAAAAABJRU5ErkJg\n",
       "gg==\n",
       "\" style=\"display:inline;vertical-align:middle;\" /></a><br>(see <a class=\"ProveItLink\" href=\"../../../__pv_it/theorems/5b0ff4cd9e88e6697b2690bb4ee888807c60133f0/dependencies.ipynb\">dependencies</a>)<br>"
      ],
      "text/plain": [
       "e_is__real_pos: e in RealPos"
      ]
     },
     "execution_count": 2,
     "metadata": {},
     "output_type": "execute_result"
    }
   ],
   "source": [
    "%proving e_is__real_pos"
   ]
  },
  {
   "cell_type": "code",
   "execution_count": null,
   "metadata": {},
   "outputs": [],
   "source": []
  }
 ],
 "metadata": {
  "kernelspec": {
   "display_name": "Python 3",
   "language": "python",
   "name": "python3"
  }
 },
 "nbformat": 4,
 "nbformat_minor": 0
}