{
 "cells": [
  {
   "cell_type": "markdown",
   "metadata": {},
   "source": [
    "Proof of <a class=\"ProveItLink\" href=\"../../../../../../_theory_nbs_/theory.ipynb\">proveit</a>.<a class=\"ProveItLink\" href=\"../../../../../_theory_nbs_/theory.ipynb\">numbers</a>.<a class=\"ProveItLink\" href=\"../../../../_theory_nbs_/theory.ipynb\">number_sets</a>.<a class=\"ProveItLink\" href=\"../../theory.ipynb\">real_numbers</a>.<a class=\"ProveItLink\" href=\"../../theorems.ipynb#real_pos_within_real_non_neg\">real_pos_within_real_non_neg</a> theorem\n",
    "========"
   ]
  },
  {
   "cell_type": "code",
   "execution_count": 1,
   "metadata": {},
   "outputs": [],
   "source": [
    "import proveit\n",
    "theory = proveit.Theory() # the theorem's theory"
   ]
  },
  {
   "cell_type": "code",
   "execution_count": 2,
   "metadata": {},
   "outputs": [
    {
     "data": {
      "text/html": [
       "Under these <a href=\"presumptions.txt\">presumptions</a>, we begin our proof of<br><strong id=\"real_pos_within_real_non_neg\">real_pos_within_real_non_neg:</strong> <a class=\"ProveItLink\" href=\"../../../__pv_it/theorems/d7e5eeaaeb9b6f2b0986434953e9eefead390fda0/expr.ipynb\"><img src=\"data:image/png;base64,iVBORw0KGgoAAAANSUhEUgAAAFwAAAAVBAMAAAA5lpTPAAAAMFBMVEX///+IiIiqqqq6urpmZmZ2\n",
       "dnbc3NzMzMxUVFTu7u4yMjJEREQQEBAiIiKYmJgAAACIyPRpAAAAAXRSTlMAQObYZgAAASlJREFU\n",
       "KM9jYCAeiIoSp84iAUTyBTA1IAly4FTO5lEAJHkNGH4iCXLjNp7NG6h+fgHDIeKUM3BGGzDUJzDc\n",
       "I1I5A2fUhPoJDBcZ3p7ev+r0A+zKEXIMjOtAph9kYFgwg6H69QSGrlVrVq16gKYeKsfAMHET2O2f\n",
       "GRg2pDJwszVgdwxMbupmeMgAhVgSFiAr59t79+7dAqhykNyUzWD3OIDCHSy0AUk529IEJNNBcuXQ\n",
       "WA2BCHEwIzuGNwHZMRA5FPfpek1AUu6ERQ5JKOfuLQWwI6ACFzDktHcDwQSYCSbcyAawNSCbjioH\n",
       "FmIx34Acfxtwy0Hct/MhssAFPHJgoQqWAiSBQDxy4IhmVWhHEuBSwC0HSkbLGXavV0ByfIclTjls\n",
       "gD0alggwAAB0J3LwXfUUogAAAABJRU5ErkJggg==\n",
       "\" style=\"display:inline;vertical-align:middle;\" /></a><br>(see <a class=\"ProveItLink\" href=\"../../../__pv_it/theorems/9b020c3f1a4963c268b0f9c431e38c4d209d9ec20/dependencies.ipynb\">dependencies</a>)<br>"
      ],
      "text/plain": [
       "real_pos_within_real_non_neg: RealPos proper_subset RealNonNeg"
      ]
     },
     "execution_count": 2,
     "metadata": {},
     "output_type": "execute_result"
    }
   ],
   "source": [
    "%proving real_pos_within_real_non_neg"
   ]
  },
  {
   "cell_type": "code",
   "execution_count": null,
   "metadata": {},
   "outputs": [],
   "source": []
  }
 ],
 "metadata": {
  "kernelspec": {
   "display_name": "Python 3",
   "language": "python",
   "name": "python3"
  }
 },
 "nbformat": 4,
 "nbformat_minor": 0
}