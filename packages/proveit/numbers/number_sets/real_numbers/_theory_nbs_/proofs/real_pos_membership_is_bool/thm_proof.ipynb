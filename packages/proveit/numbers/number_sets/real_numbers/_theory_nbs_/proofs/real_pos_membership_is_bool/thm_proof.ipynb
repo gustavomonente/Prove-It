{
 "cells": [
  {
   "cell_type": "markdown",
   "metadata": {},
   "source": [
    "Proof of <a class=\"ProveItLink\" href=\"../../../../../../_theory_nbs_/theory.ipynb\">proveit</a>.<a class=\"ProveItLink\" href=\"../../../../../_theory_nbs_/theory.ipynb\">numbers</a>.<a class=\"ProveItLink\" href=\"../../../../_theory_nbs_/theory.ipynb\">number_sets</a>.<a class=\"ProveItLink\" href=\"../../theory.ipynb\">real_numbers</a>.<a class=\"ProveItLink\" href=\"../../theorems.ipynb#real_pos_membership_is_bool\">real_pos_membership_is_bool</a> theorem\n",
    "========"
   ]
  },
  {
   "cell_type": "code",
   "execution_count": 1,
   "metadata": {},
   "outputs": [],
   "source": [
    "import proveit\n",
    "theory = proveit.Theory() # the theorem's theory"
   ]
  },
  {
   "cell_type": "code",
   "execution_count": 2,
   "metadata": {},
   "outputs": [
    {
     "data": {
      "text/html": [
       "Under these <a href=\"presumptions.txt\">presumptions</a>, we begin our proof of<br><strong id=\"real_pos_membership_is_bool\">real_pos_membership_is_bool:</strong> <a class=\"ProveItLink\" href=\"../../../__pv_it/theorems/7c7db4c46b9ff567489cda0670cdb4979ee4e6a60/expr.ipynb\"><img src=\"data:image/png;base64,iVBORw0KGgoAAAANSUhEUgAAAK0AAAAbBAMAAAD8EhIYAAAAMFBMVEX///8QEBCIiIhmZma6urrM\n",
       "zMxUVFQiIiJERETc3Nzu7u6qqqp2dnaYmJgyMjIAAAAcRTyBAAAAAXRSTlMAQObYZgAAAq5JREFU\n",
       "SMe9Vk1oE0EUfibZ3yY1B0FBkGhRIaccrFhRiAoFwWLqQXoQuogevIhSasCK7kEwDVQ9aW7uqUhR\n",
       "WuhNLyX2lFpUEPVQYesx0hAlgm1BfJPdmZ3Z7CQn/WC/2X3f5tvZN2/eBuD/QclTksPCIyPRYpL4\n",
       "RUZy2HgMS7SEFR2vM+rum3wvEVcjo/EMpR6+cFsiag6AS06+8tFnDqUwUjdLf9ZnAt+BkH54z6P1\n",
       "W7gusRzASsdLv2HUgX7TUmbKoDYa+xob+PCw7l4wyycBjCZABS8Nmxf3MuqAbiyB/YTNV1sIZ2cE\n",
       "Duo4TuEU8IWTvG5sUQrwpVh0qe9QP/ON2yEdfV8T32OYs9rc3FMhiWlKDGNZbr5DOvONpUM6+i4/\n",
       "x3E/Hr9LpTtCObg+mQeuna6SiFnn82ANM9+E91aBbo8kJq/ieB6TgOO0kEPbpxfwOXOXRNTHnG/f\n",
       "RJ35Kr9A1O1T936QfTpeADgDpiusueVTDd45Z9tu3LrtLn5vn7WtjBaIOuZhdY1UKZprEBP2jZbz\n",
       "yYGSFxltIPx1W86Vg1vNVkhHXz2BbvN5shs1sUZzlOCnF6nwdXZkjCudVkgnvqQlkfkaLmkx1cFD\n",
       "Bf+3FiU/fbCD99VfBjtc2Qzp6KuSHTxO0jR9BSvGua75jVG1fXoVa0IWhF6Bvoo1GDSuLRB1Mt/U\n",
       "klcPsHgDnwwbrHumPUps603Dy/wUt49hRS0Ipc7r7iV4exTHD+RiZ/txm8IkkMzL2QG/H83ed1jf\n",
       "KegPt1mp26JO+w7Zb3g3CSpNhd69ixHDuQdFN6oNZST6N9Ybk26Snp9g1AvzTnTcZN1l9mO1Rs9H\n",
       "GfXCJ0k8FfkhUhco9cKk7HtRiHwLl1IPkIqKxFp0eJFRd1QkcfEzEaAvT6k7jkviceff/bf5Cw/O\n",
       "wLim5VPZAAAAAElFTkSuQmCC\n",
       "\" style=\"display:inline;vertical-align:middle;\" /></a><br>(see <a class=\"ProveItLink\" href=\"../../../__pv_it/theorems/d9db2da469c64443b2dc94976c4ba62875eec2ce0/dependencies.ipynb\">dependencies</a>)<br>"
      ],
      "text/plain": [
       "real_pos_membership_is_bool: forall_{x} ((x in RealPos) in BOOLEAN)"
      ]
     },
     "execution_count": 2,
     "metadata": {},
     "output_type": "execute_result"
    }
   ],
   "source": [
    "%proving real_pos_membership_is_bool"
   ]
  },
  {
   "cell_type": "code",
   "execution_count": null,
   "metadata": {},
   "outputs": [],
   "source": []
  }
 ],
 "metadata": {
  "kernelspec": {
   "display_name": "Python 3",
   "language": "python",
   "name": "python3"
  }
 },
 "nbformat": 4,
 "nbformat_minor": 0
}