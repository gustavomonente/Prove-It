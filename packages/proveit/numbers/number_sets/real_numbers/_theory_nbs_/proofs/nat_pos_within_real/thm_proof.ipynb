{
 "cells": [
  {
   "cell_type": "markdown",
   "metadata": {},
   "source": [
    "Proof of <a class=\"ProveItLink\" href=\"../../../../../../_theory_nbs_/theory.ipynb\">proveit</a>.<a class=\"ProveItLink\" href=\"../../../../../_theory_nbs_/theory.ipynb\">numbers</a>.<a class=\"ProveItLink\" href=\"../../../../_theory_nbs_/theory.ipynb\">number_sets</a>.<a class=\"ProveItLink\" href=\"../../theory.ipynb\">real_numbers</a>.<a class=\"ProveItLink\" href=\"../../theorems.ipynb#nat_pos_within_real\">nat_pos_within_real</a> theorem\n",
    "========"
   ]
  },
  {
   "cell_type": "code",
   "execution_count": 1,
   "metadata": {},
   "outputs": [],
   "source": [
    "import proveit\n",
    "theory = proveit.Theory() # the theorem's theory"
   ]
  },
  {
   "cell_type": "code",
   "execution_count": 2,
   "metadata": {},
   "outputs": [
    {
     "data": {
      "text/html": [
       "Under these <a href=\"presumptions.txt\">presumptions</a>, we begin our proof of<br><strong id=\"nat_pos_within_real\">nat_pos_within_real:</strong> <a class=\"ProveItLink\" href=\"../../../__pv_it/theorems/7cd5b7f0c453154ca3b9b775c31ce84cbd12d9280/expr.ipynb\"><img src=\"data:image/png;base64,iVBORw0KGgoAAAANSUhEUgAAAEcAAAAUBAMAAAAthD11AAAAMFBMVEX///9mZmaqqqrc3NyIiIgi\n",
       "IiJUVFTMzMyYmJi6uroQEBB2dnZEREQyMjLu7u4AAAA1o4RqAAAAAXRSTlMAQObYZgAAAQNJREFU\n",
       "KM9jYCANsBGjiIceit7+OfuAYdevCdgUta45f3dNA4h1gj2Bge8DQ+7dW3fvNqCpuvCMoabnAZCR\n",
       "WuDCwLAAu3UHrBl4mBOAjMxzbAUMASiKekJDQ8OhihgNLgAZyWV891AV2W5GMonR4ABIEZNDGaqi\n",
       "YGTr2DhB1iUz7ORwQFbEqICsSFX2AVgR24N0kCJmqAwrksOtQmPBWpIZ+BJ4FyB5yQzZdxN5HkAU\n",
       "MVSzIyt6g6yIcfoBqCIOhQNIilhRwulcC4iRDsSbkRVxOyArKmMsADIugTx0ATmcLyFHC7cC0JTS\n",
       "X0BT+FAUPct8AI/g6wxn7itgTRnVR6HRAgUAnWVOzL1sOfAAAAAASUVORK5CYII=\n",
       "\" style=\"display:inline;vertical-align:middle;\" /></a><br>(see <a class=\"ProveItLink\" href=\"../../../__pv_it/theorems/567e194ab319ccc2ce91424a0a514a9509deb02d0/dependencies.ipynb\">dependencies</a>)<br>"
      ],
      "text/plain": [
       "nat_pos_within_real: NaturalPos proper_subset Real"
      ]
     },
     "execution_count": 2,
     "metadata": {},
     "output_type": "execute_result"
    }
   ],
   "source": [
    "%proving nat_pos_within_real"
   ]
  },
  {
   "cell_type": "code",
   "execution_count": null,
   "metadata": {},
   "outputs": [],
   "source": []
  }
 ],
 "metadata": {
  "kernelspec": {
   "display_name": "Python 3",
   "language": "python",
   "name": "python3"
  }
 },
 "nbformat": 4,
 "nbformat_minor": 0
}