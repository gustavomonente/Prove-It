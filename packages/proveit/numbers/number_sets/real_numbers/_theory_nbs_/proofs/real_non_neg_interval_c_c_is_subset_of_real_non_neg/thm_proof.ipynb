{
 "cells": [
  {
   "cell_type": "markdown",
   "metadata": {},
   "source": [
    "Proof of <a class=\"ProveItLink\" href=\"../../../../../../_theory_nbs_/theory.ipynb\">proveit</a>.<a class=\"ProveItLink\" href=\"../../../../../_theory_nbs_/theory.ipynb\">numbers</a>.<a class=\"ProveItLink\" href=\"../../../../_theory_nbs_/theory.ipynb\">number_sets</a>.<a class=\"ProveItLink\" href=\"../../theory.ipynb\">real_numbers</a>.<a class=\"ProveItLink\" href=\"../../theorems.ipynb#real_non_neg_interval_c_c_is_subset_of_real_non_neg\">real_non_neg_interval_c_c_is_subset_of_real_non_neg</a> theorem\n",
    "========"
   ]
  },
  {
   "cell_type": "code",
   "execution_count": 1,
   "metadata": {},
   "outputs": [],
   "source": [
    "import proveit\n",
    "theory = proveit.Theory() # the theorem's theory"
   ]
  },
  {
   "cell_type": "code",
   "execution_count": 2,
   "metadata": {},
   "outputs": [
    {
     "data": {
      "text/html": [
       "Under these <a href=\"presumptions.txt\">presumptions</a>, we begin our proof of<br><strong id=\"real_non_neg_interval_c_c_is_subset_of_real_non_neg\">real_non_neg_interval_c_c_is_subset_of_real_non_neg:</strong> <a class=\"ProveItLink\" href=\"../../../__pv_it/theorems/8976bff521c6d28aa712e1c7f76645b37441cae80/expr.ipynb\"><img src=\"data:image/png;base64,iVBORw0KGgoAAAANSUhEUgAAAM8AAAAcBAMAAAA0BfbtAAAAMFBMVEX///8QEBCIiIhmZma6urrM\n",
       "zMxUVFQiIiJERETc3Nzu7u6qqqp2dnaYmJgyMjIAAAAcRTyBAAAAAXRSTlMAQObYZgAAA29JREFU\n",
       "SMe9ln9IE2EYx5/ddm673Tb/C4Tg7IdIf8ShCUpli8D/wkVR/SE4zKKwwlAbWYRBP6ZijATzrzoQ\n",
       "IsTaUVEUQaOCSmcsiBAxWEYKCiJBkAuk5713d7u7TdsJ9o7dbc/7vM/n/fF9njuAdW7M6/g6Exyn\n",
       "lNsUPF3L6EMWfPuPk2s7+CXGMocNWfHuvwbA/QKb7AhZBfkkS+4jV4FdAmcSxq2CKvBwF4IGk3c2\n",
       "sAppjk2DUwAnTjBFDF8L47jTALwuLnel1WhQyOciy9/66O/tSVyRTQBGBBgjhrnCQLxoiusTc0Hg\n",
       "40JsXw+ZR7lMzsgfAPciwCCZaVdhIJtsiuuX84Bc7jh0DSDnfSCjOoCL9Hx5uTDQXckUt15nmAiH\n",
       "wx0qqMYHXLXSsVnJo2rc0tHh4dsFauETmEDvsoY7H/QrqnEBS0XDJHB7oRS/vyORSwWCamlc966K\n",
       "EmqY2bRTBV0wbF2ozjiSLB3zt3uFwMqcRqa05IlQ0N6ob5GqblmKRSnILutBnjaTvBox1D7gUlp9\n",
       "WjB0fyGjezhNKjMKiNsIdmrypMEvUJBTL4YN4XnsjGDrUU83QFyYpOb0JnN/Vn5sGm912FOMn0xr\n",
       "U0B2JQeVZaQgFqegAT3ordhj2psYOvFJ3WzmyYa8rEwyPIySYAe3uYuhQ+39roBsXRALqmlUL1PQ\n",
       "fYO8dxw16xWd3KnDWcMS0enzYUDQJFkn26sHXVdAsTi8yqRREvZIebYu7nogmM4oipfuZrwMlf0g\n",
       "cX+WSQ4iRwLCB5bnDMAilKjuJylIhrOeqAIi50VBvKAHsaGqXNXBYyxYXAdWP4zfyYg+oKBKEbwt\n",
       "RjGUKiCX4D3PQwwVVJR0iaq85/UlCMaKgjkZiMLBYxXZVjIZwZsaUkD2E+0AVSZ500LANW0d2ALO\n",
       "TpxexbiWsPeapWxRDbpu/jGAqpUeiVQxhjycbAF76AiqUmD4W5/z1LqArjK8UCttxtBwI1OC8rVp\n",
       "TX5R1yTy/JJNLqJb52mQuEQi8Vbvbo/rQHETaLXGpbW5Rhv3w6DklCaAD9IzGs19e2GLs3E5wQLI\n",
       "qz3LHU2PdsMBmT2N0XtJwn6MD9XmDmjJxvWCBZDTKA2g9YrBM1phwEPsvWwcxMwWAJoy/qXJsVrz\n",
       "iGt6xTM/WL3/HvJkTSC7BP+v/QUj1OMHBHXniwAAAABJRU5ErkJggg==\n",
       "\" style=\"display:inline;vertical-align:middle;\" /></a><br>(see <a class=\"ProveItLink\" href=\"../../../__pv_it/theorems/f6f93a2435c10fbe9cc494b1f3af77ec240fe5220/dependencies.ipynb\">dependencies</a>)<br>"
      ],
      "text/plain": [
       "real_non_neg_interval_c_c_is_subset_of_real_non_neg: forall_{a, b in RealNonNeg} ([a,b] proper_subset RealNonNeg)"
      ]
     },
     "execution_count": 2,
     "metadata": {},
     "output_type": "execute_result"
    }
   ],
   "source": [
    "%proving real_non_neg_interval_c_c_is_subset_of_real_non_neg"
   ]
  },
  {
   "cell_type": "code",
   "execution_count": null,
   "metadata": {},
   "outputs": [],
   "source": []
  }
 ],
 "metadata": {
  "kernelspec": {
   "display_name": "Python 3",
   "language": "python",
   "name": "python3"
  }
 },
 "nbformat": 4,
 "nbformat_minor": 0
}