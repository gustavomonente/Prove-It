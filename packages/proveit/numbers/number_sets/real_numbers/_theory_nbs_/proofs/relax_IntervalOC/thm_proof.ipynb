{
 "cells": [
  {
   "cell_type": "markdown",
   "metadata": {},
   "source": [
    "Proof of <a class=\"ProveItLink\" href=\"../../../../../../_theory_nbs_/theory.ipynb\">proveit</a>.<a class=\"ProveItLink\" href=\"../../../../../_theory_nbs_/theory.ipynb\">numbers</a>.<a class=\"ProveItLink\" href=\"../../../../_theory_nbs_/theory.ipynb\">number_sets</a>.<a class=\"ProveItLink\" href=\"../../theory.ipynb\">real_numbers</a>.<a class=\"ProveItLink\" href=\"../../theorems.ipynb#relax_IntervalOC\">relax_IntervalOC</a> theorem\n",
    "========"
   ]
  },
  {
   "cell_type": "code",
   "execution_count": 1,
   "metadata": {},
   "outputs": [],
   "source": [
    "import proveit\n",
    "theory = proveit.Theory() # the theorem's theory"
   ]
  },
  {
   "cell_type": "code",
   "execution_count": 2,
   "metadata": {},
   "outputs": [
    {
     "data": {
      "text/html": [
       "Under these <a href=\"presumptions.txt\">presumptions</a>, we begin our proof of<br><strong id=\"relax_IntervalOC\">relax_IntervalOC:</strong> <a class=\"ProveItLink\" href=\"../../../__pv_it/theorems/57c0f463c4fd93ff8082f50b24f8c32bb9e895250/expr.ipynb\"><img src=\"data:image/png;base64,iVBORw0KGgoAAAANSUhEUgAAAPoAAAAZBAMAAADqEi4iAAAAMFBMVEX///8QEBCIiIhmZma6urrM\n",
       "zMxUVFQiIiJERETc3Nzu7u6qqqp2dnaYmJgyMjIAAAAcRTyBAAAAAXRSTlMAQObYZgAAA+VJREFU\n",
       "SMfdll9oHEUcx7+3d3u3t7d750NfalGOpCYlWjkS0AetRoXSSv+cPrQ+CAmpUSsa8lAbDUXOvHRr\n",
       "ERYfYhBaRvJQei29wz6UBMGlrSiprQsVbIOGQ9CCQjmCBRNB/M3M3t3s9cy2D3lx4G7+MDufmd/v\n",
       "O7/5AdHljQkX61ASE0fuZdo41qlM/6/oJzoNPv5ruG/fGsScpNd49XMEPSs+8iPhZqnT6GV1xod0\n",
       "FmsQSVfQr/Cx3yPoVpWqLIukZ90oOrIFQTdrgj5D/+lSBF1MmIk2/HVE0nNVQcdFQecnEkdb0+/c\n",
       "OFei6e+H3Ht04oO76XuZpH8u6PZCufxppOp+KpdPR4svrU7Rp1ins38DSc8OCs3/5ThHIuk5xznq\n",
       "hQYVDy8VgoZGDbPr4PPcqjjHFMunn+5/UHZ+63pK0K2CoI8Cx5rh5/Z/0JNFGCFFWY3GHpJPQzYG\n",
       "3Yqz+DEvDH5Q9ftzbrYuNf8Pq7icbtcE/QWpP1kuBfWFLQd+UemJAs6FdtRcm5+hQU+RfhbwPdvJ\n",
       "OyWFbj6EuOxnVpHLc3pmXNBT0FoX+Q++vS8HfM3CQl6NNuPY2uieubQNetMN2WoLFKNVGRzp9odv\n",
       "Uwno8VWk5HLxGioep+t1Qbf8VOtIK/S7MVcG0Rd9lX61GfHs458x7onGDXLDdGBZKlA9e6yESrFx\n",
       "3fdWFXq6to9GZ3t4ONSXe1iCa4jTPZV+Uh+mjXa/PEqe4jYmE/WP8QWHut4KWR76Hdl5QKFXPHwV\n",
       "bNbHs4zTE9LyOPYaLfWuvsqhk1pBRFWiDxRUujFNX/Qla4dkaKY7eqo4xFXdy7pDqpvX6ujjnX6V\n",
       "XsVYRqg2N0gaUFSH87R6vKALRt6uzQp6/PVDoVcm8yT9FbM+TLGpHcAA9vPWFJaadFJg4m+jnvab\n",
       "hgjotO5hCxUCJn2jIOhxT9JzpIdYVRsWjosP73ccJ69Zn/wQfuOWAyfr7znOFLYDm9DDhzbgiSad\n",
       "rGmO9HXLN8t888WW5kcemd6M1CT319Ug2hQl3SYDVlxjkaoci1WT0vKZV1mIvsj/hlAE3yVegbmC\n",
       "j8vUWqVtlDpG2sS37ZF2vmEjop9S3veYO7QbMyzFbsAqSr8veO3ve7p+DR6+5k36dqP+p5/+CJN2\n",
       "qUWPeGU8hX5RoSdGvtiGl6r62zThOI8217zZZ9rp5ju7HmMwuD9TDNsf7fb1Tdj3nRJYjDVfWDPf\n",
       "ogcvrFqkTjTy+1q5zRbyuxZIKoNQWFs7u7DRohtuOz3j3ntmFWDmwvTOmVVvW2alUWZ18668zr6P\n",
       "vG63rPw2+jpklRMd8vlMpxf2fvP5w/8CBm8Zte2gusMAAAAASUVORK5CYII=\n",
       "\" style=\"display:inline;vertical-align:middle;\" /></a><br>(see <a class=\"ProveItLink\" href=\"../../../__pv_it/theorems/60c564e840bcc05e20270cba430c4a2d82f0254b0/dependencies.ipynb\">dependencies</a>)<br>"
      ],
      "text/plain": [
       "relax_IntervalOC: forall_{a, b in Real} [forall_{x in (a,b]} (x in [a,b])]"
      ]
     },
     "execution_count": 2,
     "metadata": {},
     "output_type": "execute_result"
    }
   ],
   "source": [
    "%proving relax_IntervalOC"
   ]
  },
  {
   "cell_type": "code",
   "execution_count": null,
   "metadata": {},
   "outputs": [],
   "source": []
  }
 ],
 "metadata": {
  "kernelspec": {
   "display_name": "Python 3",
   "language": "python",
   "name": "python3"
  }
 },
 "nbformat": 4,
 "nbformat_minor": 0
}