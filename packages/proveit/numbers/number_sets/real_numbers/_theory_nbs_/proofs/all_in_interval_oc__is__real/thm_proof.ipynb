{
 "cells": [
  {
   "cell_type": "markdown",
   "metadata": {},
   "source": [
    "Proof of <a class=\"ProveItLink\" href=\"../../../../../../_theory_nbs_/theory.ipynb\">proveit</a>.<a class=\"ProveItLink\" href=\"../../../../../_theory_nbs_/theory.ipynb\">numbers</a>.<a class=\"ProveItLink\" href=\"../../../../_theory_nbs_/theory.ipynb\">number_sets</a>.<a class=\"ProveItLink\" href=\"../../theory.ipynb\">real_numbers</a>.<a class=\"ProveItLink\" href=\"../../theorems.ipynb#all_in_interval_oc__is__real\">all_in_interval_oc__is__real</a> theorem\n",
    "========"
   ]
  },
  {
   "cell_type": "code",
   "execution_count": 1,
   "metadata": {},
   "outputs": [],
   "source": [
    "import proveit\n",
    "theory = proveit.Theory() # the theorem's theory"
   ]
  },
  {
   "cell_type": "code",
   "execution_count": 2,
   "metadata": {},
   "outputs": [
    {
     "data": {
      "text/html": [
       "Under these <a href=\"presumptions.txt\">presumptions</a>, we begin our proof of<br><strong id=\"all_in_interval_oc__is__real\">all_in_interval_oc__is__real:</strong> <a class=\"ProveItLink\" href=\"../../../__pv_it/theorems/b3491a5c593f0540929261290e3eb6b5a7f8efc70/expr.ipynb\"><img src=\"data:image/png;base64,iVBORw0KGgoAAAANSUhEUgAAAOAAAAAZBAMAAADanj8DAAAAMFBMVEX///8QEBCIiIhmZma6urrM\n",
       "zMxUVFQiIiJERETc3Nzu7u6qqqp2dnaYmJgyMjIAAAAcRTyBAAAAAXRSTlMAQObYZgAAA1lJREFU\n",
       "SMfVlk9IFHEUx9/O7LizuzO7HToYQiwubKGXRalbIklFQbFdtIOg2F8jxEO1YCKLl1ZDmjqUB6EJ\n",
       "QUWihjqI0WHZLrFFLSFoQrIEHiraRArSLr3f7zc78xtdd+fgpQfDzPzem/nMfN/7vd8PoLpdTmqw\n",
       "O+ZNDroJ64fdswf/OdCfr+CcZ8ACOX2uAnQRRG2m3OBi7d1iLX5JjUaBb8nYtypAF0HUvpYdLUzB\n",
       "uSUdAgUKHCdKpKoAXQQRU+Nlh1MTIPu7AbIUGNIBFKMK0EUQMZ9j+qi3k0MloKjh7z2mQDU3O/uw\n",
       "WtG4CCLmCJGGdfsPRQ31CbXSKv2TTg9WrdJtQX7ueqWkZBSPQH3vUaIdPNU5SWu8KKkSp8CLACNW\n",
       "JyjuAOSDqGVKF2dQq1J2x/B4AosRqmQvn8O5FsSrBQpsY+XD7LV5njt4/gsPdASBWeLUyGeXgLfw\n",
       "yMEH/STF2MB7ySFSAMF+CvSBYE/X70SUV815QYFchANyQcQNndYTIcN+9148dEizFO4vopl/2CYT\n",
       "faU1ClTyPvvLN/BYmp8FBC7nOSAXRNxEYtPCmhMIsM6SzP3hhHgsZQP9hXa8mYytkqH1mO4lJUCA\n",
       "GQ7IgrKHYgnqJkOBpr4EXnXVX3VICtJvdrOHz+HoR1IhTFIYuYBP35A2CWdAiIeAAZvjfC8lQYLe\n",
       "52ulbj8OTSe6iE4H9KijaF4Ka9BAbpp4YLuYsIoGXuDTYlwir5UjamGSAsVL1x3NmwRJ8AOloNWM\n",
       "iGboIJfDsGIBseS8f+U11sJ9BtfaFAOTIGYYMIzV4TEEnCjgaRW7O9LpdERQ7i84gOGImWLqJrOq\n",
       "DmIsb4ct4AmUqqchyrp84Mopq3mvQvqnAaEEA6qozDNNXsZTWPcYNUzSYKfOA1VWZhJQt5SCwAaM\n",
       "YfXAJpJTZVub943Z2ko2za2HHq3rNIzrPn0JlATLYS6zdT18pBQU5g7g0D7pV94/CgNqygLu0LxL\n",
       "luWA3p7nR+CsIV1Dyh0y8d9nJlu2AqcWsjnmhgGA443RvFQH7e+4OT5SiWcuT7yxNAuYpAorPnU3\n",
       "mjdBcDSVmUpAWdsKDGqutxgyv22wgRW3GJ+27WlU93sar/nmvBO4S5uoZJl96Xy55cnFvvTmP5QC\n",
       "BME3VM8yAAAAAElFTkSuQmCC\n",
       "\" style=\"display:inline;vertical-align:middle;\" /></a><br>(see <a class=\"ProveItLink\" href=\"../../../__pv_it/theorems/f3dac1900354f2322312f52af360e4b80a4b1b870/dependencies.ipynb\">dependencies</a>)<br>"
      ],
      "text/plain": [
       "all_in_interval_oc__is__real: forall_{a, b in Real} [forall_{x in (a,b]} (x in Real)]"
      ]
     },
     "execution_count": 2,
     "metadata": {},
     "output_type": "execute_result"
    }
   ],
   "source": [
    "%proving all_in_interval_oc__is__real"
   ]
  },
  {
   "cell_type": "code",
   "execution_count": null,
   "metadata": {},
   "outputs": [],
   "source": []
  }
 ],
 "metadata": {
  "kernelspec": {
   "display_name": "Python 3",
   "language": "python",
   "name": "python3"
  }
 },
 "nbformat": 4,
 "nbformat_minor": 0
}