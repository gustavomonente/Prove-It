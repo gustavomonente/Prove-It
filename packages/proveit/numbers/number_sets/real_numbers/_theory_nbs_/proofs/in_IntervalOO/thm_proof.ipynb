{
 "cells": [
  {
   "cell_type": "markdown",
   "metadata": {},
   "source": [
    "Proof of <a class=\"ProveItLink\" href=\"../../../../../../_theory_nbs_/theory.ipynb\">proveit</a>.<a class=\"ProveItLink\" href=\"../../../../../_theory_nbs_/theory.ipynb\">numbers</a>.<a class=\"ProveItLink\" href=\"../../../../_theory_nbs_/theory.ipynb\">number_sets</a>.<a class=\"ProveItLink\" href=\"../../theory.ipynb\">real_numbers</a>.<a class=\"ProveItLink\" href=\"../../theorems.ipynb#in_IntervalOO\">in_IntervalOO</a> theorem\n",
    "========"
   ]
  },
  {
   "cell_type": "code",
   "execution_count": 1,
   "metadata": {},
   "outputs": [],
   "source": [
    "import proveit\n",
    "theory = proveit.Theory() # the theorem's theory"
   ]
  },
  {
   "cell_type": "code",
   "execution_count": 2,
   "metadata": {},
   "outputs": [
    {
     "data": {
      "text/html": [
       "Under these <a href=\"presumptions.txt\">presumptions</a>, we begin our proof of<br><strong id=\"in_IntervalOO\">in_IntervalOO:</strong> <a class=\"ProveItLink\" href=\"../../../__pv_it/theorems/882fd50bf6ae00c7c98b113a59ddd95ee504b40b0/expr.ipynb\"><img src=\"data:image/png;base64,iVBORw0KGgoAAAANSUhEUgAAAQUAAAAWBAMAAAA7jZQjAAAAMFBMVEX///8QEBCIiIhmZma6urrM\n",
       "zMxUVFQiIiJERETc3Nzu7u6qqqp2dnaYmJgyMjIAAAAcRTyBAAAAAXRSTlMAQObYZgAAA5FJREFU\n",
       "SMe9Vk1oE0EUfvnZ/G6SSy9aCqHRKNVDaFEE/6KCYqk29dD2IKRUKypaeqgWW5Eo/qRKYfFQexFX\n",
       "Cq2EQoIepEUwxIMQtQYsWAtKEBVULKEo2Ajim5ndzWwSacHUgTcz72Xy5pv3vjezACvRbpe12jNF\n",
       "hklFskR5W1kIjkhZ8z1+ycUeAIvE5BmxfKksBrdU1vxZtyaAQLJMRkiQIpXF8Kqs1RXgNU8CuxQT\n",
       "twwgJiqL4ZxOm+3rowm36qLTjPvCXSaudCx2q7IQ7D281l6nTPS7PKUJCTL5GY2erywGI0l17Ynd\n",
       "KUo+jWs+Am9b/WqmfardigkIMOkCGFSXmef/5je45M4Hs+rMhjU4Aa+9F4hi0TIwhLJLcudYXfyW\n",
       "4xK48D9E9lBqKu2J3u/D9Ufes5metY0lCBrpeVizIr3S8FLeTwFpSwZw5xowMU/OPHi84MSsEbGC\n",
       "sXB3fOUq+FFDxihC2luKob2jGAJa3BqxDRg0GaJMaZnHRg9ZBWDKg5X5M2UhngQBg0JEzFgLvhY5\n",
       "Ok/GADHMZUowDA8WQyAWj8RjAFhgyoi2CDEYIhAPqddDc0LDYM+2om3U/xF7YcFPSia1yR8yk9AS\n",
       "DMkCBkd9N3oYvYJT0XeoSxuoJVx7kssFCD8UQHwu8OiPleshAztlMGMeiMDgUfR+RsiTPfsJp41y\n",
       "tzXoBoahIVDAMB4KyzDxgUzrLNledWCWdbKP4+SUMQe0KE1ejpPxBHQ7abw8QeSGxkl4gEBMAYHA\n",
       "sXmJRYBveDaKwXSsl+NkA7SBUEP1kDujDorlErxTNkN2mn/ZcsoTNcDxHf2fFSGOe1gyNjycKcmE\n",
       "8BMMCWMHzaSpQ6FFWzQa9RrFmzMchmrwA0yzMlXSTwZmqYLNaoX3gKOzzqc8hGOXZTbZh+HuXDu8\n",
       "Bqz9JK0vCCtCTMCFa+KSbQ4Hj2ygucwJYGG5cB6WNQyORRiKgWMLZVUYtIFZ8gix7F3ddK34rp5S\n",
       "J+OKMOZI4QMwIlvlWezviFkRxBDjQ5rj5CrhO8bXflwCe24akvbrdGAW6HdFlvtmJdWJ8mYp4eu8\n",
       "vx1aEsKpJPZjM6k0wA1yR00nR3cUMOzd4CM5tl+VHKebNspCNR2YBVqfa7vZyr/dakk7VJqqbzff\n",
       "ElwPRuRD4SfdHSUo3pwllmV9w7h4rEV4WdU4yx6irNfJf/yWe6MInzA9yqUxZOC/tsAK+v4DCqED\n",
       "YATGuI4AAAAASUVORK5CYII=\n",
       "\" style=\"display:inline;vertical-align:middle;\" /></a><br>(see <a class=\"ProveItLink\" href=\"../../../__pv_it/theorems/0dc8c3f0189debc04abc73034087356de967838d0/dependencies.ipynb\">dependencies</a>)<br>"
      ],
      "text/plain": [
       "in_IntervalOO: forall_{a, b, x in Real | a < x, x < b} (x in (a,b))"
      ]
     },
     "execution_count": 2,
     "metadata": {},
     "output_type": "execute_result"
    }
   ],
   "source": [
    "%proving in_IntervalOO"
   ]
  },
  {
   "cell_type": "code",
   "execution_count": null,
   "metadata": {},
   "outputs": [],
   "source": []
  }
 ],
 "metadata": {
  "kernelspec": {
   "display_name": "Python 3",
   "language": "python",
   "name": "python3"
  }
 },
 "nbformat": 4,
 "nbformat_minor": 0
}