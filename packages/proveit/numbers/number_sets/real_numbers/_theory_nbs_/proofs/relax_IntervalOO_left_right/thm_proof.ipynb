{
 "cells": [
  {
   "cell_type": "markdown",
   "metadata": {},
   "source": [
    "Proof of <a class=\"ProveItLink\" href=\"../../../../../../_theory_nbs_/theory.ipynb\">proveit</a>.<a class=\"ProveItLink\" href=\"../../../../../_theory_nbs_/theory.ipynb\">numbers</a>.<a class=\"ProveItLink\" href=\"../../../../_theory_nbs_/theory.ipynb\">number_sets</a>.<a class=\"ProveItLink\" href=\"../../theory.ipynb\">real_numbers</a>.<a class=\"ProveItLink\" href=\"../../theorems.ipynb#relax_IntervalOO_left_right\">relax_IntervalOO_left_right</a> theorem\n",
    "========"
   ]
  },
  {
   "cell_type": "code",
   "execution_count": 1,
   "metadata": {},
   "outputs": [],
   "source": [
    "import proveit\n",
    "theory = proveit.Theory() # the theorem's theory"
   ]
  },
  {
   "cell_type": "code",
   "execution_count": 2,
   "metadata": {},
   "outputs": [
    {
     "data": {
      "text/html": [
       "Under these <a href=\"presumptions.txt\">presumptions</a>, we begin our proof of<br><strong id=\"relax_IntervalOO_left_right\">relax_IntervalOO_left_right:</strong> <a class=\"ProveItLink\" href=\"../../../__pv_it/theorems/046300459ca41af3295f2c2028233367cc2637ea0/expr.ipynb\"><img src=\"data:image/png;base64,iVBORw0KGgoAAAANSUhEUgAAAPwAAAAZBAMAAADnDF5lAAAAMFBMVEX///8QEBCIiIhmZma6urrM\n",
       "zMxUVFQiIiJERETc3Nzu7u6qqqp2dnaYmJgyMjIAAAAcRTyBAAAAAXRSTlMAQObYZgAAA/JJREFU\n",
       "SMfdll9oHEUcx7+3d5u729u964MvWpQj0bSkKkcCFrHVU6H+wdrTh9YH4Y5o1RQteag9DUXOvHRj\n",
       "ERYfYhCUgYDFU3KHPpQWxaVRlPSPCy1Ygsoh1oKFEoKCjVD8zczu7VxyZk8hLw7czvyGufnM/P7N\n",
       "D4huL1YdbERLVI/0smwcG9Wm/2f497tN3n25U7auFDOOxLd492MEPiv+5EXTjVq32a/UFW/Sbcwi\n",
       "xiT+DO9+i8CbTeqyLBqfdaLwyBYEfk7iZ+ibrkXgxYKZHnR/AZH4XFPgzbzA8zuJy61re66eMz3g\n",
       "X+8w8dHqG2vxe5jAG5sE3lqo19+NdL0f6vWPevDAtLpGn2Tdbv8NBB6/SM//07aPROJztn3U7ZhU\n",
       "jKy3RxrZ1egfe+g0F+aYovz0juFbpPBr/30CPy/x+4Gpdh669g/4vhJSHV5lBoMnW8gUAyFFwfEJ\n",
       "vs8LnY+ptn/QyS5Jz7/BGg7H/yTxD8NotRfO+/2Jrc/9rOITBemq7dbe26QL3xsISXKiBXzHHuNC\n",
       "TcEbtyIu5cwKcnmOPyHxSWhhQF/l5/t8xNNMLOTVtDOOuwLx4/md0NuWyBLxw0CI0bYMtjTJbdeo\n",
       "+fj4CpJyv3gLDZfjyxJvesnwUtfpd+lkHYRf9FT8uXbus469x7gxgjhylGiPCTMsSzdUbx+roVEK\n",
       "wn5PU8GnW3tpMDvIE6O+PMhIzxB4V8V/oFfopANP7ydjcS2TkoYP8g3L/QdC9XHlQ/9DCpsUfMPF\n",
       "l/5xPTzAOP4RP+dPPU97vaqvcOqEVhAJlvAjBRWfmqZ/DPW1DsksTaF6vFTmrr2FDSBTUVzvlLaE\n",
       "IS4Mq/gmDso0nyuSHyiuh89o+3hBF5C81ZoV+PgLhzqenMx2+pSyHgxxqkeBEezjo0naJ1EL/TDx\n",
       "V2op7bVV4eNp48MmGnT0Pi9VEPgdPj5HPhFrahVhu3hln23bec1852Lni7fsG1p/zbYnsQvYjEE+\n",
       "dRPugR6ETmIcxujQgHzBjJceDz1/9I7p25Gc4DY7J9POZR9vkQ4bTmqRuhyLNfuk8jPPsg78Iv+U\n",
       "UYJQ9DMwruPtOo1W6ByJStekm/h2ddI9FWiJku648t7HnPJuzLAkuwSzJG2/4K5+79NL5+Hiaz48\n",
       "Dtys/+6l38KEVYPl9vjkuCHef3L8g45+uhNPNfWXacExnnbOu7P3r8YbrzxxJ0OKmzTJsGvbgKdv\n",
       "xt6z5Dlh2lv3wTXyIX5ubbUjfUUj269X7Wwl22u+W2VkLPdYblgI8VNr8Bmn92LLx5wU3y8iiq0t\n",
       "q4ot7UrRctbgrX9R6+2WnYgwo7ChpWa1S52vakpj/w2eqB7+G0E1FRs3yHS1AAAAAElFTkSuQmCC\n",
       "\" style=\"display:inline;vertical-align:middle;\" /></a><br>(see <a class=\"ProveItLink\" href=\"../../../__pv_it/theorems/2d4bfdc21b0595e19ac68345994e3326bebea9360/dependencies.ipynb\">dependencies</a>)<br>"
      ],
      "text/plain": [
       "relax_IntervalOO_left_right: forall_{a, b in Real} [forall_{x in (a,b)} (x in [a,b])]"
      ]
     },
     "execution_count": 2,
     "metadata": {},
     "output_type": "execute_result"
    }
   ],
   "source": [
    "%proving relax_IntervalOO_left_right"
   ]
  },
  {
   "cell_type": "code",
   "execution_count": null,
   "metadata": {},
   "outputs": [],
   "source": []
  }
 ],
 "metadata": {
  "kernelspec": {
   "display_name": "Python 3",
   "language": "python",
   "name": "python3"
  }
 },
 "nbformat": 4,
 "nbformat_minor": 0
}