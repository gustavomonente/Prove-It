{
 "cells": [
  {
   "cell_type": "markdown",
   "metadata": {},
   "source": [
    "Proof of <a class=\"ProveItLink\" href=\"../../../../../../_theory_nbs_/theory.ipynb\">proveit</a>.<a class=\"ProveItLink\" href=\"../../../../../_theory_nbs_/theory.ipynb\">numbers</a>.<a class=\"ProveItLink\" href=\"../../../../_theory_nbs_/theory.ipynb\">number_sets</a>.<a class=\"ProveItLink\" href=\"../../theory.ipynb\">real_numbers</a>.<a class=\"ProveItLink\" href=\"../../theorems.ipynb#real_pos_interval_c_c_is_subset_of_RealPos\">real_pos_interval_c_c_is_subset_of_RealPos</a> theorem\n",
    "========"
   ]
  },
  {
   "cell_type": "code",
   "execution_count": 1,
   "metadata": {},
   "outputs": [],
   "source": [
    "import proveit\n",
    "theory = proveit.Theory() # the theorem's theory"
   ]
  },
  {
   "cell_type": "code",
   "execution_count": 2,
   "metadata": {},
   "outputs": [
    {
     "data": {
      "text/html": [
       "Under these <a href=\"presumptions.txt\">presumptions</a>, we begin our proof of<br><strong id=\"real_pos_interval_c_c_is_subset_of_RealPos\">real_pos_interval_c_c_is_subset_of_RealPos:</strong> <a class=\"ProveItLink\" href=\"../../../__pv_it/theorems/55ca2f3c607aa2c6db54f360c5c5d0f0d898832f0/expr.ipynb\"><img src=\"data:image/png;base64,iVBORw0KGgoAAAANSUhEUgAAAL8AAAAbBAMAAADfSUPNAAAAMFBMVEX///8QEBCIiIhmZma6urrM\n",
       "zMxUVFQiIiJERETc3Nzu7u6qqqp2dnaYmJgyMjIAAAAcRTyBAAAAAXRSTlMAQObYZgAAAw1JREFU\n",
       "SMfNll9IFEEYwD937597e2dv1kucBdJDxNIVJZEdBL2FF0R/QHAxi6CCSuXoDyEFtRrGUWA+1daB\n",
       "iFAeFYQQdKAvKcUGQSIVl1EPSpdIQd6V9M3O3e7MpnfuQ9DA7M3MfrO/b75/cwD/T9vvSlrFLrja\n",
       "4VVdiXdh97jaEtZdA+Clmx2b8ci5OL/2oaM8wI9KZcngfeXvV+cB5BizMFiLjzFeKHRGW/zYawME\n",
       "BWCCDGYqA2TFAYBPfwMgLKne3h7w5XJrc19RqzmAfqJdV2VAVdoJKCwBCFRnoKvPOgFcoL6T05UB\n",
       "d3UHwJO3AZOJRKKzBGgI24DtaLbxoaHbK/Dxa3AA5NMW4M4L9gQNARtQh/2npl1c1vD2sLEIuDVa\n",
       "R+M13Lo+XQSc40yk7rEBTSh7FKB7OYBoDzUK8KyBb3RheEZaoAAxzQKC7TM2oAXjejdIWcuuuWUB\n",
       "XyjgnkHsStpzHeYpwM86uTYxa46S1HMx8lowLIHR4u/TDUemeUA7BezS4WzJZtIvCuhjAWNKD6Ph\n",
       "MAJkg9GA0KVnUUOQYTwiR7dFd7BRj4DVIP0oLXgKFDDIhemWQ2zsIaA6e8BeWCAxNzIECJgyuBNc\n",
       "NQGodHCOLvwGMb+EiTKBBxF73kIs1d2Gj1T9Z1Ix5+t1j0JyHAEZDnCcAgrgy46YC9+JP0yAHGEB\n",
       "XnWrvYtEETzGgJY6vSRvhPOCYqYJAqIKB6ijJroMb9WMtIiTU3CllAezbKmACV+cyx6oQQVExUvy\n",
       "JhAJZVMmQDzWwTu5iWbywLrDrTFI4CS10SgBBtp0u9jFAzcK1i4z4kI6qTQCuRyqYqJ6UNO0iCDf\n",
       "fENMxtSiGJPJwdLdUCwVzdeKpcLZpq1wSgamcFONXpX2URMFm/kLRswwACvDx8rXFylv6Zds2Qv9\n",
       "ul+fBDlOfTCe4W/MVQzg/goBIevO9LQ+2gn70t6T+NXrJNFeZVKNvPAJBmCsEOB33IC0pgjogyWE\n",
       "H+KbS44NmzrKA97x02CynHBQcf1Hx3mRhcqLP3ENEHX49+0P1XHSFEaJTp4AAAAASUVORK5CYII=\n",
       "\" style=\"display:inline;vertical-align:middle;\" /></a><br>(see <a class=\"ProveItLink\" href=\"../../../__pv_it/theorems/829dbf710898d01bda5f3749c9d88e6f948c494e0/dependencies.ipynb\">dependencies</a>)<br>"
      ],
      "text/plain": [
       "real_pos_interval_c_c_is_subset_of_RealPos: forall_{a, b in RealPos} ([a,b] proper_subset RealPos)"
      ]
     },
     "execution_count": 2,
     "metadata": {},
     "output_type": "execute_result"
    }
   ],
   "source": [
    "%proving real_pos_interval_c_c_is_subset_of_RealPos"
   ]
  },
  {
   "cell_type": "code",
   "execution_count": null,
   "metadata": {},
   "outputs": [],
   "source": []
  }
 ],
 "metadata": {
  "kernelspec": {
   "display_name": "Python 3",
   "language": "python",
   "name": "python3"
  }
 },
 "nbformat": 4,
 "nbformat_minor": 0
}