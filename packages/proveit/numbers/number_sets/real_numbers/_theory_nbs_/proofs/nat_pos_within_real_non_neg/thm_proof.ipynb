{
 "cells": [
  {
   "cell_type": "markdown",
   "metadata": {},
   "source": [
    "Proof of <a class=\"ProveItLink\" href=\"../../../../../../_theory_nbs_/theory.ipynb\">proveit</a>.<a class=\"ProveItLink\" href=\"../../../../../_theory_nbs_/theory.ipynb\">numbers</a>.<a class=\"ProveItLink\" href=\"../../../../_theory_nbs_/theory.ipynb\">number_sets</a>.<a class=\"ProveItLink\" href=\"../../theory.ipynb\">real_numbers</a>.<a class=\"ProveItLink\" href=\"../../theorems.ipynb#nat_pos_within_real_non_neg\">nat_pos_within_real_non_neg</a> theorem\n",
    "========"
   ]
  },
  {
   "cell_type": "code",
   "execution_count": 1,
   "metadata": {},
   "outputs": [],
   "source": [
    "import proveit\n",
    "theory = proveit.Theory() # the theorem's theory"
   ]
  },
  {
   "cell_type": "code",
   "execution_count": 2,
   "metadata": {},
   "outputs": [
    {
     "data": {
      "text/html": [
       "Under these <a href=\"presumptions.txt\">presumptions</a>, we begin our proof of<br><strong id=\"nat_pos_within_real_non_neg\">nat_pos_within_real_non_neg:</strong> <a class=\"ProveItLink\" href=\"../../../__pv_it/theorems/9db68fc38a6b8480c7be163dab1060c12985b4bf0/expr.ipynb\"><img src=\"data:image/png;base64,iVBORw0KGgoAAAANSUhEUgAAAFwAAAAVBAMAAAA5lpTPAAAAMFBMVEX///9mZmaqqqrc3NyIiIgi\n",
       "IiJUVFTMzMyYmJi6uroQEBB2dnZEREQyMjLu7u4AAAA1o4RqAAAAAXRSTlMAQObYZgAAAWlJREFU\n",
       "KM9jYCAeeHsTp26aAYjk2MCUgCTIhlM5s1gBkGSdwPAPSZAHt/HMMkD17wsYFhGnnIFvzwSGegOG\n",
       "CCKVM/DtfVD/gCGE4e2fsw8Ydv2agE1565rzd9c0gJksN0CmL2FgOMGewMD3gSH37q27dxvQ1F94\n",
       "xlDT8wDIeHII7PafDAypBS4MDAuwO+aANQMPMzD0Xp+Eh0zmObYChgBk5RxHQ0NDC6DKGQ0uMDw8\n",
       "CXaPACjck8v47qEoZ75tgGQ6o8EBhnJorG4EEslMDmUoylkNkB3DxpmA4r5khp0cDsjKhVDcrir7\n",
       "AE0524N0kHJmqEAAknKr0FgFBgadM0DwAKacL4F3AVKEJyCbPpEH1XCgcoZqdiTlfAeQlTNOP4Ch\n",
       "nEMBWSwAxe3nWlCVpwPxZmTlW1CUlzEWoCi/BMSMF5AEeBWQEwG3Qjqy6tJfQJP5kJXzpc1DJLHr\n",
       "DGfuK+DPa+x7YIkAAwAA2u9seLzz50kAAAAASUVORK5CYII=\n",
       "\" style=\"display:inline;vertical-align:middle;\" /></a><br>(see <a class=\"ProveItLink\" href=\"../../../__pv_it/theorems/40f4859a6d2d2b3994237fe5dd5e43d6fca68af60/dependencies.ipynb\">dependencies</a>)<br>"
      ],
      "text/plain": [
       "nat_pos_within_real_non_neg: NaturalPos proper_subset RealNonNeg"
      ]
     },
     "execution_count": 2,
     "metadata": {},
     "output_type": "execute_result"
    }
   ],
   "source": [
    "%proving nat_pos_within_real_non_neg"
   ]
  },
  {
   "cell_type": "code",
   "execution_count": null,
   "metadata": {},
   "outputs": [],
   "source": []
  }
 ],
 "metadata": {
  "kernelspec": {
   "display_name": "Python 3",
   "language": "python",
   "name": "python3"
  }
 },
 "nbformat": 4,
 "nbformat_minor": 0
}