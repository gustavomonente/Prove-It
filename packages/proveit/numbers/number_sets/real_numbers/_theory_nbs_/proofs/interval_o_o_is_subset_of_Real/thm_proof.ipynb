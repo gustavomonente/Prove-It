{
 "cells": [
  {
   "cell_type": "markdown",
   "metadata": {},
   "source": [
    "Proof of <a class=\"ProveItLink\" href=\"../../../../../../_theory_nbs_/theory.ipynb\">proveit</a>.<a class=\"ProveItLink\" href=\"../../../../../_theory_nbs_/theory.ipynb\">numbers</a>.<a class=\"ProveItLink\" href=\"../../../../_theory_nbs_/theory.ipynb\">number_sets</a>.<a class=\"ProveItLink\" href=\"../../theory.ipynb\">real_numbers</a>.<a class=\"ProveItLink\" href=\"../../theorems.ipynb#interval_o_o_is_subset_of_Real\">interval_o_o_is_subset_of_Real</a> theorem\n",
    "========"
   ]
  },
  {
   "cell_type": "code",
   "execution_count": 1,
   "metadata": {},
   "outputs": [],
   "source": [
    "import proveit\n",
    "theory = proveit.Theory() # the theorem's theory"
   ]
  },
  {
   "cell_type": "code",
   "execution_count": 2,
   "metadata": {},
   "outputs": [
    {
     "data": {
      "text/html": [
       "Under these <a href=\"presumptions.txt\">presumptions</a>, we begin our proof of<br><strong id=\"interval_o_o_is_subset_of_Real\">interval_o_o_is_subset_of_Real:</strong> <a class=\"ProveItLink\" href=\"../../../__pv_it/theorems/d158006bf8c656067d25c47853a4b2f06d65758b0/expr.ipynb\"><img src=\"data:image/png;base64,iVBORw0KGgoAAAANSUhEUgAAAKgAAAAVBAMAAAAgMbgsAAAAMFBMVEX///8QEBCIiIhmZma6urrM\n",
       "zMxUVFQiIiJERETc3Nzu7u6qqqp2dnaYmJgyMjIAAAAcRTyBAAAAAXRSTlMAQObYZgAAArhJREFU\n",
       "OMutVU1oE0EU/pLNJpufTTwIgiAs/hSPodVDsWpFsCdpvKiHQkOtgiDSojVYPdSTSaWyeGh7kpWA\n",
       "loDNogepCC5WEFOUHDzUghJFBRVEPGmF4pud2exu0kQPPng7b9/OfDPvfW/eAn+XaJWrTxZazY7r\n",
       "QI0Zb9qCzgl1JHZlBAjrDbPU0fzauykyTgNLzPGlLehnoXVJpgm51jgtGcvKU5PAPDDL4ptoh6mm\n",
       "ubqSMunxpHGeErUwMQ0kNCQNGsx2oBGdqyv9tAa3xMtyLpcbc0C7kxTDBqiVUmmmbfQzQl15Zkfb\n",
       "a9s3n3tP2q2Q8QH4mc9fbgu6TWi0p3Mz93zauofC4xm56As/e4iMReAkUHD8oW/rgE4JPaAnv3P2\n",
       "14yyDtVmSjK9oPFzjPK3wEEvkYtifLDzxHvHd4lrbAskTmh8FSkN8RE74V6iNuW+2ouZO+gWNnPG\n",
       "HnVVgwlUNOHbyFVaRYS7pBrKFmT72NNe0KfpSWYMUm6qnt1+MToXSiDQlaofNDCBcsYp035TgM75\n",
       "SmrXcQEarR0lo9jxkZ7yjw4jxAhgoJY/fDrcY1GmVew3EGoO31Luslj6SAvDFPKYvMqwxoPpJDho\n",
       "V9pPVNnE2bhdrqleyq8gKqF5QeXsbk4U7tOWUlpmGyuaWivaoNKp817yFu1vFxIoE1S4qtCGklVn\n",
       "oX5NsRSmDPWwjWmzgBnMkhnolbLH8vm8FkzceOVM7uMaG9oxvR2RcbI6XzAMnuDbw4bbUDLK9d8A\n",
       "S6RK3rKurNCQMgJmmIcfHzDWvaYPHeOOGAeuimtab2Ijwgjog4cxa0SMZSQyPKcVa92G4nibG4oj\n",
       "9TSHhu7txRFTPkNrrrH6fWkV9zmzCnAvXcxZ0dz6HJn3v/IrF6SctmzSap1rvRVooelH8M+/k9ct\n",
       "268fRcV/kj+Sprf5+01uyAAAAABJRU5ErkJggg==\n",
       "\" style=\"display:inline;vertical-align:middle;\" /></a><br>(see <a class=\"ProveItLink\" href=\"../../../__pv_it/theorems/e9d31803ae2ad751d2cd69dc6a3bfb869dd1e40e0/dependencies.ipynb\">dependencies</a>)<br>"
      ],
      "text/plain": [
       "interval_o_o_is_subset_of_Real: forall_{a, b in Real} ((a,b) proper_subset Real)"
      ]
     },
     "execution_count": 2,
     "metadata": {},
     "output_type": "execute_result"
    }
   ],
   "source": [
    "%proving interval_o_o_is_subset_of_Real"
   ]
  },
  {
   "cell_type": "code",
   "execution_count": null,
   "metadata": {},
   "outputs": [],
   "source": []
  }
 ],
 "metadata": {
  "kernelspec": {
   "display_name": "Python 3",
   "language": "python",
   "name": "python3"
  }
 },
 "nbformat": 4,
 "nbformat_minor": 0
}