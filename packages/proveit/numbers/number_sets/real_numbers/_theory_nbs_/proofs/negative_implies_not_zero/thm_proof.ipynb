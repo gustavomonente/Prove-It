{
 "cells": [
  {
   "cell_type": "markdown",
   "metadata": {},
   "source": [
    "Proof of <a class=\"ProveItLink\" href=\"../../../../../../_theory_nbs_/theory.ipynb\">proveit</a>.<a class=\"ProveItLink\" href=\"../../../../../_theory_nbs_/theory.ipynb\">numbers</a>.<a class=\"ProveItLink\" href=\"../../../../_theory_nbs_/theory.ipynb\">number_sets</a>.<a class=\"ProveItLink\" href=\"../../theory.ipynb\">real_numbers</a>.<a class=\"ProveItLink\" href=\"../../theorems.ipynb#negative_implies_not_zero\">negative_implies_not_zero</a> theorem\n",
    "========"
   ]
  },
  {
   "cell_type": "code",
   "execution_count": 1,
   "metadata": {},
   "outputs": [],
   "source": [
    "import proveit\n",
    "theory = proveit.Theory() # the theorem's theory"
   ]
  },
  {
   "cell_type": "code",
   "execution_count": 2,
   "metadata": {},
   "outputs": [
    {
     "data": {
      "text/html": [
       "Under these <a href=\"presumptions.txt\">presumptions</a>, we begin our proof of<br><strong id=\"negative_implies_not_zero\">negative_implies_not_zero:</strong> <a class=\"ProveItLink\" href=\"../../../__pv_it/theorems/e68fb569f1b4121a1f48e475009b22d345d8d84b0/expr.ipynb\"><img src=\"data:image/png;base64,iVBORw0KGgoAAAANSUhEUgAAAKUAAAAWCAMAAACWq6wzAAAAOVBMVEX///8kJCQNDQ0oKCgQEBCI\n",
       "iIhmZma6urrMzMxUVFQiIiJERETc3Nzu7u6qqqp2dnaYmJgyMjIAAAD9T1yxAAAAAXRSTlMAQObY\n",
       "ZgAAAnxJREFUSMe9V9mW5CAIzUwrccPt/z92BE2iWav7TNqHOhUryOVyAWuafm+5eP97wJNN7+gz\n",
       "rc8xvgsS7UMQaYAsY1D0RRPM4Jf9hO+iTO7+dz33LxdYaMgCCbxbInT2XZARHqjs/UfBfKbKakfh\n",
       "Ruo7yzxRqboHq1mTmbAhIY4BaTnzcumYb1A5ZUY5Z2YukRSypWXCuyjlmnAHAaTYF4HtqcQMFaXk\n",
       "LMNKtXUfO5yfIQW5D9ouHWQWxVPKay0nXl9/6XOJxGU2VxVlJHnOsFTS2fJGWg1J9g5vQ0ASUbHT\n",
       "O1k22aMguGDvqCwooaIMFQIfQNEfmiX6AFB25RSo4cqPUCqWvWEhjTkVLQPA+0bu7MaYxowrJj7E\n",
       "inRsHNY7pAMZZcT4AUqnWTeYiRjhT1EKu77RU7nTW2417jeUpekvsSBIndQig6qxijKco1wN6GtL\n",
       "m8rk08SzjCMn0edp0OUfUdW5MmrZR6z5mE2LpPV9NKr4wGFwMkoAOEW5GWBIS1Wps6S26kGmR6c2\n",
       "n6/GUt/Va/WU0KAlnLAow7x0KEFrM59Xz2qgxEZd5VKMKEM70ZbtaPTU94D5OJaIehQ1N9Deze1E\n",
       "0pIk2pXhJkpHFi6djBcoV4Npo7KpLo8Nq6VtQi2lcloOQ/t4g8Ag5TKNmqKK7NrxjlJDRaOHjHvV\n",
       "36psV4urwSbL8xq/mZD+fsLjvrJLw1V5ptwFNegyXFTPZrCVeJ0z+355c9t4uIwFuW/JWnoJ7NT6\n",
       "pauHFApRkM5QdgZ1GPNtsMyecMR0Nd38/Wy+nDeVkKbL47qbPep60l7dgh+o/Mbo/hjlD/5R3F8L\n",
       "4g9BTi9fl//Tgl/3+A/2zBsgdoI1tgAAAABJRU5ErkJggg==\n",
       "\" style=\"display:inline;vertical-align:middle;\" /></a><br>(see <a class=\"ProveItLink\" href=\"../../../__pv_it/theorems/ede747cfde179e38d9cf0f7d64425e0c0a5cbf760/dependencies.ipynb\">dependencies</a>)<br>"
      ],
      "text/plain": [
       "negative_implies_not_zero: forall_{a in Real | a < 0} (a != 0)"
      ]
     },
     "execution_count": 2,
     "metadata": {},
     "output_type": "execute_result"
    }
   ],
   "source": [
    "%proving negative_implies_not_zero"
   ]
  },
  {
   "cell_type": "code",
   "execution_count": null,
   "metadata": {},
   "outputs": [],
   "source": []
  }
 ],
 "metadata": {
  "kernelspec": {
   "display_name": "Python 3",
   "language": "python",
   "name": "python3"
  }
 },
 "nbformat": 4,
 "nbformat_minor": 0
}