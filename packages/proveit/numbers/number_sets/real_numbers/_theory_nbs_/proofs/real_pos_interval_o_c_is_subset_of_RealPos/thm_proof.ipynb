{
 "cells": [
  {
   "cell_type": "markdown",
   "metadata": {},
   "source": [
    "Proof of <a class=\"ProveItLink\" href=\"../../../../../../_theory_nbs_/theory.ipynb\">proveit</a>.<a class=\"ProveItLink\" href=\"../../../../../_theory_nbs_/theory.ipynb\">numbers</a>.<a class=\"ProveItLink\" href=\"../../../../_theory_nbs_/theory.ipynb\">number_sets</a>.<a class=\"ProveItLink\" href=\"../../theory.ipynb\">real_numbers</a>.<a class=\"ProveItLink\" href=\"../../theorems.ipynb#real_pos_interval_o_c_is_subset_of_RealPos\">real_pos_interval_o_c_is_subset_of_RealPos</a> theorem\n",
    "========"
   ]
  },
  {
   "cell_type": "code",
   "execution_count": 1,
   "metadata": {},
   "outputs": [],
   "source": [
    "import proveit\n",
    "theory = proveit.Theory() # the theorem's theory"
   ]
  },
  {
   "cell_type": "code",
   "execution_count": 2,
   "metadata": {},
   "outputs": [
    {
     "data": {
      "text/html": [
       "Under these <a href=\"presumptions.txt\">presumptions</a>, we begin our proof of<br><strong id=\"real_pos_interval_o_c_is_subset_of_RealPos\">real_pos_interval_o_c_is_subset_of_RealPos:</strong> <a class=\"ProveItLink\" href=\"../../../__pv_it/theorems/177cf0acbf3473e9fb755ce6647dc6fee4ac23030/expr.ipynb\"><img src=\"data:image/png;base64,iVBORw0KGgoAAAANSUhEUgAAAMEAAAAbBAMAAAA3yfbmAAAAMFBMVEX///8QEBCIiIhmZma6urrM\n",
       "zMxUVFQiIiJERETc3Nzu7u6qqqp2dnaYmJgyMjIAAAAcRTyBAAAAAXRSTlMAQObYZgAAAyJJREFU\n",
       "SMfNll1IFFEUgI8z++fs7Nqb9RJrgfQQMbRFSWRC0Fu0QfQDgoNZBBlYKovVw1JQo2EsBeZLObUg\n",
       "IpRLBSEEDehLSjFRkEjFZtSD0iZSkLsl3TOzM3OvrbvOS3Rh7t579pz9zpxz7rkL8B+NQ+7UZfJw\n",
       "riy8sjtCgjweVzZh1T0BXrix2IrT7WXCDx2lCX7iVgYX78sDKnNkEhKUZKiaTOOsVuissvSx1yFw\n",
       "EsAkLmbLE0QJI5WkRZ/+JkBYkL29PeDLZtdnvxK/5gH60b9EeUJFmkyvGVG+CCFQqUGiz34HuGAm\n",
       "UEyXJwxgortoiSfnEKbi8XinRagLO4SdJHITw8O3VpHoV/iubUzc2mzCnef0O9QFHEINeX4qysUV\n",
       "g+8s6wt5g5tjNWbdhps3pguELiZK8j6HcIDongDoXonAO0sFzXUSm3XwzZSMzAqLJoFP04Rg+6xD\n",
       "aIoB7AUhY4c2uyLhC1Y3+aW7OsYWxzMVFkyCn850dXzOWJllN9CAX3O6rTBW+Hyy6fgMS2jHeiLq\n",
       "e1Q4Z8VN+GUS+mjCuNRD+ThCTESdcgHxwtOozokwERGjO6K76OJHwloQflgST94kDDHVuu0oXYLE\n",
       "pDJz2BEsYuWNDgMhTOvMO1wxo0TcDs6bkt/A54pESQvcjzj7JgxWdwuZUrWfsX8u1KoeLBgkaAzh\n",
       "lJlpIQ++zKgh+Y45MQhihCZ45e2OGdYSPCJ1LXR68fxw5znJOC6EEJUYQk2hc1yCt7ImLJHdGbhs\n",
       "nYc5umvApC/GHCOoIh7wkhfPTyASyqQMAn+yg800OuMhOoMbjjU3QJzsUpt1izDYojqdLxa4nrfN\n",
       "jLoLqdh1ONlIJS8fURQlwok33mDUqL7UQJ+soHVZFLpG49VC11g+ZuyiSgamiVGVWpH2mVEKNrI3\n",
       "Dq/Rnc8+7OOle42Qsz1MNu2HftWvToEYM/MwobGX6BqMotW9762SELKvUU/zw91wMO1tJT97DU/c\n",
       "Sy1Vzyqfpm8gfZUEf4zdm+2FI3koovyg2C26paM04R27DSZLKQcl93+All9todLqj90TeBX+wfgD\n",
       "Au7Vw6Wrpr4AAAAASUVORK5CYII=\n",
       "\" style=\"display:inline;vertical-align:middle;\" /></a><br>(see <a class=\"ProveItLink\" href=\"../../../__pv_it/theorems/2f1892fa8f5da4cf870239dedc40256f9eead1d00/dependencies.ipynb\">dependencies</a>)<br>"
      ],
      "text/plain": [
       "real_pos_interval_o_c_is_subset_of_RealPos: forall_{a, b in RealPos} ((a,b] proper_subset RealPos)"
      ]
     },
     "execution_count": 2,
     "metadata": {},
     "output_type": "execute_result"
    }
   ],
   "source": [
    "%proving real_pos_interval_o_c_is_subset_of_RealPos"
   ]
  },
  {
   "cell_type": "code",
   "execution_count": null,
   "metadata": {},
   "outputs": [],
   "source": []
  }
 ],
 "metadata": {
  "kernelspec": {
   "display_name": "Python 3",
   "language": "python",
   "name": "python3"
  }
 },
 "nbformat": 4,
 "nbformat_minor": 0
}