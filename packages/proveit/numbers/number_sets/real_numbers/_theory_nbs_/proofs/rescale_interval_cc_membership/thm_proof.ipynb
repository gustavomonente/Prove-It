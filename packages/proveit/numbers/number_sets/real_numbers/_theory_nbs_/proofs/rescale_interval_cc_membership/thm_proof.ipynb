{
 "cells": [
  {
   "cell_type": "markdown",
   "metadata": {},
   "source": [
    "Proof of <a class=\"ProveItLink\" href=\"../../../../../../_theory_nbs_/theory.ipynb\">proveit</a>.<a class=\"ProveItLink\" href=\"../../../../../_theory_nbs_/theory.ipynb\">numbers</a>.<a class=\"ProveItLink\" href=\"../../../../_theory_nbs_/theory.ipynb\">number_sets</a>.<a class=\"ProveItLink\" href=\"../../theory.ipynb\">real_numbers</a>.<a class=\"ProveItLink\" href=\"../../theorems.ipynb#rescale_interval_cc_membership\">rescale_interval_cc_membership</a> theorem\n",
    "========"
   ]
  },
  {
   "cell_type": "code",
   "execution_count": 1,
   "metadata": {},
   "outputs": [],
   "source": [
    "import proveit\n",
    "theory = proveit.Theory() # the theorem's theory"
   ]
  },
  {
   "cell_type": "code",
   "execution_count": 2,
   "metadata": {},
   "outputs": [
    {
     "data": {
      "text/html": [
       "Under these <a href=\"presumptions.txt\">presumptions</a>, we begin our proof of<br><strong id=\"rescale_interval_cc_membership\">rescale_interval_cc_membership:</strong> <a class=\"ProveItLink\" href=\"../../../__pv_it/theorems/f97a2c37fd1ed1437cd510ecb2e5803612ee21a30/expr.ipynb\"><img src=\"data:image/png;base64,iVBORw0KGgoAAAANSUhEUgAAAVwAAAAZBAMAAACP2ot0AAAAMFBMVEX///8QEBCIiIhmZma6urrM\n",
       "zMxUVFQiIiJERETc3Nzu7u6qqqp2dnaYmJgyMjIAAAAcRTyBAAAAAXRSTlMAQObYZgAABG1JREFU\n",
       "WMPtmF2IG1UUgE8mmeRmMkl8FEEYtraWRWXYoj5oNeqTUGnqg/ogdKlWEX/Yh3Wj7SKrCJ1SkMGH\n",
       "dBGUKQsWo5hBH6RFcNgqwtatoQpuFwtBUbGFshQEW3/wnHvn5+Snm3FR6oMX7k9O7sn95sw5594b\n",
       "gLTlyYYLV7fkGrPpJ0/B1S/N/3HhzbD2l2P9glt+SPeD5Z9qSrkJXerOpsKtSNXOqInGnKoDJd/v\n",
       "/J+mWNZ4Ge1k1pRyE06S7FwqXNPHruKNmlhxVR1cubsBXKjYElcqN2Ee2+JcKlw5bX7kxK/COlgW\n",
       "N4Jb9SWuVG5Ka0mzpfBdegknR058MayD5UjYrzQa3dS4Oz2Fe0TilpdarcMpQ+3bVuudkRFXnFJ1\n",
       "2Hutye6R8b9j3c9B4ZIyZoZfHWc2JW7VcQ4ETFQ4yKL3+3Cg2aqCObY59tqxp+7Fl2na8sM57gyL\n",
       "Y/X4Qe+cuC5ym0T649gdEpeUEXcvQLxq7sK6uPk6CB5Dea4nwrHoqFrcD69F378H31gv4SN1exME\n",
       "4h72RRyA97iVNTViUuNPr+0SLikj7n08Yk/0EH609bHvOG7OhvdhGC7pRbgFP6wBPE3LkWwJvvTu\n",
       "ByhJHxE81GYhT4FD6ca4HrJhzDNp6TJULcIlZcQtgJak0vNJ1vl4W0czYcni28QU3Bx9fPfEdoZ7\n",
       "PqHI1FS9W2W8dleu69BYl8bbdQFLGGrZy6EJscFxQa3WI+1COyBcUkZcs1NI7HUpHq0cawHirnY4\n",
       "7nK8t5UPveEx3EuDuNeGxp6U3cUEd55ZNxOac4YU56CtPJZLMe3u9BlusfsQShe20IaoX9ziySCx\n",
       "chQVhBtw3Ld0XNzc9OBedCHlDIlenzMYv3O30X+RLi4fNsNw2yxycfxJPErSbgffE+HmlDPAwcfR\n",
       "7s/r9AK0fTKmp/Vr5IaLuNtsjiuaqDee706rvTvP9fpD7Q90t0j3uLYG41GoZa0EF2EgSvptH54r\n",
       "uSFiLK3W0KdZqMGHCJK1dYljkRAdvr4gcbNPTPcccUq3Y1OvdMCwFS7Ti3Ap4VC9DYxbo8Txm1gr\n",
       "IkJWWW1/gpudhIUoZeGPzJjS17k03xG2xCVlwq3i02Z8bVL6Hc7EDwAPO45jaebrX/eeyKQLVl3Q\n",
       "X3CcVxCX6UW49NKomsun47DdM76JTlEVxfD2q16cGb44ayWzNjdvgMI+6JVOLIfbRF3hllG57YpV\n",
       "7KoeoSKOiiLNLD3q9eCuUrMb6jCprMv0xOhN+GjY7ziwziZ8fIiMcI+y827G3f0AzHsFbwVb3O5s\n",
       "s658dynoP+8W105BAJ8pXKYn/qEjTnAF3EWGm9vzwXbY5evPBNgWJ057cIi2iVPBwl39uMazO27y\n",
       "QPgSl+nFuLTxiQ0fIA1rOG54gOTFZ62GvrvebWKr9F2mJ0Yez0Wa43kZhuMKtx9XZZGSm/ryk+d6\n",
       "YuTl50y/4MaUlx8NLz9nBu5q5Ss/3rq4SkP8t66WjcH/GQo/DzlA/pv/M8z8BfkMXDM9AVPtAAAA\n",
       "AElFTkSuQmCC\n",
       "\" style=\"display:inline;vertical-align:middle;\" /></a><br>(see <a class=\"ProveItLink\" href=\"../../../__pv_it/theorems/30827a8ee08cabe71c8b5066688cb88a526f31720/dependencies.ipynb\">dependencies</a>)<br>"
      ],
      "text/plain": [
       "rescale_interval_cc_membership: forall_{a, b, c in Real} [forall_{x in [a,b]} ((c * x) in [c * a,c * b])]"
      ]
     },
     "execution_count": 2,
     "metadata": {},
     "output_type": "execute_result"
    }
   ],
   "source": [
    "%proving rescale_interval_cc_membership"
   ]
  },
  {
   "cell_type": "code",
   "execution_count": null,
   "metadata": {},
   "outputs": [],
   "source": []
  }
 ],
 "metadata": {
  "kernelspec": {
   "display_name": "Python 3",
   "language": "python",
   "name": "python3"
  }
 },
 "nbformat": 4,
 "nbformat_minor": 0
}