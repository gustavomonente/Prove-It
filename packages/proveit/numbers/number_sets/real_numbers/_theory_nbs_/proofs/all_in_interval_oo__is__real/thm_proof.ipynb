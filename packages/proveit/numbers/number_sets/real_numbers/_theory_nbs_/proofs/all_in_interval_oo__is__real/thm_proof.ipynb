{
 "cells": [
  {
   "cell_type": "markdown",
   "metadata": {},
   "source": [
    "Proof of <a class=\"ProveItLink\" href=\"../../../../../../_theory_nbs_/theory.ipynb\">proveit</a>.<a class=\"ProveItLink\" href=\"../../../../../_theory_nbs_/theory.ipynb\">numbers</a>.<a class=\"ProveItLink\" href=\"../../../../_theory_nbs_/theory.ipynb\">number_sets</a>.<a class=\"ProveItLink\" href=\"../../theory.ipynb\">real_numbers</a>.<a class=\"ProveItLink\" href=\"../../theorems.ipynb#all_in_interval_oo__is__real\">all_in_interval_oo__is__real</a> theorem\n",
    "========"
   ]
  },
  {
   "cell_type": "code",
   "execution_count": 1,
   "metadata": {},
   "outputs": [],
   "source": [
    "import proveit\n",
    "theory = proveit.Theory() # the theorem's theory"
   ]
  },
  {
   "cell_type": "code",
   "execution_count": 2,
   "metadata": {},
   "outputs": [
    {
     "data": {
      "text/html": [
       "Under these <a href=\"presumptions.txt\">presumptions</a>, we begin our proof of<br><strong id=\"all_in_interval_oo__is__real\">all_in_interval_oo__is__real:</strong> <a class=\"ProveItLink\" href=\"../../../__pv_it/theorems/4feefcf4137315048ba89a79fcb01dceeec213a50/expr.ipynb\"><img src=\"data:image/png;base64,iVBORw0KGgoAAAANSUhEUgAAAOIAAAAZBAMAAADea+8+AAAAMFBMVEX///8QEBCIiIhmZma6urrM\n",
       "zMxUVFQiIiJERETc3Nzu7u6qqqp2dnaYmJgyMjIAAAAcRTyBAAAAAXRSTlMAQObYZgAAA5dJREFU\n",
       "SMfVll9IFEEcx3/u7d7f3bOHHgwhRMGkjA6FogdFkCwi6+pBfQiUyv5RIWFdqMjhi6sibhEmYbEp\n",
       "aF1gRz2IUHAoQWjJEUEmFUfgQwUm0kP61G9mdm/n7Lq9wJd+sDc7czvzmfn+fvObAbC3cyENNsnE\n",
       "UEc2n7XAJtrgf0/0xDP8OcWICVJ8siH6SaHE7YkP0zW+zxtYzsPOTo0S50jbNxuiHMXCr9sTv6Zt\n",
       "TYxBw4IO3gQlDhEtwjZE+sGQPVAJpG0OD4Pb0wQwTYlk5nQJGf1IRJizJ7pStpHSHeo0iQ4NF/iA\n",
       "EpXZSOSObeR8jEQeZRFAKQNJXbq1RoeGMvmraKz+UtUOW2KuqnbHUhq51UjJtyJ8RopvlxaQyoTO\n",
       "qeoUUVU5QInNAD3JlLD8F6IzCO4UxWTz5WgCfFVmpR/AG1OuuugGuMD7cbIS+UqCEqtZDDGbMcrJ\n",
       "ktNfeKIYgImUWSSHI/Peb1basa7L6yKdnBWO4ZuhThIqvhZKdIFgbbTv+Hifl8cFGWYL+AzQArvN\n",
       "6uOZCpCSEvtxqDGzshV7g5uhpO3LaMYaq91EYmmFEuW4y5r6Gj4LUxFA4mKcJ75JZh6l765OVDYs\n",
       "F9fj1ywitrCpclsuPOw4ELaInkQdVkaLl0jTarEukj1FiDGeeF8ini860YxeINsAF1N2hWAbCy9a\n",
       "IrWTn0ZjNlt4P/a+JWHCVIWeM9j9mrROQG1CgGY0JJYHeKJ7EMNjpzPRytIiboPxYCNRaodeBL4m\n",
       "K3J8+h4QaJSW8cQ6RzAZOfAMR3QEJDpugZIYpUTH2daUTO7bhz9Bfxy8dCKHAMqhnrx1wWcQw1bg\n",
       "HYsOwD2WDqJclpOjuCccMUYkuudEBTLPnCpHU72qqgWCfOtd6tmxajhNuqGqXVADkA/FzHV7QTKD\n",
       "/SBGUeFIBRPZe/5wMpMvgfojCv4gIyqowRPNvYhFrp4TdTJVfSf1FOIidREEgSrYAN416I/g2zqi\n",
       "xaa0WU58ZWQ508a58zFHa6yFId2lL4AcZH6cjW08Hz0r8xCDl0bfbdLPuKcX2pQwKLHMmdy0aY4o\n",
       "nnpaAcej0iXs20cywHxstHIj0Xv5SKkObuIelw41u4riUj7UvUb/JJNOTyagcVrxxlwtoB8z3QFK\n",
       "0I+CERU+lgUyn8imubWNRJ+W/a0jzF0k4EV2t44Pf9xzlH+459SyggK8gc2+WYXS3Fd5PQQ9a54Y\n",
       "uv4bPLz/65svNJIAAAAASUVORK5CYII=\n",
       "\" style=\"display:inline;vertical-align:middle;\" /></a><br>(see <a class=\"ProveItLink\" href=\"../../../__pv_it/theorems/ec622c3f004645ca258728d55ec9a0bcf09eab210/dependencies.ipynb\">dependencies</a>)<br>"
      ],
      "text/plain": [
       "all_in_interval_oo__is__real: forall_{a, b in Real} [forall_{x in (a,b)} (x in Real)]"
      ]
     },
     "execution_count": 2,
     "metadata": {},
     "output_type": "execute_result"
    }
   ],
   "source": [
    "%proving all_in_interval_oo__is__real"
   ]
  },
  {
   "cell_type": "code",
   "execution_count": null,
   "metadata": {},
   "outputs": [],
   "source": []
  }
 ],
 "metadata": {
  "kernelspec": {
   "display_name": "Python 3",
   "language": "python",
   "name": "python3"
  }
 },
 "nbformat": 4,
 "nbformat_minor": 0
}