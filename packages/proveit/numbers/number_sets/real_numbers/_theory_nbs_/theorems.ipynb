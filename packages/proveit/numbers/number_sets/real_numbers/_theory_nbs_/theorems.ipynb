{
 "cells": [
  {
   "cell_type": "markdown",
   "metadata": {},
   "source": [
    "Theorems (or conjectures) for the theory of <a class=\"ProveItLink\" href=\"theory.ipynb\">proveit.numbers.number_sets.real_numbers</a>\n",
    "========"
   ]
  },
  {
   "cell_type": "code",
   "execution_count": 1,
   "metadata": {},
   "outputs": [],
   "source": [
    "import proveit\n",
    "# Prepare this notebook for defining the theorems of a theory:\n",
    "%theorems_notebook # Keep this at the top following 'import proveit'.\n",
    "from proveit import a, b, c, n, x\n",
    "from proveit.logic import Forall, Iff, in_bool, InSet, NotEquals, NotInSet, ProperSubset\n",
    "from proveit.numbers import (Add, greater, greater_eq, IntervalCC,\n",
    "                            IntervalCO, IntervalOC, IntervalOO,\n",
    "                            Less, LessEq, Mult, Neg, sqrt)\n",
    "from proveit.numbers import (zero, one, two, e, pi, Integer, Natural,\n",
    "                            NaturalPos, Rational, Real, RealPos,\n",
    "                            RealNeg, RealNonNeg)"
   ]
  },
  {
   "cell_type": "code",
   "execution_count": 2,
   "metadata": {},
   "outputs": [
    {
     "name": "stdout",
     "output_type": "stream",
     "text": [
      "Defining theorems for theory 'proveit.numbers.number_sets.real_numbers'\n",
      "Subsequent end-of-cell assignments will define theorems\n",
      "'%end theorems' will finalize the definitions\n"
     ]
    }
   ],
   "source": [
    "%begin theorems"
   ]
  },
  {
   "cell_type": "code",
   "execution_count": 3,
   "metadata": {},
   "outputs": [
    {
     "data": {
      "text/html": [
       "<strong id=\"real_pos_within_real\"><a class=\"ProveItLink\" href=\"proofs/real_pos_within_real/thm_proof.ipynb\">real_pos_within_real</a> (conjecture without proof):<br></strong> <a class=\"ProveItLink\" href=\"../__pv_it/theorems/44db108a319b79a91a972008708021f5b3cd74d30/theorem_expr.ipynb\"><img src=\"data:image/png;base64,iVBORw0KGgoAAAANSUhEUgAAAEcAAAAUBAMAAAAthD11AAAAMFBMVEX///+IiIiqqqq6urpmZmZ2\n",
       "dnbc3NzMzMxUVFTu7u4yMjJEREQQEBAiIiKYmJgAAACIyPRpAAAAAXRSTlMAQObYZgAAANVJREFU\n",
       "KM9jYCANcBCjiJseit6e3r/q9APsihByC2YwVL+ewNC1as2qVQ/QVEHlGBg2pDJwszVgtw4uB2Sw\n",
       "JCxAUfT67t271xmQ5cCMDciKssKQTILIARkczCjWXUO2DiIHZOh6TUBSxKKArAgityHn7i2wMBtU\n",
       "hhfJ4TC5Dakm3BOQvZSB7Duo3IZUFvMNyIpmIyuCygHt3fkQWREvSjhB5ICMCpYCJEWsAsiKIHLA\n",
       "oGdVaEc2ahFytIDlgJG4nGH3egUkRTOaJ8AjGF0OAUr3QqMFCgAeqVk92gtVHAAAAABJRU5ErkJg\n",
       "gg==\n",
       "\" style=\"display:inline;vertical-align:middle;\" /></a><br>"
      ],
      "text/plain": [
       "real_pos_within_real: RealPos proper_subset Real"
      ]
     },
     "execution_count": 3,
     "metadata": {},
     "output_type": "execute_result"
    }
   ],
   "source": [
    "real_pos_within_real = ProperSubset(RealPos, Real)"
   ]
  },
  {
   "cell_type": "code",
   "execution_count": 4,
   "metadata": {},
   "outputs": [
    {
     "data": {
      "text/html": [
       "<strong id=\"real_neg_within_real\"><a class=\"ProveItLink\" href=\"proofs/real_neg_within_real/thm_proof.ipynb\">real_neg_within_real</a> (conjecture without proof):<br></strong> <a class=\"ProveItLink\" href=\"../__pv_it/theorems/d29107bbcdc6a6b12d1746b4d0a0d64ffd9793030/theorem_expr.ipynb\"><img src=\"data:image/png;base64,iVBORw0KGgoAAAANSUhEUgAAAEgAAAAPBAMAAAC1npSgAAAAMFBMVEX///+IiIiqqqq6urpmZmZ2\n",
       "dnbc3NzMzMxUVFTu7u4yMjJEREQQEBAiIiKYmJgAAACIyPRpAAAAAXRSTlMAQObYZgAAAORJREFU\n",
       "KM9jeHt6/6rTDxiwAr47u3+t2QdiLZjBUP16AoP1biCYgKaKi7OBfd9OIGNDKgM3WwN2o7jZAhg2\n",
       "ZEAUsSQsQJF7fffu3eswRW5cMEUbkNVkhSGb5MYNUcTBjGLdNRTrGiwginS9kF3MooCsiOnKSpCi\n",
       "nLu3FJAN4kV2+Nm7ixjAJplwo3g9A1lRsMNOiCIWcxR3z0YJAudqiCKGnQ9xWhfAPU8AoqiCpQBJ\n",
       "EasAsiL2BndItLAqtCMbtQg5WhiCOAoYgBG8nGH3emT/zWiegIjgAu5dn7BGWeleaLRAAQDnmE3y\n",
       "vYHSAQAAAABJRU5ErkJggg==\n",
       "\" style=\"display:inline;vertical-align:middle;\" /></a><br>"
      ],
      "text/plain": [
       "real_neg_within_real: RealNeg proper_subset Real"
      ]
     },
     "execution_count": 4,
     "metadata": {},
     "output_type": "execute_result"
    }
   ],
   "source": [
    "real_neg_within_real = ProperSubset(RealNeg, Real)"
   ]
  },
  {
   "cell_type": "code",
   "execution_count": 5,
   "metadata": {},
   "outputs": [
    {
     "data": {
      "text/html": [
       "<strong id=\"real_non_neg_within_real\"><a class=\"ProveItLink\" href=\"proofs/real_non_neg_within_real/thm_proof.ipynb\">real_non_neg_within_real</a> (conjecture without proof):<br></strong> <a class=\"ProveItLink\" href=\"../__pv_it/theorems/77c6b78ce6055ce03d2becd628fe17ca700abebb0/theorem_expr.ipynb\"><img src=\"data:image/png;base64,iVBORw0KGgoAAAANSUhEUgAAAFAAAAAVBAMAAAAjqnRBAAAAMFBMVEX///+IiIiqqqq6urpmZmZ2\n",
       "dnbc3NzMzMxUVFTu7u4yMjJEREQQEBAiIiKYmJgAAACIyPRpAAAAAXRSTlMAQObYZgAAAUFJREFU\n",
       "KM9jYEAFoqIMBIBFAojkC2BqIKCQzaMASPIaMPwkZCSbN1Dl/AKGQ4QUMnBGGzDUJzDcYyCsMmpC\n",
       "/QSGizhk357ev+r0AzCTcR3IxIOo8nx3dv9asw/EWjCDofr1BCBj4iawGz+jmcTF2cC+byeQsSGV\n",
       "gZsNGCZTN2P3NTdbAMOGDIhCloQFDFM2g213gIXj67t3716HKXTjgincwFAOjZkQCJ0VhmyiGzdE\n",
       "IQczRnRcQ7G6wQKiUNdrApo6FgVkhUxXVoIU5ty9BRTW3g0EcPW8yJ45e3cRA9hEE250AxkykBUG\n",
       "O+yEKGQx34CucDZK8DhXQxQy7HyIrhDF6gDueQIQhRUsBWgKWQWQFbI3uEOikFWhHd3IRchRyBDE\n",
       "UQBKFMsZdq9XQFM4o3kCIlEUcO/6hDPNle6FRiEUAABZD2QqD9oQnwAAAABJRU5ErkJggg==\n",
       "\" style=\"display:inline;vertical-align:middle;\" /></a><br>"
      ],
      "text/plain": [
       "real_non_neg_within_real: RealNonNeg proper_subset Real"
      ]
     },
     "execution_count": 5,
     "metadata": {},
     "output_type": "execute_result"
    }
   ],
   "source": [
    "real_non_neg_within_real = ProperSubset(RealNonNeg, Real)"
   ]
  },
  {
   "cell_type": "code",
   "execution_count": 6,
   "metadata": {},
   "outputs": [
    {
     "data": {
      "text/html": [
       "<strong id=\"int_within_real\"><a class=\"ProveItLink\" href=\"proofs/int_within_real/thm_proof.ipynb\">int_within_real</a> (conjecture without proof):<br></strong> <a class=\"ProveItLink\" href=\"../__pv_it/theorems/c77805aef5d935428cbcbec911215a86034ef1810/theorem_expr.ipynb\"><img src=\"data:image/png;base64,iVBORw0KGgoAAAANSUhEUgAAADkAAAAPBAMAAACsFXoGAAAAMFBMVEX///9UVFTc3Nzu7u6qqqp2\n",
       "dnbMzMxmZmZERESIiIiYmJgyMjIQEBAiIiK6uroAAABqpg13AAAAAXRSTlMAQObYZgAAAOlJREFU\n",
       "GNNj4LvzZ/fZPQsYUMDaE/27T4DEONsTGDZwMKCBDYYMGSsMGBjYAxhYHeLQZRtUGTiYBICyBgyK\n",
       "bAUQMa7eu3fvJkBl2RU2gAWbOQzANNNWBSS97AoNYB0TVkGEeBWQTWbkEwCxLJgbIEIlKPb6VoNN\n",
       "FGOE6rmAJKtz97YDiMFX8BQiwiSArPc5xDHcDECDg4EMmAUQWfZnYG4I6wMGhgPoJqsyNK8Em6cI\n",
       "9DRYNhJFNpEd6HMOg2YGZimwKdwOyCHJ6iDGwPCm+0TH+RPgwGIWfIyIhW0MHfsdUEKXLQIWklAA\n",
       "AIXKPhbaD7N+AAAAAElFTkSuQmCC\n",
       "\" style=\"display:inline;vertical-align:middle;\" /></a><br>"
      ],
      "text/plain": [
       "int_within_real: Integer proper_subset Real"
      ]
     },
     "execution_count": 6,
     "metadata": {},
     "output_type": "execute_result"
    }
   ],
   "source": [
    "int_within_real = ProperSubset(Integer, Real)"
   ]
  },
  {
   "cell_type": "code",
   "execution_count": 7,
   "metadata": {},
   "outputs": [
    {
     "data": {
      "text/html": [
       "<strong id=\"rational_within_real\"><a class=\"ProveItLink\" href=\"proofs/rational_within_real/thm_proof.ipynb\">rational_within_real</a> (conjecture without proof):<br></strong> <a class=\"ProveItLink\" href=\"../__pv_it/theorems/d2cc2bd09aa1d62460958075f7a6bdc25101a19a0/theorem_expr.ipynb\"><img src=\"data:image/png;base64,iVBORw0KGgoAAAANSUhEUgAAADsAAAARBAMAAACRPMnQAAAAMFBMVEX///8QEBCqqqp2dnaYmJiI\n",
       "iIjc3NwiIiLu7u66urpUVFQyMjJERERmZmbMzMwAAAC8H5PlAAAAAXRSTlMAQObYZgAAAQhJREFU\n",
       "KM9jYGB4e+b0SgY04C5zfreMA4jVtTyBY9cJdPkNXQxvfBqAjJP3gEpeN6BJH0hm4GFbwMDA6rCB\n",
       "gYGncwFYkOV4eXn5A6g0bwJQhpvtAlDNBLDpbJsTkHTzJhxgYMjiA7qA08ESJMaegGw4FyfQyKlM\n",
       "CgwMfAEqILFLKHar3wY66ClEWgkkVoAknVheDZRg4AIbrmAGsnoBsu65PCDf8ECcBpLhOIAszTsP\n",
       "xOV0OADymAO64ckMJ1xBDEtQsLwFi5miSL/iBYUAy/UEjr1gzQzcCsiByqywDhxUv/dDhTlWzUBE\n",
       "yT6GMxBxSyaYk/lsYIGKBJjNtK8aMOAGuWf2TsAuAwAAqlBKx2vCQAAAAABJRU5ErkJggg==\n",
       "\" style=\"display:inline;vertical-align:middle;\" /></a><br>"
      ],
      "text/plain": [
       "rational_within_real: Rational proper_subset Real"
      ]
     },
     "execution_count": 7,
     "metadata": {},
     "output_type": "execute_result"
    }
   ],
   "source": [
    "rational_within_real = ProperSubset(Rational, Real)"
   ]
  },
  {
   "cell_type": "code",
   "execution_count": 8,
   "metadata": {},
   "outputs": [
    {
     "data": {
      "text/html": [
       "<strong id=\"nat_within_real\"><a class=\"ProveItLink\" href=\"proofs/nat_within_real/thm_proof.ipynb\">nat_within_real</a> (conjecture without proof):<br></strong> <a class=\"ProveItLink\" href=\"../__pv_it/theorems/8b1d8f823b8fbaa6e5a7d1e947e188ca363837a90/theorem_expr.ipynb\"><img src=\"data:image/png;base64,iVBORw0KGgoAAAANSUhEUgAAADoAAAAPBAMAAABHIsEFAAAAMFBMVEX///9mZmaqqqrc3NyIiIgi\n",
       "IiJUVFTMzMyYmJi6uroQEBB2dnZEREQyMjLu7u4AAAA1o4RqAAAAAXRSTlMAQObYZgAAAONJREFU\n",
       "GNNjePvn7AOGXb8mMCADjqgzf2+dALFOsCcw8H1gQAW8fAnsJ84BGakFLgwMC9BkeZg3MBwwAzIy\n",
       "z7EVMARABHtCQ0PDYbLCvEBGchnfPais7WZkvcI8IFkmhzKobDCKyQnTQLIMOzkcwLKMCsiyTIH3\n",
       "wLJsD9LBsqzIrloaeokBLMuXwAt2sxmy7E6BcxBZhmp2sOwbFB9J1kBlORQOYJi8geeFA5CRDsSb\n",
       "wbLcDsiy7AniQAbIcsYLYLFLyCHJsAkYSqW/gPr4ILLPMh8gYqGA5+wn1OCtPgoNSSgAAJNTQtM7\n",
       "D94dAAAAAElFTkSuQmCC\n",
       "\" style=\"display:inline;vertical-align:middle;\" /></a><br>"
      ],
      "text/plain": [
       "nat_within_real: Natural proper_subset Real"
      ]
     },
     "execution_count": 8,
     "metadata": {},
     "output_type": "execute_result"
    }
   ],
   "source": [
    "nat_within_real = ProperSubset(Natural, Real)"
   ]
  },
  {
   "cell_type": "code",
   "execution_count": 9,
   "metadata": {},
   "outputs": [
    {
     "data": {
      "text/html": [
       "<strong id=\"nat_pos_within_real\"><a class=\"ProveItLink\" href=\"proofs/nat_pos_within_real/thm_proof.ipynb\">nat_pos_within_real</a> (conjecture without proof):<br></strong> <a class=\"ProveItLink\" href=\"../__pv_it/theorems/567e194ab319ccc2ce91424a0a514a9509deb02d0/theorem_expr.ipynb\"><img src=\"data:image/png;base64,iVBORw0KGgoAAAANSUhEUgAAAEcAAAAUBAMAAAAthD11AAAAMFBMVEX///9mZmaqqqrc3NyIiIgi\n",
       "IiJUVFTMzMyYmJi6uroQEBB2dnZEREQyMjLu7u4AAAA1o4RqAAAAAXRSTlMAQObYZgAAAQNJREFU\n",
       "KM9jYCANsBGjiIceit7+OfuAYdevCdgUta45f3dNA4h1gj2Bge8DQ+7dW3fvNqCpuvCMoabnAZCR\n",
       "WuDCwLAAu3UHrBl4mBOAjMxzbAUMASiKekJDQ8OhihgNLgAZyWV891AV2W5GMonR4ABIEZNDGaqi\n",
       "YGTr2DhB1iUz7ORwQFbEqICsSFX2AVgR24N0kCJmqAwrksOtQmPBWpIZ+BJ4FyB5yQzZdxN5HkAU\n",
       "MVSzIyt6g6yIcfoBqCIOhQNIilhRwulcC4iRDsSbkRVxOyArKmMsADIugTx0ATmcLyFHC7cC0JTS\n",
       "X0BT+FAUPct8AI/g6wxn7itgTRnVR6HRAgUAnWVOzL1sOfAAAAAASUVORK5CYII=\n",
       "\" style=\"display:inline;vertical-align:middle;\" /></a><br>"
      ],
      "text/plain": [
       "nat_pos_within_real: NaturalPos proper_subset Real"
      ]
     },
     "execution_count": 9,
     "metadata": {},
     "output_type": "execute_result"
    }
   ],
   "source": [
    "nat_pos_within_real = ProperSubset(NaturalPos, Real)"
   ]
  },
  {
   "cell_type": "code",
   "execution_count": 10,
   "metadata": {},
   "outputs": [
    {
     "data": {
      "text/html": [
       "<strong id=\"nat_pos_within_real_pos\"><a class=\"ProveItLink\" href=\"proofs/nat_pos_within_real_pos/thm_proof.ipynb\">nat_pos_within_real_pos</a> (conjecture without proof):<br></strong> <a class=\"ProveItLink\" href=\"../__pv_it/theorems/65512564c9345d2fe9aaf1e6d49a04c60e23c1980/theorem_expr.ipynb\"><img src=\"data:image/png;base64,iVBORw0KGgoAAAANSUhEUgAAAFQAAAAUBAMAAADhHQeeAAAAMFBMVEX///9mZmaqqqrc3NyIiIgi\n",
       "IiJUVFTMzMyYmJi6uroQEBB2dnZEREQyMjLu7u4AAAA1o4RqAAAAAXRSTlMAQObYZgAAARJJREFU\n",
       "KM9jYCAHsOGTTEDh8eBTeoBmSt/+OfuAYdevCdiUckSd+XvrBMLUE+wJDHwfGHLv3rp7twFNLS9f\n",
       "AvuJcwxsd++uvXuDgSG1wIWBYQF2B/Awb2A4YAY3NfMcWwFDAIrSntDQ0HCYUmFeuNLkMr57qEpt\n",
       "NyObKsyDUMrkUIaqNBjFAQnTEEoZdnI4ICtlVEBWyhR4D0kp24N0kFJmqDwrsreWhl4CswwgSvkS\n",
       "eBcgedsMWelOgXMIbjIDQzU7stI3KIElWYOilEMBOYpRHLCB54UDnJsOxJuRlXI7ICtlTxCHc0HO\n",
       "ZryAHEeXkCOWYRMwhiCg9BfQRD4Upc8yHyCSSwHP2U94Ulz1UWjEogAAoqlTGKZjvAUAAAAASUVO\n",
       "RK5CYII=\n",
       "\" style=\"display:inline;vertical-align:middle;\" /></a><br>"
      ],
      "text/plain": [
       "nat_pos_within_real_pos: NaturalPos proper_subset RealPos"
      ]
     },
     "execution_count": 10,
     "metadata": {},
     "output_type": "execute_result"
    }
   ],
   "source": [
    "nat_pos_within_real_pos = ProperSubset(NaturalPos, RealPos)"
   ]
  },
  {
   "cell_type": "code",
   "execution_count": 11,
   "metadata": {},
   "outputs": [
    {
     "data": {
      "text/html": [
       "<strong id=\"nat_within_real_non_neg\"><a class=\"ProveItLink\" href=\"proofs/nat_within_real_non_neg/thm_proof.ipynb\">nat_within_real_non_neg</a> (conjecture without proof):<br></strong> <a class=\"ProveItLink\" href=\"../__pv_it/theorems/63941933d89fe3de9c88936b38e3b53f82d76c230/theorem_expr.ipynb\"><img src=\"data:image/png;base64,iVBORw0KGgoAAAANSUhEUgAAAE4AAAAVBAMAAAAazcUaAAAAMFBMVEX///9mZmaqqqrc3NyIiIgi\n",
       "IiJUVFTMzMyYmJi6uroQEBB2dnZEREQyMjLu7u4AAAA1o4RqAAAAAXRSTlMAQObYZgAAAVNJREFU\n",
       "KM9jYCACeHsTUDDNAERybGBKwK+OWawASLJOYPhHwEBmGaDC9wUMiwg5jW/PBIZ6A4YIgn7g2/ug\n",
       "/gFDCMPbP2cfMOz6NQFFsnXN+btrGsBMlhsg85YwMJxgT2Dg+4BmyoVnDDU9D4CMJ4fA7vvJwJBa\n",
       "4MLAsABN3QFrBh5mYGC8Pgn3b+Y5tgKGALAsx9HQ0NACqDpGgwsMD0+CrRYAhV9yGd89iDrm2wZI\n",
       "5jEaHGAoh8bHRiCRzORQBlHHaoBsLxsnaiQkM+zkcACrE0Jxn6rsAzR1bA/SweoCkNRZhcYqMDDo\n",
       "nAGCBzB1fAm8IP8yJyCbN5EH1TigOoZqdpA6vgPI6hinH8BQx6FwAN1ea4ZzLajq0oF4M1jdFhR1\n",
       "ZYwFKOouATHjBRCLVwE53rgV0pGVlf4CmsUHVseXNg+RDq4znLmvgCMNse+BxRsGAAClvGelUqpA\n",
       "WwAAAABJRU5ErkJggg==\n",
       "\" style=\"display:inline;vertical-align:middle;\" /></a><br>"
      ],
      "text/plain": [
       "nat_within_real_non_neg: Natural proper_subset RealNonNeg"
      ]
     },
     "execution_count": 11,
     "metadata": {},
     "output_type": "execute_result"
    }
   ],
   "source": [
    "nat_within_real_non_neg = ProperSubset(Natural, RealNonNeg)"
   ]
  },
  {
   "cell_type": "code",
   "execution_count": 12,
   "metadata": {},
   "outputs": [
    {
     "data": {
      "text/html": [
       "<strong id=\"nat_pos_within_real_non_neg\"><a class=\"ProveItLink\" href=\"proofs/nat_pos_within_real_non_neg/thm_proof.ipynb\">nat_pos_within_real_non_neg</a> (conjecture without proof):<br></strong> <a class=\"ProveItLink\" href=\"../__pv_it/theorems/12247fbd764455f888e3442cd624e3b16e81b7e80/theorem_expr.ipynb\"><img src=\"data:image/png;base64,iVBORw0KGgoAAAANSUhEUgAAAFwAAAAVBAMAAAA5lpTPAAAAMFBMVEX///9mZmaqqqrc3NyIiIgi\n",
       "IiJUVFTMzMyYmJi6uroQEBB2dnZEREQyMjLu7u4AAAA1o4RqAAAAAXRSTlMAQObYZgAAAWlJREFU\n",
       "KM9jYCAeeHsTp26aAYjk2MCUgCTIhlM5s1gBkGSdwPAPSZAHt/HMMkD17wsYFhGnnIFvzwSGegOG\n",
       "CCKVM/DtfVD/gCGE4e2fsw8Ydv2agE1565rzd9c0gJksN0CmL2FgOMGewMD3gSH37q27dxvQ1F94\n",
       "xlDT8wDIeHII7PafDAypBS4MDAuwO+aANQMPMzD0Xp+Eh0zmObYChgBk5RxHQ0NDC6DKGQ0uMDw8\n",
       "CXaPACjck8v47qEoZ75tgGQ6o8EBhnJorG4EEslMDmUoylkNkB3DxpmA4r5khp0cDsjKhVDcrir7\n",
       "AE0524N0kHJmqEAAknKr0FgFBgadM0DwAKacL4F3AVKEJyCbPpEH1XCgcoZqdiTlfAeQlTNOP4Ch\n",
       "nEMBWSwAxe3nWlCVpwPxZmTlW1CUlzEWoCi/BMSMF5AEeBWQEwG3Qjqy6tJfQJP5kJXzpc1DJLHr\n",
       "DGfuK+DPa+x7YIkAAwAA2u9seLzz50kAAAAASUVORK5CYII=\n",
       "\" style=\"display:inline;vertical-align:middle;\" /></a><br>"
      ],
      "text/plain": [
       "nat_pos_within_real_non_neg: NaturalPos proper_subset RealNonNeg"
      ]
     },
     "execution_count": 12,
     "metadata": {},
     "output_type": "execute_result"
    }
   ],
   "source": [
    "nat_pos_within_real_non_neg = ProperSubset(NaturalPos, RealNonNeg)"
   ]
  },
  {
   "cell_type": "code",
   "execution_count": 13,
   "metadata": {},
   "outputs": [
    {
     "data": {
      "text/html": [
       "<strong id=\"real_pos_within_real_non_neg\"><a class=\"ProveItLink\" href=\"proofs/real_pos_within_real_non_neg/thm_proof.ipynb\">real_pos_within_real_non_neg</a> (conjecture without proof):<br></strong> <a class=\"ProveItLink\" href=\"../__pv_it/theorems/9b020c3f1a4963c268b0f9c431e38c4d209d9ec20/theorem_expr.ipynb\"><img src=\"data:image/png;base64,iVBORw0KGgoAAAANSUhEUgAAAFwAAAAVBAMAAAA5lpTPAAAAMFBMVEX///+IiIiqqqq6urpmZmZ2\n",
       "dnbc3NzMzMxUVFTu7u4yMjJEREQQEBAiIiKYmJgAAACIyPRpAAAAAXRSTlMAQObYZgAAASlJREFU\n",
       "KM9jYCAeiIoSp84iAUTyBTA1IAly4FTO5lEAJHkNGH4iCXLjNp7NG6h+fgHDIeKUM3BGGzDUJzDc\n",
       "I1I5A2fUhPoJDBcZ3p7ev+r0A+zKEXIMjOtAph9kYFgwg6H69QSGrlVrVq16gKYeKsfAMHET2O2f\n",
       "GRg2pDJwszVgdwxMbupmeMgAhVgSFiAr59t79+7dAqhykNyUzWD3OIDCHSy0AUk529IEJNNBcuXQ\n",
       "WA2BCHEwIzuGNwHZMRA5FPfpek1AUu6ERQ5JKOfuLQWwI6ACFzDktHcDwQSYCSbcyAawNSCbjioH\n",
       "FmIx34Acfxtwy0Hct/MhssAFPHJgoQqWAiSBQDxy4IhmVWhHEuBSwC0HSkbLGXavV0ByfIclTjls\n",
       "gD0alggwAAB0J3LwXfUUogAAAABJRU5ErkJggg==\n",
       "\" style=\"display:inline;vertical-align:middle;\" /></a><br>"
      ],
      "text/plain": [
       "real_pos_within_real_non_neg: RealPos proper_subset RealNonNeg"
      ]
     },
     "execution_count": 13,
     "metadata": {},
     "output_type": "execute_result"
    }
   ],
   "source": [
    "real_pos_within_real_non_neg = ProperSubset(RealPos, RealNonNeg)"
   ]
  },
  {
   "cell_type": "code",
   "execution_count": 14,
   "metadata": {},
   "outputs": [
    {
     "data": {
      "text/html": [
       "<strong id=\"in_real_pos_iff_positive\"><a class=\"ProveItLink\" href=\"proofs/in_real_pos_iff_positive/thm_proof.ipynb\">in_real_pos_iff_positive</a> (conjecture without proof):<br></strong> <a class=\"ProveItLink\" href=\"../__pv_it/theorems/0921e2c59d83f48a2cb88a24fba3b40314ca0efe0/theorem_expr.ipynb\"><img src=\"data:image/png;base64,iVBORw0KGgoAAAANSUhEUgAAAPsAAAAbBAMAAABIGOQXAAAAMFBMVEX///8QEBCIiIhmZma6urrM\n",
       "zMxUVFQiIiJERETc3Nzu7u6qqqp2dnaYmJgyMjIAAAAcRTyBAAAAAXRSTlMAQObYZgAAA/xJREFU\n",
       "SMfNV19oW1UY/5rkJjc3N23fNgVLOp2IMAitg03qrAj1xbEMxE0QeqlVNjdkrluDdg9BRNOOSlCo\n",
       "fRnNKGwQZlPcYAwEL0xfOiaVDSdlk+jWqh3Lythga8vw+86/e9Pc5NK8uA/uLycn55zfOd/5nd+5\n",
       "AXiS4y0FNcPCJ9HI2AHfFpoloXZk8OlphD5k+bVozkuoT2/ONsJ/2a9Bh4L69PCp508nanaK5RAi\n",
       "uK4Sfbvh3Si6LGFtxD/OPv5z1KF/1qu7kfEc1dzyM8B+2vwkwCWqWfSmN5MSqrfFsLTREQiXy23l\n",
       "OwATnm1ynqPehtM5mKKFLQGM06f3NKFpWkJV6FEbMmNq9RGvRldcibjjJK4VzBKYdFiGuLDMaW/6\n",
       "ibwEFb+n0yVJv71Z0QflAqjqbVH+xNXvzGE1cQtiy2C0YnEbTmamUPi2hkB+VSBj74uu1W/XFX2g\n",
       "VdRvod9SXDmHKk75MbGMFgtCKwC3sNiOz8Ns9lgN+h0Sol0dT7McLrqTb/Uo+pDQp5ZxWpGy4JuL\n",
       "7YI2PsALxSSE7gFcxOIurHkfYLgGfVbCa7nmJSqHcy762MCiotce8OrdG9IYbYxIRzMIPQV31WFb\n",
       "YL0nbNCQ/g8s9mKaXgej5KI8/8J7f8nyggDjGbG5ukt6G9K3WYmNGb3PF/whz8FxKceTs7TB0uYW\n",
       "mJaSoK0iDxW7sRUEpGcZP3TOBkyYkRY+ICC4DBFWt7uMIaT3U3LEpWxGbwyKrxGabBMO/moeDjv0\n",
       "/+Sd5PdSsZsMM6JkfaEASD8np3NTQFMGikxO4+6D99Jel0Hx1Y/ZfDIHQdBvBOPBmuSj9GIrnJ5W\n",
       "Hy3RQZl8fh5CpBWit0WHLwQUbfiRG4GbXv/Ouei0R/zzGqWn/HdKJN9YhdgSVEpPz0AchfoG7T3N\n",
       "Z7gf53tUW2Znlug7pc/tE1Ccho+YSwcTLnrN2urkVSg/Tl2Nf0FIz1iBcOlC5cHjtsOkR8qHs3g+\n",
       "g0ntEEyyZsEPjshB2wXoifigyWqGXKYLl8Ipl5Xx6KdJTivL/gyuWXal7eAYJ7Ffl7SUlgQ5a8CC\n",
       "PdlsNhEwv74qG7LZIRh9m8eeYzWnPs+rKyelf7UiWyrXm3IUEsJlndr0Tl93penCmU141mGeux4O\n",
       "hSMWc/pcPsyTH3tX2iyJh4OKN79Ml7xuF7krUXwKHqZbdRuSJaoT3pTr3Qlmiu/9jJRe0JbgF8V8\n",
       "/Sun+jLF+RrqKg/1ff8KALnF+V/syR1Sz60S/OI3z1sxV7sDbVJ8zdtWAPe+ouKAAp84uo7XDRbk\n",
       "85GUz6hTCupH3F7ny1acEnPdb9hYUkL9GG/kTTOa8W1yTkHdeLkR+mD+f/8b8x/8GA0VrBlwlgAA\n",
       "AABJRU5ErkJggg==\n",
       "\" style=\"display:inline;vertical-align:middle;\" /></a><br>"
      ],
      "text/plain": [
       "in_real_pos_iff_positive: forall_{a in Real} ((a in RealPos) <=> (a > 0))"
      ]
     },
     "execution_count": 14,
     "metadata": {},
     "output_type": "execute_result"
    }
   ],
   "source": [
    "in_real_pos_iff_positive = Forall(a, Iff(InSet(a, RealPos), greater(a, zero)), domain=Real)"
   ]
  },
  {
   "cell_type": "code",
   "execution_count": 15,
   "metadata": {},
   "outputs": [
    {
     "data": {
      "text/html": [
       "<strong id=\"in_real_neg_iff_negative\"><a class=\"ProveItLink\" href=\"proofs/in_real_neg_iff_negative/thm_proof.ipynb\">in_real_neg_iff_negative</a> (conjecture without proof):<br></strong> <a class=\"ProveItLink\" href=\"../__pv_it/theorems/8e53e0f8d84ab0c132a1578c0b67215fe011057d0/theorem_expr.ipynb\"><img src=\"data:image/png;base64,iVBORw0KGgoAAAANSUhEUgAAAPwAAAAaBAMAAABhmCzLAAAAMFBMVEX///8QEBCIiIhmZma6urrM\n",
       "zMxUVFQiIiJERETc3Nzu7u6qqqp2dnaYmJgyMjIAAAAcRTyBAAAAAXRSTlMAQObYZgAAA9lJREFU\n",
       "SMfFVlloE1EUvU0zWSaZWKHihpK6FD+DC7gvCAqCNP5oBSGhLiiIWLXWnSCoaUUJFmr/OiXQSlEz\n",
       "2A8pCB1aP6SitCgupWIU+qFCFVzQVMT75s17mUwnMzY/3o+TWW7eeffc5Q2ArQkbGdiaC0qxsKPH\n",
       "Tg625o6XQr/F0eMjB3t7Ugp9cMjBoTzMwMG8stVTf/H1ewmcAciS3zdFnNplBiaT6pN/3l0zJD9i\n",
       "9fdb1qv2j0bBk8KLhQCP7eQd4GC2kBgXrjWDO4nWjHF+sXL6YLloSBFPg0jCbgdoIyIlitDP5WA2\n",
       "n1+FRGv+/qyFj2SWJDBGcBjgKUpAUqZACKUNKtbs/hyD/JJXGi8w+lWh/POV7AKjEvQ+8KZM2zmu\n",
       "PbgM0CdDB6mqBEiD3d03iwQvVTDgc+CinI9+lS//oooVAam2S/TatKzrHP3vD4AaDBuHiQuX/plM\n",
       "nitW+FkGLQNV2n/vygbx44bGrdFf1Bq8FhLt1i6dQ9/cPkZ/xa/oHYYgZsaNwu4HaCpC70vo4J4N\n",
       "n7Unhwy5Dxw3VGwsStWZ3ohWT1+QztiUCtGqTJ9nGf2N3mGQSJa+A2ymVcjs/pK973mNxnXoGNKT\n",
       "m8jTz2z8ZGxROpirady1il6O4jySYDQPd/Zj9DEVAkfx8hsWCM2XpsuDZUOuIAyyOeON6LBBBk06\n",
       "Yf44GqV/GGk20Gc0+i42fE8RqMTM5cCrrdbJ6XXxBRRF/EZGn5e9edXbDUg/wrYTiugwC8TvUNCh\n",
       "KP7y2knR+w/Tu05Vpy9LQIampYWJT0qvT9HoSfT+LDlS0tVj4CZshF5lHHEK4m8I0AxWGOh9dwzT\n",
       "OEabTLpA5BlvYLMgo0IfFJYeJAHeyuBG8YVfeNu0D2VoEHKgtTHSL2PjwpOgIE6AJ6tN6aUGeiG+\n",
       "YnLlP9MqP8VKL6PAkUCqsPHo2CGlRyofenAf5RHhKKQ1p/IDJ3inVuhwEV7GNUm8Sn7owmNPlNMP\n",
       "sx2TJKzhI9sXlk4GTWPHq4gzkFHVR8o01LBMccVhF87vsCt44zk/xnM6dC7YXaclVzy4jR85Ud/1\n",
       "iUlTj3QRq5CteFu3uHWRaeiK/dW47VAUaFNIqEkm5RuRPVT8wB5+xFVy4Dt6RIeu2XizYoCibD10\n",
       "C6yLSMiKpywV2w7BKM39ICs9WMvBwcTcvxw5Bacu6VYWp7vu3jqAq2TsPFXT65nPDg4OJll+bTXZ\n",
       "7JeMuhemQwFzX/DAozBw+tqJTuFzQ+sckpgGJ02zDBxsFKb4sfWaSKY6LdvDwdaKfq/YWpujR2Aj\n",
       "A/tPUrkU+tXwv+0vRaMHh9aeR5sAAAAASUVORK5CYII=\n",
       "\" style=\"display:inline;vertical-align:middle;\" /></a><br>"
      ],
      "text/plain": [
       "in_real_neg_iff_negative: forall_{a in Real} ((a in RealNeg) <=> (a < 0))"
      ]
     },
     "execution_count": 15,
     "metadata": {},
     "output_type": "execute_result"
    }
   ],
   "source": [
    "in_real_neg_iff_negative = Forall(a, Iff(InSet(a, RealNeg), Less(a, zero)), domain=Real)"
   ]
  },
  {
   "cell_type": "code",
   "execution_count": 16,
   "metadata": {},
   "outputs": [
    {
     "data": {
      "text/html": [
       "<strong id=\"neg_is_real_neg_if_pos_is_real_pos\"><a class=\"ProveItLink\" href=\"proofs/neg_is_real_neg_if_pos_is_real_pos/thm_proof.ipynb\">neg_is_real_neg_if_pos_is_real_pos</a> (conjecture without proof):<br></strong> <a class=\"ProveItLink\" href=\"../__pv_it/theorems/297625102ef03fccc26866e22305cd8119f5abf70/theorem_expr.ipynb\"><img src=\"data:image/png;base64,iVBORw0KGgoAAAANSUhEUgAAALMAAAAaBAMAAAAOKXDmAAAAMFBMVEX///8QEBCIiIhmZma6urrM\n",
       "zMxUVFQiIiJERETc3Nzu7u6qqqp2dnaYmJgyMjIAAAAcRTyBAAAAAXRSTlMAQObYZgAAArtJREFU\n",
       "SMdjYCAChDCQCpiIVMeaQLLRLERq4VtAstEMZ4lTZgQi5qKKcU/Ar4cd6JwHIMZdfKo4fwEJrgY0\n",
       "0UxULm9hx7+HvUiBbcDAcBrEeIXPaB4DUKCgu3IdeqhxJbD2djGwdABBF9A9HxgYZoDc1YDPaMYN\n",
       "QOIyhoUKqHwOzgMMDdMQ/GpIHPFswGf0fFAsVqKLcglAQ6K9vA5mtCUfQt4CKHVq1arpeGPkIshf\n",
       "BRjCTyAJs2kBwtWWHAhpRSD+0dFRgyWAEUw7aKzAweTDikDzDkOCfAFSgCS4IRT5AyVSGRg6MY1m\n",
       "RjA7QBovIGUHSYb3QOoeakIBGs1djJQc4gMYGJwZuB7gNfoZKJkixcbCC6CAZNgO5jQgjBYvf40c\n",
       "Qw5AXQxMSE5i2K6R/AjV6GJQKgEqXPcOBJ4y2C9gKAI5CxzUciAxiNFHDLqQzFkP1MFzgR0e63uM\n",
       "LzDxMJxS4DE2N7aGiT6GGg0DEgxcX2FGcyK5+oBJBJqrOR+Ewbg3dq5iABp96wKKq9tQA4TrDwM3\n",
       "MD8wuIN5AkhGc6xFSuvxoDzWmQIkFqs9ZWABJQOQ0QdQjM5AjUau3wxsD3bCotEIyWjWBFPUFMKw\n",
       "GZhmuUpZfzGAEzzQaGMDFKMVYZkdCpoYricALbeBFEMbEBmd4TRbAEpuYOAHeoPZgLWAYTHYaOa0\n",
       "EtRoBNnPgpRllilFJgED8inEDxle8OIpgKPvN3JuBIouAJUTTAkM4cCSRYGJZ9IVUNQjlSEOWDM6\n",
       "1DKWE5CMjg4ewZPKBI5bC9ggAcIdg1r0Mx8gpnhCt/kX3GUT4n0ZeAIgYX3qAGr9BUoFHIQKVTTA\n",
       "C6/BWJI22TIwdIOyzLkDi+1QlWVjqwo6CdQyAWj1MDCssShbh6UC4yVQgd0hrm7kNiC51sVfuSCB\n",
       "LSQbzUxGI4AEAAA/9al9fL/fKwAAAABJRU5ErkJggg==\n",
       "\" style=\"display:inline;vertical-align:middle;\" /></a><br>"
      ],
      "text/plain": [
       "neg_is_real_neg_if_pos_is_real_pos: forall_{a in RealPos} ((-a) in RealNeg)"
      ]
     },
     "execution_count": 16,
     "metadata": {},
     "output_type": "execute_result"
    }
   ],
   "source": [
    "neg_is_real_neg_if_pos_is_real_pos = Forall(\n",
    "    a,\n",
    "    InSet(Neg(a), RealNeg),\n",
    "    domain=RealPos)"
   ]
  },
  {
   "cell_type": "code",
   "execution_count": 17,
   "metadata": {},
   "outputs": [
    {
     "data": {
      "text/html": [
       "<strong id=\"in_real_non_neg_iff_non_negative\"><a class=\"ProveItLink\" href=\"proofs/in_real_non_neg_iff_non_negative/thm_proof.ipynb\">in_real_non_neg_iff_non_negative</a> (conjecture without proof):<br></strong> <a class=\"ProveItLink\" href=\"../__pv_it/theorems/95378751a949266ab8c25100550b59edc20fe0270/theorem_expr.ipynb\"><img src=\"data:image/png;base64,iVBORw0KGgoAAAANSUhEUgAAAQUAAAAcBAMAAACaFrdFAAAAMFBMVEX///8QEBCIiIhmZma6urrM\n",
       "zMxUVFQiIiJERETc3Nzu7u6qqqp2dnaYmJgyMjIAAAAcRTyBAAAAAXRSTlMAQObYZgAABG1JREFU\n",
       "SMfNV2toFFcUPtnd2dmZfWQFxdairK1Gf8kSlZrU2oigIKgrFI0g7BKrGCriK01tSwhB6xpRFoXo\n",
       "v4wEjATNDipKQMwSBSU+WGmpViyNLS2ooIIPfCE95965M7PjbHZdLO2BO3N35uTOd875zndvAN6H\n",
       "eYZy8J+Zr5ndbsPpf+8bUgNevhzF4cBaum6Dag1iFWWwtMsKwpEazePATgD1KVTpsLCiRKZKutzD\n",
       "EdFGdTm2A6QXIOchlK8ExNVSDl7Kb20Jp2P3pJcgo+d3bm+V4sgG6CJjhCM0+a2IVzc6KC9dXoQ3\n",
       "p9/c2cvnM/KYhyrE8InbEkfdVx66nQB/hggRB7gsUu5m53GE4m5vImpK2tuJE3W6TnyoRvJ2uzne\n",
       "taa99daf6+p2UCl+5RHAIbq3F8HwEQ5km4sFlBy0dyGESw2iL0B28QzbIzjXLGbXAa5hMmj6PWdc\n",
       "SHeHwMrQXUDJ8K7WNoGhLgLqHIKAVSB98IpQRqxmkjP2v1661pj8CDCowWGazsFFh/v6DhZJQzjK\n",
       "Idv0okOz8lAXACnBu/wKheuJGj1PNNzJ546lG3fw+zOAZTpEKIDJOJ6n0z8Uawsq2DymAucns4/3\n",
       "a7ZapByK4DPY22jzJJ4qc2snCJ+u+3RVHyOGGKfaMnTE9OwugiFAyU3T6h/CQ/ak2caH4FYHlaWn\n",
       "/DamFW0zf0m9Mz8TeWRp2nZC9RogGYMwxZjEVC7g/BR2ZvqaP0z2UlH/xnE4T2VDa7cwjG/FkIJp\n",
       "tE5BnyfsVsMz0KgbjFMnWkwBuEGxK5iHZA6Cm4hvWBCZ14+l6OzMvCcEw0L5ZfLfiuMLDbawECc9\n",
       "QOMYLsQ7HWlTGYZeob7f0mUsVpQrGLdpw7ZaSJSeLGII5WXhcHOgDxDDLYEpQhj+xPEBSUBBE2Mt\n",
       "ZjU624hhUDbwX0dyBoaqdsgmDJQXYyYnB3WOgfKgjNDG1FPzF/gYuRGDOAwEUryN1NcQ5BWN2jAE\n",
       "jjt2SpRL1k1tlKwHLWDUIpuDQQPkpyI6JNnvGvioFknq3t1f4VdaUPMjwDHMFLrip7DX49tX4B9h\n",
       "6l5rwyClZrv3xU+sLzKCk1kdNgbpl7JRL9QoxknqCziJaLxxaRP0MAzeddvMzT1q9G8H3Eix5JhS\n",
       "iFoNl/2Jt+WEoFPbf2aqfSAW/ibEto4G01XW1XH41ZzQn+oYCbInBSuR4zFPaP/PBYERziMfr2pi\n",
       "C6jrF5t7ViKw71WhnBhsoT4TzFmEP5umdk1x0neoBvFHElwncT38SDYTuKX5eS2Cq011Hkv7RUNB\n",
       "vi9xrXbdxwQ/MPGq5qbVDuuli6kEVZnkEgglOB+GzQPqXDASVpZltRJ71lsbOGXEPBr4mk58DrCH\n",
       "NOparmeeeLyc2B4tF8Mvbg9tGtxP+tnaYhWEKBl2HOY8yIeCB36i4NflYmh5hzMM6y2qk5wosSpD\n",
       "2l8mhHDuHc9yv/J/C0rZSRzBeHkYDlVypC16fLIsSE1xqrzl6ivB4NXgf2H/AEw2IqfG4ZlyAAAA\n",
       "AElFTkSuQmCC\n",
       "\" style=\"display:inline;vertical-align:middle;\" /></a><br>"
      ],
      "text/plain": [
       "in_real_non_neg_iff_non_negative: forall_{a in Real} ((a in RealNonNeg) <=> (a >= 0))"
      ]
     },
     "execution_count": 17,
     "metadata": {},
     "output_type": "execute_result"
    }
   ],
   "source": [
    "in_real_non_neg_iff_non_negative = Forall(\n",
    "    a,\n",
    "    Iff(InSet(a, RealNonNeg), greater_eq(a, zero)),\n",
    "    domain=Real)"
   ]
  },
  {
   "cell_type": "code",
   "execution_count": 18,
   "metadata": {},
   "outputs": [
    {
     "data": {
      "text/html": [
       "<strong id=\"in_real_non_neg_if_greater_eq_zero\"><a class=\"ProveItLink\" href=\"proofs/in_real_non_neg_if_greater_eq_zero/thm_proof.ipynb\">in_real_non_neg_if_greater_eq_zero</a> (conjecture without proof):<br></strong> <a class=\"ProveItLink\" href=\"../__pv_it/theorems/812381d0d79fa516b4a0e8be302221cb8382b55c0/theorem_expr.ipynb\"><img src=\"data:image/png;base64,iVBORw0KGgoAAAANSUhEUgAAAMEAAAAcBAMAAAAqzMZeAAAAMFBMVEX///8QEBCIiIhmZma6urrM\n",
       "zMxUVFQiIiJERETc3Nzu7u6qqqp2dnaYmJgyMjIAAAAcRTyBAAAAAXRSTlMAQObYZgAAAutJREFU\n",
       "SMe9lU1oE0EUx//dzTabzTbxJirCSrUUBQmNQgpaKkJPiiuI7UFoqB8oQqm0mkM95FA1rVSChdqb\n",
       "CwWFUG1QUQTBIB6kVVnBg5QKsaKHCtKDgq0gvtlNk9k0rptKfbDJfP9m5r33H2CtTHiWW6ulfWes\n",
       "v1k8/Kdljrj0jZxkv30IG8LqAVLcrXfkEqB8R03WF181IWS4dk8MQFqE38SrVROa/tI/MS8twa/B\n",
       "TzvJs4b3VQICSxUa686lfn0Ytss7TTpDjQYhAkyzhvkqCWqk4tUpcWl4iApKY5b5IdyKwAIwxraU\n",
       "rJJQk63UKgdySI4S4EVrIZaAfttnarZKwk2Ho98lEvllQnMISowBUG/lQ4xubyqTuVGto9/wlY7t\n",
       "3BmaZUi6ndMv2VVuoe9HKnWxWkILu9o9TRtZWZnnbyne5hx5iE5LCThYMfldhCZF3750aIGVa9Mc\n",
       "IdhbFjSddKD9UPJc06PG43P2eBeh+Uxb3wwx6RwnB9YnvgDBFNnQssfIJ34IZqGqPImagoopzTmT\n",
       "E5pCQy8gWhlFdvgrWcHTzyNDZQefJIJq+otB8TgDIsyYZYSS0BTqHylgk5i0XDrGR+uujvKoI0Ig\n",
       "f5RK4w2f4GPOZ4RciaA0deu80Nh2mTaXw1M7N3iCfEcr8wPz0uAJWug86UgINiEaKRFu650GLzS2\n",
       "nSZCFt1BNl3UOIIU370ylnC/h4ZFpB6MWwTxVB/n6SjaHUJjG0W5rNVdUK1KP6camK7VV2ZOWGMy\n",
       "IMTRTjGgCer1txxhExocQlPcmdK1bXSrVbk1YBSVT5ev/XQQYlYPDZhMyzNGrX1LwWNGkaAsYjjj\n",
       "EBr77lv5VQ5cSeT/lJtzRSlLdx6Eqtt+mOI8vUH6ZjqExjLR6yOvFGXe13VvL3CVZdzr3HhLidC2\n",
       "o950CI39iK7zSKgre0YF8kMp9txmnvVI8Osuna6Eux4Js/BEcAhNoSni7bV1fdpE17kPPBFEA//B\n",
       "fgPas8XDza+mNgAAAABJRU5ErkJggg==\n",
       "\" style=\"display:inline;vertical-align:middle;\" /></a><br>"
      ],
      "text/plain": [
       "in_real_non_neg_if_greater_eq_zero: forall_{a in Real | a >= 0} (a in RealNonNeg)"
      ]
     },
     "execution_count": 18,
     "metadata": {},
     "output_type": "execute_result"
    }
   ],
   "source": [
    "in_real_non_neg_if_greater_eq_zero = Forall(\n",
    "    a,\n",
    "    InSet(a, RealNonNeg),\n",
    "    domain=Real,\n",
    "    conditions=[greater_eq(a, zero)])"
   ]
  },
  {
   "cell_type": "markdown",
   "metadata": {},
   "source": [
    "***Non-Zero Theorems***"
   ]
  },
  {
   "cell_type": "code",
   "execution_count": 19,
   "metadata": {},
   "outputs": [
    {
     "data": {
      "text/html": [
       "<strong id=\"positive_implies_not_zero\"><a class=\"ProveItLink\" href=\"proofs/positive_implies_not_zero/thm_proof.ipynb\">positive_implies_not_zero</a> (conjecture without proof):<br></strong> <a class=\"ProveItLink\" href=\"../__pv_it/theorems/07b678e481d316e963878d3fb57f641995565f900/theorem_expr.ipynb\"><img src=\"data:image/png;base64,iVBORw0KGgoAAAANSUhEUgAAAKUAAAAWCAMAAACWq6wzAAAAOVBMVEX///8kJCQNDQ0oKCgQEBCI\n",
       "iIhmZma6urrMzMxUVFQiIiJERETc3Nzu7u6qqqp2dnaYmJgyMjIAAAD9T1yxAAAAAXRSTlMAQObY\n",
       "ZgAAAn1JREFUSMe9V9t24yAM9O4amZu4/f/HFgmwwSF2263LQ07jWGiYGUl0WX5v2XD9u8fJQ2fp\n",
       "M+7fQ3gWJJqbQ8QBsghe0h+KYHrXnkd8FmW017+rrX85w0JNEUjgbTuhNc+CDHBDZZ8/rMxnLKx2\n",
       "FB6kPrP0HZWy+2IUezIRNiTEwSMtqx8uHf0FKpfEKLfEzEWyQjK0tH8WpdgFt+BBrOciMD2VmKCg\n",
       "FKwy7FQb++mE2z0kL86HNq2DbGvOFNNey5HXv7/02U5iE4fLgjKQPTdolTRbTgujIIo+4UywnoqQ\n",
       "czh1smW1Pa4EF8wVlRklFJS+QOAN6PQvzRKdB8hPxeKp4YprlKg6MTQbadR0rQoAP9diDJfjmUbF\n",
       "JRPvQ0E6Ng7jLNKGjDJguEZJ9le25SBiVjdFuZr9jZ7Kk99SrXF3oMxNv50FQagomw2KxwpKP0e5\n",
       "B9BuBrDsSjl1mCmOLKJLy+DLP2tx586o4Ryh6LHpepLa91HLnAOHwckoAWCK8ggolcH+lTNRa/Ug\n",
       "06Ninc/vxlLf1Uv15KNBFZywSM0UdShBKb3Nq2cPOLa3lct1ROnrjiY/DlotfQ/YXscSUY9rEQnq\n",
       "u6nuSF4SRLvU3ERpy8ylFeENyj2gdQQis7gujQ2rypbLTAhplRiG9usNAr0QbRo1RwWscliShopG\n",
       "DYo72d+qTFeLe0ARvLw2q/GLCemuJzyeK5vl2shBXg6+9G+q5wg4iqfMmXO/vLht3FzGvDhPFSWc\n",
       "AE5qXOvqPvrsU4gzlEeAVcp2s8e/Yno33dz1bH47b0qm6svXNeuX0sjv3oJvqPzC6L5F+R//UVxf\n",
       "C8I3QS4PX5d/aMGvZ/wAEdsbHdGVAAgAAAAASUVORK5CYII=\n",
       "\" style=\"display:inline;vertical-align:middle;\" /></a><br>"
      ],
      "text/plain": [
       "positive_implies_not_zero: forall_{a in Real | a > 0} (a != 0)"
      ]
     },
     "execution_count": 19,
     "metadata": {},
     "output_type": "execute_result"
    }
   ],
   "source": [
    "positive_implies_not_zero = Forall(\n",
    "    a,\n",
    "    NotEquals(a, zero),\n",
    "    domain=Real,\n",
    "    conditions=[greater(a, zero)])"
   ]
  },
  {
   "cell_type": "code",
   "execution_count": 20,
   "metadata": {},
   "outputs": [
    {
     "data": {
      "text/html": [
       "<strong id=\"negative_implies_not_zero\"><a class=\"ProveItLink\" href=\"proofs/negative_implies_not_zero/thm_proof.ipynb\">negative_implies_not_zero</a> (conjecture without proof):<br></strong> <a class=\"ProveItLink\" href=\"../__pv_it/theorems/23d558a1c43585613fabe7d341acde55e041d18e0/theorem_expr.ipynb\"><img src=\"data:image/png;base64,iVBORw0KGgoAAAANSUhEUgAAAKUAAAAWCAMAAACWq6wzAAAAOVBMVEX///8kJCQNDQ0oKCgQEBCI\n",
       "iIhmZma6urrMzMxUVFQiIiJERETc3Nzu7u6qqqp2dnaYmJgyMjIAAAD9T1yxAAAAAXRSTlMAQObY\n",
       "ZgAAAnxJREFUSMe9V9mW5CAIzUwrccPt/z92BE2iWav7TNqHOhUryOVyAWuafm+5eP97wJNN7+gz\n",
       "rc8xvgsS7UMQaYAsY1D0RRPM4Jf9hO+iTO7+dz33LxdYaMgCCbxbInT2XZARHqjs/UfBfKbKakfh\n",
       "Ruo7yzxRqboHq1mTmbAhIY4BaTnzcumYb1A5ZUY5Z2YukRSypWXCuyjlmnAHAaTYF4HtqcQMFaXk\n",
       "LMNKtXUfO5yfIQW5D9ouHWQWxVPKay0nXl9/6XOJxGU2VxVlJHnOsFTS2fJGWg1J9g5vQ0ASUbHT\n",
       "O1k22aMguGDvqCwooaIMFQIfQNEfmiX6AFB25RSo4cqPUCqWvWEhjTkVLQPA+0bu7MaYxowrJj7E\n",
       "inRsHNY7pAMZZcT4AUqnWTeYiRjhT1EKu77RU7nTW2417jeUpekvsSBIndQig6qxijKco1wN6GtL\n",
       "m8rk08SzjCMn0edp0OUfUdW5MmrZR6z5mE2LpPV9NKr4wGFwMkoAOEW5GWBIS1Wps6S26kGmR6c2\n",
       "n6/GUt/Va/WU0KAlnLAow7x0KEFrM59Xz2qgxEZd5VKMKEM70ZbtaPTU94D5OJaIehQ1N9Deze1E\n",
       "0pIk2pXhJkpHFi6djBcoV4Npo7KpLo8Nq6VtQi2lcloOQ/t4g8Ag5TKNmqKK7NrxjlJDRaOHjHvV\n",
       "36psV4urwSbL8xq/mZD+fsLjvrJLw1V5ptwFNegyXFTPZrCVeJ0z+355c9t4uIwFuW/JWnoJ7NT6\n",
       "pauHFApRkM5QdgZ1GPNtsMyecMR0Nd38/Wy+nDeVkKbL47qbPep60l7dgh+o/Mbo/hjlD/5R3F8L\n",
       "4g9BTi9fl//Tgl/3+A/2zBsgdoI1tgAAAABJRU5ErkJggg==\n",
       "\" style=\"display:inline;vertical-align:middle;\" /></a><br>"
      ],
      "text/plain": [
       "negative_implies_not_zero: forall_{a in Real | a < 0} (a != 0)"
      ]
     },
     "execution_count": 20,
     "metadata": {},
     "output_type": "execute_result"
    }
   ],
   "source": [
    "negative_implies_not_zero = Forall(\n",
    "    a, NotEquals(a, zero),\n",
    "    domain=Real,\n",
    "    conditions=[Less(a, zero)])"
   ]
  },
  {
   "cell_type": "markdown",
   "metadata": {},
   "source": [
    "***Elements of Real Intervals are Real Numbers***"
   ]
  },
  {
   "cell_type": "code",
   "execution_count": 21,
   "metadata": {},
   "outputs": [
    {
     "data": {
      "text/html": [
       "<strong id=\"all_in_interval_oo__is__real\"><a class=\"ProveItLink\" href=\"proofs/all_in_interval_oo__is__real/thm_proof.ipynb\">all_in_interval_oo__is__real</a> (conjecture without proof):<br></strong> <a class=\"ProveItLink\" href=\"../__pv_it/theorems/ec622c3f004645ca258728d55ec9a0bcf09eab210/theorem_expr.ipynb\"><img src=\"data:image/png;base64,iVBORw0KGgoAAAANSUhEUgAAAOIAAAAZBAMAAADea+8+AAAAMFBMVEX///8QEBCIiIhmZma6urrM\n",
       "zMxUVFQiIiJERETc3Nzu7u6qqqp2dnaYmJgyMjIAAAAcRTyBAAAAAXRSTlMAQObYZgAAA5dJREFU\n",
       "SMfVll9IFEEcx3/u7d7f3bOHHgwhRMGkjA6FogdFkCwi6+pBfQiUyv5RIWFdqMjhi6sibhEmYbEp\n",
       "aF1gRz2IUHAoQWjJEUEmFUfgQwUm0kP61G9mdm/n7Lq9wJd+sDc7czvzmfn+fvObAbC3cyENNsnE\n",
       "UEc2n7XAJtrgf0/0xDP8OcWICVJ8siH6SaHE7YkP0zW+zxtYzsPOTo0S50jbNxuiHMXCr9sTv6Zt\n",
       "TYxBw4IO3gQlDhEtwjZE+sGQPVAJpG0OD4Pb0wQwTYlk5nQJGf1IRJizJ7pStpHSHeo0iQ4NF/iA\n",
       "EpXZSOSObeR8jEQeZRFAKQNJXbq1RoeGMvmraKz+UtUOW2KuqnbHUhq51UjJtyJ8RopvlxaQyoTO\n",
       "qeoUUVU5QInNAD3JlLD8F6IzCO4UxWTz5WgCfFVmpR/AG1OuuugGuMD7cbIS+UqCEqtZDDGbMcrJ\n",
       "ktNfeKIYgImUWSSHI/Peb1basa7L6yKdnBWO4ZuhThIqvhZKdIFgbbTv+Hifl8cFGWYL+AzQArvN\n",
       "6uOZCpCSEvtxqDGzshV7g5uhpO3LaMYaq91EYmmFEuW4y5r6Gj4LUxFA4mKcJ75JZh6l765OVDYs\n",
       "F9fj1ywitrCpclsuPOw4ELaInkQdVkaLl0jTarEukj1FiDGeeF8ini860YxeINsAF1N2hWAbCy9a\n",
       "IrWTn0ZjNlt4P/a+JWHCVIWeM9j9mrROQG1CgGY0JJYHeKJ7EMNjpzPRytIiboPxYCNRaodeBL4m\n",
       "K3J8+h4QaJSW8cQ6RzAZOfAMR3QEJDpugZIYpUTH2daUTO7bhz9Bfxy8dCKHAMqhnrx1wWcQw1bg\n",
       "HYsOwD2WDqJclpOjuCccMUYkuudEBTLPnCpHU72qqgWCfOtd6tmxajhNuqGqXVADkA/FzHV7QTKD\n",
       "/SBGUeFIBRPZe/5wMpMvgfojCv4gIyqowRPNvYhFrp4TdTJVfSf1FOIidREEgSrYAN416I/g2zqi\n",
       "xaa0WU58ZWQ508a58zFHa6yFId2lL4AcZH6cjW08Hz0r8xCDl0bfbdLPuKcX2pQwKLHMmdy0aY4o\n",
       "nnpaAcej0iXs20cywHxstHIj0Xv5SKkObuIelw41u4riUj7UvUb/JJNOTyagcVrxxlwtoB8z3QFK\n",
       "0I+CERU+lgUyn8imubWNRJ+W/a0jzF0k4EV2t44Pf9xzlH+459SyggK8gc2+WYXS3Fd5PQQ9a54Y\n",
       "uv4bPLz/65svNJIAAAAASUVORK5CYII=\n",
       "\" style=\"display:inline;vertical-align:middle;\" /></a><br>"
      ],
      "text/plain": [
       "all_in_interval_oo__is__real: forall_{a, b in Real} [forall_{x in (a,b)} (x in Real)]"
      ]
     },
     "execution_count": 21,
     "metadata": {},
     "output_type": "execute_result"
    }
   ],
   "source": [
    "all_in_interval_oo__is__real = Forall(\n",
    "    (a, b),\n",
    "    Forall(x,\n",
    "           InSet(x, Real),\n",
    "           domain=IntervalOO(a, b)),\n",
    "    domain=Real)"
   ]
  },
  {
   "cell_type": "code",
   "execution_count": 22,
   "metadata": {},
   "outputs": [
    {
     "data": {
      "text/html": [
       "<strong id=\"all_in_interval_co__is__real\"><a class=\"ProveItLink\" href=\"proofs/all_in_interval_co__is__real/thm_proof.ipynb\">all_in_interval_co__is__real</a> (conjecture without proof):<br></strong> <a class=\"ProveItLink\" href=\"../__pv_it/theorems/f0396f1c4b27b0a84cafee5ba04bc857283c2fdd0/theorem_expr.ipynb\"><img src=\"data:image/png;base64,iVBORw0KGgoAAAANSUhEUgAAAOAAAAAZBAMAAADanj8DAAAAMFBMVEX///8QEBCIiIhmZma6urrM\n",
       "zMxUVFQiIiJERETc3Nzu7u6qqqp2dnaYmJgyMjIAAAAcRTyBAAAAAXRSTlMAQObYZgAAA1lJREFU\n",
       "SMfVlk1oE0EUgF/2J7+7iQcPlYKEBqLUS2hR8GAJFhUFJV5aD0JD/a1I6UGNtKWEXkwrxdWD9lBw\n",
       "pdBKEQ16KBWFEC8SRYMUWgvKIvSgYi1FwdaLb2ay2UmaJlvoxQfDzs/b/fb9zJsBqC0XEhpsjUiJ\n",
       "fjtqPbB1cvc/B3ryVRZnGNAgj081gDaUqDysNDlXd2upDv/EqVHgGzL3rQbQhhKVrxVnjQk4Na+D\n",
       "16DAUeKJZA2gDSUiaqTidHIM3J44QJYC/TqAkq4BtKFExFWyfdQbiQETKGpo3gMKVHNTU/dqJY0N\n",
       "JSIlKvKgblkoaugff5Rm6Z9Uqr9mlpYrXedskYu9EDZvQ9dB4jt4rHMudUroUiVCgecAhoqVYGkD\n",
       "IK9EJG52Thjgi5qDEWyPYC5IPdnFx3C6BfGqQYGtLH2YvCo8p3ef+cIDS5R4IPnr/eagD1sO3utH\n",
       "KcYC3k4MkATw9VCgCwRru34nTnnRnBcUyAU5IKdEli2gH780YQ62Y9MhxRy9cwmlYGGrm/hXXqZA\n",
       "Je+y/nwV2/zMFCBwIc8BOSWybAEDGEy/xgEBVljR4SwcEw8lLaDHaMPBeHiRTK2EdYlsJgLMcECm\n",
       "lN0bjtFlBHqbumPY6Wi4ZBnfR037zQbb+BgOfyAZwlwKQ2fRT1flNcLpFSJ+YMDmCF9LiZKgd7ui\n",
       "/kIMJ2MdxE279BD44lzSPBeWoZEMmnhgmxgrJg08ww+KEZl81h1UjXEKFM9fKSneREmGH+iKArAZ\n",
       "2klnED6DlLRSTvrrXmYl3JXmSpuSxjwXMwwYwOxwpAXym46oGG9PpVJBQbkzWwIMBAshpssIrIcw\n",
       "C9s+kM0EPoKu6mwMsSrvvXisWLwXIfUzDf4YA6romieaewEfAd2RdjKX+k7rPFBlaSaDk1noXYUR\n",
       "TB5YQ7IUr1japNeF0mbKJHceOrSO4zCqu/R5UGIshrlM+Xl4XzEUtowW7pB/5T3D0KsmQc1UL96m\n",
       "ZDmg1Pn0AJxMy5fx3Ztk47/LjLeUAydmszm2jMDDe0J5uR7a3mJsiqVmqBqvcDzxwsIskCBtfOIL\n",
       "LIZUfGzzVz+ATXFr5UCfZvuKEeduDfDS3hXj47o7jQqbBdLveyNbfYlKrL+XDnAzgr6Je+m1f1O2\n",
       "A19FnFzbAAAAAElFTkSuQmCC\n",
       "\" style=\"display:inline;vertical-align:middle;\" /></a><br>"
      ],
      "text/plain": [
       "all_in_interval_co__is__real: forall_{a, b in Real} [forall_{x in [a,b)} (x in Real)]"
      ]
     },
     "execution_count": 22,
     "metadata": {},
     "output_type": "execute_result"
    }
   ],
   "source": [
    "all_in_interval_co__is__real = Forall(\n",
    "    (a, b),\n",
    "    Forall(x,\n",
    "           InSet(x, Real),\n",
    "           domain=IntervalCO(a, b)),\n",
    "    domain=Real)"
   ]
  },
  {
   "cell_type": "code",
   "execution_count": 23,
   "metadata": {},
   "outputs": [
    {
     "data": {
      "text/html": [
       "<strong id=\"all_in_interval_oc__is__real\"><a class=\"ProveItLink\" href=\"proofs/all_in_interval_oc__is__real/thm_proof.ipynb\">all_in_interval_oc__is__real</a> (conjecture without proof):<br></strong> <a class=\"ProveItLink\" href=\"../__pv_it/theorems/31af9861e10ad4806b6f61ead547a5e6433dd5cf0/theorem_expr.ipynb\"><img src=\"data:image/png;base64,iVBORw0KGgoAAAANSUhEUgAAAOAAAAAZBAMAAADanj8DAAAAMFBMVEX///8QEBCIiIhmZma6urrM\n",
       "zMxUVFQiIiJERETc3Nzu7u6qqqp2dnaYmJgyMjIAAAAcRTyBAAAAAXRSTlMAQObYZgAAA1lJREFU\n",
       "SMfVlk9IFHEUx9/O7LizuzO7HToYQiwubKGXRalbIklFQbFdtIOg2F8jxEO1YCKLl1ZDmjqUB6EJ\n",
       "QUWihjqI0WHZLrFFLSFoQrIEHiraRArSLr3f7zc78xtdd+fgpQfDzPzem/nMfN/7vd8PoLpdTmqw\n",
       "O+ZNDroJ64fdswf/OdCfr+CcZ8ACOX2uAnQRRG2m3OBi7d1iLX5JjUaBb8nYtypAF0HUvpYdLUzB\n",
       "uSUdAgUKHCdKpKoAXQQRU+Nlh1MTIPu7AbIUGNIBFKMK0EUQMZ9j+qi3k0MloKjh7z2mQDU3O/uw\n",
       "WtG4CCLmCJGGdfsPRQ31CbXSKv2TTg9WrdJtQX7ueqWkZBSPQH3vUaIdPNU5SWu8KKkSp8CLACNW\n",
       "JyjuAOSDqGVKF2dQq1J2x/B4AosRqmQvn8O5FsSrBQpsY+XD7LV5njt4/gsPdASBWeLUyGeXgLfw\n",
       "yMEH/STF2MB7ySFSAMF+CvSBYE/X70SUV815QYFchANyQcQNndYTIcN+9148dEizFO4vopl/2CYT\n",
       "faU1ClTyPvvLN/BYmp8FBC7nOSAXRNxEYtPCmhMIsM6SzP3hhHgsZQP9hXa8mYytkqH1mO4lJUCA\n",
       "GQ7IgrKHYgnqJkOBpr4EXnXVX3VICtJvdrOHz+HoR1IhTFIYuYBP35A2CWdAiIeAAZvjfC8lQYLe\n",
       "52ulbj8OTSe6iE4H9KijaF4Ka9BAbpp4YLuYsIoGXuDTYlwir5UjamGSAsVL1x3NmwRJ8AOloNWM\n",
       "iGboIJfDsGIBseS8f+U11sJ9BtfaFAOTIGYYMIzV4TEEnCjgaRW7O9LpdERQ7i84gOGImWLqJrOq\n",
       "DmIsb4ct4AmUqqchyrp84Mopq3mvQvqnAaEEA6qozDNNXsZTWPcYNUzSYKfOA1VWZhJQt5SCwAaM\n",
       "YfXAJpJTZVub943Z2ko2za2HHq3rNIzrPn0JlATLYS6zdT18pBQU5g7g0D7pV94/CgNqygLu0LxL\n",
       "luWA3p7nR+CsIV1Dyh0y8d9nJlu2AqcWsjnmhgGA443RvFQH7e+4OT5SiWcuT7yxNAuYpAorPnU3\n",
       "mjdBcDSVmUpAWdsKDGqutxgyv22wgRW3GJ+27WlU93sar/nmvBO4S5uoZJl96Xy55cnFvvTmP5QC\n",
       "BME3VM8yAAAAAElFTkSuQmCC\n",
       "\" style=\"display:inline;vertical-align:middle;\" /></a><br>"
      ],
      "text/plain": [
       "all_in_interval_oc__is__real: forall_{a, b in Real} [forall_{x in (a,b]} (x in Real)]"
      ]
     },
     "execution_count": 23,
     "metadata": {},
     "output_type": "execute_result"
    }
   ],
   "source": [
    "all_in_interval_oc__is__real = Forall(\n",
    "    (a, b),\n",
    "    Forall(x,\n",
    "           InSet(x, Real),\n",
    "           domain=IntervalOC(a, b)),\n",
    "    domain=Real)"
   ]
  },
  {
   "cell_type": "code",
   "execution_count": 24,
   "metadata": {},
   "outputs": [
    {
     "data": {
      "text/html": [
       "<strong id=\"all_in_interval_cc__is__real\"><a class=\"ProveItLink\" href=\"proofs/all_in_interval_cc__is__real/thm_proof.ipynb\">all_in_interval_cc__is__real</a> (conjecture without proof):<br></strong> <a class=\"ProveItLink\" href=\"../__pv_it/theorems/12928ab9c2808f390f4db1d2152907b0702b542d0/theorem_expr.ipynb\"><img src=\"data:image/png;base64,iVBORw0KGgoAAAANSUhEUgAAAN4AAAAZBAMAAACspI2IAAAAMFBMVEX///8QEBCIiIhmZma6urrM\n",
       "zMxUVFQiIiJERETc3Nzu7u6qqqp2dnaYmJgyMjIAAAAcRTyBAAAAAXRSTlMAQObYZgAAA01JREFU\n",
       "SMfVlk1oE0EUx192s8lms5t48FApSGghSr2EFr1ZikVBQYmX1oPQUD8rUnpQo6WU0ItpRVw9aA8V\n",
       "VwotFNFFD6XiIcSLRNHFFloLliD0olhLUbD14puZTXaSpskKvfgg2dl5j/3tvP/bNwNQ2y4kddgW\n",
       "8yYH3IT1wbbZ/f+b97CKb4bx8uTyuQbPRRAxJVVhcr7uzkqdBeDTKe8tmftag+ciiFioYl3lJ+DU\n",
       "ggFKnvJG8T+QqsFzEURstuJsagzkQAIgS3khA0A1a/BcBBG7wd9oN5ODBZ6o4+IeU56Wm5p6UKte\n",
       "XASRDPCFJQ0ZzvpEHZMTaqP1+TudHqhZn+VB1zmllmL2QMCB0tBziCQOnhpcPn1ezKcao7xzAMPF\n",
       "BrCyBY8PIpYoDE5gogrCyliFT2A+QtPYw+s33Yp0LU957axymL22r9N7z3zheSVBPI+8dIHnR4Vz\n",
       "8ME4SikO725ykGgf7KM8PwhW0feNfEWvWixBhVyE43FBxO3wQqbzaA8KZECaybd7Bc1eX7tMkiut\n",
       "Up5q+Z33XsffwswUIG/R4nhcEHE7vLBeygNYY7XDrW9MPJxyeIF8B96MR5fJ1FrU8BL5CS/D8VhQ\n",
       "dn80Tt3IU5p74zjoarhUkk+QfrGbHbx+Ix9JcbB8wvBZTNJVaYNg+oVYCBivJcb3TxIkGL3+tpCt\n",
       "32S8iyRpj9FYUi8vhVVoIjfNPK9DjBfrBV7g88SYRJ4qR7T8OOWJ56+U9GsSJMF3TITNa4FOMhiC\n",
       "pSIPa8f7R14NWMXFFvqZamKBixnGC2NheEwhQRUQE53pdDoiqPfmSnjhiC0vdSOvHqJkZiccKPIw\n",
       "YUp3UyPr68rFY8V+vQzpHyaE4oynYV6e6fIiXsKGx/SxfAZPGzxPYxUmgY+tT1mH21g3sIHgVMV+\n",
       "5n1j97OCTXL7n0fvOg6jht9YADXO9Mtlyve/R2peZW5c3y7ppxUYgX4t5fBmq7apLMfzdj8/CCdN\n",
       "6TJCbpHv/X1mvLWcNzGXzTE38o7sa7Skeuh4x33acrVzjr0f8cYkFohAW+/vAtOPWhBKWolSbcuS\n",
       "9XJeUHd9nkhwZwSudVU7T3zadH7R4F95Vhlve85Lyc3nz8FK+5GL8+e1vxIuBeyZTCizAAAAAElF\n",
       "TkSuQmCC\n",
       "\" style=\"display:inline;vertical-align:middle;\" /></a><br>"
      ],
      "text/plain": [
       "all_in_interval_cc__is__real: forall_{a, b in Real} [forall_{x in [a,b]} (x in Real)]"
      ]
     },
     "execution_count": 24,
     "metadata": {},
     "output_type": "execute_result"
    }
   ],
   "source": [
    "all_in_interval_cc__is__real = Forall(\n",
    "    (a, b),\n",
    "    Forall(x,\n",
    "           InSet(x, Real),\n",
    "           domain=IntervalCC(a, b)),\n",
    "    domain=Real)"
   ]
  },
  {
   "cell_type": "code",
   "execution_count": 25,
   "metadata": {},
   "outputs": [
    {
     "data": {
      "text/html": [
       "<strong id=\"real_non_neg_membership_is_bool\"><a class=\"ProveItLink\" href=\"proofs/real_non_neg_membership_is_bool/thm_proof.ipynb\">real_non_neg_membership_is_bool</a> (conjecture without proof):<br></strong> <a class=\"ProveItLink\" href=\"../__pv_it/theorems/6f9867dfbe9f2a266c6ed4b250a99aab7d9522ed0/theorem_expr.ipynb\"><img src=\"data:image/png;base64,iVBORw0KGgoAAAANSUhEUgAAALUAAAAcBAMAAADVbuO8AAAAMFBMVEX///8QEBCIiIhmZma6urrM\n",
       "zMxUVFQiIiJERETc3Nzu7u6qqqp2dnaYmJgyMjIAAAAcRTyBAAAAAXRSTlMAQObYZgAAArxJREFU\n",
       "SMetlD9oE2EYxl/z93JNahGHQJeqqBA6ZLFkUDktCoKHqWDpICSIHVxEhJqhWm8ImNah52QGoYdC\n",
       "kFJooIOiS4kOEq1GEdqhwllwKbRGUdC4+N19f/Ldl5zJSZ/h6fHrk/c+3u+9F+D/NTgIO6/TuuWx\n",
       "5Z6s558GFWouigylkYcVaIDPJeLGR5m5Fk+h4otp6IeAy9Hd+CYzV8mvFMjocAtgxSXRnvsHqP2r\n",
       "+FsjY8B11BmjfcDipvXwiadzBjVRq/HZ7XgN93PLOvce9JB0Zg7HZz/fUDB/3dKAF8xaZJZgbM16\n",
       "68O7dr9/oNbXxcx5eeYY5kXrajT+n/3MWqQ9ACmCbmkhT+cEYFLMqHBQwrwXHSNa5megQa2ptVzO\n",
       "JLX9ugmP8nZbkvZ8p8SMCs8lzGPV+fn7fJ1YHzWmsUTz3H5dgwvku7Qbt0/MqPDyMeG/CoWbjjEx\n",
       "icn7r5ys2DOxyfUkJE7uOUPIqIGJccLR32k+K2nEFmB1YMoiIZ2r/eS4MEGZtJA5cfubQvgwyCaf\n",
       "7c0Sq8I744z9tuY93ctNobt5WkCir5hThIwKK+uEh8FXcwx9kpgBBUxGtpHIXQ5L4uAvKkJGBSlQ\n",
       "wzxaCzuyvUlq8B2TIjeD/lOaUBufu8ifW4Is5hHTWkuVI4fSpN9ZasGfmOzi53vmg1A7owsZFULW\n",
       "127z6ctoVo2rYbJUQxqxZ746JMCxW1DtUX+63ZxwGXTu2DLhS9fQEWGLbd4+bIE/Uj2Cb2KS++aj\n",
       "5XFn7fcgZC7CmyHKd9uv/M02bwObfClxgOywUt6gu+oLFL6WHbVTzgzdVZjHLBisB2l4LzOms3dy\n",
       "ptu23XDJbLDLjppR+nyUWTeSG5146WOlSp9HmHWjWNYLD5WpdaNw2gu3V4Bsdll73RtfYtZZEc0b\n",
       "71GodZbf8MZ3Sn8BS3TaJfQ5/QIAAAAASUVORK5CYII=\n",
       "\" style=\"display:inline;vertical-align:middle;\" /></a><br>"
      ],
      "text/plain": [
       "real_non_neg_membership_is_bool: forall_{x} ((x in RealNonNeg) in BOOLEAN)"
      ]
     },
     "execution_count": 25,
     "metadata": {},
     "output_type": "execute_result"
    }
   ],
   "source": [
    "real_non_neg_membership_is_bool = Forall(x, in_bool(InSet(x, RealNonNeg)))"
   ]
  },
  {
   "cell_type": "markdown",
   "metadata": {},
   "source": [
    "***Real Intervals are Subsets of the Real number set***"
   ]
  },
  {
   "cell_type": "code",
   "execution_count": 26,
   "metadata": {},
   "outputs": [
    {
     "data": {
      "text/html": [
       "<strong id=\"interval_o_o_is_subset_of_Real\"><a class=\"ProveItLink\" href=\"proofs/interval_o_o_is_subset_of_Real/thm_proof.ipynb\">interval_o_o_is_subset_of_Real</a> (conjecture without proof):<br></strong> <a class=\"ProveItLink\" href=\"../__pv_it/theorems/0789215d5e76a85e8336662a58f1f42a6e086d1d0/theorem_expr.ipynb\"><img src=\"data:image/png;base64,iVBORw0KGgoAAAANSUhEUgAAAKgAAAAVBAMAAAAgMbgsAAAAMFBMVEX///8QEBCIiIhmZma6urrM\n",
       "zMxUVFQiIiJERETc3Nzu7u6qqqp2dnaYmJgyMjIAAAAcRTyBAAAAAXRSTlMAQObYZgAAArhJREFU\n",
       "OMutVU1oE0EU/pLNJpufTTwIgiAs/hSPodVDsWpFsCdpvKiHQkOtgiDSojVYPdSTSaWyeGh7kpWA\n",
       "loDNogepCC5WEFOUHDzUghJFBRVEPGmF4pud2exu0kQPPng7b9/OfDPvfW/eAn+XaJWrTxZazY7r\n",
       "QI0Zb9qCzgl1JHZlBAjrDbPU0fzauykyTgNLzPGlLehnoXVJpgm51jgtGcvKU5PAPDDL4ptoh6mm\n",
       "ubqSMunxpHGeErUwMQ0kNCQNGsx2oBGdqyv9tAa3xMtyLpcbc0C7kxTDBqiVUmmmbfQzQl15Zkfb\n",
       "a9s3n3tP2q2Q8QH4mc9fbgu6TWi0p3Mz93zauofC4xm56As/e4iMReAkUHD8oW/rgE4JPaAnv3P2\n",
       "14yyDtVmSjK9oPFzjPK3wEEvkYtifLDzxHvHd4lrbAskTmh8FSkN8RE74V6iNuW+2ouZO+gWNnPG\n",
       "HnVVgwlUNOHbyFVaRYS7pBrKFmT72NNe0KfpSWYMUm6qnt1+MToXSiDQlaofNDCBcsYp035TgM75\n",
       "SmrXcQEarR0lo9jxkZ7yjw4jxAhgoJY/fDrcY1GmVew3EGoO31Luslj6SAvDFPKYvMqwxoPpJDho\n",
       "V9pPVNnE2bhdrqleyq8gKqF5QeXsbk4U7tOWUlpmGyuaWivaoNKp817yFu1vFxIoE1S4qtCGklVn\n",
       "oX5NsRSmDPWwjWmzgBnMkhnolbLH8vm8FkzceOVM7uMaG9oxvR2RcbI6XzAMnuDbw4bbUDLK9d8A\n",
       "S6RK3rKurNCQMgJmmIcfHzDWvaYPHeOOGAeuimtab2Ijwgjog4cxa0SMZSQyPKcVa92G4nibG4oj\n",
       "9TSHhu7txRFTPkNrrrH6fWkV9zmzCnAvXcxZ0dz6HJn3v/IrF6SctmzSap1rvRVooelH8M+/k9ct\n",
       "268fRcV/kj+Sprf5+01uyAAAAABJRU5ErkJggg==\n",
       "\" style=\"display:inline;vertical-align:middle;\" /></a><br>"
      ],
      "text/plain": [
       "interval_o_o_is_subset_of_Real: forall_{a, b in Real} ((a,b) proper_subset Real)"
      ]
     },
     "execution_count": 26,
     "metadata": {},
     "output_type": "execute_result"
    }
   ],
   "source": [
    "interval_o_o_is_subset_of_Real = Forall(\n",
    "    (a, b),\n",
    "    ProperSubset(IntervalOO(a, b), Real),\n",
    "    domain=Real)"
   ]
  },
  {
   "cell_type": "code",
   "execution_count": 27,
   "metadata": {},
   "outputs": [
    {
     "data": {
      "text/html": [
       "<strong id=\"interval_o_c_is_subset_of_Real\"><a class=\"ProveItLink\" href=\"proofs/interval_o_c_is_subset_of_Real/thm_proof.ipynb\">interval_o_c_is_subset_of_Real</a> (conjecture without proof):<br></strong> <a class=\"ProveItLink\" href=\"../__pv_it/theorems/3f3f39a64700be53c18d2ef4ff6ada32128d26ea0/theorem_expr.ipynb\"><img src=\"data:image/png;base64,iVBORw0KGgoAAAANSUhEUgAAAKUAAAAVBAMAAADVzzOcAAAAMFBMVEX///8QEBCIiIhmZma6urrM\n",
       "zMxUVFQiIiJERETc3Nzu7u6qqqp2dnaYmJgyMjIAAAAcRTyBAAAAAXRSTlMAQObYZgAAAqVJREFU\n",
       "OMutlU1oE0EUx1928rFJdpOLhyIIix/FY2iPao0U8SSNl+qhYKnVk0gP1mAViSc3irh6aHsoshKo\n",
       "JZdd9FAqgkt7ECPKIoKxIAShihaq9KQ5iG8ys9nJRzcefPDYyZvNb+Y/771ZgN4Wd5mLpn7Ndn95\n",
       "Bb1GB58CmUvcPUvcnAJQ2pgf+u5t9eHCUQPgNQ18D2R+4960VKaTCbVFOFM1IYGbnKfiCkFINcPc\n",
       "t7TdhVlYADk+DrCKa5o4bwcxYwZz30ZMn1nN5/PTnEkM3OQj3EGlXJ4LlD7H3beX0GQ+fCXskxgo\n",
       "OIUTv3T9eiBzH/f44YHdLPJl7yGPeVXUHg2jdgWP6TxA0YuHt7ow73I/ZqR+srz/MS2DMYktMpeH\n",
       "8FBU1D/cSBW3Nf5cPnjusxe7xjyxBwjLZbIOaY0xY0KO7udv0BWSUzQs+fW8SbfxfNCVFKhoPLaL\n",
       "OalDjIVIDSyHMWfFvA/LuE2IoBjFFRb7TTO5UgZkrrutzFABrJxXniM2Yy6JTHK8wJnx2iiOSv0b\n",
       "9Pd2vxmmpUiZTqt2y4EXvDxdOGp2al+A2+9oTlA7FCdR73SkTlEzUiYFjDmYac2RZcOlZKNM01k8\n",
       "W8ZUNJE5SnIsR/AUwSQToXhZU2ulBpNcuCzmba0xd0UBC/8RdeWMV0ubYm8qNhYRofrSuFbIlrC0\n",
       "IJQl46d1Xdck5cF77+UTzBMTB2b3Q2wGRwNvmjW/OGk275AN0H/YkKKHrmLUMuR1fKTNkB1l2pNj\n",
       "ZtfefMafXm+O3eK96dljbxAyzp6EeTNmVkHJsfOsOF3vEKeN2WGrzQaaeHIETtmRi/iXO7Tm3zql\n",
       "IW+yCH6rJbQeTKGBGsYaTcLz3PFOVqEHU265wSBp/Pu3Q9rp2/Gx7fKF/2N/Ae1Zvmurv98nAAAA\n",
       "AElFTkSuQmCC\n",
       "\" style=\"display:inline;vertical-align:middle;\" /></a><br>"
      ],
      "text/plain": [
       "interval_o_c_is_subset_of_Real: forall_{a, b in Real} ((a,b] proper_subset Real)"
      ]
     },
     "execution_count": 27,
     "metadata": {},
     "output_type": "execute_result"
    }
   ],
   "source": [
    "interval_o_c_is_subset_of_Real = Forall(\n",
    "    (a, b),\n",
    "    ProperSubset(IntervalOC(a, b), Real),\n",
    "    domain=Real)"
   ]
  },
  {
   "cell_type": "code",
   "execution_count": 28,
   "metadata": {},
   "outputs": [
    {
     "data": {
      "text/html": [
       "<strong id=\"interval_c_o_is_subset_of_Real\"><a class=\"ProveItLink\" href=\"proofs/interval_c_o_is_subset_of_Real/thm_proof.ipynb\">interval_c_o_is_subset_of_Real</a> (conjecture without proof):<br></strong> <a class=\"ProveItLink\" href=\"../__pv_it/theorems/ccb2cafcd01daad3cc6ed6f0395e35a33fabe3480/theorem_expr.ipynb\"><img src=\"data:image/png;base64,iVBORw0KGgoAAAANSUhEUgAAAKUAAAAVBAMAAADVzzOcAAAAMFBMVEX///8QEBCIiIhmZma6urrM\n",
       "zMxUVFQiIiJERETc3Nzu7u6qqqp2dnaYmJgyMjIAAAAcRTyBAAAAAXRSTlMAQObYZgAAAqVJREFU\n",
       "OMutlU9o01Acx3/N65+0TdqLhyEIxT/Tk4TtqM7KEE+yepkeBpa5eRLZwVmcIvFkqojRw9xhSKQw\n",
       "Ry8JehgTwaIDsaIEEawDIQgTVJjiSXsQ37/U17SJF3NIXn7f9z55v9/3vReAf19pF/ZuBGKrYZ2J\n",
       "4JHGh0jmMsCa8Jq5MgOQNAOd3g3c3BxwmfCSBL5EMj93MyGnYbAX7OUtwYmWRYUFkpwehVS1ADPv\n",
       "4NvTYDd9EeR0mQo5C0BxopgpM8Acw0PgHn9pVSqVWc5EpkcFtVmv34lMnahdzOe0AEXavvtCmCcy\n",
       "dSb8NIxLkcwdjJneP7SVBT5t34dz02j7gph7Ml5mwjRA1Y/HN/swbzDmITP3nfn+27JNUKlJyBGZ\n",
       "KyO4KkQYFT18xp8re0599GMXKTOzDRCzMtuGfAGyM7TWgke3KpfJF4iQAsntCF/JPB4Pu5ICzQKP\n",
       "baFM1IYUiyAP7AYk6KTnRd9HZWIeERRX+Ngv4uRqHTBz3e1ixnSwS/7yHHM4c1lkosM6Z6a9cdyq\n",
       "DZLdl/gxaMVJ8Qmz0ZU7ntoTvjxdOGhBvCf3Rbj2hnhChOoUznc20SaoOUnLAWMOa10e2Q6czdIN\n",
       "mS/i2nKPlILIHEclLjzEYKQlCF4uqF6NMtHpc6Jva0Q6r4CNByRdGX8ONToGdPam4kxzAZsIMUfC\n",
       "SwtiRVQ+bhhGQVJuv/U7H2G+T+6a3wmpOZzT0CtSVVbcpSmrc4ZsgPHNYYKKo7Ypr+NH3oo5SZZ7\n",
       "dsLqtzcf+Y37/Dlxle/NoAAx8+RRWLBSVguUEqtns9HvDPGDvWdIjxCffHAAjjmJM3jMdbLmXzdq\n",
       "I75Y/cvM+J70nnUhAttoEq5n2Jms+jHZDGEGhKwZ+u/YHfx3vA9LPSCo8H+uP7MqykM8Ouw6AAAA\n",
       "AElFTkSuQmCC\n",
       "\" style=\"display:inline;vertical-align:middle;\" /></a><br>"
      ],
      "text/plain": [
       "interval_c_o_is_subset_of_Real: forall_{a, b in Real} ([a,b) proper_subset Real)"
      ]
     },
     "execution_count": 28,
     "metadata": {},
     "output_type": "execute_result"
    }
   ],
   "source": [
    "interval_c_o_is_subset_of_Real = Forall(\n",
    "    (a, b),\n",
    "    ProperSubset(IntervalCO(a, b), Real),\n",
    "    domain=Real)"
   ]
  },
  {
   "cell_type": "code",
   "execution_count": 29,
   "metadata": {},
   "outputs": [
    {
     "data": {
      "text/html": [
       "<strong id=\"interval_c_c_is_subset_of_Real\"><a class=\"ProveItLink\" href=\"proofs/interval_c_c_is_subset_of_Real/thm_proof.ipynb\">interval_c_c_is_subset_of_Real</a> (conjecture without proof):<br></strong> <a class=\"ProveItLink\" href=\"../__pv_it/theorems/76c515204d9bac29d0b2b7d7c29cb47fcdc3597d0/theorem_expr.ipynb\"><img src=\"data:image/png;base64,iVBORw0KGgoAAAANSUhEUgAAAKMAAAAVBAMAAADY0UPbAAAAMFBMVEX///8QEBCIiIhmZma6urrM\n",
       "zMxUVFQiIiJERETc3Nzu7u6qqqp2dnaYmJgyMjIAAAAcRTyBAAAAAXRSTlMAQObYZgAAAqtJREFU\n",
       "OMutlU9o03AUx1+TpknTJL14GIJQ/DM9SdiO0zkZIgiyepkeBMfUnUR20BWmSD2ZKuJPD7rDDpGC\n",
       "Si8JehgTwTAHSkUJIlgHQhGm+IcpnrQH8f3yS9qkf9KLD0J+eS/55L33/f0B6G9pF3avR13q57Hu\n",
       "7y7jVaeDD7HIBwCroUf58iyA0oZ8N3BjY8AFSBGAl9TxNRb5JYoETe9EQv0eHKuZIGOKC7SyYhxR\n",
       "1duQWbsLsrgIUnoKYAV/aWLcjkOKpA05YTaR6pVCoZD3kTzBFO+is1qp3Imtm0YjyOcQINPfSShL\n",
       "nmC1GgZ+G8bFWOQ2hkzvGdrMHJ+2jvhIkYQLTyWxcAXbdBqgFPiTG12Q1xlyP9F+MsX/mhZhyJFI\n",
       "L5dGsSMqFj/uqeTbM/++tOvkx8B3wUPKW4BnKmYakM0x5GwIebNwiUqSQZ8InNsMfKNZPBl2OQWq\n",
       "Od+3yUPyDRCZh6+D5XhIqnAry3EJkwQBS1FcsRX4g1dtuQKIXHMjyEQRrHwwLSdsDykXw0j+QNFH\n",
       "puuTOCoP0iUn/Bo0k9hfD+lECrcceOpPSxf2mZ2FL8LVN1QO6iudwv+dFxqUNM/pGjDksB6Rx7Lh\n",
       "bMYTODuGfWXIlQhyks8zeeARcnldoHQpp9bLHpKfOReWbJWG5hSw8IOUK+k+UrPDC1KxcfbwtLgs\n",
       "dj1hc7TViTF+6qhhGDlOufU2ePkgU3x6x+3tIM5jRUOvgqkuzxxqbRvrYPywQaMNV1Eoi0hreMua\n",
       "CTvFCs8cN7styMf+3V+QwotgQQZ2PxgkyInDsGCKZg2UPOtl1em2bThRZKc125ucfrgXjtjCGfzk\n",
       "Gp3qr53yaBAstZByrg8ytGw8Y83msJe9tmAV+iAlEnnMkJ4Hxc62g4LrdVC8b9tr4b/YP7Osw9Hk\n",
       "e6ucAAAAAElFTkSuQmCC\n",
       "\" style=\"display:inline;vertical-align:middle;\" /></a><br>"
      ],
      "text/plain": [
       "interval_c_c_is_subset_of_Real: forall_{a, b in Real} ([a,b] proper_subset Real)"
      ]
     },
     "execution_count": 29,
     "metadata": {},
     "output_type": "execute_result"
    }
   ],
   "source": [
    "interval_c_c_is_subset_of_Real = Forall(\n",
    "    (a, b),\n",
    "    ProperSubset(IntervalCC(a, b), Real),\n",
    "    domain=Real)"
   ]
  },
  {
   "cell_type": "markdown",
   "metadata": {},
   "source": [
    "***Positive Real Intervals are Subsets of the Positive Real number set***"
   ]
  },
  {
   "cell_type": "code",
   "execution_count": 30,
   "metadata": {},
   "outputs": [
    {
     "data": {
      "text/html": [
       "<strong id=\"real_pos_interval_o_o_is_subset_of_RealPos\"><a class=\"ProveItLink\" href=\"proofs/real_pos_interval_o_o_is_subset_of_RealPos/thm_proof.ipynb\">real_pos_interval_o_o_is_subset_of_RealPos</a> (conjecture without proof):<br></strong> <a class=\"ProveItLink\" href=\"../__pv_it/theorems/8c771ae2e7a09b1a8a2a431c661130263860e2460/theorem_expr.ipynb\"><img src=\"data:image/png;base64,iVBORw0KGgoAAAANSUhEUgAAAMMAAAAbBAMAAAAzPCbbAAAAMFBMVEX///8QEBCIiIhmZma6urrM\n",
       "zMxUVFQiIiJERETc3Nzu7u6qqqp2dnaYmJgyMjIAAAAcRTyBAAAAAXRSTlMAQObYZgAAAz5JREFU\n",
       "SMfNVk1oE0EUft3d/G02rTfrLVUoHjwEc1CoxkIRQRArSFUQGqotij+IPwR/kKCgqR5c9WAPFVcD\n",
       "RXpogwqlIBjsRSpK/IGWohKr9VAlLUVBWxXf28nuzqSt2/QgDsxk5s2b/d687703Afif2vYy9b3Y\n",
       "pbJOeOJlQvixK2UdqjQWAQHPyjmxmoabJcKg7gLhQ8PyNHnrjhCYxkFNcpK7S3HYX6o3VH2lUJ2z\n",
       "IaQIwFOajLtDaBFylmD0B+w9sxTzXbBz2IDDhfeFQg4CkwAdZGHSHaIig8MrQTRDyOFSxWQn+ANx\n",
       "6xZwmrGoZdwhbhHbJ3mJYrpuCVuELiYSicYihKznbYi1uDfY3X1jAWy/oNseEVxnrj4ypr7o3C1k\n",
       "PWlD1GD/nkqdmZcAZxorcgfXB2pY+Fa2rMDbD5hzn847yqs4jtqKyq0A7fNByM40RYcwUpRlMMEk\n",
       "vePqD4B35rxO4KIvZtgQzei9BlDztnsL80J8IlvR6ts5ci+1RwZMAfSZc86DyauJsya3AcZhPZ4D\n",
       "KWfvDxR/+1buGRUhjlFUofoGA45arlN/opXm1+L8LRr8XCHoxTNazucIPlOQPIzmJA0Gw1p0TbSO\n",
       "TwKCqAb1myVRZooQfEomO+WN3JJuEcg3OQJ0Lgz3dwNCjOSEW1xgjkLDg5NM8gtkDNtNsxzVCZde\n",
       "OstmCoT2vTika8eomk7VGgqFDUFkBYh9jG51Brz5flPylXgp0v1YgGiSG+0lRRTcRxPUEx5KJOmU\n",
       "FKkEBhGNCBA1xSJyDobiWfU3rg7BeRzXsQDO8AVEy7QK+QRVWAPkiIfu6g+H8mkTQm47LtJN1iio\n",
       "07V8V0s9JHCVXkVhMmbuqm2bnTI4BqkJG9IMv5BBFUiKm3zK8R2pVCosaddek+O4GlXPF5CgFTNq\n",
       "kQXPE6uAlLRRO7R0/wieqjIqMl7mqOBu8QmSs3wZtNN+dhkUmzpt26g3b4EOw2cMg9bIuBjMiu8q\n",
       "1Tu/VSfuWOIel9IWsjNGabm3HrZlPAfxu5cp9Z5n0zFR+QAf/3aytrtA+EqcxziSkIs5lHvmelhD\n",
       "ugvEm4U/xLgbWcQfo9LHLvR39QeLgJAN+BftD4uT1bQbDnXfAAAAAElFTkSuQmCC\n",
       "\" style=\"display:inline;vertical-align:middle;\" /></a><br>"
      ],
      "text/plain": [
       "real_pos_interval_o_o_is_subset_of_RealPos: forall_{a, b in RealPos} ((a,b) proper_subset RealPos)"
      ]
     },
     "execution_count": 30,
     "metadata": {},
     "output_type": "execute_result"
    }
   ],
   "source": [
    "real_pos_interval_o_o_is_subset_of_RealPos = Forall(\n",
    "    (a, b),\n",
    "    ProperSubset(IntervalOO(a, b), RealPos),\n",
    "    domain=RealPos)"
   ]
  },
  {
   "cell_type": "code",
   "execution_count": 31,
   "metadata": {},
   "outputs": [
    {
     "data": {
      "text/html": [
       "<strong id=\"real_pos_interval_o_c_is_subset_of_RealPos\"><a class=\"ProveItLink\" href=\"proofs/real_pos_interval_o_c_is_subset_of_RealPos/thm_proof.ipynb\">real_pos_interval_o_c_is_subset_of_RealPos</a> (conjecture without proof):<br></strong> <a class=\"ProveItLink\" href=\"../__pv_it/theorems/2f1892fa8f5da4cf870239dedc40256f9eead1d00/theorem_expr.ipynb\"><img src=\"data:image/png;base64,iVBORw0KGgoAAAANSUhEUgAAAMEAAAAbBAMAAAA3yfbmAAAAMFBMVEX///8QEBCIiIhmZma6urrM\n",
       "zMxUVFQiIiJERETc3Nzu7u6qqqp2dnaYmJgyMjIAAAAcRTyBAAAAAXRSTlMAQObYZgAAAyJJREFU\n",
       "SMfNll1IFFEUgI8z++fs7Nqb9RJrgfQQMbRFSWRC0Fu0QfQDgoNZBBlYKovVw1JQo2EsBeZLObUg\n",
       "IpRLBSEEDehLSjFRkEjFZtSD0iZSkLsl3TOzM3OvrbvOS3Rh7t579pz9zpxz7rkL8B+NQ+7UZfJw\n",
       "riy8sjtCgjweVzZh1T0BXrix2IrT7WXCDx2lCX7iVgYX78sDKnNkEhKUZKiaTOOsVuissvSx1yFw\n",
       "EsAkLmbLE0QJI5WkRZ/+JkBYkL29PeDLZtdnvxK/5gH60b9EeUJFmkyvGVG+CCFQqUGiz34HuGAm\n",
       "UEyXJwxgortoiSfnEKbi8XinRagLO4SdJHITw8O3VpHoV/iubUzc2mzCnef0O9QFHEINeX4qysUV\n",
       "g+8s6wt5g5tjNWbdhps3pguELiZK8j6HcIDongDoXonAO0sFzXUSm3XwzZSMzAqLJoFP04Rg+6xD\n",
       "aIoB7AUhY4c2uyLhC1Y3+aW7OsYWxzMVFkyCn850dXzOWJllN9CAX3O6rTBW+Hyy6fgMS2jHeiLq\n",
       "e1Q4Z8VN+GUS+mjCuNRD+ThCTESdcgHxwtOozokwERGjO6K76OJHwloQflgST94kDDHVuu0oXYLE\n",
       "pDJz2BEsYuWNDgMhTOvMO1wxo0TcDs6bkt/A54pESQvcjzj7JgxWdwuZUrWfsX8u1KoeLBgkaAzh\n",
       "lJlpIQ++zKgh+Y45MQhihCZ45e2OGdYSPCJ1LXR68fxw5znJOC6EEJUYQk2hc1yCt7ImLJHdGbhs\n",
       "nYc5umvApC/GHCOoIh7wkhfPTyASyqQMAn+yg800OuMhOoMbjjU3QJzsUpt1izDYojqdLxa4nrfN\n",
       "jLoLqdh1ONlIJS8fURQlwok33mDUqL7UQJ+soHVZFLpG49VC11g+ZuyiSgamiVGVWpH2mVEKNrI3\n",
       "Dq/Rnc8+7OOle42Qsz1MNu2HftWvToEYM/MwobGX6BqMotW9762SELKvUU/zw91wMO1tJT97DU/c\n",
       "Sy1Vzyqfpm8gfZUEf4zdm+2FI3koovyg2C26paM04R27DSZLKQcl93+All9todLqj90TeBX+wfgD\n",
       "Au7Vw6Wrpr4AAAAASUVORK5CYII=\n",
       "\" style=\"display:inline;vertical-align:middle;\" /></a><br>"
      ],
      "text/plain": [
       "real_pos_interval_o_c_is_subset_of_RealPos: forall_{a, b in RealPos} ((a,b] proper_subset RealPos)"
      ]
     },
     "execution_count": 31,
     "metadata": {},
     "output_type": "execute_result"
    }
   ],
   "source": [
    "real_pos_interval_o_c_is_subset_of_RealPos = Forall(\n",
    "    (a, b),\n",
    "    ProperSubset(IntervalOC(a, b), RealPos),\n",
    "    domain=RealPos)"
   ]
  },
  {
   "cell_type": "code",
   "execution_count": 32,
   "metadata": {},
   "outputs": [
    {
     "data": {
      "text/html": [
       "<strong id=\"real_pos_interval_c_o_is_subset_of_RealPos\"><a class=\"ProveItLink\" href=\"proofs/real_pos_interval_c_o_is_subset_of_RealPos/thm_proof.ipynb\">real_pos_interval_c_o_is_subset_of_RealPos</a> (conjecture without proof):<br></strong> <a class=\"ProveItLink\" href=\"../__pv_it/theorems/cb2188feaeb862bbadb4b8066e45144aba3fd2190/theorem_expr.ipynb\"><img src=\"data:image/png;base64,iVBORw0KGgoAAAANSUhEUgAAAMEAAAAbBAMAAAA3yfbmAAAAMFBMVEX///8QEBCIiIhmZma6urrM\n",
       "zMxUVFQiIiJERETc3Nzu7u6qqqp2dnaYmJgyMjIAAAAcRTyBAAAAAXRSTlMAQObYZgAAAyhJREFU\n",
       "SMfNll9IFEEYwD937597e+qb9RJngfTQw9IVJZUdBPUUXhD9AcHFLIoKLJOjP8RRUKthHAXmU24d\n",
       "iAjpUYEIQQv2klJcEChScVn2YHSJFKRX0jc7d7uza9e6L9HAzM7OfnO/b75/cwD/UdvvTlzGzrna\n",
       "4ZXdERLYPa72VKjuCfDCzY6NeOhczLoWTDoQ/KhWlkzeOgPKFwHEKLPQX43DCZtU6Iyy9L7LJHAS\n",
       "wDiZzDoTRMlGgA/YB5fZUpC9XZ3gy+XW5L6gXnMAPUS/hDOhLG0n5Ak3bBMLlGuQ6DbOABepA8W0\n",
       "M6FXtRE8aDYQqujLZDweby8S6ipMwla03NjAwJ0VOPoV2AhiKxk/6vO7z9kz1AVMQg32H4pyqaTx\n",
       "zWl9gXB7tIaGbUXzOjz6qD4/b7GSvNskNKDwUYCOUgTenCqU4FkNX+nC0KywAPBOF0uzhGDbrElo\n",
       "wvjeBULWsG2uJOETJdzLENOS9lSFeYBhPepZT1fHP+szmiq9UfKZyxgCo4Xn8Poj01ZCGyXsVOFs\n",
       "0WzCT9SRTLtZwjOpk9FxCAlihlGB4IUnkQwnwlhYjGyJbGOjHwmrQPheXPDkC4R+S7RuOsSGIBLK\n",
       "swfMhQUSeSMDgISpjOUM13QCqh2cowu/gMd43bPMSlrgAZMkTcRYHS04pGpnSP2cr1U9Esl2JGgW\n",
       "wnFKyIMvO6IvfCM+oZ5m8g4JXnmzuY3EEjzCwBbavSSBuAucpKcLEiKShVBDrXQFJmRNWMKX03AV\n",
       "x+2GcY2qAeO+mCWNoBI14CUvSaBAOJRN6QT+2DmrpxtoTvetPdwchTi+pDaQAJnRP/a1qGbliwVu\n",
       "5o1teuCFVFJ1OHJZlEV5+aCiKGFOvPWaWI2pS1Emp4PFu0Jopc/G64WqYW/TRlAlA1O4q1ItS/uo\n",
       "lYKN1huH1xiCkevLKp+tCYuGhsmmvdCj+tVJEGPUD2Oa9RKtYgj3i6uDDtUsZFyjnuaHO2Bf2nsK\n",
       "f/YGybiXWqreKnySIRgp2uFA8NsuRVpeOPTDH4RRXe6ybUMo6UB4s/JbF79K7v8A2a+20N/FH7sn\n",
       "8Cr8g/Yby7zNCuW3xrkAAAAASUVORK5CYII=\n",
       "\" style=\"display:inline;vertical-align:middle;\" /></a><br>"
      ],
      "text/plain": [
       "real_pos_interval_c_o_is_subset_of_RealPos: forall_{a, b in RealPos} ([a,b) proper_subset RealPos)"
      ]
     },
     "execution_count": 32,
     "metadata": {},
     "output_type": "execute_result"
    }
   ],
   "source": [
    "real_pos_interval_c_o_is_subset_of_RealPos = Forall(\n",
    "    (a, b),\n",
    "    ProperSubset(IntervalCO(a, b), RealPos),\n",
    "    domain=RealPos)"
   ]
  },
  {
   "cell_type": "code",
   "execution_count": 33,
   "metadata": {},
   "outputs": [
    {
     "data": {
      "text/html": [
       "<strong id=\"real_pos_interval_c_c_is_subset_of_RealPos\"><a class=\"ProveItLink\" href=\"proofs/real_pos_interval_c_c_is_subset_of_RealPos/thm_proof.ipynb\">real_pos_interval_c_c_is_subset_of_RealPos</a> (conjecture without proof):<br></strong> <a class=\"ProveItLink\" href=\"../__pv_it/theorems/829dbf710898d01bda5f3749c9d88e6f948c494e0/theorem_expr.ipynb\"><img src=\"data:image/png;base64,iVBORw0KGgoAAAANSUhEUgAAAL8AAAAbBAMAAADfSUPNAAAAMFBMVEX///8QEBCIiIhmZma6urrM\n",
       "zMxUVFQiIiJERETc3Nzu7u6qqqp2dnaYmJgyMjIAAAAcRTyBAAAAAXRSTlMAQObYZgAAAw1JREFU\n",
       "SMfNll9IFEEYwD937597e2dv1kucBdJDxNIVJZEdBL2FF0R/QHAxi6CCSuXoDyEFtRrGUWA+1daB\n",
       "iFAeFYQQdKAvKcUGQSIVl1EPSpdIQd6V9M3O3e7MpnfuQ9DA7M3MfrO/b75/cwD/T9vvSlrFLrja\n",
       "4VVdiXdh97jaEtZdA+Clmx2b8ci5OL/2oaM8wI9KZcngfeXvV+cB5BizMFiLjzFeKHRGW/zYawME\n",
       "BWCCDGYqA2TFAYBPfwMgLKne3h7w5XJrc19RqzmAfqJdV2VAVdoJKCwBCFRnoKvPOgFcoL6T05UB\n",
       "d3UHwJO3AZOJRKKzBGgI24DtaLbxoaHbK/Dxa3AA5NMW4M4L9gQNARtQh/2npl1c1vD2sLEIuDVa\n",
       "R+M13Lo+XQSc40yk7rEBTSh7FKB7OYBoDzUK8KyBb3RheEZaoAAxzQKC7TM2oAXjejdIWcuuuWUB\n",
       "XyjgnkHsStpzHeYpwM86uTYxa46S1HMx8lowLIHR4u/TDUemeUA7BezS4WzJZtIvCuhjAWNKD6Ph\n",
       "MAJkg9GA0KVnUUOQYTwiR7dFd7BRj4DVIP0oLXgKFDDIhemWQ2zsIaA6e8BeWCAxNzIECJgyuBNc\n",
       "NQGodHCOLvwGMb+EiTKBBxF73kIs1d2Gj1T9Z1Ix5+t1j0JyHAEZDnCcAgrgy46YC9+JP0yAHGEB\n",
       "XnWrvYtEETzGgJY6vSRvhPOCYqYJAqIKB6ijJroMb9WMtIiTU3CllAezbKmACV+cyx6oQQVExUvy\n",
       "JhAJZVMmQDzWwTu5iWbywLrDrTFI4CS10SgBBtp0u9jFAzcK1i4z4kI6qTQCuRyqYqJ6UNO0iCDf\n",
       "fENMxtSiGJPJwdLdUCwVzdeKpcLZpq1wSgamcFONXpX2URMFm/kLRswwACvDx8rXFylv6Zds2Qv9\n",
       "ul+fBDlOfTCe4W/MVQzg/goBIevO9LQ+2gn70t6T+NXrJNFeZVKNvPAJBmCsEOB33IC0pgjogyWE\n",
       "H+KbS44NmzrKA97x02CynHBQcf1Hx3mRhcqLP3ENEHX49+0P1XHSFEaJTp4AAAAASUVORK5CYII=\n",
       "\" style=\"display:inline;vertical-align:middle;\" /></a><br>"
      ],
      "text/plain": [
       "real_pos_interval_c_c_is_subset_of_RealPos: forall_{a, b in RealPos} ([a,b] proper_subset RealPos)"
      ]
     },
     "execution_count": 33,
     "metadata": {},
     "output_type": "execute_result"
    }
   ],
   "source": [
    "real_pos_interval_c_c_is_subset_of_RealPos = Forall(\n",
    "    (a, b),\n",
    "    ProperSubset(IntervalCC(a, b), RealPos),\n",
    "    domain=RealPos)"
   ]
  },
  {
   "cell_type": "markdown",
   "metadata": {},
   "source": [
    "***Non-Negative Real Intervals are Subsets of the Non-Negative Real number set***"
   ]
  },
  {
   "cell_type": "code",
   "execution_count": 34,
   "metadata": {},
   "outputs": [
    {
     "data": {
      "text/html": [
       "<strong id=\"real_non_neg_interval_o_o_is_subset_of_real_non_neg\"><a class=\"ProveItLink\" href=\"proofs/real_non_neg_interval_o_o_is_subset_of_real_non_neg/thm_proof.ipynb\">real_non_neg_interval_o_o_is_subset_of_real_non_neg</a> (conjecture without proof):<br></strong> <a class=\"ProveItLink\" href=\"../__pv_it/theorems/52f41d75a4e9c3315015594ac8cea3d8c10d70080/theorem_expr.ipynb\"><img src=\"data:image/png;base64,iVBORw0KGgoAAAANSUhEUgAAANQAAAAcBAMAAADrS4zyAAAAMFBMVEX///8QEBCIiIhmZma6urrM\n",
       "zMxUVFQiIiJERETc3Nzu7u6qqqp2dnaYmJgyMjIAAAAcRTyBAAAAAXRSTlMAQObYZgAAA5dJREFU\n",
       "SMe9Vl1IFFEU/nZmf2dnN4kgyxcrkAgfhCikzBYkgyBYiawgcLEUooSIZEkqlhLy56GpHvLBaHJB\n",
       "QiKHfLAgaMkexESWChWpGCpf+lNEobKic2d21pldrVnBLsxw75lz73d+vnPuACs/iotXHqNSYu9A\n",
       "wh9ZxmZXKBdt3/YwvT0h/EBhzlDVuan7SgmrN4wCVOYM9TFHfWEwhBoJFyAmc9zJszjcyhD6pb9h\n",
       "jcg1Ms4ATYDKBG9sQt2WaXPMJLi7ll4nMtXG8q9+zdfd4L4wr1YDm4DnucRlgJ6gxYn39NzP0lO7\n",
       "cXiczEJXu5arWbIS6GDZi9mEKqDnpUUyT4+YRa9YJ7w+Yvi9ZoOB8CgIErio2CQUbcE5s8TJJEKe\n",
       "vghciUaj4RQUL6mIN2sxLGF1xccQGOrpuWnTqQCd6Tttloja6oNuyGfJ5BUvxXAw1S1Y3Dna+62l\n",
       "5bxdAqrMRprcGNgga5Jg7SZFTyGFSDIH0O20tgjmfx3QusTRWjDuvZaNtZdy6iVmOddhSpf0fhS+\n",
       "A2+1+U5LrvrLZWufmQMqIKhp6K+Wz6Msh20L7A5GtPTiThKluuSJjBmgX5ubIhu7Fr1Ieg9baKQQ\n",
       "fcRCD7ikhc1s9G8+9o71S/qShzzjq4eC56AuuFsrSjbKIfwEarSzImavKrxyRi0TlJj0LAg+MeHj\n",
       "rUlOxBCj8IEtvjw0pr1KQeVDmDPKyjmfgjKXdqyT35NRQMwrn2rqoRR4jD/qAUFNMF9d7WYorx5A\n",
       "csQ/rUt+gad0780KYCfaXmTcCezo1uP0ihdNsvVMkexkFGNQCWpvDcA01hvqbp0Wwjzc6iNNMsvy\n",
       "lqLFUwtUNR/OYiD6yByh0cWmXBNXEoQOtbUEgZNWWrDaEMmSSxiLJITfJGnAZXqX6eFVzI1JVOqy\n",
       "ahKrKCl8iYv57y0MqHHtUL7+LLAtg+zMMifpdW88UhtClOTxYhbmST3x9fsW2u0kWqYsPYhnBgdo\n",
       "i0PhGIEcIT5yiAhayInXXy1SaGvMjclvmCCksuQaNBrTIiNoNMpeyTtBO1fJDsWtB9B/VBaGh4ef\n",
       "WfTLzO1WTE/s3Oa9hmEOqWY/OmSPPA4xrOdqKJGtX8WCbPSfLkN6305TG01nofbBLlQprlN0fjsr\n",
       "4ZFEvDxb362Y6idd+K12oBqtSz2PHOVqqetbXeTCD0h2LoWE/Z8EffQt95ewIwP53zv8oWVC7cD/\n",
       "HH8Abh74dyTEDTMAAAAASUVORK5CYII=\n",
       "\" style=\"display:inline;vertical-align:middle;\" /></a><br>"
      ],
      "text/plain": [
       "real_non_neg_interval_o_o_is_subset_of_real_non_neg: forall_{a, b in RealNonNeg} ((a,b) proper_subset RealNonNeg)"
      ]
     },
     "execution_count": 34,
     "metadata": {},
     "output_type": "execute_result"
    }
   ],
   "source": [
    "real_non_neg_interval_o_o_is_subset_of_real_non_neg = Forall(\n",
    "    (a, b),\n",
    "    ProperSubset(IntervalOO(a, b), RealNonNeg),\n",
    "    domain=RealNonNeg)"
   ]
  },
  {
   "cell_type": "code",
   "execution_count": 35,
   "metadata": {},
   "outputs": [
    {
     "data": {
      "text/html": [
       "<strong id=\"real_non_neg_interval_o_c_is_subset_of_real_non_neg\"><a class=\"ProveItLink\" href=\"proofs/real_non_neg_interval_o_c_is_subset_of_real_non_neg/thm_proof.ipynb\">real_non_neg_interval_o_c_is_subset_of_real_non_neg</a> (conjecture without proof):<br></strong> <a class=\"ProveItLink\" href=\"../__pv_it/theorems/4edd21ea1049534d59ad6afee6f82327dca603860/theorem_expr.ipynb\"><img src=\"data:image/png;base64,iVBORw0KGgoAAAANSUhEUgAAANEAAAAcBAMAAAANYke2AAAAMFBMVEX///8QEBCIiIhmZma6urrM\n",
       "zMxUVFQiIiJERETc3Nzu7u6qqqp2dnaYmJgyMjIAAAAcRTyBAAAAAXRSTlMAQObYZgAAA31JREFU\n",
       "SMe9lm9IE2EYwJ/ddm673TY/BIIQTCyRCBmaoFCyCOxTtCiqD4LDLAozCrWR9UHo35wYI8H8VBdC\n",
       "iFg7KooicJQfSlcsiBCxWEZBCiFSkLOi5733bru7Td0J9sp7dz73vO/vueffO4D1Hszz2HojLCek\n",
       "2zQ8WsvqA0aU+46Sazu4BcYwiA0YUu+7DMD9BJNoCRgluQRj+iOXgF0EawJeGyVV4rQndMKP7Sug\n",
       "ZtkUWD1gRROTRPAhP5A9hZchtWSoCC9jWi3nmdDfT730uSKB32TyAOMFmCCC2fxIPOrDN43oczYJ\n",
       "XFyA7Q3jA1cukji5fWCfBxggtnblRzKJaLFXI1rKQbLZY9DVj6CXPjn3AM7TIPNifqRbqGuNaGom\n",
       "lSFNBoPBDoVU6wKuhoCgVKqnGrRxfHj4Rp4J8RanVpc/nSbdfKX+plobsH7aI+LECyU4f4VCF/Ik\n",
       "1Ukmore3VxbLIWkqFWXSOY33AvXapXvRHVjI3cvsLBk1Mp0uohBOklQ7I655KonOcouUZBbVJEeb\n",
       "Lskaca9dwCXTbv+uef2erA5z6Xz5ClJouY1glmWjAixQklWdEUXBOQBHCEdYCbGPqDCZWnwh3x+X\n",
       "H5nBWz2+KcQ/ebTh3IDmS8Uo+5P7TUn9atKYN6xzTxRJfEJlzhypgmdVCYaHcbLZ/i32QuhQFw+S\n",
       "TF0Q9SsSyxIlDWmyfNthfdoiyZ48mBEskmx9MgxImiJfyvaoSVeo96IxGJUlf8gHZnsvZrvr0cWJ\n",
       "FEd3M14Gy76QjRfKBAtJSkLCA8zRCjAPxYr6cZoRURFOOWhZ/YDbCUriPWoSG6jOzj14gDXBdbCk\n",
       "BplOxusCSqrygrNFmxElNJI2j/MsD1GSR61wUamnOXU3gokCf1YpghutMXtZUoO4R3JQIpmPYYeu\n",
       "1mU5MWw3mtW0uX8TWDuJK7YmFNKdZiHTYf22a0saUo30RiAdjSGHlclnDhzC3PQw/PV3OfqeT92N\n",
       "nioPcjdquCp3o1xjJp2EEdsUAt2CSSyg3nM0CFw8Htd0T3NM3WFjOtJKg0ulrY007oEBwSpMAu+n\n",
       "cRrP/knDkspSGgrnMUBypo93S9P9HbBPZE/i9j2kct/EBuuyF7SoCscJBkhWbX4AbV0MxmmZBfdy\n",
       "ne4V7auTprX/OiKrLXB41/bTT3/UOldf8nBtJLMA/3H8A6Jh8TMGVsooAAAAAElFTkSuQmCC\n",
       "\" style=\"display:inline;vertical-align:middle;\" /></a><br>"
      ],
      "text/plain": [
       "real_non_neg_interval_o_c_is_subset_of_real_non_neg: forall_{a, b in RealNonNeg} ((a,b] proper_subset RealNonNeg)"
      ]
     },
     "execution_count": 35,
     "metadata": {},
     "output_type": "execute_result"
    }
   ],
   "source": [
    "real_non_neg_interval_o_c_is_subset_of_real_non_neg = Forall(\n",
    "    (a, b),\n",
    "    ProperSubset(IntervalOC(a, b), RealNonNeg),\n",
    "    domain=RealNonNeg)"
   ]
  },
  {
   "cell_type": "code",
   "execution_count": 36,
   "metadata": {},
   "outputs": [
    {
     "data": {
      "text/html": [
       "<strong id=\"real_non_neg_interval_c_o_is_subset_of_real_non_neg\"><a class=\"ProveItLink\" href=\"proofs/real_non_neg_interval_c_o_is_subset_of_real_non_neg/thm_proof.ipynb\">real_non_neg_interval_c_o_is_subset_of_real_non_neg</a> (conjecture without proof):<br></strong> <a class=\"ProveItLink\" href=\"../__pv_it/theorems/11bf87b715ddea1bbade323986e82ca0640c797b0/theorem_expr.ipynb\"><img src=\"data:image/png;base64,iVBORw0KGgoAAAANSUhEUgAAANEAAAAcBAMAAAANYke2AAAAMFBMVEX///8QEBCIiIhmZma6urrM\n",
       "zMxUVFQiIiJERETc3Nzu7u6qqqp2dnaYmJgyMjIAAAAcRTyBAAAAAXRSTlMAQObYZgAAA4pJREFU\n",
       "SMe9lltIFFEYx/87u+Puzt58C4Rg7WLSQyyWoHTbCHwLN4rqQWjpRtEFQ026PBh0WQ1jSbCeakKo\n",
       "kGqHisIIWiyo1GKDiBKDzcgHhZAgSAPpO2dmx5lZzVnBzrJz+c7l953v/M93BljoIvSmFxrhOsRv\n",
       "Q3g8n97bC2ncsZ9dGxGShYJBYryg5h3nAekXHIorXigpKBfW/u45iBNwZ/C2UFIFsOq7xdbzT9So\n",
       "OAl3GG5yMcsMX+yBvJPAS8O7dLYeKEpaWgWOJ6a+tqvPqzI0J0cYQgToZ4ZReyR/xExCkAxSNi/G\n",
       "Ulxsb2OelCtsnUJReMeBa8zXFnskh2IhhciAXmszjzeNlk4CvY5q2gNOq4vsV+yRbsgWUi1TyE3t\n",
       "5VNzc3NTjlQdhFTFQFjK91MVRbWvu/uqTUG8h4X0igeLD4jrb4xzqvZAjKk5YoBCjFL6/04kztgk\n",
       "bVBJ3nUVJaphZMladfWonDRFL15j7spmTxu5dZaRuVN3h/RNlFBJm5LBcVV7U3IqiQCXhFMxknwN\n",
       "FpHtprE2G9Tj+mGq/sh6t0m6XkY4SVoMp2ryTSIUhq+ePbuNiljUPEa1CSptuSWOsiZCRm/0Qrs/\n",
       "Kd87TLcaqimmn1YaOMnJ9yKfRxapNEQ+wU4j6WWkzRKeFJH8GYM7Yywmz1ZnBD/62GjbVnqL0ZSr\n",
       "/cZJjhakYrntVKtopDsmla/ZZZUtkbzZHdOGCabWnm4QaZDNVLxkJF3gJJrGc207ZbBRhis/emnP\n",
       "vbBlnVgmad1Hl64yls/En2Wyi0mJkegA8x0FxlGSa35QJSk45uMpKBSlNdMU4Q8bSWK8Ml97eEg+\n",
       "SU2UCQlwSogEoZJWRxA4bFZEKSd5woETfqRo/KKMh9xypvXA69kI/UWxvK3I5ANnRGQxoEGyXZzk\n",
       "PNAIVFpUXstzhLRneecyuE+RfxXsNAiqY97aJ09n2Jjn8h8TqYrXyCyjCeywckSd8Z2kzbDgv/Jh\n",
       "hrwXNeSIp7mH29q97qKWjWYqw7oIk55BAoZkh1KkRs9XJ0sDAwOm5MPipBv075BeG9lFmtS9Te7e\n",
       "gmuyW/4Ef0xdp778TxqxeJok5RSQf2rMUAL68e7a82A9tiriERr+Etu579JdG/I7HJ4mBXSlJW2Q\n",
       "3GZ9QE1dAq3TLB3uAyusp/tnO7l5yPzqm9M7X2R+n37WozYwd5dH8yM5ZfzH8hfoQ/GPmCEVNgAA\n",
       "AABJRU5ErkJggg==\n",
       "\" style=\"display:inline;vertical-align:middle;\" /></a><br>"
      ],
      "text/plain": [
       "real_non_neg_interval_c_o_is_subset_of_real_non_neg: forall_{a, b in RealNonNeg} ([a,b) proper_subset RealNonNeg)"
      ]
     },
     "execution_count": 36,
     "metadata": {},
     "output_type": "execute_result"
    }
   ],
   "source": [
    "real_non_neg_interval_c_o_is_subset_of_real_non_neg = Forall(\n",
    "    (a, b),\n",
    "    ProperSubset(IntervalCO(a, b), RealNonNeg),\n",
    "    domain=RealNonNeg)"
   ]
  },
  {
   "cell_type": "code",
   "execution_count": 37,
   "metadata": {},
   "outputs": [
    {
     "data": {
      "text/html": [
       "<strong id=\"real_non_neg_interval_c_c_is_subset_of_real_non_neg\"><a class=\"ProveItLink\" href=\"proofs/real_non_neg_interval_c_c_is_subset_of_real_non_neg/thm_proof.ipynb\">real_non_neg_interval_c_c_is_subset_of_real_non_neg</a> (conjecture without proof):<br></strong> <a class=\"ProveItLink\" href=\"../__pv_it/theorems/df666eb7d52868ed4eed36c0bb794b805e2d6e100/theorem_expr.ipynb\"><img src=\"data:image/png;base64,iVBORw0KGgoAAAANSUhEUgAAAM8AAAAcBAMAAAA0BfbtAAAAMFBMVEX///8QEBCIiIhmZma6urrM\n",
       "zMxUVFQiIiJERETc3Nzu7u6qqqp2dnaYmJgyMjIAAAAcRTyBAAAAAXRSTlMAQObYZgAAA29JREFU\n",
       "SMe9ln9IE2EYx5/ddm673Tb/C4Tg7IdIf8ShCUpli8D/wkVR/SE4zKKwwlAbWYRBP6ZijATzrzoQ\n",
       "IsTaUVEUQaOCSmcsiBAxWEYKCiJBkAuk5713d7u7TdsJ9o7dbc/7vM/n/fF9njuAdW7M6/g6Exyn\n",
       "lNsUPF3L6EMWfPuPk2s7+CXGMocNWfHuvwbA/QKb7AhZBfkkS+4jV4FdAmcSxq2CKvBwF4IGk3c2\n",
       "sAppjk2DUwAnTjBFDF8L47jTALwuLnel1WhQyOciy9/66O/tSVyRTQBGBBgjhrnCQLxoiusTc0Hg\n",
       "40JsXw+ZR7lMzsgfAPciwCCZaVdhIJtsiuuX84Bc7jh0DSDnfSCjOoCL9Hx5uTDQXckUt15nmAiH\n",
       "wx0qqMYHXLXSsVnJo2rc0tHh4dsFauETmEDvsoY7H/QrqnEBS0XDJHB7oRS/vyORSwWCamlc966K\n",
       "EmqY2bRTBV0wbF2ozjiSLB3zt3uFwMqcRqa05IlQ0N6ob5GqblmKRSnILutBnjaTvBox1D7gUlp9\n",
       "WjB0fyGjezhNKjMKiNsIdmrypMEvUJBTL4YN4XnsjGDrUU83QFyYpOb0JnN/Vn5sGm912FOMn0xr\n",
       "U0B2JQeVZaQgFqegAT3ordhj2psYOvFJ3WzmyYa8rEwyPIySYAe3uYuhQ+39roBsXRALqmlUL1PQ\n",
       "fYO8dxw16xWd3KnDWcMS0enzYUDQJFkn26sHXVdAsTi8yqRREvZIebYu7nogmM4oipfuZrwMlf0g\n",
       "cX+WSQ4iRwLCB5bnDMAilKjuJylIhrOeqAIi50VBvKAHsaGqXNXBYyxYXAdWP4zfyYg+oKBKEbwt\n",
       "RjGUKiCX4D3PQwwVVJR0iaq85/UlCMaKgjkZiMLBYxXZVjIZwZsaUkD2E+0AVSZ500LANW0d2ALO\n",
       "TpxexbiWsPeapWxRDbpu/jGAqpUeiVQxhjycbAF76AiqUmD4W5/z1LqArjK8UCttxtBwI1OC8rVp\n",
       "TX5R1yTy/JJNLqJb52mQuEQi8Vbvbo/rQHETaLXGpbW5Rhv3w6DklCaAD9IzGs19e2GLs3E5wQLI\n",
       "qz3LHU2PdsMBmT2N0XtJwn6MD9XmDmjJxvWCBZDTKA2g9YrBM1phwEPsvWwcxMwWAJoy/qXJsVrz\n",
       "iGt6xTM/WL3/HvJkTSC7BP+v/QUj1OMHBHXniwAAAABJRU5ErkJggg==\n",
       "\" style=\"display:inline;vertical-align:middle;\" /></a><br>"
      ],
      "text/plain": [
       "real_non_neg_interval_c_c_is_subset_of_real_non_neg: forall_{a, b in RealNonNeg} ([a,b] proper_subset RealNonNeg)"
      ]
     },
     "execution_count": 37,
     "metadata": {},
     "output_type": "execute_result"
    }
   ],
   "source": [
    "real_non_neg_interval_c_c_is_subset_of_real_non_neg = Forall(\n",
    "    (a, b),\n",
    "    ProperSubset(IntervalCC(a, b), RealNonNeg),\n",
    "    domain=RealNonNeg)"
   ]
  },
  {
   "cell_type": "markdown",
   "metadata": {},
   "source": [
    "***Upper and Lower Bounds on Real Intervals***"
   ]
  },
  {
   "cell_type": "code",
   "execution_count": 38,
   "metadata": {},
   "outputs": [
    {
     "data": {
      "text/html": [
       "<strong id=\"interval_o_o_lower_bound\"><a class=\"ProveItLink\" href=\"proofs/interval_o_o_lower_bound/thm_proof.ipynb\">interval_o_o_lower_bound</a> (conjecture without proof):<br></strong> <a class=\"ProveItLink\" href=\"../__pv_it/theorems/2810e873927ff824c99762df187c2234b985b9980/theorem_expr.ipynb\"><img src=\"data:image/png;base64,iVBORw0KGgoAAAANSUhEUgAAAOAAAAAZBAMAAADanj8DAAAAMFBMVEX///8QEBCIiIhmZma6urrM\n",
       "zMxUVFQiIiJERETc3Nzu7u6qqqp2dnaYmJgyMjIAAAAcRTyBAAAAAXRSTlMAQObYZgAAA0JJREFU\n",
       "SMfVVk1oE0EUftnsNslmN7l40SKERqO0l9CiIKhEBcWDEi/tpdBS/1AkFH9aqK0ET6lSWBRqb64U\n",
       "WimFBD1IRXGJtyiaQ8FaUBbBg4oSioKtF2feZLOzW9PdQy8+WHbevG/mm3nvzZsB8JbzwxpsjojD\n",
       "o35gg7B5Mvm/E0aqzW0LjNCkvw8ehD5ATB5uYGvRkPAVbX/1IPQBYvJlA5tsIuEUdUTeg9AHCEVN\n",
       "uzqinzmljIQxHUApeRD6AKGEXOdHvcJ3PEBCtTI3d88raXyAUFwYYVTn1VgGs/R3oTDqmaXrQBGu\n",
       "LTVaSWrZ37mNafOXrei1XThM/KmkkfAswHijEvxoQsiDUAyrcdKEaMZSJsh3SIvVUJkes7rn4V3i\n",
       "BnGwiYRHWPoweVn/P9l9+hNP6ABZKY5Cl73PUq6T3WyHIKZXy7cGugJv9eMkgwaRMASCfVopSH7W\n",
       "VRUUqCQ4Qg5EzdBrB4bk0oylbAEIrkEIR87YhDoU0PU1JFSqIXvlq+RbWpgDQrhc5Qg5EDVTF9cl\n",
       "TvYa02zCQB6KWVTujtnzrnCEEbObOjxFT4y0ktJFepYoocERMlB5TyqLZtold+boxH1tF+3dE5cW\n",
       "DXgBrqQB6RdmCHMpjJ8ho69Ja5RnREjHgBF2pflaSkGCngtl0BwhXbPZPpr0u/QkRPvtpCmWIBfV\n",
       "nMfiqVCD9kbSwGMyOpiW6LThhGpOIzR47qqjeFOQBN+JK3CtJC26oIc2b8JHVK2cI1MMKc6DL/4J\n",
       "12hVDxqMME5iHCgJdJWBTLC/p1AoJATlzqKDMJ6ohxjNIgG3QoqFbS9IVgYfI74a2Dm5w1na5IH2\n",
       "JK38sSwjVMm+i1p4mfzieqDUwlwa7dV5QgoiUZcAzVIe5FWYINkDa4RZ7G9S2pwyy92HAa3vBEzp\n",
       "IX0JlCyLYcVw34f3FVNhZpl0bZV+ViO3YETNg2o0K94OKXOE4sCjA3CqJF0iQ2/Tg//GmD7oJpxZ\n",
       "LFeYGUYAjnYkq1IrdL8mwWmUmnHv64kXdh8IJEgb3Pho7rBixA6/rws4rLkJo5rvJ0aYfzbAc19P\n",
       "jPfr3jSq/zeNWJ8Yf3J6kx9Rw/94ly7wTtb9v0uH/gKeeuyYiczmaQAAAABJRU5ErkJggg==\n",
       "\" style=\"display:inline;vertical-align:middle;\" /></a><br>"
      ],
      "text/plain": [
       "interval_o_o_lower_bound: forall_{a, b in Real} [forall_{x in (a,b)} (a < x)]"
      ]
     },
     "execution_count": 38,
     "metadata": {},
     "output_type": "execute_result"
    }
   ],
   "source": [
    "interval_o_o_lower_bound = Forall(\n",
    "    (a, b),\n",
    "    Forall(x,\n",
    "           Less(a, x),\n",
    "           domain=IntervalOO(a, b)),\n",
    "    domain=Real)"
   ]
  },
  {
   "cell_type": "code",
   "execution_count": 39,
   "metadata": {},
   "outputs": [
    {
     "data": {
      "text/html": [
       "<strong id=\"interval_o_o_upper_bound\"><a class=\"ProveItLink\" href=\"proofs/interval_o_o_upper_bound/thm_proof.ipynb\">interval_o_o_upper_bound</a> (conjecture without proof):<br></strong> <a class=\"ProveItLink\" href=\"../__pv_it/theorems/8ed1fe87bda7b25295d46d46433a9c0268948c180/theorem_expr.ipynb\"><img src=\"data:image/png;base64,iVBORw0KGgoAAAANSUhEUgAAAN4AAAAZBAMAAACspI2IAAAAMFBMVEX///8QEBCIiIhmZma6urrM\n",
       "zMxUVFQiIiJERETc3Nzu7u6qqqp2dnaYmJgyMjIAAAAcRTyBAAAAAXRSTlMAQObYZgAAA09JREFU\n",
       "SMfVlk1oE0EUgF82u02yP8nFixQhtJAKFVxaVIpUA4KetPHSXgop/oJIKaIW0h6qp1QpLiLai7i2\n",
       "0EovXfQgBZUlHgrxhz0UrAVlERRUFBEPNgfxzUw2mWwbdw+9+GB3dua93W/2/cwMQLCcHTVgS0Qc\n",
       "HQ9jNgJbJrf/c17CaapaYjyXNO8CeCGMmDzYdFS+glNuMSjvBRn4EsALYcTk8+bDSR2hLuVNEy9M\n",
       "BPBCGFHRdP/Isxy5pyy8lSgvaQKoVgAvhBGVmL9w3vTQpg/fh/uUp5UXFu4E5UsIIyp+m44ya5ep\n",
       "U7M0P38Xi+OB+bnBKME9S7WndrxmMrd2pVmaLKer45/a9qODdMo7DTBZWwC+N+HxRlRs7+GYC0rW\n",
       "60whxNYuxGg+y/u84pD/mIsGaC7lHWKZw+R5tX288+QHntdgBNXkpkJm3eN1xrBvqhWRaodrAVcq\n",
       "kEqDMkJ5MRDqRfqVzOZJtyOoUE5zPM6IqGGwnur41Tmvsw3VEGeJLNd5URcWbZB+UJ7qxOrzXsdr\n",
       "dWkBkLfmcDzOiKiJf6uSwn9JGnUekF9hIa75E8uvz/J4Cbcfh2YzH0nkf2ZMkdQQ4dkcjxmV9mRy\n",
       "VE2G5K5hUlv5tnP1fx8jt3zO84SXLykHDpogMn/C5ClUXZIqBFMQ9CQwXrfOr5/ESDCHY1mqTuDQ\n",
       "fC5PqqrDbAdlqJ4virkbDRvrIZWVd4CXL/AIX47qEvlqPK25s5QXPXOxYb0mRhJ8Q0fQPMYQdcMA\n",
       "ebwK72nXS7c+6wbc9dV7ixPHyUdtxiP+jlgCmWMkGx0aKBaLaUG9udLAY0HB8FK1iMatkGEh2wuS\n",
       "l7tHMHfaZnod33omd70iUcwxnoZ/v2jE17BJmRGrhflTGTR5HjHCiEtA1dIEyOswhYkDFQSLQ83W\n",
       "M17muf0vYuSPwrQZM1dBzbH4lW3//ndPdVWmlnFou/TLSVyDgjYBmt10veakxPHEEw974bglncc3\n",
       "r5N6f23PHvDz5lZKZaaGAsDhznZHaoX+lxiZ2gIz2RxX3Y94YQUqYID+sb9Tdae3crD6CthvqcQN\n",
       "P08xQp8n4vwhAZ6GOU+83XB+0cKfX8Tqd2kj61t7Xhrd5Py5xHvYDH3+vPwXx3Xuld4CS2oAAAAA\n",
       "SUVORK5CYII=\n",
       "\" style=\"display:inline;vertical-align:middle;\" /></a><br>"
      ],
      "text/plain": [
       "interval_o_o_upper_bound: forall_{a, b in Real} [forall_{x in (a,b)} (x < b)]"
      ]
     },
     "execution_count": 39,
     "metadata": {},
     "output_type": "execute_result"
    }
   ],
   "source": [
    "interval_o_o_upper_bound = Forall(\n",
    "    (a, b),\n",
    "    Forall(x,\n",
    "           Less(x, b),\n",
    "           domain=IntervalOO(a, b)),\n",
    "    domain=Real)"
   ]
  },
  {
   "cell_type": "code",
   "execution_count": 40,
   "metadata": {},
   "outputs": [
    {
     "data": {
      "text/html": [
       "<strong id=\"interval_c_o_lower_bound\"><a class=\"ProveItLink\" href=\"proofs/interval_c_o_lower_bound/thm_proof.ipynb\">interval_c_o_lower_bound</a> (conjecture without proof):<br></strong> <a class=\"ProveItLink\" href=\"../__pv_it/theorems/a976af09f6e5c2e34afba4ba106bfab80822a86d0/theorem_expr.ipynb\"><img src=\"data:image/png;base64,iVBORw0KGgoAAAANSUhEUgAAAN4AAAAZBAMAAACspI2IAAAAMFBMVEX///8QEBCIiIhmZma6urrM\n",
       "zMxUVFQiIiJERETc3Nzu7u6qqqp2dnaYmJgyMjIAAAAcRTyBAAAAAXRSTlMAQObYZgAAA0VJREFU\n",
       "SMfVlk1oE0EUgF822SbN/uTiRYsQGo1SL6FFQVCJCooHJV5aD0JDtYoioRTbSK0lCEKqFBaF2psr\n",
       "hVaKmKAHqSiGeIuiORSsBSX4BypKKAq2Xpw3k92dTY27Qi8+CDtv38t8O++9eTMAznIyrcGqiC89\n",
       "7MatD1ZNxv9vXnO5sW2W8Sr4eO3Ac+FE5dZfbE0a5T3F8WcHngsnKp/qdGHAGgcrlDeBYcg48Fw4\n",
       "oSgxu367n9eKlKfqAHLegefCCcVv3zfXLtjUm5SnlGZmrjvViwsnFLvL+Be7VY3T+vyZzQ471me9\n",
       "0zluJaI5imDYd7Svo8qR92bmWk/tIcGUY5TXCzBqNoBvDXi8E0rSGByqgBQ3lDHy262pVRwHLllp\n",
       "hJfhEZLdCuXtZZXD5EnteX/zsbc8z+bE8/CjtxvKebKW9eClhSX068brErzQDwBIfZTnB8HapRjy\n",
       "4MOOsiBDKczxOCc0WzyVVNGUoawB8C6Dn/1RGTaAOmRp3KuUJ5f91ncvkd/87AwQ3kKZ43FOaLZ4\n",
       "IZJIVbN4ngzkEkyT3plJXuR4zZVOokxGP+Crxajuw02EvALHY07FrdEENRNesD2F83a3nraWTuKZ\n",
       "K8Bjsxo+1sjiD6qyeMLocRKkAXEZMUNCTAXG64jx/ROdBD3lj6u1/E0nujFem/QISEmrXnJ5SEnG\n",
       "usQsLaUHQhXazHqBe2Q+b0zEWQNhpTJJed4TZ239Gp1E+EoCUeN1QBcOLsIb8GWsaiMzDMpW/+7F\n",
       "df0KVLGRewuMFyL59eQF/EhP3JvsymazYUG+OmfjhcK19FIz4bVAlKVsG4hG6e4ngerZOL7Bvp2C\n",
       "PW0R7PVqgvEUEpecFlggj5DuyTexeEpHdZ6HTiTjIjSx9QWXYIzUDSwTsC/5535WJ9Pc+efRug/C\n",
       "hO7X50FOsPyVCvXn3w25IjMzWd9a8Xu5+TIMKRlQCg36tV2KHM/Xc3cnHM6LZ8hfr+B+f16Y3FXP\n",
       "m5orlpiZ8PZtiZTFFuh8RhJjNhiuB91Jo6w8j3hhJ4CACWp8vgssf2yLsT3v6rwNaPU8SXN9n0hy\n",
       "dwR45Oo+8WrF/UWBf+XR6YOxVb4vpVfeP0e4N4Lu/v45+BuBze8vX21mywAAAABJRU5ErkJggg==\n",
       "\" style=\"display:inline;vertical-align:middle;\" /></a><br>"
      ],
      "text/plain": [
       "interval_c_o_lower_bound: forall_{a, b in Real} [forall_{x in [a,b)} (a <= x)]"
      ]
     },
     "execution_count": 40,
     "metadata": {},
     "output_type": "execute_result"
    }
   ],
   "source": [
    "interval_c_o_lower_bound = Forall(\n",
    "    (a, b),\n",
    "    Forall(x,\n",
    "           LessEq(a, x),\n",
    "           domain=IntervalCO(a, b)),\n",
    "    domain=Real)"
   ]
  },
  {
   "cell_type": "code",
   "execution_count": 41,
   "metadata": {},
   "outputs": [
    {
     "data": {
      "text/html": [
       "<strong id=\"interval_c_o_upper_bound\"><a class=\"ProveItLink\" href=\"proofs/interval_c_o_upper_bound/thm_proof.ipynb\">interval_c_o_upper_bound</a> (conjecture without proof):<br></strong> <a class=\"ProveItLink\" href=\"../__pv_it/theorems/7bd52a646115d368730bd715b9d6342a46c599a30/theorem_expr.ipynb\"><img src=\"data:image/png;base64,iVBORw0KGgoAAAANSUhEUgAAANwAAAAZBAMAAACoUV21AAAAMFBMVEX///8QEBCIiIhmZma6urrM\n",
       "zMxUVFQiIiJERETc3Nzu7u6qqqp2dnaYmJgyMjIAAAAcRTyBAAAAAXRSTlMAQObYZgAAA0NJREFU\n",
       "SMfVlk1oE0EUgF822STd7CYXL1KE0EIqKBhaVIpUA4KetPHSXoQEf0GkFFErbZHqKVWKi4j2Iq4t\n",
       "tNJLgx6koBLioRB/2EPBWlAWQUFFEfFgcxDfm8lmJ9uGXaEXH+zO7ry3+828n5kB8JbTQzpshISG\n",
       "Rv2YDcJGye3/GtdiNlUtcJxFzTsPnA8jJg/W7VWu4IDDOsO9oI4vHjgfRkw+r98dTyPTYrhJ8sGY\n",
       "B86HEYmWdvc8y9I9UcRbmeHiBoBa9MD5MCKJuAvmTTdrevFzuM9wWmVu7o5XqvgwInGbdFR4u8g8\n",
       "mmGZ+btQGPXMTLfRJWEecv2pHa+p1K3tSZ4hi8la/6e2PeidNMOdBBiv1/33JjjRiCRvPxy2IJax\n",
       "XyaQUdLORVgiK7vtqlD+GPM6aBbD7edJw+V5rX289fgHEddgJOJozN32ywi+G2o1xKY+UI91rAqJ\n",
       "JMQGGS4CklOcX2kwT7pMSYVKUsAJRqR2cHH86Yz9sgm1EOUZrDi4oAXzJZB/MJxqRpxRr+K1vDAH\n",
       "iFsxBZxgRGoHl8CZxHUHBzQRvsLUnYll11u0cS1WH3ZNpz5S1H+mjBAVD+FKAo4blXemskyNOKVz\n",
       "gGoq13bGmfgI3XJZ2w12qiRM2GdAiDsTxk+g6oJcJcqwlI4Dx3WlxTWTjCRjIJKJ12I3m81RNXUY\n",
       "7RDLO6kSM3agXWMhJDLKFrBTBR7h74JpmX4aTWrWNMMFT51vWKLJSIZv6IYargv66eEqvIfQmJNo\n",
       "vcUbcNdV5mEzikMPljiOnB0oSjTEQCaY7y8UCklJvbnUgOMRwdAyNeJaIcXDtQtkO2kPYtq0TfWY\n",
       "rkVM6XxFEcxynIZzn9ejK9gkjEAxzJ0ZO2qIODLCaMsQ5rNTVmECUwaqyA3lmy1ioswK+11Azx2C\n",
       "SSNiLIOa5bGrlNz73T3VUrkaZ7dZ/mW2XINhbQy0UtMlWpCygAsde9gDR4ryWfzyOpX569L0Xjdu\n",
       "Zqlc4WrEHdjWbsqt0PcSo1JfVsab02obkCi8MCUKTvPdXOKx4+sFryuP7ZVJVHfjYrrvw0NeOBHA\n",
       "Uz+Hh7drzioa/CuO/V1Jb+zRaGjtOfOy0FOvau9z5sW/E/7uwRWXz6sAAAAASUVORK5CYII=\n",
       "\" style=\"display:inline;vertical-align:middle;\" /></a><br>"
      ],
      "text/plain": [
       "interval_c_o_upper_bound: forall_{a, b in Real} [forall_{x in [a,b)} (x < b)]"
      ]
     },
     "execution_count": 41,
     "metadata": {},
     "output_type": "execute_result"
    }
   ],
   "source": [
    "interval_c_o_upper_bound = Forall(\n",
    "    (a, b),\n",
    "    Forall(x,\n",
    "           Less(x, b),\n",
    "           domain=IntervalCO(a, b)),\n",
    "    domain=Real)"
   ]
  },
  {
   "cell_type": "code",
   "execution_count": 42,
   "metadata": {},
   "outputs": [
    {
     "data": {
      "text/html": [
       "<strong id=\"interval_o_c_lower_bound\"><a class=\"ProveItLink\" href=\"proofs/interval_o_c_lower_bound/thm_proof.ipynb\">interval_o_c_lower_bound</a> (conjecture without proof):<br></strong> <a class=\"ProveItLink\" href=\"../__pv_it/theorems/bee15c21c9e00381ec91c27a5f138f7380d77dbe0/theorem_expr.ipynb\"><img src=\"data:image/png;base64,iVBORw0KGgoAAAANSUhEUgAAAN4AAAAZBAMAAACspI2IAAAAMFBMVEX///8QEBCIiIhmZma6urrM\n",
       "zMxUVFQiIiJERETc3Nzu7u6qqqp2dnaYmJgyMjIAAAAcRTyBAAAAAXRSTlMAQObYZgAAAzBJREFU\n",
       "SMfVlk1oE1EQxyebbPO1m1y8aBFCo1HqJbToSaUqKB6UeGkvhZb6hSKl+NFCbSV4SpXColB7c6XQ\n",
       "Sikk6EEqgiG9RdE9FKwFSxA8qCihKNh68c28bPbtts3uoRcHNvvezn/fbzMz7wPA3S4PabAtFhga\n",
       "8SIbgG2zif+bFza29s1zXgVvn1x4HkRkTxv4mjTivcH2NxeeBxHZ1wa+SIV4kxiGrAvPgwhNTTse\n",
       "RL8InRLxYjqAUnDheRChBR3zRr0hPnhCPLU8O/vIrV48iNAcEmlEF7uxDqrPP7nciGt9bhCFhfaK\n",
       "GcYkOg637eK9uetm5lquHGfBVNLEuwgwVl8Afm7BE0VkRbNxlpWBmdlxdh3TYlXqTI2akjn4kLjD\n",
       "olsh3gleOdwWavcX+89/Fnk2kVncZPjVJu82+y+7wU/dpu91cRne66dZ8QwQLwiSNUtRFHnVbkgK\n",
       "lBMCTxChG7qtrBQs3g4A/zoE6cVpi6dDDm9ylXiKEbS+e41dS/OzwHjLhsATROjG+NYsrtl4vizk\n",
       "M9R5OGoNuyrwwpVOjHYKp4q8mtIDmH3kFQUeF5UOpjLkxkeRtn4cuKflqhjPfBFeg6NeQP5NxcHj\n",
       "CWMX2Mu35HXEDEvpGHBee1pcP1Ek6f3BDnKH2aOZTA+W+z49KdZLvgD9Uc0+H15KVWit1ws8Zy/7\n",
       "0zKOGkqolSmS+i/dtK3XKJLhBwsEfSojtEMXNu/CSp23QCMMKvb5HvgbquJC7i9yXpzl11eQelnT\n",
       "1+Hv7crlcglJebBo48UTtfSSO8DEzZDiOTtU551igerbO7HHvp5F+lqTuNbHMpynsn+d10LL7BbX\n",
       "fYUmHs9oty7yUMQyLgO55SxE1mCcFQ6sM3B2i/XMbjPC/ufTes7ApB7Ul0DJ8PyVi87977FSUbg7\n",
       "wh7tlH8Z4XswrGbrvA3rtc1KAi/Q9+wInCvI1xjkPs73d8Wpo07e9GKpzN0wDHDyQNKQm6HzrTUf\n",
       "HGvQpvuRaHwHkFiCGuzv5D5gJoh+s17225Dm5EU1z+eJkHhIsHiNzhMfN5xfVO/nl0BtYMPO257z\n",
       "0tAm58/5zfYj9/Pn4D9bmu4mixyLYAAAAABJRU5ErkJggg==\n",
       "\" style=\"display:inline;vertical-align:middle;\" /></a><br>"
      ],
      "text/plain": [
       "interval_o_c_lower_bound: forall_{a, b in Real} [forall_{x in (a,b]} (a < x)]"
      ]
     },
     "execution_count": 42,
     "metadata": {},
     "output_type": "execute_result"
    }
   ],
   "source": [
    "interval_o_c_lower_bound = Forall(\n",
    "    (a, b),\n",
    "    Forall(x,\n",
    "           Less(a, x),\n",
    "           domain=IntervalOC(a, b)),\n",
    "    domain=Real)"
   ]
  },
  {
   "cell_type": "code",
   "execution_count": 43,
   "metadata": {},
   "outputs": [
    {
     "data": {
      "text/html": [
       "<strong id=\"interval_o_c_upper_bound\"><a class=\"ProveItLink\" href=\"proofs/interval_o_c_upper_bound/thm_proof.ipynb\">interval_o_c_upper_bound</a> (conjecture without proof):<br></strong> <a class=\"ProveItLink\" href=\"../__pv_it/theorems/00159ffc1c3486d767c91c76442cabb7d0a50e480/theorem_expr.ipynb\"><img src=\"data:image/png;base64,iVBORw0KGgoAAAANSUhEUgAAANwAAAAZBAMAAACoUV21AAAAMFBMVEX///8QEBCIiIhmZma6urrM\n",
       "zMxUVFQiIiJERETc3Nzu7u6qqqp2dnaYmJgyMjIAAAAcRTyBAAAAAXRSTlMAQObYZgAAA1FJREFU\n",
       "SMfVlk1oE1EQxycf23ztJhcvUoTQQipWMLSoiFQDgp5s46X1UGjxE0RKETVQe4jiIVWqi4j2Iq4t\n",
       "tNJLFz1IQSTEQyF+sIeCtaAsgoqKIuLB5iDOvLebvE3T7h56cSC7mzf/t7+3M/M+ANztdE6FjbBg\n",
       "btSLbBg2yu7817iIsaZrnuNMur1zwXkQMXvYsDV6GQfcpDLcC2r46oLzIGL2pb6hLUvXeBqZJsNN\n",
       "UAzyLjgPIjIlXfdZC0l2T+h4KTFcXAOQdRecBxFZyDlhIrutVPZgd3jAcEp5dvauW6l4EJE5JZEh\n",
       "e4ALLKIZVpl/CoVR18pcJYoIz+/tGLbibzJ1ezsLoXQjYws+tezF6KQZ7iTAWHXe/1gDJ4qYFe2H\n",
       "biwBO6vjmK6ici7ECrmQrabwrzangmIy3AFeNNyeW/cnW49/EHEOEVhlzYwGbeMu4V9NrgSZs22b\n",
       "LYlVIJGE2DDDhcBfm5zfaDBPOw2/DOWkgBNE5Ib+ao+4XsNtQi+E7X9vytZDwIS5Ikg/GU42QrVR\n",
       "r+BvaX4WELdsCDhBRG4KrmUJ1YED+hDLnu2xRpSGHt3GRcxebJpKfaT0/kppQUo84YoCjotKO1NZ\n",
       "5qamaMcQZWeg5YwYTGyo5gy6+agSBuzXIMiDCWMnsO8FqUKUEX86DhzXmRbXTBL5taFQhrkj2DST\n",
       "HaDp1Ka1iqUS03agzu559CrDZaJbwC4VeIx9A2mJXhpOKuYUwwVOnXcs0SSS4DuGgVUwAjqhjx6v\n",
       "wPsqDgutR78J94QtgD61yQjj0ANFjqNg+3T/ID76MoHBvkKhkPTLtxYdOJ4RTC1zB1HcDCmer11V\n",
       "3CGA6ZbJrvptIdrxijKY5TgFv31ODS/jLaH59CYezFi/JuJIhNmWgLmlPERXYBxrBirIzTdexJw2\n",
       "I+x3PnXgMExoIW0J5CzPXblYv9/dl02Zu6PYtFn6bUSuwYiSr+Lql2iHlQRc8NijLjiiS2eRcZ2m\n",
       "+evi1L563PRiqczdMAJwsL3VkJqh92VtIogrT/Rzjqy2tJirdnO+pPoxOevs5szdbi8Y7Jpff3tl\n",
       "FlbrcTHV8+EhLB4Jarh1Dg9vV51VFO9nlaD1XsOJ25CjUa7BOXO+0Qbkes68+A80qvH49IWqnQAA\n",
       "AABJRU5ErkJggg==\n",
       "\" style=\"display:inline;vertical-align:middle;\" /></a><br>"
      ],
      "text/plain": [
       "interval_o_c_upper_bound: forall_{a, b in Real} [forall_{x in (a,b]} (x <= b)]"
      ]
     },
     "execution_count": 43,
     "metadata": {},
     "output_type": "execute_result"
    }
   ],
   "source": [
    "interval_o_c_upper_bound = Forall(\n",
    "    (a, b),\n",
    "    Forall(x,\n",
    "           LessEq(x, b),\n",
    "           domain=IntervalOC(a, b)),\n",
    "    domain=Real)"
   ]
  },
  {
   "cell_type": "code",
   "execution_count": 44,
   "metadata": {},
   "outputs": [
    {
     "data": {
      "text/html": [
       "<strong id=\"interval_c_c_lower_bound\"><a class=\"ProveItLink\" href=\"proofs/interval_c_c_lower_bound/thm_proof.ipynb\">interval_c_c_lower_bound</a> (conjecture without proof):<br></strong> <a class=\"ProveItLink\" href=\"../__pv_it/theorems/c8f3f9de5df5a4c1a5cc2c7dbc18816a11bd5ad70/theorem_expr.ipynb\"><img src=\"data:image/png;base64,iVBORw0KGgoAAAANSUhEUgAAANwAAAAZBAMAAACoUV21AAAAMFBMVEX///8QEBCIiIhmZma6urrM\n",
       "zMxUVFQiIiJERETc3Nzu7u6qqqp2dnaYmJgyMjIAAAAcRTyBAAAAAXRSTlMAQObYZgAAAzJJREFU\n",
       "SMfVlk1oE0EUgF823SZNdjcXL1qE0GiUegktelKJCooHJV5aD0JLtYoipRTbSK0lCMKqFBaF2psr\n",
       "BStFTNCDVARDeouieyhYC5bgH6gooSjYenHeTHZ3dvuzK/Tig83My3vZL/PemzcD4C1nshqsh9Rl\n",
       "h/y49cJ6yej/jGswVrdNMVwFh3ceOB9OKPfXsNVrFPcC5189cD6cUL64dKHfnkcqFDeGQch54Hw4\n",
       "EZFTTv1BH6+VKE7RAaSCB86HE5GQc7/cuuxQ71KcXJ6cvO1VKj6ciDg9Rr85rUqaVuZvVR3yrEy3\n",
       "00VuIfNmDBMY8t0tm6hy/KOVtaaz+0kkpRTFdQNcs/b9j1VwvBNKpzk5SirATOoIefZpShXn4at2\n",
       "CuFNfJhktkJxB1jRMJmujU+2n3zP4xxOPA7/s4m7RFayGYJUFfp006UMr/XDANFeiguBYO9OjHfk\n",
       "WashSFCOczjOCc02TinYuA0AwSUIsd/JQyZPBxUHsUpxkhGy//UieWanJoHg5gwOxzmh2cbFNAcu\n",
       "kIN8hmnRD1Z+FzhcQ6WNKOPJT/jVQlKvw8wjrsjhmFNpZzJDzQQXaenB93Y0neODmS/Cc6sQPtfA\n",
       "4i+qsmDCtVMkQv3iElIGhZQCDNea4nsmOgl6Tyit1HI3kenAaG3TE3yp5AvQEzVXJappHJ4KVWi2\n",
       "SgUek9cFUyK+NByXK+MUFzx9wdGi0UmE7yQMNVwrtOPkCsxbuGn6ggHJbtnduKo/4Sr27mCR4WIk\n",
       "t4GCgOkIpIOd7aqqxgXp5owDF4vXUkvNBNcISZavXRbuEIlS19bRLc5tFOlqTmB3VzIMJ5Og5LXw\n",
       "HBlieqBQz4IZPaHzOHQi2Rahnq0usggjpGRgiXBzKzcxl0xw511A6zgCY3pInwUpw3JXLrrPuztS\n",
       "RWJmsrqN4k+j4ToMyjkL527RTilxuLquR3vgWEE8Txg3cJu/Ko7vdePuzZTKzExwB3ckDLER2l7a\n",
       "G4FvPA+zKMsPIF5YzxcwOauf5gLLHdtb9DPn53gNa25cVPN9eejkbgQ2bq3Lw9tldxUZ/hVnOHHr\n",
       "czXKLr9nDq90AHnfMwf+Ah6V8L3rkFnYAAAAAElFTkSuQmCC\n",
       "\" style=\"display:inline;vertical-align:middle;\" /></a><br>"
      ],
      "text/plain": [
       "interval_c_c_lower_bound: forall_{a, b in Real} [forall_{x in [a,b]} (a <= x)]"
      ]
     },
     "execution_count": 44,
     "metadata": {},
     "output_type": "execute_result"
    }
   ],
   "source": [
    "interval_c_c_lower_bound = Forall(\n",
    "    (a, b),\n",
    "    Forall(x,\n",
    "           LessEq(a, x),\n",
    "           domain=IntervalCC(a, b)),\n",
    "    domain=Real)"
   ]
  },
  {
   "cell_type": "code",
   "execution_count": 45,
   "metadata": {},
   "outputs": [
    {
     "data": {
      "text/html": [
       "<strong id=\"interval_c_c_upper_bound\"><a class=\"ProveItLink\" href=\"proofs/interval_c_c_upper_bound/thm_proof.ipynb\">interval_c_c_upper_bound</a> (conjecture without proof):<br></strong> <a class=\"ProveItLink\" href=\"../__pv_it/theorems/d1e745797450028c0a776e85e10104c091f00d630/theorem_expr.ipynb\"><img src=\"data:image/png;base64,iVBORw0KGgoAAAANSUhEUgAAANoAAAAZBAMAAAClTy3yAAAAMFBMVEX///8QEBCIiIhmZma6urrM\n",
       "zMxUVFQiIiJERETc3Nzu7u6qqqp2dnaYmJgyMjIAAAAcRTyBAAAAAXRSTlMAQObYZgAAA0FJREFU\n",
       "SMfVlktoE1EUhk8mmeY5ycaNFCG0kIoKhhYVkWpA0JVt3LQuhBa1CiKliBqpRaK4SJXqIKLdiGML\n",
       "rXTTQRdSEAlxUYgPZlGwCpZBUFFRRFzYLMRz7s1k7kwfE6EbD8zr3j/57j3/fQF4x4mcCmsQgdxQ\n",
       "PbIBWKO4/R/TwsaKVTOcZtLjnQetDhHFg2VLI5ewuQ0qoz2ngi8etDpEFJ/dBS1ZusfTiDQZbZQy\n",
       "kPeg1SHCUNKuTs0m2TOh463EaHENIKZ70OoQYQSdEyW8o2pjJ/4a7jOaUp6auuM1SuoQYTgV4X6r\n",
       "ebMsnRk2Jn8XCkOeY9ItOi90Y8FKYDNeY6lbW1j+5OsZS/CxaRemJs1ofQDDten+fQWaKKLotV46\n",
       "0H3L0BG0qqicDrIRXMjW7PujTaugmIy2l48XHs+qz8cbj74XaQ6RSKMmW7QL+KnFKgHW75ZNliRa\n",
       "gUQSogOMFgTJnpRfqS1P2gwpBuWkQBNEVG3T4rpNW4eVELK+XperL34Tposg/2C0mBG027yI1/zM\n",
       "FCDtrSHQBBFV27SE6qABdaMaT3dWG5SGTt2ihc0uLBpPfSBrf6a0AJlOtKJA46LStlSWVSMt0tpP\n",
       "zvQ0nRQziQU1v6CjjzfIgD0aBHgmYfgYZuCsXCHIoJSOA6e1pcV1kkSS1h/MxKu+TWZ7aBq1aM3i\n",
       "KIlqW1Fm/fDQFUbLRDaANUrgEf6bPy3Tf4aSijnOaP7jZxyrMolk+IZJqNLaoJteLsNCjYZDrFO/\n",
       "AXeFRZ862mCEsOH+IqdRpn26RFb4Mv7e7kKhkJRiN+ccNG4H2sqqkdYIKe7V9hptP8BE01i7eyOI\n",
       "tL4k97KcpmDPp9XQW3wkNJ/ewDMZPayJNBKh0zI08L5FFmEERwtUEJtffuVyxqSwv/nUngMwqgW1\n",
       "eYhluW/lont/uxczY7wa+7Ze/mWEr8Kgkq/R3KuyI0oCLXDkYTsc1OVTiLhGs/tVcXy3mzYxVyrz\n",
       "aqTt29xsyI3Q9cKeAeJyE/mUo7AXFHPJ3s2XUYmMWXnvlrhvfJlg9/zquymLkOqmRdW6Twq9wv5v\n",
       "01Y5KbxZci5R4F9phpO2Jqeg3NLz5MXldhzP8+S5v2zt8iSMFqOYAAAAAElFTkSuQmCC\n",
       "\" style=\"display:inline;vertical-align:middle;\" /></a><br>"
      ],
      "text/plain": [
       "interval_c_c_upper_bound: forall_{a, b in Real} [forall_{x in [a,b]} (x <= b)]"
      ]
     },
     "execution_count": 45,
     "metadata": {},
     "output_type": "execute_result"
    }
   ],
   "source": [
    "interval_c_c_upper_bound = Forall(\n",
    "    (a, b),\n",
    "    Forall(x,\n",
    "           LessEq(x, b),\n",
    "           domain=IntervalCC(a, b)),\n",
    "    domain=Real)"
   ]
  },
  {
   "cell_type": "markdown",
   "metadata": {},
   "source": [
    "***Translating Boundedness to Interval Membership***"
   ]
  },
  {
   "cell_type": "code",
   "execution_count": 46,
   "metadata": {},
   "outputs": [
    {
     "data": {
      "text/html": [
       "<strong id=\"in_IntervalOO\"><a class=\"ProveItLink\" href=\"proofs/in_IntervalOO/thm_proof.ipynb\">in_IntervalOO</a> (conjecture without proof):<br></strong> <a class=\"ProveItLink\" href=\"../__pv_it/theorems/fc51886dd255993aabea604a7fb64229fbc14f440/theorem_expr.ipynb\"><img src=\"data:image/png;base64,iVBORw0KGgoAAAANSUhEUgAAAQUAAAAWBAMAAAA7jZQjAAAAMFBMVEX///8QEBCIiIhmZma6urrM\n",
       "zMxUVFQiIiJERETc3Nzu7u6qqqp2dnaYmJgyMjIAAAAcRTyBAAAAAXRSTlMAQObYZgAAA5FJREFU\n",
       "SMe9Vk1oE0EUfvnZ/G6SSy9aCqHRKNVDaFEE/6KCYqk29dD2IKRUKypaeqgWW5Eo/qRKYfFQexFX\n",
       "Cq2EQoIepEUwxIMQtQYsWAtKEBVULKEo2Ajim5ndzWwSacHUgTcz72Xy5pv3vjezACvRbpe12jNF\n",
       "hklFskR5W1kIjkhZ8z1+ycUeAIvE5BmxfKksBrdU1vxZtyaAQLJMRkiQIpXF8Kqs1RXgNU8CuxQT\n",
       "twwgJiqL4ZxOm+3rowm36qLTjPvCXSaudCx2q7IQ7D281l6nTPS7PKUJCTL5GY2erywGI0l17Ynd\n",
       "KUo+jWs+Am9b/WqmfardigkIMOkCGFSXmef/5je45M4Hs+rMhjU4Aa+9F4hi0TIwhLJLcudYXfyW\n",
       "4xK48D9E9lBqKu2J3u/D9Ufes5metY0lCBrpeVizIr3S8FLeTwFpSwZw5xowMU/OPHi84MSsEbGC\n",
       "sXB3fOUq+FFDxihC2luKob2jGAJa3BqxDRg0GaJMaZnHRg9ZBWDKg5X5M2UhngQBg0JEzFgLvhY5\n",
       "Ok/GADHMZUowDA8WQyAWj8RjAFhgyoi2CDEYIhAPqddDc0LDYM+2om3U/xF7YcFPSia1yR8yk9AS\n",
       "DMkCBkd9N3oYvYJT0XeoSxuoJVx7kssFCD8UQHwu8OiPleshAztlMGMeiMDgUfR+RsiTPfsJp41y\n",
       "tzXoBoahIVDAMB4KyzDxgUzrLNledWCWdbKP4+SUMQe0KE1ejpPxBHQ7abw8QeSGxkl4gEBMAYHA\n",
       "sXmJRYBveDaKwXSsl+NkA7SBUEP1kDujDorlErxTNkN2mn/ZcsoTNcDxHf2fFSGOe1gyNjycKcmE\n",
       "8BMMCWMHzaSpQ6FFWzQa9RrFmzMchmrwA0yzMlXSTwZmqYLNaoX3gKOzzqc8hGOXZTbZh+HuXDu8\n",
       "Bqz9JK0vCCtCTMCFa+KSbQ4Hj2ygucwJYGG5cB6WNQyORRiKgWMLZVUYtIFZ8gix7F3ddK34rp5S\n",
       "J+OKMOZI4QMwIlvlWezviFkRxBDjQ5rj5CrhO8bXflwCe24akvbrdGAW6HdFlvtmJdWJ8mYp4eu8\n",
       "vx1aEsKpJPZjM6k0wA1yR00nR3cUMOzd4CM5tl+VHKebNspCNR2YBVqfa7vZyr/dakk7VJqqbzff\n",
       "ElwPRuRD4SfdHSUo3pwllmV9w7h4rEV4WdU4yx6irNfJf/yWe6MInzA9yqUxZOC/tsAK+v4DCqED\n",
       "YATGuI4AAAAASUVORK5CYII=\n",
       "\" style=\"display:inline;vertical-align:middle;\" /></a><br>"
      ],
      "text/plain": [
       "in_IntervalOO: forall_{a, b, x in Real | a < x, x < b} (x in (a,b))"
      ]
     },
     "execution_count": 46,
     "metadata": {},
     "output_type": "execute_result"
    }
   ],
   "source": [
    "in_IntervalOO = Forall(\n",
    "    (a, b, x),\n",
    "    InSet(x, IntervalOO(a, b)),\n",
    "    domain=Real,\n",
    "    conditions=[Less(a, x), Less(x, b)])"
   ]
  },
  {
   "cell_type": "code",
   "execution_count": 47,
   "metadata": {},
   "outputs": [
    {
     "data": {
      "text/html": [
       "<strong id=\"in_IntervalCO\"><a class=\"ProveItLink\" href=\"proofs/in_IntervalCO/thm_proof.ipynb\">in_IntervalCO</a> (conjecture without proof):<br></strong> <a class=\"ProveItLink\" href=\"../__pv_it/theorems/f28744a47b70d54ec5c6c82d990a739695d4f04e0/theorem_expr.ipynb\"><img src=\"data:image/png;base64,iVBORw0KGgoAAAANSUhEUgAAAQMAAAAWBAMAAAA2k+RkAAAAMFBMVEX///8QEBCIiIhmZma6urrM\n",
       "zMxUVFQiIiJERETc3Nzu7u6qqqp2dnaYmJgyMjIAAAAcRTyBAAAAAXRSTlMAQObYZgAAA1tJREFU\n",
       "SMe1Vk1oE0EUftnNZvOzSe6CEKpW6aGEFkHwL+pBBKXpRXsQLPUHC1J6UItVpELVFC+Lh9qLOFKo\n",
       "UAoJeugPoiEKQsS6YMFaUEJRDy0toSBoBfHNz2YnyfbnkA68nZ3Z781++943bxZgK9pjt8nGHxUT\n",
       "k8IKdPC1tgyCfW6zb2XEnW4An8ntPZ1ZqC2FiLkRBYjEkUeB2xCOA321pfAJNqQQzeAlxy1CAIxM\n",
       "bSncKBvN9vQUqii04GvhKbdwfnT0UW0ZBLrlUVuDWxTesWwkuP1OpW7VloJC81zXeTTHhLcgJSJw\n",
       "oGkbH/ys24/Rj3O7CDBgo7zLay2b2PDFjq/fAhiDz7HbdOAzJQpHzEiR74h/JG1CGBNE7RhTpWhv\n",
       "ypcd33N+nt+VC3aimgBxfHWUVh4+khOMjyTH4HZQ+UKhVYjGIIQZo6aDYpVgi9LWfdlsKQbkY9UU\n",
       "XsUqGWj3JF8PhoxAig9al7EJOaqroHNXtQDpLGgYEmqGpTtL/ZGEPDkKSGHOqqLwzaoS4GVT8vWw\n",
       "rK3wwZAUBU8fpJN2WWjJlCgECqdxbrielk9tpZ5ultze+qQ3ToWFFLISBYZqZAwoxu6C+5IlX5EI\n",
       "0H4JPhIF/PDXoixYcJiAF5NADQYuYNSvaav0lb1UzQrp0hMR4BSa4w4FhjrOigjDiC44nSj52nKc\n",
       "UorAdqMakyhkoCvE5BlNoC5KcoQXyEONa5SNP0ZnNFjCD2YvUi9dleTIUGP9LPkUI7pWFhbuSxvu\n",
       "M+9ffzHA83XToYCQ6wakEeaz/MhXzXKj0gRPRmlnWVTbhSTOpFKpmGI8nJEocNTYA1k22BnfQfJl\n",
       "sQ12NOwQZ99IPyntiI5dgztB78V4Nn2gikhygzBC0qZ/Drso8bA8FjXw8USEzhKHgkApiwJjd8N3\n",
       "oeRbXaBP3q8o0FP2zTNhXDTmuVMwRHQyi9cnRsEAI8m1kJfkyFCU9BIwjIACDGJxo76bO6ay9o04\n",
       "pkTsOp4fhNaMdiWL15GZXB6Ahnt8Ojt8yKHAUKyyEIaxobj1OoH62uVx3cM6aAvUPqzllpGuoKAW\n",
       "nEfux7lzwraZm/5lCctMK9jy/RJy/QTXRd2ha/247a78cfsiTGrhcpJrUJjArZIi60C3qsW3bun/\n",
       "yoEViKkFGWQAAAAASUVORK5CYII=\n",
       "\" style=\"display:inline;vertical-align:middle;\" /></a><br>"
      ],
      "text/plain": [
       "in_IntervalCO: forall_{a, b, x in Real | a <= x, x < b} (x in [a,b))"
      ]
     },
     "execution_count": 47,
     "metadata": {},
     "output_type": "execute_result"
    }
   ],
   "source": [
    "in_IntervalCO = Forall(\n",
    "    (a, b, x),\n",
    "    InSet(x, IntervalCO(a, b)),\n",
    "    domain=Real,\n",
    "    conditions=[LessEq(a, x), Less(x, b)])"
   ]
  },
  {
   "cell_type": "code",
   "execution_count": 48,
   "metadata": {},
   "outputs": [
    {
     "data": {
      "text/html": [
       "<strong id=\"in_IntervalOC\"><a class=\"ProveItLink\" href=\"proofs/in_IntervalOC/thm_proof.ipynb\">in_IntervalOC</a> (conjecture without proof):<br></strong> <a class=\"ProveItLink\" href=\"../__pv_it/theorems/07572f852c462022a2bee1f4f6159a3753fbc2090/theorem_expr.ipynb\"><img src=\"data:image/png;base64,iVBORw0KGgoAAAANSUhEUgAAAQMAAAAWBAMAAAA2k+RkAAAAMFBMVEX///8QEBCIiIhmZma6urrM\n",
       "zMxUVFQiIiJERETc3Nzu7u6qqqp2dnaYmJgyMjIAAAAcRTyBAAAAAXRSTlMAQObYZgAAA21JREFU\n",
       "SMe1lk9IFFEcx387u+Pszs6ulyAIgiVLQkKWJOhQYnWQoGC9lIcg2f6QUOLBkjRCyGolgqWDeYlG\n",
       "BAsRdqmDf4hctk4b2EBCJiRidUhRFilILej3/szMm3FCg/XBzpv39vt7+5nfv1mA7RhPPHdDhmtj\n",
       "tg3GcJoj959LS6B2eW4/dyx24uUtlKUB3pH1QmkRomnP7e+O1ReKoKIL+oiHukqL8MFzNxJ3LNcp\n",
       "AuSRWAfQsqVFuOlYTbe302grDt8E1hhCP7IVhoYel5Yg1CquGqv4jfNXtFaGEK0D+JVK3SotgoQe\n",
       "V/c0H8/T1LTyrILQHTm4i+dLsiJLEDQUXwLosbyz/K9j6zb9Yds2iMU3DB9jt8mizHL/Q/wcS0eL\n",
       "bJVZUFcJQgSDdIJmJR9vnMeO7L8wz+6cCRvQ3QCjgq2CqVWA9/pJymNJOtElu8HPT5rQYYUghDEg\n",
       "Ckh2y1gUivtVjSFpUIhtRJDvuQlexwRbH7pMhxRbNCzjoM+4A8C/Bgo7D2pB/U0QZPSKZij2UatC\n",
       "Io8NASLMGBsQQlfcdT9riLY+GrUVtuizRIjg64JMwmwLgXUTITR3BncGKr+Rx1upJC7OH6pMBEgV\n",
       "E4ScgEBV6uEE15hTtWHb8kCA/JPziIHI5GCCr/4QlyBCgFRGz0U89rpM6lTqINks6S1KXRQYQk3c\n",
       "RqAqdZI8JNXwqZ62FWZrpuO4VARajf6YkI6ZLLSEmQt/QL9hpiO8RA5/XCY0wRjZkWEJH5ge67/c\n",
       "JqQjVTXQyFANn4a7wbKlJR9HJweL/K3UKaQ6am5okCG6a3CH9gU/8XI5cvqyUhONor+Jp8TZVCoV\n",
       "k7RHUwICVWlfHWlDpuEHgi31rZqsquDvvsFuHp96dGNyX+9eUDpITA8YrDWRcEZQkkkHZ3Aq1300\n",
       "jkUZylggwud0G4GpBu4C11iTtGjZbmzQp+67G/S4eYMIz6wkTp8/DX26ok/j9ak2p4GWYLlQENKR\n",
       "qgB6sZVRDZeSx1gCYrvF11ROQMhbvSb54ig0ZOWrObwOTuULAMS5I5O5gVobgapIoTUD1ZhSHGGd\n",
       "2Jrt0ftlbTZhNWYjCG2RjqxwBQlzwf7K2R0b06LB//5liYCN4KJl5RL2fATPQ72lW//jVt0Gn1zB\n",
       "cjFuisClo1g8KR22e8S37+i/0pwVLAnVwM4AAAAASUVORK5CYII=\n",
       "\" style=\"display:inline;vertical-align:middle;\" /></a><br>"
      ],
      "text/plain": [
       "in_IntervalOC: forall_{a, b, x in Real | a < x, x <= b} (x in (a,b])"
      ]
     },
     "execution_count": 48,
     "metadata": {},
     "output_type": "execute_result"
    }
   ],
   "source": [
    "in_IntervalOC = Forall(\n",
    "    (a, b, x),\n",
    "    InSet(x, IntervalOC(a, b)),\n",
    "    domain=Real,\n",
    "    conditions=[Less(a, x), LessEq(x, b)])"
   ]
  },
  {
   "cell_type": "code",
   "execution_count": 49,
   "metadata": {},
   "outputs": [
    {
     "data": {
      "text/html": [
       "<strong id=\"in_IntervalCC\"><a class=\"ProveItLink\" href=\"proofs/in_IntervalCC/thm_proof.ipynb\">in_IntervalCC</a> (conjecture without proof):<br></strong> <a class=\"ProveItLink\" href=\"../__pv_it/theorems/5bb9f19ccf28c953800e97c7f78c532d5921f3720/theorem_expr.ipynb\"><img src=\"data:image/png;base64,iVBORw0KGgoAAAANSUhEUgAAAQEAAAAWBAMAAAAyZjRZAAAAMFBMVEX///8QEBCIiIhmZma6urrM\n",
       "zMxUVFQiIiJERETc3Nzu7u6qqqp2dnaYmJgyMjIAAAAcRTyBAAAAAXRSTlMAQObYZgAAA1NJREFU\n",
       "SMe1lk1oE0EUx192s9l8bJK7ICxVq/RQQosnv6IeRFDaXtSDYKkfIEjxoBarSIWCKV6CB+1FXClU\n",
       "KIUseugHoiEKQkRdsGAtKEFQoaUlFARbQXzzZjY7SbZWJB3ozs7r/83+MvOftwuwEe2+X7D1a/U4\n",
       "/j0NU9iX2OBTYwGiA37Rl7Li5kUAIw2hLMBrFphvLEEiux4BJFJEEMUFGMZhZKCxBO9hXYKkTQRQ\n",
       "QBgLb+3GElytGs329ZXqCDosTvAQ/VAcG7vXWIDIRXl0osVvDV4BJ0jg389M5npjCRTc42jT+QMF\n",
       "8ty8tAuR3W2b+OBb0y4iMFB7FmDIFQWX1po1ve5zvdywAzAOH8wbbBDKSgT7s4kyPwu/rVyWEcRx\n",
       "gw6SIUV7UT3rxI7TX/hdtVcn654/KeXqaKsivLMOE47kxOhmUPlEsVVImowghjumg+JUVAvSkX3a\n",
       "7igGFM16gmdmLQCLVHIDOLMFGT7oWsImnKiugs5T1RLk8oxAwzUxHN2baUWy8NQYIMGcU0fw2akF\n",
       "oMiKTACwzAfD0hoEBiDX6ZaDDtsliJSOYWikmdVMbbkZTwkUdjZ3BlPMU0iQlwhI1UoATON2FBG5\n",
       "YhdA+yFwJIJcHp6LcuDAPosRBNm5GTqDS35ZW2VP7Gc+VqxePZ0ATtCe8ghIdYiKB2lEJyKU6zpx\n",
       "WikDHUPVlAhs6I2RM5Np9ITrRHiCGGpKYzBhk0U0WMSfS7Oq5y5JTiTV+CC7JY3oeITnsoYnLPgr\n",
       "XI7wzbrmEaDkigE5lIWccIoIVLbESaQM2Eo37aDaLexwPJPJmIpxZ0Yi4Krx27JlWEcRN5dWNtrT\n",
       "skW87kYHrcpZ6Nl2dyvo/biabW9ERWJbGUdFLhuewy5pBWgPyxqE+C7ETloegVApC0JT6VhE5NZX\n",
       "5SO3aqrytOgZwaOKfbOnjsKwpVuzeH1glAwwOrkPipITScWYF4E0QsojLPff3kx5iaBQKWg9j/dA\n",
       "l61dyON1dKZQBGArO/E2P7LXIyAVFRSLNK6UIizXLYp/fTtHTY9AKobUbOkKCvrA+5f/+9v+ny+U\n",
       "OHgENaz8oMR8f4DvnP7Stb7Sttd8pSn4lfax5sOtGnENgkk8JBlLlkqRDWypDZv5D6uDEw7hpIx4\n",
       "AAAAAElFTkSuQmCC\n",
       "\" style=\"display:inline;vertical-align:middle;\" /></a><br>"
      ],
      "text/plain": [
       "in_IntervalCC: forall_{a, b, x in Real | a <= x, x <= b} (x in [a,b])"
      ]
     },
     "execution_count": 49,
     "metadata": {},
     "output_type": "execute_result"
    }
   ],
   "source": [
    "in_IntervalCC = Forall(\n",
    "    (a, b, x),\n",
    "    InSet(x, IntervalCC(a, b)),\n",
    "    domain=Real,\n",
    "    conditions=[LessEq(a, x), LessEq(x, b)])"
   ]
  },
  {
   "cell_type": "markdown",
   "metadata": {},
   "source": [
    "***Scaling Elements of Intervals To Scaled Intervals***"
   ]
  },
  {
   "cell_type": "code",
   "execution_count": 50,
   "metadata": {},
   "outputs": [
    {
     "data": {
      "text/html": [
       "<strong id=\"rescale_interval_oo_membership\"><a class=\"ProveItLink\" href=\"proofs/rescale_interval_oo_membership/thm_proof.ipynb\">rescale_interval_oo_membership</a> (conjecture without proof):<br></strong> <a class=\"ProveItLink\" href=\"../__pv_it/theorems/e9b8a63465a1f6bc2468ac1f4026331f905300750/theorem_expr.ipynb\"><img src=\"data:image/png;base64,iVBORw0KGgoAAAANSUhEUgAAAWQAAAAZBAMAAAD0/km4AAAAMFBMVEX///8QEBCIiIhmZma6urrM\n",
       "zMxUVFQiIiJERETc3Nzu7u6qqqp2dnaYmJgyMjIAAAAcRTyBAAAAAXRSTlMAQObYZgAABKpJREFU\n",
       "WMPtWF1oHFUUPpmd2dndmdnNgy9alGWjsWjFZQOK2GhEaEWsWX1ofRA2VOsfWorErMQgMS+dWIqD\n",
       "yCYIyrWBVldwF30olYpDgyjpD4P4UIOVRaygQinFB5sH8dyfmbmzmWZGlOqDB87MvXe/mfvdc79z\n",
       "750FSGtPNx34901tzqQH74P/hrX+p8wt73HvN8OJhaayY8KRco/ezqWiXKQ3K0Uf7wtfZ8/GQpOs\n",
       "8BqGK+twR8onaeMvqSibXbwVSTL0Z+Hr7KNYaKIVq8i7xx0pL9LZmU1FmcEWk5FWlft6M8sx0GQr\n",
       "0VidEN5iUWPhS6FlOhknk5G6wz1migcF0/3NVwNoso3TmX1PeAuslXZ7IWX6fdduf5AiCxeEx9iP\n",
       "7KrNEQmabF8ydYxxxxXjd9ueSUm5ZNv73UijFCQtKA0JhxOVut92aPitLaiKZS5pIkNlWH5r7TpR\n",
       "lFp/qtyNUqhyR8p7AOaDveXChpSzdchFZtL0Cw/3wBjzKweFL3RzPV8RrvWijpXv+xaOPhjc5xQv\n",
       "ivhLD/9BOg5YWKWOlO/nichtOcLy6OYnfpApq9W+nA/6psO/y6+8InwGsjRJaEhNYq6pONqjDBBm\n",
       "ewgrMHLXQ0b8KD1srEGpDAYSoI6UdVDCpfbXMFOOj3iKCStleSvZB7f51Q+XR0ELVFLE1x/2K9dw\n",
       "z6yJGNEL5BiVBpPQDRfQfKiAdWjcsKzzDuWHMz3ouKBh+KkjZdPTw7BdDkpnj7UBKa96MuXTwR5o\n",
       "HXibUKH4yxBGsOhEKQ+IeE1xRDmgLK2pIUyfAFbu8HfKD+OyPN6VKed7O7F5afg8Hf+lYTaNlbJK\n",
       "F0xK2ZUpv6vhi82hR/egnGg3GIbaXtpHo/JcOFlCGJ1IpjYYle2sPCgLQ4Zh+fOgFC7LHtxLQKXK\n",
       "5MKA+Sex55c0OhPKtEKpTmqDbHNGyiNVmXKuhTl2S7Y3yfd5XKKO1Bt0kDeTITAmoumHPYG/4Bvk\n",
       "dlCIn341Of1kWKcLe/lBRG4tjaHG5fSDT5BMpqoxSmXaiBlQX2KUM09NRo5Fxp14qRc9KLCRPAAw\n",
       "ArtoaQ7JqLNSDqNnJmDJV8549w14B+9buQi6UrrLMOx/ymSylluzXg67y7jcW0JlA12FaWkMoVgB\n",
       "2GXbdlkx3/wmepK7JISrvWzbc7ANYBMMc03eAZq/8GwXfupckLuHK4dGqW7O86R65kEJKsEKu29q\n",
       "3Qj6dF9r7TRVdJ07pWzhhHWc3CreSoTSpbmU5cIwHicRyqs8h+rARPAYFC7DwTaW1pC7OpG8YYvs\n",
       "Vb/acMP+NK7xiHD/vDzgNHbAItHJWbzitlg161zLK27/eTl/8Qy48IV4y7Xab17+dZi2ZsFy/6lj\n",
       "kRvXGB6LxLB3fzwKj3S151285mtfEzhAt5Iz7tI9/ZQLLzy0hUCOylEnsO3WIU/bBDtPodCC7W8e\n",
       "pB1148NnHKxQjmsMD5+ydaWrglre6KtkM2pZEWlk8O0k+Yg/n+qIb8U9Sk8KOaefMl9eDCf9h9Rs\n",
       "+JED8Fnih5T1Nz6kvhUepWxdeYxXoLyD31i3hSpcFfsLn6vNmP8x5BlRyNUgrDan/gS50F3OrkOW\n",
       "rgAAAABJRU5ErkJggg==\n",
       "\" style=\"display:inline;vertical-align:middle;\" /></a><br>"
      ],
      "text/plain": [
       "rescale_interval_oo_membership: forall_{a, b, c in Real} [forall_{x in (a,b)} ((c * x) in (c * a,c * b))]"
      ]
     },
     "execution_count": 50,
     "metadata": {},
     "output_type": "execute_result"
    }
   ],
   "source": [
    "rescale_interval_oo_membership = Forall(\n",
    "    (a, b, c),\n",
    "    Forall(x,\n",
    "           InSet(Mult(c, x), IntervalOO(Mult(c, a), Mult(c, b))),\n",
    "           domain=IntervalOO(a, b)),\n",
    "    domain=Real)"
   ]
  },
  {
   "cell_type": "code",
   "execution_count": 51,
   "metadata": {},
   "outputs": [
    {
     "data": {
      "text/html": [
       "<strong id=\"rescale_interval_oc_membership\"><a class=\"ProveItLink\" href=\"proofs/rescale_interval_oc_membership/thm_proof.ipynb\">rescale_interval_oc_membership</a> (conjecture without proof):<br></strong> <a class=\"ProveItLink\" href=\"../__pv_it/theorems/6cce6e8725280e2172c3083f34622fa8fb5a2ab10/theorem_expr.ipynb\"><img src=\"data:image/png;base64,iVBORw0KGgoAAAANSUhEUgAAAWAAAAAZBAMAAAD9FenCAAAAMFBMVEX///8QEBCIiIhmZma6urrM\n",
       "zMxUVFQiIiJERETc3Nzu7u6qqqp2dnaYmJgyMjIAAAAcRTyBAAAAAXRSTlMAQObYZgAABMRJREFU\n",
       "WMPtmF2IG1UUgM9OMslkMkn64IO1KCGxa1krhCzWB61GhfqDtdGH1gdhl2rV+lP2Yd3V7SJxXzpr\n",
       "qQw+xEVQpuzDapRm0AdpERxaRNl269AKtostQVBRoSyLQrv+4Dn3zs+dJLsZFLEPXjgzNyfn5H73\n",
       "3nPuTwCilqfHDfivS3x8MrrxCFwNpf4/MJW3XWkvRzs0KSfaL2Z+qHDvOrTodSEScJa59m5CrXHp\n",
       "KImOLHg3QsPqqzhWWoV71+Ek6X6KBKxZ+MqaPS2zBpfOplvtmh+jDG+2xICZdx1maGJqkYCZ2Uxv\n",
       "y7OudJbj7TNdigKcsxgw866zEWNDFyGGaSJO9rZ82ZXOctjlPDD+CqskI62UO0wOfJgBZ+YbjTcj\n",
       "Jt03jcZ7vXMvNcKl2+RW6ClPeWEVqWH4HDgweeMqcVnXJyMC53T9gB1SCiN00ZteqcQFtMJGP3oL\n",
       "e+/BGdWYzRE/DYosTgpVv693lK/zoifQfl+4nQGTNwLvAZj2d5JLawInqqCEJlHzKg9jQniJoDhc\n",
       "Uvvhde/7D+DrPEZBhmXdXt//EI2ypfi5eLeRXXLHPtCqf5pNg4DJG4HvFZP3RIjx401PfCsCx0tw\n",
       "JGTgN02d94CTlis2PIcf2XDOw5fmAwBpFilBiu9HmYSE5Zqp10PM/VLQplcglydg8kbgJEjB0vpz\n",
       "sAR9MuhIGsznxY1jBG7xPr5/YivIfnxkrYCjr8LlLpOPD7CGdRa9NH7yDZewMNNrAGIr4JthPcnb\n",
       "C2lb0LQJmLwRWHOSwZBd8WvnjjYAgRcdEXjB3+8yB98yKUS8lcfoBL6Wfxzjr2UfWFhEEbivFphh\n",
       "vcl/UtTiMrzDEoBTrZ2one3/jn5wud9k2ZKPU3oQsC0CvyMP47fFR/dgINHk4xiU91ETQ4Vn20NC\n",
       "/V0MHvlXliOsv+vEkGgKWYz1T/1asAw7OFkEHOchAdNPYrsvyjQJ0gRL71F5HduGEXiwJAIrdfQb\n",
       "SLRG+Y6Oq9JcdYi6eJNZ7Ei6PzDqPOdj0hIMeElXFpMOccDbBpoW7EsbLqSvzVUwtoWkg48QJVaS\n",
       "GVCelBj41VkGHHtqNHT4Sd+Gj2rWAZX1436AQdhFtSm46ANTApJsAfVWb/X5TVmic07M9qbAz/HY\n",
       "MMx6kYXNj2nQbIW1CUcpMWDyJuAcxnmfJQ2z8ENL/ACwS9f1vKS98VX4tLbsBqz8kq5PwTaADdDP\n",
       "g3GLD0wzR6ItnPEzePdAkQ5YWQahPvOgq78P5dSFfGC2sX4jJCfatOUFd+OocuAMzmnTUBbxlTMJ\n",
       "ljIowUMi/bgZAl6kxxBUgboHj4F6BQ41sLaC5LXeW/Oc26Uv1tyaj3XREfCccB7uM4a2w4yZNM/h\n",
       "E7fAklblMTxvt5+HU0unwYbP3PbXy784qddgIlMLgP/p4cdeBfi4ABzf/eFWeMSSn7fxmSqfMeEg\n",
       "bRyn7dk724HVFx7abIJCcZg0YdvNRUfeADtPCfsB7YZKtOPldDerfHdg93gpFkt4ShjDa904NmEM\n",
       "S2728MWg1vMAr0Q6wGegO7BitAPzFSVtRL8i1cSrT63nFen8374iSXhFOt9xp8us3sFVgLfzl9MG\n",
       "fHVcQse7/C+R7na8/Ff/lxj7C8p0W+fCDJodAAAAAElFTkSuQmCC\n",
       "\" style=\"display:inline;vertical-align:middle;\" /></a><br>"
      ],
      "text/plain": [
       "rescale_interval_oc_membership: forall_{a, b, c in Real} [forall_{x in (a,b]} ((c * x) in (c * a,c * b])]"
      ]
     },
     "execution_count": 51,
     "metadata": {},
     "output_type": "execute_result"
    }
   ],
   "source": [
    "rescale_interval_oc_membership = Forall(\n",
    "    (a, b, c),\n",
    "    Forall(x,\n",
    "           InSet(Mult(c, x),\n",
    "                 IntervalOC(Mult(c, a), Mult(c, b))),\n",
    "           domain=IntervalOC(a, b)),\n",
    "    domain=Real)"
   ]
  },
  {
   "cell_type": "code",
   "execution_count": 52,
   "metadata": {},
   "outputs": [
    {
     "data": {
      "text/html": [
       "<strong id=\"rescale_interval_co_membership\"><a class=\"ProveItLink\" href=\"proofs/rescale_interval_co_membership/thm_proof.ipynb\">rescale_interval_co_membership</a> (conjecture without proof):<br></strong> <a class=\"ProveItLink\" href=\"../__pv_it/theorems/7b94c168ae562205749a572d768536f93dd486620/theorem_expr.ipynb\"><img src=\"data:image/png;base64,iVBORw0KGgoAAAANSUhEUgAAAWAAAAAZBAMAAAD9FenCAAAAMFBMVEX///8QEBCIiIhmZma6urrM\n",
       "zMxUVFQiIiJERETc3Nzu7u6qqqp2dnaYmJgyMjIAAAAcRTyBAAAAAXRSTlMAQObYZgAABLRJREFU\n",
       "WMPtmF1oHFUUgE92d2ZnZ2d2++CDWpRlY9OSWlk2qIhWVwVBUbv60L4UEqqt1p+Sh5jVGGTNS6cW\n",
       "ZfBhGwRlSsDgKt1BHySl4pBWLGlThyrYBiuLoKBCCUHBxh885975ubvbZCdFtA9eOHfuPbln7zf3\n",
       "nnPPnQBELU9VTPivS6IyHn3wMFwNpfY/MJW3PWkvM+2KW76P+IszvnUNmvS4EAk4Qw/d7TpSrXLp\n",
       "KHJ7FJyIMK/66jC3ZNY1OEXKnyIBazY+MlbXkRmTS+fczSsAhkyBWzLrGkxinapGAmbDJruP/NKT\n",
       "zjJ7JcBZ27OcZcC0YmzpIvgwbcSp7iNf8qSzHOYPfX/llejA2yzP8jAD1ufq9UMRg+6bev297rGX\n",
       "GuZyud0tUS1NWGtZ4c99SxI8JX4zjPGIwFnD2O8IquSBsC0FrViBC2j5DYH35vfehzuqkRqOWKJL\n",
       "zObLwaveVbzed55Q+0P+Tm5JgsC7AYJ5ExdXBZbLoIjBJPuNR5uQLvkdxeWSehne8HUfwNc59AKd\n",
       "Rd1e0YcP2UoQiveamUXeErTqX1bDZJYkCHy/GLzHWxg/3vTEdyJwogBH4HLA9O53BOtue+LAs9hl\n",
       "yzkHX1gPAqSZp1RF4HGQcazK0G6AuPc3rmW26WXI5pglCQInIRYerT+HR9CxATemwVxOTBzDsMXv\n",
       "vn98awicwV9/1+/0lLjcY/EFAjazwfyGFlC68SIWDzi+zBoNWjNsJ/l0npbZxpvQcJglCQJrbjJc\n",
       "s0tB69xMHRB4wRWB54N8px98ywqBs+LJ6wNfy7uj/LEUAKfEFe7hneQQGVahwT3X0zJbPIa32SJw\n",
       "qrkd1VN9lCWlpT6LRUsuQeFBwI4I/I6EP6z1Pr4bHYm5hFrcR1MM5p8J98lzCfUP0XukX1mMsPdd\n",
       "JwA3hCDG9qdBKzyGXdorskxwl4ADT+LivyDRLsTGWHiPSOtYGkbggYIIrNRw5frl5gjP6DJMlwfp\n",
       "DTdavZAeagu6P9HrfOOjsUXo94OuKAAjDvhZoGHDvrTpQQbabAl9Www6+AhR4gWJAeVIiZ5fnmLA\n",
       "8T0jLZef9O1YlTMuqAUOPAA7qDEB30KiKkQgyW2g3uqfPr8riymEiDv+FvjA8SGY8g8wnH1UY+4s\n",
       "amVXKXBLEgLGGIQeO8a8qIRDsQOwwzCMXEx786vW29qS57HSi4YxgcDroY801yCd5J81/u5p82eD\n",
       "CN7V30sXrAyjUJ9+KDwlTl/IhaM21G6C5Bi0aovzniUJAeu4qQ1TWcBH1iJYCiGZu0R6p9UCvEDV\n",
       "IJSB7b+sXoLX69hYRvLEUPfUPO290snVUvPRlSynhftwjzn4CExaSesc1pgCC1qZ+/Cc034fTi2e\n",
       "AQc+4y5xnfSLm3oNxvQq6M4/dPlxVrKcFYATuz7cCo/Z0nMO1qniWQsOUuI440zd3Q6sPv/wzRYo\n",
       "NgN+YHOvK62H7afRw8JUZ0JrRlzT9VLNrWDpXS/FYgt1DH14tS+OTcyHWeFnQab7BV6JcoHXYQVL\n",
       "xWwH5kdK2oz8iSSLXz6fdP9EOt+u2Bj1E+m8b13rfDcd1grMMoZauNo+Qiud/5dI/hi2Y9a/gJuo\n",
       "jP4NQylg2xmm2PcAAAAASUVORK5CYII=\n",
       "\" style=\"display:inline;vertical-align:middle;\" /></a><br>"
      ],
      "text/plain": [
       "rescale_interval_co_membership: forall_{a, b, c in Real} [forall_{x in [a,b)} ((c * x) in [c * a,c * b))]"
      ]
     },
     "execution_count": 52,
     "metadata": {},
     "output_type": "execute_result"
    }
   ],
   "source": [
    "rescale_interval_co_membership = Forall(\n",
    "    (a, b, c),\n",
    "    Forall(x,\n",
    "           InSet(Mult(c, x), IntervalCO(Mult(c, a), Mult(c, b))),\n",
    "           domain=IntervalCO(a, b)),\n",
    "    domain=Real)"
   ]
  },
  {
   "cell_type": "code",
   "execution_count": 53,
   "metadata": {},
   "outputs": [
    {
     "data": {
      "text/html": [
       "<strong id=\"rescale_interval_cc_membership\"><a class=\"ProveItLink\" href=\"proofs/rescale_interval_cc_membership/thm_proof.ipynb\">rescale_interval_cc_membership</a> (conjecture without proof):<br></strong> <a class=\"ProveItLink\" href=\"../__pv_it/theorems/30827a8ee08cabe71c8b5066688cb88a526f31720/theorem_expr.ipynb\"><img src=\"data:image/png;base64,iVBORw0KGgoAAAANSUhEUgAAAVwAAAAZBAMAAACP2ot0AAAAMFBMVEX///8QEBCIiIhmZma6urrM\n",
       "zMxUVFQiIiJERETc3Nzu7u6qqqp2dnaYmJgyMjIAAAAcRTyBAAAAAXRSTlMAQObYZgAABG1JREFU\n",
       "WMPtmF2IG1UUgE8mmeRmMkl8FEEYtraWRWXYoj5oNeqTUGnqg/ogdKlWEX/Yh3Wj7SKrCJ1SkMGH\n",
       "dBGUKQsWo5hBH6RFcNgqwtatoQpuFwtBUbGFshQEW3/wnHvn5+Snm3FR6oMX7k9O7sn95sw5594b\n",
       "gLTlyYYLV7fkGrPpJ0/B1S/N/3HhzbD2l2P9glt+SPeD5Z9qSrkJXerOpsKtSNXOqInGnKoDJd/v\n",
       "/J+mWNZ4Ge1k1pRyE06S7FwqXNPHruKNmlhxVR1cubsBXKjYElcqN2Ee2+JcKlw5bX7kxK/COlgW\n",
       "N4Jb9SWuVG5Ka0mzpfBdegknR058MayD5UjYrzQa3dS4Oz2Fe0TilpdarcMpQ+3bVuudkRFXnFJ1\n",
       "2Hutye6R8b9j3c9B4ZIyZoZfHWc2JW7VcQ4ETFQ4yKL3+3Cg2aqCObY59tqxp+7Fl2na8sM57gyL\n",
       "Y/X4Qe+cuC5ym0T649gdEpeUEXcvQLxq7sK6uPk6CB5Dea4nwrHoqFrcD69F378H31gv4SN1exME\n",
       "4h72RRyA97iVNTViUuNPr+0SLikj7n08Yk/0EH609bHvOG7OhvdhGC7pRbgFP6wBPE3LkWwJvvTu\n",
       "ByhJHxE81GYhT4FD6ca4HrJhzDNp6TJULcIlZcQtgJak0vNJ1vl4W0czYcni28QU3Bx9fPfEdoZ7\n",
       "PqHI1FS9W2W8dleu69BYl8bbdQFLGGrZy6EJscFxQa3WI+1COyBcUkZcs1NI7HUpHq0cawHirnY4\n",
       "7nK8t5UPveEx3EuDuNeGxp6U3cUEd55ZNxOac4YU56CtPJZLMe3u9BlusfsQShe20IaoX9ziySCx\n",
       "chQVhBtw3Ld0XNzc9OBedCHlDIlenzMYv3O30X+RLi4fNsNw2yxycfxJPErSbgffE+HmlDPAwcfR\n",
       "7s/r9AK0fTKmp/Vr5IaLuNtsjiuaqDee706rvTvP9fpD7Q90t0j3uLYG41GoZa0EF2EgSvptH54r\n",
       "uSFiLK3W0KdZqMGHCJK1dYljkRAdvr4gcbNPTPcccUq3Y1OvdMCwFS7Ti3Ap4VC9DYxbo8Txm1gr\n",
       "IkJWWW1/gpudhIUoZeGPzJjS17k03xG2xCVlwq3i02Z8bVL6Hc7EDwAPO45jaebrX/eeyKQLVl3Q\n",
       "X3CcVxCX6UW49NKomsun47DdM76JTlEVxfD2q16cGb44ayWzNjdvgMI+6JVOLIfbRF3hllG57YpV\n",
       "7KoeoSKOiiLNLD3q9eCuUrMb6jCprMv0xOhN+GjY7ziwziZ8fIiMcI+y827G3f0AzHsFbwVb3O5s\n",
       "s658dynoP+8W105BAJ8pXKYn/qEjTnAF3EWGm9vzwXbY5evPBNgWJ057cIi2iVPBwl39uMazO27y\n",
       "QPgSl+nFuLTxiQ0fIA1rOG54gOTFZ62GvrvebWKr9F2mJ0Yez0Wa43kZhuMKtx9XZZGSm/ryk+d6\n",
       "YuTl50y/4MaUlx8NLz9nBu5q5Ss/3rq4SkP8t66WjcH/GQo/DzlA/pv/M8z8BfkMXDM9AVPtAAAA\n",
       "AElFTkSuQmCC\n",
       "\" style=\"display:inline;vertical-align:middle;\" /></a><br>"
      ],
      "text/plain": [
       "rescale_interval_cc_membership: forall_{a, b, c in Real} [forall_{x in [a,b]} ((c * x) in [c * a,c * b])]"
      ]
     },
     "execution_count": 53,
     "metadata": {},
     "output_type": "execute_result"
    }
   ],
   "source": [
    "rescale_interval_cc_membership = Forall(\n",
    "    (a, b, c),\n",
    "    Forall(x,\n",
    "           InSet(Mult(c, x), IntervalCC(Mult(c, a), Mult(c, b))),\n",
    "           domain=IntervalCC(a, b)),\n",
    "    domain=Real)"
   ]
  },
  {
   "cell_type": "markdown",
   "metadata": {},
   "source": [
    "***Interval Relaxation Theorems***"
   ]
  },
  {
   "cell_type": "code",
   "execution_count": 54,
   "metadata": {},
   "outputs": [
    {
     "data": {
      "text/html": [
       "<strong id=\"relax_IntervalCO\"><a class=\"ProveItLink\" href=\"proofs/relax_IntervalCO/thm_proof.ipynb\">relax_IntervalCO</a> (conjecture without proof):<br></strong> <a class=\"ProveItLink\" href=\"../__pv_it/theorems/9fd50fc0c3cfd919c9ad00a34806d866a45834f30/theorem_expr.ipynb\"><img src=\"data:image/png;base64,iVBORw0KGgoAAAANSUhEUgAAAPoAAAAZBAMAAADqEi4iAAAAMFBMVEX///8QEBCIiIhmZma6urrM\n",
       "zMxUVFQiIiJERETc3Nzu7u6qqqp2dnaYmJgyMjIAAAAcRTyBAAAAAXRSTlMAQObYZgAAA9dJREFU\n",
       "SMfdlltoE0EUhk82u7lssokPvqgoodUq9cLSgiLeooKgeIk+6IvQUO+i0gc1WkRiX1wVYfGhFkEZ\n",
       "KShGMUEfRFFcvKDU24KCWlSCoKKChKKgFcQzM0l2ksZuFfriQHb2DJP5dv5z5swBcG+bUiYMQ5NT\n",
       "+4YyrQ2GqXX+V/STtQanvau0tQ9xuMrpedq9dqFH2J9sV7iarjV6R5xxAPcSjoPPZPQHdOyTCz2c\n",
       "wy5CXOkR040OEZ3R1Tyjd+EzmHahswld7sI/BVd6NMfocIvR6Y7Y1gb1OxXngTt9b4V7D6b2D6Sv\n",
       "IJx+mtG1nkzmuGvUvcpkzrkHX1CconSQWnu/B5weibOY/24Y+1zpUcM4aAlD/kMCpvwmoU/Vui0L\n",
       "qKpwkQjKB2c3jebG+7pZjB7WGX0DQHkp+csf6L4EBMSI8pVeluchFC8ZATwVF+B5jAm+RfT7fDNS\n",
       "4DH/i2RNStfyjL6Qxx9vt4v9lUnr3op0WYeLUItOtzCzrAjGTw88IYupkRbo6ljwcjvUD9EYpYfa\n",
       "GN0PknOQP9PPu95sS2HoiYnZpg2mlszzt+c49AgCz5QMD65KwOD+GPcFW5Hu7Qc/X86bh6xF6UqB\n",
       "0cO239nTD/y9uJoBpPfaIv1ROeNpR04Qhx41hVPuYT7o4xEo7t2ThmyidNxX5AR6ML8aR7sbaDpU\n",
       "+hoIigyMbon0U0oSP7R+1Qb0FFNebdpB12up2+poR5UH5Rs3Rgj0rAU3i19rwzxC6TJXHg6tR7V3\n",
       "Kf0U2i7pLKsivVkX6YFO/EejL7+Tp2YfnE200KCeSOohlBSi7ppUgEZqNIn0HOwIMYWicYwBIerg\n",
       "Mq7u1RXGiGn5bkb3btxZccuEZuAjEbFB1Tm9GdbQlw54A3LaCUH5Z6AQtMtCFOm47u4wZBHoswM6\n",
       "o3stTo9iPHhyUpI5zptcYxhGTAofe1Z5x/UVvazsMYwOpI+BBjoyEqaDUjozqKba2ljP7yx18xIn\n",
       "5lsndI4HfzuONj0qZpsEp2uoYNYM9GIXJZ6cjysfWksq6L300QIJYDL71B9wNIMv/fgZcrJmppXv\n",
       "V2faayWNkH5WuN89Zssy6CJ+8gLCCe73Hqv6fg8WHoMFd7nyo5SvdvAwtGtp0Kwh3jKWQL8l0OXW\n",
       "S3NgZU7ZhhOO0Gzz2OqeW01Xty+dQiCQY/RFk+ttZQysfogudJLdoDesGnPoxRtWbDxOJPT7YLXN\n",
       "JOZ3nrn4GR5idaGBQw+Y1fSQOeTKqkhn9RHccKmsJlZVVhJWVi8H1HUa/C2dHS1VH9aqMjWwnvd/\n",
       "FLZC/o0tp3b/Bo3SEu+pT1MDAAAAAElFTkSuQmCC\n",
       "\" style=\"display:inline;vertical-align:middle;\" /></a><br>"
      ],
      "text/plain": [
       "relax_IntervalCO: forall_{a, b in Real} [forall_{x in [a,b)} (x in [a,b])]"
      ]
     },
     "execution_count": 54,
     "metadata": {},
     "output_type": "execute_result"
    }
   ],
   "source": [
    "relax_IntervalCO = Forall(\n",
    "    (a, b),\n",
    "    Forall(x,\n",
    "           InSet(x, IntervalCC(a, b)),\n",
    "           domain=IntervalCO(a, b)),\n",
    "    domain=Real)"
   ]
  },
  {
   "cell_type": "code",
   "execution_count": 55,
   "metadata": {},
   "outputs": [
    {
     "data": {
      "text/html": [
       "<strong id=\"relax_IntervalOC\"><a class=\"ProveItLink\" href=\"proofs/relax_IntervalOC/thm_proof.ipynb\">relax_IntervalOC</a> (conjecture without proof):<br></strong> <a class=\"ProveItLink\" href=\"../__pv_it/theorems/20df4b3db4172aa383dba8b11834fb04b0f4d59f0/theorem_expr.ipynb\"><img src=\"data:image/png;base64,iVBORw0KGgoAAAANSUhEUgAAAPoAAAAZBAMAAADqEi4iAAAAMFBMVEX///8QEBCIiIhmZma6urrM\n",
       "zMxUVFQiIiJERETc3Nzu7u6qqqp2dnaYmJgyMjIAAAAcRTyBAAAAAXRSTlMAQObYZgAAA+VJREFU\n",
       "SMfdll9oHEUcx7+3d3u3t7d750NfalGOpCYlWjkS0AetRoXSSv+cPrQ+CAmpUSsa8lAbDUXOvHRr\n",
       "ERYfYhBaRvJQei29wz6UBMGlrSiprQsVbIOGQ9CCQjmCBRNB/M3M3t3s9cy2D3lx4G7+MDufmd/v\n",
       "O7/5AdHljQkX61ASE0fuZdo41qlM/6/oJzoNPv5ruG/fGsScpNd49XMEPSs+8iPhZqnT6GV1xod0\n",
       "FmsQSVfQr/Cx3yPoVpWqLIukZ90oOrIFQTdrgj5D/+lSBF1MmIk2/HVE0nNVQcdFQecnEkdb0+/c\n",
       "OFei6e+H3Ht04oO76XuZpH8u6PZCufxppOp+KpdPR4svrU7Rp1ins38DSc8OCs3/5ThHIuk5xznq\n",
       "hQYVDy8VgoZGDbPr4PPcqjjHFMunn+5/UHZ+63pK0K2CoI8Cx5rh5/Z/0JNFGCFFWY3GHpJPQzYG\n",
       "3Yqz+DEvDH5Q9ftzbrYuNf8Pq7icbtcE/QWpP1kuBfWFLQd+UemJAs6FdtRcm5+hQU+RfhbwPdvJ\n",
       "OyWFbj6EuOxnVpHLc3pmXNBT0FoX+Q++vS8HfM3CQl6NNuPY2uieubQNetMN2WoLFKNVGRzp9odv\n",
       "Uwno8VWk5HLxGioep+t1Qbf8VOtIK/S7MVcG0Rd9lX61GfHs458x7onGDXLDdGBZKlA9e6yESrFx\n",
       "3fdWFXq6to9GZ3t4ONSXe1iCa4jTPZV+Uh+mjXa/PEqe4jYmE/WP8QWHut4KWR76Hdl5QKFXPHwV\n",
       "bNbHs4zTE9LyOPYaLfWuvsqhk1pBRFWiDxRUujFNX/Qla4dkaKY7eqo4xFXdy7pDqpvX6ujjnX6V\n",
       "XsVYRqg2N0gaUFSH87R6vKALRt6uzQp6/PVDoVcm8yT9FbM+TLGpHcAA9vPWFJaadFJg4m+jnvab\n",
       "hgjotO5hCxUCJn2jIOhxT9JzpIdYVRsWjosP73ccJ69Zn/wQfuOWAyfr7znOFLYDm9DDhzbgiSad\n",
       "rGmO9HXLN8t888WW5kcemd6M1CT319Ug2hQl3SYDVlxjkaoci1WT0vKZV1mIvsj/hlAE3yVegbmC\n",
       "j8vUWqVtlDpG2sS37ZF2vmEjop9S3veYO7QbMyzFbsAqSr8veO3ve7p+DR6+5k36dqP+p5/+CJN2\n",
       "qUWPeGU8hX5RoSdGvtiGl6r62zThOI8217zZZ9rp5ju7HmMwuD9TDNsf7fb1Tdj3nRJYjDVfWDPf\n",
       "ogcvrFqkTjTy+1q5zRbyuxZIKoNQWFs7u7DRohtuOz3j3ntmFWDmwvTOmVVvW2alUWZ18668zr6P\n",
       "vG63rPw2+jpklRMd8vlMpxf2fvP5w/8CBm8Zte2gusMAAAAASUVORK5CYII=\n",
       "\" style=\"display:inline;vertical-align:middle;\" /></a><br>"
      ],
      "text/plain": [
       "relax_IntervalOC: forall_{a, b in Real} [forall_{x in (a,b]} (x in [a,b])]"
      ]
     },
     "execution_count": 55,
     "metadata": {},
     "output_type": "execute_result"
    }
   ],
   "source": [
    "relax_IntervalOC = Forall(\n",
    "    (a, b),\n",
    "    Forall(x,\n",
    "           InSet(x, IntervalCC(a, b)),\n",
    "           domain=IntervalOC(a, b)),\n",
    "    domain=Real)"
   ]
  },
  {
   "cell_type": "code",
   "execution_count": 56,
   "metadata": {},
   "outputs": [
    {
     "data": {
      "text/html": [
       "<strong id=\"relax_IntervalOO_left\"><a class=\"ProveItLink\" href=\"proofs/relax_IntervalOO_left/thm_proof.ipynb\">relax_IntervalOO_left</a> (conjecture without proof):<br></strong> <a class=\"ProveItLink\" href=\"../__pv_it/theorems/319f553b0cb185acb6dfd6db59cc91062ba2e6930/theorem_expr.ipynb\"><img src=\"data:image/png;base64,iVBORw0KGgoAAAANSUhEUgAAAP4AAAAZBAMAAADj+Y5YAAAAMFBMVEX///8QEBCIiIhmZma6urrM\n",
       "zMxUVFQiIiJERETc3Nzu7u6qqqp2dnaYmJgyMjIAAAAcRTyBAAAAAXRSTlMAQObYZgAAA/RJREFU\n",
       "SMfdll9oHEUcx7/Z27277N5e+uCDpShnAmmptR4N+AeJPShUkbY5fWgrCDmi/YtKKNWTtsiZl24s\n",
       "pYfKGYSWaQKtntAc+iABhcW0tCRt2QehbbDlECqoEENRsFGKv9nZ2509z+wp5KUDv5s/7M1nfn9n\n",
       "gOi2p1jGsjS1eKSdz4axbK1yn/E7nVar6283LUx5Qvw6725G8NO8M51o/qctV89LY/09UideFkL8\n",
       "Wb74cwQ/VaMuzaL5P0Xykc7SIepCiD/GrVaK4LsfjEXjzWw0v4vr8q0nFVcrV70l/c8NNBvNT4QS\n",
       "1TxafPef/AFuxtOeVGDOVKsfR8bf99XqZ22EYWgjbYS10v+i64ScEIr/PyzrSCS/y7KO2qFFSVPN\n",
       "H/WQjPd+tC7DJ+eYZP8Ppx/xpj92P0MWzwoh/i5g1C9I8//Cj+eRDNk21Rhsq8PINSbHKaxs80DC\n",
       "Tap9kv/VlfjVi/97bLIMk77gQvxNIhJFm/b6r9a8+oPMV7M4FzqTvznX4unG5DDNWWpRdY9akvin\n",
       "HTwlxsYiujIwaE8uxE9ACRL7F37Cr/scJYWZjFx/hvFYY/r5dD803xlpit0zjckD9G8kBVh7eJ6a\n",
       "x9/IcEB8Eqtj0oa2AFeIn3ISgVp3Sa5PVUH8OUfmX/GroHnsE8b90Ugn0jVdDvjg6iGc1OfxIPTf\n",
       "/fQfqMn8zvp2Wp7o5TVSu9PLVJ7DnG/L/FNagY7a89Iu8hdPNFJ0w5v8EIPd+wMDHuY/g97ZVgR8\n",
       "/S8YC955HW4MlftU2B+jr9Fmb2mLHHtIybq1lvh9WZmfrFCQrY3XD4qCTYl2Nj/II3o164FRCOLP\n",
       "YI9DcUN9g8T/E/H6lODn9Icgxx++pP1jWc2lZMz6hMuP7T4Yun+MJ+knn3agu8d6HujDDj4awS2o\n",
       "pSB8B2oncFIUo1pg/xFcK9j6PRrHnSTtELOFVDx/ddQUrkNHLlbYYVlWRkl98F34/rvjOVt7x7JG\n",
       "sBlYhV7h8iegNRLoOYrF7vF+4Q597ws+/0z3y0M5FBl32xUeBXkhnG/S6mQ5OUddF+uoxYX9jVdY\n",
       "iD/nuhZ5uLbeCf0ujldptEgHUQst6696qan+Gv6WZz1p3P8d5cGtGGMJdh2pvPD/jN18/3cuXIWN\n",
       "C97/V2q/OZ3v45BZgmm3d//4RUu6f7yjDn3Rjxdr2uu00zFef67aE8828/U3tqxjSHK3Jhg2P9rj\n",
       "aKuw/TJ50i+Ao0vyx/1HQHD/yk0EjEL+X+r9s4b8r3ixZYicbvP94VcUXsuT5Wa+UW7//VUKHlLA\n",
       "NxHvr9XN768bnoT55n94/22VNNKzy/v+LLZ4/8u2Utj/pKvFt/8GHj0fp194nOEAAAAASUVORK5C\n",
       "YII=\n",
       "\" style=\"display:inline;vertical-align:middle;\" /></a><br>"
      ],
      "text/plain": [
       "relax_IntervalOO_left: forall_{a, b in Real} [forall_{x in (a,b)} (x in [a,b))]"
      ]
     },
     "execution_count": 56,
     "metadata": {},
     "output_type": "execute_result"
    }
   ],
   "source": [
    "relax_IntervalOO_left = Forall(\n",
    "    (a, b),\n",
    "    Forall(x,\n",
    "           InSet(x, IntervalCO(a, b)),\n",
    "           domain=IntervalOO(a, b)),\n",
    "    domain=Real)"
   ]
  },
  {
   "cell_type": "code",
   "execution_count": 57,
   "metadata": {},
   "outputs": [
    {
     "data": {
      "text/html": [
       "<strong id=\"relax_IntervalOO_right\"><a class=\"ProveItLink\" href=\"proofs/relax_IntervalOO_right/thm_proof.ipynb\">relax_IntervalOO_right</a> (conjecture without proof):<br></strong> <a class=\"ProveItLink\" href=\"../__pv_it/theorems/17457a29ed66bb0ed727fbd2f31d91b180ca46070/theorem_expr.ipynb\"><img src=\"data:image/png;base64,iVBORw0KGgoAAAANSUhEUgAAAP4AAAAZBAMAAADj+Y5YAAAAMFBMVEX///8QEBCIiIhmZma6urrM\n",
       "zMxUVFQiIiJERETc3Nzu7u6qqqp2dnaYmJgyMjIAAAAcRTyBAAAAAXRSTlMAQObYZgAAA/FJREFU\n",
       "SMfdll9oHEUcx3+3t3t/9s+dD75oUI7EpkEjLgkootErhbaIba59SHwQ7ojWf2gJEnOSFDnz0o0h\n",
       "dCkSQ6EyNmDbK/SW9qGktLgklEpiwj74UIPKIaioUELxwd6D+JuZ29u59Oxehbw4cDc7P3bnM/P7\n",
       "fX+/GYDw9mbRhm1pcvFoO6+Nwra1uf8ZP+m1ZTZ+zcIi51dp90MIP8U+8sL5Z8PN6se4Hz0LMZvx\n",
       "V6nt9xC+7mCXIuH839owp0zGV6uMP0/dUwrhsxfmw/GG2YY57TA+LDE+3RXb3j3jTx20Gs6PNyWq\n",
       "caz4UQvzIOH8LxjfWCmXPwvV3/fl8rk2ZNg0kTJFWpnhBnB+Ksv0/5dlHQ3lpy3rmNtkFLakNJ66\n",
       "8He6+9PeDB1cIKI5+Xzfw3z0S+dzjK+bjH8YYLpRkG79Cz+Wg0STE3X/4UAVtKw/mEV5u8b7cZZU\n",
       "b4Nghl12apPr/29SsSnfqDL+bq5E3pbr/eWe134S+bIJF5rW1Jic7uJZfzCJY6LXZLbUQNRoVh+B\n",
       "KDdoNUhnKF8bZfw4SEFi/0EXeLXfk3RYyYj1ZxSe9IfnlwdAaQQjhdr90h88iF9DgnOUR29h883R\n",
       "GsT5hNEqVFzKVzYZX/fiwbbu4O/mYhmQv+GJ/LVGFTRmThIaDz+bcK8pO+CjhXOEpEZzpASVnJ/+\n",
       "g47AT1aH0LrQ/TNd8+1uItNkpXxX5H+uFHCpXYcOY7xoRuFG+47QCfOd7wQOnKR/+fraHhD9X3Hh\n",
       "q/qCPXiRUL7M/Q/Tr+NkHyg1ip2QTFZrkd9vivzEHH7xeKw6xgs2ZtSZXJ4KfCfpAq0QCE0jT4HE\n",
       "lN8n6q/iwBGNuSmdRS0I+oNLOH/UVBglY1QXGD/6xljT+aM9g3+5lAcqW9Y+gH4Ypk9T8CPIpUC+\n",
       "g85xOMWrjiOoGmce16GCyJiXMBk/6nI+jVfEkegeItloYdiyrIykn/i2+fy7XQ+28qFlTcEegA7o\n",
       "5rF9GhQ/gfaiFjtPD/BwqG+9FJjVkR1zj0F8gsZtrV5/cpxvoLcqdmIDuzSJODHuf+1V0sTfYKGF\n",
       "HDBfvwLqHZgt41MNFyIXWtZf+eu76u8VP2uRf0Y4/yN2fj/Mkzi5CXqOx3/F3Xr+JzfXwYXr9BG/\n",
       "fUj500t+AhNGCQy33fPHFfhLAl8euTgABx3lXXxhhtafdXfhha189b2XewkkaFjjBPY80eUpHTD0\n",
       "DUayUQCnW1dw36xmAn79/BUbF4yE8b/X/acH4y/VtaXxlG73/mFAwE/YW/ma3f79q654domCa/d7\n",
       "/5Lw/vXdXfc/4z7uf/t5x+ZVze29fxZb3P9FX0nkP9Ll4vg/I4wPeSpbhFEAAAAASUVORK5CYII=\n",
       "\" style=\"display:inline;vertical-align:middle;\" /></a><br>"
      ],
      "text/plain": [
       "relax_IntervalOO_right: forall_{a, b in Real} [forall_{x in (a,b)} (x in (a,b])]"
      ]
     },
     "execution_count": 57,
     "metadata": {},
     "output_type": "execute_result"
    }
   ],
   "source": [
    "relax_IntervalOO_right = Forall(\n",
    "    (a, b),\n",
    "    Forall(x,\n",
    "           InSet(x, IntervalOC(a, b)),\n",
    "           domain=IntervalOO(a, b)),\n",
    "    domain=Real)"
   ]
  },
  {
   "cell_type": "code",
   "execution_count": 58,
   "metadata": {},
   "outputs": [
    {
     "data": {
      "text/html": [
       "<strong id=\"relax_IntervalOO_left_right\"><a class=\"ProveItLink\" href=\"proofs/relax_IntervalOO_left_right/thm_proof.ipynb\">relax_IntervalOO_left_right</a> (conjecture without proof):<br></strong> <a class=\"ProveItLink\" href=\"../__pv_it/theorems/7f1cd542c9dde29876724b2ce7cb05fc6b0250f00/theorem_expr.ipynb\"><img src=\"data:image/png;base64,iVBORw0KGgoAAAANSUhEUgAAAPwAAAAZBAMAAADnDF5lAAAAMFBMVEX///8QEBCIiIhmZma6urrM\n",
       "zMxUVFQiIiJERETc3Nzu7u6qqqp2dnaYmJgyMjIAAAAcRTyBAAAAAXRSTlMAQObYZgAAA/JJREFU\n",
       "SMfdll9oHEUcx7+3d5u729u964MvWpQj0bSkKkcCFrHVU6H+wdrTh9YH4Y5o1RQteag9DUXOvHRj\n",
       "ERYfYhCUgYDFU3KHPpQWxaVRlPSPCy1Ygsoh1oKFEoKCjVD8zczu7VxyZk8hLw7czvyGufnM/P7N\n",
       "D4huL1YdbERLVI/0smwcG9Wm/2f497tN3n25U7auFDOOxLd492MEPiv+5EXTjVq32a/UFW/Sbcwi\n",
       "xiT+DO9+i8CbTeqyLBqfdaLwyBYEfk7iZ+ibrkXgxYKZHnR/AZH4XFPgzbzA8zuJy61re66eMz3g\n",
       "X+8w8dHqG2vxe5jAG5sE3lqo19+NdL0f6vWPevDAtLpGn2Tdbv8NBB6/SM//07aPROJztn3U7ZhU\n",
       "jKy3RxrZ1egfe+g0F+aYovz0juFbpPBr/30CPy/x+4Gpdh669g/4vhJSHV5lBoMnW8gUAyFFwfEJ\n",
       "vs8LnY+ptn/QyS5Jz7/BGg7H/yTxD8NotRfO+/2Jrc/9rOITBemq7dbe26QL3xsISXKiBXzHHuNC\n",
       "TcEbtyIu5cwKcnmOPyHxSWhhQF/l5/t8xNNMLOTVtDOOuwLx4/md0NuWyBLxw0CI0bYMtjTJbdeo\n",
       "+fj4CpJyv3gLDZfjyxJvesnwUtfpd+lkHYRf9FT8uXbus469x7gxgjhylGiPCTMsSzdUbx+roVEK\n",
       "wn5PU8GnW3tpMDvIE6O+PMhIzxB4V8V/oFfopANP7ydjcS2TkoYP8g3L/QdC9XHlQ/9DCpsUfMPF\n",
       "l/5xPTzAOP4RP+dPPU97vaqvcOqEVhAJlvAjBRWfmqZ/DPW1DsksTaF6vFTmrr2FDSBTUVzvlLaE\n",
       "IS4Mq/gmDso0nyuSHyiuh89o+3hBF5C81ZoV+PgLhzqenMx2+pSyHgxxqkeBEezjo0naJ1EL/TDx\n",
       "V2op7bVV4eNp48MmGnT0Pi9VEPgdPj5HPhFrahVhu3hln23bec1852Lni7fsG1p/zbYnsQvYjEE+\n",
       "dRPugR6ETmIcxujQgHzBjJceDz1/9I7p25Gc4DY7J9POZR9vkQ4bTmqRuhyLNfuk8jPPsg78Iv+U\n",
       "UYJQ9DMwruPtOo1W6ByJStekm/h2ddI9FWiJku648t7HnPJuzLAkuwSzJG2/4K5+79NL5+Hiaz48\n",
       "Dtys/+6l38KEVYPl9vjkuCHef3L8g45+uhNPNfWXacExnnbOu7P3r8YbrzxxJ0OKmzTJsGvbgKdv\n",
       "xt6z5Dlh2lv3wTXyIX5ubbUjfUUj269X7Wwl22u+W2VkLPdYblgI8VNr8Bmn92LLx5wU3y8iiq0t\n",
       "q4ot7UrRctbgrX9R6+2WnYgwo7ChpWa1S52vakpj/w2eqB7+G0E1FRs3yHS1AAAAAElFTkSuQmCC\n",
       "\" style=\"display:inline;vertical-align:middle;\" /></a><br>"
      ],
      "text/plain": [
       "relax_IntervalOO_left_right: forall_{a, b in Real} [forall_{x in (a,b)} (x in [a,b])]"
      ]
     },
     "execution_count": 58,
     "metadata": {},
     "output_type": "execute_result"
    }
   ],
   "source": [
    "relax_IntervalOO_left_right = Forall(\n",
    "    (a, b),\n",
    "    Forall(x,\n",
    "           InSet(x, IntervalCC(a, b)),\n",
    "           domain=IntervalOO(a, b)),\n",
    "    domain=Real)"
   ]
  },
  {
   "cell_type": "markdown",
   "metadata": {},
   "source": [
    "***Misc Theorems About the Real number set***"
   ]
  },
  {
   "cell_type": "code",
   "execution_count": 59,
   "metadata": {},
   "outputs": [
    {
     "data": {
      "text/html": [
       "<strong id=\"not_int_if_between_successive_int\"><a class=\"ProveItLink\" href=\"proofs/not_int_if_between_successive_int/thm_proof.ipynb\">not_int_if_between_successive_int</a> (conjecture without proof):<br></strong> <a class=\"ProveItLink\" href=\"../__pv_it/theorems/d9685e458913043f1fed6ba4e434b77d67ddb2b30/theorem_expr.ipynb\"><img src=\"data:image/png;base64,iVBORw0KGgoAAAANSUhEUgAAAO4AAAAZCAMAAAABp+KxAAAARVBMVEX///8/Pz9vb28YGBgNDQ0r\n",
       "KysPDw8WFhYQEBCIiIhmZma6urrMzMxUVFQiIiJERETc3Nzu7u6qqqp2dnaYmJgyMjIAAACoIi7K\n",
       "AAAAAXRSTlMAQObYZgAAA2dJREFUWMPdWImSpCAMdW/CFU7//1MXRCQotq1bO7Wz1NRU2+0LPEJe\n",
       "Eqbp8VBaazN9miHScv0f4PX02YZR/xFd+Z/RNeHRepwhdOP2dQgP6D6H3x4WXztXkTBlM4uR6cjy\n",
       "opRpdL2rL0X7gO5z+O0RX+siF9tHQC6LK5YdsrHRNXXPDD45zM/hd0fgb8cW96snfNkCDy12q1ea\n",
       "n27F7mP4bak4d25ArX/9bHHFbeEm1x2yrNEN3uZh9DOpegy/q1OnE0iERA/3u4E2/61xIJoyz5jH\n",
       "/RS8zv8G/G4xMkopUD0FoIyAej5zZFoan5vHgYin542uWqyjeUj3Gn5jI+WiAE4cf8GydpuMBQ2T\n",
       "3ugV3QU4yDhR8hAbXcFHu0OKRYaeI+cndK/gLQ9ck+W8GOVHiC7a4JMr/Wwnsb2Bw7yQnEDmdZqU\n",
       "GfkzHLOmdZ7zUDTCW7BnUjiGV/Qkr51LM2YBH8sfVjyeV4E0CciUYGP88T39owUynwSZV86Erg+j\n",
       "kiSgMzZbT9sqw6CiqZAhfEOvh/3lwD3dQY5l7YDP9OCWBLjPCzXlLqdhR9fEWpIEHiQUURD08PJR\n",
       "/FWKDZ4SHJeQ+RG03hkePB7pHk+Lds1V3QayQQHZUi6jZteaGY0qPwaRqy5muuowfW2cfJHXN3g6\n",
       "8CpOWlB0SSDE8ODxSNepE6lydoK5TFVdATvflOqpGODsIFXJxqoQxkL+kJRgssSAhaG4bnQrPCeQ\n",
       "uKyKoAX2hqfj44CuONRoJZeI2U04991C8vsuYGrKtSogKbO2jmiLBpW3Ku+I1Es6RVgSSY4AY0+r\n",
       "NhJM8+IxghaqN7ybR2WhWdQmULoyHrvzomEAFnjXjliF37q1CYaRpdlTn4Bl36Ps6Ib6OpPLVshO\n",
       "LZ3M1r05pbvBF02QndaWTEoMDx4H3lV3isivX1IVqc9zodXjftfksNAiR6qXTac4WciL/jKhfSxV\n",
       "RUOXqZphk48ZmaenuybIVJreaRGuSiTaInTHID+DX44KrlIYlFLeR60u6aZQER6K9OMmpNp2hiVz\n",
       "/TyEruF6VrDr5q5JXTTCXQN4PqDG7qPbjA0N+1bJvci7JG++zwouLhbQfOTlDZ7dpZzTdeHO5c2F\n",
       "c4P50Lsq0a8yXHdMlv+LN5Hv3jO7u80W/I17oHzPrH4DAm40b6pAgnkAAAAASUVORK5CYII=\n",
       "\" style=\"display:inline;vertical-align:middle;\" /></a><br>"
      ],
      "text/plain": [
       "not_int_if_between_successive_int: forall_{n in Integer} [forall_{x in (n,n + 1)} (x not-in Integer)]"
      ]
     },
     "execution_count": 59,
     "metadata": {},
     "output_type": "execute_result"
    }
   ],
   "source": [
    "not_int_if_between_successive_int = Forall(\n",
    "    n,\n",
    "    Forall(x,\n",
    "           NotInSet(x, Integer),\n",
    "           domain=IntervalOO(n, Add(n, one))),\n",
    "    domain=Integer)\n"
   ]
  },
  {
   "cell_type": "code",
   "execution_count": 60,
   "metadata": {},
   "outputs": [
    {
     "data": {
      "text/html": [
       "<strong id=\"e_is__real_pos\"><a class=\"ProveItLink\" href=\"proofs/e_is__real_pos/thm_proof.ipynb\">e_is__real_pos</a> (conjecture without proof):<br></strong> <a class=\"ProveItLink\" href=\"../__pv_it/theorems/0ffd3a446a1c17df2efd322a75a34018eb1b7e880/theorem_expr.ipynb\"><img src=\"data:image/png;base64,iVBORw0KGgoAAAANSUhEUgAAAD4AAAAUBAMAAAAn2JMnAAAAMFBMVEX///+6urqqqqoyMjJmZmbM\n",
       "zMxERETc3NyIiIiYmJh2dnYiIiIQEBBUVFTu7u4AAADP9LAkAAAAAXRSTlMAQObYZgAAANVJREFU\n",
       "KM9jYKAAXCAgn0ALec49aZ9tMvHoZ+a7wJqZx8BrbHzY2BKLPBv7AoaEWkz903bvNoDJuzPD5d+e\n",
       "XgCWDutD0u/OBpPnOz3jLIjNZ4ds/gVZmDzvOYb6ByC6AEmeaYsdTJ6/gYFtAkgUyX2ndxuBWSAt\n",
       "8f///wc5IMYYCKDuW+iQB1cdP728HGR+GbL/HMPgPKD5YMCDLM/2sgHGYzkHsYelAUme9YIrjMe3\n",
       "Z+UasNQmpPBlWMQbADdgPySQ3yY+gMdPAFvyJ4xwl8qGhC8KAAA2lj4oDHrjQAAAAABJRU5ErkJg\n",
       "gg==\n",
       "\" style=\"display:inline;vertical-align:middle;\" /></a><br>"
      ],
      "text/plain": [
       "e_is__real_pos: e in RealPos"
      ]
     },
     "execution_count": 60,
     "metadata": {},
     "output_type": "execute_result"
    }
   ],
   "source": [
    "e_is__real_pos = InSet(e, RealPos)"
   ]
  },
  {
   "cell_type": "code",
   "execution_count": 61,
   "metadata": {},
   "outputs": [
    {
     "data": {
      "text/html": [
       "<strong id=\"e_not_zero\"><a class=\"ProveItLink\" href=\"proofs/e_not_zero/thm_proof.ipynb\">e_not_zero</a> (conjecture without proof):<br></strong> <a class=\"ProveItLink\" href=\"../__pv_it/theorems/b5b167f613a9a90f7078c6914b14e23fe22e20980/theorem_expr.ipynb\"><img src=\"data:image/png;base64,iVBORw0KGgoAAAANSUhEUgAAAC8AAAAUCAMAAAAqRJTwAAAAOVBMVEX///8kJCQNDQ0oKCiqqqq6\n",
       "uroyMjJmZmbMzMxERETc3NyIiIiYmJh2dnYiIiIQEBBUVFTu7u4AAADPG9cHAAAAAXRSTlMAQObY\n",
       "ZgAAANFJREFUKM+1UlsOwyAMYxtvCIHc/7AjsG7QB1I/FgkkVNd2nAhxXVDEnfJ6+jlEsEt8VsND\n",
       "SyFK8it6NzwiNg29oh/VXeZbEndUMiZY0wtqeEXsClMMmPd4N9IXMh0fqi5WEU9bdqBbvZ58m02M\n",
       "mgHLeD6VLi7oK950PNTTa+7Azv4GP5ai55pn6XZJ0ycfufn5zZF9P7B38VVxLa3IXRps1BOh3g9y\n",
       "mFdJCBFwVFHmMI7Uku8hmER6ikcfF7NACPli36S5tcdn9KuS8Fd6oVYf3+FmCLbj3Z4qAAAAAElF\n",
       "TkSuQmCC\n",
       "\" style=\"display:inline;vertical-align:middle;\" /></a><br>"
      ],
      "text/plain": [
       "e_not_zero: e != 0"
      ]
     },
     "execution_count": 61,
     "metadata": {},
     "output_type": "execute_result"
    }
   ],
   "source": [
    "e_not_zero = NotEquals(e, zero)"
   ]
  },
  {
   "cell_type": "code",
   "execution_count": 62,
   "metadata": {},
   "outputs": [
    {
     "data": {
      "text/html": [
       "<strong id=\"pi_is__real_pos\"><a class=\"ProveItLink\" href=\"proofs/pi_is__real_pos/thm_proof.ipynb\">pi_is__real_pos</a> (conjecture without proof):<br></strong> <a class=\"ProveItLink\" href=\"../__pv_it/theorems/db492ff7d870c50100f169dcabc977fbdbb3411f0/theorem_expr.ipynb\"><img src=\"data:image/png;base64,iVBORw0KGgoAAAANSUhEUgAAAEEAAAAUBAMAAAAgmk0yAAAAMFBMVEX///8yMjK6uroiIiLu7u5U\n",
       "VFRERESYmJjc3NyqqqrMzMx2dnZmZmYQEBCIiIgAAADT23BBAAAAAXRSTlMAQObYZgAAANdJREFU\n",
       "KM9jYKAMsBJUwUZDFcXX8gWvFeA1Q8CVYVmZA0OgoKygYAFWFQndDGwcAdjMKDM2FoCq4GkQwKJi\n",
       "2ROEGTwNCXAVb/////8HxGARQbKFlQluC/euee0vGsAB2ICkYvJBB5iKlQw7+BageT6h19hwAojB\n",
       "AeWzOoDptYJAAHWpDpsDwn1cAcwQRhuSb3m0EhAqeAr4Iep5kcMjpQ6hwt+BXwGi9AGSiqU8C+Aq\n",
       "HjPwboCwLJFCnXtCFFxFJgMrVIVrkgMs5qQY0uQnYIkP7WRIqKMAAOynMpDCmoSdAAAAAElFTkSu\n",
       "QmCC\n",
       "\" style=\"display:inline;vertical-align:middle;\" /></a><br>"
      ],
      "text/plain": [
       "pi_is__real_pos: pi in RealPos"
      ]
     },
     "execution_count": 62,
     "metadata": {},
     "output_type": "execute_result"
    }
   ],
   "source": [
    "pi_is__real_pos = InSet(pi, RealPos)"
   ]
  },
  {
   "cell_type": "code",
   "execution_count": 63,
   "metadata": {},
   "outputs": [
    {
     "data": {
      "text/html": [
       "<strong id=\"pi_not_zero\"><a class=\"ProveItLink\" href=\"proofs/pi_not_zero/thm_proof.ipynb\">pi_not_zero</a> (conjecture without proof):<br></strong> <a class=\"ProveItLink\" href=\"../__pv_it/theorems/0fa6bd5477c8d4990082835ae8733344ee751e420/theorem_expr.ipynb\"><img src=\"data:image/png;base64,iVBORw0KGgoAAAANSUhEUgAAADMAAAAUCAMAAAAX1vWWAAAAOVBMVEX///8kJCQNDQ0oKCgyMjK6\n",
       "uroiIiLu7u5UVFRERESYmJjc3NyqqqrMzMx2dnZmZmYQEBCIiIgAAAAy0RBxAAAAAXRSTlMAQObY\n",
       "ZgAAANZJREFUOMu9k1sSwyAIRWmr8U2E/S+2on0Yk4nNT/kwY/B64KoA54EGrkZQmw3IY5pqrO4m\n",
       "KgKYJcwwrpv4XFlqhukrcVbGyOZ3DHDVaC4VAmVusY4a12NMy2umUiCmSMFT+DaHqsbjLuN7p8Ao\n",
       "n1Q0qaAwAB14uMEUzdo02JKl231nyW6mfW0tuRxghpPgl2/iAay+/Og5tZ9bbl19aK666OtKIyPr\n",
       "EaPGA+/PlKSujMMKvXMeFrk7uRrjpEA7atTeFINE9uSOxvXyGzjCzCLiXzCgz5JPvHYH3dL4nSAA\n",
       "AAAASUVORK5CYII=\n",
       "\" style=\"display:inline;vertical-align:middle;\" /></a><br>"
      ],
      "text/plain": [
       "pi_not_zero: pi != 0"
      ]
     },
     "execution_count": 63,
     "metadata": {},
     "output_type": "execute_result"
    }
   ],
   "source": [
    "pi_not_zero = NotEquals(pi, zero)"
   ]
  },
  {
   "cell_type": "markdown",
   "metadata": {},
   "source": [
    "***A set of in_bool theorems, which are accessed by the respective NumberSets to implement their ``deduce_membership_in_bool()`` methods, covering the ``RealSet``, ``RealPosSet``, and ``RealNegSet`` NumberSet classes (defined in proveit.numbers.number_sets.real_numbers/reals.py):***"
   ]
  },
  {
   "cell_type": "code",
   "execution_count": 64,
   "metadata": {},
   "outputs": [
    {
     "data": {
      "text/html": [
       "<strong id=\"real_membership_is_bool\"><a class=\"ProveItLink\" href=\"proofs/real_membership_is_bool/thm_proof.ipynb\">real_membership_is_bool</a> (conjecture without proof):<br></strong> <a class=\"ProveItLink\" href=\"../__pv_it/theorems/75f068d3890cf4f2d19755f15ebaeb265501dea40/theorem_expr.ipynb\"><img src=\"data:image/png;base64,iVBORw0KGgoAAAANSUhEUgAAAJoAAAAUBAMAAACHazmMAAAAMFBMVEX///8QEBCIiIhmZma6urrM\n",
       "zMxUVFQiIiJERETc3Nzu7u6qqqp2dnaYmJgyMjIAAAAcRTyBAAAAAXRSTlMAQObYZgAAAiJJREFU\n",
       "OMtjYMAAnBcgGBfgnoBb/AGIcRdZdAUUowPewo5/D3uBjEw0CXWJ/odlDmDx0yD+K2TJl1CMAfi4\n",
       "Elh7uxgY1qFLPAji6rIFi88A+a0B2QkGEIwJODgPMDRMY2DgUUCTaPBlUOUAi/MtAFIbkKTYJ0Aw\n",
       "kvnt5XUw0yz5GBi4BFDFQabt5gCL855atWo6st7pUAwHrE0LEG6zBOpieIIqDjLtyAqI+I+Ojhpk\n",
       "zcpQvEhtig7YS+sWIPk0wQ3IOMyAIg40jaU0FSIOpDqRTeuFYK4DvEXs4AjPRAo37mJQhN1jQBFn\n",
       "aHCs/+gAEXdm4HqAbFo1BPMs4PnFAg6+BoRp4uWvQYztDCjiIJ+evQMRZ2dgQkmqIhDMxcABUc4q\n",
       "9w4IIKYdMegCMeJRxUGmcbBcAIvzXGBnwGIaAwM/JCFwIrntgEkE3DROFLdxMCSAxTkfhAEFDpmq\n",
       "BaD4FCgHFRBAMo1jLcgKd1RxkGlsoEwFEu9MYWBgWpDH7oASC9wL9IGiIAEjJNNYE0zhsWCE4jbe\n",
       "AxDxzQXAQGB4C5M6DMH+G/oZ5kKS8wZEzmI4zQZ0sQ2qOMODGIYzZgwQcUj4/IRJuUPwMqVFtpDY\n",
       "4crwguf6AI6+3wwMT1HE4bkeLM4L8g/rB1acOYvlBDQHQQFXAX5xhvk8D3gI5noYwMj16OLLrhw6\n",
       "BRPsZEDLHehgHSniuEpLBmTriBYnVJLzTsApDgBzaqKtYmf6WQAAAABJRU5ErkJggg==\n",
       "\" style=\"display:inline;vertical-align:middle;\" /></a><br>"
      ],
      "text/plain": [
       "real_membership_is_bool: forall_{x} ((x in Real) in BOOLEAN)"
      ]
     },
     "execution_count": 64,
     "metadata": {},
     "output_type": "execute_result"
    }
   ],
   "source": [
    "real_membership_is_bool = Forall(x, in_bool(InSet(x, Real)))"
   ]
  },
  {
   "cell_type": "code",
   "execution_count": 65,
   "metadata": {},
   "outputs": [
    {
     "data": {
      "text/html": [
       "<strong id=\"real_pos_membership_is_bool\"><a class=\"ProveItLink\" href=\"proofs/real_pos_membership_is_bool/thm_proof.ipynb\">real_pos_membership_is_bool</a> (conjecture without proof):<br></strong> <a class=\"ProveItLink\" href=\"../__pv_it/theorems/d9db2da469c64443b2dc94976c4ba62875eec2ce0/theorem_expr.ipynb\"><img src=\"data:image/png;base64,iVBORw0KGgoAAAANSUhEUgAAAK0AAAAbBAMAAAD8EhIYAAAAMFBMVEX///8QEBCIiIhmZma6urrM\n",
       "zMxUVFQiIiJERETc3Nzu7u6qqqp2dnaYmJgyMjIAAAAcRTyBAAAAAXRSTlMAQObYZgAAAq5JREFU\n",
       "SMe9Vk1oE0EUfibZ3yY1B0FBkGhRIaccrFhRiAoFwWLqQXoQuogevIhSasCK7kEwDVQ9aW7uqUhR\n",
       "WuhNLyX2lFpUEPVQYesx0hAlgm1BfJPdmZ3Z7CQn/WC/2X3f5tvZN2/eBuD/QclTksPCIyPRYpL4\n",
       "RUZy2HgMS7SEFR2vM+rum3wvEVcjo/EMpR6+cFsiag6AS06+8tFnDqUwUjdLf9ZnAt+BkH54z6P1\n",
       "W7gusRzASsdLv2HUgX7TUmbKoDYa+xob+PCw7l4wyycBjCZABS8Nmxf3MuqAbiyB/YTNV1sIZ2cE\n",
       "Duo4TuEU8IWTvG5sUQrwpVh0qe9QP/ON2yEdfV8T32OYs9rc3FMhiWlKDGNZbr5DOvONpUM6+i4/\n",
       "x3E/Hr9LpTtCObg+mQeuna6SiFnn82ANM9+E91aBbo8kJq/ieB6TgOO0kEPbpxfwOXOXRNTHnG/f\n",
       "RJ35Kr9A1O1T936QfTpeADgDpiusueVTDd45Z9tu3LrtLn5vn7WtjBaIOuZhdY1UKZprEBP2jZbz\n",
       "yYGSFxltIPx1W86Vg1vNVkhHXz2BbvN5shs1sUZzlOCnF6nwdXZkjCudVkgnvqQlkfkaLmkx1cFD\n",
       "Bf+3FiU/fbCD99VfBjtc2Qzp6KuSHTxO0jR9BSvGua75jVG1fXoVa0IWhF6Bvoo1GDSuLRB1Mt/U\n",
       "klcPsHgDnwwbrHumPUps603Dy/wUt49hRS0Ipc7r7iV4exTHD+RiZ/txm8IkkMzL2QG/H83ed1jf\n",
       "KegPt1mp26JO+w7Zb3g3CSpNhd69ixHDuQdFN6oNZST6N9Ybk26Snp9g1AvzTnTcZN1l9mO1Rs9H\n",
       "GfXCJ0k8FfkhUhco9cKk7HtRiHwLl1IPkIqKxFp0eJFRd1QkcfEzEaAvT6k7jkviceff/bf5Cw/O\n",
       "wLim5VPZAAAAAElFTkSuQmCC\n",
       "\" style=\"display:inline;vertical-align:middle;\" /></a><br>"
      ],
      "text/plain": [
       "real_pos_membership_is_bool: forall_{x} ((x in RealPos) in BOOLEAN)"
      ]
     },
     "execution_count": 65,
     "metadata": {},
     "output_type": "execute_result"
    }
   ],
   "source": [
    "real_pos_membership_is_bool = Forall(x, in_bool(InSet(x, RealPos)))"
   ]
  },
  {
   "cell_type": "code",
   "execution_count": 66,
   "metadata": {},
   "outputs": [
    {
     "data": {
      "text/html": [
       "<strong id=\"real_neg_membership_is_bool\"><a class=\"ProveItLink\" href=\"proofs/real_neg_membership_is_bool/thm_proof.ipynb\">real_neg_membership_is_bool</a> (conjecture without proof):<br></strong> <a class=\"ProveItLink\" href=\"../__pv_it/theorems/b069b732a5ac8b6d99666fa0d5ab3d1bfe636c910/theorem_expr.ipynb\"><img src=\"data:image/png;base64,iVBORw0KGgoAAAANSUhEUgAAAK0AAAAaBAMAAAA3TsG9AAAAMFBMVEX///8QEBCIiIhmZma6urrM\n",
       "zMxUVFQiIiJERETc3Nzu7u6qqqp2dnaYmJgyMjIAAAAcRTyBAAAAAXRSTlMAQObYZgAAAptJREFU\n",
       "SMe1VT9oE1EY/8wluT8msYNDwCVaVMiURRGpEi2KgoepQ+kgNIgdXMSlBqzUGwqmXRonMwi9KUgR\n",
       "Gugg6CLRKVr8g9gOFU7BpWCNUsHq0u/13nv37t1dbvIH+b273y9879/3fQcQRKrMqD8KEXoiQh/l\n",
       "1B/nI/RkNVzf4NQfmXcRxkqoqhQYxeFOhK7aAA55+CyqCzYjGav5+c28sMhByT+an/9yG+8lUQJ4\n",
       "Hdj0S04BOC0YW7PhQh2BEy8E/CvG3CkAvQfQxFfdEs0DnAKwHoGme7eitmXfhMMajlMAOZw3I/r6\n",
       "X0Ye1mo1h8ZVGo53E5bsm/CcxD0BkO0uLj4UY2QHGHGMFb31Kg1vc4kB2Tfh1WMcD+LvT71+15cO\n",
       "DiXj0I2zHaIYG8I5pIXsTLq7EnwzOTmB42U8BBxnxbiaRekJrBamiZJuCHGfnvYyJfUbJP/MvZ+k\n",
       "TscrAMNgOGLcXJVSF97aF3dn8u7lQW1auAt9CyTfhJV1kqUYXIWEr27UEiUb6q4ysomg9zasCYlt\n",
       "bMm+CVoSoy2VSTWqvrvPlRjBL1dpCnmmnLMC622K69Wg6q5Xd0iL6Rw7UqHnW2VEjw/2iPk790Fo\n",
       "fNuyb0KaVPA4OfHZ65gx9k2VNsa0RelZogdF8PUKjDuqVOR8EHxcb/aFmw+wfAtnhu++pERK/tN6\n",
       "unvyU0IdZ9oT/lT3+VfhzXEc35OXfbvTbfsWgWRcKw7SftSasVnf+Qb1H2253pjP+g6pN5yViKle\n",
       "iv17PyeOS/drTki7yBUi/K+8N2acDHse4hSHJTtcN3h3aX3sdNnzCKc4fIrQs6EfonSbURwmo74X\n",
       "ldBdOIxiQDIqFOvh8jKn/mhG6P7PhIe9ZUb9cTJCV2z4b9gBqSrD5Em2g6oAAAAASUVORK5CYII=\n",
       "\" style=\"display:inline;vertical-align:middle;\" /></a><br>"
      ],
      "text/plain": [
       "real_neg_membership_is_bool: forall_{x} ((x in RealNeg) in BOOLEAN)"
      ]
     },
     "execution_count": 66,
     "metadata": {},
     "output_type": "execute_result"
    }
   ],
   "source": [
    "real_neg_membership_is_bool = Forall(x, in_bool(InSet(x, RealNeg)))"
   ]
  },
  {
   "cell_type": "code",
   "execution_count": 67,
   "metadata": {},
   "outputs": [
    {
     "name": "stdout",
     "output_type": "stream",
     "text": [
      "These theorems may now be imported from the theory package: proveit.numbers.number_sets.real_numbers\n"
     ]
    }
   ],
   "source": [
    "%end theorems"
   ]
  },
  {
   "cell_type": "code",
   "execution_count": null,
   "metadata": {},
   "outputs": [],
   "source": []
  }
 ],
 "metadata": {
  "kernelspec": {
   "display_name": "Python 3",
   "language": "python",
   "name": "python3"
  }
 },
 "nbformat": 4,
 "nbformat_minor": 0
}