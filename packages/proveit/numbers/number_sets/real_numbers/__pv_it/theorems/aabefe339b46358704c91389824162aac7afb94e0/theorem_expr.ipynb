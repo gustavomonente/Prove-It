{
 "cells": [
  {
   "cell_type": "markdown",
   "metadata": {},
   "source": [
    "Theorem <a class=\"ProveItLink\" href=\"../../../_theorems_.ipynb#real_pos_interval_o_c_is_subset_of_RealPos\">real_pos_interval_o_c_is_subset_of_RealPos</a> of type <a class=\"ProveItLink\" href=\"../../../../../../../../doc/html/api/proveit.logic.Forall.html\">Forall</a>\n",
    "=======================\n",
    "# from the theory of <a class=\"ProveItLink\" href=\"../../../_theory_nbs_/theory.ipynb\">proveit.numbers.number_sets.real_numbers</a>\n",
    "*** see <a class=\"ProveItLink\" href=\"dependencies.ipynb\">dependencies</a> ***"
   ]
  },
  {
   "cell_type": "code",
   "execution_count": 1,
   "metadata": {},
   "outputs": [],
   "source": [
    "import proveit\n",
    "# Automation is not needed when only building an expression:\n",
    "proveit.defaults.automation = False # This will speed things up.\n",
    "proveit.defaults.inline_pngs = False # Makes files smaller.\n",
    "%load_theorem_expr # Load the stored theorem expression as 'stored_expr'\n",
    "# import the special expression\n",
    "from proveit.numbers.number_sets.real_numbers import real_pos_interval_o_c_is_subset_of_RealPos"
   ]
  },
  {
   "cell_type": "code",
   "execution_count": 2,
   "metadata": {},
   "outputs": [
    {
     "name": "stdout",
     "output_type": "stream",
     "text": [
      "Passed sanity check: real_pos_interval_o_c_is_subset_of_RealPos matches stored_expr\n"
     ]
    }
   ],
   "source": [
    "# check that the built expression is the same as the stored expression\n",
    "assert real_pos_interval_o_c_is_subset_of_RealPos.expr == stored_expr\n",
    "assert real_pos_interval_o_c_is_subset_of_RealPos.expr._style_id == stored_expr._style_id\n",
    "print(\"Passed sanity check: real_pos_interval_o_c_is_subset_of_RealPos matches stored_expr\")"
   ]
  },
  {
   "cell_type": "code",
   "execution_count": 3,
   "metadata": {},
   "outputs": [
    {
     "name": "stdout",
     "output_type": "stream",
     "text": [
      "\\vdash \\forall_{a, b \\in \\mathbb{R}^+}~\\left(\\left(a,b\\right] \\subset \\mathbb{R}^+\\right)\n"
     ]
    }
   ],
   "source": [
    "# Show the LaTeX representation of the expression for convenience if you need it.\n",
    "print(real_pos_interval_o_c_is_subset_of_RealPos.latex())"
   ]
  },
  {
   "cell_type": "code",
   "execution_count": 4,
   "metadata": {},
   "outputs": [
    {
     "data": {
      "text/html": [
       "<table><tr><th>&nbsp;</th><th>core type</th><th>sub-expressions</th><th>expression</th></tr>\n",
       "<tr><td>0</td><td>Operation</td><td>operator:&nbsp;1<br>operand:&nbsp;2<br></td><td><a class=\"ProveItLink\" href=\"../741a8508ae97ebb410413a72567ffe835497e0a30/expr.ipynb\"><img src=\"../741a8508ae97ebb410413a72567ffe835497e0a30/expr.png\" style=\"display:inline;vertical-align:middle;\" /></a></td></tr>\n",
       "<tr><td>1</td><td>Literal</td><td></td><td><a class=\"ProveItLink\" href=\"../../../../../../logic/booleans/quantification/universality/__pv_it/common/083d2baa0b8ecab1d230f9ec29a15aa1355809fb0/expr.ipynb\"><img src=\"../../../../../../logic/booleans/quantification/universality/__pv_it/common/083d2baa0b8ecab1d230f9ec29a15aa1355809fb0/expr.png\" style=\"display:inline;vertical-align:middle;\" /></a></td></tr>\n",
       "<tr><td>2</td><td>Lambda</td><td>parameters:&nbsp;14<br>body:&nbsp;3<br></td><td><a class=\"ProveItLink\" href=\"../4b7531781adae41b8c39a227a9371e61ac59d0ce0/expr.ipynb\"><img src=\"../4b7531781adae41b8c39a227a9371e61ac59d0ce0/expr.png\" style=\"display:inline;vertical-align:middle;\" /></a></td></tr>\n",
       "<tr><td>3</td><td>Conditional</td><td>value:&nbsp;4<br>condition:&nbsp;5<br></td><td><a class=\"ProveItLink\" href=\"../19c8ee96a02e64bb9d4aadfa0a4c8f57319fb7800/expr.ipynb\"><img src=\"../19c8ee96a02e64bb9d4aadfa0a4c8f57319fb7800/expr.png\" style=\"display:inline;vertical-align:middle;\" /></a></td></tr>\n",
       "<tr><td>4</td><td>Operation</td><td>operator:&nbsp;6<br>operands:&nbsp;7<br></td><td><a class=\"ProveItLink\" href=\"../911cda7d5a7a1229152778edf37c165233f1ad050/expr.ipynb\"><img src=\"../911cda7d5a7a1229152778edf37c165233f1ad050/expr.png\" style=\"display:inline;vertical-align:middle;\" /></a></td></tr>\n",
       "<tr><td>5</td><td>Operation</td><td>operator:&nbsp;8<br>operands:&nbsp;9<br></td><td><a class=\"ProveItLink\" href=\"../ab04a0416fcc172a80674a2cf8e9ed46bb9a4a510/expr.ipynb\"><img src=\"../ab04a0416fcc172a80674a2cf8e9ed46bb9a4a510/expr.png\" style=\"display:inline;vertical-align:middle;\" /></a></td></tr>\n",
       "<tr><td>6</td><td>Literal</td><td></td><td><a class=\"ProveItLink\" href=\"../../../../../../logic/sets/inclusion/__pv_it/common/adc9164d5bfa989e5765900a8c87188c1d60284f0/expr.ipynb\"><img src=\"../../../../../../logic/sets/inclusion/__pv_it/common/adc9164d5bfa989e5765900a8c87188c1d60284f0/expr.png\" style=\"display:inline;vertical-align:middle;\" /></a></td></tr>\n",
       "<tr><td>7</td><td>ExprTuple</td><td>10, 20</td><td><a class=\"ProveItLink\" href=\"../7d6745b66bf60b23bd4fafbd8d1afff8aa97db4f0/expr.ipynb\"><img src=\"../7d6745b66bf60b23bd4fafbd8d1afff8aa97db4f0/expr.png\" style=\"display:inline;vertical-align:middle;\" /></a></td></tr>\n",
       "<tr><td>8</td><td>Literal</td><td></td><td><a class=\"ProveItLink\" href=\"../../../../../../logic/booleans/conjunction/__pv_it/common/42118ff318bd65d98b1393f64ce7c2269feef76e0/expr.ipynb\"><img src=\"../../../../../../logic/booleans/conjunction/__pv_it/common/42118ff318bd65d98b1393f64ce7c2269feef76e0/expr.png\" style=\"display:inline;vertical-align:middle;\" /></a></td></tr>\n",
       "<tr><td>9</td><td>ExprTuple</td><td>11, 12</td><td><a class=\"ProveItLink\" href=\"../bf257022059ca1b338b3a61d281f34844ec21b920/expr.ipynb\"><img src=\"../bf257022059ca1b338b3a61d281f34844ec21b920/expr.png\" style=\"display:inline;vertical-align:middle;\" /></a></td></tr>\n",
       "<tr><td>10</td><td>Operation</td><td>operator:&nbsp;13<br>operands:&nbsp;14<br></td><td><a class=\"ProveItLink\" href=\"../8db33a654b42e70026859bd999550d49b732e3240/expr.ipynb\"><img src=\"../8db33a654b42e70026859bd999550d49b732e3240/expr.png\" style=\"display:inline;vertical-align:middle;\" /></a></td></tr>\n",
       "<tr><td>11</td><td>Operation</td><td>operator:&nbsp;16<br>operands:&nbsp;15<br></td><td><a class=\"ProveItLink\" href=\"../8f968293f827dd686715bfc3bd382c80ec971bc60/expr.ipynb\"><img src=\"../8f968293f827dd686715bfc3bd382c80ec971bc60/expr.png\" style=\"display:inline;vertical-align:middle;\" /></a></td></tr>\n",
       "<tr><td>12</td><td>Operation</td><td>operator:&nbsp;16<br>operands:&nbsp;17<br></td><td><a class=\"ProveItLink\" href=\"../6331e1fb8ea4dfd1894d560e5cd09a8bc42009b40/expr.ipynb\"><img src=\"../6331e1fb8ea4dfd1894d560e5cd09a8bc42009b40/expr.png\" style=\"display:inline;vertical-align:middle;\" /></a></td></tr>\n",
       "<tr><td>13</td><td>Literal</td><td></td><td><a class=\"ProveItLink\" href=\"../../common/79c402d5e4fce01af951e7b380ee0bdb7fc710120/expr.ipynb\"><img src=\"../../common/79c402d5e4fce01af951e7b380ee0bdb7fc710120/expr.png\" style=\"display:inline;vertical-align:middle;\" /></a></td></tr>\n",
       "<tr><td>14</td><td>ExprTuple</td><td>18, 19</td><td><a class=\"ProveItLink\" href=\"../0e00cf301f391b9db3f5ff72911e8e2539c94fb00/expr.ipynb\"><img src=\"../0e00cf301f391b9db3f5ff72911e8e2539c94fb00/expr.png\" style=\"display:inline;vertical-align:middle;\" /></a></td></tr>\n",
       "<tr><td>15</td><td>ExprTuple</td><td>18, 20</td><td><a class=\"ProveItLink\" href=\"../5922f3087ee302baa15f5e881195256855845b930/expr.ipynb\"><img src=\"../5922f3087ee302baa15f5e881195256855845b930/expr.png\" style=\"display:inline;vertical-align:middle;\" /></a></td></tr>\n",
       "<tr><td>16</td><td>Literal</td><td></td><td><a class=\"ProveItLink\" href=\"../../../../../../logic/sets/membership/__pv_it/common/477487d8796864d23d5810f83761435f25167f690/expr.ipynb\"><img src=\"../../../../../../logic/sets/membership/__pv_it/common/477487d8796864d23d5810f83761435f25167f690/expr.png\" style=\"display:inline;vertical-align:middle;\" /></a></td></tr>\n",
       "<tr><td>17</td><td>ExprTuple</td><td>19, 20</td><td><a class=\"ProveItLink\" href=\"../cd48bddba551f23e525175a8fa749269d221be440/expr.ipynb\"><img src=\"../cd48bddba551f23e525175a8fa749269d221be440/expr.png\" style=\"display:inline;vertical-align:middle;\" /></a></td></tr>\n",
       "<tr><td>18</td><td>Variable</td><td></td><td><a class=\"ProveItLink\" href=\"../../../../../../__pv_it/common/c06c606ec12678c58933ac85412ecadc2ae28be60/expr.ipynb\"><img src=\"../../../../../../__pv_it/common/c06c606ec12678c58933ac85412ecadc2ae28be60/expr.png\" style=\"display:inline;vertical-align:middle;\" /></a></td></tr>\n",
       "<tr><td>19</td><td>Variable</td><td></td><td><a class=\"ProveItLink\" href=\"../../../../../../__pv_it/common/195236b98c6c564a75b5dbada74b173bc52d5c3e0/expr.ipynb\"><img src=\"../../../../../../__pv_it/common/195236b98c6c564a75b5dbada74b173bc52d5c3e0/expr.png\" style=\"display:inline;vertical-align:middle;\" /></a></td></tr>\n",
       "<tr><td>20</td><td>Literal</td><td></td><td><a class=\"ProveItLink\" href=\"../../common/bce03b8bb2f8dc632941ebceb41ff458ace6f34c0/expr.ipynb\"><img src=\"../../common/bce03b8bb2f8dc632941ebceb41ff458ace6f34c0/expr.png\" style=\"display:inline;vertical-align:middle;\" /></a></td></tr>\n",
       "</table>\n"
      ],
      "text/plain": [
       "0. forall_{a, b in RealPos} ((a,b] proper_subset RealPos)\n",
       "   core type: Operation\n",
       "   operator: 1\n",
       "   operand: 2\n",
       "1. forall\n",
       "   core type: Literal\n",
       "   sub-expressions: \n",
       "2. (a, b) -> {(a,b] proper_subset RealPos if a in RealPos ,  b in RealPos.\n",
       "   core type: Lambda\n",
       "   parameters: 14\\n   body: 3\n",
       "3. {(a,b] proper_subset RealPos if a in RealPos ,  b in RealPos.\n",
       "   core type: Conditional\n",
       "   value: 4\n",
       "   condition: 5\n",
       "4. (a,b] proper_subset RealPos\n",
       "   core type: Operation\n",
       "   operator: 6\n",
       "   operands: 7\n",
       "5. (a in RealPos) and (b in RealPos)\n",
       "   core type: Operation\n",
       "   operator: 8\n",
       "   operands: 9\n",
       "6. proper_subset\n",
       "   core type: Literal\n",
       "   sub-expressions: \n",
       "7. ((a,b], RealPos)\n",
       "   core type: ExprTuple\n",
       "   sub-expressions: 10, 20\n",
       "8. and\n",
       "   core type: Literal\n",
       "   sub-expressions: \n",
       "9. (a in RealPos, b in RealPos)\n",
       "   core type: ExprTuple\n",
       "   sub-expressions: 11, 12\n",
       "10. (a,b]\n",
       "    core type: Operation\n",
       "    operator: 13\n",
       "    operands: 14\n",
       "11. a in RealPos\n",
       "    core type: Operation\n",
       "    operator: 16\n",
       "    operands: 15\n",
       "12. b in RealPos\n",
       "    core type: Operation\n",
       "    operator: 16\n",
       "    operands: 17\n",
       "13. IntervalOC\n",
       "    core type: Literal\n",
       "    sub-expressions: \n",
       "14. (a, b)\n",
       "    core type: ExprTuple\n",
       "    sub-expressions: 18, 19\n",
       "15. (a, RealPos)\n",
       "    core type: ExprTuple\n",
       "    sub-expressions: 18, 20\n",
       "16. in\n",
       "    core type: Literal\n",
       "    sub-expressions: \n",
       "17. (b, RealPos)\n",
       "    core type: ExprTuple\n",
       "    sub-expressions: 19, 20\n",
       "18. a\n",
       "    core type: Variable\n",
       "    sub-expressions: \n",
       "19. b\n",
       "    core type: Variable\n",
       "    sub-expressions: \n",
       "20. RealPos\n",
       "    core type: Literal\n",
       "    sub-expressions: "
      ]
     },
     "execution_count": 4,
     "metadata": {},
     "output_type": "execute_result"
    }
   ],
   "source": [
    "# display the expression information\n",
    "real_pos_interval_o_c_is_subset_of_RealPos.expr_info()"
   ]
  },
  {
   "cell_type": "code",
   "execution_count": null,
   "metadata": {},
   "outputs": [],
   "source": []
  }
 ],
 "metadata": {
  "kernelspec": {
   "display_name": "Python 3",
   "language": "python",
   "name": "python3"
  }
 },
 "nbformat": 4,
 "nbformat_minor": 0
}