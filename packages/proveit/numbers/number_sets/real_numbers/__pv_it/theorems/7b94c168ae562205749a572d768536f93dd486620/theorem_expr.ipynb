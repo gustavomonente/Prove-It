{
 "cells": [
  {
   "cell_type": "markdown",
   "metadata": {},
   "source": [
    "Theorem <a class=\"ProveItLink\" href=\"../../../_theorems_.ipynb#rescale_interval_co_membership\">rescale_interval_co_membership</a> of type <a class=\"ProveItLink\" href=\"../../../../../../../../doc/html/api/proveit.logic.Forall.html\">Forall</a>\n",
    "=======================\n",
    "# from the theory of <a class=\"ProveItLink\" href=\"../../../_theory_nbs_/theory.ipynb\">proveit.numbers.number_sets.real_numbers</a>\n",
    "*** see <a class=\"ProveItLink\" href=\"dependencies.ipynb\">dependencies</a> ***"
   ]
  },
  {
   "cell_type": "code",
   "execution_count": 1,
   "metadata": {},
   "outputs": [],
   "source": [
    "import proveit\n",
    "# Automation is not needed when only building an expression:\n",
    "proveit.defaults.automation = False # This will speed things up.\n",
    "proveit.defaults.inline_pngs = False # Makes files smaller.\n",
    "%load_theorem_expr # Load the stored theorem expression as 'stored_expr'\n",
    "# import the special expression\n",
    "from proveit.numbers.number_sets.real_numbers import rescale_interval_co_membership"
   ]
  },
  {
   "cell_type": "code",
   "execution_count": 2,
   "metadata": {},
   "outputs": [
    {
     "name": "stdout",
     "output_type": "stream",
     "text": [
      "Passed sanity check: rescale_interval_co_membership matches stored_expr\n"
     ]
    }
   ],
   "source": [
    "# check that the built expression is the same as the stored expression\n",
    "assert rescale_interval_co_membership.expr == stored_expr\n",
    "assert rescale_interval_co_membership.expr._style_id == stored_expr._style_id\n",
    "print(\"Passed sanity check: rescale_interval_co_membership matches stored_expr\")"
   ]
  },
  {
   "cell_type": "code",
   "execution_count": 3,
   "metadata": {},
   "outputs": [
    {
     "name": "stdout",
     "output_type": "stream",
     "text": [
      "\\vdash \\forall_{a, b, c \\in \\mathbb{R}}~\\left[\\forall_{x \\in \\left[a,b\\right)}~\\left(\\left(c \\cdot x\\right) \\in \\left[c \\cdot a,c \\cdot b\\right)\\right)\\right]\n"
     ]
    }
   ],
   "source": [
    "# Show the LaTeX representation of the expression for convenience if you need it.\n",
    "print(rescale_interval_co_membership.latex())"
   ]
  },
  {
   "cell_type": "code",
   "execution_count": 4,
   "metadata": {},
   "outputs": [
    {
     "data": {
      "text/html": [
       "<table>\n",
       "<tr><th>name</th><th>description</th><th>default</th><th>current value</th><th>related methods</th></tr><tr><td>with_wrapping</td><td>If 'True', wrap the Expression after the parameters</td><td>None</td><td>None/False</td><td>('with_wrapping',)</td></tr>\n",
       "<tr><td>wrap_params</td><td>If 'True', wraps every two parameters AND wraps the Expression after the parameters</td><td>None</td><td>None/False</td><td>('with_params',)</td></tr>\n",
       "<tr><td>justification</td><td>justify to the 'left', 'center', or 'right' in the array cells</td><td>center</td><td>center</td><td>('with_justification',)</td></tr>\n",
       "</table>\n"
      ],
      "text/plain": [
       "style name: with_wrapping\n",
       "description: If 'True', wrap the Expression after the parameters\n",
       "default: None\n",
       "current value: None/False\n",
       "related methods: ('with_wrapping',)\n",
       "style name: wrap_params\n",
       "description: If 'True', wraps every two parameters AND wraps the Expression after the parameters\n",
       "default: None\n",
       "current value: None/False\n",
       "related methods: ('with_params',)\n",
       "style name: justification\n",
       "description: justify to the 'left', 'center', or 'right' in the array cells\n",
       "default: center\n",
       "current value: center\n",
       "related methods: ('with_justification',)"
      ]
     },
     "execution_count": 4,
     "metadata": {},
     "output_type": "execute_result"
    }
   ],
   "source": [
    "rescale_interval_co_membership.style_options()"
   ]
  },
  {
   "cell_type": "code",
   "execution_count": 5,
   "metadata": {},
   "outputs": [
    {
     "data": {
      "text/html": [
       "<table><tr><th>&nbsp;</th><th>core type</th><th>sub-expressions</th><th>expression</th></tr>\n",
       "<tr><td>0</td><td>Operation</td><td>operator:&nbsp;7<br>operand:&nbsp;2<br></td><td><a class=\"ProveItLink\" href=\"../ae3377a2ef262d85e03a7e1208ba2fdc2233fe4a0/expr.ipynb\"><img src=\"../ae3377a2ef262d85e03a7e1208ba2fdc2233fe4a0/expr.png\" style=\"display:inline;vertical-align:middle;\" /></a></td></tr>\n",
       "<tr><td>1</td><td>ExprTuple</td><td>2</td><td><a class=\"ProveItLink\" href=\"../681b037db393961a5cd373ff879b7132af4225c10/expr.ipynb\"><img src=\"../681b037db393961a5cd373ff879b7132af4225c10/expr.png\" style=\"display:inline;vertical-align:middle;\" /></a></td></tr>\n",
       "<tr><td>2</td><td>Lambda</td><td>parameters:&nbsp;3<br>body:&nbsp;4<br></td><td><a class=\"ProveItLink\" href=\"../862d65872e21907dc562f9a81c4e2f3fe38f4b910/expr.ipynb\"><img src=\"../862d65872e21907dc562f9a81c4e2f3fe38f4b910/expr.png\" style=\"display:inline;vertical-align:middle;\" /></a></td></tr>\n",
       "<tr><td>3</td><td>ExprTuple</td><td>38, 40, 39</td><td><a class=\"ProveItLink\" href=\"../af1b38d8364fba38e8e8a99cd7213199d21c0f420/expr.ipynb\"><img src=\"../af1b38d8364fba38e8e8a99cd7213199d21c0f420/expr.png\" style=\"display:inline;vertical-align:middle;\" /></a></td></tr>\n",
       "<tr><td>4</td><td>Conditional</td><td>value:&nbsp;5<br>condition:&nbsp;6<br></td><td><a class=\"ProveItLink\" href=\"../e950da7df0bac147b3ce771ef3929458ca685fcf0/expr.ipynb\"><img src=\"../e950da7df0bac147b3ce771ef3929458ca685fcf0/expr.png\" style=\"display:inline;vertical-align:middle;\" /></a></td></tr>\n",
       "<tr><td>5</td><td>Operation</td><td>operator:&nbsp;7<br>operand:&nbsp;11<br></td><td><a class=\"ProveItLink\" href=\"../abe06ca702257cedb6fdac21e594f12a16d332330/expr.ipynb\"><img src=\"../abe06ca702257cedb6fdac21e594f12a16d332330/expr.png\" style=\"display:inline;vertical-align:middle;\" /></a></td></tr>\n",
       "<tr><td>6</td><td>Operation</td><td>operator:&nbsp;9<br>operands:&nbsp;10<br></td><td><a class=\"ProveItLink\" href=\"../4ca2ac02d1ea056988d0582df890a777a4252d2e0/expr.ipynb\"><img src=\"../4ca2ac02d1ea056988d0582df890a777a4252d2e0/expr.png\" style=\"display:inline;vertical-align:middle;\" /></a></td></tr>\n",
       "<tr><td>7</td><td>Literal</td><td></td><td><a class=\"ProveItLink\" href=\"../../../../../../logic/booleans/quantification/universality/__pv_it/common/684d35ba98fcbf8ca5011f865e530a51e77730630/expr.ipynb\"><img src=\"../../../../../../logic/booleans/quantification/universality/__pv_it/common/684d35ba98fcbf8ca5011f865e530a51e77730630/expr.png\" style=\"display:inline;vertical-align:middle;\" /></a></td></tr>\n",
       "<tr><td>8</td><td>ExprTuple</td><td>11</td><td><a class=\"ProveItLink\" href=\"../efb08b30d2cef066da4c19f044429da5915e3fa80/expr.ipynb\"><img src=\"../efb08b30d2cef066da4c19f044429da5915e3fa80/expr.png\" style=\"display:inline;vertical-align:middle;\" /></a></td></tr>\n",
       "<tr><td>9</td><td>Literal</td><td></td><td><a class=\"ProveItLink\" href=\"../../../../../../logic/booleans/conjunction/__pv_it/common/26b94b53e70b1d77b70f0d9d4236347db37731060/expr.ipynb\"><img src=\"../../../../../../logic/booleans/conjunction/__pv_it/common/26b94b53e70b1d77b70f0d9d4236347db37731060/expr.png\" style=\"display:inline;vertical-align:middle;\" /></a></td></tr>\n",
       "<tr><td>10</td><td>ExprTuple</td><td>12, 13, 14</td><td><a class=\"ProveItLink\" href=\"../52fd58f9e40e038702d03fbf84b62f3048d75f410/expr.ipynb\"><img src=\"../52fd58f9e40e038702d03fbf84b62f3048d75f410/expr.png\" style=\"display:inline;vertical-align:middle;\" /></a></td></tr>\n",
       "<tr><td>11</td><td>Lambda</td><td>parameter:&nbsp;32<br>body:&nbsp;15<br></td><td><a class=\"ProveItLink\" href=\"../da44c97147fd70f4a650fe3a4a22778855c51a600/expr.ipynb\"><img src=\"../da44c97147fd70f4a650fe3a4a22778855c51a600/expr.png\" style=\"display:inline;vertical-align:middle;\" /></a></td></tr>\n",
       "<tr><td>12</td><td>Operation</td><td>operator:&nbsp;23<br>operands:&nbsp;16<br></td><td><a class=\"ProveItLink\" href=\"../198b5497202895d48bd302a3a3c68c1371cb556a0/expr.ipynb\"><img src=\"../198b5497202895d48bd302a3a3c68c1371cb556a0/expr.png\" style=\"display:inline;vertical-align:middle;\" /></a></td></tr>\n",
       "<tr><td>13</td><td>Operation</td><td>operator:&nbsp;23<br>operands:&nbsp;17<br></td><td><a class=\"ProveItLink\" href=\"../f0cacc35d5c0addf7a3b918589c51cb9f7a66cf10/expr.ipynb\"><img src=\"../f0cacc35d5c0addf7a3b918589c51cb9f7a66cf10/expr.png\" style=\"display:inline;vertical-align:middle;\" /></a></td></tr>\n",
       "<tr><td>14</td><td>Operation</td><td>operator:&nbsp;23<br>operands:&nbsp;18<br></td><td><a class=\"ProveItLink\" href=\"../3bc850957c5ad899bfdd985963665b8fdbcb1fde0/expr.ipynb\"><img src=\"../3bc850957c5ad899bfdd985963665b8fdbcb1fde0/expr.png\" style=\"display:inline;vertical-align:middle;\" /></a></td></tr>\n",
       "<tr><td>15</td><td>Conditional</td><td>value:&nbsp;19<br>condition:&nbsp;20<br></td><td><a class=\"ProveItLink\" href=\"../89396fd8b1fe58265b6e2a01ab2244db5ee41fd40/expr.ipynb\"><img src=\"../89396fd8b1fe58265b6e2a01ab2244db5ee41fd40/expr.png\" style=\"display:inline;vertical-align:middle;\" /></a></td></tr>\n",
       "<tr><td>16</td><td>ExprTuple</td><td>38, 21</td><td><a class=\"ProveItLink\" href=\"../5ccda3624a4b99f40b0703df772edac850ddb7530/expr.ipynb\"><img src=\"../5ccda3624a4b99f40b0703df772edac850ddb7530/expr.png\" style=\"display:inline;vertical-align:middle;\" /></a></td></tr>\n",
       "<tr><td>17</td><td>ExprTuple</td><td>40, 21</td><td><a class=\"ProveItLink\" href=\"../b2f9438b1e89e706702afbeaffeef9cdf72787720/expr.ipynb\"><img src=\"../b2f9438b1e89e706702afbeaffeef9cdf72787720/expr.png\" style=\"display:inline;vertical-align:middle;\" /></a></td></tr>\n",
       "<tr><td>18</td><td>ExprTuple</td><td>39, 21</td><td><a class=\"ProveItLink\" href=\"../43f8ead1cd2e7184a61efb03fee1e928fa4d5bca0/expr.ipynb\"><img src=\"../43f8ead1cd2e7184a61efb03fee1e928fa4d5bca0/expr.png\" style=\"display:inline;vertical-align:middle;\" /></a></td></tr>\n",
       "<tr><td>19</td><td>Operation</td><td>operator:&nbsp;23<br>operands:&nbsp;22<br></td><td><a class=\"ProveItLink\" href=\"../28264b43ff2e89f9355aae91e4dd8ce833ada4730/expr.ipynb\"><img src=\"../28264b43ff2e89f9355aae91e4dd8ce833ada4730/expr.png\" style=\"display:inline;vertical-align:middle;\" /></a></td></tr>\n",
       "<tr><td>20</td><td>Operation</td><td>operator:&nbsp;23<br>operands:&nbsp;24<br></td><td><a class=\"ProveItLink\" href=\"../897d3470f431aeea0a5ba721f817263d266758000/expr.ipynb\"><img src=\"../897d3470f431aeea0a5ba721f817263d266758000/expr.png\" style=\"display:inline;vertical-align:middle;\" /></a></td></tr>\n",
       "<tr><td>21</td><td>Literal</td><td></td><td><a class=\"ProveItLink\" href=\"../../common/3eaf53c11933bb30b35e82c24807c695de530cf10/expr.ipynb\"><img src=\"../../common/3eaf53c11933bb30b35e82c24807c695de530cf10/expr.png\" style=\"display:inline;vertical-align:middle;\" /></a></td></tr>\n",
       "<tr><td>22</td><td>ExprTuple</td><td>25, 26</td><td><a class=\"ProveItLink\" href=\"../b268ccdf0f1127a0ca108f40b2e684bae4a11dbd0/expr.ipynb\"><img src=\"../b268ccdf0f1127a0ca108f40b2e684bae4a11dbd0/expr.png\" style=\"display:inline;vertical-align:middle;\" /></a></td></tr>\n",
       "<tr><td>23</td><td>Literal</td><td></td><td><a class=\"ProveItLink\" href=\"../../../../../../logic/sets/membership/__pv_it/common/7171deca84f71f47a6ec7696972d1632274a12880/expr.ipynb\"><img src=\"../../../../../../logic/sets/membership/__pv_it/common/7171deca84f71f47a6ec7696972d1632274a12880/expr.png\" style=\"display:inline;vertical-align:middle;\" /></a></td></tr>\n",
       "<tr><td>24</td><td>ExprTuple</td><td>32, 27</td><td><a class=\"ProveItLink\" href=\"../120f136baaae7622b3a561eb19e9c10e114b1a3d0/expr.ipynb\"><img src=\"../120f136baaae7622b3a561eb19e9c10e114b1a3d0/expr.png\" style=\"display:inline;vertical-align:middle;\" /></a></td></tr>\n",
       "<tr><td>25</td><td>Operation</td><td>operator:&nbsp;36<br>operands:&nbsp;28<br></td><td><a class=\"ProveItLink\" href=\"../5399f5a22b3b60a4d710a2ae7a54925a61e80ade0/expr.ipynb\"><img src=\"../5399f5a22b3b60a4d710a2ae7a54925a61e80ade0/expr.png\" style=\"display:inline;vertical-align:middle;\" /></a></td></tr>\n",
       "<tr><td>26</td><td>Operation</td><td>operator:&nbsp;30<br>operands:&nbsp;29<br></td><td><a class=\"ProveItLink\" href=\"../b188b3557b7ad075528f3857f7094b9ad49881090/expr.ipynb\"><img src=\"../b188b3557b7ad075528f3857f7094b9ad49881090/expr.png\" style=\"display:inline;vertical-align:middle;\" /></a></td></tr>\n",
       "<tr><td>27</td><td>Operation</td><td>operator:&nbsp;30<br>operands:&nbsp;31<br></td><td><a class=\"ProveItLink\" href=\"../fe3f7c7d6808c891f29cabdf01270540d3b7976e0/expr.ipynb\"><img src=\"../fe3f7c7d6808c891f29cabdf01270540d3b7976e0/expr.png\" style=\"display:inline;vertical-align:middle;\" /></a></td></tr>\n",
       "<tr><td>28</td><td>ExprTuple</td><td>39, 32</td><td><a class=\"ProveItLink\" href=\"../9d9f090fd3a09bbdfdc9c8fd34c28b8e5d196bfa0/expr.ipynb\"><img src=\"../9d9f090fd3a09bbdfdc9c8fd34c28b8e5d196bfa0/expr.png\" style=\"display:inline;vertical-align:middle;\" /></a></td></tr>\n",
       "<tr><td>29</td><td>ExprTuple</td><td>33, 34</td><td><a class=\"ProveItLink\" href=\"../09bfeb424f3b2519a69d44cbb5f367bdce76ceed0/expr.ipynb\"><img src=\"../09bfeb424f3b2519a69d44cbb5f367bdce76ceed0/expr.png\" style=\"display:inline;vertical-align:middle;\" /></a></td></tr>\n",
       "<tr><td>30</td><td>Literal</td><td></td><td><a class=\"ProveItLink\" href=\"../../common/c0e95df33c639e1a17c8abed40ec175e8dfbe9210/expr.ipynb\"><img src=\"../../common/c0e95df33c639e1a17c8abed40ec175e8dfbe9210/expr.png\" style=\"display:inline;vertical-align:middle;\" /></a></td></tr>\n",
       "<tr><td>31</td><td>ExprTuple</td><td>38, 40</td><td><a class=\"ProveItLink\" href=\"../1bdfc8550dcba21649b1aca02603584957f865fb0/expr.ipynb\"><img src=\"../1bdfc8550dcba21649b1aca02603584957f865fb0/expr.png\" style=\"display:inline;vertical-align:middle;\" /></a></td></tr>\n",
       "<tr><td>32</td><td>Variable</td><td></td><td><a class=\"ProveItLink\" href=\"../../../../../../__pv_it/common/a2581dc5df71d9a30bad37de14965fa5fec97a240/expr.ipynb\"><img src=\"../../../../../../__pv_it/common/a2581dc5df71d9a30bad37de14965fa5fec97a240/expr.png\" style=\"display:inline;vertical-align:middle;\" /></a></td></tr>\n",
       "<tr><td>33</td><td>Operation</td><td>operator:&nbsp;36<br>operands:&nbsp;35<br></td><td><a class=\"ProveItLink\" href=\"../fbc932b9f317acfe48444c0decc1a23a290cc8340/expr.ipynb\"><img src=\"../fbc932b9f317acfe48444c0decc1a23a290cc8340/expr.png\" style=\"display:inline;vertical-align:middle;\" /></a></td></tr>\n",
       "<tr><td>34</td><td>Operation</td><td>operator:&nbsp;36<br>operands:&nbsp;37<br></td><td><a class=\"ProveItLink\" href=\"../51d3bc5231fe4f0c7f61570f33dba15c3435d36e0/expr.ipynb\"><img src=\"../51d3bc5231fe4f0c7f61570f33dba15c3435d36e0/expr.png\" style=\"display:inline;vertical-align:middle;\" /></a></td></tr>\n",
       "<tr><td>35</td><td>ExprTuple</td><td>39, 38</td><td><a class=\"ProveItLink\" href=\"../61c5183a439f92b4fb0a05a6a2b8ae2b21b4bade0/expr.ipynb\"><img src=\"../61c5183a439f92b4fb0a05a6a2b8ae2b21b4bade0/expr.png\" style=\"display:inline;vertical-align:middle;\" /></a></td></tr>\n",
       "<tr><td>36</td><td>Literal</td><td></td><td><a class=\"ProveItLink\" href=\"../../../../../multiplication/__pv_it/common/c57d60974865e78d434abd3ff22c405685c80ade0/expr.ipynb\"><img src=\"../../../../../multiplication/__pv_it/common/c57d60974865e78d434abd3ff22c405685c80ade0/expr.png\" style=\"display:inline;vertical-align:middle;\" /></a></td></tr>\n",
       "<tr><td>37</td><td>ExprTuple</td><td>39, 40</td><td><a class=\"ProveItLink\" href=\"../97c5753aeb8983ce577a1368786c308fb2ee28ad0/expr.ipynb\"><img src=\"../97c5753aeb8983ce577a1368786c308fb2ee28ad0/expr.png\" style=\"display:inline;vertical-align:middle;\" /></a></td></tr>\n",
       "<tr><td>38</td><td>Variable</td><td></td><td><a class=\"ProveItLink\" href=\"../../../../../../__pv_it/common/66c90e66682f107a881f2d666959f64e2e72ad750/expr.ipynb\"><img src=\"../../../../../../__pv_it/common/66c90e66682f107a881f2d666959f64e2e72ad750/expr.png\" style=\"display:inline;vertical-align:middle;\" /></a></td></tr>\n",
       "<tr><td>39</td><td>Variable</td><td></td><td><a class=\"ProveItLink\" href=\"../../../../../../__pv_it/common/9a9d28748f90dec84e90f2ace4610208194e524e0/expr.ipynb\"><img src=\"../../../../../../__pv_it/common/9a9d28748f90dec84e90f2ace4610208194e524e0/expr.png\" style=\"display:inline;vertical-align:middle;\" /></a></td></tr>\n",
       "<tr><td>40</td><td>Variable</td><td></td><td><a class=\"ProveItLink\" href=\"../../../../../../__pv_it/common/4a5db8cc5c67969ec864bd3ea598be37cb6f5e550/expr.ipynb\"><img src=\"../../../../../../__pv_it/common/4a5db8cc5c67969ec864bd3ea598be37cb6f5e550/expr.png\" style=\"display:inline;vertical-align:middle;\" /></a></td></tr>\n",
       "</table>\n"
      ],
      "text/plain": [
       "0. forall_{a, b, c in Real} [forall_{x in [a,b)} ((c * x) in [c * a,c * b))]\n",
       "   core type: Operation\n",
       "   operator: 7\n",
       "   operand: 2\n",
       "1. ((a, b, c) -> {forall_{x in [a,b)} ((c * x) in [c * a,c * b)) if a in Real ,  b in Real ,  c in Real.)\n",
       "   core type: ExprTuple\n",
       "   sub-expressions: 2\n",
       "2. (a, b, c) -> {forall_{x in [a,b)} ((c * x) in [c * a,c * b)) if a in Real ,  b in Real ,  c in Real.\n",
       "   core type: Lambda\n",
       "   parameters: 3\\n   body: 4\n",
       "3. (a, b, c)\n",
       "   core type: ExprTuple\n",
       "   sub-expressions: 38, 40, 39\n",
       "4. {forall_{x in [a,b)} ((c * x) in [c * a,c * b)) if a in Real ,  b in Real ,  c in Real.\n",
       "   core type: Conditional\n",
       "   value: 5\n",
       "   condition: 6\n",
       "5. forall_{x in [a,b)} ((c * x) in [c * a,c * b))\n",
       "   core type: Operation\n",
       "   operator: 7\n",
       "   operand: 11\n",
       "6. (a in Real) and (b in Real) and (c in Real)\n",
       "   core type: Operation\n",
       "   operator: 9\n",
       "   operands: 10\n",
       "7. forall\n",
       "   core type: Literal\n",
       "   sub-expressions: \n",
       "8. (x -> {(c * x) in [c * a,c * b) if x in [a,b).)\n",
       "   core type: ExprTuple\n",
       "   sub-expressions: 11\n",
       "9. and\n",
       "   core type: Literal\n",
       "   sub-expressions: \n",
       "10. (a in Real, b in Real, c in Real)\n",
       "    core type: ExprTuple\n",
       "    sub-expressions: 12, 13, 14\n",
       "11. x -> {(c * x) in [c * a,c * b) if x in [a,b).\n",
       "    core type: Lambda\n",
       "    parameter: 32\n",
       "    body: 15\n",
       "12. a in Real\n",
       "    core type: Operation\n",
       "    operator: 23\n",
       "    operands: 16\n",
       "13. b in Real\n",
       "    core type: Operation\n",
       "    operator: 23\n",
       "    operands: 17\n",
       "14. c in Real\n",
       "    core type: Operation\n",
       "    operator: 23\n",
       "    operands: 18\n",
       "15. {(c * x) in [c * a,c * b) if x in [a,b).\n",
       "    core type: Conditional\n",
       "    value: 19\n",
       "    condition: 20\n",
       "16. (a, Real)\n",
       "    core type: ExprTuple\n",
       "    sub-expressions: 38, 21\n",
       "17. (b, Real)\n",
       "    core type: ExprTuple\n",
       "    sub-expressions: 40, 21\n",
       "18. (c, Real)\n",
       "    core type: ExprTuple\n",
       "    sub-expressions: 39, 21\n",
       "19. (c * x) in [c * a,c * b)\n",
       "    core type: Operation\n",
       "    operator: 23\n",
       "    operands: 22\n",
       "20. x in [a,b)\n",
       "    core type: Operation\n",
       "    operator: 23\n",
       "    operands: 24\n",
       "21. Real\n",
       "    core type: Literal\n",
       "    sub-expressions: \n",
       "22. (c * x, [c * a,c * b))\n",
       "    core type: ExprTuple\n",
       "    sub-expressions: 25, 26\n",
       "23. in\n",
       "    core type: Literal\n",
       "    sub-expressions: \n",
       "24. (x, [a,b))\n",
       "    core type: ExprTuple\n",
       "    sub-expressions: 32, 27\n",
       "25. c * x\n",
       "    core type: Operation\n",
       "    operator: 36\n",
       "    operands: 28\n",
       "26. [c * a,c * b)\n",
       "    core type: Operation\n",
       "    operator: 30\n",
       "    operands: 29\n",
       "27. [a,b)\n",
       "    core type: Operation\n",
       "    operator: 30\n",
       "    operands: 31\n",
       "28. (c, x)\n",
       "    core type: ExprTuple\n",
       "    sub-expressions: 39, 32\n",
       "29. (c * a, c * b)\n",
       "    core type: ExprTuple\n",
       "    sub-expressions: 33, 34\n",
       "30. IntervalCO\n",
       "    core type: Literal\n",
       "    sub-expressions: \n",
       "31. (a, b)\n",
       "    core type: ExprTuple\n",
       "    sub-expressions: 38, 40\n",
       "32. x\n",
       "    core type: Variable\n",
       "    sub-expressions: \n",
       "33. c * a\n",
       "    core type: Operation\n",
       "    operator: 36\n",
       "    operands: 35\n",
       "34. c * b\n",
       "    core type: Operation\n",
       "    operator: 36\n",
       "    operands: 37\n",
       "35. (c, a)\n",
       "    core type: ExprTuple\n",
       "    sub-expressions: 39, 38\n",
       "36. *\n",
       "    core type: Literal\n",
       "    sub-expressions: \n",
       "37. (c, b)\n",
       "    core type: ExprTuple\n",
       "    sub-expressions: 39, 40\n",
       "38. a\n",
       "    core type: Variable\n",
       "    sub-expressions: \n",
       "39. c\n",
       "    core type: Variable\n",
       "    sub-expressions: \n",
       "40. b\n",
       "    core type: Variable\n",
       "    sub-expressions: "
      ]
     },
     "execution_count": 5,
     "metadata": {},
     "output_type": "execute_result"
    }
   ],
   "source": [
    "# display the expression information\n",
    "rescale_interval_co_membership.expr_info()"
   ]
  },
  {
   "cell_type": "code",
   "execution_count": null,
   "metadata": {},
   "outputs": [],
   "source": []
  }
 ],
 "metadata": {
  "kernelspec": {
   "display_name": "Python 3",
   "language": "python",
   "name": "python3"
  }
 },
 "nbformat": 4,
 "nbformat_minor": 0
}