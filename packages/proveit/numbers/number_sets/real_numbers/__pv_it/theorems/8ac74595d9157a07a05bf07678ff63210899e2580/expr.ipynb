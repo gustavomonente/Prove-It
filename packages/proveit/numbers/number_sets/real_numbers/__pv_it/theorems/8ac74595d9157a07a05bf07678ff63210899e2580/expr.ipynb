{
 "cells": [
  {
   "cell_type": "markdown",
   "metadata": {},
   "source": [
    "Expression of type <a class=\"ProveItLink\" href=\"../../../../../../../../doc/html/api/proveit.ExprTuple.html\">ExprTuple</a>\n",
    "=======================\n",
    "# from the theory of <a class=\"ProveItLink\" href=\"../../../_theory_nbs_/theory.ipynb\">proveit.numbers.number_sets.real_numbers</a>"
   ]
  },
  {
   "cell_type": "code",
   "execution_count": 1,
   "metadata": {},
   "outputs": [],
   "source": [
    "import proveit\n",
    "# Automation is not needed when building an expression:\n",
    "proveit.defaults.automation = False # This will speed things up.\n",
    "proveit.defaults.inline_pngs = False # Makes files smaller.\n",
    "%load_expr # Load the stored expression as 'stored_expr'\n",
    "# import Expression classes needed to build the expression\n",
    "from proveit import Conditional, ExprTuple, Lambda, a, b, x\n",
    "from proveit.logic import And, InSet\n",
    "from proveit.numbers import IntervalOC, Less, LessEq, Real"
   ]
  },
  {
   "cell_type": "code",
   "execution_count": 2,
   "metadata": {},
   "outputs": [
    {
     "data": {
      "text/html": [
       "<strong id=\"expr\">expr:</strong> <a class=\"ProveItLink\" href=\"expr.ipynb\"><img src=\"expr.png\" style=\"display:inline;vertical-align:middle;\" /></a><br>"
      ],
      "text/plain": [
       "expr: ((a, b, x) -> {x in (a,b] if a in Real ,  b in Real ,  x in Real ,  a < x ,  x <= b.)"
      ]
     },
     "execution_count": 2,
     "metadata": {},
     "output_type": "execute_result"
    }
   ],
   "source": [
    "# build up the expression from sub-expressions\n",
    "expr = ExprTuple(Lambda([a, b, x], Conditional(InSet(x, IntervalOC(a, b)), And(InSet(a, Real), InSet(b, Real), InSet(x, Real), Less(a, x), LessEq(x, b)))))"
   ]
  },
  {
   "cell_type": "code",
   "execution_count": 3,
   "metadata": {},
   "outputs": [
    {
     "name": "stdout",
     "output_type": "stream",
     "text": [
      "Passed sanity check: expr matches stored_expr\n"
     ]
    }
   ],
   "source": [
    "# check that the built expression is the same as the stored expression\n",
    "assert expr == stored_expr\n",
    "assert expr._style_id == stored_expr._style_id\n",
    "print(\"Passed sanity check: expr matches stored_expr\")"
   ]
  },
  {
   "cell_type": "code",
   "execution_count": 4,
   "metadata": {},
   "outputs": [
    {
     "name": "stdout",
     "output_type": "stream",
     "text": [
      "\\left(\\left(a, b, x\\right) \\mapsto \\left\\{x \\in \\left(a,b\\right] \\textrm{ if } a \\in \\mathbb{R} ,  b \\in \\mathbb{R} ,  x \\in \\mathbb{R} ,  a < x ,  x \\leq b\\right..\\right)\n"
     ]
    }
   ],
   "source": [
    "# Show the LaTeX representation of the expression for convenience if you need it.\n",
    "print(expr.latex())"
   ]
  },
  {
   "cell_type": "code",
   "execution_count": 5,
   "metadata": {},
   "outputs": [
    {
     "data": {
      "text/html": [
       "no style options"
      ],
      "text/plain": [
       "no style options"
      ]
     },
     "execution_count": 5,
     "metadata": {},
     "output_type": "execute_result"
    }
   ],
   "source": [
    "expr.style_options()"
   ]
  },
  {
   "cell_type": "code",
   "execution_count": 6,
   "metadata": {},
   "outputs": [
    {
     "data": {
      "text/html": [
       "<table><tr><th>&nbsp;</th><th>core type</th><th>sub-expressions</th><th>expression</th></tr>\n",
       "<tr><td>0</td><td>ExprTuple</td><td>1</td><td><a class=\"ProveItLink\" href=\"expr.ipynb\"><img src=\"expr.png\" style=\"display:inline;vertical-align:middle;\" /></a></td></tr>\n",
       "<tr><td>1</td><td>Lambda</td><td>parameters:&nbsp;2<br>body:&nbsp;3<br></td><td><a class=\"ProveItLink\" href=\"../63de8a20151aa8f140823fbfb2e613eff8d092e50/expr.ipynb\"><img src=\"../63de8a20151aa8f140823fbfb2e613eff8d092e50/expr.png\" style=\"display:inline;vertical-align:middle;\" /></a></td></tr>\n",
       "<tr><td>2</td><td>ExprTuple</td><td>26, 28, 27</td><td><a class=\"ProveItLink\" href=\"../9f2efb1621752dcedd695b49de977822e3006f360/expr.ipynb\"><img src=\"../9f2efb1621752dcedd695b49de977822e3006f360/expr.png\" style=\"display:inline;vertical-align:middle;\" /></a></td></tr>\n",
       "<tr><td>3</td><td>Conditional</td><td>value:&nbsp;4<br>condition:&nbsp;5<br></td><td><a class=\"ProveItLink\" href=\"../236e6ad16e88a532ae1c1140bbe1a1bf46fb551f0/expr.ipynb\"><img src=\"../236e6ad16e88a532ae1c1140bbe1a1bf46fb551f0/expr.png\" style=\"display:inline;vertical-align:middle;\" /></a></td></tr>\n",
       "<tr><td>4</td><td>Operation</td><td>operator:&nbsp;19<br>operands:&nbsp;6<br></td><td><a class=\"ProveItLink\" href=\"../6ac83995e23829d07be6b4f47347dfa990ceba040/expr.ipynb\"><img src=\"../6ac83995e23829d07be6b4f47347dfa990ceba040/expr.png\" style=\"display:inline;vertical-align:middle;\" /></a></td></tr>\n",
       "<tr><td>5</td><td>Operation</td><td>operator:&nbsp;7<br>operands:&nbsp;8<br></td><td><a class=\"ProveItLink\" href=\"../f6837d9d91ae61b3b4163d99b97d6f2a7410904e0/expr.ipynb\"><img src=\"../f6837d9d91ae61b3b4163d99b97d6f2a7410904e0/expr.png\" style=\"display:inline;vertical-align:middle;\" /></a></td></tr>\n",
       "<tr><td>6</td><td>ExprTuple</td><td>27, 9</td><td><a class=\"ProveItLink\" href=\"../7892db57df7800c9641491d6051c30dbda4db9910/expr.ipynb\"><img src=\"../7892db57df7800c9641491d6051c30dbda4db9910/expr.png\" style=\"display:inline;vertical-align:middle;\" /></a></td></tr>\n",
       "<tr><td>7</td><td>Literal</td><td></td><td><a class=\"ProveItLink\" href=\"../../../../../../logic/booleans/conjunction/__pv_it/common/26b94b53e70b1d77b70f0d9d4236347db37731060/expr.ipynb\"><img src=\"../../../../../../logic/booleans/conjunction/__pv_it/common/26b94b53e70b1d77b70f0d9d4236347db37731060/expr.png\" style=\"display:inline;vertical-align:middle;\" /></a></td></tr>\n",
       "<tr><td>8</td><td>ExprTuple</td><td>10, 11, 12, 13, 14</td><td><a class=\"ProveItLink\" href=\"../11ab2b575eae7f5e12960b9a917f845ff09b380a0/expr.ipynb\"><img src=\"../11ab2b575eae7f5e12960b9a917f845ff09b380a0/expr.png\" style=\"display:inline;vertical-align:middle;\" /></a></td></tr>\n",
       "<tr><td>9</td><td>Operation</td><td>operator:&nbsp;15<br>operands:&nbsp;16<br></td><td><a class=\"ProveItLink\" href=\"../57f4e301b2fb5dc1c221ef9a71587468988bf1790/expr.ipynb\"><img src=\"../57f4e301b2fb5dc1c221ef9a71587468988bf1790/expr.png\" style=\"display:inline;vertical-align:middle;\" /></a></td></tr>\n",
       "<tr><td>10</td><td>Operation</td><td>operator:&nbsp;19<br>operands:&nbsp;17<br></td><td><a class=\"ProveItLink\" href=\"../198b5497202895d48bd302a3a3c68c1371cb556a0/expr.ipynb\"><img src=\"../198b5497202895d48bd302a3a3c68c1371cb556a0/expr.png\" style=\"display:inline;vertical-align:middle;\" /></a></td></tr>\n",
       "<tr><td>11</td><td>Operation</td><td>operator:&nbsp;19<br>operands:&nbsp;18<br></td><td><a class=\"ProveItLink\" href=\"../f0cacc35d5c0addf7a3b918589c51cb9f7a66cf10/expr.ipynb\"><img src=\"../f0cacc35d5c0addf7a3b918589c51cb9f7a66cf10/expr.png\" style=\"display:inline;vertical-align:middle;\" /></a></td></tr>\n",
       "<tr><td>12</td><td>Operation</td><td>operator:&nbsp;19<br>operands:&nbsp;20<br></td><td><a class=\"ProveItLink\" href=\"../9802bd17f2a675125c1ca8deb22885f11486580a0/expr.ipynb\"><img src=\"../9802bd17f2a675125c1ca8deb22885f11486580a0/expr.png\" style=\"display:inline;vertical-align:middle;\" /></a></td></tr>\n",
       "<tr><td>13</td><td>Operation</td><td>operator:&nbsp;21<br>operands:&nbsp;22<br></td><td><a class=\"ProveItLink\" href=\"../de7060985c78c843770970dc768559fa5a3a1ac70/expr.ipynb\"><img src=\"../de7060985c78c843770970dc768559fa5a3a1ac70/expr.png\" style=\"display:inline;vertical-align:middle;\" /></a></td></tr>\n",
       "<tr><td>14</td><td>Operation</td><td>operator:&nbsp;23<br>operands:&nbsp;24<br></td><td><a class=\"ProveItLink\" href=\"../c1fb479cec1bcd8034860b6068cb09be335064fc0/expr.ipynb\"><img src=\"../c1fb479cec1bcd8034860b6068cb09be335064fc0/expr.png\" style=\"display:inline;vertical-align:middle;\" /></a></td></tr>\n",
       "<tr><td>15</td><td>Literal</td><td></td><td><a class=\"ProveItLink\" href=\"../../common/68d37ce7fb7df05ba8fedd573b1a4f3cd925971e0/expr.ipynb\"><img src=\"../../common/68d37ce7fb7df05ba8fedd573b1a4f3cd925971e0/expr.png\" style=\"display:inline;vertical-align:middle;\" /></a></td></tr>\n",
       "<tr><td>16</td><td>ExprTuple</td><td>26, 28</td><td><a class=\"ProveItLink\" href=\"../1bdfc8550dcba21649b1aca02603584957f865fb0/expr.ipynb\"><img src=\"../1bdfc8550dcba21649b1aca02603584957f865fb0/expr.png\" style=\"display:inline;vertical-align:middle;\" /></a></td></tr>\n",
       "<tr><td>17</td><td>ExprTuple</td><td>26, 25</td><td><a class=\"ProveItLink\" href=\"../5ccda3624a4b99f40b0703df772edac850ddb7530/expr.ipynb\"><img src=\"../5ccda3624a4b99f40b0703df772edac850ddb7530/expr.png\" style=\"display:inline;vertical-align:middle;\" /></a></td></tr>\n",
       "<tr><td>18</td><td>ExprTuple</td><td>28, 25</td><td><a class=\"ProveItLink\" href=\"../b2f9438b1e89e706702afbeaffeef9cdf72787720/expr.ipynb\"><img src=\"../b2f9438b1e89e706702afbeaffeef9cdf72787720/expr.png\" style=\"display:inline;vertical-align:middle;\" /></a></td></tr>\n",
       "<tr><td>19</td><td>Literal</td><td></td><td><a class=\"ProveItLink\" href=\"../../../../../../logic/sets/membership/__pv_it/common/7171deca84f71f47a6ec7696972d1632274a12880/expr.ipynb\"><img src=\"../../../../../../logic/sets/membership/__pv_it/common/7171deca84f71f47a6ec7696972d1632274a12880/expr.png\" style=\"display:inline;vertical-align:middle;\" /></a></td></tr>\n",
       "<tr><td>20</td><td>ExprTuple</td><td>27, 25</td><td><a class=\"ProveItLink\" href=\"../a0a343fca482f479af37255e4b6ead36e48192850/expr.ipynb\"><img src=\"../a0a343fca482f479af37255e4b6ead36e48192850/expr.png\" style=\"display:inline;vertical-align:middle;\" /></a></td></tr>\n",
       "<tr><td>21</td><td>Literal</td><td></td><td><a class=\"ProveItLink\" href=\"../../../../../ordering/__pv_it/common/28edf56075f82c850836d8cd79dbcacf62e589820/expr.ipynb\"><img src=\"../../../../../ordering/__pv_it/common/28edf56075f82c850836d8cd79dbcacf62e589820/expr.png\" style=\"display:inline;vertical-align:middle;\" /></a></td></tr>\n",
       "<tr><td>22</td><td>ExprTuple</td><td>26, 27</td><td><a class=\"ProveItLink\" href=\"../a34d5143f96e1f85e06926bff798f8e8e424b7f00/expr.ipynb\"><img src=\"../a34d5143f96e1f85e06926bff798f8e8e424b7f00/expr.png\" style=\"display:inline;vertical-align:middle;\" /></a></td></tr>\n",
       "<tr><td>23</td><td>Literal</td><td></td><td><a class=\"ProveItLink\" href=\"../../../../../ordering/__pv_it/common/b7491c9b87613cffc9e4ec0625a0f1afacbe2cbd0/expr.ipynb\"><img src=\"../../../../../ordering/__pv_it/common/b7491c9b87613cffc9e4ec0625a0f1afacbe2cbd0/expr.png\" style=\"display:inline;vertical-align:middle;\" /></a></td></tr>\n",
       "<tr><td>24</td><td>ExprTuple</td><td>27, 28</td><td><a class=\"ProveItLink\" href=\"../baa77cf1fee4d6784e861d81c3c3f475ed910a070/expr.ipynb\"><img src=\"../baa77cf1fee4d6784e861d81c3c3f475ed910a070/expr.png\" style=\"display:inline;vertical-align:middle;\" /></a></td></tr>\n",
       "<tr><td>25</td><td>Literal</td><td></td><td><a class=\"ProveItLink\" href=\"../../common/3eaf53c11933bb30b35e82c24807c695de530cf10/expr.ipynb\"><img src=\"../../common/3eaf53c11933bb30b35e82c24807c695de530cf10/expr.png\" style=\"display:inline;vertical-align:middle;\" /></a></td></tr>\n",
       "<tr><td>26</td><td>Variable</td><td></td><td><a class=\"ProveItLink\" href=\"../../../../../../__pv_it/common/66c90e66682f107a881f2d666959f64e2e72ad750/expr.ipynb\"><img src=\"../../../../../../__pv_it/common/66c90e66682f107a881f2d666959f64e2e72ad750/expr.png\" style=\"display:inline;vertical-align:middle;\" /></a></td></tr>\n",
       "<tr><td>27</td><td>Variable</td><td></td><td><a class=\"ProveItLink\" href=\"../../../../../../__pv_it/common/a2581dc5df71d9a30bad37de14965fa5fec97a240/expr.ipynb\"><img src=\"../../../../../../__pv_it/common/a2581dc5df71d9a30bad37de14965fa5fec97a240/expr.png\" style=\"display:inline;vertical-align:middle;\" /></a></td></tr>\n",
       "<tr><td>28</td><td>Variable</td><td></td><td><a class=\"ProveItLink\" href=\"../../../../../../__pv_it/common/4a5db8cc5c67969ec864bd3ea598be37cb6f5e550/expr.ipynb\"><img src=\"../../../../../../__pv_it/common/4a5db8cc5c67969ec864bd3ea598be37cb6f5e550/expr.png\" style=\"display:inline;vertical-align:middle;\" /></a></td></tr>\n",
       "</table>\n"
      ],
      "text/plain": [
       "0. ((a, b, x) -> {x in (a,b] if a in Real ,  b in Real ,  x in Real ,  a < x ,  x <= b.)\n",
       "   core type: ExprTuple\n",
       "   sub-expressions: 1\n",
       "1. (a, b, x) -> {x in (a,b] if a in Real ,  b in Real ,  x in Real ,  a < x ,  x <= b.\n",
       "   core type: Lambda\n",
       "   parameters: 2\\n   body: 3\n",
       "2. (a, b, x)\n",
       "   core type: ExprTuple\n",
       "   sub-expressions: 26, 28, 27\n",
       "3. {x in (a,b] if a in Real ,  b in Real ,  x in Real ,  a < x ,  x <= b.\n",
       "   core type: Conditional\n",
       "   value: 4\n",
       "   condition: 5\n",
       "4. x in (a,b]\n",
       "   core type: Operation\n",
       "   operator: 19\n",
       "   operands: 6\n",
       "5. (a in Real) and (b in Real) and (x in Real) and (a < x) and (x <= b)\n",
       "   core type: Operation\n",
       "   operator: 7\n",
       "   operands: 8\n",
       "6. (x, (a,b])\n",
       "   core type: ExprTuple\n",
       "   sub-expressions: 27, 9\n",
       "7. and\n",
       "   core type: Literal\n",
       "   sub-expressions: \n",
       "8. (a in Real, b in Real, x in Real, a < x, x <= b)\n",
       "   core type: ExprTuple\n",
       "   sub-expressions: 10, 11, 12, 13, 14\n",
       "9. (a,b]\n",
       "   core type: Operation\n",
       "   operator: 15\n",
       "   operands: 16\n",
       "10. a in Real\n",
       "    core type: Operation\n",
       "    operator: 19\n",
       "    operands: 17\n",
       "11. b in Real\n",
       "    core type: Operation\n",
       "    operator: 19\n",
       "    operands: 18\n",
       "12. x in Real\n",
       "    core type: Operation\n",
       "    operator: 19\n",
       "    operands: 20\n",
       "13. a < x\n",
       "    core type: Operation\n",
       "    operator: 21\n",
       "    operands: 22\n",
       "14. x <= b\n",
       "    core type: Operation\n",
       "    operator: 23\n",
       "    operands: 24\n",
       "15. IntervalOC\n",
       "    core type: Literal\n",
       "    sub-expressions: \n",
       "16. (a, b)\n",
       "    core type: ExprTuple\n",
       "    sub-expressions: 26, 28\n",
       "17. (a, Real)\n",
       "    core type: ExprTuple\n",
       "    sub-expressions: 26, 25\n",
       "18. (b, Real)\n",
       "    core type: ExprTuple\n",
       "    sub-expressions: 28, 25\n",
       "19. in\n",
       "    core type: Literal\n",
       "    sub-expressions: \n",
       "20. (x, Real)\n",
       "    core type: ExprTuple\n",
       "    sub-expressions: 27, 25\n",
       "21. <\n",
       "    core type: Literal\n",
       "    sub-expressions: \n",
       "22. (a, x)\n",
       "    core type: ExprTuple\n",
       "    sub-expressions: 26, 27\n",
       "23. <=\n",
       "    core type: Literal\n",
       "    sub-expressions: \n",
       "24. (x, b)\n",
       "    core type: ExprTuple\n",
       "    sub-expressions: 27, 28\n",
       "25. Real\n",
       "    core type: Literal\n",
       "    sub-expressions: \n",
       "26. a\n",
       "    core type: Variable\n",
       "    sub-expressions: \n",
       "27. x\n",
       "    core type: Variable\n",
       "    sub-expressions: \n",
       "28. b\n",
       "    core type: Variable\n",
       "    sub-expressions: "
      ]
     },
     "execution_count": 6,
     "metadata": {},
     "output_type": "execute_result"
    }
   ],
   "source": [
    "# display the expression information\n",
    "expr.expr_info()"
   ]
  },
  {
   "cell_type": "code",
   "execution_count": null,
   "metadata": {},
   "outputs": [],
   "source": []
  }
 ],
 "metadata": {
  "kernelspec": {
   "display_name": "Python 3",
   "language": "python",
   "name": "python3"
  }
 },
 "nbformat": 4,
 "nbformat_minor": 0
}