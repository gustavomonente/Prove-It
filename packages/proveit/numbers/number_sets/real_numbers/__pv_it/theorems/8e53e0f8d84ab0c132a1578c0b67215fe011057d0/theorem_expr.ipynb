{
 "cells": [
  {
   "cell_type": "markdown",
   "metadata": {},
   "source": [
    "Theorem <a class=\"ProveItLink\" href=\"../../../_theorems_.ipynb#in_real_neg_iff_negative\">in_real_neg_iff_negative</a> of type <a class=\"ProveItLink\" href=\"../../../../../../../../doc/html/api/proveit.logic.Forall.html\">Forall</a>\n",
    "=======================\n",
    "# from the theory of <a class=\"ProveItLink\" href=\"../../../_theory_nbs_/theory.ipynb\">proveit.numbers.number_sets.real_numbers</a>\n",
    "*** see <a class=\"ProveItLink\" href=\"dependencies.ipynb\">dependencies</a> ***"
   ]
  },
  {
   "cell_type": "code",
   "execution_count": 1,
   "metadata": {},
   "outputs": [],
   "source": [
    "import proveit\n",
    "# Automation is not needed when only building an expression:\n",
    "proveit.defaults.automation = False # This will speed things up.\n",
    "proveit.defaults.inline_pngs = False # Makes files smaller.\n",
    "%load_theorem_expr # Load the stored theorem expression as 'stored_expr'\n",
    "# import the special expression\n",
    "from proveit.numbers.number_sets.real_numbers import in_real_neg_iff_negative"
   ]
  },
  {
   "cell_type": "code",
   "execution_count": 2,
   "metadata": {},
   "outputs": [
    {
     "name": "stdout",
     "output_type": "stream",
     "text": [
      "Passed sanity check: in_real_neg_iff_negative matches stored_expr\n"
     ]
    }
   ],
   "source": [
    "# check that the built expression is the same as the stored expression\n",
    "assert in_real_neg_iff_negative.expr == stored_expr\n",
    "assert in_real_neg_iff_negative.expr._style_id == stored_expr._style_id\n",
    "print(\"Passed sanity check: in_real_neg_iff_negative matches stored_expr\")"
   ]
  },
  {
   "cell_type": "code",
   "execution_count": 3,
   "metadata": {},
   "outputs": [
    {
     "name": "stdout",
     "output_type": "stream",
     "text": [
      "\\vdash \\forall_{a \\in \\mathbb{R}}~\\left(\\left(a \\in \\mathbb{R}^-\\right) \\Leftrightarrow \\left(a < 0\\right)\\right)\n"
     ]
    }
   ],
   "source": [
    "# Show the LaTeX representation of the expression for convenience if you need it.\n",
    "print(in_real_neg_iff_negative.latex())"
   ]
  },
  {
   "cell_type": "code",
   "execution_count": 4,
   "metadata": {},
   "outputs": [
    {
     "data": {
      "text/html": [
       "<table>\n",
       "<tr><th>name</th><th>description</th><th>default</th><th>current value</th><th>related methods</th></tr><tr><td>with_wrapping</td><td>If 'True', wrap the Expression after the parameters</td><td>None</td><td>None/False</td><td>('with_wrapping',)</td></tr>\n",
       "<tr><td>wrap_params</td><td>If 'True', wraps every two parameters AND wraps the Expression after the parameters</td><td>None</td><td>None/False</td><td>('with_params',)</td></tr>\n",
       "<tr><td>justification</td><td>justify to the 'left', 'center', or 'right' in the array cells</td><td>center</td><td>center</td><td>('with_justification',)</td></tr>\n",
       "</table>\n"
      ],
      "text/plain": [
       "style name: with_wrapping\n",
       "description: If 'True', wrap the Expression after the parameters\n",
       "default: None\n",
       "current value: None/False\n",
       "related methods: ('with_wrapping',)\n",
       "style name: wrap_params\n",
       "description: If 'True', wraps every two parameters AND wraps the Expression after the parameters\n",
       "default: None\n",
       "current value: None/False\n",
       "related methods: ('with_params',)\n",
       "style name: justification\n",
       "description: justify to the 'left', 'center', or 'right' in the array cells\n",
       "default: center\n",
       "current value: center\n",
       "related methods: ('with_justification',)"
      ]
     },
     "execution_count": 4,
     "metadata": {},
     "output_type": "execute_result"
    }
   ],
   "source": [
    "in_real_neg_iff_negative.style_options()"
   ]
  },
  {
   "cell_type": "code",
   "execution_count": 5,
   "metadata": {},
   "outputs": [
    {
     "data": {
      "text/html": [
       "<table><tr><th>&nbsp;</th><th>core type</th><th>sub-expressions</th><th>expression</th></tr>\n",
       "<tr><td>0</td><td>Operation</td><td>operator:&nbsp;1<br>operand:&nbsp;3<br></td><td><a class=\"ProveItLink\" href=\"../174258efe7b20b7762f3ff0550a28003b77bd2e90/expr.ipynb\"><img src=\"../174258efe7b20b7762f3ff0550a28003b77bd2e90/expr.png\" style=\"display:inline;vertical-align:middle;\" /></a></td></tr>\n",
       "<tr><td>1</td><td>Literal</td><td></td><td><a class=\"ProveItLink\" href=\"../../../../../../logic/booleans/quantification/universality/__pv_it/common/684d35ba98fcbf8ca5011f865e530a51e77730630/expr.ipynb\"><img src=\"../../../../../../logic/booleans/quantification/universality/__pv_it/common/684d35ba98fcbf8ca5011f865e530a51e77730630/expr.png\" style=\"display:inline;vertical-align:middle;\" /></a></td></tr>\n",
       "<tr><td>2</td><td>ExprTuple</td><td>3</td><td><a class=\"ProveItLink\" href=\"../776d29fd2662d1be7005412af67c4c7931ea61590/expr.ipynb\"><img src=\"../776d29fd2662d1be7005412af67c4c7931ea61590/expr.png\" style=\"display:inline;vertical-align:middle;\" /></a></td></tr>\n",
       "<tr><td>3</td><td>Lambda</td><td>parameter:&nbsp;18<br>body:&nbsp;4<br></td><td><a class=\"ProveItLink\" href=\"../9fd238f1047b9cc8bc4ed1d03cf447f14cbfe6290/expr.ipynb\"><img src=\"../9fd238f1047b9cc8bc4ed1d03cf447f14cbfe6290/expr.png\" style=\"display:inline;vertical-align:middle;\" /></a></td></tr>\n",
       "<tr><td>4</td><td>Conditional</td><td>value:&nbsp;5<br>condition:&nbsp;6<br></td><td><a class=\"ProveItLink\" href=\"../0a707a1e4c5356bd2c1aa03abd366a4e5fee8f650/expr.ipynb\"><img src=\"../0a707a1e4c5356bd2c1aa03abd366a4e5fee8f650/expr.png\" style=\"display:inline;vertical-align:middle;\" /></a></td></tr>\n",
       "<tr><td>5</td><td>Operation</td><td>operator:&nbsp;7<br>operands:&nbsp;8<br></td><td><a class=\"ProveItLink\" href=\"../ca10fcb14b5503156f0d797bba136da8ff25ec220/expr.ipynb\"><img src=\"../ca10fcb14b5503156f0d797bba136da8ff25ec220/expr.png\" style=\"display:inline;vertical-align:middle;\" /></a></td></tr>\n",
       "<tr><td>6</td><td>Operation</td><td>operator:&nbsp;13<br>operands:&nbsp;9<br></td><td><a class=\"ProveItLink\" href=\"../198b5497202895d48bd302a3a3c68c1371cb556a0/expr.ipynb\"><img src=\"../198b5497202895d48bd302a3a3c68c1371cb556a0/expr.png\" style=\"display:inline;vertical-align:middle;\" /></a></td></tr>\n",
       "<tr><td>7</td><td>Literal</td><td></td><td><a class=\"ProveItLink\" href=\"../../../../../../logic/booleans/implication/__pv_it/common/274d5b2833791537ab9e3cf14842ad1ff6590b920/expr.ipynb\"><img src=\"../../../../../../logic/booleans/implication/__pv_it/common/274d5b2833791537ab9e3cf14842ad1ff6590b920/expr.png\" style=\"display:inline;vertical-align:middle;\" /></a></td></tr>\n",
       "<tr><td>8</td><td>ExprTuple</td><td>10, 11</td><td><a class=\"ProveItLink\" href=\"../ed2127ee566fcc398f5bc35a118c1f266b1a090f0/expr.ipynb\"><img src=\"../ed2127ee566fcc398f5bc35a118c1f266b1a090f0/expr.png\" style=\"display:inline;vertical-align:middle;\" /></a></td></tr>\n",
       "<tr><td>9</td><td>ExprTuple</td><td>18, 12</td><td><a class=\"ProveItLink\" href=\"../5ccda3624a4b99f40b0703df772edac850ddb7530/expr.ipynb\"><img src=\"../5ccda3624a4b99f40b0703df772edac850ddb7530/expr.png\" style=\"display:inline;vertical-align:middle;\" /></a></td></tr>\n",
       "<tr><td>10</td><td>Operation</td><td>operator:&nbsp;13<br>operands:&nbsp;14<br></td><td><a class=\"ProveItLink\" href=\"../0657d7696dd527810fdce4a3e26626af6673ad220/expr.ipynb\"><img src=\"../0657d7696dd527810fdce4a3e26626af6673ad220/expr.png\" style=\"display:inline;vertical-align:middle;\" /></a></td></tr>\n",
       "<tr><td>11</td><td>Operation</td><td>operator:&nbsp;15<br>operands:&nbsp;16<br></td><td><a class=\"ProveItLink\" href=\"../f442ee7c8491a2493ca6e60e7a74ddc79245082f0/expr.ipynb\"><img src=\"../f442ee7c8491a2493ca6e60e7a74ddc79245082f0/expr.png\" style=\"display:inline;vertical-align:middle;\" /></a></td></tr>\n",
       "<tr><td>12</td><td>Literal</td><td></td><td><a class=\"ProveItLink\" href=\"../../common/3eaf53c11933bb30b35e82c24807c695de530cf10/expr.ipynb\"><img src=\"../../common/3eaf53c11933bb30b35e82c24807c695de530cf10/expr.png\" style=\"display:inline;vertical-align:middle;\" /></a></td></tr>\n",
       "<tr><td>13</td><td>Literal</td><td></td><td><a class=\"ProveItLink\" href=\"../../../../../../logic/sets/membership/__pv_it/common/7171deca84f71f47a6ec7696972d1632274a12880/expr.ipynb\"><img src=\"../../../../../../logic/sets/membership/__pv_it/common/7171deca84f71f47a6ec7696972d1632274a12880/expr.png\" style=\"display:inline;vertical-align:middle;\" /></a></td></tr>\n",
       "<tr><td>14</td><td>ExprTuple</td><td>18, 17</td><td><a class=\"ProveItLink\" href=\"../18b2dbb739686cade47df37e66771fc68f1e76cf0/expr.ipynb\"><img src=\"../18b2dbb739686cade47df37e66771fc68f1e76cf0/expr.png\" style=\"display:inline;vertical-align:middle;\" /></a></td></tr>\n",
       "<tr><td>15</td><td>Literal</td><td></td><td><a class=\"ProveItLink\" href=\"../../../../../ordering/__pv_it/common/28edf56075f82c850836d8cd79dbcacf62e589820/expr.ipynb\"><img src=\"../../../../../ordering/__pv_it/common/28edf56075f82c850836d8cd79dbcacf62e589820/expr.png\" style=\"display:inline;vertical-align:middle;\" /></a></td></tr>\n",
       "<tr><td>16</td><td>ExprTuple</td><td>18, 19</td><td><a class=\"ProveItLink\" href=\"../7cf282ebf839354ae315a5e7324f4e596b2b462a0/expr.ipynb\"><img src=\"../7cf282ebf839354ae315a5e7324f4e596b2b462a0/expr.png\" style=\"display:inline;vertical-align:middle;\" /></a></td></tr>\n",
       "<tr><td>17</td><td>Literal</td><td></td><td><a class=\"ProveItLink\" href=\"../../common/bca1319e9ec1583d1d1ac5e55634274a2607a8ab0/expr.ipynb\"><img src=\"../../common/bca1319e9ec1583d1d1ac5e55634274a2607a8ab0/expr.png\" style=\"display:inline;vertical-align:middle;\" /></a></td></tr>\n",
       "<tr><td>18</td><td>Variable</td><td></td><td><a class=\"ProveItLink\" href=\"../../../../../../__pv_it/common/66c90e66682f107a881f2d666959f64e2e72ad750/expr.ipynb\"><img src=\"../../../../../../__pv_it/common/66c90e66682f107a881f2d666959f64e2e72ad750/expr.png\" style=\"display:inline;vertical-align:middle;\" /></a></td></tr>\n",
       "<tr><td>19</td><td>Literal</td><td></td><td><a class=\"ProveItLink\" href=\"../../../../../numerals/__pv_it/common/c35fdf7268947ca3e24174d2909dc9d0a7f3aac60/expr.ipynb\"><img src=\"../../../../../numerals/__pv_it/common/c35fdf7268947ca3e24174d2909dc9d0a7f3aac60/expr.png\" style=\"display:inline;vertical-align:middle;\" /></a></td></tr>\n",
       "</table>\n"
      ],
      "text/plain": [
       "0. forall_{a in Real} ((a in RealNeg) <=> (a < 0))\n",
       "   core type: Operation\n",
       "   operator: 1\n",
       "   operand: 3\n",
       "1. forall\n",
       "   core type: Literal\n",
       "   sub-expressions: \n",
       "2. (a -> {(a in RealNeg) <=> (a < 0) if a in Real.)\n",
       "   core type: ExprTuple\n",
       "   sub-expressions: 3\n",
       "3. a -> {(a in RealNeg) <=> (a < 0) if a in Real.\n",
       "   core type: Lambda\n",
       "   parameter: 18\n",
       "   body: 4\n",
       "4. {(a in RealNeg) <=> (a < 0) if a in Real.\n",
       "   core type: Conditional\n",
       "   value: 5\n",
       "   condition: 6\n",
       "5. (a in RealNeg) <=> (a < 0)\n",
       "   core type: Operation\n",
       "   operator: 7\n",
       "   operands: 8\n",
       "6. a in Real\n",
       "   core type: Operation\n",
       "   operator: 13\n",
       "   operands: 9\n",
       "7. <=>\n",
       "   core type: Literal\n",
       "   sub-expressions: \n",
       "8. (a in RealNeg, a < 0)\n",
       "   core type: ExprTuple\n",
       "   sub-expressions: 10, 11\n",
       "9. (a, Real)\n",
       "   core type: ExprTuple\n",
       "   sub-expressions: 18, 12\n",
       "10. a in RealNeg\n",
       "    core type: Operation\n",
       "    operator: 13\n",
       "    operands: 14\n",
       "11. a < 0\n",
       "    core type: Operation\n",
       "    operator: 15\n",
       "    operands: 16\n",
       "12. Real\n",
       "    core type: Literal\n",
       "    sub-expressions: \n",
       "13. in\n",
       "    core type: Literal\n",
       "    sub-expressions: \n",
       "14. (a, RealNeg)\n",
       "    core type: ExprTuple\n",
       "    sub-expressions: 18, 17\n",
       "15. <\n",
       "    core type: Literal\n",
       "    sub-expressions: \n",
       "16. (a, 0)\n",
       "    core type: ExprTuple\n",
       "    sub-expressions: 18, 19\n",
       "17. RealNeg\n",
       "    core type: Literal\n",
       "    sub-expressions: \n",
       "18. a\n",
       "    core type: Variable\n",
       "    sub-expressions: \n",
       "19. 0\n",
       "    core type: Literal\n",
       "    sub-expressions: "
      ]
     },
     "execution_count": 5,
     "metadata": {},
     "output_type": "execute_result"
    }
   ],
   "source": [
    "# display the expression information\n",
    "in_real_neg_iff_negative.expr_info()"
   ]
  },
  {
   "cell_type": "code",
   "execution_count": null,
   "metadata": {},
   "outputs": [],
   "source": []
  }
 ],
 "metadata": {
  "kernelspec": {
   "display_name": "Python 3",
   "language": "python",
   "name": "python3"
  }
 },
 "nbformat": 4,
 "nbformat_minor": 0
}