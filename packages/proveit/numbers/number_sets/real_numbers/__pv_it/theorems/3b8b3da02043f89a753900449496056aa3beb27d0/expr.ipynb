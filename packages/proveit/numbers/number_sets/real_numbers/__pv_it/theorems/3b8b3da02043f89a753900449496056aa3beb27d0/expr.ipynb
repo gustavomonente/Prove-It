{
 "cells": [
  {
   "cell_type": "markdown",
   "metadata": {},
   "source": [
    "Expression of type <a class=\"ProveItLink\" href=\"../../../../../../../../doc/html/api/proveit.Lambda.html\">Lambda</a>\n",
    "=======================\n",
    "# from the theory of <a class=\"ProveItLink\" href=\"../../../_theory_nbs_/theory.ipynb\">proveit.numbers.number_sets.real_numbers</a>"
   ]
  },
  {
   "cell_type": "code",
   "execution_count": 1,
   "metadata": {},
   "outputs": [],
   "source": [
    "import proveit\n",
    "# Automation is not needed when building an expression:\n",
    "proveit.defaults.automation = False # This will speed things up.\n",
    "proveit.defaults.inline_pngs = False # Makes files smaller.\n",
    "%load_expr # Load the stored expression as 'stored_expr'\n",
    "# import Expression classes needed to build the expression\n",
    "from proveit import Conditional, Lambda, a, b, x\n",
    "from proveit.logic import And, Forall, InSet\n",
    "from proveit.numbers import IntervalCO, Less, Real"
   ]
  },
  {
   "cell_type": "code",
   "execution_count": 2,
   "metadata": {},
   "outputs": [
    {
     "data": {
      "text/html": [
       "<strong id=\"expr\">expr:</strong> <a class=\"ProveItLink\" href=\"expr.ipynb\"><img src=\"expr.png\" style=\"display:inline;vertical-align:middle;\" /></a><br>"
      ],
      "text/plain": [
       "expr: (a, b) -> {forall_{x in [a,b)} (x < b) if a in Real ,  b in Real."
      ]
     },
     "execution_count": 2,
     "metadata": {},
     "output_type": "execute_result"
    }
   ],
   "source": [
    "# build up the expression from sub-expressions\n",
    "expr = Lambda([a, b], Conditional(Forall([x], Less(x, b), domains = [IntervalCO(a, b)]), And(InSet(a, Real), InSet(b, Real))))"
   ]
  },
  {
   "cell_type": "code",
   "execution_count": 3,
   "metadata": {},
   "outputs": [
    {
     "name": "stdout",
     "output_type": "stream",
     "text": [
      "Passed sanity check: expr matches stored_expr\n"
     ]
    }
   ],
   "source": [
    "# check that the built expression is the same as the stored expression\n",
    "assert expr == stored_expr\n",
    "assert expr._style_id == stored_expr._style_id\n",
    "print(\"Passed sanity check: expr matches stored_expr\")"
   ]
  },
  {
   "cell_type": "code",
   "execution_count": 4,
   "metadata": {},
   "outputs": [
    {
     "name": "stdout",
     "output_type": "stream",
     "text": [
      "\\left(a, b\\right) \\mapsto \\left\\{\\forall_{x \\in \\left[a,b\\right)}~\\left(x < b\\right) \\textrm{ if } a \\in \\mathbb{R} ,  b \\in \\mathbb{R}\\right..\n"
     ]
    }
   ],
   "source": [
    "# Show the LaTeX representation of the expression for convenience if you need it.\n",
    "print(expr.latex())"
   ]
  },
  {
   "cell_type": "code",
   "execution_count": 5,
   "metadata": {},
   "outputs": [
    {
     "data": {
      "text/html": [
       "<table><tr><th>&nbsp;</th><th>core type</th><th>sub-expressions</th><th>expression</th></tr>\n",
       "<tr><td>0</td><td>Lambda</td><td>parameters:&nbsp;23<br>body:&nbsp;1<br></td><td><a class=\"ProveItLink\" href=\"expr.ipynb\"><img src=\"expr.png\" style=\"display:inline;vertical-align:middle;\" /></a></td></tr>\n",
       "<tr><td>1</td><td>Conditional</td><td>value:&nbsp;2<br>condition:&nbsp;3<br></td><td><a class=\"ProveItLink\" href=\"../ee4c45104a3c0cbe73c3e8bf9149215e465b4a010/expr.ipynb\"><img src=\"../ee4c45104a3c0cbe73c3e8bf9149215e465b4a010/expr.png\" style=\"display:inline;vertical-align:middle;\" /></a></td></tr>\n",
       "<tr><td>2</td><td>Operation</td><td>operator:&nbsp;4<br>operand:&nbsp;5<br></td><td><a class=\"ProveItLink\" href=\"../250d1b9ff27cca4dd2298ed8db831f0574e823ca0/expr.ipynb\"><img src=\"../250d1b9ff27cca4dd2298ed8db831f0574e823ca0/expr.png\" style=\"display:inline;vertical-align:middle;\" /></a></td></tr>\n",
       "<tr><td>3</td><td>Operation</td><td>operator:&nbsp;6<br>operands:&nbsp;7<br></td><td><a class=\"ProveItLink\" href=\"../2e66e1817fae8b3d7361a8929b3ace75690d00250/expr.ipynb\"><img src=\"../2e66e1817fae8b3d7361a8929b3ace75690d00250/expr.png\" style=\"display:inline;vertical-align:middle;\" /></a></td></tr>\n",
       "<tr><td>4</td><td>Literal</td><td></td><td><a class=\"ProveItLink\" href=\"../../../../../../logic/booleans/quantification/universality/__pv_it/common/083d2baa0b8ecab1d230f9ec29a15aa1355809fb0/expr.ipynb\"><img src=\"../../../../../../logic/booleans/quantification/universality/__pv_it/common/083d2baa0b8ecab1d230f9ec29a15aa1355809fb0/expr.png\" style=\"display:inline;vertical-align:middle;\" /></a></td></tr>\n",
       "<tr><td>5</td><td>Lambda</td><td>parameter:&nbsp;20<br>body:&nbsp;8<br></td><td><a class=\"ProveItLink\" href=\"../788f771a831982eeccca6a66f3052660ee28678b0/expr.ipynb\"><img src=\"../788f771a831982eeccca6a66f3052660ee28678b0/expr.png\" style=\"display:inline;vertical-align:middle;\" /></a></td></tr>\n",
       "<tr><td>6</td><td>Literal</td><td></td><td><a class=\"ProveItLink\" href=\"../../../../../../logic/booleans/conjunction/__pv_it/common/42118ff318bd65d98b1393f64ce7c2269feef76e0/expr.ipynb\"><img src=\"../../../../../../logic/booleans/conjunction/__pv_it/common/42118ff318bd65d98b1393f64ce7c2269feef76e0/expr.png\" style=\"display:inline;vertical-align:middle;\" /></a></td></tr>\n",
       "<tr><td>7</td><td>ExprTuple</td><td>9, 10</td><td><a class=\"ProveItLink\" href=\"../fba96f484f74d08609ea4a9b608319a31e0517a40/expr.ipynb\"><img src=\"../fba96f484f74d08609ea4a9b608319a31e0517a40/expr.png\" style=\"display:inline;vertical-align:middle;\" /></a></td></tr>\n",
       "<tr><td>8</td><td>Conditional</td><td>value:&nbsp;11<br>condition:&nbsp;12<br></td><td><a class=\"ProveItLink\" href=\"../2116ddd7f28e506a6ed89aa741e432278e45b5d20/expr.ipynb\"><img src=\"../2116ddd7f28e506a6ed89aa741e432278e45b5d20/expr.png\" style=\"display:inline;vertical-align:middle;\" /></a></td></tr>\n",
       "<tr><td>9</td><td>Operation</td><td>operator:&nbsp;17<br>operands:&nbsp;13<br></td><td><a class=\"ProveItLink\" href=\"../7137328d24e8272e28aa657407d7cb6c5940b84d0/expr.ipynb\"><img src=\"../7137328d24e8272e28aa657407d7cb6c5940b84d0/expr.png\" style=\"display:inline;vertical-align:middle;\" /></a></td></tr>\n",
       "<tr><td>10</td><td>Operation</td><td>operator:&nbsp;17<br>operands:&nbsp;14<br></td><td><a class=\"ProveItLink\" href=\"../a5aeec4a354e4fc3736a4cb0945595c7f15a66eb0/expr.ipynb\"><img src=\"../a5aeec4a354e4fc3736a4cb0945595c7f15a66eb0/expr.png\" style=\"display:inline;vertical-align:middle;\" /></a></td></tr>\n",
       "<tr><td>11</td><td>Operation</td><td>operator:&nbsp;15<br>operands:&nbsp;16<br></td><td><a class=\"ProveItLink\" href=\"../23de5de0a4076e60ffd1b53b3bf82c9dc5422d540/expr.ipynb\"><img src=\"../23de5de0a4076e60ffd1b53b3bf82c9dc5422d540/expr.png\" style=\"display:inline;vertical-align:middle;\" /></a></td></tr>\n",
       "<tr><td>12</td><td>Operation</td><td>operator:&nbsp;17<br>operands:&nbsp;18<br></td><td><a class=\"ProveItLink\" href=\"../e7281295de00647d4d1d0699ec4ed7732f83feb30/expr.ipynb\"><img src=\"../e7281295de00647d4d1d0699ec4ed7732f83feb30/expr.png\" style=\"display:inline;vertical-align:middle;\" /></a></td></tr>\n",
       "<tr><td>13</td><td>ExprTuple</td><td>24, 19</td><td><a class=\"ProveItLink\" href=\"../5d8be828e9ed80bdbff40fcb80ce24aeaf263f0d0/expr.ipynb\"><img src=\"../5d8be828e9ed80bdbff40fcb80ce24aeaf263f0d0/expr.png\" style=\"display:inline;vertical-align:middle;\" /></a></td></tr>\n",
       "<tr><td>14</td><td>ExprTuple</td><td>25, 19</td><td><a class=\"ProveItLink\" href=\"../9bdd3cb8fa8029aa1ce8665aa10c1a21dbbdef170/expr.ipynb\"><img src=\"../9bdd3cb8fa8029aa1ce8665aa10c1a21dbbdef170/expr.png\" style=\"display:inline;vertical-align:middle;\" /></a></td></tr>\n",
       "<tr><td>15</td><td>Literal</td><td></td><td><a class=\"ProveItLink\" href=\"../../../../../ordering/__pv_it/common/fa503ed52033522c609eef1cf3e1b45796489da50/expr.ipynb\"><img src=\"../../../../../ordering/__pv_it/common/fa503ed52033522c609eef1cf3e1b45796489da50/expr.png\" style=\"display:inline;vertical-align:middle;\" /></a></td></tr>\n",
       "<tr><td>16</td><td>ExprTuple</td><td>20, 25</td><td><a class=\"ProveItLink\" href=\"../baaf36b6b4a9ebf979022b717b7ccb5e4d9c091b0/expr.ipynb\"><img src=\"../baaf36b6b4a9ebf979022b717b7ccb5e4d9c091b0/expr.png\" style=\"display:inline;vertical-align:middle;\" /></a></td></tr>\n",
       "<tr><td>17</td><td>Literal</td><td></td><td><a class=\"ProveItLink\" href=\"../../../../../../logic/sets/membership/__pv_it/common/477487d8796864d23d5810f83761435f25167f690/expr.ipynb\"><img src=\"../../../../../../logic/sets/membership/__pv_it/common/477487d8796864d23d5810f83761435f25167f690/expr.png\" style=\"display:inline;vertical-align:middle;\" /></a></td></tr>\n",
       "<tr><td>18</td><td>ExprTuple</td><td>20, 21</td><td><a class=\"ProveItLink\" href=\"../3a00e2e1469b5e7fe914ddee477783c8e71cc6820/expr.ipynb\"><img src=\"../3a00e2e1469b5e7fe914ddee477783c8e71cc6820/expr.png\" style=\"display:inline;vertical-align:middle;\" /></a></td></tr>\n",
       "<tr><td>19</td><td>Literal</td><td></td><td><a class=\"ProveItLink\" href=\"../../common/93cac87a1a47e613f7a83b23ef7891599a1a4cca0/expr.ipynb\"><img src=\"../../common/93cac87a1a47e613f7a83b23ef7891599a1a4cca0/expr.png\" style=\"display:inline;vertical-align:middle;\" /></a></td></tr>\n",
       "<tr><td>20</td><td>Variable</td><td></td><td><a class=\"ProveItLink\" href=\"../../../../../../__pv_it/common/a0d9d672aa5e272d907247690c152cc2c6daafb70/expr.ipynb\"><img src=\"../../../../../../__pv_it/common/a0d9d672aa5e272d907247690c152cc2c6daafb70/expr.png\" style=\"display:inline;vertical-align:middle;\" /></a></td></tr>\n",
       "<tr><td>21</td><td>Operation</td><td>operator:&nbsp;22<br>operands:&nbsp;23<br></td><td><a class=\"ProveItLink\" href=\"../5908042f158b8f98777fd88ff4bdeba9f7f2bd6d0/expr.ipynb\"><img src=\"../5908042f158b8f98777fd88ff4bdeba9f7f2bd6d0/expr.png\" style=\"display:inline;vertical-align:middle;\" /></a></td></tr>\n",
       "<tr><td>22</td><td>Literal</td><td></td><td><a class=\"ProveItLink\" href=\"../../common/da5a5fc1f3f3ada8da2b36f3e6963bacf1c8e9fc0/expr.ipynb\"><img src=\"../../common/da5a5fc1f3f3ada8da2b36f3e6963bacf1c8e9fc0/expr.png\" style=\"display:inline;vertical-align:middle;\" /></a></td></tr>\n",
       "<tr><td>23</td><td>ExprTuple</td><td>24, 25</td><td><a class=\"ProveItLink\" href=\"../0e00cf301f391b9db3f5ff72911e8e2539c94fb00/expr.ipynb\"><img src=\"../0e00cf301f391b9db3f5ff72911e8e2539c94fb00/expr.png\" style=\"display:inline;vertical-align:middle;\" /></a></td></tr>\n",
       "<tr><td>24</td><td>Variable</td><td></td><td><a class=\"ProveItLink\" href=\"../../../../../../__pv_it/common/c06c606ec12678c58933ac85412ecadc2ae28be60/expr.ipynb\"><img src=\"../../../../../../__pv_it/common/c06c606ec12678c58933ac85412ecadc2ae28be60/expr.png\" style=\"display:inline;vertical-align:middle;\" /></a></td></tr>\n",
       "<tr><td>25</td><td>Variable</td><td></td><td><a class=\"ProveItLink\" href=\"../../../../../../__pv_it/common/195236b98c6c564a75b5dbada74b173bc52d5c3e0/expr.ipynb\"><img src=\"../../../../../../__pv_it/common/195236b98c6c564a75b5dbada74b173bc52d5c3e0/expr.png\" style=\"display:inline;vertical-align:middle;\" /></a></td></tr>\n",
       "</table>\n"
      ],
      "text/plain": [
       "0. (a, b) -> {forall_{x in [a,b)} (x < b) if a in Real ,  b in Real.\n",
       "   core type: Lambda\n",
       "   parameters: 23\\n   body: 1\n",
       "1. {forall_{x in [a,b)} (x < b) if a in Real ,  b in Real.\n",
       "   core type: Conditional\n",
       "   value: 2\n",
       "   condition: 3\n",
       "2. forall_{x in [a,b)} (x < b)\n",
       "   core type: Operation\n",
       "   operator: 4\n",
       "   operand: 5\n",
       "3. (a in Real) and (b in Real)\n",
       "   core type: Operation\n",
       "   operator: 6\n",
       "   operands: 7\n",
       "4. forall\n",
       "   core type: Literal\n",
       "   sub-expressions: \n",
       "5. x -> {x < b if x in [a,b).\n",
       "   core type: Lambda\n",
       "   parameter: 20\n",
       "   body: 8\n",
       "6. and\n",
       "   core type: Literal\n",
       "   sub-expressions: \n",
       "7. (a in Real, b in Real)\n",
       "   core type: ExprTuple\n",
       "   sub-expressions: 9, 10\n",
       "8. {x < b if x in [a,b).\n",
       "   core type: Conditional\n",
       "   value: 11\n",
       "   condition: 12\n",
       "9. a in Real\n",
       "   core type: Operation\n",
       "   operator: 17\n",
       "   operands: 13\n",
       "10. b in Real\n",
       "    core type: Operation\n",
       "    operator: 17\n",
       "    operands: 14\n",
       "11. x < b\n",
       "    core type: Operation\n",
       "    operator: 15\n",
       "    operands: 16\n",
       "12. x in [a,b)\n",
       "    core type: Operation\n",
       "    operator: 17\n",
       "    operands: 18\n",
       "13. (a, Real)\n",
       "    core type: ExprTuple\n",
       "    sub-expressions: 24, 19\n",
       "14. (b, Real)\n",
       "    core type: ExprTuple\n",
       "    sub-expressions: 25, 19\n",
       "15. <\n",
       "    core type: Literal\n",
       "    sub-expressions: \n",
       "16. (x, b)\n",
       "    core type: ExprTuple\n",
       "    sub-expressions: 20, 25\n",
       "17. in\n",
       "    core type: Literal\n",
       "    sub-expressions: \n",
       "18. (x, [a,b))\n",
       "    core type: ExprTuple\n",
       "    sub-expressions: 20, 21\n",
       "19. Real\n",
       "    core type: Literal\n",
       "    sub-expressions: \n",
       "20. x\n",
       "    core type: Variable\n",
       "    sub-expressions: \n",
       "21. [a,b)\n",
       "    core type: Operation\n",
       "    operator: 22\n",
       "    operands: 23\n",
       "22. IntervalCO\n",
       "    core type: Literal\n",
       "    sub-expressions: \n",
       "23. (a, b)\n",
       "    core type: ExprTuple\n",
       "    sub-expressions: 24, 25\n",
       "24. a\n",
       "    core type: Variable\n",
       "    sub-expressions: \n",
       "25. b\n",
       "    core type: Variable\n",
       "    sub-expressions: "
      ]
     },
     "execution_count": 5,
     "metadata": {},
     "output_type": "execute_result"
    }
   ],
   "source": [
    "# display the expression information\n",
    "expr.expr_info()"
   ]
  },
  {
   "cell_type": "code",
   "execution_count": null,
   "metadata": {},
   "outputs": [],
   "source": []
  }
 ],
 "metadata": {
  "kernelspec": {
   "display_name": "Python 3",
   "language": "python",
   "name": "python3"
  }
 },
 "nbformat": 4,
 "nbformat_minor": 0
}