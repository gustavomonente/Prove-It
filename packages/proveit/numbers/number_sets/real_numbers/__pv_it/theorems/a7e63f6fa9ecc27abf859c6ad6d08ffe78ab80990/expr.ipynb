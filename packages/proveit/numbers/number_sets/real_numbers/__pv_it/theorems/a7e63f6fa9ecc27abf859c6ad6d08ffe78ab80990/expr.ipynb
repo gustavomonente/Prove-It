{
 "cells": [
  {
   "cell_type": "markdown",
   "metadata": {},
   "source": [
    "Expression of type <a class=\"ProveItLink\" href=\"../../../../../../../../doc/html/api/proveit.Conditional.html\">Conditional</a>\n",
    "=======================\n",
    "# from the theory of <a class=\"ProveItLink\" href=\"../../../_theory_nbs_/theory.ipynb\">proveit.numbers.number_sets.real_numbers</a>"
   ]
  },
  {
   "cell_type": "code",
   "execution_count": 1,
   "metadata": {},
   "outputs": [],
   "source": [
    "import proveit\n",
    "# Automation is not needed when building an expression:\n",
    "proveit.defaults.automation = False # This will speed things up.\n",
    "proveit.defaults.inline_pngs = False # Makes files smaller.\n",
    "%load_expr # Load the stored expression as 'stored_expr'\n",
    "# import Expression classes needed to build the expression\n",
    "from proveit import Conditional, a, b\n",
    "from proveit.logic import And, InSet, ProperSubset\n",
    "from proveit.numbers import IntervalOC, Real"
   ]
  },
  {
   "cell_type": "code",
   "execution_count": 2,
   "metadata": {},
   "outputs": [
    {
     "data": {
      "text/html": [
       "<strong id=\"expr\">expr:</strong> <a class=\"ProveItLink\" href=\"expr.ipynb\"><img src=\"expr.png\" style=\"display:inline;vertical-align:middle;\" /></a><br>"
      ],
      "text/plain": [
       "expr: {(a,b] proper_subset Real if a in Real ,  b in Real."
      ]
     },
     "execution_count": 2,
     "metadata": {},
     "output_type": "execute_result"
    }
   ],
   "source": [
    "# build up the expression from sub-expressions\n",
    "expr = Conditional(ProperSubset(IntervalOC(a, b), Real), And(InSet(a, Real), InSet(b, Real)))"
   ]
  },
  {
   "cell_type": "code",
   "execution_count": 3,
   "metadata": {},
   "outputs": [
    {
     "name": "stdout",
     "output_type": "stream",
     "text": [
      "Passed sanity check: expr matches stored_expr\n"
     ]
    }
   ],
   "source": [
    "# check that the built expression is the same as the stored expression\n",
    "assert expr == stored_expr\n",
    "assert expr._style_id == stored_expr._style_id\n",
    "print(\"Passed sanity check: expr matches stored_expr\")"
   ]
  },
  {
   "cell_type": "code",
   "execution_count": 4,
   "metadata": {},
   "outputs": [
    {
     "name": "stdout",
     "output_type": "stream",
     "text": [
      "\\left\\{\\left(a,b\\right] \\subset \\mathbb{R} \\textrm{ if } a \\in \\mathbb{R} ,  b \\in \\mathbb{R}\\right..\n"
     ]
    }
   ],
   "source": [
    "# Show the LaTeX representation of the expression for convenience if you need it.\n",
    "print(expr.latex())"
   ]
  },
  {
   "cell_type": "code",
   "execution_count": 5,
   "metadata": {},
   "outputs": [
    {
     "data": {
      "text/html": [
       "<table><tr><th>&nbsp;</th><th>core type</th><th>sub-expressions</th><th>expression</th></tr>\n",
       "<tr><td>0</td><td>Conditional</td><td>value:&nbsp;1<br>condition:&nbsp;2<br></td><td><a class=\"ProveItLink\" href=\"expr.ipynb\"><img src=\"expr.png\" style=\"display:inline;vertical-align:middle;\" /></a></td></tr>\n",
       "<tr><td>1</td><td>Operation</td><td>operator:&nbsp;3<br>operands:&nbsp;4<br></td><td><a class=\"ProveItLink\" href=\"../4ecfc6453423581efc472cddf66627afb3928cca0/expr.ipynb\"><img src=\"../4ecfc6453423581efc472cddf66627afb3928cca0/expr.png\" style=\"display:inline;vertical-align:middle;\" /></a></td></tr>\n",
       "<tr><td>2</td><td>Operation</td><td>operator:&nbsp;5<br>operands:&nbsp;6<br></td><td><a class=\"ProveItLink\" href=\"../2e66e1817fae8b3d7361a8929b3ace75690d00250/expr.ipynb\"><img src=\"../2e66e1817fae8b3d7361a8929b3ace75690d00250/expr.png\" style=\"display:inline;vertical-align:middle;\" /></a></td></tr>\n",
       "<tr><td>3</td><td>Literal</td><td></td><td><a class=\"ProveItLink\" href=\"../../../../../../logic/sets/inclusion/__pv_it/common/adc9164d5bfa989e5765900a8c87188c1d60284f0/expr.ipynb\"><img src=\"../../../../../../logic/sets/inclusion/__pv_it/common/adc9164d5bfa989e5765900a8c87188c1d60284f0/expr.png\" style=\"display:inline;vertical-align:middle;\" /></a></td></tr>\n",
       "<tr><td>4</td><td>ExprTuple</td><td>7, 17</td><td><a class=\"ProveItLink\" href=\"../bea4a746ee4bbfafe01064bc91a77dcba3ef79000/expr.ipynb\"><img src=\"../bea4a746ee4bbfafe01064bc91a77dcba3ef79000/expr.png\" style=\"display:inline;vertical-align:middle;\" /></a></td></tr>\n",
       "<tr><td>5</td><td>Literal</td><td></td><td><a class=\"ProveItLink\" href=\"../../../../../../logic/booleans/conjunction/__pv_it/common/42118ff318bd65d98b1393f64ce7c2269feef76e0/expr.ipynb\"><img src=\"../../../../../../logic/booleans/conjunction/__pv_it/common/42118ff318bd65d98b1393f64ce7c2269feef76e0/expr.png\" style=\"display:inline;vertical-align:middle;\" /></a></td></tr>\n",
       "<tr><td>6</td><td>ExprTuple</td><td>8, 9</td><td><a class=\"ProveItLink\" href=\"../fba96f484f74d08609ea4a9b608319a31e0517a40/expr.ipynb\"><img src=\"../fba96f484f74d08609ea4a9b608319a31e0517a40/expr.png\" style=\"display:inline;vertical-align:middle;\" /></a></td></tr>\n",
       "<tr><td>7</td><td>Operation</td><td>operator:&nbsp;10<br>operands:&nbsp;11<br></td><td><a class=\"ProveItLink\" href=\"../8db33a654b42e70026859bd999550d49b732e3240/expr.ipynb\"><img src=\"../8db33a654b42e70026859bd999550d49b732e3240/expr.png\" style=\"display:inline;vertical-align:middle;\" /></a></td></tr>\n",
       "<tr><td>8</td><td>Operation</td><td>operator:&nbsp;13<br>operands:&nbsp;12<br></td><td><a class=\"ProveItLink\" href=\"../7137328d24e8272e28aa657407d7cb6c5940b84d0/expr.ipynb\"><img src=\"../7137328d24e8272e28aa657407d7cb6c5940b84d0/expr.png\" style=\"display:inline;vertical-align:middle;\" /></a></td></tr>\n",
       "<tr><td>9</td><td>Operation</td><td>operator:&nbsp;13<br>operands:&nbsp;14<br></td><td><a class=\"ProveItLink\" href=\"../a5aeec4a354e4fc3736a4cb0945595c7f15a66eb0/expr.ipynb\"><img src=\"../a5aeec4a354e4fc3736a4cb0945595c7f15a66eb0/expr.png\" style=\"display:inline;vertical-align:middle;\" /></a></td></tr>\n",
       "<tr><td>10</td><td>Literal</td><td></td><td><a class=\"ProveItLink\" href=\"../../common/79c402d5e4fce01af951e7b380ee0bdb7fc710120/expr.ipynb\"><img src=\"../../common/79c402d5e4fce01af951e7b380ee0bdb7fc710120/expr.png\" style=\"display:inline;vertical-align:middle;\" /></a></td></tr>\n",
       "<tr><td>11</td><td>ExprTuple</td><td>15, 16</td><td><a class=\"ProveItLink\" href=\"../0e00cf301f391b9db3f5ff72911e8e2539c94fb00/expr.ipynb\"><img src=\"../0e00cf301f391b9db3f5ff72911e8e2539c94fb00/expr.png\" style=\"display:inline;vertical-align:middle;\" /></a></td></tr>\n",
       "<tr><td>12</td><td>ExprTuple</td><td>15, 17</td><td><a class=\"ProveItLink\" href=\"../5d8be828e9ed80bdbff40fcb80ce24aeaf263f0d0/expr.ipynb\"><img src=\"../5d8be828e9ed80bdbff40fcb80ce24aeaf263f0d0/expr.png\" style=\"display:inline;vertical-align:middle;\" /></a></td></tr>\n",
       "<tr><td>13</td><td>Literal</td><td></td><td><a class=\"ProveItLink\" href=\"../../../../../../logic/sets/membership/__pv_it/common/477487d8796864d23d5810f83761435f25167f690/expr.ipynb\"><img src=\"../../../../../../logic/sets/membership/__pv_it/common/477487d8796864d23d5810f83761435f25167f690/expr.png\" style=\"display:inline;vertical-align:middle;\" /></a></td></tr>\n",
       "<tr><td>14</td><td>ExprTuple</td><td>16, 17</td><td><a class=\"ProveItLink\" href=\"../9bdd3cb8fa8029aa1ce8665aa10c1a21dbbdef170/expr.ipynb\"><img src=\"../9bdd3cb8fa8029aa1ce8665aa10c1a21dbbdef170/expr.png\" style=\"display:inline;vertical-align:middle;\" /></a></td></tr>\n",
       "<tr><td>15</td><td>Variable</td><td></td><td><a class=\"ProveItLink\" href=\"../../../../../../__pv_it/common/c06c606ec12678c58933ac85412ecadc2ae28be60/expr.ipynb\"><img src=\"../../../../../../__pv_it/common/c06c606ec12678c58933ac85412ecadc2ae28be60/expr.png\" style=\"display:inline;vertical-align:middle;\" /></a></td></tr>\n",
       "<tr><td>16</td><td>Variable</td><td></td><td><a class=\"ProveItLink\" href=\"../../../../../../__pv_it/common/195236b98c6c564a75b5dbada74b173bc52d5c3e0/expr.ipynb\"><img src=\"../../../../../../__pv_it/common/195236b98c6c564a75b5dbada74b173bc52d5c3e0/expr.png\" style=\"display:inline;vertical-align:middle;\" /></a></td></tr>\n",
       "<tr><td>17</td><td>Literal</td><td></td><td><a class=\"ProveItLink\" href=\"../../common/93cac87a1a47e613f7a83b23ef7891599a1a4cca0/expr.ipynb\"><img src=\"../../common/93cac87a1a47e613f7a83b23ef7891599a1a4cca0/expr.png\" style=\"display:inline;vertical-align:middle;\" /></a></td></tr>\n",
       "</table>\n"
      ],
      "text/plain": [
       "0. {(a,b] proper_subset Real if a in Real ,  b in Real.\n",
       "   core type: Conditional\n",
       "   value: 1\n",
       "   condition: 2\n",
       "1. (a,b] proper_subset Real\n",
       "   core type: Operation\n",
       "   operator: 3\n",
       "   operands: 4\n",
       "2. (a in Real) and (b in Real)\n",
       "   core type: Operation\n",
       "   operator: 5\n",
       "   operands: 6\n",
       "3. proper_subset\n",
       "   core type: Literal\n",
       "   sub-expressions: \n",
       "4. ((a,b], Real)\n",
       "   core type: ExprTuple\n",
       "   sub-expressions: 7, 17\n",
       "5. and\n",
       "   core type: Literal\n",
       "   sub-expressions: \n",
       "6. (a in Real, b in Real)\n",
       "   core type: ExprTuple\n",
       "   sub-expressions: 8, 9\n",
       "7. (a,b]\n",
       "   core type: Operation\n",
       "   operator: 10\n",
       "   operands: 11\n",
       "8. a in Real\n",
       "   core type: Operation\n",
       "   operator: 13\n",
       "   operands: 12\n",
       "9. b in Real\n",
       "   core type: Operation\n",
       "   operator: 13\n",
       "   operands: 14\n",
       "10. IntervalOC\n",
       "    core type: Literal\n",
       "    sub-expressions: \n",
       "11. (a, b)\n",
       "    core type: ExprTuple\n",
       "    sub-expressions: 15, 16\n",
       "12. (a, Real)\n",
       "    core type: ExprTuple\n",
       "    sub-expressions: 15, 17\n",
       "13. in\n",
       "    core type: Literal\n",
       "    sub-expressions: \n",
       "14. (b, Real)\n",
       "    core type: ExprTuple\n",
       "    sub-expressions: 16, 17\n",
       "15. a\n",
       "    core type: Variable\n",
       "    sub-expressions: \n",
       "16. b\n",
       "    core type: Variable\n",
       "    sub-expressions: \n",
       "17. Real\n",
       "    core type: Literal\n",
       "    sub-expressions: "
      ]
     },
     "execution_count": 5,
     "metadata": {},
     "output_type": "execute_result"
    }
   ],
   "source": [
    "# display the expression information\n",
    "expr.expr_info()"
   ]
  },
  {
   "cell_type": "code",
   "execution_count": null,
   "metadata": {},
   "outputs": [],
   "source": []
  }
 ],
 "metadata": {
  "kernelspec": {
   "display_name": "Python 3",
   "language": "python",
   "name": "python3"
  }
 },
 "nbformat": 4,
 "nbformat_minor": 0
}