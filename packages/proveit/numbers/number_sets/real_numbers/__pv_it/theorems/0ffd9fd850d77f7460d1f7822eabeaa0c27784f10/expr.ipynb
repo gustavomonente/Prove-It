{
 "cells": [
  {
   "cell_type": "markdown",
   "metadata": {},
   "source": [
    "Expression of type <a class=\"ProveItLink\" href=\"../../../../../../../../doc/html/api/proveit.logic.Forall.html\">Forall</a>\n",
    "=======================\n",
    "# from the theory of <a class=\"ProveItLink\" href=\"../../../_theory_nbs_/theory.ipynb\">proveit.numbers.number_sets.real_numbers</a>"
   ]
  },
  {
   "cell_type": "code",
   "execution_count": 1,
   "metadata": {},
   "outputs": [],
   "source": [
    "import proveit\n",
    "# Automation is not needed when building an expression:\n",
    "proveit.defaults.automation = False # This will speed things up.\n",
    "proveit.defaults.inline_pngs = False # Makes files smaller.\n",
    "%load_expr # Load the stored expression as 'stored_expr'\n",
    "# import Expression classes needed to build the expression\n",
    "from proveit import a, b, x\n",
    "from proveit.logic import Forall, InSet\n",
    "from proveit.numbers import IntervalCC, LessEq, Real"
   ]
  },
  {
   "cell_type": "code",
   "execution_count": 2,
   "metadata": {},
   "outputs": [
    {
     "data": {
      "text/html": [
       "<strong id=\"expr\">expr:</strong> <a class=\"ProveItLink\" href=\"expr.ipynb\"><img src=\"expr.png\" style=\"display:inline;vertical-align:middle;\" /></a><br>"
      ],
      "text/plain": [
       "expr: forall_{a, b, x in Real | a <= x, x <= b} (x in [a,b])"
      ]
     },
     "execution_count": 2,
     "metadata": {},
     "output_type": "execute_result"
    }
   ],
   "source": [
    "# build up the expression from sub-expressions\n",
    "expr = Forall([a, b, x], InSet(x, IntervalCC(a, b)), domains = [Real, Real, Real], conditions = [LessEq(a, x), LessEq(x, b)])"
   ]
  },
  {
   "cell_type": "code",
   "execution_count": 3,
   "metadata": {},
   "outputs": [
    {
     "name": "stdout",
     "output_type": "stream",
     "text": [
      "Passed sanity check: expr matches stored_expr\n"
     ]
    }
   ],
   "source": [
    "# check that the built expression is the same as the stored expression\n",
    "assert expr == stored_expr\n",
    "assert expr._style_id == stored_expr._style_id\n",
    "print(\"Passed sanity check: expr matches stored_expr\")"
   ]
  },
  {
   "cell_type": "code",
   "execution_count": 4,
   "metadata": {},
   "outputs": [
    {
     "name": "stdout",
     "output_type": "stream",
     "text": [
      "\\forall_{a, b, x \\in \\mathbb{R}~|~a \\leq x, x \\leq b}~\\left(x \\in \\left[a,b\\right]\\right)\n"
     ]
    }
   ],
   "source": [
    "# Show the LaTeX representation of the expression for convenience if you need it.\n",
    "print(expr.latex())"
   ]
  },
  {
   "cell_type": "code",
   "execution_count": 5,
   "metadata": {},
   "outputs": [
    {
     "data": {
      "text/html": [
       "<table><tr><th>&nbsp;</th><th>core type</th><th>sub-expressions</th><th>expression</th></tr>\n",
       "<tr><td>0</td><td>Operation</td><td>operator:&nbsp;1<br>operand:&nbsp;2<br></td><td><a class=\"ProveItLink\" href=\"expr.ipynb\"><img src=\"expr.png\" style=\"display:inline;vertical-align:middle;\" /></a></td></tr>\n",
       "<tr><td>1</td><td>Literal</td><td></td><td><a class=\"ProveItLink\" href=\"../../../../../../logic/booleans/quantification/universality/__pv_it/common/083d2baa0b8ecab1d230f9ec29a15aa1355809fb0/expr.ipynb\"><img src=\"../../../../../../logic/booleans/quantification/universality/__pv_it/common/083d2baa0b8ecab1d230f9ec29a15aa1355809fb0/expr.png\" style=\"display:inline;vertical-align:middle;\" /></a></td></tr>\n",
       "<tr><td>2</td><td>Lambda</td><td>parameters:&nbsp;3<br>body:&nbsp;4<br></td><td><a class=\"ProveItLink\" href=\"../91e47d9cb5fbceb0b691b44ed01c4e1556818a670/expr.ipynb\"><img src=\"../91e47d9cb5fbceb0b691b44ed01c4e1556818a670/expr.png\" style=\"display:inline;vertical-align:middle;\" /></a></td></tr>\n",
       "<tr><td>3</td><td>ExprTuple</td><td>26, 28, 27</td><td><a class=\"ProveItLink\" href=\"../c4e83f6fcb7bd830e9a1f559f1654cd07e90070c0/expr.ipynb\"><img src=\"../c4e83f6fcb7bd830e9a1f559f1654cd07e90070c0/expr.png\" style=\"display:inline;vertical-align:middle;\" /></a></td></tr>\n",
       "<tr><td>4</td><td>Conditional</td><td>value:&nbsp;5<br>condition:&nbsp;6<br></td><td><a class=\"ProveItLink\" href=\"../6a40d26f36acec99f06cbea1768432679bd5d7790/expr.ipynb\"><img src=\"../6a40d26f36acec99f06cbea1768432679bd5d7790/expr.png\" style=\"display:inline;vertical-align:middle;\" /></a></td></tr>\n",
       "<tr><td>5</td><td>Operation</td><td>operator:&nbsp;20<br>operands:&nbsp;7<br></td><td><a class=\"ProveItLink\" href=\"../fc6d5d5ef9f75703f7bcb938a89a9c8e7062ba670/expr.ipynb\"><img src=\"../fc6d5d5ef9f75703f7bcb938a89a9c8e7062ba670/expr.png\" style=\"display:inline;vertical-align:middle;\" /></a></td></tr>\n",
       "<tr><td>6</td><td>Operation</td><td>operator:&nbsp;8<br>operands:&nbsp;9<br></td><td><a class=\"ProveItLink\" href=\"../c365d94f499f2b0300d235b8b438f72f2da6a0900/expr.ipynb\"><img src=\"../c365d94f499f2b0300d235b8b438f72f2da6a0900/expr.png\" style=\"display:inline;vertical-align:middle;\" /></a></td></tr>\n",
       "<tr><td>7</td><td>ExprTuple</td><td>27, 10</td><td><a class=\"ProveItLink\" href=\"../5a9657d6a0c268d2a00cf39f0c0529a92a5091590/expr.ipynb\"><img src=\"../5a9657d6a0c268d2a00cf39f0c0529a92a5091590/expr.png\" style=\"display:inline;vertical-align:middle;\" /></a></td></tr>\n",
       "<tr><td>8</td><td>Literal</td><td></td><td><a class=\"ProveItLink\" href=\"../../../../../../logic/booleans/conjunction/__pv_it/common/42118ff318bd65d98b1393f64ce7c2269feef76e0/expr.ipynb\"><img src=\"../../../../../../logic/booleans/conjunction/__pv_it/common/42118ff318bd65d98b1393f64ce7c2269feef76e0/expr.png\" style=\"display:inline;vertical-align:middle;\" /></a></td></tr>\n",
       "<tr><td>9</td><td>ExprTuple</td><td>11, 12, 13, 14, 15</td><td><a class=\"ProveItLink\" href=\"../03fb1febcc87ea26ab8a63d434d7e423ce2e4d680/expr.ipynb\"><img src=\"../03fb1febcc87ea26ab8a63d434d7e423ce2e4d680/expr.png\" style=\"display:inline;vertical-align:middle;\" /></a></td></tr>\n",
       "<tr><td>10</td><td>Operation</td><td>operator:&nbsp;16<br>operands:&nbsp;17<br></td><td><a class=\"ProveItLink\" href=\"../82c94e1805a8d33ed03b8cfe3dc034a2d7b985750/expr.ipynb\"><img src=\"../82c94e1805a8d33ed03b8cfe3dc034a2d7b985750/expr.png\" style=\"display:inline;vertical-align:middle;\" /></a></td></tr>\n",
       "<tr><td>11</td><td>Operation</td><td>operator:&nbsp;20<br>operands:&nbsp;18<br></td><td><a class=\"ProveItLink\" href=\"../7137328d24e8272e28aa657407d7cb6c5940b84d0/expr.ipynb\"><img src=\"../7137328d24e8272e28aa657407d7cb6c5940b84d0/expr.png\" style=\"display:inline;vertical-align:middle;\" /></a></td></tr>\n",
       "<tr><td>12</td><td>Operation</td><td>operator:&nbsp;20<br>operands:&nbsp;19<br></td><td><a class=\"ProveItLink\" href=\"../a5aeec4a354e4fc3736a4cb0945595c7f15a66eb0/expr.ipynb\"><img src=\"../a5aeec4a354e4fc3736a4cb0945595c7f15a66eb0/expr.png\" style=\"display:inline;vertical-align:middle;\" /></a></td></tr>\n",
       "<tr><td>13</td><td>Operation</td><td>operator:&nbsp;20<br>operands:&nbsp;21<br></td><td><a class=\"ProveItLink\" href=\"../d54ee3eb718ab9be6c4ed1cdc7b96ed6214ca6030/expr.ipynb\"><img src=\"../d54ee3eb718ab9be6c4ed1cdc7b96ed6214ca6030/expr.png\" style=\"display:inline;vertical-align:middle;\" /></a></td></tr>\n",
       "<tr><td>14</td><td>Operation</td><td>operator:&nbsp;23<br>operands:&nbsp;22<br></td><td><a class=\"ProveItLink\" href=\"../31c2c6549c22e29b1bbd25824129fca525283bbd0/expr.ipynb\"><img src=\"../31c2c6549c22e29b1bbd25824129fca525283bbd0/expr.png\" style=\"display:inline;vertical-align:middle;\" /></a></td></tr>\n",
       "<tr><td>15</td><td>Operation</td><td>operator:&nbsp;23<br>operands:&nbsp;24<br></td><td><a class=\"ProveItLink\" href=\"../9ffac36de56c38c5c3e9f9dba93dcdb1a8395d5c0/expr.ipynb\"><img src=\"../9ffac36de56c38c5c3e9f9dba93dcdb1a8395d5c0/expr.png\" style=\"display:inline;vertical-align:middle;\" /></a></td></tr>\n",
       "<tr><td>16</td><td>Literal</td><td></td><td><a class=\"ProveItLink\" href=\"../../common/7a0e2d2a71a9c11a68afbf981a5ed39949fa14d10/expr.ipynb\"><img src=\"../../common/7a0e2d2a71a9c11a68afbf981a5ed39949fa14d10/expr.png\" style=\"display:inline;vertical-align:middle;\" /></a></td></tr>\n",
       "<tr><td>17</td><td>ExprTuple</td><td>26, 28</td><td><a class=\"ProveItLink\" href=\"../0e00cf301f391b9db3f5ff72911e8e2539c94fb00/expr.ipynb\"><img src=\"../0e00cf301f391b9db3f5ff72911e8e2539c94fb00/expr.png\" style=\"display:inline;vertical-align:middle;\" /></a></td></tr>\n",
       "<tr><td>18</td><td>ExprTuple</td><td>26, 25</td><td><a class=\"ProveItLink\" href=\"../5d8be828e9ed80bdbff40fcb80ce24aeaf263f0d0/expr.ipynb\"><img src=\"../5d8be828e9ed80bdbff40fcb80ce24aeaf263f0d0/expr.png\" style=\"display:inline;vertical-align:middle;\" /></a></td></tr>\n",
       "<tr><td>19</td><td>ExprTuple</td><td>28, 25</td><td><a class=\"ProveItLink\" href=\"../9bdd3cb8fa8029aa1ce8665aa10c1a21dbbdef170/expr.ipynb\"><img src=\"../9bdd3cb8fa8029aa1ce8665aa10c1a21dbbdef170/expr.png\" style=\"display:inline;vertical-align:middle;\" /></a></td></tr>\n",
       "<tr><td>20</td><td>Literal</td><td></td><td><a class=\"ProveItLink\" href=\"../../../../../../logic/sets/membership/__pv_it/common/477487d8796864d23d5810f83761435f25167f690/expr.ipynb\"><img src=\"../../../../../../logic/sets/membership/__pv_it/common/477487d8796864d23d5810f83761435f25167f690/expr.png\" style=\"display:inline;vertical-align:middle;\" /></a></td></tr>\n",
       "<tr><td>21</td><td>ExprTuple</td><td>27, 25</td><td><a class=\"ProveItLink\" href=\"../b5938ffd3047e68d4870bde8982ff06e639f28be0/expr.ipynb\"><img src=\"../b5938ffd3047e68d4870bde8982ff06e639f28be0/expr.png\" style=\"display:inline;vertical-align:middle;\" /></a></td></tr>\n",
       "<tr><td>22</td><td>ExprTuple</td><td>26, 27</td><td><a class=\"ProveItLink\" href=\"../0d8f13e338aeb2e03df8427dab7ab6e03a8a7d0e0/expr.ipynb\"><img src=\"../0d8f13e338aeb2e03df8427dab7ab6e03a8a7d0e0/expr.png\" style=\"display:inline;vertical-align:middle;\" /></a></td></tr>\n",
       "<tr><td>23</td><td>Literal</td><td></td><td><a class=\"ProveItLink\" href=\"../../../../../ordering/__pv_it/common/68379698d72b4689bbda4b5c5cca29ee599d70280/expr.ipynb\"><img src=\"../../../../../ordering/__pv_it/common/68379698d72b4689bbda4b5c5cca29ee599d70280/expr.png\" style=\"display:inline;vertical-align:middle;\" /></a></td></tr>\n",
       "<tr><td>24</td><td>ExprTuple</td><td>27, 28</td><td><a class=\"ProveItLink\" href=\"../baaf36b6b4a9ebf979022b717b7ccb5e4d9c091b0/expr.ipynb\"><img src=\"../baaf36b6b4a9ebf979022b717b7ccb5e4d9c091b0/expr.png\" style=\"display:inline;vertical-align:middle;\" /></a></td></tr>\n",
       "<tr><td>25</td><td>Literal</td><td></td><td><a class=\"ProveItLink\" href=\"../../common/93cac87a1a47e613f7a83b23ef7891599a1a4cca0/expr.ipynb\"><img src=\"../../common/93cac87a1a47e613f7a83b23ef7891599a1a4cca0/expr.png\" style=\"display:inline;vertical-align:middle;\" /></a></td></tr>\n",
       "<tr><td>26</td><td>Variable</td><td></td><td><a class=\"ProveItLink\" href=\"../../../../../../__pv_it/common/c06c606ec12678c58933ac85412ecadc2ae28be60/expr.ipynb\"><img src=\"../../../../../../__pv_it/common/c06c606ec12678c58933ac85412ecadc2ae28be60/expr.png\" style=\"display:inline;vertical-align:middle;\" /></a></td></tr>\n",
       "<tr><td>27</td><td>Variable</td><td></td><td><a class=\"ProveItLink\" href=\"../../../../../../__pv_it/common/a0d9d672aa5e272d907247690c152cc2c6daafb70/expr.ipynb\"><img src=\"../../../../../../__pv_it/common/a0d9d672aa5e272d907247690c152cc2c6daafb70/expr.png\" style=\"display:inline;vertical-align:middle;\" /></a></td></tr>\n",
       "<tr><td>28</td><td>Variable</td><td></td><td><a class=\"ProveItLink\" href=\"../../../../../../__pv_it/common/195236b98c6c564a75b5dbada74b173bc52d5c3e0/expr.ipynb\"><img src=\"../../../../../../__pv_it/common/195236b98c6c564a75b5dbada74b173bc52d5c3e0/expr.png\" style=\"display:inline;vertical-align:middle;\" /></a></td></tr>\n",
       "</table>\n"
      ],
      "text/plain": [
       "0. forall_{a, b, x in Real | a <= x, x <= b} (x in [a,b])\n",
       "   core type: Operation\n",
       "   operator: 1\n",
       "   operand: 2\n",
       "1. forall\n",
       "   core type: Literal\n",
       "   sub-expressions: \n",
       "2. (a, b, x) -> {x in [a,b] if a in Real ,  b in Real ,  x in Real ,  a <= x ,  x <= b.\n",
       "   core type: Lambda\n",
       "   parameters: 3\\n   body: 4\n",
       "3. (a, b, x)\n",
       "   core type: ExprTuple\n",
       "   sub-expressions: 26, 28, 27\n",
       "4. {x in [a,b] if a in Real ,  b in Real ,  x in Real ,  a <= x ,  x <= b.\n",
       "   core type: Conditional\n",
       "   value: 5\n",
       "   condition: 6\n",
       "5. x in [a,b]\n",
       "   core type: Operation\n",
       "   operator: 20\n",
       "   operands: 7\n",
       "6. (a in Real) and (b in Real) and (x in Real) and (a <= x) and (x <= b)\n",
       "   core type: Operation\n",
       "   operator: 8\n",
       "   operands: 9\n",
       "7. (x, [a,b])\n",
       "   core type: ExprTuple\n",
       "   sub-expressions: 27, 10\n",
       "8. and\n",
       "   core type: Literal\n",
       "   sub-expressions: \n",
       "9. (a in Real, b in Real, x in Real, a <= x, x <= b)\n",
       "   core type: ExprTuple\n",
       "   sub-expressions: 11, 12, 13, 14, 15\n",
       "10. [a,b]\n",
       "    core type: Operation\n",
       "    operator: 16\n",
       "    operands: 17\n",
       "11. a in Real\n",
       "    core type: Operation\n",
       "    operator: 20\n",
       "    operands: 18\n",
       "12. b in Real\n",
       "    core type: Operation\n",
       "    operator: 20\n",
       "    operands: 19\n",
       "13. x in Real\n",
       "    core type: Operation\n",
       "    operator: 20\n",
       "    operands: 21\n",
       "14. a <= x\n",
       "    core type: Operation\n",
       "    operator: 23\n",
       "    operands: 22\n",
       "15. x <= b\n",
       "    core type: Operation\n",
       "    operator: 23\n",
       "    operands: 24\n",
       "16. IntervalCC\n",
       "    core type: Literal\n",
       "    sub-expressions: \n",
       "17. (a, b)\n",
       "    core type: ExprTuple\n",
       "    sub-expressions: 26, 28\n",
       "18. (a, Real)\n",
       "    core type: ExprTuple\n",
       "    sub-expressions: 26, 25\n",
       "19. (b, Real)\n",
       "    core type: ExprTuple\n",
       "    sub-expressions: 28, 25\n",
       "20. in\n",
       "    core type: Literal\n",
       "    sub-expressions: \n",
       "21. (x, Real)\n",
       "    core type: ExprTuple\n",
       "    sub-expressions: 27, 25\n",
       "22. (a, x)\n",
       "    core type: ExprTuple\n",
       "    sub-expressions: 26, 27\n",
       "23. <=\n",
       "    core type: Literal\n",
       "    sub-expressions: \n",
       "24. (x, b)\n",
       "    core type: ExprTuple\n",
       "    sub-expressions: 27, 28\n",
       "25. Real\n",
       "    core type: Literal\n",
       "    sub-expressions: \n",
       "26. a\n",
       "    core type: Variable\n",
       "    sub-expressions: \n",
       "27. x\n",
       "    core type: Variable\n",
       "    sub-expressions: \n",
       "28. b\n",
       "    core type: Variable\n",
       "    sub-expressions: "
      ]
     },
     "execution_count": 5,
     "metadata": {},
     "output_type": "execute_result"
    }
   ],
   "source": [
    "# display the expression information\n",
    "expr.expr_info()"
   ]
  },
  {
   "cell_type": "code",
   "execution_count": null,
   "metadata": {},
   "outputs": [],
   "source": []
  }
 ],
 "metadata": {
  "kernelspec": {
   "display_name": "Python 3",
   "language": "python",
   "name": "python3"
  }
 },
 "nbformat": 4,
 "nbformat_minor": 0
}