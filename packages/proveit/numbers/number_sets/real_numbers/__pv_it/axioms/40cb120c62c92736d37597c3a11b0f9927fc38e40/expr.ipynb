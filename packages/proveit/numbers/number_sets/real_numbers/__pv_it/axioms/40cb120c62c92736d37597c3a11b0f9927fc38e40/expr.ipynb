{
 "cells": [
  {
   "cell_type": "markdown",
   "metadata": {},
   "source": [
    "Expression of type <a class=\"ProveItLink\" href=\"../../../../../../../../doc/html/api/proveit.logic.Forall.html\">Forall</a>\n",
    "=======================\n",
    "# from the theory of <a class=\"ProveItLink\" href=\"../../../_theory_nbs_/theory.ipynb\">proveit.numbers.number_sets.real_numbers</a>"
   ]
  },
  {
   "cell_type": "code",
   "execution_count": 1,
   "metadata": {},
   "outputs": [],
   "source": [
    "import proveit\n",
    "# Automation is not needed when building an expression:\n",
    "proveit.defaults.automation = False # This will speed things up.\n",
    "proveit.defaults.inline_pngs = False # Makes files smaller.\n",
    "%load_expr # Load the stored expression as 'stored_expr'\n",
    "# import Expression classes needed to build the expression\n",
    "from proveit import a, b, x\n",
    "from proveit.logic import And, Equals, Forall, InSet\n",
    "from proveit.numbers import IntervalCO, Less, LessEq, LesserSequence, Real"
   ]
  },
  {
   "cell_type": "code",
   "execution_count": 2,
   "metadata": {},
   "outputs": [
    {
     "data": {
      "text/html": [
       "<strong id=\"expr\">expr:</strong> <a class=\"ProveItLink\" href=\"expr.ipynb\"><img src=\"expr.png\" style=\"display:inline;vertical-align:middle;\" /></a><br>"
      ],
      "text/plain": [
       "expr: forall_{x} ((x in [a,b)) = ((x in Real) and (a <= x < b)))"
      ]
     },
     "execution_count": 2,
     "metadata": {},
     "output_type": "execute_result"
    }
   ],
   "source": [
    "# build up the expression from sub-expressions\n",
    "expr = Forall([x], Equals(InSet(x, IntervalCO(a, b)), And(InSet(x, Real), LesserSequence([LessEq._operator_, Less._operator_], [a, x, b]))))"
   ]
  },
  {
   "cell_type": "code",
   "execution_count": 3,
   "metadata": {},
   "outputs": [
    {
     "name": "stdout",
     "output_type": "stream",
     "text": [
      "Passed sanity check: expr matches stored_expr\n"
     ]
    }
   ],
   "source": [
    "# check that the built expression is the same as the stored expression\n",
    "assert expr == stored_expr\n",
    "assert expr._style_id == stored_expr._style_id\n",
    "print(\"Passed sanity check: expr matches stored_expr\")"
   ]
  },
  {
   "cell_type": "code",
   "execution_count": 4,
   "metadata": {},
   "outputs": [
    {
     "name": "stdout",
     "output_type": "stream",
     "text": [
      "\\forall_{x}~\\left(\\left(x \\in \\left[a,b\\right)\\right) = \\left(\\left(x \\in \\mathbb{R}\\right) \\land \\left(a \\leq x < b\\right)\\right)\\right)\n"
     ]
    }
   ],
   "source": [
    "# Show the LaTeX representation of the expression for convenience if you need it.\n",
    "print(expr.latex())"
   ]
  },
  {
   "cell_type": "code",
   "execution_count": 5,
   "metadata": {},
   "outputs": [
    {
     "data": {
      "text/html": [
       "<table><tr><th>&nbsp;</th><th>core type</th><th>sub-expressions</th><th>expression</th></tr>\n",
       "<tr><td>0</td><td>Operation</td><td>operator:&nbsp;1<br>operand:&nbsp;2<br></td><td><a class=\"ProveItLink\" href=\"expr.ipynb\"><img src=\"expr.png\" style=\"display:inline;vertical-align:middle;\" /></a></td></tr>\n",
       "<tr><td>1</td><td>Literal</td><td></td><td><a class=\"ProveItLink\" href=\"../../../../../../logic/booleans/quantification/universality/__pv_it/common/083d2baa0b8ecab1d230f9ec29a15aa1355809fb0/expr.ipynb\"><img src=\"../../../../../../logic/booleans/quantification/universality/__pv_it/common/083d2baa0b8ecab1d230f9ec29a15aa1355809fb0/expr.png\" style=\"display:inline;vertical-align:middle;\" /></a></td></tr>\n",
       "<tr><td>2</td><td>Lambda</td><td>parameter:&nbsp;24<br>body:&nbsp;3<br></td><td><a class=\"ProveItLink\" href=\"../02ee4b6f7101763f376b101a481ac2b6863e61f90/expr.ipynb\"><img src=\"../02ee4b6f7101763f376b101a481ac2b6863e61f90/expr.png\" style=\"display:inline;vertical-align:middle;\" /></a></td></tr>\n",
       "<tr><td>3</td><td>Operation</td><td>operator:&nbsp;4<br>operands:&nbsp;5<br></td><td><a class=\"ProveItLink\" href=\"../6eaebecdc1fdc2564f0fbb018bb59e2e3151333e0/expr.ipynb\"><img src=\"../6eaebecdc1fdc2564f0fbb018bb59e2e3151333e0/expr.png\" style=\"display:inline;vertical-align:middle;\" /></a></td></tr>\n",
       "<tr><td>4</td><td>Literal</td><td></td><td><a class=\"ProveItLink\" href=\"../../../../../../logic/equality/__pv_it/common/fb96dc12b2aa8801dda64d0132b396c63d1502bb0/expr.ipynb\"><img src=\"../../../../../../logic/equality/__pv_it/common/fb96dc12b2aa8801dda64d0132b396c63d1502bb0/expr.png\" style=\"display:inline;vertical-align:middle;\" /></a></td></tr>\n",
       "<tr><td>5</td><td>ExprTuple</td><td>6, 7</td><td><a class=\"ProveItLink\" href=\"../a8339f921e9c63f2dc39d92f8bca489185eb8b970/expr.ipynb\"><img src=\"../a8339f921e9c63f2dc39d92f8bca489185eb8b970/expr.png\" style=\"display:inline;vertical-align:middle;\" /></a></td></tr>\n",
       "<tr><td>6</td><td>Operation</td><td>operator:&nbsp;16<br>operands:&nbsp;8<br></td><td><a class=\"ProveItLink\" href=\"../e7281295de00647d4d1d0699ec4ed7732f83feb30/expr.ipynb\"><img src=\"../e7281295de00647d4d1d0699ec4ed7732f83feb30/expr.png\" style=\"display:inline;vertical-align:middle;\" /></a></td></tr>\n",
       "<tr><td>7</td><td>Operation</td><td>operator:&nbsp;9<br>operands:&nbsp;10<br></td><td><a class=\"ProveItLink\" href=\"../f3fecff7946e78d769015ba04f641f0d5caa084f0/expr.ipynb\"><img src=\"../f3fecff7946e78d769015ba04f641f0d5caa084f0/expr.png\" style=\"display:inline;vertical-align:middle;\" /></a></td></tr>\n",
       "<tr><td>8</td><td>ExprTuple</td><td>24, 11</td><td><a class=\"ProveItLink\" href=\"../3a00e2e1469b5e7fe914ddee477783c8e71cc6820/expr.ipynb\"><img src=\"../3a00e2e1469b5e7fe914ddee477783c8e71cc6820/expr.png\" style=\"display:inline;vertical-align:middle;\" /></a></td></tr>\n",
       "<tr><td>9</td><td>Literal</td><td></td><td><a class=\"ProveItLink\" href=\"../../../../../../logic/booleans/conjunction/__pv_it/common/42118ff318bd65d98b1393f64ce7c2269feef76e0/expr.ipynb\"><img src=\"../../../../../../logic/booleans/conjunction/__pv_it/common/42118ff318bd65d98b1393f64ce7c2269feef76e0/expr.png\" style=\"display:inline;vertical-align:middle;\" /></a></td></tr>\n",
       "<tr><td>10</td><td>ExprTuple</td><td>12, 13</td><td><a class=\"ProveItLink\" href=\"../28b05cea7a85d3a094e7117af5fb4d3110e2cc250/expr.ipynb\"><img src=\"../28b05cea7a85d3a094e7117af5fb4d3110e2cc250/expr.png\" style=\"display:inline;vertical-align:middle;\" /></a></td></tr>\n",
       "<tr><td>11</td><td>Operation</td><td>operator:&nbsp;14<br>operands:&nbsp;15<br></td><td><a class=\"ProveItLink\" href=\"../5908042f158b8f98777fd88ff4bdeba9f7f2bd6d0/expr.ipynb\"><img src=\"../5908042f158b8f98777fd88ff4bdeba9f7f2bd6d0/expr.png\" style=\"display:inline;vertical-align:middle;\" /></a></td></tr>\n",
       "<tr><td>12</td><td>Operation</td><td>operator:&nbsp;16<br>operands:&nbsp;17<br></td><td><a class=\"ProveItLink\" href=\"../d54ee3eb718ab9be6c4ed1cdc7b96ed6214ca6030/expr.ipynb\"><img src=\"../d54ee3eb718ab9be6c4ed1cdc7b96ed6214ca6030/expr.png\" style=\"display:inline;vertical-align:middle;\" /></a></td></tr>\n",
       "<tr><td>13</td><td>Operation</td><td>operators:&nbsp;18<br>operands:&nbsp;19<br></td><td><a class=\"ProveItLink\" href=\"../ee28f67e6c1e6176a4f5b2bda6254e0c22d5ad150/expr.ipynb\"><img src=\"../ee28f67e6c1e6176a4f5b2bda6254e0c22d5ad150/expr.png\" style=\"display:inline;vertical-align:middle;\" /></a></td></tr>\n",
       "<tr><td>14</td><td>Literal</td><td></td><td><a class=\"ProveItLink\" href=\"../../common/da5a5fc1f3f3ada8da2b36f3e6963bacf1c8e9fc0/expr.ipynb\"><img src=\"../../common/da5a5fc1f3f3ada8da2b36f3e6963bacf1c8e9fc0/expr.png\" style=\"display:inline;vertical-align:middle;\" /></a></td></tr>\n",
       "<tr><td>15</td><td>ExprTuple</td><td>23, 25</td><td><a class=\"ProveItLink\" href=\"../0e00cf301f391b9db3f5ff72911e8e2539c94fb00/expr.ipynb\"><img src=\"../0e00cf301f391b9db3f5ff72911e8e2539c94fb00/expr.png\" style=\"display:inline;vertical-align:middle;\" /></a></td></tr>\n",
       "<tr><td>16</td><td>Literal</td><td></td><td><a class=\"ProveItLink\" href=\"../../../../../../logic/sets/membership/__pv_it/common/477487d8796864d23d5810f83761435f25167f690/expr.ipynb\"><img src=\"../../../../../../logic/sets/membership/__pv_it/common/477487d8796864d23d5810f83761435f25167f690/expr.png\" style=\"display:inline;vertical-align:middle;\" /></a></td></tr>\n",
       "<tr><td>17</td><td>ExprTuple</td><td>24, 20</td><td><a class=\"ProveItLink\" href=\"../b5938ffd3047e68d4870bde8982ff06e639f28be0/expr.ipynb\"><img src=\"../b5938ffd3047e68d4870bde8982ff06e639f28be0/expr.png\" style=\"display:inline;vertical-align:middle;\" /></a></td></tr>\n",
       "<tr><td>18</td><td>ExprTuple</td><td>21, 22</td><td><a class=\"ProveItLink\" href=\"../773deb3c7a8b84445502c95a3df255b23a65345e0/expr.ipynb\"><img src=\"../773deb3c7a8b84445502c95a3df255b23a65345e0/expr.png\" style=\"display:inline;vertical-align:middle;\" /></a></td></tr>\n",
       "<tr><td>19</td><td>ExprTuple</td><td>23, 24, 25</td><td><a class=\"ProveItLink\" href=\"../57d1df38a344fa0dc6c9b4d64b17f684e54706db0/expr.ipynb\"><img src=\"../57d1df38a344fa0dc6c9b4d64b17f684e54706db0/expr.png\" style=\"display:inline;vertical-align:middle;\" /></a></td></tr>\n",
       "<tr><td>20</td><td>Literal</td><td></td><td><a class=\"ProveItLink\" href=\"../../common/93cac87a1a47e613f7a83b23ef7891599a1a4cca0/expr.ipynb\"><img src=\"../../common/93cac87a1a47e613f7a83b23ef7891599a1a4cca0/expr.png\" style=\"display:inline;vertical-align:middle;\" /></a></td></tr>\n",
       "<tr><td>21</td><td>Literal</td><td></td><td><a class=\"ProveItLink\" href=\"../../../../../ordering/__pv_it/common/68379698d72b4689bbda4b5c5cca29ee599d70280/expr.ipynb\"><img src=\"../../../../../ordering/__pv_it/common/68379698d72b4689bbda4b5c5cca29ee599d70280/expr.png\" style=\"display:inline;vertical-align:middle;\" /></a></td></tr>\n",
       "<tr><td>22</td><td>Literal</td><td></td><td><a class=\"ProveItLink\" href=\"../../../../../ordering/__pv_it/common/fa503ed52033522c609eef1cf3e1b45796489da50/expr.ipynb\"><img src=\"../../../../../ordering/__pv_it/common/fa503ed52033522c609eef1cf3e1b45796489da50/expr.png\" style=\"display:inline;vertical-align:middle;\" /></a></td></tr>\n",
       "<tr><td>23</td><td>Variable</td><td></td><td><a class=\"ProveItLink\" href=\"../../../../../../__pv_it/common/c06c606ec12678c58933ac85412ecadc2ae28be60/expr.ipynb\"><img src=\"../../../../../../__pv_it/common/c06c606ec12678c58933ac85412ecadc2ae28be60/expr.png\" style=\"display:inline;vertical-align:middle;\" /></a></td></tr>\n",
       "<tr><td>24</td><td>Variable</td><td></td><td><a class=\"ProveItLink\" href=\"../../../../../../__pv_it/common/a0d9d672aa5e272d907247690c152cc2c6daafb70/expr.ipynb\"><img src=\"../../../../../../__pv_it/common/a0d9d672aa5e272d907247690c152cc2c6daafb70/expr.png\" style=\"display:inline;vertical-align:middle;\" /></a></td></tr>\n",
       "<tr><td>25</td><td>Variable</td><td></td><td><a class=\"ProveItLink\" href=\"../../../../../../__pv_it/common/195236b98c6c564a75b5dbada74b173bc52d5c3e0/expr.ipynb\"><img src=\"../../../../../../__pv_it/common/195236b98c6c564a75b5dbada74b173bc52d5c3e0/expr.png\" style=\"display:inline;vertical-align:middle;\" /></a></td></tr>\n",
       "</table>\n"
      ],
      "text/plain": [
       "0. forall_{x} ((x in [a,b)) = ((x in Real) and (a <= x < b)))\n",
       "   core type: Operation\n",
       "   operator: 1\n",
       "   operand: 2\n",
       "1. forall\n",
       "   core type: Literal\n",
       "   sub-expressions: \n",
       "2. x -> ((x in [a,b)) = ((x in Real) and (a <= x < b)))\n",
       "   core type: Lambda\n",
       "   parameter: 24\n",
       "   body: 3\n",
       "3. (x in [a,b)) = ((x in Real) and (a <= x < b))\n",
       "   core type: Operation\n",
       "   operator: 4\n",
       "   operands: 5\n",
       "4. =\n",
       "   core type: Literal\n",
       "   sub-expressions: \n",
       "5. (x in [a,b), (x in Real) and (a <= x < b))\n",
       "   core type: ExprTuple\n",
       "   sub-expressions: 6, 7\n",
       "6. x in [a,b)\n",
       "   core type: Operation\n",
       "   operator: 16\n",
       "   operands: 8\n",
       "7. (x in Real) and (a <= x < b)\n",
       "   core type: Operation\n",
       "   operator: 9\n",
       "   operands: 10\n",
       "8. (x, [a,b))\n",
       "   core type: ExprTuple\n",
       "   sub-expressions: 24, 11\n",
       "9. and\n",
       "   core type: Literal\n",
       "   sub-expressions: \n",
       "10. (x in Real, a <= x < b)\n",
       "    core type: ExprTuple\n",
       "    sub-expressions: 12, 13\n",
       "11. [a,b)\n",
       "    core type: Operation\n",
       "    operator: 14\n",
       "    operands: 15\n",
       "12. x in Real\n",
       "    core type: Operation\n",
       "    operator: 16\n",
       "    operands: 17\n",
       "13. a <= x < b\n",
       "    core type: Operation\n",
       "    operators: 18\n",
       "    operands: 19\n",
       "14. IntervalCO\n",
       "    core type: Literal\n",
       "    sub-expressions: \n",
       "15. (a, b)\n",
       "    core type: ExprTuple\n",
       "    sub-expressions: 23, 25\n",
       "16. in\n",
       "    core type: Literal\n",
       "    sub-expressions: \n",
       "17. (x, Real)\n",
       "    core type: ExprTuple\n",
       "    sub-expressions: 24, 20\n",
       "18. (<=, <)\n",
       "    core type: ExprTuple\n",
       "    sub-expressions: 21, 22\n",
       "19. (a, x, b)\n",
       "    core type: ExprTuple\n",
       "    sub-expressions: 23, 24, 25\n",
       "20. Real\n",
       "    core type: Literal\n",
       "    sub-expressions: \n",
       "21. <=\n",
       "    core type: Literal\n",
       "    sub-expressions: \n",
       "22. <\n",
       "    core type: Literal\n",
       "    sub-expressions: \n",
       "23. a\n",
       "    core type: Variable\n",
       "    sub-expressions: \n",
       "24. x\n",
       "    core type: Variable\n",
       "    sub-expressions: \n",
       "25. b\n",
       "    core type: Variable\n",
       "    sub-expressions: "
      ]
     },
     "execution_count": 5,
     "metadata": {},
     "output_type": "execute_result"
    }
   ],
   "source": [
    "# display the expression information\n",
    "expr.expr_info()"
   ]
  },
  {
   "cell_type": "code",
   "execution_count": null,
   "metadata": {},
   "outputs": [],
   "source": []
  }
 ],
 "metadata": {
  "kernelspec": {
   "display_name": "Python 3",
   "language": "python",
   "name": "python3"
  }
 },
 "nbformat": 4,
 "nbformat_minor": 0
}