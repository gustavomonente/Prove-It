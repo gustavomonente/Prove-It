{
 "cells": [
  {
   "cell_type": "markdown",
   "metadata": {},
   "source": [
    "Show the Proof\n",
    "========"
   ]
  },
  {
   "cell_type": "code",
   "execution_count": 1,
   "metadata": {},
   "outputs": [
    {
     "data": {
      "text/html": [
       "<table><tr><th>&nbsp;</th><th>step type</th><th>requirements</th><th>statement</th></tr>\n",
       "<tr><td><a name=\"proveit.numbers.number_sets.natural_numbers._proof_non_zero_if_is_nat_pos.3f9e22fec8a6abbcd3f3014cd53938e5d0b478190_step0\">0</a></td><td>instantiation</td><td><a href=\"#proveit.numbers.number_sets.natural_numbers._proof_non_zero_if_is_nat_pos.3f9e22fec8a6abbcd3f3014cd53938e5d0b478190_step1\">1</a>, <a href=\"#proveit.numbers.number_sets.natural_numbers._proof_non_zero_if_is_nat_pos.3f9e22fec8a6abbcd3f3014cd53938e5d0b478190_step2\">2</a></td><td><span style=\"font-size:20px;\"><a class=\"ProveItLink\" href=\"../../theorems/c137fc4bdb69d9d8200a128e712a550420acc4790/expr.ipynb\"><img src=\"../../theorems/c137fc4bdb69d9d8200a128e712a550420acc4790/expr.png\" style=\"display:inline;vertical-align:middle;\" /></a> <a class=\"ProveItLink\" href=\"proof.ipynb\" style=\"text-decoration: none\">&nbsp;&#x22A2;&nbsp;&nbsp;</a><a class=\"ProveItLink\" href=\"../c493a994ebe418d958b66b22f9a40bae29d523070/expr.ipynb\"><img src=\"../c493a994ebe418d958b66b22f9a40bae29d523070/expr.png\" style=\"display:inline;vertical-align:middle;\" /></a></span></td></tr>\n",
       "<tr><td>&nbsp;</td><td colspan=4 style=\"text-align:left\"><span style=\"font-size:20px;\"><a class=\"ProveItLink\" href=\"../../../../../../__pv_it/common/66c90e66682f107a881f2d666959f64e2e72ad750/expr.ipynb\"><img src=\"../../../../../../__pv_it/common/66c90e66682f107a881f2d666959f64e2e72ad750/expr.png\" style=\"display:inline;vertical-align:middle;\" /></a> : <a class=\"ProveItLink\" href=\"../../../../../../__pv_it/common/6165c9bb82ce3c7097cdba4440a1aeeb6eaca8a40/expr.ipynb\"><img src=\"../../../../../../__pv_it/common/6165c9bb82ce3c7097cdba4440a1aeeb6eaca8a40/expr.png\" style=\"display:inline;vertical-align:middle;\" /></a></span></td></tr><tr><td><a name=\"proveit.numbers.number_sets.natural_numbers._proof_non_zero_if_is_nat_pos.3f9e22fec8a6abbcd3f3014cd53938e5d0b478190_step1\">1</a></td><td>theorem</td><td></td><td><span style=\"font-size:20px;\"> <a class=\"ProveItLink\" href=\"../../../../../ordering/_theory_nbs_/proofs/positive_if_real_pos/thm_proof.ipynb\" style=\"text-decoration: none\">&nbsp;&#x22A2;&nbsp;&nbsp;</a><a class=\"ProveItLink\" href=\"../../../../../ordering/__pv_it/theorems/0b7dfe14c2a9a8793a25a98bd2cdb19adfd942130/expr.ipynb\"><img src=\"../../../../../ordering/__pv_it/theorems/0b7dfe14c2a9a8793a25a98bd2cdb19adfd942130/expr.png\" style=\"display:inline;vertical-align:middle;\" /></a></span></td></tr>\n",
       "<tr><td>&nbsp;</td><td colspan=4 style-\"text-align:left\"><a class=\"ProveItLink\" href=\"../../../../../ordering/_theory_nbs_/proofs/positive_if_real_pos/thm_proof.ipynb\">proveit.numbers.ordering.positive_if_real_pos</a></td></tr><tr><td><a name=\"proveit.numbers.number_sets.natural_numbers._proof_non_zero_if_is_nat_pos.3f9e22fec8a6abbcd3f3014cd53938e5d0b478190_step2\">2</a></td><td>instantiation</td><td><a href=\"#proveit.numbers.number_sets.natural_numbers._proof_non_zero_if_is_nat_pos.3f9e22fec8a6abbcd3f3014cd53938e5d0b478190_step3\">3</a>, <a href=\"#proveit.numbers.number_sets.natural_numbers._proof_non_zero_if_is_nat_pos.3f9e22fec8a6abbcd3f3014cd53938e5d0b478190_step4\">4</a>, <a href=\"#proveit.numbers.number_sets.natural_numbers._proof_non_zero_if_is_nat_pos.3f9e22fec8a6abbcd3f3014cd53938e5d0b478190_step5\">5</a></td><td><span style=\"font-size:20px;\"><a class=\"ProveItLink\" href=\"../../theorems/c137fc4bdb69d9d8200a128e712a550420acc4790/expr.ipynb\"><img src=\"../../theorems/c137fc4bdb69d9d8200a128e712a550420acc4790/expr.png\" style=\"display:inline;vertical-align:middle;\" /></a> <a class=\"ProveItLink\" href=\"../85918ba4141bc890fb03c1ebc016b98488e622dd0/proof.ipynb\" style=\"text-decoration: none\">&nbsp;&#x22A2;&nbsp;&nbsp;</a><a class=\"ProveItLink\" href=\"../54a9d0afad23e8cba077904915c3542dabffe7d80/expr.ipynb\"><img src=\"../54a9d0afad23e8cba077904915c3542dabffe7d80/expr.png\" style=\"display:inline;vertical-align:middle;\" /></a></span></td></tr>\n",
       "<tr><td>&nbsp;</td><td colspan=4 style=\"text-align:left\"><span style=\"font-size:20px;\"><a class=\"ProveItLink\" href=\"../../../../../../__pv_it/common/e4aad701f7f5516d8e7f0d805d518bf02c13322a0/expr.ipynb\"><img src=\"../../../../../../__pv_it/common/e4aad701f7f5516d8e7f0d805d518bf02c13322a0/expr.png\" style=\"display:inline;vertical-align:middle;\" /></a> : <a class=\"ProveItLink\" href=\"../../common/a2a7252783c385c028dad802e97575c19e456b990/expr.ipynb\"><img src=\"../../common/a2a7252783c385c028dad802e97575c19e456b990/expr.png\" style=\"display:inline;vertical-align:middle;\" /></a>, <a class=\"ProveItLink\" href=\"../../../../../../__pv_it/common/4eca3b30dcf58a58494e201d1b7886d8643a617b0/expr.ipynb\"><img src=\"../../../../../../__pv_it/common/4eca3b30dcf58a58494e201d1b7886d8643a617b0/expr.png\" style=\"display:inline;vertical-align:middle;\" /></a> : <a class=\"ProveItLink\" href=\"../../../../real_numbers/__pv_it/common/8c67355f38838cbd6b40f3876e11d664940344be0/expr.ipynb\"><img src=\"../../../../real_numbers/__pv_it/common/8c67355f38838cbd6b40f3876e11d664940344be0/expr.png\" style=\"display:inline;vertical-align:middle;\" /></a>, <a class=\"ProveItLink\" href=\"../../../../../../__pv_it/common/a2581dc5df71d9a30bad37de14965fa5fec97a240/expr.ipynb\"><img src=\"../../../../../../__pv_it/common/a2581dc5df71d9a30bad37de14965fa5fec97a240/expr.png\" style=\"display:inline;vertical-align:middle;\" /></a> : <a class=\"ProveItLink\" href=\"../../../../../../__pv_it/common/6165c9bb82ce3c7097cdba4440a1aeeb6eaca8a40/expr.ipynb\"><img src=\"../../../../../../__pv_it/common/6165c9bb82ce3c7097cdba4440a1aeeb6eaca8a40/expr.png\" style=\"display:inline;vertical-align:middle;\" /></a></span></td></tr><tr><td><a name=\"proveit.numbers.number_sets.natural_numbers._proof_non_zero_if_is_nat_pos.3f9e22fec8a6abbcd3f3014cd53938e5d0b478190_step3\">3</a></td><td>theorem</td><td></td><td><span style=\"font-size:20px;\"> <a class=\"ProveItLink\" href=\"../../../../../../logic/sets/inclusion/_theory_nbs_/proofs/unfold_subset_eq/thm_proof.ipynb\" style=\"text-decoration: none\">&nbsp;&#x22A2;&nbsp;&nbsp;</a><a class=\"ProveItLink\" href=\"../../../../../../logic/sets/inclusion/__pv_it/theorems/0460b4d524fce3cf0601ed706f203efe4d72eccf0/expr.ipynb\"><img src=\"../../../../../../logic/sets/inclusion/__pv_it/theorems/0460b4d524fce3cf0601ed706f203efe4d72eccf0/expr.png\" style=\"display:inline;vertical-align:middle;\" /></a></span></td></tr>\n",
       "<tr><td>&nbsp;</td><td colspan=4 style-\"text-align:left\"><a class=\"ProveItLink\" href=\"../../../../../../logic/sets/inclusion/_theory_nbs_/proofs/unfold_subset_eq/thm_proof.ipynb\">proveit.logic.sets.inclusion.unfold_subset_eq</a></td></tr><tr><td><a name=\"proveit.numbers.number_sets.natural_numbers._proof_non_zero_if_is_nat_pos.3f9e22fec8a6abbcd3f3014cd53938e5d0b478190_step4\">4</a></td><td>instantiation</td><td><a href=\"#proveit.numbers.number_sets.natural_numbers._proof_non_zero_if_is_nat_pos.3f9e22fec8a6abbcd3f3014cd53938e5d0b478190_step6\">6</a>, <a href=\"#proveit.numbers.number_sets.natural_numbers._proof_non_zero_if_is_nat_pos.3f9e22fec8a6abbcd3f3014cd53938e5d0b478190_step7\">7</a></td><td><span style=\"font-size:20px;\"> <a class=\"ProveItLink\" href=\"../04b978f839954380086e27379c9092d142197d180/proof.ipynb\" style=\"text-decoration: none\">&nbsp;&#x22A2;&nbsp;&nbsp;</a><a class=\"ProveItLink\" href=\"../e6385cf5b48908c6bf5c26eae192e799a05930fb0/expr.ipynb\"><img src=\"../e6385cf5b48908c6bf5c26eae192e799a05930fb0/expr.png\" style=\"display:inline;vertical-align:middle;\" /></a></span></td></tr>\n",
       "<tr><td>&nbsp;</td><td colspan=4 style=\"text-align:left\"><span style=\"font-size:20px;\"><a class=\"ProveItLink\" href=\"../../../../../../__pv_it/common/e4aad701f7f5516d8e7f0d805d518bf02c13322a0/expr.ipynb\"><img src=\"../../../../../../__pv_it/common/e4aad701f7f5516d8e7f0d805d518bf02c13322a0/expr.png\" style=\"display:inline;vertical-align:middle;\" /></a> : <a class=\"ProveItLink\" href=\"../../common/a2a7252783c385c028dad802e97575c19e456b990/expr.ipynb\"><img src=\"../../common/a2a7252783c385c028dad802e97575c19e456b990/expr.png\" style=\"display:inline;vertical-align:middle;\" /></a>, <a class=\"ProveItLink\" href=\"../../../../../../__pv_it/common/4eca3b30dcf58a58494e201d1b7886d8643a617b0/expr.ipynb\"><img src=\"../../../../../../__pv_it/common/4eca3b30dcf58a58494e201d1b7886d8643a617b0/expr.png\" style=\"display:inline;vertical-align:middle;\" /></a> : <a class=\"ProveItLink\" href=\"../../../../real_numbers/__pv_it/common/8c67355f38838cbd6b40f3876e11d664940344be0/expr.ipynb\"><img src=\"../../../../real_numbers/__pv_it/common/8c67355f38838cbd6b40f3876e11d664940344be0/expr.png\" style=\"display:inline;vertical-align:middle;\" /></a></span></td></tr><tr><td><a name=\"proveit.numbers.number_sets.natural_numbers._proof_non_zero_if_is_nat_pos.3f9e22fec8a6abbcd3f3014cd53938e5d0b478190_step5\">5</a></td><td>assumption</td><td></td><td><span style=\"font-size:20px;\"><a class=\"ProveItLink\" href=\"../../theorems/c137fc4bdb69d9d8200a128e712a550420acc4790/expr.ipynb\"><img src=\"../../theorems/c137fc4bdb69d9d8200a128e712a550420acc4790/expr.png\" style=\"display:inline;vertical-align:middle;\" /></a> <a class=\"ProveItLink\" href=\"../94bc64aa06883687e7f2d743aa9d30a6bc0cedbe0/proof.ipynb\" style=\"text-decoration: none\">&nbsp;&#x22A2;&nbsp;&nbsp;</a><a class=\"ProveItLink\" href=\"../../theorems/c137fc4bdb69d9d8200a128e712a550420acc4790/expr.ipynb\"><img src=\"../../theorems/c137fc4bdb69d9d8200a128e712a550420acc4790/expr.png\" style=\"display:inline;vertical-align:middle;\" /></a></span></td></tr>\n",
       "<tr><td><a name=\"proveit.numbers.number_sets.natural_numbers._proof_non_zero_if_is_nat_pos.3f9e22fec8a6abbcd3f3014cd53938e5d0b478190_step6\">6</a></td><td>theorem</td><td></td><td><span style=\"font-size:20px;\"> <a class=\"ProveItLink\" href=\"../../../../../../logic/sets/inclusion/_theory_nbs_/proofs/relax_proper_subset/thm_proof.ipynb\" style=\"text-decoration: none\">&nbsp;&#x22A2;&nbsp;&nbsp;</a><a class=\"ProveItLink\" href=\"../../../../../../logic/sets/inclusion/__pv_it/theorems/e2806dea65f2131438692eca4e7c580b453b6a000/expr.ipynb\"><img src=\"../../../../../../logic/sets/inclusion/__pv_it/theorems/e2806dea65f2131438692eca4e7c580b453b6a000/expr.png\" style=\"display:inline;vertical-align:middle;\" /></a></span></td></tr>\n",
       "<tr><td>&nbsp;</td><td colspan=4 style-\"text-align:left\"><a class=\"ProveItLink\" href=\"../../../../../../logic/sets/inclusion/_theory_nbs_/proofs/relax_proper_subset/thm_proof.ipynb\">proveit.logic.sets.inclusion.relax_proper_subset</a></td></tr><tr><td><a name=\"proveit.numbers.number_sets.natural_numbers._proof_non_zero_if_is_nat_pos.3f9e22fec8a6abbcd3f3014cd53938e5d0b478190_step7\">7</a></td><td>theorem</td><td></td><td><span style=\"font-size:20px;\"> <a class=\"ProveItLink\" href=\"../../../../real_numbers/_theory_nbs_/proofs/nat_pos_within_real_pos/thm_proof.ipynb\" style=\"text-decoration: none\">&nbsp;&#x22A2;&nbsp;&nbsp;</a><a class=\"ProveItLink\" href=\"../../../../real_numbers/__pv_it/theorems/77dfb1aba260e7db4c014d254feb15519844c04e0/expr.ipynb\"><img src=\"../../../../real_numbers/__pv_it/theorems/77dfb1aba260e7db4c014d254feb15519844c04e0/expr.png\" style=\"display:inline;vertical-align:middle;\" /></a></span></td></tr>\n",
       "<tr><td>&nbsp;</td><td colspan=4 style-\"text-align:left\"><a class=\"ProveItLink\" href=\"../../../../real_numbers/_theory_nbs_/proofs/nat_pos_within_real_pos/thm_proof.ipynb\">proveit.numbers.number_sets.real_numbers.nat_pos_within_real_pos</a></td></tr></table>"
      ],
      "text/plain": [
       "<proveit._core_.proof._ShowProof at 0x7f55f5a217f0>"
      ]
     },
     "execution_count": 1,
     "metadata": {},
     "output_type": "execute_result"
    }
   ],
   "source": [
    "import proveit\n",
    "# Automation is not needed when only showing a stored proof:\n",
    "proveit.defaults.automation = False # This will speed things up.\n",
    "proveit.defaults.inline_pngs = False # Makes files smaller.\n",
    "%show_proof"
   ]
  },
  {
   "cell_type": "code",
   "execution_count": null,
   "metadata": {},
   "outputs": [],
   "source": []
  }
 ],
 "metadata": {
  "kernelspec": {
   "display_name": "Python 3",
   "language": "python",
   "name": "python3"
  },
  "language_info": {
   "codemirror_mode": {
    "name": "ipython",
    "version": 3
   },
   "file_extension": ".py",
   "mimetype": "text/x-python",
   "name": "python",
   "nbconvert_exporter": "python",
   "pygments_lexer": "ipython3",
   "version": "3.7.3"
  }
 },
 "nbformat": 4,
 "nbformat_minor": 1
}