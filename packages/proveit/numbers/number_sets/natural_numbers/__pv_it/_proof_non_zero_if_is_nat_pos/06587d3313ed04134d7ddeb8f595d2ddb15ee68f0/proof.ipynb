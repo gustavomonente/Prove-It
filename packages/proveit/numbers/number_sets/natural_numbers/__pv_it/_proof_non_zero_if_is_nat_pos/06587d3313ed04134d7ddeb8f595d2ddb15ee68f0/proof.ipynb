{
 "cells": [
  {
   "cell_type": "markdown",
   "metadata": {},
   "source": [
    "Show the Proof\n",
    "========"
   ]
  },
  {
   "cell_type": "code",
   "execution_count": 1,
   "metadata": {},
   "outputs": [
    {
     "data": {
      "text/html": [
       "<table><tr><th>&nbsp;</th><th>step type</th><th>requirements</th><th>statement</th></tr>\n",
       "<tr><td><a name=\"proveit.numbers.number_sets.natural_numbers._proof_non_zero_if_is_nat_pos.06587d3313ed04134d7ddeb8f595d2ddb15ee68f0_step0\">0</a></td><td>instantiation</td><td><a href=\"#proveit.numbers.number_sets.natural_numbers._proof_non_zero_if_is_nat_pos.06587d3313ed04134d7ddeb8f595d2ddb15ee68f0_step1\">1</a>, <a href=\"#proveit.numbers.number_sets.natural_numbers._proof_non_zero_if_is_nat_pos.06587d3313ed04134d7ddeb8f595d2ddb15ee68f0_step2\">2</a></td><td><span style=\"font-size:20px;\"> <a class=\"ProveItLink\" href=\"proof.ipynb\" style=\"text-decoration: none\">&nbsp;&#x22A2;&nbsp;&nbsp;</a><a class=\"ProveItLink\" href=\"../1f7888df28083f2b1b42f12dc07167932696ed4b0/expr.ipynb\"><img src=\"../1f7888df28083f2b1b42f12dc07167932696ed4b0/expr.png\" style=\"display:inline;vertical-align:middle;\" /></a></span></td></tr>\n",
       "<tr><td>&nbsp;</td><td colspan=4 style=\"text-align:left\"><span style=\"font-size:20px;\"><a class=\"ProveItLink\" href=\"../../../../../../__pv_it/common/c06c606ec12678c58933ac85412ecadc2ae28be60/expr.ipynb\"><img src=\"../../../../../../__pv_it/common/c06c606ec12678c58933ac85412ecadc2ae28be60/expr.png\" style=\"display:inline;vertical-align:middle;\" /></a> : <a class=\"ProveItLink\" href=\"../../../../../numerals/__pv_it/common/2778428c7f555b2bdc06aa0530bc142c6e6335100/expr.ipynb\"><img src=\"../../../../../numerals/__pv_it/common/2778428c7f555b2bdc06aa0530bc142c6e6335100/expr.png\" style=\"display:inline;vertical-align:middle;\" /></a></span></td></tr><tr><td><a name=\"proveit.numbers.number_sets.natural_numbers._proof_non_zero_if_is_nat_pos.06587d3313ed04134d7ddeb8f595d2ddb15ee68f0_step1\">1</a></td><td>theorem</td><td></td><td><span style=\"font-size:20px;\"> <a class=\"ProveItLink\" href=\"../../../../../ordering/_theory_nbs_/proofs/positive_if_real_pos/thm_proof.ipynb\" style=\"text-decoration: none\">&nbsp;&#x22A2;&nbsp;&nbsp;</a><a class=\"ProveItLink\" href=\"../../../../../ordering/__pv_it/theorems/3bb860377a473918d22e4f549c5e37809f5a7b400/expr.ipynb\"><img src=\"../../../../../ordering/__pv_it/theorems/3bb860377a473918d22e4f549c5e37809f5a7b400/expr.png\" style=\"display:inline;vertical-align:middle;\" /></a></span></td></tr>\n",
       "<tr><td>&nbsp;</td><td colspan=4 style-\"text-align:left\"><a class=\"ProveItLink\" href=\"../../../../../ordering/_theory_nbs_/proofs/positive_if_real_pos/thm_proof.ipynb\">proveit.numbers.ordering.positive_if_real_pos</a></td></tr><tr><td><a name=\"proveit.numbers.number_sets.natural_numbers._proof_non_zero_if_is_nat_pos.06587d3313ed04134d7ddeb8f595d2ddb15ee68f0_step2\">2</a></td><td>instantiation</td><td><a href=\"#proveit.numbers.number_sets.natural_numbers._proof_non_zero_if_is_nat_pos.06587d3313ed04134d7ddeb8f595d2ddb15ee68f0_step3\">3</a>, <a href=\"#proveit.numbers.number_sets.natural_numbers._proof_non_zero_if_is_nat_pos.06587d3313ed04134d7ddeb8f595d2ddb15ee68f0_step4\">4</a>, <a href=\"#proveit.numbers.number_sets.natural_numbers._proof_non_zero_if_is_nat_pos.06587d3313ed04134d7ddeb8f595d2ddb15ee68f0_step5\">5</a></td><td><span style=\"font-size:20px;\"> <a class=\"ProveItLink\" href=\"../94d58d0e5894562c0f2f66085cd1609d261226fc0/proof.ipynb\" style=\"text-decoration: none\">&nbsp;&#x22A2;&nbsp;&nbsp;</a><a class=\"ProveItLink\" href=\"../49acf7ba7352ea9221e1508df35e84e8fff48a640/expr.ipynb\"><img src=\"../49acf7ba7352ea9221e1508df35e84e8fff48a640/expr.png\" style=\"display:inline;vertical-align:middle;\" /></a></span></td></tr>\n",
       "<tr><td>&nbsp;</td><td colspan=4 style=\"text-align:left\"><span style=\"font-size:20px;\"><a class=\"ProveItLink\" href=\"../../../../../../__pv_it/common/09585084922504426caf1db2ff588a23a0932a960/expr.ipynb\"><img src=\"../../../../../../__pv_it/common/09585084922504426caf1db2ff588a23a0932a960/expr.png\" style=\"display:inline;vertical-align:middle;\" /></a> : <a class=\"ProveItLink\" href=\"../../common/6111329435c43892c831c4793de96afbf80bdb3e0/expr.ipynb\"><img src=\"../../common/6111329435c43892c831c4793de96afbf80bdb3e0/expr.png\" style=\"display:inline;vertical-align:middle;\" /></a>, <a class=\"ProveItLink\" href=\"../../../../../../__pv_it/common/a9162d1c3cc0470c02e5daf414500903a7a419230/expr.ipynb\"><img src=\"../../../../../../__pv_it/common/a9162d1c3cc0470c02e5daf414500903a7a419230/expr.png\" style=\"display:inline;vertical-align:middle;\" /></a> : <a class=\"ProveItLink\" href=\"../../../../real_numbers/__pv_it/common/bce03b8bb2f8dc632941ebceb41ff458ace6f34c0/expr.ipynb\"><img src=\"../../../../real_numbers/__pv_it/common/bce03b8bb2f8dc632941ebceb41ff458ace6f34c0/expr.png\" style=\"display:inline;vertical-align:middle;\" /></a>, <a class=\"ProveItLink\" href=\"../../../../../../__pv_it/common/a0d9d672aa5e272d907247690c152cc2c6daafb70/expr.ipynb\"><img src=\"../../../../../../__pv_it/common/a0d9d672aa5e272d907247690c152cc2c6daafb70/expr.png\" style=\"display:inline;vertical-align:middle;\" /></a> : <a class=\"ProveItLink\" href=\"../../../../../numerals/__pv_it/common/2778428c7f555b2bdc06aa0530bc142c6e6335100/expr.ipynb\"><img src=\"../../../../../numerals/__pv_it/common/2778428c7f555b2bdc06aa0530bc142c6e6335100/expr.png\" style=\"display:inline;vertical-align:middle;\" /></a></span></td></tr><tr><td><a name=\"proveit.numbers.number_sets.natural_numbers._proof_non_zero_if_is_nat_pos.06587d3313ed04134d7ddeb8f595d2ddb15ee68f0_step3\">3</a></td><td>theorem</td><td></td><td><span style=\"font-size:20px;\"> <a class=\"ProveItLink\" href=\"../../../../../../logic/sets/inclusion/_theory_nbs_/proofs/unfold_subset_eq/thm_proof.ipynb\" style=\"text-decoration: none\">&nbsp;&#x22A2;&nbsp;&nbsp;</a><a class=\"ProveItLink\" href=\"../../../../../../logic/sets/inclusion/__pv_it/theorems/5858156414a270279730f76d36638b81164d2dfe0/expr.ipynb\"><img src=\"../../../../../../logic/sets/inclusion/__pv_it/theorems/5858156414a270279730f76d36638b81164d2dfe0/expr.png\" style=\"display:inline;vertical-align:middle;\" /></a></span></td></tr>\n",
       "<tr><td>&nbsp;</td><td colspan=4 style-\"text-align:left\"><a class=\"ProveItLink\" href=\"../../../../../../logic/sets/inclusion/_theory_nbs_/proofs/unfold_subset_eq/thm_proof.ipynb\">proveit.logic.sets.inclusion.unfold_subset_eq</a></td></tr><tr><td><a name=\"proveit.numbers.number_sets.natural_numbers._proof_non_zero_if_is_nat_pos.06587d3313ed04134d7ddeb8f595d2ddb15ee68f0_step4\">4</a></td><td>instantiation</td><td><a href=\"#proveit.numbers.number_sets.natural_numbers._proof_non_zero_if_is_nat_pos.06587d3313ed04134d7ddeb8f595d2ddb15ee68f0_step6\">6</a>, <a href=\"#proveit.numbers.number_sets.natural_numbers._proof_non_zero_if_is_nat_pos.06587d3313ed04134d7ddeb8f595d2ddb15ee68f0_step7\">7</a></td><td><span style=\"font-size:20px;\"> <a class=\"ProveItLink\" href=\"../508d13687e735eefde0d7df84b096177a5c285eb0/proof.ipynb\" style=\"text-decoration: none\">&nbsp;&#x22A2;&nbsp;&nbsp;</a><a class=\"ProveItLink\" href=\"../19c6aab5156fd9e64e1062d96e28e65a43c240030/expr.ipynb\"><img src=\"../19c6aab5156fd9e64e1062d96e28e65a43c240030/expr.png\" style=\"display:inline;vertical-align:middle;\" /></a></span></td></tr>\n",
       "<tr><td>&nbsp;</td><td colspan=4 style=\"text-align:left\"><span style=\"font-size:20px;\"><a class=\"ProveItLink\" href=\"../../../../../../__pv_it/common/09585084922504426caf1db2ff588a23a0932a960/expr.ipynb\"><img src=\"../../../../../../__pv_it/common/09585084922504426caf1db2ff588a23a0932a960/expr.png\" style=\"display:inline;vertical-align:middle;\" /></a> : <a class=\"ProveItLink\" href=\"../../common/6111329435c43892c831c4793de96afbf80bdb3e0/expr.ipynb\"><img src=\"../../common/6111329435c43892c831c4793de96afbf80bdb3e0/expr.png\" style=\"display:inline;vertical-align:middle;\" /></a>, <a class=\"ProveItLink\" href=\"../../../../../../__pv_it/common/a9162d1c3cc0470c02e5daf414500903a7a419230/expr.ipynb\"><img src=\"../../../../../../__pv_it/common/a9162d1c3cc0470c02e5daf414500903a7a419230/expr.png\" style=\"display:inline;vertical-align:middle;\" /></a> : <a class=\"ProveItLink\" href=\"../../../../real_numbers/__pv_it/common/bce03b8bb2f8dc632941ebceb41ff458ace6f34c0/expr.ipynb\"><img src=\"../../../../real_numbers/__pv_it/common/bce03b8bb2f8dc632941ebceb41ff458ace6f34c0/expr.png\" style=\"display:inline;vertical-align:middle;\" /></a></span></td></tr><tr><td><a name=\"proveit.numbers.number_sets.natural_numbers._proof_non_zero_if_is_nat_pos.06587d3313ed04134d7ddeb8f595d2ddb15ee68f0_step5\">5</a></td><td>theorem</td><td></td><td><span style=\"font-size:20px;\"> <a class=\"ProveItLink\" href=\"../../../../../numerals/decimals/_theory_nbs_/proofs/posnat1/thm_proof.ipynb\" style=\"text-decoration: none\">&nbsp;&#x22A2;&nbsp;&nbsp;</a><a class=\"ProveItLink\" href=\"../../../../../numerals/decimals/__pv_it/theorems/4ce84db42ddaafe6aeaa6020b0123eaf33a530f30/expr.ipynb\"><img src=\"../../../../../numerals/decimals/__pv_it/theorems/4ce84db42ddaafe6aeaa6020b0123eaf33a530f30/expr.png\" style=\"display:inline;vertical-align:middle;\" /></a></span></td></tr>\n",
       "<tr><td>&nbsp;</td><td colspan=4 style-\"text-align:left\"><a class=\"ProveItLink\" href=\"../../../../../numerals/decimals/_theory_nbs_/proofs/posnat1/thm_proof.ipynb\">proveit.numbers.numerals.decimals.posnat1</a></td></tr><tr><td><a name=\"proveit.numbers.number_sets.natural_numbers._proof_non_zero_if_is_nat_pos.06587d3313ed04134d7ddeb8f595d2ddb15ee68f0_step6\">6</a></td><td>theorem</td><td></td><td><span style=\"font-size:20px;\"> <a class=\"ProveItLink\" href=\"../../../../../../logic/sets/inclusion/_theory_nbs_/proofs/relax_proper_subset/thm_proof.ipynb\" style=\"text-decoration: none\">&nbsp;&#x22A2;&nbsp;&nbsp;</a><a class=\"ProveItLink\" href=\"../../../../../../logic/sets/inclusion/__pv_it/theorems/7ffc508d85358e43f8b36ad2fe2274af22b02ba80/expr.ipynb\"><img src=\"../../../../../../logic/sets/inclusion/__pv_it/theorems/7ffc508d85358e43f8b36ad2fe2274af22b02ba80/expr.png\" style=\"display:inline;vertical-align:middle;\" /></a></span></td></tr>\n",
       "<tr><td>&nbsp;</td><td colspan=4 style-\"text-align:left\"><a class=\"ProveItLink\" href=\"../../../../../../logic/sets/inclusion/_theory_nbs_/proofs/relax_proper_subset/thm_proof.ipynb\">proveit.logic.sets.inclusion.relax_proper_subset</a></td></tr><tr><td><a name=\"proveit.numbers.number_sets.natural_numbers._proof_non_zero_if_is_nat_pos.06587d3313ed04134d7ddeb8f595d2ddb15ee68f0_step7\">7</a></td><td>theorem</td><td></td><td><span style=\"font-size:20px;\"> <a class=\"ProveItLink\" href=\"../../../../real_numbers/_theory_nbs_/proofs/nat_pos_within_real_pos/thm_proof.ipynb\" style=\"text-decoration: none\">&nbsp;&#x22A2;&nbsp;&nbsp;</a><a class=\"ProveItLink\" href=\"../../../../real_numbers/__pv_it/theorems/e27949abef9f142016a141174c8130d6f0549d280/expr.ipynb\"><img src=\"../../../../real_numbers/__pv_it/theorems/e27949abef9f142016a141174c8130d6f0549d280/expr.png\" style=\"display:inline;vertical-align:middle;\" /></a></span></td></tr>\n",
       "<tr><td>&nbsp;</td><td colspan=4 style-\"text-align:left\"><a class=\"ProveItLink\" href=\"../../../../real_numbers/_theory_nbs_/proofs/nat_pos_within_real_pos/thm_proof.ipynb\">proveit.numbers.number_sets.real_numbers.nat_pos_within_real_pos</a></td></tr></table>"
      ],
      "text/plain": [
       "<proveit._core_.proof._ShowProof at 0x7fb7548539e8>"
      ]
     },
     "execution_count": 1,
     "metadata": {},
     "output_type": "execute_result"
    }
   ],
   "source": [
    "import proveit\n",
    "# Automation is not needed when only showing a stored proof:\n",
    "proveit.defaults.automation = False # This will speed things up.\n",
    "proveit.defaults.inline_pngs = False # Makes files smaller.\n",
    "%show_proof"
   ]
  },
  {
   "cell_type": "code",
   "execution_count": null,
   "metadata": {},
   "outputs": [],
   "source": []
  }
 ],
 "metadata": {
  "kernelspec": {
   "display_name": "Python 3",
   "language": "python",
   "name": "python3"
  }
 },
 "nbformat": 4,
 "nbformat_minor": 0
}