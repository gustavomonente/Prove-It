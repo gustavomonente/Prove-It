{
 "cells": [
  {
   "cell_type": "markdown",
   "metadata": {},
   "source": [
    "Show the Proof\n",
    "========"
   ]
  },
  {
   "cell_type": "code",
   "execution_count": 1,
   "metadata": {},
   "outputs": [
    {
     "data": {
      "text/html": [
       "<table><tr><th>&nbsp;</th><th>step type</th><th>requirements</th><th>statement</th></tr>\n",
       "<tr><td><a name=\"proveit.numbers.number_sets.natural_numbers._proof_non_zero_if_is_nat_pos.cffe1111f1ea9e484df7c9efecd045169e1608e80_step0\">0</a></td><td>instantiation</td><td><a href=\"#proveit.numbers.number_sets.natural_numbers._proof_non_zero_if_is_nat_pos.cffe1111f1ea9e484df7c9efecd045169e1608e80_step1\">1</a>, <a href=\"#proveit.numbers.number_sets.natural_numbers._proof_non_zero_if_is_nat_pos.cffe1111f1ea9e484df7c9efecd045169e1608e80_step2\">2</a></td><td><span style=\"font-size:20px;\"> <a class=\"ProveItLink\" href=\"proof.ipynb\" style=\"text-decoration: none\">&nbsp;&#x22A2;&nbsp;&nbsp;</a><a class=\"ProveItLink\" href=\"../../../../../numerals/decimals/__pv_it/theorems/c05179dccd1b009fd92d5a4b3a3fa0faf598e9580/expr.ipynb\"><img src=\"../../../../../numerals/decimals/__pv_it/theorems/c05179dccd1b009fd92d5a4b3a3fa0faf598e9580/expr.png\" style=\"display:inline;vertical-align:middle;\" /></a></span></td></tr>\n",
       "<tr><td>&nbsp;</td><td colspan=4 style=\"text-align:left\"><span style=\"font-size:20px;\"><a class=\"ProveItLink\" href=\"../../../../../../__pv_it/common/66c90e66682f107a881f2d666959f64e2e72ad750/expr.ipynb\"><img src=\"../../../../../../__pv_it/common/66c90e66682f107a881f2d666959f64e2e72ad750/expr.png\" style=\"display:inline;vertical-align:middle;\" /></a> : <a class=\"ProveItLink\" href=\"../../../../../numerals/__pv_it/common/d278e359da0695d9652dd541d45264f93703e2e40/expr.ipynb\"><img src=\"../../../../../numerals/__pv_it/common/d278e359da0695d9652dd541d45264f93703e2e40/expr.png\" style=\"display:inline;vertical-align:middle;\" /></a></span></td></tr><tr><td><a name=\"proveit.numbers.number_sets.natural_numbers._proof_non_zero_if_is_nat_pos.cffe1111f1ea9e484df7c9efecd045169e1608e80_step1\">1</a></td><td>theorem</td><td></td><td><span style=\"font-size:20px;\"> <a class=\"ProveItLink\" href=\"../../../../../ordering/_theory_nbs_/proofs/positive_if_real_pos/thm_proof.ipynb\" style=\"text-decoration: none\">&nbsp;&#x22A2;&nbsp;&nbsp;</a><a class=\"ProveItLink\" href=\"../../../../../ordering/__pv_it/theorems/0b7dfe14c2a9a8793a25a98bd2cdb19adfd942130/expr.ipynb\"><img src=\"../../../../../ordering/__pv_it/theorems/0b7dfe14c2a9a8793a25a98bd2cdb19adfd942130/expr.png\" style=\"display:inline;vertical-align:middle;\" /></a></span></td></tr>\n",
       "<tr><td>&nbsp;</td><td colspan=4 style-\"text-align:left\"><a class=\"ProveItLink\" href=\"../../../../../ordering/_theory_nbs_/proofs/positive_if_real_pos/thm_proof.ipynb\">proveit.numbers.ordering.positive_if_real_pos</a></td></tr><tr><td><a name=\"proveit.numbers.number_sets.natural_numbers._proof_non_zero_if_is_nat_pos.cffe1111f1ea9e484df7c9efecd045169e1608e80_step2\">2</a></td><td>instantiation</td><td><a href=\"#proveit.numbers.number_sets.natural_numbers._proof_non_zero_if_is_nat_pos.cffe1111f1ea9e484df7c9efecd045169e1608e80_step3\">3</a>, <a href=\"#proveit.numbers.number_sets.natural_numbers._proof_non_zero_if_is_nat_pos.cffe1111f1ea9e484df7c9efecd045169e1608e80_step4\">4</a>, <a href=\"#proveit.numbers.number_sets.natural_numbers._proof_non_zero_if_is_nat_pos.cffe1111f1ea9e484df7c9efecd045169e1608e80_step5\">5</a></td><td><span style=\"font-size:20px;\"> <a class=\"ProveItLink\" href=\"../5c515ef178cba118ecfbcd3728a5aa73e12657b10/proof.ipynb\" style=\"text-decoration: none\">&nbsp;&#x22A2;&nbsp;&nbsp;</a><a class=\"ProveItLink\" href=\"../a497c1bc9712ae3de1fd6f716d4ef1eaaa1011900/expr.ipynb\"><img src=\"../a497c1bc9712ae3de1fd6f716d4ef1eaaa1011900/expr.png\" style=\"display:inline;vertical-align:middle;\" /></a></span></td></tr>\n",
       "<tr><td>&nbsp;</td><td colspan=4 style=\"text-align:left\"><span style=\"font-size:20px;\"><a class=\"ProveItLink\" href=\"../../../../../../__pv_it/common/e4aad701f7f5516d8e7f0d805d518bf02c13322a0/expr.ipynb\"><img src=\"../../../../../../__pv_it/common/e4aad701f7f5516d8e7f0d805d518bf02c13322a0/expr.png\" style=\"display:inline;vertical-align:middle;\" /></a> : <a class=\"ProveItLink\" href=\"../../common/a2a7252783c385c028dad802e97575c19e456b990/expr.ipynb\"><img src=\"../../common/a2a7252783c385c028dad802e97575c19e456b990/expr.png\" style=\"display:inline;vertical-align:middle;\" /></a>, <a class=\"ProveItLink\" href=\"../../../../../../__pv_it/common/4eca3b30dcf58a58494e201d1b7886d8643a617b0/expr.ipynb\"><img src=\"../../../../../../__pv_it/common/4eca3b30dcf58a58494e201d1b7886d8643a617b0/expr.png\" style=\"display:inline;vertical-align:middle;\" /></a> : <a class=\"ProveItLink\" href=\"../../../../real_numbers/__pv_it/common/8c67355f38838cbd6b40f3876e11d664940344be0/expr.ipynb\"><img src=\"../../../../real_numbers/__pv_it/common/8c67355f38838cbd6b40f3876e11d664940344be0/expr.png\" style=\"display:inline;vertical-align:middle;\" /></a>, <a class=\"ProveItLink\" href=\"../../../../../../__pv_it/common/a2581dc5df71d9a30bad37de14965fa5fec97a240/expr.ipynb\"><img src=\"../../../../../../__pv_it/common/a2581dc5df71d9a30bad37de14965fa5fec97a240/expr.png\" style=\"display:inline;vertical-align:middle;\" /></a> : <a class=\"ProveItLink\" href=\"../../../../../numerals/__pv_it/common/d278e359da0695d9652dd541d45264f93703e2e40/expr.ipynb\"><img src=\"../../../../../numerals/__pv_it/common/d278e359da0695d9652dd541d45264f93703e2e40/expr.png\" style=\"display:inline;vertical-align:middle;\" /></a></span></td></tr><tr><td><a name=\"proveit.numbers.number_sets.natural_numbers._proof_non_zero_if_is_nat_pos.cffe1111f1ea9e484df7c9efecd045169e1608e80_step3\">3</a></td><td>theorem</td><td></td><td><span style=\"font-size:20px;\"> <a class=\"ProveItLink\" href=\"../../../../../../logic/sets/inclusion/_theory_nbs_/proofs/unfold_subset_eq/thm_proof.ipynb\" style=\"text-decoration: none\">&nbsp;&#x22A2;&nbsp;&nbsp;</a><a class=\"ProveItLink\" href=\"../../../../../../logic/sets/inclusion/__pv_it/theorems/0460b4d524fce3cf0601ed706f203efe4d72eccf0/expr.ipynb\"><img src=\"../../../../../../logic/sets/inclusion/__pv_it/theorems/0460b4d524fce3cf0601ed706f203efe4d72eccf0/expr.png\" style=\"display:inline;vertical-align:middle;\" /></a></span></td></tr>\n",
       "<tr><td>&nbsp;</td><td colspan=4 style-\"text-align:left\"><a class=\"ProveItLink\" href=\"../../../../../../logic/sets/inclusion/_theory_nbs_/proofs/unfold_subset_eq/thm_proof.ipynb\">proveit.logic.sets.inclusion.unfold_subset_eq</a></td></tr><tr><td><a name=\"proveit.numbers.number_sets.natural_numbers._proof_non_zero_if_is_nat_pos.cffe1111f1ea9e484df7c9efecd045169e1608e80_step4\">4</a></td><td>instantiation</td><td><a href=\"#proveit.numbers.number_sets.natural_numbers._proof_non_zero_if_is_nat_pos.cffe1111f1ea9e484df7c9efecd045169e1608e80_step6\">6</a>, <a href=\"#proveit.numbers.number_sets.natural_numbers._proof_non_zero_if_is_nat_pos.cffe1111f1ea9e484df7c9efecd045169e1608e80_step7\">7</a></td><td><span style=\"font-size:20px;\"> <a class=\"ProveItLink\" href=\"../04b978f839954380086e27379c9092d142197d180/proof.ipynb\" style=\"text-decoration: none\">&nbsp;&#x22A2;&nbsp;&nbsp;</a><a class=\"ProveItLink\" href=\"../e6385cf5b48908c6bf5c26eae192e799a05930fb0/expr.ipynb\"><img src=\"../e6385cf5b48908c6bf5c26eae192e799a05930fb0/expr.png\" style=\"display:inline;vertical-align:middle;\" /></a></span></td></tr>\n",
       "<tr><td>&nbsp;</td><td colspan=4 style=\"text-align:left\"><span style=\"font-size:20px;\"><a class=\"ProveItLink\" href=\"../../../../../../__pv_it/common/e4aad701f7f5516d8e7f0d805d518bf02c13322a0/expr.ipynb\"><img src=\"../../../../../../__pv_it/common/e4aad701f7f5516d8e7f0d805d518bf02c13322a0/expr.png\" style=\"display:inline;vertical-align:middle;\" /></a> : <a class=\"ProveItLink\" href=\"../../common/a2a7252783c385c028dad802e97575c19e456b990/expr.ipynb\"><img src=\"../../common/a2a7252783c385c028dad802e97575c19e456b990/expr.png\" style=\"display:inline;vertical-align:middle;\" /></a>, <a class=\"ProveItLink\" href=\"../../../../../../__pv_it/common/4eca3b30dcf58a58494e201d1b7886d8643a617b0/expr.ipynb\"><img src=\"../../../../../../__pv_it/common/4eca3b30dcf58a58494e201d1b7886d8643a617b0/expr.png\" style=\"display:inline;vertical-align:middle;\" /></a> : <a class=\"ProveItLink\" href=\"../../../../real_numbers/__pv_it/common/8c67355f38838cbd6b40f3876e11d664940344be0/expr.ipynb\"><img src=\"../../../../real_numbers/__pv_it/common/8c67355f38838cbd6b40f3876e11d664940344be0/expr.png\" style=\"display:inline;vertical-align:middle;\" /></a></span></td></tr><tr><td><a name=\"proveit.numbers.number_sets.natural_numbers._proof_non_zero_if_is_nat_pos.cffe1111f1ea9e484df7c9efecd045169e1608e80_step5\">5</a></td><td>theorem</td><td></td><td><span style=\"font-size:20px;\"> <a class=\"ProveItLink\" href=\"../../../../../numerals/decimals/_theory_nbs_/proofs/posnat1/thm_proof.ipynb\" style=\"text-decoration: none\">&nbsp;&#x22A2;&nbsp;&nbsp;</a><a class=\"ProveItLink\" href=\"../../../../../numerals/decimals/__pv_it/theorems/78016e7469ff1ca869942946f8d858f8e2d29de10/expr.ipynb\"><img src=\"../../../../../numerals/decimals/__pv_it/theorems/78016e7469ff1ca869942946f8d858f8e2d29de10/expr.png\" style=\"display:inline;vertical-align:middle;\" /></a></span></td></tr>\n",
       "<tr><td>&nbsp;</td><td colspan=4 style-\"text-align:left\"><a class=\"ProveItLink\" href=\"../../../../../numerals/decimals/_theory_nbs_/proofs/posnat1/thm_proof.ipynb\">proveit.numbers.numerals.decimals.posnat1</a></td></tr><tr><td><a name=\"proveit.numbers.number_sets.natural_numbers._proof_non_zero_if_is_nat_pos.cffe1111f1ea9e484df7c9efecd045169e1608e80_step6\">6</a></td><td>theorem</td><td></td><td><span style=\"font-size:20px;\"> <a class=\"ProveItLink\" href=\"../../../../../../logic/sets/inclusion/_theory_nbs_/proofs/relax_proper_subset/thm_proof.ipynb\" style=\"text-decoration: none\">&nbsp;&#x22A2;&nbsp;&nbsp;</a><a class=\"ProveItLink\" href=\"../../../../../../logic/sets/inclusion/__pv_it/theorems/e2806dea65f2131438692eca4e7c580b453b6a000/expr.ipynb\"><img src=\"../../../../../../logic/sets/inclusion/__pv_it/theorems/e2806dea65f2131438692eca4e7c580b453b6a000/expr.png\" style=\"display:inline;vertical-align:middle;\" /></a></span></td></tr>\n",
       "<tr><td>&nbsp;</td><td colspan=4 style-\"text-align:left\"><a class=\"ProveItLink\" href=\"../../../../../../logic/sets/inclusion/_theory_nbs_/proofs/relax_proper_subset/thm_proof.ipynb\">proveit.logic.sets.inclusion.relax_proper_subset</a></td></tr><tr><td><a name=\"proveit.numbers.number_sets.natural_numbers._proof_non_zero_if_is_nat_pos.cffe1111f1ea9e484df7c9efecd045169e1608e80_step7\">7</a></td><td>theorem</td><td></td><td><span style=\"font-size:20px;\"> <a class=\"ProveItLink\" href=\"../../../../real_numbers/_theory_nbs_/proofs/nat_pos_within_real_pos/thm_proof.ipynb\" style=\"text-decoration: none\">&nbsp;&#x22A2;&nbsp;&nbsp;</a><a class=\"ProveItLink\" href=\"../../../../real_numbers/__pv_it/theorems/77dfb1aba260e7db4c014d254feb15519844c04e0/expr.ipynb\"><img src=\"../../../../real_numbers/__pv_it/theorems/77dfb1aba260e7db4c014d254feb15519844c04e0/expr.png\" style=\"display:inline;vertical-align:middle;\" /></a></span></td></tr>\n",
       "<tr><td>&nbsp;</td><td colspan=4 style-\"text-align:left\"><a class=\"ProveItLink\" href=\"../../../../real_numbers/_theory_nbs_/proofs/nat_pos_within_real_pos/thm_proof.ipynb\">proveit.numbers.number_sets.real_numbers.nat_pos_within_real_pos</a></td></tr></table>"
      ],
      "text/plain": [
       "<proveit._core_.proof._ShowProof at 0x7f5c81e73d68>"
      ]
     },
     "execution_count": 1,
     "metadata": {},
     "output_type": "execute_result"
    }
   ],
   "source": [
    "import proveit\n",
    "# Automation is not needed when only showing a stored proof:\n",
    "proveit.defaults.automation = False # This will speed things up.\n",
    "proveit.defaults.inline_pngs = False # Makes files smaller.\n",
    "%show_proof"
   ]
  },
  {
   "cell_type": "code",
   "execution_count": null,
   "metadata": {},
   "outputs": [],
   "source": []
  }
 ],
 "metadata": {
  "kernelspec": {
   "display_name": "Python 3",
   "language": "python",
   "name": "python3"
  },
  "language_info": {
   "codemirror_mode": {
    "name": "ipython",
    "version": 3
   },
   "file_extension": ".py",
   "mimetype": "text/x-python",
   "name": "python",
   "nbconvert_exporter": "python",
   "pygments_lexer": "ipython3",
   "version": "3.7.3"
  }
 },
 "nbformat": 4,
 "nbformat_minor": 1
}