{
 "cells": [
  {
   "cell_type": "markdown",
   "metadata": {},
   "source": [
    "Expression of type <a class=\"ProveItLink\" href=\"../../../../../../../../doc/html/api/proveit.ExprTuple.html\">ExprTuple</a>\n",
    "=======================\n",
    "# from the theory of <a class=\"ProveItLink\" href=\"../../../_theory_nbs_/theory.ipynb\">proveit.numbers.number_sets.natural_numbers</a>"
   ]
  },
  {
   "cell_type": "code",
   "execution_count": 1,
   "metadata": {},
   "outputs": [],
   "source": [
    "import proveit\n",
    "# Automation is not needed when building an expression:\n",
    "proveit.defaults.automation = False # This will speed things up.\n",
    "proveit.defaults.inline_pngs = False # Makes files smaller.\n",
    "%load_expr # Load the stored expression as 'stored_expr'\n",
    "# import Expression classes needed to build the expression\n",
    "from proveit import ExprTuple, m, n\n",
    "from proveit.logic import And, Forall\n",
    "from proveit.numbers import NaturalPos, P_mAddOne, Pm, Pn, Pone"
   ]
  },
  {
   "cell_type": "code",
   "execution_count": 2,
   "metadata": {},
   "outputs": [
    {
     "data": {
      "text/html": [
       "<strong id=\"expr\">expr:</strong> <a class=\"ProveItLink\" href=\"expr.ipynb\"><img src=\"expr.png\" style=\"display:inline;vertical-align:middle;\" /></a><br>"
      ],
      "text/plain": [
       "expr: (P(1) and [forall_{m in NaturalPos | P(m)} P(m + 1)], forall_{n in NaturalPos} P(n))"
      ]
     },
     "execution_count": 2,
     "metadata": {},
     "output_type": "execute_result"
    }
   ],
   "source": [
    "# build up the expression from sub-expressions\n",
    "sub_expr1 = [NaturalPos]\n",
    "expr = ExprTuple(And(Pone, Forall([m], P_mAddOne, domains = sub_expr1, condition = Pm)), Forall([n], Pn, domains = sub_expr1))"
   ]
  },
  {
   "cell_type": "code",
   "execution_count": 3,
   "metadata": {},
   "outputs": [
    {
     "name": "stdout",
     "output_type": "stream",
     "text": [
      "Passed sanity check: expr matches stored_expr\n"
     ]
    }
   ],
   "source": [
    "# check that the built expression is the same as the stored expression\n",
    "assert expr == stored_expr\n",
    "assert expr._style_id == stored_expr._style_id\n",
    "print(\"Passed sanity check: expr matches stored_expr\")"
   ]
  },
  {
   "cell_type": "code",
   "execution_count": 4,
   "metadata": {},
   "outputs": [
    {
     "name": "stdout",
     "output_type": "stream",
     "text": [
      "\\left(P(1) \\land \\left[\\forall_{m \\in \\mathbb{N}^+~|~P(m)}~P(m + 1)\\right], \\forall_{n \\in \\mathbb{N}^+}~P(n)\\right)\n"
     ]
    }
   ],
   "source": [
    "# Show the LaTeX representation of the expression for convenience if you need it.\n",
    "print(expr.latex())"
   ]
  },
  {
   "cell_type": "code",
   "execution_count": 5,
   "metadata": {},
   "outputs": [
    {
     "data": {
      "text/html": [
       "<table>\n",
       "<tr><th>name</th><th>description</th><th>default</th><th>current value</th><th>related methods</th></tr><tr><td>wrap_positions</td><td>position(s) at which wrapping is to occur; 'n' is after the nth comma.</td><td>()</td><td>()</td><td>('with_wrapping_at',)</td></tr>\n",
       "<tr><td>justification</td><td>if any wrap positions are set, justify to the 'left', 'center', or 'right'</td><td>left</td><td>left</td><td>('with_justification',)</td></tr>\n",
       "</table>\n"
      ],
      "text/plain": [
       "style name: wrap_positions\n",
       "description: position(s) at which wrapping is to occur; 'n' is after the nth comma.\n",
       "default: ()\n",
       "current value: ()\n",
       "related methods: ('with_wrapping_at',)\n",
       "style name: justification\n",
       "description: if any wrap positions are set, justify to the 'left', 'center', or 'right'\n",
       "default: left\n",
       "current value: left\n",
       "related methods: ('with_justification',)"
      ]
     },
     "execution_count": 5,
     "metadata": {},
     "output_type": "execute_result"
    }
   ],
   "source": [
    "expr.style_options()"
   ]
  },
  {
   "cell_type": "code",
   "execution_count": 6,
   "metadata": {},
   "outputs": [
    {
     "data": {
      "text/html": [
       "<table><tr><th>&nbsp;</th><th>core type</th><th>sub-expressions</th><th>expression</th></tr>\n",
       "<tr><td>0</td><td>ExprTuple</td><td>1, 2</td><td><a class=\"ProveItLink\" href=\"expr.ipynb\"><img src=\"expr.png\" style=\"display:inline;vertical-align:middle;\" /></a></td></tr>\n",
       "<tr><td>1</td><td>Operation</td><td>operator:&nbsp;22<br>operands:&nbsp;3<br></td><td><a class=\"ProveItLink\" href=\"../84d66bbd093fe553cef46c324509126c03d755610/expr.ipynb\"><img src=\"../84d66bbd093fe553cef46c324509126c03d755610/expr.png\" style=\"display:inline;vertical-align:middle;\" /></a></td></tr>\n",
       "<tr><td>2</td><td>Operation</td><td>operator:&nbsp;9<br>operand:&nbsp;7<br></td><td><a class=\"ProveItLink\" href=\"../fbf88c2d4614eb25a831076a77b8399b66996c510/expr.ipynb\"><img src=\"../fbf88c2d4614eb25a831076a77b8399b66996c510/expr.png\" style=\"display:inline;vertical-align:middle;\" /></a></td></tr>\n",
       "<tr><td>3</td><td>ExprTuple</td><td>5, 6</td><td><a class=\"ProveItLink\" href=\"../ca48763375785b99be9a221d25db8fa3fd3584b60/expr.ipynb\"><img src=\"../ca48763375785b99be9a221d25db8fa3fd3584b60/expr.png\" style=\"display:inline;vertical-align:middle;\" /></a></td></tr>\n",
       "<tr><td>4</td><td>ExprTuple</td><td>7</td><td><a class=\"ProveItLink\" href=\"../796a0def539f37d3bdbef78e4225587ac4aeafd80/expr.ipynb\"><img src=\"../796a0def539f37d3bdbef78e4225587ac4aeafd80/expr.png\" style=\"display:inline;vertical-align:middle;\" /></a></td></tr>\n",
       "<tr><td>5</td><td>Operation</td><td>operator:&nbsp;31<br>operand:&nbsp;33<br></td><td><a class=\"ProveItLink\" href=\"../../../../../__pv_it/common/57e004abeb0d668c9c9f6c46aad51902484fb0770/expr.ipynb\"><img src=\"../../../../../__pv_it/common/57e004abeb0d668c9c9f6c46aad51902484fb0770/expr.png\" style=\"display:inline;vertical-align:middle;\" /></a></td></tr>\n",
       "<tr><td>6</td><td>Operation</td><td>operator:&nbsp;9<br>operand:&nbsp;12<br></td><td><a class=\"ProveItLink\" href=\"../0bf6a4f9f11ec44f4ad64671ab6bf007548bf2560/expr.ipynb\"><img src=\"../0bf6a4f9f11ec44f4ad64671ab6bf007548bf2560/expr.png\" style=\"display:inline;vertical-align:middle;\" /></a></td></tr>\n",
       "<tr><td>7</td><td>Lambda</td><td>parameter:&nbsp;20<br>body:&nbsp;11<br></td><td><a class=\"ProveItLink\" href=\"../dfd3e88d2e915c801f88a99e54801aac7edc13ab0/expr.ipynb\"><img src=\"../dfd3e88d2e915c801f88a99e54801aac7edc13ab0/expr.png\" style=\"display:inline;vertical-align:middle;\" /></a></td></tr>\n",
       "<tr><td>8</td><td>ExprTuple</td><td>33</td><td><a class=\"ProveItLink\" href=\"../../../../../__pv_it/common/983fb1abdb7789966ec8b7afe0d4f7ca8578c9e50/expr.ipynb\"><img src=\"../../../../../__pv_it/common/983fb1abdb7789966ec8b7afe0d4f7ca8578c9e50/expr.png\" style=\"display:inline;vertical-align:middle;\" /></a></td></tr>\n",
       "<tr><td>9</td><td>Literal</td><td></td><td><a class=\"ProveItLink\" href=\"../../../../../../logic/booleans/quantification/universality/__pv_it/common/684d35ba98fcbf8ca5011f865e530a51e77730630/expr.ipynb\"><img src=\"../../../../../../logic/booleans/quantification/universality/__pv_it/common/684d35ba98fcbf8ca5011f865e530a51e77730630/expr.png\" style=\"display:inline;vertical-align:middle;\" /></a></td></tr>\n",
       "<tr><td>10</td><td>ExprTuple</td><td>12</td><td><a class=\"ProveItLink\" href=\"../18511fc42c66536f41f1d892162fa34d3ee3ae8d0/expr.ipynb\"><img src=\"../18511fc42c66536f41f1d892162fa34d3ee3ae8d0/expr.png\" style=\"display:inline;vertical-align:middle;\" /></a></td></tr>\n",
       "<tr><td>11</td><td>Conditional</td><td>value:&nbsp;13<br>condition:&nbsp;14<br></td><td><a class=\"ProveItLink\" href=\"../fee49a26921f91728bda1304ba4718c3540e90510/expr.ipynb\"><img src=\"../fee49a26921f91728bda1304ba4718c3540e90510/expr.png\" style=\"display:inline;vertical-align:middle;\" /></a></td></tr>\n",
       "<tr><td>12</td><td>Lambda</td><td>parameter:&nbsp;35<br>body:&nbsp;15<br></td><td><a class=\"ProveItLink\" href=\"../8d17717e37ed8ee5e53b08b9879f6c1e999840600/expr.ipynb\"><img src=\"../8d17717e37ed8ee5e53b08b9879f6c1e999840600/expr.png\" style=\"display:inline;vertical-align:middle;\" /></a></td></tr>\n",
       "<tr><td>13</td><td>Operation</td><td>operator:&nbsp;31<br>operand:&nbsp;20<br></td><td><a class=\"ProveItLink\" href=\"../../../../../__pv_it/common/c8349ff5652b3a1e03fbc4f977f78c97b464bf690/expr.ipynb\"><img src=\"../../../../../__pv_it/common/c8349ff5652b3a1e03fbc4f977f78c97b464bf690/expr.png\" style=\"display:inline;vertical-align:middle;\" /></a></td></tr>\n",
       "<tr><td>14</td><td>Operation</td><td>operator:&nbsp;29<br>operands:&nbsp;17<br></td><td><a class=\"ProveItLink\" href=\"../c137fc4bdb69d9d8200a128e712a550420acc4790/expr.ipynb\"><img src=\"../c137fc4bdb69d9d8200a128e712a550420acc4790/expr.png\" style=\"display:inline;vertical-align:middle;\" /></a></td></tr>\n",
       "<tr><td>15</td><td>Conditional</td><td>value:&nbsp;18<br>condition:&nbsp;19<br></td><td><a class=\"ProveItLink\" href=\"../29b6fdb6ec0a8a3afd64fa28695e51ce7e1306750/expr.ipynb\"><img src=\"../29b6fdb6ec0a8a3afd64fa28695e51ce7e1306750/expr.png\" style=\"display:inline;vertical-align:middle;\" /></a></td></tr>\n",
       "<tr><td>16</td><td>ExprTuple</td><td>20</td><td><a class=\"ProveItLink\" href=\"../../../../../__pv_it/common/09c649a9f13f3b1b24d8ce3f1e924251eedcc0820/expr.ipynb\"><img src=\"../../../../../__pv_it/common/09c649a9f13f3b1b24d8ce3f1e924251eedcc0820/expr.png\" style=\"display:inline;vertical-align:middle;\" /></a></td></tr>\n",
       "<tr><td>17</td><td>ExprTuple</td><td>20, 34</td><td><a class=\"ProveItLink\" href=\"../7228b855ca92cba683b50e93e2a2e59565fe73200/expr.ipynb\"><img src=\"../7228b855ca92cba683b50e93e2a2e59565fe73200/expr.png\" style=\"display:inline;vertical-align:middle;\" /></a></td></tr>\n",
       "<tr><td>18</td><td>Operation</td><td>operator:&nbsp;31<br>operand:&nbsp;24<br></td><td><a class=\"ProveItLink\" href=\"../../../../../__pv_it/common/ad0ee4b2a817ee1cb0622430751bd3a6a29aa70e0/expr.ipynb\"><img src=\"../../../../../__pv_it/common/ad0ee4b2a817ee1cb0622430751bd3a6a29aa70e0/expr.png\" style=\"display:inline;vertical-align:middle;\" /></a></td></tr>\n",
       "<tr><td>19</td><td>Operation</td><td>operator:&nbsp;22<br>operands:&nbsp;23<br></td><td><a class=\"ProveItLink\" href=\"../e5ae2f5b8d44f54e12a00b9f815a6ab321ea17d70/expr.ipynb\"><img src=\"../e5ae2f5b8d44f54e12a00b9f815a6ab321ea17d70/expr.png\" style=\"display:inline;vertical-align:middle;\" /></a></td></tr>\n",
       "<tr><td>20</td><td>Variable</td><td></td><td><a class=\"ProveItLink\" href=\"../../../../../../__pv_it/common/6165c9bb82ce3c7097cdba4440a1aeeb6eaca8a40/expr.ipynb\"><img src=\"../../../../../../__pv_it/common/6165c9bb82ce3c7097cdba4440a1aeeb6eaca8a40/expr.png\" style=\"display:inline;vertical-align:middle;\" /></a></td></tr>\n",
       "<tr><td>21</td><td>ExprTuple</td><td>24</td><td><a class=\"ProveItLink\" href=\"../../../../../__pv_it/common/453059dd5ffbe49150930401a4d14800bfeb9b880/expr.ipynb\"><img src=\"../../../../../__pv_it/common/453059dd5ffbe49150930401a4d14800bfeb9b880/expr.png\" style=\"display:inline;vertical-align:middle;\" /></a></td></tr>\n",
       "<tr><td>22</td><td>Literal</td><td></td><td><a class=\"ProveItLink\" href=\"../../../../../../logic/booleans/conjunction/__pv_it/common/26b94b53e70b1d77b70f0d9d4236347db37731060/expr.ipynb\"><img src=\"../../../../../../logic/booleans/conjunction/__pv_it/common/26b94b53e70b1d77b70f0d9d4236347db37731060/expr.png\" style=\"display:inline;vertical-align:middle;\" /></a></td></tr>\n",
       "<tr><td>23</td><td>ExprTuple</td><td>25, 26</td><td><a class=\"ProveItLink\" href=\"../bdc7aac9d1ecab70b72122d42d48732ee3bc4a9c0/expr.ipynb\"><img src=\"../bdc7aac9d1ecab70b72122d42d48732ee3bc4a9c0/expr.png\" style=\"display:inline;vertical-align:middle;\" /></a></td></tr>\n",
       "<tr><td>24</td><td>Operation</td><td>operator:&nbsp;27<br>operands:&nbsp;28<br></td><td><a class=\"ProveItLink\" href=\"../../../../../__pv_it/common/efd1d07d2fb8417de5db55be233e5799d8cec0b20/expr.ipynb\"><img src=\"../../../../../__pv_it/common/efd1d07d2fb8417de5db55be233e5799d8cec0b20/expr.png\" style=\"display:inline;vertical-align:middle;\" /></a></td></tr>\n",
       "<tr><td>25</td><td>Operation</td><td>operator:&nbsp;29<br>operands:&nbsp;30<br></td><td><a class=\"ProveItLink\" href=\"../3b21f44c33a0a353db2d1dd5dc2aa7f39934f4730/expr.ipynb\"><img src=\"../3b21f44c33a0a353db2d1dd5dc2aa7f39934f4730/expr.png\" style=\"display:inline;vertical-align:middle;\" /></a></td></tr>\n",
       "<tr><td>26</td><td>Operation</td><td>operator:&nbsp;31<br>operand:&nbsp;35<br></td><td><a class=\"ProveItLink\" href=\"../../../../../__pv_it/common/bef104b5f73bf1bc3980ef616590a3141b5cad670/expr.ipynb\"><img src=\"../../../../../__pv_it/common/bef104b5f73bf1bc3980ef616590a3141b5cad670/expr.png\" style=\"display:inline;vertical-align:middle;\" /></a></td></tr>\n",
       "<tr><td>27</td><td>Literal</td><td></td><td><a class=\"ProveItLink\" href=\"../../../../../addition/__pv_it/common/1f38fe5cce441387feef296e2c0a2eac260bb4f30/expr.ipynb\"><img src=\"../../../../../addition/__pv_it/common/1f38fe5cce441387feef296e2c0a2eac260bb4f30/expr.png\" style=\"display:inline;vertical-align:middle;\" /></a></td></tr>\n",
       "<tr><td>28</td><td>ExprTuple</td><td>35, 33</td><td><a class=\"ProveItLink\" href=\"../../../../../__pv_it/common/03a40d63027ce00fe578e986fa3bc5aefc3f8df10/expr.ipynb\"><img src=\"../../../../../__pv_it/common/03a40d63027ce00fe578e986fa3bc5aefc3f8df10/expr.png\" style=\"display:inline;vertical-align:middle;\" /></a></td></tr>\n",
       "<tr><td>29</td><td>Literal</td><td></td><td><a class=\"ProveItLink\" href=\"../../../../../../logic/sets/membership/__pv_it/common/7171deca84f71f47a6ec7696972d1632274a12880/expr.ipynb\"><img src=\"../../../../../../logic/sets/membership/__pv_it/common/7171deca84f71f47a6ec7696972d1632274a12880/expr.png\" style=\"display:inline;vertical-align:middle;\" /></a></td></tr>\n",
       "<tr><td>30</td><td>ExprTuple</td><td>35, 34</td><td><a class=\"ProveItLink\" href=\"../2ef0539d68697845682d6e019421ae2d6c28df770/expr.ipynb\"><img src=\"../2ef0539d68697845682d6e019421ae2d6c28df770/expr.png\" style=\"display:inline;vertical-align:middle;\" /></a></td></tr>\n",
       "<tr><td>31</td><td>Variable</td><td></td><td><a class=\"ProveItLink\" href=\"../../../../../../__pv_it/common/d5fc3066299847984076662ce51556220bdb6cfb0/expr.ipynb\"><img src=\"../../../../../../__pv_it/common/d5fc3066299847984076662ce51556220bdb6cfb0/expr.png\" style=\"display:inline;vertical-align:middle;\" /></a></td></tr>\n",
       "<tr><td>32</td><td>ExprTuple</td><td>35</td><td><a class=\"ProveItLink\" href=\"../../../../../__pv_it/common/171614936930805ced9a565da5da156e114e39210/expr.ipynb\"><img src=\"../../../../../__pv_it/common/171614936930805ced9a565da5da156e114e39210/expr.png\" style=\"display:inline;vertical-align:middle;\" /></a></td></tr>\n",
       "<tr><td>33</td><td>Literal</td><td></td><td><a class=\"ProveItLink\" href=\"../../../../../numerals/__pv_it/common/d278e359da0695d9652dd541d45264f93703e2e40/expr.ipynb\"><img src=\"../../../../../numerals/__pv_it/common/d278e359da0695d9652dd541d45264f93703e2e40/expr.png\" style=\"display:inline;vertical-align:middle;\" /></a></td></tr>\n",
       "<tr><td>34</td><td>Literal</td><td></td><td><a class=\"ProveItLink\" href=\"../../common/a2a7252783c385c028dad802e97575c19e456b990/expr.ipynb\"><img src=\"../../common/a2a7252783c385c028dad802e97575c19e456b990/expr.png\" style=\"display:inline;vertical-align:middle;\" /></a></td></tr>\n",
       "<tr><td>35</td><td>Variable</td><td></td><td><a class=\"ProveItLink\" href=\"../../../../../../__pv_it/common/2dc4f15b3407a25e8d70754a86bf74f1871f92650/expr.ipynb\"><img src=\"../../../../../../__pv_it/common/2dc4f15b3407a25e8d70754a86bf74f1871f92650/expr.png\" style=\"display:inline;vertical-align:middle;\" /></a></td></tr>\n",
       "</table>\n"
      ],
      "text/plain": [
       "0. (P(1) and [forall_{m in NaturalPos | P(m)} P(m + 1)], forall_{n in NaturalPos} P(n))\n",
       "   core type: ExprTuple\n",
       "   sub-expressions: 1, 2\n",
       "1. P(1) and [forall_{m in NaturalPos | P(m)} P(m + 1)]\n",
       "   core type: Operation\n",
       "   operator: 22\n",
       "   operands: 3\n",
       "2. forall_{n in NaturalPos} P(n)\n",
       "   core type: Operation\n",
       "   operator: 9\n",
       "   operand: 7\n",
       "3. (P(1), forall_{m in NaturalPos | P(m)} P(m + 1))\n",
       "   core type: ExprTuple\n",
       "   sub-expressions: 5, 6\n",
       "4. (n -> {P(n) if n in NaturalPos.)\n",
       "   core type: ExprTuple\n",
       "   sub-expressions: 7\n",
       "5. P(1)\n",
       "   core type: Operation\n",
       "   operator: 31\n",
       "   operand: 33\n",
       "6. forall_{m in NaturalPos | P(m)} P(m + 1)\n",
       "   core type: Operation\n",
       "   operator: 9\n",
       "   operand: 12\n",
       "7. n -> {P(n) if n in NaturalPos.\n",
       "   core type: Lambda\n",
       "   parameter: 20\n",
       "   body: 11\n",
       "8. (1)\n",
       "   core type: ExprTuple\n",
       "   sub-expressions: 33\n",
       "9. forall\n",
       "   core type: Literal\n",
       "   sub-expressions: \n",
       "10. (m -> {P(m + 1) if m in NaturalPos ,  P(m).)\n",
       "    core type: ExprTuple\n",
       "    sub-expressions: 12\n",
       "11. {P(n) if n in NaturalPos.\n",
       "    core type: Conditional\n",
       "    value: 13\n",
       "    condition: 14\n",
       "12. m -> {P(m + 1) if m in NaturalPos ,  P(m).\n",
       "    core type: Lambda\n",
       "    parameter: 35\n",
       "    body: 15\n",
       "13. P(n)\n",
       "    core type: Operation\n",
       "    operator: 31\n",
       "    operand: 20\n",
       "14. n in NaturalPos\n",
       "    core type: Operation\n",
       "    operator: 29\n",
       "    operands: 17\n",
       "15. {P(m + 1) if m in NaturalPos ,  P(m).\n",
       "    core type: Conditional\n",
       "    value: 18\n",
       "    condition: 19\n",
       "16. (n)\n",
       "    core type: ExprTuple\n",
       "    sub-expressions: 20\n",
       "17. (n, NaturalPos)\n",
       "    core type: ExprTuple\n",
       "    sub-expressions: 20, 34\n",
       "18. P(m + 1)\n",
       "    core type: Operation\n",
       "    operator: 31\n",
       "    operand: 24\n",
       "19. (m in NaturalPos) and P(m)\n",
       "    core type: Operation\n",
       "    operator: 22\n",
       "    operands: 23\n",
       "20. n\n",
       "    core type: Variable\n",
       "    sub-expressions: \n",
       "21. (m + 1)\n",
       "    core type: ExprTuple\n",
       "    sub-expressions: 24\n",
       "22. and\n",
       "    core type: Literal\n",
       "    sub-expressions: \n",
       "23. (m in NaturalPos, P(m))\n",
       "    core type: ExprTuple\n",
       "    sub-expressions: 25, 26\n",
       "24. m + 1\n",
       "    core type: Operation\n",
       "    operator: 27\n",
       "    operands: 28\n",
       "25. m in NaturalPos\n",
       "    core type: Operation\n",
       "    operator: 29\n",
       "    operands: 30\n",
       "26. P(m)\n",
       "    core type: Operation\n",
       "    operator: 31\n",
       "    operand: 35\n",
       "27. +\n",
       "    core type: Literal\n",
       "    sub-expressions: \n",
       "28. (m, 1)\n",
       "    core type: ExprTuple\n",
       "    sub-expressions: 35, 33\n",
       "29. in\n",
       "    core type: Literal\n",
       "    sub-expressions: \n",
       "30. (m, NaturalPos)\n",
       "    core type: ExprTuple\n",
       "    sub-expressions: 35, 34\n",
       "31. P\n",
       "    core type: Variable\n",
       "    sub-expressions: \n",
       "32. (m)\n",
       "    core type: ExprTuple\n",
       "    sub-expressions: 35\n",
       "33. 1\n",
       "    core type: Literal\n",
       "    sub-expressions: \n",
       "34. NaturalPos\n",
       "    core type: Literal\n",
       "    sub-expressions: \n",
       "35. m\n",
       "    core type: Variable\n",
       "    sub-expressions: "
      ]
     },
     "execution_count": 6,
     "metadata": {},
     "output_type": "execute_result"
    }
   ],
   "source": [
    "# display the expression information\n",
    "expr.expr_info()"
   ]
  },
  {
   "cell_type": "code",
   "execution_count": null,
   "metadata": {},
   "outputs": [],
   "source": []
  }
 ],
 "metadata": {
  "kernelspec": {
   "display_name": "Python 3",
   "language": "python",
   "name": "python3"
  }
 },
 "nbformat": 4,
 "nbformat_minor": 0
}