{
 "cells": [
  {
   "cell_type": "markdown",
   "metadata": {},
   "source": [
    "Expression of type <a class=\"ProveItLink\" href=\"../../../../../../../../doc/html/api/proveit.logic.Forall.html\">Forall</a>\n",
    "=======================\n",
    "# from the theory of <a class=\"ProveItLink\" href=\"../../../_theory_nbs_/theory.ipynb\">proveit.numbers.number_sets.natural_numbers</a>"
   ]
  },
  {
   "cell_type": "code",
   "execution_count": 1,
   "metadata": {},
   "outputs": [],
   "source": [
    "import proveit\n",
    "# Automation is not needed when building an expression:\n",
    "proveit.defaults.automation = False # This will speed things up.\n",
    "proveit.defaults.inline_pngs = False # Makes files smaller.\n",
    "%load_expr # Load the stored expression as 'stored_expr'\n",
    "# import Expression classes needed to build the expression\n",
    "from proveit import P, m, n\n",
    "from proveit.logic import And, Forall, Implies\n",
    "from proveit.numbers import NaturalPos, P_mAddOne, Pm, Pn, Pone"
   ]
  },
  {
   "cell_type": "code",
   "execution_count": 2,
   "metadata": {},
   "outputs": [
    {
     "data": {
      "text/html": [
       "<strong id=\"expr\">expr:</strong> <a class=\"ProveItLink\" href=\"expr.ipynb\"><img src=\"expr.png\" style=\"display:inline;vertical-align:middle;\" /></a><br>"
      ],
      "text/plain": [
       "expr: forall_{P} ((P(1) and [forall_{m in NaturalPos | P(m)} P(m + 1)]) => [forall_{n in NaturalPos} P(n)])"
      ]
     },
     "execution_count": 2,
     "metadata": {},
     "output_type": "execute_result"
    }
   ],
   "source": [
    "# build up the expression from sub-expressions\n",
    "sub_expr1 = [NaturalPos]\n",
    "expr = Forall([P], Implies(And(Pone, Forall([m], P_mAddOne, domains = sub_expr1, condition = Pm)), Forall([n], Pn, domains = sub_expr1)))"
   ]
  },
  {
   "cell_type": "code",
   "execution_count": 3,
   "metadata": {},
   "outputs": [
    {
     "name": "stdout",
     "output_type": "stream",
     "text": [
      "Passed sanity check: expr matches stored_expr\n"
     ]
    }
   ],
   "source": [
    "# check that the built expression is the same as the stored expression\n",
    "assert expr == stored_expr\n",
    "assert expr._style_id == stored_expr._style_id\n",
    "print(\"Passed sanity check: expr matches stored_expr\")"
   ]
  },
  {
   "cell_type": "code",
   "execution_count": 4,
   "metadata": {},
   "outputs": [
    {
     "name": "stdout",
     "output_type": "stream",
     "text": [
      "\\forall_{P}~\\left(\\left(P(1) \\land \\left[\\forall_{m \\in \\mathbb{N}^+~|~P(m)}~P(m + 1)\\right]\\right) \\Rightarrow \\left[\\forall_{n \\in \\mathbb{N}^+}~P(n)\\right]\\right)\n"
     ]
    }
   ],
   "source": [
    "# Show the LaTeX representation of the expression for convenience if you need it.\n",
    "print(expr.latex())"
   ]
  },
  {
   "cell_type": "code",
   "execution_count": 5,
   "metadata": {},
   "outputs": [
    {
     "data": {
      "text/html": [
       "<table><tr><th>&nbsp;</th><th>core type</th><th>sub-expressions</th><th>expression</th></tr>\n",
       "<tr><td>0</td><td>Operation</td><td>operator:&nbsp;12<br>operand:&nbsp;1<br></td><td><a class=\"ProveItLink\" href=\"expr.ipynb\"><img src=\"expr.png\" style=\"display:inline;vertical-align:middle;\" /></a></td></tr>\n",
       "<tr><td>1</td><td>Lambda</td><td>parameter:&nbsp;31<br>body:&nbsp;2<br></td><td><a class=\"ProveItLink\" href=\"../de4dcfe6115c1d33a3a4f45c42b6f3a571f11b790/expr.ipynb\"><img src=\"../de4dcfe6115c1d33a3a4f45c42b6f3a571f11b790/expr.png\" style=\"display:inline;vertical-align:middle;\" /></a></td></tr>\n",
       "<tr><td>2</td><td>Operation</td><td>operator:&nbsp;3<br>operands:&nbsp;4<br></td><td><a class=\"ProveItLink\" href=\"../133ebc853a3e8678760344d517debe40d1a45e3d0/expr.ipynb\"><img src=\"../133ebc853a3e8678760344d517debe40d1a45e3d0/expr.png\" style=\"display:inline;vertical-align:middle;\" /></a></td></tr>\n",
       "<tr><td>3</td><td>Literal</td><td></td><td><a class=\"ProveItLink\" href=\"../../../../../../logic/booleans/implication/__pv_it/common/02bdb382575728da8cdbaed545b9096ea7a1bd5b0/expr.ipynb\"><img src=\"../../../../../../logic/booleans/implication/__pv_it/common/02bdb382575728da8cdbaed545b9096ea7a1bd5b0/expr.png\" style=\"display:inline;vertical-align:middle;\" /></a></td></tr>\n",
       "<tr><td>4</td><td>ExprTuple</td><td>5, 6</td><td><a class=\"ProveItLink\" href=\"../87890929f0c351cc9f5f9f8d7d754adf51e0c59c0/expr.ipynb\"><img src=\"../87890929f0c351cc9f5f9f8d7d754adf51e0c59c0/expr.png\" style=\"display:inline;vertical-align:middle;\" /></a></td></tr>\n",
       "<tr><td>5</td><td>Operation</td><td>operator:&nbsp;22<br>operands:&nbsp;7<br></td><td><a class=\"ProveItLink\" href=\"../b03b6e25f26edd2e6a5645e6d8afc1901bb2331d0/expr.ipynb\"><img src=\"../b03b6e25f26edd2e6a5645e6d8afc1901bb2331d0/expr.png\" style=\"display:inline;vertical-align:middle;\" /></a></td></tr>\n",
       "<tr><td>6</td><td>Operation</td><td>operator:&nbsp;12<br>operand:&nbsp;8<br></td><td><a class=\"ProveItLink\" href=\"../443a118f4703b2d393f7a0fed4d2ba0e303038d80/expr.ipynb\"><img src=\"../443a118f4703b2d393f7a0fed4d2ba0e303038d80/expr.png\" style=\"display:inline;vertical-align:middle;\" /></a></td></tr>\n",
       "<tr><td>7</td><td>ExprTuple</td><td>9, 10</td><td><a class=\"ProveItLink\" href=\"../42960a004899cdb1ced7a7e998fe361fae1387a80/expr.ipynb\"><img src=\"../42960a004899cdb1ced7a7e998fe361fae1387a80/expr.png\" style=\"display:inline;vertical-align:middle;\" /></a></td></tr>\n",
       "<tr><td>8</td><td>Lambda</td><td>parameter:&nbsp;20<br>body:&nbsp;11<br></td><td><a class=\"ProveItLink\" href=\"../b429a8f802dde1b712d1703cb3533bbf204d5d360/expr.ipynb\"><img src=\"../b429a8f802dde1b712d1703cb3533bbf204d5d360/expr.png\" style=\"display:inline;vertical-align:middle;\" /></a></td></tr>\n",
       "<tr><td>9</td><td>Operation</td><td>operator:&nbsp;31<br>operand:&nbsp;28<br></td><td><a class=\"ProveItLink\" href=\"../../../../../__pv_it/common/9ee56854119b64e03bf79244378b29bf63fab9550/expr.ipynb\"><img src=\"../../../../../__pv_it/common/9ee56854119b64e03bf79244378b29bf63fab9550/expr.png\" style=\"display:inline;vertical-align:middle;\" /></a></td></tr>\n",
       "<tr><td>10</td><td>Operation</td><td>operator:&nbsp;12<br>operand:&nbsp;13<br></td><td><a class=\"ProveItLink\" href=\"../1d8e00705dbb7de1d509bcf1dc70833978d831970/expr.ipynb\"><img src=\"../1d8e00705dbb7de1d509bcf1dc70833978d831970/expr.png\" style=\"display:inline;vertical-align:middle;\" /></a></td></tr>\n",
       "<tr><td>11</td><td>Conditional</td><td>value:&nbsp;14<br>condition:&nbsp;15<br></td><td><a class=\"ProveItLink\" href=\"../56fb5f7006be62ca874d34cb0aeb9a94f45dd9240/expr.ipynb\"><img src=\"../56fb5f7006be62ca874d34cb0aeb9a94f45dd9240/expr.png\" style=\"display:inline;vertical-align:middle;\" /></a></td></tr>\n",
       "<tr><td>12</td><td>Literal</td><td></td><td><a class=\"ProveItLink\" href=\"../../../../../../logic/booleans/quantification/universality/__pv_it/common/083d2baa0b8ecab1d230f9ec29a15aa1355809fb0/expr.ipynb\"><img src=\"../../../../../../logic/booleans/quantification/universality/__pv_it/common/083d2baa0b8ecab1d230f9ec29a15aa1355809fb0/expr.png\" style=\"display:inline;vertical-align:middle;\" /></a></td></tr>\n",
       "<tr><td>13</td><td>Lambda</td><td>parameter:&nbsp;32<br>body:&nbsp;16<br></td><td><a class=\"ProveItLink\" href=\"../ef7fc6e3408dc0130b10d72e9d80260479f362b40/expr.ipynb\"><img src=\"../ef7fc6e3408dc0130b10d72e9d80260479f362b40/expr.png\" style=\"display:inline;vertical-align:middle;\" /></a></td></tr>\n",
       "<tr><td>14</td><td>Operation</td><td>operator:&nbsp;31<br>operand:&nbsp;20<br></td><td><a class=\"ProveItLink\" href=\"../../../../../__pv_it/common/a9740f234cbd3b69083e3988c465e012d4b6853a0/expr.ipynb\"><img src=\"../../../../../__pv_it/common/a9740f234cbd3b69083e3988c465e012d4b6853a0/expr.png\" style=\"display:inline;vertical-align:middle;\" /></a></td></tr>\n",
       "<tr><td>15</td><td>Operation</td><td>operator:&nbsp;29<br>operands:&nbsp;17<br></td><td><a class=\"ProveItLink\" href=\"../2c629b73e558dcaacbf71c0a050e9fdf89a4ad830/expr.ipynb\"><img src=\"../2c629b73e558dcaacbf71c0a050e9fdf89a4ad830/expr.png\" style=\"display:inline;vertical-align:middle;\" /></a></td></tr>\n",
       "<tr><td>16</td><td>Conditional</td><td>value:&nbsp;18<br>condition:&nbsp;19<br></td><td><a class=\"ProveItLink\" href=\"../f36785c8b4ec0ee608b8a43bf95a5e010038aaf70/expr.ipynb\"><img src=\"../f36785c8b4ec0ee608b8a43bf95a5e010038aaf70/expr.png\" style=\"display:inline;vertical-align:middle;\" /></a></td></tr>\n",
       "<tr><td>17</td><td>ExprTuple</td><td>20, 33</td><td><a class=\"ProveItLink\" href=\"../443ee719f2afe90923a7e0e147169eb97be9a35c0/expr.ipynb\"><img src=\"../443ee719f2afe90923a7e0e147169eb97be9a35c0/expr.png\" style=\"display:inline;vertical-align:middle;\" /></a></td></tr>\n",
       "<tr><td>18</td><td>Operation</td><td>operator:&nbsp;31<br>operand:&nbsp;21<br></td><td><a class=\"ProveItLink\" href=\"../../../../../__pv_it/common/f1a3816edd68a3133eb22f35e3df8da9fb933e220/expr.ipynb\"><img src=\"../../../../../__pv_it/common/f1a3816edd68a3133eb22f35e3df8da9fb933e220/expr.png\" style=\"display:inline;vertical-align:middle;\" /></a></td></tr>\n",
       "<tr><td>19</td><td>Operation</td><td>operator:&nbsp;22<br>operands:&nbsp;23<br></td><td><a class=\"ProveItLink\" href=\"../211f7f1b5281e92ab1b1672c8d1c0ba3961885780/expr.ipynb\"><img src=\"../211f7f1b5281e92ab1b1672c8d1c0ba3961885780/expr.png\" style=\"display:inline;vertical-align:middle;\" /></a></td></tr>\n",
       "<tr><td>20</td><td>Variable</td><td></td><td><a class=\"ProveItLink\" href=\"../../../../../../__pv_it/common/8968bb04eb3f7dfa02353397ce929b025bbd79c20/expr.ipynb\"><img src=\"../../../../../../__pv_it/common/8968bb04eb3f7dfa02353397ce929b025bbd79c20/expr.png\" style=\"display:inline;vertical-align:middle;\" /></a></td></tr>\n",
       "<tr><td>21</td><td>Operation</td><td>operator:&nbsp;24<br>operands:&nbsp;25<br></td><td><a class=\"ProveItLink\" href=\"../../../../../__pv_it/common/e4061993af513a849b79a657e87a3daf729860f60/expr.ipynb\"><img src=\"../../../../../__pv_it/common/e4061993af513a849b79a657e87a3daf729860f60/expr.png\" style=\"display:inline;vertical-align:middle;\" /></a></td></tr>\n",
       "<tr><td>22</td><td>Literal</td><td></td><td><a class=\"ProveItLink\" href=\"../../../../../../logic/booleans/conjunction/__pv_it/common/42118ff318bd65d98b1393f64ce7c2269feef76e0/expr.ipynb\"><img src=\"../../../../../../logic/booleans/conjunction/__pv_it/common/42118ff318bd65d98b1393f64ce7c2269feef76e0/expr.png\" style=\"display:inline;vertical-align:middle;\" /></a></td></tr>\n",
       "<tr><td>23</td><td>ExprTuple</td><td>26, 27</td><td><a class=\"ProveItLink\" href=\"../36fa164c065371cc52b9bd0174fd854a73f467940/expr.ipynb\"><img src=\"../36fa164c065371cc52b9bd0174fd854a73f467940/expr.png\" style=\"display:inline;vertical-align:middle;\" /></a></td></tr>\n",
       "<tr><td>24</td><td>Literal</td><td></td><td><a class=\"ProveItLink\" href=\"../../../../../addition/__pv_it/common/4b7effaab3619a1c2c38fe2dee8601df8ec714590/expr.ipynb\"><img src=\"../../../../../addition/__pv_it/common/4b7effaab3619a1c2c38fe2dee8601df8ec714590/expr.png\" style=\"display:inline;vertical-align:middle;\" /></a></td></tr>\n",
       "<tr><td>25</td><td>ExprTuple</td><td>32, 28</td><td><a class=\"ProveItLink\" href=\"../../../../../__pv_it/common/c75997494363a372da41f935d52adeefa2e242a80/expr.ipynb\"><img src=\"../../../../../__pv_it/common/c75997494363a372da41f935d52adeefa2e242a80/expr.png\" style=\"display:inline;vertical-align:middle;\" /></a></td></tr>\n",
       "<tr><td>26</td><td>Operation</td><td>operator:&nbsp;29<br>operands:&nbsp;30<br></td><td><a class=\"ProveItLink\" href=\"../4bc9b82a35918956261d5407364d88047987ad430/expr.ipynb\"><img src=\"../4bc9b82a35918956261d5407364d88047987ad430/expr.png\" style=\"display:inline;vertical-align:middle;\" /></a></td></tr>\n",
       "<tr><td>27</td><td>Operation</td><td>operator:&nbsp;31<br>operand:&nbsp;32<br></td><td><a class=\"ProveItLink\" href=\"../../../../../__pv_it/common/8c3fddc10af841cb9228e77f3ca7107999dd43ab0/expr.ipynb\"><img src=\"../../../../../__pv_it/common/8c3fddc10af841cb9228e77f3ca7107999dd43ab0/expr.png\" style=\"display:inline;vertical-align:middle;\" /></a></td></tr>\n",
       "<tr><td>28</td><td>Literal</td><td></td><td><a class=\"ProveItLink\" href=\"../../../../../numerals/__pv_it/common/2778428c7f555b2bdc06aa0530bc142c6e6335100/expr.ipynb\"><img src=\"../../../../../numerals/__pv_it/common/2778428c7f555b2bdc06aa0530bc142c6e6335100/expr.png\" style=\"display:inline;vertical-align:middle;\" /></a></td></tr>\n",
       "<tr><td>29</td><td>Literal</td><td></td><td><a class=\"ProveItLink\" href=\"../../../../../../logic/sets/membership/__pv_it/common/477487d8796864d23d5810f83761435f25167f690/expr.ipynb\"><img src=\"../../../../../../logic/sets/membership/__pv_it/common/477487d8796864d23d5810f83761435f25167f690/expr.png\" style=\"display:inline;vertical-align:middle;\" /></a></td></tr>\n",
       "<tr><td>30</td><td>ExprTuple</td><td>32, 33</td><td><a class=\"ProveItLink\" href=\"../043e59715aeac62085ccdd708e6053fdab35b87c0/expr.ipynb\"><img src=\"../043e59715aeac62085ccdd708e6053fdab35b87c0/expr.png\" style=\"display:inline;vertical-align:middle;\" /></a></td></tr>\n",
       "<tr><td>31</td><td>Variable</td><td></td><td><a class=\"ProveItLink\" href=\"../../../../../../__pv_it/common/de55da274ba0f49c86925fbf3828021c04d27faf0/expr.ipynb\"><img src=\"../../../../../../__pv_it/common/de55da274ba0f49c86925fbf3828021c04d27faf0/expr.png\" style=\"display:inline;vertical-align:middle;\" /></a></td></tr>\n",
       "<tr><td>32</td><td>Variable</td><td></td><td><a class=\"ProveItLink\" href=\"../../../../../../__pv_it/common/674a03b9c3ca221b3aabd5636837b31528ff33830/expr.ipynb\"><img src=\"../../../../../../__pv_it/common/674a03b9c3ca221b3aabd5636837b31528ff33830/expr.png\" style=\"display:inline;vertical-align:middle;\" /></a></td></tr>\n",
       "<tr><td>33</td><td>Literal</td><td></td><td><a class=\"ProveItLink\" href=\"../../common/6111329435c43892c831c4793de96afbf80bdb3e0/expr.ipynb\"><img src=\"../../common/6111329435c43892c831c4793de96afbf80bdb3e0/expr.png\" style=\"display:inline;vertical-align:middle;\" /></a></td></tr>\n",
       "</table>\n"
      ],
      "text/plain": [
       "0. forall_{P} ((P(1) and [forall_{m in NaturalPos | P(m)} P(m + 1)]) => [forall_{n in NaturalPos} P(n)])\n",
       "   core type: Operation\n",
       "   operator: 12\n",
       "   operand: 1\n",
       "1. P -> ((P(1) and [forall_{m in NaturalPos | P(m)} P(m + 1)]) => [forall_{n in NaturalPos} P(n)])\n",
       "   core type: Lambda\n",
       "   parameter: 31\n",
       "   body: 2\n",
       "2. (P(1) and [forall_{m in NaturalPos | P(m)} P(m + 1)]) => [forall_{n in NaturalPos} P(n)]\n",
       "   core type: Operation\n",
       "   operator: 3\n",
       "   operands: 4\n",
       "3. =>\n",
       "   core type: Literal\n",
       "   sub-expressions: \n",
       "4. (P(1) and [forall_{m in NaturalPos | P(m)} P(m + 1)], forall_{n in NaturalPos} P(n))\n",
       "   core type: ExprTuple\n",
       "   sub-expressions: 5, 6\n",
       "5. P(1) and [forall_{m in NaturalPos | P(m)} P(m + 1)]\n",
       "   core type: Operation\n",
       "   operator: 22\n",
       "   operands: 7\n",
       "6. forall_{n in NaturalPos} P(n)\n",
       "   core type: Operation\n",
       "   operator: 12\n",
       "   operand: 8\n",
       "7. (P(1), forall_{m in NaturalPos | P(m)} P(m + 1))\n",
       "   core type: ExprTuple\n",
       "   sub-expressions: 9, 10\n",
       "8. n -> {P(n) if n in NaturalPos.\n",
       "   core type: Lambda\n",
       "   parameter: 20\n",
       "   body: 11\n",
       "9. P(1)\n",
       "   core type: Operation\n",
       "   operator: 31\n",
       "   operand: 28\n",
       "10. forall_{m in NaturalPos | P(m)} P(m + 1)\n",
       "    core type: Operation\n",
       "    operator: 12\n",
       "    operand: 13\n",
       "11. {P(n) if n in NaturalPos.\n",
       "    core type: Conditional\n",
       "    value: 14\n",
       "    condition: 15\n",
       "12. forall\n",
       "    core type: Literal\n",
       "    sub-expressions: \n",
       "13. m -> {P(m + 1) if m in NaturalPos ,  P(m).\n",
       "    core type: Lambda\n",
       "    parameter: 32\n",
       "    body: 16\n",
       "14. P(n)\n",
       "    core type: Operation\n",
       "    operator: 31\n",
       "    operand: 20\n",
       "15. n in NaturalPos\n",
       "    core type: Operation\n",
       "    operator: 29\n",
       "    operands: 17\n",
       "16. {P(m + 1) if m in NaturalPos ,  P(m).\n",
       "    core type: Conditional\n",
       "    value: 18\n",
       "    condition: 19\n",
       "17. (n, NaturalPos)\n",
       "    core type: ExprTuple\n",
       "    sub-expressions: 20, 33\n",
       "18. P(m + 1)\n",
       "    core type: Operation\n",
       "    operator: 31\n",
       "    operand: 21\n",
       "19. (m in NaturalPos) and P(m)\n",
       "    core type: Operation\n",
       "    operator: 22\n",
       "    operands: 23\n",
       "20. n\n",
       "    core type: Variable\n",
       "    sub-expressions: \n",
       "21. m + 1\n",
       "    core type: Operation\n",
       "    operator: 24\n",
       "    operands: 25\n",
       "22. and\n",
       "    core type: Literal\n",
       "    sub-expressions: \n",
       "23. (m in NaturalPos, P(m))\n",
       "    core type: ExprTuple\n",
       "    sub-expressions: 26, 27\n",
       "24. +\n",
       "    core type: Literal\n",
       "    sub-expressions: \n",
       "25. (m, 1)\n",
       "    core type: ExprTuple\n",
       "    sub-expressions: 32, 28\n",
       "26. m in NaturalPos\n",
       "    core type: Operation\n",
       "    operator: 29\n",
       "    operands: 30\n",
       "27. P(m)\n",
       "    core type: Operation\n",
       "    operator: 31\n",
       "    operand: 32\n",
       "28. 1\n",
       "    core type: Literal\n",
       "    sub-expressions: \n",
       "29. in\n",
       "    core type: Literal\n",
       "    sub-expressions: \n",
       "30. (m, NaturalPos)\n",
       "    core type: ExprTuple\n",
       "    sub-expressions: 32, 33\n",
       "31. P\n",
       "    core type: Variable\n",
       "    sub-expressions: \n",
       "32. m\n",
       "    core type: Variable\n",
       "    sub-expressions: \n",
       "33. NaturalPos\n",
       "    core type: Literal\n",
       "    sub-expressions: "
      ]
     },
     "execution_count": 5,
     "metadata": {},
     "output_type": "execute_result"
    }
   ],
   "source": [
    "# display the expression information\n",
    "expr.expr_info()"
   ]
  },
  {
   "cell_type": "code",
   "execution_count": null,
   "metadata": {},
   "outputs": [],
   "source": []
  }
 ],
 "metadata": {
  "kernelspec": {
   "display_name": "Python 3",
   "language": "python",
   "name": "python3"
  }
 },
 "nbformat": 4,
 "nbformat_minor": 0
}