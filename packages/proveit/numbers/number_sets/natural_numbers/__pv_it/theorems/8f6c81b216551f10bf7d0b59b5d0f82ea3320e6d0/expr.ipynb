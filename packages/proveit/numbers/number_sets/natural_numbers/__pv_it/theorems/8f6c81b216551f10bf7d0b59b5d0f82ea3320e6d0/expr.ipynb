{
 "cells": [
  {
   "cell_type": "markdown",
   "metadata": {},
   "source": [
    "Expression of type <a class=\"ProveItLink\" href=\"../../../../../../../../doc/html/api/proveit.Lambda.html\">Lambda</a>\n",
    "=======================\n",
    "# from the theory of <a class=\"ProveItLink\" href=\"../../../_theory_nbs_/theory.ipynb\">proveit.numbers.number_sets.natural_numbers</a>"
   ]
  },
  {
   "cell_type": "code",
   "execution_count": 1,
   "metadata": {},
   "outputs": [],
   "source": [
    "import proveit\n",
    "# Automation is not needed when building an expression:\n",
    "proveit.defaults.automation = False # This will speed things up.\n",
    "proveit.defaults.inline_pngs = False # Makes files smaller.\n",
    "%load_expr # Load the stored expression as 'stored_expr'\n",
    "# import Expression classes needed to build the expression\n",
    "from proveit import Lambda, P, m, n\n",
    "from proveit.logic import And, Forall, Implies\n",
    "from proveit.numbers import Natural, P_mAddOne, Pm, Pn, Pzero"
   ]
  },
  {
   "cell_type": "code",
   "execution_count": 2,
   "metadata": {},
   "outputs": [
    {
     "data": {
      "text/html": [
       "<strong id=\"expr\">expr:</strong> <a class=\"ProveItLink\" href=\"expr.ipynb\"><img src=\"expr.png\" style=\"display:inline;vertical-align:middle;\" /></a><br>"
      ],
      "text/plain": [
       "expr: P -> ((P(0) and [forall_{m in Natural | P(m)} P(m + 1)]) => [forall_{n in Natural} P(n)])"
      ]
     },
     "execution_count": 2,
     "metadata": {},
     "output_type": "execute_result"
    }
   ],
   "source": [
    "# build up the expression from sub-expressions\n",
    "sub_expr1 = [Natural]\n",
    "expr = Lambda(P, Implies(And(Pzero, Forall([m], P_mAddOne, domains = sub_expr1, condition = Pm)), Forall([n], Pn, domains = sub_expr1)))"
   ]
  },
  {
   "cell_type": "code",
   "execution_count": 3,
   "metadata": {},
   "outputs": [
    {
     "name": "stdout",
     "output_type": "stream",
     "text": [
      "Passed sanity check: expr matches stored_expr\n"
     ]
    }
   ],
   "source": [
    "# check that the built expression is the same as the stored expression\n",
    "assert expr == stored_expr\n",
    "assert expr._style_id == stored_expr._style_id\n",
    "print(\"Passed sanity check: expr matches stored_expr\")"
   ]
  },
  {
   "cell_type": "code",
   "execution_count": 4,
   "metadata": {},
   "outputs": [
    {
     "name": "stdout",
     "output_type": "stream",
     "text": [
      "P \\mapsto \\left(\\left(P(0) \\land \\left[\\forall_{m \\in \\mathbb{N}~|~P(m)}~P(m + 1)\\right]\\right) \\Rightarrow \\left[\\forall_{n \\in \\mathbb{N}}~P(n)\\right]\\right)\n"
     ]
    }
   ],
   "source": [
    "# Show the LaTeX representation of the expression for convenience if you need it.\n",
    "print(expr.latex())"
   ]
  },
  {
   "cell_type": "code",
   "execution_count": 5,
   "metadata": {},
   "outputs": [
    {
     "data": {
      "text/html": [
       "<table><tr><th>&nbsp;</th><th>core type</th><th>sub-expressions</th><th>expression</th></tr>\n",
       "<tr><td>0</td><td>Lambda</td><td>parameter:&nbsp;31<br>body:&nbsp;1<br></td><td><a class=\"ProveItLink\" href=\"expr.ipynb\"><img src=\"expr.png\" style=\"display:inline;vertical-align:middle;\" /></a></td></tr>\n",
       "<tr><td>1</td><td>Operation</td><td>operator:&nbsp;2<br>operands:&nbsp;3<br></td><td><a class=\"ProveItLink\" href=\"../a0206acb62aaf7985f53d0df33c7bcc5393a74080/expr.ipynb\"><img src=\"../a0206acb62aaf7985f53d0df33c7bcc5393a74080/expr.png\" style=\"display:inline;vertical-align:middle;\" /></a></td></tr>\n",
       "<tr><td>2</td><td>Literal</td><td></td><td><a class=\"ProveItLink\" href=\"../../../../../../logic/booleans/implication/__pv_it/common/02bdb382575728da8cdbaed545b9096ea7a1bd5b0/expr.ipynb\"><img src=\"../../../../../../logic/booleans/implication/__pv_it/common/02bdb382575728da8cdbaed545b9096ea7a1bd5b0/expr.png\" style=\"display:inline;vertical-align:middle;\" /></a></td></tr>\n",
       "<tr><td>3</td><td>ExprTuple</td><td>4, 5</td><td><a class=\"ProveItLink\" href=\"../7fa2f505591a72a888b37e25ad1b2874d59ccb1d0/expr.ipynb\"><img src=\"../7fa2f505591a72a888b37e25ad1b2874d59ccb1d0/expr.png\" style=\"display:inline;vertical-align:middle;\" /></a></td></tr>\n",
       "<tr><td>4</td><td>Operation</td><td>operator:&nbsp;22<br>operands:&nbsp;6<br></td><td><a class=\"ProveItLink\" href=\"../f4a90cabc9e1a37a526f5b8a4ea1d548ca721c5c0/expr.ipynb\"><img src=\"../f4a90cabc9e1a37a526f5b8a4ea1d548ca721c5c0/expr.png\" style=\"display:inline;vertical-align:middle;\" /></a></td></tr>\n",
       "<tr><td>5</td><td>Operation</td><td>operator:&nbsp;12<br>operand:&nbsp;7<br></td><td><a class=\"ProveItLink\" href=\"../c0b37632fa4d0f05819f42bd53ee13b16b0411770/expr.ipynb\"><img src=\"../c0b37632fa4d0f05819f42bd53ee13b16b0411770/expr.png\" style=\"display:inline;vertical-align:middle;\" /></a></td></tr>\n",
       "<tr><td>6</td><td>ExprTuple</td><td>8, 9</td><td><a class=\"ProveItLink\" href=\"../dcc6d78eaa4481f400cb29b990269c30ec38879e0/expr.ipynb\"><img src=\"../dcc6d78eaa4481f400cb29b990269c30ec38879e0/expr.png\" style=\"display:inline;vertical-align:middle;\" /></a></td></tr>\n",
       "<tr><td>7</td><td>Lambda</td><td>parameter:&nbsp;20<br>body:&nbsp;10<br></td><td><a class=\"ProveItLink\" href=\"../238dcaa55e69c42433eb0405d229c2fdc55cf2730/expr.ipynb\"><img src=\"../238dcaa55e69c42433eb0405d229c2fdc55cf2730/expr.png\" style=\"display:inline;vertical-align:middle;\" /></a></td></tr>\n",
       "<tr><td>8</td><td>Operation</td><td>operator:&nbsp;31<br>operand:&nbsp;11<br></td><td><a class=\"ProveItLink\" href=\"../../../../../__pv_it/common/eef7500bfce3410909fe92ada1f28089b92e5a180/expr.ipynb\"><img src=\"../../../../../__pv_it/common/eef7500bfce3410909fe92ada1f28089b92e5a180/expr.png\" style=\"display:inline;vertical-align:middle;\" /></a></td></tr>\n",
       "<tr><td>9</td><td>Operation</td><td>operator:&nbsp;12<br>operand:&nbsp;13<br></td><td><a class=\"ProveItLink\" href=\"../e480fa7930b8211af7ba20d204d0f0ebd34a0f020/expr.ipynb\"><img src=\"../e480fa7930b8211af7ba20d204d0f0ebd34a0f020/expr.png\" style=\"display:inline;vertical-align:middle;\" /></a></td></tr>\n",
       "<tr><td>10</td><td>Conditional</td><td>value:&nbsp;14<br>condition:&nbsp;15<br></td><td><a class=\"ProveItLink\" href=\"../8aa0a4036089c293013b4c29976a68e0584f04b30/expr.ipynb\"><img src=\"../8aa0a4036089c293013b4c29976a68e0584f04b30/expr.png\" style=\"display:inline;vertical-align:middle;\" /></a></td></tr>\n",
       "<tr><td>11</td><td>Literal</td><td></td><td><a class=\"ProveItLink\" href=\"../../../../../numerals/__pv_it/common/7d0a36793ffe8d307a5c120ee5598162e8cd2db10/expr.ipynb\"><img src=\"../../../../../numerals/__pv_it/common/7d0a36793ffe8d307a5c120ee5598162e8cd2db10/expr.png\" style=\"display:inline;vertical-align:middle;\" /></a></td></tr>\n",
       "<tr><td>12</td><td>Literal</td><td></td><td><a class=\"ProveItLink\" href=\"../../../../../../logic/booleans/quantification/universality/__pv_it/common/083d2baa0b8ecab1d230f9ec29a15aa1355809fb0/expr.ipynb\"><img src=\"../../../../../../logic/booleans/quantification/universality/__pv_it/common/083d2baa0b8ecab1d230f9ec29a15aa1355809fb0/expr.png\" style=\"display:inline;vertical-align:middle;\" /></a></td></tr>\n",
       "<tr><td>13</td><td>Lambda</td><td>parameter:&nbsp;32<br>body:&nbsp;16<br></td><td><a class=\"ProveItLink\" href=\"../5ae3d0225bd16f1ea1f2a76d672d72e20f7c538d0/expr.ipynb\"><img src=\"../5ae3d0225bd16f1ea1f2a76d672d72e20f7c538d0/expr.png\" style=\"display:inline;vertical-align:middle;\" /></a></td></tr>\n",
       "<tr><td>14</td><td>Operation</td><td>operator:&nbsp;31<br>operand:&nbsp;20<br></td><td><a class=\"ProveItLink\" href=\"../../../../../__pv_it/common/a9740f234cbd3b69083e3988c465e012d4b6853a0/expr.ipynb\"><img src=\"../../../../../__pv_it/common/a9740f234cbd3b69083e3988c465e012d4b6853a0/expr.png\" style=\"display:inline;vertical-align:middle;\" /></a></td></tr>\n",
       "<tr><td>15</td><td>Operation</td><td>operator:&nbsp;29<br>operands:&nbsp;17<br></td><td><a class=\"ProveItLink\" href=\"../12ab02a6aa52e45203d5ea4187476fa00e51b3b50/expr.ipynb\"><img src=\"../12ab02a6aa52e45203d5ea4187476fa00e51b3b50/expr.png\" style=\"display:inline;vertical-align:middle;\" /></a></td></tr>\n",
       "<tr><td>16</td><td>Conditional</td><td>value:&nbsp;18<br>condition:&nbsp;19<br></td><td><a class=\"ProveItLink\" href=\"../d316bec41b2e505babb8685e2405194523ea1aa40/expr.ipynb\"><img src=\"../d316bec41b2e505babb8685e2405194523ea1aa40/expr.png\" style=\"display:inline;vertical-align:middle;\" /></a></td></tr>\n",
       "<tr><td>17</td><td>ExprTuple</td><td>20, 33</td><td><a class=\"ProveItLink\" href=\"../085c3e3dd60775d5a3d2ee7cbdd012fa9fa1715b0/expr.ipynb\"><img src=\"../085c3e3dd60775d5a3d2ee7cbdd012fa9fa1715b0/expr.png\" style=\"display:inline;vertical-align:middle;\" /></a></td></tr>\n",
       "<tr><td>18</td><td>Operation</td><td>operator:&nbsp;31<br>operand:&nbsp;21<br></td><td><a class=\"ProveItLink\" href=\"../../../../../__pv_it/common/f1a3816edd68a3133eb22f35e3df8da9fb933e220/expr.ipynb\"><img src=\"../../../../../__pv_it/common/f1a3816edd68a3133eb22f35e3df8da9fb933e220/expr.png\" style=\"display:inline;vertical-align:middle;\" /></a></td></tr>\n",
       "<tr><td>19</td><td>Operation</td><td>operator:&nbsp;22<br>operands:&nbsp;23<br></td><td><a class=\"ProveItLink\" href=\"../dcc5b0d762c8d077d554d531f168243fb50863e00/expr.ipynb\"><img src=\"../dcc5b0d762c8d077d554d531f168243fb50863e00/expr.png\" style=\"display:inline;vertical-align:middle;\" /></a></td></tr>\n",
       "<tr><td>20</td><td>Variable</td><td></td><td><a class=\"ProveItLink\" href=\"../../../../../../__pv_it/common/8968bb04eb3f7dfa02353397ce929b025bbd79c20/expr.ipynb\"><img src=\"../../../../../../__pv_it/common/8968bb04eb3f7dfa02353397ce929b025bbd79c20/expr.png\" style=\"display:inline;vertical-align:middle;\" /></a></td></tr>\n",
       "<tr><td>21</td><td>Operation</td><td>operator:&nbsp;24<br>operands:&nbsp;25<br></td><td><a class=\"ProveItLink\" href=\"../../../../../__pv_it/common/e4061993af513a849b79a657e87a3daf729860f60/expr.ipynb\"><img src=\"../../../../../__pv_it/common/e4061993af513a849b79a657e87a3daf729860f60/expr.png\" style=\"display:inline;vertical-align:middle;\" /></a></td></tr>\n",
       "<tr><td>22</td><td>Literal</td><td></td><td><a class=\"ProveItLink\" href=\"../../../../../../logic/booleans/conjunction/__pv_it/common/42118ff318bd65d98b1393f64ce7c2269feef76e0/expr.ipynb\"><img src=\"../../../../../../logic/booleans/conjunction/__pv_it/common/42118ff318bd65d98b1393f64ce7c2269feef76e0/expr.png\" style=\"display:inline;vertical-align:middle;\" /></a></td></tr>\n",
       "<tr><td>23</td><td>ExprTuple</td><td>26, 27</td><td><a class=\"ProveItLink\" href=\"../e486f1321d73b33b1efd03c2e82dd5ec26d33f430/expr.ipynb\"><img src=\"../e486f1321d73b33b1efd03c2e82dd5ec26d33f430/expr.png\" style=\"display:inline;vertical-align:middle;\" /></a></td></tr>\n",
       "<tr><td>24</td><td>Literal</td><td></td><td><a class=\"ProveItLink\" href=\"../../../../../addition/__pv_it/common/4b7effaab3619a1c2c38fe2dee8601df8ec714590/expr.ipynb\"><img src=\"../../../../../addition/__pv_it/common/4b7effaab3619a1c2c38fe2dee8601df8ec714590/expr.png\" style=\"display:inline;vertical-align:middle;\" /></a></td></tr>\n",
       "<tr><td>25</td><td>ExprTuple</td><td>32, 28</td><td><a class=\"ProveItLink\" href=\"../../../../../__pv_it/common/c75997494363a372da41f935d52adeefa2e242a80/expr.ipynb\"><img src=\"../../../../../__pv_it/common/c75997494363a372da41f935d52adeefa2e242a80/expr.png\" style=\"display:inline;vertical-align:middle;\" /></a></td></tr>\n",
       "<tr><td>26</td><td>Operation</td><td>operator:&nbsp;29<br>operands:&nbsp;30<br></td><td><a class=\"ProveItLink\" href=\"../4f4f68e5db38996cc372140183a27cd53cccb00d0/expr.ipynb\"><img src=\"../4f4f68e5db38996cc372140183a27cd53cccb00d0/expr.png\" style=\"display:inline;vertical-align:middle;\" /></a></td></tr>\n",
       "<tr><td>27</td><td>Operation</td><td>operator:&nbsp;31<br>operand:&nbsp;32<br></td><td><a class=\"ProveItLink\" href=\"../../../../../__pv_it/common/8c3fddc10af841cb9228e77f3ca7107999dd43ab0/expr.ipynb\"><img src=\"../../../../../__pv_it/common/8c3fddc10af841cb9228e77f3ca7107999dd43ab0/expr.png\" style=\"display:inline;vertical-align:middle;\" /></a></td></tr>\n",
       "<tr><td>28</td><td>Literal</td><td></td><td><a class=\"ProveItLink\" href=\"../../../../../numerals/__pv_it/common/2778428c7f555b2bdc06aa0530bc142c6e6335100/expr.ipynb\"><img src=\"../../../../../numerals/__pv_it/common/2778428c7f555b2bdc06aa0530bc142c6e6335100/expr.png\" style=\"display:inline;vertical-align:middle;\" /></a></td></tr>\n",
       "<tr><td>29</td><td>Literal</td><td></td><td><a class=\"ProveItLink\" href=\"../../../../../../logic/sets/membership/__pv_it/common/477487d8796864d23d5810f83761435f25167f690/expr.ipynb\"><img src=\"../../../../../../logic/sets/membership/__pv_it/common/477487d8796864d23d5810f83761435f25167f690/expr.png\" style=\"display:inline;vertical-align:middle;\" /></a></td></tr>\n",
       "<tr><td>30</td><td>ExprTuple</td><td>32, 33</td><td><a class=\"ProveItLink\" href=\"../5217329bdd68b4184926ae8882fa8d0a611a62070/expr.ipynb\"><img src=\"../5217329bdd68b4184926ae8882fa8d0a611a62070/expr.png\" style=\"display:inline;vertical-align:middle;\" /></a></td></tr>\n",
       "<tr><td>31</td><td>Variable</td><td></td><td><a class=\"ProveItLink\" href=\"../../../../../../__pv_it/common/de55da274ba0f49c86925fbf3828021c04d27faf0/expr.ipynb\"><img src=\"../../../../../../__pv_it/common/de55da274ba0f49c86925fbf3828021c04d27faf0/expr.png\" style=\"display:inline;vertical-align:middle;\" /></a></td></tr>\n",
       "<tr><td>32</td><td>Variable</td><td></td><td><a class=\"ProveItLink\" href=\"../../../../../../__pv_it/common/674a03b9c3ca221b3aabd5636837b31528ff33830/expr.ipynb\"><img src=\"../../../../../../__pv_it/common/674a03b9c3ca221b3aabd5636837b31528ff33830/expr.png\" style=\"display:inline;vertical-align:middle;\" /></a></td></tr>\n",
       "<tr><td>33</td><td>Literal</td><td></td><td><a class=\"ProveItLink\" href=\"../../common/8b7c321957f52ed3b05b36af612eeae4fa4783bc0/expr.ipynb\"><img src=\"../../common/8b7c321957f52ed3b05b36af612eeae4fa4783bc0/expr.png\" style=\"display:inline;vertical-align:middle;\" /></a></td></tr>\n",
       "</table>\n"
      ],
      "text/plain": [
       "0. P -> ((P(0) and [forall_{m in Natural | P(m)} P(m + 1)]) => [forall_{n in Natural} P(n)])\n",
       "   core type: Lambda\n",
       "   parameter: 31\n",
       "   body: 1\n",
       "1. (P(0) and [forall_{m in Natural | P(m)} P(m + 1)]) => [forall_{n in Natural} P(n)]\n",
       "   core type: Operation\n",
       "   operator: 2\n",
       "   operands: 3\n",
       "2. =>\n",
       "   core type: Literal\n",
       "   sub-expressions: \n",
       "3. (P(0) and [forall_{m in Natural | P(m)} P(m + 1)], forall_{n in Natural} P(n))\n",
       "   core type: ExprTuple\n",
       "   sub-expressions: 4, 5\n",
       "4. P(0) and [forall_{m in Natural | P(m)} P(m + 1)]\n",
       "   core type: Operation\n",
       "   operator: 22\n",
       "   operands: 6\n",
       "5. forall_{n in Natural} P(n)\n",
       "   core type: Operation\n",
       "   operator: 12\n",
       "   operand: 7\n",
       "6. (P(0), forall_{m in Natural | P(m)} P(m + 1))\n",
       "   core type: ExprTuple\n",
       "   sub-expressions: 8, 9\n",
       "7. n -> {P(n) if n in Natural.\n",
       "   core type: Lambda\n",
       "   parameter: 20\n",
       "   body: 10\n",
       "8. P(0)\n",
       "   core type: Operation\n",
       "   operator: 31\n",
       "   operand: 11\n",
       "9. forall_{m in Natural | P(m)} P(m + 1)\n",
       "   core type: Operation\n",
       "   operator: 12\n",
       "   operand: 13\n",
       "10. {P(n) if n in Natural.\n",
       "    core type: Conditional\n",
       "    value: 14\n",
       "    condition: 15\n",
       "11. 0\n",
       "    core type: Literal\n",
       "    sub-expressions: \n",
       "12. forall\n",
       "    core type: Literal\n",
       "    sub-expressions: \n",
       "13. m -> {P(m + 1) if m in Natural ,  P(m).\n",
       "    core type: Lambda\n",
       "    parameter: 32\n",
       "    body: 16\n",
       "14. P(n)\n",
       "    core type: Operation\n",
       "    operator: 31\n",
       "    operand: 20\n",
       "15. n in Natural\n",
       "    core type: Operation\n",
       "    operator: 29\n",
       "    operands: 17\n",
       "16. {P(m + 1) if m in Natural ,  P(m).\n",
       "    core type: Conditional\n",
       "    value: 18\n",
       "    condition: 19\n",
       "17. (n, Natural)\n",
       "    core type: ExprTuple\n",
       "    sub-expressions: 20, 33\n",
       "18. P(m + 1)\n",
       "    core type: Operation\n",
       "    operator: 31\n",
       "    operand: 21\n",
       "19. (m in Natural) and P(m)\n",
       "    core type: Operation\n",
       "    operator: 22\n",
       "    operands: 23\n",
       "20. n\n",
       "    core type: Variable\n",
       "    sub-expressions: \n",
       "21. m + 1\n",
       "    core type: Operation\n",
       "    operator: 24\n",
       "    operands: 25\n",
       "22. and\n",
       "    core type: Literal\n",
       "    sub-expressions: \n",
       "23. (m in Natural, P(m))\n",
       "    core type: ExprTuple\n",
       "    sub-expressions: 26, 27\n",
       "24. +\n",
       "    core type: Literal\n",
       "    sub-expressions: \n",
       "25. (m, 1)\n",
       "    core type: ExprTuple\n",
       "    sub-expressions: 32, 28\n",
       "26. m in Natural\n",
       "    core type: Operation\n",
       "    operator: 29\n",
       "    operands: 30\n",
       "27. P(m)\n",
       "    core type: Operation\n",
       "    operator: 31\n",
       "    operand: 32\n",
       "28. 1\n",
       "    core type: Literal\n",
       "    sub-expressions: \n",
       "29. in\n",
       "    core type: Literal\n",
       "    sub-expressions: \n",
       "30. (m, Natural)\n",
       "    core type: ExprTuple\n",
       "    sub-expressions: 32, 33\n",
       "31. P\n",
       "    core type: Variable\n",
       "    sub-expressions: \n",
       "32. m\n",
       "    core type: Variable\n",
       "    sub-expressions: \n",
       "33. Natural\n",
       "    core type: Literal\n",
       "    sub-expressions: "
      ]
     },
     "execution_count": 5,
     "metadata": {},
     "output_type": "execute_result"
    }
   ],
   "source": [
    "# display the expression information\n",
    "expr.expr_info()"
   ]
  },
  {
   "cell_type": "code",
   "execution_count": null,
   "metadata": {},
   "outputs": [],
   "source": []
  }
 ],
 "metadata": {
  "kernelspec": {
   "display_name": "Python 3",
   "language": "python",
   "name": "python3"
  }
 },
 "nbformat": 4,
 "nbformat_minor": 0
}