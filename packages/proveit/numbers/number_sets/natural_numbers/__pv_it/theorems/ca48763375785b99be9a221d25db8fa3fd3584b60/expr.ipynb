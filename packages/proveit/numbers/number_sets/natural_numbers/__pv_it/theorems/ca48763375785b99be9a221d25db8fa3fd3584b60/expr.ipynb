{
 "cells": [
  {
   "cell_type": "markdown",
   "metadata": {},
   "source": [
    "Expression of type <a class=\"ProveItLink\" href=\"../../../../../../../../doc/html/api/proveit.ExprTuple.html\">ExprTuple</a>\n",
    "=======================\n",
    "# from the theory of <a class=\"ProveItLink\" href=\"../../../_theory_nbs_/theory.ipynb\">proveit.numbers.number_sets.natural_numbers</a>"
   ]
  },
  {
   "cell_type": "code",
   "execution_count": 1,
   "metadata": {},
   "outputs": [],
   "source": [
    "import proveit\n",
    "# Automation is not needed when building an expression:\n",
    "proveit.defaults.automation = False # This will speed things up.\n",
    "proveit.defaults.inline_pngs = False # Makes files smaller.\n",
    "%load_expr # Load the stored expression as 'stored_expr'\n",
    "# import Expression classes needed to build the expression\n",
    "from proveit import ExprTuple, m\n",
    "from proveit.logic import Forall\n",
    "from proveit.numbers import NaturalPos, P_mAddOne, Pm, Pone"
   ]
  },
  {
   "cell_type": "code",
   "execution_count": 2,
   "metadata": {},
   "outputs": [
    {
     "data": {
      "text/html": [
       "<strong id=\"expr\">expr:</strong> <a class=\"ProveItLink\" href=\"expr.ipynb\"><img src=\"expr.png\" style=\"display:inline;vertical-align:middle;\" /></a><br>"
      ],
      "text/plain": [
       "expr: (P(1), forall_{m in NaturalPos | P(m)} P(m + 1))"
      ]
     },
     "execution_count": 2,
     "metadata": {},
     "output_type": "execute_result"
    }
   ],
   "source": [
    "# build up the expression from sub-expressions\n",
    "expr = ExprTuple(Pone, Forall([m], P_mAddOne, domains = [NaturalPos], condition = Pm))"
   ]
  },
  {
   "cell_type": "code",
   "execution_count": 3,
   "metadata": {},
   "outputs": [
    {
     "name": "stdout",
     "output_type": "stream",
     "text": [
      "Passed sanity check: expr matches stored_expr\n"
     ]
    }
   ],
   "source": [
    "# check that the built expression is the same as the stored expression\n",
    "assert expr == stored_expr\n",
    "assert expr._style_id == stored_expr._style_id\n",
    "print(\"Passed sanity check: expr matches stored_expr\")"
   ]
  },
  {
   "cell_type": "code",
   "execution_count": 4,
   "metadata": {},
   "outputs": [
    {
     "name": "stdout",
     "output_type": "stream",
     "text": [
      "\\left(P(1), \\forall_{m \\in \\mathbb{N}^+~|~P(m)}~P(m + 1)\\right)\n"
     ]
    }
   ],
   "source": [
    "# Show the LaTeX representation of the expression for convenience if you need it.\n",
    "print(expr.latex())"
   ]
  },
  {
   "cell_type": "code",
   "execution_count": 5,
   "metadata": {},
   "outputs": [
    {
     "data": {
      "text/html": [
       "<table>\n",
       "<tr><th>name</th><th>description</th><th>default</th><th>current value</th><th>related methods</th></tr><tr><td>wrap_positions</td><td>position(s) at which wrapping is to occur; 'n' is after the nth comma.</td><td>()</td><td>()</td><td>('with_wrapping_at',)</td></tr>\n",
       "<tr><td>justification</td><td>if any wrap positions are set, justify to the 'left', 'center', or 'right'</td><td>left</td><td>left</td><td>('with_justification',)</td></tr>\n",
       "</table>\n"
      ],
      "text/plain": [
       "style name: wrap_positions\n",
       "description: position(s) at which wrapping is to occur; 'n' is after the nth comma.\n",
       "default: ()\n",
       "current value: ()\n",
       "related methods: ('with_wrapping_at',)\n",
       "style name: justification\n",
       "description: if any wrap positions are set, justify to the 'left', 'center', or 'right'\n",
       "default: left\n",
       "current value: left\n",
       "related methods: ('with_justification',)"
      ]
     },
     "execution_count": 5,
     "metadata": {},
     "output_type": "execute_result"
    }
   ],
   "source": [
    "expr.style_options()"
   ]
  },
  {
   "cell_type": "code",
   "execution_count": 6,
   "metadata": {},
   "outputs": [
    {
     "data": {
      "text/html": [
       "<table><tr><th>&nbsp;</th><th>core type</th><th>sub-expressions</th><th>expression</th></tr>\n",
       "<tr><td>0</td><td>ExprTuple</td><td>1, 2</td><td><a class=\"ProveItLink\" href=\"expr.ipynb\"><img src=\"expr.png\" style=\"display:inline;vertical-align:middle;\" /></a></td></tr>\n",
       "<tr><td>1</td><td>Operation</td><td>operator:&nbsp;20<br>operand:&nbsp;22<br></td><td><a class=\"ProveItLink\" href=\"../../../../../__pv_it/common/57e004abeb0d668c9c9f6c46aad51902484fb0770/expr.ipynb\"><img src=\"../../../../../__pv_it/common/57e004abeb0d668c9c9f6c46aad51902484fb0770/expr.png\" style=\"display:inline;vertical-align:middle;\" /></a></td></tr>\n",
       "<tr><td>2</td><td>Operation</td><td>operator:&nbsp;4<br>operand:&nbsp;6<br></td><td><a class=\"ProveItLink\" href=\"../0bf6a4f9f11ec44f4ad64671ab6bf007548bf2560/expr.ipynb\"><img src=\"../0bf6a4f9f11ec44f4ad64671ab6bf007548bf2560/expr.png\" style=\"display:inline;vertical-align:middle;\" /></a></td></tr>\n",
       "<tr><td>3</td><td>ExprTuple</td><td>22</td><td><a class=\"ProveItLink\" href=\"../../../../../__pv_it/common/983fb1abdb7789966ec8b7afe0d4f7ca8578c9e50/expr.ipynb\"><img src=\"../../../../../__pv_it/common/983fb1abdb7789966ec8b7afe0d4f7ca8578c9e50/expr.png\" style=\"display:inline;vertical-align:middle;\" /></a></td></tr>\n",
       "<tr><td>4</td><td>Literal</td><td></td><td><a class=\"ProveItLink\" href=\"../../../../../../logic/booleans/quantification/universality/__pv_it/common/684d35ba98fcbf8ca5011f865e530a51e77730630/expr.ipynb\"><img src=\"../../../../../../logic/booleans/quantification/universality/__pv_it/common/684d35ba98fcbf8ca5011f865e530a51e77730630/expr.png\" style=\"display:inline;vertical-align:middle;\" /></a></td></tr>\n",
       "<tr><td>5</td><td>ExprTuple</td><td>6</td><td><a class=\"ProveItLink\" href=\"../18511fc42c66536f41f1d892162fa34d3ee3ae8d0/expr.ipynb\"><img src=\"../18511fc42c66536f41f1d892162fa34d3ee3ae8d0/expr.png\" style=\"display:inline;vertical-align:middle;\" /></a></td></tr>\n",
       "<tr><td>6</td><td>Lambda</td><td>parameter:&nbsp;24<br>body:&nbsp;7<br></td><td><a class=\"ProveItLink\" href=\"../8d17717e37ed8ee5e53b08b9879f6c1e999840600/expr.ipynb\"><img src=\"../8d17717e37ed8ee5e53b08b9879f6c1e999840600/expr.png\" style=\"display:inline;vertical-align:middle;\" /></a></td></tr>\n",
       "<tr><td>7</td><td>Conditional</td><td>value:&nbsp;8<br>condition:&nbsp;9<br></td><td><a class=\"ProveItLink\" href=\"../29b6fdb6ec0a8a3afd64fa28695e51ce7e1306750/expr.ipynb\"><img src=\"../29b6fdb6ec0a8a3afd64fa28695e51ce7e1306750/expr.png\" style=\"display:inline;vertical-align:middle;\" /></a></td></tr>\n",
       "<tr><td>8</td><td>Operation</td><td>operator:&nbsp;20<br>operand:&nbsp;13<br></td><td><a class=\"ProveItLink\" href=\"../../../../../__pv_it/common/ad0ee4b2a817ee1cb0622430751bd3a6a29aa70e0/expr.ipynb\"><img src=\"../../../../../__pv_it/common/ad0ee4b2a817ee1cb0622430751bd3a6a29aa70e0/expr.png\" style=\"display:inline;vertical-align:middle;\" /></a></td></tr>\n",
       "<tr><td>9</td><td>Operation</td><td>operator:&nbsp;11<br>operands:&nbsp;12<br></td><td><a class=\"ProveItLink\" href=\"../e5ae2f5b8d44f54e12a00b9f815a6ab321ea17d70/expr.ipynb\"><img src=\"../e5ae2f5b8d44f54e12a00b9f815a6ab321ea17d70/expr.png\" style=\"display:inline;vertical-align:middle;\" /></a></td></tr>\n",
       "<tr><td>10</td><td>ExprTuple</td><td>13</td><td><a class=\"ProveItLink\" href=\"../../../../../__pv_it/common/453059dd5ffbe49150930401a4d14800bfeb9b880/expr.ipynb\"><img src=\"../../../../../__pv_it/common/453059dd5ffbe49150930401a4d14800bfeb9b880/expr.png\" style=\"display:inline;vertical-align:middle;\" /></a></td></tr>\n",
       "<tr><td>11</td><td>Literal</td><td></td><td><a class=\"ProveItLink\" href=\"../../../../../../logic/booleans/conjunction/__pv_it/common/26b94b53e70b1d77b70f0d9d4236347db37731060/expr.ipynb\"><img src=\"../../../../../../logic/booleans/conjunction/__pv_it/common/26b94b53e70b1d77b70f0d9d4236347db37731060/expr.png\" style=\"display:inline;vertical-align:middle;\" /></a></td></tr>\n",
       "<tr><td>12</td><td>ExprTuple</td><td>14, 15</td><td><a class=\"ProveItLink\" href=\"../bdc7aac9d1ecab70b72122d42d48732ee3bc4a9c0/expr.ipynb\"><img src=\"../bdc7aac9d1ecab70b72122d42d48732ee3bc4a9c0/expr.png\" style=\"display:inline;vertical-align:middle;\" /></a></td></tr>\n",
       "<tr><td>13</td><td>Operation</td><td>operator:&nbsp;16<br>operands:&nbsp;17<br></td><td><a class=\"ProveItLink\" href=\"../../../../../__pv_it/common/efd1d07d2fb8417de5db55be233e5799d8cec0b20/expr.ipynb\"><img src=\"../../../../../__pv_it/common/efd1d07d2fb8417de5db55be233e5799d8cec0b20/expr.png\" style=\"display:inline;vertical-align:middle;\" /></a></td></tr>\n",
       "<tr><td>14</td><td>Operation</td><td>operator:&nbsp;18<br>operands:&nbsp;19<br></td><td><a class=\"ProveItLink\" href=\"../3b21f44c33a0a353db2d1dd5dc2aa7f39934f4730/expr.ipynb\"><img src=\"../3b21f44c33a0a353db2d1dd5dc2aa7f39934f4730/expr.png\" style=\"display:inline;vertical-align:middle;\" /></a></td></tr>\n",
       "<tr><td>15</td><td>Operation</td><td>operator:&nbsp;20<br>operand:&nbsp;24<br></td><td><a class=\"ProveItLink\" href=\"../../../../../__pv_it/common/bef104b5f73bf1bc3980ef616590a3141b5cad670/expr.ipynb\"><img src=\"../../../../../__pv_it/common/bef104b5f73bf1bc3980ef616590a3141b5cad670/expr.png\" style=\"display:inline;vertical-align:middle;\" /></a></td></tr>\n",
       "<tr><td>16</td><td>Literal</td><td></td><td><a class=\"ProveItLink\" href=\"../../../../../addition/__pv_it/common/1f38fe5cce441387feef296e2c0a2eac260bb4f30/expr.ipynb\"><img src=\"../../../../../addition/__pv_it/common/1f38fe5cce441387feef296e2c0a2eac260bb4f30/expr.png\" style=\"display:inline;vertical-align:middle;\" /></a></td></tr>\n",
       "<tr><td>17</td><td>ExprTuple</td><td>24, 22</td><td><a class=\"ProveItLink\" href=\"../../../../../__pv_it/common/03a40d63027ce00fe578e986fa3bc5aefc3f8df10/expr.ipynb\"><img src=\"../../../../../__pv_it/common/03a40d63027ce00fe578e986fa3bc5aefc3f8df10/expr.png\" style=\"display:inline;vertical-align:middle;\" /></a></td></tr>\n",
       "<tr><td>18</td><td>Literal</td><td></td><td><a class=\"ProveItLink\" href=\"../../../../../../logic/sets/membership/__pv_it/common/7171deca84f71f47a6ec7696972d1632274a12880/expr.ipynb\"><img src=\"../../../../../../logic/sets/membership/__pv_it/common/7171deca84f71f47a6ec7696972d1632274a12880/expr.png\" style=\"display:inline;vertical-align:middle;\" /></a></td></tr>\n",
       "<tr><td>19</td><td>ExprTuple</td><td>24, 23</td><td><a class=\"ProveItLink\" href=\"../2ef0539d68697845682d6e019421ae2d6c28df770/expr.ipynb\"><img src=\"../2ef0539d68697845682d6e019421ae2d6c28df770/expr.png\" style=\"display:inline;vertical-align:middle;\" /></a></td></tr>\n",
       "<tr><td>20</td><td>Variable</td><td></td><td><a class=\"ProveItLink\" href=\"../../../../../../__pv_it/common/d5fc3066299847984076662ce51556220bdb6cfb0/expr.ipynb\"><img src=\"../../../../../../__pv_it/common/d5fc3066299847984076662ce51556220bdb6cfb0/expr.png\" style=\"display:inline;vertical-align:middle;\" /></a></td></tr>\n",
       "<tr><td>21</td><td>ExprTuple</td><td>24</td><td><a class=\"ProveItLink\" href=\"../../../../../__pv_it/common/171614936930805ced9a565da5da156e114e39210/expr.ipynb\"><img src=\"../../../../../__pv_it/common/171614936930805ced9a565da5da156e114e39210/expr.png\" style=\"display:inline;vertical-align:middle;\" /></a></td></tr>\n",
       "<tr><td>22</td><td>Literal</td><td></td><td><a class=\"ProveItLink\" href=\"../../../../../numerals/__pv_it/common/d278e359da0695d9652dd541d45264f93703e2e40/expr.ipynb\"><img src=\"../../../../../numerals/__pv_it/common/d278e359da0695d9652dd541d45264f93703e2e40/expr.png\" style=\"display:inline;vertical-align:middle;\" /></a></td></tr>\n",
       "<tr><td>23</td><td>Literal</td><td></td><td><a class=\"ProveItLink\" href=\"../../common/a2a7252783c385c028dad802e97575c19e456b990/expr.ipynb\"><img src=\"../../common/a2a7252783c385c028dad802e97575c19e456b990/expr.png\" style=\"display:inline;vertical-align:middle;\" /></a></td></tr>\n",
       "<tr><td>24</td><td>Variable</td><td></td><td><a class=\"ProveItLink\" href=\"../../../../../../__pv_it/common/2dc4f15b3407a25e8d70754a86bf74f1871f92650/expr.ipynb\"><img src=\"../../../../../../__pv_it/common/2dc4f15b3407a25e8d70754a86bf74f1871f92650/expr.png\" style=\"display:inline;vertical-align:middle;\" /></a></td></tr>\n",
       "</table>\n"
      ],
      "text/plain": [
       "0. (P(1), forall_{m in NaturalPos | P(m)} P(m + 1))\n",
       "   core type: ExprTuple\n",
       "   sub-expressions: 1, 2\n",
       "1. P(1)\n",
       "   core type: Operation\n",
       "   operator: 20\n",
       "   operand: 22\n",
       "2. forall_{m in NaturalPos | P(m)} P(m + 1)\n",
       "   core type: Operation\n",
       "   operator: 4\n",
       "   operand: 6\n",
       "3. (1)\n",
       "   core type: ExprTuple\n",
       "   sub-expressions: 22\n",
       "4. forall\n",
       "   core type: Literal\n",
       "   sub-expressions: \n",
       "5. (m -> {P(m + 1) if m in NaturalPos ,  P(m).)\n",
       "   core type: ExprTuple\n",
       "   sub-expressions: 6\n",
       "6. m -> {P(m + 1) if m in NaturalPos ,  P(m).\n",
       "   core type: Lambda\n",
       "   parameter: 24\n",
       "   body: 7\n",
       "7. {P(m + 1) if m in NaturalPos ,  P(m).\n",
       "   core type: Conditional\n",
       "   value: 8\n",
       "   condition: 9\n",
       "8. P(m + 1)\n",
       "   core type: Operation\n",
       "   operator: 20\n",
       "   operand: 13\n",
       "9. (m in NaturalPos) and P(m)\n",
       "   core type: Operation\n",
       "   operator: 11\n",
       "   operands: 12\n",
       "10. (m + 1)\n",
       "    core type: ExprTuple\n",
       "    sub-expressions: 13\n",
       "11. and\n",
       "    core type: Literal\n",
       "    sub-expressions: \n",
       "12. (m in NaturalPos, P(m))\n",
       "    core type: ExprTuple\n",
       "    sub-expressions: 14, 15\n",
       "13. m + 1\n",
       "    core type: Operation\n",
       "    operator: 16\n",
       "    operands: 17\n",
       "14. m in NaturalPos\n",
       "    core type: Operation\n",
       "    operator: 18\n",
       "    operands: 19\n",
       "15. P(m)\n",
       "    core type: Operation\n",
       "    operator: 20\n",
       "    operand: 24\n",
       "16. +\n",
       "    core type: Literal\n",
       "    sub-expressions: \n",
       "17. (m, 1)\n",
       "    core type: ExprTuple\n",
       "    sub-expressions: 24, 22\n",
       "18. in\n",
       "    core type: Literal\n",
       "    sub-expressions: \n",
       "19. (m, NaturalPos)\n",
       "    core type: ExprTuple\n",
       "    sub-expressions: 24, 23\n",
       "20. P\n",
       "    core type: Variable\n",
       "    sub-expressions: \n",
       "21. (m)\n",
       "    core type: ExprTuple\n",
       "    sub-expressions: 24\n",
       "22. 1\n",
       "    core type: Literal\n",
       "    sub-expressions: \n",
       "23. NaturalPos\n",
       "    core type: Literal\n",
       "    sub-expressions: \n",
       "24. m\n",
       "    core type: Variable\n",
       "    sub-expressions: "
      ]
     },
     "execution_count": 6,
     "metadata": {},
     "output_type": "execute_result"
    }
   ],
   "source": [
    "# display the expression information\n",
    "expr.expr_info()"
   ]
  },
  {
   "cell_type": "code",
   "execution_count": null,
   "metadata": {},
   "outputs": [],
   "source": []
  }
 ],
 "metadata": {
  "kernelspec": {
   "display_name": "Python 3",
   "language": "python",
   "name": "python3"
  }
 },
 "nbformat": 4,
 "nbformat_minor": 0
}