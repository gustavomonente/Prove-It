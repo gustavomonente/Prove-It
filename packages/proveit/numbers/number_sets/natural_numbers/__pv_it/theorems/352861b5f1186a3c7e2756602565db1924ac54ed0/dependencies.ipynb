{
 "cells": [
  {
   "cell_type": "markdown",
   "metadata": {},
   "source": [
    "Theorem Dependencies\n",
    "=======================\n",
    "\n",
    "## <a class=\"ProveItLink\" href=\"../../../_theory_nbs_/theory.ipynb\">proveit.numbers.number_sets.natural_numbers</a>.<a class=\"ProveItLink\" href=\"../../../_theorems_.ipynb#nat_pos_within_nat\">nat_pos_within_nat</a> \n",
    "***see <a class=\"ProveItLink\" href=\"../../../_theory_nbs_/proofs/nat_pos_within_nat/thm_proof.ipynb\">proof</a>***"
   ]
  },
  {
   "cell_type": "code",
   "execution_count": 1,
   "metadata": {},
   "outputs": [],
   "source": [
    "import proveit\n",
    "# Automation is not needed when querying dependencies:\n",
    "proveit.defaults.automation = False # This will speed things up.\n",
    "proveit.defaults.inline_pngs = False # Makes files smaller.\n",
    "from proveit.numbers.number_sets.natural_numbers import nat_pos_within_nat"
   ]
  },
  {
   "cell_type": "code",
   "execution_count": 2,
   "metadata": {},
   "outputs": [
    {
     "data": {
      "text/html": [
       "<h3>This theorem has not been proven yet.</h3>"
      ],
      "text/plain": [
       "<IPython.core.display.HTML object>"
      ]
     },
     "metadata": {},
     "output_type": "display_data"
    },
    {
     "data": {
      "text/html": [
       "<h3>Theorems/conjectures that depend directly on nat_pos_within_nat</h3>"
      ],
      "text/plain": [
       "<IPython.core.display.HTML object>"
      ]
     },
     "metadata": {},
     "output_type": "display_data"
    },
    {
     "data": {
      "text/html": [
       "<dl>"
      ],
      "text/plain": [
       "<IPython.core.display.HTML object>"
      ]
     },
     "metadata": {},
     "output_type": "display_data"
    },
    {
     "data": {
      "text/html": [
       "<dt><a class=\"ProveItLink\" href=\"../../../../../../core_expr_types/tuples/_theory_nbs_/proofs/tuple_eq_via_elem_eq/thm_proof.ipynb\">proveit.core_expr_types.tuples.tuple_eq_via_elem_eq</a></dt><dd><a class=\"ProveItLink\" href=\"../../../../../../core_expr_types/tuples/__pv_it/theorems/b236f0e28657e92c0fd2f0f7de81efb42f320fc60/expr.ipynb\"><img src=\"../../../../../../core_expr_types/tuples/__pv_it/theorems/b236f0e28657e92c0fd2f0f7de81efb42f320fc60/expr.png\" style=\"display:inline;vertical-align:middle;\" /></a></dd>"
      ],
      "text/plain": [
       "<IPython.core.display.HTML object>"
      ]
     },
     "metadata": {},
     "output_type": "display_data"
    },
    {
     "data": {
      "text/html": [
       "<dt><a class=\"ProveItLink\" href=\"../../../../../../logic/booleans/conjunction/_theory_nbs_/proofs/nand_if_not_left/thm_proof.ipynb\">proveit.logic.booleans.conjunction.nand_if_not_left</a></dt><dd><a class=\"ProveItLink\" href=\"../../../../../../logic/booleans/conjunction/__pv_it/theorems/dbc30e0cbe1981a8c2dc71c97226e4293fc209fd0/expr.ipynb\"><img src=\"../../../../../../logic/booleans/conjunction/__pv_it/theorems/dbc30e0cbe1981a8c2dc71c97226e4293fc209fd0/expr.png\" style=\"display:inline;vertical-align:middle;\" /></a></dd>"
      ],
      "text/plain": [
       "<IPython.core.display.HTML object>"
      ]
     },
     "metadata": {},
     "output_type": "display_data"
    },
    {
     "data": {
      "text/html": [
       "<dt><a class=\"ProveItLink\" href=\"../../../../../../logic/booleans/conjunction/_theory_nbs_/proofs/nand_if_not_right/thm_proof.ipynb\">proveit.logic.booleans.conjunction.nand_if_not_right</a></dt><dd><a class=\"ProveItLink\" href=\"../../../../../../logic/booleans/conjunction/__pv_it/theorems/8215d917ebc66efbe2022d397d346c218061934d0/expr.ipynb\"><img src=\"../../../../../../logic/booleans/conjunction/__pv_it/theorems/8215d917ebc66efbe2022d397d346c218061934d0/expr.png\" style=\"display:inline;vertical-align:middle;\" /></a></dd>"
      ],
      "text/plain": [
       "<IPython.core.display.HTML object>"
      ]
     },
     "metadata": {},
     "output_type": "display_data"
    },
    {
     "data": {
      "text/html": [
       "<dt><a class=\"ProveItLink\" href=\"../../../../../../logic/booleans/disjunction/_theory_nbs_/proofs/closure/thm_proof.ipynb\">proveit.logic.booleans.disjunction.closure</a></dt><dd><a class=\"ProveItLink\" href=\"../../../../../../logic/booleans/disjunction/__pv_it/theorems/25de9e8a8e40144c752cc4b0632b599b0f8d7c170/expr.ipynb\"><img src=\"../../../../../../logic/booleans/disjunction/__pv_it/theorems/25de9e8a8e40144c752cc4b0632b599b0f8d7c170/expr.png\" style=\"display:inline;vertical-align:middle;\" /></a></dd>"
      ],
      "text/plain": [
       "<IPython.core.display.HTML object>"
      ]
     },
     "metadata": {},
     "output_type": "display_data"
    },
    {
     "data": {
      "text/html": [
       "<dt><a class=\"ProveItLink\" href=\"../../../../../../logic/booleans/disjunction/_theory_nbs_/proofs/demorgans_law_and_to_or_bin_explicit/thm_proof.ipynb\">proveit.logic.booleans.disjunction.demorgans_law_and_to_or_bin_explicit</a></dt><dd><a class=\"ProveItLink\" href=\"../../../../../../logic/booleans/disjunction/__pv_it/theorems/919bc5525c4623420b52df2eadc0ead5b438a4f40/expr.ipynb\"><img src=\"../../../../../../logic/booleans/disjunction/__pv_it/theorems/919bc5525c4623420b52df2eadc0ead5b438a4f40/expr.png\" style=\"display:inline;vertical-align:middle;\" /></a></dd>"
      ],
      "text/plain": [
       "<IPython.core.display.HTML object>"
      ]
     },
     "metadata": {},
     "output_type": "display_data"
    },
    {
     "data": {
      "text/html": [
       "<dt><a class=\"ProveItLink\" href=\"../../../../../../logic/booleans/implication/_theory_nbs_/proofs/eq_from_mutual_impl/thm_proof.ipynb\">proveit.logic.booleans.implication.eq_from_mutual_impl</a></dt><dd><a class=\"ProveItLink\" href=\"../../../../../../logic/booleans/implication/__pv_it/theorems/63ed7b17840d14ea86dd675463e3398bc30ccd1c0/expr.ipynb\"><img src=\"../../../../../../logic/booleans/implication/__pv_it/theorems/63ed7b17840d14ea86dd675463e3398bc30ccd1c0/expr.png\" style=\"display:inline;vertical-align:middle;\" /></a></dd>"
      ],
      "text/plain": [
       "<IPython.core.display.HTML object>"
      ]
     },
     "metadata": {},
     "output_type": "display_data"
    },
    {
     "data": {
      "text/html": [
       "<dt><a class=\"ProveItLink\" href=\"../../../../../../logic/booleans/quantification/existence/_theory_nbs_/proofs/exists_unfolding/thm_proof.ipynb\">proveit.logic.booleans.quantification.existence.exists_unfolding</a></dt><dd><a class=\"ProveItLink\" href=\"../../../../../../logic/booleans/quantification/existence/__pv_it/theorems/18a784345c279ba7bfb70469e9ba35e640a67edb0/expr.ipynb\"><img src=\"../../../../../../logic/booleans/quantification/existence/__pv_it/theorems/18a784345c279ba7bfb70469e9ba35e640a67edb0/expr.png\" style=\"display:inline;vertical-align:middle;\" /></a></dd>"
      ],
      "text/plain": [
       "<IPython.core.display.HTML object>"
      ]
     },
     "metadata": {},
     "output_type": "display_data"
    },
    {
     "data": {
      "text/html": [
       "<dt><a class=\"ProveItLink\" href=\"../../../../../../logic/booleans/quantification/existence/_theory_nbs_/proofs/skolem_elim_lemma/thm_proof.ipynb\">proveit.logic.booleans.quantification.existence.skolem_elim_lemma</a></dt><dd><a class=\"ProveItLink\" href=\"../../../../../../logic/booleans/quantification/existence/__pv_it/theorems/df651135730fed023128ee906e5246013d80c4d40/expr.ipynb\"><img src=\"../../../../../../logic/booleans/quantification/existence/__pv_it/theorems/df651135730fed023128ee906e5246013d80c4d40/expr.png\" style=\"display:inline;vertical-align:middle;\" /></a></dd>"
      ],
      "text/plain": [
       "<IPython.core.display.HTML object>"
      ]
     },
     "metadata": {},
     "output_type": "display_data"
    },
    {
     "data": {
      "text/html": [
       "<dt><a class=\"ProveItLink\" href=\"../../../../../../logic/booleans/quantification/universality/_theory_nbs_/proofs/forall_with_conditions__is_bool/thm_proof.ipynb\">proveit.logic.booleans.quantification.universality.forall_with_conditions__is_bool</a></dt><dd><a class=\"ProveItLink\" href=\"../../../../../../logic/booleans/quantification/universality/__pv_it/theorems/3ef0ec2d50b5f26d1b9216834a2058741546cd260/expr.ipynb\"><img src=\"../../../../../../logic/booleans/quantification/universality/__pv_it/theorems/3ef0ec2d50b5f26d1b9216834a2058741546cd260/expr.png\" style=\"display:inline;vertical-align:middle;\" /></a></dd>"
      ],
      "text/plain": [
       "<IPython.core.display.HTML object>"
      ]
     },
     "metadata": {},
     "output_type": "display_data"
    },
    {
     "data": {
      "text/html": [
       "<dt><a class=\"ProveItLink\" href=\"../../../../../../logic/equality/_theory_nbs_/proofs/multi_substitution/thm_proof.ipynb\">proveit.logic.equality.multi_substitution</a></dt><dd><a class=\"ProveItLink\" href=\"../../../../../../logic/equality/__pv_it/theorems/e0b40e43e4996f8f5c21867bf0fbb8dec2c3e6630/expr.ipynb\"><img src=\"../../../../../../logic/equality/__pv_it/theorems/e0b40e43e4996f8f5c21867bf0fbb8dec2c3e6630/expr.png\" style=\"display:inline;vertical-align:middle;\" /></a></dd>"
      ],
      "text/plain": [
       "<IPython.core.display.HTML object>"
      ]
     },
     "metadata": {},
     "output_type": "display_data"
    },
    {
     "data": {
      "text/html": [
       "<dt><a class=\"ProveItLink\" href=\"../../../../../exponentiation/_theory_nbs_/proofs/sqrt2_is_not_rational/thm_proof.ipynb\">proveit.numbers.exponentiation.sqrt2_is_not_rational</a></dt><dd><a class=\"ProveItLink\" href=\"../../../../../exponentiation/__pv_it/theorems/7fae0196da015b8256d13b37a10b8319c493434a0/expr.ipynb\"><img src=\"../../../../../exponentiation/__pv_it/theorems/7fae0196da015b8256d13b37a10b8319c493434a0/expr.png\" style=\"display:inline;vertical-align:middle;\" /></a></dd>"
      ],
      "text/plain": [
       "<IPython.core.display.HTML object>"
      ]
     },
     "metadata": {},
     "output_type": "display_data"
    },
    {
     "data": {
      "text/html": [
       "<dt><a class=\"ProveItLink\" href=\"../../../../../../physics/quantum/QPE/_theory_nbs_/proofs/mod_add_closure/thm_proof.ipynb\">proveit.physics.quantum.QPE.mod_add_closure</a></dt><dd><a class=\"ProveItLink\" href=\"../../../../../../physics/quantum/QPE/__pv_it/theorems/1ec28ab4d6d27504775609cb7ca85457242a6d970/expr.ipynb\"><img src=\"../../../../../../physics/quantum/QPE/__pv_it/theorems/1ec28ab4d6d27504775609cb7ca85457242a6d970/expr.png\" style=\"display:inline;vertical-align:middle;\" /></a></dd>"
      ],
      "text/plain": [
       "<IPython.core.display.HTML object>"
      ]
     },
     "metadata": {},
     "output_type": "display_data"
    },
    {
     "data": {
      "text/html": [
       "<dt><a class=\"ProveItLink\" href=\"../../../../../../physics/quantum/QPE/_theory_nbs_/proofs/two_pow_t_is_nat_pos/thm_proof.ipynb\">proveit.physics.quantum.QPE.two_pow_t_is_nat_pos</a></dt><dd><a class=\"ProveItLink\" href=\"../../../../../../physics/quantum/QPE/__pv_it/theorems/0c72b1b7dd7a6f654f98c5c10825c86c7348e1590/expr.ipynb\"><img src=\"../../../../../../physics/quantum/QPE/__pv_it/theorems/0c72b1b7dd7a6f654f98c5c10825c86c7348e1590/expr.png\" style=\"display:inline;vertical-align:middle;\" /></a></dd>"
      ],
      "text/plain": [
       "<IPython.core.display.HTML object>"
      ]
     },
     "metadata": {},
     "output_type": "display_data"
    },
    {
     "data": {
      "text/html": [
       "<dt><a class=\"ProveItLink\" href=\"../../../../../../physics/quantum/QPE/_theory_nbs_/proofs/two_pow_t_less_one_is_nat_pos/thm_proof.ipynb\">proveit.physics.quantum.QPE.two_pow_t_less_one_is_nat_pos</a></dt><dd><a class=\"ProveItLink\" href=\"../../../../../../physics/quantum/QPE/__pv_it/theorems/ba0a41e6581c1bf434d840f827a3faa9badbfde20/expr.ipynb\"><img src=\"../../../../../../physics/quantum/QPE/__pv_it/theorems/ba0a41e6581c1bf434d840f827a3faa9badbfde20/expr.png\" style=\"display:inline;vertical-align:middle;\" /></a></dd>"
      ],
      "text/plain": [
       "<IPython.core.display.HTML object>"
      ]
     },
     "metadata": {},
     "output_type": "display_data"
    },
    {
     "data": {
      "text/html": [
       "<dt><a class=\"ProveItLink\" href=\"../../../../../../physics/quantum/QPE/_theory_nbs_/proofs/two_pow_t_minus_one_is_nat_pos/thm_proof.ipynb\">proveit.physics.quantum.QPE.two_pow_t_minus_one_is_nat_pos</a></dt><dd><a class=\"ProveItLink\" href=\"../../../../../../physics/quantum/QPE/__pv_it/theorems/916794855ffd59a1d3f3b1a654b66461654d43850/expr.ipynb\"><img src=\"../../../../../../physics/quantum/QPE/__pv_it/theorems/916794855ffd59a1d3f3b1a654b66461654d43850/expr.png\" style=\"display:inline;vertical-align:middle;\" /></a></dd>"
      ],
      "text/plain": [
       "<IPython.core.display.HTML object>"
      ]
     },
     "metadata": {},
     "output_type": "display_data"
    },
    {
     "data": {
      "text/html": [
       "<dt><a class=\"ProveItLink\" href=\"../../../../../../physics/quantum/QPE/_theory_nbs_/proofs/two_pow_t_not_zero/thm_proof.ipynb\">proveit.physics.quantum.QPE.two_pow_t_not_zero</a></dt><dd><a class=\"ProveItLink\" href=\"../../../../../../physics/quantum/QPE/__pv_it/theorems/fb512b73917f83a46c3fe07daada230234c7c4de0/expr.ipynb\"><img src=\"../../../../../../physics/quantum/QPE/__pv_it/theorems/fb512b73917f83a46c3fe07daada230234c7c4de0/expr.png\" style=\"display:inline;vertical-align:middle;\" /></a></dd>"
      ],
      "text/plain": [
       "<IPython.core.display.HTML object>"
      ]
     },
     "metadata": {},
     "output_type": "display_data"
    },
    {
     "data": {
      "text/html": [
       "</dl>"
      ],
      "text/plain": [
       "<IPython.core.display.HTML object>"
      ]
     },
     "metadata": {},
     "output_type": "display_data"
    }
   ],
   "source": [
    "%dependencies nat_pos_within_nat"
   ]
  }
 ],
 "metadata": {
  "kernelspec": {
   "display_name": "Python 3",
   "language": "python",
   "name": "python3"
  }
 },
 "nbformat": 4,
 "nbformat_minor": 0
}