{
 "cells": [
  {
   "cell_type": "markdown",
   "metadata": {},
   "source": [
    "Proof of <a class=\"ProveItLink\" href=\"../../../../../_theory_.ipynb\">proveit</a>.<a class=\"ProveItLink\" href=\"../../../../_theory_.ipynb\">numbers</a>.<a class=\"ProveItLink\" href=\"../../../_theory_.ipynb\">number_sets</a>.<a class=\"ProveItLink\" href=\"../../_theory_.ipynb\">natural_numbers</a>.<a class=\"ProveItLink\" href=\"../../_theorems_.ipynb#xInNatInBool\">xInNatInBool</a> theorem\n",
    "========"
   ]
  },
  {
   "cell_type": "code",
   "execution_count": null,
   "metadata": {},
   "outputs": [],
   "source": [
    "import proveit\n",
    "from proveit._common_ import k, l, n, x\n",
    "from proveit.numbers import Natural, NaturalPos\n",
    "from proveit.numbers import zero, one\n",
    "from proveit.logic import InSet\n",
    "#from proveit.numbers.number_sets.integers._axioms_ import naturalsDef\n",
    "#from proveit.numbers.numerals.decimals._theorems_ import posnat1\n",
    "from proveit.logic.booleans.quantification.universal._axioms_ import forall_in_bool\n",
    "theory = proveit.Theory() # the theorem's theory"
   ]
  },
  {
   "cell_type": "markdown",
   "metadata": {},
   "source": [
    "### Must be updated to use Peano's axioms"
   ]
  },
  {
   "cell_type": "code",
   "execution_count": null,
   "metadata": {},
   "outputs": [],
   "source": [
    "%proving xInNatInBool"
   ]
  },
  {
   "cell_type": "code",
   "execution_count": null,
   "metadata": {},
   "outputs": [],
   "source": [
    "# naturalsDef\n",
    "\n",
    "# naturalsDefInst = naturalsDef.instantiate({n:x, x:k})\n",
    "\n",
    "# naturalsDefInst_rhs = naturalsDefInst.rhs\n",
    "\n",
    "# naturalsDefInst_rhs__inbool = naturalsDefInst_rhs.deduceInBool()\n",
    "\n",
    "# naturalsDefInst.subLeftSideInto(naturalsDefInst_rhs__inbool)\n",
    "\n",
    "# %qed"
   ]
  }
 ],
 "metadata": {
  "kernelspec": {
   "display_name": "Python 3",
   "language": "python",
   "name": "python3"
  }
 },
 "nbformat": 4,
 "nbformat_minor": 0
}
