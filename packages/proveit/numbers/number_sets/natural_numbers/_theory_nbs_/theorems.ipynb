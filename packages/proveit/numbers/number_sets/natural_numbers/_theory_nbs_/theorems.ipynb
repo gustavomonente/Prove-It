{
 "cells": [
  {
   "cell_type": "markdown",
   "metadata": {},
   "source": [
    "Theorems (or conjectures) for the theory of <a class=\"ProveItLink\" href=\"theory.ipynb\">proveit.numbers.number_sets.natural_numbers</a>\n",
    "========"
   ]
  },
  {
   "cell_type": "code",
   "execution_count": 1,
   "metadata": {},
   "outputs": [],
   "source": [
    "import proveit\n",
    "# Prepare this notebook for defining the theorems of a theory:\n",
    "%theorems_notebook # Keep this at the top following 'import proveit'.\n",
    "from proveit import Operation\n",
    "from proveit import a, b, m, n, x, P\n",
    "from proveit.logic import And, Equals, NotEquals, Forall, Implies, in_bool, InSet, ProperSubset\n",
    "from proveit.numbers import zero, one, num, frac\n",
    "from proveit.numbers import Natural, NaturalPos, Integer, Interval, Rational, Real, RealPos, Complex\n",
    "from proveit.numbers import Add, subtract, Greater, GreaterEq, Less, LessEq, LessEqOnlySeq\n",
    "from proveit.numbers import Pzero, Pone, Pm, P_mAddOne, Pn"
   ]
  },
  {
   "cell_type": "code",
   "execution_count": 2,
   "metadata": {},
   "outputs": [
    {
     "name": "stdout",
     "output_type": "stream",
     "text": [
      "Defining theorems for theory 'proveit.numbers.number_sets.natural_numbers'\n",
      "Subsequent end-of-cell assignments will define theorems\n",
      "'%end theorems' will finalize the definitions\n"
     ]
    }
   ],
   "source": [
    "%begin theorems"
   ]
  },
  {
   "cell_type": "code",
   "execution_count": 3,
   "metadata": {},
   "outputs": [
    {
     "data": {
      "text/html": [
       "<strong id=\"interval_is_nat\"><a class=\"ProveItLink\" href=\"proofs/interval_is_nat/thm_proof.ipynb\">interval_is_nat</a> (conjecture without proof):<br></strong> <a class=\"ProveItLink\" href=\"../__pv_it/theorems/629cd2e79834f499ade3b8d717ebd980980766070/theorem_expr.ipynb\"><img src=\"data:image/png;base64,iVBORw0KGgoAAAANSUhEUgAAAPEAAAAZBAMAAAAS8tXVAAAAMFBMVEX///8QEBCIiIhmZma6urrM\n",
       "zMxUVFQiIiJERETc3Nzu7u6qqqp2dnaYmJgyMjIAAAAcRTyBAAAAAXRSTlMAQObYZgAAA5JJREFU\n",
       "SMfdlk1oE0EUgF822fztbtODiFHUxUIvIoT2IEiVgFjFH9h6MIiFBrFopUguJShSgx66rQhLwZqL\n",
       "drWgmEMa6kEE0YVepKWytBZKqxLBXirUUirYnpyf3exuN01S6MmBMJmdee+bee/NmwdQvV1PK7DD\n",
       "7XRaq2VZCna+hZL/HflphTlOoeQiHnyrQq7DnaDXDA5nyn38LS8Bf3AXdFHyJP64VIXMF1BXp9ZM\n",
       "risbkkH9EsAoQJ6Ss7jLVCGTBdnajT1T9qu/hxHBA8CLhIxPQo5U0c/YKJO1k287RkJfupeQz6id\n",
       "EEBmrydkYSKXe1I1wr7mcq9rD7SQYyl733CT/3EyryIy/KSx/VeW71YlR2S5T6uZzMQAzncNNohk\n",
       "lDfjw6+MsUlMHqfkToB+U8S3vAXZL0HQGTXtjkjHghcLVigBaLIYXiejrpKfFT4+jcnfKfkkhIsl\n",
       "DeNGn2iJM7ttZF+MRKTNoHudu8OC3eYgUAC20AuhP2SUschw059Af95ScgAYa/u/8L1736xzmQk4\n",
       "Zs8kKThSupdoHriik4wFP5gDTxzC4TUQVoibDyyjZpBfwg/0p4OSeT1gKcD2mXuXA27aC5qdPGVl\n",
       "MjzvIq9vIgO3An6yJmQ/M6u1WeRQEd1vGGlcxPtbbVSRYZHclcuig/yMRUtnZg/FgMwTcrjplmTG\n",
       "LxK0yMja4C1CRCexVW8jw0IQv1RG3u6/hpT0sBs4KO8wMZIpOWli1kEODqFzfNkPUZpJCfmV1GGG\n",
       "LRa0yDjCPBp8VImKphIZ7ZPPWhEGb5Bmb4wl+kWhOELJPB+zk7mjaPWLFGzACNWClDZDosRCgvDc\n",
       "jH4sOhyHz4JkWoDmVPznBPq1GOQIunaeApMkDvImE7Isi5wU0lOOt2oV40RfPZB59gEa7oNGy7Pe\n",
       "JLBmXvCliEWHFmhE3jhLPXJvD9CkvWiQBWSyUSU4j7qI6in46ZnhlOggz2P9kleT/OaZ0XV9lDOW\n",
       "YEHrzJuyp+8TzZ6ly5Gyvc8epeMCZNWAOgc8NpEQB0Fzvc/DEDgnkXni5yi7pocGkFhoAAtaft7i\n",
       "xTCb8WIY27o6dhzaCmw3wj3E0YdSa9JFbgVmis4TcuvhBp2NQpvCRomgRQ5WLNzy7pqEhgKD/Fip\n",
       "JiHzm+8z2O9z+cqg1PpdZE6pvRqqTK5YDQmKiyxsow4LR93fune8AkyXq7cHXVVZe2E79XbyHwzv\n",
       "/eWE8+hsAAAAAElFTkSuQmCC\n",
       "\" style=\"display:inline;vertical-align:middle;\" /></a><br>"
      ],
      "text/plain": [
       "interval_is_nat: forall_{a, b in Natural} [forall_{n in {a...b}} (n in Natural)]"
      ]
     },
     "execution_count": 3,
     "metadata": {},
     "output_type": "execute_result"
    }
   ],
   "source": [
    "interval_is_nat = Forall((a, b), Forall(n, InSet(n, Natural), \n",
    "                                       domain=Interval(a, b)), domain=Natural)"
   ]
  },
  {
   "cell_type": "code",
   "execution_count": 4,
   "metadata": {},
   "outputs": [
    {
     "data": {
      "text/html": [
       "<strong id=\"natural_lower_bound\"><a class=\"ProveItLink\" href=\"proofs/natural_lower_bound/thm_proof.ipynb\">natural_lower_bound</a> (conjecture without proof):<br></strong> <a class=\"ProveItLink\" href=\"../__pv_it/theorems/dfb8c9358fe2ef7c33ede94b2295c004fcb9789c0/theorem_expr.ipynb\"><img src=\"data:image/png;base64,iVBORw0KGgoAAAANSUhEUgAAAHcAAAAUBAMAAABFd79NAAAAMFBMVEX///8QEBCIiIhmZma6urrM\n",
       "zMxUVFQiIiJERETc3Nzu7u6qqqp2dnaYmJgyMjIAAAAcRTyBAAAAAXRSTlMAQObYZgAAAghJREFU\n",
       "OMuVVE1I3FAQ/lY3u+aZ7J72HhHUQw97K5QKEQ9eiooH8SC4lHrwIoItrVBERCTiZVHQIojxpChK\n",
       "QBb0oAa1FBQkRUFKLd1ze1moFgUPzkv2ZX/ciA6EzE++mW/mzQvwqCwGh3boyXLlV8AHbKyy/+Cy\n",
       "E5E0cMKNPwHgWLqgr7wquC02AkZlv5AhBxTAWbGxNyC078AplacsJqBYAeCREqu9P69MAvsmlgH1\n",
       "eG1tPgArD5XaPRPe+z/QYSGmAzeG8TkAXJUE3gzM1GvCMffXHeM/AmtQKEpcpgLANQ5gGxq79T2z\n",
       "vBH5DujToNLEWt25+SINH6Eu5elRC5I1Cvnaj14kOZgq99mopaaiqHJEbP2wGduKWW16ZkgHY1dQ\n",
       "cyLeeFxEWyK34kRFTJ1eMLGrJRX4YNTmEMkzY980f2D7lguWs90Ea+6q5x2QZDIzAky0UZ1F3HGZ\n",
       "yC8FQwP4bSLMz2LqHYFbnFDaW9WMstFbNLCQTWdqc+ygVbokfGDYogwLjYibLOmCYR/mP+KHsaTj\n",
       "VO0kY1X3xxa1WII48ZRx3slbtED6ZBjjBF4UQ+DE2uh0f5bfl4MGShfjKVXeUQKvJaS8yuGuyutZ\n",
       "Jiv+IubwPoOvXD0HLitejAf3UijhFF44qKGRhEd1RPwVK7qSmx+5fChwz5Yla6Ken/IzKE/87N/Q\n",
       "D+AedmGII95pMHkAAAAASUVORK5CYII=\n",
       "\" style=\"display:inline;vertical-align:middle;\" /></a><br>"
      ],
      "text/plain": [
       "natural_lower_bound: forall_{n in Natural} (n >= 0)"
      ]
     },
     "execution_count": 4,
     "metadata": {},
     "output_type": "execute_result"
    }
   ],
   "source": [
    "natural_lower_bound = Forall(n, GreaterEq(n, zero), domain=Natural)"
   ]
  },
  {
   "cell_type": "code",
   "execution_count": 5,
   "metadata": {},
   "outputs": [
    {
     "data": {
      "text/html": [
       "<strong id=\"natural_pos_lower_bound\"><a class=\"ProveItLink\" href=\"proofs/natural_pos_lower_bound/thm_proof.ipynb\">natural_pos_lower_bound</a> (conjecture without proof):<br></strong> <a class=\"ProveItLink\" href=\"../__pv_it/theorems/f516c3b397f8a2554625a3766f023aa8bad5e62a0/theorem_expr.ipynb\"><img src=\"data:image/png;base64,iVBORw0KGgoAAAANSUhEUgAAAIMAAAAUBAMAAABc0JOuAAAAMFBMVEX///8QEBCIiIhmZma6urrM\n",
       "zMxUVFQiIiJERETc3Nzu7u6qqqp2dnaYmJgyMjIAAAAcRTyBAAAAAXRSTlMAQObYZgAAAfpJREFU\n",
       "OMtjYCACzMUttROIH4AYd/GawNWAW45tAgPDaRDjFV4j+CYg2MutEGxuKaDxQCfMALI5G/AacRmZ\n",
       "sy8Txlp27BeQPAS0YgEDA88GvEZUovD8UmEsXpARC4H0qVWrpuM1gbMAlR/RgmwEnwMDw4+Ojhos\n",
       "Gg/AWUwGDAw+mZOUFWAC014jGcEDlAW6qxOLEQZwFscFoIEdClw/4SKTKxFG8ALD0xkcqniMYN/A\n",
       "wLqhjoHzK1zkugHCCG6gN9kZmC4gaWUtPsKgmIBsBKMDAxfXFwbeDzAB9VNIHmEFCvNcYIerXn3Y\n",
       "lmEHzwLmBYeNi403IIxg4P7AwAZ1K9dxBQY0IzgfhMFjqXvWAoa9CgY86B5hYH7AwH9hATh+zC+g\n",
       "RCoLKL46U4A82yBlULAAwdatk3gwgpPxAMP+BaBI4sxDpCF4cDJsBprD63iBcQIkv2zlWRuDYgQo\n",
       "2uY7MJzjDQByVjgggo0JZAQzyGB+oN9mqTPwL+ACa9vKcOAwihEgp7oDU8NttDhjTvxnC0xaIIN5\n",
       "QX5MYnBkYK3o6GgCGjEXFL4BuBI4GlgOZ4ky2LAyJEBcwRKEJ5uhg0PwfPCBoWQrw1EQ8woDwx1U\n",
       "VRxImX1dOQiUIsoSeLJkSWDQucDAAQxtljoHBjbiixxk48FAAxgWpBV8NxkYAPRqg/K9yx+QAAAA\n",
       "AElFTkSuQmCC\n",
       "\" style=\"display:inline;vertical-align:middle;\" /></a><br>"
      ],
      "text/plain": [
       "natural_pos_lower_bound: forall_{n in NaturalPos} (n >= 1)"
      ]
     },
     "execution_count": 5,
     "metadata": {},
     "output_type": "execute_result"
    }
   ],
   "source": [
    "natural_pos_lower_bound = Forall(n, GreaterEq(n, one), domain=NaturalPos)"
   ]
  },
  {
   "cell_type": "code",
   "execution_count": 6,
   "metadata": {},
   "outputs": [
    {
     "data": {
      "text/html": [
       "<strong id=\"non_zero_if_is_nat_pos\"><a class=\"ProveItLink\" href=\"proofs/non_zero_if_is_nat_pos/thm_proof.ipynb\">non_zero_if_is_nat_pos</a> (conjecture with conjecture-based proof):<br></strong> <a class=\"ProveItLink\" href=\"../__pv_it/theorems/c2186d5efeb4c9c442288e1b6ba119c8b28d8e970/theorem_expr.ipynb\"><img src=\"data:image/png;base64,iVBORw0KGgoAAAANSUhEUgAAAIMAAAAUCAMAAACZIH6vAAAAOVBMVEX///8kJCQNDQ0oKCgQEBCI\n",
       "iIhmZma6urrMzMxUVFQiIiJERETc3Nzu7u6qqqp2dnaYmJgyMjIAAAD9T1yxAAAAAXRSTlMAQObY\n",
       "ZgAAAhBJREFUSMetVguWpCAMZHcg/Enk/oddEtBR25aZdnmvUdtAikolUan/NBJNDDBf/FkSz8v2\n",
       "TPQAQo4zjMsBkCF0fOMZBJb1/yU/wLCkiYG3e+vmNAdekhlaWg+Q4gMIBDMa9ruTFi6Wzsju+N+E\n",
       "fDDClAa3e4hetFDZc2Y8hJlHCk8EGX5Dg6qCwVY59cJBqpFHwJ+5uzQzPRQWfUrGgHkxiHsacoWO\n",
       "QewQNppi+hmGy8BHGvhiNOxj2wsXGV9/eV6XpioHcR0DsSwsrPr8GEMQVl1RQWRe3R0N7T10DAKl\n",
       "SBx5Mm+LgwuALWRG+/cYtCRebgzwDdXzFv5YSw6xcGKN1HGcy05BgPaqRKlxkFvoAEL7lWsMLHXJ\n",
       "gTOn5zjXkRflG0MrYSekEqdYUubsKWT49DiNRXsp3iupvNfDH91VsfmIkiUkualsGDhHFSMgZ7rI\n",
       "7easuOKSucUwNKk0jrzH2xq6r1Fdk20VjFCQ1W03nQ59pLgWC3J3GBCG2Gzfm/YatHDJW9bdCMbG\n",
       "XR0qZcNgmKMMewztXMPNNYbBZ78kTwfBXPShjMaslXMZV1rNfANjtWSDVC5Od8bQOvOgyv22Vpf7\n",
       "VpJfsoH5aeS02R94UNaZD3vWpB3jed/EeRKssL8dmESvdF/L35bZcr/utTZaPr1BUXksa6ylqyj/\n",
       "2TfMhIZJizBDD8++5ez9dwdD+AeZ1hXoyOOJvAAAAABJRU5ErkJggg==\n",
       "\" style=\"display:inline;vertical-align:middle;\" /></a><br>"
      ],
      "text/plain": [
       "non_zero_if_is_nat_pos: forall_{n in NaturalPos} (n != 0)"
      ]
     },
     "execution_count": 6,
     "metadata": {},
     "output_type": "execute_result"
    }
   ],
   "source": [
    "# proven\n",
    "non_zero_if_is_nat_pos = Forall(\n",
    "        n,\n",
    "        NotEquals(n, zero),\n",
    "        domain=NaturalPos)"
   ]
  },
  {
   "cell_type": "code",
   "execution_count": 7,
   "metadata": {},
   "outputs": [
    {
     "data": {
      "text/html": [
       "<strong id=\"nat_pos_within_nat\"><a class=\"ProveItLink\" href=\"proofs/nat_pos_within_nat/thm_proof.ipynb\">nat_pos_within_nat</a> (conjecture without proof):<br></strong> <a class=\"ProveItLink\" href=\"../__pv_it/theorems/352861b5f1186a3c7e2756602565db1924ac54ed0/theorem_expr.ipynb\"><img src=\"data:image/png;base64,iVBORw0KGgoAAAANSUhEUgAAAEcAAAAUBAMAAAAthD11AAAAMFBMVEX///9mZmaqqqrc3NyIiIgi\n",
       "IiJUVFTMzMyYmJi6uroQEBB2dnZEREQyMjLu7u4AAAA1o4RqAAAAAXRSTlMAQObYZgAAANRJREFU\n",
       "KM9jYCANsBGjiIceit7+OfuAYdevCdgUIeROsCcw8H1gyL176+7dBjRVUDkGhtQCFwaGBditg8tl\n",
       "nmMrYAhAUdQTGhoazoAsl1zGdw9Vke1mGAsul8zkUIaqKBhuJFwumWEnhwOyIkYFhCKYXDID24N0\n",
       "EIMZKsPKgKQIKpfMwJfAuwDJS2bIiqByyQwM1ezIit4gK4LKARkcCgeQFKFYB5VLB+LNyIq4HeBM\n",
       "uNwlkIcuIIfzJRQWSK70F1AlH4qiZ5kPIAwscghQfRQaLVAAAIRnSmUaYQ4LAAAAAElFTkSuQmCC\n",
       "\" style=\"display:inline;vertical-align:middle;\" /></a><br>"
      ],
      "text/plain": [
       "nat_pos_within_nat: NaturalPos proper_subset Natural"
      ]
     },
     "execution_count": 7,
     "metadata": {},
     "output_type": "execute_result"
    }
   ],
   "source": [
    "nat_pos_within_nat = ProperSubset(NaturalPos, Natural)"
   ]
  },
  {
   "cell_type": "code",
   "execution_count": 8,
   "metadata": {},
   "outputs": [
    {
     "data": {
      "text/html": [
       "<strong id=\"nat_membership_is_bool\"><a class=\"ProveItLink\" href=\"proofs/nat_membership_is_bool/thm_proof.ipynb\">nat_membership_is_bool</a> (conjecture without proof):<br></strong> <a class=\"ProveItLink\" href=\"../__pv_it/theorems/10f7171c3c7bbd862895e657918deb9c2d3559cd0/theorem_expr.ipynb\"><img src=\"data:image/png;base64,iVBORw0KGgoAAAANSUhEUgAAAJoAAAAUBAMAAACHazmMAAAAMFBMVEX///8QEBCIiIhmZma6urrM\n",
       "zMxUVFQiIiJERETc3Nzu7u6qqqp2dnaYmJgyMjIAAAAcRTyBAAAAAXRSTlMAQObYZgAAAixJREFU\n",
       "OMuVlD1oFEEUx/85bj9uMxtTpEgVg8HYCIaAVkZOUkQEUVPERvAKA4mFBCFaKOawyZ0g2UJJGnFJ\n",
       "cYQUZ9DCIs2RpJCocIidH2xACwN+dWrlzLzZdWYvm+iDPzv3ezv/m7czb4CWKDRJWdEeZPNIDN7r\n",
       "dEkpHd63yjbY/i5MphKHuue2rhch+Avxe1tPflZqCbc5BjwG6ulENOrdHZJ8QdRW1lL+AKk17Olc\n",
       "L9oA1ptKlM/goCt5R8gfK1rKCUia/+yN29LtVDgOh5fcaXLhtupK7m8uL8/rc+eVkrDuhGptD0r1\n",
       "kLvho8mF28YS8Z+Vyi19cp/SYv/9w7KkejzJDp5YJeG2DoNzt/z0OHH+qOpu90hew7/myA1PttAO\n",
       "WPG1cPsAg6N8cuZHkfgwvEh3u0liIfudl5+v/NcNV+wLfPAMBheVvnpH3EHOOKpdJA8uvW71fOWh\n",
       "3GrY4oNLJhdubr4pOWs62MEN2EcHoaCvzWqcj90KxtpclCQvRPxMYu1o/zmjUp5ToFNzw1t+EjBi\n",
       "cuFmi6YSvHoZyIVXnaKxC+3hEU4FGEzcuD1bSHZh0Fib3yD+dIp/BHyJU+uksytzeEjHOT7bHWJw\n",
       "guu4yRFdxMtjitP3+RWnRki1A4tDtDvexGnajpluUJN+MnjS9ZL7oh7ru5XZWfnnqoPiy2Rqd45H\n",
       "LGJ7dn0cLV2f5rU3a5sxrCLVHemo/w/Pui2h/90/871ucj/I5H8AFOie/mc16OgAAAAASUVORK5C\n",
       "YII=\n",
       "\" style=\"display:inline;vertical-align:middle;\" /></a><br>"
      ],
      "text/plain": [
       "nat_membership_is_bool: forall_{x} ((x in Natural) in BOOLEAN)"
      ]
     },
     "execution_count": 8,
     "metadata": {},
     "output_type": "execute_result"
    }
   ],
   "source": [
    "# In progress\n",
    "# For Natural numbers\n",
    "nat_membership_is_bool = Forall(x, in_bool(InSet(x, Natural)))"
   ]
  },
  {
   "cell_type": "code",
   "execution_count": 9,
   "metadata": {},
   "outputs": [
    {
     "data": {
      "text/html": [
       "<strong id=\"nat_pos_membership_is_bool\"><a class=\"ProveItLink\" href=\"proofs/nat_pos_membership_is_bool/thm_proof.ipynb\">nat_pos_membership_is_bool</a> (conjecture without proof):<br></strong> <a class=\"ProveItLink\" href=\"../__pv_it/theorems/8d47adeae2ba47ac7f0c4c1469ad76d6ef13cb9c0/theorem_expr.ipynb\"><img src=\"data:image/png;base64,iVBORw0KGgoAAAANSUhEUgAAAK0AAAAbBAMAAAD8EhIYAAAAMFBMVEX///8QEBCIiIhmZma6urrM\n",
       "zMxUVFQiIiJERETc3Nzu7u6qqqp2dnaYmJgyMjIAAAAcRTyBAAAAAXRSTlMAQObYZgAAArZJREFU\n",
       "SMe9VkFoE0EU/W6yu9l1E3PooSBotKiQUy5KEZWoIAoWEw/qQegi9qAH6SUGbLF7EEy92IuYm3sK\n",
       "UqQp9qaXEj1Fi1VEBStsPRYao0SwevFPdmdmd7OTnPTBvtn8V97M/PnztwD/D3KekhgmPhmBJgni\n",
       "FxiJYeFzSqDFzej4BqP+vsaqQFyJjMYylAb4wi2BqNoADnn54o8+simFoX+rbICxe4j6joT0A8P3\n",
       "12/iuUg5gFc9m37BqAeJVUx7HZRWa1drEycP6855/d5RAK0NUMWfmuUXdzLqgVKSMrCN5UFdDGdn\n",
       "DPYlcJwCSOGGDb+u/abE8alc7uZLOW1PgMp8Y1ZIR9/nxHcUINmcn3/o90imKTFcytL1PjAXbO4r\n",
       "pUM6+r58jOMefH5VKtOBcnA80vdeO9HoHhdLvzL3VDa5b9zdFdetsXhpAsdzmAQcZwNnY3n0BD5m\n",
       "brtu3NfIv+O+8k8I6tbxme/kno4XAE6C7vh9U6ZHTXhjn+nOxM9tDq4rF8lb10rrQFDHPKyskSpF\n",
       "cxWkwL1Rcx7ZUHEjxRbC8XxrsM7ruRPS0TcRR7d6ntxGNXD2qRwl+OFGqv71ystFXjqdkE58SUsi\n",
       "69Uc0mIaB/cXvPyalLz0uQXLMvmZb1veCunoq5AbPE7SNHsVK8a+oXqNUbE8eia1IQuBXqHg3AZf\n",
       "nlcPXCfrTS679QBLkzgzbLLumXYp/ifR1tzMT7EckQt0LFjqft25DK8P4fiW/NjRnW4rsAgk/Up2\n",
       "xOtHtTtuF5JnhpEXeKlbQZ32HXLfcFYSlNsy/eshRgxn75adiHaRygj0r6w3Go5B348wGoS6HR3X\n",
       "WXepvW806XuR0SB8EMSTkR8iZZHSIJRE34tC5C4cSgNAKioSa9HhJUb9URXEg58Jju15Sv1xWBCP\n",
       "2f/uf5u/wZq9CYTQE20AAAAASUVORK5CYII=\n",
       "\" style=\"display:inline;vertical-align:middle;\" /></a><br>"
      ],
      "text/plain": [
       "nat_pos_membership_is_bool: forall_{x} ((x in NaturalPos) in BOOLEAN)"
      ]
     },
     "execution_count": 9,
     "metadata": {},
     "output_type": "execute_result"
    }
   ],
   "source": [
    "# For Positive Natural numbers (NaturalPos)\n",
    "nat_pos_membership_is_bool = Forall(x, in_bool(InSet(x, NaturalPos)))"
   ]
  },
  {
   "cell_type": "code",
   "execution_count": 10,
   "metadata": {},
   "outputs": [
    {
     "data": {
      "text/html": [
       "<strong id=\"fold_forall_natural\"><a class=\"ProveItLink\" href=\"proofs/fold_forall_natural/thm_proof.ipynb\">fold_forall_natural</a> (conjecture without proof):<br></strong> <a class=\"ProveItLink\" href=\"../__pv_it/theorems/7e44aa3035ebe06468bec14eaa5a4827defb14930/theorem_expr.ipynb\"><img src=\"data:image/png;base64,iVBORw0KGgoAAAANSUhEUgAAAe8AAAAaBAMAAABsj8ngAAAAMFBMVEX///8QEBCIiIhmZma6urrM\n",
       "zMxUVFQiIiJERETc3Nzu7u6qqqp2dnaYmJgyMjIAAAAcRTyBAAAAAXRSTlMAQObYZgAABnJJREFU\n",
       "WMPlmF1sFFUUxw+zs92v2bYx4IPRWMAAUT42xCgaMIsmwBuVGEMisU1jEbDqGjA1iGSDCWxjCBsf\n",
       "EDHSUR/Eqm0RKvpg2FDQBJDUCMQYhY0gCZKUBipKwY9z7tyvnb2z0LUSE2/S05mdO+c/vzvnnjn3\n",
       "ApjaY9Jcpz3dnoeb0Ba2FwAaxsydFXQh3CzM9VoGbk6L4cMsGDNvdhBarSvMfwncGRgzd18H/D5b\n",
       "GqHraSby/w54rBISEyVwWGuK2sHGUQiQr5NrACL4Uov0w4+l3UaEOfHXxuWnsdNOHO8ZBwFWloPX\n",
       "0r9kdS9Dc1+hrRTgkw0XnbQBIFiAfB3A4UoBHKbzX0qdpYSBPwGitwGcAzgP7+ehW3TJS3Cn90an\n",
       "haEp9wFtFzruFuCdRnADQLBAtwceGwLYRm6zJb3H9QoTvobhcRGSKUjWg1MER2TW0xKc3butOm7l\n",
       "3tc+8f7F255HcBJl4JFeE7gBIFiAfCE4vOy9LKfUY6crjDWMf9cgkodoMyRGIF7PHW5y5RynwT5c\n",
       "5WdFujeDA5xCHRJl4CENr0OCGwCCBcgXgc/B6Xmoq+uN0u7fSBPFkKgZBrxe1wz2VYAzXo+ahxsk\n",
       "+A9dXR9UmeOU+0rgJMrArXrVY6kENwBUEDjjgU/Ev99zuXWl3R+Spg4zR2eKskpPCuyLAP1iqmQk\n",
       "eF0ut6lwQ7lbHMg8rNzbX745qSW8/ykjeD8Ht0eUMxG9TtoAAGaB2Z4vAl+MfltZ3Nhb2uas4t1z\n",
       "0jQVIIFON+PtBQgj+Emvx2ER3Ahe0wjRoPItzeyiy/0bUUiOzh5xoNw70Q3QcxfsMoKf5ODhX+mn\n",
       "UDtrlyR4qwp8f/MJ5JkvAm/CwX8E4kUvtL/i3c9KM6vtyGyXpQIcN8oUewXvDglup1Sy5xlg9QGY\n",
       "yIojb1JSYsxAjRydkDhS7p+IFGlsTxnB93Lw2LD+eT8vwDlAuXqZQCPzReCd+EoiYNFXeDl247eu\n",
       "lmaLl8PGy1Bv8kga6D2LAiYDMzTdD/vnwWeOG3IVeE0zWEOwTHaJi4pRuXd70rDPhRV0enRw8IXB\n",
       "wbMKvImDx3Vw6B7PwTlAubpf4JTni8DxDCvBCF18hUe3+FYx8xuIGzG5Ja4KcCx8eCWfYfWfltuS\n",
       "r2134YuGlAMKPDIA0SxFpGjis6rcwz6A+wFuMb7xJtMbj7XlOTgHKFf3CzynwOmNx4qP02heAUuU\n",
       "hBuFCfOJhKGCT57E3LKQne+WD0/IO2gQvj0+KTWplSYOtr6+13VwnFtTXeyanLdksjUFQ4VHiOae\n",
       "cuk6sK/ETeALxRy/wibKoNfyItQZAPn2q/sF/ogzX2yO090dlEvta9Plx3iFMBYf4s3ACxie3M5x\n",
       "eA88uhWH79gdcKs7hVfAfc7HyzTwxfuP9EIMwecPjFtlIcKn6ivL3cPtFMih4luVkpue1e2iTG4M\n",
       "gHznfeo+gcSII5MbZXXYTU/vaPlhojC1XKmfjdo7+K7msoHMeuHOwRMYo7F3MzCMV+PsK9MHhX4N\n",
       "/Ch70ixsnwp16RAm90V8EajcYxQnhqC2UPCBzyKVuRw8qX3Hu10FTgDk2/Wp+wSc4nHm64CoUuqo\n",
       "GIlqZSMbDjShC5e9OoUC/CMKZPiZJSv6SlkNcnV2kX5rCNfj4IRfyuU2oPTbEQ38VbEGboFHWd35\n",
       "pJfcNfd2hhYOiXn5UvD77jw9wETLKrdWUOAMoAXm+9V9ArFne5kvXrnhQBJnnVb0jUsLw5ss+eIM\n",
       "1FZlCDv/nro3WtnYUCM0e2NuL9HAr4owmQDToDNctqVQoWQVogy8VtuDyWvgDGACzA371A0C5IvA\n",
       "f1Kfek2cotEzvjJJLVLK1uOd+M6T2QIcpJNjWMgqcC8noSSuiVrgO0dcLHcvW1fJOkQsUnpc0yKF\n",
       "J/khWNPnUzcI8EVKXGYL68IDWglQL4x/SdAduBGxAGrzsTYXohg59vo01CjwmZfYoK6laD8HWw8B\n",
       "3Ovz0lGx1JXL0hMQDI6+pw/41A0CfFmaDNh7ekYa3nYGPWH56mQazjLZ9NXiPeqw6Lun8kZEhwB/\n",
       "sQK4Sd0g0OGBRxqDx7jk7fKtm+Rot5508KiqNgdGs/WUFFtPSdNSyFo/mq0n8jVzTdlUUE+WEuYf\n",
       "bjbq4Lake6+6zcYqdztM3rJBV/aULKIqtPbK++olY/e5OLi7in11BH9wzMBDLvx/298OuDAvx8eK\n",
       "5wAAAABJRU5ErkJggg==\n",
       "\" style=\"display:inline;vertical-align:middle;\" /></a><br>"
      ],
      "text/plain": [
       "fold_forall_natural: forall_{P} ((P(0) and [forall_{m in Natural | P(m)} P(m + 1)]) => [forall_{n in Natural} P(n)])"
      ]
     },
     "execution_count": 10,
     "metadata": {},
     "output_type": "execute_result"
    }
   ],
   "source": [
    "fold_forall_natural = Forall(P, Implies(And(Pzero, \n",
    "                                             Forall(m, P_mAddOne, \n",
    "                                                 domain=Natural, condition=Pm)), \n",
    "                                         Forall(n, Pn, domain=Natural)))"
   ]
  },
  {
   "cell_type": "code",
   "execution_count": 11,
   "metadata": {},
   "outputs": [
    {
     "data": {
      "text/html": [
       "<strong id=\"fold_forall_natural_pos\"><a class=\"ProveItLink\" href=\"proofs/fold_forall_natural_pos/thm_proof.ipynb\">fold_forall_natural_pos</a> (conjecture without proof):<br></strong> <a class=\"ProveItLink\" href=\"../__pv_it/theorems/598ab91a7b4d702643de82727ebfd75a28ef6d430/theorem_expr.ipynb\"><img src=\"data:image/png;base64,iVBORw0KGgoAAAANSUhEUgAAAgcAAAAaBAMAAADRWOJkAAAAMFBMVEX///8QEBCIiIhmZma6urrM\n",
       "zMxUVFQiIiJERETc3Nzu7u6qqqp2dnaYmJgyMjIAAAAcRTyBAAAAAXRSTlMAQObYZgAABuRJREFU\n",
       "WMPNmWtsVEUUgE/3/W5jwB8+4gIGCALdgFEklCySAP8oxBgTia2NRcQKa8BUHpIVE2hjDBt/AGJg\n",
       "r5qo1FiKWNEfhk0XMQEkNTyiRmEjSIImpYGKUBE8Zx73zt6du1tsJUyy3bt7Z8/ju+ecOTMF0A1v\n",
       "Ev88AZXH860ZuG1jfmsOID7CQl2Od54kEI1DEJGC2zmCaNK8EZbpcXTzd3zFjDsSQqR3hIV+5/C9\n",
       "m2JumvrNTv721f8JIVjOvXBGQIC1upjuq79lNSTx9GoAPz7sAn3xS/G8LH4fHMSL6MqrS1fMBAil\n",
       "+Q1fpgRCjN6iw3k8p25uWnoWNX5cdtYLEsI4zc1IUudGBTUk8SACTAAckeGvjDzJTdBVNQp/3YAY\n",
       "Oh++B2EUxIyMCSHSNdTUcRw3AAIo/ILjhL0ovlNCyGoh6NyooKaTQwj2A2wn4eni6ffiq4qcgwas\n",
       "xwficBzgw0MUGj1ixlkTAvvt9uEw8F5HwpcgmrDf+Iy/hVpWIoRIXEDwd+kg6NyooIYkIgRYxx9i\n",
       "pFguy4Qse7i1uFbW5mANhTx9+54QuNkwawLhPzKsRWoAX9fBn3GAAHAGtYVqBAS34mq7CUHjRiU1\n",
       "JJEgzEDfDnd0bCueHsW78D273IKvlclgSkKIJXlteDxuQvi5o2P3sOpjAOPRNwDboCwEOCcguGqs\n",
       "GU+ZEDRuVFRzjkMYg6+rbW3rbYsDZf5smUfBy6x2cAi8UmA6pUwI1W1tm3NatbmhQaC6k01QwfMc\n",
       "emdsk7fnOS2EvIDgGVQeV0JC0Lhhs6FYzTQukSAsROnNLKo8W1pmLJfMKODaZB7tz0GgV0KI8sp4\n",
       "RCYAQvDVQ0DfNia0K5S8MBc1rDthtP8t9CWwEfY8CHu1EE4LCN4/2YNqZeOyCaHZSg69DTY1GSaR\n",
       "IDSgJXN5zcfw/1ZMj5Gu8yyPrhzNTxK1iEEIp4Tvu0wIngSrs2UM4Cm04Ep+k6E8ms/lRW3L0WkG\n",
       "q09P+wuQzcEZLYT9AkJwQG0f/pAQ5lpLlx6CTU09k0gQsmifH1z0oJfiNDHdT79cxWKCh15VUkLw\n",
       "9rMojNPzl81SCqbY6vCqgzCm0TIgLStNJKV0Gm55tYUX2VEAxp4kHDBgGX081tf3cl/feQtCg4AQ\n",
       "UiFA5ygBQbjhZINdzRkukSDgJ+xD/XTzNZEBFAkJuQhWp7QQsMkSO4sU6zvVuvhJvg6+jBhuIz99\n",
       "1fQuBYKvEVz9sMScGJJN+18grYMDAI8C3KWNhAZdJARbMgKCcMPJBruaFRYEioRggbZLoWvgkg1p\n",
       "gHRtYnnEQVrp4GH+7gPZc9DHXepWK/rmDgO+jiciYI8Efy8Vm2ZrquhavCKv1/FqvB4810I6CPNl\n",
       "TbjG4qiPj4xMB+6Gow12Nf+EmERWE0hGO1Vjz/XJ5mLvI6uXyTaBqNgK4wUBgkMIbMVZx0+OTYxt\n",
       "pgqDo7v77VIIWIomGPiDaN3ica7xmE1TrPWbBlYsuI+C3V14t1xhVFcHT8EsjMwNkq23waYmPBgx\n",
       "CyOtDrCPPIkoVYWtxLR6wkWeR2xhdJFyN9U1b5qnhIAQxgiGE/fD3cZ4sRXpjny6pATCwp6jXYAd\n",
       "R3ROb9VyF7rzhUi+QbNXx0gP90Msl7NBqCVdswSEqNIndBoWBHKDZGe0NtjURAonmcSDsiOqpsYn\n",
       "oKxnjDXxmX2ziX+B8t3P3qhDUVQPfRQfrri5i7yEct9PwQBKDTEx3ZDLl0A4xiSlYccEqE4SzAW8\n",
       "Pl68whuv+UwPtiThukwxhEceOIuh+JumY2wGCwK5QbINrQ02NcGXuphE0TEiPsJZrbaco2QxlGON\n",
       "vPiIeWKt8wzCTwQm7q3BfPO+2ta2EQ3Y6Vc6AW71G/IIowkWsSrzTPGaUqZtZnU0JSDElLOljAKB\n",
       "udEEc/Q2aNSQRILwq9VKqCbMkoEvx3F50eN0nlBV70oH++uhkT8Fz2JlEofwN4hMGg0TIestOSMq\n",
       "3UB1FO2R5AZqj6HbQImL0TDLq7VBo0ZsoEJmjXFdfEyZuIjMrVH7boGopB8xIWQxFqLpHHxDH07g\n",
       "jsIOgRd1pI9b1yb4IVI8Rd0N6Ye5lT4FzhBQ9upurQ0aNWIrHXU4X/NRbryoxmK6GEYphHkQywRb\n",
       "DAjgTz0bkuCzQ5h6mf12LWXEBdh6GOBhm6zyhyrtEsIrZSCg7Mm9Whs0ato5BL/DoRR74J2a47Uf\n",
       "Kx+vTcR8tA11m/+QdVm4leO1qDxei+q2Za4N9RVsKFVDEqeudooX0QSEEyN10KpCCFht/60fyRGE\n",
       "YZ3f6GQ6nsSEk+oOp8xoHcr/HVQ1HtP1D/7D/x0QwswRhuA24LaMopAyD6wnwR0z/gV+OjMg1Ruu\n",
       "qgAAAABJRU5ErkJggg==\n",
       "\" style=\"display:inline;vertical-align:middle;\" /></a><br>"
      ],
      "text/plain": [
       "fold_forall_natural_pos: forall_{P} ((P(1) and [forall_{m in NaturalPos | P(m)} P(m + 1)]) => [forall_{n in NaturalPos} P(n)])"
      ]
     },
     "execution_count": 11,
     "metadata": {},
     "output_type": "execute_result"
    }
   ],
   "source": [
    "fold_forall_natural_pos = Forall(P, Implies(And(Pone, \n",
    "                                                 Forall(m, P_mAddOne, domain=NaturalPos, \n",
    "                                                        condition=Pm)), \n",
    "                                             Forall(n, Pn, domain=NaturalPos)))"
   ]
  },
  {
   "cell_type": "code",
   "execution_count": 12,
   "metadata": {},
   "outputs": [
    {
     "name": "stdout",
     "output_type": "stream",
     "text": [
      "These theorems may now be imported from the theory package: proveit.numbers.number_sets.natural_numbers\n"
     ]
    }
   ],
   "source": [
    "%end theorems"
   ]
  }
 ],
 "metadata": {
  "kernelspec": {
   "display_name": "Python 3",
   "language": "python",
   "name": "python3"
  }
 },
 "nbformat": 4,
 "nbformat_minor": 0
}