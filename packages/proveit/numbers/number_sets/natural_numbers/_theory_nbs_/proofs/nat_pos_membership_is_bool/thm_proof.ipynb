{
 "cells": [
  {
   "cell_type": "markdown",
   "metadata": {},
   "source": [
    "Proof of <a class=\"ProveItLink\" href=\"../../../../../../_theory_nbs_/theory.ipynb\">proveit</a>.<a class=\"ProveItLink\" href=\"../../../../../_theory_nbs_/theory.ipynb\">numbers</a>.<a class=\"ProveItLink\" href=\"../../../../_theory_nbs_/theory.ipynb\">number_sets</a>.<a class=\"ProveItLink\" href=\"../../theory.ipynb\">natural_numbers</a>.<a class=\"ProveItLink\" href=\"../../theorems.ipynb#nat_pos_membership_is_bool\">nat_pos_membership_is_bool</a> theorem\n",
    "========"
   ]
  },
  {
   "cell_type": "code",
   "execution_count": 1,
   "metadata": {},
   "outputs": [],
   "source": [
    "import proveit\n",
    "theory = proveit.Theory() # the theorem's theory"
   ]
  },
  {
   "cell_type": "code",
   "execution_count": 2,
   "metadata": {},
   "outputs": [
    {
     "data": {
      "text/html": [
       "Under these <a href=\"presumptions.txt\">presumptions</a>, we begin our proof of<br><strong id=\"nat_pos_membership_is_bool\">nat_pos_membership_is_bool:</strong> <a class=\"ProveItLink\" href=\"../../../__pv_it/theorems/54227ed88750c5801a87facba8ec2a3381ba66cc0/expr.ipynb\"><img src=\"data:image/png;base64,iVBORw0KGgoAAAANSUhEUgAAAK0AAAAbBAMAAAD8EhIYAAAAMFBMVEX///8QEBCIiIhmZma6urrM\n",
       "zMxUVFQiIiJERETc3Nzu7u6qqqp2dnaYmJgyMjIAAAAcRTyBAAAAAXRSTlMAQObYZgAAArZJREFU\n",
       "SMe9VkFoE0EU/W6yu9l1E3PooSBotKiQUy5KEZWoIAoWEw/qQegi9qAH6SUGbLF7EEy92IuYm3sK\n",
       "UqQp9qaXEj1Fi1VEBStsPRYao0SwevFPdmdmd7OTnPTBvtn8V97M/PnztwD/D3KekhgmPhmBJgni\n",
       "FxiJYeFzSqDFzej4BqP+vsaqQFyJjMYylAb4wi2BqNoADnn54o8+simFoX+rbICxe4j6joT0A8P3\n",
       "12/iuUg5gFc9m37BqAeJVUx7HZRWa1drEycP6855/d5RAK0NUMWfmuUXdzLqgVKSMrCN5UFdDGdn\n",
       "DPYlcJwCSOGGDb+u/abE8alc7uZLOW1PgMp8Y1ZIR9/nxHcUINmcn3/o90imKTFcytL1PjAXbO4r\n",
       "pUM6+r58jOMefH5VKtOBcnA80vdeO9HoHhdLvzL3VDa5b9zdFdetsXhpAsdzmAQcZwNnY3n0BD5m\n",
       "brtu3NfIv+O+8k8I6tbxme/kno4XAE6C7vh9U6ZHTXhjn+nOxM9tDq4rF8lb10rrQFDHPKyskSpF\n",
       "cxWkwL1Rcx7ZUHEjxRbC8XxrsM7ruRPS0TcRR7d6ntxGNXD2qRwl+OFGqv71ystFXjqdkE58SUsi\n",
       "69Uc0mIaB/cXvPyalLz0uQXLMvmZb1veCunoq5AbPE7SNHsVK8a+oXqNUbE8eia1IQuBXqHg3AZf\n",
       "nlcPXCfrTS679QBLkzgzbLLumXYp/ifR1tzMT7EckQt0LFjqft25DK8P4fiW/NjRnW4rsAgk/Up2\n",
       "xOtHtTtuF5JnhpEXeKlbQZ32HXLfcFYSlNsy/eshRgxn75adiHaRygj0r6w3Go5B348wGoS6HR3X\n",
       "WXepvW806XuR0SB8EMSTkR8iZZHSIJRE34tC5C4cSgNAKioSa9HhJUb9URXEg58Jju15Sv1xWBCP\n",
       "2f/uf5u/wZq9CYTQE20AAAAASUVORK5CYII=\n",
       "\" style=\"display:inline;vertical-align:middle;\" /></a><br>(see <a class=\"ProveItLink\" href=\"../../../__pv_it/theorems/7c988763f631ad1085bf421704155bde5c838a780/dependencies.ipynb\">dependencies</a>)<br>"
      ],
      "text/plain": [
       "nat_pos_membership_is_bool: forall_{x} ((x in NaturalPos) in BOOLEAN)"
      ]
     },
     "execution_count": 2,
     "metadata": {},
     "output_type": "execute_result"
    }
   ],
   "source": [
    "%proving nat_pos_membership_is_bool"
   ]
  },
  {
   "cell_type": "code",
   "execution_count": null,
   "metadata": {},
   "outputs": [],
   "source": []
  }
 ],
 "metadata": {
  "kernelspec": {
   "display_name": "Python 3",
   "language": "python",
   "name": "python3"
  }
 },
 "nbformat": 4,
 "nbformat_minor": 0
}