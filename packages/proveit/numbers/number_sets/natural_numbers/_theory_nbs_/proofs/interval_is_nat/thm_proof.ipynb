{
 "cells": [
  {
   "cell_type": "markdown",
   "metadata": {},
   "source": [
    "Proof of <a class=\"ProveItLink\" href=\"../../../../../../_theory_nbs_/theory.ipynb\">proveit</a>.<a class=\"ProveItLink\" href=\"../../../../../_theory_nbs_/theory.ipynb\">numbers</a>.<a class=\"ProveItLink\" href=\"../../../../_theory_nbs_/theory.ipynb\">number_sets</a>.<a class=\"ProveItLink\" href=\"../../theory.ipynb\">natural_numbers</a>.<a class=\"ProveItLink\" href=\"../../theorems.ipynb#interval_is_nat\">interval_is_nat</a> theorem\n",
    "========"
   ]
  },
  {
   "cell_type": "code",
   "execution_count": 1,
   "metadata": {},
   "outputs": [],
   "source": [
    "import proveit\n",
    "theory = proveit.Theory() # the theorem's theory"
   ]
  },
  {
   "cell_type": "code",
   "execution_count": 2,
   "metadata": {},
   "outputs": [
    {
     "data": {
      "text/html": [
       "Under these <a href=\"presumptions.txt\">presumptions</a>, we begin our proof of<br><strong id=\"interval_is_nat\">interval_is_nat:</strong> <a class=\"ProveItLink\" href=\"../../../__pv_it/theorems/97ec6f8793992cf7a0cfc271581a3935ac5552c90/expr.ipynb\"><img src=\"data:image/png;base64,iVBORw0KGgoAAAANSUhEUgAAAPEAAAAZBAMAAAAS8tXVAAAAMFBMVEX///8QEBCIiIhmZma6urrM\n",
       "zMxUVFQiIiJERETc3Nzu7u6qqqp2dnaYmJgyMjIAAAAcRTyBAAAAAXRSTlMAQObYZgAAA5JJREFU\n",
       "SMfdlk1oE0EUgF822fztbtODiFHUxUIvIoT2IEiVgFjFH9h6MIiFBrFopUguJShSgx66rQhLwZqL\n",
       "drWgmEMa6kEE0YVepKWytBZKqxLBXirUUirYnpyf3exuN01S6MmBMJmdee+bee/NmwdQvV1PK7DD\n",
       "7XRaq2VZCna+hZL/HflphTlOoeQiHnyrQq7DnaDXDA5nyn38LS8Bf3AXdFHyJP64VIXMF1BXp9ZM\n",
       "risbkkH9EsAoQJ6Ss7jLVCGTBdnajT1T9qu/hxHBA8CLhIxPQo5U0c/YKJO1k287RkJfupeQz6id\n",
       "EEBmrydkYSKXe1I1wr7mcq9rD7SQYyl733CT/3EyryIy/KSx/VeW71YlR2S5T6uZzMQAzncNNohk\n",
       "lDfjw6+MsUlMHqfkToB+U8S3vAXZL0HQGTXtjkjHghcLVigBaLIYXiejrpKfFT4+jcnfKfkkhIsl\n",
       "DeNGn2iJM7ttZF+MRKTNoHudu8OC3eYgUAC20AuhP2SUschw059Af95ScgAYa/u/8L1736xzmQk4\n",
       "Zs8kKThSupdoHriik4wFP5gDTxzC4TUQVoibDyyjZpBfwg/0p4OSeT1gKcD2mXuXA27aC5qdPGVl\n",
       "MjzvIq9vIgO3An6yJmQ/M6u1WeRQEd1vGGlcxPtbbVSRYZHclcuig/yMRUtnZg/FgMwTcrjplmTG\n",
       "LxK0yMja4C1CRCexVW8jw0IQv1RG3u6/hpT0sBs4KO8wMZIpOWli1kEODqFzfNkPUZpJCfmV1GGG\n",
       "LRa0yDjCPBp8VImKphIZ7ZPPWhEGb5Bmb4wl+kWhOELJPB+zk7mjaPWLFGzACNWClDZDosRCgvDc\n",
       "jH4sOhyHz4JkWoDmVPznBPq1GOQIunaeApMkDvImE7Isi5wU0lOOt2oV40RfPZB59gEa7oNGy7Pe\n",
       "JLBmXvCliEWHFmhE3jhLPXJvD9CkvWiQBWSyUSU4j7qI6in46ZnhlOggz2P9kleT/OaZ0XV9lDOW\n",
       "YEHrzJuyp+8TzZ6ly5Gyvc8epeMCZNWAOgc8NpEQB0Fzvc/DEDgnkXni5yi7pocGkFhoAAtaft7i\n",
       "xTCb8WIY27o6dhzaCmw3wj3E0YdSa9JFbgVmis4TcuvhBp2NQpvCRomgRQ5WLNzy7pqEhgKD/Fip\n",
       "JiHzm+8z2O9z+cqg1PpdZE6pvRqqTK5YDQmKiyxsow4LR93fune8AkyXq7cHXVVZe2E79XbyHwzv\n",
       "/eWE8+hsAAAAAElFTkSuQmCC\n",
       "\" style=\"display:inline;vertical-align:middle;\" /></a><br>(see <a class=\"ProveItLink\" href=\"../../../__pv_it/theorems/629cd2e79834f499ade3b8d717ebd980980766070/dependencies.ipynb\">dependencies</a>)<br>"
      ],
      "text/plain": [
       "interval_is_nat: forall_{a, b in Natural} [forall_{n in {a...b}} (n in Natural)]"
      ]
     },
     "execution_count": 2,
     "metadata": {},
     "output_type": "execute_result"
    }
   ],
   "source": [
    "%proving interval_is_nat"
   ]
  },
  {
   "cell_type": "code",
   "execution_count": null,
   "metadata": {},
   "outputs": [],
   "source": []
  }
 ],
 "metadata": {
  "kernelspec": {
   "display_name": "Python 3",
   "language": "python",
   "name": "python3"
  }
 },
 "nbformat": 4,
 "nbformat_minor": 0
}