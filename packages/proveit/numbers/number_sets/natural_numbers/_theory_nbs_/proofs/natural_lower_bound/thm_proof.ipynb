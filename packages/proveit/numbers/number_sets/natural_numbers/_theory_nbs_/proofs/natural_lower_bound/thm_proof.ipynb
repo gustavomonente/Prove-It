{
 "cells": [
  {
   "cell_type": "markdown",
   "metadata": {},
   "source": [
    "Proof of <a class=\"ProveItLink\" href=\"../../../../../../_theory_nbs_/theory.ipynb\">proveit</a>.<a class=\"ProveItLink\" href=\"../../../../../_theory_nbs_/theory.ipynb\">numbers</a>.<a class=\"ProveItLink\" href=\"../../../../_theory_nbs_/theory.ipynb\">number_sets</a>.<a class=\"ProveItLink\" href=\"../../theory.ipynb\">natural_numbers</a>.<a class=\"ProveItLink\" href=\"../../theorems.ipynb#natural_lower_bound\">natural_lower_bound</a> theorem\n",
    "========"
   ]
  },
  {
   "cell_type": "code",
   "execution_count": 1,
   "metadata": {},
   "outputs": [],
   "source": [
    "import proveit\n",
    "theory = proveit.Theory() # the theorem's theory"
   ]
  },
  {
   "cell_type": "code",
   "execution_count": 2,
   "metadata": {},
   "outputs": [
    {
     "data": {
      "text/html": [
       "Under these <a href=\"presumptions.txt\">presumptions</a>, we begin our proof of<br><strong id=\"natural_lower_bound\">natural_lower_bound:</strong> <a class=\"ProveItLink\" href=\"../../../__pv_it/theorems/f26dcf1db360ba1fa7a8ced0c83a2e1bfb4d49940/expr.ipynb\"><img src=\"data:image/png;base64,iVBORw0KGgoAAAANSUhEUgAAAHcAAAAUBAMAAABFd79NAAAAMFBMVEX///8QEBCIiIhmZma6urrM\n",
       "zMxUVFQiIiJERETc3Nzu7u6qqqp2dnaYmJgyMjIAAAAcRTyBAAAAAXRSTlMAQObYZgAAAghJREFU\n",
       "OMuVVE1I3FAQ/lY3u+aZ7J72HhHUQw97K5QKEQ9eiooH8SC4lHrwIoItrVBERCTiZVHQIojxpChK\n",
       "QBb0oAa1FBQkRUFKLd1ze1moFgUPzkv2ZX/ciA6EzE++mW/mzQvwqCwGh3boyXLlV8AHbKyy/+Cy\n",
       "E5E0cMKNPwHgWLqgr7wquC02AkZlv5AhBxTAWbGxNyC078AplacsJqBYAeCREqu9P69MAvsmlgH1\n",
       "eG1tPgArD5XaPRPe+z/QYSGmAzeG8TkAXJUE3gzM1GvCMffXHeM/AmtQKEpcpgLANQ5gGxq79T2z\n",
       "vBH5DujToNLEWt25+SINH6Eu5elRC5I1Cvnaj14kOZgq99mopaaiqHJEbP2wGduKWW16ZkgHY1dQ\n",
       "cyLeeFxEWyK34kRFTJ1eMLGrJRX4YNTmEMkzY980f2D7lguWs90Ea+6q5x2QZDIzAky0UZ1F3HGZ\n",
       "yC8FQwP4bSLMz2LqHYFbnFDaW9WMstFbNLCQTWdqc+ygVbokfGDYogwLjYibLOmCYR/mP+KHsaTj\n",
       "VO0kY1X3xxa1WII48ZRx3slbtED6ZBjjBF4UQ+DE2uh0f5bfl4MGShfjKVXeUQKvJaS8yuGuyutZ\n",
       "Jiv+IubwPoOvXD0HLitejAf3UijhFF44qKGRhEd1RPwVK7qSmx+5fChwz5Yla6Ken/IzKE/87N/Q\n",
       "D+AedmGII95pMHkAAAAASUVORK5CYII=\n",
       "\" style=\"display:inline;vertical-align:middle;\" /></a><br>(see <a class=\"ProveItLink\" href=\"../../../__pv_it/theorems/d82b58123a002c0044bb2f560b650910fa4bc4620/dependencies.ipynb\">dependencies</a>)<br>"
      ],
      "text/plain": [
       "natural_lower_bound: forall_{n in Natural} (n >= 0)"
      ]
     },
     "execution_count": 2,
     "metadata": {},
     "output_type": "execute_result"
    }
   ],
   "source": [
    "%proving natural_lower_bound"
   ]
  },
  {
   "cell_type": "code",
   "execution_count": null,
   "metadata": {},
   "outputs": [],
   "source": []
  }
 ],
 "metadata": {
  "kernelspec": {
   "display_name": "Python 3",
   "language": "python",
   "name": "python3"
  }
 },
 "nbformat": 4,
 "nbformat_minor": 0
}