{
 "cells": [
  {
   "cell_type": "markdown",
   "metadata": {},
   "source": [
    "Expression of type <a class=\"ProveItLink\" href=\"../../../../../../../../doc/html/api/proveit.logic.Equals.html\">Equals</a>\n",
    "=======================\n",
    "# from the theory of <a class=\"ProveItLink\" href=\"../../../_theory_nbs_/theory.ipynb\">proveit.numbers.number_sets.rational_numbers</a>"
   ]
  },
  {
   "cell_type": "code",
   "execution_count": 1,
   "metadata": {},
   "outputs": [],
   "source": [
    "import proveit\n",
    "# Automation is not needed when building an expression:\n",
    "proveit.defaults.automation = False # This will speed things up.\n",
    "proveit.defaults.inline_pngs = False # Makes files smaller.\n",
    "%load_expr # Load the stored expression as 'stored_expr'\n",
    "# import Expression classes needed to build the expression\n",
    "from proveit import q\n",
    "from proveit.logic import Equals, SetOfAll\n",
    "from proveit.numbers import Less, Rational, RationalNeg, zero"
   ]
  },
  {
   "cell_type": "code",
   "execution_count": 2,
   "metadata": {},
   "outputs": [
    {
     "data": {
      "text/html": [
       "<strong id=\"expr\">expr:</strong> <a class=\"ProveItLink\" href=\"expr.ipynb\"><img src=\"expr.png\" style=\"display:inline;vertical-align:middle;\" /></a><br>"
      ],
      "text/plain": [
       "expr: RationalNeg = {q s.t. q < 0}_{q in Rational}"
      ]
     },
     "execution_count": 2,
     "metadata": {},
     "output_type": "execute_result"
    }
   ],
   "source": [
    "# build up the expression from sub-expressions\n",
    "expr = Equals(RationalNeg, SetOfAll([q], q, domains = [Rational], condition = Less(q, zero)))"
   ]
  },
  {
   "cell_type": "code",
   "execution_count": 3,
   "metadata": {},
   "outputs": [
    {
     "name": "stdout",
     "output_type": "stream",
     "text": [
      "Passed sanity check: expr matches stored_expr\n"
     ]
    }
   ],
   "source": [
    "# check that the built expression is the same as the stored expression\n",
    "assert expr == stored_expr\n",
    "assert expr._style_id == stored_expr._style_id\n",
    "print(\"Passed sanity check: expr matches stored_expr\")"
   ]
  },
  {
   "cell_type": "code",
   "execution_count": 4,
   "metadata": {},
   "outputs": [
    {
     "name": "stdout",
     "output_type": "stream",
     "text": [
      "\\mathbb{Q}^- = \\left\\{q~|~q < 0\\right\\}_{q \\in \\mathbb{Q}}\n"
     ]
    }
   ],
   "source": [
    "# Show the LaTeX representation of the expression for convenience if you need it.\n",
    "print(expr.latex())"
   ]
  },
  {
   "cell_type": "code",
   "execution_count": 5,
   "metadata": {},
   "outputs": [
    {
     "data": {
      "text/html": [
       "<table>\n",
       "<tr><th>name</th><th>description</th><th>default</th><th>current value</th><th>related methods</th></tr><tr><td>operation</td><td>'infix' or 'function' style formatting</td><td>infix</td><td>infix</td><td></td></tr>\n",
       "<tr><td>wrap_positions</td><td>position(s) at which wrapping is to occur; '2 n - 1' is after the nth operand, '2 n' is after the nth operation.</td><td>()</td><td>()</td><td>('with_wrapping_at', 'with_wrap_before_operator', 'with_wrap_after_operator', 'wrap_positions')</td></tr>\n",
       "<tr><td>justification</td><td>if any wrap positions are set, justify to the 'left', 'center', or 'right'</td><td>center</td><td>center</td><td>('with_justification',)</td></tr>\n",
       "<tr><td>direction</td><td>Direction of the relation (normal or reversed)</td><td>normal</td><td>normal</td><td>('with_direction_reversed', 'is_reversed')</td></tr>\n",
       "</table>\n"
      ],
      "text/plain": [
       "style name: operation\n",
       "description: 'infix' or 'function' style formatting\n",
       "default: infix\n",
       "current value: infix\n",
       "related methods: ()\n",
       "style name: wrap_positions\n",
       "description: position(s) at which wrapping is to occur; '2 n - 1' is after the nth operand, '2 n' is after the nth operation.\n",
       "default: ()\n",
       "current value: ()\n",
       "related methods: ('with_wrapping_at', 'with_wrap_before_operator', 'with_wrap_after_operator', 'wrap_positions')\n",
       "style name: justification\n",
       "description: if any wrap positions are set, justify to the 'left', 'center', or 'right'\n",
       "default: center\n",
       "current value: center\n",
       "related methods: ('with_justification',)\n",
       "style name: direction\n",
       "description: Direction of the relation (normal or reversed)\n",
       "default: normal\n",
       "current value: normal\n",
       "related methods: ('with_direction_reversed', 'is_reversed')"
      ]
     },
     "execution_count": 5,
     "metadata": {},
     "output_type": "execute_result"
    }
   ],
   "source": [
    "expr.style_options()"
   ]
  },
  {
   "cell_type": "code",
   "execution_count": 6,
   "metadata": {},
   "outputs": [
    {
     "data": {
      "text/html": [
       "<table><tr><th>&nbsp;</th><th>core type</th><th>sub-expressions</th><th>expression</th></tr>\n",
       "<tr><td>0</td><td>Operation</td><td>operator:&nbsp;1<br>operands:&nbsp;2<br></td><td><a class=\"ProveItLink\" href=\"expr.ipynb\"><img src=\"expr.png\" style=\"display:inline;vertical-align:middle;\" /></a></td></tr>\n",
       "<tr><td>1</td><td>Literal</td><td></td><td><a class=\"ProveItLink\" href=\"../../../../../../logic/equality/__pv_it/common/731dd3955b346c1320ed5c0ba7a618bcda61457d0/expr.ipynb\"><img src=\"../../../../../../logic/equality/__pv_it/common/731dd3955b346c1320ed5c0ba7a618bcda61457d0/expr.png\" style=\"display:inline;vertical-align:middle;\" /></a></td></tr>\n",
       "<tr><td>2</td><td>ExprTuple</td><td>3, 4</td><td><a class=\"ProveItLink\" href=\"../5c82267919f00451f2a66624bfa74dc350e380570/expr.ipynb\"><img src=\"../5c82267919f00451f2a66624bfa74dc350e380570/expr.png\" style=\"display:inline;vertical-align:middle;\" /></a></td></tr>\n",
       "<tr><td>3</td><td>Literal</td><td></td><td><a class=\"ProveItLink\" href=\"../../common/6fbe814f8e69ebb8118609f285ee9bd7efa0f6e60/expr.ipynb\"><img src=\"../../common/6fbe814f8e69ebb8118609f285ee9bd7efa0f6e60/expr.png\" style=\"display:inline;vertical-align:middle;\" /></a></td></tr>\n",
       "<tr><td>4</td><td>Operation</td><td>operator:&nbsp;5<br>operand:&nbsp;7<br></td><td><a class=\"ProveItLink\" href=\"../31a5ae2b61f1a80e50444afee00aa1eae66f23f50/expr.ipynb\"><img src=\"../31a5ae2b61f1a80e50444afee00aa1eae66f23f50/expr.png\" style=\"display:inline;vertical-align:middle;\" /></a></td></tr>\n",
       "<tr><td>5</td><td>Literal</td><td></td><td><a class=\"ProveItLink\" href=\"../../../../../../logic/sets/comprehension/__pv_it/common/b7b30a274e751b4e906148c5048767884df8850f0/expr.ipynb\"><img src=\"../../../../../../logic/sets/comprehension/__pv_it/common/b7b30a274e751b4e906148c5048767884df8850f0/expr.png\" style=\"display:inline;vertical-align:middle;\" /></a></td></tr>\n",
       "<tr><td>6</td><td>ExprTuple</td><td>7</td><td><a class=\"ProveItLink\" href=\"../44db4b0254fccc0a1a16037a7ae3d078cdca17240/expr.ipynb\"><img src=\"../44db4b0254fccc0a1a16037a7ae3d078cdca17240/expr.png\" style=\"display:inline;vertical-align:middle;\" /></a></td></tr>\n",
       "<tr><td>7</td><td>Lambda</td><td>parameter:&nbsp;19<br>body:&nbsp;8<br></td><td><a class=\"ProveItLink\" href=\"../3d177ea296e1ef99c2655d5ad012ddc13527cc710/expr.ipynb\"><img src=\"../3d177ea296e1ef99c2655d5ad012ddc13527cc710/expr.png\" style=\"display:inline;vertical-align:middle;\" /></a></td></tr>\n",
       "<tr><td>8</td><td>Conditional</td><td>value:&nbsp;19<br>condition:&nbsp;9<br></td><td><a class=\"ProveItLink\" href=\"../2295ef80f4ac093d520664f019673d9fcc1a5feb0/expr.ipynb\"><img src=\"../2295ef80f4ac093d520664f019673d9fcc1a5feb0/expr.png\" style=\"display:inline;vertical-align:middle;\" /></a></td></tr>\n",
       "<tr><td>9</td><td>Operation</td><td>operator:&nbsp;10<br>operands:&nbsp;11<br></td><td><a class=\"ProveItLink\" href=\"../db689f1823f419ca47e8bcff0f7a0b1d36ceafac0/expr.ipynb\"><img src=\"../db689f1823f419ca47e8bcff0f7a0b1d36ceafac0/expr.png\" style=\"display:inline;vertical-align:middle;\" /></a></td></tr>\n",
       "<tr><td>10</td><td>Literal</td><td></td><td><a class=\"ProveItLink\" href=\"../../../../../../logic/booleans/conjunction/__pv_it/common/26b94b53e70b1d77b70f0d9d4236347db37731060/expr.ipynb\"><img src=\"../../../../../../logic/booleans/conjunction/__pv_it/common/26b94b53e70b1d77b70f0d9d4236347db37731060/expr.png\" style=\"display:inline;vertical-align:middle;\" /></a></td></tr>\n",
       "<tr><td>11</td><td>ExprTuple</td><td>12, 13</td><td><a class=\"ProveItLink\" href=\"../d377763bf5607689970c825bf8f603010027f28f0/expr.ipynb\"><img src=\"../d377763bf5607689970c825bf8f603010027f28f0/expr.png\" style=\"display:inline;vertical-align:middle;\" /></a></td></tr>\n",
       "<tr><td>12</td><td>Operation</td><td>operator:&nbsp;14<br>operands:&nbsp;15<br></td><td><a class=\"ProveItLink\" href=\"../33ebefb2762217e47b80ae4caef9d2d9c38d2da50/expr.ipynb\"><img src=\"../33ebefb2762217e47b80ae4caef9d2d9c38d2da50/expr.png\" style=\"display:inline;vertical-align:middle;\" /></a></td></tr>\n",
       "<tr><td>13</td><td>Operation</td><td>operator:&nbsp;16<br>operands:&nbsp;17<br></td><td><a class=\"ProveItLink\" href=\"../bce9b3ea2a172e362e0b33ce893a31a03d9138250/expr.ipynb\"><img src=\"../bce9b3ea2a172e362e0b33ce893a31a03d9138250/expr.png\" style=\"display:inline;vertical-align:middle;\" /></a></td></tr>\n",
       "<tr><td>14</td><td>Literal</td><td></td><td><a class=\"ProveItLink\" href=\"../../../../../../logic/sets/membership/__pv_it/common/7171deca84f71f47a6ec7696972d1632274a12880/expr.ipynb\"><img src=\"../../../../../../logic/sets/membership/__pv_it/common/7171deca84f71f47a6ec7696972d1632274a12880/expr.png\" style=\"display:inline;vertical-align:middle;\" /></a></td></tr>\n",
       "<tr><td>15</td><td>ExprTuple</td><td>19, 18</td><td><a class=\"ProveItLink\" href=\"../236e053a15a66eafd9dd778d72f36308646b3b030/expr.ipynb\"><img src=\"../236e053a15a66eafd9dd778d72f36308646b3b030/expr.png\" style=\"display:inline;vertical-align:middle;\" /></a></td></tr>\n",
       "<tr><td>16</td><td>Literal</td><td></td><td><a class=\"ProveItLink\" href=\"../../../../../ordering/__pv_it/common/28edf56075f82c850836d8cd79dbcacf62e589820/expr.ipynb\"><img src=\"../../../../../ordering/__pv_it/common/28edf56075f82c850836d8cd79dbcacf62e589820/expr.png\" style=\"display:inline;vertical-align:middle;\" /></a></td></tr>\n",
       "<tr><td>17</td><td>ExprTuple</td><td>19, 20</td><td><a class=\"ProveItLink\" href=\"../ab4edd26b976ad6a8a5fd7a48fc2f0ef93f5698e0/expr.ipynb\"><img src=\"../ab4edd26b976ad6a8a5fd7a48fc2f0ef93f5698e0/expr.png\" style=\"display:inline;vertical-align:middle;\" /></a></td></tr>\n",
       "<tr><td>18</td><td>Literal</td><td></td><td><a class=\"ProveItLink\" href=\"../../common/c31fbf3e632f478b2f5544a54ba7525fd0343dcc0/expr.ipynb\"><img src=\"../../common/c31fbf3e632f478b2f5544a54ba7525fd0343dcc0/expr.png\" style=\"display:inline;vertical-align:middle;\" /></a></td></tr>\n",
       "<tr><td>19</td><td>Variable</td><td></td><td><a class=\"ProveItLink\" href=\"../../../../../../__pv_it/common/f2bd1b9e481507771e819bb7e823773346b8e1180/expr.ipynb\"><img src=\"../../../../../../__pv_it/common/f2bd1b9e481507771e819bb7e823773346b8e1180/expr.png\" style=\"display:inline;vertical-align:middle;\" /></a></td></tr>\n",
       "<tr><td>20</td><td>Literal</td><td></td><td><a class=\"ProveItLink\" href=\"../../../../../numerals/__pv_it/common/c35fdf7268947ca3e24174d2909dc9d0a7f3aac60/expr.ipynb\"><img src=\"../../../../../numerals/__pv_it/common/c35fdf7268947ca3e24174d2909dc9d0a7f3aac60/expr.png\" style=\"display:inline;vertical-align:middle;\" /></a></td></tr>\n",
       "</table>\n"
      ],
      "text/plain": [
       "0. RationalNeg = {q s.t. q < 0}_{q in Rational}\n",
       "   core type: Operation\n",
       "   operator: 1\n",
       "   operands: 2\n",
       "1. =\n",
       "   core type: Literal\n",
       "   sub-expressions: \n",
       "2. (RationalNeg, {q s.t. q < 0}_{q in Rational})\n",
       "   core type: ExprTuple\n",
       "   sub-expressions: 3, 4\n",
       "3. RationalNeg\n",
       "   core type: Literal\n",
       "   sub-expressions: \n",
       "4. {q s.t. q < 0}_{q in Rational}\n",
       "   core type: Operation\n",
       "   operator: 5\n",
       "   operand: 7\n",
       "5. SetOfAll\n",
       "   core type: Literal\n",
       "   sub-expressions: \n",
       "6. (q -> {q if q in Rational ,  q < 0.)\n",
       "   core type: ExprTuple\n",
       "   sub-expressions: 7\n",
       "7. q -> {q if q in Rational ,  q < 0.\n",
       "   core type: Lambda\n",
       "   parameter: 19\n",
       "   body: 8\n",
       "8. {q if q in Rational ,  q < 0.\n",
       "   core type: Conditional\n",
       "   value: 19\n",
       "   condition: 9\n",
       "9. (q in Rational) and (q < 0)\n",
       "   core type: Operation\n",
       "   operator: 10\n",
       "   operands: 11\n",
       "10. and\n",
       "    core type: Literal\n",
       "    sub-expressions: \n",
       "11. (q in Rational, q < 0)\n",
       "    core type: ExprTuple\n",
       "    sub-expressions: 12, 13\n",
       "12. q in Rational\n",
       "    core type: Operation\n",
       "    operator: 14\n",
       "    operands: 15\n",
       "13. q < 0\n",
       "    core type: Operation\n",
       "    operator: 16\n",
       "    operands: 17\n",
       "14. in\n",
       "    core type: Literal\n",
       "    sub-expressions: \n",
       "15. (q, Rational)\n",
       "    core type: ExprTuple\n",
       "    sub-expressions: 19, 18\n",
       "16. <\n",
       "    core type: Literal\n",
       "    sub-expressions: \n",
       "17. (q, 0)\n",
       "    core type: ExprTuple\n",
       "    sub-expressions: 19, 20\n",
       "18. Rational\n",
       "    core type: Literal\n",
       "    sub-expressions: \n",
       "19. q\n",
       "    core type: Variable\n",
       "    sub-expressions: \n",
       "20. 0\n",
       "    core type: Literal\n",
       "    sub-expressions: "
      ]
     },
     "execution_count": 6,
     "metadata": {},
     "output_type": "execute_result"
    }
   ],
   "source": [
    "# display the expression information\n",
    "expr.expr_info()"
   ]
  },
  {
   "cell_type": "code",
   "execution_count": null,
   "metadata": {},
   "outputs": [],
   "source": []
  }
 ],
 "metadata": {
  "kernelspec": {
   "display_name": "Python 3",
   "language": "python",
   "name": "python3"
  }
 },
 "nbformat": 4,
 "nbformat_minor": 0
}