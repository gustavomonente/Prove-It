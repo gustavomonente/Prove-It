{
 "cells": [
  {
   "cell_type": "markdown",
   "metadata": {},
   "source": [
    "Expression of type <a class=\"ProveItLink\" href=\"../../../../../../../../doc/html/api/proveit.logic.Forall.html\">Forall</a>\n",
    "=======================\n",
    "# from the theory of <a class=\"ProveItLink\" href=\"../../../_theory_nbs_/theory.ipynb\">proveit.numbers.number_sets.rational_numbers</a>"
   ]
  },
  {
   "cell_type": "code",
   "execution_count": 1,
   "metadata": {},
   "outputs": [],
   "source": [
    "import proveit\n",
    "# Automation is not needed when building an expression:\n",
    "proveit.defaults.automation = False # This will speed things up.\n",
    "proveit.defaults.inline_pngs = False # Makes files smaller.\n",
    "%load_expr # Load the stored expression as 'stored_expr'\n",
    "# import Expression classes needed to build the expression\n",
    "from proveit import q\n",
    "from proveit.logic import Forall, Iff, InSet\n",
    "from proveit.numbers import Greater, Rational, RationalPos, zero"
   ]
  },
  {
   "cell_type": "code",
   "execution_count": 2,
   "metadata": {},
   "outputs": [
    {
     "data": {
      "text/html": [
       "<strong id=\"expr\">expr:</strong> <a class=\"ProveItLink\" href=\"expr.ipynb\"><img src=\"expr.png\" style=\"display:inline;vertical-align:middle;\" /></a><br>"
      ],
      "text/plain": [
       "expr: forall_{q in Rational} ((q in RationalPos) <=> (q > 0))"
      ]
     },
     "execution_count": 2,
     "metadata": {},
     "output_type": "execute_result"
    }
   ],
   "source": [
    "# build up the expression from sub-expressions\n",
    "expr = Forall([q], Iff(InSet(q, RationalPos), Greater(q, zero)), domains = [Rational])"
   ]
  },
  {
   "cell_type": "code",
   "execution_count": 3,
   "metadata": {},
   "outputs": [
    {
     "name": "stdout",
     "output_type": "stream",
     "text": [
      "Passed sanity check: expr matches stored_expr\n"
     ]
    }
   ],
   "source": [
    "# check that the built expression is the same as the stored expression\n",
    "assert expr == stored_expr\n",
    "assert expr._style_id == stored_expr._style_id\n",
    "print(\"Passed sanity check: expr matches stored_expr\")"
   ]
  },
  {
   "cell_type": "code",
   "execution_count": 4,
   "metadata": {},
   "outputs": [
    {
     "name": "stdout",
     "output_type": "stream",
     "text": [
      "\\forall_{q \\in \\mathbb{Q}}~\\left(\\left(q \\in \\mathbb{Q}^+\\right) \\Leftrightarrow \\left(q > 0\\right)\\right)\n"
     ]
    }
   ],
   "source": [
    "# Show the LaTeX representation of the expression for convenience if you need it.\n",
    "print(expr.latex())"
   ]
  },
  {
   "cell_type": "code",
   "execution_count": 5,
   "metadata": {},
   "outputs": [
    {
     "data": {
      "text/html": [
       "<table><tr><th>&nbsp;</th><th>core type</th><th>sub-expressions</th><th>expression</th></tr>\n",
       "<tr><td>0</td><td>Operation</td><td>operator:&nbsp;1<br>operand:&nbsp;2<br></td><td><a class=\"ProveItLink\" href=\"expr.ipynb\"><img src=\"expr.png\" style=\"display:inline;vertical-align:middle;\" /></a></td></tr>\n",
       "<tr><td>1</td><td>Literal</td><td></td><td><a class=\"ProveItLink\" href=\"../../../../../../logic/booleans/quantification/universality/__pv_it/common/083d2baa0b8ecab1d230f9ec29a15aa1355809fb0/expr.ipynb\"><img src=\"../../../../../../logic/booleans/quantification/universality/__pv_it/common/083d2baa0b8ecab1d230f9ec29a15aa1355809fb0/expr.png\" style=\"display:inline;vertical-align:middle;\" /></a></td></tr>\n",
       "<tr><td>2</td><td>Lambda</td><td>parameter:&nbsp;17<br>body:&nbsp;3<br></td><td><a class=\"ProveItLink\" href=\"../cca24c1d316e274699ad3197a2d58ca648b125130/expr.ipynb\"><img src=\"../cca24c1d316e274699ad3197a2d58ca648b125130/expr.png\" style=\"display:inline;vertical-align:middle;\" /></a></td></tr>\n",
       "<tr><td>3</td><td>Conditional</td><td>value:&nbsp;4<br>condition:&nbsp;5<br></td><td><a class=\"ProveItLink\" href=\"../269c6d293ce14ed84ba09663990a8f4cb4700cbd0/expr.ipynb\"><img src=\"../269c6d293ce14ed84ba09663990a8f4cb4700cbd0/expr.png\" style=\"display:inline;vertical-align:middle;\" /></a></td></tr>\n",
       "<tr><td>4</td><td>Operation</td><td>operator:&nbsp;6<br>operands:&nbsp;7<br></td><td><a class=\"ProveItLink\" href=\"../c244004e0dfa5c2c4c2507e66c6d3bc5dd88ef2f0/expr.ipynb\"><img src=\"../c244004e0dfa5c2c4c2507e66c6d3bc5dd88ef2f0/expr.png\" style=\"display:inline;vertical-align:middle;\" /></a></td></tr>\n",
       "<tr><td>5</td><td>Operation</td><td>operator:&nbsp;12<br>operands:&nbsp;8<br></td><td><a class=\"ProveItLink\" href=\"../8f1fa018fb65f3639a7ffd578fd62009aad96a840/expr.ipynb\"><img src=\"../8f1fa018fb65f3639a7ffd578fd62009aad96a840/expr.png\" style=\"display:inline;vertical-align:middle;\" /></a></td></tr>\n",
       "<tr><td>6</td><td>Literal</td><td></td><td><a class=\"ProveItLink\" href=\"../../../../../../logic/booleans/implication/__pv_it/common/9e5b2ca32e104df56a83c73c522e9f700ffd8f9f0/expr.ipynb\"><img src=\"../../../../../../logic/booleans/implication/__pv_it/common/9e5b2ca32e104df56a83c73c522e9f700ffd8f9f0/expr.png\" style=\"display:inline;vertical-align:middle;\" /></a></td></tr>\n",
       "<tr><td>7</td><td>ExprTuple</td><td>9, 10</td><td><a class=\"ProveItLink\" href=\"../e8c66d3483e71b62da046f0c73770f5293f4f27f0/expr.ipynb\"><img src=\"../e8c66d3483e71b62da046f0c73770f5293f4f27f0/expr.png\" style=\"display:inline;vertical-align:middle;\" /></a></td></tr>\n",
       "<tr><td>8</td><td>ExprTuple</td><td>17, 11</td><td><a class=\"ProveItLink\" href=\"../55f922e44c7049164c6496605b101f951dfbdd680/expr.ipynb\"><img src=\"../55f922e44c7049164c6496605b101f951dfbdd680/expr.png\" style=\"display:inline;vertical-align:middle;\" /></a></td></tr>\n",
       "<tr><td>9</td><td>Operation</td><td>operator:&nbsp;12<br>operands:&nbsp;13<br></td><td><a class=\"ProveItLink\" href=\"../105c3d326a40ad0ffb1361376adba54aa82c02720/expr.ipynb\"><img src=\"../105c3d326a40ad0ffb1361376adba54aa82c02720/expr.png\" style=\"display:inline;vertical-align:middle;\" /></a></td></tr>\n",
       "<tr><td>10</td><td>Operation</td><td>operator:&nbsp;14<br>operands:&nbsp;15<br></td><td><a class=\"ProveItLink\" href=\"../9683ec7b4ae92ab9590f6b373fdfdb24ed9dcfb00/expr.ipynb\"><img src=\"../9683ec7b4ae92ab9590f6b373fdfdb24ed9dcfb00/expr.png\" style=\"display:inline;vertical-align:middle;\" /></a></td></tr>\n",
       "<tr><td>11</td><td>Literal</td><td></td><td><a class=\"ProveItLink\" href=\"../../common/3de3e316334b6ece430a3f1aee01ae68b192ecb30/expr.ipynb\"><img src=\"../../common/3de3e316334b6ece430a3f1aee01ae68b192ecb30/expr.png\" style=\"display:inline;vertical-align:middle;\" /></a></td></tr>\n",
       "<tr><td>12</td><td>Literal</td><td></td><td><a class=\"ProveItLink\" href=\"../../../../../../logic/sets/membership/__pv_it/common/477487d8796864d23d5810f83761435f25167f690/expr.ipynb\"><img src=\"../../../../../../logic/sets/membership/__pv_it/common/477487d8796864d23d5810f83761435f25167f690/expr.png\" style=\"display:inline;vertical-align:middle;\" /></a></td></tr>\n",
       "<tr><td>13</td><td>ExprTuple</td><td>17, 16</td><td><a class=\"ProveItLink\" href=\"../ee3bf37244662a6627192b17d65b50cb4096cb2f0/expr.ipynb\"><img src=\"../ee3bf37244662a6627192b17d65b50cb4096cb2f0/expr.png\" style=\"display:inline;vertical-align:middle;\" /></a></td></tr>\n",
       "<tr><td>14</td><td>Literal</td><td></td><td><a class=\"ProveItLink\" href=\"../../../../../ordering/__pv_it/common/869e6d5549437128ed25d67d9fc2182576bdc1d70/expr.ipynb\"><img src=\"../../../../../ordering/__pv_it/common/869e6d5549437128ed25d67d9fc2182576bdc1d70/expr.png\" style=\"display:inline;vertical-align:middle;\" /></a></td></tr>\n",
       "<tr><td>15</td><td>ExprTuple</td><td>17, 18</td><td><a class=\"ProveItLink\" href=\"../518e9f35e1995958ceef2e8ced5c3b31826e96240/expr.ipynb\"><img src=\"../518e9f35e1995958ceef2e8ced5c3b31826e96240/expr.png\" style=\"display:inline;vertical-align:middle;\" /></a></td></tr>\n",
       "<tr><td>16</td><td>Literal</td><td></td><td><a class=\"ProveItLink\" href=\"../../common/a3dbacaeac68e6067737d33f0ad3f5e5161f95200/expr.ipynb\"><img src=\"../../common/a3dbacaeac68e6067737d33f0ad3f5e5161f95200/expr.png\" style=\"display:inline;vertical-align:middle;\" /></a></td></tr>\n",
       "<tr><td>17</td><td>Variable</td><td></td><td><a class=\"ProveItLink\" href=\"../../../../../../__pv_it/common/e94b28ab65b49707a4f3bf26580dfe7bba3eebd90/expr.ipynb\"><img src=\"../../../../../../__pv_it/common/e94b28ab65b49707a4f3bf26580dfe7bba3eebd90/expr.png\" style=\"display:inline;vertical-align:middle;\" /></a></td></tr>\n",
       "<tr><td>18</td><td>Literal</td><td></td><td><a class=\"ProveItLink\" href=\"../../../../../numerals/__pv_it/common/7d0a36793ffe8d307a5c120ee5598162e8cd2db10/expr.ipynb\"><img src=\"../../../../../numerals/__pv_it/common/7d0a36793ffe8d307a5c120ee5598162e8cd2db10/expr.png\" style=\"display:inline;vertical-align:middle;\" /></a></td></tr>\n",
       "</table>\n"
      ],
      "text/plain": [
       "0. forall_{q in Rational} ((q in RationalPos) <=> (q > 0))\n",
       "   core type: Operation\n",
       "   operator: 1\n",
       "   operand: 2\n",
       "1. forall\n",
       "   core type: Literal\n",
       "   sub-expressions: \n",
       "2. q -> {(q in RationalPos) <=> (q > 0) if q in Rational.\n",
       "   core type: Lambda\n",
       "   parameter: 17\n",
       "   body: 3\n",
       "3. {(q in RationalPos) <=> (q > 0) if q in Rational.\n",
       "   core type: Conditional\n",
       "   value: 4\n",
       "   condition: 5\n",
       "4. (q in RationalPos) <=> (q > 0)\n",
       "   core type: Operation\n",
       "   operator: 6\n",
       "   operands: 7\n",
       "5. q in Rational\n",
       "   core type: Operation\n",
       "   operator: 12\n",
       "   operands: 8\n",
       "6. <=>\n",
       "   core type: Literal\n",
       "   sub-expressions: \n",
       "7. (q in RationalPos, q > 0)\n",
       "   core type: ExprTuple\n",
       "   sub-expressions: 9, 10\n",
       "8. (q, Rational)\n",
       "   core type: ExprTuple\n",
       "   sub-expressions: 17, 11\n",
       "9. q in RationalPos\n",
       "   core type: Operation\n",
       "   operator: 12\n",
       "   operands: 13\n",
       "10. q > 0\n",
       "    core type: Operation\n",
       "    operator: 14\n",
       "    operands: 15\n",
       "11. Rational\n",
       "    core type: Literal\n",
       "    sub-expressions: \n",
       "12. in\n",
       "    core type: Literal\n",
       "    sub-expressions: \n",
       "13. (q, RationalPos)\n",
       "    core type: ExprTuple\n",
       "    sub-expressions: 17, 16\n",
       "14. >\n",
       "    core type: Literal\n",
       "    sub-expressions: \n",
       "15. (q, 0)\n",
       "    core type: ExprTuple\n",
       "    sub-expressions: 17, 18\n",
       "16. RationalPos\n",
       "    core type: Literal\n",
       "    sub-expressions: \n",
       "17. q\n",
       "    core type: Variable\n",
       "    sub-expressions: \n",
       "18. 0\n",
       "    core type: Literal\n",
       "    sub-expressions: "
      ]
     },
     "execution_count": 5,
     "metadata": {},
     "output_type": "execute_result"
    }
   ],
   "source": [
    "# display the expression information\n",
    "expr.expr_info()"
   ]
  },
  {
   "cell_type": "code",
   "execution_count": null,
   "metadata": {},
   "outputs": [],
   "source": []
  }
 ],
 "metadata": {
  "kernelspec": {
   "display_name": "Python 3",
   "language": "python",
   "name": "python3"
  }
 },
 "nbformat": 4,
 "nbformat_minor": 0
}