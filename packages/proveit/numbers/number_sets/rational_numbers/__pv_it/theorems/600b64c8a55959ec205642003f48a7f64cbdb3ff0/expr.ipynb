{
 "cells": [
  {
   "cell_type": "markdown",
   "metadata": {},
   "source": [
    "Expression of type <a class=\"ProveItLink\" href=\"../../../../../../../../doc/html/api/proveit.Lambda.html\">Lambda</a>\n",
    "=======================\n",
    "# from the theory of <a class=\"ProveItLink\" href=\"../../../_theory_nbs_/theory.ipynb\">proveit.numbers.number_sets.rational_numbers</a>"
   ]
  },
  {
   "cell_type": "code",
   "execution_count": 1,
   "metadata": {},
   "outputs": [],
   "source": [
    "import proveit\n",
    "# Automation is not needed when building an expression:\n",
    "proveit.defaults.automation = False # This will speed things up.\n",
    "proveit.defaults.inline_pngs = False # Makes files smaller.\n",
    "%load_expr # Load the stored expression as 'stored_expr'\n",
    "# import Expression classes needed to build the expression\n",
    "from proveit import Conditional, Lambda, a, b, q\n",
    "from proveit.logic import And, Equals, InSet\n",
    "from proveit.numbers import GCD, NaturalPos, frac, one"
   ]
  },
  {
   "cell_type": "code",
   "execution_count": 2,
   "metadata": {},
   "outputs": [
    {
     "data": {
      "text/html": [
       "<strong id=\"expr\">expr:</strong> <a class=\"ProveItLink\" href=\"expr.ipynb\"><img src=\"expr.png\" style=\"display:inline;vertical-align:middle;\" /></a><br>"
      ],
      "text/plain": [
       "expr: (a, b) -> {(q = (a / b)) and (gcd(a, b) = 1) if a in NaturalPos ,  b in NaturalPos."
      ]
     },
     "execution_count": 2,
     "metadata": {},
     "output_type": "execute_result"
    }
   ],
   "source": [
    "# build up the expression from sub-expressions\n",
    "expr = Lambda([a, b], Conditional(And(Equals(q, frac(a, b)), Equals(GCD(a, b), one)), And(InSet(a, NaturalPos), InSet(b, NaturalPos))))"
   ]
  },
  {
   "cell_type": "code",
   "execution_count": 3,
   "metadata": {},
   "outputs": [
    {
     "name": "stdout",
     "output_type": "stream",
     "text": [
      "Passed sanity check: expr matches stored_expr\n"
     ]
    }
   ],
   "source": [
    "# check that the built expression is the same as the stored expression\n",
    "assert expr == stored_expr\n",
    "assert expr._style_id == stored_expr._style_id\n",
    "print(\"Passed sanity check: expr matches stored_expr\")"
   ]
  },
  {
   "cell_type": "code",
   "execution_count": 4,
   "metadata": {},
   "outputs": [
    {
     "name": "stdout",
     "output_type": "stream",
     "text": [
      "\\left(a, b\\right) \\mapsto \\left\\{\\left(q = \\frac{a}{b}\\right) \\land \\left(gcd(a, b) = 1\\right) \\textrm{ if } a \\in \\mathbb{N}^+ ,  b \\in \\mathbb{N}^+\\right..\n"
     ]
    }
   ],
   "source": [
    "# Show the LaTeX representation of the expression for convenience if you need it.\n",
    "print(expr.latex())"
   ]
  },
  {
   "cell_type": "code",
   "execution_count": 5,
   "metadata": {},
   "outputs": [
    {
     "data": {
      "text/html": [
       "no style options"
      ],
      "text/plain": [
       "no style options"
      ]
     },
     "execution_count": 5,
     "metadata": {},
     "output_type": "execute_result"
    }
   ],
   "source": [
    "expr.style_options()"
   ]
  },
  {
   "cell_type": "code",
   "execution_count": 6,
   "metadata": {},
   "outputs": [
    {
     "data": {
      "text/html": [
       "<table><tr><th>&nbsp;</th><th>core type</th><th>sub-expressions</th><th>expression</th></tr>\n",
       "<tr><td>0</td><td>Lambda</td><td>parameters:&nbsp;24<br>body:&nbsp;1<br></td><td><a class=\"ProveItLink\" href=\"expr.ipynb\"><img src=\"expr.png\" style=\"display:inline;vertical-align:middle;\" /></a></td></tr>\n",
       "<tr><td>1</td><td>Conditional</td><td>value:&nbsp;2<br>condition:&nbsp;3<br></td><td><a class=\"ProveItLink\" href=\"../23cd460d5f4aff54d10a6fee2138c6e4c07930100/expr.ipynb\"><img src=\"../23cd460d5f4aff54d10a6fee2138c6e4c07930100/expr.png\" style=\"display:inline;vertical-align:middle;\" /></a></td></tr>\n",
       "<tr><td>2</td><td>Operation</td><td>operator:&nbsp;5<br>operands:&nbsp;4<br></td><td><a class=\"ProveItLink\" href=\"../5ebddd623d3ac8849cdb22dd03e57ce4fa3b52770/expr.ipynb\"><img src=\"../5ebddd623d3ac8849cdb22dd03e57ce4fa3b52770/expr.png\" style=\"display:inline;vertical-align:middle;\" /></a></td></tr>\n",
       "<tr><td>3</td><td>Operation</td><td>operator:&nbsp;5<br>operands:&nbsp;6<br></td><td><a class=\"ProveItLink\" href=\"../95a3e4ee015cbd5c7d0a00e428e088e4aa7549c50/expr.ipynb\"><img src=\"../95a3e4ee015cbd5c7d0a00e428e088e4aa7549c50/expr.png\" style=\"display:inline;vertical-align:middle;\" /></a></td></tr>\n",
       "<tr><td>4</td><td>ExprTuple</td><td>7, 8</td><td><a class=\"ProveItLink\" href=\"../121b63dd94eb69401a4216e94e56e68b2316aff60/expr.ipynb\"><img src=\"../121b63dd94eb69401a4216e94e56e68b2316aff60/expr.png\" style=\"display:inline;vertical-align:middle;\" /></a></td></tr>\n",
       "<tr><td>5</td><td>Literal</td><td></td><td><a class=\"ProveItLink\" href=\"../../../../../../logic/booleans/conjunction/__pv_it/common/26b94b53e70b1d77b70f0d9d4236347db37731060/expr.ipynb\"><img src=\"../../../../../../logic/booleans/conjunction/__pv_it/common/26b94b53e70b1d77b70f0d9d4236347db37731060/expr.png\" style=\"display:inline;vertical-align:middle;\" /></a></td></tr>\n",
       "<tr><td>6</td><td>ExprTuple</td><td>9, 10</td><td><a class=\"ProveItLink\" href=\"../bcaa405e3c149e9429cf9bfe1e6726abe51494720/expr.ipynb\"><img src=\"../bcaa405e3c149e9429cf9bfe1e6726abe51494720/expr.png\" style=\"display:inline;vertical-align:middle;\" /></a></td></tr>\n",
       "<tr><td>7</td><td>Operation</td><td>operator:&nbsp;12<br>operands:&nbsp;11<br></td><td><a class=\"ProveItLink\" href=\"../a7d72a506ccdfc071aadbf5d2f8b738209a250da0/expr.ipynb\"><img src=\"../a7d72a506ccdfc071aadbf5d2f8b738209a250da0/expr.png\" style=\"display:inline;vertical-align:middle;\" /></a></td></tr>\n",
       "<tr><td>8</td><td>Operation</td><td>operator:&nbsp;12<br>operands:&nbsp;13<br></td><td><a class=\"ProveItLink\" href=\"../9bd4773c2dba8f63a38ed92b69dc4699862b778c0/expr.ipynb\"><img src=\"../9bd4773c2dba8f63a38ed92b69dc4699862b778c0/expr.png\" style=\"display:inline;vertical-align:middle;\" /></a></td></tr>\n",
       "<tr><td>9</td><td>Operation</td><td>operator:&nbsp;15<br>operands:&nbsp;14<br></td><td><a class=\"ProveItLink\" href=\"../43a6bba8ef55ffabb255a1a2d8db04a72bf7459a0/expr.ipynb\"><img src=\"../43a6bba8ef55ffabb255a1a2d8db04a72bf7459a0/expr.png\" style=\"display:inline;vertical-align:middle;\" /></a></td></tr>\n",
       "<tr><td>10</td><td>Operation</td><td>operator:&nbsp;15<br>operands:&nbsp;16<br></td><td><a class=\"ProveItLink\" href=\"../fc424e225d68929f577c54c460515ae4efab5f300/expr.ipynb\"><img src=\"../fc424e225d68929f577c54c460515ae4efab5f300/expr.png\" style=\"display:inline;vertical-align:middle;\" /></a></td></tr>\n",
       "<tr><td>11</td><td>ExprTuple</td><td>17, 18</td><td><a class=\"ProveItLink\" href=\"../858eb34b76ef6663bb542167eb08680b42a0148a0/expr.ipynb\"><img src=\"../858eb34b76ef6663bb542167eb08680b42a0148a0/expr.png\" style=\"display:inline;vertical-align:middle;\" /></a></td></tr>\n",
       "<tr><td>12</td><td>Literal</td><td></td><td><a class=\"ProveItLink\" href=\"../../../../../../logic/equality/__pv_it/common/731dd3955b346c1320ed5c0ba7a618bcda61457d0/expr.ipynb\"><img src=\"../../../../../../logic/equality/__pv_it/common/731dd3955b346c1320ed5c0ba7a618bcda61457d0/expr.png\" style=\"display:inline;vertical-align:middle;\" /></a></td></tr>\n",
       "<tr><td>13</td><td>ExprTuple</td><td>19, 20</td><td><a class=\"ProveItLink\" href=\"../92f7f96308abac2f892b519865c1d016d26bcd160/expr.ipynb\"><img src=\"../92f7f96308abac2f892b519865c1d016d26bcd160/expr.png\" style=\"display:inline;vertical-align:middle;\" /></a></td></tr>\n",
       "<tr><td>14</td><td>ExprTuple</td><td>25, 21</td><td><a class=\"ProveItLink\" href=\"../6c66fe37fa26f7e3d0728d0ecc005cbe5f8ca99a0/expr.ipynb\"><img src=\"../6c66fe37fa26f7e3d0728d0ecc005cbe5f8ca99a0/expr.png\" style=\"display:inline;vertical-align:middle;\" /></a></td></tr>\n",
       "<tr><td>15</td><td>Literal</td><td></td><td><a class=\"ProveItLink\" href=\"../../../../../../logic/sets/membership/__pv_it/common/7171deca84f71f47a6ec7696972d1632274a12880/expr.ipynb\"><img src=\"../../../../../../logic/sets/membership/__pv_it/common/7171deca84f71f47a6ec7696972d1632274a12880/expr.png\" style=\"display:inline;vertical-align:middle;\" /></a></td></tr>\n",
       "<tr><td>16</td><td>ExprTuple</td><td>26, 21</td><td><a class=\"ProveItLink\" href=\"../8966f46adc95899132e2e78f096e2a760ded85d70/expr.ipynb\"><img src=\"../8966f46adc95899132e2e78f096e2a760ded85d70/expr.png\" style=\"display:inline;vertical-align:middle;\" /></a></td></tr>\n",
       "<tr><td>17</td><td>Variable</td><td></td><td><a class=\"ProveItLink\" href=\"../../../../../../__pv_it/common/f2bd1b9e481507771e819bb7e823773346b8e1180/expr.ipynb\"><img src=\"../../../../../../__pv_it/common/f2bd1b9e481507771e819bb7e823773346b8e1180/expr.png\" style=\"display:inline;vertical-align:middle;\" /></a></td></tr>\n",
       "<tr><td>18</td><td>Operation</td><td>operator:&nbsp;22<br>operands:&nbsp;24<br></td><td><a class=\"ProveItLink\" href=\"../d48a4ab35a2579654fdd9170c53ab4eb19e23e8e0/expr.ipynb\"><img src=\"../d48a4ab35a2579654fdd9170c53ab4eb19e23e8e0/expr.png\" style=\"display:inline;vertical-align:middle;\" /></a></td></tr>\n",
       "<tr><td>19</td><td>Operation</td><td>operator:&nbsp;23<br>operands:&nbsp;24<br></td><td><a class=\"ProveItLink\" href=\"../f43630605f50fe3c0597b7d796520f0146386f5e0/expr.ipynb\"><img src=\"../f43630605f50fe3c0597b7d796520f0146386f5e0/expr.png\" style=\"display:inline;vertical-align:middle;\" /></a></td></tr>\n",
       "<tr><td>20</td><td>Literal</td><td></td><td><a class=\"ProveItLink\" href=\"../../../../../numerals/__pv_it/common/d278e359da0695d9652dd541d45264f93703e2e40/expr.ipynb\"><img src=\"../../../../../numerals/__pv_it/common/d278e359da0695d9652dd541d45264f93703e2e40/expr.png\" style=\"display:inline;vertical-align:middle;\" /></a></td></tr>\n",
       "<tr><td>21</td><td>Literal</td><td></td><td><a class=\"ProveItLink\" href=\"../../../../natural_numbers/__pv_it/common/a2a7252783c385c028dad802e97575c19e456b990/expr.ipynb\"><img src=\"../../../../natural_numbers/__pv_it/common/a2a7252783c385c028dad802e97575c19e456b990/expr.png\" style=\"display:inline;vertical-align:middle;\" /></a></td></tr>\n",
       "<tr><td>22</td><td>Literal</td><td></td><td><a class=\"ProveItLink\" href=\"../../../../../division/__pv_it/common/9ecc1ae47b83f7ed759e5ea63a2023a8f2ab04800/expr.ipynb\"><img src=\"../../../../../division/__pv_it/common/9ecc1ae47b83f7ed759e5ea63a2023a8f2ab04800/expr.png\" style=\"display:inline;vertical-align:middle;\" /></a></td></tr>\n",
       "<tr><td>23</td><td>Literal</td><td></td><td><a class=\"ProveItLink\" href=\"../../../../../divisibility/__pv_it/common/af4cb9866c0023df0dac45a9310a02c067e634d30/expr.ipynb\"><img src=\"../../../../../divisibility/__pv_it/common/af4cb9866c0023df0dac45a9310a02c067e634d30/expr.png\" style=\"display:inline;vertical-align:middle;\" /></a></td></tr>\n",
       "<tr><td>24</td><td>ExprTuple</td><td>25, 26</td><td><a class=\"ProveItLink\" href=\"../1bdfc8550dcba21649b1aca02603584957f865fb0/expr.ipynb\"><img src=\"../1bdfc8550dcba21649b1aca02603584957f865fb0/expr.png\" style=\"display:inline;vertical-align:middle;\" /></a></td></tr>\n",
       "<tr><td>25</td><td>Variable</td><td></td><td><a class=\"ProveItLink\" href=\"../../../../../../__pv_it/common/66c90e66682f107a881f2d666959f64e2e72ad750/expr.ipynb\"><img src=\"../../../../../../__pv_it/common/66c90e66682f107a881f2d666959f64e2e72ad750/expr.png\" style=\"display:inline;vertical-align:middle;\" /></a></td></tr>\n",
       "<tr><td>26</td><td>Variable</td><td></td><td><a class=\"ProveItLink\" href=\"../../../../../../__pv_it/common/4a5db8cc5c67969ec864bd3ea598be37cb6f5e550/expr.ipynb\"><img src=\"../../../../../../__pv_it/common/4a5db8cc5c67969ec864bd3ea598be37cb6f5e550/expr.png\" style=\"display:inline;vertical-align:middle;\" /></a></td></tr>\n",
       "</table>\n"
      ],
      "text/plain": [
       "0. (a, b) -> {(q = (a / b)) and (gcd(a, b) = 1) if a in NaturalPos ,  b in NaturalPos.\n",
       "   core type: Lambda\n",
       "   parameters: 24\\n   body: 1\n",
       "1. {(q = (a / b)) and (gcd(a, b) = 1) if a in NaturalPos ,  b in NaturalPos.\n",
       "   core type: Conditional\n",
       "   value: 2\n",
       "   condition: 3\n",
       "2. (q = (a / b)) and (gcd(a, b) = 1)\n",
       "   core type: Operation\n",
       "   operator: 5\n",
       "   operands: 4\n",
       "3. (a in NaturalPos) and (b in NaturalPos)\n",
       "   core type: Operation\n",
       "   operator: 5\n",
       "   operands: 6\n",
       "4. (q = (a / b), gcd(a, b) = 1)\n",
       "   core type: ExprTuple\n",
       "   sub-expressions: 7, 8\n",
       "5. and\n",
       "   core type: Literal\n",
       "   sub-expressions: \n",
       "6. (a in NaturalPos, b in NaturalPos)\n",
       "   core type: ExprTuple\n",
       "   sub-expressions: 9, 10\n",
       "7. q = (a / b)\n",
       "   core type: Operation\n",
       "   operator: 12\n",
       "   operands: 11\n",
       "8. gcd(a, b) = 1\n",
       "   core type: Operation\n",
       "   operator: 12\n",
       "   operands: 13\n",
       "9. a in NaturalPos\n",
       "   core type: Operation\n",
       "   operator: 15\n",
       "   operands: 14\n",
       "10. b in NaturalPos\n",
       "    core type: Operation\n",
       "    operator: 15\n",
       "    operands: 16\n",
       "11. (q, a / b)\n",
       "    core type: ExprTuple\n",
       "    sub-expressions: 17, 18\n",
       "12. =\n",
       "    core type: Literal\n",
       "    sub-expressions: \n",
       "13. (gcd(a, b), 1)\n",
       "    core type: ExprTuple\n",
       "    sub-expressions: 19, 20\n",
       "14. (a, NaturalPos)\n",
       "    core type: ExprTuple\n",
       "    sub-expressions: 25, 21\n",
       "15. in\n",
       "    core type: Literal\n",
       "    sub-expressions: \n",
       "16. (b, NaturalPos)\n",
       "    core type: ExprTuple\n",
       "    sub-expressions: 26, 21\n",
       "17. q\n",
       "    core type: Variable\n",
       "    sub-expressions: \n",
       "18. a / b\n",
       "    core type: Operation\n",
       "    operator: 22\n",
       "    operands: 24\n",
       "19. gcd(a, b)\n",
       "    core type: Operation\n",
       "    operator: 23\n",
       "    operands: 24\n",
       "20. 1\n",
       "    core type: Literal\n",
       "    sub-expressions: \n",
       "21. NaturalPos\n",
       "    core type: Literal\n",
       "    sub-expressions: \n",
       "22. /\n",
       "    core type: Literal\n",
       "    sub-expressions: \n",
       "23. gcd\n",
       "    core type: Literal\n",
       "    sub-expressions: \n",
       "24. (a, b)\n",
       "    core type: ExprTuple\n",
       "    sub-expressions: 25, 26\n",
       "25. a\n",
       "    core type: Variable\n",
       "    sub-expressions: \n",
       "26. b\n",
       "    core type: Variable\n",
       "    sub-expressions: "
      ]
     },
     "execution_count": 6,
     "metadata": {},
     "output_type": "execute_result"
    }
   ],
   "source": [
    "# display the expression information\n",
    "expr.expr_info()"
   ]
  },
  {
   "cell_type": "code",
   "execution_count": null,
   "metadata": {},
   "outputs": [],
   "source": []
  }
 ],
 "metadata": {
  "kernelspec": {
   "display_name": "Python 3",
   "language": "python",
   "name": "python3"
  }
 },
 "nbformat": 4,
 "nbformat_minor": 0
}