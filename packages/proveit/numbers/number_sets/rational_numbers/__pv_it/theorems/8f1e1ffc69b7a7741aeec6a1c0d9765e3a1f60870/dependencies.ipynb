{
 "cells": [
  {
   "cell_type": "markdown",
   "metadata": {},
   "source": [
    "Theorem Dependencies\n",
    "=======================\n",
    "\n",
    "## <a class=\"ProveItLink\" href=\"../../../_theory_nbs_/theory.ipynb\">proveit.numbers.number_sets.rational_numbers</a>.<a class=\"ProveItLink\" href=\"../../../_theorems_.ipynb#zero_is_rational\">zero_is_rational</a> \n",
    "***see <a class=\"ProveItLink\" href=\"../../../_theory_nbs_/proofs/zero_is_rational/thm_proof.ipynb\">proof</a>***"
   ]
  },
  {
   "cell_type": "code",
   "execution_count": 1,
   "metadata": {},
   "outputs": [],
   "source": [
    "import proveit\n",
    "# Automation is not needed when querying dependencies:\n",
    "proveit.defaults.automation = False # This will speed things up.\n",
    "proveit.defaults.inline_pngs = False # Makes files smaller.\n",
    "from proveit.numbers.number_sets.rational_numbers import zero_is_rational"
   ]
  },
  {
   "cell_type": "code",
   "execution_count": 2,
   "metadata": {},
   "outputs": [
    {
     "data": {
      "text/html": [
       "<h3>This theorem has not been proven yet.</h3>"
      ],
      "text/plain": [
       "<IPython.core.display.HTML object>"
      ]
     },
     "metadata": {},
     "output_type": "display_data"
    },
    {
     "data": {
      "text/html": [
       "<h3>Theorems/conjectures that depend directly on zero_is_rational</h3>"
      ],
      "text/plain": [
       "<IPython.core.display.HTML object>"
      ]
     },
     "metadata": {},
     "output_type": "display_data"
    },
    {
     "data": {
      "text/html": [
       "<dl>"
      ],
      "text/plain": [
       "<IPython.core.display.HTML object>"
      ]
     },
     "metadata": {},
     "output_type": "display_data"
    },
    {
     "data": {
      "text/html": [
       "<dt><a class=\"ProveItLink\" href=\"../../../../natural_numbers/_theory_nbs_/proofs/non_zero_if_is_nat_pos/thm_proof.ipynb\">proveit.numbers.number_sets.natural_numbers.non_zero_if_is_nat_pos</a></dt><dd><a class=\"ProveItLink\" href=\"../../../../natural_numbers/__pv_it/theorems/9efca9863a66cefadb28bfe0c9e4415523ebebc40/expr.ipynb\"><img src=\"../../../../natural_numbers/__pv_it/theorems/9efca9863a66cefadb28bfe0c9e4415523ebebc40/expr.png\" style=\"display:inline;vertical-align:middle;\" /></a></dd>"
      ],
      "text/plain": [
       "<IPython.core.display.HTML object>"
      ]
     },
     "metadata": {},
     "output_type": "display_data"
    },
    {
     "data": {
      "text/html": [
       "<dt><a class=\"ProveItLink\" href=\"../../../../../rounding/_theory_nbs_/proofs/real_minus_floor_interval/thm_proof.ipynb\">proveit.numbers.rounding.real_minus_floor_interval</a></dt><dd><a class=\"ProveItLink\" href=\"../../../../../rounding/__pv_it/theorems/b2645abe54b477977381aae7e89e83e676e665910/expr.ipynb\"><img src=\"../../../../../rounding/__pv_it/theorems/b2645abe54b477977381aae7e89e83e676e665910/expr.png\" style=\"display:inline;vertical-align:middle;\" /></a></dd>"
      ],
      "text/plain": [
       "<IPython.core.display.HTML object>"
      ]
     },
     "metadata": {},
     "output_type": "display_data"
    },
    {
     "data": {
      "text/html": [
       "<dt><a class=\"ProveItLink\" href=\"../../../../../../physics/quantum/QPE/_theory_nbs_/proofs/phase_is_real/thm_proof.ipynb\">proveit.physics.quantum.QPE.phase_is_real</a></dt><dd><a class=\"ProveItLink\" href=\"../../../../../../physics/quantum/QPE/__pv_it/theorems/c3d0f341aea7d359c5b6b143dedd8983441e4a610/expr.ipynb\"><img src=\"../../../../../../physics/quantum/QPE/__pv_it/theorems/c3d0f341aea7d359c5b6b143dedd8983441e4a610/expr.png\" style=\"display:inline;vertical-align:middle;\" /></a></dd>"
      ],
      "text/plain": [
       "<IPython.core.display.HTML object>"
      ]
     },
     "metadata": {},
     "output_type": "display_data"
    },
    {
     "data": {
      "text/html": [
       "</dl>"
      ],
      "text/plain": [
       "<IPython.core.display.HTML object>"
      ]
     },
     "metadata": {},
     "output_type": "display_data"
    }
   ],
   "source": [
    "%dependencies zero_is_rational"
   ]
  }
 ],
 "metadata": {
  "kernelspec": {
   "display_name": "Python 3",
   "language": "python",
   "name": "python3"
  }
 },
 "nbformat": 4,
 "nbformat_minor": 0
}