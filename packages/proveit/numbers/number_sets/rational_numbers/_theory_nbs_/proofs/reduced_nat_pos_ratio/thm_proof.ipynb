{
 "cells": [
  {
   "cell_type": "markdown",
   "metadata": {},
   "source": [
    "Proof of <a class=\"ProveItLink\" href=\"../../../../../../_theory_nbs_/theory.ipynb\">proveit</a>.<a class=\"ProveItLink\" href=\"../../../../../_theory_nbs_/theory.ipynb\">numbers</a>.<a class=\"ProveItLink\" href=\"../../../../_theory_nbs_/theory.ipynb\">number_sets</a>.<a class=\"ProveItLink\" href=\"../../theory.ipynb\">rational_numbers</a>.<a class=\"ProveItLink\" href=\"../../theorems.ipynb#reduced_nat_pos_ratio\">reduced_nat_pos_ratio</a> theorem\n",
    "========"
   ]
  },
  {
   "cell_type": "code",
   "execution_count": 1,
   "metadata": {},
   "outputs": [],
   "source": [
    "import proveit\n",
    "theory = proveit.Theory() # the theorem's theory"
   ]
  },
  {
   "cell_type": "code",
   "execution_count": 2,
   "metadata": {},
   "outputs": [
    {
     "data": {
      "text/html": [
       "Under these <a href=\"presumptions.txt\">presumptions</a>, we begin our proof of<br><strong id=\"reduced_nat_pos_ratio\">reduced_nat_pos_ratio:</strong> <a class=\"ProveItLink\" href=\"../../../__pv_it/theorems/6e0295753c0836e87d9b72b6c58a60663934f9380/expr.ipynb\"><img src=\"data:image/png;base64,iVBORw0KGgoAAAANSUhEUgAAAZ8AAAAmBAMAAADpfouuAAAAMFBMVEX///8QEBCIiIhmZma6urrM\n",
       "zMxUVFQiIiJERETc3Nzu7u6qqqp2dnaYmJgyMjIAAAAcRTyBAAAAAXRSTlMAQObYZgAABoJJREFU\n",
       "WMO1mH2IVFUUwM98z7x5M7uWUa5Fr13L0rBlF+wPzcaC+iPQIdCSghmWWthIGxCzTGIyqN3CfBlk\n",
       "BuZbjVYMnRey1Aqxy26lpNITgwhzHbQPFKylto8dP+p+vLn3fdw3Oxtvzh/nvZl358z9vXPuOede\n",
       "gOmlf9bNUL+kDK7FIuXBb6EmQ7NmafWM7p+R7UUW7ZLE0o4WgBW+A1VNBuoCGpiJ5XAL125ZrqYn\n",
       "AIL+u8g02QCg/izX7si4BUJFdL3kv4suNQqo26JdEqpATEHXtzXfgahJ/4EiU1y7JVCEEvZd1P+Y\n",
       "oyb9B0rnuXZLaQSGCXDFdyBq0n+g3SrXAiAd1iXxs3P+L6JzjQFaZtFuiSup52V8c9J/oJMzAtqJ\n",
       "RK1n7HUWLchyXbe/O4+4MON8tEtQtJzFeUhoNEknRkwioDL+cGY6oMXd3d0tdfAk/uS6lgRGnKhF\n",
       "++fHrwfYZ33+SgEtfPE77eEmEdAx/OFiPSHXU0/fM8F1zZxUNm+qU0w753oZ4IIt27QjqrLL0Cco\n",
       "xg5ykwjoPfxGi34BhQpc1yzsVeTz5vWUs+GoQKrd+kWTjtSo06/PPoeAZIWZREBp/I3uF1CsyHUt\n",
       "SZqFKvK6uYpfdAyQCxCzOW2lJuwqz6KvpWZmEgGlvt6/fwf4BdTUznXNqnHZDL0HFLr2nD5FEWaf\n",
       "1RHybUYEBD8ykzjL/dPbu9n9j/IMgCwLvEnhOnFiwTzPdv8qvR4EShLEryDZsRC5drQ1C++M5nRo\n",
       "Y905lp9bl6BZtQuBxphJDPQ0QJ9gMdiBjmzcuHHKa3aWfykZXC9Xozis5V+JOKbyO70co0kJ4vgX\n",
       "R2E38oseL4fnwDYNtrLuHE/3mlZSIVV2GiRA48wkBnpQlDycQDYPrSh7Au02mEaddbTsGXNX6KUA\n",
       "H9C1h1ZxsoJX/maI6v0GLs0v8e6cPlQgWRB66FNmEgPFIGgtYNJXYz3TAFUdH1n/BdyWtwHldKZD\n",
       "E+5q8y8W8sr/oFlegSjZaAQypHPNaSHckt2vIS6YzbtzdFfGjWBkQgiUg6pJDCQbserTj8fug+15\n",
       "OKHLnfd2LvEESuvm2M9kLaSNda7v1AVAaH7ufoAJBYppEMlXgXIGzMe/ArgJpEkCVO3OSZJYqdcH\n",
       "lCivrlbFN9/X4C4D9gzV9lCTao79XGmXPUOupMBZ4CFv778lGnKHwCyfOOTOqvAqdgN+mJwgIVft\n",
       "ztF/Gthv4YLTIAF6mJkkvVzfU0jtbX0ErSYURk+oEEx5AEkd6/D7yrU+Q8bC4OB2B1BJYRp11m95\n",
       "t0g0y10woUhSGMbtAZo4HL6MVt8QTgqsO4emDFpPNCm4PTTOTBKgQwhb2oD2ZHh06gDKoUEPoIFs\n",
       "Dv9gvtZGW8BB+cCTdqCmEabTSurKNHUoUqRhR5dlSY1WIJSHvdkt8F1+BCdj2p2X0J9FjTgaEnIu\n",
       "SrgH/3qprQ6RqhFqjzRLeGJBDCS7gH5BabsFOuEx/HkLjJOxMAgjY3agQJ5pqWvhpPdRCnkUxWss\n",
       "iN2JYyncdRzp42cU+Kh1TVcGBxLtzmOb0F3HCfySnEcVi289j1z6EzNJgFJIBfRgPvJCb++WJA45\n",
       "BBQR7Yfmwh34MhsWk7EIaBdOKJZ/iZe5FvWo+240lyvZX4bJfZa1PnFbseKtz+HaOzOpwEyy/VBJ\n",
       "jStA3msPSgqnxRs8aQq27kfXCiLLUw+FH3U0GM1cC8vQees4i5zCYCVbVuTNKQu0USEQbU6JSQYU\n",
       "UHNZ+BLfteVhtOixY50TmTQSb8CmVJGO/RbgB0fTWeHaXYborkB46BBX5QpKcjapNjCSUr0RF+qD\n",
       "3CQDCnd9g4zi8hH8++hfXlvwhxa2GZG5sPo4HRt+OQNRUY9GtfzbevfaqVhbJNsGL7y2zdH0Vzd4\n",
       "KU4tBOrjJi1bcJz67kTrAuIfZmqeKSTphYx1y2sWLYoOs3cZVv/PFvx78aZS5SYtQEuZmb7TO2sB\n",
       "DU1/VOF9BpLuom5Y5v8hyTL7IUnoGstVe8YW1AIyapot6VyLHl+Upmi+9F3mNuYYK1jmWiDDGuny\n",
       "g83+n9Y3N+hs+waLFsUFbbkM34GoyQYAjVu0qAyFceJe5H/EUZMNAIorXLvlKt7iQGKO7zymyQYA\n",
       "SRu4dsskoN0oDOi+A5km6wMqiUuOh+xQuXbJWtINbPU/4ojJYO+2uoAiq9bMxPlZrl2y927kICnj\n",
       "Ow81mVi1Cv4D1KUVETCDh8oAAAAASUVORK5CYII=\n",
       "\" style=\"display:inline;vertical-align:middle;\" /></a><br>(see <a class=\"ProveItLink\" href=\"../../../__pv_it/theorems/4a11169c4ba9fba387f20544a8bd78f13e4fd9410/dependencies.ipynb\">dependencies</a>)<br>"
      ],
      "text/plain": [
       "reduced_nat_pos_ratio: forall_{q in RationalPos} [exists_{a, b in NaturalPos} ((q = (a / b)) and (gcd(a, b) = 1))]"
      ]
     },
     "execution_count": 2,
     "metadata": {},
     "output_type": "execute_result"
    }
   ],
   "source": [
    "%proving reduced_nat_pos_ratio"
   ]
  },
  {
   "cell_type": "code",
   "execution_count": null,
   "metadata": {},
   "outputs": [],
   "source": []
  }
 ],
 "metadata": {
  "kernelspec": {
   "display_name": "Python 3",
   "language": "python",
   "name": "python3"
  }
 },
 "nbformat": 4,
 "nbformat_minor": 0
}