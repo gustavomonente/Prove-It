{
 "cells": [
  {
   "cell_type": "markdown",
   "metadata": {},
   "source": [
    "Proof of <a class=\"ProveItLink\" href=\"../../../../../../_theory_nbs_/theory.ipynb\">proveit</a>.<a class=\"ProveItLink\" href=\"../../../../../_theory_nbs_/theory.ipynb\">numbers</a>.<a class=\"ProveItLink\" href=\"../../../../_theory_nbs_/theory.ipynb\">number_sets</a>.<a class=\"ProveItLink\" href=\"../../theory.ipynb\">rational_numbers</a>.<a class=\"ProveItLink\" href=\"../../theorems.ipynb#nat_pos_in_rational_pos\">nat_pos_in_rational_pos</a> theorem\n",
    "========"
   ]
  },
  {
   "cell_type": "code",
   "execution_count": 1,
   "metadata": {},
   "outputs": [],
   "source": [
    "import proveit\n",
    "theory = proveit.Theory() # the theorem's theory"
   ]
  },
  {
   "cell_type": "code",
   "execution_count": 2,
   "metadata": {},
   "outputs": [
    {
     "data": {
      "text/html": [
       "Under these <a href=\"presumptions.txt\">presumptions</a>, we begin our proof of<br><strong id=\"nat_pos_in_rational_pos\">nat_pos_in_rational_pos:</strong> <a class=\"ProveItLink\" href=\"../../../__pv_it/theorems/65e23f8e70fef761f4cd662182dcaa1d81d81c430/expr.ipynb\"><img src=\"data:image/png;base64,iVBORw0KGgoAAAANSUhEUgAAAFQAAAAWBAMAAACs1aaVAAAAMFBMVEX///9mZmaqqqrc3NyIiIgi\n",
       "IiJUVFTMzMyYmJi6uroQEBB2dnZEREQyMjLu7u4AAAA1o4RqAAAAAXRSTlMAQObYZgAAAT9JREFU\n",
       "KM9jYCAHsOGTTEDh8eBTeoBmSt/+OfuAYdevCdiVFp45m4kw9QR7AgPfB4bcu7fu3m1AU/ks1YDv\n",
       "2jkGtrt31969wcCQWuDCwLAAuwNOigOV1z6AmZp5jq2AIQBZKcfR0NDQAiCDpeECUPhlAkxpchnf\n",
       "PRSlzLcNoCxeZgGg+gnn4EqZHMpQlLLCVDKYsQMdz9mwE66UYSeHA7JSIbhTpzApMDCwO2gglLI9\n",
       "SAcpZYYqCIArLYEoVQIyDSBK+RJ4FyB8zYyIbjawAxQ2w/jJDAzV7EhK+RBxyAPxVgKSUg4F5ChG\n",
       "OICz4QAosOARkw7Em5GVbkEwd4KioBDOvQTEjBeQlPIqwJkcogZ8F+GGlv4CmsiHrJQvbR5C7d/7\n",
       "CvgSHPseaMSCnMCUQGwu4t6sK7KBSLWGZy5OgLAAk1xY4GVOf/AAAAAASUVORK5CYII=\n",
       "\" style=\"display:inline;vertical-align:middle;\" /></a><br>(see <a class=\"ProveItLink\" href=\"../../../__pv_it/theorems/f979a759ae84ae2cbc109ebd4931f1e9041e313d0/dependencies.ipynb\">dependencies</a>)<br>"
      ],
      "text/plain": [
       "nat_pos_in_rational_pos: NaturalPos proper_subset RationalPos"
      ]
     },
     "execution_count": 2,
     "metadata": {},
     "output_type": "execute_result"
    }
   ],
   "source": [
    "%proving nat_pos_in_rational_pos"
   ]
  },
  {
   "cell_type": "code",
   "execution_count": null,
   "metadata": {},
   "outputs": [],
   "source": []
  }
 ],
 "metadata": {
  "kernelspec": {
   "display_name": "Python 3",
   "language": "python",
   "name": "python3"
  }
 },
 "nbformat": 4,
 "nbformat_minor": 0
}