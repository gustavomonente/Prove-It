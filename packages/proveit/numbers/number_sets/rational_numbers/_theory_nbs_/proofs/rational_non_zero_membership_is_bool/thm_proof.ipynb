{
 "cells": [
  {
   "cell_type": "markdown",
   "metadata": {},
   "source": [
    "Proof of <a class=\"ProveItLink\" href=\"../../../../../../_theory_nbs_/theory.ipynb\">proveit</a>.<a class=\"ProveItLink\" href=\"../../../../../_theory_nbs_/theory.ipynb\">numbers</a>.<a class=\"ProveItLink\" href=\"../../../../_theory_nbs_/theory.ipynb\">number_sets</a>.<a class=\"ProveItLink\" href=\"../../theory.ipynb\">rational_numbers</a>.<a class=\"ProveItLink\" href=\"../../theorems.ipynb#rational_non_zero_membership_is_bool\">rational_non_zero_membership_is_bool</a> theorem\n",
    "========"
   ]
  },
  {
   "cell_type": "code",
   "execution_count": 1,
   "metadata": {},
   "outputs": [],
   "source": [
    "import proveit\n",
    "theory = proveit.Theory() # the theorem's theory"
   ]
  },
  {
   "cell_type": "code",
   "execution_count": 2,
   "metadata": {},
   "outputs": [
    {
     "data": {
      "text/html": [
       "Under these <a href=\"presumptions.txt\">presumptions</a>, we begin our proof of<br><strong id=\"rational_non_zero_membership_is_bool\">rational_non_zero_membership_is_bool:</strong> <a class=\"ProveItLink\" href=\"../../../__pv_it/theorems/dc134505ea2ae7843a42bdd5ffd5344db37d53480/expr.ipynb\"><img src=\"data:image/png;base64,iVBORw0KGgoAAAANSUhEUgAAALcAAAAcCAMAAAAUa96AAAAAOVBMVEX///8oKCgUFBQNDQ0QEBCI\n",
       "iIhmZma6urrMzMxUVFQiIiJERETc3Nzu7u6qqqp2dnaYmJgyMjIAAAArQGDrAAAAAXRSTlMAQObY\n",
       "ZgAAAvlJREFUWMPVWImSmzAMdbv4vv3/H1vZ2GCEMSHN7rSaCVFmeEJIT4dDyM+LzRfqqSf/lTAB\n",
       "lwBOO/kDTxMcK2+KKd6qbCVB5OlT/DOAkFh5V3SmiU056IsjhD+19wwQLVbeFF5YLZLJQQ9w8eGh\n",
       "hScARrHyXKTO8gWfAH7n11fFmHoaiQKI289w/R4mWaS8yC4GXkbZVQR1ZI/3Uvym7IbQatE6xUU1\n",
       "OwXgHblngGdYeanfSanAPRulbqatrt+F34mvsbglKREUoJYFsgGMbjHV18DFYeWlCuSl5YH/IsdE\n",
       "xhh//4JLDF0/yXm/M6oJBwgVpLpYAC3M3v0lTYJWIDvvaGgk1LY2AbP1gpzr1r+ZnhuqfjvX/C6A\n",
       "4G0WoyYeLVgZUFlTi7NrKqsoX7sf0fst1G+co8vcUPXb88ayFZBKnavJ1GURK5ZSaTjM6o3Lp+qA\n",
       "2Ipa6fBUn3nhxs/gfRbtoMyK31wJKXrA+kubCb80Uiw4EKCL7cmUJzinObNrCEENh951TFUSXbc0\n",
       "Q34vKqWFHwCcldec1bNEiof39fDS3OymT94c/QY1uKvy4b2PV3XpQ/AHgFqLaNLoGVJsn4Ti2RKb\n",
       "7JHbeeKIn6TTdn6PDFW/29cGyINTTfsnw0oui35yjpqo7utytlT08TbX8c6pkD3AxG1b8pQJKgXG\n",
       "SawgUkJjH5RbaEmHPjhL5zo8rw01v2WrkAbQpo5Q6EAyrjPhuFkgxVlC03r/ZG/x+9yZjtlDPxkZ\n",
       "2uJdCd4AjlWawGPiIDJbg60KTzACwG/T3TsaeoGtc57NN7jjVBgYAj6Aw9DwJQJ0XE1mEpCqWEmp\n",
       "peywiFmp+bnzhhRjuhvjx3l5MnTaq3ZAsDvXStTxfsKxMtys9XE8r1y5P45F+oKhGQAWLQ+3n6ca\n",
       "81h5fcv3xkU2OwPb9HABPwGsDByO2WczYsHKg/Mk7OCRTfIUnp7UHgCkw8rnRInvA2xrwHQfeEuC\n",
       "/06AY1j5kMyOK58AOI6VD/0LZL8b8E/JHw/GIm+6BsHGAAAAAElFTkSuQmCC\n",
       "\" style=\"display:inline;vertical-align:middle;\" /></a><br>(see <a class=\"ProveItLink\" href=\"../../../__pv_it/theorems/f91c12250b921ba90bd4c5cc3cd8d807cc47a1d70/dependencies.ipynb\">dependencies</a>)<br>"
      ],
      "text/plain": [
       "rational_non_zero_membership_is_bool: forall_{x} ((x in RationalNonZero) in BOOLEAN)"
      ]
     },
     "execution_count": 2,
     "metadata": {},
     "output_type": "execute_result"
    }
   ],
   "source": [
    "%proving rational_non_zero_membership_is_bool"
   ]
  },
  {
   "cell_type": "code",
   "execution_count": null,
   "metadata": {},
   "outputs": [],
   "source": []
  }
 ],
 "metadata": {
  "kernelspec": {
   "display_name": "Python 3",
   "language": "python",
   "name": "python3"
  }
 },
 "nbformat": 4,
 "nbformat_minor": 0
}