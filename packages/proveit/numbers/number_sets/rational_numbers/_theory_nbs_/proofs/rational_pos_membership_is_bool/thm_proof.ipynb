{
 "cells": [
  {
   "cell_type": "markdown",
   "metadata": {},
   "source": [
    "Proof of <a class=\"ProveItLink\" href=\"../../../../../../_theory_nbs_/theory.ipynb\">proveit</a>.<a class=\"ProveItLink\" href=\"../../../../../_theory_nbs_/theory.ipynb\">numbers</a>.<a class=\"ProveItLink\" href=\"../../../../_theory_nbs_/theory.ipynb\">number_sets</a>.<a class=\"ProveItLink\" href=\"../../theory.ipynb\">rational_numbers</a>.<a class=\"ProveItLink\" href=\"../../theorems.ipynb#rational_pos_membership_is_bool\">rational_pos_membership_is_bool</a> theorem\n",
    "========"
   ]
  },
  {
   "cell_type": "code",
   "execution_count": 1,
   "metadata": {},
   "outputs": [],
   "source": [
    "import proveit\n",
    "theory = proveit.Theory() # the theorem's theory"
   ]
  },
  {
   "cell_type": "code",
   "execution_count": 2,
   "metadata": {},
   "outputs": [
    {
     "data": {
      "text/html": [
       "Under these <a href=\"presumptions.txt\">presumptions</a>, we begin our proof of<br><strong id=\"rational_pos_membership_is_bool\">rational_pos_membership_is_bool:</strong> <a class=\"ProveItLink\" href=\"../../../__pv_it/theorems/921508b7c2f2215819d1e7122992d52d878a5c4f0/expr.ipynb\"><img src=\"data:image/png;base64,iVBORw0KGgoAAAANSUhEUgAAAK8AAAAbBAMAAAD458IlAAAAMFBMVEX///8QEBCIiIhmZma6urrM\n",
       "zMxUVFQiIiJERETc3Nzu7u6qqqp2dnaYmJgyMjIAAAAcRTyBAAAAAXRSTlMAQObYZgAAAxZJREFU\n",
       "SMe9Vk1oE1EQnia7+dlsag8eBEFSfypIxSIqQYxECj2ooWkR8aAkBysRoYhSg1a0iNg0BxtQMCDS\n",
       "pYcgPaSBipdeSvUgtYWKIh4qbi30UDBUULDx4szb3be7Ybfmog92XjLz8r2Zb342AP9zncFHjG96\n",
       "xEci4mL0uOjFNIqzm98dINHlYhTSzvpmBcVaA8Dyoot1wVl9EB9vpAFguOVi9aNrKn34bNUGayjG\n",
       "FGeWornVuAm8q868d9vo8g20ezoA3kJ93DJq4ZUjrnTpJpQzCvRXl6tV5GGs/oDaK+Vj6Ns6QJF8\n",
       "HLIamyootjsT0JkEqW+Ne+yv1B0YSsAeMg1qmZJtdmKB0WGuT9kso2x/M4p8Fwf26h6Fh7N3DOBp\n",
       "MkVRNzcx8cSG8o5Otlg15/YZkT5CsTugGMAe7Zh4TzE9fv0c91Z8fuVyt23Ax8kVcnC87XE7FYdk\n",
       "pCCYvoAyIccNYEELrKyYVAgDfbh3owb3ERtwjiLFGKWZ8DU/XeArGIUfmUbZG1o0gMWfbLtscnzi\n",
       "7neqmlQSoBMk1Qa8Sj2CvSMrck0ocD4JRwfGlAS1EH5ocNbkLSxRnhDdDx57A12ndGPJScxvXD1V\n",
       "XOxyRsUpucDLjwGLO+iAARwQEG4yTn3pt5fMCnlMtQxbtPYrmg6x5PnMXmLAQZvHAUhrHgdVmjez\n",
       "h9uSuvEBRc/GSEpTNfHfJYiVfMJsxA22tViBfdTMKQpq5CLWjdLvN+ZkhvKFToSUA6i3zQ2ZNUiH\n",
       "OcZqfLiYHodntKqAqat4NXzjxla9QLsro/CMaQa57T22dMxkTS93swHV8zB/RO8FnckNfppuI1dK\n",
       "O8djWlpL93mhfqn+tqRD7zwpc9I+hKjz8Fr6lbgu8llBlq22fJ4ezuolKcdfWie3TpLwRm9pY33l\n",
       "80FWZe4GcgTH3Abx/NOVdv5l0nm4gsRHTenD7BxPNRHX4wYcjD48xL98dDkUdn43XaGyqDTy1h1w\n",
       "e4MkHdVlCkZtAJcKy3EtOatDVKhTDQAX3egacjG8IPT434GPuui9yj/80/MHU9C+Iwj3fvYAAAAA\n",
       "SUVORK5CYII=\n",
       "\" style=\"display:inline;vertical-align:middle;\" /></a><br>(see <a class=\"ProveItLink\" href=\"../../../__pv_it/theorems/d274bf425ff0e8714b1b3942b17e5d32342023b20/dependencies.ipynb\">dependencies</a>)<br>"
      ],
      "text/plain": [
       "rational_pos_membership_is_bool: forall_{x} ((x in RationalPos) in BOOLEAN)"
      ]
     },
     "execution_count": 2,
     "metadata": {},
     "output_type": "execute_result"
    }
   ],
   "source": [
    "%proving rational_pos_membership_is_bool"
   ]
  },
  {
   "cell_type": "code",
   "execution_count": null,
   "metadata": {},
   "outputs": [],
   "source": []
  }
 ],
 "metadata": {
  "kernelspec": {
   "display_name": "Python 3",
   "language": "python",
   "name": "python3"
  }
 },
 "nbformat": 4,
 "nbformat_minor": 0
}