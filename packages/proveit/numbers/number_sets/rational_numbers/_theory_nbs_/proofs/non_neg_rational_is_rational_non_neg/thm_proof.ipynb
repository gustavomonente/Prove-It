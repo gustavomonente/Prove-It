{
 "cells": [
  {
   "cell_type": "markdown",
   "metadata": {},
   "source": [
    "Proof of <a class=\"ProveItLink\" href=\"../../../../../../_theory_nbs_/theory.ipynb\">proveit</a>.<a class=\"ProveItLink\" href=\"../../../../../_theory_nbs_/theory.ipynb\">numbers</a>.<a class=\"ProveItLink\" href=\"../../../../_theory_nbs_/theory.ipynb\">number_sets</a>.<a class=\"ProveItLink\" href=\"../../theory.ipynb\">rational_numbers</a>.<a class=\"ProveItLink\" href=\"../../theorems.ipynb#non_neg_rational_is_rational_non_neg\">non_neg_rational_is_rational_non_neg</a> theorem\n",
    "========"
   ]
  },
  {
   "cell_type": "code",
   "execution_count": 1,
   "metadata": {},
   "outputs": [],
   "source": [
    "import proveit\n",
    "theory = proveit.Theory() # the theorem's theory"
   ]
  },
  {
   "cell_type": "code",
   "execution_count": 2,
   "metadata": {},
   "outputs": [
    {
     "data": {
      "text/html": [
       "Under these <a href=\"presumptions.txt\">presumptions</a>, we begin our proof of<br><strong id=\"non_neg_rational_is_rational_non_neg\">non_neg_rational_is_rational_non_neg:</strong> <a class=\"ProveItLink\" href=\"../../../__pv_it/theorems/2f73a920b64f46e9788080f1db4c88fb1995a9e90/expr.ipynb\"><img src=\"data:image/png;base64,iVBORw0KGgoAAAANSUhEUgAAAMAAAAAcBAMAAADFDq1gAAAAMFBMVEX///8QEBCIiIhmZma6urrM\n",
       "zMxUVFQiIiJERETc3Nzu7u6qqqp2dnaYmJgyMjIAAAAcRTyBAAAAAXRSTlMAQObYZgAAAyxJREFU\n",
       "SMe1VVtIFFEY/nfWvczszCbRS0iwpESZwVIREkoTwr6YsAZFELGLZORbFGJXWERoVJChHrJ6cNEo\n",
       "sMsOCFH0Ii2FVJYQRCDlQNRDkO1DNy2i/5y5nVnH1TX8Yc/+Z86Z//uv3wCsltTVrZblhEpWaTyS\n",
       "/g8jAXnxM35XEteQDPMQWzHAwVKHfD0i5JJQBYkVA3wueSpMyJBS4QKIUyu0718iduFlNpWFkwBn\n",
       "AXTy4F2ZAENZz8LUK5+M2nBfSARrAaoBni8d8ULJe7p97AzcO06gh/tpDb6hJwCDpCqZMgGqvB6G\n",
       "m5IgtKOvd3qsLoKQBlGEFLXy7PPz7O5tVxfN87YoLn0JGOmhWYqTOfBnQHo2OnqlzACkSmZzqNZU\n",
       "9Mu41ISzB8xJJnnk8OYvRTlfbhMRj/nJ2hqSeat+fPoIri2iawQrMNZ2gF5PM/Ki5BImNdurBgv4\n",
       "F1QtW7FHuO6PuFo/8B2gCQSd7YWn+Q5DyyxKLlFUhA0QJO+FbVsmgPZAQTH7mMdOCgFngd7ON8Kl\n",
       "NExqbgCGXAwJxTFNBfCNo946i0I9pClqFlVX6yKAOBWyatd/LQtbpmD4oRuAIRczAgTwZWCIJHHQ\n",
       "vpWhRQ66+w0BeJ0w18jGZkwWBnpYBU5yAITtNRpDLmYNMEW5GMwQ3WcbayHZ6mtxD/ccLr1H0UIn\n",
       "qiRQ6S72FucA3EqmVJZcqATxKKfBgJuWRDpocSjuIhg7gdfigUqBnHEEQHQAdkCri1wMqsHujsak\n",
       "P3Rzzrb2Gqmi0WNi1qAPPo1LB04rSneEpIgBqIJNLnKx/RLathrbmz02883M/i6eGGJEwgs5NRwD\n",
       "0oVCBxZ52gYQ5qDbRS6GrKPeFYzNvotdZp+L8v0igKiVQJ+aSsITolWn4XHGiWA9jgpLLoY00Ero\n",
       "C2bzxfUP7k99zoquou0VNgfpf+7nxA9m0BJ1BWDJxRBaFzoGxR/LgZ2uB28c9T3+NiuYj/ANmZ1k\n",
       "SfdgkSC6In49tTRrdTpqg+1F7/RVBsA/7vVt0ZdJu87L/r9JSx3O1zIAez4CSy6mjC0PYLDkabzE\n",
       "WUReFsBuWH35BwgN280GwRYvAAAAAElFTkSuQmCC\n",
       "\" style=\"display:inline;vertical-align:middle;\" /></a><br>(see <a class=\"ProveItLink\" href=\"../../../__pv_it/theorems/37bc2807567cf5b0b8c6dbc7f1e0945d54d3e6ed0/dependencies.ipynb\">dependencies</a>)<br>"
      ],
      "text/plain": [
       "non_neg_rational_is_rational_non_neg: forall_{q in Rational | q >= 0} (q in RationalNonNeg)"
      ]
     },
     "execution_count": 2,
     "metadata": {},
     "output_type": "execute_result"
    }
   ],
   "source": [
    "%proving non_neg_rational_is_rational_non_neg"
   ]
  },
  {
   "cell_type": "code",
   "execution_count": null,
   "metadata": {},
   "outputs": [],
   "source": []
  }
 ],
 "metadata": {
  "kernelspec": {
   "display_name": "Python 3",
   "language": "python",
   "name": "python3"
  }
 },
 "nbformat": 4,
 "nbformat_minor": 0
}