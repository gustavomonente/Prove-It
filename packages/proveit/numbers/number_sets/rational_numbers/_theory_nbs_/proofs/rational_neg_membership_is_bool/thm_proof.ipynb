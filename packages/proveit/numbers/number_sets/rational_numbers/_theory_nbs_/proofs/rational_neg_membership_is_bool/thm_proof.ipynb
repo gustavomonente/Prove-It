{
 "cells": [
  {
   "cell_type": "markdown",
   "metadata": {},
   "source": [
    "Proof of <a class=\"ProveItLink\" href=\"../../../../../../_theory_nbs_/theory.ipynb\">proveit</a>.<a class=\"ProveItLink\" href=\"../../../../../_theory_nbs_/theory.ipynb\">numbers</a>.<a class=\"ProveItLink\" href=\"../../../../_theory_nbs_/theory.ipynb\">number_sets</a>.<a class=\"ProveItLink\" href=\"../../theory.ipynb\">rational_numbers</a>.<a class=\"ProveItLink\" href=\"../../theorems.ipynb#rational_neg_membership_is_bool\">rational_neg_membership_is_bool</a> theorem\n",
    "========"
   ]
  },
  {
   "cell_type": "code",
   "execution_count": 1,
   "metadata": {},
   "outputs": [],
   "source": [
    "import proveit\n",
    "theory = proveit.Theory() # the theorem's theory"
   ]
  },
  {
   "cell_type": "code",
   "execution_count": 2,
   "metadata": {},
   "outputs": [
    {
     "data": {
      "text/html": [
       "Under these <a href=\"presumptions.txt\">presumptions</a>, we begin our proof of<br><strong id=\"rational_neg_membership_is_bool\">rational_neg_membership_is_bool:</strong> <a class=\"ProveItLink\" href=\"../../../__pv_it/theorems/62836312b760ac92f0a06c9a9b14a7a4dbd76fe60/expr.ipynb\"><img src=\"data:image/png;base64,iVBORw0KGgoAAAANSUhEUgAAAK8AAAAaBAMAAAAzuxGAAAAAMFBMVEX///8QEBCIiIhmZma6urrM\n",
       "zMxUVFQiIiJERETc3Nzu7u6qqqp2dnaYmJgyMjIAAAAcRTyBAAAAAXRSTlMAQObYZgAAAwVJREFU\n",
       "SMe1Vk1oE1EQnia7ye5mU3vwIAiS+lNBKpaiEsRIpCCihqZFxIOSHFqJCCJKDVrRIGLTHGxBwYBI\n",
       "lx6C9JAGKl56KdWD1BYURTxUXC30IFgqKNh6cWZ/3u4LuzQXB3ZeMvPyve/N3wbAQ07jIyZhQ4n5\n",
       "2AM+djGL6szGuHDMxy5kve3NGqrvDQCrb30cC97mTnyCsQaA4aaPPYzUdPrw2W2V11GNad5RiheX\n",
       "XcHfUefevWXk63X0BzoA3kD9vVW0wktPXOXCDajmNDheRMGjx+o36L1KKYHcVgHKxLHgdjbVUG31\n",
       "BJa60qD0OzTCtboNhRTsknAdNDOlcn6KghEORz7l80bI9jajKjnFELQYRYfyt23gaQKOo21uYuIx\n",
       "h/KOdra4LWf32Dd9iGqnxOIfMLeJdzWH8atnuLbi86dYvMUBHyEqRHC87VE7FYdi313OnkedUln6\n",
       "BPNiVc0JhTDQj2s3WnAd5oCLFEy8ozITvRqmA0KjNk5sGnVvhJWv+NtYLjoxPnrnJx2bSQN0gaJz\n",
       "wMvUI9g7qqauC4QpMRwLmKVE/mXCuZO3sEh5QvQwBPgGukbpxpJTDN4oPSsoxuFGKE6qo6z8DGBx\n",
       "G22wgSUB4SaT1JdhvmSWiDHVMmwy26/sEDKSFwKescwxliBrMpZ1mjezB9rSlvM+3d4YIxnT1MR+\n",
       "l6KolFJOI64ZS4sbOETNnKFLDfdh3WiXw3auc5QvJBHR9qGdmxuq0SAdUFcVnRzj6IxZFTB1BY+G\n",
       "H8zZahVod20EnhqWQeZ7jy2dcKJmlbvTgPo5mD9o9YIVyTW2m04jKpXt4wkzrZV7rFC/rPx1pcPq\n",
       "PCV3gh9C1Hl4LP1KXBXZrCDPZi6fp4byVkmqyRfuyW0FSXhttbQt39h8UHWV0cAYwWG/ETz/ZKmd\n",
       "fZn0Hq6gsFFT+TA7x1JNgevxA5bjD/azLx99NkW9302XqCxqjbxBBvzeIGlPc5UuozeAS4XlKYve\n",
       "5ggV6lQDwGW/cBV8HM8JvYH/FYd87EEN/p/8A7M/u+trUjGgAAAAAElFTkSuQmCC\n",
       "\" style=\"display:inline;vertical-align:middle;\" /></a><br>(see <a class=\"ProveItLink\" href=\"../../../__pv_it/theorems/5222661b04d8a396fae0d4037470852e767dc0f70/dependencies.ipynb\">dependencies</a>)<br>"
      ],
      "text/plain": [
       "rational_neg_membership_is_bool: forall_{x} ((x in RationalNeg) in BOOLEAN)"
      ]
     },
     "execution_count": 2,
     "metadata": {},
     "output_type": "execute_result"
    }
   ],
   "source": [
    "%proving rational_neg_membership_is_bool"
   ]
  },
  {
   "cell_type": "code",
   "execution_count": null,
   "metadata": {},
   "outputs": [],
   "source": []
  }
 ],
 "metadata": {
  "kernelspec": {
   "display_name": "Python 3",
   "language": "python",
   "name": "python3"
  }
 },
 "nbformat": 4,
 "nbformat_minor": 0
}