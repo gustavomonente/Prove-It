{
 "cells": [
  {
   "cell_type": "markdown",
   "metadata": {},
   "source": [
    "Proof of <a class=\"ProveItLink\" href=\"../../../../../../_theory_nbs_/theory.ipynb\">proveit</a>.<a class=\"ProveItLink\" href=\"../../../../../_theory_nbs_/theory.ipynb\">numbers</a>.<a class=\"ProveItLink\" href=\"../../../../_theory_nbs_/theory.ipynb\">number_sets</a>.<a class=\"ProveItLink\" href=\"../../theory.ipynb\">rational_numbers</a>.<a class=\"ProveItLink\" href=\"../../theorems.ipynb#nat_ratio\">nat_ratio</a> theorem\n",
    "========"
   ]
  },
  {
   "cell_type": "code",
   "execution_count": 1,
   "metadata": {},
   "outputs": [],
   "source": [
    "import proveit\n",
    "theory = proveit.Theory() # the theorem's theory"
   ]
  },
  {
   "cell_type": "code",
   "execution_count": 2,
   "metadata": {},
   "outputs": [
    {
     "data": {
      "text/html": [
       "Under these <a href=\"presumptions.txt\">presumptions</a>, we begin our proof of<br><strong id=\"nat_ratio\">nat_ratio:</strong> <a class=\"ProveItLink\" href=\"../../../__pv_it/theorems/dba2df3012f2ff8c20aa35334cb33fc5e23d4f060/expr.ipynb\"><img src=\"data:image/png;base64,iVBORw0KGgoAAAANSUhEUgAAAQoAAAAmBAMAAADO/MgDAAAAMFBMVEX///8QEBCIiIhmZma6urrM\n",
       "zMxUVFQiIiJERETc3Nzu7u6qqqp2dnaYmJgyMjIAAAAcRTyBAAAAAXRSTlMAQObYZgAABGlJREFU\n",
       "WMO9mF2IE1cUgE8yk6yZzGR3QS34A+PfVvxr3IUtlFVS2tIHaRsK6w8Kmy66D1ZFWeraKm3YvkQF\n",
       "HQttbWFxSqSVrSWDktIFxcjWl+1Kh9KK+NeAPw8+2MXug5t1tffcm7iT5E4yCd25gcxw5uTeL+ec\n",
       "e865A+BoSM3NGahr3K7w7Hv6vbZ5nsO5pKb6GMCb5YoDHa1kaTH/0DHF3jopXtf5Yi00Ri4t7lBI\n",
       "c/jihSDEyTVkukLhj3HFQg4aVHTMPFcoujSu2BOHVBRvelyheMAXpzJwiVHqLlAEJmwoDNgTRDOF\n",
       "VBcoBP4+hVmqsl/GG6WpRorAN2TUSOFRbabrXvbVUmqscUaRrZbgChRCT0/PB3ptFKei1TQWMIrf\n",
       "8PLQoUf8Wm0Uf1fV2MMoTqJd4jNE8WpVjVcYRYgYWTZmiOJAVY1LGqVQRgYHv4YZovi3eloz2B55\n",
       "kkgc+j8prB3AY7oPrq5YaqudMhnFDoDDpc98dOWrI1YKua+v7zMHFGEL+xSrn36sn/IjOsLF2o0q\n",
       "o3gDpLLconyIqUU/48QW72ZtKQJTrH76s7bMjRlG0QBe0yI+u6udLCXuJimHfCpQbOqIeOfif8wv\n",
       "6+v9FRbFiih8k5g/x8BT2qc9xzFGKcKMQjYbCktdaDMDLSDfxAla9RPQELWhQM1gfARew1KA8fXj\n",
       "8Dr4RdYFfbitt80ooiD181TE3hZ5ikB2Y15yfWgQvAMgrcS1NhsVKFAz+IdAI7GRyJSj3+pwUQ3L\n",
       "HI+kVJa88nERK6uurI4c3k6+kos3iPj7ziEAlXjoZxMawaOXUyRb7gPVDG7douIUXYt3ktgiI53+\n",
       "ooRCeszq57EKOT6/R+A8WUH6yDcRQukNIlVVuGbYRCdRzAHVDEZH/kKKl/UlrBil5Z+2FVPAU1q8\n",
       "lafV8wXdLELY15RE6QqkyAjR8p0aIjt1n04U90KSUcg0MPvhjkRXTkNmuIRiLq2fK8ftKd6L5CkU\n",
       "YneP4Y1tSiQSaho9krHvL1ARqGYwGjBROhvafQcSiX5CMYBxbi2jzBXKWNl8Z14q1Dvd0l+ktFmq\n",
       "nx5USHSuNs6Ojo5GuBRE8YbuZ7aAtzDl5GA+xJgtxPdLFrvM/MhJF3etGgUKj9YVlfFfeNtBXl6h\n",
       "1yKK7wDVVCKgZAJH4BMlDlfw0Z8At0prFQ1vD+dYN2ltTAsUYvfvAEdpqT10PFaBQuw+t45pvn0P\n",
       "IOabDxtHSSCTGBM/jYCfVyXkf3rL5hNz1hw/3fHdIXYg3gY48mb1vpNpUr+wy3ISF7z+MmYTlHJ+\n",
       "vuBEMUVH4ebkwJDmvPsdqljZFLvjbah7iTHdHr+gEJ4VYlta1ao7pzArNwSTdgX9oTTBtpwbp6I1\n",
       "di2WznqPRa6czTw2Tfh6kGhCXegKhWLTWdwFcXL67caMv7/o54un8NgOcEJzh+IHvkvG4TsS19LB\n",
       "Gt+iPEmo9Z2XP+aKd8PnmE5MlmtyTmfr7NTqM8aXXGlyFQKcZhqd0f8AX3Q/DstE3B8AAAAASUVO\n",
       "RK5CYII=\n",
       "\" style=\"display:inline;vertical-align:middle;\" /></a><br>(see <a class=\"ProveItLink\" href=\"../../../__pv_it/theorems/8423adb9d9617b27818d4a770bfd51ef617071750/dependencies.ipynb\">dependencies</a>)<br>"
      ],
      "text/plain": [
       "nat_ratio: forall_{q in RationalNonNeg} [exists_{a in Natural, b in NaturalPos} (q = (a / b))]"
      ]
     },
     "execution_count": 2,
     "metadata": {},
     "output_type": "execute_result"
    }
   ],
   "source": [
    "%proving nat_ratio"
   ]
  },
  {
   "cell_type": "code",
   "execution_count": null,
   "metadata": {},
   "outputs": [],
   "source": []
  }
 ],
 "metadata": {
  "kernelspec": {
   "display_name": "Python 3",
   "language": "python",
   "name": "python3"
  }
 },
 "nbformat": 4,
 "nbformat_minor": 0
}