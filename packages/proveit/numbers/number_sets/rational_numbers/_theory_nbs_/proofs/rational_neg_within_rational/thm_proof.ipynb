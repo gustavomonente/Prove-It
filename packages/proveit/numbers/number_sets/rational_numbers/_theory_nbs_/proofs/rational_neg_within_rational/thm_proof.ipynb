{
 "cells": [
  {
   "cell_type": "markdown",
   "metadata": {},
   "source": [
    "Proof of <a class=\"ProveItLink\" href=\"../../../../../../_theory_nbs_/theory.ipynb\">proveit</a>.<a class=\"ProveItLink\" href=\"../../../../../_theory_nbs_/theory.ipynb\">numbers</a>.<a class=\"ProveItLink\" href=\"../../../../_theory_nbs_/theory.ipynb\">number_sets</a>.<a class=\"ProveItLink\" href=\"../../theory.ipynb\">rational_numbers</a>.<a class=\"ProveItLink\" href=\"../../theorems.ipynb#rational_neg_within_rational\">rational_neg_within_rational</a> theorem\n",
    "========"
   ]
  },
  {
   "cell_type": "code",
   "execution_count": 1,
   "metadata": {},
   "outputs": [],
   "source": [
    "import proveit\n",
    "theory = proveit.Theory() # the theorem's theory"
   ]
  },
  {
   "cell_type": "code",
   "execution_count": 2,
   "metadata": {},
   "outputs": [
    {
     "data": {
      "text/html": [
       "Under these <a href=\"presumptions.txt\">presumptions</a>, we begin our proof of<br><strong id=\"rational_neg_within_rational\">rational_neg_within_rational:</strong> <a class=\"ProveItLink\" href=\"../../../__pv_it/theorems/403f79bac6d9ac2163b7110f462a439eea33f2cd0/expr.ipynb\"><img src=\"data:image/png;base64,iVBORw0KGgoAAAANSUhEUgAAAEoAAAARBAMAAACItyd2AAAALVBMVEX///+qqqp2dnaYmJiIiIjc\n",
       "3NwiIiLu7u66urpUVFQyMjJERERmZmbMzMwAAAAPPdWlAAAAAXRSTlMAQObYZgAAAORJREFUKM9j\n",
       "YGC4s3vXDAZcACZZOS2AfeV2Bo7dQLAdXRFUkoFhx1kg51YBdqNgkiwGCxgYuCsmIMsxb0tLS7sA\n",
       "ZMAluVgPAHkNyHaxLgqAsuCSkbwGDAwcBhpIqthgihCSLYwCDAy8DsJIqg7CWXDJKxCGIJKqBDgL\n",
       "LskJNlRAFclZCJ/AJbkhDkTyI/sGOBMuyWGwAeRZA6w2IiQ1QAF3Bzm4VBBMuCTzsQD2NchGMXAJ\n",
       "IMIXLsn8ap0ASrSwz2xHKINLajBOQI09Xm1oDCFLMqlKHVHAlXQQkjG71zTgTGEgSQCgHEp0keGd\n",
       "/AAAAABJRU5ErkJggg==\n",
       "\" style=\"display:inline;vertical-align:middle;\" /></a><br>(see <a class=\"ProveItLink\" href=\"../../../__pv_it/theorems/e3dde4f21041b00eb6121365b33d515d5f1a4a040/dependencies.ipynb\">dependencies</a>)<br>"
      ],
      "text/plain": [
       "rational_neg_within_rational: RationalNeg proper_subset Rational"
      ]
     },
     "execution_count": 2,
     "metadata": {},
     "output_type": "execute_result"
    }
   ],
   "source": [
    "%proving rational_neg_within_rational"
   ]
  },
  {
   "cell_type": "code",
   "execution_count": null,
   "metadata": {},
   "outputs": [],
   "source": []
  }
 ],
 "metadata": {
  "kernelspec": {
   "display_name": "Python 3",
   "language": "python",
   "name": "python3"
  }
 },
 "nbformat": 4,
 "nbformat_minor": 0
}