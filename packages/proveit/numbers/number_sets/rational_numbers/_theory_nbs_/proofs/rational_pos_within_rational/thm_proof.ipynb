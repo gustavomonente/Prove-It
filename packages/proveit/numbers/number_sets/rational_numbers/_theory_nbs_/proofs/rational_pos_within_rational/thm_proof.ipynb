{
 "cells": [
  {
   "cell_type": "markdown",
   "metadata": {},
   "source": [
    "Proof of <a class=\"ProveItLink\" href=\"../../../../../../_theory_nbs_/theory.ipynb\">proveit</a>.<a class=\"ProveItLink\" href=\"../../../../../_theory_nbs_/theory.ipynb\">numbers</a>.<a class=\"ProveItLink\" href=\"../../../../_theory_nbs_/theory.ipynb\">number_sets</a>.<a class=\"ProveItLink\" href=\"../../theory.ipynb\">rational_numbers</a>.<a class=\"ProveItLink\" href=\"../../theorems.ipynb#rational_pos_within_rational\">rational_pos_within_rational</a> theorem\n",
    "========"
   ]
  },
  {
   "cell_type": "code",
   "execution_count": 1,
   "metadata": {},
   "outputs": [],
   "source": [
    "import proveit\n",
    "from proveit import Lambda\n",
    "from proveit import k, q, x, y, A, B, P, S, Py, Qy\n",
    "# SOME STUFF COMMENTED OUT TEMPORARILY TO ALLOW COMPILATION AFTER MASTER MERGED\n",
    "# INTO THE CRAFT_EDITS_CONTAINMENT_DEMOS BRANCH WHICH ALSO REMOVED THE\n",
    "# COMPREHENSION THEOREMS\n",
    "# from proveit.logic import iter_q1k\n",
    "from proveit.logic.sets.inclusion  import proper_subset_def, subset_eq_def\n",
    "from proveit.numbers import one, zero, Less, greater, Rational, RationalPos\n",
    "from proveit.numbers.number_sets.rational_numbers  import rationals_def, rationals_pos_def\n",
    "# from proveit.logic.sets.comprehension import comprehension_is_subset\n",
    "theory = proveit.Theory() # the theorem's theory"
   ]
  },
  {
   "cell_type": "code",
   "execution_count": 2,
   "metadata": {},
   "outputs": [
    {
     "name": "stdout",
     "output_type": "stream",
     "text": [
      "proveit.logic.booleans.fold_is_bool is being implicitly excluded as a presumption to avoid a Circular dependency.\n"
     ]
    },
    {
     "name": "stdout",
     "output_type": "stream",
     "text": [
      "proveit.logic.booleans.unfold_is_bool_explicit is being implicitly excluded as a presumption to avoid a Circular dependency.\n"
     ]
    },
    {
     "name": "stdout",
     "output_type": "stream",
     "text": [
      "proveit.numbers.number_sets.natural_numbers.non_zero_if_is_nat_pos is being implicitly excluded as a presumption to avoid a Circular dependency.\n"
     ]
    },
    {
     "data": {
      "text/html": [
       "Under these <a href=\"presumptions.txt\">presumptions</a>, we begin our proof of<br><strong id=\"rational_pos_within_rational\">rational_pos_within_rational:</strong> <a class=\"ProveItLink\" href=\"../../../__pv_it/theorems/ba0a7ede950dce2d0863131f3a8fd3d46095cb920/expr.ipynb\"><img src=\"data:image/png;base64,iVBORw0KGgoAAAANSUhEUgAAAEkAAAAWBAMAAAB+hazNAAAAMFBMVEX///8QEBCqqqp2dnaYmJiI\n",
       "iIjc3NwiIiLu7u66urpUVFQyMjJERERmZmbMzMwAAAC8H5PlAAAAAXRSTlMAQObYZgAAAT9JREFU\n",
       "KM9jYCAVLCBK1QF6qXp75vRKXKr47pzZNQHE6FqewLHrBAPX7t3Su7egKeJYVcbQvaYByDp5D6jy\n",
       "dQNWs3jmPmDgWLeDgYHVYQOQ17kAWRXL8fLy8gdARgg3kDgxi4GBm+0CUOmEE0iq2DYnQFkbcoFE\n",
       "JE8DQxafAwMDp4Mlkip2mCK2BU+A5BTmCQxTmRSAXglQQVJ1CWYzZ4ASkHzK5ADEYFUgLsyIAng4\n",
       "QFUpMHCBbVQwQ3iMDRGfYBsnMScw8EBcjxTTHIgQOQB2PRfI4QdAIeGAFEpwGxmm8IBCYgqQsASF\n",
       "6lvksDSFs5jBoXoBFITXEzj2IhvFwK0AZ/oCY+gKJKR/71dAi70ZcLb/7k9QliUTWirls4HGENDO\n",
       "CVow2820rxrgSlfGSXuDIazcM3sn4FLFduf0TQYATw9doPM/tfUAAAAASUVORK5CYII=\n",
       "\" style=\"display:inline;vertical-align:middle;\" /></a><br>(see <a class=\"ProveItLink\" href=\"../../../__pv_it/theorems/71238782793517716965e9bef7487f75db8615520/dependencies.ipynb\">dependencies</a>)<br>"
      ],
      "text/plain": [
       "rational_pos_within_rational: RationalPos proper_subset Rational"
      ]
     },
     "execution_count": 2,
     "metadata": {},
     "output_type": "execute_result"
    }
   ],
   "source": [
    "%proving rational_pos_within_rational"
   ]
  },
  {
   "cell_type": "code",
   "execution_count": 3,
   "metadata": {},
   "outputs": [
    {
     "data": {
      "text/html": [
       "<span style=\"font-size:20px;\"> <a class=\"ProveItLink\" href=\"../../../../../../logic/sets/inclusion/_theory_nbs_/axioms.ipynb#proper_subset_def\" style=\"text-decoration: none\">&nbsp;&#x22A2;&nbsp;&nbsp;</a><a class=\"ProveItLink\" href=\"../../../../../../logic/sets/inclusion/__pv_it/axioms/e95bfa29563f2d409f4f144fe6c68968590429550/expr.ipynb\"><img src=\"data:image/png;base64,iVBORw0KGgoAAAANSUhEUgAAAWsAAAAVBAMAAAByN9JOAAAAMFBMVEX///8QEBCIiIhmZma6urrM\n",
       "zMxUVFQiIiJERETc3Nzu7u6qqqp2dnaYmJgyMjIAAAAcRTyBAAAAAXRSTlMAQObYZgAAA/FJREFU\n",
       "SMfVV0toFEEQLfeT3Zn9mENAQdFFD3rRLCzEi5AFDxFBkpN6EBNRIXrQDSKLxs8KgokouwdRQTQr\n",
       "igYFXfCgngzmIH6QxYAf/K2oh0QwIQlJjMRY/Znpnp5PEvFiwZuZnao3W11VXd0N4CVamcFLIoV/\n",
       "xbvkTYAHEirkxQcXw24OlG02ZWzfWKr1BMDuf8TTc0JniDn0IPpZVRB4Rl4OuLjdz4EyaNfOw/+p\n",
       "b4Lbs+K9ymazBxx5Gr/HC0JnOJsznuJDOK6KwAVCzDl7HUsykMfBok3djLFoTEI0MQve5SeuvDiz\n",
       "hD5Jh9Iw3oMj6eGcj5N4eSQQx89GS85uhwoMKLfqeSm+EVGrxVefEqBXz4LXL6kV3pZD7H5Q0mGg\n",
       "289uL/XpPKD63Z94vSIQe3rz5nmXGjnPQYqsNm2L2nH83AIc9deZeX45MApv5zJWKxlZB1VFCB6t\n",
       "eZ3m+fONkrykBSY6Og67uL2cAyBQfFgWIeEyBrB5D957Z+aFwJWnV5jSl5R14EOE24yIbIhM4TWa\n",
       "FNgF0ElV7Lp+pLfVaE1nOACuQXNCjVpw7MPKdlp35BL9QSXpzDsHbjysUFaj4bKsY6k1m0w6OExi\n",
       "XhFYR2cmPo+ydFRD1CjWdg6ANHQl1aj5sNyutODDPTXadl63Oy8EGv3/UEnWsfIxHgKgjZBWnxEI\n",
       "gY/m8eoUtfC3QGSSW9dwQHBHal9OjVoYR+f7RWa/6radF3LnvaQJx9aXlnXW9rcpVTdBXgwJRMvs\n",
       "m0/3s8EnwF9R/z6AX62oUZuPUfENe7pt8uQmqfCwj2wy3TZ1EM1mj2HTauFJgyWK21qFsoKJDmpx\n",
       "pwlWF9VkY/5C1WrUSIutIpXVINV2izMPvrvxIkm+0NAiMXVE3pv7AEQbiUJGADppCVXBGmrSuGql\n",
       "WVvG1NJKbJmyRo202OacObUksfPg+s6iM4+4TFxnU9LU8TwwuchXW3lKwl3aMN9BLTV5AbDCMO/l\n",
       "ID04/FON2mcc9kLizFrVbQcebD1pLFNW3hbDQdLVhI68MDYktKPncUD+HgGYTyKof3mep+anAbqM\n",
       "LtfA0D09AJH8eNIatb3TO+o6qOU31W0HnhCFR1O9jFeA0GFtL82y2tbzv4twfxqnXrxJAGLEEX8R\n",
       "uugOBqdxY8G+SJsiomY21YzH4u4hjEeXwaC6klnanyk3JDDZiFEva6dAmwRtscOWyEM8t1Jz4PVZ\n",
       "fwbs+ztpK8V76QRo+SPBRfB4JNWaNu06zcXTQxw2rjZelCRcyZLKC1vzE7elS964Wk8c7tt9d+n0\n",
       "PCbMnqdbw6vbCGRcBmzHnrkermJ/eSiLzflQ9laCRcrwn8gfSH55F75O+poAAAAASUVORK5CYII=\n",
       "\" style=\"display:inline;vertical-align:middle;\" /></a></span>"
      ],
      "text/plain": [
       "|- forall_{A, B} ((A proper_subset B) = ((A subset_eq B) and (B not_equiv A)))"
      ]
     },
     "execution_count": 3,
     "metadata": {},
     "output_type": "execute_result"
    }
   ],
   "source": [
    "proper_subset_def"
   ]
  },
  {
   "cell_type": "code",
   "execution_count": 4,
   "metadata": {},
   "outputs": [
    {
     "data": {
      "text/html": [
       "<strong id=\"subset_def_spec\">subset_def_spec:</strong> <span style=\"font-size:20px;\"> <a class=\"ProveItLink\" href=\"../../../__pv_it/_proof_rational_pos_within_rational/eb2e6139abbe9be0481a0237f4c9491efc97ce270/proof.ipynb\" style=\"text-decoration: none\">&nbsp;&#x22A2;&nbsp;&nbsp;</a><a class=\"ProveItLink\" href=\"../../../__pv_it/_proof_rational_pos_within_rational/6a9db09f091cabea57a36a1e9470bea5544c35ba0/expr.ipynb\"><img src=\"data:image/png;base64,iVBORw0KGgoAAAANSUhEUgAAAVYAAAAbBAMAAADVMLq2AAAAMFBMVEX///8iIiJERESYmJiqqqoQ\n",
       "EBB2dnbc3NyIiIhmZmbu7u4yMjJUVFS6urrMzMwAAADZVrDbAAAAAXRSTlMAQObYZgAAA6tJREFU\n",
       "WMPVmE1oE0EUgF+6aX42ydJAPbSCbnOsCvHQguAhoJcihR68SbH+QBUpBG+i0lx68BZFpFiQ3Ku0\n",
       "IFhjKqal3izEWxHBXgSLSvUkRCrOvMxmZvfN2DU5dUpmk335vpm8nX27W4AD1b4r7+vGbyXMbMcC\n",
       "p7Hv5OoeWUJA1btGKKObBbKdC77tn0jXIz/yT6lKqKHgimYfsp0LXoWbK5KxPOvmIdxQkQrdNw/d\n",
       "CJKlkHNFchAg3mTbndyxTeNQIpgokwiynQtmKyrZankfInxI3mO5Zduna0V7dRjStdqF2vPgSCII\n",
       "8R9kEpw1Cay1bDa7rRUUxfa6EvROAFcd0/MhOQvQWwA48YSFv1b0aWkH+0mIswZB/EXRKKiK7Xk1\n",
       "CPD+5xSkilM+RPg4GSnwA5HILwP0PKurc7WGRFpk8AGZKx5EvSDVnioROEOV9gpSSKf/7tvCKdv1\n",
       "IcLHyaQLI8wbZ4cx0RjWpkUG58hcR0SnETyUtSIoSG+1zilrwkemK+AcnjzZAI2Pk4kJWAC447AV\n",
       "ncnPKENF2mmRwU+kECyITiPoA6NgUQSTyz6SV/yeQ6/9iPBxMtOEHMBWlC05p3RGmxYZ3MUz5UaN\n",
       "t9aSy4mOCuJ1owCusj/eelwfydvtICJ8nHT+wCrAl1borHKKyrTI4Cy5Iq6Kjgps1yzoE1NK1X0k\n",
       "b5tBRPg4Gd+DAbZSMOWFaaVwyrTI4BKZ64DoqED5sUGBVYI0JjhSDpKiYlEfJ+09XkB6WktZuV4r\n",
       "aZFBmteq6KgArhkF7CLUuoNIlX1kLJs9ympPHTQ+kdfjfBW7vETktWmRwd2iXK949DkLBkGqYBKM\n",
       "sdcK/oh6kBwliGicdH7BOns7w0vvDmjTIoO0Dqx7HRXY7z4YBCtivpB2g+QgQUQTdYCXLut+0a7m\n",
       "QZsWGRwh9XXO66gAnMveNdYvwDWJNyOsYPrJWJ6MqRRyVo7xx1q/3xTAkJZ2kF63kNUL1OYTpPmi\n",
       "TfCrQaapBtl6vZgV65X4xHWrFxf8TDRwJyzT0g6+pPcDDa+jArWpggzuQfMk+MlNiojGyVQJkniz\n",
       "EJs+Nz9lGqoVtJskgGzngkfgIzMuQbyjzMklVj8m8OOtXNX88INBiyYOWb3gEj+e3oExCD6Dj5S3\n",
       "O0EfkqfZayPkI2Rkm+7bgG4E6cA58m/yCN5KhGujmn2L0I3AXv4P0uIrIloO9f247ukE2c4FYxCe\n",
       "vIlvx0MByYpu73hXgmgjPPn4YP3T5S9lBph83wOCNAAAAABJRU5ErkJggg==\n",
       "\" style=\"display:inline;vertical-align:middle;\" /></a></span><br>"
      ],
      "text/plain": [
       "subset_def_spec: |- (RationalPos proper_subset Rational) = ((RationalPos subset_eq Rational) and (Rational not_equiv RationalPos))"
      ]
     },
     "execution_count": 4,
     "metadata": {},
     "output_type": "execute_result"
    }
   ],
   "source": [
    "subset_def_spec = proper_subset_def.instantiate({A:RationalPos, B:Rational})"
   ]
  },
  {
   "cell_type": "code",
   "execution_count": 5,
   "metadata": {},
   "outputs": [
    {
     "data": {
      "text/html": [
       "<span style=\"font-size:20px;\"> <a class=\"ProveItLink\" href=\"../../../../../../logic/sets/inclusion/_theory_nbs_/axioms.ipynb#subset_eq_def\" style=\"text-decoration: none\">&nbsp;&#x22A2;&nbsp;&nbsp;</a><a class=\"ProveItLink\" href=\"../../../../../../logic/sets/inclusion/__pv_it/axioms/d7449297494a795000bc445b03cbe0385e2bd3490/expr.ipynb\"><img src=\"data:image/png;base64,iVBORw0KGgoAAAANSUhEUgAAATUAAAAVBAMAAADV6mS1AAAAMFBMVEX///8QEBCIiIhmZma6urrM\n",
       "zMxUVFQiIiJERETc3Nzu7u6qqqp2dnaYmJgyMjIAAAAcRTyBAAAAAXRSTlMAQObYZgAABCZJREFU\n",
       "SMfNVk1oXFUU/jp/mf90ISjoYjCLhmCbgYAFqWTQRRUqGbtQF2IG20Ja0A40ZZSojFLIxB8yqzYI\n",
       "Nk+UpqZSCy6kbgxNxDapdaDgT39HtAsj2KG16R+lnnPufTNv3n1vFN144Lzz7s/73nfuOfeeC3SS\n",
       "WE1pJ0lUja51lzp/8kGnwaOkF0bF1Ll93mfeQa0kLxiDqZ0rAyN7gO3GyEJaxv2cipc9uzVehH1d\n",
       "ELPE3cs+KL9pJbmsu74vlUq71esq+sdgHodNbskj9ExbPqjpqne/wovXhRubKQ6dtyNIZZXy62X1\n",
       "p/0nWsPDtDBDWSQzBjcBnPKL2mmffo13TLixYe/ETQ/pqiolOTRYba6kLf3UdTGD+GqDmwRiyY/b\n",
       "q22tH0ulehveh4obmdTi7Ow+H5B9Wklq/Tk2QacXb1Lq3Euu/WpyOzc7+0nRb4O1DTzX58ZL54Qb\n",
       "mxuVyms+KD1agZD1lWR2l3N4BXh2B9l5k1t3pTI+54MaoCyJP7j9sWOyL5YNvGRWuLHZBkzIkHo+\n",
       "cXV+xM7V97QCH2NYsmqv4x/hlfO9Y/xygR/JP0Syilskj6gr45vtKHn5KX7IvMGNSNXAS9WFG5vH\n",
       "ZUvQ+58q6VcjaSfQmFYgh+ksWgeK8v8mJUWBXr4w1y2UNbbvxZydxZQXi/jOelKImniJonBj04WA\n",
       "hOujOzIjWEDilp59j1aEtwzsLLtjGiUXArd5f5ncUMRau3Vo/lEO3qB93K0ikhYqqvE0L3a9DS/c\n",
       "EAQ2yZr64eIu5VUGwbqbW4gQpdN5XnSTj4ErPty+hZ3xqXfe5+MnOZN1cAOuqMaUiefgFqs/I0uT\n",
       "UZ58lsc6yx1TikKXCvTv7cdRhBNhoyPfCprb/jC9JXs2b6OcEdkcLTtiivA1TdTEC6mYssHEVklK\n",
       "rJcZQ2t7C3DthRihpRvSdWCr5Tzehsv2XnCtW3QvrU5fpD4KHYRCsOjYC18GGpDDI5iBG8+xF/C5\n",
       "fHQW/TLjFLDGnj2vlc+46E3V9/y4XbN+Jt/uY6YbPLgl2NN8uoa4ritHAg09SodD6Ha0oe8QY82v\n",
       "bLzgnCCwQTdTj/9yclJW5F1g2j5gNyo9eHcZicnr2XYCL9/d8nBFZl7y4KbyqbuK8CuVylvA4Q3H\n",
       "7R1GwYq/2Nej7xcH9lguvHRenb15dokHgxamuQHaKENVs2Z1kHjRi9sZSSHkoTLkEcSuedesTeN2\n",
       "zdIyoxBmmh1PkZO12NuI3ULsAY9a30E8ar0uTo1TmMPXslYUwDt/V+u1tGq9zs8biE2+Hr4f31wd\n",
       "GMk1p000y4XNo1Rq3ZG0eNyR9IK+tOkhC1GO02QZU9dr7grhHYbWHan9Dut/t/SXCT9uWno53/7B\n",
       "3dLJfMF04Oi/uJOnzFVY81/u5D/xpX5UTJvU8H+SvwBVZVBM8dnIYQAAAABJRU5ErkJggg==\n",
       "\" style=\"display:inline;vertical-align:middle;\" /></a></span>"
      ],
      "text/plain": [
       "|- forall_{A, B} ((A subset_eq B) = [forall_{x in A} (x in B)])"
      ]
     },
     "execution_count": 5,
     "metadata": {},
     "output_type": "execute_result"
    }
   ],
   "source": [
    "subset_eq_def"
   ]
  },
  {
   "cell_type": "code",
   "execution_count": 6,
   "metadata": {},
   "outputs": [
    {
     "data": {
      "text/html": [
       "<strong id=\"subset_eq_def_spec\">subset_eq_def_spec:</strong> <span style=\"font-size:20px;\"> <a class=\"ProveItLink\" href=\"../../../__pv_it/_proof_rational_pos_within_rational/99d39af83ece01f8c264b3eb6a726d6e383b4c1d0/proof.ipynb\" style=\"text-decoration: none\">&nbsp;&#x22A2;&nbsp;&nbsp;</a><a class=\"ProveItLink\" href=\"../../../__pv_it/_proof_rational_pos_within_rational/df93283f24a2648485fe6a19ed13b63ee3c56b9e0/expr.ipynb\"><img src=\"data:image/png;base64,iVBORw0KGgoAAAANSUhEUgAAAQsAAAAbBAMAAACZ2rdOAAAAMFBMVEX///8iIiJERESYmJiqqqoQ\n",
       "EBB2dnbc3NyIiIhmZmbu7u4yMjJUVFS6urrMzMwAAADZVrDbAAAAAXRSTlMAQObYZgAAA6JJREFU\n",
       "SMfNl11IFFEUx88628w4604uhCG9bFNgWNH2YQ9FsFG0VBS+S7BZ4GpIkz4FgUtfpAiZRCiJDD0I\n",
       "qdFCUNlarRIZ9IE+ZUK0vSV9uERQGET3Y+dr9840ioELw9x7z93//Obcc8+5A7Bcfl8t7YzjLJEx\n",
       "VhZavRQAU6E4gGx9dNhxbpBB6FsiRwhIO6B5woAT/xejB7xh+LRFYggRF6NfpRjCPLrPKhtfO2Lk\n",
       "jWIXCyOF79tdMW6xh/OyExSDR+rDY6o0Wg1l6XRd+h6dxI2FQqEsbuWNIORYGCfx/ZErxgPmqC47\n",
       "RDFWRAE296Phz5rFG8J9VZ9vGFexMFrw5LAbBdfFHNZl+STBaNNAjCDXltzJWDACBoVp7GZh4ADn\n",
       "o24YPtUGtTa0xiYr1RKMGiQlIGBxstqCcd34n2m8xMLgmgYHz7iuic0qb9AKZR8TjJsA52QUy8FI\n",
       "swWj3PijafygsXbKd0WpYDw8brTa0SVdmZhO4M6QViTbSDAUgGk/8qqc3GdiCGauMo1zJGJPpfFv\n",
       "xMB4A1DFwDADYh26BmBrkqzFRLHsbvK4UYBPdGg/subXUTKDzjS2TbK88Q6klCsGjuwmOK29tSUE\n",
       "U3YvwahEpYE4KNpgUTEXxTTeZWL4ULRZxwae96k2jGPo0rDTcWjUYVfaZecIBnJvCQ0Xa9FIGC3T\n",
       "yPYGHzFyqXSgNyJ0Ar8DGnsre6MWDIBfdLHDxbIUYxOOlDDePNaXChh70DTOqWZsjBoYQuqLPnVb\n",
       "bBDEVpAuqoWLAvIf2qktlp0iGONorBmnklnre0qvZvSmYWTvFKjCKTnR35kN4kd/iwEkI4UhekjM\n",
       "QQfumAXMkKUhirMBd02VRuwFSK7Xk7lhrGGXtoMojkTtpW8ygHu70Mxk0oqBNmTwR0mOFjif4WVD\n",
       "9gbBIO/I/X7qnAl1YzcbYyV6qAyoFN3GvQ6MEbdiIKdLLzraafmTxmcKZZ/QmkICr9nvfO7SjQ/Z\n",
       "GBxZq58AHxVFSR6NUYysQzIP1tNkbshK5QSjlOQ7vuFwT9wJgxqleZfzhpyToYwUThSiF6IeSpsu\n",
       "my9tMg3es8qIdT8eD4X02NCNXMYZo41P8cDj6WIf8Ofts6qcXo/I5gs9PPN4UvNlnTGG9ySaANbj\n",
       "5tWKLRlPxx4LJMYY8oix859nURHFBkD1+4UcArn8IRD8Xd5OlGGPR+KW1pi6iCMxHPE0tVRjYLC+\n",
       "U6TLPdpCv1Myy+ST7S+9eRzpwic3UQAAAABJRU5ErkJggg==\n",
       "\" style=\"display:inline;vertical-align:middle;\" /></a></span><br>"
      ],
      "text/plain": [
       "subset_eq_def_spec: |- (RationalPos subset_eq Rational) = [forall_{x in RationalPos} (x in Rational)]"
      ]
     },
     "execution_count": 6,
     "metadata": {},
     "output_type": "execute_result"
    }
   ],
   "source": [
    "subset_eq_def_spec = subset_eq_def.instantiate({A:RationalPos, B:Rational})"
   ]
  },
  {
   "cell_type": "code",
   "execution_count": 7,
   "metadata": {},
   "outputs": [
    {
     "data": {
      "text/html": [
       "<span style=\"font-size:20px;\"> <a class=\"ProveItLink\" href=\"../../axioms.ipynb#rationals_pos_def\" style=\"text-decoration: none\">&nbsp;&#x22A2;&nbsp;&nbsp;</a><a class=\"ProveItLink\" href=\"../../../__pv_it/axioms/d1c579ce7340ad09185a585e3e442f96696159050/expr.ipynb\"><img src=\"data:image/png;base64,iVBORw0KGgoAAAANSUhEUgAAALoAAAAcBAMAAAAkZbgxAAAAMFBMVEX///8QEBCqqqp2dnaYmJiI\n",
       "iIjc3NwiIiLu7u66urpUVFQyMjJERERmZmbMzMwAAAC8H5PlAAAAAXRSTlMAQObYZgAAArxJREFU\n",
       "SMdjYKAXWEBT0w/Q3XSWKwg2XwM+3W8jSDadYzMSh3kCXu0TH2C19MzplbhMZ/lAlOmmzkCTeTdg\n",
       "kelansCx6wQD1+7d0ru3oEsyFxBjOrcCRxmaWhg4eQ9ow+sG7G7HY3q3A5zpyMBgjd10Vgegh3g6\n",
       "F5BsOod5AIx5ioFBvwGr6dxsF4BWTDhBsukMDOEWUMYvBob5ClhNz+ID+pDTwRKP6WwmEZFIpie7\n",
       "tkKtcb8B8cVfoOkBDMwCmPqnMikAU3KACsJ05t1gcAHE5gKlg4kJXB8QpnOKMayHadZeBiLZPjMw\n",
       "vA9ATV9Q8BRiuhKQmYApqwhMaRwiEEugpjc6MKyGy89eATId6Pb3BgwMezH1c4FDRsEMa1J7A0xo\n",
       "DLwfGBgNEKbfZ2AQRph+AhEyDFylGAbwQGJ1Ae78x3iAIX8CwnQZBrafqCEDilV9YAjswtTP6XAA\n",
       "lCIdkGISEu5g+7iAkv0BDP6INMPxFRHA0FhlOMPA4N+AFu4cVrYgqy1BuektjlwISjP9CgynkUz/\n",
       "xMCzAS1FQnMTPM002V5hSF3AYAL0D8v1BI69DnhM5w5g+YyU3rcy+Bug5SZ2BQ45pLzBciijgSHM\n",
       "gaFVDcT5vV+BAY/pHEuDfiKZ3hWqPwGtJOAwjXoANb03dBLDXFBp/SiBgZUFJGnJtACf6fCSEpZX\n",
       "/fG4pI7vGwMo4FhagGmFFSxspn3VAIcOAXieQpi+GrfpvBf4BDhA+ZAVZDozWDz3zF4chSvE1ZDk\n",
       "DjddGLtaUPnOqMC6gK/mzJmjTKCQYSZUG4LqJub9tcimW3+/gD1vAKX7E3gCwLU/xzJgrDoRMp0J\n",
       "qV5lfUCwXmVMeP+AwQ7EjV3AYErtZgDnUntg3gQlQdbvNr+o37DwBuKYM0dB+X8C9U2/DGOwHXNK\n",
       "o7bhvL/hkdNqGwEAfXfFnFahWOgAAAAASUVORK5CYII=\n",
       "\" style=\"display:inline;vertical-align:middle;\" /></a></span>"
      ],
      "text/plain": [
       "|- RationalPos = {q s.t. q > 0}_{q in Rational}"
      ]
     },
     "execution_count": 7,
     "metadata": {},
     "output_type": "execute_result"
    }
   ],
   "source": [
    "rationals_pos_def"
   ]
  },
  {
   "cell_type": "code",
   "execution_count": 8,
   "metadata": {},
   "outputs": [
    {
     "data": {
      "text/html": [
       "<strong id=\"rationals_pos_def_r_h_s\">rationals_pos_def_r_h_s:</strong> <a class=\"ProveItLink\" href=\"../../../__pv_it/axioms/375c96aaf854464766ef7b269700efa511dadc960/expr.ipynb\"><img src=\"data:image/png;base64,iVBORw0KGgoAAAANSUhEUgAAAH8AAAAZBAMAAADqPuxnAAAAMFBMVEX///+IiIi6urrc3NxERETM\n",
       "zMwQEBCqqqpUVFQiIiJ2dnYyMjLu7u5mZmaYmJgAAABN0h6tAAAAAXRSTlMAQObYZgAAAf1JREFU\n",
       "OMudlD1IQlEYhl9vinK93SyKQsKiIRrv0NTQDwgtQQ4VBEHSD4FTIDW05NJQDhUNQRBIUBAtBkXR\n",
       "ELZESpFuQlgGQUtgP0QUDp3T9R6PeTP1DNfzXjkP53u/934A5FuwNYICyxQL6b2WTjixVQgAYVLv\n",
       "rfxcDEB0bJPnje5fK8UAjhBWgN3SANJp9ppuiMGSAYisajujD+Z06QAYNjK+V/kgfBQCdNyfNXMA\n",
       "TULeVAnXUQgvwI4ewEJqE8axzN2AScB8rNCfrgBMBJDSA8y6gPMk/ByASQo7pnfoisL0BVij+ecH\n",
       "1sjjDvBwACYp4CCULQGLtnxCK7nBBCpeOQCTrARiopmYaPXpedAN6UXL4w8gK5mJxm7I6d8eRJbi\n",
       "itoF6QPGIAdgkrUxEyTWBWkukaxogPiYaeM+UgGuBE1mg4R1nLu4HDx4L2HohFSvqICL6vlmDpCR\n",
       "XJQRqV6ACpBiNdMC7cagF7AltSSmcpOY0v+kKCDsGlWsVDyRwzbSFdFNlT8X4P8bkMAQrqhopICA\n",
       "Ng88uQCPPoDOgyk0YNjpdNpmvCoAdCLtfUZ5gCZ/T6QxYsEbemD5cYqY6JimWeFmYt3/M3Hc9A7R\n",
       "RXsch1iL0lebndTcS3dNG/2+MgCQSaIMxAOgr6Wc86gMaLv2Tq9SBuDukAXaHgt9A4pqnZylPNY+\n",
       "AAAAAElFTkSuQmCC\n",
       "\" style=\"display:inline;vertical-align:middle;\" /></a><br>"
      ],
      "text/plain": [
       "rationals_pos_def_r_h_s: {q s.t. q > 0}_{q in Rational}"
      ]
     },
     "execution_count": 8,
     "metadata": {},
     "output_type": "execute_result"
    }
   ],
   "source": [
    "rationals_pos_def_r_h_s = rationals_pos_def.rhs"
   ]
  },
  {
   "cell_type": "code",
   "execution_count": 9,
   "metadata": {},
   "outputs": [],
   "source": [
    "# comprehension_is_subset"
   ]
  },
  {
   "cell_type": "code",
   "execution_count": 10,
   "metadata": {},
   "outputs": [],
   "source": [
    "# comprehension_is_subset_spec = comprehension_is_subset.instantiate(\n",
    "#         {k:one, S:Rational, QQ:[Lambda(q, greater(q, zero))]}, relabel_map={y:q})"
   ]
  },
  {
   "cell_type": "code",
   "execution_count": 11,
   "metadata": {},
   "outputs": [],
   "source": [
    "# rationals_pos_def.sub_left_side_into(comprehension_is_subset_spec)"
   ]
  },
  {
   "cell_type": "code",
   "execution_count": 12,
   "metadata": {},
   "outputs": [],
   "source": [
    "# %qed"
   ]
  },
  {
   "cell_type": "code",
   "execution_count": null,
   "metadata": {},
   "outputs": [],
   "source": []
  }
 ],
 "metadata": {
  "kernelspec": {
   "display_name": "Python 3",
   "language": "python",
   "name": "python3"
  }
 },
 "nbformat": 4,
 "nbformat_minor": 0
}