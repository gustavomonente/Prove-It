{
 "cells": [
  {
   "cell_type": "markdown",
   "metadata": {},
   "source": [
    "Proof of <a class=\"ProveItLink\" href=\"../../../../../../_theory_nbs_/theory.ipynb\">proveit</a>.<a class=\"ProveItLink\" href=\"../../../../../_theory_nbs_/theory.ipynb\">numbers</a>.<a class=\"ProveItLink\" href=\"../../../../_theory_nbs_/theory.ipynb\">number_sets</a>.<a class=\"ProveItLink\" href=\"../../theory.ipynb\">rational_numbers</a>.<a class=\"ProveItLink\" href=\"../../theorems.ipynb#positive_rational_is_rational_pos\">positive_rational_is_rational_pos</a> theorem\n",
    "========"
   ]
  },
  {
   "cell_type": "code",
   "execution_count": 1,
   "metadata": {},
   "outputs": [],
   "source": [
    "import proveit\n",
    "theory = proveit.Theory() # the theorem's theory"
   ]
  },
  {
   "cell_type": "code",
   "execution_count": 2,
   "metadata": {},
   "outputs": [
    {
     "data": {
      "text/html": [
       "Under these <a href=\"presumptions.txt\">presumptions</a>, we begin our proof of<br><strong id=\"positive_rational_is_rational_pos\">positive_rational_is_rational_pos:</strong> <a class=\"ProveItLink\" href=\"../../../__pv_it/theorems/1013dad12c8b6e01517a70a680cfe39b00fc4f8d0/expr.ipynb\"><img src=\"data:image/png;base64,iVBORw0KGgoAAAANSUhEUgAAALcAAAAbBAMAAADMngM5AAAAMFBMVEX///8QEBCIiIhmZma6urrM\n",
       "zMxUVFQiIiJERETc3Nzu7u6qqqp2dnaYmJgyMjIAAAAcRTyBAAAAAXRSTlMAQObYZgAAAyRJREFU\n",
       "SMfNll1oE0EQgKf5zyWpxSdLi5xFitSIIcVaRGxQ8UXR1PrTJxPEX5QqivTBCkGLXivogah9sPS0\n",
       "UqGIDagPwb+Aeaminj6Jfw0t9kE0FqloFYoz97N3SUNiCoIHe5md3fludmdmNwD/37Ol4GgUm2XW\n",
       "bHu04HAMmy06W3i5VBQOz2YLD0JxuBMdSJPwvjS2+1dedYtwbpcBtwQAnpLwqTS4N5BPO7BX5Ma7\n",
       "wZHJzM98QQ8mAHrIk1hp8LJ4Pm3nMvzADkn3HI6rsfHGS4P3ZcXzdXs77a1FxrfrepTBGwF8TwYH\n",
       "L5cYz5fmTmudlkFu3CxLqJvBF2D7KQgdJcJX0evKq2sh/OH0eF2yy5jdcorBN+H6dgN05SPYchV+\n",
       "vy4JNFwJh0h2iJpytQc3184/YPBIGGANcGkT4ubBBnW6i6kuKm9f0qMX3Ti2qzK0ZU3brMLvoagC\n",
       "+nBhTgyFOszdr5fdteB9mwMfUFbmDIGe3kexNQFUk9ycwYe8cyjbEh9mZkMI98pOPeyJQbD0ArdY\n",
       "zIZDz36aG4YqrT+GbR64J5UxfZJLDahxpJDn7vQ2lPpr1tuoNLYmAHjZgHPBhbja1hW4hSKc0MxO\n",
       "o/4b+CaUnGcxkmOUijKDR8jHLqxZ7ph9qpw0b3CQ5w34jbAyZyMPEQmOaGb70OA3uJRQWXkdlqIi\n",
       "ajHWS9kCtw/jlIC9op80dQRPGvB6aFZTW8SPzNXMKINHYSSpF6L6+JaL3JicUw1zeCpoS3S7IAj8\n",
       "3UQ2vApq6cczSns+afJpoOZRSA13p16vvumv5lJvVHQ4OCS6eIcyFQO6JM7g3BScpP38LJmzpUzB\n",
       "jmi9DWfatVxOecw3xCg7isRI2BumE6IBvItMqVhp/47Ze0qiI5SZWpWltc08LYcfBpN6h2Pnsm3n\n",
       "C4CzJC3tOB81wdf5J8C9R8lN/2N2y1XQu3pmVV8QxkIsBKZVfEDfcM8ButeCuYh8aWgN50IOYHv+\n",
       "I1DwAHKarFayiulNmIvImsxjeOsvTrd3hmid1j/E+YOSCd70MY+hJ1D8Kix4AVkLDd4pCrdK//iv\n",
       "0x8F+sm9Q/vVJQAAAABJRU5ErkJggg==\n",
       "\" style=\"display:inline;vertical-align:middle;\" /></a><br>(see <a class=\"ProveItLink\" href=\"../../../__pv_it/theorems/8a404c1a40e51c866e50510f6c78bb6ec2f897c90/dependencies.ipynb\">dependencies</a>)<br>"
      ],
      "text/plain": [
       "positive_rational_is_rational_pos: forall_{q in Rational | q > 0} (q in RationalPos)"
      ]
     },
     "execution_count": 2,
     "metadata": {},
     "output_type": "execute_result"
    }
   ],
   "source": [
    "%proving positive_rational_is_rational_pos"
   ]
  },
  {
   "cell_type": "code",
   "execution_count": null,
   "metadata": {},
   "outputs": [],
   "source": []
  }
 ],
 "metadata": {
  "kernelspec": {
   "display_name": "Python 3",
   "language": "python",
   "name": "python3"
  }
 },
 "nbformat": 4,
 "nbformat_minor": 0
}