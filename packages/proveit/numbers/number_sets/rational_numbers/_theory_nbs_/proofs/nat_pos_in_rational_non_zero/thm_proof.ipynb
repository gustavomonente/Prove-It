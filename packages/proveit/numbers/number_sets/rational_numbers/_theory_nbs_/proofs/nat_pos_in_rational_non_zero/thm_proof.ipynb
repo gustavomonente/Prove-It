{
 "cells": [
  {
   "cell_type": "markdown",
   "metadata": {},
   "source": [
    "Proof of <a class=\"ProveItLink\" href=\"../../../../../../_theory_nbs_/theory.ipynb\">proveit</a>.<a class=\"ProveItLink\" href=\"../../../../../_theory_nbs_/theory.ipynb\">numbers</a>.<a class=\"ProveItLink\" href=\"../../../../_theory_nbs_/theory.ipynb\">number_sets</a>.<a class=\"ProveItLink\" href=\"../../theory.ipynb\">rational_numbers</a>.<a class=\"ProveItLink\" href=\"../../theorems.ipynb#nat_pos_in_rational_non_zero\">nat_pos_in_rational_non_zero</a> theorem\n",
    "========"
   ]
  },
  {
   "cell_type": "code",
   "execution_count": 1,
   "metadata": {},
   "outputs": [],
   "source": [
    "import proveit\n",
    "theory = proveit.Theory() # the theorem's theory"
   ]
  },
  {
   "cell_type": "code",
   "execution_count": 2,
   "metadata": {},
   "outputs": [
    {
     "data": {
      "text/html": [
       "Under these <a href=\"presumptions.txt\">presumptions</a>, we begin our proof of<br><strong id=\"nat_pos_in_rational_non_zero\">nat_pos_in_rational_non_zero:</strong> <a class=\"ProveItLink\" href=\"../../../__pv_it/theorems/0901f287fbee99731a32d03d54f4ad1e6c9a9ade0/expr.ipynb\"><img src=\"data:image/png;base64,iVBORw0KGgoAAAANSUhEUgAAAF4AAAAXCAMAAAC1Wwj4AAAAOVBMVEX///8oKCgUFBQNDQ1mZmaq\n",
       "qqrc3NyIiIgiIiJUVFTMzMyYmJi6uroQEBB2dnZEREQyMjLu7u4AAAACptgAAAAAAXRSTlMAQObY\n",
       "ZgAAAYtJREFUSMe1lYmSwyAIQNldLzzR///YBU2aHtpOpykzcRI1j0NAgPOlymCzzfANUZ6HwGyN\n",
       "ix34Ad30n13kodX5lvIBvgizNnEh6dPxsUfcNyMuhBPxWET++AmMFx+chUqtFJKPnFqK7+G9Yhhh\n",
       "PGbsiMewPllhsbJ+HLWJDcSSZAgvExDRMaUSlv0M62bYiH0Tveg8WNED6b3glNhzkNV4cV8M+/3Z\n",
       "DDsyByMrR9nonuBDcUP8JQ4BaE+WiFdJ2RfVnvdoODZV9K/xhrK5nyMwamPFkY5QjkS3OY9VNKBt\n",
       "D/8a78ysfPx2PDFAlmDoWRtgvKwGu8arSX1EC3qb9vwauj8LPKCE/4K/t9XNkvIWz69BL/GVY0Pp\n",
       "aRt5bEyX4Gh4PJobPPgMfoWvZV7aV0e7boIDL64t091Nu0vYf+DEXNcgbpmczRKf7XT2KCu1Lj7a\n",
       "T0TR6z23paZGU1Br271raW8U9Ky9xNndEBpR0ydccT6Xu6awBWh9550hORtN6kvXthQF93xScb74\n",
       "DyjJEHD/QUqiAAAAAElFTkSuQmCC\n",
       "\" style=\"display:inline;vertical-align:middle;\" /></a><br>(see <a class=\"ProveItLink\" href=\"../../../__pv_it/theorems/278cf62dd21daf8baa4415fbe618a1ed6b37d22d0/dependencies.ipynb\">dependencies</a>)<br>"
      ],
      "text/plain": [
       "nat_pos_in_rational_non_zero: NaturalPos proper_subset RationalNonZero"
      ]
     },
     "execution_count": 2,
     "metadata": {},
     "output_type": "execute_result"
    }
   ],
   "source": [
    "%proving nat_pos_in_rational_non_zero"
   ]
  },
  {
   "cell_type": "code",
   "execution_count": null,
   "metadata": {},
   "outputs": [],
   "source": []
  }
 ],
 "metadata": {
  "kernelspec": {
   "display_name": "Python 3",
   "language": "python",
   "name": "python3"
  }
 },
 "nbformat": 4,
 "nbformat_minor": 0
}