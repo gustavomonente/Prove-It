{
 "cells": [
  {
   "cell_type": "markdown",
   "metadata": {},
   "source": [
    "Proof of <a class=\"ProveItLink\" href=\"../../../../../../_theory_nbs_/theory.ipynb\">proveit</a>.<a class=\"ProveItLink\" href=\"../../../../../_theory_nbs_/theory.ipynb\">numbers</a>.<a class=\"ProveItLink\" href=\"../../../../_theory_nbs_/theory.ipynb\">number_sets</a>.<a class=\"ProveItLink\" href=\"../../theory.ipynb\">rational_numbers</a>.<a class=\"ProveItLink\" href=\"../../theorems.ipynb#negative_rational_is_rational_neg\">negative_rational_is_rational_neg</a> theorem\n",
    "========"
   ]
  },
  {
   "cell_type": "code",
   "execution_count": 1,
   "metadata": {},
   "outputs": [],
   "source": [
    "import proveit\n",
    "theory = proveit.Theory() # the theorem's theory"
   ]
  },
  {
   "cell_type": "code",
   "execution_count": 2,
   "metadata": {},
   "outputs": [
    {
     "data": {
      "text/html": [
       "Under these <a href=\"presumptions.txt\">presumptions</a>, we begin our proof of<br><strong id=\"negative_rational_is_rational_neg\">negative_rational_is_rational_neg:</strong> <a class=\"ProveItLink\" href=\"../../../__pv_it/theorems/0447cc9dc33874c761bb440cc798b8c72c97a1a80/expr.ipynb\"><img src=\"data:image/png;base64,iVBORw0KGgoAAAANSUhEUgAAALcAAAAaBAMAAAAHwtCcAAAAMFBMVEX///8QEBCIiIhmZma6urrM\n",
       "zMxUVFQiIiJERETc3Nzu7u6qqqp2dnaYmJgyMjIAAAAcRTyBAAAAAXRSTlMAQObYZgAAAwBJREFU\n",
       "SMe1VUtoE1EUvc0/k0ktrhS7GLsQqRFDxJpF0aDuFEytv5UJolhRqiiShRW6qHUSQQcEzcJitNJF\n",
       "EBNQF8FfwGyqWEdX4qcNjXThQosU/EHx3vm8mXxImoAP3sx959135r77G4CWxt6GGhZoddijDVVs\n",
       "0VbJ21ONdV63Sh5Ygo4TDSiS8Lk5bvefmnC/eOWIyel+gFckfG2OnPfXQieOSdxcAmwijgRaMA+Q\n",
       "JEuGmyNvy9ZCRzbhBw4Z0TivxobPNkd+qyye72Mx8q1FxqfrrpEkQQDvy3T6RpPxfGteHOzWMsiN\n",
       "zrKEEmxjNc5fojjUJPkWetx8dyeEL06P13W7jNktF5jWbrzfUYB4zSqoBHw+XRJpeyWcItkhaeA2\n",
       "DzrXLjxl+pEwwHbgiiaKeyd7VHVX+adS3rxH9+ccztsyDJap7VHJHxuRwYs5MRTqinuyUXavAf5j\n",
       "Nbl9FJwh0NP7LM6tAJ0k933DQdY5FLdkJ9mZDJLzslMPey4NljHg1kmV5O4BCTJhWKUtSzhXgHuB\n",
       "5KSu41IDGi2z3F3cj9J4104blca+HIAgG+SI45WC6L6IBBe0Y6MI/QDvvJLzzHHyMKWibPicbIxj\n",
       "zXLn7L/bCfmAm4LAyAkHborSIpKCM9qxAdz4Cy4lVFZBJytQEfVDWbbAg9Oo4rd3jBPSTeR5Rk44\n",
       "9MmaIctNGTwLM3m9ENXh3SxxJbmiGpYJVNCW6AHsCcKjXBk54cB/UeIThgWTTRNdz0NqSxnR69W7\n",
       "+N1c6kEFw82M5BIciioGdH2WkROOjr9ILdTIljaFdkZb7boU03K54DH/IWZZK5IiYT5MHaIH+LVG\n",
       "KhJO1RenFsqOWpWrDVZ3y8lngby+4Fhfth1+A3CZpA1DV6MGuYJTwh3HCn3Bsr6Dnp3VVX1NLIVY\n",
       "CEy3mEbb0OcAiR1gLqJprT1JZpITOKd++uv/icKG3KsLybGcuYh6ax28v4Tu9skQrYv6hzhfIGWQ\n",
       "G7h5ePyNf4V1f0DWepsPG5JbU/B/xz+cJMJvOFdEkQAAAABJRU5ErkJggg==\n",
       "\" style=\"display:inline;vertical-align:middle;\" /></a><br>(see <a class=\"ProveItLink\" href=\"../../../__pv_it/theorems/84ef059d46d5a1d53a6cd6e8e90217a413bd1c6f0/dependencies.ipynb\">dependencies</a>)<br>"
      ],
      "text/plain": [
       "negative_rational_is_rational_neg: forall_{q in Rational | q < 0} (q in RationalNeg)"
      ]
     },
     "execution_count": 2,
     "metadata": {},
     "output_type": "execute_result"
    }
   ],
   "source": [
    "%proving negative_rational_is_rational_neg"
   ]
  },
  {
   "cell_type": "code",
   "execution_count": null,
   "metadata": {},
   "outputs": [],
   "source": []
  }
 ],
 "metadata": {
  "kernelspec": {
   "display_name": "Python 3",
   "language": "python",
   "name": "python3"
  }
 },
 "nbformat": 4,
 "nbformat_minor": 0
}