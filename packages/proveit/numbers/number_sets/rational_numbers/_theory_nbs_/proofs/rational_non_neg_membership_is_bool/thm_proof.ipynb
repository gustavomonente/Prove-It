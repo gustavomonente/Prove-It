{
 "cells": [
  {
   "cell_type": "markdown",
   "metadata": {},
   "source": [
    "Proof of <a class=\"ProveItLink\" href=\"../../../../../../_theory_nbs_/theory.ipynb\">proveit</a>.<a class=\"ProveItLink\" href=\"../../../../../_theory_nbs_/theory.ipynb\">numbers</a>.<a class=\"ProveItLink\" href=\"../../../../_theory_nbs_/theory.ipynb\">number_sets</a>.<a class=\"ProveItLink\" href=\"../../theory.ipynb\">rational_numbers</a>.<a class=\"ProveItLink\" href=\"../../theorems.ipynb#rational_non_neg_membership_is_bool\">rational_non_neg_membership_is_bool</a> theorem\n",
    "========"
   ]
  },
  {
   "cell_type": "code",
   "execution_count": 1,
   "metadata": {},
   "outputs": [],
   "source": [
    "import proveit\n",
    "theory = proveit.Theory() # the theorem's theory"
   ]
  },
  {
   "cell_type": "code",
   "execution_count": 2,
   "metadata": {},
   "outputs": [
    {
     "data": {
      "text/html": [
       "Under these <a href=\"presumptions.txt\">presumptions</a>, we begin our proof of<br><strong id=\"rational_non_neg_membership_is_bool\">rational_non_neg_membership_is_bool:</strong> <a class=\"ProveItLink\" href=\"../../../__pv_it/theorems/112f801f7cbce2eede3cf8be4759fe3327c4dfa80/expr.ipynb\"><img src=\"data:image/png;base64,iVBORw0KGgoAAAANSUhEUgAAALcAAAAcBAMAAADRmzOBAAAAMFBMVEX///8QEBCIiIhmZma6urrM\n",
       "zMxUVFQiIiJERETc3Nzu7u6qqqp2dnaYmJgyMjIAAAAcRTyBAAAAAXRSTlMAQObYZgAAAyJJREFU\n",
       "SMe1VV1IVEEUPq37d693N4keAiG27AfEYIkSiYQtQehnaRWKHopdIkNfIgJbyn6WEFwNaqGHhB66\n",
       "FEiIqCBE5ItYD2JaRlI9GN0KegiULQxSXzozd2b2znonNsIP/OZ69txvzpw551yA/0BNDawBGnOE\n",
       "Q2PlqX9+1RfjpIJWm0AOxGAZIgoXj8J+QpBavQ7VhxJQCY0KD6/iUN8FqaFPxCCZg2tgzCg8pl2t\n",
       "ZRFOf1V/ZSZNuAhwReEQMAEs8vDRaX1gcnK5jrrsN/syPPMk8g0AVUUuOzfd+XwJfTxRgJercvBc\n",
       "0Opwz12GwVay78NbNOeLGEaxk9Ws99TjteQBesn1ZJw/VgpahWBDAvQWDGWgk1cLBIaLnDJx2B7E\n",
       "tQMgjHEYzt+1ZU4FfEinafp2hZF6GuFRJ81MlNR5GYss1JW+zsVHiXgd2ib7++85hUIVnAROVvMT\n",
       "30XaFjSPsw4lyfPYrr6bZiHyF49x3YJ/v7PZq1KxWIz0rW0Hx2mm+ZVoqdPIcUPqL699yEGzkBZv\n",
       "ewuux9CCa7eU1wyjAXgfoQf157hOZBS5uVwqbd8vurQVcn7gxg+yfRL7rAF0y+kcTjGahNfmIbqd\n",
       "0GHiw0+zCBaqtmhLOi90eo5UM+4QAI8USSDKyISsbWlaQNAAaFqOGDmpPKm4bzNx4uJBL0oOobgx\n",
       "E5AqIxzlBD9tS28hKHqhfnnMUHFNijwIKTtyzSIzanzvjgTLeYoTyyasE+/FSYZ64nLTLtGlwinu\n",
       "J42fJAfsPov1ZJ4PsBrwZxg98+ShGqQ5Y9AmioJLteyWIg+N2dUCIxdwe5gXg7jCJu9KMK/Zt9Eh\n",
       "XnyL7V8vNyRriUKjWqdgqhbXN+Sf9TSwJSkSJP1MdRUbaH2doog/LawUD1E723rrYXlwkQ7Frcmb\n",
       "vryPe28UJHC0K83K1Yg9KRIPs6R5J1j7c3wRY9awDP68X5Abpu5/lT/LQ6Zi4Ivx1Dc7PsmfmwS5\n",
       "f+Bu75EM7xSOIdfvnH+YU0loV32JEq7nsTiVAlJ0rphzN48IKgG9qvRl3O3lMU4lYJ/CXmbC2uIP\n",
       "JUXSwmhGFEIAAAAASUVORK5CYII=\n",
       "\" style=\"display:inline;vertical-align:middle;\" /></a><br>(see <a class=\"ProveItLink\" href=\"../../../__pv_it/theorems/48601214e3280121ee2edd3a4fcdac88f2a0819d0/dependencies.ipynb\">dependencies</a>)<br>"
      ],
      "text/plain": [
       "rational_non_neg_membership_is_bool: forall_{x} ((x in RationalNonNeg) in BOOLEAN)"
      ]
     },
     "execution_count": 2,
     "metadata": {},
     "output_type": "execute_result"
    }
   ],
   "source": [
    "%proving rational_non_neg_membership_is_bool"
   ]
  },
  {
   "cell_type": "code",
   "execution_count": null,
   "metadata": {},
   "outputs": [],
   "source": []
  }
 ],
 "metadata": {
  "kernelspec": {
   "display_name": "Python 3",
   "language": "python",
   "name": "python3"
  }
 },
 "nbformat": 4,
 "nbformat_minor": 0
}