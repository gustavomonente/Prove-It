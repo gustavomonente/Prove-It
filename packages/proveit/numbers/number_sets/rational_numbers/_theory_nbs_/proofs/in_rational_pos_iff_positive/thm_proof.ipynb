{
 "cells": [
  {
   "cell_type": "markdown",
   "metadata": {},
   "source": [
    "Proof of <a class=\"ProveItLink\" href=\"../../../../../../_theory_nbs_/theory.ipynb\">proveit</a>.<a class=\"ProveItLink\" href=\"../../../../../_theory_nbs_/theory.ipynb\">numbers</a>.<a class=\"ProveItLink\" href=\"../../../../_theory_nbs_/theory.ipynb\">number_sets</a>.<a class=\"ProveItLink\" href=\"../../theory.ipynb\">rational_numbers</a>.<a class=\"ProveItLink\" href=\"../../theorems.ipynb#in_rational_pos_iff_positive\">in_rational_pos_iff_positive</a> theorem\n",
    "========"
   ]
  },
  {
   "cell_type": "code",
   "execution_count": 1,
   "metadata": {},
   "outputs": [],
   "source": [
    "import proveit\n",
    "theory = proveit.Theory() # the theorem's theory"
   ]
  },
  {
   "cell_type": "code",
   "execution_count": 2,
   "metadata": {},
   "outputs": [
    {
     "data": {
      "text/html": [
       "Under these <a href=\"presumptions.txt\">presumptions</a>, we begin our proof of<br><strong id=\"in_rational_pos_iff_positive\">in_rational_pos_iff_positive:</strong> <a class=\"ProveItLink\" href=\"../../../__pv_it/theorems/a369e8eb936551ca1cef2d7234695104c1e7979e0/expr.ipynb\"><img src=\"data:image/png;base64,iVBORw0KGgoAAAANSUhEUgAAAPsAAAAbBAMAAABIGOQXAAAAMFBMVEX///8QEBCIiIhmZma6urrM\n",
       "zMxUVFQiIiJERETc3Nzu7u6qqqp2dnaYmJgyMjIAAAAcRTyBAAAAAXRSTlMAQObYZgAABD1JREFU\n",
       "SMfNVltoVEcY/rP3nd2z5kGpog3bKKIWIQSkPqjd6kOhfcimKX0RmiUoaltaMVQtSglBdKMYDgr2\n",
       "QiFrWtKStskB+yJFE5K0JC3RbV9EtE1IYNsK2QQrXlIR/39uZ3d7Tjbd+uDAbCZn/m/++zcD8DQP\n",
       "fwJ/Xl9QJIXTU8nZiwC9QSakFhRpw+lLVaB+EaBbOGOZsuphvBL3y4K8cfyph/Lqg44mhrNuoIsK\n",
       "NEmL31ykulAgPO+41ZTu3GWr99Q5yXzliBy6mYSAKUE/qxg7jWGcUceTe/aYLHcSAvl8TX4GbZxz\n",
       "EvrL6WPMYh8AI68J9DH9bXNRvxJnleW0c2wTmvBmRnkPRxxkDNtwNqOXvwBcwRBIEBVW1HLWzuPe\n",
       "VZhW48ShD3mws2h+6IuUVr9Z+SbbhefWtIHfHFCr4wADGTgvQcZPvb0fuThvVAtrbRpol7bEwuiZ\n",
       "J3FSq39OSmzEGUqKddGxnqMSehegwYJYQoLup9NH3QqfMrSNVp/92k3yfSoS5/xY1L7siFbfIHb8\n",
       "9B+TpbSaAji+YY30pZWLsL9ROC4qikC7ATpc1IfosDQxxAp4jz7sUzvbI5gvf/ySVt8sPG585hCO\n",
       "GmHLaZwvmQFVlZEcJSP8EIXjYExK0A5RhrpIfhzWSmKU2xzO81l4VzcZjdeE+u9xKRLcleARfkvE\n",
       "4JQqR/YsBPTpvhz1MXrfPAiR/RIUxDqS+18Pb4UzKRhXlRikCLXifBFgFR1bk8dBOwEefGtMW91P\n",
       "6tlBBeR2LsX0zUHVoFb/Z0YH3z8nQdFsUFXaqU8zsD4L3ReV96R+GudyCN8patCQKD2btYX354Qq\n",
       "9g5I9VVtckcHn0pvwBLqaSs8SY3yee2rmAZ0cKcJHkMpSYlGYbfB4Bms1o5k26jxbFJtFjm4RuHJ\n",
       "/5FUwe+PwwQUlR7V0kQGfPsVqAPJk73vf8D51/gWvVJXYYC83Yu7/0CIZ9Cm/xGinSa7ZGTlc6Zh\n",
       "ku2w9Pot6CxpPEE7vPQ46AIa4q3zVzOCekh9VPVqtWzOKZjgYQ1qfjJeMNl0wY2i2IHuAa+lKTsW\n",
       "Nx6W0E7QYstQZlCBlsSJWT0p/+F0uj1CwVfqffPSxJ7aAZ5BtvcVrf/RbCFXKtbrA8HjNF5GQMvz\n",
       "d0pIlw2txdzEkgpk4Pn9ZijO3y1sH5beDSW6lDifK5YZ9I0K0qXwRwqfC1OKp3H2FpKu4XgZwZeF\n",
       "IKgykQJ+4FSVgiFd4FtAhkm0fdGIjl2u1z3F5t2unMCk861bBPK1XMVKpmh67o3e1UKN1Au83Ff9\n",
       "+4Sz6emE1uT4cCI2tdu+cHCmKwT9jnNdup3aSR8KATLobZxX7tUt+OQJJl2eG9HZVkc6N0tAW/Qt\n",
       "23HjkyIj+xbxbLsJ/+2xdb0E5H2kTeke3qA/XyC2qiur3fW98j9BEUrEd2XFvJkK1FcEerLjMZAE\n",
       "J2DQ1tnYAAAAAElFTkSuQmCC\n",
       "\" style=\"display:inline;vertical-align:middle;\" /></a><br>(see <a class=\"ProveItLink\" href=\"../../../__pv_it/theorems/835365d0ff18b81d871808395fcffbcf1f9b89220/dependencies.ipynb\">dependencies</a>)<br>"
      ],
      "text/plain": [
       "in_rational_pos_iff_positive: forall_{q in Rational} ((q in RationalPos) <=> (q > 0))"
      ]
     },
     "execution_count": 2,
     "metadata": {},
     "output_type": "execute_result"
    }
   ],
   "source": [
    "%proving in_rational_pos_iff_positive"
   ]
  },
  {
   "cell_type": "code",
   "execution_count": null,
   "metadata": {},
   "outputs": [],
   "source": []
  }
 ],
 "metadata": {
  "kernelspec": {
   "display_name": "Python 3",
   "language": "python",
   "name": "python3"
  }
 },
 "nbformat": 4,
 "nbformat_minor": 0
}