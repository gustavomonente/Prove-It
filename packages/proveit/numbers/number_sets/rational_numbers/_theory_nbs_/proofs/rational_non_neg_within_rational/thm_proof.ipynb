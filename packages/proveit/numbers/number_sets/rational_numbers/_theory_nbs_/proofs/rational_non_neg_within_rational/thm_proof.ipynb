{
 "cells": [
  {
   "cell_type": "markdown",
   "metadata": {},
   "source": [
    "Proof of <a class=\"ProveItLink\" href=\"../../../../../../_theory_nbs_/theory.ipynb\">proveit</a>.<a class=\"ProveItLink\" href=\"../../../../../_theory_nbs_/theory.ipynb\">numbers</a>.<a class=\"ProveItLink\" href=\"../../../../_theory_nbs_/theory.ipynb\">number_sets</a>.<a class=\"ProveItLink\" href=\"../../theory.ipynb\">rational_numbers</a>.<a class=\"ProveItLink\" href=\"../../theorems.ipynb#rational_non_neg_within_rational\">rational_non_neg_within_rational</a> theorem\n",
    "========"
   ]
  },
  {
   "cell_type": "code",
   "execution_count": 1,
   "metadata": {},
   "outputs": [],
   "source": [
    "import proveit\n",
    "theory = proveit.Theory() # the theorem's theory"
   ]
  },
  {
   "cell_type": "code",
   "execution_count": 2,
   "metadata": {},
   "outputs": [
    {
     "data": {
      "text/html": [
       "Under these <a href=\"presumptions.txt\">presumptions</a>, we begin our proof of<br><strong id=\"rational_non_neg_within_rational\">rational_non_neg_within_rational:</strong> <a class=\"ProveItLink\" href=\"../../../__pv_it/theorems/7dfa2ce10f9502ef79d2018cf5946dc90c9c08a40/expr.ipynb\"><img src=\"data:image/png;base64,iVBORw0KGgoAAAANSUhEUgAAAFIAAAAXBAMAAABqlwV3AAAAMFBMVEX///8QEBCqqqp2dnaYmJiI\n",
       "iIjc3NwiIiLu7u66urpUVFQyMjJERERmZmbMzMwAAAC8H5PlAAAAAXRSTlMAQObYZgAAAUBJREFU\n",
       "KM9jYEAFrKYGDAQA5zIw5cygRUglQ+46EFnJwN9AWOk5BgaOfwyMCgRVMjSfZOD7xsDuwECE0h18\n",
       "PxjYA3DKvz1zeiWEFe0ANJMxAJeCruUJHLtOABkcMQogd/JPQFMIV3DyHpDzuoGBw2YCdr/DFLA6\n",
       "bGBg4OlcwHEHbFYsLDxZjpeXlz8AxQVUAQM32wUgb8IJvgeQODK+AKbZNidAjYQpYMjiA4YKp4Ml\n",
       "mpXsMIUIBVOZgCHNF6CCpvISnAVX8BTCUGI6AwQn4PIFcBZMAQMX2HAFM1Qj2RbAmXAFPBAHL0BV\n",
       "yXEAzoQr4HQ4AAoE9MhG2I5QYAkK2LfoMWiKYMIVsFxP4NiLkX64EWkPoYDl937MJMmxagZCKVyB\n",
       "JdMCzBTGZwONTWQFzGbaV/HmM4SC3DN7J+DPOEAFAI7padStxDtWAAAAAElFTkSuQmCC\n",
       "\" style=\"display:inline;vertical-align:middle;\" /></a><br>(see <a class=\"ProveItLink\" href=\"../../../__pv_it/theorems/d664fe98dd639c5fff98a6f4d31684360635b4640/dependencies.ipynb\">dependencies</a>)<br>"
      ],
      "text/plain": [
       "rational_non_neg_within_rational: RationalNonNeg proper_subset Rational"
      ]
     },
     "execution_count": 2,
     "metadata": {},
     "output_type": "execute_result"
    }
   ],
   "source": [
    "%proving rational_non_neg_within_rational"
   ]
  },
  {
   "cell_type": "code",
   "execution_count": null,
   "metadata": {},
   "outputs": [],
   "source": []
  }
 ],
 "metadata": {
  "kernelspec": {
   "display_name": "Python 3",
   "language": "python",
   "name": "python3"
  }
 },
 "nbformat": 4,
 "nbformat_minor": 0
}