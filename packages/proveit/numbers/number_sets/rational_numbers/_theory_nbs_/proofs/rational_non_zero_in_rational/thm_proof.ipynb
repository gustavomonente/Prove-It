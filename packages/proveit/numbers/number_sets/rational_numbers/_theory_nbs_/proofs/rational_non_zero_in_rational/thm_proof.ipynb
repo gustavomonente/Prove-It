{
 "cells": [
  {
   "cell_type": "markdown",
   "metadata": {},
   "source": [
    "Proof of <a class=\"ProveItLink\" href=\"../../../../../../_theory_nbs_/theory.ipynb\">proveit</a>.<a class=\"ProveItLink\" href=\"../../../../../_theory_nbs_/theory.ipynb\">numbers</a>.<a class=\"ProveItLink\" href=\"../../../../_theory_nbs_/theory.ipynb\">number_sets</a>.<a class=\"ProveItLink\" href=\"../../theory.ipynb\">rational_numbers</a>.<a class=\"ProveItLink\" href=\"../../theorems.ipynb#rational_non_zero_in_rational\">rational_non_zero_in_rational</a> theorem\n",
    "========"
   ]
  },
  {
   "cell_type": "code",
   "execution_count": 1,
   "metadata": {},
   "outputs": [],
   "source": [
    "import proveit\n",
    "theory = proveit.Theory() # the theorem's theory"
   ]
  },
  {
   "cell_type": "code",
   "execution_count": 2,
   "metadata": {},
   "outputs": [
    {
     "data": {
      "text/html": [
       "Under these <a href=\"presumptions.txt\">presumptions</a>, we begin our proof of<br><strong id=\"rational_non_zero_in_rational\">rational_non_zero_in_rational:</strong> <a class=\"ProveItLink\" href=\"../../../__pv_it/theorems/c4c76345e3198e810d3d1a10f84a9443786fcbd80/expr.ipynb\"><img src=\"data:image/png;base64,iVBORw0KGgoAAAANSUhEUgAAAFIAAAAXCAMAAACvZ+h2AAAAOVBMVEX///8QEBAoKCgUFBQNDQ2q\n",
       "qqp2dnaYmJiIiIjc3NwiIiLu7u66urpUVFQyMjJERERmZmbMzMwAAACsI8m3AAAAAXRSTlMAQObY\n",
       "ZgAAAUVJREFUOMutlQmShCAMRemZIWENy/0POwG1VcDWLqVKpFCfIfwfhDhstnQKFIinWkzcIfOk\n",
       "f4ioK8g47rJ9BhkKx+YS6ks+QnQ1gynrEirehPlQ2h9fyMgSq1HfU1JkAHm3zqhprVOUL/UtwXpv\n",
       "+EtLPiz7YMN8r7nM7gTYEYKreuEHiXjGE9HvD3eEV3e8IQiFgpZNdn4joJqA2OkSg5laer/UEkjo\n",
       "OD9yk3REWMNSAHEnVwLdBtkSOKI0i8ShgLJQ+cGCRo9MsSc4JeQs5cRDrH89dulA9R0h7Sd4iB/M\n",
       "YkYC6gibsKXoEzUwfmeOlhC2yT0pOoteGw21BE5peEvgzM1mWA86AqxCjWfGg6E3ewLGyU7xQsWh\n",
       "4d4NCJiJ8qWqyHZ2I3/2BBbo1fMgQWgMeUAA0JLinaOrJ2iueBTdjdq9EP4BhDoRMpV4Bf4AAAAA\n",
       "SUVORK5CYII=\n",
       "\" style=\"display:inline;vertical-align:middle;\" /></a><br>(see <a class=\"ProveItLink\" href=\"../../../__pv_it/theorems/7fa7336bce7f896a18e78ccdff02578990a42b7d0/dependencies.ipynb\">dependencies</a>)<br>"
      ],
      "text/plain": [
       "rational_non_zero_in_rational: RationalNonZero proper_subset Rational"
      ]
     },
     "execution_count": 2,
     "metadata": {},
     "output_type": "execute_result"
    }
   ],
   "source": [
    "%proving rational_non_zero_in_rational"
   ]
  },
  {
   "cell_type": "code",
   "execution_count": null,
   "metadata": {},
   "outputs": [],
   "source": []
  }
 ],
 "metadata": {
  "kernelspec": {
   "display_name": "Python 3",
   "language": "python",
   "name": "python3"
  }
 },
 "nbformat": 4,
 "nbformat_minor": 0
}