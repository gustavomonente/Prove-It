{
 "cells": [
  {
   "cell_type": "markdown",
   "metadata": {},
   "source": [
    "Proof of <a class=\"ProveItLink\" href=\"../../../../../../_theory_nbs_/theory.ipynb\">proveit</a>.<a class=\"ProveItLink\" href=\"../../../../../_theory_nbs_/theory.ipynb\">numbers</a>.<a class=\"ProveItLink\" href=\"../../../../_theory_nbs_/theory.ipynb\">number_sets</a>.<a class=\"ProveItLink\" href=\"../../theory.ipynb\">rational_numbers</a>.<a class=\"ProveItLink\" href=\"../../theorems.ipynb#non_zero_rational_is_rational_non_zero\">non_zero_rational_is_rational_non_zero</a> theorem\n",
    "========"
   ]
  },
  {
   "cell_type": "code",
   "execution_count": 1,
   "metadata": {},
   "outputs": [],
   "source": [
    "import proveit\n",
    "theory = proveit.Theory() # the theorem's theory"
   ]
  },
  {
   "cell_type": "code",
   "execution_count": 2,
   "metadata": {},
   "outputs": [
    {
     "data": {
      "text/html": [
       "Under these <a href=\"presumptions.txt\">presumptions</a>, we begin our proof of<br><strong id=\"non_zero_rational_is_rational_non_zero\">non_zero_rational_is_rational_non_zero:</strong> <a class=\"ProveItLink\" href=\"../../../__pv_it/theorems/930b92fb082938936ea2eb2c3c78509c9b70eb530/expr.ipynb\"><img src=\"data:image/png;base64,iVBORw0KGgoAAAANSUhEUgAAAL8AAAAcCAMAAAAHvJ50AAAAOVBMVEX///8oKCgUFBQNDQ0QEBCI\n",
       "iIhmZma6urrMzMxUVFQiIiJERETc3Nzu7u6qqqp2dnaYmJgyMjIAAAArQGDrAAAAAXRSTlMAQObY\n",
       "ZgAAAxpJREFUWMPVVwmS4yAMZHctLnH//7ELmMsHjieTZGqoGieVseym1ZIaQn7R0ukCFiz5lYvy\n",
       "eHERvBE/A4Cz70SrjFqmZ4SYCfg8/O/Rhkk+OqQkLIYQ9vEkeP2daJZVz4NKSXDxYt2H5ftsxgWm\n",
       "9S/+uYg/kSDzo2T66ttt7r37UeEL9HMa0Xox1AsY0vlfMn6gKQvmNel9uCy93yeFkBGm9gIrJo3l\n",
       "M+s/sJWRdMHKD75XPou5X6kst8q4D55IFd77v3/ixbuh/yQBmYF2a35KPg5lXF3I4KqqUZcuo1qz\n",
       "SaKp/Z9iHgg6LSXfS79bZlJH2O3ME1W0BmztmgT7LWCbEiE/M+Tylm8eyrTxq6wDDbU09aHsIte8\n",
       "tBLmiE03mnNwLOdUZK2hut+Jn7EoWMuLLfFNIrTmeHgvA2KKlnn86jZNcpu6XMyMZhpmgKywdPsS\n",
       "fMai+PKDXhIg4ecP41v88aszs5rKVMq1ZrawjaU0/qZA5FFnbuHfWZRxySJamplfan744uvq86rr\n",
       "xxB7oQu94k+DWO5bglE6IQCVHqXBqDv4dxZlw3/Bv2AnbtK1caxfcdnT1jngm7XSFCBumtUK53wF\n",
       "DsSd4y8BE4syghKFsjQ6Xehj4aS+XH1F7J9XpmB9U6rdMqm15PnHlkun13gY7eqAvwbMLMpoYgr+\n",
       "tFn0l67I9vl1ObRZEamhRT6UJkVGUluzbfjtKf4SMLUog38pd3lI9A9PkyfF6ejqH6i7N1MC9Bkf\n",
       "C5bLTCfG6m/6OcdfAqYW5ciVFgBm/KcWyI6j2QXvwyNHQLHJpLw5go2oe9FoUep3bEA4NIAaMLMo\n",
       "w1bZAG7n7HHjH4qGHh8T/V57cbTkmWB5txu5fwKe988aMLUoA1k9g8Lf8atWGU+vzur6wBETYDM3\n",
       "2OiGIC0GMZlfLWBmUYZm0TvNcsurqHgG8PRi2Luz/LiVG1j1X5oYI/P5WwLMQ0yicGJ9kPfPAhdL\n",
       "8rOaOOBQqJxR0/lVAh5LQnvy0uXOGKPBH3alwdLR4+JJgLtxejD0lfCfP289DcOwF+Kn7z3ufmj9\n",
       "B+qcI2kLm3HTAAAAAElFTkSuQmCC\n",
       "\" style=\"display:inline;vertical-align:middle;\" /></a><br>(see <a class=\"ProveItLink\" href=\"../../../__pv_it/theorems/a53dff083b52b98852f6f5628b152ee9f477d13f0/dependencies.ipynb\">dependencies</a>)<br>"
      ],
      "text/plain": [
       "non_zero_rational_is_rational_non_zero: forall_{q in Rational | q != 0} (q in RationalNonZero)"
      ]
     },
     "execution_count": 2,
     "metadata": {},
     "output_type": "execute_result"
    }
   ],
   "source": [
    "%proving non_zero_rational_is_rational_non_zero"
   ]
  },
  {
   "cell_type": "code",
   "execution_count": null,
   "metadata": {},
   "outputs": [],
   "source": []
  }
 ],
 "metadata": {
  "kernelspec": {
   "display_name": "Python 3",
   "language": "python",
   "name": "python3"
  }
 },
 "nbformat": 4,
 "nbformat_minor": 0
}