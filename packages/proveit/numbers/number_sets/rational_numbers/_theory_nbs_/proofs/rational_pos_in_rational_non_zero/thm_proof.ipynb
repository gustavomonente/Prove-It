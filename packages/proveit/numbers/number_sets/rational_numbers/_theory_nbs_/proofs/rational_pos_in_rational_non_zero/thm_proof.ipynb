{
 "cells": [
  {
   "cell_type": "markdown",
   "metadata": {},
   "source": [
    "Proof of <a class=\"ProveItLink\" href=\"../../../../../../_theory_nbs_/theory.ipynb\">proveit</a>.<a class=\"ProveItLink\" href=\"../../../../../_theory_nbs_/theory.ipynb\">numbers</a>.<a class=\"ProveItLink\" href=\"../../../../_theory_nbs_/theory.ipynb\">number_sets</a>.<a class=\"ProveItLink\" href=\"../../theory.ipynb\">rational_numbers</a>.<a class=\"ProveItLink\" href=\"../../theorems.ipynb#rational_pos_in_rational_non_zero\">rational_pos_in_rational_non_zero</a> theorem\n",
    "========"
   ]
  },
  {
   "cell_type": "code",
   "execution_count": 1,
   "metadata": {},
   "outputs": [],
   "source": [
    "import proveit\n",
    "theory = proveit.Theory() # the theorem's theory"
   ]
  },
  {
   "cell_type": "code",
   "execution_count": 2,
   "metadata": {},
   "outputs": [
    {
     "data": {
      "text/html": [
       "Under these <a href=\"presumptions.txt\">presumptions</a>, we begin our proof of<br><strong id=\"rational_pos_in_rational_non_zero\">rational_pos_in_rational_non_zero:</strong> <a class=\"ProveItLink\" href=\"../../../__pv_it/theorems/996a0f8eb47adbaaf46652a1285b163673ce26aa0/expr.ipynb\"><img src=\"data:image/png;base64,iVBORw0KGgoAAAANSUhEUgAAAF4AAAAXCAMAAAC1Wwj4AAAAOVBMVEX///8oKCgUFBQNDQ0QEBCq\n",
       "qqp2dnaYmJiIiIjc3NwiIiLu7u66urpUVFQyMjJERERmZmbMzMwAAACLGs+PAAAAAXRSTlMAQObY\n",
       "ZgAAAVFJREFUSMe1VYmSgyAMpbtyQzj+/2MbDu2KYJVxM1NGbd4jCS+BkOdNp0Uwwch/mA+4cOSm\n",
       "duRi59llxiqDS9QDHzdP7xKnjimFhT5Ob3LFQ5QpBf4gvXXJfvHHkT7loET+I3j8Btbcpj8CRalH\n",
       "iX5J9NpahS8abC6bBbQlLfybAPfA/KnGVWof077OZCmhdwB9J/oGmOL6edW4NuUITmA9c2OH9Nyp\n",
       "YmGrwxEoN0ELX3UPRPr6yZA1y5ZeApPthh2g+whdMObLhqEW2XDCTJ9eyV77tEB6HANGEFrVH/CR\n",
       "d+l9pz86QOhoa+9VH5tgFbkC5LQ7XrYcKTlWeH9iN4G5Dn9OqD/KtJsElnNxm74GnaRmgWjs0x1+\n",
       "5CImgbljfOltPw4B6CSw+EWASM/Hi9EzwDXPk6uriI+5ZihcBBY3Jin4idv3IlDi6AZvJu7WM+Ab\n",
       "sVwSWsQfsuYAAAAASUVORK5CYII=\n",
       "\" style=\"display:inline;vertical-align:middle;\" /></a><br>(see <a class=\"ProveItLink\" href=\"../../../__pv_it/theorems/459f6e42cb54b256032ded814ae9ea98b6bd91ed0/dependencies.ipynb\">dependencies</a>)<br>"
      ],
      "text/plain": [
       "rational_pos_in_rational_non_zero: RationalPos proper_subset RationalNonZero"
      ]
     },
     "execution_count": 2,
     "metadata": {},
     "output_type": "execute_result"
    }
   ],
   "source": [
    "%proving rational_pos_in_rational_non_zero"
   ]
  },
  {
   "cell_type": "code",
   "execution_count": null,
   "metadata": {},
   "outputs": [],
   "source": []
  }
 ],
 "metadata": {
  "kernelspec": {
   "display_name": "Python 3",
   "language": "python",
   "name": "python3"
  }
 },
 "nbformat": 4,
 "nbformat_minor": 0
}