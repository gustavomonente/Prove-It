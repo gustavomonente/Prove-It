{
 "cells": [
  {
   "cell_type": "markdown",
   "metadata": {},
   "source": [
    "Proof of <a class=\"ProveItLink\" href=\"../../../../../../_theory_nbs_/theory.ipynb\">proveit</a>.<a class=\"ProveItLink\" href=\"../../../../../_theory_nbs_/theory.ipynb\">numbers</a>.<a class=\"ProveItLink\" href=\"../../../../_theory_nbs_/theory.ipynb\">number_sets</a>.<a class=\"ProveItLink\" href=\"../../theory.ipynb\">rational_numbers</a>.<a class=\"ProveItLink\" href=\"../../theorems.ipynb#rational_neg_in_rational_non_zero\">rational_neg_in_rational_non_zero</a> theorem\n",
    "========"
   ]
  },
  {
   "cell_type": "code",
   "execution_count": 1,
   "metadata": {},
   "outputs": [],
   "source": [
    "import proveit\n",
    "theory = proveit.Theory() # the theorem's theory"
   ]
  },
  {
   "cell_type": "code",
   "execution_count": 2,
   "metadata": {},
   "outputs": [
    {
     "data": {
      "text/html": [
       "Under these <a href=\"presumptions.txt\">presumptions</a>, we begin our proof of<br><strong id=\"rational_neg_in_rational_non_zero\">rational_neg_in_rational_non_zero:</strong> <a class=\"ProveItLink\" href=\"../../../__pv_it/theorems/7b9a75c5cc4179f6d226970f7dbc1fe74af388dc0/expr.ipynb\"><img src=\"data:image/png;base64,iVBORw0KGgoAAAANSUhEUgAAAF8AAAAXCAMAAABamWPGAAAAOVBMVEX///8QEBAoKCgUFBQNDQ2q\n",
       "qqp2dnaYmJiIiIjc3NwiIiLu7u66urpUVFQyMjJERERmZmbMzMwAAACsI8m3AAAAAXRSTlMAQObY\n",
       "ZgAAAURJREFUSMe1VYuSwyAItNfzrYj+/8ceGpvJGc3DaZipaQ27FliQsQfM5kUJJdgjhpEWSeTc\n",
       "P0GvC6txtCT7AH/IpDblIF78+/SuZD0mnYOQ32T2IdsvfSTx5yiMKi8i0h54d59yj1RLSpb//8r8\n",
       "1ntDPyz4kjkXPnZanAZZtkJ9lvynfHBwRVDkHeFevRukB4D3Dy0gN/pRksGn8O5AsDKYxeKaij1S\n",
       "rwQKq/6Baaxbjg1zokHodq+D3OCVELicGKuKnGRiVGOje33UIvl+IjjFeO2CSF8HgsVOo3SQ0FHY\n",
       "f69Bwxl2BSl76E2UnO2T3JTtLpJKsq3SQD8fVd9HltqEVWWjeWGmkYwqv3YJDn3ULDJ3Di5djgfT\n",
       "DvgssvglgMRPRo2zU8ga6ellFkVo5sNVZHETmgPO3MgXkZomOeDEFXCM/ANegRHQows6BwAAAABJ\n",
       "RU5ErkJggg==\n",
       "\" style=\"display:inline;vertical-align:middle;\" /></a><br>(see <a class=\"ProveItLink\" href=\"../../../__pv_it/theorems/cc406244dc8cbd5de82fae941f4de44dec544b180/dependencies.ipynb\">dependencies</a>)<br>"
      ],
      "text/plain": [
       "rational_neg_in_rational_non_zero: RationalNeg proper_subset RationalNonZero"
      ]
     },
     "execution_count": 2,
     "metadata": {},
     "output_type": "execute_result"
    }
   ],
   "source": [
    "%proving rational_neg_in_rational_non_zero"
   ]
  },
  {
   "cell_type": "code",
   "execution_count": null,
   "metadata": {},
   "outputs": [],
   "source": []
  }
 ],
 "metadata": {
  "kernelspec": {
   "display_name": "Python 3",
   "language": "python",
   "name": "python3"
  }
 },
 "nbformat": 4,
 "nbformat_minor": 0
}