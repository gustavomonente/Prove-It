{
 "cells": [
  {
   "cell_type": "markdown",
   "metadata": {},
   "source": [
    "Proof of <a class=\"ProveItLink\" href=\"../../../../../../_theory_nbs_/theory.ipynb\">proveit</a>.<a class=\"ProveItLink\" href=\"../../../../../_theory_nbs_/theory.ipynb\">numbers</a>.<a class=\"ProveItLink\" href=\"../../../../_theory_nbs_/theory.ipynb\">number_sets</a>.<a class=\"ProveItLink\" href=\"../../theory.ipynb\">rational_numbers</a>.<a class=\"ProveItLink\" href=\"../../theorems.ipynb#ratio_of_pos_int_is_rational_pos\">ratio_of_pos_int_is_rational_pos</a> theorem\n",
    "========"
   ]
  },
  {
   "cell_type": "code",
   "execution_count": 1,
   "metadata": {},
   "outputs": [],
   "source": [
    "import proveit\n",
    "theory = proveit.Theory() # the theorem's theory"
   ]
  },
  {
   "cell_type": "code",
   "execution_count": 2,
   "metadata": {},
   "outputs": [
    {
     "data": {
      "text/html": [
       "Under these <a href=\"presumptions.txt\">presumptions</a>, we begin our proof of<br><strong id=\"ratio_of_pos_int_is_rational_pos\">ratio_of_pos_int_is_rational_pos:</strong> <a class=\"ProveItLink\" href=\"../../../__pv_it/theorems/3b7844e7ac60c67e895b466a6e9e485d8de144a30/expr.ipynb\"><img src=\"data:image/png;base64,iVBORw0KGgoAAAANSUhEUgAAAKoAAAAmBAMAAACmKh0SAAAAMFBMVEX///8QEBCIiIhmZma6urrM\n",
       "zMxUVFQiIiJERETc3Nzu7u6qqqp2dnaYmJgyMjIAAAAcRTyBAAAAAXRSTlMAQObYZgAAA11JREFU\n",
       "SMeVl01oE0EUx99uukn2I0kRVFSUgLWnKqEVLNqWSFFBiUQPFhFpKbZU0NJLFUUkKGhaUSKCLXjo\n",
       "lh6UHpqgIIhCA16keoiKUAQ1WvVQMZRawTYWfbO7yX60u5sZ2Jnd8Pa3M2/+770JQOUtkKvASOgA\n",
       "urYDL76pfqOz1WE6aBXB7U0F55zNWLrJjsZxfZvBk3Cx+0lF7cbLswS+sIvdbZkCyi1ixyQgHXcx\n",
       "9NK4IEiM01mYdOCpn1+ioI6kCDUDvWLKzsSvDl8oqC3Ke+HAOQlcqK8pqGsUjXduu1vjRh2JQp6M\n",
       "H9yh/G/7fWxMfo8aqEwWXpJxtoJwtRW/0H0BJnpk6C18LhRIUHvzMEzmkXCnevps190aB6FrVp8r\n",
       "OwdB1KyUcaf6Vnw5cP38ZTJuD2I3uF+niosQmBofH6pgs0IRqzevaDGUv4NdjV8uU7kiwJ9k8pId\n",
       "yiCikDVQJzQo33ES+5gULVOFZYAugAFbZ+q3aWtyPV1KZeGn2B8Vc2UqzAO0gpAvJ7uCLXXESi35\n",
       "mdOouDe89tNf3AZg9Reea2NbU5RdZ6K2Kzv6jzRFY9yWAjZyp3jgkGSI41/ou5xPf/5B3PKsIScm\n",
       "pmC31LCrYY+ZaoiKsiYSym55wUTl88f0Z5Ltpp+Mg/jGA1lnD1SXbmLEnYMxQ1igB2DgFHZjtd/I\n",
       "suZr5SoiIfHE8bCZmrZqoL4sFCUKDMLjUQPwCKNG6FeyInuRjQQVIcen3pmpoaw1LMoueYsR22xU\n",
       "clFToifC9amJLj+mUiUpYqIy1gwv9Bws3X4qFE1lc4FEHsqZySilkYl6OtqSyWRYjPM5/AxniHZV\n",
       "fg/W6y+/UCMWfRB9bArlUjFIp/zvER6SmYxXnSvsMztS0nZnZrVoeXVvpm6lKTCp9hgMyz55GiRS\n",
       "7QJRCJgdKWoTKK6afBtv7bRUOGU1nQ+b4UiGO4OoG/h84Cuq2+zGZdWwglJnCW51V1n06yq219TV\n",
       "9blTJ03l0r546jUu2LnVNRm3mNOw87oUWnpWWHSjbqKosawirUmZ5Dlnw2qac9ZadXVKlDs1JkdD\n",
       "/ajKtapYwTG38uYnylgmx0Lng8MGKqrQj90CjLos8H6GigpDqLyzcNXF6ibl/wIeY3mszmWqAjkb\n",
       "/Qdr39NeRLzBhQAAAABJRU5ErkJggg==\n",
       "\" style=\"display:inline;vertical-align:middle;\" /></a><br>(see <a class=\"ProveItLink\" href=\"../../../__pv_it/theorems/326094d90c0cb6eb88798241d6585807cd8049260/dependencies.ipynb\">dependencies</a>)<br>"
      ],
      "text/plain": [
       "ratio_of_pos_int_is_rational_pos: forall_{a, b in NaturalPos} ((a / b) in RationalPos)"
      ]
     },
     "execution_count": 2,
     "metadata": {},
     "output_type": "execute_result"
    }
   ],
   "source": [
    "%proving ratio_of_pos_int_is_rational_pos"
   ]
  },
  {
   "cell_type": "code",
   "execution_count": null,
   "metadata": {},
   "outputs": [],
   "source": []
  }
 ],
 "metadata": {
  "kernelspec": {
   "display_name": "Python 3",
   "language": "python",
   "name": "python3"
  }
 },
 "nbformat": 4,
 "nbformat_minor": 0
}