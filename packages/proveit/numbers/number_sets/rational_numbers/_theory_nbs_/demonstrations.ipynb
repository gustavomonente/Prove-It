{
 "cells": [
  {
   "cell_type": "markdown",
   "metadata": {},
   "source": [
    "Demonstrations for the theory of <a class=\"ProveItLink\" href=\"theory.ipynb\">proveit.numbers.number_sets.rational_numbers</a>\n",
    "========"
   ]
  },
  {
   "cell_type": "code",
   "execution_count": 1,
   "metadata": {},
   "outputs": [],
   "source": [
    "import proveit\n",
    "from proveit import q, p, r, s, x\n",
    "from proveit.logic import InSet, ProperSubset\n",
    "from proveit.numbers import Natural, Rational, RationalNeg, RationalNonNeg, RationalPos\n",
    "from proveit.numbers.number_sets.rational_numbers  import rationals_def\n",
    "%begin demonstrations"
   ]
  },
  {
   "cell_type": "markdown",
   "metadata": {},
   "source": [
    "# The Rational Numbers, $\\mathbb{Q}$ and Various Subsets $\\mathbb{Q}^{+}$, $\\mathbb{Q}^{-}$, $\\mathbb{Q}^{\\ge 0}$ [Under Construction]"
   ]
  },
  {
   "cell_type": "markdown",
   "metadata": {},
   "source": [
    "<div style=\"line-height:1.4; font-size:14pt\">\n",
    "\n",
    "<a href='#introduction'>Introduction</a><br>\n",
    "<a href='#simple_expressions'>Simple Expressions involving the Rational Numbers $\\mathbb{Q}$</a><br>\n",
    "<a href='#common_attributes'>Common Attributes of the Rational Numbers NumberSet $\\mathbb{Q}$</a><br>\n",
    "<a href='#axioms'>Axioms</a><br>\n",
    "<a href='#theorems_and_conjectures'>Theorems & Conjectures</a><br>\n",
    "<a href='#further_demonstrations'>Further Demonstrations</a><br>\n",
    "    <ol>\n",
    "        <li><a href='#demo01'>TBA</a></li>\n",
    "        <li><a href='#demo02'>TBA</a></li>\n",
    "        <li><a href='#demo03'>TBA</a></li>\n",
    "    </ol>\n",
    "<a href='#miscellaneous_testing'>Miscellaneous Testing</a><br>\n",
    "</div>\n"
   ]
  },
  {
   "cell_type": "markdown",
   "metadata": {},
   "source": [
    "## Introduction <a id='introduction'></a>"
   ]
  },
  {
   "cell_type": "markdown",
   "metadata": {},
   "source": [
    "<font size=3>TBA</font>"
   ]
  },
  {
   "cell_type": "markdown",
   "metadata": {},
   "source": [
    "## Simple Expressions involving the Rational Numbers $\\mathbb{Q}$<a id='simple_expressions'></a>"
   ]
  },
  {
   "cell_type": "markdown",
   "metadata": {},
   "source": [
    "<font size=3>It is straightforward to construct expressions involving the Rational Numbers NumberSet $\\mathbb{Q}$:</font>"
   ]
  },
  {
   "cell_type": "code",
   "execution_count": 2,
   "metadata": {},
   "outputs": [
    {
     "data": {
      "text/html": [
       "<a class=\"ProveItLink\" href=\"../__pv_it/demonstrations/e4336a450cd83705647b2856ddb398ee80f587130/expr.ipynb\"><img src=\"data:image/png;base64,iVBORw0KGgoAAAANSUhEUgAAADUAAAARBAMAAACP9fljAAAAMFBMVEX///8QEBBmZmaqqqrMzMxE\n",
       "REQyMjIiIiKYmJh2dna6urrc3NxUVFSIiIju7u4AAAA6P00QAAAAAXRSTlMAQObYZgAAAOxJREFU\n",
       "GNNjYMACWFRDcxYwYAV8Z6oZnh19gFWOdZEDA9+RPBQxjvDyMhB9gw1IxK1BsSUWakzCJiBxixXI\n",
       "e3tn180LIKFnUCnuAx5AcgXnAga+CRy17AkgsdNQ/VwXjIGkL3MDA+cDzn9cG0BiATCzoXIGDHwM\n",
       "rBBBFrE0IACxwGYu5gRp4L8AsQamjyEA7BYeENPfASIkAJNbwQrywwoGBuYH9xl4wS7Uhclxgv2u\n",
       "wMCw3iCeYQdYiN0AJtkEDDMNIP3m7luNBkgwHl0Hk+xP+4wWjlxTIWEGNHWBDQNOMHNz0k1cctyq\n",
       "YVoMAJ9oPy48u8U+AAAAAElFTkSuQmCC\n",
       "\" style=\"display:inline;vertical-align:middle;\" /></a>"
      ],
      "text/plain": [
       "x in Rational"
      ]
     },
     "execution_count": 2,
     "metadata": {},
     "output_type": "execute_result"
    }
   ],
   "source": [
    "# a simple set membership claim\n",
    "InSet(x, Rational)"
   ]
  },
  {
   "cell_type": "code",
   "execution_count": 3,
   "metadata": {},
   "outputs": [
    {
     "data": {
      "text/html": [
       "<a class=\"ProveItLink\" href=\"../__pv_it/theorems/ebb4407f7d3efdd980be81142788d25bedb5368f0/expr.ipynb\"><img src=\"data:image/png;base64,iVBORw0KGgoAAAANSUhEUgAAAFAAAAAXBAMAAABuYtVKAAAAMFBMVEX///9mZmaqqqrc3NyIiIgi\n",
       "IiJUVFTMzMyYmJi6uroQEBB2dnZEREQyMjLu7u4AAAA1o4RqAAAAAXRSTlMAQObYZgAAAW1JREFU\n",
       "KM9jYCAGeHsTUjHNAERybGBKIKCQWawASLJOYPhHyEhmGaDK9wUMiwg6j2/PBIZ6A4YIwh7h2/ug\n",
       "/gFDCMPbP2cfMOz6NQFNml3mzDWIGMsNkIlLGBhOsCcw8H1ANyYtmOFtzgMg68khsBt/MjCkFrgw\n",
       "MCxAU8gzsYCBL/0eA8Prk3BfZ55jK2AIgMj3hIaGhoMYHrxA4tw0hocnwbYLgMIxuYzvHlSh7WaY\n",
       "iRcMgYQnz4NyaMxsBBLJTA5lUIXB8NBLqACSM7hRvJjMsJPDAayQUQEmxumgBCRLmBpQFbI9SAcr\n",
       "ZEUEDlShgs4ZIHgAU8iXwAv2tRlCN9jqSdwGqCYyVLODFb5BCB4Ae4aNAU0hh8IBVKsZZvCAgmcG\n",
       "isJ0IN4MVsjtABfkBge4AIrCSyD/XoAzoaARGIUSKOpKfwFN44MofJb5AC7ef/cTniRVfRQahUDL\n",
       "J6gxEAd2G130Jkohs8xZSSQuAEEPZIXQ+pNQAAAAAElFTkSuQmCC\n",
       "\" style=\"display:inline;vertical-align:middle;\" /></a>"
      ],
      "text/plain": [
       "Natural proper_subset RationalNonNeg"
      ]
     },
     "execution_count": 3,
     "metadata": {},
     "output_type": "execute_result"
    }
   ],
   "source": [
    "ProperSubset(Natural, RationalNonNeg)"
   ]
  },
  {
   "cell_type": "markdown",
   "metadata": {},
   "source": [
    "## Common Attributes of the Rational Numbers NumberSet $\\mathbb{Q}$<a id='common_attributes'></a>"
   ]
  },
  {
   "cell_type": "markdown",
   "metadata": {},
   "source": [
    "<font size=3>TBA Placeholder &mdash; attributes not particularly relevant for NumberSet …</font>"
   ]
  },
  {
   "cell_type": "code",
   "execution_count": 4,
   "metadata": {},
   "outputs": [
    {
     "data": {
      "text/html": [
       "<a class=\"ProveItLink\" href=\"../__pv_it/common/3de3e316334b6ece430a3f1aee01ae68b192ecb30/expr.ipynb\"><img src=\"data:image/png;base64,iVBORw0KGgoAAAANSUhEUgAAABAAAAARBAMAAAAmgTH3AAAALVBMVEX///+qqqp2dnaYmJiIiIjc\n",
       "3NwiIiLu7u66urpUVFQyMjJERERmZmbMzMwAAAAPPdWlAAAAAXRSTlMAQObYZgAAAIFJREFUCNdj\n",
       "YGC4s3vXDAYgqJwWwL5yO5Cx4yyQc6uAgcVgAQMDd8UEBi7WAwwMLA3bGSJ5DRgYOAw0GFoYBRgY\n",
       "eB2EGa5AGIIMnGApAVUGbojiCUB1G0DagcIaIAPvAE1mPhbAvsYAZBnzq3UCDGCgwTgBwmBSlTqi\n",
       "AGbF7F7TAADtgR4r3cUBHgAAAABJRU5ErkJggg==\n",
       "\" style=\"display:inline;vertical-align:middle;\" /></a>"
      ],
      "text/plain": [
       "Rational"
      ]
     },
     "execution_count": 4,
     "metadata": {},
     "output_type": "execute_result"
    }
   ],
   "source": [
    "# the Rational number set\n",
    "Rational"
   ]
  },
  {
   "cell_type": "markdown",
   "metadata": {},
   "source": [
    "## Axioms <a id='axioms'></a>"
   ]
  },
  {
   "cell_type": "markdown",
   "metadata": {},
   "source": [
    "<font size=3>The ``axioms`` for the Rational Numbers $\\mathbb{Q}$ … can be accessed on the [rational axioms](./_axioms_.ipynb) page, and establish the definitions of the Rational numbers and various subsets of the Rational numbers.</font>"
   ]
  },
  {
   "cell_type": "code",
   "execution_count": 5,
   "metadata": {},
   "outputs": [
    {
     "data": {
      "text/html": [
       "<span style=\"font-size:20px;\"> <a class=\"ProveItLink\" href=\"axioms.ipynb#rationals_def\" style=\"text-decoration: none\">&nbsp;&#x22A2;&nbsp;&nbsp;</a><a class=\"ProveItLink\" href=\"../__pv_it/axioms/2d82117d0b9f885cd1b3a35c28f02cafe7ca00820/expr.ipynb\"><img src=\"data:image/png;base64,iVBORw0KGgoAAAANSUhEUgAAANkAAAAqCAMAAAAJZg7zAAAAOVBMVEX///8kJCQNDQ0oKCgQEBCq\n",
       "qqp2dnaYmJiIiIjc3NwiIiLu7u66urpUVFQyMjJERERmZmbMzMwAAABdFfPVAAAAAXRSTlMAQObY\n",
       "ZgAAA4BJREFUaN7dmdli4yAMRZkZdrH//8cO4A0c29gJbtLwlLZE9pEQulIRemYx69Edi2mF3rmE\n",
       "kfMLCEcdx9DLNA/6jWCA7fxZYYGQCR29hs37yFyABZKlX9iO1kkgbyMrQjZASt7TfHDvI9M1JAR/\n",
       "k/n3kUGg+fygLyRLOaENIuLLyJCNGcakRrT8u4cvIAPNuReaV/WVnqq2FH6CzDtrrTlb/1uPLsnA\n",
       "YrlT7ctvcEb9DWSgtYx5AkZb6E0Wy/j2JV660cRsBSn6k1nl/EDoDXQn2y68oijuDOdvme5knKHR\n",
       "qAV1xmq4QqbCprN0UQKtHrQH9CYzUdWOjAqdOY8tkVCRUdkK2egpNQXX9NJqQiPPRv+yM/daU9hV\n",
       "Nky8Pd3DF8omCAZPqTBqNBo6dQ6KIzI+2cePbHo9U6wqSLLl0+puDDF1IYja6r+/hVWRhQzyExng\n",
       "TsLR12QtoS3ah6UkG7In8P2QRTI3kE3lXshOaMVpJIg2ZBLBJXpY1g6ZM7O8LJxZ3RHr05gSHndR\n",
       "a7a8QVr3EmgrrsQsHzm1ysyViaBX6Us6BS3eG3a+9RnayrOSlwV1gSywqlXNVv/g2qq1g12YI9ar\n",
       "K6JLpT7jK9e6uyoyNTXeRRxXUV9VahVYv4mRG9SVO2USAj9PpqNJW/tLPbhPJnU1B8rKrtOwYMzp\n",
       "+QOmF259x+nKX48KDijniyjBPacq+W3IWVVTyp8tLX9c7Ym7YL4LGhXERAdfVsSPWv6YrCm6u3ee\n",
       "IvZoxqnLZI+H+JCMUPTTZE+28xta/pCs3Sd9CtmGludH5UihrmTKmLvItrX8fRMejS111s3JTV1j\n",
       "w7OPXmn5+8iAUJfqbaq8FDiUk4bDDc8+elvL9ydjlghIj4ognomlRE5O3d3w7KM3tXy/oZ/j2vi1\n",
       "bnHFeDN2dVzDwYZr4wXZ0PKvTdIWN4H08dUhTzSK8AmyXFFcAuLuYMNFKab2tHwPybAkbboGvMyx\n",
       "K8h5GZE8pDYHGy72qkuMtrT8i2BL/FOXy9PZ9NLmldKZ5umymAZd8flOH2y4GjU8FdwNLf/S6EJK\n",
       "X5zLGD3L0r2wpJ4ieQIw9f7ptCQH7G643q7CrpZ/iaxKECximuVmeJmNO5QzW6bJXnyHmGbM7mz4\n",
       "4KU0J3xoGu14RpnWmlIjY4x8ipWPP6GdDb9k8SmNSnXd2vBbV89/R37WauT3fyIlKrSih1qgAAAA\n",
       "AElFTkSuQmCC\n",
       "\" style=\"display:inline;vertical-align:middle;\" /></a></span>"
      ],
      "text/plain": [
       "|- Rational = {(a / b) s.t. b != 0}_{a in Integer, b in Integer}"
      ]
     },
     "execution_count": 5,
     "metadata": {},
     "output_type": "execute_result"
    }
   ],
   "source": [
    "# def of the Rational number set\n",
    "rationals_def"
   ]
  },
  {
   "cell_type": "markdown",
   "metadata": {},
   "source": [
    "## Theorems & Conjectures<a id='theorems_and_conjectures'></a>"
   ]
  },
  {
   "cell_type": "markdown",
   "metadata": {},
   "source": [
    "<font size=3>The `number/sets/rational` theory already has a substantial number of related theorems and conjectures established, covering a wide range of … The remainder can be found in the [containment theorems notebook](./\\_theorems\\_.ipynb).</font>"
   ]
  },
  {
   "cell_type": "code",
   "execution_count": 6,
   "metadata": {},
   "outputs": [],
   "source": [
    "from proveit.numbers.number_sets.rational_numbers import (zero_is_rational)"
   ]
  },
  {
   "cell_type": "code",
   "execution_count": 7,
   "metadata": {},
   "outputs": [
    {
     "data": {
      "text/html": [
       "<span style=\"font-size:20px;\"> <a class=\"ProveItLink\" href=\"proofs/zero_is_rational/thm_proof.ipynb\" style=\"text-decoration: none\">&nbsp;&#x22A2;&nbsp;&nbsp;</a><a class=\"ProveItLink\" href=\"../__pv_it/theorems/d21e4d15b3d19f72f8d44e5e6aa6d5850c46480f0/expr.ipynb\"><img src=\"data:image/png;base64,iVBORw0KGgoAAAANSUhEUgAAADQAAAARBAMAAABgN5JdAAAAMFBMVEX///9mZma6urpUVFREREQQ\n",
       "EBDc3NwiIiLu7u6qqqoyMjLMzMyYmJiIiIh2dnYAAADXmt2vAAAAAXRSTlMAQObYZgAAAP5JREFU\n",
       "GNNjYOC785oBDWx08TIC0SsZ2hNQZZrNEzgWezAw8AQw8C1AlXKSBkrvamBgMWDg/AEW4XEvrwLR\n",
       "vAeASlmaDBj4DRiYfoJEuH0bIJq42ASA8goeDP0CDEx/QSJdUBmGZO4DDAxMBx4x5D9g4AZLmcGs\n",
       "0uWcADTjwhyGfAEG7n8gEQeY1F6I1Ey4gdxRq4AAJMUMNnDCM5AzOEHOYIPrYoE4w4CBxYGBB+z4\n",
       "AJgU0wEHkOMPILwsC/fyI5CXNwIZlQytG0AC7BNgUjziCRwLgfYx9N21BgtwmGjA5X6tn4ASdExP\n",
       "IAEFMpLTgAEH4Hs2S/YBDrlEl4UKAN1tP6uqSdoaAAAAAElFTkSuQmCC\n",
       "\" style=\"display:inline;vertical-align:middle;\" /></a></span>"
      ],
      "text/plain": [
       "|- 0 in Rational"
      ]
     },
     "execution_count": 7,
     "metadata": {},
     "output_type": "execute_result"
    }
   ],
   "source": [
    "zero_is_rational"
   ]
  },
  {
   "cell_type": "markdown",
   "metadata": {},
   "source": [
    "## Demonstrations <a id='further_demonstrations'></a>"
   ]
  },
  {
   "cell_type": "markdown",
   "metadata": {},
   "source": [
    "<div style=\"width: 90%; border: 5px solid green; padding: 10px; margin: 0px;\"><a id='demo01'></a><font size=4><font size=4><b>1.</b> TBA</font></div><br>\n",
    "<font size=3>We begin with …</font>"
   ]
  },
  {
   "cell_type": "markdown",
   "metadata": {},
   "source": [
    "<div style=\"width: 90%; border: 5px solid green; padding: 10px; margin: 0px;\"><a id='demo02'></a><font size=4><font size=4><b>2.</b> TBA.</font></div><br>\n",
    "<font size=\"3\">TBA</font>"
   ]
  },
  {
   "cell_type": "markdown",
   "metadata": {},
   "source": [
    "<div style=\"width: 90%; border: 5px solid green; padding: 10px; margin: 0px;\"><a id='demo03'></a><font size=4><b>3.</b> TBA</font></div><br>\n",
    "<font size=3>TBA</font>"
   ]
  },
  {
   "cell_type": "markdown",
   "metadata": {},
   "source": [
    "## Miscellaneous Testing\n",
    "<font size=3>The material below was developed to test various Rational NumberSet-related methods. Some of this material could be integrated into the `_demonstrations_` page eventually and/or deleted as development continues.</font>"
   ]
  },
  {
   "cell_type": "markdown",
   "metadata": {},
   "source": [
    "### Testing the `InSet` class methods related to the Rational Numbers and its subsets\n",
    "<br/>\n",
    "<font size =3>The <span style=\"font-family=courier\">InSet</span> class has a <span style=\"font-family=courier\">deduce_in_bool()</span> method that eventually depends on the deduce_membership_in_bool() method of the underlying NumberSet class.<br/>\n",
    "</font>"
   ]
  },
  {
   "cell_type": "code",
   "execution_count": 8,
   "metadata": {},
   "outputs": [
    {
     "data": {
      "text/html": [
       "<strong id=\"q_in_Q\">q_in_Q:</strong> <a class=\"ProveItLink\" href=\"../__pv_it/demonstrations/8f1fa018fb65f3639a7ffd578fd62009aad96a840/expr.ipynb\"><img src=\"data:image/png;base64,iVBORw0KGgoAAAANSUhEUgAAADMAAAASBAMAAAAEf/uKAAAAMFBMVEX////MzMwiIiKqqqpERERm\n",
       "ZmYyMjJUVFQQEBC6urru7u6IiIiYmJh2dnbc3NwAAADJXKoXAAAAAXRSTlMAQObYZgAAAPlJREFU\n",
       "GNNjYMAEjCEu6RMYsAGucj2GZSULsEmxTBVg4CrMQhbicVJSA9F72ICE13RkG7yhZiQ8BRI7WYA8\n",
       "vju7doJElkFl+ApkgOQcXqBDZjxg/wASqoPq5txgDCSlmQ8wcPUwsCeAhBxgBkOlDBhYPzBwXACJ\n",
       "tKUBAUgObOBk3gcMHA4M70H+44PpYnAAO4OdgWH9BobzYJEGmNQcFpDj5wClDBjcwCLRMClesJcD\n",
       "GBjYNvD8BYswGcDkjgIDKgYUYtWbf0KCrmQWTO582mdoAH2AeugKJKCARk4whzAg3kIBdx+n7gXR\n",
       "YG+hAr4Qt0iQ7nxVrNHGAACK2zsdBlTKXQAAAABJRU5ErkJggg==\n",
       "\" style=\"display:inline;vertical-align:middle;\" /></a><br>"
      ],
      "text/plain": [
       "q_in_Q: q in Rational"
      ]
     },
     "execution_count": 8,
     "metadata": {},
     "output_type": "execute_result"
    }
   ],
   "source": [
    "q_in_Q = InSet(q, Rational)"
   ]
  },
  {
   "cell_type": "code",
   "execution_count": 9,
   "metadata": {},
   "outputs": [
    {
     "data": {
      "text/html": [
       "<span style=\"font-size:20px;\"> <a class=\"ProveItLink\" href=\"../__pv_it/demonstrations/4248cef86752ea3d86f87049888f4eb9cc1d0a4e0/proof.ipynb\" style=\"text-decoration: none\">&nbsp;&#x22A2;&nbsp;&nbsp;</a><a class=\"ProveItLink\" href=\"../__pv_it/demonstrations/2f5341591f995ad93ee02a31d180769a3e3e7d680/expr.ipynb\"><img src=\"data:image/png;base64,iVBORw0KGgoAAAANSUhEUgAAAGgAAAAUBAMAAACT0mUoAAAAMFBMVEX////MzMxUVFR2dna6uroQ\n",
       "EBCqqqqIiIgiIiJmZmYyMjJERETu7u6YmJjc3NwAAACgK8IjAAAAAXRSTlMAQObYZgAAAcBJREFU\n",
       "OMt9UztIA0EQfcnlo/EuiI3ExisEBUFSpAliSCNaKFhYiCBcJSIIV4ggWNgoaqVYxDKKjRZ6haAk\n",
       "KiI2miIHdoIYrLQyoJWNzmxy8Ta5OHDc8t6+nbezM0DURtMIlZoQBU80ls/10G9ARsNr+e8pxk+8\n",
       "NLd9JfXgEniowyM+s3BvQ9v2Ep3tkLDrBoop420BO9xuocVtW7vY2BI27CxtuNOhTsgEiUKGhTeX\n",
       "xnd+U3URpfzhNPk7lAkSKWMWlmkZHVpZZOihSuHVRyUN2AkgCYkg0WhHO65oOVzyl+Gu1UjIoOPN\n",
       "BeAJEtEWmPqZBNYBdQb+LEOWw3VWRLPAHCSC7T3HQbrWMoJxdj59TMGcX9gzUkA3JIJEsMZZFLTw\n",
       "kear/R1YKYReFUXdmWD52V7RxIuAJhwuYFtccko3KhMs0iNciKKBnIAyteIn+HFjcAqRkTI9ck0j\n",
       "pvYpoBaj9sp7JfWIO3lXJiK+uJLUOb/au/QlILV/rKb6PhUb9yXCaVjRRlq5epfBSrewwZDOu1cb\n",
       "CHEkN2zlmaRQUvOZeEPDOnFNn3imunjPH6UbRsM1hMrpJpqf6BX/jbvmPe6/7w9+5YT1g3cAAAAA\n",
       "SUVORK5CYII=\n",
       "\" style=\"display:inline;vertical-align:middle;\" /></a></span>"
      ],
      "text/plain": [
       "|- (q in Rational) in BOOLEAN"
      ]
     },
     "execution_count": 9,
     "metadata": {},
     "output_type": "execute_result"
    }
   ],
   "source": [
    "q_in_Q.deduce_in_bool()"
   ]
  },
  {
   "cell_type": "code",
   "execution_count": 10,
   "metadata": {},
   "outputs": [
    {
     "data": {
      "text/html": [
       "<strong id=\"p_in_QPos\">p_in_QPos:</strong> <a class=\"ProveItLink\" href=\"../__pv_it/demonstrations/e00b7c60ab0f03df6e8fac31868a9597bfcbe4990/expr.ipynb\"><img src=\"data:image/png;base64,iVBORw0KGgoAAAANSUhEUgAAAEEAAAAXBAMAAACmDj+cAAAAMFBMVEX///9mZmYQEBCYmJgyMjKq\n",
       "qqoiIiLu7u5UVFSIiIjMzMzc3NxERER2dna6uroAAABJ6CsEAAAAAXRSTlMAQObYZgAAARNJREFU\n",
       "KM9jYKAMcBBUwUNLFVwyZzwe4FPB3pHNUNJTwNDi4uTiYoDV7IcLGNi73LGYYZOW5gCiJ7MAieMv\n",
       "MFWsmQ5lOGwEEvN4CmAq3p5eOaMAZLs7VAF3w2Ig+Zj3AUzFhbYA3gOg8NsAVcE3IRRIrmQ1gKrg\n",
       "DvBgYP6AbCcXVEUAUBLsNYavDLzfgYxFLkAAdinYlqe8MDMZ+L4z8CgA6T1wJx8AuxQRa7wJDPUC\n",
       "QJoJLvIYZOHxx3A+iwCDEcgvjBPgesAhJgBXwX+ASwvMSIULGQJDXRgRUO9fToS4qeJcAUzM3uUr\n",
       "UlBeg7PeHoOEOtCeBxFIKhyxRd7drY5z4VH9FZsKbpkjcjB22JcJ+NMZAHwoROWZ/pWJAAAAAElF\n",
       "TkSuQmCC\n",
       "\" style=\"display:inline;vertical-align:middle;\" /></a><br>"
      ],
      "text/plain": [
       "p_in_QPos: p in RationalPos"
      ]
     },
     "execution_count": 10,
     "metadata": {},
     "output_type": "execute_result"
    }
   ],
   "source": [
    "p_in_QPos = InSet(p, RationalPos)"
   ]
  },
  {
   "cell_type": "code",
   "execution_count": 11,
   "metadata": {},
   "outputs": [
    {
     "data": {
      "text/html": [
       "<span style=\"font-size:20px;\"> <a class=\"ProveItLink\" href=\"../__pv_it/demonstrations/1de200a9259fb1d874d15b205bbfdd6bfa95004a0/proof.ipynb\" style=\"text-decoration: none\">&nbsp;&#x22A2;&nbsp;&nbsp;</a><a class=\"ProveItLink\" href=\"../__pv_it/demonstrations/cee5a2d4a76b53142004c5d3dbeb8e5100ef5ba50/expr.ipynb\"><img src=\"data:image/png;base64,iVBORw0KGgoAAAANSUhEUgAAAHgAAAAbBAMAAABFKlYVAAAAMFBMVEX///8iIiJERESYmJiqqqoQ\n",
       "EBB2dnbc3NyIiIhmZmbu7u4yMjJUVFS6urrMzMwAAADZVrDbAAAAAXRSTlMAQObYZgAAAiFJREFU\n",
       "OMtjYKAMvMUrewCIOXDK8h3Aq1kBiHlxKuFeQFAzQzIu2RkMhDUz4rCA/RdW4ZdK2mcRmjkmoMpy\n",
       "iCr9DgTKs03ApnfNwQKuPVoMPLt3R+/eDLThA7pf+RoWrTRgYHXApll3HtCA1wtgNjOIoMkz8Rpw\n",
       "PFBgqEf2DrOioDTYWQYbgArWHoBrngRVYCQouAGqmcVBgcEUOdY0oCZxswM9w3FBC665FSL+qAth\n",
       "M9stBYbZwGhMqus4BRJaDXNFDZ8BUNggF675PliGaxeSsy++ecCgBAwzHhGGJJDQcZjcDRZgSPA1\n",
       "OMM1v38AInkKEJoD/8cyMOxhYCjhPsBgD48WEHgB0ewCZELU118Aa0EOMDbjBAZJBoYF/A4M+UB3\n",
       "8UXvBgKwFWBnO6TDFa8Ha34KkocFGIPCZYadEB+pgtIL3GYmSIAhkjTE5iJkmxkUeBh0gMxEBq6f\n",
       "IKEAmByvgQIoqgzgit+DXc+KovkAN8MhIHMnA3MUajLPBSWSl4hIhIQ2ZwOKzWbgGPzE8BQcmozw\n",
       "1MY8sYBrJ8JiWGoQQSTPBLbMAyAzef92TAcLcR26Bdf9ez9yuoWmsDW6C1AyBusFBjYBuF+TIMkT\n",
       "5HAW5BJgB5S+pghJnlDAmcDAjS1jsaV7z0iAcbh+4SiFAhjWY81YlUo7L8A9gascOsIiv4NQGcn4\n",
       "AIfEaiIKWDNcEiwTCOpFJD0M4EtQM+cCBuoDAODwhs85AmYDAAAAAElFTkSuQmCC\n",
       "\" style=\"display:inline;vertical-align:middle;\" /></a></span>"
      ],
      "text/plain": [
       "|- (p in RationalPos) in BOOLEAN"
      ]
     },
     "execution_count": 11,
     "metadata": {},
     "output_type": "execute_result"
    }
   ],
   "source": [
    "p_in_QPos.deduce_in_bool()"
   ]
  },
  {
   "cell_type": "code",
   "execution_count": 12,
   "metadata": {},
   "outputs": [
    {
     "data": {
      "text/html": [
       "<strong id=\"r_in_QNeg\">r_in_QNeg:</strong> <a class=\"ProveItLink\" href=\"../__pv_it/demonstrations/e9379365f576c4043b98b8a6712a41dad4bab94e0/expr.ipynb\"><img src=\"data:image/png;base64,iVBORw0KGgoAAAANSUhEUgAAAEEAAAASBAMAAAD2w64vAAAAMFBMVEX///9mZmYQEBCYmJgyMjKq\n",
       "qqoiIiLu7u5UVFSIiIjMzMzc3NxERER2dna6uroAAABJ6CsEAAAAAXRSTlMAQObYZgAAAQdJREFU\n",
       "KM9jYMACuGTOeDxgwAPYO7IZSnoKGN6cAYICbCp4Hi5gYO9yxyJjk5bmAKInswCJ4y8wFayZDmU4\n",
       "bAQS83jg5r89vXIGiMMOM5a7YTGQfMwLd+uFtgDeA0CaYwNUgG9CKJBcyWoA0xHgwcD8AeQ+uF+h\n",
       "KgJgXmP4ysD7HchY5AIEYJeCbXnKCzOTge87A48CkN4Dd/IBsEs54HzeBIZ6ASDNBBd5DLLw+GM4\n",
       "n0WAwQjkF8YJcD3gEBOAq+A/wKUFZqTChQyBoS6MCKj3LydC3FRxDh5G9i5fkYLyGpz19hgk1IH2\n",
       "PIhAUuGILfLubnWcC4/qr9hUcMsckYOxw75MYMALAG7BRzCDgPYOAAAAAElFTkSuQmCC\n",
       "\" style=\"display:inline;vertical-align:middle;\" /></a><br>"
      ],
      "text/plain": [
       "r_in_QNeg: p in RationalNeg"
      ]
     },
     "execution_count": 12,
     "metadata": {},
     "output_type": "execute_result"
    }
   ],
   "source": [
    "r_in_QNeg = InSet(p, RationalNeg)"
   ]
  },
  {
   "cell_type": "code",
   "execution_count": 13,
   "metadata": {},
   "outputs": [
    {
     "data": {
      "text/html": [
       "<span style=\"font-size:20px;\"> <a class=\"ProveItLink\" href=\"../__pv_it/demonstrations/ef1644055183f6348a0b445ebd0c89759c3138570/proof.ipynb\" style=\"text-decoration: none\">&nbsp;&#x22A2;&nbsp;&nbsp;</a><a class=\"ProveItLink\" href=\"../__pv_it/demonstrations/320a7ec31bd8b31fcf1221fc2b6876adffaa50080/expr.ipynb\"><img src=\"data:image/png;base64,iVBORw0KGgoAAAANSUhEUgAAAHgAAAAaBAMAAACOdoWwAAAAMFBMVEX///8iIiJERESYmJiqqqoQ\n",
       "EBB2dnbc3NyIiIhmZmbu7u4yMjJUVFS6urrMzMwAAADZVrDbAAAAAXRSTlMAQObYZgAAAhBJREFU\n",
       "OMtjYGB4y0AIcOCU4TtAUDMvTiXcCwhqZkjGJTGDsF4GRhwWsP/CKvxSSfsskqcnoAWCqNLvQKA8\n",
       "2wRsetccLODao8XAqwQEWkAbPqD7la9h0UoDBlYHbJp15wENeI1wrAiaPBOvAccDBYZ6ZO8wKwpK\n",
       "g51lsAGoYC0ikCdBaSNBwQ1QzSwOCgymyLGmATWJmx3oGY4LWnCZVgj1qAthM9stBYbZwGhMqus4\n",
       "BRJaDXNFDZ8BUNggF675PliGaxeSsy++ecCgBAwzHhGGJJDQcZjcDRZgSPA1OMM1v38AInkKEJoD\n",
       "/8cyMOxhYCjhPsBgDxJSgMm9gGh2gWuuvwDWghxgbMYJDJIMDAv4HRjyge7ii94NBGArwM52SIcr\n",
       "Xg/W/BQkDwswBoXLDDshPlIFpRe4zUyQADuAZnMRss0MCjwMOkBmIgPXT5BQADwnGCiAosoA4Wew\n",
       "b1lRNB/gZjgEZO5kYI5CTea5oETykgEttDkbUGw2A8fgJ4an4NBkhKc25okFXDsRFsNSgwgieSaw\n",
       "ZR4Amcn7t2M6WIjr0C247t/7kdMtNIWt0V2AkjFYLzCwCcD9mgRJniCHsyCXADug9DVFSPKEAs4E\n",
       "Bm5sGYst3XtGAozD9QtHKRTAsB5rxqpU2nkB7glc5dARFvkdBEuSBzgkVhNRDJnhkmCZQFAvIulh\n",
       "AF+CmjmJKGBJBgAQPYHzqovRWAAAAABJRU5ErkJggg==\n",
       "\" style=\"display:inline;vertical-align:middle;\" /></a></span>"
      ],
      "text/plain": [
       "|- (p in RationalNeg) in BOOLEAN"
      ]
     },
     "execution_count": 13,
     "metadata": {},
     "output_type": "execute_result"
    }
   ],
   "source": [
    "r_in_QNeg.deduce_in_bool()"
   ]
  },
  {
   "cell_type": "code",
   "execution_count": 14,
   "metadata": {},
   "outputs": [
    {
     "data": {
      "text/html": [
       "<strong id=\"s_in_QNonNeg\">s_in_QNonNeg:</strong> <a class=\"ProveItLink\" href=\"../__pv_it/demonstrations/59e21a5e96c07ebae9b99ec7f3d05fb982869d2c0/expr.ipynb\"><img src=\"data:image/png;base64,iVBORw0KGgoAAAANSUhEUgAAAEcAAAAXBAMAAACrEE/bAAAAMFBMVEX///9UVFQiIiKqqqq6uroQ\n",
       "EBDu7u7c3NxmZmZEREQyMjLMzMyYmJiIiIh2dnYAAACU+knAAAAAAXRSTlMAQObYZgAAAUdJREFU\n",
       "KM9jYCAAeN8+wCPLIg6mzjEY4jOjQhpEqjDwJ+BVNZuBge03A6sBXvfkTWHg/s7AdAC/q/OWcX9j\n",
       "YLqATWrHzFkiENatA0CTWLEpShQqYFs4Dchgu2kAchO/AxZFU7qBCnclMLC9dMDwHc8kJS1w6B1Y\n",
       "wMDAmSLA1gk24QZyOHHPhWrgYm8AqnSYxr0BEuLvgFwGvrunQZwsmKGF3EAvsxx4guKE1QwzQJQ4\n",
       "jO/LDAw87gs2yGrYPzBsA9ETYAJ7IYqMmWcCwTSIGNvXFrCTolYBAYjFCLbO4DmKdZ7/QYaww03i\n",
       "hDhcAFlNMQPvdxAdAE8iByaAggAlwhYxMHwA0b1wkSegwNyBYtt0Bl5w3DDBEwRPUwHbCtSYr71z\n",
       "GeIBSTe4ql/rcSUhlpeQaAFZyCzAQBDwPbfqfUBQVcXMFcjpAwA7TlVS8iwT1gAAAABJRU5ErkJg\n",
       "gg==\n",
       "\" style=\"display:inline;vertical-align:middle;\" /></a><br>"
      ],
      "text/plain": [
       "s_in_QNonNeg: s in RationalNonNeg"
      ]
     },
     "execution_count": 14,
     "metadata": {},
     "output_type": "execute_result"
    }
   ],
   "source": [
    "s_in_QNonNeg = InSet(s, RationalNonNeg)"
   ]
  },
  {
   "cell_type": "code",
   "execution_count": 15,
   "metadata": {},
   "outputs": [
    {
     "data": {
      "text/html": [
       "<span style=\"font-size:20px;\"> <a class=\"ProveItLink\" href=\"../__pv_it/demonstrations/7c1b323a8fe9e37c7d43d831ce08a6d34f9206340/proof.ipynb\" style=\"text-decoration: none\">&nbsp;&#x22A2;&nbsp;&nbsp;</a><a class=\"ProveItLink\" href=\"../__pv_it/demonstrations/5fe75f4ad728a6faab464124538840a5c1a541a40/expr.ipynb\"><img src=\"data:image/png;base64,iVBORw0KGgoAAAANSUhEUgAAAIAAAAAcBAMAAABbtKrAAAAAMFBMVEX///8iIiJERESYmJiqqqoQ\n",
       "EBB2dnbc3NyIiIhmZmbu7u4yMjJUVFS6urrMzMwAAADZVrDbAAAAAXRSTlMAQObYZgAAAldJREFU\n",
       "OMtjYCACtLUxkAnuFIBI5gSWA/hUvcUtxT7nAZBkvMDwi4EDpyI+fKazTwKasP4BQwgDL05l3Avw\n",
       "OY8r6QLD+wIGYQaGZFxKZuAPBq7sBe8XMEgAPYLDIvZfWP01SWnPBTCLYzPIBRFAxgRUJRyiSr8D\n",
       "zzIwsE3AZu0ZcYbVh0BWrlABh8FfoE0f0P3O17BopQEDqwMWA5huPmDgOreLgWGZLiwWGBhE0BXx\n",
       "GnA8UGCoR/Yas6KgNIhu5gYSWncYVuqCHTsBnA4mQRUZCQpugBrA4qDAYIrscw2oaRsqgUQv04J3\n",
       "0JSYCSJbIZxHXQgXsN1SYJgNYmc0gxIMw2qofvYDj4HkZbYLKE6+D5bl2oXkhYtvHjAogYLjARM4\n",
       "KI9DpXgbXIDkCxYDFAPegy3hKUAYEPg/loFhD5BZz8AHNl0B5hWoAQ5OSkAAC6R6sIOYkAORzTiB\n",
       "QRLIXB8JluOL3g0EIBbYC1fYClBcsB6s6ClIDSwQGRQuM+wEOVn/E9jrMBcwKIADkQc12iAuKEJ2\n",
       "AYMCD4MOUKMDQz/YsgCY3GWQQ7UuoxrwHqyGFcWAA9wMh4BhKMDAj5ot2MAJCS2NQmKBswHFBWag\n",
       "2GUqYOgACzHCU6UlMClPRkt50BQjgkjKCWyZB0DmsndYQHRyHboFk7Xf/QU9fUNT4hrdBSiZiRU5\n",
       "tfAmQZIy0BMXfNAN2AGlrylCkjIUcCZgz+ZpJTtRi1KuXzhKtABchZn2XBQBZlxl2hEiS2jGBzgk\n",
       "VhNpgBkuCZYJROlHJFMM4EuUAZwLGGgDANF4m6eAeUODAAAAAElFTkSuQmCC\n",
       "\" style=\"display:inline;vertical-align:middle;\" /></a></span>"
      ],
      "text/plain": [
       "|- (s in RationalNonNeg) in BOOLEAN"
      ]
     },
     "execution_count": 15,
     "metadata": {},
     "output_type": "execute_result"
    }
   ],
   "source": [
    "s_in_QNonNeg.deduce_in_bool()"
   ]
  },
  {
   "cell_type": "code",
   "execution_count": null,
   "metadata": {},
   "outputs": [],
   "source": []
  },
  {
   "cell_type": "code",
   "execution_count": 16,
   "metadata": {},
   "outputs": [],
   "source": [
    "%end demonstrations"
   ]
  },
  {
   "cell_type": "code",
   "execution_count": null,
   "metadata": {},
   "outputs": [],
   "source": []
  }
 ],
 "metadata": {
  "kernelspec": {
   "display_name": "Python 3",
   "language": "python",
   "name": "python3"
  }
 },
 "nbformat": 4,
 "nbformat_minor": 0
}