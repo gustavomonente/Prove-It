{
 "cells": [
  {
   "cell_type": "markdown",
   "metadata": {},
   "source": [
    "Common expressions for the theory of <a class=\"ProveItLink\" href=\"theory.ipynb\">proveit.numbers.number_sets.rational_numbers</a>\n",
    "========"
   ]
  },
  {
   "cell_type": "code",
   "execution_count": 1,
   "metadata": {},
   "outputs": [],
   "source": [
    "import proveit\n",
    "# Prepare this notebook for defining the common expressions of a theory:\n",
    "%common_expressions_notebook # Keep this at the top following 'import proveit'.\n",
    "from proveit.numbers.number_sets.rational_numbers.rational import (\n",
    "    RationalSet, RationalNonZeroSet, RationalNegSet, RationalNonNegSet, RationalPosSet)"
   ]
  },
  {
   "cell_type": "code",
   "execution_count": 2,
   "metadata": {},
   "outputs": [
    {
     "name": "stdout",
     "output_type": "stream",
     "text": [
      "Defining common sub-expressions for theory 'proveit.numbers.number_sets.rational_numbers'\n",
      "Subsequent end-of-cell assignments will define common sub-expressions\n",
      "%end_common will finalize the definitions\n"
     ]
    }
   ],
   "source": [
    "%begin common"
   ]
  },
  {
   "cell_type": "code",
   "execution_count": 3,
   "metadata": {},
   "outputs": [
    {
     "data": {
      "text/html": [
       "<strong id=\"Rational\">Rational:</strong> <a class=\"ProveItLink\" href=\"../__pv_it/common/c31fbf3e632f478b2f5544a54ba7525fd0343dcc0/common_expr.ipynb\"><img src=\"data:image/png;base64,iVBORw0KGgoAAAANSUhEUgAAABAAAAARBAMAAAAmgTH3AAAALVBMVEX///+qqqp2dnaYmJiIiIjc\n",
       "3NwiIiLu7u66urpUVFQyMjJERERmZmbMzMwAAAAPPdWlAAAAAXRSTlMAQObYZgAAAIFJREFUCNdj\n",
       "YGC4s3vXDAYgqJwWwL5yO5Cx4yyQc6uAgcVgAQMDd8UEBi7WAwwMLA3bGSJ5DRgYOAw0GFoYBRgY\n",
       "eB2EGa5AGIIMnGApAVUGbojiCUB1G0DagcIaIAPvAE1mPhbAvsYAZBnzq3UCDGCgwTgBwmBSlTqi\n",
       "AGbF7F7TAADtgR4r3cUBHgAAAABJRU5ErkJggg==\n",
       "\" style=\"display:inline;vertical-align:middle;\" /></a><br>"
      ],
      "text/plain": [
       "Rational: Rational"
      ]
     },
     "execution_count": 3,
     "metadata": {},
     "output_type": "execute_result"
    }
   ],
   "source": [
    "Rational = RationalSet()"
   ]
  },
  {
   "cell_type": "code",
   "execution_count": 4,
   "metadata": {},
   "outputs": [
    {
     "data": {
      "text/html": [
       "<strong id=\"RationalNonZero\">RationalNonZero:</strong> <a class=\"ProveItLink\" href=\"../__pv_it/common/24f06c62ddbd645c7571ad6d3287da52463eecb30/common_expr.ipynb\"><img src=\"data:image/png;base64,iVBORw0KGgoAAAANSUhEUgAAACUAAAAXCAMAAAC78naXAAAAOVBMVEX///8QEBAoKCgUFBQNDQ2q\n",
       "qqp2dnaYmJiIiIjc3NwiIiLu7u66urpUVFQyMjJERERmZmbMzMwAAACsI8m3AAAAAXRSTlMAQObY\n",
       "ZgAAAOpJREFUKM+FU4uSwyAIpHdVNCKi//+xBbVNblK9nQkxsvJYDMASyUzwwcMGUtWgUlxek2L3\n",
       "HaSmpSWrmCs1C/hwKxL1amqLFhDv/lwMT31QWRbxCN1RRfc400kNI8mI9TBWyvnQj8S5vMtMZb57\n",
       "Xc2OF+pNK7uy0jIz//6oYbz0GBD43Rbliwo9s0y9GKLMLRr9QzkFCt7LOFdnp4TgLYO7z4QCuKla\n",
       "1SX26DfUvyxd4jepLxkd+Lga2LX65fi15vJRApfT96eqsrlvKGNCgrAFNubm4D+omruL+6H56Fj2\n",
       "f4JNSu8YC313vgD3Dwm90lpK8gAAAABJRU5ErkJggg==\n",
       "\" style=\"display:inline;vertical-align:middle;\" /></a><br>"
      ],
      "text/plain": [
       "RationalNonZero: RationalNonZero"
      ]
     },
     "execution_count": 4,
     "metadata": {},
     "output_type": "execute_result"
    }
   ],
   "source": [
    "RationalNonZero = RationalNonZeroSet()"
   ]
  },
  {
   "cell_type": "code",
   "execution_count": 5,
   "metadata": {},
   "outputs": [
    {
     "data": {
      "text/html": [
       "<strong id=\"RationalPos\">RationalPos:</strong> <a class=\"ProveItLink\" href=\"../__pv_it/common/73ea1b876effeb49506e6e7f8205c164c1abeec00/common_expr.ipynb\"><img src=\"data:image/png;base64,iVBORw0KGgoAAAANSUhEUgAAABwAAAAWBAMAAAAhuOHBAAAAMFBMVEX///8QEBCqqqp2dnaYmJiI\n",
       "iIjc3NwiIiLu7u66urpUVFQyMjJERERmZmbMzMwAAAC8H5PlAAAAAXRSTlMAQObYZgAAAJtJREFU\n",
       "GNNjYMAJFqByDxDBfXvm9EoEt2t5AseuEwxcu3dL797CwHDyHlDodQNUltVhAwMDT+cCKJeb7QJQ\n",
       "bMIJKDeLz4GBgdPBEsqdyqTAwMAXoALlPoVwlYDMBCDmAitWMIM6hQdiFMz5nA4HQBY5wFxqCXLG\n",
       "W7jDWa4ncOx1QHiE5fd+BWSPWTKhhAOzmfZVAyR+7pm9EyAsAKOXLTMz/27sAAAAAElFTkSuQmCC\n",
       "\" style=\"display:inline;vertical-align:middle;\" /></a><br>"
      ],
      "text/plain": [
       "RationalPos: RationalPos"
      ]
     },
     "execution_count": 5,
     "metadata": {},
     "output_type": "execute_result"
    }
   ],
   "source": [
    "RationalPos = RationalPosSet()"
   ]
  },
  {
   "cell_type": "code",
   "execution_count": 6,
   "metadata": {},
   "outputs": [
    {
     "data": {
      "text/html": [
       "<strong id=\"RationalNeg\">RationalNeg:</strong> <a class=\"ProveItLink\" href=\"../__pv_it/common/6fbe814f8e69ebb8118609f285ee9bd7efa0f6e60/common_expr.ipynb\"><img src=\"data:image/png;base64,iVBORw0KGgoAAAANSUhEUgAAABwAAAARBAMAAAA8vdF5AAAALVBMVEX///+qqqp2dnaYmJiIiIjc\n",
       "3NwiIiLu7u66urpUVFQyMjJERERmZmbMzMwAAAAPPdWlAAAAAXRSTlMAQObYZgAAAJBJREFUCNdj\n",
       "YGC4s3vXDAY4qJwWwL5yOwPHbiDYzsCw4yxQ6FYBVJLFYAEDA3fFBCiXi/UAUKxhO5QbyWvAwMBh\n",
       "oAHltjAKMDDwOghDuVcgXEEolxOsWEAVyuWGGAUzmcNgA8giA5irNEDOuAN3JPOxAPY1BghHM79a\n",
       "J8CABDQYJyBzmVSljigg8WN2r2mAsAA0XCHWal3z+AAAAABJRU5ErkJggg==\n",
       "\" style=\"display:inline;vertical-align:middle;\" /></a><br>"
      ],
      "text/plain": [
       "RationalNeg: RationalNeg"
      ]
     },
     "execution_count": 6,
     "metadata": {},
     "output_type": "execute_result"
    }
   ],
   "source": [
    "RationalNeg = RationalNegSet()"
   ]
  },
  {
   "cell_type": "code",
   "execution_count": 7,
   "metadata": {},
   "outputs": [
    {
     "data": {
      "text/html": [
       "<strong id=\"RationalNonNeg\">RationalNonNeg:</strong> <a class=\"ProveItLink\" href=\"../__pv_it/common/dcececaf1841cda8aa10692fd9a354e6da17f1780/common_expr.ipynb\"><img src=\"data:image/png;base64,iVBORw0KGgoAAAANSUhEUgAAACUAAAAXBAMAAAB+ApuWAAAAMFBMVEX///8QEBCqqqp2dnaYmJiI\n",
       "iIjc3NwiIiLu7u66urpUVFQyMjJERERmZmbMzMwAAAC8H5PlAAAAAXRSTlMAQObYZgAAAOdJREFU\n",
       "GNNjYEAFrKYGCA7nMjDlzKCFpCJ3HYisZOBvQBY8x8DA8Y+BUQHZrOaTDHzfGNgdUCxo3sH3g4E9\n",
       "AMh6e+b0SohYtANQHSNQrGt5AseuE0ARjhgFkHn8ExgYTt4Dir9uYOCwmQCzl9VhAwMDT+cCjjsg\n",
       "IYZYkPu42S4AXT/hBN8DiD+MgdwsPqDdnA6WyPZPZQK6kS9ABVnsKURMiekMEJyAiHGB9SqYIavj\n",
       "gdixAFmM0+EAyC2onrQEufktasiyXE/g2OuAFtwsv/crMKADS6YFGGLMZtpXDdAFc8/snYDEBQCI\n",
       "2DuD74RT5QAAAABJRU5ErkJggg==\n",
       "\" style=\"display:inline;vertical-align:middle;\" /></a><br>"
      ],
      "text/plain": [
       "RationalNonNeg: RationalNonNeg"
      ]
     },
     "execution_count": 7,
     "metadata": {},
     "output_type": "execute_result"
    }
   ],
   "source": [
    "RationalNonNeg = RationalNonNegSet()"
   ]
  },
  {
   "cell_type": "code",
   "execution_count": 8,
   "metadata": {},
   "outputs": [
    {
     "name": "stdout",
     "output_type": "stream",
     "text": [
      "These common expressions may now be imported from the theory package: proveit.numbers.number_sets.rational_numbers\n"
     ]
    }
   ],
   "source": [
    "%end common"
   ]
  },
  {
   "cell_type": "code",
   "execution_count": null,
   "metadata": {},
   "outputs": [],
   "source": []
  }
 ],
 "metadata": {
  "kernelspec": {
   "display_name": "Python 3",
   "language": "python",
   "name": "python3"
  }
 },
 "nbformat": 4,
 "nbformat_minor": 0
}