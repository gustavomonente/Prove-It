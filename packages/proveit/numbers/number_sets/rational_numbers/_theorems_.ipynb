{
 "cells": [
  {
   "cell_type": "markdown",
   "metadata": {},
   "source": [
    "Theorems (or conjectures) for the theory of <a class=\"ProveItLink\" href=\"_theory_.ipynb\">proveit.numbers.number_sets.rational_numbers</a>\n",
    "========"
   ]
  },
  {
   "cell_type": "code",
   "execution_count": null,
   "metadata": {},
   "outputs": [],
   "source": [
    "import proveit\n",
    "# Prepare this notebook for defining the theorems of a theory:\n",
    "%theorems_notebook # Keep this at the top following 'import proveit'.\n",
    "from proveit._common_ import a, b, q, x\n",
    "from proveit.logic import And, Equals, Exists, Forall, Iff, inBool, InSet, ProperSubset\n",
    "from proveit.numbers import frac, GCD, Less, Greater, GreaterEq\n",
    "from proveit.numbers import one, zero\n",
    "from proveit.numbers import (Integer, Natural, Rational, RationalNeg,\n",
    "                            RationalNonNeg, RationalPos, NaturalPos)"
   ]
  },
  {
   "cell_type": "code",
   "execution_count": null,
   "metadata": {},
   "outputs": [],
   "source": [
    "%begin theorems"
   ]
  },
  {
   "cell_type": "code",
   "execution_count": null,
   "metadata": {},
   "outputs": [],
   "source": [
    "zeroInRational = InSet(zero, Rational)"
   ]
  },
  {
   "cell_type": "code",
   "execution_count": null,
   "metadata": {},
   "outputs": [],
   "source": [
    "natInRational = ProperSubset(Natural, Rational)"
   ]
  },
  {
   "cell_type": "code",
   "execution_count": null,
   "metadata": {},
   "outputs": [],
   "source": [
    "natInRationalNonNeg = ProperSubset(Natural, RationalNonNeg)"
   ]
  },
  {
   "cell_type": "code",
   "execution_count": null,
   "metadata": {},
   "outputs": [],
   "source": [
    "natPosInRational = ProperSubset(NaturalPos, Rational)"
   ]
  },
  {
   "cell_type": "code",
   "execution_count": null,
   "metadata": {},
   "outputs": [],
   "source": [
    "natPosInRationalNonNeg = ProperSubset(NaturalPos, RationalNonNeg)"
   ]
  },
  {
   "cell_type": "code",
   "execution_count": null,
   "metadata": {},
   "outputs": [],
   "source": [
    "intInRational = ProperSubset(Integer, Rational)"
   ]
  },
  {
   "cell_type": "code",
   "execution_count": null,
   "metadata": {},
   "outputs": [],
   "source": [
    "rationalPosInRational = ProperSubset(RationalPos, Rational)"
   ]
  },
  {
   "cell_type": "code",
   "execution_count": null,
   "metadata": {},
   "outputs": [],
   "source": [
    "rationalPosInRationalNonNeg = ProperSubset(RationalPos, RationalNonNeg)"
   ]
  },
  {
   "cell_type": "code",
   "execution_count": null,
   "metadata": {},
   "outputs": [],
   "source": [
    "rationalNegInRational = ProperSubset(RationalNeg, Rational)"
   ]
  },
  {
   "cell_type": "code",
   "execution_count": null,
   "metadata": {},
   "outputs": [],
   "source": [
    "rationalNonNegInRational = ProperSubset(RationalNonNeg, Rational)"
   ]
  },
  {
   "cell_type": "code",
   "execution_count": null,
   "metadata": {},
   "outputs": [],
   "source": [
    "inRationalPos_iff_positive = Forall(\n",
    "        q,\n",
    "        Iff(InSet(q, RationalPos),\n",
    "            Greater(q, zero)),\n",
    "        domain=Rational)"
   ]
  },
  {
   "cell_type": "code",
   "execution_count": null,
   "metadata": {},
   "outputs": [],
   "source": [
    "positiveRationalInRationalPos = Forall(\n",
    "        q,\n",
    "        InSet(q, RationalPos),\n",
    "        domain=Rational,\n",
    "        conditions=[Greater(q, zero)])"
   ]
  },
  {
   "cell_type": "code",
   "execution_count": null,
   "metadata": {},
   "outputs": [],
   "source": [
    "negativeRationalInRationalNeg = Forall(\n",
    "        q,\n",
    "        InSet(q, RationalNeg),\n",
    "        domain=Rational,\n",
    "        conditions=[Less(q, zero)])"
   ]
  },
  {
   "cell_type": "code",
   "execution_count": null,
   "metadata": {},
   "outputs": [],
   "source": [
    "nonNegRationalInRationalNonNeg = Forall(\n",
    "        q,\n",
    "        InSet(q, RationalNonNeg),\n",
    "        domain=Rational,\n",
    "        conditions=[GreaterEq(q, zero)])"
   ]
  },
  {
   "cell_type": "code",
   "execution_count": null,
   "metadata": {},
   "outputs": [],
   "source": [
    "# inRationalNonNeg_iff_nonNeg = Forall(\n",
    "#         q,\n",
    "#         Iff(InSet(q, RationalNonNeg),\n",
    "#             GreaterEq(q, zero)),\n",
    "#         domain=Rational)"
   ]
  },
  {
   "cell_type": "code",
   "execution_count": null,
   "metadata": {},
   "outputs": [],
   "source": [
    "natRatio = Forall(\n",
    "        q,\n",
    "        Exists([a,b],\n",
    "               Equals(q, frac(a,b)),\n",
    "               domains=[Natural, NaturalPos]),\n",
    "        domain=RationalNonNeg)"
   ]
  },
  {
   "cell_type": "code",
   "execution_count": null,
   "metadata": {},
   "outputs": [],
   "source": [
    "reducedNatPosRatio = Forall(\n",
    "        q,\n",
    "        Exists([a,b],\n",
    "               And(Equals(q, frac(a,b)), Equals(GCD(a, b), one)),\n",
    "               domains=[NaturalPos, NaturalPos]),\n",
    "        domain=RationalPos)"
   ]
  },
  {
   "cell_type": "code",
   "execution_count": null,
   "metadata": {},
   "outputs": [],
   "source": [
    "ratioOfPosIntInRationalPos = Forall(\n",
    "        [a,b],\n",
    "        InSet(frac(a,b), RationalPos),\n",
    "        domain=NaturalPos)"
   ]
  },
  {
   "cell_type": "markdown",
   "metadata": {},
   "source": [
    "***A set of inBool theorems, which are accessed by the respective NumberSets to implement their ``deduceMembershipInBool()`` methods, covering the ``RationalSet`` and ``RationalPosSet`` NumberSet classes (defined in proveit.numbers.number_sets.rational_numbers/rationals.py):***"
   ]
  },
  {
   "cell_type": "code",
   "execution_count": null,
   "metadata": {},
   "outputs": [],
   "source": [
    "xInRationalInBool = Forall(x, inBool(InSet(x, Rational)))"
   ]
  },
  {
   "cell_type": "code",
   "execution_count": null,
   "metadata": {},
   "outputs": [],
   "source": [
    "xInRationalPosInBool = Forall(x, inBool(InSet(x, RationalPos)))"
   ]
  },
  {
   "cell_type": "code",
   "execution_count": null,
   "metadata": {},
   "outputs": [],
   "source": [
    "xInRationalNegInBool = Forall(x, inBool(InSet(x, RationalNeg)))"
   ]
  },
  {
   "cell_type": "code",
   "execution_count": null,
   "metadata": {},
   "outputs": [],
   "source": [
    "xInRationalNonNegInBool = Forall(x, inBool(InSet(x, RationalNonNeg)))"
   ]
  },
  {
   "cell_type": "code",
   "execution_count": null,
   "metadata": {},
   "outputs": [],
   "source": [
    "%end theorems"
   ]
  },
  {
   "cell_type": "code",
   "execution_count": null,
   "metadata": {},
   "outputs": [],
   "source": []
  }
 ],
 "metadata": {
  "kernelspec": {
   "display_name": "Python 3",
   "language": "python",
   "name": "python3"
  }
 },
 "nbformat": 4,
 "nbformat_minor": 0
}
