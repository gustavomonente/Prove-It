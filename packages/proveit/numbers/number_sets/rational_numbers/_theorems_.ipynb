{
 "cells": [
  {
   "cell_type": "markdown",
   "metadata": {},
   "source": [
    "Theorems (or conjectures) for the theory of <a class=\"ProveItLink\" href=\"_theory_.ipynb\">proveit.numbers.number_sets.rational_numbers</a>\n",
    "========"
   ]
  },
  {
   "cell_type": "code",
   "execution_count": null,
   "metadata": {},
   "outputs": [],
   "source": [
    "import proveit\n",
    "# Prepare this notebook for defining the theorems of a theory:\n",
    "%theorems_notebook # Keep this at the top following 'import proveit'.\n",
    "from proveit._common_ import a, b, q, x\n",
    "from proveit.logic import And, Equals, NotEquals, Exists, Forall, Iff, in_bool, InSet, ProperSubset\n",
    "from proveit.numbers import frac, GCD, Less, Greater, GreaterEq\n",
    "from proveit.numbers import one, zero\n",
    "from proveit.numbers import (Integer, Natural, Rational, RationalNonZero, RationalNeg,\n",
    "                            RationalNonNeg, RationalPos, NaturalPos)"
   ]
  },
  {
   "cell_type": "code",
   "execution_count": null,
   "metadata": {},
   "outputs": [],
   "source": [
    "%begin theorems"
   ]
  },
  {
   "cell_type": "code",
   "execution_count": null,
   "metadata": {},
   "outputs": [],
   "source": [
    "zero_is_rational = InSet(zero, Rational)"
   ]
  },
  {
   "cell_type": "code",
   "execution_count": null,
   "metadata": {},
   "outputs": [],
   "source": [
    "nat_within_rational = ProperSubset(Natural, Rational)"
   ]
  },
  {
   "cell_type": "code",
   "execution_count": null,
   "metadata": {},
   "outputs": [],
   "source": [
    "nat_within_rational_non_neg = ProperSubset(Natural, RationalNonNeg)"
   ]
  },
  {
   "cell_type": "code",
   "execution_count": null,
   "metadata": {},
   "outputs": [],
   "source": [
    "nat_pos_in_rational_pos = ProperSubset(NaturalPos, RationalPos)"
   ]
  },
  {
   "cell_type": "code",
   "execution_count": null,
   "metadata": {},
   "outputs": [],
   "source": [
    "nat_pos_in_rational_non_zero = ProperSubset(NaturalPos, RationalNonZero)"
   ]
  },
  {
   "cell_type": "code",
   "execution_count": null,
   "metadata": {},
   "outputs": [],
   "source": [
    "nat_pos_within_rational_non_neg = ProperSubset(NaturalPos, RationalNonNeg)"
   ]
  },
  {
   "cell_type": "code",
   "execution_count": null,
   "metadata": {},
   "outputs": [],
   "source": [
    "int_within_rational = ProperSubset(Integer, Rational)"
   ]
  },
  {
   "cell_type": "code",
   "execution_count": null,
   "metadata": {},
   "outputs": [],
   "source": [
    "rational_non_zero_in_rational = ProperSubset(RationalNonZero, Rational)"
   ]
  },
  {
   "cell_type": "code",
   "execution_count": null,
   "metadata": {},
   "outputs": [],
   "source": [
    "rational_pos_within_rational = ProperSubset(RationalPos, Rational)"
   ]
  },
  {
   "cell_type": "code",
   "execution_count": null,
   "metadata": {},
   "outputs": [],
   "source": [
    "rational_pos_in_rational_non_zero = ProperSubset(RationalPos, RationalNonZero)"
   ]
  },
  {
   "cell_type": "code",
   "execution_count": null,
   "metadata": {},
   "outputs": [],
   "source": [
    "rational_neg_in_rational_non_zero = ProperSubset(RationalNeg, RationalNonZero)"
   ]
  },
  {
   "cell_type": "code",
   "execution_count": null,
   "metadata": {},
   "outputs": [],
   "source": [
    "rational_pos_within_rational_non_neg = ProperSubset(RationalPos, RationalNonNeg)"
   ]
  },
  {
   "cell_type": "code",
   "execution_count": null,
   "metadata": {},
   "outputs": [],
   "source": [
    "rational_neg_within_rational = ProperSubset(RationalNeg, Rational)"
   ]
  },
  {
   "cell_type": "code",
   "execution_count": null,
   "metadata": {},
   "outputs": [],
   "source": [
    "rational_non_neg_within_rational = ProperSubset(RationalNonNeg, Rational)"
   ]
  },
  {
   "cell_type": "code",
   "execution_count": null,
   "metadata": {},
   "outputs": [],
   "source": [
    "in_rational_pos_iff_positive = Forall(\n",
    "        q,\n",
    "        Iff(InSet(q, RationalPos),\n",
    "            Greater(q, zero)),\n",
    "        domain=Rational)"
   ]
  },
  {
   "cell_type": "code",
   "execution_count": null,
   "metadata": {},
   "outputs": [],
   "source": [
    "non_zero_rational_is_rational_non_zero = Forall(\n",
    "    q,\n",
    "    InSet(q, RationalNonZero),\n",
    "    domain=Rational,\n",
    "    conditions=[NotEquals(q, zero)])"
   ]
  },
  {
   "cell_type": "code",
   "execution_count": null,
   "metadata": {},
   "outputs": [],
   "source": [
    "positive_rational_is_rational_pos = Forall(\n",
    "        q,\n",
    "        InSet(q, RationalPos),\n",
    "        domain=Rational,\n",
    "        conditions=[Greater(q, zero)])"
   ]
  },
  {
   "cell_type": "code",
   "execution_count": null,
   "metadata": {},
   "outputs": [],
   "source": [
    "negative_rational_is_rational_neg = Forall(\n",
    "        q,\n",
    "        InSet(q, RationalNeg),\n",
    "        domain=Rational,\n",
    "        conditions=[Less(q, zero)])"
   ]
  },
  {
   "cell_type": "code",
   "execution_count": null,
   "metadata": {},
   "outputs": [],
   "source": [
    "non_neg_rational_is_rational_non_neg = Forall(\n",
    "        q,\n",
    "        InSet(q, RationalNonNeg),\n",
    "        domain=Rational,\n",
    "        conditions=[GreaterEq(q, zero)])"
   ]
  },
  {
   "cell_type": "code",
   "execution_count": null,
   "metadata": {},
   "outputs": [],
   "source": [
    "# in_rational_non_neg_iff_nonNeg = Forall(\n",
    "#         q,\n",
    "#         Iff(InSet(q, RationalNonNeg),\n",
    "#             GreaterEq(q, zero)),\n",
    "#         domain=Rational)"
   ]
  },
  {
   "cell_type": "code",
   "execution_count": null,
   "metadata": {},
   "outputs": [],
   "source": [
    "nat_ratio = Forall(\n",
    "        q,\n",
    "        Exists([a,b],\n",
    "               Equals(q, frac(a,b)),\n",
    "               domains=[Natural, NaturalPos]),\n",
    "        domain=RationalNonNeg)"
   ]
  },
  {
   "cell_type": "code",
   "execution_count": null,
   "metadata": {},
   "outputs": [],
   "source": [
    "reduced_nat_pos_ratio = Forall(\n",
    "        q,\n",
    "        Exists([a,b],\n",
    "               And(Equals(q, frac(a,b)), Equals(GCD(a, b), one)),\n",
    "               domains=[NaturalPos, NaturalPos]),\n",
    "        domain=RationalPos)"
   ]
  },
  {
   "cell_type": "code",
   "execution_count": null,
   "metadata": {},
   "outputs": [],
   "source": [
    "ratio_of_pos_int_is_rational_pos = Forall(\n",
    "        [a,b],\n",
    "        InSet(frac(a,b), RationalPos),\n",
    "        domain=NaturalPos)"
   ]
  },
  {
   "cell_type": "markdown",
   "metadata": {},
   "source": [
    "***A set of in_bool theorems, which are accessed by the respective NumberSets to implement their ``deduce_membership_in_bool()`` methods, covering the ``RationalSet`` and ``RationalPosSet`` NumberSet classes (defined in proveit.numbers.number_sets.rational_numbers/rationals.py):***"
   ]
  },
  {
   "cell_type": "code",
   "execution_count": null,
   "metadata": {},
   "outputs": [],
   "source": [
    "rational_membership_is_bool = Forall(x, in_bool(InSet(x, Rational)))"
   ]
  },
  {
   "cell_type": "code",
   "execution_count": null,
   "metadata": {},
   "outputs": [],
   "source": [
    "rational_non_zero_membership_is_bool = Forall(x, in_bool(InSet(x, RationalNonZero)))"
   ]
  },
  {
   "cell_type": "code",
   "execution_count": null,
   "metadata": {},
   "outputs": [],
   "source": [
    "rational_pos_membership_is_bool = Forall(x, in_bool(InSet(x, RationalPos)))"
   ]
  },
  {
   "cell_type": "code",
   "execution_count": null,
   "metadata": {},
   "outputs": [],
   "source": [
    "rational_neg_membership_is_bool = Forall(x, in_bool(InSet(x, RationalNeg)))"
   ]
  },
  {
   "cell_type": "code",
   "execution_count": null,
   "metadata": {},
   "outputs": [],
   "source": [
    "rational_non_neg_membership_is_bool = Forall(x, in_bool(InSet(x, RationalNonNeg)))"
   ]
  },
  {
   "cell_type": "code",
   "execution_count": null,
   "metadata": {},
   "outputs": [],
   "source": [
    "%end theorems"
   ]
  },
  {
   "cell_type": "code",
   "execution_count": null,
   "metadata": {},
   "outputs": [],
   "source": []
  }
 ],
 "metadata": {
  "kernelspec": {
   "display_name": "Python 3",
   "language": "python",
   "name": "python3"
  }
 },
 "nbformat": 4,
 "nbformat_minor": 0
}
