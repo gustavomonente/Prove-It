{
 "cells": [
  {
   "cell_type": "markdown",
   "metadata": {},
   "source": [
    "Theorems (or conjectures) for the theory of <a class=\"ProveItLink\" href=\"theory.ipynb\">proveit.numbers.number_sets.complex_numbers</a>\n",
    "========"
   ]
  },
  {
   "cell_type": "code",
   "execution_count": 1,
   "metadata": {},
   "outputs": [],
   "source": [
    "import proveit\n",
    "# Prepare this notebook for defining the theorems of a theory:\n",
    "%theorems_notebook # Keep this at the top following 'import proveit'.\n",
    "from proveit import x\n",
    "from proveit.logic import Forall, in_bool, InSet, ProperSubset\n",
    "from proveit.numbers import Complex, Real, RealPos, RealNeg, Integer, Natural, NaturalPos"
   ]
  },
  {
   "cell_type": "code",
   "execution_count": 2,
   "metadata": {},
   "outputs": [
    {
     "name": "stdout",
     "output_type": "stream",
     "text": [
      "Defining theorems for theory 'proveit.numbers.number_sets.complex_numbers'\n",
      "Subsequent end-of-cell assignments will define theorems\n",
      "'%end theorems' will finalize the definitions\n"
     ]
    }
   ],
   "source": [
    "%begin theorems"
   ]
  },
  {
   "cell_type": "code",
   "execution_count": 3,
   "metadata": {},
   "outputs": [
    {
     "data": {
      "text/html": [
       "<strong id=\"real_within_complex\"><a class=\"ProveItLink\" href=\"proofs/real_within_complex/thm_proof.ipynb\">real_within_complex</a> (conjecture without proof):<br></strong> <a class=\"ProveItLink\" href=\"../__pv_it/theorems/e572a8f473ffc04b7908a0cce50713f72f8f5c790/theorem_expr.ipynb\"><img src=\"data:image/png;base64,iVBORw0KGgoAAAANSUhEUgAAADoAAAAPBAMAAABHIsEFAAAAMFBMVEX///+IiIiqqqq6urpmZmZ2\n",
       "dnbc3NzMzMxUVFTu7u4yMjJEREQQEBAiIiKYmJgAAACIyPRpAAAAAXRSTlMAQObYZgAAAONJREFU\n",
       "GNNjeHt6/6rTDxgwgNStP7cdGBgWzGCofj0BXbL8E8OUf0DZDakM3GwNaJJ8HAIMDO8hsiwJCyCC\n",
       "r+/evXsdxHjOAzSNAya7ASyZFQbT65ANJDgFwLIczBCTr8EkORtKoCygrK4X2FUsCjBZtgBDmGzO\n",
       "3VsQYV64o9gc4LKpJtwQD2XAZTk3lMJlWcwhjpqN8NFKDoS9Ox+imczwBCw7ASxbwVIA4rAKwGW5\n",
       "hYFs5gXgkGRVaAeLLUJo9to6YdLuCQzAWFjOsHs92NUzmuHhze51/koBWvCW7oWGJBQAAGgURyiB\n",
       "GqKtAAAAAElFTkSuQmCC\n",
       "\" style=\"display:inline;vertical-align:middle;\" /></a><br>"
      ],
      "text/plain": [
       "real_within_complex: Real proper_subset Complex"
      ]
     },
     "execution_count": 3,
     "metadata": {},
     "output_type": "execute_result"
    }
   ],
   "source": [
    "real_within_complex = ProperSubset(Real, Complex)"
   ]
  },
  {
   "cell_type": "code",
   "execution_count": 4,
   "metadata": {},
   "outputs": [
    {
     "data": {
      "text/html": [
       "<strong id=\"real_pos_within_complex\"><a class=\"ProveItLink\" href=\"proofs/real_pos_within_complex/thm_proof.ipynb\">real_pos_within_complex</a> (conjecture without proof):<br></strong> <a class=\"ProveItLink\" href=\"../__pv_it/theorems/272d42add2cdcb712c75f66516d00fafb1dd90fe0/theorem_expr.ipynb\"><img src=\"data:image/png;base64,iVBORw0KGgoAAAANSUhEUgAAAEcAAAAUBAMAAAAthD11AAAAMFBMVEX///+IiIiqqqq6urpmZmZ2\n",
       "dnbc3NzMzMxUVFTu7u4yMjJEREQQEBAiIiKYmJgAAACIyPRpAAAAAXRSTlMAQObYZgAAAPtJREFU\n",
       "KM9jYCANcBCjiJseit6e3r/q9ANcihjXrj+7BUgvmMFQ/XoCQ9eqNatWPUBTw16vwOn/BMjYkMrA\n",
       "zdaA3aQHjQwMfF8gilgSFqAoen337t3rQJqv4CSQbIEp2oCsKCsMymBhA4lPhCjiYEax7hqMMYPd\n",
       "AcoCKtL1moCkiEUBpiiVWQCmKOfuLbAwG1SAF+62FISiVBPuCcheyoCzZrMHwBWxmG9AVjQbzuKa\n",
       "0IBw086HyIoQ1vE5gBRxQhRVsBQgKWIVgDM3GgIJK0i0sCq0Ixu1CM5iWR3Jqb0THMHLGXavV0BS\n",
       "NKMZ7pGSNX/dcaSM0r2QaIEBAGRtSetrpWkEAAAAAElFTkSuQmCC\n",
       "\" style=\"display:inline;vertical-align:middle;\" /></a><br>"
      ],
      "text/plain": [
       "real_pos_within_complex: RealPos proper_subset Complex"
      ]
     },
     "execution_count": 4,
     "metadata": {},
     "output_type": "execute_result"
    }
   ],
   "source": [
    "real_pos_within_complex = ProperSubset(RealPos, Complex)"
   ]
  },
  {
   "cell_type": "code",
   "execution_count": 5,
   "metadata": {},
   "outputs": [
    {
     "data": {
      "text/html": [
       "<strong id=\"real_neg_within_complex\"><a class=\"ProveItLink\" href=\"proofs/real_neg_within_complex/thm_proof.ipynb\">real_neg_within_complex</a> (conjecture without proof):<br></strong> <a class=\"ProveItLink\" href=\"../__pv_it/theorems/002caccf86ffaa420d53438b61aa4915c5e239c50/theorem_expr.ipynb\"><img src=\"data:image/png;base64,iVBORw0KGgoAAAANSUhEUgAAAEgAAAAPBAMAAAC1npSgAAAAMFBMVEX///+IiIiqqqq6urpmZmZ2\n",
       "dnbc3NzMzMxUVFTu7u4yMjJEREQQEBAiIiKYmJgAAACIyPRpAAAAAXRSTlMAQObYZgAAAOtJREFU\n",
       "KM9jeHt6/6rTDxhwAalbf247MDAsmMFQ/XoCg/VuIJiArqb8E8OUf0BFG1IZuNkasJvDxyHAwPAe\n",
       "ooglYQGK3Ou7d+9eBzGe8wDN5oAp2oCsJisMxnLIBhKcAmBFHMwo1l2DMTgbSqAsoCJdL2QXsyjA\n",
       "WGwBhjBFOXdvKSAbxAtnsTnAFaWacKN4PQPO4txQClfEYo7i7tkI5koOhJt2PsRuHcMTsKIJYEUV\n",
       "LAVIilgF4ExuYSCbeQE4WlgV2pGNWoRgem2dMAkYWcAIXs6wez2y/2Y0wz3C7nX+SgH2KCvdC40W\n",
       "KAAA4VNK37TZLg4AAAAASUVORK5CYII=\n",
       "\" style=\"display:inline;vertical-align:middle;\" /></a><br>"
      ],
      "text/plain": [
       "real_neg_within_complex: RealNeg proper_subset Complex"
      ]
     },
     "execution_count": 5,
     "metadata": {},
     "output_type": "execute_result"
    }
   ],
   "source": [
    "real_neg_within_complex = ProperSubset(RealNeg, Complex)"
   ]
  },
  {
   "cell_type": "code",
   "execution_count": 6,
   "metadata": {},
   "outputs": [
    {
     "data": {
      "text/html": [
       "<strong id=\"int_within_complex\"><a class=\"ProveItLink\" href=\"proofs/int_within_complex/thm_proof.ipynb\">int_within_complex</a> (conjecture without proof):<br></strong> <a class=\"ProveItLink\" href=\"../__pv_it/theorems/c1a3167023b1a03e84024de16683ea7ec72da1ee0/theorem_expr.ipynb\"><img src=\"data:image/png;base64,iVBORw0KGgoAAAANSUhEUgAAADkAAAAPBAMAAACsFXoGAAAAMFBMVEX///9UVFTc3Nzu7u6qqqp2\n",
       "dnbMzMxmZmZERESIiIiYmJgyMjIQEBAiIiK6uroAAABqpg13AAAAAXRSTlMAQObYZgAAAOxJREFU\n",
       "GNNj4LvzZ/fZPQsY0ADn3v1n24FUewLDBg50SbZ8B+b65QwM7AEMrA5x6LILJBkYuL4DZQ0YFNkK\n",
       "IGJcvXfv3k0AMRIOA0lxsGAzhwGYZtqqANXKztQAJC3BOiasgojxwiQZDGGmMTBYMDdAGCVwa1X5\n",
       "JsCYYoxQPRfgsupwWb6CpxAGkwBc1oItAMriZgAaHAxkwCwAiRnAVIawPmBgOIBqMlcBSJYZZJ4i\n",
       "0Adg2UhEaHS+BBKvGRg4DJoZmKXAhnI7wGXZdwQzezQzMLzpPtFx/gTYe8yCj+HS6Xv+lqGHfQQ0\n",
       "JGEAAJvONZBYk+5SAAAAAElFTkSuQmCC\n",
       "\" style=\"display:inline;vertical-align:middle;\" /></a><br>"
      ],
      "text/plain": [
       "int_within_complex: Integer proper_subset Complex"
      ]
     },
     "execution_count": 6,
     "metadata": {},
     "output_type": "execute_result"
    }
   ],
   "source": [
    "int_within_complex = ProperSubset(Integer, Complex)"
   ]
  },
  {
   "cell_type": "code",
   "execution_count": 7,
   "metadata": {},
   "outputs": [
    {
     "data": {
      "text/html": [
       "<strong id=\"nat_within_complex\"><a class=\"ProveItLink\" href=\"proofs/nat_within_complex/thm_proof.ipynb\">nat_within_complex</a> (conjecture without proof):<br></strong> <a class=\"ProveItLink\" href=\"../__pv_it/theorems/e225e722731f34725ad46fca03cccd144e39345c0/theorem_expr.ipynb\"><img src=\"data:image/png;base64,iVBORw0KGgoAAAANSUhEUgAAADoAAAAPBAMAAABHIsEFAAAAMFBMVEX///9mZmaqqqrc3NyIiIgi\n",
       "IiJUVFTMzMyYmJi6uroQEBB2dnZEREQyMjLu7u4AAAA1o4RqAAAAAXRSTlMAQObYZgAAAO1JREFU\n",
       "GNNjePvn7AOGXb8mMKAB39hfMQIMDCfYExj4PqBLln9iePgDKJta4MLAsABNkoPNgYGhHyibeY6t\n",
       "gCEAItgTGhoaDmK0cz1gYGADyiaX8d2DytpuhukVsAESfED9yUwOZVDZYJgkX0IhlJXMsJPDASzL\n",
       "qACTZd4wBS7L9iAdLMsKdxSzAEKWL4EX7GYzuCzfgWq4LEM1O1j2DcJH99gQshwKB1BNZmgEywJ9\n",
       "lQ6kNoNluR3gsjyeQDbnBQaGSyDXXgCLXUJolj394NGZBwylv4D6+CCyzzIfwGTZZdcHFqAFb/VR\n",
       "aEhCAQAV6z3ys43ydQAAAABJRU5ErkJggg==\n",
       "\" style=\"display:inline;vertical-align:middle;\" /></a><br>"
      ],
      "text/plain": [
       "nat_within_complex: Natural proper_subset Complex"
      ]
     },
     "execution_count": 7,
     "metadata": {},
     "output_type": "execute_result"
    }
   ],
   "source": [
    "nat_within_complex = ProperSubset(Natural, Complex)"
   ]
  },
  {
   "cell_type": "code",
   "execution_count": 8,
   "metadata": {},
   "outputs": [
    {
     "data": {
      "text/html": [
       "<strong id=\"nat_pos_within_complex\"><a class=\"ProveItLink\" href=\"proofs/nat_pos_within_complex/thm_proof.ipynb\">nat_pos_within_complex</a> (conjecture without proof):<br></strong> <a class=\"ProveItLink\" href=\"../__pv_it/theorems/4943cab9c867571244a20aa39df827d0194388490/theorem_expr.ipynb\"><img src=\"data:image/png;base64,iVBORw0KGgoAAAANSUhEUgAAAEcAAAAUBAMAAAAthD11AAAAMFBMVEX///9mZmaqqqrc3NyIiIgi\n",
       "IiJUVFTMzMyYmJi6uroQEBB2dnZEREQyMjLu7u4AAAA1o4RqAAAAAXRSTlMAQObYZgAAAQVJREFU\n",
       "KM9jYCANsBGjiIceit7+OfuAYdevCdgVsVy9v/QgkD7BnsDA94Eh9+6tu3cb0NSw1yvwyTcCGakF\n",
       "LgwMC7Bb15DCwMDxEcjIPMdWwBCAoqgnNDQ0HEhzFKwDkolAnFzGdw9Vke1mKIOR+QCQfAJSxORQ\n",
       "hqooGMZ4xi4AZSUz7ORwQFbEqABTZM3pAFfE9iAdpIgZKsAKd5shkiK+BN4FSF4yg7PesG+AK2Ko\n",
       "ZkdW9AbO4n2QgFDEoXAASRHCOg4BkCI+IE4H4s3Iirgd4MwjU4DEXCC+BPLQBeRwvgRnMd7Zx6dz\n",
       "joGh9BfQFD4URc8yH8CYhbe+iuNIGdVHIdECAwB26kJ6lhEUHgAAAABJRU5ErkJggg==\n",
       "\" style=\"display:inline;vertical-align:middle;\" /></a><br>"
      ],
      "text/plain": [
       "nat_pos_within_complex: NaturalPos proper_subset Complex"
      ]
     },
     "execution_count": 8,
     "metadata": {},
     "output_type": "execute_result"
    }
   ],
   "source": [
    "nat_pos_within_complex = ProperSubset(NaturalPos, Complex)"
   ]
  },
  {
   "cell_type": "markdown",
   "metadata": {},
   "source": [
    "***An in_bool theorem, which is accessed by the respective ComplexSet NumberSet to implement its deduce_membership_in_bool() method:***"
   ]
  },
  {
   "cell_type": "code",
   "execution_count": 9,
   "metadata": {},
   "outputs": [
    {
     "data": {
      "text/html": [
       "<strong id=\"complex_membership_is_bool\"><a class=\"ProveItLink\" href=\"proofs/complex_membership_is_bool/thm_proof.ipynb\">complex_membership_is_bool</a> (conjecture without proof):<br></strong> <a class=\"ProveItLink\" href=\"../__pv_it/theorems/ee7c13e8ecca6cfb910af27cc1fae10bf6a304ab0/theorem_expr.ipynb\"><img src=\"data:image/png;base64,iVBORw0KGgoAAAANSUhEUgAAAJoAAAAUBAMAAACHazmMAAAAMFBMVEX///8QEBCIiIhmZma6urrM\n",
       "zMxUVFQiIiJERETc3Nzu7u6qqqp2dnaYmJgyMjIAAAAcRTyBAAAAAXRSTlMAQObYZgAAAihJREFU\n",
       "OMtjYMAAnBcgGBfgnoBb/AGIcRdZdAUUYwF6dR8rDBgy0UTVJfofljkwgMRPg/ivkCVfQjEmCP3N\n",
       "sPivAcM6dPEHQVxdtgwg8RkgvzUgSfEaQDAm4GVTYGC4b8DAo4Am0eDLoMrBABLnWwCkNiBJsU+A\n",
       "YCRT2svrQPRVRqBaNgMGLgFUcZBpu4GmAcV5T61aNR1Z73QohgPWpgUQhgHIH1xAhz1BFQeZdgQU\n",
       "0kDxHx0dNcialaF4kdoUHbCX1kE1cSUEQ5UcZkAWB5nGUpoKEQdSncim9UIw1wHeInZwhMOikPOA\n",
       "E5R1jwFZHGiaY/1HB4i4MwPXA2TTqiGYZwHPLxZw8MGiiNMAZtp2BmRxsE/P3oGIszMwoSRVEQjm\n",
       "YuCAKGeVewcEIJ82xECVxKOIg03jYLkAFue5wM6AxTQGBn5IQkAkn1dsyKZxoriNgyEBLM75IAwo\n",
       "cMhULQDFp0A5qIAATNNlsGnAsHdHFQeZxgbKVCDxzhQGBqYFeewOKLHAvUAfKAoSMIJp4lABupbl\n",
       "ASwWjFDcxnsAIr65ABgIDG8ZkKIfiP039DPMhSRneNq261mwugNogw2a+IMYhjNmDBBxSPj8hEm5\n",
       "Q/AypUW2kNjhyvCCpWM7+WKQ95+iisNyPVicF+Qf1g+sOHMWywloDoICrgL84gzzeR7wEMz1MICR\n",
       "69HFl105dAom2MmAljvQwTpSxPGUlgjriBYnVJLzTsApDgBQr51K3/T46wAAAABJRU5ErkJggg==\n",
       "\" style=\"display:inline;vertical-align:middle;\" /></a><br>"
      ],
      "text/plain": [
       "complex_membership_is_bool: forall_{x} ((x in Complex) in BOOLEAN)"
      ]
     },
     "execution_count": 9,
     "metadata": {},
     "output_type": "execute_result"
    }
   ],
   "source": [
    "complex_membership_is_bool = Forall(x, in_bool(InSet(x, Complex)))"
   ]
  },
  {
   "cell_type": "code",
   "execution_count": 10,
   "metadata": {},
   "outputs": [
    {
     "name": "stdout",
     "output_type": "stream",
     "text": [
      "These theorems may now be imported from the theory package: proveit.numbers.number_sets.complex_numbers\n"
     ]
    }
   ],
   "source": [
    "%end theorems"
   ]
  },
  {
   "cell_type": "code",
   "execution_count": null,
   "metadata": {},
   "outputs": [],
   "source": []
  }
 ],
 "metadata": {
  "kernelspec": {
   "display_name": "Python 3",
   "language": "python",
   "name": "python3"
  }
 },
 "nbformat": 4,
 "nbformat_minor": 0
}