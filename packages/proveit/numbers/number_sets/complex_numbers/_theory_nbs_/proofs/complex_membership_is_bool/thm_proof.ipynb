{
 "cells": [
  {
   "cell_type": "markdown",
   "metadata": {},
   "source": [
    "Proof of <a class=\"ProveItLink\" href=\"../../../../../../_theory_nbs_/theory.ipynb\">proveit</a>.<a class=\"ProveItLink\" href=\"../../../../../_theory_nbs_/theory.ipynb\">numbers</a>.<a class=\"ProveItLink\" href=\"../../../../_theory_nbs_/theory.ipynb\">number_sets</a>.<a class=\"ProveItLink\" href=\"../../theory.ipynb\">complex_numbers</a>.<a class=\"ProveItLink\" href=\"../../theorems.ipynb#complex_membership_is_bool\">complex_membership_is_bool</a> theorem\n",
    "========"
   ]
  },
  {
   "cell_type": "code",
   "execution_count": 1,
   "metadata": {},
   "outputs": [],
   "source": [
    "import proveit\n",
    "theory = proveit.Theory() # the theorem's theory"
   ]
  },
  {
   "cell_type": "code",
   "execution_count": 2,
   "metadata": {},
   "outputs": [
    {
     "data": {
      "text/html": [
       "Under these <a href=\"presumptions.txt\">presumptions</a>, we begin our proof of<br><strong id=\"complex_membership_is_bool\">complex_membership_is_bool:</strong> <a class=\"ProveItLink\" href=\"../../../__pv_it/theorems/7d683e7b8764fe74e380f29bc81e53adc857ade20/expr.ipynb\"><img src=\"data:image/png;base64,iVBORw0KGgoAAAANSUhEUgAAAJoAAAAUBAMAAACHazmMAAAAMFBMVEX///8QEBCIiIhmZma6urrM\n",
       "zMxUVFQiIiJERETc3Nzu7u6qqqp2dnaYmJgyMjIAAAAcRTyBAAAAAXRSTlMAQObYZgAAAihJREFU\n",
       "OMtjYMAAnBcgGBfgnoBb/AGIcRdZdAUUYwF6dR8rDBgy0UTVJfofljkwgMRPg/ivkCVfQjEmCP3N\n",
       "sPivAcM6dPEHQVxdtgwg8RkgvzUgSfEaQDAm4GVTYGC4b8DAo4Am0eDLoMrBABLnWwCkNiBJsU+A\n",
       "YCRT2svrQPRVRqBaNgMGLgFUcZBpu4GmAcV5T61aNR1Z73QohgPWpgUQhgHIH1xAhz1BFQeZdgQU\n",
       "0kDxHx0dNcialaF4kdoUHbCX1kE1cSUEQ5UcZkAWB5nGUpoKEQdSncim9UIw1wHeInZwhMOikPOA\n",
       "E5R1jwFZHGiaY/1HB4i4MwPXA2TTqiGYZwHPLxZw8MGiiNMAZtp2BmRxsE/P3oGIszMwoSRVEQjm\n",
       "YuCAKGeVewcEIJ82xECVxKOIg03jYLkAFue5wM6AxTQGBn5IQkAkn1dsyKZxoriNgyEBLM75IAwo\n",
       "cMhULQDFp0A5qIAATNNlsGnAsHdHFQeZxgbKVCDxzhQGBqYFeewOKLHAvUAfKAoSMIJp4lABupbl\n",
       "ASwWjFDcxnsAIr65ABgIDG8ZkKIfiP039DPMhSRneNq261mwugNogw2a+IMYhjNmDBBxSPj8hEm5\n",
       "Q/AypUW2kNjhyvCCpWM7+WKQ95+iisNyPVicF+Qf1g+sOHMWywloDoICrgL84gzzeR7wEMz1MICR\n",
       "69HFl105dAom2MmAljvQwTpSxPGUlgjriBYnVJLzTsApDgBQr51K3/T46wAAAABJRU5ErkJggg==\n",
       "\" style=\"display:inline;vertical-align:middle;\" /></a><br>(see <a class=\"ProveItLink\" href=\"../../../__pv_it/theorems/2ac38dbb7a99d4886c5ea6c7f2a9f46a92a79d880/dependencies.ipynb\">dependencies</a>)<br>"
      ],
      "text/plain": [
       "complex_membership_is_bool: forall_{x} ((x in Complex) in BOOLEAN)"
      ]
     },
     "execution_count": 2,
     "metadata": {},
     "output_type": "execute_result"
    }
   ],
   "source": [
    "%proving complex_membership_is_bool"
   ]
  },
  {
   "cell_type": "code",
   "execution_count": null,
   "metadata": {},
   "outputs": [],
   "source": []
  }
 ],
 "metadata": {
  "kernelspec": {
   "display_name": "Python 3",
   "language": "python",
   "name": "python3"
  }
 },
 "nbformat": 4,
 "nbformat_minor": 0
}