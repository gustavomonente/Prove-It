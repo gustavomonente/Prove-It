{
 "cells": [
  {
   "cell_type": "markdown",
   "metadata": {},
   "source": [
    "Proof of <a class=\"ProveItLink\" href=\"../../../../../../_theory_nbs_/theory.ipynb\">proveit</a>.<a class=\"ProveItLink\" href=\"../../../../../_theory_nbs_/theory.ipynb\">numbers</a>.<a class=\"ProveItLink\" href=\"../../../../_theory_nbs_/theory.ipynb\">number_sets</a>.<a class=\"ProveItLink\" href=\"../../theory.ipynb\">complex_numbers</a>.<a class=\"ProveItLink\" href=\"../../theorems.ipynb#real_neg_within_complex\">real_neg_within_complex</a> theorem\n",
    "========"
   ]
  },
  {
   "cell_type": "code",
   "execution_count": 1,
   "metadata": {},
   "outputs": [],
   "source": [
    "import proveit\n",
    "theory = proveit.Theory() # the theorem's theory"
   ]
  },
  {
   "cell_type": "code",
   "execution_count": 2,
   "metadata": {},
   "outputs": [
    {
     "data": {
      "text/html": [
       "Under these <a href=\"presumptions.txt\">presumptions</a>, we begin our proof of<br><strong id=\"real_neg_within_complex\">real_neg_within_complex:</strong> <a class=\"ProveItLink\" href=\"../../../__pv_it/theorems/e187cf7d541e493b003feef6cd75a9ea8fa6d45b0/expr.ipynb\"><img src=\"data:image/png;base64,iVBORw0KGgoAAAANSUhEUgAAAEgAAAAPBAMAAAC1npSgAAAAMFBMVEX///+IiIiqqqq6urpmZmZ2\n",
       "dnbc3NzMzMxUVFTu7u4yMjJEREQQEBAiIiKYmJgAAACIyPRpAAAAAXRSTlMAQObYZgAAAOtJREFU\n",
       "KM9jeHt6/6rTDxhwAalbf247MDAsmMFQ/XoCg/VuIJiArqb8E8OUf0BFG1IZuNkasJvDxyHAwPAe\n",
       "ooglYQGK3Ou7d+9eBzGe8wDN5oAp2oCsJisMxnLIBhKcAmBFHMwo1l2DMTgbSqAsoCJdL2QXsyjA\n",
       "WGwBhjBFOXdvKSAbxAtnsTnAFaWacKN4PQPO4txQClfEYo7i7tkI5koOhJt2PsRuHcMTsKIJYEUV\n",
       "LAVIilgF4ExuYSCbeQE4WlgV2pGNWoRgem2dMAkYWcAIXs6wez2y/2Y0wz3C7nX+SgH2KCvdC40W\n",
       "KAAA4VNK37TZLg4AAAAASUVORK5CYII=\n",
       "\" style=\"display:inline;vertical-align:middle;\" /></a><br>(see <a class=\"ProveItLink\" href=\"../../../__pv_it/theorems/002caccf86ffaa420d53438b61aa4915c5e239c50/dependencies.ipynb\">dependencies</a>)<br>"
      ],
      "text/plain": [
       "real_neg_within_complex: RealNeg proper_subset Complex"
      ]
     },
     "execution_count": 2,
     "metadata": {},
     "output_type": "execute_result"
    }
   ],
   "source": [
    "%proving real_neg_within_complex"
   ]
  },
  {
   "cell_type": "code",
   "execution_count": null,
   "metadata": {},
   "outputs": [],
   "source": []
  }
 ],
 "metadata": {
  "kernelspec": {
   "display_name": "Python 3",
   "language": "python",
   "name": "python3"
  }
 },
 "nbformat": 4,
 "nbformat_minor": 0
}