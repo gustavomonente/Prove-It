{
 "cells": [
  {
   "cell_type": "markdown",
   "metadata": {},
   "source": [
    "Proof of <a class=\"ProveItLink\" href=\"../../../../../../_theory_nbs_/theory.ipynb\">proveit</a>.<a class=\"ProveItLink\" href=\"../../../../../_theory_nbs_/theory.ipynb\">numbers</a>.<a class=\"ProveItLink\" href=\"../../../../_theory_nbs_/theory.ipynb\">number_sets</a>.<a class=\"ProveItLink\" href=\"../../theory.ipynb\">complex_numbers</a>.<a class=\"ProveItLink\" href=\"../../theorems.ipynb#int_within_complex\">int_within_complex</a> theorem\n",
    "========"
   ]
  },
  {
   "cell_type": "code",
   "execution_count": 1,
   "metadata": {},
   "outputs": [],
   "source": [
    "import proveit\n",
    "theory = proveit.Theory() # the theorem's theory"
   ]
  },
  {
   "cell_type": "code",
   "execution_count": 2,
   "metadata": {},
   "outputs": [
    {
     "data": {
      "text/html": [
       "Under these <a href=\"presumptions.txt\">presumptions</a>, we begin our proof of<br><strong id=\"int_within_complex\">int_within_complex:</strong> <a class=\"ProveItLink\" href=\"../../../__pv_it/theorems/f3016523f67b77b4ea934724c0c560f38200f6720/expr.ipynb\"><img src=\"data:image/png;base64,iVBORw0KGgoAAAANSUhEUgAAADkAAAAPBAMAAACsFXoGAAAAMFBMVEX///9UVFTc3Nzu7u6qqqp2\n",
       "dnbMzMxmZmZERESIiIiYmJgyMjIQEBAiIiK6uroAAABqpg13AAAAAXRSTlMAQObYZgAAAOxJREFU\n",
       "GNNj4LvzZ/fZPQsY0ADn3v1n24FUewLDBg50SbZ8B+b65QwM7AEMrA5x6LILJBkYuL4DZQ0YFNkK\n",
       "IGJcvXfv3k0AMRIOA0lxsGAzhwGYZtqqANXKztQAJC3BOiasgojxwiQZDGGmMTBYMDdAGCVwa1X5\n",
       "JsCYYoxQPRfgsupwWb6CpxAGkwBc1oItAMriZgAaHAxkwCwAiRnAVIawPmBgOIBqMlcBSJYZZJ4i\n",
       "0Adg2UhEaHS+BBKvGRg4DJoZmKXAhnI7wGXZdwQzezQzMLzpPtFx/gTYe8yCj+HS6Xv+lqGHfQQ0\n",
       "JGEAAJvONZBYk+5SAAAAAElFTkSuQmCC\n",
       "\" style=\"display:inline;vertical-align:middle;\" /></a><br>(see <a class=\"ProveItLink\" href=\"../../../__pv_it/theorems/2357dc530ddcf3488095656607acbbc2d4211eeb0/dependencies.ipynb\">dependencies</a>)<br>"
      ],
      "text/plain": [
       "int_within_complex: Integer proper_subset Complex"
      ]
     },
     "execution_count": 2,
     "metadata": {},
     "output_type": "execute_result"
    }
   ],
   "source": [
    "%proving int_within_complex"
   ]
  },
  {
   "cell_type": "code",
   "execution_count": null,
   "metadata": {},
   "outputs": [],
   "source": []
  }
 ],
 "metadata": {
  "kernelspec": {
   "display_name": "Python 3",
   "language": "python",
   "name": "python3"
  }
 },
 "nbformat": 4,
 "nbformat_minor": 0
}