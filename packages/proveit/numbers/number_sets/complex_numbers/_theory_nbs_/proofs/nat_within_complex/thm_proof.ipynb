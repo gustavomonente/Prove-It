{
 "cells": [
  {
   "cell_type": "markdown",
   "metadata": {},
   "source": [
    "Proof of <a class=\"ProveItLink\" href=\"../../../../../../_theory_nbs_/theory.ipynb\">proveit</a>.<a class=\"ProveItLink\" href=\"../../../../../_theory_nbs_/theory.ipynb\">numbers</a>.<a class=\"ProveItLink\" href=\"../../../../_theory_nbs_/theory.ipynb\">number_sets</a>.<a class=\"ProveItLink\" href=\"../../theory.ipynb\">complex_numbers</a>.<a class=\"ProveItLink\" href=\"../../theorems.ipynb#nat_within_complex\">nat_within_complex</a> theorem\n",
    "========"
   ]
  },
  {
   "cell_type": "code",
   "execution_count": 1,
   "metadata": {},
   "outputs": [],
   "source": [
    "import proveit\n",
    "theory = proveit.Theory() # the theorem's theory"
   ]
  },
  {
   "cell_type": "code",
   "execution_count": 2,
   "metadata": {},
   "outputs": [
    {
     "data": {
      "text/html": [
       "Under these <a href=\"presumptions.txt\">presumptions</a>, we begin our proof of<br><strong id=\"nat_within_complex\">nat_within_complex:</strong> <a class=\"ProveItLink\" href=\"../../../__pv_it/theorems/3a0bfce36b42ef81e729c856675fc9c62f26f9880/expr.ipynb\"><img src=\"data:image/png;base64,iVBORw0KGgoAAAANSUhEUgAAADoAAAAPBAMAAABHIsEFAAAAMFBMVEX///9mZmaqqqrc3NyIiIgi\n",
       "IiJUVFTMzMyYmJi6uroQEBB2dnZEREQyMjLu7u4AAAA1o4RqAAAAAXRSTlMAQObYZgAAAO1JREFU\n",
       "GNNjePvn7AOGXb8mMKAB39hfMQIMDCfYExj4PqBLln9iePgDKJta4MLAsABNkoPNgYGhHyibeY6t\n",
       "gCEAItgTGhoaDmK0cz1gYGADyiaX8d2DytpuhukVsAESfED9yUwOZVDZYJgkX0IhlJXMsJPDASzL\n",
       "qACTZd4wBS7L9iAdLMsKdxSzAEKWL4EX7GYzuCzfgWq4LEM1O1j2DcJH99gQshwKB1BNZmgEywJ9\n",
       "lQ6kNoNluR3gsjyeQDbnBQaGSyDXXgCLXUJolj394NGZBwylv4D6+CCyzzIfwGTZZdcHFqAFb/VR\n",
       "aEhCAQAV6z3ys43ydQAAAABJRU5ErkJggg==\n",
       "\" style=\"display:inline;vertical-align:middle;\" /></a><br>(see <a class=\"ProveItLink\" href=\"../../../__pv_it/theorems/78f655fc2dc045be2d58bc4d3f1b2b140cda62750/dependencies.ipynb\">dependencies</a>)<br>"
      ],
      "text/plain": [
       "nat_within_complex: Natural proper_subset Complex"
      ]
     },
     "execution_count": 2,
     "metadata": {},
     "output_type": "execute_result"
    }
   ],
   "source": [
    "%proving nat_within_complex"
   ]
  },
  {
   "cell_type": "code",
   "execution_count": null,
   "metadata": {},
   "outputs": [],
   "source": []
  }
 ],
 "metadata": {
  "kernelspec": {
   "display_name": "Python 3",
   "language": "python",
   "name": "python3"
  }
 },
 "nbformat": 4,
 "nbformat_minor": 0
}