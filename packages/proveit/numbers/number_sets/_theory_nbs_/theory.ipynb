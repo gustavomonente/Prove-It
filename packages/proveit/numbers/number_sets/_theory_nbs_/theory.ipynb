{
 "cells": [
  {
   "cell_type": "markdown",
   "metadata": {},
   "source": [
    "Theory of <a class=\"ProveItLink\" href=\"../../../_theory_nbs_/theory.ipynb\">proveit</a>.<a class=\"ProveItLink\" href=\"../../_theory_nbs_/theory.ipynb\">numbers</a>.number_sets\n",
    "========\n",
    "\n",
    "There are three main sets of numbers: integers, reals, and complexes."
   ]
  },
  {
   "cell_type": "code",
   "execution_count": 1,
   "metadata": {},
   "outputs": [
    {
     "data": {
      "text/html": [
       "<h3>Local content of this theory</h3>"
      ],
      "text/plain": [
       "<IPython.core.display.HTML object>"
      ]
     },
     "metadata": {},
     "output_type": "display_data"
    },
    {
     "data": {
      "text/html": [
       "<table><tr>\n",
       "<th><a class=\"ProveItLink\" href=\"common.ipynb\">common expressions</a></th>\n",
       "<th><a class=\"ProveItLink\" href=\"axioms.ipynb\">axioms</a></th>\n",
       "<th><a class=\"ProveItLink\" href=\"theorems.ipynb\">theorems</a></th>\n",
       "<th><a class=\"ProveItLink\" href=\"demonstrations.ipynb\">demonstrations</a></th>\n",
       "</tr></table>\n",
       "<h3>Sub-theories</h3>\n",
       "<table>\n",
       "<tr><th><a class=\"ProveItLink\" href=\"../natural_numbers/_theory_nbs_/theory.ipynb\">natural_numbers</a></th><td>positive whole numbers starting from zero</td></tr>\n",
       "<tr><th><a class=\"ProveItLink\" href=\"../integers/_theory_nbs_/theory.ipynb\">integers</a></th><td>positive and negative whole numbers</td></tr>\n",
       "<tr><th><a class=\"ProveItLink\" href=\"../rational_numbers/_theory_nbs_/theory.ipynb\">rational_numbers</a></th><td>ratios of integers</td></tr>\n",
       "<tr><th><a class=\"ProveItLink\" href=\"../real_numbers/_theory_nbs_/theory.ipynb\">real_numbers</a></th><td>includes irrational numbers (e.g., the square root of 2 is not rational)</td></tr>\n",
       "<tr><th><a class=\"ProveItLink\" href=\"../complex_numbers/_theory_nbs_/theory.ipynb\">complex_numbers</a></th><td>extends real numbers via the imaginary number (square root of -1)</td></tr>\n",
       "</table>\n"
      ],
      "text/plain": [
       "<IPython.core.display.HTML object>"
      ]
     },
     "metadata": {},
     "output_type": "display_data"
    },
    {
     "data": {
      "text/html": [
       "<h3>All axioms contained within this theory</h3>"
      ],
      "text/plain": [
       "<IPython.core.display.HTML object>"
      ]
     },
     "metadata": {},
     "output_type": "display_data"
    },
    {
     "data": {
      "text/html": [
       "This theory contains no axioms directly."
      ],
      "text/plain": [
       "<IPython.core.display.HTML object>"
      ]
     },
     "metadata": {},
     "output_type": "display_data"
    },
    {
     "data": {
      "text/html": [
       "<h4>proveit.numbers.number_sets.natural_numbers</h4>"
      ],
      "text/plain": [
       "<IPython.core.display.HTML object>"
      ]
     },
     "metadata": {},
     "output_type": "display_data"
    },
    {
     "data": {
      "text/html": [
       "<dt><a class=\"ProveItLink\" href=\"../natural_numbers/_theory_nbs_/axioms.ipynb#zero_in_nats\">proveit.numbers.number_sets.natural_numbers.zero_in_nats</a></dt><dd><a class=\"ProveItLink\" href=\"../natural_numbers/__pv_it/axioms/0b15b4387138326157a681ee81e504aafbe547fc0/expr.ipynb\"><img src=\"data:image/png;base64,iVBORw0KGgoAAAANSUhEUgAAADMAAAAPBAMAAAC7N+rPAAAAMFBMVEX///9mZma6urpUVFREREQQ\n",
       "EBDc3NwiIiLu7u6qqqoyMjLMzMyYmJiIiIh2dnYAAADXmt2vAAAAAXRSTlMAQObYZgAAAONJREFU\n",
       "GNNjYOC785oBBXR98WpgePpVgYFhJUN7AqqcD7cBA8cHBgaeAAa+BahS5hvuMjAEMDCwGDBw/gCL\n",
       "8LiXV4EZRh7MGxgKGBj4DRiYfoIEuH0boLrMNnOsAEn1CzAw/QXbDpNhMOO8sBkklf+AgRssZQa3\n",
       "y4zhEc8FkJQAA/c/kIADkhRzgzWSgdxRq4AAKsVhwBUAdgYnyBlsyLoY9nGDHO/AwAN2fACyFM8E\n",
       "ByQvy8KlrIH4GciQSobWDSAB9gkwqZVAzAhS3nfXGizAYaIBkdn+FaiDAyXwmJ5AAwoKAGQvOOyD\n",
       "fUpGAAAAAElFTkSuQmCC\n",
       "\" style=\"display:inline;vertical-align:middle;\" /></a></dd>"
      ],
      "text/plain": [
       "<IPython.core.display.HTML object>"
      ]
     },
     "metadata": {},
     "output_type": "display_data"
    },
    {
     "data": {
      "text/html": [
       "<dt><a class=\"ProveItLink\" href=\"../natural_numbers/_theory_nbs_/axioms.ipynb#successor_in_nats\">proveit.numbers.number_sets.natural_numbers.successor_in_nats</a></dt><dd><a class=\"ProveItLink\" href=\"../natural_numbers/__pv_it/axioms/2db81787f6a0f99da3aba01d94e3b9282244bf690/expr.ipynb\"><img src=\"data:image/png;base64,iVBORw0KGgoAAAANSUhEUgAAAK4AAAAUBAMAAADmcxvOAAAAMFBMVEX///8QEBCIiIhmZma6urrM\n",
       "zMxUVFQiIiJERETc3Nzu7u6qqqp2dnaYmJgyMjIAAAAcRTyBAAAAAXRSTlMAQObYZgAAAoRJREFU\n",
       "OMullc+L00AUx7/9kbRNk9aDgnjQyB4U8dA/YCtdPOhhD7t7UA+CUdzDehJUqrisIoIpXsKCWhYW\n",
       "46XCirUoRT2IZaseFCSoB2VVIihCD7UHBfUgvskktakZURz4NjMvk8+892beFPhjW/QV3e4K7FkL\n",
       "cFnnjWCCcppL0GRraPonswN1w2rMAE+YoSP4MGdxRfm0jjjukDHt7AJuAHWgSsOMyKXnvgZwOn/W\n",
       "Hn2n3+XhAI7FdcQAVUfOpkdDwD3h63cuNMa94g9elsue6/JOexopCmQVtMdLS5cE2MxhLiE3V/L6\n",
       "e7YE/l4w6jZx8R74apqzAm68wDU+Mz+iR3HVgrddnV8beVMyGLcNTAMVATftcLVMXfkWxdXc8LGQ\n",
       "LbX0jHHfAtvD2yodeYCNBu+nGp6kxhwyX6K4WS9J6cGDd0jeTZ3b9CHiTmC/1i7ijmonbD6MlTwp\n",
       "ymdoPRZ2t/txfbdr9LkSs2KySy3wvIZ31NlHk51UgNXOL9i4pxdUhLjI9iC7Uf5ybnXQX6k1ybkZ\n",
       "l86yVpwaYSmh1mzOB1w/D0i4yDt2BDfp5SEWKsAVlpYdpMpBmjXmxCxe0031+t6hfYu1cN9uCfct\n",
       "ofe5ExR/le8bbtGiC5uQtxXv1DTRavvT2DFiulzCU20izI0zboIvdrJf96zAtpFGSXk29QDGIB03\n",
       "zTPEXQwSzsJkoqguroTzm9j/o0gcvljtLE+SdGotvMsBH1gwzLgGoxIM7m9y6i/q2GtX/ef4uXLo\n",
       "ClKCIs30cLSJh6z7AngtvncUe3C0LCgoNVg9aWCrgzSlJzlXgtwvOItLdD27ghf1ofFmyu8/3OvC\n",
       "JSvA//wPvRLYNQs/AZLfsi9LVhx/AAAAAElFTkSuQmCC\n",
       "\" style=\"display:inline;vertical-align:middle;\" /></a></dd>"
      ],
      "text/plain": [
       "<IPython.core.display.HTML object>"
      ]
     },
     "metadata": {},
     "output_type": "display_data"
    },
    {
     "data": {
      "text/html": [
       "<dt><a class=\"ProveItLink\" href=\"../natural_numbers/_theory_nbs_/axioms.ipynb#successor_is_injective\">proveit.numbers.number_sets.natural_numbers.successor_is_injective</a></dt><dd><a class=\"ProveItLink\" href=\"../natural_numbers/__pv_it/axioms/9e4396fabb1b2957ddb0ff2e7fec348589d6992e0/expr.ipynb\"><img src=\"data:image/png;base64,iVBORw0KGgoAAAANSUhEUgAAAQ8AAAAWBAMAAAAsrwTqAAAAMFBMVEX///8QEBCIiIhmZma6urrM\n",
       "zMxUVFQiIiJERETc3Nzu7u6qqqp2dnaYmJgyMjIAAAAcRTyBAAAAAXRSTlMAQObYZgAAAzxJREFU\n",
       "SMe9lk1oE0EUx//52KTJbqyXXiVSqMVWCCgUoZUtgnoQbCuIhyKhWFAPEtCDitTgKcVLqFBLoXRF\n",
       "UKiIgRo/DqXB6qVCWdCDRYWKIFR0KaKi4sE3s7szu5vaRDAOtHn73puZ37557+0A/2VMbWx+RH8r\n",
       "THjTYI5kfmN7rAg8Y8KHBoNsKtYApXBM0G8i32CQ57UcHhOsAWilBoOcr+VwHUgtzsxcazBHIlfz\n",
       "7HTge6Fwsc71qlXKRuY+VwhngIMnx1rTAQfStaUH2whCI49hYLQGgW7/VIIUeai6fPSbjwL3XLnJ\n",
       "JGshnfzBHpYsNt7xGaT7rKub6VwoW/fynF1nKGeeYGuWSXlRYz77Tor4bl8JynG4C4i4mngJSmkE\n",
       "ia+BBZjuF1JrgEpLxRE2qyluL/TgoWZEDAky6C189i9Ks28KlTRz+P1UlFlHEdKRTH7hO/qKlnTq\n",
       "T8RoeYVMmhmv5khdmTQwl85okCDDHnuTCyI7hDTnHRCsShCoa4gFI0+6SA6htA2SWDlCG/cMtIbb\n",
       "WHYxiZ0XjXJ5zAuS83gJEBnNnDPVA7JDHg0iK2g2DZEj75medPEKDhUNvhRGj9P2vWboVJiFkklF\n",
       "u/GXtTuDEoRqUHoJEDWLEwUapmMuekHue5I1VMG8EUh30t3VsSdR4smKWVpvchua9QjzY5KRzHAQ\n",
       "VBYkSDTv8RIgUbcpO2bDC3LAsbHinNaxlOrzg5BuHvhIYeeLNrPyHkI/jyCTeqGcKxQuE8hU3AOS\n",
       "FV6nrbeWZXIQxT1329yLmGVtsT7ZIMdcW44/j78K5Ajp6CxnlynVeFawt2hBO6Z5e2pBt2InfhnR\n",
       "AQlCXUN6yYhkCYuGaZu7FW9E9tXd4m+JrrhGr/NSw4RB0tkynjLlC+C1BEnmhJcDwoo/5R67baap\n",
       "jvsDuLPr/OiJwK5ifBH9JZI6TTTRKUVHdLtfOFVzQXjZIImub2lERGvl5k7Tcb96aQjYJaq9jmtA\n",
       "YLjf4XbKEX9jQEewj/CvlVB1BNzdS1c9F6NqUHVd9Lx/c688V60SIKpZ71Vxubqj4s8gUbP6S2vX\n",
       "ecDsvsyNf36fyMgrbmCEDf8N2De2/80evwFuC/AXsH+S+AAAAABJRU5ErkJggg==\n",
       "\" style=\"display:inline;vertical-align:middle;\" /></a></dd>"
      ],
      "text/plain": [
       "<IPython.core.display.HTML object>"
      ]
     },
     "metadata": {},
     "output_type": "display_data"
    },
    {
     "data": {
      "text/html": [
       "<dt><a class=\"ProveItLink\" href=\"../natural_numbers/_theory_nbs_/axioms.ipynb#zero_not_successor\">proveit.numbers.number_sets.natural_numbers.zero_not_successor</a></dt><dd><a class=\"ProveItLink\" href=\"../natural_numbers/__pv_it/axioms/ed802e3f58a7c0044280074ac9ac145e785ada4a0/expr.ipynb\"><img src=\"data:image/png;base64,iVBORw0KGgoAAAANSUhEUgAAAKsAAAAUCAMAAADFqj2LAAAAOVBMVEX///8kJCQNDQ0oKCgQEBCI\n",
       "iIhmZma6urrMzMxUVFQiIiJERETc3Nzu7u6qqqp2dnaYmJgyMjIAAAD9T1yxAAAAAXRSTlMAQObY\n",
       "ZgAAAllJREFUSMe1V9lirCAMtb3sBBL4/48ti6hRx9G5LQ9mxp6Bk5OFdJr+YwFx+2RFePEHDC/R\n",
       "aflOT08Mnttny56ThcSIS0KzoDGO9yk8PC0BtzcFFf2ckM5d0NsTCrngYKBhiAJP1SHF7TkzyUNh\n",
       "0eYwNDuTdcuCRMOlBT3kXAW+uRxwe4drJTC4BnEmq9l88bZt0X7Q0IShLnBPC8tx+5jrlPS1rFNu\n",
       "XHWOCzr7uhw+5CoVsxotgJRK3ueKx+TxW1lDVp2rXNBddg8PuXpiFifvZd0fbnOltbowtfXvuz6H\n",
       "C5CbfqZzbWitXldlhTqFRX4p7C5d49aaOLlWqtnc5hrdpaxlL9W54oquD3lsriGiUuV19K0/q11L\n",
       "E3prQ1FUNyZcKieasWdcTd7LwuXgOdDRSJ3vzn8fIdRtI8lJ1SBfca3l2uo43c/XA9d9Hua5D8QV\n",
       "Xa6K2SNSZGQvFr0kfjTRgDxw5TlQdG8sM03hLlfteL5+9RisQfB+84MZ7WG+LUiLorEAdvdGU3KA\n",
       "DF7X1iRw7oX4QW2d33/bu2Cgo+qcIcj6oW4W1JZrOf/QYMaL2UJL17IvmWuucuGquPv62MJqzIIw\n",
       "DJ3HjrZ80KJVf+u6tQ1VrmWS2mf0iOBsuwFL8TJflRU5qR6KxFvGyTwSUMpxkw00DVj1oThQnpbp\n",
       "Omkjf+mOXYlw76O6Hur2WkGtNadb1BenqeUy4UezS3g9vO1mlzdj3mHS0VVNiS1EPo4Y93vbHm8u\n",
       "OG81N6dfXlkRn6APRTDn6x/N2jsP38j6mR6/9D8M7Q7X79E/LBUdTFd8/fwAAAAASUVORK5CYII=\n",
       "\" style=\"display:inline;vertical-align:middle;\" /></a></dd>"
      ],
      "text/plain": [
       "<IPython.core.display.HTML object>"
      ]
     },
     "metadata": {},
     "output_type": "display_data"
    },
    {
     "data": {
      "text/html": [
       "<dt><a class=\"ProveItLink\" href=\"../natural_numbers/_theory_nbs_/axioms.ipynb#induction\">proveit.numbers.number_sets.natural_numbers.induction</a></dt><dd><a class=\"ProveItLink\" href=\"../natural_numbers/__pv_it/axioms/686d1cedc7f4626207df4441b237d5dccafe32ed0/expr.ipynb\"><img src=\"data:image/png;base64,iVBORw0KGgoAAAANSUhEUgAAAfEAAAAWBAMAAAAiKrjAAAAAMFBMVEX///8QEBCIiIhmZma6urrM\n",
       "zMxUVFQiIiJERETc3Nzu7u6qqqp2dnaYmJgyMjIAAAAcRTyBAAAAAXRSTlMAQObYZgAABZ5JREFU\n",
       "WMPlWF1oHFUUPu7ubHZnf5KH4oOoHVLwoaBdLQqWPiwRKfq0T4liwUUbtVB0xUKRSlgE7UaJDAi2\n",
       "LzZbRBNCWKN5kPqDazpKmwYNWn8Kti60BtrikkQq1SjxnnvunTsze2eypY89cJK959y53/fN3Dn3\n",
       "3gG4LksvKg+x44F2rF2KHPJd4VrL2OHx8/tD0hHkJEH0FjbOdat8Unn27q870rMLzTPJAJtsMRLC\n",
       "rJKH2F7QgvC4o00TQeqF8Et444vMG9feqsNXK0UkiH4a05e7VX5J+RWYCN7x1CJMLpst0bKl8kiI\n",
       "vE2usY/qjG5HlIPwuKNLC4LUi9nSr3ewv2X8OWaUwVwGJIh+BKdHtUvhuYLruT7ItgLp7SzTgjnR\n",
       "uiCVR0L8IFzZx2Iy7HuBKc9aoAXBuKNLE0HRi/2xoNGENFf+bKkfoA84QeZ5HH6mS+U9tuupMmT+\n",
       "IaRDB0aI61WAhAXHqK9xqC6UR0K8LLxDOcBv7DqzD7QgGHdUGm3UQ1L0YtOaec0+ykvNnjeSJagA\n",
       "J8g8Nz81dbjbyX5YeW8ZEmtc4at1kU38x1olyBd5KzlgCeVREOkKeZhyuAhaEIw7bprbYx6SshfE\n",
       "kcH6GtWMQfMyKkeC6NdqtVe6Vb5F+YcFSKxirFF3i9U6r3nZAm81oCKUR0HECuRm/96BOZ3yE6AF\n",
       "wbjjptUsFwRlL7L3RbXMWINICgmiD9M82b3wBZ8S9MDcpt/GlI83wVgNVN9t63/Z4v3C0nlaKh9W\n",
       "UzE4OqtE3KfhZ2tEp/w8aEEw7sh0/AC3PxVJ2SuwTjg5q0IE0R/ihS5RgC95mioRNadrtddhaGcx\n",
       "dqu49qDy8QIY/6oL6Hn8tPk2ttbSs67AUamcIJS5YOylnCGfh+/qj+iUfwJaEIw7blos8ldckrIX\n",
       "ZNvcCqQ8WR+uEEH0Hoixe95Th5QHgzeN1/h41XnYIcbepFzOduNOHFmCx9kbZfDVhBXVZEkoJwji\n",
       "/fn2RQUGcEuRvA413v623X6x3V5Syp8ELQjGHZmW1tgkScpegWdulvN9RBA9u9jDor02ZDzKeZPY\n",
       "Zb6PQ7NTOatwmTX/csV6ma5yps4oC+UEwe2X41MeMKUcYFVf4bi0ThCd8vQ+W5KUvYK7ot2GR3m6\n",
       "NYgbitvFC04YvPkZKX/icavZOdtTVcjxVc1dV0wm1GChBJ/ts2JLgcoJYu7+u0qJAnjB1GwH46pe\n",
       "+S7QgmDckek4Tem2LUm6vYLKczNVIshJju7BEe9dKXqU8+aDpLw0/2Ozs8K5O5n73NeM0Ys3ZYW7\n",
       "JNSjcg4Rqz/fU8yr0f0V7tPYMmwNr3AdIL4KJ6pHyyXp9pLvOZ99rNDCqaqqcDBLFemdiq+WsOYp\n",
       "oTwr1ilaQ6QfhGMl+dToxXoJ4BsQkEaVZjwpRwgD/gB4T40udni0wiTWUsvyoOEq34aX7wQtCMYd\n",
       "N+1b+U54evkMC2C8RQQ5yV624zBLuKN1lVNzQChPL0qeuzw+3T9MD/C5RwWpxNPPIME83pAkPtSY\n",
       "JZT38k3N3wBDtVrNUmDuzDOf2rrlXGC2P7D5ArsXv+tBMO6ATIN8pIKk28trQytV2rAjQU4yx+5V\n",
       "ZkbUI1JOzZRNyuFhq3P36pllJ8XGUtgED/KfJaEcIVhRMfhm0gMWvXvlkit6EIw7Ku05IfnJ6WxC\n",
       "kuS3sgqTdaWcmuYYjpErQq7ZeWIJt7ngKZX+j2dbWciWfGDaE8uU72pLD7LRiQU2IOiSjL+9sMNT\n",
       "20Uzc5LtZHZdFIc8eSoYheCWzH/gbumVf3Bmbh7gTR8YljgbxOTSWiMiHnZKHY0WLk+pQat2+2Ui\n",
       "zFK2XrnYp7P3/Hq+TIxGxJ2Q9GS08rB7Xb3Rr1Fng2eSkRv4GpWzw+P37A9Jb/A16qyGZED5EVaI\n",
       "a3DTWOFmEfo/xJoUqTe2m1wAAAAASUVORK5CYII=\n",
       "\" style=\"display:inline;vertical-align:middle;\" /></a></dd>"
      ],
      "text/plain": [
       "<IPython.core.display.HTML object>"
      ]
     },
     "metadata": {},
     "output_type": "display_data"
    },
    {
     "data": {
      "text/html": [
       "<dt><a class=\"ProveItLink\" href=\"../natural_numbers/_theory_nbs_/axioms.ipynb#boolean_natural_membership\">proveit.numbers.number_sets.natural_numbers.boolean_natural_membership</a></dt><dd><a class=\"ProveItLink\" href=\"../natural_numbers/__pv_it/axioms/406dd310d8c46f38dd0b984db7d566aa300c6f490/expr.ipynb\"><img src=\"data:image/png;base64,iVBORw0KGgoAAAANSUhEUgAAAJoAAAAUBAMAAACHazmMAAAAMFBMVEX///8QEBCIiIhmZma6urrM\n",
       "zMxUVFQiIiJERETc3Nzu7u6qqqp2dnaYmJgyMjIAAAAcRTyBAAAAAXRSTlMAQObYZgAAAixJREFU\n",
       "OMuVlD1oFEEUx/85bj9uMxtTpEgVg8HYCIaAVkZOUkQEUVPERvAKA4mFBCFaKOawyZ0g2UJJGnFJ\n",
       "cYQUZ9DCIs2RpJCocIidH2xACwN+dWrlzLzZdWYvm+iDPzv3ezv/m7czb4CWKDRJWdEeZPNIDN7r\n",
       "dEkpHd63yjbY/i5MphKHuue2rhch+Avxe1tPflZqCbc5BjwG6ulENOrdHZJ8QdRW1lL+AKk17Olc\n",
       "L9oA1ptKlM/goCt5R8gfK1rKCUia/+yN29LtVDgOh5fcaXLhtupK7m8uL8/rc+eVkrDuhGptD0r1\n",
       "kLvho8mF28YS8Z+Vyi19cp/SYv/9w7KkejzJDp5YJeG2DoNzt/z0OHH+qOpu90hew7/myA1PttAO\n",
       "WPG1cPsAg6N8cuZHkfgwvEh3u0liIfudl5+v/NcNV+wLfPAMBheVvnpH3EHOOKpdJA8uvW71fOWh\n",
       "3GrY4oNLJhdubr4pOWs62MEN2EcHoaCvzWqcj90KxtpclCQvRPxMYu1o/zmjUp5ToFNzw1t+EjBi\n",
       "cuFmi6YSvHoZyIVXnaKxC+3hEU4FGEzcuD1bSHZh0Fib3yD+dIp/BHyJU+uksytzeEjHOT7bHWJw\n",
       "guu4yRFdxMtjitP3+RWnRki1A4tDtDvexGnajpluUJN+MnjS9ZL7oh7ru5XZWfnnqoPiy2Rqd45H\n",
       "LGJ7dn0cLV2f5rU3a5sxrCLVHemo/w/Pui2h/90/871ucj/I5H8AFOie/mc16OgAAAAASUVORK5C\n",
       "YII=\n",
       "\" style=\"display:inline;vertical-align:middle;\" /></a></dd>"
      ],
      "text/plain": [
       "<IPython.core.display.HTML object>"
      ]
     },
     "metadata": {},
     "output_type": "display_data"
    },
    {
     "data": {
      "text/html": [
       "<dt><a class=\"ProveItLink\" href=\"../natural_numbers/_theory_nbs_/axioms.ipynb#natural_pos_def\">proveit.numbers.number_sets.natural_numbers.natural_pos_def</a></dt><dd><a class=\"ProveItLink\" href=\"../natural_numbers/__pv_it/axioms/320872b8f54076cdd0f5a9f6619f2b3bd3ee6b660/expr.ipynb\"><img src=\"data:image/png;base64,iVBORw0KGgoAAAANSUhEUgAAAMAAAAAaBAMAAAATV059AAAAMFBMVEX///9mZmaqqqrc3NyIiIgi\n",
       "IiJUVFTMzMyYmJi6uroQEBB2dnZEREQyMjLu7u4AAAA1o4RqAAAAAXRSTlMAQObYZgAAAlhJREFU\n",
       "SMfFljFoFEEUhv/cmd29bDJJeSDIdieixCKIVdyAsVCRiDaCgYVTgoWyQkyTQA7BIqbwLGxOxO3S\n",
       "bjAiEU4OEbE4g7GwUE4GK5vAiaAYLZzZvdsZjtndu2DiK475Z+bmm5n33rwF9s603QYM/heAkZeE\n",
       "ThMXuHmudwD5JCuznLxCxVV0bv15S/F8u6wGGM0uAWvLbPG+d6qhN7oD0sT1xsdGo9Q5aE51Bxiy\n",
       "yIXO2W276p4EvJgrSgRsif3cBapxgGsbmoupnQDIU7vdfA2M0hhAcY583hkAmHzRavwAHltxgIw9\n",
       "lwh4WBybsCWA0MCdA+FZvjGADdNTArBu2DKg2uC2GWY3iwu/bpPvEkBoZkeK/Df7G1i0O2JOADQ6\n",
       "wwFZxeAhF7o1jexPAZA0t0c3+F/ZCRZ9YFMNIM6Qp46+BRZ7hPxqby0ASDoAbIgrgnZRCcC87iXk\n",
       "ZqYZ3FR0RUJHV8SdPGoBH9QngGHVpI7QB+FcrRbk53CJCoDQkZNRB+7RDh/o59dx2gFmWPtJLeYE\n",
       "PIoGfBbjvgAILcK0lWjiIr6s5nHYpH1sI+8R94i0ACfKqBquAERaSrR+i6zIWWO8HKc4aI+YwK1t\n",
       "tnuSBHgAHLst+SDS0lNB1k654WwjPzsB3OedhcKYmVYjun3sxGyjUho4imDDBfPrfCrA6xUwPolh\n",
       "SkYCAPzVNEDX9QBou/IKKtAv1+uvGOB4f2od7a2i8fEV7NfhhCfIzaYCMnJN3uem1+RsE5cKeMb1\n",
       "ErD87z8dcg7OlDDI0jo3Xd7FT6GzzAeB/QXp0reiDRbLswAAAABJRU5ErkJggg==\n",
       "\" style=\"display:inline;vertical-align:middle;\" /></a></dd>"
      ],
      "text/plain": [
       "<IPython.core.display.HTML object>"
      ]
     },
     "metadata": {},
     "output_type": "display_data"
    },
    {
     "data": {
      "text/html": [
       "<h4>proveit.numbers.number_sets.integers</h4>"
      ],
      "text/plain": [
       "<IPython.core.display.HTML object>"
      ]
     },
     "metadata": {},
     "output_type": "display_data"
    },
    {
     "data": {
      "text/html": [
       "<dt><a class=\"ProveItLink\" href=\"../integers/_theory_nbs_/axioms.ipynb#integers_def\">proveit.numbers.number_sets.integers.integers_def</a></dt><dd><a class=\"ProveItLink\" href=\"../integers/__pv_it/axioms/449379b76bf9e718868d774f35f2da4f0509d58a0/expr.ipynb\"><img src=\"data:image/png;base64,iVBORw0KGgoAAAANSUhEUgAAAL8AAAAaBAMAAAAUFZBoAAAAMFBMVEX///9UVFTc3Nzu7u6qqqp2\n",
       "dnbMzMxmZmZERESIiIiYmJgyMjIQEBAiIiK6uroAAABqpg13AAAAAXRSTlMAQObYZgAAAtBJREFU\n",
       "SMe1lk2I00AUgF9+Jk3bbSgIi6wIXQ/irREPKj20CLoIgpUKgqhE6cHDlg3o0q2iBFaw4iU3WfDQ\n",
       "g1ZXRANFUHbRKipF0C0ingQrqHhQFHoTEd8k9ic/E7DFgUwy85L3zfubCQCjSR0Yu0XDhMfH1w9K\n",
       "MkTYCJ6OnfFaWlHZSg6zRREzcFq451/mc7aWBMKVd79WXq7WvKK0KjyqNoCsvXIb8MOv5WxIEHS8\n",
       "LmpgyT7RIQC5hnHI0oHtBIF2pO3XcpQN4HE9kTyQ3DGf6CkA9zZqwgQdWLSLjwCANwhQYVrSfegu\n",
       "Ar6ok5CgI1trYhTAgt0vyr5EiDURsDmZUccEXLWVmbf8SYRe4VJ7pWQIQDmwaamC9yMhgO906TsE\n",
       "wx6QFbvZ7pINCiCdZQ+AswYfE/kSZFMAd0MAcxp2k1zKJ4gnKQDWcSU3YJ82eKeYsCCN47jOBqRx\n",
       "w1H0TwEVotuArbDqApx8TfPVsVRTsx1n9RsDipI4N3wF0w/dUfBa4ACk/Kzbgq9DFsB+gA1/rfUH\n",
       "cWDBQYJdcxAD+3XZcRFck/t1kLFjYLhL+KfgjUFpvhN93AfMpYBPTuOw6VkAVcThaskWOjpPuxlf\n",
       "mj4DsUuGs0jYXa6JRgFO9QGYRbK6CMKU4d1EkBjP9TaaDKKUhhfA/wZi1Yfr4OaubSAuRyBPyufK\n",
       "p+nMbfTq5VZ1reVNBKUL0vtWzzH8/T3F9aqvDtrAT+UcwI36ko7pgk9i8YSZ71uwwMwv9yYqXak4\n",
       "qcyq5Dsv4ImzW4laoT4APGAC5oOnSTMQwO9sQxe2OwBC9B5A6DIBs4wDjXEecKbShFK1WjVFja+1\n",
       "e4AY+8zkcsHzASca9eaEFslrnGMBfMbCk5x61ZgAwQqeF4PP5DQkPmqEqot1IJbvCa+HbFMz//T/\n",
       "8AGieMBfwKdvDwF6juGNkE/EEf6LohgD136hwv9vfwAWGK90UNmFmAAAAABJRU5ErkJggg==\n",
       "\" style=\"display:inline;vertical-align:middle;\" /></a></dd>"
      ],
      "text/plain": [
       "<IPython.core.display.HTML object>"
      ]
     },
     "metadata": {},
     "output_type": "display_data"
    },
    {
     "data": {
      "text/html": [
       "<h4>proveit.numbers.number_sets.rational_numbers</h4>"
      ],
      "text/plain": [
       "<IPython.core.display.HTML object>"
      ]
     },
     "metadata": {},
     "output_type": "display_data"
    },
    {
     "data": {
      "text/html": [
       "<dt><a class=\"ProveItLink\" href=\"../rational_numbers/_theory_nbs_/axioms.ipynb#rationals_def\">proveit.numbers.number_sets.rational_numbers.rationals_def</a></dt><dd><a class=\"ProveItLink\" href=\"../rational_numbers/__pv_it/axioms/8e34cbb60891dead9ca24838969b7c8dd61915430/expr.ipynb\"><img src=\"data:image/png;base64,iVBORw0KGgoAAAANSUhEUgAAANkAAAAqCAMAAAAJZg7zAAAAOVBMVEX///8kJCQNDQ0oKCgQEBCq\n",
       "qqp2dnaYmJiIiIjc3NwiIiLu7u66urpUVFQyMjJERERmZmbMzMwAAABdFfPVAAAAAXRSTlMAQObY\n",
       "ZgAAA4BJREFUaN7dmdli4yAMRZkZdrH//8cO4A0c29gJbtLwlLZE9pEQulIRemYx69Edi2mF3rmE\n",
       "kfMLCEcdx9DLNA/6jWCA7fxZYYGQCR29hs37yFyABZKlX9iO1kkgbyMrQjZASt7TfHDvI9M1JAR/\n",
       "k/n3kUGg+fygLyRLOaENIuLLyJCNGcakRrT8u4cvIAPNuReaV/WVnqq2FH6CzDtrrTlb/1uPLsnA\n",
       "YrlT7ctvcEb9DWSgtYx5AkZb6E0Wy/j2JV660cRsBSn6k1nl/EDoDXQn2y68oijuDOdvme5knKHR\n",
       "qAV1xmq4QqbCprN0UQKtHrQH9CYzUdWOjAqdOY8tkVCRUdkK2egpNQXX9NJqQiPPRv+yM/daU9hV\n",
       "Nky8Pd3DF8omCAZPqTBqNBo6dQ6KIzI+2cePbHo9U6wqSLLl0+puDDF1IYja6r+/hVWRhQzyExng\n",
       "TsLR12QtoS3ah6UkG7In8P2QRTI3kE3lXshOaMVpJIg2ZBLBJXpY1g6ZM7O8LJxZ3RHr05gSHndR\n",
       "a7a8QVr3EmgrrsQsHzm1ysyViaBX6Us6BS3eG3a+9RnayrOSlwV1gSywqlXNVv/g2qq1g12YI9ar\n",
       "K6JLpT7jK9e6uyoyNTXeRRxXUV9VahVYv4mRG9SVO2USAj9PpqNJW/tLPbhPJnU1B8rKrtOwYMzp\n",
       "+QOmF259x+nKX48KDijniyjBPacq+W3IWVVTyp8tLX9c7Ym7YL4LGhXERAdfVsSPWv6YrCm6u3ee\n",
       "IvZoxqnLZI+H+JCMUPTTZE+28xta/pCs3Sd9CtmGludH5UihrmTKmLvItrX8fRMejS111s3JTV1j\n",
       "w7OPXmn5+8iAUJfqbaq8FDiUk4bDDc8+elvL9ydjlghIj4ognomlRE5O3d3w7KM3tXy/oZ/j2vi1\n",
       "bnHFeDN2dVzDwYZr4wXZ0PKvTdIWN4H08dUhTzSK8AmyXFFcAuLuYMNFKab2tHwPybAkbboGvMyx\n",
       "K8h5GZE8pDYHGy72qkuMtrT8i2BL/FOXy9PZ9NLmldKZ5umymAZd8flOH2y4GjU8FdwNLf/S6EJK\n",
       "X5zLGD3L0r2wpJ4ieQIw9f7ptCQH7G643q7CrpZ/iaxKECximuVmeJmNO5QzW6bJXnyHmGbM7mz4\n",
       "4KU0J3xoGu14RpnWmlIjY4x8ipWPP6GdDb9k8SmNSnXd2vBbV89/R37WauT3fyIlKrSih1qgAAAA\n",
       "AElFTkSuQmCC\n",
       "\" style=\"display:inline;vertical-align:middle;\" /></a></dd>"
      ],
      "text/plain": [
       "<IPython.core.display.HTML object>"
      ]
     },
     "metadata": {},
     "output_type": "display_data"
    },
    {
     "data": {
      "text/html": [
       "<dt><a class=\"ProveItLink\" href=\"../rational_numbers/_theory_nbs_/axioms.ipynb#rationals_pos_def\">proveit.numbers.number_sets.rational_numbers.rationals_pos_def</a></dt><dd><a class=\"ProveItLink\" href=\"../rational_numbers/__pv_it/axioms/d1c579ce7340ad09185a585e3e442f96696159050/expr.ipynb\"><img src=\"data:image/png;base64,iVBORw0KGgoAAAANSUhEUgAAALoAAAAcBAMAAAAkZbgxAAAAMFBMVEX///8QEBCqqqp2dnaYmJiI\n",
       "iIjc3NwiIiLu7u66urpUVFQyMjJERERmZmbMzMwAAAC8H5PlAAAAAXRSTlMAQObYZgAAArxJREFU\n",
       "SMdjYKAXWEBT0w/Q3XSWKwg2XwM+3W8jSDadYzMSh3kCXu0TH2C19MzplbhMZ/lAlOmmzkCTeTdg\n",
       "kelansCx6wQD1+7d0ru3oEsyFxBjOrcCRxmaWhg4eQ9ow+sG7G7HY3q3A5zpyMBgjd10Vgegh3g6\n",
       "F5BsOod5AIx5ioFBvwGr6dxsF4BWTDhBsukMDOEWUMYvBob5ClhNz+ID+pDTwRKP6WwmEZFIpie7\n",
       "tkKtcb8B8cVfoOkBDMwCmPqnMikAU3KACsJ05t1gcAHE5gKlg4kJXB8QpnOKMayHadZeBiLZPjMw\n",
       "vA9ATV9Q8BRiuhKQmYApqwhMaRwiEEugpjc6MKyGy89eATId6Pb3BgwMezH1c4FDRsEMa1J7A0xo\n",
       "DLwfGBgNEKbfZ2AQRph+AhEyDFylGAbwQGJ1Ae78x3iAIX8CwnQZBrafqCEDilV9YAjswtTP6XAA\n",
       "lCIdkGISEu5g+7iAkv0BDP6INMPxFRHA0FhlOMPA4N+AFu4cVrYgqy1BuektjlwISjP9CgynkUz/\n",
       "xMCzAS1FQnMTPM002V5hSF3AYAL0D8v1BI69DnhM5w5g+YyU3rcy+Bug5SZ2BQ45pLzBciijgSHM\n",
       "gaFVDcT5vV+BAY/pHEuDfiKZ3hWqPwGtJOAwjXoANb03dBLDXFBp/SiBgZUFJGnJtACf6fCSEpZX\n",
       "/fG4pI7vGwMo4FhagGmFFSxspn3VAIcOAXieQpi+GrfpvBf4BDhA+ZAVZDozWDz3zF4chSvE1ZDk\n",
       "DjddGLtaUPnOqMC6gK/mzJmjTKCQYSZUG4LqJub9tcimW3+/gD1vAKX7E3gCwLU/xzJgrDoRMp0J\n",
       "qV5lfUCwXmVMeP+AwQ7EjV3AYErtZgDnUntg3gQlQdbvNr+o37DwBuKYM0dB+X8C9U2/DGOwHXNK\n",
       "o7bhvL/hkdNqGwEAfXfFnFahWOgAAAAASUVORK5CYII=\n",
       "\" style=\"display:inline;vertical-align:middle;\" /></a></dd>"
      ],
      "text/plain": [
       "<IPython.core.display.HTML object>"
      ]
     },
     "metadata": {},
     "output_type": "display_data"
    },
    {
     "data": {
      "text/html": [
       "<dt><a class=\"ProveItLink\" href=\"../rational_numbers/_theory_nbs_/axioms.ipynb#rationals_neg_def\">proveit.numbers.number_sets.rational_numbers.rationals_neg_def</a></dt><dd><a class=\"ProveItLink\" href=\"../rational_numbers/__pv_it/axioms/69ff40787af0511d8a01b601c3af75eba16562110/expr.ipynb\"><img src=\"data:image/png;base64,iVBORw0KGgoAAAANSUhEUgAAALoAAAAZBAMAAAB0qCmCAAAAMFBMVEX///8QEBCqqqp2dnaYmJiI\n",
       "iIjc3NwiIiLu7u66urpUVFQyMjJERERmZmbMzMwAAAC8H5PlAAAAAXRSTlMAQObYZgAAApFJREFU\n",
       "SMetlVFo00AYx780Sb2mbdiDzyOI+CKyCuukajXORxGDoFRRyIsiwlBw88lJUffgZDQKPop92UT0\n",
       "ofg4qSvCtLo8FFR8kyL4JKOFgeKG4HdJc4nmks7Rgzb55+5+d/fd/7sD6FOO6+xVLcc1XC3Bf5d7\n",
       "Of9dtGKb3m9zB7VXnkZ2OQGboeePIjlb49TMPjHJYhNSNpZmqHbfZuhpjVzH6qucqndfcITvUSHt\n",
       "Q0+8ov9HAA7w6bKOC8rcrW6JLk2b9PEeYKTMpaeTLRzCam6FLl9zl7wO8Fjj0i+raLmUXoihJ0dL\n",
       "ZwJ0T8LtKbcN+Y10A8ShcPeHCQ2dbOwMTPGlU1qOeEatZirdAN2Tc5O9Dsk1gI4BUjdM/+bSd/Cn\n",
       "nhjGqW0HpebTPam88Bolce4dzIt6uL/iREYb48LVt7hr2S4IOZ/uyVlG70UGlKkQIOPuaoRnUjh3\n",
       "oQFXLJ/O5IQXGbqrIxiBRU5/vUEdqYfi7o73HKBi9DLWpTPJdhVszOnyP3En+4sL+CjQbFqFaM9U\n",
       "NFgJ0j3pO7KXTcwzt4of4UIVRnE90meT1PUYetqQ1gJ0Jv1s2qaR4UCuSq8vleG0DjO7qNhY0iCG\n",
       "TuZP/grQmfRPApI/2+7R5049gEfUD19NkCVaWUhU4+jgRdTLVZ6xwaWTm+oPoH6V7mDgZOfz2O5P\n",
       "uQj6Xse1tb/oSi2Snm2pQ4TmoUzpovN9wq5bcee7a3dGF/hToee7oMlV9YZtLydoZMR+d1MaSeLS\n",
       "dJDuydDdhNUVM2MAjTNZwF0d73v17fHtJLf73quC2WnDISrPVyHfgMGW1PxhzE1qQfnnwXUYeDmG\n",
       "v3P2Ms1/a/D0D+zkfDN+cdDw7AbbnJli6Q/n/LicDCTAGwAAAABJRU5ErkJggg==\n",
       "\" style=\"display:inline;vertical-align:middle;\" /></a></dd>"
      ],
      "text/plain": [
       "<IPython.core.display.HTML object>"
      ]
     },
     "metadata": {},
     "output_type": "display_data"
    },
    {
     "data": {
      "text/html": [
       "<dt><a class=\"ProveItLink\" href=\"../rational_numbers/_theory_nbs_/axioms.ipynb#rationals_non_neg_def\">proveit.numbers.number_sets.rational_numbers.rationals_non_neg_def</a></dt><dd><a class=\"ProveItLink\" href=\"../rational_numbers/__pv_it/axioms/ec2b897d60bbb57d131ce03604b4aaecac4496920/expr.ipynb\"><img src=\"data:image/png;base64,iVBORw0KGgoAAAANSUhEUgAAAMIAAAAdBAMAAAAKp674AAAAMFBMVEX///8QEBCqqqp2dnaYmJiI\n",
       "iIjc3NwiIiLu7u66urpUVFQyMjJERERmZmbMzMwAAAC8H5PlAAAAAXRSTlMAQObYZgAAAvZJREFU\n",
       "SMe1lk1oE0EUx1+S3WSaj20Pnssi4sEirdi0Rhtd24MHERdBjVphL4oIohcrgpagFtEqiYInEXNp\n",
       "RColeJJKaBCqiV2koFIPRYLgSUsCBT9aFN/sZj+S3WziYQeSnTezM7+d9/5v3wLUNzbaBy61jqxy\n",
       "GYEtbhHg3Az9vwydSfcQ7wDIX/DwrhHgegm4HxAQLBMHjCHO8YQriVaIF9wvCIiNw5Om4PvSjjvc\n",
       "K9uC5YWnau+EgGfwWAgHoR1CdAR3j+RsZm4/kchsETtklKdx6LTsMdiUcPOT3g3xZAynL9gQSp+R\n",
       "8i0JZCjdREvNCdCT1Xp7AXbZE1gBDxa+lSHLytqTNvngQICHM7XOW4DepC0h5F9ETLrIqTFity/+\n",
       "FwG+l9TrGsBj3pZwlkMpdggxB4FQgr8/ccxE0Ey6wXP6T/4gQQRfl3X5Ay9mGCduqh/1vVSaep5p\n",
       "KkMpWDURNFPJ1DGKXAWoiMBUrYSvKmGjV8ZWtDuCtxsfcQMEcwZBN2nbR5/Dj2eoYN7kreuDipf4\n",
       "gaY+4t5IqPMqePoMgm5iO7rD5CUIXrRsEFYjnXF46+IZPAU4nzYIuglkUNQj3YvemLVZLxSoWgXb\n",
       "OKjcZwApsZbZKkE3/UvaQhlzP9kQB7IzTvMlRjNuBZy1lOJhwUyomf5pviHjdC1di3+AUxnoxxuY\n",
       "JYnkhRaEkMismgiaecfIjgBPuk05zbw6k4QjAkxspsb6nHNJQAKZOvTbRNBNk0eix8s1wt3D9+ER\n",
       "1cgXCViGTsa8mVYE0Dys5bSd8EElkHF8Q1MtMzdQQ6wyPNDz0an+b1NUnasjBHNNCZFFrovQHGEp\n",
       "wadmpZx3KiyKbGr61wiqOXmJtnHjVlofPDyb4a7I8ryXesnXTnUN4W6+uatmgmZaahxOp6SwCNTv\n",
       "JIuRHm6rgG81pMaWW9Zpj1Qpw26lFGQgWnDjy2tqD+YwlSf7c2jNnY+W/fgblefpuyLtDuG91vG/\n",
       "Hj7tBiCyrgdrIp74BzeC0oE9I4RiAAAAAElFTkSuQmCC\n",
       "\" style=\"display:inline;vertical-align:middle;\" /></a></dd>"
      ],
      "text/plain": [
       "<IPython.core.display.HTML object>"
      ]
     },
     "metadata": {},
     "output_type": "display_data"
    },
    {
     "data": {
      "text/html": [
       "<h4>proveit.numbers.number_sets.real_numbers</h4>"
      ],
      "text/plain": [
       "<IPython.core.display.HTML object>"
      ]
     },
     "metadata": {},
     "output_type": "display_data"
    },
    {
     "data": {
      "text/html": [
       "<dt><a class=\"ProveItLink\" href=\"../real_numbers/_theory_nbs_/axioms.ipynb#in_IntervalOO_def\">proveit.numbers.number_sets.real_numbers.in_IntervalOO_def</a></dt><dd><a class=\"ProveItLink\" href=\"../real_numbers/__pv_it/axioms/ce9cc6c903415cfaf223093beae6158664cf86770/expr.ipynb\"><img src=\"data:image/png;base64,iVBORw0KGgoAAAANSUhEUgAAAc0AAAAVBAMAAADWcajYAAAAMFBMVEX///8QEBCIiIhmZma6urrM\n",
       "zMxUVFQiIiJERETc3Nzu7u6qqqp2dnaYmJgyMjIAAAAcRTyBAAAAAXRSTlMAQObYZgAABRtJREFU\n",
       "WMPdWF1oHFUUPjs7s7OZndn44EMRlCXVVIrokiIi2ro2iChI1pfqg9AQbbEgYak/xdqG0ZduFOn4\n",
       "g+1D1GkDaQmlO9iHkiK6bIXKltZFC0kKhUVpSxVjCAg2gnju3Dtz752Z3W3smwe+bnrvOd+Zb/be\n",
       "c89dgJ724NX4WF+LApKnJJtjiNrnDJ1sridzV5vjsK6XoE3GrnQL+C7B5zhDgonDxrsVgIxDETHD\n",
       "pojZ/LqDS+taCTHHb1WilJbALMF5MvFrd51xnxsMCSYN54uYtU0RsbxDEbf2DLy44PIYJ4m5q4lp\n",
       "CVDnYbIg7O46Yz5WkSLB5OF+D/9pMMj2E0Pc7CnI9o3ymF+SmNFyCRvqm3IsbcPXmXfxw+uuM+aj\n",
       "OxSCvAN7JsIpbiMYCUcYZHubIU6BOtNOO4zRDrgJzOj/enw1zD8aT3vE12k1Z2cPQXedMZ9DDKFp\n",
       "77nCFLdz/ioqUchFpUKRQOHrtMOYzNZCAjMo+9zYo25oJqRFoE74q1rd10NnzGc9w9HBTx/wH+Kk\n",
       "K071PT50F/3ftYHH8G0WKeTHLFIYA7u2NmQK1JlRR8OYk1BJYD6xOyg6AQEY5wqQkBZBdO4AmAwy\n",
       "qEvJOkUfYh9SGHVrt+5Xi13S1JNOfplm/setOWChi+W7XVwi5u+3bIviBMwXJmQK1Hl6ixvEYBU8\n",
       "H2ee3h94hwTGI8G5I6dFEJ3DYjE8yz5P3//yz4LO4UjBfIfCdM1V1d8ktjhl3A1pOpBbhf4C5PD7\n",
       "yFUib0/3KJrwg/uMTGF/tGeCVAMWU4EvYsyZ30LvkGA8rCByWgTRqYPCz18Sbny9qaWY0CxwnZIP\n",
       "2p0UBmTp02n3kO8pmEqvgk6D022o1UHDr0BbjuhMlShcqEYp7KnhLFnENMYqQKYcZZ7hOgMCg+uU\n",
       "0yKITrOl8+w3EQtzs4A6L7e4TsmH6wTy2kA+dHA4ZUOtHJxjI153nQArUQp7Kv2UHerUXdBGY8yf\n",
       "7OdUK6yyhetWTst09rW3kfU+SA4jbWXQVcnuJzrrXCf1aTw8WJbWLcB2NnCHuG7xXX7Ljs8WPOGC\n",
       "iotHrfD9eU1ct6D9GaXA/fn+jxDEnAo6BImZ16GQgNchOa1K1y1MvoIub2qrRN5epZgHqnNTkev0\n",
       "fRR3XC9JdSjnPoSjZGBIrEM1D8Zz/rbtL+GOEuqQYEEdOqMsw0aZAnVuS5eDmBtMq8zMz5WQgJ8r\n",
       "clpWh+AUak4XNfLysgWrPe2TpHe+IdQh30eD38VyhRjxDrJOXPeEKWR5y4Qapsi0svi20nUKyVjF\n",
       "V//OLtP+nFNg32d6O1iMZtO1KzBLfQIn4H2CnBbh6yR7LOUpo/6mSY++UK1WC4r58SVRJ92HN4Oh\n",
       "pylmBo5upimMV5/lU8bYfZ/dC/pe/GvoAtkuZQrJ2IoyxjauvyJTYB9/Fap/eDQmQx5RKYjMUt/H\n",
       "CXjfJ6dF+DotfFk1J3sZP/rdlJeh6zb3kivotGj90zr2fer3sb7vTPDHMYYefV9IIcaB6v9ZTuj7\n",
       "etkxDjPoxlLO9ufgsKu7C2CW6f5sCnXIty/NtrmWPj5cqWvt48W4jjeE3ib38exdjn21GZ73tNfw\n",
       "4T4gfcLF+vSWiM6ZS41mwDEJkQ6JWzBsBOdvh3tZ1qHofItsd2C+xUuofC8TjVYCBfdnpO9LvEz3\n",
       "uGdbPQR1vGeLcf/tni2lzTpRnbnkt7vhNn83WWRY6+8mi7f3u8kih3Jd0mnB/9f+BbdS5pRTRqZz\n",
       "AAAAAElFTkSuQmCC\n",
       "\" style=\"display:inline;vertical-align:middle;\" /></a></dd>"
      ],
      "text/plain": [
       "<IPython.core.display.HTML object>"
      ]
     },
     "metadata": {},
     "output_type": "display_data"
    },
    {
     "data": {
      "text/html": [
       "<dt><a class=\"ProveItLink\" href=\"../real_numbers/_theory_nbs_/axioms.ipynb#in_IntervalOC_def\">proveit.numbers.number_sets.real_numbers.in_IntervalOC_def</a></dt><dd><a class=\"ProveItLink\" href=\"../real_numbers/__pv_it/axioms/811d818ab984c9de9c43322de4b2d06d477f05010/expr.ipynb\"><img src=\"data:image/png;base64,iVBORw0KGgoAAAANSUhEUgAAAcsAAAAVBAMAAADbb9ifAAAAMFBMVEX///8QEBCIiIhmZma6urrM\n",
       "zMxUVFQiIiJERETc3Nzu7u6qqqp2dnaYmJgyMjIAAAAcRTyBAAAAAXRSTlMAQObYZgAABSVJREFU\n",
       "WMPdWF1oHFUUPtnZ2Z/Z2Y0PPhRBWVJNJIguKSKiratBioJmfal5EBpqIhYkhPoTqG1YRXCjaNcf\n",
       "2j5EHBtISyjuoA8lRewShcqKupRCk0JhEGpQMYaAYCOI99yfuXdmbmab9s0Dh93ce853zjc599wz\n",
       "C9BR7r0aXcu2mYJ+S5X8ShkWtoTAZKETcLwsSMUMPFy7EufwrcbmFFeNqMvWGxMAdhlSda2ZFuHS\n",
       "tiOr2wijiM+p62VIo6K7UJLB97jxWzzNqM2vXDUSWC6UaBDL05rpEbw5GF5yfJ+sFngT6auIqOgu\n",
       "lGRwHJGq8TQjNvkSU40El7tdGgQWdWabIFRnIJMd8X0KJR0wkVzkMFnni35U6s6VZFBwyIcbTzNi\n",
       "k64zVdJ+e3LK35Iy5DCan4VBYxAITaPu+T7DB0EDTOxfDld19oG2jErduZIM8q35+WMQTzNic4yr\n",
       "L+abjrIl5TwwmoVyCDQGgdKs+j6jPTpgSBxywizHXSUqdeeKGfxdqx3qQDNis53rid6P76F18rmj\n",
       "bmUfHriN/fVLz0M0iB2uOIFg9ex/bDGIQGimkiPCx/LSOuDTB0ShCgDzff9RYlTqzhUzGAOYFvvJ\n",
       "VT1N1QblPaZWM38gTTvF/sDWo/XCGsvhX6dRxyB5tLJXqZQUBDgNl4pTQQRC88wuh/uQw8KPSwB4\n",
       "9rCw9gFqFf+IYlTqzhUzGFT74Df888zdz/+s0BwM9crXmdqOvZGkJ6Sqblm3g8EWchvQXcQguYnQ\n",
       "s+MI0IKfnCeCCNUPJqeQGfNJQ9aLAKd+9619gL5+vzdhVOrOFTNIQ0Leu+hufbWjnbChVZQ0AzZE\n",
       "bmVqQYZlZ96B/yaxZWxAmjkbHjSaGMRcC9HkCOBALYxQnRnMYAUznwu0lkLAc5KmACAXbot/oVGp\n",
       "O1d6bNppGf0a0aWFeSA0L7clzYCNkiQ+NQjeNmS5qwqNirgMhtxYmgDrYYTqjPF41adJ+uyeKPBH\n",
       "hyXUuvjy9YMgo4ZpZj2Eme3FW8hc73WSeHaQZlPSZDaL9/dWgiUHe/nCLWo1kkd5jl+bbXjEwSDJ\n",
       "CXk2RwII5l9hBHI237kA3CdHsinUI8CyBfkARJ4ek1GpO1fMAKZHSfm9am4gu4OJUgEYzR0lSZPa\n",
       "JJzxdDnQgnLOfWQVFwbUFtRwYTxHU+suk+PktyBNE4OziTXoDyIQmnuMCvdBirlSBFheKD4AvWPf\n",
       "8qOGWxB8SSgbJROfXaaY92YpiPHCK0oLojYm/KF2KqJD7hH4hN3drrJFUF6zoUFCpNoZ1s6NZogm\n",
       "R0j+k1ljI7lEIMOe7Y5xn2FeuApwYDyQAFSOYnXRqNSdK6WJ56vLTWAtdZWNkWdrtVoxYX94UaXJ\n",
       "zuA1sbSb6VzPiZ0shPXik3LL2nfX0TshTZKzBn7g40ElRHO3MO3ffiWIQEb3q1D702U+o7jUEwAO\n",
       "DHsSQJn5MCp150pp5sl/v1HPXCYf3U6Xm2JFm3vOUWjmWeszNx3Vkt9Fhr2z/BODnOw87PkIQqgP\n",
       "PSWmbtjrJCel2mJw6KrvfQqOO2lnCewKO5stpQVR+dT27K2M7k2F5lZGdyGLce8EnSU4uvNHue+L\n",
       "nfCMa75EcnsXx4Mfm7O7QjTnLi6Km4nORNN6eLFsFSVNzYtYDAL39zYB3sR8ZRKlororL2KqsC6Q\n",
       "IGczNOxd/0uxXM6DpJmpbwWBSeaGX6t9d6FBmjl99ffd3I8kiZUyLN/AjyTLN/cjybJUzECtfvjf\n",
       "yn+XddxXMjmr8wAAAABJRU5ErkJggg==\n",
       "\" style=\"display:inline;vertical-align:middle;\" /></a></dd>"
      ],
      "text/plain": [
       "<IPython.core.display.HTML object>"
      ]
     },
     "metadata": {},
     "output_type": "display_data"
    },
    {
     "data": {
      "text/html": [
       "<dt><a class=\"ProveItLink\" href=\"../real_numbers/_theory_nbs_/axioms.ipynb#in_IntervalCO_def\">proveit.numbers.number_sets.real_numbers.in_IntervalCO_def</a></dt><dd><a class=\"ProveItLink\" href=\"../real_numbers/__pv_it/axioms/24bdb4485613577e3cd4776f098374035098bd7e0/expr.ipynb\"><img src=\"data:image/png;base64,iVBORw0KGgoAAAANSUhEUgAAAcsAAAAVBAMAAADbb9ifAAAAMFBMVEX///8QEBCIiIhmZma6urrM\n",
       "zMxUVFQiIiJERETc3Nzu7u6qqqp2dnaYmJgyMjIAAAAcRTyBAAAAAXRSTlMAQObYZgAABTBJREFU\n",
       "WMPdWF1oHFUUPpndye7Ozm588CEKyrrVVIrokiIq2roaRBQk60uNIDTEVCxIkGAM1BrWgrhRpKuV\n",
       "tg8RJwmkJZTuoA8lInVJC5UVdSmFJIXCoLZFxTQECjaV4rlz79yfmdmf6JsHvu725pzv3G/uveee\n",
       "WYCW9uDl4FiiTtGG9wJD2wxSXCCifVsQSF3Ng0PGLjULOBvic5whzFuY8d6bAJ1lCp81ZFjqPrja\n",
       "XQ+JOd6uQiUtgZmH78kffm8uM+jzG0NzmZDOYVKHwmeNGZw5GFi2eExCjpBNG2s0YzktAco8SpiK\n",
       "zWUGfFI5ilYyu2z8Z5FBsSYMxSmIJwZ5TDonImQ7MRoSe7oQSLvoykxb+GE3lxnwiZUppGl/MD4R\n",
       "lNmPgTDNoFgTBpQZKTs8ZmCfiJDs0LthG/6xYNppV2aqNj9/BJrLDPgcYeCmH7DCVvOcuxx5CmiT\n",
       "wZVZ5DHDWREh7PAfITPdWgtJi0CZ8FeptL+FzIDPFoaZns8eyJCBk5bkfejMPey/V7KP47PMUUAY\n",
       "g5Hd+/SiyoAyO6ODXozhxERE4oneO+kS/8rrjUcAxrkMhKRFEJl7ACa9mOhquEzZh9jHFEY1NRpz\n",
       "K8VeyTt6B1xjU7hlVcqQQg8CMFddy0kMcAKWMhMqA8o8tdNiMXhY2HEh3k+V02vke/x9cUQ9AuMR\n",
       "78JR0yKIzD65Dp5hn6fuf/VnSWafr1a+Q2Fa5kbUPTJFSeZ0HR6l35Mb0JWBJJZ3AghhgBr8ZD2n\n",
       "MhQ/GZ8gymhMDBKOF2HcBRHXTxvla88JRnjxUNMiiMwYaOLeJTve+GZ7XTOhlhEyFR+02ykMiNPZ\n",
       "6XeTZWLeT1rAimDEgUoVdFwAfc0nkzGABSU/Q3GqL05U0Jjz7l6i3pENiNFZpfZ7Oj0CQ8hU0yKI\n",
       "TLMeE9lvIJYX5gFlXqwLmYqPNEny1EC9bc5CNxjX+V3QbzeXCbDuZyhORZ4pcplYZ3d5ER1FqBTY\n",
       "iv3CC+86u1/5plXTMpkJh9DM9pAmTV/vsaLk7BCZVSGT+iw+3FNQtxzsZgO3CZnG35BkorrqZGmj\n",
       "uHMIvLM5qDDo1/0MeDY/PA8sJomzSZdZBK7Rt7yMXGGpPQJRgtS0UbppYXIYXcb0DaJun5ZLA5W5\n",
       "PSddEcRHs0ZieaUEJa2HcJQM9Eoyb0KnQxvSrjyeJlGCQooYfK2twTaVAWXuihRYDJGY9IpWxYaR\n",
       "pLeKesmdDCcQF4qalpUg+AolR3I6eXbxTMqZdWVGXntL7muIjw5/ypUK0W8fhM/p3W0L7wOwNFg1\n",
       "buH3znocZxipUijGGKI342u0JRcM2OyZ9h4WM8A2ruuN03vbFK08ObOCQLQHalqEK5Ocrw5bI3up\n",
       "Ix8ZfKlUKmU089MLskx6Bm94Q89SzGVndtAUxuvPc++57MtDeRjHVTZ6fyALUqBQjDEYQ9u2XFIZ\n",
       "sHW/DKVrNo0ZJkNZ8LzvO3yvr03nBKLZU9MiXJkpnFClHL+IH11Wh91JN23yFbmvSdHSpzds1aLf\n",
       "+Zq9JC/5xxhaNHucQY4Dd2PqIc1eSzsmYHo9WEd59wtw1IpZy2AW6NmsVX3t2xemY7bfuovNtdnW\n",
       "XY7zRWzG1NadPcqhL3fAi7b+Bmr7iLQHP1Znd/omPndhseZxTIKvLwrInOHbKvxFrDGDFBeIYHZy\n",
       "nNhYq3DpRUw2WgU0PJsNX63afq3mZSFepmibQYr7d6/VStp42S8zGb77t27qR5KA9wrDZn8kWflv\n",
       "P5KsCGhXFZkp+N/aP0mw7Rua963xAAAAAElFTkSuQmCC\n",
       "\" style=\"display:inline;vertical-align:middle;\" /></a></dd>"
      ],
      "text/plain": [
       "<IPython.core.display.HTML object>"
      ]
     },
     "metadata": {},
     "output_type": "display_data"
    },
    {
     "data": {
      "text/html": [
       "<dt><a class=\"ProveItLink\" href=\"../real_numbers/_theory_nbs_/axioms.ipynb#in_IntervalCC_def\">proveit.numbers.number_sets.real_numbers.in_IntervalCC_def</a></dt><dd><a class=\"ProveItLink\" href=\"../real_numbers/__pv_it/axioms/1e60d63bf5d29dc50b57c9a5922b766595253e650/expr.ipynb\"><img src=\"data:image/png;base64,iVBORw0KGgoAAAANSUhEUgAAAcgAAAAVBAMAAAAwWGOcAAAAMFBMVEX///8QEBCIiIhmZma6urrM\n",
       "zMxUVFQiIiJERETc3Nzu7u6qqqp2dnaYmJgyMjIAAAAcRTyBAAAAAXRSTlMAQObYZgAABXRJREFU\n",
       "WMPdWF1oHFUUPpnsz+zsT3wQqm9jAqmEWBeq1IKtoYIiVN36oBGELtEKAStrTAiaWoJWMqmkLlbS\n",
       "vLSMCQQNNV3sQ6lIXeyCkGBcUEgJWlZjK40QQ1CwiRbvuf8zs9lN6psXvuzO5Hzn3O/ec8+cWYB6\n",
       "w1jOBG/Gygz1ra/2QjwftDvNsdEIck7DFgbSBcgMKnjvxxr2iY4UfiQ9kj7mqGKtW20jf0oA3QEz\n",
       "a5AhMJKvObd+GoEgp6p11UGjdmsowSzeX6opMlEgHylXv3mDo7ZIWGQipwNmqTxDcKSsbHjkuOLk\n",
       "NYZnbA8mmNEno05rKMEYJt9gTZH032Oe9U4z1BO5zkQmbL/ZdxzBYcaKMDiqOIsaQ9/YrwM+4WyP\n",
       "iop0gRLdIbpVG4ukGz2r34vmGdS40t9fCYgMrTGR1h1+p29wBB2gyN0pyQkPuYqh1YRdwYJw8i0t\n",
       "KtIFSpCcmZo6BbVF/jA19UlOv3eKQ47Otmo7mcgxkfCLv27lGKo4oCJNyYnssyVD478a3JbR3/So\n",
       "lM5BZvCX4xypI7LJcYaK+r0WjvHWD9txEtaSnq4nL9/Dlj/V1VKgIi/7D0+awWru3vcVeBygyOxj\n",
       "kjMNOcmQjsMnxFJKB9ApF5JGpXQOMoNDAMMyv5arioxkwPQk5wiDVUz2RDHJInnNOnQ3/M4uzi1Z\n",
       "N6nIq3g1t4yDnjGzzHAW5u2j4HFARMZfXxIcckrYOUFr6diRNUc6MN+Vk6NRKZ2DzOBRsCrSQCz5\n",
       "hXtf/FmbdtpXIAcYEm5iLYTTM/Ul+agMD7GLL11YpSIv+BYuWmCYgW/dJ8DjwIxt66eJxzg5OCMZ\n",
       "0vF2kdvKgdEjqz+NSukcZAZRMNQhRvfWFzvLRgJmbJWAObjPM8k7GSwwWV0+gHskCs8jLvAytxes\n",
       "v6nIgz6RDR0MLjjgc2DGSunjIDhJG9OIM5Tj+RnuSDqA5BGhkkaldA6s7+Woin4T69zFKSAiF8pK\n",
       "5DeQqyYSoImtxJi+k3eB9aco/6H1miIB19zrgKTrA51SZNSFcFYwlGO4tFvYr8omZzGvRfWJjFWe\n",
       "Jd8nWq/hiV5tdUN4xFFkUYk8g5ESLc8c8qYrccFOR4MmkixjfIVd/AONa1Tk4+pMXtfTFcJ81g26\n",
       "SPNTW3DOi6aDWGuOAZ7iUxEOsKBcz6iolM6BMxh+iSReXxifLsabRpo2cUTkzrQSaY6SP22RSq+3\n",
       "8MTd+8HALGm0NZHrEKlcpBd/4DGShUd/4vPC87mxAvR8KQdEZDj7oODc4ELRWnOM1fQY/pUOqGCn\n",
       "Q0b1FR44T1KxMR3GhDTtZGWCimx8uVd7KMR3kS+ZVFmvTwRPF97nffOAlq5vw3y2aN0iF4fhHRbi\n",
       "YX/FTlOE1s0V3uYPaG0dzOI5RE54kKUsY1DH6rlIbDQH9PFJt5dGpXSOEj9XDQUjSzO/Mfuc4zi2\n",
       "kfjge/3xTjO/SdZ5ngeTzeN7WIjJY660nmx+vqsD+smNifYyC3HNJzKUo7C62lr4u4FwgA16xjyx\n",
       "zjgRjG3YnMEce5o75UANGpXSOXAGSeL+XN5cIB9NbkMhwtI1/oKriVxgpSCzYVu3f8jX1sVFscO2\n",
       "Lle/rRMO5PyRE6JfM8G2ru5AukBJlLv8wSdhzI26VyCRYWdypuht1GIrc1DcfIOeACVyKw26dGQH\n",
       "GVsY3gad50/XZ3vgQCH8CpHxHj5C54oTe73Ttg7vb5cP3GHQ+qSqIsc1kcFXLWygzHytWU5XYYhd\n",
       "+rUfh+dVa5re6vPQ1auWPljXa5AzueHL06ZfmsuayOHNvzSDvoy399Ls2YVhv8h41aU1jm7p5w+/\n",
       "9Y5eSN7Gzx/J//bzB9IFdvR6/gP/0/EvKjHjCzqBee8AAAAASUVORK5CYII=\n",
       "\" style=\"display:inline;vertical-align:middle;\" /></a></dd>"
      ],
      "text/plain": [
       "<IPython.core.display.HTML object>"
      ]
     },
     "metadata": {},
     "output_type": "display_data"
    },
    {
     "data": {
      "text/html": [
       "<h4>proveit.numbers.number_sets.complex_numbers</h4>"
      ],
      "text/plain": [
       "<IPython.core.display.HTML object>"
      ]
     },
     "metadata": {},
     "output_type": "display_data"
    },
    {
     "data": {
      "text/html": [
       "This sub-theory contains no axioms."
      ],
      "text/plain": [
       "<IPython.core.display.HTML object>"
      ]
     },
     "metadata": {},
     "output_type": "display_data"
    }
   ],
   "source": [
    "import proveit\n",
    "%theory # toggles between interactive and static modes"
   ]
  },
  {
   "cell_type": "code",
   "execution_count": null,
   "metadata": {},
   "outputs": [],
   "source": []
  }
 ],
 "metadata": {
  "kernelspec": {
   "display_name": "Python 3",
   "language": "python",
   "name": "python3"
  }
 },
 "nbformat": 4,
 "nbformat_minor": 0
}