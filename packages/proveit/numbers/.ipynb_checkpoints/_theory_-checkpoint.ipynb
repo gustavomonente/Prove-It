{
 "cells": [
  {
   "cell_type": "markdown",
   "metadata": {},
   "source": [
    "Theory of <a href=\"../_theory_.ipynb\" class=\"ProveItLink\">proveit</a>.number\n",
    "========\n",
    "\n",
    "Covers all generic number concepts: sets of numbers (integer, reals, and complexes), number relations (<, $\\leq$, >, $\\geq$), and numeric operations (+, -, $\\times$, /, mod, exp), and operations over numeric functions ($\\sum$, $\\prod$, $\\partial$, $\\nabla$, $\\int$)."
   ]
  },
  {
   "cell_type": "code",
   "execution_count": 1,
   "metadata": {},
   "outputs": [
    {
     "data": {
      "text/html": [
       "<h3>Local content of this theory</h3>"
      ],
      "text/plain": [
       "<IPython.core.display.HTML object>"
      ]
     },
     "metadata": {},
     "output_type": "display_data"
    },
    {
     "data": {
      "text/html": [
       "<table><tr>\n",
       "<th><a class=\"ProveItLink\" href=\"_common_.ipynb\">common expressions</a></th>\n",
       "<th><a class=\"ProveItLink\" href=\"_axioms_.ipynb\">axioms</a></th>\n",
       "<th><a class=\"ProveItLink\" href=\"_theorems_.ipynb\">theorems</a></th>\n",
       "<th><a class=\"ProveItLink\" href=\"_demonstrations_.ipynb\">demonstrations</a></th>\n",
       "</tr></table>\n",
       "<h3>Sub-theories</h3>\n",
       "<table>\n",
       "<tr><th><a class=\"ProveItLink\" href=\"sets/_theory_.ipynb\">sets</a></th><td>defining standard number sets: integer, reals, complexes, and important subsets of these</td></tr>\n",
       "<tr><th><a class=\"ProveItLink\" href=\"rounding/_theory_.ipynb\">rounding</a></th><td>rounding of real numbers, such as round, floor, and ceiling</td></tr>\n",
       "<tr><th><a class=\"ProveItLink\" href=\"absolute_value/_theory_.ipynb\">absolute_value</a></th><td>absolute value of reals (and subsets) and norm of complex numbers</td></tr>\n",
       "<tr><th><a class=\"ProveItLink\" href=\"numeral/_theory_.ipynb\">numeral</a></th><td>number representions: binary, decimal, hexidecimal</td></tr>\n",
       "<tr><th><a class=\"ProveItLink\" href=\"addition/_theory_.ipynb\">addition</a></th><td>adding numbers (repetitive counting)</td></tr>\n",
       "<tr><th><a class=\"ProveItLink\" href=\"negation/_theory_.ipynb\">negation</a></th><td>negating numbers (subtraction from zero)</td></tr>\n",
       "<tr><th><a class=\"ProveItLink\" href=\"ordering/_theory_.ipynb\">ordering</a></th><td>ordering relations of numbers: <, &leq; >, &geq;</td></tr>\n",
       "<tr><th><a class=\"ProveItLink\" href=\"multiplication/_theory_.ipynb\">multiplication</a></th><td>multiplying numbers (repetitive addition)</td></tr>\n",
       "<tr><th><a class=\"ProveItLink\" href=\"division/_theory_.ipynb\">division</a></th><td>dividing numbers (inverse of multiplication)</td></tr>\n",
       "<tr><th><a class=\"ProveItLink\" href=\"divisibility/_theory_.ipynb\">divisibility</a></th><td>divisibility operations such as x|y to indicate x is a factor of y</td></tr>\n",
       "<tr><th><a class=\"ProveItLink\" href=\"modular/_theory_.ipynb\">modular</a></th><td>modular arithmetic (i.e., remainders of division)</td></tr>\n",
       "<tr><th><a class=\"ProveItLink\" href=\"exponentiation/_theory_.ipynb\">exponentiation</a></th><td>exponentiating numbers (repetitive multiplication)</td></tr>\n",
       "<tr><th><a class=\"ProveItLink\" href=\"summation/_theory_.ipynb\">summation</a></th><td>add function evaluation instances: &sum;</td></tr>\n",
       "<tr><th><a class=\"ProveItLink\" href=\"product/_theory_.ipynb\">product</a></th><td>multiply function evaluation instances: &prod;</td></tr>\n",
       "<tr><th><a class=\"ProveItLink\" href=\"differentiation/_theory_.ipynb\">differentiation</a></th><td>rates of change; calculus: &part;, &nabla;, etc.</td></tr>\n",
       "<tr><th><a class=\"ProveItLink\" href=\"integration/_theory_.ipynb\">integration</a></th><td>summation over infinitesimals, inverse of differentiation: &int;</td></tr>\n",
       "</table>\n"
      ],
      "text/plain": [
       "<IPython.core.display.HTML object>"
      ]
     },
     "metadata": {},
     "output_type": "display_data"
    },
    {
     "data": {
      "text/html": [
       "<h3>Axioms contained (directly or indirectly) within this theory</h3>"
      ],
      "text/plain": [
       "<IPython.core.display.HTML object>"
      ]
     },
     "metadata": {},
     "output_type": "display_data"
    },
    {
     "data": {
      "text/html": [
       "This theory contains no axioms directly."
      ],
      "text/plain": [
       "<IPython.core.display.HTML object>"
      ]
     },
     "metadata": {},
     "output_type": "display_data"
    },
    {
     "data": {
      "text/html": [
       "<h4>proveit.numbers.number_sets</h4>"
      ],
      "text/plain": [
       "<IPython.core.display.HTML object>"
      ]
     },
     "metadata": {},
     "output_type": "display_data"
    },
    {
     "data": {
      "text/html": [
       "<dt><a class=\"ProveItLink\" href=\"sets/natural/_axioms_.ipynb#zero_in_nat\">proveit.numbers.number_sets.natural_numbers.zero_in_nat</a></dt><dd><a class=\"ProveItLink\" href=\"sets/natural/__pv_it/axioms/5e7897b61a74cb2895cac43804da4b0b088906c60/expr.ipynb\"><img src=\"data:image/png;base64,iVBORw0KGgoAAAANSUhEUgAAADMAAAAPBAMAAAC7N+rPAAAAMFBMVEX///9mZma6urpUVFREREQQ\n",
       "EBDc3NwiIiLu7u6qqqoyMjLMzMyYmJiIiIh2dnYAAADXmt2vAAAAAXRSTlMAQObYZgAAAONJREFU\n",
       "GNNjYOC785oBBXR98WpgePpVgYFhJUN7AqqcD7cBA8cHBgaeAAa+BahS5hvuMjAEMDCwGDBw/gCL\n",
       "8LiXV4EZRh7MGxgKGBj4DRiYfoIEuH0boLrMNnOsAEn1CzAw/QXbDpNhMOO8sBkklf+AgRssZQa3\n",
       "y4zhEc8FkJQAA/c/kIADkhRzgzWSgdxRq4AAKsVhwBUAdgYnyBlsyLoY9nGDHO/AwAN2fACyFM8E\n",
       "ByQvy8KlrIH4GciQSobWDSAB9gkwqZVAzAhS3nfXGizAYaIBkdn+FaiDAyXwmJ5AAwoKAGQvOOyD\n",
       "fUpGAAAAAElFTkSuQmCC\n",
       "\" style=\"display:inline;vertical-align:middle;\" /></a></dd>"
      ],
      "text/plain": [
       "<IPython.core.display.HTML object>"
      ]
     },
     "metadata": {},
     "output_type": "display_data"
    },
    {
     "data": {
      "text/html": [
       "<dt><a class=\"ProveItLink\" href=\"sets/natural/_axioms_.ipynb#successor_in_nat\">proveit.numbers.number_sets.natural_numbers.successor_in_nat</a></dt><dd><a class=\"ProveItLink\" href=\"sets/natural/__pv_it/axioms/90d7655ce8ce72f5037e82c32c0ff0d481181d110/expr.ipynb\"><img src=\"data:image/png;base64,iVBORw0KGgoAAAANSUhEUgAAAK4AAAAUBAMAAADmcxvOAAAAMFBMVEX///8QEBCIiIhmZma6urrM\n",
       "zMxUVFQiIiJERETc3Nzu7u6qqqp2dnaYmJgyMjIAAAAcRTyBAAAAAXRSTlMAQObYZgAAAoRJREFU\n",
       "OMullc+L00AUx7/9kbRNk9aDgnjQyB4U8dA/YCtdPOhhD7t7UA+CUdzDehJUqrisIoIpXsKCWhYW\n",
       "46XCirUoRT2IZaseFCSoB2VVIihCD7UHBfUgvskktakZURz4NjMvk8+892beFPhjW/QV3e4K7FkL\n",
       "cFnnjWCCcppL0GRraPonswN1w2rMAE+YoSP4MGdxRfm0jjjukDHt7AJuAHWgSsOMyKXnvgZwOn/W\n",
       "Hn2n3+XhAI7FdcQAVUf_opkdDwD3h63cuNMa94g9elsue6/JOexopCmQVtMdLS5cE2MxhLiE3V/L6\n",
       "e7YE/l4w6jZx8R74apqzAm68wDU+Mz+iR3HVgrddnV8beVMyGLcNTAMVATftcLVMXfkWxdXc8LGQ\n",
       "LbX0jHHfAtvD2yodeYCNBu+nGp6kxhwyX6K4WS9J6cGDd0jeTZ3b9CHiTmC/1i7ijmonbD6MlTwp\n",
       "ymdoPRZ2t/txfbdr9LkSs2KySy3wvIZ31NlHk51UgNXOL9i4pxdUhLjI9iC7Uf5ybnXQX6k1ybkZ\n",
       "l86yVpwaYSmh1mzOB1w/D0i4yDt2BDfp5SEWKsAVlpYdpMpBmjXmxCxe0031+t6hfYu1cN9uCfct\n",
       "ofe5ExR/le8bbtGiC5uQtxXv1DTRavvT2DFiulzCU20izI0zboIvdrJf96zAtpFGSXk29QDGIB03\n",
       "zTPEXQwSzsJkoqguroTzm9j/o0gcvljtLE+SdGotvMsBH1gwzLgGoxIM7m9y6i/q2GtX/ef4uXLo\n",
       "ClKCIs30cLSJh6z7AngtvncUe3C0LCgoNVg9aWCrgzSlJzlXgtwvOItLdD27ghf1ofFmyu8/3OvC\n",
       "JSvA//wPvRLYNQs/AZLfsi9LVhx/AAAAAElFTkSuQmCC\n",
       "\" style=\"display:inline;vertical-align:middle;\" /></a></dd>"
      ],
      "text/plain": [
       "<IPython.core.display.HTML object>"
      ]
     },
     "metadata": {},
     "output_type": "display_data"
    },
    {
     "data": {
      "text/html": [
       "<dt><a class=\"ProveItLink\" href=\"sets/natural/_axioms_.ipynb#successor_is_injective\">proveit.numbers.number_sets.natural_numbers.successor_is_injective</a></dt><dd><a class=\"ProveItLink\" href=\"sets/natural/__pv_it/axioms/3841bd346a38626eb2dfbe6937ea52305924ef350/expr.ipynb\"><img src=\"data:image/png;base64,iVBORw0KGgoAAAANSUhEUgAAAQ8AAAAWBAMAAAAsrwTqAAAAMFBMVEX///8QEBCIiIhmZma6urrM\n",
       "zMxUVFQiIiJERETc3Nzu7u6qqqp2dnaYmJgyMjIAAAAcRTyBAAAAAXRSTlMAQObYZgAAAzxJREFU\n",
       "SMe9lk1oE0EUx//52KTJbqyXXiVSqMVWCCgUoZUtgnoQbCuIhyKhWFAPEtCDitTgKcVLqFBLoXRF\n",
       "UKiIgRo/DqXB6qVCWdCDRYWKIFR0KaKi4sE3s7szu5vaRDAOtHn73puZ37557+0A/2VMbWx+RH8r\n",
       "THjTYI5kfmN7rAg8Y8KHBoNsKtYApXBM0G8i32CQ57UcHhOsAWilBoOcr+VwHUgtzsxcazBHIlfz\n",
       "7HTge6Fwsc71qlXKRuY+VwhngIMnx1rTAQfStaUH2whCI49hYLQGgW7/VIIUeai6fPSbjwL3XLnJ\n",
       "JGshnfzBHpYsNt7xGaT7rKub6VwoW/fynF1nKGeeYGuWSXlRYz77Tor4bl8JynG4C4i4mngJSmkE\n",
       "ia+BBZjuF1JrgEpLxRE2qyluL/TgoWZEDAky6C189i9Ks28KlTRz+P1UlFlHEdKRTH7hO/qKlnTq\n",
       "T8RoeYVMmhmv5khdmTQwl85okCDDHnuTCyI7hDTnHRCsShCoa4gFI0+6SA6htA2SWDlCG/cMtIbb\n",
       "WHYxiZ0XjXJ5zAuS83gJEBnNnDPVA7JDHg0iK2g2DZEj75medPEKDhUNvhRGj9P2vWboVJiFkklF\n",
       "u/GXtTuDEoRqUHoJEDWLEwUapmMuekHue5I1VMG8EUh30t3VsSdR4smKWVpvchua9QjzY5KRzHAQ\n",
       "VBYkSDTv8RIgUbcpO2bDC3LAsbHinNaxlOrzg5BuHvhIYeeLNrPyHkI/jyCTeqGcKxQuE8hU3AOS\n",
       "FV6nrbeWZXIQxT1329yLmGVtsT7ZIMdcW44/j78K5Ajp6CxnlynVeFawt2hBO6Z5e2pBt2InfhnR\n",
       "AQlCXUN6yYhkCYuGaZu7FW9E9tXd4m+JrrhGr/NSw4RB0tkynjLlC+C1BEnmhJcDwoo/5R67baap\n",
       "jvsDuLPr/OiJwK5ifBH9JZI6TTTRKUVHdLtfOFVzQXjZIImub2lERGvl5k7Tcb96aQjYJaq9jmtA\n",
       "YLjf4XbKEX9jQEewj/CvlVB1BNzdS1c9F6NqUHVd9Lx/c688V60SIKpZ71Vxubqj4s8gUbP6S2vX\n",
       "ecDsvsyNf36fyMgrbmCEDf8N2De2/80evwFuC/AXsH+S+AAAAABJRU5ErkJggg==\n",
       "\" style=\"display:inline;vertical-align:middle;\" /></a></dd>"
      ],
      "text/plain": [
       "<IPython.core.display.HTML object>"
      ]
     },
     "metadata": {},
     "output_type": "display_data"
    },
    {
     "data": {
      "text/html": [
       "<dt><a class=\"ProveItLink\" href=\"sets/natural/_axioms_.ipynb#zero_not_successor\">proveit.numbers.number_sets.natural_numbers.zero_not_successor</a></dt><dd><a class=\"ProveItLink\" href=\"sets/natural/__pv_it/axioms/90d6f66a643db8f3e687d59924b3019427d02de00/expr.ipynb\"><img src=\"data:image/png;base64,iVBORw0KGgoAAAANSUhEUgAAAKsAAAAUCAMAAADFqj2LAAAAOVBMVEX///8kJCQNDQ0oKCgQEBCI\n",
       "iIhmZma6urrMzMxUVFQiIiJERETc3Nzu7u6qqqp2dnaYmJgyMjIAAAD9T1yxAAAAAXRSTlMAQObY\n",
       "ZgAAAllJREFUSMe1V9lirCAMtb3sBBL4/48ti6hRx9G5LQ9mxp6Bk5OFdJr+YwFx+2RFePEHDC/R\n",
       "aflOT08Mnttny56ThcSIS0KzoDGO9yk8PC0BtzcFFf2ckM5d0NsTCrngYKBhiAJP1SHF7TkzyUNh\n",
       "0eYwNDuTdcuCRMOlBT3kXAW+uRxwe4drJTC4BnEmq9l88bZt0X7Q0IShLnBPC8tx+5jrlPS1rFNu\n",
       "XHWOCzr7uhw+5CoVsxotgJRK3ueKx+TxW1lDVp2rXNBddg8PuXpiFifvZd0fbnOltbowtfXvuz6H\n",
       "C5CbfqZzbWitXldlhTqFRX4p7C5d49aaOLlWqtnc5hrdpaxlL9W54oquD3lsriGiUuV19K0/q11L\n",
       "E3prQ1FUNyZcKieasWdcTd7LwuXgOdDRSJ3vzn8fIdRtI8lJ1SBfca3l2uo43c/XA9d9Hua5D8QV\n",
       "Xa6K2SNSZGQvFr0kfjTRgDxw5TlQdG8sM03hLlfteL5+9RisQfB+84MZ7WG+LUiLorEAdvdGU3KA\n",
       "DF7X1iRw7oX4QW2d33/bu2Cgo+qcIcj6oW4W1JZrOf/QYMaL2UJL17IvmWuucuGquPv62MJqzIIw\n",
       "DJ3HjrZ80KJVf+u6tQ1VrmWS2mf0iOBsuwFL8TJflRU5qR6KxFvGyTwSUMpxkw00DVj1oThQnpbp\n",
       "Omkjf+mOXYlw76O6Hur2WkGtNadb1BenqeUy4UezS3g9vO1mlzdj3mHS0VVNiS1EPo4Y93vbHm8u\n",
       "OG81N6dfXlkRn6APRTDn6x/N2jsP38j6mR6/9D8M7Q7X79E/LBUdTFd8/fwAAAAASUVORK5CYII=\n",
       "\" style=\"display:inline;vertical-align:middle;\" /></a></dd>"
      ],
      "text/plain": [
       "<IPython.core.display.HTML object>"
      ]
     },
     "metadata": {},
     "output_type": "display_data"
    },
    {
     "data": {
      "text/html": [
       "<dt><a class=\"ProveItLink\" href=\"sets/natural/_axioms_.ipynb#induction\">proveit.numbers.number_sets.natural_numbers.induction</a></dt><dd><a class=\"ProveItLink\" href=\"sets/natural/__pv_it/axioms/e9867f682ff582b8cc269c12d0c42cd08a7e28240/expr.ipynb\"><img src=\"data:image/png;base64,iVBORw0KGgoAAAANSUhEUgAAAfEAAAAWBAMAAAAiKrjAAAAAMFBMVEX///8QEBCIiIhmZma6urrM\n",
       "zMxUVFQiIiJERETc3Nzu7u6qqqp2dnaYmJgyMjIAAAAcRTyBAAAAAXRSTlMAQObYZgAABZ5JREFU\n",
       "WMPlWF1oHFUUPu7ubHZnf5KH4oOoHVLwoaBdLQqWPiwRKfq0T4liwUUbtVB0xUKRSlgE7UaJDAi2\n",
       "LzZbRBNCWKN5kPqDazpKmwYNWn8Kti60BtrikkQq1SjxnnvunTsze2eypY89cJK959y53/fN3Dn3\n",
       "3gG4LksvKg+x44F2rF2KHPJd4VrL2OHx8/tD0hHkJEH0FjbOdat8Unn27q870rMLzTPJAJtsMRLC\n",
       "rJKH2F7QgvC4o00TQeqF8Et444vMG9feqsNXK0UkiH4a05e7VX5J+RWYCN7x1CJMLpst0bKl8kiI\n",
       "vE2usY/qjG5HlIPwuKNLC4LUi9nSr3ewv2X8OWaUwVwGJIh+BKdHtUvhuYLruT7ItgLp7SzTgjnR\n",
       "uiCVR0L8IFzZx2Iy7HuBKc9aoAXBuKNLE0HRi/2xoNGENFf+bKkfoA84QeZ5HH6mS+U9tuupMmT+\n",
       "IaRDB0aI61WAhAXHqK9xqC6UR0K8LLxDOcBv7DqzD7QgGHdUGm3UQ1L0YtOaec0+ykvNnjeSJagA\n",
       "J8g8Nz81dbjbyX5YeW8ZEmtc4at1kU38x1olyBd5KzlgCeVREOkKeZhyuAhaEIw7bprbYx6SshfE\n",
       "kcH6GtWMQfMyKkeC6NdqtVe6Vb5F+YcFSKxirFF3i9U6r3nZAm81oCKUR0HECuRm/96BOZ3yE6AF\n",
       "wbjjptUsFwRlL7L3RbXMWINICgmiD9M82b3wBZ8S9MDcpt/GlI83wVgNVN9t63/Z4v3C0nlaKh9W\n",
       "UzE4OqtE3KfhZ2tEp/w8aEEw7sh0/AC3PxVJ2SuwTjg5q0IE0R/ihS5RgC95mioRNadrtddhaGcx\n",
       "dqu49qDy8QIY/6oL6Hn8tPk2ttbSs67AUamcIJS5YOylnCGfh+/qj+iUfwJaEIw7blos8ldckrIX\n",
       "ZNvcCqQ8WR+uEEH0Hoixe95Th5QHgzeN1/h41XnYIcbepFzOduNOHFmCx9kbZfDVhBXVZEkoJwji\n",
       "/fn2RQUGcEuRvA413v623X6x3V5Syp8ELQjGHZmW1tgkScpegWdulvN9RBA9u9jDor02ZDzKeZPY\n",
       "Zb6PQ7NTOatwmTX/csV6ma5yps4oC+UEwe2X41MeMKUcYFVf4bi0ThCd8vQ+W5KUvYK7ot2GR3m6\n",
       "NYgbitvFC04YvPkZKX/icavZOdtTVcjxVc1dV0wm1GChBJ/ts2JLgcoJYu7+u0qJAnjB1GwH46pe\n",
       "+S7QgmDckek4Tem2LUm6vYLKczNVIshJju7BEe9dKXqU8+aDpLw0/2Ozs8K5O5n73NeM0Ys3ZYW7\n",
       "JNSjcg4Rqz/fU8yr0f0V7tPYMmwNr3AdIL4KJ6pHyyXp9pLvOZ99rNDCqaqqcDBLFemdiq+WsOYp\n",
       "oTwr1ilaQ6QfhGMl+dToxXoJ4BsQkEaVZjwpRwgD/gB4T40udni0wiTWUsvyoOEq34aX7wQtCMYd\n",
       "N+1b+U54evkMC2C8RQQ5yV624zBLuKN1lVNzQChPL0qeuzw+3T9MD/C5RwWpxNPPIME83pAkPtSY\n",
       "JZT38k3N3wBDtVrNUmDuzDOf2rrlXGC2P7D5ArsXv+tBMO6ATIN8pIKk28trQytV2rAjQU4yx+5V\n",
       "ZkbUI1JOzZRNyuFhq3P36pllJ8XGUtgED/KfJaEcIVhRMfhm0gMWvXvlkit6EIw7Ku05IfnJ6WxC\n",
       "kuS3sgqTdaWcmuYYjpErQq7ZeWIJt7ngKZX+j2dbWciWfGDaE8uU72pLD7LRiQU2IOiSjL+9sMNT\n",
       "20Uzc5LtZHZdFIc8eSoYheCWzH/gbumVf3Bmbh7gTR8YljgbxOTSWiMiHnZKHY0WLk+pQat2+2Ui\n",
       "zFK2XrnYp7P3/Hq+TIxGxJ2Q9GS08rB7Xb3Rr1Fng2eSkRv4GpWzw+P37A9Jb/A16qyGZED5EVaI\n",
       "a3DTWOFmEfo/xJoUqTe2m1wAAAAASUVORK5CYII=\n",
       "\" style=\"display:inline;vertical-align:middle;\" /></a></dd>"
      ],
      "text/plain": [
       "<IPython.core.display.HTML object>"
      ]
     },
     "metadata": {},
     "output_type": "display_data"
    },
    {
     "data": {
      "text/html": [
       "<dt><a class=\"ProveItLink\" href=\"sets/natural/_axioms_.ipynb#boolean_natural_membership\">proveit.numbers.number_sets.natural_numbers.boolean_natural_membership</a></dt><dd><a class=\"ProveItLink\" href=\"sets/natural/__pv_it/axioms/63a7578ec0e96253c6172a8876ea8d4806af0c4c0/expr.ipynb\"><img src=\"data:image/png;base64,iVBORw0KGgoAAAANSUhEUgAAAJoAAAAUBAMAAACHazmMAAAAMFBMVEX///8QEBCIiIhmZma6urrM\n",
       "zMxUVFQiIiJERETc3Nzu7u6qqqp2dnaYmJgyMjIAAAAcRTyBAAAAAXRSTlMAQObYZgAAAixJREFU\n",
       "OMuVlD1oFEEUx/85bj9uMxtTpEgVg8HYCIaAVkZOUkQEUVPERvAKA4mFBCFaKOawyZ0g2UJJGnFJ\n",
       "cYQUZ9DCIs2RpJCocIidH2xACwN+dWrlzLzZdWYvm+iDPzv3ezv/m7czb4CWKDRJWdEeZPNIDN7r\n",
       "dEkpHd63yjbY/i5MphKHuue2rhch+Avxe1tPflZqCbc5BjwG6ulENOrdHZJ8QdRW1lL+AKk17Olc\n",
       "L9oA1ptKlM/goCt5R8gfK1rKCUia/+yN29LtVDgOh5fcaXLhtupK7m8uL8/rc+eVkrDuhGptD0r1\n",
       "kLvho8mF28YS8Z+Vyi19cp/SYv/9w7KkejzJDp5YJeG2DoNzt/z0OHH+qOpu90hew7/myA1PttAO\n",
       "WPG1cPsAg6N8cuZHkfgwvEh3u0liIfudl5+v/NcNV+wLfPAMBheVvnpH3EHOOKpdJA8uvW71fOWh\n",
       "3GrY4oNLJhdubr4pOWs62MEN2EcHoaCvzWqcj90KxtpclCQvRPxMYu1o/zmjUp5ToFNzw1t+EjBi\n",
       "cuFmi6YSvHoZyIVXnaKxC+3hEU4FGEzcuD1bSHZh0Fib3yD+dIp/BHyJU+uksytzeEjHOT7bHWJw\n",
       "guu4yRFdxMtjitP3+RWnRki1A4tDtDvexGnajpluUJN+MnjS9ZL7oh7ru5XZWfnnqoPiy2Rqd45H\n",
       "LGJ7dn0cLV2f5rU3a5sxrCLVHemo/w/Pui2h/90/871ucj/I5H8AFOie/mc16OgAAAAASUVORK5C\n",
       "YII=\n",
       "\" style=\"display:inline;vertical-align:middle;\" /></a></dd>"
      ],
      "text/plain": [
       "<IPython.core.display.HTML object>"
      ]
     },
     "metadata": {},
     "output_type": "display_data"
    },
    {
     "data": {
      "text/html": [
       "<dt><a class=\"ProveItLink\" href=\"sets/natural/_axioms_.ipynb#natural_pos_def\">proveit.numbers.number_sets.natural_numbers.natural_pos_def</a></dt><dd><a class=\"ProveItLink\" href=\"sets/natural/__pv_it/axioms/dd03707c4c5cebba330c31788d29dd7843e707d50/expr.ipynb\"><img src=\"data:image/png;base64,iVBORw0KGgoAAAANSUhEUgAAAIYAAAAXBAMAAAA8bSpEAAAAMFBMVEX///+IiIi6urrc3NxERETM\n",
       "zMwQEBCqqqpUVFQiIiJ2dnYyMjLu7u5mZmaYmJgAAABN0h6tAAAAAXRSTlMAQObYZgAAAcxJREFU\n",
       "OMullD9IAlEcx79oml7P84aKjAQnoSLKrUH6A0INDQpNUdjifkO2BGm4NvRvk+AUGsKExgiC2xqC\n",
       "cI4QaShySYoggqB3d3rvIZec9hse7/vu3efe+/2+9wMgVsFiHR1jY8xymVzzqtiZgXDcalVs2GQU\n",
       "6vR936XVI+HAHmNAJsftu20x7mrm9Bko9cQg51Jrugxk1F4YQOCiOfkCpuUOjIlcJChxDKaB10fj\n",
       "RD+UIUHYtGJ4aKaVmEQ+OAbTNHZy2uj8BpJSWxVbsR2HS87D+ckYnNZicl9j0HMkFeDGArFKC0bI\n",
       "e+sDOoPTOmOF3QWewz+c19/Qr2TehWnzLlpOMzJwZZmPBd19/prKGEybOUUMeFPb8uE6LWI4a9TF\n",
       "rdDaK4zBNKtt02OsLrflKrYE1acajPkQSmKcMUzNecwrkxTvJnEpqmJXqghNf4wDsy9cPkzNeZ0U\n",
       "RuLGbrGaCAJT2mI6HRG6+OeYI8VwzT0DPedp4X4NaHOeHUY0AL9KKjoDSrmb/tGqGLCHMFwnsdgi\n",
       "Zcx5teXu+liIDik8uJA1zuFI6Ibi++mQjX7qbOAojTNNPwF19BKOLEZr6KOmdeRD8OAfMUjzoccv\n",
       "2DCKfuWW7J0AAAAASUVORK5CYII=\n",
       "\" style=\"display:inline;vertical-align:middle;\" /></a></dd>"
      ],
      "text/plain": [
       "<IPython.core.display.HTML object>"
      ]
     },
     "metadata": {},
     "output_type": "display_data"
    },
    {
     "data": {
      "text/html": [
       "<dt><a class=\"ProveItLink\" href=\"sets/integer/_axioms_.ipynb#integerDef\">proveit.numbers.number_sets.integers.integerDef</a></dt><dd><a class=\"ProveItLink\" href=\"sets/integer/__pv_it/axioms/2fdd515e22afbf0cee72469e62fafc707e10e9190/expr.ipynb\"><img src=\"data:image/png;base64,iVBORw0KGgoAAAANSUhEUgAAAL8AAAAaBAMAAAAUFZBoAAAAMFBMVEX///9UVFTc3Nzu7u6qqqp2\n",
       "dnbMzMxmZmZERESIiIiYmJgyMjIQEBAiIiK6uroAAABqpg13AAAAAXRSTlMAQObYZgAAAtBJREFU\n",
       "SMe1lk2I00AUgF9+Jk3bbSgIi6wIXQ/irREPKj20CLoIgpUKgqhE6cHDlg3o0q2iBFaw4iU3WfDQ\n",
       "g1ZXRANFUHbRKipF0C0ingQrqHhQFHoTEd8k9ic/E7DFgUwy85L3zfubCQCjSR0Yu0XDhMfH1w9K\n",
       "MkTYCJ6OnfFaWlHZSg6zRREzcFq451/mc7aWBMKVd79WXq7WvKK0KjyqNoCsvXIb8MOv5WxIEHS8\n",
       "LmpgyT7RIQC5hnHI0oHtBIF2pO3XcpQN4HE9kTyQ3DGf6CkA9zZqwgQdWLSLjwCANwhQYVrSfegu\n",
       "Ar6ok5CgI1trYhTAgt0vyr5EiDURsDmZUccEXLWVmbf8SYRe4VJ7pWQIQDmwaamC9yMhgO906TsE\n",
       "wx6QFbvZ7pINCiCdZQ+AswYfE/kSZFMAd0MAcxp2k1zKJ4gnKQDWcSU3YJ82eKeYsCCN47jOBqRx\n",
       "w1H0TwEVotuArbDqApx8TfPVsVRTsx1n9RsDipI4N3wF0w/dUfBa4ACk/Kzbgq9DFsB+gA1/rfUH\n",
       "cWDBQYJdcxAD+3XZcRFck/t1kLFjYLhL+KfgjUFpvhN93AfMpYBPTuOw6VkAVcThaskWOjpPuxlf\n",
       "mj4DsUuGs0jYXa6JRgFO9QGYRbK6CMKU4d1EkBjP9TaaDKKUhhfA/wZi1Yfr4OaubSAuRyBPyufK\n",
       "p+nMbfTq5VZ1reVNBKUL0vtWzzH8/T3F9aqvDtrAT+UcwI36ko7pgk9i8YSZ71uwwMwv9yYqXak4\n",
       "qcyq5Dsv4ImzW4laoT4APGAC5oOnSTMQwO9sQxe2OwBC9B5A6DIBs4wDjXEecKbShFK1WjVFja+1\n",
       "e4AY+8zkcsHzASca9eaEFslrnGMBfMbCk5x61ZgAwQqeF4PP5DQkPmqEqot1IJbvCa+HbFMz//T/\n",
       "8AGieMBfwKdvDwF6juGNkE/EEf6LohgD136hwv9vfwAWGK90UNmFmAAAAABJRU5ErkJggg==\n",
       "\" style=\"display:inline;vertical-align:middle;\" /></a></dd>"
      ],
      "text/plain": [
       "<IPython.core.display.HTML object>"
      ]
     },
     "metadata": {},
     "output_type": "display_data"
    },
    {
     "data": {
      "text/html": [
       "<dt><a class=\"ProveItLink\" href=\"sets/rational/_axioms_.ipynb#rationals_def\">proveit.numbers.number_sets.rational_numbers.rationals_def</a></dt><dd><a class=\"ProveItLink\" href=\"sets/rational/__pv_it/axioms/01bb7410f4a481508c3c3ba12a0cfb430c19f2360/expr.ipynb\"><img src=\"data:image/png;base64,iVBORw0KGgoAAAANSUhEUgAAANkAAAAqCAMAAAAJZg7zAAAAOVBMVEX///8kJCQNDQ0oKCgQEBCq\n",
       "qqp2dnaYmJiIiIjc3NwiIiLu7u66urpUVFQyMjJERERmZmbMzMwAAABdFfPVAAAAAXRSTlMAQObY\n",
       "ZgAAA4BJREFUaN7dmdli4yAMRZkZdrH//8cO4A0c29gJbtLwlLZE9pEQulIRemYx69Edi2mF3rmE\n",
       "kfMLCEcdx9DLNA/6jWCA7fxZYYGQCR29hs37yFyABZKlX9iO1kkgbyMrQjZASt7TfHDvI9M1JAR/\n",
       "k/n3kUGg+fygLyRLOaENIuLLyJCNGcakRrT8u4cvIAPNuReaV/WVnqq2FH6CzDtrrTlb/1uPLsnA\n",
       "YrlT7ctvcEb9DWSgtYx5AkZb6E0Wy/j2JV660cRsBSn6k1nl/EDoDXQn2y68oijuDOdvme5knKHR\n",
       "qAV1xmq4QqbCprN0UQKtHrQH9CYzUdWOjAqdOY8tkVCRUdkK2egpNQXX9NJqQiPPRv+yM/daU9hV\n",
       "Nky8Pd3DF8omCAZPqTBqNBo6dQ6KIzI+2cePbHo9U6wqSLLl0+puDDF1IYja6r+/hVWRhQzyExng\n",
       "TsLR12QtoS3ah6UkG7In8P2QRTI3kE3lXshOaMVpJIg2ZBLBJXpY1g6ZM7O8LJxZ3RHr05gSHndR\n",
       "a7a8QVr3EmgrrsQsHzm1ysyViaBX6Us6BS3eG3a+9RnayrOSlwV1gSywqlXNVv/g2qq1g12YI9ar\n",
       "K6JLpT7jK9e6uyoyNTXeRRxXUV9VahVYv4mRG9SVO2USAj9PpqNJW/tLPbhPJnU1B8rKrtOwYMzp\n",
       "+QOmF259x+nKX48KDijniyjBPacq+W3IWVVTyp8tLX9c7Ym7YL4LGhXERAdfVsSPWv6YrCm6u3ee\n",
       "IvZoxqnLZI+H+JCMUPTTZE+28xta/pCs3Sd9CtmGludH5UihrmTKmLvItrX8fRMejS111s3JTV1j\n",
       "w7OPXmn5+8iAUJfqbaq8FDiUk4bDDc8+elvL9ydjlghIj4ognomlRE5O3d3w7KM3tXy/oZ/j2vi1\n",
       "bnHFeDN2dVzDwYZr4wXZ0PKvTdIWN4H08dUhTzSK8AmyXFFcAuLuYMNFKab2tHwPybAkbboGvMyx\n",
       "K8h5GZE8pDYHGy72qkuMtrT8i2BL/FOXy9PZ9NLmldKZ5umymAZd8flOH2y4GjU8FdwNLf/S6EJK\n",
       "X5zLGD3L0r2wpJ4ieQIw9f7ptCQH7G643q7CrpZ/iaxKECximuVmeJmNO5QzW6bJXnyHmGbM7mz4\n",
       "4KU0J3xoGu14RpnWmlIjY4x8ipWPP6GdDb9k8SmNSnXd2vBbV89/R37WauT3fyIlKrSih1qgAAAA\n",
       "AElFTkSuQmCC\n",
       "\" style=\"display:inline;vertical-align:middle;\" /></a></dd>"
      ],
      "text/plain": [
       "<IPython.core.display.HTML object>"
      ]
     },
     "metadata": {},
     "output_type": "display_data"
    },
    {
     "data": {
      "text/html": [
       "<dt><a class=\"ProveItLink\" href=\"sets/rational/_axioms_.ipynb#rationals_pos_def\">proveit.numbers.number_sets.rational_numbers.rationals_pos_def</a></dt><dd><a class=\"ProveItLink\" href=\"sets/rational/__pv_it/axioms/12916d3c554423eab1f358b7cc86f0631bcee89a0/expr.ipynb\"><img src=\"data:image/png;base64,iVBORw0KGgoAAAANSUhEUgAAALoAAAAcBAMAAAAkZbgxAAAAMFBMVEX///8QEBCqqqp2dnaYmJiI\n",
       "iIjc3NwiIiLu7u66urpUVFQyMjJERERmZmbMzMwAAAC8H5PlAAAAAXRSTlMAQObYZgAAArxJREFU\n",
       "SMdjYKAXWEBT0w/Q3XSWKwg2XwM+3W8jSDadYzMSh3kCXu0TH2C19MzplbhMZ/lAlOmmzkCTeTdg\n",
       "kelansCx6wQD1+7d0ru3oEsyFxBjOrcCRxmaWhg4eQ9ow+sG7G7HY3q3A5zpyMBgjd10Vgegh3g6\n",
       "F5BsOod5AIx5ioFBvwGr6dxsF4BWTDhBsukMDOEWUMYvBob5ClhNz+ID+pDTwRKP6WwmEZFIpie7\n",
       "tkKtcb8B8cVfoOkBDMwCmPqnMikAU3KACsJ05t1gcAHE5gKlg4kJXB8QpnOKMayHadZeBiLZPjMw\n",
       "vA9ATV9Q8BRiuhKQmYApqwhMaRwiEEugpjc6MKyGy89eATId6Pb3BgwMezH1c4FDRsEMa1J7A0xo\n",
       "DLwfGBgNEKbfZ2AQRph+AhEyDFylGAbwQGJ1Ae78x3iAIX8CwnQZBrafqCEDilV9YAjswtTP6XAA\n",
       "lCIdkGISEu5g+7iAkv0BDP6INMPxFRHA0FhlOMPA4N+AFu4cVrYgqy1BuektjlwISjP9CgynkUz/\n",
       "xMCzAS1FQnMTPM002V5hSF3AYAL0D8v1BI69DnhM5w5g+YyU3rcy+Bug5SZ2BQ45pLzBciijgSHM\n",
       "gaFVDcT5vV+BAY/pHEuDfiKZ3hWqPwGtJOAwjXoANb03dBLDXFBp/SiBgZUFJGnJtACf6fCSEpZX\n",
       "/fG4pI7vGwMo4FhagGmFFSxspn3VAIcOAXieQpi+GrfpvBf4BDhA+ZAVZDozWDz3zF4chSvE1ZDk\n",
       "DjddGLtaUPnOqMC6gK/mzJmjTKCQYSZUG4LqJub9tcimW3+/gD1vAKX7E3gCwLU/xzJgrDoRMp0J\n",
       "qV5lfUCwXmVMeP+AwQ7EjV3AYErtZgDnUntg3gQlQdbvNr+o37DwBuKYM0dB+X8C9U2/DGOwHXNK\n",
       "o7bhvL/hkdNqGwEAfXfFnFahWOgAAAAASUVORK5CYII=\n",
       "\" style=\"display:inline;vertical-align:middle;\" /></a></dd>"
      ],
      "text/plain": [
       "<IPython.core.display.HTML object>"
      ]
     },
     "metadata": {},
     "output_type": "display_data"
    },
    {
     "data": {
      "text/html": [
       "<dt><a class=\"ProveItLink\" href=\"sets/rational/_axioms_.ipynb#rationals_neg_def\">proveit.numbers.number_sets.rational_numbers.rationals_neg_def</a></dt><dd><a class=\"ProveItLink\" href=\"sets/rational/__pv_it/axioms/43d4797e138ff5348d2dcda4e90a40875d30d7c90/expr.ipynb\"><img src=\"data:image/png;base64,iVBORw0KGgoAAAANSUhEUgAAALoAAAAZBAMAAAB0qCmCAAAAMFBMVEX///8QEBCqqqp2dnaYmJiI\n",
       "iIjc3NwiIiLu7u66urpUVFQyMjJERERmZmbMzMwAAAC8H5PlAAAAAXRSTlMAQObYZgAAApFJREFU\n",
       "SMetlVFo00AYx780Sb2mbdiDzyOI+CKyCuukajXORxGDoFRRyIsiwlBw88lJUffgZDQKPop92UT0\n",
       "ofg4qSvCtLo8FFR8kyL4JKOFgeKG4HdJc4nmks7Rgzb55+5+d/fd/7sD6FOO6+xVLcc1XC3Bf5d7\n",
       "Of9dtGKb3m9zB7VXnkZ2OQGboeePIjlb49TMPjHJYhNSNpZmqHbfZuhpjVzH6qucqndfcITvUSHt\n",
       "Q0+8ov9HAA7w6bKOC8rcrW6JLk2b9PEeYKTMpaeTLRzCam6FLl9zl7wO8Fjj0i+raLmUXoihJ0dL\n",
       "ZwJ0T8LtKbcN+Y10A8ShcPeHCQ2dbOwMTPGlU1qOeEatZirdAN2Tc5O9Dsk1gI4BUjdM/+bSd/Cn\n",
       "nhjGqW0HpebTPam88Bolce4dzIt6uL/iREYb48LVt7hr2S4IOZ/uyVlG70UGlKkQIOPuaoRnUjh3\n",
       "oQFXLJ/O5IQXGbqrIxiBRU5/vUEdqYfi7o73HKBi9DLWpTPJdhVszOnyP3En+4sL+CjQbFqFaM9U\n",
       "NFgJ0j3pO7KXTcwzt4of4UIVRnE90meT1PUYetqQ1gJ0Jv1s2qaR4UCuSq8vleG0DjO7qNhY0iCG\n",
       "TuZP/grQmfRPApI/2+7R5049gEfUD19NkCVaWUhU4+jgRdTLVZ6xwaWTm+oPoH6V7mDgZOfz2O5P\n",
       "uQj6Xse1tb/oSi2Snm2pQ4TmoUzpovN9wq5bcee7a3dGF/hToee7oMlV9YZtLydoZMR+d1MaSeLS\n",
       "dJDuydDdhNUVM2MAjTNZwF0d73v17fHtJLf73quC2WnDISrPVyHfgMGW1PxhzE1qQfnnwXUYeDmG\n",
       "v3P2Ms1/a/D0D+zkfDN+cdDw7AbbnJli6Q/n/LicDCTAGwAAAABJRU5ErkJggg==\n",
       "\" style=\"display:inline;vertical-align:middle;\" /></a></dd>"
      ],
      "text/plain": [
       "<IPython.core.display.HTML object>"
      ]
     },
     "metadata": {},
     "output_type": "display_data"
    },
    {
     "data": {
      "text/html": [
       "<dt><a class=\"ProveItLink\" href=\"sets/rational/_axioms_.ipynb#rationals_non_neg_def\">proveit.numbers.number_sets.rational_numbers.rationals_non_neg_def</a></dt><dd><a class=\"ProveItLink\" href=\"sets/rational/__pv_it/axioms/68822442655b6c9952f83fc976917ab0bc3c5ec20/expr.ipynb\"><img src=\"data:image/png;base64,iVBORw0KGgoAAAANSUhEUgAAAMIAAAAdBAMAAAAKp674AAAAMFBMVEX///8QEBCqqqp2dnaYmJiI\n",
       "iIjc3NwiIiLu7u66urpUVFQyMjJERERmZmbMzMwAAAC8H5PlAAAAAXRSTlMAQObYZgAAAvZJREFU\n",
       "SMe1lk1oE0EUx1+S3WSaj20Pnssi4sEirdi0Rhtd24MHERdBjVphL4oIohcrgpagFtEqiYInEXNp\n",
       "RColeJJKaBCqiV2koFIPRYLgSUsCBT9aFN/sZj+S3WziYQeSnTezM7+d9/5v3wLUNzbaBy61jqxy\n",
       "GYEtbhHg3Az9vwydSfcQ7wDIX/DwrhHgegm4HxAQLBMHjCHO8YQriVaIF9wvCIiNw5Om4PvSjjvc\n",
       "K9uC5YWnau+EgGfwWAgHoR1CdAR3j+RsZm4/kchsETtklKdx6LTsMdiUcPOT3g3xZAynL9gQSp+R\n",
       "8i0JZCjdREvNCdCT1Xp7AXbZE1gBDxa+lSHLytqTNvngQICHM7XOW4DepC0h5F9ETLrIqTFity/+\n",
       "FwG+l9TrGsBj3pZwlkMpdggxB4FQgr8/ccxE0Ey6wXP6T/4gQQRfl3X5Ay9mGCduqh/1vVSaep5p\n",
       "KkMpWDURNFPJ1DGKXAWoiMBUrYSvKmGjV8ZWtDuCtxsfcQMEcwZBN2nbR5/Dj2eoYN7kreuDipf4\n",
       "gaY+4t5IqPMqePoMgm5iO7rD5CUIXrRsEFYjnXF46+IZPAU4nzYIuglkUNQj3YvemLVZLxSoWgXb\n",
       "OKjcZwApsZbZKkE3/UvaQhlzP9kQB7IzTvMlRjNuBZy1lOJhwUyomf5pviHjdC1di3+AUxnoxxuY\n",
       "JYnkhRaEkMismgiaecfIjgBPuk05zbw6k4QjAkxspsb6nHNJQAKZOvTbRNBNk0eix8s1wt3D9+ER\n",
       "1cgXCViGTsa8mVYE0Dys5bSd8EElkHF8Q1MtMzdQQ6wyPNDz0an+b1NUnasjBHNNCZFFrovQHGEp\n",
       "wadmpZx3KiyKbGr61wiqOXmJtnHjVlofPDyb4a7I8ryXesnXTnUN4W6+uatmgmZaahxOp6SwCNTv\n",
       "JIuRHm6rgG81pMaWW9Zpj1Qpw26lFGQgWnDjy2tqD+YwlSf7c2jNnY+W/fgblefpuyLtDuG91vG/\n",
       "Hj7tBiCyrgdrIp74BzeC0oE9I4RiAAAAAElFTkSuQmCC\n",
       "\" style=\"display:inline;vertical-align:middle;\" /></a></dd>"
      ],
      "text/plain": [
       "<IPython.core.display.HTML object>"
      ]
     },
     "metadata": {},
     "output_type": "display_data"
    },
    {
     "data": {
      "text/html": [
       "<dt><a class=\"ProveItLink\" href=\"sets/real/_axioms_.ipynb#in__interval_o_o_def\">proveit.numbers.number_sets.real_numbers.in__interval_o_o_def</a></dt><dd><a class=\"ProveItLink\" href=\"sets/real/__pv_it/axioms/22fb4840b85d908ec2f1bff0853bdad7896d38aa0/expr.ipynb\"><img src=\"data:image/png;base64,iVBORw0KGgoAAAANSUhEUgAAAc0AAAAVBAMAAADWcajYAAAAMFBMVEX///8QEBCIiIhmZma6urrM\n",
       "zMxUVFQiIiJERETc3Nzu7u6qqqp2dnaYmJgyMjIAAAAcRTyBAAAAAXRSTlMAQObYZgAABRtJREFU\n",
       "WMPdWF1oHFUUPjs7s7OZndn44EMRlCXVVIrokiIi2ro2iChI1pfqg9AQbbEgYak/xdqG0ZduFOn4\n",
       "g+1D1GkDaQmlO9iHkiK6bIXKltZFC0kKhUVpSxVjCAg2gnju3Dtz752Z3W3smwe+bnrvOd+Zb/be\n",
       "c89dgJ724NX4WF+LApKnJJtjiNrnDJ1sridzV5vjsK6XoE3GrnQL+C7B5zhDgonDxrsVgIxDETHD\n",
       "pojZ/LqDS+taCTHHb1WilJbALMF5MvFrd51xnxsMCSYN54uYtU0RsbxDEbf2DLy44PIYJ4m5q4lp\n",
       "CVDnYbIg7O46Yz5WkSLB5OF+D/9pMMj2E0Pc7CnI9o3ymF+SmNFyCRvqm3IsbcPXmXfxw+uuM+aj\n",
       "OxSCvAN7JsIpbiMYCUcYZHubIU6BOtNOO4zRDrgJzOj/enw1zD8aT3vE12k1Z2cPQXedMZ9DDKFp\n",
       "77nCFLdz/ioqUchFpUKRQOHrtMOYzNZCAjMo+9zYo25oJqRFoE74q1rd10NnzGc9w9HBTx/wH+Kk\n",
       "K071PT50F/3ftYHH8G0WKeTHLFIYA7u2NmQK1JlRR8OYk1BJYD6xOyg6AQEY5wqQkBZBdO4AmAwy\n",
       "qEvJOkUfYh9SGHVrt+5Xi13S1JNOfplm/setOWChi+W7XVwi5u+3bIviBMwXJmQK1Hl6ixvEYBU8\n",
       "H2ee3h94hwTGI8G5I6dFEJ3DYjE8yz5P3//yz4LO4UjBfIfCdM1V1d8ktjhl3A1pOpBbhf4C5PD7\n",
       "yFUib0/3KJrwg/uMTGF/tGeCVAMWU4EvYsyZ30LvkGA8rCByWgTRqYPCz18Sbny9qaWY0CxwnZIP\n",
       "2p0UBmTp02n3kO8pmEqvgk6D022o1UHDr0BbjuhMlShcqEYp7KnhLFnENMYqQKYcZZ7hOgMCg+uU\n",
       "0yKITrOl8+w3EQtzs4A6L7e4TsmH6wTy2kA+dHA4ZUOtHJxjI153nQArUQp7Kv2UHerUXdBGY8yf\n",
       "7OdUK6yyhetWTst09rW3kfU+SA4jbWXQVcnuJzrrXCf1aTw8WJbWLcB2NnCHuG7xXX7Ljs8WPOGC\n",
       "iotHrfD9eU1ct6D9GaXA/fn+jxDEnAo6BImZ16GQgNchOa1K1y1MvoIub2qrRN5epZgHqnNTkev0\n",
       "fRR3XC9JdSjnPoSjZGBIrEM1D8Zz/rbtL+GOEuqQYEEdOqMsw0aZAnVuS5eDmBtMq8zMz5WQgJ8r\n",
       "clpWh+AUak4XNfLysgWrPe2TpHe+IdQh30eD38VyhRjxDrJOXPeEKWR5y4Qapsi0svi20nUKyVjF\n",
       "V//OLtP+nFNg32d6O1iMZtO1KzBLfQIn4H2CnBbh6yR7LOUpo/6mSY++UK1WC4r58SVRJ92HN4Oh\n",
       "pylmBo5upimMV5/lU8bYfZ/dC/pe/GvoAtkuZQrJ2IoyxjauvyJTYB9/Fap/eDQmQx5RKYjMUt/H\n",
       "CXjfJ6dF+DotfFk1J3sZP/rdlJeh6zb3kivotGj90zr2fer3sb7vTPDHMYYefV9IIcaB6v9ZTuj7\n",
       "etkxDjPoxlLO9ufgsKu7C2CW6f5sCnXIty/NtrmWPj5cqWvt48W4jjeE3ib38exdjn21GZ73tNfw\n",
       "4T4gfcLF+vSWiM6ZS41mwDEJkQ6JWzBsBOdvh3tZ1qHofItsd2C+xUuofC8TjVYCBfdnpO9LvEz3\n",
       "uGdbPQR1vGeLcf/tni2lzTpRnbnkt7vhNn83WWRY6+8mi7f3u8kih3Jd0mnB/9f+BbdS5pRTRqZz\n",
       "AAAAAElFTkSuQmCC\n",
       "\" style=\"display:inline;vertical-align:middle;\" /></a></dd>"
      ],
      "text/plain": [
       "<IPython.core.display.HTML object>"
      ]
     },
     "metadata": {},
     "output_type": "display_data"
    },
    {
     "data": {
      "text/html": [
       "<dt><a class=\"ProveItLink\" href=\"sets/real/_axioms_.ipynb#in__interval_o_c_def\">proveit.numbers.number_sets.real_numbers.in__interval_o_c_def</a></dt><dd><a class=\"ProveItLink\" href=\"sets/real/__pv_it/axioms/818857c3f82b363b3761a9fdf1232d7c26ce8e060/expr.ipynb\"><img src=\"data:image/png;base64,iVBORw0KGgoAAAANSUhEUgAAAcsAAAAVBAMAAADbb9ifAAAAMFBMVEX///8QEBCIiIhmZma6urrM\n",
       "zMxUVFQiIiJERETc3Nzu7u6qqqp2dnaYmJgyMjIAAAAcRTyBAAAAAXRSTlMAQObYZgAABSVJREFU\n",
       "WMPdWF1oHFUUPtnZ2Z/Z2Y0PPhRBWVJNJIguKSKiratBioJmfal5EBpqIhYkhPoTqG1YRXCjaNcf\n",
       "2j5EHBtISyjuoA8lRewShcqKupRCk0JhEGpQMYaAYCOI99yfuXdmbmab9s0Dh93ce853zjc599wz\n",
       "C9BR7r0aXcu2mYJ+S5X8ShkWtoTAZKETcLwsSMUMPFy7EufwrcbmFFeNqMvWGxMAdhlSda2ZFuHS\n",
       "tiOr2wijiM+p62VIo6K7UJLB97jxWzzNqM2vXDUSWC6UaBDL05rpEbw5GF5yfJ+sFngT6auIqOgu\n",
       "lGRwHJGq8TQjNvkSU40El7tdGgQWdWabIFRnIJMd8X0KJR0wkVzkMFnni35U6s6VZFBwyIcbTzNi\n",
       "k64zVdJ+e3LK35Iy5DCan4VBYxAITaPu+T7DB0EDTOxfDld19oG2jErduZIM8q35+WMQTzNic4yr\n",
       "L+abjrIl5TwwmoVyCDQGgdKs+j6jPTpgSBxywizHXSUqdeeKGfxdqx3qQDNis53rid6P76F18rmj\n",
       "bmUfHriN/fVLz0M0iB2uOIFg9ex/bDGIQGimkiPCx/LSOuDTB0ShCgDzff9RYlTqzhUzGAOYFvvJ\n",
       "VT1N1QblPaZWM38gTTvF/sDWo/XCGsvhX6dRxyB5tLJXqZQUBDgNl4pTQQRC88wuh/uQw8KPSwB4\n",
       "9rCw9gFqFf+IYlTqzhUzGFT74Df888zdz/+s0BwM9crXmdqOvZGkJ6Sqblm3g8EWchvQXcQguYnQ\n",
       "s+MI0IKfnCeCCNUPJqeQGfNJQ9aLAKd+9619gL5+vzdhVOrOFTNIQ0Leu+hufbWjnbChVZQ0AzZE\n",
       "bmVqQYZlZ96B/yaxZWxAmjkbHjSaGMRcC9HkCOBALYxQnRnMYAUznwu0lkLAc5KmACAXbot/oVGp\n",
       "O1d6bNppGf0a0aWFeSA0L7clzYCNkiQ+NQjeNmS5qwqNirgMhtxYmgDrYYTqjPF41adJ+uyeKPBH\n",
       "hyXUuvjy9YMgo4ZpZj2Eme3FW8hc73WSeHaQZlPSZDaL9/dWgiUHe/nCLWo1kkd5jl+bbXjEwSDJ\n",
       "CXk2RwII5l9hBHI237kA3CdHsinUI8CyBfkARJ4ek1GpO1fMAKZHSfm9am4gu4OJUgEYzR0lSZPa\n",
       "JJzxdDnQgnLOfWQVFwbUFtRwYTxHU+suk+PktyBNE4OziTXoDyIQmnuMCvdBirlSBFheKD4AvWPf\n",
       "8qOGWxB8SSgbJROfXaaY92YpiPHCK0oLojYm/KF2KqJD7hH4hN3drrJFUF6zoUFCpNoZ1s6NZogm\n",
       "R0j+k1ljI7lEIMOe7Y5xn2FeuApwYDyQAFSOYnXRqNSdK6WJ56vLTWAtdZWNkWdrtVoxYX94UaXJ\n",
       "zuA1sbSb6VzPiZ0shPXik3LL2nfX0TshTZKzBn7g40ElRHO3MO3ffiWIQEb3q1D702U+o7jUEwAO\n",
       "DHsSQJn5MCp150pp5sl/v1HPXCYf3U6Xm2JFm3vOUWjmWeszNx3Vkt9Fhr2z/BODnOw87PkIQqgP\n",
       "PSWmbtjrJCel2mJw6KrvfQqOO2lnCewKO5stpQVR+dT27K2M7k2F5lZGdyGLce8EnSU4uvNHue+L\n",
       "nfCMa75EcnsXx4Mfm7O7QjTnLi6Km4nORNN6eLFsFSVNzYtYDAL39zYB3sR8ZRKlororL2KqsC6Q\n",
       "IGczNOxd/0uxXM6DpJmpbwWBSeaGX6t9d6FBmjl99ffd3I8kiZUyLN/AjyTLN/cjybJUzECtfvjf\n",
       "yn+XddxXMjmr8wAAAABJRU5ErkJggg==\n",
       "\" style=\"display:inline;vertical-align:middle;\" /></a></dd>"
      ],
      "text/plain": [
       "<IPython.core.display.HTML object>"
      ]
     },
     "metadata": {},
     "output_type": "display_data"
    },
    {
     "data": {
      "text/html": [
       "<dt><a class=\"ProveItLink\" href=\"sets/real/_axioms_.ipynb#in__interval_c_o_def\">proveit.numbers.number_sets.real_numbers.in__interval_c_o_def</a></dt><dd><a class=\"ProveItLink\" href=\"sets/real/__pv_it/axioms/3aac6a05036260fe2e410839c443a033b7660e490/expr.ipynb\"><img src=\"data:image/png;base64,iVBORw0KGgoAAAANSUhEUgAAAcsAAAAVBAMAAADbb9ifAAAAMFBMVEX///8QEBCIiIhmZma6urrM\n",
       "zMxUVFQiIiJERETc3Nzu7u6qqqp2dnaYmJgyMjIAAAAcRTyBAAAAAXRSTlMAQObYZgAABTBJREFU\n",
       "WMPdWF1oHFUUPpndye7Ozm588CEKyrrVVIrokiIq2roaRBQk60uNIDTEVCxIkGAM1BrWgrhRpKuV\n",
       "tg8RJwmkJZTuoA8lInVJC5UVdSmFJIXCoLZFxTQECjaV4rlz79yfmdmf6JsHvu725pzv3G/uveee\n",
       "WYCW9uDl4FiiTtGG9wJD2wxSXCCifVsQSF3Ng0PGLjULOBvic5whzFuY8d6bAJ1lCp81ZFjqPrja\n",
       "XQ+JOd6uQiUtgZmH78kffm8uM+jzG0NzmZDOYVKHwmeNGZw5GFi2eExCjpBNG2s0YzktAco8SpiK\n",
       "zWUGfFI5ilYyu2z8Z5FBsSYMxSmIJwZ5TDonImQ7MRoSe7oQSLvoykxb+GE3lxnwiZUppGl/MD4R\n",
       "lNmPgTDNoFgTBpQZKTs8ZmCfiJDs0LthG/6xYNppV2aqNj9/BJrLDPgcYeCmH7DCVvOcuxx5CmiT\n",
       "wZVZ5DHDWREh7PAfITPdWgtJi0CZ8FeptL+FzIDPFoaZns8eyJCBk5bkfejMPey/V7KP47PMUUAY\n",
       "g5Hd+/SiyoAyO6ODXozhxERE4oneO+kS/8rrjUcAxrkMhKRFEJl7ACa9mOhquEzZh9jHFEY1NRpz\n",
       "K8VeyTt6B1xjU7hlVcqQQg8CMFddy0kMcAKWMhMqA8o8tdNiMXhY2HEh3k+V02vke/x9cUQ9AuMR\n",
       "78JR0yKIzD65Dp5hn6fuf/VnSWafr1a+Q2Fa5kbUPTJFSeZ0HR6l35Mb0JWBJJZ3AghhgBr8ZD2n\n",
       "MhQ/GZ8gymhMDBKOF2HcBRHXTxvla88JRnjxUNMiiMwYaOLeJTve+GZ7XTOhlhEyFR+02ykMiNPZ\n",
       "6XeTZWLeT1rAimDEgUoVdFwAfc0nkzGABSU/Q3GqL05U0Jjz7l6i3pENiNFZpfZ7Oj0CQ8hU0yKI\n",
       "TLMeE9lvIJYX5gFlXqwLmYqPNEny1EC9bc5CNxjX+V3QbzeXCbDuZyhORZ4pcplYZ3d5ER1FqBTY\n",
       "iv3CC+86u1/5plXTMpkJh9DM9pAmTV/vsaLk7BCZVSGT+iw+3FNQtxzsZgO3CZnG35BkorrqZGmj\n",
       "uHMIvLM5qDDo1/0MeDY/PA8sJomzSZdZBK7Rt7yMXGGpPQJRgtS0UbppYXIYXcb0DaJun5ZLA5W5\n",
       "PSddEcRHs0ZieaUEJa2HcJQM9Eoyb0KnQxvSrjyeJlGCQooYfK2twTaVAWXuihRYDJGY9IpWxYaR\n",
       "pLeKesmdDCcQF4qalpUg+AolR3I6eXbxTMqZdWVGXntL7muIjw5/ypUK0W8fhM/p3W0L7wOwNFg1\n",
       "buH3znocZxipUijGGKI342u0JRcM2OyZ9h4WM8A2ruuN03vbFK08ObOCQLQHalqEK5Ocrw5bI3up\n",
       "Ix8ZfKlUKmU089MLskx6Bm94Q89SzGVndtAUxuvPc++57MtDeRjHVTZ6fyALUqBQjDEYQ9u2XFIZ\n",
       "sHW/DKVrNo0ZJkNZ8LzvO3yvr03nBKLZU9MiXJkpnFClHL+IH11Wh91JN23yFbmvSdHSpzds1aLf\n",
       "+Zq9JC/5xxhaNHucQY4Dd2PqIc1eSzsmYHo9WEd59wtw1IpZy2AW6NmsVX3t2xemY7bfuovNtdnW\n",
       "XY7zRWzG1NadPcqhL3fAi7b+Bmr7iLQHP1Znd/omPndhseZxTIKvLwrInOHbKvxFrDGDFBeIYHZy\n",
       "nNhYq3DpRUw2WgU0PJsNX63afq3mZSFepmibQYr7d6/VStp42S8zGb77t27qR5KA9wrDZn8kWflv\n",
       "P5KsCGhXFZkp+N/aP0mw7Rua963xAAAAAElFTkSuQmCC\n",
       "\" style=\"display:inline;vertical-align:middle;\" /></a></dd>"
      ],
      "text/plain": [
       "<IPython.core.display.HTML object>"
      ]
     },
     "metadata": {},
     "output_type": "display_data"
    },
    {
     "data": {
      "text/html": [
       "<dt><a class=\"ProveItLink\" href=\"sets/real/_axioms_.ipynb#in__interval_c_c_def\">proveit.numbers.number_sets.real_numbers.in__interval_c_c_def</a></dt><dd><a class=\"ProveItLink\" href=\"sets/real/__pv_it/axioms/a9d7906773381b2c8f95b41a45aeea22c595b0970/expr.ipynb\"><img src=\"data:image/png;base64,iVBORw0KGgoAAAANSUhEUgAAAcgAAAAVBAMAAAAwWGOcAAAAMFBMVEX///8QEBCIiIhmZma6urrM\n",
       "zMxUVFQiIiJERETc3Nzu7u6qqqp2dnaYmJgyMjIAAAAcRTyBAAAAAXRSTlMAQObYZgAABXRJREFU\n",
       "WMPdWF1oHFUUPpnsz+zsT3wQqm9jAqmEWBeq1IKtoYIiVN36oBGELtEKAStrTAiaWoJWMqmkLlbS\n",
       "vLSMCQQNNV3sQ6lIXeyCkGBcUEgJWlZjK40QQ1CwiRbvuf8zs9lN6psXvuzO5Hzn3O/ec8+cWYB6\n",
       "w1jOBG/Gygz1ra/2QjwftDvNsdEIck7DFgbSBcgMKnjvxxr2iY4UfiQ9kj7mqGKtW20jf0oA3QEz\n",
       "a5AhMJKvObd+GoEgp6p11UGjdmsowSzeX6opMlEgHylXv3mDo7ZIWGQipwNmqTxDcKSsbHjkuOLk\n",
       "NYZnbA8mmNEno05rKMEYJt9gTZH032Oe9U4z1BO5zkQmbL/ZdxzBYcaKMDiqOIsaQ9/YrwM+4WyP\n",
       "iop0gRLdIbpVG4ukGz2r34vmGdS40t9fCYgMrTGR1h1+p29wBB2gyN0pyQkPuYqh1YRdwYJw8i0t\n",
       "KtIFSpCcmZo6BbVF/jA19UlOv3eKQ47Otmo7mcgxkfCLv27lGKo4oCJNyYnssyVD478a3JbR3/So\n",
       "lM5BZvCX4xypI7LJcYaK+r0WjvHWD9txEtaSnq4nL9/Dlj/V1VKgIi/7D0+awWru3vcVeBygyOxj\n",
       "kjMNOcmQjsMnxFJKB9ApF5JGpXQOMoNDAMMyv5arioxkwPQk5wiDVUz2RDHJInnNOnQ3/M4uzi1Z\n",
       "N6nIq3g1t4yDnjGzzHAW5u2j4HFARMZfXxIcckrYOUFr6diRNUc6MN+Vk6NRKZ2DzOBRsCrSQCz5\n",
       "hXtf/FmbdtpXIAcYEm5iLYTTM/Ul+agMD7GLL11YpSIv+BYuWmCYgW/dJ8DjwIxt66eJxzg5OCMZ\n",
       "0vF2kdvKgdEjqz+NSukcZAZRMNQhRvfWFzvLRgJmbJWAObjPM8k7GSwwWV0+gHskCs8jLvAytxes\n",
       "v6nIgz6RDR0MLjjgc2DGSunjIDhJG9OIM5Tj+RnuSDqA5BGhkkaldA6s7+Woin4T69zFKSAiF8pK\n",
       "5DeQqyYSoImtxJi+k3eB9aco/6H1miIB19zrgKTrA51SZNSFcFYwlGO4tFvYr8omZzGvRfWJjFWe\n",
       "Jd8nWq/hiV5tdUN4xFFkUYk8g5ESLc8c8qYrccFOR4MmkixjfIVd/AONa1Tk4+pMXtfTFcJ81g26\n",
       "SPNTW3DOi6aDWGuOAZ7iUxEOsKBcz6iolM6BMxh+iSReXxifLsabRpo2cUTkzrQSaY6SP22RSq+3\n",
       "8MTd+8HALGm0NZHrEKlcpBd/4DGShUd/4vPC87mxAvR8KQdEZDj7oODc4ELRWnOM1fQY/pUOqGCn\n",
       "Q0b1FR44T1KxMR3GhDTtZGWCimx8uVd7KMR3kS+ZVFmvTwRPF97nffOAlq5vw3y2aN0iF4fhHRbi\n",
       "YX/FTlOE1s0V3uYPaG0dzOI5RE54kKUsY1DH6rlIbDQH9PFJt5dGpXSOEj9XDQUjSzO/Mfuc4zi2\n",
       "kfjge/3xTjO/SdZ5ngeTzeN7WIjJY660nmx+vqsD+smNifYyC3HNJzKUo7C62lr4u4FwgA16xjyx\n",
       "zjgRjG3YnMEce5o75UANGpXSOXAGSeL+XN5cIB9NbkMhwtI1/oKriVxgpSCzYVu3f8jX1sVFscO2\n",
       "Lle/rRMO5PyRE6JfM8G2ru5AukBJlLv8wSdhzI26VyCRYWdypuht1GIrc1DcfIOeACVyKw26dGQH\n",
       "GVsY3gad50/XZ3vgQCH8CpHxHj5C54oTe73Ttg7vb5cP3GHQ+qSqIsc1kcFXLWygzHytWU5XYYhd\n",
       "+rUfh+dVa5re6vPQ1auWPljXa5AzueHL06ZfmsuayOHNvzSDvoy399Ls2YVhv8h41aU1jm7p5w+/\n",
       "9Y5eSN7Gzx/J//bzB9IFdvR6/gP/0/EvKjHjCzqBee8AAAAASUVORK5CYII=\n",
       "\" style=\"display:inline;vertical-align:middle;\" /></a></dd>"
      ],
      "text/plain": [
       "<IPython.core.display.HTML object>"
      ]
     },
     "metadata": {},
     "output_type": "display_data"
    },
    {
     "data": {
      "text/html": [
       "<h4>proveit.numbers.rounding</h4>"
      ],
      "text/plain": [
       "<IPython.core.display.HTML object>"
      ]
     },
     "metadata": {},
     "output_type": "display_data"
    },
    {
     "data": {
      "text/html": [
       "<dt><a class=\"ProveItLink\" href=\"rounding/_axioms_.ipynb#ceil_is_an_int\">proveit.numbers.rounding.ceil_is_an_int</a></dt><dd><a class=\"ProveItLink\" href=\"rounding/__pv_it/axioms/3dcab0cfd181e083439e15a83e4bdb1f03bd0f1f0/expr.ipynb\"><img src=\"data:image/png;base64,iVBORw0KGgoAAAANSUhEUgAAAIoAAAAVBAMAAABrmWvBAAAAMFBMVEX///8QEBCIiIhmZma6urrM\n",
       "zMxUVFQiIiJERETc3Nzu7u6qqqp2dnaYmJgyMjIAAAAcRTyBAAAAAXRSTlMAQObYZgAAAi1JREFU\n",
       "OMudlD9oFEEUxj82t7nbzdx5hWCquCQgkuowpBOJsQhKiqu0CeRQI14RiSBYGIJo4V4k4bCIdi4E\n",
       "RA45AhaipFguFrIB3SKgCJEzaKHgcgqCYuPM7M7suu5eotPMm3+/mffeNw/YpenLXoUbmufZ+K+m\n",
       "udAqIbCduKmvDvCV7RTKQ0QpiFEyl796B967qAKbbPw5hfKpK0W5WUY7BzSBe+zh15Mh+VJXSo8N\n",
       "svYcIAYKFu3WkinZeiIlf+vqAqdYWFHpRXoReafRuJviEJv/m6LesOTMYo7ZH4AfpjmfQhkKKPpg\n",
       "dbwlKc0Qkjd4XjaAGaCWQlkKKI/w2liQlGokhzqP6DvgxJ86eHL43I6wrwUUB6+sk5ISScVMb52f\n",
       "oSGE4gpZrY+4CoFjBOP9AcWCGcZFHfBo8wVTmuT9NE2QmxXoN08boJS3bowCfAspEVkU2LscTtHa\n",
       "p+lEa/RQOVNiUqIUO+YR1O+RHBUlZZOM8eEEtWvn6VnrUnasAJ8yUopF95nSwbCkHJG/rLJCRVPk\n",
       "0cXjOXoZvgCrnNJz4YrYtuFTMr9yHc2VlKzQaM5ahD5LnTpKB/t4MH8CZ0zTNBRyZ0tQJnyKfnZ4\n",
       "aDv0SL94yl8+vtxvHuynD//IpMNUpHZU9Poe9U1Z3X9A5oX/A2TFmAuM+6RNQMp+XBx7b79RNCKU\n",
       "8WCrRTN2mynopb16TKzX9kRpxgoGjcs/VKnIXbtVTD1SbCvJVaiO30pZmvo6YvYwAAAAAElFTkSu\n",
       "QmCC\n",
       "\" style=\"display:inline;vertical-align:middle;\" /></a></dd>"
      ],
      "text/plain": [
       "<IPython.core.display.HTML object>"
      ]
     },
     "metadata": {},
     "output_type": "display_data"
    },
    {
     "data": {
      "text/html": [
       "<dt><a class=\"ProveItLink\" href=\"rounding/_axioms_.ipynb#ceil_of_x_greater_eq_x\">proveit.numbers.rounding.ceil_of_x_greater_eq_x</a></dt><dd><a class=\"ProveItLink\" href=\"rounding/__pv_it/axioms/714fcfa0ec5368e967e9672f6386e4b82b3f66b50/expr.ipynb\"><img src=\"data:image/png;base64,iVBORw0KGgoAAAANSUhEUgAAAIoAAAAVBAMAAABrmWvBAAAAMFBMVEX///8QEBCIiIhmZma6urrM\n",
       "zMxUVFQiIiJERETc3Nzu7u6qqqp2dnaYmJgyMjIAAAAcRTyBAAAAAXRSTlMAQObYZgAAAhlJREFU\n",
       "OMtjYCAAuPreJYAZnO/eHWAgC3BeYOBMQBj4AKsi7gkMDGCZuzhMWcGAbAoDdlMYMhkYToPoVzhM\n",
       "eYnFFK7iBWiq1jEwzAA5vAG7IbwG2NzC/WwCqjIeBQY+oMk8G7Cbwj4Bq49YngWgRoAAA++pVaum\n",
       "4/AQSBxbuLB2OKCoe8LA8KOjowaHKcpQU7iUMp0OIYcuZx7E9YvUpugoMDAcZmBIZWDoxGFKL9SU\n",
       "NQzXFepQ4ojTHBQ2XAd4i9iBgvcYGJxR08F2jeRHMHY11JRTDOcXeKKYwlsMDtYFPL9YgMZtBwYh\n",
       "A9MFWDDtMb7AxMNwSgHKF4GasoChAzW9MNWAY5uLgQMcu/FAAy+wwyRv7FzFADTl1gU0UxgYPqGY\n",
       "sqYIpoNfAWoK54MwIOOQqVoAiwHIGqApB9B8xMD6FdmUybVwn8WD49wdiDtTgHoX5LE78DFATDE2\n",
       "QAvdXUwfGLTgpkx7Dc9BC/SBOsGhy7C5AGgZw1sGhsVgU5jTSmCqDkNMYfnN8YHzAjwHtMBd4r+h\n",
       "n2EukLaB++0nA0N4R0eHAhPPpCswVe4QU7iStJTvYsuNy5QW2YJMfwqKNVB4s35gZWCD+Ig7ZgH+\n",
       "HIBRBBVAGfN5HvAw8ARAwuXUAby5EQPwwFLGsiuHTjEwdINS3bkDi+1g8p3YSobn5SAQgFIyIAMm\n",
       "YLiQUUp1Ei4xuZAK2wTspdAEBgA4hZXtUbDWswAAAABJRU5ErkJggg==\n",
       "\" style=\"display:inline;vertical-align:middle;\" /></a></dd>"
      ],
      "text/plain": [
       "<IPython.core.display.HTML object>"
      ]
     },
     "metadata": {},
     "output_type": "display_data"
    },
    {
     "data": {
      "text/html": [
       "<dt><a class=\"ProveItLink\" href=\"rounding/_axioms_.ipynb#ceil_of_x_less_eq\">proveit.numbers.rounding.ceil_of_x_less_eq</a></dt><dd><a class=\"ProveItLink\" href=\"rounding/__pv_it/axioms/b4117e872f05b21c683fc041e62fa5be03262a8c0/expr.ipynb\"><img src=\"data:image/png;base64,iVBORw0KGgoAAAANSUhEUgAAAN4AAAAXBAMAAACWruz4AAAAMFBMVEX///8QEBCIiIhmZma6urrM\n",
       "zMxUVFQiIiJERETc3Nzu7u6qqqp2dnaYmJgyMjIAAAAcRTyBAAAAAXRSTlMAQObYZgAAAylJREFU\n",
       "SMe1ll1IFFEUx/+Os+7O7KxK0Eu9bAmyRNCSFD6obAb6EOX20MdD4WYpBCIi2hcKIhZj9rFUWAjV\n",
       "oCFlYgsRJvQwKEFsIQv5kFExlPlQKT6WEHTvnZmdmW0Wo9UDy507c8757ZyvO8DaycOlBf3i3tIP\n",
       "rLfcBQas3birjj8OaPTiY844sdvBK3TXOg28puu3nHmF8Ww8rsPx2nfIInTnzHuLLLyxNpuWFESh\n",
       "QpZEzrzzWXg3uxxRL0YgOTp6O2ec0OrOG/ju1JsHfspyZ848LmzwhkpvbQ+meUfnTYWhnRA2AdNA\n",
       "I9D3b04j2R/5UjpPVANtXs3k+S6mFdQ94JaBT8BeiJrNciJ08rPT14kr5WXswqqqmngGz5vQeZIi\n",
       "rfBxk8e1KWa8E1XwEfsJogouZabzRVmKk5AMpv08nq4kpZDclsETdkedvLyI8X7MazqegU4DKGID\n",
       "iojbevKXUl7T6t3kKAjvvclHoH9QQcIzl8rgQSiPuvLAvFr14v9iRIJfQX2U8QTtMNlP7SqN8jTp\n",
       "lKeStTqGCyTWVPIlWDy+FF7yp8VXEd3IGU8wr7Z+4Bd0jXwNW8hSS359pwhFafFGmBLhlVGuuuIp\n",
       "1ocd5p7ZeFKRcpBFaEZhRs568Ss7iC97v3tkpuKL4RJYveAp6R0PFoFhxstvaqcBe9DKdYth5jmo\n",
       "2niDtQgxvUXdyBgcRj/UJa7TyW2fZ0Ije78Y/5ssFemI/wKOyLIc5KQbs0xBLQh6zslyDyRJERQr\n",
       "fxVooP3UbxgZYTP6fWTrUGXKbV6LDSVU+SstCurMs+xBgR5P/zF6wxvJiyJG7+w7Dilu8dqxkUzF\n",
       "XhhGq8wzS0gGIbYam/uSJkGK6vlLqsJleKN1wEv6LBxmaTZ5HfwyhnvTRqvNa0Na8CTC5rUuI7NT\n",
       "SYDGaGJGHa7ybAbfcI1kmZRdoKl55oyNVxPScMhmZBSM23k0fpYKO4+60PP3McyR/Bl9g0e4StaQ\n",
       "3GM9Zjwx7kv9x3lbXUKDl3VwTqKZ1zJvMl6BeiDb98SYtStw1QnEs/FS2P8Grjz+A+mO56SSZWW9\n",
       "P4nCa+DjD/XX1+GDzf64AAAAAElFTkSuQmCC\n",
       "\" style=\"display:inline;vertical-align:middle;\" /></a></dd>"
      ],
      "text/plain": [
       "<IPython.core.display.HTML object>"
      ]
     },
     "metadata": {},
     "output_type": "display_data"
    },
    {
     "data": {
      "text/html": [
       "<dt><a class=\"ProveItLink\" href=\"rounding/_axioms_.ipynb#floor_is_an_int\">proveit.numbers.rounding.floor_is_an_int</a></dt><dd><a class=\"ProveItLink\" href=\"rounding/__pv_it/axioms/f40e9ce7ea11e33941cf278fe058a12d91e060d50/expr.ipynb\"><img src=\"data:image/png;base64,iVBORw0KGgoAAAANSUhEUgAAAIoAAAAVBAMAAABrmWvBAAAAMFBMVEX///8QEBCIiIhmZma6urrM\n",
       "zMxUVFQiIiJERETc3Nzu7u6qqqp2dnaYmJgyMjIAAAAcRTyBAAAAAXRSTlMAQObYZgAAAilJREFU\n",
       "OMudlD1oFEEUx/9sbnO3k9nzikBS6WJAJNVhsBNJtAiKxVXaCAY14hVKBOEKJQQt3IskHBbRzoWA\n",
       "yCFHwEIUi+NiIRvQLQKKEDlFEQXDKQiKjfOxM7ucu5foNPPm6zfz3vvPA7ZoJIhsB//VrADWVDRs\n",
       "J24aqIUrGymU++hFyVz6tjn0LkAZWOPjLymUzz0pxvUS2jmgAdzhD59LhtjFnpS+JujKM4A6yHus\n",
       "W0mmZGuJFPtGZVZQPCyZ7CJSgO3X67dTHOLzf1PMa56emc9x+wPw03WvplBGQgrZXT7U0pRGBLEd\n",
       "kZdVYBqoplAWQsoDvHJmNaUcyyEREX0LHAaJR+3R3jPvlX0lpPh46R3RlFgqpvtr4gwLIQwlT/J0\n",
       "LDAofKXRwZDiwY3iYu7cZE0KpnhM9KdYgoKsQr9+XAejvAm6KMD3iBKTRZ6/yxcUq32cTbT27yll\n",
       "ilxKjNLs8gjmj1iOCpqyRsfFcJLZ1bPsrHcxO56HpIwVu6L7xOhgVFP26V82tcREUxDRxcMZdhm+\n",
       "AsuC0nfustq2KimZ37mOFWhKVmk0582DXGBOHWCDHSKYv4ATrus6Br21riiTkkJOj45sRB6R80fl\n",
       "8sTisLtrmD38I5cOV5HZMdEvPRo46fX+AZnn8gfoEjQTGndpm4KWZFz85vZ+o2pUKePeeotl7CZX\n",
       "0Ivm8kG1Xt0WpdFVMFhc/qFKxe7aqmKSoYrkWJ8qyWXIruEPWymZFEx3sUoAAAAASUVORK5CYII=\n",
       "\" style=\"display:inline;vertical-align:middle;\" /></a></dd>"
      ],
      "text/plain": [
       "<IPython.core.display.HTML object>"
      ]
     },
     "metadata": {},
     "output_type": "display_data"
    },
    {
     "data": {
      "text/html": [
       "<dt><a class=\"ProveItLink\" href=\"rounding/_axioms_.ipynb#floor_of_x_less_eq_x\">proveit.numbers.rounding.floor_of_x_less_eq_x</a></dt><dd><a class=\"ProveItLink\" href=\"rounding/__pv_it/axioms/c3df6eabb994b8c35f83c08c5a26fd60000d80e40/expr.ipynb\"><img src=\"data:image/png;base64,iVBORw0KGgoAAAANSUhEUgAAAIoAAAAVBAMAAABrmWvBAAAAMFBMVEX///8QEBCIiIhmZma6urrM\n",
       "zMxUVFQiIiJERETc3Nzu7u6qqqp2dnaYmJgyMjIAAAAcRTyBAAAAAXRSTlMAQObYZgAAAgxJREFU\n",
       "OMtjYCAAuC4g2AoMZAHOCwycCQjuA6yKuCdAZe7iMGUFAxGmMGQyMJwG0a9wmPISpynqAQj2OgaG\n",
       "GSCHN2A3hNcAhylcx5GDiEeBgW8BkNqA3RT2CdhN4TS/gBIBAgy8p1atmo7DQyBxLKZw5qHZ+oSB\n",
       "4UdHRw0OU5ShpnApZTodgpvC2ucAU7BIbYoO0G+HGRhSGRg6cZjSCzVlDcN1hTq4KR3wgOU6wFvE\n",
       "DhS8x8DgzMCFHIPbNZIfwdjVUFNOMZxf4Ak3RV0LHqwLeH6xAMNuOzAIGZhgYcW1x/gCEw/DKVgE\n",
       "iEBNWcDQgRwu10/B1DNwgGM3HmjgBXaY2Td2rmIAmnLrApopDAyfUOJonyVMB78C1BTOB2FAxiFT\n",
       "tQAWYPIAm3IAzUcMrF9R04tfKpQRDw4jdyDuTAHqXZDH7sDHADHF2AAtdHcxfWDQQkm7ES3gHLRA\n",
       "H6gTHLoMmwuAljG8ZWBYDDaFOa0EpvYwxBSW3xwfOC+g5oBpIEf4b+hnmAukbeB++8nAEN7R0aHA\n",
       "xDPpCkypO8QUriQt5bvYcuMypUW2INOfgnLLApDPP7AysEF8xB2zgEAOQC+CCqCM+TwPeBh4AiDh\n",
       "cuoAodyICnhgKWPZlUPARNANSnXnDiy2g8l3YjGF63k5CKCWDMiACRguZJRSnYRLTC7xcog5nM/L\n",
       "sRdDvBMYAEqLkjiuXC+sAAAAAElFTkSuQmCC\n",
       "\" style=\"display:inline;vertical-align:middle;\" /></a></dd>"
      ],
      "text/plain": [
       "<IPython.core.display.HTML object>"
      ]
     },
     "metadata": {},
     "output_type": "display_data"
    },
    {
     "data": {
      "text/html": [
       "<dt><a class=\"ProveItLink\" href=\"rounding/_axioms_.ipynb#floor_of_x_greater_eq\">proveit.numbers.rounding.floor_of_x_greater_eq</a></dt><dd><a class=\"ProveItLink\" href=\"rounding/__pv_it/axioms/78e7d2fed1d35733fc32059f0284fb4e316b793d0/expr.ipynb\"><img src=\"data:image/png;base64,iVBORw0KGgoAAAANSUhEUgAAAN4AAAAXBAMAAACWruz4AAAAMFBMVEX///8QEBCIiIhmZma6urrM\n",
       "zMxUVFQiIiJERETc3Nzu7u6qqqp2dnaYmJgyMjIAAAAcRTyBAAAAAXRSTlMAQObYZgAAAydJREFU\n",
       "SMe1ll1IFFEUx//uzro7s7MqQS/1MiXYElFLEkWobAb5EOn2Uj0UblaCICKhaVEgEjFmH0uFhVBN\n",
       "GlZmthChQsigRLCFDCSUUbJEvSTCPpYQdO+d2Z0ZnRVp9cJyv845v7nnnHvuAqvXXphDF9a63Qd6\n",
       "zFmBo4w/BiTp4FvOOKFjBTw0AO9p/ytnXkHMgfdk7yKpYeAe6fiOnHkf4XS+8Qa7lCihQCFdPGfe\n",
       "eUceqs/YvV6EQGJw8G7OOL7ZmYdjl21yP4DfsnwxZ54rZPD6Su5sk6z50jPHur6d4DcAkwA5cdfK\n",
       "jIazb/k0nSeogbPepC0/b1NXQ90HVwqYBfZDSFo0R4Knvtttnby2p5QN7Fk1ap144zpPVMQFLmbj\n",
       "faJH5+MV8BH9ESIKl5YO55tSzSUiIWWEn0+Wk1RIbF3KG5ess7ywcT5m1crbkmCWsQ6FRKOWfJLm\n",
       "Te99HhsE4X1J8xHo7lUQ98xoS3izGpx4YFZNnvDO+CxuAbURxuOTR8h8YldJhKMnpzyV9JVRXCC+\n",
       "ps0twuRxJfAq2M5wVMnuTzCrGR6/O/1Z7iQ2ka6K/LpOE4rS5A0zIcIrpVx1wVOkFzvMvLbwxELl\n",
       "MKrYhWVK9nzxKzvIcprHN2Uuti+KK2D5glfk7ngwD/QzI+76Fir6uNnVIYSYTyTVwuutQhBD7FYx\n",
       "JaNwGPehJn6TVm6D99TMaHeU+0u6sozH/wBHZVmWXOKtaSag5kuedlnuhCgqvGLGrwx1wFA3DCUj\n",
       "PMZ9H9jcV6451WuhrpgK/6RJQY15Uh7k6/70H6cL3nBeBFG6cvAExJjJa8F6KjZnKC1fzyyNRBBC\n",
       "szF5KCZFiBE9fgmVvwpvpAZ4S/dCIRbmNK+VS7HUndeVlq3XZmvCyzCr13obmJ4g94Q6aWRK7a/w\n",
       "bARXd4NEmcQ7UN84dc7COxDUs8iv6EpGPji9R8NttLXS4SV06u+RrQqS+BkvMZ7hOumDcqe5zXhC\n",
       "zKf9x3tbWUydl7VwjqGRSy5eZLx8tTrb/4lHbbof8KCt3VEmEMvG03DoAxx53FdyO0ZJJsvKWv8l\n",
       "Cq2CjX85A9Zc3R0oSwAAAABJRU5ErkJggg==\n",
       "\" style=\"display:inline;vertical-align:middle;\" /></a></dd>"
      ],
      "text/plain": [
       "<IPython.core.display.HTML object>"
      ]
     },
     "metadata": {},
     "output_type": "display_data"
    },
    {
     "data": {
      "text/html": [
       "<dt><a class=\"ProveItLink\" href=\"rounding/_axioms_.ipynb#round_is_an_int\">proveit.numbers.rounding.round_is_an_int</a></dt><dd><a class=\"ProveItLink\" href=\"rounding/__pv_it/axioms/72998b5bd330cc847aed5bbc057561cf3c1914110/expr.ipynb\"><img src=\"data:image/png;base64,iVBORw0KGgoAAAANSUhEUgAAAL8AAAAUBAMAAAAuH/EYAAAAMFBMVEX///8QEBCIiIhmZma6urrM\n",
       "zMxUVFQiIiJERETc3Nzu7u6qqqp2dnaYmJgyMjIAAAAcRTyBAAAAAXRSTlMAQObYZgAAAxxJREFU\n",
       "OMulVV1IFFEU/nZ31p2ZnV0leugha9nNEAnaEnsIkVWJCII2ggrqQewHDFp6CCUSWTNqNYqlB7UH\n",
       "cUTYQoJd6CGMoMGiYItaysiEaKyngsLEIpWgc+/OzOrmLEIX7tw535053z3fOXMGKDWkXMltDBnr\n",
       "uM0+w3V288HmgTv2vt3dYchxwyhLFu3u3bxppquS48+Z/dXGy5cSpy/PwG/6lfWizeo6+BHn+CBT\n",
       "Ir66D1+4BMEBFW8sY6Jos55OrkQ47lcBJbO6D0+yBMEz4IJljBjrVEcHD2Y3pJZDedyXHRsbsPEx\n",
       "UCrBnyGdswx/hC9HayxEVPsM/Hci0WnjI0Sz6UxTkEINReRQACOq8PRWcCeJWl+1BCcpKAfbmkgH\n",
       "hYspL8vlax+rQIafAnptCK7T1G5kujEQkRdcQgW2QxEvIZ1EY1JchEgu7uJdoIt00IuKSY7zCmR4\n",
       "88oauF994pN5f5GqMdOOPaAQO4dcOhI45tExHJUrQZaHUpfFK3Uf4OVqiQU3ZdE2tjDcA6f5OckP\n",
       "a3NOBdmAYa8nSJ4HXIvAL9URwDqo6Qg+MsCjwUECq0TKvopZdj34nUb+tM2CZuJKzmPSTo2PgQim\n",
       "cwUCeOkRRxzSHNWl+yfwCIgxgIgcPLNzBYLBQgQ6RaOoHJf0w6yQ67ZGBZYpRqAVJGJSIK1BWaC6\n",
       "dFYADcAfmQAiYhKBkQICl8hh+VcyT7jJ8d6T5FaNeSJ+5Alqw8uS7CC28hxbrkCMT2MjvItKOoOY\n",
       "N8mS/MA5ixozyS5TW/RLLcAOA79HLG58A0Y5gev0efOxxzSHo/RiC3qAXWgMa9I8FP2tGPC1K6wG\n",
       "hSVxlnVEl2aFzEefqCI1ZeDlnHcBOJJIJAJO5eak1bKMiRfbSO5UcLw1SjFLZzNya1X/Fha/3FoT\n",
       "Yp3SH+UvpC6rfBU2zCS6f/QYuE/lWXKjLC+R97i6llaB5a3itrHuv9qxou+ZOIYVnUKO5nOQ1dbS\n",
       "7GjYN7t/8NTkRBa4xj60l9pogwn3liYQbdu1De6kHKz1h5PvB8VMdif431/me5t9wv8C9Ljg3BmZ\n",
       "/+kAAAAASUVORK5CYII=\n",
       "\" style=\"display:inline;vertical-align:middle;\" /></a></dd>"
      ],
      "text/plain": [
       "<IPython.core.display.HTML object>"
      ]
     },
     "metadata": {},
     "output_type": "display_data"
    },
    {
     "data": {
      "text/html": [
       "<dt><a class=\"ProveItLink\" href=\"rounding/_axioms_.ipynb#round_is_closest_int\">proveit.numbers.rounding.round_is_closest_int</a></dt><dd><a class=\"ProveItLink\" href=\"rounding/__pv_it/axioms/88ba17fb83a35a89674c5bf8831c154ba2bb403e0/expr.ipynb\"><img src=\"data:image/png;base64,iVBORw0KGgoAAAANSUhEUgAAAUIAAAAWBAMAAABH64j6AAAAMFBMVEX///8QEBCIiIhmZma6urrM\n",
       "zMxUVFQiIiJERETc3Nzu7u6qqqp2dnaYmJgyMjIAAAAcRTyBAAAAAXRSTlMAQObYZgAABFpJREFU\n",
       "SMfNl2toHFUUx/87O5N57Oy6iN9UGDYmLaHQxdCq0MZt/VBENPNJxQeN0RYKNQSR+iqyVpGJ1bqK\n",
       "ND4onT6IGqVZKFIi0g5JtbCWOmClpqAOPhAVJYRWzBbBc+/M7O6syexU/eCFZeacmXvub+553LPA\n",
       "5Y578K+GZCe390+WUl2c7PDKvuA6vfRjvdSmiLF3EpkK4LHbr5ISvhNrUXqmCK0cCF2V/4AQ24BP\n",
       "2e3PSQl/irWIK6rIhWCa14lwhdmZ8AjwOvNdOSFgthhPOGjj84YwE0+onTIS7KFuIEeRq1cTEsqV\n",
       "eMJTwBMN4UAsoXqDm8TLWh7Z2uTkeFInj8dbxHdQRxtCrhRDqI5UE8Uhvgf+sKydSQm7+TSx93CB\n",
       "PDTTXdK6DRywxU/eKFxPi67ruQSB4kArbNtILtaL0cm+2ieU9pSaGMzKK9EidLD3tVUGJ5wFtgBj\n",
       "SQlf4hZ15Rclj/GStpgW81hN8i5MVbChotShkO/exznjaQratlTx1T6hZbZslM6tRD7GyT4ie5zw\n",
       "a+CWaNYdW/ngt1HLD7x4Y39w+xS3eK88JJqgjd+5L+3BItnDflO7FiTJ5LwaPrNvBTKjUTu+2idc\n",
       "0ddC+Ba3EgkFW6+LFU54jKIfghuif9TvCjpqRuPV92bXU+zXQntXcYv2FK2SrgO/2ykDV3L5G6aQ\n",
       "HaToke2vJ80zk7/xwbbMVwdxeK7WJGRWFujuCH/1BzYLSjmIw800xZXDl7+cngQRnncb1WX3mzaq\n",
       "0pwbIcQJuqTKUBeovEgXuTzCFESa4gALDcLIWGjJ5eM3NdPBtxKtrEaTUPXuZMVrTa8pstBmhA5d\n",
       "Nw7hSYoANtI6Il7GAF2mHOiLVF6EPJf/1EhBpMzL8NcTR9uPnIut9fCOLQ3CAW4lMjabAeEm+o09\n",
       "RFz2iFzKwSfsZ6ROXcr7RyLmPohmCq5hH+ki5eB5csd5kjN1faqKkUyFZcqHwjz6/p4pvrp5ptz9\n",
       "XEhIVoYir2bs1YQUZgqO0rdK+BU4xAnTWx9l9erwqFDWeL3QDCecOcstqmwv0kN4FliLDUVHvQDd\n",
       "+0Ixsjt0VmLES8o8dRhIO5FVA3XLqbc3PPXWYtCNnk3Vl1kHwgjXhS7HInCXZVmGoL96lrvW6TKk\n",
       "xy1rF3TdVoNqtcmvh9x9p1fRWhOF6WGTZPXhqjbcs/c69kwb7utmrUjOjFYQX71U5zBRuDnaZkwU\n",
       "Dq53fUKWOFmbh7WELt/LmfuYQi6lTPC9v+1+6JVkpx5aT723L6O3GVj21AuDeb/ukYdMPw5rjvoC\n",
       "ZHMQ+Jg9Kxb53iXpHGgk7hyaGF2ediGmcwi29ewMFajdrEKecQ4NSFdDHN4DKJSZ2a3bz+wI54x1\n",
       "JFSSdF/aj4+xEcSh7CpGTPfVOgSKwyCZ8C5P3JUUh8k7WA5WbkftuIdiYc2yncOyB/I0tove0v8C\n",
       "ehL+C5hb+rFgtili7PUgW1numYvbT+P/Mf4CzIpWGA6LuG4AAAAASUVORK5CYII=\n",
       "\" style=\"display:inline;vertical-align:middle;\" /></a></dd>"
      ],
      "text/plain": [
       "<IPython.core.display.HTML object>"
      ]
     },
     "metadata": {},
     "output_type": "display_data"
    },
    {
     "data": {
      "text/html": [
       "<dt><a class=\"ProveItLink\" href=\"rounding/_axioms_.ipynb#round_up\">proveit.numbers.rounding.round_up</a></dt><dd><a class=\"ProveItLink\" href=\"rounding/__pv_it/axioms/47f5f99797e6dd43e1938955283b9249a38d3ee30/expr.ipynb\"><img src=\"data:image/png;base64,iVBORw0KGgoAAAANSUhEUgAAAWkAAAAXBAMAAAA7CqN4AAAAMFBMVEX///8QEBCIiIhmZma6urrM\n",
       "zMxUVFQiIiJERETc3Nzu7u6qqqp2dnaYmJgyMjIAAAAcRTyBAAAAAXRSTlMAQObYZgAABGhJREFU\n",
       "WMPVl3+IG0UUx7/ZbJLNZpMe4p8KIbGHnCcNVgVBy1VBT1C6+IcKFhtOT+gfPYIUQS0SK5ScUgwi\n",
       "bf2jdtuTU47iBRTlRHGpUCHKGbCiFsVgofirx1FUvCuC781kdye97Obujwu4EPK+814yn51582YG\n",
       "+B887yxdlMabS38MuOt0K9p/vPO9sNZ1JDDflQFttn8cxICFuxIvlmBWOyJZj6LOyYAv2P5tANS/\n",
       "Rvi2NJDzYM12H2oOOMaTV9186GwpwrnLwde+ONOHmgNyDmA1Np86VY9wfg4864uT/agpINucmzs6\n",
       "gASJ7OMC0pUAbKwPNQf8U6sdiFz7YQ5bscMGMuFbRUAffquQpwkujpnFPE46+tk3CrdQB3duvQKN\n",
       "Esgs7L2bZt8q9aI+Nfz6aF5Sc8AkMN2zx84ru2qbphjvB80W8MshYR2rdfWZ8cftMEUZvxtDODpm\n",
       "rsT1IWwjfRDzdeysG6swqC6exrf5F2j2xXJcXOLngkdtutmnU21JzQH3dK/aD2984mdpVXsUIkMx\n",
       "4oFnrxcNxRDPHZ7xPPBYqqzboIk9cDzeRo10Gyds83qQStHSauIr535600qPsbYca1WvS2oOSEHz\n",
       "6r/58faWZqGZV7rfjTBqs+zngRtKPesZ1wLOPI18fBX424nlcY3QP3FDykWMXA69Cf/bcg9qE0bV\n",
       "y2sOsFopz/vdwhyI+nxL6X4ylDqowEk7lNovw0SNT+kTqyJ9mUpd4i+hp7iB6GMilS6HUlNNz6vU\n",
       "6fbDXANvG7Z1TkmmdpXuK9KnwArJxs1+VZPRVvGhSYVaSH8eKUOwgz7zLqwVKnXakND/mtRA9Jwh\n",
       "4DehRVsJ8vpiQL3H9qhFwPSTxOpMpcZykNTbSwE1VSThC6ilZOoPkKzRc1hUNYoeSbb3K9RCZsrB\n",
       "asR1PGQtxFwcogk/Tzqzas03MJWp82r8SFvGiLcarxrrjLONeg5WI96rcIW6BMwI6vhT+5Wp1qvS\n",
       "F1BLydTjXuu4jLZzLTVDhNQ9+RmNAA9lvIyXgNuxs+Sm/4TV/sbIZ5+xuJrpV4xlPmLF3R7Uuxqv\n",
       "ivMVU4sAmTArwCM0cHnNeu2cSl2WvnEeVUfm9UqH+nHvX+/tRG+pC0Pn2JelTHgDd5839V+O0sTN\n",
       "FhYmbNLpfQ1zYuuRG9hnTowU+RiXs3tQzxZO3dXydhkOyDoiwxNIygzJ7HYC6kRV+pS8FtIQsEnO\n",
       "vUt4tBO9B+qyFFIvr2dHh7qjv91vR/cDTlhtmiVb5nVTWY1mRfoCaimZ+ge1HyoNy4tQSqCUWXc9\n",
       "pyd6NnZ66pTVc2eawCu8yyy6MzuUGvJcx+dTS8nUt/o1xOFoc98Do05ALWXc3xyno6mNDZ1Uu/Zr\n",
       "yutAye5vCq/X/q+1Rni9Xs+tQMBWr8YPozYic63azbmGOtNSQ0OoP9nwDez7ta7TgZnsGbCGWm+F\n",
       "Uc8EzQ+GUZulQd+MSz1un8maqAnp2kHwhuAf7erwLxZdNwzN2RS0/wC1P1N75IyV8AAAAABJRU5E\n",
       "rkJggg==\n",
       "\" style=\"display:inline;vertical-align:middle;\" /></a></dd>"
      ],
      "text/plain": [
       "<IPython.core.display.HTML object>"
      ]
     },
     "metadata": {},
     "output_type": "display_data"
    },
    {
     "data": {
      "text/html": [
       "<h4>proveit.numbers.absolute_value</h4>"
      ],
      "text/plain": [
       "<IPython.core.display.HTML object>"
      ]
     },
     "metadata": {},
     "output_type": "display_data"
    },
    {
     "data": {
      "text/html": [
       "<dt><a class=\"ProveItLink\" href=\"absolute_value/_axioms_.ipynb#abs_val_def_sqrt\">proveit.numbers.absolute_value.abs_val_def_sqrt</a></dt><dd><a class=\"ProveItLink\" href=\"absolute_value/__pv_it/axioms/b697e5bea41c94a49b66b8c85028fdcabc0a1b540/expr.ipynb\"><img src=\"data:image/png;base64,iVBORw0KGgoAAAANSUhEUgAAALgAAAAmBAMAAACFcUzHAAAAMFBMVEX///8QEBCIiIhmZma6urrM\n",
       "zMxUVFQiIiJERETc3Nzu7u6qqqp2dnaYmJgyMjIAAAAcRTyBAAAAAXRSTlMAQObYZgAAAztJREFU\n",
       "SMelV01oE0EUftn8bHe7iTmoIF6C0uJBrVDEkyUi4kVsTgpFMKD2KCKCVj1UvaRKNYpSL9LYQlty\n",
       "sIUepCi4xp4ilBV6qKK4KAgqStEKpkmp87tp2t3OMA5smJn95pv3vnnvzQZA0D6AUjOzEiDNVSOH\n",
       "oxKYAwVFck1surkJVNsPISImIx2El9c2uCv0+WRehvyhml1fpBQ47TcZXRSsMioy3MbKiHp1g8vx\n",
       "SSQmXtbFR11BqHS9b+VjfKs3AvJQCv1M89F0AOoJtt6hfT0frcAU6Q6mwV0vDQczMuSv0TPG+nra\n",
       "WIAYCYOQTd7At4BlH0GC3MT2ffWGzYt0BpA+OIyM3gDyfTLkFlIkvscb6kjKEsnReUigw7UmAsgv\n",
       "yZDrROp6uKDnMXGhAvFysTgQdKC/Zch3oafOQHxI4PiJVgH+5nJXg8h/Mc6h1vs7U0Hk59CzHTjo\n",
       "CBxCUuAdzCWAMwB9QWVriZKbdvy87lLymZ+4faYAnC8aDtd+YKDo92c3kfkuM+0gO1zWnu445aWW\n",
       "wcitgrUYya+1fMBmksMVYKDQ8vI8kht7AzX8UnO4pc/bHc2CcoqXhyqzHJp6fTSPzCXR73vc3Qgc\n",
       "RBfOsxOzHJ3PzU0VAZG/c1aRA2xI+R1oBHt2mZEzUCO54R5DndLe1kwEHwMmt1fJgkqvl6pUc1Yt\n",
       "LyIFbCYLA9FdsSwmkgX6UMXUCmf1dAIoeTvPCJNFS3OhDSF8oqUtTfKEHCgD0Xh0uWmTaJsovpWG\n",
       "CXm4+4K3uEbJOyfuwCO/OB/PwiTPHAaiddLmolKpUOU+nsvlUpp1b9ZbvJmSj2wb2u/4kYcrrKgc\n",
       "Bg4iLYEFiixgHwrkCKIQo7I0n/Buv9uCDDVqkSyrtA3zo0QbfhUNWq4FVoZqXuYHCi9F6X+tKV9P\n",
       "+nojhctKstHIbKkMcAsn0Yw93MFBLwoC8s5u1ulbU4Qh0XhDa0jzxgNzBOT6H9YZWzlL3Rl31r/m\n",
       "mvDmLXzU4vNdxZPSWMn0lrot+CyJJ0G9dYi+5qr/Qb5VBNitzq0JvQ5llMlDjggRd5XJJZy+rspt\n",
       "bBFjRlV1GZ2QMKBHkbxfBvRA8Q8X/rj4BzLvA+8W7c1EAAAAAElFTkSuQmCC\n",
       "\" style=\"display:inline;vertical-align:middle;\" /></a></dd>"
      ],
      "text/plain": [
       "<IPython.core.display.HTML object>"
      ]
     },
     "metadata": {},
     "output_type": "display_data"
    },
    {
     "data": {
      "text/html": [
       "<h4>proveit.numbers.numerals</h4>"
      ],
      "text/plain": [
       "<IPython.core.display.HTML object>"
      ]
     },
     "metadata": {},
     "output_type": "display_data"
    },
    {
     "data": {
      "text/html": [
       "<dt><a class=\"ProveItLink\" href=\"numeral/deci/_axioms_.ipynb#one_def\">proveit.numbers.numerals.decimals.one_def</a></dt><dd><a class=\"ProveItLink\" href=\"numeral/deci/__pv_it/axioms/4dccbf2d01cfda06b47c9ed47718b4313f6cdc7a0/expr.ipynb\"><img src=\"data:image/png;base64,iVBORw0KGgoAAAANSUhEUgAAAGAAAAAUBAMAAACABSXcAAAAMFBMVEX////MzMy6uroiIiJERETc\n",
       "3NwyMjJmZmaIiIiYmJh2dnZUVFTu7u4QEBCqqqoAAACyU9pZAAAAAXRSTlMAQObYZgAAASNJREFU\n",
       "KM9jYMAGIhmwA74A7OI8DgwMK2YJYJHZCtJ1B0OYLYCB7QGPKZro2wMMDMcYGE6v/oOhYToDw1wG\n",
       "hmVQZzRAbN21H6iBC8jhxNQANNubgeH9AWQNDAzzgXyeC9g0sBowMPxmYNB/gKmBIQmbBo4CBp7v\n",
       "QA0NWDQsh2tYlgYC6SAmywQG1l8MDPLYNEzDZgPzAwZWoA3yC7BoeIxNA68C3ElcaWnJ19LSNsA1\n",
       "yOPQAPL0e2yelkfzQzbUSQwuUAXoGpSx2QD0NGbEITzNgaGBqwBkC89FNA39IA1VDOx7v1WiaWAC\n",
       "RhzPim4BVA3V99OBNidiTa0oyQ5uAzhFGWDVMB0lrR9Adm0DVg0sOPIJOHnjykDYgSsOcVxZlDOA\n",
       "AQBi4V3pxPDXhQAAAABJRU5ErkJggg==\n",
       "\" style=\"display:inline;vertical-align:middle;\" /></a></dd>"
      ],
      "text/plain": [
       "<IPython.core.display.HTML object>"
      ]
     },
     "metadata": {},
     "output_type": "display_data"
    },
    {
     "data": {
      "text/html": [
       "<dt><a class=\"ProveItLink\" href=\"numeral/deci/_axioms_.ipynb#two_def\">proveit.numbers.numerals.decimals.two_def</a></dt><dd><a class=\"ProveItLink\" href=\"numeral/deci/__pv_it/axioms/8fd6f58383ccbcc75445e20b1c4ad8fd0b710b520/expr.ipynb\"><img src=\"data:image/png;base64,iVBORw0KGgoAAAANSUhEUgAAAGAAAAAUBAMAAACABSXcAAAAMFBMVEX///+YmJiqqqqIiIgyMjLc\n",
       "3NwiIiIQEBC6urp2dnZUVFTMzMxERERmZmbu7u4AAADrYmUNAAAAAXRSTlMAQObYZgAAAR9JREFU\n",
       "KM9jYMAGAhmwA6YABga+u2c2oIvzHcChgWEpA8MrBs4f6MIsQIOY6tBF1R8wMDxhYLjHwFCOLiUL\n",
       "NGfWP5gzDCC2rlwP1MBpwFDGwLA+AE1DKhAzomlgYJAHauArYPB/wLAezROsCTg1MHiAWPkPUDUw\n",
       "X8CtYS4Qc/wEcae4gIAviMkjgFuDCBCzLUDzApsCbg1qQHwXPZDYG+AaOF1c3EpcXBbANeyHuhiX\n",
       "BgwbgBp0GVgD4H7wIuSkNgbuCQzMaPGA39NhM+cuQ3MSJ8iRzBga7EEabjL4////DU0DBzDieJd/\n",
       "uYiq4Va9L9Bmb6xpMhUlSRsgp+MErBpkUdI6cjrgNMCqgScAV354gl0YdwY6ikMcVxZlDGAAABqh\n",
       "T22OG07GAAAAAElFTkSuQmCC\n",
       "\" style=\"display:inline;vertical-align:middle;\" /></a></dd>"
      ],
      "text/plain": [
       "<IPython.core.display.HTML object>"
      ]
     },
     "metadata": {},
     "output_type": "display_data"
    },
    {
     "data": {
      "text/html": [
       "<dt><a class=\"ProveItLink\" href=\"numeral/deci/_axioms_.ipynb#three_def\">proveit.numbers.numerals.decimals.three_def</a></dt><dd><a class=\"ProveItLink\" href=\"numeral/deci/__pv_it/axioms/5712a0d74743845f69950c7d8a29e5bcd621989d0/expr.ipynb\"><img src=\"data:image/png;base64,iVBORw0KGgoAAAANSUhEUgAAAGEAAAAUBAMAAABvx07iAAAAMFBMVEX////MzMxUVFTu7u4yMjIQ\n",
       "EBC6uroiIiKIiIiYmJhmZmaqqqpERER2dnbc3NwAAACdcR52AAAAAXRSTlMAQObYZgAAAVFJREFU\n",
       "KM9jYMAG+CYwYAf7QMTbu6cxJGwYGKzWHMSig+kB0LgFDPsxTPRjYFZguJ+AKsgdzMDA7MDAwPGb\n",
       "gb8ATQPnAgYuAwbWAAhvB4QyuvQZSN5gYGALY+B3QNPB/oCBtYCB6R+KDgZOkA5TMBPDVc8ZGFg+\n",
       "MzB9xKKDBeRU5lp0b3RBbPqMRQfvAqDXry8G8XldwGABiH0SrCL/AhYdnGAftKIFCkM1mCxiwKKD\n",
       "GxxKrMFoOsJABBfYuisuLqUuLk5wHYwfGPgeMPD8xqajiwGbHUAd/J8hOqD+UIC5insBwzssOtgK\n",
       "GFgPwAMFDkA+l2Vg6MPuc84JmPFxCxiCtXcXFaDq4ADp4AIGYNaqY+jxkQ6Mqf///6Pq4FL9shIo\n",
       "LoA1TQNTCRLYgcwxx54LOBcg84yROTdwZJxzOMTBqR0rsMGlg+cBDgmcuXYeAwMA291cTjIOYgAA\n",
       "AAAASUVORK5CYII=\n",
       "\" style=\"display:inline;vertical-align:middle;\" /></a></dd>"
      ],
      "text/plain": [
       "<IPython.core.display.HTML object>"
      ]
     },
     "metadata": {},
     "output_type": "display_data"
    },
    {
     "data": {
      "text/html": [
       "<dt><a class=\"ProveItLink\" href=\"numeral/deci/_axioms_.ipynb#four_def\">proveit.numbers.numerals.decimals.four_def</a></dt><dd><a class=\"ProveItLink\" href=\"numeral/deci/__pv_it/axioms/ca06f86585eb968be01db58bc8234f65c0db75630/expr.ipynb\"><img src=\"data:image/png;base64,iVBORw0KGgoAAAANSUhEUgAAAGEAAAAUBAMAAABvx07iAAAAMFBMVEX///+6urpERESqqqru7u52\n",
       "dnYyMjKYmJjc3NwQEBCIiIhUVFQiIiJmZmbMzMwAAABIfTqqAAAAAXRSTlMAQObYZgAAAT1JREFU\n",
       "KM9jYMAGOAoYsAMLCPUWQ8KJgaE1VBmLDu4GMHUaQyKDgeMCgz2aRcxTGBhYEkAsrtnoGtgvMHB9\n",
       "ZuA/AOFZQSjv6C9AMgrEbM9G18HTwMA4kYE/AUUHAztIhyeIFYChowdMwlyFooNNAMhowNCxFkSw\n",
       "HGXAooP1AgODFwNYB2saGFwAsdVBARxzBZsOdqBTAxgw7DgMJlcKYNHBfICB+QGmjolgkhMYmgxh\n",
       "aWkn09Ky4Tr4PjC4MmDVwdHAwPQZix1AHdZ37/68hfDHBqir+L9g18EIjiSMGAT6nFOBgecLDp8z\n",
       "MExC1xELlCnAiA8ukA7eACAR9H87mg4ZIJa9q4gaurw7v10HxuADrGmapwGZZ4XM8cGeC9gvIPNc\n",
       "kDlRODKOBg5xaGrHApxw6WBqwCGBM9dWMDAAABxITl8FIHkXAAAAAElFTkSuQmCC\n",
       "\" style=\"display:inline;vertical-align:middle;\" /></a></dd>"
      ],
      "text/plain": [
       "<IPython.core.display.HTML object>"
      ]
     },
     "metadata": {},
     "output_type": "display_data"
    },
    {
     "data": {
      "text/html": [
       "<dt><a class=\"ProveItLink\" href=\"numeral/deci/_axioms_.ipynb#five_def\">proveit.numbers.numerals.decimals.five_def</a></dt><dd><a class=\"ProveItLink\" href=\"numeral/deci/__pv_it/axioms/9584b042c6128ab716ea934e8f9980f2198ebff70/expr.ipynb\"><img src=\"data:image/png;base64,iVBORw0KGgoAAAANSUhEUgAAAGAAAAAUBAMAAACABSXcAAAAMFBMVEX///8iIiK6urpERETc3NyI\n",
       "iIhUVFR2dnYQEBCqqqpmZmbMzMzu7u6YmJgyMjIAAABZcJOfAAAAAXRSTlMAQObYZgAAAT5JREFU\n",
       "KM9jYMAGfBmwA04HBga+O9wr0cV5DIAE9wIsOlIYGDj+/y9AF+YDGsTAmIAmOuMAA8M5oGRZCIY5\n",
       "t0BEBFQDZwDE1vR8oAb2AAY2LBaLADHLPVQNDAz3gRp4GrBpYBEAEux82DQwPGJguxu1AU0DK8i7\n",
       "V7BrqGJgPsDyCcStewcCr0BM5gtAuwOwa7gHYhmi2cA4AegiBuwaJoJY6x1QNXAoMDDMhmhgf/fu\n",
       "Yd+7dwlwDfsZ8hgY6hUwNPAU4LBhP0Mf0IYDcD88gzqJM2vV+q4ALBoUGYAhIofmB5Cngfbg8LQX\n",
       "A28LmgZ2cCriMEDTEA/SsJyBZXnWATQNTOCIs/92AUXDsv5XQIHXWFOxCEqSDkBOxwJYNdxCSevI\n",
       "DmAPwKqB2QFHBgIlb2yAxwCXBhMc4riyKK8DAwBKg1y4kxo/0QAAAABJRU5ErkJggg==\n",
       "\" style=\"display:inline;vertical-align:middle;\" /></a></dd>"
      ],
      "text/plain": [
       "<IPython.core.display.HTML object>"
      ]
     },
     "metadata": {},
     "output_type": "display_data"
    },
    {
     "data": {
      "text/html": [
       "<dt><a class=\"ProveItLink\" href=\"numeral/deci/_axioms_.ipynb#six_def\">proveit.numbers.numerals.decimals.six_def</a></dt><dd><a class=\"ProveItLink\" href=\"numeral/deci/__pv_it/axioms/7cbc9e81aee9e8dbf2577b199f6e9cd6d50810050/expr.ipynb\"><img src=\"data:image/png;base64,iVBORw0KGgoAAAANSUhEUgAAAGEAAAAUBAMAAABvx07iAAAAMFBMVEX///9UVFSqqqoiIiKYmJgQ\n",
       "EBDc3NxERERmZma6uroyMjLu7u7MzMyIiIh2dnYAAACR0mqaAAAAAXRSTlMAQObYZgAAAVZJREFU\n",
       "KM9jYMAG2BwYsAM1MPn23gF0ie0MDEs2nFDA1MGYACR2TeBYgC6xjIEh/v8/NEGmaAYGbpDSCgb2\n",
       "AjQ5lgYGhnWyCVCeLoTa+PA3yEEMDJzfMO1mBioWgPN0YeaAdGxlYGAPwNSRzIBTB9cEBv41bzvR\n",
       "ddwAYhHfHmw6+BoY9i9hYAYFCt8qMGgAyZUAcTVD/gQsOlgWMOz/wMARjWaHEZhkN8Cig8mAgd+A\n",
       "geUnmo5IMMkBCpNXq1aZrlq1EK6D5wMD8wIGli+YOhgXMPD9xGIHUAdjAMQOqD8EoK5iXcDA8RuL\n",
       "Dk4DBp7fDBzoAQz0OQcDyHasPmeQY9iKnoBeANNiA4NrAqoOXpAOjgdA5/TJoMfHZCDOeNiNGh8c\n",
       "or9agDF4AGuaZk5A5ukiczZjzwUsDci83cictzgyThkOcUhqxwa249LBnoBDAmeudWNgAAD9zliE\n",
       "QjjTFgAAAABJRU5ErkJggg==\n",
       "\" style=\"display:inline;vertical-align:middle;\" /></a></dd>"
      ],
      "text/plain": [
       "<IPython.core.display.HTML object>"
      ]
     },
     "metadata": {},
     "output_type": "display_data"
    },
    {
     "data": {
      "text/html": [
       "<dt><a class=\"ProveItLink\" href=\"numeral/deci/_axioms_.ipynb#seven_def\">proveit.numbers.numerals.decimals.seven_def</a></dt><dd><a class=\"ProveItLink\" href=\"numeral/deci/__pv_it/axioms/964dfd08a053ad72349d7e110ff6f1cdfeacc54e0/expr.ipynb\"><img src=\"data:image/png;base64,iVBORw0KGgoAAAANSUhEUgAAAGAAAAAUBAMAAACABSXcAAAAMFBMVEX///8QEBCqqqoyMjLu7u5E\n",
       "RESIiIi6urrc3NyYmJh2dnZmZmZUVFQiIiLMzMwAAABzPQ5hAAAAAXRSTlMAQObYZgAAAUpJREFU\n",
       "KM91k7FKA0EQhn91z+gRUfQBjA8gClukiMqBL3AWguVWNhb6AuJa2h1YpkjAyihywUbE4tKJFh7a\n",
       "pLQWJEJqOefMEe4mcwPL7Q7z7f/PMQtIcQE5pi3w/drptFle+YB7eCcQz0ArSZKIpWcsVB33LLvm\n",
       "AbvAA1Dl9zQBJ8R+ZsOMVF/eCHANyM6Edh84s2PfJtu0CFBLtKkYVj8XA3sQAdRpOVxgNgSGX0cn\n",
       "EnBD6/r/eKXTaKRbJ4AaBniXgEuy9cMVFmpQCdD1BGCdDGxyYIrM/FIBfVytt1e0jsbAgO7zJeCD\n",
       "CgJBgYDFKNfDVmYJvZHCBHBKTMgVqGkMPHRLmt7gkwSXrqi21TIDjlPgETivcaASpz/89rMIPK02\n",
       "SHlHnOJ+YaTzg6BiEWgWZt3LuzUi4NiSB5SOtxTKLwMOSvJlT3Te4g9qx1LADFiUrgAAAABJRU5E\n",
       "rkJggg==\n",
       "\" style=\"display:inline;vertical-align:middle;\" /></a></dd>"
      ],
      "text/plain": [
       "<IPython.core.display.HTML object>"
      ]
     },
     "metadata": {},
     "output_type": "display_data"
    },
    {
     "data": {
      "text/html": [
       "<dt><a class=\"ProveItLink\" href=\"numeral/deci/_axioms_.ipynb#eight_def\">proveit.numbers.numerals.decimals.eight_def</a></dt><dd><a class=\"ProveItLink\" href=\"numeral/deci/__pv_it/axioms/0649a930197e5456ba4a5573a278c19ca28a2fed0/expr.ipynb\"><img src=\"data:image/png;base64,iVBORw0KGgoAAAANSUhEUgAAAGEAAAAUBAMAAABvx07iAAAAMFBMVEX////c3NzMzMwQEBAiIiJE\n",
       "REQyMjKYmJiqqqpUVFS6urpmZmZ2dnaIiIju7u4AAACLnIg+AAAAAXRSTlMAQObYZgAAAUpJREFU\n",
       "KM9jYMAGGAsYsINGEPH2zi4MiacMTJ57zpzB1MEpACQ2MHA2oEskMrD/////J6oghx0DA18CkC4A\n",
       "UyiAfQMDN9CwCRBeL4R6efIfkDzLwMATwMDngKaDRYCBByijgKKDgR2k4zEDA9fXBzzo/hQBk2sZ\n",
       "sOhgW8DAMP/7CXRv3AaTAdh08GwA4v95ID5PGhhsALHDwQIF2HSwA/3cveTzAjQ7PEDEewZsOjgc\n",
       "GNgnMNy3Q9NhBSKugZnH0tKc09Iy4TqYPjAwP2Bg+oFNhytWO4A6QJZPR/hjAtxVP7Hq4HJgYAZG\n",
       "VSCaHSCfM/1mwOFzrjwG9gtoOk6DvPgHXQcvSAf3AQYGzT0YKXEJKPlaoOngnvxtOzAGFbCmaRYB\n",
       "ZF4vMucJ9lzAvgGZ9w6ZcxZHxgnEIY6ZzBE5CgdgFcAhgTPXFjIwAAAEFFkEykUcFgAAAABJRU5E\n",
       "rkJggg==\n",
       "\" style=\"display:inline;vertical-align:middle;\" /></a></dd>"
      ],
      "text/plain": [
       "<IPython.core.display.HTML object>"
      ]
     },
     "metadata": {},
     "output_type": "display_data"
    },
    {
     "data": {
      "text/html": [
       "<dt><a class=\"ProveItLink\" href=\"numeral/deci/_axioms_.ipynb#nine_def\">proveit.numbers.numerals.decimals.nine_def</a></dt><dd><a class=\"ProveItLink\" href=\"numeral/deci/__pv_it/axioms/5834d412be5256936a1bb9fbd8aa5a8fd1f82b520/expr.ipynb\"><img src=\"data:image/png;base64,iVBORw0KGgoAAAANSUhEUgAAAGEAAAAUBAMAAABvx07iAAAAMFBMVEX///8iIiLMzMyqqqq6urqI\n",
       "iIhEREQyMjKYmJgQEBDc3NxUVFR2dnZmZmbu7u4AAABTw4smAAAAAXRSTlMAQObYZgAAAWBJREFU\n",
       "KM9jYMAGuBoYsAMrEPH2zC4MiWcMDE9jrmDRwb2AgYFvBsPKB+gSVQwMFxi4DVAFmecBVRcAdU1g\n",
       "4L6ApoHjAgNzA1gWBEwh1OvT/4DkUQYG/gIGng9oOhgXMPAkMPAJoOhg4ADpeMnA8D6BgfUXmo6F\n",
       "DAws3x7wNGDRwe7AwAm04wuajlgg3v/jMAMWHTwXQE5i/wFiloMB2EsZIP7/Omw6OICeS2Ww+Yxm\n",
       "hzAQ2zr+dMCigxnoOeZWnU9oOqYApTcwxANDk+F4eblkeXk1XAcTOJS4/2Hq4HzAwPQZix0QHewb\n",
       "EP7YAHXVeyC1A4sOFgEGjnkM+gvQ7AD6nBMoloXd56x1fBXoieQs0Kw6Bo4AVB2sIB28BxgYztx1\n",
       "QNfhCMTad66ghi7vzu83gD5QwJqmGVGcaYrMeYg9F3CgJM13yJyjODJOFg5xeHrGlqOwA7YFOCRw\n",
       "5touBgYAcJVgy+kKJ94AAAAASUVORK5CYII=\n",
       "\" style=\"display:inline;vertical-align:middle;\" /></a></dd>"
      ],
      "text/plain": [
       "<IPython.core.display.HTML object>"
      ]
     },
     "metadata": {},
     "output_type": "display_data"
    },
    {
     "data": {
      "text/html": [
       "<dt><a class=\"ProveItLink\" href=\"numeral/deci/_axioms_.ipynb#N_leq_9_def\">proveit.numbers.numerals.decimals.N_leq_9_def</a></dt><dd><a class=\"ProveItLink\" href=\"numeral/deci/__pv_it/axioms/76706213bae37e67a87aefaeda010613f4a45d890/expr.ipynb\"><img src=\"data:image/png;base64,iVBORw0KGgoAAAANSUhEUgAAAVsAAAAcBAMAAAA9ywG+AAAAMFBMVEX///8QEBCIiIhmZma6urrM\n",
       "zMxUVFQiIiJERETc3Nzu7u6qqqp2dnaYmJgyMjIAAAAcRTyBAAAAAXRSTlMAQObYZgAABLJJREFU\n",
       "WMPVV09oHGUUf7vZmd2d3UlyUCgedNpSBBEbpAcPUbZ6qIdCp0XSHoSu2qCpB5faEKRV91DtRlEG\n",
       "xTYImvFSoYTtYhXrQd02UqjVZqsXpbWspgaaoE0hQlqx+N73b/7TDcqiP/jefrP7fvN+39v3vvkG\n",
       "4B/g+Dfwv8EJMMvpgf+CkseUScYXFqRK+RuQ7pqqpEhaWZpkXGoBTDqwBJlyt+QmRep1pUnEfagW\n",
       "jtnwJ8C3XUtvQqT7lUnCpgbZVEn7CyAbs673xEhCwYljJOAzSaBIbfrmJ//PWJDCRFBfftOFk9dK\n",
       "UwdY0Kq5hCUVbTejykf0h6u1eSjedRuMxDDi/AdPO6CTVCJQpLP09bzfpzggTRRvYEkbiwBTr9PV\n",
       "tnXXcWGL0Wpy+Igi1xrCIsJ1i2vHxwj21SjZD1r5O8CgjBKBIk3QZ2BtqYY0UTxtrwHop9st4Noh\n",
       "Q8R9Ea/vxYhCH03jjoLZsPj1rI/hx9Qe9vEEwFMAp0AQ9vGWKga0TbrSePhhbIxVza7XdBsqNDN/\n",
       "g5yVs3H2QETUC2JE+fqj7jBkcaX9fA866HoMH95+kX/eBJjBHIMgYCTz66NHDwd8zyujsOMeMRkZ\n",
       "Mua5XCi4mTVnaLI6rDZf4SOGr79TrrsoFy7zy4ctxfDh0IIo3WWA9Q70lgSBIi3XavsDzg9Js3nk\n",
       "rbXsdoaq7ZGCNQTBe8OW8NZALUEjhq87H2llkjvNW1fcK+ANOy5L9zsxuyXeR9Mi0jDAeCBaTZpm\n",
       "zTKu8yBKLnxlWiG5O6ki4NzvhFneT3zE8HWnWPqO5F5il2d5pwe9c6+oW2MlXG2B2RYEivQIbz0P\n",
       "c8JojZcg/we7AXhydXe4AidqCJnUyVIou9kGG3F8FL5b346TT9llBd6XDM87vUf9XTmrMNOAQkUQ\n",
       "KFIW0q1AtOeFMYwlMNkutZUS1+ZyjXJvf1DdsbDcVImNOD7KPQI/U6JYu1qg24LheYO5X+n9fN2M\n",
       "DdqiIFCkYisbjDYrTWERdBZkwpddeFwLyZ1MkBvHR7lac6uUi48pfjQJeON01tuGn3M9uRQp38ad\n",
       "23xw21rp8Ko0PW3oa9FCU365ZiP0BNrpeLU75yuGOD5V8QWqjU3svIzjimQobzrNzNm+0sxUBIFF\n",
       "Gt+FGja2UnJFz0iTasKXbpN0W5KMfQlnqrfYGWSrxfDpvy9OyFa7IiQHvdmGXGN/2XlXw+5TrcYi\n",
       "HUfx794NfTLqamkw9+dMtkz14FrgSY/u0+GnOI0Yfm9DbJKDpKkqzi0hb7YTD7ODn1vHhfQ0BYFF\n",
       "6qO1PwkbA9kig/k/dIF9deQAX8v2a3R4CcmNPNXoz6MR5WsvrxLP/18p1ZTBtAVhb9/CpzfQGm1B\n",
       "YJFMutXtMKj5OoUbD5sPjrWTDni/dPAQDvMNKscMm9oxD+EgPpQEFQkPO3s/EXOW+55mp4dm48YK\n",
       "jjgqbVaUkQh5xPEi4YvFvXL3ZRtVeLdKhhl9J8k5fCSjHsNQv40RRr18yAOkGf/286wynSBrd348\n",
       "Vxjv7HjuLWU8PpJaer1TuRdh5S8/5kpefn6UhIsJb1ID0nSAfLVbb5aJkT5W5tbocbslt3uR/jX8\n",
       "DfdKfctsT2wNAAAAAElFTkSuQmCC\n",
       "\" style=\"display:inline;vertical-align:middle;\" /></a></dd>"
      ],
      "text/plain": [
       "<IPython.core.display.HTML object>"
      ]
     },
     "metadata": {},
     "output_type": "display_data"
    },
    {
     "data": {
      "text/html": [
       "<h4>proveit.numbers.addition</h4>"
      ],
      "text/plain": [
       "<IPython.core.display.HTML object>"
      ]
     },
     "metadata": {},
     "output_type": "display_data"
    },
    {
     "data": {
      "text/html": [
       "<dt><a class=\"ProveItLink\" href=\"addition/_axioms_.ipynb#nat_plus_zero\">proveit.numbers.addition.nat_plus_zero</a></dt><dd><a class=\"ProveItLink\" href=\"addition/__pv_it/axioms/42cb60d40b25a7e38757842fe11799f4c1a36b9c0/expr.ipynb\"><img src=\"data:image/png;base64,iVBORw0KGgoAAAANSUhEUgAAAKkAAAAUBAMAAAAErwC3AAAAMFBMVEX///8QEBCIiIhmZma6urrM\n",
       "zMxUVFQiIiJERETc3Nzu7u6qqqp2dnaYmJgyMjIAAAAcRTyBAAAAAXRSTlMAQObYZgAAAkRJREFU\n",
       "OMudVT9oE1Ec/pq7a5L71w7iIAiH/zYh6CYRUkQ6CZks4tCj6OAicdBFhxsviHCTdbOlQ0sQL9RB\n",
       "CoKHxSWCBEFQQclgBRUOcZLUwd+795Lm7t5V8YMPLu/9ft97v38vwH6o9jmlMAL5+hZxwD4+Fjhu\n",
       "COZgnnwJXJM7TdNpr9jHtwLVr4I5fMd6gMdyJ50u+oAF6sn3rRrnHjbFxizMAUxH7vYCsFconq58\n",
       "uxxw5lQrLowh9Fm52yod2+t0lgsSsCyYU51xoe4Cn+VudgP45ft3ClSPClbrpw6lVMMa1J/Adq5n\n",
       "EkOTknYVaBeo3hOcC+wfKdWHETRS/ZS0Q5wgST83tKhc55KijbFQb5QOiu/bnPphKF5atQbtN/A0\n",
       "W31uaLSoHCiN+lx/drpveD2cEb8PcCpDlFm5X8fxjTj+speBxYyqMNTovma/PFp9t9WB8UZBlFad\n",
       "8hA2s9UydvOqwpCpVgcXaWHtxA5Ulhvj8iUnSmcgjPA801kerCEwP5FXF2NDlTKA9hWK/aY2hJ1M\n",
       "d7P3NkpXK+ziuhj61BTwak1AGLJq4QlJKzWthTWuapqjcdrmrDjWLTN1V4pglUKtZ1SFocJuNUMJ\n",
       "nuqWXCz4vu8YzWq/JazmOfWl4/ePpVUfHaGGxE62B7ihzYpg0cyGQeXDyjS/K847f5tYIdKSt/n6\n",
       "uHrB4gWYyRkNWFHh69JJPYfFrwuHurR5FrjLIqbhdkfLbRQPHvZ7CSdRorz+26s9PlOCSgD8/z+M\n",
       "VeD9HvgDq/mqEfw798MAAAAASUVORK5CYII=\n",
       "\" style=\"display:inline;vertical-align:middle;\" /></a></dd>"
      ],
      "text/plain": [
       "<IPython.core.display.HTML object>"
      ]
     },
     "metadata": {},
     "output_type": "display_data"
    },
    {
     "data": {
      "text/html": [
       "<dt><a class=\"ProveItLink\" href=\"addition/_axioms_.ipynb#nat_plus_successor\">proveit.numbers.addition.nat_plus_successor</a></dt><dd><a class=\"ProveItLink\" href=\"addition/__pv_it/axioms/2465dd0ae6456d2daabd426da16fabc750b6d9480/expr.ipynb\"><img src=\"data:image/png;base64,iVBORw0KGgoAAAANSUhEUgAAAU4AAAAVBAMAAADbQxraAAAAMFBMVEX///8QEBCIiIhmZma6urrM\n",
       "zMxUVFQiIiJERETc3Nzu7u6qqqp2dnaYmJgyMjIAAAAcRTyBAAAAAXRSTlMAQObYZgAAA/BJREFU\n",
       "SMfNV01oE0EUfvlp026yiYfiT0GNVnsSDAoiWjUi4kmsF0U8GIseBH+qoFDrIeolQYSAoF4KK4W2\n",
       "9GBiPUhBMLSgUFGCIlpBDbRWrBBLUdBUxfdmZ9udndm1ggcHJrv7vnnffPPmzU8A/ly6sNaXVIja\n",
       "ChDO4c+gS/su8HCSyiBHyvTxxkumlsafPiXUB9rFdhVwDGttTtGe00nAIu4kFcaCyGP6mPTSGaWW\n",
       "H5UQWqMJp/GOAXCbBJVV7U06qYyB6SRGuJGzIHKTpiPtpfM5Vl1QM8CfZI0VLNK4Gf3jp1BnhD6G\n",
       "nEyM5bmgJM5fZoA72fh7HlY5CyJRYi146ezAGsqpdJJ1j+Hs8h1atAX4csvJxFg6VDqDpIg5CXGo\n",
       "chZE9JH+/hteMuspAcUWFg9ZH4FKJ4zTDCcdVDcsOklnhFnHVToZCyLfMpkLXjr9NFlN1EPLukaR\n",
       "h6wTKzerdA5T587UbbLorg2vMASnaFtTwXSSdDIWRI4CZC2iYEXWWUd7yVWs23PRKZEHrdovI59T\n",
       "6HxL3bCF9LRCZYy3Z3TBJfBZHFx+UvtuOkk6GQsiO+wL0xrR/pakfyFPKkreTlS0FAJpkQet4SrE\n",
       "4gqd98ji3LI6Od2tEmwUdT4wYNp0knQyFkRC4J/brT9R0t5fXwqnR2CTafJRfjQABKoQipvxOV2p\n",
       "TAC3liFfxMmpVD4sq1RSszoPYa2Zcuhs4HTbDDgDgtNW0H6YTnZ+ppOxIBIpheaYMPjwarAfws8C\n",
       "UBR1+tKQbxXH28C2zz0FRTw9dS4G7asYzzEIznCdznhaOuvL+/Clu/k92aabjSDlbfjggXhRnHcM\n",
       "2wOQ5j1WoujIOndRtrfP5eeEbd4xdOEpUedPmi7mJOlkLIRkj+Bcn60hm/+8PxFl/q0jL4riOsoX\n",
       "4CQ/gm3rKJbEvPVcR7bC15E2A7XlQcHpC+Ws9zqCuyg4kKgh2XVxvdxt6oxYu4q1LyB2LiLyoLW2\n",
       "VJdw6FxLOluwBooOndZmdQlepoqC0wm4zJ3s/P6qxUIIrVdfwZ9iyRNI7c9kMvFwa32Jr1Yr7lrb\n",
       "6uurRB6yrnvi2LI3LB/D0FAWRVsdOq1k6Fl5oC0pOHWvoVl7L+oMHP61hbMQouP487m61/iIGb5C\n",
       "rRlP2Bmf17kpH9XslKfB9c7/3JxzsvOz0mtHfLlDu+GmETJeQYT060nQi673kH77vWK2F8P2Md97\n",
       "iOxk52dlyI4E2wa2wN5CzXEUd4VmCA/UlHUgURSyyjM163bYutzrshadq5N8+y3LiLkR+jE/531P\n",
       "dikuglzvye6jVkQpnPtX/zt0Yhr9y/8durL7URnR4f8tvwHbO1Ftf+A8HwAAAABJRU5ErkJggg==\n",
       "\" style=\"display:inline;vertical-align:middle;\" /></a></dd>"
      ],
      "text/plain": [
       "<IPython.core.display.HTML object>"
      ]
     },
     "metadata": {},
     "output_type": "display_data"
    },
    {
     "data": {
      "text/html": [
       "<dt><a class=\"ProveItLink\" href=\"addition/_axioms_.ipynb#empty_addition\">proveit.numbers.addition.empty_addition</a></dt><dd><a class=\"ProveItLink\" href=\"addition/__pv_it/axioms/778db9e0049918e8de537b9d4e5c677c99adc8100/expr.ipynb\"><img src=\"data:image/png;base64,iVBORw0KGgoAAAANSUhEUgAAAFMAAAAUBAMAAAADwRznAAAAMFBMVEX///9mZmZERETc3NyYmJju\n",
       "7u5UVFQQEBCqqqoiIiK6urp2dnbMzMwyMjKIiIgAAABfEwHCAAAAAXRSTlMAQObYZgAAAPlJREFU\n",
       "KM9jeHuHAQp8Z4EpE4ZmBuxgFxqTVYGBzQBD1T7vA5hKeQ0YWC+gq+RtYJ0Mled4AFfqCDIDXak7\n",
       "A8NeTKVA3Qzh6ErVGBj6A9CVMk8A2bcATek3Bob1DehK+QSABLcAqkrWj0ClD9CVMjkACRawv/be\n",
       "BYGLIKt+MzCcx1DK2QDiTkA1lRlo6vkNQHnuu3dv1t69mwBWyg5yJs8HYhyAVSnIW/0NWB3ANQHh\n",
       "1msgphIDg38AHm8RigJwODFuQFPK2cBag6EUbDfvATSlrPueHcAesZF4EiFrAP7kgj29MmFLhDiT\n",
       "NpMBdqUv4RnmLSzDOGNXCQBwgGgEy/YizQAAAABJRU5ErkJggg==\n",
       "\" style=\"display:inline;vertical-align:middle;\" /></a></dd>"
      ],
      "text/plain": [
       "<IPython.core.display.HTML object>"
      ]
     },
     "metadata": {},
     "output_type": "display_data"
    },
    {
     "data": {
      "text/html": [
       "<dt><a class=\"ProveItLink\" href=\"addition/_axioms_.ipynb#multi_additionDef\">proveit.numbers.addition.multi_additionDef</a></dt><dd><a class=\"ProveItLink\" href=\"addition/__pv_it/axioms/292f3a4d420d3c73ccc6d3978494c4507f1c65bd0/expr.ipynb\"><img src=\"data:image/png;base64,iVBORw0KGgoAAAANSUhEUgAAAaYAAAAyBAMAAADl32LRAAAAMFBMVEX///8QEBCIiIhmZma6urrM\n",
       "zMxUVFQiIiJERETc3Nzu7u6qqqp2dnaYmJgyMjIAAAAcRTyBAAAAAXRSTlMAQObYZgAABrBJREFU\n",
       "aN7Nml+ME0Ucx3/9d71uuz0e5PBQSOXwNFFzlTPBKEiJEZ/UoolIeKCp8iBBLBoxKomNPlBUkk1M\n",
       "4DDR25OEP32gBR7MJRiqxJdDpfEkIlFpAmjEpJa/4e7Ec2ZnZ3emO71ue92ek8x2dn+d7X52Zn/z\n",
       "+323AHWKa2qqAM2VUAzaV6QE+Tw1dbnud10je9Qmf+ZbaGd5mnwc3HO4PlO82R9xJ2grUGzt5QcV\n",
       "wUG5pDdWO8hk3q8DLeQ5MA9tXhZZPnKeSbrNaP7ZykE6j+ohkWE45jhTZ9SYFVGL8UitXjUNhmUS\n",
       "e5+IaEbOcZzpuOFa/EoLmbwTeA7MEX1jm+NMrxut3dBCplAKby8I76LiMJM8bjR7setbtmR+I0wf\n",
       "n7hLFVrCyd48wAlRX3/UYSZ/2mjuRHWlEq4AvGCXydsDf4stuUsSulu/aUNW1or53E44zLTeDCLe\n",
       "QQ/AAvCk4bmldpmGi/Cw2IIe0ysAXwg97RWHmR40m8ipeybAj3zVk9r+9+XylnL5d2sf07BChdfE\n",
       "lsdA+gfdMeFvlh1m6uaYXGnIxSmTjXG6HaTrYst58E7WYupXHGXy3QJ27uUKcBzsM6GhCFZAXv5s\n",
       "r7svzne5hcecnEh/nowQDIaKjjK5TbeHfUQuD5tRlGabaRI6SiPyyqJroxE16l2u4WeN+AjrtSYc\n",
       "ZepkVkXkeDsj8taQdZykf7EnK+kNxvAe/JQofHIPdMU8Bd7yCryPtsvEP5oiTFo0++u0TGHNUTYW\n",
       "W7tMV45JpOTduxYL5t5W7PUTeoMx7Fu0NhmDJLo+f5637L0fX8hFccJWIUwn8celaZlC+LThxrKo\n",
       "HBPjmbGRbR9Byly4F4Z8AouUEq/z1wnTIF7k09MyaebBBpcnJso0Y1hjWcnW6scaAhU0UmdCAosw\n",
       "hkWO6Qphwvc/lJ/+ecLDeLLBCJY95Q4a8LybbOQc3gTKUnaNCiyHaqQ3VwmTPJrN7q7jI37JZg+m\n",
       "GmM6x7qWVuaE3E2qLjd0v3czk9lWh6krk9neoNDSz+YXrc7dZaWG4abOtKE2NmXqiEOnYmeylI3m\n",
       "KRVmoSzUmR4HqcRb1iyLubtZJm+01gyuKmYKsGJWmObpTH5wM1NDOjZQDKZH4RFuzU3BA7bO+ZfR\n",
       "enU2kGCLzhQq+pmjZ0ayEPzBAwWO6Tuw5yLG/ydMgdLzYISLXryUBNetjfBMn/nQWi8t2WyNk/b2\n",
       "XWTXhz51VufemzTe2/ESYtLDRS0MCsZHT/NMnbtQhrc/vl6FDv5apTd8E0zg+rabLq+neJ/yqV5n\n",
       "UEZEB6vUS+oj4CiaVzRc3EuYQqEoxxTECeoArAHfVzyTJ+pjZiWKVKm76eeGVEqTOpPSodRXL7sp\n",
       "UxcONPRwcU0mk4kE44Fiio/LcdBxB/Qhj8IzufKmgoz2Yh66dy7Gfi2skDqTUu2dRerlVcokq2a4\n",
       "2EHGCZ6I8Exn0TnHYWe2mimndJ5Vx74cW/cN3utSXTQkOs4xjem1auJEaly+2PB1tdWiXuKs3syf\n",
       "aLgYwgRyDOSCNX/q8V0rYqZBNfAB3biU9U/BkZIrfwxFuapfPWPEsFzo8JZeZ8Q0XGW1qpc0hq0K\n",
       "Fz/EGcEFgISVadV9vRrT6ryvB1YreJP3Jo8sR2HGfngI8PFNxq3oYvXkQIrUmTGFY7zVql4GJ4V5\n",
       "rhs9T9PluXjumSE3afnhKKTy7HF0jJ392BtqHpFXIusy8UIn9VvUalUvQ+PN5O6+/kcZ/6m39sFi\n",
       "SCq8X/VU2Jy6SCpRIn1pu0xE6DQi1xJvZdRL6horzeoRsqBl2ZMn2EHLk6opkb6BlE0mInSaR1N8\n",
       "N6t6SQQD57SwSfYcMVKJEulN6ULWHwtZIcuYQIZBFzqNU1b4blb1cijSNs3SYCJKpNfuOOlCJ8fE\n",
       "dLOqlw5rlrDCOveIEmmfiQidY6cXRRdtALMf7caol3rZ7rC2/EzM4iOIEtkAkyZ0/rgAutU+gY+w\n",
       "qpdOvwPwR3kvjKumRFqZDNEyx1+1JnQGPk+hq8caJVUvaTeLeul2+l0N6/gwBa5EibQwGaKlP8H7\n",
       "PU3o7Ij45mDJHcJxvptFvSTSspPvPu+sFRvZnnv0AtzpQAVdxX6RlVUvHX/3ybyjroph6ToDUq28\n",
       "kTMMoZGS0wUzhuWsbAx7HpxmCjMPFFadqPIUWHoj0sh5VqEsJbBJFeQaVeplcL7jTIG5rc0JxWoc\n",
       "I+O14T8fXNTSgtz953rq5YvgPJMn0VZ9RU7bZ2r+v27JtjI18l+35v+T6Im1EUnaqAtWU5f/A3nx\n",
       "Hx5ypBkvAAAAAElFTkSuQmCC\n",
       "\" style=\"display:inline;vertical-align:middle;\" /></a></dd>"
      ],
      "text/plain": [
       "<IPython.core.display.HTML object>"
      ]
     },
     "metadata": {},
     "output_type": "display_data"
    },
    {
     "data": {
      "text/html": [
       "<h4>proveit.numbers.negation</h4>"
      ],
      "text/plain": [
       "<IPython.core.display.HTML object>"
      ]
     },
     "metadata": {},
     "output_type": "display_data"
    },
    {
     "data": {
      "text/html": [
       "<dt><a class=\"ProveItLink\" href=\"negation/_axioms_.ipynb#negation_is_injunctive\">proveit.numbers.negation.negation_is_injunctive</a></dt><dd><a class=\"ProveItLink\" href=\"negation/__pv_it/axioms/7c5004f230f310b22c698a9862b05be63c6234e40/expr.ipynb\"><img src=\"data:image/png;base64,iVBORw0KGgoAAAANSUhEUgAAAPAAAAAWBAMAAAAMZgw+AAAAMFBMVEX///8QEBCIiIhmZma6urrM\n",
       "zMxUVFQiIiJERETc3Nzu7u6qqqp2dnaYmJgyMjIAAAAcRTyBAAAAAXRSTlMAQObYZgAAAx9JREFU\n",
       "SMe1Vk1oE1EQ/rL5a7PZ1IMoKkKg2oM/EFovSpWIqL0U1otVBLsUPRS09KIH9RDw0iqFnGyPKwEr\n",
       "OTRBRRGUBnqrIIsgFFEJ+ANWLFJ6sK2CM283+96mST1Ihtnd92aY9739ZubtAq2TdqeZR88DVR58\n",
       "aAnww8bW7XQbBl7xZLElwN8amz/RNQNMMSe5VuAamcb2dbqSaaRsepRbARzPNzRH1uiW2AJjvlic\n",
       "bAnTTVZNjvL9M/BrbOzWv1fJC/UlGnTVxFQ9nZzE3u6ddSulhjqJ4DngMjDu07C0gRhvm0KVfsjK\n",
       "N1Bin6ieCbqO51M/efx6iYXLCqXFxCrwETiBRNVfZc57DvRmtW08aHPnw0IVOeyPhpXYcF7x3KRU\n",
       "7ka4vnBnbSwDz6gGoMlG/86Jf9Hj6Ll5HJHA0QqrKg980itKbMJSPFtpI2uIp+uAjyHxGxgkqpy4\n",
       "tBIJWHhehP4mjIoEjpmsgUzVMivtq27r+h4CDuVQMje0cWRdALdXz9K00PWFt7/cZUe4/fQL59MK\n",
       "cFyoJ4nuEVOy5Ns5FgchPUR1qYJZyBx/5eEf5gGnaTR+iRa7FuX20m5omZQoHnP+rQI8qTbHtDlo\n",
       "Q7diYyQT0s6xeEqhliyuUhkjel07r+C+I4oLj6mxwpkot1db2qgWXOBkMiOB+4R60oMBquFazfh2\n",
       "juWZ75kTtuvJOqqv4jbde+nqoPSHyhpvNJQNWwP0ImndbHdGJfApoRF+xzvYhS4ittYJZO9ju82x\n",
       "uKh4iM3E0N57e+qACwc4F5xYgw7NUr7tHT067FA55r4xTqYl8DmhXopXMVFExIpx1n5IO8eK7Vmb\n",
       "H5nuIqPeIJQf7MeUHbcXkOQyNLIwlBxPC/VkR3TF8bxQ7ByL95CeZh8JuB8J79gZenQUZ8rRKxR1\n",
       "l2mis9RSqtpmrZG7v9NBOOvj1aqaYw9BeuSBuFFmglP3I6VRjn2TC6yVWQN97BdzwF5VPE1+BBrs\n",
       "SW+QFO/IzAlV5KU/Uu26o3qa//oYQSQDTYH7hSrFIfOn2gsBz39J2CcjwIdmN+RpX8CzqfwFJwjV\n",
       "TKVGthoAAAAASUVORK5CYII=\n",
       "\" style=\"display:inline;vertical-align:middle;\" /></a></dd>"
      ],
      "text/plain": [
       "<IPython.core.display.HTML object>"
      ]
     },
     "metadata": {},
     "output_type": "display_data"
    },
    {
     "data": {
      "text/html": [
       "<dt><a class=\"ProveItLink\" href=\"negation/_axioms_.ipynb#double_negation\">proveit.numbers.negation.double_negation</a></dt><dd><a class=\"ProveItLink\" href=\"negation/__pv_it/axioms/1d08e548dd22fa510efaf243142d4d1bca8fa8fc0/expr.ipynb\"><img src=\"data:image/png;base64,iVBORw0KGgoAAAANSUhEUgAAALkAAAAUBAMAAAAjAYFfAAAAMFBMVEX///8QEBCIiIhmZma6urrM\n",
       "zMxUVFQiIiJERETc3Nzu7u6qqqp2dnaYmJgyMjIAAAAcRTyBAAAAAXRSTlMAQObYZgAAAltJREFU\n",
       "OMutVU2I00AUfmm3f/mpHkRUEOLvuehFpGJFZE9CTi6Lhy1FD16kCAqih+ApRYSA4HoRuiyo9LAt\n",
       "epCCYLC3egmK+ANKD/agB92LIKsH38tMMkl2IlvwwZdMvsz7ZvLemxeAf1nFZxD2IDlBc/EylDsT\n",
       "PaHBpwz1xxyRqXZqxiVE0ZU6E/2KBt8y1L9yRFZNC63RkhOpM9H3KQC2XNyoMQh7k56im3h5KXdH\n",
       "utrFKQP565LLIOz6pg1ux8uK3B1pY9zrLWcEZplDZLm9ac4XildD6k70L8e5maF+gCOyXDxMd0f7\n",
       "8LtHFJ5autbqR/Yw+iJAJ0P9Dkdk5Vh1zu2GH3j7TPmhtOrfAwsWOuVW1xl9OpnzhXojt5OPb3CI\n",
       "RMQStOLDMbw9o6pPBUzdC3mb0SXIhTtSnx/1NXsMx/nzDgaV7coCUDCSa8HDFE524Qq+X0IU1pPq\n",
       "+Q0omYzW/VLIvh/2QHudBy+pLkyJpW8XqD8z1BUb+hajK5NzSKwensIcxUw7v2h6W4iM+gc0Ep2n\n",
       "FLRF3Js47HvwIqQ7F3Du1cIGVIPOYY3felvIqvobipNhLKsx6w/gMnaggH6KS+RrhTasMnU9KrAR\n",
       "hziZsdK7Be+auI06xdlLqpdN45rO6W2YAGWQa8KC4zimZlX8sATmOUQVxorj4f7FFqZhSsfGStVM\n",
       "69C9g5w28Ez03fLHbpHtHc6YM3QCWu+R/LhEtOIunQU9WKsBhvffuhj/5NaTEwC3KRLYOJoh3YHU\n",
       "QS7P2IETbQTjPuPfoyNbMmMnM//5DFL4IHdG+i8Bxq59j+zQpgAAAABJRU5ErkJggg==\n",
       "\" style=\"display:inline;vertical-align:middle;\" /></a></dd>"
      ],
      "text/plain": [
       "<IPython.core.display.HTML object>"
      ]
     },
     "metadata": {},
     "output_type": "display_data"
    },
    {
     "data": {
      "text/html": [
       "<dt><a class=\"ProveItLink\" href=\"negation/_axioms_.ipynb#neg_def_add_inv\">proveit.numbers.negation.neg_def_add_inv</a></dt><dd><a class=\"ProveItLink\" href=\"negation/__pv_it/axioms/e61a0480acd96b68c0539f16a7c2c5d22ddd69250/expr.ipynb\"><img src=\"data:image/png;base64,iVBORw0KGgoAAAANSUhEUgAAATAAAAAWBAMAAAC1V91fAAAAMFBMVEX///8QEBCIiIhmZma6urrM\n",
       "zMxUVFQiIiJERETc3Nzu7u6qqqp2dnaYmJgyMjIAAAAcRTyBAAAAAXRSTlMAQObYZgAAA45JREFU\n",
       "SMfFVl1IFFEUPu667c/sjw9SEQSDpg9RMNjPQ1htROqLML30Q5CLFCSVbFBB2cNCL0oU85S+BCM+\n",
       "GPvQLhaFELjkm1EMRmBRsWEFGgwiPaQmdO7cOzP3zrhgudEH352Z3e/O/e6559w7AFXHA0Yfoob4\n",
       "PM7oh6QBlMnNxyr6iuUo/Xjoed6kUXpUW7DpAXhJHuaraCypUfox551CmdKDWeQjgCES41wVjb1h\n",
       "dDDGrgnFK33BKGIFGZchqeOlWEVjNxh9xsK+MA4zCqhdJsGsg8RUPj9YRV/RLKXfmH+UZJpSQNzq\n",
       "/AXgZ3//rfWO6p2z6pcEFEqINzSJxhp5+60t21CiUIpuuxtxAScBzgMMOGE0Kzii04oLIUftE78y\n",
       "YlBG++CeaOwupzqiJRcw68qUAK9NApL2UJiPLQF8AjjKV8akMMjJ1nRgs3VHq6NH+Be1QX/1hYuM\n",
       "JbgoGuvj6nE7BPGVUpZSwIQOiwDP8A0QcDe+727f53sMKTcFB1xjoZKzAzFtLOMzVpOmPKwDC8UV\n",
       "0/xGbutRbwXGVIPLEJbxhQuUAg5B7BdAF66PEXZ/XXLuZsbzIE0HoeQa2+SkVMTWzlU0ttWX/PWc\n",
       "KAcFtYKxWahdsYxFyyfwcaT5K4nJYrNu5a1cS3JSOnNa5oyFHV3E1u52aqlBFpaSzBoqLmWhBBMk\n",
       "TbOUdo5ZgV0FjCe0493AOYzxtRDZPgI3rYK6GqpLWkeWOvWWMzbo6CK29ilc6EcYpIuY/KvYvWLy\n",
       "F4rQi+ehm/wcfsCwYSU/PEbPQSVEnEdkosO8VEeosTirZstYh6uztR3sbaQLCx3bAvZDbJ9ojCss\n",
       "7HsdSzxYohRwGW5j24pM4SLUFAMZK0GCGfKABYlxkCU1amRdY21M12t+Nk3D0p61k8Y5O+zlib+a\n",
       "9ixlO1eV3U33d+CWpVIKGNlFapEkTALTqqBF3uMlpZMRUhqrO0mFY7Jr7JSjIxGztG3oEmGktL85\n",
       "kkYZ1/hEsTeRGq2rE4b0sD6DLZ4SSpxMJJGGBJdjo0xHjREtfHAPF6XSIZ7/w0Mc6CHOFqB77CAc\n",
       "L4YulbCNtkzrcIcEH0+sDFeVOtWxqkQt7LWPGNKF5Y9G6cfA+j57gH728ChybQBzzP3HMhYoCvsY\n",
       "QXkjH4qVp+CZg6S5rQc5ruWMScZGPq3fMfqRED0kuHZNY53OEHYFwf+GAmsGc+e/G/E3hsMcL14M\n",
       "eK8AAAAASUVORK5CYII=\n",
       "\" style=\"display:inline;vertical-align:middle;\" /></a></dd>"
      ],
      "text/plain": [
       "<IPython.core.display.HTML object>"
      ]
     },
     "metadata": {},
     "output_type": "display_data"
    },
    {
     "data": {
      "text/html": [
       "<h4>proveit.numbers.ordering</h4>"
      ],
      "text/plain": [
       "<IPython.core.display.HTML object>"
      ]
     },
     "metadata": {},
     "output_type": "display_data"
    },
    {
     "data": {
      "text/html": [
       "<dt><a class=\"ProveItLink\" href=\"ordering/_axioms_.ipynb#less_eq_def\">proveit.numbers.ordering.less_eq_def</a></dt><dd><a class=\"ProveItLink\" href=\"ordering/__pv_it/axioms/a3c36761a929085fb3a1485489eae5b32fa9bbeb0/expr.ipynb\"><img src=\"data:image/png;base64,iVBORw0KGgoAAAANSUhEUgAAAUcAAAAVBAMAAAAnVjEQAAAAMFBMVEX///8QEBCIiIhmZma6urrM\n",
       "zMxUVFQiIiJERETc3Nzu7u6qqqp2dnaYmJgyMjIAAAAcRTyBAAAAAXRSTlMAQObYZgAAAz5JREFU\n",
       "SMfNV01oE0EYfU3z1+2m7UHvSwu19GIvVUSpwYLFS38u4kUoxSJeSvAHEav0IJIclBXBloq6RWil\n",
       "FAn0pAcp8SBE0IBCKSgEioqKEkRB8eLOzszuzOxskt588Mhm8t43MzvfNzMBotBWoYzCE03bPcZm\n",
       "LY3ic1ZJw3uN6BFjFJJ2qMmYo2za0ig+50vS8EUj+swoYc94MKJqyNJhU0aBWhLe8zh08RUx5wJ5\n",
       "65rZZwYoJd8LS/hWCnneMEpo/6BYkmR8GQvh+DJKATscwCyGJSmbUsyg/VIKLYU8lxilyZ6zFUti\n",
       "koR3EIqvYClgpry6Oq+RzDMKY5yR59KRVcsgRykiNuuELGSRhxGKH0qebMDf+fysRtLDaHSfOeKt\n",
       "UuImH5TRY+GWA1NdrNgApW8B1s5qLOsuC1DjC1kViDmnmUPBDcY1bFpXSUPerxkz3oW97hp4ZfDq\n",
       "O8E2eUxXKH0LHl7RWVLujOegxDe9ON8HZDHnsK5OgcuMZbx2jnmF3c9/uttaRd6tiJyaxkVK35L8\n",
       "qrXELCSzUOMHEMScKcR0W+ouRofoPWyW2YPTYuGH+zZqiqUlS+lblv1BShYjh8d+H0F8aMScZiWF\n",
       "OoME0VM8O8AexpzErzqDDCy3+XLLloN0d1bjIyzmbKseJ5vRYK+bc/FeujcIyw2iZxidpp9DiHW5\n",
       "4lyQkx/F5RYsvHAkC+4j5/fBxSwnJ2UxJwqn3DRxZlLuOzA7nQmlcJ7GavCz8cQ17+M60pO8CgTw\n",
       "whEtfAuSLOmTlt+HFJ8hEHNiPUeOqm/k18UR9DHhc8r433RNuAbc8Up8H8bcptYNJTbbL2QL28wl\n",
       "S+K0w/tQ4lMEYk50etP64/18CFNMOEJpTPX3hK4fy92HySk9rjSztVEs9FiULdt+Hw3icyJDppWo\n",
       "eef+eeyOPhYFDLlcaepY1FoWgz7qi1fEfh6YVRMLDi7Ea3UuGPwSVTV+Nn/BqGNpHL8kmpbflsqY\n",
       "KOJon18NBUhHkfHpIgF59alK2tJe1dI2pea6orcUUF/MKaJo2OlK40tvvHsQ2tFEX3ojLI3ia2bd\n",
       "bic3Rpv++7C1878PWzv5+7AlUEwRxN9t4D/EPz5FQJYMbhovAAAAAElFTkSuQmCC\n",
       "\" style=\"display:inline;vertical-align:middle;\" /></a></dd>"
      ],
      "text/plain": [
       "<IPython.core.display.HTML object>"
      ]
     },
     "metadata": {},
     "output_type": "display_data"
    },
    {
     "data": {
      "text/html": [
       "<dt><a class=\"ProveItLink\" href=\"ordering/_axioms_.ipynb#greater_eq_def\">proveit.numbers.ordering.greater_eq_def</a></dt><dd><a class=\"ProveItLink\" href=\"ordering/__pv_it/axioms/74a07f6c4b0518a34d1261bbf5e5b88bf3dcb63d0/expr.ipynb\"><img src=\"data:image/png;base64,iVBORw0KGgoAAAANSUhEUgAAAUcAAAAVBAMAAAAnVjEQAAAAMFBMVEX///8QEBCIiIhmZma6urrM\n",
       "zMxUVFQiIiJERETc3Nzu7u6qqqp2dnaYmJgyMjIAAAAcRTyBAAAAAXRSTlMAQObYZgAAAz5JREFU\n",
       "SMfNV01oE0EY/Zpuks120/ag96WBWnqxlyqo1GDB4qU/F29CKYrUQwlWEbFKDyKJIEQEWyrq9tJK\n",
       "KSXQkx4kxIMQQQMKpaAQKFRULEEUFC/O7PzszOxsNr354IVl8t6byXw7PwEIQ6pGGIbnmrbHlK1a\n",
       "ovIZ67jhk0b0jDIMiWKgyZonbNkSlc/4Bjd81Yi+ULIBzLrKiOoBS2eRMAzEEveex0HO14oZF/Gs\n",
       "a359eoCQo2NX6b4S8LynZNhQq+lZEnh8aQeU/AAqPjvRBNmloCRZJPRh7I5LiuWA5zoln4zXDgQt\n",
       "8Ukc74Kar2LZZ7q6tragkSxQCojns1Jxs+oyyBEKOFSFoAUXeRiC+erLk/X5O5+f00gylFbP9ClW\n",
       "2NSMN+VWxoH7LthqsWIDhKJl6xgELJuIBdDkswL4YsYL1KHgHuU6bDm3+FwdxQWyjW44jGrgLYO3\n",
       "exg7+NGsEUqWl9OgWpKoKPOg5Ntezt6ALGYc1q1TgBuUVXjnnuGraRZ/PmqvQx6tpJz6GpcIJQuM\n",
       "XlItMQcSWdDlEwhixiTEdFvqAUoX61k957xtyG1z4AeajYZiacsSihY0yLuqxcrBBu9DFoOSz2jX\n",
       "ktBkkID1BOuX6cOYG//VZJCChZVbthwnu7Oaz+GLGVP1s3gzGuxFG4zRS/YGodyA9R4e3GQhQxDr\n",
       "RuKc/07uiuX2LXzhSBZ4AjneBxPTd3JSFjNC4TwqpDuTRHNgd7kTysJ5EWtAP254+I33fAfMSbYK\n",
       "BLCFwy3CFiRZzHMO70MQa/IZYTOHj6rv+NulEeijwleExl+z4V0DrNt+yBEYQ03tZSWb7hfcIm7m\n",
       "kiV+0WV9+GLQ5TNCl5f0x/v6BExR4QihNdWfCVw/VnpO4lN6XGmmtfEtwrEoW3Z4HxH5jJDGPyve\n",
       "8M79K3Aw9FgUMYS4GnkshlqW/D6ai1fFfp7adRsWXbhqNMIuGMIlqm79bOmCEWWJzq+IppUPlSpM\n",
       "lOB0H18NBZCOIuvzNQw89cma6WivamaRUHNd0VsK0FzMKKJkFc1a9KXX6BkE7WjCL70hlqh8za/u\n",
       "KCbKoy3/fdje/9+H7f38fdgWKL4iYHwsw3+If2XIQfuui7VFAAAAAElFTkSuQmCC\n",
       "\" style=\"display:inline;vertical-align:middle;\" /></a></dd>"
      ],
      "text/plain": [
       "<IPython.core.display.HTML object>"
      ]
     },
     "metadata": {},
     "output_type": "display_data"
    },
    {
     "data": {
      "text/html": [
       "<dt><a class=\"ProveItLink\" href=\"ordering/_axioms_.ipynb#reverse_relation\">proveit.numbers.ordering.reverse_relation</a></dt><dd><a class=\"ProveItLink\" href=\"ordering/__pv_it/axioms/58ad4f77870b7885c2a6609d72d75305d12af8f80/expr.ipynb\"><img src=\"data:image/png;base64,iVBORw0KGgoAAAANSUhEUgAAAN0AAAAVBAMAAAAwUfbwAAAAMFBMVEX///8QEBCIiIhmZma6urrM\n",
       "zMxUVFQiIiJERETc3Nzu7u6qqqp2dnaYmJgyMjIAAAAcRTyBAAAAAXRSTlMAQObYZgAAAp1JREFU\n",
       "SMe1Vk1oE0EU/ppuspvtJu1B7yGBWnoxlyqKxKJg8dKfi2cpeqiHkoMeRBFPkgjCempRxPFSpYgE\n",
       "POlBQjwIEXRBoRQUFgRBQQmioHhx3s7sJDu7G+PBB1+Snfe9n33z5k2ANMl7AmnyJGHtznA6waeH\n",
       "9wmEBxJpknNjS/bV4XTCS3r4nED4JJEmth9bKrrD6YRNKl1CXoWqQCiPYqXtxGze6AvPlqN0jiID\n",
       "nFY8nukKqPxelDTGvZjNRe1555BG5yh0t7c3Et5/Q6Iv+7pa9eb1DqtjiAHRCT8bjcsJ8SoCdqWE\n",
       "m0yme1i+anntGK+MU9VMMlWlGyyIdEF0wlmgmRDvhoBjTGG/2o614OshdkpXeGWChnn1leQD/bQ8\n",
       "peNRDoYbLl0QnXA8qdOASwK3x3001OLiOfrs4jU7CUzU9S1vKR2wrnpCuiA6wUQm6VTvEWBjJXzr\n",
       "x7tOn0xkkO1pJmPzSge7H0+6IDrB8Uykx8MSy/7Q6gmRQWI8hNnlVT2lizBe3j9FJ2Nump8VYxom\n",
       "i9QTNWSmEO0XiAyMen//Pob1hMquf4CEC6IHJs0zvLXYusmzcybZSrRfcA3Waa29n2Z6mA37ZUCo\n",
       "X6QuYiBchP2CxzxoFl9Ic2sBM5L8XOIAlrxousZvq0eDfLytxePdHuoi5124IHpgMhk4+hWojmBV\n",
       "chcktspH3eg8s1dnKzTgi8taPF6tUBeZZ8IF0QOTAgs2P0uq89gbm2e1lAl8/6/zTElN0pXJXcd3\n",
       "sMlwwehF53XOt7+nOBlhXoubSLjoDJpsve10sdLCiRnVBM0ApmeVRr6PrMT7SLgI76NBadmu5UXv\n",
       "W6M8l/J61qj3rXBBdM1kws21F0f+P7H7b/8nduMmBRjv2vi/8gf159eiwzGHgwAAAABJRU5ErkJg\n",
       "gg==\n",
       "\" style=\"display:inline;vertical-align:middle;\" /></a></dd>"
      ],
      "text/plain": [
       "<IPython.core.display.HTML object>"
      ]
     },
     "metadata": {},
     "output_type": "display_data"
    },
    {
     "data": {
      "text/html": [
       "<dt><a class=\"ProveItLink\" href=\"ordering/_axioms_.ipynb#transitivity_less_less\">proveit.numbers.ordering.transitivity_less_less</a></dt><dd><a class=\"ProveItLink\" href=\"ordering/__pv_it/axioms/89cbf00011973287b5b008c35bfa4d5a1a17005f0/expr.ipynb\"><img src=\"data:image/png;base64,iVBORw0KGgoAAAANSUhEUgAAANEAAAAWBAMAAACs+WTQAAAAMFBMVEX///8QEBCIiIhmZma6urrM\n",
       "zMxUVFQiIiJERETc3Nzu7u6qqqp2dnaYmJgyMjIAAAAcRTyBAAAAAXRSTlMAQObYZgAAArFJREFU\n",
       "SMetVUtoE0EY/prsZrt5elAQRAkGSgkechEKeggVLIqPxIOKF0tQUKgStB6UtuSiJIVKQPpAEFda\n",
       "Kq09BARBoRByTKUuKqiQwh700lIIguDj4j+z2Ue2XU1hB5Jv/m9m9puZ/5sZwLvyxL3pNf00Vlnz\n",
       "QihYcG8LlIEVVln3Qila/scsaEEzhHLBC6UPTiL0zarXaCYKEK54oXTXEUdu2xb5jOL64uK0F0Jy\n",
       "vj32jSj2rU0DP4vFES+UfClKx8Hr/TU9XLplNAzsFlWEqfUqUHIZLOxEqVulz+NTfIxHs6OmGSYS\n",
       "fbR1ZIlj3BjbD24PT27pYGckSnYd75QT3NUblu244UK0txJ8akdKFwed7W1MF2VCQVEP5jfs3Shh\n",
       "YpOMp0roRGlqyx63M0wJ+N6KHo1aOWDzYUqydp75/XBPhsgeSMwx0+uTllI4cY5yOXufqv2DuGcC\n",
       "Z+SxhYy1exB/GN+3HPGKyzFnlq6QcZSbEs0pHFOyjD/SiFtKyYA2jKWvrFr9Le4yQGf8yzWbI974\n",
       "mkg6XB5KIaA7Ai9JTsQmYx8PoJc3v7DtXiaqQtzPj8xc3ldogc5Qwo1TTz4W/nQ3ZdVxci803tOc\n",
       "/FWqxvj8f/HWo8jx4Wl7nmI0YpUz/mogboDOYM5MRx7BXDKx5ryNUpED1DPK9jii8IyJjB7GHgaT\n",
       "uGRTuowMgn2sq5TuMkFn5IyouNxGbeW5UXka1sKYUXBHaBLIQ8sFU0luroKWLl+jlUmZs5DHObSY\n",
       "qZXPrjesvRjZxPzHWh3ZCo73agQRca9iKgVvnDrEIvlBGULuIcR9HFqMmh03z8R/Xg17qQTLzEGV\n",
       "7U+uWMICJmj7ddCZDl9CxyxC5UD1DAOX2wgYEjT2UnPY0ev+xfGgQGhUGbgqnX5Lf6oOnha/lx/7\n",
       "C9Lis2q4HMiOAAAAAElFTkSuQmCC\n",
       "\" style=\"display:inline;vertical-align:middle;\" /></a></dd>"
      ],
      "text/plain": [
       "<IPython.core.display.HTML object>"
      ]
     },
     "metadata": {},
     "output_type": "display_data"
    },
    {
     "data": {
      "text/html": [
       "<dt><a class=\"ProveItLink\" href=\"ordering/_axioms_.ipynb#less_sequence_def\">proveit.numbers.ordering.less_sequence_def</a></dt><dd><a class=\"ProveItLink\" href=\"ordering/__pv_it/axioms/cc5fb0244af88eeecd9eb7fd9e7714205230d74a0/expr.ipynb\"><img src=\"data:image/png;base64,iVBORw0KGgoAAAANSUhEUgAAA3wAAAAZBAMAAACY6zFlAAAAMFBMVEX///8QEBCIiIhmZma6urrM\n",
       "zMxUVFQiIiJERETc3Nzu7u6qqqp2dnaYmJgyMjIAAAAcRTyBAAAAAXRSTlMAQObYZgAACElJREFU\n",
       "aN7tWm+IVFUUPzszb/68ebNK0AcLY9oFC9McGNTIP2wFLVHguEH6IXBYDDNIlpS2zGro725+aLKw\n",
       "RTBfGxhtWw7FkobVtJsfcsmGNCpRmUiL/rgslaErRO/ec+999937ZnfGN34IPHBm7rx37++ce3/v\n",
       "3nPunQcwo2zoLUIwifY+DlekqdLZW4ZI77Y6avYEthW7MtxNl0Te+dj5/6VvN9Mmy4HgppLFRvrQ\n",
       "GC5XTl+V3Dg5PX2t5CtVCUBfUARdzAJqsyVaDG5qYwN9gAZxuTL6xsn136anzyo5X612APqCIujS\n",
       "WkRttpjV4Kbe5wtcjftFCRgaxOXK6BsgxcL09NH7A0EWz6AIuhxl2nQZDW7KSjN6Mv73f5KAG8Xl\n",
       "yugjU4LOjeliH5md44FiX0AEXR5n2nR5M7gpczZ+r93qe9t40XaBG8XlyuhLHR4aen2m1OXE0NA7\n",
       "PYHoC4igJ149qM2X1o7gpk7j1/o2//B6e1oAQ8O4THnmeb6vb9tM9M3q63uxHIi+gAiahDKoZtvG\n",
       "28Vyd8+8nG/lwXmvLUhrlTxNpRUqU4epyOgDPtBCxlgYjdUIYT0C2OOEQK0BS3GZcvqcFv0+Nsoy\n",
       "fdEcxIuB6AuIoEm8gjoM36WfEgMfme275pRTj8SqWiW5qSQpWvPIBJGfapkag9t0aFdOoamSf1Qa\n",
       "Z2FEBRWotWApLlNO3x1+yRZARqYvkhHZ1CXS1wDC/bX3F8ZNArKEehi+tu9yogy59hGYf4Ohp2GW\n",
       "bU1F+LNDK1FhTWV40japLmk+ppw6+zpIiUFLRpknLGOr+i9nbwhg2QlE1TxWcJly+mIQksfL2PwF\n",
       "XJ9X6HN0YWOMJR95YWVa3rbXjZC4hq0kfJuxXw4bfFFo6UC1oc/5de9Scm0uRC4aWT2gmBB3h5dU\n",
       "whI2lbtO2xqTSnMfUy0VWFUiJYSWjKIn62j5G7q06dM7TdYikEGZIYKqe6zgMuX0WRV3hX53bAXs\n",
       "t+ywrdL3VUNnLwQmXbYGZfrqQTAPZiuQxCfWeIFd/FSOAcmqMqYAf9IjQML3FIQuQMTPzCyBgZWY\n",
       "/Ck9F/TmtPRJplbZsKhISwiNRvP8NqPPyTvv81uLbDDyHFh2AlFVj1Vchb5EVdhIbd9lwyfpjAVj\n",
       "2c3ZkkTfG2iwPqEw6XLqPZm+ehC+PzDEGUo8yDpyyrOUCvr4igbGOd65cA+09vjTt06kNFiJzbZz\n",
       "UiwV9CEAxr6fa5hypsIvfERzok1BDDP9SGb8N+YfOvorB5adQFTVYxWXqTjz7F/vjPiKrnYSBh0Z\n",
       "GdlhqbEP4judJ8Vq79IXg9HFWrpHYRz6hmX6KAIM++SGJs+3IhnBkHkLq3ezNxAK+ng+8XFoEuZj\n",
       "n2IZ0mkf+pL2IgjZ2EVaCYvY9Oi3bRkPfalqjSxJMrWZjnonh9boO8XPVJI+G/dfGYUSKDpBUWlR\n",
       "9ljFVVIX+NCxnbqt0lLE888R6737NfqSZOmdH61ugaj35Ctkb4qxjRIhHR5ytIr0hbMyfRQBziRm\n",
       "qwjQmnuFFQRD5hGG2cmXgAf7HKm49JH03tHIxfhkooKd21cwn2QUmP+S31VWWFV6GXazLtJKtMia\n",
       "HpsLczz0hcs+OwmvKfM8vI0lhNboWy6Sja3MEdcbmubEbJBBqROISouyxyouU0EfWWZ33QCzbJNS\n",
       "NgLlMY0+ukLnWitgfO4dfAPOinWJZI1O3oEw6SUbOmT6KEIob06pCDAP9uGVt0R2sprPueHnlJk6\n",
       "h8ewHqpm9/z2k6xzn+1oz/GRfJRYzbPC3rbBFRXsIlbC3tKmicEemPLQ16quD7qp5IW2xVhCaI2+\n",
       "M3TTTj7auCPCmygZlhCLmLITFBWLsscqLlNBX4pU6Xa2HMZjfX3POPTtjun0HafxtMieG1kuyPSR\n",
       "pw1h0l8u9NJ3nK72kUkN4QlYhYU1zgRLG8+S5/I0vzm83Vt5Tdn3JIt0bqUYbH8hXWSVuvkGyxnN\n",
       "tLMP3DTx48REBdu+PcOhmWMqXBVGBcPRiYnrJs7iRZP60IGPtyoR+pnzHJpRJxCVFiWPVVyu3v/7\n",
       "roblBqY4IxDp4vgufRhPnavq4BuTBhz95IREH8KkyyOHPfQR2WeH8yqCOQVLECHq7g3eel6szr/T\n",
       "r00kk6i4s085Ryadu2oG+mgXr3KLLK/Mhcs5efbNdGTtmGpJ6/TJs8RK13/s7jqBqMwf2U0PrnJk\n",
       "zTZbk7BlBA6R4jGAE+qhGatzBMpk8BMvwYBNPwbsPVbVgg8KMbCyS7PLkL5DSJ81rNH3GayxVYTk\n",
       "pLGVIoCVc7OTnf1AapHF4SwreFIXeobjnuOQfew5vvetsZ8kXcRK2FuUPRC7m9NH2vqcYWim9uTA\n",
       "3Zy7Rgv8Yr0HFAKUOoGozB/ZTQ+u8ocRe3zysKACcSdRiDzVwaaBSp/58D0L6OAb18LqojHH+Vhd\n",
       "2nts9LCzC10rzz4Ck9z2h5mtqvQtabsVVIRwd7vNELZLDA1sJLUwcWQFD32e/1BffbqbzYDE0n9q\n",
       "PPq0i1gJe4tyJ4S+YrGPto3P8HctMdUpSmyc0WiBX+yv9x+EguxEp+yP7KYHl6vfyxI3OkHL78ja\n",
       "u+mEpPhVYvSQOCfo02BibpjTEejuBxFCTuwTDK0turWSOn1Nflkizgs/+Nys0xQnI9XklyVkXK6X\n",
       "+K6LsWiZ9D4Ie6tjLxysIH1df5X8zzx5mNMRaNqJCCpDB7RCsgqXR+JNwChcJt98cQO8qiS20in5\n",
       "ani6I2v3SFhFWAs19gak1n6y3bPd6tHyZRqiRBMwipfJt2Ig+nrrfM/TqE1fQ+957pjmH4dxuCKY\n",
       "9fbmIdL76H/Icf4tjxHfcAAAAABJRU5ErkJggg==\n",
       "\" style=\"display:inline;vertical-align:middle;\" /></a></dd>"
      ],
      "text/plain": [
       "<IPython.core.display.HTML object>"
      ]
     },
     "metadata": {},
     "output_type": "display_data"
    },
    {
     "data": {
      "text/html": [
       "<dt><a class=\"ProveItLink\" href=\"ordering/_axioms_.ipynb#greater_sequenceDef\">proveit.numbers.ordering.greater_sequenceDef</a></dt><dd><a class=\"ProveItLink\" href=\"ordering/__pv_it/axioms/6b93df3bc1ff5ab46743085be104f061357abce70/expr.ipynb\"><img src=\"data:image/png;base64,iVBORw0KGgoAAAANSUhEUgAAA3wAAAAZBAMAAACY6zFlAAAAMFBMVEX///8QEBCIiIhmZma6urrM\n",
       "zMxUVFQiIiJERETc3Nzu7u6qqqp2dnaYmJgyMjIAAAAcRTyBAAAAAXRSTlMAQObYZgAACE1JREFU\n",
       "aN7tWn2IVFUUP87Mm483b1YJ+mMTY9oFC1McWNTID1aDJJIcjXL/EBwW+zBIFo22zGzIyDX/aLKy\n",
       "RVBfCkbblkOxpKE4uQXlkk1pVKIyfVPksliGrhDde8+9791375vdGd/4R+CBM3PnvXN/59z7e/fe\n",
       "c+88gHHlke4CBJNo99NwXRoqi7tLEOneWINlV2Bfsevd3XBJ5MjHjv8vfbu4NlgOBXeVLNTThvpw\n",
       "hQr6KvTG2bHpa6JfqXIA+oIi6GLmURst0UJwV2vqaAPUiSuU0zdEr/8xNn1WkXw12QHoC4qgS1MB\n",
       "tdFiVoK7ek9McFXuFyRgqBNXKKevlxbzY9PH7vcGmTyDIuhykmvD5VhwV1aa05Pxv/+TBFwvrlBO\n",
       "Hx0SbGyMtfbR0TkUaO0LiKDL01wbLm8Gd2VOwu+ODb63jS22C1wvrlBOX+p4X98b46UuZ/r63u4K\n",
       "RF9ABD3x6kJtvDS1B3f1M36tbvFfXhelHWCoG5eryDwv9fRsHI++iT09W0qB6AuIoEkog2q2rFnk\n",
       "THdLpmZ9jfdOfW16WjPyVJVmqEwNriLHHvKBdmSQL6OxKktYlwPsCcJBrQLLcLkK+kiNrT4+SjJ9\n",
       "0SzEC4HoC4igSbyM2g/fpjc5HR+Z5DvnlFLrYhXNSK4qSYpZnhim8lM1V4OwUId25Ry6KvqvSkN8\n",
       "GVFBHdRqsAyXq6DvLr9kCyAj0xfJONnUVdJXB8LK6vsL43YHsoh6HL607yGrDL32IZh/g6GnYZZt\n",
       "jUbEs8OMmPCqMjytm1SnNB9XxOZAOy1xaMkpj4RnbBX/6Wy3AywHgahaxAouV0FfDEJyfxnrP4Fb\n",
       "cgp9RGfUx1hy3YsL0vK2vWaExE0Ar4sfdysjNiomhQntqDb0kF/3z6HXpkDkitGmLygmxN3upUZY\n",
       "wqpy01ldY0Sp7uNqQhmWFmkJoSWnGMkqVv6aTW368E7TuQhkUO6IouoRK7hcBX1W2Z2h3xmcDwct\n",
       "O2yr9H1R19kLhUmXrL0yfbUgmIfbypAkT+x+MZ0nZntXs2RF6VOAC+wIkK4coxC6DBE/NxOdJwmN\n",
       "uFyQngt2c0z6JFdLbZhZYCWERqc5cZvTR/LOB/3mIhuMnACWg0BUNWIVV6EvUXF8pLbttOFIOmPB\n",
       "YNv6tqJE3250WJswmHQp9a5MXy0I3x3q4wz1ioOLxB1ZX/rEjAbGRdG4cBc0dfnTt8oBQSM+2i5K\n",
       "a6lDHwLg2vdrFVdkKPwmejTr1Mk73cw+khn/jfkHRH8XwHIQiKpGrOJydc48t64mPT5/eStdBokM\n",
       "DGy31LUP4jvIk2K1Ltcng2OztHSPwRD6+mX6GAL0++SGpsi3IhmXoY47xd3P2v3oE/nER6ERmIZt\n",
       "imVoo33oS9ozIWRjE5kRFrHqyW9aMh76UpUqWZLkaj3r9cUCWqPvnDhTSfps3H/nFEqgGARDZUU5\n",
       "YhVXSV3gA+I7tbA8oYDnnwPWuys1+pJ06p0WrTwBUe/JV8heG+P9S0mHx4hWkL5wm0wfQ4BfEpNU\n",
       "BGjKvsILMkP3idnDPEHtH+0hUnbpo+k90ciV+EiijI07kDef5RSY/9LfFV5YWnwZdvEmMiNW5FVP\n",
       "TYFmD33hks9OwuvKvARvYQmhNfrmOcnGBh6IGw1Lc2I2yKAsCERlRTliFZerQx+dZnfeChNtk1E2\n",
       "AKVBjT42Q2ebymB87O18A8478xLNGknegTDp2Y+0y/QxhFDOHFURYCocwCv7PNnJV3zeCZ2XR2qz\n",
       "WMO6mJqd01rP8sYd3d6aFT35JPWa44X9LXvnl7GJaIStZVUTe7tg1ENfkzo/6K6Sl1tmYQmhNfp+\n",
       "YZt2+tEiAnGiidJuCfEVUw6CoWJRjljF5erQl6ImnWTLYTzV0/M8oW9XTKfvNFtPC/y5keWyTB99\n",
       "2hAm/fkML32n2WwfGdEQnoGlWFhBBlja2MxnvB/5Bnabx3hFyfckizZugdPZ/kKbyI06xQaL9Gaa\n",
       "7APXDv8wPFzGum+Nc2hGXIUrjlOH4ejw8M3D5/GiyWJox8dblQj7zHoOzVgQiMqKUsQqrlDv/303\n",
       "wjwDU5wBiCwX+C59uJ6Sq2rnGyMGnDxyRqIPYdKlgeMe+qgcsMM5FcEchdmIEJVGX+RPtOp/Aa3W\n",
       "0kyi7I4+5RyZNu6GcehjTbzBLfK8MhsuZeXRN96RNXE1Ia3TJ48SK137sbsbBKLyeOQwPbjKkTVP\n",
       "8EbgiQH4lBZPAZxRD824zQko0c5PvAS9NvvotfdYFQvez8fAapvTNhfp+xTps/o1+o7CCltFSI4Y\n",
       "GxgCWFln7TM2E/aIwT7GHimoqQs7w3HPceg+9qLY+1bZT9ImohG2FmUPxO4V9NG6PmcYmqs9WXA3\n",
       "567TvLhY6wGFA8qCQFQejxymB1f5w4g/PjmYXoY4yWQjm9r5MFDpMx9fMp11vjEZlhWMZvKxrLj/\n",
       "1LHjZBfaIY8+CpPc+KfZVlHpm91yJ6gI4c5WmyNsEwwlHqYNI1YP4AifrNPn+Q/11ec6+QhIzPmn\n",
       "yqPPmohG2Fp+MAChL/jax+rGx/m7lrpa7JR4P6PTvLi4tdZ/EPJyEIvleOQwPbhC/V6WuI0sWn5H\n",
       "1t5NJySdX0VOD13nHPo0mJi7zOkIbPeDCCGy9jGGOvD5c6ySOn0NflkiLgrf+9ys0ZUgI9XglyVk\n",
       "XKFX+a6LMXOu9D4If6tjPxwuI33L/yr6n3mKZU5HYGknIqgMHdIKyQpcG4k3ACN/jWLzxQ3wqpJz\n",
       "RpqSr4bHOrJ2j4RVhA51RmmW/Byk2z3bNY+WrlEXJRqAUbhGsRUC0ddd43ueRnX66nrPc/sY/zgM\n",
       "wXXBrLc7B5HuJ/8DXez9mtd38DQAAAAASUVORK5CYII=\n",
       "\" style=\"display:inline;vertical-align:middle;\" /></a></dd>"
      ],
      "text/plain": [
       "<IPython.core.display.HTML object>"
      ]
     },
     "metadata": {},
     "output_type": "display_data"
    },
    {
     "data": {
      "text/html": [
       "<h4>proveit.numbers.multiplication</h4>"
      ],
      "text/plain": [
       "<IPython.core.display.HTML object>"
      ]
     },
     "metadata": {},
     "output_type": "display_data"
    },
    {
     "data": {
      "text/html": [
       "<dt><a class=\"ProveItLink\" href=\"multiplication/_axioms_.ipynb#mult_def\">proveit.numbers.multiplication.mult_def</a></dt><dd><a class=\"ProveItLink\" href=\"multiplication/__pv_it/axioms/2d5e6342de711fde745205a49425ec793c17dedc0/expr.ipynb\"><img src=\"data:image/png;base64,iVBORw0KGgoAAAANSUhEUgAAAcsAAAAZBAMAAACsrRjkAAAAMFBMVEX///8QEBCIiIhmZma6urrM\n",
       "zMxUVFQiIiJERETc3Nzu7u6qqqp2dnaYmJgyMjIAAAAcRTyBAAAAAXRSTlMAQObYZgAABSZJREFU\n",
       "WMPtWG9oW1UU/zXJa5KXl8wPCmZzkrVax1QILaJgq63FFREhLegmFhqCQyaz1H+rThmlHyR1DqKC\n",
       "1uno64RNqjNhErQyZ2mdHyrVwDrmhtOAbqJoDLqJ61S85973XpKX90pemEjBA+fdl5tzzru/e849\n",
       "99wLOKPG4aex0qhneMapihcrkPzx/2H+SzD30ndzVv9M20jXS4GUYIKZp47TTmA61DCRPMIeb1mv\n",
       "+5S1dN20VWMG8zP6/aMTmA41TBQiLD9Yz0DeWrpueldjBnOcmhEnMB1qmOgY42DU+r9ZS2lTJEZs\n",
       "DB+q7lIighnMkMpeM05gOtQwEe1HXhsfTVpK1w9Tvkwwgxmcn5p61VEKcqhhSnpD7GGnHeq0kq4f\n",
       "Jr4TTJn2j2TyWWeZ1plGJbkoXpsBz6evNbWWpr1p6x0sYpWolfTLc+tUBzD97a2r9b45wQRzCzDm\n",
       "DGbtGtKCaPuMGPfRVrKbIfKNIm3E7js4EdnJ4oTnoM8LRN/q0p4wfmGWRmqF2ZUKFfW+rwUTzO7K\n",
       "DCc9/gnWVW6ngRceSpTD7LbKiZb0ou6GbYY+AX4GeMCbx0SMHEm98/hCvYt9yByjJD2Zwy2Q2oZq\n",
       "hCmvhdvIj+8LJpheuIzN+u25DnygqG4jSOTDbTl5syr9VA6zXMOWyBSO6L+MlwZafpcDaroT31BH\n",
       "mmZMRZJPcdFkhKRvV/EY8ymHqRQK319dKFQXNSwCHi0UzrI39xK8xkwMCCaYSs6obIK79qj4KBJV\n",
       "DPUvp6cQfAM4XA6zTMOWuKllYOJjYJAbFGP+1RbmlZDP6zBr8GbDCNIxC5j+/H1sVB19zRSNjLLZ\n",
       "lzjM2ZtaYh5KAXdmmVA5TK6BN1vOVGfw1kHtE90GOrJTgqkHLW4D/pJLS+U8PQUWsTbPatLynwgU\n",
       "HcBMz9AMHjveREPvEcxr2rEHGcyuXENKlHFZ5WA/JTl10NsZoo5TJ801LWnIT0pLwMOVnzoQG9Di\n",
       "Pa/D5HZKMPUUhKsQWDKi5kNXERv0FFRGTFq+iMb8tAOYGQwGUotrEa5MQXiPWdhzHVapMs/nWcxQ\n",
       "HpbwM/MYH8O0GSZpuKPSEPpXV36qDZs0t0b1zMPtYFJPqnzPoBx/Dkr+uNbpuegrUjXvNp8LSXoU\n",
       "J+IzVTDlv/VHOl8B0xcJblf8+4bAnIB2wRzmKlJMoAvSU8nkKIO5Vyy9C8CmZDIZef1eM0zSaMi4\n",
       "mPKOymGtQYsWhNzU5qhmB5K+0fLh9vDW/4i+zciJDc10FgjFTDBJen/T/YnOam9u1x/a4jYybeLa\n",
       "V65BY8TDqh+cEcxhBinOrkC7hLjwpqdP5AMJjfTi3qelfQMmaaRTvlOqCaZ8AbungreeZk6JG/sI\n",
       "2Sl5c9li74B9sVdz0GqJKOaeiUFmSsTGedNfxBNZHKXXReArjKsTSl6BEuNlRaxUVBs5tiE1cA/3\n",
       "5rjqf54/WBOWzuUC68EsH9XXJrdTWpv1lu7GliqrNjCnyn9MwHt3rLx01yYrjhty8LEo8uzsZE7s\n",
       "zexfnJ0HdvEapfBcrAqmJ3Gog8PszUhh9KaksLQGG69vzmELVSy+jAZT2CnB9JEnx2o9iPk0v/tv\n",
       "/j3ipKbcCNdCxUGsgtazBSVIWzYutjaXuz3YURJlMy6aIdeibqp631zuWO271MfqMY1tL0kCqZou\n",
       "Sfp+y5SJiowsxwMLVeiO1HJJcvISX5IEU4LtYQZrvwsqiVaP3cg821balZeje1r/jaLtz/yXKHuG\n",
       "4/8AFtyIJycTLqsAAAAASUVORK5CYII=\n",
       "\" style=\"display:inline;vertical-align:middle;\" /></a></dd>"
      ],
      "text/plain": [
       "<IPython.core.display.HTML object>"
      ]
     },
     "metadata": {},
     "output_type": "display_data"
    },
    {
     "data": {
      "text/html": [
       "<h4>proveit.numbers.division</h4>"
      ],
      "text/plain": [
       "<IPython.core.display.HTML object>"
      ]
     },
     "metadata": {},
     "output_type": "display_data"
    },
    {
     "data": {
      "text/html": [
       "This sub-theory contains no axioms."
      ],
      "text/plain": [
       "<IPython.core.display.HTML object>"
      ]
     },
     "metadata": {},
     "output_type": "display_data"
    },
    {
     "data": {
      "text/html": [
       "<h4>proveit.numbers.divisibility</h4>"
      ],
      "text/plain": [
       "<IPython.core.display.HTML object>"
      ]
     },
     "metadata": {},
     "output_type": "display_data"
    },
    {
     "data": {
      "text/html": [
       "<dt><a class=\"ProveItLink\" href=\"divisibility/_axioms_.ipynb#divides_def\">proveit.numbers.divisibility.divides_def</a></dt><dd><a class=\"ProveItLink\" href=\"divisibility/__pv_it/axioms/a62da8afa2dd2fd3ec69fad483cbaaba9a8db5c50/expr.ipynb\"><img src=\"data:image/png;base64,iVBORw0KGgoAAAANSUhEUgAAANwAAAAmBAMAAABdfejNAAAAMFBMVEX///8QEBCIiIhmZma6urrM\n",
       "zMxUVFQiIiJERETc3Nzu7u6qqqp2dnaYmJgyMjIAAAAcRTyBAAAAAXRSTlMAQObYZgAABCRJREFU\n",
       "WMONWF1IFFEUPurs7uzs7CpR0Q/ZoiQikRZYEGWWkNRDrgQ99JJIRb6ERFJRiBmYCtYKlVKEow8q\n",
       "ErnQU724mQ+hUFsEFfSzFggFhVlCalH3Z2bu7Mzc8R7Yb4a9d+937jn3fPfeBfCw9yBq4ZRHo1LH\n",
       "0MOy08J0W9BwhVHo1lxbD1mQb3s1UTZpHYAq5UEpx+86hvwYrBKeXH8M4E5OGto57d8syDN/nTDd\n",
       "SfTRsqIwx2mnQe72jNaxuCibbwFjjeab9/Tc2/8Z4clFyDgVkJ3H82eRIceCC8J0fSQObSBz3f9k\n",
       "QXfLySyDox5dKwhuhxpu9b2woLuhzOM5GiNM6M+HLl1XEBws2MPNdl+ljmmefPTFMA6Djc7vHDI4\n",
       "nzFLi1VvzJ9u3oB9TwLFKfz86kL3keAXO53ilJrwLPEjrfyytxSXQwRaSCPtAr3YvRYXuh1kpDI7\n",
       "HYw7s9yIMZCSo/aWXQBTKo5jNvEIYQTVnppwoTtPxog76PodPQPEW6mgnM336rlm/NwJwbrD+CW0\n",
       "oGN4cmSkxy27PzGwFpMuUmnvmVtmL7NWUz9krZN8s2Tg7/b2S250RJAK0Weg6MbmKKLTJV8tc9DZ\n",
       "g3ifqdVLujUpfw08AdDhJtCkQxd6SYbPBNKITpf8MMn6s+/YPpOuo/Zya2CjtAxbnMdY5bbY0PIh\n",
       "dBdRYjV1UYojOl3yQ42OkrHTsZXnj+nUfwwMQLabGNBor0QOgtxCcqdLvm/WoeV4peX+w0bafPl4\n",
       "5qSpSkpaVgJGNRUALzo9NxOG5HPorIFhs0vLODxWumD6CK6m8iKkIlIRBDRbMNFwMUpHJV9qZLmb\n",
       "cQ+muTGoCfSzLJxDEkyCHcdRAWqnA2iBq7larZHkOX2phLRS1IzpqOSHHZketa/MbcbLrSD6wVbT\n",
       "eYIPkLs+urPfroZioyvx5wkKYeI63CWzo5Kfk3QUgv2bgBHdTlmDwTcZdaeXzYKuOvXGb1YTjcVC\n",
       "P7A7Reio5Edijr3Dvs0ppw7SE9Oa6fbLP67gNyKnBMM4W75ZH/7iLJjnoWsuIoYlf8ixqmRHeKWn\n",
       "VMSYqi0yxNlW0yr0atAkmevusV2idcl3SrSat+x+T7uYHQdfjU9CbQL2F5uejpEl2sHoqOS7aEJo\n",
       "UfA0E8mMekKJy+aiptJk2V6p5Mtxjt55Gh0sU+1CcX+SnazpOcc8PGzSn29dBmtblm4sztDMJ0jv\n",
       "2JoOL5+RjIOPUtCwb9z78FThdWZfEqYbxXV2D15Hm3k91luQf6sRNHJVmoTn2gFehzyG3JNfTJgP\n",
       "F6vGvZCgoVIMuVdE8evdB8sWyg/UMuFqFaYjZzDuhQSCaxnybUg4mkoTwCN0rCvhDJRg6HEpuSA8\n",
       "vZ64tCTPBjnJ6bKgh90UpgvGlPqSQs5fB0qlif8BmJM0CfLsRSsAAAAASUVORK5CYII=\n",
       "\" style=\"display:inline;vertical-align:middle;\" /></a></dd>"
      ],
      "text/plain": [
       "<IPython.core.display.HTML object>"
      ]
     },
     "metadata": {},
     "output_type": "display_data"
    },
    {
     "data": {
      "text/html": [
       "<h4>proveit.numbers.modular</h4>"
      ],
      "text/plain": [
       "<IPython.core.display.HTML object>"
      ]
     },
     "metadata": {},
     "output_type": "display_data"
    },
    {
     "data": {
      "text/html": [
       "<dt><a class=\"ProveItLink\" href=\"modular/_axioms_.ipynb#mod_greater_eq_zero\">proveit.numbers.modular.mod_greater_eq_zero</a></dt><dd><a class=\"ProveItLink\" href=\"modular/__pv_it/axioms/53e00aad077daac66ac93068088969096d1e3b830/expr.ipynb\"><img src=\"data:image/png;base64,iVBORw0KGgoAAAANSUhEUgAAAPEAAAAWBAMAAADjpGcAAAAAMFBMVEX///8QEBCIiIhmZma6urrM\n",
       "zMxUVFQiIiJERETc3Nzu7u6qqqp2dnaYmJgyMjIAAAAcRTyBAAAAAXRSTlMAQObYZgAAA4hJREFU\n",
       "SMe9lltoE0EUhv8k3Sa72SQ+qA8WYYlWfRGC8QJeI74J6j6poJBSb+iDFu+VPsQiEvXBRUFFkEaL\n",
       "KLWaRRERxC5VEaMtEQUveImCPqhgtVWkiDhnZjdNakO7gh44mcm/M/PtnDl7doG/sFO2V7Kzi4vd\n",
       "60OPILlAnZeuwEpKeEW72ceH7W0Aqo0/rna+0Ll8n/58cEUOG8IrmtwnxsUYnu8M52YPzDaVRi6f\n",
       "oJEpV+RHtlc2QY6YtEM7DBudaw+Bbi6HM4BquiI32j4ceRlbGqdtaek6u7Mf6MiQHMq1tR13BZYb\n",
       "hA9LvsuDm7C1lftE+53dksnlH+l00wh4VrHnjQmHPHfaONZIb2ZE66uibOH26G32v72zVpDfR+ew\n",
       "eMacecc+8rzrZWSNyywKB0ZALi6AQF44FhrhHhL8zWiZyM5PakRAg1IDVeT2r0zWQKhQnHiUjkj+\n",
       "CSQ1Li9y8q/clhYqkf2mcGU8fDw1A6MQSSFp+C1I3xAo2Lkd7EdEQ3DgXJ7wQLE9Jy0u++HNlxCu\n",
       "TVnzllonSsGt++drZWRPQrivH36NkwuIWGjRk+x2fiJrQeFkX4H6Uo8zb3KuJNokq3l/sUTciOe9\n",
       "KnIaf+zYz4Vb86BZ6hncim+Lm4PInhSyOienaHMtegdlDYVSkNnjzFLJISt3tWKGdQhZLix3yE+v\n",
       "t4GRn1MMIqxUhA6dzDBy6OKQ0WYb6kApmfbci6xDjuSxIIMqEW15lhPYNPDalg+sZT+tk96hilYn\n",
       "MuVxMrqJpQAzRm4fMsOyJjYHjRKyJwapD+GUfc6RBMsEO8PkzWZ5JeHyFYZXdkj9CEOQ40SZnJkg\n",
       "arpm+eJlZMoA8oAW2qkO7DmpS2MQtiCPhu8rydX5ABvl44/j+URJyJQxtsxmwReTGtDKyb7126lt\n",
       "xiuF07SZGxJlZAoUuVJfe2wiPc9bvq86PFb93ISjD6ZT+Lpqv9TRyU7rotPWB79vOifpthxiRc5j\n",
       "euuwIp1Oa171yGMaMBozpd3pdDO0e1OJrLupniV2bhg5awSeZ6pFtIOrqd72owZ1ItpXc27fGKXv\n",
       "xGFkj5FcAlUX55yz5IPYE0rhjiCr7eWzAobwEb3LRUG6tItsx2CZzq7+8jzgEFWSbqt1vlSD5Q/Y\n",
       "8iwhg02flHjB3ZfBoLscgexl52xXLtFMYef8F19DJfbMlVz58+k/WP7fI34DHBkNtthCaVoAAAAA\n",
       "SUVORK5CYII=\n",
       "\" style=\"display:inline;vertical-align:middle;\" /></a></dd>"
      ],
      "text/plain": [
       "<IPython.core.display.HTML object>"
      ]
     },
     "metadata": {},
     "output_type": "display_data"
    },
    {
     "data": {
      "text/html": [
       "<dt><a class=\"ProveItLink\" href=\"modular/_axioms_.ipynb#mod_less_modulus\">proveit.numbers.modular.mod_less_modulus</a></dt><dd><a class=\"ProveItLink\" href=\"modular/__pv_it/axioms/01d3c99d812707748f284efd025b3160305ed1260/expr.ipynb\"><img src=\"data:image/png;base64,iVBORw0KGgoAAAANSUhEUgAAAPAAAAAWBAMAAAAMZgw+AAAAMFBMVEX///8QEBCIiIhmZma6urrM\n",
       "zMxUVFQiIiJERETc3Nzu7u6qqqp2dnaYmJgyMjIAAAAcRTyBAAAAAXRSTlMAQObYZgAAA5JJREFU\n",
       "SMfFllloE1EUhv8mmTadTBIfXBFhjKI+KASjIqg14INPah5EEYWUuqEgFhdQaSFWkaig0T4ogjS1\n",
       "oFKrDYpIQXCwilirxgVcwDKuiAotdUFbFc+Zm0mTOMGOIB44Mzd3++495793AvyFHc94EZMXJ7Pl\n",
       "NssengSgc+GZLa4cE17MPN1ho9vOaqA0Udh6egQ91gG3+Mc7W2BfQnhRawiLfkGi67+1viQ/Bxyl\n",
       "V3nMFvhBxouaX4D9KXpczYnEa+PVT66o8FE+lJQt8PaM/wm8iFPdmK31bjai5OrjNAyBt6O5+Ygt\n",
       "bnm18D+CbxjxDmcqHTVCcoox9BXwNR6vGQROy5YcQeGobx/Lc0nPpweqXIHdQEvgGm2mMxAVsDeB\n",
       "WcQJilEtm0yFVI2jALcDq4G9gwAHsyV3WrhrFLqNirI6NIzHPUjb4VbRmMJdoeqfydYEvEJdTbXm\n",
       "8NZ38jegC5hnpTxgoV4MXJYS3pjGTLGSIfDHEE2UaZA+44Cpak8f/Co8RmRL32eHX0miF7hEc8CR\n",
       "zgFcmrTyhZGKDMmzaU+FmgcuCQufm4QIn1uHX0NDJEqr+S5/p00ZYKeOVlpKD5dPDoArwF2iREiX\n",
       "ZW+Gy6G0Q0EHg3ys9DPtc6Bqygm0hzaHUgXgkZA/C3CMt9YQuUKVX6VeE0zHeFEqA0Z97cAxdvUb\n",
       "4HJ9iVn3uK0ZBH7KEfCT9r37jyUJ7D1rFWpat6cnD8w7/ihnwf40B8VVXSCuH3DSgZpPpb2rOPkT\n",
       "XsPFkzOYFRwNrKf0kxG4xUpccj9K9bZccEkQ0ie8NXPsD8tjYIpr4Dh9YnGwuHCB1iRvlfrggwCH\n",
       "GDIxOU7c46rmDOWBOfvsdXhUqQ2AoxFpGHwaDoUxVzUElXZTL6dWcIFswC56zuaVUTdnUKpGkwF2\n",
       "rtnC7zp0yQZMnbE2nAfm4LGfDCyr4hZp45flB4cr3TWo75xGe5h9PzrcUMzU25zpSMGV2TSZM8lF\n",
       "L4WgJOWoxNJ4PK46lMMPuX0oZkjb4vE6qDen8PQRG1dmrp2y/sCZN19rwv00WSpC7VnByejDaFSK\n",
       "UF/ssPmRyLWrlrWKah6RRHQBlIjIcYdWvg87vDFcF2ClJX+UOyF8UN9u3bL6XDZvVefnAPv5Armj\n",
       "NVVIo7Gkk2an8+Gp+SCHdFt/BAoXaWEFl7SDcpzRgXhNohzb/+uTa08sa71F49WG/2Tpf074BQ5q\n",
       "BYd3gNJYAAAAAElFTkSuQmCC\n",
       "\" style=\"display:inline;vertical-align:middle;\" /></a></dd>"
      ],
      "text/plain": [
       "<IPython.core.display.HTML object>"
      ]
     },
     "metadata": {},
     "output_type": "display_data"
    },
    {
     "data": {
      "text/html": [
       "<dt><a class=\"ProveItLink\" href=\"modular/_axioms_.ipynb#mod_is_remainder\">proveit.numbers.modular.mod_is_remainder</a></dt><dd><a class=\"ProveItLink\" href=\"modular/__pv_it/axioms/43d4ae338ba54b15870c37ff240610f20fc3e3100/expr.ipynb\"><img src=\"data:image/png;base64,iVBORw0KGgoAAAANSUhEUgAAAY0AAAAWBAMAAADOX93WAAAAMFBMVEX///8QEBCIiIhmZma6urrM\n",
       "zMxUVFQiIiJERETc3Nzu7u6qqqp2dnaYmJgyMjIAAAAcRTyBAAAAAXRSTlMAQObYZgAABSZJREFU\n",
       "WMPVl39oW1UUx0/y8vLj5b1kf0zdVoRn2m5Dp4RGi+DWRQQHgi7+MxE3EqpWFNS6qXXaP2InkjrU\n",
       "hwOnE2nWohu1LmEySkHsY1HGajsiij8GzvijKw5p6+xE2yqe+yMvr7cvXYr9Qw988+O+k/fO595z\n",
       "zr0BWL7dMP4mmlHl6tvOw4Eik2BBw9Gzmr1zh/VxqCJtIg4lMvbtsjg+hua2trZ1zheVtPP4US77\n",
       "0FX48rCjZzX7aIY+4/l2AK9RkRqHT8mFC8vkAMcAqIWqrNPPXHb7EXXM0bOaBWbYQ6IIU6oIOd4g\n",
       "V9Mrx/G587AWZVpgcyhV51+O2zyrG+MI5/HlZEXIEcriW37lOPY6D/sMJrt5ZkmOrBI4fMblObZj\n",
       "0HC4IuTQRvr7D8KKcQTanX9zkMtuKvX9SeBYOhjGcYomV9wScsAfmUxnDcGbtXG4SVYcKFyTFcbr\n",
       "uQJj1zZYpdRaj4lQEDio1+Ym0kbk72+KtHoiLwAMRMhDB042Mo7zkVtwGqKWCMeDAN01cETtHKc6\n",
       "Ojr+dHTzY9P0rIUpOt+T1OgvX+a61fBOl31zFxS8yTmBg3mFqJevC3oa4DOQ94JfB6UOVNav/s7m\n",
       "DNCwwLkIx2204hfZXaUlOIT18K4p7OPXfTjDh4tws3i755iUq8FLbqyQseEsXAQYFDiYl0Rbj38V\n",
       "hNOQNHwmyJfAX+L9KjgLYR2CmJZchMMHbvvGM7jx/h/oZPLAgrtfbNGX4FA+jBV9htrLE8mFd9ya\n",
       "hd0ix2omaRpcJENzBKYFlHmAJLl8ZnLyicnJ89xTmgUfbWMYediEnkQSZ2ceciYolEMqkc8yLhkX\n",
       "4VCLPmsPw5jcKoyQe4RID3uvsAV0U+2FQmxPLO/I8fVQPwRhV3kXJxxrQLlUhcOVhp44WbYU3T48\n",
       "c5zDth7MK5egHGky8T2JYVLHkNQ5B24f2/MiR6C0o/wwEhNynCXrE8b2p+0/lEUO7X3n9VCaGvIe\n",
       "Nh4ttwHMK5zk4LStPlK2vMrp8J11n7/IxMO2xXmFkz0Mdg6yHr+RHzOOcJGsuQdziotwQPcD+NK3\n",
       "fhxoTISDBJWMPIKlg4YcA84cRxJJI8T2rrcSlTpX5rAGhoT14HWey8Mrth6KleRU5+j1GD14lTlc\n",
       "UZBnIJTm9RGOYwWJdQ4fIJPylDwLNCbkiJGYN2Tr2dlLN6WYM0cM7oY++rlXtfYE9OuCr1KmwFFg\n",
       "CunavDX2KOzD180CB3r5de1ptbIeyYR8BYRMCKwG6SLtK0U/PkYyLVEO9AQpKrezmNxS25PkvQvO\n",
       "KTR2vfmhuMgxgX13HdTBergnk8noYI7AIb5H46S8G7m3NS5wbGNSWq+bscb6NpEEHhc4qFfj62SX\n",
       "kR///b5Xr1SnOuHA6I3kB2ONv5IsVZrGSJUkLFEODVuNK+9OsZjc6mtfsHJrlp/JZLpAP3098UqI\n",
       "6wHY/LvAS4M/UYTTNZ5LtGnhfNy+rHOJzY5UpJanLWf4z2a9LK+CO0kPncXpTrG8OjHidC4BWIs9\n",
       "XSV8kkTXoaZzolfYl6xzYn9N50SbLTwn8nZpJO9kMZG+awZegme1NHzCONQBZ47bN+Hc7scPX7aN\n",
       "TqTKhV5lOru5XELlHHP0rMGEcztP69bjW1hMg2fMvha5DnaMYkzY7oKdvyixkiMH7RZuUh+1/49S\n",
       "p/ZcLuqjtXGQCStLXViOlZiC7G0j1sdi21AuTcn81/9rteX9r7XZNxW5J+JVnIZqutXWcfiPWxH+\n",
       "Z/YP/YWuIDDsx+cAAAAASUVORK5CYII=\n",
       "\" style=\"display:inline;vertical-align:middle;\" /></a></dd>"
      ],
      "text/plain": [
       "<IPython.core.display.HTML object>"
      ]
     },
     "metadata": {},
     "output_type": "display_data"
    },
    {
     "data": {
      "text/html": [
       "<dt><a class=\"ProveItLink\" href=\"modular/_axioms_.ipynb#mod_abs_def\">proveit.numbers.modular.mod_abs_def</a></dt><dd><a class=\"ProveItLink\" href=\"modular/__pv_it/axioms/6a3b45a1f12df73e53c2eaa2b3881e95ad9f27e50/expr.ipynb\"><img src=\"data:image/png;base64,iVBORw0KGgoAAAANSUhEUgAAAcMAAAAXBAMAAACFcDlgAAAAMFBMVEX///8QEBCIiIhmZma6urrM\n",
       "zMxUVFQiIiJERETc3Nzu7u6qqqp2dnaYmJgyMjIAAAAcRTyBAAAAAXRSTlMAQObYZgAABaZJREFU\n",
       "WMPdmH9sU1UUx79r+9a+t/4wEVAhJKUwIMZow9SYCFLDHyYmukp0RiW2DtGwGF1EDSAxZTGmSHQF\n",
       "EiEmuC6Loohpo5kwotJsMyS4YREThYipGon6B2xQwA0Ez3n3vfa9/tor/mO4yd17ez3nnvu553vP\n",
       "+wFcXXu85HitNTmLYe10+KoH2Vn9J+XhZHlEUxuo6vv+/SYj7jn+50R9s/sQ9SHKz47zoeHCanl2\n",
       "ASNW3b7pdEg12dhpiGhqjYlqvl/lC65sxP0bvvJXfYh/1okIuZuz8PkEpEv6JW+ihn1PSNgEDRHN\n",
       "ec5VDZUvuLIR9x18OVYXoSdYL6KygKc0d9Jw6Wgte59A9KUNEc1tsKpvvug6KLqXZO9O14XoTNSN\n",
       "GDhHC7nMiLjOAmJr0hDR3HqnQFRde0X3HNq9e3t9Ot2OuhFvPgvY7JOQH9H11GkB8aAxorl5Q7UR\n",
       "D+pG3P+OxzdYmGWmeDpXoG0bmpO0iuh/ihaTEHecx5PXL5/vh42lp44ASL/cEWh3BF4H9gRoPGUk\n",
       "EBEAJwN3FyMWNtviRTNJeEK6Ja7YM9icL7qyEfdVwCYLszTshrdURMdNOF0zi4dPcftNILamsZ8Q\n",
       "cRJY65cn4KL6I0ZgHXahZx6OQFoHlx+9aXwrKurlZCpRiKi3exPeMVovrd6YXZVZcOeLrmzEfVnl\n",
       "8vRgririqypibxZ3WRaq35mDnxHfADYC/8BJ21+MQM11HXwxRBLODKRzeFuvqE2T8PkLEfWhZsNO\n",
       "1bFJE7rZ1ZXTKqpwZSPuTtiM99W9C1f+ykdNCZDWDGNO1IQ4TUVcmsSL5YgfJSsj2ibkkIZICGfQ\n",
       "QBBiBJ5nDr4MesIR4r6k0H0lpSLac0hl9IiKqolTYRrESdzSGMpd2VzJF13ZiLs76yzM5IuWrM2N\n",
       "Q7x0Xq6yHw8twT530p4calnTkjYj3gjlXDnibelyATCicskDDTGuI4oReJ4xXvOe8AEuDdIZHZHu\n",
       "ba3pQkStNcSQChsQja6I+DVE4aojyrk23f3Hgd0gxOOcVR/tAs/md5P40h90VxAqLXbTWDkir4wm\n",
       "ALEXTwpEbDQjklC1EQzz5FScVQqIviwnukSolJwDdHB0otwVKR1RuLKRarjpafrTN/93OHhqjMjq\n",
       "iAQ6aJtS6+/f6q5QbpSLaMwNlCG60poASrKI1g4TIpUbbQTDPBuCkPL4Q9+LvpAyG6XlJpXG802J\n",
       "Qrkxu3pj2l4Urnq5wWfEqbwsTcILgdjCOAuSc8Xza7/7kxVmxCFVqF34IZqpiOgru1FLURZY44TK\n",
       "pyJypsUIhXlGwtJ0eDPYEsJStco0Zl1BpHJaRD2A3/MKLbk9Y0TUXeVpsJ8puKpGqiFXLXtQ6kSf\n",
       "imh/5iU+duFnRcXqR2bIjHifivhB4LH2EB3fmx7oOEE3psAtSdhGb00LAZQ8ol7O2kK27gur2650\n",
       "tF1ZtW88yvoRI9ACvHD+ie4Z7tMbsG3kdlruxd9FZqi5XzRK1XC9FlEXRHvzO/NIKWGxdmZX9I02\n",
       "j0d1V9VINfSQ3hvStigejcfjfpt76/dih98prY3HuwhxJ9ejcLUHOPkiSWsvpU/pxGIaSAhgyrbO\n",
       "6rPU/ooPcLusuO4yGqYSruPJRiHUphW8xycxC1GRRcfyWo/hyiSew0OIUOLplPchCWDq8EetImbq\n",
       "fAwvMSoYNiQiD8AdFnvxUEZ+E+s9MXzNP1FOfypx3WRCHEM7IR4BVjrGVEQSwNThXQlYfGrQIlp8\n",
       "mSoxKho62j9dAmzmW//hTN890iy0jYja4XgthMZar8QaImdRFllkAUwd3+ILnKfiK7GlBWKjUkMb\n",
       "7UXtvVscFtJerPxho1k7bYbMiBFaDnkmnWyheyoL4D992KgY0dSOWXE6VtNwoI6vHOc9Nwx0BzEy\n",
       "lIB7dAElkAXw/2/Za+hj2r81mwEgaxKHyAAAAABJRU5ErkJggg==\n",
       "\" style=\"display:inline;vertical-align:middle;\" /></a></dd>"
      ],
      "text/plain": [
       "<IPython.core.display.HTML object>"
      ]
     },
     "metadata": {},
     "output_type": "display_data"
    },
    {
     "data": {
      "text/html": [
       "<h4>proveit.numbers.exponentiation</h4>"
      ],
      "text/plain": [
       "<IPython.core.display.HTML object>"
      ]
     },
     "metadata": {},
     "output_type": "display_data"
    },
    {
     "data": {
      "text/html": [
       "This sub-theory contains no axioms."
      ],
      "text/plain": [
       "<IPython.core.display.HTML object>"
      ]
     },
     "metadata": {},
     "output_type": "display_data"
    },
    {
     "data": {
      "text/html": [
       "<h4>proveit.numbers.summation</h4>"
      ],
      "text/plain": [
       "<IPython.core.display.HTML object>"
      ]
     },
     "metadata": {},
     "output_type": "display_data"
    },
    {
     "data": {
      "text/html": [
       "<dt><a class=\"ProveItLink\" href=\"summation/_axioms_.ipynb#sum_single\">proveit.numbers.summation.sum_single</a></dt><dd><a class=\"ProveItLink\" href=\"summation/__pv_it/axioms/c8daf9d9bd5cd05b77905867f73cd36da32ccd7e0/expr.ipynb\"><img src=\"data:image/png;base64,iVBORw0KGgoAAAANSUhEUgAAATgAAAA/BAMAAACGI8lVAAAAMFBMVEX///8QEBCIiIhmZma6urrM\n",
       "zMxUVFQiIiJERETc3Nzu7u6qqqp2dnaYmJgyMjIAAAAcRTyBAAAAAXRSTlMAQObYZgAABv9JREFU\n",
       "aN7Fml1sFFUUx093d7q7szOzhEgirKQNVWIwhhVC1ISPKonGGNN90ieziB/RhLRVI+JHbMODLlHS\n",
       "NTFINLpLUNFi3FWjRvrQFWJISqQrGhDUUB+M37TUIrRYxntnzp3ZmZ2ZvXN5cJJlpvR/Z35zz7nn\n",
       "nHu6AM1Hj65PQItD7cSLY8BzxLLAeTBlQtcvev2+Z2Sku9U9PsNzqp/vmdt54ZgyNjLiDdf6DslF\n",
       "ePFyju+Re7p54WxlRhAuzqz6GJ7lVb2BmLHF3HZdfLlwR/GsMOfcl8uXA0es57br+suES87gRYnZ\n",
       "YDXcEzykUuWFs5SCcIlBvCjYb7k8eIiygBfOUgrCjRZxrc4yl5uFncOBQ+RpXjhLKQj3K541NoOw\n",
       "WJqpB48ZL/PSMaUYnDSPF3kL6LbrulrAleq8cEwpBtc+hRd9wH9oE2GVYnCVTegd/4SAi8yGVYrB\n",
       "ncYAos6EgJP/DasUgxtiEWUqBBz8FFYpBncBz+nBMHDjuZBKIbgYM1BPLQxcT2dIpRCcwlxt3PC9\n",
       "Sd0+giJthXueUSkEp83hxaQRLUd10wryK8c7zgZVMtwJDJVCcGlWYJ43/o3qVsGpDgSk93buWIJK\n",
       "IbgS2ieJC2PADnfRgEgbmecOdPPicKNY5qf+xiSm25lpTcC2gzvQoVIIbiUuuwi6v6rbBlMbdG/g\n",
       "+XNc5P75JFn3UmbAsMOPbjjNeJBPqt6AjhVlO5Ch827J3q4iyGx1tpsFVvKS182oEt71VGbgCD39\n",
       "7oZT6PM1nyKnD7NXOwspe3T3zm/LaBW0IktH6IieS5kq4TdPZQZ2U9JBN5zxP7t9jDCJT9WYNWPu\n",
       "LaY88xbAN9aPB81Th1cepUo166nMGNOjVJt8js7lER+4DpzRtjkr35x1TnKKJt2n7N2ec1yTMl70\n",
       "VGZAHRsefrV5QfwwPPye335ZZ/HOyvuaq0WgkKFJe7hm+sFA0SPbUNWr3kqyWi8UCs82w6ULhRdq\n",
       "3HByhyNMqDc8noUIsZW87JFbiaWUrB+coYQu6lprVy1xKQncgwA76OXaeiNcew4SRW44ksIcO/o0\n",
       "CTYJcr/34UTncwTBnNdJM80pZ4wjaylhJ/ncUtSmXEoCt9FcI8qyWiNcLAsfND7uvpduWh0AF9WX\n",
       "OHIIuXmcOPIY2azcYTVUhjxqJqqEZ8gcL4XooEtJ4OIQqdvWtoJwP1zPft5/aB3x7rEVzIYsJFQa\n",
       "MvmAw66jdLmQG5bNja1kvsWQR7+EKuEK8nZzRovDoSRwSj1uTEPZCfcVMIdWX3ytDFXpZD0IruRY\n",
       "PYcRDmC6BdxhhGsbhEquGS45cTclGFrnhHtT2oTtmY2m4RTL+5lZKw1V+tcOB30eTLOCdM6Ig/2N\n",
       "cOhzmywlNWulZkyiQ0lz644H6NV3rtya2NWN7RnTR09+ErQgYucc87EQzAVxIDIFK9wLoklJF0Sl\n",
       "Cr2pYtOCgI/7zU6MEy51I7ZnZGNZyZ21ILh81Rn2wYgKsYuJKZrTozU/OEMJh8irdKpbFZcyw1az\n",
       "sZwdVck0tmekbYXCdlCUcrLsH+cWOjcZU6aF5M0rumhNoZlUA81whhJuJ3fYfM2uq11KCqcaD13k\n",
       "hjvF2jOGc9x5LyhF3/SlORO/YuRqO33tA78gbCrt9OVQWvWcPOdVzxntmS/pVTZL3w+HIlzcGlNw\n",
       "PPFTzVjYHIkflb6Jn81vvxec0Z5JEH9SH9pydKu1p0bzJNgqUJ62Ezn5bDPDd8JdMulNcKg0U1ST\n",
       "0oJTs/6V8LWF7cHFZkMc+Z58jt1sPokVYkgpN5WkTGkVm04lg9OO50KU6XXnjqUhjsQWeJTpJ7Fx\n",
       "dqFlme5UMjhlWZgNDkaVFKaskhVH5A0Bfwxh+6HWByqFNjh57IBJ5j5Evor94vU+Pfd/bw3TrLI0\n",
       "9yHaJTMfParr+vmAYdFzvHCoFIKLs+A7YK4Pzl6Jxt0wQ6UQnDUFG7ibWo4uBq9SCC7FnGe0HgYu\n",
       "nw2pFIKzWsGsN8x3rKyGVIp1Np9kztcfBq4vrFIMbhwzgjIbBu7KsEoxuBJ2cpLTIdhi82GVYnAa\n",
       "M+cvIeDa58IqxeBUFktOh4gl6WxYpeAf5tg+ME2z7ME1yxnj3uU/+47hfxGmFIT7AstNhWylI+Xe\n",
       "ePfDBXLU5Sckf9ud4Z5jphSEa2O7HZLzJfjLSh1ZyTe4xLgzq6UUhFPZBJ2mU2gFlLZqxDcsa9wu\n",
       "ZylFv4DwJ7tRje7SJeilZUm9Ukyc8umGwodlXjhLKQqXxzAszUJJmWDNgLZi/i6/EUu5Xc5SisKp\n",
       "zLdOwDvfHhxj3rL5o3V+sYs7DdtKUTi4n92K05VOcE+crfSG4/iilcZKjD+4npjk/kIOU/p90Wo/\n",
       "xxetZBZS3+Z7ZJEbDpWxkZED/wF02T8U9ddoggAAAABJRU5ErkJggg==\n",
       "\" style=\"display:inline;vertical-align:middle;\" /></a></dd>"
      ],
      "text/plain": [
       "<IPython.core.display.HTML object>"
      ]
     },
     "metadata": {},
     "output_type": "display_data"
    },
    {
     "data": {
      "text/html": [
       "<h4>proveit.numbers.product</h4>"
      ],
      "text/plain": [
       "<IPython.core.display.HTML object>"
      ]
     },
     "metadata": {},
     "output_type": "display_data"
    },
    {
     "data": {
      "text/html": [
       "This sub-theory contains no axioms."
      ],
      "text/plain": [
       "<IPython.core.display.HTML object>"
      ]
     },
     "metadata": {},
     "output_type": "display_data"
    },
    {
     "data": {
      "text/html": [
       "<h4>proveit.numbers.differentiation</h4>"
      ],
      "text/plain": [
       "<IPython.core.display.HTML object>"
      ]
     },
     "metadata": {},
     "output_type": "display_data"
    },
    {
     "data": {
      "text/html": [
       "This sub-theory contains no axioms."
      ],
      "text/plain": [
       "<IPython.core.display.HTML object>"
      ]
     },
     "metadata": {},
     "output_type": "display_data"
    },
    {
     "data": {
      "text/html": [
       "<h4>proveit.numbers.integration</h4>"
      ],
      "text/plain": [
       "<IPython.core.display.HTML object>"
      ]
     },
     "metadata": {},
     "output_type": "display_data"
    },
    {
     "data": {
      "text/html": [
       "This sub-theory contains no axioms."
      ],
      "text/plain": [
       "<IPython.core.display.HTML object>"
      ]
     },
     "metadata": {},
     "output_type": "display_data"
    },
    {
     "data": {
      "text/html": [
       "<h3>Theorems (or conjectures) contained (directly or indirectly) within this theory</h3>"
      ],
      "text/plain": [
       "<IPython.core.display.HTML object>"
      ]
     },
     "metadata": {},
     "output_type": "display_data"
    },
    {
     "data": {
      "text/html": [
       "Also see list of all contained <a href=\"contain_theorems.ipynb\">theorems (or conjectures)</a>."
      ],
      "text/plain": [
       "<IPython.core.display.HTML object>"
      ]
     },
     "metadata": {},
     "output_type": "display_data"
    }
   ],
   "source": [
    "import proveit\n",
    "%theory # toggles between interactive and static modes"
   ]
  },
  {
   "cell_type": "code",
   "execution_count": null,
   "metadata": {},
   "outputs": [],
   "source": []
  }
 ],
 "metadata": {
  "kernelspec": {
   "display_name": "Python 3",
   "language": "python",
   "name": "python3"
  },
  "language_info": {
   "codemirror_mode": {
    "name": "ipython",
    "version": 3
   },
   "file_extension": ".py",
   "mimetype": "text/x-python",
   "name": "python",
   "nbconvert_exporter": "python",
   "pygments_lexer": "ipython3",
   "version": "3.7.3"
  }
 },
 "nbformat": 4,
 "nbformat_minor": 1
}
