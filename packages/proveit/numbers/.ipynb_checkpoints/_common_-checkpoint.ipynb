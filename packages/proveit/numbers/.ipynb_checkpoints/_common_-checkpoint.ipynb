{
 "cells": [
  {
   "cell_type": "markdown",
   "metadata": {},
   "source": [
    "Common expressions for the theory of <a class=\"ProveItLink\" href=\"_theory_.ipynb\">proveit.numbers</a>\n",
    "========"
   ]
  },
  {
   "cell_type": "code",
   "execution_count": 1,
   "metadata": {},
   "outputs": [
    {
     "name": "stdout",
     "output_type": "stream",
     "text": [
      "Defining common sub-expressions for theory 'proveit.numbers'\n",
      "Subsequent end-of-cell assignments will define common sub-expressions\n",
      "%end_common will finalize the definitions\n"
     ]
    }
   ],
   "source": [
    "import proveit\n",
    "# Prepare this notebook for defining the common expressions of a theory:\n",
    "%common_expressions_notebook # Keep this at the top following 'import proveit'.\n",
    "from proveit import Function\n",
    "from proveit import P, k, m, n\n",
    "from proveit.logic import Set, Difference\n",
    "from proveit.numbers import Add, Complex, zero, one\n",
    "%begin common"
   ]
  },
  {
   "cell_type": "code",
   "execution_count": 2,
   "metadata": {},
   "outputs": [
    {
     "ename": "CommonExpressionDependencyError",
     "evalue": "Must execute '_common_.ipynb' for the theory of proveit.numbers.numerals to define 'zero' before it may be used",
     "output_type": "error",
     "traceback": [
      "\u001b[0;31m---------------------------------------------------------------------------\u001b[0m",
      "\u001b[0;31mTypeError\u001b[0m                                 Traceback (most recent call last)",
      "\u001b[0;32m/home/wwitzel/Prove-It/packages/proveit/_core_/expression/composite/composite.py\u001b[0m in \u001b[0;36mcomposite_expression\u001b[0;34m(expressions)\u001b[0m\n\u001b[1;32m     69\u001b[0m             \u001b[0;31m# NamedExpressions object\u001b[0m\u001b[0;34m\u001b[0m\u001b[0;34m\u001b[0m\u001b[0;34m\u001b[0m\u001b[0m\n\u001b[0;32m---> 70\u001b[0;31m             \u001b[0;32mreturn\u001b[0m \u001b[0mNamedExprs\u001b[0m\u001b[0;34m(\u001b[0m\u001b[0mexpressions\u001b[0m\u001b[0;34m)\u001b[0m\u001b[0;34m\u001b[0m\u001b[0;34m\u001b[0m\u001b[0m\n\u001b[0m\u001b[1;32m     71\u001b[0m         \u001b[0;32mexcept\u001b[0m \u001b[0;34m(\u001b[0m\u001b[0mTypeError\u001b[0m\u001b[0;34m,\u001b[0m \u001b[0m_valueError\u001b[0m\u001b[0;34m)\u001b[0m\u001b[0;34m:\u001b[0m\u001b[0;34m\u001b[0m\u001b[0;34m\u001b[0m\u001b[0m\n",
      "\u001b[0;32m/home/wwitzel/Prove-It/packages/proveit/_core_/expression/composite/named_exprs.py\u001b[0m in \u001b[0;36m__init__\u001b[0;34m(self, items, styles)\u001b[0m\n\u001b[1;32m     16\u001b[0m         \u001b[0melems\u001b[0m \u001b[0;34m=\u001b[0m \u001b[0mdict\u001b[0m\u001b[0;34m(\u001b[0m\u001b[0;34m)\u001b[0m\u001b[0;34m\u001b[0m\u001b[0;34m\u001b[0m\u001b[0m\n\u001b[0;32m---> 17\u001b[0;31m         \u001b[0;32mfor\u001b[0m \u001b[0mkey\u001b[0m\u001b[0;34m,\u001b[0m \u001b[0mval\u001b[0m \u001b[0;32min\u001b[0m \u001b[0mitems\u001b[0m\u001b[0;34m:\u001b[0m\u001b[0;34m\u001b[0m\u001b[0;34m\u001b[0m\u001b[0m\n\u001b[0m\u001b[1;32m     18\u001b[0m             \u001b[0mkeywords\u001b[0m\u001b[0;34m.\u001b[0m\u001b[0mappend\u001b[0m\u001b[0;34m(\u001b[0m\u001b[0mkey\u001b[0m\u001b[0;34m)\u001b[0m\u001b[0;34m\u001b[0m\u001b[0;34m\u001b[0m\u001b[0m\n",
      "\u001b[0;31mTypeError\u001b[0m: cannot unpack non-iterable UnsetCommonExpressionPlaceholder object",
      "\nDuring handling of the above exception, another exception occurred:\n",
      "\u001b[0;31mCommonExpressionDependencyError\u001b[0m           Traceback (most recent call last)",
      "\u001b[0;32m<ipython-input-2-44410327688d>\u001b[0m in \u001b[0;36m<module>\u001b[0;34m\u001b[0m\n\u001b[0;32m----> 1\u001b[0;31m \u001b[0mComplexSansZero\u001b[0m \u001b[0;34m=\u001b[0m \u001b[0mDifference\u001b[0m\u001b[0;34m(\u001b[0m\u001b[0mComplex\u001b[0m\u001b[0;34m,\u001b[0m \u001b[0mSet\u001b[0m\u001b[0;34m(\u001b[0m\u001b[0mzero\u001b[0m\u001b[0;34m)\u001b[0m\u001b[0;34m)\u001b[0m\u001b[0;34m\u001b[0m\u001b[0;34m\u001b[0m\u001b[0m\n\u001b[0m\u001b[1;32m      2\u001b[0m \u001b[0mproveit\u001b[0m\u001b[0;34m.\u001b[0m\u001b[0mmagics\u001b[0m\u001b[0;34m.\u001b[0m\u001b[0mAssignments\u001b[0m\u001b[0;34m(\u001b[0m\u001b[0;34m[\u001b[0m\u001b[0;34m'ComplexSansZero'\u001b[0m\u001b[0;34m]\u001b[0m\u001b[0;34m,\u001b[0m \u001b[0;34m[\u001b[0m\u001b[0mComplexSansZero\u001b[0m\u001b[0;34m]\u001b[0m\u001b[0;34m)\u001b[0m\u001b[0;34m\u001b[0m\u001b[0;34m\u001b[0m\u001b[0m\n",
      "\u001b[0;32m/home/wwitzel/Prove-It/packages/proveit/logic/sets/enumeration/enum_set.py\u001b[0m in \u001b[0;36m__init__\u001b[0;34m(self, *elems)\u001b[0m\n\u001b[1;32m     23\u001b[0m \u001b[0;34m\u001b[0m\u001b[0m\n\u001b[1;32m     24\u001b[0m     \u001b[0;32mdef\u001b[0m \u001b[0m__init__\u001b[0m\u001b[0;34m(\u001b[0m\u001b[0mself\u001b[0m\u001b[0;34m,\u001b[0m \u001b[0;34m*\u001b[0m\u001b[0melems\u001b[0m\u001b[0;34m)\u001b[0m\u001b[0;34m:\u001b[0m\u001b[0;34m\u001b[0m\u001b[0;34m\u001b[0m\u001b[0m\n\u001b[0;32m---> 25\u001b[0;31m         \u001b[0mOperation\u001b[0m\u001b[0;34m.\u001b[0m\u001b[0m__init__\u001b[0m\u001b[0;34m(\u001b[0m\u001b[0mself\u001b[0m\u001b[0;34m,\u001b[0m \u001b[0mSet\u001b[0m\u001b[0;34m.\u001b[0m\u001b[0m_operator_\u001b[0m\u001b[0;34m,\u001b[0m \u001b[0melems\u001b[0m\u001b[0;34m)\u001b[0m\u001b[0;34m\u001b[0m\u001b[0;34m\u001b[0m\u001b[0m\n\u001b[0m\u001b[1;32m     26\u001b[0m         \u001b[0mself\u001b[0m\u001b[0;34m.\u001b[0m\u001b[0melements\u001b[0m \u001b[0;34m=\u001b[0m \u001b[0mself\u001b[0m\u001b[0;34m.\u001b[0m\u001b[0moperands\u001b[0m\u001b[0;34m\u001b[0m\u001b[0;34m\u001b[0m\u001b[0m\n\u001b[1;32m     27\u001b[0m \u001b[0;34m\u001b[0m\u001b[0m\n",
      "\u001b[0;32m/home/wwitzel/Prove-It/packages/proveit/_core_/expression/operation/operation.py\u001b[0m in \u001b[0;36m__init__\u001b[0;34m(self, operator_or_operators, operand_or_operands, styles)\u001b[0m\n\u001b[1;32m     49\u001b[0m         \u001b[0;31m# one non-ExprRange and non-ExprTuple element.\u001b[0m\u001b[0;34m\u001b[0m\u001b[0;34m\u001b[0m\u001b[0;34m\u001b[0m\u001b[0m\n\u001b[1;32m     50\u001b[0m         self.operand_or_operands = single_or_composite_expression(\n\u001b[0;32m---> 51\u001b[0;31m                 operand_or_operands, do_singular_reduction=True)\n\u001b[0m\u001b[1;32m     52\u001b[0m \u001b[0;34m\u001b[0m\u001b[0m\n\u001b[1;32m     53\u001b[0m         \u001b[0;32mdef\u001b[0m \u001b[0mraise_bad_operator_type\u001b[0m\u001b[0;34m(\u001b[0m\u001b[0moperator\u001b[0m\u001b[0;34m)\u001b[0m\u001b[0;34m:\u001b[0m\u001b[0;34m\u001b[0m\u001b[0;34m\u001b[0m\u001b[0m\n",
      "\u001b[0;32m/home/wwitzel/Prove-It/packages/proveit/_core_/expression/composite/composite.py\u001b[0m in \u001b[0;36msingle_or_composite_expression\u001b[0;34m(expr_or_exprs, wrap_expr_range_in_tuple, do_singular_reduction)\u001b[0m\n\u001b[1;32m     97\u001b[0m         \u001b[0;32mreturn\u001b[0m \u001b[0mExprTuple\u001b[0m\u001b[0;34m(\u001b[0m\u001b[0mexpr_or_exprs\u001b[0m\u001b[0;34m)\u001b[0m\u001b[0;34m\u001b[0m\u001b[0;34m\u001b[0m\u001b[0m\n\u001b[1;32m     98\u001b[0m     \u001b[0;32mif\u001b[0m \u001b[0;32mnot\u001b[0m \u001b[0misinstance\u001b[0m\u001b[0;34m(\u001b[0m\u001b[0mexpr_or_exprs\u001b[0m\u001b[0;34m,\u001b[0m \u001b[0mExpression\u001b[0m\u001b[0;34m)\u001b[0m\u001b[0;34m:\u001b[0m\u001b[0;34m\u001b[0m\u001b[0;34m\u001b[0m\u001b[0m\n\u001b[0;32m---> 99\u001b[0;31m         \u001b[0mexpr_or_exprs\u001b[0m \u001b[0;34m=\u001b[0m \u001b[0mcomposite_expression\u001b[0m\u001b[0;34m(\u001b[0m\u001b[0mexpr_or_exprs\u001b[0m\u001b[0;34m)\u001b[0m\u001b[0;34m\u001b[0m\u001b[0;34m\u001b[0m\u001b[0m\n\u001b[0m\u001b[1;32m    100\u001b[0m     if (do_singular_reduction and isinstance(expr_or_exprs, ExprTuple)\n\u001b[1;32m    101\u001b[0m             and len(expr_or_exprs)==1):\n",
      "\u001b[0;32m/home/wwitzel/Prove-It/packages/proveit/_core_/expression/composite/composite.py\u001b[0m in \u001b[0;36mcomposite_expression\u001b[0;34m(expressions)\u001b[0m\n\u001b[1;32m     71\u001b[0m         \u001b[0;32mexcept\u001b[0m \u001b[0;34m(\u001b[0m\u001b[0mTypeError\u001b[0m\u001b[0;34m,\u001b[0m \u001b[0m_valueError\u001b[0m\u001b[0;34m)\u001b[0m\u001b[0;34m:\u001b[0m\u001b[0;34m\u001b[0m\u001b[0;34m\u001b[0m\u001b[0m\n\u001b[1;32m     72\u001b[0m             \u001b[0;31m# See if we can build an ExprTuple.\u001b[0m\u001b[0;34m\u001b[0m\u001b[0;34m\u001b[0m\u001b[0;34m\u001b[0m\u001b[0m\n\u001b[0;32m---> 73\u001b[0;31m             \u001b[0;32mreturn\u001b[0m \u001b[0mExprTuple\u001b[0m\u001b[0;34m(\u001b[0m\u001b[0;34m*\u001b[0m\u001b[0mexpressions\u001b[0m\u001b[0;34m)\u001b[0m\u001b[0;34m\u001b[0m\u001b[0;34m\u001b[0m\u001b[0m\n\u001b[0m\u001b[1;32m     74\u001b[0m \u001b[0;34m\u001b[0m\u001b[0m\n\u001b[1;32m     75\u001b[0m def single_or_composite_expression(expr_or_exprs, \n",
      "\u001b[0;32m/home/wwitzel/Prove-It/packages/proveit/_core_/expression/composite/expr_tuple.py\u001b[0m in \u001b[0;36m__init__\u001b[0;34m(self, styles, *expressions)\u001b[0m\n\u001b[1;32m     32\u001b[0m                 \u001b[0mentry\u001b[0m \u001b[0;34m=\u001b[0m \u001b[0mentry\u001b[0m\u001b[0;34m.\u001b[0m\u001b[0mexpr\u001b[0m\u001b[0;34m\u001b[0m\u001b[0;34m\u001b[0m\u001b[0m\n\u001b[1;32m     33\u001b[0m             \u001b[0;32mif\u001b[0m \u001b[0;32mnot\u001b[0m \u001b[0misinstance\u001b[0m\u001b[0;34m(\u001b[0m\u001b[0mentry\u001b[0m\u001b[0;34m,\u001b[0m \u001b[0mExpression\u001b[0m\u001b[0;34m)\u001b[0m\u001b[0;34m:\u001b[0m\u001b[0;34m\u001b[0m\u001b[0;34m\u001b[0m\u001b[0m\n\u001b[0;32m---> 34\u001b[0;31m                 \u001b[0mentry\u001b[0m \u001b[0;34m=\u001b[0m \u001b[0msingle_or_composite_expression\u001b[0m\u001b[0;34m(\u001b[0m\u001b[0mentry\u001b[0m\u001b[0;34m)\u001b[0m\u001b[0;34m\u001b[0m\u001b[0;34m\u001b[0m\u001b[0m\n\u001b[0m\u001b[1;32m     35\u001b[0m             \u001b[0;32massert\u001b[0m \u001b[0misinstance\u001b[0m\u001b[0;34m(\u001b[0m\u001b[0mentry\u001b[0m\u001b[0;34m,\u001b[0m \u001b[0mExpression\u001b[0m\u001b[0;34m)\u001b[0m\u001b[0;34m\u001b[0m\u001b[0;34m\u001b[0m\u001b[0m\n\u001b[1;32m     36\u001b[0m             \u001b[0mentries\u001b[0m\u001b[0;34m.\u001b[0m\u001b[0mappend\u001b[0m\u001b[0;34m(\u001b[0m\u001b[0mentry\u001b[0m\u001b[0;34m)\u001b[0m\u001b[0;34m\u001b[0m\u001b[0;34m\u001b[0m\u001b[0m\n",
      "\u001b[0;32m/home/wwitzel/Prove-It/packages/proveit/_core_/expression/composite/composite.py\u001b[0m in \u001b[0;36msingle_or_composite_expression\u001b[0;34m(expr_or_exprs, wrap_expr_range_in_tuple, do_singular_reduction)\u001b[0m\n\u001b[1;32m     89\u001b[0m     \u001b[0;32mfrom\u001b[0m \u001b[0;34m.\u001b[0m\u001b[0mexpr_range\u001b[0m \u001b[0;32mimport\u001b[0m \u001b[0mExprRange\u001b[0m\u001b[0;34m\u001b[0m\u001b[0;34m\u001b[0m\u001b[0m\n\u001b[1;32m     90\u001b[0m     \u001b[0;32mif\u001b[0m \u001b[0misinstance\u001b[0m\u001b[0;34m(\u001b[0m\u001b[0mexpr_or_exprs\u001b[0m\u001b[0;34m,\u001b[0m \u001b[0mUnsetCommonExpressionPlaceholder\u001b[0m\u001b[0;34m)\u001b[0m\u001b[0;34m:\u001b[0m\u001b[0;34m\u001b[0m\u001b[0;34m\u001b[0m\u001b[0m\n\u001b[0;32m---> 91\u001b[0;31m         \u001b[0mexpr_or_exprs\u001b[0m\u001b[0;34m.\u001b[0m\u001b[0mraise_attempted_use_error\u001b[0m\u001b[0;34m(\u001b[0m\u001b[0;34m)\u001b[0m\u001b[0;34m\u001b[0m\u001b[0;34m\u001b[0m\u001b[0m\n\u001b[0m\u001b[1;32m     92\u001b[0m     \u001b[0;32mif\u001b[0m \u001b[0misinstance\u001b[0m\u001b[0;34m(\u001b[0m\u001b[0mexpr_or_exprs\u001b[0m\u001b[0;34m,\u001b[0m \u001b[0mJudgment\u001b[0m\u001b[0;34m)\u001b[0m\u001b[0;34m:\u001b[0m\u001b[0;34m\u001b[0m\u001b[0;34m\u001b[0m\u001b[0m\n\u001b[1;32m     93\u001b[0m         \u001b[0mexpr_or_exprs\u001b[0m \u001b[0;34m=\u001b[0m \u001b[0mexpr_or_exprs\u001b[0m\u001b[0;34m.\u001b[0m\u001b[0mexpr\u001b[0m\u001b[0;34m\u001b[0m\u001b[0;34m\u001b[0m\u001b[0m\n",
      "\u001b[0;32m/home/wwitzel/Prove-It/packages/proveit/_core_/theory.py\u001b[0m in \u001b[0;36mraise_attempted_use_error\u001b[0;34m(self)\u001b[0m\n\u001b[1;32m    690\u001b[0m                 \u001b[0;34m\"Must execute '_common_.ipynb' for the theory of %s \"\u001b[0m\u001b[0;34m\u001b[0m\u001b[0;34m\u001b[0m\u001b[0m\n\u001b[1;32m    691\u001b[0m                 \u001b[0;34m\"to define '%s' before it may be used\"\u001b[0m\u001b[0;34m%\u001b[0m\u001b[0;34m\u001b[0m\u001b[0;34m\u001b[0m\u001b[0m\n\u001b[0;32m--> 692\u001b[0;31m                 (self.theory.name, self.name))\n\u001b[0m\u001b[1;32m    693\u001b[0m \u001b[0;34m\u001b[0m\u001b[0m\n\u001b[1;32m    694\u001b[0m \u001b[0;32mclass\u001b[0m \u001b[0mTheoryException\u001b[0m\u001b[0;34m(\u001b[0m\u001b[0mException\u001b[0m\u001b[0;34m)\u001b[0m\u001b[0;34m:\u001b[0m\u001b[0;34m\u001b[0m\u001b[0;34m\u001b[0m\u001b[0m\n",
      "\u001b[0;31mCommonExpressionDependencyError\u001b[0m: Must execute '_common_.ipynb' for the theory of proveit.numbers.numerals to define 'zero' before it may be used"
     ]
    }
   ],
   "source": [
    "ComplexSansZero = Difference(Complex, Set(zero))"
   ]
  },
  {
   "cell_type": "code",
   "execution_count": 3,
   "metadata": {},
   "outputs": [
    {
     "data": {
      "text/html": [
       "<strong id=\"Pzero\">Pzero:</strong> <a class=\"ProveItLink\" href=\"__pv_it/common/eef7500bfce3410909fe92ada1f28089b92e5a180/common_expr.ipynb\"><img src=\"data:image/png;base64,iVBORw0KGgoAAAANSUhEUgAAACkAAAAUBAMAAADiqgm2AAAAMFBMVEX///8iIiLc3Ny6urqIiIiq\n",
       "qqp2dnbMzMwQEBDu7u5mZmYyMjJERERUVFSYmJgAAAA4CJ/KAAAAAXRSTlMAQObYZgAAAQpJREFU\n",
       "GNNVkTFOw0AQRV9MgtnYgcgFdU4AuQG+AMLiAklh0dD4BikjOtNRuuAA1DRwACI6OqSIAiEkBCgI\n",
       "CaMIZnazwoy0tvV258/fb/irHfc6tM+Xn9n9ZQnmGvLHgt7A4m+ITyAaEGUmwVwoDD+h8wHP8ATH\n",
       "0qC0vZAlOwnMYFRypjR+g96CoA9L2MuIhkK3RGe3ol1haqEp65XQyZjOtrTMCURnkrKp4w7ujs7F\n",
       "WCsjqN0Z0eK2tP42hl4hlEG846lOG2WWhrWjosANvJas9Z1da3Dub6HToi9H1U8rM1PojuleLVNL\n",
       "tc/k+4WcKxpBJv7jtAE1HVd5k8Yu11WSvjT15u7/P/QAv0hOQIFd2x/XAAAAAElFTkSuQmCC\n",
       "\" style=\"display:inline;vertical-align:middle;\" /></a><br>"
      ],
      "text/plain": [
       "Pzero: P(0)"
      ]
     },
     "execution_count": 3,
     "metadata": {},
     "output_type": "execute_result"
    }
   ],
   "source": [
    "Pzero = Function(P, zero)"
   ]
  },
  {
   "cell_type": "code",
   "execution_count": 4,
   "metadata": {},
   "outputs": [
    {
     "data": {
      "text/html": [
       "<strong id=\"Pone\">Pone:</strong> <a class=\"ProveItLink\" href=\"__pv_it/common/9ee56854119b64e03bf79244378b29bf63fab9550/common_expr.ipynb\"><img src=\"data:image/png;base64,iVBORw0KGgoAAAANSUhEUgAAACkAAAAUBAMAAADiqgm2AAAAMFBMVEX///8iIiLc3Ny6urqIiIiq\n",
       "qqp2dnbMzMwQEBDu7u5mZmYyMjJERERUVFSYmJgAAAA4CJ/KAAAAAXRSTlMAQObYZgAAAONJREFU\n",
       "GNNjYEAAPQgVBCbf/j97d9cEBgbOAxBRXgUw9ZuBgaeTgYEbyGMF0pwbQILs34C8LwwMrxgY5ub+\n",
       "BAqkgERZPgMxUEYIyOYDic4AifJ8AJr1mYFJACbKbQAk+IHm6C9gYFkAE2UDseoTGFjFgFoewET5\n",
       "QNb5X0tbAnQYYwBMlBVk1vkJYPdxGMBE2YEWMXxkwCLK/gsiijCBWQDiXLADUWzj/gkRBbuHBcTh\n",
       "SmDg2v/XASwK0sd14/c6oLoCpIAUgjEmIgmCQgcCUpBFeSDhCg1JGICFOkwWNYYeMTAAAKo2OyOK\n",
       "8RDqAAAAAElFTkSuQmCC\n",
       "\" style=\"display:inline;vertical-align:middle;\" /></a><br>"
      ],
      "text/plain": [
       "Pone: P(1)"
      ]
     },
     "execution_count": 4,
     "metadata": {},
     "output_type": "execute_result"
    }
   ],
   "source": [
    "Pone = Function(P, one)"
   ]
  },
  {
   "cell_type": "code",
   "execution_count": 5,
   "metadata": {},
   "outputs": [
    {
     "data": {
      "text/html": [
       "<strong id=\"Pn\">Pn:</strong> <a class=\"ProveItLink\" href=\"__pv_it/common/a9740f234cbd3b69083e3988c465e012d4b6853a0/common_expr.ipynb\"><img src=\"data:image/png;base64,iVBORw0KGgoAAAANSUhEUgAAACsAAAAUBAMAAADmX9mLAAAAMFBMVEX///8iIiLc3Ny6urqIiIiq\n",
       "qqp2dnbMzMwQEBDu7u5mZmYyMjJERERUVFSYmJgAAAA4CJ/KAAAAAXRSTlMAQObYZgAAAQ1JREFU\n",
       "GNNjYEAAPSgdBCbf/j97d9cEBgbOA1BhXgUw9ZuBgaeTgYFbASrMuQFEsn9jYGD9wsDwCm5aCohg\n",
       "+QzEQCkhuPAMEMHzAWjcZwYmAbgwtwGQ4Acapb+AgWUBA4PZJRUvBwYGNiCToT6BgVUMqOkBA0PC\n",
       "GQfOTwwMfCA7/a+lLQG6jzGAgT1AmoHpO9ABIPPOTwAbyGHAwMn5mYEPaBM7EDN8ZIAJM7B+YODd\n",
       "ABFm/wURBhrCwLWBgf/BBAZmAYizwe4EWsmRwBA/IQFsJfdPiDDIVfoGDNl8BQxcCQxc+/86gIVB\n",
       "Og0ZGHSfAlUWIIUrwvMTkUTRgwoGeFADFgbg0QCXR420RwwMAOuUO4NXZY/LAAAAAElFTkSuQmCC\n",
       "\" style=\"display:inline;vertical-align:middle;\" /></a><br>"
      ],
      "text/plain": [
       "Pn: P(n)"
      ]
     },
     "execution_count": 5,
     "metadata": {},
     "output_type": "execute_result"
    }
   ],
   "source": [
    "Pn = Function(P, n)"
   ]
  },
  {
   "cell_type": "code",
   "execution_count": 6,
   "metadata": {},
   "outputs": [
    {
     "data": {
      "text/html": [
       "<strong id=\"P_nAddOne\">P_nAddOne:</strong> <a class=\"ProveItLink\" href=\"__pv_it/common/ab9beac224f6954a43332117758123a839bf80df0/common_expr.ipynb\"><img src=\"data:image/png;base64,iVBORw0KGgoAAAANSUhEUgAAAE8AAAAUBAMAAAA+U32BAAAAMFBMVEX///8iIiLc3Ny6urqIiIiq\n",
       "qqp2dnbMzMwQEBDu7u5mZmYyMjJERERUVFSYmJgAAAA4CJ/KAAAAAXRSTlMAQObYZgAAAUVJREFU\n",
       "KM9jYEAAPQZcIAhMvv1/9u6uCQwMnAdwKuRVAFO/GRh4OhkYuBWwKmIFSnFuALHYvwF5XxgYXqHK\n",
       "O0Doubk/gWQKiMnyGYiBioWwKmTgAymcAWLxfAA64jMDkwAehdwGQIIf6AD9BQwsCxgYzC6peDlg\n",
       "U8gGlGSoT2BgFQMa/ICBIeGMA+cnbAr5QL7xv5a2BBg6jAEM7AHSDEzfsSlkBbnr/ASwAIcBAyfn\n",
       "Zwa+DyCbdu/e2L179wW4QnaQ6EcGmEIG1g8MvBuwmQhSyP4LIgC0moFrAwP/gwlYFDILQIIRHEpA\n",
       "z3AkMMRPSMDhGe6fEAFQCOgbMGTzFaAqZAHJcyUwcO3/CxECmW7IwKD7FNWNXDd+rwOaVoAUFzii\n",
       "EAwmInNQEwXnBGReCjKHRwFneuTcgMLDnXDRzMCdFR4xMAAAhEVTrm8V5yMAAAAASUVORK5CYII=\n",
       "\" style=\"display:inline;vertical-align:middle;\" /></a><br>"
      ],
      "text/plain": [
       "P_nAddOne: P(n + 1)"
      ]
     },
     "execution_count": 6,
     "metadata": {},
     "output_type": "execute_result"
    }
   ],
   "source": [
    "P_nAddOne = Function(P, Add(n, one))"
   ]
  },
  {
   "cell_type": "code",
   "execution_count": 7,
   "metadata": {},
   "outputs": [
    {
     "data": {
      "text/html": [
       "<strong id=\"Pm\">Pm:</strong> <a class=\"ProveItLink\" href=\"__pv_it/common/8c3fddc10af841cb9228e77f3ca7107999dd43ab0/common_expr.ipynb\"><img src=\"data:image/png;base64,iVBORw0KGgoAAAANSUhEUgAAADEAAAAUBAMAAADW08iqAAAAMFBMVEX///8iIiLc3Ny6urqIiIiq\n",
       "qqp2dnbMzMwQEBDu7u5mZmYyMjJERERUVFSYmJgAAAA4CJ/KAAAAAXRSTlMAQObYZgAAAR9JREFU\n",
       "KM9tka9Pw1AUhb+VvfXnRoPAYCbQrBgs1SQLDRJDBUGjsGBxxeGYwGGmEBj2B0BIEDgSgiQhGemy\n",
       "ZBAC971mtMt4SU97+717cu57UK618nPH6PvP/fNNBu6gJM22eX1BcAp+uyRuX6s9BjWCt4ox+1rq\n",
       "uTxCl6rkXEswFN8cK6wSPxJZFM9Oj3oPNh5Xu/FRV/42pOI4RS1L6wukd7E7itQJtHSE7aeDSwld\n",
       "S7CTFawxLbFX2vshM85OhOvmqAlNGcwWygdTghrihThxQezPgogbXp9aymY7YyEsxjHhJYGTchFx\n",
       "ZSUmgT8piM7ZidiD64Z0p3i337Ehun8dtmD3VfYfVsaeOZ2zajF/otMVzN3CXzX4f9fsbUuGX046\n",
       "P5Nja0WUAAAAAElFTkSuQmCC\n",
       "\" style=\"display:inline;vertical-align:middle;\" /></a><br>"
      ],
      "text/plain": [
       "Pm: P(m)"
      ]
     },
     "execution_count": 7,
     "metadata": {},
     "output_type": "execute_result"
    }
   ],
   "source": [
    "Pm = Function(P, m)"
   ]
  },
  {
   "cell_type": "code",
   "execution_count": 8,
   "metadata": {},
   "outputs": [
    {
     "data": {
      "text/html": [
       "<strong id=\"P_mAddOne\">P_mAddOne:</strong> <a class=\"ProveItLink\" href=\"__pv_it/common/f1a3816edd68a3133eb22f35e3df8da9fb933e220/common_expr.ipynb\"><img src=\"data:image/png;base64,iVBORw0KGgoAAAANSUhEUgAAAFMAAAAUBAMAAAADwRznAAAAMFBMVEX///8iIiLc3Ny6urqIiIiq\n",
       "qqp2dnbMzMwQEBDu7u5mZmYyMjJERERUVFSYmJgAAAA4CJ/KAAAAAXRSTlMAQObYZgAAAVVJREFU\n",
       "KM99k7FLw1AQh7/axtA01i4Wxyo4t/4Hgk4ugji4NUNxUAouzg6K4BY3BaUV3AQpjgYRxFUdFHFQ\n",
       "EHexGinUInovobXVJAe5d3f5eLl77xfoWN8T4Tbr+Zfvy8cTG3YjSAZy3tICcxOOwzBNXiZrKtIb\n",
       "kn2Qrv5F5vxlr9wUX1JhwpWnQSwXgpJW6LaKzLq04jJCJJoqiBuUNvJVpiFeHp261Us3QWi/6m/V\n",
       "QsvClaTmBZVJ5oPQtJpr5m7hQM5qCFZiNfIWr0GolhF3bXuFNbArBYo2DypdcpxhxzntoLpMxBtt\n",
       "lCLsw3rQrgrVP/2CNMAhZIm/JwPQeMY/VmUyFhskXYzaWMhYqaZfWBTBuGh1UpbViyYUYVgYZ18T\n",
       "XmHc+0iiinaU60GN+9aR7Lj8ezfhF+vZVlf8Xy473UmpOzmP0qsvwrZFStvsaS/yh3mGH8TJWctm\n",
       "9jlDAAAAAElFTkSuQmCC\n",
       "\" style=\"display:inline;vertical-align:middle;\" /></a><br>"
      ],
      "text/plain": [
       "P_mAddOne: P(m + 1)"
      ]
     },
     "execution_count": 8,
     "metadata": {},
     "output_type": "execute_result"
    }
   ],
   "source": [
    "P_mAddOne = Function(P, Add(m, one))"
   ]
  },
  {
   "cell_type": "code",
   "execution_count": 9,
   "metadata": {},
   "outputs": [
    {
     "data": {
      "text/html": [
       "<strong id=\"Pk\">Pk:</strong> <a class=\"ProveItLink\" href=\"__pv_it/common/74eb4fc4ac1a3efae5501c1cfc4657483fe8d0870/common_expr.ipynb\"><img src=\"data:image/png;base64,iVBORw0KGgoAAAANSUhEUgAAACoAAAAUBAMAAAAJnbK1AAAAMFBMVEX///8iIiLc3Ny6urqIiIiq\n",
       "qqp2dnbMzMwQEBDu7u5mZmYyMjJERERUVFSYmJgAAAA4CJ/KAAAAAXRSTlMAQObYZgAAAQ9JREFU\n",
       "GNNjYIADpgcQmlUBRL79f/burgkMDHOAqBEkcAks+ZuBgaeTgWETkLkLxJ8NIti/AXV9YeBbAGR/\n",
       "BQmwOQAJls9A/I2BEWgc80+QKGcDkOD5wMDA+5lBEaRKAGzkZiDm38DAoL+AwQvI5F7A+gqoJQvI\n",
       "rE9gYBVjYDgHZM4PcLIHuu81kOl/LW0J0GGiQGb8lAnzgFQgEJ+fADasGYhXLAAz64H4IwNcVNbH\n",
       "ASrK/gsiCjSB8zPTZxDTEOJcEADaxveB8ysbA9g27p8QUaBzeA8wfAeJLmPg2v8XbBZIG08Ag5cn\n",
       "kLkdEZCMCjAWpwBClG8BjMXmgBBlOARjzEYSBIU6mjRyDPEpMAAApNg/jo0N/hsAAAAASUVORK5C\n",
       "YII=\n",
       "\" style=\"display:inline;vertical-align:middle;\" /></a><br>"
      ],
      "text/plain": [
       "Pk: P(k)"
      ]
     },
     "execution_count": 9,
     "metadata": {},
     "output_type": "execute_result"
    }
   ],
   "source": [
    "Pk = Function(P, k)"
   ]
  },
  {
   "cell_type": "code",
   "execution_count": 10,
   "metadata": {},
   "outputs": [
    {
     "name": "stdout",
     "output_type": "stream",
     "text": [
      "Common expressions may be imported from autogenerated _common_.py\n"
     ]
    }
   ],
   "source": [
    "%end common"
   ]
  },
  {
   "cell_type": "code",
   "execution_count": null,
   "metadata": {},
   "outputs": [],
   "source": []
  }
 ],
 "metadata": {
  "kernelspec": {
   "display_name": "Python 3",
   "language": "python",
   "name": "python3"
  }
 },
 "nbformat": 4,
 "nbformat_minor": 1
}
