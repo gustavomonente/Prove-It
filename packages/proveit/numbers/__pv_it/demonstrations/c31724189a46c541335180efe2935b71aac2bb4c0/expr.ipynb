{
 "cells": [
  {
   "cell_type": "markdown",
   "metadata": {},
   "source": [
    "Expression of type <a class=\"ProveItLink\" href=\"../../../../../../doc/html/api/proveit.ExprTuple.html\">ExprTuple</a>\n",
    "=======================\n",
    "# from the theory of <a class=\"ProveItLink\" href=\"../../../_theory_nbs_/theory.ipynb\">proveit.numbers</a>"
   ]
  },
  {
   "cell_type": "code",
   "execution_count": 1,
   "metadata": {},
   "outputs": [],
   "source": [
    "import proveit\n",
    "# Automation is not needed when building an expression:\n",
    "proveit.defaults.automation = False # This will speed things up.\n",
    "proveit.defaults.inline_pngs = False # Makes files smaller.\n",
    "%load_expr # Load the stored expression as 'stored_expr'\n",
    "# import Expression classes needed to build the expression\n",
    "from proveit import ExprTuple, c, x, y\n",
    "from proveit.numbers import Add, Exp, sqrt, two"
   ]
  },
  {
   "cell_type": "code",
   "execution_count": 2,
   "metadata": {},
   "outputs": [
    {
     "data": {
      "text/html": [
       "<strong id=\"expr\">expr:</strong> <a class=\"ProveItLink\" href=\"expr.ipynb\"><img src=\"expr.png\" style=\"display:inline;vertical-align:middle;\" /></a><br>"
      ],
      "text/plain": [
       "expr: (c + sqrt((x^{2})), c + sqrt((y^{2})))"
      ]
     },
     "execution_count": 2,
     "metadata": {},
     "output_type": "execute_result"
    }
   ],
   "source": [
    "# build up the expression from sub-expressions\n",
    "expr = ExprTuple(Add(c, sqrt(Exp(x, two))), Add(c, sqrt(Exp(y, two))))"
   ]
  },
  {
   "cell_type": "code",
   "execution_count": 3,
   "metadata": {},
   "outputs": [
    {
     "name": "stdout",
     "output_type": "stream",
     "text": [
      "Passed sanity check: expr matches stored_expr\n"
     ]
    }
   ],
   "source": [
    "# check that the built expression is the same as the stored expression\n",
    "assert expr == stored_expr\n",
    "assert expr._style_id == stored_expr._style_id\n",
    "print(\"Passed sanity check: expr matches stored_expr\")"
   ]
  },
  {
   "cell_type": "code",
   "execution_count": 4,
   "metadata": {},
   "outputs": [
    {
     "name": "stdout",
     "output_type": "stream",
     "text": [
      "\\left(c + \\sqrt{(x^{2})}, c + \\sqrt{(y^{2})}\\right)\n"
     ]
    }
   ],
   "source": [
    "# Show the LaTeX representation of the expression for convenience if you need it.\n",
    "print(expr.latex())"
   ]
  },
  {
   "cell_type": "code",
   "execution_count": 5,
   "metadata": {},
   "outputs": [
    {
     "data": {
      "text/html": [
       "<table><tr><th>&nbsp;</th><th>core type</th><th>sub-expressions</th><th>expression</th></tr>\n",
       "<tr><td>0</td><td>ExprTuple</td><td>1, 2</td><td><a class=\"ProveItLink\" href=\"expr.ipynb\"><img src=\"expr.png\" style=\"display:inline;vertical-align:middle;\" /></a></td></tr>\n",
       "<tr><td>1</td><td>Operation</td><td>operator:&nbsp;4<br>operands:&nbsp;3<br></td><td><a class=\"ProveItLink\" href=\"../294e4b760e4dffeaf020e576e9916c6bca50ceec0/expr.ipynb\"><img src=\"../294e4b760e4dffeaf020e576e9916c6bca50ceec0/expr.png\" style=\"display:inline;vertical-align:middle;\" /></a></td></tr>\n",
       "<tr><td>2</td><td>Operation</td><td>operator:&nbsp;4<br>operands:&nbsp;5<br></td><td><a class=\"ProveItLink\" href=\"../c11263fe97af9cc9bf72958a9d7693cdf4787ec40/expr.ipynb\"><img src=\"../c11263fe97af9cc9bf72958a9d7693cdf4787ec40/expr.png\" style=\"display:inline;vertical-align:middle;\" /></a></td></tr>\n",
       "<tr><td>3</td><td>ExprTuple</td><td>7, 6</td><td><a class=\"ProveItLink\" href=\"../550d034d9e7b0320b323fd6c08a77c4190f9cea00/expr.ipynb\"><img src=\"../550d034d9e7b0320b323fd6c08a77c4190f9cea00/expr.png\" style=\"display:inline;vertical-align:middle;\" /></a></td></tr>\n",
       "<tr><td>4</td><td>Literal</td><td></td><td><a class=\"ProveItLink\" href=\"../../../addition/__pv_it/common/4b7effaab3619a1c2c38fe2dee8601df8ec714590/expr.ipynb\"><img src=\"../../../addition/__pv_it/common/4b7effaab3619a1c2c38fe2dee8601df8ec714590/expr.png\" style=\"display:inline;vertical-align:middle;\" /></a></td></tr>\n",
       "<tr><td>5</td><td>ExprTuple</td><td>7, 8</td><td><a class=\"ProveItLink\" href=\"../8a00a7a9d8af4c4a4cc9042894c86f3f3694d67d0/expr.ipynb\"><img src=\"../8a00a7a9d8af4c4a4cc9042894c86f3f3694d67d0/expr.png\" style=\"display:inline;vertical-align:middle;\" /></a></td></tr>\n",
       "<tr><td>6</td><td>Operation</td><td>operator:&nbsp;15<br>operands:&nbsp;9<br></td><td><a class=\"ProveItLink\" href=\"../0563ae278b7406e3a0e2c2c5d3977ee35444ced60/expr.ipynb\"><img src=\"../0563ae278b7406e3a0e2c2c5d3977ee35444ced60/expr.png\" style=\"display:inline;vertical-align:middle;\" /></a></td></tr>\n",
       "<tr><td>7</td><td>Variable</td><td></td><td><a class=\"ProveItLink\" href=\"../../../../__pv_it/common/ceef4280a2f1cc604b455b54e735507244cc62cd0/expr.ipynb\"><img src=\"../../../../__pv_it/common/ceef4280a2f1cc604b455b54e735507244cc62cd0/expr.png\" style=\"display:inline;vertical-align:middle;\" /></a></td></tr>\n",
       "<tr><td>8</td><td>Operation</td><td>operator:&nbsp;15<br>operands:&nbsp;10<br></td><td><a class=\"ProveItLink\" href=\"../6a133ec839e8e9d1f31d46ea4db84e4a5f0dc8c30/expr.ipynb\"><img src=\"../6a133ec839e8e9d1f31d46ea4db84e4a5f0dc8c30/expr.png\" style=\"display:inline;vertical-align:middle;\" /></a></td></tr>\n",
       "<tr><td>9</td><td>ExprTuple</td><td>11, 13</td><td><a class=\"ProveItLink\" href=\"../3c8efa2e581feb9994655218efc01bccb7f16b230/expr.ipynb\"><img src=\"../3c8efa2e581feb9994655218efc01bccb7f16b230/expr.png\" style=\"display:inline;vertical-align:middle;\" /></a></td></tr>\n",
       "<tr><td>10</td><td>ExprTuple</td><td>12, 13</td><td><a class=\"ProveItLink\" href=\"../474d8f1b16fb22f0e83507d7183a26282a73c2670/expr.ipynb\"><img src=\"../474d8f1b16fb22f0e83507d7183a26282a73c2670/expr.png\" style=\"display:inline;vertical-align:middle;\" /></a></td></tr>\n",
       "<tr><td>11</td><td>Operation</td><td>operator:&nbsp;15<br>operands:&nbsp;14<br></td><td><a class=\"ProveItLink\" href=\"../b1d2f5909ccd997c7ef04ac9457507688896b9680/expr.ipynb\"><img src=\"../b1d2f5909ccd997c7ef04ac9457507688896b9680/expr.png\" style=\"display:inline;vertical-align:middle;\" /></a></td></tr>\n",
       "<tr><td>12</td><td>Operation</td><td>operator:&nbsp;15<br>operands:&nbsp;16<br></td><td><a class=\"ProveItLink\" href=\"../bbba1def2dd0603d08c6872d9fc6bf2d03275f180/expr.ipynb\"><img src=\"../bbba1def2dd0603d08c6872d9fc6bf2d03275f180/expr.png\" style=\"display:inline;vertical-align:middle;\" /></a></td></tr>\n",
       "<tr><td>13</td><td>Operation</td><td>operator:&nbsp;17<br>operands:&nbsp;18<br></td><td><a class=\"ProveItLink\" href=\"../../../exponentiation/__pv_it/theorems/ed794d0dec5d34befefe372b8b03b9df7b69ac470/expr.ipynb\"><img src=\"../../../exponentiation/__pv_it/theorems/ed794d0dec5d34befefe372b8b03b9df7b69ac470/expr.png\" style=\"display:inline;vertical-align:middle;\" /></a></td></tr>\n",
       "<tr><td>14</td><td>ExprTuple</td><td>19, 22</td><td><a class=\"ProveItLink\" href=\"../e53a0d92728b1748ca7756e69d5f65bc69de8b490/expr.ipynb\"><img src=\"../e53a0d92728b1748ca7756e69d5f65bc69de8b490/expr.png\" style=\"display:inline;vertical-align:middle;\" /></a></td></tr>\n",
       "<tr><td>15</td><td>Literal</td><td></td><td><a class=\"ProveItLink\" href=\"../../../exponentiation/__pv_it/common/0ac37aca1e54c35c5cda09672df32d4f69f1f3020/expr.ipynb\"><img src=\"../../../exponentiation/__pv_it/common/0ac37aca1e54c35c5cda09672df32d4f69f1f3020/expr.png\" style=\"display:inline;vertical-align:middle;\" /></a></td></tr>\n",
       "<tr><td>16</td><td>ExprTuple</td><td>20, 22</td><td><a class=\"ProveItLink\" href=\"../61cd918bc153db139f02506fe1dc57cae1e83fc60/expr.ipynb\"><img src=\"../61cd918bc153db139f02506fe1dc57cae1e83fc60/expr.png\" style=\"display:inline;vertical-align:middle;\" /></a></td></tr>\n",
       "<tr><td>17</td><td>Literal</td><td></td><td><a class=\"ProveItLink\" href=\"../../../division/__pv_it/common/a2a633e1e3c749fb1f2692466b287b6348c5de840/expr.ipynb\"><img src=\"../../../division/__pv_it/common/a2a633e1e3c749fb1f2692466b287b6348c5de840/expr.png\" style=\"display:inline;vertical-align:middle;\" /></a></td></tr>\n",
       "<tr><td>18</td><td>ExprTuple</td><td>21, 22</td><td><a class=\"ProveItLink\" href=\"../../../exponentiation/__pv_it/theorems/95fdce2c03f4c1a2c47c63453ccf25285abc1a5c0/expr.ipynb\"><img src=\"../../../exponentiation/__pv_it/theorems/95fdce2c03f4c1a2c47c63453ccf25285abc1a5c0/expr.png\" style=\"display:inline;vertical-align:middle;\" /></a></td></tr>\n",
       "<tr><td>19</td><td>Variable</td><td></td><td><a class=\"ProveItLink\" href=\"../../../../__pv_it/common/a0d9d672aa5e272d907247690c152cc2c6daafb70/expr.ipynb\"><img src=\"../../../../__pv_it/common/a0d9d672aa5e272d907247690c152cc2c6daafb70/expr.png\" style=\"display:inline;vertical-align:middle;\" /></a></td></tr>\n",
       "<tr><td>20</td><td>Variable</td><td></td><td><a class=\"ProveItLink\" href=\"../../../../__pv_it/common/ff7dba4ef0bbe791ab573bf2d9c220a304399ac80/expr.ipynb\"><img src=\"../../../../__pv_it/common/ff7dba4ef0bbe791ab573bf2d9c220a304399ac80/expr.png\" style=\"display:inline;vertical-align:middle;\" /></a></td></tr>\n",
       "<tr><td>21</td><td>Literal</td><td></td><td><a class=\"ProveItLink\" href=\"../../../numerals/__pv_it/common/2778428c7f555b2bdc06aa0530bc142c6e6335100/expr.ipynb\"><img src=\"../../../numerals/__pv_it/common/2778428c7f555b2bdc06aa0530bc142c6e6335100/expr.png\" style=\"display:inline;vertical-align:middle;\" /></a></td></tr>\n",
       "<tr><td>22</td><td>Literal</td><td></td><td><a class=\"ProveItLink\" href=\"../../../numerals/__pv_it/common/ba3b059982e8b49413dc653e957beb11e974e4bc0/expr.ipynb\"><img src=\"../../../numerals/__pv_it/common/ba3b059982e8b49413dc653e957beb11e974e4bc0/expr.png\" style=\"display:inline;vertical-align:middle;\" /></a></td></tr>\n",
       "</table>\n"
      ],
      "text/plain": [
       "0. (c + sqrt((x^{2})), c + sqrt((y^{2})))\n",
       "   core type: ExprTuple\n",
       "   sub-expressions: 1, 2\n",
       "1. c + sqrt((x^{2}))\n",
       "   core type: Operation\n",
       "   operator: 4\n",
       "   operands: 3\n",
       "2. c + sqrt((y^{2}))\n",
       "   core type: Operation\n",
       "   operator: 4\n",
       "   operands: 5\n",
       "3. (c, sqrt((x^{2})))\n",
       "   core type: ExprTuple\n",
       "   sub-expressions: 7, 6\n",
       "4. +\n",
       "   core type: Literal\n",
       "   sub-expressions: \n",
       "5. (c, sqrt((y^{2})))\n",
       "   core type: ExprTuple\n",
       "   sub-expressions: 7, 8\n",
       "6. sqrt((x^{2}))\n",
       "   core type: Operation\n",
       "   operator: 15\n",
       "   operands: 9\n",
       "7. c\n",
       "   core type: Variable\n",
       "   sub-expressions: \n",
       "8. sqrt((y^{2}))\n",
       "   core type: Operation\n",
       "   operator: 15\n",
       "   operands: 10\n",
       "9. (x^{2}, 1 / 2)\n",
       "   core type: ExprTuple\n",
       "   sub-expressions: 11, 13\n",
       "10. (y^{2}, 1 / 2)\n",
       "    core type: ExprTuple\n",
       "    sub-expressions: 12, 13\n",
       "11. x^{2}\n",
       "    core type: Operation\n",
       "    operator: 15\n",
       "    operands: 14\n",
       "12. y^{2}\n",
       "    core type: Operation\n",
       "    operator: 15\n",
       "    operands: 16\n",
       "13. 1 / 2\n",
       "    core type: Operation\n",
       "    operator: 17\n",
       "    operands: 18\n",
       "14. (x, 2)\n",
       "    core type: ExprTuple\n",
       "    sub-expressions: 19, 22\n",
       "15. Exp\n",
       "    core type: Literal\n",
       "    sub-expressions: \n",
       "16. (y, 2)\n",
       "    core type: ExprTuple\n",
       "    sub-expressions: 20, 22\n",
       "17. /\n",
       "    core type: Literal\n",
       "    sub-expressions: \n",
       "18. (1, 2)\n",
       "    core type: ExprTuple\n",
       "    sub-expressions: 21, 22\n",
       "19. x\n",
       "    core type: Variable\n",
       "    sub-expressions: \n",
       "20. y\n",
       "    core type: Variable\n",
       "    sub-expressions: \n",
       "21. 1\n",
       "    core type: Literal\n",
       "    sub-expressions: \n",
       "22. 2\n",
       "    core type: Literal\n",
       "    sub-expressions: "
      ]
     },
     "execution_count": 5,
     "metadata": {},
     "output_type": "execute_result"
    }
   ],
   "source": [
    "# display the expression information\n",
    "expr.expr_info()"
   ]
  },
  {
   "cell_type": "code",
   "execution_count": null,
   "metadata": {},
   "outputs": [],
   "source": []
  }
 ],
 "metadata": {
  "kernelspec": {
   "display_name": "Python 3",
   "language": "python",
   "name": "python3"
  }
 },
 "nbformat": 4,
 "nbformat_minor": 0
}