{
 "cells": [
  {
   "cell_type": "markdown",
   "metadata": {},
   "source": [
    "Show the Proof\n",
    "========"
   ]
  },
  {
   "cell_type": "code",
   "execution_count": 1,
   "metadata": {},
   "outputs": [
    {
     "data": {
      "text/html": [
       "<table><tr><th>&nbsp;</th><th>step type</th><th>requirements</th><th>statement</th></tr>\n",
       "<tr><td><a name=\"proveit.numbers.demonstrations.0f0fa3aa38c3c1e20725744a5d7c4d93ffaca0240_step0\">0</a></td><td>instantiation</td><td><a href=\"#proveit.numbers.demonstrations.0f0fa3aa38c3c1e20725744a5d7c4d93ffaca0240_step1\">1</a>, <a href=\"#proveit.numbers.demonstrations.0f0fa3aa38c3c1e20725744a5d7c4d93ffaca0240_step2\">2</a>, <a href=\"#proveit.numbers.demonstrations.0f0fa3aa38c3c1e20725744a5d7c4d93ffaca0240_step3\">3</a>, <a href=\"#proveit.numbers.demonstrations.0f0fa3aa38c3c1e20725744a5d7c4d93ffaca0240_step4\">4</a>, <a href=\"#proveit.numbers.demonstrations.0f0fa3aa38c3c1e20725744a5d7c4d93ffaca0240_step5\">5</a></td><td><span style=\"font-size:20px;\"><a class=\"ProveItLink\" href=\"../bd2f502b953df5e1834a5d80011e6b2e7aa85c890/expr.ipynb\"><img src=\"../bd2f502b953df5e1834a5d80011e6b2e7aa85c890/expr.png\" style=\"display:inline;vertical-align:middle;\" /></a>, <a class=\"ProveItLink\" href=\"../02bd6ad73acd9f4d3192ee4c61bfdcabbff20f180/expr.ipynb\"><img src=\"../02bd6ad73acd9f4d3192ee4c61bfdcabbff20f180/expr.png\" style=\"display:inline;vertical-align:middle;\" /></a>, <a class=\"ProveItLink\" href=\"../0886f5b6aacf5197ba709a53d4f3243edcc3de560/expr.ipynb\"><img src=\"../0886f5b6aacf5197ba709a53d4f3243edcc3de560/expr.png\" style=\"display:inline;vertical-align:middle;\" /></a>, <a class=\"ProveItLink\" href=\"../../../ordering/__pv_it/theorems/851392b6f273e0cbcf1bc7828c98c2cf9db6bb7a0/expr.ipynb\"><img src=\"../../../ordering/__pv_it/theorems/851392b6f273e0cbcf1bc7828c98c2cf9db6bb7a0/expr.png\" style=\"display:inline;vertical-align:middle;\" /></a> <a class=\"ProveItLink\" href=\"proof.ipynb\" style=\"text-decoration: none\">&nbsp;&#x22A2;&nbsp;&nbsp;</a><a class=\"ProveItLink\" href=\"../../../addition/__pv_it/theorems/03e3f9dc0835235cc0fcc9542096eac9d469363a0/expr.ipynb\"><img src=\"../../../addition/__pv_it/theorems/03e3f9dc0835235cc0fcc9542096eac9d469363a0/expr.png\" style=\"display:inline;vertical-align:middle;\" /></a></span></td></tr>\n",
       "<tr><td>&nbsp;</td><td colspan=4 style=\"text-align:left\"><span style=\"font-size:20px;\"><a class=\"ProveItLink\" href=\"../../../../__pv_it/common/c06c606ec12678c58933ac85412ecadc2ae28be60/expr.ipynb\"><img src=\"../../../../__pv_it/common/c06c606ec12678c58933ac85412ecadc2ae28be60/expr.png\" style=\"display:inline;vertical-align:middle;\" /></a> : <a class=\"ProveItLink\" href=\"../../../../__pv_it/common/c06c606ec12678c58933ac85412ecadc2ae28be60/expr.ipynb\"><img src=\"../../../../__pv_it/common/c06c606ec12678c58933ac85412ecadc2ae28be60/expr.png\" style=\"display:inline;vertical-align:middle;\" /></a>, <a class=\"ProveItLink\" href=\"../../../../__pv_it/common/a0d9d672aa5e272d907247690c152cc2c6daafb70/expr.ipynb\"><img src=\"../../../../__pv_it/common/a0d9d672aa5e272d907247690c152cc2c6daafb70/expr.png\" style=\"display:inline;vertical-align:middle;\" /></a> : <a class=\"ProveItLink\" href=\"../../../../__pv_it/common/a0d9d672aa5e272d907247690c152cc2c6daafb70/expr.ipynb\"><img src=\"../../../../__pv_it/common/a0d9d672aa5e272d907247690c152cc2c6daafb70/expr.png\" style=\"display:inline;vertical-align:middle;\" /></a>, <a class=\"ProveItLink\" href=\"../../../../__pv_it/common/ff7dba4ef0bbe791ab573bf2d9c220a304399ac80/expr.ipynb\"><img src=\"../../../../__pv_it/common/ff7dba4ef0bbe791ab573bf2d9c220a304399ac80/expr.png\" style=\"display:inline;vertical-align:middle;\" /></a> : <a class=\"ProveItLink\" href=\"../../../../__pv_it/common/ff7dba4ef0bbe791ab573bf2d9c220a304399ac80/expr.ipynb\"><img src=\"../../../../__pv_it/common/ff7dba4ef0bbe791ab573bf2d9c220a304399ac80/expr.png\" style=\"display:inline;vertical-align:middle;\" /></a></span></td></tr><tr><td><a name=\"proveit.numbers.demonstrations.0f0fa3aa38c3c1e20725744a5d7c4d93ffaca0240_step1\">1</a></td><td>theorem</td><td></td><td><span style=\"font-size:20px;\"> <a class=\"ProveItLink\" href=\"../../../addition/_theory_nbs_/proofs/left_add_less/thm_proof.ipynb\" style=\"text-decoration: none\">&nbsp;&#x22A2;&nbsp;&nbsp;</a><a class=\"ProveItLink\" href=\"../../../addition/__pv_it/theorems/71fe5b3ca3f9db0122de157ec6215b777b1d71fb0/expr.ipynb\"><img src=\"../../../addition/__pv_it/theorems/71fe5b3ca3f9db0122de157ec6215b777b1d71fb0/expr.png\" style=\"display:inline;vertical-align:middle;\" /></a></span></td></tr>\n",
       "<tr><td>&nbsp;</td><td colspan=4 style-\"text-align:left\"><a class=\"ProveItLink\" href=\"../../../addition/_theory_nbs_/proofs/left_add_less/thm_proof.ipynb\">proveit.numbers.addition.left_add_less</a></td></tr><tr><td><a name=\"proveit.numbers.demonstrations.0f0fa3aa38c3c1e20725744a5d7c4d93ffaca0240_step2\">2</a></td><td>assumption</td><td></td><td><span style=\"font-size:20px;\"><a class=\"ProveItLink\" href=\"../bd2f502b953df5e1834a5d80011e6b2e7aa85c890/expr.ipynb\"><img src=\"../bd2f502b953df5e1834a5d80011e6b2e7aa85c890/expr.png\" style=\"display:inline;vertical-align:middle;\" /></a> <a class=\"ProveItLink\" href=\"../1a97668bd16e22755d4529678aee5fb2e7ac72cc0/proof.ipynb\" style=\"text-decoration: none\">&nbsp;&#x22A2;&nbsp;&nbsp;</a><a class=\"ProveItLink\" href=\"../bd2f502b953df5e1834a5d80011e6b2e7aa85c890/expr.ipynb\"><img src=\"../bd2f502b953df5e1834a5d80011e6b2e7aa85c890/expr.png\" style=\"display:inline;vertical-align:middle;\" /></a></span></td></tr>\n",
       "<tr><td><a name=\"proveit.numbers.demonstrations.0f0fa3aa38c3c1e20725744a5d7c4d93ffaca0240_step3\">3</a></td><td>assumption</td><td></td><td><span style=\"font-size:20px;\"><a class=\"ProveItLink\" href=\"../02bd6ad73acd9f4d3192ee4c61bfdcabbff20f180/expr.ipynb\"><img src=\"../02bd6ad73acd9f4d3192ee4c61bfdcabbff20f180/expr.png\" style=\"display:inline;vertical-align:middle;\" /></a> <a class=\"ProveItLink\" href=\"../0e0ae9db3780fa624999d39377a452162902a2b00/proof.ipynb\" style=\"text-decoration: none\">&nbsp;&#x22A2;&nbsp;&nbsp;</a><a class=\"ProveItLink\" href=\"../02bd6ad73acd9f4d3192ee4c61bfdcabbff20f180/expr.ipynb\"><img src=\"../02bd6ad73acd9f4d3192ee4c61bfdcabbff20f180/expr.png\" style=\"display:inline;vertical-align:middle;\" /></a></span></td></tr>\n",
       "<tr><td><a name=\"proveit.numbers.demonstrations.0f0fa3aa38c3c1e20725744a5d7c4d93ffaca0240_step4\">4</a></td><td>assumption</td><td></td><td><span style=\"font-size:20px;\"><a class=\"ProveItLink\" href=\"../0886f5b6aacf5197ba709a53d4f3243edcc3de560/expr.ipynb\"><img src=\"../0886f5b6aacf5197ba709a53d4f3243edcc3de560/expr.png\" style=\"display:inline;vertical-align:middle;\" /></a> <a class=\"ProveItLink\" href=\"../753b5e6e1320ea7b9c7b070b98a27dc308b1770b0/proof.ipynb\" style=\"text-decoration: none\">&nbsp;&#x22A2;&nbsp;&nbsp;</a><a class=\"ProveItLink\" href=\"../0886f5b6aacf5197ba709a53d4f3243edcc3de560/expr.ipynb\"><img src=\"../0886f5b6aacf5197ba709a53d4f3243edcc3de560/expr.png\" style=\"display:inline;vertical-align:middle;\" /></a></span></td></tr>\n",
       "<tr><td><a name=\"proveit.numbers.demonstrations.0f0fa3aa38c3c1e20725744a5d7c4d93ffaca0240_step5\">5</a></td><td>assumption</td><td></td><td><span style=\"font-size:20px;\"><a class=\"ProveItLink\" href=\"../../../ordering/__pv_it/theorems/851392b6f273e0cbcf1bc7828c98c2cf9db6bb7a0/expr.ipynb\"><img src=\"../../../ordering/__pv_it/theorems/851392b6f273e0cbcf1bc7828c98c2cf9db6bb7a0/expr.png\" style=\"display:inline;vertical-align:middle;\" /></a> <a class=\"ProveItLink\" href=\"../fb6965cde0f1d0339e9bb298218e467eedad45500/proof.ipynb\" style=\"text-decoration: none\">&nbsp;&#x22A2;&nbsp;&nbsp;</a><a class=\"ProveItLink\" href=\"../../../ordering/__pv_it/theorems/851392b6f273e0cbcf1bc7828c98c2cf9db6bb7a0/expr.ipynb\"><img src=\"../../../ordering/__pv_it/theorems/851392b6f273e0cbcf1bc7828c98c2cf9db6bb7a0/expr.png\" style=\"display:inline;vertical-align:middle;\" /></a></span></td></tr>\n",
       "</table>"
      ],
      "text/plain": [
       "<proveit._core_.proof._ShowProof at 0x7f1d08d68dd8>"
      ]
     },
     "execution_count": 1,
     "metadata": {},
     "output_type": "execute_result"
    }
   ],
   "source": [
    "import proveit\n",
    "# Automation is not needed when only showing a stored proof:\n",
    "proveit.defaults.automation = False # This will speed things up.\n",
    "proveit.defaults.inline_pngs = False # Makes files smaller.\n",
    "%show_proof"
   ]
  },
  {
   "cell_type": "code",
   "execution_count": null,
   "metadata": {},
   "outputs": [],
   "source": []
  }
 ],
 "metadata": {
  "kernelspec": {
   "display_name": "Python 3",
   "language": "python",
   "name": "python3"
  }
 },
 "nbformat": 4,
 "nbformat_minor": 0
}