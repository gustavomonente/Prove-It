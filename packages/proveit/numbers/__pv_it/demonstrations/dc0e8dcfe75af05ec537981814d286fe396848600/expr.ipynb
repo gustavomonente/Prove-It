{
 "cells": [
  {
   "cell_type": "markdown",
   "metadata": {},
   "source": [
    "Expression of type <a class=\"ProveItLink\" href=\"../../../../../../doc/html/api/proveit.ExprTuple.html\">ExprTuple</a>\n",
    "=======================\n",
    "# from the theory of <a class=\"ProveItLink\" href=\"../../../_theory_nbs_/theory.ipynb\">proveit.numbers</a>"
   ]
  },
  {
   "cell_type": "code",
   "execution_count": 1,
   "metadata": {},
   "outputs": [],
   "source": [
    "import proveit\n",
    "# Automation is not needed when building an expression:\n",
    "proveit.defaults.automation = False # This will speed things up.\n",
    "proveit.defaults.inline_pngs = False # Makes files smaller.\n",
    "%load_expr # Load the stored expression as 'stored_expr'\n",
    "# import Expression classes needed to build the expression\n",
    "from proveit import ExprTuple, a, b, c, d, x, y\n",
    "from proveit.logic import Equals, InSet, NotEquals\n",
    "from proveit.numbers import Greater, GreaterEq, Less, LessEq, Real, zero"
   ]
  },
  {
   "cell_type": "code",
   "execution_count": 2,
   "metadata": {},
   "outputs": [
    {
     "data": {
      "text/html": [
       "<strong id=\"expr\">expr:</strong> <a class=\"ProveItLink\" href=\"expr.ipynb\"><img src=\"expr.png\" style=\"display:inline;vertical-align:middle;\" /></a><br>"
      ],
      "text/plain": [
       "expr: (a in Real, b in Real, c in Real, d in Real, x in Real, y in Real, a > 0, b >= 0, c < 0, d <= 0, c != 0, x = y)"
      ]
     },
     "execution_count": 2,
     "metadata": {},
     "output_type": "execute_result"
    }
   ],
   "source": [
    "# build up the expression from sub-expressions\n",
    "expr = ExprTuple(InSet(a, Real), InSet(b, Real), InSet(c, Real), InSet(d, Real), InSet(x, Real), InSet(y, Real), Greater(a, zero), GreaterEq(b, zero), Less(c, zero), LessEq(d, zero), NotEquals(c, zero), Equals(x, y))"
   ]
  },
  {
   "cell_type": "code",
   "execution_count": 3,
   "metadata": {},
   "outputs": [
    {
     "name": "stdout",
     "output_type": "stream",
     "text": [
      "Passed sanity check: expr matches stored_expr\n"
     ]
    }
   ],
   "source": [
    "# check that the built expression is the same as the stored expression\n",
    "assert expr == stored_expr\n",
    "assert expr._style_id == stored_expr._style_id\n",
    "print(\"Passed sanity check: expr matches stored_expr\")"
   ]
  },
  {
   "cell_type": "code",
   "execution_count": 4,
   "metadata": {},
   "outputs": [
    {
     "name": "stdout",
     "output_type": "stream",
     "text": [
      "\\left(a \\in \\mathbb{R}, b \\in \\mathbb{R}, c \\in \\mathbb{R}, d \\in \\mathbb{R}, x \\in \\mathbb{R}, y \\in \\mathbb{R}, a > 0, b \\geq 0, c < 0, d \\leq 0, c \\neq 0, x = y\\right)\n"
     ]
    }
   ],
   "source": [
    "# Show the LaTeX representation of the expression for convenience if you need it.\n",
    "print(expr.latex())"
   ]
  },
  {
   "cell_type": "code",
   "execution_count": 5,
   "metadata": {},
   "outputs": [
    {
     "data": {
      "text/html": [
       "<table><tr><th>&nbsp;</th><th>core type</th><th>sub-expressions</th><th>expression</th></tr>\n",
       "<tr><td>0</td><td>ExprTuple</td><td>1, 2, 3, 4, 5, 6, 7, 8, 9, 10, 11, 12</td><td><a class=\"ProveItLink\" href=\"expr.ipynb\"><img src=\"expr.png\" style=\"display:inline;vertical-align:middle;\" /></a></td></tr>\n",
       "<tr><td>1</td><td>Operation</td><td>operator:&nbsp;18<br>operands:&nbsp;13<br></td><td><a class=\"ProveItLink\" href=\"../bd2f502b953df5e1834a5d80011e6b2e7aa85c890/expr.ipynb\"><img src=\"../bd2f502b953df5e1834a5d80011e6b2e7aa85c890/expr.png\" style=\"display:inline;vertical-align:middle;\" /></a></td></tr>\n",
       "<tr><td>2</td><td>Operation</td><td>operator:&nbsp;18<br>operands:&nbsp;14<br></td><td><a class=\"ProveItLink\" href=\"../01066498eeade39164943c7fc785297aa9d0bb160/expr.ipynb\"><img src=\"../01066498eeade39164943c7fc785297aa9d0bb160/expr.png\" style=\"display:inline;vertical-align:middle;\" /></a></td></tr>\n",
       "<tr><td>3</td><td>Operation</td><td>operator:&nbsp;18<br>operands:&nbsp;15<br></td><td><a class=\"ProveItLink\" href=\"../97c2cd789f92aeb5958c71e9e8648177a398980b0/expr.ipynb\"><img src=\"../97c2cd789f92aeb5958c71e9e8648177a398980b0/expr.png\" style=\"display:inline;vertical-align:middle;\" /></a></td></tr>\n",
       "<tr><td>4</td><td>Operation</td><td>operator:&nbsp;18<br>operands:&nbsp;16<br></td><td><a class=\"ProveItLink\" href=\"../087ba5bcf4a7ff8c3c07e473fc61d308725f608c0/expr.ipynb\"><img src=\"../087ba5bcf4a7ff8c3c07e473fc61d308725f608c0/expr.png\" style=\"display:inline;vertical-align:middle;\" /></a></td></tr>\n",
       "<tr><td>5</td><td>Operation</td><td>operator:&nbsp;18<br>operands:&nbsp;17<br></td><td><a class=\"ProveItLink\" href=\"../02bd6ad73acd9f4d3192ee4c61bfdcabbff20f180/expr.ipynb\"><img src=\"../02bd6ad73acd9f4d3192ee4c61bfdcabbff20f180/expr.png\" style=\"display:inline;vertical-align:middle;\" /></a></td></tr>\n",
       "<tr><td>6</td><td>Operation</td><td>operator:&nbsp;18<br>operands:&nbsp;19<br></td><td><a class=\"ProveItLink\" href=\"../0886f5b6aacf5197ba709a53d4f3243edcc3de560/expr.ipynb\"><img src=\"../0886f5b6aacf5197ba709a53d4f3243edcc3de560/expr.png\" style=\"display:inline;vertical-align:middle;\" /></a></td></tr>\n",
       "<tr><td>7</td><td>Operation</td><td>operator:&nbsp;20<br>operands:&nbsp;21<br></td><td><a class=\"ProveItLink\" href=\"../a1220a607abb739d8de56a18bab7cc7a5fb534510/expr.ipynb\"><img src=\"../a1220a607abb739d8de56a18bab7cc7a5fb534510/expr.png\" style=\"display:inline;vertical-align:middle;\" /></a></td></tr>\n",
       "<tr><td>8</td><td>Operation</td><td>operator:&nbsp;22<br>operands:&nbsp;23<br></td><td><a class=\"ProveItLink\" href=\"../0b7509b5852853bfab5c112c197f935cc483216a0/expr.ipynb\"><img src=\"../0b7509b5852853bfab5c112c197f935cc483216a0/expr.png\" style=\"display:inline;vertical-align:middle;\" /></a></td></tr>\n",
       "<tr><td>9</td><td>Operation</td><td>operator:&nbsp;24<br>operands:&nbsp;28<br></td><td><a class=\"ProveItLink\" href=\"../459a87fe1da4442c9b677046170601c77bfbe6fb0/expr.ipynb\"><img src=\"../459a87fe1da4442c9b677046170601c77bfbe6fb0/expr.png\" style=\"display:inline;vertical-align:middle;\" /></a></td></tr>\n",
       "<tr><td>10</td><td>Operation</td><td>operator:&nbsp;25<br>operands:&nbsp;26<br></td><td><a class=\"ProveItLink\" href=\"../c2de060df214d3356d2061700c511c8e20b2bba70/expr.ipynb\"><img src=\"../c2de060df214d3356d2061700c511c8e20b2bba70/expr.png\" style=\"display:inline;vertical-align:middle;\" /></a></td></tr>\n",
       "<tr><td>11</td><td>Operation</td><td>operator:&nbsp;27<br>operands:&nbsp;28<br></td><td><a class=\"ProveItLink\" href=\"../6153190b4c58255ca4f69a4d07d43e6c8dcc19340/expr.ipynb\"><img src=\"../6153190b4c58255ca4f69a4d07d43e6c8dcc19340/expr.png\" style=\"display:inline;vertical-align:middle;\" /></a></td></tr>\n",
       "<tr><td>12</td><td>Operation</td><td>operator:&nbsp;29<br>operands:&nbsp;30<br></td><td><a class=\"ProveItLink\" href=\"../../../../logic/equality/__pv_it/theorems/72728018cab57b4b94b0a2b3d711aa95324f266f0/expr.ipynb\"><img src=\"../../../../logic/equality/__pv_it/theorems/72728018cab57b4b94b0a2b3d711aa95324f266f0/expr.png\" style=\"display:inline;vertical-align:middle;\" /></a></td></tr>\n",
       "<tr><td>13</td><td>ExprTuple</td><td>32, 31</td><td><a class=\"ProveItLink\" href=\"../e05221385b373fb79191a5c3545ded5b3661ad320/expr.ipynb\"><img src=\"../e05221385b373fb79191a5c3545ded5b3661ad320/expr.png\" style=\"display:inline;vertical-align:middle;\" /></a></td></tr>\n",
       "<tr><td>14</td><td>ExprTuple</td><td>33, 31</td><td><a class=\"ProveItLink\" href=\"../c94d1101563abe2f3870a8e37dc10d8c654ef9d30/expr.ipynb\"><img src=\"../c94d1101563abe2f3870a8e37dc10d8c654ef9d30/expr.png\" style=\"display:inline;vertical-align:middle;\" /></a></td></tr>\n",
       "<tr><td>15</td><td>ExprTuple</td><td>35, 31</td><td><a class=\"ProveItLink\" href=\"../321b042feab49825c6804fe26d1833ec999362eb0/expr.ipynb\"><img src=\"../321b042feab49825c6804fe26d1833ec999362eb0/expr.png\" style=\"display:inline;vertical-align:middle;\" /></a></td></tr>\n",
       "<tr><td>16</td><td>ExprTuple</td><td>34, 31</td><td><a class=\"ProveItLink\" href=\"../0e055ce4fb350fe8aaddf145a49cfd771649d04c0/expr.ipynb\"><img src=\"../0e055ce4fb350fe8aaddf145a49cfd771649d04c0/expr.png\" style=\"display:inline;vertical-align:middle;\" /></a></td></tr>\n",
       "<tr><td>17</td><td>ExprTuple</td><td>37, 31</td><td><a class=\"ProveItLink\" href=\"../e01334b6bbdba98f1cfc9205f70e5f594e02e2f50/expr.ipynb\"><img src=\"../e01334b6bbdba98f1cfc9205f70e5f594e02e2f50/expr.png\" style=\"display:inline;vertical-align:middle;\" /></a></td></tr>\n",
       "<tr><td>18</td><td>Literal</td><td></td><td><a class=\"ProveItLink\" href=\"../../../../logic/sets/membership/__pv_it/common/477487d8796864d23d5810f83761435f25167f690/expr.ipynb\"><img src=\"../../../../logic/sets/membership/__pv_it/common/477487d8796864d23d5810f83761435f25167f690/expr.png\" style=\"display:inline;vertical-align:middle;\" /></a></td></tr>\n",
       "<tr><td>19</td><td>ExprTuple</td><td>38, 31</td><td><a class=\"ProveItLink\" href=\"../4d0f16dc3089506f97f52466d4a0b93ccb9dabfd0/expr.ipynb\"><img src=\"../4d0f16dc3089506f97f52466d4a0b93ccb9dabfd0/expr.png\" style=\"display:inline;vertical-align:middle;\" /></a></td></tr>\n",
       "<tr><td>20</td><td>Literal</td><td></td><td><a class=\"ProveItLink\" href=\"../../../ordering/__pv_it/common/869e6d5549437128ed25d67d9fc2182576bdc1d70/expr.ipynb\"><img src=\"../../../ordering/__pv_it/common/869e6d5549437128ed25d67d9fc2182576bdc1d70/expr.png\" style=\"display:inline;vertical-align:middle;\" /></a></td></tr>\n",
       "<tr><td>21</td><td>ExprTuple</td><td>32, 36</td><td><a class=\"ProveItLink\" href=\"../60ba91908b283be41d3d42f3d78214c73295c9430/expr.ipynb\"><img src=\"../60ba91908b283be41d3d42f3d78214c73295c9430/expr.png\" style=\"display:inline;vertical-align:middle;\" /></a></td></tr>\n",
       "<tr><td>22</td><td>Literal</td><td></td><td><a class=\"ProveItLink\" href=\"../../../ordering/__pv_it/common/56e138890b2b12c3a40604810660982a612f33050/expr.ipynb\"><img src=\"../../../ordering/__pv_it/common/56e138890b2b12c3a40604810660982a612f33050/expr.png\" style=\"display:inline;vertical-align:middle;\" /></a></td></tr>\n",
       "<tr><td>23</td><td>ExprTuple</td><td>33, 36</td><td><a class=\"ProveItLink\" href=\"../ec7ba6bf787116a578d82a43fefe17f71420316e0/expr.ipynb\"><img src=\"../ec7ba6bf787116a578d82a43fefe17f71420316e0/expr.png\" style=\"display:inline;vertical-align:middle;\" /></a></td></tr>\n",
       "<tr><td>24</td><td>Literal</td><td></td><td><a class=\"ProveItLink\" href=\"../../../ordering/__pv_it/common/fa503ed52033522c609eef1cf3e1b45796489da50/expr.ipynb\"><img src=\"../../../ordering/__pv_it/common/fa503ed52033522c609eef1cf3e1b45796489da50/expr.png\" style=\"display:inline;vertical-align:middle;\" /></a></td></tr>\n",
       "<tr><td>25</td><td>Literal</td><td></td><td><a class=\"ProveItLink\" href=\"../../../ordering/__pv_it/common/68379698d72b4689bbda4b5c5cca29ee599d70280/expr.ipynb\"><img src=\"../../../ordering/__pv_it/common/68379698d72b4689bbda4b5c5cca29ee599d70280/expr.png\" style=\"display:inline;vertical-align:middle;\" /></a></td></tr>\n",
       "<tr><td>26</td><td>ExprTuple</td><td>34, 36</td><td><a class=\"ProveItLink\" href=\"../4b9ce8d8754960e51401e62b05c7fcca6c258ba40/expr.ipynb\"><img src=\"../4b9ce8d8754960e51401e62b05c7fcca6c258ba40/expr.png\" style=\"display:inline;vertical-align:middle;\" /></a></td></tr>\n",
       "<tr><td>27</td><td>Literal</td><td></td><td><a class=\"ProveItLink\" href=\"../../../../logic/equality/__pv_it/common/d96270bc9bb1bad54f773b1c04bfb343a739642c0/expr.ipynb\"><img src=\"../../../../logic/equality/__pv_it/common/d96270bc9bb1bad54f773b1c04bfb343a739642c0/expr.png\" style=\"display:inline;vertical-align:middle;\" /></a></td></tr>\n",
       "<tr><td>28</td><td>ExprTuple</td><td>35, 36</td><td><a class=\"ProveItLink\" href=\"../ab3a00ce0933cb5d3b6bcdb75d13d039e0c0b6580/expr.ipynb\"><img src=\"../ab3a00ce0933cb5d3b6bcdb75d13d039e0c0b6580/expr.png\" style=\"display:inline;vertical-align:middle;\" /></a></td></tr>\n",
       "<tr><td>29</td><td>Literal</td><td></td><td><a class=\"ProveItLink\" href=\"../../../../logic/equality/__pv_it/common/fb96dc12b2aa8801dda64d0132b396c63d1502bb0/expr.ipynb\"><img src=\"../../../../logic/equality/__pv_it/common/fb96dc12b2aa8801dda64d0132b396c63d1502bb0/expr.png\" style=\"display:inline;vertical-align:middle;\" /></a></td></tr>\n",
       "<tr><td>30</td><td>ExprTuple</td><td>37, 38</td><td><a class=\"ProveItLink\" href=\"../../../../__pv_it/common/1b220b4862187bee452814b2d95fe2420e6d39a60/expr.ipynb\"><img src=\"../../../../__pv_it/common/1b220b4862187bee452814b2d95fe2420e6d39a60/expr.png\" style=\"display:inline;vertical-align:middle;\" /></a></td></tr>\n",
       "<tr><td>31</td><td>Literal</td><td></td><td><a class=\"ProveItLink\" href=\"../../../number_sets/real_numbers/__pv_it/common/93cac87a1a47e613f7a83b23ef7891599a1a4cca0/expr.ipynb\"><img src=\"../../../number_sets/real_numbers/__pv_it/common/93cac87a1a47e613f7a83b23ef7891599a1a4cca0/expr.png\" style=\"display:inline;vertical-align:middle;\" /></a></td></tr>\n",
       "<tr><td>32</td><td>Variable</td><td></td><td><a class=\"ProveItLink\" href=\"../../../../__pv_it/common/c06c606ec12678c58933ac85412ecadc2ae28be60/expr.ipynb\"><img src=\"../../../../__pv_it/common/c06c606ec12678c58933ac85412ecadc2ae28be60/expr.png\" style=\"display:inline;vertical-align:middle;\" /></a></td></tr>\n",
       "<tr><td>33</td><td>Variable</td><td></td><td><a class=\"ProveItLink\" href=\"../../../../__pv_it/common/195236b98c6c564a75b5dbada74b173bc52d5c3e0/expr.ipynb\"><img src=\"../../../../__pv_it/common/195236b98c6c564a75b5dbada74b173bc52d5c3e0/expr.png\" style=\"display:inline;vertical-align:middle;\" /></a></td></tr>\n",
       "<tr><td>34</td><td>Variable</td><td></td><td><a class=\"ProveItLink\" href=\"../../../../__pv_it/common/4f5c524ffda87296de1c79b96880123fe2efedd50/expr.ipynb\"><img src=\"../../../../__pv_it/common/4f5c524ffda87296de1c79b96880123fe2efedd50/expr.png\" style=\"display:inline;vertical-align:middle;\" /></a></td></tr>\n",
       "<tr><td>35</td><td>Variable</td><td></td><td><a class=\"ProveItLink\" href=\"../../../../__pv_it/common/ceef4280a2f1cc604b455b54e735507244cc62cd0/expr.ipynb\"><img src=\"../../../../__pv_it/common/ceef4280a2f1cc604b455b54e735507244cc62cd0/expr.png\" style=\"display:inline;vertical-align:middle;\" /></a></td></tr>\n",
       "<tr><td>36</td><td>Literal</td><td></td><td><a class=\"ProveItLink\" href=\"../../../numerals/__pv_it/common/7d0a36793ffe8d307a5c120ee5598162e8cd2db10/expr.ipynb\"><img src=\"../../../numerals/__pv_it/common/7d0a36793ffe8d307a5c120ee5598162e8cd2db10/expr.png\" style=\"display:inline;vertical-align:middle;\" /></a></td></tr>\n",
       "<tr><td>37</td><td>Variable</td><td></td><td><a class=\"ProveItLink\" href=\"../../../../__pv_it/common/a0d9d672aa5e272d907247690c152cc2c6daafb70/expr.ipynb\"><img src=\"../../../../__pv_it/common/a0d9d672aa5e272d907247690c152cc2c6daafb70/expr.png\" style=\"display:inline;vertical-align:middle;\" /></a></td></tr>\n",
       "<tr><td>38</td><td>Variable</td><td></td><td><a class=\"ProveItLink\" href=\"../../../../__pv_it/common/ff7dba4ef0bbe791ab573bf2d9c220a304399ac80/expr.ipynb\"><img src=\"../../../../__pv_it/common/ff7dba4ef0bbe791ab573bf2d9c220a304399ac80/expr.png\" style=\"display:inline;vertical-align:middle;\" /></a></td></tr>\n",
       "</table>\n"
      ],
      "text/plain": [
       "0. (a in Real, b in Real, c in Real, d in Real, x in Real, y in Real, a > 0, b >= 0, c < 0, d <= 0, c != 0, x = y)\n",
       "   core type: ExprTuple\n",
       "   sub-expressions: 1, 2, 3, 4, 5, 6, 7, 8, 9, 10, 11, 12\n",
       "1. a in Real\n",
       "   core type: Operation\n",
       "   operator: 18\n",
       "   operands: 13\n",
       "2. b in Real\n",
       "   core type: Operation\n",
       "   operator: 18\n",
       "   operands: 14\n",
       "3. c in Real\n",
       "   core type: Operation\n",
       "   operator: 18\n",
       "   operands: 15\n",
       "4. d in Real\n",
       "   core type: Operation\n",
       "   operator: 18\n",
       "   operands: 16\n",
       "5. x in Real\n",
       "   core type: Operation\n",
       "   operator: 18\n",
       "   operands: 17\n",
       "6. y in Real\n",
       "   core type: Operation\n",
       "   operator: 18\n",
       "   operands: 19\n",
       "7. a > 0\n",
       "   core type: Operation\n",
       "   operator: 20\n",
       "   operands: 21\n",
       "8. b >= 0\n",
       "   core type: Operation\n",
       "   operator: 22\n",
       "   operands: 23\n",
       "9. c < 0\n",
       "   core type: Operation\n",
       "   operator: 24\n",
       "   operands: 28\n",
       "10. d <= 0\n",
       "    core type: Operation\n",
       "    operator: 25\n",
       "    operands: 26\n",
       "11. c != 0\n",
       "    core type: Operation\n",
       "    operator: 27\n",
       "    operands: 28\n",
       "12. x = y\n",
       "    core type: Operation\n",
       "    operator: 29\n",
       "    operands: 30\n",
       "13. (a, Real)\n",
       "    core type: ExprTuple\n",
       "    sub-expressions: 32, 31\n",
       "14. (b, Real)\n",
       "    core type: ExprTuple\n",
       "    sub-expressions: 33, 31\n",
       "15. (c, Real)\n",
       "    core type: ExprTuple\n",
       "    sub-expressions: 35, 31\n",
       "16. (d, Real)\n",
       "    core type: ExprTuple\n",
       "    sub-expressions: 34, 31\n",
       "17. (x, Real)\n",
       "    core type: ExprTuple\n",
       "    sub-expressions: 37, 31\n",
       "18. in\n",
       "    core type: Literal\n",
       "    sub-expressions: \n",
       "19. (y, Real)\n",
       "    core type: ExprTuple\n",
       "    sub-expressions: 38, 31\n",
       "20. >\n",
       "    core type: Literal\n",
       "    sub-expressions: \n",
       "21. (a, 0)\n",
       "    core type: ExprTuple\n",
       "    sub-expressions: 32, 36\n",
       "22. >=\n",
       "    core type: Literal\n",
       "    sub-expressions: \n",
       "23. (b, 0)\n",
       "    core type: ExprTuple\n",
       "    sub-expressions: 33, 36\n",
       "24. <\n",
       "    core type: Literal\n",
       "    sub-expressions: \n",
       "25. <=\n",
       "    core type: Literal\n",
       "    sub-expressions: \n",
       "26. (d, 0)\n",
       "    core type: ExprTuple\n",
       "    sub-expressions: 34, 36\n",
       "27. !=\n",
       "    core type: Literal\n",
       "    sub-expressions: \n",
       "28. (c, 0)\n",
       "    core type: ExprTuple\n",
       "    sub-expressions: 35, 36\n",
       "29. =\n",
       "    core type: Literal\n",
       "    sub-expressions: \n",
       "30. (x, y)\n",
       "    core type: ExprTuple\n",
       "    sub-expressions: 37, 38\n",
       "31. Real\n",
       "    core type: Literal\n",
       "    sub-expressions: \n",
       "32. a\n",
       "    core type: Variable\n",
       "    sub-expressions: \n",
       "33. b\n",
       "    core type: Variable\n",
       "    sub-expressions: \n",
       "34. d\n",
       "    core type: Variable\n",
       "    sub-expressions: \n",
       "35. c\n",
       "    core type: Variable\n",
       "    sub-expressions: \n",
       "36. 0\n",
       "    core type: Literal\n",
       "    sub-expressions: \n",
       "37. x\n",
       "    core type: Variable\n",
       "    sub-expressions: \n",
       "38. y\n",
       "    core type: Variable\n",
       "    sub-expressions: "
      ]
     },
     "execution_count": 5,
     "metadata": {},
     "output_type": "execute_result"
    }
   ],
   "source": [
    "# display the expression information\n",
    "expr.expr_info()"
   ]
  },
  {
   "cell_type": "code",
   "execution_count": null,
   "metadata": {},
   "outputs": [],
   "source": []
  }
 ],
 "metadata": {
  "kernelspec": {
   "display_name": "Python 3",
   "language": "python",
   "name": "python3"
  }
 },
 "nbformat": 4,
 "nbformat_minor": 0
}