{
 "cells": [
  {
   "cell_type": "markdown",
   "metadata": {},
   "source": [
    "Proof of <a class=\"ProveItLink\" href=\"../../../../../_theory_.ipynb\">proveit</a>.<a class=\"ProveItLink\" href=\"../../../../_theory_.ipynb\">numbers</a>.<a class=\"ProveItLink\" href=\"../../../_theory_.ipynb\">numeral</a>.<a class=\"ProveItLink\" href=\"../../_theory_.ipynb\">deci</a>.<a class=\"ProveItLink\" href=\"../../_theorems_.ipynb#nat2\">nat2</a> theorem\n",
    "========"
   ]
  },
  {
   "cell_type": "code",
   "execution_count": null,
   "metadata": {},
   "outputs": [],
   "source": [
    "import proveit\n",
    "from proveit._common_ import n\n",
    "from proveit.numbers import zero, one, two, Add\n",
    "from proveit.numbers.numeral.deci._axioms_ import twoDef\n",
    "from proveit.numbers.sets.natural._axioms_ import zero_in_nats, successor_in_nats\n",
    "theory = proveit.Theory() # the theorem's theory"
   ]
  },
  {
   "cell_type": "code",
   "execution_count": null,
   "metadata": {},
   "outputs": [],
   "source": [
    "%proving nat2"
   ]
  },
  {
   "cell_type": "code",
   "execution_count": null,
   "metadata": {},
   "outputs": [],
   "source": [
    "twoDef"
   ]
  },
  {
   "cell_type": "code",
   "execution_count": null,
   "metadata": {},
   "outputs": [],
   "source": [
    "successor_in_nats"
   ]
  },
  {
   "cell_type": "code",
   "execution_count": null,
   "metadata": {},
   "outputs": [],
   "source": [
    "one_plus_one__in__nats = successor_in_nats.instantiate({n:one})"
   ]
  },
  {
   "cell_type": "code",
   "execution_count": null,
   "metadata": {},
   "outputs": [],
   "source": [
    "twoDef.subLeftSideInto(one_plus_one__in__nats)"
   ]
  },
  {
   "cell_type": "code",
   "execution_count": null,
   "metadata": {},
   "outputs": [],
   "source": [
    "%qed"
   ]
  },
  {
   "cell_type": "code",
   "execution_count": null,
   "metadata": {},
   "outputs": [],
   "source": []
  }
 ],
 "metadata": {
  "kernelspec": {
   "display_name": "Python 3",
   "language": "python",
   "name": "python3"
  }
 },
 "nbformat": 4,
 "nbformat_minor": 0
}
