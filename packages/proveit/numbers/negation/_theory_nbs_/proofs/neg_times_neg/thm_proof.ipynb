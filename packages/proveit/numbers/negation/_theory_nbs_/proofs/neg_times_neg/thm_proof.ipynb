{
 "cells": [
  {
   "cell_type": "markdown",
   "metadata": {},
   "source": [
    "Proof of <a class=\"ProveItLink\" href=\"../../../../../_theory_nbs_/theory.ipynb\">proveit</a>.<a class=\"ProveItLink\" href=\"../../../../_theory_nbs_/theory.ipynb\">numbers</a>.<a class=\"ProveItLink\" href=\"../../theory.ipynb\">negation</a>.<a class=\"ProveItLink\" href=\"../../theorems.ipynb#neg_times_neg\">neg_times_neg</a> theorem\n",
    "========"
   ]
  },
  {
   "cell_type": "code",
   "execution_count": 1,
   "metadata": {},
   "outputs": [],
   "source": [
    "import proveit\n",
    "theory = proveit.Theory() # the theorem's theory"
   ]
  },
  {
   "cell_type": "code",
   "execution_count": 2,
   "metadata": {},
   "outputs": [
    {
     "data": {
      "text/html": [
       "Under these <a href=\"presumptions.txt\">presumptions</a>, we begin our proof of<br><strong id=\"neg_times_neg\">neg_times_neg:</strong> <a class=\"ProveItLink\" href=\"../../../__pv_it/theorems/0fd5d19464639a7a9794a0d649f93e3a9194e9030/expr.ipynb\"><img src=\"data:image/png;base64,iVBORw0KGgoAAAANSUhEUgAAARoAAAAVBAMAAABrvDzoAAAAMFBMVEX///8QEBCIiIhmZma6urrM\n",
       "zMxUVFQiIiJERETc3Nzu7u6qqqp2dnaYmJgyMjIAAAAcRTyBAAAAAXRSTlMAQObYZgAAAu9JREFU\n",
       "SMfFVkFoE0EU/aYbN9nsNiJ68RQNhBwEi+BFUqkWzE3TixfBhGIPvZQgWpQqhBwkUcQFhZaCuAQs\n",
       "0mINiNTj0lAPFaSgF0FlDw2ooORoC4ozszOZ2d3ZJT354LMz+97//J35f2cABkByi5uIlCnOngRJ\n",
       "r4AHC4CJHTz5Ep3Nc8E8mBbGWk1CTsuDBUHF7/D4R3Q23wXzYFUYD5sSclUeLAgqXsCLV4tMxhjh\n",
       "5oWe4eMPMlIU8GASUPGwhR7tyGxUk5sX2gE+viUjRQEPJgEVG5vLy/PRGzUvmA/bvDirUnJbFkwG\n",
       "Kv7daNyOziYrGEMr9/g4WtxO/0VM2IHWSUgeccmOLBh1lomnAJrR2TwQjC2sbVxTUTt+7b9JCI1r\n",
       "n4VYzyWJQP9FMEKDMWeZeBw0R5LCm7ezLP05wVjRWfqugipgDU8sUg+89pLtM5CoueSaP+4cdyaO\n",
       "PrEKMd//aKUzCs/uwRWbzg9x09yvLGkkAkAZr9NfPNo3hlqUkF0NDkI645JlfzY4CHUmjj6xvqX6\n",
       "evD+ogWfbEhJsuFIZ1g2MMuyYVB2oVwKz4Y5u45ecdK5hAbrp3LolZID1RrHkstoZobvFJAIAEXe\n",
       "ucJfYsiBo5QsCnVTYcGos1TcvIo6wppR0cfpaWuCnBXGCzOyilPWCeQTVsWJCtwFoYp9LcGcpeJX\n",
       "6E8Rh5+YWSxCXsOln1oRsulAoFsvth+SU7LA61ro8KGK8oeSBX82He4sFbubuEOoAkzGbzYa9eRr\n",
       "YS2L4qq7WDrWGsWL0eW1Ivz9tMnsDiW7/myK3FkqNvCixXtxTF2Hw0C293SGdm70yVANORlQMRBS\n",
       "qw5wMgTET3VHhwULbig92MAvHm3wE2/Pp+YMvBwb+NSUiJc+rm/CRBvO5x1I4O7Q3n+b6js0BQu9\n",
       "UST4R9+BeviNwh8kVNzWTNwa+UZ9wNtWU37bOpctheUfDBImTpn77Qt7uYkaUTdRTBqD3kQlYgOU\n",
       "zzb8T/wD5UoFNfDJPkcAAAAASUVORK5CYII=\n",
       "\" style=\"display:inline;vertical-align:middle;\" /></a><br>(see <a class=\"ProveItLink\" href=\"../../../__pv_it/theorems/8d0acf9edc3f8d31e11eca23c71a305d9c5471ab0/dependencies.ipynb\">dependencies</a>)<br>"
      ],
      "text/plain": [
       "neg_times_neg: forall_{x, y in Complex} (((-x) * (-y)) = (x * y))"
      ]
     },
     "execution_count": 2,
     "metadata": {},
     "output_type": "execute_result"
    }
   ],
   "source": [
    "%proving neg_times_neg"
   ]
  },
  {
   "cell_type": "code",
   "execution_count": null,
   "metadata": {},
   "outputs": [],
   "source": []
  }
 ],
 "metadata": {
  "kernelspec": {
   "display_name": "Python 3",
   "language": "python",
   "name": "python3"
  }
 },
 "nbformat": 4,
 "nbformat_minor": 0
}