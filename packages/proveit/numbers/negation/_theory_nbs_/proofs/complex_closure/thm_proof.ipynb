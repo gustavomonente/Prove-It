{
 "cells": [
  {
   "cell_type": "markdown",
   "metadata": {},
   "source": [
    "Proof of <a class=\"ProveItLink\" href=\"../../../../../_theory_nbs_/theory.ipynb\">proveit</a>.<a class=\"ProveItLink\" href=\"../../../../_theory_nbs_/theory.ipynb\">numbers</a>.<a class=\"ProveItLink\" href=\"../../theory.ipynb\">negation</a>.<a class=\"ProveItLink\" href=\"../../theorems.ipynb#complex_closure\">complex_closure</a> theorem\n",
    "========"
   ]
  },
  {
   "cell_type": "code",
   "execution_count": 1,
   "metadata": {},
   "outputs": [],
   "source": [
    "import proveit\n",
    "theory = proveit.Theory() # the theorem's theory"
   ]
  },
  {
   "cell_type": "code",
   "execution_count": 2,
   "metadata": {},
   "outputs": [
    {
     "data": {
      "text/html": [
       "Under these <a href=\"presumptions.txt\">presumptions</a>, we begin our proof of<br><strong id=\"complex_closure\">complex_closure:</strong> <a class=\"ProveItLink\" href=\"../../../__pv_it/theorems/8de894cfc0f9f1221ce8faf48ad6bbb7a2d04b4b0/expr.ipynb\"><img src=\"data:image/png;base64,iVBORw0KGgoAAAANSUhEUgAAAJcAAAAUBAMAAABylbI8AAAAMFBMVEX///8QEBCIiIhmZma6urrM\n",
       "zMxUVFQiIiJERETc3Nzu7u6qqqp2dnaYmJgyMjIAAAAcRTyBAAAAAXRSTlMAQObYZgAAAi5JREFU\n",
       "OMtjYMAHOC9AMDLYiUMtSPwBiHEXh4IVUIwM2Cagq2J6/l68GSx+GsR9hcOwl1CMDLgeoAmwxm/g\n",
       "sr8MFp8B8k0DdrN4DSAYFRxC419IAqr6DBbnW8DAwLMBu2HsEyAYFSyE0jfKy0GO5A2QApLJYHHe\n",
       "U6tWTcfhy+lQjAr4HMBUhBaEywz21yKI+I+OjhochilDMTxybYyAruABe5wLFs7LWKEBARJPZWDo\n",
       "xGFYLxTDgOMEvg9AvzxAidQ5LArQEAaKO6PFD3dPehKUWQ3FsHiUZWAGeom7AMThgIlOhhkGEmdn\n",
       "YIIlS649xhe4IhawvoHyRSCY6x0YBDD/YmAHamT9AJILBAmBXLGC9QA0iQDFeS6wwyy5sXMVA+8c\n",
       "BoY9qIbBAGMDw/oAmGEz4PGxIAFhGOeDMCBrsdpTBhZQSLpuBQph9+b6Awz7gRQL2JuMiMQIMowL\n",
       "Kt6ZAmSXsv5i4APJ3bqJMwLWb2DI454AjQBmBZhwkxOQ8INGzGagicwGrAUMi0FSu5Ay8mEohgIO\n",
       "Bd4yHqDaA3BnQxLai1NcO7qg4vxAOxg3MCUwhHd0dCjMDkXododiWPwkqU5TAQZSACR9tSyAigc/\n",
       "/G7KABXnBQqun8BxawEb2J5F4ADAk52WQ2mf9vIH2MQZGCfE+zLwBIBTeQA8KxOX0THEWZI22TIw\n",
       "dIOYa961BcCEOxkwswdGEYRDnAkYZgQLR44J2A3DJY632L6JQy1QHAAGE5pPhGzl1QAAAABJRU5E\n",
       "rkJggg==\n",
       "\" style=\"display:inline;vertical-align:middle;\" /></a><br>(see <a class=\"ProveItLink\" href=\"../../../__pv_it/theorems/8781ce9cc02f04a86a880eae636f7ff65b7adaa50/dependencies.ipynb\">dependencies</a>)<br>"
      ],
      "text/plain": [
       "complex_closure: forall_{a in Complex} ((-a) in Complex)"
      ]
     },
     "execution_count": 2,
     "metadata": {},
     "output_type": "execute_result"
    }
   ],
   "source": [
    "%proving complex_closure"
   ]
  },
  {
   "cell_type": "code",
   "execution_count": null,
   "metadata": {},
   "outputs": [],
   "source": []
  }
 ],
 "metadata": {
  "kernelspec": {
   "display_name": "Python 3",
   "language": "python",
   "name": "python3"
  }
 },
 "nbformat": 4,
 "nbformat_minor": 0
}