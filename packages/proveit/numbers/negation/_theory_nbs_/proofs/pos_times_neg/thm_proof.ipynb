{
 "cells": [
  {
   "cell_type": "markdown",
   "metadata": {},
   "source": [
    "Proof of <a class=\"ProveItLink\" href=\"../../../../../_theory_nbs_/theory.ipynb\">proveit</a>.<a class=\"ProveItLink\" href=\"../../../../_theory_nbs_/theory.ipynb\">numbers</a>.<a class=\"ProveItLink\" href=\"../../theory.ipynb\">negation</a>.<a class=\"ProveItLink\" href=\"../../theorems.ipynb#pos_times_neg\">pos_times_neg</a> theorem\n",
    "========"
   ]
  },
  {
   "cell_type": "code",
   "execution_count": 1,
   "metadata": {},
   "outputs": [],
   "source": [
    "import proveit\n",
    "theory = proveit.Theory() # the theorem's theory"
   ]
  },
  {
   "cell_type": "code",
   "execution_count": 2,
   "metadata": {},
   "outputs": [
    {
     "data": {
      "text/html": [
       "Under these <a href=\"presumptions.txt\">presumptions</a>, we begin our proof of<br><strong id=\"pos_times_neg\">pos_times_neg:</strong> <a class=\"ProveItLink\" href=\"../../../__pv_it/theorems/8b2d3bf72c7814991444e961f630fd2c89f8399d0/expr.ipynb\"><img src=\"data:image/png;base64,iVBORw0KGgoAAAANSUhEUgAAAR0AAAAVBAMAAACJYCeRAAAAMFBMVEX///8QEBCIiIhmZma6urrM\n",
       "zMxUVFQiIiJERETc3Nzu7u6qqqp2dnaYmJgyMjIAAAAcRTyBAAAAAXRSTlMAQObYZgAAAy9JREFU\n",
       "SMfFlk1oE0EYht8mm7/tJi2iF0+xgdKD0KLUU61V0d5sevDn1lIU8VKCVEGqUDyUBBUjCC1WcY1Q\n",
       "pUgNiEilh1Bv9RLQgxWVPdiDoiWIghYUZ3ZmOzO72bXtxReebHZ232+/nflmZ4B1KFFlqLqjnjYW\n",
       "GfXMviamOQmLNrwPzuchR5E+5mo4w6lj9jfZihYFL2nD5+B8PnEUpdx9McupY/Y3sSwtwSTt0rHA\n",
       "dJIdDFWv3A1GmuE1B5iYFgQpk0QpB+YTKzJUXfC8ZTPDaw4wMd0TJBdnZiaCh2uCo5ZpznPfR47H\n",
       "HGRiw9gj+JnPXwzOJ8Mptd7cuTYeIWkcSruQ2A68AMNjhmKSw+iZNG6YMEi7wymgEJzPNYZeSZ6N\n",
       "WU5jXJrGlf0I1YAPYMBYsdXhmCGblDCG1ox2MkiW4KBd1h41Xj09xP+OMgzTWNVoNZh2XYiaS5S7\n",
       "ESdT4hkYikaVYiq7wkyFLeTJw3KCGEKuT50+v7uqnzAjX/j5VoZuP5Qc/9DfBjLUs3Y3LOvYgiYy\n",
       "AgNgKKJG1l1ZZlLCmA1pfAMiNYFRjblCvJmbQfI2MK/mA/uhROedfBxpqxjI+ucjxExymD4z8kPN\n",
       "J2EdozO/s5VE1FoRMzU67oeekivqeMF+qNz1jkin7yCHXo5TP4N1x0sN040Q+URoOQEKJ0nhm8Mx\n",
       "krvRZPYjRe97u+Sp50azndxXr57jgxiHVM/uyaDUsxpmnJqVesYTklQEX+nVW71ow3367/mciMLn\n",
       "cV/5urQcGtJ8Dw9qv8mhi6NI+QBQkxpmD/pIjuGKgA/nL/tyF4ZwPJ/Pp6eOiih8HKZbSntFp2jS\n",
       "p00fylD7MkdRr3xCTWqY6ZZ9ZK6lsgIkaedFahF6eQTbELVfuURnwrrXizBdDXOMDa4X3YQHErbu\n",
       "GpaBSRPntBoMmmSiK2uvcOtaT4fxuGdz62nU0r+r6ynvttcLi+gv43AbedErtOXRyvjaNCigzjc8\n",
       "Ll78Ei777zcKPibWe9V4Wt1vyCrrRToDQqR+NrQfO5DJ+mX9j/2Y1tLJs3RQdpzRypFN71eTRcYm\n",
       "9qtLEnJEaO8q+L/6C6weDFvtgz5oAAAAAElFTkSuQmCC\n",
       "\" style=\"display:inline;vertical-align:middle;\" /></a><br>(see <a class=\"ProveItLink\" href=\"../../../__pv_it/theorems/d37a93aeacf96b77f058614df3f016873ade4c590/dependencies.ipynb\">dependencies</a>)<br>"
      ],
      "text/plain": [
       "pos_times_neg: forall_{x, y in Complex} ((x * (-y)) = (-(x * y)))"
      ]
     },
     "execution_count": 2,
     "metadata": {},
     "output_type": "execute_result"
    }
   ],
   "source": [
    "%proving pos_times_neg"
   ]
  },
  {
   "cell_type": "code",
   "execution_count": null,
   "metadata": {},
   "outputs": [],
   "source": []
  }
 ],
 "metadata": {
  "kernelspec": {
   "display_name": "Python 3",
   "language": "python",
   "name": "python3"
  }
 },
 "nbformat": 4,
 "nbformat_minor": 0
}