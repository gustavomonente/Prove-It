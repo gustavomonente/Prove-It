{
 "cells": [
  {
   "cell_type": "markdown",
   "metadata": {},
   "source": [
    "Proof of <a class=\"ProveItLink\" href=\"../../../../../_theory_nbs_/theory.ipynb\">proveit</a>.<a class=\"ProveItLink\" href=\"../../../../_theory_nbs_/theory.ipynb\">numbers</a>.<a class=\"ProveItLink\" href=\"../../theory.ipynb\">negation</a>.<a class=\"ProveItLink\" href=\"../../theorems.ipynb#distribute_neg_through_subtract\">distribute_neg_through_subtract</a> theorem\n",
    "========"
   ]
  },
  {
   "cell_type": "code",
   "execution_count": 1,
   "metadata": {},
   "outputs": [],
   "source": [
    "import proveit\n",
    "theory = proveit.Theory() # the theorem's theory"
   ]
  },
  {
   "cell_type": "code",
   "execution_count": 2,
   "metadata": {},
   "outputs": [
    {
     "data": {
      "text/html": [
       "Under these <a href=\"presumptions.txt\">presumptions</a>, we begin our proof of<br><strong id=\"distribute_neg_through_subtract\">distribute_neg_through_subtract:</strong> <a class=\"ProveItLink\" href=\"../../../__pv_it/theorems/1a8e9415d8c2e8a8ab8fbfc3be273b2216e226820/expr.ipynb\"><img src=\"data:image/png;base64,iVBORw0KGgoAAAANSUhEUgAAARoAAAAVBAMAAABrvDzoAAAAMFBMVEX///8QEBCIiIhmZma6urrM\n",
       "zMxUVFQiIiJERETc3Nzu7u6qqqp2dnaYmJgyMjIAAAAcRTyBAAAAAXRSTlMAQObYZgAAA0xJREFU\n",
       "SMfFVktoE1EUvU0ySTrJJC4EP6CMrXblItSNYNWKSFfSuPC3agiKCCpBUPCziAqSoMKAoAUVpha0\n",
       "FGkGRaRSaDELQREGXNgWlECtYpVYioK2Kt73yWTeTDoxuvDAmcy7ue/Neffe9wGoj1ucoqUmhjkd\n",
       "aDbrfCKiMZZI47WXp5xlFC1ut3MZgKDG6MCA1/gDy/BxmPE5Mcx4ecc0RtFSwy+BkkqMDnzwDMwU\n",
       "coixlwQy6+X8klO0uBE38PGEU4CSqJkdlb8sIKMqZUzHH8NLzSlO0eJGN44EfZwCQpqXmsA8yfMS\n",
       "SuXZ4OB1LzHNGUbRUgNPabo6GQXUHr+iJkqHe8v4LZc766XGl2AULXC1uEYXHd+1bMKhE4wCWu1T\n",
       "6WhfKaqJpVsxN0WgPAiQr7gGym41YZNRtARWwGfHmvqlFzRQsIQJIVqmoMKu2Ny2abFZUU1hRv4O\n",
       "8AYot9sXQdEK4+VDaZ50g9FWBtjqM2GjI/DzEFchgmGPODN5xqZ5FfizoppRHeYAHgFlCHzVmX8k\n",
       "HUY2mPI+XfrETE2djDKbbJK1tupwnPw7RI3T+OYvQWEMJJy4NOtQs7Ta2z8PIZWF7v3qcjmFr1tA\n",
       "/gHQA5RRM1TthyGD8eFBUG4CjIhqqiCt5SB/dW033caiaqy+WSgkxdhMQWDBUtNc2oMv/W1kftJc\n",
       "mx4gqd7xEP/wyBTOJuL4ZtwkAQtglggrdZNyZArDN+pYUz8BAwZdwJg/gIE8IZFV7zvtS8SIx+SE\n",
       "dxXLCxAsiQdSvBNrolrFdtiquGDAsYgmqPlCirBSxfAAp+JPSGRCYVUp9ROPx9UvudcsaZ2HV6kx\n",
       "4ZNBM4x2/xijgKJtJqpyMirG5ihcwGcHJ64EaDJ8KVoR/tTeXC6n3tht9bdiL1jutOxPi5uc3P6C\n",
       "VE+SUUCXzSu97tpaUU3/ehL5aU4Fd7GCFp7En7jeZASJh/82dmzwZKC4y9nAycBUZhhZqWs9O6FX\n",
       "D+njEE3SHTNpHX5/empSNHBqyva9nJ+aPPjp+5thlyEdwZRfIoZ75YuVeIc1RlvytUXvQrVvFPm6\n",
       "Nzp+o7CDrWMf1s1f3LYWUV7/tmXpzbuug/94E53gbPQmqmiMdhP8b/wGr4QH4KdXBLgAAAAASUVO\n",
       "RK5CYII=\n",
       "\" style=\"display:inline;vertical-align:middle;\" /></a><br>(see <a class=\"ProveItLink\" href=\"../../../__pv_it/theorems/6e05a3f122e72c1304345118a27f497e8ba0dad20/dependencies.ipynb\">dependencies</a>)<br>"
      ],
      "text/plain": [
       "distribute_neg_through_subtract: forall_{a, b in Complex} ((-(a - b)) = (-a + b))"
      ]
     },
     "execution_count": 2,
     "metadata": {},
     "output_type": "execute_result"
    }
   ],
   "source": [
    "%proving distribute_neg_through_subtract"
   ]
  },
  {
   "cell_type": "code",
   "execution_count": null,
   "metadata": {},
   "outputs": [],
   "source": []
  }
 ],
 "metadata": {
  "kernelspec": {
   "display_name": "Python 3",
   "language": "python",
   "name": "python3"
  }
 },
 "nbformat": 4,
 "nbformat_minor": 0
}