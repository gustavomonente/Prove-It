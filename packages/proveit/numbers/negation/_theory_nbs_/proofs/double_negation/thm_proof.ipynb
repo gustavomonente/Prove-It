{
 "cells": [
  {
   "cell_type": "markdown",
   "metadata": {},
   "source": [
    "Proof of <a class=\"ProveItLink\" href=\"../../../../../_theory_nbs_/theory.ipynb\">proveit</a>.<a class=\"ProveItLink\" href=\"../../../../_theory_nbs_/theory.ipynb\">numbers</a>.<a class=\"ProveItLink\" href=\"../../theory.ipynb\">negation</a>.<a class=\"ProveItLink\" href=\"../../theorems.ipynb#double_negation\">double_negation</a> theorem\n",
    "========"
   ]
  },
  {
   "cell_type": "code",
   "execution_count": 1,
   "metadata": {},
   "outputs": [],
   "source": [
    "import proveit\n",
    "theory = proveit.Theory() # the theorem's theory"
   ]
  },
  {
   "cell_type": "code",
   "execution_count": 2,
   "metadata": {},
   "outputs": [
    {
     "data": {
      "text/html": [
       "Under these <a href=\"presumptions.txt\">presumptions</a>, we begin our proof of<br><strong id=\"double_negation\">double_negation:</strong> <a class=\"ProveItLink\" href=\"../../../__pv_it/theorems/ddc431eff39f00e815d6e658c9819adc11df6ca60/expr.ipynb\"><img src=\"data:image/png;base64,iVBORw0KGgoAAAANSUhEUgAAALwAAAAUBAMAAADFKEobAAAAMFBMVEX///8QEBCIiIhmZma6urrM\n",
       "zMxUVFQiIiJERETc3Nzu7u6qqqp2dnaYmJgyMjIAAAAcRTyBAAAAAXRSTlMAQObYZgAAAfJJREFU\n",
       "OMutlc9LG0EcxR/RdM1mVz34BwSFnASF0lsKhVI8mos/booopRcJvbaHnsoubWkOBYUqLhFEgkhA\n",
       "RCIeJN7iJQcPtqDkYA8trXhUT53JfLc733S2GOqDDzvz3u6w35nZWeBfSjUU3NGVLipMkn5TNs5i\n",
       "ht8kuMP0gjBJ+Mfy+iMm/05wh2mbMEn4y7LiN+bYHVVwh8vJKEwSfm8gLhVzbBUV3OGy+xUmCd+t\n",
       "l8tLMcUtEdxp0wVhkvCvPe91TDpEcCdUKftpWMzKERRMUbYA+DHDfyC4E1Z+6L60xL47hwLOZUuj\n",
       "PHsKu8l26/vnc9R8RUTSek7g3HaLpdiDgq1plFlIhJ+KffCwYU8HyZ/UH1DY6rXyvGejp7XhZgi2\n",
       "plHmNKzQPa2W4a4AB3x4TazXl4kbXstSzUnRqD3K5rvltD3bFdZdJkc8LOvBGBHO/Wxb5s8DiWDR\n",
       "etIrna9f7ri06WBEPKYtLczZTgFI4hewLpP9anTX33tO641XPmJVXHOELj1T03QDTHmel/k8Ed31\n",
       "p27mkDYGS4/lnvhG6NIzV1SB5FUSD2TSVZIL38GhUFAYD4XQX3OaDhy5HKlcHrX7O9KompNaHXgn\n",
       "m1uXb/Nh7qP9k/Y7PJB1JcTcd/o78RF/qPjAf/4M3aLC+Lso4jcsyqZMfWs8egAAAABJRU5ErkJg\n",
       "gg==\n",
       "\" style=\"display:inline;vertical-align:middle;\" /></a><br>(see <a class=\"ProveItLink\" href=\"../../../__pv_it/theorems/73b9ad71f0805b8e3a9909ce570a015e24f779b20/dependencies.ipynb\">dependencies</a>)<br>"
      ],
      "text/plain": [
       "double_negation: forall_{x in Complex} ((-(-x)) = x)"
      ]
     },
     "execution_count": 2,
     "metadata": {},
     "output_type": "execute_result"
    }
   ],
   "source": [
    "%proving double_negation"
   ]
  },
  {
   "cell_type": "code",
   "execution_count": null,
   "metadata": {},
   "outputs": [],
   "source": []
  }
 ],
 "metadata": {
  "kernelspec": {
   "display_name": "Python 3",
   "language": "python",
   "name": "python3"
  }
 },
 "nbformat": 4,
 "nbformat_minor": 0
}