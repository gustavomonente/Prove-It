{
 "cells": [
  {
   "cell_type": "markdown",
   "metadata": {},
   "source": [
    "Proof of <a class=\"ProveItLink\" href=\"../../../../../_theory_nbs_/theory.ipynb\">proveit</a>.<a class=\"ProveItLink\" href=\"../../../../_theory_nbs_/theory.ipynb\">numbers</a>.<a class=\"ProveItLink\" href=\"../../theory.ipynb\">negation</a>.<a class=\"ProveItLink\" href=\"../../theorems.ipynb#neg_not_eq_zero\">neg_not_eq_zero</a> theorem\n",
    "========"
   ]
  },
  {
   "cell_type": "code",
   "execution_count": 1,
   "metadata": {},
   "outputs": [],
   "source": [
    "import proveit\n",
    "theory = proveit.Theory() # the theorem's theory"
   ]
  },
  {
   "cell_type": "code",
   "execution_count": 2,
   "metadata": {},
   "outputs": [
    {
     "data": {
      "text/html": [
       "Under these <a href=\"presumptions.txt\">presumptions</a>, we begin our proof of<br><strong id=\"neg_not_eq_zero\">neg_not_eq_zero:</strong> <a class=\"ProveItLink\" href=\"../../../__pv_it/theorems/cfab5f1ae661b6f2fb2919b00548fe33033d0c6e0/expr.ipynb\"><img src=\"data:image/png;base64,iVBORw0KGgoAAAANSUhEUgAAAMUAAAAWCAMAAABHTKhDAAAAPFBMVEX///8kJCQoKCgUFBQNDQ0Q\n",
       "EBCIiIhmZma6urrMzMxUVFQiIiJERETc3Nzu7u6qqqp2dnaYmJgyMjIAAAChkoCbAAAAAXRSTlMA\n",
       "QObYZgAAArJJREFUWMPNV4lyozAMzXaLb8vX//9rfYOMIbAtndVM40n6ZPR083r9nmiHzwMx+uAf\n",
       "Fg7Rvn937lkSoPB5KGJOQ3tEiTjLO9qa9ruHZ1l4jc9jun5Ojm0vi2aD1A2tm2e0epaEo/g8EUtm\n",
       "odja55aM8x3dQrAG5RmRGp9nwVhmoeCbL0rkmgjQ0M5CEi0fLm2Jz/PkY+eheIXMggXT0UElkfZZ\n",
       "FoTic28mtZQsJTHsHqS2oYBACwvS0SVUSl82iJ1mQzbVktEpyuFzd+kSDfChpv1a39Zn+fhMn42c\n",
       "Dvl6XlhkNKPHfaG0ZGWFFGvFnbUBynOSRiUxlIXB564UEjtarzbyNBSRBS0s7IpOH2TnIjCW0vgr\n",
       "cBX9y729wkJn22VOVNy4F4ZO8BuJFtIMl9VVPAz3cuwTnFEFbV1hghujMhrSzU4XwpdYqNw0QnLc\n",
       "Ys5YjLKorjhjMeZ7qD3KrOg4FBtXoEQk15Q0y3y5KVfrKYuuUMA1XRNWuhsZBTk3TDOeSVwXf5YS\n",
       "tB4RlW1wJd4VrXSdiyB5tAG2i4kDN9b9hkVXELnRfcY/V2+Q5EZ1Q/aq8HUtcn4+9qdTr6ENrdxp\n",
       "jACX2cW9tMGcsOgKpYua1xqLBbNozdPOO62KaCfFq+QtxR2O7XVSSGHhCB3qE1MukxQ2LrNv493a\n",
       "cH7MoiugdS+nd8AF0JKEzaceCEK4FqQoefzIyYYHlpA2zRvaQX28TiFPRb32BApkHQQDi1VBxKz9\n",
       "+5Fy18171K0NBDM19A46ulbHdGApcy3fzFSONzQ1U2hdts3ncV58Yxt8s2zvdkcmiCE0G6XMGjzv\n",
       "1XYXU1OF0mUrDTvbIfS8a77bzI39lz2+WVLqYlaJ8wn/bhG7/JY00HwTihur0wUW/qfeWMfOzm6h\n",
       "v8fCPfx68uNC/zuLvgAHNSKy7PYEKwAAAABJRU5ErkJggg==\n",
       "\" style=\"display:inline;vertical-align:middle;\" /></a><br>(see <a class=\"ProveItLink\" href=\"../../../__pv_it/theorems/e0e493deda5b2cac42205375f8627f4b62d79f800/dependencies.ipynb\">dependencies</a>)<br>"
      ],
      "text/plain": [
       "neg_not_eq_zero: forall_{a in Complex | a != 0} ((-a) != 0)"
      ]
     },
     "execution_count": 2,
     "metadata": {},
     "output_type": "execute_result"
    }
   ],
   "source": [
    "%proving neg_not_eq_zero"
   ]
  },
  {
   "cell_type": "code",
   "execution_count": null,
   "metadata": {},
   "outputs": [],
   "source": []
  }
 ],
 "metadata": {
  "kernelspec": {
   "display_name": "Python 3",
   "language": "python",
   "name": "python3"
  }
 },
 "nbformat": 4,
 "nbformat_minor": 0
}