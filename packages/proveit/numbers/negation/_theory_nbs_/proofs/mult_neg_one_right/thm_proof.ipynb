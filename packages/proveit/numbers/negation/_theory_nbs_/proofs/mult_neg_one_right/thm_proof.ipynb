{
 "cells": [
  {
   "cell_type": "markdown",
   "metadata": {},
   "source": [
    "Proof of <a class=\"ProveItLink\" href=\"../../../../../_theory_nbs_/theory.ipynb\">proveit</a>.<a class=\"ProveItLink\" href=\"../../../../_theory_nbs_/theory.ipynb\">numbers</a>.<a class=\"ProveItLink\" href=\"../../theory.ipynb\">negation</a>.<a class=\"ProveItLink\" href=\"../../theorems.ipynb#mult_neg_one_right\">mult_neg_one_right</a> theorem\n",
    "========"
   ]
  },
  {
   "cell_type": "code",
   "execution_count": 1,
   "metadata": {},
   "outputs": [],
   "source": [
    "import proveit\n",
    "theory = proveit.Theory() # the theorem's theory"
   ]
  },
  {
   "cell_type": "code",
   "execution_count": 2,
   "metadata": {},
   "outputs": [
    {
     "data": {
      "text/html": [
       "Under these <a href=\"presumptions.txt\">presumptions</a>, we begin our proof of<br><strong id=\"mult_neg_one_right\">mult_neg_one_right:</strong> <a class=\"ProveItLink\" href=\"../../../__pv_it/theorems/1115cbbc050a25902b1861d9b20c21a3b932e92c0/expr.ipynb\"><img src=\"data:image/png;base64,iVBORw0KGgoAAAANSUhEUgAAAOEAAAAUBAMAAACJwkfjAAAAMFBMVEX///8QEBCIiIhmZma6urrM\n",
       "zMxUVFQiIiJERETc3Nzu7u6qqqp2dnaYmJgyMjIAAAAcRTyBAAAAAXRSTlMAQObYZgAAAqVJREFU\n",
       "SMelVk1oE0EUfqbZ7mazGz148hRa6KEIFsRbC0GR4slc/LmpRZFepHgTRXqSDVbMQaig4jZCK0Fq\n",
       "QEQiPZQUPETQgIJWUBa0gqIlCIJWEOfNm3RnJrtJig++YWf22/lm3nvzZgE6WapBUO2O2q0ypIvt\n",
       "H2s0zkME2Hkfo3hfQDF7Wu33o9okdKNxHuI5dr7GKH4RUCwj7Se9i02Ni16ETjRaQkC4ic6bjhZ0\n",
       "RwiqvQof559tsLbG4GQ70ITVCBmf0SvRimaRoNoFeU2oOIcb2NGJRjZHcOvl8myMU2cF1Gya0hUz\n",
       "OdZ86kQTfs4RfnnepRjFQYHS0I3dm15LjOiKDo6saN/KNHtgcn+NeIgzAIUYxWsEe9k9bwatQauh\n",
       "K7r47gN2X6yjfdRpD+BN9jLxEAco2cL0mzk7IR4vEhzf2UhiOG0e3IqumEYHPtFzQKLV4aV/iHgI\n",
       "ExKt5dhLexv2cd/4Jvo7CTZYlMwPcWnbWCQW+V7WhKLRZM0JTVGm+eCB4CGchtliva2Wwb0NsKQq\n",
       "AmynKJonxVTqHmMVQ/shK6aCo3hO9g3lkxjsg4/ZkOpVNl0+2l2kmESvjodx/NxGM36C4HFu4TTL\n",
       "LP+cmcvg8LvVtsxJ+3sYoZfMkUymPU00YTjMHHjEZA34DnCPv62GzBXC4cp1qSw78ulIoGLfMmtG\n",
       "NUWJlvxjNfE+QB7nUpB+AxzzPC9760j41ThhfqA0Fq44KR3tvlN/x9ipRp+vaYoSzZ4YHsS7Anmc\n",
       "6/o8qgb080lK4hT0VOW4LeCsU92r3IIAt7tO4ICD+qnRPC+5PVXysEJvoZKLS+B1rQ5wlReI9Sub\n",
       "mVmAiIJkFdtvoYjbyoq7rZRayOK49RuZT13ofiMjzyoC/P9fBx4nt4e/jlXCP6AX2fQbmGx8AAAA\n",
       "AElFTkSuQmCC\n",
       "\" style=\"display:inline;vertical-align:middle;\" /></a><br>(see <a class=\"ProveItLink\" href=\"../../../__pv_it/theorems/f14119e7aec6d3010c226b8c03716a651200244c0/dependencies.ipynb\">dependencies</a>)<br>"
      ],
      "text/plain": [
       "mult_neg_one_right: forall_{x in Complex} ((x * (-1)) = (-x))"
      ]
     },
     "execution_count": 2,
     "metadata": {},
     "output_type": "execute_result"
    }
   ],
   "source": [
    "%proving mult_neg_one_right"
   ]
  },
  {
   "cell_type": "code",
   "execution_count": null,
   "metadata": {},
   "outputs": [],
   "source": []
  }
 ],
 "metadata": {
  "kernelspec": {
   "display_name": "Python 3",
   "language": "python",
   "name": "python3"
  }
 },
 "nbformat": 4,
 "nbformat_minor": 0
}