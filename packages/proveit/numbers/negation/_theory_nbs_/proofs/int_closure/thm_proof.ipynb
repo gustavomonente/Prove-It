{
 "cells": [
  {
   "cell_type": "markdown",
   "metadata": {},
   "source": [
    "Proof of <a class=\"ProveItLink\" href=\"../../../../../_theory_nbs_/theory.ipynb\">proveit</a>.<a class=\"ProveItLink\" href=\"../../../../_theory_nbs_/theory.ipynb\">numbers</a>.<a class=\"ProveItLink\" href=\"../../theory.ipynb\">negation</a>.<a class=\"ProveItLink\" href=\"../../theorems.ipynb#int_closure\">int_closure</a> theorem\n",
    "========"
   ]
  },
  {
   "cell_type": "code",
   "execution_count": 1,
   "metadata": {},
   "outputs": [],
   "source": [
    "import proveit\n",
    "theory = proveit.Theory() # the theorem's theory"
   ]
  },
  {
   "cell_type": "code",
   "execution_count": 2,
   "metadata": {},
   "outputs": [
    {
     "data": {
      "text/html": [
       "Under these <a href=\"presumptions.txt\">presumptions</a>, we begin our proof of<br><strong id=\"int_closure\">int_closure:</strong> <a class=\"ProveItLink\" href=\"../../../__pv_it/theorems/a933995fcbf82365ad66a549c9674c81fc56413b0/expr.ipynb\"><img src=\"data:image/png;base64,iVBORw0KGgoAAAANSUhEUgAAAJYAAAAUBAMAAACdV9kCAAAAMFBMVEX///8QEBCIiIhmZma6urrM\n",
       "zMxUVFQiIiJERETc3Nzu7u6qqqp2dnaYmJgyMjIAAAAcRTyBAAAAAXRSTlMAQObYZgAAAjZJREFU\n",
       "OMtjYMAH5kIxEuCegF0pSPwBiHEXuzxXAwSjgEw0Pkvhx3fiDy+AxE+D+K+wm8U3AYJRwDo0PlNz\n",
       "AMMDDrD4DCCXswG7WZehGAXwKKDymQ8w8Gw4AhbnWwCkNmA3qxKKUT0uAKF528vrwGYtYJjGagAW\n",
       "5z21atV07EZxFkAwGngCJlmbFsBFujgWQMR/dHTUYDeLyQCC4WDyYUWgpsOQYEMYxasAjjugeCoD\n",
       "Qyd2szguQDA8xiQZ3gOpe+jRuQIS10BxZwauB0gGsEkcboa6hX0DBMPAwgsMFkBqO5iDFF2pbOC4\n",
       "BoqzMzDB7ObaY3yBfQLPIqjzGR0geN07EHjKYL+AoQgoHA8OLjmQGMS5Bj5gGijOc4EdZsGNnasY\n",
       "uBliYSkdZhYMSDBwfYWZhZSM+EBuPAUW53wQBhRYrPYUaAFYzuAAA1Y/cv1h4P4ApN3BPAG4+Gke\n",
       "BzAXJN6ZAlRXyvoLaAE4VmYHYA97rt8MbA92wsLeCJ5yEqYBE5kARHwzMAkxG7AWMCwGyy3igadw\n",
       "AwiGgSaG6wlAN9vAHQ2xcUEXA1duA0ScH5gpGDcwJTCEd3R0KDAcOMUwC5oGCiAYBpYpRSYBvfMU\n",
       "4soML4ioY59Eh7yEAUScFxht6ydw3FrABjZg6wWGk3jzENR0lhOQPIQuzsA4Id6XgQcUUMzMCLcQ\n",
       "lbcxxFmSNtkyMHQDWdfSzjxPgAXFBAjGW+bgEGcChRehshBHhsMpjqeM5sVRRgPFAQXOmo6YKTO0\n",
       "AAAAAElFTkSuQmCC\n",
       "\" style=\"display:inline;vertical-align:middle;\" /></a><br>(see <a class=\"ProveItLink\" href=\"../../../__pv_it/theorems/54f13652aa7d9b44c573d20c64a8d0d9b9bae2e40/dependencies.ipynb\">dependencies</a>)<br>"
      ],
      "text/plain": [
       "int_closure: forall_{a in Integer} ((-a) in Integer)"
      ]
     },
     "execution_count": 2,
     "metadata": {},
     "output_type": "execute_result"
    }
   ],
   "source": [
    "%proving int_closure"
   ]
  },
  {
   "cell_type": "code",
   "execution_count": null,
   "metadata": {},
   "outputs": [],
   "source": []
  }
 ],
 "metadata": {
  "kernelspec": {
   "display_name": "Python 3",
   "language": "python",
   "name": "python3"
  }
 },
 "nbformat": 4,
 "nbformat_minor": 0
}