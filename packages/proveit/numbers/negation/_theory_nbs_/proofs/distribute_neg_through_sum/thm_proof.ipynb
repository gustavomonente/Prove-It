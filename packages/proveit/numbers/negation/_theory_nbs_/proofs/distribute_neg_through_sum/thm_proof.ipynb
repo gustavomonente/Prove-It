{
 "cells": [
  {
   "cell_type": "markdown",
   "metadata": {},
   "source": [
    "Proof of <a class=\"ProveItLink\" href=\"../../../../../_theory_nbs_/theory.ipynb\">proveit</a>.<a class=\"ProveItLink\" href=\"../../../../_theory_nbs_/theory.ipynb\">numbers</a>.<a class=\"ProveItLink\" href=\"../../theory.ipynb\">negation</a>.<a class=\"ProveItLink\" href=\"../../theorems.ipynb#distribute_neg_through_sum\">distribute_neg_through_sum</a> theorem\n",
    "========"
   ]
  },
  {
   "cell_type": "code",
   "execution_count": 1,
   "metadata": {},
   "outputs": [],
   "source": [
    "import proveit\n",
    "theory = proveit.Theory() # the theorem's theory"
   ]
  },
  {
   "cell_type": "code",
   "execution_count": 2,
   "metadata": {},
   "outputs": [
    {
     "data": {
      "text/html": [
       "Under these <a href=\"presumptions.txt\">presumptions</a>, we begin our proof of<br><strong id=\"distribute_neg_through_sum\">distribute_neg_through_sum:</strong> <a class=\"ProveItLink\" href=\"../../../__pv_it/theorems/42395dde0e1a7fe6ea662dc4f70c6ac0132ec1d50/expr.ipynb\"><img src=\"data:image/png;base64,iVBORw0KGgoAAAANSUhEUgAAAlYAAAAWBAMAAADwTM9pAAAAMFBMVEX///8QEBCIiIhmZma6urrM\n",
       "zMxUVFQiIiJERETc3Nzu7u6qqqp2dnaYmJgyMjIAAAAcRTyBAAAAAXRSTlMAQObYZgAABSVJREFU\n",
       "WMPlWF2IG1UUPpud2Ukmk60P9aGCEnehSqkaWKQgXUgtWMQHpyuIYNGw2If6UKJdilpZF5+yleJg\n",
       "hZZC6bjgWra2hpXQViyEbOrDFmtgV8pCW/Jg1QqGUFFsBfH+TebOnTt/G5/0g5PM3DnnO3e+uf8A\n",
       "kUh1TFgfTjLrIdOCPpC1qInArFLmi/G55TW7yGW9OQVtXHYjjMYoRvtIoc9Qc3Ea+sI+ZgJOBzEP\n",
       "WbGp5TUjBE7WJlzBZb+EaxXtI8WwRc3F7f60OsdMwO0gZr0dm1peM0LgZG3CcdwAZ8K1ivaRYoVZ\n",
       "D7mCv1/lgzqc5IGRp+YFZpUwYzSisiwG16xH4GRtwrCNrqrhWkX7SPE2sx40qz+t9PuoeYFZNXlv\n",
       "+ySuVgHxhMDJ2oTc8sLCMQjXKtpHOlyWqbk4Bv1pBT8wA5E1oHbDxZhaBb0dIWBZmwB/VirvRmgV\n",
       "7SOdPwvUXIzirzSy7+lGAq08/kvMQGQd5e7nNn+8lQUbhZhaBcRTApYVabUXYFbCUue1CvAJR7pF\n",
       "zcURZJ/Dtfx0Aq08/jeZgdEhKDisR7iOWs+9qbFBPdeOqVVAPCVgWZFWO+XTRYHXameSKaU3jlSp\n",
       "uTiEbBm+s58FeCmuVsyf4jwzEFkPcd3ANu4pFqh4LsqWY2rlj2eBZTcr0kqDFP/x1QNNeLgkaCX4\n",
       "hOHCNwdZxQaK1M6RJnALlWxEZkMF/b6wjbWOnx7qdEr+bu8+oP4MrzLzYCM1nTY1U4c0kkkdw2+p\n",
       "dsOyXO103uh0fgRZvKNG182KtDJaWu/RmaVxuGDYg7agFe8TDBz96WF4pe7VyvtWAHfwz674Y/ud\n",
       "eFq52IBDlZ5WcdqVP16qVab9Ym+l8sEJGy7lCwYsjR0Yq7pacT7BINFrdcjWw/ogqL8n04r6U+xy\n",
       "Itl4VZL0QfRepqOVso4+yOIpCAHLirSC2dfQe45PjOKhC6FW+8gQxyviA40nN/t3hm4hjlZeRjdW\n",
       "2Nj+VaoLWxJoRf1Xvh8p8GO7yMqNzVn7CUjZ9C3XM7bTeCqIOLbDl4g1t6M1YNG9Yc04u8enFfZJ\n",
       "2fu1IrwuLAxIIQGOzp11F3V4vjU8awY08Sp/pbt4nypq9QWK1v9mF9wD5r/6IGxCd9uZgcDKLySe\n",
       "r36IN+xEq8F6RJZFjsMTTwWhBCxrk3XPE4/ABlsnL1aD+pJPK+yjwq8Aex7wVpQU0rkWR2TPWJ72\n",
       "q3jWokggfXLL6A1JH9RwdzroXLgPqH9mrgz30N0tZiCw9ugQ5kfmxlss87AZkWWR4/DEE0EYAcuK\n",
       "tcqhMpiEHaC+Vam8j7Q6qfm0Ij5wF9k7YlXvOqrh6EzNjLfHSTC2kw1/XsE7jTK1OHscotVn69/j\n",
       "YEEogZO16Ty6H7arUKLtSplAf6ZHKzYpqH6tcOHKpevoikQ/lcfTfPTe2dFKt4MOdDwPBszBuplo\n",
       "70y0akRlWQjcOxNBhL0z27t1YaoGl/HlKsB1cY9DcMpoG0Sr43bmsPNDChdncEsk0Ucvu2+Ttqi5\n",
       "cBf/55Ota0+B9pwZdCYzC5JtBV5FJlhAi/FUEOFMhn2FEmxtQRrN8Mp0EYakWs2vNpaJVrur6ibY\n",
       "beGfKikcMvEyHEeDfvXnvTHO+o6+N5lIq2cg9W2AKPKzvsy2P/LCh0p01scEsbhP0fR6PIrGK/8e\n",
       "eJpfKeA+6C6a6JUGjxVl0f/yGXLOohb7DHmt3zPkNS7r41NJ6zvxW5U782ZX8/B1XyL8h5GTXP0f\n",
       "8A9BetUBCViu1AAAAABJRU5ErkJggg==\n",
       "\" style=\"display:inline;vertical-align:middle;\" /></a><br>(see <a class=\"ProveItLink\" href=\"../../../__pv_it/theorems/f25a9e7b1d7e7e55a4af53c7f2ff4daca7f492cd0/dependencies.ipynb\">dependencies</a>)<br>"
      ],
      "text/plain": [
       "distribute_neg_through_sum: forall_{n in NaturalPos} [forall_{x_{1}, ..x_{_a}.., x_{n} in Complex} ((-(x_{1} + ..x_{_a}.. + x_{n})) = ((-x_{1}) + ..(-x_{k}).. + (-x_{n})))]"
      ]
     },
     "execution_count": 2,
     "metadata": {},
     "output_type": "execute_result"
    }
   ],
   "source": [
    "%proving distribute_neg_through_sum"
   ]
  },
  {
   "cell_type": "code",
   "execution_count": null,
   "metadata": {},
   "outputs": [],
   "source": []
  }
 ],
 "metadata": {
  "kernelspec": {
   "display_name": "Python 3",
   "language": "python",
   "name": "python3"
  }
 },
 "nbformat": 4,
 "nbformat_minor": 0
}