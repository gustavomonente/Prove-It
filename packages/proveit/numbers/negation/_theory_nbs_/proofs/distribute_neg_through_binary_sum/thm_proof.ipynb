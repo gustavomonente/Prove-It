{
 "cells": [
  {
   "cell_type": "markdown",
   "metadata": {},
   "source": [
    "Proof of <a class=\"ProveItLink\" href=\"../../../../../_theory_nbs_/theory.ipynb\">proveit</a>.<a class=\"ProveItLink\" href=\"../../../../_theory_nbs_/theory.ipynb\">numbers</a>.<a class=\"ProveItLink\" href=\"../../theory.ipynb\">negation</a>.<a class=\"ProveItLink\" href=\"../../theorems.ipynb#distribute_neg_through_binary_sum\">distribute_neg_through_binary_sum</a> theorem\n",
    "========"
   ]
  },
  {
   "cell_type": "code",
   "execution_count": 1,
   "metadata": {},
   "outputs": [],
   "source": [
    "import proveit\n",
    "theory = proveit.Theory() # the theorem's theory"
   ]
  },
  {
   "cell_type": "code",
   "execution_count": 2,
   "metadata": {},
   "outputs": [
    {
     "data": {
      "text/html": [
       "Under these <a href=\"presumptions.txt\">presumptions</a>, we begin our proof of<br><strong id=\"distribute_neg_through_binary_sum\">distribute_neg_through_binary_sum:</strong> <a class=\"ProveItLink\" href=\"../../../__pv_it/theorems/63a8c582815f593a9eadec473605029d2c5920ee0/expr.ipynb\"><img src=\"data:image/png;base64,iVBORw0KGgoAAAANSUhEUgAAARoAAAAVBAMAAABrvDzoAAAAMFBMVEX///8QEBCIiIhmZma6urrM\n",
       "zMxUVFQiIiJERETc3Nzu7u6qqqp2dnaYmJgyMjIAAAAcRTyBAAAAAXRSTlMAQObYZgAAA0lJREFU\n",
       "SMfFlk1oE0EUgF+z2STdZBMPgj8gxFZ78hDqRbBqRKQnaTz4d2oIiggqUVDw51AVJEGFBUELKmwt\n",
       "aAlilopIpdBiDoKiLHiwLSgBbcEqaykK2qr4ZmeSndk0G1oPPvh2M2/fTN578+YHoLHcYYiaBWWI\n",
       "4ZJms8FfhDVKmTTeeVkqPRRRU2t2IQsQ0CguGfAaf2AFPo5QXhLFtJd1VKOImgXsEuhSmeKST56J\n",
       "+YA8pPSSRPZ4Gb9hiBpHBtk7ZuDjGUMQNeHpzTwSidtEdXwZXsZnGKKm1psuHAn6GIIENa/x/XNk\n",
       "npfZqC8KhZtexs1ZiqhZwJvn9nQlKYJ4jg8Re7iPlB+53HkvY1+CImrgemmtLnoz1bIZh05QBGnl\n",
       "Q+loX+2qt0wrzk0JbA4B5KtJs2q9CZkUUeNfBV/F3Ch/9KIGKpYwASKWLbZj17jO27XojPgHxWnl\n",
       "J8B7sNnBL4JSdQO4ejjDJt2gcGWArT4TNonehOcgFocwpj2cdQV0jtsH1oDkWjMjOswCPAGbIPic\n",
       "yD+TDsMbTWW/Ln+hqqYkRaHBpmhrmw4nydfXlnXCsqbwl1SG4ijIGLjsCh6WO72lOQjGgR8NtoLy\n",
       "C6AbbCJm0OmHKYOxoQKotwGGRW8cIa2VoHwXc4PbTZdR15tq3x4optzbjX++6k1zeS/+6G+bxKc8\n",
       "26b7yVTvfIwfPGYKownPiN7ETJIwP84SoVI3addMYfpGXL7+BkwYdAIlfxATd0omq9531peIEouJ\n",
       "ce8qVuYhUB4SvUliTThVzAtXxUUDjofF7ecbKcJKFcMjDEVKyCSgUFwt9xOLp87RV7tmSesivE2P\n",
       "Ct4EzBDqpVGKICUukrh6OiJ+PQaX8NnBwJUATYYvbVeElN6Xy+Xit/Y4W2Ul94LmXsuBTFJc4e2v\n",
       "SPWkKIJ0cmsqs/7GOvFr/waS+UmGirtYUQtN4CumNxkBYiHdxY6LPBlsuc9YxMlAvcxSaKlr3bug\n",
       "Vw/qYxBJ2Ttmqnr4NTo1C3xjKacmOKcmS35mcAvsNuSjOOVXiOKBdbmS75BG4Sa/bqx1bhT5ht6w\n",
       "GwUvdB37sG6WcNuq43nj21bV33zNdfAfb6LjjMXeRFWNwqvgf8tfNYgOnaB38tUAAAAASUVORK5C\n",
       "YII=\n",
       "\" style=\"display:inline;vertical-align:middle;\" /></a><br>(see <a class=\"ProveItLink\" href=\"../../../__pv_it/theorems/2cbd7a07d514905884835c3c9e4190351c2d1ae90/dependencies.ipynb\">dependencies</a>)<br>"
      ],
      "text/plain": [
       "distribute_neg_through_binary_sum: forall_{a, b in Complex} ((-(a + b)) = (-a - b))"
      ]
     },
     "execution_count": 2,
     "metadata": {},
     "output_type": "execute_result"
    }
   ],
   "source": [
    "%proving distribute_neg_through_binary_sum"
   ]
  },
  {
   "cell_type": "code",
   "execution_count": null,
   "metadata": {},
   "outputs": [],
   "source": []
  }
 ],
 "metadata": {
  "kernelspec": {
   "display_name": "Python 3",
   "language": "python",
   "name": "python3"
  }
 },
 "nbformat": 4,
 "nbformat_minor": 0
}