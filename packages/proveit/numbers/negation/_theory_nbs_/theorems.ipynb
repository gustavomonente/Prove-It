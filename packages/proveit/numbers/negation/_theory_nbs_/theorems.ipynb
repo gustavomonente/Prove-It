{
 "cells": [
  {
   "cell_type": "markdown",
   "metadata": {},
   "source": [
    "Theorems (or conjectures) for the theory of <a class=\"ProveItLink\" href=\"theory.ipynb\">proveit.numbers.negation</a>\n",
    "========"
   ]
  },
  {
   "cell_type": "code",
   "execution_count": 1,
   "metadata": {},
   "outputs": [],
   "source": [
    "import proveit\n",
    "# Prepare this notebook for defining the theorems of a theory:\n",
    "%theorems_notebook # Keep this at the top following 'import proveit'.\n",
    "from proveit import ExprRange, IndexedVar\n",
    "from proveit import a, b, k, n, x, y\n",
    "from proveit.core_expr_types import x_1_to_n\n",
    "from proveit.logic import Forall, Equals, NotEquals, InSet\n",
    "from proveit.numbers import Neg, NaturalPos, Integer, Real, Complex, zero, one\n",
    "from proveit.numbers import Add, subtract, Mult, Exp, Less, Greater"
   ]
  },
  {
   "cell_type": "code",
   "execution_count": 2,
   "metadata": {},
   "outputs": [
    {
     "name": "stdout",
     "output_type": "stream",
     "text": [
      "Defining theorems for theory 'proveit.numbers.negation'\n",
      "Subsequent end-of-cell assignments will define theorems\n",
      "'%end theorems' will finalize the definitions\n"
     ]
    }
   ],
   "source": [
    "%begin theorems"
   ]
  },
  {
   "cell_type": "code",
   "execution_count": 3,
   "metadata": {},
   "outputs": [
    {
     "data": {
      "text/html": [
       "<strong id=\"negated_zero\"><a class=\"ProveItLink\" href=\"proofs/negated_zero/thm_proof.ipynb\">negated_zero</a> (conjecture without proof):<br></strong> <a class=\"ProveItLink\" href=\"../__pv_it/theorems/1f348fcfa45584629e691d07bf8f22750f7a84650/theorem_expr.ipynb\"><img src=\"data:image/png;base64,iVBORw0KGgoAAAANSUhEUgAAAE8AAAAUBAMAAAA+U32BAAAAMFBMVEX///9UVFTMzMx2dna6uroQ\n",
       "EBCqqqqIiIgiIiJmZmYyMjJERETu7u6YmJjc3NwAAAC+aOQFAAAAAXRSTlMAQObYZgAAAShJREFU\n",
       "KM9jYOC7wIAM2B4w4ACnEUzmWiMGBjlMJeaXFYDkOoTAMoYTDxhOYajjSuDpY2DgnQAX4A1gYF7A\n",
       "wFyArvAqA4MVAwMHwk3cAgxsfxh4AtAVbmRgyD/A8AIhwC/AwPKNgWEJusKPDAz+CQyVCIHzExhY\n",
       "vjMwWKKp4/kJVFjAsBch8t6AgQmo8BaYY7UKBFYCWXyfGRj0CxjakBROYGACCmagmcgHNFHfgCEE\n",
       "aDZY8yoFqNX62K0OQfEM2zdMhSDP5CcgW829gYH3DwODB5IbF4KYuxkY7h9A9gwkwKGewQhw5MBo\n",
       "YzgKjNTJ6Ao5EniCYBZBwOFyISC5CF0hj3mhAkoUQoUbsKcypEQBTWsFONLjPjT+KSISLlaNiBhC\n",
       "zQq8OLICAI09TmI5XMYOAAAAAElFTkSuQmCC\n",
       "\" style=\"display:inline;vertical-align:middle;\" /></a><br>"
      ],
      "text/plain": [
       "negated_zero: (-0) = 0"
      ]
     },
     "execution_count": 3,
     "metadata": {},
     "output_type": "execute_result"
    }
   ],
   "source": [
    "negated_zero = Equals(Neg(zero), zero)"
   ]
  },
  {
   "cell_type": "code",
   "execution_count": 4,
   "metadata": {},
   "outputs": [
    {
     "data": {
      "text/html": [
       "<strong id=\"int_closure\"><a class=\"ProveItLink\" href=\"proofs/int_closure/thm_proof.ipynb\">int_closure</a> (conjecture without proof):<br></strong> <a class=\"ProveItLink\" href=\"../__pv_it/theorems/6fa6dbbae150cb4462f1231abf2a7ed3428a1acb0/theorem_expr.ipynb\"><img src=\"data:image/png;base64,iVBORw0KGgoAAAANSUhEUgAAAJYAAAAUBAMAAACdV9kCAAAAMFBMVEX///8QEBCIiIhmZma6urrM\n",
       "zMxUVFQiIiJERETc3Nzu7u6qqqp2dnaYmJgyMjIAAAAcRTyBAAAAAXRSTlMAQObYZgAAAjZJREFU\n",
       "OMtjYMAH5kIxEuCegF0pSPwBiHEXuzxXAwSjgEw0Pkvhx3fiDy+AxE+D+K+wm8U3AYJRwDo0PlNz\n",
       "AMMDDrD4DCCXswG7WZehGAXwKKDymQ8w8Gw4AhbnWwCkNmA3qxKKUT0uAKF528vrwGYtYJjGagAW\n",
       "5z21atV07EZxFkAwGngCJlmbFsBFujgWQMR/dHTUYDeLyQCC4WDyYUWgpsOQYEMYxasAjjugeCoD\n",
       "Qyd2szguQDA8xiQZ3gOpe+jRuQIS10BxZwauB0gGsEkcboa6hX0DBMPAwgsMFkBqO5iDFF2pbOC4\n",
       "BoqzMzDB7ObaY3yBfQLPIqjzGR0geN07EHjKYL+AoQgoHA8OLjmQGMS5Bj5gGijOc4EdZsGNnasY\n",
       "uBliYSkdZhYMSDBwfYWZhZSM+EBuPAUW53wQBhRYrPYUaAFYzuAAA1Y/cv1h4P4ApN3BPAG4+Gke\n",
       "BzAXJN6ZAlRXyvoLaAE4VmYHYA97rt8MbA92wsLeCJ5yEqYBE5kARHwzMAkxG7AWMCwGyy3igadw\n",
       "AwiGgSaG6wlAN9vAHQ2xcUEXA1duA0ScH5gpGDcwJTCEd3R0KDAcOMUwC5oGCiAYBpYpRSYBvfMU\n",
       "4soML4ioY59Eh7yEAUScFxht6ydw3FrABjZg6wWGk3jzENR0lhOQPIQuzsA4Id6XgQcUUMzMCLcQ\n",
       "lbcxxFmSNtkyMHQDWdfSzjxPgAXFBAjGW+bgEGcChRehshBHhsMpjqeM5sVRRgPFAQXOmo6YKTO0\n",
       "AAAAAElFTkSuQmCC\n",
       "\" style=\"display:inline;vertical-align:middle;\" /></a><br>"
      ],
      "text/plain": [
       "int_closure: forall_{a in Integer} ((-a) in Integer)"
      ]
     },
     "execution_count": 4,
     "metadata": {},
     "output_type": "execute_result"
    }
   ],
   "source": [
    "int_closure = Forall(a, InSet(Neg(a), Integer), domain=Integer)"
   ]
  },
  {
   "cell_type": "code",
   "execution_count": 5,
   "metadata": {},
   "outputs": [
    {
     "data": {
      "text/html": [
       "<strong id=\"real_closure\"><a class=\"ProveItLink\" href=\"proofs/real_closure/thm_proof.ipynb\">real_closure</a> (conjecture without proof):<br></strong> <a class=\"ProveItLink\" href=\"../__pv_it/theorems/030c7e372ea6d81ccc6e34ba9907234bc7ca18b60/theorem_expr.ipynb\"><img src=\"data:image/png;base64,iVBORw0KGgoAAAANSUhEUgAAAJcAAAAUBAMAAABylbI8AAAAMFBMVEX///8QEBCIiIhmZma6urrM\n",
       "zMxUVFQiIiJERETc3Nzu7u6qqqp2dnaYmJgyMjIAAAAcRTyBAAAAAXRSTlMAQObYZgAAAjBJREFU\n",
       "OMtjYMAHOC9AMDLYiUMtSPwBiHEXh4IVUIwM2Cag8q9L9L+TuAARPw0SeIXDsJdQjAy4HqAJPFjG\n",
       "EHFjAVh8Bsg3DdjN4jWAYFRwCI3fMIeBgzMBLM63gIGBZwN2w9gnQDAqWAilb5SXP4AaxjzhAVic\n",
       "99SqVdNx+HI6FKMCPgcwFaGFcBnzhAaI+I+OjhochilDMTxybYykgP4Ae5zrFZI32VgSIOKpDAyd\n",
       "OAzrhWIYcJzA9wHolweokQo0bLvdAoi4M2r8bNdIfgRjV0MxLB5lGZiB3uEuAHE4EBEwsbwOFOgg\n",
       "cXYGJliy5NpjfIGJh+GUApQvAsFc78AggPkXAztQivUDSC4QJASNAGcOoMPA4jwX2GF23Ni5igFo\n",
       "2K0LqIbBAGMDw/oAmGEzkJIGs2sD1DDOB2FA1mK1pwwsoJAFGXYAuzfXH2DYD6RYwN5kRE5nXZdg\n",
       "4p0pQJ+Usv5i4GOAGGZsgD0C1m9gyOOeAI0AZgUkw8KYA6ARsxloIrMBawHDYrBhzGklMGWHoRgK\n",
       "OBR4y3iAag/AnQ3LTjwbUqHi/EA7GDcwJTCEd3R0KDDxTLoCU+YOxbD4SVKdpgJMnAFg3rKWBbCM\n",
       "/pSh4/0GiDgvUHD9BI5bC9gg3uSOWYA3Oy2H0j7t5Q+wiTMwToj3ZeAJgITZqQMkZXQMcZakTbYM\n",
       "DN2gRHvuwGI7mHAnA2b2wCiCcIgzAcOMYOHIMQG7YbjE8RbbN3GoBYoDAA7/qZPzga4CAAAAAElF\n",
       "TkSuQmCC\n",
       "\" style=\"display:inline;vertical-align:middle;\" /></a><br>"
      ],
      "text/plain": [
       "real_closure: forall_{a in Real} ((-a) in Real)"
      ]
     },
     "execution_count": 5,
     "metadata": {},
     "output_type": "execute_result"
    }
   ],
   "source": [
    "real_closure = Forall(a, InSet(Neg(a), Real), domain=Real)"
   ]
  },
  {
   "cell_type": "code",
   "execution_count": 6,
   "metadata": {},
   "outputs": [
    {
     "data": {
      "text/html": [
       "<strong id=\"complex_closure\"><a class=\"ProveItLink\" href=\"proofs/complex_closure/thm_proof.ipynb\">complex_closure</a> (conjecture without proof):<br></strong> <a class=\"ProveItLink\" href=\"../__pv_it/theorems/8781ce9cc02f04a86a880eae636f7ff65b7adaa50/theorem_expr.ipynb\"><img src=\"data:image/png;base64,iVBORw0KGgoAAAANSUhEUgAAAJcAAAAUBAMAAABylbI8AAAAMFBMVEX///8QEBCIiIhmZma6urrM\n",
       "zMxUVFQiIiJERETc3Nzu7u6qqqp2dnaYmJgyMjIAAAAcRTyBAAAAAXRSTlMAQObYZgAAAi5JREFU\n",
       "OMtjYMAHOC9AMDLYiUMtSPwBiHEXh4IVUIwM2Cagq2J6/l68GSx+GsR9hcOwl1CMDLgeoAmwxm/g\n",
       "sr8MFp8B8k0DdrN4DSAYFRxC419IAqr6DBbnW8DAwLMBu2HsEyAYFSyE0jfKy0GO5A2QApLJYHHe\n",
       "U6tWTcfhy+lQjAr4HMBUhBaEywz21yKI+I+OjhochilDMTxybYyAruABe5wLFs7LWKEBARJPZWDo\n",
       "xGFYLxTDgOMEvg9AvzxAidQ5LArQEAaKO6PFD3dPehKUWQ3FsHiUZWAGeom7AMThgIlOhhkGEmdn\n",
       "YIIlS649xhe4IhawvoHyRSCY6x0YBDD/YmAHamT9AJILBAmBXLGC9QA0iQDFeS6wwyy5sXMVA+8c\n",
       "BoY9qIbBAGMDw/oAmGEz4PGxIAFhGOeDMCBrsdpTBhZQSLpuBQph9+b6Awz7gRQL2JuMiMQIMowL\n",
       "Kt6ZAmSXsv5i4APJ3bqJMwLWb2DI454AjQBmBZhwkxOQ8INGzGagicwGrAUMi0FSu5Ay8mEohgIO\n",
       "Bd4yHqDaA3BnQxLai1NcO7qg4vxAOxg3MCUwhHd0dCjMDkXododiWPwkqU5TAQZSACR9tSyAigc/\n",
       "/G7KABXnBQqun8BxawEb2J5F4ADAk52WQ2mf9vIH2MQZGCfE+zLwBIBTeQA8KxOX0THEWZI22TIw\n",
       "dIOYa961BcCEOxkwswdGEYRDnAkYZgQLR44J2A3DJY632L6JQy1QHAAGE5pPhGzl1QAAAABJRU5E\n",
       "rkJggg==\n",
       "\" style=\"display:inline;vertical-align:middle;\" /></a><br>"
      ],
      "text/plain": [
       "complex_closure: forall_{a in Complex} ((-a) in Complex)"
      ]
     },
     "execution_count": 6,
     "metadata": {},
     "output_type": "execute_result"
    }
   ],
   "source": [
    "complex_closure = Forall(a, InSet(Neg(a), Complex), domain=Complex)"
   ]
  },
  {
   "cell_type": "code",
   "execution_count": 7,
   "metadata": {},
   "outputs": [
    {
     "data": {
      "text/html": [
       "<strong id=\"negated_positive_is_negative\"><a class=\"ProveItLink\" href=\"proofs/negated_positive_is_negative/thm_proof.ipynb\">negated_positive_is_negative</a> (conjecture without proof):<br></strong> <a class=\"ProveItLink\" href=\"../__pv_it/theorems/cc0f78555381224014c3525faa85e21e55350db70/theorem_expr.ipynb\"><img src=\"data:image/png;base64,iVBORw0KGgoAAAANSUhEUgAAAMUAAAAWBAMAAACCvEVCAAAAMFBMVEX///8QEBCIiIhmZma6urrM\n",
       "zMxUVFQiIiJERETc3Nzu7u6qqqp2dnaYmJgyMjIAAAAcRTyBAAAAAXRSTlMAQObYZgAAAq5JREFU\n",
       "SMetVUtoE1EUPZlkmmTy2+iiijBQDYKb0OxERRF0pc7KuhAi9YNuStBWECsUxJIghUGhdTkSsBKE\n",
       "DAqVgpgQd1FKBBe2VAyFLlSQgh9sceH7zSeTETqlF27ezZn33pl3z71vgK1YvM3dbfP+UyncocGn\n",
       "gBxPhbutT++Z1lzWGPyW/vkakOOLcLcpHe+stKncYvAjevSJYBSpHHfPWzthYpX+vgcWGJw2gKQZ\n",
       "jCOqc++2x8473GAPJ4G6QeFUq1qdCZiqGeGe1BwVgTRusPE3cMZk8J9SaTwgx4Bwu8wODe4i2RDZ\n",
       "e3ZdCPSDcKgMvgyU/TaKeAGp2RDRlHDLjunpNZIRLnrljsX8FyioDD7eXREv919cYUHMeU2NDcuY\n",
       "E8Bt4VZF7UGYVE2iyEr4m72MnKPQYHAUktVNyqt8W0qipXZzKFeZhKPI8DxjB3flOzMtvIEoWSKv\n",
       "0WdPbA6RKwon21EL/ThfBeFYandzID5JSJRfCJldHJaFJlDTLA48tHJFNa+bDI53ztIsZlcRoaJR\n",
       "jobDoQyO0OV3DcjriLZ9c1VroE4FLHZrjhLw2eBw+RLZakzeQBqcI59zOGa1Ak1QZAUyz4iP5jUT\n",
       "Iwnd0typXd6DDH5BiMI5uYgKmxC+MurSPI8h3lb95BwhwfFGuLCYmrqZJHs0PD0YNZWdAs6QlSFT\n",
       "uoChUqmkSskHH1wcu5Fl42uV6JERXXZSuCXu8L7pvaQHNc9dojSzmoBT5GQ1PbZk9PFcJc4bNoey\n",
       "jqkqGU+33HXlf5fM+jesDYf0wikkNa5Hy6V5v/yTCH3uIOvsuc3eib5wZPj5YeA+7cGFRuWIw3Hi\n",
       "wEAb09fYCd/Z25bRezn03u2+sET0cJS0I/neZr5RMd2X4z+wl2Nz39pF/6mL2CLHdll423b6B2do\n",
       "vKrNBe1CAAAAAElFTkSuQmCC\n",
       "\" style=\"display:inline;vertical-align:middle;\" /></a><br>"
      ],
      "text/plain": [
       "negated_positive_is_negative: forall_{a in Real | a > 0} ((-a) < 0)"
      ]
     },
     "execution_count": 7,
     "metadata": {},
     "output_type": "execute_result"
    }
   ],
   "source": [
    "negated_positive_is_negative = Forall(a, Less(Neg(a), zero), domain=Real, conditions=[Greater(a, zero)])"
   ]
  },
  {
   "cell_type": "code",
   "execution_count": 8,
   "metadata": {},
   "outputs": [
    {
     "data": {
      "text/html": [
       "<strong id=\"neg_as_mult_one\"><a class=\"ProveItLink\" href=\"proofs/neg_as_mult_one/thm_proof.ipynb\">neg_as_mult_one</a> (conjecture without proof):<br></strong> <a class=\"ProveItLink\" href=\"../__pv_it/theorems/88546ae82d1bee39ddac3f98d6e6185cd689f7470/theorem_expr.ipynb\"><img src=\"data:image/png;base64,iVBORw0KGgoAAAANSUhEUgAAAOEAAAAUBAMAAACJwkfjAAAAMFBMVEX///8QEBCIiIhmZma6urrM\n",
       "zMxUVFQiIiJERETc3Nzu7u6qqqp2dnaYmJgyMjIAAAAcRTyBAAAAAXRSTlMAQObYZgAAAl1JREFU\n",
       "SMellk1o1EAUxx/bTdPNJquH3l0UehJaED1VKBTZo7n4cWsRpQhii1c9eCoJKt1DYQUV0xVUFtGK\n",
       "iKz0UHZv7WUPHlRoXdAeWmrpse3J95JJd2Yy06T44G2Sl9/b/+TNy0wAjrJCJ3LeitVMXBKjSBOP\n",
       "XbpY0yi+ZS7Y7WxcEsNIP6qu0vmWRnGTuWDv07mPgQrDiIUP+JSK8lAt6IxELppdTuGsO9OBCqNI\n",
       "C6BENxfVimY1ctGsk6ncr0CFUWQBx7bSaNQ0Ra0xl+xPKkeKSYwipTGAPc97oFE8wzy2+tD8WaxM\n",
       "O42LFNuqRBuLfwvA1yg+YR5XZdm5Z+LUr4eTshPaiIJjiuuqRAcP42EDca/N46kb7PQ+83jmA/sg\n",
       "j9P1RR6ZxDHFELOkxOIMTjnk4nfXWjrXsa4Hxja7Hozcih7HtWAgbOoJWVHimGKIfeiGsoeJxi4O\n",
       "oGPGmd+bDXCeAyyJ/9SzE+WjFKVnDDFzUkwkxUL3Kl60zg+5eZqUS58xpKvWhEu/FW4eJ/VVragS\n",
       "81hV8G8C5IK75liJoj9/aDunGAwjyLeEmkt0DpdInQOfUNaAvwCv6O7XZi+xLfb45cU5eIHHUVlR\n",
       "4gCGAwHjEvuWD2u8D3DN87zysyu9xIpYm9en6xepyTZkRYmDC6d+d3iMSyxReR0akLFrQD/d7auz\n",
       "ltavcjOZVsMkRpE38cVLu2uDTfqFUZeW2/9ZyXUYW8nZc39rrQA8otN3O7NuHPZBsSApdisVp92t\n",
       "eMvhPKbvyH62HdlXjWugCnDsrw4n21dHEqMIvnr/AEN200a0tELHAAAAAElFTkSuQmCC\n",
       "\" style=\"display:inline;vertical-align:middle;\" /></a><br>"
      ],
      "text/plain": [
       "neg_as_mult_one: forall_{x in Complex} ((-x) = ((-1) * x))"
      ]
     },
     "execution_count": 8,
     "metadata": {},
     "output_type": "execute_result"
    }
   ],
   "source": [
    "neg_as_mult_one = Forall(x,Equals(Neg(x), Mult(Neg(one), x)), domain=Complex)"
   ]
  },
  {
   "cell_type": "code",
   "execution_count": 9,
   "metadata": {},
   "outputs": [
    {
     "data": {
      "text/html": [
       "<strong id=\"distribute_neg_through_binary_sum\"><a class=\"ProveItLink\" href=\"proofs/distribute_neg_through_binary_sum/thm_proof.ipynb\">distribute_neg_through_binary_sum</a> (conjecture without proof):<br></strong> <a class=\"ProveItLink\" href=\"../__pv_it/theorems/4b724637bbb622ad76ab20dbd0bb5a830d0650fc0/theorem_expr.ipynb\"><img src=\"data:image/png;base64,iVBORw0KGgoAAAANSUhEUgAAARoAAAAVBAMAAABrvDzoAAAAMFBMVEX///8QEBCIiIhmZma6urrM\n",
       "zMxUVFQiIiJERETc3Nzu7u6qqqp2dnaYmJgyMjIAAAAcRTyBAAAAAXRSTlMAQObYZgAAA0lJREFU\n",
       "SMfFlk1oE0EUgF+z2STdZBMPgj8gxFZ78hDqRbBqRKQnaTz4d2oIiggqUVDw51AVJEGFBUELKmwt\n",
       "aAlilopIpdBiDoKiLHiwLSgBbcEqaykK2qr4ZmeSndk0G1oPPvh2M2/fTN578+YHoLHcYYiaBWWI\n",
       "4ZJms8FfhDVKmTTeeVkqPRRRU2t2IQsQ0CguGfAaf2AFPo5QXhLFtJd1VKOImgXsEuhSmeKST56J\n",
       "+YA8pPSSRPZ4Gb9hiBpHBtk7ZuDjGUMQNeHpzTwSidtEdXwZXsZnGKKm1psuHAn6GIIENa/x/XNk\n",
       "npfZqC8KhZtexs1ZiqhZwJvn9nQlKYJ4jg8Re7iPlB+53HkvY1+CImrgemmtLnoz1bIZh05QBGnl\n",
       "Q+loX+2qt0wrzk0JbA4B5KtJs2q9CZkUUeNfBV/F3Ch/9KIGKpYwASKWLbZj17jO27XojPgHxWnl\n",
       "J8B7sNnBL4JSdQO4ejjDJt2gcGWArT4TNonehOcgFocwpj2cdQV0jtsH1oDkWjMjOswCPAGbIPic\n",
       "yD+TDsMbTWW/Ln+hqqYkRaHBpmhrmw4nydfXlnXCsqbwl1SG4ijIGLjsCh6WO72lOQjGgR8NtoLy\n",
       "C6AbbCJm0OmHKYOxoQKotwGGRW8cIa2VoHwXc4PbTZdR15tq3x4optzbjX++6k1zeS/+6G+bxKc8\n",
       "26b7yVTvfIwfPGYKownPiN7ETJIwP84SoVI3addMYfpGXL7+BkwYdAIlfxATd0omq9531peIEouJ\n",
       "ce8qVuYhUB4SvUliTThVzAtXxUUDjofF7ecbKcJKFcMjDEVKyCSgUFwt9xOLp87RV7tmSesivE2P\n",
       "Ct4EzBDqpVGKICUukrh6OiJ+PQaX8NnBwJUATYYvbVeElN6Xy+Xit/Y4W2Ul94LmXsuBTFJc4e2v\n",
       "SPWkKIJ0cmsqs/7GOvFr/waS+UmGirtYUQtN4CumNxkBYiHdxY6LPBlsuc9YxMlAvcxSaKlr3bug\n",
       "Vw/qYxBJ2Ttmqnr4NTo1C3xjKacmOKcmS35mcAvsNuSjOOVXiOKBdbmS75BG4Sa/bqx1bhT5ht6w\n",
       "GwUvdB37sG6WcNuq43nj21bV33zNdfAfb6LjjMXeRFWNwqvgf8tfNYgOnaB38tUAAAAASUVORK5C\n",
       "YII=\n",
       "\" style=\"display:inline;vertical-align:middle;\" /></a><br>"
      ],
      "text/plain": [
       "distribute_neg_through_binary_sum: forall_{a, b in Complex} ((-(a + b)) = (-a - b))"
      ]
     },
     "execution_count": 9,
     "metadata": {},
     "output_type": "execute_result"
    }
   ],
   "source": [
    "distribute_neg_through_binary_sum = Forall((a, b), Equals(Neg(Add(a, b)), Add(Neg(a), Neg(b))),\n",
    "                                      domain=Complex)"
   ]
  },
  {
   "cell_type": "code",
   "execution_count": 10,
   "metadata": {},
   "outputs": [
    {
     "data": {
      "text/html": [
       "<strong id=\"distribute_neg_through_subtract\"><a class=\"ProveItLink\" href=\"proofs/distribute_neg_through_subtract/thm_proof.ipynb\">distribute_neg_through_subtract</a> (conjecture without proof):<br></strong> <a class=\"ProveItLink\" href=\"../__pv_it/theorems/b7d8477932cb552f3d20c0892bd0f95ebaa448c60/theorem_expr.ipynb\"><img src=\"data:image/png;base64,iVBORw0KGgoAAAANSUhEUgAAARoAAAAVBAMAAABrvDzoAAAAMFBMVEX///8QEBCIiIhmZma6urrM\n",
       "zMxUVFQiIiJERETc3Nzu7u6qqqp2dnaYmJgyMjIAAAAcRTyBAAAAAXRSTlMAQObYZgAAA0xJREFU\n",
       "SMfFVktoE1EUvU0ySTrJJC4EP6CMrXblItSNYNWKSFfSuPC3agiKCCpBUPCziAqSoMKAoAUVpha0\n",
       "FGkGRaRSaDELQREGXNgWlECtYpVYioK2Kt73yWTeTDoxuvDAmcy7ue/Neffe9wGoj1ucoqUmhjkd\n",
       "aDbrfCKiMZZI47WXp5xlFC1ut3MZgKDG6MCA1/gDy/BxmPE5Mcx4ecc0RtFSwy+BkkqMDnzwDMwU\n",
       "coixlwQy6+X8klO0uBE38PGEU4CSqJkdlb8sIKMqZUzHH8NLzSlO0eJGN44EfZwCQpqXmsA8yfMS\n",
       "SuXZ4OB1LzHNGUbRUgNPabo6GQXUHr+iJkqHe8v4LZc766XGl2AULXC1uEYXHd+1bMKhE4wCWu1T\n",
       "6WhfKaqJpVsxN0WgPAiQr7gGym41YZNRtARWwGfHmvqlFzRQsIQJIVqmoMKu2Ny2abFZUU1hRv4O\n",
       "8AYot9sXQdEK4+VDaZ50g9FWBtjqM2GjI/DzEFchgmGPODN5xqZ5FfizoppRHeYAHgFlCHzVmX8k\n",
       "HUY2mPI+XfrETE2djDKbbJK1tupwnPw7RI3T+OYvQWEMJJy4NOtQs7Ta2z8PIZWF7v3qcjmFr1tA\n",
       "/gHQA5RRM1TthyGD8eFBUG4CjIhqqiCt5SB/dW033caiaqy+WSgkxdhMQWDBUtNc2oMv/W1kftJc\n",
       "mx4gqd7xEP/wyBTOJuL4ZtwkAQtglggrdZNyZArDN+pYUz8BAwZdwJg/gIE8IZFV7zvtS8SIx+SE\n",
       "dxXLCxAsiQdSvBNrolrFdtiquGDAsYgmqPlCirBSxfAAp+JPSGRCYVUp9ROPx9UvudcsaZ2HV6kx\n",
       "4ZNBM4x2/xijgKJtJqpyMirG5ihcwGcHJ64EaDJ8KVoR/tTeXC6n3tht9bdiL1jutOxPi5uc3P6C\n",
       "VE+SUUCXzSu97tpaUU3/ehL5aU4Fd7GCFp7En7jeZASJh/82dmzwZKC4y9nAycBUZhhZqWs9O6FX\n",
       "D+njEE3SHTNpHX5/empSNHBqyva9nJ+aPPjp+5thlyEdwZRfIoZ75YuVeIc1RlvytUXvQrVvFPm6\n",
       "Nzp+o7CDrWMf1s1f3LYWUV7/tmXpzbuug/94E53gbPQmqmiMdhP8b/wGr4QH4KdXBLgAAAAASUVO\n",
       "RK5CYII=\n",
       "\" style=\"display:inline;vertical-align:middle;\" /></a><br>"
      ],
      "text/plain": [
       "distribute_neg_through_subtract: forall_{a, b in Complex} ((-(a - b)) = (-a + b))"
      ]
     },
     "execution_count": 10,
     "metadata": {},
     "output_type": "execute_result"
    }
   ],
   "source": [
    "distribute_neg_through_subtract = Forall((a, b), Equals(Neg(subtract(a, b)), Add(Neg(a), b)),\n",
    "                                      domain=Complex)"
   ]
  },
  {
   "cell_type": "code",
   "execution_count": 11,
   "metadata": {},
   "outputs": [
    {
     "data": {
      "text/html": [
       "<strong id=\"distribute_neg_through_sum\"><a class=\"ProveItLink\" href=\"proofs/distribute_neg_through_sum/thm_proof.ipynb\">distribute_neg_through_sum</a> (conjecture without proof):<br></strong> <a class=\"ProveItLink\" href=\"../__pv_it/theorems/5ee92ea35b55948c231e652a40507a4e993cd2140/theorem_expr.ipynb\"><img src=\"data:image/png;base64,iVBORw0KGgoAAAANSUhEUgAAAlYAAAAWBAMAAADwTM9pAAAAMFBMVEX///8QEBCIiIhmZma6urrM\n",
       "zMxUVFQiIiJERETc3Nzu7u6qqqp2dnaYmJgyMjIAAAAcRTyBAAAAAXRSTlMAQObYZgAABSVJREFU\n",
       "WMPlWF2IG1UUPpud2Ukmk60P9aGCEnehSqkaWKQgXUgtWMQHpyuIYNGw2If6UKJdilpZF5+yleJg\n",
       "hZZC6bjgWra2hpXQViyEbOrDFmtgV8pCW/Jg1QqGUFFsBfH+TebOnTt/G5/0g5PM3DnnO3e+uf8A\n",
       "kUh1TFgfTjLrIdOCPpC1qInArFLmi/G55TW7yGW9OQVtXHYjjMYoRvtIoc9Qc3Ea+sI+ZgJOBzEP\n",
       "WbGp5TUjBE7WJlzBZb+EaxXtI8WwRc3F7f60OsdMwO0gZr0dm1peM0LgZG3CcdwAZ8K1ivaRYoVZ\n",
       "D7mCv1/lgzqc5IGRp+YFZpUwYzSisiwG16xH4GRtwrCNrqrhWkX7SPE2sx40qz+t9PuoeYFZNXlv\n",
       "+ySuVgHxhMDJ2oTc8sLCMQjXKtpHOlyWqbk4Bv1pBT8wA5E1oHbDxZhaBb0dIWBZmwB/VirvRmgV\n",
       "7SOdPwvUXIzirzSy7+lGAq08/kvMQGQd5e7nNn+8lQUbhZhaBcRTApYVabUXYFbCUue1CvAJR7pF\n",
       "zcURZJ/Dtfx0Aq08/jeZgdEhKDisR7iOWs+9qbFBPdeOqVVAPCVgWZFWO+XTRYHXameSKaU3jlSp\n",
       "uTiEbBm+s58FeCmuVsyf4jwzEFkPcd3ANu4pFqh4LsqWY2rlj2eBZTcr0kqDFP/x1QNNeLgkaCX4\n",
       "hOHCNwdZxQaK1M6RJnALlWxEZkMF/b6wjbWOnx7qdEr+bu8+oP4MrzLzYCM1nTY1U4c0kkkdw2+p\n",
       "dsOyXO103uh0fgRZvKNG182KtDJaWu/RmaVxuGDYg7agFe8TDBz96WF4pe7VyvtWAHfwz674Y/ud\n",
       "eFq52IBDlZ5WcdqVP16qVab9Ym+l8sEJGy7lCwYsjR0Yq7pacT7BINFrdcjWw/ogqL8n04r6U+xy\n",
       "Itl4VZL0QfRepqOVso4+yOIpCAHLirSC2dfQe45PjOKhC6FW+8gQxyviA40nN/t3hm4hjlZeRjdW\n",
       "2Nj+VaoLWxJoRf1Xvh8p8GO7yMqNzVn7CUjZ9C3XM7bTeCqIOLbDl4g1t6M1YNG9Yc04u8enFfZJ\n",
       "2fu1IrwuLAxIIQGOzp11F3V4vjU8awY08Sp/pbt4nypq9QWK1v9mF9wD5r/6IGxCd9uZgcDKLySe\n",
       "r36IN+xEq8F6RJZFjsMTTwWhBCxrk3XPE4/ABlsnL1aD+pJPK+yjwq8Aex7wVpQU0rkWR2TPWJ72\n",
       "q3jWokggfXLL6A1JH9RwdzroXLgPqH9mrgz30N0tZiCw9ugQ5kfmxlss87AZkWWR4/DEE0EYAcuK\n",
       "tcqhMpiEHaC+Vam8j7Q6qfm0Ij5wF9k7YlXvOqrh6EzNjLfHSTC2kw1/XsE7jTK1OHscotVn69/j\n",
       "YEEogZO16Ty6H7arUKLtSplAf6ZHKzYpqH6tcOHKpevoikQ/lcfTfPTe2dFKt4MOdDwPBszBuplo\n",
       "70y0akRlWQjcOxNBhL0z27t1YaoGl/HlKsB1cY9DcMpoG0Sr43bmsPNDChdncEsk0Ucvu2+Ttqi5\n",
       "cBf/55Ota0+B9pwZdCYzC5JtBV5FJlhAi/FUEOFMhn2FEmxtQRrN8Mp0EYakWs2vNpaJVrur6ibY\n",
       "beGfKikcMvEyHEeDfvXnvTHO+o6+N5lIq2cg9W2AKPKzvsy2P/LCh0p01scEsbhP0fR6PIrGK/8e\n",
       "eJpfKeA+6C6a6JUGjxVl0f/yGXLOohb7DHmt3zPkNS7r41NJ6zvxW5U782ZX8/B1XyL8h5GTXP0f\n",
       "8A9BetUBCViu1AAAAABJRU5ErkJggg==\n",
       "\" style=\"display:inline;vertical-align:middle;\" /></a><br>"
      ],
      "text/plain": [
       "distribute_neg_through_sum: forall_{n in NaturalPos} [forall_{x_{1}, ..x_{_a}.., x_{n} in Complex} ((-(x_{1} + ..x_{_a}.. + x_{n})) = ((-x_{1}) + ..(-x_{k}).. + (-x_{n})))]"
      ]
     },
     "execution_count": 11,
     "metadata": {},
     "output_type": "execute_result"
    }
   ],
   "source": [
    "distribute_neg_through_sum = Forall(n, Forall(x_1_to_n, Equals(Neg(Add(x_1_to_n)),\n",
    "                                                        Add(ExprRange(k, Neg(IndexedVar(x, k)), one, n))),\n",
    "                                           domain=Complex), \n",
    "                                 domain=NaturalPos)"
   ]
  },
  {
   "cell_type": "code",
   "execution_count": 12,
   "metadata": {},
   "outputs": [
    {
     "data": {
      "text/html": [
       "<strong id=\"neg_not_eq_zero\"><a class=\"ProveItLink\" href=\"proofs/neg_not_eq_zero/thm_proof.ipynb\">neg_not_eq_zero</a> (conjecture without proof):<br></strong> <a class=\"ProveItLink\" href=\"../__pv_it/theorems/e32439effe7c0dde78af57c59b91b983a38ec59c0/theorem_expr.ipynb\"><img src=\"data:image/png;base64,iVBORw0KGgoAAAANSUhEUgAAAMUAAAAWCAMAAABHTKhDAAAAPFBMVEX///8kJCQoKCgUFBQNDQ0Q\n",
       "EBCIiIhmZma6urrMzMxUVFQiIiJERETc3Nzu7u6qqqp2dnaYmJgyMjIAAAChkoCbAAAAAXRSTlMA\n",
       "QObYZgAAArJJREFUWMPNV4lyozAMzXaLb8vX//9rfYOMIbAtndVM40n6ZPR083r9nmiHzwMx+uAf\n",
       "Fg7Rvn937lkSoPB5KGJOQ3tEiTjLO9qa9ruHZ1l4jc9jun5Ojm0vi2aD1A2tm2e0epaEo/g8EUtm\n",
       "odja55aM8x3dQrAG5RmRGp9nwVhmoeCbL0rkmgjQ0M5CEi0fLm2Jz/PkY+eheIXMggXT0UElkfZZ\n",
       "FoTic28mtZQsJTHsHqS2oYBACwvS0SVUSl82iJ1mQzbVktEpyuFzd+kSDfChpv1a39Zn+fhMn42c\n",
       "Dvl6XlhkNKPHfaG0ZGWFFGvFnbUBynOSRiUxlIXB564UEjtarzbyNBSRBS0s7IpOH2TnIjCW0vgr\n",
       "cBX9y729wkJn22VOVNy4F4ZO8BuJFtIMl9VVPAz3cuwTnFEFbV1hghujMhrSzU4XwpdYqNw0QnLc\n",
       "Ys5YjLKorjhjMeZ7qD3KrOg4FBtXoEQk15Q0y3y5KVfrKYuuUMA1XRNWuhsZBTk3TDOeSVwXf5YS\n",
       "tB4RlW1wJd4VrXSdiyB5tAG2i4kDN9b9hkVXELnRfcY/V2+Q5EZ1Q/aq8HUtcn4+9qdTr6ENrdxp\n",
       "jACX2cW9tMGcsOgKpYua1xqLBbNozdPOO62KaCfFq+QtxR2O7XVSSGHhCB3qE1MukxQ2LrNv493a\n",
       "cH7MoiugdS+nd8AF0JKEzaceCEK4FqQoefzIyYYHlpA2zRvaQX28TiFPRb32BApkHQQDi1VBxKz9\n",
       "+5Fy18171K0NBDM19A46ulbHdGApcy3fzFSONzQ1U2hdts3ncV58Yxt8s2zvdkcmiCE0G6XMGjzv\n",
       "1XYXU1OF0mUrDTvbIfS8a77bzI39lz2+WVLqYlaJ8wn/bhG7/JY00HwTihur0wUW/qfeWMfOzm6h\n",
       "v8fCPfx68uNC/zuLvgAHNSKy7PYEKwAAAABJRU5ErkJggg==\n",
       "\" style=\"display:inline;vertical-align:middle;\" /></a><br>"
      ],
      "text/plain": [
       "neg_not_eq_zero: forall_{a in Complex | a != 0} ((-a) != 0)"
      ]
     },
     "execution_count": 12,
     "metadata": {},
     "output_type": "execute_result"
    }
   ],
   "source": [
    "neg_not_eq_zero = Forall(a, NotEquals(Neg(a), zero), domain=Complex, conditions=[NotEquals(a, zero)])"
   ]
  },
  {
   "cell_type": "code",
   "execution_count": 13,
   "metadata": {},
   "outputs": [
    {
     "data": {
      "text/html": [
       "<strong id=\"mult_neg_one_left\"><a class=\"ProveItLink\" href=\"proofs/mult_neg_one_left/thm_proof.ipynb\">mult_neg_one_left</a> (conjecture without proof):<br></strong> <a class=\"ProveItLink\" href=\"../__pv_it/theorems/7a68650925bbfa992c44200dfe120eba3209bfee0/theorem_expr.ipynb\"><img src=\"data:image/png;base64,iVBORw0KGgoAAAANSUhEUgAAAOEAAAAUBAMAAACJwkfjAAAAMFBMVEX///8QEBCIiIhmZma6urrM\n",
       "zMxUVFQiIiJERETc3Nzu7u6qqqp2dnaYmJgyMjIAAAAcRTyBAAAAAXRSTlMAQObYZgAAApRJREFU\n",
       "SMedVk1o1EAUfm6zTTZNVg/eDS30UIQuiJ5WKBUpnszFn9tKUaQgungTRXqSLCrmUKigYlxBZZFa\n",
       "EZGVHkp7W0EXFLSCGqgrKLosgqD24vxlZzLT6Y8PvpD3Zd58yZs3bwKwluWaHIL1hfJAlQG4Jfl1\n",
       "hhg7HzSKDwSINqGMVBl7UiJ6Q4oX2PmmUfwqILHHEcCMMlJl8vJn2zHFdZy8ydUF3QJHEnbqDFJ0\n",
       "PHmoyrxWplugyOMJZldXNEOOrn1CAfY2JYcKc06Z7g6F26jVpjVJnRaQUoTPyliZyZXVPI9Q/A6C\n",
       "CxrFAQFpxUXuVwendnophlimICSgf2IUpdMpUJwAqGgUrwpIK37ks827Z82YMS/b2JbxrSVsqIfw\n",
       "1ruI0hlT7CMFJGytKyfH2e15AWnFZ0SMlEzk/DVCxog1INRGA15FB9DMZQoTMsnr2HO7mvbRKPud\n",
       "+ds5bPL2bZ8plvDjRzGRtUillyTFLWjBZkhMCyIIMJXtUDhNMxn1rl4D9ybAnKoofSOZ3zxGiK2e\n",
       "TpHbT1ExFx/G+2T3oG/gxd7/FFHrZnVMIEo+JAxdxy9yViH7C1+NMgVUjqPKik6bI3lMv1/aXOX0\n",
       "RcMoWmSoiZXzPNOBIV458ATJZuEHwF3ytM5HLgro2jBWLHbdg7PXSM8uyk2I7w5jxergs6BnnoKt\n",
       "wx+AI0EQeDcO8agxAYnt2bGMgltd/15/dS/+nJakaPAOYI8PDeCzIu9TgBuRVc1CL37cU2Vlr+ty\n",
       "ZA6loaiM2uXuMxC77cQOOFg/V/RJy9V0cl3f3kQnZ7l5s9AAuEwaRPuSn9AVAWufTSpj6U6rVC9E\n",
       "67ihE1lti5X1T2T8ClYI8D9/Ha4S527gr2OJ4h/VxNpdSPE3uwAAAABJRU5ErkJggg==\n",
       "\" style=\"display:inline;vertical-align:middle;\" /></a><br>"
      ],
      "text/plain": [
       "mult_neg_one_left: forall_{x in Complex} (((-1) * x) = (-x))"
      ]
     },
     "execution_count": 13,
     "metadata": {},
     "output_type": "execute_result"
    }
   ],
   "source": [
    "mult_neg_one_left = Forall(x, Equals(Mult(Neg(one), x), Neg(x)), domain=Complex)"
   ]
  },
  {
   "cell_type": "code",
   "execution_count": 14,
   "metadata": {},
   "outputs": [
    {
     "data": {
      "text/html": [
       "<strong id=\"mult_neg_one_right\"><a class=\"ProveItLink\" href=\"proofs/mult_neg_one_right/thm_proof.ipynb\">mult_neg_one_right</a> (conjecture without proof):<br></strong> <a class=\"ProveItLink\" href=\"../__pv_it/theorems/f14119e7aec6d3010c226b8c03716a651200244c0/theorem_expr.ipynb\"><img src=\"data:image/png;base64,iVBORw0KGgoAAAANSUhEUgAAAOEAAAAUBAMAAACJwkfjAAAAMFBMVEX///8QEBCIiIhmZma6urrM\n",
       "zMxUVFQiIiJERETc3Nzu7u6qqqp2dnaYmJgyMjIAAAAcRTyBAAAAAXRSTlMAQObYZgAAAqVJREFU\n",
       "SMelVk1oE0EUfqbZ7mazGz148hRa6KEIFsRbC0GR4slc/LmpRZFepHgTRXqSDVbMQaig4jZCK0Fq\n",
       "QEQiPZQUPETQgIJWUBa0gqIlCIJWEOfNm3RnJrtJig++YWf22/lm3nvzZgE6WapBUO2O2q0ypIvt\n",
       "H2s0zkME2Hkfo3hfQDF7Wu33o9okdKNxHuI5dr7GKH4RUCwj7Se9i02Ni16ETjRaQkC4ic6bjhZ0\n",
       "RwiqvQof559tsLbG4GQ70ITVCBmf0SvRimaRoNoFeU2oOIcb2NGJRjZHcOvl8myMU2cF1Gya0hUz\n",
       "OdZ86kQTfs4RfnnepRjFQYHS0I3dm15LjOiKDo6saN/KNHtgcn+NeIgzAIUYxWsEe9k9bwatQauh\n",
       "K7r47gN2X6yjfdRpD+BN9jLxEAco2cL0mzk7IR4vEhzf2UhiOG0e3IqumEYHPtFzQKLV4aV/iHgI\n",
       "ExKt5dhLexv2cd/4Jvo7CTZYlMwPcWnbWCQW+V7WhKLRZM0JTVGm+eCB4CGchtliva2Wwb0NsKQq\n",
       "AmynKJonxVTqHmMVQ/shK6aCo3hO9g3lkxjsg4/ZkOpVNl0+2l2kmESvjodx/NxGM36C4HFu4TTL\n",
       "LP+cmcvg8LvVtsxJ+3sYoZfMkUymPU00YTjMHHjEZA34DnCPv62GzBXC4cp1qSw78ulIoGLfMmtG\n",
       "NUWJlvxjNfE+QB7nUpB+AxzzPC9760j41ThhfqA0Fq44KR3tvlN/x9ipRp+vaYoSzZ4YHsS7Anmc\n",
       "6/o8qgb080lK4hT0VOW4LeCsU92r3IIAt7tO4ICD+qnRPC+5PVXysEJvoZKLS+B1rQ5wlReI9Sub\n",
       "mVmAiIJkFdtvoYjbyoq7rZRayOK49RuZT13ofiMjzyoC/P9fBx4nt4e/jlXCP6AX2fQbmGx8AAAA\n",
       "AElFTkSuQmCC\n",
       "\" style=\"display:inline;vertical-align:middle;\" /></a><br>"
      ],
      "text/plain": [
       "mult_neg_one_right: forall_{x in Complex} ((x * (-1)) = (-x))"
      ]
     },
     "execution_count": 14,
     "metadata": {},
     "output_type": "execute_result"
    }
   ],
   "source": [
    "mult_neg_one_right = Forall(x, Equals(Mult(x, Neg(one)), Neg(x)), domain=Complex)"
   ]
  },
  {
   "cell_type": "code",
   "execution_count": 15,
   "metadata": {},
   "outputs": [
    {
     "data": {
      "text/html": [
       "<strong id=\"neg_times_pos\"><a class=\"ProveItLink\" href=\"proofs/neg_times_pos/thm_proof.ipynb\">neg_times_pos</a> (conjecture without proof):<br></strong> <a class=\"ProveItLink\" href=\"../__pv_it/theorems/a82e88760e12328be457d7cd964abe2ca7384af10/theorem_expr.ipynb\"><img src=\"data:image/png;base64,iVBORw0KGgoAAAANSUhEUgAAAR0AAAAVBAMAAACJYCeRAAAAMFBMVEX///8QEBCIiIhmZma6urrM\n",
       "zMxUVFQiIiJERETc3Nzu7u6qqqp2dnaYmJgyMjIAAAAcRTyBAAAAAXRSTlMAQObYZgAAAyZJREFU\n",
       "SMfFVk1oE0EYfU032WS7SYvoxdPaQOlBaFDqqdaqaG82PfhzayiKeJEiKkgVioeSomIEocUqrhVU\n",
       "itiAiFR6CO2tXgJ6sKKyBz0oWoIo2ILizP5kvtluN6kXH7wlebvvm29nvm9ngDqQKAtSNBVQQ4Df\n",
       "dCco/iyhxYX34fk8IpRwqqbgM2kjQfFjBcGXXPgSns9nQglPago+U6oQFF+zBCf4lI6EppPMCMrQ\n",
       "jVqCz/QqeIR5wZTJohRD81ELgr4Xa6kl+EwXgke4J5hcnJ4eD1+ucUIfPtYUJFNiKHiEVI/gr3z+\n",
       "Yng+aUIPU203t7O1WRDCDiS2UoGYq4hkhNWZz7SBGyZ0pns8AYyF53ON0ItTSp5RWfV9qCqlvYhU\n",
       "XEFftpGBbALiZWF16k1pQQdbJEtwv13Wa9B09eSg+3OY0Itj6qsKq4zndnJ8JYrdiI+4AsWwVExF\n",
       "YQUrXEw2WsizwYYEVUR8nzltbmdZO2ZGv7r/NwtqzptnNXtwYIBfZnirYhOaDVegICagoYc/6Vi1\n",
       "PzynBgPfgWhFUC+rvhBvZqeRvA3Mrc1HoNmo5qPm2EVZxUA2OB8Bno9nxXl+6TOjP+V8EtYR3vmd\n",
       "bSya0gbVVPi6H3jG7qy/XrAHB3qr/9nEb/MEt35ygevlWR10I8I+EcqQIMaOs8I3T6ssd73Z7EeK\n",
       "P/d2KbSem8wO5qH1HM9hFFQgZqmePauDUW6U6hlPWVJRfON3b/WiHff5rxezIsoCoYu+4nV7a+wS\n",
       "85NTfksCMYs2yAirg13oYzk2lgTd5Vyxb3dhEEfz+bwxeVhE6SV08aB1ajfvgk+iCQbTK5JAzFXw\n",
       "9fCsXqA9rNdSWUEk+eRFK1F++yy2IGa/7pTTxzX2C/q9bbR8Qn37RTfjQ0Ibd3VLx4SJc0oFOk8y\n",
       "0ZW1d7i699PTmOnZ+H4as7Qf8n7qTtvr+UX0F3Gwnb3kFa48Xh6ttsEY4XrHi0u4HHzekExx3xSr\n",
       "5bghnzcoilqBd0CE1U995zEy1r50FoE7T+h5TGntdLP0KJ02Y6VDGzmvJv0Flfy38+oSIY0G5V0J\n",
       "/xd/Ae/ACvM7xq2kAAAAAElFTkSuQmCC\n",
       "\" style=\"display:inline;vertical-align:middle;\" /></a><br>"
      ],
      "text/plain": [
       "neg_times_pos: forall_{x, y in Complex} (((-x) * y) = (-(x * y)))"
      ]
     },
     "execution_count": 15,
     "metadata": {},
     "output_type": "execute_result"
    }
   ],
   "source": [
    "neg_times_pos = Forall([x, y], Equals(Mult(Neg(x), y), Neg(Mult(x, y))), domain=Complex)"
   ]
  },
  {
   "cell_type": "code",
   "execution_count": 16,
   "metadata": {},
   "outputs": [
    {
     "data": {
      "text/html": [
       "<strong id=\"pos_times_neg\"><a class=\"ProveItLink\" href=\"proofs/pos_times_neg/thm_proof.ipynb\">pos_times_neg</a> (conjecture without proof):<br></strong> <a class=\"ProveItLink\" href=\"../__pv_it/theorems/a7b28d7c595ce85d5413ca30a92c4c77dbcdf7000/theorem_expr.ipynb\"><img src=\"data:image/png;base64,iVBORw0KGgoAAAANSUhEUgAAAR0AAAAVBAMAAACJYCeRAAAAMFBMVEX///8QEBCIiIhmZma6urrM\n",
       "zMxUVFQiIiJERETc3Nzu7u6qqqp2dnaYmJgyMjIAAAAcRTyBAAAAAXRSTlMAQObYZgAAAy9JREFU\n",
       "SMfFlk1oE0EYht8mm7/tJi2iF0+xgdKD0KLUU61V0d5sevDn1lIU8VKCVEGqUDyUBBUjCC1WcY1Q\n",
       "pUgNiEilh1Bv9RLQgxWVPdiDoiWIghYUZ3ZmOzO72bXtxReebHZ232+/nflmZ4B1KFFlqLqjnjYW\n",
       "GfXMviamOQmLNrwPzuchR5E+5mo4w6lj9jfZihYFL2nD5+B8PnEUpdx9McupY/Y3sSwtwSTt0rHA\n",
       "dJIdDFWv3A1GmuE1B5iYFgQpk0QpB+YTKzJUXfC8ZTPDaw4wMd0TJBdnZiaCh2uCo5ZpznPfR47H\n",
       "HGRiw9gj+JnPXwzOJ8Mptd7cuTYeIWkcSruQ2A68AMNjhmKSw+iZNG6YMEi7wymgEJzPNYZeSZ6N\n",
       "WU5jXJrGlf0I1YAPYMBYsdXhmCGblDCG1ox2MkiW4KBd1h41Xj09xP+OMgzTWNVoNZh2XYiaS5S7\n",
       "ESdT4hkYikaVYiq7wkyFLeTJw3KCGEKuT50+v7uqnzAjX/j5VoZuP5Qc/9DfBjLUs3Y3LOvYgiYy\n",
       "AgNgKKJG1l1ZZlLCmA1pfAMiNYFRjblCvJmbQfI2MK/mA/uhROedfBxpqxjI+ucjxExymD4z8kPN\n",
       "J2EdozO/s5VE1FoRMzU67oeekivqeMF+qNz1jkin7yCHXo5TP4N1x0sN040Q+URoOQEKJ0nhm8Mx\n",
       "krvRZPYjRe97u+Sp50azndxXr57jgxiHVM/uyaDUsxpmnJqVesYTklQEX+nVW71ow3367/mciMLn\n",
       "cV/5urQcGtJ8Dw9qv8mhi6NI+QBQkxpmD/pIjuGKgA/nL/tyF4ZwPJ/Pp6eOiih8HKZbSntFp2jS\n",
       "p00fylD7MkdRr3xCTWqY6ZZ9ZK6lsgIkaedFahF6eQTbELVfuURnwrrXizBdDXOMDa4X3YQHErbu\n",
       "GpaBSRPntBoMmmSiK2uvcOtaT4fxuGdz62nU0r+r6ynvttcLi+gv43AbedErtOXRyvjaNCigzjc8\n",
       "Ll78Ei777zcKPibWe9V4Wt1vyCrrRToDQqR+NrQfO5DJ+mX9j/2Y1tLJs3RQdpzRypFN71eTRcYm\n",
       "9qtLEnJEaO8q+L/6C6weDFvtgz5oAAAAAElFTkSuQmCC\n",
       "\" style=\"display:inline;vertical-align:middle;\" /></a><br>"
      ],
      "text/plain": [
       "pos_times_neg: forall_{x, y in Complex} ((x * (-y)) = (-(x * y)))"
      ]
     },
     "execution_count": 16,
     "metadata": {},
     "output_type": "execute_result"
    }
   ],
   "source": [
    "pos_times_neg = Forall([x, y], Equals(Mult(x, Neg(y)), Neg(Mult(x, y))), domain=Complex)"
   ]
  },
  {
   "cell_type": "code",
   "execution_count": 17,
   "metadata": {},
   "outputs": [
    {
     "data": {
      "text/html": [
       "<strong id=\"neg_times_neg\"><a class=\"ProveItLink\" href=\"proofs/neg_times_neg/thm_proof.ipynb\">neg_times_neg</a> (conjecture without proof):<br></strong> <a class=\"ProveItLink\" href=\"../__pv_it/theorems/9800329f4801001bc82f7e2ddbbe245d42cd51b10/theorem_expr.ipynb\"><img src=\"data:image/png;base64,iVBORw0KGgoAAAANSUhEUgAAARoAAAAVBAMAAABrvDzoAAAAMFBMVEX///8QEBCIiIhmZma6urrM\n",
       "zMxUVFQiIiJERETc3Nzu7u6qqqp2dnaYmJgyMjIAAAAcRTyBAAAAAXRSTlMAQObYZgAAAu9JREFU\n",
       "SMfFVkFoE0EU/aYbN9nsNiJ68RQNhBwEi+BFUqkWzE3TixfBhGIPvZQgWpQqhBwkUcQFhZaCuAQs\n",
       "0mINiNTj0lAPFaSgF0FlDw2ooORoC4ozszOZ2d3ZJT354LMz+97//J35f2cABkByi5uIlCnOngRJ\n",
       "r4AHC4CJHTz5Ep3Nc8E8mBbGWk1CTsuDBUHF7/D4R3Q23wXzYFUYD5sSclUeLAgqXsCLV4tMxhjh\n",
       "5oWe4eMPMlIU8GASUPGwhR7tyGxUk5sX2gE+viUjRQEPJgEVG5vLy/PRGzUvmA/bvDirUnJbFkwG\n",
       "Kv7daNyOziYrGEMr9/g4WtxO/0VM2IHWSUgeccmOLBh1lomnAJrR2TwQjC2sbVxTUTt+7b9JCI1r\n",
       "n4VYzyWJQP9FMEKDMWeZeBw0R5LCm7ezLP05wVjRWfqugipgDU8sUg+89pLtM5CoueSaP+4cdyaO\n",
       "PrEKMd//aKUzCs/uwRWbzg9x09yvLGkkAkAZr9NfPNo3hlqUkF0NDkI645JlfzY4CHUmjj6xvqX6\n",
       "evD+ogWfbEhJsuFIZ1g2MMuyYVB2oVwKz4Y5u45ecdK5hAbrp3LolZID1RrHkstoZobvFJAIAEXe\n",
       "ucJfYsiBo5QsCnVTYcGos1TcvIo6wppR0cfpaWuCnBXGCzOyilPWCeQTVsWJCtwFoYp9LcGcpeJX\n",
       "6E8Rh5+YWSxCXsOln1oRsulAoFsvth+SU7LA61ro8KGK8oeSBX82He4sFbubuEOoAkzGbzYa9eRr\n",
       "YS2L4qq7WDrWGsWL0eW1Ivz9tMnsDiW7/myK3FkqNvCixXtxTF2Hw0C293SGdm70yVANORlQMRBS\n",
       "qw5wMgTET3VHhwULbig92MAvHm3wE2/Pp+YMvBwb+NSUiJc+rm/CRBvO5x1I4O7Q3n+b6js0BQu9\n",
       "UST4R9+BeviNwh8kVNzWTNwa+UZ9wNtWU37bOpctheUfDBImTpn77Qt7uYkaUTdRTBqD3kQlYgOU\n",
       "zzb8T/wD5UoFNfDJPkcAAAAASUVORK5CYII=\n",
       "\" style=\"display:inline;vertical-align:middle;\" /></a><br>"
      ],
      "text/plain": [
       "neg_times_neg: forall_{x, y in Complex} (((-x) * (-y)) = (x * y))"
      ]
     },
     "execution_count": 17,
     "metadata": {},
     "output_type": "execute_result"
    }
   ],
   "source": [
    "neg_times_neg = Forall([x, y], Equals(Mult(Neg(x), Neg(y)), Mult(x, y)), domain=Complex)"
   ]
  },
  {
   "cell_type": "code",
   "execution_count": 18,
   "metadata": {},
   "outputs": [
    {
     "data": {
      "text/html": [
       "<strong id=\"double_negation\"><a class=\"ProveItLink\" href=\"proofs/double_negation/thm_proof.ipynb\">double_negation</a> (conjecture without proof):<br></strong> <a class=\"ProveItLink\" href=\"../__pv_it/theorems/73b9ad71f0805b8e3a9909ce570a015e24f779b20/theorem_expr.ipynb\"><img src=\"data:image/png;base64,iVBORw0KGgoAAAANSUhEUgAAALwAAAAUBAMAAADFKEobAAAAMFBMVEX///8QEBCIiIhmZma6urrM\n",
       "zMxUVFQiIiJERETc3Nzu7u6qqqp2dnaYmJgyMjIAAAAcRTyBAAAAAXRSTlMAQObYZgAAAfJJREFU\n",
       "OMutlc9LG0EcxR/RdM1mVz34BwSFnASF0lsKhVI8mos/booopRcJvbaHnsoubWkOBYUqLhFEgkhA\n",
       "RCIeJN7iJQcPtqDkYA8trXhUT53JfLc733S2GOqDDzvz3u6w35nZWeBfSjUU3NGVLipMkn5TNs5i\n",
       "ht8kuMP0gjBJ+Mfy+iMm/05wh2mbMEn4y7LiN+bYHVVwh8vJKEwSfm8gLhVzbBUV3OGy+xUmCd+t\n",
       "l8tLMcUtEdxp0wVhkvCvPe91TDpEcCdUKftpWMzKERRMUbYA+DHDfyC4E1Z+6L60xL47hwLOZUuj\n",
       "PHsKu8l26/vnc9R8RUTSek7g3HaLpdiDgq1plFlIhJ+KffCwYU8HyZ/UH1DY6rXyvGejp7XhZgi2\n",
       "plHmNKzQPa2W4a4AB3x4TazXl4kbXstSzUnRqD3K5rvltD3bFdZdJkc8LOvBGBHO/Wxb5s8DiWDR\n",
       "etIrna9f7ri06WBEPKYtLczZTgFI4hewLpP9anTX33tO641XPmJVXHOELj1T03QDTHmel/k8Ed31\n",
       "p27mkDYGS4/lnvhG6NIzV1SB5FUSD2TSVZIL38GhUFAYD4XQX3OaDhy5HKlcHrX7O9KompNaHXgn\n",
       "m1uXb/Nh7qP9k/Y7PJB1JcTcd/o78RF/qPjAf/4M3aLC+Lso4jcsyqZMfWs8egAAAABJRU5ErkJg\n",
       "gg==\n",
       "\" style=\"display:inline;vertical-align:middle;\" /></a><br>"
      ],
      "text/plain": [
       "double_negation: forall_{x in Complex} ((-(-x)) = x)"
      ]
     },
     "execution_count": 18,
     "metadata": {},
     "output_type": "execute_result"
    }
   ],
   "source": [
    "double_negation = Forall(x, Equals(Neg(Neg(x)), x), domain=Complex)"
   ]
  },
  {
   "cell_type": "code",
   "execution_count": 19,
   "metadata": {},
   "outputs": [
    {
     "name": "stdout",
     "output_type": "stream",
     "text": [
      "These theorems may now be imported from the theory package: proveit.numbers.negation\n"
     ]
    }
   ],
   "source": [
    "%end theorems"
   ]
  },
  {
   "cell_type": "code",
   "execution_count": null,
   "metadata": {},
   "outputs": [],
   "source": []
  }
 ],
 "metadata": {
  "kernelspec": {
   "display_name": "Python 3",
   "language": "python",
   "name": "python3"
  }
 },
 "nbformat": 4,
 "nbformat_minor": 0
}