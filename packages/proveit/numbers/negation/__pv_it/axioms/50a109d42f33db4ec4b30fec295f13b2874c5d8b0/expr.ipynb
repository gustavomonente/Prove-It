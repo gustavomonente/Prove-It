{
 "cells": [
  {
   "cell_type": "markdown",
   "metadata": {},
   "source": [
    "Expression of type <a class=\"ProveItLink\" href=\"../../../../../../../doc/html/api/proveit.Conditional.html\">Conditional</a>\n",
    "=======================\n",
    "# from the theory of <a class=\"ProveItLink\" href=\"../../../_theory_nbs_/theory.ipynb\">proveit.numbers.negation</a>"
   ]
  },
  {
   "cell_type": "code",
   "execution_count": 1,
   "metadata": {},
   "outputs": [],
   "source": [
    "import proveit\n",
    "# Automation is not needed when building an expression:\n",
    "proveit.defaults.automation = False # This will speed things up.\n",
    "proveit.defaults.inline_pngs = False # Makes files smaller.\n",
    "%load_expr # Load the stored expression as 'stored_expr'\n",
    "# import Expression classes needed to build the expression\n",
    "from proveit import Conditional, a, b, c\n",
    "from proveit.logic import And, Equals, InSet\n",
    "from proveit.numbers import Add, Natural, Neg"
   ]
  },
  {
   "cell_type": "code",
   "execution_count": 2,
   "metadata": {},
   "outputs": [
    {
     "data": {
      "text/html": [
       "<strong id=\"expr\">expr:</strong> <a class=\"ProveItLink\" href=\"expr.ipynb\"><img src=\"expr.png\" style=\"display:inline;vertical-align:middle;\" /></a><br>"
      ],
      "text/plain": [
       "expr: {(c + (-a)) = b if a in Natural ,  b in Natural ,  c in Natural ,  (a + b) = c."
      ]
     },
     "execution_count": 2,
     "metadata": {},
     "output_type": "execute_result"
    }
   ],
   "source": [
    "# build up the expression from sub-expressions\n",
    "expr = Conditional(Equals(Add(c, Neg(a)).with_subtraction_at(), b), And(InSet(a, Natural), InSet(b, Natural), InSet(c, Natural), Equals(Add(a, b), c)))"
   ]
  },
  {
   "cell_type": "code",
   "execution_count": 3,
   "metadata": {},
   "outputs": [
    {
     "name": "stdout",
     "output_type": "stream",
     "text": [
      "Passed sanity check: expr matches stored_expr\n"
     ]
    }
   ],
   "source": [
    "# check that the built expression is the same as the stored expression\n",
    "assert expr == stored_expr\n",
    "assert expr._style_id == stored_expr._style_id\n",
    "print(\"Passed sanity check: expr matches stored_expr\")"
   ]
  },
  {
   "cell_type": "code",
   "execution_count": 4,
   "metadata": {},
   "outputs": [
    {
     "name": "stdout",
     "output_type": "stream",
     "text": [
      "\\left\\{\\left(c + \\left(-a\\right)\\right) = b \\textrm{ if } a \\in \\mathbb{N} ,  b \\in \\mathbb{N} ,  c \\in \\mathbb{N} ,  \\left(a + b\\right) = c\\right..\n"
     ]
    }
   ],
   "source": [
    "# Show the LaTeX representation of the expression for convenience if you need it.\n",
    "print(expr.latex())"
   ]
  },
  {
   "cell_type": "code",
   "execution_count": 5,
   "metadata": {},
   "outputs": [
    {
     "data": {
      "text/html": [
       "<table><tr><th>&nbsp;</th><th>core type</th><th>sub-expressions</th><th>expression</th></tr>\n",
       "<tr><td>0</td><td>Conditional</td><td>value:&nbsp;1<br>condition:&nbsp;2<br></td><td><a class=\"ProveItLink\" href=\"expr.ipynb\"><img src=\"expr.png\" style=\"display:inline;vertical-align:middle;\" /></a></td></tr>\n",
       "<tr><td>1</td><td>Operation</td><td>operator:&nbsp;16<br>operands:&nbsp;3<br></td><td><a class=\"ProveItLink\" href=\"../5dbf0755b86d1b0f182bc6d0107e12fc00ef83310/expr.ipynb\"><img src=\"../5dbf0755b86d1b0f182bc6d0107e12fc00ef83310/expr.png\" style=\"display:inline;vertical-align:middle;\" /></a></td></tr>\n",
       "<tr><td>2</td><td>Operation</td><td>operator:&nbsp;4<br>operands:&nbsp;5<br></td><td><a class=\"ProveItLink\" href=\"../9400540c559f0bc10dbebe8a6fa83f545cfed51f0/expr.ipynb\"><img src=\"../9400540c559f0bc10dbebe8a6fa83f545cfed51f0/expr.png\" style=\"display:inline;vertical-align:middle;\" /></a></td></tr>\n",
       "<tr><td>3</td><td>ExprTuple</td><td>6, 26</td><td><a class=\"ProveItLink\" href=\"../5f63cd8a8db2dc34092223359eb780b6146862260/expr.ipynb\"><img src=\"../5f63cd8a8db2dc34092223359eb780b6146862260/expr.png\" style=\"display:inline;vertical-align:middle;\" /></a></td></tr>\n",
       "<tr><td>4</td><td>Literal</td><td></td><td><a class=\"ProveItLink\" href=\"../../../../../logic/booleans/conjunction/__pv_it/common/42118ff318bd65d98b1393f64ce7c2269feef76e0/expr.ipynb\"><img src=\"../../../../../logic/booleans/conjunction/__pv_it/common/42118ff318bd65d98b1393f64ce7c2269feef76e0/expr.png\" style=\"display:inline;vertical-align:middle;\" /></a></td></tr>\n",
       "<tr><td>5</td><td>ExprTuple</td><td>7, 8, 9, 10</td><td><a class=\"ProveItLink\" href=\"../4e3b0968a3b683d0577ea2bbc45337bf848b14290/expr.ipynb\"><img src=\"../4e3b0968a3b683d0577ea2bbc45337bf848b14290/expr.png\" style=\"display:inline;vertical-align:middle;\" /></a></td></tr>\n",
       "<tr><td>6</td><td>Operation</td><td>operator:&nbsp;23<br>operands:&nbsp;11<br></td><td><a class=\"ProveItLink\" href=\"../fb6458d4c955d07853feaec3f036591c10a7fd220/expr.ipynb\"><img src=\"../fb6458d4c955d07853feaec3f036591c10a7fd220/expr.png\" style=\"display:inline;vertical-align:middle;\" /></a></td></tr>\n",
       "<tr><td>7</td><td>Operation</td><td>operator:&nbsp;14<br>operands:&nbsp;12<br></td><td><a class=\"ProveItLink\" href=\"../6dd6097d7445632e2aa0cb7bea1facd58ca206600/expr.ipynb\"><img src=\"../6dd6097d7445632e2aa0cb7bea1facd58ca206600/expr.png\" style=\"display:inline;vertical-align:middle;\" /></a></td></tr>\n",
       "<tr><td>8</td><td>Operation</td><td>operator:&nbsp;14<br>operands:&nbsp;13<br></td><td><a class=\"ProveItLink\" href=\"../79857841975a629a0902c6d150cb640c73d78e8f0/expr.ipynb\"><img src=\"../79857841975a629a0902c6d150cb640c73d78e8f0/expr.png\" style=\"display:inline;vertical-align:middle;\" /></a></td></tr>\n",
       "<tr><td>9</td><td>Operation</td><td>operator:&nbsp;14<br>operands:&nbsp;15<br></td><td><a class=\"ProveItLink\" href=\"../59b2c0e96b76a545930b1c5d4d497668e1dced490/expr.ipynb\"><img src=\"../59b2c0e96b76a545930b1c5d4d497668e1dced490/expr.png\" style=\"display:inline;vertical-align:middle;\" /></a></td></tr>\n",
       "<tr><td>10</td><td>Operation</td><td>operator:&nbsp;16<br>operands:&nbsp;17<br></td><td><a class=\"ProveItLink\" href=\"../6efd024588f2a5c1f07a9e0a13b36b483f7868670/expr.ipynb\"><img src=\"../6efd024588f2a5c1f07a9e0a13b36b483f7868670/expr.png\" style=\"display:inline;vertical-align:middle;\" /></a></td></tr>\n",
       "<tr><td>11</td><td>ExprTuple</td><td>21, 18</td><td><a class=\"ProveItLink\" href=\"../59d5713645129e5796a51b8c67895b4a7f73863e0/expr.ipynb\"><img src=\"../59d5713645129e5796a51b8c67895b4a7f73863e0/expr.png\" style=\"display:inline;vertical-align:middle;\" /></a></td></tr>\n",
       "<tr><td>12</td><td>ExprTuple</td><td>25, 19</td><td><a class=\"ProveItLink\" href=\"../56677cfbfb1a55437669c0a080eb5bd6e8d6b0c90/expr.ipynb\"><img src=\"../56677cfbfb1a55437669c0a080eb5bd6e8d6b0c90/expr.png\" style=\"display:inline;vertical-align:middle;\" /></a></td></tr>\n",
       "<tr><td>13</td><td>ExprTuple</td><td>26, 19</td><td><a class=\"ProveItLink\" href=\"../3ef46503e801048df20cb5e53baacef35edc32dd0/expr.ipynb\"><img src=\"../3ef46503e801048df20cb5e53baacef35edc32dd0/expr.png\" style=\"display:inline;vertical-align:middle;\" /></a></td></tr>\n",
       "<tr><td>14</td><td>Literal</td><td></td><td><a class=\"ProveItLink\" href=\"../../../../../logic/sets/membership/__pv_it/common/477487d8796864d23d5810f83761435f25167f690/expr.ipynb\"><img src=\"../../../../../logic/sets/membership/__pv_it/common/477487d8796864d23d5810f83761435f25167f690/expr.png\" style=\"display:inline;vertical-align:middle;\" /></a></td></tr>\n",
       "<tr><td>15</td><td>ExprTuple</td><td>21, 19</td><td><a class=\"ProveItLink\" href=\"../e62fee4a7bf0365800b66a4201a4b5560da057e50/expr.ipynb\"><img src=\"../e62fee4a7bf0365800b66a4201a4b5560da057e50/expr.png\" style=\"display:inline;vertical-align:middle;\" /></a></td></tr>\n",
       "<tr><td>16</td><td>Literal</td><td></td><td><a class=\"ProveItLink\" href=\"../../../../../logic/equality/__pv_it/common/fb96dc12b2aa8801dda64d0132b396c63d1502bb0/expr.ipynb\"><img src=\"../../../../../logic/equality/__pv_it/common/fb96dc12b2aa8801dda64d0132b396c63d1502bb0/expr.png\" style=\"display:inline;vertical-align:middle;\" /></a></td></tr>\n",
       "<tr><td>17</td><td>ExprTuple</td><td>20, 21</td><td><a class=\"ProveItLink\" href=\"../be1ccc4a31e8db9ac7ec5e6c2fa59d52e920457c0/expr.ipynb\"><img src=\"../be1ccc4a31e8db9ac7ec5e6c2fa59d52e920457c0/expr.png\" style=\"display:inline;vertical-align:middle;\" /></a></td></tr>\n",
       "<tr><td>18</td><td>Operation</td><td>operator:&nbsp;22<br>operand:&nbsp;25<br></td><td><a class=\"ProveItLink\" href=\"../9e4314bb9db87f4c68429fe3d038721bd882218d0/expr.ipynb\"><img src=\"../9e4314bb9db87f4c68429fe3d038721bd882218d0/expr.png\" style=\"display:inline;vertical-align:middle;\" /></a></td></tr>\n",
       "<tr><td>19</td><td>Literal</td><td></td><td><a class=\"ProveItLink\" href=\"../../../../number_sets/natural_numbers/__pv_it/common/8b7c321957f52ed3b05b36af612eeae4fa4783bc0/expr.ipynb\"><img src=\"../../../../number_sets/natural_numbers/__pv_it/common/8b7c321957f52ed3b05b36af612eeae4fa4783bc0/expr.png\" style=\"display:inline;vertical-align:middle;\" /></a></td></tr>\n",
       "<tr><td>20</td><td>Operation</td><td>operator:&nbsp;23<br>operands:&nbsp;24<br></td><td><a class=\"ProveItLink\" href=\"../31db57b390e7fb44a97fc02d8ab242f679e7ecd00/expr.ipynb\"><img src=\"../31db57b390e7fb44a97fc02d8ab242f679e7ecd00/expr.png\" style=\"display:inline;vertical-align:middle;\" /></a></td></tr>\n",
       "<tr><td>21</td><td>Variable</td><td></td><td><a class=\"ProveItLink\" href=\"../../../../../__pv_it/common/ceef4280a2f1cc604b455b54e735507244cc62cd0/expr.ipynb\"><img src=\"../../../../../__pv_it/common/ceef4280a2f1cc604b455b54e735507244cc62cd0/expr.png\" style=\"display:inline;vertical-align:middle;\" /></a></td></tr>\n",
       "<tr><td>22</td><td>Literal</td><td></td><td><a class=\"ProveItLink\" href=\"../../common/221b3c4d1770ee9051b7c044c3f9ec61196fc34b0/expr.ipynb\"><img src=\"../../common/221b3c4d1770ee9051b7c044c3f9ec61196fc34b0/expr.png\" style=\"display:inline;vertical-align:middle;\" /></a></td></tr>\n",
       "<tr><td>23</td><td>Literal</td><td></td><td><a class=\"ProveItLink\" href=\"../../../../addition/__pv_it/common/4b7effaab3619a1c2c38fe2dee8601df8ec714590/expr.ipynb\"><img src=\"../../../../addition/__pv_it/common/4b7effaab3619a1c2c38fe2dee8601df8ec714590/expr.png\" style=\"display:inline;vertical-align:middle;\" /></a></td></tr>\n",
       "<tr><td>24</td><td>ExprTuple</td><td>25, 26</td><td><a class=\"ProveItLink\" href=\"../0e00cf301f391b9db3f5ff72911e8e2539c94fb00/expr.ipynb\"><img src=\"../0e00cf301f391b9db3f5ff72911e8e2539c94fb00/expr.png\" style=\"display:inline;vertical-align:middle;\" /></a></td></tr>\n",
       "<tr><td>25</td><td>Variable</td><td></td><td><a class=\"ProveItLink\" href=\"../../../../../__pv_it/common/c06c606ec12678c58933ac85412ecadc2ae28be60/expr.ipynb\"><img src=\"../../../../../__pv_it/common/c06c606ec12678c58933ac85412ecadc2ae28be60/expr.png\" style=\"display:inline;vertical-align:middle;\" /></a></td></tr>\n",
       "<tr><td>26</td><td>Variable</td><td></td><td><a class=\"ProveItLink\" href=\"../../../../../__pv_it/common/195236b98c6c564a75b5dbada74b173bc52d5c3e0/expr.ipynb\"><img src=\"../../../../../__pv_it/common/195236b98c6c564a75b5dbada74b173bc52d5c3e0/expr.png\" style=\"display:inline;vertical-align:middle;\" /></a></td></tr>\n",
       "</table>\n"
      ],
      "text/plain": [
       "0. {(c + (-a)) = b if a in Natural ,  b in Natural ,  c in Natural ,  (a + b) = c.\n",
       "   core type: Conditional\n",
       "   value: 1\n",
       "   condition: 2\n",
       "1. (c + (-a)) = b\n",
       "   core type: Operation\n",
       "   operator: 16\n",
       "   operands: 3\n",
       "2. (a in Natural) and (b in Natural) and (c in Natural) and ((a + b) = c)\n",
       "   core type: Operation\n",
       "   operator: 4\n",
       "   operands: 5\n",
       "3. (c + (-a), b)\n",
       "   core type: ExprTuple\n",
       "   sub-expressions: 6, 26\n",
       "4. and\n",
       "   core type: Literal\n",
       "   sub-expressions: \n",
       "5. (a in Natural, b in Natural, c in Natural, (a + b) = c)\n",
       "   core type: ExprTuple\n",
       "   sub-expressions: 7, 8, 9, 10\n",
       "6. c + (-a)\n",
       "   core type: Operation\n",
       "   operator: 23\n",
       "   operands: 11\n",
       "7. a in Natural\n",
       "   core type: Operation\n",
       "   operator: 14\n",
       "   operands: 12\n",
       "8. b in Natural\n",
       "   core type: Operation\n",
       "   operator: 14\n",
       "   operands: 13\n",
       "9. c in Natural\n",
       "   core type: Operation\n",
       "   operator: 14\n",
       "   operands: 15\n",
       "10. (a + b) = c\n",
       "    core type: Operation\n",
       "    operator: 16\n",
       "    operands: 17\n",
       "11. (c, -a)\n",
       "    core type: ExprTuple\n",
       "    sub-expressions: 21, 18\n",
       "12. (a, Natural)\n",
       "    core type: ExprTuple\n",
       "    sub-expressions: 25, 19\n",
       "13. (b, Natural)\n",
       "    core type: ExprTuple\n",
       "    sub-expressions: 26, 19\n",
       "14. in\n",
       "    core type: Literal\n",
       "    sub-expressions: \n",
       "15. (c, Natural)\n",
       "    core type: ExprTuple\n",
       "    sub-expressions: 21, 19\n",
       "16. =\n",
       "    core type: Literal\n",
       "    sub-expressions: \n",
       "17. (a + b, c)\n",
       "    core type: ExprTuple\n",
       "    sub-expressions: 20, 21\n",
       "18. -a\n",
       "    core type: Operation\n",
       "    operator: 22\n",
       "    operand: 25\n",
       "19. Natural\n",
       "    core type: Literal\n",
       "    sub-expressions: \n",
       "20. a + b\n",
       "    core type: Operation\n",
       "    operator: 23\n",
       "    operands: 24\n",
       "21. c\n",
       "    core type: Variable\n",
       "    sub-expressions: \n",
       "22. -\n",
       "    core type: Literal\n",
       "    sub-expressions: \n",
       "23. +\n",
       "    core type: Literal\n",
       "    sub-expressions: \n",
       "24. (a, b)\n",
       "    core type: ExprTuple\n",
       "    sub-expressions: 25, 26\n",
       "25. a\n",
       "    core type: Variable\n",
       "    sub-expressions: \n",
       "26. b\n",
       "    core type: Variable\n",
       "    sub-expressions: "
      ]
     },
     "execution_count": 5,
     "metadata": {},
     "output_type": "execute_result"
    }
   ],
   "source": [
    "# display the expression information\n",
    "expr.expr_info()"
   ]
  },
  {
   "cell_type": "code",
   "execution_count": null,
   "metadata": {},
   "outputs": [],
   "source": []
  }
 ],
 "metadata": {
  "kernelspec": {
   "display_name": "Python 3",
   "language": "python",
   "name": "python3"
  }
 },
 "nbformat": 4,
 "nbformat_minor": 0
}