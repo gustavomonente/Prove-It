{
 "cells": [
  {
   "cell_type": "markdown",
   "metadata": {},
   "source": [
    "Expression of type <a class=\"ProveItLink\" href=\"../../../../../../../doc/html/api/proveit.Conditional.html\">Conditional</a>\n",
    "=======================\n",
    "# from the theory of <a class=\"ProveItLink\" href=\"../../../_theory_nbs_/theory.ipynb\">proveit.numbers.negation</a>"
   ]
  },
  {
   "cell_type": "code",
   "execution_count": 1,
   "metadata": {},
   "outputs": [],
   "source": [
    "import proveit\n",
    "# Automation is not needed when building an expression:\n",
    "proveit.defaults.automation = False # This will speed things up.\n",
    "proveit.defaults.inline_pngs = False # Makes files smaller.\n",
    "%load_expr # Load the stored expression as 'stored_expr'\n",
    "# import Expression classes needed to build the expression\n",
    "from proveit import Conditional, a, b\n",
    "from proveit.logic import And, Equals, InSet\n",
    "from proveit.numbers import Add, Complex, Neg"
   ]
  },
  {
   "cell_type": "code",
   "execution_count": 2,
   "metadata": {},
   "outputs": [
    {
     "data": {
      "text/html": [
       "<strong id=\"expr\">expr:</strong> <a class=\"ProveItLink\" href=\"expr.ipynb\"><img src=\"expr.png\" style=\"display:inline;vertical-align:middle;\" /></a><br>"
      ],
      "text/plain": [
       "expr: {(-(a + b)) = (-a - b) if a in Complex ,  b in Complex."
      ]
     },
     "execution_count": 2,
     "metadata": {},
     "output_type": "execute_result"
    }
   ],
   "source": [
    "# build up the expression from sub-expressions\n",
    "expr = Conditional(Equals(Neg(Add(a, b)), Add(Neg(a), Neg(b))), And(InSet(a, Complex), InSet(b, Complex)))"
   ]
  },
  {
   "cell_type": "code",
   "execution_count": 3,
   "metadata": {},
   "outputs": [
    {
     "name": "stdout",
     "output_type": "stream",
     "text": [
      "Passed sanity check: expr matches stored_expr\n"
     ]
    }
   ],
   "source": [
    "# check that the built expression is the same as the stored expression\n",
    "assert expr == stored_expr\n",
    "assert expr._style_id == stored_expr._style_id\n",
    "print(\"Passed sanity check: expr matches stored_expr\")"
   ]
  },
  {
   "cell_type": "code",
   "execution_count": 4,
   "metadata": {},
   "outputs": [
    {
     "name": "stdout",
     "output_type": "stream",
     "text": [
      "\\left\\{\\left(-\\left(a + b\\right)\\right) = \\left(-a - b\\right) \\textrm{ if } a \\in \\mathbb{C} ,  b \\in \\mathbb{C}\\right..\n"
     ]
    }
   ],
   "source": [
    "# Show the LaTeX representation of the expression for convenience if you need it.\n",
    "print(expr.latex())"
   ]
  },
  {
   "cell_type": "code",
   "execution_count": 5,
   "metadata": {},
   "outputs": [
    {
     "data": {
      "text/html": [
       "<table>\n",
       "<tr><th>name</th><th>description</th><th>default</th><th>current value</th><th>related methods</th></tr><tr><td>condition_delimiter</td><td>'comma' or 'and'</td><td>comma</td><td>comma</td><td>('with_comma_delimiter', 'with_conjunction_delimiter')</td></tr>\n",
       "</table>\n"
      ],
      "text/plain": [
       "style name: condition_delimiter\n",
       "description: 'comma' or 'and'\n",
       "default: comma\n",
       "current value: comma\n",
       "related methods: ('with_comma_delimiter', 'with_conjunction_delimiter')"
      ]
     },
     "execution_count": 5,
     "metadata": {},
     "output_type": "execute_result"
    }
   ],
   "source": [
    "expr.style_options()"
   ]
  },
  {
   "cell_type": "code",
   "execution_count": 6,
   "metadata": {},
   "outputs": [
    {
     "data": {
      "text/html": [
       "<table><tr><th>&nbsp;</th><th>core type</th><th>sub-expressions</th><th>expression</th></tr>\n",
       "<tr><td>0</td><td>Conditional</td><td>value:&nbsp;1<br>condition:&nbsp;2<br></td><td><a class=\"ProveItLink\" href=\"expr.ipynb\"><img src=\"expr.png\" style=\"display:inline;vertical-align:middle;\" /></a></td></tr>\n",
       "<tr><td>1</td><td>Operation</td><td>operator:&nbsp;3<br>operands:&nbsp;4<br></td><td><a class=\"ProveItLink\" href=\"../16df4aa6599109f0e948b4e23371f8025f5880a90/expr.ipynb\"><img src=\"../16df4aa6599109f0e948b4e23371f8025f5880a90/expr.png\" style=\"display:inline;vertical-align:middle;\" /></a></td></tr>\n",
       "<tr><td>2</td><td>Operation</td><td>operator:&nbsp;5<br>operands:&nbsp;6<br></td><td><a class=\"ProveItLink\" href=\"../4ed62ebef7e398d5e516ee9950564995463034f40/expr.ipynb\"><img src=\"../4ed62ebef7e398d5e516ee9950564995463034f40/expr.png\" style=\"display:inline;vertical-align:middle;\" /></a></td></tr>\n",
       "<tr><td>3</td><td>Literal</td><td></td><td><a class=\"ProveItLink\" href=\"../../../../../logic/equality/__pv_it/common/731dd3955b346c1320ed5c0ba7a618bcda61457d0/expr.ipynb\"><img src=\"../../../../../logic/equality/__pv_it/common/731dd3955b346c1320ed5c0ba7a618bcda61457d0/expr.png\" style=\"display:inline;vertical-align:middle;\" /></a></td></tr>\n",
       "<tr><td>4</td><td>ExprTuple</td><td>7, 8</td><td><a class=\"ProveItLink\" href=\"../e44bf31ce1636261c8295c6c398e1235dba87e1c0/expr.ipynb\"><img src=\"../e44bf31ce1636261c8295c6c398e1235dba87e1c0/expr.png\" style=\"display:inline;vertical-align:middle;\" /></a></td></tr>\n",
       "<tr><td>5</td><td>Literal</td><td></td><td><a class=\"ProveItLink\" href=\"../../../../../logic/booleans/conjunction/__pv_it/common/26b94b53e70b1d77b70f0d9d4236347db37731060/expr.ipynb\"><img src=\"../../../../../logic/booleans/conjunction/__pv_it/common/26b94b53e70b1d77b70f0d9d4236347db37731060/expr.png\" style=\"display:inline;vertical-align:middle;\" /></a></td></tr>\n",
       "<tr><td>6</td><td>ExprTuple</td><td>9, 10</td><td><a class=\"ProveItLink\" href=\"../819f4650757c945269cfa11755c76a9a5793415d0/expr.ipynb\"><img src=\"../819f4650757c945269cfa11755c76a9a5793415d0/expr.png\" style=\"display:inline;vertical-align:middle;\" /></a></td></tr>\n",
       "<tr><td>7</td><td>Operation</td><td>operator:&nbsp;23<br>operand:&nbsp;16<br></td><td><a class=\"ProveItLink\" href=\"../fd140b9fe254567464d80116f074452ef99345f00/expr.ipynb\"><img src=\"../fd140b9fe254567464d80116f074452ef99345f00/expr.png\" style=\"display:inline;vertical-align:middle;\" /></a></td></tr>\n",
       "<tr><td>8</td><td>Operation</td><td>operator:&nbsp;20<br>operands:&nbsp;12<br></td><td><a class=\"ProveItLink\" href=\"../dc42a82a032ecc702b55710615f37fec6fd3b32a0/expr.ipynb\"><img src=\"../dc42a82a032ecc702b55710615f37fec6fd3b32a0/expr.png\" style=\"display:inline;vertical-align:middle;\" /></a></td></tr>\n",
       "<tr><td>9</td><td>Operation</td><td>operator:&nbsp;14<br>operands:&nbsp;13<br></td><td><a class=\"ProveItLink\" href=\"../95d0d034454e5eb6c3934a54d7a149c5c125a3cb0/expr.ipynb\"><img src=\"../95d0d034454e5eb6c3934a54d7a149c5c125a3cb0/expr.png\" style=\"display:inline;vertical-align:middle;\" /></a></td></tr>\n",
       "<tr><td>10</td><td>Operation</td><td>operator:&nbsp;14<br>operands:&nbsp;15<br></td><td><a class=\"ProveItLink\" href=\"../fe4de3ff0419f38c3d25379035ba812df4fead870/expr.ipynb\"><img src=\"../fe4de3ff0419f38c3d25379035ba812df4fead870/expr.png\" style=\"display:inline;vertical-align:middle;\" /></a></td></tr>\n",
       "<tr><td>11</td><td>ExprTuple</td><td>16</td><td><a class=\"ProveItLink\" href=\"../aa04e464d8369f0f7022c1534a5a3c77bd3ec95f0/expr.ipynb\"><img src=\"../aa04e464d8369f0f7022c1534a5a3c77bd3ec95f0/expr.png\" style=\"display:inline;vertical-align:middle;\" /></a></td></tr>\n",
       "<tr><td>12</td><td>ExprTuple</td><td>17, 18</td><td><a class=\"ProveItLink\" href=\"../abd2541c1b51155e96aaa2440452cefa248290b40/expr.ipynb\"><img src=\"../abd2541c1b51155e96aaa2440452cefa248290b40/expr.png\" style=\"display:inline;vertical-align:middle;\" /></a></td></tr>\n",
       "<tr><td>13</td><td>ExprTuple</td><td>25, 19</td><td><a class=\"ProveItLink\" href=\"../124b000752291c9be9fd777a8318a35f27eebae40/expr.ipynb\"><img src=\"../124b000752291c9be9fd777a8318a35f27eebae40/expr.png\" style=\"display:inline;vertical-align:middle;\" /></a></td></tr>\n",
       "<tr><td>14</td><td>Literal</td><td></td><td><a class=\"ProveItLink\" href=\"../../../../../logic/sets/membership/__pv_it/common/7171deca84f71f47a6ec7696972d1632274a12880/expr.ipynb\"><img src=\"../../../../../logic/sets/membership/__pv_it/common/7171deca84f71f47a6ec7696972d1632274a12880/expr.png\" style=\"display:inline;vertical-align:middle;\" /></a></td></tr>\n",
       "<tr><td>15</td><td>ExprTuple</td><td>26, 19</td><td><a class=\"ProveItLink\" href=\"../8366e4d5936209b9da9455e88151b300248abbf10/expr.ipynb\"><img src=\"../8366e4d5936209b9da9455e88151b300248abbf10/expr.png\" style=\"display:inline;vertical-align:middle;\" /></a></td></tr>\n",
       "<tr><td>16</td><td>Operation</td><td>operator:&nbsp;20<br>operands:&nbsp;21<br></td><td><a class=\"ProveItLink\" href=\"../9f067a542a28b6a4a249b19364ea35cd2d1a4f470/expr.ipynb\"><img src=\"../9f067a542a28b6a4a249b19364ea35cd2d1a4f470/expr.png\" style=\"display:inline;vertical-align:middle;\" /></a></td></tr>\n",
       "<tr><td>17</td><td>Operation</td><td>operator:&nbsp;23<br>operand:&nbsp;25<br></td><td><a class=\"ProveItLink\" href=\"../b9c3bd3510db4cff864a4ed52d41a47d6f5d9f5d0/expr.ipynb\"><img src=\"../b9c3bd3510db4cff864a4ed52d41a47d6f5d9f5d0/expr.png\" style=\"display:inline;vertical-align:middle;\" /></a></td></tr>\n",
       "<tr><td>18</td><td>Operation</td><td>operator:&nbsp;23<br>operand:&nbsp;26<br></td><td><a class=\"ProveItLink\" href=\"../9e743758d0e9a02357cd5f89e48c12c256cae7f50/expr.ipynb\"><img src=\"../9e743758d0e9a02357cd5f89e48c12c256cae7f50/expr.png\" style=\"display:inline;vertical-align:middle;\" /></a></td></tr>\n",
       "<tr><td>19</td><td>Literal</td><td></td><td><a class=\"ProveItLink\" href=\"../../../../number_sets/complex_numbers/__pv_it/common/fbfabc61f6f66350b130e5a55a72b80825c065f90/expr.ipynb\"><img src=\"../../../../number_sets/complex_numbers/__pv_it/common/fbfabc61f6f66350b130e5a55a72b80825c065f90/expr.png\" style=\"display:inline;vertical-align:middle;\" /></a></td></tr>\n",
       "<tr><td>20</td><td>Literal</td><td></td><td><a class=\"ProveItLink\" href=\"../../../../addition/__pv_it/common/1f38fe5cce441387feef296e2c0a2eac260bb4f30/expr.ipynb\"><img src=\"../../../../addition/__pv_it/common/1f38fe5cce441387feef296e2c0a2eac260bb4f30/expr.png\" style=\"display:inline;vertical-align:middle;\" /></a></td></tr>\n",
       "<tr><td>21</td><td>ExprTuple</td><td>25, 26</td><td><a class=\"ProveItLink\" href=\"../1bdfc8550dcba21649b1aca02603584957f865fb0/expr.ipynb\"><img src=\"../1bdfc8550dcba21649b1aca02603584957f865fb0/expr.png\" style=\"display:inline;vertical-align:middle;\" /></a></td></tr>\n",
       "<tr><td>22</td><td>ExprTuple</td><td>25</td><td><a class=\"ProveItLink\" href=\"../d44dc3f84a5035a3c448121a02d4b2964d58a7910/expr.ipynb\"><img src=\"../d44dc3f84a5035a3c448121a02d4b2964d58a7910/expr.png\" style=\"display:inline;vertical-align:middle;\" /></a></td></tr>\n",
       "<tr><td>23</td><td>Literal</td><td></td><td><a class=\"ProveItLink\" href=\"../../common/31a69a5c76809537045e3884859f178d8d9c845c0/expr.ipynb\"><img src=\"../../common/31a69a5c76809537045e3884859f178d8d9c845c0/expr.png\" style=\"display:inline;vertical-align:middle;\" /></a></td></tr>\n",
       "<tr><td>24</td><td>ExprTuple</td><td>26</td><td><a class=\"ProveItLink\" href=\"../4cabf1751a27ab39c608ddfb8fada31b9de8f32c0/expr.ipynb\"><img src=\"../4cabf1751a27ab39c608ddfb8fada31b9de8f32c0/expr.png\" style=\"display:inline;vertical-align:middle;\" /></a></td></tr>\n",
       "<tr><td>25</td><td>Variable</td><td></td><td><a class=\"ProveItLink\" href=\"../../../../../__pv_it/common/66c90e66682f107a881f2d666959f64e2e72ad750/expr.ipynb\"><img src=\"../../../../../__pv_it/common/66c90e66682f107a881f2d666959f64e2e72ad750/expr.png\" style=\"display:inline;vertical-align:middle;\" /></a></td></tr>\n",
       "<tr><td>26</td><td>Variable</td><td></td><td><a class=\"ProveItLink\" href=\"../../../../../__pv_it/common/4a5db8cc5c67969ec864bd3ea598be37cb6f5e550/expr.ipynb\"><img src=\"../../../../../__pv_it/common/4a5db8cc5c67969ec864bd3ea598be37cb6f5e550/expr.png\" style=\"display:inline;vertical-align:middle;\" /></a></td></tr>\n",
       "</table>\n"
      ],
      "text/plain": [
       "0. {(-(a + b)) = (-a - b) if a in Complex ,  b in Complex.\n",
       "   core type: Conditional\n",
       "   value: 1\n",
       "   condition: 2\n",
       "1. (-(a + b)) = (-a - b)\n",
       "   core type: Operation\n",
       "   operator: 3\n",
       "   operands: 4\n",
       "2. (a in Complex) and (b in Complex)\n",
       "   core type: Operation\n",
       "   operator: 5\n",
       "   operands: 6\n",
       "3. =\n",
       "   core type: Literal\n",
       "   sub-expressions: \n",
       "4. (-(a + b), -a - b)\n",
       "   core type: ExprTuple\n",
       "   sub-expressions: 7, 8\n",
       "5. and\n",
       "   core type: Literal\n",
       "   sub-expressions: \n",
       "6. (a in Complex, b in Complex)\n",
       "   core type: ExprTuple\n",
       "   sub-expressions: 9, 10\n",
       "7. -(a + b)\n",
       "   core type: Operation\n",
       "   operator: 23\n",
       "   operand: 16\n",
       "8. -a - b\n",
       "   core type: Operation\n",
       "   operator: 20\n",
       "   operands: 12\n",
       "9. a in Complex\n",
       "   core type: Operation\n",
       "   operator: 14\n",
       "   operands: 13\n",
       "10. b in Complex\n",
       "    core type: Operation\n",
       "    operator: 14\n",
       "    operands: 15\n",
       "11. (a + b)\n",
       "    core type: ExprTuple\n",
       "    sub-expressions: 16\n",
       "12. (-a, -b)\n",
       "    core type: ExprTuple\n",
       "    sub-expressions: 17, 18\n",
       "13. (a, Complex)\n",
       "    core type: ExprTuple\n",
       "    sub-expressions: 25, 19\n",
       "14. in\n",
       "    core type: Literal\n",
       "    sub-expressions: \n",
       "15. (b, Complex)\n",
       "    core type: ExprTuple\n",
       "    sub-expressions: 26, 19\n",
       "16. a + b\n",
       "    core type: Operation\n",
       "    operator: 20\n",
       "    operands: 21\n",
       "17. -a\n",
       "    core type: Operation\n",
       "    operator: 23\n",
       "    operand: 25\n",
       "18. -b\n",
       "    core type: Operation\n",
       "    operator: 23\n",
       "    operand: 26\n",
       "19. Complex\n",
       "    core type: Literal\n",
       "    sub-expressions: \n",
       "20. +\n",
       "    core type: Literal\n",
       "    sub-expressions: \n",
       "21. (a, b)\n",
       "    core type: ExprTuple\n",
       "    sub-expressions: 25, 26\n",
       "22. (a)\n",
       "    core type: ExprTuple\n",
       "    sub-expressions: 25\n",
       "23. -\n",
       "    core type: Literal\n",
       "    sub-expressions: \n",
       "24. (b)\n",
       "    core type: ExprTuple\n",
       "    sub-expressions: 26\n",
       "25. a\n",
       "    core type: Variable\n",
       "    sub-expressions: \n",
       "26. b\n",
       "    core type: Variable\n",
       "    sub-expressions: "
      ]
     },
     "execution_count": 6,
     "metadata": {},
     "output_type": "execute_result"
    }
   ],
   "source": [
    "# display the expression information\n",
    "expr.expr_info()"
   ]
  },
  {
   "cell_type": "code",
   "execution_count": null,
   "metadata": {},
   "outputs": [],
   "source": []
  }
 ],
 "metadata": {
  "kernelspec": {
   "display_name": "Python 3",
   "language": "python",
   "name": "python3"
  }
 },
 "nbformat": 4,
 "nbformat_minor": 0
}