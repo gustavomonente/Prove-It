{
 "cells": [
  {
   "cell_type": "markdown",
   "metadata": {},
   "source": [
    "Expression of type <a class=\"ProveItLink\" href=\"../../../../../../../doc/html/api/proveit.logic.Equals.html\">Equals</a>\n",
    "=======================\n",
    "# from the theory of <a class=\"ProveItLink\" href=\"../../../_theory_nbs_/theory.ipynb\">proveit.numbers.exponentiation</a>"
   ]
  },
  {
   "cell_type": "code",
   "execution_count": 1,
   "metadata": {},
   "outputs": [],
   "source": [
    "import proveit\n",
    "# Automation is not needed when building an expression:\n",
    "proveit.defaults.automation = False # This will speed things up.\n",
    "proveit.defaults.inline_pngs = False # Makes files smaller.\n",
    "%load_expr # Load the stored expression as 'stored_expr'\n",
    "# import Expression classes needed to build the expression\n",
    "from proveit import a_star, b_star\n",
    "from proveit.logic import Equals\n",
    "from proveit.numbers import Mult, frac, one"
   ]
  },
  {
   "cell_type": "code",
   "execution_count": 2,
   "metadata": {},
   "outputs": [
    {
     "data": {
      "text/html": [
       "<strong id=\"expr\">expr:</strong> <a class=\"ProveItLink\" href=\"expr.ipynb\"><img src=\"expr.png\" style=\"display:inline;vertical-align:middle;\" /></a><br>"
      ],
      "text/plain": [
       "expr: ((a_star / (1 * b_star)) * ((b_star * 1) / 1)) = ((a_star / b_star) * ((b_star * 1) / 1))"
      ]
     },
     "execution_count": 2,
     "metadata": {},
     "output_type": "execute_result"
    }
   ],
   "source": [
    "# build up the expression from sub-expressions\n",
    "sub_expr1 = frac(Mult(b_star, one), one)\n",
    "expr = Equals(Mult(frac(a_star, Mult(one, b_star)), sub_expr1), Mult(frac(a_star, b_star), sub_expr1))"
   ]
  },
  {
   "cell_type": "code",
   "execution_count": 3,
   "metadata": {},
   "outputs": [
    {
     "name": "stdout",
     "output_type": "stream",
     "text": [
      "Passed sanity check: expr matches stored_expr\n"
     ]
    }
   ],
   "source": [
    "# check that the built expression is the same as the stored expression\n",
    "assert expr == stored_expr\n",
    "assert expr._style_id == stored_expr._style_id\n",
    "print(\"Passed sanity check: expr matches stored_expr\")"
   ]
  },
  {
   "cell_type": "code",
   "execution_count": 4,
   "metadata": {},
   "outputs": [
    {
     "name": "stdout",
     "output_type": "stream",
     "text": [
      "\\left(\\frac{a^*}{1 \\cdot b^*} \\cdot \\frac{b^* \\cdot 1}{1}\\right) = \\left(\\frac{a^*}{b^*} \\cdot \\frac{b^* \\cdot 1}{1}\\right)\n"
     ]
    }
   ],
   "source": [
    "# Show the LaTeX representation of the expression for convenience if you need it.\n",
    "print(expr.latex())"
   ]
  },
  {
   "cell_type": "code",
   "execution_count": 5,
   "metadata": {},
   "outputs": [
    {
     "data": {
      "text/html": [
       "<table><tr><th>&nbsp;</th><th>core type</th><th>sub-expressions</th><th>expression</th></tr>\n",
       "<tr><td>0</td><td>Operation</td><td>operator:&nbsp;1<br>operands:&nbsp;2<br></td><td><a class=\"ProveItLink\" href=\"expr.ipynb\"><img src=\"expr.png\" style=\"display:inline;vertical-align:middle;\" /></a></td></tr>\n",
       "<tr><td>1</td><td>Literal</td><td></td><td><a class=\"ProveItLink\" href=\"../../../../../logic/equality/__pv_it/common/fb96dc12b2aa8801dda64d0132b396c63d1502bb0/expr.ipynb\"><img src=\"../../../../../logic/equality/__pv_it/common/fb96dc12b2aa8801dda64d0132b396c63d1502bb0/expr.png\" style=\"display:inline;vertical-align:middle;\" /></a></td></tr>\n",
       "<tr><td>2</td><td>ExprTuple</td><td>3, 4</td><td><a class=\"ProveItLink\" href=\"../b2d462b94581bbab08a0c0d6f79239213bfc6c1d0/expr.ipynb\"><img src=\"../b2d462b94581bbab08a0c0d6f79239213bfc6c1d0/expr.png\" style=\"display:inline;vertical-align:middle;\" /></a></td></tr>\n",
       "<tr><td>3</td><td>Operation</td><td>operator:&nbsp;18<br>operands:&nbsp;5<br></td><td><a class=\"ProveItLink\" href=\"../9df40ce33302fa5c5d4794c9842abdabf9c8fad90/expr.ipynb\"><img src=\"../9df40ce33302fa5c5d4794c9842abdabf9c8fad90/expr.png\" style=\"display:inline;vertical-align:middle;\" /></a></td></tr>\n",
       "<tr><td>4</td><td>Operation</td><td>operator:&nbsp;18<br>operands:&nbsp;6<br></td><td><a class=\"ProveItLink\" href=\"../524ebf6e114822a5aef10e1363154abd5337e1350/expr.ipynb\"><img src=\"../524ebf6e114822a5aef10e1363154abd5337e1350/expr.png\" style=\"display:inline;vertical-align:middle;\" /></a></td></tr>\n",
       "<tr><td>5</td><td>ExprTuple</td><td>7, 9</td><td><a class=\"ProveItLink\" href=\"../9f6e6be02c12929b13c2932363be8a4b31076dbf0/expr.ipynb\"><img src=\"../9f6e6be02c12929b13c2932363be8a4b31076dbf0/expr.png\" style=\"display:inline;vertical-align:middle;\" /></a></td></tr>\n",
       "<tr><td>6</td><td>ExprTuple</td><td>8, 9</td><td><a class=\"ProveItLink\" href=\"../ce2635c1823052788d9d1742e48ff793c87ad8ee0/expr.ipynb\"><img src=\"../ce2635c1823052788d9d1742e48ff793c87ad8ee0/expr.png\" style=\"display:inline;vertical-align:middle;\" /></a></td></tr>\n",
       "<tr><td>7</td><td>Operation</td><td>operator:&nbsp;12<br>operands:&nbsp;10<br></td><td><a class=\"ProveItLink\" href=\"../9dbac0779aaf3955a339e9b26923b4baa47ff0c10/expr.ipynb\"><img src=\"../9dbac0779aaf3955a339e9b26923b4baa47ff0c10/expr.png\" style=\"display:inline;vertical-align:middle;\" /></a></td></tr>\n",
       "<tr><td>8</td><td>Operation</td><td>operator:&nbsp;12<br>operands:&nbsp;11<br></td><td><a class=\"ProveItLink\" href=\"../08a74b05caca8d95f52063e925a5af1c6a0a2e580/expr.ipynb\"><img src=\"../08a74b05caca8d95f52063e925a5af1c6a0a2e580/expr.png\" style=\"display:inline;vertical-align:middle;\" /></a></td></tr>\n",
       "<tr><td>9</td><td>Operation</td><td>operator:&nbsp;12<br>operands:&nbsp;13<br></td><td><a class=\"ProveItLink\" href=\"../cd6790de53f0c2dd576eb79b54123e23fdb4964b0/expr.ipynb\"><img src=\"../cd6790de53f0c2dd576eb79b54123e23fdb4964b0/expr.png\" style=\"display:inline;vertical-align:middle;\" /></a></td></tr>\n",
       "<tr><td>10</td><td>ExprTuple</td><td>15, 14</td><td><a class=\"ProveItLink\" href=\"../85cde8a8b4c6862b152060ec251d96b2b978724c0/expr.ipynb\"><img src=\"../85cde8a8b4c6862b152060ec251d96b2b978724c0/expr.png\" style=\"display:inline;vertical-align:middle;\" /></a></td></tr>\n",
       "<tr><td>11</td><td>ExprTuple</td><td>15, 20</td><td><a class=\"ProveItLink\" href=\"../b5c34beb93fce8747df8bfe5a4b47470146e02980/expr.ipynb\"><img src=\"../b5c34beb93fce8747df8bfe5a4b47470146e02980/expr.png\" style=\"display:inline;vertical-align:middle;\" /></a></td></tr>\n",
       "<tr><td>12</td><td>Literal</td><td></td><td><a class=\"ProveItLink\" href=\"../../../../division/__pv_it/common/a2a633e1e3c749fb1f2692466b287b6348c5de840/expr.ipynb\"><img src=\"../../../../division/__pv_it/common/a2a633e1e3c749fb1f2692466b287b6348c5de840/expr.png\" style=\"display:inline;vertical-align:middle;\" /></a></td></tr>\n",
       "<tr><td>13</td><td>ExprTuple</td><td>16, 21</td><td><a class=\"ProveItLink\" href=\"../95179b3c79a33b78c83f75ea36c908361d67d8d80/expr.ipynb\"><img src=\"../95179b3c79a33b78c83f75ea36c908361d67d8d80/expr.png\" style=\"display:inline;vertical-align:middle;\" /></a></td></tr>\n",
       "<tr><td>14</td><td>Operation</td><td>operator:&nbsp;18<br>operands:&nbsp;17<br></td><td><a class=\"ProveItLink\" href=\"../bd4ad0f5b0e9c375ce3c257fdc1851da428508e80/expr.ipynb\"><img src=\"../bd4ad0f5b0e9c375ce3c257fdc1851da428508e80/expr.png\" style=\"display:inline;vertical-align:middle;\" /></a></td></tr>\n",
       "<tr><td>15</td><td>Variable</td><td></td><td><a class=\"ProveItLink\" href=\"../../../../../__pv_it/common/e349d8b9811fc4815d5c4ac2a2c8ce6dc1c72b810/expr.ipynb\"><img src=\"../../../../../__pv_it/common/e349d8b9811fc4815d5c4ac2a2c8ce6dc1c72b810/expr.png\" style=\"display:inline;vertical-align:middle;\" /></a></td></tr>\n",
       "<tr><td>16</td><td>Operation</td><td>operator:&nbsp;18<br>operands:&nbsp;19<br></td><td><a class=\"ProveItLink\" href=\"../61fe3c3554d6a0b9749afea47df60f04dbaea0010/expr.ipynb\"><img src=\"../61fe3c3554d6a0b9749afea47df60f04dbaea0010/expr.png\" style=\"display:inline;vertical-align:middle;\" /></a></td></tr>\n",
       "<tr><td>17</td><td>ExprTuple</td><td>21, 20</td><td><a class=\"ProveItLink\" href=\"../f0697ddcde015db69fbc425054fb74388af1006e0/expr.ipynb\"><img src=\"../f0697ddcde015db69fbc425054fb74388af1006e0/expr.png\" style=\"display:inline;vertical-align:middle;\" /></a></td></tr>\n",
       "<tr><td>18</td><td>Literal</td><td></td><td><a class=\"ProveItLink\" href=\"../../../../multiplication/__pv_it/common/ed719cef37831779c16481533a4d380a2f95ab270/expr.ipynb\"><img src=\"../../../../multiplication/__pv_it/common/ed719cef37831779c16481533a4d380a2f95ab270/expr.png\" style=\"display:inline;vertical-align:middle;\" /></a></td></tr>\n",
       "<tr><td>19</td><td>ExprTuple</td><td>20, 21</td><td><a class=\"ProveItLink\" href=\"../6c4190b2141c9529b5420bfc9c8dd655fb8e63eb0/expr.ipynb\"><img src=\"../6c4190b2141c9529b5420bfc9c8dd655fb8e63eb0/expr.png\" style=\"display:inline;vertical-align:middle;\" /></a></td></tr>\n",
       "<tr><td>20</td><td>Variable</td><td></td><td><a class=\"ProveItLink\" href=\"../../../../../__pv_it/common/281d2eb0db6955ce1407fdff5e3dac678f8fa58c0/expr.ipynb\"><img src=\"../../../../../__pv_it/common/281d2eb0db6955ce1407fdff5e3dac678f8fa58c0/expr.png\" style=\"display:inline;vertical-align:middle;\" /></a></td></tr>\n",
       "<tr><td>21</td><td>Literal</td><td></td><td><a class=\"ProveItLink\" href=\"../../../../numerals/__pv_it/common/2778428c7f555b2bdc06aa0530bc142c6e6335100/expr.ipynb\"><img src=\"../../../../numerals/__pv_it/common/2778428c7f555b2bdc06aa0530bc142c6e6335100/expr.png\" style=\"display:inline;vertical-align:middle;\" /></a></td></tr>\n",
       "</table>\n"
      ],
      "text/plain": [
       "0. ((a_star / (1 * b_star)) * ((b_star * 1) / 1)) = ((a_star / b_star) * ((b_star * 1) / 1))\n",
       "   core type: Operation\n",
       "   operator: 1\n",
       "   operands: 2\n",
       "1. =\n",
       "   core type: Literal\n",
       "   sub-expressions: \n",
       "2. ((a_star / (1 * b_star)) * ((b_star * 1) / 1), (a_star / b_star) * ((b_star * 1) / 1))\n",
       "   core type: ExprTuple\n",
       "   sub-expressions: 3, 4\n",
       "3. (a_star / (1 * b_star)) * ((b_star * 1) / 1)\n",
       "   core type: Operation\n",
       "   operator: 18\n",
       "   operands: 5\n",
       "4. (a_star / b_star) * ((b_star * 1) / 1)\n",
       "   core type: Operation\n",
       "   operator: 18\n",
       "   operands: 6\n",
       "5. (a_star / (1 * b_star), (b_star * 1) / 1)\n",
       "   core type: ExprTuple\n",
       "   sub-expressions: 7, 9\n",
       "6. (a_star / b_star, (b_star * 1) / 1)\n",
       "   core type: ExprTuple\n",
       "   sub-expressions: 8, 9\n",
       "7. a_star / (1 * b_star)\n",
       "   core type: Operation\n",
       "   operator: 12\n",
       "   operands: 10\n",
       "8. a_star / b_star\n",
       "   core type: Operation\n",
       "   operator: 12\n",
       "   operands: 11\n",
       "9. (b_star * 1) / 1\n",
       "   core type: Operation\n",
       "   operator: 12\n",
       "   operands: 13\n",
       "10. (a_star, 1 * b_star)\n",
       "    core type: ExprTuple\n",
       "    sub-expressions: 15, 14\n",
       "11. (a_star, b_star)\n",
       "    core type: ExprTuple\n",
       "    sub-expressions: 15, 20\n",
       "12. /\n",
       "    core type: Literal\n",
       "    sub-expressions: \n",
       "13. (b_star * 1, 1)\n",
       "    core type: ExprTuple\n",
       "    sub-expressions: 16, 21\n",
       "14. 1 * b_star\n",
       "    core type: Operation\n",
       "    operator: 18\n",
       "    operands: 17\n",
       "15. a_star\n",
       "    core type: Variable\n",
       "    sub-expressions: \n",
       "16. b_star * 1\n",
       "    core type: Operation\n",
       "    operator: 18\n",
       "    operands: 19\n",
       "17. (1, b_star)\n",
       "    core type: ExprTuple\n",
       "    sub-expressions: 21, 20\n",
       "18. *\n",
       "    core type: Literal\n",
       "    sub-expressions: \n",
       "19. (b_star, 1)\n",
       "    core type: ExprTuple\n",
       "    sub-expressions: 20, 21\n",
       "20. b_star\n",
       "    core type: Variable\n",
       "    sub-expressions: \n",
       "21. 1\n",
       "    core type: Literal\n",
       "    sub-expressions: "
      ]
     },
     "execution_count": 5,
     "metadata": {},
     "output_type": "execute_result"
    }
   ],
   "source": [
    "# display the expression information\n",
    "expr.expr_info()"
   ]
  },
  {
   "cell_type": "code",
   "execution_count": null,
   "metadata": {},
   "outputs": [],
   "source": []
  }
 ],
 "metadata": {
  "kernelspec": {
   "display_name": "Python 3",
   "language": "python",
   "name": "python3"
  }
 },
 "nbformat": 4,
 "nbformat_minor": 0
}