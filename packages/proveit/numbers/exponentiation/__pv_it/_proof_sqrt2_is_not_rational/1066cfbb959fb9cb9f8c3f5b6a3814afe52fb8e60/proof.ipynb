{
 "cells": [
  {
   "cell_type": "markdown",
   "metadata": {},
   "source": [
    "Show the Proof\n",
    "========"
   ]
  },
  {
   "cell_type": "code",
   "execution_count": 1,
   "metadata": {},
   "outputs": [
    {
     "data": {
      "text/html": [
       "<table><tr><th>&nbsp;</th><th>step type</th><th>requirements</th><th>statement</th></tr>\n",
       "<tr><td><a name=\"proveit.numbers.exponentiation._proof_sqrt2_is_not_rational.1066cfbb959fb9cb9f8c3f5b6a3814afe52fb8e60_step0\">0</a></td><td>instantiation</td><td><a href=\"#proveit.numbers.exponentiation._proof_sqrt2_is_not_rational.1066cfbb959fb9cb9f8c3f5b6a3814afe52fb8e60_step1\">1</a>, <a href=\"#proveit.numbers.exponentiation._proof_sqrt2_is_not_rational.1066cfbb959fb9cb9f8c3f5b6a3814afe52fb8e60_step2\">2</a>, <a href=\"#proveit.numbers.exponentiation._proof_sqrt2_is_not_rational.1066cfbb959fb9cb9f8c3f5b6a3814afe52fb8e60_step3\">3</a>, <a href=\"#proveit.numbers.exponentiation._proof_sqrt2_is_not_rational.1066cfbb959fb9cb9f8c3f5b6a3814afe52fb8e60_step4\">4</a></td><td><span style=\"font-size:20px;\"><a class=\"ProveItLink\" href=\"../24439e1b3c8f2e02f553c9a237ae8cb4e9f913000/expr.ipynb\"><img src=\"../24439e1b3c8f2e02f553c9a237ae8cb4e9f913000/expr.png\" style=\"display:inline;vertical-align:middle;\" /></a>, <a class=\"ProveItLink\" href=\"../012d9b989508dc246b56cb1ab20be47f185129710/expr.ipynb\"><img src=\"../012d9b989508dc246b56cb1ab20be47f185129710/expr.png\" style=\"display:inline;vertical-align:middle;\" /></a>, <a class=\"ProveItLink\" href=\"../39f8b69d4b531d18a9d54e87feffd59aad75062e0/expr.ipynb\"><img src=\"../39f8b69d4b531d18a9d54e87feffd59aad75062e0/expr.png\" style=\"display:inline;vertical-align:middle;\" /></a> <a class=\"ProveItLink\" href=\"proof.ipynb\" style=\"text-decoration: none\">&nbsp;&#x22A2;&nbsp;&nbsp;</a><a class=\"ProveItLink\" href=\"../094c027d47d499b2ba4bb18ffe2965b90647b9df0/expr.ipynb\"><img src=\"../094c027d47d499b2ba4bb18ffe2965b90647b9df0/expr.png\" style=\"display:inline;vertical-align:middle;\" /></a></span></td></tr>\n",
       "<tr><td>&nbsp;</td><td colspan=4 style=\"text-align:left\"><span style=\"font-size:20px;\"><a class=\"ProveItLink\" href=\"../../../../../__pv_it/common/c06c606ec12678c58933ac85412ecadc2ae28be60/expr.ipynb\"><img src=\"../../../../../__pv_it/common/c06c606ec12678c58933ac85412ecadc2ae28be60/expr.png\" style=\"display:inline;vertical-align:middle;\" /></a> : <a class=\"ProveItLink\" href=\"../../../../../__pv_it/common/e349d8b9811fc4815d5c4ac2a2c8ce6dc1c72b810/expr.ipynb\"><img src=\"../../../../../__pv_it/common/e349d8b9811fc4815d5c4ac2a2c8ce6dc1c72b810/expr.png\" style=\"display:inline;vertical-align:middle;\" /></a>, <a class=\"ProveItLink\" href=\"../../../../../__pv_it/common/195236b98c6c564a75b5dbada74b173bc52d5c3e0/expr.ipynb\"><img src=\"../../../../../__pv_it/common/195236b98c6c564a75b5dbada74b173bc52d5c3e0/expr.png\" style=\"display:inline;vertical-align:middle;\" /></a> : <a class=\"ProveItLink\" href=\"../../../../../__pv_it/common/281d2eb0db6955ce1407fdff5e3dac678f8fa58c0/expr.ipynb\"><img src=\"../../../../../__pv_it/common/281d2eb0db6955ce1407fdff5e3dac678f8fa58c0/expr.png\" style=\"display:inline;vertical-align:middle;\" /></a></span></td></tr><tr><td><a name=\"proveit.numbers.exponentiation._proof_sqrt2_is_not_rational.1066cfbb959fb9cb9f8c3f5b6a3814afe52fb8e60_step1\">1</a></td><td>theorem</td><td></td><td><span style=\"font-size:20px;\"> <a class=\"ProveItLink\" href=\"../../../../divisibility/_theory_nbs_/proofs/GCD_one_def/thm_proof.ipynb\" style=\"text-decoration: none\">&nbsp;&#x22A2;&nbsp;&nbsp;</a><a class=\"ProveItLink\" href=\"../../../../divisibility/__pv_it/theorems/ded144720e13d5f3418d0955add2f3b91709e4800/expr.ipynb\"><img src=\"../../../../divisibility/__pv_it/theorems/ded144720e13d5f3418d0955add2f3b91709e4800/expr.png\" style=\"display:inline;vertical-align:middle;\" /></a></span></td></tr>\n",
       "<tr><td>&nbsp;</td><td colspan=4 style-\"text-align:left\"><a class=\"ProveItLink\" href=\"../../../../divisibility/_theory_nbs_/proofs/GCD_one_def/thm_proof.ipynb\">proveit.numbers.divisibility.GCD_one_def</a></td></tr><tr><td><a name=\"proveit.numbers.exponentiation._proof_sqrt2_is_not_rational.1066cfbb959fb9cb9f8c3f5b6a3814afe52fb8e60_step2\">2</a></td><td>assumption</td><td></td><td><span style=\"font-size:20px;\"><a class=\"ProveItLink\" href=\"../24439e1b3c8f2e02f553c9a237ae8cb4e9f913000/expr.ipynb\"><img src=\"../24439e1b3c8f2e02f553c9a237ae8cb4e9f913000/expr.png\" style=\"display:inline;vertical-align:middle;\" /></a> <a class=\"ProveItLink\" href=\"../904a1bb5bed16ab5c6453a809d2c2e411db5e5ee0/proof.ipynb\" style=\"text-decoration: none\">&nbsp;&#x22A2;&nbsp;&nbsp;</a><a class=\"ProveItLink\" href=\"../24439e1b3c8f2e02f553c9a237ae8cb4e9f913000/expr.ipynb\"><img src=\"../24439e1b3c8f2e02f553c9a237ae8cb4e9f913000/expr.png\" style=\"display:inline;vertical-align:middle;\" /></a></span></td></tr>\n",
       "<tr><td><a name=\"proveit.numbers.exponentiation._proof_sqrt2_is_not_rational.1066cfbb959fb9cb9f8c3f5b6a3814afe52fb8e60_step3\">3</a></td><td>assumption</td><td></td><td><span style=\"font-size:20px;\"><a class=\"ProveItLink\" href=\"../012d9b989508dc246b56cb1ab20be47f185129710/expr.ipynb\"><img src=\"../012d9b989508dc246b56cb1ab20be47f185129710/expr.png\" style=\"display:inline;vertical-align:middle;\" /></a> <a class=\"ProveItLink\" href=\"../dd6b3c1a14c2e517982001374b637354d2a533c00/proof.ipynb\" style=\"text-decoration: none\">&nbsp;&#x22A2;&nbsp;&nbsp;</a><a class=\"ProveItLink\" href=\"../012d9b989508dc246b56cb1ab20be47f185129710/expr.ipynb\"><img src=\"../012d9b989508dc246b56cb1ab20be47f185129710/expr.png\" style=\"display:inline;vertical-align:middle;\" /></a></span></td></tr>\n",
       "<tr><td><a name=\"proveit.numbers.exponentiation._proof_sqrt2_is_not_rational.1066cfbb959fb9cb9f8c3f5b6a3814afe52fb8e60_step4\">4</a></td><td>instantiation</td><td><a href=\"#proveit.numbers.exponentiation._proof_sqrt2_is_not_rational.1066cfbb959fb9cb9f8c3f5b6a3814afe52fb8e60_step5\">5</a>, <a href=\"#proveit.numbers.exponentiation._proof_sqrt2_is_not_rational.1066cfbb959fb9cb9f8c3f5b6a3814afe52fb8e60_step6\">6</a></td><td><span style=\"font-size:20px;\"><a class=\"ProveItLink\" href=\"../39f8b69d4b531d18a9d54e87feffd59aad75062e0/expr.ipynb\"><img src=\"../39f8b69d4b531d18a9d54e87feffd59aad75062e0/expr.png\" style=\"display:inline;vertical-align:middle;\" /></a> <a class=\"ProveItLink\" href=\"../dda8b8821d3ff150373c67e4469d6a1a5bc45d370/proof.ipynb\" style=\"text-decoration: none\">&nbsp;&#x22A2;&nbsp;&nbsp;</a><a class=\"ProveItLink\" href=\"../2db9f6db42a9c3951ab2dc857b7c2a278616cc190/expr.ipynb\"><img src=\"../2db9f6db42a9c3951ab2dc857b7c2a278616cc190/expr.png\" style=\"display:inline;vertical-align:middle;\" /></a></span></td></tr>\n",
       "<tr><td>&nbsp;</td><td colspan=4 style=\"text-align:left\"><span style=\"font-size:20px;\"><a class=\"ProveItLink\" href=\"../../../../../__pv_it/common/09585084922504426caf1db2ff588a23a0932a960/expr.ipynb\"><img src=\"../../../../../__pv_it/common/09585084922504426caf1db2ff588a23a0932a960/expr.png\" style=\"display:inline;vertical-align:middle;\" /></a> : <a class=\"ProveItLink\" href=\"../16f15b6714d01cf4524cf698eeb270709e1901e10/expr.ipynb\"><img src=\"../16f15b6714d01cf4524cf698eeb270709e1901e10/expr.png\" style=\"display:inline;vertical-align:middle;\" /></a>, <a class=\"ProveItLink\" href=\"../../../../../__pv_it/common/a9162d1c3cc0470c02e5daf414500903a7a419230/expr.ipynb\"><img src=\"../../../../../__pv_it/common/a9162d1c3cc0470c02e5daf414500903a7a419230/expr.png\" style=\"display:inline;vertical-align:middle;\" /></a> : <a class=\"ProveItLink\" href=\"../2db9f6db42a9c3951ab2dc857b7c2a278616cc190/expr.ipynb\"><img src=\"../2db9f6db42a9c3951ab2dc857b7c2a278616cc190/expr.png\" style=\"display:inline;vertical-align:middle;\" /></a></span></td></tr><tr><td><a name=\"proveit.numbers.exponentiation._proof_sqrt2_is_not_rational.1066cfbb959fb9cb9f8c3f5b6a3814afe52fb8e60_step5\">5</a></td><td>theorem</td><td></td><td><span style=\"font-size:20px;\"> <a class=\"ProveItLink\" href=\"../../../../../logic/booleans/conjunction/_theory_nbs_/proofs/right_from_and/thm_proof.ipynb\" style=\"text-decoration: none\">&nbsp;&#x22A2;&nbsp;&nbsp;</a><a class=\"ProveItLink\" href=\"../../../../../logic/booleans/conjunction/__pv_it/theorems/99b60132ced78c3acf3bbddedfbd9ec829eab93e0/expr.ipynb\"><img src=\"../../../../../logic/booleans/conjunction/__pv_it/theorems/99b60132ced78c3acf3bbddedfbd9ec829eab93e0/expr.png\" style=\"display:inline;vertical-align:middle;\" /></a></span></td></tr>\n",
       "<tr><td>&nbsp;</td><td colspan=4 style-\"text-align:left\"><a class=\"ProveItLink\" href=\"../../../../../logic/booleans/conjunction/_theory_nbs_/proofs/right_from_and/thm_proof.ipynb\">proveit.logic.booleans.conjunction.right_from_and</a></td></tr><tr><td><a name=\"proveit.numbers.exponentiation._proof_sqrt2_is_not_rational.1066cfbb959fb9cb9f8c3f5b6a3814afe52fb8e60_step6\">6</a></td><td>assumption</td><td></td><td><span style=\"font-size:20px;\"><a class=\"ProveItLink\" href=\"../39f8b69d4b531d18a9d54e87feffd59aad75062e0/expr.ipynb\"><img src=\"../39f8b69d4b531d18a9d54e87feffd59aad75062e0/expr.png\" style=\"display:inline;vertical-align:middle;\" /></a> <a class=\"ProveItLink\" href=\"../5736e1a48b5a31e479712caf370749ca16a96de40/proof.ipynb\" style=\"text-decoration: none\">&nbsp;&#x22A2;&nbsp;&nbsp;</a><a class=\"ProveItLink\" href=\"../39f8b69d4b531d18a9d54e87feffd59aad75062e0/expr.ipynb\"><img src=\"../39f8b69d4b531d18a9d54e87feffd59aad75062e0/expr.png\" style=\"display:inline;vertical-align:middle;\" /></a></span></td></tr>\n",
       "</table>"
      ],
      "text/plain": [
       "<proveit._core_.proof._ShowProof at 0x7fca200aaf98>"
      ]
     },
     "execution_count": 1,
     "metadata": {},
     "output_type": "execute_result"
    }
   ],
   "source": [
    "import proveit\n",
    "# Automation is not needed when only showing a stored proof:\n",
    "proveit.defaults.automation = False # This will speed things up.\n",
    "proveit.defaults.inline_pngs = False # Makes files smaller.\n",
    "%show_proof"
   ]
  },
  {
   "cell_type": "code",
   "execution_count": null,
   "metadata": {},
   "outputs": [],
   "source": []
  }
 ],
 "metadata": {
  "kernelspec": {
   "display_name": "Python 3",
   "language": "python",
   "name": "python3"
  }
 },
 "nbformat": 4,
 "nbformat_minor": 0
}