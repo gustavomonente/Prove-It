{
 "cells": [
  {
   "cell_type": "markdown",
   "metadata": {},
   "source": [
    "Show the Proof\n",
    "========"
   ]
  },
  {
   "cell_type": "code",
   "execution_count": 1,
   "metadata": {},
   "outputs": [
    {
     "data": {
      "text/html": [
       "<table><tr><th>&nbsp;</th><th>step type</th><th>requirements</th><th>statement</th></tr>\n",
       "<tr><td><a name=\"proveit.numbers.exponentiation._proof_sqrt2_is_not_rational.91d18d836737e66942c3716dd856290654f6bdea0_step0\">0</a></td><td>instantiation</td><td><a href=\"#proveit.numbers.exponentiation._proof_sqrt2_is_not_rational.91d18d836737e66942c3716dd856290654f6bdea0_step1\">1</a>, <a href=\"#proveit.numbers.exponentiation._proof_sqrt2_is_not_rational.91d18d836737e66942c3716dd856290654f6bdea0_step2\">2</a></td><td><span style=\"font-size:20px;\"><a class=\"ProveItLink\" href=\"../1b85961d317e393b6f0795dc2385d7ede77e35700/expr.ipynb\"><img src=\"../1b85961d317e393b6f0795dc2385d7ede77e35700/expr.png\" style=\"display:inline;vertical-align:middle;\" /></a> <a class=\"ProveItLink\" href=\"proof.ipynb\" style=\"text-decoration: none\">&nbsp;&#x22A2;&nbsp;&nbsp;</a><a class=\"ProveItLink\" href=\"../52963bc370da1019c9c58ce2570f436e4a53b90d0/expr.ipynb\"><img src=\"../52963bc370da1019c9c58ce2570f436e4a53b90d0/expr.png\" style=\"display:inline;vertical-align:middle;\" /></a></span></td></tr>\n",
       "<tr><td>&nbsp;</td><td colspan=4 style=\"text-align:left\"><span style=\"font-size:20px;\"><a class=\"ProveItLink\" href=\"../../../../../__pv_it/common/66c90e66682f107a881f2d666959f64e2e72ad750/expr.ipynb\"><img src=\"../../../../../__pv_it/common/66c90e66682f107a881f2d666959f64e2e72ad750/expr.png\" style=\"display:inline;vertical-align:middle;\" /></a> : <a class=\"ProveItLink\" href=\"../../theorems/9ccea0bf9924d784d16d785c4b47403104322e9d0/expr.ipynb\"><img src=\"../../theorems/9ccea0bf9924d784d16d785c4b47403104322e9d0/expr.png\" style=\"display:inline;vertical-align:middle;\" /></a></span></td></tr><tr><td><a name=\"proveit.numbers.exponentiation._proof_sqrt2_is_not_rational.91d18d836737e66942c3716dd856290654f6bdea0_step1\">1</a></td><td>theorem</td><td></td><td><span style=\"font-size:20px;\"> <a class=\"ProveItLink\" href=\"../../../_theory_nbs_/proofs/square_abs_rational_simp/thm_proof.ipynb\" style=\"text-decoration: none\">&nbsp;&#x22A2;&nbsp;&nbsp;</a><a class=\"ProveItLink\" href=\"../../theorems/2bae23b39e4da85041aef4ca57d29f753c74a82f0/expr.ipynb\"><img src=\"../../theorems/2bae23b39e4da85041aef4ca57d29f753c74a82f0/expr.png\" style=\"display:inline;vertical-align:middle;\" /></a></span></td></tr>\n",
       "<tr><td>&nbsp;</td><td colspan=4 style-\"text-align:left\"><a class=\"ProveItLink\" href=\"../../../_theory_nbs_/proofs/square_abs_rational_simp/thm_proof.ipynb\">proveit.numbers.exponentiation.square_abs_rational_simp</a></td></tr><tr><td><a name=\"proveit.numbers.exponentiation._proof_sqrt2_is_not_rational.91d18d836737e66942c3716dd856290654f6bdea0_step2\">2</a></td><td>assumption</td><td></td><td><span style=\"font-size:20px;\"><a class=\"ProveItLink\" href=\"../1b85961d317e393b6f0795dc2385d7ede77e35700/expr.ipynb\"><img src=\"../1b85961d317e393b6f0795dc2385d7ede77e35700/expr.png\" style=\"display:inline;vertical-align:middle;\" /></a> <a class=\"ProveItLink\" href=\"../c9e8686dde9e579fcfd4ae914dc3083a119f6b2c0/proof.ipynb\" style=\"text-decoration: none\">&nbsp;&#x22A2;&nbsp;&nbsp;</a><a class=\"ProveItLink\" href=\"../1b85961d317e393b6f0795dc2385d7ede77e35700/expr.ipynb\"><img src=\"../1b85961d317e393b6f0795dc2385d7ede77e35700/expr.png\" style=\"display:inline;vertical-align:middle;\" /></a></span></td></tr>\n",
       "</table>"
      ],
      "text/plain": [
       "<proveit._core_.proof._ShowProof at 0x7f5f2d397080>"
      ]
     },
     "execution_count": 1,
     "metadata": {},
     "output_type": "execute_result"
    }
   ],
   "source": [
    "import proveit\n",
    "# Automation is not needed when only showing a stored proof:\n",
    "proveit.defaults.automation = False # This will speed things up.\n",
    "proveit.defaults.inline_pngs = False # Makes files smaller.\n",
    "%show_proof"
   ]
  },
  {
   "cell_type": "code",
   "execution_count": null,
   "metadata": {},
   "outputs": [],
   "source": []
  }
 ],
 "metadata": {
  "kernelspec": {
   "display_name": "Python 3",
   "language": "python",
   "name": "python3"
  },
  "language_info": {
   "codemirror_mode": {
    "name": "ipython",
    "version": 3
   },
   "file_extension": ".py",
   "mimetype": "text/x-python",
   "name": "python",
   "nbconvert_exporter": "python",
   "pygments_lexer": "ipython3",
   "version": "3.7.3"
  }
 },
 "nbformat": 4,
 "nbformat_minor": 1
}