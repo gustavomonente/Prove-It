{
 "cells": [
  {
   "cell_type": "markdown",
   "metadata": {},
   "source": [
    "Expression of type <a class=\"ProveItLink\" href=\"../../../../../../../doc/html/api/proveit.ExprTuple.html\">ExprTuple</a>\n",
    "=======================\n",
    "# from the theory of <a class=\"ProveItLink\" href=\"../../../_theory_nbs_/theory.ipynb\">proveit.numbers.exponentiation</a>"
   ]
  },
  {
   "cell_type": "code",
   "execution_count": 1,
   "metadata": {},
   "outputs": [],
   "source": [
    "import proveit\n",
    "# Automation is not needed when building an expression:\n",
    "proveit.defaults.automation = False # This will speed things up.\n",
    "proveit.defaults.inline_pngs = False # Makes files smaller.\n",
    "%load_expr # Load the stored expression as 'stored_expr'\n",
    "# import Expression classes needed to build the expression\n",
    "from proveit import ExprTuple, a_star, b_star\n",
    "from proveit.numbers import Mult, frac, one"
   ]
  },
  {
   "cell_type": "code",
   "execution_count": 2,
   "metadata": {},
   "outputs": [
    {
     "data": {
      "text/html": [
       "<strong id=\"expr\">expr:</strong> <a class=\"ProveItLink\" href=\"expr.ipynb\"><img src=\"expr.png\" style=\"display:inline;vertical-align:middle;\" /></a><br>"
      ],
      "text/plain": [
       "expr: ((a_star / (1 * b_star)) * ((b_star * 1) / 1), (a_star / b_star) * b_star)"
      ]
     },
     "execution_count": 2,
     "metadata": {},
     "output_type": "execute_result"
    }
   ],
   "source": [
    "# build up the expression from sub-expressions\n",
    "expr = ExprTuple(Mult(frac(a_star, Mult(one, b_star)), frac(Mult(b_star, one), one)), Mult(frac(a_star, b_star), b_star))"
   ]
  },
  {
   "cell_type": "code",
   "execution_count": 3,
   "metadata": {},
   "outputs": [
    {
     "name": "stdout",
     "output_type": "stream",
     "text": [
      "Passed sanity check: expr matches stored_expr\n"
     ]
    }
   ],
   "source": [
    "# check that the built expression is the same as the stored expression\n",
    "assert expr == stored_expr\n",
    "assert expr._style_id == stored_expr._style_id\n",
    "print(\"Passed sanity check: expr matches stored_expr\")"
   ]
  },
  {
   "cell_type": "code",
   "execution_count": 4,
   "metadata": {},
   "outputs": [
    {
     "name": "stdout",
     "output_type": "stream",
     "text": [
      "\\left(\\frac{a^*}{1 \\cdot b^*} \\cdot \\frac{b^* \\cdot 1}{1}, \\frac{a^*}{b^*} \\cdot b^*\\right)\n"
     ]
    }
   ],
   "source": [
    "# Show the LaTeX representation of the expression for convenience if you need it.\n",
    "print(expr.latex())"
   ]
  },
  {
   "cell_type": "code",
   "execution_count": 5,
   "metadata": {},
   "outputs": [
    {
     "data": {
      "text/html": [
       "<table>\n",
       "<tr><th>name</th><th>description</th><th>default</th><th>current value</th><th>related methods</th></tr><tr><td>wrap_positions</td><td>position(s) at which wrapping is to occur; 'n' is after the nth comma.</td><td>()</td><td>()</td><td>('with_wrapping_at',)</td></tr>\n",
       "<tr><td>justification</td><td>if any wrap positions are set, justify to the 'left', 'center', or 'right'</td><td>left</td><td>left</td><td>('with_justification',)</td></tr>\n",
       "</table>\n"
      ],
      "text/plain": [
       "style name: wrap_positions\n",
       "description: position(s) at which wrapping is to occur; 'n' is after the nth comma.\n",
       "default: ()\n",
       "current value: ()\n",
       "related methods: ('with_wrapping_at',)\n",
       "style name: justification\n",
       "description: if any wrap positions are set, justify to the 'left', 'center', or 'right'\n",
       "default: left\n",
       "current value: left\n",
       "related methods: ('with_justification',)"
      ]
     },
     "execution_count": 5,
     "metadata": {},
     "output_type": "execute_result"
    }
   ],
   "source": [
    "expr.style_options()"
   ]
  },
  {
   "cell_type": "code",
   "execution_count": 6,
   "metadata": {},
   "outputs": [
    {
     "data": {
      "text/html": [
       "<table><tr><th>&nbsp;</th><th>core type</th><th>sub-expressions</th><th>expression</th></tr>\n",
       "<tr><td>0</td><td>ExprTuple</td><td>1, 2</td><td><a class=\"ProveItLink\" href=\"expr.ipynb\"><img src=\"expr.png\" style=\"display:inline;vertical-align:middle;\" /></a></td></tr>\n",
       "<tr><td>1</td><td>Operation</td><td>operator:&nbsp;16<br>operands:&nbsp;3<br></td><td><a class=\"ProveItLink\" href=\"../9fe790ec32cf8ad22679c3fa9e6cde3514457db00/expr.ipynb\"><img src=\"../9fe790ec32cf8ad22679c3fa9e6cde3514457db00/expr.png\" style=\"display:inline;vertical-align:middle;\" /></a></td></tr>\n",
       "<tr><td>2</td><td>Operation</td><td>operator:&nbsp;16<br>operands:&nbsp;4<br></td><td><a class=\"ProveItLink\" href=\"../928eaa3e17ff6b49534ba5c4aae4526a1ff3c8c00/expr.ipynb\"><img src=\"../928eaa3e17ff6b49534ba5c4aae4526a1ff3c8c00/expr.png\" style=\"display:inline;vertical-align:middle;\" /></a></td></tr>\n",
       "<tr><td>3</td><td>ExprTuple</td><td>5, 6</td><td><a class=\"ProveItLink\" href=\"../b735eb452da50c16c7069831e935e920a510dd320/expr.ipynb\"><img src=\"../b735eb452da50c16c7069831e935e920a510dd320/expr.png\" style=\"display:inline;vertical-align:middle;\" /></a></td></tr>\n",
       "<tr><td>4</td><td>ExprTuple</td><td>7, 18</td><td><a class=\"ProveItLink\" href=\"../d011c268c691f82c65a2d58cb297ae9066b83e900/expr.ipynb\"><img src=\"../d011c268c691f82c65a2d58cb297ae9066b83e900/expr.png\" style=\"display:inline;vertical-align:middle;\" /></a></td></tr>\n",
       "<tr><td>5</td><td>Operation</td><td>operator:&nbsp;10<br>operands:&nbsp;8<br></td><td><a class=\"ProveItLink\" href=\"../69019cb2547a739cbd86ccf8ed913fd67cafcfdb0/expr.ipynb\"><img src=\"../69019cb2547a739cbd86ccf8ed913fd67cafcfdb0/expr.png\" style=\"display:inline;vertical-align:middle;\" /></a></td></tr>\n",
       "<tr><td>6</td><td>Operation</td><td>operator:&nbsp;10<br>operands:&nbsp;9<br></td><td><a class=\"ProveItLink\" href=\"../94660148dab00bcd47bb4a6ed95ff76d7fa4f0ff0/expr.ipynb\"><img src=\"../94660148dab00bcd47bb4a6ed95ff76d7fa4f0ff0/expr.png\" style=\"display:inline;vertical-align:middle;\" /></a></td></tr>\n",
       "<tr><td>7</td><td>Operation</td><td>operator:&nbsp;10<br>operands:&nbsp;11<br></td><td><a class=\"ProveItLink\" href=\"../f1370d1a64542d49aab6f582afb27873d25a024c0/expr.ipynb\"><img src=\"../f1370d1a64542d49aab6f582afb27873d25a024c0/expr.png\" style=\"display:inline;vertical-align:middle;\" /></a></td></tr>\n",
       "<tr><td>8</td><td>ExprTuple</td><td>14, 12</td><td><a class=\"ProveItLink\" href=\"../407f4069ebe3aff02b99589cdec6e1b1889a82250/expr.ipynb\"><img src=\"../407f4069ebe3aff02b99589cdec6e1b1889a82250/expr.png\" style=\"display:inline;vertical-align:middle;\" /></a></td></tr>\n",
       "<tr><td>9</td><td>ExprTuple</td><td>13, 19</td><td><a class=\"ProveItLink\" href=\"../875bd88dae16a1508d72dd65d58d71689803f6c30/expr.ipynb\"><img src=\"../875bd88dae16a1508d72dd65d58d71689803f6c30/expr.png\" style=\"display:inline;vertical-align:middle;\" /></a></td></tr>\n",
       "<tr><td>10</td><td>Literal</td><td></td><td><a class=\"ProveItLink\" href=\"../../../../division/__pv_it/common/9ecc1ae47b83f7ed759e5ea63a2023a8f2ab04800/expr.ipynb\"><img src=\"../../../../division/__pv_it/common/9ecc1ae47b83f7ed759e5ea63a2023a8f2ab04800/expr.png\" style=\"display:inline;vertical-align:middle;\" /></a></td></tr>\n",
       "<tr><td>11</td><td>ExprTuple</td><td>14, 18</td><td><a class=\"ProveItLink\" href=\"../b5c34beb93fce8747df8bfe5a4b47470146e02980/expr.ipynb\"><img src=\"../b5c34beb93fce8747df8bfe5a4b47470146e02980/expr.png\" style=\"display:inline;vertical-align:middle;\" /></a></td></tr>\n",
       "<tr><td>12</td><td>Operation</td><td>operator:&nbsp;16<br>operands:&nbsp;15<br></td><td><a class=\"ProveItLink\" href=\"../c6bf7f285dbd3b625ebdb302bfc70570a8762c390/expr.ipynb\"><img src=\"../c6bf7f285dbd3b625ebdb302bfc70570a8762c390/expr.png\" style=\"display:inline;vertical-align:middle;\" /></a></td></tr>\n",
       "<tr><td>13</td><td>Operation</td><td>operator:&nbsp;16<br>operands:&nbsp;17<br></td><td><a class=\"ProveItLink\" href=\"../198666f50e1a1704ba146b45de0f1f45347a0bb90/expr.ipynb\"><img src=\"../198666f50e1a1704ba146b45de0f1f45347a0bb90/expr.png\" style=\"display:inline;vertical-align:middle;\" /></a></td></tr>\n",
       "<tr><td>14</td><td>Variable</td><td></td><td><a class=\"ProveItLink\" href=\"../../../../../__pv_it/common/e349d8b9811fc4815d5c4ac2a2c8ce6dc1c72b810/expr.ipynb\"><img src=\"../../../../../__pv_it/common/e349d8b9811fc4815d5c4ac2a2c8ce6dc1c72b810/expr.png\" style=\"display:inline;vertical-align:middle;\" /></a></td></tr>\n",
       "<tr><td>15</td><td>ExprTuple</td><td>19, 18</td><td><a class=\"ProveItLink\" href=\"../47b20209933243a235c853f82cd926efd334455c0/expr.ipynb\"><img src=\"../47b20209933243a235c853f82cd926efd334455c0/expr.png\" style=\"display:inline;vertical-align:middle;\" /></a></td></tr>\n",
       "<tr><td>16</td><td>Literal</td><td></td><td><a class=\"ProveItLink\" href=\"../../../../multiplication/__pv_it/common/c57d60974865e78d434abd3ff22c405685c80ade0/expr.ipynb\"><img src=\"../../../../multiplication/__pv_it/common/c57d60974865e78d434abd3ff22c405685c80ade0/expr.png\" style=\"display:inline;vertical-align:middle;\" /></a></td></tr>\n",
       "<tr><td>17</td><td>ExprTuple</td><td>18, 19</td><td><a class=\"ProveItLink\" href=\"../5cb565a0454b2eaeb7bf68aed478b331c40324880/expr.ipynb\"><img src=\"../5cb565a0454b2eaeb7bf68aed478b331c40324880/expr.png\" style=\"display:inline;vertical-align:middle;\" /></a></td></tr>\n",
       "<tr><td>18</td><td>Variable</td><td></td><td><a class=\"ProveItLink\" href=\"../../../../../__pv_it/common/281d2eb0db6955ce1407fdff5e3dac678f8fa58c0/expr.ipynb\"><img src=\"../../../../../__pv_it/common/281d2eb0db6955ce1407fdff5e3dac678f8fa58c0/expr.png\" style=\"display:inline;vertical-align:middle;\" /></a></td></tr>\n",
       "<tr><td>19</td><td>Literal</td><td></td><td><a class=\"ProveItLink\" href=\"../../../../numerals/__pv_it/common/d278e359da0695d9652dd541d45264f93703e2e40/expr.ipynb\"><img src=\"../../../../numerals/__pv_it/common/d278e359da0695d9652dd541d45264f93703e2e40/expr.png\" style=\"display:inline;vertical-align:middle;\" /></a></td></tr>\n",
       "</table>\n"
      ],
      "text/plain": [
       "0. ((a_star / (1 * b_star)) * ((b_star * 1) / 1), (a_star / b_star) * b_star)\n",
       "   core type: ExprTuple\n",
       "   sub-expressions: 1, 2\n",
       "1. (a_star / (1 * b_star)) * ((b_star * 1) / 1)\n",
       "   core type: Operation\n",
       "   operator: 16\n",
       "   operands: 3\n",
       "2. (a_star / b_star) * b_star\n",
       "   core type: Operation\n",
       "   operator: 16\n",
       "   operands: 4\n",
       "3. (a_star / (1 * b_star), (b_star * 1) / 1)\n",
       "   core type: ExprTuple\n",
       "   sub-expressions: 5, 6\n",
       "4. (a_star / b_star, b_star)\n",
       "   core type: ExprTuple\n",
       "   sub-expressions: 7, 18\n",
       "5. a_star / (1 * b_star)\n",
       "   core type: Operation\n",
       "   operator: 10\n",
       "   operands: 8\n",
       "6. (b_star * 1) / 1\n",
       "   core type: Operation\n",
       "   operator: 10\n",
       "   operands: 9\n",
       "7. a_star / b_star\n",
       "   core type: Operation\n",
       "   operator: 10\n",
       "   operands: 11\n",
       "8. (a_star, 1 * b_star)\n",
       "   core type: ExprTuple\n",
       "   sub-expressions: 14, 12\n",
       "9. (b_star * 1, 1)\n",
       "   core type: ExprTuple\n",
       "   sub-expressions: 13, 19\n",
       "10. /\n",
       "    core type: Literal\n",
       "    sub-expressions: \n",
       "11. (a_star, b_star)\n",
       "    core type: ExprTuple\n",
       "    sub-expressions: 14, 18\n",
       "12. 1 * b_star\n",
       "    core type: Operation\n",
       "    operator: 16\n",
       "    operands: 15\n",
       "13. b_star * 1\n",
       "    core type: Operation\n",
       "    operator: 16\n",
       "    operands: 17\n",
       "14. a_star\n",
       "    core type: Variable\n",
       "    sub-expressions: \n",
       "15. (1, b_star)\n",
       "    core type: ExprTuple\n",
       "    sub-expressions: 19, 18\n",
       "16. *\n",
       "    core type: Literal\n",
       "    sub-expressions: \n",
       "17. (b_star, 1)\n",
       "    core type: ExprTuple\n",
       "    sub-expressions: 18, 19\n",
       "18. b_star\n",
       "    core type: Variable\n",
       "    sub-expressions: \n",
       "19. 1\n",
       "    core type: Literal\n",
       "    sub-expressions: "
      ]
     },
     "execution_count": 6,
     "metadata": {},
     "output_type": "execute_result"
    }
   ],
   "source": [
    "# display the expression information\n",
    "expr.expr_info()"
   ]
  },
  {
   "cell_type": "code",
   "execution_count": null,
   "metadata": {},
   "outputs": [],
   "source": []
  }
 ],
 "metadata": {
  "kernelspec": {
   "display_name": "Python 3",
   "language": "python",
   "name": "python3"
  }
 },
 "nbformat": 4,
 "nbformat_minor": 0
}