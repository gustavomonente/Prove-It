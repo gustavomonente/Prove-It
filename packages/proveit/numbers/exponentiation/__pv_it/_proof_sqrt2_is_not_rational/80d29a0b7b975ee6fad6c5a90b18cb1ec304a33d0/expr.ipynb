{
 "cells": [
  {
   "cell_type": "markdown",
   "metadata": {},
   "source": [
    "Expression of type <a class=\"ProveItLink\" href=\"../../../../../../../doc/html/api/proveit.Conditional.html\">Conditional</a>\n",
    "=======================\n",
    "# from the theory of <a class=\"ProveItLink\" href=\"../../../_theory_nbs_/theory.ipynb\">proveit.numbers.exponentiation</a>"
   ]
  },
  {
   "cell_type": "code",
   "execution_count": 1,
   "metadata": {},
   "outputs": [],
   "source": [
    "import proveit\n",
    "# Automation is not needed when building an expression:\n",
    "proveit.defaults.automation = False # This will speed things up.\n",
    "proveit.defaults.inline_pngs = False # Makes files smaller.\n",
    "%load_expr # Load the stored expression as 'stored_expr'\n",
    "# import Expression classes needed to build the expression\n",
    "from proveit import Conditional, a, b\n",
    "from proveit.logic import And, Equals, InSet\n",
    "from proveit.numbers import Abs, GCD, NaturalPos, frac, one, sqrt, two"
   ]
  },
  {
   "cell_type": "code",
   "execution_count": 2,
   "metadata": {},
   "outputs": [
    {
     "data": {
      "text/html": [
       "<strong id=\"expr\">expr:</strong> <a class=\"ProveItLink\" href=\"expr.ipynb\"><img src=\"expr.png\" style=\"display:inline;vertical-align:middle;\" /></a><br>"
      ],
      "text/plain": [
       "expr: {(|sqrt(2)| = (a / b)) and (gcd(a, b) = 1) if a in NaturalPos ,  b in NaturalPos."
      ]
     },
     "execution_count": 2,
     "metadata": {},
     "output_type": "execute_result"
    }
   ],
   "source": [
    "# build up the expression from sub-expressions\n",
    "expr = Conditional(And(Equals(Abs(sqrt(two)), frac(a, b)), Equals(GCD(a, b), one)), And(InSet(a, NaturalPos), InSet(b, NaturalPos)))"
   ]
  },
  {
   "cell_type": "code",
   "execution_count": 3,
   "metadata": {},
   "outputs": [
    {
     "name": "stdout",
     "output_type": "stream",
     "text": [
      "Passed sanity check: expr matches stored_expr\n"
     ]
    }
   ],
   "source": [
    "# check that the built expression is the same as the stored expression\n",
    "assert expr == stored_expr\n",
    "assert expr._style_id == stored_expr._style_id\n",
    "print(\"Passed sanity check: expr matches stored_expr\")"
   ]
  },
  {
   "cell_type": "code",
   "execution_count": 4,
   "metadata": {},
   "outputs": [
    {
     "name": "stdout",
     "output_type": "stream",
     "text": [
      "\\left\\{\\left(\\left|\\sqrt{2}\\right| = \\frac{a}{b}\\right) \\land \\left(gcd(a, b) = 1\\right) \\textrm{ if } a \\in \\mathbb{N}^+ ,  b \\in \\mathbb{N}^+\\right..\n"
     ]
    }
   ],
   "source": [
    "# Show the LaTeX representation of the expression for convenience if you need it.\n",
    "print(expr.latex())"
   ]
  },
  {
   "cell_type": "code",
   "execution_count": 5,
   "metadata": {},
   "outputs": [
    {
     "data": {
      "text/html": [
       "<table>\n",
       "<tr><th>name</th><th>description</th><th>default</th><th>current value</th><th>related methods</th></tr><tr><td>condition_delimiter</td><td>'comma' or 'and'</td><td>comma</td><td>comma</td><td>('with_comma_delimiter', 'with_conjunction_delimiter')</td></tr>\n",
       "</table>\n"
      ],
      "text/plain": [
       "style name: condition_delimiter\n",
       "description: 'comma' or 'and'\n",
       "default: comma\n",
       "current value: comma\n",
       "related methods: ('with_comma_delimiter', 'with_conjunction_delimiter')"
      ]
     },
     "execution_count": 5,
     "metadata": {},
     "output_type": "execute_result"
    }
   ],
   "source": [
    "expr.style_options()"
   ]
  },
  {
   "cell_type": "code",
   "execution_count": 6,
   "metadata": {},
   "outputs": [
    {
     "data": {
      "text/html": [
       "<table><tr><th>&nbsp;</th><th>core type</th><th>sub-expressions</th><th>expression</th></tr>\n",
       "<tr><td>0</td><td>Conditional</td><td>value:&nbsp;1<br>condition:&nbsp;2<br></td><td><a class=\"ProveItLink\" href=\"expr.ipynb\"><img src=\"expr.png\" style=\"display:inline;vertical-align:middle;\" /></a></td></tr>\n",
       "<tr><td>1</td><td>Operation</td><td>operator:&nbsp;4<br>operands:&nbsp;3<br></td><td><a class=\"ProveItLink\" href=\"../119c0f10582dd923601890620022b534b7cdae3c0/expr.ipynb\"><img src=\"../119c0f10582dd923601890620022b534b7cdae3c0/expr.png\" style=\"display:inline;vertical-align:middle;\" /></a></td></tr>\n",
       "<tr><td>2</td><td>Operation</td><td>operator:&nbsp;4<br>operands:&nbsp;5<br></td><td><a class=\"ProveItLink\" href=\"../../../../number_sets/rational_numbers/__pv_it/theorems/95a3e4ee015cbd5c7d0a00e428e088e4aa7549c50/expr.ipynb\"><img src=\"../../../../number_sets/rational_numbers/__pv_it/theorems/95a3e4ee015cbd5c7d0a00e428e088e4aa7549c50/expr.png\" style=\"display:inline;vertical-align:middle;\" /></a></td></tr>\n",
       "<tr><td>3</td><td>ExprTuple</td><td>6, 7</td><td><a class=\"ProveItLink\" href=\"../0a5382067b9c58eb5aa298b047e44f7a8ac8db2f0/expr.ipynb\"><img src=\"../0a5382067b9c58eb5aa298b047e44f7a8ac8db2f0/expr.png\" style=\"display:inline;vertical-align:middle;\" /></a></td></tr>\n",
       "<tr><td>4</td><td>Literal</td><td></td><td><a class=\"ProveItLink\" href=\"../../../../../logic/booleans/conjunction/__pv_it/common/26b94b53e70b1d77b70f0d9d4236347db37731060/expr.ipynb\"><img src=\"../../../../../logic/booleans/conjunction/__pv_it/common/26b94b53e70b1d77b70f0d9d4236347db37731060/expr.png\" style=\"display:inline;vertical-align:middle;\" /></a></td></tr>\n",
       "<tr><td>5</td><td>ExprTuple</td><td>8, 9</td><td><a class=\"ProveItLink\" href=\"../../../../number_sets/rational_numbers/__pv_it/theorems/bcaa405e3c149e9429cf9bfe1e6726abe51494720/expr.ipynb\"><img src=\"../../../../number_sets/rational_numbers/__pv_it/theorems/bcaa405e3c149e9429cf9bfe1e6726abe51494720/expr.png\" style=\"display:inline;vertical-align:middle;\" /></a></td></tr>\n",
       "<tr><td>6</td><td>Operation</td><td>operator:&nbsp;11<br>operands:&nbsp;10<br></td><td><a class=\"ProveItLink\" href=\"../aa5e7ba3939200c6da8044db2b53dc6dd7acc3120/expr.ipynb\"><img src=\"../aa5e7ba3939200c6da8044db2b53dc6dd7acc3120/expr.png\" style=\"display:inline;vertical-align:middle;\" /></a></td></tr>\n",
       "<tr><td>7</td><td>Operation</td><td>operator:&nbsp;11<br>operands:&nbsp;12<br></td><td><a class=\"ProveItLink\" href=\"../../../../number_sets/rational_numbers/__pv_it/theorems/9bd4773c2dba8f63a38ed92b69dc4699862b778c0/expr.ipynb\"><img src=\"../../../../number_sets/rational_numbers/__pv_it/theorems/9bd4773c2dba8f63a38ed92b69dc4699862b778c0/expr.png\" style=\"display:inline;vertical-align:middle;\" /></a></td></tr>\n",
       "<tr><td>8</td><td>Operation</td><td>operator:&nbsp;14<br>operands:&nbsp;13<br></td><td><a class=\"ProveItLink\" href=\"../../../../number_sets/rational_numbers/__pv_it/theorems/43a6bba8ef55ffabb255a1a2d8db04a72bf7459a0/expr.ipynb\"><img src=\"../../../../number_sets/rational_numbers/__pv_it/theorems/43a6bba8ef55ffabb255a1a2d8db04a72bf7459a0/expr.png\" style=\"display:inline;vertical-align:middle;\" /></a></td></tr>\n",
       "<tr><td>9</td><td>Operation</td><td>operator:&nbsp;14<br>operands:&nbsp;15<br></td><td><a class=\"ProveItLink\" href=\"../../../../number_sets/rational_numbers/__pv_it/theorems/fc424e225d68929f577c54c460515ae4efab5f300/expr.ipynb\"><img src=\"../../../../number_sets/rational_numbers/__pv_it/theorems/fc424e225d68929f577c54c460515ae4efab5f300/expr.png\" style=\"display:inline;vertical-align:middle;\" /></a></td></tr>\n",
       "<tr><td>10</td><td>ExprTuple</td><td>16, 17</td><td><a class=\"ProveItLink\" href=\"../7500c6b9b6ed1fdddc40fd5be610a52a8dd966fe0/expr.ipynb\"><img src=\"../7500c6b9b6ed1fdddc40fd5be610a52a8dd966fe0/expr.png\" style=\"display:inline;vertical-align:middle;\" /></a></td></tr>\n",
       "<tr><td>11</td><td>Literal</td><td></td><td><a class=\"ProveItLink\" href=\"../../../../../logic/equality/__pv_it/common/731dd3955b346c1320ed5c0ba7a618bcda61457d0/expr.ipynb\"><img src=\"../../../../../logic/equality/__pv_it/common/731dd3955b346c1320ed5c0ba7a618bcda61457d0/expr.png\" style=\"display:inline;vertical-align:middle;\" /></a></td></tr>\n",
       "<tr><td>12</td><td>ExprTuple</td><td>18, 32</td><td><a class=\"ProveItLink\" href=\"../../../../number_sets/rational_numbers/__pv_it/theorems/92f7f96308abac2f892b519865c1d016d26bcd160/expr.ipynb\"><img src=\"../../../../number_sets/rational_numbers/__pv_it/theorems/92f7f96308abac2f892b519865c1d016d26bcd160/expr.png\" style=\"display:inline;vertical-align:middle;\" /></a></td></tr>\n",
       "<tr><td>13</td><td>ExprTuple</td><td>25, 19</td><td><a class=\"ProveItLink\" href=\"../../../../number_sets/rational_numbers/__pv_it/theorems/6c66fe37fa26f7e3d0728d0ecc005cbe5f8ca99a0/expr.ipynb\"><img src=\"../../../../number_sets/rational_numbers/__pv_it/theorems/6c66fe37fa26f7e3d0728d0ecc005cbe5f8ca99a0/expr.png\" style=\"display:inline;vertical-align:middle;\" /></a></td></tr>\n",
       "<tr><td>14</td><td>Literal</td><td></td><td><a class=\"ProveItLink\" href=\"../../../../../logic/sets/membership/__pv_it/common/7171deca84f71f47a6ec7696972d1632274a12880/expr.ipynb\"><img src=\"../../../../../logic/sets/membership/__pv_it/common/7171deca84f71f47a6ec7696972d1632274a12880/expr.png\" style=\"display:inline;vertical-align:middle;\" /></a></td></tr>\n",
       "<tr><td>15</td><td>ExprTuple</td><td>26, 19</td><td><a class=\"ProveItLink\" href=\"../../../../number_sets/rational_numbers/__pv_it/theorems/8966f46adc95899132e2e78f096e2a760ded85d70/expr.ipynb\"><img src=\"../../../../number_sets/rational_numbers/__pv_it/theorems/8966f46adc95899132e2e78f096e2a760ded85d70/expr.png\" style=\"display:inline;vertical-align:middle;\" /></a></td></tr>\n",
       "<tr><td>16</td><td>Operation</td><td>operator:&nbsp;20<br>operand:&nbsp;24<br></td><td><a class=\"ProveItLink\" href=\"../b600a21c067e6788a5cbe272634720ebbd05e3d80/expr.ipynb\"><img src=\"../b600a21c067e6788a5cbe272634720ebbd05e3d80/expr.png\" style=\"display:inline;vertical-align:middle;\" /></a></td></tr>\n",
       "<tr><td>17</td><td>Operation</td><td>operator:&nbsp;30<br>operands:&nbsp;23<br></td><td><a class=\"ProveItLink\" href=\"../../../../division/__pv_it/theorems/271b4a508be8aee39e1e11c462beee1971a2b50f0/expr.ipynb\"><img src=\"../../../../division/__pv_it/theorems/271b4a508be8aee39e1e11c462beee1971a2b50f0/expr.png\" style=\"display:inline;vertical-align:middle;\" /></a></td></tr>\n",
       "<tr><td>18</td><td>Operation</td><td>operator:&nbsp;22<br>operands:&nbsp;23<br></td><td><a class=\"ProveItLink\" href=\"../../../../number_sets/rational_numbers/__pv_it/theorems/f43630605f50fe3c0597b7d796520f0146386f5e0/expr.ipynb\"><img src=\"../../../../number_sets/rational_numbers/__pv_it/theorems/f43630605f50fe3c0597b7d796520f0146386f5e0/expr.png\" style=\"display:inline;vertical-align:middle;\" /></a></td></tr>\n",
       "<tr><td>19</td><td>Literal</td><td></td><td><a class=\"ProveItLink\" href=\"../../../../number_sets/natural_numbers/__pv_it/common/a2a7252783c385c028dad802e97575c19e456b990/expr.ipynb\"><img src=\"../../../../number_sets/natural_numbers/__pv_it/common/a2a7252783c385c028dad802e97575c19e456b990/expr.png\" style=\"display:inline;vertical-align:middle;\" /></a></td></tr>\n",
       "<tr><td>20</td><td>Literal</td><td></td><td><a class=\"ProveItLink\" href=\"../../../../absolute_value/__pv_it/common/6430f141f5f0b9665d136ab5dd21c24f48b3a19c0/expr.ipynb\"><img src=\"../../../../absolute_value/__pv_it/common/6430f141f5f0b9665d136ab5dd21c24f48b3a19c0/expr.png\" style=\"display:inline;vertical-align:middle;\" /></a></td></tr>\n",
       "<tr><td>21</td><td>ExprTuple</td><td>24</td><td><a class=\"ProveItLink\" href=\"../1e6e09cd5fa54f1600720a426b70d81cd3182c960/expr.ipynb\"><img src=\"../1e6e09cd5fa54f1600720a426b70d81cd3182c960/expr.png\" style=\"display:inline;vertical-align:middle;\" /></a></td></tr>\n",
       "<tr><td>22</td><td>Literal</td><td></td><td><a class=\"ProveItLink\" href=\"../../../../divisibility/__pv_it/common/af4cb9866c0023df0dac45a9310a02c067e634d30/expr.ipynb\"><img src=\"../../../../divisibility/__pv_it/common/af4cb9866c0023df0dac45a9310a02c067e634d30/expr.png\" style=\"display:inline;vertical-align:middle;\" /></a></td></tr>\n",
       "<tr><td>23</td><td>ExprTuple</td><td>25, 26</td><td><a class=\"ProveItLink\" href=\"../../../../number_sets/rational_numbers/__pv_it/theorems/1bdfc8550dcba21649b1aca02603584957f865fb0/expr.ipynb\"><img src=\"../../../../number_sets/rational_numbers/__pv_it/theorems/1bdfc8550dcba21649b1aca02603584957f865fb0/expr.png\" style=\"display:inline;vertical-align:middle;\" /></a></td></tr>\n",
       "<tr><td>24</td><td>Operation</td><td>operator:&nbsp;27<br>operands:&nbsp;28<br></td><td><a class=\"ProveItLink\" href=\"../../theorems/9ccea0bf9924d784d16d785c4b47403104322e9d0/expr.ipynb\"><img src=\"../../theorems/9ccea0bf9924d784d16d785c4b47403104322e9d0/expr.png\" style=\"display:inline;vertical-align:middle;\" /></a></td></tr>\n",
       "<tr><td>25</td><td>Variable</td><td></td><td><a class=\"ProveItLink\" href=\"../../../../../__pv_it/common/66c90e66682f107a881f2d666959f64e2e72ad750/expr.ipynb\"><img src=\"../../../../../__pv_it/common/66c90e66682f107a881f2d666959f64e2e72ad750/expr.png\" style=\"display:inline;vertical-align:middle;\" /></a></td></tr>\n",
       "<tr><td>26</td><td>Variable</td><td></td><td><a class=\"ProveItLink\" href=\"../../../../../__pv_it/common/4a5db8cc5c67969ec864bd3ea598be37cb6f5e550/expr.ipynb\"><img src=\"../../../../../__pv_it/common/4a5db8cc5c67969ec864bd3ea598be37cb6f5e550/expr.png\" style=\"display:inline;vertical-align:middle;\" /></a></td></tr>\n",
       "<tr><td>27</td><td>Literal</td><td></td><td><a class=\"ProveItLink\" href=\"../../common/31d1b89e3c2fad7d997556c69b6be6425b6f59a40/expr.ipynb\"><img src=\"../../common/31d1b89e3c2fad7d997556c69b6be6425b6f59a40/expr.png\" style=\"display:inline;vertical-align:middle;\" /></a></td></tr>\n",
       "<tr><td>28</td><td>ExprTuple</td><td>33, 29</td><td><a class=\"ProveItLink\" href=\"../../theorems/cf8c3123f67e0a2eb7853a86be851e620ff24a630/expr.ipynb\"><img src=\"../../theorems/cf8c3123f67e0a2eb7853a86be851e620ff24a630/expr.png\" style=\"display:inline;vertical-align:middle;\" /></a></td></tr>\n",
       "<tr><td>29</td><td>Operation</td><td>operator:&nbsp;30<br>operands:&nbsp;31<br></td><td><a class=\"ProveItLink\" href=\"../../theorems/aa547f88216e68e08c946bb8fdc4d68b926388850/expr.ipynb\"><img src=\"../../theorems/aa547f88216e68e08c946bb8fdc4d68b926388850/expr.png\" style=\"display:inline;vertical-align:middle;\" /></a></td></tr>\n",
       "<tr><td>30</td><td>Literal</td><td></td><td><a class=\"ProveItLink\" href=\"../../../../division/__pv_it/common/9ecc1ae47b83f7ed759e5ea63a2023a8f2ab04800/expr.ipynb\"><img src=\"../../../../division/__pv_it/common/9ecc1ae47b83f7ed759e5ea63a2023a8f2ab04800/expr.png\" style=\"display:inline;vertical-align:middle;\" /></a></td></tr>\n",
       "<tr><td>31</td><td>ExprTuple</td><td>32, 33</td><td><a class=\"ProveItLink\" href=\"../../theorems/b6dda0abe24a4592fb130c02ca5a89c1328050430/expr.ipynb\"><img src=\"../../theorems/b6dda0abe24a4592fb130c02ca5a89c1328050430/expr.png\" style=\"display:inline;vertical-align:middle;\" /></a></td></tr>\n",
       "<tr><td>32</td><td>Literal</td><td></td><td><a class=\"ProveItLink\" href=\"../../../../numerals/__pv_it/common/d278e359da0695d9652dd541d45264f93703e2e40/expr.ipynb\"><img src=\"../../../../numerals/__pv_it/common/d278e359da0695d9652dd541d45264f93703e2e40/expr.png\" style=\"display:inline;vertical-align:middle;\" /></a></td></tr>\n",
       "<tr><td>33</td><td>Literal</td><td></td><td><a class=\"ProveItLink\" href=\"../../../../numerals/__pv_it/common/3829356ce3fdf8f35810c63c00bc1a19e838663e0/expr.ipynb\"><img src=\"../../../../numerals/__pv_it/common/3829356ce3fdf8f35810c63c00bc1a19e838663e0/expr.png\" style=\"display:inline;vertical-align:middle;\" /></a></td></tr>\n",
       "</table>\n"
      ],
      "text/plain": [
       "0. {(|sqrt(2)| = (a / b)) and (gcd(a, b) = 1) if a in NaturalPos ,  b in NaturalPos.\n",
       "   core type: Conditional\n",
       "   value: 1\n",
       "   condition: 2\n",
       "1. (|sqrt(2)| = (a / b)) and (gcd(a, b) = 1)\n",
       "   core type: Operation\n",
       "   operator: 4\n",
       "   operands: 3\n",
       "2. (a in NaturalPos) and (b in NaturalPos)\n",
       "   core type: Operation\n",
       "   operator: 4\n",
       "   operands: 5\n",
       "3. (|sqrt(2)| = (a / b), gcd(a, b) = 1)\n",
       "   core type: ExprTuple\n",
       "   sub-expressions: 6, 7\n",
       "4. and\n",
       "   core type: Literal\n",
       "   sub-expressions: \n",
       "5. (a in NaturalPos, b in NaturalPos)\n",
       "   core type: ExprTuple\n",
       "   sub-expressions: 8, 9\n",
       "6. |sqrt(2)| = (a / b)\n",
       "   core type: Operation\n",
       "   operator: 11\n",
       "   operands: 10\n",
       "7. gcd(a, b) = 1\n",
       "   core type: Operation\n",
       "   operator: 11\n",
       "   operands: 12\n",
       "8. a in NaturalPos\n",
       "   core type: Operation\n",
       "   operator: 14\n",
       "   operands: 13\n",
       "9. b in NaturalPos\n",
       "   core type: Operation\n",
       "   operator: 14\n",
       "   operands: 15\n",
       "10. (|sqrt(2)|, a / b)\n",
       "    core type: ExprTuple\n",
       "    sub-expressions: 16, 17\n",
       "11. =\n",
       "    core type: Literal\n",
       "    sub-expressions: \n",
       "12. (gcd(a, b), 1)\n",
       "    core type: ExprTuple\n",
       "    sub-expressions: 18, 32\n",
       "13. (a, NaturalPos)\n",
       "    core type: ExprTuple\n",
       "    sub-expressions: 25, 19\n",
       "14. in\n",
       "    core type: Literal\n",
       "    sub-expressions: \n",
       "15. (b, NaturalPos)\n",
       "    core type: ExprTuple\n",
       "    sub-expressions: 26, 19\n",
       "16. |sqrt(2)|\n",
       "    core type: Operation\n",
       "    operator: 20\n",
       "    operand: 24\n",
       "17. a / b\n",
       "    core type: Operation\n",
       "    operator: 30\n",
       "    operands: 23\n",
       "18. gcd(a, b)\n",
       "    core type: Operation\n",
       "    operator: 22\n",
       "    operands: 23\n",
       "19. NaturalPos\n",
       "    core type: Literal\n",
       "    sub-expressions: \n",
       "20. Abs\n",
       "    core type: Literal\n",
       "    sub-expressions: \n",
       "21. (sqrt(2))\n",
       "    core type: ExprTuple\n",
       "    sub-expressions: 24\n",
       "22. gcd\n",
       "    core type: Literal\n",
       "    sub-expressions: \n",
       "23. (a, b)\n",
       "    core type: ExprTuple\n",
       "    sub-expressions: 25, 26\n",
       "24. sqrt(2)\n",
       "    core type: Operation\n",
       "    operator: 27\n",
       "    operands: 28\n",
       "25. a\n",
       "    core type: Variable\n",
       "    sub-expressions: \n",
       "26. b\n",
       "    core type: Variable\n",
       "    sub-expressions: \n",
       "27. Exp\n",
       "    core type: Literal\n",
       "    sub-expressions: \n",
       "28. (2, 1 / 2)\n",
       "    core type: ExprTuple\n",
       "    sub-expressions: 33, 29\n",
       "29. 1 / 2\n",
       "    core type: Operation\n",
       "    operator: 30\n",
       "    operands: 31\n",
       "30. /\n",
       "    core type: Literal\n",
       "    sub-expressions: \n",
       "31. (1, 2)\n",
       "    core type: ExprTuple\n",
       "    sub-expressions: 32, 33\n",
       "32. 1\n",
       "    core type: Literal\n",
       "    sub-expressions: \n",
       "33. 2\n",
       "    core type: Literal\n",
       "    sub-expressions: "
      ]
     },
     "execution_count": 6,
     "metadata": {},
     "output_type": "execute_result"
    }
   ],
   "source": [
    "# display the expression information\n",
    "expr.expr_info()"
   ]
  },
  {
   "cell_type": "code",
   "execution_count": null,
   "metadata": {},
   "outputs": [],
   "source": []
  }
 ],
 "metadata": {
  "kernelspec": {
   "display_name": "Python 3",
   "language": "python",
   "name": "python3"
  }
 },
 "nbformat": 4,
 "nbformat_minor": 0
}