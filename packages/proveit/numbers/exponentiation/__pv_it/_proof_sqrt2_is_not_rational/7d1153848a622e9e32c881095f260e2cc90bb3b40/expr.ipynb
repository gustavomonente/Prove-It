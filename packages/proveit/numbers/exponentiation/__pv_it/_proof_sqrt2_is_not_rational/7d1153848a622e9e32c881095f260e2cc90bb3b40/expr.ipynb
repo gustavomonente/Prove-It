{
 "cells": [
  {
   "cell_type": "markdown",
   "metadata": {},
   "source": [
    "Expression of type <a class=\"ProveItLink\" href=\"../../../../../../../doc/html/api/proveit.logic.Implies.html\">Implies</a>\n",
    "=======================\n",
    "# from the theory of <a class=\"ProveItLink\" href=\"../../../_theory_nbs_/theory.ipynb\">proveit.numbers.exponentiation</a>"
   ]
  },
  {
   "cell_type": "code",
   "execution_count": 1,
   "metadata": {},
   "outputs": [],
   "source": [
    "import proveit\n",
    "# Automation is not needed when building an expression:\n",
    "proveit.defaults.automation = False # This will speed things up.\n",
    "proveit.defaults.inline_pngs = False # Makes files smaller.\n",
    "%load_expr # Load the stored expression as 'stored_expr'\n",
    "# import Expression classes needed to build the expression\n",
    "from proveit import a_star, b_star\n",
    "from proveit.logic import And, Equals, FALSE, Implies\n",
    "from proveit.numbers import Abs, GCD, frac, one, sqrt, two"
   ]
  },
  {
   "cell_type": "code",
   "execution_count": 2,
   "metadata": {},
   "outputs": [
    {
     "data": {
      "text/html": [
       "<strong id=\"expr\">expr:</strong> <a class=\"ProveItLink\" href=\"expr.ipynb\"><img src=\"expr.png\" style=\"display:inline;vertical-align:middle;\" /></a><br>"
      ],
      "text/plain": [
       "expr: ((|sqrt(2)| = (a_star / b_star)) and (gcd(a_star, b_star) = 1)) => FALSE"
      ]
     },
     "execution_count": 2,
     "metadata": {},
     "output_type": "execute_result"
    }
   ],
   "source": [
    "# build up the expression from sub-expressions\n",
    "expr = Implies(And(Equals(Abs(sqrt(two)), frac(a_star, b_star)), Equals(GCD(a_star, b_star), one)), FALSE)"
   ]
  },
  {
   "cell_type": "code",
   "execution_count": 3,
   "metadata": {},
   "outputs": [
    {
     "name": "stdout",
     "output_type": "stream",
     "text": [
      "Passed sanity check: expr matches stored_expr\n"
     ]
    }
   ],
   "source": [
    "# check that the built expression is the same as the stored expression\n",
    "assert expr == stored_expr\n",
    "assert expr._style_id == stored_expr._style_id\n",
    "print(\"Passed sanity check: expr matches stored_expr\")"
   ]
  },
  {
   "cell_type": "code",
   "execution_count": 4,
   "metadata": {},
   "outputs": [
    {
     "name": "stdout",
     "output_type": "stream",
     "text": [
      "\\left(\\left(\\left|\\sqrt{2}\\right| = \\frac{a^*}{b^*}\\right) \\land \\left(gcd(a^*, b^*) = 1\\right)\\right) \\Rightarrow \\bot\n"
     ]
    }
   ],
   "source": [
    "# Show the LaTeX representation of the expression for convenience if you need it.\n",
    "print(expr.latex())"
   ]
  },
  {
   "cell_type": "code",
   "execution_count": 5,
   "metadata": {},
   "outputs": [
    {
     "data": {
      "text/html": [
       "<table><tr><th>&nbsp;</th><th>core type</th><th>sub-expressions</th><th>expression</th></tr>\n",
       "<tr><td>0</td><td>Operation</td><td>operator:&nbsp;1<br>operands:&nbsp;2<br></td><td><a class=\"ProveItLink\" href=\"expr.ipynb\"><img src=\"expr.png\" style=\"display:inline;vertical-align:middle;\" /></a></td></tr>\n",
       "<tr><td>1</td><td>Literal</td><td></td><td><a class=\"ProveItLink\" href=\"../../../../../logic/booleans/implication/__pv_it/common/02bdb382575728da8cdbaed545b9096ea7a1bd5b0/expr.ipynb\"><img src=\"../../../../../logic/booleans/implication/__pv_it/common/02bdb382575728da8cdbaed545b9096ea7a1bd5b0/expr.png\" style=\"display:inline;vertical-align:middle;\" /></a></td></tr>\n",
       "<tr><td>2</td><td>ExprTuple</td><td>3, 4</td><td><a class=\"ProveItLink\" href=\"../30f760d23da459bdd6f69a76bccd8cacbeae34560/expr.ipynb\"><img src=\"../30f760d23da459bdd6f69a76bccd8cacbeae34560/expr.png\" style=\"display:inline;vertical-align:middle;\" /></a></td></tr>\n",
       "<tr><td>3</td><td>Operation</td><td>operator:&nbsp;5<br>operands:&nbsp;6<br></td><td><a class=\"ProveItLink\" href=\"../39f8b69d4b531d18a9d54e87feffd59aad75062e0/expr.ipynb\"><img src=\"../39f8b69d4b531d18a9d54e87feffd59aad75062e0/expr.png\" style=\"display:inline;vertical-align:middle;\" /></a></td></tr>\n",
       "<tr><td>4</td><td>Literal</td><td></td><td><a class=\"ProveItLink\" href=\"../../../../../logic/booleans/__pv_it/common/e0f123f2e4f322e1eba7f861749cda9fd9d99a120/expr.ipynb\"><img src=\"../../../../../logic/booleans/__pv_it/common/e0f123f2e4f322e1eba7f861749cda9fd9d99a120/expr.png\" style=\"display:inline;vertical-align:middle;\" /></a></td></tr>\n",
       "<tr><td>5</td><td>Literal</td><td></td><td><a class=\"ProveItLink\" href=\"../../../../../logic/booleans/conjunction/__pv_it/common/42118ff318bd65d98b1393f64ce7c2269feef76e0/expr.ipynb\"><img src=\"../../../../../logic/booleans/conjunction/__pv_it/common/42118ff318bd65d98b1393f64ce7c2269feef76e0/expr.png\" style=\"display:inline;vertical-align:middle;\" /></a></td></tr>\n",
       "<tr><td>6</td><td>ExprTuple</td><td>7, 8</td><td><a class=\"ProveItLink\" href=\"../037cf87d8778619917f7be4630a49f0f92d850e00/expr.ipynb\"><img src=\"../037cf87d8778619917f7be4630a49f0f92d850e00/expr.png\" style=\"display:inline;vertical-align:middle;\" /></a></td></tr>\n",
       "<tr><td>7</td><td>Operation</td><td>operator:&nbsp;10<br>operands:&nbsp;9<br></td><td><a class=\"ProveItLink\" href=\"../16f15b6714d01cf4524cf698eeb270709e1901e10/expr.ipynb\"><img src=\"../16f15b6714d01cf4524cf698eeb270709e1901e10/expr.png\" style=\"display:inline;vertical-align:middle;\" /></a></td></tr>\n",
       "<tr><td>8</td><td>Operation</td><td>operator:&nbsp;10<br>operands:&nbsp;11<br></td><td><a class=\"ProveItLink\" href=\"../2db9f6db42a9c3951ab2dc857b7c2a278616cc190/expr.ipynb\"><img src=\"../2db9f6db42a9c3951ab2dc857b7c2a278616cc190/expr.png\" style=\"display:inline;vertical-align:middle;\" /></a></td></tr>\n",
       "<tr><td>9</td><td>ExprTuple</td><td>12, 13</td><td><a class=\"ProveItLink\" href=\"../51a198f51e30e488ae1ddfa6c7f308ee3261c0e70/expr.ipynb\"><img src=\"../51a198f51e30e488ae1ddfa6c7f308ee3261c0e70/expr.png\" style=\"display:inline;vertical-align:middle;\" /></a></td></tr>\n",
       "<tr><td>10</td><td>Literal</td><td></td><td><a class=\"ProveItLink\" href=\"../../../../../logic/equality/__pv_it/common/fb96dc12b2aa8801dda64d0132b396c63d1502bb0/expr.ipynb\"><img src=\"../../../../../logic/equality/__pv_it/common/fb96dc12b2aa8801dda64d0132b396c63d1502bb0/expr.png\" style=\"display:inline;vertical-align:middle;\" /></a></td></tr>\n",
       "<tr><td>11</td><td>ExprTuple</td><td>14, 26</td><td><a class=\"ProveItLink\" href=\"../5e3012b187d25907f028193b93dbab46b4f5396b0/expr.ipynb\"><img src=\"../5e3012b187d25907f028193b93dbab46b4f5396b0/expr.png\" style=\"display:inline;vertical-align:middle;\" /></a></td></tr>\n",
       "<tr><td>12</td><td>Operation</td><td>operator:&nbsp;15<br>operand:&nbsp;16<br></td><td><a class=\"ProveItLink\" href=\"../5e0765c60c17ca218193f0f8876973ba7d22c9bc0/expr.ipynb\"><img src=\"../5e0765c60c17ca218193f0f8876973ba7d22c9bc0/expr.png\" style=\"display:inline;vertical-align:middle;\" /></a></td></tr>\n",
       "<tr><td>13</td><td>Operation</td><td>operator:&nbsp;24<br>operands:&nbsp;18<br></td><td><a class=\"ProveItLink\" href=\"../08a74b05caca8d95f52063e925a5af1c6a0a2e580/expr.ipynb\"><img src=\"../08a74b05caca8d95f52063e925a5af1c6a0a2e580/expr.png\" style=\"display:inline;vertical-align:middle;\" /></a></td></tr>\n",
       "<tr><td>14</td><td>Operation</td><td>operator:&nbsp;17<br>operands:&nbsp;18<br></td><td><a class=\"ProveItLink\" href=\"../f6265c569b1fbb595a68a45897319a49a6dac2e80/expr.ipynb\"><img src=\"../f6265c569b1fbb595a68a45897319a49a6dac2e80/expr.png\" style=\"display:inline;vertical-align:middle;\" /></a></td></tr>\n",
       "<tr><td>15</td><td>Literal</td><td></td><td><a class=\"ProveItLink\" href=\"../../../../absolute_value/__pv_it/common/eea56c667bc0aad2dc76ed04b44c2bd98b94005f0/expr.ipynb\"><img src=\"../../../../absolute_value/__pv_it/common/eea56c667bc0aad2dc76ed04b44c2bd98b94005f0/expr.png\" style=\"display:inline;vertical-align:middle;\" /></a></td></tr>\n",
       "<tr><td>16</td><td>Operation</td><td>operator:&nbsp;19<br>operands:&nbsp;20<br></td><td><a class=\"ProveItLink\" href=\"../../theorems/0211c41b3ff31f8b64e8dc19c2ce403410ed056e0/expr.ipynb\"><img src=\"../../theorems/0211c41b3ff31f8b64e8dc19c2ce403410ed056e0/expr.png\" style=\"display:inline;vertical-align:middle;\" /></a></td></tr>\n",
       "<tr><td>17</td><td>Literal</td><td></td><td><a class=\"ProveItLink\" href=\"../../../../divisibility/__pv_it/common/4992ec160f5fadacbaffecc5cde14b74057220530/expr.ipynb\"><img src=\"../../../../divisibility/__pv_it/common/4992ec160f5fadacbaffecc5cde14b74057220530/expr.png\" style=\"display:inline;vertical-align:middle;\" /></a></td></tr>\n",
       "<tr><td>18</td><td>ExprTuple</td><td>21, 22</td><td><a class=\"ProveItLink\" href=\"../b5c34beb93fce8747df8bfe5a4b47470146e02980/expr.ipynb\"><img src=\"../b5c34beb93fce8747df8bfe5a4b47470146e02980/expr.png\" style=\"display:inline;vertical-align:middle;\" /></a></td></tr>\n",
       "<tr><td>19</td><td>Literal</td><td></td><td><a class=\"ProveItLink\" href=\"../../common/0ac37aca1e54c35c5cda09672df32d4f69f1f3020/expr.ipynb\"><img src=\"../../common/0ac37aca1e54c35c5cda09672df32d4f69f1f3020/expr.png\" style=\"display:inline;vertical-align:middle;\" /></a></td></tr>\n",
       "<tr><td>20</td><td>ExprTuple</td><td>27, 23</td><td><a class=\"ProveItLink\" href=\"../../theorems/9bf577fdb070ce87eef45dc2b2937ef381ba64a00/expr.ipynb\"><img src=\"../../theorems/9bf577fdb070ce87eef45dc2b2937ef381ba64a00/expr.png\" style=\"display:inline;vertical-align:middle;\" /></a></td></tr>\n",
       "<tr><td>21</td><td>Variable</td><td></td><td><a class=\"ProveItLink\" href=\"../../../../../__pv_it/common/e349d8b9811fc4815d5c4ac2a2c8ce6dc1c72b810/expr.ipynb\"><img src=\"../../../../../__pv_it/common/e349d8b9811fc4815d5c4ac2a2c8ce6dc1c72b810/expr.png\" style=\"display:inline;vertical-align:middle;\" /></a></td></tr>\n",
       "<tr><td>22</td><td>Variable</td><td></td><td><a class=\"ProveItLink\" href=\"../../../../../__pv_it/common/281d2eb0db6955ce1407fdff5e3dac678f8fa58c0/expr.ipynb\"><img src=\"../../../../../__pv_it/common/281d2eb0db6955ce1407fdff5e3dac678f8fa58c0/expr.png\" style=\"display:inline;vertical-align:middle;\" /></a></td></tr>\n",
       "<tr><td>23</td><td>Operation</td><td>operator:&nbsp;24<br>operands:&nbsp;25<br></td><td><a class=\"ProveItLink\" href=\"../../theorems/ed794d0dec5d34befefe372b8b03b9df7b69ac470/expr.ipynb\"><img src=\"../../theorems/ed794d0dec5d34befefe372b8b03b9df7b69ac470/expr.png\" style=\"display:inline;vertical-align:middle;\" /></a></td></tr>\n",
       "<tr><td>24</td><td>Literal</td><td></td><td><a class=\"ProveItLink\" href=\"../../../../division/__pv_it/common/a2a633e1e3c749fb1f2692466b287b6348c5de840/expr.ipynb\"><img src=\"../../../../division/__pv_it/common/a2a633e1e3c749fb1f2692466b287b6348c5de840/expr.png\" style=\"display:inline;vertical-align:middle;\" /></a></td></tr>\n",
       "<tr><td>25</td><td>ExprTuple</td><td>26, 27</td><td><a class=\"ProveItLink\" href=\"../../theorems/95fdce2c03f4c1a2c47c63453ccf25285abc1a5c0/expr.ipynb\"><img src=\"../../theorems/95fdce2c03f4c1a2c47c63453ccf25285abc1a5c0/expr.png\" style=\"display:inline;vertical-align:middle;\" /></a></td></tr>\n",
       "<tr><td>26</td><td>Literal</td><td></td><td><a class=\"ProveItLink\" href=\"../../../../numerals/__pv_it/common/2778428c7f555b2bdc06aa0530bc142c6e6335100/expr.ipynb\"><img src=\"../../../../numerals/__pv_it/common/2778428c7f555b2bdc06aa0530bc142c6e6335100/expr.png\" style=\"display:inline;vertical-align:middle;\" /></a></td></tr>\n",
       "<tr><td>27</td><td>Literal</td><td></td><td><a class=\"ProveItLink\" href=\"../../../../numerals/__pv_it/common/ba3b059982e8b49413dc653e957beb11e974e4bc0/expr.ipynb\"><img src=\"../../../../numerals/__pv_it/common/ba3b059982e8b49413dc653e957beb11e974e4bc0/expr.png\" style=\"display:inline;vertical-align:middle;\" /></a></td></tr>\n",
       "</table>\n"
      ],
      "text/plain": [
       "0. ((|sqrt(2)| = (a_star / b_star)) and (gcd(a_star, b_star) = 1)) => FALSE\n",
       "   core type: Operation\n",
       "   operator: 1\n",
       "   operands: 2\n",
       "1. =>\n",
       "   core type: Literal\n",
       "   sub-expressions: \n",
       "2. ((|sqrt(2)| = (a_star / b_star)) and (gcd(a_star, b_star) = 1), FALSE)\n",
       "   core type: ExprTuple\n",
       "   sub-expressions: 3, 4\n",
       "3. (|sqrt(2)| = (a_star / b_star)) and (gcd(a_star, b_star) = 1)\n",
       "   core type: Operation\n",
       "   operator: 5\n",
       "   operands: 6\n",
       "4. FALSE\n",
       "   core type: Literal\n",
       "   sub-expressions: \n",
       "5. and\n",
       "   core type: Literal\n",
       "   sub-expressions: \n",
       "6. (|sqrt(2)| = (a_star / b_star), gcd(a_star, b_star) = 1)\n",
       "   core type: ExprTuple\n",
       "   sub-expressions: 7, 8\n",
       "7. |sqrt(2)| = (a_star / b_star)\n",
       "   core type: Operation\n",
       "   operator: 10\n",
       "   operands: 9\n",
       "8. gcd(a_star, b_star) = 1\n",
       "   core type: Operation\n",
       "   operator: 10\n",
       "   operands: 11\n",
       "9. (|sqrt(2)|, a_star / b_star)\n",
       "   core type: ExprTuple\n",
       "   sub-expressions: 12, 13\n",
       "10. =\n",
       "    core type: Literal\n",
       "    sub-expressions: \n",
       "11. (gcd(a_star, b_star), 1)\n",
       "    core type: ExprTuple\n",
       "    sub-expressions: 14, 26\n",
       "12. |sqrt(2)|\n",
       "    core type: Operation\n",
       "    operator: 15\n",
       "    operand: 16\n",
       "13. a_star / b_star\n",
       "    core type: Operation\n",
       "    operator: 24\n",
       "    operands: 18\n",
       "14. gcd(a_star, b_star)\n",
       "    core type: Operation\n",
       "    operator: 17\n",
       "    operands: 18\n",
       "15. Abs\n",
       "    core type: Literal\n",
       "    sub-expressions: \n",
       "16. sqrt(2)\n",
       "    core type: Operation\n",
       "    operator: 19\n",
       "    operands: 20\n",
       "17. gcd\n",
       "    core type: Literal\n",
       "    sub-expressions: \n",
       "18. (a_star, b_star)\n",
       "    core type: ExprTuple\n",
       "    sub-expressions: 21, 22\n",
       "19. Exp\n",
       "    core type: Literal\n",
       "    sub-expressions: \n",
       "20. (2, 1 / 2)\n",
       "    core type: ExprTuple\n",
       "    sub-expressions: 27, 23\n",
       "21. a_star\n",
       "    core type: Variable\n",
       "    sub-expressions: \n",
       "22. b_star\n",
       "    core type: Variable\n",
       "    sub-expressions: \n",
       "23. 1 / 2\n",
       "    core type: Operation\n",
       "    operator: 24\n",
       "    operands: 25\n",
       "24. /\n",
       "    core type: Literal\n",
       "    sub-expressions: \n",
       "25. (1, 2)\n",
       "    core type: ExprTuple\n",
       "    sub-expressions: 26, 27\n",
       "26. 1\n",
       "    core type: Literal\n",
       "    sub-expressions: \n",
       "27. 2\n",
       "    core type: Literal\n",
       "    sub-expressions: "
      ]
     },
     "execution_count": 5,
     "metadata": {},
     "output_type": "execute_result"
    }
   ],
   "source": [
    "# display the expression information\n",
    "expr.expr_info()"
   ]
  },
  {
   "cell_type": "code",
   "execution_count": null,
   "metadata": {},
   "outputs": [],
   "source": []
  }
 ],
 "metadata": {
  "kernelspec": {
   "display_name": "Python 3",
   "language": "python",
   "name": "python3"
  }
 },
 "nbformat": 4,
 "nbformat_minor": 0
}