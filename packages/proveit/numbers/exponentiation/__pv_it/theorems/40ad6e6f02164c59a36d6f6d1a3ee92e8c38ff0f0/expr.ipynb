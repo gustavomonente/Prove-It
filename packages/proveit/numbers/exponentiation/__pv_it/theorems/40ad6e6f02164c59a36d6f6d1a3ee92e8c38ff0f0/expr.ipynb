{
 "cells": [
  {
   "cell_type": "markdown",
   "metadata": {},
   "source": [
    "Expression of type <a class=\"ProveItLink\" href=\"../../../../../../../doc/html/api/proveit.logic.Forall.html\">Forall</a>\n",
    "=======================\n",
    "# from the theory of <a class=\"ProveItLink\" href=\"../../../_theory_nbs_/theory.ipynb\">proveit.numbers.exponentiation</a>"
   ]
  },
  {
   "cell_type": "code",
   "execution_count": 1,
   "metadata": {},
   "outputs": [],
   "source": [
    "import proveit\n",
    "# Automation is not needed when building an expression:\n",
    "proveit.defaults.automation = False # This will speed things up.\n",
    "proveit.defaults.inline_pngs = False # Makes files smaller.\n",
    "%load_expr # Load the stored expression as 'stored_expr'\n",
    "# import Expression classes needed to build the expression\n",
    "from proveit import ExprRange, IndexedVar, a, i, n\n",
    "from proveit.core_expr_types import a_1_to_n\n",
    "from proveit.logic import Equals, Forall\n",
    "from proveit.numbers import Complex, Mult, one, sqrt"
   ]
  },
  {
   "cell_type": "code",
   "execution_count": 2,
   "metadata": {},
   "outputs": [
    {
     "data": {
      "text/html": [
       "<strong id=\"expr\">expr:</strong> <a class=\"ProveItLink\" href=\"expr.ipynb\"><img src=\"expr.png\" style=\"display:inline;vertical-align:middle;\" /></a><br>"
      ],
      "text/plain": [
       "expr: forall_{a_{1}, ..a_{_a}.., a_{n} in Complex} (sqrt((a_{1} * ..a_{_a}.. * a_{n})) = (sqrt((a_{1})) * ..sqrt((a_{i})).. * sqrt((a_{n}))))"
      ]
     },
     "execution_count": 2,
     "metadata": {},
     "output_type": "execute_result"
    }
   ],
   "source": [
    "# build up the expression from sub-expressions\n",
    "expr = Forall([a_1_to_n], Equals(sqrt(Mult(a_1_to_n)), Mult(ExprRange(i, sqrt(IndexedVar(a, i)), one, n))), domains = [Complex])"
   ]
  },
  {
   "cell_type": "code",
   "execution_count": 3,
   "metadata": {},
   "outputs": [
    {
     "name": "stdout",
     "output_type": "stream",
     "text": [
      "Passed sanity check: expr matches stored_expr\n"
     ]
    }
   ],
   "source": [
    "# check that the built expression is the same as the stored expression\n",
    "assert expr == stored_expr\n",
    "assert expr._style_id == stored_expr._style_id\n",
    "print(\"Passed sanity check: expr matches stored_expr\")"
   ]
  },
  {
   "cell_type": "code",
   "execution_count": 4,
   "metadata": {},
   "outputs": [
    {
     "name": "stdout",
     "output_type": "stream",
     "text": [
      "\\forall_{a_{1}, \\ldots, a_{n} \\in \\mathbb{C}}~\\left(\\sqrt{\\left(a_{1} \\cdot \\ldots \\cdot a_{n}\\right)} = \\left(\\sqrt{\\left(a_{1}\\right)} \\cdot \\ldots \\cdot \\sqrt{\\left(a_{n}\\right)}\\right)\\right)\n"
     ]
    }
   ],
   "source": [
    "# Show the LaTeX representation of the expression for convenience if you need it.\n",
    "print(expr.latex())"
   ]
  },
  {
   "cell_type": "code",
   "execution_count": 5,
   "metadata": {},
   "outputs": [
    {
     "data": {
      "text/html": [
       "<table><tr><th>&nbsp;</th><th>core type</th><th>sub-expressions</th><th>expression</th></tr>\n",
       "<tr><td>0</td><td>Operation</td><td>operator:&nbsp;1<br>operand:&nbsp;2<br></td><td><a class=\"ProveItLink\" href=\"expr.ipynb\"><img src=\"expr.png\" style=\"display:inline;vertical-align:middle;\" /></a></td></tr>\n",
       "<tr><td>1</td><td>Literal</td><td></td><td><a class=\"ProveItLink\" href=\"../../../../../logic/booleans/quantification/universality/__pv_it/common/083d2baa0b8ecab1d230f9ec29a15aa1355809fb0/expr.ipynb\"><img src=\"../../../../../logic/booleans/quantification/universality/__pv_it/common/083d2baa0b8ecab1d230f9ec29a15aa1355809fb0/expr.png\" style=\"display:inline;vertical-align:middle;\" /></a></td></tr>\n",
       "<tr><td>2</td><td>Lambda</td><td>parameters:&nbsp;20<br>body:&nbsp;3<br></td><td><a class=\"ProveItLink\" href=\"../153b540cf011352c2bdc9188f81b219f1fff46e60/expr.ipynb\"><img src=\"../153b540cf011352c2bdc9188f81b219f1fff46e60/expr.png\" style=\"display:inline;vertical-align:middle;\" /></a></td></tr>\n",
       "<tr><td>3</td><td>Conditional</td><td>value:&nbsp;4<br>condition:&nbsp;5<br></td><td><a class=\"ProveItLink\" href=\"../edca2ecf49033b9f2386cc57b49954b28cbb56900/expr.ipynb\"><img src=\"../edca2ecf49033b9f2386cc57b49954b28cbb56900/expr.png\" style=\"display:inline;vertical-align:middle;\" /></a></td></tr>\n",
       "<tr><td>4</td><td>Operation</td><td>operator:&nbsp;6<br>operands:&nbsp;7<br></td><td><a class=\"ProveItLink\" href=\"../33a39160dd520d4bf7081160ebd5294f5f76a87d0/expr.ipynb\"><img src=\"../33a39160dd520d4bf7081160ebd5294f5f76a87d0/expr.png\" style=\"display:inline;vertical-align:middle;\" /></a></td></tr>\n",
       "<tr><td>5</td><td>Operation</td><td>operator:&nbsp;8<br>operands:&nbsp;9<br></td><td><a class=\"ProveItLink\" href=\"../81d45e1300e249fec0d85a8d5a472e221294920e0/expr.ipynb\"><img src=\"../81d45e1300e249fec0d85a8d5a472e221294920e0/expr.png\" style=\"display:inline;vertical-align:middle;\" /></a></td></tr>\n",
       "<tr><td>6</td><td>Literal</td><td></td><td><a class=\"ProveItLink\" href=\"../../../../../logic/equality/__pv_it/common/fb96dc12b2aa8801dda64d0132b396c63d1502bb0/expr.ipynb\"><img src=\"../../../../../logic/equality/__pv_it/common/fb96dc12b2aa8801dda64d0132b396c63d1502bb0/expr.png\" style=\"display:inline;vertical-align:middle;\" /></a></td></tr>\n",
       "<tr><td>7</td><td>ExprTuple</td><td>10, 11</td><td><a class=\"ProveItLink\" href=\"../e460a92e35597a9d39112c55d57d7e26474cdfd70/expr.ipynb\"><img src=\"../e460a92e35597a9d39112c55d57d7e26474cdfd70/expr.png\" style=\"display:inline;vertical-align:middle;\" /></a></td></tr>\n",
       "<tr><td>8</td><td>Literal</td><td></td><td><a class=\"ProveItLink\" href=\"../../../../../logic/booleans/conjunction/__pv_it/common/42118ff318bd65d98b1393f64ce7c2269feef76e0/expr.ipynb\"><img src=\"../../../../../logic/booleans/conjunction/__pv_it/common/42118ff318bd65d98b1393f64ce7c2269feef76e0/expr.png\" style=\"display:inline;vertical-align:middle;\" /></a></td></tr>\n",
       "<tr><td>9</td><td>ExprTuple</td><td>12</td><td><a class=\"ProveItLink\" href=\"../7ea53225b8b08dc4a808e5f7f1168b380a4ddb880/expr.ipynb\"><img src=\"../7ea53225b8b08dc4a808e5f7f1168b380a4ddb880/expr.png\" style=\"display:inline;vertical-align:middle;\" /></a></td></tr>\n",
       "<tr><td>10</td><td>Operation</td><td>operator:&nbsp;29<br>operands:&nbsp;13<br></td><td><a class=\"ProveItLink\" href=\"../fe8d89ef0b8026a9c42fa6c25800677462e861dc0/expr.ipynb\"><img src=\"../fe8d89ef0b8026a9c42fa6c25800677462e861dc0/expr.png\" style=\"display:inline;vertical-align:middle;\" /></a></td></tr>\n",
       "<tr><td>11</td><td>Operation</td><td>operator:&nbsp;19<br>operands:&nbsp;14<br></td><td><a class=\"ProveItLink\" href=\"../8c735b78c6ecf68ad1761a6d8d5701aa407f71820/expr.ipynb\"><img src=\"../8c735b78c6ecf68ad1761a6d8d5701aa407f71820/expr.png\" style=\"display:inline;vertical-align:middle;\" /></a></td></tr>\n",
       "<tr><td>12</td><td>ExprRange</td><td>lambda_map:&nbsp;15<br>start_index:&nbsp;39<br>end_index:&nbsp;28<br></td><td><a class=\"ProveItLink\" href=\"../76293052c537c58bb86fb7cec275a16398b4542c0/expr.ipynb\"><img src=\"../76293052c537c58bb86fb7cec275a16398b4542c0/expr.png\" style=\"display:inline;vertical-align:middle;\" /></a></td></tr>\n",
       "<tr><td>13</td><td>ExprTuple</td><td>16, 33</td><td><a class=\"ProveItLink\" href=\"../c956e06a1bb49a22ed9ac62fefc6fe261973fc3b0/expr.ipynb\"><img src=\"../c956e06a1bb49a22ed9ac62fefc6fe261973fc3b0/expr.png\" style=\"display:inline;vertical-align:middle;\" /></a></td></tr>\n",
       "<tr><td>14</td><td>ExprTuple</td><td>17</td><td><a class=\"ProveItLink\" href=\"../9f63ca0a22efa5c06ead604d445f24c7996585a90/expr.ipynb\"><img src=\"../9f63ca0a22efa5c06ead604d445f24c7996585a90/expr.png\" style=\"display:inline;vertical-align:middle;\" /></a></td></tr>\n",
       "<tr><td>15</td><td>Lambda</td><td>parameter:&nbsp;34<br>body:&nbsp;18<br></td><td><a class=\"ProveItLink\" href=\"../a79bfc7943c0d67a6fe108f4ce4572f5d1cc013a0/expr.ipynb\"><img src=\"../a79bfc7943c0d67a6fe108f4ce4572f5d1cc013a0/expr.png\" style=\"display:inline;vertical-align:middle;\" /></a></td></tr>\n",
       "<tr><td>16</td><td>Operation</td><td>operator:&nbsp;19<br>operands:&nbsp;20<br></td><td><a class=\"ProveItLink\" href=\"../ba01a578d78ab5fffd7ecb712a5410a8d578de850/expr.ipynb\"><img src=\"../ba01a578d78ab5fffd7ecb712a5410a8d578de850/expr.png\" style=\"display:inline;vertical-align:middle;\" /></a></td></tr>\n",
       "<tr><td>17</td><td>ExprRange</td><td>lambda_map:&nbsp;21<br>start_index:&nbsp;39<br>end_index:&nbsp;28<br></td><td><a class=\"ProveItLink\" href=\"../9ecde7b8b66e6b5bd49b71f9ad4d021bee04eba40/expr.ipynb\"><img src=\"../9ecde7b8b66e6b5bd49b71f9ad4d021bee04eba40/expr.png\" style=\"display:inline;vertical-align:middle;\" /></a></td></tr>\n",
       "<tr><td>18</td><td>Operation</td><td>operator:&nbsp;22<br>operands:&nbsp;23<br></td><td><a class=\"ProveItLink\" href=\"../35f0fb426939fe838ee312f91b94c95759c50cde0/expr.ipynb\"><img src=\"../35f0fb426939fe838ee312f91b94c95759c50cde0/expr.png\" style=\"display:inline;vertical-align:middle;\" /></a></td></tr>\n",
       "<tr><td>19</td><td>Literal</td><td></td><td><a class=\"ProveItLink\" href=\"../../../../multiplication/__pv_it/common/ed719cef37831779c16481533a4d380a2f95ab270/expr.ipynb\"><img src=\"../../../../multiplication/__pv_it/common/ed719cef37831779c16481533a4d380a2f95ab270/expr.png\" style=\"display:inline;vertical-align:middle;\" /></a></td></tr>\n",
       "<tr><td>20</td><td>ExprTuple</td><td>24</td><td><a class=\"ProveItLink\" href=\"../78cdb68388c3521673bbf14256414916885443400/expr.ipynb\"><img src=\"../78cdb68388c3521673bbf14256414916885443400/expr.png\" style=\"display:inline;vertical-align:middle;\" /></a></td></tr>\n",
       "<tr><td>21</td><td>Lambda</td><td>parameter:&nbsp;36<br>body:&nbsp;25<br></td><td><a class=\"ProveItLink\" href=\"../d757cb64b5ed3acea7c38c5e7f0050186606202d0/expr.ipynb\"><img src=\"../d757cb64b5ed3acea7c38c5e7f0050186606202d0/expr.png\" style=\"display:inline;vertical-align:middle;\" /></a></td></tr>\n",
       "<tr><td>22</td><td>Literal</td><td></td><td><a class=\"ProveItLink\" href=\"../../../../../logic/sets/membership/__pv_it/common/477487d8796864d23d5810f83761435f25167f690/expr.ipynb\"><img src=\"../../../../../logic/sets/membership/__pv_it/common/477487d8796864d23d5810f83761435f25167f690/expr.png\" style=\"display:inline;vertical-align:middle;\" /></a></td></tr>\n",
       "<tr><td>23</td><td>ExprTuple</td><td>31, 26</td><td><a class=\"ProveItLink\" href=\"../fcb17fa09a0e9b584dcb18e5cec4f8377e6cf3780/expr.ipynb\"><img src=\"../fcb17fa09a0e9b584dcb18e5cec4f8377e6cf3780/expr.png\" style=\"display:inline;vertical-align:middle;\" /></a></td></tr>\n",
       "<tr><td>24</td><td>ExprRange</td><td>lambda_map:&nbsp;27<br>start_index:&nbsp;39<br>end_index:&nbsp;28<br></td><td><a class=\"ProveItLink\" href=\"../../../../../core_expr_types/__pv_it/common/a5f13b212a38aa0f8472b7953ca9227038e6b4f50/expr.ipynb\"><img src=\"../../../../../core_expr_types/__pv_it/common/a5f13b212a38aa0f8472b7953ca9227038e6b4f50/expr.png\" style=\"display:inline;vertical-align:middle;\" /></a></td></tr>\n",
       "<tr><td>25</td><td>Operation</td><td>operator:&nbsp;29<br>operands:&nbsp;30<br></td><td><a class=\"ProveItLink\" href=\"../19c5e9f3f28a8fa524cc55660cae01e5b1e7d9fb0/expr.ipynb\"><img src=\"../19c5e9f3f28a8fa524cc55660cae01e5b1e7d9fb0/expr.png\" style=\"display:inline;vertical-align:middle;\" /></a></td></tr>\n",
       "<tr><td>26</td><td>Literal</td><td></td><td><a class=\"ProveItLink\" href=\"../../../../number_sets/complex_numbers/__pv_it/common/d18a028138f659eda00de597c28a3447fe87eb100/expr.ipynb\"><img src=\"../../../../number_sets/complex_numbers/__pv_it/common/d18a028138f659eda00de597c28a3447fe87eb100/expr.png\" style=\"display:inline;vertical-align:middle;\" /></a></td></tr>\n",
       "<tr><td>27</td><td>Lambda</td><td>parameter:&nbsp;34<br>body:&nbsp;31<br></td><td><a class=\"ProveItLink\" href=\"../../../../../core_expr_types/__pv_it/common/9f0c64ef8ae0c02b5dcba32e0fb15bd29f85872a0/expr.ipynb\"><img src=\"../../../../../core_expr_types/__pv_it/common/9f0c64ef8ae0c02b5dcba32e0fb15bd29f85872a0/expr.png\" style=\"display:inline;vertical-align:middle;\" /></a></td></tr>\n",
       "<tr><td>28</td><td>Variable</td><td></td><td><a class=\"ProveItLink\" href=\"../../../../../__pv_it/common/8968bb04eb3f7dfa02353397ce929b025bbd79c20/expr.ipynb\"><img src=\"../../../../../__pv_it/common/8968bb04eb3f7dfa02353397ce929b025bbd79c20/expr.png\" style=\"display:inline;vertical-align:middle;\" /></a></td></tr>\n",
       "<tr><td>29</td><td>Literal</td><td></td><td><a class=\"ProveItLink\" href=\"../../common/0ac37aca1e54c35c5cda09672df32d4f69f1f3020/expr.ipynb\"><img src=\"../../common/0ac37aca1e54c35c5cda09672df32d4f69f1f3020/expr.png\" style=\"display:inline;vertical-align:middle;\" /></a></td></tr>\n",
       "<tr><td>30</td><td>ExprTuple</td><td>32, 33</td><td><a class=\"ProveItLink\" href=\"../ec917a4b4fd86c1d0c12e0de5f437a7814fc29080/expr.ipynb\"><img src=\"../ec917a4b4fd86c1d0c12e0de5f437a7814fc29080/expr.png\" style=\"display:inline;vertical-align:middle;\" /></a></td></tr>\n",
       "<tr><td>31</td><td>IndexedVar</td><td>variable:&nbsp;35<br>index:&nbsp;34<br></td><td><a class=\"ProveItLink\" href=\"../../../../../core_expr_types/__pv_it/common/ea36c59b79decceeaf696ef762cc9648f9ddbf5c0/expr.ipynb\"><img src=\"../../../../../core_expr_types/__pv_it/common/ea36c59b79decceeaf696ef762cc9648f9ddbf5c0/expr.png\" style=\"display:inline;vertical-align:middle;\" /></a></td></tr>\n",
       "<tr><td>32</td><td>IndexedVar</td><td>variable:&nbsp;35<br>index:&nbsp;36<br></td><td><a class=\"ProveItLink\" href=\"../../common/027931bc1cc652aa46582cd4c115ecd6ea47fbd70/expr.ipynb\"><img src=\"../../common/027931bc1cc652aa46582cd4c115ecd6ea47fbd70/expr.png\" style=\"display:inline;vertical-align:middle;\" /></a></td></tr>\n",
       "<tr><td>33</td><td>Operation</td><td>operator:&nbsp;37<br>operands:&nbsp;38<br></td><td><a class=\"ProveItLink\" href=\"../ed794d0dec5d34befefe372b8b03b9df7b69ac470/expr.ipynb\"><img src=\"../ed794d0dec5d34befefe372b8b03b9df7b69ac470/expr.png\" style=\"display:inline;vertical-align:middle;\" /></a></td></tr>\n",
       "<tr><td>34</td><td>Variable</td><td></td><td><a class=\"ProveItLink\" href=\"../../../../../core_expr_types/__pv_it/common/006c465e50948aa2b52285e2de47974f741255cc0/expr.ipynb\"><img src=\"../../../../../core_expr_types/__pv_it/common/006c465e50948aa2b52285e2de47974f741255cc0/expr.png\" style=\"display:inline;vertical-align:middle;\" /></a></td></tr>\n",
       "<tr><td>35</td><td>Variable</td><td></td><td><a class=\"ProveItLink\" href=\"../../../../../__pv_it/common/c06c606ec12678c58933ac85412ecadc2ae28be60/expr.ipynb\"><img src=\"../../../../../__pv_it/common/c06c606ec12678c58933ac85412ecadc2ae28be60/expr.png\" style=\"display:inline;vertical-align:middle;\" /></a></td></tr>\n",
       "<tr><td>36</td><td>Variable</td><td></td><td><a class=\"ProveItLink\" href=\"../../../../../__pv_it/common/ae955345c83abf786c3aff8681cd5465beae262d0/expr.ipynb\"><img src=\"../../../../../__pv_it/common/ae955345c83abf786c3aff8681cd5465beae262d0/expr.png\" style=\"display:inline;vertical-align:middle;\" /></a></td></tr>\n",
       "<tr><td>37</td><td>Literal</td><td></td><td><a class=\"ProveItLink\" href=\"../../../../division/__pv_it/common/a2a633e1e3c749fb1f2692466b287b6348c5de840/expr.ipynb\"><img src=\"../../../../division/__pv_it/common/a2a633e1e3c749fb1f2692466b287b6348c5de840/expr.png\" style=\"display:inline;vertical-align:middle;\" /></a></td></tr>\n",
       "<tr><td>38</td><td>ExprTuple</td><td>39, 40</td><td><a class=\"ProveItLink\" href=\"../95fdce2c03f4c1a2c47c63453ccf25285abc1a5c0/expr.ipynb\"><img src=\"../95fdce2c03f4c1a2c47c63453ccf25285abc1a5c0/expr.png\" style=\"display:inline;vertical-align:middle;\" /></a></td></tr>\n",
       "<tr><td>39</td><td>Literal</td><td></td><td><a class=\"ProveItLink\" href=\"../../../../numerals/__pv_it/common/2778428c7f555b2bdc06aa0530bc142c6e6335100/expr.ipynb\"><img src=\"../../../../numerals/__pv_it/common/2778428c7f555b2bdc06aa0530bc142c6e6335100/expr.png\" style=\"display:inline;vertical-align:middle;\" /></a></td></tr>\n",
       "<tr><td>40</td><td>Literal</td><td></td><td><a class=\"ProveItLink\" href=\"../../../../numerals/__pv_it/common/ba3b059982e8b49413dc653e957beb11e974e4bc0/expr.ipynb\"><img src=\"../../../../numerals/__pv_it/common/ba3b059982e8b49413dc653e957beb11e974e4bc0/expr.png\" style=\"display:inline;vertical-align:middle;\" /></a></td></tr>\n",
       "</table>\n"
      ],
      "text/plain": [
       "0. forall_{a_{1}, ..a_{_a}.., a_{n} in Complex} (sqrt((a_{1} * ..a_{_a}.. * a_{n})) = (sqrt((a_{1})) * ..sqrt((a_{i})).. * sqrt((a_{n}))))\n",
       "   core type: Operation\n",
       "   operator: 1\n",
       "   operand: 2\n",
       "1. forall\n",
       "   core type: Literal\n",
       "   sub-expressions: \n",
       "2. (a_{1}, ..a_{_a}.., a_{n}) -> {sqrt((a_{1} * ..a_{_a}.. * a_{n})) = (sqrt((a_{1})) * ..sqrt((a_{i})).. * sqrt((a_{n}))) if (a_{1} in Complex) and ..(a_{_a} in Complex).. and (a_{n} in Complex).\n",
       "   core type: Lambda\n",
       "   parameters: 20\\n   body: 3\n",
       "3. {sqrt((a_{1} * ..a_{_a}.. * a_{n})) = (sqrt((a_{1})) * ..sqrt((a_{i})).. * sqrt((a_{n}))) if (a_{1} in Complex) and ..(a_{_a} in Complex).. and (a_{n} in Complex).\n",
       "   core type: Conditional\n",
       "   value: 4\n",
       "   condition: 5\n",
       "4. sqrt((a_{1} * ..a_{_a}.. * a_{n})) = (sqrt((a_{1})) * ..sqrt((a_{i})).. * sqrt((a_{n})))\n",
       "   core type: Operation\n",
       "   operator: 6\n",
       "   operands: 7\n",
       "5. (a_{1} in Complex) and ..(a_{_a} in Complex).. and (a_{n} in Complex)\n",
       "   core type: Operation\n",
       "   operator: 8\n",
       "   operands: 9\n",
       "6. =\n",
       "   core type: Literal\n",
       "   sub-expressions: \n",
       "7. (sqrt((a_{1} * ..a_{_a}.. * a_{n})), sqrt((a_{1})) * ..sqrt((a_{i})).. * sqrt((a_{n})))\n",
       "   core type: ExprTuple\n",
       "   sub-expressions: 10, 11\n",
       "8. and\n",
       "   core type: Literal\n",
       "   sub-expressions: \n",
       "9. (a_{1} in Complex, ..a_{_a} in Complex.., a_{n} in Complex)\n",
       "   core type: ExprTuple\n",
       "   sub-expressions: 12\n",
       "10. sqrt((a_{1} * ..a_{_a}.. * a_{n}))\n",
       "    core type: Operation\n",
       "    operator: 29\n",
       "    operands: 13\n",
       "11. sqrt((a_{1})) * ..sqrt((a_{i})).. * sqrt((a_{n}))\n",
       "    core type: Operation\n",
       "    operator: 19\n",
       "    operands: 14\n",
       "12. (a_{1} in Complex), ..(a_{_a} in Complex).., (a_{n} in Complex)\n",
       "    core type: ExprRange\n",
       "    lambda_map: 15\n",
       "    start_index: 39\n",
       "    end_index: 28\n",
       "13. (a_{1} * ..a_{_a}.. * a_{n}, 1 / 2)\n",
       "    core type: ExprTuple\n",
       "    sub-expressions: 16, 33\n",
       "14. (sqrt((a_{1})), ..sqrt((a_{i})).., sqrt((a_{n})))\n",
       "    core type: ExprTuple\n",
       "    sub-expressions: 17\n",
       "15. _a -> (a_{_a} in Complex)\n",
       "    core type: Lambda\n",
       "    parameter: 34\n",
       "    body: 18\n",
       "16. a_{1} * ..a_{_a}.. * a_{n}\n",
       "    core type: Operation\n",
       "    operator: 19\n",
       "    operands: 20\n",
       "17. sqrt((a_{1})), ..sqrt((a_{i})).., sqrt((a_{n}))\n",
       "    core type: ExprRange\n",
       "    lambda_map: 21\n",
       "    start_index: 39\n",
       "    end_index: 28\n",
       "18. a_{_a} in Complex\n",
       "    core type: Operation\n",
       "    operator: 22\n",
       "    operands: 23\n",
       "19. *\n",
       "    core type: Literal\n",
       "    sub-expressions: \n",
       "20. (a_{1}, ..a_{_a}.., a_{n})\n",
       "    core type: ExprTuple\n",
       "    sub-expressions: 24\n",
       "21. i -> sqrt((a_{i}))\n",
       "    core type: Lambda\n",
       "    parameter: 36\n",
       "    body: 25\n",
       "22. in\n",
       "    core type: Literal\n",
       "    sub-expressions: \n",
       "23. (a_{_a}, Complex)\n",
       "    core type: ExprTuple\n",
       "    sub-expressions: 31, 26\n",
       "24. a_{1}, ..a_{_a}.., a_{n}\n",
       "    core type: ExprRange\n",
       "    lambda_map: 27\n",
       "    start_index: 39\n",
       "    end_index: 28\n",
       "25. sqrt((a_{i}))\n",
       "    core type: Operation\n",
       "    operator: 29\n",
       "    operands: 30\n",
       "26. Complex\n",
       "    core type: Literal\n",
       "    sub-expressions: \n",
       "27. _a -> a_{_a}\n",
       "    core type: Lambda\n",
       "    parameter: 34\n",
       "    body: 31\n",
       "28. n\n",
       "    core type: Variable\n",
       "    sub-expressions: \n",
       "29. Exp\n",
       "    core type: Literal\n",
       "    sub-expressions: \n",
       "30. (a_{i}, 1 / 2)\n",
       "    core type: ExprTuple\n",
       "    sub-expressions: 32, 33\n",
       "31. a_{_a}\n",
       "    core type: IndexedVar\n",
       "variable: 35\n",
       "index: 34\n",
       "32. a_{i}\n",
       "    core type: IndexedVar\n",
       "variable: 35\n",
       "index: 36\n",
       "33. 1 / 2\n",
       "    core type: Operation\n",
       "    operator: 37\n",
       "    operands: 38\n",
       "34. _a\n",
       "    core type: Variable\n",
       "    sub-expressions: \n",
       "35. a\n",
       "    core type: Variable\n",
       "    sub-expressions: \n",
       "36. i\n",
       "    core type: Variable\n",
       "    sub-expressions: \n",
       "37. /\n",
       "    core type: Literal\n",
       "    sub-expressions: \n",
       "38. (1, 2)\n",
       "    core type: ExprTuple\n",
       "    sub-expressions: 39, 40\n",
       "39. 1\n",
       "    core type: Literal\n",
       "    sub-expressions: \n",
       "40. 2\n",
       "    core type: Literal\n",
       "    sub-expressions: "
      ]
     },
     "execution_count": 5,
     "metadata": {},
     "output_type": "execute_result"
    }
   ],
   "source": [
    "# display the expression information\n",
    "expr.expr_info()"
   ]
  },
  {
   "cell_type": "code",
   "execution_count": null,
   "metadata": {},
   "outputs": [],
   "source": []
  }
 ],
 "metadata": {
  "kernelspec": {
   "display_name": "Python 3",
   "language": "python",
   "name": "python3"
  }
 },
 "nbformat": 4,
 "nbformat_minor": 0
}