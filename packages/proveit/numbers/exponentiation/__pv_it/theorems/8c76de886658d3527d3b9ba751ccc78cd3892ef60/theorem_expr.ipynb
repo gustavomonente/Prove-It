{
 "cells": [
  {
   "cell_type": "markdown",
   "metadata": {},
   "source": [
    "Theorem <a class=\"ProveItLink\" href=\"../../../_theorems_.ipynb#posnat_power_of_product\">posnat_power_of_product</a> of type <a class=\"ProveItLink\" href=\"../../../../../../../doc/html/api/proveit.logic.Forall.html\">Forall</a>\n",
    "=======================\n",
    "# from the theory of <a class=\"ProveItLink\" href=\"../../../_theory_nbs_/theory.ipynb\">proveit.numbers.exponentiation</a>\n",
    "*** see <a class=\"ProveItLink\" href=\"dependencies.ipynb\">dependencies</a> ***"
   ]
  },
  {
   "cell_type": "code",
   "execution_count": 1,
   "metadata": {},
   "outputs": [],
   "source": [
    "import proveit\n",
    "# Automation is not needed when only building an expression:\n",
    "proveit.defaults.automation = False # This will speed things up.\n",
    "proveit.defaults.inline_pngs = False # Makes files smaller.\n",
    "%load_theorem_expr # Load the stored theorem expression as 'stored_expr'\n",
    "# import the special expression\n",
    "from proveit.numbers.exponentiation import posnat_power_of_product"
   ]
  },
  {
   "cell_type": "code",
   "execution_count": 2,
   "metadata": {},
   "outputs": [
    {
     "name": "stdout",
     "output_type": "stream",
     "text": [
      "Passed sanity check: posnat_power_of_product matches stored_expr\n"
     ]
    }
   ],
   "source": [
    "# check that the built expression is the same as the stored expression\n",
    "assert posnat_power_of_product.expr == stored_expr\n",
    "assert posnat_power_of_product.expr._style_id == stored_expr._style_id\n",
    "print(\"Passed sanity check: posnat_power_of_product matches stored_expr\")"
   ]
  },
  {
   "cell_type": "code",
   "execution_count": 3,
   "metadata": {},
   "outputs": [
    {
     "name": "stdout",
     "output_type": "stream",
     "text": [
      "\\vdash \\forall_{a \\in \\mathbb{C}, b \\in \\mathbb{C}, n \\in \\mathbb{N}^+}~\\left(\\left(a \\cdot b\\right)^{n} = \\left(a^{n} \\cdot b^{n}\\right)\\right)\n"
     ]
    }
   ],
   "source": [
    "# Show the LaTeX representation of the expression for convenience if you need it.\n",
    "print(posnat_power_of_product.latex())"
   ]
  },
  {
   "cell_type": "code",
   "execution_count": 4,
   "metadata": {},
   "outputs": [
    {
     "data": {
      "text/html": [
       "<table>\n",
       "<tr><th>name</th><th>description</th><th>default</th><th>current value</th><th>related methods</th></tr><tr><td>with_wrapping</td><td>If 'True', wrap the Expression after the parameters</td><td>None</td><td>None/False</td><td>('with_wrapping',)</td></tr>\n",
       "<tr><td>wrap_params</td><td>If 'True', wraps every two parameters AND wraps the Expression after the parameters</td><td>None</td><td>None/False</td><td>('with_params',)</td></tr>\n",
       "<tr><td>justification</td><td>justify to the 'left', 'center', or 'right' in the array cells</td><td>center</td><td>center</td><td>('with_justification',)</td></tr>\n",
       "</table>\n"
      ],
      "text/plain": [
       "style name: with_wrapping\n",
       "description: If 'True', wrap the Expression after the parameters\n",
       "default: None\n",
       "current value: None/False\n",
       "related methods: ('with_wrapping',)\n",
       "style name: wrap_params\n",
       "description: If 'True', wraps every two parameters AND wraps the Expression after the parameters\n",
       "default: None\n",
       "current value: None/False\n",
       "related methods: ('with_params',)\n",
       "style name: justification\n",
       "description: justify to the 'left', 'center', or 'right' in the array cells\n",
       "default: center\n",
       "current value: center\n",
       "related methods: ('with_justification',)"
      ]
     },
     "execution_count": 4,
     "metadata": {},
     "output_type": "execute_result"
    }
   ],
   "source": [
    "posnat_power_of_product.style_options()"
   ]
  },
  {
   "cell_type": "code",
   "execution_count": 5,
   "metadata": {},
   "outputs": [
    {
     "data": {
      "text/html": [
       "<table><tr><th>&nbsp;</th><th>core type</th><th>sub-expressions</th><th>expression</th></tr>\n",
       "<tr><td>0</td><td>Operation</td><td>operator:&nbsp;1<br>operand:&nbsp;3<br></td><td><a class=\"ProveItLink\" href=\"../ace97f3c77b37c0ee8f639545e7fe10adba842530/expr.ipynb\"><img src=\"../ace97f3c77b37c0ee8f639545e7fe10adba842530/expr.png\" style=\"display:inline;vertical-align:middle;\" /></a></td></tr>\n",
       "<tr><td>1</td><td>Literal</td><td></td><td><a class=\"ProveItLink\" href=\"../../../../../logic/booleans/quantification/universality/__pv_it/common/684d35ba98fcbf8ca5011f865e530a51e77730630/expr.ipynb\"><img src=\"../../../../../logic/booleans/quantification/universality/__pv_it/common/684d35ba98fcbf8ca5011f865e530a51e77730630/expr.png\" style=\"display:inline;vertical-align:middle;\" /></a></td></tr>\n",
       "<tr><td>2</td><td>ExprTuple</td><td>3</td><td><a class=\"ProveItLink\" href=\"../9cacb9dcc05ed5ee74ac925c7ab19706956e14a20/expr.ipynb\"><img src=\"../9cacb9dcc05ed5ee74ac925c7ab19706956e14a20/expr.png\" style=\"display:inline;vertical-align:middle;\" /></a></td></tr>\n",
       "<tr><td>3</td><td>Lambda</td><td>parameters:&nbsp;4<br>body:&nbsp;5<br></td><td><a class=\"ProveItLink\" href=\"../74278fbffbaeb9954d91b4112a74bcdfb52a8c6e0/expr.ipynb\"><img src=\"../74278fbffbaeb9954d91b4112a74bcdfb52a8c6e0/expr.png\" style=\"display:inline;vertical-align:middle;\" /></a></td></tr>\n",
       "<tr><td>4</td><td>ExprTuple</td><td>33, 34, 35</td><td><a class=\"ProveItLink\" href=\"../421abddde881bdb0cfd8a1983db7bcf4c8b498250/expr.ipynb\"><img src=\"../421abddde881bdb0cfd8a1983db7bcf4c8b498250/expr.png\" style=\"display:inline;vertical-align:middle;\" /></a></td></tr>\n",
       "<tr><td>5</td><td>Conditional</td><td>value:&nbsp;6<br>condition:&nbsp;7<br></td><td><a class=\"ProveItLink\" href=\"../5b6e8a5fd0613388c732f5da4fa1c76d861403ca0/expr.ipynb\"><img src=\"../5b6e8a5fd0613388c732f5da4fa1c76d861403ca0/expr.png\" style=\"display:inline;vertical-align:middle;\" /></a></td></tr>\n",
       "<tr><td>6</td><td>Operation</td><td>operator:&nbsp;8<br>operands:&nbsp;9<br></td><td><a class=\"ProveItLink\" href=\"../7005123f959e5abda6dcf3d327baaf4d0b8422320/expr.ipynb\"><img src=\"../7005123f959e5abda6dcf3d327baaf4d0b8422320/expr.png\" style=\"display:inline;vertical-align:middle;\" /></a></td></tr>\n",
       "<tr><td>7</td><td>Operation</td><td>operator:&nbsp;10<br>operands:&nbsp;11<br></td><td><a class=\"ProveItLink\" href=\"../6fc93826ebca21d0767ff24cb8421395ab08ec120/expr.ipynb\"><img src=\"../6fc93826ebca21d0767ff24cb8421395ab08ec120/expr.png\" style=\"display:inline;vertical-align:middle;\" /></a></td></tr>\n",
       "<tr><td>8</td><td>Literal</td><td></td><td><a class=\"ProveItLink\" href=\"../../../../../logic/equality/__pv_it/common/731dd3955b346c1320ed5c0ba7a618bcda61457d0/expr.ipynb\"><img src=\"../../../../../logic/equality/__pv_it/common/731dd3955b346c1320ed5c0ba7a618bcda61457d0/expr.png\" style=\"display:inline;vertical-align:middle;\" /></a></td></tr>\n",
       "<tr><td>9</td><td>ExprTuple</td><td>12, 13</td><td><a class=\"ProveItLink\" href=\"../0f5c0c19e52cdeb9be707b054a91aa7620311baa0/expr.ipynb\"><img src=\"../0f5c0c19e52cdeb9be707b054a91aa7620311baa0/expr.png\" style=\"display:inline;vertical-align:middle;\" /></a></td></tr>\n",
       "<tr><td>10</td><td>Literal</td><td></td><td><a class=\"ProveItLink\" href=\"../../../../../logic/booleans/conjunction/__pv_it/common/26b94b53e70b1d77b70f0d9d4236347db37731060/expr.ipynb\"><img src=\"../../../../../logic/booleans/conjunction/__pv_it/common/26b94b53e70b1d77b70f0d9d4236347db37731060/expr.png\" style=\"display:inline;vertical-align:middle;\" /></a></td></tr>\n",
       "<tr><td>11</td><td>ExprTuple</td><td>14, 15, 16</td><td><a class=\"ProveItLink\" href=\"../c64dc11cd459d3d7f7352a7bc24a61ecfb9e58cc0/expr.ipynb\"><img src=\"../c64dc11cd459d3d7f7352a7bc24a61ecfb9e58cc0/expr.png\" style=\"display:inline;vertical-align:middle;\" /></a></td></tr>\n",
       "<tr><td>12</td><td>Operation</td><td>operator:&nbsp;31<br>operands:&nbsp;17<br></td><td><a class=\"ProveItLink\" href=\"../c4166d3505d26503c62f4132105a4b64d2073b990/expr.ipynb\"><img src=\"../c4166d3505d26503c62f4132105a4b64d2073b990/expr.png\" style=\"display:inline;vertical-align:middle;\" /></a></td></tr>\n",
       "<tr><td>13</td><td>Operation</td><td>operator:&nbsp;28<br>operands:&nbsp;18<br></td><td><a class=\"ProveItLink\" href=\"../bf61dae3e790b9fd0fdc227a4323182ec986a5ab0/expr.ipynb\"><img src=\"../bf61dae3e790b9fd0fdc227a4323182ec986a5ab0/expr.png\" style=\"display:inline;vertical-align:middle;\" /></a></td></tr>\n",
       "<tr><td>14</td><td>Operation</td><td>operator:&nbsp;21<br>operands:&nbsp;19<br></td><td><a class=\"ProveItLink\" href=\"../95d0d034454e5eb6c3934a54d7a149c5c125a3cb0/expr.ipynb\"><img src=\"../95d0d034454e5eb6c3934a54d7a149c5c125a3cb0/expr.png\" style=\"display:inline;vertical-align:middle;\" /></a></td></tr>\n",
       "<tr><td>15</td><td>Operation</td><td>operator:&nbsp;21<br>operands:&nbsp;20<br></td><td><a class=\"ProveItLink\" href=\"../fe4de3ff0419f38c3d25379035ba812df4fead870/expr.ipynb\"><img src=\"../fe4de3ff0419f38c3d25379035ba812df4fead870/expr.png\" style=\"display:inline;vertical-align:middle;\" /></a></td></tr>\n",
       "<tr><td>16</td><td>Operation</td><td>operator:&nbsp;21<br>operands:&nbsp;22<br></td><td><a class=\"ProveItLink\" href=\"../ae59bd0f03e1fa8f7acebab16a13247bdc6eea470/expr.ipynb\"><img src=\"../ae59bd0f03e1fa8f7acebab16a13247bdc6eea470/expr.png\" style=\"display:inline;vertical-align:middle;\" /></a></td></tr>\n",
       "<tr><td>17</td><td>ExprTuple</td><td>23, 35</td><td><a class=\"ProveItLink\" href=\"../5044d36532778c9c90fb9fc9c6a9fe67db21bd1e0/expr.ipynb\"><img src=\"../5044d36532778c9c90fb9fc9c6a9fe67db21bd1e0/expr.png\" style=\"display:inline;vertical-align:middle;\" /></a></td></tr>\n",
       "<tr><td>18</td><td>ExprTuple</td><td>24, 25</td><td><a class=\"ProveItLink\" href=\"../b864dcf8860d5f4b900ef0278817d4a15a05fa610/expr.ipynb\"><img src=\"../b864dcf8860d5f4b900ef0278817d4a15a05fa610/expr.png\" style=\"display:inline;vertical-align:middle;\" /></a></td></tr>\n",
       "<tr><td>19</td><td>ExprTuple</td><td>33, 26</td><td><a class=\"ProveItLink\" href=\"../124b000752291c9be9fd777a8318a35f27eebae40/expr.ipynb\"><img src=\"../124b000752291c9be9fd777a8318a35f27eebae40/expr.png\" style=\"display:inline;vertical-align:middle;\" /></a></td></tr>\n",
       "<tr><td>20</td><td>ExprTuple</td><td>34, 26</td><td><a class=\"ProveItLink\" href=\"../8366e4d5936209b9da9455e88151b300248abbf10/expr.ipynb\"><img src=\"../8366e4d5936209b9da9455e88151b300248abbf10/expr.png\" style=\"display:inline;vertical-align:middle;\" /></a></td></tr>\n",
       "<tr><td>21</td><td>Literal</td><td></td><td><a class=\"ProveItLink\" href=\"../../../../../logic/sets/membership/__pv_it/common/7171deca84f71f47a6ec7696972d1632274a12880/expr.ipynb\"><img src=\"../../../../../logic/sets/membership/__pv_it/common/7171deca84f71f47a6ec7696972d1632274a12880/expr.png\" style=\"display:inline;vertical-align:middle;\" /></a></td></tr>\n",
       "<tr><td>22</td><td>ExprTuple</td><td>35, 27</td><td><a class=\"ProveItLink\" href=\"../080dd91cc3570be1095df8a1115684c8dda0284e0/expr.ipynb\"><img src=\"../080dd91cc3570be1095df8a1115684c8dda0284e0/expr.png\" style=\"display:inline;vertical-align:middle;\" /></a></td></tr>\n",
       "<tr><td>23</td><td>Operation</td><td>operator:&nbsp;28<br>operands:&nbsp;29<br></td><td><a class=\"ProveItLink\" href=\"../4da2c8e561e012bf6a4e36d1d66358cc511078ac0/expr.ipynb\"><img src=\"../4da2c8e561e012bf6a4e36d1d66358cc511078ac0/expr.png\" style=\"display:inline;vertical-align:middle;\" /></a></td></tr>\n",
       "<tr><td>24</td><td>Operation</td><td>operator:&nbsp;31<br>operands:&nbsp;30<br></td><td><a class=\"ProveItLink\" href=\"../3c44c4207f621dfff160bb70fa2311d73dc89bbd0/expr.ipynb\"><img src=\"../3c44c4207f621dfff160bb70fa2311d73dc89bbd0/expr.png\" style=\"display:inline;vertical-align:middle;\" /></a></td></tr>\n",
       "<tr><td>25</td><td>Operation</td><td>operator:&nbsp;31<br>operands:&nbsp;32<br></td><td><a class=\"ProveItLink\" href=\"../55128870f09203047ae2fb799920f1e37abcfa1d0/expr.ipynb\"><img src=\"../55128870f09203047ae2fb799920f1e37abcfa1d0/expr.png\" style=\"display:inline;vertical-align:middle;\" /></a></td></tr>\n",
       "<tr><td>26</td><td>Literal</td><td></td><td><a class=\"ProveItLink\" href=\"../../../../number_sets/complex_numbers/__pv_it/common/fbfabc61f6f66350b130e5a55a72b80825c065f90/expr.ipynb\"><img src=\"../../../../number_sets/complex_numbers/__pv_it/common/fbfabc61f6f66350b130e5a55a72b80825c065f90/expr.png\" style=\"display:inline;vertical-align:middle;\" /></a></td></tr>\n",
       "<tr><td>27</td><td>Literal</td><td></td><td><a class=\"ProveItLink\" href=\"../../../../number_sets/natural_numbers/__pv_it/common/a2a7252783c385c028dad802e97575c19e456b990/expr.ipynb\"><img src=\"../../../../number_sets/natural_numbers/__pv_it/common/a2a7252783c385c028dad802e97575c19e456b990/expr.png\" style=\"display:inline;vertical-align:middle;\" /></a></td></tr>\n",
       "<tr><td>28</td><td>Literal</td><td></td><td><a class=\"ProveItLink\" href=\"../../../../multiplication/__pv_it/common/c57d60974865e78d434abd3ff22c405685c80ade0/expr.ipynb\"><img src=\"../../../../multiplication/__pv_it/common/c57d60974865e78d434abd3ff22c405685c80ade0/expr.png\" style=\"display:inline;vertical-align:middle;\" /></a></td></tr>\n",
       "<tr><td>29</td><td>ExprTuple</td><td>33, 34</td><td><a class=\"ProveItLink\" href=\"../1bdfc8550dcba21649b1aca02603584957f865fb0/expr.ipynb\"><img src=\"../1bdfc8550dcba21649b1aca02603584957f865fb0/expr.png\" style=\"display:inline;vertical-align:middle;\" /></a></td></tr>\n",
       "<tr><td>30</td><td>ExprTuple</td><td>33, 35</td><td><a class=\"ProveItLink\" href=\"../b688d34e74728c79048b36b19e1f3ff735f59e690/expr.ipynb\"><img src=\"../b688d34e74728c79048b36b19e1f3ff735f59e690/expr.png\" style=\"display:inline;vertical-align:middle;\" /></a></td></tr>\n",
       "<tr><td>31</td><td>Literal</td><td></td><td><a class=\"ProveItLink\" href=\"../../common/31d1b89e3c2fad7d997556c69b6be6425b6f59a40/expr.ipynb\"><img src=\"../../common/31d1b89e3c2fad7d997556c69b6be6425b6f59a40/expr.png\" style=\"display:inline;vertical-align:middle;\" /></a></td></tr>\n",
       "<tr><td>32</td><td>ExprTuple</td><td>34, 35</td><td><a class=\"ProveItLink\" href=\"../0859c54fada9ad57b669966493447d6343dd2a410/expr.ipynb\"><img src=\"../0859c54fada9ad57b669966493447d6343dd2a410/expr.png\" style=\"display:inline;vertical-align:middle;\" /></a></td></tr>\n",
       "<tr><td>33</td><td>Variable</td><td></td><td><a class=\"ProveItLink\" href=\"../../../../../__pv_it/common/66c90e66682f107a881f2d666959f64e2e72ad750/expr.ipynb\"><img src=\"../../../../../__pv_it/common/66c90e66682f107a881f2d666959f64e2e72ad750/expr.png\" style=\"display:inline;vertical-align:middle;\" /></a></td></tr>\n",
       "<tr><td>34</td><td>Variable</td><td></td><td><a class=\"ProveItLink\" href=\"../../../../../__pv_it/common/4a5db8cc5c67969ec864bd3ea598be37cb6f5e550/expr.ipynb\"><img src=\"../../../../../__pv_it/common/4a5db8cc5c67969ec864bd3ea598be37cb6f5e550/expr.png\" style=\"display:inline;vertical-align:middle;\" /></a></td></tr>\n",
       "<tr><td>35</td><td>Variable</td><td></td><td><a class=\"ProveItLink\" href=\"../../../../../__pv_it/common/6165c9bb82ce3c7097cdba4440a1aeeb6eaca8a40/expr.ipynb\"><img src=\"../../../../../__pv_it/common/6165c9bb82ce3c7097cdba4440a1aeeb6eaca8a40/expr.png\" style=\"display:inline;vertical-align:middle;\" /></a></td></tr>\n",
       "</table>\n"
      ],
      "text/plain": [
       "0. forall_{a in Complex, b in Complex, n in NaturalPos} ((a * b)^{n} = (a^{n} * b^{n}))\n",
       "   core type: Operation\n",
       "   operator: 1\n",
       "   operand: 3\n",
       "1. forall\n",
       "   core type: Literal\n",
       "   sub-expressions: \n",
       "2. ((a, b, n) -> {(a * b)^{n} = (a^{n} * b^{n}) if a in Complex ,  b in Complex ,  n in NaturalPos.)\n",
       "   core type: ExprTuple\n",
       "   sub-expressions: 3\n",
       "3. (a, b, n) -> {(a * b)^{n} = (a^{n} * b^{n}) if a in Complex ,  b in Complex ,  n in NaturalPos.\n",
       "   core type: Lambda\n",
       "   parameters: 4\\n   body: 5\n",
       "4. (a, b, n)\n",
       "   core type: ExprTuple\n",
       "   sub-expressions: 33, 34, 35\n",
       "5. {(a * b)^{n} = (a^{n} * b^{n}) if a in Complex ,  b in Complex ,  n in NaturalPos.\n",
       "   core type: Conditional\n",
       "   value: 6\n",
       "   condition: 7\n",
       "6. (a * b)^{n} = (a^{n} * b^{n})\n",
       "   core type: Operation\n",
       "   operator: 8\n",
       "   operands: 9\n",
       "7. (a in Complex) and (b in Complex) and (n in NaturalPos)\n",
       "   core type: Operation\n",
       "   operator: 10\n",
       "   operands: 11\n",
       "8. =\n",
       "   core type: Literal\n",
       "   sub-expressions: \n",
       "9. ((a * b)^{n}, a^{n} * b^{n})\n",
       "   core type: ExprTuple\n",
       "   sub-expressions: 12, 13\n",
       "10. and\n",
       "    core type: Literal\n",
       "    sub-expressions: \n",
       "11. (a in Complex, b in Complex, n in NaturalPos)\n",
       "    core type: ExprTuple\n",
       "    sub-expressions: 14, 15, 16\n",
       "12. (a * b)^{n}\n",
       "    core type: Operation\n",
       "    operator: 31\n",
       "    operands: 17\n",
       "13. a^{n} * b^{n}\n",
       "    core type: Operation\n",
       "    operator: 28\n",
       "    operands: 18\n",
       "14. a in Complex\n",
       "    core type: Operation\n",
       "    operator: 21\n",
       "    operands: 19\n",
       "15. b in Complex\n",
       "    core type: Operation\n",
       "    operator: 21\n",
       "    operands: 20\n",
       "16. n in NaturalPos\n",
       "    core type: Operation\n",
       "    operator: 21\n",
       "    operands: 22\n",
       "17. (a * b, n)\n",
       "    core type: ExprTuple\n",
       "    sub-expressions: 23, 35\n",
       "18. (a^{n}, b^{n})\n",
       "    core type: ExprTuple\n",
       "    sub-expressions: 24, 25\n",
       "19. (a, Complex)\n",
       "    core type: ExprTuple\n",
       "    sub-expressions: 33, 26\n",
       "20. (b, Complex)\n",
       "    core type: ExprTuple\n",
       "    sub-expressions: 34, 26\n",
       "21. in\n",
       "    core type: Literal\n",
       "    sub-expressions: \n",
       "22. (n, NaturalPos)\n",
       "    core type: ExprTuple\n",
       "    sub-expressions: 35, 27\n",
       "23. a * b\n",
       "    core type: Operation\n",
       "    operator: 28\n",
       "    operands: 29\n",
       "24. a^{n}\n",
       "    core type: Operation\n",
       "    operator: 31\n",
       "    operands: 30\n",
       "25. b^{n}\n",
       "    core type: Operation\n",
       "    operator: 31\n",
       "    operands: 32\n",
       "26. Complex\n",
       "    core type: Literal\n",
       "    sub-expressions: \n",
       "27. NaturalPos\n",
       "    core type: Literal\n",
       "    sub-expressions: \n",
       "28. *\n",
       "    core type: Literal\n",
       "    sub-expressions: \n",
       "29. (a, b)\n",
       "    core type: ExprTuple\n",
       "    sub-expressions: 33, 34\n",
       "30. (a, n)\n",
       "    core type: ExprTuple\n",
       "    sub-expressions: 33, 35\n",
       "31. Exp\n",
       "    core type: Literal\n",
       "    sub-expressions: \n",
       "32. (b, n)\n",
       "    core type: ExprTuple\n",
       "    sub-expressions: 34, 35\n",
       "33. a\n",
       "    core type: Variable\n",
       "    sub-expressions: \n",
       "34. b\n",
       "    core type: Variable\n",
       "    sub-expressions: \n",
       "35. n\n",
       "    core type: Variable\n",
       "    sub-expressions: "
      ]
     },
     "execution_count": 5,
     "metadata": {},
     "output_type": "execute_result"
    }
   ],
   "source": [
    "# display the expression information\n",
    "posnat_power_of_product.expr_info()"
   ]
  },
  {
   "cell_type": "code",
   "execution_count": null,
   "metadata": {},
   "outputs": [],
   "source": []
  }
 ],
 "metadata": {
  "kernelspec": {
   "display_name": "Python 3",
   "language": "python",
   "name": "python3"
  }
 },
 "nbformat": 4,
 "nbformat_minor": 0
}