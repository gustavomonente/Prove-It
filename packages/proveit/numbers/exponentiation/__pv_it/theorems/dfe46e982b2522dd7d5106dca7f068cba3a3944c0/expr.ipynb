{
 "cells": [
  {
   "cell_type": "markdown",
   "metadata": {},
   "source": [
    "Expression of type <a class=\"ProveItLink\" href=\"../../../../../../../doc/html/api/proveit.logic.Equals.html\">Equals</a>\n",
    "=======================\n",
    "# from the theory of <a class=\"ProveItLink\" href=\"../../../_theory_nbs_/theory.ipynb\">proveit.numbers.exponentiation</a>"
   ]
  },
  {
   "cell_type": "code",
   "execution_count": 1,
   "metadata": {},
   "outputs": [],
   "source": [
    "import proveit\n",
    "# Automation is not needed when building an expression:\n",
    "proveit.defaults.automation = False # This will speed things up.\n",
    "proveit.defaults.inline_pngs = False # Makes files smaller.\n",
    "%load_expr # Load the stored expression as 'stored_expr'\n",
    "# import Expression classes needed to build the expression\n",
    "from proveit import a\n",
    "from proveit.core_expr_types import k_1_to_m\n",
    "from proveit.logic import Equals\n",
    "from proveit.numbers import Add, Exp\n",
    "from proveit.numbers.exponentiation import prod_a_raise_ki__1_to_m"
   ]
  },
  {
   "cell_type": "code",
   "execution_count": 2,
   "metadata": {},
   "outputs": [
    {
     "data": {
      "text/html": [
       "<strong id=\"expr\">expr:</strong> <a class=\"ProveItLink\" href=\"expr.ipynb\"><img src=\"expr.png\" style=\"display:inline;vertical-align:middle;\" /></a><br>"
      ],
      "text/plain": [
       "expr: (a^{k_{1}} * ..a^{k_{i}}.. * a^{k_{m}}) = a^{k_{1} + ..k_{_a}.. + k_{m}}"
      ]
     },
     "execution_count": 2,
     "metadata": {},
     "output_type": "execute_result"
    }
   ],
   "source": [
    "# build up the expression from sub-expressions\n",
    "expr = Equals(prod_a_raise_ki__1_to_m, Exp(a, Add(k_1_to_m)))"
   ]
  },
  {
   "cell_type": "code",
   "execution_count": 3,
   "metadata": {},
   "outputs": [
    {
     "name": "stdout",
     "output_type": "stream",
     "text": [
      "Passed sanity check: expr matches stored_expr\n"
     ]
    }
   ],
   "source": [
    "# check that the built expression is the same as the stored expression\n",
    "assert expr == stored_expr\n",
    "assert expr._style_id == stored_expr._style_id\n",
    "print(\"Passed sanity check: expr matches stored_expr\")"
   ]
  },
  {
   "cell_type": "code",
   "execution_count": 4,
   "metadata": {},
   "outputs": [
    {
     "name": "stdout",
     "output_type": "stream",
     "text": [
      "\\left(a^{k_{1}} \\cdot \\ldots \\cdot a^{k_{m}}\\right) = a^{k_{1} + \\ldots + k_{m}}\n"
     ]
    }
   ],
   "source": [
    "# Show the LaTeX representation of the expression for convenience if you need it.\n",
    "print(expr.latex())"
   ]
  },
  {
   "cell_type": "code",
   "execution_count": 5,
   "metadata": {},
   "outputs": [
    {
     "data": {
      "text/html": [
       "<table><tr><th>&nbsp;</th><th>core type</th><th>sub-expressions</th><th>expression</th></tr>\n",
       "<tr><td>0</td><td>Operation</td><td>operator:&nbsp;1<br>operands:&nbsp;2<br></td><td><a class=\"ProveItLink\" href=\"expr.ipynb\"><img src=\"expr.png\" style=\"display:inline;vertical-align:middle;\" /></a></td></tr>\n",
       "<tr><td>1</td><td>Literal</td><td></td><td><a class=\"ProveItLink\" href=\"../../../../../logic/equality/__pv_it/common/fb96dc12b2aa8801dda64d0132b396c63d1502bb0/expr.ipynb\"><img src=\"../../../../../logic/equality/__pv_it/common/fb96dc12b2aa8801dda64d0132b396c63d1502bb0/expr.png\" style=\"display:inline;vertical-align:middle;\" /></a></td></tr>\n",
       "<tr><td>2</td><td>ExprTuple</td><td>3, 4</td><td><a class=\"ProveItLink\" href=\"../0f2729e3c6a87cd0add36f10d0f7a3a5237f17fb0/expr.ipynb\"><img src=\"../0f2729e3c6a87cd0add36f10d0f7a3a5237f17fb0/expr.png\" style=\"display:inline;vertical-align:middle;\" /></a></td></tr>\n",
       "<tr><td>3</td><td>Operation</td><td>operator:&nbsp;5<br>operands:&nbsp;6<br></td><td><a class=\"ProveItLink\" href=\"../../common/aac050f52c811b4df08eb946e9f8fdf8bad7edfc0/expr.ipynb\"><img src=\"../../common/aac050f52c811b4df08eb946e9f8fdf8bad7edfc0/expr.png\" style=\"display:inline;vertical-align:middle;\" /></a></td></tr>\n",
       "<tr><td>4</td><td>Operation</td><td>operator:&nbsp;15<br>operands:&nbsp;7<br></td><td><a class=\"ProveItLink\" href=\"../018028891445f1a5893f905beaaf8000908683480/expr.ipynb\"><img src=\"../018028891445f1a5893f905beaaf8000908683480/expr.png\" style=\"display:inline;vertical-align:middle;\" /></a></td></tr>\n",
       "<tr><td>5</td><td>Literal</td><td></td><td><a class=\"ProveItLink\" href=\"../../../../multiplication/__pv_it/common/ed719cef37831779c16481533a4d380a2f95ab270/expr.ipynb\"><img src=\"../../../../multiplication/__pv_it/common/ed719cef37831779c16481533a4d380a2f95ab270/expr.png\" style=\"display:inline;vertical-align:middle;\" /></a></td></tr>\n",
       "<tr><td>6</td><td>ExprTuple</td><td>8</td><td><a class=\"ProveItLink\" href=\"../../common/82a407af885a84e43063a8677ff13b01ee7b52880/expr.ipynb\"><img src=\"../../common/82a407af885a84e43063a8677ff13b01ee7b52880/expr.png\" style=\"display:inline;vertical-align:middle;\" /></a></td></tr>\n",
       "<tr><td>7</td><td>ExprTuple</td><td>20, 9</td><td><a class=\"ProveItLink\" href=\"../f4f1736b2fe4659289651abaa9cb121c78637aba0/expr.ipynb\"><img src=\"../f4f1736b2fe4659289651abaa9cb121c78637aba0/expr.png\" style=\"display:inline;vertical-align:middle;\" /></a></td></tr>\n",
       "<tr><td>8</td><td>ExprRange</td><td>lambda_map:&nbsp;10<br>start_index:&nbsp;18<br>end_index:&nbsp;19<br></td><td><a class=\"ProveItLink\" href=\"../../common/5d41763d6d9307e034bb0217b9e47b63fcc139530/expr.ipynb\"><img src=\"../../common/5d41763d6d9307e034bb0217b9e47b63fcc139530/expr.png\" style=\"display:inline;vertical-align:middle;\" /></a></td></tr>\n",
       "<tr><td>9</td><td>Operation</td><td>operator:&nbsp;11<br>operands:&nbsp;12<br></td><td><a class=\"ProveItLink\" href=\"../9255a0b8404954a7e0db6c3f679f720dd1bd2fbd0/expr.ipynb\"><img src=\"../9255a0b8404954a7e0db6c3f679f720dd1bd2fbd0/expr.png\" style=\"display:inline;vertical-align:middle;\" /></a></td></tr>\n",
       "<tr><td>10</td><td>Lambda</td><td>parameter:&nbsp;23<br>body:&nbsp;13<br></td><td><a class=\"ProveItLink\" href=\"../../common/fadbd50b05f7842cd2a9ebedd09a6ff22199994f0/expr.ipynb\"><img src=\"../../common/fadbd50b05f7842cd2a9ebedd09a6ff22199994f0/expr.png\" style=\"display:inline;vertical-align:middle;\" /></a></td></tr>\n",
       "<tr><td>11</td><td>Literal</td><td></td><td><a class=\"ProveItLink\" href=\"../../../../addition/__pv_it/common/4b7effaab3619a1c2c38fe2dee8601df8ec714590/expr.ipynb\"><img src=\"../../../../addition/__pv_it/common/4b7effaab3619a1c2c38fe2dee8601df8ec714590/expr.png\" style=\"display:inline;vertical-align:middle;\" /></a></td></tr>\n",
       "<tr><td>12</td><td>ExprTuple</td><td>14</td><td><a class=\"ProveItLink\" href=\"../70592956cb6a2209146e122617a9e726945ee05c0/expr.ipynb\"><img src=\"../70592956cb6a2209146e122617a9e726945ee05c0/expr.png\" style=\"display:inline;vertical-align:middle;\" /></a></td></tr>\n",
       "<tr><td>13</td><td>Operation</td><td>operator:&nbsp;15<br>operands:&nbsp;16<br></td><td><a class=\"ProveItLink\" href=\"../../common/9ae4b81e2f698f1b10131e29b3a44ef853f4f9390/expr.ipynb\"><img src=\"../../common/9ae4b81e2f698f1b10131e29b3a44ef853f4f9390/expr.png\" style=\"display:inline;vertical-align:middle;\" /></a></td></tr>\n",
       "<tr><td>14</td><td>ExprRange</td><td>lambda_map:&nbsp;17<br>start_index:&nbsp;18<br>end_index:&nbsp;19<br></td><td><a class=\"ProveItLink\" href=\"../../../../../core_expr_types/__pv_it/common/f03c83face7be8e1151f477c8c50fcb7fff10b130/expr.ipynb\"><img src=\"../../../../../core_expr_types/__pv_it/common/f03c83face7be8e1151f477c8c50fcb7fff10b130/expr.png\" style=\"display:inline;vertical-align:middle;\" /></a></td></tr>\n",
       "<tr><td>15</td><td>Literal</td><td></td><td><a class=\"ProveItLink\" href=\"../../common/0ac37aca1e54c35c5cda09672df32d4f69f1f3020/expr.ipynb\"><img src=\"../../common/0ac37aca1e54c35c5cda09672df32d4f69f1f3020/expr.png\" style=\"display:inline;vertical-align:middle;\" /></a></td></tr>\n",
       "<tr><td>16</td><td>ExprTuple</td><td>20, 21</td><td><a class=\"ProveItLink\" href=\"../../common/8cc2d73b9e8a84fb1ffa3670d69c2c22f483b9a40/expr.ipynb\"><img src=\"../../common/8cc2d73b9e8a84fb1ffa3670d69c2c22f483b9a40/expr.png\" style=\"display:inline;vertical-align:middle;\" /></a></td></tr>\n",
       "<tr><td>17</td><td>Lambda</td><td>parameter:&nbsp;25<br>body:&nbsp;22<br></td><td><a class=\"ProveItLink\" href=\"../../../../../core_expr_types/__pv_it/common/026c0ebffb10b0a172dcd7a7901a511176f472450/expr.ipynb\"><img src=\"../../../../../core_expr_types/__pv_it/common/026c0ebffb10b0a172dcd7a7901a511176f472450/expr.png\" style=\"display:inline;vertical-align:middle;\" /></a></td></tr>\n",
       "<tr><td>18</td><td>Literal</td><td></td><td><a class=\"ProveItLink\" href=\"../../../../numerals/__pv_it/common/2778428c7f555b2bdc06aa0530bc142c6e6335100/expr.ipynb\"><img src=\"../../../../numerals/__pv_it/common/2778428c7f555b2bdc06aa0530bc142c6e6335100/expr.png\" style=\"display:inline;vertical-align:middle;\" /></a></td></tr>\n",
       "<tr><td>19</td><td>Variable</td><td></td><td><a class=\"ProveItLink\" href=\"../../../../../__pv_it/common/674a03b9c3ca221b3aabd5636837b31528ff33830/expr.ipynb\"><img src=\"../../../../../__pv_it/common/674a03b9c3ca221b3aabd5636837b31528ff33830/expr.png\" style=\"display:inline;vertical-align:middle;\" /></a></td></tr>\n",
       "<tr><td>20</td><td>Variable</td><td></td><td><a class=\"ProveItLink\" href=\"../../../../../__pv_it/common/c06c606ec12678c58933ac85412ecadc2ae28be60/expr.ipynb\"><img src=\"../../../../../__pv_it/common/c06c606ec12678c58933ac85412ecadc2ae28be60/expr.png\" style=\"display:inline;vertical-align:middle;\" /></a></td></tr>\n",
       "<tr><td>21</td><td>IndexedVar</td><td>variable:&nbsp;24<br>index:&nbsp;23<br></td><td><a class=\"ProveItLink\" href=\"../../common/41014bade471371bca8b0de29f7bf5c4084e92df0/expr.ipynb\"><img src=\"../../common/41014bade471371bca8b0de29f7bf5c4084e92df0/expr.png\" style=\"display:inline;vertical-align:middle;\" /></a></td></tr>\n",
       "<tr><td>22</td><td>IndexedVar</td><td>variable:&nbsp;24<br>index:&nbsp;25<br></td><td><a class=\"ProveItLink\" href=\"../../../../../core_expr_types/__pv_it/common/103ccf8a8d1b486590a994acc563b71a358401860/expr.ipynb\"><img src=\"../../../../../core_expr_types/__pv_it/common/103ccf8a8d1b486590a994acc563b71a358401860/expr.png\" style=\"display:inline;vertical-align:middle;\" /></a></td></tr>\n",
       "<tr><td>23</td><td>Variable</td><td></td><td><a class=\"ProveItLink\" href=\"../../../../../__pv_it/common/ae955345c83abf786c3aff8681cd5465beae262d0/expr.ipynb\"><img src=\"../../../../../__pv_it/common/ae955345c83abf786c3aff8681cd5465beae262d0/expr.png\" style=\"display:inline;vertical-align:middle;\" /></a></td></tr>\n",
       "<tr><td>24</td><td>Variable</td><td></td><td><a class=\"ProveItLink\" href=\"../../../../../__pv_it/common/63b7c64bf9ec7a04ecc396c7a1670f3f12fb59490/expr.ipynb\"><img src=\"../../../../../__pv_it/common/63b7c64bf9ec7a04ecc396c7a1670f3f12fb59490/expr.png\" style=\"display:inline;vertical-align:middle;\" /></a></td></tr>\n",
       "<tr><td>25</td><td>Variable</td><td></td><td><a class=\"ProveItLink\" href=\"../../../../../core_expr_types/__pv_it/common/006c465e50948aa2b52285e2de47974f741255cc0/expr.ipynb\"><img src=\"../../../../../core_expr_types/__pv_it/common/006c465e50948aa2b52285e2de47974f741255cc0/expr.png\" style=\"display:inline;vertical-align:middle;\" /></a></td></tr>\n",
       "</table>\n"
      ],
      "text/plain": [
       "0. (a^{k_{1}} * ..a^{k_{i}}.. * a^{k_{m}}) = a^{k_{1} + ..k_{_a}.. + k_{m}}\n",
       "   core type: Operation\n",
       "   operator: 1\n",
       "   operands: 2\n",
       "1. =\n",
       "   core type: Literal\n",
       "   sub-expressions: \n",
       "2. (a^{k_{1}} * ..a^{k_{i}}.. * a^{k_{m}}, a^{k_{1} + ..k_{_a}.. + k_{m}})\n",
       "   core type: ExprTuple\n",
       "   sub-expressions: 3, 4\n",
       "3. a^{k_{1}} * ..a^{k_{i}}.. * a^{k_{m}}\n",
       "   core type: Operation\n",
       "   operator: 5\n",
       "   operands: 6\n",
       "4. a^{k_{1} + ..k_{_a}.. + k_{m}}\n",
       "   core type: Operation\n",
       "   operator: 15\n",
       "   operands: 7\n",
       "5. *\n",
       "   core type: Literal\n",
       "   sub-expressions: \n",
       "6. (a^{k_{1}}, ..a^{k_{i}}.., a^{k_{m}})\n",
       "   core type: ExprTuple\n",
       "   sub-expressions: 8\n",
       "7. (a, k_{1} + ..k_{_a}.. + k_{m})\n",
       "   core type: ExprTuple\n",
       "   sub-expressions: 20, 9\n",
       "8. a^{k_{1}}, ..a^{k_{i}}.., a^{k_{m}}\n",
       "   core type: ExprRange\n",
       "   lambda_map: 10\n",
       "   start_index: 18\n",
       "   end_index: 19\n",
       "9. k_{1} + ..k_{_a}.. + k_{m}\n",
       "   core type: Operation\n",
       "   operator: 11\n",
       "   operands: 12\n",
       "10. i -> a^{k_{i}}\n",
       "    core type: Lambda\n",
       "    parameter: 23\n",
       "    body: 13\n",
       "11. +\n",
       "    core type: Literal\n",
       "    sub-expressions: \n",
       "12. (k_{1}, ..k_{_a}.., k_{m})\n",
       "    core type: ExprTuple\n",
       "    sub-expressions: 14\n",
       "13. a^{k_{i}}\n",
       "    core type: Operation\n",
       "    operator: 15\n",
       "    operands: 16\n",
       "14. k_{1}, ..k_{_a}.., k_{m}\n",
       "    core type: ExprRange\n",
       "    lambda_map: 17\n",
       "    start_index: 18\n",
       "    end_index: 19\n",
       "15. Exp\n",
       "    core type: Literal\n",
       "    sub-expressions: \n",
       "16. (a, k_{i})\n",
       "    core type: ExprTuple\n",
       "    sub-expressions: 20, 21\n",
       "17. _a -> k_{_a}\n",
       "    core type: Lambda\n",
       "    parameter: 25\n",
       "    body: 22\n",
       "18. 1\n",
       "    core type: Literal\n",
       "    sub-expressions: \n",
       "19. m\n",
       "    core type: Variable\n",
       "    sub-expressions: \n",
       "20. a\n",
       "    core type: Variable\n",
       "    sub-expressions: \n",
       "21. k_{i}\n",
       "    core type: IndexedVar\n",
       "variable: 24\n",
       "index: 23\n",
       "22. k_{_a}\n",
       "    core type: IndexedVar\n",
       "variable: 24\n",
       "index: 25\n",
       "23. i\n",
       "    core type: Variable\n",
       "    sub-expressions: \n",
       "24. k\n",
       "    core type: Variable\n",
       "    sub-expressions: \n",
       "25. _a\n",
       "    core type: Variable\n",
       "    sub-expressions: "
      ]
     },
     "execution_count": 5,
     "metadata": {},
     "output_type": "execute_result"
    }
   ],
   "source": [
    "# display the expression information\n",
    "expr.expr_info()"
   ]
  },
  {
   "cell_type": "code",
   "execution_count": null,
   "metadata": {},
   "outputs": [],
   "source": []
  }
 ],
 "metadata": {
  "kernelspec": {
   "display_name": "Python 3",
   "language": "python",
   "name": "python3"
  }
 },
 "nbformat": 4,
 "nbformat_minor": 0
}