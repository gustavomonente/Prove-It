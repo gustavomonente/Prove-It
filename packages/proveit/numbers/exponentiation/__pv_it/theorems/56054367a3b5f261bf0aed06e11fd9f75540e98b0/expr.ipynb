{
 "cells": [
  {
   "cell_type": "markdown",
   "metadata": {},
   "source": [
    "Expression of type <a class=\"ProveItLink\" href=\"../../../../../../../doc/html/api/proveit.logic.And.html\">And</a>\n",
    "=======================\n",
    "# from the theory of <a class=\"ProveItLink\" href=\"../../../_theory_nbs_/theory.ipynb\">proveit.numbers.exponentiation</a>"
   ]
  },
  {
   "cell_type": "code",
   "execution_count": 1,
   "metadata": {},
   "outputs": [],
   "source": [
    "import proveit\n",
    "# Automation is not needed when building an expression:\n",
    "proveit.defaults.automation = False # This will speed things up.\n",
    "proveit.defaults.inline_pngs = False # Makes files smaller.\n",
    "%load_expr # Load the stored expression as 'stored_expr'\n",
    "# import Expression classes needed to build the expression\n",
    "from proveit import ExprRange, IndexedVar, Variable, a, b, m\n",
    "from proveit.logic import And, InSet\n",
    "from proveit.numbers import Complex, RealPos, one"
   ]
  },
  {
   "cell_type": "code",
   "execution_count": 2,
   "metadata": {},
   "outputs": [
    {
     "data": {
      "text/html": [
       "<strong id=\"expr\">expr:</strong> <a class=\"ProveItLink\" href=\"expr.ipynb\"><img src=\"expr.png\" style=\"display:inline;vertical-align:middle;\" /></a><br>"
      ],
      "text/plain": [
       "expr: (a_{1} in RealPos) and ..(a_{_a} in RealPos).. and (a_{m} in RealPos) and (b in Complex)"
      ]
     },
     "execution_count": 2,
     "metadata": {},
     "output_type": "execute_result"
    }
   ],
   "source": [
    "# build up the expression from sub-expressions\n",
    "sub_expr1 = Variable(\"_a\", latex_format = r\"{_{-}a}\")\n",
    "expr = And(ExprRange(sub_expr1, InSet(IndexedVar(a, sub_expr1), RealPos), one, m), InSet(b, Complex))"
   ]
  },
  {
   "cell_type": "code",
   "execution_count": 3,
   "metadata": {},
   "outputs": [
    {
     "name": "stdout",
     "output_type": "stream",
     "text": [
      "Passed sanity check: expr matches stored_expr\n"
     ]
    }
   ],
   "source": [
    "# check that the built expression is the same as the stored expression\n",
    "assert expr == stored_expr\n",
    "assert expr._style_id == stored_expr._style_id\n",
    "print(\"Passed sanity check: expr matches stored_expr\")"
   ]
  },
  {
   "cell_type": "code",
   "execution_count": 4,
   "metadata": {},
   "outputs": [
    {
     "name": "stdout",
     "output_type": "stream",
     "text": [
      "\\left(a_{1} \\in \\mathbb{R}^+\\right) \\land \\ldots \\land \\left(a_{m} \\in \\mathbb{R}^+\\right) \\land \\left(b \\in \\mathbb{C}\\right)\n"
     ]
    }
   ],
   "source": [
    "# Show the LaTeX representation of the expression for convenience if you need it.\n",
    "print(expr.latex())"
   ]
  },
  {
   "cell_type": "code",
   "execution_count": 5,
   "metadata": {},
   "outputs": [
    {
     "data": {
      "text/html": [
       "<table>\n",
       "<tr><th>name</th><th>description</th><th>default</th><th>current value</th><th>related methods</th></tr><tr><td>operation</td><td>'infix' or 'function' style formatting</td><td>infix</td><td>infix</td><td></td></tr>\n",
       "<tr><td>wrap_positions</td><td>position(s) at which wrapping is to occur; '2 n - 1' is after the nth operand, '2 n' is after the nth operation.</td><td>()</td><td>()</td><td>('with_wrapping_at', 'with_wrap_before_operator', 'with_wrap_after_operator', 'wrap_positions')</td></tr>\n",
       "<tr><td>justification</td><td>if any wrap positions are set, justify to the 'left', 'center', or 'right'</td><td>center</td><td>center</td><td>('with_justification',)</td></tr>\n",
       "</table>\n"
      ],
      "text/plain": [
       "style name: operation\n",
       "description: 'infix' or 'function' style formatting\n",
       "default: infix\n",
       "current value: infix\n",
       "related methods: ()\n",
       "style name: wrap_positions\n",
       "description: position(s) at which wrapping is to occur; '2 n - 1' is after the nth operand, '2 n' is after the nth operation.\n",
       "default: ()\n",
       "current value: ()\n",
       "related methods: ('with_wrapping_at', 'with_wrap_before_operator', 'with_wrap_after_operator', 'wrap_positions')\n",
       "style name: justification\n",
       "description: if any wrap positions are set, justify to the 'left', 'center', or 'right'\n",
       "default: center\n",
       "current value: center\n",
       "related methods: ('with_justification',)"
      ]
     },
     "execution_count": 5,
     "metadata": {},
     "output_type": "execute_result"
    }
   ],
   "source": [
    "expr.style_options()"
   ]
  },
  {
   "cell_type": "code",
   "execution_count": 6,
   "metadata": {},
   "outputs": [
    {
     "data": {
      "text/html": [
       "<table><tr><th>&nbsp;</th><th>core type</th><th>sub-expressions</th><th>expression</th></tr>\n",
       "<tr><td>0</td><td>Operation</td><td>operator:&nbsp;1<br>operands:&nbsp;2<br></td><td><a class=\"ProveItLink\" href=\"expr.ipynb\"><img src=\"expr.png\" style=\"display:inline;vertical-align:middle;\" /></a></td></tr>\n",
       "<tr><td>1</td><td>Literal</td><td></td><td><a class=\"ProveItLink\" href=\"../../../../../logic/booleans/conjunction/__pv_it/common/26b94b53e70b1d77b70f0d9d4236347db37731060/expr.ipynb\"><img src=\"../../../../../logic/booleans/conjunction/__pv_it/common/26b94b53e70b1d77b70f0d9d4236347db37731060/expr.png\" style=\"display:inline;vertical-align:middle;\" /></a></td></tr>\n",
       "<tr><td>2</td><td>ExprTuple</td><td>3, 4</td><td><a class=\"ProveItLink\" href=\"../4f20569a8df6529da31e7e42b1f7e8f8aeac88f80/expr.ipynb\"><img src=\"../4f20569a8df6529da31e7e42b1f7e8f8aeac88f80/expr.png\" style=\"display:inline;vertical-align:middle;\" /></a></td></tr>\n",
       "<tr><td>3</td><td>ExprRange</td><td>lambda_map:&nbsp;5<br>start_index:&nbsp;6<br>end_index:&nbsp;7<br></td><td><a class=\"ProveItLink\" href=\"../8f015b7ccc9b818b07827dd9224d2ea38f978e7d0/expr.ipynb\"><img src=\"../8f015b7ccc9b818b07827dd9224d2ea38f978e7d0/expr.png\" style=\"display:inline;vertical-align:middle;\" /></a></td></tr>\n",
       "<tr><td>4</td><td>Operation</td><td>operator:&nbsp;12<br>operands:&nbsp;8<br></td><td><a class=\"ProveItLink\" href=\"../fe4de3ff0419f38c3d25379035ba812df4fead870/expr.ipynb\"><img src=\"../fe4de3ff0419f38c3d25379035ba812df4fead870/expr.png\" style=\"display:inline;vertical-align:middle;\" /></a></td></tr>\n",
       "<tr><td>5</td><td>Lambda</td><td>parameter:&nbsp;18<br>body:&nbsp;9<br></td><td><a class=\"ProveItLink\" href=\"../7661eb38c2a708697541e9e07f09df9dfae507e00/expr.ipynb\"><img src=\"../7661eb38c2a708697541e9e07f09df9dfae507e00/expr.png\" style=\"display:inline;vertical-align:middle;\" /></a></td></tr>\n",
       "<tr><td>6</td><td>Literal</td><td></td><td><a class=\"ProveItLink\" href=\"../../../../numerals/__pv_it/common/d278e359da0695d9652dd541d45264f93703e2e40/expr.ipynb\"><img src=\"../../../../numerals/__pv_it/common/d278e359da0695d9652dd541d45264f93703e2e40/expr.png\" style=\"display:inline;vertical-align:middle;\" /></a></td></tr>\n",
       "<tr><td>7</td><td>Variable</td><td></td><td><a class=\"ProveItLink\" href=\"../../../../../__pv_it/common/2dc4f15b3407a25e8d70754a86bf74f1871f92650/expr.ipynb\"><img src=\"../../../../../__pv_it/common/2dc4f15b3407a25e8d70754a86bf74f1871f92650/expr.png\" style=\"display:inline;vertical-align:middle;\" /></a></td></tr>\n",
       "<tr><td>8</td><td>ExprTuple</td><td>10, 11</td><td><a class=\"ProveItLink\" href=\"../8366e4d5936209b9da9455e88151b300248abbf10/expr.ipynb\"><img src=\"../8366e4d5936209b9da9455e88151b300248abbf10/expr.png\" style=\"display:inline;vertical-align:middle;\" /></a></td></tr>\n",
       "<tr><td>9</td><td>Operation</td><td>operator:&nbsp;12<br>operands:&nbsp;13<br></td><td><a class=\"ProveItLink\" href=\"../89109a4a4b9e066d0cbf3aefae4df86b5e66adfb0/expr.ipynb\"><img src=\"../89109a4a4b9e066d0cbf3aefae4df86b5e66adfb0/expr.png\" style=\"display:inline;vertical-align:middle;\" /></a></td></tr>\n",
       "<tr><td>10</td><td>Variable</td><td></td><td><a class=\"ProveItLink\" href=\"../../../../../__pv_it/common/4a5db8cc5c67969ec864bd3ea598be37cb6f5e550/expr.ipynb\"><img src=\"../../../../../__pv_it/common/4a5db8cc5c67969ec864bd3ea598be37cb6f5e550/expr.png\" style=\"display:inline;vertical-align:middle;\" /></a></td></tr>\n",
       "<tr><td>11</td><td>Literal</td><td></td><td><a class=\"ProveItLink\" href=\"../../../../number_sets/complex_numbers/__pv_it/common/fbfabc61f6f66350b130e5a55a72b80825c065f90/expr.ipynb\"><img src=\"../../../../number_sets/complex_numbers/__pv_it/common/fbfabc61f6f66350b130e5a55a72b80825c065f90/expr.png\" style=\"display:inline;vertical-align:middle;\" /></a></td></tr>\n",
       "<tr><td>12</td><td>Literal</td><td></td><td><a class=\"ProveItLink\" href=\"../../../../../logic/sets/membership/__pv_it/common/7171deca84f71f47a6ec7696972d1632274a12880/expr.ipynb\"><img src=\"../../../../../logic/sets/membership/__pv_it/common/7171deca84f71f47a6ec7696972d1632274a12880/expr.png\" style=\"display:inline;vertical-align:middle;\" /></a></td></tr>\n",
       "<tr><td>13</td><td>ExprTuple</td><td>14, 15</td><td><a class=\"ProveItLink\" href=\"../0d35cf861e5848f179d000728719b1616f6c29810/expr.ipynb\"><img src=\"../0d35cf861e5848f179d000728719b1616f6c29810/expr.png\" style=\"display:inline;vertical-align:middle;\" /></a></td></tr>\n",
       "<tr><td>14</td><td>IndexedVar</td><td>variable:&nbsp;16<br>index:&nbsp;18<br></td><td><a class=\"ProveItLink\" href=\"../../../../../core_expr_types/__pv_it/common/d8d3053e77ba1db68c0cd106952422881db586670/expr.ipynb\"><img src=\"../../../../../core_expr_types/__pv_it/common/d8d3053e77ba1db68c0cd106952422881db586670/expr.png\" style=\"display:inline;vertical-align:middle;\" /></a></td></tr>\n",
       "<tr><td>15</td><td>Literal</td><td></td><td><a class=\"ProveItLink\" href=\"../../../../number_sets/real_numbers/__pv_it/common/8c67355f38838cbd6b40f3876e11d664940344be0/expr.ipynb\"><img src=\"../../../../number_sets/real_numbers/__pv_it/common/8c67355f38838cbd6b40f3876e11d664940344be0/expr.png\" style=\"display:inline;vertical-align:middle;\" /></a></td></tr>\n",
       "<tr><td>16</td><td>Variable</td><td></td><td><a class=\"ProveItLink\" href=\"../../../../../__pv_it/common/66c90e66682f107a881f2d666959f64e2e72ad750/expr.ipynb\"><img src=\"../../../../../__pv_it/common/66c90e66682f107a881f2d666959f64e2e72ad750/expr.png\" style=\"display:inline;vertical-align:middle;\" /></a></td></tr>\n",
       "<tr><td>17</td><td>ExprTuple</td><td>18</td><td><a class=\"ProveItLink\" href=\"../../../../../core_expr_types/__pv_it/common/ecf50ade416ab41c42c9f4e777b4c862cd9469670/expr.ipynb\"><img src=\"../../../../../core_expr_types/__pv_it/common/ecf50ade416ab41c42c9f4e777b4c862cd9469670/expr.png\" style=\"display:inline;vertical-align:middle;\" /></a></td></tr>\n",
       "<tr><td>18</td><td>Variable</td><td></td><td><a class=\"ProveItLink\" href=\"../../../../../core_expr_types/__pv_it/common/9e6d9d5d7eeb0342cf5bca68def0eb165a1a9bb10/expr.ipynb\"><img src=\"../../../../../core_expr_types/__pv_it/common/9e6d9d5d7eeb0342cf5bca68def0eb165a1a9bb10/expr.png\" style=\"display:inline;vertical-align:middle;\" /></a></td></tr>\n",
       "</table>\n"
      ],
      "text/plain": [
       "0. (a_{1} in RealPos) and ..(a_{_a} in RealPos).. and (a_{m} in RealPos) and (b in Complex)\n",
       "   core type: Operation\n",
       "   operator: 1\n",
       "   operands: 2\n",
       "1. and\n",
       "   core type: Literal\n",
       "   sub-expressions: \n",
       "2. (a_{1} in RealPos, ..a_{_a} in RealPos.., a_{m} in RealPos, b in Complex)\n",
       "   core type: ExprTuple\n",
       "   sub-expressions: 3, 4\n",
       "3. (a_{1} in RealPos), ..(a_{_a} in RealPos).., (a_{m} in RealPos)\n",
       "   core type: ExprRange\n",
       "   lambda_map: 5\n",
       "   start_index: 6\n",
       "   end_index: 7\n",
       "4. b in Complex\n",
       "   core type: Operation\n",
       "   operator: 12\n",
       "   operands: 8\n",
       "5. _a -> (a_{_a} in RealPos)\n",
       "   core type: Lambda\n",
       "   parameter: 18\n",
       "   body: 9\n",
       "6. 1\n",
       "   core type: Literal\n",
       "   sub-expressions: \n",
       "7. m\n",
       "   core type: Variable\n",
       "   sub-expressions: \n",
       "8. (b, Complex)\n",
       "   core type: ExprTuple\n",
       "   sub-expressions: 10, 11\n",
       "9. a_{_a} in RealPos\n",
       "   core type: Operation\n",
       "   operator: 12\n",
       "   operands: 13\n",
       "10. b\n",
       "    core type: Variable\n",
       "    sub-expressions: \n",
       "11. Complex\n",
       "    core type: Literal\n",
       "    sub-expressions: \n",
       "12. in\n",
       "    core type: Literal\n",
       "    sub-expressions: \n",
       "13. (a_{_a}, RealPos)\n",
       "    core type: ExprTuple\n",
       "    sub-expressions: 14, 15\n",
       "14. a_{_a}\n",
       "    core type: IndexedVar\n",
       "variable: 16\n",
       "index: 18\n",
       "15. RealPos\n",
       "    core type: Literal\n",
       "    sub-expressions: \n",
       "16. a\n",
       "    core type: Variable\n",
       "    sub-expressions: \n",
       "17. (_a)\n",
       "    core type: ExprTuple\n",
       "    sub-expressions: 18\n",
       "18. _a\n",
       "    core type: Variable\n",
       "    sub-expressions: "
      ]
     },
     "execution_count": 6,
     "metadata": {},
     "output_type": "execute_result"
    }
   ],
   "source": [
    "# display the expression information\n",
    "expr.expr_info()"
   ]
  },
  {
   "cell_type": "code",
   "execution_count": null,
   "metadata": {},
   "outputs": [],
   "source": []
  }
 ],
 "metadata": {
  "kernelspec": {
   "display_name": "Python 3",
   "language": "python",
   "name": "python3"
  }
 },
 "nbformat": 4,
 "nbformat_minor": 0
}