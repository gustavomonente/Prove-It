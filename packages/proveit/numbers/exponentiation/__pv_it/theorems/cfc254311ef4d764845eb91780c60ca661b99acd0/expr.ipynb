{
 "cells": [
  {
   "cell_type": "markdown",
   "metadata": {},
   "source": [
    "Expression of type <a class=\"ProveItLink\" href=\"../../../../../../../doc/html/api/proveit.ExprTuple.html\">ExprTuple</a>\n",
    "=======================\n",
    "# from the theory of <a class=\"ProveItLink\" href=\"../../../_theory_nbs_/theory.ipynb\">proveit.numbers.exponentiation</a>"
   ]
  },
  {
   "cell_type": "code",
   "execution_count": 1,
   "metadata": {},
   "outputs": [],
   "source": [
    "import proveit\n",
    "# Automation is not needed when building an expression:\n",
    "proveit.defaults.automation = False # This will speed things up.\n",
    "proveit.defaults.inline_pngs = False # Makes files smaller.\n",
    "%load_expr # Load the stored expression as 'stored_expr'\n",
    "# import Expression classes needed to build the expression\n",
    "from proveit import Conditional, ExprRange, ExprTuple, IndexedVar, Lambda, Variable, a, i, n\n",
    "from proveit.core_expr_types import a_1_to_n\n",
    "from proveit.logic import And, Equals, InSet\n",
    "from proveit.numbers import Complex, Mult, one, sqrt"
   ]
  },
  {
   "cell_type": "code",
   "execution_count": 2,
   "metadata": {},
   "outputs": [
    {
     "data": {
      "text/html": [
       "<strong id=\"expr\">expr:</strong> <a class=\"ProveItLink\" href=\"expr.ipynb\"><img src=\"expr.png\" style=\"display:inline;vertical-align:middle;\" /></a><br>"
      ],
      "text/plain": [
       "expr: ((a_{1}, ..a_{_a}.., a_{n}) -> {sqrt((a_{1} * ..a_{_a}.. * a_{n})) = (sqrt((a_{1})) * ..sqrt((a_{i})).. * sqrt((a_{n}))) if (a_{1} in Complex) and ..(a_{_a} in Complex).. and (a_{n} in Complex).)"
      ]
     },
     "execution_count": 2,
     "metadata": {},
     "output_type": "execute_result"
    }
   ],
   "source": [
    "# build up the expression from sub-expressions\n",
    "sub_expr1 = Variable(\"_a\", latex_format = r\"{_{-}a}\")\n",
    "expr = ExprTuple(Lambda([a_1_to_n], Conditional(Equals(sqrt(Mult(a_1_to_n)), Mult(ExprRange(i, sqrt(IndexedVar(a, i)), one, n))), And(ExprRange(sub_expr1, InSet(IndexedVar(a, sub_expr1), Complex), one, n)))))"
   ]
  },
  {
   "cell_type": "code",
   "execution_count": 3,
   "metadata": {},
   "outputs": [
    {
     "name": "stdout",
     "output_type": "stream",
     "text": [
      "Passed sanity check: expr matches stored_expr\n"
     ]
    }
   ],
   "source": [
    "# check that the built expression is the same as the stored expression\n",
    "assert expr == stored_expr\n",
    "assert expr._style_id == stored_expr._style_id\n",
    "print(\"Passed sanity check: expr matches stored_expr\")"
   ]
  },
  {
   "cell_type": "code",
   "execution_count": 4,
   "metadata": {},
   "outputs": [
    {
     "name": "stdout",
     "output_type": "stream",
     "text": [
      "\\left(\\left(a_{1}, \\ldots, a_{n}\\right) \\mapsto \\left\\{\\sqrt{\\left(a_{1} \\cdot \\ldots \\cdot a_{n}\\right)} = \\left(\\sqrt{\\left(a_{1}\\right)} \\cdot \\ldots \\cdot \\sqrt{\\left(a_{n}\\right)}\\right) \\textrm{ if } \\left(a_{1} \\in \\mathbb{C}\\right) \\land \\ldots \\land \\left(a_{n} \\in \\mathbb{C}\\right)\\right..\\right)\n"
     ]
    }
   ],
   "source": [
    "# Show the LaTeX representation of the expression for convenience if you need it.\n",
    "print(expr.latex())"
   ]
  },
  {
   "cell_type": "code",
   "execution_count": 5,
   "metadata": {},
   "outputs": [
    {
     "data": {
      "text/html": [
       "no style options"
      ],
      "text/plain": [
       "no style options"
      ]
     },
     "execution_count": 5,
     "metadata": {},
     "output_type": "execute_result"
    }
   ],
   "source": [
    "expr.style_options()"
   ]
  },
  {
   "cell_type": "code",
   "execution_count": 6,
   "metadata": {},
   "outputs": [
    {
     "data": {
      "text/html": [
       "<table><tr><th>&nbsp;</th><th>core type</th><th>sub-expressions</th><th>expression</th></tr>\n",
       "<tr><td>0</td><td>ExprTuple</td><td>1</td><td><a class=\"ProveItLink\" href=\"expr.ipynb\"><img src=\"expr.png\" style=\"display:inline;vertical-align:middle;\" /></a></td></tr>\n",
       "<tr><td>1</td><td>Lambda</td><td>parameters:&nbsp;19<br>body:&nbsp;2<br></td><td><a class=\"ProveItLink\" href=\"../c94afb5b997bdf9c1b51780cc69211bf5efdbe320/expr.ipynb\"><img src=\"../c94afb5b997bdf9c1b51780cc69211bf5efdbe320/expr.png\" style=\"display:inline;vertical-align:middle;\" /></a></td></tr>\n",
       "<tr><td>2</td><td>Conditional</td><td>value:&nbsp;3<br>condition:&nbsp;4<br></td><td><a class=\"ProveItLink\" href=\"../95cc5efdff0c05d281200599de19e93385f6c97b0/expr.ipynb\"><img src=\"../95cc5efdff0c05d281200599de19e93385f6c97b0/expr.png\" style=\"display:inline;vertical-align:middle;\" /></a></td></tr>\n",
       "<tr><td>3</td><td>Operation</td><td>operator:&nbsp;5<br>operands:&nbsp;6<br></td><td><a class=\"ProveItLink\" href=\"../863aa2da8ed339e2c592603b2eaf6ccc0b04ca220/expr.ipynb\"><img src=\"../863aa2da8ed339e2c592603b2eaf6ccc0b04ca220/expr.png\" style=\"display:inline;vertical-align:middle;\" /></a></td></tr>\n",
       "<tr><td>4</td><td>Operation</td><td>operator:&nbsp;7<br>operands:&nbsp;8<br></td><td><a class=\"ProveItLink\" href=\"../041728f3e9c045575ae7d25fd92290d2142440e80/expr.ipynb\"><img src=\"../041728f3e9c045575ae7d25fd92290d2142440e80/expr.png\" style=\"display:inline;vertical-align:middle;\" /></a></td></tr>\n",
       "<tr><td>5</td><td>Literal</td><td></td><td><a class=\"ProveItLink\" href=\"../../../../../logic/equality/__pv_it/common/731dd3955b346c1320ed5c0ba7a618bcda61457d0/expr.ipynb\"><img src=\"../../../../../logic/equality/__pv_it/common/731dd3955b346c1320ed5c0ba7a618bcda61457d0/expr.png\" style=\"display:inline;vertical-align:middle;\" /></a></td></tr>\n",
       "<tr><td>6</td><td>ExprTuple</td><td>9, 10</td><td><a class=\"ProveItLink\" href=\"../0f6120fe975518efa2b4e114bd4db3a69de3973c0/expr.ipynb\"><img src=\"../0f6120fe975518efa2b4e114bd4db3a69de3973c0/expr.png\" style=\"display:inline;vertical-align:middle;\" /></a></td></tr>\n",
       "<tr><td>7</td><td>Literal</td><td></td><td><a class=\"ProveItLink\" href=\"../../../../../logic/booleans/conjunction/__pv_it/common/26b94b53e70b1d77b70f0d9d4236347db37731060/expr.ipynb\"><img src=\"../../../../../logic/booleans/conjunction/__pv_it/common/26b94b53e70b1d77b70f0d9d4236347db37731060/expr.png\" style=\"display:inline;vertical-align:middle;\" /></a></td></tr>\n",
       "<tr><td>8</td><td>ExprTuple</td><td>11</td><td><a class=\"ProveItLink\" href=\"../6277033f843e15bcffd4c86a43b2a5b747cdd86f0/expr.ipynb\"><img src=\"../6277033f843e15bcffd4c86a43b2a5b747cdd86f0/expr.png\" style=\"display:inline;vertical-align:middle;\" /></a></td></tr>\n",
       "<tr><td>9</td><td>Operation</td><td>operator:&nbsp;28<br>operands:&nbsp;12<br></td><td><a class=\"ProveItLink\" href=\"../7400b6b16ad1972e6c60436f9b76454d324bcda20/expr.ipynb\"><img src=\"../7400b6b16ad1972e6c60436f9b76454d324bcda20/expr.png\" style=\"display:inline;vertical-align:middle;\" /></a></td></tr>\n",
       "<tr><td>10</td><td>Operation</td><td>operator:&nbsp;18<br>operands:&nbsp;13<br></td><td><a class=\"ProveItLink\" href=\"../fa48bf10360c8d81b923600a26b6efd4458f46c60/expr.ipynb\"><img src=\"../fa48bf10360c8d81b923600a26b6efd4458f46c60/expr.png\" style=\"display:inline;vertical-align:middle;\" /></a></td></tr>\n",
       "<tr><td>11</td><td>ExprRange</td><td>lambda_map:&nbsp;14<br>start_index:&nbsp;40<br>end_index:&nbsp;27<br></td><td><a class=\"ProveItLink\" href=\"../e05de899473bcffb6a1922a2ab0375aee265fcd70/expr.ipynb\"><img src=\"../e05de899473bcffb6a1922a2ab0375aee265fcd70/expr.png\" style=\"display:inline;vertical-align:middle;\" /></a></td></tr>\n",
       "<tr><td>12</td><td>ExprTuple</td><td>15, 32</td><td><a class=\"ProveItLink\" href=\"../4a9f119b3d552762356dde6f3e65d3eb5c702d390/expr.ipynb\"><img src=\"../4a9f119b3d552762356dde6f3e65d3eb5c702d390/expr.png\" style=\"display:inline;vertical-align:middle;\" /></a></td></tr>\n",
       "<tr><td>13</td><td>ExprTuple</td><td>16</td><td><a class=\"ProveItLink\" href=\"../f8f80c38eb8e04ffcdfd586dccbbb0b90eabdc580/expr.ipynb\"><img src=\"../f8f80c38eb8e04ffcdfd586dccbbb0b90eabdc580/expr.png\" style=\"display:inline;vertical-align:middle;\" /></a></td></tr>\n",
       "<tr><td>14</td><td>Lambda</td><td>parameter:&nbsp;38<br>body:&nbsp;17<br></td><td><a class=\"ProveItLink\" href=\"../27e93e67a24b341093eff99ce754a280791bae3c0/expr.ipynb\"><img src=\"../27e93e67a24b341093eff99ce754a280791bae3c0/expr.png\" style=\"display:inline;vertical-align:middle;\" /></a></td></tr>\n",
       "<tr><td>15</td><td>Operation</td><td>operator:&nbsp;18<br>operands:&nbsp;19<br></td><td><a class=\"ProveItLink\" href=\"../32ae756c53c751f699ff73b8e6120ae3761e645d0/expr.ipynb\"><img src=\"../32ae756c53c751f699ff73b8e6120ae3761e645d0/expr.png\" style=\"display:inline;vertical-align:middle;\" /></a></td></tr>\n",
       "<tr><td>16</td><td>ExprRange</td><td>lambda_map:&nbsp;20<br>start_index:&nbsp;40<br>end_index:&nbsp;27<br></td><td><a class=\"ProveItLink\" href=\"../f0ee81bea11751573060a1715c780d86de0d42170/expr.ipynb\"><img src=\"../f0ee81bea11751573060a1715c780d86de0d42170/expr.png\" style=\"display:inline;vertical-align:middle;\" /></a></td></tr>\n",
       "<tr><td>17</td><td>Operation</td><td>operator:&nbsp;21<br>operands:&nbsp;22<br></td><td><a class=\"ProveItLink\" href=\"../2130076bc63d68a0309fd8e0d550825477dbd8360/expr.ipynb\"><img src=\"../2130076bc63d68a0309fd8e0d550825477dbd8360/expr.png\" style=\"display:inline;vertical-align:middle;\" /></a></td></tr>\n",
       "<tr><td>18</td><td>Literal</td><td></td><td><a class=\"ProveItLink\" href=\"../../../../multiplication/__pv_it/common/c57d60974865e78d434abd3ff22c405685c80ade0/expr.ipynb\"><img src=\"../../../../multiplication/__pv_it/common/c57d60974865e78d434abd3ff22c405685c80ade0/expr.png\" style=\"display:inline;vertical-align:middle;\" /></a></td></tr>\n",
       "<tr><td>19</td><td>ExprTuple</td><td>23</td><td><a class=\"ProveItLink\" href=\"../3c2073fded113a048bf7371c726cf466ae4d92300/expr.ipynb\"><img src=\"../3c2073fded113a048bf7371c726cf466ae4d92300/expr.png\" style=\"display:inline;vertical-align:middle;\" /></a></td></tr>\n",
       "<tr><td>20</td><td>Lambda</td><td>parameter:&nbsp;39<br>body:&nbsp;24<br></td><td><a class=\"ProveItLink\" href=\"../ac88499496804f2abd7250f16057e6f1c1cc75d20/expr.ipynb\"><img src=\"../ac88499496804f2abd7250f16057e6f1c1cc75d20/expr.png\" style=\"display:inline;vertical-align:middle;\" /></a></td></tr>\n",
       "<tr><td>21</td><td>Literal</td><td></td><td><a class=\"ProveItLink\" href=\"../../../../../logic/sets/membership/__pv_it/common/7171deca84f71f47a6ec7696972d1632274a12880/expr.ipynb\"><img src=\"../../../../../logic/sets/membership/__pv_it/common/7171deca84f71f47a6ec7696972d1632274a12880/expr.png\" style=\"display:inline;vertical-align:middle;\" /></a></td></tr>\n",
       "<tr><td>22</td><td>ExprTuple</td><td>30, 25</td><td><a class=\"ProveItLink\" href=\"../359244aab050266f05050a39f3eed21eef6a34090/expr.ipynb\"><img src=\"../359244aab050266f05050a39f3eed21eef6a34090/expr.png\" style=\"display:inline;vertical-align:middle;\" /></a></td></tr>\n",
       "<tr><td>23</td><td>ExprRange</td><td>lambda_map:&nbsp;26<br>start_index:&nbsp;40<br>end_index:&nbsp;27<br></td><td><a class=\"ProveItLink\" href=\"../../../../../core_expr_types/__pv_it/common/95cc4bc4f612e88f5f51ce4796fd60b1d217c7850/expr.ipynb\"><img src=\"../../../../../core_expr_types/__pv_it/common/95cc4bc4f612e88f5f51ce4796fd60b1d217c7850/expr.png\" style=\"display:inline;vertical-align:middle;\" /></a></td></tr>\n",
       "<tr><td>24</td><td>Operation</td><td>operator:&nbsp;28<br>operands:&nbsp;29<br></td><td><a class=\"ProveItLink\" href=\"../dbd989a4b78fc44558773bbfd80ef64ce723b3200/expr.ipynb\"><img src=\"../dbd989a4b78fc44558773bbfd80ef64ce723b3200/expr.png\" style=\"display:inline;vertical-align:middle;\" /></a></td></tr>\n",
       "<tr><td>25</td><td>Literal</td><td></td><td><a class=\"ProveItLink\" href=\"../../../../number_sets/complex_numbers/__pv_it/common/fbfabc61f6f66350b130e5a55a72b80825c065f90/expr.ipynb\"><img src=\"../../../../number_sets/complex_numbers/__pv_it/common/fbfabc61f6f66350b130e5a55a72b80825c065f90/expr.png\" style=\"display:inline;vertical-align:middle;\" /></a></td></tr>\n",
       "<tr><td>26</td><td>Lambda</td><td>parameter:&nbsp;38<br>body:&nbsp;30<br></td><td><a class=\"ProveItLink\" href=\"../../../../../core_expr_types/__pv_it/common/99ea59f1b92e70eddeee736182b1abeb9f49c91b0/expr.ipynb\"><img src=\"../../../../../core_expr_types/__pv_it/common/99ea59f1b92e70eddeee736182b1abeb9f49c91b0/expr.png\" style=\"display:inline;vertical-align:middle;\" /></a></td></tr>\n",
       "<tr><td>27</td><td>Variable</td><td></td><td><a class=\"ProveItLink\" href=\"../../../../../__pv_it/common/6165c9bb82ce3c7097cdba4440a1aeeb6eaca8a40/expr.ipynb\"><img src=\"../../../../../__pv_it/common/6165c9bb82ce3c7097cdba4440a1aeeb6eaca8a40/expr.png\" style=\"display:inline;vertical-align:middle;\" /></a></td></tr>\n",
       "<tr><td>28</td><td>Literal</td><td></td><td><a class=\"ProveItLink\" href=\"../../common/31d1b89e3c2fad7d997556c69b6be6425b6f59a40/expr.ipynb\"><img src=\"../../common/31d1b89e3c2fad7d997556c69b6be6425b6f59a40/expr.png\" style=\"display:inline;vertical-align:middle;\" /></a></td></tr>\n",
       "<tr><td>29</td><td>ExprTuple</td><td>31, 32</td><td><a class=\"ProveItLink\" href=\"../af181db7b9fb00409dc4fddd005ebf219becb9240/expr.ipynb\"><img src=\"../af181db7b9fb00409dc4fddd005ebf219becb9240/expr.png\" style=\"display:inline;vertical-align:middle;\" /></a></td></tr>\n",
       "<tr><td>30</td><td>IndexedVar</td><td>variable:&nbsp;34<br>index:&nbsp;38<br></td><td><a class=\"ProveItLink\" href=\"../../../../../core_expr_types/__pv_it/common/d8d3053e77ba1db68c0cd106952422881db586670/expr.ipynb\"><img src=\"../../../../../core_expr_types/__pv_it/common/d8d3053e77ba1db68c0cd106952422881db586670/expr.png\" style=\"display:inline;vertical-align:middle;\" /></a></td></tr>\n",
       "<tr><td>31</td><td>IndexedVar</td><td>variable:&nbsp;34<br>index:&nbsp;39<br></td><td><a class=\"ProveItLink\" href=\"../../common/9583c173eac3bc09b5673cedfcc063ce8b90cc790/expr.ipynb\"><img src=\"../../common/9583c173eac3bc09b5673cedfcc063ce8b90cc790/expr.png\" style=\"display:inline;vertical-align:middle;\" /></a></td></tr>\n",
       "<tr><td>32</td><td>Operation</td><td>operator:&nbsp;36<br>operands:&nbsp;37<br></td><td><a class=\"ProveItLink\" href=\"../aa547f88216e68e08c946bb8fdc4d68b926388850/expr.ipynb\"><img src=\"../aa547f88216e68e08c946bb8fdc4d68b926388850/expr.png\" style=\"display:inline;vertical-align:middle;\" /></a></td></tr>\n",
       "<tr><td>33</td><td>ExprTuple</td><td>38</td><td><a class=\"ProveItLink\" href=\"../../../../../core_expr_types/__pv_it/common/ecf50ade416ab41c42c9f4e777b4c862cd9469670/expr.ipynb\"><img src=\"../../../../../core_expr_types/__pv_it/common/ecf50ade416ab41c42c9f4e777b4c862cd9469670/expr.png\" style=\"display:inline;vertical-align:middle;\" /></a></td></tr>\n",
       "<tr><td>34</td><td>Variable</td><td></td><td><a class=\"ProveItLink\" href=\"../../../../../__pv_it/common/66c90e66682f107a881f2d666959f64e2e72ad750/expr.ipynb\"><img src=\"../../../../../__pv_it/common/66c90e66682f107a881f2d666959f64e2e72ad750/expr.png\" style=\"display:inline;vertical-align:middle;\" /></a></td></tr>\n",
       "<tr><td>35</td><td>ExprTuple</td><td>39</td><td><a class=\"ProveItLink\" href=\"../../common/6420c4d2520c27c1137ad22005291620057456040/expr.ipynb\"><img src=\"../../common/6420c4d2520c27c1137ad22005291620057456040/expr.png\" style=\"display:inline;vertical-align:middle;\" /></a></td></tr>\n",
       "<tr><td>36</td><td>Literal</td><td></td><td><a class=\"ProveItLink\" href=\"../../../../division/__pv_it/common/9ecc1ae47b83f7ed759e5ea63a2023a8f2ab04800/expr.ipynb\"><img src=\"../../../../division/__pv_it/common/9ecc1ae47b83f7ed759e5ea63a2023a8f2ab04800/expr.png\" style=\"display:inline;vertical-align:middle;\" /></a></td></tr>\n",
       "<tr><td>37</td><td>ExprTuple</td><td>40, 41</td><td><a class=\"ProveItLink\" href=\"../b6dda0abe24a4592fb130c02ca5a89c1328050430/expr.ipynb\"><img src=\"../b6dda0abe24a4592fb130c02ca5a89c1328050430/expr.png\" style=\"display:inline;vertical-align:middle;\" /></a></td></tr>\n",
       "<tr><td>38</td><td>Variable</td><td></td><td><a class=\"ProveItLink\" href=\"../../../../../core_expr_types/__pv_it/common/9e6d9d5d7eeb0342cf5bca68def0eb165a1a9bb10/expr.ipynb\"><img src=\"../../../../../core_expr_types/__pv_it/common/9e6d9d5d7eeb0342cf5bca68def0eb165a1a9bb10/expr.png\" style=\"display:inline;vertical-align:middle;\" /></a></td></tr>\n",
       "<tr><td>39</td><td>Variable</td><td></td><td><a class=\"ProveItLink\" href=\"../../../../../__pv_it/common/575a6156bb1c87c5beeaf38c302b5905ad57f5780/expr.ipynb\"><img src=\"../../../../../__pv_it/common/575a6156bb1c87c5beeaf38c302b5905ad57f5780/expr.png\" style=\"display:inline;vertical-align:middle;\" /></a></td></tr>\n",
       "<tr><td>40</td><td>Literal</td><td></td><td><a class=\"ProveItLink\" href=\"../../../../numerals/__pv_it/common/d278e359da0695d9652dd541d45264f93703e2e40/expr.ipynb\"><img src=\"../../../../numerals/__pv_it/common/d278e359da0695d9652dd541d45264f93703e2e40/expr.png\" style=\"display:inline;vertical-align:middle;\" /></a></td></tr>\n",
       "<tr><td>41</td><td>Literal</td><td></td><td><a class=\"ProveItLink\" href=\"../../../../numerals/__pv_it/common/3829356ce3fdf8f35810c63c00bc1a19e838663e0/expr.ipynb\"><img src=\"../../../../numerals/__pv_it/common/3829356ce3fdf8f35810c63c00bc1a19e838663e0/expr.png\" style=\"display:inline;vertical-align:middle;\" /></a></td></tr>\n",
       "</table>\n"
      ],
      "text/plain": [
       "0. ((a_{1}, ..a_{_a}.., a_{n}) -> {sqrt((a_{1} * ..a_{_a}.. * a_{n})) = (sqrt((a_{1})) * ..sqrt((a_{i})).. * sqrt((a_{n}))) if (a_{1} in Complex) and ..(a_{_a} in Complex).. and (a_{n} in Complex).)\n",
       "   core type: ExprTuple\n",
       "   sub-expressions: 1\n",
       "1. (a_{1}, ..a_{_a}.., a_{n}) -> {sqrt((a_{1} * ..a_{_a}.. * a_{n})) = (sqrt((a_{1})) * ..sqrt((a_{i})).. * sqrt((a_{n}))) if (a_{1} in Complex) and ..(a_{_a} in Complex).. and (a_{n} in Complex).\n",
       "   core type: Lambda\n",
       "   parameters: 19\\n   body: 2\n",
       "2. {sqrt((a_{1} * ..a_{_a}.. * a_{n})) = (sqrt((a_{1})) * ..sqrt((a_{i})).. * sqrt((a_{n}))) if (a_{1} in Complex) and ..(a_{_a} in Complex).. and (a_{n} in Complex).\n",
       "   core type: Conditional\n",
       "   value: 3\n",
       "   condition: 4\n",
       "3. sqrt((a_{1} * ..a_{_a}.. * a_{n})) = (sqrt((a_{1})) * ..sqrt((a_{i})).. * sqrt((a_{n})))\n",
       "   core type: Operation\n",
       "   operator: 5\n",
       "   operands: 6\n",
       "4. (a_{1} in Complex) and ..(a_{_a} in Complex).. and (a_{n} in Complex)\n",
       "   core type: Operation\n",
       "   operator: 7\n",
       "   operands: 8\n",
       "5. =\n",
       "   core type: Literal\n",
       "   sub-expressions: \n",
       "6. (sqrt((a_{1} * ..a_{_a}.. * a_{n})), sqrt((a_{1})) * ..sqrt((a_{i})).. * sqrt((a_{n})))\n",
       "   core type: ExprTuple\n",
       "   sub-expressions: 9, 10\n",
       "7. and\n",
       "   core type: Literal\n",
       "   sub-expressions: \n",
       "8. (a_{1} in Complex, ..a_{_a} in Complex.., a_{n} in Complex)\n",
       "   core type: ExprTuple\n",
       "   sub-expressions: 11\n",
       "9. sqrt((a_{1} * ..a_{_a}.. * a_{n}))\n",
       "   core type: Operation\n",
       "   operator: 28\n",
       "   operands: 12\n",
       "10. sqrt((a_{1})) * ..sqrt((a_{i})).. * sqrt((a_{n}))\n",
       "    core type: Operation\n",
       "    operator: 18\n",
       "    operands: 13\n",
       "11. (a_{1} in Complex), ..(a_{_a} in Complex).., (a_{n} in Complex)\n",
       "    core type: ExprRange\n",
       "    lambda_map: 14\n",
       "    start_index: 40\n",
       "    end_index: 27\n",
       "12. (a_{1} * ..a_{_a}.. * a_{n}, 1 / 2)\n",
       "    core type: ExprTuple\n",
       "    sub-expressions: 15, 32\n",
       "13. (sqrt((a_{1})), ..sqrt((a_{i})).., sqrt((a_{n})))\n",
       "    core type: ExprTuple\n",
       "    sub-expressions: 16\n",
       "14. _a -> (a_{_a} in Complex)\n",
       "    core type: Lambda\n",
       "    parameter: 38\n",
       "    body: 17\n",
       "15. a_{1} * ..a_{_a}.. * a_{n}\n",
       "    core type: Operation\n",
       "    operator: 18\n",
       "    operands: 19\n",
       "16. sqrt((a_{1})), ..sqrt((a_{i})).., sqrt((a_{n}))\n",
       "    core type: ExprRange\n",
       "    lambda_map: 20\n",
       "    start_index: 40\n",
       "    end_index: 27\n",
       "17. a_{_a} in Complex\n",
       "    core type: Operation\n",
       "    operator: 21\n",
       "    operands: 22\n",
       "18. *\n",
       "    core type: Literal\n",
       "    sub-expressions: \n",
       "19. (a_{1}, ..a_{_a}.., a_{n})\n",
       "    core type: ExprTuple\n",
       "    sub-expressions: 23\n",
       "20. i -> sqrt((a_{i}))\n",
       "    core type: Lambda\n",
       "    parameter: 39\n",
       "    body: 24\n",
       "21. in\n",
       "    core type: Literal\n",
       "    sub-expressions: \n",
       "22. (a_{_a}, Complex)\n",
       "    core type: ExprTuple\n",
       "    sub-expressions: 30, 25\n",
       "23. a_{1}, ..a_{_a}.., a_{n}\n",
       "    core type: ExprRange\n",
       "    lambda_map: 26\n",
       "    start_index: 40\n",
       "    end_index: 27\n",
       "24. sqrt((a_{i}))\n",
       "    core type: Operation\n",
       "    operator: 28\n",
       "    operands: 29\n",
       "25. Complex\n",
       "    core type: Literal\n",
       "    sub-expressions: \n",
       "26. _a -> a_{_a}\n",
       "    core type: Lambda\n",
       "    parameter: 38\n",
       "    body: 30\n",
       "27. n\n",
       "    core type: Variable\n",
       "    sub-expressions: \n",
       "28. Exp\n",
       "    core type: Literal\n",
       "    sub-expressions: \n",
       "29. (a_{i}, 1 / 2)\n",
       "    core type: ExprTuple\n",
       "    sub-expressions: 31, 32\n",
       "30. a_{_a}\n",
       "    core type: IndexedVar\n",
       "variable: 34\n",
       "index: 38\n",
       "31. a_{i}\n",
       "    core type: IndexedVar\n",
       "variable: 34\n",
       "index: 39\n",
       "32. 1 / 2\n",
       "    core type: Operation\n",
       "    operator: 36\n",
       "    operands: 37\n",
       "33. (_a)\n",
       "    core type: ExprTuple\n",
       "    sub-expressions: 38\n",
       "34. a\n",
       "    core type: Variable\n",
       "    sub-expressions: \n",
       "35. (i)\n",
       "    core type: ExprTuple\n",
       "    sub-expressions: 39\n",
       "36. /\n",
       "    core type: Literal\n",
       "    sub-expressions: \n",
       "37. (1, 2)\n",
       "    core type: ExprTuple\n",
       "    sub-expressions: 40, 41\n",
       "38. _a\n",
       "    core type: Variable\n",
       "    sub-expressions: \n",
       "39. i\n",
       "    core type: Variable\n",
       "    sub-expressions: \n",
       "40. 1\n",
       "    core type: Literal\n",
       "    sub-expressions: \n",
       "41. 2\n",
       "    core type: Literal\n",
       "    sub-expressions: "
      ]
     },
     "execution_count": 6,
     "metadata": {},
     "output_type": "execute_result"
    }
   ],
   "source": [
    "# display the expression information\n",
    "expr.expr_info()"
   ]
  },
  {
   "cell_type": "code",
   "execution_count": null,
   "metadata": {},
   "outputs": [],
   "source": []
  }
 ],
 "metadata": {
  "kernelspec": {
   "display_name": "Python 3",
   "language": "python",
   "name": "python3"
  }
 },
 "nbformat": 4,
 "nbformat_minor": 0
}