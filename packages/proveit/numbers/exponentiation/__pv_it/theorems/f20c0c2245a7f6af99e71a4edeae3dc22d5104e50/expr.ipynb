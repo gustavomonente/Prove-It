{
 "cells": [
  {
   "cell_type": "markdown",
   "metadata": {},
   "source": [
    "Expression of type <a class=\"ProveItLink\" href=\"../../../../../../../doc/html/api/proveit.logic.Forall.html\">Forall</a>\n",
    "=======================\n",
    "# from the theory of <a class=\"ProveItLink\" href=\"../../../_theory_nbs_/theory.ipynb\">proveit.numbers.exponentiation</a>"
   ]
  },
  {
   "cell_type": "code",
   "execution_count": 1,
   "metadata": {},
   "outputs": [],
   "source": [
    "import proveit\n",
    "# Automation is not needed when building an expression:\n",
    "proveit.defaults.automation = False # This will speed things up.\n",
    "proveit.defaults.inline_pngs = False # Makes files smaller.\n",
    "%load_expr # Load the stored expression as 'stored_expr'\n",
    "# import Expression classes needed to build the expression\n",
    "from proveit import a, b, c\n",
    "from proveit.logic import Equals, Forall, NotEquals\n",
    "from proveit.numbers import Complex, Exp, Mult, Real, zero"
   ]
  },
  {
   "cell_type": "code",
   "execution_count": 2,
   "metadata": {},
   "outputs": [
    {
     "data": {
      "text/html": [
       "<strong id=\"expr\">expr:</strong> <a class=\"ProveItLink\" href=\"expr.ipynb\"><img src=\"expr.png\" style=\"display:inline;vertical-align:middle;\" /></a><br>"
      ],
      "text/plain": [
       "expr: forall_{a in Complex, b in Real, c in Real | a != 0} ((a^{b})^{c} = a^{b * c})"
      ]
     },
     "execution_count": 2,
     "metadata": {},
     "output_type": "execute_result"
    }
   ],
   "source": [
    "# build up the expression from sub-expressions\n",
    "expr = Forall([a, b, c], Equals(Exp(Exp(a, b), c), Exp(a, Mult(b, c))), domains = [Complex, Real, Real], condition = NotEquals(a, zero))"
   ]
  },
  {
   "cell_type": "code",
   "execution_count": 3,
   "metadata": {},
   "outputs": [
    {
     "name": "stdout",
     "output_type": "stream",
     "text": [
      "Passed sanity check: expr matches stored_expr\n"
     ]
    }
   ],
   "source": [
    "# check that the built expression is the same as the stored expression\n",
    "assert expr == stored_expr\n",
    "assert expr._style_id == stored_expr._style_id\n",
    "print(\"Passed sanity check: expr matches stored_expr\")"
   ]
  },
  {
   "cell_type": "code",
   "execution_count": 4,
   "metadata": {},
   "outputs": [
    {
     "name": "stdout",
     "output_type": "stream",
     "text": [
      "\\forall_{a \\in \\mathbb{C}, b \\in \\mathbb{R}, c \\in \\mathbb{R}~|~a \\neq 0}~\\left((a^{b})^{c} = a^{b \\cdot c}\\right)\n"
     ]
    }
   ],
   "source": [
    "# Show the LaTeX representation of the expression for convenience if you need it.\n",
    "print(expr.latex())"
   ]
  },
  {
   "cell_type": "code",
   "execution_count": 5,
   "metadata": {},
   "outputs": [
    {
     "data": {
      "text/html": [
       "<table><tr><th>&nbsp;</th><th>core type</th><th>sub-expressions</th><th>expression</th></tr>\n",
       "<tr><td>0</td><td>Operation</td><td>operator:&nbsp;1<br>operand:&nbsp;2<br></td><td><a class=\"ProveItLink\" href=\"expr.ipynb\"><img src=\"expr.png\" style=\"display:inline;vertical-align:middle;\" /></a></td></tr>\n",
       "<tr><td>1</td><td>Literal</td><td></td><td><a class=\"ProveItLink\" href=\"../../../../../logic/booleans/quantification/universality/__pv_it/common/083d2baa0b8ecab1d230f9ec29a15aa1355809fb0/expr.ipynb\"><img src=\"../../../../../logic/booleans/quantification/universality/__pv_it/common/083d2baa0b8ecab1d230f9ec29a15aa1355809fb0/expr.png\" style=\"display:inline;vertical-align:middle;\" /></a></td></tr>\n",
       "<tr><td>2</td><td>Lambda</td><td>parameters:&nbsp;3<br>body:&nbsp;4<br></td><td><a class=\"ProveItLink\" href=\"../5f1e595bfc13d78882c51fa86b706058125692920/expr.ipynb\"><img src=\"../5f1e595bfc13d78882c51fa86b706058125692920/expr.png\" style=\"display:inline;vertical-align:middle;\" /></a></td></tr>\n",
       "<tr><td>3</td><td>ExprTuple</td><td>34, 35, 36</td><td><a class=\"ProveItLink\" href=\"../bb46d2ccde3f0804676c894d6deb5bedd42560390/expr.ipynb\"><img src=\"../bb46d2ccde3f0804676c894d6deb5bedd42560390/expr.png\" style=\"display:inline;vertical-align:middle;\" /></a></td></tr>\n",
       "<tr><td>4</td><td>Conditional</td><td>value:&nbsp;5<br>condition:&nbsp;6<br></td><td><a class=\"ProveItLink\" href=\"../31a2c7fdf24349f5297bc32a60d5681e2c0b25440/expr.ipynb\"><img src=\"../31a2c7fdf24349f5297bc32a60d5681e2c0b25440/expr.png\" style=\"display:inline;vertical-align:middle;\" /></a></td></tr>\n",
       "<tr><td>5</td><td>Operation</td><td>operator:&nbsp;7<br>operands:&nbsp;8<br></td><td><a class=\"ProveItLink\" href=\"../4410fce3b214048e61cf7f056a1bd65f378030620/expr.ipynb\"><img src=\"../4410fce3b214048e61cf7f056a1bd65f378030620/expr.png\" style=\"display:inline;vertical-align:middle;\" /></a></td></tr>\n",
       "<tr><td>6</td><td>Operation</td><td>operator:&nbsp;9<br>operands:&nbsp;10<br></td><td><a class=\"ProveItLink\" href=\"../8541e5860520628dc35d3a1d09febed4df9cc2b10/expr.ipynb\"><img src=\"../8541e5860520628dc35d3a1d09febed4df9cc2b10/expr.png\" style=\"display:inline;vertical-align:middle;\" /></a></td></tr>\n",
       "<tr><td>7</td><td>Literal</td><td></td><td><a class=\"ProveItLink\" href=\"../../../../../logic/equality/__pv_it/common/fb96dc12b2aa8801dda64d0132b396c63d1502bb0/expr.ipynb\"><img src=\"../../../../../logic/equality/__pv_it/common/fb96dc12b2aa8801dda64d0132b396c63d1502bb0/expr.png\" style=\"display:inline;vertical-align:middle;\" /></a></td></tr>\n",
       "<tr><td>8</td><td>ExprTuple</td><td>11, 12</td><td><a class=\"ProveItLink\" href=\"../9dd84584aba36d33bcab41abccde0ed6961990bb0/expr.ipynb\"><img src=\"../9dd84584aba36d33bcab41abccde0ed6961990bb0/expr.png\" style=\"display:inline;vertical-align:middle;\" /></a></td></tr>\n",
       "<tr><td>9</td><td>Literal</td><td></td><td><a class=\"ProveItLink\" href=\"../../../../../logic/booleans/conjunction/__pv_it/common/42118ff318bd65d98b1393f64ce7c2269feef76e0/expr.ipynb\"><img src=\"../../../../../logic/booleans/conjunction/__pv_it/common/42118ff318bd65d98b1393f64ce7c2269feef76e0/expr.png\" style=\"display:inline;vertical-align:middle;\" /></a></td></tr>\n",
       "<tr><td>10</td><td>ExprTuple</td><td>13, 14, 15, 16</td><td><a class=\"ProveItLink\" href=\"../1ebfa4152dda258a0abd24be81b654a5f1e57bbc0/expr.ipynb\"><img src=\"../1ebfa4152dda258a0abd24be81b654a5f1e57bbc0/expr.png\" style=\"display:inline;vertical-align:middle;\" /></a></td></tr>\n",
       "<tr><td>11</td><td>Operation</td><td>operator:&nbsp;30<br>operands:&nbsp;17<br></td><td><a class=\"ProveItLink\" href=\"../733a130cd15bde75d998313e6036aea967785fda0/expr.ipynb\"><img src=\"../733a130cd15bde75d998313e6036aea967785fda0/expr.png\" style=\"display:inline;vertical-align:middle;\" /></a></td></tr>\n",
       "<tr><td>12</td><td>Operation</td><td>operator:&nbsp;30<br>operands:&nbsp;18<br></td><td><a class=\"ProveItLink\" href=\"../fe536d44d4a77215388526d57ca950f298cd09040/expr.ipynb\"><img src=\"../fe536d44d4a77215388526d57ca950f298cd09040/expr.png\" style=\"display:inline;vertical-align:middle;\" /></a></td></tr>\n",
       "<tr><td>13</td><td>Operation</td><td>operator:&nbsp;21<br>operands:&nbsp;19<br></td><td><a class=\"ProveItLink\" href=\"../ffc4a45642fde8a513aa78237f7ca59ff7c646290/expr.ipynb\"><img src=\"../ffc4a45642fde8a513aa78237f7ca59ff7c646290/expr.png\" style=\"display:inline;vertical-align:middle;\" /></a></td></tr>\n",
       "<tr><td>14</td><td>Operation</td><td>operator:&nbsp;21<br>operands:&nbsp;20<br></td><td><a class=\"ProveItLink\" href=\"../01066498eeade39164943c7fc785297aa9d0bb160/expr.ipynb\"><img src=\"../01066498eeade39164943c7fc785297aa9d0bb160/expr.png\" style=\"display:inline;vertical-align:middle;\" /></a></td></tr>\n",
       "<tr><td>15</td><td>Operation</td><td>operator:&nbsp;21<br>operands:&nbsp;22<br></td><td><a class=\"ProveItLink\" href=\"../97c2cd789f92aeb5958c71e9e8648177a398980b0/expr.ipynb\"><img src=\"../97c2cd789f92aeb5958c71e9e8648177a398980b0/expr.png\" style=\"display:inline;vertical-align:middle;\" /></a></td></tr>\n",
       "<tr><td>16</td><td>Operation</td><td>operator:&nbsp;23<br>operands:&nbsp;24<br></td><td><a class=\"ProveItLink\" href=\"../ca0ec1091cc4f6cd33c7bb3749a084bfb20725620/expr.ipynb\"><img src=\"../ca0ec1091cc4f6cd33c7bb3749a084bfb20725620/expr.png\" style=\"display:inline;vertical-align:middle;\" /></a></td></tr>\n",
       "<tr><td>17</td><td>ExprTuple</td><td>25, 36</td><td><a class=\"ProveItLink\" href=\"../21ff3be9008a50bfa0bb8651c12b38a7e2f9fdbe0/expr.ipynb\"><img src=\"../21ff3be9008a50bfa0bb8651c12b38a7e2f9fdbe0/expr.png\" style=\"display:inline;vertical-align:middle;\" /></a></td></tr>\n",
       "<tr><td>18</td><td>ExprTuple</td><td>34, 26</td><td><a class=\"ProveItLink\" href=\"../26c518a28a8a1d99d2b1bc8229066fef7df0c24d0/expr.ipynb\"><img src=\"../26c518a28a8a1d99d2b1bc8229066fef7df0c24d0/expr.png\" style=\"display:inline;vertical-align:middle;\" /></a></td></tr>\n",
       "<tr><td>19</td><td>ExprTuple</td><td>34, 27</td><td><a class=\"ProveItLink\" href=\"../b09522ef7ab30f4ad67aa0f5ccb1edb96dc097ef0/expr.ipynb\"><img src=\"../b09522ef7ab30f4ad67aa0f5ccb1edb96dc097ef0/expr.png\" style=\"display:inline;vertical-align:middle;\" /></a></td></tr>\n",
       "<tr><td>20</td><td>ExprTuple</td><td>35, 28</td><td><a class=\"ProveItLink\" href=\"../c94d1101563abe2f3870a8e37dc10d8c654ef9d30/expr.ipynb\"><img src=\"../c94d1101563abe2f3870a8e37dc10d8c654ef9d30/expr.png\" style=\"display:inline;vertical-align:middle;\" /></a></td></tr>\n",
       "<tr><td>21</td><td>Literal</td><td></td><td><a class=\"ProveItLink\" href=\"../../../../../logic/sets/membership/__pv_it/common/477487d8796864d23d5810f83761435f25167f690/expr.ipynb\"><img src=\"../../../../../logic/sets/membership/__pv_it/common/477487d8796864d23d5810f83761435f25167f690/expr.png\" style=\"display:inline;vertical-align:middle;\" /></a></td></tr>\n",
       "<tr><td>22</td><td>ExprTuple</td><td>36, 28</td><td><a class=\"ProveItLink\" href=\"../321b042feab49825c6804fe26d1833ec999362eb0/expr.ipynb\"><img src=\"../321b042feab49825c6804fe26d1833ec999362eb0/expr.png\" style=\"display:inline;vertical-align:middle;\" /></a></td></tr>\n",
       "<tr><td>23</td><td>Literal</td><td></td><td><a class=\"ProveItLink\" href=\"../../../../../logic/equality/__pv_it/common/d96270bc9bb1bad54f773b1c04bfb343a739642c0/expr.ipynb\"><img src=\"../../../../../logic/equality/__pv_it/common/d96270bc9bb1bad54f773b1c04bfb343a739642c0/expr.png\" style=\"display:inline;vertical-align:middle;\" /></a></td></tr>\n",
       "<tr><td>24</td><td>ExprTuple</td><td>34, 29</td><td><a class=\"ProveItLink\" href=\"../60ba91908b283be41d3d42f3d78214c73295c9430/expr.ipynb\"><img src=\"../60ba91908b283be41d3d42f3d78214c73295c9430/expr.png\" style=\"display:inline;vertical-align:middle;\" /></a></td></tr>\n",
       "<tr><td>25</td><td>Operation</td><td>operator:&nbsp;30<br>operands:&nbsp;31<br></td><td><a class=\"ProveItLink\" href=\"../a3eb5e7a96432102d7b17c1521409da206d4c43b0/expr.ipynb\"><img src=\"../a3eb5e7a96432102d7b17c1521409da206d4c43b0/expr.png\" style=\"display:inline;vertical-align:middle;\" /></a></td></tr>\n",
       "<tr><td>26</td><td>Operation</td><td>operator:&nbsp;32<br>operands:&nbsp;33<br></td><td><a class=\"ProveItLink\" href=\"../e68d8af7c5acd5bd5bf2f4dffcac2883afa196820/expr.ipynb\"><img src=\"../e68d8af7c5acd5bd5bf2f4dffcac2883afa196820/expr.png\" style=\"display:inline;vertical-align:middle;\" /></a></td></tr>\n",
       "<tr><td>27</td><td>Literal</td><td></td><td><a class=\"ProveItLink\" href=\"../../../../number_sets/complex_numbers/__pv_it/common/d18a028138f659eda00de597c28a3447fe87eb100/expr.ipynb\"><img src=\"../../../../number_sets/complex_numbers/__pv_it/common/d18a028138f659eda00de597c28a3447fe87eb100/expr.png\" style=\"display:inline;vertical-align:middle;\" /></a></td></tr>\n",
       "<tr><td>28</td><td>Literal</td><td></td><td><a class=\"ProveItLink\" href=\"../../../../number_sets/real_numbers/__pv_it/common/93cac87a1a47e613f7a83b23ef7891599a1a4cca0/expr.ipynb\"><img src=\"../../../../number_sets/real_numbers/__pv_it/common/93cac87a1a47e613f7a83b23ef7891599a1a4cca0/expr.png\" style=\"display:inline;vertical-align:middle;\" /></a></td></tr>\n",
       "<tr><td>29</td><td>Literal</td><td></td><td><a class=\"ProveItLink\" href=\"../../../../numerals/__pv_it/common/7d0a36793ffe8d307a5c120ee5598162e8cd2db10/expr.ipynb\"><img src=\"../../../../numerals/__pv_it/common/7d0a36793ffe8d307a5c120ee5598162e8cd2db10/expr.png\" style=\"display:inline;vertical-align:middle;\" /></a></td></tr>\n",
       "<tr><td>30</td><td>Literal</td><td></td><td><a class=\"ProveItLink\" href=\"../../common/0ac37aca1e54c35c5cda09672df32d4f69f1f3020/expr.ipynb\"><img src=\"../../common/0ac37aca1e54c35c5cda09672df32d4f69f1f3020/expr.png\" style=\"display:inline;vertical-align:middle;\" /></a></td></tr>\n",
       "<tr><td>31</td><td>ExprTuple</td><td>34, 35</td><td><a class=\"ProveItLink\" href=\"../0e00cf301f391b9db3f5ff72911e8e2539c94fb00/expr.ipynb\"><img src=\"../0e00cf301f391b9db3f5ff72911e8e2539c94fb00/expr.png\" style=\"display:inline;vertical-align:middle;\" /></a></td></tr>\n",
       "<tr><td>32</td><td>Literal</td><td></td><td><a class=\"ProveItLink\" href=\"../../../../multiplication/__pv_it/common/ed719cef37831779c16481533a4d380a2f95ab270/expr.ipynb\"><img src=\"../../../../multiplication/__pv_it/common/ed719cef37831779c16481533a4d380a2f95ab270/expr.png\" style=\"display:inline;vertical-align:middle;\" /></a></td></tr>\n",
       "<tr><td>33</td><td>ExprTuple</td><td>35, 36</td><td><a class=\"ProveItLink\" href=\"../ea14791db14e0ed368912e6780268cd495c4577d0/expr.ipynb\"><img src=\"../ea14791db14e0ed368912e6780268cd495c4577d0/expr.png\" style=\"display:inline;vertical-align:middle;\" /></a></td></tr>\n",
       "<tr><td>34</td><td>Variable</td><td></td><td><a class=\"ProveItLink\" href=\"../../../../../__pv_it/common/c06c606ec12678c58933ac85412ecadc2ae28be60/expr.ipynb\"><img src=\"../../../../../__pv_it/common/c06c606ec12678c58933ac85412ecadc2ae28be60/expr.png\" style=\"display:inline;vertical-align:middle;\" /></a></td></tr>\n",
       "<tr><td>35</td><td>Variable</td><td></td><td><a class=\"ProveItLink\" href=\"../../../../../__pv_it/common/195236b98c6c564a75b5dbada74b173bc52d5c3e0/expr.ipynb\"><img src=\"../../../../../__pv_it/common/195236b98c6c564a75b5dbada74b173bc52d5c3e0/expr.png\" style=\"display:inline;vertical-align:middle;\" /></a></td></tr>\n",
       "<tr><td>36</td><td>Variable</td><td></td><td><a class=\"ProveItLink\" href=\"../../../../../__pv_it/common/ceef4280a2f1cc604b455b54e735507244cc62cd0/expr.ipynb\"><img src=\"../../../../../__pv_it/common/ceef4280a2f1cc604b455b54e735507244cc62cd0/expr.png\" style=\"display:inline;vertical-align:middle;\" /></a></td></tr>\n",
       "</table>\n"
      ],
      "text/plain": [
       "0. forall_{a in Complex, b in Real, c in Real | a != 0} ((a^{b})^{c} = a^{b * c})\n",
       "   core type: Operation\n",
       "   operator: 1\n",
       "   operand: 2\n",
       "1. forall\n",
       "   core type: Literal\n",
       "   sub-expressions: \n",
       "2. (a, b, c) -> {(a^{b})^{c} = a^{b * c} if a in Complex ,  b in Real ,  c in Real ,  a != 0.\n",
       "   core type: Lambda\n",
       "   parameters: 3\\n   body: 4\n",
       "3. (a, b, c)\n",
       "   core type: ExprTuple\n",
       "   sub-expressions: 34, 35, 36\n",
       "4. {(a^{b})^{c} = a^{b * c} if a in Complex ,  b in Real ,  c in Real ,  a != 0.\n",
       "   core type: Conditional\n",
       "   value: 5\n",
       "   condition: 6\n",
       "5. (a^{b})^{c} = a^{b * c}\n",
       "   core type: Operation\n",
       "   operator: 7\n",
       "   operands: 8\n",
       "6. (a in Complex) and (b in Real) and (c in Real) and (a != 0)\n",
       "   core type: Operation\n",
       "   operator: 9\n",
       "   operands: 10\n",
       "7. =\n",
       "   core type: Literal\n",
       "   sub-expressions: \n",
       "8. ((a^{b})^{c}, a^{b * c})\n",
       "   core type: ExprTuple\n",
       "   sub-expressions: 11, 12\n",
       "9. and\n",
       "   core type: Literal\n",
       "   sub-expressions: \n",
       "10. (a in Complex, b in Real, c in Real, a != 0)\n",
       "    core type: ExprTuple\n",
       "    sub-expressions: 13, 14, 15, 16\n",
       "11. (a^{b})^{c}\n",
       "    core type: Operation\n",
       "    operator: 30\n",
       "    operands: 17\n",
       "12. a^{b * c}\n",
       "    core type: Operation\n",
       "    operator: 30\n",
       "    operands: 18\n",
       "13. a in Complex\n",
       "    core type: Operation\n",
       "    operator: 21\n",
       "    operands: 19\n",
       "14. b in Real\n",
       "    core type: Operation\n",
       "    operator: 21\n",
       "    operands: 20\n",
       "15. c in Real\n",
       "    core type: Operation\n",
       "    operator: 21\n",
       "    operands: 22\n",
       "16. a != 0\n",
       "    core type: Operation\n",
       "    operator: 23\n",
       "    operands: 24\n",
       "17. (a^{b}, c)\n",
       "    core type: ExprTuple\n",
       "    sub-expressions: 25, 36\n",
       "18. (a, b * c)\n",
       "    core type: ExprTuple\n",
       "    sub-expressions: 34, 26\n",
       "19. (a, Complex)\n",
       "    core type: ExprTuple\n",
       "    sub-expressions: 34, 27\n",
       "20. (b, Real)\n",
       "    core type: ExprTuple\n",
       "    sub-expressions: 35, 28\n",
       "21. in\n",
       "    core type: Literal\n",
       "    sub-expressions: \n",
       "22. (c, Real)\n",
       "    core type: ExprTuple\n",
       "    sub-expressions: 36, 28\n",
       "23. !=\n",
       "    core type: Literal\n",
       "    sub-expressions: \n",
       "24. (a, 0)\n",
       "    core type: ExprTuple\n",
       "    sub-expressions: 34, 29\n",
       "25. a^{b}\n",
       "    core type: Operation\n",
       "    operator: 30\n",
       "    operands: 31\n",
       "26. b * c\n",
       "    core type: Operation\n",
       "    operator: 32\n",
       "    operands: 33\n",
       "27. Complex\n",
       "    core type: Literal\n",
       "    sub-expressions: \n",
       "28. Real\n",
       "    core type: Literal\n",
       "    sub-expressions: \n",
       "29. 0\n",
       "    core type: Literal\n",
       "    sub-expressions: \n",
       "30. Exp\n",
       "    core type: Literal\n",
       "    sub-expressions: \n",
       "31. (a, b)\n",
       "    core type: ExprTuple\n",
       "    sub-expressions: 34, 35\n",
       "32. *\n",
       "    core type: Literal\n",
       "    sub-expressions: \n",
       "33. (b, c)\n",
       "    core type: ExprTuple\n",
       "    sub-expressions: 35, 36\n",
       "34. a\n",
       "    core type: Variable\n",
       "    sub-expressions: \n",
       "35. b\n",
       "    core type: Variable\n",
       "    sub-expressions: \n",
       "36. c\n",
       "    core type: Variable\n",
       "    sub-expressions: "
      ]
     },
     "execution_count": 5,
     "metadata": {},
     "output_type": "execute_result"
    }
   ],
   "source": [
    "# display the expression information\n",
    "expr.expr_info()"
   ]
  },
  {
   "cell_type": "code",
   "execution_count": null,
   "metadata": {},
   "outputs": [],
   "source": []
  }
 ],
 "metadata": {
  "kernelspec": {
   "display_name": "Python 3",
   "language": "python",
   "name": "python3"
  }
 },
 "nbformat": 4,
 "nbformat_minor": 0
}