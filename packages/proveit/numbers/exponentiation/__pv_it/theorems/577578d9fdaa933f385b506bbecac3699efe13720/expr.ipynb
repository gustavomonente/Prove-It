{
 "cells": [
  {
   "cell_type": "markdown",
   "metadata": {},
   "source": [
    "Expression of type <a class=\"ProveItLink\" href=\"../../../../../../../doc/html/api/proveit.Lambda.html\">Lambda</a>\n",
    "=======================\n",
    "# from the theory of <a class=\"ProveItLink\" href=\"../../../_theory_nbs_/theory.ipynb\">proveit.numbers.exponentiation</a>"
   ]
  },
  {
   "cell_type": "code",
   "execution_count": 1,
   "metadata": {},
   "outputs": [],
   "source": [
    "import proveit\n",
    "# Automation is not needed when building an expression:\n",
    "proveit.defaults.automation = False # This will speed things up.\n",
    "proveit.defaults.inline_pngs = False # Makes files smaller.\n",
    "%load_expr # Load the stored expression as 'stored_expr'\n",
    "# import Expression classes needed to build the expression\n",
    "from proveit import Conditional, Lambda, a, b\n",
    "from proveit.logic import And, InSet\n",
    "from proveit.numbers import Exp, Real, greater, zero"
   ]
  },
  {
   "cell_type": "code",
   "execution_count": 2,
   "metadata": {},
   "outputs": [
    {
     "data": {
      "text/html": [
       "<strong id=\"expr\">expr:</strong> <a class=\"ProveItLink\" href=\"expr.ipynb\"><img src=\"expr.png\" style=\"display:inline;vertical-align:middle;\" /></a><br>"
      ],
      "text/plain": [
       "expr: (a, b) -> {a^{b} in Real if a in Real ,  b in Real ,  a > 0."
      ]
     },
     "execution_count": 2,
     "metadata": {},
     "output_type": "execute_result"
    }
   ],
   "source": [
    "# build up the expression from sub-expressions\n",
    "expr = Lambda([a, b], Conditional(InSet(Exp(a, b), Real), And(InSet(a, Real), InSet(b, Real), greater(a, zero))))"
   ]
  },
  {
   "cell_type": "code",
   "execution_count": 3,
   "metadata": {},
   "outputs": [
    {
     "name": "stdout",
     "output_type": "stream",
     "text": [
      "Passed sanity check: expr matches stored_expr\n"
     ]
    }
   ],
   "source": [
    "# check that the built expression is the same as the stored expression\n",
    "assert expr == stored_expr\n",
    "assert expr._style_id == stored_expr._style_id\n",
    "print(\"Passed sanity check: expr matches stored_expr\")"
   ]
  },
  {
   "cell_type": "code",
   "execution_count": 4,
   "metadata": {},
   "outputs": [
    {
     "name": "stdout",
     "output_type": "stream",
     "text": [
      "\\left(a, b\\right) \\mapsto \\left\\{a^{b} \\in \\mathbb{R} \\textrm{ if } a \\in \\mathbb{R} ,  b \\in \\mathbb{R} ,  a > 0\\right..\n"
     ]
    }
   ],
   "source": [
    "# Show the LaTeX representation of the expression for convenience if you need it.\n",
    "print(expr.latex())"
   ]
  },
  {
   "cell_type": "code",
   "execution_count": 5,
   "metadata": {},
   "outputs": [
    {
     "data": {
      "text/html": [
       "no style options"
      ],
      "text/plain": [
       "no style options"
      ]
     },
     "execution_count": 5,
     "metadata": {},
     "output_type": "execute_result"
    }
   ],
   "source": [
    "expr.style_options()"
   ]
  },
  {
   "cell_type": "code",
   "execution_count": 6,
   "metadata": {},
   "outputs": [
    {
     "data": {
      "text/html": [
       "<table><tr><th>&nbsp;</th><th>core type</th><th>sub-expressions</th><th>expression</th></tr>\n",
       "<tr><td>0</td><td>Lambda</td><td>parameters:&nbsp;12<br>body:&nbsp;1<br></td><td><a class=\"ProveItLink\" href=\"expr.ipynb\"><img src=\"expr.png\" style=\"display:inline;vertical-align:middle;\" /></a></td></tr>\n",
       "<tr><td>1</td><td>Conditional</td><td>value:&nbsp;2<br>condition:&nbsp;3<br></td><td><a class=\"ProveItLink\" href=\"../71594041a6af38acaac5f95a800e5bccbaccfa580/expr.ipynb\"><img src=\"../71594041a6af38acaac5f95a800e5bccbaccfa580/expr.png\" style=\"display:inline;vertical-align:middle;\" /></a></td></tr>\n",
       "<tr><td>2</td><td>Operation</td><td>operator:&nbsp;14<br>operands:&nbsp;4<br></td><td><a class=\"ProveItLink\" href=\"../7642a7d03d56ea22d7190c1588107a33cd537b1c0/expr.ipynb\"><img src=\"../7642a7d03d56ea22d7190c1588107a33cd537b1c0/expr.png\" style=\"display:inline;vertical-align:middle;\" /></a></td></tr>\n",
       "<tr><td>3</td><td>Operation</td><td>operator:&nbsp;5<br>operands:&nbsp;6<br></td><td><a class=\"ProveItLink\" href=\"../8d7c31dff8901c66f310953f5d908ff9a68bb9cb0/expr.ipynb\"><img src=\"../8d7c31dff8901c66f310953f5d908ff9a68bb9cb0/expr.png\" style=\"display:inline;vertical-align:middle;\" /></a></td></tr>\n",
       "<tr><td>4</td><td>ExprTuple</td><td>7, 19</td><td><a class=\"ProveItLink\" href=\"../12213cf50e0eb8dfe3efbc10c8eca1776483ba9e0/expr.ipynb\"><img src=\"../12213cf50e0eb8dfe3efbc10c8eca1776483ba9e0/expr.png\" style=\"display:inline;vertical-align:middle;\" /></a></td></tr>\n",
       "<tr><td>5</td><td>Literal</td><td></td><td><a class=\"ProveItLink\" href=\"../../../../../logic/booleans/conjunction/__pv_it/common/26b94b53e70b1d77b70f0d9d4236347db37731060/expr.ipynb\"><img src=\"../../../../../logic/booleans/conjunction/__pv_it/common/26b94b53e70b1d77b70f0d9d4236347db37731060/expr.png\" style=\"display:inline;vertical-align:middle;\" /></a></td></tr>\n",
       "<tr><td>6</td><td>ExprTuple</td><td>8, 9, 10</td><td><a class=\"ProveItLink\" href=\"../5a1e92387d90308564450f3ad0454198fda158f00/expr.ipynb\"><img src=\"../5a1e92387d90308564450f3ad0454198fda158f00/expr.png\" style=\"display:inline;vertical-align:middle;\" /></a></td></tr>\n",
       "<tr><td>7</td><td>Operation</td><td>operator:&nbsp;11<br>operands:&nbsp;12<br></td><td><a class=\"ProveItLink\" href=\"../cd6b9dc890d9f171a1bd636c45c100ce62582d780/expr.ipynb\"><img src=\"../cd6b9dc890d9f171a1bd636c45c100ce62582d780/expr.png\" style=\"display:inline;vertical-align:middle;\" /></a></td></tr>\n",
       "<tr><td>8</td><td>Operation</td><td>operator:&nbsp;14<br>operands:&nbsp;13<br></td><td><a class=\"ProveItLink\" href=\"../025402c2362cd6ab78a853178f51867b794219b10/expr.ipynb\"><img src=\"../025402c2362cd6ab78a853178f51867b794219b10/expr.png\" style=\"display:inline;vertical-align:middle;\" /></a></td></tr>\n",
       "<tr><td>9</td><td>Operation</td><td>operator:&nbsp;14<br>operands:&nbsp;15<br></td><td><a class=\"ProveItLink\" href=\"../4e3ba36cfd1ec2482c9c2c225a01b2c9b4c973080/expr.ipynb\"><img src=\"../4e3ba36cfd1ec2482c9c2c225a01b2c9b4c973080/expr.png\" style=\"display:inline;vertical-align:middle;\" /></a></td></tr>\n",
       "<tr><td>10</td><td>Operation</td><td>operator:&nbsp;16<br>operands:&nbsp;17<br></td><td><a class=\"ProveItLink\" href=\"../26e750194c6158c7ee7b78e88988a5da6db47d480/expr.ipynb\"><img src=\"../26e750194c6158c7ee7b78e88988a5da6db47d480/expr.png\" style=\"display:inline;vertical-align:middle;\" /></a></td></tr>\n",
       "<tr><td>11</td><td>Literal</td><td></td><td><a class=\"ProveItLink\" href=\"../../common/31d1b89e3c2fad7d997556c69b6be6425b6f59a40/expr.ipynb\"><img src=\"../../common/31d1b89e3c2fad7d997556c69b6be6425b6f59a40/expr.png\" style=\"display:inline;vertical-align:middle;\" /></a></td></tr>\n",
       "<tr><td>12</td><td>ExprTuple</td><td>21, 18</td><td><a class=\"ProveItLink\" href=\"../1bdfc8550dcba21649b1aca02603584957f865fb0/expr.ipynb\"><img src=\"../1bdfc8550dcba21649b1aca02603584957f865fb0/expr.png\" style=\"display:inline;vertical-align:middle;\" /></a></td></tr>\n",
       "<tr><td>13</td><td>ExprTuple</td><td>21, 19</td><td><a class=\"ProveItLink\" href=\"../2f245937b4e4b6a29441a8dbb5feb1a4c94c18080/expr.ipynb\"><img src=\"../2f245937b4e4b6a29441a8dbb5feb1a4c94c18080/expr.png\" style=\"display:inline;vertical-align:middle;\" /></a></td></tr>\n",
       "<tr><td>14</td><td>Literal</td><td></td><td><a class=\"ProveItLink\" href=\"../../../../../logic/sets/membership/__pv_it/common/7171deca84f71f47a6ec7696972d1632274a12880/expr.ipynb\"><img src=\"../../../../../logic/sets/membership/__pv_it/common/7171deca84f71f47a6ec7696972d1632274a12880/expr.png\" style=\"display:inline;vertical-align:middle;\" /></a></td></tr>\n",
       "<tr><td>15</td><td>ExprTuple</td><td>18, 19</td><td><a class=\"ProveItLink\" href=\"../21e764941179c2958f721a0c0eb46833df0e9ccd0/expr.ipynb\"><img src=\"../21e764941179c2958f721a0c0eb46833df0e9ccd0/expr.png\" style=\"display:inline;vertical-align:middle;\" /></a></td></tr>\n",
       "<tr><td>16</td><td>Literal</td><td></td><td><a class=\"ProveItLink\" href=\"../../../../ordering/__pv_it/common/28edf56075f82c850836d8cd79dbcacf62e589820/expr.ipynb\"><img src=\"../../../../ordering/__pv_it/common/28edf56075f82c850836d8cd79dbcacf62e589820/expr.png\" style=\"display:inline;vertical-align:middle;\" /></a></td></tr>\n",
       "<tr><td>17</td><td>ExprTuple</td><td>20, 21</td><td><a class=\"ProveItLink\" href=\"../086e218f682fad492e3d36e55df5a5eb7faa287a0/expr.ipynb\"><img src=\"../086e218f682fad492e3d36e55df5a5eb7faa287a0/expr.png\" style=\"display:inline;vertical-align:middle;\" /></a></td></tr>\n",
       "<tr><td>18</td><td>Variable</td><td></td><td><a class=\"ProveItLink\" href=\"../../../../../__pv_it/common/4a5db8cc5c67969ec864bd3ea598be37cb6f5e550/expr.ipynb\"><img src=\"../../../../../__pv_it/common/4a5db8cc5c67969ec864bd3ea598be37cb6f5e550/expr.png\" style=\"display:inline;vertical-align:middle;\" /></a></td></tr>\n",
       "<tr><td>19</td><td>Literal</td><td></td><td><a class=\"ProveItLink\" href=\"../../../../number_sets/real_numbers/__pv_it/common/3eaf53c11933bb30b35e82c24807c695de530cf10/expr.ipynb\"><img src=\"../../../../number_sets/real_numbers/__pv_it/common/3eaf53c11933bb30b35e82c24807c695de530cf10/expr.png\" style=\"display:inline;vertical-align:middle;\" /></a></td></tr>\n",
       "<tr><td>20</td><td>Literal</td><td></td><td><a class=\"ProveItLink\" href=\"../../../../numerals/__pv_it/common/c35fdf7268947ca3e24174d2909dc9d0a7f3aac60/expr.ipynb\"><img src=\"../../../../numerals/__pv_it/common/c35fdf7268947ca3e24174d2909dc9d0a7f3aac60/expr.png\" style=\"display:inline;vertical-align:middle;\" /></a></td></tr>\n",
       "<tr><td>21</td><td>Variable</td><td></td><td><a class=\"ProveItLink\" href=\"../../../../../__pv_it/common/66c90e66682f107a881f2d666959f64e2e72ad750/expr.ipynb\"><img src=\"../../../../../__pv_it/common/66c90e66682f107a881f2d666959f64e2e72ad750/expr.png\" style=\"display:inline;vertical-align:middle;\" /></a></td></tr>\n",
       "</table>\n"
      ],
      "text/plain": [
       "0. (a, b) -> {a^{b} in Real if a in Real ,  b in Real ,  a > 0.\n",
       "   core type: Lambda\n",
       "   parameters: 12\\n   body: 1\n",
       "1. {a^{b} in Real if a in Real ,  b in Real ,  a > 0.\n",
       "   core type: Conditional\n",
       "   value: 2\n",
       "   condition: 3\n",
       "2. a^{b} in Real\n",
       "   core type: Operation\n",
       "   operator: 14\n",
       "   operands: 4\n",
       "3. (a in Real) and (b in Real) and (a > 0)\n",
       "   core type: Operation\n",
       "   operator: 5\n",
       "   operands: 6\n",
       "4. (a^{b}, Real)\n",
       "   core type: ExprTuple\n",
       "   sub-expressions: 7, 19\n",
       "5. and\n",
       "   core type: Literal\n",
       "   sub-expressions: \n",
       "6. (a in Real, b in Real, a > 0)\n",
       "   core type: ExprTuple\n",
       "   sub-expressions: 8, 9, 10\n",
       "7. a^{b}\n",
       "   core type: Operation\n",
       "   operator: 11\n",
       "   operands: 12\n",
       "8. a in Real\n",
       "   core type: Operation\n",
       "   operator: 14\n",
       "   operands: 13\n",
       "9. b in Real\n",
       "   core type: Operation\n",
       "   operator: 14\n",
       "   operands: 15\n",
       "10. a > 0\n",
       "    core type: Operation\n",
       "    operator: 16\n",
       "    operands: 17\n",
       "11. Exp\n",
       "    core type: Literal\n",
       "    sub-expressions: \n",
       "12. (a, b)\n",
       "    core type: ExprTuple\n",
       "    sub-expressions: 21, 18\n",
       "13. (a, Real)\n",
       "    core type: ExprTuple\n",
       "    sub-expressions: 21, 19\n",
       "14. in\n",
       "    core type: Literal\n",
       "    sub-expressions: \n",
       "15. (b, Real)\n",
       "    core type: ExprTuple\n",
       "    sub-expressions: 18, 19\n",
       "16. <\n",
       "    core type: Literal\n",
       "    sub-expressions: \n",
       "17. (0, a)\n",
       "    core type: ExprTuple\n",
       "    sub-expressions: 20, 21\n",
       "18. b\n",
       "    core type: Variable\n",
       "    sub-expressions: \n",
       "19. Real\n",
       "    core type: Literal\n",
       "    sub-expressions: \n",
       "20. 0\n",
       "    core type: Literal\n",
       "    sub-expressions: \n",
       "21. a\n",
       "    core type: Variable\n",
       "    sub-expressions: "
      ]
     },
     "execution_count": 6,
     "metadata": {},
     "output_type": "execute_result"
    }
   ],
   "source": [
    "# display the expression information\n",
    "expr.expr_info()"
   ]
  },
  {
   "cell_type": "code",
   "execution_count": null,
   "metadata": {},
   "outputs": [],
   "source": []
  }
 ],
 "metadata": {
  "kernelspec": {
   "display_name": "Python 3",
   "language": "python",
   "name": "python3"
  }
 },
 "nbformat": 4,
 "nbformat_minor": 0
}