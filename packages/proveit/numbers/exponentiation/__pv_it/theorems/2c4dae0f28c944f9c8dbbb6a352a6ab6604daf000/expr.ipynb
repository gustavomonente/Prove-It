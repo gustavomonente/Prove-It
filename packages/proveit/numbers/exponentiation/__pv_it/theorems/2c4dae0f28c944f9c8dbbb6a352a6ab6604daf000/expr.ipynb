{
 "cells": [
  {
   "cell_type": "markdown",
   "metadata": {},
   "source": [
    "Expression of type <a class=\"ProveItLink\" href=\"../../../../../../../doc/html/api/proveit.Lambda.html\">Lambda</a>\n",
    "=======================\n",
    "# from the theory of <a class=\"ProveItLink\" href=\"../../../_theory_nbs_/theory.ipynb\">proveit.numbers.exponentiation</a>"
   ]
  },
  {
   "cell_type": "code",
   "execution_count": 1,
   "metadata": {},
   "outputs": [],
   "source": [
    "import proveit\n",
    "# Automation is not needed when building an expression:\n",
    "proveit.defaults.automation = False # This will speed things up.\n",
    "proveit.defaults.inline_pngs = False # Makes files smaller.\n",
    "%load_expr # Load the stored expression as 'stored_expr'\n",
    "# import Expression classes needed to build the expression\n",
    "from proveit import Conditional, Lambda, a, b, n\n",
    "from proveit.logic import Equals, Forall, InSet, NotEquals\n",
    "from proveit.numbers import Complex, Exp, Integer, Mult, Neg, zero"
   ]
  },
  {
   "cell_type": "code",
   "execution_count": 2,
   "metadata": {},
   "outputs": [
    {
     "data": {
      "text/html": [
       "<strong id=\"expr\">expr:</strong> <a class=\"ProveItLink\" href=\"expr.ipynb\"><img src=\"expr.png\" style=\"display:inline;vertical-align:middle;\" /></a><br>"
      ],
      "text/plain": [
       "expr: n -> {forall_{a, b in Complex | a != 0} ((a^{-b})^{n} = a^{-(b * n)}) if n in Integer."
      ]
     },
     "execution_count": 2,
     "metadata": {},
     "output_type": "execute_result"
    }
   ],
   "source": [
    "# build up the expression from sub-expressions\n",
    "expr = Lambda(n, Conditional(Forall([a, b], Equals(Exp(Exp(a, Neg(b)), n), Exp(a, Neg(Mult(b, n)))), domains = [Complex, Complex], condition = NotEquals(a, zero)), InSet(n, Integer)))"
   ]
  },
  {
   "cell_type": "code",
   "execution_count": 3,
   "metadata": {},
   "outputs": [
    {
     "name": "stdout",
     "output_type": "stream",
     "text": [
      "Passed sanity check: expr matches stored_expr\n"
     ]
    }
   ],
   "source": [
    "# check that the built expression is the same as the stored expression\n",
    "assert expr == stored_expr\n",
    "assert expr._style_id == stored_expr._style_id\n",
    "print(\"Passed sanity check: expr matches stored_expr\")"
   ]
  },
  {
   "cell_type": "code",
   "execution_count": 4,
   "metadata": {},
   "outputs": [
    {
     "name": "stdout",
     "output_type": "stream",
     "text": [
      "n \\mapsto \\left\\{\\forall_{a, b \\in \\mathbb{C}~|~a \\neq 0}~\\left((a^{-b})^{n} = a^{-\\left(b \\cdot n\\right)}\\right) \\textrm{ if } n \\in \\mathbb{Z}\\right..\n"
     ]
    }
   ],
   "source": [
    "# Show the LaTeX representation of the expression for convenience if you need it.\n",
    "print(expr.latex())"
   ]
  },
  {
   "cell_type": "code",
   "execution_count": 5,
   "metadata": {},
   "outputs": [
    {
     "data": {
      "text/html": [
       "<table><tr><th>&nbsp;</th><th>core type</th><th>sub-expressions</th><th>expression</th></tr>\n",
       "<tr><td>0</td><td>Lambda</td><td>parameter:&nbsp;41<br>body:&nbsp;1<br></td><td><a class=\"ProveItLink\" href=\"expr.ipynb\"><img src=\"expr.png\" style=\"display:inline;vertical-align:middle;\" /></a></td></tr>\n",
       "<tr><td>1</td><td>Conditional</td><td>value:&nbsp;2<br>condition:&nbsp;3<br></td><td><a class=\"ProveItLink\" href=\"../29370c56149773477d7654360a78dcf053485cd30/expr.ipynb\"><img src=\"../29370c56149773477d7654360a78dcf053485cd30/expr.png\" style=\"display:inline;vertical-align:middle;\" /></a></td></tr>\n",
       "<tr><td>2</td><td>Operation</td><td>operator:&nbsp;4<br>operand:&nbsp;5<br></td><td><a class=\"ProveItLink\" href=\"../da671f8a5c8516c01d7b20b605448fc22fb976090/expr.ipynb\"><img src=\"../da671f8a5c8516c01d7b20b605448fc22fb976090/expr.png\" style=\"display:inline;vertical-align:middle;\" /></a></td></tr>\n",
       "<tr><td>3</td><td>Operation</td><td>operator:&nbsp;24<br>operands:&nbsp;6<br></td><td><a class=\"ProveItLink\" href=\"../e694f0dd0ce0ed1cb86f270a4c4fe7df46ddafc20/expr.ipynb\"><img src=\"../e694f0dd0ce0ed1cb86f270a4c4fe7df46ddafc20/expr.png\" style=\"display:inline;vertical-align:middle;\" /></a></td></tr>\n",
       "<tr><td>4</td><td>Literal</td><td></td><td><a class=\"ProveItLink\" href=\"../../../../../logic/booleans/quantification/universality/__pv_it/common/083d2baa0b8ecab1d230f9ec29a15aa1355809fb0/expr.ipynb\"><img src=\"../../../../../logic/booleans/quantification/universality/__pv_it/common/083d2baa0b8ecab1d230f9ec29a15aa1355809fb0/expr.png\" style=\"display:inline;vertical-align:middle;\" /></a></td></tr>\n",
       "<tr><td>5</td><td>Lambda</td><td>parameters:&nbsp;7<br>body:&nbsp;8<br></td><td><a class=\"ProveItLink\" href=\"../008808da751f9c55fa78d5e30a08dbdf85a958310/expr.ipynb\"><img src=\"../008808da751f9c55fa78d5e30a08dbdf85a958310/expr.png\" style=\"display:inline;vertical-align:middle;\" /></a></td></tr>\n",
       "<tr><td>6</td><td>ExprTuple</td><td>41, 9</td><td><a class=\"ProveItLink\" href=\"../0305f778dc4a6bd37bb9f8eb2d53efece53fedc50/expr.ipynb\"><img src=\"../0305f778dc4a6bd37bb9f8eb2d53efece53fedc50/expr.png\" style=\"display:inline;vertical-align:middle;\" /></a></td></tr>\n",
       "<tr><td>7</td><td>ExprTuple</td><td>35, 40</td><td><a class=\"ProveItLink\" href=\"../0e00cf301f391b9db3f5ff72911e8e2539c94fb00/expr.ipynb\"><img src=\"../0e00cf301f391b9db3f5ff72911e8e2539c94fb00/expr.png\" style=\"display:inline;vertical-align:middle;\" /></a></td></tr>\n",
       "<tr><td>8</td><td>Conditional</td><td>value:&nbsp;10<br>condition:&nbsp;11<br></td><td><a class=\"ProveItLink\" href=\"../715e6b685d068bf6a2c02ad2e1df9388e5ed47860/expr.ipynb\"><img src=\"../715e6b685d068bf6a2c02ad2e1df9388e5ed47860/expr.png\" style=\"display:inline;vertical-align:middle;\" /></a></td></tr>\n",
       "<tr><td>9</td><td>Literal</td><td></td><td><a class=\"ProveItLink\" href=\"../../../../number_sets/integers/__pv_it/common/e6b4e90f9467053e055a4fd2f735c0bb79cb79300/expr.ipynb\"><img src=\"../../../../number_sets/integers/__pv_it/common/e6b4e90f9467053e055a4fd2f735c0bb79cb79300/expr.png\" style=\"display:inline;vertical-align:middle;\" /></a></td></tr>\n",
       "<tr><td>10</td><td>Operation</td><td>operator:&nbsp;12<br>operands:&nbsp;13<br></td><td><a class=\"ProveItLink\" href=\"../4910e9856ab9e840e259aee93478095439102d850/expr.ipynb\"><img src=\"../4910e9856ab9e840e259aee93478095439102d850/expr.png\" style=\"display:inline;vertical-align:middle;\" /></a></td></tr>\n",
       "<tr><td>11</td><td>Operation</td><td>operator:&nbsp;14<br>operands:&nbsp;15<br></td><td><a class=\"ProveItLink\" href=\"../17073f6d26d7365a26280332f22efc9f1d83e64a0/expr.ipynb\"><img src=\"../17073f6d26d7365a26280332f22efc9f1d83e64a0/expr.png\" style=\"display:inline;vertical-align:middle;\" /></a></td></tr>\n",
       "<tr><td>12</td><td>Literal</td><td></td><td><a class=\"ProveItLink\" href=\"../../../../../logic/equality/__pv_it/common/fb96dc12b2aa8801dda64d0132b396c63d1502bb0/expr.ipynb\"><img src=\"../../../../../logic/equality/__pv_it/common/fb96dc12b2aa8801dda64d0132b396c63d1502bb0/expr.png\" style=\"display:inline;vertical-align:middle;\" /></a></td></tr>\n",
       "<tr><td>13</td><td>ExprTuple</td><td>16, 17</td><td><a class=\"ProveItLink\" href=\"../51be123c79f9730d2afca368c07e002acf84cdca0/expr.ipynb\"><img src=\"../51be123c79f9730d2afca368c07e002acf84cdca0/expr.png\" style=\"display:inline;vertical-align:middle;\" /></a></td></tr>\n",
       "<tr><td>14</td><td>Literal</td><td></td><td><a class=\"ProveItLink\" href=\"../../../../../logic/booleans/conjunction/__pv_it/common/42118ff318bd65d98b1393f64ce7c2269feef76e0/expr.ipynb\"><img src=\"../../../../../logic/booleans/conjunction/__pv_it/common/42118ff318bd65d98b1393f64ce7c2269feef76e0/expr.png\" style=\"display:inline;vertical-align:middle;\" /></a></td></tr>\n",
       "<tr><td>15</td><td>ExprTuple</td><td>18, 19, 20</td><td><a class=\"ProveItLink\" href=\"../e8feb939251333f4e30491f1cc2643e93e42a0a00/expr.ipynb\"><img src=\"../e8feb939251333f4e30491f1cc2643e93e42a0a00/expr.png\" style=\"display:inline;vertical-align:middle;\" /></a></td></tr>\n",
       "<tr><td>16</td><td>Operation</td><td>operator:&nbsp;32<br>operands:&nbsp;21<br></td><td><a class=\"ProveItLink\" href=\"../689bde488d138c245f0c70a820be92abc1a02d950/expr.ipynb\"><img src=\"../689bde488d138c245f0c70a820be92abc1a02d950/expr.png\" style=\"display:inline;vertical-align:middle;\" /></a></td></tr>\n",
       "<tr><td>17</td><td>Operation</td><td>operator:&nbsp;32<br>operands:&nbsp;22<br></td><td><a class=\"ProveItLink\" href=\"../cf5f9d33df4afeb48faf778fd4125d3859fee2120/expr.ipynb\"><img src=\"../cf5f9d33df4afeb48faf778fd4125d3859fee2120/expr.png\" style=\"display:inline;vertical-align:middle;\" /></a></td></tr>\n",
       "<tr><td>18</td><td>Operation</td><td>operator:&nbsp;24<br>operands:&nbsp;23<br></td><td><a class=\"ProveItLink\" href=\"../ffc4a45642fde8a513aa78237f7ca59ff7c646290/expr.ipynb\"><img src=\"../ffc4a45642fde8a513aa78237f7ca59ff7c646290/expr.png\" style=\"display:inline;vertical-align:middle;\" /></a></td></tr>\n",
       "<tr><td>19</td><td>Operation</td><td>operator:&nbsp;24<br>operands:&nbsp;25<br></td><td><a class=\"ProveItLink\" href=\"../cc5977648bc1a1b7dbb543c11fb2eb11ba7bfd0b0/expr.ipynb\"><img src=\"../cc5977648bc1a1b7dbb543c11fb2eb11ba7bfd0b0/expr.png\" style=\"display:inline;vertical-align:middle;\" /></a></td></tr>\n",
       "<tr><td>20</td><td>Operation</td><td>operator:&nbsp;26<br>operands:&nbsp;27<br></td><td><a class=\"ProveItLink\" href=\"../ca0ec1091cc4f6cd33c7bb3749a084bfb20725620/expr.ipynb\"><img src=\"../ca0ec1091cc4f6cd33c7bb3749a084bfb20725620/expr.png\" style=\"display:inline;vertical-align:middle;\" /></a></td></tr>\n",
       "<tr><td>21</td><td>ExprTuple</td><td>28, 41</td><td><a class=\"ProveItLink\" href=\"../9f2b947055fe064afc731cb5fda930025eb40d3a0/expr.ipynb\"><img src=\"../9f2b947055fe064afc731cb5fda930025eb40d3a0/expr.png\" style=\"display:inline;vertical-align:middle;\" /></a></td></tr>\n",
       "<tr><td>22</td><td>ExprTuple</td><td>35, 29</td><td><a class=\"ProveItLink\" href=\"../636465360258ba4d44f09075a664229dbd88e9e70/expr.ipynb\"><img src=\"../636465360258ba4d44f09075a664229dbd88e9e70/expr.png\" style=\"display:inline;vertical-align:middle;\" /></a></td></tr>\n",
       "<tr><td>23</td><td>ExprTuple</td><td>35, 30</td><td><a class=\"ProveItLink\" href=\"../b09522ef7ab30f4ad67aa0f5ccb1edb96dc097ef0/expr.ipynb\"><img src=\"../b09522ef7ab30f4ad67aa0f5ccb1edb96dc097ef0/expr.png\" style=\"display:inline;vertical-align:middle;\" /></a></td></tr>\n",
       "<tr><td>24</td><td>Literal</td><td></td><td><a class=\"ProveItLink\" href=\"../../../../../logic/sets/membership/__pv_it/common/477487d8796864d23d5810f83761435f25167f690/expr.ipynb\"><img src=\"../../../../../logic/sets/membership/__pv_it/common/477487d8796864d23d5810f83761435f25167f690/expr.png\" style=\"display:inline;vertical-align:middle;\" /></a></td></tr>\n",
       "<tr><td>25</td><td>ExprTuple</td><td>40, 30</td><td><a class=\"ProveItLink\" href=\"../6e2ad23ff1a799409a25a0968d4f2a8c88b4bf110/expr.ipynb\"><img src=\"../6e2ad23ff1a799409a25a0968d4f2a8c88b4bf110/expr.png\" style=\"display:inline;vertical-align:middle;\" /></a></td></tr>\n",
       "<tr><td>26</td><td>Literal</td><td></td><td><a class=\"ProveItLink\" href=\"../../../../../logic/equality/__pv_it/common/d96270bc9bb1bad54f773b1c04bfb343a739642c0/expr.ipynb\"><img src=\"../../../../../logic/equality/__pv_it/common/d96270bc9bb1bad54f773b1c04bfb343a739642c0/expr.png\" style=\"display:inline;vertical-align:middle;\" /></a></td></tr>\n",
       "<tr><td>27</td><td>ExprTuple</td><td>35, 31</td><td><a class=\"ProveItLink\" href=\"../60ba91908b283be41d3d42f3d78214c73295c9430/expr.ipynb\"><img src=\"../60ba91908b283be41d3d42f3d78214c73295c9430/expr.png\" style=\"display:inline;vertical-align:middle;\" /></a></td></tr>\n",
       "<tr><td>28</td><td>Operation</td><td>operator:&nbsp;32<br>operands:&nbsp;33<br></td><td><a class=\"ProveItLink\" href=\"../24b5dd48c52e544f3b1abd43e6a15a47e51276950/expr.ipynb\"><img src=\"../24b5dd48c52e544f3b1abd43e6a15a47e51276950/expr.png\" style=\"display:inline;vertical-align:middle;\" /></a></td></tr>\n",
       "<tr><td>29</td><td>Operation</td><td>operator:&nbsp;39<br>operand:&nbsp;34<br></td><td><a class=\"ProveItLink\" href=\"../11b2d865ad7f4cfb95f58031c3b18fa40359a6540/expr.ipynb\"><img src=\"../11b2d865ad7f4cfb95f58031c3b18fa40359a6540/expr.png\" style=\"display:inline;vertical-align:middle;\" /></a></td></tr>\n",
       "<tr><td>30</td><td>Literal</td><td></td><td><a class=\"ProveItLink\" href=\"../../../../number_sets/complex_numbers/__pv_it/common/d18a028138f659eda00de597c28a3447fe87eb100/expr.ipynb\"><img src=\"../../../../number_sets/complex_numbers/__pv_it/common/d18a028138f659eda00de597c28a3447fe87eb100/expr.png\" style=\"display:inline;vertical-align:middle;\" /></a></td></tr>\n",
       "<tr><td>31</td><td>Literal</td><td></td><td><a class=\"ProveItLink\" href=\"../../../../numerals/__pv_it/common/7d0a36793ffe8d307a5c120ee5598162e8cd2db10/expr.ipynb\"><img src=\"../../../../numerals/__pv_it/common/7d0a36793ffe8d307a5c120ee5598162e8cd2db10/expr.png\" style=\"display:inline;vertical-align:middle;\" /></a></td></tr>\n",
       "<tr><td>32</td><td>Literal</td><td></td><td><a class=\"ProveItLink\" href=\"../../common/0ac37aca1e54c35c5cda09672df32d4f69f1f3020/expr.ipynb\"><img src=\"../../common/0ac37aca1e54c35c5cda09672df32d4f69f1f3020/expr.png\" style=\"display:inline;vertical-align:middle;\" /></a></td></tr>\n",
       "<tr><td>33</td><td>ExprTuple</td><td>35, 36</td><td><a class=\"ProveItLink\" href=\"../fc25a5df1bc113a979e083f52c4ae2028a1f3a520/expr.ipynb\"><img src=\"../fc25a5df1bc113a979e083f52c4ae2028a1f3a520/expr.png\" style=\"display:inline;vertical-align:middle;\" /></a></td></tr>\n",
       "<tr><td>34</td><td>Operation</td><td>operator:&nbsp;37<br>operands:&nbsp;38<br></td><td><a class=\"ProveItLink\" href=\"../f54fded429038065c6ed592c618516a9464b59d60/expr.ipynb\"><img src=\"../f54fded429038065c6ed592c618516a9464b59d60/expr.png\" style=\"display:inline;vertical-align:middle;\" /></a></td></tr>\n",
       "<tr><td>35</td><td>Variable</td><td></td><td><a class=\"ProveItLink\" href=\"../../../../../__pv_it/common/c06c606ec12678c58933ac85412ecadc2ae28be60/expr.ipynb\"><img src=\"../../../../../__pv_it/common/c06c606ec12678c58933ac85412ecadc2ae28be60/expr.png\" style=\"display:inline;vertical-align:middle;\" /></a></td></tr>\n",
       "<tr><td>36</td><td>Operation</td><td>operator:&nbsp;39<br>operand:&nbsp;40<br></td><td><a class=\"ProveItLink\" href=\"../7671fea725b7bcaf8182b4bb695191dc0c5161020/expr.ipynb\"><img src=\"../7671fea725b7bcaf8182b4bb695191dc0c5161020/expr.png\" style=\"display:inline;vertical-align:middle;\" /></a></td></tr>\n",
       "<tr><td>37</td><td>Literal</td><td></td><td><a class=\"ProveItLink\" href=\"../../../../multiplication/__pv_it/common/ed719cef37831779c16481533a4d380a2f95ab270/expr.ipynb\"><img src=\"../../../../multiplication/__pv_it/common/ed719cef37831779c16481533a4d380a2f95ab270/expr.png\" style=\"display:inline;vertical-align:middle;\" /></a></td></tr>\n",
       "<tr><td>38</td><td>ExprTuple</td><td>40, 41</td><td><a class=\"ProveItLink\" href=\"../99a2cb1c625bd905be5b8c7c65ec6565cd8e42790/expr.ipynb\"><img src=\"../99a2cb1c625bd905be5b8c7c65ec6565cd8e42790/expr.png\" style=\"display:inline;vertical-align:middle;\" /></a></td></tr>\n",
       "<tr><td>39</td><td>Literal</td><td></td><td><a class=\"ProveItLink\" href=\"../../../../negation/__pv_it/common/221b3c4d1770ee9051b7c044c3f9ec61196fc34b0/expr.ipynb\"><img src=\"../../../../negation/__pv_it/common/221b3c4d1770ee9051b7c044c3f9ec61196fc34b0/expr.png\" style=\"display:inline;vertical-align:middle;\" /></a></td></tr>\n",
       "<tr><td>40</td><td>Variable</td><td></td><td><a class=\"ProveItLink\" href=\"../../../../../__pv_it/common/195236b98c6c564a75b5dbada74b173bc52d5c3e0/expr.ipynb\"><img src=\"../../../../../__pv_it/common/195236b98c6c564a75b5dbada74b173bc52d5c3e0/expr.png\" style=\"display:inline;vertical-align:middle;\" /></a></td></tr>\n",
       "<tr><td>41</td><td>Variable</td><td></td><td><a class=\"ProveItLink\" href=\"../../../../../__pv_it/common/8968bb04eb3f7dfa02353397ce929b025bbd79c20/expr.ipynb\"><img src=\"../../../../../__pv_it/common/8968bb04eb3f7dfa02353397ce929b025bbd79c20/expr.png\" style=\"display:inline;vertical-align:middle;\" /></a></td></tr>\n",
       "</table>\n"
      ],
      "text/plain": [
       "0. n -> {forall_{a, b in Complex | a != 0} ((a^{-b})^{n} = a^{-(b * n)}) if n in Integer.\n",
       "   core type: Lambda\n",
       "   parameter: 41\n",
       "   body: 1\n",
       "1. {forall_{a, b in Complex | a != 0} ((a^{-b})^{n} = a^{-(b * n)}) if n in Integer.\n",
       "   core type: Conditional\n",
       "   value: 2\n",
       "   condition: 3\n",
       "2. forall_{a, b in Complex | a != 0} ((a^{-b})^{n} = a^{-(b * n)})\n",
       "   core type: Operation\n",
       "   operator: 4\n",
       "   operand: 5\n",
       "3. n in Integer\n",
       "   core type: Operation\n",
       "   operator: 24\n",
       "   operands: 6\n",
       "4. forall\n",
       "   core type: Literal\n",
       "   sub-expressions: \n",
       "5. (a, b) -> {(a^{-b})^{n} = a^{-(b * n)} if a in Complex ,  b in Complex ,  a != 0.\n",
       "   core type: Lambda\n",
       "   parameters: 7\\n   body: 8\n",
       "6. (n, Integer)\n",
       "   core type: ExprTuple\n",
       "   sub-expressions: 41, 9\n",
       "7. (a, b)\n",
       "   core type: ExprTuple\n",
       "   sub-expressions: 35, 40\n",
       "8. {(a^{-b})^{n} = a^{-(b * n)} if a in Complex ,  b in Complex ,  a != 0.\n",
       "   core type: Conditional\n",
       "   value: 10\n",
       "   condition: 11\n",
       "9. Integer\n",
       "   core type: Literal\n",
       "   sub-expressions: \n",
       "10. (a^{-b})^{n} = a^{-(b * n)}\n",
       "    core type: Operation\n",
       "    operator: 12\n",
       "    operands: 13\n",
       "11. (a in Complex) and (b in Complex) and (a != 0)\n",
       "    core type: Operation\n",
       "    operator: 14\n",
       "    operands: 15\n",
       "12. =\n",
       "    core type: Literal\n",
       "    sub-expressions: \n",
       "13. ((a^{-b})^{n}, a^{-(b * n)})\n",
       "    core type: ExprTuple\n",
       "    sub-expressions: 16, 17\n",
       "14. and\n",
       "    core type: Literal\n",
       "    sub-expressions: \n",
       "15. (a in Complex, b in Complex, a != 0)\n",
       "    core type: ExprTuple\n",
       "    sub-expressions: 18, 19, 20\n",
       "16. (a^{-b})^{n}\n",
       "    core type: Operation\n",
       "    operator: 32\n",
       "    operands: 21\n",
       "17. a^{-(b * n)}\n",
       "    core type: Operation\n",
       "    operator: 32\n",
       "    operands: 22\n",
       "18. a in Complex\n",
       "    core type: Operation\n",
       "    operator: 24\n",
       "    operands: 23\n",
       "19. b in Complex\n",
       "    core type: Operation\n",
       "    operator: 24\n",
       "    operands: 25\n",
       "20. a != 0\n",
       "    core type: Operation\n",
       "    operator: 26\n",
       "    operands: 27\n",
       "21. (a^{-b}, n)\n",
       "    core type: ExprTuple\n",
       "    sub-expressions: 28, 41\n",
       "22. (a, -(b * n))\n",
       "    core type: ExprTuple\n",
       "    sub-expressions: 35, 29\n",
       "23. (a, Complex)\n",
       "    core type: ExprTuple\n",
       "    sub-expressions: 35, 30\n",
       "24. in\n",
       "    core type: Literal\n",
       "    sub-expressions: \n",
       "25. (b, Complex)\n",
       "    core type: ExprTuple\n",
       "    sub-expressions: 40, 30\n",
       "26. !=\n",
       "    core type: Literal\n",
       "    sub-expressions: \n",
       "27. (a, 0)\n",
       "    core type: ExprTuple\n",
       "    sub-expressions: 35, 31\n",
       "28. a^{-b}\n",
       "    core type: Operation\n",
       "    operator: 32\n",
       "    operands: 33\n",
       "29. -(b * n)\n",
       "    core type: Operation\n",
       "    operator: 39\n",
       "    operand: 34\n",
       "30. Complex\n",
       "    core type: Literal\n",
       "    sub-expressions: \n",
       "31. 0\n",
       "    core type: Literal\n",
       "    sub-expressions: \n",
       "32. Exp\n",
       "    core type: Literal\n",
       "    sub-expressions: \n",
       "33. (a, -b)\n",
       "    core type: ExprTuple\n",
       "    sub-expressions: 35, 36\n",
       "34. b * n\n",
       "    core type: Operation\n",
       "    operator: 37\n",
       "    operands: 38\n",
       "35. a\n",
       "    core type: Variable\n",
       "    sub-expressions: \n",
       "36. -b\n",
       "    core type: Operation\n",
       "    operator: 39\n",
       "    operand: 40\n",
       "37. *\n",
       "    core type: Literal\n",
       "    sub-expressions: \n",
       "38. (b, n)\n",
       "    core type: ExprTuple\n",
       "    sub-expressions: 40, 41\n",
       "39. -\n",
       "    core type: Literal\n",
       "    sub-expressions: \n",
       "40. b\n",
       "    core type: Variable\n",
       "    sub-expressions: \n",
       "41. n\n",
       "    core type: Variable\n",
       "    sub-expressions: "
      ]
     },
     "execution_count": 5,
     "metadata": {},
     "output_type": "execute_result"
    }
   ],
   "source": [
    "# display the expression information\n",
    "expr.expr_info()"
   ]
  },
  {
   "cell_type": "code",
   "execution_count": null,
   "metadata": {},
   "outputs": [],
   "source": []
  }
 ],
 "metadata": {
  "kernelspec": {
   "display_name": "Python 3",
   "language": "python",
   "name": "python3"
  }
 },
 "nbformat": 4,
 "nbformat_minor": 0
}