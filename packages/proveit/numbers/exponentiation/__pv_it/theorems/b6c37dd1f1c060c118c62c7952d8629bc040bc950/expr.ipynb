{
 "cells": [
  {
   "cell_type": "markdown",
   "metadata": {},
   "source": [
    "Expression of type <a class=\"ProveItLink\" href=\"../../../../../../../doc/html/api/proveit.ExprTuple.html\">ExprTuple</a>\n",
    "=======================\n",
    "# from the theory of <a class=\"ProveItLink\" href=\"../../../_theory_nbs_/theory.ipynb\">proveit.numbers.exponentiation</a>"
   ]
  },
  {
   "cell_type": "code",
   "execution_count": 1,
   "metadata": {},
   "outputs": [],
   "source": [
    "import proveit\n",
    "# Automation is not needed when building an expression:\n",
    "proveit.defaults.automation = False # This will speed things up.\n",
    "proveit.defaults.inline_pngs = False # Makes files smaller.\n",
    "%load_expr # Load the stored expression as 'stored_expr'\n",
    "# import Expression classes needed to build the expression\n",
    "from proveit import Conditional, ExprTuple, Lambda, a, m\n",
    "from proveit.core_expr_types import k_1_to_m\n",
    "from proveit.logic import Equals, Forall, InSet\n",
    "from proveit.numbers import Add, Complex, Exp, NaturalPos\n",
    "from proveit.numbers.exponentiation import prod_a_raise_ki__1_to_m"
   ]
  },
  {
   "cell_type": "code",
   "execution_count": 2,
   "metadata": {},
   "outputs": [
    {
     "data": {
      "text/html": [
       "<strong id=\"expr\">expr:</strong> <a class=\"ProveItLink\" href=\"expr.ipynb\"><img src=\"expr.png\" style=\"display:inline;vertical-align:middle;\" /></a><br>"
      ],
      "text/plain": [
       "expr: (m -> {forall_{a in Complex, k_{1} in NaturalPos, ..k_{_a} in NaturalPos.., k_{m} in NaturalPos} ((a^{k_{1}} * ..a^{k_{i}}.. * a^{k_{m}}) = a^{k_{1} + ..k_{_a}.. + k_{m}}) if m in NaturalPos.)"
      ]
     },
     "execution_count": 2,
     "metadata": {},
     "output_type": "execute_result"
    }
   ],
   "source": [
    "# build up the expression from sub-expressions\n",
    "expr = ExprTuple(Lambda(m, Conditional(Forall([a, k_1_to_m], Equals(prod_a_raise_ki__1_to_m, Exp(a, Add(k_1_to_m))), domains = [Complex, NaturalPos]), InSet(m, NaturalPos))))"
   ]
  },
  {
   "cell_type": "code",
   "execution_count": 3,
   "metadata": {},
   "outputs": [
    {
     "name": "stdout",
     "output_type": "stream",
     "text": [
      "Passed sanity check: expr matches stored_expr\n"
     ]
    }
   ],
   "source": [
    "# check that the built expression is the same as the stored expression\n",
    "assert expr == stored_expr\n",
    "assert expr._style_id == stored_expr._style_id\n",
    "print(\"Passed sanity check: expr matches stored_expr\")"
   ]
  },
  {
   "cell_type": "code",
   "execution_count": 4,
   "metadata": {},
   "outputs": [
    {
     "name": "stdout",
     "output_type": "stream",
     "text": [
      "\\left(m \\mapsto \\left\\{\\forall_{a \\in \\mathbb{C}, k_{1} \\in \\mathbb{N}^+, \\ldots, k_{m} \\in \\mathbb{N}^+}~\\left(\\left(a^{k_{1}} \\cdot \\ldots \\cdot a^{k_{m}}\\right) = a^{k_{1} + \\ldots + k_{m}}\\right) \\textrm{ if } m \\in \\mathbb{N}^+\\right..\\right)\n"
     ]
    }
   ],
   "source": [
    "# Show the LaTeX representation of the expression for convenience if you need it.\n",
    "print(expr.latex())"
   ]
  },
  {
   "cell_type": "code",
   "execution_count": 5,
   "metadata": {},
   "outputs": [
    {
     "data": {
      "text/html": [
       "no style options"
      ],
      "text/plain": [
       "no style options"
      ]
     },
     "execution_count": 5,
     "metadata": {},
     "output_type": "execute_result"
    }
   ],
   "source": [
    "expr.style_options()"
   ]
  },
  {
   "cell_type": "code",
   "execution_count": 6,
   "metadata": {},
   "outputs": [
    {
     "data": {
      "text/html": [
       "<table><tr><th>&nbsp;</th><th>core type</th><th>sub-expressions</th><th>expression</th></tr>\n",
       "<tr><td>0</td><td>ExprTuple</td><td>1</td><td><a class=\"ProveItLink\" href=\"expr.ipynb\"><img src=\"expr.png\" style=\"display:inline;vertical-align:middle;\" /></a></td></tr>\n",
       "<tr><td>1</td><td>Lambda</td><td>parameter:&nbsp;42<br>body:&nbsp;2<br></td><td><a class=\"ProveItLink\" href=\"../b1998d49bfbd9279c6def7810ee900a5699ca3be0/expr.ipynb\"><img src=\"../b1998d49bfbd9279c6def7810ee900a5699ca3be0/expr.png\" style=\"display:inline;vertical-align:middle;\" /></a></td></tr>\n",
       "<tr><td>2</td><td>Conditional</td><td>value:&nbsp;3<br>condition:&nbsp;4<br></td><td><a class=\"ProveItLink\" href=\"../63df71794b4be25bb6e38515610e039bfee347c10/expr.ipynb\"><img src=\"../63df71794b4be25bb6e38515610e039bfee347c10/expr.png\" style=\"display:inline;vertical-align:middle;\" /></a></td></tr>\n",
       "<tr><td>3</td><td>Operation</td><td>operator:&nbsp;5<br>operand:&nbsp;8<br></td><td><a class=\"ProveItLink\" href=\"../772f661255055f1ad929ed04b1aead217ada0ade0/expr.ipynb\"><img src=\"../772f661255055f1ad929ed04b1aead217ada0ade0/expr.png\" style=\"display:inline;vertical-align:middle;\" /></a></td></tr>\n",
       "<tr><td>4</td><td>Operation</td><td>operator:&nbsp;33<br>operands:&nbsp;7<br></td><td><a class=\"ProveItLink\" href=\"../6b3ff92246828fbfb97988abc8ee79a02ac1c4480/expr.ipynb\"><img src=\"../6b3ff92246828fbfb97988abc8ee79a02ac1c4480/expr.png\" style=\"display:inline;vertical-align:middle;\" /></a></td></tr>\n",
       "<tr><td>5</td><td>Literal</td><td></td><td><a class=\"ProveItLink\" href=\"../../../../../logic/booleans/quantification/universality/__pv_it/common/684d35ba98fcbf8ca5011f865e530a51e77730630/expr.ipynb\"><img src=\"../../../../../logic/booleans/quantification/universality/__pv_it/common/684d35ba98fcbf8ca5011f865e530a51e77730630/expr.png\" style=\"display:inline;vertical-align:middle;\" /></a></td></tr>\n",
       "<tr><td>6</td><td>ExprTuple</td><td>8</td><td><a class=\"ProveItLink\" href=\"../e8737d9ec3c2cee916f9a5761cec3e3ff67c48d40/expr.ipynb\"><img src=\"../e8737d9ec3c2cee916f9a5761cec3e3ff67c48d40/expr.png\" style=\"display:inline;vertical-align:middle;\" /></a></td></tr>\n",
       "<tr><td>7</td><td>ExprTuple</td><td>42, 37</td><td><a class=\"ProveItLink\" href=\"../dc63af1f664b017213ea5b3c44c17f5f20a0cd780/expr.ipynb\"><img src=\"../dc63af1f664b017213ea5b3c44c17f5f20a0cd780/expr.png\" style=\"display:inline;vertical-align:middle;\" /></a></td></tr>\n",
       "<tr><td>8</td><td>Lambda</td><td>parameters:&nbsp;9<br>body:&nbsp;10<br></td><td><a class=\"ProveItLink\" href=\"../39e0af288fd228b2a45050bae82a1062778a80750/expr.ipynb\"><img src=\"../39e0af288fd228b2a45050bae82a1062778a80750/expr.png\" style=\"display:inline;vertical-align:middle;\" /></a></td></tr>\n",
       "<tr><td>9</td><td>ExprTuple</td><td>43, 36</td><td><a class=\"ProveItLink\" href=\"../d26e05a0b68dc71d212f754de25550c3abe382b10/expr.ipynb\"><img src=\"../d26e05a0b68dc71d212f754de25550c3abe382b10/expr.png\" style=\"display:inline;vertical-align:middle;\" /></a></td></tr>\n",
       "<tr><td>10</td><td>Conditional</td><td>value:&nbsp;11<br>condition:&nbsp;12<br></td><td><a class=\"ProveItLink\" href=\"../d358bc075640cb3e51721163eb68f2bbd8da3b890/expr.ipynb\"><img src=\"../d358bc075640cb3e51721163eb68f2bbd8da3b890/expr.png\" style=\"display:inline;vertical-align:middle;\" /></a></td></tr>\n",
       "<tr><td>11</td><td>Operation</td><td>operator:&nbsp;13<br>operands:&nbsp;14<br></td><td><a class=\"ProveItLink\" href=\"../337df25ebe4cb0bd081dcc23468d91cb9d6648270/expr.ipynb\"><img src=\"../337df25ebe4cb0bd081dcc23468d91cb9d6648270/expr.png\" style=\"display:inline;vertical-align:middle;\" /></a></td></tr>\n",
       "<tr><td>12</td><td>Operation</td><td>operator:&nbsp;15<br>operands:&nbsp;16<br></td><td><a class=\"ProveItLink\" href=\"../3d024e4d13ebbc9b4f07ffe31f90565c622050e50/expr.ipynb\"><img src=\"../3d024e4d13ebbc9b4f07ffe31f90565c622050e50/expr.png\" style=\"display:inline;vertical-align:middle;\" /></a></td></tr>\n",
       "<tr><td>13</td><td>Literal</td><td></td><td><a class=\"ProveItLink\" href=\"../../../../../logic/equality/__pv_it/common/731dd3955b346c1320ed5c0ba7a618bcda61457d0/expr.ipynb\"><img src=\"../../../../../logic/equality/__pv_it/common/731dd3955b346c1320ed5c0ba7a618bcda61457d0/expr.png\" style=\"display:inline;vertical-align:middle;\" /></a></td></tr>\n",
       "<tr><td>14</td><td>ExprTuple</td><td>17, 18</td><td><a class=\"ProveItLink\" href=\"../01168249ebe35011d659581a182a36883fb6ef120/expr.ipynb\"><img src=\"../01168249ebe35011d659581a182a36883fb6ef120/expr.png\" style=\"display:inline;vertical-align:middle;\" /></a></td></tr>\n",
       "<tr><td>15</td><td>Literal</td><td></td><td><a class=\"ProveItLink\" href=\"../../../../../logic/booleans/conjunction/__pv_it/common/26b94b53e70b1d77b70f0d9d4236347db37731060/expr.ipynb\"><img src=\"../../../../../logic/booleans/conjunction/__pv_it/common/26b94b53e70b1d77b70f0d9d4236347db37731060/expr.png\" style=\"display:inline;vertical-align:middle;\" /></a></td></tr>\n",
       "<tr><td>16</td><td>ExprTuple</td><td>19, 20</td><td><a class=\"ProveItLink\" href=\"../37f88d68a98fc5b8b978029d21b8cb684c5976230/expr.ipynb\"><img src=\"../37f88d68a98fc5b8b978029d21b8cb684c5976230/expr.png\" style=\"display:inline;vertical-align:middle;\" /></a></td></tr>\n",
       "<tr><td>17</td><td>Operation</td><td>operator:&nbsp;21<br>operands:&nbsp;22<br></td><td><a class=\"ProveItLink\" href=\"../../common/9b613d6163b298376e065ccc6d3a762ffc3e30210/expr.ipynb\"><img src=\"../../common/9b613d6163b298376e065ccc6d3a762ffc3e30210/expr.png\" style=\"display:inline;vertical-align:middle;\" /></a></td></tr>\n",
       "<tr><td>18</td><td>Operation</td><td>operator:&nbsp;38<br>operands:&nbsp;23<br></td><td><a class=\"ProveItLink\" href=\"../44014f4a5ce1b86b851dac7e9393a46cd16a8b070/expr.ipynb\"><img src=\"../44014f4a5ce1b86b851dac7e9393a46cd16a8b070/expr.png\" style=\"display:inline;vertical-align:middle;\" /></a></td></tr>\n",
       "<tr><td>19</td><td>Operation</td><td>operator:&nbsp;33<br>operands:&nbsp;24<br></td><td><a class=\"ProveItLink\" href=\"../95d0d034454e5eb6c3934a54d7a149c5c125a3cb0/expr.ipynb\"><img src=\"../95d0d034454e5eb6c3934a54d7a149c5c125a3cb0/expr.png\" style=\"display:inline;vertical-align:middle;\" /></a></td></tr>\n",
       "<tr><td>20</td><td>ExprRange</td><td>lambda_map:&nbsp;25<br>start_index:&nbsp;41<br>end_index:&nbsp;42<br></td><td><a class=\"ProveItLink\" href=\"../279cb57e049b0e09eeb4094e0c592443dec2cf910/expr.ipynb\"><img src=\"../279cb57e049b0e09eeb4094e0c592443dec2cf910/expr.png\" style=\"display:inline;vertical-align:middle;\" /></a></td></tr>\n",
       "<tr><td>21</td><td>Literal</td><td></td><td><a class=\"ProveItLink\" href=\"../../../../multiplication/__pv_it/common/c57d60974865e78d434abd3ff22c405685c80ade0/expr.ipynb\"><img src=\"../../../../multiplication/__pv_it/common/c57d60974865e78d434abd3ff22c405685c80ade0/expr.png\" style=\"display:inline;vertical-align:middle;\" /></a></td></tr>\n",
       "<tr><td>22</td><td>ExprTuple</td><td>26</td><td><a class=\"ProveItLink\" href=\"../../common/3cc33c09952d543e6aeb3c043c63a28d7e4c422b0/expr.ipynb\"><img src=\"../../common/3cc33c09952d543e6aeb3c043c63a28d7e4c422b0/expr.png\" style=\"display:inline;vertical-align:middle;\" /></a></td></tr>\n",
       "<tr><td>23</td><td>ExprTuple</td><td>43, 27</td><td><a class=\"ProveItLink\" href=\"../1b9e8ad74fc999f12c6aa2a39ff7f1ac28fbe6900/expr.ipynb\"><img src=\"../1b9e8ad74fc999f12c6aa2a39ff7f1ac28fbe6900/expr.png\" style=\"display:inline;vertical-align:middle;\" /></a></td></tr>\n",
       "<tr><td>24</td><td>ExprTuple</td><td>43, 28</td><td><a class=\"ProveItLink\" href=\"../124b000752291c9be9fd777a8318a35f27eebae40/expr.ipynb\"><img src=\"../124b000752291c9be9fd777a8318a35f27eebae40/expr.png\" style=\"display:inline;vertical-align:middle;\" /></a></td></tr>\n",
       "<tr><td>25</td><td>Lambda</td><td>parameter:&nbsp;50<br>body:&nbsp;29<br></td><td><a class=\"ProveItLink\" href=\"../418676c40946b44c731ff2f31032ed0498a2417c0/expr.ipynb\"><img src=\"../418676c40946b44c731ff2f31032ed0498a2417c0/expr.png\" style=\"display:inline;vertical-align:middle;\" /></a></td></tr>\n",
       "<tr><td>26</td><td>ExprRange</td><td>lambda_map:&nbsp;30<br>start_index:&nbsp;41<br>end_index:&nbsp;42<br></td><td><a class=\"ProveItLink\" href=\"../../common/9f7e1b817161b6e66e77ca7c81971f6074af51710/expr.ipynb\"><img src=\"../../common/9f7e1b817161b6e66e77ca7c81971f6074af51710/expr.png\" style=\"display:inline;vertical-align:middle;\" /></a></td></tr>\n",
       "<tr><td>27</td><td>Operation</td><td>operator:&nbsp;31<br>operands:&nbsp;32<br></td><td><a class=\"ProveItLink\" href=\"../c6bd08bc5865ad359cca824ae549a3b344e4fd3c0/expr.ipynb\"><img src=\"../c6bd08bc5865ad359cca824ae549a3b344e4fd3c0/expr.png\" style=\"display:inline;vertical-align:middle;\" /></a></td></tr>\n",
       "<tr><td>28</td><td>Literal</td><td></td><td><a class=\"ProveItLink\" href=\"../../../../number_sets/complex_numbers/__pv_it/common/fbfabc61f6f66350b130e5a55a72b80825c065f90/expr.ipynb\"><img src=\"../../../../number_sets/complex_numbers/__pv_it/common/fbfabc61f6f66350b130e5a55a72b80825c065f90/expr.png\" style=\"display:inline;vertical-align:middle;\" /></a></td></tr>\n",
       "<tr><td>29</td><td>Operation</td><td>operator:&nbsp;33<br>operands:&nbsp;34<br></td><td><a class=\"ProveItLink\" href=\"../12a1d979edb2b980a0f5e8b18266872a42ee888f0/expr.ipynb\"><img src=\"../12a1d979edb2b980a0f5e8b18266872a42ee888f0/expr.png\" style=\"display:inline;vertical-align:middle;\" /></a></td></tr>\n",
       "<tr><td>30</td><td>Lambda</td><td>parameter:&nbsp;49<br>body:&nbsp;35<br></td><td><a class=\"ProveItLink\" href=\"../../common/92301d8fcb64f3f5a8a15f5b60d2d9829ec228cc0/expr.ipynb\"><img src=\"../../common/92301d8fcb64f3f5a8a15f5b60d2d9829ec228cc0/expr.png\" style=\"display:inline;vertical-align:middle;\" /></a></td></tr>\n",
       "<tr><td>31</td><td>Literal</td><td></td><td><a class=\"ProveItLink\" href=\"../../../../addition/__pv_it/common/1f38fe5cce441387feef296e2c0a2eac260bb4f30/expr.ipynb\"><img src=\"../../../../addition/__pv_it/common/1f38fe5cce441387feef296e2c0a2eac260bb4f30/expr.png\" style=\"display:inline;vertical-align:middle;\" /></a></td></tr>\n",
       "<tr><td>32</td><td>ExprTuple</td><td>36</td><td><a class=\"ProveItLink\" href=\"../462f5e5898197d973df2a30c19b378e75ac9c7d50/expr.ipynb\"><img src=\"../462f5e5898197d973df2a30c19b378e75ac9c7d50/expr.png\" style=\"display:inline;vertical-align:middle;\" /></a></td></tr>\n",
       "<tr><td>33</td><td>Literal</td><td></td><td><a class=\"ProveItLink\" href=\"../../../../../logic/sets/membership/__pv_it/common/7171deca84f71f47a6ec7696972d1632274a12880/expr.ipynb\"><img src=\"../../../../../logic/sets/membership/__pv_it/common/7171deca84f71f47a6ec7696972d1632274a12880/expr.png\" style=\"display:inline;vertical-align:middle;\" /></a></td></tr>\n",
       "<tr><td>34</td><td>ExprTuple</td><td>45, 37</td><td><a class=\"ProveItLink\" href=\"../8a110f8d81fd3a360a5def098b23b4bde8c70f420/expr.ipynb\"><img src=\"../8a110f8d81fd3a360a5def098b23b4bde8c70f420/expr.png\" style=\"display:inline;vertical-align:middle;\" /></a></td></tr>\n",
       "<tr><td>35</td><td>Operation</td><td>operator:&nbsp;38<br>operands:&nbsp;39<br></td><td><a class=\"ProveItLink\" href=\"../../common/0008e01da5969933cfcb5856ccb560d64ae804130/expr.ipynb\"><img src=\"../../common/0008e01da5969933cfcb5856ccb560d64ae804130/expr.png\" style=\"display:inline;vertical-align:middle;\" /></a></td></tr>\n",
       "<tr><td>36</td><td>ExprRange</td><td>lambda_map:&nbsp;40<br>start_index:&nbsp;41<br>end_index:&nbsp;42<br></td><td><a class=\"ProveItLink\" href=\"../../../../../core_expr_types/__pv_it/common/945a6342ae518516c5a3af4ce7f262fba5fcf1800/expr.ipynb\"><img src=\"../../../../../core_expr_types/__pv_it/common/945a6342ae518516c5a3af4ce7f262fba5fcf1800/expr.png\" style=\"display:inline;vertical-align:middle;\" /></a></td></tr>\n",
       "<tr><td>37</td><td>Literal</td><td></td><td><a class=\"ProveItLink\" href=\"../../../../number_sets/natural_numbers/__pv_it/common/a2a7252783c385c028dad802e97575c19e456b990/expr.ipynb\"><img src=\"../../../../number_sets/natural_numbers/__pv_it/common/a2a7252783c385c028dad802e97575c19e456b990/expr.png\" style=\"display:inline;vertical-align:middle;\" /></a></td></tr>\n",
       "<tr><td>38</td><td>Literal</td><td></td><td><a class=\"ProveItLink\" href=\"../../common/31d1b89e3c2fad7d997556c69b6be6425b6f59a40/expr.ipynb\"><img src=\"../../common/31d1b89e3c2fad7d997556c69b6be6425b6f59a40/expr.png\" style=\"display:inline;vertical-align:middle;\" /></a></td></tr>\n",
       "<tr><td>39</td><td>ExprTuple</td><td>43, 44</td><td><a class=\"ProveItLink\" href=\"../../common/f481e0059e76afb461682e8b974b06de07ae4aab0/expr.ipynb\"><img src=\"../../common/f481e0059e76afb461682e8b974b06de07ae4aab0/expr.png\" style=\"display:inline;vertical-align:middle;\" /></a></td></tr>\n",
       "<tr><td>40</td><td>Lambda</td><td>parameter:&nbsp;50<br>body:&nbsp;45<br></td><td><a class=\"ProveItLink\" href=\"../../../../../core_expr_types/__pv_it/common/34593e78457548f63b0f0acc7a869d4bee5e29960/expr.ipynb\"><img src=\"../../../../../core_expr_types/__pv_it/common/34593e78457548f63b0f0acc7a869d4bee5e29960/expr.png\" style=\"display:inline;vertical-align:middle;\" /></a></td></tr>\n",
       "<tr><td>41</td><td>Literal</td><td></td><td><a class=\"ProveItLink\" href=\"../../../../numerals/__pv_it/common/d278e359da0695d9652dd541d45264f93703e2e40/expr.ipynb\"><img src=\"../../../../numerals/__pv_it/common/d278e359da0695d9652dd541d45264f93703e2e40/expr.png\" style=\"display:inline;vertical-align:middle;\" /></a></td></tr>\n",
       "<tr><td>42</td><td>Variable</td><td></td><td><a class=\"ProveItLink\" href=\"../../../../../__pv_it/common/2dc4f15b3407a25e8d70754a86bf74f1871f92650/expr.ipynb\"><img src=\"../../../../../__pv_it/common/2dc4f15b3407a25e8d70754a86bf74f1871f92650/expr.png\" style=\"display:inline;vertical-align:middle;\" /></a></td></tr>\n",
       "<tr><td>43</td><td>Variable</td><td></td><td><a class=\"ProveItLink\" href=\"../../../../../__pv_it/common/66c90e66682f107a881f2d666959f64e2e72ad750/expr.ipynb\"><img src=\"../../../../../__pv_it/common/66c90e66682f107a881f2d666959f64e2e72ad750/expr.png\" style=\"display:inline;vertical-align:middle;\" /></a></td></tr>\n",
       "<tr><td>44</td><td>IndexedVar</td><td>variable:&nbsp;47<br>index:&nbsp;49<br></td><td><a class=\"ProveItLink\" href=\"../../common/68524e586909fbe9300325bf6b8d7964431d02500/expr.ipynb\"><img src=\"../../common/68524e586909fbe9300325bf6b8d7964431d02500/expr.png\" style=\"display:inline;vertical-align:middle;\" /></a></td></tr>\n",
       "<tr><td>45</td><td>IndexedVar</td><td>variable:&nbsp;47<br>index:&nbsp;50<br></td><td><a class=\"ProveItLink\" href=\"../../../../../core_expr_types/__pv_it/common/9c21358a1b6509a7e5c268e4d9aa207495fde39b0/expr.ipynb\"><img src=\"../../../../../core_expr_types/__pv_it/common/9c21358a1b6509a7e5c268e4d9aa207495fde39b0/expr.png\" style=\"display:inline;vertical-align:middle;\" /></a></td></tr>\n",
       "<tr><td>46</td><td>ExprTuple</td><td>49</td><td><a class=\"ProveItLink\" href=\"../../common/6420c4d2520c27c1137ad22005291620057456040/expr.ipynb\"><img src=\"../../common/6420c4d2520c27c1137ad22005291620057456040/expr.png\" style=\"display:inline;vertical-align:middle;\" /></a></td></tr>\n",
       "<tr><td>47</td><td>Variable</td><td></td><td><a class=\"ProveItLink\" href=\"../../../../../__pv_it/common/b9fd37fc619babc74a6203459f110251586df6970/expr.ipynb\"><img src=\"../../../../../__pv_it/common/b9fd37fc619babc74a6203459f110251586df6970/expr.png\" style=\"display:inline;vertical-align:middle;\" /></a></td></tr>\n",
       "<tr><td>48</td><td>ExprTuple</td><td>50</td><td><a class=\"ProveItLink\" href=\"../../../../../core_expr_types/__pv_it/common/ecf50ade416ab41c42c9f4e777b4c862cd9469670/expr.ipynb\"><img src=\"../../../../../core_expr_types/__pv_it/common/ecf50ade416ab41c42c9f4e777b4c862cd9469670/expr.png\" style=\"display:inline;vertical-align:middle;\" /></a></td></tr>\n",
       "<tr><td>49</td><td>Variable</td><td></td><td><a class=\"ProveItLink\" href=\"../../../../../__pv_it/common/575a6156bb1c87c5beeaf38c302b5905ad57f5780/expr.ipynb\"><img src=\"../../../../../__pv_it/common/575a6156bb1c87c5beeaf38c302b5905ad57f5780/expr.png\" style=\"display:inline;vertical-align:middle;\" /></a></td></tr>\n",
       "<tr><td>50</td><td>Variable</td><td></td><td><a class=\"ProveItLink\" href=\"../../../../../core_expr_types/__pv_it/common/9e6d9d5d7eeb0342cf5bca68def0eb165a1a9bb10/expr.ipynb\"><img src=\"../../../../../core_expr_types/__pv_it/common/9e6d9d5d7eeb0342cf5bca68def0eb165a1a9bb10/expr.png\" style=\"display:inline;vertical-align:middle;\" /></a></td></tr>\n",
       "</table>\n"
      ],
      "text/plain": [
       "0. (m -> {forall_{a in Complex, k_{1} in NaturalPos, ..k_{_a} in NaturalPos.., k_{m} in NaturalPos} ((a^{k_{1}} * ..a^{k_{i}}.. * a^{k_{m}}) = a^{k_{1} + ..k_{_a}.. + k_{m}}) if m in NaturalPos.)\n",
       "   core type: ExprTuple\n",
       "   sub-expressions: 1\n",
       "1. m -> {forall_{a in Complex, k_{1} in NaturalPos, ..k_{_a} in NaturalPos.., k_{m} in NaturalPos} ((a^{k_{1}} * ..a^{k_{i}}.. * a^{k_{m}}) = a^{k_{1} + ..k_{_a}.. + k_{m}}) if m in NaturalPos.\n",
       "   core type: Lambda\n",
       "   parameter: 42\n",
       "   body: 2\n",
       "2. {forall_{a in Complex, k_{1} in NaturalPos, ..k_{_a} in NaturalPos.., k_{m} in NaturalPos} ((a^{k_{1}} * ..a^{k_{i}}.. * a^{k_{m}}) = a^{k_{1} + ..k_{_a}.. + k_{m}}) if m in NaturalPos.\n",
       "   core type: Conditional\n",
       "   value: 3\n",
       "   condition: 4\n",
       "3. forall_{a in Complex, k_{1} in NaturalPos, ..k_{_a} in NaturalPos.., k_{m} in NaturalPos} ((a^{k_{1}} * ..a^{k_{i}}.. * a^{k_{m}}) = a^{k_{1} + ..k_{_a}.. + k_{m}})\n",
       "   core type: Operation\n",
       "   operator: 5\n",
       "   operand: 8\n",
       "4. m in NaturalPos\n",
       "   core type: Operation\n",
       "   operator: 33\n",
       "   operands: 7\n",
       "5. forall\n",
       "   core type: Literal\n",
       "   sub-expressions: \n",
       "6. ((a, k_{1}, ..k_{_a}.., k_{m}) -> {(a^{k_{1}} * ..a^{k_{i}}.. * a^{k_{m}}) = a^{k_{1} + ..k_{_a}.. + k_{m}} if a in Complex ,  k_{1} in NaturalPos ,  ..k_{_a} in NaturalPos.. ,  k_{m} in NaturalPos.)\n",
       "   core type: ExprTuple\n",
       "   sub-expressions: 8\n",
       "7. (m, NaturalPos)\n",
       "   core type: ExprTuple\n",
       "   sub-expressions: 42, 37\n",
       "8. (a, k_{1}, ..k_{_a}.., k_{m}) -> {(a^{k_{1}} * ..a^{k_{i}}.. * a^{k_{m}}) = a^{k_{1} + ..k_{_a}.. + k_{m}} if a in Complex ,  k_{1} in NaturalPos ,  ..k_{_a} in NaturalPos.. ,  k_{m} in NaturalPos.\n",
       "   core type: Lambda\n",
       "   parameters: 9\\n   body: 10\n",
       "9. (a, k_{1}, ..k_{_a}.., k_{m})\n",
       "   core type: ExprTuple\n",
       "   sub-expressions: 43, 36\n",
       "10. {(a^{k_{1}} * ..a^{k_{i}}.. * a^{k_{m}}) = a^{k_{1} + ..k_{_a}.. + k_{m}} if a in Complex ,  k_{1} in NaturalPos ,  ..k_{_a} in NaturalPos.. ,  k_{m} in NaturalPos.\n",
       "    core type: Conditional\n",
       "    value: 11\n",
       "    condition: 12\n",
       "11. (a^{k_{1}} * ..a^{k_{i}}.. * a^{k_{m}}) = a^{k_{1} + ..k_{_a}.. + k_{m}}\n",
       "    core type: Operation\n",
       "    operator: 13\n",
       "    operands: 14\n",
       "12. (a in Complex) and (k_{1} in NaturalPos) and ..(k_{_a} in NaturalPos).. and (k_{m} in NaturalPos)\n",
       "    core type: Operation\n",
       "    operator: 15\n",
       "    operands: 16\n",
       "13. =\n",
       "    core type: Literal\n",
       "    sub-expressions: \n",
       "14. (a^{k_{1}} * ..a^{k_{i}}.. * a^{k_{m}}, a^{k_{1} + ..k_{_a}.. + k_{m}})\n",
       "    core type: ExprTuple\n",
       "    sub-expressions: 17, 18\n",
       "15. and\n",
       "    core type: Literal\n",
       "    sub-expressions: \n",
       "16. (a in Complex, k_{1} in NaturalPos, ..k_{_a} in NaturalPos.., k_{m} in NaturalPos)\n",
       "    core type: ExprTuple\n",
       "    sub-expressions: 19, 20\n",
       "17. a^{k_{1}} * ..a^{k_{i}}.. * a^{k_{m}}\n",
       "    core type: Operation\n",
       "    operator: 21\n",
       "    operands: 22\n",
       "18. a^{k_{1} + ..k_{_a}.. + k_{m}}\n",
       "    core type: Operation\n",
       "    operator: 38\n",
       "    operands: 23\n",
       "19. a in Complex\n",
       "    core type: Operation\n",
       "    operator: 33\n",
       "    operands: 24\n",
       "20. (k_{1} in NaturalPos), ..(k_{_a} in NaturalPos).., (k_{m} in NaturalPos)\n",
       "    core type: ExprRange\n",
       "    lambda_map: 25\n",
       "    start_index: 41\n",
       "    end_index: 42\n",
       "21. *\n",
       "    core type: Literal\n",
       "    sub-expressions: \n",
       "22. (a^{k_{1}}, ..a^{k_{i}}.., a^{k_{m}})\n",
       "    core type: ExprTuple\n",
       "    sub-expressions: 26\n",
       "23. (a, k_{1} + ..k_{_a}.. + k_{m})\n",
       "    core type: ExprTuple\n",
       "    sub-expressions: 43, 27\n",
       "24. (a, Complex)\n",
       "    core type: ExprTuple\n",
       "    sub-expressions: 43, 28\n",
       "25. _a -> (k_{_a} in NaturalPos)\n",
       "    core type: Lambda\n",
       "    parameter: 50\n",
       "    body: 29\n",
       "26. a^{k_{1}}, ..a^{k_{i}}.., a^{k_{m}}\n",
       "    core type: ExprRange\n",
       "    lambda_map: 30\n",
       "    start_index: 41\n",
       "    end_index: 42\n",
       "27. k_{1} + ..k_{_a}.. + k_{m}\n",
       "    core type: Operation\n",
       "    operator: 31\n",
       "    operands: 32\n",
       "28. Complex\n",
       "    core type: Literal\n",
       "    sub-expressions: \n",
       "29. k_{_a} in NaturalPos\n",
       "    core type: Operation\n",
       "    operator: 33\n",
       "    operands: 34\n",
       "30. i -> a^{k_{i}}\n",
       "    core type: Lambda\n",
       "    parameter: 49\n",
       "    body: 35\n",
       "31. +\n",
       "    core type: Literal\n",
       "    sub-expressions: \n",
       "32. (k_{1}, ..k_{_a}.., k_{m})\n",
       "    core type: ExprTuple\n",
       "    sub-expressions: 36\n",
       "33. in\n",
       "    core type: Literal\n",
       "    sub-expressions: \n",
       "34. (k_{_a}, NaturalPos)\n",
       "    core type: ExprTuple\n",
       "    sub-expressions: 45, 37\n",
       "35. a^{k_{i}}\n",
       "    core type: Operation\n",
       "    operator: 38\n",
       "    operands: 39\n",
       "36. k_{1}, ..k_{_a}.., k_{m}\n",
       "    core type: ExprRange\n",
       "    lambda_map: 40\n",
       "    start_index: 41\n",
       "    end_index: 42\n",
       "37. NaturalPos\n",
       "    core type: Literal\n",
       "    sub-expressions: \n",
       "38. Exp\n",
       "    core type: Literal\n",
       "    sub-expressions: \n",
       "39. (a, k_{i})\n",
       "    core type: ExprTuple\n",
       "    sub-expressions: 43, 44\n",
       "40. _a -> k_{_a}\n",
       "    core type: Lambda\n",
       "    parameter: 50\n",
       "    body: 45\n",
       "41. 1\n",
       "    core type: Literal\n",
       "    sub-expressions: \n",
       "42. m\n",
       "    core type: Variable\n",
       "    sub-expressions: \n",
       "43. a\n",
       "    core type: Variable\n",
       "    sub-expressions: \n",
       "44. k_{i}\n",
       "    core type: IndexedVar\n",
       "variable: 47\n",
       "index: 49\n",
       "45. k_{_a}\n",
       "    core type: IndexedVar\n",
       "variable: 47\n",
       "index: 50\n",
       "46. (i)\n",
       "    core type: ExprTuple\n",
       "    sub-expressions: 49\n",
       "47. k\n",
       "    core type: Variable\n",
       "    sub-expressions: \n",
       "48. (_a)\n",
       "    core type: ExprTuple\n",
       "    sub-expressions: 50\n",
       "49. i\n",
       "    core type: Variable\n",
       "    sub-expressions: \n",
       "50. _a\n",
       "    core type: Variable\n",
       "    sub-expressions: "
      ]
     },
     "execution_count": 6,
     "metadata": {},
     "output_type": "execute_result"
    }
   ],
   "source": [
    "# display the expression information\n",
    "expr.expr_info()"
   ]
  },
  {
   "cell_type": "code",
   "execution_count": null,
   "metadata": {},
   "outputs": [],
   "source": []
  }
 ],
 "metadata": {
  "kernelspec": {
   "display_name": "Python 3",
   "language": "python",
   "name": "python3"
  }
 },
 "nbformat": 4,
 "nbformat_minor": 0
}