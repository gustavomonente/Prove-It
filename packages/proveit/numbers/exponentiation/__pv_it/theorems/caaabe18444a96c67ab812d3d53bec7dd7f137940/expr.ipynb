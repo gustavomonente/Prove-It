{
 "cells": [
  {
   "cell_type": "markdown",
   "metadata": {},
   "source": [
    "Expression of type <a class=\"ProveItLink\" href=\"../../../../../../../doc/html/api/proveit.ExprTuple.html\">ExprTuple</a>\n",
    "=======================\n",
    "# from the theory of <a class=\"ProveItLink\" href=\"../../../_theory_nbs_/theory.ipynb\">proveit.numbers.exponentiation</a>"
   ]
  },
  {
   "cell_type": "code",
   "execution_count": 1,
   "metadata": {},
   "outputs": [],
   "source": [
    "import proveit\n",
    "# Automation is not needed when building an expression:\n",
    "proveit.defaults.automation = False # This will speed things up.\n",
    "proveit.defaults.inline_pngs = False # Makes files smaller.\n",
    "%load_expr # Load the stored expression as 'stored_expr'\n",
    "# import Expression classes needed to build the expression\n",
    "from proveit import Conditional, ExprRange, ExprTuple, IndexedVar, Lambda, Variable, a, m, n\n",
    "from proveit.core_expr_types import a_1_to_m\n",
    "from proveit.logic import And, Equals, InSet\n",
    "from proveit.numbers import Complex, Exp, Mult, one\n",
    "from proveit.numbers.exponentiation import prod_ai_raise_n__1_to_m"
   ]
  },
  {
   "cell_type": "code",
   "execution_count": 2,
   "metadata": {},
   "outputs": [
    {
     "data": {
      "text/html": [
       "<strong id=\"expr\">expr:</strong> <a class=\"ProveItLink\" href=\"expr.ipynb\"><img src=\"expr.png\" style=\"display:inline;vertical-align:middle;\" /></a><br>"
      ],
      "text/plain": [
       "expr: ((a_{1}, ..a_{_a}.., a_{m}) -> {(a_{1} * ..a_{_a}.. * a_{m})^{n} = ((a_{1})^{n} * ..(a_{i})^{n}.. * (a_{m})^{n}) if (a_{1} in Complex) and ..(a_{_a} in Complex).. and (a_{m} in Complex).)"
      ]
     },
     "execution_count": 2,
     "metadata": {},
     "output_type": "execute_result"
    }
   ],
   "source": [
    "# build up the expression from sub-expressions\n",
    "sub_expr1 = Variable(\"_a\", latex_format = r\"{_{-}a}\")\n",
    "expr = ExprTuple(Lambda([a_1_to_m], Conditional(Equals(Exp(Mult(a_1_to_m), n), prod_ai_raise_n__1_to_m), And(ExprRange(sub_expr1, InSet(IndexedVar(a, sub_expr1), Complex), one, m)))))"
   ]
  },
  {
   "cell_type": "code",
   "execution_count": 3,
   "metadata": {},
   "outputs": [
    {
     "name": "stdout",
     "output_type": "stream",
     "text": [
      "Passed sanity check: expr matches stored_expr\n"
     ]
    }
   ],
   "source": [
    "# check that the built expression is the same as the stored expression\n",
    "assert expr == stored_expr\n",
    "assert expr._style_id == stored_expr._style_id\n",
    "print(\"Passed sanity check: expr matches stored_expr\")"
   ]
  },
  {
   "cell_type": "code",
   "execution_count": 4,
   "metadata": {},
   "outputs": [
    {
     "name": "stdout",
     "output_type": "stream",
     "text": [
      "\\left(\\left(a_{1}, \\ldots, a_{m}\\right) \\mapsto \\left\\{\\left(a_{1} \\cdot \\ldots \\cdot a_{m}\\right)^{n} = \\left(\\left(a_{1}\\right)^{n} \\cdot \\ldots \\cdot \\left(a_{m}\\right)^{n}\\right) \\textrm{ if } \\left(a_{1} \\in \\mathbb{C}\\right) \\land \\ldots \\land \\left(a_{m} \\in \\mathbb{C}\\right)\\right..\\right)\n"
     ]
    }
   ],
   "source": [
    "# Show the LaTeX representation of the expression for convenience if you need it.\n",
    "print(expr.latex())"
   ]
  },
  {
   "cell_type": "code",
   "execution_count": 5,
   "metadata": {},
   "outputs": [
    {
     "data": {
      "text/html": [
       "no style options"
      ],
      "text/plain": [
       "no style options"
      ]
     },
     "execution_count": 5,
     "metadata": {},
     "output_type": "execute_result"
    }
   ],
   "source": [
    "expr.style_options()"
   ]
  },
  {
   "cell_type": "code",
   "execution_count": 6,
   "metadata": {},
   "outputs": [
    {
     "data": {
      "text/html": [
       "<table><tr><th>&nbsp;</th><th>core type</th><th>sub-expressions</th><th>expression</th></tr>\n",
       "<tr><td>0</td><td>ExprTuple</td><td>1</td><td><a class=\"ProveItLink\" href=\"expr.ipynb\"><img src=\"expr.png\" style=\"display:inline;vertical-align:middle;\" /></a></td></tr>\n",
       "<tr><td>1</td><td>Lambda</td><td>parameters:&nbsp;19<br>body:&nbsp;2<br></td><td><a class=\"ProveItLink\" href=\"../6514cf90ca79fada57836af437345a7b84c84bff0/expr.ipynb\"><img src=\"../6514cf90ca79fada57836af437345a7b84c84bff0/expr.png\" style=\"display:inline;vertical-align:middle;\" /></a></td></tr>\n",
       "<tr><td>2</td><td>Conditional</td><td>value:&nbsp;3<br>condition:&nbsp;4<br></td><td><a class=\"ProveItLink\" href=\"../c592e69387ebc2bf49337ae30d035fff3136ef920/expr.ipynb\"><img src=\"../c592e69387ebc2bf49337ae30d035fff3136ef920/expr.png\" style=\"display:inline;vertical-align:middle;\" /></a></td></tr>\n",
       "<tr><td>3</td><td>Operation</td><td>operator:&nbsp;5<br>operands:&nbsp;6<br></td><td><a class=\"ProveItLink\" href=\"../1500c87980a8599b9bd3eeba554ed17f0a50d8420/expr.ipynb\"><img src=\"../1500c87980a8599b9bd3eeba554ed17f0a50d8420/expr.png\" style=\"display:inline;vertical-align:middle;\" /></a></td></tr>\n",
       "<tr><td>4</td><td>Operation</td><td>operator:&nbsp;7<br>operands:&nbsp;8<br></td><td><a class=\"ProveItLink\" href=\"../94a3153d3588ecb81e99082eb51b52552916dcc40/expr.ipynb\"><img src=\"../94a3153d3588ecb81e99082eb51b52552916dcc40/expr.png\" style=\"display:inline;vertical-align:middle;\" /></a></td></tr>\n",
       "<tr><td>5</td><td>Literal</td><td></td><td><a class=\"ProveItLink\" href=\"../../../../../logic/equality/__pv_it/common/731dd3955b346c1320ed5c0ba7a618bcda61457d0/expr.ipynb\"><img src=\"../../../../../logic/equality/__pv_it/common/731dd3955b346c1320ed5c0ba7a618bcda61457d0/expr.png\" style=\"display:inline;vertical-align:middle;\" /></a></td></tr>\n",
       "<tr><td>6</td><td>ExprTuple</td><td>9, 10</td><td><a class=\"ProveItLink\" href=\"../a91fbce44201eb9c96b48f59f3aec200b9072d050/expr.ipynb\"><img src=\"../a91fbce44201eb9c96b48f59f3aec200b9072d050/expr.png\" style=\"display:inline;vertical-align:middle;\" /></a></td></tr>\n",
       "<tr><td>7</td><td>Literal</td><td></td><td><a class=\"ProveItLink\" href=\"../../../../../logic/booleans/conjunction/__pv_it/common/26b94b53e70b1d77b70f0d9d4236347db37731060/expr.ipynb\"><img src=\"../../../../../logic/booleans/conjunction/__pv_it/common/26b94b53e70b1d77b70f0d9d4236347db37731060/expr.png\" style=\"display:inline;vertical-align:middle;\" /></a></td></tr>\n",
       "<tr><td>8</td><td>ExprTuple</td><td>11</td><td><a class=\"ProveItLink\" href=\"../d1a187ddf483b89837113d8bd0aaa38bace0fde20/expr.ipynb\"><img src=\"../d1a187ddf483b89837113d8bd0aaa38bace0fde20/expr.png\" style=\"display:inline;vertical-align:middle;\" /></a></td></tr>\n",
       "<tr><td>9</td><td>Operation</td><td>operator:&nbsp;29<br>operands:&nbsp;12<br></td><td><a class=\"ProveItLink\" href=\"../411364a8cea5bce7f3ec621d7412b201a79172c30/expr.ipynb\"><img src=\"../411364a8cea5bce7f3ec621d7412b201a79172c30/expr.png\" style=\"display:inline;vertical-align:middle;\" /></a></td></tr>\n",
       "<tr><td>10</td><td>Operation</td><td>operator:&nbsp;18<br>operands:&nbsp;13<br></td><td><a class=\"ProveItLink\" href=\"../../common/0869fb48eea10bc1404e08dfa5585a0c9367004e0/expr.ipynb\"><img src=\"../../common/0869fb48eea10bc1404e08dfa5585a0c9367004e0/expr.png\" style=\"display:inline;vertical-align:middle;\" /></a></td></tr>\n",
       "<tr><td>11</td><td>ExprRange</td><td>lambda_map:&nbsp;14<br>start_index:&nbsp;27<br>end_index:&nbsp;28<br></td><td><a class=\"ProveItLink\" href=\"../3b914d6012c5ff9a7bb2f8dcad4364a21b79c5200/expr.ipynb\"><img src=\"../3b914d6012c5ff9a7bb2f8dcad4364a21b79c5200/expr.png\" style=\"display:inline;vertical-align:middle;\" /></a></td></tr>\n",
       "<tr><td>12</td><td>ExprTuple</td><td>15, 33</td><td><a class=\"ProveItLink\" href=\"../5e45d70ef20df06bac6e6137f1f821310d3b9ca30/expr.ipynb\"><img src=\"../5e45d70ef20df06bac6e6137f1f821310d3b9ca30/expr.png\" style=\"display:inline;vertical-align:middle;\" /></a></td></tr>\n",
       "<tr><td>13</td><td>ExprTuple</td><td>16</td><td><a class=\"ProveItLink\" href=\"../../common/0358f11116fdaba5432718160c5274560ee60f840/expr.ipynb\"><img src=\"../../common/0358f11116fdaba5432718160c5274560ee60f840/expr.png\" style=\"display:inline;vertical-align:middle;\" /></a></td></tr>\n",
       "<tr><td>14</td><td>Lambda</td><td>parameter:&nbsp;37<br>body:&nbsp;17<br></td><td><a class=\"ProveItLink\" href=\"../27e93e67a24b341093eff99ce754a280791bae3c0/expr.ipynb\"><img src=\"../27e93e67a24b341093eff99ce754a280791bae3c0/expr.png\" style=\"display:inline;vertical-align:middle;\" /></a></td></tr>\n",
       "<tr><td>15</td><td>Operation</td><td>operator:&nbsp;18<br>operands:&nbsp;19<br></td><td><a class=\"ProveItLink\" href=\"../538c555a57100dd0a9a6646e71e1c167434408700/expr.ipynb\"><img src=\"../538c555a57100dd0a9a6646e71e1c167434408700/expr.png\" style=\"display:inline;vertical-align:middle;\" /></a></td></tr>\n",
       "<tr><td>16</td><td>ExprRange</td><td>lambda_map:&nbsp;20<br>start_index:&nbsp;27<br>end_index:&nbsp;28<br></td><td><a class=\"ProveItLink\" href=\"../../common/2462ac1648fdd53b3d5b04c306e14704c492b9570/expr.ipynb\"><img src=\"../../common/2462ac1648fdd53b3d5b04c306e14704c492b9570/expr.png\" style=\"display:inline;vertical-align:middle;\" /></a></td></tr>\n",
       "<tr><td>17</td><td>Operation</td><td>operator:&nbsp;21<br>operands:&nbsp;22<br></td><td><a class=\"ProveItLink\" href=\"../2130076bc63d68a0309fd8e0d550825477dbd8360/expr.ipynb\"><img src=\"../2130076bc63d68a0309fd8e0d550825477dbd8360/expr.png\" style=\"display:inline;vertical-align:middle;\" /></a></td></tr>\n",
       "<tr><td>18</td><td>Literal</td><td></td><td><a class=\"ProveItLink\" href=\"../../../../multiplication/__pv_it/common/c57d60974865e78d434abd3ff22c405685c80ade0/expr.ipynb\"><img src=\"../../../../multiplication/__pv_it/common/c57d60974865e78d434abd3ff22c405685c80ade0/expr.png\" style=\"display:inline;vertical-align:middle;\" /></a></td></tr>\n",
       "<tr><td>19</td><td>ExprTuple</td><td>23</td><td><a class=\"ProveItLink\" href=\"../f985c77bb4ccdaf05d2534243e77c8a242efd10f0/expr.ipynb\"><img src=\"../f985c77bb4ccdaf05d2534243e77c8a242efd10f0/expr.png\" style=\"display:inline;vertical-align:middle;\" /></a></td></tr>\n",
       "<tr><td>20</td><td>Lambda</td><td>parameter:&nbsp;38<br>body:&nbsp;24<br></td><td><a class=\"ProveItLink\" href=\"../../common/b369384cfb06c52e3fdce57c6066718962d1eb880/expr.ipynb\"><img src=\"../../common/b369384cfb06c52e3fdce57c6066718962d1eb880/expr.png\" style=\"display:inline;vertical-align:middle;\" /></a></td></tr>\n",
       "<tr><td>21</td><td>Literal</td><td></td><td><a class=\"ProveItLink\" href=\"../../../../../logic/sets/membership/__pv_it/common/7171deca84f71f47a6ec7696972d1632274a12880/expr.ipynb\"><img src=\"../../../../../logic/sets/membership/__pv_it/common/7171deca84f71f47a6ec7696972d1632274a12880/expr.png\" style=\"display:inline;vertical-align:middle;\" /></a></td></tr>\n",
       "<tr><td>22</td><td>ExprTuple</td><td>31, 25</td><td><a class=\"ProveItLink\" href=\"../359244aab050266f05050a39f3eed21eef6a34090/expr.ipynb\"><img src=\"../359244aab050266f05050a39f3eed21eef6a34090/expr.png\" style=\"display:inline;vertical-align:middle;\" /></a></td></tr>\n",
       "<tr><td>23</td><td>ExprRange</td><td>lambda_map:&nbsp;26<br>start_index:&nbsp;27<br>end_index:&nbsp;28<br></td><td><a class=\"ProveItLink\" href=\"../../../../../core_expr_types/__pv_it/common/6d03a7680b874582b3f3b8ea945d11a3cdc501820/expr.ipynb\"><img src=\"../../../../../core_expr_types/__pv_it/common/6d03a7680b874582b3f3b8ea945d11a3cdc501820/expr.png\" style=\"display:inline;vertical-align:middle;\" /></a></td></tr>\n",
       "<tr><td>24</td><td>Operation</td><td>operator:&nbsp;29<br>operands:&nbsp;30<br></td><td><a class=\"ProveItLink\" href=\"../../common/076f4661b49b2b004c472437b5b0ba3b07130b4b0/expr.ipynb\"><img src=\"../../common/076f4661b49b2b004c472437b5b0ba3b07130b4b0/expr.png\" style=\"display:inline;vertical-align:middle;\" /></a></td></tr>\n",
       "<tr><td>25</td><td>Literal</td><td></td><td><a class=\"ProveItLink\" href=\"../../../../number_sets/complex_numbers/__pv_it/common/fbfabc61f6f66350b130e5a55a72b80825c065f90/expr.ipynb\"><img src=\"../../../../number_sets/complex_numbers/__pv_it/common/fbfabc61f6f66350b130e5a55a72b80825c065f90/expr.png\" style=\"display:inline;vertical-align:middle;\" /></a></td></tr>\n",
       "<tr><td>26</td><td>Lambda</td><td>parameter:&nbsp;37<br>body:&nbsp;31<br></td><td><a class=\"ProveItLink\" href=\"../../../../../core_expr_types/__pv_it/common/99ea59f1b92e70eddeee736182b1abeb9f49c91b0/expr.ipynb\"><img src=\"../../../../../core_expr_types/__pv_it/common/99ea59f1b92e70eddeee736182b1abeb9f49c91b0/expr.png\" style=\"display:inline;vertical-align:middle;\" /></a></td></tr>\n",
       "<tr><td>27</td><td>Literal</td><td></td><td><a class=\"ProveItLink\" href=\"../../../../numerals/__pv_it/common/d278e359da0695d9652dd541d45264f93703e2e40/expr.ipynb\"><img src=\"../../../../numerals/__pv_it/common/d278e359da0695d9652dd541d45264f93703e2e40/expr.png\" style=\"display:inline;vertical-align:middle;\" /></a></td></tr>\n",
       "<tr><td>28</td><td>Variable</td><td></td><td><a class=\"ProveItLink\" href=\"../../../../../__pv_it/common/2dc4f15b3407a25e8d70754a86bf74f1871f92650/expr.ipynb\"><img src=\"../../../../../__pv_it/common/2dc4f15b3407a25e8d70754a86bf74f1871f92650/expr.png\" style=\"display:inline;vertical-align:middle;\" /></a></td></tr>\n",
       "<tr><td>29</td><td>Literal</td><td></td><td><a class=\"ProveItLink\" href=\"../../common/31d1b89e3c2fad7d997556c69b6be6425b6f59a40/expr.ipynb\"><img src=\"../../common/31d1b89e3c2fad7d997556c69b6be6425b6f59a40/expr.png\" style=\"display:inline;vertical-align:middle;\" /></a></td></tr>\n",
       "<tr><td>30</td><td>ExprTuple</td><td>32, 33</td><td><a class=\"ProveItLink\" href=\"../../common/c630c921c2f2da8ded3ba430371a8122e5053a980/expr.ipynb\"><img src=\"../../common/c630c921c2f2da8ded3ba430371a8122e5053a980/expr.png\" style=\"display:inline;vertical-align:middle;\" /></a></td></tr>\n",
       "<tr><td>31</td><td>IndexedVar</td><td>variable:&nbsp;35<br>index:&nbsp;37<br></td><td><a class=\"ProveItLink\" href=\"../../../../../core_expr_types/__pv_it/common/d8d3053e77ba1db68c0cd106952422881db586670/expr.ipynb\"><img src=\"../../../../../core_expr_types/__pv_it/common/d8d3053e77ba1db68c0cd106952422881db586670/expr.png\" style=\"display:inline;vertical-align:middle;\" /></a></td></tr>\n",
       "<tr><td>32</td><td>IndexedVar</td><td>variable:&nbsp;35<br>index:&nbsp;38<br></td><td><a class=\"ProveItLink\" href=\"../../common/9583c173eac3bc09b5673cedfcc063ce8b90cc790/expr.ipynb\"><img src=\"../../common/9583c173eac3bc09b5673cedfcc063ce8b90cc790/expr.png\" style=\"display:inline;vertical-align:middle;\" /></a></td></tr>\n",
       "<tr><td>33</td><td>Variable</td><td></td><td><a class=\"ProveItLink\" href=\"../../../../../__pv_it/common/6165c9bb82ce3c7097cdba4440a1aeeb6eaca8a40/expr.ipynb\"><img src=\"../../../../../__pv_it/common/6165c9bb82ce3c7097cdba4440a1aeeb6eaca8a40/expr.png\" style=\"display:inline;vertical-align:middle;\" /></a></td></tr>\n",
       "<tr><td>34</td><td>ExprTuple</td><td>37</td><td><a class=\"ProveItLink\" href=\"../../../../../core_expr_types/__pv_it/common/ecf50ade416ab41c42c9f4e777b4c862cd9469670/expr.ipynb\"><img src=\"../../../../../core_expr_types/__pv_it/common/ecf50ade416ab41c42c9f4e777b4c862cd9469670/expr.png\" style=\"display:inline;vertical-align:middle;\" /></a></td></tr>\n",
       "<tr><td>35</td><td>Variable</td><td></td><td><a class=\"ProveItLink\" href=\"../../../../../__pv_it/common/66c90e66682f107a881f2d666959f64e2e72ad750/expr.ipynb\"><img src=\"../../../../../__pv_it/common/66c90e66682f107a881f2d666959f64e2e72ad750/expr.png\" style=\"display:inline;vertical-align:middle;\" /></a></td></tr>\n",
       "<tr><td>36</td><td>ExprTuple</td><td>38</td><td><a class=\"ProveItLink\" href=\"../../common/6420c4d2520c27c1137ad22005291620057456040/expr.ipynb\"><img src=\"../../common/6420c4d2520c27c1137ad22005291620057456040/expr.png\" style=\"display:inline;vertical-align:middle;\" /></a></td></tr>\n",
       "<tr><td>37</td><td>Variable</td><td></td><td><a class=\"ProveItLink\" href=\"../../../../../core_expr_types/__pv_it/common/9e6d9d5d7eeb0342cf5bca68def0eb165a1a9bb10/expr.ipynb\"><img src=\"../../../../../core_expr_types/__pv_it/common/9e6d9d5d7eeb0342cf5bca68def0eb165a1a9bb10/expr.png\" style=\"display:inline;vertical-align:middle;\" /></a></td></tr>\n",
       "<tr><td>38</td><td>Variable</td><td></td><td><a class=\"ProveItLink\" href=\"../../../../../__pv_it/common/575a6156bb1c87c5beeaf38c302b5905ad57f5780/expr.ipynb\"><img src=\"../../../../../__pv_it/common/575a6156bb1c87c5beeaf38c302b5905ad57f5780/expr.png\" style=\"display:inline;vertical-align:middle;\" /></a></td></tr>\n",
       "</table>\n"
      ],
      "text/plain": [
       "0. ((a_{1}, ..a_{_a}.., a_{m}) -> {(a_{1} * ..a_{_a}.. * a_{m})^{n} = ((a_{1})^{n} * ..(a_{i})^{n}.. * (a_{m})^{n}) if (a_{1} in Complex) and ..(a_{_a} in Complex).. and (a_{m} in Complex).)\n",
       "   core type: ExprTuple\n",
       "   sub-expressions: 1\n",
       "1. (a_{1}, ..a_{_a}.., a_{m}) -> {(a_{1} * ..a_{_a}.. * a_{m})^{n} = ((a_{1})^{n} * ..(a_{i})^{n}.. * (a_{m})^{n}) if (a_{1} in Complex) and ..(a_{_a} in Complex).. and (a_{m} in Complex).\n",
       "   core type: Lambda\n",
       "   parameters: 19\\n   body: 2\n",
       "2. {(a_{1} * ..a_{_a}.. * a_{m})^{n} = ((a_{1})^{n} * ..(a_{i})^{n}.. * (a_{m})^{n}) if (a_{1} in Complex) and ..(a_{_a} in Complex).. and (a_{m} in Complex).\n",
       "   core type: Conditional\n",
       "   value: 3\n",
       "   condition: 4\n",
       "3. (a_{1} * ..a_{_a}.. * a_{m})^{n} = ((a_{1})^{n} * ..(a_{i})^{n}.. * (a_{m})^{n})\n",
       "   core type: Operation\n",
       "   operator: 5\n",
       "   operands: 6\n",
       "4. (a_{1} in Complex) and ..(a_{_a} in Complex).. and (a_{m} in Complex)\n",
       "   core type: Operation\n",
       "   operator: 7\n",
       "   operands: 8\n",
       "5. =\n",
       "   core type: Literal\n",
       "   sub-expressions: \n",
       "6. ((a_{1} * ..a_{_a}.. * a_{m})^{n}, (a_{1})^{n} * ..(a_{i})^{n}.. * (a_{m})^{n})\n",
       "   core type: ExprTuple\n",
       "   sub-expressions: 9, 10\n",
       "7. and\n",
       "   core type: Literal\n",
       "   sub-expressions: \n",
       "8. (a_{1} in Complex, ..a_{_a} in Complex.., a_{m} in Complex)\n",
       "   core type: ExprTuple\n",
       "   sub-expressions: 11\n",
       "9. (a_{1} * ..a_{_a}.. * a_{m})^{n}\n",
       "   core type: Operation\n",
       "   operator: 29\n",
       "   operands: 12\n",
       "10. (a_{1})^{n} * ..(a_{i})^{n}.. * (a_{m})^{n}\n",
       "    core type: Operation\n",
       "    operator: 18\n",
       "    operands: 13\n",
       "11. (a_{1} in Complex), ..(a_{_a} in Complex).., (a_{m} in Complex)\n",
       "    core type: ExprRange\n",
       "    lambda_map: 14\n",
       "    start_index: 27\n",
       "    end_index: 28\n",
       "12. (a_{1} * ..a_{_a}.. * a_{m}, n)\n",
       "    core type: ExprTuple\n",
       "    sub-expressions: 15, 33\n",
       "13. ((a_{1})^{n}, ..(a_{i})^{n}.., (a_{m})^{n})\n",
       "    core type: ExprTuple\n",
       "    sub-expressions: 16\n",
       "14. _a -> (a_{_a} in Complex)\n",
       "    core type: Lambda\n",
       "    parameter: 37\n",
       "    body: 17\n",
       "15. a_{1} * ..a_{_a}.. * a_{m}\n",
       "    core type: Operation\n",
       "    operator: 18\n",
       "    operands: 19\n",
       "16. (a_{1})^{n}, ..(a_{i})^{n}.., (a_{m})^{n}\n",
       "    core type: ExprRange\n",
       "    lambda_map: 20\n",
       "    start_index: 27\n",
       "    end_index: 28\n",
       "17. a_{_a} in Complex\n",
       "    core type: Operation\n",
       "    operator: 21\n",
       "    operands: 22\n",
       "18. *\n",
       "    core type: Literal\n",
       "    sub-expressions: \n",
       "19. (a_{1}, ..a_{_a}.., a_{m})\n",
       "    core type: ExprTuple\n",
       "    sub-expressions: 23\n",
       "20. i -> (a_{i})^{n}\n",
       "    core type: Lambda\n",
       "    parameter: 38\n",
       "    body: 24\n",
       "21. in\n",
       "    core type: Literal\n",
       "    sub-expressions: \n",
       "22. (a_{_a}, Complex)\n",
       "    core type: ExprTuple\n",
       "    sub-expressions: 31, 25\n",
       "23. a_{1}, ..a_{_a}.., a_{m}\n",
       "    core type: ExprRange\n",
       "    lambda_map: 26\n",
       "    start_index: 27\n",
       "    end_index: 28\n",
       "24. (a_{i})^{n}\n",
       "    core type: Operation\n",
       "    operator: 29\n",
       "    operands: 30\n",
       "25. Complex\n",
       "    core type: Literal\n",
       "    sub-expressions: \n",
       "26. _a -> a_{_a}\n",
       "    core type: Lambda\n",
       "    parameter: 37\n",
       "    body: 31\n",
       "27. 1\n",
       "    core type: Literal\n",
       "    sub-expressions: \n",
       "28. m\n",
       "    core type: Variable\n",
       "    sub-expressions: \n",
       "29. Exp\n",
       "    core type: Literal\n",
       "    sub-expressions: \n",
       "30. (a_{i}, n)\n",
       "    core type: ExprTuple\n",
       "    sub-expressions: 32, 33\n",
       "31. a_{_a}\n",
       "    core type: IndexedVar\n",
       "variable: 35\n",
       "index: 37\n",
       "32. a_{i}\n",
       "    core type: IndexedVar\n",
       "variable: 35\n",
       "index: 38\n",
       "33. n\n",
       "    core type: Variable\n",
       "    sub-expressions: \n",
       "34. (_a)\n",
       "    core type: ExprTuple\n",
       "    sub-expressions: 37\n",
       "35. a\n",
       "    core type: Variable\n",
       "    sub-expressions: \n",
       "36. (i)\n",
       "    core type: ExprTuple\n",
       "    sub-expressions: 38\n",
       "37. _a\n",
       "    core type: Variable\n",
       "    sub-expressions: \n",
       "38. i\n",
       "    core type: Variable\n",
       "    sub-expressions: "
      ]
     },
     "execution_count": 6,
     "metadata": {},
     "output_type": "execute_result"
    }
   ],
   "source": [
    "# display the expression information\n",
    "expr.expr_info()"
   ]
  },
  {
   "cell_type": "code",
   "execution_count": null,
   "metadata": {},
   "outputs": [],
   "source": []
  }
 ],
 "metadata": {
  "kernelspec": {
   "display_name": "Python 3",
   "language": "python",
   "name": "python3"
  }
 },
 "nbformat": 4,
 "nbformat_minor": 0
}