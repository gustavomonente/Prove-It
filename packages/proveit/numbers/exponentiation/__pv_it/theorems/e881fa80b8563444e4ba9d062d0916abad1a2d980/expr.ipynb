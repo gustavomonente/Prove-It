{
 "cells": [
  {
   "cell_type": "markdown",
   "metadata": {},
   "source": [
    "Expression of type <a class=\"ProveItLink\" href=\"../../../../../../../doc/html/api/proveit.ExprTuple.html\">ExprTuple</a>\n",
    "=======================\n",
    "# from the theory of <a class=\"ProveItLink\" href=\"../../../_theory_nbs_/theory.ipynb\">proveit.numbers.exponentiation</a>"
   ]
  },
  {
   "cell_type": "code",
   "execution_count": 1,
   "metadata": {},
   "outputs": [],
   "source": [
    "import proveit\n",
    "# Automation is not needed when building an expression:\n",
    "proveit.defaults.automation = False # This will speed things up.\n",
    "proveit.defaults.inline_pngs = False # Makes files smaller.\n",
    "%load_expr # Load the stored expression as 'stored_expr'\n",
    "# import Expression classes needed to build the expression\n",
    "from proveit import Conditional, ExprTuple, Lambda, a, m\n",
    "from proveit.core_expr_types import b_1_to_m\n",
    "from proveit.logic import Equals, Forall, InSet\n",
    "from proveit.numbers import Add, Complex, Exp, NaturalPos, RealPos\n",
    "from proveit.numbers.exponentiation import prod_a_raise_bi__1_to_m"
   ]
  },
  {
   "cell_type": "code",
   "execution_count": 2,
   "metadata": {},
   "outputs": [
    {
     "data": {
      "text/html": [
       "<strong id=\"expr\">expr:</strong> <a class=\"ProveItLink\" href=\"expr.ipynb\"><img src=\"expr.png\" style=\"display:inline;vertical-align:middle;\" /></a><br>"
      ],
      "text/plain": [
       "expr: (m -> {forall_{a in RealPos, b_{1} in Complex, ..b_{_a} in Complex.., b_{m} in Complex} ((a^{b_{1}} * ..a^{b_{i}}.. * a^{b_{m}}) = a^{b_{1} + ..b_{_a}.. + b_{m}}) if m in NaturalPos.)"
      ]
     },
     "execution_count": 2,
     "metadata": {},
     "output_type": "execute_result"
    }
   ],
   "source": [
    "# build up the expression from sub-expressions\n",
    "expr = ExprTuple(Lambda(m, Conditional(Forall([a, b_1_to_m], Equals(prod_a_raise_bi__1_to_m, Exp(a, Add(b_1_to_m))), domains = [RealPos, Complex]), InSet(m, NaturalPos))))"
   ]
  },
  {
   "cell_type": "code",
   "execution_count": 3,
   "metadata": {},
   "outputs": [
    {
     "name": "stdout",
     "output_type": "stream",
     "text": [
      "Passed sanity check: expr matches stored_expr\n"
     ]
    }
   ],
   "source": [
    "# check that the built expression is the same as the stored expression\n",
    "assert expr == stored_expr\n",
    "assert expr._style_id == stored_expr._style_id\n",
    "print(\"Passed sanity check: expr matches stored_expr\")"
   ]
  },
  {
   "cell_type": "code",
   "execution_count": 4,
   "metadata": {},
   "outputs": [
    {
     "name": "stdout",
     "output_type": "stream",
     "text": [
      "\\left(m \\mapsto \\left\\{\\forall_{a \\in \\mathbb{R}^+, b_{1} \\in \\mathbb{C}, \\ldots, b_{m} \\in \\mathbb{C}}~\\left(\\left(a^{b_{1}} \\cdot \\ldots \\cdot a^{b_{m}}\\right) = a^{b_{1} + \\ldots + b_{m}}\\right) \\textrm{ if } m \\in \\mathbb{N}^+\\right..\\right)\n"
     ]
    }
   ],
   "source": [
    "# Show the LaTeX representation of the expression for convenience if you need it.\n",
    "print(expr.latex())"
   ]
  },
  {
   "cell_type": "code",
   "execution_count": 5,
   "metadata": {},
   "outputs": [
    {
     "data": {
      "text/html": [
       "no style options"
      ],
      "text/plain": [
       "no style options"
      ]
     },
     "execution_count": 5,
     "metadata": {},
     "output_type": "execute_result"
    }
   ],
   "source": [
    "expr.style_options()"
   ]
  },
  {
   "cell_type": "code",
   "execution_count": 6,
   "metadata": {},
   "outputs": [
    {
     "data": {
      "text/html": [
       "<table><tr><th>&nbsp;</th><th>core type</th><th>sub-expressions</th><th>expression</th></tr>\n",
       "<tr><td>0</td><td>ExprTuple</td><td>1</td><td><a class=\"ProveItLink\" href=\"expr.ipynb\"><img src=\"expr.png\" style=\"display:inline;vertical-align:middle;\" /></a></td></tr>\n",
       "<tr><td>1</td><td>Lambda</td><td>parameter:&nbsp;43<br>body:&nbsp;2<br></td><td><a class=\"ProveItLink\" href=\"../e809882e89240dc5d2a737fece8cfd4627cabe1c0/expr.ipynb\"><img src=\"../e809882e89240dc5d2a737fece8cfd4627cabe1c0/expr.png\" style=\"display:inline;vertical-align:middle;\" /></a></td></tr>\n",
       "<tr><td>2</td><td>Conditional</td><td>value:&nbsp;3<br>condition:&nbsp;4<br></td><td><a class=\"ProveItLink\" href=\"../bb7d058c89313d85b0e62a783f5eb7db885313650/expr.ipynb\"><img src=\"../bb7d058c89313d85b0e62a783f5eb7db885313650/expr.png\" style=\"display:inline;vertical-align:middle;\" /></a></td></tr>\n",
       "<tr><td>3</td><td>Operation</td><td>operator:&nbsp;5<br>operand:&nbsp;8<br></td><td><a class=\"ProveItLink\" href=\"../52355d8121648f8bb9a431116e0039bd200215d00/expr.ipynb\"><img src=\"../52355d8121648f8bb9a431116e0039bd200215d00/expr.png\" style=\"display:inline;vertical-align:middle;\" /></a></td></tr>\n",
       "<tr><td>4</td><td>Operation</td><td>operator:&nbsp;34<br>operands:&nbsp;7<br></td><td><a class=\"ProveItLink\" href=\"../6b3ff92246828fbfb97988abc8ee79a02ac1c4480/expr.ipynb\"><img src=\"../6b3ff92246828fbfb97988abc8ee79a02ac1c4480/expr.png\" style=\"display:inline;vertical-align:middle;\" /></a></td></tr>\n",
       "<tr><td>5</td><td>Literal</td><td></td><td><a class=\"ProveItLink\" href=\"../../../../../logic/booleans/quantification/universality/__pv_it/common/684d35ba98fcbf8ca5011f865e530a51e77730630/expr.ipynb\"><img src=\"../../../../../logic/booleans/quantification/universality/__pv_it/common/684d35ba98fcbf8ca5011f865e530a51e77730630/expr.png\" style=\"display:inline;vertical-align:middle;\" /></a></td></tr>\n",
       "<tr><td>6</td><td>ExprTuple</td><td>8</td><td><a class=\"ProveItLink\" href=\"../3cd23c61d202b48b9b729be3557683f2c084db860/expr.ipynb\"><img src=\"../3cd23c61d202b48b9b729be3557683f2c084db860/expr.png\" style=\"display:inline;vertical-align:middle;\" /></a></td></tr>\n",
       "<tr><td>7</td><td>ExprTuple</td><td>43, 9</td><td><a class=\"ProveItLink\" href=\"../dc63af1f664b017213ea5b3c44c17f5f20a0cd780/expr.ipynb\"><img src=\"../dc63af1f664b017213ea5b3c44c17f5f20a0cd780/expr.png\" style=\"display:inline;vertical-align:middle;\" /></a></td></tr>\n",
       "<tr><td>8</td><td>Lambda</td><td>parameters:&nbsp;10<br>body:&nbsp;11<br></td><td><a class=\"ProveItLink\" href=\"../3a3eabdf4bbb7c0084df98b6b3201ae64ef40be10/expr.ipynb\"><img src=\"../3a3eabdf4bbb7c0084df98b6b3201ae64ef40be10/expr.png\" style=\"display:inline;vertical-align:middle;\" /></a></td></tr>\n",
       "<tr><td>9</td><td>Literal</td><td></td><td><a class=\"ProveItLink\" href=\"../../../../number_sets/natural_numbers/__pv_it/common/a2a7252783c385c028dad802e97575c19e456b990/expr.ipynb\"><img src=\"../../../../number_sets/natural_numbers/__pv_it/common/a2a7252783c385c028dad802e97575c19e456b990/expr.png\" style=\"display:inline;vertical-align:middle;\" /></a></td></tr>\n",
       "<tr><td>10</td><td>ExprTuple</td><td>44, 37</td><td><a class=\"ProveItLink\" href=\"../744dd493c324531a3a397ad4ff367a0ad31a1ee20/expr.ipynb\"><img src=\"../744dd493c324531a3a397ad4ff367a0ad31a1ee20/expr.png\" style=\"display:inline;vertical-align:middle;\" /></a></td></tr>\n",
       "<tr><td>11</td><td>Conditional</td><td>value:&nbsp;12<br>condition:&nbsp;13<br></td><td><a class=\"ProveItLink\" href=\"../22a46d0122e8b00f295e3200d2a91ff1f24d79d80/expr.ipynb\"><img src=\"../22a46d0122e8b00f295e3200d2a91ff1f24d79d80/expr.png\" style=\"display:inline;vertical-align:middle;\" /></a></td></tr>\n",
       "<tr><td>12</td><td>Operation</td><td>operator:&nbsp;14<br>operands:&nbsp;15<br></td><td><a class=\"ProveItLink\" href=\"../5457d3cf585e8559f2b084f632d2d9d719e91d840/expr.ipynb\"><img src=\"../5457d3cf585e8559f2b084f632d2d9d719e91d840/expr.png\" style=\"display:inline;vertical-align:middle;\" /></a></td></tr>\n",
       "<tr><td>13</td><td>Operation</td><td>operator:&nbsp;16<br>operands:&nbsp;17<br></td><td><a class=\"ProveItLink\" href=\"../be3f82d0ee2e96a4571824f0d24c3c883eb8aa140/expr.ipynb\"><img src=\"../be3f82d0ee2e96a4571824f0d24c3c883eb8aa140/expr.png\" style=\"display:inline;vertical-align:middle;\" /></a></td></tr>\n",
       "<tr><td>14</td><td>Literal</td><td></td><td><a class=\"ProveItLink\" href=\"../../../../../logic/equality/__pv_it/common/731dd3955b346c1320ed5c0ba7a618bcda61457d0/expr.ipynb\"><img src=\"../../../../../logic/equality/__pv_it/common/731dd3955b346c1320ed5c0ba7a618bcda61457d0/expr.png\" style=\"display:inline;vertical-align:middle;\" /></a></td></tr>\n",
       "<tr><td>15</td><td>ExprTuple</td><td>18, 19</td><td><a class=\"ProveItLink\" href=\"../f1597baa32b91b7f0581fb12bead6f30b3bb74470/expr.ipynb\"><img src=\"../f1597baa32b91b7f0581fb12bead6f30b3bb74470/expr.png\" style=\"display:inline;vertical-align:middle;\" /></a></td></tr>\n",
       "<tr><td>16</td><td>Literal</td><td></td><td><a class=\"ProveItLink\" href=\"../../../../../logic/booleans/conjunction/__pv_it/common/26b94b53e70b1d77b70f0d9d4236347db37731060/expr.ipynb\"><img src=\"../../../../../logic/booleans/conjunction/__pv_it/common/26b94b53e70b1d77b70f0d9d4236347db37731060/expr.png\" style=\"display:inline;vertical-align:middle;\" /></a></td></tr>\n",
       "<tr><td>17</td><td>ExprTuple</td><td>20, 21</td><td><a class=\"ProveItLink\" href=\"../893dcec4df40faa47dba9e34bc63a7ca26249d600/expr.ipynb\"><img src=\"../893dcec4df40faa47dba9e34bc63a7ca26249d600/expr.png\" style=\"display:inline;vertical-align:middle;\" /></a></td></tr>\n",
       "<tr><td>18</td><td>Operation</td><td>operator:&nbsp;22<br>operands:&nbsp;23<br></td><td><a class=\"ProveItLink\" href=\"../../common/6429abda1f29b36e0749da6dbaef084597b0004f0/expr.ipynb\"><img src=\"../../common/6429abda1f29b36e0749da6dbaef084597b0004f0/expr.png\" style=\"display:inline;vertical-align:middle;\" /></a></td></tr>\n",
       "<tr><td>19</td><td>Operation</td><td>operator:&nbsp;39<br>operands:&nbsp;24<br></td><td><a class=\"ProveItLink\" href=\"../c1d03bf3eebdd8eee8ba6d27357a2611edce9e550/expr.ipynb\"><img src=\"../c1d03bf3eebdd8eee8ba6d27357a2611edce9e550/expr.png\" style=\"display:inline;vertical-align:middle;\" /></a></td></tr>\n",
       "<tr><td>20</td><td>Operation</td><td>operator:&nbsp;34<br>operands:&nbsp;25<br></td><td><a class=\"ProveItLink\" href=\"../27ae321bbbcf91673b839d119d0d2259983cf9420/expr.ipynb\"><img src=\"../27ae321bbbcf91673b839d119d0d2259983cf9420/expr.png\" style=\"display:inline;vertical-align:middle;\" /></a></td></tr>\n",
       "<tr><td>21</td><td>ExprRange</td><td>lambda_map:&nbsp;26<br>start_index:&nbsp;42<br>end_index:&nbsp;43<br></td><td><a class=\"ProveItLink\" href=\"../1e500fa4f61b93083a0f628048a63665526f44270/expr.ipynb\"><img src=\"../1e500fa4f61b93083a0f628048a63665526f44270/expr.png\" style=\"display:inline;vertical-align:middle;\" /></a></td></tr>\n",
       "<tr><td>22</td><td>Literal</td><td></td><td><a class=\"ProveItLink\" href=\"../../../../multiplication/__pv_it/common/c57d60974865e78d434abd3ff22c405685c80ade0/expr.ipynb\"><img src=\"../../../../multiplication/__pv_it/common/c57d60974865e78d434abd3ff22c405685c80ade0/expr.png\" style=\"display:inline;vertical-align:middle;\" /></a></td></tr>\n",
       "<tr><td>23</td><td>ExprTuple</td><td>27</td><td><a class=\"ProveItLink\" href=\"../../common/e8d2520882397ea4f74b0cc9a7cadcf3923669f10/expr.ipynb\"><img src=\"../../common/e8d2520882397ea4f74b0cc9a7cadcf3923669f10/expr.png\" style=\"display:inline;vertical-align:middle;\" /></a></td></tr>\n",
       "<tr><td>24</td><td>ExprTuple</td><td>44, 28</td><td><a class=\"ProveItLink\" href=\"../e6d7de2f988630ef6f3324bda7f5a57cc986b4250/expr.ipynb\"><img src=\"../e6d7de2f988630ef6f3324bda7f5a57cc986b4250/expr.png\" style=\"display:inline;vertical-align:middle;\" /></a></td></tr>\n",
       "<tr><td>25</td><td>ExprTuple</td><td>44, 29</td><td><a class=\"ProveItLink\" href=\"../9c2b6423016c22b0b9ff1a3419d81c18b7a4dff30/expr.ipynb\"><img src=\"../9c2b6423016c22b0b9ff1a3419d81c18b7a4dff30/expr.png\" style=\"display:inline;vertical-align:middle;\" /></a></td></tr>\n",
       "<tr><td>26</td><td>Lambda</td><td>parameter:&nbsp;51<br>body:&nbsp;30<br></td><td><a class=\"ProveItLink\" href=\"../3c75702e5bc3a278c341235bef5140e8e1e495340/expr.ipynb\"><img src=\"../3c75702e5bc3a278c341235bef5140e8e1e495340/expr.png\" style=\"display:inline;vertical-align:middle;\" /></a></td></tr>\n",
       "<tr><td>27</td><td>ExprRange</td><td>lambda_map:&nbsp;31<br>start_index:&nbsp;42<br>end_index:&nbsp;43<br></td><td><a class=\"ProveItLink\" href=\"../../common/28d9f141773e6d031d7cc0dfccde9056fa154e5f0/expr.ipynb\"><img src=\"../../common/28d9f141773e6d031d7cc0dfccde9056fa154e5f0/expr.png\" style=\"display:inline;vertical-align:middle;\" /></a></td></tr>\n",
       "<tr><td>28</td><td>Operation</td><td>operator:&nbsp;32<br>operands:&nbsp;33<br></td><td><a class=\"ProveItLink\" href=\"../839d99759639be698f3706d9347b75df177e97d60/expr.ipynb\"><img src=\"../839d99759639be698f3706d9347b75df177e97d60/expr.png\" style=\"display:inline;vertical-align:middle;\" /></a></td></tr>\n",
       "<tr><td>29</td><td>Literal</td><td></td><td><a class=\"ProveItLink\" href=\"../../../../number_sets/real_numbers/__pv_it/common/8c67355f38838cbd6b40f3876e11d664940344be0/expr.ipynb\"><img src=\"../../../../number_sets/real_numbers/__pv_it/common/8c67355f38838cbd6b40f3876e11d664940344be0/expr.png\" style=\"display:inline;vertical-align:middle;\" /></a></td></tr>\n",
       "<tr><td>30</td><td>Operation</td><td>operator:&nbsp;34<br>operands:&nbsp;35<br></td><td><a class=\"ProveItLink\" href=\"../dadcf8a6c06450247723919ea148f5c5ce9fbde90/expr.ipynb\"><img src=\"../dadcf8a6c06450247723919ea148f5c5ce9fbde90/expr.png\" style=\"display:inline;vertical-align:middle;\" /></a></td></tr>\n",
       "<tr><td>31</td><td>Lambda</td><td>parameter:&nbsp;50<br>body:&nbsp;36<br></td><td><a class=\"ProveItLink\" href=\"../../common/f34fba8e94496fcb5bd2d02d35c9c1559ca063840/expr.ipynb\"><img src=\"../../common/f34fba8e94496fcb5bd2d02d35c9c1559ca063840/expr.png\" style=\"display:inline;vertical-align:middle;\" /></a></td></tr>\n",
       "<tr><td>32</td><td>Literal</td><td></td><td><a class=\"ProveItLink\" href=\"../../../../addition/__pv_it/common/1f38fe5cce441387feef296e2c0a2eac260bb4f30/expr.ipynb\"><img src=\"../../../../addition/__pv_it/common/1f38fe5cce441387feef296e2c0a2eac260bb4f30/expr.png\" style=\"display:inline;vertical-align:middle;\" /></a></td></tr>\n",
       "<tr><td>33</td><td>ExprTuple</td><td>37</td><td><a class=\"ProveItLink\" href=\"../0653bb3f86f53b5ba9279badd2aa575cf57394310/expr.ipynb\"><img src=\"../0653bb3f86f53b5ba9279badd2aa575cf57394310/expr.png\" style=\"display:inline;vertical-align:middle;\" /></a></td></tr>\n",
       "<tr><td>34</td><td>Literal</td><td></td><td><a class=\"ProveItLink\" href=\"../../../../../logic/sets/membership/__pv_it/common/7171deca84f71f47a6ec7696972d1632274a12880/expr.ipynb\"><img src=\"../../../../../logic/sets/membership/__pv_it/common/7171deca84f71f47a6ec7696972d1632274a12880/expr.png\" style=\"display:inline;vertical-align:middle;\" /></a></td></tr>\n",
       "<tr><td>35</td><td>ExprTuple</td><td>46, 38</td><td><a class=\"ProveItLink\" href=\"../c74b582b59a17295af3fd973d45b1ad847d092dc0/expr.ipynb\"><img src=\"../c74b582b59a17295af3fd973d45b1ad847d092dc0/expr.png\" style=\"display:inline;vertical-align:middle;\" /></a></td></tr>\n",
       "<tr><td>36</td><td>Operation</td><td>operator:&nbsp;39<br>operands:&nbsp;40<br></td><td><a class=\"ProveItLink\" href=\"../../common/aed2ac5042e0728c7031fca486052ece7b1e54df0/expr.ipynb\"><img src=\"../../common/aed2ac5042e0728c7031fca486052ece7b1e54df0/expr.png\" style=\"display:inline;vertical-align:middle;\" /></a></td></tr>\n",
       "<tr><td>37</td><td>ExprRange</td><td>lambda_map:&nbsp;41<br>start_index:&nbsp;42<br>end_index:&nbsp;43<br></td><td><a class=\"ProveItLink\" href=\"../../../../../core_expr_types/__pv_it/common/873eeaf13612aa9dd5c6560f2a09748a92c060cf0/expr.ipynb\"><img src=\"../../../../../core_expr_types/__pv_it/common/873eeaf13612aa9dd5c6560f2a09748a92c060cf0/expr.png\" style=\"display:inline;vertical-align:middle;\" /></a></td></tr>\n",
       "<tr><td>38</td><td>Literal</td><td></td><td><a class=\"ProveItLink\" href=\"../../../../number_sets/complex_numbers/__pv_it/common/fbfabc61f6f66350b130e5a55a72b80825c065f90/expr.ipynb\"><img src=\"../../../../number_sets/complex_numbers/__pv_it/common/fbfabc61f6f66350b130e5a55a72b80825c065f90/expr.png\" style=\"display:inline;vertical-align:middle;\" /></a></td></tr>\n",
       "<tr><td>39</td><td>Literal</td><td></td><td><a class=\"ProveItLink\" href=\"../../common/31d1b89e3c2fad7d997556c69b6be6425b6f59a40/expr.ipynb\"><img src=\"../../common/31d1b89e3c2fad7d997556c69b6be6425b6f59a40/expr.png\" style=\"display:inline;vertical-align:middle;\" /></a></td></tr>\n",
       "<tr><td>40</td><td>ExprTuple</td><td>44, 45</td><td><a class=\"ProveItLink\" href=\"../../common/4fb857147422909f1dbf153e65e705ddbeb2ef210/expr.ipynb\"><img src=\"../../common/4fb857147422909f1dbf153e65e705ddbeb2ef210/expr.png\" style=\"display:inline;vertical-align:middle;\" /></a></td></tr>\n",
       "<tr><td>41</td><td>Lambda</td><td>parameter:&nbsp;51<br>body:&nbsp;46<br></td><td><a class=\"ProveItLink\" href=\"../../../../../core_expr_types/__pv_it/common/ba19487284205e8bd037599d68730451639874da0/expr.ipynb\"><img src=\"../../../../../core_expr_types/__pv_it/common/ba19487284205e8bd037599d68730451639874da0/expr.png\" style=\"display:inline;vertical-align:middle;\" /></a></td></tr>\n",
       "<tr><td>42</td><td>Literal</td><td></td><td><a class=\"ProveItLink\" href=\"../../../../numerals/__pv_it/common/d278e359da0695d9652dd541d45264f93703e2e40/expr.ipynb\"><img src=\"../../../../numerals/__pv_it/common/d278e359da0695d9652dd541d45264f93703e2e40/expr.png\" style=\"display:inline;vertical-align:middle;\" /></a></td></tr>\n",
       "<tr><td>43</td><td>Variable</td><td></td><td><a class=\"ProveItLink\" href=\"../../../../../__pv_it/common/2dc4f15b3407a25e8d70754a86bf74f1871f92650/expr.ipynb\"><img src=\"../../../../../__pv_it/common/2dc4f15b3407a25e8d70754a86bf74f1871f92650/expr.png\" style=\"display:inline;vertical-align:middle;\" /></a></td></tr>\n",
       "<tr><td>44</td><td>Variable</td><td></td><td><a class=\"ProveItLink\" href=\"../../../../../__pv_it/common/66c90e66682f107a881f2d666959f64e2e72ad750/expr.ipynb\"><img src=\"../../../../../__pv_it/common/66c90e66682f107a881f2d666959f64e2e72ad750/expr.png\" style=\"display:inline;vertical-align:middle;\" /></a></td></tr>\n",
       "<tr><td>45</td><td>IndexedVar</td><td>variable:&nbsp;48<br>index:&nbsp;50<br></td><td><a class=\"ProveItLink\" href=\"../../common/e35d04708cb197c28c155a62bc3d2747705781ed0/expr.ipynb\"><img src=\"../../common/e35d04708cb197c28c155a62bc3d2747705781ed0/expr.png\" style=\"display:inline;vertical-align:middle;\" /></a></td></tr>\n",
       "<tr><td>46</td><td>IndexedVar</td><td>variable:&nbsp;48<br>index:&nbsp;51<br></td><td><a class=\"ProveItLink\" href=\"../../../../../core_expr_types/__pv_it/common/d970eb18e3a42edf466b1db01e5cbdd3ba6971b60/expr.ipynb\"><img src=\"../../../../../core_expr_types/__pv_it/common/d970eb18e3a42edf466b1db01e5cbdd3ba6971b60/expr.png\" style=\"display:inline;vertical-align:middle;\" /></a></td></tr>\n",
       "<tr><td>47</td><td>ExprTuple</td><td>50</td><td><a class=\"ProveItLink\" href=\"../../common/6420c4d2520c27c1137ad22005291620057456040/expr.ipynb\"><img src=\"../../common/6420c4d2520c27c1137ad22005291620057456040/expr.png\" style=\"display:inline;vertical-align:middle;\" /></a></td></tr>\n",
       "<tr><td>48</td><td>Variable</td><td></td><td><a class=\"ProveItLink\" href=\"../../../../../__pv_it/common/4a5db8cc5c67969ec864bd3ea598be37cb6f5e550/expr.ipynb\"><img src=\"../../../../../__pv_it/common/4a5db8cc5c67969ec864bd3ea598be37cb6f5e550/expr.png\" style=\"display:inline;vertical-align:middle;\" /></a></td></tr>\n",
       "<tr><td>49</td><td>ExprTuple</td><td>51</td><td><a class=\"ProveItLink\" href=\"../../../../../core_expr_types/__pv_it/common/ecf50ade416ab41c42c9f4e777b4c862cd9469670/expr.ipynb\"><img src=\"../../../../../core_expr_types/__pv_it/common/ecf50ade416ab41c42c9f4e777b4c862cd9469670/expr.png\" style=\"display:inline;vertical-align:middle;\" /></a></td></tr>\n",
       "<tr><td>50</td><td>Variable</td><td></td><td><a class=\"ProveItLink\" href=\"../../../../../__pv_it/common/575a6156bb1c87c5beeaf38c302b5905ad57f5780/expr.ipynb\"><img src=\"../../../../../__pv_it/common/575a6156bb1c87c5beeaf38c302b5905ad57f5780/expr.png\" style=\"display:inline;vertical-align:middle;\" /></a></td></tr>\n",
       "<tr><td>51</td><td>Variable</td><td></td><td><a class=\"ProveItLink\" href=\"../../../../../core_expr_types/__pv_it/common/9e6d9d5d7eeb0342cf5bca68def0eb165a1a9bb10/expr.ipynb\"><img src=\"../../../../../core_expr_types/__pv_it/common/9e6d9d5d7eeb0342cf5bca68def0eb165a1a9bb10/expr.png\" style=\"display:inline;vertical-align:middle;\" /></a></td></tr>\n",
       "</table>\n"
      ],
      "text/plain": [
       "0. (m -> {forall_{a in RealPos, b_{1} in Complex, ..b_{_a} in Complex.., b_{m} in Complex} ((a^{b_{1}} * ..a^{b_{i}}.. * a^{b_{m}}) = a^{b_{1} + ..b_{_a}.. + b_{m}}) if m in NaturalPos.)\n",
       "   core type: ExprTuple\n",
       "   sub-expressions: 1\n",
       "1. m -> {forall_{a in RealPos, b_{1} in Complex, ..b_{_a} in Complex.., b_{m} in Complex} ((a^{b_{1}} * ..a^{b_{i}}.. * a^{b_{m}}) = a^{b_{1} + ..b_{_a}.. + b_{m}}) if m in NaturalPos.\n",
       "   core type: Lambda\n",
       "   parameter: 43\n",
       "   body: 2\n",
       "2. {forall_{a in RealPos, b_{1} in Complex, ..b_{_a} in Complex.., b_{m} in Complex} ((a^{b_{1}} * ..a^{b_{i}}.. * a^{b_{m}}) = a^{b_{1} + ..b_{_a}.. + b_{m}}) if m in NaturalPos.\n",
       "   core type: Conditional\n",
       "   value: 3\n",
       "   condition: 4\n",
       "3. forall_{a in RealPos, b_{1} in Complex, ..b_{_a} in Complex.., b_{m} in Complex} ((a^{b_{1}} * ..a^{b_{i}}.. * a^{b_{m}}) = a^{b_{1} + ..b_{_a}.. + b_{m}})\n",
       "   core type: Operation\n",
       "   operator: 5\n",
       "   operand: 8\n",
       "4. m in NaturalPos\n",
       "   core type: Operation\n",
       "   operator: 34\n",
       "   operands: 7\n",
       "5. forall\n",
       "   core type: Literal\n",
       "   sub-expressions: \n",
       "6. ((a, b_{1}, ..b_{_a}.., b_{m}) -> {(a^{b_{1}} * ..a^{b_{i}}.. * a^{b_{m}}) = a^{b_{1} + ..b_{_a}.. + b_{m}} if a in RealPos ,  b_{1} in Complex ,  ..b_{_a} in Complex.. ,  b_{m} in Complex.)\n",
       "   core type: ExprTuple\n",
       "   sub-expressions: 8\n",
       "7. (m, NaturalPos)\n",
       "   core type: ExprTuple\n",
       "   sub-expressions: 43, 9\n",
       "8. (a, b_{1}, ..b_{_a}.., b_{m}) -> {(a^{b_{1}} * ..a^{b_{i}}.. * a^{b_{m}}) = a^{b_{1} + ..b_{_a}.. + b_{m}} if a in RealPos ,  b_{1} in Complex ,  ..b_{_a} in Complex.. ,  b_{m} in Complex.\n",
       "   core type: Lambda\n",
       "   parameters: 10\\n   body: 11\n",
       "9. NaturalPos\n",
       "   core type: Literal\n",
       "   sub-expressions: \n",
       "10. (a, b_{1}, ..b_{_a}.., b_{m})\n",
       "    core type: ExprTuple\n",
       "    sub-expressions: 44, 37\n",
       "11. {(a^{b_{1}} * ..a^{b_{i}}.. * a^{b_{m}}) = a^{b_{1} + ..b_{_a}.. + b_{m}} if a in RealPos ,  b_{1} in Complex ,  ..b_{_a} in Complex.. ,  b_{m} in Complex.\n",
       "    core type: Conditional\n",
       "    value: 12\n",
       "    condition: 13\n",
       "12. (a^{b_{1}} * ..a^{b_{i}}.. * a^{b_{m}}) = a^{b_{1} + ..b_{_a}.. + b_{m}}\n",
       "    core type: Operation\n",
       "    operator: 14\n",
       "    operands: 15\n",
       "13. (a in RealPos) and (b_{1} in Complex) and ..(b_{_a} in Complex).. and (b_{m} in Complex)\n",
       "    core type: Operation\n",
       "    operator: 16\n",
       "    operands: 17\n",
       "14. =\n",
       "    core type: Literal\n",
       "    sub-expressions: \n",
       "15. (a^{b_{1}} * ..a^{b_{i}}.. * a^{b_{m}}, a^{b_{1} + ..b_{_a}.. + b_{m}})\n",
       "    core type: ExprTuple\n",
       "    sub-expressions: 18, 19\n",
       "16. and\n",
       "    core type: Literal\n",
       "    sub-expressions: \n",
       "17. (a in RealPos, b_{1} in Complex, ..b_{_a} in Complex.., b_{m} in Complex)\n",
       "    core type: ExprTuple\n",
       "    sub-expressions: 20, 21\n",
       "18. a^{b_{1}} * ..a^{b_{i}}.. * a^{b_{m}}\n",
       "    core type: Operation\n",
       "    operator: 22\n",
       "    operands: 23\n",
       "19. a^{b_{1} + ..b_{_a}.. + b_{m}}\n",
       "    core type: Operation\n",
       "    operator: 39\n",
       "    operands: 24\n",
       "20. a in RealPos\n",
       "    core type: Operation\n",
       "    operator: 34\n",
       "    operands: 25\n",
       "21. (b_{1} in Complex), ..(b_{_a} in Complex).., (b_{m} in Complex)\n",
       "    core type: ExprRange\n",
       "    lambda_map: 26\n",
       "    start_index: 42\n",
       "    end_index: 43\n",
       "22. *\n",
       "    core type: Literal\n",
       "    sub-expressions: \n",
       "23. (a^{b_{1}}, ..a^{b_{i}}.., a^{b_{m}})\n",
       "    core type: ExprTuple\n",
       "    sub-expressions: 27\n",
       "24. (a, b_{1} + ..b_{_a}.. + b_{m})\n",
       "    core type: ExprTuple\n",
       "    sub-expressions: 44, 28\n",
       "25. (a, RealPos)\n",
       "    core type: ExprTuple\n",
       "    sub-expressions: 44, 29\n",
       "26. _a -> (b_{_a} in Complex)\n",
       "    core type: Lambda\n",
       "    parameter: 51\n",
       "    body: 30\n",
       "27. a^{b_{1}}, ..a^{b_{i}}.., a^{b_{m}}\n",
       "    core type: ExprRange\n",
       "    lambda_map: 31\n",
       "    start_index: 42\n",
       "    end_index: 43\n",
       "28. b_{1} + ..b_{_a}.. + b_{m}\n",
       "    core type: Operation\n",
       "    operator: 32\n",
       "    operands: 33\n",
       "29. RealPos\n",
       "    core type: Literal\n",
       "    sub-expressions: \n",
       "30. b_{_a} in Complex\n",
       "    core type: Operation\n",
       "    operator: 34\n",
       "    operands: 35\n",
       "31. i -> a^{b_{i}}\n",
       "    core type: Lambda\n",
       "    parameter: 50\n",
       "    body: 36\n",
       "32. +\n",
       "    core type: Literal\n",
       "    sub-expressions: \n",
       "33. (b_{1}, ..b_{_a}.., b_{m})\n",
       "    core type: ExprTuple\n",
       "    sub-expressions: 37\n",
       "34. in\n",
       "    core type: Literal\n",
       "    sub-expressions: \n",
       "35. (b_{_a}, Complex)\n",
       "    core type: ExprTuple\n",
       "    sub-expressions: 46, 38\n",
       "36. a^{b_{i}}\n",
       "    core type: Operation\n",
       "    operator: 39\n",
       "    operands: 40\n",
       "37. b_{1}, ..b_{_a}.., b_{m}\n",
       "    core type: ExprRange\n",
       "    lambda_map: 41\n",
       "    start_index: 42\n",
       "    end_index: 43\n",
       "38. Complex\n",
       "    core type: Literal\n",
       "    sub-expressions: \n",
       "39. Exp\n",
       "    core type: Literal\n",
       "    sub-expressions: \n",
       "40. (a, b_{i})\n",
       "    core type: ExprTuple\n",
       "    sub-expressions: 44, 45\n",
       "41. _a -> b_{_a}\n",
       "    core type: Lambda\n",
       "    parameter: 51\n",
       "    body: 46\n",
       "42. 1\n",
       "    core type: Literal\n",
       "    sub-expressions: \n",
       "43. m\n",
       "    core type: Variable\n",
       "    sub-expressions: \n",
       "44. a\n",
       "    core type: Variable\n",
       "    sub-expressions: \n",
       "45. b_{i}\n",
       "    core type: IndexedVar\n",
       "variable: 48\n",
       "index: 50\n",
       "46. b_{_a}\n",
       "    core type: IndexedVar\n",
       "variable: 48\n",
       "index: 51\n",
       "47. (i)\n",
       "    core type: ExprTuple\n",
       "    sub-expressions: 50\n",
       "48. b\n",
       "    core type: Variable\n",
       "    sub-expressions: \n",
       "49. (_a)\n",
       "    core type: ExprTuple\n",
       "    sub-expressions: 51\n",
       "50. i\n",
       "    core type: Variable\n",
       "    sub-expressions: \n",
       "51. _a\n",
       "    core type: Variable\n",
       "    sub-expressions: "
      ]
     },
     "execution_count": 6,
     "metadata": {},
     "output_type": "execute_result"
    }
   ],
   "source": [
    "# display the expression information\n",
    "expr.expr_info()"
   ]
  },
  {
   "cell_type": "code",
   "execution_count": null,
   "metadata": {},
   "outputs": [],
   "source": []
  }
 ],
 "metadata": {
  "kernelspec": {
   "display_name": "Python 3",
   "language": "python",
   "name": "python3"
  }
 },
 "nbformat": 4,
 "nbformat_minor": 0
}