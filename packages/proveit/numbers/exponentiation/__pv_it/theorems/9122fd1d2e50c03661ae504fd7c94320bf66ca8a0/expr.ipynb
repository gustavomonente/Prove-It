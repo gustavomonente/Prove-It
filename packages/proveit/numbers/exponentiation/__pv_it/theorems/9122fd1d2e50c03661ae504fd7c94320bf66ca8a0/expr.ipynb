{
 "cells": [
  {
   "cell_type": "markdown",
   "metadata": {},
   "source": [
    "Expression of type <a class=\"ProveItLink\" href=\"../../../../../../../doc/html/api/proveit.Conditional.html\">Conditional</a>\n",
    "=======================\n",
    "# from the theory of <a class=\"ProveItLink\" href=\"../../../_theory_nbs_/theory.ipynb\">proveit.numbers.exponentiation</a>"
   ]
  },
  {
   "cell_type": "code",
   "execution_count": 1,
   "metadata": {},
   "outputs": [],
   "source": [
    "import proveit\n",
    "# Automation is not needed when building an expression:\n",
    "proveit.defaults.automation = False # This will speed things up.\n",
    "proveit.defaults.inline_pngs = False # Makes files smaller.\n",
    "%load_expr # Load the stored expression as 'stored_expr'\n",
    "# import Expression classes needed to build the expression\n",
    "from proveit import Conditional, a, m, n\n",
    "from proveit.logic import And, Equals, InSet\n",
    "from proveit.numbers import Add, Complex, Exp, Mult, NaturalPos"
   ]
  },
  {
   "cell_type": "code",
   "execution_count": 2,
   "metadata": {},
   "outputs": [
    {
     "data": {
      "text/html": [
       "<strong id=\"expr\">expr:</strong> <a class=\"ProveItLink\" href=\"expr.ipynb\"><img src=\"expr.png\" style=\"display:inline;vertical-align:middle;\" /></a><br>"
      ],
      "text/plain": [
       "expr: {(a^{m} * a^{n}) = a^{m + n} if a in Complex ,  m in NaturalPos ,  n in NaturalPos."
      ]
     },
     "execution_count": 2,
     "metadata": {},
     "output_type": "execute_result"
    }
   ],
   "source": [
    "# build up the expression from sub-expressions\n",
    "expr = Conditional(Equals(Mult(Exp(a, m), Exp(a, n)), Exp(a, Add(m, n))), And(InSet(a, Complex), InSet(m, NaturalPos), InSet(n, NaturalPos)))"
   ]
  },
  {
   "cell_type": "code",
   "execution_count": 3,
   "metadata": {},
   "outputs": [
    {
     "name": "stdout",
     "output_type": "stream",
     "text": [
      "Passed sanity check: expr matches stored_expr\n"
     ]
    }
   ],
   "source": [
    "# check that the built expression is the same as the stored expression\n",
    "assert expr == stored_expr\n",
    "assert expr._style_id == stored_expr._style_id\n",
    "print(\"Passed sanity check: expr matches stored_expr\")"
   ]
  },
  {
   "cell_type": "code",
   "execution_count": 4,
   "metadata": {},
   "outputs": [
    {
     "name": "stdout",
     "output_type": "stream",
     "text": [
      "\\left\\{\\left(a^{m} \\cdot a^{n}\\right) = a^{m + n} \\textrm{ if } a \\in \\mathbb{C} ,  m \\in \\mathbb{N}^+ ,  n \\in \\mathbb{N}^+\\right..\n"
     ]
    }
   ],
   "source": [
    "# Show the LaTeX representation of the expression for convenience if you need it.\n",
    "print(expr.latex())"
   ]
  },
  {
   "cell_type": "code",
   "execution_count": 5,
   "metadata": {},
   "outputs": [
    {
     "data": {
      "text/html": [
       "<table><tr><th>&nbsp;</th><th>core type</th><th>sub-expressions</th><th>expression</th></tr>\n",
       "<tr><td>0</td><td>Conditional</td><td>value:&nbsp;1<br>condition:&nbsp;2<br></td><td><a class=\"ProveItLink\" href=\"expr.ipynb\"><img src=\"expr.png\" style=\"display:inline;vertical-align:middle;\" /></a></td></tr>\n",
       "<tr><td>1</td><td>Operation</td><td>operator:&nbsp;3<br>operands:&nbsp;4<br></td><td><a class=\"ProveItLink\" href=\"../0e9aa545186c5ecccf9b9262031a1610b33763970/expr.ipynb\"><img src=\"../0e9aa545186c5ecccf9b9262031a1610b33763970/expr.png\" style=\"display:inline;vertical-align:middle;\" /></a></td></tr>\n",
       "<tr><td>2</td><td>Operation</td><td>operator:&nbsp;5<br>operands:&nbsp;6<br></td><td><a class=\"ProveItLink\" href=\"../a6aac7449cbf5d4d89cccf0a4f2b5b708aec75b60/expr.ipynb\"><img src=\"../a6aac7449cbf5d4d89cccf0a4f2b5b708aec75b60/expr.png\" style=\"display:inline;vertical-align:middle;\" /></a></td></tr>\n",
       "<tr><td>3</td><td>Literal</td><td></td><td><a class=\"ProveItLink\" href=\"../../../../../logic/equality/__pv_it/common/fb96dc12b2aa8801dda64d0132b396c63d1502bb0/expr.ipynb\"><img src=\"../../../../../logic/equality/__pv_it/common/fb96dc12b2aa8801dda64d0132b396c63d1502bb0/expr.png\" style=\"display:inline;vertical-align:middle;\" /></a></td></tr>\n",
       "<tr><td>4</td><td>ExprTuple</td><td>7, 8</td><td><a class=\"ProveItLink\" href=\"../0946067fc484c5e5a229153b53b66159829fc63a0/expr.ipynb\"><img src=\"../0946067fc484c5e5a229153b53b66159829fc63a0/expr.png\" style=\"display:inline;vertical-align:middle;\" /></a></td></tr>\n",
       "<tr><td>5</td><td>Literal</td><td></td><td><a class=\"ProveItLink\" href=\"../../../../../logic/booleans/conjunction/__pv_it/common/42118ff318bd65d98b1393f64ce7c2269feef76e0/expr.ipynb\"><img src=\"../../../../../logic/booleans/conjunction/__pv_it/common/42118ff318bd65d98b1393f64ce7c2269feef76e0/expr.png\" style=\"display:inline;vertical-align:middle;\" /></a></td></tr>\n",
       "<tr><td>6</td><td>ExprTuple</td><td>9, 10, 11</td><td><a class=\"ProveItLink\" href=\"../e4d662d2498daeeb6c9b3aa3b8d8858e8afd18cd0/expr.ipynb\"><img src=\"../e4d662d2498daeeb6c9b3aa3b8d8858e8afd18cd0/expr.png\" style=\"display:inline;vertical-align:middle;\" /></a></td></tr>\n",
       "<tr><td>7</td><td>Operation</td><td>operator:&nbsp;12<br>operands:&nbsp;13<br></td><td><a class=\"ProveItLink\" href=\"../d50d784251d62b493ab1b67a1cb24db7b089fb970/expr.ipynb\"><img src=\"../d50d784251d62b493ab1b67a1cb24db7b089fb970/expr.png\" style=\"display:inline;vertical-align:middle;\" /></a></td></tr>\n",
       "<tr><td>8</td><td>Operation</td><td>operator:&nbsp;25<br>operands:&nbsp;14<br></td><td><a class=\"ProveItLink\" href=\"../83fae6998c5dcbbbe3c4142c6417fc69b5b622f30/expr.ipynb\"><img src=\"../83fae6998c5dcbbbe3c4142c6417fc69b5b622f30/expr.png\" style=\"display:inline;vertical-align:middle;\" /></a></td></tr>\n",
       "<tr><td>9</td><td>Operation</td><td>operator:&nbsp;17<br>operands:&nbsp;15<br></td><td><a class=\"ProveItLink\" href=\"../ffc4a45642fde8a513aa78237f7ca59ff7c646290/expr.ipynb\"><img src=\"../ffc4a45642fde8a513aa78237f7ca59ff7c646290/expr.png\" style=\"display:inline;vertical-align:middle;\" /></a></td></tr>\n",
       "<tr><td>10</td><td>Operation</td><td>operator:&nbsp;17<br>operands:&nbsp;16<br></td><td><a class=\"ProveItLink\" href=\"../ef423a25d1655fee1ed30c44faef1c3d02b885390/expr.ipynb\"><img src=\"../ef423a25d1655fee1ed30c44faef1c3d02b885390/expr.png\" style=\"display:inline;vertical-align:middle;\" /></a></td></tr>\n",
       "<tr><td>11</td><td>Operation</td><td>operator:&nbsp;17<br>operands:&nbsp;18<br></td><td><a class=\"ProveItLink\" href=\"../a9c01f72a8710eb6455c4786cc4a8aa9a8d1beb60/expr.ipynb\"><img src=\"../a9c01f72a8710eb6455c4786cc4a8aa9a8d1beb60/expr.png\" style=\"display:inline;vertical-align:middle;\" /></a></td></tr>\n",
       "<tr><td>12</td><td>Literal</td><td></td><td><a class=\"ProveItLink\" href=\"../../../../multiplication/__pv_it/common/ed719cef37831779c16481533a4d380a2f95ab270/expr.ipynb\"><img src=\"../../../../multiplication/__pv_it/common/ed719cef37831779c16481533a4d380a2f95ab270/expr.png\" style=\"display:inline;vertical-align:middle;\" /></a></td></tr>\n",
       "<tr><td>13</td><td>ExprTuple</td><td>19, 20</td><td><a class=\"ProveItLink\" href=\"../4d4802c8ceb0fd672b45939d8eec8396c05777590/expr.ipynb\"><img src=\"../4d4802c8ceb0fd672b45939d8eec8396c05777590/expr.png\" style=\"display:inline;vertical-align:middle;\" /></a></td></tr>\n",
       "<tr><td>14</td><td>ExprTuple</td><td>29, 21</td><td><a class=\"ProveItLink\" href=\"../5d119991bbc11bd122a2a1904bc58715e03faa560/expr.ipynb\"><img src=\"../5d119991bbc11bd122a2a1904bc58715e03faa560/expr.png\" style=\"display:inline;vertical-align:middle;\" /></a></td></tr>\n",
       "<tr><td>15</td><td>ExprTuple</td><td>29, 22</td><td><a class=\"ProveItLink\" href=\"../b09522ef7ab30f4ad67aa0f5ccb1edb96dc097ef0/expr.ipynb\"><img src=\"../b09522ef7ab30f4ad67aa0f5ccb1edb96dc097ef0/expr.png\" style=\"display:inline;vertical-align:middle;\" /></a></td></tr>\n",
       "<tr><td>16</td><td>ExprTuple</td><td>30, 23</td><td><a class=\"ProveItLink\" href=\"../4923ad41675dc0690b318b69d0259ea99e3364450/expr.ipynb\"><img src=\"../4923ad41675dc0690b318b69d0259ea99e3364450/expr.png\" style=\"display:inline;vertical-align:middle;\" /></a></td></tr>\n",
       "<tr><td>17</td><td>Literal</td><td></td><td><a class=\"ProveItLink\" href=\"../../../../../logic/sets/membership/__pv_it/common/477487d8796864d23d5810f83761435f25167f690/expr.ipynb\"><img src=\"../../../../../logic/sets/membership/__pv_it/common/477487d8796864d23d5810f83761435f25167f690/expr.png\" style=\"display:inline;vertical-align:middle;\" /></a></td></tr>\n",
       "<tr><td>18</td><td>ExprTuple</td><td>31, 23</td><td><a class=\"ProveItLink\" href=\"../09d617a164cf3f820cb8170f3e1680673d4b7bf10/expr.ipynb\"><img src=\"../09d617a164cf3f820cb8170f3e1680673d4b7bf10/expr.png\" style=\"display:inline;vertical-align:middle;\" /></a></td></tr>\n",
       "<tr><td>19</td><td>Operation</td><td>operator:&nbsp;25<br>operands:&nbsp;24<br></td><td><a class=\"ProveItLink\" href=\"../0ed44862c154b7e6ec6fa3991fb113741351a6230/expr.ipynb\"><img src=\"../0ed44862c154b7e6ec6fa3991fb113741351a6230/expr.png\" style=\"display:inline;vertical-align:middle;\" /></a></td></tr>\n",
       "<tr><td>20</td><td>Operation</td><td>operator:&nbsp;25<br>operands:&nbsp;26<br></td><td><a class=\"ProveItLink\" href=\"../db0d5a45b253c202e55d639c4445146d8fb230d50/expr.ipynb\"><img src=\"../db0d5a45b253c202e55d639c4445146d8fb230d50/expr.png\" style=\"display:inline;vertical-align:middle;\" /></a></td></tr>\n",
       "<tr><td>21</td><td>Operation</td><td>operator:&nbsp;27<br>operands:&nbsp;28<br></td><td><a class=\"ProveItLink\" href=\"../17e18d91897cd013684a3eae6c8f160130f372fc0/expr.ipynb\"><img src=\"../17e18d91897cd013684a3eae6c8f160130f372fc0/expr.png\" style=\"display:inline;vertical-align:middle;\" /></a></td></tr>\n",
       "<tr><td>22</td><td>Literal</td><td></td><td><a class=\"ProveItLink\" href=\"../../../../number_sets/complex_numbers/__pv_it/common/d18a028138f659eda00de597c28a3447fe87eb100/expr.ipynb\"><img src=\"../../../../number_sets/complex_numbers/__pv_it/common/d18a028138f659eda00de597c28a3447fe87eb100/expr.png\" style=\"display:inline;vertical-align:middle;\" /></a></td></tr>\n",
       "<tr><td>23</td><td>Literal</td><td></td><td><a class=\"ProveItLink\" href=\"../../../../number_sets/natural_numbers/__pv_it/common/6111329435c43892c831c4793de96afbf80bdb3e0/expr.ipynb\"><img src=\"../../../../number_sets/natural_numbers/__pv_it/common/6111329435c43892c831c4793de96afbf80bdb3e0/expr.png\" style=\"display:inline;vertical-align:middle;\" /></a></td></tr>\n",
       "<tr><td>24</td><td>ExprTuple</td><td>29, 30</td><td><a class=\"ProveItLink\" href=\"../7fac2d494d528deab158edc6769d4d97915c7e340/expr.ipynb\"><img src=\"../7fac2d494d528deab158edc6769d4d97915c7e340/expr.png\" style=\"display:inline;vertical-align:middle;\" /></a></td></tr>\n",
       "<tr><td>25</td><td>Literal</td><td></td><td><a class=\"ProveItLink\" href=\"../../common/0ac37aca1e54c35c5cda09672df32d4f69f1f3020/expr.ipynb\"><img src=\"../../common/0ac37aca1e54c35c5cda09672df32d4f69f1f3020/expr.png\" style=\"display:inline;vertical-align:middle;\" /></a></td></tr>\n",
       "<tr><td>26</td><td>ExprTuple</td><td>29, 31</td><td><a class=\"ProveItLink\" href=\"../51bea2e1b15adc02e6c96292e5f99533c92a228d0/expr.ipynb\"><img src=\"../51bea2e1b15adc02e6c96292e5f99533c92a228d0/expr.png\" style=\"display:inline;vertical-align:middle;\" /></a></td></tr>\n",
       "<tr><td>27</td><td>Literal</td><td></td><td><a class=\"ProveItLink\" href=\"../../../../addition/__pv_it/common/4b7effaab3619a1c2c38fe2dee8601df8ec714590/expr.ipynb\"><img src=\"../../../../addition/__pv_it/common/4b7effaab3619a1c2c38fe2dee8601df8ec714590/expr.png\" style=\"display:inline;vertical-align:middle;\" /></a></td></tr>\n",
       "<tr><td>28</td><td>ExprTuple</td><td>30, 31</td><td><a class=\"ProveItLink\" href=\"../092ed828b5223350e0e312743205cd26029752560/expr.ipynb\"><img src=\"../092ed828b5223350e0e312743205cd26029752560/expr.png\" style=\"display:inline;vertical-align:middle;\" /></a></td></tr>\n",
       "<tr><td>29</td><td>Variable</td><td></td><td><a class=\"ProveItLink\" href=\"../../../../../__pv_it/common/c06c606ec12678c58933ac85412ecadc2ae28be60/expr.ipynb\"><img src=\"../../../../../__pv_it/common/c06c606ec12678c58933ac85412ecadc2ae28be60/expr.png\" style=\"display:inline;vertical-align:middle;\" /></a></td></tr>\n",
       "<tr><td>30</td><td>Variable</td><td></td><td><a class=\"ProveItLink\" href=\"../../../../../__pv_it/common/674a03b9c3ca221b3aabd5636837b31528ff33830/expr.ipynb\"><img src=\"../../../../../__pv_it/common/674a03b9c3ca221b3aabd5636837b31528ff33830/expr.png\" style=\"display:inline;vertical-align:middle;\" /></a></td></tr>\n",
       "<tr><td>31</td><td>Variable</td><td></td><td><a class=\"ProveItLink\" href=\"../../../../../__pv_it/common/8968bb04eb3f7dfa02353397ce929b025bbd79c20/expr.ipynb\"><img src=\"../../../../../__pv_it/common/8968bb04eb3f7dfa02353397ce929b025bbd79c20/expr.png\" style=\"display:inline;vertical-align:middle;\" /></a></td></tr>\n",
       "</table>\n"
      ],
      "text/plain": [
       "0. {(a^{m} * a^{n}) = a^{m + n} if a in Complex ,  m in NaturalPos ,  n in NaturalPos.\n",
       "   core type: Conditional\n",
       "   value: 1\n",
       "   condition: 2\n",
       "1. (a^{m} * a^{n}) = a^{m + n}\n",
       "   core type: Operation\n",
       "   operator: 3\n",
       "   operands: 4\n",
       "2. (a in Complex) and (m in NaturalPos) and (n in NaturalPos)\n",
       "   core type: Operation\n",
       "   operator: 5\n",
       "   operands: 6\n",
       "3. =\n",
       "   core type: Literal\n",
       "   sub-expressions: \n",
       "4. (a^{m} * a^{n}, a^{m + n})\n",
       "   core type: ExprTuple\n",
       "   sub-expressions: 7, 8\n",
       "5. and\n",
       "   core type: Literal\n",
       "   sub-expressions: \n",
       "6. (a in Complex, m in NaturalPos, n in NaturalPos)\n",
       "   core type: ExprTuple\n",
       "   sub-expressions: 9, 10, 11\n",
       "7. a^{m} * a^{n}\n",
       "   core type: Operation\n",
       "   operator: 12\n",
       "   operands: 13\n",
       "8. a^{m + n}\n",
       "   core type: Operation\n",
       "   operator: 25\n",
       "   operands: 14\n",
       "9. a in Complex\n",
       "   core type: Operation\n",
       "   operator: 17\n",
       "   operands: 15\n",
       "10. m in NaturalPos\n",
       "    core type: Operation\n",
       "    operator: 17\n",
       "    operands: 16\n",
       "11. n in NaturalPos\n",
       "    core type: Operation\n",
       "    operator: 17\n",
       "    operands: 18\n",
       "12. *\n",
       "    core type: Literal\n",
       "    sub-expressions: \n",
       "13. (a^{m}, a^{n})\n",
       "    core type: ExprTuple\n",
       "    sub-expressions: 19, 20\n",
       "14. (a, m + n)\n",
       "    core type: ExprTuple\n",
       "    sub-expressions: 29, 21\n",
       "15. (a, Complex)\n",
       "    core type: ExprTuple\n",
       "    sub-expressions: 29, 22\n",
       "16. (m, NaturalPos)\n",
       "    core type: ExprTuple\n",
       "    sub-expressions: 30, 23\n",
       "17. in\n",
       "    core type: Literal\n",
       "    sub-expressions: \n",
       "18. (n, NaturalPos)\n",
       "    core type: ExprTuple\n",
       "    sub-expressions: 31, 23\n",
       "19. a^{m}\n",
       "    core type: Operation\n",
       "    operator: 25\n",
       "    operands: 24\n",
       "20. a^{n}\n",
       "    core type: Operation\n",
       "    operator: 25\n",
       "    operands: 26\n",
       "21. m + n\n",
       "    core type: Operation\n",
       "    operator: 27\n",
       "    operands: 28\n",
       "22. Complex\n",
       "    core type: Literal\n",
       "    sub-expressions: \n",
       "23. NaturalPos\n",
       "    core type: Literal\n",
       "    sub-expressions: \n",
       "24. (a, m)\n",
       "    core type: ExprTuple\n",
       "    sub-expressions: 29, 30\n",
       "25. Exp\n",
       "    core type: Literal\n",
       "    sub-expressions: \n",
       "26. (a, n)\n",
       "    core type: ExprTuple\n",
       "    sub-expressions: 29, 31\n",
       "27. +\n",
       "    core type: Literal\n",
       "    sub-expressions: \n",
       "28. (m, n)\n",
       "    core type: ExprTuple\n",
       "    sub-expressions: 30, 31\n",
       "29. a\n",
       "    core type: Variable\n",
       "    sub-expressions: \n",
       "30. m\n",
       "    core type: Variable\n",
       "    sub-expressions: \n",
       "31. n\n",
       "    core type: Variable\n",
       "    sub-expressions: "
      ]
     },
     "execution_count": 5,
     "metadata": {},
     "output_type": "execute_result"
    }
   ],
   "source": [
    "# display the expression information\n",
    "expr.expr_info()"
   ]
  },
  {
   "cell_type": "code",
   "execution_count": null,
   "metadata": {},
   "outputs": [],
   "source": []
  }
 ],
 "metadata": {
  "kernelspec": {
   "display_name": "Python 3",
   "language": "python",
   "name": "python3"
  }
 },
 "nbformat": 4,
 "nbformat_minor": 0
}