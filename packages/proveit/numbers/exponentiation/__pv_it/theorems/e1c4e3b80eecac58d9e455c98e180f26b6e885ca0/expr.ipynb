{
 "cells": [
  {
   "cell_type": "markdown",
   "metadata": {},
   "source": [
    "Expression of type <a class=\"ProveItLink\" href=\"../../../../../../../doc/html/api/proveit.logic.Forall.html\">Forall</a>\n",
    "=======================\n",
    "# from the theory of <a class=\"ProveItLink\" href=\"../../../_theory_nbs_/theory.ipynb\">proveit.numbers.exponentiation</a>"
   ]
  },
  {
   "cell_type": "code",
   "execution_count": 1,
   "metadata": {},
   "outputs": [],
   "source": [
    "import proveit\n",
    "# Automation is not needed when building an expression:\n",
    "proveit.defaults.automation = False # This will speed things up.\n",
    "proveit.defaults.inline_pngs = False # Makes files smaller.\n",
    "%load_expr # Load the stored expression as 'stored_expr'\n",
    "# import Expression classes needed to build the expression\n",
    "from proveit import b\n",
    "from proveit.core_expr_types import a_1_to_m\n",
    "from proveit.logic import Equals, Forall\n",
    "from proveit.numbers import Complex, Exp, Mult, RealPos\n",
    "from proveit.numbers.exponentiation import prod_ai_raise_b__1_to_m"
   ]
  },
  {
   "cell_type": "code",
   "execution_count": 2,
   "metadata": {},
   "outputs": [
    {
     "data": {
      "text/html": [
       "<strong id=\"expr\">expr:</strong> <a class=\"ProveItLink\" href=\"expr.ipynb\"><img src=\"expr.png\" style=\"display:inline;vertical-align:middle;\" /></a><br>"
      ],
      "text/plain": [
       "expr: forall_{a_{1} in RealPos, ..a_{_a} in RealPos.., a_{m} in RealPos, b in Complex} ((a_{1} * ..a_{_a}.. * a_{m})^{b} = ((a_{1})^{b} * ..(a_{i})^{b}.. * (a_{m})^{b}))"
      ]
     },
     "execution_count": 2,
     "metadata": {},
     "output_type": "execute_result"
    }
   ],
   "source": [
    "# build up the expression from sub-expressions\n",
    "expr = Forall([a_1_to_m, b], Equals(Exp(Mult(a_1_to_m), b), prod_ai_raise_b__1_to_m), domains = [RealPos, Complex])"
   ]
  },
  {
   "cell_type": "code",
   "execution_count": 3,
   "metadata": {},
   "outputs": [
    {
     "name": "stdout",
     "output_type": "stream",
     "text": [
      "Passed sanity check: expr matches stored_expr\n"
     ]
    }
   ],
   "source": [
    "# check that the built expression is the same as the stored expression\n",
    "assert expr == stored_expr\n",
    "assert expr._style_id == stored_expr._style_id\n",
    "print(\"Passed sanity check: expr matches stored_expr\")"
   ]
  },
  {
   "cell_type": "code",
   "execution_count": 4,
   "metadata": {},
   "outputs": [
    {
     "name": "stdout",
     "output_type": "stream",
     "text": [
      "\\forall_{a_{1} \\in \\mathbb{R}^+, \\ldots, a_{m} \\in \\mathbb{R}^+, b \\in \\mathbb{C}}~\\left(\\left(a_{1} \\cdot \\ldots \\cdot a_{m}\\right)^{b} = \\left(\\left(a_{1}\\right)^{b} \\cdot \\ldots \\cdot \\left(a_{m}\\right)^{b}\\right)\\right)\n"
     ]
    }
   ],
   "source": [
    "# Show the LaTeX representation of the expression for convenience if you need it.\n",
    "print(expr.latex())"
   ]
  },
  {
   "cell_type": "code",
   "execution_count": 5,
   "metadata": {},
   "outputs": [
    {
     "data": {
      "text/html": [
       "<table><tr><th>&nbsp;</th><th>core type</th><th>sub-expressions</th><th>expression</th></tr>\n",
       "<tr><td>0</td><td>Operation</td><td>operator:&nbsp;1<br>operand:&nbsp;2<br></td><td><a class=\"ProveItLink\" href=\"expr.ipynb\"><img src=\"expr.png\" style=\"display:inline;vertical-align:middle;\" /></a></td></tr>\n",
       "<tr><td>1</td><td>Literal</td><td></td><td><a class=\"ProveItLink\" href=\"../../../../../logic/booleans/quantification/universality/__pv_it/common/083d2baa0b8ecab1d230f9ec29a15aa1355809fb0/expr.ipynb\"><img src=\"../../../../../logic/booleans/quantification/universality/__pv_it/common/083d2baa0b8ecab1d230f9ec29a15aa1355809fb0/expr.png\" style=\"display:inline;vertical-align:middle;\" /></a></td></tr>\n",
       "<tr><td>2</td><td>Lambda</td><td>parameters:&nbsp;3<br>body:&nbsp;4<br></td><td><a class=\"ProveItLink\" href=\"../9a27887816ab75c7f2f9fa279586476839c65f790/expr.ipynb\"><img src=\"../9a27887816ab75c7f2f9fa279586476839c65f790/expr.png\" style=\"display:inline;vertical-align:middle;\" /></a></td></tr>\n",
       "<tr><td>3</td><td>ExprTuple</td><td>28, 38</td><td><a class=\"ProveItLink\" href=\"../874c98278da3106dc1418f760c2de227ca0f7ca70/expr.ipynb\"><img src=\"../874c98278da3106dc1418f760c2de227ca0f7ca70/expr.png\" style=\"display:inline;vertical-align:middle;\" /></a></td></tr>\n",
       "<tr><td>4</td><td>Conditional</td><td>value:&nbsp;5<br>condition:&nbsp;6<br></td><td><a class=\"ProveItLink\" href=\"../66f2fad06066c8e45f594deca22e36a94beb81a80/expr.ipynb\"><img src=\"../66f2fad06066c8e45f594deca22e36a94beb81a80/expr.png\" style=\"display:inline;vertical-align:middle;\" /></a></td></tr>\n",
       "<tr><td>5</td><td>Operation</td><td>operator:&nbsp;7<br>operands:&nbsp;8<br></td><td><a class=\"ProveItLink\" href=\"../23b1c1bb4ba86616ddab52060f513301f4ba158f0/expr.ipynb\"><img src=\"../23b1c1bb4ba86616ddab52060f513301f4ba158f0/expr.png\" style=\"display:inline;vertical-align:middle;\" /></a></td></tr>\n",
       "<tr><td>6</td><td>Operation</td><td>operator:&nbsp;9<br>operands:&nbsp;10<br></td><td><a class=\"ProveItLink\" href=\"../de0d19668249f006a2ef37adf679354ac2ceeba20/expr.ipynb\"><img src=\"../de0d19668249f006a2ef37adf679354ac2ceeba20/expr.png\" style=\"display:inline;vertical-align:middle;\" /></a></td></tr>\n",
       "<tr><td>7</td><td>Literal</td><td></td><td><a class=\"ProveItLink\" href=\"../../../../../logic/equality/__pv_it/common/fb96dc12b2aa8801dda64d0132b396c63d1502bb0/expr.ipynb\"><img src=\"../../../../../logic/equality/__pv_it/common/fb96dc12b2aa8801dda64d0132b396c63d1502bb0/expr.png\" style=\"display:inline;vertical-align:middle;\" /></a></td></tr>\n",
       "<tr><td>8</td><td>ExprTuple</td><td>11, 12</td><td><a class=\"ProveItLink\" href=\"../cc298ebfc652c6289add7f36638d77696e44946f0/expr.ipynb\"><img src=\"../cc298ebfc652c6289add7f36638d77696e44946f0/expr.png\" style=\"display:inline;vertical-align:middle;\" /></a></td></tr>\n",
       "<tr><td>9</td><td>Literal</td><td></td><td><a class=\"ProveItLink\" href=\"../../../../../logic/booleans/conjunction/__pv_it/common/42118ff318bd65d98b1393f64ce7c2269feef76e0/expr.ipynb\"><img src=\"../../../../../logic/booleans/conjunction/__pv_it/common/42118ff318bd65d98b1393f64ce7c2269feef76e0/expr.png\" style=\"display:inline;vertical-align:middle;\" /></a></td></tr>\n",
       "<tr><td>10</td><td>ExprTuple</td><td>13, 14</td><td><a class=\"ProveItLink\" href=\"../a9752431101bda8b9bcd959f9d3de2c4203de65e0/expr.ipynb\"><img src=\"../a9752431101bda8b9bcd959f9d3de2c4203de65e0/expr.png\" style=\"display:inline;vertical-align:middle;\" /></a></td></tr>\n",
       "<tr><td>11</td><td>Operation</td><td>operator:&nbsp;34<br>operands:&nbsp;15<br></td><td><a class=\"ProveItLink\" href=\"../685e50ca9ba23f4dd31d0bb03956d55ab296fc250/expr.ipynb\"><img src=\"../685e50ca9ba23f4dd31d0bb03956d55ab296fc250/expr.png\" style=\"display:inline;vertical-align:middle;\" /></a></td></tr>\n",
       "<tr><td>12</td><td>Operation</td><td>operator:&nbsp;23<br>operands:&nbsp;16<br></td><td><a class=\"ProveItLink\" href=\"../../common/27f2eec8dcdecb0e92da7343fe821715be28042e0/expr.ipynb\"><img src=\"../../common/27f2eec8dcdecb0e92da7343fe821715be28042e0/expr.png\" style=\"display:inline;vertical-align:middle;\" /></a></td></tr>\n",
       "<tr><td>13</td><td>ExprRange</td><td>lambda_map:&nbsp;17<br>start_index:&nbsp;32<br>end_index:&nbsp;33<br></td><td><a class=\"ProveItLink\" href=\"../15d0f91272cf1b9624e8679478b06885f04b60570/expr.ipynb\"><img src=\"../15d0f91272cf1b9624e8679478b06885f04b60570/expr.png\" style=\"display:inline;vertical-align:middle;\" /></a></td></tr>\n",
       "<tr><td>14</td><td>Operation</td><td>operator:&nbsp;26<br>operands:&nbsp;18<br></td><td><a class=\"ProveItLink\" href=\"../cc5977648bc1a1b7dbb543c11fb2eb11ba7bfd0b0/expr.ipynb\"><img src=\"../cc5977648bc1a1b7dbb543c11fb2eb11ba7bfd0b0/expr.png\" style=\"display:inline;vertical-align:middle;\" /></a></td></tr>\n",
       "<tr><td>15</td><td>ExprTuple</td><td>19, 38</td><td><a class=\"ProveItLink\" href=\"../dd3eb1b33a1bd877e149aa83f7e89aa4c8464c8d0/expr.ipynb\"><img src=\"../dd3eb1b33a1bd877e149aa83f7e89aa4c8464c8d0/expr.png\" style=\"display:inline;vertical-align:middle;\" /></a></td></tr>\n",
       "<tr><td>16</td><td>ExprTuple</td><td>20</td><td><a class=\"ProveItLink\" href=\"../../common/6d011546092f6260a1229b7a11337845ede9f6440/expr.ipynb\"><img src=\"../../common/6d011546092f6260a1229b7a11337845ede9f6440/expr.png\" style=\"display:inline;vertical-align:middle;\" /></a></td></tr>\n",
       "<tr><td>17</td><td>Lambda</td><td>parameter:&nbsp;39<br>body:&nbsp;21<br></td><td><a class=\"ProveItLink\" href=\"../fdec0a02ce01c4dcdb008a40c2946dcaec41865c0/expr.ipynb\"><img src=\"../fdec0a02ce01c4dcdb008a40c2946dcaec41865c0/expr.png\" style=\"display:inline;vertical-align:middle;\" /></a></td></tr>\n",
       "<tr><td>18</td><td>ExprTuple</td><td>38, 22</td><td><a class=\"ProveItLink\" href=\"../6e2ad23ff1a799409a25a0968d4f2a8c88b4bf110/expr.ipynb\"><img src=\"../6e2ad23ff1a799409a25a0968d4f2a8c88b4bf110/expr.png\" style=\"display:inline;vertical-align:middle;\" /></a></td></tr>\n",
       "<tr><td>19</td><td>Operation</td><td>operator:&nbsp;23<br>operands:&nbsp;24<br></td><td><a class=\"ProveItLink\" href=\"../8860fe570ad84df867667d515884f7f93e9240df0/expr.ipynb\"><img src=\"../8860fe570ad84df867667d515884f7f93e9240df0/expr.png\" style=\"display:inline;vertical-align:middle;\" /></a></td></tr>\n",
       "<tr><td>20</td><td>ExprRange</td><td>lambda_map:&nbsp;25<br>start_index:&nbsp;32<br>end_index:&nbsp;33<br></td><td><a class=\"ProveItLink\" href=\"../../common/2e74ef2d153d58c753b2385a828d15ca6996f5e90/expr.ipynb\"><img src=\"../../common/2e74ef2d153d58c753b2385a828d15ca6996f5e90/expr.png\" style=\"display:inline;vertical-align:middle;\" /></a></td></tr>\n",
       "<tr><td>21</td><td>Operation</td><td>operator:&nbsp;26<br>operands:&nbsp;27<br></td><td><a class=\"ProveItLink\" href=\"../1b436f26923d91cb333b07a8ffda90ac523780550/expr.ipynb\"><img src=\"../1b436f26923d91cb333b07a8ffda90ac523780550/expr.png\" style=\"display:inline;vertical-align:middle;\" /></a></td></tr>\n",
       "<tr><td>22</td><td>Literal</td><td></td><td><a class=\"ProveItLink\" href=\"../../../../number_sets/complex_numbers/__pv_it/common/d18a028138f659eda00de597c28a3447fe87eb100/expr.ipynb\"><img src=\"../../../../number_sets/complex_numbers/__pv_it/common/d18a028138f659eda00de597c28a3447fe87eb100/expr.png\" style=\"display:inline;vertical-align:middle;\" /></a></td></tr>\n",
       "<tr><td>23</td><td>Literal</td><td></td><td><a class=\"ProveItLink\" href=\"../../../../multiplication/__pv_it/common/ed719cef37831779c16481533a4d380a2f95ab270/expr.ipynb\"><img src=\"../../../../multiplication/__pv_it/common/ed719cef37831779c16481533a4d380a2f95ab270/expr.png\" style=\"display:inline;vertical-align:middle;\" /></a></td></tr>\n",
       "<tr><td>24</td><td>ExprTuple</td><td>28</td><td><a class=\"ProveItLink\" href=\"../f9b6279ea096d0c8d155308c268c1d16019be6500/expr.ipynb\"><img src=\"../f9b6279ea096d0c8d155308c268c1d16019be6500/expr.png\" style=\"display:inline;vertical-align:middle;\" /></a></td></tr>\n",
       "<tr><td>25</td><td>Lambda</td><td>parameter:&nbsp;41<br>body:&nbsp;29<br></td><td><a class=\"ProveItLink\" href=\"../../common/1c6a6f57006cc5f676925bcb35b4a8157b6c94e10/expr.ipynb\"><img src=\"../../common/1c6a6f57006cc5f676925bcb35b4a8157b6c94e10/expr.png\" style=\"display:inline;vertical-align:middle;\" /></a></td></tr>\n",
       "<tr><td>26</td><td>Literal</td><td></td><td><a class=\"ProveItLink\" href=\"../../../../../logic/sets/membership/__pv_it/common/477487d8796864d23d5810f83761435f25167f690/expr.ipynb\"><img src=\"../../../../../logic/sets/membership/__pv_it/common/477487d8796864d23d5810f83761435f25167f690/expr.png\" style=\"display:inline;vertical-align:middle;\" /></a></td></tr>\n",
       "<tr><td>27</td><td>ExprTuple</td><td>36, 30</td><td><a class=\"ProveItLink\" href=\"../b7102144d5a27e94580ff45be4e400fc83e95f3e0/expr.ipynb\"><img src=\"../b7102144d5a27e94580ff45be4e400fc83e95f3e0/expr.png\" style=\"display:inline;vertical-align:middle;\" /></a></td></tr>\n",
       "<tr><td>28</td><td>ExprRange</td><td>lambda_map:&nbsp;31<br>start_index:&nbsp;32<br>end_index:&nbsp;33<br></td><td><a class=\"ProveItLink\" href=\"../../../../../core_expr_types/__pv_it/common/bc38b7062774cc3b24ef5e8d35e599851e9b2a5f0/expr.ipynb\"><img src=\"../../../../../core_expr_types/__pv_it/common/bc38b7062774cc3b24ef5e8d35e599851e9b2a5f0/expr.png\" style=\"display:inline;vertical-align:middle;\" /></a></td></tr>\n",
       "<tr><td>29</td><td>Operation</td><td>operator:&nbsp;34<br>operands:&nbsp;35<br></td><td><a class=\"ProveItLink\" href=\"../../common/612b4b532a1b4d0590b8ab39aa5abe766098436f0/expr.ipynb\"><img src=\"../../common/612b4b532a1b4d0590b8ab39aa5abe766098436f0/expr.png\" style=\"display:inline;vertical-align:middle;\" /></a></td></tr>\n",
       "<tr><td>30</td><td>Literal</td><td></td><td><a class=\"ProveItLink\" href=\"../../../../number_sets/real_numbers/__pv_it/common/bce03b8bb2f8dc632941ebceb41ff458ace6f34c0/expr.ipynb\"><img src=\"../../../../number_sets/real_numbers/__pv_it/common/bce03b8bb2f8dc632941ebceb41ff458ace6f34c0/expr.png\" style=\"display:inline;vertical-align:middle;\" /></a></td></tr>\n",
       "<tr><td>31</td><td>Lambda</td><td>parameter:&nbsp;39<br>body:&nbsp;36<br></td><td><a class=\"ProveItLink\" href=\"../../../../../core_expr_types/__pv_it/common/9f0c64ef8ae0c02b5dcba32e0fb15bd29f85872a0/expr.ipynb\"><img src=\"../../../../../core_expr_types/__pv_it/common/9f0c64ef8ae0c02b5dcba32e0fb15bd29f85872a0/expr.png\" style=\"display:inline;vertical-align:middle;\" /></a></td></tr>\n",
       "<tr><td>32</td><td>Literal</td><td></td><td><a class=\"ProveItLink\" href=\"../../../../numerals/__pv_it/common/2778428c7f555b2bdc06aa0530bc142c6e6335100/expr.ipynb\"><img src=\"../../../../numerals/__pv_it/common/2778428c7f555b2bdc06aa0530bc142c6e6335100/expr.png\" style=\"display:inline;vertical-align:middle;\" /></a></td></tr>\n",
       "<tr><td>33</td><td>Variable</td><td></td><td><a class=\"ProveItLink\" href=\"../../../../../__pv_it/common/674a03b9c3ca221b3aabd5636837b31528ff33830/expr.ipynb\"><img src=\"../../../../../__pv_it/common/674a03b9c3ca221b3aabd5636837b31528ff33830/expr.png\" style=\"display:inline;vertical-align:middle;\" /></a></td></tr>\n",
       "<tr><td>34</td><td>Literal</td><td></td><td><a class=\"ProveItLink\" href=\"../../common/0ac37aca1e54c35c5cda09672df32d4f69f1f3020/expr.ipynb\"><img src=\"../../common/0ac37aca1e54c35c5cda09672df32d4f69f1f3020/expr.png\" style=\"display:inline;vertical-align:middle;\" /></a></td></tr>\n",
       "<tr><td>35</td><td>ExprTuple</td><td>37, 38</td><td><a class=\"ProveItLink\" href=\"../../common/cb01a76552e1288f65ae22de37bd3f438ee80ed80/expr.ipynb\"><img src=\"../../common/cb01a76552e1288f65ae22de37bd3f438ee80ed80/expr.png\" style=\"display:inline;vertical-align:middle;\" /></a></td></tr>\n",
       "<tr><td>36</td><td>IndexedVar</td><td>variable:&nbsp;40<br>index:&nbsp;39<br></td><td><a class=\"ProveItLink\" href=\"../../../../../core_expr_types/__pv_it/common/ea36c59b79decceeaf696ef762cc9648f9ddbf5c0/expr.ipynb\"><img src=\"../../../../../core_expr_types/__pv_it/common/ea36c59b79decceeaf696ef762cc9648f9ddbf5c0/expr.png\" style=\"display:inline;vertical-align:middle;\" /></a></td></tr>\n",
       "<tr><td>37</td><td>IndexedVar</td><td>variable:&nbsp;40<br>index:&nbsp;41<br></td><td><a class=\"ProveItLink\" href=\"../../common/027931bc1cc652aa46582cd4c115ecd6ea47fbd70/expr.ipynb\"><img src=\"../../common/027931bc1cc652aa46582cd4c115ecd6ea47fbd70/expr.png\" style=\"display:inline;vertical-align:middle;\" /></a></td></tr>\n",
       "<tr><td>38</td><td>Variable</td><td></td><td><a class=\"ProveItLink\" href=\"../../../../../__pv_it/common/195236b98c6c564a75b5dbada74b173bc52d5c3e0/expr.ipynb\"><img src=\"../../../../../__pv_it/common/195236b98c6c564a75b5dbada74b173bc52d5c3e0/expr.png\" style=\"display:inline;vertical-align:middle;\" /></a></td></tr>\n",
       "<tr><td>39</td><td>Variable</td><td></td><td><a class=\"ProveItLink\" href=\"../../../../../core_expr_types/__pv_it/common/006c465e50948aa2b52285e2de47974f741255cc0/expr.ipynb\"><img src=\"../../../../../core_expr_types/__pv_it/common/006c465e50948aa2b52285e2de47974f741255cc0/expr.png\" style=\"display:inline;vertical-align:middle;\" /></a></td></tr>\n",
       "<tr><td>40</td><td>Variable</td><td></td><td><a class=\"ProveItLink\" href=\"../../../../../__pv_it/common/c06c606ec12678c58933ac85412ecadc2ae28be60/expr.ipynb\"><img src=\"../../../../../__pv_it/common/c06c606ec12678c58933ac85412ecadc2ae28be60/expr.png\" style=\"display:inline;vertical-align:middle;\" /></a></td></tr>\n",
       "<tr><td>41</td><td>Variable</td><td></td><td><a class=\"ProveItLink\" href=\"../../../../../__pv_it/common/ae955345c83abf786c3aff8681cd5465beae262d0/expr.ipynb\"><img src=\"../../../../../__pv_it/common/ae955345c83abf786c3aff8681cd5465beae262d0/expr.png\" style=\"display:inline;vertical-align:middle;\" /></a></td></tr>\n",
       "</table>\n"
      ],
      "text/plain": [
       "0. forall_{a_{1} in RealPos, ..a_{_a} in RealPos.., a_{m} in RealPos, b in Complex} ((a_{1} * ..a_{_a}.. * a_{m})^{b} = ((a_{1})^{b} * ..(a_{i})^{b}.. * (a_{m})^{b}))\n",
       "   core type: Operation\n",
       "   operator: 1\n",
       "   operand: 2\n",
       "1. forall\n",
       "   core type: Literal\n",
       "   sub-expressions: \n",
       "2. (a_{1}, ..a_{_a}.., a_{m}, b) -> {(a_{1} * ..a_{_a}.. * a_{m})^{b} = ((a_{1})^{b} * ..(a_{i})^{b}.. * (a_{m})^{b}) if a_{1} in RealPos ,  ..a_{_a} in RealPos.. ,  a_{m} in RealPos ,  b in Complex.\n",
       "   core type: Lambda\n",
       "   parameters: 3\\n   body: 4\n",
       "3. (a_{1}, ..a_{_a}.., a_{m}, b)\n",
       "   core type: ExprTuple\n",
       "   sub-expressions: 28, 38\n",
       "4. {(a_{1} * ..a_{_a}.. * a_{m})^{b} = ((a_{1})^{b} * ..(a_{i})^{b}.. * (a_{m})^{b}) if a_{1} in RealPos ,  ..a_{_a} in RealPos.. ,  a_{m} in RealPos ,  b in Complex.\n",
       "   core type: Conditional\n",
       "   value: 5\n",
       "   condition: 6\n",
       "5. (a_{1} * ..a_{_a}.. * a_{m})^{b} = ((a_{1})^{b} * ..(a_{i})^{b}.. * (a_{m})^{b})\n",
       "   core type: Operation\n",
       "   operator: 7\n",
       "   operands: 8\n",
       "6. (a_{1} in RealPos) and ..(a_{_a} in RealPos).. and (a_{m} in RealPos) and (b in Complex)\n",
       "   core type: Operation\n",
       "   operator: 9\n",
       "   operands: 10\n",
       "7. =\n",
       "   core type: Literal\n",
       "   sub-expressions: \n",
       "8. ((a_{1} * ..a_{_a}.. * a_{m})^{b}, (a_{1})^{b} * ..(a_{i})^{b}.. * (a_{m})^{b})\n",
       "   core type: ExprTuple\n",
       "   sub-expressions: 11, 12\n",
       "9. and\n",
       "   core type: Literal\n",
       "   sub-expressions: \n",
       "10. (a_{1} in RealPos, ..a_{_a} in RealPos.., a_{m} in RealPos, b in Complex)\n",
       "    core type: ExprTuple\n",
       "    sub-expressions: 13, 14\n",
       "11. (a_{1} * ..a_{_a}.. * a_{m})^{b}\n",
       "    core type: Operation\n",
       "    operator: 34\n",
       "    operands: 15\n",
       "12. (a_{1})^{b} * ..(a_{i})^{b}.. * (a_{m})^{b}\n",
       "    core type: Operation\n",
       "    operator: 23\n",
       "    operands: 16\n",
       "13. (a_{1} in RealPos), ..(a_{_a} in RealPos).., (a_{m} in RealPos)\n",
       "    core type: ExprRange\n",
       "    lambda_map: 17\n",
       "    start_index: 32\n",
       "    end_index: 33\n",
       "14. b in Complex\n",
       "    core type: Operation\n",
       "    operator: 26\n",
       "    operands: 18\n",
       "15. (a_{1} * ..a_{_a}.. * a_{m}, b)\n",
       "    core type: ExprTuple\n",
       "    sub-expressions: 19, 38\n",
       "16. ((a_{1})^{b}, ..(a_{i})^{b}.., (a_{m})^{b})\n",
       "    core type: ExprTuple\n",
       "    sub-expressions: 20\n",
       "17. _a -> (a_{_a} in RealPos)\n",
       "    core type: Lambda\n",
       "    parameter: 39\n",
       "    body: 21\n",
       "18. (b, Complex)\n",
       "    core type: ExprTuple\n",
       "    sub-expressions: 38, 22\n",
       "19. a_{1} * ..a_{_a}.. * a_{m}\n",
       "    core type: Operation\n",
       "    operator: 23\n",
       "    operands: 24\n",
       "20. (a_{1})^{b}, ..(a_{i})^{b}.., (a_{m})^{b}\n",
       "    core type: ExprRange\n",
       "    lambda_map: 25\n",
       "    start_index: 32\n",
       "    end_index: 33\n",
       "21. a_{_a} in RealPos\n",
       "    core type: Operation\n",
       "    operator: 26\n",
       "    operands: 27\n",
       "22. Complex\n",
       "    core type: Literal\n",
       "    sub-expressions: \n",
       "23. *\n",
       "    core type: Literal\n",
       "    sub-expressions: \n",
       "24. (a_{1}, ..a_{_a}.., a_{m})\n",
       "    core type: ExprTuple\n",
       "    sub-expressions: 28\n",
       "25. i -> (a_{i})^{b}\n",
       "    core type: Lambda\n",
       "    parameter: 41\n",
       "    body: 29\n",
       "26. in\n",
       "    core type: Literal\n",
       "    sub-expressions: \n",
       "27. (a_{_a}, RealPos)\n",
       "    core type: ExprTuple\n",
       "    sub-expressions: 36, 30\n",
       "28. a_{1}, ..a_{_a}.., a_{m}\n",
       "    core type: ExprRange\n",
       "    lambda_map: 31\n",
       "    start_index: 32\n",
       "    end_index: 33\n",
       "29. (a_{i})^{b}\n",
       "    core type: Operation\n",
       "    operator: 34\n",
       "    operands: 35\n",
       "30. RealPos\n",
       "    core type: Literal\n",
       "    sub-expressions: \n",
       "31. _a -> a_{_a}\n",
       "    core type: Lambda\n",
       "    parameter: 39\n",
       "    body: 36\n",
       "32. 1\n",
       "    core type: Literal\n",
       "    sub-expressions: \n",
       "33. m\n",
       "    core type: Variable\n",
       "    sub-expressions: \n",
       "34. Exp\n",
       "    core type: Literal\n",
       "    sub-expressions: \n",
       "35. (a_{i}, b)\n",
       "    core type: ExprTuple\n",
       "    sub-expressions: 37, 38\n",
       "36. a_{_a}\n",
       "    core type: IndexedVar\n",
       "variable: 40\n",
       "index: 39\n",
       "37. a_{i}\n",
       "    core type: IndexedVar\n",
       "variable: 40\n",
       "index: 41\n",
       "38. b\n",
       "    core type: Variable\n",
       "    sub-expressions: \n",
       "39. _a\n",
       "    core type: Variable\n",
       "    sub-expressions: \n",
       "40. a\n",
       "    core type: Variable\n",
       "    sub-expressions: \n",
       "41. i\n",
       "    core type: Variable\n",
       "    sub-expressions: "
      ]
     },
     "execution_count": 5,
     "metadata": {},
     "output_type": "execute_result"
    }
   ],
   "source": [
    "# display the expression information\n",
    "expr.expr_info()"
   ]
  },
  {
   "cell_type": "code",
   "execution_count": null,
   "metadata": {},
   "outputs": [],
   "source": []
  }
 ],
 "metadata": {
  "kernelspec": {
   "display_name": "Python 3",
   "language": "python",
   "name": "python3"
  }
 },
 "nbformat": 4,
 "nbformat_minor": 0
}