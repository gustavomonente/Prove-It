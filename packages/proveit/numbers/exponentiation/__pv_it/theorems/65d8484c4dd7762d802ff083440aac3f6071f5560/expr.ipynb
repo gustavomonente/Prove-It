{
 "cells": [
  {
   "cell_type": "markdown",
   "metadata": {},
   "source": [
    "Expression of type <a class=\"ProveItLink\" href=\"../../../../../../../doc/html/api/proveit.ExprTuple.html\">ExprTuple</a>\n",
    "=======================\n",
    "# from the theory of <a class=\"ProveItLink\" href=\"../../../_theory_nbs_/theory.ipynb\">proveit.numbers.exponentiation</a>"
   ]
  },
  {
   "cell_type": "code",
   "execution_count": 1,
   "metadata": {},
   "outputs": [],
   "source": [
    "import proveit\n",
    "# Automation is not needed when building an expression:\n",
    "proveit.defaults.automation = False # This will speed things up.\n",
    "proveit.defaults.inline_pngs = False # Makes files smaller.\n",
    "%load_expr # Load the stored expression as 'stored_expr'\n",
    "# import Expression classes needed to build the expression\n",
    "from proveit import Conditional, ExprTuple, Lambda, a, x, y\n",
    "from proveit.logic import And, InSet\n",
    "from proveit.numbers import Exp, Less, LessEq, Real, greater, zero"
   ]
  },
  {
   "cell_type": "code",
   "execution_count": 2,
   "metadata": {},
   "outputs": [
    {
     "data": {
      "text/html": [
       "<strong id=\"expr\">expr:</strong> <a class=\"ProveItLink\" href=\"expr.ipynb\"><img src=\"expr.png\" style=\"display:inline;vertical-align:middle;\" /></a><br>"
      ],
      "text/plain": [
       "expr: ((a, x, y) -> {x^{a} < y^{a} if a in Real ,  x in Real ,  y in Real ,  0 <= x < y ,  a > 0.)"
      ]
     },
     "execution_count": 2,
     "metadata": {},
     "output_type": "execute_result"
    }
   ],
   "source": [
    "# build up the expression from sub-expressions\n",
    "expr = ExprTuple(Lambda([a, x, y], Conditional(Less(Exp(x, a), Exp(y, a)), And(InSet(a, Real), InSet(x, Real), InSet(y, Real), And(LessEq(zero, x), Less(x, y)).with_total_ordering_style(), greater(a, zero)))))"
   ]
  },
  {
   "cell_type": "code",
   "execution_count": 3,
   "metadata": {},
   "outputs": [
    {
     "name": "stdout",
     "output_type": "stream",
     "text": [
      "Passed sanity check: expr matches stored_expr\n"
     ]
    }
   ],
   "source": [
    "# check that the built expression is the same as the stored expression\n",
    "assert expr == stored_expr\n",
    "assert expr._style_id == stored_expr._style_id\n",
    "print(\"Passed sanity check: expr matches stored_expr\")"
   ]
  },
  {
   "cell_type": "code",
   "execution_count": 4,
   "metadata": {},
   "outputs": [
    {
     "name": "stdout",
     "output_type": "stream",
     "text": [
      "\\left(\\left(a, x, y\\right) \\mapsto \\left\\{x^{a} < y^{a} \\textrm{ if } a \\in \\mathbb{R} ,  x \\in \\mathbb{R} ,  y \\in \\mathbb{R} ,  0 \\leq x < y ,  a > 0\\right..\\right)\n"
     ]
    }
   ],
   "source": [
    "# Show the LaTeX representation of the expression for convenience if you need it.\n",
    "print(expr.latex())"
   ]
  },
  {
   "cell_type": "code",
   "execution_count": 5,
   "metadata": {},
   "outputs": [
    {
     "data": {
      "text/html": [
       "no style options"
      ],
      "text/plain": [
       "no style options"
      ]
     },
     "execution_count": 5,
     "metadata": {},
     "output_type": "execute_result"
    }
   ],
   "source": [
    "expr.style_options()"
   ]
  },
  {
   "cell_type": "code",
   "execution_count": 6,
   "metadata": {},
   "outputs": [
    {
     "data": {
      "text/html": [
       "<table><tr><th>&nbsp;</th><th>core type</th><th>sub-expressions</th><th>expression</th></tr>\n",
       "<tr><td>0</td><td>ExprTuple</td><td>1</td><td><a class=\"ProveItLink\" href=\"expr.ipynb\"><img src=\"expr.png\" style=\"display:inline;vertical-align:middle;\" /></a></td></tr>\n",
       "<tr><td>1</td><td>Lambda</td><td>parameters:&nbsp;2<br>body:&nbsp;3<br></td><td><a class=\"ProveItLink\" href=\"../d8109ecb06120d59ac67fa236f90adacb61049100/expr.ipynb\"><img src=\"../d8109ecb06120d59ac67fa236f90adacb61049100/expr.png\" style=\"display:inline;vertical-align:middle;\" /></a></td></tr>\n",
       "<tr><td>2</td><td>ExprTuple</td><td>28, 34, 35</td><td><a class=\"ProveItLink\" href=\"../71781b96f7c5f6806a53c61a32c5e13694cbab420/expr.ipynb\"><img src=\"../71781b96f7c5f6806a53c61a32c5e13694cbab420/expr.png\" style=\"display:inline;vertical-align:middle;\" /></a></td></tr>\n",
       "<tr><td>3</td><td>Conditional</td><td>value:&nbsp;4<br>condition:&nbsp;5<br></td><td><a class=\"ProveItLink\" href=\"../2665cb8c4fbfc15765f762a126a8f71e057864310/expr.ipynb\"><img src=\"../2665cb8c4fbfc15765f762a126a8f71e057864310/expr.png\" style=\"display:inline;vertical-align:middle;\" /></a></td></tr>\n",
       "<tr><td>4</td><td>Operation</td><td>operator:&nbsp;31<br>operands:&nbsp;6<br></td><td><a class=\"ProveItLink\" href=\"../c659da3492fd3d5b8cec8b1530a9a67e10fa6da10/expr.ipynb\"><img src=\"../c659da3492fd3d5b8cec8b1530a9a67e10fa6da10/expr.png\" style=\"display:inline;vertical-align:middle;\" /></a></td></tr>\n",
       "<tr><td>5</td><td>Operation</td><td>operator:&nbsp;22<br>operands:&nbsp;7<br></td><td><a class=\"ProveItLink\" href=\"../bc3a7d7f8ba4d5e5a61599dedf06f7c92265a53f0/expr.ipynb\"><img src=\"../bc3a7d7f8ba4d5e5a61599dedf06f7c92265a53f0/expr.png\" style=\"display:inline;vertical-align:middle;\" /></a></td></tr>\n",
       "<tr><td>6</td><td>ExprTuple</td><td>8, 9</td><td><a class=\"ProveItLink\" href=\"../41c6ce690dd8c8550b5f63ffb1611f610117e5d30/expr.ipynb\"><img src=\"../41c6ce690dd8c8550b5f63ffb1611f610117e5d30/expr.png\" style=\"display:inline;vertical-align:middle;\" /></a></td></tr>\n",
       "<tr><td>7</td><td>ExprTuple</td><td>10, 11, 12, 13, 14</td><td><a class=\"ProveItLink\" href=\"../fd6efcdf640cff1500b235ec6f901a14dfd536df0/expr.ipynb\"><img src=\"../fd6efcdf640cff1500b235ec6f901a14dfd536df0/expr.png\" style=\"display:inline;vertical-align:middle;\" /></a></td></tr>\n",
       "<tr><td>8</td><td>Operation</td><td>operator:&nbsp;16<br>operands:&nbsp;15<br></td><td><a class=\"ProveItLink\" href=\"../021aaa26087255f73c3ceb80db1bdc43a571af630/expr.ipynb\"><img src=\"../021aaa26087255f73c3ceb80db1bdc43a571af630/expr.png\" style=\"display:inline;vertical-align:middle;\" /></a></td></tr>\n",
       "<tr><td>9</td><td>Operation</td><td>operator:&nbsp;16<br>operands:&nbsp;17<br></td><td><a class=\"ProveItLink\" href=\"../d62f6660a66cab086f99cfd3c6b1c4888e0e77730/expr.ipynb\"><img src=\"../d62f6660a66cab086f99cfd3c6b1c4888e0e77730/expr.png\" style=\"display:inline;vertical-align:middle;\" /></a></td></tr>\n",
       "<tr><td>10</td><td>Operation</td><td>operator:&nbsp;20<br>operands:&nbsp;18<br></td><td><a class=\"ProveItLink\" href=\"../025402c2362cd6ab78a853178f51867b794219b10/expr.ipynb\"><img src=\"../025402c2362cd6ab78a853178f51867b794219b10/expr.png\" style=\"display:inline;vertical-align:middle;\" /></a></td></tr>\n",
       "<tr><td>11</td><td>Operation</td><td>operator:&nbsp;20<br>operands:&nbsp;19<br></td><td><a class=\"ProveItLink\" href=\"../f399694c94d63fe522f8e05f5163f6a5a160a5b80/expr.ipynb\"><img src=\"../f399694c94d63fe522f8e05f5163f6a5a160a5b80/expr.png\" style=\"display:inline;vertical-align:middle;\" /></a></td></tr>\n",
       "<tr><td>12</td><td>Operation</td><td>operator:&nbsp;20<br>operands:&nbsp;21<br></td><td><a class=\"ProveItLink\" href=\"../acfb0eefb0b1b677bba1a9b1bb8fa2b4b46ea3330/expr.ipynb\"><img src=\"../acfb0eefb0b1b677bba1a9b1bb8fa2b4b46ea3330/expr.png\" style=\"display:inline;vertical-align:middle;\" /></a></td></tr>\n",
       "<tr><td>13</td><td>Operation</td><td>operator:&nbsp;22<br>operands:&nbsp;23<br></td><td><a class=\"ProveItLink\" href=\"../6cff11aa8ecf9299e24a611a6ece725b01dd6cec0/expr.ipynb\"><img src=\"../6cff11aa8ecf9299e24a611a6ece725b01dd6cec0/expr.png\" style=\"display:inline;vertical-align:middle;\" /></a></td></tr>\n",
       "<tr><td>14</td><td>Operation</td><td>operator:&nbsp;31<br>operands:&nbsp;24<br></td><td><a class=\"ProveItLink\" href=\"../26e750194c6158c7ee7b78e88988a5da6db47d480/expr.ipynb\"><img src=\"../26e750194c6158c7ee7b78e88988a5da6db47d480/expr.png\" style=\"display:inline;vertical-align:middle;\" /></a></td></tr>\n",
       "<tr><td>15</td><td>ExprTuple</td><td>34, 28</td><td><a class=\"ProveItLink\" href=\"../5d0cb3fd74ec3b46fd2c67bb60a87366ec15d14c0/expr.ipynb\"><img src=\"../5d0cb3fd74ec3b46fd2c67bb60a87366ec15d14c0/expr.png\" style=\"display:inline;vertical-align:middle;\" /></a></td></tr>\n",
       "<tr><td>16</td><td>Literal</td><td></td><td><a class=\"ProveItLink\" href=\"../../common/31d1b89e3c2fad7d997556c69b6be6425b6f59a40/expr.ipynb\"><img src=\"../../common/31d1b89e3c2fad7d997556c69b6be6425b6f59a40/expr.png\" style=\"display:inline;vertical-align:middle;\" /></a></td></tr>\n",
       "<tr><td>17</td><td>ExprTuple</td><td>35, 28</td><td><a class=\"ProveItLink\" href=\"../d24f0f36c3cf1615de4178723310eaf700f2692c0/expr.ipynb\"><img src=\"../d24f0f36c3cf1615de4178723310eaf700f2692c0/expr.png\" style=\"display:inline;vertical-align:middle;\" /></a></td></tr>\n",
       "<tr><td>18</td><td>ExprTuple</td><td>28, 25</td><td><a class=\"ProveItLink\" href=\"../2f245937b4e4b6a29441a8dbb5feb1a4c94c18080/expr.ipynb\"><img src=\"../2f245937b4e4b6a29441a8dbb5feb1a4c94c18080/expr.png\" style=\"display:inline;vertical-align:middle;\" /></a></td></tr>\n",
       "<tr><td>19</td><td>ExprTuple</td><td>34, 25</td><td><a class=\"ProveItLink\" href=\"../55bef9982c7867f2ba0ff0e7b2f4477175e2b1970/expr.ipynb\"><img src=\"../55bef9982c7867f2ba0ff0e7b2f4477175e2b1970/expr.png\" style=\"display:inline;vertical-align:middle;\" /></a></td></tr>\n",
       "<tr><td>20</td><td>Literal</td><td></td><td><a class=\"ProveItLink\" href=\"../../../../../logic/sets/membership/__pv_it/common/7171deca84f71f47a6ec7696972d1632274a12880/expr.ipynb\"><img src=\"../../../../../logic/sets/membership/__pv_it/common/7171deca84f71f47a6ec7696972d1632274a12880/expr.png\" style=\"display:inline;vertical-align:middle;\" /></a></td></tr>\n",
       "<tr><td>21</td><td>ExprTuple</td><td>35, 25</td><td><a class=\"ProveItLink\" href=\"../6ce71d26e191a2627cb4b5feda00ad715df2a9830/expr.ipynb\"><img src=\"../6ce71d26e191a2627cb4b5feda00ad715df2a9830/expr.png\" style=\"display:inline;vertical-align:middle;\" /></a></td></tr>\n",
       "<tr><td>22</td><td>Literal</td><td></td><td><a class=\"ProveItLink\" href=\"../../../../../logic/booleans/conjunction/__pv_it/common/26b94b53e70b1d77b70f0d9d4236347db37731060/expr.ipynb\"><img src=\"../../../../../logic/booleans/conjunction/__pv_it/common/26b94b53e70b1d77b70f0d9d4236347db37731060/expr.png\" style=\"display:inline;vertical-align:middle;\" /></a></td></tr>\n",
       "<tr><td>23</td><td>ExprTuple</td><td>26, 27</td><td><a class=\"ProveItLink\" href=\"../93d1f1ff6befd007d8afc1fa349024f9605ef3670/expr.ipynb\"><img src=\"../93d1f1ff6befd007d8afc1fa349024f9605ef3670/expr.png\" style=\"display:inline;vertical-align:middle;\" /></a></td></tr>\n",
       "<tr><td>24</td><td>ExprTuple</td><td>33, 28</td><td><a class=\"ProveItLink\" href=\"../086e218f682fad492e3d36e55df5a5eb7faa287a0/expr.ipynb\"><img src=\"../086e218f682fad492e3d36e55df5a5eb7faa287a0/expr.png\" style=\"display:inline;vertical-align:middle;\" /></a></td></tr>\n",
       "<tr><td>25</td><td>Literal</td><td></td><td><a class=\"ProveItLink\" href=\"../../../../number_sets/real_numbers/__pv_it/common/3eaf53c11933bb30b35e82c24807c695de530cf10/expr.ipynb\"><img src=\"../../../../number_sets/real_numbers/__pv_it/common/3eaf53c11933bb30b35e82c24807c695de530cf10/expr.png\" style=\"display:inline;vertical-align:middle;\" /></a></td></tr>\n",
       "<tr><td>26</td><td>Operation</td><td>operator:&nbsp;29<br>operands:&nbsp;30<br></td><td><a class=\"ProveItLink\" href=\"../a69bfb0af20895c98461b41978842f8e95fc2ad00/expr.ipynb\"><img src=\"../a69bfb0af20895c98461b41978842f8e95fc2ad00/expr.png\" style=\"display:inline;vertical-align:middle;\" /></a></td></tr>\n",
       "<tr><td>27</td><td>Operation</td><td>operator:&nbsp;31<br>operands:&nbsp;32<br></td><td><a class=\"ProveItLink\" href=\"../45dd0de6dc0d120b6e822bf6f5d41332c7ca59620/expr.ipynb\"><img src=\"../45dd0de6dc0d120b6e822bf6f5d41332c7ca59620/expr.png\" style=\"display:inline;vertical-align:middle;\" /></a></td></tr>\n",
       "<tr><td>28</td><td>Variable</td><td></td><td><a class=\"ProveItLink\" href=\"../../../../../__pv_it/common/66c90e66682f107a881f2d666959f64e2e72ad750/expr.ipynb\"><img src=\"../../../../../__pv_it/common/66c90e66682f107a881f2d666959f64e2e72ad750/expr.png\" style=\"display:inline;vertical-align:middle;\" /></a></td></tr>\n",
       "<tr><td>29</td><td>Literal</td><td></td><td><a class=\"ProveItLink\" href=\"../../../../ordering/__pv_it/common/b7491c9b87613cffc9e4ec0625a0f1afacbe2cbd0/expr.ipynb\"><img src=\"../../../../ordering/__pv_it/common/b7491c9b87613cffc9e4ec0625a0f1afacbe2cbd0/expr.png\" style=\"display:inline;vertical-align:middle;\" /></a></td></tr>\n",
       "<tr><td>30</td><td>ExprTuple</td><td>33, 34</td><td><a class=\"ProveItLink\" href=\"../a4825637688461b9f46b66a292ca6fe754dd63200/expr.ipynb\"><img src=\"../a4825637688461b9f46b66a292ca6fe754dd63200/expr.png\" style=\"display:inline;vertical-align:middle;\" /></a></td></tr>\n",
       "<tr><td>31</td><td>Literal</td><td></td><td><a class=\"ProveItLink\" href=\"../../../../ordering/__pv_it/common/28edf56075f82c850836d8cd79dbcacf62e589820/expr.ipynb\"><img src=\"../../../../ordering/__pv_it/common/28edf56075f82c850836d8cd79dbcacf62e589820/expr.png\" style=\"display:inline;vertical-align:middle;\" /></a></td></tr>\n",
       "<tr><td>32</td><td>ExprTuple</td><td>34, 35</td><td><a class=\"ProveItLink\" href=\"../ef4dae65d3387950a2be9c6d13839307bdb1f9ee0/expr.ipynb\"><img src=\"../ef4dae65d3387950a2be9c6d13839307bdb1f9ee0/expr.png\" style=\"display:inline;vertical-align:middle;\" /></a></td></tr>\n",
       "<tr><td>33</td><td>Literal</td><td></td><td><a class=\"ProveItLink\" href=\"../../../../numerals/__pv_it/common/c35fdf7268947ca3e24174d2909dc9d0a7f3aac60/expr.ipynb\"><img src=\"../../../../numerals/__pv_it/common/c35fdf7268947ca3e24174d2909dc9d0a7f3aac60/expr.png\" style=\"display:inline;vertical-align:middle;\" /></a></td></tr>\n",
       "<tr><td>34</td><td>Variable</td><td></td><td><a class=\"ProveItLink\" href=\"../../../../../__pv_it/common/a2581dc5df71d9a30bad37de14965fa5fec97a240/expr.ipynb\"><img src=\"../../../../../__pv_it/common/a2581dc5df71d9a30bad37de14965fa5fec97a240/expr.png\" style=\"display:inline;vertical-align:middle;\" /></a></td></tr>\n",
       "<tr><td>35</td><td>Variable</td><td></td><td><a class=\"ProveItLink\" href=\"../../../../../__pv_it/common/0f21cbfd5644a1cae6781c1d58354abc2ffbc9000/expr.ipynb\"><img src=\"../../../../../__pv_it/common/0f21cbfd5644a1cae6781c1d58354abc2ffbc9000/expr.png\" style=\"display:inline;vertical-align:middle;\" /></a></td></tr>\n",
       "</table>\n"
      ],
      "text/plain": [
       "0. ((a, x, y) -> {x^{a} < y^{a} if a in Real ,  x in Real ,  y in Real ,  0 <= x < y ,  a > 0.)\n",
       "   core type: ExprTuple\n",
       "   sub-expressions: 1\n",
       "1. (a, x, y) -> {x^{a} < y^{a} if a in Real ,  x in Real ,  y in Real ,  0 <= x < y ,  a > 0.\n",
       "   core type: Lambda\n",
       "   parameters: 2\\n   body: 3\n",
       "2. (a, x, y)\n",
       "   core type: ExprTuple\n",
       "   sub-expressions: 28, 34, 35\n",
       "3. {x^{a} < y^{a} if a in Real ,  x in Real ,  y in Real ,  0 <= x < y ,  a > 0.\n",
       "   core type: Conditional\n",
       "   value: 4\n",
       "   condition: 5\n",
       "4. x^{a} < y^{a}\n",
       "   core type: Operation\n",
       "   operator: 31\n",
       "   operands: 6\n",
       "5. (a in Real) and (x in Real) and (y in Real) and (0 <= x < y) and (a > 0)\n",
       "   core type: Operation\n",
       "   operator: 22\n",
       "   operands: 7\n",
       "6. (x^{a}, y^{a})\n",
       "   core type: ExprTuple\n",
       "   sub-expressions: 8, 9\n",
       "7. (a in Real, x in Real, y in Real, 0 <= x < y, a > 0)\n",
       "   core type: ExprTuple\n",
       "   sub-expressions: 10, 11, 12, 13, 14\n",
       "8. x^{a}\n",
       "   core type: Operation\n",
       "   operator: 16\n",
       "   operands: 15\n",
       "9. y^{a}\n",
       "   core type: Operation\n",
       "   operator: 16\n",
       "   operands: 17\n",
       "10. a in Real\n",
       "    core type: Operation\n",
       "    operator: 20\n",
       "    operands: 18\n",
       "11. x in Real\n",
       "    core type: Operation\n",
       "    operator: 20\n",
       "    operands: 19\n",
       "12. y in Real\n",
       "    core type: Operation\n",
       "    operator: 20\n",
       "    operands: 21\n",
       "13. 0 <= x < y\n",
       "    core type: Operation\n",
       "    operator: 22\n",
       "    operands: 23\n",
       "14. a > 0\n",
       "    core type: Operation\n",
       "    operator: 31\n",
       "    operands: 24\n",
       "15. (x, a)\n",
       "    core type: ExprTuple\n",
       "    sub-expressions: 34, 28\n",
       "16. Exp\n",
       "    core type: Literal\n",
       "    sub-expressions: \n",
       "17. (y, a)\n",
       "    core type: ExprTuple\n",
       "    sub-expressions: 35, 28\n",
       "18. (a, Real)\n",
       "    core type: ExprTuple\n",
       "    sub-expressions: 28, 25\n",
       "19. (x, Real)\n",
       "    core type: ExprTuple\n",
       "    sub-expressions: 34, 25\n",
       "20. in\n",
       "    core type: Literal\n",
       "    sub-expressions: \n",
       "21. (y, Real)\n",
       "    core type: ExprTuple\n",
       "    sub-expressions: 35, 25\n",
       "22. and\n",
       "    core type: Literal\n",
       "    sub-expressions: \n",
       "23. (0 <= x, x < y)\n",
       "    core type: ExprTuple\n",
       "    sub-expressions: 26, 27\n",
       "24. (0, a)\n",
       "    core type: ExprTuple\n",
       "    sub-expressions: 33, 28\n",
       "25. Real\n",
       "    core type: Literal\n",
       "    sub-expressions: \n",
       "26. 0 <= x\n",
       "    core type: Operation\n",
       "    operator: 29\n",
       "    operands: 30\n",
       "27. x < y\n",
       "    core type: Operation\n",
       "    operator: 31\n",
       "    operands: 32\n",
       "28. a\n",
       "    core type: Variable\n",
       "    sub-expressions: \n",
       "29. <=\n",
       "    core type: Literal\n",
       "    sub-expressions: \n",
       "30. (0, x)\n",
       "    core type: ExprTuple\n",
       "    sub-expressions: 33, 34\n",
       "31. <\n",
       "    core type: Literal\n",
       "    sub-expressions: \n",
       "32. (x, y)\n",
       "    core type: ExprTuple\n",
       "    sub-expressions: 34, 35\n",
       "33. 0\n",
       "    core type: Literal\n",
       "    sub-expressions: \n",
       "34. x\n",
       "    core type: Variable\n",
       "    sub-expressions: \n",
       "35. y\n",
       "    core type: Variable\n",
       "    sub-expressions: "
      ]
     },
     "execution_count": 6,
     "metadata": {},
     "output_type": "execute_result"
    }
   ],
   "source": [
    "# display the expression information\n",
    "expr.expr_info()"
   ]
  },
  {
   "cell_type": "code",
   "execution_count": null,
   "metadata": {},
   "outputs": [],
   "source": []
  }
 ],
 "metadata": {
  "kernelspec": {
   "display_name": "Python 3",
   "language": "python",
   "name": "python3"
  }
 },
 "nbformat": 4,
 "nbformat_minor": 0
}