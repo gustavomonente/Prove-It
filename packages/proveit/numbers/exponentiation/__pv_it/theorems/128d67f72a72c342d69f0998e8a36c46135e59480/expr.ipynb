{
 "cells": [
  {
   "cell_type": "markdown",
   "metadata": {},
   "source": [
    "Expression of type <a class=\"ProveItLink\" href=\"../../../../../../../doc/html/api/proveit.ExprTuple.html\">ExprTuple</a>\n",
    "=======================\n",
    "# from the theory of <a class=\"ProveItLink\" href=\"../../../_theory_nbs_/theory.ipynb\">proveit.numbers.exponentiation</a>"
   ]
  },
  {
   "cell_type": "code",
   "execution_count": 1,
   "metadata": {},
   "outputs": [],
   "source": [
    "import proveit\n",
    "# Automation is not needed when building an expression:\n",
    "proveit.defaults.automation = False # This will speed things up.\n",
    "proveit.defaults.inline_pngs = False # Makes files smaller.\n",
    "%load_expr # Load the stored expression as 'stored_expr'\n",
    "# import Expression classes needed to build the expression\n",
    "from proveit import ExprTuple, a, b, c\n",
    "from proveit.numbers import Exp, frac"
   ]
  },
  {
   "cell_type": "code",
   "execution_count": 2,
   "metadata": {},
   "outputs": [
    {
     "data": {
      "text/html": [
       "<strong id=\"expr\">expr:</strong> <a class=\"ProveItLink\" href=\"expr.ipynb\"><img src=\"expr.png\" style=\"display:inline;vertical-align:middle;\" /></a><br>"
      ],
      "text/plain": [
       "expr: ((a / b)^{c}, a^{c} / b^{c})"
      ]
     },
     "execution_count": 2,
     "metadata": {},
     "output_type": "execute_result"
    }
   ],
   "source": [
    "# build up the expression from sub-expressions\n",
    "expr = ExprTuple(Exp(frac(a, b), c), frac(Exp(a, c), Exp(b, c)))"
   ]
  },
  {
   "cell_type": "code",
   "execution_count": 3,
   "metadata": {},
   "outputs": [
    {
     "name": "stdout",
     "output_type": "stream",
     "text": [
      "Passed sanity check: expr matches stored_expr\n"
     ]
    }
   ],
   "source": [
    "# check that the built expression is the same as the stored expression\n",
    "assert expr == stored_expr\n",
    "assert expr._style_id == stored_expr._style_id\n",
    "print(\"Passed sanity check: expr matches stored_expr\")"
   ]
  },
  {
   "cell_type": "code",
   "execution_count": 4,
   "metadata": {},
   "outputs": [
    {
     "name": "stdout",
     "output_type": "stream",
     "text": [
      "\\left(\\left(\\frac{a}{b}\\right)^{c}, \\frac{a^{c}}{b^{c}}\\right)\n"
     ]
    }
   ],
   "source": [
    "# Show the LaTeX representation of the expression for convenience if you need it.\n",
    "print(expr.latex())"
   ]
  },
  {
   "cell_type": "code",
   "execution_count": 5,
   "metadata": {},
   "outputs": [
    {
     "data": {
      "text/html": [
       "<table><tr><th>&nbsp;</th><th>core type</th><th>sub-expressions</th><th>expression</th></tr>\n",
       "<tr><td>0</td><td>ExprTuple</td><td>1, 2</td><td><a class=\"ProveItLink\" href=\"expr.ipynb\"><img src=\"expr.png\" style=\"display:inline;vertical-align:middle;\" /></a></td></tr>\n",
       "<tr><td>1</td><td>Operation</td><td>operator:&nbsp;11<br>operands:&nbsp;3<br></td><td><a class=\"ProveItLink\" href=\"../730b1bb57339523394c80487ebf45c894cd1774f0/expr.ipynb\"><img src=\"../730b1bb57339523394c80487ebf45c894cd1774f0/expr.png\" style=\"display:inline;vertical-align:middle;\" /></a></td></tr>\n",
       "<tr><td>2</td><td>Operation</td><td>operator:&nbsp;8<br>operands:&nbsp;4<br></td><td><a class=\"ProveItLink\" href=\"../5c254b51b9ac2b5aa947f9947887456fcf512a880/expr.ipynb\"><img src=\"../5c254b51b9ac2b5aa947f9947887456fcf512a880/expr.png\" style=\"display:inline;vertical-align:middle;\" /></a></td></tr>\n",
       "<tr><td>3</td><td>ExprTuple</td><td>5, 15</td><td><a class=\"ProveItLink\" href=\"../5d843049ae28ae8088c09ecee9ea73d1c653173f0/expr.ipynb\"><img src=\"../5d843049ae28ae8088c09ecee9ea73d1c653173f0/expr.png\" style=\"display:inline;vertical-align:middle;\" /></a></td></tr>\n",
       "<tr><td>4</td><td>ExprTuple</td><td>6, 7</td><td><a class=\"ProveItLink\" href=\"../16576e1ccfa195d4f12830ac9a7a6371c6cc1efd0/expr.ipynb\"><img src=\"../16576e1ccfa195d4f12830ac9a7a6371c6cc1efd0/expr.png\" style=\"display:inline;vertical-align:middle;\" /></a></td></tr>\n",
       "<tr><td>5</td><td>Operation</td><td>operator:&nbsp;8<br>operands:&nbsp;9<br></td><td><a class=\"ProveItLink\" href=\"../72bd385daf44df6471b7e14791b822271937fdef0/expr.ipynb\"><img src=\"../72bd385daf44df6471b7e14791b822271937fdef0/expr.png\" style=\"display:inline;vertical-align:middle;\" /></a></td></tr>\n",
       "<tr><td>6</td><td>Operation</td><td>operator:&nbsp;11<br>operands:&nbsp;10<br></td><td><a class=\"ProveItLink\" href=\"../27f9a2c7bfc5d9b99a5cc0041ba38fadf83530050/expr.ipynb\"><img src=\"../27f9a2c7bfc5d9b99a5cc0041ba38fadf83530050/expr.png\" style=\"display:inline;vertical-align:middle;\" /></a></td></tr>\n",
       "<tr><td>7</td><td>Operation</td><td>operator:&nbsp;11<br>operands:&nbsp;12<br></td><td><a class=\"ProveItLink\" href=\"../382e7924ca0c29f496cab300e25805ca7967ffc70/expr.ipynb\"><img src=\"../382e7924ca0c29f496cab300e25805ca7967ffc70/expr.png\" style=\"display:inline;vertical-align:middle;\" /></a></td></tr>\n",
       "<tr><td>8</td><td>Literal</td><td></td><td><a class=\"ProveItLink\" href=\"../../../../division/__pv_it/common/a2a633e1e3c749fb1f2692466b287b6348c5de840/expr.ipynb\"><img src=\"../../../../division/__pv_it/common/a2a633e1e3c749fb1f2692466b287b6348c5de840/expr.png\" style=\"display:inline;vertical-align:middle;\" /></a></td></tr>\n",
       "<tr><td>9</td><td>ExprTuple</td><td>13, 14</td><td><a class=\"ProveItLink\" href=\"../0e00cf301f391b9db3f5ff72911e8e2539c94fb00/expr.ipynb\"><img src=\"../0e00cf301f391b9db3f5ff72911e8e2539c94fb00/expr.png\" style=\"display:inline;vertical-align:middle;\" /></a></td></tr>\n",
       "<tr><td>10</td><td>ExprTuple</td><td>13, 15</td><td><a class=\"ProveItLink\" href=\"../039fdf66ffde18d0d1213fa5bf2479cef0055bf60/expr.ipynb\"><img src=\"../039fdf66ffde18d0d1213fa5bf2479cef0055bf60/expr.png\" style=\"display:inline;vertical-align:middle;\" /></a></td></tr>\n",
       "<tr><td>11</td><td>Literal</td><td></td><td><a class=\"ProveItLink\" href=\"../../common/0ac37aca1e54c35c5cda09672df32d4f69f1f3020/expr.ipynb\"><img src=\"../../common/0ac37aca1e54c35c5cda09672df32d4f69f1f3020/expr.png\" style=\"display:inline;vertical-align:middle;\" /></a></td></tr>\n",
       "<tr><td>12</td><td>ExprTuple</td><td>14, 15</td><td><a class=\"ProveItLink\" href=\"../ea14791db14e0ed368912e6780268cd495c4577d0/expr.ipynb\"><img src=\"../ea14791db14e0ed368912e6780268cd495c4577d0/expr.png\" style=\"display:inline;vertical-align:middle;\" /></a></td></tr>\n",
       "<tr><td>13</td><td>Variable</td><td></td><td><a class=\"ProveItLink\" href=\"../../../../../__pv_it/common/c06c606ec12678c58933ac85412ecadc2ae28be60/expr.ipynb\"><img src=\"../../../../../__pv_it/common/c06c606ec12678c58933ac85412ecadc2ae28be60/expr.png\" style=\"display:inline;vertical-align:middle;\" /></a></td></tr>\n",
       "<tr><td>14</td><td>Variable</td><td></td><td><a class=\"ProveItLink\" href=\"../../../../../__pv_it/common/195236b98c6c564a75b5dbada74b173bc52d5c3e0/expr.ipynb\"><img src=\"../../../../../__pv_it/common/195236b98c6c564a75b5dbada74b173bc52d5c3e0/expr.png\" style=\"display:inline;vertical-align:middle;\" /></a></td></tr>\n",
       "<tr><td>15</td><td>Variable</td><td></td><td><a class=\"ProveItLink\" href=\"../../../../../__pv_it/common/ceef4280a2f1cc604b455b54e735507244cc62cd0/expr.ipynb\"><img src=\"../../../../../__pv_it/common/ceef4280a2f1cc604b455b54e735507244cc62cd0/expr.png\" style=\"display:inline;vertical-align:middle;\" /></a></td></tr>\n",
       "</table>\n"
      ],
      "text/plain": [
       "0. ((a / b)^{c}, a^{c} / b^{c})\n",
       "   core type: ExprTuple\n",
       "   sub-expressions: 1, 2\n",
       "1. (a / b)^{c}\n",
       "   core type: Operation\n",
       "   operator: 11\n",
       "   operands: 3\n",
       "2. a^{c} / b^{c}\n",
       "   core type: Operation\n",
       "   operator: 8\n",
       "   operands: 4\n",
       "3. (a / b, c)\n",
       "   core type: ExprTuple\n",
       "   sub-expressions: 5, 15\n",
       "4. (a^{c}, b^{c})\n",
       "   core type: ExprTuple\n",
       "   sub-expressions: 6, 7\n",
       "5. a / b\n",
       "   core type: Operation\n",
       "   operator: 8\n",
       "   operands: 9\n",
       "6. a^{c}\n",
       "   core type: Operation\n",
       "   operator: 11\n",
       "   operands: 10\n",
       "7. b^{c}\n",
       "   core type: Operation\n",
       "   operator: 11\n",
       "   operands: 12\n",
       "8. /\n",
       "   core type: Literal\n",
       "   sub-expressions: \n",
       "9. (a, b)\n",
       "   core type: ExprTuple\n",
       "   sub-expressions: 13, 14\n",
       "10. (a, c)\n",
       "    core type: ExprTuple\n",
       "    sub-expressions: 13, 15\n",
       "11. Exp\n",
       "    core type: Literal\n",
       "    sub-expressions: \n",
       "12. (b, c)\n",
       "    core type: ExprTuple\n",
       "    sub-expressions: 14, 15\n",
       "13. a\n",
       "    core type: Variable\n",
       "    sub-expressions: \n",
       "14. b\n",
       "    core type: Variable\n",
       "    sub-expressions: \n",
       "15. c\n",
       "    core type: Variable\n",
       "    sub-expressions: "
      ]
     },
     "execution_count": 5,
     "metadata": {},
     "output_type": "execute_result"
    }
   ],
   "source": [
    "# display the expression information\n",
    "expr.expr_info()"
   ]
  },
  {
   "cell_type": "code",
   "execution_count": null,
   "metadata": {},
   "outputs": [],
   "source": []
  }
 ],
 "metadata": {
  "kernelspec": {
   "display_name": "Python 3",
   "language": "python",
   "name": "python3"
  }
 },
 "nbformat": 4,
 "nbformat_minor": 0
}