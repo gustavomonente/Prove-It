{
 "cells": [
  {
   "cell_type": "markdown",
   "metadata": {},
   "source": [
    "Expression of type <a class=\"ProveItLink\" href=\"../../../../../../../doc/html/api/proveit.ExprTuple.html\">ExprTuple</a>\n",
    "=======================\n",
    "# from the theory of <a class=\"ProveItLink\" href=\"../../../_theory_nbs_/theory.ipynb\">proveit.numbers.exponentiation</a>"
   ]
  },
  {
   "cell_type": "code",
   "execution_count": 1,
   "metadata": {},
   "outputs": [],
   "source": [
    "import proveit\n",
    "# Automation is not needed when building an expression:\n",
    "proveit.defaults.automation = False # This will speed things up.\n",
    "proveit.defaults.inline_pngs = False # Makes files smaller.\n",
    "%load_expr # Load the stored expression as 'stored_expr'\n",
    "# import Expression classes needed to build the expression\n",
    "from proveit import ExprTuple\n",
    "from proveit.numbers import Add, Exp, Mult, frac, one, two"
   ]
  },
  {
   "cell_type": "code",
   "execution_count": 2,
   "metadata": {},
   "outputs": [
    {
     "data": {
      "text/html": [
       "<strong id=\"expr\">expr:</strong> <a class=\"ProveItLink\" href=\"expr.ipynb\"><img src=\"expr.png\" style=\"display:inline;vertical-align:middle;\" /></a><br>"
      ],
      "text/plain": [
       "expr: (2^{1 / 2} * 2^{1 / 2}, 2^{(1 / 2) + (1 / 2)})"
      ]
     },
     "execution_count": 2,
     "metadata": {},
     "output_type": "execute_result"
    }
   ],
   "source": [
    "# build up the expression from sub-expressions\n",
    "sub_expr1 = frac(one, two)\n",
    "sub_expr2 = Exp(two, sub_expr1)\n",
    "expr = ExprTuple(Mult(sub_expr2, sub_expr2), Exp(two, Add(sub_expr1, sub_expr1)))"
   ]
  },
  {
   "cell_type": "code",
   "execution_count": 3,
   "metadata": {},
   "outputs": [
    {
     "name": "stdout",
     "output_type": "stream",
     "text": [
      "Passed sanity check: expr matches stored_expr\n"
     ]
    }
   ],
   "source": [
    "# check that the built expression is the same as the stored expression\n",
    "assert expr == stored_expr\n",
    "assert expr._style_id == stored_expr._style_id\n",
    "print(\"Passed sanity check: expr matches stored_expr\")"
   ]
  },
  {
   "cell_type": "code",
   "execution_count": 4,
   "metadata": {},
   "outputs": [
    {
     "name": "stdout",
     "output_type": "stream",
     "text": [
      "\\left(2^{\\frac{1}{2}} \\cdot 2^{\\frac{1}{2}}, 2^{\\frac{1}{2} + \\frac{1}{2}}\\right)\n"
     ]
    }
   ],
   "source": [
    "# Show the LaTeX representation of the expression for convenience if you need it.\n",
    "print(expr.latex())"
   ]
  },
  {
   "cell_type": "code",
   "execution_count": 5,
   "metadata": {},
   "outputs": [
    {
     "data": {
      "text/html": [
       "<table><tr><th>&nbsp;</th><th>core type</th><th>sub-expressions</th><th>expression</th></tr>\n",
       "<tr><td>0</td><td>ExprTuple</td><td>1, 2</td><td><a class=\"ProveItLink\" href=\"expr.ipynb\"><img src=\"expr.png\" style=\"display:inline;vertical-align:middle;\" /></a></td></tr>\n",
       "<tr><td>1</td><td>Operation</td><td>operator:&nbsp;3<br>operands:&nbsp;4<br></td><td><a class=\"ProveItLink\" href=\"../99cc1d3f06b5c6ae3f8f63c3e1440ad205f8edd60/expr.ipynb\"><img src=\"../99cc1d3f06b5c6ae3f8f63c3e1440ad205f8edd60/expr.png\" style=\"display:inline;vertical-align:middle;\" /></a></td></tr>\n",
       "<tr><td>2</td><td>Operation</td><td>operator:&nbsp;8<br>operands:&nbsp;5<br></td><td><a class=\"ProveItLink\" href=\"../24a4bf4e85dd78f8bb473ec546d106b2712eab660/expr.ipynb\"><img src=\"../24a4bf4e85dd78f8bb473ec546d106b2712eab660/expr.png\" style=\"display:inline;vertical-align:middle;\" /></a></td></tr>\n",
       "<tr><td>3</td><td>Literal</td><td></td><td><a class=\"ProveItLink\" href=\"../../../../multiplication/__pv_it/common/ed719cef37831779c16481533a4d380a2f95ab270/expr.ipynb\"><img src=\"../../../../multiplication/__pv_it/common/ed719cef37831779c16481533a4d380a2f95ab270/expr.png\" style=\"display:inline;vertical-align:middle;\" /></a></td></tr>\n",
       "<tr><td>4</td><td>ExprTuple</td><td>6, 6</td><td><a class=\"ProveItLink\" href=\"../d0611c5fc1819e4ae05cf989c44264b08588829b0/expr.ipynb\"><img src=\"../d0611c5fc1819e4ae05cf989c44264b08588829b0/expr.png\" style=\"display:inline;vertical-align:middle;\" /></a></td></tr>\n",
       "<tr><td>5</td><td>ExprTuple</td><td>16, 7</td><td><a class=\"ProveItLink\" href=\"../ab163263095db6dec6d6f3b30ad7daa60ce141560/expr.ipynb\"><img src=\"../ab163263095db6dec6d6f3b30ad7daa60ce141560/expr.png\" style=\"display:inline;vertical-align:middle;\" /></a></td></tr>\n",
       "<tr><td>6</td><td>Operation</td><td>operator:&nbsp;8<br>operands:&nbsp;9<br></td><td><a class=\"ProveItLink\" href=\"../5569c1ada77513aaa54033b0475305ed000357e20/expr.ipynb\"><img src=\"../5569c1ada77513aaa54033b0475305ed000357e20/expr.png\" style=\"display:inline;vertical-align:middle;\" /></a></td></tr>\n",
       "<tr><td>7</td><td>Operation</td><td>operator:&nbsp;10<br>operands:&nbsp;11<br></td><td><a class=\"ProveItLink\" href=\"../fe949426a04199d90a30fd060addf607c718f91e0/expr.ipynb\"><img src=\"../fe949426a04199d90a30fd060addf607c718f91e0/expr.png\" style=\"display:inline;vertical-align:middle;\" /></a></td></tr>\n",
       "<tr><td>8</td><td>Literal</td><td></td><td><a class=\"ProveItLink\" href=\"../../common/0ac37aca1e54c35c5cda09672df32d4f69f1f3020/expr.ipynb\"><img src=\"../../common/0ac37aca1e54c35c5cda09672df32d4f69f1f3020/expr.png\" style=\"display:inline;vertical-align:middle;\" /></a></td></tr>\n",
       "<tr><td>9</td><td>ExprTuple</td><td>16, 12</td><td><a class=\"ProveItLink\" href=\"../a9ea254ffc7ef9952b61431cc875321b2d84d4010/expr.ipynb\"><img src=\"../a9ea254ffc7ef9952b61431cc875321b2d84d4010/expr.png\" style=\"display:inline;vertical-align:middle;\" /></a></td></tr>\n",
       "<tr><td>10</td><td>Literal</td><td></td><td><a class=\"ProveItLink\" href=\"../../../../addition/__pv_it/common/4b7effaab3619a1c2c38fe2dee8601df8ec714590/expr.ipynb\"><img src=\"../../../../addition/__pv_it/common/4b7effaab3619a1c2c38fe2dee8601df8ec714590/expr.png\" style=\"display:inline;vertical-align:middle;\" /></a></td></tr>\n",
       "<tr><td>11</td><td>ExprTuple</td><td>12, 12</td><td><a class=\"ProveItLink\" href=\"../cea95076ba6895cf2a6df25b657a9e11073c58680/expr.ipynb\"><img src=\"../cea95076ba6895cf2a6df25b657a9e11073c58680/expr.png\" style=\"display:inline;vertical-align:middle;\" /></a></td></tr>\n",
       "<tr><td>12</td><td>Operation</td><td>operator:&nbsp;13<br>operands:&nbsp;14<br></td><td><a class=\"ProveItLink\" href=\"../../theorems/ed794d0dec5d34befefe372b8b03b9df7b69ac470/expr.ipynb\"><img src=\"../../theorems/ed794d0dec5d34befefe372b8b03b9df7b69ac470/expr.png\" style=\"display:inline;vertical-align:middle;\" /></a></td></tr>\n",
       "<tr><td>13</td><td>Literal</td><td></td><td><a class=\"ProveItLink\" href=\"../../../../division/__pv_it/common/a2a633e1e3c749fb1f2692466b287b6348c5de840/expr.ipynb\"><img src=\"../../../../division/__pv_it/common/a2a633e1e3c749fb1f2692466b287b6348c5de840/expr.png\" style=\"display:inline;vertical-align:middle;\" /></a></td></tr>\n",
       "<tr><td>14</td><td>ExprTuple</td><td>15, 16</td><td><a class=\"ProveItLink\" href=\"../../theorems/95fdce2c03f4c1a2c47c63453ccf25285abc1a5c0/expr.ipynb\"><img src=\"../../theorems/95fdce2c03f4c1a2c47c63453ccf25285abc1a5c0/expr.png\" style=\"display:inline;vertical-align:middle;\" /></a></td></tr>\n",
       "<tr><td>15</td><td>Literal</td><td></td><td><a class=\"ProveItLink\" href=\"../../../../numerals/__pv_it/common/2778428c7f555b2bdc06aa0530bc142c6e6335100/expr.ipynb\"><img src=\"../../../../numerals/__pv_it/common/2778428c7f555b2bdc06aa0530bc142c6e6335100/expr.png\" style=\"display:inline;vertical-align:middle;\" /></a></td></tr>\n",
       "<tr><td>16</td><td>Literal</td><td></td><td><a class=\"ProveItLink\" href=\"../../../../numerals/__pv_it/common/ba3b059982e8b49413dc653e957beb11e974e4bc0/expr.ipynb\"><img src=\"../../../../numerals/__pv_it/common/ba3b059982e8b49413dc653e957beb11e974e4bc0/expr.png\" style=\"display:inline;vertical-align:middle;\" /></a></td></tr>\n",
       "</table>\n"
      ],
      "text/plain": [
       "0. (2^{1 / 2} * 2^{1 / 2}, 2^{(1 / 2) + (1 / 2)})\n",
       "   core type: ExprTuple\n",
       "   sub-expressions: 1, 2\n",
       "1. 2^{1 / 2} * 2^{1 / 2}\n",
       "   core type: Operation\n",
       "   operator: 3\n",
       "   operands: 4\n",
       "2. 2^{(1 / 2) + (1 / 2)}\n",
       "   core type: Operation\n",
       "   operator: 8\n",
       "   operands: 5\n",
       "3. *\n",
       "   core type: Literal\n",
       "   sub-expressions: \n",
       "4. (2^{1 / 2}, 2^{1 / 2})\n",
       "   core type: ExprTuple\n",
       "   sub-expressions: 6, 6\n",
       "5. (2, (1 / 2) + (1 / 2))\n",
       "   core type: ExprTuple\n",
       "   sub-expressions: 16, 7\n",
       "6. 2^{1 / 2}\n",
       "   core type: Operation\n",
       "   operator: 8\n",
       "   operands: 9\n",
       "7. (1 / 2) + (1 / 2)\n",
       "   core type: Operation\n",
       "   operator: 10\n",
       "   operands: 11\n",
       "8. Exp\n",
       "   core type: Literal\n",
       "   sub-expressions: \n",
       "9. (2, 1 / 2)\n",
       "   core type: ExprTuple\n",
       "   sub-expressions: 16, 12\n",
       "10. +\n",
       "    core type: Literal\n",
       "    sub-expressions: \n",
       "11. (1 / 2, 1 / 2)\n",
       "    core type: ExprTuple\n",
       "    sub-expressions: 12, 12\n",
       "12. 1 / 2\n",
       "    core type: Operation\n",
       "    operator: 13\n",
       "    operands: 14\n",
       "13. /\n",
       "    core type: Literal\n",
       "    sub-expressions: \n",
       "14. (1, 2)\n",
       "    core type: ExprTuple\n",
       "    sub-expressions: 15, 16\n",
       "15. 1\n",
       "    core type: Literal\n",
       "    sub-expressions: \n",
       "16. 2\n",
       "    core type: Literal\n",
       "    sub-expressions: "
      ]
     },
     "execution_count": 5,
     "metadata": {},
     "output_type": "execute_result"
    }
   ],
   "source": [
    "# display the expression information\n",
    "expr.expr_info()"
   ]
  },
  {
   "cell_type": "code",
   "execution_count": null,
   "metadata": {},
   "outputs": [],
   "source": []
  }
 ],
 "metadata": {
  "kernelspec": {
   "display_name": "Python 3",
   "language": "python",
   "name": "python3"
  }
 },
 "nbformat": 4,
 "nbformat_minor": 0
}