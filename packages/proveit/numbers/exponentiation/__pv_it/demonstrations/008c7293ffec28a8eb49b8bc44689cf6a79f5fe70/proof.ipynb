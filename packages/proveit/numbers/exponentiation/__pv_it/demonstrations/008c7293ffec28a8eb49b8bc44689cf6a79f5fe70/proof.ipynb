{
 "cells": [
  {
   "cell_type": "markdown",
   "metadata": {},
   "source": [
    "Show the Proof\n",
    "========"
   ]
  },
  {
   "cell_type": "code",
   "execution_count": 1,
   "metadata": {},
   "outputs": [
    {
     "data": {
      "text/html": [
       "<table><tr><th>&nbsp;</th><th>step type</th><th>requirements</th><th>statement</th></tr>\n",
       "<tr><td><a name=\"proveit.numbers.exponentiation.demonstrations.008c7293ffec28a8eb49b8bc44689cf6a79f5fe70_step0\">0</a></td><td>instantiation</td><td><a href=\"#proveit.numbers.exponentiation.demonstrations.008c7293ffec28a8eb49b8bc44689cf6a79f5fe70_step1\">1</a>, <a href=\"#proveit.numbers.exponentiation.demonstrations.008c7293ffec28a8eb49b8bc44689cf6a79f5fe70_step2\">2</a>, <a href=\"#proveit.numbers.exponentiation.demonstrations.008c7293ffec28a8eb49b8bc44689cf6a79f5fe70_step3\">3</a></td><td><span style=\"font-size:20px;\"> <a class=\"ProveItLink\" href=\"proof.ipynb\" style=\"text-decoration: none\">&nbsp;&#x22A2;&nbsp;&nbsp;</a><a class=\"ProveItLink\" href=\"../b30057aba9d008f3e7028b8b2d824189231002ae0/expr.ipynb\"><img src=\"../b30057aba9d008f3e7028b8b2d824189231002ae0/expr.png\" style=\"display:inline;vertical-align:middle;\" /></a></span></td></tr>\n",
       "<tr><td>&nbsp;</td><td colspan=4 style=\"text-align:left\"><span style=\"font-size:20px;\"><a class=\"ProveItLink\" href=\"../../../../../__pv_it/common/66c90e66682f107a881f2d666959f64e2e72ad750/expr.ipynb\"><img src=\"../../../../../__pv_it/common/66c90e66682f107a881f2d666959f64e2e72ad750/expr.png\" style=\"display:inline;vertical-align:middle;\" /></a> : <a class=\"ProveItLink\" href=\"../../../../numerals/__pv_it/common/3829356ce3fdf8f35810c63c00bc1a19e838663e0/expr.ipynb\"><img src=\"../../../../numerals/__pv_it/common/3829356ce3fdf8f35810c63c00bc1a19e838663e0/expr.png\" style=\"display:inline;vertical-align:middle;\" /></a>, <a class=\"ProveItLink\" href=\"../../../../../__pv_it/common/4a5db8cc5c67969ec864bd3ea598be37cb6f5e550/expr.ipynb\"><img src=\"../../../../../__pv_it/common/4a5db8cc5c67969ec864bd3ea598be37cb6f5e550/expr.png\" style=\"display:inline;vertical-align:middle;\" /></a> : <a class=\"ProveItLink\" href=\"../../../../numerals/__pv_it/common/1477ef887611bedb97dfb89bcacde217bb43e8ed0/expr.ipynb\"><img src=\"../../../../numerals/__pv_it/common/1477ef887611bedb97dfb89bcacde217bb43e8ed0/expr.png\" style=\"display:inline;vertical-align:middle;\" /></a></span></td></tr><tr><td><a name=\"proveit.numbers.exponentiation.demonstrations.008c7293ffec28a8eb49b8bc44689cf6a79f5fe70_step1\">1</a></td><td>theorem</td><td></td><td><span style=\"font-size:20px;\"> <a class=\"ProveItLink\" href=\"../../../_theory_nbs_/proofs/exp_nat_closure/thm_proof.ipynb\" style=\"text-decoration: none\">&nbsp;&#x22A2;&nbsp;&nbsp;</a><a class=\"ProveItLink\" href=\"../../theorems/b9425a1c455ff86cd9bb32a1c4b3c222d956840a0/expr.ipynb\"><img src=\"../../theorems/b9425a1c455ff86cd9bb32a1c4b3c222d956840a0/expr.png\" style=\"display:inline;vertical-align:middle;\" /></a></span></td></tr>\n",
       "<tr><td>&nbsp;</td><td colspan=4 style-\"text-align:left\"><a class=\"ProveItLink\" href=\"../../../_theory_nbs_/proofs/exp_nat_closure/thm_proof.ipynb\">proveit.numbers.exponentiation.exp_nat_closure</a></td></tr><tr><td><a name=\"proveit.numbers.exponentiation.demonstrations.008c7293ffec28a8eb49b8bc44689cf6a79f5fe70_step2\">2</a></td><td>theorem</td><td></td><td><span style=\"font-size:20px;\"> <a class=\"ProveItLink\" href=\"../../../../numerals/decimals/_theory_nbs_/proofs/posnat2/thm_proof.ipynb\" style=\"text-decoration: none\">&nbsp;&#x22A2;&nbsp;&nbsp;</a><a class=\"ProveItLink\" href=\"../../../../numerals/decimals/__pv_it/theorems/93960371d3014f11077b11b089e2a3a6f3652d8a0/expr.ipynb\"><img src=\"../../../../numerals/decimals/__pv_it/theorems/93960371d3014f11077b11b089e2a3a6f3652d8a0/expr.png\" style=\"display:inline;vertical-align:middle;\" /></a></span></td></tr>\n",
       "<tr><td>&nbsp;</td><td colspan=4 style-\"text-align:left\"><a class=\"ProveItLink\" href=\"../../../../numerals/decimals/_theory_nbs_/proofs/posnat2/thm_proof.ipynb\">proveit.numbers.numerals.decimals.posnat2</a></td></tr><tr><td><a name=\"proveit.numbers.exponentiation.demonstrations.008c7293ffec28a8eb49b8bc44689cf6a79f5fe70_step3\">3</a></td><td>theorem</td><td></td><td><span style=\"font-size:20px;\"> <a class=\"ProveItLink\" href=\"../../../../numerals/decimals/_theory_nbs_/proofs/nat3/thm_proof.ipynb\" style=\"text-decoration: none\">&nbsp;&#x22A2;&nbsp;&nbsp;</a><a class=\"ProveItLink\" href=\"../../../../numerals/decimals/__pv_it/theorems/e4ad650ff99f925d2910dde36e2627a56625cb1f0/expr.ipynb\"><img src=\"../../../../numerals/decimals/__pv_it/theorems/e4ad650ff99f925d2910dde36e2627a56625cb1f0/expr.png\" style=\"display:inline;vertical-align:middle;\" /></a></span></td></tr>\n",
       "<tr><td>&nbsp;</td><td colspan=4 style-\"text-align:left\"><a class=\"ProveItLink\" href=\"../../../../numerals/decimals/_theory_nbs_/proofs/nat3/thm_proof.ipynb\">proveit.numbers.numerals.decimals.nat3</a></td></tr></table>"
      ],
      "text/plain": [
       "<proveit._core_.proof._ShowProof at 0x7f25e42835f8>"
      ]
     },
     "execution_count": 1,
     "metadata": {},
     "output_type": "execute_result"
    }
   ],
   "source": [
    "import proveit\n",
    "# Automation is not needed when only showing a stored proof:\n",
    "proveit.defaults.automation = False # This will speed things up.\n",
    "proveit.defaults.inline_pngs = False # Makes files smaller.\n",
    "%show_proof"
   ]
  },
  {
   "cell_type": "code",
   "execution_count": null,
   "metadata": {},
   "outputs": [],
   "source": []
  }
 ],
 "metadata": {
  "kernelspec": {
   "display_name": "Python 3",
   "language": "python",
   "name": "python3"
  },
  "language_info": {
   "codemirror_mode": {
    "name": "ipython",
    "version": 3
   },
   "file_extension": ".py",
   "mimetype": "text/x-python",
   "name": "python",
   "nbconvert_exporter": "python",
   "pygments_lexer": "ipython3",
   "version": "3.7.3"
  }
 },
 "nbformat": 4,
 "nbformat_minor": 1
}