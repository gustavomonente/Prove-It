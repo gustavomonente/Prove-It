{
 "cells": [
  {
   "cell_type": "markdown",
   "metadata": {},
   "source": [
    "Proof of <a class=\"ProveItLink\" href=\"../../../../../_theory_nbs_/theory.ipynb\">proveit</a>.<a class=\"ProveItLink\" href=\"../../../../_theory_nbs_/theory.ipynb\">numbers</a>.<a class=\"ProveItLink\" href=\"../../theory.ipynb\">exponentiation</a>.<a class=\"ProveItLink\" href=\"../../theorems.ipynb#neg_int_exp_of_exp\">neg_int_exp_of_exp</a> theorem\n",
    "========"
   ]
  },
  {
   "cell_type": "code",
   "execution_count": 1,
   "metadata": {},
   "outputs": [],
   "source": [
    "import proveit\n",
    "theory = proveit.Theory() # the theorem's theory"
   ]
  },
  {
   "cell_type": "code",
   "execution_count": 2,
   "metadata": {},
   "outputs": [
    {
     "data": {
      "text/html": [
       "Under these <a href=\"presumptions.txt\">presumptions</a>, we begin our proof of<br><strong id=\"neg_int_exp_of_exp\">neg_int_exp_of_exp:</strong> <a class=\"ProveItLink\" href=\"../../../__pv_it/theorems/57b46df365b6457a23ccce8f333edaf6b0b5e4580/expr.ipynb\"><img src=\"data:image/png;base64,iVBORw0KGgoAAAANSUhEUgAAAWUAAAAmCAMAAAAr4Hr/AAAAOVBMVEX///8oKCgUFBQNDQ0QEBCI\n",
       "iIhmZma6urrMzMxUVFQiIiJERETc3Nzu7u6qqqp2dnaYmJgyMjIAAAArQGDrAAAAAXRSTlMAQObY\n",
       "ZgAABQxJREFUaN7dWomy4ygM9O6Y+/b/f+yCDxAYHAdP1k6oelWvEktAI1pqxcPQPdTohxnuHNYO\n",
       "DxyKpf9xAEldcTbevR3khkcOkq/rGsr87s1cWv5Hj5/9DMpqpDfNLBufp/U4+ysoM9a8sJ9lEtOa\n",
       "QpN4DhDZb0aZTrIJA/7o6crmFFjWQuCbUXas/ZX+5Oma9hSpuqCT+gWUZTuUh4Ov/kIo04MpXPzY\n",
       "oV9AGbsDLkGINXdmsaUI9XMKL6eADlHMenb8BZRHBOI6FyeIq2Heta4FnCWjf3zsDXfJsykKh5ql\n",
       "u0YAyq5bSC0o99tfJIxUNimRfyf8AVgXE1VhqFBY99QbX0SAKRQuHJK0lCSLPcom0rhTPSj321/T\n",
       "1lONDNdd+SjCc1AptyKzjbBEhoKgeQtYYE4YmILOEQwc0hR0zAGU5Ya+FF2M0W9/jZY5INoy+Xkw\n",
       "xuXwDapwjb8F2AydkoaKYorMIUmFD5ogL28haHQXyv32lwZPZ8pLWvCcaUWz1yLD7jnRnSgvuwZT\n",
       "ZA5t6p7pWIYElK1RYUjeN1+//aUx4TwdZeHGTNysI7v7H8INme4kwlUxBXSICah0NKwxpplyuOlE\n",
       "udv+GsqRCmJRJrHBqKyaLsjAqj8/39GdBeWlmixEeSmzhexFuWl/pp9ADmeYd2XQ/gDTFgax/kdC\n",
       "JnJTmSVfL8E4MNKh1P2FCduutK0FwowywSkbV8XOKAwWGLdQbttXAkkLwzhDZ5Y84I3pNNuTa9wP\n",
       "1ysDh09w6U/3ElnDX9hvk2xUtt/JZKqEZ6Il2WiDsV2yi1FINVVJwx6I/c2VoqEYos6cQVnO2HJS\n",
       "q24T6c1FVcBjfoaj3YO9RUzd39ASO/O1U9XUsaAciHt/5FZoqcL3fj/UStvWfnV7IPajKytnfPUp\n",
       "lOfiVs3qY9QvUR5FfPqvoNzw15OgF5Sl8zmzlOQERj8ezIHCTvb+ziDmaNFPiK4IXesnWUU5Mx6I\n",
       "Sf1Nbl8xhprvp95hSvh7vMwi8df9vUE5BWP4zMVIKckhz1pZqy5THyPaK05Bz28T+9GVVVa2U0k0\n",
       "ZnPR8sf/2dXb7uKqVGMs2U/Nwe31VnGdrevFqO7vnR6AzVHWq5ICkhwSuUK1UAYob/ZDSJGUF/2E\n",
       "5EorfYBybrwWTEssjzt6jIGypdh5Ms7KleLeArPh7w2RmNfLsOiIkpzyRbmHL4xPfuEI2j25zT7w\n",
       "Z/plcRP70ZW/ErSNcma8dYAWZpx2Bd/ICk5QDCEqGSqedL3E2vD3RvcjLnpD2aqdJE/Fk9eOIfaN\n",
       "bKO82qsQeMIqlfcTkiusUCqEC5STMfP8+O8/gSVtq8YYhGsr7Gd0Z21cdKlsgCQ3NKU+XE0jlR14\n",
       "RqdTqCdlKBA2sZ9ceTlF8x6OqBjHKm6Tdvt6eTBju1sEH0O3oZxWWKIMJblYacUy5kW74+wEyoQh\n",
       "jUJhTEMMR7EvYtmlfEIXjFYZIxpvVdwKs6mpZA3Cuy1b1Y2vxaTfJQ9/K0EbL3fdRn3OVb1e1i9z\n",
       "DpDYuy7+cAL/jw+wwM/9InW2ABKvmi5NQ3C3ZEPz2vtABo3PD6J8trFYRdmeaFXb29/Se6HQU6Tc\n",
       "/+sq7r+R+tEog6bAN7/18tQXPtfVgav21e/J3fYy4qnF2R9B2T44mLOL9t3vLwv0VJBl9lLNd6Mc\n",
       "mniPHIpnmfkaytOxavkfQobLR6IsbKbHpkuvA1E/7t2mfGQwKwJX6MfwH8+sPJ8vLOQVAAAAAElF\n",
       "TkSuQmCC\n",
       "\" style=\"display:inline;vertical-align:middle;\" /></a><br>(see <a class=\"ProveItLink\" href=\"../../../__pv_it/theorems/4e3385da6ed7078077e0b1eac1d4a8315a5f9df30/dependencies.ipynb\">dependencies</a>)<br>"
      ],
      "text/plain": [
       "neg_int_exp_of_exp: forall_{n in Integer} [forall_{a, b in Complex | a != 0} ((a^{b})^{-n} = a^{-(b * n)})]"
      ]
     },
     "execution_count": 2,
     "metadata": {},
     "output_type": "execute_result"
    }
   ],
   "source": [
    "%proving neg_int_exp_of_exp"
   ]
  },
  {
   "cell_type": "code",
   "execution_count": null,
   "metadata": {},
   "outputs": [],
   "source": []
  }
 ],
 "metadata": {
  "kernelspec": {
   "display_name": "Python 3",
   "language": "python",
   "name": "python3"
  }
 },
 "nbformat": 4,
 "nbformat_minor": 0
}