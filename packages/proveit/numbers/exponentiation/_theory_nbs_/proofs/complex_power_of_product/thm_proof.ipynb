{
 "cells": [
  {
   "cell_type": "markdown",
   "metadata": {},
   "source": [
    "Proof of <a class=\"ProveItLink\" href=\"../../../../../_theory_nbs_/theory.ipynb\">proveit</a>.<a class=\"ProveItLink\" href=\"../../../../_theory_nbs_/theory.ipynb\">numbers</a>.<a class=\"ProveItLink\" href=\"../../theory.ipynb\">exponentiation</a>.<a class=\"ProveItLink\" href=\"../../theorems.ipynb#complex_power_of_product\">complex_power_of_product</a> theorem\n",
    "========"
   ]
  },
  {
   "cell_type": "code",
   "execution_count": 1,
   "metadata": {},
   "outputs": [],
   "source": [
    "import proveit\n",
    "theory = proveit.Theory() # the theorem's theory"
   ]
  },
  {
   "cell_type": "code",
   "execution_count": 2,
   "metadata": {},
   "outputs": [
    {
     "data": {
      "text/html": [
       "Under these <a href=\"presumptions.txt\">presumptions</a>, we begin our proof of<br><strong id=\"complex_power_of_product\">complex_power_of_product:</strong> <a class=\"ProveItLink\" href=\"../../../__pv_it/theorems/41a54632bab701db4301b8f11092581ae382b45e0/expr.ipynb\"><img src=\"data:image/png;base64,iVBORw0KGgoAAAANSUhEUgAAAToAAAAZBAMAAABTI/9DAAAAMFBMVEX///8QEBCIiIhmZma6urrM\n",
       "zMxUVFQiIiJERETc3Nzu7u6qqqp2dnaYmJgyMjIAAAAcRTyBAAAAAXRSTlMAQObYZgAABDNJREFU\n",
       "SMfNV2+IVFUUPzt/dnbenxk/CFkSvGYrJRKGHbCgdZ2Q8FO6fsgKgl2mVBSSwWwx88O0gcyqwSPB\n",
       "pD/wdCGWbdt5FLJsCA4OIm0ljwysBZeh3CARi0jQWY3Oefe+O+/NvPfywyB74Pfeu2fOeff3zj33\n",
       "3DMAD0aUjAbLV/bHVyxfctESDAb+eD4TPu6MfMbRIrIO0GW265MWuyfy2zx6GpMPoU6Kq50gJ5UY\n",
       "3DLxEF52A6T1dvsJfn8W4uIV7xX5eDfz+4601zvBLqUzeOQ3xDTq85Bttf+D31e735Hl42mGkxTj\n",
       "UifYXebwyBLtVw2SfT8aLb+oDt07LmXa5GP0IaTQSzE7we4dDrfEGrRevts14YT5GkSFcqvBx+SD\n",
       "UOcmJz/qBLlkkcFb5opsfh8Rkx5f95RQXhTjawy3y+VDPtXTn0I1mF0kywDHa4+JVUwVenFdan72\n",
       "vfRF/X2PeJS/Z57jTzWGHQBjPgXKn0I2mF2PxRB7GP4Uysp1CdNoQXzzTVvst3yAeF5P/eXZ9v8a\n",
       "Fb7gCwybQKoHsttSv292CZPhlIU1AcWO3zkD/gaY8bN/F8k8SmWaC9nLDUjzE2+GIQERy+U0s/b1\n",
       "X5vsFE5H3nd4QPNhJx/bVeCPXXmGjQbss8NAygGQ7gIM+bFbiZM0IKGJsNGsdajw5BliUKyECOzZ\n",
       "nBVRYE5Tcs/k7ARI0W7+orYBtKpyGmq5t3Km21h6xYjfaGG3CqRbNB5h5S62FMyuqwQVccCNsHK3\n",
       "1fSwS9a3OwY/z04Cspu3ROyoxqtHPzaQnfqlN3ZkrH4KcNa7shgruZlL9yg+sLkl74b5ymKcznkY\n",
       "py0KvS2bOcbewMv4k4sQo7mJXVWwG8rswcREQXZTTXbYD9nGL5zBr/PuCmkJuuuzznT/UBo2d4Vb\n",
       "cFdUTNgru0+XdB5T0bMr4GusSdLb8QakgLHLZQW7NUYvO4m1ajTXZIf9kG08/4urBmUZRuHKsCg8\n",
       "b8L7eO33Y4flokdTRzylq9vqcVann4N2STQbL8K4zS66c39zV4zCgmTba+t35QU76ods429mXcdC\n",
       "keHzzKuFvKMcf5p23KIfO1w2qfDEicc9FaXvB+dxkUM1qMOJDMPL5XJZiygf/oTKuJO66+MHyuVR\n",
       "0L5dR1OyHKZ+yDb+5KX/OcnYnMXQkwyCfIRfRe+ZN7rZysqvNQ/sBnYMw2xlz8w10wNfbBtHT+M7\n",
       "QrsA50RvFzUb2ulrLr8ufehFUAZZ3s3xtEkegYNqCS4wdsoUtz1pUD9kGyf7B+G8OCx0hjaZ9icw\n",
       "FsZu2u0XK3y1AeAoVeNL1fEBpoyvhu3f44y4jvKhG1KOnxvbTLsfImOYunl4MKz7DKMxEcZurN0v\n",
       "gqnkOQnYbS3mnVtMX+PAzl0NSLCkFUyOfFQ9vCma9dXK+vL4J+X/ceqDI/Af3r4hveYINv0AAAAA\n",
       "SUVORK5CYII=\n",
       "\" style=\"display:inline;vertical-align:middle;\" /></a><br>(see <a class=\"ProveItLink\" href=\"../../../__pv_it/theorems/71e9dbb3af452f78da987fbc6120770ed43934130/dependencies.ipynb\">dependencies</a>)<br>"
      ],
      "text/plain": [
       "complex_power_of_product: forall_{a in RealPos, b in RealPos, c in Complex} ((a * b)^{c} = (a^{c} * b^{c}))"
      ]
     },
     "execution_count": 2,
     "metadata": {},
     "output_type": "execute_result"
    }
   ],
   "source": [
    "%proving complex_power_of_product"
   ]
  },
  {
   "cell_type": "code",
   "execution_count": null,
   "metadata": {},
   "outputs": [],
   "source": []
  }
 ],
 "metadata": {
  "kernelspec": {
   "display_name": "Python 3",
   "language": "python",
   "name": "python3"
  }
 },
 "nbformat": 4,
 "nbformat_minor": 0
}