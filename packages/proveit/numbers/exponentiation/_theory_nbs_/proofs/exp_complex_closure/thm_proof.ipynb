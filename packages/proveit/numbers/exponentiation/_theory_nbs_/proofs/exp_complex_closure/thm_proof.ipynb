{
 "cells": [
  {
   "cell_type": "markdown",
   "metadata": {},
   "source": [
    "Proof of <a class=\"ProveItLink\" href=\"../../../../../_theory_nbs_/theory.ipynb\">proveit</a>.<a class=\"ProveItLink\" href=\"../../../../_theory_nbs_/theory.ipynb\">numbers</a>.<a class=\"ProveItLink\" href=\"../../theory.ipynb\">exponentiation</a>.<a class=\"ProveItLink\" href=\"../../theorems.ipynb#exp_complex_closure\">exp_complex_closure</a> theorem\n",
    "========"
   ]
  },
  {
   "cell_type": "code",
   "execution_count": 1,
   "metadata": {},
   "outputs": [],
   "source": [
    "import proveit\n",
    "theory = proveit.Theory() # the theorem's theory"
   ]
  },
  {
   "cell_type": "code",
   "execution_count": 2,
   "metadata": {},
   "outputs": [
    {
     "data": {
      "text/html": [
       "Under these <a href=\"presumptions.txt\">presumptions</a>, we begin our proof of<br><strong id=\"exp_complex_closure\">exp_complex_closure:</strong> <a class=\"ProveItLink\" href=\"../../../__pv_it/theorems/9b4aa69a60e5e6c8063b37e3f5e1189a71cc73bd0/expr.ipynb\"><img src=\"data:image/png;base64,iVBORw0KGgoAAAANSUhEUgAAAQEAAAAcCAMAAABWDfo+AAAAOVBMVEX///8oKCgUFBQNDQ0QEBCI\n",
       "iIhmZma6urrMzMxUVFQiIiJERETc3Nzu7u6qqqp2dnaYmJgyMjIAAAArQGDrAAAAAXRSTlMAQObY\n",
       "ZgAAA7VJREFUWMPlWNly2zAMVFvxBMFD//+x5SnxMm0n7oMazSQTO1qQXAKLJbftv3mYc9sPfwz9\n",
       "aSvmrP3s9Ht4cnsCRPfFod4sG3FzBhx2jByECHyrbOytCaB9EhOJG3lPCmQg7NJPeytG1NFvN3hK\n",
       "7NN2QJx0xy4hUhUJM/pRVt1N+HcvjPRJaXN++PUiPSxNNIZfUEiFWxXBPgh/SIp93Q7sJlLt2CMR\n",
       "KHW19UbfuwhCUdt2Fy1I/1R1zrc9w0RigAaANRgeJW+VAnafdEdjms9AOpboleiYcoHEMAeER5rP\n",
       "7M2zJv4F1AxDz51V1FCyjxqGg66h2HinHiymkogjgPqa0W592ZTGOBNiSPinZjNVG8d6hoGymWz3\n",
       "E3fH+IYYFqTMxkjvIcLiGY2MvWa0NRghRRUH1qOG7eKx1jw2CDVV87m2Yz3FuCz6uNtSzj1HY6bR\n",
       "gQF1RHaDApCZGTiNNmpDqX8DOfjN4c7MB+KzFFBxrpJltUaRRLmIc0E1pn6KaWUvE0ZjGsvR4vPd\n",
       "lefMKxhmiImBYA6nOliMtgWtMIxkVYygHzAgZhUbOPMj8dLBXAhK2LXShGpM/RTTbk5mYIfzzY54\n",
       "mPpoMc0B5c5TBlIiHO+MNisJyrjmvXLVA8kxxsZMChUg0p7ZlmAxveVg6h9gGl5F3sMoFMfMMEwa\n",
       "CL0YwO0aI6igSHuCkvsvsTPaZxpZtGpRbqmhnjFE7DF//I/NQWOyxsreDCspkFB5rCWm0Q7IDIQU\n",
       "EW7T6um5IRrnIgTMVb3AD0BzEVC/Xi47o42nRmnUKwYYjDGIrrjeyfkWQkmB9Lk29Y8wjb3fqzlK\n",
       "MWtCUs+aKBj0sgaAra04yGU1ieiMNpdxY/xYSnO+YkAMMRCK4gRgLDqe1umTIAlcRl2m/jFmaORB\n",
       "JAnhSpBJw0QBbLAJnLr9kLQs42wiNocLrINFbI32lYI0WymcMsChiSG8DP/+FcTYVrpe7iX8OtM8\n",
       "IqqMtcb056CnXsVA44on2tiXincX/GA2KCleRtvwyn+Fv83cD6BsYpxdrZxDUzVbU64nRIW6TP0K\n",
       "U+fzJzwsDqcLJogmofHzsPen0YazotA4B03Tg/7C4YxRulpejsmeh7I6yQvqMvUrTNPvP3G6WB2m\n",
       "GxkhSQdmT80A6bRHz/bJtf2oR60xdTf4wFlW8gUBr946wsKJziau7TrEi5gHPv7NFDDLu4SvMMAa\n",
       "mJ3sEk4u8mrUq5jYw797jv3MnRB9L3UIvp9w5MH1nWbfnPqtrgX/3fMXXz0rkP556t8AAAAASUVO\n",
       "RK5CYII=\n",
       "\" style=\"display:inline;vertical-align:middle;\" /></a><br>(see <a class=\"ProveItLink\" href=\"../../../__pv_it/theorems/76042845969faa4581903760fce3c407228e56270/dependencies.ipynb\">dependencies</a>)<br>"
      ],
      "text/plain": [
       "exp_complex_closure: forall_{a, b in Complex | (a != 0) or (b != 0)} (a^{b} in Complex)"
      ]
     },
     "execution_count": 2,
     "metadata": {},
     "output_type": "execute_result"
    }
   ],
   "source": [
    "%proving exp_complex_closure"
   ]
  },
  {
   "cell_type": "code",
   "execution_count": null,
   "metadata": {},
   "outputs": [],
   "source": []
  }
 ],
 "metadata": {
  "kernelspec": {
   "display_name": "Python 3",
   "language": "python",
   "name": "python3"
  }
 },
 "nbformat": 4,
 "nbformat_minor": 0
}