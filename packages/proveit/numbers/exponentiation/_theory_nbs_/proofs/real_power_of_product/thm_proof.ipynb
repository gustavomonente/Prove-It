{
 "cells": [
  {
   "cell_type": "markdown",
   "metadata": {},
   "source": [
    "Proof of <a class=\"ProveItLink\" href=\"../../../../../_theory_nbs_/theory.ipynb\">proveit</a>.<a class=\"ProveItLink\" href=\"../../../../_theory_nbs_/theory.ipynb\">numbers</a>.<a class=\"ProveItLink\" href=\"../../theory.ipynb\">exponentiation</a>.<a class=\"ProveItLink\" href=\"../../theorems.ipynb#real_power_of_product\">real_power_of_product</a> theorem\n",
    "========"
   ]
  },
  {
   "cell_type": "code",
   "execution_count": 1,
   "metadata": {},
   "outputs": [],
   "source": [
    "import proveit\n",
    "theory = proveit.Theory() # the theorem's theory"
   ]
  },
  {
   "cell_type": "code",
   "execution_count": 2,
   "metadata": {},
   "outputs": [
    {
     "data": {
      "text/html": [
       "Under these <a href=\"presumptions.txt\">presumptions</a>, we begin our proof of<br><strong id=\"real_power_of_product\">real_power_of_product:</strong> <a class=\"ProveItLink\" href=\"../../../__pv_it/theorems/95bb411fbfbf8d583e6375cdc46993c2febd45700/expr.ipynb\"><img src=\"data:image/png;base64,iVBORw0KGgoAAAANSUhEUgAAAXUAAAAZCAMAAAD5Yk5vAAAAOVBMVEX///8oKCgUFBQNDQ0QEBCI\n",
       "iIhmZma6urrMzMxUVFQiIiJERETc3Nzu7u6qqqp2dnaYmJgyMjIAAAArQGDrAAAAAXRSTlMAQObY\n",
       "ZgAABCdJREFUaN7tWYlynDAMpQ02vg/+/2PrGwssjk2bzmzimUSb8HjCz7IkvNP0M8qwhJAfFb54\n",
       "iGVi848MXzuoDL/Yv9gi32IPKQftxTAq29k8o7+9RQqg+snWt8vOvYPoWkKLwmaRP/Esx6oe0V9t\n",
       "kcbfAMVPtratsdfvoLpX0OJAWvTJceeXKNFt+jrwLVL4G6D4yVbVxVPyHUR3FFp8rKbl3TR9ShzR\n",
       "d+k3FnXBvwEs6WwNcWveQXWhoEXHslaJ9fycfotobItU/g1Q/STrrI5DibcopQLak85CQOUe0Xf/\n",
       "wbZI5e8A1U+yq4xD2HdQnVBow6QtJfNAFs8JoXl7W/qUHqcd8beFoJ3lqQTLezV8Wrz/G/Kchlea\n",
       "DbHEYk4PgDqkg3aZw7T8OnCxhsyqc9J1xxlZ3w16oEdph/ytKPjOLrSrsMOWVlouONmtGAo4XhZE\n",
       "curB9bPSTVlKfOFGPg2dDgA17xpg9exq89YtV3qmlHZXkp/vdlpHaA/0gH/TobfxFzk069pYSsN/\n",
       "NZOBgPkaV95cAI4UZArXrCb3VFe8vFyEp9Z7pxigNnILsDRdF6SLwLpwPv2Znpmtd1VHaI/0gL+O\n",
       "6idb67LysEeSRulI7lS61dhdr4QCjhRJdafdPdXjGoYHZn2zC7bqCDBWfZYNWYKV9930kru7x6of\n",
       "aA/0gH+suvITK3BNCfespp2UwpjJ7KreQgjXJ4B28NAQVXWLqN6cZr4Sf5FOOOgUBYwzTI41MxJ1\n",
       "dS1mp0Wc53W+oz+hHfK3mQlgpeJ5EbVgYTq6PygIIQpKAhE6lXIU0E4mtkqRVKeUjlVvTnlqpj7C\n",
       "jytPUTdxcYoDxtVUp1jjvh2CdKosNT0Pqym2Da9oh/zDahqWjZZViMIwkcKvlQANuSVJt+GAevCw\n",
       "IYLqlHOxINW0Oc1YM22hPBPgFAcMm7NyX9j2x5LDgyCygOntpvmSdsjfJmqhrbU2pkkSNxQTKawC\n",
       "vTKM7VMb5WeAssk3RIx1RRymenMKDq9S1lwX4BQHIJtYh6aZKU6OfWrIarZGor99wHtJO+Sfdn6q\n",
       "dbrMRMVdFCvglsto6T1KioobO+qEA2rkc5BhDLN6qPrmlIcc+vtXzKRu16IUpzjg+YlAn+E+cSLw\n",
       "5DRUIP5C88/WJa6RZds7b/psQ1TH5iFkWCfPAO3gYUOUzhGpppvT2hTW18DYjgOnI8Crp1/T/lTq\n",
       "yeHaKwOcfoEdxIkhNAkgW9OjQ0GX8QWWxRhn3Gb1MMB28FARRtjQzGtK/VD1zmluCouqNmVR6HQA\n",
       "2Bc8Be11CD5615YvBzs46cXPHEpSBm9XjwBDxGm/bkb1yVwB4OTufavxqo765fPwx+HQ5qw+C7hQ\n",
       "3V9x3ojLh9/guYciqBe/cat+3OPN4j4NOFfdmQtO9xbfAfy/Qb/17P8A7m07FeV2qbAAAAAASUVO\n",
       "RK5CYII=\n",
       "\" style=\"display:inline;vertical-align:middle;\" /></a><br>(see <a class=\"ProveItLink\" href=\"../../../__pv_it/theorems/0c93765bad6f953a2ec08d63c9f45d3dfc3bfbe60/dependencies.ipynb\">dependencies</a>)<br>"
      ],
      "text/plain": [
       "real_power_of_product: forall_{a in Complex, b in Complex, c in Real | a != 0, b != 0} ((a * b)^{c} = (a^{c} * b^{c}))"
      ]
     },
     "execution_count": 2,
     "metadata": {},
     "output_type": "execute_result"
    }
   ],
   "source": [
    "%proving real_power_of_product"
   ]
  },
  {
   "cell_type": "code",
   "execution_count": null,
   "metadata": {},
   "outputs": [],
   "source": []
  }
 ],
 "metadata": {
  "kernelspec": {
   "display_name": "Python 3",
   "language": "python",
   "name": "python3"
  }
 },
 "nbformat": 4,
 "nbformat_minor": 0
}