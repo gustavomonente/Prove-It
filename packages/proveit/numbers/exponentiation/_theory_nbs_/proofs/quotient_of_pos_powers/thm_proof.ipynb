{
 "cells": [
  {
   "cell_type": "markdown",
   "metadata": {},
   "source": [
    "Proof of <a class=\"ProveItLink\" href=\"../../../../../_theory_nbs_/theory.ipynb\">proveit</a>.<a class=\"ProveItLink\" href=\"../../../../_theory_nbs_/theory.ipynb\">numbers</a>.<a class=\"ProveItLink\" href=\"../../theory.ipynb\">exponentiation</a>.<a class=\"ProveItLink\" href=\"../../theorems.ipynb#quotient_of_pos_powers\">quotient_of_pos_powers</a> theorem\n",
    "========"
   ]
  },
  {
   "cell_type": "code",
   "execution_count": 1,
   "metadata": {},
   "outputs": [],
   "source": [
    "import proveit\n",
    "theory = proveit.Theory() # the theorem's theory"
   ]
  },
  {
   "cell_type": "code",
   "execution_count": 2,
   "metadata": {},
   "outputs": [
    {
     "data": {
      "text/html": [
       "Under these <a href=\"presumptions.txt\">presumptions</a>, we begin our proof of<br><strong id=\"quotient_of_pos_powers\">quotient_of_pos_powers:</strong> <a class=\"ProveItLink\" href=\"../../../__pv_it/theorems/00bc4f4790ee5270b6545034a23f537c946584e20/expr.ipynb\"><img src=\"data:image/png;base64,iVBORw0KGgoAAAANSUhEUgAAATcAAAA0CAMAAADYH48aAAAAOVBMVEX///8oKCgUFBQNDQ0QEBCI\n",
       "iIhmZma6urrMzMxUVFQiIiJERETc3Nzu7u6qqqp2dnaYmJgyMjIAAAArQGDrAAAAAXRSTlMAQObY\n",
       "ZgAABJdJREFUaN7tW4uuoyAQZXcZ5A3y/x+7gC9U1KrYXMklaZO2Y4XDMDPngAjV3Zq2Rb/tQjPk\n",
       "F4MPUGqW37S63L8rVitsZvWVk0VXfZWwwdofqANgqtgdbI3AaZyBkisEBUOcMNXBpnCTGSeUdZLs\n",
       "Td7dRM6twjAJe9ip371KXS6MhS+xLnkfXtlK5am7SWIIYI+ZD29WFJ4fWRNsNh1Og/2H1oV8yox5\n",
       "coLe724iDd7WvxPx1AypemCjLslzJI6Mw0N520E9uJE0zWERh0cfUgJqkgowSx3CxPj9lBIA9WQG\n",
       "6myKWyg8WIv0pfEdKgEyvdnLmenMBSJJ4Axdy6TH3oSr0UXErIpXDIBKBs01180pAQZgygaCe6+c\n",
       "8uuLvQ+XqzmySgBvEJ2mxvjQacbV3L63LFGuXC2aUwJiKUiTCo4iOcyUFO91N1qwpOqVgEYMbc1w\n",
       "4+0GNzP6vbhpV67zOSVgkSqie1ujQpP81eSUFvuvnBLQhgyThAIXEqqL3vhqeaRAJToqKDklQBKw\n",
       "kIR/F4Blca5EoRrYPGi9/TefU23TJo1kFJSPYmDIG024Wn3KuY7o27nEtrTerbgiNmBgDTa5K1Gc\n",
       "VFBwDGrhDXaKNy0M4ww26JvmIBhp4SPcFsYr672Ok7AurAdNr8p15m467EkFhcdaztgOu8UUaEOI\n",
       "/0XRkIlpa5b0bTCAsNqMgl3c8sZncJOsL0C7lLeDm8u0T+rmzxWUDjfZ+mC4SlFCSxX6Z2VETJtF\n",
       "Th4NIhRW2eCKhHD/WhcFGeOs9Q5uYfb6oa02DMjF+MYuKii8czMhWR9YFAHW0iHoxYhDdTcLck7f\n",
       "RoMBCpP1oI7XbRnv+tvYl64fprt76Aa3q7xwL6udVVBwF+M16Zep4tR3LczdGPy9b8gcfZuyQ4TC\n",
       "+00OiZ7XbRnv4Tb2hcU66Z9/2b5zqzgEd+u3kwrKIIgMNCWMh/I412MkV/M56OnbZOChIIzxJodE\n",
       "z+s2jfdwG/vSXafR5G8YVnXvzd3gkwrKQIdtHx5C4IiHLCjvuBkgqSnN0LfJILiQBJvFrQ9Em8Z7\n",
       "uI19ieMSw4IKnVmhpN1Xd9G7cJh+9rMpbAjgU54gffJTc/rGZktPU9P/TnO8bssY0U3cpr4wH8D/\n",
       "/glh3G7lU/pdBXYlI/iimbomJjuaEBAaAzySItnInQz60mIRGqLxwOuOjLP+NvZlqEHi9SRXv6Ed\n",
       "HWmmOD4kIzQMNJDYVzH+pHzqFoGM0eBnI30bDDQ3vrZThMx5RDQeed2BcQ63pC9dDdIDZ3L7JnyT\n",
       "xMwVx1K0biftQh+RZkAfGVw23q3f9GGaI1ul10JxLNPO0pNT+0OXNpPyuB1z5809dPyEqnhWlbeP\n",
       "Ge/iZo/HThcRZ1SFntjqlD9vw/7yNsF8a25ShZaK4w9R+34O4C6vCi0VxxJN8GpgQ833ztWgms7V\n",
       "zE6l3TpX88EyregcV5pRb56rORdKX9+wuaoKnSULVZ1TTc9F3ztXc9Da2h74mgZ061zN0fRgVRlu\n",
       "EtPnb1Lhcx9If6GuYjU+lkkez3RWoBobe7gibWp9eJo8Gn3UdA7zPyuNNopCF9hnAAAAAElFTkSu\n",
       "QmCC\n",
       "\" style=\"display:inline;vertical-align:middle;\" /></a><br>(see <a class=\"ProveItLink\" href=\"../../../__pv_it/theorems/46a9946e8f7d06bd9b08ae74bbc467a432e345d90/dependencies.ipynb\">dependencies</a>)<br>"
      ],
      "text/plain": [
       "quotient_of_pos_powers: forall_{a in Complex, b in RealPos, c in RealPos | a != 0} ((a^{b} / a^{c}) = a^{b - c})"
      ]
     },
     "execution_count": 2,
     "metadata": {},
     "output_type": "execute_result"
    }
   ],
   "source": [
    "%proving quotient_of_pos_powers"
   ]
  },
  {
   "cell_type": "code",
   "execution_count": null,
   "metadata": {},
   "outputs": [],
   "source": []
  }
 ],
 "metadata": {
  "kernelspec": {
   "display_name": "Python 3",
   "language": "python",
   "name": "python3"
  }
 },
 "nbformat": 4,
 "nbformat_minor": 0
}