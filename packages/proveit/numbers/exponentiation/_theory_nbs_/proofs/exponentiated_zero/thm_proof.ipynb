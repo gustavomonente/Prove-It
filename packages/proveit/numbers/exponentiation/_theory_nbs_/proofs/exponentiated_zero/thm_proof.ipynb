{
 "cells": [
  {
   "cell_type": "markdown",
   "metadata": {},
   "source": [
    "Proof of <a class=\"ProveItLink\" href=\"../../../../../_theory_nbs_/theory.ipynb\">proveit</a>.<a class=\"ProveItLink\" href=\"../../../../_theory_nbs_/theory.ipynb\">numbers</a>.<a class=\"ProveItLink\" href=\"../../theory.ipynb\">exponentiation</a>.<a class=\"ProveItLink\" href=\"../../theorems.ipynb#exponentiated_zero\">exponentiated_zero</a> theorem\n",
    "========"
   ]
  },
  {
   "cell_type": "code",
   "execution_count": 1,
   "metadata": {},
   "outputs": [],
   "source": [
    "import proveit\n",
    "theory = proveit.Theory() # the theorem's theory"
   ]
  },
  {
   "cell_type": "code",
   "execution_count": 2,
   "metadata": {},
   "outputs": [
    {
     "data": {
      "text/html": [
       "Under these <a href=\"presumptions.txt\">presumptions</a>, we begin our proof of<br><strong id=\"exponentiated_zero\">exponentiated_zero:</strong> <a class=\"ProveItLink\" href=\"../../../__pv_it/theorems/b84d37617f24904b3df2c1fbc3eb68ebc4404fba0/expr.ipynb\"><img src=\"data:image/png;base64,iVBORw0KGgoAAAANSUhEUgAAAK8AAAAXCAMAAABK1e9fAAAAOVBMVEX///8QEBAoKCgUFBQNDQ2I\n",
       "iIhmZma6urrMzMxUVFQiIiJERETc3Nzu7u6qqqp2dnaYmJgyMjIAAAAMeWbTAAAAAXRSTlMAQObY\n",
       "ZgAAAlRJREFUSMfNV4uS2yAMJG15GYSA///YGoEx2MSh8XiuzOQ54rRZrVY6xn7uIBeKa8X+22N9\n",
       "+4kD04Etcva2s+k51M/ePwwXTKHVYyJ1fQQ/VYYcz3QCjG77PsDDeEMmaE0IC71l0U7cqvGQuLVm\n",
       "K5Z5GK4X9PwizqisKhLL17eaeOQNrTvRD53MqdGkxQg2Egr8cKvGJ4ITdo+Qjl2ebracIFJ+GR1o\n",
       "L5HjJxHWeNJGas5o0lnwYbyc5ABR5Px8ske7eEwfsgMaO5350oGIL74SdyoseYGNmJV7xouhOWKr\n",
       "Shfvk4yl2HrvnfEZ1IveE1w1plAksfWSPsrX5fwi558sZx/vSFPpiZ+cEBwKsX4LyqycqYAzeC2h\n",
       "pBkQD8p8yft6SIayFsJnzL2PGGchpfQ2/7QpvIbaOCaSX26Et/SPi7Nu1MVnvDYwpQ8jXW4Ckspl\n",
       "i7RDvP0OIIvYUuziR3pghm77CNf6rWrq4mWm1VgtDyO9ytmDP3aiGewAmkzmz/rwK970xxc+6rfO\n",
       "/6emTBvv84sTRQ51pIOozQbuAm+/A/BMYeb3dcCLYucZXvNbWRsviigb9eeRrhbiy3BmnVLv8XY7\n",
       "QNlnin7jwfZKLRkg/6clso0Pait6JayM9N2NBPDdWM94ywW9au73r6Q8/8Yfyjy+teAtR7OrIx0r\n",
       "A1bQexz5b7cDWN2OspP/ln3n3oJ/wN+MdOP2goRg2gqa4YXsZQUw4gCcuUkwXDYpz/odmex4Cn6c\n",
       "WHBzY/32947TTjiUvfUfjP+2PEO8/un1+fsjfjD3X5XjHI3FOCgZAAAAAElFTkSuQmCC\n",
       "\" style=\"display:inline;vertical-align:middle;\" /></a><br>(see <a class=\"ProveItLink\" href=\"../../../__pv_it/theorems/a2298103671c9909bf2729dcb7994782503252ce0/dependencies.ipynb\">dependencies</a>)<br>"
      ],
      "text/plain": [
       "exponentiated_zero: forall_{x in Complex | x != 0} (0^{x} = 0)"
      ]
     },
     "execution_count": 2,
     "metadata": {},
     "output_type": "execute_result"
    }
   ],
   "source": [
    "%proving exponentiated_zero"
   ]
  },
  {
   "cell_type": "code",
   "execution_count": null,
   "metadata": {},
   "outputs": [],
   "source": []
  }
 ],
 "metadata": {
  "kernelspec": {
   "display_name": "Python 3",
   "language": "python",
   "name": "python3"
  }
 },
 "nbformat": 4,
 "nbformat_minor": 0
}