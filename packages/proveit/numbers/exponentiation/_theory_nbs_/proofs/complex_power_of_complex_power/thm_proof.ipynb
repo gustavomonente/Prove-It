{
 "cells": [
  {
   "cell_type": "markdown",
   "metadata": {},
   "source": [
    "Proof of <a class=\"ProveItLink\" href=\"../../../../../_theory_nbs_/theory.ipynb\">proveit</a>.<a class=\"ProveItLink\" href=\"../../../../_theory_nbs_/theory.ipynb\">numbers</a>.<a class=\"ProveItLink\" href=\"../../theory.ipynb\">exponentiation</a>.<a class=\"ProveItLink\" href=\"../../theorems.ipynb#complex_power_of_complex_power\">complex_power_of_complex_power</a> theorem\n",
    "========"
   ]
  },
  {
   "cell_type": "code",
   "execution_count": 1,
   "metadata": {},
   "outputs": [],
   "source": [
    "import proveit\n",
    "theory = proveit.Theory() # the theorem's theory"
   ]
  },
  {
   "cell_type": "code",
   "execution_count": 2,
   "metadata": {},
   "outputs": [
    {
     "data": {
      "text/html": [
       "Under these <a href=\"presumptions.txt\">presumptions</a>, we begin our proof of<br><strong id=\"complex_power_of_complex_power\">complex_power_of_complex_power:</strong> <a class=\"ProveItLink\" href=\"../../../__pv_it/theorems/23c2c8e4e8866c50523ae8e4f50e6f75ace1ffc30/expr.ipynb\"><img src=\"data:image/png;base64,iVBORw0KGgoAAAANSUhEUgAAAP0AAAAcBAMAAABYA6ToAAAAMFBMVEX///8QEBCIiIhmZma6urrM\n",
       "zMxUVFQiIiJERETc3Nzu7u6qqqp2dnaYmJgyMjIAAAAcRTyBAAAAAXRSTlMAQObYZgAAA9tJREFU\n",
       "SMfFVl1IFFEUPu7suu7M7OpDD5kEq5VJECwulJTahkRP1QplRZHLlv0TUiZlPcg+yKg9LAkllTQl\n",
       "9aClSyVlCC2KPVjJ9gOplCyWERUmQVBbD92fmdmZdVxXV+nC3Jl757v3u+ee755zAea7GCfi/98a\n",
       "hoUtffF/844F4Nyu+v4aH2oLyF+GeaM3eVSN3/Gx6X7FU5754reJqrX8yKUtPseuhy3POYpfvTkA\n",
       "L+aLPx9XLdKu1hgcHLaxypShh10pLkO12VWKKrRQosb3ydFbIqhia2kjzW4NwxEAphbcemAfjLIO\n",
       "KAATWiqS4jPc9yU5fiJpm+TXFBfjgQ70DuiDF8EaUyZkkXVPAjTjd21y/ITqtawvETV5u0pn2hIh\n",
       "3FSk56h0+EBy/Nex4M5KDbM4hJyRATYX6J70Giu29iMwqC4AsA60tV1OUn4v8R5Wyvo/HiTzW/Jf\n",
       "iXrgsue4blq9CtXZ6PklCOd1XDob/mKgWoKmvmwxThC0FOYv0XRsQ+gKgPqpUGY2/AKWfQgFlEz4\n",
       "LnWNKoZMkEJcsdFvm9TGAnRCSoANT8ufWLL4hN2ONHQjhD1KykMdGLsUH0qNcFxoIBhCqq6HefvH\n",
       "ovzRZPHoabUmnHEXDnnl71Pk2AFsEOGkbJkOPxMBszYkdqJBfMisLLDHGTLwMGDnnWud65Vk0d5X\n",
       "BLcaYF9QBWN3iaZv8rgPEv9iYH/G4U+phU73FPst4TK5OdTdBoh/JKTYjw+xtfGKCMNB4IIqmPUa\n",
       "QI88ro7uP/sXONm/m2P8j1NNZxCexOQCHCPqD6CqNXccjHizMX9Q4cfJogSnqj1o4X6aVAhsUxda\n",
       "uTzNYao/9g+khrtj9Kfe7QCc4Pyx+of76OSyp00RsAHldzoUfpwssAStd6VxKKkQ2MiwappsSSk+\n",
       "eOuRNqlQhx9lhmp+SuCAdKQJxmGqhFbCzxysiuqPJguktnbKj5MKgT3ujjHDiKy4nbPb66Jd43r6\n",
       "9664tFzTQ06LVcQR3OCBnYIg2A38xTc4ikWTxRlB8Fm63EqkJ7CrO9TCcqniL6WqTChwjCmu8aeN\n",
       "iKl0/7m9oiZZkFvKOrRJItUjgTE3EYlysIKq/ENVZ0+Eno0oFvjLtwDvpv4fkHxoaSDJop/E6340\n",
       "Z7OIkwqBWQrd0KtcefBFI02trI6EzLcqFzCj914RQCOOP4PB1mJp2iySLNJwDGAHP1dAaYAkFQyD\n",
       "OxN10bN8THX/IKU+IX5zzAXFgByriXH0lSf4pI6ALkwyt0VlmD8h/ncz/O+OaXPTTcvN6U4/47Un\n",
       "FOuvaZEP5sLPiPDfyz/FMfenW75gLwAAAABJRU5ErkJggg==\n",
       "\" style=\"display:inline;vertical-align:middle;\" /></a><br>(see <a class=\"ProveItLink\" href=\"../../../__pv_it/theorems/10113598f860533638ff2234655659d635c7e0830/dependencies.ipynb\">dependencies</a>)<br>"
      ],
      "text/plain": [
       "complex_power_of_complex_power: forall_{a in RealPos, b in Complex, c in Complex} ((a^{b})^{c} = a^{b * c})"
      ]
     },
     "execution_count": 2,
     "metadata": {},
     "output_type": "execute_result"
    }
   ],
   "source": [
    "%proving complex_power_of_complex_power"
   ]
  },
  {
   "cell_type": "code",
   "execution_count": null,
   "metadata": {},
   "outputs": [],
   "source": []
  }
 ],
 "metadata": {
  "kernelspec": {
   "display_name": "Python 3",
   "language": "python",
   "name": "python3"
  }
 },
 "nbformat": 4,
 "nbformat_minor": 0
}