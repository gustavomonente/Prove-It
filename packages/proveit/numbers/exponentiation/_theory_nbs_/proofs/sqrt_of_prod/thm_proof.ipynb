{
 "cells": [
  {
   "cell_type": "markdown",
   "metadata": {},
   "source": [
    "Proof of <a class=\"ProveItLink\" href=\"../../../../../_theory_nbs_/theory.ipynb\">proveit</a>.<a class=\"ProveItLink\" href=\"../../../../_theory_nbs_/theory.ipynb\">numbers</a>.<a class=\"ProveItLink\" href=\"../../theory.ipynb\">exponentiation</a>.<a class=\"ProveItLink\" href=\"../../theorems.ipynb#sqrt_of_prod\">sqrt_of_prod</a> theorem\n",
    "========"
   ]
  },
  {
   "cell_type": "code",
   "execution_count": 1,
   "metadata": {},
   "outputs": [],
   "source": [
    "import proveit\n",
    "theory = proveit.Theory() # the theorem's theory"
   ]
  },
  {
   "cell_type": "code",
   "execution_count": 2,
   "metadata": {},
   "outputs": [
    {
     "data": {
      "text/html": [
       "Under these <a href=\"presumptions.txt\">presumptions</a>, we begin our proof of<br><strong id=\"sqrt_of_prod\">sqrt_of_prod:</strong> <a class=\"ProveItLink\" href=\"../../../__pv_it/theorems/2c136e7d75ec492b550f8e9435ef7ebf84d521030/expr.ipynb\"><img src=\"data:image/png;base64,iVBORw0KGgoAAAANSUhEUgAAAjkAAAAmBAMAAADU2pc5AAAAMFBMVEX///8QEBCIiIhmZma6urrM\n",
       "zMxUVFQiIiJERETc3Nzu7u6qqqp2dnaYmJgyMjIAAAAcRTyBAAAAAXRSTlMAQObYZgAABpNJREFU\n",
       "aN7NWn2IVFUUP/Pxdua9+dhd0GgTYdQyobTBDQzSXIn0j7BGYdMg2GEpon9kyVoUpWz/qDGzXkUm\n",
       "lvpUcG372MFYylB2bOufZGFijVKsJDIoyhbdFl3t49x737vvY96+j2ludGHOvGHm9zvv/N655957\n",
       "dgH8h9LaWoF6x7cgZIihVYqmjbW2aoEwLfX7i54XEoYgWnjAYiESTJ2e+t2t0IREIYgWokXTildH\n",
       "mSlmBoihxfGbxQpXp6koJAZBtDhe1UwrXJ0u1fJh+d91jtC0ge7NxdG4rjuzwtX5yXItb2vYE24E\n",
       "rTtOmjKtaHXkq9bp0NEocRpCOw3uB9OKVidmXXj3NSx1GkI7De5L04pWJ5KzfLgTX3tDU6TUkLTH\n",
       "AhIjTq5CDXB/B7eoznn/nSeqkyXvmWrY0PYXLCzoSamjRjwRkrZJDbYpQNwR+1SjwEiFW1TnFPnw\n",
       "i5866TK+Z0Nvwb63XBOKrBpenQ9C0irBttEE93ONXqiRaVGd3f5lH9Whv9gdOrIljijH6pid6VxI\n",
       "2k+Dip7JQy0wOs4tqkMSgmaGd90h2XUqdGSbLNej+Npcz764JSTtgUC0iEs4MpkCU1e5RXUyXwwM\n",
       "vOlflc8NDLwTvjhftlwjWq6rvP8YkjYbaIlHjDNsCpSugWHJmnWlVNrqr05zqfRC+DbGJcv5Dkt6\n",
       "lKTy6yNz/OuXvHTxTcb1SEjadD7IcRNx8xyOKFD5EwxL1HkMYLsLvGJXp6kAydAllXliI4GvJN5S\n",
       "vA1+D3AGV7PjxvV39M4v0pEPQJsJUpYJbqfDEQNe4g+AqHOve5XP29WJ590WD78MYGEoxMwlt4T1\n",
       "7UAV7sLMZeuASxLRHyuzIcZXio9C0qZ6vKgtuC0ORwx4HQxL1EnQLDMPGhs/gznFGnVwni4MuH17\n",
       "6fFug4vOYXmrPs8hghN7uQZPgtROb0T5qxY+SB5VbAoSfKnqqjkLedNK417UFtwMhyMK1IvaZV2d\n",
       "dDXB8e+OLIOP01pMq1VnFPxLqnK8vaqs16RfbWGsfo5kbUUP40ZQ/sBUZGS9LilPjseRbTBY8FFn\n",
       "WloW5HTUFtwMhyM3deTzD/GJt2OPBidy+TSMtG9sL9vU2Sf591S+OTYAmbcBjtunwIOYmwmNTQHl\n",
       "OqTGuTrTjcEKDPMPqyx1pxiA1ofbxG1xOKJAhc4sxZhZsP1R1GXZ2nmkBOEYGnotXVt3ILkLn5Cy\n",
       "eEOhxtuh+Rd0doK5bwhv3wCyCpfo0QXD8qlcw33oMV91yrAhpY59NTdvVGVbinrT+lVljtvpcESB\n",
       "THrZWLPgQ/x1ZkU1orIz11D6/Udc1EmRDWp/oUuDJnvBU55m3RBgh7GzZyzfsQoXndDPKmTJ7IOv\n",
       "ixWbOqQc0DIxyMNK5jK9aTg9G9rww9Ka+LxpY3y5pawOagtuxOGIAh37HWjGsrTnVmjWFKrIEFRG\n",
       "XNSha1w7rAPppF2dWF7SQz1EzCfWM/INDD8JqbyRuofnPtzdYVOHloNeXhcoovuWXTfLB3uA6H6h\n",
       "Rh1v2qyZ3r1QQ23BrXI4osD4BBiWqpMhphtWgLSpVOpDdfYm3NQ5i69ZMF+fs5Z2Qllv4cO6UqmU\n",
       "e6vT8t3Lem9T1c+Jm21T3Lc/lYu3uPZPvGn7/XgNHD9JMEcMmJni1uzvzISlEhRZ7sTX4lvBpb+j\n",
       "XIWdA051BtXkWW3sxDl0QlPpIN9YAJzUOw6VlexiLJQ6kUKsUnA7hXrT+p5CDRw/hTJHDJhu4Zar\n",
       "I4/DU0PwObk8jYeq6bpfbdJElaizW5NfNExE7VoNR7dhvqULdGteMO9vmPEnW/TdON9up4Kosx8S\n",
       "9xfcNqGetP4dDI7bbnPEgNkit1ydeBFur0ISF/H4Mx0sCdzUWXnbPKrOmrLUBmtUYsrx7qPL8KCx\n",
       "Hr/eQX7z3sXned4Nsn1mfFKfe0abSl4ymfNXZyVER12POZ60/gcejjtic8SAjJtaZ+d0AdYd384p\n",
       "mVlmy6OsH1sW4oIfxbpjf0r6bTxr6BW+c5pxCdaT9ow/p4Gzd04ZcFjltp6+snTH3ZZmr351GI67\n",
       "tVUzem9mATR0/FtaL9w9pq23655xuXJFXgMRQxAtHbNMK/yvfYvEhLBImDjRFtMKVydSEBKDIFrC\n",
       "XLVY0eoE6kT9b2h5VjIr/v93+sQEIYgW5DbT/gfq9IuZA4Joob9s2qDqXCnl6n4Ym8U8YzG0tNWs\n",
       "22jplUDqQGenWre/N8SEIYZW6TCt3NkJ/wDkMoayRtJVHwAAAABJRU5ErkJggg==\n",
       "\" style=\"display:inline;vertical-align:middle;\" /></a><br>(see <a class=\"ProveItLink\" href=\"../../../__pv_it/theorems/01b6d68e3bb9475fa0f5703f5a774f657a1810890/dependencies.ipynb\">dependencies</a>)<br>"
      ],
      "text/plain": [
       "sqrt_of_prod: forall_{n in NaturalPos} [forall_{a_{1}, ..a_{_a}.., a_{n} in Complex} (sqrt((a_{1} * ..a_{_a}.. * a_{n})) = (sqrt((a_{1})) * ..sqrt((a_{i})).. * sqrt((a_{n}))))]"
      ]
     },
     "execution_count": 2,
     "metadata": {},
     "output_type": "execute_result"
    }
   ],
   "source": [
    "%proving sqrt_of_prod"
   ]
  },
  {
   "cell_type": "code",
   "execution_count": null,
   "metadata": {},
   "outputs": [],
   "source": []
  }
 ],
 "metadata": {
  "kernelspec": {
   "display_name": "Python 3",
   "language": "python",
   "name": "python3"
  }
 },
 "nbformat": 4,
 "nbformat_minor": 0
}