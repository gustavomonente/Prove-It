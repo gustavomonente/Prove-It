{
 "cells": [
  {
   "cell_type": "markdown",
   "metadata": {},
   "source": [
    "Proof of <a class=\"ProveItLink\" href=\"../../../../../_theory_nbs_/theory.ipynb\">proveit</a>.<a class=\"ProveItLink\" href=\"../../../../_theory_nbs_/theory.ipynb\">numbers</a>.<a class=\"ProveItLink\" href=\"../../theory.ipynb\">exponentiation</a>.<a class=\"ProveItLink\" href=\"../../theorems.ipynb#add_one_left_in_exp\">add_one_left_in_exp</a> theorem\n",
    "========"
   ]
  },
  {
   "cell_type": "code",
   "execution_count": 1,
   "metadata": {},
   "outputs": [],
   "source": [
    "import proveit\n",
    "theory = proveit.Theory() # the theorem's theory"
   ]
  },
  {
   "cell_type": "code",
   "execution_count": 2,
   "metadata": {},
   "outputs": [
    {
     "data": {
      "text/html": [
       "Under these <a href=\"presumptions.txt\">presumptions</a>, we begin our proof of<br><strong id=\"add_one_left_in_exp\">add_one_left_in_exp:</strong> <a class=\"ProveItLink\" href=\"../../../__pv_it/theorems/da398532477f84e36eed9392d9c2d9954eea17100/expr.ipynb\"><img src=\"data:image/png;base64,iVBORw0KGgoAAAANSUhEUgAAAQcAAAAcCAMAAABbE4p5AAAAOVBMVEX///8oKCgUFBQNDQ0QEBCI\n",
       "iIhmZma6urrMzMxUVFQiIiJERETc3Nzu7u6qqqp2dnaYmJgyMjIAAAArQGDrAAAAAXRSTlMAQObY\n",
       "ZgAAA1dJREFUWMPVWYuSpCAM9O7kTXj9/8ceoIICijrU7F2qdje1kB5tQtIw0/T/GLH2bSgVI9F+\n",
       "2jR+yQLGfBzaYKOk9jpm1fIXPU+lzAMr0NAP08Bqr2dOrm/FPuBBFGjPwYaahdrrUecQYnGyNp/z\n",
       "kNAeg400jGqvZ4jDhJZNzeFjHjJaBMtF03yRF+mg8romPGNmeV6EP+Yho0UwrR7n59DK/6Bqz76e\n",
       "Yray94YHZr3N4ZfZo0UwufEjxRe3xaxqr18mIU/n6tN82KFFsC0NtPrHt0XYx2Z7C/xs1VTNww4t\n",
       "ghkNwST/YjqYufbutFqtU82cn9COuWOo7BcZbQFzIhjX3+wWtvIk1hjN0HyLxgi5kUdtyEYiLWCM\n",
       "xmH5SoFfSsH4CEijimIhSo/M/vNtq/q1R6ijuejaneFOYIuHBYyEULD39LwSmnGGrlDzqtO47XxQ\n",
       "KdksKzyYzXHTp1WsRra60hPjJ4GTbJWrCBYqAzIXen4CpTH2M4AK/4DU6js8yPiKnKy1+VDxcOHh\n",
       "OIMnfsFt61KOpAk9Hk4Cm5QtYEFY8is9b4SSEFCNjAyoWzwEyvxH0EZzzNm7erNIc1d+toypRu7m\n",
       "w0lgu31FMGnTWQcwYpYWCpxsT02ookVu7Xk4BE9ELxhhLi+yTbCjBy5MVq61VO0R6mS7PrBOYPvg\n",
       "soAJyRZ2gVP/TygUeCodBow8rzopmMUG9Mf/mBWtzE4mjh44FeXepGTFQ3uk2y/OIc/6hWdtu6bA\n",
       "/q0pL/Q8pCRWoC54OAYjtaN6LnjI3X/14kf5vaDbh4p6pK87ziHP5YxDWeQiVuh5yuP6elypKD3n\n",
       "4RAMYluWEFFu5ryaqwcMISoZqjf9yUhfT55D1iVVpIRfH9ovnjAARwWeux4GdOxqOx5ycDjO/P61\n",
       "Hmea/SJSXHrPri9GXiNVYF55UEdMOHRBVuCa7hRa8HVTP6Tg1DO3Q22lHyasa++JgRt4OK7BCEMK\n",
       "BaFAQx4kBS5S2wNfmwWjzX2RgreeuRKhG3KMzrX36IAy8jLtEuzQ8dFSH1rVqB3cXWSmau+BcTqQ\n",
       "hyuwG93mgof+uSTreHjxNYIZeSi8BLt7R9fkwdxYYoVr7/Y5euSV0Riw99+FKFJ7dz905A0i/uJ1\n",
       "5L9vfwHGgCkBVgIS2gAAAABJRU5ErkJggg==\n",
       "\" style=\"display:inline;vertical-align:middle;\" /></a><br>(see <a class=\"ProveItLink\" href=\"../../../__pv_it/theorems/ebcae2a201b4df08402ccf8c25973675653b24290/dependencies.ipynb\">dependencies</a>)<br>"
      ],
      "text/plain": [
       "add_one_left_in_exp: forall_{a, b in Complex | a != 0} ((a * a^{b}) = a^{1 + b})"
      ]
     },
     "execution_count": 2,
     "metadata": {},
     "output_type": "execute_result"
    }
   ],
   "source": [
    "%proving add_one_left_in_exp"
   ]
  },
  {
   "cell_type": "code",
   "execution_count": null,
   "metadata": {},
   "outputs": [],
   "source": []
  }
 ],
 "metadata": {
  "kernelspec": {
   "display_name": "Python 3",
   "language": "python",
   "name": "python3"
  }
 },
 "nbformat": 4,
 "nbformat_minor": 0
}