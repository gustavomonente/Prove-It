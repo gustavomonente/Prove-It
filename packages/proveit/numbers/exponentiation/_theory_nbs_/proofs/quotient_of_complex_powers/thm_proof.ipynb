{
 "cells": [
  {
   "cell_type": "markdown",
   "metadata": {},
   "source": [
    "Proof of <a class=\"ProveItLink\" href=\"../../../../../_theory_nbs_/theory.ipynb\">proveit</a>.<a class=\"ProveItLink\" href=\"../../../../_theory_nbs_/theory.ipynb\">numbers</a>.<a class=\"ProveItLink\" href=\"../../theory.ipynb\">exponentiation</a>.<a class=\"ProveItLink\" href=\"../../theorems.ipynb#quotient_of_complex_powers\">quotient_of_complex_powers</a> theorem\n",
    "========"
   ]
  },
  {
   "cell_type": "code",
   "execution_count": 1,
   "metadata": {},
   "outputs": [],
   "source": [
    "import proveit\n",
    "theory = proveit.Theory() # the theorem's theory"
   ]
  },
  {
   "cell_type": "code",
   "execution_count": 2,
   "metadata": {},
   "outputs": [
    {
     "data": {
      "text/html": [
       "Under these <a href=\"presumptions.txt\">presumptions</a>, we begin our proof of<br><strong id=\"quotient_of_complex_powers\">quotient_of_complex_powers:</strong> <a class=\"ProveItLink\" href=\"../../../__pv_it/theorems/66025aee699a2b4b5297e8eda8172b903553a1300/expr.ipynb\"><img src=\"data:image/png;base64,iVBORw0KGgoAAAANSUhEUgAAAPsAAAA0BAMAAAC+4lP0AAAAMFBMVEX///8QEBCIiIhmZma6urrM\n",
       "zMxUVFQiIiJERETc3Nzu7u6qqqp2dnaYmJgyMjIAAAAcRTyBAAAAAXRSTlMAQObYZgAABEhJREFU\n",
       "WMPFWEtoE0EY/pN0E7OPrIciipdYoXozWKnisyCCFyUefKGYUq2CCBZflCJSK2h8HFY9KOphteih\n",
       "VRqV4gPBYNVDlTaIYFuwFkURlVpqCxoVnZ3ZnWzTJDvbjDiH7mT7z3yzM9//f/8/ALxbySD819bx\n",
       "X1AfW53PTObX+KLLSav3g+2MBrjCl1sdYbhcZxnQzxNdmmz1vA3eCMuISUmO8Jer6LRhhWlfxVKO\n",
       "8Edoz1Plq2YacpPj3qdpV9U9CaYxAX67HyDHfbZjhh7QexiX/IMb/BsNO9M0+ArCLtav2ssNvp7w\n",
       "LwUL3KxZ54QujODHMh32uBjVFuYE7yNePxXEURdaFOIV+DzY1cRfIA250CIvL+7FUhj+J/gH7uW3\n",
       "ytai4G9O8HMw8aEJXlUXoP24j53CCf6wKaJlG2uq8vMzo0VyGWbdMQB8/K+LhJ/KYmTTon0C5mo3\n",
       "wDPj+ak4dPEbk8RRLfI1QhQ7fhTOGxxoLNLth5ncA2nRyjhqVBRiYQih85ATxcFLP1msMlqkambc\n",
       "iYDS2dJyrsijV0aZZIlqUagKMAtUFC6+x+MHi4R3jh+GFGa0KDj3BfYBFR16LcDxHJmjqzQznett\n",
       "16DR3lEpzMEGRMXlIOaIvT7yWM0Uln1pp1QstxR66tCRgDdle3Vn9ta3GXiZZo13nx4YI1DSqR01\n",
       "Vt8/5ACfRwoDyPvlVID674OKlFeGzjCFDxlcbe1YAldPwJakzUzcoAtfsuDVP1YbGheWckqhAR8c\n",
       "WGf97LnXAgi+LyVXzK9YZLmIcvKCDr1JkJI2M+USwIPCm0/O/kMBKQygzYfj29Cf5vL3UGLstAGf\n",
       "pF8fK9uJyIG4swmFKY1Ea2y2oh0tnFLPgfn5pNCgHtxGaxD3C2kIAYGviFD4WfpMrArKDY1Ga2zW\n",
       "12t3PCe/zyOFOE1QjaOOCHXQjKfybd+XoV4T9IvGx0qtGo3W2Oy+/WOUEad6MrcUqsbUCgoBnoS3\n",
       "GtajeBz2ymdeZuBLoVKoj8ebgu1Rsl5ERWx2ca3dC0YmFq7arB1p0yb16X6y+dJmtB6BvE/DdMCJ\n",
       "1EK0RTqhIjbzXUEnRiVngmlLzHJljxZbBXKUnH2nuajgCWhQGuEJjppPQA6f141ojc2Ci6PwiM4z\n",
       "RnDNXIKhPbSkrqTm1hKAk0bY6Uo2LzU/ajqse4502jASuz7WwpoEjtaGGVwfPBql8xyyT2rmEgyt\n",
       "WxsrHehQx0Q28pgdbzJfJHKaoahmj8BmLsHQdhf+d7arShpDveJhTx4ccrRUtq7n5VAio6uqxooe\n",
       "HAY+jZQZRFetXIJHmsBaZA1ldNXKJRhyzzpeV4kTKjFVXiWmWaoXLjHH10a8CmxCfacS81/VWIh7\n",
       "SYYS899drpCrJYcSM7u8j3CDh3fOJea4izWdH/zpqNsRXK8VJdc+7Oe49wCVbgf08EQHv8sYwvlC\n",
       "Hea5M7+GifcX8jgxhktuZPYAAAAASUVORK5CYII=\n",
       "\" style=\"display:inline;vertical-align:middle;\" /></a><br>(see <a class=\"ProveItLink\" href=\"../../../__pv_it/theorems/24c00fe357984909d44e74b7b1ba417ac938340c0/dependencies.ipynb\">dependencies</a>)<br>"
      ],
      "text/plain": [
       "quotient_of_complex_powers: forall_{a in RealPos, b in Complex, c in Complex} ((a^{b} / a^{c}) = a^{b - c})"
      ]
     },
     "execution_count": 2,
     "metadata": {},
     "output_type": "execute_result"
    }
   ],
   "source": [
    "%proving quotient_of_complex_powers"
   ]
  },
  {
   "cell_type": "code",
   "execution_count": null,
   "metadata": {},
   "outputs": [],
   "source": []
  }
 ],
 "metadata": {
  "kernelspec": {
   "display_name": "Python 3",
   "language": "python",
   "name": "python3"
  }
 },
 "nbformat": 4,
 "nbformat_minor": 0
}