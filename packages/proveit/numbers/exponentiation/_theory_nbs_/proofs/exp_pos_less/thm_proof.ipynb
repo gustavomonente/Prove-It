{
 "cells": [
  {
   "cell_type": "markdown",
   "metadata": {},
   "source": [
    "Proof of <a class=\"ProveItLink\" href=\"../../../../../_theory_nbs_/theory.ipynb\">proveit</a>.<a class=\"ProveItLink\" href=\"../../../../_theory_nbs_/theory.ipynb\">numbers</a>.<a class=\"ProveItLink\" href=\"../../theory.ipynb\">exponentiation</a>.<a class=\"ProveItLink\" href=\"../../theorems.ipynb#exp_pos_less\">exp_pos_less</a> theorem\n",
    "========"
   ]
  },
  {
   "cell_type": "code",
   "execution_count": 1,
   "metadata": {},
   "outputs": [],
   "source": [
    "import proveit\n",
    "theory = proveit.Theory() # the theorem's theory"
   ]
  },
  {
   "cell_type": "code",
   "execution_count": 2,
   "metadata": {},
   "outputs": [
    {
     "data": {
      "text/html": [
       "Under these <a href=\"presumptions.txt\">presumptions</a>, we begin our proof of<br><strong id=\"exp_pos_less\">exp_pos_less:</strong> <a class=\"ProveItLink\" href=\"../../../__pv_it/theorems/1efb6c67d8c44454bf2fda68da1b0321606df4540/expr.ipynb\"><img src=\"data:image/png;base64,iVBORw0KGgoAAAANSUhEUgAAAREAAAAXBAMAAADelGYUAAAAMFBMVEX///8QEBCIiIhmZma6urrM\n",
       "zMxUVFQiIiJERETc3Nzu7u6qqqp2dnaYmJgyMjIAAAAcRTyBAAAAAXRSTlMAQObYZgAAA4VJREFU\n",
       "SMe9Vk1oE0EUftnsZpPNJunFQ+llaSCWChos9Q+tRaHFg/252B6ESv2hvRQP7UEQKWjLVhFWD7Uo\n",
       "4kqgQigYFGwrUkIuQpS6YKFaqoSiF6UQpAVbL87PzuwmTbSC6Rx23rz9dubbN9+8NwA71ZT9Ax3/\n",
       "4v//7aHdP+noMUu9J/5ZZOTw6FMFQzFsGw3QVRJA/D4D4A0efasck7BhGzUQKwkgfgUFZAINAsOV\n",
       "Y/KexWYDbie5d45Lw/ZnEGe0eWqqckyuMKNaWrOYvXjYAVD/Y4BQNpm8VzkigcvMatkTZUx2Z10I\n",
       "6g83A/zU9auVYyLE0QbU9p/IuDT8WrONqAZ37POkItxFgLFtTNlM5s2kt7c+x/nR/07BonbNIXKQ\n",
       "hUYVq2CfbYeQZE8S4ZZp03XnV6hFRL0ML8hgxkGIBUkiQJXIcAAykmAW3pmnOGSAi/KBNwe6bQfR\n",
       "LsogWKUzwasGS1AhqzlMBiGCF57TOEgaLfymz3DhUPOgWJp8PYxwmJgeDX6wefIoRpZcOh4fZpOA\n",
       "mCxZnImyDh40z2eHeaDPKFLoqMFxjAnw9QiC7w60m9K6i0kgdwZZidhX7Mg0xlB8xRjIphjHG46Y\n",
       "pDkTaQNkC/ZaHKkcYmheQKTrpo3juwN8vULFQhMIVWyT8Rkbu4DeDkmbeGFzQEY/oUbMTggDZdIQ\n",
       "d5hsgqy1kr8lSGUe/zFBO4VFXKE4R7EvhTzUu7mwUzwK/nMuxcJzRMcblzApCVax+34r1EGCLOi9\n",
       "NAjumHi0qRvAkJ0WR7sKS6ia4PjpFH/584FCKdqZ7QC0M78XRz6CPvKkBMpugzyPQi906bquCerd\n",
       "BXDrJNIMU7cYUv3C0a7CMqdRHIu60lsfLS6xNNtP1h5nMgtjRwjF9KnhXzKJcCSq/V3go7sTPGsW\n",
       "nx3hO0MmRhjaKSxtWffZcbJ9ydbE7wbM8Bg9p2HCfKTmVNTBkJgHtYPqJOsoFqI0T4RWgSABxnFS\n",
       "xOjATbuAdB9xcO4KWKL5csoas3kOFnufHYPO1ORCJos6aKlDAsKbMD2fTjQ5TIS3VL5BkyBRm+gH\n",
       "gpZqaAEZ73fjsGSNskxky89OUXFytXNASjGw5AWkE+dduYtDt0HRQZoWRsrelLY2sbaxDN+gYXe+\n",
       "dNuWz8pPSNGzf7s9/rF9LByGWCcup8szmUFnSncXG4q2duxqHq/0Ar8BsOoNGtqP2/gAAAAASUVO\n",
       "RK5CYII=\n",
       "\" style=\"display:inline;vertical-align:middle;\" /></a><br>(see <a class=\"ProveItLink\" href=\"../../../__pv_it/theorems/0a2fea16a11c6ca9b42a979323996c436c26a06b0/dependencies.ipynb\">dependencies</a>)<br>"
      ],
      "text/plain": [
       "exp_pos_less: forall_{a, x, y in Real | 0 <= x < y, a > 0} (x^{a} < y^{a})"
      ]
     },
     "execution_count": 2,
     "metadata": {},
     "output_type": "execute_result"
    }
   ],
   "source": [
    "%proving exp_pos_less"
   ]
  },
  {
   "cell_type": "code",
   "execution_count": null,
   "metadata": {},
   "outputs": [],
   "source": []
  }
 ],
 "metadata": {
  "kernelspec": {
   "display_name": "Python 3",
   "language": "python",
   "name": "python3"
  }
 },
 "nbformat": 4,
 "nbformat_minor": 0
}