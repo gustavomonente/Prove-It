{
 "cells": [
  {
   "cell_type": "markdown",
   "metadata": {},
   "source": [
    "Proof of <a class=\"ProveItLink\" href=\"../../../../../_theory_nbs_/theory.ipynb\">proveit</a>.<a class=\"ProveItLink\" href=\"../../../../_theory_nbs_/theory.ipynb\">numbers</a>.<a class=\"ProveItLink\" href=\"../../theory.ipynb\">exponentiation</a>.<a class=\"ProveItLink\" href=\"../../theorems.ipynb#add_one_right_in_exp\">add_one_right_in_exp</a> theorem\n",
    "========"
   ]
  },
  {
   "cell_type": "code",
   "execution_count": 1,
   "metadata": {},
   "outputs": [],
   "source": [
    "import proveit\n",
    "theory = proveit.Theory() # the theorem's theory"
   ]
  },
  {
   "cell_type": "code",
   "execution_count": 2,
   "metadata": {},
   "outputs": [
    {
     "data": {
      "text/html": [
       "Under these <a href=\"presumptions.txt\">presumptions</a>, we begin our proof of<br><strong id=\"add_one_right_in_exp\">add_one_right_in_exp:</strong> <a class=\"ProveItLink\" href=\"../../../__pv_it/theorems/c72a432b4550a898359bfcd8dc280067108293190/expr.ipynb\"><img src=\"data:image/png;base64,iVBORw0KGgoAAAANSUhEUgAAAQcAAAAcCAMAAABbE4p5AAAAOVBMVEX///8oKCgUFBQNDQ0QEBCI\n",
       "iIhmZma6urrMzMxUVFQiIiJERETc3Nzu7u6qqqp2dnaYmJgyMjIAAAArQGDrAAAAAXRSTlMAQObY\n",
       "ZgAAA2BJREFUWMPNWQmu4yAM7cyEHQPh/ocdyMIeCFUU1dL/slr7kTyMF/r5/JqQdX0HkorPT4vG\n",
       "b0BSjPlPvC4ltbbJqkauaHatBJLFKOHfgT1MA6u1XawcxjmbXCyBFCUP02DPygq1ttNiEWIwiHMz\n",
       "x3kCWfEwC/asYFRrR9Bz+KBRiuAws1gKWfOwg8VMal7kRVqotDNwHS9mVDLQVC5NIRs8bGBaXcTn\n",
       "SzWhSuWLy5qYDXmcWe2AZKuTxf8zGQ8bmDwJkm+W00XV2pnToPFhfTDUxGopZCMedrAzDLT6iWPh\n",
       "T6sZbwme2bUUMvopnoEZDV7km12FWWotllGtb6S+ZapGR8gQ/phbhlIwK7xw/SIPeK00iTVGSzdF\n",
       "pSbEjrNZE7IVRzsYo9v38qtOn/S+3B4BaVRRLESpkcWtv3azX2ZCLY1Jd00Et+27POxgxLvCeq8t\n",
       "V0IzzlAXNuw13Y6dcyrT/8oKDRbTPvRxN3MTaclghy4gZTNdbWA+MyDTa8tBaYydBVDhHoyu+g4P\n",
       "cntFTo6EnSUuXGh4s+BVrw82nqDMBIY8XEG2KNvBfGPJe225EUqCRzVyY0Dd4sFT5pagjeIYo/fQ\n",
       "FhFsC8ZC5OQm43i4hLyMB7mGWQcwYist2nJyPjWhihbBlfKQOX+I3jG8LS+iTbBcA+uNle3uWWZC\n",
       "k9Epyw+sbT+YP3YwIdnOLnDqPoSiLQ+hacDI67QTnNlWgP65P3OgldHJRK6B9QHD1o+S1zxkJsN6\n",
       "cQOyqBeOtfNKAru3prxoyyEEsQLV4SF3RiqhekFX1f/QtqXcGdCDISGYmGH/cAOyamIsik0uYkVb\n",
       "Tvm2vw5XKkqvecicQZzb4j3Kwxx389CAIUQlQ51Dn5uM+8kbkFVzauB4aLd5wgDkbXmsehhQUc1E\n",
       "Eoins59n/v455plmvdgoLrW564snr5EqMNd5UEuMH7ogtuWaJh2a13WzfwjOoWaeQ23VP3ywrrUZ\n",
       "AfvgcFyDEYYU8o0C9XEQ2nIRyh643CwYbZ6L4HzWzIMI3bolXWptakB58jKtC5ZVfLTnh1Y2ajsP\n",
       "N5mpWpuZIOmDPPTAblSbDg/juST28fDFzxXmyaGwC3b3jq7Jg7mxxQrX2u3riyevjJ4B+/43F0Vq\n",
       "7e6iT94g4hevI39f/gPtrykBJGbtPQAAAABJRU5ErkJggg==\n",
       "\" style=\"display:inline;vertical-align:middle;\" /></a><br>(see <a class=\"ProveItLink\" href=\"../../../__pv_it/theorems/2d1231d9144d62a0916ba5d609e9829c39fac4a30/dependencies.ipynb\">dependencies</a>)<br>"
      ],
      "text/plain": [
       "add_one_right_in_exp: forall_{a, b in Complex | a != 0} ((a^{b} * a) = a^{b + 1})"
      ]
     },
     "execution_count": 2,
     "metadata": {},
     "output_type": "execute_result"
    }
   ],
   "source": [
    "%proving add_one_right_in_exp"
   ]
  },
  {
   "cell_type": "code",
   "execution_count": null,
   "metadata": {},
   "outputs": [],
   "source": []
  }
 ],
 "metadata": {
  "kernelspec": {
   "display_name": "Python 3",
   "language": "python",
   "name": "python3"
  }
 },
 "nbformat": 4,
 "nbformat_minor": 0
}