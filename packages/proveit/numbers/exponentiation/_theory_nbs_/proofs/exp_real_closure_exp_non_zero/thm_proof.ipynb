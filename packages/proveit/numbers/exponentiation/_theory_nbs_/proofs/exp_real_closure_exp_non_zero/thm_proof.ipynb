{
 "cells": [
  {
   "cell_type": "markdown",
   "metadata": {},
   "source": [
    "Proof of <a class=\"ProveItLink\" href=\"../../../../../_theory_nbs_/theory.ipynb\">proveit</a>.<a class=\"ProveItLink\" href=\"../../../../_theory_nbs_/theory.ipynb\">numbers</a>.<a class=\"ProveItLink\" href=\"../../theory.ipynb\">exponentiation</a>.<a class=\"ProveItLink\" href=\"../../theorems.ipynb#exp_real_closure_exp_non_zero\">exp_real_closure_exp_non_zero</a> theorem\n",
    "========"
   ]
  },
  {
   "cell_type": "code",
   "execution_count": 1,
   "metadata": {},
   "outputs": [],
   "source": [
    "import proveit\n",
    "theory = proveit.Theory() # the theorem's theory"
   ]
  },
  {
   "cell_type": "code",
   "execution_count": 2,
   "metadata": {},
   "outputs": [
    {
     "data": {
      "text/html": [
       "Under these <a href=\"presumptions.txt\">presumptions</a>, we begin our proof of<br><strong id=\"exp_real_closure_exp_non_zero\">exp_real_closure_exp_non_zero:</strong> <a class=\"ProveItLink\" href=\"../../../__pv_it/theorems/18518c2c765c1a73380c2860b86e258352a6828b0/expr.ipynb\"><img src=\"data:image/png;base64,iVBORw0KGgoAAAANSUhEUgAAAOcAAAAcCAMAAACtf1jIAAAAOVBMVEX///8oKCgUFBQNDQ0QEBCI\n",
       "iIhmZma6urrMzMxUVFQiIiJERETc3Nzu7u6qqqp2dnaYmJgyMjIAAAArQGDrAAAAAXRSTlMAQObY\n",
       "ZgAAA1tJREFUWMPlWImS2yAMdbvcQhz+/48twmCHw04ym7ZJy0x2J7vI6Ol4emZZPmzJGJf/Ynnx\n",
       "b+JSsv0e3XP2/ENg6u4Pq32y0PVH4IzY4V451/hUoYcPgCn6suMGF/5cixoKy8Fe4Q1x27VPHSTg\n",
       "4Ypyg2EAa4wMKp4cFu/OKuQ9yZUlWhLXLRcXTBsUBMASLPoBNXTwhmXLBnKlBLNryoXF+u1XiYdx\n",
       "N2n07hPKlpottBkJYNKKA05ha1MKMggeaVnzhukMbDJnvG++A8d5PhPOEhCeH7MCLePfkW33LFnh\n",
       "BWcjg+CEVQpOvY9OmctCq/zPB8avOh7vUxn8fpxQK1Sy5F5cxx3anvWnM6LGQK3kuRQ5Lo+Uka49\n",
       "nJgM4TltLc+1eHaHez6UVCwJQRZqmw2YpjgZdaw72jwfTp3Jz4anMxy0iLyKqG0fK58T+m+NRo/a\n",
       "/UJlmkhm/bwwZZ/IhWdGqapYrKvNZ0oe7AWHG04SRiMLofNCBNLByQOP9QwlUt9bwmjUqK1PjHqc\n",
       "jRbf2N/IMjSafBacDLK3aiRkOJsrQiro8mnjqJYTWzuLuBSXA4aD4NyAs2rrU6MOZ6PFc9w3EP1g\n",
       "BF3yQRXt1tmAPZ2fgGHPTTkPrC7dg4LruDdtea/JLpfecVvh0pEH+1VtfWbU42y0uPSHK6brHg0F\n",
       "J+HXcXH2rv7dcabUCXXLt8l5UcoWU47U2sre7LIQoiGiloeqtp4bjTjLfp0H2lf6hHJq34Gc3Yha\n",
       "o5fJ7DPuRPeR8NlGyTGG1/J8ckyZnNcbl4XWuXv2+PRzpWjrudEE560W5+6mtFiHsyYCNefKai5H\n",
       "nKhB4kTHK5pKMRfCQdQBDznJKRbK5FiTQyk1lgd5qUI3bX1tBFMtXqti689VTp58d2B5aHXfmOAu\n",
       "fEhBhUBMopsSdIqyh35b8kxbz4xmOMt+nabBzx80E8IJ3y7iFSoNh8cm1aFWSWTgVdNqHk8OtMSW\n",
       "VVtfGsFMi9s9NNTfw/xM8/EVKlmPdynccZFJD1wd+T761HpiXhiK8rhr6ysjmGnxY5YnPTS7ydMv\n",
       "eIsy6vKerLTaveUeNJpNdHe3LPH7t7XhJW8o7tHrN5i++d9//neva190f/DwpdLkuPBIUTr5PQfF\n",
       "H74O+rvX6L8AvuUn7wTCIPoAAAAASUVORK5CYII=\n",
       "\" style=\"display:inline;vertical-align:middle;\" /></a><br>(see <a class=\"ProveItLink\" href=\"../../../__pv_it/theorems/d2acb2aaf00f55e73f5fb66ac05ccd90eb01de060/dependencies.ipynb\">dependencies</a>)<br>"
      ],
      "text/plain": [
       "exp_real_closure_exp_non_zero: forall_{a in RealNonNeg, b in Real | b != 0} (a^{b} in Real)"
      ]
     },
     "execution_count": 2,
     "metadata": {},
     "output_type": "execute_result"
    }
   ],
   "source": [
    "%proving exp_real_closure_exp_non_zero"
   ]
  },
  {
   "cell_type": "code",
   "execution_count": null,
   "metadata": {},
   "outputs": [],
   "source": []
  }
 ],
 "metadata": {
  "kernelspec": {
   "display_name": "Python 3",
   "language": "python",
   "name": "python3"
  }
 },
 "nbformat": 4,
 "nbformat_minor": 0
}