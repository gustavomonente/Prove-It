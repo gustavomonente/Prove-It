{
 "cells": [
  {
   "cell_type": "markdown",
   "metadata": {},
   "source": [
    "Proof of <a class=\"ProveItLink\" href=\"../../../../../_theory_nbs_/theory.ipynb\">proveit</a>.<a class=\"ProveItLink\" href=\"../../../../_theory_nbs_/theory.ipynb\">numbers</a>.<a class=\"ProveItLink\" href=\"../../theory.ipynb\">exponentiation</a>.<a class=\"ProveItLink\" href=\"../../theorems.ipynb#exp_real_closure_exp_non_zero\">exp_real_closure_exp_non_zero</a> theorem\n",
    "========"
   ]
  },
  {
   "cell_type": "code",
   "execution_count": 1,
   "metadata": {},
   "outputs": [],
   "source": [
    "import proveit\n",
    "theory = proveit.Theory() # the theorem's theory"
   ]
  },
  {
   "cell_type": "code",
   "execution_count": 2,
   "metadata": {},
   "outputs": [
    {
     "data": {
      "text/html": [
       "Under these <a href=\"presumptions.txt\">presumptions</a>, we begin our proof of<br><strong id=\"exp_real_closure_exp_non_zero\">exp_real_closure_exp_non_zero:</strong> <a class=\"ProveItLink\" href=\"../../../__pv_it/theorems/59aad6a1dd832ee4997d826057f3c80c6e4218b20/expr.ipynb\"><img src=\"data:image/png;base64,iVBORw0KGgoAAAANSUhEUgAAAOEAAAAcCAMAAACgYSiPAAAAOVBMVEX///8oKCgUFBQNDQ0QEBCI\n",
       "iIhmZma6urrMzMxUVFQiIiJERETc3Nzu7u6qqqp2dnaYmJgyMjIAAAArQGDrAAAAAXRSTlMAQObY\n",
       "ZgAAA0tJREFUWMPdWImS2yAMpS23EIf//2MLBLA5HCfd7Iy7zOxm4giZp+Pp2YT8N0uEQH74cvyn\n",
       "IZKi/x7se/vZ7QGq4cJm3ixrdXOEAQfEG2MK3yprf2uAfCwyppGw91pRp4Ds/ORvhdhsY7ogQvbP\n",
       "6NRrCrCFQKEiyQFx9qwq7kacNBIPf95agWA0kOABS5jSP6hBg1sVKZ2IMyWVPqdTIMY9PkoktD2k\n",
       "ztl7F2lqKt9nwYOOK0wIuanNx9MG7zAto2+VQk8X08O57jswXOcwIiyhYNnNBmlpdy8mbZkx3HFG\n",
       "Z47ABW8UhKqNQpFLQcn8o/k3ISiupYVj7swljgbtrLUeBY0HC9vsVpmzPrSaV/RyS+AEzxF5gc+s\n",
       "ZqB4YL3TlZg43N2ne6q1Sy4ng8qK5QJSX9tpQrNESFNn2r2dcwZSB7LVMGyWaB3nPim9eBqH7OJG\n",
       "sbIehZG9i8KDs7Z8MF5vUHeVSPD8g54lpqShrj6HMWHQnOEDYRI3S56pQtCDNYikIPTorxAmjCDL\n",
       "PeSR+zttmU8yGNRIFIQUmslwAzibFlxIGHJoQlO5yJkKchCCgu9qPSN0Jwi73ehAZCcJk/YLbSkc\n",
       "mQyaW1Xik2zsthqYp/MQ0LMG4RFRMOpBGKhlvIiDEAykQ8g5XyPsdyeMseFlV2bFpcr0/Sf++cGg\n",
       "8QgUhCm3KhBrLnVrQxjTxeWRS2OMeCnSdHapByGI/ICQK6XFScP3u6N18DWKlM3aktlDmOlwXkYP\n",
       "G7Qii1mm7YlqS+Kl8EAbqxvbpRJTgxCUOkc83Svm0DB/hrDbjQzs3oebmLQlAiGzQaPjEnxUjEmj\n",
       "2GIooQKBC+Ut06wJOfk7CfviLoUTPGIvBFVXpVY6XCI87i5NOFFlcakiA/7+lXjQn3BpjsXlLHbQ\n",
       "q7Y5qWMpx+kqN+ETU+EuBJ3s+tCdMU3bjRz286VOTuOuc0maNt4Nhjb7hMbCKXBCMcvS4JMpd00I\n",
       "gq0T3wUXz8/DEuG+W/aaJo/53uVhZlWDcd59Qt0+e9jq2piVPiSvSYsXXNrLFKkPPOto+eQ0r771\n",
       "eR1h5/Ja8eLX3476Z2F8+Y3GCqGFuvDEpX8hQfarr0c/9Ez/jW9prfji0W71Wub71l/pbSdI7iok\n",
       "ggAAAABJRU5ErkJggg==\n",
       "\" style=\"display:inline;vertical-align:middle;\" /></a><br>(see <a class=\"ProveItLink\" href=\"../../../__pv_it/theorems/1c2e5e1b8e78e9a95164df0662b52c45e0c1fa7b0/dependencies.ipynb\">dependencies</a>)<br>"
      ],
      "text/plain": [
       "exp_real_closure_exp_non_zero: forall_{a, b in Real | a >= 0, b != 0} (a^{b} in Real)"
      ]
     },
     "execution_count": 2,
     "metadata": {},
     "output_type": "execute_result"
    }
   ],
   "source": [
    "%proving exp_real_closure_exp_non_zero"
   ]
  },
  {
   "cell_type": "code",
   "execution_count": null,
   "metadata": {},
   "outputs": [],
   "source": []
  }
 ],
 "metadata": {
  "kernelspec": {
   "display_name": "Python 3",
   "language": "python",
   "name": "python3"
  }
 },
 "nbformat": 4,
 "nbformat_minor": 0
}