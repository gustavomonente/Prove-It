{
 "cells": [
  {
   "cell_type": "markdown",
   "metadata": {},
   "source": [
    "Proof of <a class=\"ProveItLink\" href=\"../../../../../_theory_nbs_/theory.ipynb\">proveit</a>.<a class=\"ProveItLink\" href=\"../../../../_theory_nbs_/theory.ipynb\">numbers</a>.<a class=\"ProveItLink\" href=\"../../theory.ipynb\">exponentiation</a>.<a class=\"ProveItLink\" href=\"../../theorems.ipynb#int_exp_of_exp\">int_exp_of_exp</a> theorem\n",
    "========"
   ]
  },
  {
   "cell_type": "code",
   "execution_count": 1,
   "metadata": {},
   "outputs": [],
   "source": [
    "import proveit\n",
    "theory = proveit.Theory() # the theorem's theory"
   ]
  },
  {
   "cell_type": "code",
   "execution_count": 2,
   "metadata": {},
   "outputs": [
    {
     "data": {
      "text/html": [
       "Under these <a href=\"presumptions.txt\">presumptions</a>, we begin our proof of<br><strong id=\"int_exp_of_exp\">int_exp_of_exp:</strong> <a class=\"ProveItLink\" href=\"../../../__pv_it/theorems/9300d91c730b2956bb926634183e3b38b434e7aa0/expr.ipynb\"><img src=\"data:image/png;base64,iVBORw0KGgoAAAANSUhEUgAAATYAAAAcCAMAAADcImN/AAAAOVBMVEX///8oKCgUFBQNDQ0QEBCI\n",
       "iIhmZma6urrMzMxUVFQiIiJERETc3Nzu7u6qqqp2dnaYmJgyMjIAAAArQGDrAAAAAXRSTlMAQObY\n",
       "ZgAABCdJREFUaN7tWdmS2yAQVLLiZjj0/x8bkMUNsq6Na1Ohyi+Wpg3NXD2epn9rEWs/jvATl8af\n",
       "R9hdjHMuP0YPJf3vrbqLPEBAwRvdsfUNeP5Jp6Js8GC5fZMDBJJ+UbKfSpuFAZ0LQix7ZrChCJ0J\n",
       "uxyhsNbmx9OGUTyCKUOJw+TPqTaXMWR2L8wnXDAgtNYcEm2pbBhznrbr1reWXMIJQJRPhOPT+F2x\n",
       "9awSkN/mAsexNwTAjXV0WkebVu/8fo+269YPFTtb+dHsKgX2MQTbjTLHAplPYG8IdPWxwlouiTYZ\n",
       "rkuKC0F63frWmlVMXXU+h/BUv+J4po4FPdHjFQEy/NKaq5TbgptodSW3XbZ+JkabDsjlH/O6QZij\n",
       "h3CijtOWEBprLBJtRoNf8nSGXw0uW99ZJoYNbxsTHZoqS0LbgPSJxJsh1NZozirpIvw638K9tnzV\n",
       "+lYdDZUoJWmsMZrhRrffQ2hat83LV9rY6oJCXqNtaH1I25G9h+sekUbNlYgQRGLzA+Lzt10qn+z+\n",
       "vrbZSsR2EdqWjibaCM4KT09EzUJjgXGftrF157aV0IwzlBGw51N0TQLOqu4ubfhiy9Hgu6uYeeKP\n",
       "nUgcfYQ2p5Ks3fXwqI1+UBpj80q7GhAM2t2BdabtAhBQ4UCo1Ydo2/ZGOm0Xx1mz4I+7vsBR7Rsn\n",
       "wr6L0DBS0OZTXnszRigJHsydnhppRiqhb51puwhk5EqYOkabp9htlOb9RriQirZZxFcv0tZH2Pc2\n",
       "aYMyzjQYyUMMT3oorpK166wRs7TSdhGI0K2Qyz5thfVE9AvEv8yrOxNlkMLi31U1S4S/zW0sulEX\n",
       "oc1tMtekQjJSa7A8WxnZ63vCrqI1cOqQodJ2EciAaQpHRlu0Zmtt/nIfs8HVwcPKkgCLZ4/ZKET3\n",
       "SsIg+roIu5XU0YxfFGQaDDJnA9RztkhbsJ581aC8o+2290Dt0VZaI5Xd71zRFvqnUHXWn+Ks2iU+\n",
       "0RT1EUb9YpiALGFfUYNRvt65h3NYGjynowlIsPYpCLFa20Ug57J0h7bCOij0V7pZSP/WQxwCQ4hK\n",
       "hsrX7HFlMEBoCocoaTPQaLBU9J228LGg5Yi2zRq8ZwgDUGq7BIQBpX6spi1ZM5d0fv/yqccMKmko\n",
       "BR1xlQf980M+1J+3ZRpM01QPcDfBNl+4nEgXYryuh6TtEpBrxGnS2I23BetiX+vsrJkKxvgzYyWg\n",
       "0dOsQbi+mrZcg4mt6hvGnEqznL2ljTCkkG/QqPeyqO1EbB/AlTHBaD9Io3VoPjbedKdtpnESNBQ3\n",
       "8Pz/T4Ydme6ikNsuTHfVQaB+36beJnOmBmPK6S2fN8bZ9JuH4uronvuHfu8oyZdkf7hhnmfN6Omb\n",
       "aTs8p+nSZg7M7tT3/pnZkwhieoa2B/4nvX54Rf4ybTg2PZyz6f+6sv4A0G4yL4NVUTQAAAAASUVO\n",
       "RK5CYII=\n",
       "\" style=\"display:inline;vertical-align:middle;\" /></a><br>(see <a class=\"ProveItLink\" href=\"../../../__pv_it/theorems/2e1dd2fce81bc9f2aaa988dec1803ef5612dc3440/dependencies.ipynb\">dependencies</a>)<br>"
      ],
      "text/plain": [
       "int_exp_of_exp: forall_{n in Integer} [forall_{a, b in Complex | a != 0} ((a^{b})^{n} = a^{b * n})]"
      ]
     },
     "execution_count": 2,
     "metadata": {},
     "output_type": "execute_result"
    }
   ],
   "source": [
    "%proving int_exp_of_exp"
   ]
  },
  {
   "cell_type": "code",
   "execution_count": null,
   "metadata": {},
   "outputs": [],
   "source": []
  }
 ],
 "metadata": {
  "kernelspec": {
   "display_name": "Python 3",
   "language": "python",
   "name": "python3"
  }
 },
 "nbformat": 4,
 "nbformat_minor": 0
}