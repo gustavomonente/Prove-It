{
 "cells": [
  {
   "cell_type": "markdown",
   "metadata": {},
   "source": [
    "Proof of <a class=\"ProveItLink\" href=\"../../../../../_theory_nbs_/theory.ipynb\">proveit</a>.<a class=\"ProveItLink\" href=\"../../../../_theory_nbs_/theory.ipynb\">numbers</a>.<a class=\"ProveItLink\" href=\"../../theory.ipynb\">exponentiation</a>.<a class=\"ProveItLink\" href=\"../../theorems.ipynb#pos_power_of_products\">pos_power_of_products</a> theorem\n",
    "========"
   ]
  },
  {
   "cell_type": "code",
   "execution_count": 1,
   "metadata": {},
   "outputs": [],
   "source": [
    "import proveit\n",
    "theory = proveit.Theory() # the theorem's theory"
   ]
  },
  {
   "cell_type": "code",
   "execution_count": 2,
   "metadata": {},
   "outputs": [
    {
     "data": {
      "text/html": [
       "Under these <a href=\"presumptions.txt\">presumptions</a>, we begin our proof of<br><strong id=\"pos_power_of_products\">pos_power_of_products:</strong> <a class=\"ProveItLink\" href=\"../../../__pv_it/theorems/38fc083c460efd035af52f47b876cd01844be35f0/expr.ipynb\"><img src=\"data:image/png;base64,iVBORw0KGgoAAAANSUhEUgAAAmgAAAAmBAMAAACCDHpPAAAAMFBMVEX///8QEBCIiIhmZma6urrM\n",
       "zMxUVFQiIiJERETc3Nzu7u6qqqp2dnaYmJgyMjIAAAAcRTyBAAAAAXRSTlMAQObYZgAABwRJREFU\n",
       "aN7NWW9sE2UYf3pt1971D8MgcZskZdMxY4KVRjEwtISAn9RCMpBAXDMdJoSQRWXR4YdmH0gBSQ6J\n",
       "QFCzA9SRoWmjIThDQmXBD9OQIhAZCbigEvEPLoAGBhjfP117d33f3ut1S+5Ndndrf8/ver/nfZ/3\n",
       "eZ4DEBnK9Ok5mMIRyjuaUkmS0yfk+Pj0ekGrWpjSMdfhlM+To2eU/icqWteUauapdzilRKdas5NE\n",
       "25+oahqMilIykUL0f5LLcN5Boq2ryjoYFaVkIoXod2r4Uq53jmje21WZh7OilCykGH1NUucKR4gW\n",
       "TlZlPk0VpWQhxei94+S6XXOMaH1qVebtjesFKVlIQfrL1BcRx4j2dHXmc7QmQUoWUpD+NE3+ah0j\n",
       "2n3k+KEd00H01wuXBCh5SMOQ8zz6vjj5/iYVjezCF61FE8LZGvLf5BYpO7Y1aBnOgCcFKDlI4zjE\n",
       "pXfRiuhBKtq3+PSbtWhCOHsFzxgJF7YCm4J8OQ4NApQcpHFc5dLX0BRvIxVtL3ZMylo0IZyt4SZr\n",
       "/4w94xMAPaGUCCUbadQ6yqWXiBvgMSpaGO2iway1aEI4W8NHnuQtm8UEwMrvhCjZSKOZyqUP0MTv\n",
       "uEpECw0PDOwR2AiEcPbyLOxf2eZWE46LUrKRhrGHT++9Q/OPLN09b6XTb4vsniI4e6Lh5EfCj7lr\n",
       "aLZmvW+0zqu3qoxYlAI1VBOfXrlHTpk8Fa0TYCu76DKKxsXZGrnSJfkhfnTw1MFf1paL1fCYLgwV\n",
       "a/BT1/D4iUsZsq7Wd1Sgv17yBhJtCdkjWAHaKBoXJ9SpuWb6QOf2PvyEPjTv9+fhKbQQaLBmTDmF\n",
       "HGaBWxfOA8xlzaIsIVmzmXy2uQL9XSpajormA8mU0q1qjUszy0QrxyHOd17tsJDry2+6sXeGCv8e\n",
       "bXn5skk0EidcKHg8o8Fr4I2R36n8W06VwU5zj4MvoqvMx5ilD4OyiGRR089mVKC/UQqWSLRg3qe3\n",
       "PhbLB1LDsKBMNCOOAJUXNe8ffL0ODy2Cj7fBS9g7vxdMpCAMRziiPQAKSko91LndjM0NV+GuFGQS\n",
       "wqLpKEtIBjX9bEYFeqNo8uhKnfH5wQEIfO+GXDA2P7ZQL5oRR4ChDwCO8bOe7fs0GMlBAIt2u2CC\n",
       "RLuQh6HY67GseS0pdyEwVhSNNzI5OK5f913GmHaFS+mx3p838+mVuxN3p7Xn1lfQAy5a0SQ1J8CD\n",
       "lQysWR3Jlc00goODzb9QNgxcegRpaZzm8zYW/bQEw9agf1Fu473erBETLFrOONMyERq1lTso7x60\n",
       "FC0LGwPqmXON0cZObnhnUYptBDx6+V7JG1i0LxBlaHHetV5KQphEqsTwOYZoGKdswp2l9UCBF0bM\n",
       "t+1PtBfDLL5f6DOaL0o9UpSYINFiUaNoJLjivb0XfkjmDKLhKEbCTab4xP5IqDsIZ2fBTA237N05\n",
       "ZsrBoDQhGdQ48PLoTXka2Ub3zYFpcYQ4SEUL4huaRcM4d9TbBWuRFQF+NWj+tTFYVbQhk/awOvGo\n",
       "o8REcq97w7QRuJKFdfBJ4+qOuEE0EsW6Jy4obcfDux+SD3TBTWjF2Sfz9QKL0oRkUMOzfHoP6W/A\n",
       "C/GCaCE8NzpgOQ4Cq9LpdCSQkPNd5aJhnCuLX8z0AAW+32b+tQ0Tb2yQb95Mp3vlI/Surrg7SUyk\n",
       "4LtnTaL5Rw01j0ekNqiJeGtxCIJ+5tcsyn6Bgk7l0odo6/ZHTd9Pux9aoM8LNXSmwVI0q7yMflpG\n",
       "9V/QsGgE6D5QSJ6KuNuwYyC08OITx5BWxIMLIiQHmqa5sjV0eQbW4hvr3B6sNVTXQqK5ElJKHkuQ\n",
       "ipqVlzMoTwj0W6JcesoIX+ubkPIYmmvngxDEDxOKQyjHbkK61PbnyEwjQLk1ASfkbbBXmzjUeW/m\n",
       "A3OhAe+YJ7HBrpMQjOzVfNp5aoJTDlMYChAn+tWK6ao5e0WTIZTK8fJtBqVQZr6VS1946XBFL5on\n",
       "CVdh9zDAdry0fy5Mk3LRPB2fLyKiESB8em1LwtsAy1VvHT40wLJHm/LQqXS50dr346CpnPq1E5Zn\n",
       "vRty1OToqdxBUy+alnUTHUN5/j8R66dbBmFV3qCVdLGk9Iv06w5x6UlhVuAta3dLKO5Ytrt7DMBA\n",
       "ycH01BWI+vBlS7q38EW2AjfAFvvt7hHO5+WUI0JN5DyPnvSECg0iW+8IVtzImhvp+islKcVrHjGs\n",
       "lspePj35nZNJp6Srwz1qWzTTyDOuTAEWrPLVyR6TTkn75K7sZIlW9ZBGHU8p0c1zNjhGNJTvOJ3S\n",
       "RRfRLAeJdsnxlHP189cZovkjDqeU68hpp+og0ZRNDqfsJxuAshn+l2i30pGpVG2P6mzKHXT2ksDW\n",
       "kh4XtGprU6dSNDnhaEolTk4fkeN7bYn/ANfUP9hggLyKAAAAAElFTkSuQmCC\n",
       "\" style=\"display:inline;vertical-align:middle;\" /></a><br>(see <a class=\"ProveItLink\" href=\"../../../__pv_it/theorems/bf153dfc0d06743f79ca67d7dcd0374f20bc3b5b0/dependencies.ipynb\">dependencies</a>)<br>"
      ],
      "text/plain": [
       "pos_power_of_products: forall_{m in NaturalPos} [forall_{a_{1} in Complex, ..a_{_a} in Complex.., a_{m} in Complex, b in RealPos} ((a_{1} * ..a_{_a}.. * a_{m})^{b} = ((a_{1})^{b} * ..(a_{i})^{b}.. * (a_{m})^{b}))]"
      ]
     },
     "execution_count": 2,
     "metadata": {},
     "output_type": "execute_result"
    }
   ],
   "source": [
    "%proving pos_power_of_products"
   ]
  },
  {
   "cell_type": "code",
   "execution_count": null,
   "metadata": {},
   "outputs": [],
   "source": []
  }
 ],
 "metadata": {
  "kernelspec": {
   "display_name": "Python 3",
   "language": "python",
   "name": "python3"
  }
 },
 "nbformat": 4,
 "nbformat_minor": 0
}