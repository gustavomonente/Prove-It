{
 "cells": [
  {
   "cell_type": "markdown",
   "metadata": {},
   "source": [
    "Proof of <a class=\"ProveItLink\" href=\"../../../../../_theory_nbs_/theory.ipynb\">proveit</a>.<a class=\"ProveItLink\" href=\"../../../../_theory_nbs_/theory.ipynb\">numbers</a>.<a class=\"ProveItLink\" href=\"../../theory.ipynb\">exponentiation</a>.<a class=\"ProveItLink\" href=\"../../theorems.ipynb#quotient_of_posnat_powers\">quotient_of_posnat_powers</a> theorem\n",
    "========"
   ]
  },
  {
   "cell_type": "code",
   "execution_count": 1,
   "metadata": {},
   "outputs": [],
   "source": [
    "import proveit\n",
    "theory = proveit.Theory() # the theorem's theory"
   ]
  },
  {
   "cell_type": "code",
   "execution_count": 2,
   "metadata": {},
   "outputs": [
    {
     "data": {
      "text/html": [
       "Under these <a href=\"presumptions.txt\">presumptions</a>, we begin our proof of<br><strong id=\"quotient_of_posnat_powers\">quotient_of_posnat_powers:</strong> <a class=\"ProveItLink\" href=\"../../../__pv_it/theorems/48789dc0f3a2826120994b3b687d7530d81e0d6d0/expr.ipynb\"><img src=\"data:image/png;base64,iVBORw0KGgoAAAANSUhEUgAAAVMAAAAyCAMAAADWSsgNAAAAOVBMVEX///8oKCgUFBQNDQ0QEBCI\n",
       "iIhmZma6urrMzMxUVFQiIiJERETc3Nzu7u6qqqp2dnaYmJgyMjIAAAArQGDrAAAAAXRSTlMAQObY\n",
       "ZgAABKdJREFUeNrdXImWoyAQZHcBuUH//2MX8AIh6Bhi5jXvzSWdCEXTXV2SQQhqs8Ojt9McgW/W\n",
       "Hq846hghFBHC2QduOIzQISWl27gBO4Qw17XODs0BB9Xg4pLSRPgfkw8J1H7kptJChlTjWjDlBCEW\n",
       "wBbmwbtCaZLWrmIfRon0Hjsh9tTugLPzJ1256qGcfdVJ9KFdKuDufpG6qaKWEuxBHkJmGpW/wq3+\n",
       "1GIqoJC6dGYD9n+M0zdWE5SbyjRveP6EqHxsOTVISNmUpF8aJynIU4RjIiAxpWn2xTLOlD118xEm\n",
       "8cc89RsbU8dz9RvILMUml2Ia6D0fkXloqiq9O5xKP/MUGfio4O8Q0pb2svbVdwmcGiorZjQnhClO\n",
       "3qgaW9rL0pesohQ+qO79MLwWd+ZNLe1l7UsIlPWx2256wgiCWumpO+3OtZdBrk0vfQPOGCpDal1W\n",
       "JUG4KevPEFvaS+jz7svy+6/uaQ0ITM3Uex4t7SX2icGwfJ84q0NTAkqx35vft7SX2EdsmommcGmK\n",
       "wQGKTNWNdG961g/bFGLozLpkZ1JsP2z/8n1+rGLYMWlbgrutZ+HApIbwPrp3nUrftG8SyggbsaSy\n",
       "ELSPMnRfz8IxiIZvpEFOjbRc8LN0ygQNj9TJUkicYnpi35oNDTvLeUBNWbTwzLWm1+1kiW/rWSIy\n",
       "qxBiywyljaXU92gWiBgbX27O1dD4tOgtqT7B9Jp9A1MVkRTDgW3XMH2vcrilZ82YqhGxsuqSRukw\n",
       "YqcimuYVppuhcSQg4+08ZlT4L/OGfQPTSLbn+WLz/t7P4il/W88Ss3tKxZfwpSnhI1uDbIxrbCFf\n",
       "qq4obIbIeEtF1mRDX0gNl+wPmG6jmkdkZ24dBiRcmaN6JNs39Cw8ZyZDl62vBfODDQu9pSynnWop\n",
       "Cntu89hb7VgV011quGSfY7qNikfW989/uWWYZcAjffjpfT1rFabWeo7SkDuiZ2wz19lSHRWF3TBg\n",
       "5IdgaYlRIjVcsj9guo1qBs2g3U8xKTl/l4ML9/WsVW9wSwwK4Sm6HxOzTECQMow1FIXdMGKk3Jrt\n",
       "aPGiKDVctM8w3UYVJyvX3cmWtT3Wpt89DDJH4vRvv/bShQyy5yyqyc4JS0WBZ37nw+/iOeyF1HDN\n",
       "PsV0HxX3SeTvn5BK3Mu8zxpCe6kgP6Dh+IjHpiEMyrKkRgu/W++yIeEeFYXd0EUHcYcItL9olhrO\n",
       "7Gt+uo1q5VExBtAqP0UNra9UkB/QcAZODKFx9HLr0p5syJDkWdiEhaKwGg5ijCAdprm/aJEaTuwr\n",
       "mCajmnnUAqq1NfjEy4qwoiD3b03eQZawly3CVcPWi87sW/zUnOdh2iCVhYLcv/205rj18PHmE8s6\n",
       "phdUifIoyK4wFQpy//bTRze3HljdfMpVHZq7oDezIqBtClOpIHdv6jcfRLmfnQ9PgxOFqaIg/1r5\n",
       "9petxtRJYbq1vQRESNGQs/5nT0wBPYOWHwJ99sQUAXpWMs/8z56YwmA/eYZtF4XpThEF9ex5/hmJ\n",
       "DiemLrcR6tHz783NYA0XU4XZF+4K+zNnyHyDJnKKQDf6fAJ2EgFv/GnyDf+z5t5Tn/6fCFt++g+t\n",
       "2joDo+95ggAAAABJRU5ErkJggg==\n",
       "\" style=\"display:inline;vertical-align:middle;\" /></a><br>(see <a class=\"ProveItLink\" href=\"../../../__pv_it/theorems/062fb645078f2be49051a997dc3ff563acb367ef0/dependencies.ipynb\">dependencies</a>)<br>"
      ],
      "text/plain": [
       "quotient_of_posnat_powers: forall_{a in Complex, m in NaturalPos, n in NaturalPos | a != 0} ((a^{m} / a^{n}) = a^{m - n})"
      ]
     },
     "execution_count": 2,
     "metadata": {},
     "output_type": "execute_result"
    }
   ],
   "source": [
    "%proving quotient_of_posnat_powers"
   ]
  },
  {
   "cell_type": "code",
   "execution_count": null,
   "metadata": {},
   "outputs": [],
   "source": []
  }
 ],
 "metadata": {
  "kernelspec": {
   "display_name": "Python 3",
   "language": "python",
   "name": "python3"
  }
 },
 "nbformat": 4,
 "nbformat_minor": 0
}