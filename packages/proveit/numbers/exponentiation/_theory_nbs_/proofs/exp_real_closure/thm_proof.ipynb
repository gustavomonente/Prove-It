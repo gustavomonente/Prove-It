{
 "cells": [
  {
   "cell_type": "markdown",
   "metadata": {},
   "source": [
    "Proof of <a class=\"ProveItLink\" href=\"../../../../../_theory_nbs_/theory.ipynb\">proveit</a>.<a class=\"ProveItLink\" href=\"../../../../_theory_nbs_/theory.ipynb\">numbers</a>.<a class=\"ProveItLink\" href=\"../../theory.ipynb\">exponentiation</a>.<a class=\"ProveItLink\" href=\"../../theorems.ipynb#exp_real_closure\">exp_real_closure</a> theorem\n",
    "========"
   ]
  },
  {
   "cell_type": "code",
   "execution_count": 1,
   "metadata": {},
   "outputs": [],
   "source": [
    "import proveit\n",
    "theory = proveit.Theory() # the theorem's theory"
   ]
  },
  {
   "cell_type": "code",
   "execution_count": 2,
   "metadata": {},
   "outputs": [
    {
     "data": {
      "text/html": [
       "Under these <a href=\"presumptions.txt\">presumptions</a>, we begin our proof of<br><strong id=\"exp_real_closure\">exp_real_closure:</strong> <a class=\"ProveItLink\" href=\"../../../__pv_it/theorems/7f906f5a8d09469ea56b6e0059e2ec266feec6170/expr.ipynb\"><img src=\"data:image/png;base64,iVBORw0KGgoAAAANSUhEUgAAAUMAAAAcCAMAAADMQi2jAAAAOVBMVEX///8oKCgUFBQNDQ0QEBCI\n",
       "iIhmZma6urrMzMxUVFQiIiJERETc3Nzu7u6qqqp2dnaYmJgyMjIAAAArQGDrAAAAAXRSTlMAQObY\n",
       "ZgAABH1JREFUaN7tWdmSmzAQJAmjaxgd/P/HRifoAtvx5slW1e6WvbSEWj1Hw7J8xzm4c18S3h2G\n",
       "fTl4dQjefnb6JTh8GVyE7L7Yt9diX345dNRxugNIeiX27adTyPpYBEULvJQSVWD8LET20zjd9l5y\n",
       "6Em1N6XZqhVxd27FwlVk3OgrYX9gEV59iWG3Oc4t5P8v0CLlcwi/sJwKfloor0MRDsJcb0szLptJ\n",
       "fzLVSlfyM/rjQzlkN9tKyaLyw/Ucsq0kQRaut4bC2NSnydCuk17HmOYzAk116DnMXEOcZccwlPmR\n",
       "s33UkN2h3gLfg2ZQdqhrY4bBOpYDGktE5lAerSGPapZxAdz+yT22ff71OYCB8E/NZ7n9XXB/ozSA\n",
       "ZlAsUctXv3e3j1fI7SIfasUKvWIP9HEWKX+icGkFKJmDZs6rNbf67G1YWKYguLjTBszrT4/B7Y0y\n",
       "MYImUJeVRKsteW0gbMbhGhKkPrNqPJ6QCWHWHB5XkjaM2eAP/Z0ZgvkyolESyUraiueqR/HGy2L2\n",
       "RLVgH15SXIBro5pRjc1NFbMD0dixqEw8i9GoRu8rVldGo0MvOjyCnBKHwbBMK0pxjxb1RrRkDi3Z\n",
       "OYeyyzobFjVRFHzsGlz4Cvi524zqwZ5FFFNw2J2yzZKNzY37G0BuEKLLHK54XN/f/0Vvw7jAToeb\n",
       "O8w3MZBOdO6Rs/P4I4dmzqEaphDIKM0UdhA3ngSfYDHA1BV4IYN8Bg40uRrV2FxupiuOgYYyH1FM\n",
       "m/usgbzqD5HsEQn5/HCTSRikhP+SOvfoloZDxtiUw9QdtVP4dA9xoSNcYo5aDC8yzD3VFOxZ9Kl7\n",
       "AIcITsY0g/ONythg/PE/dgTpIZglZg6DWKVb9PbQTxcOveSYqOuyn59lMQR2hOrcI7GKQyal4vO0\n",
       "y3GcIrZhWz6sFY6rCIsM0+cLMDi7jOAYrbhUnyubC7qSRwXiQ2DCWm1TyVlfoPTc6wVDktPI0WXu\n",
       "cLofkJ17FCqeb1jK63ADe8WhHKfw5xOEmLJNzBwi7dULMaX53GdNwASoz3xYgUU4VKtPcGVzCesM\n",
       "XIOGxqMoiCSA2CRM2h9fFzmNzxxEaIxc1O9Zz22eLRweWqLWPcomlrUwNOVQ4DgFd+nio0qWbfu9\n",
       "pmjI2XkA52Q4A6fUhyc436j0BfT3r1BG7QiaPC5d+RNPWQ02Xm/sXfp4j2HHbShJdLpHI5p8aC5q\n",
       "CqlmiqqkpEdEKSPZ0lFbWaF6MDE8N9iBRcotQYgZfNrcTV6AjnXrdPcD1owG080laAiNoAj6O9wj\n",
       "6tJjG2f8/pib12Wqp/D7qRplMLkPZrwOtoLqwUK0PqUGlwqMB/i0uWff1q/I+KT/+wHTffekrMmm\n",
       "kPPhfSsPuvXrYv4ArjZkJwqeeWzkaiCNKG0uV5yFo3z/UZUSNxQ++XIGH3ijYV57NcVb4P6ABpCe\n",
       "+TB6+22yvUsHz74XaPbAH6Jo8rIioxqwxjLoKfBypMj5ijR/SaLffJ38M8+t2WvqBbrW/FvgByC4\n",
       "eM+h+Xu7/7TXJ/9t/AUoaTi0Oiq23wAAAABJRU5ErkJggg==\n",
       "\" style=\"display:inline;vertical-align:middle;\" /></a><br>(see <a class=\"ProveItLink\" href=\"../../../__pv_it/theorems/38b9f5f2fad5e9a66fb53c9ec7381042fc35480d0/dependencies.ipynb\">dependencies</a>)<br>"
      ],
      "text/plain": [
       "exp_real_closure: forall_{a, b in Real | (a > 0) or ((a >= 0) and (b != 0))} (a^{b} in Real)"
      ]
     },
     "execution_count": 2,
     "metadata": {},
     "output_type": "execute_result"
    }
   ],
   "source": [
    "%proving exp_real_closure"
   ]
  },
  {
   "cell_type": "code",
   "execution_count": null,
   "metadata": {},
   "outputs": [],
   "source": []
  }
 ],
 "metadata": {
  "kernelspec": {
   "display_name": "Python 3",
   "language": "python",
   "name": "python3"
  }
 },
 "nbformat": 4,
 "nbformat_minor": 0
}