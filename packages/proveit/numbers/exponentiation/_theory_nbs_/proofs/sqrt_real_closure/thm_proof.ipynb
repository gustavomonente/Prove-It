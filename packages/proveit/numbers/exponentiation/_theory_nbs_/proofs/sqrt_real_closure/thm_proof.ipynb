{
 "cells": [
  {
   "cell_type": "markdown",
   "metadata": {},
   "source": [
    "Proof of <a class=\"ProveItLink\" href=\"../../../../../_theory_nbs_/theory.ipynb\">proveit</a>.<a class=\"ProveItLink\" href=\"../../../../_theory_nbs_/theory.ipynb\">numbers</a>.<a class=\"ProveItLink\" href=\"../../theory.ipynb\">exponentiation</a>.<a class=\"ProveItLink\" href=\"../../theorems.ipynb#sqrt_real_closure\">sqrt_real_closure</a> theorem\n",
    "========"
   ]
  },
  {
   "cell_type": "code",
   "execution_count": 1,
   "metadata": {},
   "outputs": [],
   "source": [
    "import proveit\n",
    "theory = proveit.Theory() # the theorem's theory"
   ]
  },
  {
   "cell_type": "code",
   "execution_count": 2,
   "metadata": {},
   "outputs": [
    {
     "data": {
      "text/html": [
       "Under these <a href=\"presumptions.txt\">presumptions</a>, we begin our proof of<br><strong id=\"sqrt_real_closure\">sqrt_real_closure:</strong> <a class=\"ProveItLink\" href=\"../../../__pv_it/theorems/d1ef29e1733a82ad4bafe554a5fc2110cd9d56810/expr.ipynb\"><img src=\"data:image/png;base64,iVBORw0KGgoAAAANSUhEUgAAALsAAAAaBAMAAAAd/jASAAAAMFBMVEX///8QEBCIiIhmZma6urrM\n",
       "zMxUVFQiIiJERETc3Nzu7u6qqqp2dnaYmJgyMjIAAAAcRTyBAAAAAXRSTlMAQObYZgAAAx1JREFU\n",
       "SMe1Vl1IFFEU/nZ2Z2d29kcfghIhNEGEKAYtUKgUAh+CaHvJgmAX+6FewsoQKkKkaDWMJaF6c0pI\n",
       "WCyXhEIIWrIH0YotgkIMVqEXg/LBwD+qc+/s/Kyu6+5CB/bOmTnnfvec75577gJFidi0uY+AouWY\n",
       "qfX/ZZLNxxUuGn7O1E5v7PS+WHRnhaF5Uht7SRrAzd8KhO/XzIXi64z+i5E/M72MfBWYzMw1Pxkz\n",
       "tcEs1oASFnt7KLN54CHLsLNA+HJTm8xilT0JdN4n5RotRXn64oWhe5YNTWmzs3K744YB3xAgpZ6+\n",
       "TcRiDwoM3l9qaL6k7Sx0aVb0DTIplfRbjESuF1o4KTv1fWOVHPeZZiMn3EzKEfpyBujOeirWncI3\n",
       "CWO+uVe7yK8Mv7h+3sa99zKrllAQOAjFXrsva07N6k7WQvrEabwwSoOdRxfrC0T9oyTjmKTTgt/a\n",
       "8YPXL7lIEAwClVd1ScGHiYpMePSdYWM7StLpSyojloISyLNRwyVO/fafJDr8W7WHKcNNbHckA+br\n",
       "aAwEP5VcA4++W7T2bzjSFRYgeM/jBRYasI1ZMqqbyNlz3Ijek2L9aaD6O1wsKAafsOCV2gtEIIZu\n",
       "QlyClE5TZuQoi8AneqzCO8+/ltrg5aeMgVCUhm7qSsoVcRkB6PB1qgU/GAxxRobmyEFKtxo3D7Qx\n",
       "iqs0cwXu1Ch7r7XBi+G96crBCO2PUxXbMMDhnWfbbVtbhxb+3J2k6B1peIEH2q/6WZpd+BLm6Upx\n",
       "qylg0k1Jf2RvJTTJERfCaIlEIhWC795nG3w5qhkRNXHGcEn6EnHxU+teZi0RT3acaOXflXOHzJYW\n",
       "lO+uQK8oPzkNR+Upza2T4z2pmfDKEnpjUMabMioHW3iprI6sOSnjelMwZdZQHNHQYfiCOvcTtq0t\n",
       "ExeSSj2Prsqse+zj48wmjVYxW5Or9fl+4A47Vh8SAwcs+OadVUkxqDP+TjXcj/LxtbpJa1pzGwrE\n",
       "vdVWc0x0812Uo7nhpWAOYy54JZVP55tGXvBeqqhIT4ZxJJ9bIecl5cxl9ObxP8ep4X/LP6PhxkjD\n",
       "kEgnAAAAAElFTkSuQmCC\n",
       "\" style=\"display:inline;vertical-align:middle;\" /></a><br>(see <a class=\"ProveItLink\" href=\"../../../__pv_it/theorems/5ab493b1348b7ad70351a67ab31ce68c042362da0/dependencies.ipynb\">dependencies</a>)<br>"
      ],
      "text/plain": [
       "sqrt_real_closure: forall_{a in Real | a >= 0} (sqrt(a) in Real)"
      ]
     },
     "execution_count": 2,
     "metadata": {},
     "output_type": "execute_result"
    }
   ],
   "source": [
    "%proving sqrt_real_closure"
   ]
  },
  {
   "cell_type": "code",
   "execution_count": null,
   "metadata": {},
   "outputs": [],
   "source": []
  }
 ],
 "metadata": {
  "kernelspec": {
   "display_name": "Python 3",
   "language": "python",
   "name": "python3"
  }
 },
 "nbformat": 4,
 "nbformat_minor": 0
}