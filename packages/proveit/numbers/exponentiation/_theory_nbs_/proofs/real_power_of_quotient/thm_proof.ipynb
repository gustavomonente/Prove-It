{
 "cells": [
  {
   "cell_type": "markdown",
   "metadata": {},
   "source": [
    "Proof of <a class=\"ProveItLink\" href=\"../../../../../_theory_nbs_/theory.ipynb\">proveit</a>.<a class=\"ProveItLink\" href=\"../../../../_theory_nbs_/theory.ipynb\">numbers</a>.<a class=\"ProveItLink\" href=\"../../theory.ipynb\">exponentiation</a>.<a class=\"ProveItLink\" href=\"../../theorems.ipynb#real_power_of_quotient\">real_power_of_quotient</a> theorem\n",
    "========"
   ]
  },
  {
   "cell_type": "code",
   "execution_count": 1,
   "metadata": {},
   "outputs": [],
   "source": [
    "import proveit\n",
    "theory = proveit.Theory() # the theorem's theory"
   ]
  },
  {
   "cell_type": "code",
   "execution_count": 2,
   "metadata": {},
   "outputs": [
    {
     "data": {
      "text/html": [
       "Under these <a href=\"presumptions.txt\">presumptions</a>, we begin our proof of<br><strong id=\"real_power_of_quotient\">real_power_of_quotient:</strong> <a class=\"ProveItLink\" href=\"../../../__pv_it/theorems/5b304e4b8895adc13a25703bb33dd77b1965e69d0/expr.ipynb\"><img src=\"data:image/png;base64,iVBORw0KGgoAAAANSUhEUgAAAUsAAAAyCAMAAADiMwkRAAAAOVBMVEX///8oKCgUFBQNDQ0QEBCI\n",
       "iIhmZma6urrMzMxUVFQiIiJERETc3Nzu7u6qqqp2dnaYmJgyMjIAAAArQGDrAAAAAXRSTlMAQObY\n",
       "ZgAABX9JREFUeNrdW4uSoyoQdfcC8n74/x97BQFpUKKJk62BqpnKTLrteOjH6ZZM06jLzF8xo9g0\n",
       "/DLmh6+PMQ4vZjc6lPiH3YXPE0XbSzs4mBr97PWJWH/R+IcwI0Op0PxuyF5bSH9k7TctQd4P2Utr\n",
       "kd+Mgn8a4YuC/7C2X35ByF5ZznvivmF83CjnlVviVB0kMQQj1ZRfELKdlfUlwRarYvPkoFDa6s5m\n",
       "pNKL9Q23tJX+IhRAv7t747ilqAoRTS9siucQp/YsZE8rGtCH26eGhJIusKyy5IAk3DBP9Voitccu\n",
       "CNkzIgT1AcwLHhJLgipoUwAjEe6aNiBfJUKVPihGYxJ2BCFyLPuOCWWiQPlWYDb6oLwNWX3oAgiQ\n",
       "zDepFl+tmZt0+o/D97Cs9YEZO2InDj2E7MEnVugsZ1Mmg/Yex270O9EwSM8DAUK44OcYU8nwvDvT\n",
       "reav0Qdm+ernnebgd6ZLAWOv186g5/oVs+ZRkym/G4IiqYVA4tcTZs9VX7tumkzbKMUgpQcUFML7\n",
       "ufVZu8kdjR4CS73oTg/UCMtH48Ea5ZfkozTjIEEupO9MzznQ4gv5IvwaZWxUUaJ+b6ceZIWLjwAW\n",
       "NlIMwtsNaGZegXUItXHFujwAQr6OzV5cXa1o8zOdZ5fYBTSwwebMaCNQDyCutiPLc9GIQpL0v3DH\n",
       "phaGcZZ20JAXAu3bHAtGYMPWKwnEB4pd71LnXgIaPRDYac5ylhCXfV1MpxXuB6uscqFHMHbDs3IO\n",
       "bQhZ31FUrDtNXdpBp18INFeYsG+7jMLXsJQBIO49N/uY0y8ELmB5iM9zM9wNS+km2mywFVoq/0mt\n",
       "DCDpBFXK7acCzRU2LK2y17D0OxNHW/nZASgoRwLvxbg6jHGQLy+32XxzRyFZzF+KYOZoSqIhVVG9\n",
       "kQyZOSlmqiOQno/O+5ZHLM0Jltnodj2zmfGX4xYaPRUoa48EYHXr+JPTHbSldJ26A8VpnOrlXL+6\n",
       "E6jwmKsJk45Aej5aVIuAJSHkGMtslAVy9t/6Y+OnSDPsaPRcoORE9HpxeZJfpkFR2j1/u5QHV8mF\n",
       "Q8FxXRg8uY5AfD6qSIklYYzPJ7UnG91k9bS7XRryRKPnAiVXn6+PwubluVMCKfXaGD8+/YTnc5QH\n",
       "F1jvQWoKNtqfUSCsJxDvNQsEv5TYnmGZjQYnFSk4/UXTrUaj5wJlWwjtlGRKCcQr4O9N1mv9TupV\n",
       "fq+F9QVj304S62+06q37uz8XiF7KYIxratQhlrtRtqb6v398wrdVmY5GzwXKsAUp0MBpZkW9zd0D\n",
       "F1m/OTND68yMpH+K5z+Myb4mSXhtVg/0BXTNXFb0BNLz0V0gcaKT2rMbTXQn6JCNPgKjRwJ9mlMd\n",
       "4ajyo7s7DE/67ZkZXafemWGNAyWcRH5LrRxB+EaTen+kLJ5sPBPIz0ezgOZmJZ+KFI8LSiwLoxvd\n",
       "iViZQNCh0QOBhpu48457hsjebseT/sGZGdMbOeGU7UrwPxbo80t9VHX1K4GaYEJDpesZ/tnILekf\n",
       "nJlhN0ehWn4q8AJL9+qaF2YBVT0Bz8ccw5jsOJC7o4Wkf7AH6OYo3X4s0MfS6hfXtBfoYMUZVfGn\n",
       "Wpzaat2pe72Y90b99syM/IcHN37wLFNFKbGrClG+a3y3imf99szMmGcN6oQ5IQpieieC6G4DWemD\n",
       "OOMjQtk0M/vZ/MAO5xT0+PYgFuq/HioPsOrDkJlLBAqUBkkS3Y5KoF9NAcY8M9h0hn54smExp0OU\n",
       "/p/3xxqlfjdHD7Tq4xiSby7I7P61APHGtK3U/4yo/p7VnP2XNA1KTYRQvTMgKvSnXps/1PryvWmk\n",
       "xsVSIvpFa2N/V2rS36R7jExDL/K9wmrFNPhi3yLP43/nefXMb30XP9ed/wGIB0WU0bP4/AAAAABJ\n",
       "RU5ErkJggg==\n",
       "\" style=\"display:inline;vertical-align:middle;\" /></a><br>(see <a class=\"ProveItLink\" href=\"../../../__pv_it/theorems/3735c7faae42f272866bcb9e361718301c5366ff0/dependencies.ipynb\">dependencies</a>)<br>"
      ],
      "text/plain": [
       "real_power_of_quotient: forall_{a in Complex, b in Complex, c in Real | a != 0, b != 0} ((a / b)^{c} = (a^{c} / b^{c}))"
      ]
     },
     "execution_count": 2,
     "metadata": {},
     "output_type": "execute_result"
    }
   ],
   "source": [
    "%proving real_power_of_quotient"
   ]
  },
  {
   "cell_type": "code",
   "execution_count": null,
   "metadata": {},
   "outputs": [],
   "source": []
  }
 ],
 "metadata": {
  "kernelspec": {
   "display_name": "Python 3",
   "language": "python",
   "name": "python3"
  }
 },
 "nbformat": 4,
 "nbformat_minor": 0
}