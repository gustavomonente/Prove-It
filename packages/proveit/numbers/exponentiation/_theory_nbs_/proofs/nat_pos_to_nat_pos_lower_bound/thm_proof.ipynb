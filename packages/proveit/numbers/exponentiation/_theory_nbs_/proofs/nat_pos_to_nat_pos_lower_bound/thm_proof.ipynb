{
 "cells": [
  {
   "cell_type": "markdown",
   "metadata": {},
   "source": [
    "Proof of <a class=\"ProveItLink\" href=\"../../../../../_theory_nbs_/theory.ipynb\">proveit</a>.<a class=\"ProveItLink\" href=\"../../../../_theory_nbs_/theory.ipynb\">numbers</a>.<a class=\"ProveItLink\" href=\"../../theory.ipynb\">exponentiation</a>.<a class=\"ProveItLink\" href=\"../../theorems.ipynb#nat_pos_to_nat_pos_lower_bound\">nat_pos_to_nat_pos_lower_bound</a> theorem\n",
    "========"
   ]
  },
  {
   "cell_type": "code",
   "execution_count": 1,
   "metadata": {},
   "outputs": [],
   "source": [
    "import proveit\n",
    "theory = proveit.Theory() # the theorem's theory"
   ]
  },
  {
   "cell_type": "code",
   "execution_count": 2,
   "metadata": {},
   "outputs": [
    {
     "data": {
      "text/html": [
       "Under these <a href=\"presumptions.txt\">presumptions</a>, we begin our proof of<br><strong id=\"nat_pos_to_nat_pos_lower_bound\">nat_pos_to_nat_pos_lower_bound:</strong> <a class=\"ProveItLink\" href=\"../../../__pv_it/theorems/9cde672bd787c81d28a5b71257d6fad14b83143f0/expr.ipynb\"><img src=\"data:image/png;base64,iVBORw0KGgoAAAANSUhEUgAAAJgAAAAcBAMAAABvzWvcAAAAMFBMVEX///8QEBCIiIhmZma6urrM\n",
       "zMxUVFQiIiJERETc3Nzu7u6qqqp2dnaYmJgyMjIAAAAcRTyBAAAAAXRSTlMAQObYZgAAAntJREFU\n",
       "SMdjYCAZ+D1goB7gMaCCIawOEJpvA1ZpBZIMC4PS/BOwSruRZNgrKB2vlIXV9xdIMIsZ5g/1BcpY\n",
       "FVQxMICj5i4Rhs1fAGU0MdzDqgBoxWlkH+ADh2EMEQYzELXcCt02BoYZQIqzgQjDpGGMX1DmvkxU\n",
       "BewbGPiArufZQNgszl/wsOGF2u2XihqoDQy8p1atmk6Ew3gF4EnkDIwV0YKsggmo4kdHRw3OxI5k\n",
       "LyimOG2MpJDlp72GuBoszAJ0O9CtnTiTA4LJAfKb4wS+DygKJlcywIVZvzIwODNwwXMuyzuchvEl\n",
       "MDBwyYICBhlcB+VTqDDnF2AkMDBdwIj/cBsHJjEUw9iB2ph/MbCjZEH1U2ArIcJcX0DZgB0hCwoD\n",
       "rj3GF7gbTjFY8RibG1vDXQY0jLGBYX0AQjHXcYjJUGGQyzgfhCHkfwLxjZ2rGLgvMTMcQA0zoDfX\n",
       "H2DYj5RYzKE+ggqzgjR3pgCJxWpPQfxPagtYQMHAHR2pgGoYGzBU1m9gyOOGlRmcebDUCRUGxSbD\n",
       "5gKgi0tZQUymKiYDPpA8d8Cpq6iGgVIRhwJvGTy1rHCAOxoiDE6J/ECfMxuwFkCEHyyGGMYDKlCR\n",
       "DAPZy5WkOk0FMwFBhcERzQvMUIwbmBJAQenAnBDe0dGhwB3AeQFoOiuSFhFCeYQPFtHrJ3DcAprJ\n",
       "v4BxAxvEZQyuaOWwDSHD1sPKKMYJ8b4MMxawL7jBwAOKfF4HBt4DqGoD0fSuKweBUoTANXiIJG2y\n",
       "ZQjcwJoDNKEbyHd/wsCQgKqZjVDRUorKhShnAoYZFrVcBKpLNJ9wT8CrejN+w2agmY1fNbcDXmkr\n",
       "BuoCANwQkv190HhEAAAAAElFTkSuQmCC\n",
       "\" style=\"display:inline;vertical-align:middle;\" /></a><br>(see <a class=\"ProveItLink\" href=\"../../../__pv_it/theorems/a7e3683c371bc7f27099aaba4e868938e79aa4ea0/dependencies.ipynb\">dependencies</a>)<br>"
      ],
      "text/plain": [
       "nat_pos_to_nat_pos_lower_bound: forall_{a, b in NaturalPos} (a^{b} >= a)"
      ]
     },
     "execution_count": 2,
     "metadata": {},
     "output_type": "execute_result"
    }
   ],
   "source": [
    "%proving nat_pos_to_nat_pos_lower_bound"
   ]
  },
  {
   "cell_type": "code",
   "execution_count": null,
   "metadata": {},
   "outputs": [],
   "source": []
  }
 ],
 "metadata": {
  "kernelspec": {
   "display_name": "Python 3",
   "language": "python",
   "name": "python3"
  }
 },
 "nbformat": 4,
 "nbformat_minor": 0
}