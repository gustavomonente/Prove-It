{
 "cells": [
  {
   "cell_type": "markdown",
   "metadata": {},
   "source": [
    "Proof of <a class=\"ProveItLink\" href=\"../../../../../_theory_nbs_/theory.ipynb\">proveit</a>.<a class=\"ProveItLink\" href=\"../../../../_theory_nbs_/theory.ipynb\">numbers</a>.<a class=\"ProveItLink\" href=\"../../theory.ipynb\">exponentiation</a>.<a class=\"ProveItLink\" href=\"../../theorems.ipynb#real_power_of_products\">real_power_of_products</a> theorem\n",
    "========"
   ]
  },
  {
   "cell_type": "code",
   "execution_count": 1,
   "metadata": {},
   "outputs": [],
   "source": [
    "import proveit\n",
    "theory = proveit.Theory() # the theorem's theory"
   ]
  },
  {
   "cell_type": "code",
   "execution_count": 2,
   "metadata": {},
   "outputs": [
    {
     "data": {
      "text/html": [
       "Under these <a href=\"presumptions.txt\">presumptions</a>, we begin our proof of<br><strong id=\"real_power_of_products\">real_power_of_products:</strong> <a class=\"ProveItLink\" href=\"../../../__pv_it/theorems/6fa29c22729a749dbaf1051360684e563a462f970/expr.ipynb\"><img src=\"data:image/png;base64,iVBORw0KGgoAAAANSUhEUgAAAuMAAAAmCAMAAABZGWW4AAAAOVBMVEX///8oKCgUFBQNDQ0QEBCI\n",
       "iIhmZma6urrMzMxUVFQiIiJERETc3Nzu7u6qqqp2dnaYmJgyMjIAAAArQGDrAAAAAXRSTlMAQObY\n",
       "ZgAAB4JJREFUeNrtXIu2nCgQdHcFQXnp/3/s8lBBBWyUzJgzck6Sy1wtKlI03U07TVOp8VY32bzt\n",
       "UlPqZXlDezTRwUaUvN447avUyw2NL8s7rRtTnaapqfH+lerlKao4D7/JEtFU59X4M7balnzRAo71\n",
       "WcJBq7EfQzdq03k1/oRG6RcHl/gPsASDVmPPQilvOq/GH9DIxL44+ij+AEsoaEX2myUYdl6NP6CN\n",
       "3zTjDVS6RSw/tmr9QGTi4YLkr8Yf1NhXzTiZEKK8MksoaFX2IwpXJHo1/qCGv5qRQz1vEK7MEgpa\n",
       "lb0Kk9dB59X491sb2B/2sUMWMZvlQY+uxkosS0Ez24YqZs+mLtx2ukDjnsq9Uyyn8Vpov+Sq+JQc\n",
       "Hz43LnUyabUWMK3Fsgw0I6bhAvvNKbvvaI3LNTId+X2N10L7naamwIv8oGfOnTkywVkrarEsA80E\n",
       "uOwCexruHL6jNc6WJcPuGRGn8VpoP+SOex9P4U8OLK33oR1aNdRjWQSaXlH4Cns0hZ76FPrji8GV\n",
       "ooLGa6H9Tuu9GPqPJlhcgRGhUlZkWQSaHo1dYS/C1I/vGI0ryU1jN2PGWeOV0H6nTavN+vQzG7s/\n",
       "wLIENOn895fYk0nEOjavMg2m9bKKxiuh/ZDG14TFmm1jWGJUJ+WVgyo5cAezrHGKD3oQx4H4pGId\n",
       "ez+1IfNQslHKtMYvoH3OBX0epWBihvmnrtUPb5xqoGehItk9OQYNX2GpKmT7QQ8iMtCEYh2r8Q77\n",
       "QBUaKKU1fgGtVjstd9vTBu2r1owgiW4tkCQI8+rpxexpmk+wc4DJsAeBDnaAOjQB943gLCOgvJB1\n",
       "dAgI+0nGOm4fMFejfDqb9FhqRaCWnmkcguZIDpL2FN2T9RZkv3+JHg0U+3PdPW1I7I+JjTI02I2E\n",
       "bxokcCJbt+SwrbXoDWmCg3yGNqYwy+GvC6BicwrfKuAsj6BA2sFlxyFg7Ccc6ziNS+WUGR1aSIyV\n",
       "EVMj9cWYn2o8h+bxOBk0FBkvWccUyFqFtlyAjHsiObqucWZF2ZunPl32kDMgR/W0g51xd+bShU+y\n",
       "B66y9boNVF2Np1hGQIG0/WWxIe5qnI0NSfBQg2DcXCQUMhIxksF63eo/IqHxDFqAp5gVprii8STI\n",
       "ki9aL7AaV1w1cdoAjZtFND/o66caGZCDF8DtJivmGezu5Fq2UEfXrs/74/QKy65Ccig2BIA9D30V\n",
       "vvNVdIRI3dJRWBGkw1qEXOjYrStDEEEYWqK2nB33aA3HiI7hOlzxOg3nnl5ujva3n4AsVWie9axx\n",
       "CbDj8cE66YDNCL0q53oKwn2g5EItbk0mHV1Nxk2Ne6j9zJaFh3CW9WLOYvYszKuwbV5FC3hxqFRn\n",
       "/PxWC8W9E+dxtJokVwSi8RWN92Sp5J0LIFc8bVtPMy/B7dvMaApkqULzrK3GtfE+1/iBK7U50P/0\n",
       "HzX/okfFXAEg3vjM0YStM9Ibt8yYxdV5Pf6w+f95qP3MmqdRsIeCWeZAgawjQ4DY5/LjPtHCODJs\n",
       "Tc2WheA41LgebAnqshpf0zZGW8R8TKQbyOMJLk41vt6+t5gpkLkKLWCt/StK+w4Qcx64uvtF401w\n",
       "i4q5AkBautt9OUWIMIq63Na/Oq/HH8JHtULtZ9baioK3SMEss6Aw1schYOy7sPDQd5bpVMu0mhQF\n",
       "aRefiPTWDhntGI0ztQSTeY0vaMb3nNddz5sNHhPk9AkHt29TPCmQuQotYK3tOEMKovEDV/t/GhZz\n",
       "Q+ZHXMgVADJ4SxY5wu6qnX1uZ7YpLIaGsqxTYX0cAsJehfuo7xzOkMy712gw7kxjZoRu7Lh2gGcr\n",
       "RLIaX7cmZnwrG/zNuvF4eE528MzOttyusFAKEyFJHmSpQqMbX0UQuQxCkho/cqU66vr3HxN7qfO8\n",
       "SoorAET6av5IKVI9je9mdqlqAjYoS4lqcD0OAWEv22hnr3E2zWtGDdbTkqsqnDFUMuORHh8r0xt0\n",
       "pwLb6PEYtj9rqsxkHWJ/rbcL8+U1Wrxz/iQJslSh+Qvm3GGK9ZDjuqT8LA52qe1irjGQXQ4/UP3x\n",
       "dFjU0vh+ZguP6YAsa5397YcAsd+8ceo7e4135jemeJdRZ/wGsaxUVwNDSzTeUSQQ3uhmWMMCLsdx\n",
       "MFEyMaaXmGPb8C8R3q4vM/C4OwFZqtCWC0QvR6n989SLWkOWq0v5zfqUNhQp5xoB2W8B6uDW+DXc\n",
       "T7SKZYzMbFG1BZBlrRKO/RAQ9olyFcC7bmj2bM9pZS3OqpsYXizvvPmsN8ka848AggBZD1mu0dx9\n",
       "KdfzA4AhzEN/7OUpVahGEEtVrUrp5EHEBkqU1n7qfU6CJpw+QIllWDafmW9pNAE8RawI5JLGPdex\n",
       "BtfzzVv9FV8U+XyWm8066DzinWUF/KwY5KIdXxBFBa7q/GyUT3/D6yTPZ7k5QQ46P/5ePn4Ei/dL\n",
       "a6vwaxOd97snHmGByMvyPj2V6Lwaf4SvO74sq24zm86r8Ue0Ab0s7zXWskTn1fhDArqevCzvUROJ\n",
       "Tl2NT8BE+tsiZqhnL8s7W4yKd8w5yVTxy6yIbuyV60X5kJflDfvaJTrMiLL5HyZpbsjzlImvAAAA\n",
       "AElFTkSuQmCC\n",
       "\" style=\"display:inline;vertical-align:middle;\" /></a><br>(see <a class=\"ProveItLink\" href=\"../../../__pv_it/theorems/0f1e40804d2b12a84bf974b1e476340cb866424a0/dependencies.ipynb\">dependencies</a>)<br>"
      ],
      "text/plain": [
       "real_power_of_products: forall_{m in NaturalPos} [forall_{a_{1} in Complex, ..a_{_a} in Complex.., a_{m} in Complex, b in RealPos | a_{1} != 0, ..a_{i} != 0.., a_{m} != 0} ((a_{1} * ..a_{_a}.. * a_{m})^{b} = ((a_{1})^{b} * ..(a_{i})^{b}.. * (a_{m})^{b}))]"
      ]
     },
     "execution_count": 2,
     "metadata": {},
     "output_type": "execute_result"
    }
   ],
   "source": [
    "%proving real_power_of_products"
   ]
  },
  {
   "cell_type": "code",
   "execution_count": null,
   "metadata": {},
   "outputs": [],
   "source": []
  }
 ],
 "metadata": {
  "kernelspec": {
   "display_name": "Python 3",
   "language": "python",
   "name": "python3"
  }
 },
 "nbformat": 4,
 "nbformat_minor": 0
}