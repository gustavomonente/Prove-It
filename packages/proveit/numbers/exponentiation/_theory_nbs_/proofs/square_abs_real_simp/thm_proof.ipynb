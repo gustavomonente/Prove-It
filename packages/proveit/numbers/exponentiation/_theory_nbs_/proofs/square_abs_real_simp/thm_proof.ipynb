{
 "cells": [
  {
   "cell_type": "markdown",
   "metadata": {},
   "source": [
    "Proof of <a class=\"ProveItLink\" href=\"../../../../../_theory_nbs_/theory.ipynb\">proveit</a>.<a class=\"ProveItLink\" href=\"../../../../_theory_nbs_/theory.ipynb\">numbers</a>.<a class=\"ProveItLink\" href=\"../../theory.ipynb\">exponentiation</a>.<a class=\"ProveItLink\" href=\"../../theorems.ipynb#square_abs_real_simp\">square_abs_real_simp</a> theorem\n",
    "========"
   ]
  },
  {
   "cell_type": "code",
   "execution_count": 1,
   "metadata": {},
   "outputs": [],
   "source": [
    "import proveit\n",
    "theory = proveit.Theory() # the theorem's theory"
   ]
  },
  {
   "cell_type": "code",
   "execution_count": 2,
   "metadata": {},
   "outputs": [
    {
     "data": {
      "text/html": [
       "Under these <a href=\"presumptions.txt\">presumptions</a>, we begin our proof of<br><strong id=\"square_abs_real_simp\">square_abs_real_simp:</strong> <a class=\"ProveItLink\" href=\"../../../__pv_it/theorems/1bda5178ec6955e6fe7e8f92789e56f02b4031070/expr.ipynb\"><img src=\"data:image/png;base64,iVBORw0KGgoAAAANSUhEUgAAAJoAAAAmBAMAAADO2Z8qAAAAMFBMVEX///8QEBCIiIhmZma6urrM\n",
       "zMxUVFQiIiJERETc3Nzu7u6qqqp2dnaYmJgyMjIAAAAcRTyBAAAAAXRSTlMAQObYZgAAAq1JREFU\n",
       "SMeVlk1oE0EUx99usvnYbGIRBKuXKFQ8SaAXL60B8aaSk6IIDVV7LmJvHoqCpEph1UO9ZUtAIZcE\n",
       "PUhRcCGeIpQVBKWgBEUPihrUgm1a6nxtzK4zmdk57O7w/vvj/2befAAMb1kP1JpZVhAdAdV2Wi6J\n",
       "7wt0WzccoVSXm1suDfYsO9ERa79JaTOBXtI2Nrgy4vmOI4GFfk4W0795Muo5IUs1FxZkNnky6tnY\n",
       "lNCqdvi/PJdGPX+Q0Cbx4zzr4HdLICSeX0lou/HjBeugd7YgEBLP1SKQKX/H16TXQ7STcIKvJJ41\n",
       "F17i9xfBsuoGacbXp7f4QuIZTex97GGeT4vNBmnazk6XK6Se9S7kUM1ZTcFozIcyFZUl9ZzZgGy7\n",
       "Xl8SqHYV1GjMs9ED+FOpXBPR8oxyr3XAEdBIiG1K2wCXARYEtIZHafFR+DHobfU7bh/JJkNCrP0E\n",
       "OA7m4Mbw5PDFfk1XGW3Zg6OCTGmItS001KD7+6v5bNzTLWj7y2eqSWnHHLgioNEQa7/QhHpJv/d2\n",
       "pQ6ItuaFaHvBXBfQaOgfLd05gz5qhz5BHE8hprnBTM0tyHT/H7fPOBsaYqmhTGHhEvqYQ/tJDiht\n",
       "3F+NDTqnZg+V+QrXGwuxhYjmFB6jio8VjFmoEVps5mq/Qlya6XV4U3b5mdIQK+IeqyqtiQ6Js5VK\n",
       "Ja9bd1/3q7JMaQ8Onpsu8mk0xI4kvMllUfU17NSak6CZZi745ZjqqK0Ff+37m69mT50Cq0THre1b\n",
       "t0Yi0agcm5x+NAFwG1fvqlubDJwCyrTQKaKjcQvM2HYkWkNyy7iJH2OsMyajPbeHx2XnBudMGua9\n",
       "GYW2XxLXOxFg+ohMsScCTZNe9d5HoMmveqm8Miw9Kr9/zinTHirM2JKtSltU8V9SvUXjneQvGFLU\n",
       "rZ3kLfsAAAAASUVORK5CYII=\n",
       "\" style=\"display:inline;vertical-align:middle;\" /></a><br>(see <a class=\"ProveItLink\" href=\"../../../__pv_it/theorems/e207190fa450ed270e656cc54454643073d47ce80/dependencies.ipynb\">dependencies</a>)<br>"
      ],
      "text/plain": [
       "square_abs_real_simp: forall_{a in Real} (|a|^{2} = a^{2})"
      ]
     },
     "execution_count": 2,
     "metadata": {},
     "output_type": "execute_result"
    }
   ],
   "source": [
    "%proving square_abs_real_simp"
   ]
  },
  {
   "cell_type": "code",
   "execution_count": null,
   "metadata": {},
   "outputs": [],
   "source": []
  }
 ],
 "metadata": {
  "kernelspec": {
   "display_name": "Python 3",
   "language": "python",
   "name": "python3"
  }
 },
 "nbformat": 4,
 "nbformat_minor": 0
}