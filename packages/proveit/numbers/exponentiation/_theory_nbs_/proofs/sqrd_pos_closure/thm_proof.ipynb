{
 "cells": [
  {
   "cell_type": "markdown",
   "metadata": {},
   "source": [
    "Proof of <a class=\"ProveItLink\" href=\"../../../../../_theory_nbs_/theory.ipynb\">proveit</a>.<a class=\"ProveItLink\" href=\"../../../../_theory_nbs_/theory.ipynb\">numbers</a>.<a class=\"ProveItLink\" href=\"../../theory.ipynb\">exponentiation</a>.<a class=\"ProveItLink\" href=\"../../theorems.ipynb#sqrd_pos_closure\">sqrd_pos_closure</a> theorem\n",
    "========"
   ]
  },
  {
   "cell_type": "code",
   "execution_count": 1,
   "metadata": {},
   "outputs": [],
   "source": [
    "import proveit\n",
    "theory = proveit.Theory() # the theorem's theory"
   ]
  },
  {
   "cell_type": "code",
   "execution_count": 2,
   "metadata": {},
   "outputs": [
    {
     "data": {
      "text/html": [
       "Under these <a href=\"presumptions.txt\">presumptions</a>, we begin our proof of<br><strong id=\"sqrd_pos_closure\">sqrd_pos_closure:</strong> <a class=\"ProveItLink\" href=\"../../../__pv_it/theorems/6a3e7c9224f981d3ee6d91b08742b2b2624a43cf0/expr.ipynb\"><img src=\"data:image/png;base64,iVBORw0KGgoAAAANSUhEUgAAAMEAAAAcCAMAAADvPCtfAAAAOVBMVEX///8oKCgUFBQNDQ0QEBCI\n",
       "iIhmZma6urrMzMxUVFQiIiJERETc3Nzu7u6qqqp2dnaYmJgyMjIAAAArQGDrAAAAAXRSTlMAQObY\n",
       "ZgAAAvdJREFUWMPVmImSojAQhrO7pHN0Tt7/YTcdAwRoEC10alKlI4wN+fr8UYifXBEQvPjFKzoh\n",
       "TP5VW9ZqdWgLgR7dixcx0wf5AwBmfWwLkBvVi1fB6YMyXyfITM6H0b9LIGL6MgBwYbcv5wJ2xkS/\n",
       "FFL6MJHjvB3hzCTZAXHMecDEEkiyjuEsxve2TmaL8CzxhC/ZrjEh7c7ksgZ6S80p9DYhOfxwEg1h\n",
       "d0rF8tLnKePi449hYiBs6Fwfw9eTSOcQAq5OJ7Rl5S0BuCXdewKggxQ9LWc/HII07KMy0uqRUHo2\n",
       "BoUAOQJZLzoiLRs/3YlmJzqIIAem6vy+FBuB6Zp/T6BqYE1NRLw+Gk9HUN2DjHLnEJzurIZyqzxy\n",
       "09Yd1EGwsMD1BHqkzSuo+Ac7ClaigSz5hrz3tK6JWey2AzO3E35IUwKfdPqOYKDC6IrUrYqrupMq\n",
       "QO6GgQ8RIJH6KPuJXl4ieHQMUgtiW7i2NU6o/+AGma59sq5VDIqL8aDT+wcBDeddHScMznvRCJJP\n",
       "lwjqnXwN7bZ55kYw4PyVLT4edFNQGo8aXCVwedZcHqTJc2o1BVgJIk8wG8z9fZKbdhNVNM1rsaoh\n",
       "dmIczQP0iRcfk7JFZx7V6a0uJ9dioxIAAEswG5ja0P6VV2pX2OaJwUYQ6nAVwV0RTg+C4mBgB59q\n",
       "uRqgJRHtU9vq2o4AjLGKL7jZ4PHV0Dlm2GxHNg+jJL1jBNe9beBVBY1bo8+GzCiXwS/JQtvqU7pb\n",
       "iYGT6YBgNqjuxam86GZb3T+5yxsptTOS68neoPJ7ZaepF+eREQ1zS0vt4uQ8TFTAZpVFQUfPESwG\n",
       "pLn+/mmai+1FYrjyKKMirlTFM+G3zbsya/SoqASjXtVBPKjkxUB02otE724eCLh/6vudm5SRQULd\n",
       "EIZposUcS11A5gg6g75ny8hIaT3cr7VOnzNlq4NLo5NQn7rY3K5+rX7PDg+eRZ7G/O4fVtK7eckS\n",
       "pAsODnArwPvPZO/vI6g7CX73z33L+g9q1SBIJv8/nQAAAABJRU5ErkJggg==\n",
       "\" style=\"display:inline;vertical-align:middle;\" /></a><br>(see <a class=\"ProveItLink\" href=\"../../../__pv_it/theorems/527be01901093e993dd50863d1083a2a7661f42d0/dependencies.ipynb\">dependencies</a>)<br>"
      ],
      "text/plain": [
       "sqrd_pos_closure: forall_{a in Real | a != 0} (a^{2} in RealPos)"
      ]
     },
     "execution_count": 2,
     "metadata": {},
     "output_type": "execute_result"
    }
   ],
   "source": [
    "%proving sqrd_pos_closure"
   ]
  },
  {
   "cell_type": "code",
   "execution_count": null,
   "metadata": {},
   "outputs": [],
   "source": []
  }
 ],
 "metadata": {
  "kernelspec": {
   "display_name": "Python 3",
   "language": "python",
   "name": "python3"
  }
 },
 "nbformat": 4,
 "nbformat_minor": 0
}