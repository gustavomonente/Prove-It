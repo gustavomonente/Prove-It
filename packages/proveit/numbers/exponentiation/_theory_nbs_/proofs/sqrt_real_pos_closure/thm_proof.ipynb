{
 "cells": [
  {
   "cell_type": "markdown",
   "metadata": {},
   "source": [
    "Proof of <a class=\"ProveItLink\" href=\"../../../../../_theory_nbs_/theory.ipynb\">proveit</a>.<a class=\"ProveItLink\" href=\"../../../../_theory_nbs_/theory.ipynb\">numbers</a>.<a class=\"ProveItLink\" href=\"../../theory.ipynb\">exponentiation</a>.<a class=\"ProveItLink\" href=\"../../theorems.ipynb#sqrt_real_pos_closure\">sqrt_real_pos_closure</a> theorem\n",
    "========"
   ]
  },
  {
   "cell_type": "code",
   "execution_count": 1,
   "metadata": {},
   "outputs": [],
   "source": [
    "import proveit\n",
    "theory = proveit.Theory() # the theorem's theory"
   ]
  },
  {
   "cell_type": "code",
   "execution_count": 2,
   "metadata": {},
   "outputs": [
    {
     "data": {
      "text/html": [
       "Under these <a href=\"presumptions.txt\">presumptions</a>, we begin our proof of<br><strong id=\"sqrt_real_pos_closure\">sqrt_real_pos_closure:</strong> <a class=\"ProveItLink\" href=\"../../../__pv_it/theorems/3f405ed220530bc043d6f02a2debcbb8dbe672950/expr.ipynb\"><img src=\"data:image/png;base64,iVBORw0KGgoAAAANSUhEUgAAAKUAAAAbBAMAAADvxVLsAAAAMFBMVEX///8QEBCIiIhmZma6urrM\n",
       "zMxUVFQiIiJERETc3Nzu7u6qqqp2dnaYmJgyMjIAAAAcRTyBAAAAAXRSTlMAQObYZgAAAsJJREFU\n",
       "SMfFlU1oE0EUx192k0022UQPgqAYoqiIFxej2GKViOJJcXvRHoQs9eOoFT8C6iEHwU2lEjzU4sEu\n",
       "BBQCkmAPIggG9JSgRPBQSoW14KViEHrRCOqbiTs7Q7fpehAf7PIy8/Kbmf+89xbgP1kkFyjMxEcK\n",
       "yjzpOuovYl9XCCviEzYDMhddR+m7YcKEN8GQcsb1HsKqzKgN4BDnQ9/Yadv19i+fTF6yfn6c8JiS\n",
       "DtASDudrr1wnPuYzm4qbkYlxUDqddOcLSo5qTxHpi32ZG11Hq/vMxtQGFCfZPuEGLmOvEMtM7bre\n",
       "Y354tlBwXOZgymMOoB7NavV+320m17oef6cjO7l9DsY85mZ8vlnWzeUgjbt2h5NTHdq9gfqL/NnN\n",
       "ox7zBB78HEDJJ384wVy1pTbAoXKKprxS5piJy4seM28AHIa405eZIqVxhKQebm8TyPSvMe6O1hc+\n",
       "U6+3zHSORJL1mT3bcWZBZEYx46Q0OltwuAtRWgHDHbQ/d/RaH+cANWRq7SjLvxfZtqRBM6Nl92VZ\n",
       "fqeQ+WAXRqKcoSLUDDI4xefSnhG+QjBSdViLmH1eBWTOtUU9ydlrRUjiBmsNeEkHQzwz9iTjheeJ\n",
       "BKWz+Kps/wRhnVwEMhsCUyECyt9pJdfqcCFRFnoAMiPmXi+c3DvM4JniVyNdoImLzKwuMCWSn+oS\n",
       "zBNAJnlNc8uF1Sa0FIOFvyOvNbikrEfGoEIJ8vkr4h2FaR1dtK8TxUe3TW6lo49u2ayHGLG7P1j4\n",
       "AB3FyVBdMuGUZVkZSbv3nrR2TvV1VKaWLmbbsdsFx6/sFlgClGNzttI7e+K0LUYN0SOm7UDNNs66\n",
       "Q6icPw6a0dOz2RDDhskrsRSsgSfZxyM8+vQAwB2S828blYNimELbVikYM2qIvyXU0+84zl98Y+cD\n",
       "xs0ER67S3j1L5AIzZRv+if0GP+eoKNuQOy4AAAAASUVORK5CYII=\n",
       "\" style=\"display:inline;vertical-align:middle;\" /></a><br>(see <a class=\"ProveItLink\" href=\"../../../__pv_it/theorems/40840187c0b347a67394514b7cae11fd8324894e0/dependencies.ipynb\">dependencies</a>)<br>"
      ],
      "text/plain": [
       "sqrt_real_pos_closure: forall_{a in RealPos} (sqrt(a) in RealPos)"
      ]
     },
     "execution_count": 2,
     "metadata": {},
     "output_type": "execute_result"
    }
   ],
   "source": [
    "%proving sqrt_real_pos_closure"
   ]
  },
  {
   "cell_type": "code",
   "execution_count": null,
   "metadata": {},
   "outputs": [],
   "source": []
  }
 ],
 "metadata": {
  "kernelspec": {
   "display_name": "Python 3",
   "language": "python",
   "name": "python3"
  }
 },
 "nbformat": 4,
 "nbformat_minor": 0
}