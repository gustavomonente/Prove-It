{
 "cells": [
  {
   "cell_type": "markdown",
   "metadata": {},
   "source": [
    "Proof of <a class=\"ProveItLink\" href=\"../../../../../_theory_nbs_/theory.ipynb\">proveit</a>.<a class=\"ProveItLink\" href=\"../../../../_theory_nbs_/theory.ipynb\">numbers</a>.<a class=\"ProveItLink\" href=\"../../theory.ipynb\">exponentiation</a>.<a class=\"ProveItLink\" href=\"../../theorems.ipynb#negated_real_power_of_real_power\">negated_real_power_of_real_power</a> theorem\n",
    "========"
   ]
  },
  {
   "cell_type": "code",
   "execution_count": 1,
   "metadata": {},
   "outputs": [],
   "source": [
    "import proveit\n",
    "theory = proveit.Theory() # the theorem's theory"
   ]
  },
  {
   "cell_type": "code",
   "execution_count": 2,
   "metadata": {},
   "outputs": [
    {
     "data": {
      "text/html": [
       "Under these <a href=\"presumptions.txt\">presumptions</a>, we begin our proof of<br><strong id=\"negated_real_power_of_real_power\">negated_real_power_of_real_power:</strong> <a class=\"ProveItLink\" href=\"../../../__pv_it/theorems/e201c42d677530eb188288562807422667ba1b050/expr.ipynb\"><img src=\"data:image/png;base64,iVBORw0KGgoAAAANSUhEUgAAAU4AAAAmCAMAAACcXYLYAAAAOVBMVEX///8oKCgUFBQNDQ0QEBCI\n",
       "iIhmZma6urrMzMxUVFQiIiJERETc3Nzu7u6qqqp2dnaYmJgyMjIAAAArQGDrAAAAAXRSTlMAQObY\n",
       "ZgAABI9JREFUaN7tWomO2yAQdVuDuQ///8eWw5wGnHh3GyMVaaVVMhmGxxxvxl6WCZdSDzOI42Xe\n",
       "BfTjTNr0tGhuK3/gFc/qn3xFn9iWNT9Npmg1J5wY9yPu50JOtvWLLcL9xJi5Xmhn/TPDH7tD1tEP\n",
       "2fU1P3npgdVa/NQdyp7+VNPRPqF7soFzLqPvvuacqKtfx880mA9OqEd5AADcdxEJwN0Dk4b+Qx2I\n",
       "JUit88G55oiwspoCwhdg0ptoOinZFnTzwIwU+gt1AqfAMXVJP7fXaMZ6xpI4Lb+kBmqlY+Go3JoW\n",
       "vOY9pktz/Rzm6rZkxGoyrIzpVU+QStXeTFvHcYx3QOssXB8ohGVOtoo3Ecx+u+FcP1pZpg4lf8Tm\n",
       "XxbQZXSG1EkyaGvaskfUJPjWMoVopT9TtyWmAfbMKaWYAE6S3TmpATKpTdGjczpXYEu4b/JSTir9\n",
       "mTolE6e3GCvJ7WJkhkq0w7o+5E6EpcxPW2ZdCBS4m84Ir/QndXDLmIX1yN2lCCKngDNFcayxDEoI\n",
       "qhbvbn/U0mX36kduRtz4riJHpS/mlm9qjLdhcLkjSHC6YW/wUcdVGDAZy/VelawLI6XOVoK+qctt\n",
       "1lMkVH3ZG0zFsP0TKjHBoHPxggCK4aglaEmM6h5ER04S+MSTkvVEHGlSBd5SbHlvWNXS5XDukEhe\n",
       "gLHLwPnBSZ4LCaH5lCPLFZCWdWMcBIAdt0jewHMgMYCT4YMm+1pa9j2ioEX28E6GgFrwFm9o6vL3\n",
       "0w7eMhv7zC5VaKPycKGCcSusmANSyIpxRAEHluLn+xtJDOC0t2fC2rpoTRYbcK40Sn8Zzraudwsl\n",
       "06ZoBecFWKOQAZybI+HVs7IxjgIBLFk3xwOJEs64qd9QpjkcUVfBzl2AiRq9jbyRO3HMzE1dr+cK\n",
       "H+ymDOHtIFjoGDTFVGqcirUa45RrHVgQwro57kuUcMZNsaMYf8yfOqyo445nld2XIu781fQjZTQq\n",
       "fQuOpq43OmB/2SI0G/bEiBQpVvBSed64BrAgxmSrm+O+RAVn3DTnJN471zqN7bLmQs4egpeSBcBb\n",
       "tK+t6/XmKaSicOk2V7mHSIj4hhUsTCDUaIyTgPU9BlQEK+S7vkQFZ9w0H2v4DLbXfGrFdTxzDABi\n",
       "GJSS+lb+a+t6nfwFcxU/zsBsENnykcyGR0XmZWOMi1AWSPK6Oe5KlHCmTbHJY79/2WymOpV9oXrQ\n",
       "ZJ66wn8+n6nMNSwW7Y5jSZQ1CshPFZituaFxTQIHDZKLF4jdbEui6Z1x00CSQtNz4p2LXAcjkHxS\n",
       "/Ak4ZT0p2DAQALqT0UhJuCmD1LZOyHplbFyDgCDScFIOofYCqTluSLTgzDb1JOnAUzY6RZE7QLeR\n",
       "4595iWD0GGsBR+IrTvOWQFNiyDvFVRHIu8zT+Pga5x9dhW2vrEsC8TrDoFfzhN7vcg9gbfvVR9D0\n",
       "87m3cu2XBcZwquuR64Ofb8EPvqcEb0fUY6fc6wzz91NKf+q7amDC58LWCdBD7ZrznS+l/0fNdy76\n",
       "xJdX2MomhdNOoJ5nk1hmXYw8zhOoWuZd7GnuycMM6i/xMTX7idlS0wAAAABJRU5ErkJggg==\n",
       "\" style=\"display:inline;vertical-align:middle;\" /></a><br>(see <a class=\"ProveItLink\" href=\"../../../__pv_it/theorems/209f128e5ee7667d1432e022e6b8f6764d4d52fb0/dependencies.ipynb\">dependencies</a>)<br>"
      ],
      "text/plain": [
       "negated_real_power_of_real_power: forall_{a in Complex, b in Real, c in Real | a != 0} ((a^{b})^{-c} = a^{-(b * c)})"
      ]
     },
     "execution_count": 2,
     "metadata": {},
     "output_type": "execute_result"
    }
   ],
   "source": [
    "%proving negated_real_power_of_real_power"
   ]
  },
  {
   "cell_type": "code",
   "execution_count": null,
   "metadata": {},
   "outputs": [],
   "source": []
  }
 ],
 "metadata": {
  "kernelspec": {
   "display_name": "Python 3",
   "language": "python",
   "name": "python3"
  }
 },
 "nbformat": 4,
 "nbformat_minor": 0
}