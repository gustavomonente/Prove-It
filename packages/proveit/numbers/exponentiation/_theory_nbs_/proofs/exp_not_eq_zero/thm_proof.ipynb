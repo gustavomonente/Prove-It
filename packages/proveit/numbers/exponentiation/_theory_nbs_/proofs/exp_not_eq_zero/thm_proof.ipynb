{
 "cells": [
  {
   "cell_type": "markdown",
   "metadata": {},
   "source": [
    "Proof of <a class=\"ProveItLink\" href=\"../../../../../_theory_nbs_/theory.ipynb\">proveit</a>.<a class=\"ProveItLink\" href=\"../../../../_theory_nbs_/theory.ipynb\">numbers</a>.<a class=\"ProveItLink\" href=\"../../theory.ipynb\">exponentiation</a>.<a class=\"ProveItLink\" href=\"../../theorems.ipynb#exp_not_eq_zero\">exp_not_eq_zero</a> theorem\n",
    "========"
   ]
  },
  {
   "cell_type": "code",
   "execution_count": 1,
   "metadata": {},
   "outputs": [],
   "source": [
    "import proveit\n",
    "theory = proveit.Theory() # the theorem's theory"
   ]
  },
  {
   "cell_type": "code",
   "execution_count": 2,
   "metadata": {},
   "outputs": [
    {
     "data": {
      "text/html": [
       "Under these <a href=\"presumptions.txt\">presumptions</a>, we begin our proof of<br><strong id=\"exp_not_eq_zero\">exp_not_eq_zero:</strong> <a class=\"ProveItLink\" href=\"../../../__pv_it/theorems/0ba8f8926c929c474a634d5ede68480ddc4eb2c80/expr.ipynb\"><img src=\"data:image/png;base64,iVBORw0KGgoAAAANSUhEUgAAALwAAAAcCAMAAADsiyV3AAAAPFBMVEX///8kJCQoKCgUFBQNDQ0Q\n",
       "EBCIiIhmZma6urrMzMxUVFQiIiJERETc3Nzu7u6qqqp2dnaYmJgyMjIAAAChkoCbAAAAAXRSTlMA\n",
       "QObYZgAAAvJJREFUWMPVWIl24yAMZLtF3OL6/38tl+2Aie0m22TLe01ebGNGw2gkSsh/MngI5PcO\n",
       "x34TWsG7n8F+Yy68G7vsf0fzHZHJ94IP2McSASReF5l/J3Y27DwoJDCTvZtHpPLlLcf9K4MxccCk\n",
       "UzB+Yjimu+bAO1GDzYE6e2cfX+wtNKUvmyhZ8iGpUZkaff7QS4j6laqho7fknaB7w+lQeVrirnuh\n",
       "7A3hzr5TNVnDfkKfFLfSKjtj61yWn/YO8zDqlcRXDnvndI4cE09iAc9joRnKK6LOQ7mXes2ShoY5\n",
       "BvRutulb4jGyCh7qF647o81j7QY/uFcwgYM9L7oxymlaNsR9PocyPj7zJ1u15lpFqF8ZN883MVxr\n",
       "N6x2Uskbjz5IcyaKKtOknYuEegWpX9R7TnwCzypqV38V3rLaYWbya7uB1jGWnkChE5siuCvgTQGo\n",
       "eLOSPj0rLazcUHCtg+hlgxV8LrXTdF3aDa+twbyMNwW2vQQ+x5mWEDNjbFKgen1k+oZByrG5jb1h\n",
       "PhWxJUZkIIMY2g2+qIcLW++ZKfhuMuFNoPlZNe5rNT0sArCRzDX/h1blyz5TfN1H0ajVptUxVCJd\n",
       "xKHdWNPBo9+l9QZ+nSyLfX2mP9/ethOG1BV85lAGYqcdZTBTg21FijecljXVsARVqKHdwDVtLdoD\n",
       "8P1ksGTjh47gq0nXFZQkU5vme7vIVRWp6EtFhK1ogxzaDaEKk2khY4W4D76bjHpJsjwjjobaaEMJ\n",
       "IIwEfqFnLs+7JOQGYfUoj22lRJP2iH27seU8Q9gMfAC/TZZJp38/slr9PbcpxBwPe3IsDONuppIh\n",
       "Ive5LOPWbriV7lQPRWlMp8wvk1ebXFrXvc8TdlrQT5pc3BHCJVjIhi4y42u7oe22byHovlnaT15s\n",
       "sqF3s6O1oGfEn0Tnjw6CnTND1fzUix9ZOXuMfYp4osQB9qvH4Sn4Cz0Rhsd7ptZ13L9JngDvrxwN\n",
       "7DP/p/lHJ6fHIVj+xKqvPLL+zPgC50sjQ9/0sl4AAAAASUVORK5CYII=\n",
       "\" style=\"display:inline;vertical-align:middle;\" /></a><br>(see <a class=\"ProveItLink\" href=\"../../../__pv_it/theorems/1e946737e498b049ee2dfb2c6ff3110a2701b1a40/dependencies.ipynb\">dependencies</a>)<br>"
      ],
      "text/plain": [
       "exp_not_eq_zero: forall_{a, b in Complex | a != 0} (a^{b} != 0)"
      ]
     },
     "execution_count": 2,
     "metadata": {},
     "output_type": "execute_result"
    }
   ],
   "source": [
    "%proving exp_not_eq_zero"
   ]
  },
  {
   "cell_type": "code",
   "execution_count": null,
   "metadata": {},
   "outputs": [],
   "source": []
  }
 ],
 "metadata": {
  "kernelspec": {
   "display_name": "Python 3",
   "language": "python",
   "name": "python3"
  }
 },
 "nbformat": 4,
 "nbformat_minor": 0
}