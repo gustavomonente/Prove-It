{
 "cells": [
  {
   "cell_type": "markdown",
   "metadata": {},
   "source": [
    "Proof of <a class=\"ProveItLink\" href=\"../../../../../_theory_nbs_/theory.ipynb\">proveit</a>.<a class=\"ProveItLink\" href=\"../../../../_theory_nbs_/theory.ipynb\">numbers</a>.<a class=\"ProveItLink\" href=\"../../theory.ipynb\">exponentiation</a>.<a class=\"ProveItLink\" href=\"../../theorems.ipynb#pos_power_of_quotient\">pos_power_of_quotient</a> theorem\n",
    "========"
   ]
  },
  {
   "cell_type": "code",
   "execution_count": 1,
   "metadata": {},
   "outputs": [],
   "source": [
    "import proveit\n",
    "theory = proveit.Theory() # the theorem's theory"
   ]
  },
  {
   "cell_type": "code",
   "execution_count": 2,
   "metadata": {},
   "outputs": [
    {
     "data": {
      "text/html": [
       "Under these <a href=\"presumptions.txt\">presumptions</a>, we begin our proof of<br><strong id=\"pos_power_of_quotient\">pos_power_of_quotient:</strong> <a class=\"ProveItLink\" href=\"../../../__pv_it/theorems/5ad316ddb2d586abbb3d912e61cadd31d50dd4dc0/expr.ipynb\"><img src=\"data:image/png;base64,iVBORw0KGgoAAAANSUhEUgAAATQAAAAyCAMAAADlcdcEAAAAOVBMVEX///8oKCgUFBQNDQ0QEBCI\n",
       "iIhmZma6urrMzMxUVFQiIiJERETc3Nzu7u6qqqp2dnaYmJgyMjIAAAArQGDrAAAAAXRSTlMAQObY\n",
       "ZgAABVZJREFUaN7dW4eSwygM9d0Bphf//8ceYMCUuJB4PSHM7E6KIsJD5UmQaRp9qPmZeQSZfmYo\n",
       "9dcTQAj9g9n8Cmbwr/efzhMG60P9I6hJ8McTIGb/4fCEqV/ATID5XWe7OID8aLpvHAy972zXxsIf\n",
       "NewnnHMR5QtaHye9wtkuDeNsa9saOr6D0srQYIzUHCkEgWiSXuFsRyMp4AhqKLJt4oNjpqsVzAEm\n",
       "+8C+YZY2wV5dcqngaJ/GMzRWZQUcH+joiquL6R1n288vpYJio8TQmOGlzGUkWhTyC6MpS/JogbWz\n",
       "7fKMSkGO5wKHBg2BCsPoe4D51eEWzqs8o1aQZ4axGS4ooTAkGYPyITvHs8unWgV5shk6FeCl4Bc8\n",
       "LUYsLkcSM8m0PAP7QGsU5PPokavOcsvR5jbMQqQpmTZOpftIaatg38AHqwZKIADM+CyEmBM4Z+bR\n",
       "Vf+0CvJ5qbXcIzr91SGNlV5zSPTBfUxe2VinEkk2QzEQsaCSPx1Kk/tynrbbw+OGcTZYHiiCO6In\n",
       "AfDeiaOBKTkUaHKRB9VBK81vNXGthBucjlZ4FkFsQSfmcZ9JLC59LsyN0ZoeFeM4qW7EjexqcUZN\n",
       "/Jaxx4juPbujCpZ/CsorUJXJxvXuBXBJZXby4mp6mT8uvuqvN+8r97hABdVeUX2Zpy/3ORLwgcz9\n",
       "gweTSqYIJXGrFDoRaN6lkBG0VTL15/MQXipHzge0Xa5sWThZ9mLWso3LMa8E+MXIc45n1UqvwFVh\n",
       "QCqE7DsCM7un2MStMvJEoNEAnUcqAS+AZvJ4zT1U1FliW3Hvg/YaiPuahyto3Ey42UrNJBfuq2ru\n",
       "0ZARkxiAdwUaDR40LbS3JISo/ZM7oBXR3e1F6NC0feo+9xSv3LOIadcrSroaGOMkBBaBIDE4Bjof\n",
       "ZrBccztP3A4ScSAQj8mSQARNnVtaVL4qVlubjOo2EfAClOPseWdvAqxxV0Y+LSgOzacUkK2FFHkV\n",
       "UjFBdCAQj8m2kO5Bs+Z1DlpQTjwJ+s/+6fB12i4qrHiaeoynxTZH3Ce3MEy9xaUwLsqukm+bmAOB\n",
       "cEy2CVjQECF0vpAIgvL1U3LaLA3AltzOHQ2bebnvmDeGRx1cwoUOf3iDqd9suwgucbGl7pAZkSOB\n",
       "sNgk4CyNQ30FtKDcGz2Ljue0t2uW5Uss5yqCAVpD3Ne7bRTsh0fhdpVpF723jUMh7YVZ3ewOl32B\n",
       "YHekcE+JVfzaeB+0oJzYwPzvPy48693sWTVuVdldq7mq6j0aTwqaewy4Dp+AuzMen+bS0jjyj5W1\n",
       "KZfObNTR7EggHpNtAoFy7EWdDLSoPNIN/2n0kqdVJKI6bK9DmOltt0YF7T0GWeueCZQQ+S1k6S1h\n",
       "UzNztRZ2FoZJuBG2J5COyaKApMpyOIGQOQUtKV/pRkBNqVcki5r94nKuLLO79IwKXtxjUEcNExgi\n",
       "UoHyxwLHoG16zqseVLbIWG5Lin7YGYoKXtxjIJ2tOck/FbgK2oX6tortxdmJIRDmBBr11stRwQuw\n",
       "QWezVn8scBE0fYFVVdRLZE/FYsSa1aZdgzkpIIKC9h4D/44j9nerwoqaQVNlhW11sDd3JgXtPYax\n",
       "D4vroDYBXHhjxqdArwfUCnK/oCNj1rD87R6xJ1lz8lfY3QGsFHS0iL9+1HfFUqb2BCO1QTjodqhS\n",
       "QemdY1+1amoj125Y1zzHO2b+1f5avVAwddS4A4z63JzT1aaIzu4wszdSeqHgI8L3faO5qMxx7Aqq\n",
       "CJV4p72RKzisaUccT69BAjE+aBzgJ6f7jR9fTPJR1kTQ9BMDPZjNNJt+ZJDHyObv/HTR2tpjP5JN\n",
       "SeB/PsU/3dFdAYIAAAAASUVORK5CYII=\n",
       "\" style=\"display:inline;vertical-align:middle;\" /></a><br>(see <a class=\"ProveItLink\" href=\"../../../__pv_it/theorems/d178585c4e68a16347ae59dd769304007720e2900/dependencies.ipynb\">dependencies</a>)<br>"
      ],
      "text/plain": [
       "pos_power_of_quotient: forall_{a in Complex, b in Complex, c in RealPos | b != 0} ((a / b)^{c} = (a^{c} / b^{c}))"
      ]
     },
     "execution_count": 2,
     "metadata": {},
     "output_type": "execute_result"
    }
   ],
   "source": [
    "%proving pos_power_of_quotient"
   ]
  },
  {
   "cell_type": "code",
   "execution_count": null,
   "metadata": {},
   "outputs": [],
   "source": []
  }
 ],
 "metadata": {
  "kernelspec": {
   "display_name": "Python 3",
   "language": "python",
   "name": "python3"
  }
 },
 "nbformat": 4,
 "nbformat_minor": 0
}