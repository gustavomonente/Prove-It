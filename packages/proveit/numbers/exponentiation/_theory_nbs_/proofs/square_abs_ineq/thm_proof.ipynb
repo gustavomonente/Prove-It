{
 "cells": [
  {
   "cell_type": "markdown",
   "metadata": {},
   "source": [
    "Proof of <a class=\"ProveItLink\" href=\"../../../../../_theory_nbs_/theory.ipynb\">proveit</a>.<a class=\"ProveItLink\" href=\"../../../../_theory_nbs_/theory.ipynb\">numbers</a>.<a class=\"ProveItLink\" href=\"../../theory.ipynb\">exponentiation</a>.<a class=\"ProveItLink\" href=\"../../theorems.ipynb#square_abs_ineq\">square_abs_ineq</a> theorem\n",
    "========"
   ]
  },
  {
   "cell_type": "code",
   "execution_count": 1,
   "metadata": {},
   "outputs": [],
   "source": [
    "import proveit\n",
    "theory = proveit.Theory() # the theorem's theory"
   ]
  },
  {
   "cell_type": "code",
   "execution_count": 2,
   "metadata": {},
   "outputs": [
    {
     "data": {
      "text/html": [
       "Under these <a href=\"presumptions.txt\">presumptions</a>, we begin our proof of<br><strong id=\"square_abs_ineq\">square_abs_ineq:</strong> <a class=\"ProveItLink\" href=\"../../../__pv_it/theorems/55f6fcc74788903ef31028c5c521ec8bb9a1bbb60/expr.ipynb\"><img src=\"data:image/png;base64,iVBORw0KGgoAAAANSUhEUgAAAN4AAAAmBAMAAABZiDjwAAAAMFBMVEX///8QEBCIiIhmZma6urrM\n",
       "zMxUVFQiIiJERETc3Nzu7u6qqqp2dnaYmJgyMjIAAAAcRTyBAAAAAXRSTlMAQObYZgAAA7VJREFU\n",
       "WMO1l19IU1Ecx3+729x27+6UKMp8WYrWQ8hAiF6yQfRWYS/2h8Bh6UMUhDQCMxClmEawEtI3rwwq\n",
       "JNqoh7ACB/YgFrEgSIRkZPWgVMMU0il2/tx7d8/dnft3Ow/n3KNf7me/3/n9OReg7CEmCtPxATBl\n",
       "NBYqPGUKzraX2U71S7mUnCkGjrVod+5wRTKn9KcZvE5m5wjb14xUxOz7Uvk43esdfteKgYqaXWGC\n",
       "Qz36dwjrBipqtn29fN5oWP9qrxGPmv21fF4zns7LG7xOGeuI2R/L5+3A01t5g1bRZ6wjZo/6gUTv\n",
       "l5JxrlUd7wQc10me7AbFbEsc3uF1sfRilmJ59qXXg5kED5JlARSzUZCO4B/ZWzLPeo3lWba2Usr/\n",
       "nnbRNQ2K2VwKPCgH3bGSeY5enT8zY+iWXPBQpMhmC2sgzoyPD5ceLpW+XLyHS0quIxfIZtuRqX9D\n",
       "oZ4yeF6ZMzS1T9Lyzn5TK0J7neI/fhOgA2BArfW/sqq/ZlYW1FnUmhxNUJ6tGn5r7XPeVh+ji7xa\n",
       "85YBjgGfqehKsr48cJHWAqdmlhehF9xqko3KvLEEHNbyuC61Nk9KGEPHBjpx4DINGvucf9OU4Nww\n",
       "4zXmCeiHeNQAa4tR3lEJupjzE3sktQLxG8pf/6DjTDgyKmz47MQ4IN5cwpAn4iZWGdbz9gC/ysaL\n",
       "sCCLFsCW1vBcyVb0EGn4juNnuUGyYV9hXpzhYQFaONIz22ovs/5EFggpXT7YftBOvAlWpS8QQwcu\n",
       "oYcg6RVcN+fzAOU1+bQ8InCC7SbZ75fqlGCg8cmnUe2YYHlgD/nxsoIPV65+KD7hBcoPq8+OC4XT\n",
       "KyYjhGftvM7ECxEg7DR5RR/MK/kQp/7sg8+BuI4Hrg48X4V+9Rek5RSyxMhlxuK3Bs6EQiEv537w\n",
       "ieERAdrw0/jAdsIh+Q2WAOU9qj3X7tfz6IgcVOPRhpugiAIpGnbOoaVSssQqqD+FC5KWRwRk04iA\n",
       "61Cj5FkyZz0zqu7KQVrCbSdhRHJIs+Buoec3w8QLEdDNfAK6RaXCu6uK4VE1NrT9+RE4HbNfQZC7\n",
       "ON8/xCPNWh4RyGnxClrfs7eVbN6zG3gEt7/s0Czm0Pll6lJ2fWEv6ZvF2Bdlrv5COFuRjwd38FQv\n",
       "b+rz8CYZggh5eQIK3tCgVlDUFag5f//WzMrCuqiYXl1T/v2MSxahrTLh+2FX4VJLwgTe/H/4Utxu\n",
       "OL0F31WrzeDxwUKVj2Nm8GA4XKDwnjnf766WAh2BW9k/I28Mvv9rN58AAAAASUVORK5CYII=\n",
       "\" style=\"display:inline;vertical-align:middle;\" /></a><br>(see <a class=\"ProveItLink\" href=\"../../../__pv_it/theorems/81116e0b0ac6d8beee75789fa1efd6ef6bcd78140/dependencies.ipynb\">dependencies</a>)<br>"
      ],
      "text/plain": [
       "square_abs_ineq: forall_{a, b in Real | |a| <= b} (|a|^{2} <= b^{2})"
      ]
     },
     "execution_count": 2,
     "metadata": {},
     "output_type": "execute_result"
    }
   ],
   "source": [
    "%proving square_abs_ineq"
   ]
  },
  {
   "cell_type": "code",
   "execution_count": null,
   "metadata": {},
   "outputs": [],
   "source": []
  }
 ],
 "metadata": {
  "kernelspec": {
   "display_name": "Python 3",
   "language": "python",
   "name": "python3"
  }
 },
 "nbformat": 4,
 "nbformat_minor": 0
}