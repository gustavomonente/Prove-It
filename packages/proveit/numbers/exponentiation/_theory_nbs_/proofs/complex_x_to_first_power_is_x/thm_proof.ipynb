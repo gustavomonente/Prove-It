{
 "cells": [
  {
   "cell_type": "markdown",
   "metadata": {},
   "source": [
    "Proof of <a class=\"ProveItLink\" href=\"../../../../../_theory_nbs_/theory.ipynb\">proveit</a>.<a class=\"ProveItLink\" href=\"../../../../_theory_nbs_/theory.ipynb\">numbers</a>.<a class=\"ProveItLink\" href=\"../../theory.ipynb\">exponentiation</a>.<a class=\"ProveItLink\" href=\"../../theorems.ipynb#complex_x_to_first_power_is_x\">complex_x_to_first_power_is_x</a> theorem\n",
    "========"
   ]
  },
  {
   "cell_type": "code",
   "execution_count": 1,
   "metadata": {},
   "outputs": [],
   "source": [
    "import proveit\n",
    "theory = proveit.Theory() # the theorem's theory"
   ]
  },
  {
   "cell_type": "code",
   "execution_count": 2,
   "metadata": {},
   "outputs": [
    {
     "data": {
      "text/html": [
       "Under these <a href=\"presumptions.txt\">presumptions</a>, we begin our proof of<br><strong id=\"complex_x_to_first_power_is_x\">complex_x_to_first_power_is_x:</strong> <a class=\"ProveItLink\" href=\"../../../__pv_it/theorems/14fe6c4fe37f4d0cc45d8ea576a8a16a24f1e1ea0/expr.ipynb\"><img src=\"data:image/png;base64,iVBORw0KGgoAAAANSUhEUgAAAIMAAAAcBAMAAACwgxHDAAAAMFBMVEX///8QEBCIiIhmZma6urrM\n",
       "zMxUVFQiIiJERETc3Nzu7u6qqqp2dnaYmJgyMjIAAAAcRTyBAAAAAXRSTlMAQObYZgAAAhhJREFU\n",
       "OMutVE9IFGEU/zHt7LjjzObBm5fVwIMEBhF1UFgUEU+OiOatkEK8RHhVqlOMGBgoFKj4sYKHRXBB\n",
       "RBQPsd02ogmC/qAweBSTRQh0u/S+3Z11lPl6UT3Yncd73/t9v+/9A/5MRvCvMnj7r0P1dFXpjfZr\n",
       "PMQwfg8Ru89CHDIQeM8hXElxEIYAfKnsKw4sCw5CuwG8u8D3krwFB5EoAq/l95niQBMLgUkgSVyt\n",
       "nOKKUk3dUkHcAexCNvtK4bYbAm3u6ajiTDP9Tl13SlUQyrXZMt6Vj3JmWuevU8H66RUPgWkFRB3l\n",
       "aA2fU08Cg3VcFqoCzDf2hEFX3HOAbph+OK7+xVhAOkm9V8AH0RcBbwmrFHtJdacRMKB5VbO5e9Mz\n",
       "R4R+FPQNXSfgRjI0yxyBdYKwPCMwf9nOwl4EdgMWkjFOFM+8Wm5dySLhy1nK32p1YjKiZ5NMQS7k\n",
       "EOk/QuwruajMlswC/dNjMP2A+lQ8MtJJafr29TwiTlR3tCLaIjjUi3aKqlQEG4/pKnwHVqRrZzs0\n",
       "AA2I/awrJrwIiP7cLJbo+/H8TWfAXdd1UwtDoW1Qgjnadi1yCFdbMp1epTupByUVvagjXm6njMx2\n",
       "VRr5pXRQm2rLt2DJ/CQ6HNS6sYNFMGtjtPopXwBmpLp2/NwJzAMshH1p82mUiwuGeI6DMByOps9B\n",
       "7LE8Nxi/clmFGijN7GeB/yG/AORDfx2EXCEQAAAAAElFTkSuQmCC\n",
       "\" style=\"display:inline;vertical-align:middle;\" /></a><br>(see <a class=\"ProveItLink\" href=\"../../../__pv_it/theorems/68e06e5e0d9daea66f9e247b8d6b8dfcbad2f4030/dependencies.ipynb\">dependencies</a>)<br>"
      ],
      "text/plain": [
       "complex_x_to_first_power_is_x: forall_{x in Complex} (x^{1} = x)"
      ]
     },
     "execution_count": 2,
     "metadata": {},
     "output_type": "execute_result"
    }
   ],
   "source": [
    "%proving complex_x_to_first_power_is_x"
   ]
  },
  {
   "cell_type": "code",
   "execution_count": null,
   "metadata": {},
   "outputs": [],
   "source": []
  }
 ],
 "metadata": {
  "kernelspec": {
   "display_name": "Python 3",
   "language": "python",
   "name": "python3"
  }
 },
 "nbformat": 4,
 "nbformat_minor": 0
}