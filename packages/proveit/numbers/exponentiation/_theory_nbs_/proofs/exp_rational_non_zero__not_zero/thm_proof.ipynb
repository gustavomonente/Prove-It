{
 "cells": [
  {
   "cell_type": "markdown",
   "metadata": {},
   "source": [
    "Proof of <a class=\"ProveItLink\" href=\"../../../../../_theory_nbs_/theory.ipynb\">proveit</a>.<a class=\"ProveItLink\" href=\"../../../../_theory_nbs_/theory.ipynb\">numbers</a>.<a class=\"ProveItLink\" href=\"../../theory.ipynb\">exponentiation</a>.<a class=\"ProveItLink\" href=\"../../theorems.ipynb#exp_rational_non_zero__not_zero\">exp_rational_non_zero__not_zero</a> theorem\n",
    "========"
   ]
  },
  {
   "cell_type": "code",
   "execution_count": 1,
   "metadata": {},
   "outputs": [],
   "source": [
    "import proveit\n",
    "theory = proveit.Theory() # the theorem's theory"
   ]
  },
  {
   "cell_type": "code",
   "execution_count": 2,
   "metadata": {},
   "outputs": [
    {
     "data": {
      "text/html": [
       "Under these <a href=\"presumptions.txt\">presumptions</a>, we begin our proof of<br><strong id=\"exp_rational_non_zero__not_zero\">exp_rational_non_zero__not_zero:</strong> <a class=\"ProveItLink\" href=\"../../../__pv_it/theorems/8ed75a2aaf93d313e22d7ba850805dda4851c1b10/expr.ipynb\"><img src=\"data:image/png;base64,iVBORw0KGgoAAAANSUhEUgAAAJ8AAAAcCAMAAABI4Z2kAAAAP1BMVEX///8kJCQNDQ0oKChRUVE2\n",
       "NjYQEBCIiIhmZma6urrMzMxUVFQiIiJERETc3Nzu7u6qqqp2dnaYmJgyMjIAAADrp1xaAAAAAXRS\n",
       "TlMAQObYZgAAAsVJREFUWMPNV4uS2yAMpL3W4i1e//+tRYBJjHHsu3M6x0ziiYNhWWlXMmP/b4gY\n",
       "2Y8env8sPFJsf0f3iYfh/fDUcCPZz2SDeje+iAPeBKDwejaE98LjY4RAI4NZCvo5aE23H5IK9+K1\n",
       "adzVZMBhImG7uecheFnPQ2fx7igct4t1yXLhk6xSYtAQaltPSF9mPYW5N7zLTqxE6P7uduOwlLNV\n",
       "RrV7os27N4eX8ilMSFDyOQcKv64+zGl28EjD6nvpq0QMfuM9e00fSwWfSIUsKGskQ0P7m9Xbk95y\n",
       "z2E5TG7zTB8mXvFBvWDn19ivhZEW9WHvEGalRSx5Tkx7/cQyPn7TN+9Z4ZtT1gtBE/Qnxi/Vc0nr\n",
       "GGS4y6vYhIpLWDPpnL6Mj1dgvv4qyqbMg3DJItArz9WD6gJiaZ+tGNqzvMRIw7UauI0vVnxUSKbq\n",
       "6PUcnec8z7KgynxH2PP4+4c7ZgmbluOzDd9iykbyiL4hrVLTr3viL/u3nBbjtZ4H4ywSDWCJZgRX\n",
       "/7A1ClN81SgyMl/2Y/P8+7XULFTbtA3VX2QDYOxq4chBRTnUc7GGWcoKDFh4RDcfg2gaBaJMw0dM\n",
       "qMjcVH/RTm2p+bNoHup4Cy9mGmQ31rWed5UEDK01A4pvji7P8Z3rA5anoqsVm9qX2HcLVDNwkVsP\n",
       "TS19eZ4v9VDPsS8CHZ/v0T3yl/XsqACkVSCudGBlsRy0FsGu+oCPmglqqOdSFwPPaF2Pr39E97D+\n",
       "ilPzdCf9fhxUj5SPJiBu63kHgqrpgwQcTvbn5wXppGPCXQnPVi+TICPJOdXrue/ahNIeeSiecWbd\n",
       "yyl9JycIat/zgwMyOkm89XpuemsDSXuTrr0ZKPc9+vaetTncRow1/wpWFOISvGnJ3LJxQt8ret1R\n",
       "u2CNDc5eaibct153X/fLx+8iCLlduvYq4MQ38PF7XzfeNP4BCfUisd2ohc0AAAAASUVORK5CYII=\n",
       "\" style=\"display:inline;vertical-align:middle;\" /></a><br>(see <a class=\"ProveItLink\" href=\"../../../__pv_it/theorems/5142e71731b4ab0f22f50b486e35b557a91773890/dependencies.ipynb\">dependencies</a>)<br>"
      ],
      "text/plain": [
       "exp_rational_non_zero__not_zero: forall_{a, b in RationalNonZero} (a^{b} != 0)"
      ]
     },
     "execution_count": 2,
     "metadata": {},
     "output_type": "execute_result"
    }
   ],
   "source": [
    "%proving exp_rational_non_zero__not_zero"
   ]
  },
  {
   "cell_type": "markdown",
   "metadata": {},
   "source": [
    "Proof by contradiction.  Assume $a^b = 0$.  Since $(a^b)^{1/b} = a$ and $0^{1/b} = 0$ then $a = 0$.  But that contradicts our restriction on $a$ to be in $\\mathbb{Q}^{\\neq 0}$. "
   ]
  },
  {
   "cell_type": "code",
   "execution_count": null,
   "metadata": {},
   "outputs": [],
   "source": []
  }
 ],
 "metadata": {
  "kernelspec": {
   "display_name": "Python 3",
   "language": "python",
   "name": "python3"
  }
 },
 "nbformat": 4,
 "nbformat_minor": 0
}