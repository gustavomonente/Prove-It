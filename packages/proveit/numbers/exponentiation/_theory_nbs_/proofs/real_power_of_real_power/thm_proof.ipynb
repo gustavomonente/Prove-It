{
 "cells": [
  {
   "cell_type": "markdown",
   "metadata": {},
   "source": [
    "Proof of <a class=\"ProveItLink\" href=\"../../../../../_theory_nbs_/theory.ipynb\">proveit</a>.<a class=\"ProveItLink\" href=\"../../../../_theory_nbs_/theory.ipynb\">numbers</a>.<a class=\"ProveItLink\" href=\"../../theory.ipynb\">exponentiation</a>.<a class=\"ProveItLink\" href=\"../../theorems.ipynb#real_power_of_real_power\">real_power_of_real_power</a> theorem\n",
    "========"
   ]
  },
  {
   "cell_type": "code",
   "execution_count": 1,
   "metadata": {},
   "outputs": [],
   "source": [
    "import proveit\n",
    "theory = proveit.Theory() # the theorem's theory"
   ]
  },
  {
   "cell_type": "code",
   "execution_count": 2,
   "metadata": {},
   "outputs": [
    {
     "data": {
      "text/html": [
       "Under these <a href=\"presumptions.txt\">presumptions</a>, we begin our proof of<br><strong id=\"real_power_of_real_power\">real_power_of_real_power:</strong> <a class=\"ProveItLink\" href=\"../../../__pv_it/theorems/edbe353ddc94d65734f496d3eabfeb3e2916207d0/expr.ipynb\"><img src=\"data:image/png;base64,iVBORw0KGgoAAAANSUhEUgAAASIAAAAcCAMAAADyZ0LtAAAAOVBMVEX///8oKCgUFBQNDQ0QEBCI\n",
       "iIhmZma6urrMzMxUVFQiIiJERETc3Nzu7u6qqqp2dnaYmJgyMjIAAAArQGDrAAAAAXRSTlMAQObY\n",
       "ZgAAA8hJREFUWMPdWdt2pSAMdWYMcr/4/x87BBGJILU9Z03ruFb7oNlcdshOwpmm/+RZQvhW/BMe\n",
       "x74X/5MevnRfB/vasB08PJUh0X+/6tfG7eAX8UyKgukztwII+skB3D8HFJ+hzj+RIbbvWtPlgzQT\n",
       "oJzY/TTIZeLz7XELnkAlknbouH8CZXrNnjaKflCROp82IzaOGBrw2wNnvGEEmkhz9oMT/EPzVjhJ\n",
       "xxxFnCXtMJvX58/Jd8bzWddQveK/3RtaPSHO9tX7c4rG05U/OviCfFf4GiptdXicfVKcyTMBUTV8\n",
       "drJJMhKwNrhf61T4GppizjuDj5ZPOEQ+62+7Wi6cm+otagYe7mtHja+gkCZcFT7SPSKf5exSco9m\n",
       "jsFsvlwod/F1aZSOrUjarW6G7pt6mWX0Ma0YHLReUzkWVM6+C6prWM9nrV2iC9VzMNjHk3IJ2VnY\n",
       "kQa6j1VOSAEXLrISlGBhUKT1LEa5gfEU/xHYVLdBVCqKquN3vaAT3nTUBZ6IX3ImDghNUWSsYyy+\n",
       "NVxFr/Lgzr3MbgBT/ORMh6OBxWhVIldvW5qhosqOFI2bSwYSGtffjds+vt7CRhGW2Q3vXlltcACv\n",
       "EznWnXqZYpAI8KYtPEcWA4rQI3FpvFfbBErRrIrplyi6wLenSIfSGxoGIpToS9HK7TaCpr1MMdgJ\n",
       "cOfmaGRBKCqTbhO6bRqcT555VyTQzIq2tiFkkWMtEuWI9PGE7W3fSovNK0by+JL0JdH5utfLhIkQ\n",
       "wNghUbnDGVgQisqkIqXWP/HP51U0ISCIXJsVmRLh6Msu5foiivr4JqNFHlmmHXfBZXJskT5D8XUv\n",
       "sxPAhJBHisodzsCCUlQm3Wxt5b35TBHMJGekxUgxnVIfu1vAXOA7hdi0wlHeAx5DLpNH4xDact7r\n",
       "ZYoBnhENfjn3CAMLSlGZtO5ON4FYlwun5lAyAoBrASezcLd7vcDXbKsSTXldGs8wSuyRblnORIb2\n",
       "MoKEkeXOnO+mri0IRcekIsrE718oFv4qo+063TYg9cbf2Cg0xUwspPi6YJw7XtWffOsNNeaavZc5\n",
       "DHJKd6kVNkeH07XonaIy6Z7w9/q5rYtKDPlBAe3ed6FqGictAiywtFpV8q2J2UBhCc7x9JReZjew\n",
       "0sWayTDsDZJF6XB6Fh2Kqkm3hJ85cr0+olySXXcD5o0/Zfjh1SxkISFl60cGNyxGdZH9WGeF7V+p\n",
       "VUPr91Ek+ScBVr9uMaTohv/LGdEXl6T+jQz5T/f2/g0WI4r8nSsr++9+7/reW8YX9mmXf7bIJ1xV\n",
       "/4TnL/UWLpyHhMsrAAAAAElFTkSuQmCC\n",
       "\" style=\"display:inline;vertical-align:middle;\" /></a><br>(see <a class=\"ProveItLink\" href=\"../../../__pv_it/theorems/55780c76f2d574085de9024c973533b653b03e540/dependencies.ipynb\">dependencies</a>)<br>"
      ],
      "text/plain": [
       "real_power_of_real_power: forall_{a in Complex, b in Real, c in Real | a != 0} ((a^{b})^{c} = a^{b * c})"
      ]
     },
     "execution_count": 2,
     "metadata": {},
     "output_type": "execute_result"
    }
   ],
   "source": [
    "%proving real_power_of_real_power"
   ]
  },
  {
   "cell_type": "code",
   "execution_count": null,
   "metadata": {},
   "outputs": [],
   "source": []
  }
 ],
 "metadata": {
  "kernelspec": {
   "display_name": "Python 3",
   "language": "python",
   "name": "python3"
  }
 },
 "nbformat": 4,
 "nbformat_minor": 0
}