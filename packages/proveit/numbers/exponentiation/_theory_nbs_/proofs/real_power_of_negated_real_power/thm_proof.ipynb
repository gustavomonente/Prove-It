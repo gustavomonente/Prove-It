{
 "cells": [
  {
   "cell_type": "markdown",
   "metadata": {},
   "source": [
    "Proof of <a class=\"ProveItLink\" href=\"../../../../../_theory_nbs_/theory.ipynb\">proveit</a>.<a class=\"ProveItLink\" href=\"../../../../_theory_nbs_/theory.ipynb\">numbers</a>.<a class=\"ProveItLink\" href=\"../../theory.ipynb\">exponentiation</a>.<a class=\"ProveItLink\" href=\"../../theorems.ipynb#real_power_of_negated_real_power\">real_power_of_negated_real_power</a> theorem\n",
    "========"
   ]
  },
  {
   "cell_type": "code",
   "execution_count": 1,
   "metadata": {},
   "outputs": [],
   "source": [
    "import proveit\n",
    "theory = proveit.Theory() # the theorem's theory"
   ]
  },
  {
   "cell_type": "code",
   "execution_count": 2,
   "metadata": {},
   "outputs": [
    {
     "data": {
      "text/html": [
       "Under these <a href=\"presumptions.txt\">presumptions</a>, we begin our proof of<br><strong id=\"real_power_of_negated_real_power\">real_power_of_negated_real_power:</strong> <a class=\"ProveItLink\" href=\"../../../__pv_it/theorems/3f6f3a9178458cfe685e340e48441679dd4871b00/expr.ipynb\"><img src=\"data:image/png;base64,iVBORw0KGgoAAAANSUhEUgAAAU4AAAAmCAMAAACcXYLYAAAAOVBMVEX///8oKCgUFBQNDQ0QEBCI\n",
       "iIhmZma6urrMzMxUVFQiIiJERETc3Nzu7u6qqqp2dnaYmJgyMjIAAAArQGDrAAAAAXRSTlMAQObY\n",
       "ZgAABI1JREFUaN7tWomu2yAQdFuDuQ///8cWjDkNmORFqZGKVKmK9i0w7DGzybJMuJR62IE4XuZd\n",
       "QD/uSJueFs1t5Q984lnjk6/oX2zLqp/Go2g1J5wYD6bfR/NP1l2KLcD9xJy5X2hngwDAT74ha7iE\n",
       "7MVnftjSo6fW4oNvKFsuY09H+4ThyUaDcxk2HAlO1HSpw2cazAcn1MNFAQCcxYsE4N0Lk4rL0x0I\n",
       "LUit88G5poiwTjcFhC/A1Drho4dsC3rzwoxkLjN3AsfEMX1JP1drVHM9YUmcdiypwV3p0EUWSDNe\n",
       "8xrTpalLDlN3WzzEaiqsDOVVT1BK1V4tW/7WfpmbrCZUoI0c7gJmFS8imPjaXASeLtHKEncoxiM2\n",
       "/2UeXUZnKJ0kgbbLhGyfdXeW4KedCdHCZeJui0wD7ElQSjEBnCR5c9IFyNQ5RU8ZdYSyJdxvUlFO\n",
       "CpeJOyUjp7cYK8ntYmSGTrTDsj80IwpLmV6dQaDAu+WM8MJldAe3hEzYiNyPEkHkFHDGxh56LIMS\n",
       "gp7Ee0EfNXyBduYmxI3vKnBUOlhbPqSFt25yHVeQ4PLC7sBn61Z+wGROrvde/7qeWOpkRbSbvpp9\n",
       "RajysTcY+1/9T6jEBIPGWwsCKIY9SVCz6PU9iM6aJPCFJ8XTE3FWRuV5S3v/4WFVy9fWIJE8A2OX\n",
       "nvODiz0XEkLzKUeWKyAtSy3sDYAdt0hewbNj0bk+wydNdr00lzox61YX4PCwIaArkEZ5Q9uXqCdv\n",
       "Xo1dZZfKy6g0Q6hg3BordgApZKGFg8EBluLX9+tZdOC0r2fSGlXIYgXOlQbrH8M54GugUTJtmpYP\n",
       "XoA18hXgCHMknHuWa+Fg4MGSpTjuWORwhk3dhjLO4Yi6S3Z+JJjoAraRfu3EoTLf++rWCpfspg3h\n",
       "7SRY6Bw0hVJqgorVtHCstQdYEAbwvJptW+Rwhk3xQTH+mH/qPEWZdzzp7K4V8SNejR4R7JVW1IDj\n",
       "3ldfAbvHFl5s2BsjkpVYwXPnqXD1YEGMSWjVXs22LQo4w6YpJ3HRuZZlbJcl/TnOQ/DS4XlwlAMO\n",
       "+OoPsURO52ytOr5EQsQJVrAwgbJa4oVrMLCxx4AKYPl617Yo4AybpmMNV8H2kk+tuExhjgFADIMO\n",
       "89KjxXDAV7eo+OMqft6B2SSy7SMeG54dmedaGGepLJDk5di2aZHDGTfFpo79/mWrmWp09oXqUZF5\n",
       "kYjfmM8UxzUsFu0Hx5IoEQrIDRKY7bleuEaDkwbJxRkENVuzqEZn2NSTJC96LrxzkevoCCQdG38J\n",
       "TlmOUzcMBIDHzWigJNy0QWqlE7JRGYSrNxBEGk7KIdTOIIrjikUNzmRTR5JOPGVFHIo0AMaEHP/a\n",
       "Lwq6X2OBs/Blt3nJoGrR5Z3irgmkKrM/Pn4R9A+s7Gwj65ZAjDMMejdPaP1dGgFs4PzqW2i6+dxL\n",
       "tfbHBn041f3I9cHfb8F/+Dsl+HZGPXbKvc4wf7+U9Kf+Vg1M+L2wDQL00HPN+Zsvpf9nzScXfeKP\n",
       "V9jKJoXTTqCedyaxzLoYeVwkULXMu9jTwpP7GdRfyXQ1++hsJjQAAAAASUVORK5CYII=\n",
       "\" style=\"display:inline;vertical-align:middle;\" /></a><br>(see <a class=\"ProveItLink\" href=\"../../../__pv_it/theorems/cc1866739752ba6a23ec56d980bfd1edbcb83f7d0/dependencies.ipynb\">dependencies</a>)<br>"
      ],
      "text/plain": [
       "real_power_of_negated_real_power: forall_{a in Complex, b in Real, c in Real | a != 0} ((a^{-b})^{c} = a^{-(b * c)})"
      ]
     },
     "execution_count": 2,
     "metadata": {},
     "output_type": "execute_result"
    }
   ],
   "source": [
    "%proving real_power_of_negated_real_power"
   ]
  },
  {
   "cell_type": "code",
   "execution_count": null,
   "metadata": {},
   "outputs": [],
   "source": []
  }
 ],
 "metadata": {
  "kernelspec": {
   "display_name": "Python 3",
   "language": "python",
   "name": "python3"
  }
 },
 "nbformat": 4,
 "nbformat_minor": 0
}