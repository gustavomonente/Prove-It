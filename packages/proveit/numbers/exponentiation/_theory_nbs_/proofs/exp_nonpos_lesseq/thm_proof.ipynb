{
 "cells": [
  {
   "cell_type": "markdown",
   "metadata": {},
   "source": [
    "Proof of <a class=\"ProveItLink\" href=\"../../../../../_theory_nbs_/theory.ipynb\">proveit</a>.<a class=\"ProveItLink\" href=\"../../../../_theory_nbs_/theory.ipynb\">numbers</a>.<a class=\"ProveItLink\" href=\"../../theory.ipynb\">exponentiation</a>.<a class=\"ProveItLink\" href=\"../../theorems.ipynb#exp_nonpos_lesseq\">exp_nonpos_lesseq</a> theorem\n",
    "========"
   ]
  },
  {
   "cell_type": "code",
   "execution_count": 1,
   "metadata": {},
   "outputs": [],
   "source": [
    "import proveit\n",
    "theory = proveit.Theory() # the theorem's theory"
   ]
  },
  {
   "cell_type": "code",
   "execution_count": 2,
   "metadata": {},
   "outputs": [
    {
     "data": {
      "text/html": [
       "Under these <a href=\"presumptions.txt\">presumptions</a>, we begin our proof of<br><strong id=\"exp_nonpos_lesseq\">exp_nonpos_lesseq:</strong> <a class=\"ProveItLink\" href=\"../../../__pv_it/theorems/4b4495adac2d11d0bc78cc11faac5ad439cd3a620/expr.ipynb\"><img src=\"data:image/png;base64,iVBORw0KGgoAAAANSUhEUgAAAREAAAAXBAMAAADelGYUAAAAMFBMVEX///8QEBCIiIhmZma6urrM\n",
       "zMxUVFQiIiJERETc3Nzu7u6qqqp2dnaYmJgyMjIAAAAcRTyBAAAAAXRSTlMAQObYZgAAA5VJREFU\n",
       "SMe9ll9IFEEcx7/u7Xp3e3snBD2UL1cHIgZyKEEPJZeB0kOhL+lDoFhGvoiIEpGGRMppBEuBSRBt\n",
       "HSSI5FGQGhHHPckVdpDQHywO+/OQCBIJaQTNzM7O7p1n+nLuw87s7Gd2v/Ob358BduuKlX3LO65W\n",
       "dTbsjoJ7/Ie9ykbe9+MNLQZmSSdDnz4VTog6YLausNKVF6hGE1CsA6/o04/CKQnoZlsUl1rFoNRr\n",
       "A6UoI3qJQcbIg3egcEre8nZK93w0eH+y22GzddycAJJEM3mtxQun5DJvi/SWU7x7u98J7FN+pYEH\n",
       "gD81MXGncEK8lnPIbU+Omb3R5Syi7lCIKAlEgN/RaF/hlEhh4GEVvPvFSPNXsTEHO2qTvK8Rrh0Y\n",
       "3sEnI+y7ycTO/i84D1lv4jikVeuVZ1BQk3gXvMr7fuKyJ5jjbnFNl59bMnvMqRfxzDS1IYiZTXN8\n",
       "A4ID3HF44zXwiJiQusXcFN4YJ61JZBfdkNL5M8GL6rSkIRW0lfSghH5HGRLQy+AmIUuCo44agYo9\n",
       "KLExf58lxUBUjCrEaFrand8e72cnQJR8TAsl6hpJC8QLL+oW83nTIvwrguNKIG+gxZHQfV/E9J9Z\n",
       "SryZM3ZVSB4uI3PkMrgNOUxtSZQkhBJlHe401CMNFllJhTDaKiDSiuCs3YErgwNOsfJ3rktZs8do\n",
       "jA2fF1VBMjrdZBFaidGIAEwl1WFbyQbcQXU+YpH1bOGM5gVEvgKLsz3W04qhLLspUeb/z4kfVzg8\n",
       "Fk+7RFVQQJeEu/UoR4wpcV3ogdMmRcFGtlpGTl4XNC8g6lzE4uzodLXKf3OyTDs1wx/PqtfaXRe1\n",
       "PPUmURXW2f0o2tAUjUaDknZrAU4/KYloPB9QcvKGRYsCMhfnnG11tS20ni8i2ipCovQG6Ib5Dbsq\n",
       "KKuKGSN7UWzuju+skRM7sUEIUlrmtCggqIw7Y8fM9q7MdhloHM6qMGbc1zIaadArr0JrMP0kZXss\n",
       "QixPjJJMyEgeKpT2jvACwuIpJPIJrYCdmIpspyQJZ1VojD9aSKZIg7pysghq+en5RKzGViK9Zu47\n",
       "1gFGspg0GK2U8gJCPdHimMvq6Mc1+5ePL9GrN3encozGc0Bc1anLS8RP7HdZB4dm3fkVRvu2PinV\n",
       "hrY9Hnr07Oyo86Y4cXoTu/URxqRntzk9/v/6kJMerUZeTOxIyQwJr6hh0ubG+OjISGEPxuFCn7z/\n",
       "AUivFRUyHTr5AAAAAElFTkSuQmCC\n",
       "\" style=\"display:inline;vertical-align:middle;\" /></a><br>(see <a class=\"ProveItLink\" href=\"../../../__pv_it/theorems/1002fdf642a59491ce6fd9336296477045e3df710/dependencies.ipynb\">dependencies</a>)<br>"
      ],
      "text/plain": [
       "exp_nonpos_lesseq: forall_{a, x, y in Real | 0 < x <= y, a <= 0} (y^{a} <= x^{a})"
      ]
     },
     "execution_count": 2,
     "metadata": {},
     "output_type": "execute_result"
    }
   ],
   "source": [
    "%proving exp_nonpos_lesseq"
   ]
  },
  {
   "cell_type": "code",
   "execution_count": null,
   "metadata": {},
   "outputs": [],
   "source": []
  }
 ],
 "metadata": {
  "kernelspec": {
   "display_name": "Python 3",
   "language": "python",
   "name": "python3"
  }
 },
 "nbformat": 4,
 "nbformat_minor": 0
}