{
 "cells": [
  {
   "cell_type": "markdown",
   "metadata": {},
   "source": [
    "Proof of <a class=\"ProveItLink\" href=\"../../../../../_theory_nbs_/theory.ipynb\">proveit</a>.<a class=\"ProveItLink\" href=\"../../../../_theory_nbs_/theory.ipynb\">numbers</a>.<a class=\"ProveItLink\" href=\"../../theory.ipynb\">exponentiation</a>.<a class=\"ProveItLink\" href=\"../../theorems.ipynb#exp_neg_lesseq\">exp_neg_lesseq</a> theorem\n",
    "========"
   ]
  },
  {
   "cell_type": "code",
   "execution_count": 1,
   "metadata": {},
   "outputs": [],
   "source": [
    "import proveit\n",
    "theory = proveit.Theory() # the theorem's theory"
   ]
  },
  {
   "cell_type": "code",
   "execution_count": 2,
   "metadata": {},
   "outputs": [
    {
     "data": {
      "text/html": [
       "Under these <a href=\"presumptions.txt\">presumptions</a>, we begin our proof of<br><strong id=\"exp_neg_lesseq\">exp_neg_lesseq:</strong> <a class=\"ProveItLink\" href=\"../../../__pv_it/theorems/109c2bdbc9cf48d91843a41dc4607e566cbdbef20/expr.ipynb\"><img src=\"data:image/png;base64,iVBORw0KGgoAAAANSUhEUgAAAREAAAAXBAMAAADelGYUAAAAMFBMVEX///8QEBCIiIhmZma6urrM\n",
       "zMxUVFQiIiJERETc3Nzu7u6qqqp2dnaYmJgyMjIAAAAcRTyBAAAAAXRSTlMAQObYZgAAA5NJREFU\n",
       "SMe9ll9IFEEcx7/u3Xr/9hSCHkqCqwMRgziUoIeSy0ApKPQlfQgUy8gXEVEi0JBIuSuCpcAkiLYO\n",
       "EuTIoyA1Io57vMIOEvqDxVHWQxJIJKQRNDM7M7v3x/Tl3Ied2dnP7H7nN78/A2zXFav+WnTcW9fb\n",
       "sj0K7vIfDqrrRd9PtnQYmCOdLH36WDoh3hGzdYTUvqJAPdqAch14SZ++l05JhW62ZQmlUw4qgxZQ\n",
       "hWqilxhkgjx4Rkqn5A1vp3X3B4P34/02m63hxhSQIprJay1ROiWXeFumd5zk3VvDdmCX+isD3Af8\n",
       "6amp26UT4hHO4ex6fMTsjS/nEE37g0RJRRj4HYkMlU6JEgIe1MGzW460L8mN2dfTmOJ9jXDdQHQL\n",
       "nwyz76aSW/u/5NxkvcmjUFbEK/eopOJ4G7jM+37isseY425wzdSc/Wz2mFMv4qlpakMSs4WTTkgO\n",
       "cCXgSTTALWNC6Zdz03htHOd9H9lFF5RM8UzwvD6jaEgHLCUDqKTfUcck9CJQMK+9U3DUUcPwYgcq\n",
       "Lcw/JKQYiMhRlRhNy7iK2+Pd3BSIkg8ZqcS7StIC8cILumA+FS5iPCo4rgTOdXTYErrvi5z+M0eJ\n",
       "J3vaqgqpg9VkjrMaLsMZorYkSpJSiboGVwbeQy2CPECFMFoWkNio4MTuwJHFXrtW5zeuS121xmiM\n",
       "Rc/JqqAYvS6yCK3SaEUFTCX1IUvJOlwB73xYkM1s4YwWBSS+JDjLY92dGMsxmxph/v+M+HGtzWPx\n",
       "pE9WBRU/6PCdZtQgxpQ4zg/AbpOyQCtbLSPjVyXNC4i6B4KzotPR6fybl2W6qRn+uFc8Yncd1PLU\n",
       "m2RVWGP3w+hCWyQSCSjazQXY/aQyrPF8QMn4dUGLAsIMxjjL6t6u4FqxiOiqDcrSW0E3zG9YVUFd\n",
       "Uc0Y2Ylyc3d8Z4y82ImNQpLKMqdFATGdyIodM9s7sptloEnYq8KEcU/LaqTBoHMFWovpJ2nLYxFk\n",
       "eYJEBxhJl0E2idKea7yAsMAKynxCK2AvpsObKUnBXhVaEw8XUmnSoKmGLIJafmY+GWuwlCivmPtO\n",
       "9ICRLCYNRqtVvIDAM6YLjrmsjmFcsX756CK9BvN3Ks9oPAckvDp1eYX4ifUu5+DQrtu/wmifFRnR\n",
       "vJNSY3DT46Fbz3n06bwpT54qYDc+wpj03Canx/9f73Mf/aJxLia3pGSWhFfEMOnMth3NQ6X+wT93\n",
       "ZRHvnr6lzwAAAABJRU5ErkJggg==\n",
       "\" style=\"display:inline;vertical-align:middle;\" /></a><br>(see <a class=\"ProveItLink\" href=\"../../../__pv_it/theorems/8c71b3075c3161fadbb0cdf8c34ff1519b0980bf0/dependencies.ipynb\">dependencies</a>)<br>"
      ],
      "text/plain": [
       "exp_neg_lesseq: forall_{a, x, y in Real | 0 < x <= y, a < 0} (y^{a} <= x^{a})"
      ]
     },
     "execution_count": 2,
     "metadata": {},
     "output_type": "execute_result"
    }
   ],
   "source": [
    "%proving exp_neg_lesseq"
   ]
  },
  {
   "cell_type": "code",
   "execution_count": null,
   "metadata": {},
   "outputs": [],
   "source": []
  }
 ],
 "metadata": {
  "kernelspec": {
   "display_name": "Python 3",
   "language": "python",
   "name": "python3"
  }
 },
 "nbformat": 4,
 "nbformat_minor": 0
}