{
 "cells": [
  {
   "cell_type": "markdown",
   "metadata": {},
   "source": [
    "Proof of <a class=\"ProveItLink\" href=\"../../../../../_theory_nbs_/theory.ipynb\">proveit</a>.<a class=\"ProveItLink\" href=\"../../../../_theory_nbs_/theory.ipynb\">numbers</a>.<a class=\"ProveItLink\" href=\"../../theory.ipynb\">exponentiation</a>.<a class=\"ProveItLink\" href=\"../../theorems.ipynb#exp_neq\">exp_neq</a> theorem\n",
    "========"
   ]
  },
  {
   "cell_type": "code",
   "execution_count": 1,
   "metadata": {},
   "outputs": [],
   "source": [
    "import proveit\n",
    "theory = proveit.Theory() # the theorem's theory"
   ]
  },
  {
   "cell_type": "code",
   "execution_count": 2,
   "metadata": {},
   "outputs": [
    {
     "data": {
      "text/html": [
       "Under these <a href=\"presumptions.txt\">presumptions</a>, we begin our proof of<br><strong id=\"exp_neq\">exp_neq:</strong> <a class=\"ProveItLink\" href=\"../../../__pv_it/theorems/944704ece796e70f9a70a01d8276ca352dcc3eb00/expr.ipynb\"><img src=\"data:image/png;base64,iVBORw0KGgoAAAANSUhEUgAAAPsAAAAXCAMAAAD6KsltAAAAPFBMVEX///8kJCQoKCgUFBQNDQ0Q\n",
       "EBCIiIhmZma6urrMzMxUVFQiIiJERETc3Nzu7u6qqqp2dnaYmJgyMjIAAAChkoCbAAAAAXRSTlMA\n",
       "QObYZgAAA1ZJREFUWMPVWAlu3DAMVNuYui/7/38tKa9tHfSuArSAIyABFFMUz+EoQvzkFSSYVf8/\n",
       "+QctnztXrBZ6C4xkCqzrp3z0tF/PLzk/Pcuu+4OUQmjLBWllFVTyhpxP8fiyhof7vvruDwvaDoaR\n",
       "NIpVUMkHio4/gundw13Psq+DDYPhchhyduNKI5+gSvdVAA9d1g959Ni+amxVcwNntXxYKJwp0PL2\n",
       "6UA3GqgMRJB5Mu2d/Ep9sTlaNj3cd3iVfAAwXkGpWX65Ju0BJIn6pWuNJM8Kcf6fWKjeAvUMmBc/\n",
       "EwypcK9axQ/ZgrAjlKe1rN9f9PsEhyQUlTdsPXyQAiUP3PvuihackWudgXeAKSdYRZHJ6F/s8dvG\n",
       "c3InnNHKz6XdRyHJN+cG44tWCsu3hnuISVLfAEYVrYEp372ZaOoiY0srdlWyqLMu3LsIa9PX0UL2\n",
       "bX2P6FIIKe/+z08bF32ZFMX3HPKU726i5ItM2PRrGDO+C86PRkVfEIqiqDfN+o4s6AhWS3gTSA3H\n",
       "wFCFFdjwapIdf3bfE+97c1yo1KlhLtxlNM1hYTNb84Lzo+r3X8ve9Vf2S8nDMiCTfYXqRYRaggxB\n",
       "mHUvwIIZ+EEvDQ0uvkspWd/P46YMki/8ybWa5sJaZrfAAot1MeywBWGS/Alnjl8j1qE+aTmCjNFd\n",
       "z+D7QIECR6mqfJfGWMVjXXNcQOzUMBe+ZPa8L8DMJCzgKNw2PmvObMoRPg0dG+RlahtoIMibb4UN\n",
       "kK0lRw5K3j1kdYvz1/HrHXKoGS88ZPZ+3xRXo8EA4MS+fXcxjxI6IrehHI5Oy4EnyIQHZ29Rfhfa\n",
       "mabmo64fjK6HEzxgsP3+/KYmzLWa5sJGhsV5htMyU1fejM51fM/eEV6PgOs3RA9q0LLDuzWWTqk+\n",
       "3fR74rHuOt7Ot0NNUVoz7EuGKFw0H98yc2lHzMEYD5xr4IUn4dVYjMFkhfwq7Lvy0e3hc/GgB2lN\n",
       "2P9VVF1Vasfxdr4daorSmmFXMpCSnJheY9oZYk7zwg1D8S2Xi/0u+BNrEav2fmfs+2RTpSZ+tPvD\n",
       "/y5m0o5DFRhC+S6O0fc7g8T4M/HlzavOXWraK8QEqfafyKeaZmfvSigPO5XTxFOP9T1XGb7U5FuZ\n",
       "H7rkD7L1L2dkK59CprHfAAAAAElFTkSuQmCC\n",
       "\" style=\"display:inline;vertical-align:middle;\" /></a><br>(see <a class=\"ProveItLink\" href=\"../../../__pv_it/theorems/160cd665188f746b94012193dc0b3b566770e1540/dependencies.ipynb\">dependencies</a>)<br>"
      ],
      "text/plain": [
       "exp_neq: forall_{a, x, y in Real | x != y, a != 0} (x^{a} != y^{a})"
      ]
     },
     "execution_count": 2,
     "metadata": {},
     "output_type": "execute_result"
    }
   ],
   "source": [
    "%proving exp_neq"
   ]
  },
  {
   "cell_type": "code",
   "execution_count": null,
   "metadata": {},
   "outputs": [],
   "source": []
  }
 ],
 "metadata": {
  "kernelspec": {
   "display_name": "Python 3",
   "language": "python",
   "name": "python3"
  }
 },
 "nbformat": 4,
 "nbformat_minor": 0
}