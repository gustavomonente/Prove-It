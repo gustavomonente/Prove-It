{
 "cells": [
  {
   "cell_type": "markdown",
   "metadata": {},
   "source": [
    "Proof of <a class=\"ProveItLink\" href=\"../../../../../_theory_nbs_/theory.ipynb\">proveit</a>.<a class=\"ProveItLink\" href=\"../../../../_theory_nbs_/theory.ipynb\">numbers</a>.<a class=\"ProveItLink\" href=\"../../theory.ipynb\">exponentiation</a>.<a class=\"ProveItLink\" href=\"../../theorems.ipynb#products_of_posnat_powers\">products_of_posnat_powers</a> theorem\n",
    "========"
   ]
  },
  {
   "cell_type": "code",
   "execution_count": 1,
   "metadata": {},
   "outputs": [],
   "source": [
    "import proveit\n",
    "theory = proveit.Theory() # the theorem's theory"
   ]
  },
  {
   "cell_type": "code",
   "execution_count": 2,
   "metadata": {},
   "outputs": [
    {
     "data": {
      "text/html": [
       "Under these <a href=\"presumptions.txt\">presumptions</a>, we begin our proof of<br><strong id=\"products_of_posnat_powers\">products_of_posnat_powers:</strong> <a class=\"ProveItLink\" href=\"../../../__pv_it/theorems/2342232091f1dd727497eb779332c40413aa07130/expr.ipynb\"><img src=\"data:image/png;base64,iVBORw0KGgoAAAANSUhEUgAAAiYAAAAcBAMAAACnnmmXAAAAMFBMVEX///8QEBCIiIhmZma6urrM\n",
       "zMxUVFQiIiJERETc3Nzu7u6qqqp2dnaYmJgyMjIAAAAcRTyBAAAAAXRSTlMAQObYZgAABW9JREFU\n",
       "WMPtWVtoHFUY/vcye5mdTUJBsRVhY9uYN5dGUNpEt5QaEMTZoMbSQpZFUSqUYGziDVnyULbWh0Uh\n",
       "hqpktFAhXnZou2AkxdVtXyLKar3UWiFaLSi6ClrRVYpz5szlzOw5M8cdlDz4PXw5M/3mnNlvzvxz\n",
       "vlOANYnwOl5lfyaghqeDtYGHeYXxXEANTwc0xGYe/fdtuNMiALHNe1VVsSeXvybm/FmuDtCMic48\n",
       "wfkw/oOZIRRMQnc2yXvZqN2MFnw1Ccf5hKuDW3WeWzue9CgmaZCyYwW+yxrCgNV+31dD8YToQGqu\n",
       "MU+2WIS8+eK2NsQUjst+PGFP/rjiodnL8ITs4DHsySr686W/J1y6AEi2TULovU97j97h8eQ3mfha\n",
       "ZdmaPRsYnpAdbMSevIf+fO/vCZcuAKSsSQj5QZX92B1VaN0hwtefPTTaHNjX+qrVapqn8ZGjgwXs\n",
       "yTzqq+TvCZcuAEKqSQiDQl+Fy5NwKZ+EMyfP7D6Njh5na/B70TlPHB3EVd0TVNUk1d8TLl0ALCgm\n",
       "IcwKkxkuTxKZ8TAcWw2py+joJrbG9iT5FMwrGuEjRweRku5JemVx8TmOGsulC4APLUL4Dooylyc9\n",
       "ldhmiMmvwA36mpStsT0R1kO+ohE+cnQQ7sPfnd/LZfoqRXJ+d5g6Cuq8RcRu3mxScnjLBu/PiIln\n",
       "G/2KcXvHYRLN4TsUpob17jg6iLaxJ1qFP0gdMuL0hKmjIMupI4Yom7S90oNLpXD9Ns+Lo+vhJ9w6\n",
       "CpugWNEaE/o35IMWwgWnZuwXle2J2YFwCXuyA8RVHk8YOmpay3IGLWKIiwaJ1+C32gZltoiIXmp2\n",
       "1I8Fd3Zxa5LAPkInfsWexCHcdP7L+HAufGWHJ25d6un7i+60Jkydgv4CxRN30OocYsqgSBviDgPF\n",
       "y5QAg57OLQo85D7v9oSi8YJoeCI1yVWquDzUTJVWYKs0dOPQNtITQodE4j2K8IMjrb3aGIE3JSWi\n",
       "NIamhlRmUmMMccGgUAmqsuPaaUrNRwv/q0C85DdPKBrPhaPhSXL1buLs2aVFSH0UQVXSNU8IHRKl\n",
       "XwBYJtNa+tBhBU5mshLt3Rn1HeKAQdU6vM33TP+ClHuNNlGx68lFhsZzBfiHkXcO3qv9oJGxjeEB\n",
       "GaLo16R278p0eqLr4MjAt1i0s4bfRyut7UBUqz1D9YQIWowhHjCoqsK+VIXHkz8htrrkPOf+7tA0\n",
       "nmXb+O7Ace1Jp7c3Q3vDBejRK4W88gnFE6QT9wttLDr3uSut6QW4Jr2+h+YJEbQYQ/QblMikp6VO\n",
       "Ay6bVLUK/Sx8VqhTFjkkKBovpI31CfRqJe3wddCbi9ThCL5hCQUPtydIF8kKk1j01pIzrYm6DzWo\n",
       "N2ieEEGLMYT+iDUSi5vnNnXe7bRJcWsP4ei1u4qu+tGxjqVoPNcGJcOTNLqbIuTRan+8XC5nUnKy\n",
       "qc0JweUJ0oVUbTLpoufvcqY14ZFyeVbz5EWklT2SGmOIUM6kAPg66B5Ohtw/uQIGYUHAu3EpGXZm\n",
       "6Psn1UrinKKLIi/jZYKV1gp4nkTHfJIaY4hI3aTuwb9j6bVJOWen7CKclUBCTzidg3Sd7kmoMnE7\n",
       "FiWHZXhXS1JWWtOD6ccA5w2pnrMMIoMWYwihz6TukS4E9ORTcp8tWtBi19wKAJrjo98YT73Tk2jx\n",
       "2AgWwWutA7JwtZ3WEigvPJmztoHzqhm28qojaNGHgAct6hpxOaAn+6l7j2HtZffde7RFKSKtDWr1\n",
       "hITqaplBiz4EvGFR1zgf0BI8dYPuxy6x05q9yDBaVlKjI5U1qevty6BbXvPwTzxh/f9O08N0SssT\n",
       "JyzqEhEloCdbUXWYmYb/0YG/AWxavFd4hxbcAAAAAElFTkSuQmCC\n",
       "\" style=\"display:inline;vertical-align:middle;\" /></a><br>(see <a class=\"ProveItLink\" href=\"../../../__pv_it/theorems/d749ced4c4bcc40dced3b9091f050582ca61b4450/dependencies.ipynb\">dependencies</a>)<br>"
      ],
      "text/plain": [
       "products_of_posnat_powers: forall_{m in NaturalPos} [forall_{a in Complex, k_{1} in NaturalPos, ..k_{_a} in NaturalPos.., k_{m} in NaturalPos} ((a^{k_{1}} * ..a^{k_{i}}.. * a^{k_{m}}) = a^{k_{1} + ..k_{_a}.. + k_{m}})]"
      ]
     },
     "execution_count": 2,
     "metadata": {},
     "output_type": "execute_result"
    }
   ],
   "source": [
    "%proving products_of_posnat_powers"
   ]
  },
  {
   "cell_type": "code",
   "execution_count": null,
   "metadata": {},
   "outputs": [],
   "source": []
  }
 ],
 "metadata": {
  "kernelspec": {
   "display_name": "Python 3",
   "language": "python",
   "name": "python3"
  }
 },
 "nbformat": 4,
 "nbformat_minor": 0
}