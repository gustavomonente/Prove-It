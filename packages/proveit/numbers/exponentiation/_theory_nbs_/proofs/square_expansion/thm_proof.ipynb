{
 "cells": [
  {
   "cell_type": "markdown",
   "metadata": {},
   "source": [
    "Proof of <a class=\"ProveItLink\" href=\"../../../../../_theory_nbs_/theory.ipynb\">proveit</a>.<a class=\"ProveItLink\" href=\"../../../../_theory_nbs_/theory.ipynb\">numbers</a>.<a class=\"ProveItLink\" href=\"../../theory.ipynb\">exponentiation</a>.<a class=\"ProveItLink\" href=\"../../theorems.ipynb#square_expansion\">square_expansion</a> theorem\n",
    "========"
   ]
  },
  {
   "cell_type": "code",
   "execution_count": 1,
   "metadata": {},
   "outputs": [],
   "source": [
    "import proveit\n",
    "theory = proveit.Theory() # the theorem's theory"
   ]
  },
  {
   "cell_type": "code",
   "execution_count": 2,
   "metadata": {},
   "outputs": [
    {
     "data": {
      "text/html": [
       "Under these <a href=\"presumptions.txt\">presumptions</a>, we begin our proof of<br><strong id=\"square_expansion\">square_expansion:</strong> <a class=\"ProveItLink\" href=\"../../../__pv_it/theorems/f4384923d6e33be15e0399b16752860519578b0f0/expr.ipynb\"><img src=\"data:image/png;base64,iVBORw0KGgoAAAANSUhEUgAAAK8AAAAcBAMAAADl4vKdAAAAMFBMVEX///8QEBCIiIhmZma6urrM\n",
       "zMxUVFQiIiJERETc3Nzu7u6qqqp2dnaYmJgyMjIAAAAcRTyBAAAAAXRSTlMAQObYZgAAArtJREFU\n",
       "SMe1Vk1oE0EUfk2z2exmt/bgzctaoYciGBDBQ4SgFBGExoM/t0hRpBcp3kSRgiBbFcxBUFBxidBD\n",
       "KBooIq09SHqLqCsK/qAl+HfwpwRR0Hqo7+3PbLKZ2Y3FDkz2Me97b2bezzcB6G4snLVgLYZWSjX+\n",
       "q0Mp737lkvS7e6tEPOSA95Xzyo/uHScPx0I+Mymz/A8XfRQH6DWYKBsd2hs8k0yJwJhpJydvBY5v\n",
       "BqWw0KFUJ7g2YxTkLMDD9huHioxJerZD2Vfi2tzGqTQBrtJ3QuB4A5P2wnBY+UxQmRSzU7gv3lar\n",
       "8jEKS5j05f75sPYk30jtx5/teMd6pXJFcGC935d6Vlaa4V3HBVYfcG7E+cs0T4uKgjJbHry82eB1\n",
       "AUZdHRjbWWMrHpISM4JxOAowKXCcxtirD/QTMmvnx0s03jtKG2AaXhhnWAw85CLKxQLALlDbaCBz\n",
       "8dion3fsIM3SlpO8/MuYmDo8sfaQTydrHvIe1SlSgQwJ299zfqutHrKkr74t3dY5N2f0oK0FpiPf\n",
       "aUCALNICKjVb9rEvZyugXweY90/sFO86Q+gY4Lt7ApccXGTRO7HSIKapbRssJMnP8F1c8mPs4Cle\n",
       "7TH+5IcCpJ+te7nI3SRR8CaPYIqt43K+j5ZfvwqAKbxaxtqCWl5mMYBziSYMseR4yEWvKmAGC1KC\n",
       "bwC3SD0321JRWMcj1Ut8ttGykPyTbip+ghgyh/NpEBnk8YOmaRrX9rfwKnbe1EB5h80l3XFQR4c2\n",
       "BfzlIz+6nYf9RceWmhKknKYoe9VDY30Up4pamjryHeNHraGBRrFXcgVgzZSLchxBQiojmanntTrA\n",
       "BRKnl86xMtgX5Tgtpk099DYlMMZtC6lqhGMB0RM/yIWYp0mNfPO5xaLTPd7Evoozq/rTIHw4Whgp\n",
       "vxrHvWvzr8kdfwHCdK6XQHAW+wAAAABJRU5ErkJggg==\n",
       "\" style=\"display:inline;vertical-align:middle;\" /></a><br>(see <a class=\"ProveItLink\" href=\"../../../__pv_it/theorems/ede99ff4094dbebea5ac80d549e6da4cbcfab7610/dependencies.ipynb\">dependencies</a>)<br>"
      ],
      "text/plain": [
       "square_expansion: forall_{x in Complex} (x^{2} = (x * x))"
      ]
     },
     "execution_count": 2,
     "metadata": {},
     "output_type": "execute_result"
    }
   ],
   "source": [
    "%proving square_expansion"
   ]
  },
  {
   "cell_type": "code",
   "execution_count": null,
   "metadata": {},
   "outputs": [],
   "source": []
  }
 ],
 "metadata": {
  "kernelspec": {
   "display_name": "Python 3",
   "language": "python",
   "name": "python3"
  }
 },
 "nbformat": 4,
 "nbformat_minor": 0
}