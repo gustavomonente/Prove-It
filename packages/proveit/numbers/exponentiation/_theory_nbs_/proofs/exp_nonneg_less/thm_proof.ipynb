{
 "cells": [
  {
   "cell_type": "markdown",
   "metadata": {},
   "source": [
    "Proof of <a class=\"ProveItLink\" href=\"../../../../../_theory_nbs_/theory.ipynb\">proveit</a>.<a class=\"ProveItLink\" href=\"../../../../_theory_nbs_/theory.ipynb\">numbers</a>.<a class=\"ProveItLink\" href=\"../../theory.ipynb\">exponentiation</a>.<a class=\"ProveItLink\" href=\"../../theorems.ipynb#exp_nonneg_less\">exp_nonneg_less</a> theorem\n",
    "========"
   ]
  },
  {
   "cell_type": "code",
   "execution_count": 1,
   "metadata": {},
   "outputs": [],
   "source": [
    "import proveit\n",
    "theory = proveit.Theory() # the theorem's theory"
   ]
  },
  {
   "cell_type": "code",
   "execution_count": 2,
   "metadata": {},
   "outputs": [
    {
     "data": {
      "text/html": [
       "Under these <a href=\"presumptions.txt\">presumptions</a>, we begin our proof of<br><strong id=\"exp_nonneg_less\">exp_nonneg_less:</strong> <a class=\"ProveItLink\" href=\"../../../__pv_it/theorems/c33264b03baa21930dd1eb2a34b3c3bbcb86aa480/expr.ipynb\"><img src=\"data:image/png;base64,iVBORw0KGgoAAAANSUhEUgAAAREAAAAXBAMAAADelGYUAAAAMFBMVEX///8QEBCIiIhmZma6urrM\n",
       "zMxUVFQiIiJERETc3Nzu7u6qqqp2dnaYmJgyMjIAAAAcRTyBAAAAAXRSTlMAQObYZgAAA41JREFU\n",
       "SMe9Vk1oE0EUftns5mezTXrxIL2EBmKooMFSraA1KFQ82KYX24NQqVbspXhoEUGkh7akFSUq1KKI\n",
       "K4EKoWBQUCoiIRclSl2wUC0VgihCQQjSgq0X52dnZjdNbQuu75D55uXbnW/fvPdmAP6Xqfv6k9vx\n",
       "/3u7b46Pkt16tf+JfwaBEp59djAUQyZohM6qBOL3pAHe4tmSc0qCaRPUQVR4d4kNIX4VBWQSTfxD\n",
       "zin5wGKzCtezDL8Oi5hRfwFpRpun5ZxTcpmBncqyQZH/gGEhUP9DgJpiNnvHOSH+iwy17o5QAf5+\n",
       "24dTfzAB8CuVuuKcEimONqC+72iBe5QbCbYxkTDcNOtJQ7xegLEtvJI8LhXyW1uf83zoe6dhPnyV\n",
       "/5fiyarJtbDXxDUoZY+RxN3AnsfOfqGIJPUiPCMTWXQG2dYk5D6w8gC8aCeK8F4/IcqmgaF77hKk\n",
       "TBxAu+gFyajeCV42GpIGxbBQMgAhvLAyKmI9an/odq+Fh8yFYqnz9YjNF02gu8Lwk72njGJkeKvH\n",
       "4+NMFpCSBYMrUVfAhb7RfyHNE1JAJmWE85gS4OtRe3XQBO26smJR4i+dQigT/YYdhaYo2kY5Cl5d\n",
       "juMNR0ryXImyCl4D1OYkYxJI2OIAmR42eXx3gK9nWlsvHVtAqmXbimts7Bx6y6CyhhfW+73oI7SQ\n",
       "3gFBoEoa40LJGnjD6myCMSkkbMvBMr1EeCJjX0hlaLBJ6Romwyj4zlgyFp4iOe64gkUp8AO77x6H\n",
       "GGSIEvf5AbDGxBXuIF9LmBQStuVg2WMQHq9O+bev7K9IxQlSQPuhnfndOPIh9JArJ1F1q+T3EPRA\n",
       "ZyqVCkvarTmw5kkooX0FxjQhZvODRY3lKI9HXe1piFQ/Yqfqj7A0C2JpNSimj9O+BVIVZYXm/g7w\n",
       "0N0JnNYraiczAoxJIWazA0R9k7DVjuj2Va2F3w0YcKW7T8Kk/kAraWiAQbkMWpLmSVFkLERIn5hA\n",
       "nZAwKSRs/zg5QNTmhODZTsAq5impywzzHiz3PDkMHbmpuUIRDdAaQwl0DXe22XymRSiR3pH0newD\n",
       "wqSQsJU6coAotIGaPJKyFWWufr+EDfO8ho+dyZXN1ewBOTWNU15CeSL+s10cutIWSNmBzW5K602u\n",
       "b9pAbyBtDp5827rHNn4hZc9sdnv8q32yT2vYIC/mt6GEsmk5BlDBpcadvRjHnb55/wFzKQ5ifgAy\n",
       "6gAAAABJRU5ErkJggg==\n",
       "\" style=\"display:inline;vertical-align:middle;\" /></a><br>(see <a class=\"ProveItLink\" href=\"../../../__pv_it/theorems/6516051f8e68375009549bf9b30c477c50f4ff7c0/dependencies.ipynb\">dependencies</a>)<br>"
      ],
      "text/plain": [
       "exp_nonneg_less: forall_{a, x, y in Real | 0 < x < y, a >= 0} (x^{a} <= y^{a})"
      ]
     },
     "execution_count": 2,
     "metadata": {},
     "output_type": "execute_result"
    }
   ],
   "source": [
    "%proving exp_nonneg_less"
   ]
  },
  {
   "cell_type": "code",
   "execution_count": null,
   "metadata": {},
   "outputs": [],
   "source": []
  }
 ],
 "metadata": {
  "kernelspec": {
   "display_name": "Python 3",
   "language": "python",
   "name": "python3"
  }
 },
 "nbformat": 4,
 "nbformat_minor": 0
}