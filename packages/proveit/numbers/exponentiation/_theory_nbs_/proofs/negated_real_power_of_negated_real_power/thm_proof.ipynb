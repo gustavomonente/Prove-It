{
 "cells": [
  {
   "cell_type": "markdown",
   "metadata": {},
   "source": [
    "Proof of <a class=\"ProveItLink\" href=\"../../../../../_theory_nbs_/theory.ipynb\">proveit</a>.<a class=\"ProveItLink\" href=\"../../../../_theory_nbs_/theory.ipynb\">numbers</a>.<a class=\"ProveItLink\" href=\"../../theory.ipynb\">exponentiation</a>.<a class=\"ProveItLink\" href=\"../../theorems.ipynb#negated_real_power_of_negated_real_power\">negated_real_power_of_negated_real_power</a> theorem\n",
    "========"
   ]
  },
  {
   "cell_type": "code",
   "execution_count": 1,
   "metadata": {},
   "outputs": [],
   "source": [
    "import proveit\n",
    "theory = proveit.Theory() # the theorem's theory"
   ]
  },
  {
   "cell_type": "code",
   "execution_count": 2,
   "metadata": {},
   "outputs": [
    {
     "data": {
      "text/html": [
       "Under these <a href=\"presumptions.txt\">presumptions</a>, we begin our proof of<br><strong id=\"negated_real_power_of_negated_real_power\">negated_real_power_of_negated_real_power:</strong> <a class=\"ProveItLink\" href=\"../../../__pv_it/theorems/acc820fe42c081b7cf4351d6a92c27daf5abbdae0/expr.ipynb\"><img src=\"data:image/png;base64,iVBORw0KGgoAAAANSUhEUgAAATwAAAAcCAMAAADLAPO2AAAAOVBMVEX///8oKCgUFBQNDQ0QEBCI\n",
       "iIhmZma6urrMzMxUVFQiIiJERETc3Nzu7u6qqqp2dnaYmJgyMjIAAAArQGDrAAAAAXRSTlMAQObY\n",
       "ZgAAA8lJREFUaN7dWdmS4ygQ1MyouO///9gFhBBIGLDbjrZWEd0PdlKFkroSL8v/8cHWfqmxOzwa\n",
       "fauxX34IHmOseqPDhjG4K3d0AuTEGz02jGF6T/KsnCDYAdAOTgPMx05tLC3V5o7cof2tRWf7wOQC\n",
       "oVKpZgQyvJB12mM2Vi1lgc6jk5g7kClcigHJOyjuGTbxzWiDPRSWkmmXyZhE1dJIp1bP5MP3tFF7\n",
       "YgXz/fGvsfqegmJZkrbx7XPdJBkjqyiXChf+7Sco+B2ydt+96Y4P7qBIw0+7SWGsXMpUEXBa3Slr\n",
       "WZcAX5BMigV5LW42zDrzs1thrFwaM9hoGR7B7hB4JlEx2C2hWldU1SeAwMB8jSqNFUshbsXFWsD0\n",
       "LXpt6m+5+wmkEazyA/pgZBnHJKCxe/DJQvAmpddVCXHHoOF6njzlD0+TAQ5V3LpusA72q23xHEQP\n",
       "LRMXeMPo6ErNR3FNGYUHJ6kYcIpsZ+hsIXrdCZFYTfzCyxxvaVGtQ0Eze/XpeH/lcMeWhYsBEKzD\n",
       "ZciTSiPkP5UktHdi9Vnp7QBY/FdaNtjrIHq7omka3RpdXbzRMT6El4sABn2B8FJ9GFqWG3lBalyO\n",
       "x3AlZDBgRKRN6VOjz4BIjZHXEbuH6JAXzspvjSyNiczW5K08Q99M3thyijxhs9qWCKjNuRxzn6jN\n",
       "gqiVXgbs1OizdOwhKvKy082h3twEf+x8IrxKW+kCVvXZweyJmkdzWA0tkxRFXNDtJCUj/sNKtfmA\n",
       "ES2lZ5eKGoTQWTp2EBV52SmNbf+f/zNpF5e0oVXDkC5wSO0DCTvXMB7k5NAyTjVFoXQ64f0Ii8GQ\n",
       "662s15dKb6cGUcrwWTp2EDV52emGVcW5rmfyYK26VtwMo0tvzEIvzWBjy/vIuTg4xA+E0CVsU4Kw\n",
       "CEVIS+llQIgrAQafFVQHUZOXnZZ6fys3Dj847pSLkgIQQaE3+FjyCnljy7kTG5l2LEJGhCJ/DAko\n",
       "dUlZKz1aJaUiWp6l42NERd7hlPqi8/dPKD3mUbfdO8VAnpUsfEo5XYYzPxgSh0M90aSYtMkmsEXo\n",
       "g7vSOwBpENHxckEe+q+JaEVedrqPKbuGuM55OQnNrG7QH7oxl5eDxRQUoPgePE8J0vcjHmQICRGX\n",
       "ld4OUEz7GVCioJwiIuu/FqJBXuF0G1MSe7olrPIl5qQikp/65ct0L+IhFaxqWh8BJhC9OU+NiztV\n",
       "E5ehhR/xIfLYs6VUiZ8juuTZJ0JJzFx8m09xZ57u4eYNiB55ZuZKUX3Dr6i/e3P8AwYU/n3y0B1+\n",
       "svju5z82eC+KBbsh3wAAAABJRU5ErkJggg==\n",
       "\" style=\"display:inline;vertical-align:middle;\" /></a><br>(see <a class=\"ProveItLink\" href=\"../../../__pv_it/theorems/52c26b6cfebc1725a578dfbe18930819bb9f470c0/dependencies.ipynb\">dependencies</a>)<br>"
      ],
      "text/plain": [
       "negated_real_power_of_negated_real_power: forall_{a in Complex, b in Real, c in Real | a != 0} ((a^{-b})^{-c} = a^{b * c})"
      ]
     },
     "execution_count": 2,
     "metadata": {},
     "output_type": "execute_result"
    }
   ],
   "source": [
    "%proving negated_real_power_of_negated_real_power"
   ]
  },
  {
   "cell_type": "code",
   "execution_count": null,
   "metadata": {},
   "outputs": [],
   "source": []
  }
 ],
 "metadata": {
  "kernelspec": {
   "display_name": "Python 3",
   "language": "python",
   "name": "python3"
  }
 },
 "nbformat": 4,
 "nbformat_minor": 0
}