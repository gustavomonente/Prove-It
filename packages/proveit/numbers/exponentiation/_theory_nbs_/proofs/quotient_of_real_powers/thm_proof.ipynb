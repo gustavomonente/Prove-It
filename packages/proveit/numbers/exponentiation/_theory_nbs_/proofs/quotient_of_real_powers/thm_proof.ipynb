{
 "cells": [
  {
   "cell_type": "markdown",
   "metadata": {},
   "source": [
    "Proof of <a class=\"ProveItLink\" href=\"../../../../../_theory_nbs_/theory.ipynb\">proveit</a>.<a class=\"ProveItLink\" href=\"../../../../_theory_nbs_/theory.ipynb\">numbers</a>.<a class=\"ProveItLink\" href=\"../../theory.ipynb\">exponentiation</a>.<a class=\"ProveItLink\" href=\"../../theorems.ipynb#quotient_of_real_powers\">quotient_of_real_powers</a> theorem\n",
    "========"
   ]
  },
  {
   "cell_type": "code",
   "execution_count": 1,
   "metadata": {},
   "outputs": [],
   "source": [
    "import proveit\n",
    "theory = proveit.Theory() # the theorem's theory"
   ]
  },
  {
   "cell_type": "code",
   "execution_count": 2,
   "metadata": {},
   "outputs": [
    {
     "data": {
      "text/html": [
       "Under these <a href=\"presumptions.txt\">presumptions</a>, we begin our proof of<br><strong id=\"quotient_of_real_powers\">quotient_of_real_powers:</strong> <a class=\"ProveItLink\" href=\"../../../__pv_it/theorems/cb6ebff8ecf388027e003481e8cebc7837c11e4e0/expr.ipynb\"><img src=\"data:image/png;base64,iVBORw0KGgoAAAANSUhEUgAAASEAAAA0CAMAAADyr361AAAAOVBMVEX///8oKCgUFBQNDQ0QEBCI\n",
       "iIhmZma6urrMzMxUVFQiIiJERETc3Nzu7u6qqqp2dnaYmJgyMjIAAAArQGDrAAAAAXRSTlMAQObY\n",
       "ZgAABG5JREFUaN7tW4uSpCAM9O4AeYP8/8ceoCIqOj5g93K1VO1WzUx2I03opAPTdf/L6Ieh+xmn\n",
       "w5AfDFZ49Nt3Bl3vvysGHyCze8vJqnsWOEB4v8bUYcxUNQ8WNkQaFUDjqsMVqUgYwAAp1BdmhOsu\n",
       "fNEJlCFKoRImRFjjQIWyx1yJbsKbSNf0w8HuM56HkCSGYOTR8TRkReWVkDABsvmD98i/GFzIZcyY\n",
       "lksBKYRETqfW/yai1VooiABRl+UYEufAcaOc6TBEhEieYpCIE6GNpC5MMYxYvsgmMmorqYshcjV1\n",
       "NkcopHc2dPrJTD5LXZk7A6PIVssaC2nOukdZ7EKAIIAaX6B1lwJjKhnuH0VjSeoajDN6FtyH2pLb\n",
       "QEQUqpbZi1KX9x3N1sB4ijNpMw4Qkr9y1aq4ktSNlRXNKyLayXlNpIAQQrReiTJJ3V7MoyDsors5\n",
       "dIyGgJB21R6zJHW35B1D1hoVhuRARBmt9a9KUncIlJ/vYxeSmYshBkTqv6/hUjOgJHUlwRbnfOwC\n",
       "hiyuioBRPZrLYtIM2SCFZsA1sgpU3oc/V1cVSKWDu9MCJoKADS6ENXkpt+82A1Akn/ALnxRDWhjG\n",
       "GT5QM5pjwchwkmJKFmePSEJQWw+P3le0zL1bmbvNAB6LI2NHlDZoa0OI/0TRkAbpYLZqZjbAoeY3\n",
       "quD0xOIEIcmm0m1MNycIucK4UnDeaAaMCMnBs9YuaQgtVXhAKyM22mwSYjKI87dqH4RnFicIhQWZ\n",
       "JrHvO5NnPMSeNgP4GDpCsokXFMFsoDM5RcKgegRcrtVMMpjnb7bS5sRijVByOjo0o5vgj9s9U7/K\n",
       "KLebAWhkXU2mTaY49c8WVinRsV96WVIzC1/H+RNCttLm2GKNUHLKYtnxx//Y6Sn2fIFf1kN3mwGz\n",
       "uJ9L+TAJyuOyJppVa7gnNbMY+PkTxni/lTbHFhuEktPRVndLDCG8rxjfnfPdbQbMMtBOmzvs+3gk\n",
       "TvkoVXAnNaUFNbMYhAiR2CaXM3ccW2wQSk7jDMS8HYLXPRzafelJ6Mhb+Wu/cMIGdl2Ym0w5SK3V\n",
       "DFvtIU2N2kqbQ4s1QotT5in1969ArPYwl9Gv7frthLKvN6nrwzMYmlXpNNKvV//Zwd1iMOVy040G\n",
       "SdqULIoxlJzOmT7+DSnWQ91x92Pd+2oklHuGNSbxYUX6SPm8KYI0oSF2kpqZDTQ3vlZShAyjwSJt\n",
       "ChYlhDKnY6afIDLFTjs/Kuk3va9aIuck5+GJRFaQ3jIoWpzWQ/pziiEHtcy291Vn3C3hPxYR148c\n",
       "yghdkHxH56CoSXvrbs/XvjY4R8jqK9ypi72MJidb8hsPXZ93m1cHNEsvY9f7+je6Ud+CrSv2Mna9\n",
       "rxpDcIAAdX1WM7a92LBoDWAju9Xz5mLDpU0G8nZMls3eXWy4SXmQBjJPexl3C2qgt/Sym56vLjZ8\n",
       "HAPcL4qkR39zseHzQiAFFiGJaHsnoG+cey3c3geD/WUs0jzLWNHBHqxxLdfD/8IjacoSarmc9hf5\n",
       "QzVyfu+VSQAAAABJRU5ErkJggg==\n",
       "\" style=\"display:inline;vertical-align:middle;\" /></a><br>(see <a class=\"ProveItLink\" href=\"../../../__pv_it/theorems/d06fa913d333137d6f73d67d0c1d159079a7e23a0/dependencies.ipynb\">dependencies</a>)<br>"
      ],
      "text/plain": [
       "quotient_of_real_powers: forall_{a in Complex, b in Real, c in Real | a != 0} ((a^{b} / a^{c}) = a^{b - c})"
      ]
     },
     "execution_count": 2,
     "metadata": {},
     "output_type": "execute_result"
    }
   ],
   "source": [
    "%proving quotient_of_real_powers"
   ]
  },
  {
   "cell_type": "code",
   "execution_count": null,
   "metadata": {},
   "outputs": [],
   "source": []
  }
 ],
 "metadata": {
  "kernelspec": {
   "display_name": "Python 3",
   "language": "python",
   "name": "python3"
  }
 },
 "nbformat": 4,
 "nbformat_minor": 0
}