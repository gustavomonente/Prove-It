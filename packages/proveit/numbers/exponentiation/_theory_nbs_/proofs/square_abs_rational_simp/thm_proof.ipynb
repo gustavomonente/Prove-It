{
 "cells": [
  {
   "cell_type": "markdown",
   "metadata": {},
   "source": [
    "Proof of <a class=\"ProveItLink\" href=\"../../../../../_theory_nbs_/theory.ipynb\">proveit</a>.<a class=\"ProveItLink\" href=\"../../../../_theory_nbs_/theory.ipynb\">numbers</a>.<a class=\"ProveItLink\" href=\"../../theory.ipynb\">exponentiation</a>.<a class=\"ProveItLink\" href=\"../../theorems.ipynb#square_abs_rational_simp\">square_abs_rational_simp</a> theorem\n",
    "========"
   ]
  },
  {
   "cell_type": "code",
   "execution_count": 1,
   "metadata": {},
   "outputs": [],
   "source": [
    "import proveit\n",
    "theory = proveit.Theory() # the theorem's theory"
   ]
  },
  {
   "cell_type": "code",
   "execution_count": 2,
   "metadata": {},
   "outputs": [
    {
     "data": {
      "text/html": [
       "Under these <a href=\"presumptions.txt\">presumptions</a>, we begin our proof of<br><strong id=\"square_abs_rational_simp\">square_abs_rational_simp:</strong> <a class=\"ProveItLink\" href=\"../../../__pv_it/theorems/ab41f27342e7932372eba11b7e14d60dd159b9f00/expr.ipynb\"><img src=\"data:image/png;base64,iVBORw0KGgoAAAANSUhEUgAAAJwAAAAmBAMAAADDx+9tAAAAMFBMVEX///8QEBCIiIhmZma6urrM\n",
       "zMxUVFQiIiJERETc3Nzu7u6qqqp2dnaYmJgyMjIAAAAcRTyBAAAAAXRSTlMAQObYZgAAAspJREFU\n",
       "SMeVlk1oE0EUx99u87WbD4sgWL2sgkX8qEGheFED6k2lFxW9NBT15KEIvfVQKsi2Iq54aC8lKQWF\n",
       "ICQoHhYFA/WkIOtJqShB0YOiBrVgm5Y6X5tmtzPO7Fyys++/v7w38+a9AZCMrAdqwyyqqPpAdZxR\n",
       "0MS2Babz18tCqa7g3uxA5yzjJBpi7Xc57kpglnTiS1wZ8fpOWUYLfZ0sGH94Mup1QhptLqxIL/Nk\n",
       "1Ov4sgxXcsIfWlwc9fqjDHcUB+wvyUW8SAIh8fq1DLcZL0yBTZ6jpM4LhMTrUgHIxr8XiIzFEO4U\n",
       "nOQriddaHV7i36+iE9YM4uLfnkzyhcRrtL3T2IkxAa5rOIjT1taaXCH1Wm9CDi10piZakbFQsKL0\n",
       "pF6nlyD7olKZEsk25dVwzOt4C+CvbY8KcRbD3Z3fURbgiInVqFWAywATIlzVo7hYD/zs9O7VDzw+\n",
       "kZJDTGz8AjgOZqBKPLja3z4KJYab9eCwIFhqYmMFLTfofsE1nx7yjF7IvPPNgzWKO1aGawIcNbHx\n",
       "G6m9pD9761ZAnwFzrxPCbQVzUYCjpnWc0TiHHuZ6P0MM7+NZF8DygsGaK5Bubly7LzggamLRoWBh\n",
       "4hJ6GEHVJYdfLSCC5ZeNKt1Zs4US3uV6x0zsTKKdhUco9bvy8WGYw6/2YFzdT5Q6DXYc3hTr/GCp\n",
       "iWVziyWXVkON47xt29ZjtwOnFSnu3s4LQwU+jppYn8JFL4uysOqkFsoJYkZbsd8/dKmG2qnwC4Ff\n",
       "jjVn8DRkcNfS+yGzu90DuiPhiJy4OfTwCMBN/Hhg9HYxUGPVcaHOoqO1A5g8sb5vq5FwVd4FZHrG\n",
       "bZ+yG/hP/M69S4Z75vBSad/Bdv+VNpMNjer/7tei4LbLBHojAk3vlkq2RMBp8qvghwg4hatgylKm\n",
       "GT0KV9QRZdx9lW2bclRxt5RCGFC9auPD8w+KL9IWct20CQAAAABJRU5ErkJggg==\n",
       "\" style=\"display:inline;vertical-align:middle;\" /></a><br>(see <a class=\"ProveItLink\" href=\"../../../__pv_it/theorems/2ec079ebbe4746ad30f9c986213da8d4d6ce180d0/dependencies.ipynb\">dependencies</a>)<br>"
      ],
      "text/plain": [
       "square_abs_rational_simp: forall_{a in Rational} (|a|^{2} = a^{2})"
      ]
     },
     "execution_count": 2,
     "metadata": {},
     "output_type": "execute_result"
    }
   ],
   "source": [
    "%proving square_abs_rational_simp"
   ]
  },
  {
   "cell_type": "code",
   "execution_count": null,
   "metadata": {},
   "outputs": [],
   "source": []
  }
 ],
 "metadata": {
  "kernelspec": {
   "display_name": "Python 3",
   "language": "python",
   "name": "python3"
  }
 },
 "nbformat": 4,
 "nbformat_minor": 0
}