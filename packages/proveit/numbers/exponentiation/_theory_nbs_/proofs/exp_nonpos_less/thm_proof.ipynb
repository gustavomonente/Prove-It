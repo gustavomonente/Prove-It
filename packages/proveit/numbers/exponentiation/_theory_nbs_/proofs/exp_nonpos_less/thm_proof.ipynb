{
 "cells": [
  {
   "cell_type": "markdown",
   "metadata": {},
   "source": [
    "Proof of <a class=\"ProveItLink\" href=\"../../../../../_theory_nbs_/theory.ipynb\">proveit</a>.<a class=\"ProveItLink\" href=\"../../../../_theory_nbs_/theory.ipynb\">numbers</a>.<a class=\"ProveItLink\" href=\"../../theory.ipynb\">exponentiation</a>.<a class=\"ProveItLink\" href=\"../../theorems.ipynb#exp_nonpos_less\">exp_nonpos_less</a> theorem\n",
    "========"
   ]
  },
  {
   "cell_type": "code",
   "execution_count": 1,
   "metadata": {},
   "outputs": [],
   "source": [
    "import proveit\n",
    "theory = proveit.Theory() # the theorem's theory"
   ]
  },
  {
   "cell_type": "code",
   "execution_count": 2,
   "metadata": {},
   "outputs": [
    {
     "data": {
      "text/html": [
       "Under these <a href=\"presumptions.txt\">presumptions</a>, we begin our proof of<br><strong id=\"exp_nonpos_less\">exp_nonpos_less:</strong> <a class=\"ProveItLink\" href=\"../../../__pv_it/theorems/6d41d92d15606a9db6769e7e04788ea40baef1630/expr.ipynb\"><img src=\"data:image/png;base64,iVBORw0KGgoAAAANSUhEUgAAAREAAAAXBAMAAADelGYUAAAAMFBMVEX///8QEBCIiIhmZma6urrM\n",
       "zMxUVFQiIiJERETc3Nzu7u6qqqp2dnaYmJgyMjIAAAAcRTyBAAAAAXRSTlMAQObYZgAAA4RJREFU\n",
       "SMe9Vk1oE0EYfd3sNslm24LgQXuJBkqpIMEieFCJChUPSnqxPQgt0YpeipQWEasUoRIVYVGoRRBX\n",
       "AxaKaFBQKh5CTiWKBhT8oUqoPwelEMSCqQjO/25iauohziHzsvN29s03b75vgP/VUm2fqj43Nw3G\n",
       "/4+Ca+KDI8ZS1fGpeJ+DGQIK9N+7+gkxx3jvixrHqhI60QM02sAT+u9L/ZQ027xvSGv96qE24hJa\n",
       "0Ub0koBMkj/BsfopeSH6u3bgrSPw7SFPzEq4OA1kiWYybKXrp+SE6Bvsvr0CXj7lJawxvueBG0BT\n",
       "bnr6Sv2EBKU59MS9bRxNfC1jdG2IECXNMeBHMjlaPyVaFLi5CcG16knvR7Ux64/uzApsEd4AcG4F\n",
       "U8bYvNnMyr6veAGy3swOaEU5FBhXrNt4FT4tcBOx7C5m3GXaw/aD8xwxU8/hAQ+1oxgeKFpoTPEA\n",
       "fxrB9HYE1JnQhtQLOTx39siXyC76oeWrZ4LHnXnNQi7sKhlGC53HOKtIHijnnFc8atQYTKxCS1iN\n",
       "N41KKQ6S7jwkaFbeXz0er2emQZS8zSsl5iJJC8SFR2xlSBfKDy0onlACfQl9noQe+qDe+VamJFjY\n",
       "71aF7OY28o7eBr+jR2ksiZKMUmKU4M/D3BKXTAYZWxYQbUHx5O7AV8A6r1j9s9BlLLrP6Bk7d0hV\n",
       "Bc0Z9JNFWC1ON5rBlXRGXSVL8IfNZzHJ5JCxRQHRT0LyXMcG+lG+h0aS+f8R8XGHx7G4f0xVBQN0\n",
       "Sbi6G+1IMSW+w8PwxqQh3M1Wy5gcMrYoIOZsTPLc0+nr139VZJkBGoafgWJQWtRHI0/dpKpCif1u\n",
       "RQI9yWQyrFmXXsLrk5aYJfIBYQpI2aqAzKYFz426mYiUqp2IREdEld5mumFNjlsVjKLBz8hqNPLd\n",
       "CR1wKs5OahySySFlqwKCjWnv2eHZ3leolYGm4K0Kk851q2CRDiN6EVac+yTnOhYRlicmSCZkTA4Z\n",
       "O3heFBDgfV7wZAUcxN1YLSVZeKtCd/rWy2yOdOhqJ4u4QDPbs0xqu6tEe8rsO3kUjMkhYxutooBQ\n",
       "J0oes6yNUzjjfvLOcdpGKneqImgiB6RNm1peIz5xx8ouDr22B3J2aPmb0s5IzethoDwthWzRNWb2\n",
       "/cFd/grD2TM1bo9/b28q0qPs9LnMPyjhbL4xIXLgkufrezGO1vvm/RsYlhGGitxXUwAAAABJRU5E\n",
       "rkJggg==\n",
       "\" style=\"display:inline;vertical-align:middle;\" /></a><br>(see <a class=\"ProveItLink\" href=\"../../../__pv_it/theorems/745d68fbbb3f88b2d1bbc1b77fc172271d78ce440/dependencies.ipynb\">dependencies</a>)<br>"
      ],
      "text/plain": [
       "exp_nonpos_less: forall_{a, x, y in Real | 0 < x < y, a <= 0} (y^{a} <= x^{a})"
      ]
     },
     "execution_count": 2,
     "metadata": {},
     "output_type": "execute_result"
    }
   ],
   "source": [
    "%proving exp_nonpos_less"
   ]
  },
  {
   "cell_type": "code",
   "execution_count": null,
   "metadata": {},
   "outputs": [],
   "source": []
  }
 ],
 "metadata": {
  "kernelspec": {
   "display_name": "Python 3",
   "language": "python",
   "name": "python3"
  }
 },
 "nbformat": 4,
 "nbformat_minor": 0
}