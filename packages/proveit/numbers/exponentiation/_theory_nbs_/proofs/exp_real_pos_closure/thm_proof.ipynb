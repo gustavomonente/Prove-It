{
 "cells": [
  {
   "cell_type": "markdown",
   "metadata": {},
   "source": [
    "Proof of <a class=\"ProveItLink\" href=\"../../../../../_theory_nbs_/theory.ipynb\">proveit</a>.<a class=\"ProveItLink\" href=\"../../../../_theory_nbs_/theory.ipynb\">numbers</a>.<a class=\"ProveItLink\" href=\"../../theory.ipynb\">exponentiation</a>.<a class=\"ProveItLink\" href=\"../../theorems.ipynb#exp_real_pos_closure\">exp_real_pos_closure</a> theorem\n",
    "========"
   ]
  },
  {
   "cell_type": "code",
   "execution_count": 1,
   "metadata": {},
   "outputs": [],
   "source": [
    "import proveit\n",
    "theory = proveit.Theory() # the theorem's theory"
   ]
  },
  {
   "cell_type": "code",
   "execution_count": 2,
   "metadata": {},
   "outputs": [
    {
     "data": {
      "text/html": [
       "Under these <a href=\"presumptions.txt\">presumptions</a>, we begin our proof of<br><strong id=\"exp_real_pos_closure\">exp_real_pos_closure:</strong> <a class=\"ProveItLink\" href=\"../../../__pv_it/theorems/53d9565d00b562b7fea0d0aeb0c945dcbf348f6f0/expr.ipynb\"><img src=\"data:image/png;base64,iVBORw0KGgoAAAANSUhEUgAAAM0AAAAcBAMAAAAw8CbQAAAAMFBMVEX///8QEBCIiIhmZma6urrM\n",
       "zMxUVFQiIiJERETc3Nzu7u6qqqp2dnaYmJgyMjIAAAAcRTyBAAAAAXRSTlMAQObYZgAAA0JJREFU\n",
       "SMe9lk1oE0EUx192s/nYbBIPgtSibK1W0UtoVVrREhF68mML0vYgJNQP6gel0mqg9RD8qGmlEjzU\n",
       "3rpQUAhog4oiiAb1lFaJ4KGUKrGih4qhiIKNIL7Zze5s0jasiXZgebM7H7+Z9/5vdgD+QTmYhhUp\n",
       "gu8/Aw6rxhNftkcQH6ZcDBdUrTe6bJcwPtZgmRyPrNrAhlPFOPCqTE5tzm6Wq4ty7LgeRSrvSsI4\n",
       "s7nKRXif1+A+G/n9YYhyGNTJBKnMlSez1bCzwKF8kBsaBFsmsz7zFRc0DzBCFhYuiWPRZJaFyvwW\n",
       "hzMB4WF9P9CnxlKIl8QZzckAet25hU6FQmmN0+ChnHr0ZTIWu1maDN5olZZJ1bZtNeynwUE5Vfj8\n",
       "jEQulMZpJC7fXbtWe+fnjH4LNlHOIdz5cYABrd2aKZzLWviBeZ7QqhF89kY989q7LWrguLrnKCcg\n",
       "AewDnh6DL3L20Zajs+oIqmJJMTPwUPvyGbewDlhdRA6DDtaEvig1FT3qxyQCJqV3II38k7oUI0BS\n",
       "zB/LdyhjesCrhb8bgM2CXdR6NGew5HTw0jdocMI4coSUnX5YIKJ5HAPkTKfyOeDsRxD/g8r5I0o7\n",
       "DOOS1mHEqOvtbUZlIseZbsHaWM0ncjB+q5GtJPsIJ0E5fG0nzsZdkoFbALu2/X5caAKe0Xwychx3\n",
       "RMoJEFcMHMOJznHkEGF6GZ8ie+TU+SjnthQgzrLOAmdwVAdy4tDp0sLPigYOF9xBOURvcL8Lu/i4\n",
       "LtIuutNjCoc90WOIbR20qgdXBe7Hok1XpQw4L+jT9RnOHZiwSfmZ5hXJEcKQn4TFzwZbI5GIyAg3\n",
       "3ho4lVCj2Kcixsfrp6vk2zcNb9Snu3VZ1s9RyXH9l95Qr3zFxvGoYxqNV7bEbarfXEdkncMvwFCM\n",
       "3AOSeXqz+AuTa//V0JJXhVk9hNHAARiR7fIUCJIan6RBBxXcdwx+2y6sVtP8YRMmDw4+q6d9+709\n",
       "0BznzuDQayRPXyfGGimnaVt1CoZPKjud1C8d3CqTHHfBj1tNDAbjA4tznLuyaPxpkxy7lPfqWuI6\n",
       "4Sg2/q5JzkzB9uAvOS5z9zYzv1G2aOsDUxxWhhUrfwBwocrizbLKVQAAAABJRU5ErkJggg==\n",
       "\" style=\"display:inline;vertical-align:middle;\" /></a><br>(see <a class=\"ProveItLink\" href=\"../../../__pv_it/theorems/6b4205b419dafc93690fd30f5868ad80bc1163fe0/dependencies.ipynb\">dependencies</a>)<br>"
      ],
      "text/plain": [
       "exp_real_pos_closure: forall_{a, b in Real | a > 0} (a^{b} in RealPos)"
      ]
     },
     "execution_count": 2,
     "metadata": {},
     "output_type": "execute_result"
    }
   ],
   "source": [
    "%proving exp_real_pos_closure"
   ]
  },
  {
   "cell_type": "code",
   "execution_count": null,
   "metadata": {},
   "outputs": [],
   "source": []
  }
 ],
 "metadata": {
  "kernelspec": {
   "display_name": "Python 3",
   "language": "python",
   "name": "python3"
  }
 },
 "nbformat": 4,
 "nbformat_minor": 0
}