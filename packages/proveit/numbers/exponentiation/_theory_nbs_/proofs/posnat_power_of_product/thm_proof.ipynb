{
 "cells": [
  {
   "cell_type": "markdown",
   "metadata": {},
   "source": [
    "Proof of <a class=\"ProveItLink\" href=\"../../../../../_theory_nbs_/theory.ipynb\">proveit</a>.<a class=\"ProveItLink\" href=\"../../../../_theory_nbs_/theory.ipynb\">numbers</a>.<a class=\"ProveItLink\" href=\"../../theory.ipynb\">exponentiation</a>.<a class=\"ProveItLink\" href=\"../../theorems.ipynb#posnat_power_of_product\">posnat_power_of_product</a> theorem\n",
    "========"
   ]
  },
  {
   "cell_type": "code",
   "execution_count": 1,
   "metadata": {},
   "outputs": [],
   "source": [
    "import proveit\n",
    "theory = proveit.Theory() # the theorem's theory"
   ]
  },
  {
   "cell_type": "code",
   "execution_count": 2,
   "metadata": {},
   "outputs": [
    {
     "data": {
      "text/html": [
       "Under these <a href=\"presumptions.txt\">presumptions</a>, we begin our proof of<br><strong id=\"posnat_power_of_product\">posnat_power_of_product:</strong> <a class=\"ProveItLink\" href=\"../../../__pv_it/theorems/ace97f3c77b37c0ee8f639545e7fe10adba842530/expr.ipynb\"><img src=\"data:image/png;base64,iVBORw0KGgoAAAANSUhEUgAAAToAAAAZBAMAAABTI/9DAAAAMFBMVEX///8QEBCIiIhmZma6urrM\n",
       "zMxUVFQiIiJERETc3Nzu7u6qqqp2dnaYmJgyMjIAAAAcRTyBAAAAAXRSTlMAQObYZgAABBZJREFU\n",
       "SMfNVm9oG2UY/7XJtc3lLt0HRXQMztY5P/RDWEHBttoiug+iywZOQXEhOERBCbgVUZE6QdJN4VBw\n",
       "YyreVsTROROU4DomC611MP8QcIIdOgLasZVRiuzDzFR8nve9u9xdL0m36NwPnsvluee5+73P+/x5\n",
       "gf8cP/zYk8R1i1NrcPN1Sy52IIvqygOrD23u/dcplKUEMUXSYURXhTqEBlYfKbeZwi9uAhVW/dIq\n",
       "u4O2eKC+liVm9IW2VKSUCnNYFtiDNwH71qHbEn54BviG1QutsjtvixcJ2jKVFv8hOh9MhTlgWWB/\n",
       "JclgRPrhU2Avr2CsRXJ6UooP3QW6TAMPoP27MAcBf2Avk9yIQUX4QTOQsOin0CK7TlOKDxvpzdhf\n",
       "30HAF9gobXJsCduL0k9dBf3k5OSeVjd2jy0+nBDbO1zXQcAXWI0yNZpGX9n2+w24lMu9clWUtNpt\n",
       "ry2xwfW3uMqzPQNkFN6IlxnLTM30Orso/GaAbcD4VbGL1G7fsmXETCy5Nfu3lTehV2qrWRRIIsRY\n",
       "Ir+g/uEkJvudAe6TBRLEw5UrYPeyFHUNIqLAOOPiVXQbiGdDfb3Gci18OW7hd/u/8PuCEhTtvjYa\n",
       "f/PpDLxbcuTrUcNroLzwFW5N+9jdICVSRachwsbkK8iXoCyFsvMY22HjYNwD9U/nI+y3lWiUO90F\n",
       "HOsvq49ZygXOAc6AQzND+GgXniy5b2HNEc2KWFr/Xf0DAXZtY8iLAhyV7W5joQE711gWcVq0u+jl\n",
       "ALtYZYtj8tPUJPT3gWPcrajm9d37LMyVEHfZCc2XRlIL3VmK1fFauyvjXgvRbDDv0ggxlviLA2o3\n",
       "F/bbQDL+FF0mbp9HlDfzfmo2Mebd8yylJJk9Tgs0nenMGhSLb2uhVZEv4Pm408m6hymzvFXhRdBY\n",
       "4iL2lwNVgc+JprpDqSLB6tNz8vE6q1fMYP2w6ZnO4ltF7fATfnYzUroMfdTtMx3lLlptpBTKLmgs\n",
       "8Rxed0uO/QZ5kZSbkaSSxQSrj07JxztxRuVYxg9JdmI6Cw2KKM342W2QombWvnubm8Truc0mUqHs\n",
       "gsYSE31ufQq/eY4K1X9boT2NR3O5nPHeI07e3qm8mMvtjBXt9/N0Fhpi9wEXktJkkgl83GSS1QP7\n",
       "qU7O5s2u01aHCOkB2XyqWA2RwHcbsn+J6ZyWsYtuXsEpQGC6/rGhIexTgH1UMLc+BC0l5ksK07Fd\n",
       "eEkfwyw/emeWzPZacjoLzSng58DLxhE+cdR6Pb3JeHJOUHYBZz4bAnbz7SeLb6SU1djyLSUu9zz1\n",
       "+3PbsKkgpzNroq8Oo6P56VOgy2xwXG0A4RdYQTvlnT0w5M8dlGUSznSuaVZ0cp9rdNRvAPbT6+bm\n",
       "VOB/vFkWX1MEV6b/PzT+AeuaLki+p3q6AAAAAElFTkSuQmCC\n",
       "\" style=\"display:inline;vertical-align:middle;\" /></a><br>(see <a class=\"ProveItLink\" href=\"../../../__pv_it/theorems/8c76de886658d3527d3b9ba751ccc78cd3892ef60/dependencies.ipynb\">dependencies</a>)<br>"
      ],
      "text/plain": [
       "posnat_power_of_product: forall_{a in Complex, b in Complex, n in NaturalPos} ((a * b)^{n} = (a^{n} * b^{n}))"
      ]
     },
     "execution_count": 2,
     "metadata": {},
     "output_type": "execute_result"
    }
   ],
   "source": [
    "%proving posnat_power_of_product"
   ]
  },
  {
   "cell_type": "code",
   "execution_count": null,
   "metadata": {},
   "outputs": [],
   "source": []
  }
 ],
 "metadata": {
  "kernelspec": {
   "display_name": "Python 3",
   "language": "python",
   "name": "python3"
  }
 },
 "nbformat": 4,
 "nbformat_minor": 0
}