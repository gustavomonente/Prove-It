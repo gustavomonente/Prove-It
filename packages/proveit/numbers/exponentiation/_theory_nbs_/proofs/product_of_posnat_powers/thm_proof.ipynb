{
 "cells": [
  {
   "cell_type": "markdown",
   "metadata": {},
   "source": [
    "Proof of <a class=\"ProveItLink\" href=\"../../../../../_theory_nbs_/theory.ipynb\">proveit</a>.<a class=\"ProveItLink\" href=\"../../../../_theory_nbs_/theory.ipynb\">numbers</a>.<a class=\"ProveItLink\" href=\"../../theory.ipynb\">exponentiation</a>.<a class=\"ProveItLink\" href=\"../../theorems.ipynb#product_of_posnat_powers\">product_of_posnat_powers</a> theorem\n",
    "========"
   ]
  },
  {
   "cell_type": "code",
   "execution_count": 1,
   "metadata": {},
   "outputs": [],
   "source": [
    "import proveit\n",
    "theory = proveit.Theory() # the theorem's theory"
   ]
  },
  {
   "cell_type": "code",
   "execution_count": 2,
   "metadata": {},
   "outputs": [
    {
     "data": {
      "text/html": [
       "Under these <a href=\"presumptions.txt\">presumptions</a>, we begin our proof of<br><strong id=\"product_of_posnat_powers\">product_of_posnat_powers:</strong> <a class=\"ProveItLink\" href=\"../../../__pv_it/theorems/3a9764172dd681b09dc459a82acc88be94eb15aa0/expr.ipynb\"><img src=\"data:image/png;base64,iVBORw0KGgoAAAANSUhEUgAAAUkAAAAbBAMAAAADlWDTAAAAMFBMVEX///8QEBCIiIhmZma6urrM\n",
       "zMxUVFQiIiJERETc3Nzu7u6qqqp2dnaYmJgyMjIAAAAcRTyBAAAAAXRSTlMAQObYZgAABARJREFU\n",
       "WMPlWE1oE1EQnibZpNlsYi+KVSpp1erBQ7AXD622iL2IuBV/QWgIiqIiwaooioQeSmo9BIUqaulq\n",
       "QaH+NKgBK4qh0UtFiFTxB4WgKCgac1CQKOK8zdvNvs1uEmR7EAd22Z2ZN/u9N78JwP9J660xE1Qe\n",
       "bNMBkgtaYyeiPDiC04DSJxWfvW3r5tuaRVZh6llTwHQ1ETZtV1AWVB9PA8ql5DZEUXaka3bZdGfx\n",
       "tAHqAcaNV6NwltSsoCyounDfGcJ6YxlIdx5vPHXX2UUwo92eZBUuhgF1nDHD1Sj8Bq0UJVW14Xk+\n",
       "IqxPlqEUiDd9CoQQdIErzmo4/Y463EjGcLnTz9XBEXBms/OyX6iqOwdwhmwhYhnKGoJpSnmbCYth\n",
       "mNNpiPYkhuqE8XLRFnHnROpxqnqkEO1C3DKUwyR5DisOzOFpvhB0GuBajZ++YLwcz88bSVKUVHUZ\n",
       "Rvjk6Ohp65LnCQEXLhaRjzA4yWp0go1kra/daHknRot7j0RRUtVGvH5Eo0erhJCszF8OhXCHU6lG\n",
       "qSQ5WpfOYQLYTKitlwBr0RBWp/4qUQYq86N41abxGOvha4leR8yXU2spSR8hK1NAL2RRdqPXV5rl\n",
       "21+h/IAXyeoLaRJORSLnyjeAXf24J8zaYIRImko1jMHhAltaq+45sSOk73o9D6AxWIrSgN9DUhOt\n",
       "rpBgnxbDb7zZ8+Dyq2tzrC1GyNIY2hPSLtXW3ZY0v1niPmt1rqTa4LYg2aVUS09LvBL/HUU5G/jv\n",
       "WisHCT8CY6IZSkaoS3y0585sVF5fjI+C9zzAXY2Kd+CsBPf8AUHncRN+X8Hj/C/w5ErOJAn31RdH\n",
       "uBiXQb2QpW7i/f5teBtpfg8O8rVVCQSu6fsriV4icbKIhswQRnyZdhayh/8Jzoy+V4/FYa8nps0e\n",
       "MyFLJMfhJu6KP8DlwUdYr16yfV82lhCubS2ixBkiZsCXqZEWmV54HtQXrlq/96Ba4nXtnRWW1mCY\n",
       "gUFrD3BhGCFvd8aZvs/LCBKQTKloyAwhGfDVfRNnXmraEtLXbT60cHCBOuGJZYQsycXCK5H2iwPW\n",
       "pmg06j+3gen73KFotBfRDJEUE5UZosOQDzRz1A5Zji5X38/eqlERq30lOWVPXMR9afp+sHBmjnXF\n",
       "VTOhlTPiq46cquLTE1WD5PPqEcS614Agyo1KhAn3cbXvP5SDFOA11Twj4QyxP1HCVwpMHYmxWOVP\n",
       "Z6pG6VXHaEfoRhvAAHm8mu0Tublq36/FUug41g5OqtkVxxliSbqEr9BuzRRchqrYiEIuXQTbMC5p\n",
       "AyoyF2P8aSluwqd0XfOLogy9rD4sX5tKxk0lngqH4AlY/EOqzIieNo+SSlZvWYzSLv0r/0T8AY8y\n",
       "L0TGwEEUAAAAAElFTkSuQmCC\n",
       "\" style=\"display:inline;vertical-align:middle;\" /></a><br>(see <a class=\"ProveItLink\" href=\"../../../__pv_it/theorems/f120ee103419806f3c9e2bc9aba252ce148796b70/dependencies.ipynb\">dependencies</a>)<br>"
      ],
      "text/plain": [
       "product_of_posnat_powers: forall_{a in Complex, m in NaturalPos, n in NaturalPos} ((a^{m} * a^{n}) = a^{m + n})"
      ]
     },
     "execution_count": 2,
     "metadata": {},
     "output_type": "execute_result"
    }
   ],
   "source": [
    "%proving product_of_posnat_powers"
   ]
  },
  {
   "cell_type": "code",
   "execution_count": null,
   "metadata": {},
   "outputs": [],
   "source": []
  }
 ],
 "metadata": {
  "kernelspec": {
   "display_name": "Python 3",
   "language": "python",
   "name": "python3"
  }
 },
 "nbformat": 4,
 "nbformat_minor": 0
}