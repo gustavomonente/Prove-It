{
 "cells": [
  {
   "cell_type": "markdown",
   "metadata": {},
   "source": [
    "Proof of <a class=\"ProveItLink\" href=\"../../../../../_theory_nbs_/theory.ipynb\">proveit</a>.<a class=\"ProveItLink\" href=\"../../../../_theory_nbs_/theory.ipynb\">numbers</a>.<a class=\"ProveItLink\" href=\"../../theory.ipynb\">exponentiation</a>.<a class=\"ProveItLink\" href=\"../../theorems.ipynb#exp_neg_less\">exp_neg_less</a> theorem\n",
    "========"
   ]
  },
  {
   "cell_type": "code",
   "execution_count": 1,
   "metadata": {},
   "outputs": [],
   "source": [
    "import proveit\n",
    "theory = proveit.Theory() # the theorem's theory"
   ]
  },
  {
   "cell_type": "code",
   "execution_count": 2,
   "metadata": {},
   "outputs": [
    {
     "data": {
      "text/html": [
       "Under these <a href=\"presumptions.txt\">presumptions</a>, we begin our proof of<br><strong id=\"exp_neg_less\">exp_neg_less:</strong> <a class=\"ProveItLink\" href=\"../../../__pv_it/theorems/f5c2ee0da62223378a49b2062c799206c8d7117e0/expr.ipynb\"><img src=\"data:image/png;base64,iVBORw0KGgoAAAANSUhEUgAAAREAAAAXBAMAAADelGYUAAAAMFBMVEX///8QEBCIiIhmZma6urrM\n",
       "zMxUVFQiIiJERETc3Nzu7u6qqqp2dnaYmJgyMjIAAAAcRTyBAAAAAXRSTlMAQObYZgAAA3VJREFU\n",
       "SMe9Vk1oE0EU/rrZzc9mm4DgQYsQDYRSL6FF8KAlVqgoKOnF9iA0xB/spRRtD0IrRbAkirAoaBHE\n",
       "1UALodCgoFQ8hByj1IAFtVQIUi+KEMSCqQjOzuzsbNpo6iGdw86b2W93v33ve+8NsF0jE/lcd1/t\n",
       "HI5vD4MH1gfHlPW692fjgwYWiFE2Vx+bR0SdZLMrqozUBXShH3DrwCtz9aV5TAI6m1tyUqIuoA0R\n",
       "wpc4ZJosfJPNY/LWmud177LBN/1CMmoVt7JAgXAmt7Vc85hcseYWffAk32u9rAvALuVHCXhEdovZ\n",
       "7L3mEfFxccjJJ4ctUxo3HIje/WHCJBADfqZS481jIkWBx53w7RZbc5d4YPYN9RQsWyO480B6C6+M\n",
       "0fcW8lv7vo3zkv/NH4FUEXVlwqaEd6GrPGBEskepcP8ynref/cQsKuoVPGOuFu6VjU0PnbBxgCcH\n",
       "X64bXjsn3F9tXBFvjONcwySKHkil+pXgZVdJ0lAMCSajCJofVqZskMPkYyDBcaZQY1CxA8EQvzsj\n",
       "mBhIifcQp2klT31/vF/IgjBZLtlM1DVSFogKL9rSd5h83E1znMUE8joGRUG/MyGw32uY+MqnRVco\n",
       "HIiQZ+QIPIYcNQNOmORtJkoVnhLUg3GOpCZF2w0kc53jeHTgKmMv6igWypoIsplj6XN2V5CMYQ/5\n",
       "CS1o9CEAxqQrKpiswxNSF2McyUyK5g1kbpXjhGK9CdTEkGfxC6LjDodi8XTE7goKvpnb94+hHRn6\n",
       "kOvCKJw+aQn10b+lSGZStNVAlD3gOJGdroT8uyaArLLJv7wVH5eoy/S8qSa7K1Tp9RCS6E+lUiFJ\n",
       "u70Ep06CMW0VHGmZJpo3EOolihNeV5Phaq2WaLVXkx1hu/UGzIi3GqIrKBWF5chOuFl0/GeMDblj\n",
       "KsFCMtNE8wbCRCRyh1V7V7lRBZqFsytMGw+1skYmjMkVaHGmk6JQLMK0TpDsAEUyk6J9N6wGQrMp\n",
       "bNcTswMOYz7WiEkBzq7Ql5tZKhTJhN528hM3zcq2mM90CybSayrf6SFQJDMpWmmzGgh8UzrHUcnq\n",
       "mMC1hqeYDU6zakBO1U3JS0Qn4l7NwWFAd5gM7RelIb3hpNQTbng89NaWJb9uTe78qU3Yvx9hGHqh\n",
       "wenx3+ND7bKVT/JK/j+YMHRp247m0WZ/4A97GAv1vDqIJAAAAABJRU5ErkJggg==\n",
       "\" style=\"display:inline;vertical-align:middle;\" /></a><br>(see <a class=\"ProveItLink\" href=\"../../../__pv_it/theorems/783c4c9cde6035b67397e0523bf046f3e0d42dfe0/dependencies.ipynb\">dependencies</a>)<br>"
      ],
      "text/plain": [
       "exp_neg_less: forall_{a, x, y in Real | 0 < x < y, a < 0} (y^{a} < x^{a})"
      ]
     },
     "execution_count": 2,
     "metadata": {},
     "output_type": "execute_result"
    }
   ],
   "source": [
    "%proving exp_neg_less"
   ]
  },
  {
   "cell_type": "code",
   "execution_count": null,
   "metadata": {},
   "outputs": [],
   "source": []
  }
 ],
 "metadata": {
  "kernelspec": {
   "display_name": "Python 3",
   "language": "python",
   "name": "python3"
  }
 },
 "nbformat": 4,
 "nbformat_minor": 0
}