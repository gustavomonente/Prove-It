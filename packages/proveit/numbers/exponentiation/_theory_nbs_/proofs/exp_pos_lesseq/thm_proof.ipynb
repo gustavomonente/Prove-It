{
 "cells": [
  {
   "cell_type": "markdown",
   "metadata": {},
   "source": [
    "Proof of <a class=\"ProveItLink\" href=\"../../../../../_theory_nbs_/theory.ipynb\">proveit</a>.<a class=\"ProveItLink\" href=\"../../../../_theory_nbs_/theory.ipynb\">numbers</a>.<a class=\"ProveItLink\" href=\"../../theory.ipynb\">exponentiation</a>.<a class=\"ProveItLink\" href=\"../../theorems.ipynb#exp_pos_lesseq\">exp_pos_lesseq</a> theorem\n",
    "========"
   ]
  },
  {
   "cell_type": "code",
   "execution_count": 1,
   "metadata": {},
   "outputs": [],
   "source": [
    "import proveit\n",
    "theory = proveit.Theory() # the theorem's theory"
   ]
  },
  {
   "cell_type": "code",
   "execution_count": 2,
   "metadata": {},
   "outputs": [
    {
     "data": {
      "text/html": [
       "Under these <a href=\"presumptions.txt\">presumptions</a>, we begin our proof of<br><strong id=\"exp_pos_lesseq\">exp_pos_lesseq:</strong> <a class=\"ProveItLink\" href=\"../../../__pv_it/theorems/cdd9ea1a7c4ca1bd6749d15f9e029adb42d57f530/expr.ipynb\"><img src=\"data:image/png;base64,iVBORw0KGgoAAAANSUhEUgAAAREAAAAXBAMAAADelGYUAAAAMFBMVEX///8QEBCIiIhmZma6urrM\n",
       "zMxUVFQiIiJERETc3Nzu7u6qqqp2dnaYmJgyMjIAAAAcRTyBAAAAAXRSTlMAQObYZgAAA4RJREFU\n",
       "SMe9Vl1IFFEUPjs7s7M/s64vPYgvgwubGNSSWBRlUqD0kD8v6UNgWEa+SA9KBBFCJWNRTD2YFNGE\n",
       "YLAILQWpEbLsS7BFDSRYYrIIERTCEgppL92fuffOrrtl0Hoe9n5z9pu53z3n3HsuwHZZcG9/+7/4\n",
       "/789dMYn7d1Wsf+JfwaBLH76XMZQDDmgHjqLEojfZwK8wU/fyqekwnRANcSEd6dICPEHUUDG0ENg\n",
       "qHxKPrDYrMOtBMOvdREz6k8jzSh5WrJ8Si4xUKWs2hQF9tsuAvU/BghnEol75RMSuMBQ864oFRDo\n",
       "z1s49Vc0Afw0jMvlUyLFUQJq+o6muUe53cQSE9XhjrOfNMTrBRjZwifJ61I6tbX5Oc+P1jsJ8/oV\n",
       "/p/Bi1WTK2GPg8OoZI+Rwi1hU7VnlikiRb0IL8jDtGBM5yeDTsN4ACrKRAbeW8fFtqlj6IE3C4aD\n",
       "QyiLKkh28ZPgVb0taZDRhZIBiOBozorSd0HyznnTxUPmQbG0+HzE5jMOsDw6/GA5y6EY2WrxeHyc\n",
       "SQBSsmBzJcE18KA1LgnlS4WLCAybnMeUAJ/PUX/AAW2WsuZSEsieRGg89gU70g0xFF85Bqolx3HC\n",
       "kZIUV6Ksg2rDbpszCSRs3kCUq5bD49kBPp9jrb10bASp0nHJeI+NnEVfGVQ28MRWv4oWoUWsDqgA\n",
       "qqQ+LpRsgKq3kNUSJoWELRqLvEx5omJfSjmoy5PSdY0Mw+A/7apYeI7keOMKFqXACnbfb4FaGCcT\n",
       "es8NgDsmHn2SfIUwKSRsV2MJVxEe353yL38uUJDFUVLZ+6CN+b048hH0kicpUXXr5PcQ9ECnYRi6\n",
       "pN2dA3edRJpg8iZnUojZrsYyq1Mei3qwpy5avMVO1BxhXakCSwujmD41/QsWKRyF1v4O8NHshE5Z\n",
       "hXtH+s6ZBGK2aCytGffeEad9UWvkdwMGPGb3CRizHmlZDQ0wKOdAa6d1khEVC1F6ToRXgDApJOzA\n",
       "DaeBdB0UPHcHLGK+bHCVYX4Gyz3PDkNHcmIunUEDNNeiAsKRn3qXGm8USqS3tHxDFmFSSNhKNW0g\n",
       "o31uHi5Zs+CU+noRG16mavvZaVR4uDpnQDJo4pKXUJ2I/0pfHCg7RI+F6yVvSptNrmkooTdkOoMv\n",
       "1brptdIfpOyZv90e/2if8h/DbJAXU6WVTKM9ZVguSNn2tl3N4+We4DcVMxJ+A3uHiQAAAABJRU5E\n",
       "rkJggg==\n",
       "\" style=\"display:inline;vertical-align:middle;\" /></a><br>(see <a class=\"ProveItLink\" href=\"../../../__pv_it/theorems/98c8d605dcec22c11086ef95ebe3a922c2ec286c0/dependencies.ipynb\">dependencies</a>)<br>"
      ],
      "text/plain": [
       "exp_pos_lesseq: forall_{a, x, y in Real | 0 <= x <= y, a > 0} (x^{a} <= y^{a})"
      ]
     },
     "execution_count": 2,
     "metadata": {},
     "output_type": "execute_result"
    }
   ],
   "source": [
    "%proving exp_pos_lesseq"
   ]
  },
  {
   "cell_type": "code",
   "execution_count": null,
   "metadata": {},
   "outputs": [],
   "source": []
  }
 ],
 "metadata": {
  "kernelspec": {
   "display_name": "Python 3",
   "language": "python",
   "name": "python3"
  }
 },
 "nbformat": 4,
 "nbformat_minor": 0
}