{
 "cells": [
  {
   "cell_type": "markdown",
   "metadata": {},
   "source": [
    "Proof of <a class=\"ProveItLink\" href=\"../../../../../_theory_nbs_/theory.ipynb\">proveit</a>.<a class=\"ProveItLink\" href=\"../../../../_theory_nbs_/theory.ipynb\">numbers</a>.<a class=\"ProveItLink\" href=\"../../theory.ipynb\">exponentiation</a>.<a class=\"ProveItLink\" href=\"../../theorems.ipynb#pos_power_of_product\">pos_power_of_product</a> theorem\n",
    "========"
   ]
  },
  {
   "cell_type": "code",
   "execution_count": 1,
   "metadata": {},
   "outputs": [],
   "source": [
    "import proveit\n",
    "theory = proveit.Theory() # the theorem's theory"
   ]
  },
  {
   "cell_type": "code",
   "execution_count": 2,
   "metadata": {},
   "outputs": [
    {
     "data": {
      "text/html": [
       "Under these <a href=\"presumptions.txt\">presumptions</a>, we begin our proof of<br><strong id=\"pos_power_of_product\">pos_power_of_product:</strong> <a class=\"ProveItLink\" href=\"../../../__pv_it/theorems/38c84d73022a002dd68b03e55a1accbe994c64b90/expr.ipynb\"><img src=\"data:image/png;base64,iVBORw0KGgoAAAANSUhEUgAAAS8AAAAZBAMAAACSpLXvAAAAMFBMVEX///8QEBCIiIhmZma6urrM\n",
       "zMxUVFQiIiJERETc3Nzu7u6qqqp2dnaYmJgyMjIAAAAcRTyBAAAAAXRSTlMAQObYZgAABBBJREFU\n",
       "SMfNVmtoFFcUPvuY7O48Nv4oWCuF6aatIgZCFqzUqpFS+qt1+6O2RdBlUQKCsoiKVn9sI8jGBwwE\n",
       "aqkNTBJaSx5saAk0RXBJiOKTxfzQBJQFrbQiKqJgNyqeM/feycxmMgkuogfO3rnn3nP3u+d1D8Ar\n",
       "p5EEvJEUafnqzQS2EqRZ19SE7juvmWIlxtU0jLzYY38nH3dJC1xymg9zvTIJrtcI7HfODpJ/yALU\n",
       "GQD/z9wu59gYykHKPmIhn5MO8QWS3qkR2H+cnRRvQgR47VsQqt4eN9gYGHQIb/I56RD/RJ7I1YZL\n",
       "a2Lsonr6lxGAjsZl1fvHxRbDIZwS8xHGcRNjbrDGxDMYu2g9Hgxdnvv3Ccu1gH2dcEXMu5iedr63\n",
       "93iNnjzO2UVn+V97pEpWfDRfMe2EzIo56RA/yecPvAwadfqzgXPsk+Z3bOHtxCrc1OShGSRhx+h7\n",
       "pivuMg3cb6RDvBWg/WWAOUL6GOd1RvyBnXnPzYIBWlnML98jukmfUSws4UVw33Vc4Y7M85d0iD+1\n",
       "cmAGfVmeP7D9jOV3KeFxJJlSgXodlKxXSKJpukpYecUd6Oe0CQ/ZlHSIIxB0lUblaGsGnE7468we\n",
       "Zz1Wdh5ao7uBvcU4VIEIrRToTqEyFIogPfAAFsAAWmvCTttYtH8NyE/ZlHSI1VLEhn4qWZK/NaW7\n",
       "5HPyeN/oavj1MGwqih0k0ItqN6jJj5KrqoAFclCgghlJszK2fnB2YG+D/Ni2YNoqY+EpN7BYeYPY\n",
       "cW24F7RfAE7xGqMd+dmEiSIoApgl0IvagKcr0UKnp8tYiawSzrpj7DZ3JVpHcWN+RgZnhSPLGNq3\n",
       "4E/Ph/9AmLz32RBixXFzYhuGH27ZiEYwePtCAgLW7xn8hUHYoYhyVt+CIecIfgdh8MtTUFcedgof\n",
       "Udi5gh/+RHTybqkCcRJPTrDlJWaD9Y5qA8Z0+1JmwEJJN7BRxlFd22MXkbpSFO8ZKnoVGlxog6tp\n",
       "19p2OCiyqsj1MHkg1CRloYfEf/N7tMENmSyo9Bl2+2IJQF/R2uIG9jljOfPBj+/b8dp8iSIt5QGM\n",
       "/PRb4ruMq/j2LBcpSDqWnmbS8xlMwzf5fF4/8bUI6BXS3ny+LTbEz8b2xRKAfq6RjpTmeJIsOun7\n",
       "JHnTSadewYhOmnWWIbtZYakgEsoW+BgNSjWayl+auXLo/DwecRAP8kwa92/FnXoBY/MXoKasZyUF\n",
       "I7HD8L2WgzFa6hgDVUcBtS9jDJjaX3VWO3g/H7J3lY4aPrhE28PdnvljNcAR+uy/dyglLYYNF/EA\n",
       "qz+6/O9WQAG1LyRQDtyVk+U5G0U/BLJfm0U61XpBjDFe3tmwFENqFsG8WuuJWf680wfYhI8ea7r9\n",
       "Ba+JSnMKXjW9AGiGJqST5xGrAAAAAElFTkSuQmCC\n",
       "\" style=\"display:inline;vertical-align:middle;\" /></a><br>(see <a class=\"ProveItLink\" href=\"../../../__pv_it/theorems/63f91f18fce9fc312375fa9740338d2c90b6cb790/dependencies.ipynb\">dependencies</a>)<br>"
      ],
      "text/plain": [
       "pos_power_of_product: forall_{a in Complex, b in Complex, c in RealPos} ((a * b)^{c} = (a^{c} * b^{c}))"
      ]
     },
     "execution_count": 2,
     "metadata": {},
     "output_type": "execute_result"
    }
   ],
   "source": [
    "%proving pos_power_of_product"
   ]
  },
  {
   "cell_type": "code",
   "execution_count": null,
   "metadata": {},
   "outputs": [],
   "source": []
  }
 ],
 "metadata": {
  "kernelspec": {
   "display_name": "Python 3",
   "language": "python",
   "name": "python3"
  }
 },
 "nbformat": 4,
 "nbformat_minor": 0
}