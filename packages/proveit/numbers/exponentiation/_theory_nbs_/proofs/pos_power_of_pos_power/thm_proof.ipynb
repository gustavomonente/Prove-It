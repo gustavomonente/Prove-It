{
 "cells": [
  {
   "cell_type": "markdown",
   "metadata": {},
   "source": [
    "Proof of <a class=\"ProveItLink\" href=\"../../../../../_theory_nbs_/theory.ipynb\">proveit</a>.<a class=\"ProveItLink\" href=\"../../../../_theory_nbs_/theory.ipynb\">numbers</a>.<a class=\"ProveItLink\" href=\"../../theory.ipynb\">exponentiation</a>.<a class=\"ProveItLink\" href=\"../../theorems.ipynb#pos_power_of_pos_power\">pos_power_of_pos_power</a> theorem\n",
    "========"
   ]
  },
  {
   "cell_type": "code",
   "execution_count": 1,
   "metadata": {},
   "outputs": [],
   "source": [
    "import proveit\n",
    "theory = proveit.Theory() # the theorem's theory"
   ]
  },
  {
   "cell_type": "code",
   "execution_count": 2,
   "metadata": {},
   "outputs": [
    {
     "data": {
      "text/html": [
       "Under these <a href=\"presumptions.txt\">presumptions</a>, we begin our proof of<br><strong id=\"pos_power_of_pos_power\">pos_power_of_pos_power:</strong> <a class=\"ProveItLink\" href=\"../../../__pv_it/theorems/0d1080b3003a5667e825bfdf15068a17ef8f36880/expr.ipynb\"><img src=\"data:image/png;base64,iVBORw0KGgoAAAANSUhEUgAAAQkAAAAcBAMAAACAKlfLAAAAMFBMVEX///8QEBCIiIhmZma6urrM\n",
       "zMxUVFQiIiJERETc3Nzu7u6qqqp2dnaYmJgyMjIAAAAcRTyBAAAAAXRSTlMAQObYZgAAA65JREFU\n",
       "SMfNV09IFFEY/9w/7e7s7OqhQybBupVFICwuiAe1DYlO1QZldXKRwv4RohVlHhYPMmqHBaGikiaF\n",
       "Dma6VBIbQotLh6xgq0MmJUtlhxKTIKitQ997M7M7sz7XUcbogW/m/ebNfr837/d9vyfA6jTLXP7n\n",
       "e1LwL1oi/2Pet2qR96vuv+af6o4qdyaDSVhDqsGv/HMLI5m9CxnLwi2qGH0vk0a818Oa2+A9QS7j\n",
       "XoAXxrKoIF2f/J3bTD4nWe8ZaxFr7hZxI/a2wD7skC7V6nsjSDjS2HFhaWD3uFJwHMAchiBrcgdM\n",
       "cz6oAisSRqE+I9gXI1hQ2bvl/S4ImEMwjNcoe/JaqLQWQwllPw9wlVzDRrCgAV8r6hNxyHtUKtS2\n",
       "NGUgSfiiJCk+agSLm0SOF+SBTZzE7SkCdwCYlaHNRVb+CczYVwG4JgYHrxgizpfkqzYrOXIqTqM4\n",
       "Kl6JrMn1z0nfW74N+1L8+ykI7TpixJeEa0FSGvQmSsU8BdRRXbFeA+zF2UcBunSw8C0JCyQ1kliG\n",
       "iuGbDE1nlDtHG529I+Ke19YOzKI64FI67GZpFp+JHFBht5Jkp2l7yHiD20DSVyOoAL4IpqQac15q\n",
       "alTZjbOls9azkAUDbqUJCrBdhBZllQwW5jTYtOV0BF/ik7YMzTF/kjskWmcVu7mTqAFPnO+HhL/V\n",
       "n00kNvxRZrEOuB95WBSEYSS44Fs4UvXKcDI2CK4bAGOy3bh6rokYznVXu+hF4E5pR7g/4FT2fVeO\n",
       "LohxjcThcY6nkJrSdQS7gbIZsJCf3DmKxGS7qSNzMNyQKhz6DwvGdkxSJ/cb1qRiOepUf/8onHZG\n",
       "cnME7mOOc2etaXATaOpt1m5SUjizPxuO+A8DBjntiZo64E1ITuBqBgt0mHP8gkIDhagVs8/aDANk\n",
       "9CimthsSrrIpkA2H/sOClSVZcEW3vYcbAxI0w8qRxs2XN2kQmlEukXiAKQQHBUHwXD+QtZvzgtAB\n",
       "nqfl5DdlQWH1Z8EgKzNTwaWAzbqK7ofMZkXsU+Iamkj9+LZsNyHp049OaI9QDJi+GVe5maRJjx4S\n",
       "XDqzjkjDbuCDtL4GYdzRTe3miRSOH1Jqbzf1n1xYsQ5ynLGrdTes61O4Mkc+S+O9GoAecjs01xm0\n",
       "llC7sWMtcLbPcn65jiJM/CcXVtpJ1SmHti5dLGw5xyAT6kIujdJlKwpAUzHZsHrpfapFRnSxeLfo\n",
       "k9iyYIXjiv7HyHPESi4LVtqDlbAwi/CftL/83P/RcQ73NAAAAABJRU5ErkJggg==\n",
       "\" style=\"display:inline;vertical-align:middle;\" /></a><br>(see <a class=\"ProveItLink\" href=\"../../../__pv_it/theorems/3c4f979d6914dbc8a8dd66d37bf2cb562b06debd0/dependencies.ipynb\">dependencies</a>)<br>"
      ],
      "text/plain": [
       "pos_power_of_pos_power: forall_{a in Complex, b in RealPos, c in RealPos} ((a^{b})^{c} = a^{b * c})"
      ]
     },
     "execution_count": 2,
     "metadata": {},
     "output_type": "execute_result"
    }
   ],
   "source": [
    "%proving pos_power_of_pos_power"
   ]
  },
  {
   "cell_type": "code",
   "execution_count": null,
   "metadata": {},
   "outputs": [],
   "source": []
  }
 ],
 "metadata": {
  "kernelspec": {
   "display_name": "Python 3",
   "language": "python",
   "name": "python3"
  }
 },
 "nbformat": 4,
 "nbformat_minor": 0
}