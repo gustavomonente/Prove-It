{
 "cells": [
  {
   "cell_type": "markdown",
   "metadata": {},
   "source": [
    "Proof of <a class=\"ProveItLink\" href=\"../../../../../_theory_nbs_/theory.ipynb\">proveit</a>.<a class=\"ProveItLink\" href=\"../../../../_theory_nbs_/theory.ipynb\">numbers</a>.<a class=\"ProveItLink\" href=\"../../theory.ipynb\">exponentiation</a>.<a class=\"ProveItLink\" href=\"../../theorems.ipynb#product_of_pos_powers\">product_of_pos_powers</a> theorem\n",
    "========"
   ]
  },
  {
   "cell_type": "code",
   "execution_count": 1,
   "metadata": {},
   "outputs": [],
   "source": [
    "import proveit\n",
    "theory = proveit.Theory() # the theorem's theory"
   ]
  },
  {
   "cell_type": "code",
   "execution_count": 2,
   "metadata": {},
   "outputs": [
    {
     "data": {
      "text/html": [
       "Under these <a href=\"presumptions.txt\">presumptions</a>, we begin our proof of<br><strong id=\"product_of_pos_powers\">product_of_pos_powers:</strong> <a class=\"ProveItLink\" href=\"../../../__pv_it/theorems/18997acd02b70fe411cd25a207af63686e78419b0/expr.ipynb\"><img src=\"data:image/png;base64,iVBORw0KGgoAAAANSUhEUgAAAS0AAAAcBAMAAADGnPRhAAAAMFBMVEX///8QEBCIiIhmZma6urrM\n",
       "zMxUVFQiIiJERETc3Nzu7u6qqqp2dnaYmJgyMjIAAAAcRTyBAAAAAXRSTlMAQObYZgAABA9JREFU\n",
       "WMPFV0toE0EY/pvtmmSzm/bgQS3C2vpCEEIDRaRqRPSmRtCqp4aiVFRE1BapPZQeSnwcAoKKCq4K\n",
       "Hmo1xdpDRTBYPPgketAqKvF50BKLWLBRxPln37uTdItRBzK7883MzjfzP74JwF8q63JTGFyZh39V\n",
       "xMhURg//VS4byY+Pqe/hfsYAudjMz1hN0xq+MtPiE6Rq0hpVKcaINcWmTmAV0K2aKC+vsEKqT1qj\n",
       "uXano/t2LYjZIjv6Ol/ReIm1MjwsL6968uN0Uy1Q6uy9/tgGgA72TF+HL6LxOsBXg5+QpGHzqhy0\n",
       "ggVSnVO0Vje8tncvAR6gjj01IEs5lRfXBXFAkvfBcvh/HoFGYE2HBnt3DVbn2FMrYlxiT/5NPp+t\n",
       "wHAJjgGcwmdXOXjRT9borYL5anFtfz9zapWCkwNGuBxSnVXsLwcvNCG1JS0dkmOz74GjZmIVvzKi\n",
       "xWM4BhG0OUj3entPlsXtH5OfVK23mh44uo8vXkQcvJodj7szGq9g/ROyvTnk7Xsy2elh1cyk8HJ0\n",
       "WwyjYGP9LHtEGEBlwfWF48NztFgJGNh6gmwHOOyBV2RSOImfRjutTIXHbINMgB+nj0d5LO8o05nw\n",
       "BZy8muMAq0DIedDdyXl9RPcgqVqYbXEjPAoLEPzm/MD5LHqT2mm6KhEzP/hsWTh0rLXForuhfT3L\n",
       "ZTcvBrwfHZi0uQL49ewq/AIbILh4rVBgn2u3acJLzPr1pnAzmhW2KPyorruXh5eBnBEvwHB0f9QM\n",
       "WjaMZgkTXhVdkI7rYDvYAPd5zQBh3B3ahFcwp0stjAz1gnQW4KaWSKSjpxVCQLpiP5gicA+6CLFj\n",
       "OgO37Ls3AX7C4l9oeOEnhMZcvJoxix3eRqqL8z9AJS6yelA1NOruKno3yUh9FgJEfVkwKTvwqkL8\n",
       "KN0Pe0LW24QFcMWj8AOm5YacvDAeYWAv6W7jCxBG6MVzU3dzKgEuahJA9WXAWDDpYH4iYtcuOtRP\n",
       "ByRX/uqGZ4kMKxVCFfFJLsLvhYvYujFk6K5AF5UbWmMmAaK+LFjfJJ6H0DLvxFzbmZiAO99fqt3a\n",
       "EnOCNEIlBbXNl4DNyWRSPrPJ0F3+YDLZDfLdxTgvbqgvC1bFl04rfUWTPUnHW8MFUoEXCr3HchfI\n",
       "BjXdTagGG7xnV18GTGeiORpLL5hWvNASDC+sSDWvBTFONSMOt4NHqO7eUQmIfXriO0LV1wnrsYa+\n",
       "s6H0ik89HZdkXKQrW64tAziKr335njhfQ3U3QHJTqHNUiGq5n8Covk5YL7swIEtfTdo88fLHHddZ\n",
       "4l9aOlcfC4kj2bI8G9bKVTRByb+NUsYTr5dFe4amBOusMTgHSo045e1CXvyamp0SrJfrSC5WYsBS\n",
       "T7w4T8Hxf8pvREMacdZb83AAAAAASUVORK5CYII=\n",
       "\" style=\"display:inline;vertical-align:middle;\" /></a><br>(see <a class=\"ProveItLink\" href=\"../../../__pv_it/theorems/64f00549f2d1c11febf83140307f1d8b3c8710c60/dependencies.ipynb\">dependencies</a>)<br>"
      ],
      "text/plain": [
       "product_of_pos_powers: forall_{a in Complex, b in RealPos, c in RealPos} ((a^{b} * a^{c}) = a^{b + c})"
      ]
     },
     "execution_count": 2,
     "metadata": {},
     "output_type": "execute_result"
    }
   ],
   "source": [
    "%proving product_of_pos_powers"
   ]
  },
  {
   "cell_type": "code",
   "execution_count": null,
   "metadata": {},
   "outputs": [],
   "source": []
  }
 ],
 "metadata": {
  "kernelspec": {
   "display_name": "Python 3",
   "language": "python",
   "name": "python3"
  }
 },
 "nbformat": 4,
 "nbformat_minor": 0
}