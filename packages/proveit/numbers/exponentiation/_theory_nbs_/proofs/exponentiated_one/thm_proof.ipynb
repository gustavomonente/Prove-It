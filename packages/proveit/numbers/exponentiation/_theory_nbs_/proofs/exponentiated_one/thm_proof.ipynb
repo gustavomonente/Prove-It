{
 "cells": [
  {
   "cell_type": "markdown",
   "metadata": {},
   "source": [
    "Proof of <a class=\"ProveItLink\" href=\"../../../../../_theory_nbs_/theory.ipynb\">proveit</a>.<a class=\"ProveItLink\" href=\"../../../../_theory_nbs_/theory.ipynb\">numbers</a>.<a class=\"ProveItLink\" href=\"../../theory.ipynb\">exponentiation</a>.<a class=\"ProveItLink\" href=\"../../theorems.ipynb#exponentiated_one\">exponentiated_one</a> theorem\n",
    "========"
   ]
  },
  {
   "cell_type": "code",
   "execution_count": 1,
   "metadata": {},
   "outputs": [],
   "source": [
    "import proveit\n",
    "theory = proveit.Theory() # the theorem's theory"
   ]
  },
  {
   "cell_type": "code",
   "execution_count": 2,
   "metadata": {},
   "outputs": [
    {
     "data": {
      "text/html": [
       "Under these <a href=\"presumptions.txt\">presumptions</a>, we begin our proof of<br><strong id=\"exponentiated_one\">exponentiated_one:</strong> <a class=\"ProveItLink\" href=\"../../../__pv_it/theorems/3e6c55e8df3cabda680d17be1d5382ca3392ce880/expr.ipynb\"><img src=\"data:image/png;base64,iVBORw0KGgoAAAANSUhEUgAAAH8AAAAVBAMAAACd/CwcAAAAMFBMVEX///8QEBCIiIhmZma6urrM\n",
       "zMxUVFQiIiJERETc3Nzu7u6qqqp2dnaYmJgyMjIAAAAcRTyBAAAAAXRSTlMAQObYZgAAAaZJREFU\n",
       "OMtjYCAGHDJVC2AgB3BeAFNMC/LYHbDJ7wTiByDGXRwGrIBQrAxvscuzTWBgOA1ivMJhwEsg3rgA\n",
       "SPzElOOWYmDgAlo/A+TSBuz6eQ0YuHLygQawfmBFl1t27BcocBgY+IDyPBuwG8AOdCHD/QUM83ke\n",
       "8GCaDjJgIZA+tWrVdBw+AIsDDVh25dAp7AbwAcP2R0dHDQ4DlKEGYPcfyAAeAwaGVAaGThwG9KIb\n",
       "cO4dCDxGGMALDEVncFgihW5PehKUWU3QBdwFwJBiYLoAFePaY3yBK2IB6xsoX4SgAawfgN64wA4T\n",
       "u7FzFQPvHAaGPSQZwPkgDJraWYAhwuC6FSiEywuQMHiGMIAF6AWGzhRoaucDid+6iScQMVwACkSG\n",
       "zQXQ1L4YJL5rJ0LNYRChj8MAJpABzAeABL8CAyS1h3d0dCjMDkWocQdiM/nHF7DpZ078ZwtMSKBc\n",
       "zruAAZLa2cASi4CxgZyU8YLlMAY4tfOAjOO0CQBlEVhmIlTSwPMWOLV3g5hr3rXBS59OAvpRkyAw\n",
       "XIBhgK1AwQk4JhBXpOEEwCgHAOXhhUBQXQjsAAAAAElFTkSuQmCC\n",
       "\" style=\"display:inline;vertical-align:middle;\" /></a><br>(see <a class=\"ProveItLink\" href=\"../../../__pv_it/theorems/db9b2a294aeda37cfb8c27146ec4033f739710bd0/dependencies.ipynb\">dependencies</a>)<br>"
      ],
      "text/plain": [
       "exponentiated_one: forall_{x in Complex} (1^{x} = 1)"
      ]
     },
     "execution_count": 2,
     "metadata": {},
     "output_type": "execute_result"
    }
   ],
   "source": [
    "%proving exponentiated_one"
   ]
  },
  {
   "cell_type": "code",
   "execution_count": null,
   "metadata": {},
   "outputs": [],
   "source": []
  }
 ],
 "metadata": {
  "kernelspec": {
   "display_name": "Python 3",
   "language": "python",
   "name": "python3"
  }
 },
 "nbformat": 4,
 "nbformat_minor": 0
}