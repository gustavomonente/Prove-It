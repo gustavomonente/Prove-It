{
 "cells": [
  {
   "cell_type": "markdown",
   "metadata": {},
   "source": [
    "Proof of <a class=\"ProveItLink\" href=\"../../../../../_theory_nbs_/theory.ipynb\">proveit</a>.<a class=\"ProveItLink\" href=\"../../../../_theory_nbs_/theory.ipynb\">numbers</a>.<a class=\"ProveItLink\" href=\"../../theory.ipynb\">exponentiation</a>.<a class=\"ProveItLink\" href=\"../../theorems.ipynb#posnat_power_of_products\">posnat_power_of_products</a> theorem\n",
    "========"
   ]
  },
  {
   "cell_type": "code",
   "execution_count": 1,
   "metadata": {},
   "outputs": [],
   "source": [
    "import proveit\n",
    "theory = proveit.Theory() # the theorem's theory"
   ]
  },
  {
   "cell_type": "code",
   "execution_count": 2,
   "metadata": {},
   "outputs": [
    {
     "data": {
      "text/html": [
       "Under these <a href=\"presumptions.txt\">presumptions</a>, we begin our proof of<br><strong id=\"posnat_power_of_products\">posnat_power_of_products:</strong> <a class=\"ProveItLink\" href=\"../../../__pv_it/theorems/33214e425a52a36e04078153f409fb6c2177123a0/expr.ipynb\"><img src=\"data:image/png;base64,iVBORw0KGgoAAAANSUhEUgAAAiYAAAAZBAMAAAD3U/gkAAAAMFBMVEX///8QEBCIiIhmZma6urrM\n",
       "zMxUVFQiIiJERETc3Nzu7u6qqqp2dnaYmJgyMjIAAAAcRTyBAAAAAXRSTlMAQObYZgAABSJJREFU\n",
       "WMPtWF9oW1UY/5rkNs1NbrcHJ3ZlkLXaTZRyWZGJtpgyWJ+EtIJ/cNgQ1ocNGcHV4lQ07KmZDC4W\n",
       "tjEoi4o6OrYEJXQDxUAyHyZIwIlTXOnDBs4HLThFp4jnO+fm/j0nObcNTMQPvuTc5Pf97vl+95xz\n",
       "z3cA/v2mjU0Ndhq58ai7rMl4o8voMHLjUXfXTu+ATcUOIzceZdrwzXXntWh6UIvjA8zCOJ8x1pBB\n",
       "+sK4/NhCX5mFVfznulwH64HQTlPzzIPbAeJbYFThMcJZGaQ/jB91wLyqwxf4x4+ymgRBO63XYB7c\n",
       "LpDRsAazFR4j3JJB+sP4URfYFcnyFA7BvKwmQdBO+8r04JZIQiQDDzd4jJoug/SFCfhJi3odesnq\n",
       "kijLahIE7bQjpq9j1m0WM0YNGaQvTMCPLfQ6aFeWlk6CrCZB0A6L5Zivx24IGeGkDNIfJoq6wbwO\n",
       "8Pv8/OsteaoOTdqjuRbSmcNCbXv7t15sdNdW+6omZIRBN7gm1xEhf405yXIGoNCSR3dq0hbNtZ4G\n",
       "80gf/AygtFmQxo3eNftqxTH3f6Kmm4xw3AI/60G26oiQf4U5yXIPqKvymrRFO+zi53NJ1oqWmb/T\n",
       "gEdBGWEDmDNgVPqxDcIO1Za53MgGrzXBT+32IEXcGCbkX2ZOsoxCiL9UK4frsD3j0USIdtu52hi8\n",
       "fwxeMOddV4r5E0V4iYwWqon6tz+shHqH70A0af82zb0BssE9FnjCjRRyY5iQf5o5yTLRiAqSupgo\n",
       "hou1kcMjZVsTPtpXQbx1ugjfViHu0eQ+UH9tagJznKefQXAeSmlZTUywRxMxd6oFv61JbPVpQVKf\n",
       "JvWEd+4w9HtD/l2+uuuQdac9xCPPk0vDNXfUvyC+ZmkislIVPiMbia8H9AGyerF0XetJxjF3GJiB\n",
       "Jto/LAwT8k8wJ1lCYT8rl0NDaatwxqSgUnnbpwlFqy8rdwAOum/3YXramsU4TLXzhneNVf+E7tVL\n",
       "bTUpw6G4cXUb3FscEq6czTWWgVlikmuskN9eY+HjHCuXD4YyVuFM19FK4vw+nyaIDutKDvZtdd9u\n",
       "BJ6xhgyGxM/ZmiR05kfhm0zVqQmd+PSjZC3dPUltLhF7Nwe3YZRcjvK3tzp7cVKw+bA9SJvW5sYw\n",
       "Ib95hVluSrJyORWuNgtnmhRUoFrzaYLorjLK96q7C/0wZK3Or8zPH41V7EmLKqB/MPBcNuUaJ3PN\n",
       "DzrdWS7ZB07cD91JZTNODuDX4pRjoglmmniRFq3NjWFC/pvMMUutSMvlSTZHaeFMkyKaLOKCmnZp\n",
       "guiS0fNd0aOJ+gccX9Iev/7IJwRP+/BY0n4nuvb2EZkdbVc6lI+tpUHNyeztURNVhvaImB9b6PXm\n",
       "D1tgJ5xRoFk4Z9g4iUx59vYmnzH9JB0np4qxY/SDfPUptxvxYejHd81lRC1cpiWVvwaMy3T+DHmS\n",
       "Wr5qU7SsAZdZNSdXjAr47RrQ3E6vkfFxLYH50cKZJnUV4HuuJpHsR2NUk8my0geThtKn9MPehwYb\n",
       "MKPmwuR114MjTv3yhxlrjTCY03vt/k2i93tJWR97sUird+5qiWzNLfXCm1kQIv1hfH77rMDMMgO3\n",
       "4MQVkiQrnDGpyBsp6OZqwgznjlUix9lXLq5HsbmTTL3OnCkVWh0OnZVBtj5TKrhaBV+WjiS9SVHb\n",
       "4VzFpn4ps5M7apfYHTOhVPeDnTx71IxWh4jOs0dN7shqUcSPLfThWd7xZ4AeW60G/GdNg/8N/gFT\n",
       "Or2RXgDGNQAAAABJRU5ErkJggg==\n",
       "\" style=\"display:inline;vertical-align:middle;\" /></a><br>(see <a class=\"ProveItLink\" href=\"../../../__pv_it/theorems/22d6d1926939b255a130d96ef0275322e2efa65b0/dependencies.ipynb\">dependencies</a>)<br>"
      ],
      "text/plain": [
       "posnat_power_of_products: forall_{m, n in NaturalPos} [forall_{a_{1}, ..a_{_a}.., a_{m} in Complex} ((a_{1} * ..a_{_a}.. * a_{m})^{n} = ((a_{1})^{n} * ..(a_{i})^{n}.. * (a_{m})^{n}))]"
      ]
     },
     "execution_count": 2,
     "metadata": {},
     "output_type": "execute_result"
    }
   ],
   "source": [
    "%proving posnat_power_of_products"
   ]
  },
  {
   "cell_type": "code",
   "execution_count": null,
   "metadata": {},
   "outputs": [],
   "source": []
  }
 ],
 "metadata": {
  "kernelspec": {
   "display_name": "Python 3",
   "language": "python",
   "name": "python3"
  }
 },
 "nbformat": 4,
 "nbformat_minor": 0
}