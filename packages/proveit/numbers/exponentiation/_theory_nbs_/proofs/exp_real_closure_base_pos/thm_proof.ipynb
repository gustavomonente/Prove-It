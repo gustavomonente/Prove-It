{
 "cells": [
  {
   "cell_type": "markdown",
   "metadata": {},
   "source": [
    "Proof of <a class=\"ProveItLink\" href=\"../../../../../_theory_nbs_/theory.ipynb\">proveit</a>.<a class=\"ProveItLink\" href=\"../../../../_theory_nbs_/theory.ipynb\">numbers</a>.<a class=\"ProveItLink\" href=\"../../theory.ipynb\">exponentiation</a>.<a class=\"ProveItLink\" href=\"../../theorems.ipynb#exp_real_closure_base_pos\">exp_real_closure_base_pos</a> theorem\n",
    "========"
   ]
  },
  {
   "cell_type": "code",
   "execution_count": 1,
   "metadata": {},
   "outputs": [],
   "source": [
    "import proveit\n",
    "theory = proveit.Theory() # the theorem's theory"
   ]
  },
  {
   "cell_type": "code",
   "execution_count": 2,
   "metadata": {},
   "outputs": [
    {
     "data": {
      "text/html": [
       "Under these <a href=\"presumptions.txt\">presumptions</a>, we begin our proof of<br><strong id=\"exp_real_closure_base_pos\">exp_real_closure_base_pos:</strong> <a class=\"ProveItLink\" href=\"../../../__pv_it/theorems/25c802d91c00260181d9f3bdb1979a080bd43b330/expr.ipynb\"><img src=\"data:image/png;base64,iVBORw0KGgoAAAANSUhEUgAAAL8AAAAcBAMAAADCTHN1AAAAMFBMVEX///8QEBCIiIhmZma6urrM\n",
       "zMxUVFQiIiJERETc3Nzu7u6qqqp2dnaYmJgyMjIAAAAcRTyBAAAAAXRSTlMAQObYZgAAAydJREFU\n",
       "SMe1Vk1oE1EQnux2m81mk3gQpBZha7WKXkKrYkVLROjJny1I24OQUH+oP5RKq4HWQ/GnbiuV4KH2\n",
       "5kJBIaANKoogGtRTWiWCh1KqxIoeKpQiCjaCOG933/4kodHEPggzb+e9983MN/NeAP7DOJiBlR1i\n",
       "cKVOPqwLf6KwmSn3fC6iy0CssL0iUiaAX9VleP2pwgtelwlQb8hNam3hBW70QCuA9yWd78kaykX4\n",
       "4DD4ziq/P44QEpD9SfJlvrziWQ07cnInRLiRYXRhEWCMuDJQEoCLFk8Wqp0W3pOEgVFU+nWixERJ\n",
       "ALcMjqHPZ3g4HY1mKECjH5WdmK9UPH6zNI7fUqV1SpftW2wRNPKo1ODvp6JcKA2giWR3d/1aOhfm\n",
       "7SmKNKNyCIM8DjBkdsZCXq/kdeeLJFUV/O2N+RfpvDJmA/D2ELiwDLAPBOuuemnIx5uPzulLraKU\n",
       "NTELj+iXL+j0OmDNCuFtJK+JftVoCmEzAJM2LeSr8LQhzYiQkpybhE7NwV4IUG57ANgsuCW6omUB\n",
       "h0Hyq+AwUSYQQEy7rQQskVJ4EgcEmEk7AcAziAjCD6s6P2GlDsCETBeM2ct0WzuNwJNpRW287jO5\n",
       "vb7VqRWkfQhA0gIQ6rvwGO6SCtwSuGnAg+hhEp5bfWEH4O+SyMIk6qFjeMI5jvQ908cE/aADNAQt\n",
       "gDtymOSlYg44W046ESABXV7KLSvZALjIdqOK4EE32oJcNzFIvsy4BsCe6LUR1wBt+iVThRG46Dk1\n",
       "2obzoul4v+2qgMlK2WiVgES6niF3tyvERtoURZEY8cY7G0A11GnymYQcBELGMeie0LFxdIMJcPuy\n",
       "al52Mn/9l9bJOMWvEzF+BkVAdSUq9RR5j6gmgLAEI3Hy9qYcVeQK5TbJ/qtR5/M8Z/ITCx+AMdWt\n",
       "ToMo6xykbCRXcd+R2fZdqNZafcAmi/W6kDUbtuP+HmhJcGdwzzXSaG+S400WQPPW2jSMntRimzJf\n",
       "eG5VMQBfzpupFziDHEB+d3JX8vafLgbglh1Tb4G3m19u/71iALM5AcE/AniL/B/6m4eMXdb6sMhm\n",
       "FVZ+/AEOlsGXnbCBLwAAAABJRU5ErkJggg==\n",
       "\" style=\"display:inline;vertical-align:middle;\" /></a><br>(see <a class=\"ProveItLink\" href=\"../../../__pv_it/theorems/16919806662320df92757262f4d2e57cc3ca0f070/dependencies.ipynb\">dependencies</a>)<br>"
      ],
      "text/plain": [
       "exp_real_closure_base_pos: forall_{a, b in Real | a > 0} (a^{b} in Real)"
      ]
     },
     "execution_count": 2,
     "metadata": {},
     "output_type": "execute_result"
    }
   ],
   "source": [
    "%proving exp_real_closure_base_pos"
   ]
  },
  {
   "cell_type": "code",
   "execution_count": null,
   "metadata": {},
   "outputs": [],
   "source": []
  }
 ],
 "metadata": {
  "kernelspec": {
   "display_name": "Python 3",
   "language": "python",
   "name": "python3"
  }
 },
 "nbformat": 4,
 "nbformat_minor": 0
}