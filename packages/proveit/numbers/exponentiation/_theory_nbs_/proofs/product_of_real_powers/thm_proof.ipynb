{
 "cells": [
  {
   "cell_type": "markdown",
   "metadata": {},
   "source": [
    "Proof of <a class=\"ProveItLink\" href=\"../../../../../_theory_nbs_/theory.ipynb\">proveit</a>.<a class=\"ProveItLink\" href=\"../../../../_theory_nbs_/theory.ipynb\">numbers</a>.<a class=\"ProveItLink\" href=\"../../theory.ipynb\">exponentiation</a>.<a class=\"ProveItLink\" href=\"../../theorems.ipynb#product_of_real_powers\">product_of_real_powers</a> theorem\n",
    "========"
   ]
  },
  {
   "cell_type": "code",
   "execution_count": 1,
   "metadata": {},
   "outputs": [],
   "source": [
    "import proveit\n",
    "theory = proveit.Theory() # the theorem's theory"
   ]
  },
  {
   "cell_type": "code",
   "execution_count": 2,
   "metadata": {},
   "outputs": [
    {
     "data": {
      "text/html": [
       "Under these <a href=\"presumptions.txt\">presumptions</a>, we begin our proof of<br><strong id=\"product_of_real_powers\">product_of_real_powers:</strong> <a class=\"ProveItLink\" href=\"../../../__pv_it/theorems/f54b33fa1444c3c96a061041a319fec5924784480/expr.ipynb\"><img src=\"data:image/png;base64,iVBORw0KGgoAAAANSUhEUgAAAUcAAAAcCAMAAADFqY3ZAAAAOVBMVEX///8oKCgUFBQNDQ0QEBCI\n",
       "iIhmZma6urrMzMxUVFQiIiJERETc3Nzu7u6qqqp2dnaYmJgyMjIAAAArQGDrAAAAAXRSTlMAQObY\n",
       "ZgAAA/tJREFUaN7dWYmypCAMdHcBuQ///2OXS1CCqPOs2nGpeq9SM22HaQJJcJr+lzE790LqLxyG\n",
       "vJH6nw06QysOp69S4Ls+N9Tsx2RfIiODVhqLvLxP2U2nG2rxY7LvGE5BK8m6YMzU2QbFOMSPsffW\n",
       "bkMtWq67ZN8xCIZW3l9cTfjkHOPzRFE01B2nW2oBuBJZzUT2BbrKRQFr3XBeVzvOqySIQKMytxLH\n",
       "lloArkRm9ME++fKcDFIo8lmHjM8qpOt63PGaqZnzA4V/dsuVyOQqsBQv2NZ19qjNziE+kb6aLri+\n",
       "4XVLLTpZLZKtYWj0q7d1OKXsSSi4UCiRui2vji21gFyJzBoVhuQvCEeLoFXLIGPOloFgi5P+GN2q\n",
       "tSq1gFyZbBFhcPMCHYkDliSGYKTG8kHIvJxngy51L44TGYtZR1ysYh/qNefRl3Hq2GCwtEK01oz8\n",
       "vN0wa3QhdKE1ebnNIOPnujomsjk8qgbqaGEYZ/ggUWqOBSNu0B71EKPjidB43PgH2/TrWGMpZPuH\n",
       "XY2iPkQu88lKH1DL7rEdycLJiEHxqLQhxH+qqPCTos60veYKwJP/yqiOkAPEQEfJcpmbEuXuwCeN\n",
       "RSKCA99qqSdAF6JOdTyi7kmeyEJjA7KMFVqqwGRlVFCbJuEXQFTJKljFjxADHcOy+anRTnFTd122\n",
       "kCjYRvESuX3IeTweUh/Go3Sl51cEM1c2ezwlqKbbgF57zQJYVTJt4zlA7HUsTpNDk9wEf7xZHMH2\n",
       "lloCWC/DWOlC6Kb+252PbPzcQf+dyIRkaXUUp/7DXbvow0j2ek037VQihLSN5zFir2NxymLh8Mf/\n",
       "2TyLdlcxsbfUEgKWuUnLYx27kNN8fYEakGmSt3X4qZTHEClJQu2Jcq9ZAV4lwhif2yb2GNHoWJwm\n",
       "rN4sMWrvIlBjxdn4PWxOmmMAsaf14wVqQLbg2mzhENmUx9jwXFJT2uk1KyBEm8R2bhu2Y0SjY3Ea\n",
       "w0Cs4RC8todYjaJsKYYxlQwPDrs+5LyfuUANyKzKk/dBIGzIDbXiIDnPqn2vyXa7VlOj2sbzELHX\n",
       "sToN9wC/f+V7gG6+jqvYWp9dYz55jQ3IfOVJlzkc7oZuqnoak8ckQyZde80KyFWNmRKgNJ49RDce\n",
       "i9O15lkvo0D9OBEDrU+GWh683IJkM8Mak/iTRCk5lM9nIjQ9NMRh6TVXgObG15aK+E4tAmrj2UH0\n",
       "dNw4TTVPFtJ03i5RBK2PGvUnXwaMyXA+3HadyS1AFzGsH/VpkDENrQ8Gpw/qeJvstATQl1819XU8\n",
       "b91r/6p+0OfbJy9l7pPZHwPGOtoLIaYJtG5fYz55Zf1v778/f7GuZ2jddf7kGxTygtcx7xl/AYk+\n",
       "MzrmCNogAAAAAElFTkSuQmCC\n",
       "\" style=\"display:inline;vertical-align:middle;\" /></a><br>(see <a class=\"ProveItLink\" href=\"../../../__pv_it/theorems/7d2a6747e3b42b08c15dcf4985bb09426e125eca0/dependencies.ipynb\">dependencies</a>)<br>"
      ],
      "text/plain": [
       "product_of_real_powers: forall_{a in Complex, b in Real, c in Real | a != 0} ((a^{b} * a^{c}) = a^{b + c})"
      ]
     },
     "execution_count": 2,
     "metadata": {},
     "output_type": "execute_result"
    }
   ],
   "source": [
    "%proving product_of_real_powers"
   ]
  },
  {
   "cell_type": "code",
   "execution_count": null,
   "metadata": {},
   "outputs": [],
   "source": []
  }
 ],
 "metadata": {
  "kernelspec": {
   "display_name": "Python 3",
   "language": "python",
   "name": "python3"
  }
 },
 "nbformat": 4,
 "nbformat_minor": 0
}