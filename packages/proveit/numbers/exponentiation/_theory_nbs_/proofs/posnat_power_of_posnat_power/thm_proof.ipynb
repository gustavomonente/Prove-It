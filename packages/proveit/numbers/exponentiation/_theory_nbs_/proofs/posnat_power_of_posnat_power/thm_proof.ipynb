{
 "cells": [
  {
   "cell_type": "markdown",
   "metadata": {},
   "source": [
    "Proof of <a class=\"ProveItLink\" href=\"../../../../../_theory_nbs_/theory.ipynb\">proveit</a>.<a class=\"ProveItLink\" href=\"../../../../_theory_nbs_/theory.ipynb\">numbers</a>.<a class=\"ProveItLink\" href=\"../../theory.ipynb\">exponentiation</a>.<a class=\"ProveItLink\" href=\"../../theorems.ipynb#posnat_power_of_posnat_power\">posnat_power_of_posnat_power</a> theorem\n",
    "========"
   ]
  },
  {
   "cell_type": "code",
   "execution_count": 1,
   "metadata": {},
   "outputs": [],
   "source": [
    "import proveit\n",
    "theory = proveit.Theory() # the theorem's theory"
   ]
  },
  {
   "cell_type": "code",
   "execution_count": 2,
   "metadata": {},
   "outputs": [
    {
     "data": {
      "text/html": [
       "Under these <a href=\"presumptions.txt\">presumptions</a>, we begin our proof of<br><strong id=\"posnat_power_of_posnat_power\">posnat_power_of_posnat_power:</strong> <a class=\"ProveItLink\" href=\"../../../__pv_it/theorems/96326bb51f8424fb79144a6dd80e34671ce4ca860/expr.ipynb\"><img src=\"data:image/png;base64,iVBORw0KGgoAAAANSUhEUgAAASUAAAAXBAMAAAC/jERWAAAAMFBMVEX///8QEBCIiIhmZma6urrM\n",
       "zMxUVFQiIiJERETc3Nzu7u6qqqp2dnaYmJgyMjIAAAAcRTyBAAAAAXRSTlMAQObYZgAAA2NJREFU\n",
       "SMe1V01oE0EUfk2zaXez/bkoighphdqDh0AuHlpMEfUkpAX/QGgIFlE8BKugKBJ6kK31sChoqZZu\n",
       "W1CoWoMSNFIhNHqpIAsqtkWloBUUqTkoiHrwzc7MZrOZkAbTB6+8vvlm3zczb96bAKydNHT2bPG0\n",
       "RWy7DKgk5L9llCkJ0mXWHPdEwa9TWxdyYiAOSaO1RAbeV42SkqBKZGQrNIVrMwDHqG2IJnDQJIP4\n",
       "kPkLMvC1apwadaqWxKAb6pIA05bdJZ7BQN06hSi4ScPolhNV4/SKqSXroB3GJAA1QOwOSTiDgzhk\n",
       "FheFO6omq8bpLFMicg6XPq/i2puJfSolmmCDOGQcM2tuaup61SjJcaqWeKPwBa7NofWJ2NtM0Yw8\n",
       "iEEawwC/NO38KiNmyvo9QapwNdviSOmseF4hiImK0/sABlfJKVjWX29S9W6E7w7Ah7z5coXIR2uL\n",
       "CkG8OGCS77RSvUqcyC0jOm7CdgfgkXCaC8TEj0dfB56Cg/ZfPhpzwaT+Z9ASLeZU7K8JU91hwEkH\n",
       "sFfIyQXiH83h+Zl1dsGbCZnKQUP65sTcyXbCY9WoNbKh/lCyjJ9z2gDKz7KcXCAHJ3lpP/93Pj0F\n",
       "DTcBZpzHOzRiwNNAUHWdndjPzk75C/6cA7zHnU+fyQ64QPwikms7eAT/TLYtg5d8exeWCJkUvjet\n",
       "wdY+km4oqdSVfGzaK4v9jhxX/oBvKS3McUcbcoEcOQ4PkZhyWvoNjcS1uECHXm+G9UYb64cp9d7h\n",
       "PCerVxb7+UUmOgBvo47K0SE8OxeICWmQ0ISVvzYoxbENojyhzOWJOPzAbylWvBRksnZsq1cK/Hzj\n",
       "id5qPRQL5+MsCzm5QLxjWu8WrFs1SXwuHNA0LXBjHx3yBaRmOAfSGU0bwNij5CJEeNfsEvrdvSV/\n",
       "SvEKWsFtbtzX6xcNn7V1E/gNcoMinoSci0CU7oe3x9k1sVcK/EU92D7RQAWcZu26ovfuBZWsV+6I\n",
       "wKx8CcZwpxoSGXhuJRfAO4YcNmivdPt5kutUC2S6kgeYXcC9sQedAEPEvLtyMSJtgt34DJJPGFCP\n",
       "t9t7IQw+huxO0l7p9gvedLYMVsDJvSAP5hMr5nlnO+aNU5Il/MVvX/t26xVwWig5ki454q8kQFXF\n",
       "LP1jZO2D/wPs2RNp/nSwHgAAAABJRU5ErkJggg==\n",
       "\" style=\"display:inline;vertical-align:middle;\" /></a><br>(see <a class=\"ProveItLink\" href=\"../../../__pv_it/theorems/c8e52a51a27ae94e318eda316384e7553fa631860/dependencies.ipynb\">dependencies</a>)<br>"
      ],
      "text/plain": [
       "posnat_power_of_posnat_power: forall_{a in Complex, m in NaturalPos, n in NaturalPos} ((a^{m})^{n} = a^{m * n})"
      ]
     },
     "execution_count": 2,
     "metadata": {},
     "output_type": "execute_result"
    }
   ],
   "source": [
    "%proving posnat_power_of_posnat_power"
   ]
  },
  {
   "cell_type": "code",
   "execution_count": null,
   "metadata": {},
   "outputs": [],
   "source": []
  }
 ],
 "metadata": {
  "kernelspec": {
   "display_name": "Python 3",
   "language": "python",
   "name": "python3"
  }
 },
 "nbformat": 4,
 "nbformat_minor": 0
}