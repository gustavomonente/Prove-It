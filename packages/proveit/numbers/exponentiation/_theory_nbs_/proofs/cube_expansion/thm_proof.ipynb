{
 "cells": [
  {
   "cell_type": "markdown",
   "metadata": {},
   "source": [
    "Proof of <a class=\"ProveItLink\" href=\"../../../../../_theory_nbs_/theory.ipynb\">proveit</a>.<a class=\"ProveItLink\" href=\"../../../../_theory_nbs_/theory.ipynb\">numbers</a>.<a class=\"ProveItLink\" href=\"../../theory.ipynb\">exponentiation</a>.<a class=\"ProveItLink\" href=\"../../theorems.ipynb#cube_expansion\">cube_expansion</a> theorem\n",
    "========"
   ]
  },
  {
   "cell_type": "code",
   "execution_count": 1,
   "metadata": {},
   "outputs": [],
   "source": [
    "import proveit\n",
    "theory = proveit.Theory() # the theorem's theory"
   ]
  },
  {
   "cell_type": "code",
   "execution_count": 2,
   "metadata": {},
   "outputs": [
    {
     "data": {
      "text/html": [
       "Under these <a href=\"presumptions.txt\">presumptions</a>, we begin our proof of<br><strong id=\"cube_expansion\">cube_expansion:</strong> <a class=\"ProveItLink\" href=\"../../../__pv_it/theorems/ee545393172b7b384d0723c0fea8ee8deea7cdd30/expr.ipynb\"><img src=\"data:image/png;base64,iVBORw0KGgoAAAANSUhEUgAAAMkAAAAcBAMAAAA5G4aqAAAAMFBMVEX///8QEBCIiIhmZma6urrM\n",
       "zMxUVFQiIiJERETc3Nzu7u6qqqp2dnaYmJgyMjIAAAAcRTyBAAAAAXRSTlMAQObYZgAAAsRJREFU\n",
       "SMe9Vk1oE0EU/kiTbLLdjTnoyUtsoIdSNCCChxSCIuKp8eDPQUgpisSDiAdBFPEkG1TsQaig0iVC\n",
       "kSAaKCKVHqTeImIKgj9oXUQPipYgFDSC+GZ3Z//czS4pdWCSybxv3sz7vjdvAkRqUv4E1r+NYec6\n",
       "ek+UjO8iPvTrIhYOOWiN+o4lPhEK+coH4qa++XgeBhjI8dHW3D/GdDt0g8Ep+hBUQGO/3gegZtQe\n",
       "jN2NEEeVCVMAnrmI8bSnjg2bXuOXCLvcZzF3gBvs+2IAaLOtyoyXH7kQ5Z4xos8BGSJFavpj0l0+\n",
       "Oosl1WMUpiLsImYNsuVWozEdgJGzfHRktOo1TkdKsE/Ut1D/qSjng1KMUkMcqu5a9DPmqdeHr49a\n",
       "yedGmiam7DjRcAyoBeySIr3u4VXugkXzit50Ra6S3yfyaUHjRheSm5ZpXCkDuyFqrhy/cnzSHGbo\n",
       "2rbwQt3ndwTSVFKlbpzJI7IJC8kU5KZHLD2pTAmI8fQRF7a3xcNq4hsXuMCWKP6BbmTOU0Z2PtBg\n",
       "I8U/sE0VZqVdpLbAF76eb0C+BSzwWHRqfgTuAmwwVBGMWmUiz8A2VcxY0horiYs7hstx5nTPQ5ri\n",
       "urDFiVVH+hu6TJiMGZTbBXzVeQrDtJeNGKm1o1QF1JNCKcOm376xgUkK+nGsgxG/WEj9QXUbreQT\n",
       "LiQ3LZs5hrlTdAx8B+7o2HnH05BF/Heq418WKUfHm9dw26rwLiQ3Fakv2QT+Ag4pipK7ecDxNHQh\n",
       "To7k/WspcTE7VB+z/LqR3PSZF1qZBZToJJDUb2LdTExL4YAWrcIQT/hoVVxJkyAxvdLFMqwbXOzh\n",
       "IHK1FK1qOPtysQVc1q/wyiUrcfb38lCLWPllz5McI11cE8lmDw9RXjF2EqEcRqvWwxjhRZaZdu9C\n",
       "YXNr/7MV+EQ6SmdpzbsMqPhP7S/Rzrj9BMr7kAAAAABJRU5ErkJggg==\n",
       "\" style=\"display:inline;vertical-align:middle;\" /></a><br>(see <a class=\"ProveItLink\" href=\"../../../__pv_it/theorems/be62cc5121c3ecfde2d2c15fcd09f9c17394948d0/dependencies.ipynb\">dependencies</a>)<br>"
      ],
      "text/plain": [
       "cube_expansion: forall_{x in Complex} (x^{3} = (x * x * x))"
      ]
     },
     "execution_count": 2,
     "metadata": {},
     "output_type": "execute_result"
    }
   ],
   "source": [
    "%proving cube_expansion"
   ]
  },
  {
   "cell_type": "code",
   "execution_count": null,
   "metadata": {},
   "outputs": [],
   "source": []
  }
 ],
 "metadata": {
  "kernelspec": {
   "display_name": "Python 3",
   "language": "python",
   "name": "python3"
  }
 },
 "nbformat": 4,
 "nbformat_minor": 0
}