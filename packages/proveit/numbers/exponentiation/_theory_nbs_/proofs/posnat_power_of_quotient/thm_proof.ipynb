{
 "cells": [
  {
   "cell_type": "markdown",
   "metadata": {},
   "source": [
    "Proof of <a class=\"ProveItLink\" href=\"../../../../../_theory_nbs_/theory.ipynb\">proveit</a>.<a class=\"ProveItLink\" href=\"../../../../_theory_nbs_/theory.ipynb\">numbers</a>.<a class=\"ProveItLink\" href=\"../../theory.ipynb\">exponentiation</a>.<a class=\"ProveItLink\" href=\"../../theorems.ipynb#posnat_power_of_quotient\">posnat_power_of_quotient</a> theorem\n",
    "========"
   ]
  },
  {
   "cell_type": "code",
   "execution_count": 1,
   "metadata": {},
   "outputs": [],
   "source": [
    "import proveit\n",
    "theory = proveit.Theory() # the theorem's theory"
   ]
  },
  {
   "cell_type": "code",
   "execution_count": 2,
   "metadata": {},
   "outputs": [
    {
     "data": {
      "text/html": [
       "Under these <a href=\"presumptions.txt\">presumptions</a>, we begin our proof of<br><strong id=\"posnat_power_of_quotient\">posnat_power_of_quotient:</strong> <a class=\"ProveItLink\" href=\"../../../__pv_it/theorems/7e0bf4a357c0fc367c41685222736b59f27255ec0/expr.ipynb\"><img src=\"data:image/png;base64,iVBORw0KGgoAAAANSUhEUgAAAT0AAAAyCAMAAAAZZPzOAAAAOVBMVEX///8oKCgUFBQNDQ0QEBCI\n",
       "iIhmZma6urrMzMxUVFQiIiJERETc3Nzu7u6qqqp2dnaYmJgyMjIAAAArQGDrAAAAAXRSTlMAQObY\n",
       "ZgAABXtJREFUaN7dW4l2pCoQZWYA2Rf//2MfIKiA0GobX5RzkvRSKZpLLbcKGoA3DD3cOJmk4FVD\n",
       "6x+ewGBDEMLx2WDfBB76cWMwAzQAQJGevgg+BX96BiERc39GmV7g+i3gSTh84YU7B0XOYeHpOX/v\n",
       "4PgrL9w3IAEAa0Dus/eb/Hbxp4iO6SbJygt3ue7ofrFBzegB9g7fZYXpoRTRBdYYQVknycILe6Al\n",
       "FYPHH2mz3jTxAvBMsYoByvTAvWHHjaxcemFzZCo+7dozTY8XKYSkB95QcHrXmo4XNtNRpqLaNvl4\n",
       "8MiYJz+ajAyHxTGUIIPzWmsvbIxCRYntiB6PHoYFmMmPIQ8rJBWsB/JsoaIY9vmUGeagWDpbhg6h\n",
       "fYXrUUerVJQVzuPzBhlNTizEvHTlDc4ClV6x6DB6pYqSxZiHo1fsP16ciTuwDKNgpmXmML+tVPTt\n",
       "/oF1Rg4JRCuGjBARFA2LqRwtrioV5eSOddsOSf/9YY/nvtRjIfDq6kC7kKjVHHIfR2DkiHMK1i30\n",
       "r86Rxm2WSNsn+AOTRpYKMOvHyJ+YPZncYoQP6hCoTt1RCYsfsHyjpR+CPbHIzQLdiPumcrV5jD7p\n",
       "jtyPJ7ZcCsLSr53k5fxs9LZOwwbyO5nzRTulswLiEzwtcLVdjSOdE+jz0OD/Q+7NSMMV9V31GYf2\n",
       "BAEgpJFu1fF7yf94tXfBEOz8L9SZWXFNGU07p/EHgc2gw7A/c0WRn1cq1vE+nwB7zzBu4aqm9nRs\n",
       "BbZxGTvDYg329lhnqcDVfbemzhlSaYzdO5Jwt8PEpp2z6oPAphbFgXZSWH5Gz66juwiYMW+bdZ3f\n",
       "Rm8Tjqv7mRN6wgJSbazhSkj/eY0IsKgETorUTYFNLcogj5n2poUxcz+qhV6WCvzGxDYRVF95rmx5\n",
       "bhb3jtSubDI5LmgMPBIjakkKhiEMkdiFFTNHRFR2BNYnfrMQUE5KoJQueraXJpgU6Oklr5uZOmuI\n",
       "DJ5uzr2+JwKnAK0SS5eMxE7YHLmNNFk2RkwCj01TYH3it8R/h7CWhuxAL05AA4/6535M/Eh1lxcV\n",
       "fE/fy/dSkyXtGsY+wAcbnJct8/5W6NvYtsD6xG8R8ug5w0sJoYdenGCCR4HF9iCq2fKwv2U0jFef\n",
       "YKdAaqKn+NASzp8IC1vvViIUyTbYn6Jj2hFYnfgtQgE9YVJy6qEXJwiuwJNP+hnq1av8Jb6mOpJD\n",
       "VkB9uLtcqugHUun3mBsf5pdtxBItvGsyKg9yU2B94kcz23MhMpoP6aAXJ6AuhP/94wO5aebcorWs\n",
       "825fwXz1ieP/qGL78gYp46yLVmQc/EfS8wIFDo+1szKfAF1UMrwnsD7xW4RMsBLTikwr9NIEia0E\n",
       "D8abfK8gIcW1giLO2ROt4Khi+/KGKgPpQJFCOGwon9+SLqVzX84Rb3OExttyLYHsxC8JDcwG+Ohn\n",
       "9OYJJrYS4dN6i60x265khxzLM2VuVNG4vKF7TRsUI1YG9yGBllAfvUXX58oK5z07vt4czb5uUM0q\n",
       "Ni9v0IMNQyW+FTiC3o56usgE2cmPpS5ULbuJT5Tns4rNyxvwYDvZfC1wAD2zg54VHE6unsrRyikN\n",
       "LnTicPszqti8vCF+z2WCsyVoQfGQLVLIvEJ0IuPOKjYvbzz/NLwMfACSzFMXSgZPuEWhonQX9nTw\n",
       "qgJiuY8dqNqQXBmdaUrmKvY2W580ymt0c34PBCU1YQQ842WZirrGfv4NtKr+8n2OaelDuoHnXzzV\n",
       "IFir+BRxHzrKKwKCTWZGzXIhnJ/jAmsVdUZ5w83b+ta3IKlTmZKkPNlcWaloVcCPH//LOhSU70BP\n",
       "QHL7nO/5tgtQ9xMvisFrBr47/RkOXjTovcT1Xd8wddZ377eb54zxH221QncU9UcOAAAAAElFTkSu\n",
       "QmCC\n",
       "\" style=\"display:inline;vertical-align:middle;\" /></a><br>(see <a class=\"ProveItLink\" href=\"../../../__pv_it/theorems/dd411aa822568650a156471963e3fb5f93bf2b410/dependencies.ipynb\">dependencies</a>)<br>"
      ],
      "text/plain": [
       "posnat_power_of_quotient: forall_{a in Complex, b in Complex, n in NaturalPos | b != 0} ((a / b)^{n} = (a^{n} / b^{n}))"
      ]
     },
     "execution_count": 2,
     "metadata": {},
     "output_type": "execute_result"
    }
   ],
   "source": [
    "%proving posnat_power_of_quotient"
   ]
  },
  {
   "cell_type": "code",
   "execution_count": null,
   "metadata": {},
   "outputs": [],
   "source": []
  }
 ],
 "metadata": {
  "kernelspec": {
   "display_name": "Python 3",
   "language": "python",
   "name": "python3"
  }
 },
 "nbformat": 4,
 "nbformat_minor": 0
}