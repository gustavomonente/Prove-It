{
 "cells": [
  {
   "cell_type": "markdown",
   "metadata": {},
   "source": [
    "Proof of <a class=\"ProveItLink\" href=\"../../../../../_theory_nbs_/theory.ipynb\">proveit</a>.<a class=\"ProveItLink\" href=\"../../../../_theory_nbs_/theory.ipynb\">numbers</a>.<a class=\"ProveItLink\" href=\"../../theory.ipynb\">exponentiation</a>.<a class=\"ProveItLink\" href=\"../../theorems.ipynb#nat_x_to_first_power_is_x\">nat_x_to_first_power_is_x</a> theorem\n",
    "========"
   ]
  },
  {
   "cell_type": "code",
   "execution_count": 1,
   "metadata": {},
   "outputs": [],
   "source": [
    "import proveit\n",
    "theory = proveit.Theory() # the theorem's theory"
   ]
  },
  {
   "cell_type": "code",
   "execution_count": 2,
   "metadata": {},
   "outputs": [
    {
     "data": {
      "text/html": [
       "Under these <a href=\"presumptions.txt\">presumptions</a>, we begin our proof of<br><strong id=\"nat_x_to_first_power_is_x\">nat_x_to_first_power_is_x:</strong> <a class=\"ProveItLink\" href=\"../../../__pv_it/theorems/12b0da8e0fcccc8b48c2c5366b07cf8908e6c3590/expr.ipynb\"><img src=\"data:image/png;base64,iVBORw0KGgoAAAANSUhEUgAAAIUAAAAcBAMAAAC9nWGEAAAAMFBMVEX///8QEBCIiIhmZma6urrM\n",
       "zMxUVFQiIiJERETc3Nzu7u6qqqp2dnaYmJgyMjIAAAAcRTyBAAAAAXRSTlMAQObYZgAAAftJREFU\n",
       "OMtjYCAOsDYwUApYjQvI1xwCpVlwmMFEhP0JBMxgSSBoBt8CAmYwnCVohhEDITPYgbY8ADHu4lDA\n",
       "+YugGUwGDAynQYxXOBTwGBA0g/MDA8MMEI0r8hk3EDSDoRoSajwbcMjPhwUpAzdOMywYGHhPrVo1\n",
       "HZf8RbiLzb8p4FCjCMQ/OjpqcJlhB/TEsZlKRlhTBlTCH+jWVAaGTlxmdAD9ydHEsH4CPJDfgQEo\n",
       "qGES8QEMDM4MXA+QU2bxEQZFWOJ7xsAQzf6AYX4AFvNhEvMdgImEgekCTHz1YVuGHTwLmGFBWczA\n",
       "sGC9A8N9bG6ESQApBp4L7DBh3u5ZCxj2KhjwwAQeA/F+BoY8rB6FSoDcwfkgDKjbNkgZ5C0g2Lp1\n",
       "EtyMNki4/uVCC48EBoREPCiwOlOAZjheYJwASfdbedbGwLRkALEMA/cvHmzugEqA4oVhMzD5zFJn\n",
       "4F/ABU7ZWxkOHEaKe84vDDwPrmJL5FAJcBriB6WeJAZHBtaKjo4moBlz4QEEtAOYyDlzsaVjmIQF\n",
       "OCRBjhFlsGFlSIC4gyUInl8cCBdTj5ByX8lWhqMg5hUGhjswYeYDBI3g+oVUpOlcYOAAOo2lzoGB\n",
       "DZ7gBAiawYteGGoAwwMFZBM0gz2AkIp1BM24Q1AFtwEBBZxE1F1bCMjDsxaFAACkm4UPVInbhAAA\n",
       "AABJRU5ErkJggg==\n",
       "\" style=\"display:inline;vertical-align:middle;\" /></a><br>(see <a class=\"ProveItLink\" href=\"../../../__pv_it/theorems/83af45bb3713c04c3388b5d310245a7a0729d8af0/dependencies.ipynb\">dependencies</a>)<br>"
      ],
      "text/plain": [
       "nat_x_to_first_power_is_x: forall_{n in Natural} (n^{1} = n)"
      ]
     },
     "execution_count": 2,
     "metadata": {},
     "output_type": "execute_result"
    }
   ],
   "source": [
    "%proving nat_x_to_first_power_is_x"
   ]
  },
  {
   "cell_type": "code",
   "execution_count": null,
   "metadata": {},
   "outputs": [],
   "source": []
  }
 ],
 "metadata": {
  "kernelspec": {
   "display_name": "Python 3",
   "language": "python",
   "name": "python3"
  }
 },
 "nbformat": 4,
 "nbformat_minor": 0
}