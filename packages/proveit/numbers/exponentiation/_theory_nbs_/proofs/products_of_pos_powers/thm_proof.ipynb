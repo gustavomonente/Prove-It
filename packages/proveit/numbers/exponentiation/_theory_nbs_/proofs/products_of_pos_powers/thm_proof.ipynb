{
 "cells": [
  {
   "cell_type": "markdown",
   "metadata": {},
   "source": [
    "Proof of <a class=\"ProveItLink\" href=\"../../../../../_theory_nbs_/theory.ipynb\">proveit</a>.<a class=\"ProveItLink\" href=\"../../../../_theory_nbs_/theory.ipynb\">numbers</a>.<a class=\"ProveItLink\" href=\"../../theory.ipynb\">exponentiation</a>.<a class=\"ProveItLink\" href=\"../../theorems.ipynb#products_of_pos_powers\">products_of_pos_powers</a> theorem\n",
    "========"
   ]
  },
  {
   "cell_type": "code",
   "execution_count": 1,
   "metadata": {},
   "outputs": [],
   "source": [
    "import proveit\n",
    "theory = proveit.Theory() # the theorem's theory"
   ]
  },
  {
   "cell_type": "code",
   "execution_count": 2,
   "metadata": {},
   "outputs": [
    {
     "data": {
      "text/html": [
       "Under these <a href=\"presumptions.txt\">presumptions</a>, we begin our proof of<br><strong id=\"products_of_pos_powers\">products_of_pos_powers:</strong> <a class=\"ProveItLink\" href=\"../../../__pv_it/theorems/3ef77ae4af202a710591324176fcab06a18a18050/expr.ipynb\"><img src=\"data:image/png;base64,iVBORw0KGgoAAAANSUhEUgAAAhwAAAAcBAMAAADYT3tmAAAAMFBMVEX///8QEBCIiIhmZma6urrM\n",
       "zMxUVFQiIiJERETc3Nzu7u6qqqp2dnaYmJgyMjIAAAAcRTyBAAAAAXRSTlMAQObYZgAABg5JREFU\n",
       "WMPtWW9oHEUUf7lL7s/+SfJBxRiE7R/TiFSOnLalTeMVUb/ppkhCSbFHNCpRQmgl0dgPIR/qtUU4\n",
       "LJyhH8xpscXrnxzGUgsRD0IEUxMuVjGWVM4q4j9iqQomijhvdm93Z3cvN3Q9zAcHbjI7O++9nd+8\n",
       "eW9+E4A1WKqXOAc+WvCki9vOf1ymOMdJEW+6pm7u8wKDL1UagZoYqR7XH37iFKrNGk1fqTGGrgA7\n",
       "JdYOilcPHuQzG6y8Q3QgJHH9YZlTqC5pOn68xBhDV4jpDrF2NPHUmoHjR1zstO4pN5rSXEL71vca\n",
       "7dkSXmfocsJhtTO7puDwK6RqKXrukC8CvRxSm9IbzG90R9DU5YSDvrOKp4DG5qtl4ajFP3K+YnCM\n",
       "ka8JrxQ/VZELe+/gkBqBr8x5u4dVU5cTDnzHiKfgUtFTV4dDylqcuUK5xMgTVTF/HIY4pG6BLUY7\n",
       "fN11SFFX39LXS0vGcmpP9J1VPAWj2BwuCwcdMlq5zdKIX17ME3Vp0uSBYwUa5R1X759U8eFl92hr\n",
       "6HJ6B767/MHlrumieIquuJQtHzvQgS5VDA26T8bSxj5eAC44huRh8V5oFHP4sM390w1dCED4CIym\n",
       "SaU94bt3C1XZyaJ4CuSZTOZ1jlC6mMm8018xOOR6Us0b2eD5HB8cHZ8A9Aj9fjyzwDr3zGLoormk\n",
       "AdqTpNKfyLuAegruK4qTzPJHIuF++pAYOOoSiVdynJPjHGcx4MeQ1oatY1PrNCcpA0e4tUULtv1i\n",
       "JChi4zFHZGN1uZw76NQmoD+rixM4egAOu+c+Bo6ACqEkJxwRvmEWAyEMTQk8DjXAL7Rn96+r7+Bd\n",
       "yVoaO4W4Lxa4mx5CaASZW8LyDTh1ucNxEjZCd1IXJ3A8CEKBA47qCJzjZUERPqpkMVCLEf478nsz\n",
       "z8YAwUUOV1y4E/y2BDAWs42z6Qqz3uVI9TEKRxB8tuNEZ2vMd5sdDuiHzcyo9z8aUGwsSNx/qE1x\n",
       "8w4bVbrQ/OQ1G94ocoD8HkjDfuvQcedSCX+j7AoEFbZ/3A6HXdfqZVyDQ8pbz5zCZDQvDs/Adim6\n",
       "NbrDCscsGJH09NROePsIPJGzsiDsVHLSWzAVPRDNlqBRmgGfBDMKY6AW4UAPvx2E35kg7kJFBjAp\n",
       "D8O4WsY77LrKHAQ1OMKFDkvnwsUMiJ/6MRravOMNg2DJR4+n4csc0Py2bO1UcvJZN+9YZg0QOK7k\n",
       "2diBug8RsP4C8TrXWubgQzuBSZqxA/cdty5THDnL4afIZHbu3uBrUjFCEJ/v2qM44QilCHxCS59K\n",
       "og0JB11kbZIWFoSdCMcZFzgsVIkaQDhYAwGMA88S/X9CoHCRB44s9IlsaLdnFm5dpjjCMUE2gbwr\n",
       "X9Xri2vURFRnPnfCIW4l1Sl1X5rSHPlskmVIBQ0Of9QFDgtVogYIHNEIY8BXr2f+Efgi7sjTNIBg\n",
       "RcNGkYoMSOyoeSejcdFVsszrjLaOhKTjm6Au5s/BCQ0OSYo44IAb5BeFThCoB51OMgyJdoKy5ZmY\n",
       "CxwWqkQN+PxPv8CG0uoVfX1Ort/THXOcAuPFasBY+u67UhvZUY5TqauukmWbDoeMTtYN7RDMQmci\n",
       "kVBENZwnHlNjg+MKpRZNUPNiIjESPq8yDIl2gvLxZrSvutEoPWuhAZ/02mfAGCBkDId5OtleA8/i\n",
       "xn3HrdAMYzXalZmowkOK632HsAyvZoBObbtCDwAGQ4prm+X8TAkapVOlgLZZxL22jd6K3pLzMh1h\n",
       "BTyLp0x62w0LEki4sHIM5Jz79U9DzW95oATw2DRIymjaYEjTGhzSGX0kZUp6ZaFK1AAmWtvU29Fb\n",
       "6j3Rnjh4Fk+ZV4U/QIqs7FHy8Mi3+mI74Xj4ng15COGpQpj7vgfaswZDwk7x4M9CVI8S5JVOl7RB\n",
       "RaqEBi7M5U602S6nUedzXuYTVMGzuONy0Ee2dtnLwWYSJrSSNRmS2Wl9ZbSKVMndgEYUznmZz6K3\n",
       "0LH4L9yVapnflW2ZhwKtZVClEmUCR0Zufjplr7B4xHnhKPF/FnmVvcgzyAofppX3PNw9e7u4RPHq\n",
       "wQH4v1jLPxVQwPdijZkGAAAAAElFTkSuQmCC\n",
       "\" style=\"display:inline;vertical-align:middle;\" /></a><br>(see <a class=\"ProveItLink\" href=\"../../../__pv_it/theorems/dc07cfd08177e354664a20d18e3880d5788d37d90/dependencies.ipynb\">dependencies</a>)<br>"
      ],
      "text/plain": [
       "products_of_pos_powers: forall_{m in NaturalPos} [forall_{a in Complex, b_{1} in RealPos, ..b_{_a} in RealPos.., b_{m} in RealPos} ((a^{b_{1}} * ..a^{b_{i}}.. * a^{b_{m}}) = a^{b_{1} + ..b_{_a}.. + b_{m}})]"
      ]
     },
     "execution_count": 2,
     "metadata": {},
     "output_type": "execute_result"
    }
   ],
   "source": [
    "%proving products_of_pos_powers"
   ]
  },
  {
   "cell_type": "code",
   "execution_count": null,
   "metadata": {},
   "outputs": [],
   "source": []
  }
 ],
 "metadata": {
  "kernelspec": {
   "display_name": "Python 3",
   "language": "python",
   "name": "python3"
  }
 },
 "nbformat": 4,
 "nbformat_minor": 0
}