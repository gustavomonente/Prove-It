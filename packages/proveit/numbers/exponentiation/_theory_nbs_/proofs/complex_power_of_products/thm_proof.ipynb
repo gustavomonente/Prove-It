{
 "cells": [
  {
   "cell_type": "markdown",
   "metadata": {},
   "source": [
    "Proof of <a class=\"ProveItLink\" href=\"../../../../../_theory_nbs_/theory.ipynb\">proveit</a>.<a class=\"ProveItLink\" href=\"../../../../_theory_nbs_/theory.ipynb\">numbers</a>.<a class=\"ProveItLink\" href=\"../../theory.ipynb\">exponentiation</a>.<a class=\"ProveItLink\" href=\"../../theorems.ipynb#complex_power_of_products\">complex_power_of_products</a> theorem\n",
    "========"
   ]
  },
  {
   "cell_type": "code",
   "execution_count": 1,
   "metadata": {},
   "outputs": [],
   "source": [
    "import proveit\n",
    "theory = proveit.Theory() # the theorem's theory"
   ]
  },
  {
   "cell_type": "code",
   "execution_count": 2,
   "metadata": {},
   "outputs": [
    {
     "data": {
      "text/html": [
       "Under these <a href=\"presumptions.txt\">presumptions</a>, we begin our proof of<br><strong id=\"complex_power_of_products\">complex_power_of_products:</strong> <a class=\"ProveItLink\" href=\"../../../__pv_it/theorems/2ffe56d9dd1c55381832055d10cf29a22df122410/expr.ipynb\"><img src=\"data:image/png;base64,iVBORw0KGgoAAAANSUhEUgAAAnQAAAAmBAMAAAC/nhspAAAAMFBMVEX///8QEBCIiIhmZma6urrM\n",
       "zMxUVFQiIiJERETc3Nzu7u6qqqp2dnaYmJgyMjIAAAAcRTyBAAAAAXRSTlMAQObYZgAABx9JREFU\n",
       "aN7NWm2IVFUYfufjzsz9ml0jpZ1FuO2WboQ2OaSRq42I9k/GYDUpcNhSSUQWKyn1x+IPGzNhKlKx\n",
       "j70qpK2WCyGyITi59KO1ZEwllZTBLDA/WszCXTU659yZc+7ce2fucXZH7oF5Z4Z9n+fOfc573vOe\n",
       "9y4Az5DGjctB3Yea9zSllGYWnh4X40Q1wgMYUz1OucBkAXil63oAygVjHqf0p5n1lnS7UqMR6QY3\n",
       "5YJCLRGHQdfJx+vek275qNAD3JRKvAZ6AvpAB2q9JJ0wPCr4VW7KaF8N9AQUImvVsF6SLpoeFXyY\n",
       "m7IhWwM9AQkjQK2XpOvJjipmb07SOSmXtqy8f34DdIl8vuQ16WaPbvdb549zUk7WW++f3wCdJJ9P\n",
       "ek26h4j9rAakjIIroqkFDsp+9NoIF6vziZY6moF6kkBtDMgFL7hLF61TvU9/7z/kQt21YF8H8CUD\n",
       "aQ7KEFL5YZhenW6f5TsD+ciZyrAxOI7f/nSXTsFbTFSv3ylsiCT2mhLe1yiN674+DkoJRcoINFen\n",
       "u2K9ewoKkUAzbAx24OnpdpeO+Oyo33oNkJxwqiasokFYP8tFeQxgnVr9dlVb0qQgP5kMw8ZIICl9\n",
       "HLkOR+bx+kkXJvfzTm0H80YQVuW4KHcBLPrR5ZfYIp+C5GFmY6AO9vZu59kmfu3t/bKOu0UDnmux\n",
       "xgtc5qaMJl3J7GpQkHCHWbTD3s5kNvBI15DJvFvHzlODhpcCvtmPBh51T6li+7SYyynMkZLjFNZq\n",
       "o6cg6R6z6O/LADY7Z5By6UIpiGTdHKuPasofxJt3BJlgE/zlTjUnGx1i31i1ceIGHr9VpFTdz/5b\n",
       "bfQMdJNZJN1csoM4Je5y6YJxvJO5OFYf8SpNjh58n2GUdHfl4Vm0KIxU7hB+EjETIWBK9oeBl1Km\n",
       "67cSNay30TPQXWaRdGHwW6q1xe1J/wSbdNAFUyyXOtz26iUe6eQ1m2ZrVDq2vOT3V3TSkw7eqnwo\n",
       "qTyvwxoQEuTXSv85hCee6MAIhDXTMcn58ORAKZSCqSI1KuGs9BQEfzOLpFPyYbPwRxJ5uXsQnrNL\n",
       "9xN0WRz9CgxqbtLtH5gFWk7ZzaS7WoRLL+nCNdt9PgISKmWDxrXWOmyAuPT1dcPBFLd0JkqmQiVq\n",
       "LJ2FvpJ0YmGRCX22vxfknwOQUxIzEjPLpPtcSFsckXTn82WODlXSlp06kk79CgYSbyT6Sk0ODFc/\n",
       "BThiXV3SXZCHqHQVM2MOjpq+vmDJdX9UpAy67+HrbfQUJN1lFm8jm19DNzjrxVb/pBROaGgdvbxE\n",
       "y9mjLrINTaA0bTWZDuKIpcs5RF3JCY+52CDpDtCow00OAp93CE0cFUMzcrp0B1Xr/a7S9cFqOXvq\n",
       "TEu8ZVnZNlHm5EDJt01Y6ClIvMcslu4bRKnOyftW+tPGSVVODZ5xkE6egcze1FIdQrrhiKRLxB2k\n",
       "I07FUTCkCySodLjJQeDnz5kriVyxCtgIv6RzZulIViLmIL1vdNpfq8DpiTBBn4S+tjsXJw6UgZwt\n",
       "u1mocSq20FOQpa4j5c/OydCQRB57DOkUJW6XjuzJCVgMwne64egPLH/TaZvATiUkkUubviJJpcNN\n",
       "DgL/tt+E8aWLK+OLliWdybKoW1syYZoxpM7Htz0m7u6CW0S23x2lc6KMpuzZrZwar34LPQUFbzGL\n",
       "pVNxhHTCQpwWFmcyGU1OifkuB+nOo1czoGkI64ajX/nwtJN0xKk4T29nMhtB+2EKkw43OQj8kw4T\n",
       "JlIoOzUFec4VIU1oJLWEs7MT5V6OI2HWQs9A6giztGQeD23QI0DIiDqYhyJRcOjXScOwtRdLFzIW\n",
       "rPyKXubInNSZF545gmYrbSzYQ4PozZg83OQg8MDuUimFF1Zj2VmdSzpfyt8tDqXw8d+xVHegPMbR\n",
       "w4lb6BnIYDRsSTpxCMXdWQUUfHdqEtRchVZnk3Arj6Ujjrg4KTnu0MX3iEFv2EmeCs0y+uP3hnTK\n",
       "AeqHmxwELran2K+SyVTS84rMI10PCgy1O1epVHeglAoctJst9AxkPOwwbEm6YBquwDYUGVvwYr9c\n",
       "DBYH6eY/2UqkI46HT+T2lJrYC/uEJliYFZqEZsNpmdQVQKs0guoRecM1KVGgfrjJgeFw4MYmmnqK\n",
       "x8NiDS/O+Fdzv8f5EM2Kq/QKB0knyghPP3CfhZ6ByNGuaG0Ndj/KQa4NdiydzZE2rmTjrUuOh/HH\n",
       "NpTr7H7262yqucGuVtLDTnmOq2FtOV0x0NEsszU9mxCemun8gIC18vG/tfiToSeq+VnGybHvxow5\n",
       "5WyTHbvHOir9lOf0s1e5Yz3GnLLZZD30RMxf8Dylv5FZT/3PyXjPU/ryzHpKuouep5xqsp6SLqJ5\n",
       "nFJsYtZb0klveZxybx+z/NLdzmj112571tuUW022LTPCieroyNZfOjHlaUopySx83JH6HwKgP7+F\n",
       "kC2LAAAAAElFTkSuQmCC\n",
       "\" style=\"display:inline;vertical-align:middle;\" /></a><br>(see <a class=\"ProveItLink\" href=\"../../../__pv_it/theorems/517df3fcfeb7f42bd7bf4bd1f74a0320eef522900/dependencies.ipynb\">dependencies</a>)<br>"
      ],
      "text/plain": [
       "complex_power_of_products: forall_{m in NaturalPos} [forall_{a_{1} in RealPos, ..a_{_a} in RealPos.., a_{m} in RealPos, b in Complex} ((a_{1} * ..a_{_a}.. * a_{m})^{b} = ((a_{1})^{b} * ..(a_{i})^{b}.. * (a_{m})^{b}))]"
      ]
     },
     "execution_count": 2,
     "metadata": {},
     "output_type": "execute_result"
    }
   ],
   "source": [
    "%proving complex_power_of_products"
   ]
  },
  {
   "cell_type": "code",
   "execution_count": null,
   "metadata": {},
   "outputs": [],
   "source": []
  }
 ],
 "metadata": {
  "kernelspec": {
   "display_name": "Python 3",
   "language": "python",
   "name": "python3"
  }
 },
 "nbformat": 4,
 "nbformat_minor": 0
}