{
 "cells": [
  {
   "cell_type": "markdown",
   "metadata": {},
   "source": [
    "Proof of <a class=\"ProveItLink\" href=\"../../../../../_theory_nbs_/theory.ipynb\">proveit</a>.<a class=\"ProveItLink\" href=\"../../../../_theory_nbs_/theory.ipynb\">numbers</a>.<a class=\"ProveItLink\" href=\"../../theory.ipynb\">exponentiation</a>.<a class=\"ProveItLink\" href=\"../../theorems.ipynb#nth_power_of_nth_root\">nth_power_of_nth_root</a> theorem\n",
    "========"
   ]
  },
  {
   "cell_type": "code",
   "execution_count": 1,
   "metadata": {},
   "outputs": [],
   "source": [
    "import proveit\n",
    "theory = proveit.Theory() # the theorem's theory"
   ]
  },
  {
   "cell_type": "code",
   "execution_count": 2,
   "metadata": {},
   "outputs": [
    {
     "data": {
      "text/html": [
       "Under these <a href=\"presumptions.txt\">presumptions</a>, we begin our proof of<br><strong id=\"nth_power_of_nth_root\">nth_power_of_nth_root:</strong> <a class=\"ProveItLink\" href=\"../../../__pv_it/theorems/14bdc414766ac1a8152e58a4b83d90e24ab2069b0/expr.ipynb\"><img src=\"data:image/png;base64,iVBORw0KGgoAAAANSUhEUgAAAOYAAAAmBAMAAAAirPo8AAAAMFBMVEX///8QEBCIiIhmZma6urrM\n",
       "zMxUVFQiIiJERETc3Nzu7u6qqqp2dnaYmJgyMjIAAAAcRTyBAAAAAXRSTlMAQObYZgAAA5dJREFU\n",
       "WMO9l19IFEEYwL87b+/P3q7ei0H0ciWUSH8OjvDBP5z5EL3E5UP1IHTYH/AlDvRBIUR8WpHChEgE\n",
       "cUFQsFIpDisUT69eLrCNhCLMFvvzEBSHFWQmNTu7e7e7t3u2O9A8zM3NfN/+Zr7vm29mAIjKW5vy\n",
       "dAJIi1u0q3GamNnE6/56+d1nSbpQulL3l1ranQlfCJlew6R9/8C8yZMxLwzaZ3oJjfsJ7DOpX0TI\n",
       "wJYDJmwQMctEKybb0FJlpfWCiOkK45/RvNmO1aE6iJzMNgmuQQutsRiITtKJoh3HG6bX0N0OMHII\n",
       "Kqzs7ErDM+n3syPmO1yXqwuq+INKDmAatdugyTJwRRiWgqHXEbMW1y+N3QwyeSXUU1aZKAflyAbM\n",
       "rCNmF667i7JTCAI56ExZaAW3gM1OTd12FkPf8IZJFvV/AE8CDgtWG3Qb4CfHXTMZSptrMJr2JjZV\n",
       "BK3sQPuJZWTlhTXcnzFPzrIQ0DsAlwH6TUQiFntS85Edqfaj9dyFV+EegPu9PjywXpBZ+SqV91JT\n",
       "EcJTbQZadMQMYKYPxUIWnvOnUETGz+OBOVNNRQjgN1ICt9b0VMcT2J8oZs5VX9zQMyXHoO0WA+CB\n",
       "w3g4EsOp35SpCOEwYARfvv9OpgEeMnwZn4l2RAvBTM9HBTcD2TATrY3WFTMV107AvGDNVIQwMyCe\n",
       "VTvZgREeFsIRxmDb14+mADHfCBa2BeqH9tsnjf6Uzx9FiEa2hf5LalJulvpSqSENc/n4wbhHakvM\n",
       "tD6GNtUYeoz2eU1hYN10laoQnuqDpJqUcSylmHuteaabv+qLlYPMjEZ0TCkYkGsi4Nn25wKamKg3\n",
       "Q+aFsEsqwkpSpjEnBelMnklJ95dxzCy70qmPIdiDv5UEuq2mSntKfDTdnqqQ57vkRV5JylQXx/Uh\n",
       "5qgUVHFFFp3L5ziOC7uZoVU8iUK5YZH7kiWzF5u/KOCknJDX6WnRbIgcBV7ZtsFWw/G0ZJ3jSxQm\n",
       "pMYgTspPpSZazZrSO8yPMSIDTFz2Z9aQDxfxHPzGw3m6dJYuVy9hclL2o7j39MTkhaFyZnZidTkL\n",
       "MCDlhJX0eKNee0YwPbP7SzNnDMm/GvlTW5S04Eb+NNH2J/R3E8Vfg6WZi6XHg6WH2ZCTE7Cx9DC7\n",
       "y9Nh2wlzH9md+qiTp1yIjOmKO9ARyJis+H9soyt99t8be0mZk7aNOzlLygx029W4Tvy2h1t2X+bS\n",
       "reIvvs71qFP7OkEAAAAASUVORK5CYII=\n",
       "\" style=\"display:inline;vertical-align:middle;\" /></a><br>(see <a class=\"ProveItLink\" href=\"../../../__pv_it/theorems/a26218333db0d82a0a207fd5de59382507de24bd0/dependencies.ipynb\">dependencies</a>)<br>"
      ],
      "text/plain": [
       "nth_power_of_nth_root: forall_{n in NaturalPos, x in RealPos} ((x^{1 / n})^{n} = x)"
      ]
     },
     "execution_count": 2,
     "metadata": {},
     "output_type": "execute_result"
    }
   ],
   "source": [
    "%proving nth_power_of_nth_root"
   ]
  },
  {
   "cell_type": "code",
   "execution_count": null,
   "metadata": {},
   "outputs": [],
   "source": []
  }
 ],
 "metadata": {
  "kernelspec": {
   "display_name": "Python 3",
   "language": "python",
   "name": "python3"
  }
 },
 "nbformat": 4,
 "nbformat_minor": 0
}