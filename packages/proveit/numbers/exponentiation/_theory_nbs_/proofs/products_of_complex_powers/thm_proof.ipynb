{
 "cells": [
  {
   "cell_type": "markdown",
   "metadata": {},
   "source": [
    "Proof of <a class=\"ProveItLink\" href=\"../../../../../_theory_nbs_/theory.ipynb\">proveit</a>.<a class=\"ProveItLink\" href=\"../../../../_theory_nbs_/theory.ipynb\">numbers</a>.<a class=\"ProveItLink\" href=\"../../theory.ipynb\">exponentiation</a>.<a class=\"ProveItLink\" href=\"../../theorems.ipynb#products_of_complex_powers\">products_of_complex_powers</a> theorem\n",
    "========"
   ]
  },
  {
   "cell_type": "code",
   "execution_count": 1,
   "metadata": {},
   "outputs": [],
   "source": [
    "import proveit\n",
    "theory = proveit.Theory() # the theorem's theory"
   ]
  },
  {
   "cell_type": "code",
   "execution_count": 2,
   "metadata": {},
   "outputs": [
    {
     "data": {
      "text/html": [
       "Under these <a href=\"presumptions.txt\">presumptions</a>, we begin our proof of<br><strong id=\"products_of_complex_powers\">products_of_complex_powers:</strong> <a class=\"ProveItLink\" href=\"../../../__pv_it/theorems/4d22d672e8970be0acee7f5abe52a509d57487bb0/expr.ipynb\"><img src=\"data:image/png;base64,iVBORw0KGgoAAAANSUhEUgAAAhAAAAAcBAMAAADCc5voAAAAMFBMVEX///8QEBCIiIhmZma6urrM\n",
       "zMxUVFQiIiJERETc3Nzu7u6qqqp2dnaYmJgyMjIAAAAcRTyBAAAAAXRSTlMAQObYZgAABWxJREFU\n",
       "WMPtWVtoHFUY/rP3nUvSBxWjL1MrsSCFxRVbaqorUn10UrCxRMyytBSClFAh0dqHpQ912yosFNZQ\n",
       "xY4VW9ymdjEErERYXCKY0rJtEdMSYb0gXspaqoKJIp7LzJnLmZkddrOYB3/on50533/OzHf+88/5\n",
       "TgHWlEWaqwf0gwQe5z+z2ioCa6sxjt1ik690792jGcMh+yVolAkMtYTE7C/Dh0cmDwYbNd7NJNjJ\n",
       "HLLloFEmMJJtBUnYbifcwktrgIifmUOJcXtAC5ZGFuClVhCeCC58DRARVgyH8/RAKAVjAaII0Hg6\n",
       "zRsy5k4EF16CBv79dUsievEfud4FIk5qhsMPqciN5+8JEIWB7I1TnhDaF08EF16Ci5bE9CFCqqA/\n",
       "vVoXiKhZi3hPJpyFAwGiCFC35C1vCOprX/ObZpNNIb3iwkswhX/mWxJBIFPdWBr3MoesT+upBCIC\n",
       "A699em1kHl+86gmhffEZwYWXyCyT6W5RI3DSXOwCD8kVw9H1ugiBiMDAjxo9lTl8scUTYhKRPApT\n",
       "GnL0igsvgbxQLr8ZoFgulcsfjHeBCHmd4Uilf7EajAgMjKln4GF8sd4TYhIR7YehInL6lTMcfTX+\n",
       "LBTcdxOSjYi+QuG1Kg+qdvzRaBjueG09rUGtiDCAcZiBcZzMz2heEK+lwYUjIvYAHHF/RBsRMRUS\n",
       "RR6U6pSIRF53kX74ldzZ8Zv/SmXA03A/5PAzjar48nIT23c2CO3LnQhbOCLiSRAaAYiIpOBD8CKi\n",
       "hYbxa+7N6u7dun2tCy5gMstOIPr4Zhw4ByRpr0rcBzxDiIhDyLE9GB7MhO5yEgHjsMmCEfcffkwx\n",
       "M8KuYT7+fELxlTji63tzRtcp3T2uwX4r5jw/PcI/2DuBCOokgof42XlKhFS37huFuXRdzC/AVim9\n",
       "Of2olYhLwGrl2do2UKrSKailX0pXbBoGN71/FF6oeigkMoDwnBa9aWRESnd3g/CHrUC7SIgJ7JxA\n",
       "l4zgIb5bOkpEsrHTcnPxQhnEq2FcBB0Z8U7UeDL52AkNESGfMzNi2dp0vQpi1UMhkQHktwHmjBWb\n",
       "pU74G8RbQR7bBThaNGvED+4QP8PhWGsc2Y1eYNuODaEBFVcClLgjuxSeiEQJESc8tE9FVQUZImKa\n",
       "EcE0DG6KjKDiU/RQSGSA7bPmSo3lqRP+gljjQhAieKDzqxG4LzMcEzGDUl5+ot4zFspSSSGqC1/y\n",
       "RIibkTujjmpUnijVcJoRwfQNbpLPFb0VEhngxnVL2zrdHYKvstzHmBQK7Gh5IMYDrzjDXPvytCu6\n",
       "+uxDhe3EA9CXCVfhPUqEJKU4IuA2+peGYRDISymP7M0wIgx9Q5rEs0VvhUQG+MQyW5EV3Z2+b1cu\n",
       "w+3ksoabYPd4ILezdO3L07boRMg4sXIwBPEKDBcKBUVUk3WUJVEHETeIJhiA6MuFwiFQvtiEh1Jt\n",
       "+oY0JWdVb4VEBnjrWUvjHcy1bd9Cx+HsPOJO2Agno/QYS1Rhu+J6HiEswxtlyNKlMbvA6xvStFXR\n",
       "v/guCokMED5l2SYMMteuCSvQcXjJlKI5WJRAwpMpZ0Cuuh/M9Ed/r8M8JUKa1m9OaUzfkKbj8yAp\n",
       "ROHoziJxyADJQRU+M7ocYq5tuZKFjsNL5sHdT1BCU3wMXTz9vT61PBFPPbihDgm0dRAP3hTS+sIf\n",
       "qjB9g5tAuPzjHnxTlzm02ZA4eACYbh5myydWMVy7Flc7IoKEc0d1IbSEWx7VbUQ1wmoVU9+YTRV7\n",
       "syFxuAHIBt9jlx/MljorEUurdmYpFl20kli0/2ISh7MZ5to80ch3xAMND0qE7/9ryP435RadixnD\n",
       "tSnkOztAxOGRyQn436j9C/KwyPlOXuufAAAAAElFTkSuQmCC\n",
       "\" style=\"display:inline;vertical-align:middle;\" /></a><br>(see <a class=\"ProveItLink\" href=\"../../../__pv_it/theorems/208c52dbce164f77f997336582810ae4432ff1bf0/dependencies.ipynb\">dependencies</a>)<br>"
      ],
      "text/plain": [
       "products_of_complex_powers: forall_{m in NaturalPos} [forall_{a in RealPos, b_{1} in Complex, ..b_{_a} in Complex.., b_{m} in Complex} ((a^{b_{1}} * ..a^{b_{i}}.. * a^{b_{m}}) = a^{b_{1} + ..b_{_a}.. + b_{m}})]"
      ]
     },
     "execution_count": 2,
     "metadata": {},
     "output_type": "execute_result"
    }
   ],
   "source": [
    "%proving products_of_complex_powers"
   ]
  },
  {
   "cell_type": "code",
   "execution_count": null,
   "metadata": {},
   "outputs": [],
   "source": []
  }
 ],
 "metadata": {
  "kernelspec": {
   "display_name": "Python 3",
   "language": "python",
   "name": "python3"
  }
 },
 "nbformat": 4,
 "nbformat_minor": 0
}