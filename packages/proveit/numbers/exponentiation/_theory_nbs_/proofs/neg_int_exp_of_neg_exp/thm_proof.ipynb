{
 "cells": [
  {
   "cell_type": "markdown",
   "metadata": {},
   "source": [
    "Proof of <a class=\"ProveItLink\" href=\"../../../../../_theory_nbs_/theory.ipynb\">proveit</a>.<a class=\"ProveItLink\" href=\"../../../../_theory_nbs_/theory.ipynb\">numbers</a>.<a class=\"ProveItLink\" href=\"../../theory.ipynb\">exponentiation</a>.<a class=\"ProveItLink\" href=\"../../theorems.ipynb#neg_int_exp_of_neg_exp\">neg_int_exp_of_neg_exp</a> theorem\n",
    "========"
   ]
  },
  {
   "cell_type": "code",
   "execution_count": 1,
   "metadata": {},
   "outputs": [],
   "source": [
    "import proveit\n",
    "theory = proveit.Theory() # the theorem's theory"
   ]
  },
  {
   "cell_type": "code",
   "execution_count": 2,
   "metadata": {},
   "outputs": [
    {
     "data": {
      "text/html": [
       "Under these <a href=\"presumptions.txt\">presumptions</a>, we begin our proof of<br><strong id=\"neg_int_exp_of_neg_exp\">neg_int_exp_of_neg_exp:</strong> <a class=\"ProveItLink\" href=\"../../../__pv_it/theorems/3a092f8e1e5f67af9f03d2513fe38adeec5133a80/expr.ipynb\"><img src=\"data:image/png;base64,iVBORw0KGgoAAAANSUhEUgAAAVAAAAAcCAMAAAAA2xdIAAAAOVBMVEX///8oKCgUFBQNDQ0QEBCI\n",
       "iIhmZma6urrMzMxUVFQiIiJERETc3Nzu7u6qqqp2dnaYmJgyMjIAAAArQGDrAAAAAXRSTlMAQObY\n",
       "ZgAABDdJREFUaN7tWdlypSAUdGZk57D4/x874AVEBEWut5JMDVV5SegW27M1maZ/eBFrvzHdT1wa\n",
       "f2e6cjHOufwyrSjp2GTVo8+s06EUwU4Q/QY9/8rYo6xn1/LsB6/Tkewokv1UQS30qL4gxFobDTYU\n",
       "oTtJnNPlaG1+vqA45Zk07V2Iw+RfWtUiy5DZQecbMRzpDmgOmaBb4zLmvqDj6LeWXOIrgDjZJpzs\n",
       "xh+RHWWTgPwLLND/1EAHuERvce4E1epWFhWCjqMfare2kIqIuNx5Zte4sE9CsMc/TszpQ+YbTw10\n",
       "dI3LHC2XTFAZP7EUAyk/jn5rzSoVwtMmAnGrRhUS6vTRE+3vSZA9eYfmKquhMbS0GhB0HP1Mxp/P\n",
       "ba62mdeHhrlC4ncQ1S/oRleiscgENRr8krd7zAoYRr+zTJTn4rGU6TgXWlKddpC+UfozugKN5rzL\n",
       "L2tVuT+Svl5mFP1Wj4+9MHUDiTVGM3zE5FxyO3ljyqyCsjVshRwTtInucr6ndmc9JNLo8LFEzDAR\n",
       "IoT4PmGXs6C+Poy22dr0v+b2EyrNBCV464NVizkLjQXGdUHb6EpQKKEZZ1mDOGtlmK4lxaHKadnG\n",
       "X4RmAH4m3ApZbanRmtTB7SsqyQd7/yx0rCWgNMbmVfg1IGgM9g105nwjEVA/rlCruwQNZyOVYZHj\n",
       "bJDxr7tu4Og0hkbLyzW3e7O9oL60Hj+gEUqCJ3O6UFMxJAFSR2fONxEZuUqp+gRdZ0VYc2kuRghb\n",
       "CDqLtPVxQTu4DxEqbbxryBwqyRMWT7ppPTe08xCIWVo430REaBgyZF3QHXoi+kXiN/Pia4p9ysPi\n",
       "96pTyQi/V0NZir1r7njMzcsLyUjpUPOqaGRtWotHTGjg1FFD4XwTkQFzaF2ZoAnN1rnhj/sxga5M\n",
       "OLZvSrB4XZmte/buptRI5mvussu7D4B56W8hC1BAtQBNgkb05PsW5RXnG/aBOhN0j0Yq+/RzIWga\n",
       "+0LfWx/F2XQyu+HRua6DOx+MQ2Qv8cTJoVL+Mr3+D9r1JK9267Ypon2pQ6x0vonIhTk9EXSHjnce\n",
       "r+K1kEZAhEQGhhCVDJ0MYZYOCtrBXTilVzYeHOo2qjh/5TNLy5agAQ0+moQB2DvfjQgD2ubLUtAN\n",
       "zVwJ+/3LFzLT6PKxGV1Zz7yefPZ2FjXuQzOHqunWkXC1qh9+4WovXYjxNyWwOd+NyFkOWlxUiAp6\n",
       "d671OpM1E9h0GiCNPqknpC9eCpo7VBFmFcOY87CWs0tBCUMK+YGT+shMzlekoQdcIxWM1lM+oePI\n",
       "FBTVFYNA011Hn8GDz/670rCpIei+9Mcaemo9G8akk6g+h6rLDsJUzwXzdE/24cVpl6B9Xr6uSO8L\n",
       "1OWwN0JOdlwXmc/qafT0aUG778SqgpqOu1X12X+R37qNEtNDgj7wf/lxWRT5LoJiSG6Mczb9X8+u\n",
       "v9SRMx0dtkAoAAAAAElFTkSuQmCC\n",
       "\" style=\"display:inline;vertical-align:middle;\" /></a><br>(see <a class=\"ProveItLink\" href=\"../../../__pv_it/theorems/023df56dac79aac5c32e9561c9d0bde87db22b570/dependencies.ipynb\">dependencies</a>)<br>"
      ],
      "text/plain": [
       "neg_int_exp_of_neg_exp: forall_{n in Integer} [forall_{a, b in Complex | a != 0} ((a^{-b})^{-n} = a^{b * n})]"
      ]
     },
     "execution_count": 2,
     "metadata": {},
     "output_type": "execute_result"
    }
   ],
   "source": [
    "%proving neg_int_exp_of_neg_exp"
   ]
  },
  {
   "cell_type": "code",
   "execution_count": null,
   "metadata": {},
   "outputs": [],
   "source": []
  }
 ],
 "metadata": {
  "kernelspec": {
   "display_name": "Python 3",
   "language": "python",
   "name": "python3"
  }
 },
 "nbformat": 4,
 "nbformat_minor": 0
}