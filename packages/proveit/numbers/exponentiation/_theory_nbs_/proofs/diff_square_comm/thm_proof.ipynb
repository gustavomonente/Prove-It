{
 "cells": [
  {
   "cell_type": "markdown",
   "metadata": {},
   "source": [
    "Proof of <a class=\"ProveItLink\" href=\"../../../../../_theory_nbs_/theory.ipynb\">proveit</a>.<a class=\"ProveItLink\" href=\"../../../../_theory_nbs_/theory.ipynb\">numbers</a>.<a class=\"ProveItLink\" href=\"../../theory.ipynb\">exponentiation</a>.<a class=\"ProveItLink\" href=\"../../theorems.ipynb#diff_square_comm\">diff_square_comm</a> theorem\n",
    "========"
   ]
  },
  {
   "cell_type": "code",
   "execution_count": 1,
   "metadata": {},
   "outputs": [],
   "source": [
    "import proveit\n",
    "theory = proveit.Theory() # the theorem's theory"
   ]
  },
  {
   "cell_type": "code",
   "execution_count": 2,
   "metadata": {},
   "outputs": [
    {
     "data": {
      "text/html": [
       "Under these <a href=\"presumptions.txt\">presumptions</a>, we begin our proof of<br><strong id=\"diff_square_comm\">diff_square_comm:</strong> <a class=\"ProveItLink\" href=\"../../../__pv_it/theorems/3a6e8ad162a85e73d686f4284a224c2ed2dee7570/expr.ipynb\"><img src=\"data:image/png;base64,iVBORw0KGgoAAAANSUhEUgAAAQAAAAAmBAMAAADZ3ljKAAAAMFBMVEX///8QEBCIiIhmZma6urrM\n",
       "zMxUVFQiIiJERETc3Nzu7u6qqqp2dnaYmJgyMjIAAAAcRTyBAAAAAXRSTlMAQObYZgAAA+tJREFU\n",
       "WMO1WF9IU1EY/+7+OHd3N32wPxbRyvIpQuohCbNFiC8V66F/L22MIoISiYrMHkQhZmUsohQKvCWk\n",
       "SLhRRJmCK58qiEUPmVCNTEGtJWaQTlnn3Ltdz939s7OH+4HHeX/f757f+b7vfOc4ACr7AgYY66d2\n",
       "NcWNEAAHqD338DkcuMqdeU4+3MKDiTYE7IpcHm+gLr/5uVABiuovSu+CnEobwBfKS4AtZJ0HuMXT\n",
       "eed++Xno9OQnwGOfo1mZaBMUPkN8nkXgWACwLlC52ucpnM7luwVsbjR8p3I1U2xCriJfAcN4+EDl\n",
       "yriFOMS0Yokr5KNK4HQJTkExqpx47kbX6cVjjxrUswoNpwEsUYtXgaVhpSEC7IMavLYovMNPpnQF\n",
       "fBPGSVVsDP30ARwfeKEowsk0rDREsE4PXMMbPA4dOFhNugJ2gBQyhSVx/t2wPpXKRgRCUr1g3MCk\n",
       "UjO4x8+ACynnIroCLomdQw2y4H3EFqu3mjSs0lklgmMenG97e9v1i/APHtR9uHo8/lCD2iVYaRLB\n",
       "ikL0Lxi8oi9gFg9lOFVV29bIIVegLJLeUdlWJsGk3R7ewBMEdgngJECrFNGEWsCW8NiGD8WQa0aO\n",
       "hadY1KW+Sn+/T2AbyxBEmExZKfwGkoAWtxfYuLw7CMm5cSqQ2c+CgEakZB2YmxQNGL3iuVoEGiWY\n",
       "sAcxqASSsIiKBUzLHWMar3hwe4w9ylt/EnkCKEEdcUHsn6ywzATe+NXAolf41ASUSDDhv5sXeraP\n",
       "rC8uZltm4YCN9PeC8z7AYLYApgnC3uw2YEnqCBBhwlYD+zdbgD1+GH3oKh/Hc82W8xa8f2ueISA7\n",
       "BeEoDGXNsoTDArVZNTCRSYEIE+W0CA5cRbXEA1SCJ9CHC8LJaLpsqnBhYPQzwZpN11Q4AnUOeTuY\n",
       "w1klaoqwNgkmXpVEva+fIAiLe4o2q7nCirdsodsZ78LAy36CtpguT4Re5OSznIUWNFZpnXYiTFgz\n",
       "fPJHCYKQ3iJUWExEuCAyHrP/SDAYdN87RLBWghg1NrD57ib5C7u24BWOqwmolWDCHm08FvAQBMsc\n",
       "btqoM4RDhaPoVxHPRAqEK8BDNF/G66Z2KxYDW6/VinMSnJkSYUK+/dDB2/gR4LxCz/PC64zXK53D\n",
       "KH22qBgVgcucCpbAk11wMGI9gxJ0HT94nLjqlV/3WjXf16f+mIbgkt9Kxb5tQjUg77cxzQuJ3kw0\n",
       "hHBMcVVSsUK/7g3LqUGjIQzJuE4tQjEYZdV0/5klDROwls5tq1Hzmyhjy3gNEsDE6PyccYMEUIe2\n",
       "2Zj57aW0nt3G5KA7Qi21wRABbfSudwz5kgp/pfAfNPEfj3U2wsQAAAAASUVORK5CYII=\n",
       "\" style=\"display:inline;vertical-align:middle;\" /></a><br>(see <a class=\"ProveItLink\" href=\"../../../__pv_it/theorems/374a25cf910450f27d217019d29502807fe83c7e0/dependencies.ipynb\">dependencies</a>)<br>"
      ],
      "text/plain": [
       "diff_square_comm: forall_{a, b in Complex} ((a - b)^{2} = (b - a)^{2})"
      ]
     },
     "execution_count": 2,
     "metadata": {},
     "output_type": "execute_result"
    }
   ],
   "source": [
    "%proving diff_square_comm"
   ]
  },
  {
   "cell_type": "code",
   "execution_count": null,
   "metadata": {},
   "outputs": [],
   "source": []
  }
 ],
 "metadata": {
  "kernelspec": {
   "display_name": "Python 3",
   "language": "python",
   "name": "python3"
  }
 },
 "nbformat": 4,
 "nbformat_minor": 0
}