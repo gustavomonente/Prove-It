{
 "cells": [
  {
   "cell_type": "markdown",
   "metadata": {},
   "source": [
    "Proof of <a class=\"ProveItLink\" href=\"../../../../../_theory_nbs_/theory.ipynb\">proveit</a>.<a class=\"ProveItLink\" href=\"../../../../_theory_nbs_/theory.ipynb\">numbers</a>.<a class=\"ProveItLink\" href=\"../../theory.ipynb\">exponentiation</a>.<a class=\"ProveItLink\" href=\"../../theorems.ipynb#exp_nonneg_lesseq\">exp_nonneg_lesseq</a> theorem\n",
    "========"
   ]
  },
  {
   "cell_type": "code",
   "execution_count": 1,
   "metadata": {},
   "outputs": [],
   "source": [
    "import proveit\n",
    "theory = proveit.Theory() # the theorem's theory"
   ]
  },
  {
   "cell_type": "code",
   "execution_count": 2,
   "metadata": {},
   "outputs": [
    {
     "data": {
      "text/html": [
       "Under these <a href=\"presumptions.txt\">presumptions</a>, we begin our proof of<br><strong id=\"exp_nonneg_lesseq\">exp_nonneg_lesseq:</strong> <a class=\"ProveItLink\" href=\"../../../__pv_it/theorems/d73748e14ffed19202246a4c011b609e33a33a4c0/expr.ipynb\"><img src=\"data:image/png;base64,iVBORw0KGgoAAAANSUhEUgAAAREAAAAXBAMAAADelGYUAAAAMFBMVEX///8QEBCIiIhmZma6urrM\n",
       "zMxUVFQiIiJERETc3Nzu7u6qqqp2dnaYmJgyMjIAAAAcRTyBAAAAAXRSTlMAQObYZgAAA5lJREFU\n",
       "SMe9Vk9IFFEY/3Z2Zv/Mzq5eOoSXwYVtMbAlsQzKlgKlQ7pe0kNgWEZepIMSQYQHldUotgSTIppY\n",
       "MFgWWgpSI2LZS7GFDSRUYrFEERjBEgppl96feW9m1zUNmr7DvO9985t5v/f9ew/gf4m8tz/2N/Z/\n",
       "L3eM8X6sW6v0ntjnkFLAsw82umLIUBqgsyKA2F0JgJd4tmwfk0DCUGogZFp3mQEhdhk5ZApNvEP2\n",
       "MXnDfLMGV1NMf66aPqP2HOKMgqdk7GNykSk7pRWdat79ugVA7fcA/PlU6qZ9RLznmdayO0gJePtL\n",
       "Nk7tgSjAz3j8kn1MhAgKQG3fkRy3SNeiLDBBFa4b9aQgXC/A2DZ+ST4Xctntrc9xHrTfNLxVL/N3\n",
       "cZ6silgNewzdj1L2KEncTWQmfPoT1UhSL8FjMhHNzjBbghf7wIoDcKNI5OG1dswsmzqm3XYWIG7o\n",
       "PhRFNwh65U7wtEEXFMirJpMBqMIcpFEOeqaWfjTRa8EhcSBfanw9Im/zhqI5VPjBYlZEPtLdlf3x\n",
       "bi4FiMmizpnIq+BAe/SeYz0CPm7YxMQIxzEmwNcz2B8wlHZNWrUw8RZOIC0Z+oINucYQCqMYArcm\n",
       "RnDAEZMsZyKtgVsHuSnGkPWYCEGbB0h62MDx6ABfz5C2Xjo2g1DNwoprbOwM+sugtI4X1vrdaBNK\n",
       "ldYBAaBMGiImk3Vwq/J8lCFbycYJ2nKwpJcJzszYJ0IR6kqodA2TYRQ8pywZC48QHWdEwqQk+I7N\n",
       "t1ohDEnCxHl2AKw+cagdZLcEmR7maMvBUq8THK9O8Zen6C2L4iQpoH3QzuxO7Pkq9JEjI1B2a+R5\n",
       "EHqgMx6Pq4JyYwGseVIVVT4DR6avMDQ/WORwhuK41+WeumDlI3a69jDLuACm5kc+fZDwLJKqKEo0\n",
       "93eAi0bHd1Irq53kCHCk8M1AswNEfhEtqR2z21eUZn43YIoj0X0cprS7SkFBAwyKRVBiNE/yZsZC\n",
       "kPSJSdQJCRJvAwUJo73j5ACRm6ImruQErCCugrzCdN6DxZ6Hh6AjM72Qy6MBWsIogbDnZ+azyWaT\n",
       "ifCKpO9UHxAkaUkaQUs15ACRaAM1cCRlE2Vd6usFLBjn1j2sG5U3V6MHZOQETnkB5Yn5ruTi0GX9\n",
       "PUX7tropbRSxtnETvr6EMbiybRs+2/yHFD231e3xj/K+dOpng7iU3RaTWVRecY2iaTn6sGXc3otx\n",
       "xO6b92+jQhHxLo/pKQAAAABJRU5ErkJggg==\n",
       "\" style=\"display:inline;vertical-align:middle;\" /></a><br>(see <a class=\"ProveItLink\" href=\"../../../__pv_it/theorems/af13a12dbcb5a037dbbac7fbb3680bbc163328f60/dependencies.ipynb\">dependencies</a>)<br>"
      ],
      "text/plain": [
       "exp_nonneg_lesseq: forall_{a, x, y in Real | 0 < x <= y, a >= 0} (x^{a} <= y^{a})"
      ]
     },
     "execution_count": 2,
     "metadata": {},
     "output_type": "execute_result"
    }
   ],
   "source": [
    "%proving exp_nonneg_lesseq"
   ]
  },
  {
   "cell_type": "code",
   "execution_count": null,
   "metadata": {},
   "outputs": [],
   "source": []
  }
 ],
 "metadata": {
  "kernelspec": {
   "display_name": "Python 3",
   "language": "python",
   "name": "python3"
  }
 },
 "nbformat": 4,
 "nbformat_minor": 0
}