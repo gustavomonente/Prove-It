{
 "cells": [
  {
   "cell_type": "markdown",
   "metadata": {},
   "source": [
    "Proof of <a class=\"ProveItLink\" href=\"../../../../../_theory_nbs_/theory.ipynb\">proveit</a>.<a class=\"ProveItLink\" href=\"../../../../_theory_nbs_/theory.ipynb\">numbers</a>.<a class=\"ProveItLink\" href=\"../../theory.ipynb\">exponentiation</a>.<a class=\"ProveItLink\" href=\"../../theorems.ipynb#product_of_complex_powers\">product_of_complex_powers</a> theorem\n",
    "========"
   ]
  },
  {
   "cell_type": "code",
   "execution_count": 1,
   "metadata": {},
   "outputs": [],
   "source": [
    "import proveit\n",
    "theory = proveit.Theory() # the theorem's theory"
   ]
  },
  {
   "cell_type": "code",
   "execution_count": 2,
   "metadata": {},
   "outputs": [
    {
     "data": {
      "text/html": [
       "Under these <a href=\"presumptions.txt\">presumptions</a>, we begin our proof of<br><strong id=\"product_of_complex_powers\">product_of_complex_powers:</strong> <a class=\"ProveItLink\" href=\"../../../__pv_it/theorems/cbbdef7df6cbc6c05548c7849f57ac9650c068490/expr.ipynb\"><img src=\"data:image/png;base64,iVBORw0KGgoAAAANSUhEUgAAASEAAAAcBAMAAADcoBTvAAAAMFBMVEX///8QEBCIiIhmZma6urrM\n",
       "zMxUVFQiIiJERETc3Nzu7u6qqqp2dnaYmJgyMjIAAAAcRTyBAAAAAXRSTlMAQObYZgAABCRJREFU\n",
       "SMe9VktoE0EY/rvbNMlmN+3Bg1qEWF9FEEILKlo1Ih7VFLQqig3VqqiUorWIeig9yPo4BAUVFbpa\n",
       "9NCqCVbRimCw6KFqSUVQi0qsD0QliiBoFHH+2fdmk26IOrCTzL/fzHwz/+NbgL/elqcKAJem4d83\n",
       "PlgIeuAfsVhJHldI/u+P2wCYXDM/Ylc2Fqrg5oqQrkEZlEftvBPJMfUHdp6xUAU3v0S6D8qgsWqb\n",
       "5fWdKoCHOc7ydbqkMOKrArlQhbca8rABZTBDmmJ+6w7Vk06yncnsZYIKozZXBUXRxHhRHCFvhnRd\n",
       "6pad8NL8ei64yNb28e4JCCmZEdsBYYq6D4YLLya7tKQZB7PNrysp6y+2U0tCbKQl/SqdTpbEFdRJ\n",
       "/O0ojhFdrFIdZfS/huCFfbZTyyWc7NESYp8clHy8OEboMOo52vYKlgO+AZb6zq65padKrvlDEKQo\n",
       "YbCn50SRgT1MHqFCHTU8sLw+Nmsm6Sfb59qOhMLIW/NIklHfRXG/TWgUwmghBiamiLeuZqI55nXD\n",
       "iqxkOzYwWbF5NBuimgEOZm/CFsJIxEXRVYujfnMAGwyNYeyH0the03I4AT6DlRGilgCXysnImWq+\n",
       "wzAg5ZabhDmsNDy+0dAVssw6m9Riy6uHJEG5gUkacNerN47qjHTVvHGvPWBcz3dkS5P6fxeGKEGy\n",
       "GXCrIO43mA0xK6NFEuzMOhyi+KRbHXK3apMMD4MBvnZO7XxNNXsHFsD5Q7AhYYBxayTXJ3UeOsFP\n",
       "GJV0QCysGtvBbMi6o/HAfctOW4LyplSJhKf9PUAYjSS1O8IiIRw+JcGzBPgSBphwBuCWOu8AhgLx\n",
       "WiwBt80nNhgao3ocoZu5X+DLrpoUdXAT6bqnv4VSdBEySmiMUDWXYBSuI0eNynJIYUuvGby/FT8o\n",
       "SLzE4tDiMyq/0WDNNe4nlKX6rYwoqq+VvN7tyoAfZEa1QY0RqiYGt3BJWZfIIYWNPDMsg0WEqaAi\n",
       "1c5bVEszDFs374QnkYRdaYNyEnts0NUK3ZQRu7lNj2yimhxeia9XZoRySGE3+y0HKyU1m2uadnyq\n",
       "6R4MhqyafaFqbZM1tmSUIKEyMRFYLYpigOGPPsZaqqmma48odnqvhTUFo7DTq0xySaH526ij0qah\n",
       "YlHPiFQme823Xvc4qib9rpsXoBUGI53C2HPkBrTihZdfl38rLuOEkI4qiTYuAz4sx9Gg4l3vIaqa\n",
       "d2nFvwt84KSEckhh3row3NHECTWtPv9egqMPVh1V2nRlAcBhrJBDie6FykaVVDU9WJO4offNUB+n\n",
       "cogwuJg+oJUe2I7Jlv8Dwh12wsiKYkiAmOqy/FMtdiqGuC0M4DJyzi84zx2F0Vgoa7XwRXMAfZiP\n",
       "fXk/fB19FI6JSlq9nBN5FWmF8izFSk4YOUP97/YHy/8SR9RUU8cAAAAASUVORK5CYII=\n",
       "\" style=\"display:inline;vertical-align:middle;\" /></a><br>(see <a class=\"ProveItLink\" href=\"../../../__pv_it/theorems/16db1f94c443cc76898246b7602f90bf7e4d97980/dependencies.ipynb\">dependencies</a>)<br>"
      ],
      "text/plain": [
       "product_of_complex_powers: forall_{a in RealPos, b in Complex, c in Complex} ((a^{b} * a^{c}) = a^{b + c})"
      ]
     },
     "execution_count": 2,
     "metadata": {},
     "output_type": "execute_result"
    }
   ],
   "source": [
    "%proving product_of_complex_powers"
   ]
  },
  {
   "cell_type": "code",
   "execution_count": null,
   "metadata": {},
   "outputs": [],
   "source": []
  }
 ],
 "metadata": {
  "kernelspec": {
   "display_name": "Python 3",
   "language": "python",
   "name": "python3"
  }
 },
 "nbformat": 4,
 "nbformat_minor": 0
}