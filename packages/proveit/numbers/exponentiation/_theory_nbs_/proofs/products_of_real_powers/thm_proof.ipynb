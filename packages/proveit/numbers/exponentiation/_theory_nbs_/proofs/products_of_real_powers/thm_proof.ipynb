{
 "cells": [
  {
   "cell_type": "markdown",
   "metadata": {},
   "source": [
    "Proof of <a class=\"ProveItLink\" href=\"../../../../../_theory_nbs_/theory.ipynb\">proveit</a>.<a class=\"ProveItLink\" href=\"../../../../_theory_nbs_/theory.ipynb\">numbers</a>.<a class=\"ProveItLink\" href=\"../../theory.ipynb\">exponentiation</a>.<a class=\"ProveItLink\" href=\"../../theorems.ipynb#products_of_real_powers\">products_of_real_powers</a> theorem\n",
    "========"
   ]
  },
  {
   "cell_type": "code",
   "execution_count": 1,
   "metadata": {},
   "outputs": [],
   "source": [
    "import proveit\n",
    "theory = proveit.Theory() # the theorem's theory"
   ]
  },
  {
   "cell_type": "code",
   "execution_count": 2,
   "metadata": {},
   "outputs": [
    {
     "data": {
      "text/html": [
       "Under these <a href=\"presumptions.txt\">presumptions</a>, we begin our proof of<br><strong id=\"products_of_real_powers\">products_of_real_powers:</strong> <a class=\"ProveItLink\" href=\"../../../__pv_it/theorems/ad177c8c0314c9efc30be94349302dfda99de24d0/expr.ipynb\"><img src=\"data:image/png;base64,iVBORw0KGgoAAAANSUhEUgAAAjYAAAAcCAMAAABFwAV+AAAAOVBMVEX///8oKCgUFBQNDQ0QEBCI\n",
       "iIhmZma6urrMzMxUVFQiIiJERETc3Nzu7u6qqqp2dnaYmJgyMjIAAAArQGDrAAAAAXRSTlMAQObY\n",
       "ZgAABdNJREFUaN7tW42SpCgM9m4FQf59/4c9QEBABLS57p6tSdXMpqbpLxg+QkLcafqVV2VR6hsB\n",
       "n6IMf5xfKYuAXwn4FGX449QFr+tK/2J2oCVXnCg+2FIREIxAwZXl67O+6FUWIx92/btjCsK54mUb\n",
       "vVmKgAsegEKuh5Nu6xT/0qZ/87Jc8TTaAMBsJEHLgEK+jtJBm7b1X9r0CwS5EuL3yiZg8oFR3AmA\n",
       "uYPZI5R4Wh20aVvXtDmyZilH0GYg3lcJ3VimHP7WPJJqQmIeRBsHeCYCfICSTquDNm3rmjaCTxex\n",
       "9xltBuJ9Z7V0rjNmnSFDfDsaXEsAPFH3EYqbFlZaZvPrtJ+Tj9rWNW2oJxklQw6pgXhfJTPPlSP1\n",
       "ZO6vo2jjACXkUkLEBQoe5vdR0ml1RJu2dZPb+KAg+BDaDMT7IWeUWRZJpoG0cYAcKLuAPNS7kNxH\n",
       "KdOGEhb/ij9qWze0kYIZoa8ntDvCOLxvEjnnSlyZCzGNpI0HxGhi2o0wXBOB+QFKkTZopvGv5KOm\n",
       "dVtJbcTIrSscUaukHuD9gDpK5cpEoYAgyYJfpM0JUDuUQ/OPD9zLxu6j3D2k2tYtbbA9vMidKytY\n",
       "o809vNc6IPe/vdQ+tG4BApwpT0iuLGaXqihJRWCDrxzMJ0CmVwfo+WJAw5UKivauigROfdPqp03F\n",
       "uqXNYkyyW+6v0qaJx4nAKwaXlYkbtQKCoQKdBU4vRi07gMgesvp7p0JC4Uxhs6wnG52RJwxrAtrE\n",
       "amnBNVAqm7m5z4P1/brPLDeoX7KgFYrFnG64TZsLPMYFhPqvDJkcDCm/o08dED8QmLNQsDpvLtpB\n",
       "1xiVZXHeWFw1kT4bzBRoh6yXs2Nb10Y8hrUA99Et2vSgPBWW0sZcG18lsN7/nGjv61kxvb8hXPUP\n",
       "v6RNEU8STpl5JEktYUKCnndAwkC75JLV+VxuB1UwalGaWd+gUpUdTgGvzCQMvigQ+m7gw7AmYFe0\n",
       "6UF5Xk0mtKHq3J3L/c8lMDFGdBxSMR6DACvkTy57hCGO4piYd0DCQL/k1dS63D+pYcS0CbPbvyV2\n",
       "RDOxNScrwanCNjOabwO3cgcgindJktvg6f+ZVtG660kRinceSSgRAHDSa4FS/3O92hT00ebAYyvS\n",
       "xsyyhoitt34SIPLOyRHarTUd1mpPUu6f1DAi2oTZYVv7/dE/0k33FOUxSRW2cXu7OnE6ijYdgM1K\n",
       "avi0itYdbTh0Ky4Xk1HNegUBTv2vQ4RgEvXRJuCZ9UKr3dfhM5Y+UdY5OQbqJYcYr/WoXOyfVDEi\n",
       "2oTZ7UN5tKXmU7tyzhRrWZ8wooMQ6ko5PUoDUDbvbfqn9cLdle+Ab7uXKAPGi+YIgyL1vzlZRKhb\n",
       "GrTxeDZFsAREq93Q+qEoR8nBm3VOjoEmUlAg67Qp9k+qGBFtwuzsUhK/pMi5oLzTvMIwAIhisLTd\n",
       "HdKXs5IUvG3A9i3xjWndv7siGW2kj32mLEaGVLb/EPnf0IZKzwzUoI3DY2bnEmmSo8NP0NU1zmTe\n",
       "OcHJAcORqIblcv+khkGiKOBnZzp5//7jOnnlSsoSNFU+IApM0xdYP71vM2u/A2K7nSjxv81jF1Sd\n",
       "9rkam6kO+otJL4+GGIVWF2DvhuSdk2OgK57FqYGyd1Hib2f9kxJGKdqE2cWeMKnS+d5mD7+J8n5h\n",
       "2ydfKjis57SxvXETcfRaiMT/e6CX4h5tFgw4gHZhSChpmS4BiEm5kYkyp86JH8hXoYQ+J6FyA7Mu\n",
       "SvLtrH9SwCjQJprdRI4FAaJ0h4jmXHm/SPzJYHNYz2ljXxhV1HywB3bv/2VVSxr+u2iTJJXuuEtu\n",
       "ceNvs86BpT/m/ZMSRu3ehrdDCOa58nZZ0Sdpc1hvvxR67f+7tCkt1lFT1Rs6xXIy+uO5f3JdapSP\n",
       "7Y4YrXLl7dv9o93hyPqH3yWWLw189s5pkTayJ4BwmCvvlc++9xZbH0ybn/D/pF5Ycr7kyntn/tGX\n",
       "bIN18/+k8PQrv3Jf/gOi/04ZmBykTAAAAABJRU5ErkJggg==\n",
       "\" style=\"display:inline;vertical-align:middle;\" /></a><br>(see <a class=\"ProveItLink\" href=\"../../../__pv_it/theorems/10d341b2b1e56d5d50ea03043066a38252c468c60/dependencies.ipynb\">dependencies</a>)<br>"
      ],
      "text/plain": [
       "products_of_real_powers: forall_{m in NaturalPos} [forall_{a in Complex, b_{1} in Real, ..b_{_a} in Real.., b_{m} in Real | a != 0} ((a^{b_{1}} * ..a^{b_{i}}.. * a^{b_{m}}) = a^{b_{1} + ..b_{_a}.. + b_{m}})]"
      ]
     },
     "execution_count": 2,
     "metadata": {},
     "output_type": "execute_result"
    }
   ],
   "source": [
    "%proving products_of_real_powers"
   ]
  },
  {
   "cell_type": "code",
   "execution_count": null,
   "metadata": {},
   "outputs": [],
   "source": []
  }
 ],
 "metadata": {
  "kernelspec": {
   "display_name": "Python 3",
   "language": "python",
   "name": "python3"
  }
 },
 "nbformat": 4,
 "nbformat_minor": 0
}