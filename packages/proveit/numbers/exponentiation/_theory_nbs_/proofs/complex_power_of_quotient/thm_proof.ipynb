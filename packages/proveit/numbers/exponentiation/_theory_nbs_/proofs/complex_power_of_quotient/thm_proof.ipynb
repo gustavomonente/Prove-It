{
 "cells": [
  {
   "cell_type": "markdown",
   "metadata": {},
   "source": [
    "Proof of <a class=\"ProveItLink\" href=\"../../../../../_theory_nbs_/theory.ipynb\">proveit</a>.<a class=\"ProveItLink\" href=\"../../../../_theory_nbs_/theory.ipynb\">numbers</a>.<a class=\"ProveItLink\" href=\"../../theory.ipynb\">exponentiation</a>.<a class=\"ProveItLink\" href=\"../../theorems.ipynb#complex_power_of_quotient\">complex_power_of_quotient</a> theorem\n",
    "========"
   ]
  },
  {
   "cell_type": "code",
   "execution_count": 1,
   "metadata": {},
   "outputs": [],
   "source": [
    "import proveit\n",
    "theory = proveit.Theory() # the theorem's theory"
   ]
  },
  {
   "cell_type": "code",
   "execution_count": 2,
   "metadata": {},
   "outputs": [
    {
     "data": {
      "text/html": [
       "Under these <a href=\"presumptions.txt\">presumptions</a>, we begin our proof of<br><strong id=\"complex_power_of_quotient\">complex_power_of_quotient:</strong> <a class=\"ProveItLink\" href=\"../../../__pv_it/theorems/3d926035e581fa0cbcd75fb2b0055553bafec1170/expr.ipynb\"><img src=\"data:image/png;base64,iVBORw0KGgoAAAANSUhEUgAAAREAAAAyBAMAAACJ9fKRAAAAMFBMVEX///8QEBCIiIhmZma6urrM\n",
       "zMxUVFQiIiJERETc3Nzu7u6qqqp2dnaYmJgyMjIAAAAcRTyBAAAAAXRSTlMAQObYZgAABVtJREFU\n",
       "WMO1WX1oHEUUf7nv29vdE6naDwrrVWsRq0dOolibnvi37flPRRRzRFtBUEO/KFIkjVCvLcLWgBX/\n",
       "yWqwStpyV6XUgJDFWMWo7SmCtWB6tCpS/AhJCuaj1jezc7O75+6xOeYe3M68l5md38578z4mAGLp\n",
       "8xbmHIM2kGwuccJnGYBIrQ1I1i5xfDz/OD4nxQNJ3bTECQ9CFJ8JUziSd/NNlOBFq+hTWiYcyWtN\n",
       "leBBc1ZzSrhy5llHqbKOVHQowYN+gTBFKlo98Szr3Iu/wfHbDYDNDiW4Kflw50oYXH83/YQ5wUgu\n",
       "6VYbWYm/FfA3dkNFhxJc9IiuTnFmp2Ake+uGW8BfFXWC9KdDCU6SVkO43/4GQyiQ6CzrbMffJgN2\n",
       "kP4RsgZTgpPC8xDXOFfWhCIJM28SJcpYDtI1wsSK3oM7+qFc4Jwq1s12sEVVbKVFSFEziM57Dy6b\n",
       "MGZzIbEm28PO7hAarrQAsdoo4S77IKnASymdH6TrQpHcx17cTR4D8GOReonvvAcnNGWPbLO3CkWy\n",
       "n7U301CfebKX+v4h7wgg9d751h02+zoANZWfhSBZznb6mtt6AvnP8wBfk/aqCCDSDHP1Uy5xLNCx\n",
       "uFSAt8lX9AtxJ9PsMPe5xKGpQNaugYqeR64IiX8LLPq4vytYTClnQZkYGTkqxEwUZh/prHurFoJM\n",
       "TqMP+qdU2icESd07pd2eWwrkKtK4kdsADnqkxt4Tmp0DmXnTctUtn7ZH/EUp6+Wf0a4fBcnDulns\n",
       "3Nzwp2yzsMOQDDUgWQwUKdDM4xByTj2z7tnLNhKZLZ3acaBb80LyyRd76sqIsUPSQ+w/fYMQ5Wc8\n",
       "l77ByTJzjJ5yNc5V+mmuGpJhQuNIVPLW4+MbQTPl9xqQEPH7h+AZ0wuJg2YCpXuIJFnbWmcvjI4A\n",
       "IrlYlXMP5DZQQ8JQohx+x0AkykkYz+3M8WWo+CcTUmZz7UiLjXbilSfEiRM6+Bw+htf+ChHyxQSJ\n",
       "yfekJ/MCGhISIjnh2BOsGog48hSmGPWAKs95Zj3BwiyxWPgY4Ui7MY9QwUKSy3IkdxlrrMikmeGc\n",
       "jYRUDUSsnNQdp7juT8wW/AnNbcj5D2ejfTBM3xfevsu22AGYlOjqWtfzeRsJVg1UnDruQKLMuhMm\n",
       "RpHZQP6EvE5Bf99RwST8iVKppIXkN3+wkSyDrujeUmkAtK/WO5Bg1UDFydMFh1tnSyboJkr7WfhR\n",
       "fJK2D29rSOFYR09cNGKWdlJPIzRWKc3jokVLO6cnsCnYpRsVP4T7WU/Lo8wgZCudVbMu9v90hfwx\n",
       "o/EIyHZU73kM5IJlJxMMX/IQvKL0w1kLiXwCuJhUDVQ8eBZkreG4skowXbGzWk8i9rMrynCO1c9k\n",
       "pPejjQCHiWc7Zw53s49cBVu/wd3GQal9f0i5GheTqoGIQTr3+zb+6lddgWaL4e38uf0gYKx42C6f\n",
       "190xDO3EFdCtZh3aSQAxbGLtAfr8knFjuk+Y6iPmWedebm7Qo0sS80LOyqF/y2yw82sPUnvXVNJ6\n",
       "Q+bpR9UlibmbL1O9/WuUdb/qnI66Ks2peXYak9NtqbxCNctuaaIS8js6YwZMJzu/N9pReYXrGest\n",
       "hKlZPqLDbwe7nREp0ScUCfemk5Y72VJhVyk+7iRix4G02Aqd34Ik8L3pKrkugOQKv8HXefAm5aPY\n",
       "Wwt+eKTdiCQvrcbuB75lwyy5YmlPMeoo947qEKsmyLF4w3fwi477QeG3W/zGL1kAqfNbsjt538HD\n",
       "99hbomZFXz5eaXHeKUM0kiOF1ipq8TfDqdbcQky4cgC6Wpp1QTwQiLXiodryXxW4v4U5x6i9/gfs\n",
       "pm3WvDhyRgAAAABJRU5ErkJggg==\n",
       "\" style=\"display:inline;vertical-align:middle;\" /></a><br>(see <a class=\"ProveItLink\" href=\"../../../__pv_it/theorems/acc8817a4b3c9c54c6a8548674133f67b9de35fb0/dependencies.ipynb\">dependencies</a>)<br>"
      ],
      "text/plain": [
       "complex_power_of_quotient: forall_{a in RealPos, b in RealPos, c in Complex} ((a / b)^{c} = (a^{c} / b^{c}))"
      ]
     },
     "execution_count": 2,
     "metadata": {},
     "output_type": "execute_result"
    }
   ],
   "source": [
    "%proving complex_power_of_quotient"
   ]
  },
  {
   "cell_type": "code",
   "execution_count": null,
   "metadata": {},
   "outputs": [],
   "source": []
  }
 ],
 "metadata": {
  "kernelspec": {
   "display_name": "Python 3",
   "language": "python",
   "name": "python3"
  }
 },
 "nbformat": 4,
 "nbformat_minor": 0
}