{
 "cells": [
  {
   "cell_type": "markdown",
   "metadata": {},
   "source": [
    "Proof of <a class=\"ProveItLink\" href=\"../../../../../_theory_nbs_/theory.ipynb\">proveit</a>.<a class=\"ProveItLink\" href=\"../../../../_theory_nbs_/theory.ipynb\">numbers</a>.<a class=\"ProveItLink\" href=\"../../theory.ipynb\">exponentiation</a>.<a class=\"ProveItLink\" href=\"../../theorems.ipynb#exp_zero_eq_one\">exp_zero_eq_one</a> theorem\n",
    "========"
   ]
  },
  {
   "cell_type": "code",
   "execution_count": 1,
   "metadata": {},
   "outputs": [],
   "source": [
    "import proveit\n",
    "theory = proveit.Theory() # the theorem's theory"
   ]
  },
  {
   "cell_type": "code",
   "execution_count": 2,
   "metadata": {},
   "outputs": [
    {
     "data": {
      "text/html": [
       "Under these <a href=\"presumptions.txt\">presumptions</a>, we begin our proof of<br><strong id=\"exp_zero_eq_one\">exp_zero_eq_one:</strong> <a class=\"ProveItLink\" href=\"../../../__pv_it/theorems/aebd586f896a79b69fbdb6284de88c0eaf77467d0/expr.ipynb\"><img src=\"data:image/png;base64,iVBORw0KGgoAAAANSUhEUgAAALEAAAAcCAMAAAAZda7HAAAAOVBMVEX///8oKCgUFBQNDQ0QEBCI\n",
       "iIhmZma6urrMzMxUVFQiIiJERETc3Nzu7u6qqqp2dnaYmJgyMjIAAAArQGDrAAAAAXRSTlMAQObY\n",
       "ZgAAAmpJREFUWMPVV4uSoyAQdHdhYHjj/3/s8VA0Cgb1zN5RlVRiGG16enomw/Cbi1pqh/9puQDX\n",
       "4D8NkbOXryJ+HXV3Rn4B8CufeuThnZjecPb5dPhXOvmoItGuO966DwOGTVp5EoQ4kWwRA/xSBw+f\n",
       "QG0VmzkmJxBTiEybRs7++rKwuZB1PLK3kYbo+dDxTc4UyIdFsS+xLq/QaLHsEWZFrTUfFkVOco8f\n",
       "uxIKMtm4jkuJp9sFqfW8nVSOEdN0k1HGJZ5ul1BqXIEFSk5UzYKYpU8Y9T9I1X2Dw1LRrXlBznXC\n",
       "SHiUHyul6VcLqoh5KlYWf9T+oFSlRYGLCR2VKPDWvOCnC5q4WZDnOVbZWaKC6c6MtbEA4armMuzn\n",
       "3vYgVtj0ADGxBqf7xgqxzohj89vVnZNG6bjRqYTVdCGOh2vMC3OeiSxbLnOsfJlRNFD0RSpJddzk\n",
       "m6sq4hKQN9v2vCBxYinuMePwRsfY0HGGIRXmatKCT92+yNppt63JFeISgMlwfsLLNeYFlBPiyD36\n",
       "wajLXhFODJMoIDDLRaKulJ02B4hLQHZLczAv0MmPZbjuBA4n3JQWxMXUR7o0UhrzwUXiLNxdGc7b\n",
       "iEtAok8ezQszPRop5Qop6zZyJKMHt/S8nPrpUYEc6WLBLTICTRej3SBeAjBI7/srCtC15gXC7rch\n",
       "v7WY4O18ZPE4lq86VPxsq368BMzO1p4X4H5X1TsaGFJDcwJkMScdalgir6piFZCd7WBe4OT+bHI4\n",
       "NtGs45rp1jvjWwrx9nQo+LW4OmL/Pqf+LsVXdVVF7DoINHAL8PX/HNefa27ZBTz8t+6p9Qf5tRxZ\n",
       "ysuF8wAAAABJRU5ErkJggg==\n",
       "\" style=\"display:inline;vertical-align:middle;\" /></a><br>(see <a class=\"ProveItLink\" href=\"../../../__pv_it/theorems/d8351d5563367b239295c0cb9ca44cd75e1b726c0/dependencies.ipynb\">dependencies</a>)<br>"
      ],
      "text/plain": [
       "exp_zero_eq_one: forall_{a in Complex | a != 0} (a^{0} = 1)"
      ]
     },
     "execution_count": 2,
     "metadata": {},
     "output_type": "execute_result"
    }
   ],
   "source": [
    "%proving exp_zero_eq_one"
   ]
  },
  {
   "cell_type": "code",
   "execution_count": null,
   "metadata": {},
   "outputs": [],
   "source": []
  }
 ],
 "metadata": {
  "kernelspec": {
   "display_name": "Python 3",
   "language": "python",
   "name": "python3"
  }
 },
 "nbformat": 4,
 "nbformat_minor": 0
}