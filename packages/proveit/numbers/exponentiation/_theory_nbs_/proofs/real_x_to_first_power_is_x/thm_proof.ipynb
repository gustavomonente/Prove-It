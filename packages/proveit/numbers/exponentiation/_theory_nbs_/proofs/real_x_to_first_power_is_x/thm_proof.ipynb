{
 "cells": [
  {
   "cell_type": "markdown",
   "metadata": {},
   "source": [
    "Proof of <a class=\"ProveItLink\" href=\"../../../../../_theory_nbs_/theory.ipynb\">proveit</a>.<a class=\"ProveItLink\" href=\"../../../../_theory_nbs_/theory.ipynb\">numbers</a>.<a class=\"ProveItLink\" href=\"../../theory.ipynb\">exponentiation</a>.<a class=\"ProveItLink\" href=\"../../theorems.ipynb#real_x_to_first_power_is_x\">real_x_to_first_power_is_x</a> theorem\n",
    "========"
   ]
  },
  {
   "cell_type": "code",
   "execution_count": 1,
   "metadata": {},
   "outputs": [],
   "source": [
    "import proveit\n",
    "theory = proveit.Theory() # the theorem's theory"
   ]
  },
  {
   "cell_type": "code",
   "execution_count": 2,
   "metadata": {},
   "outputs": [
    {
     "data": {
      "text/html": [
       "Under these <a href=\"presumptions.txt\">presumptions</a>, we begin our proof of<br><strong id=\"real_x_to_first_power_is_x\">real_x_to_first_power_is_x:</strong> <a class=\"ProveItLink\" href=\"../../../__pv_it/theorems/b86a77f653c2a1b799e94de3c3137c8a90d8e9150/expr.ipynb\"><img src=\"data:image/png;base64,iVBORw0KGgoAAAANSUhEUgAAAIMAAAAcBAMAAACwgxHDAAAAMFBMVEX///8QEBCIiIhmZma6urrM\n",
       "zMxUVFQiIiJERETc3Nzu7u6qqqp2dnaYmJgyMjIAAAAcRTyBAAAAAXRSTlMAQObYZgAAAhpJREFU\n",
       "OMutlEFIFFEYx/+Muzvu+Hb10M3LaiAiQYJIHSoWPYgnN4LqEBhWghcR8aZkx5EORQV6EQcX9rAI\n",
       "LXiQosOy3SaqCQQlCoaOQbIEgm6Xvrezb1xlnp+UD3bn4733/d7/+973PeBs4y7+d9y68s+u8WzD\n",
       "GIleN3jEbZyOiN1nET8ZBD5yhJYMhzAdwJfGd82GNYdDGP3Ah2N6T4z34BDJKrAiv080GzpZBOaB\n",
       "NGkVJc0RtdDc0iGuAim3WFzWLKc6lPVycUKzp4t+B7a9oLsQyrXVPTVUiVpc73l1iS5sjKJ4BCxp\n",
       "EK2Uow3sZB6rCbFXH3QLsMqpWZOOGM8Bw7D8Jret3gc/lJ2m2nPx2RmNwAtH1GLP6d6pBUwYXmPa\n",
       "ejfgGQKuKiiTjnNgRyq06hqB14QQnqmmd98UQYivCpmWivFbE2Z7/SSpIunLXqoM9uRi0kMiyioX\n",
       "soni+03qg1wEvSWzQP8UDJYekqMzbWbTCBAD/Q2PBEl9a1TRF6GhzblMXsGNYHOGjsIvIF9HtEzO\n",
       "hQ3Qgdif1mrSi0CMlZ5hlb5fjmI6BO7Ytp0xxIvt8DWowZrouxjZhIXu9eteUJ1Ug1JKvBpHIgik\n",
       "7V7Ynxf4RymsgDXhC4hckAtXpRPXWIIVtlFhu+ICT2VpfSrnb6jpmywideLlMygXxyYSJQ5h5jiZ\n",
       "Pof4xurcZNa1j1VTAWWZ99nBeYy/0jZ/6dYnuOQAAAAASUVORK5CYII=\n",
       "\" style=\"display:inline;vertical-align:middle;\" /></a><br>(see <a class=\"ProveItLink\" href=\"../../../__pv_it/theorems/80c85ec79e15602ead901a01470778735f5bab1e0/dependencies.ipynb\">dependencies</a>)<br>"
      ],
      "text/plain": [
       "real_x_to_first_power_is_x: forall_{x in Real} (x^{1} = x)"
      ]
     },
     "execution_count": 2,
     "metadata": {},
     "output_type": "execute_result"
    }
   ],
   "source": [
    "%proving real_x_to_first_power_is_x"
   ]
  },
  {
   "cell_type": "code",
   "execution_count": null,
   "metadata": {},
   "outputs": [],
   "source": []
  }
 ],
 "metadata": {
  "kernelspec": {
   "display_name": "Python 3",
   "language": "python",
   "name": "python3"
  }
 },
 "nbformat": 4,
 "nbformat_minor": 0
}