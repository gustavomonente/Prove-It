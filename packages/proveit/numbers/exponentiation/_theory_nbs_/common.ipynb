{
 "cells": [
  {
   "cell_type": "markdown",
   "metadata": {},
   "source": [
    "Common expressions for the theory of <a class=\"ProveItLink\" href=\"theory.ipynb\">proveit.numbers.exponentiation</a>\n",
    "========"
   ]
  },
  {
   "cell_type": "code",
   "execution_count": 1,
   "metadata": {},
   "outputs": [],
   "source": [
    "import proveit\n",
    "# Prepare this notebook for defining the common expressions of a theory:\n",
    "%common_expressions_notebook # Keep this at the top following 'import proveit'.\n",
    "from proveit import ExprTuple, ExprRange, IndexedVar\n",
    "from proveit.logic import NotEquals\n",
    "from proveit import a, b, i, k, m, n\n",
    "from proveit.numbers import Mult, Exp, one, zero"
   ]
  },
  {
   "cell_type": "code",
   "execution_count": 2,
   "metadata": {},
   "outputs": [
    {
     "name": "stdout",
     "output_type": "stream",
     "text": [
      "Defining common sub-expressions for theory 'proveit.numbers.exponentiation'\n",
      "Subsequent end-of-cell assignments will define common sub-expressions\n",
      "%end_common will finalize the definitions\n"
     ]
    }
   ],
   "source": [
    "%begin common"
   ]
  },
  {
   "cell_type": "code",
   "execution_count": 3,
   "metadata": {},
   "outputs": [
    {
     "data": {
      "text/html": [
       "<strong id=\"prod_a_raise_ki__1_to_m\">prod_a_raise_ki__1_to_m:</strong> <a class=\"ProveItLink\" href=\"../__pv_it/common/9b613d6163b298376e065ccc6d3a762ffc3e30210/common_expr.ipynb\"><img src=\"data:image/png;base64,iVBORw0KGgoAAAANSUhEUgAAAHMAAAAUBAMAAABMnB83AAAAMFBMVEX///9UVFSqqqrMzMwiIiJE\n",
       "RESYmJgyMjK6urru7u4QEBCIiIh2dnZmZmbc3NwAAABRgo0vAAAAAXRSTlMAQObYZgAAAUFJREFU\n",
       "OMtjYAAD7tUMRIJdG9BFPIjVytKAJsD5k1it8yegCXA4EKu1BV2A54K1AHFazzJvRBVgT+r8ycA4\n",
       "gQitZRpoTuYXZmBgPkWM1o8GaAJWWxWAgUeEVubVQWgiW5kXPCBKK3eAFR9Drlqu0WGYSDSzwwai\n",
       "tLJuMOFm0C7gUtCBidQxSBsQpZX9AeNmBkaDKQw3gBy+O7dXQhMKAa1vz+6CqGBh0GVwAAZO1wP2\n",
       "D5AQ2H8Jr06OdQz1ENZEhh0M0g8YOJcx8AagpEksusBisxIYrqKI8v5kYEHJDPMLsCRckNj9CQze\n",
       "KKJcAQzzUWKZBUuKBIstZeD8jGrgAQZ9ohIv5x8Gpg+oWhUYxJkeEKP1EwNjgR5qHLM58mCq+w71\n",
       "IZgBTTYMKQIHUBRJb364A9MOR5gPHeFCE3fbSSMXEQCoeEr8PaI+sQAAAABJRU5ErkJggg==\n",
       "\" style=\"display:inline;vertical-align:middle;\" /></a><br>"
      ],
      "text/plain": [
       "prod_a_raise_ki__1_to_m: a^{k_{1}} * ..a^{k_{i}}.. * a^{k_{m}}"
      ]
     },
     "execution_count": 3,
     "metadata": {},
     "output_type": "execute_result"
    }
   ],
   "source": [
    "prod_a_raise_ki__1_to_m = Mult(ExprRange(i, Exp(a, IndexedVar(k, i)), one, m))"
   ]
  },
  {
   "cell_type": "code",
   "execution_count": 4,
   "metadata": {},
   "outputs": [
    {
     "data": {
      "text/html": [
       "<strong id=\"prod_a_raise_bi__1_to_m\">prod_a_raise_bi__1_to_m:</strong> <a class=\"ProveItLink\" href=\"../__pv_it/common/6429abda1f29b36e0749da6dbaef084597b0004f0/common_expr.ipynb\"><img src=\"data:image/png;base64,iVBORw0KGgoAAAANSUhEUgAAAHAAAAAUBAMAAACnq6Q0AAAAMFBMVEX///9UVFSqqqrMzMwiIiJE\n",
       "RESYmJgyMjK6urru7u4QEBCIiIh2dnZmZmbc3NwAAABRgo0vAAAAAXRSTlMAQObYZgAAAQFJREFU\n",
       "OMtjYACD9gIG4gC6Qp4LRGpEV8iuQKRGdIX8D4jUiK7QfrckcRrRFW6ZsJeBcQIRGkEKkUE0Qzrz\n",
       "KWI0AhWi8FcwXGRgIUYjSCEy+MmwiDiNQIVsl9Iu6xhA+Z5sAcRpBCpk2s6wiOkAlG94hoE4jSCF\n",
       "wpwOvA0MDHx3bq8EixHSCFfowHSBhYmBoesB+wcQl3n/JfwaYQo5BbgbGPcxcC5j4A1AlsdmL0gM\n",
       "XSHvTwaWDUh8zu+Y+sBi6Aq5AhjmGyCrcsRioyMWhfMPMOgTlUrRFc5XYBBnIiZvoCtk3cDmyIOp\n",
       "qgDqs/kFuBRySm9+uANDI4sA1GdgBjaFAO49S1QUYeJbAAAAAElFTkSuQmCC\n",
       "\" style=\"display:inline;vertical-align:middle;\" /></a><br>"
      ],
      "text/plain": [
       "prod_a_raise_bi__1_to_m: a^{b_{1}} * ..a^{b_{i}}.. * a^{b_{m}}"
      ]
     },
     "execution_count": 4,
     "metadata": {},
     "output_type": "execute_result"
    }
   ],
   "source": [
    "prod_a_raise_bi__1_to_m = Mult(ExprRange(i, Exp(a, IndexedVar(b, i)), one, m))"
   ]
  },
  {
   "cell_type": "code",
   "execution_count": 5,
   "metadata": {},
   "outputs": [
    {
     "data": {
      "text/html": [
       "<strong id=\"prod_ai_raise_n__1_to_m\">prod_ai_raise_n__1_to_m:</strong> <a class=\"ProveItLink\" href=\"../__pv_it/common/0869fb48eea10bc1404e08dfa5585a0c9367004e0/common_expr.ipynb\"><img src=\"data:image/png;base64,iVBORw0KGgoAAAANSUhEUgAAAJgAAAAXBAMAAAAFCpsfAAAAMFBMVEX///9UVFTMzMx2dna6uroQ\n",
       "EBCqqqqIiIgiIiJmZmYyMjJERETu7u6YmJjc3NwAAAC+aOQFAAAAAXRSTlMAQObYZgAAAa1JREFU\n",
       "OMtjYEAHvHPVKxlIBjh08bpeYH1AumHYdb2pYOA/QLJhUF18FxBCbCDDxRlcCehE1oKq6zSyuBwQ\n",
       "BzFMZsJv2Gk0PkLXOmThU0BrPzC0JOE3bB0aH66LdwKyMHMBA4sAQ/EF/IE9AU0ArosDJQ54AogI\n",
       "bA70aIPreoEqvoQIw15giMB0gZIa3+TpMVCuJRGGoWlB0rUXiF0fcH1gYNAGcW8RYRhCCwzAdLUB\n",
       "vRzLwLmBQXMGiJuBUIEl5fKgaoEDmK4QBgbOPwwcBQwMHiCuPkLjL0zDzi9A1QID+gjDWDcwnFfA\n",
       "MIyhEUs8CqBqQTcM6ObzBgz5DFDDPIgIM7iWm5fKJ5QLIekChub5BAYpYP7yICECIFquxDIEHihE\n",
       "0gWMVe4C3kZmqPGT0UL8F4yABBeKFr7jDQxfwDpguoBG8IgXPSyBGrYIzRWNMAISXKhaGAuYAkCe\n",
       "hutC5A2QYTwNpGQnVgX2DXwfFBC6ELk2A5JliShVYVreA93Gu8EASdc+KP2yXxxcmBABYFocGbge\n",
       "8AkfQNJ1Gpsy0grHfVjLYF7iahK0YhuuCwAsE35BfhZengAAAABJRU5ErkJggg==\n",
       "\" style=\"display:inline;vertical-align:middle;\" /></a><br>"
      ],
      "text/plain": [
       "prod_ai_raise_n__1_to_m: (a_{1})^{n} * ..(a_{i})^{n}.. * (a_{m})^{n}"
      ]
     },
     "execution_count": 5,
     "metadata": {},
     "output_type": "execute_result"
    }
   ],
   "source": [
    "prod_ai_raise_n__1_to_m = Mult(ExprRange(i, Exp(IndexedVar(a, i), n), one, m))"
   ]
  },
  {
   "cell_type": "code",
   "execution_count": 6,
   "metadata": {},
   "outputs": [
    {
     "data": {
      "text/html": [
       "<strong id=\"prod_ai_raise_b__1_to_m\">prod_ai_raise_b__1_to_m:</strong> <a class=\"ProveItLink\" href=\"../__pv_it/common/5f6e37b672ef3ed912257ccdae8713129a50090b0/common_expr.ipynb\"><img src=\"data:image/png;base64,iVBORw0KGgoAAAANSUhEUgAAAJIAAAAbBAMAAABl6sutAAAAMFBMVEX///9UVFTMzMx2dna6uroQ\n",
       "EBCqqqqIiIgiIiJmZmYyMjJERETu7u6YmJjc3NwAAAC+aOQFAAAAAXRSTlMAQObYZgAAAjBJREFU\n",
       "OMtjYEAHLKsYSAdeC7CJWpJhEvMEbKLLyDCJKwGb6D8yTOJ/gEWQ6XvhAZJN0i+XwRRk72GfQLJJ\n",
       "FQcqMQW5C3gXkGzSdoZbDAx8FxACbEDvsjpwCuDX9haVmwfEIQwTGRhOI4vKAQPvAGsCXoN4NqDy\n",
       "GYHW/2EIY2BYhyx6ioGB48BtAjGOFk88wMDo4d3AwIsSvMwFDEzCBvhNuokuYM7AoGgMdAKKDTwB\n",
       "hEO3D13gKIR6gSq6hKBBfA0Y3nUAU6B0wDd5egzRmQ6c2l5alh5Az3R7gdj1AdcHBgZtEPcWQZO4\n",
       "gamGJY5hPUIEmv7agIETy8C5gUFzBoibAQ8xLIaAncEBTCNHLzDMRkqFEP+GMDBw/mHgKGBg8ABn\n",
       "IJj0ecyEzvMLRLICQ2X+AYZ2pJz6AWYS6waG8wroJnFgSeiNMJOiGXg+YZgE9N15A4Z8BqhJHgTD\n",
       "Ceg7ns8MbB8YeOeqV7IXAp3A0gAL8fMJDFLAHOdBdIjzfGNgXJDH63qBVYZdAB7iluDc38gMdc5k\n",
       "FF3gwAIRkCCCx/l2hhsCBm8qGPgdOIEZghOSKYD6ecSLHpZATVqE6hMBGNGIqDGAfjlYrifuwCDO\n",
       "oAqOSS4FiGJ4bgGZxNNAQm4JYqhmeM/EwHACmqzgOTgDkoMJAlgO5vsAdNVtZnAOBoN9UPplvzi4\n",
       "VCEc5FBfsAgAS6SHNuBSBQxQSrp9RJiEXtLBTEYpfXkfEFNoo5W+9yAUAPtZfbmIGfizAAAAAElF\n",
       "TkSuQmCC\n",
       "\" style=\"display:inline;vertical-align:middle;\" /></a><br>"
      ],
      "text/plain": [
       "prod_ai_raise_b__1_to_m: (a_{1})^{b} * ..(a_{i})^{b}.. * (a_{m})^{b}"
      ]
     },
     "execution_count": 6,
     "metadata": {},
     "output_type": "execute_result"
    }
   ],
   "source": [
    "prod_ai_raise_b__1_to_m = Mult(ExprRange(i, Exp(IndexedVar(a, i), b), one, m))"
   ]
  },
  {
   "cell_type": "code",
   "execution_count": 7,
   "metadata": {},
   "outputs": [
    {
     "data": {
      "text/html": [
       "<strong id=\"nonzero_a_1_to_m\">nonzero_a_1_to_m:</strong> <a class=\"ProveItLink\" href=\"../__pv_it/common/5dcfb5b562e407f62f37076e9684c4d1dc9c32d20/common_expr.ipynb\"><img src=\"data:image/png;base64,iVBORw0KGgoAAAANSUhEUgAAALUAAAAUCAMAAAD8zYzQAAAAOVBMVEX///8kJCQNDQ0oKChUVFTM\n",
       "zMx2dna6uroQEBCqqqqIiIgiIiJmZmYyMjJERETu7u6YmJjc3NwAAABfYoQ1AAAAAXRSTlMAQObY\n",
       "ZgAAAfRJREFUSMe9l9mOwyAMRZkZs+/8/8cOS1KRBoITqeUhTQXiXJuLCYQQEgPBNebJN9sQJ2P7\n",
       "9Q45S7SHOVVg9JOiJzhosm1ETgO8+2NljlfHD6qe4HwNJhhs7P2aBFETYD+Y6hmOqfxA5wt6Pzio\n",
       "Jkufc/oU53MEUT+JnaQ6DU/yK6k+4iwnajdINMwoMc+d62P3ybRp1AM9C9ASxwxxW9njIjvFpvpO\n",
       "+ziZre3vtzxfISZWBz5Q3YNG5W6NC5botsZeFPWmyKXG6EXseRrTpmF3RXcgdKrfcFIT0eqLqUbX\n",
       "LXX8rJrCkf3YIQfQtF3iaNpVC1c76Uy1e6s0advUt3fjATRP9RUuq24O8TX3cnPbQXU12o9odnul\n",
       "wNUlDrcrXw8KJlCVq4FSXZVD4LK8tht9jQJsO+bPuT6dn09PmR4UePG4AE8U3MHl3cjaPnXZMUED\n",
       "YUOH8PP5WdbIC1p02Jciu3zpQNGrwknZooahcaSO3hR6UIpGUHyo2p6N4Nm+sFrvvRrmL/ugHgQ5\n",
       "Aio2TVhc7qbDE/1dtbz+VJEYc48GldwpVwoboXic1+OvJ6mXqT4cDKiP5cEhmbZ8B3foXuHUqMpE\n",
       "oxP09VRey/KYmj0axGHbeBH6C8AKZ3G3gkXsqJtQwJeZBW5P8uoGxr9671rgQhH9D2lVGhBzavjC\n",
       "AAAAAElFTkSuQmCC\n",
       "\" style=\"display:inline;vertical-align:middle;\" /></a><br>"
      ],
      "text/plain": [
       "nonzero_a_1_to_m: (a_{1} != 0, ..a_{i} != 0.., a_{m} != 0)"
      ]
     },
     "execution_count": 7,
     "metadata": {},
     "output_type": "execute_result"
    }
   ],
   "source": [
    "nonzero_a_1_to_m = ExprTuple(ExprRange(i, NotEquals(IndexedVar(a, i), zero), one, m))"
   ]
  },
  {
   "cell_type": "code",
   "execution_count": 8,
   "metadata": {},
   "outputs": [
    {
     "name": "stdout",
     "output_type": "stream",
     "text": [
      "These common expressions may now be imported from the theory package: proveit.numbers.exponentiation\n"
     ]
    }
   ],
   "source": [
    "%end common"
   ]
  }
 ],
 "metadata": {
  "kernelspec": {
   "display_name": "Python 3",
   "language": "python",
   "name": "python3"
  }
 },
 "nbformat": 4,
 "nbformat_minor": 0
}