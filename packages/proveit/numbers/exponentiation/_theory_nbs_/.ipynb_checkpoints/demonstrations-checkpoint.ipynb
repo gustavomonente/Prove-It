{
 "cells": [
  {
   "cell_type": "markdown",
   "metadata": {},
   "source": [
    "Demonstrations for the theory of <a class=\"ProveItLink\" href=\"theory.ipynb\">proveit.numbers.exponentiation</a>\n",
    "========"
   ]
  },
  {
   "cell_type": "code",
   "execution_count": 1,
   "metadata": {},
   "outputs": [],
   "source": [
    "import proveit\n",
    "from proveit import Literal, used_vars, free_vars\n",
    "from proveit import a, b, c, n, x, y\n",
    "from proveit.logic import And, Boolean, InSet, NotEquals\n",
    "from proveit.numbers import zero, one, two, three, frac, num\n",
    "from proveit.numbers import (Complex, Integer, Natural, NaturalPos,\n",
    "                            Real, RealNonNeg, RealPos)\n",
    "from proveit.numbers import Add, Div, Exp, greater, greater_eq, Mult, sqrt, subtract\n",
    "from proveit.numbers.exponentiation import exp_real_closure, sqrt_of_prod\n",
    "%begin demonstrations"
   ]
  },
  {
   "cell_type": "markdown",
   "metadata": {},
   "source": [
    "# Exponentiation (Exp) $x^{y}$"
   ]
  },
  {
   "cell_type": "markdown",
   "metadata": {},
   "source": [
    "<div style=\"line-height:1.4; font-size:14pt\">\n",
    "\n",
    "<a href='#introduction'>Introduction</a><br>\n",
    "<a href='#simple_expressions'>Simple Expressions involving Exponentiation $x^y$</a><br>\n",
    "<a href='#common_attributes'>Common Attributes of the Exp $x^y$ Expression</a><br>\n",
    "<a href='#axioms'>Axioms</a><br>\n",
    "<a href='#theorems'>Theorems</a><br>\n",
    "<a href='#further_demonstrations'>Further Demonstrations</a><br>\n",
    "    <ol>\n",
    "        <li><a href='#demo01'>TBA</a></li>\n",
    "        <li><a href='#demo02'>TBA</a></li>\n",
    "        <li><a href='#demo03'>TBA</a></li>\n",
    "    </ol>\n",
    "\n",
    "</div>\n"
   ]
  },
  {
   "cell_type": "markdown",
   "metadata": {},
   "source": [
    "## Introduction <a id='introduction'></a>"
   ]
  },
  {
   "cell_type": "markdown",
   "metadata": {},
   "source": [
    "<font size=4>The `Exp` class allows us to represent exponentiation expressions such as $2^3$, $x^y$, or $(x-3)^2$. This ``_demonstrations_`` notebook explores the `Exp` (exponentiation) class, its axioms and common theorems, and related methods.</font>"
   ]
  },
  {
   "cell_type": "markdown",
   "metadata": {},
   "source": [
    "## Simple Expressions Involving Exponentiation $x^y$<a id='simple_expressions'></a>"
   ]
  },
  {
   "cell_type": "markdown",
   "metadata": {},
   "source": [
    "<font size=4>It is straightforward to construct expressions involving exponentiation. Here are some basic examples of such expressions:</font>"
   ]
  },
  {
   "cell_type": "code",
   "execution_count": 2,
   "metadata": {},
   "outputs": [
    {
     "data": {
      "text/html": [
       "<a class=\"ProveItLink\" href=\"../__pv_it/demonstrations/5ff236238ef105f24efc2d59f72157260fc9d6a50/expr.ipynb\"><img src=\"data:image/png;base64,iVBORw0KGgoAAAANSUhEUgAAABUAAAAQBAMAAAAL9CkWAAAAMFBMVEX///8QEBBmZmaqqqrMzMxE\n",
       "REQyMjIiIiKYmJh2dna6urrc3NxUVFSIiIju7u4AAAA6P00QAAAAAXRSTlMAQObYZgAAAHpJREFU\n",
       "CNdjYAADrjsM7A8gTAZO/geOUCbDvuUMV2FsBk2Gs3B2FYMInF3C9QHOXnM1AUi+vbPr5gW+DawN\n",
       "DAx8Ezhq2RN4JiwDmfyA8x/XBq7OCUA2HwNrAFwXA/8FBNvfAcZifnCfgRfqrPUG8Qw7oOJv7r7V\n",
       "aIAwATGZH/CoOnM2AAAAAElFTkSuQmCC\n",
       "\" style=\"display:inline;vertical-align:middle;\" /></a>"
      ],
      "text/plain": [
       "x^{y}"
      ]
     },
     "execution_count": 2,
     "metadata": {},
     "output_type": "execute_result"
    }
   ],
   "source": [
    "# basic expression with exponent\n",
    "Exp(x, y)"
   ]
  },
  {
   "cell_type": "code",
   "execution_count": 3,
   "metadata": {},
   "outputs": [
    {
     "data": {
      "text/html": [
       "<strong id=\"example1\">example1:</strong> <a class=\"ProveItLink\" href=\"../__pv_it/demonstrations/1a744b59a721ae6b864c788a9d4cbb93acac89890/expr.ipynb\"><img src=\"data:image/png;base64,iVBORw0KGgoAAAANSUhEUgAAABQAAAAUBAMAAAB/pwA+AAAAMFBMVEX///8QEBBmZmaqqqrMzMxE\n",
       "REQyMjIiIiKYmJh2dna6urrc3NxUVFSIiIju7u4AAAA6P00QAAAAAXRSTlMAQObYZgAAAHlJREFU\n",
       "CNdjYICASUEPoCzODTwJUCb7BpbfMOYC7l8MMMD8D85kvwBnToKzOBTgzJUMS6AslmTjOCiT8f//\n",
       "DwwMb+/sugnRzTeBo5YdYinnA85/XBsgogysAXBz+BH2+DvAnPHgPgMvxNnrDeIZdkBE39x9q9EA\n",
       "ZgEASiggRkSlCI4AAAAASUVORK5CYII=\n",
       "\" style=\"display:inline;vertical-align:middle;\" /></a><br>\n",
       "<strong id=\"example2\">example2:</strong> <a class=\"ProveItLink\" href=\"../__pv_it/demonstrations/6bab98a74b8616d3bba62fd3f94fe3fb1416c3650/expr.ipynb\"><img src=\"data:image/png;base64,iVBORw0KGgoAAAANSUhEUgAAABEAAAAUBAMAAACZjst6AAAAMFBMVEX///+YmJiqqqqIiIgyMjLc\n",
       "3NwiIiIQEBC6urp2dnZUVFTMzMxERERmZmbu7u4AAADrYmUNAAAAAXRSTlMAQObYZgAAAH1JREFU\n",
       "CNdjYAABTtt1DBBwkeEOlHWTQZ4BBmBiDHzVMJaJAZB398wGiOwrBs4fQFa8AsM9BoZyoKp4AYYy\n",
       "Bob1AakM4g8Y/B8wrN+w03IpWGP+A6gJHD9hZrEtgLHuwhjMF2AsXQbWADCDewIDM4QVNnPuMoik\n",
       "////38AMAPc4H96J0DaDAAAAAElFTkSuQmCC\n",
       "\" style=\"display:inline;vertical-align:middle;\" /></a><br>\n",
       "<strong id=\"example3\">example3:</strong> <a class=\"ProveItLink\" href=\"../__pv_it/demonstrations/43962e5ede2b0a9d0404848ae103c03919cc553f0/expr.ipynb\"><img src=\"data:image/png;base64,iVBORw0KGgoAAAANSUhEUgAAADUAAAAVBAMAAAAUZLt1AAAAMFBMVEX///8iIiJERES6urrc3NzM\n",
       "zMwyMjJmZmaIiIiYmJh2dnZUVFTu7u4QEBCqqqoAAACWg0QRAAAAAXRSTlMAQObYZgAAAKBJREFU\n",
       "KM9jYMAOuIpqGHCBJQzbcMqJMMQ74JITZvA3wKmR4f0B3HISuKW4CoAE3x2sctOB+PTqP9ikmBcw\n",
       "BzAwcGKVC3v36AAuufv//zNgkWOpqoA5AUPO1oHtAw45npsM7AoocjxpYAB0G/sfBsYGHPp4FRjO\n",
       "B+CQO7+A4T0DLrkHDNv4oPHDgSbH1MApzQVhsu/9Vonqzh2t3s0MhAAA5/suonkiRQUAAAAASUVO\n",
       "RK5CYII=\n",
       "\" style=\"display:inline;vertical-align:middle;\" /></a><br>"
      ],
      "text/plain": [
       "example1: x^{2}\n",
       "example2: 2^{3}\n",
       "example3: 1 - a^{2}"
      ]
     },
     "execution_count": 3,
     "metadata": {},
     "output_type": "execute_result"
    }
   ],
   "source": [
    "# exponentials involving variables and numbers\n",
    "example1, example2, example3 = Exp(x, two), Exp(two, three), subtract(one, Exp(a, two))"
   ]
  },
  {
   "cell_type": "code",
   "execution_count": 4,
   "metadata": {},
   "outputs": [
    {
     "data": {
      "text/html": [
       "<a class=\"ProveItLink\" href=\"../__pv_it/demonstrations/d198432a506c6bf4d74d22ca69fb87b211906d250/expr.ipynb\"><img src=\"data:image/png;base64,iVBORw0KGgoAAAANSUhEUgAAAFMAAAAaBAMAAAA5y32XAAAAMFBMVEX////MzMwQEBCIiIgiIiKY\n",
       "mJiqqqp2dnbu7u4yMjK6urpUVFRERETc3NxmZmYAAAACInZpAAAAAXRSTlMAQObYZgAAAYZJREFU\n",
       "OMuVk79Lw0AUx781aZumieRPEHFxK3TpINJNHMQOOipuuiiBIjppEEHExcHBTAriJGJBV6k4V7hB\n",
       "ByczikOtKArtUN/lkraJaYkP3iXv3Ye79+sAX97bg6XRIfU7xJXsaWz0OTaJt9ikckjLU9/t1Z7/\n",
       "9BLhkZkp9ZqBLOs69kkzLAo9QLopLvVknXQxgKRy4vsKjALl7kaRdCYSHQOqDDsdv1SiJhQj0RML\n",
       "VQOZTtlljjuUQ/72rBxESWYtpB2eITfypBqdvIe53HQYVX+AJOWlT/mhylSvTWxbl2FUrpBFxPk9\n",
       "GUmTliEKx0JNlNm2j8Ztu+IaddIEH6wrule2PBT4DKfl5iBQmY5ehhcAEh9/0DXoDCoPUWoCx/DS\n",
       "WpEaKATRhAmJuWlBaSHluPE5UL+1hl4Koo8bWzfAsOm+FCaaT3co14XJ+XAL2u0vmg+D/7+YF8IZ\n",
       "3Vghu+6qjTwIMzguitVriRaqLVE+aGzw5PMWG57d/9H6p0z4jv4PZgH/kl+HzHeYGcWrqQAAAABJ\n",
       "RU5ErkJggg==\n",
       "\" style=\"display:inline;vertical-align:middle;\" /></a>"
      ],
      "text/plain": [
       "sqrt((x + 2))"
      ]
     },
     "execution_count": 4,
     "metadata": {},
     "output_type": "execute_result"
    }
   ],
   "source": [
    "# A sqrt portrayed with a radical is produced using the special sqrt() call,\n",
    "# which invokes the Exp() class behind the scenes with special formatting\n",
    "sqrt(Add(x, two))"
   ]
  },
  {
   "cell_type": "markdown",
   "metadata": {},
   "source": [
    "## Common Attributes of a Subset expression <a id='common_attributes'></a>"
   ]
  },
  {
   "cell_type": "markdown",
   "metadata": {},
   "source": [
    "<font size=4>Let's define a simple example exponential expression, $(x-y)^2$, and look at some of its attributes.</font>"
   ]
  },
  {
   "cell_type": "code",
   "execution_count": 5,
   "metadata": {},
   "outputs": [
    {
     "data": {
      "text/html": [
       "<strong id=\"x_minus_y_quantity_squared\">x_minus_y_quantity_squared:</strong> <a class=\"ProveItLink\" href=\"../__pv_it/demonstrations/e47f26866bee96a458a5ff851739205d9ca128d00/expr.ipynb\"><img src=\"data:image/png;base64,iVBORw0KGgoAAAANSUhEUgAAAEYAAAAbBAMAAAAzEOSeAAAAMFBMVEX////MzMxUVFR2dna6uroQ\n",
       "EBCqqqqIiIgiIiJmZmYyMjJERETu7u6YmJjc3NwAAACgK8IjAAAAAXRSTlMAQObYZgAAATJJREFU\n",
       "KM9jYCAALHceIKSE+QHTAkJqOB4w/iOoxoHvCwNBwPaHsBqOAsJqLIGY7wJOWx4ACd4JQOI0biP0\n",
       "gNiZwZGBYR1uNacYGBiXpe2BmIUrAAsYWP///wAMJNxqeAIg9At8floCoSqB+HjRk2LUUDg+nYEv\n",
       "BuJvINgLNNKAt50DNeYMXBnYPzAw3ILw2oBOO8D8hwXFWXwJsxi4NzAwZEC4IUBzwHwgvQoMBEAi\n",
       "4Qz8QNvl4WoYwHwUwPKHQV4ArqYNRID4KIBzAUMpkPKAu5ntQD0DO2qK5FZg2MQAdzPQe/4J+xne\n",
       "opmjwPIXSE2G8IDGHSo/Phct8nnUK0FJdCEswWIPYqCLGHgaIGzscarFcN4BHKcQsA+bml6G7ZC0\n",
       "AQFY05h7pQCydtxplRfqVAAaBUnxxLx3QAAAAABJRU5ErkJggg==\n",
       "\" style=\"display:inline;vertical-align:middle;\" /></a><br>"
      ],
      "text/plain": [
       "x_minus_y_quantity_squared: (x - y)^{2}"
      ]
     },
     "execution_count": 5,
     "metadata": {},
     "output_type": "execute_result"
    }
   ],
   "source": [
    "x_minus_y_quantity_squared = Exp(subtract(x,y), two)"
   ]
  },
  {
   "cell_type": "code",
   "execution_count": 6,
   "metadata": {},
   "outputs": [
    {
     "data": {
      "text/html": [
       "<table><tr><th>&nbsp;</th><th>core type</th><th>sub-expressions</th><th>expression</th></tr>\n",
       "<tr><td>0</td><td>Operation</td><td>operator:&nbsp;1<br>operands:&nbsp;2<br></td><td><a class=\"ProveItLink\" href=\"../__pv_it/demonstrations/e47f26866bee96a458a5ff851739205d9ca128d00/expr.ipynb\"><img src=\"data:image/png;base64,iVBORw0KGgoAAAANSUhEUgAAAEYAAAAbBAMAAAAzEOSeAAAAMFBMVEX////MzMxUVFR2dna6uroQ\n",
       "EBCqqqqIiIgiIiJmZmYyMjJERETu7u6YmJjc3NwAAACgK8IjAAAAAXRSTlMAQObYZgAAATJJREFU\n",
       "KM9jYCAALHceIKSE+QHTAkJqOB4w/iOoxoHvCwNBwPaHsBqOAsJqLIGY7wJOWx4ACd4JQOI0biP0\n",
       "gNiZwZGBYR1uNacYGBiXpe2BmIUrAAsYWP///wAMJNxqeAIg9At8floCoSqB+HjRk2LUUDg+nYEv\n",
       "BuJvINgLNNKAt50DNeYMXBnYPzAw3ILw2oBOO8D8hwXFWXwJsxi4NzAwZEC4IUBzwHwgvQoMBEAi\n",
       "4Qz8QNvl4WoYwHwUwPKHQV4ArqYNRID4KIBzAUMpkPKAu5ntQD0DO2qK5FZg2MQAdzPQe/4J+xne\n",
       "opmjwPIXSE2G8IDGHSo/Phct8nnUK0FJdCEswWIPYqCLGHgaIGzscarFcN4BHKcQsA+bml6G7ZC0\n",
       "AQFY05h7pQCydtxplRfqVAAaBUnxxLx3QAAAAABJRU5ErkJggg==\n",
       "\" style=\"display:inline;vertical-align:middle;\" /></a></td></tr>\n",
       "<tr><td>1</td><td>Literal</td><td></td><td><a class=\"ProveItLink\" href=\"../__pv_it/common/31d1b89e3c2fad7d997556c69b6be6425b6f59a40/expr.ipynb\"><img src=\"data:image/png;base64,iVBORw0KGgoAAAANSUhEUgAAACgAAAASBAMAAADbMYGVAAAAMFBMVEX///+qqqoQEBDc3NzMzMx2\n",
       "dnbu7u66urqYmJgyMjIiIiJUVFRmZmZERESIiIgAAADRBAegAAAAAXRSTlMAQObYZgAAAONJREFU\n",
       "GNNjYGB4+//O6V0/GdAASKAXTYz9H5DIQRNk/QIk8tAEOT8wsDIwownyX2DoAFJs7zbXxTGUXvZ7\n",
       "nQDk1c/Z9BlIpTJ0PVjJELBLgPUCkBfvwDABSIUxxCcUMwvMZuD4AOTNZ2AIYHBgSGC4CzSD4SMD\n",
       "6zeg4F8GhgS2B0AGyGns3xh4FaDOZAUazgJyGusChvwDUGd6MzCI8X1geMbAeYChCaiAC2guuwoD\n",
       "+0feD8wNQPexqDAwZM//fWbv+gkMbPuevQE6t77ujQF62DBEMWABc7CIsX3EIij1E+RgAJoNQWX9\n",
       "dNDfAAAAAElFTkSuQmCC\n",
       "\" style=\"display:inline;vertical-align:middle;\" /></a></td></tr>\n",
       "<tr><td>2</td><td>ExprTuple</td><td>3, 4</td><td><a class=\"ProveItLink\" href=\"../__pv_it/demonstrations/2ac7252b005609562e08b3e4bd7b22c1350bdefb0/expr.ipynb\"><img src=\"data:image/png;base64,iVBORw0KGgoAAAANSUhEUgAAAE8AAAAUBAMAAAA+U32BAAAAMFBMVEX////MzMxUVFR2dna6uroQ\n",
       "EBCqqqqIiIgiIiJmZmYyMjJERETu7u6YmJjc3NwAAACgK8IjAAAAAXRSTlMAQObYZgAAAVZJREFU\n",
       "KM+NkzFLw1AUhb+a0NQ2jfkHdlNcGnCQbl1ENxdFB4euLiKKSCc7VRexm1QUMjtY6eIgahCkgoP+\n",
       "Asng0EUo6CBSre/ZJJJiUy+8cM7N4b1z370PjEcGxqr83Edr9OqFyZAr0Gm08AblDd2GdCVaeAQL\n",
       "MAUJN1q4BFmXW2gOqKPmkDVJ5ikK0lh/3lgL/W4cYCz7ZN9BqXApCrPSOwk7JLSm0VoeVl9FJTZl\n",
       "UBylrYasGoVDUmceSWQgXmJe7Ogl9ZOfMGVmkRHfTFWsWEsK+U36obYZNbtQq3SFZUn8ZBDDNpse\n",
       "XMFwUUuymLizjeaEhKkM9S6KWWiuLCYHc4VrXnp2zKif6B8CNSdz44JbzIp2bjWOe0ZIHyt+wa44\n",
       "ptbpvEPS7NtC4VJ48tldv6GY4CEvLjjgYii4+ku4x7lsZODE7je4M0V5YYHxlPT3n6fwBN8lXlQS\n",
       "KUTYYAAAAABJRU5ErkJggg==\n",
       "\" style=\"display:inline;vertical-align:middle;\" /></a></td></tr>\n",
       "<tr><td>3</td><td>Operation</td><td>operator:&nbsp;5<br>operands:&nbsp;6<br></td><td><a class=\"ProveItLink\" href=\"../__pv_it/demonstrations/e1488eaf9ddea4bb60c1d7acd60ca34214fc94650/expr.ipynb\"><img src=\"data:image/png;base64,iVBORw0KGgoAAAANSUhEUgAAADAAAAANBAMAAAAdyPDHAAAAMFBMVEX///8QEBBmZmaqqqrMzMxE\n",
       "REQyMjIiIiKYmJh2dna6urrc3NxUVFSIiIju7u4AAAA6P00QAAAAAXRSTlMAQObYZgAAAJlJREFU\n",
       "GNNjYHh7Z9fNCwzI4K0uA7ccA98Ejlr2BBSJCQsZeD8wcD7g/Me1AVmc20CNgTWAgQ9EAAFfGhg4\n",
       "AFkMsgz8IMP5UW1gYOD6x+APVAAhkAFTAsNFBgbmB/cZeB+gSLAeYIhhYFhvEM+wA03HAa4fDAxv\n",
       "7r7VaECV4Dt76TcDdsCUgFX4GMP7BVglKhhisRu09hLQAwBd5Ce6/a5bXwAAAABJRU5ErkJggg==\n",
       "\" style=\"display:inline;vertical-align:middle;\" /></a></td></tr>\n",
       "<tr><td>4</td><td>Literal</td><td></td><td><a class=\"ProveItLink\" href=\"../../numerals/__pv_it/common/3829356ce3fdf8f35810c63c00bc1a19e838663e0/expr.ipynb\"><img src=\"data:image/png;base64,iVBORw0KGgoAAAANSUhEUgAAAAkAAAAOBAMAAAAPuiubAAAALVBMVEX///+qqqqIiIgyMjLc3Nwi\n",
       "IiIQEBC6urp2dnZUVFTMzMxERERmZmbu7u4AAAAQI6y7AAAAAXRSTlMAQObYZgAAAFJJREFUCNdj\n",
       "4D2zewEDw00GjucMDGcZGNIYGFIZGOY5MNhdYJgHlGBgiLsAJNhfgJisE0DkGRDBdABEyjCwODBw\n",
       "NTAwOTC4dvRMZWCwe/fuKQMANh0TGKpG4roAAAAASUVORK5CYII=\n",
       "\" style=\"display:inline;vertical-align:middle;\" /></a></td></tr>\n",
       "<tr><td>5</td><td>Literal</td><td></td><td><a class=\"ProveItLink\" href=\"../../addition/__pv_it/common/1f38fe5cce441387feef296e2c0a2eac260bb4f30/expr.ipynb\"><img src=\"data:image/png;base64,iVBORw0KGgoAAAANSUhEUgAAAA4AAAAPBAMAAAAmOuNHAAAAHlBMVEX////u7u5UVFQQEBAiIiIy\n",
       "MjJ2dnaIiIiqqqoAAABCN83zAAAAAXRSTlMAQObYZgAAABxJREFUCNdjYECAdlLo1NBQ59DQIJL1\n",
       "AYEgEAMABwsItInrGUMAAAAASUVORK5CYII=\n",
       "\" style=\"display:inline;vertical-align:middle;\" /></a></td></tr>\n",
       "<tr><td>6</td><td>ExprTuple</td><td>7, 8</td><td><a class=\"ProveItLink\" href=\"../__pv_it/demonstrations/f109c357ba527288a8789ee92321e1612795885e0/expr.ipynb\"><img src=\"data:image/png;base64,iVBORw0KGgoAAAANSUhEUgAAADwAAAAUBAMAAAAjLUMaAAAAMFBMVEX////MzMxUVFR2dna6uroQ\n",
       "EBCqqqqIiIgiIiJmZmYyMjJERETu7u6YmJjc3NwAAACgK8IjAAAAAXRSTlMAQObYZgAAAQhJREFU\n",
       "KM9jYOC7wIADsD0AEqcZcAI9IF6HW/oUAwPvBNzSzAUMHA9wS/MEMLxgwAOWMFQCyeNFT4oLUMSP\n",
       "T2fgi2FgsGTYCzTDgLedYwGKtIErA/sHBoZbDG1AFxxg/sOC4gS+hFkM3BsYGDIYQoC6wUyIV1aB\n",
       "wEIehnAGfqB18iBpBjATBbD8YZAXAEm3gXggJgrgXMBQCqQ8QE5jO1DPwH4ARZpbgWETA8hplgwM\n",
       "/gn7Gd4y8PxC1q3A8hdITQbqZzhUfnwuMNo6kAzgUa/8B6QWIgUq2wE02xl4GpCihBlJUovhvAM4\n",
       "Shj2wQMSSbqXYTskQhHJATnVuFeCvArSiTsx8T5gAADA10FMLDiCtwAAAABJRU5ErkJggg==\n",
       "\" style=\"display:inline;vertical-align:middle;\" /></a></td></tr>\n",
       "<tr><td>7</td><td>Variable</td><td></td><td><a class=\"ProveItLink\" href=\"../../../__pv_it/common/a2581dc5df71d9a30bad37de14965fa5fec97a240/expr.ipynb\"><img src=\"data:image/png;base64,iVBORw0KGgoAAAANSUhEUgAAAAsAAAAJBAMAAAAWSsseAAAALVBMVEX///9mZmaqqqrMzMxEREQy\n",
       "MjIiIiKYmJh2dna6urrc3NxUVFSIiIju7u4AAACJHQtQAAAAAXRSTlMAQObYZgAAAEJJREFUCNdj\n",
       "YLhzeuWJAwy8Dew5bAEMHBc43nIuYOBlYHFgAAG+A2DKzgBIMF04x8BzgWGegh/DcgaG22fuiBcw\n",
       "AAATyhBrnyPYZQAAAABJRU5ErkJggg==\n",
       "\" style=\"display:inline;vertical-align:middle;\" /></a></td></tr>\n",
       "<tr><td>8</td><td>Operation</td><td>operator:&nbsp;9<br>operand:&nbsp;11<br></td><td><a class=\"ProveItLink\" href=\"../__pv_it/demonstrations/9ea885a56c06209d58aad42498fc1a5c5430c3b30/expr.ipynb\"><img src=\"data:image/png;base64,iVBORw0KGgoAAAANSUhEUgAAABoAAAANBAMAAABFt2PeAAAAMFBMVEX///8iIiKYmJhUVFRERESq\n",
       "qqq6urp2dnYQEBDc3NxmZmaIiIjMzMwyMjLu7u4AAABBcqZSAAAAAXRSTlMAQObYZgAAAGJJREFU\n",
       "CNdjYICC16sZOPtgHIaCDAbuDzAOZ8BaBhYHhrd3QeAOH0M3A/8GuEq2fwznD8B5XBcYdsA5DCwG\n",
       "DM4IHpcB2ycEj896108GJADUCQe2DO8TEDwhBm8kddm7gLYBAFRsGS/yktjbAAAAAElFTkSuQmCC\n",
       "\" style=\"display:inline;vertical-align:middle;\" /></a></td></tr>\n",
       "<tr><td>9</td><td>Literal</td><td></td><td><a class=\"ProveItLink\" href=\"../../negation/__pv_it/common/31a69a5c76809537045e3884859f178d8d9c845c0/expr.ipynb\"><img src=\"data:image/png;base64,iVBORw0KGgoAAAANSUhEUgAAAA4AAAACBAMAAACapPCZAAAAD1BMVEX////MzMwyMjLu7u4AAAC4\n",
       "fJKRAAAAAXRSTlMAQObYZgAAABBJREFUCNdjMFICAUUGKAAADB8A/huHQ9UAAAAASUVORK5CYII=\n",
       "\" style=\"display:inline;vertical-align:middle;\" /></a></td></tr>\n",
       "<tr><td>10</td><td>ExprTuple</td><td>11</td><td><a class=\"ProveItLink\" href=\"../../../__pv_it/common/da0165ca23670715500cc2052331c5d49cf412020/expr.ipynb\"><img src=\"data:image/png;base64,iVBORw0KGgoAAAANSUhEUgAAABcAAAAUBAMAAACUkLs9AAAAMFBMVEX///9UVFTMzMx2dna6uroQ\n",
       "EBCqqqqIiIgiIiJmZmYyMjJERETu7u6YmJjc3NwAAAC+aOQFAAAAAXRSTlMAQObYZgAAALpJREFU\n",
       "GNM1jzsKwlAQRU8+an6KS3AJdmJnaZcUrkPShVRaWUfLNGYFgrUosRAEm6xA0iiWIoKtk9/AzJsD\n",
       "9w33Qi+jrHkxbtWOksvY1eAk0I1qYARG3sAFXs2ONSEUdejzSNEijqDpHgv5nbCCp5lwgPaSGaQt\n",
       "nx+o7wJwU/VTgsiI6XigL4sD7LH75YGxwBpX3JpDpgLnYCs+rEFtJ5a+lkaVxPlWRjlhZLZfRZBw\n",
       "erCR1y70Tew7/AEf1i10vuYsBAAAAABJRU5ErkJggg==\n",
       "\" style=\"display:inline;vertical-align:middle;\" /></a></td></tr>\n",
       "<tr><td>11</td><td>Variable</td><td></td><td><a class=\"ProveItLink\" href=\"../../../__pv_it/common/0f21cbfd5644a1cae6781c1d58354abc2ffbc9000/expr.ipynb\"><img src=\"data:image/png;base64,iVBORw0KGgoAAAANSUhEUgAAAAsAAAANBAMAAACN24kIAAAAMFBMVEX///8iIiKYmJhUVFTMzMxE\n",
       "REQyMjKqqqq6urp2dnYQEBDc3NxmZmaIiIju7u4AAACH5sGpAAAAAXRSTlMAQObYZgAAAFlJREFU\n",
       "CNdj4LtzgWHXAwZOjgUM9xkYtvMkMIQyMDzgusDwl4GBof8ByxcgdYyBdwGQCmZgNQBShxn6FYDU\n",
       "47vnNzAwgGUZGJgT+H4AKUYF1gtAiuPuESAJAJGkFvXVdzA+AAAAAElFTkSuQmCC\n",
       "\" style=\"display:inline;vertical-align:middle;\" /></a></td></tr>\n",
       "</table>\n"
      ],
      "text/plain": [
       "0. (x - y)^{2}\n",
       "   core type: Operation\n",
       "   operator: 1\n",
       "   operands: 2\n",
       "1. Exp\n",
       "   core type: Literal\n",
       "   sub-expressions: \n",
       "2. (x - y, 2)\n",
       "   core type: ExprTuple\n",
       "   sub-expressions: 3, 4\n",
       "3. x - y\n",
       "   core type: Operation\n",
       "   operator: 5\n",
       "   operands: 6\n",
       "4. 2\n",
       "   core type: Literal\n",
       "   sub-expressions: \n",
       "5. +\n",
       "   core type: Literal\n",
       "   sub-expressions: \n",
       "6. (x, -y)\n",
       "   core type: ExprTuple\n",
       "   sub-expressions: 7, 8\n",
       "7. x\n",
       "   core type: Variable\n",
       "   sub-expressions: \n",
       "8. -y\n",
       "   core type: Operation\n",
       "   operator: 9\n",
       "   operand: 11\n",
       "9. -\n",
       "   core type: Literal\n",
       "   sub-expressions: \n",
       "10. (y)\n",
       "    core type: ExprTuple\n",
       "    sub-expressions: 11\n",
       "11. y\n",
       "    core type: Variable\n",
       "    sub-expressions: "
      ]
     },
     "execution_count": 6,
     "metadata": {},
     "output_type": "execute_result"
    }
   ],
   "source": [
    "x_minus_y_quantity_squared.expr_info()"
   ]
  },
  {
   "cell_type": "markdown",
   "metadata": {},
   "source": [
    "<font size=4>We can access the base and exponent separately, and identify the `Exp` operator as the outermost operation:</font>"
   ]
  },
  {
   "cell_type": "code",
   "execution_count": 7,
   "metadata": {},
   "outputs": [
    {
     "data": {
      "text/html": [
       "<a class=\"ProveItLink\" href=\"../__pv_it/demonstrations/e1488eaf9ddea4bb60c1d7acd60ca34214fc94650/expr.ipynb\"><img src=\"data:image/png;base64,iVBORw0KGgoAAAANSUhEUgAAADAAAAANBAMAAAAdyPDHAAAAMFBMVEX///8QEBBmZmaqqqrMzMxE\n",
       "REQyMjIiIiKYmJh2dna6urrc3NxUVFSIiIju7u4AAAA6P00QAAAAAXRSTlMAQObYZgAAAJlJREFU\n",
       "GNNjYHh7Z9fNCwzI4K0uA7ccA98Ejlr2BBSJCQsZeD8wcD7g/Me1AVmc20CNgTWAgQ9EAAFfGhg4\n",
       "AFkMsgz8IMP5UW1gYOD6x+APVAAhkAFTAsNFBgbmB/cZeB+gSLAeYIhhYFhvEM+wA03HAa4fDAxv\n",
       "7r7VaECV4Dt76TcDdsCUgFX4GMP7BVglKhhisRu09hLQAwBd5Ce6/a5bXwAAAABJRU5ErkJggg==\n",
       "\" style=\"display:inline;vertical-align:middle;\" /></a>"
      ],
      "text/plain": [
       "x - y"
      ]
     },
     "execution_count": 7,
     "metadata": {},
     "output_type": "execute_result"
    }
   ],
   "source": [
    "x_minus_y_quantity_squared.base"
   ]
  },
  {
   "cell_type": "code",
   "execution_count": 8,
   "metadata": {},
   "outputs": [
    {
     "data": {
      "text/html": [
       "<a class=\"ProveItLink\" href=\"../../numerals/__pv_it/common/3829356ce3fdf8f35810c63c00bc1a19e838663e0/expr.ipynb\"><img src=\"data:image/png;base64,iVBORw0KGgoAAAANSUhEUgAAAAkAAAAOBAMAAAAPuiubAAAALVBMVEX///+qqqqIiIgyMjLc3Nwi\n",
       "IiIQEBC6urp2dnZUVFTMzMxERERmZmbu7u4AAAAQI6y7AAAAAXRSTlMAQObYZgAAAFJJREFUCNdj\n",
       "4D2zewEDw00GjucMDGcZGNIYGFIZGOY5MNhdYJgHlGBgiLsAJNhfgJisE0DkGRDBdABEyjCwODBw\n",
       "NTAwOTC4dvRMZWCwe/fuKQMANh0TGKpG4roAAAAASUVORK5CYII=\n",
       "\" style=\"display:inline;vertical-align:middle;\" /></a>"
      ],
      "text/plain": [
       "2"
      ]
     },
     "execution_count": 8,
     "metadata": {},
     "output_type": "execute_result"
    }
   ],
   "source": [
    "x_minus_y_quantity_squared.exponent"
   ]
  },
  {
   "cell_type": "code",
   "execution_count": 9,
   "metadata": {},
   "outputs": [
    {
     "data": {
      "text/html": [
       "<a class=\"ProveItLink\" href=\"../__pv_it/common/31d1b89e3c2fad7d997556c69b6be6425b6f59a40/expr.ipynb\"><img src=\"data:image/png;base64,iVBORw0KGgoAAAANSUhEUgAAACgAAAASBAMAAADbMYGVAAAAMFBMVEX///+qqqoQEBDc3NzMzMx2\n",
       "dnbu7u66urqYmJgyMjIiIiJUVFRmZmZERESIiIgAAADRBAegAAAAAXRSTlMAQObYZgAAAONJREFU\n",
       "GNNjYGB4+//O6V0/GdAASKAXTYz9H5DIQRNk/QIk8tAEOT8wsDIwownyX2DoAFJs7zbXxTGUXvZ7\n",
       "nQDk1c/Z9BlIpTJ0PVjJELBLgPUCkBfvwDABSIUxxCcUMwvMZuD4AOTNZ2AIYHBgSGC4CzSD4SMD\n",
       "6zeg4F8GhgS2B0AGyGns3xh4FaDOZAUazgJyGusChvwDUGd6MzCI8X1geMbAeYChCaiAC2guuwoD\n",
       "+0feD8wNQPexqDAwZM//fWbv+gkMbPuevQE6t77ujQF62DBEMWABc7CIsX3EIij1E+RgAJoNQWX9\n",
       "dNDfAAAAAElFTkSuQmCC\n",
       "\" style=\"display:inline;vertical-align:middle;\" /></a>"
      ],
      "text/plain": [
       "Exp"
      ]
     },
     "execution_count": 9,
     "metadata": {},
     "output_type": "execute_result"
    }
   ],
   "source": [
    "x_minus_y_quantity_squared.operator"
   ]
  },
  {
   "cell_type": "markdown",
   "metadata": {},
   "source": [
    "<font size=4>We can grab all the components (base and exponent) of the expression simultaneously as a tuple of expressions. We can also get a list of the variables and a separate list of the *free* variables in the expression (of course, in this expression, all the variables are also free variables):</font>"
   ]
  },
  {
   "cell_type": "code",
   "execution_count": 10,
   "metadata": {},
   "outputs": [
    {
     "data": {
      "text/html": [
       "<a class=\"ProveItLink\" href=\"../__pv_it/demonstrations/2ac7252b005609562e08b3e4bd7b22c1350bdefb0/expr.ipynb\"><img src=\"data:image/png;base64,iVBORw0KGgoAAAANSUhEUgAAAE8AAAAUBAMAAAA+U32BAAAAMFBMVEX////MzMxUVFR2dna6uroQ\n",
       "EBCqqqqIiIgiIiJmZmYyMjJERETu7u6YmJjc3NwAAACgK8IjAAAAAXRSTlMAQObYZgAAAVZJREFU\n",
       "KM+NkzFLw1AUhb+a0NQ2jfkHdlNcGnCQbl1ENxdFB4euLiKKSCc7VRexm1QUMjtY6eIgahCkgoP+\n",
       "Asng0EUo6CBSre/ZJJJiUy+8cM7N4b1z370PjEcGxqr83Edr9OqFyZAr0Gm08AblDd2GdCVaeAQL\n",
       "MAUJN1q4BFmXW2gOqKPmkDVJ5ikK0lh/3lgL/W4cYCz7ZN9BqXApCrPSOwk7JLSm0VoeVl9FJTZl\n",
       "UBylrYasGoVDUmceSWQgXmJe7Ogl9ZOfMGVmkRHfTFWsWEsK+U36obYZNbtQq3SFZUn8ZBDDNpse\n",
       "XMFwUUuymLizjeaEhKkM9S6KWWiuLCYHc4VrXnp2zKif6B8CNSdz44JbzIp2bjWOe0ZIHyt+wa44\n",
       "ptbpvEPS7NtC4VJ48tldv6GY4CEvLjjgYii4+ku4x7lsZODE7je4M0V5YYHxlPT3n6fwBN8lXlQS\n",
       "KUTYYAAAAABJRU5ErkJggg==\n",
       "\" style=\"display:inline;vertical-align:middle;\" /></a>"
      ],
      "text/plain": [
       "(x - y, 2)"
      ]
     },
     "execution_count": 10,
     "metadata": {},
     "output_type": "execute_result"
    }
   ],
   "source": [
    "x_minus_y_quantity_squared.operands"
   ]
  },
  {
   "cell_type": "code",
   "execution_count": 11,
   "metadata": {},
   "outputs": [
    {
     "data": {
      "text/plain": [
       "{x, y}"
      ]
     },
     "execution_count": 11,
     "metadata": {},
     "output_type": "execute_result"
    }
   ],
   "source": [
    "used_vars(x_minus_y_quantity_squared)"
   ]
  },
  {
   "cell_type": "code",
   "execution_count": 12,
   "metadata": {},
   "outputs": [
    {
     "data": {
      "text/plain": [
       "{x, y}"
      ]
     },
     "execution_count": 12,
     "metadata": {},
     "output_type": "execute_result"
    }
   ],
   "source": [
    "free_vars(x_minus_y_quantity_squared, err_inclusively=True)"
   ]
  },
  {
   "cell_type": "markdown",
   "metadata": {},
   "source": [
    "## Axioms <a id='axioms'></a>"
   ]
  },
  {
   "cell_type": "markdown",
   "metadata": {},
   "source": [
    "<font size=4>The ``axioms`` for the exponentiation theory establish the basic definitions of exponentiation … Actually, right now we have no separate axioms for the exponentiation theory.</font>"
   ]
  },
  {
   "cell_type": "markdown",
   "metadata": {},
   "source": [
    "## Theorems <a id='theorems'></a>"
   ]
  },
  {
   "cell_type": "markdown",
   "metadata": {},
   "source": [
    "<font size=4>The ``theorems`` for the exponentiation theory establish many of the basic laws of exponentiation as well as some closure principles.</font>"
   ]
  },
  {
   "cell_type": "markdown",
   "metadata": {},
   "source": [
    "## Demonstrations (TBA) <a id='further_demonstrations'></a>"
   ]
  },
  {
   "cell_type": "markdown",
   "metadata": {},
   "source": [
    "<a id='demo01'></a><font size=4>1. TBA.<br><br>\n",
    "We begin with something simple …</font>"
   ]
  },
  {
   "cell_type": "markdown",
   "metadata": {},
   "source": [
    "<a id='demo02'></a><font size=4><br>2. TBA.<br><br>\n",
    "Something else relatively simple …</font>"
   ]
  },
  {
   "cell_type": "markdown",
   "metadata": {},
   "source": [
    "<a id='demo03'></a><font size=4><br>3. TBA.<br><br>\n",
    "Something more complex …</font>"
   ]
  },
  {
   "cell_type": "markdown",
   "metadata": {},
   "source": [
    "## Misc To Be Integrated Into the Demonstration Page"
   ]
  },
  {
   "cell_type": "code",
   "execution_count": 13,
   "metadata": {},
   "outputs": [
    {
     "data": {
      "text/html": [
       "<strong id=\"exp_test_01\">exp_test_01:</strong> <a class=\"ProveItLink\" href=\"../__pv_it/demonstrations/5ff236238ef105f24efc2d59f72157260fc9d6a50/expr.ipynb\"><img src=\"data:image/png;base64,iVBORw0KGgoAAAANSUhEUgAAABUAAAAQBAMAAAAL9CkWAAAAMFBMVEX///8QEBBmZmaqqqrMzMxE\n",
       "REQyMjIiIiKYmJh2dna6urrc3NxUVFSIiIju7u4AAAA6P00QAAAAAXRSTlMAQObYZgAAAHpJREFU\n",
       "CNdjYAADrjsM7A8gTAZO/geOUCbDvuUMV2FsBk2Gs3B2FYMInF3C9QHOXnM1AUi+vbPr5gW+DawN\n",
       "DAx8Ezhq2RN4JiwDmfyA8x/XBq7OCUA2HwNrAFwXA/8FBNvfAcZifnCfgRfqrPUG8Qw7oOJv7r7V\n",
       "aIAwATGZH/CoOnM2AAAAAElFTkSuQmCC\n",
       "\" style=\"display:inline;vertical-align:middle;\" /></a><br>\n",
       "<strong id=\"exp_test_02\">exp_test_02:</strong> <a class=\"ProveItLink\" href=\"../__pv_it/demonstrations/6bab98a74b8616d3bba62fd3f94fe3fb1416c3650/expr.ipynb\"><img src=\"data:image/png;base64,iVBORw0KGgoAAAANSUhEUgAAABEAAAAUBAMAAACZjst6AAAAMFBMVEX///+YmJiqqqqIiIgyMjLc\n",
       "3NwiIiIQEBC6urp2dnZUVFTMzMxERERmZmbu7u4AAADrYmUNAAAAAXRSTlMAQObYZgAAAH1JREFU\n",
       "CNdjYAABTtt1DBBwkeEOlHWTQZ4BBmBiDHzVMJaJAZB398wGiOwrBs4fQFa8AsM9BoZyoKp4AYYy\n",
       "Bob1AakM4g8Y/B8wrN+w03IpWGP+A6gJHD9hZrEtgLHuwhjMF2AsXQbWADCDewIDM4QVNnPuMoik\n",
       "////38AMAPc4H96J0DaDAAAAAElFTkSuQmCC\n",
       "\" style=\"display:inline;vertical-align:middle;\" /></a><br>\n",
       "<strong id=\"exp_test_03\">exp_test_03:</strong> <a class=\"ProveItLink\" href=\"../__pv_it/demonstrations/cf011d846e763260e322f5570a766983b04650c20/expr.ipynb\"><img src=\"data:image/png;base64,iVBORw0KGgoAAAANSUhEUgAAABsAAAAVBAMAAABF8IgWAAAAMFBMVEX////MzMxEREQQEBCYmJh2\n",
       "dnYiIiLu7u6qqqpmZmYyMjK6urpUVFSIiIjc3NwAAADOWS8BAAAAAXRSTlMAQObYZgAAAK9JREFU\n",
       "GNNjYIAAvv8g8AHKY+DZwIAMXqHwGGag8NgTULisDSjcMgaGykmKcG4IA/sBhvgNCK2cBQzMBlAu\n",
       "rwMDcwIDzz8gczcQszEwcH1n4PkIlLACcu+C1bB9Z2B4fh9oAMTW/QFAol6BgeUCmJsDIjj/MbAV\n",
       "gBkTwF77yeAKlrwJseV8QTqI4pjA8A5Ey0eAVYkyMNwD0VxWIK18qaFzwBZw/AQLAsMGYp8ewmcA\n",
       "dDkq0OELPnAAAAAASUVORK5CYII=\n",
       "\" style=\"display:inline;vertical-align:middle;\" /></a><br>"
      ],
      "text/plain": [
       "exp_test_01: x^{y}\n",
       "exp_test_02: 2^{3}\n",
       "exp_test_03: sqrt(2)"
      ]
     },
     "execution_count": 13,
     "metadata": {},
     "output_type": "execute_result"
    }
   ],
   "source": [
    "# Some example test expressions involving Exp or sqrt()\n",
    "exp_test_01, exp_test_02, exp_test_03 = Exp(x, y), Exp(two, three), sqrt(two)"
   ]
  },
  {
   "cell_type": "markdown",
   "metadata": {},
   "source": [
    "Some testing of closure theorems."
   ]
  },
  {
   "cell_type": "code",
   "execution_count": 14,
   "metadata": {},
   "outputs": [
    {
     "name": "stdout",
     "output_type": "stream",
     "text": [
      "EXCEPTION: neither closure theorem applies without more constraints.  Proof step failed:\n",
      "Attempting to instantiate |- forall_{a in RealNonNeg, b in Real | b != 0} (a^{b} in Real) with {a: x, b: y}:\n",
      "Unsatisfied condition: x in RealNonNeg\n"
     ]
    }
   ],
   "source": [
    "# if we don't know anything about the base or exponent, difficult\n",
    "# to know what set(s) the result belongs to \n",
    "try:\n",
    "    exp_test_01.deduce_in_number_set(Real)\n",
    "except Exception as e:\n",
    "    print(\"EXCEPTION: neither closure theorem applies without more constraints. \", e)"
   ]
  },
  {
   "cell_type": "code",
   "execution_count": 15,
   "metadata": {},
   "outputs": [
    {
     "data": {
      "text/html": [
       "<span style=\"font-size:20px;\"><a class=\"ProveItLink\" href=\"../__pv_it/demonstrations/b907998e2345d216947c47aa610ab0cfc8c570dc0/expr.ipynb\"><img src=\"data:image/png;base64,iVBORw0KGgoAAAANSUhEUgAAAEoAAAAVBAMAAAATJmVgAAAAMFBMVEX///8QEBBmZmaqqqrMzMxE\n",
       "REQyMjIiIiKYmJh2dna6urrc3NxUVFSIiIju7u4AAAA6P00QAAAAAXRSTlMAQObYZgAAAStJREFU\n",
       "KM9jYCAIbt7EK71mA4jkmMB8AJ8qbh0HIMm+gOEfXsO4VYHK3jswCON3Et/UBQz+GxgqCLicb9oD\n",
       "/wcMtdik2kXj00QbwEzeDJBZslhNSHjD4Nr6AMh4Gwx21y+sqgJ2MrByA73/MgqLHznCy8tgqpg2\n",
       "JDA8igJbqoASXiyxDxBmMW0IYHCBhv0kkN13dt28AOI9e4BkIw8XSoDzTeCoZU8AsU4ju8tc7QGy\n",
       "Ks4HnP+4wBEWgFC1sbzMgIHBNBQIIIr5GFgh0ixiaUAANWsR6wM0f/NfgEQaklk7mZYEoKnyd4DQ\n",
       "AsjuiutFUcP84D4DL9h4XWRVPkwOyKrWG8Qz7ACz2A2QYojT4Aiyqjd332pAYpbv6Dp4bKcwhOYb\n",
       "YE8mXFOhMYQBALcpV1wIq+GRAAAAAElFTkSuQmCC\n",
       "\" style=\"display:inline;vertical-align:middle;\" /></a>, <a class=\"ProveItLink\" href=\"../__pv_it/demonstrations/acfb0eefb0b1b677bba1a9b1bb8fa2b4b46ea3330/expr.ipynb\"><img src=\"data:image/png;base64,iVBORw0KGgoAAAANSUhEUgAAADMAAAASBAMAAAAEf/uKAAAAMFBMVEX///8iIiKYmJhUVFTMzMxE\n",
       "REQyMjKqqqq6urp2dnYQEBDc3NxmZmaIiIju7u4AAACH5sGpAAAAAXRSTlMAQObYZgAAAN1JREFU\n",
       "GNNjYMAAikvj05YqMGAFCY8ZXFUfYJUK2MnAym2AIqQqKJgAleLZkIAs43oPoYtnQwADA9+dCwy7\n",
       "QAbz5SEZyMwBNJCTYwHDfZAA8wYkqcJjQNXbeRIYQkECrAhn7BIUKwDSD7guMPwFCXilAQHUGT2s\n",
       "YLf3P2D5AqK3IjmepyUAxDjGwLsARHMh+ytOF8QIZmAFe4/nApKUM48DkHGYoR8SYOJIAcVZYAJk\n",
       "PL57HuLsxxEPYMGbwhCaXwCxDQI6AwVRgoc5ge8H9ghgYFRgvYBDiuPuERwyAAfzPe7bmvmqAAAA\n",
       "AElFTkSuQmCC\n",
       "\" style=\"display:inline;vertical-align:middle;\" /></a>, <a class=\"ProveItLink\" href=\"../__pv_it/demonstrations/0d937039d61b039e68ef25847379c8d0c5c2b1720/expr.ipynb\"><img src=\"data:image/png;base64,iVBORw0KGgoAAAANSUhEUgAAADEAAAAUCAMAAAATIyWrAAAAOVBMVEX///8kJCQNDQ0oKCgiIiKY\n",
       "mJhUVFTMzMxEREQyMjKqqqq6urp2dnYQEBDc3NxmZmaIiIju7u4AAABm7KGZAAAAAXRSTlMAQObY\n",
       "ZgAAAORJREFUKM+VU+0OwyAIZFu1fhb0/R92olsDLrErP2gIvd7BUYBVpAL34vAKTibtFwgbReED\n",
       "QNmONYUThcmdx68ppAZnOYda/qWA2hGxsjZC4n6e0U5SlIoD0d5NEFki1XMnvsfryRm/hDXxY2+I\n",
       "IwDyOM6tKBoCByJB05JZFdPJ2K0qpaqWC4Mnc9y0+frZVZt8iKIMao5HHtOcTEO16dvtm3ZaBPjZ\n",
       "XOkgWlZmVD/ijz0bO5G79mKJsOpv+l9rSyISV4D6XgIur8fz7uIVhdTXJnDajJCWFxrbFJMX/u6v\n",
       "B3HVfAMacgkuiP3Y3AAAAABJRU5ErkJggg==\n",
       "\" style=\"display:inline;vertical-align:middle;\" /></a> <a class=\"ProveItLink\" href=\"../__pv_it/demonstrations/393db63bdc35e9e5a308a92c64454306c07df2ca0/proof.ipynb\" style=\"text-decoration: none\">&nbsp;&#x22A2;&nbsp;&nbsp;</a><a class=\"ProveItLink\" href=\"../__pv_it/demonstrations/b378dcba51bae531233a53550b69ccbd36aa5ec70/expr.ipynb\"><img src=\"data:image/png;base64,iVBORw0KGgoAAAANSUhEUgAAAD4AAAARBAMAAAB3FQKUAAAAMFBMVEX///8QEBBmZmaqqqrMzMxE\n",
       "REQyMjIiIiKYmJh2dna6urrc3NxUVFSIiIju7u4AAAA6P00QAAAAAXRSTlMAQObYZgAAAPhJREFU\n",
       "KM9jYAADrjsM7A8YcANO/geOeKQZ9i1nuIoiwFEY+i0xAsHXZDiLqoON7wBLRBycW8UggirPyj2B\n",
       "IWAPnFvC9QHCaC0vT4DJa7PB5ddcBYsyuN5D0q/NCmS8vbPr5gW+DawNIFG+PGTzD6wBikzgqGVP\n",
       "4JmwDCzKswFJnrkIqJrzAec/rg1cnRMgokjuEy9PBpnIwBqAcLVjGhBA3TdLAeI9/gsI+a3I/tNy\n",
       "BbP8HRDyjMjyrC+AOpkf3GfghUcN0wUkeZYDKgwM6w3iGXYgDChGCl+GyTwODG/uvtVoQMi/iXoA\n",
       "jx8H1rDPGDG5MhwSvlAAAH8AQ10WQ5bQAAAAAElFTkSuQmCC\n",
       "\" style=\"display:inline;vertical-align:middle;\" /></a></span>"
      ],
      "text/plain": [
       "{x in RealNonNeg, y in Real, y != 0} |- x^{y} in Real"
      ]
     },
     "execution_count": 15,
     "metadata": {},
     "output_type": "execute_result"
    }
   ],
   "source": [
    "# if we know x, y are Real with some constraints:\n",
    "exp_test_01.deduce_in_number_set(Real,\n",
    "        assumptions=[InSet(x, RealNonNeg), InSet(y, Real), NotEquals(y, zero)])"
   ]
  },
  {
   "cell_type": "code",
   "execution_count": 16,
   "metadata": {},
   "outputs": [
    {
     "data": {
      "text/html": [
       "<span style=\"font-size:20px;\"><a class=\"ProveItLink\" href=\"../__pv_it/demonstrations/f399694c94d63fe522f8e05f5163f6a5a160a5b80/expr.ipynb\"><img src=\"data:image/png;base64,iVBORw0KGgoAAAANSUhEUgAAADQAAAAPBAMAAABZ6/G2AAAAMFBMVEX///8QEBBmZmaqqqrMzMxE\n",
       "REQyMjIiIiKYmJh2dna6urrc3NxUVFSIiIju7u4AAAA6P00QAAAAAXRSTlMAQObYZgAAAMRJREFU\n",
       "GNNjYMAAHIWh3xIjGLACNr4DLBFxWKVYuScwBOxBEWotL0+ASWmzIcu43kPSpc0KZLy9s+vmBSDN\n",
       "l4ds4IE1QJEJHLXsIHN4NiBJMRcBFXI+4PzHBRJlRXKGeHkyyBwG1gCwgGMaEECdMUsB4nb+C2Bq\n",
       "K7LjtVzBLH8HMMWILMX6Aqie+cF9Bt4HQAGmC0hSLAdUGBjWG8Qz7ACLFCMFFMNkHgeGN3ffajSA\n",
       "Rd5EPYAHrwNr2Gfk4FgZDgkoKAAAelg1omM6Y4wAAAAASUVORK5CYII=\n",
       "\" style=\"display:inline;vertical-align:middle;\" /></a>, <a class=\"ProveItLink\" href=\"../__pv_it/demonstrations/acfb0eefb0b1b677bba1a9b1bb8fa2b4b46ea3330/expr.ipynb\"><img src=\"data:image/png;base64,iVBORw0KGgoAAAANSUhEUgAAADMAAAASBAMAAAAEf/uKAAAAMFBMVEX///8iIiKYmJhUVFTMzMxE\n",
       "REQyMjKqqqq6urp2dnYQEBDc3NxmZmaIiIju7u4AAACH5sGpAAAAAXRSTlMAQObYZgAAAN1JREFU\n",
       "GNNjYMAAikvj05YqMGAFCY8ZXFUfYJUK2MnAym2AIqQqKJgAleLZkIAs43oPoYtnQwADA9+dCwy7\n",
       "QAbz5SEZyMwBNJCTYwHDfZAA8wYkqcJjQNXbeRIYQkECrAhn7BIUKwDSD7guMPwFCXilAQHUGT2s\n",
       "YLf3P2D5AqK3IjmepyUAxDjGwLsARHMh+ytOF8QIZmAFe4/nApKUM48DkHGYoR8SYOJIAcVZYAJk\n",
       "PL57HuLsxxEPYMGbwhCaXwCxDQI6AwVRgoc5ge8H9ghgYFRgvYBDiuPuERwyAAfzPe7bmvmqAAAA\n",
       "AElFTkSuQmCC\n",
       "\" style=\"display:inline;vertical-align:middle;\" /></a>, <a class=\"ProveItLink\" href=\"../__pv_it/demonstrations/607b7caea784f1400f0aedcfb3b72ec6470466e10/expr.ipynb\"><img src=\"data:image/png;base64,iVBORw0KGgoAAAANSUhEUgAAADEAAAAOBAMAAAB0nulXAAAAMFBMVEX///8QEBBmZmaqqqrMzMxE\n",
       "REQyMjIiIiKYmJh2dna6urrc3NxUVFSIiIju7u4AAAA6P00QAAAAAXRSTlMAQObYZgAAALhJREFU\n",
       "GNNjYMAG5nY6YBVnYDPgq0biPmuAMxsZGKYhyfBNvwBjxjAw2D9ANuT6PCjjDwPDegMGhrd3dt2E\n",
       "qm7Xg+j+BJS5wMA3gaOWPQGq2Ow0iOT+ycDgf4GB8wHnP64NMAOXnQPJAPX4T2DgY2ANQFi1LA5h\n",
       "GgMDP9xNUNNALrAHuoDBH+5fqAsYQhkY+h8wMD+4z8D7ANXVEJ+uN4hn2IHmU3YDPhEGhjd332o0\n",
       "oIUO39w7DgwA0hc2rjz1UYUAAAAASUVORK5CYII=\n",
       "\" style=\"display:inline;vertical-align:middle;\" /></a> <a class=\"ProveItLink\" href=\"../__pv_it/demonstrations/e27508c4b23fd53f4fbe996de358b70ac35abdb80/proof.ipynb\" style=\"text-decoration: none\">&nbsp;&#x22A2;&nbsp;&nbsp;</a><a class=\"ProveItLink\" href=\"../__pv_it/demonstrations/b378dcba51bae531233a53550b69ccbd36aa5ec70/expr.ipynb\"><img src=\"data:image/png;base64,iVBORw0KGgoAAAANSUhEUgAAAD4AAAARBAMAAAB3FQKUAAAAMFBMVEX///8QEBBmZmaqqqrMzMxE\n",
       "REQyMjIiIiKYmJh2dna6urrc3NxUVFSIiIju7u4AAAA6P00QAAAAAXRSTlMAQObYZgAAAPhJREFU\n",
       "KM9jYAADrjsM7A8YcANO/geOeKQZ9i1nuIoiwFEY+i0xAsHXZDiLqoON7wBLRBycW8UggirPyj2B\n",
       "IWAPnFvC9QHCaC0vT4DJa7PB5ddcBYsyuN5D0q/NCmS8vbPr5gW+DawNIFG+PGTzD6wBikzgqGVP\n",
       "4JmwDCzKswFJnrkIqJrzAec/rg1cnRMgokjuEy9PBpnIwBqAcLVjGhBA3TdLAeI9/gsI+a3I/tNy\n",
       "BbP8HRDyjMjyrC+AOpkf3GfghUcN0wUkeZYDKgwM6w3iGXYgDChGCl+GyTwODG/uvtVoQMi/iXoA\n",
       "jx8H1rDPGDG5MhwSvlAAAH8AQ10WQ5bQAAAAAElFTkSuQmCC\n",
       "\" style=\"display:inline;vertical-align:middle;\" /></a></span>"
      ],
      "text/plain": [
       "{x in Real, y in Real, x > 0} |- x^{y} in Real"
      ]
     },
     "execution_count": 16,
     "metadata": {},
     "output_type": "execute_result"
    }
   ],
   "source": [
    "# if we know x, y are Real with some constraints:\n",
    "exp_test_01.deduce_in_number_set(Real,\n",
    "        assumptions=[InSet(x, Real), InSet(y, Real), greater(x, zero)])"
   ]
  },
  {
   "cell_type": "code",
   "execution_count": 17,
   "metadata": {},
   "outputs": [
    {
     "data": {
      "text/html": [
       "<span style=\"font-size:20px;\"> <a class=\"ProveItLink\" href=\"proofs/exp_real_closure/thm_proof.ipynb\" style=\"text-decoration: none\">&nbsp;&#x22A2;&nbsp;&nbsp;</a><a class=\"ProveItLink\" href=\"../__pv_it/theorems/611a5770cb2da1e8911e4d48d9da5aa8928b0b460/expr.ipynb\"><img src=\"data:image/png;base64,iVBORw0KGgoAAAANSUhEUgAAAUMAAAAcCAMAAADMQi2jAAAAOVBMVEX///8oKCgUFBQNDQ0QEBCI\n",
       "iIhmZma6urrMzMxUVFQiIiJERETc3Nzu7u6qqqp2dnaYmJgyMjIAAAArQGDrAAAAAXRSTlMAQObY\n",
       "ZgAABH1JREFUaN7tWdmSmzAQJAmjaxgd/P/HRifoAtvx5slW1e6WvbSEWj1Hw7J8xzm4c18S3h2G\n",
       "fTl4dQjefnb6JTh8GVyE7L7Yt9diX345dNRxugNIeiX27adTyPpYBEULvJQSVWD8LET20zjd9l5y\n",
       "6Em1N6XZqhVxd27FwlVk3OgrYX9gEV59iWG3Oc4t5P8v0CLlcwi/sJwKfloor0MRDsJcb0szLptJ\n",
       "fzLVSlfyM/rjQzlkN9tKyaLyw/Ucsq0kQRaut4bC2NSnydCuk17HmOYzAk116DnMXEOcZccwlPmR\n",
       "s33UkN2h3gLfg2ZQdqhrY4bBOpYDGktE5lAerSGPapZxAdz+yT22ff71OYCB8E/NZ7n9XXB/ozSA\n",
       "ZlAsUctXv3e3j1fI7SIfasUKvWIP9HEWKX+icGkFKJmDZs6rNbf67G1YWKYguLjTBszrT4/B7Y0y\n",
       "MYImUJeVRKsteW0gbMbhGhKkPrNqPJ6QCWHWHB5XkjaM2eAP/Z0ZgvkyolESyUraiueqR/HGy2L2\n",
       "RLVgH15SXIBro5pRjc1NFbMD0dixqEw8i9GoRu8rVldGo0MvOjyCnBKHwbBMK0pxjxb1RrRkDi3Z\n",
       "OYeyyzobFjVRFHzsGlz4Cvi524zqwZ5FFFNw2J2yzZKNzY37G0BuEKLLHK54XN/f/0Vvw7jAToeb\n",
       "O8w3MZBOdO6Rs/P4I4dmzqEaphDIKM0UdhA3ngSfYDHA1BV4IYN8Bg40uRrV2FxupiuOgYYyH1FM\n",
       "m/usgbzqD5HsEQn5/HCTSRikhP+SOvfoloZDxtiUw9QdtVP4dA9xoSNcYo5aDC8yzD3VFOxZ9Kl7\n",
       "AIcITsY0g/ONythg/PE/dgTpIZglZg6DWKVb9PbQTxcOveSYqOuyn59lMQR2hOrcI7GKQyal4vO0\n",
       "y3GcIrZhWz6sFY6rCIsM0+cLMDi7jOAYrbhUnyubC7qSRwXiQ2DCWm1TyVlfoPTc6wVDktPI0WXu\n",
       "cLofkJ17FCqeb1jK63ADe8WhHKfw5xOEmLJNzBwi7dULMaX53GdNwASoz3xYgUU4VKtPcGVzCesM\n",
       "XIOGxqMoiCSA2CRM2h9fFzmNzxxEaIxc1O9Zz22eLRweWqLWPcomlrUwNOVQ4DgFd+nio0qWbfu9\n",
       "pmjI2XkA52Q4A6fUhyc436j0BfT3r1BG7QiaPC5d+RNPWQ02Xm/sXfp4j2HHbShJdLpHI5p8aC5q\n",
       "CqlmiqqkpEdEKSPZ0lFbWaF6MDE8N9iBRcotQYgZfNrcTV6AjnXrdPcD1owG080laAiNoAj6O9wj\n",
       "6tJjG2f8/pib12Wqp/D7qRplMLkPZrwOtoLqwUK0PqUGlwqMB/i0uWff1q/I+KT/+wHTffekrMmm\n",
       "kPPhfSsPuvXrYv4ArjZkJwqeeWzkaiCNKG0uV5yFo3z/UZUSNxQ++XIGH3ijYV57NcVb4P6ABpCe\n",
       "+TB6+22yvUsHz74XaPbAH6Jo8rIioxqwxjLoKfBypMj5ijR/SaLffJ38M8+t2WvqBbrW/FvgByC4\n",
       "eM+h+Xu7/7TXJ/9t/AUoaTi0Oiq23wAAAABJRU5ErkJggg==\n",
       "\" style=\"display:inline;vertical-align:middle;\" /></a></span>"
      ],
      "text/plain": [
       "|- forall_{a, b in Real | (a > 0) or ((a >= 0) and (b != 0))} (a^{b} in Real)"
      ]
     },
     "execution_count": 17,
     "metadata": {},
     "output_type": "execute_result"
    }
   ],
   "source": [
    "# trouble trying to instantiate the comprehensive theorem\n",
    "# seems to demand the entire Or(And) combination rather than\n",
    "# just either side of the Or\n",
    "exp_real_closure"
   ]
  },
  {
   "cell_type": "code",
   "execution_count": 18,
   "metadata": {},
   "outputs": [
    {
     "data": {
      "text/html": [
       "<strong id=\"exp_real_closure_example_l_h_sof_o_r\">exp_real_closure_example_l_h_sof_o_r:</strong> <span style=\"font-size:20px;\"><a class=\"ProveItLink\" href=\"../__pv_it/demonstrations/f399694c94d63fe522f8e05f5163f6a5a160a5b80/expr.ipynb\"><img src=\"data:image/png;base64,iVBORw0KGgoAAAANSUhEUgAAADQAAAAPBAMAAABZ6/G2AAAAMFBMVEX///8QEBBmZmaqqqrMzMxE\n",
       "REQyMjIiIiKYmJh2dna6urrc3NxUVFSIiIju7u4AAAA6P00QAAAAAXRSTlMAQObYZgAAAMRJREFU\n",
       "GNNjYMAAHIWh3xIjGLACNr4DLBFxWKVYuScwBOxBEWotL0+ASWmzIcu43kPSpc0KZLy9s+vmBSDN\n",
       "l4ds4IE1QJEJHLXsIHN4NiBJMRcBFXI+4PzHBRJlRXKGeHkyyBwG1gCwgGMaEECdMUsB4nb+C2Bq\n",
       "K7LjtVzBLH8HMMWILMX6Aqie+cF9Bt4HQAGmC0hSLAdUGBjWG8Qz7ACLFCMFFMNkHgeGN3ffajSA\n",
       "Rd5EPYAHrwNr2Gfk4FgZDgkoKAAAelg1omM6Y4wAAAAASUVORK5CYII=\n",
       "\" style=\"display:inline;vertical-align:middle;\" /></a>, <a class=\"ProveItLink\" href=\"../__pv_it/demonstrations/acfb0eefb0b1b677bba1a9b1bb8fa2b4b46ea3330/expr.ipynb\"><img src=\"data:image/png;base64,iVBORw0KGgoAAAANSUhEUgAAADMAAAASBAMAAAAEf/uKAAAAMFBMVEX///8iIiKYmJhUVFTMzMxE\n",
       "REQyMjKqqqq6urp2dnYQEBDc3NxmZmaIiIju7u4AAACH5sGpAAAAAXRSTlMAQObYZgAAAN1JREFU\n",
       "GNNjYMAAikvj05YqMGAFCY8ZXFUfYJUK2MnAym2AIqQqKJgAleLZkIAs43oPoYtnQwADA9+dCwy7\n",
       "QAbz5SEZyMwBNJCTYwHDfZAA8wYkqcJjQNXbeRIYQkECrAhn7BIUKwDSD7guMPwFCXilAQHUGT2s\n",
       "YLf3P2D5AqK3IjmepyUAxDjGwLsARHMh+ytOF8QIZmAFe4/nApKUM48DkHGYoR8SYOJIAcVZYAJk\n",
       "PL57HuLsxxEPYMGbwhCaXwCxDQI6AwVRgoc5ge8H9ghgYFRgvYBDiuPuERwyAAfzPe7bmvmqAAAA\n",
       "AElFTkSuQmCC\n",
       "\" style=\"display:inline;vertical-align:middle;\" /></a>, <a class=\"ProveItLink\" href=\"../__pv_it/demonstrations/607b7caea784f1400f0aedcfb3b72ec6470466e10/expr.ipynb\"><img src=\"data:image/png;base64,iVBORw0KGgoAAAANSUhEUgAAADEAAAAOBAMAAAB0nulXAAAAMFBMVEX///8QEBBmZmaqqqrMzMxE\n",
       "REQyMjIiIiKYmJh2dna6urrc3NxUVFSIiIju7u4AAAA6P00QAAAAAXRSTlMAQObYZgAAALhJREFU\n",
       "GNNjYMAG5nY6YBVnYDPgq0biPmuAMxsZGKYhyfBNvwBjxjAw2D9ANuT6PCjjDwPDegMGhrd3dt2E\n",
       "qm7Xg+j+BJS5wMA3gaOWPQGq2Ow0iOT+ycDgf4GB8wHnP64NMAOXnQPJAPX4T2DgY2ANQFi1LA5h\n",
       "GgMDP9xNUNNALrAHuoDBH+5fqAsYQhkY+h8wMD+4z8D7ANXVEJ+uN4hn2IHmU3YDPhEGhjd332o0\n",
       "oIUO39w7DgwA0hc2rjz1UYUAAAAASUVORK5CYII=\n",
       "\" style=\"display:inline;vertical-align:middle;\" /></a> <a class=\"ProveItLink\" href=\"../__pv_it/demonstrations/e27508c4b23fd53f4fbe996de358b70ac35abdb80/proof.ipynb\" style=\"text-decoration: none\">&nbsp;&#x22A2;&nbsp;&nbsp;</a><a class=\"ProveItLink\" href=\"../__pv_it/demonstrations/b378dcba51bae531233a53550b69ccbd36aa5ec70/expr.ipynb\"><img src=\"data:image/png;base64,iVBORw0KGgoAAAANSUhEUgAAAD4AAAARBAMAAAB3FQKUAAAAMFBMVEX///8QEBBmZmaqqqrMzMxE\n",
       "REQyMjIiIiKYmJh2dna6urrc3NxUVFSIiIju7u4AAAA6P00QAAAAAXRSTlMAQObYZgAAAPhJREFU\n",
       "KM9jYAADrjsM7A8YcANO/geOeKQZ9i1nuIoiwFEY+i0xAsHXZDiLqoON7wBLRBycW8UggirPyj2B\n",
       "IWAPnFvC9QHCaC0vT4DJa7PB5ddcBYsyuN5D0q/NCmS8vbPr5gW+DawNIFG+PGTzD6wBikzgqGVP\n",
       "4JmwDCzKswFJnrkIqJrzAec/rg1cnRMgokjuEy9PBpnIwBqAcLVjGhBA3TdLAeI9/gsI+a3I/tNy\n",
       "BbP8HRDyjMjyrC+AOpkf3GfghUcN0wUkeZYDKgwM6w3iGXYgDChGCl+GyTwODG/uvtVoQMi/iXoA\n",
       "jx8H1rDPGDG5MhwSvlAAAH8AQ10WQ5bQAAAAAElFTkSuQmCC\n",
       "\" style=\"display:inline;vertical-align:middle;\" /></a></span><br>"
      ],
      "text/plain": [
       "exp_real_closure_example_l_h_sof_o_r: {x in Real, y in Real, x > 0} |- x^{y} in Real"
      ]
     },
     "execution_count": 18,
     "metadata": {},
     "output_type": "execute_result"
    }
   ],
   "source": [
    "# this goes through but the proof actually doesn't\n",
    "# utilize the thm being instantiated! (See proof in next cell below.)\n",
    "exp_real_closure_example_l_h_sof_o_r = exp_real_closure.instantiate(\n",
    "    {a:x, b:y},\n",
    "    assumptions=[InSet(x, Real), InSet(y, Real), greater(x, zero)])"
   ]
  },
  {
   "cell_type": "code",
   "execution_count": 19,
   "metadata": {},
   "outputs": [
    {
     "data": {
      "text/html": [
       "<table><tr><th>&nbsp;</th><th>step type</th><th>requirements</th><th>statement</th></tr>\n",
       "<tr><td><a name=\"0x592c72ef6588bc05_step0\">0</a></td><td>instantiation</td><td><a href=\"#0x592c72ef6588bc05_step1\">1</a>, <a href=\"#0x592c72ef6588bc05_step2\">2</a>, <a href=\"#0x592c72ef6588bc05_step3\">3</a>, <a href=\"#0x592c72ef6588bc05_step4\">4</a></td><td><span style=\"font-size:20px;\"><a class=\"ProveItLink\" href=\"../__pv_it/demonstrations/f399694c94d63fe522f8e05f5163f6a5a160a5b80/expr.ipynb\"><img src=\"data:image/png;base64,iVBORw0KGgoAAAANSUhEUgAAADQAAAAPBAMAAABZ6/G2AAAAMFBMVEX///8QEBBmZmaqqqrMzMxE\n",
       "REQyMjIiIiKYmJh2dna6urrc3NxUVFSIiIju7u4AAAA6P00QAAAAAXRSTlMAQObYZgAAAMRJREFU\n",
       "GNNjYMAAHIWh3xIjGLACNr4DLBFxWKVYuScwBOxBEWotL0+ASWmzIcu43kPSpc0KZLy9s+vmBSDN\n",
       "l4ds4IE1QJEJHLXsIHN4NiBJMRcBFXI+4PzHBRJlRXKGeHkyyBwG1gCwgGMaEECdMUsB4nb+C2Bq\n",
       "K7LjtVzBLH8HMMWILMX6Aqie+cF9Bt4HQAGmC0hSLAdUGBjWG8Qz7ACLFCMFFMNkHgeGN3ffajSA\n",
       "Rd5EPYAHrwNr2Gfk4FgZDgkoKAAAelg1omM6Y4wAAAAASUVORK5CYII=\n",
       "\" style=\"display:inline;vertical-align:middle;\" /></a>, <a class=\"ProveItLink\" href=\"../__pv_it/demonstrations/acfb0eefb0b1b677bba1a9b1bb8fa2b4b46ea3330/expr.ipynb\"><img src=\"data:image/png;base64,iVBORw0KGgoAAAANSUhEUgAAADMAAAASBAMAAAAEf/uKAAAAMFBMVEX///8iIiKYmJhUVFTMzMxE\n",
       "REQyMjKqqqq6urp2dnYQEBDc3NxmZmaIiIju7u4AAACH5sGpAAAAAXRSTlMAQObYZgAAAN1JREFU\n",
       "GNNjYMAAikvj05YqMGAFCY8ZXFUfYJUK2MnAym2AIqQqKJgAleLZkIAs43oPoYtnQwADA9+dCwy7\n",
       "QAbz5SEZyMwBNJCTYwHDfZAA8wYkqcJjQNXbeRIYQkECrAhn7BIUKwDSD7guMPwFCXilAQHUGT2s\n",
       "YLf3P2D5AqK3IjmepyUAxDjGwLsARHMh+ytOF8QIZmAFe4/nApKUM48DkHGYoR8SYOJIAcVZYAJk\n",
       "PL57HuLsxxEPYMGbwhCaXwCxDQI6AwVRgoc5ge8H9ghgYFRgvYBDiuPuERwyAAfzPe7bmvmqAAAA\n",
       "AElFTkSuQmCC\n",
       "\" style=\"display:inline;vertical-align:middle;\" /></a>, <a class=\"ProveItLink\" href=\"../__pv_it/demonstrations/607b7caea784f1400f0aedcfb3b72ec6470466e10/expr.ipynb\"><img src=\"data:image/png;base64,iVBORw0KGgoAAAANSUhEUgAAADEAAAAOBAMAAAB0nulXAAAAMFBMVEX///8QEBBmZmaqqqrMzMxE\n",
       "REQyMjIiIiKYmJh2dna6urrc3NxUVFSIiIju7u4AAAA6P00QAAAAAXRSTlMAQObYZgAAALhJREFU\n",
       "GNNjYMAG5nY6YBVnYDPgq0biPmuAMxsZGKYhyfBNvwBjxjAw2D9ANuT6PCjjDwPDegMGhrd3dt2E\n",
       "qm7Xg+j+BJS5wMA3gaOWPQGq2Ow0iOT+ycDgf4GB8wHnP64NMAOXnQPJAPX4T2DgY2ANQFi1LA5h\n",
       "GgMDP9xNUNNALrAHuoDBH+5fqAsYQhkY+h8wMD+4z8D7ANXVEJ+uN4hn2IHmU3YDPhEGhjd332o0\n",
       "oIUO39w7DgwA0hc2rjz1UYUAAAAASUVORK5CYII=\n",
       "\" style=\"display:inline;vertical-align:middle;\" /></a> <a class=\"ProveItLink\" href=\"../__pv_it/demonstrations/e27508c4b23fd53f4fbe996de358b70ac35abdb80/proof.ipynb\" style=\"text-decoration: none\">&nbsp;&#x22A2;&nbsp;&nbsp;</a><a class=\"ProveItLink\" href=\"../__pv_it/demonstrations/b378dcba51bae531233a53550b69ccbd36aa5ec70/expr.ipynb\"><img src=\"data:image/png;base64,iVBORw0KGgoAAAANSUhEUgAAAD4AAAARBAMAAAB3FQKUAAAAMFBMVEX///8QEBBmZmaqqqrMzMxE\n",
       "REQyMjIiIiKYmJh2dna6urrc3NxUVFSIiIju7u4AAAA6P00QAAAAAXRSTlMAQObYZgAAAPhJREFU\n",
       "KM9jYAADrjsM7A8YcANO/geOeKQZ9i1nuIoiwFEY+i0xAsHXZDiLqoON7wBLRBycW8UggirPyj2B\n",
       "IWAPnFvC9QHCaC0vT4DJa7PB5ddcBYsyuN5D0q/NCmS8vbPr5gW+DawNIFG+PGTzD6wBikzgqGVP\n",
       "4JmwDCzKswFJnrkIqJrzAec/rg1cnRMgokjuEy9PBpnIwBqAcLVjGhBA3TdLAeI9/gsI+a3I/tNy\n",
       "BbP8HRDyjMjyrC+AOpkf3GfghUcN0wUkeZYDKgwM6w3iGXYgDChGCl+GyTwODG/uvtVoQMi/iXoA\n",
       "jx8H1rDPGDG5MhwSvlAAAH8AQ10WQ5bQAAAAAElFTkSuQmCC\n",
       "\" style=\"display:inline;vertical-align:middle;\" /></a></span></td></tr>\n",
       "<tr><td>&nbsp;</td><td colspan=4 style=\"text-align:left\"><span style=\"font-size:20px;\"><a class=\"ProveItLink\" href=\"../../../__pv_it/common/66c90e66682f107a881f2d666959f64e2e72ad750/expr.ipynb\"><img src=\"data:image/png;base64,iVBORw0KGgoAAAANSUhEUgAAAAsAAAAJBAMAAAAWSsseAAAAMFBMVEX///9UVFSqqqrMzMwiIiJE\n",
       "RESYmJgyMjK6urru7u4QEBCIiIh2dnZmZmbc3NwAAABRgo0vAAAAAXRSTlMAQObYZgAAAEdJREFU\n",
       "CNdjYOC7c3slAwND1wP2DwwMnMsYeAMYGHh/MrBsYGDgCmCYb8DAMP8Agz5QxXwFBnGmBwysG9gc\n",
       "eYAqpTc/3MEAAP4BD32xAXDqAAAAAElFTkSuQmCC\n",
       "\" style=\"display:inline;vertical-align:middle;\" /></a> : <a class=\"ProveItLink\" href=\"../../../__pv_it/common/a2581dc5df71d9a30bad37de14965fa5fec97a240/expr.ipynb\"><img src=\"data:image/png;base64,iVBORw0KGgoAAAANSUhEUgAAAAsAAAAJBAMAAAAWSsseAAAALVBMVEX///9mZmaqqqrMzMxEREQy\n",
       "MjIiIiKYmJh2dna6urrc3NxUVFSIiIju7u4AAACJHQtQAAAAAXRSTlMAQObYZgAAAEJJREFUCNdj\n",
       "YLhzeuWJAwy8Dew5bAEMHBc43nIuYOBlYHFgAAG+A2DKzgBIMF04x8BzgWGegh/DcgaG22fuiBcw\n",
       "AAATyhBrnyPYZQAAAABJRU5ErkJggg==\n",
       "\" style=\"display:inline;vertical-align:middle;\" /></a>, <a class=\"ProveItLink\" href=\"../../../__pv_it/common/4a5db8cc5c67969ec864bd3ea598be37cb6f5e550/expr.ipynb\"><img src=\"data:image/png;base64,iVBORw0KGgoAAAANSUhEUgAAAAkAAAAOBAMAAAAPuiubAAAALVBMVEX///+YmJjc3NyIiIhUVFR2\n",
       "dna6urqqqqpmZmYyMjIiIiIQEBBERETu7u4AAAALjtrwAAAAAXRSTlMAQObYZgAAAE9JREFUCNdj\n",
       "4D29gAEIOBtAJF8BiMy7ACKjQATDFON2BgbelxfuKTCwv2XgM2DgmMBwLwCkPK+AgU+Aoe8CA18C\n",
       "70YGBhYBHqARvM2BDAwAqXgQspq5HJAAAAAASUVORK5CYII=\n",
       "\" style=\"display:inline;vertical-align:middle;\" /></a> : <a class=\"ProveItLink\" href=\"../../../__pv_it/common/0f21cbfd5644a1cae6781c1d58354abc2ffbc9000/expr.ipynb\"><img src=\"data:image/png;base64,iVBORw0KGgoAAAANSUhEUgAAAAsAAAANBAMAAACN24kIAAAAMFBMVEX///8iIiKYmJhUVFTMzMxE\n",
       "REQyMjKqqqq6urp2dnYQEBDc3NxmZmaIiIju7u4AAACH5sGpAAAAAXRSTlMAQObYZgAAAFlJREFU\n",
       "CNdj4LtzgWHXAwZOjgUM9xkYtvMkMIQyMDzgusDwl4GBof8ByxcgdYyBdwGQCmZgNQBShxn6FYDU\n",
       "47vnNzAwgGUZGJgT+H4AKUYF1gtAiuPuESAJAJGkFvXVdzA+AAAAAElFTkSuQmCC\n",
       "\" style=\"display:inline;vertical-align:middle;\" /></a></span></td></tr><tr><td><a name=\"0x592c72ef6588bc05_step1\">1</a></td><td>conjecture</td><td></td><td><span style=\"font-size:20px;\"> <a class=\"ProveItLink\" href=\"proofs/exp_real_closure_base_pos/thm_proof.ipynb\" style=\"text-decoration: none\">&nbsp;&#x22A2;&nbsp;&nbsp;</a><a class=\"ProveItLink\" href=\"../__pv_it/theorems/25c802d91c00260181d9f3bdb1979a080bd43b330/expr.ipynb\"><img src=\"data:image/png;base64,iVBORw0KGgoAAAANSUhEUgAAAL8AAAAcBAMAAADCTHN1AAAAMFBMVEX///8QEBCIiIhmZma6urrM\n",
       "zMxUVFQiIiJERETc3Nzu7u6qqqp2dnaYmJgyMjIAAAAcRTyBAAAAAXRSTlMAQObYZgAAAydJREFU\n",
       "SMe1Vk1oE1EQnux2m81mk3gQpBZha7WKXkKrYkVLROjJny1I24OQUH+oP5RKq4HWQ/GnbiuV4KH2\n",
       "5kJBIaANKoogGtRTWiWCh1KqxIoeKpQiCjaCOG933/4kodHEPggzb+e9983MN/NeAP7DOJiBlR1i\n",
       "cKVOPqwLf6KwmSn3fC6iy0CssL0iUiaAX9VleP2pwgtelwlQb8hNam3hBW70QCuA9yWd78kaykX4\n",
       "4DD4ziq/P44QEpD9SfJlvrziWQ07cnInRLiRYXRhEWCMuDJQEoCLFk8Wqp0W3pOEgVFU+nWixERJ\n",
       "ALcMjqHPZ3g4HY1mKECjH5WdmK9UPH6zNI7fUqV1SpftW2wRNPKo1ODvp6JcKA2giWR3d/1aOhfm\n",
       "7SmKNKNyCIM8DjBkdsZCXq/kdeeLJFUV/O2N+RfpvDJmA/D2ELiwDLAPBOuuemnIx5uPzulLraKU\n",
       "NTELj+iXL+j0OmDNCuFtJK+JftVoCmEzAJM2LeSr8LQhzYiQkpybhE7NwV4IUG57ANgsuCW6omUB\n",
       "h0Hyq+AwUSYQQEy7rQQskVJ4EgcEmEk7AcAziAjCD6s6P2GlDsCETBeM2ct0WzuNwJNpRW287jO5\n",
       "vb7VqRWkfQhA0gIQ6rvwGO6SCtwSuGnAg+hhEp5bfWEH4O+SyMIk6qFjeMI5jvQ908cE/aADNAQt\n",
       "gDtymOSlYg44W046ESABXV7KLSvZALjIdqOK4EE32oJcNzFIvsy4BsCe6LUR1wBt+iVThRG46Dk1\n",
       "2obzoul4v+2qgMlK2WiVgES6niF3tyvERtoURZEY8cY7G0A11GnymYQcBELGMeie0LFxdIMJcPuy\n",
       "al52Mn/9l9bJOMWvEzF+BkVAdSUq9RR5j6gmgLAEI3Hy9qYcVeQK5TbJ/qtR5/M8Z/ITCx+AMdWt\n",
       "ToMo6xykbCRXcd+R2fZdqNZafcAmi/W6kDUbtuP+HmhJcGdwzzXSaG+S400WQPPW2jSMntRimzJf\n",
       "eG5VMQBfzpupFziDHEB+d3JX8vafLgbglh1Tb4G3m19u/71iALM5AcE/AniL/B/6m4eMXdb6sMhm\n",
       "FVZ+/AEOlsGXnbCBLwAAAABJRU5ErkJggg==\n",
       "\" style=\"display:inline;vertical-align:middle;\" /></a></span></td></tr>\n",
       "<tr><td>&nbsp;</td><td colspan=4 style-\"text-align:left\"><a class=\"ProveItLink\" href=\"proofs/exp_real_closure_base_pos/thm_proof.ipynb\">proveit.numbers.exponentiation.exp_real_closure_base_pos</a></td></tr><tr><td><a name=\"0x592c72ef6588bc05_step2\">2</a></td><td>assumption</td><td></td><td><span style=\"font-size:20px;\"><a class=\"ProveItLink\" href=\"../__pv_it/demonstrations/f399694c94d63fe522f8e05f5163f6a5a160a5b80/expr.ipynb\"><img src=\"data:image/png;base64,iVBORw0KGgoAAAANSUhEUgAAADQAAAAPBAMAAABZ6/G2AAAAMFBMVEX///8QEBBmZmaqqqrMzMxE\n",
       "REQyMjIiIiKYmJh2dna6urrc3NxUVFSIiIju7u4AAAA6P00QAAAAAXRSTlMAQObYZgAAAMRJREFU\n",
       "GNNjYMAAHIWh3xIjGLACNr4DLBFxWKVYuScwBOxBEWotL0+ASWmzIcu43kPSpc0KZLy9s+vmBSDN\n",
       "l4ds4IE1QJEJHLXsIHN4NiBJMRcBFXI+4PzHBRJlRXKGeHkyyBwG1gCwgGMaEECdMUsB4nb+C2Bq\n",
       "K7LjtVzBLH8HMMWILMX6Aqie+cF9Bt4HQAGmC0hSLAdUGBjWG8Qz7ACLFCMFFMNkHgeGN3ffajSA\n",
       "Rd5EPYAHrwNr2Gfk4FgZDgkoKAAAelg1omM6Y4wAAAAASUVORK5CYII=\n",
       "\" style=\"display:inline;vertical-align:middle;\" /></a> <a class=\"ProveItLink\" href=\"../__pv_it/demonstrations/529209d0322178a1aed0a7b5cc6d4ac554afc8580/proof.ipynb\" style=\"text-decoration: none\">&nbsp;&#x22A2;&nbsp;&nbsp;</a><a class=\"ProveItLink\" href=\"../__pv_it/demonstrations/f399694c94d63fe522f8e05f5163f6a5a160a5b80/expr.ipynb\"><img src=\"data:image/png;base64,iVBORw0KGgoAAAANSUhEUgAAADQAAAAPBAMAAABZ6/G2AAAAMFBMVEX///8QEBBmZmaqqqrMzMxE\n",
       "REQyMjIiIiKYmJh2dna6urrc3NxUVFSIiIju7u4AAAA6P00QAAAAAXRSTlMAQObYZgAAAMRJREFU\n",
       "GNNjYMAAHIWh3xIjGLACNr4DLBFxWKVYuScwBOxBEWotL0+ASWmzIcu43kPSpc0KZLy9s+vmBSDN\n",
       "l4ds4IE1QJEJHLXsIHN4NiBJMRcBFXI+4PzHBRJlRXKGeHkyyBwG1gCwgGMaEECdMUsB4nb+C2Bq\n",
       "K7LjtVzBLH8HMMWILMX6Aqie+cF9Bt4HQAGmC0hSLAdUGBjWG8Qz7ACLFCMFFMNkHgeGN3ffajSA\n",
       "Rd5EPYAHrwNr2Gfk4FgZDgkoKAAAelg1omM6Y4wAAAAASUVORK5CYII=\n",
       "\" style=\"display:inline;vertical-align:middle;\" /></a></span></td></tr>\n",
       "<tr><td><a name=\"0x592c72ef6588bc05_step3\">3</a></td><td>assumption</td><td></td><td><span style=\"font-size:20px;\"><a class=\"ProveItLink\" href=\"../__pv_it/demonstrations/acfb0eefb0b1b677bba1a9b1bb8fa2b4b46ea3330/expr.ipynb\"><img src=\"data:image/png;base64,iVBORw0KGgoAAAANSUhEUgAAADMAAAASBAMAAAAEf/uKAAAAMFBMVEX///8iIiKYmJhUVFTMzMxE\n",
       "REQyMjKqqqq6urp2dnYQEBDc3NxmZmaIiIju7u4AAACH5sGpAAAAAXRSTlMAQObYZgAAAN1JREFU\n",
       "GNNjYMAAikvj05YqMGAFCY8ZXFUfYJUK2MnAym2AIqQqKJgAleLZkIAs43oPoYtnQwADA9+dCwy7\n",
       "QAbz5SEZyMwBNJCTYwHDfZAA8wYkqcJjQNXbeRIYQkECrAhn7BIUKwDSD7guMPwFCXilAQHUGT2s\n",
       "YLf3P2D5AqK3IjmepyUAxDjGwLsARHMh+ytOF8QIZmAFe4/nApKUM48DkHGYoR8SYOJIAcVZYAJk\n",
       "PL57HuLsxxEPYMGbwhCaXwCxDQI6AwVRgoc5ge8H9ghgYFRgvYBDiuPuERwyAAfzPe7bmvmqAAAA\n",
       "AElFTkSuQmCC\n",
       "\" style=\"display:inline;vertical-align:middle;\" /></a> <a class=\"ProveItLink\" href=\"../__pv_it/demonstrations/5bcf561c8f2a44f9b61d38cec551135162d1e9de0/proof.ipynb\" style=\"text-decoration: none\">&nbsp;&#x22A2;&nbsp;&nbsp;</a><a class=\"ProveItLink\" href=\"../__pv_it/demonstrations/acfb0eefb0b1b677bba1a9b1bb8fa2b4b46ea3330/expr.ipynb\"><img src=\"data:image/png;base64,iVBORw0KGgoAAAANSUhEUgAAADMAAAASBAMAAAAEf/uKAAAAMFBMVEX///8iIiKYmJhUVFTMzMxE\n",
       "REQyMjKqqqq6urp2dnYQEBDc3NxmZmaIiIju7u4AAACH5sGpAAAAAXRSTlMAQObYZgAAAN1JREFU\n",
       "GNNjYMAAikvj05YqMGAFCY8ZXFUfYJUK2MnAym2AIqQqKJgAleLZkIAs43oPoYtnQwADA9+dCwy7\n",
       "QAbz5SEZyMwBNJCTYwHDfZAA8wYkqcJjQNXbeRIYQkECrAhn7BIUKwDSD7guMPwFCXilAQHUGT2s\n",
       "YLf3P2D5AqK3IjmepyUAxDjGwLsARHMh+ytOF8QIZmAFe4/nApKUM48DkHGYoR8SYOJIAcVZYAJk\n",
       "PL57HuLsxxEPYMGbwhCaXwCxDQI6AwVRgoc5ge8H9ghgYFRgvYBDiuPuERwyAAfzPe7bmvmqAAAA\n",
       "AElFTkSuQmCC\n",
       "\" style=\"display:inline;vertical-align:middle;\" /></a></span></td></tr>\n",
       "<tr><td><a name=\"0x592c72ef6588bc05_step4\">4</a></td><td>assumption</td><td></td><td><span style=\"font-size:20px;\"><a class=\"ProveItLink\" href=\"../__pv_it/demonstrations/607b7caea784f1400f0aedcfb3b72ec6470466e10/expr.ipynb\"><img src=\"data:image/png;base64,iVBORw0KGgoAAAANSUhEUgAAADEAAAAOBAMAAAB0nulXAAAAMFBMVEX///8QEBBmZmaqqqrMzMxE\n",
       "REQyMjIiIiKYmJh2dna6urrc3NxUVFSIiIju7u4AAAA6P00QAAAAAXRSTlMAQObYZgAAALhJREFU\n",
       "GNNjYMAG5nY6YBVnYDPgq0biPmuAMxsZGKYhyfBNvwBjxjAw2D9ANuT6PCjjDwPDegMGhrd3dt2E\n",
       "qm7Xg+j+BJS5wMA3gaOWPQGq2Ow0iOT+ycDgf4GB8wHnP64NMAOXnQPJAPX4T2DgY2ANQFi1LA5h\n",
       "GgMDP9xNUNNALrAHuoDBH+5fqAsYQhkY+h8wMD+4z8D7ANXVEJ+uN4hn2IHmU3YDPhEGhjd332o0\n",
       "oIUO39w7DgwA0hc2rjz1UYUAAAAASUVORK5CYII=\n",
       "\" style=\"display:inline;vertical-align:middle;\" /></a> <a class=\"ProveItLink\" href=\"../__pv_it/demonstrations/8f644bd127101ab7ea5273c0069ead587f21c4390/proof.ipynb\" style=\"text-decoration: none\">&nbsp;&#x22A2;&nbsp;&nbsp;</a><a class=\"ProveItLink\" href=\"../__pv_it/demonstrations/607b7caea784f1400f0aedcfb3b72ec6470466e10/expr.ipynb\"><img src=\"data:image/png;base64,iVBORw0KGgoAAAANSUhEUgAAADEAAAAOBAMAAAB0nulXAAAAMFBMVEX///8QEBBmZmaqqqrMzMxE\n",
       "REQyMjIiIiKYmJh2dna6urrc3NxUVFSIiIju7u4AAAA6P00QAAAAAXRSTlMAQObYZgAAALhJREFU\n",
       "GNNjYMAG5nY6YBVnYDPgq0biPmuAMxsZGKYhyfBNvwBjxjAw2D9ANuT6PCjjDwPDegMGhrd3dt2E\n",
       "qm7Xg+j+BJS5wMA3gaOWPQGq2Ow0iOT+ycDgf4GB8wHnP64NMAOXnQPJAPX4T2DgY2ANQFi1LA5h\n",
       "GgMDP9xNUNNALrAHuoDBH+5fqAsYQhkY+h8wMD+4z8D7ANXVEJ+uN4hn2IHmU3YDPhEGhjd332o0\n",
       "oIUO39w7DgwA0hc2rjz1UYUAAAAASUVORK5CYII=\n",
       "\" style=\"display:inline;vertical-align:middle;\" /></a></span></td></tr>\n",
       "</table>"
      ],
      "text/plain": [
       "\tstep type\trequirements\tstatement\n",
       "0\tinstantiation\t1, 2, 3, 4\t{x in Real, y in Real, x > 0} |- x^{y} in Real\n",
       "\ta : x, b : y\n",
       "1\tconjecture\t\t|- forall_{a, b in Real | a > 0} (a^{b} in Real)\n",
       "2\tassumption\t\t{x in Real} |- x in Real\n",
       "3\tassumption\t\t{y in Real} |- y in Real\n",
       "4\tassumption\t\t{x > 0} |- x > 0"
      ]
     },
     "execution_count": 19,
     "metadata": {},
     "output_type": "execute_result"
    }
   ],
   "source": [
    "exp_real_closure_example_l_h_sof_o_r.proof()"
   ]
  },
  {
   "cell_type": "code",
   "execution_count": 20,
   "metadata": {},
   "outputs": [],
   "source": [
    "# this one won't work — doesn't seem to be able to get inside\n",
    "# the Or(And) structure correctly (see next cell below)\n",
    "# exp_real_closure_example_r_h_sof_o_r = exp_real_closure.instantiate(\n",
    "#     {a:x, b:y},\n",
    "#     assumptions=[InSet(x, Real), InSet(y, Real), And(greater_eq(x, zero), NotEquals(y, zero))])"
   ]
  },
  {
   "cell_type": "code",
   "execution_count": 21,
   "metadata": {},
   "outputs": [
    {
     "data": {
      "text/html": [
       "<strong id=\"exp_real_closure_example_r_h_sof_o_r\">exp_real_closure_example_r_h_sof_o_r:</strong> <span style=\"font-size:20px;\"><a class=\"ProveItLink\" href=\"../__pv_it/demonstrations/f399694c94d63fe522f8e05f5163f6a5a160a5b80/expr.ipynb\"><img src=\"data:image/png;base64,iVBORw0KGgoAAAANSUhEUgAAADQAAAAPBAMAAABZ6/G2AAAAMFBMVEX///8QEBBmZmaqqqrMzMxE\n",
       "REQyMjIiIiKYmJh2dna6urrc3NxUVFSIiIju7u4AAAA6P00QAAAAAXRSTlMAQObYZgAAAMRJREFU\n",
       "GNNjYMAAHIWh3xIjGLACNr4DLBFxWKVYuScwBOxBEWotL0+ASWmzIcu43kPSpc0KZLy9s+vmBSDN\n",
       "l4ds4IE1QJEJHLXsIHN4NiBJMRcBFXI+4PzHBRJlRXKGeHkyyBwG1gCwgGMaEECdMUsB4nb+C2Bq\n",
       "K7LjtVzBLH8HMMWILMX6Aqie+cF9Bt4HQAGmC0hSLAdUGBjWG8Qz7ACLFCMFFMNkHgeGN3ffajSA\n",
       "Rd5EPYAHrwNr2Gfk4FgZDgkoKAAAelg1omM6Y4wAAAAASUVORK5CYII=\n",
       "\" style=\"display:inline;vertical-align:middle;\" /></a>, <a class=\"ProveItLink\" href=\"../__pv_it/demonstrations/acfb0eefb0b1b677bba1a9b1bb8fa2b4b46ea3330/expr.ipynb\"><img src=\"data:image/png;base64,iVBORw0KGgoAAAANSUhEUgAAADMAAAASBAMAAAAEf/uKAAAAMFBMVEX///8iIiKYmJhUVFTMzMxE\n",
       "REQyMjKqqqq6urp2dnYQEBDc3NxmZmaIiIju7u4AAACH5sGpAAAAAXRSTlMAQObYZgAAAN1JREFU\n",
       "GNNjYMAAikvj05YqMGAFCY8ZXFUfYJUK2MnAym2AIqQqKJgAleLZkIAs43oPoYtnQwADA9+dCwy7\n",
       "QAbz5SEZyMwBNJCTYwHDfZAA8wYkqcJjQNXbeRIYQkECrAhn7BIUKwDSD7guMPwFCXilAQHUGT2s\n",
       "YLf3P2D5AqK3IjmepyUAxDjGwLsARHMh+ytOF8QIZmAFe4/nApKUM48DkHGYoR8SYOJIAcVZYAJk\n",
       "PL57HuLsxxEPYMGbwhCaXwCxDQI6AwVRgoc5ge8H9ghgYFRgvYBDiuPuERwyAAfzPe7bmvmqAAAA\n",
       "AElFTkSuQmCC\n",
       "\" style=\"display:inline;vertical-align:middle;\" /></a>, <a class=\"ProveItLink\" href=\"../__pv_it/demonstrations/830152faf07215878a921199dc6dc1ca0fa8803a0/expr.ipynb\"><img src=\"data:image/png;base64,iVBORw0KGgoAAAANSUhEUgAAAGYAAAAUBAMAAACNG1WbAAAAMFBMVEX////MzMxUVFR2dna6uroQ\n",
       "EBCqqqqIiIgiIiJmZmYyMjJERETu7u6YmJjc3NwAAACgK8IjAAAAAXRSTlMAQObYZgAAAZ1JREFU\n",
       "OMtjYOC7wIALsD3AIXEauzBzrSEDgx6qGHvr7l8RKkDGOux6ljGceMBwCk2Qi7Hg9MkLDLwTEEI8\n",
       "a+FM3gAG5gUMzAWoerhZLrALbGDgQHbz4Xa4rAID2x8GngCoCTs6uqB62BI2MLxAdXHzAQiDX4GB\n",
       "5RsDwxIwh3H7Abg9zD4bGCqBzONFT4qhruDthEifn8DA8p2BwRLMOXUA4TYPIQGGvUBvGPC2cyyA\n",
       "he8isGPfGzAwAvXcAovpIfwT8T+EgaENGKwHmP+wwL3Fsghk6vsJDIyfGRgywEIbkMKA+a4BA1Ab\n",
       "DwP3BoSXWFYfQLhNHuydqFVAANXDsMEXpAfoY0SYQt0GDAO2b1A9fMj2MGxgArkNKCUAjxdoGABt\n",
       "5v3DwOAB5gQg61HgAoUB24F6BvYDqGENiVNoGExHsecyKDT9E/YzvEWLU6D9R4GWTwazORLgaceA\n",
       "2VIBZPuh8uNzL6ClHYbD5YpAciEkTWn7oKRRjgcMuAFPAzQsrSFpB+bpCXj0oKdRGNiHR88p0vIc\n",
       "XvPw5G1e7H4FAG7EdEWGEyKLAAAAAElFTkSuQmCC\n",
       "\" style=\"display:inline;vertical-align:middle;\" /></a>, <a class=\"ProveItLink\" href=\"../__pv_it/demonstrations/761fab790e4f92fafd47edb17f521278d2ae739f0/expr.ipynb\"><img src=\"data:image/png;base64,iVBORw0KGgoAAAANSUhEUgAAADEAAAARBAMAAACGHlkZAAAAMFBMVEX///8QEBBmZmaqqqrMzMxE\n",
       "REQyMjIiIiKYmJh2dna6urrc3NxUVFSIiIju7u4AAAA6P00QAAAAAXRSTlMAQObYZgAAAMxJREFU\n",
       "GNNjYMAG5nY6IPGe68GZbAZ81cgKzU7DWI0MDNNQzFh2BMqIYWCwf4Ai5RoFof8wMKw3YGB4e2fX\n",
       "zQtQqT3JIJLvE1DmAgPfBI5a9gSYrk0gm7l/MjD4X2DgfMD5j2sDTKZdASQD1OM/gYGPgTUAbtH1\n",
       "eUimMTDww2zhm34B7gJ7oAsY/KH+5VZvgCoJZWDof8DA/OA+Ay/I8dzHDFB9ut4gnmEHiPt0Adw6\n",
       "dgM+EQaGN3ffajSgBSjf3DsODJSBZ+UgUALnAwCQmDkLrOvFzQAAAABJRU5ErkJggg==\n",
       "\" style=\"display:inline;vertical-align:middle;\" /></a>, <a class=\"ProveItLink\" href=\"../__pv_it/demonstrations/0d937039d61b039e68ef25847379c8d0c5c2b1720/expr.ipynb\"><img src=\"data:image/png;base64,iVBORw0KGgoAAAANSUhEUgAAADEAAAAUCAMAAAATIyWrAAAAOVBMVEX///8kJCQNDQ0oKCgiIiKY\n",
       "mJhUVFTMzMxEREQyMjKqqqq6urp2dnYQEBDc3NxmZmaIiIju7u4AAABm7KGZAAAAAXRSTlMAQObY\n",
       "ZgAAAORJREFUKM+VU+0OwyAIZFu1fhb0/R92olsDLrErP2gIvd7BUYBVpAL34vAKTibtFwgbReED\n",
       "QNmONYUThcmdx68ppAZnOYda/qWA2hGxsjZC4n6e0U5SlIoD0d5NEFki1XMnvsfryRm/hDXxY2+I\n",
       "IwDyOM6tKBoCByJB05JZFdPJ2K0qpaqWC4Mnc9y0+frZVZt8iKIMao5HHtOcTEO16dvtm3ZaBPjZ\n",
       "XOkgWlZmVD/ijz0bO5G79mKJsOpv+l9rSyISV4D6XgIur8fz7uIVhdTXJnDajJCWFxrbFJMX/u6v\n",
       "B3HVfAMacgkuiP3Y3AAAAABJRU5ErkJggg==\n",
       "\" style=\"display:inline;vertical-align:middle;\" /></a> <a class=\"ProveItLink\" href=\"../__pv_it/demonstrations/3e22af4c2774d249a580319f348c40e0759360140/proof.ipynb\" style=\"text-decoration: none\">&nbsp;&#x22A2;&nbsp;&nbsp;</a><a class=\"ProveItLink\" href=\"../__pv_it/demonstrations/b378dcba51bae531233a53550b69ccbd36aa5ec70/expr.ipynb\"><img src=\"data:image/png;base64,iVBORw0KGgoAAAANSUhEUgAAAD4AAAARBAMAAAB3FQKUAAAAMFBMVEX///8QEBBmZmaqqqrMzMxE\n",
       "REQyMjIiIiKYmJh2dna6urrc3NxUVFSIiIju7u4AAAA6P00QAAAAAXRSTlMAQObYZgAAAPhJREFU\n",
       "KM9jYAADrjsM7A8YcANO/geOeKQZ9i1nuIoiwFEY+i0xAsHXZDiLqoON7wBLRBycW8UggirPyj2B\n",
       "IWAPnFvC9QHCaC0vT4DJa7PB5ddcBYsyuN5D0q/NCmS8vbPr5gW+DawNIFG+PGTzD6wBikzgqGVP\n",
       "4JmwDCzKswFJnrkIqJrzAec/rg1cnRMgokjuEy9PBpnIwBqAcLVjGhBA3TdLAeI9/gsI+a3I/tNy\n",
       "BbP8HRDyjMjyrC+AOpkf3GfghUcN0wUkeZYDKgwM6w3iGXYgDChGCl+GyTwODG/uvtVoQMi/iXoA\n",
       "jx8H1rDPGDG5MhwSvlAAAH8AQ10WQ5bQAAAAAElFTkSuQmCC\n",
       "\" style=\"display:inline;vertical-align:middle;\" /></a></span><br>"
      ],
      "text/plain": [
       "exp_real_closure_example_r_h_sof_o_r: {x in Real, y in Real, (x > 0) in BOOLEAN, x >= 0, y != 0} |- x^{y} in Real"
      ]
     },
     "execution_count": 21,
     "metadata": {},
     "output_type": "execute_result"
    }
   ],
   "source": [
    "# if we remind the system that x > 0 is a Boolean, then it seems to\n",
    "# be able to deal correctly with the Or(Add) conditions\n",
    "exp_real_closure_example_r_h_sof_o_r = exp_real_closure.instantiate(\n",
    "    {a:x, b:y},\n",
    "    assumptions=[\n",
    "        InSet(x, Real), InSet(y, Real), greater_eq(x, zero),\n",
    "        NotEquals(y, zero), InSet(greater(x, zero), Boolean)])"
   ]
  },
  {
   "cell_type": "code",
   "execution_count": 22,
   "metadata": {},
   "outputs": [
    {
     "data": {
      "text/html": [
       "<a class=\"ProveItLink\" href=\"../__pv_it/demonstrations/6bab98a74b8616d3bba62fd3f94fe3fb1416c3650/expr.ipynb\"><img src=\"data:image/png;base64,iVBORw0KGgoAAAANSUhEUgAAABEAAAAUBAMAAACZjst6AAAAMFBMVEX///+YmJiqqqqIiIgyMjLc\n",
       "3NwiIiIQEBC6urp2dnZUVFTMzMxERERmZmbu7u4AAADrYmUNAAAAAXRSTlMAQObYZgAAAH1JREFU\n",
       "CNdjYAABTtt1DBBwkeEOlHWTQZ4BBmBiDHzVMJaJAZB398wGiOwrBs4fQFa8AsM9BoZyoKp4AYYy\n",
       "Bob1AakM4g8Y/B8wrN+w03IpWGP+A6gJHD9hZrEtgLHuwhjMF2AsXQbWADCDewIDM4QVNnPuMoik\n",
       "////38AMAPc4H96J0DaDAAAAAElFTkSuQmCC\n",
       "\" style=\"display:inline;vertical-align:middle;\" /></a>"
      ],
      "text/plain": [
       "2^{3}"
      ]
     },
     "execution_count": 22,
     "metadata": {},
     "output_type": "execute_result"
    }
   ],
   "source": [
    "exp_test_02"
   ]
  },
  {
   "cell_type": "code",
   "execution_count": 23,
   "metadata": {},
   "outputs": [
    {
     "data": {
      "text/html": [
       "<span style=\"font-size:20px;\"> <a class=\"ProveItLink\" href=\"../__pv_it/demonstrations/008c7293ffec28a8eb49b8bc44689cf6a79f5fe70/proof.ipynb\" style=\"text-decoration: none\">&nbsp;&#x22A2;&nbsp;&nbsp;</a><a class=\"ProveItLink\" href=\"../__pv_it/demonstrations/b30057aba9d008f3e7028b8b2d824189231002ae0/expr.ipynb\"><img src=\"data:image/png;base64,iVBORw0KGgoAAAANSUhEUgAAAEcAAAAVBAMAAADm2O7QAAAAMFBMVEX///+YmJiqqqqIiIgyMjLc\n",
       "3NwiIiIQEBC6urp2dnZUVFTMzMxERERmZmbu7u4AAADrYmUNAAAAAXRSTlMAQObYZgAAASRJREFU\n",
       "KM9jYAABTtt1DATBRYY7hBXdZJDHJcWFxMZpEg+CyVdNhCITA7yK+O6e2YBp3ZM/Rx4wTP/eAFX0\n",
       "ioHzB5CKV0BVdZB7AQPfB4YlLu4uLgIM9xgYyoEuihdAVbRsgzEDQwHMujIGhvUBqQziD8ByjMfS\n",
       "UsCMFee4NjAkwBT5P2BYv2Gn5VKwFPfhB1CTlu7i80MoAoL8B3D3wllLmQx2ISvi+Al3yVIk1gxG\n",
       "AyRFbAvgUgeQFHE9WA1SxArh34XLcJe4AAFUEd8ClgK4DPMFOJMV2SSGndwIRboMrAEwdgGyIkYF\n",
       "uB7uCQzMcEWX4YpWA/FUuKKwmXOXwaXY4JHjBMS8DjCe////3xApZk0fhLHtO9AUPgfsCYNjDjRa\n",
       "UAAAU/hOZOdXR9sAAAAASUVORK5CYII=\n",
       "\" style=\"display:inline;vertical-align:middle;\" /></a></span>"
      ],
      "text/plain": [
       "|- 2^{3} in NaturalPos"
      ]
     },
     "execution_count": 23,
     "metadata": {},
     "output_type": "execute_result"
    }
   ],
   "source": [
    "exp_test_02.deduce_in_number_set(NaturalPos)"
   ]
  },
  {
   "cell_type": "code",
   "execution_count": 24,
   "metadata": {},
   "outputs": [],
   "source": [
    "# This has trouble because it can't seem to first prove that\n",
    "# 2 ≠ 0 or 3 ≠ 0.\n",
    "# exp_test_02.deduce_in_number_set(Complex)"
   ]
  },
  {
   "cell_type": "code",
   "execution_count": 25,
   "metadata": {},
   "outputs": [
    {
     "data": {
      "text/html": [
       "<span style=\"font-size:20px;\"> <a class=\"ProveItLink\" href=\"../__pv_it/demonstrations/09a1279f8e6c34d17651e1af63288387b21dcabc0/proof.ipynb\" style=\"text-decoration: none\">&nbsp;&#x22A2;&nbsp;&nbsp;</a><a class=\"ProveItLink\" href=\"../__pv_it/demonstrations/638e3a3781d9d7a522c31d5d450d3241fee59ed70/expr.ipynb\"><img src=\"data:image/png;base64,iVBORw0KGgoAAAANSUhEUgAAADsAAAAVBAMAAAAKrYvGAAAAMFBMVEX///+YmJiqqqqIiIgyMjLc\n",
       "3NwiIiIQEBC6urp2dnZUVFTMzMxERERmZmbu7u4AAADrYmUNAAAAAXRSTlMAQObYZgAAAQlJREFU\n",
       "KM9jYAABTtt1DHjARYY7+KRvMsgz4AV4dTPwVeOVNjHApe/umQ3YDGd28y87y8DwioHzB5AXr4Aq\n",
       "y71fge++LAPDPQaGcqDN8QKo0gKLGRgY/zIwlDEwrA9IZRB/ABZlPJaWAqY31AHJtQwM/g8Y1m/Y\n",
       "abkUYuRhiCoGXtYDQPIxmJ3/AGbkExjrFfcFmBjHT7iNS2GMSA64T9kWwKUPwBixCOm7CN+UuAAB\n",
       "iPWGewLM/3BbGFjhulkewIzUZWANgIkWwBiMF0DSfEADJzAww6Uvww063AwkWhgYwmbOXQYXZIMH\n",
       "La/PPD6dc8Bg+f//GyJ+1vTBmHvdv93GiD+OOZBAhQEAapxD3Ym1Z/oAAAAASUVORK5CYII=\n",
       "\" style=\"display:inline;vertical-align:middle;\" /></a></span>"
      ],
      "text/plain": [
       "|- 2^{3} in Complex"
      ]
     },
     "execution_count": 25,
     "metadata": {},
     "output_type": "execute_result"
    }
   ],
   "source": [
    "# So this works, if we explicitly assume (e.g.) that 3 ≠ 0\n",
    "InSet(exp_test_02, Complex).prove(assumptions=[NotEquals(three, zero)])"
   ]
  },
  {
   "cell_type": "code",
   "execution_count": 26,
   "metadata": {},
   "outputs": [
    {
     "data": {
      "text/html": [
       "<a class=\"ProveItLink\" href=\"../__pv_it/demonstrations/cf011d846e763260e322f5570a766983b04650c20/expr.ipynb\"><img src=\"data:image/png;base64,iVBORw0KGgoAAAANSUhEUgAAABsAAAAVBAMAAABF8IgWAAAAMFBMVEX////MzMxEREQQEBCYmJh2\n",
       "dnYiIiLu7u6qqqpmZmYyMjK6urpUVFSIiIjc3NwAAADOWS8BAAAAAXRSTlMAQObYZgAAAK9JREFU\n",
       "GNNjYIAAvv8g8AHKY+DZwIAMXqHwGGag8NgTULisDSjcMgaGykmKcG4IA/sBhvgNCK2cBQzMBlAu\n",
       "rwMDcwIDzz8gczcQszEwcH1n4PkIlLACcu+C1bB9Z2B4fh9oAMTW/QFAol6BgeUCmJsDIjj/MbAV\n",
       "gBkTwF77yeAKlrwJseV8QTqI4pjA8A5Ey0eAVYkyMNwD0VxWIK18qaFzwBZw/AQLAsMGYp8ewmcA\n",
       "dDkq0OELPnAAAAAASUVORK5CYII=\n",
       "\" style=\"display:inline;vertical-align:middle;\" /></a>"
      ],
      "text/plain": [
       "sqrt(2)"
      ]
     },
     "execution_count": 26,
     "metadata": {},
     "output_type": "execute_result"
    }
   ],
   "source": [
    "exp_test_03"
   ]
  },
  {
   "cell_type": "code",
   "execution_count": 27,
   "metadata": {},
   "outputs": [
    {
     "data": {
      "text/html": [
       "<span style=\"font-size:20px;\"> <a class=\"ProveItLink\" href=\"../__pv_it/demonstrations/08a49d7249bf8732434cfeea7d10f4102fde0ced0/proof.ipynb\" style=\"text-decoration: none\">&nbsp;&#x22A2;&nbsp;&nbsp;</a><a class=\"ProveItLink\" href=\"../__pv_it/demonstrations/72c610fa04dacd7847a7cb58e5158cb434f2abb50/expr.ipynb\"><img src=\"data:image/png;base64,iVBORw0KGgoAAAANSUhEUgAAAE8AAAAVBAMAAAD1D64kAAAAMFBMVEX////MzMxEREQQEBCYmJh2\n",
       "dnYiIiLu7u6qqqpmZmYyMjK6urpUVFSIiIjc3NwAAADOWS8BAAAAAXRSTlMAQObYZgAAAUlJREFU\n",
       "KM9jYIAAvv8g8IGBIODZwEAceIXXFCT2DHwKmRBM9gQiFbI2EKmwjIGhcpIiqrSbkf4qIwc0hSEM\n",
       "7AcY4tF8vqCGQcipgOHUqsWrVjnAnchZwMBsgKpQ4SkDE98BFBN5HRiYExh4/oE5LGppWTCFnA8W\n",
       "wBXuBmI2Bgau7ww8H0F8Rt0ChImcDxRgCnmtgMRdsATbdxBZVYBkNQ833Orn94FegITi/gAQeQ7Z\n",
       "jW2zCuBW1yswsFwAs3Ig0giFj9OywOHLB+Zy/mNgA9vGOQHsRKtVQAA1cSdTASIQ+H4yuIIZNyFc\n",
       "JBOfcm5UQAqu8wXpIIpjAsM7EG2A7EZ1XySF8hFgO0UZGO6B6LnICmU4BRAKuaxADuFLDZ0D9jxb\n",
       "A1IUsjYcRCjk+AlWDswJYIXsh7bDE8VCBqX1SOlKDzWKuYOgUYgCAHlwVb0Wt0NfAAAAAElFTkSu\n",
       "QmCC\n",
       "\" style=\"display:inline;vertical-align:middle;\" /></a></span>"
      ],
      "text/plain": [
       "|- sqrt(2) in RealPos"
      ]
     },
     "execution_count": 27,
     "metadata": {},
     "output_type": "execute_result"
    }
   ],
   "source": [
    "InSet(exp_test_03, RealPos).prove()"
   ]
  },
  {
   "cell_type": "code",
   "execution_count": 28,
   "metadata": {},
   "outputs": [
    {
     "data": {
      "text/html": [
       "<span style=\"font-size:20px;\"> <a class=\"ProveItLink\" href=\"../__pv_it/demonstrations/8dcb671651e2ff6ece4fff4259e4b0cf8c78befc0/proof.ipynb\" style=\"text-decoration: none\">&nbsp;&#x22A2;&nbsp;&nbsp;</a><a class=\"ProveItLink\" href=\"../__pv_it/demonstrations/130aa6a3412a93a96e91e507a58702427460d34e0/expr.ipynb\"><img src=\"data:image/png;base64,iVBORw0KGgoAAAANSUhEUgAAAD4AAAAUBAMAAAAn2JMnAAAAMFBMVEX///+YmJiqqqqIiIgyMjLc\n",
       "3NwiIiIQEBC6urp2dnZUVFTMzMxERERmZmbu7u4AAADrYmUNAAAAAXRSTlMAQObYZgAAAOhJREFU\n",
       "KM9jYKAALCAgf4AK8nx3z2xAEWRMP/PF/SBc/hUD5w9UXSx8C7gPnmPgcnEpcXFkuMfAUI4qz8M6\n",
       "geFAFEx/GQPD+gCIwcfSUmDyV1lg8v4PGNaDHcB9+AFC/1UeJPfngyWePEAyf0EXQp7jJ5haimQ/\n",
       "U64fQp5tAWpg8LCWpTmBWRB33QWT3CUuQACRn3HhHMI7zBfAFCuS/gk39iDkdRlYweYUIMnzPDSA\n",
       "8bgnMDCD5S8jyXMvuA3jhc2cuwziTAVE+DJM4oJFiv///9/ADL41ffD42cBz5BNGbHLMgYQvCgAA\n",
       "q3tI0NPOwegAAAAASUVORK5CYII=\n",
       "\" style=\"display:inline;vertical-align:middle;\" /></a></span>"
      ],
      "text/plain": [
       "|- 2 in RealPos"
      ]
     },
     "execution_count": 28,
     "metadata": {},
     "output_type": "execute_result"
    }
   ],
   "source": [
    "InSet(two, RealPos).prove()"
   ]
  },
  {
   "cell_type": "code",
   "execution_count": 29,
   "metadata": {},
   "outputs": [
    {
     "data": {
      "text/html": [
       "<strong id=\"two_in_real_k_t\">two_in_real_k_t:</strong> <span style=\"font-size:20px;\"> <a class=\"ProveItLink\" href=\"../__pv_it/demonstrations/04f5eb5979b6ebb3c56e41b666f03f3783825f0c0/proof.ipynb\" style=\"text-decoration: none\">&nbsp;&#x22A2;&nbsp;&nbsp;</a><a class=\"ProveItLink\" href=\"../__pv_it/demonstrations/6e04aa973a58311a28ee646a572ec30f22bec5890/expr.ipynb\"><img src=\"data:image/png;base64,iVBORw0KGgoAAAANSUhEUgAAADIAAAAPBAMAAABU9YHxAAAAMFBMVEX///+YmJiqqqqIiIgyMjLc\n",
       "3NwiIiIQEBC6urp2dnZUVFTMzMxERERmZmbu7u4AAADrYmUNAAAAAXRSTlMAQObYZgAAANVJREFU\n",
       "GNNj4Lt7ZgMDMmBMP/PF/SCQ8YqB8weKDAML3wLug+cYGO4xMJSjyvCwTmA4EMXAUMbAsD4ALCKT\n",
       "luYAk7nKwsDg/4BhPdiiPXZIeq7ygJn5D4AEnx+yaQu6QCyOnyCSKwBJhikXrI5tAZiP5IKyNCcw\n",
       "6y6Y3O4CBFAXzLhwDsRgvgCWiUF29Y09IIYuAyvICnZkGZ6HBgwM3BMYmEEyvAZIMtwLbjMwhM2c\n",
       "uwwskIQUOgyTuDYw+P///w0s8OrEA3iIbuA58gkpvDqPQUIHCgBnrj0uOO3EnwAAAABJRU5ErkJg\n",
       "gg==\n",
       "\" style=\"display:inline;vertical-align:middle;\" /></a></span><br>"
      ],
      "text/plain": [
       "two_in_real_k_t: |- 2 in Real"
      ]
     },
     "execution_count": 29,
     "metadata": {},
     "output_type": "execute_result"
    }
   ],
   "source": [
    "two_in_real_k_t = InSet(two, Real).prove()"
   ]
  },
  {
   "cell_type": "code",
   "execution_count": 30,
   "metadata": {},
   "outputs": [
    {
     "data": {
      "text/html": [
       "<table><tr><th>&nbsp;</th><th>step type</th><th>requirements</th><th>statement</th></tr>\n",
       "<tr><td><a name=\"0x296e5f8ab4034041_step0\">0</a></td><td>instantiation</td><td><a href=\"#0x296e5f8ab4034041_step1\">1</a>, <a href=\"#0x296e5f8ab4034041_step2\">2</a>, <a href=\"#0x296e5f8ab4034041_step3\">3</a></td><td><span style=\"font-size:20px;\"> <a class=\"ProveItLink\" href=\"../__pv_it/demonstrations/04f5eb5979b6ebb3c56e41b666f03f3783825f0c0/proof.ipynb\" style=\"text-decoration: none\">&nbsp;&#x22A2;&nbsp;&nbsp;</a><a class=\"ProveItLink\" href=\"../__pv_it/demonstrations/6e04aa973a58311a28ee646a572ec30f22bec5890/expr.ipynb\"><img src=\"data:image/png;base64,iVBORw0KGgoAAAANSUhEUgAAADIAAAAPBAMAAABU9YHxAAAAMFBMVEX///+YmJiqqqqIiIgyMjLc\n",
       "3NwiIiIQEBC6urp2dnZUVFTMzMxERERmZmbu7u4AAADrYmUNAAAAAXRSTlMAQObYZgAAANVJREFU\n",
       "GNNj4Lt7ZgMDMmBMP/PF/SCQ8YqB8weKDAML3wLug+cYGO4xMJSjyvCwTmA4EMXAUMbAsD4ALCKT\n",
       "luYAk7nKwsDg/4BhPdiiPXZIeq7ygJn5D4AEnx+yaQu6QCyOnyCSKwBJhikXrI5tAZiP5IKyNCcw\n",
       "6y6Y3O4CBFAXzLhwDsRgvgCWiUF29Y09IIYuAyvICnZkGZ6HBgwM3BMYmEEyvAZIMtwLbjMwhM2c\n",
       "uwwskIQUOgyTuDYw+P///w0s8OrEA3iIbuA58gkpvDqPQUIHCgBnrj0uOO3EnwAAAABJRU5ErkJg\n",
       "gg==\n",
       "\" style=\"display:inline;vertical-align:middle;\" /></a></span></td></tr>\n",
       "<tr><td>&nbsp;</td><td colspan=4 style=\"text-align:left\"><span style=\"font-size:20px;\"><a class=\"ProveItLink\" href=\"../../../__pv_it/common/e4aad701f7f5516d8e7f0d805d518bf02c13322a0/expr.ipynb\"><img src=\"data:image/png;base64,iVBORw0KGgoAAAANSUhEUgAAAA8AAAAOBAMAAAACpFvcAAAALVBMVEX///8iIiIQEBBERERUVFS6\n",
       "urqIiIjc3NxmZmaqqqru7u6YmJgyMjLMzMwAAACK9jtgAAAAAXRSTlMAQObYZgAAAFtJREFUCNdj\n",
       "YACBOwxQcA5Kc59bAGGs7CuAMDbkBYBp1gXzNoAZSxnuJYAZAQx1DSCa16PDzwCshIGB6QCIMYGB\n",
       "gVEBSLMDGTwPgIxCIGZ+zsCw+N0pBk67hw0AfpEVEQi8t+wAAAAASUVORK5CYII=\n",
       "\" style=\"display:inline;vertical-align:middle;\" /></a> : <a class=\"ProveItLink\" href=\"../../number_sets/rational_numbers/__pv_it/common/c31fbf3e632f478b2f5544a54ba7525fd0343dcc0/expr.ipynb\"><img src=\"data:image/png;base64,iVBORw0KGgoAAAANSUhEUgAAABAAAAARBAMAAAAmgTH3AAAALVBMVEX///+qqqp2dnaYmJiIiIjc\n",
       "3NwiIiLu7u66urpUVFQyMjJERERmZmbMzMwAAAAPPdWlAAAAAXRSTlMAQObYZgAAAIFJREFUCNdj\n",
       "YGC4s3vXDAYgqJwWwL5yO5Cx4yyQc6uAgcVgAQMDd8UEBi7WAwwMLA3bGSJ5DRgYOAw0GFoYBRgY\n",
       "eB2EGa5AGIIMnGApAVUGbojiCUB1G0DagcIaIAPvAE1mPhbAvsYAZBnzq3UCDGCgwTgBwmBSlTqi\n",
       "AGbF7F7TAADtgR4r3cUBHgAAAABJRU5ErkJggg==\n",
       "\" style=\"display:inline;vertical-align:middle;\" /></a>, <a class=\"ProveItLink\" href=\"../../../__pv_it/common/4eca3b30dcf58a58494e201d1b7886d8643a617b0/expr.ipynb\"><img src=\"data:image/png;base64,iVBORw0KGgoAAAANSUhEUgAAABAAAAAOBAMAAADUAYG5AAAALVBMVEX///8yMjKqqqoiIiLu7u7c\n",
       "3NyIiIjMzMwQEBC6urpERERmZmZUVFSYmJgAAACsPVCVAAAAAXRSTlMAQObYZgAAAGxJREFUCNdj\n",
       "YGC48+70nlUTGICgi4GB+zmQZn/LwMD5Gshge8rAwPsMyOBqYGDwMAEy+A4wsNs4ABl1Z68tVgBp\n",
       "ygtgYOkBMVaAOCChNyBGAsQYhnMTIMawvwJyGIHGzFjCwMAj92b3qUUMDAAXABxvZ4rl5AAAAABJ\n",
       "RU5ErkJggg==\n",
       "\" style=\"display:inline;vertical-align:middle;\" /></a> : <a class=\"ProveItLink\" href=\"../../number_sets/real_numbers/__pv_it/common/3eaf53c11933bb30b35e82c24807c695de530cf10/expr.ipynb\"><img src=\"data:image/png;base64,iVBORw0KGgoAAAANSUhEUgAAAA8AAAAOBAMAAAACpFvcAAAAMFBMVEX///+IiIiqqqq6urpmZmZ2\n",
       "dnbc3NzMzMxUVFTu7u4yMjJEREQQEBAiIiKYmJgAAACIyPRpAAAAAXRSTlMAQObYZgAAAFlJREFU\n",
       "CNdjeHt6/6rTDxiAYMEMhurXE4CMDakM3GwNEAZLwgIYYwOEwcEMldL1AivOuXtLgQEsYsI9AcJg\n",
       "Md8AYTDsfAhlVLAUQKxgVWhnYABaupxh93oFAP7MI7KHKGXxAAAAAElFTkSuQmCC\n",
       "\" style=\"display:inline;vertical-align:middle;\" /></a>, <a class=\"ProveItLink\" href=\"../../../__pv_it/common/a2581dc5df71d9a30bad37de14965fa5fec97a240/expr.ipynb\"><img src=\"data:image/png;base64,iVBORw0KGgoAAAANSUhEUgAAAAsAAAAJBAMAAAAWSsseAAAALVBMVEX///9mZmaqqqrMzMxEREQy\n",
       "MjIiIiKYmJh2dna6urrc3NxUVFSIiIju7u4AAACJHQtQAAAAAXRSTlMAQObYZgAAAEJJREFUCNdj\n",
       "YLhzeuWJAwy8Dew5bAEMHBc43nIuYOBlYHFgAAG+A2DKzgBIMF04x8BzgWGegh/DcgaG22fuiBcw\n",
       "AAATyhBrnyPYZQAAAABJRU5ErkJggg==\n",
       "\" style=\"display:inline;vertical-align:middle;\" /></a> : <a class=\"ProveItLink\" href=\"../../numerals/__pv_it/common/3829356ce3fdf8f35810c63c00bc1a19e838663e0/expr.ipynb\"><img src=\"data:image/png;base64,iVBORw0KGgoAAAANSUhEUgAAAAkAAAAOBAMAAAAPuiubAAAALVBMVEX///+qqqqIiIgyMjLc3Nwi\n",
       "IiIQEBC6urp2dnZUVFTMzMxERERmZmbu7u4AAAAQI6y7AAAAAXRSTlMAQObYZgAAAFJJREFUCNdj\n",
       "4D2zewEDw00GjucMDGcZGNIYGFIZGOY5MNhdYJgHlGBgiLsAJNhfgJisE0DkGRDBdABEyjCwODBw\n",
       "NTAwOTC4dvRMZWCwe/fuKQMANh0TGKpG4roAAAAASUVORK5CYII=\n",
       "\" style=\"display:inline;vertical-align:middle;\" /></a></span></td></tr><tr><td><a name=\"0x296e5f8ab4034041_step1\">1</a></td><td><i>reference</i></td><td><a href=\"#0x296e5f8ab4034041_step6\">6</a></td><td><span style=\"font-size:20px;\"> <a class=\"ProveItLink\" href=\"../../../logic/sets/inclusion/_theory_nbs_/proofs/superset_membership_from_proper_subset/thm_proof.ipynb\" style=\"text-decoration: none\">&nbsp;&#x22A2;&nbsp;&nbsp;</a><a class=\"ProveItLink\" href=\"../../../logic/sets/inclusion/__pv_it/theorems/2bd5812116805831135f1a949ae0e425f21169040/expr.ipynb\"><img src=\"data:image/png;base64,iVBORw0KGgoAAAANSUhEUgAAAPcAAAAWBAMAAADuuhdHAAAAMFBMVEX///8QEBCIiIhmZma6urrM\n",
       "zMxUVFQiIiJERETc3Nzu7u6qqqp2dnaYmJgyMjIAAAAcRTyBAAAAAXRSTlMAQObYZgAAA4ZJREFU\n",
       "SMe1lktoE1EUhn+TmTQzTdquRNBFsAul+AgEKoqPqBuVitGFuDP4gAqKQcX3o0qx0yo0brQI2hHB\n",
       "RxQNuNKNsSJK6yMq+BYHXBS60NJarZWi9547mblNk2Ij3kXm3nvOPd+Zc885E6DE4fkSG1vh3FjC\n",
       "20CwOwqLzz+OHx6IVvBHMFtErjcU3H71e2OtEYUvyS2gi2/1lAIPpNmjwiwir0gW3p8EeAegWwRv\n",
       "YxtaQylwOtVWTP6y8LY6DCj9QAfBuev0DuOGU7y6isn3jVi92bPHEqnyk11VH3CBLAQ7U6kzKAn+\n",
       "IZW6migi1kYI1tXkZv4qBt7PbiXKLWDQMA6WBq80jKZMsWIIs5ybumVJByWfm1OVcai7ebDDBN8M\n",
       "NNO++F3Wf7+eckVxnHVSR2mdX9vswn0xSZan62dVcB2vQ4f5wudqrd/2oolfctAi+FJKPbb8RtJg\n",
       "FQJVdDyn/ynqHH0O3HPhShg38l7Y0S1jhE48M5ePMAXMTkKfyJ7lCYKXwUO1enGYpN44yofkE/oi\n",
       "JlarIxE2rwXumg4cCczMGb12f0FOl8YEJjZhiMXqL2yIhDvKHWCOqb1kIZAto+3OncLlELyWDA9c\n",
       "DkPfuiKVYvMdwEL3zfEEubQKnjhr2rouHOgTC6kev3N4yIFr1loqwJBw82YMs0wZvsbfwG+XgjAA\n",
       "T48EP6/G2aR6zWZ2d46uG3aoA7YnI8oc29lRRYQdzZsoKTCHxKtmTo9Dhse9CdTZCdf34riU7fCf\n",
       "Zj81PmuXaNJC1024O55eUI15Q04RsDJXB92Ewy068B6zSfwUmCbDg2lm4oENtOBJSPBy7m+sIgs9\n",
       "7Ora4jCUX/5eTeTAAafpslxe3ML9yQh4JfdL//y4laJ9EmhPS/Ab8x8NYa79OhlovyS4uNPKJNS9\n",
       "hnHM1rWDlIC+oaba/mJdahRp6vv6PVJ/gryICQtBLvCaaKeLZcZXJSX4PGgDLCyiQ6Sh/JTh76h0\n",
       "EUPc1S3YXuua7PaaG5dtCzRWMtNZrQXaELQpUtgVFrdhXBFK7SZOZWQ476O9T5ER9yJ0x/6w5EaH\n",
       "BPcPQms9pE7Gw/5IfVSCtzag7UdWob4WOBKpbUQeXN9WN8OEP+3ojuqLBb/2lvzmYpTLnVIWXDIM\n",
       "Y1Rvl8d0fud/8WdCci0ffrsYvMCX4/C//I16ywx058Gzfw//v8P7/xF/AAdz9RArGsNxAAAAAElF\n",
       "TkSuQmCC\n",
       "\" style=\"display:inline;vertical-align:middle;\" /></a></span></td></tr>\n",
       "<tr><td><a name=\"0x296e5f8ab4034041_step2\">2</a></td><td>conjecture</td><td></td><td><span style=\"font-size:20px;\"> <a class=\"ProveItLink\" href=\"../../number_sets/real_numbers/_theory_nbs_/proofs/rational_within_real/thm_proof.ipynb\" style=\"text-decoration: none\">&nbsp;&#x22A2;&nbsp;&nbsp;</a><a class=\"ProveItLink\" href=\"../../number_sets/real_numbers/__pv_it/theorems/85bdd7b2985ab2cf6bbf95f9b1dbf16c5f73731f0/expr.ipynb\"><img src=\"data:image/png;base64,iVBORw0KGgoAAAANSUhEUgAAADsAAAARBAMAAACRPMnQAAAAMFBMVEX///8QEBCqqqp2dnaYmJiI\n",
       "iIjc3NwiIiLu7u66urpUVFQyMjJERERmZmbMzMwAAAC8H5PlAAAAAXRSTlMAQObYZgAAAQhJREFU\n",
       "KM9jYGB4e+b0SgY04C5zfreMA4jVtTyBY9cJdPkNXQxvfBqAjJP3gEpeN6BJH0hm4GFbwMDA6rCB\n",
       "gYGncwFYkOV4eXn5A6g0bwJQhpvtAlDNBLDpbJsTkHTzJhxgYMjiA7qA08ESJMaegGw4FyfQyKlM\n",
       "CgwMfAEqILFLKHar3wY66ClEWgkkVoAknVheDZRg4AIbrmAGsnoBsu65PCDf8ECcBpLhOIAszTsP\n",
       "xOV0OADymAO64ckMJ1xBDEtQsLwFi5miSL/iBYUAy/UEjr1gzQzcCsiByqywDhxUv/dDhTlWzUBE\n",
       "yT6GMxBxSyaYk/lsYIGKBJjNtK8aMOAGuWf2TsAuAwAAqlBKx2vCQAAAAABJRU5ErkJggg==\n",
       "\" style=\"display:inline;vertical-align:middle;\" /></a></span></td></tr>\n",
       "<tr><td>&nbsp;</td><td colspan=4 style-\"text-align:left\"><a class=\"ProveItLink\" href=\"../../number_sets/real_numbers/_theory_nbs_/proofs/rational_within_real/thm_proof.ipynb\">proveit.numbers.number_sets.real_numbers.rational_within_real</a></td></tr><tr><td><a name=\"0x296e5f8ab4034041_step3\">3</a></td><td>instantiation</td><td><a href=\"#0x296e5f8ab4034041_step6\">6</a>, <a href=\"#0x296e5f8ab4034041_step4\">4</a>, <a href=\"#0x296e5f8ab4034041_step5\">5</a></td><td><span style=\"font-size:20px;\"> <a class=\"ProveItLink\" href=\"../__pv_it/demonstrations/47ea0294bfb35febe34541709e7d0c1a5446a3730/proof.ipynb\" style=\"text-decoration: none\">&nbsp;&#x22A2;&nbsp;&nbsp;</a><a class=\"ProveItLink\" href=\"../__pv_it/demonstrations/b736abccd55e2bc444d7f24588ad964e368c86f90/expr.ipynb\"><img src=\"data:image/png;base64,iVBORw0KGgoAAAANSUhEUgAAADMAAAARBAMAAACC64kkAAAAMFBMVEX///+YmJiqqqqIiIgyMjLc\n",
       "3NwiIiIQEBC6urp2dnZUVFTMzMxERERmZmbu7u4AAADrYmUNAAAAAXRSTlMAQObYZgAAAPpJREFU\n",
       "GNNj4Lt7ZgMDKuC+c8arAUi/YuD8gSrDtyqV4cmaBwwM9xgYylGleHo3MPCt9mNgKGNgWB8AFpJJ\n",
       "S3MA0YYsQOJcFwOD/wOG9WDL9thBdTnEAgkLngcgdj6I5PODyrAu2AgkGzlBDuH4CRLhCoBKcRgo\n",
       "AcnNTAJAkm0B2HK406FSCkDyLlhkuwsQgJ0BNrCJE2gK8wWwVAzc8QfAzuACEroMrCBr2OFSjSCz\n",
       "zzUCjZ7AwAyS4jWASXGCvQw0K2zm3GVgkSS4NllgQF0E0v7//38DC7w68QAmJ+/yCTXsOo9BAgpo\n",
       "ZIMWAy4wM8jXEocU650jNxgAxFtAZoWfG6oAAAAASUVORK5CYII=\n",
       "\" style=\"display:inline;vertical-align:middle;\" /></a></span></td></tr>\n",
       "<tr><td>&nbsp;</td><td colspan=4 style=\"text-align:left\"><span style=\"font-size:20px;\"><a class=\"ProveItLink\" href=\"../../../__pv_it/common/e4aad701f7f5516d8e7f0d805d518bf02c13322a0/expr.ipynb\"><img src=\"data:image/png;base64,iVBORw0KGgoAAAANSUhEUgAAAA8AAAAOBAMAAAACpFvcAAAALVBMVEX///8iIiIQEBBERERUVFS6\n",
       "urqIiIjc3NxmZmaqqqru7u6YmJgyMjLMzMwAAACK9jtgAAAAAXRSTlMAQObYZgAAAFtJREFUCNdj\n",
       "YACBOwxQcA5Kc59bAGGs7CuAMDbkBYBp1gXzNoAZSxnuJYAZAQx1DSCa16PDzwCshIGB6QCIMYGB\n",
       "gVEBSLMDGTwPgIxCIGZ+zsCw+N0pBk67hw0AfpEVEQi8t+wAAAAASUVORK5CYII=\n",
       "\" style=\"display:inline;vertical-align:middle;\" /></a> : <a class=\"ProveItLink\" href=\"../../number_sets/integers/__pv_it/common/21b035fc94b1f20bfb5161d2c7bd6eb2042cc5670/expr.ipynb\"><img src=\"data:image/png;base64,iVBORw0KGgoAAAANSUhEUgAAAA4AAAAOBAMAAADtZjDiAAAAMFBMVEX///9UVFTc3Nzu7u6qqqp2\n",
       "dnbMzMxmZmZERESIiIiYmJgyMjIQEBAiIiK6uroAAABqpg13AAAAAXRSTlMAQObYZgAAAGVJREFU\n",
       "CNdj4LvzZ/fZPQsYONsTGDZwMDCwBzCwOsQBaQMGRbYCBhBo5jAAUVwTVoG5FswNYFqMUQFE8RU8\n",
       "BXO5GYDCwQwMIawPGBgOMDAJKAINOcDAYdDMwCzVwPCm+0TH+RMFANGWFoagnRaJAAAAAElFTkSu\n",
       "QmCC\n",
       "\" style=\"display:inline;vertical-align:middle;\" /></a>, <a class=\"ProveItLink\" href=\"../../../__pv_it/common/4eca3b30dcf58a58494e201d1b7886d8643a617b0/expr.ipynb\"><img src=\"data:image/png;base64,iVBORw0KGgoAAAANSUhEUgAAABAAAAAOBAMAAADUAYG5AAAALVBMVEX///8yMjKqqqoiIiLu7u7c\n",
       "3NyIiIjMzMwQEBC6urpERERmZmZUVFSYmJgAAACsPVCVAAAAAXRSTlMAQObYZgAAAGxJREFUCNdj\n",
       "YGC48+70nlUTGICgi4GB+zmQZn/LwMD5Gshge8rAwPsMyOBqYGDwMAEy+A4wsNs4ABl1Z68tVgBp\n",
       "ygtgYOkBMVaAOCChNyBGAsQYhnMTIMawvwJyGIHGzFjCwMAj92b3qUUMDAAXABxvZ4rl5AAAAABJ\n",
       "RU5ErkJggg==\n",
       "\" style=\"display:inline;vertical-align:middle;\" /></a> : <a class=\"ProveItLink\" href=\"../../number_sets/rational_numbers/__pv_it/common/c31fbf3e632f478b2f5544a54ba7525fd0343dcc0/expr.ipynb\"><img src=\"data:image/png;base64,iVBORw0KGgoAAAANSUhEUgAAABAAAAARBAMAAAAmgTH3AAAALVBMVEX///+qqqp2dnaYmJiIiIjc\n",
       "3NwiIiLu7u66urpUVFQyMjJERERmZmbMzMwAAAAPPdWlAAAAAXRSTlMAQObYZgAAAIFJREFUCNdj\n",
       "YGC4s3vXDAYgqJwWwL5yO5Cx4yyQc6uAgcVgAQMDd8UEBi7WAwwMLA3bGSJ5DRgYOAw0GFoYBRgY\n",
       "eB2EGa5AGIIMnGApAVUGbojiCUB1G0DagcIaIAPvAE1mPhbAvsYAZBnzq3UCDGCgwTgBwmBSlTqi\n",
       "AGbF7F7TAADtgR4r3cUBHgAAAABJRU5ErkJggg==\n",
       "\" style=\"display:inline;vertical-align:middle;\" /></a>, <a class=\"ProveItLink\" href=\"../../../__pv_it/common/a2581dc5df71d9a30bad37de14965fa5fec97a240/expr.ipynb\"><img src=\"data:image/png;base64,iVBORw0KGgoAAAANSUhEUgAAAAsAAAAJBAMAAAAWSsseAAAALVBMVEX///9mZmaqqqrMzMxEREQy\n",
       "MjIiIiKYmJh2dna6urrc3NxUVFSIiIju7u4AAACJHQtQAAAAAXRSTlMAQObYZgAAAEJJREFUCNdj\n",
       "YLhzeuWJAwy8Dew5bAEMHBc43nIuYOBlYHFgAAG+A2DKzgBIMF04x8BzgWGegh/DcgaG22fuiBcw\n",
       "AAATyhBrnyPYZQAAAABJRU5ErkJggg==\n",
       "\" style=\"display:inline;vertical-align:middle;\" /></a> : <a class=\"ProveItLink\" href=\"../../numerals/__pv_it/common/3829356ce3fdf8f35810c63c00bc1a19e838663e0/expr.ipynb\"><img src=\"data:image/png;base64,iVBORw0KGgoAAAANSUhEUgAAAAkAAAAOBAMAAAAPuiubAAAALVBMVEX///+qqqqIiIgyMjLc3Nwi\n",
       "IiIQEBC6urp2dnZUVFTMzMxERERmZmbu7u4AAAAQI6y7AAAAAXRSTlMAQObYZgAAAFJJREFUCNdj\n",
       "4D2zewEDw00GjucMDGcZGNIYGFIZGOY5MNhdYJgHlGBgiLsAJNhfgJisE0DkGRDBdABEyjCwODBw\n",
       "NTAwOTC4dvRMZWCwe/fuKQMANh0TGKpG4roAAAAASUVORK5CYII=\n",
       "\" style=\"display:inline;vertical-align:middle;\" /></a></span></td></tr><tr><td><a name=\"0x296e5f8ab4034041_step4\">4</a></td><td>conjecture</td><td></td><td><span style=\"font-size:20px;\"> <a class=\"ProveItLink\" href=\"../../number_sets/rational_numbers/_theory_nbs_/proofs/int_within_rational/thm_proof.ipynb\" style=\"text-decoration: none\">&nbsp;&#x22A2;&nbsp;&nbsp;</a><a class=\"ProveItLink\" href=\"../../number_sets/rational_numbers/__pv_it/theorems/09e572cd1e3856733f9bd61848db8bff15c8e4260/expr.ipynb\"><img src=\"data:image/png;base64,iVBORw0KGgoAAAANSUhEUgAAADkAAAARBAMAAACVyRntAAAAMFBMVEX///9UVFTc3Nzu7u6qqqp2\n",
       "dnbMzMxmZmZERESIiIiYmJgyMjIQEBAiIiK6uroAAABqpg13AAAAAXRSTlMAQObYZgAAAQlJREFU\n",
       "GNNj4LvzZ/fZPQsYUAFbRcfGB0Casz2BYQMHmiSz4CUGawkDBgb2AAZWhzg0WY7nCQzMYpuBsgYM\n",
       "imwFEMEVd+/evQZizOIGEs0PwYLNHAZgWjsIpneDOpCYBxbmmrAKInYJJskkkAUkX7GC3GXB3AAW\n",
       "Y3eAyfJNcAGSmSwgn4gxKoDFeBH+gcoClfMVPIWIKSLcDDb5CStQFzcD0OBgkA0I2QawqxiBRAjI\n",
       "8gMoJjO8AgVP8yuQ+4AmsoNkWSfAZVnBoQEMBQ6DZgZmKbCrtyA0LweGZBWQftN9ouP8CXBgGcoZ\n",
       "wKXX7/6CFroMqb3QkASa/cCRAQ8IVdk+FbcsU0V3HQMAQThBdx6juCoAAAAASUVORK5CYII=\n",
       "\" style=\"display:inline;vertical-align:middle;\" /></a></span></td></tr>\n",
       "<tr><td>&nbsp;</td><td colspan=4 style-\"text-align:left\"><a class=\"ProveItLink\" href=\"../../number_sets/rational_numbers/_theory_nbs_/proofs/int_within_rational/thm_proof.ipynb\">proveit.numbers.number_sets.rational_numbers.int_within_rational</a></td></tr><tr><td><a name=\"0x296e5f8ab4034041_step5\">5</a></td><td>instantiation</td><td><a href=\"#0x296e5f8ab4034041_step6\">6</a>, <a href=\"#0x296e5f8ab4034041_step7\">7</a>, <a href=\"#0x296e5f8ab4034041_step8\">8</a></td><td><span style=\"font-size:20px;\"> <a class=\"ProveItLink\" href=\"../__pv_it/demonstrations/807978add2d36d6c3583fc867da2e958e0150cb00/proof.ipynb\" style=\"text-decoration: none\">&nbsp;&#x22A2;&nbsp;&nbsp;</a><a class=\"ProveItLink\" href=\"../__pv_it/demonstrations/4cba3c58fc8893b052a589bf101f9883bafb3d920/expr.ipynb\"><img src=\"data:image/png;base64,iVBORw0KGgoAAAANSUhEUgAAADEAAAAPBAMAAAC/wjryAAAAMFBMVEX///+YmJiqqqqIiIgyMjLc\n",
       "3NwiIiIQEBC6urp2dnZUVFTMzMxERERmZmbu7u4AAADrYmUNAAAAAXRSTlMAQObYZgAAAOFJREFU\n",
       "GNNj4Lt7ZgMDCmirL3FPKWRgeMXA+QNVxuY2AwvDAQaGewwM5agyNxkYJnE2MDCUMTCsDwCLyKSl\n",
       "OYDoewysC/YCaf8HDOvBFu2xg+vieXAOwsh/ACT4/BDmCTMKgGmOnyCSKwAuwXfgDYTBtgBsAkIL\n",
       "14alEMZdMLndBQjALmDo5ZgAppkvgKkYhB4HoH5OoN26DKwgK9jhEpwKM8Bc7gkMzCAZXgOYTBQr\n",
       "0OLrDAxhM+cuAwskwWTO8TxgeCUD9On//9/AAq9OPIB4osb9zPHvZ5HDq/MYJHSgAACl9Dkf5s66\n",
       "MQAAAABJRU5ErkJggg==\n",
       "\" style=\"display:inline;vertical-align:middle;\" /></a></span></td></tr>\n",
       "<tr><td>&nbsp;</td><td colspan=4 style=\"text-align:left\"><span style=\"font-size:20px;\"><a class=\"ProveItLink\" href=\"../../../__pv_it/common/e4aad701f7f5516d8e7f0d805d518bf02c13322a0/expr.ipynb\"><img src=\"data:image/png;base64,iVBORw0KGgoAAAANSUhEUgAAAA8AAAAOBAMAAAACpFvcAAAALVBMVEX///8iIiIQEBBERERUVFS6\n",
       "urqIiIjc3NxmZmaqqqru7u6YmJgyMjLMzMwAAACK9jtgAAAAAXRSTlMAQObYZgAAAFtJREFUCNdj\n",
       "YACBOwxQcA5Kc59bAGGs7CuAMDbkBYBp1gXzNoAZSxnuJYAZAQx1DSCa16PDzwCshIGB6QCIMYGB\n",
       "gVEBSLMDGTwPgIxCIGZ+zsCw+N0pBk67hw0AfpEVEQi8t+wAAAAASUVORK5CYII=\n",
       "\" style=\"display:inline;vertical-align:middle;\" /></a> : <a class=\"ProveItLink\" href=\"../../number_sets/natural_numbers/__pv_it/common/85c8b43c90a7392ebb5459360d343dfa7c7408b50/expr.ipynb\"><img src=\"data:image/png;base64,iVBORw0KGgoAAAANSUhEUgAAAA8AAAAOBAMAAAACpFvcAAAAMFBMVEX///9mZmaqqqrc3NyIiIgi\n",
       "IiJUVFTMzMyYmJi6uroQEBB2dnZEREQyMjLu7u4AAAA1o4RqAAAAAXRSTlMAQObYZgAAAGVJREFU\n",
       "CNdjePvn7AOGXb8mMDCcYE9g4PvAwMCQWuDCwLAAyMg8x1bAEABkJJfx3YMwmBzKIAyGnRwOEAbb\n",
       "g3QIgy+BdwGYwVDNDmVwKBwAMtKBeDOIcQmIGS8wMJT+AvL4LjAAADA2HcoIlkTkAAAAAElFTkSu\n",
       "QmCC\n",
       "\" style=\"display:inline;vertical-align:middle;\" /></a>, <a class=\"ProveItLink\" href=\"../../../__pv_it/common/4eca3b30dcf58a58494e201d1b7886d8643a617b0/expr.ipynb\"><img src=\"data:image/png;base64,iVBORw0KGgoAAAANSUhEUgAAABAAAAAOBAMAAADUAYG5AAAALVBMVEX///8yMjKqqqoiIiLu7u7c\n",
       "3NyIiIjMzMwQEBC6urpERERmZmZUVFSYmJgAAACsPVCVAAAAAXRSTlMAQObYZgAAAGxJREFUCNdj\n",
       "YGC48+70nlUTGICgi4GB+zmQZn/LwMD5Gshge8rAwPsMyOBqYGDwMAEy+A4wsNs4ABl1Z68tVgBp\n",
       "ygtgYOkBMVaAOCChNyBGAsQYhnMTIMawvwJyGIHGzFjCwMAj92b3qUUMDAAXABxvZ4rl5AAAAABJ\n",
       "RU5ErkJggg==\n",
       "\" style=\"display:inline;vertical-align:middle;\" /></a> : <a class=\"ProveItLink\" href=\"../../number_sets/integers/__pv_it/common/21b035fc94b1f20bfb5161d2c7bd6eb2042cc5670/expr.ipynb\"><img src=\"data:image/png;base64,iVBORw0KGgoAAAANSUhEUgAAAA4AAAAOBAMAAADtZjDiAAAAMFBMVEX///9UVFTc3Nzu7u6qqqp2\n",
       "dnbMzMxmZmZERESIiIiYmJgyMjIQEBAiIiK6uroAAABqpg13AAAAAXRSTlMAQObYZgAAAGVJREFU\n",
       "CNdj4LvzZ/fZPQsYONsTGDZwMDCwBzCwOsQBaQMGRbYCBhBo5jAAUVwTVoG5FswNYFqMUQFE8RU8\n",
       "BXO5GYDCwQwMIawPGBgOMDAJKAINOcDAYdDMwCzVwPCm+0TH+RMFANGWFoagnRaJAAAAAElFTkSu\n",
       "QmCC\n",
       "\" style=\"display:inline;vertical-align:middle;\" /></a>, <a class=\"ProveItLink\" href=\"../../../__pv_it/common/a2581dc5df71d9a30bad37de14965fa5fec97a240/expr.ipynb\"><img src=\"data:image/png;base64,iVBORw0KGgoAAAANSUhEUgAAAAsAAAAJBAMAAAAWSsseAAAALVBMVEX///9mZmaqqqrMzMxEREQy\n",
       "MjIiIiKYmJh2dna6urrc3NxUVFSIiIju7u4AAACJHQtQAAAAAXRSTlMAQObYZgAAAEJJREFUCNdj\n",
       "YLhzeuWJAwy8Dew5bAEMHBc43nIuYOBlYHFgAAG+A2DKzgBIMF04x8BzgWGegh/DcgaG22fuiBcw\n",
       "AAATyhBrnyPYZQAAAABJRU5ErkJggg==\n",
       "\" style=\"display:inline;vertical-align:middle;\" /></a> : <a class=\"ProveItLink\" href=\"../../numerals/__pv_it/common/3829356ce3fdf8f35810c63c00bc1a19e838663e0/expr.ipynb\"><img src=\"data:image/png;base64,iVBORw0KGgoAAAANSUhEUgAAAAkAAAAOBAMAAAAPuiubAAAALVBMVEX///+qqqqIiIgyMjLc3Nwi\n",
       "IiIQEBC6urp2dnZUVFTMzMxERERmZmbu7u4AAAAQI6y7AAAAAXRSTlMAQObYZgAAAFJJREFUCNdj\n",
       "4D2zewEDw00GjucMDGcZGNIYGFIZGOY5MNhdYJgHlGBgiLsAJNhfgJisE0DkGRDBdABEyjCwODBw\n",
       "NTAwOTC4dvRMZWCwe/fuKQMANh0TGKpG4roAAAAASUVORK5CYII=\n",
       "\" style=\"display:inline;vertical-align:middle;\" /></a></span></td></tr><tr><td><a name=\"0x296e5f8ab4034041_step6\">6</a></td><td>theorem</td><td></td><td><span style=\"font-size:20px;\"> <a class=\"ProveItLink\" href=\"../../../logic/sets/inclusion/_theory_nbs_/proofs/superset_membership_from_proper_subset/thm_proof.ipynb\" style=\"text-decoration: none\">&nbsp;&#x22A2;&nbsp;&nbsp;</a><a class=\"ProveItLink\" href=\"../../../logic/sets/inclusion/__pv_it/theorems/2bd5812116805831135f1a949ae0e425f21169040/expr.ipynb\"><img src=\"data:image/png;base64,iVBORw0KGgoAAAANSUhEUgAAAPcAAAAWBAMAAADuuhdHAAAAMFBMVEX///8QEBCIiIhmZma6urrM\n",
       "zMxUVFQiIiJERETc3Nzu7u6qqqp2dnaYmJgyMjIAAAAcRTyBAAAAAXRSTlMAQObYZgAAA4ZJREFU\n",
       "SMe1lktoE1EUhn+TmTQzTdquRNBFsAul+AgEKoqPqBuVitGFuDP4gAqKQcX3o0qx0yo0brQI2hHB\n",
       "RxQNuNKNsSJK6yMq+BYHXBS60NJarZWi9547mblNk2Ij3kXm3nvOPd+Zc885E6DE4fkSG1vh3FjC\n",
       "20CwOwqLzz+OHx6IVvBHMFtErjcU3H71e2OtEYUvyS2gi2/1lAIPpNmjwiwir0gW3p8EeAegWwRv\n",
       "YxtaQylwOtVWTP6y8LY6DCj9QAfBuev0DuOGU7y6isn3jVi92bPHEqnyk11VH3CBLAQ7U6kzKAn+\n",
       "IZW6migi1kYI1tXkZv4qBt7PbiXKLWDQMA6WBq80jKZMsWIIs5ybumVJByWfm1OVcai7ebDDBN8M\n",
       "NNO++F3Wf7+eckVxnHVSR2mdX9vswn0xSZan62dVcB2vQ4f5wudqrd/2oolfctAi+FJKPbb8RtJg\n",
       "FQJVdDyn/ynqHH0O3HPhShg38l7Y0S1jhE48M5ePMAXMTkKfyJ7lCYKXwUO1enGYpN44yofkE/oi\n",
       "JlarIxE2rwXumg4cCczMGb12f0FOl8YEJjZhiMXqL2yIhDvKHWCOqb1kIZAto+3OncLlELyWDA9c\n",
       "DkPfuiKVYvMdwEL3zfEEubQKnjhr2rouHOgTC6kev3N4yIFr1loqwJBw82YMs0wZvsbfwG+XgjAA\n",
       "T48EP6/G2aR6zWZ2d46uG3aoA7YnI8oc29lRRYQdzZsoKTCHxKtmTo9Dhse9CdTZCdf34riU7fCf\n",
       "Zj81PmuXaNJC1024O55eUI15Q04RsDJXB92Ewy068B6zSfwUmCbDg2lm4oENtOBJSPBy7m+sIgs9\n",
       "7Ora4jCUX/5eTeTAAafpslxe3ML9yQh4JfdL//y4laJ9EmhPS/Ab8x8NYa79OhlovyS4uNPKJNS9\n",
       "hnHM1rWDlIC+oaba/mJdahRp6vv6PVJ/gryICQtBLvCaaKeLZcZXJSX4PGgDLCyiQ6Sh/JTh76h0\n",
       "EUPc1S3YXuua7PaaG5dtCzRWMtNZrQXaELQpUtgVFrdhXBFK7SZOZWQ476O9T5ER9yJ0x/6w5EaH\n",
       "BPcPQms9pE7Gw/5IfVSCtzag7UdWob4WOBKpbUQeXN9WN8OEP+3ojuqLBb/2lvzmYpTLnVIWXDIM\n",
       "Y1Rvl8d0fud/8WdCci0ffrsYvMCX4/C//I16ywx058Gzfw//v8P7/xF/AAdz9RArGsNxAAAAAElF\n",
       "TkSuQmCC\n",
       "\" style=\"display:inline;vertical-align:middle;\" /></a></span></td></tr>\n",
       "<tr><td>&nbsp;</td><td colspan=4 style-\"text-align:left\"><a class=\"ProveItLink\" href=\"../../../logic/sets/inclusion/_theory_nbs_/proofs/superset_membership_from_proper_subset/thm_proof.ipynb\">proveit.logic.sets.inclusion.superset_membership_from_proper_subset</a></td></tr><tr><td><a name=\"0x296e5f8ab4034041_step7\">7</a></td><td>conjecture</td><td></td><td><span style=\"font-size:20px;\"> <a class=\"ProveItLink\" href=\"../../number_sets/integers/_theory_nbs_/proofs/nat_within_int/thm_proof.ipynb\" style=\"text-decoration: none\">&nbsp;&#x22A2;&nbsp;&nbsp;</a><a class=\"ProveItLink\" href=\"../../number_sets/integers/__pv_it/theorems/dd89a0f842c9f2861f516e9a182b2db243ae58e90/expr.ipynb\"><img src=\"data:image/png;base64,iVBORw0KGgoAAAANSUhEUgAAADkAAAAPBAMAAACsFXoGAAAAMFBMVEX///9mZmaqqqrc3NyIiIgi\n",
       "IiJUVFTMzMyYmJi6uroQEBB2dnZEREQyMjLu7u4AAAA1o4RqAAAAAXRSTlMAQObYZgAAAPZJREFU\n",
       "GNNjePvn7AOGXb8mMKCAqevX3opdAWScYE9g4PuAKsngI87Ay3AAyEgtcGFgWIAmK83AsIkbZF7m\n",
       "ObYChgCIYE9oaGg4iCHHwJxQCGIkl/Hdg8rabkbo5nlwDizL5FAGlQ1GMruFowEsy7CTwwEsy6iA\n",
       "kOQ78IYBIsv2IB0sy4qkla0gGSrLl8ALdrMZkuxEzg1QWYZqdrDsGyTZCzwMDNwPwLIcCgfQTOZW\n",
       "2MnAwAVkpAPxZrAstwNc1ow5gYFBCsi4BHLtBbDYJbjsOZ4HDM96GBhKfwH18UFkn2U+gEhyrrl1\n",
       "5tSvg2jBW30UGpJQAADwfUE6b5/KAQAAAABJRU5ErkJggg==\n",
       "\" style=\"display:inline;vertical-align:middle;\" /></a></span></td></tr>\n",
       "<tr><td>&nbsp;</td><td colspan=4 style-\"text-align:left\"><a class=\"ProveItLink\" href=\"../../number_sets/integers/_theory_nbs_/proofs/nat_within_int/thm_proof.ipynb\">proveit.numbers.number_sets.integers.nat_within_int</a></td></tr><tr><td><a name=\"0x296e5f8ab4034041_step8\">8</a></td><td>theorem</td><td></td><td><span style=\"font-size:20px;\"> <a class=\"ProveItLink\" href=\"../../numerals/decimals/_theory_nbs_/proofs/nat2/thm_proof.ipynb\" style=\"text-decoration: none\">&nbsp;&#x22A2;&nbsp;&nbsp;</a><a class=\"ProveItLink\" href=\"../../numerals/decimals/__pv_it/theorems/44814e54962ebf439303b56d30f64b9a275b48a60/expr.ipynb\"><img src=\"data:image/png;base64,iVBORw0KGgoAAAANSUhEUgAAADIAAAAPBAMAAABU9YHxAAAAMFBMVEX///+YmJiqqqqIiIgyMjLc\n",
       "3NwiIiIQEBC6urp2dnZUVFTMzMxERERmZmbu7u4AAADrYmUNAAAAAXRSTlMAQObYZgAAAOBJREFU\n",
       "GNNj4Lt7ZgMDMuDzP+PHwFlfwfCKgfMHigwDj8AuBob3DAz3GBjKUWW4spkNGNgZGMoYGNYHgEVk\n",
       "0tIcwDI9D1YzsDEw+D9gWA+2aI8dTE/0gicP2MDM/Acgi/3gpgUocy8Ay3D8hPARMpwNwmAZtgVg\n",
       "FyFcEMCwjmsbiHUXzN/uAgQOUJlXDO5ABvMFsEwMsh7uCduBDF0GVpAV7MgyDEJAw7knMDCDZHgN\n",
       "4DJAT3ACjQibOXcZWCAJJsOiACSuAH36//83sMCrEw/ANHd+DZB8ghxenccgoQMFAOa6NR2IZoaj\n",
       "AAAAAElFTkSuQmCC\n",
       "\" style=\"display:inline;vertical-align:middle;\" /></a></span></td></tr>\n",
       "<tr><td>&nbsp;</td><td colspan=4 style-\"text-align:left\"><a class=\"ProveItLink\" href=\"../../numerals/decimals/_theory_nbs_/proofs/nat2/thm_proof.ipynb\">proveit.numbers.numerals.decimals.nat2</a></td></tr></table>"
      ],
      "text/plain": [
       "\tstep type\trequirements\tstatement\n",
       "0\tinstantiation\t5, 1, 2\t|- 2 in Real\n",
       "\tA : Rational, B : Real, x : 2\n",
       "1\tconjecture\t\t|- Rational proper_subset Real\n",
       "2\tinstantiation\t5, 3, 4\t|- 2 in Rational\n",
       "\tA : Integer, B : Rational, x : 2\n",
       "3\tconjecture\t\t|- Integer proper_subset Rational\n",
       "4\tinstantiation\t5, 6, 7\t|- 2 in Integer\n",
       "\tA : Natural, B : Integer, x : 2\n",
       "5\ttheorem\t\t|- forall_{A, B | A proper_subset B} [forall_{x in A} (x in B)]\n",
       "\tproveit.logic.sets.inclusion.superset_membership_from_proper_subset\n",
       "6\tconjecture\t\t|- Natural proper_subset Integer\n",
       "7\ttheorem\t\t|- 2 in Natural\n",
       "\tproveit.numbers.numerals.decimals.nat2"
      ]
     },
     "execution_count": 30,
     "metadata": {},
     "output_type": "execute_result"
    }
   ],
   "source": [
    "two_in_real_k_t.proof()"
   ]
  },
  {
   "cell_type": "code",
   "execution_count": 31,
   "metadata": {},
   "outputs": [
    {
     "data": {
      "text/html": [
       "<strong id=\"sqrt2_is_complex\">sqrt2_is_complex:</strong> <span style=\"font-size:20px;\"> <a class=\"ProveItLink\" href=\"../__pv_it/demonstrations/0ea00e9ef3a15850d22441e37986f478a3230fee0/proof.ipynb\" style=\"text-decoration: none\">&nbsp;&#x22A2;&nbsp;&nbsp;</a><a class=\"ProveItLink\" href=\"../__pv_it/demonstrations/11c30db9e337f96bb752f435267ed678315abb560/expr.ipynb\"><img src=\"data:image/png;base64,iVBORw0KGgoAAAANSUhEUgAAAEMAAAAVBAMAAADvM06qAAAAMFBMVEX////MzMxEREQQEBCYmJh2\n",
       "dnYiIiLu7u6qqqpmZmYyMjK6urpUVFSIiIjc3NwAAADOWS8BAAAAAXRSTlMAQObYZgAAATdJREFU\n",
       "KM9jYIAAvv8g8IEBD+DZwEAIvCKogmEGQRXsCQSVsDYQVFLGwFA5SRFdlHfZejNNGCeEgf0AQzya\n",
       "rxjlG9jneyKcwlnAwGyAqsThLAMDy0+YiQ4MzAkMPP/AHBa1tCwwLWAOJE8C8W4gZmNg4PrOwPMR\n",
       "bLxuAUQfJ58CkKwFGmAFpO+Cxdi+g8gqqAqGGsYJEMbz+0BHQkJlfwCIPAdzylPuC1BWvQIDC4Sd\n",
       "AyYVYEpewpVw/mNgA5vNCTaX0WoVEIBYRYwBsGTwk8EVzLgJ4cJN4So4AGOeL0gHURwTGN6BaHjg\n",
       "sEwAKWEHMeUjwDaIMjDcA9Fz4UGnuxdI7AIbaAVyCl9q6Bywx9jgMcq5KJy9SR1sAziMuYDpEqyE\n",
       "/dB2mBrJxd8mQlh6qFHDHQSJABgAAEaSSfW+M0X9AAAAAElFTkSuQmCC\n",
       "\" style=\"display:inline;vertical-align:middle;\" /></a></span><br>"
      ],
      "text/plain": [
       "sqrt2_is_complex: |- sqrt(2) in Complex"
      ]
     },
     "execution_count": 31,
     "metadata": {},
     "output_type": "execute_result"
    }
   ],
   "source": [
    "sqrt2_is_complex = InSet(exp_test_03, Complex).prove()"
   ]
  },
  {
   "cell_type": "code",
   "execution_count": 32,
   "metadata": {},
   "outputs": [
    {
     "data": {
      "text/html": [
       "<strong id=\"two_to_power_t\">two_to_power_t:</strong> <a class=\"ProveItLink\" href=\"../__pv_it/demonstrations/a91993f454923c98d52ec44c4a9fa6aa5f06e7ab0/expr.ipynb\"><img src=\"data:image/png;base64,iVBORw0KGgoAAAANSUhEUgAAAA8AAAATBAMAAAC97EqZAAAALVBMVEX///+qqqqIiIgyMjLc3Nwi\n",
       "IiIQEBC6urp2dnZUVFTMzMxERERmZmbu7u4AAAAQI6y7AAAAAXRSTlMAQObYZgAAAHdJREFUCNdj\n",
       "YAADKwjFwPsAymAMgNAsR20WQFjMAkDpM7sXMPA5MDDcZOB4zrAMKHqWgSGNQZPXgSGVgWGewyEO\n",
       "Bga7CwzzFqzUAuuJuwDRy/4CaizrBCjjDJRmOgBlyDCwOIBorgYGJjDDtaNnKljG7t27pyAaAOXm\n",
       "GU9MDlD9AAAAAElFTkSuQmCC\n",
       "\" style=\"display:inline;vertical-align:middle;\" /></a><br>"
      ],
      "text/plain": [
       "two_to_power_t: 2^{t}"
      ]
     },
     "execution_count": 32,
     "metadata": {},
     "output_type": "execute_result"
    }
   ],
   "source": [
    "t_ = Literal('t')\n",
    "two_to_power_t = Exp(two, t_)"
   ]
  },
  {
   "cell_type": "code",
   "execution_count": 33,
   "metadata": {},
   "outputs": [
    {
     "data": {
      "text/html": [
       "<span style=\"font-size:20px;\"><a class=\"ProveItLink\" href=\"../__pv_it/demonstrations/e62d35d5ab83e5217b1808bce1549b35c95370b30/expr.ipynb\"><img src=\"data:image/png;base64,iVBORw0KGgoAAAANSUhEUgAAADwAAAAUBAMAAAAjLUMaAAAAMFBMVEX///8QEBCYmJhUVFTMzMzu\n",
       "7u6IiIhERES6urp2dnYyMjJmZmaqqqrc3NwiIiIAAACerFpgAAAAAXRSTlMAQObYZgAAANxJREFU\n",
       "KM9jYCAbGOCXLqC6NOv68qUMnPIScOm3qPLsCs4MDPEMzKtWSa1axMDA8wFVmvkJWwIDI9xw7gUQ\n",
       "YfV378As5vYAEwY+uDTfBLCseypM9xWDqAC4dHd9dQLIRUvhhl84xmKA0H0eKoiQ5mxQQ0jvgrgX\n",
       "4bQLDKbMfiAWWMdLsKDjKiBYAJUOZlgID4YfYOo6sm6WCY4wHscHhgAgxYgszaADt4tzAY8DyPcJ\n",
       "cGkglxNuGLdBGJh+AxPgOgB3LxDwFimA6eCKADDN8l4cSEZhRFVn3bsFGIIATsw2Igf3W/cAAAAA\n",
       "SUVORK5CYII=\n",
       "\" style=\"display:inline;vertical-align:middle;\" /></a> <a class=\"ProveItLink\" href=\"../__pv_it/demonstrations/22e16a7b16cf2693a0241202ee9d99b84f2733410/proof.ipynb\" style=\"text-decoration: none\">&nbsp;&#x22A2;&nbsp;&nbsp;</a><a class=\"ProveItLink\" href=\"../__pv_it/demonstrations/d8f2f049343a2e5b8becc71d3fbea1fa55f769be0/expr.ipynb\"><img src=\"data:image/png;base64,iVBORw0KGgoAAAANSUhEUgAAAEUAAAAUBAMAAAApce1IAAAAMFBMVEX///+YmJiqqqqIiIgyMjLc\n",
       "3NwiIiIQEBC6urp2dnZUVFTMzMxERERmZmbu7u4AAADrYmUNAAAAAXRSTlMAQObYZgAAARtJREFU\n",
       "KM9jYAADbwaCgO8DLhkuOIspAZcaHhiD9ZrvBkJqGFgU8JrDd/fMBgb+AFSZJ3+OPGCY/r0BquYV\n",
       "A+cPhu3o2g9yLwB5ZImLu4uLAMM9BoZyBis+NIOWbTBmYCiA2VXGwLA+4DInRIrxWFoKmLHiHNcG\n",
       "hgSYGv8HDOs37LIGy3AffgA1Z+kuPj+EGiDIh8k8gTEYljIZ7EJWw/ETLsOAYM1gNEBSw7YAJnMA\n",
       "SQ3Xg9UgNawQ/l2YBHeJCxBA1fAtYCmAa2G+AI8SZHMYdnIj1OgysMICpwBZDaMCXAv3BAZmmJrL\n",
       "cDWrgXgqXE3YzLnLYGw2eNQ6ATGvA4zn////N3hSW9MHYWz7DjSDzwFrSuCYA40LFAAANZNK4kH5\n",
       "y2YAAAAASUVORK5CYII=\n",
       "\" style=\"display:inline;vertical-align:middle;\" /></a></span>"
      ],
      "text/plain": [
       "{t in NaturalPos} |- 2^{t} in NaturalPos"
      ]
     },
     "execution_count": 33,
     "metadata": {},
     "output_type": "execute_result"
    }
   ],
   "source": [
    "InSet(two_to_power_t, NaturalPos).prove(assumptions=[InSet(t_, NaturalPos)])"
   ]
  },
  {
   "cell_type": "markdown",
   "metadata": {},
   "source": [
    "Testing the formatting of some Exp() and sqrt() outputs"
   ]
  },
  {
   "cell_type": "code",
   "execution_count": 34,
   "metadata": {},
   "outputs": [
    {
     "data": {
      "text/html": [
       "<span style=\"font-size:20px;\"> <a class=\"ProveItLink\" href=\"../__pv_it/demonstrations/08a49d7249bf8732434cfeea7d10f4102fde0ced0/proof.ipynb\" style=\"text-decoration: none\">&nbsp;&#x22A2;&nbsp;&nbsp;</a><a class=\"ProveItLink\" href=\"../__pv_it/demonstrations/72c610fa04dacd7847a7cb58e5158cb434f2abb50/expr.ipynb\"><img src=\"data:image/png;base64,iVBORw0KGgoAAAANSUhEUgAAAE8AAAAVBAMAAAD1D64kAAAAMFBMVEX////MzMxEREQQEBCYmJh2\n",
       "dnYiIiLu7u6qqqpmZmYyMjK6urpUVFSIiIjc3NwAAADOWS8BAAAAAXRSTlMAQObYZgAAAUlJREFU\n",
       "KM9jYIAAvv8g8IGBIODZwEAceIXXFCT2DHwKmRBM9gQiFbI2EKmwjIGhcpIiqrSbkf4qIwc0hSEM\n",
       "7AcY4tF8vqCGQcipgOHUqsWrVjnAnchZwMBsgKpQ4SkDE98BFBN5HRiYExh4/oE5LGppWTCFnA8W\n",
       "wBXuBmI2Bgau7ww8H0F8Rt0ChImcDxRgCnmtgMRdsATbdxBZVYBkNQ833Orn94FegITi/gAQeQ7Z\n",
       "jW2zCuBW1yswsFwAs3Ig0giFj9OywOHLB+Zy/mNgA9vGOQHsRKtVQAA1cSdTASIQ+H4yuIIZNyFc\n",
       "JBOfcm5UQAqu8wXpIIpjAsM7EG2A7EZ1XySF8hFgO0UZGO6B6LnICmU4BRAKuaxADuFLDZ0D9jxb\n",
       "A1IUsjYcRCjk+AlWDswJYIXsh7bDE8VCBqX1SOlKDzWKuYOgUYgCAHlwVb0Wt0NfAAAAAElFTkSu\n",
       "QmCC\n",
       "\" style=\"display:inline;vertical-align:middle;\" /></a></span>"
      ],
      "text/plain": [
       "|- sqrt(2) in RealPos"
      ]
     },
     "execution_count": 34,
     "metadata": {},
     "output_type": "execute_result"
    }
   ],
   "source": [
    "InSet(exp_test_03, RealPos).prove()"
   ]
  },
  {
   "cell_type": "code",
   "execution_count": 35,
   "metadata": {},
   "outputs": [
    {
     "data": {
      "text/html": [
       "<a class=\"ProveItLink\" href=\"../__pv_it/demonstrations/73f862aa1ad6573f61f8e274ace4336422ce79e20/expr.ipynb\"><img src=\"data:image/png;base64,iVBORw0KGgoAAAANSUhEUgAAABwAAAAVBAMAAACnLJNvAAAAMFBMVEX////MzMxEREQQEBCYmJh2\n",
       "dnYiIiLu7u6qqqpmZmYyMjK6urpUVFSIiIjc3NwAAADOWS8BAAAAAXRSTlMAQObYZgAAAKBJREFU\n",
       "GNNjYIAAvv9gAOUx8GxgQAavUHgMM1B47AkoXNYGFG4ZqtYQDK21d15fvQDh8jowsAew5LItYGDY\n",
       "DeSyAQ0rYP3O/YCB1wrIvQtUz8CkAGQ9vw90HthWfrDOegUGFjBDXgBEcv5jYCtgYOAouM/AC6T5\n",
       "fjK4AkX3N+gzPAFJny9IB5I1d2unOID1RExAdhKXVQEyl+Mnqvv1EEwAjfgn8hdY1KsAAAAASUVO\n",
       "RK5CYII=\n",
       "\" style=\"display:inline;vertical-align:middle;\" /></a>"
      ],
      "text/plain": [
       "sqrt(x)"
      ]
     },
     "execution_count": 35,
     "metadata": {},
     "output_type": "execute_result"
    }
   ],
   "source": [
    "Exp(x, frac(one, two))"
   ]
  },
  {
   "cell_type": "code",
   "execution_count": 36,
   "metadata": {},
   "outputs": [
    {
     "data": {
      "text/html": [
       "<strong id=\"sqrt_test\">sqrt_test:</strong> <a class=\"ProveItLink\" href=\"../__pv_it/demonstrations/390307ad356987e409941797c66c89fca81d13720/expr.ipynb\"><img src=\"data:image/png;base64,iVBORw0KGgoAAAANSUhEUgAAAGAAAAAyBAMAAABR8MP3AAAAMFBMVEX///8QEBCYmJhUVFS6uroy\n",
       "MjLMzMxmZmaIiIiqqqpERETc3NwiIiLu7u52dnYAAACjzGUgAAAAAXRSTlMAQObYZgAAAmxJREFU\n",
       "SMdjYICB9/+JAnD1DAcYSAPcC0jUwNlAogb2BBI18JConuEqqRrmkarhCZhkUsCpgNcAlR8LJlux\n",
       "qt3+vPECA4MrqmAAiGCRxaaeRZohHkhxoFjBUgAiL2IN24sKDFUgOghZkGMCiDTG6qL6CwwnQPTG\n",
       "C0iCXCAO22+sGqQYeL+BaGYD9HhjNcAaPP8YOD+AGGx/kUSTQcT+DVg1/GRgDpgNYkUgiSqBiFLs\n",
       "MbCCQcfgAYihiCRoDSIksGu43JFt4QB2gQNq9uH+RiA1MD5AzT5MYK9xyuLUwBwAZzKBsg87yJrL\n",
       "j//izFIcH1CzDw84lzLh1sD5GzUa+AsIaGD7iZp9+BsIaOD9hJp97isQ0MDwA0Rsg2ef/QQ1/IPH\n",
       "Nzi88icgNPCFhsaIhoaiJa7vIHM+Y9WAZAM/oogEabh0EJ59CDqJF+SkCcDsAc0+9wmFEjc4lPQn\n",
       "QLMPAz84qXAQiof9D2DFHiPIi+yGX4twaWD5AjY3AJp9GLgCCBTPENdyAVNUE5jPJ4DqRXievyXD\n",
       "gKSA7xs0+zBw/sWVrsMhFCTPc36C1T5ISQUNQBMdJO3wfobXPotxqGeBWj0fUkjIQLIPWiZHBnzQ\n",
       "+g9aSNhfgNU+9ydg18Bq0Q6WkYRw+x1gtQ9HAHYN92N5QXmNAxqK+Q23YDJi2DXMvwDOCYzQyoN/\n",
       "Abz2UcWuoRSS7GCVB6vAE3iR3IAjGliAAcstDSsxfsOdznsMq4ZPDOzAgL0DCxKmTwi/7sFaHH8B\n",
       "1SkMi+Cp/E8BIsVjrYKMGJYDbUcUrP8nEChTr/ehVq7rL5BYRb8htU73I0UxAGBZx417ZoFCAAAA\n",
       "AElFTkSuQmCC\n",
       "\" style=\"display:inline;vertical-align:middle;\" /></a><br>"
      ],
      "text/plain": [
       "sqrt_test: sqrt((1 + (a / b)))"
      ]
     },
     "execution_count": 36,
     "metadata": {},
     "output_type": "execute_result"
    }
   ],
   "source": [
    "sqrt_test = sqrt(Add(one, frac(a, b)))"
   ]
  },
  {
   "cell_type": "code",
   "execution_count": 37,
   "metadata": {},
   "outputs": [
    {
     "name": "stdout",
     "output_type": "stream",
     "text": [
      "sqrt_test = sqrt((1 + (a / b)))\n"
     ]
    }
   ],
   "source": [
    "print(\"sqrt_test = {}\".format(sqrt_test))"
   ]
  },
  {
   "cell_type": "code",
   "execution_count": 38,
   "metadata": {},
   "outputs": [
    {
     "data": {
      "text/html": [
       "<a class=\"ProveItLink\" href=\"../__pv_it/demonstrations/390307ad356987e409941797c66c89fca81d13720/expr.ipynb\"><img src=\"data:image/png;base64,iVBORw0KGgoAAAANSUhEUgAAAGAAAAAyBAMAAABR8MP3AAAAMFBMVEX///8QEBCYmJhUVFS6uroy\n",
       "MjLMzMxmZmaIiIiqqqpERETc3NwiIiLu7u52dnYAAACjzGUgAAAAAXRSTlMAQObYZgAAAmxJREFU\n",
       "SMdjYICB9/+JAnD1DAcYSAPcC0jUwNlAogb2BBI18JConuEqqRrmkarhCZhkUsCpgNcAlR8LJlux\n",
       "qt3+vPECA4MrqmAAiGCRxaaeRZohHkhxoFjBUgAiL2IN24sKDFUgOghZkGMCiDTG6qL6CwwnQPTG\n",
       "C0iCXCAO22+sGqQYeL+BaGYD9HhjNcAaPP8YOD+AGGx/kUSTQcT+DVg1/GRgDpgNYkUgiSqBiFLs\n",
       "MbCCQcfgAYihiCRoDSIksGu43JFt4QB2gQNq9uH+RiA1MD5AzT5MYK9xyuLUwBwAZzKBsg87yJrL\n",
       "j//izFIcH1CzDw84lzLh1sD5GzUa+AsIaGD7iZp9+BsIaOD9hJp97isQ0MDwA0Rsg2ef/QQ1/IPH\n",
       "Nzi88icgNPCFhsaIhoaiJa7vIHM+Y9WAZAM/oogEabh0EJ59CDqJF+SkCcDsAc0+9wmFEjc4lPQn\n",
       "QLMPAz84qXAQiof9D2DFHiPIi+yGX4twaWD5AjY3AJp9GLgCCBTPENdyAVNUE5jPJ4DqRXievyXD\n",
       "gKSA7xs0+zBw/sWVrsMhFCTPc36C1T5ISQUNQBMdJO3wfobXPotxqGeBWj0fUkjIQLIPWiZHBnzQ\n",
       "+g9aSNhfgNU+9ydg18Bq0Q6WkYRw+x1gtQ9HAHYN92N5QXmNAxqK+Q23YDJi2DXMvwDOCYzQyoN/\n",
       "Abz2UcWuoRSS7GCVB6vAE3iR3IAjGliAAcstDSsxfsOdznsMq4ZPDOzAgL0DCxKmTwi/7sFaHH8B\n",
       "1SkMi+Cp/E8BIsVjrYKMGJYDbUcUrP8nEChTr/ehVq7rL5BYRb8htU73I0UxAGBZx417ZoFCAAAA\n",
       "AElFTkSuQmCC\n",
       "\" style=\"display:inline;vertical-align:middle;\" /></a>"
      ],
      "text/plain": [
       "sqrt((1 + (a / b)))"
      ]
     },
     "execution_count": 38,
     "metadata": {},
     "output_type": "execute_result"
    }
   ],
   "source": [
    "sqrt_test"
   ]
  },
  {
   "cell_type": "code",
   "execution_count": 39,
   "metadata": {},
   "outputs": [
    {
     "data": {
      "text/html": [
       "<a class=\"ProveItLink\" href=\"../__pv_it/demonstrations/8ef27cf0f843e15b31c926d37826d86a9b1950670/expr.ipynb\"><img src=\"data:image/png;base64,iVBORw0KGgoAAAANSUhEUgAAAIUAAAAyBAMAAACAOwXCAAAAMFBMVEX///+YmJiqqqqIiIgyMjLc\n",
       "3NwiIiIQEBC6urp2dnZUVFTMzMxERERmZmbu7u4AAADrYmUNAAAAAXRSTlMAQObYZgAAAtdJREFU\n",
       "SMetls9rE0EUx19+Z/NjElG8JuDBkySI4C+kHhaFQm0OoqBCiiCCKLYgFRVqbz2JOQjFg7jSIugl\n",
       "+x8koEd/FBRBpbonFVHXpFYS0MSdmd1NN8zbqWT38HaWnf3svHlvvu8B4JfS39T10wcBcRj9OhMA\n",
       "Y0cAjPcBMKZGR5DDozPCtdEZyjy7bcFnfJUyoga1EaFHsbev5gCSUm+jzC4YoncLlShNzwMyxi22\n",
       "sTeE2z0D2Sb9TV7C2E1NShO9yvYgXqYuzUkYL6hpVESvEk0wdTp4vJkUGxe+MmtQYoOG4YtIUy9i\n",
       "62JGEZbDdIXRsi8jRPcrK45ephy6oLBJ076MFP1PQvwfsnTw1D6WJx32uPpMxxWoqks27RrPV6WD\n",
       "K1CBDXfiO7dMzQeAq/YZ8657KzVv6Eof1Q1UlcaomQWoV0QMpkAX2bCAM0r020kD6rqIwdLjr4zR\n",
       "KPL7ZUPA4Aq0JmOY/MQku6L9YApEWjJGjn8U14YYMd1RoJicwcVulYmWqh65oqoMxxKYqUe6vYFx\n",
       "R1XPq+rQAcqtMKFagaF1lDQhY8M6BjWSM3ZBzBtbsn3aUSC5Lyb1JV2DiJcRthTGViAijUuVxuXE\n",
       "3XsPh3wJtR0FAh6yMUl+TPb7v4fj0nWL3HVq3t2cyGOM2/PemuTmxy9bgQCeyqp4wXscifv40ooW\n",
       "//Oi94sfzuDbrD1YxA70fZ0rkBVm7NRP2PdxjFHKOz2QiRWQtr32FsYwNacHymjiGcmevYfrGCMx\n",
       "xRUI11zF7k2yaMVN9ZweiLSRWrx0iAlHoogxIh23B9qDeHuMMC/24uVpjTQdt8TCbsWLHYMZXPH/\n",
       "uD1QSOzwayBdtDnh11HFTeEnSHok6U6drOCMj8fd4SehMy3aPgA561O9CtsGXdM50YQOfLayL+PX\n",
       "wlQvDcanRRMewHPLfvGrorm2pMx+3y/roiDTC6A1DaDNTv5Xi/wP/srVJTbl54IAAAAASUVORK5C\n",
       "YII=\n",
       "\" style=\"display:inline;vertical-align:middle;\" /></a>"
      ],
      "text/plain": [
       "2 + sqrt((1 + (a / b)))"
      ]
     },
     "execution_count": 39,
     "metadata": {},
     "output_type": "execute_result"
    }
   ],
   "source": [
    "Add(two, sqrt_test)"
   ]
  },
  {
   "cell_type": "markdown",
   "metadata": {},
   "source": [
    "Testing the Mult.exponent_combination() method (after eliminating Sqrt class)"
   ]
  },
  {
   "cell_type": "code",
   "execution_count": 40,
   "metadata": {},
   "outputs": [
    {
     "data": {
      "text/html": [
       "<strong id=\"mult_of_exps_test_01\">mult_of_exps_test_01:</strong> <a class=\"ProveItLink\" href=\"../__pv_it/demonstrations/1bb89c387a709463454642b2fc959a15fce78d5b0/expr.ipynb\"><img src=\"data:image/png;base64,iVBORw0KGgoAAAANSUhEUgAAADUAAAAUBAMAAADfOGjQAAAAMFBMVEX///9UVFSqqqrMzMwiIiJE\n",
       "RESYmJgyMjK6urru7u4QEBCIiIh2dnZmZmbc3NwAAABRgo0vAAAAAXRSTlMAQObYZgAAALBJREFU\n",
       "KM9jYACD9gIGnIDnAm45dgXccvwPcMvZ75ZEEzm9G8baMmEvqhRLgxWMGc2Qjip3lYEZxlzBcBFV\n",
       "bhGC+ROZAwL/EExPtgBUuQoGXhjT8AyaM99u2wkk+e7cXokijCTQ9YD9A4ocQoBzGQMv3K4JqAK8\n",
       "PxlYNkClOL+jCnAFMMw3gOlzRBWYf4BBH8U6JIH5CgziTMixgCTAuoHNkQdZH5IAp/TmhzuQ5RAC\n",
       "AA07M9ZaDmbDAAAAAElFTkSuQmCC\n",
       "\" style=\"display:inline;vertical-align:middle;\" /></a><br>"
      ],
      "text/plain": [
       "mult_of_exps_test_01: a^{b} * a^{c}"
      ]
     },
     "execution_count": 40,
     "metadata": {},
     "output_type": "execute_result"
    }
   ],
   "source": [
    "mult_of_exps_test_01 = Mult(Exp(a, b), Exp(a, c))"
   ]
  },
  {
   "cell_type": "code",
   "execution_count": 41,
   "metadata": {},
   "outputs": [
    {
     "data": {
      "text/html": [
       "<strong id=\"mult_of_exps_test_02\">mult_of_exps_test_02:</strong> <a class=\"ProveItLink\" href=\"../__pv_it/demonstrations/7de6b8002033ce26acc6cba484d5e305c8d4dfaa0/expr.ipynb\"><img src=\"data:image/png;base64,iVBORw0KGgoAAAANSUhEUgAAAEUAAAAVBAMAAADiLT7tAAAAMFBMVEX////MzMxEREQQEBCYmJh2\n",
       "dnYiIiLu7u6qqqpmZmYyMjK6urpUVFSIiIjc3NwAAADOWS8BAAAAAXRSTlMAQObYZgAAAOdJREFU\n",
       "KM9jYIAAvv8g8IEBBaAJ8mxgwARogq+wKEEXnIFNDaogewIWJWiCrA1Y1KAJljEwVE5SRFODJhjC\n",
       "wH6AIR7Nb6iCQJs5CxiYDdCdgyzI68DAnMDA8w9FDZLgbiBmY2Dg+s7A8xEujyrIawXk3gVLsH2H\n",
       "G4Eq+Pw+0FGQgNgfAFODLlivwMByAczNAbsUzEQT5PzHwFYAZkwAyy7AIsj3k8EVrOMmxP4DWAQZ\n",
       "zhekgyiOCQzvEB5HE5SPAJsnysBwD6EGTZDLCmQzX2roHKR4RhPk+AkWBKZKJDXognrY0heSIACT\n",
       "EFeLPnWaxAAAAABJRU5ErkJggg==\n",
       "\" style=\"display:inline;vertical-align:middle;\" /></a><br>"
      ],
      "text/plain": [
       "mult_of_exps_test_02: sqrt(2) * sqrt(2)"
      ]
     },
     "execution_count": 41,
     "metadata": {},
     "output_type": "execute_result"
    }
   ],
   "source": [
    "mult_of_exps_test_02 = Mult(sqrt(two), sqrt(two))"
   ]
  },
  {
   "cell_type": "code",
   "execution_count": 42,
   "metadata": {},
   "outputs": [
    {
     "data": {
      "text/html": [
       "<strong id=\"mult_of_exps_test_03\">mult_of_exps_test_03:</strong> <a class=\"ProveItLink\" href=\"../__pv_it/demonstrations/22d8f9b7570acd2c895f8f4f1d70a2efa8de1f860/expr.ipynb\"><img src=\"data:image/png;base64,iVBORw0KGgoAAAANSUhEUgAAAD0AAAAVBAMAAAAHs/uBAAAAMFBMVEX///+YmJiqqqqIiIgyMjLc\n",
       "3NwiIiIQEBC6urp2dnZUVFTMzMxERERmZmbu7u4AAADrYmUNAAAAAXRSTlMAQObYZgAAAS5JREFU\n",
       "KM9jYACBFgcGdMD6HwQ+QDicFzDkuRqQOCwKGPIhyBz+AAz5S8ic/cbr0KT5EpB5Zg9s0eQ5YTby\n",
       "3T2zgeEwgwia/DMGhrd3TgMZrxg4fzBUMNxCk5/IwLeAYT7QD/cYGMoZ/jEUYVjP+4CBvYCBoYyB\n",
       "YX1AHuMBVHlmAQb2BAaurwwM/g8Y1m/YNRNJrgOI2YBh8o+B6zdYIP8BitYSIGEMZrL9A5EcP1GM\n",
       "jrMHugri+/4JYFULYFIQc94fYGA0ALOywORduKO/gCnerwxsYJW84FhjRsQdRD3rXwZJMAMSproM\n",
       "rGixs/5BHohiusAQysDAPYGBGU1+/ySwkTsZGEwZGMJmzl2GFrYsJSDrWTNn3gJ6w////29o8kx/\n",
       "waqAySuBASs4imACAPsrUEF72Hu6AAAAAElFTkSuQmCC\n",
       "\" style=\"display:inline;vertical-align:middle;\" /></a><br>"
      ],
      "text/plain": [
       "mult_of_exps_test_03: 2^{b} * sqrt(2)"
      ]
     },
     "execution_count": 42,
     "metadata": {},
     "output_type": "execute_result"
    }
   ],
   "source": [
    "mult_of_exps_test_03 = Mult(Exp(two, b), sqrt(two))"
   ]
  },
  {
   "cell_type": "code",
   "execution_count": 43,
   "metadata": {},
   "outputs": [
    {
     "data": {
      "text/html": [
       "<span style=\"font-size:20px;\"><a class=\"ProveItLink\" href=\"../__pv_it/theorems/27ae321bbbcf91673b839d119d0d2259983cf9420/expr.ipynb\"><img src=\"data:image/png;base64,iVBORw0KGgoAAAANSUhEUgAAAD8AAAAUBAMAAADIGvgZAAAAMFBMVEX///9UVFSqqqrMzMwiIiJE\n",
       "RESYmJgyMjK6urru7u4QEBCIiIh2dnZmZmbc3NwAAABRgo0vAAAAAXRSTlMAQObYZgAAANtJREFU\n",
       "KM9jYKAEMBJSwEorBSlL48uXJuAzoWAig2nqBAbx8qry8gRsCgLeMLDyCWAxIdXFpQCqgPdBAaYC\n",
       "050IE3gfBMAV8N25vRJEc1YiWcHIgbCi6wH7B3CwPUBSoHJ9AkwB5zIG3gBUPwW8cnFXABsOInh/\n",
       "MrBsADGsyoEA6she1glw5VwBDPMNQIynSN7kbQ6A8+YfYNCHqEQOh8hshAIFBnEmkPt4NyApMOQ1\n",
       "gEfIBjZHHjDLCSmoeRSEYTxO6c0Pd4BZEyMmwCKrmCG0XgEzDnpCIEGNAgDkIjr3QDmHMAAAAABJ\n",
       "RU5ErkJggg==\n",
       "\" style=\"display:inline;vertical-align:middle;\" /></a>, <a class=\"ProveItLink\" href=\"../__pv_it/theorems/fe4de3ff0419f38c3d25379035ba812df4fead870/expr.ipynb\"><img src=\"data:image/png;base64,iVBORw0KGgoAAAANSUhEUgAAADEAAAAPBAMAAAC/wjryAAAAMFBMVEX////MzMyYmJjc3NyIiIhU\n",
       "VFR2dna6urqqqqpmZmYyMjIiIiIQEBBERETu7u4AAACIO4EmAAAAAXRSTlMAQObYZgAAANhJREFU\n",
       "GNNj4LuzgQENsKxef/omkOaagCbBKN/AN18TyOBvQJNRCGFgYPoJZNQ/gIro7t69AEgxCZwDkpFA\n",
       "nA2VkPWD0JzMF4DkEyBe6jIDJMC3DqriKSPUYr5fD94bAGlWA6iMGbsDhMHxj4EfxOSFOcASJsO5\n",
       "gOF9ApCWWQUEIBe8ZUyAyAC9Uw9yty1MD9eDAAiDX4FhPsjdPDAZpgkgGT6gTAHfIbCpDjCpKyVA\n",
       "ogroJgVeiCt3wGQ41+bx9d4DapuSBPXHdVhgSK75PRElvMpug0MHBgCFGjXcupX6XQAAAABJRU5E\n",
       "rkJggg==\n",
       "\" style=\"display:inline;vertical-align:middle;\" /></a>, <a class=\"ProveItLink\" href=\"../__pv_it/theorems/b1103b770cadeb5e841bbce4a7abd8d948b044c00/expr.ipynb\"><img src=\"data:image/png;base64,iVBORw0KGgoAAAANSUhEUgAAADEAAAAPBAMAAAC/wjryAAAAMFBMVEX///+6urqYmJgQEBDu7u5m\n",
       "ZmZUVFQyMjJERESqqqoiIiLc3NzMzMyIiIh2dnYAAABqS+z4AAAAAXRSTlMAQObYZgAAAMJJREFU\n",
       "GNNjYMAEvFX1Vq1YxBl4zk9giVfFJqOQy8DA9BVZRGPVqgIgxXTABEimIkmcuAKhWbkbgKQviPn2\n",
       "7gEgyVICVeHGEwBl7ZrAATKEbQOUv4/xApS1joFtApDigJm6FSbD+gVCHy4HApBmD54HEBHmBgi9\n",
       "A6aH3SEBwvCHqYDJMAWAZFgYGPgVGBhA9rDC7GXolQUS4kCRBAZXkKsZVsJkWCuesMxoATLeKUFU\n",
       "uzU6QKWOFv+KQQkvuS5w6MAAABN0LKDXhSVsAAAAAElFTkSuQmCC\n",
       "\" style=\"display:inline;vertical-align:middle;\" /></a> <a class=\"ProveItLink\" href=\"../__pv_it/demonstrations/ce159017fd07093030203cbb6ccd9f5248d159440/proof.ipynb\" style=\"text-decoration: none\">&nbsp;&#x22A2;&nbsp;&nbsp;</a><a class=\"ProveItLink\" href=\"../__pv_it/theorems/bca02f52e22acbf1a05b8533da8373e4664462950/expr.ipynb\"><img src=\"data:image/png;base64,iVBORw0KGgoAAAANSUhEUgAAAIgAAAAcBAMAAABIY+o0AAAAMFBMVEX///8iIiJERESYmJiqqqoQ\n",
       "EBB2dnbc3NyIiIhmZmbu7u4yMjJUVFS6urrMzMwAAADZVrDbAAAAAXRSTlMAQObYZgAAAfhJREFU\n",
       "OMtjYICB2xsYiAe8u7GLs00gwRCGTDT+WwjF7YBFLQcuQ7aACB44l+8AhOYvwObsAzgM+Q4imOBc\n",
       "7gUQ+n3HKXQPdjQwJGM3g+9HzwKoISBVDDOg4o0LOtFUyvIFMDAuwGoIhxTHBKghIFXsv6DiGgzW\n",
       "qAo5FRgeMHBgD26mBuYNEEPAquCREsswB1UhKyik2T9gNYT1AueB07u37t5tAFbFCouUXwwhqAoh\n",
       "IS2C1RD+BSB9TDBV9TBPSzEroCrkvsAAdOUkrIYwLjCCxg5YlSlM/E0amkL2GRZAC1qxx86xBKgh\n",
       "YFWzQYxpM6JQFVVmtkJdeB8jehBy8HSiBMRXC7hRw483nGE/lPn+AYjM3g0CO9Hk4IbsYWDgCgZF\n",
       "FBSALVlqAA+L+gtoDkGSY4eJSQKj+hcDYwOUy/UbRM5fwCABFViPbgiSHBwAnciqwLD+AYwvAyKC\n",
       "GLj+4XIJkhwc6AAtS2DwRxHj+sbAAguk9wWIMNmDJgcHh4CGODCcZkHOw1xfGHg2uGOPHWQ5OGgF\n",
       "ZwQZNhRBDQbDAwkQpim6rUhycAC0ietEX00viuCajucnoGGBkWKR5JCyEv5ycAcxhSVnAl5prl/E\n",
       "GAIsUvAB5gNEldtH8MoyPiDKkNV4Zc2Iq0FY8NU37ApE1kO++IJ9AQO9AABse4TFa8EblQAAAABJ\n",
       "RU5ErkJggg==\n",
       "\" style=\"display:inline;vertical-align:middle;\" /></a></span>"
      ],
      "text/plain": [
       "{a in RealPos, b in Complex, c in Complex} |- (a^{b} * a^{c}) = a^{b + c}"
      ]
     },
     "execution_count": 43,
     "metadata": {},
     "output_type": "execute_result"
    }
   ],
   "source": [
    "mult_of_exps_test_01.exponent_combination(assumptions=[InSet(a, RealPos), InSet(b, Complex), InSet(c, Complex), NotEquals(a, zero)])"
   ]
  },
  {
   "cell_type": "code",
   "execution_count": 44,
   "metadata": {},
   "outputs": [
    {
     "data": {
      "text/html": [
       "<table><tr><th>&nbsp;</th><th>core type</th><th>sub-expressions</th><th>expression</th></tr>\n",
       "<tr><td>0</td><td>Operation</td><td>operator:&nbsp;1<br>operands:&nbsp;2<br></td><td><a class=\"ProveItLink\" href=\"../__pv_it/demonstrations/7de6b8002033ce26acc6cba484d5e305c8d4dfaa0/expr.ipynb\"><img src=\"data:image/png;base64,iVBORw0KGgoAAAANSUhEUgAAAEUAAAAVBAMAAADiLT7tAAAAMFBMVEX////MzMxEREQQEBCYmJh2\n",
       "dnYiIiLu7u6qqqpmZmYyMjK6urpUVFSIiIjc3NwAAADOWS8BAAAAAXRSTlMAQObYZgAAAOdJREFU\n",
       "KM9jYIAAvv8g8IEBBaAJ8mxgwARogq+wKEEXnIFNDaogewIWJWiCrA1Y1KAJljEwVE5SRFODJhjC\n",
       "wH6AIR7Nb6iCQJs5CxiYDdCdgyzI68DAnMDA8w9FDZLgbiBmY2Dg+s7A8xEujyrIawXk3gVLsH2H\n",
       "G4Eq+Pw+0FGQgNgfAFODLlivwMByAczNAbsUzEQT5PzHwFYAZkwAyy7AIsj3k8EVrOMmxP4DWAQZ\n",
       "zhekgyiOCQzvEB5HE5SPAJsnysBwD6EGTZDLCmQzX2roHKR4RhPk+AkWBKZKJDXognrY0heSIACT\n",
       "EFeLPnWaxAAAAABJRU5ErkJggg==\n",
       "\" style=\"display:inline;vertical-align:middle;\" /></a></td></tr>\n",
       "<tr><td>1</td><td>Literal</td><td></td><td><a class=\"ProveItLink\" href=\"../../multiplication/__pv_it/common/c57d60974865e78d434abd3ff22c405685c80ade0/expr.ipynb\"><img src=\"data:image/png;base64,iVBORw0KGgoAAAANSUhEUgAAAAMAAAADBAMAAACkBqiMAAAAElBMVEX///9UVFQiIiIyMjLu7u4A\n",
       "AACDZsVeAAAAAXRSTlMAQObYZgAAABFJREFUCNdjYGFgcDVgYBIAAAJWAIzwV2E9AAAAAElFTkSu\n",
       "QmCC\n",
       "\" style=\"display:inline;vertical-align:middle;\" /></a></td></tr>\n",
       "<tr><td>2</td><td>ExprTuple</td><td>3, 3</td><td><a class=\"ProveItLink\" href=\"../__pv_it/demonstrations/4726c8237d577845eb589de92a674976bbb59d190/expr.ipynb\"><img src=\"data:image/png;base64,iVBORw0KGgoAAAANSUhEUgAAAFMAAAAmBAMAAABKc7pBAAAAMFBMVEX///92dnaqqqpEREQiIiJm\n",
       "Zmbc3NxUVFTMzMzu7u4QEBC6uroyMjKIiIiYmJgAAABs22DkAAAAAXRSTlMAQObYZgAAAkBJREFU\n",
       "OMuNVUFrE1EQ/pJsNtk0u9kWvHjQXHrw1IKgPaZe1JNBKSII7qEIipIeBA8K0V+QPSiCRbaCB5Uq\n",
       "uXtob6KX5qJCUROvotiiLYaA8c3M23VlA7uP7Lxh9uObb2be2wCAM0DKehA6H9OQmNrU+7NUKD7I\n",
       "9vBOOrQqGm9GAbM/phXHXOfIjsmZy/tRvNRN0N3SO/NVV6L4tQTS1PWg4yvT8qIXZxPQYj0U21Pm\n",
       "YhS3GgnovdBx1pR5EcVz9QR0JlIyUs/vOIW1dDTeOspz/9wCuY8V80704hBNMDeKQXMDWCs4TI25\n",
       "rYQ34hQXgOf/Sy36qJDOPmDMh3FbTeQJ0P7XEXwGKg2UqPNzHmpNir1Sj6GeLR9tETtFWVWe6hAl\n",
       "KqdTR40aZq8r80mYzvi8bavm2z12jaEywYB+wJV+lymIbVea82gkedTacJVRlC0+M8E8HE2h52z9\n",
       "BL6Le5JMzSUNNMB9GJJ4KSzpkofTMlyuRtUkUHMPX6QNzRDaajouO++goSIAbV8oZmHqZpWGkiff\n",
       "xGWS6CIQiZ0Zpiu7sDW0vDvL+13gPSUZkFw+ZOtMsTx94AYCOaRv37C0xenzDelrRSrO7/G2NR7/\n",
       "giFa5jhPVd0Xgm50UdDn/Fhs9EfYFrz4cfzhI7eWvJ/uhDt7UGUeJqJWbwL0tYr/SUSdCUiGHUeW\n",
       "laeD+DUTtEjVB/Us0Aqh7M0s0G22T7NAX7L9lgGpUxd66dCrMjnrVCrSOqGdZS8NWgj/LczUz/Yq\n",
       "mb8ax44WxC9v9AAAAABJRU5ErkJggg==\n",
       "\" style=\"display:inline;vertical-align:middle;\" /></a></td></tr>\n",
       "<tr><td>3</td><td>Operation</td><td>operator:&nbsp;4<br>operands:&nbsp;5<br></td><td><a class=\"ProveItLink\" href=\"../__pv_it/demonstrations/cf011d846e763260e322f5570a766983b04650c20/expr.ipynb\"><img src=\"data:image/png;base64,iVBORw0KGgoAAAANSUhEUgAAABsAAAAVBAMAAABF8IgWAAAAMFBMVEX////MzMxEREQQEBCYmJh2\n",
       "dnYiIiLu7u6qqqpmZmYyMjK6urpUVFSIiIjc3NwAAADOWS8BAAAAAXRSTlMAQObYZgAAAK9JREFU\n",
       "GNNjYIAAvv8g8AHKY+DZwIAMXqHwGGag8NgTULisDSjcMgaGykmKcG4IA/sBhvgNCK2cBQzMBlAu\n",
       "rwMDcwIDzz8gczcQszEwcH1n4PkIlLACcu+C1bB9Z2B4fh9oAMTW/QFAol6BgeUCmJsDIjj/MbAV\n",
       "gBkTwF77yeAKlrwJseV8QTqI4pjA8A5Ey0eAVYkyMNwD0VxWIK18qaFzwBZw/AQLAsMGYp8ewmcA\n",
       "dDkq0OELPnAAAAAASUVORK5CYII=\n",
       "\" style=\"display:inline;vertical-align:middle;\" /></a></td></tr>\n",
       "<tr><td>4</td><td>Literal</td><td></td><td><a class=\"ProveItLink\" href=\"../__pv_it/common/31d1b89e3c2fad7d997556c69b6be6425b6f59a40/expr.ipynb\"><img src=\"data:image/png;base64,iVBORw0KGgoAAAANSUhEUgAAACgAAAASBAMAAADbMYGVAAAAMFBMVEX///+qqqoQEBDc3NzMzMx2\n",
       "dnbu7u66urqYmJgyMjIiIiJUVFRmZmZERESIiIgAAADRBAegAAAAAXRSTlMAQObYZgAAAONJREFU\n",
       "GNNjYGB4+//O6V0/GdAASKAXTYz9H5DIQRNk/QIk8tAEOT8wsDIwownyX2DoAFJs7zbXxTGUXvZ7\n",
       "nQDk1c/Z9BlIpTJ0PVjJELBLgPUCkBfvwDABSIUxxCcUMwvMZuD4AOTNZ2AIYHBgSGC4CzSD4SMD\n",
       "6zeg4F8GhgS2B0AGyGns3xh4FaDOZAUazgJyGusChvwDUGd6MzCI8X1geMbAeYChCaiAC2guuwoD\n",
       "+0feD8wNQPexqDAwZM//fWbv+gkMbPuevQE6t77ujQF62DBEMWABc7CIsX3EIij1E+RgAJoNQWX9\n",
       "dNDfAAAAAElFTkSuQmCC\n",
       "\" style=\"display:inline;vertical-align:middle;\" /></a></td></tr>\n",
       "<tr><td>5</td><td>ExprTuple</td><td>10, 6</td><td><a class=\"ProveItLink\" href=\"../__pv_it/demonstrations/03ab4545290a7b50f2ac4c0e29f7eb7213b24d7c0/expr.ipynb\"><img src=\"data:image/png;base64,iVBORw0KGgoAAAANSUhEUgAAADkAAAAyBAMAAAAU8W51AAAAMFBMVEX///8yMjLMzMzc3NyYmJgi\n",
       "IiJmZmZERETu7u4QEBCqqqpUVFSIiIi6urp2dnYAAABBmyukAAAAAXRSTlMAQObYZgAAAcNJREFU\n",
       "OMt9lL1OwlAUx/9Q2gIW4Q3gDWBx18kRJuMmgyE6wWJcuztATIwao3HR6ASLg4lJfQN4A5lcTEAD\n",
       "JsSoeD96Kfej3uHm9P56z0f/pwcga3UAdR1F5kiDyBWE5fV0ig1h3Mvn2TO6u0P+lL6UI77Nlk/d\n",
       "unw3NVv22PWN1Oaut2Ck2Ql7mJgpv2W3YmiVRiwPYmj7mWz7iKEJ+rku4qhHEkpO46g15W/Iywsp\n",
       "9ep2FOg8fuxy6wDIsILSjcOSJtOY5F3nYq/+aLRaQplWhT3gXKMEda+pcQIEFZUSt1UWr+gj0ALn\n",
       "e+iLKzu+RlsYh4e5Xy1upoBmSG299TI1BKHZEO7mdPELHUG9ut60hIaeb2FpFdk1jNlhcgivYsiq\n",
       "z8pcG70+oF1QaA9V1jjF+fwT9rZSbx3dpba6k+VqD1Fej+hQlouokI9KSStyEYHsKJUUZLlIOc67\n",
       "UkckVxB14PIK5Tol3+FLnwpcLuvb1O1CLtbLTY2Gcrk1sr2of5mQK08LtFXthFx9H3rSC7l4Qlcy\n",
       "ZXItJoM6VZhc9PflEROGpqETiV+yjk1wMeNuTHRFeHRMU3RzYT39N4HhGKY3y+kPmhWFa9OhUqMA\n",
       "AAAASUVORK5CYII=\n",
       "\" style=\"display:inline;vertical-align:middle;\" /></a></td></tr>\n",
       "<tr><td>6</td><td>Operation</td><td>operator:&nbsp;7<br>operands:&nbsp;8<br></td><td><a class=\"ProveItLink\" href=\"../__pv_it/theorems/aa547f88216e68e08c946bb8fdc4d68b926388850/expr.ipynb\"><img src=\"data:image/png;base64,iVBORw0KGgoAAAANSUhEUgAAAAsAAAAqBAMAAACXcryGAAAAMFBMVEX////c3NwiIiK6urrMzMxE\n",
       "REQyMjJmZmaIiIiYmJh2dnZUVFTu7u4QEBCqqqoAAACmrgyzAAAAAXRSTlMAQObYZgAAAHFJREFU\n",
       "GNNjYICBtweABM+u/QfAvPmUUf1gqvp++gQGssF/EPhAlNLjpSEgx29gWG/AwMB+gIH3AgMDrwID\n",
       "90cGBrY/DNxfwIqY/oAp+wVgShtMsheAqXYwyVfAIAikvBgYGhkYGLVWVSsAtQPdoMAAAEEeKsEV\n",
       "wCj1AAAAAElFTkSuQmCC\n",
       "\" style=\"display:inline;vertical-align:middle;\" /></a></td></tr>\n",
       "<tr><td>7</td><td>Literal</td><td></td><td><a class=\"ProveItLink\" href=\"../../division/__pv_it/common/9ecc1ae47b83f7ed759e5ea63a2023a8f2ab04800/expr.ipynb\"><img src=\"data:image/png;base64,iVBORw0KGgoAAAANSUhEUgAAAA4AAAAMBAMAAACgrpHpAAAAIVBMVEX///9UVFRmZmbu7u4iIiIy\n",
       "MjK6urrc3NyYmJiqqqoAAACDToSlAAAAAXRSTlMAQObYZgAAACJJREFUCNdjYGBgmMEABuyrEiCM\n",
       "EAMG3EA1FAQCsUlhMwcALk0GeoeEfOIAAAAASUVORK5CYII=\n",
       "\" style=\"display:inline;vertical-align:middle;\" /></a></td></tr>\n",
       "<tr><td>8</td><td>ExprTuple</td><td>9, 10</td><td><a class=\"ProveItLink\" href=\"../../numerals/decimals/__pv_it/theorems/b6dda0abe24a4592fb130c02ca5a89c1328050430/expr.ipynb\"><img src=\"data:image/png;base64,iVBORw0KGgoAAAANSUhEUgAAACkAAAAUBAMAAADiqgm2AAAAMFBMVEX////MzMxUVFR2dna6uroQ\n",
       "EBCqqqqIiIgiIiJmZmYyMjJERETu7u6YmJjc3NwAAACgK8IjAAAAAXRSTlMAQObYZgAAAOhJREFU\n",
       "GNNjYOC7wIAK8kDEaSQBnpm7BRiYHgBZ64A49QBE9BAD8xcGngUMDLwTGHiU9aGicxgYQhkYzBkY\n",
       "OEDq70NFIxgY9B8wHGVgeMGAJLr+AIO+AAOXA0MlsigQ9B9gYJ7AsBdVlOUz0KoFDG2oohwKDAxs\n",
       "DQwhqKIzgZjxA5oo+wSIKKoJmQx8DxhYGlBtYzRgYH8Ass0SxKs/wMDzC0i/MLbUYGDgNGDwAHIm\n",
       "xa+8wNABVL/+//8fDAxcAhAfgwAb3B0nwKEDAcxw7wFDh2EflH0cHsgLkEIdHiXcIDMxYugeAwMA\n",
       "1XBESVcHc78AAAAASUVORK5CYII=\n",
       "\" style=\"display:inline;vertical-align:middle;\" /></a></td></tr>\n",
       "<tr><td>9</td><td>Literal</td><td></td><td><a class=\"ProveItLink\" href=\"../../numerals/__pv_it/common/d278e359da0695d9652dd541d45264f93703e2e40/expr.ipynb\"><img src=\"data:image/png;base64,iVBORw0KGgoAAAANSUhEUgAAAAgAAAAPBAMAAAArJJMAAAAAIVBMVEX///8yMjJmZmaIiIiYmJh2\n",
       "dnZUVFTu7u4QEBCqqqoAAAADAhFxAAAAAXRSTlMAQObYZgAAACBJREFUCNdjYAADznYGhrKw5UAW\n",
       "CykEM5BgylioAjYDAHBOCeDSSky9AAAAAElFTkSuQmCC\n",
       "\" style=\"display:inline;vertical-align:middle;\" /></a></td></tr>\n",
       "<tr><td>10</td><td>Literal</td><td></td><td><a class=\"ProveItLink\" href=\"../../numerals/__pv_it/common/3829356ce3fdf8f35810c63c00bc1a19e838663e0/expr.ipynb\"><img src=\"data:image/png;base64,iVBORw0KGgoAAAANSUhEUgAAAAkAAAAOBAMAAAAPuiubAAAALVBMVEX///+qqqqIiIgyMjLc3Nwi\n",
       "IiIQEBC6urp2dnZUVFTMzMxERERmZmbu7u4AAAAQI6y7AAAAAXRSTlMAQObYZgAAAFJJREFUCNdj\n",
       "4D2zewEDw00GjucMDGcZGNIYGFIZGOY5MNhdYJgHlGBgiLsAJNhfgJisE0DkGRDBdABEyjCwODBw\n",
       "NTAwOTC4dvRMZWCwe/fuKQMANh0TGKpG4roAAAAASUVORK5CYII=\n",
       "\" style=\"display:inline;vertical-align:middle;\" /></a></td></tr>\n",
       "</table>\n"
      ],
      "text/plain": [
       "0. sqrt(2) * sqrt(2)\n",
       "   core type: Operation\n",
       "   operator: 1\n",
       "   operands: 2\n",
       "1. *\n",
       "   core type: Literal\n",
       "   sub-expressions: \n",
       "2. (sqrt(2), sqrt(2))\n",
       "   core type: ExprTuple\n",
       "   sub-expressions: 3, 3\n",
       "3. sqrt(2)\n",
       "   core type: Operation\n",
       "   operator: 4\n",
       "   operands: 5\n",
       "4. Exp\n",
       "   core type: Literal\n",
       "   sub-expressions: \n",
       "5. (2, 1 / 2)\n",
       "   core type: ExprTuple\n",
       "   sub-expressions: 10, 6\n",
       "6. 1 / 2\n",
       "   core type: Operation\n",
       "   operator: 7\n",
       "   operands: 8\n",
       "7. /\n",
       "   core type: Literal\n",
       "   sub-expressions: \n",
       "8. (1, 2)\n",
       "   core type: ExprTuple\n",
       "   sub-expressions: 9, 10\n",
       "9. 1\n",
       "   core type: Literal\n",
       "   sub-expressions: \n",
       "10. 2\n",
       "    core type: Literal\n",
       "    sub-expressions: "
      ]
     },
     "execution_count": 44,
     "metadata": {},
     "output_type": "execute_result"
    }
   ],
   "source": [
    "mult_of_exps_test_02.expr_info()"
   ]
  },
  {
   "cell_type": "code",
   "execution_count": 45,
   "metadata": {},
   "outputs": [
    {
     "data": {
      "text/html": [
       "<span style=\"font-size:20px;\"> <a class=\"ProveItLink\" href=\"../__pv_it/demonstrations/f99de39aa449f3a8d8266a9cff5b7ba77adf9a6d0/proof.ipynb\" style=\"text-decoration: none\">&nbsp;&#x22A2;&nbsp;&nbsp;</a><a class=\"ProveItLink\" href=\"../__pv_it/demonstrations/81e0f60f463e47b782ca6dba45c65e51584f4f3b0/expr.ipynb\"><img src=\"data:image/png;base64,iVBORw0KGgoAAAANSUhEUgAAAKYAAAAmBAMAAAC8Fv2cAAAAMFBMVEX///92dnaqqqpEREQiIiJm\n",
       "Zmbc3NxUVFTMzMzu7u4QEBC6uroyMjKIiIiYmJgAAABs22DkAAAAAXRSTlMAQObYZgAAAsZJREFU\n",
       "SMetVs1rE0EUf/na7KabL8VLL+Zgzy0I6nH1op66KEUKgnsoHgRJDkIRhRrwWrqCpfhFKnhQUel/\n",
       "0J4UJdheVChicxbFFLUYFON87M5MZjf1LfQdNpPf781v3rx5b3YBAEod+L8tQSL7iHEaWUsiOfIE\n",
       "5fZhOHVVGed9+rx7A6VpD81QUwnKHGWasxKp96lpUy4zsGsM385pZZylmuaOBK7FzQjBWbym3RD/\n",
       "jbhzEOCCv7tmQ2rWPcHlajETBGhv7K45ITXPS+523AQBlpbRms8lty9uggCN30Mk53/WhKa5dYZ4\n",
       "/hKc5YA1dVirLALC4tljdPgwohYQoMTJdtQVw1SHdGBKi4aAVgMOrpDhdV2SE2Vaafl2+1n7LQCr\n",
       "xZyjZm4a4GkknTkfCjSXW5Hj40Rzvyf3Xj1CcipD/gTwCGDOG5hHwIIDeVrE456mGRATpiM0M3AT\n",
       "oOyynqd7I8y6D3MioSFo9yBPs76gl1pArFldoWlDi2iyqtskhV3k9TcpSlsBsz3yaMV0PCPSjnJG\n",
       "hwJH4wE5mSwPblvUjgRhtQLh8qk2M1ch7st8gvWStBFb3PoO8JUvzFrMHwThJH2UK9E4KWHxu45n\n",
       "e8kXSbrgBd0wxdT+DII5FlXZjTYuhRbvyMWs6VtCs+6WGFF0ZVwChHcwRJMRk31Zj9n+j3DvkO+x\n",
       "RoUxMGTFhGDahYv0jCpKPhsKoVuLH6y5PcZ+KlCUmgEITYD3IJZXb3hO6BYm/s1r+pypHriikBw0\n",
       "jlfPOXH1GRK6FYIreZwla71P8yGMgzbpYTp1dUWv+YDQLRNc4xkvjhwAv/nIN3FqGf3SHsU6pnto\n",
       "zVdYR+vv3nvCUfSOdtCan7GOOfwXU6uGdCzU0JpF7PKbCb7rHiP9XiTQ/LLH+2HNsoFyu+Ql0LRO\n",
       "obxOJPr2nsFEkOkk0jQwH8r38Hr/APE8zqpvVNANAAAAAElFTkSuQmCC\n",
       "\" style=\"display:inline;vertical-align:middle;\" /></a></span>"
      ],
      "text/plain": [
       "|- (sqrt(2) * sqrt(2)) = 2^{(1 / 2) + (1 / 2)}"
      ]
     },
     "execution_count": 45,
     "metadata": {},
     "output_type": "execute_result"
    }
   ],
   "source": [
    "mult_of_exps_test_02.exponent_combination()"
   ]
  },
  {
   "cell_type": "code",
   "execution_count": 46,
   "metadata": {},
   "outputs": [
    {
     "data": {
      "text/html": [
       "<span style=\"font-size:20px;\"><a class=\"ProveItLink\" href=\"../__pv_it/theorems/fe4de3ff0419f38c3d25379035ba812df4fead870/expr.ipynb\"><img src=\"data:image/png;base64,iVBORw0KGgoAAAANSUhEUgAAADEAAAAPBAMAAAC/wjryAAAAMFBMVEX////MzMyYmJjc3NyIiIhU\n",
       "VFR2dna6urqqqqpmZmYyMjIiIiIQEBBERETu7u4AAACIO4EmAAAAAXRSTlMAQObYZgAAANhJREFU\n",
       "GNNj4LuzgQENsKxef/omkOaagCbBKN/AN18TyOBvQJNRCGFgYPoJZNQ/gIro7t69AEgxCZwDkpFA\n",
       "nA2VkPWD0JzMF4DkEyBe6jIDJMC3DqriKSPUYr5fD94bAGlWA6iMGbsDhMHxj4EfxOSFOcASJsO5\n",
       "gOF9ApCWWQUEIBe8ZUyAyAC9Uw9yty1MD9eDAAiDX4FhPsjdPDAZpgkgGT6gTAHfIbCpDjCpKyVA\n",
       "ogroJgVeiCt3wGQ41+bx9d4DapuSBPXHdVhgSK75PRElvMpug0MHBgCFGjXcupX6XQAAAABJRU5E\n",
       "rkJggg==\n",
       "\" style=\"display:inline;vertical-align:middle;\" /></a>, <a class=\"ProveItLink\" href=\"../__pv_it/demonstrations/2fb9e8ef02d754393a5ff1c077d50736436cda680/expr.ipynb\"><img src=\"data:image/png;base64,iVBORw0KGgoAAAANSUhEUgAAADYAAAAqBAMAAAAKf7UOAAAAMFBMVEX////c3NwiIiK6urrMzMxE\n",
       "REQyMjJmZmaIiIiYmJh2dnZUVFTu7u4QEBCqqqoAAACmrgyzAAAAAXRSTlMAQObYZgAAAP1JREFU\n",
       "OMtjYMAL3h7AJcOza/8B3Prmj2C5ftxy1ffTJzCQAtrU/qoWYJdy+cdw/Cd2OU7uBqATUeWmKikl\n",
       "gOgpvEDncaPIufZAGQWioIhtQI7lHBhjgzu6LdwCUAbjAgt0OVYYg7EAKvcfBD6AWL5pQAByC0+A\n",
       "F7o+UTgrhxtdjhfOmg6WQw5mdrijWZuBTOYEZI16cFZZ1IFzoSjRczoYxmUpu6/uAKSPl4bAJK2C\n",
       "lFAM4tnAsN4AR0yxH2DgvYBDjleBgfsjDjm2PwzcX3AnAKY/uOXsF+CW08YtxV6AW64dtxRfAYMg\n",
       "LjlgPDbikGLUWlWtgMvvwCSBQw4AysxJTTYrgKIAAAAASUVORK5CYII=\n",
       "\" style=\"display:inline;vertical-align:middle;\" /></a> <a class=\"ProveItLink\" href=\"../__pv_it/demonstrations/27bfa54f1e9a425cef4ef934308acf7b89cc8fba0/proof.ipynb\" style=\"text-decoration: none\">&nbsp;&#x22A2;&nbsp;&nbsp;</a><a class=\"ProveItLink\" href=\"../__pv_it/demonstrations/dc0d875830bf7efec5f36b2a5a2edbbf7df3012d0/expr.ipynb\"><img src=\"data:image/png;base64,iVBORw0KGgoAAAANSUhEUgAAAJgAAAAmBAMAAADKLE8XAAAAMFBMVEX///92dnaqqqpEREQiIiJm\n",
       "Zmbc3NxUVFTMzMzu7u4QEBC6uroyMjKIiIiYmJgAAABs22DkAAAAAXRSTlMAQObYZgAAArtJREFU\n",
       "SMetVk1oE0EYfYnJJptkYyN4EdEc9GxAqF6UeNKeDEoohR5yKIIitAdBPKWC0GNWqBS8bCgi/kTI\n",
       "XcFc1Eu0PagnS+O19JCIDYaicb6ZbLKZ2bgjdA6T2cx7b+f75n07AwDpFv7ZzCXot29BgDf6Wsnn\n",
       "QQhLZ2kxm/rHy4HAT8Fa8WNc7K4bTENBGH1qbdyyJ8TvoUQIE+8OnkIFden1we+EOL0ULpZygams\n",
       "Ar7txtDzFxOUpZHYYmkwc7ikgK+5g4/+YoKSG4nNuzOVrXuywfLuaMdfTFA8Yq/cmc/2Fzklw8AX\n",
       "675igsLF4tssDOMXLaF4dhkXsCthV4FH18/TKDGllMWIkhv+mW6zbg2hfbzErEQ4QZV0khYVU2zj\n",
       "UmLNZq3JfEgeQpTyMge8QA/rSsqiNhJVqoG2LOahiDAz0yxvNHwClEsz6ZxURS0k8oiRD8NdWcxD\n",
       "4bRDeMB2l3y3YaO8vJLxYF/T/jAj9RCjpMZ/yGIeChdLwWFim2Ly6ljFWDXWbYktJ8Oaf3z20qUM\n",
       "AjoFOOJjluyM4W5us7QLl73lG/mbj483qb3DOEWIme+Zg4RYZFh9Ju+dHNJizZd531EXNqSIyllj\n",
       "66wIYxaHGIe7INoVlkZU1PKeKlYc3/q5h66YVZBeaOzhO38cVIUqZo1/ZCL9n26Yp2FIZV62Z+gn\n",
       "XMANem/Hk7MP8KewqCgz8SlY0kzlCH/zfeArLVTZTR8KswZt1kLm6B35U1WjlBmXMrN5X5/5UFgJ\n",
       "U4o2+hTxWAvzLKVYxZFYcl8xrUphZdCYcEJMex/SPa2DLlQ9OBTCWu9M6R3qvlWnNKeld6Cf0wGd\n",
       "KemJ7eiA5jWvGk5WA7SuKWY1NDBVTTE8C4YkWrpiuwdwgxvVwGYQwniqLWZeCUKsZrXFsBBkoov/\n",
       "cac1Aq6OZl1T6C+f870XmobLwgAAAABJRU5ErkJggg==\n",
       "\" style=\"display:inline;vertical-align:middle;\" /></a></span>"
      ],
      "text/plain": [
       "{b in Complex, (1 / 2) in Complex} |- (2^{b} * sqrt(2)) = 2^{b + (1 / 2)}"
      ]
     },
     "execution_count": 46,
     "metadata": {},
     "output_type": "execute_result"
    }
   ],
   "source": [
    "mult_of_exps_test_03.exponent_combination(assumptions=[InSet(b, Complex), InSet(frac(one, two), Complex), NotEquals(two, zero)])"
   ]
  },
  {
   "cell_type": "code",
   "execution_count": 47,
   "metadata": {},
   "outputs": [],
   "source": [
    "%end demonstrations"
   ]
  },
  {
   "cell_type": "code",
   "execution_count": null,
   "metadata": {},
   "outputs": [],
   "source": []
  }
 ],
 "metadata": {
  "kernelspec": {
   "display_name": "Python 3",
   "language": "python",
   "name": "python3"
  },
  "language_info": {
   "codemirror_mode": {
    "name": "ipython",
    "version": 3
   },
   "file_extension": ".py",
   "mimetype": "text/x-python",
   "name": "python",
   "nbconvert_exporter": "python",
   "pygments_lexer": "ipython3",
   "version": "3.7.3"
  }
 },
 "nbformat": 4,
 "nbformat_minor": 1
}
