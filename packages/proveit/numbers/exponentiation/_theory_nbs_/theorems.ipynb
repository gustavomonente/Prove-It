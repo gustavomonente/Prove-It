{
 "cells": [
  {
   "cell_type": "markdown",
   "metadata": {},
   "source": [
    "Theorems (or conjectures) for the theory of <a class=\"ProveItLink\" href=\"theory.ipynb\">proveit.numbers.exponentiation</a>\n",
    "========"
   ]
  },
  {
   "cell_type": "code",
   "execution_count": 1,
   "metadata": {},
   "outputs": [],
   "source": [
    "import proveit\n",
    "# Prepare this notebook for defining the theorems of a theory:\n",
    "%theorems_notebook # Keep this at the top following 'import proveit'.\n",
    "from proveit import IndexedVar, ExprRange\n",
    "from proveit import a, b, c, d, k, i, m, n, x, y, z\n",
    "from proveit.core_expr_types import a_1_to_m, a_1_to_n, b_1_to_m, k_1_to_m\n",
    "from proveit.logic import And, Forall, Equals, InSet, NotInSet, NotEquals, Or\n",
    "from proveit.numbers import (Abs, Add, Exp, frac,  greater, greater_eq, Less,\n",
    "                            LessEq, number_ordering, Mult, Neg, sqrt, subtract)\n",
    "from proveit.numbers import (zero, one, two, three, e, Natural, NaturalPos, Integer,\n",
    "                            Rational, RationalNonZero, Real, RealNonNeg, RealPos, Complex)\n",
    "from proveit.numbers.exponentiation import (\n",
    "    prod_a_raise_ki__1_to_m, prod_a_raise_bi__1_to_m, \n",
    "    prod_ai_raise_n__1_to_m, prod_ai_raise_b__1_to_m, nonzero_a_1_to_m)"
   ]
  },
  {
   "cell_type": "code",
   "execution_count": 2,
   "metadata": {},
   "outputs": [
    {
     "name": "stdout",
     "output_type": "stream",
     "text": [
      "Defining theorems for theory 'proveit.numbers.exponentiation'\n",
      "Subsequent end-of-cell assignments will define theorems\n",
      "'%end theorems' will finalize the definitions\n"
     ]
    }
   ],
   "source": [
    "%begin theorems"
   ]
  },
  {
   "cell_type": "markdown",
   "metadata": {},
   "source": [
    "### Basic Operation Theorems"
   ]
  },
  {
   "cell_type": "code",
   "execution_count": 3,
   "metadata": {},
   "outputs": [
    {
     "data": {
      "text/html": [
       "<strong id=\"exponentiated_one\"><a class=\"ProveItLink\" href=\"proofs/exponentiated_one/thm_proof.ipynb\">exponentiated_one</a> (conjecture without proof):<br></strong> <a class=\"ProveItLink\" href=\"../__pv_it/theorems/4f79d9a2ecee0e689a3e5191476414700a9b2cec0/theorem_expr.ipynb\"><img src=\"data:image/png;base64,iVBORw0KGgoAAAANSUhEUgAAAH8AAAAVBAMAAACd/CwcAAAAMFBMVEX///8QEBCIiIhmZma6urrM\n",
       "zMxUVFQiIiJERETc3Nzu7u6qqqp2dnaYmJgyMjIAAAAcRTyBAAAAAXRSTlMAQObYZgAAAaZJREFU\n",
       "OMtjYCAGHDJVC2AgB3BeAFNMC/LYHbDJ7wTiByDGXRwGrIBQrAxvscuzTWBgOA1ivMJhwEsg3rgA\n",
       "SPzElOOWYmDgAlo/A+TSBuz6eQ0YuHLygQawfmBFl1t27BcocBgY+IDyPBuwG8AOdCHD/QUM83ke\n",
       "8GCaDjJgIZA+tWrVdBw+AIsDDVh25dAp7AbwAcP2R0dHDQ4DlKEGYPcfyAAeAwaGVAaGThwG9KIb\n",
       "cO4dCDxGGMALDEVncFgihW5PehKUWU3QBdwFwJBiYLoAFePaY3yBK2IB6xsoX4SgAawfgN64wA4T\n",
       "u7FzFQPvHAaGPSQZwPkgDJraWYAhwuC6FSiEywuQMHiGMIAF6AWGzhRoaucDid+6iScQMVwACkSG\n",
       "zQXQ1L4YJL5rJ0LNYRChj8MAJpABzAeABL8CAyS1h3d0dCjMDkWocQdiM/nHF7DpZ078ZwtMSKBc\n",
       "zruAAZLa2cASi4CxgZyU8YLlMAY4tfOAjOO0CQBlEVhmIlTSwPMWOLV3g5hr3rXBS59OAvpRkyAw\n",
       "XIBhgK1AwQk4JhBXpOEEwCgHAOXhhUBQXQjsAAAAAElFTkSuQmCC\n",
       "\" style=\"display:inline;vertical-align:middle;\" /></a><br>"
      ],
      "text/plain": [
       "exponentiated_one: forall_{x in Complex} (1^{x} = 1)"
      ]
     },
     "execution_count": 3,
     "metadata": {},
     "output_type": "execute_result"
    }
   ],
   "source": [
    "exponentiated_one = Forall([x], Equals(Exp(one, x), one), domain=Complex)"
   ]
  },
  {
   "cell_type": "code",
   "execution_count": 4,
   "metadata": {},
   "outputs": [
    {
     "data": {
      "text/html": [
       "<strong id=\"exp_zero_eq_one\"><a class=\"ProveItLink\" href=\"proofs/exp_zero_eq_one/thm_proof.ipynb\">exp_zero_eq_one</a> (conjecture without proof):<br></strong> <a class=\"ProveItLink\" href=\"../__pv_it/theorems/d8351d5563367b239295c0cb9ca44cd75e1b726c0/theorem_expr.ipynb\"><img src=\"data:image/png;base64,iVBORw0KGgoAAAANSUhEUgAAALEAAAAcCAMAAAAZda7HAAAAOVBMVEX///8oKCgUFBQNDQ0QEBCI\n",
       "iIhmZma6urrMzMxUVFQiIiJERETc3Nzu7u6qqqp2dnaYmJgyMjIAAAArQGDrAAAAAXRSTlMAQObY\n",
       "ZgAAAmpJREFUWMPVV4uSoyAQdHdhYHjj/3/s8VA0Cgb1zN5RlVRiGG16enomw/Cbi1pqh/9puQDX\n",
       "4D8NkbOXryJ+HXV3Rn4B8CufeuThnZjecPb5dPhXOvmoItGuO966DwOGTVp5EoQ4kWwRA/xSBw+f\n",
       "QG0VmzkmJxBTiEybRs7++rKwuZB1PLK3kYbo+dDxTc4UyIdFsS+xLq/QaLHsEWZFrTUfFkVOco8f\n",
       "uxIKMtm4jkuJp9sFqfW8nVSOEdN0k1HGJZ5ul1BqXIEFSk5UzYKYpU8Y9T9I1X2Dw1LRrXlBznXC\n",
       "SHiUHyul6VcLqoh5KlYWf9T+oFSlRYGLCR2VKPDWvOCnC5q4WZDnOVbZWaKC6c6MtbEA4armMuzn\n",
       "3vYgVtj0ADGxBqf7xgqxzohj89vVnZNG6bjRqYTVdCGOh2vMC3OeiSxbLnOsfJlRNFD0RSpJddzk\n",
       "m6sq4hKQN9v2vCBxYinuMePwRsfY0HGGIRXmatKCT92+yNppt63JFeISgMlwfsLLNeYFlBPiyD36\n",
       "wajLXhFODJMoIDDLRaKulJ02B4hLQHZLczAv0MmPZbjuBA4n3JQWxMXUR7o0UhrzwUXiLNxdGc7b\n",
       "iEtAok8ezQszPRop5Qop6zZyJKMHt/S8nPrpUYEc6WLBLTICTRej3SBeAjBI7/srCtC15gXC7rch\n",
       "v7WY4O18ZPE4lq86VPxsq368BMzO1p4X4H5X1TsaGFJDcwJkMScdalgir6piFZCd7WBe4OT+bHI4\n",
       "NtGs45rp1jvjWwrx9nQo+LW4OmL/Pqf+LsVXdVVF7DoINHAL8PX/HNefa27ZBTz8t+6p9Qf5tRxZ\n",
       "ysuF8wAAAABJRU5ErkJggg==\n",
       "\" style=\"display:inline;vertical-align:middle;\" /></a><br>"
      ],
      "text/plain": [
       "exp_zero_eq_one: forall_{a in Complex | a != 0} (a^{0} = 1)"
      ]
     },
     "execution_count": 4,
     "metadata": {},
     "output_type": "execute_result"
    }
   ],
   "source": [
    "exp_zero_eq_one = Forall([a], Equals(Exp(a, zero), one), domain=Complex, conditions=[NotEquals(a, zero)])"
   ]
  },
  {
   "cell_type": "code",
   "execution_count": 5,
   "metadata": {},
   "outputs": [
    {
     "data": {
      "text/html": [
       "<strong id=\"exponentiated_zero\"><a class=\"ProveItLink\" href=\"proofs/exponentiated_zero/thm_proof.ipynb\">exponentiated_zero</a> (conjecture without proof):<br></strong> <a class=\"ProveItLink\" href=\"../__pv_it/theorems/01b9df80cee827c0a551723b34fa5de87955b74a0/theorem_expr.ipynb\"><img src=\"data:image/png;base64,iVBORw0KGgoAAAANSUhEUgAAAK8AAAAXCAMAAABK1e9fAAAAOVBMVEX///8QEBAoKCgUFBQNDQ2I\n",
       "iIhmZma6urrMzMxUVFQiIiJERETc3Nzu7u6qqqp2dnaYmJgyMjIAAAAMeWbTAAAAAXRSTlMAQObY\n",
       "ZgAAAlRJREFUSMfNV4uS2yAMJG15GYSA///YGoEx2MSh8XiuzOQ54rRZrVY6xn7uIBeKa8X+22N9\n",
       "+4kD04Etcva2s+k51M/ePwwXTKHVYyJ1fQQ/VYYcz3QCjG77PsDDeEMmaE0IC71l0U7cqvGQuLVm\n",
       "K5Z5GK4X9PwizqisKhLL17eaeOQNrTvRD53MqdGkxQg2Egr8cKvGJ4ITdo+Qjl2ebracIFJ+GR1o\n",
       "L5HjJxHWeNJGas5o0lnwYbyc5ABR5Px8ske7eEwfsgMaO5350oGIL74SdyoseYGNmJV7xouhOWKr\n",
       "Shfvk4yl2HrvnfEZ1IveE1w1plAksfWSPsrX5fwi558sZx/vSFPpiZ+cEBwKsX4LyqycqYAzeC2h\n",
       "pBkQD8p8yft6SIayFsJnzL2PGGchpfQ2/7QpvIbaOCaSX26Et/SPi7Nu1MVnvDYwpQ8jXW4Ckspl\n",
       "i7RDvP0OIIvYUuziR3pghm77CNf6rWrq4mWm1VgtDyO9ytmDP3aiGewAmkzmz/rwK970xxc+6rfO\n",
       "/6emTBvv84sTRQ51pIOozQbuAm+/A/BMYeb3dcCLYucZXvNbWRsviigb9eeRrhbiy3BmnVLv8XY7\n",
       "QNlnin7jwfZKLRkg/6clso0Pait6JayM9N2NBPDdWM94ywW9au73r6Q8/8Yfyjy+teAtR7OrIx0r\n",
       "A1bQexz5b7cDWN2OspP/ln3n3oJ/wN+MdOP2goRg2gqa4YXsZQUw4gCcuUkwXDYpz/odmex4Cn6c\n",
       "WHBzY/32947TTjiUvfUfjP+2PEO8/un1+fsjfjD3X5XjHI3FOCgZAAAAAElFTkSuQmCC\n",
       "\" style=\"display:inline;vertical-align:middle;\" /></a><br>"
      ],
      "text/plain": [
       "exponentiated_zero: forall_{x in Complex | x != 0} (0^{x} = 0)"
      ]
     },
     "execution_count": 5,
     "metadata": {},
     "output_type": "execute_result"
    }
   ],
   "source": [
    "exponentiated_zero = Forall([x], Equals(Exp(zero, x), zero), domain=Complex, conditions=[NotEquals(x, zero)])"
   ]
  },
  {
   "cell_type": "code",
   "execution_count": 6,
   "metadata": {},
   "outputs": [
    {
     "data": {
      "text/html": [
       "<strong id=\"exp_rational_non_zero__not_zero\"><a class=\"ProveItLink\" href=\"proofs/exp_rational_non_zero__not_zero/thm_proof.ipynb\">exp_rational_non_zero__not_zero</a> (conjecture without proof):<br></strong> <a class=\"ProveItLink\" href=\"../__pv_it/theorems/53687bea82fb63fae7ccebcd24d199e5ef7c13210/theorem_expr.ipynb\"><img src=\"data:image/png;base64,iVBORw0KGgoAAAANSUhEUgAAAJ8AAAAcCAMAAABI4Z2kAAAAP1BMVEX///8kJCQNDQ0oKChRUVE2\n",
       "NjYQEBCIiIhmZma6urrMzMxUVFQiIiJERETc3Nzu7u6qqqp2dnaYmJgyMjIAAADrp1xaAAAAAXRS\n",
       "TlMAQObYZgAAAsVJREFUWMPNV4uS2yAMpL3W4i1e//+tRYBJjHHsu3M6x0ziiYNhWWlXMmP/b4gY\n",
       "2Y8env8sPFJsf0f3iYfh/fDUcCPZz2SDeje+iAPeBKDwejaE98LjY4RAI4NZCvo5aE23H5IK9+K1\n",
       "adzVZMBhImG7uecheFnPQ2fx7igct4t1yXLhk6xSYtAQaltPSF9mPYW5N7zLTqxE6P7uduOwlLNV\n",
       "RrV7os27N4eX8ilMSFDyOQcKv64+zGl28EjD6nvpq0QMfuM9e00fSwWfSIUsKGskQ0P7m9Xbk95y\n",
       "z2E5TG7zTB8mXvFBvWDn19ivhZEW9WHvEGalRSx5Tkx7/cQyPn7TN+9Z4ZtT1gtBE/Qnxi/Vc0nr\n",
       "GGS4y6vYhIpLWDPpnL6Mj1dgvv4qyqbMg3DJItArz9WD6gJiaZ+tGNqzvMRIw7UauI0vVnxUSKbq\n",
       "6PUcnec8z7KgynxH2PP4+4c7ZgmbluOzDd9iykbyiL4hrVLTr3viL/u3nBbjtZ4H4ywSDWCJZgRX\n",
       "/7A1ClN81SgyMl/2Y/P8+7XULFTbtA3VX2QDYOxq4chBRTnUc7GGWcoKDFh4RDcfg2gaBaJMw0dM\n",
       "qMjcVH/RTm2p+bNoHup4Cy9mGmQ31rWed5UEDK01A4pvji7P8Z3rA5anoqsVm9qX2HcLVDNwkVsP\n",
       "TS19eZ4v9VDPsS8CHZ/v0T3yl/XsqACkVSCudGBlsRy0FsGu+oCPmglqqOdSFwPPaF2Pr39E97D+\n",
       "ilPzdCf9fhxUj5SPJiBu63kHgqrpgwQcTvbn5wXppGPCXQnPVi+TICPJOdXrue/ahNIeeSiecWbd\n",
       "yyl9JycIat/zgwMyOkm89XpuemsDSXuTrr0ZKPc9+vaetTncRow1/wpWFOISvGnJ3LJxQt8ret1R\n",
       "u2CNDc5eaibct153X/fLx+8iCLlduvYq4MQ38PF7XzfeNP4BCfUisd2ohc0AAAAASUVORK5CYII=\n",
       "\" style=\"display:inline;vertical-align:middle;\" /></a><br>"
      ],
      "text/plain": [
       "exp_rational_non_zero__not_zero: forall_{a, b in RationalNonZero} (a^{b} != 0)"
      ]
     },
     "execution_count": 6,
     "metadata": {},
     "output_type": "execute_result"
    }
   ],
   "source": [
    "exp_rational_non_zero__not_zero = Forall(\n",
    "    [a, b],\n",
    "    NotEquals(Exp(a,b), zero),\n",
    "    domain=RationalNonZero)"
   ]
  },
  {
   "cell_type": "code",
   "execution_count": 7,
   "metadata": {},
   "outputs": [
    {
     "data": {
      "text/html": [
       "<strong id=\"exp_not_eq_zero\"><a class=\"ProveItLink\" href=\"proofs/exp_not_eq_zero/thm_proof.ipynb\">exp_not_eq_zero</a> (conjecture without proof):<br></strong> <a class=\"ProveItLink\" href=\"../__pv_it/theorems/751f556f0e6bf10a499e8ba7ee05c51ee9a64d570/theorem_expr.ipynb\"><img src=\"data:image/png;base64,iVBORw0KGgoAAAANSUhEUgAAALwAAAAcCAMAAADsiyV3AAAAPFBMVEX///8kJCQoKCgUFBQNDQ0Q\n",
       "EBCIiIhmZma6urrMzMxUVFQiIiJERETc3Nzu7u6qqqp2dnaYmJgyMjIAAAChkoCbAAAAAXRSTlMA\n",
       "QObYZgAAAvJJREFUWMPVWIl24yAMZLtF3OL6/38tl+2Aie0m22TLe01ebGNGw2gkSsh/MngI5PcO\n",
       "x34TWsG7n8F+Yy68G7vsf0fzHZHJ94IP2McSASReF5l/J3Y27DwoJDCTvZtHpPLlLcf9K4MxccCk\n",
       "UzB+Yjimu+bAO1GDzYE6e2cfX+wtNKUvmyhZ8iGpUZkaff7QS4j6laqho7fknaB7w+lQeVrirnuh\n",
       "7A3hzr5TNVnDfkKfFLfSKjtj61yWn/YO8zDqlcRXDnvndI4cE09iAc9joRnKK6LOQ7mXes2ShoY5\n",
       "BvRutulb4jGyCh7qF647o81j7QY/uFcwgYM9L7oxymlaNsR9PocyPj7zJ1u15lpFqF8ZN883MVxr\n",
       "N6x2Uskbjz5IcyaKKtOknYuEegWpX9R7TnwCzypqV38V3rLaYWbya7uB1jGWnkChE5siuCvgTQGo\n",
       "eLOSPj0rLazcUHCtg+hlgxV8LrXTdF3aDa+twbyMNwW2vQQ+x5mWEDNjbFKgen1k+oZByrG5jb1h\n",
       "PhWxJUZkIIMY2g2+qIcLW++ZKfhuMuFNoPlZNe5rNT0sArCRzDX/h1blyz5TfN1H0ajVptUxVCJd\n",
       "xKHdWNPBo9+l9QZ+nSyLfX2mP9/ethOG1BV85lAGYqcdZTBTg21FijecljXVsARVqKHdwDVtLdoD\n",
       "8P1ksGTjh47gq0nXFZQkU5vme7vIVRWp6EtFhK1ogxzaDaEKk2khY4W4D76bjHpJsjwjjobaaEMJ\n",
       "IIwEfqFnLs+7JOQGYfUoj22lRJP2iH27seU8Q9gMfAC/TZZJp38/slr9PbcpxBwPe3IsDONuppIh\n",
       "Ive5LOPWbriV7lQPRWlMp8wvk1ebXFrXvc8TdlrQT5pc3BHCJVjIhi4y42u7oe22byHovlnaT15s\n",
       "sqF3s6O1oGfEn0Tnjw6CnTND1fzUix9ZOXuMfYp4osQB9qvH4Sn4Cz0Rhsd7ptZ13L9JngDvrxwN\n",
       "7DP/p/lHJ6fHIVj+xKqvPLL+zPgC50sjQ9/0sl4AAAAASUVORK5CYII=\n",
       "\" style=\"display:inline;vertical-align:middle;\" /></a><br>"
      ],
      "text/plain": [
       "exp_not_eq_zero: forall_{a, b in Complex | a != 0} (a^{b} != 0)"
      ]
     },
     "execution_count": 7,
     "metadata": {},
     "output_type": "execute_result"
    }
   ],
   "source": [
    "exp_not_eq_zero = Forall(\n",
    "    [a, b],\n",
    "    NotEquals(Exp(a,b), zero),\n",
    "    domain=Complex,\n",
    "    conditions=[NotEquals(a, zero)])"
   ]
  },
  {
   "cell_type": "code",
   "execution_count": 8,
   "metadata": {},
   "outputs": [
    {
     "data": {
      "text/html": [
       "<strong id=\"nat_x_to_first_power_is_x\"><a class=\"ProveItLink\" href=\"proofs/nat_x_to_first_power_is_x/thm_proof.ipynb\">nat_x_to_first_power_is_x</a> (conjecture without proof):<br></strong> <a class=\"ProveItLink\" href=\"../__pv_it/theorems/ebd797155e514865bc65b66b56908b82df81f2490/theorem_expr.ipynb\"><img src=\"data:image/png;base64,iVBORw0KGgoAAAANSUhEUgAAAIUAAAAcBAMAAAC9nWGEAAAAMFBMVEX///8QEBCIiIhmZma6urrM\n",
       "zMxUVFQiIiJERETc3Nzu7u6qqqp2dnaYmJgyMjIAAAAcRTyBAAAAAXRSTlMAQObYZgAAAftJREFU\n",
       "OMtjYCAOsDYwUApYjQvI1xwCpVlwmMFEhP0JBMxgSSBoBt8CAmYwnCVohhEDITPYgbY8ADHu4lDA\n",
       "+YugGUwGDAynQYxXOBTwGBA0g/MDA8MMEI0r8hk3EDSDoRoSajwbcMjPhwUpAzdOMywYGHhPrVo1\n",
       "HZf8RbiLzb8p4FCjCMQ/OjpqcJlhB/TEsZlKRlhTBlTCH+jWVAaGTlxmdAD9ydHEsH4CPJDfgQEo\n",
       "qGES8QEMDM4MXA+QU2bxEQZFWOJ7xsAQzf6AYX4AFvNhEvMdgImEgekCTHz1YVuGHTwLmGFBWczA\n",
       "sGC9A8N9bG6ESQApBp4L7DBh3u5ZCxj2KhjwwAQeA/F+BoY8rB6FSoDcwfkgDKjbNkgZ5C0g2Lp1\n",
       "EtyMNki4/uVCC48EBoREPCiwOlOAZjheYJwASfdbedbGwLRkALEMA/cvHmzugEqA4oVhMzD5zFJn\n",
       "4F/ABU7ZWxkOHEaKe84vDDwPrmJL5FAJcBriB6WeJAZHBtaKjo4moBlz4QEEtAOYyDlzsaVjmIQF\n",
       "OCRBjhFlsGFlSIC4gyUInl8cCBdTj5ByX8lWhqMg5hUGhjswYeYDBI3g+oVUpOlcYOAAOo2lzoGB\n",
       "DZ7gBAiawYteGGoAwwMFZBM0gz2AkIp1BM24Q1AFtwEBBZxE1F1bCMjDsxaFAACkm4UPVInbhAAA\n",
       "AABJRU5ErkJggg==\n",
       "\" style=\"display:inline;vertical-align:middle;\" /></a><br>"
      ],
      "text/plain": [
       "nat_x_to_first_power_is_x: forall_{n in Natural} (n^{1} = n)"
      ]
     },
     "execution_count": 8,
     "metadata": {},
     "output_type": "execute_result"
    }
   ],
   "source": [
    "nat_x_to_first_power_is_x = Forall(\n",
    "        n,\n",
    "        Equals(Exp(n, one), n),\n",
    "        domain=Natural)"
   ]
  },
  {
   "cell_type": "code",
   "execution_count": 9,
   "metadata": {},
   "outputs": [
    {
     "data": {
      "text/html": [
       "<strong id=\"real_x_to_first_power_is_x\"><a class=\"ProveItLink\" href=\"proofs/real_x_to_first_power_is_x/thm_proof.ipynb\">real_x_to_first_power_is_x</a> (conjecture without proof):<br></strong> <a class=\"ProveItLink\" href=\"../__pv_it/theorems/80c85ec79e15602ead901a01470778735f5bab1e0/theorem_expr.ipynb\"><img src=\"data:image/png;base64,iVBORw0KGgoAAAANSUhEUgAAAIMAAAAcBAMAAACwgxHDAAAAMFBMVEX///8QEBCIiIhmZma6urrM\n",
       "zMxUVFQiIiJERETc3Nzu7u6qqqp2dnaYmJgyMjIAAAAcRTyBAAAAAXRSTlMAQObYZgAAAhpJREFU\n",
       "OMutlEFIFFEYx/+Muzvu+Hb10M3LaiAiQYJIHSoWPYgnN4LqEBhWghcR8aZkx5EORQV6EQcX9rAI\n",
       "LXiQosOy3SaqCQQlCoaOQbIEgm6Xvrezb1xlnp+UD3bn4733/d7/+973PeBs4y7+d9y68s+u8WzD\n",
       "GIleN3jEbZyOiN1nET8ZBD5yhJYMhzAdwJfGd82GNYdDGP3Ah2N6T4z34BDJKrAiv080GzpZBOaB\n",
       "NGkVJc0RtdDc0iGuAim3WFzWLKc6lPVycUKzp4t+B7a9oLsQyrXVPTVUiVpc73l1iS5sjKJ4BCxp\n",
       "EK2Uow3sZB6rCbFXH3QLsMqpWZOOGM8Bw7D8Jret3gc/lJ2m2nPx2RmNwAtH1GLP6d6pBUwYXmPa\n",
       "ejfgGQKuKiiTjnNgRyq06hqB14QQnqmmd98UQYivCpmWivFbE2Z7/SSpIunLXqoM9uRi0kMiyioX\n",
       "soni+03qg1wEvSWzQP8UDJYekqMzbWbTCBAD/Q2PBEl9a1TRF6GhzblMXsGNYHOGjsIvIF9HtEzO\n",
       "hQ3Qgdif1mrSi0CMlZ5hlb5fjmI6BO7Ytp0xxIvt8DWowZrouxjZhIXu9eteUJ1Ug1JKvBpHIgik\n",
       "7V7Ynxf4RymsgDXhC4hckAtXpRPXWIIVtlFhu+ICT2VpfSrnb6jpmywideLlMygXxyYSJQ5h5jiZ\n",
       "Pof4xurcZNa1j1VTAWWZ99nBeYy/0jZ/6dYnuOQAAAAASUVORK5CYII=\n",
       "\" style=\"display:inline;vertical-align:middle;\" /></a><br>"
      ],
      "text/plain": [
       "real_x_to_first_power_is_x: forall_{x in Real} (x^{1} = x)"
      ]
     },
     "execution_count": 9,
     "metadata": {},
     "output_type": "execute_result"
    }
   ],
   "source": [
    "real_x_to_first_power_is_x = Forall(\n",
    "        x,\n",
    "        Equals(Exp(x, one), x),\n",
    "        domain=Real)"
   ]
  },
  {
   "cell_type": "code",
   "execution_count": 10,
   "metadata": {},
   "outputs": [
    {
     "data": {
      "text/html": [
       "<strong id=\"complex_x_to_first_power_is_x\"><a class=\"ProveItLink\" href=\"proofs/complex_x_to_first_power_is_x/thm_proof.ipynb\">complex_x_to_first_power_is_x</a> (conjecture without proof):<br></strong> <a class=\"ProveItLink\" href=\"../__pv_it/theorems/68e06e5e0d9daea66f9e247b8d6b8dfcbad2f4030/theorem_expr.ipynb\"><img src=\"data:image/png;base64,iVBORw0KGgoAAAANSUhEUgAAAIMAAAAcBAMAAACwgxHDAAAAMFBMVEX///8QEBCIiIhmZma6urrM\n",
       "zMxUVFQiIiJERETc3Nzu7u6qqqp2dnaYmJgyMjIAAAAcRTyBAAAAAXRSTlMAQObYZgAAAhhJREFU\n",
       "OMutVE9IFGEU/zHt7LjjzObBm5fVwIMEBhF1UFgUEU+OiOatkEK8RHhVqlOMGBgoFKj4sYKHRXBB\n",
       "RBQPsd02ogmC/qAweBSTRQh0u/S+3Z11lPl6UT3Yncd73/t9v+/9A/5MRvCvMnj7r0P1dFXpjfZr\n",
       "PMQwfg8Ru89CHDIQeM8hXElxEIYAfKnsKw4sCw5CuwG8u8D3krwFB5EoAq/l95niQBMLgUkgSVyt\n",
       "nOKKUk3dUkHcAexCNvtK4bYbAm3u6ajiTDP9Tl13SlUQyrXZMt6Vj3JmWuevU8H66RUPgWkFRB3l\n",
       "aA2fU08Cg3VcFqoCzDf2hEFX3HOAbph+OK7+xVhAOkm9V8AH0RcBbwmrFHtJdacRMKB5VbO5e9Mz\n",
       "R4R+FPQNXSfgRjI0yxyBdYKwPCMwf9nOwl4EdgMWkjFOFM+8Wm5dySLhy1nK32p1YjKiZ5NMQS7k\n",
       "EOk/QuwruajMlswC/dNjMP2A+lQ8MtJJafr29TwiTlR3tCLaIjjUi3aKqlQEG4/pKnwHVqRrZzs0\n",
       "AA2I/awrJrwIiP7cLJbo+/H8TWfAXdd1UwtDoW1Qgjnadi1yCFdbMp1epTupByUVvagjXm6njMx2\n",
       "VRr5pXRQm2rLt2DJ/CQ6HNS6sYNFMGtjtPopXwBmpLp2/NwJzAMshH1p82mUiwuGeI6DMByOps9B\n",
       "7LE8Nxi/clmFGijN7GeB/yG/AORDfx2EXCEQAAAAAElFTkSuQmCC\n",
       "\" style=\"display:inline;vertical-align:middle;\" /></a><br>"
      ],
      "text/plain": [
       "complex_x_to_first_power_is_x: forall_{x in Complex} (x^{1} = x)"
      ]
     },
     "execution_count": 10,
     "metadata": {},
     "output_type": "execute_result"
    }
   ],
   "source": [
    "complex_x_to_first_power_is_x = Forall([x],\n",
    "               Equals(Exp(x,one),\n",
    "                      x),\n",
    "               domain = Complex)"
   ]
  },
  {
   "cell_type": "markdown",
   "metadata": {},
   "source": [
    "### Closure Theorems for General Exponentials"
   ]
  },
  {
   "cell_type": "code",
   "execution_count": 11,
   "metadata": {},
   "outputs": [
    {
     "data": {
      "text/html": [
       "<strong id=\"exp_nat_closure\"><a class=\"ProveItLink\" href=\"proofs/exp_nat_closure/thm_proof.ipynb\">exp_nat_closure</a> (conjecture without proof):<br></strong> <a class=\"ProveItLink\" href=\"../__pv_it/theorems/4201c3722789c94a11fbf50e7f1810376a35ee9c0/theorem_expr.ipynb\"><img src=\"data:image/png;base64,iVBORw0KGgoAAAANSUhEUgAAAL0AAAAcBAMAAADGuaNIAAAAMFBMVEX///8QEBCIiIhmZma6urrM\n",
       "zMxUVFQiIiJERETc3Nzu7u6qqqp2dnaYmJgyMjIAAAAcRTyBAAAAAXRSTlMAQObYZgAAAylJREFU\n",
       "SMe1lV1IFFEUgM/O7sz+zEz6IGEINhpYj0tCRaUNRBRBtUUoUrCDJJj1IIkUFrbsQ435shSRBNGE\n",
       "4IORirWQULCwBWEFkxRJWWy/D0arBEFtPXTuzsyd8WfXXcMDd+6Zufd+98w5554L8B/iScPKSnKF\n",
       "uIfN/lvOGQo2Zrl4VjGV3zmnRIj7lGXyV2nmPj9qtDx8eL5M/kazZ7qYYD6+F3dPEeVdUXh/xlR8\n",
       "kphyDgRm1GkQ1pZZfLL7U6JMF8UXLKNdsnuui316A8AwcOl0Zfo7GjIL0EcMihTFd42YSolGVUO4\n",
       "TkYCF/UPnDViJYwUxb9pBdWrTRqKePF0d5a/R2sBr83fgkPjg4PXigvvC5qnJxNGHzV35K4qQ5qD\n",
       "X4Xtl6qeW8THefj15HElWUVzc8jSuNgoqzj4B3CgBaBnIcOdh6+Ss7MGZuiH49T/MUGecPDDIYCd\n",
       "EEjl5O9fZAi+YrulE+c6k93gQxvXSLSYESkZgwSM7ljcuF1mVlO+lYpsxyOosnKxA9sODU7RMFSm\n",
       "UUz+AHywYcPIF3QvPR8PanU+Mg5bhdrNtduylYBk1u1kHdwXNLfl5U/YyiHwk543p/1s4qAj05Dv\n",
       "TzVYr5Njg8BPuCFB7S/B/xR7r2vwUArSkF9AS/4CP0sxpQ4+vPXZ/DBxU88xfPTXfAEPcQZ/pEmy\n",
       "+eHqNgwQSjx+mfJbkf8HuNTY/HoEHMZT6LP5JH/gbjvO72QzsIp84kPjr2z+em2dUaHiwp2j1iqS\n",
       "1VF4rSSsD17rfGbdWT/vpJRIiAuy7dBv8AUSVJMfhfeBbIjjkEg6rRqobmqWadxa9xqBPl9OToPN\n",
       "z6aYqJGSwijQqKqqxIf8Ov4Qa0wog03sGVWNIv8GTQOXvOAifmLUh/nykSZSzPdG4wz7YZdEJ2Sg\n",
       "InvVId9ziJ6NRIGFJJChJsXC+0AIkb+RQTTX+y9BlxiBx0R/CTBF8720QL5Iq7enebQOoBe13Z+N\n",
       "y5lwKqDhGRZ1DJqnWwaOrjtRIN8bmvvOoP+d77zRbUD/z5GhAvlTS4yP5fjOBwu7R5e6tvRcA/cK\n",
       "4rs1WHH5BzphwMiOKUWGAAAAAElFTkSuQmCC\n",
       "\" style=\"display:inline;vertical-align:middle;\" /></a><br>"
      ],
      "text/plain": [
       "exp_nat_closure: forall_{a in NaturalPos, b in Natural} (a^{b} in NaturalPos)"
      ]
     },
     "execution_count": 11,
     "metadata": {},
     "output_type": "execute_result"
    }
   ],
   "source": [
    "exp_nat_closure = Forall(\n",
    "    (a, b), \n",
    "    InSet(Exp(a, b), NaturalPos),\n",
    "    domains=(NaturalPos, Natural))"
   ]
  },
  {
   "cell_type": "code",
   "execution_count": 12,
   "metadata": {},
   "outputs": [
    {
     "data": {
      "text/html": [
       "<strong id=\"exp_real_closure_exp_non_zero\"><a class=\"ProveItLink\" href=\"proofs/exp_real_closure_exp_non_zero/thm_proof.ipynb\">exp_real_closure_exp_non_zero</a> (conjecture without proof):<br></strong> <a class=\"ProveItLink\" href=\"../__pv_it/theorems/d2acb2aaf00f55e73f5fb66ac05ccd90eb01de060/theorem_expr.ipynb\"><img src=\"data:image/png;base64,iVBORw0KGgoAAAANSUhEUgAAAOcAAAAcCAMAAACtf1jIAAAAOVBMVEX///8oKCgUFBQNDQ0QEBCI\n",
       "iIhmZma6urrMzMxUVFQiIiJERETc3Nzu7u6qqqp2dnaYmJgyMjIAAAArQGDrAAAAAXRSTlMAQObY\n",
       "ZgAAA1tJREFUWMPlWImS2yAMdbvcQhz+/48twmCHw04ym7ZJy0x2J7vI6Ol4emZZPmzJGJf/Ynnx\n",
       "b+JSsv0e3XP2/ENg6u4Pq32y0PVH4IzY4V451/hUoYcPgCn6suMGF/5cixoKy8Fe4Q1x27VPHSTg\n",
       "4Ypyg2EAa4wMKp4cFu/OKuQ9yZUlWhLXLRcXTBsUBMASLPoBNXTwhmXLBnKlBLNryoXF+u1XiYdx\n",
       "N2n07hPKlpottBkJYNKKA05ha1MKMggeaVnzhukMbDJnvG++A8d5PhPOEhCeH7MCLePfkW33LFnh\n",
       "BWcjg+CEVQpOvY9OmctCq/zPB8avOh7vUxn8fpxQK1Sy5F5cxx3anvWnM6LGQK3kuRQ5Lo+Uka49\n",
       "nJgM4TltLc+1eHaHez6UVCwJQRZqmw2YpjgZdaw72jwfTp3Jz4anMxy0iLyKqG0fK58T+m+NRo/a\n",
       "/UJlmkhm/bwwZZ/IhWdGqapYrKvNZ0oe7AWHG04SRiMLofNCBNLByQOP9QwlUt9bwmjUqK1PjHqc\n",
       "jRbf2N/IMjSafBacDLK3aiRkOJsrQiro8mnjqJYTWzuLuBSXA4aD4NyAs2rrU6MOZ6PFc9w3EP1g\n",
       "BF3yQRXt1tmAPZ2fgGHPTTkPrC7dg4LruDdtea/JLpfecVvh0pEH+1VtfWbU42y0uPSHK6brHg0F\n",
       "J+HXcXH2rv7dcabUCXXLt8l5UcoWU47U2sre7LIQoiGiloeqtp4bjTjLfp0H2lf6hHJq34Gc3Yha\n",
       "o5fJ7DPuRPeR8NlGyTGG1/J8ckyZnNcbl4XWuXv2+PRzpWjrudEE560W5+6mtFiHsyYCNefKai5H\n",
       "nKhB4kTHK5pKMRfCQdQBDznJKRbK5FiTQyk1lgd5qUI3bX1tBFMtXqti689VTp58d2B5aHXfmOAu\n",
       "fEhBhUBMopsSdIqyh35b8kxbz4xmOMt+nabBzx80E8IJ3y7iFSoNh8cm1aFWSWTgVdNqHk8OtMSW\n",
       "VVtfGsFMi9s9NNTfw/xM8/EVKlmPdynccZFJD1wd+T761HpiXhiK8rhr6ysjmGnxY5YnPTS7ydMv\n",
       "eIsy6vKerLTaveUeNJpNdHe3LPH7t7XhJW8o7tHrN5i++d9//neva190f/DwpdLkuPBIUTr5PQfF\n",
       "H74O+rvX6L8AvuUn7wTCIPoAAAAASUVORK5CYII=\n",
       "\" style=\"display:inline;vertical-align:middle;\" /></a><br>"
      ],
      "text/plain": [
       "exp_real_closure_exp_non_zero: forall_{a in RealNonNeg, b in Real | b != 0} (a^{b} in Real)"
      ]
     },
     "execution_count": 12,
     "metadata": {},
     "output_type": "execute_result"
    }
   ],
   "source": [
    "exp_real_closure_exp_non_zero = Forall(\n",
    "    (a, b),\n",
    "    InSet(Exp(a, b), Real),\n",
    "    domains=(RealNonNeg, Real),\n",
    "    condition=NotEquals(b, zero))"
   ]
  },
  {
   "cell_type": "code",
   "execution_count": 13,
   "metadata": {},
   "outputs": [
    {
     "data": {
      "text/html": [
       "<strong id=\"exp_real_closure_base_pos\"><a class=\"ProveItLink\" href=\"proofs/exp_real_closure_base_pos/thm_proof.ipynb\">exp_real_closure_base_pos</a> (conjecture without proof):<br></strong> <a class=\"ProveItLink\" href=\"../__pv_it/theorems/16919806662320df92757262f4d2e57cc3ca0f070/theorem_expr.ipynb\"><img src=\"data:image/png;base64,iVBORw0KGgoAAAANSUhEUgAAAL8AAAAcBAMAAADCTHN1AAAAMFBMVEX///8QEBCIiIhmZma6urrM\n",
       "zMxUVFQiIiJERETc3Nzu7u6qqqp2dnaYmJgyMjIAAAAcRTyBAAAAAXRSTlMAQObYZgAAAydJREFU\n",
       "SMe1Vk1oE1EQnux2m81mk3gQpBZha7WKXkKrYkVLROjJny1I24OQUH+oP5RKq4HWQ/GnbiuV4KH2\n",
       "5kJBIaANKoogGtRTWiWCh1KqxIoeKpQiCjaCOG933/4kodHEPggzb+e9983MN/NeAP7DOJiBlR1i\n",
       "cKVOPqwLf6KwmSn3fC6iy0CssL0iUiaAX9VleP2pwgtelwlQb8hNam3hBW70QCuA9yWd78kaykX4\n",
       "4DD4ziq/P44QEpD9SfJlvrziWQ07cnInRLiRYXRhEWCMuDJQEoCLFk8Wqp0W3pOEgVFU+nWixERJ\n",
       "ALcMjqHPZ3g4HY1mKECjH5WdmK9UPH6zNI7fUqV1SpftW2wRNPKo1ODvp6JcKA2giWR3d/1aOhfm\n",
       "7SmKNKNyCIM8DjBkdsZCXq/kdeeLJFUV/O2N+RfpvDJmA/D2ELiwDLAPBOuuemnIx5uPzulLraKU\n",
       "NTELj+iXL+j0OmDNCuFtJK+JftVoCmEzAJM2LeSr8LQhzYiQkpybhE7NwV4IUG57ANgsuCW6omUB\n",
       "h0Hyq+AwUSYQQEy7rQQskVJ4EgcEmEk7AcAziAjCD6s6P2GlDsCETBeM2ct0WzuNwJNpRW287jO5\n",
       "vb7VqRWkfQhA0gIQ6rvwGO6SCtwSuGnAg+hhEp5bfWEH4O+SyMIk6qFjeMI5jvQ908cE/aADNAQt\n",
       "gDtymOSlYg44W046ESABXV7KLSvZALjIdqOK4EE32oJcNzFIvsy4BsCe6LUR1wBt+iVThRG46Dk1\n",
       "2obzoul4v+2qgMlK2WiVgES6niF3tyvERtoURZEY8cY7G0A11GnymYQcBELGMeie0LFxdIMJcPuy\n",
       "al52Mn/9l9bJOMWvEzF+BkVAdSUq9RR5j6gmgLAEI3Hy9qYcVeQK5TbJ/qtR5/M8Z/ITCx+AMdWt\n",
       "ToMo6xykbCRXcd+R2fZdqNZafcAmi/W6kDUbtuP+HmhJcGdwzzXSaG+S400WQPPW2jSMntRimzJf\n",
       "eG5VMQBfzpupFziDHEB+d3JX8vafLgbglh1Tb4G3m19u/71iALM5AcE/AniL/B/6m4eMXdb6sMhm\n",
       "FVZ+/AEOlsGXnbCBLwAAAABJRU5ErkJggg==\n",
       "\" style=\"display:inline;vertical-align:middle;\" /></a><br>"
      ],
      "text/plain": [
       "exp_real_closure_base_pos: forall_{a, b in Real | a > 0} (a^{b} in Real)"
      ]
     },
     "execution_count": 13,
     "metadata": {},
     "output_type": "execute_result"
    }
   ],
   "source": [
    "exp_real_closure_base_pos = Forall(\n",
    "    (a, b),\n",
    "    InSet(Exp(a, b), Real),\n",
    "    domain=Real,\n",
    "    conditions=[greater(a, zero)])"
   ]
  },
  {
   "cell_type": "code",
   "execution_count": 14,
   "metadata": {},
   "outputs": [
    {
     "data": {
      "text/html": [
       "<strong id=\"exp_real_closure\"><a class=\"ProveItLink\" href=\"proofs/exp_real_closure/thm_proof.ipynb\">exp_real_closure</a> (conjecture without proof):<br></strong> <a class=\"ProveItLink\" href=\"../__pv_it/theorems/eb5661e1592d51ee7a096cc4a42ba619bfe317d50/theorem_expr.ipynb\"><img src=\"data:image/png;base64,iVBORw0KGgoAAAANSUhEUgAAAUMAAAAcCAMAAADMQi2jAAAAOVBMVEX///8oKCgUFBQNDQ0QEBCI\n",
       "iIhmZma6urrMzMxUVFQiIiJERETc3Nzu7u6qqqp2dnaYmJgyMjIAAAArQGDrAAAAAXRSTlMAQObY\n",
       "ZgAABH1JREFUaN7tWdmSmzAQJAmjaxgd/P/HRifoAtvx5slW1e6WvbSEWj1Hw7J8xzm4c18S3h2G\n",
       "fTl4dQjefnb6JTh8GVyE7L7Yt9diX345dNRxugNIeiX27adTyPpYBEULvJQSVWD8LET20zjd9l5y\n",
       "6Em1N6XZqhVxd27FwlVk3OgrYX9gEV59iWG3Oc4t5P8v0CLlcwi/sJwKfloor0MRDsJcb0szLptJ\n",
       "fzLVSlfyM/rjQzlkN9tKyaLyw/Ucsq0kQRaut4bC2NSnydCuk17HmOYzAk116DnMXEOcZccwlPmR\n",
       "s33UkN2h3gLfg2ZQdqhrY4bBOpYDGktE5lAerSGPapZxAdz+yT22ff71OYCB8E/NZ7n9XXB/ozSA\n",
       "ZlAsUctXv3e3j1fI7SIfasUKvWIP9HEWKX+icGkFKJmDZs6rNbf67G1YWKYguLjTBszrT4/B7Y0y\n",
       "MYImUJeVRKsteW0gbMbhGhKkPrNqPJ6QCWHWHB5XkjaM2eAP/Z0ZgvkyolESyUraiueqR/HGy2L2\n",
       "RLVgH15SXIBro5pRjc1NFbMD0dixqEw8i9GoRu8rVldGo0MvOjyCnBKHwbBMK0pxjxb1RrRkDi3Z\n",
       "OYeyyzobFjVRFHzsGlz4Cvi524zqwZ5FFFNw2J2yzZKNzY37G0BuEKLLHK54XN/f/0Vvw7jAToeb\n",
       "O8w3MZBOdO6Rs/P4I4dmzqEaphDIKM0UdhA3ngSfYDHA1BV4IYN8Bg40uRrV2FxupiuOgYYyH1FM\n",
       "m/usgbzqD5HsEQn5/HCTSRikhP+SOvfoloZDxtiUw9QdtVP4dA9xoSNcYo5aDC8yzD3VFOxZ9Kl7\n",
       "AIcITsY0g/ONythg/PE/dgTpIZglZg6DWKVb9PbQTxcOveSYqOuyn59lMQR2hOrcI7GKQyal4vO0\n",
       "y3GcIrZhWz6sFY6rCIsM0+cLMDi7jOAYrbhUnyubC7qSRwXiQ2DCWm1TyVlfoPTc6wVDktPI0WXu\n",
       "cLofkJ17FCqeb1jK63ADe8WhHKfw5xOEmLJNzBwi7dULMaX53GdNwASoz3xYgUU4VKtPcGVzCesM\n",
       "XIOGxqMoiCSA2CRM2h9fFzmNzxxEaIxc1O9Zz22eLRweWqLWPcomlrUwNOVQ4DgFd+nio0qWbfu9\n",
       "pmjI2XkA52Q4A6fUhyc436j0BfT3r1BG7QiaPC5d+RNPWQ02Xm/sXfp4j2HHbShJdLpHI5p8aC5q\n",
       "CqlmiqqkpEdEKSPZ0lFbWaF6MDE8N9iBRcotQYgZfNrcTV6AjnXrdPcD1owG080laAiNoAj6O9wj\n",
       "6tJjG2f8/pib12Wqp/D7qRplMLkPZrwOtoLqwUK0PqUGlwqMB/i0uWff1q/I+KT/+wHTffekrMmm\n",
       "kPPhfSsPuvXrYv4ArjZkJwqeeWzkaiCNKG0uV5yFo3z/UZUSNxQ++XIGH3ijYV57NcVb4P6ABpCe\n",
       "+TB6+22yvUsHz74XaPbAH6Jo8rIioxqwxjLoKfBypMj5ijR/SaLffJ38M8+t2WvqBbrW/FvgByC4\n",
       "eM+h+Xu7/7TXJ/9t/AUoaTi0Oiq23wAAAABJRU5ErkJggg==\n",
       "\" style=\"display:inline;vertical-align:middle;\" /></a><br>"
      ],
      "text/plain": [
       "exp_real_closure: forall_{a, b in Real | (a > 0) or ((a >= 0) and (b != 0))} (a^{b} in Real)"
      ]
     },
     "execution_count": 14,
     "metadata": {},
     "output_type": "execute_result"
    }
   ],
   "source": [
    "exp_real_closure = Forall(\n",
    "    (a, b),\n",
    "    InSet(Exp(a, b), Real),\n",
    "    domain=Real,\n",
    "    conditions=[Or(greater(a, zero), And(greater_eq(a, zero), NotEquals(b, zero)))])"
   ]
  },
  {
   "cell_type": "code",
   "execution_count": 15,
   "metadata": {},
   "outputs": [
    {
     "data": {
      "text/html": [
       "<strong id=\"exp_real_pos_closure\"><a class=\"ProveItLink\" href=\"proofs/exp_real_pos_closure/thm_proof.ipynb\">exp_real_pos_closure</a> (conjecture without proof):<br></strong> <a class=\"ProveItLink\" href=\"../__pv_it/theorems/6b4205b419dafc93690fd30f5868ad80bc1163fe0/theorem_expr.ipynb\"><img src=\"data:image/png;base64,iVBORw0KGgoAAAANSUhEUgAAAM0AAAAcBAMAAAAw8CbQAAAAMFBMVEX///8QEBCIiIhmZma6urrM\n",
       "zMxUVFQiIiJERETc3Nzu7u6qqqp2dnaYmJgyMjIAAAAcRTyBAAAAAXRSTlMAQObYZgAAA0JJREFU\n",
       "SMe9lk1oE0EUx192s/nYbBIPgtSibK1W0UtoVVrREhF68mML0vYgJNQP6gel0mqg9RD8qGmlEjzU\n",
       "3rpQUAhog4oiiAb1lFaJ4KGUKrGih4qhiIKNIL7Zze5s0jasiXZgebM7H7+Z9/5vdgD+QTmYhhUp\n",
       "gu8/Aw6rxhNftkcQH6ZcDBdUrTe6bJcwPtZgmRyPrNrAhlPFOPCqTE5tzm6Wq4ty7LgeRSrvSsI4\n",
       "s7nKRXif1+A+G/n9YYhyGNTJBKnMlSez1bCzwKF8kBsaBFsmsz7zFRc0DzBCFhYuiWPRZJaFyvwW\n",
       "hzMB4WF9P9CnxlKIl8QZzckAet25hU6FQmmN0+ChnHr0ZTIWu1maDN5olZZJ1bZtNeynwUE5Vfj8\n",
       "jEQulMZpJC7fXbtWe+fnjH4LNlHOIdz5cYABrd2aKZzLWviBeZ7QqhF89kY989q7LWrguLrnKCcg\n",
       "AewDnh6DL3L20Zajs+oIqmJJMTPwUPvyGbewDlhdRA6DDtaEvig1FT3qxyQCJqV3II38k7oUI0BS\n",
       "zB/LdyhjesCrhb8bgM2CXdR6NGew5HTw0jdocMI4coSUnX5YIKJ5HAPkTKfyOeDsRxD/g8r5I0o7\n",
       "DOOS1mHEqOvtbUZlIseZbsHaWM0ncjB+q5GtJPsIJ0E5fG0nzsZdkoFbALu2/X5caAKe0Xwychx3\n",
       "RMoJEFcMHMOJznHkEGF6GZ8ie+TU+SjnthQgzrLOAmdwVAdy4tDp0sLPigYOF9xBOURvcL8Lu/i4\n",
       "LtIuutNjCoc90WOIbR20qgdXBe7Hok1XpQw4L+jT9RnOHZiwSfmZ5hXJEcKQn4TFzwZbI5GIyAg3\n",
       "3ho4lVCj2Kcixsfrp6vk2zcNb9Snu3VZ1s9RyXH9l95Qr3zFxvGoYxqNV7bEbarfXEdkncMvwFCM\n",
       "3AOSeXqz+AuTa//V0JJXhVk9hNHAARiR7fIUCJIan6RBBxXcdwx+2y6sVtP8YRMmDw4+q6d9+709\n",
       "0BznzuDQayRPXyfGGimnaVt1CoZPKjud1C8d3CqTHHfBj1tNDAbjA4tznLuyaPxpkxy7lPfqWuI6\n",
       "4Sg2/q5JzkzB9uAvOS5z9zYzv1G2aOsDUxxWhhUrfwBwocrizbLKVQAAAABJRU5ErkJggg==\n",
       "\" style=\"display:inline;vertical-align:middle;\" /></a><br>"
      ],
      "text/plain": [
       "exp_real_pos_closure: forall_{a, b in Real | a > 0} (a^{b} in RealPos)"
      ]
     },
     "execution_count": 15,
     "metadata": {},
     "output_type": "execute_result"
    }
   ],
   "source": [
    "exp_real_pos_closure = Forall(\n",
    "    (a, b),\n",
    "    InSet(Exp(a, b), RealPos),\n",
    "    domain=Real,\n",
    "    conditions=[greater(a, zero)])"
   ]
  },
  {
   "cell_type": "code",
   "execution_count": 16,
   "metadata": {},
   "outputs": [
    {
     "data": {
      "text/html": [
       "<strong id=\"exp_complex_closure\"><a class=\"ProveItLink\" href=\"proofs/exp_complex_closure/thm_proof.ipynb\">exp_complex_closure</a> (conjecture without proof):<br></strong> <a class=\"ProveItLink\" href=\"../__pv_it/theorems/76042845969faa4581903760fce3c407228e56270/theorem_expr.ipynb\"><img src=\"data:image/png;base64,iVBORw0KGgoAAAANSUhEUgAAAQEAAAAcCAMAAABWDfo+AAAAOVBMVEX///8oKCgUFBQNDQ0QEBCI\n",
       "iIhmZma6urrMzMxUVFQiIiJERETc3Nzu7u6qqqp2dnaYmJgyMjIAAAArQGDrAAAAAXRSTlMAQObY\n",
       "ZgAAA7VJREFUWMPlWNly2zAMVFvxBMFD//+x5SnxMm0n7oMazSQTO1qQXAKLJbftv3mYc9sPfwz9\n",
       "aSvmrP3s9Ht4cnsCRPfFod4sG3FzBhx2jByECHyrbOytCaB9EhOJG3lPCmQg7NJPeytG1NFvN3hK\n",
       "7NN2QJx0xy4hUhUJM/pRVt1N+HcvjPRJaXN++PUiPSxNNIZfUEiFWxXBPgh/SIp93Q7sJlLt2CMR\n",
       "KHW19UbfuwhCUdt2Fy1I/1R1zrc9w0RigAaANRgeJW+VAnafdEdjms9AOpboleiYcoHEMAeER5rP\n",
       "7M2zJv4F1AxDz51V1FCyjxqGg66h2HinHiymkogjgPqa0W592ZTGOBNiSPinZjNVG8d6hoGymWz3\n",
       "E3fH+IYYFqTMxkjvIcLiGY2MvWa0NRghRRUH1qOG7eKx1jw2CDVV87m2Yz3FuCz6uNtSzj1HY6bR\n",
       "gQF1RHaDApCZGTiNNmpDqX8DOfjN4c7MB+KzFFBxrpJltUaRRLmIc0E1pn6KaWUvE0ZjGsvR4vPd\n",
       "lefMKxhmiImBYA6nOliMtgWtMIxkVYygHzAgZhUbOPMj8dLBXAhK2LXShGpM/RTTbk5mYIfzzY54\n",
       "mPpoMc0B5c5TBlIiHO+MNisJyrjmvXLVA8kxxsZMChUg0p7ZlmAxveVg6h9gGl5F3sMoFMfMMEwa\n",
       "CL0YwO0aI6igSHuCkvsvsTPaZxpZtGpRbqmhnjFE7DF//I/NQWOyxsreDCspkFB5rCWm0Q7IDIQU\n",
       "EW7T6um5IRrnIgTMVb3AD0BzEVC/Xi47o42nRmnUKwYYjDGIrrjeyfkWQkmB9Lk29Y8wjb3fqzlK\n",
       "MWtCUs+aKBj0sgaAra04yGU1ieiMNpdxY/xYSnO+YkAMMRCK4gRgLDqe1umTIAlcRl2m/jFmaORB\n",
       "JAnhSpBJw0QBbLAJnLr9kLQs42wiNocLrINFbI32lYI0WymcMsChiSG8DP/+FcTYVrpe7iX8OtM8\n",
       "IqqMtcb056CnXsVA44on2tiXincX/GA2KCleRtvwyn+Fv83cD6BsYpxdrZxDUzVbU64nRIW6TP0K\n",
       "U+fzJzwsDqcLJogmofHzsPen0YazotA4B03Tg/7C4YxRulpejsmeh7I6yQvqMvUrTNPvP3G6WB2m\n",
       "GxkhSQdmT80A6bRHz/bJtf2oR60xdTf4wFlW8gUBr946wsKJziau7TrEi5gHPv7NFDDLu4SvMMAa\n",
       "mJ3sEk4u8mrUq5jYw797jv3MnRB9L3UIvp9w5MH1nWbfnPqtrgX/3fMXXz0rkP556t8AAAAASUVO\n",
       "RK5CYII=\n",
       "\" style=\"display:inline;vertical-align:middle;\" /></a><br>"
      ],
      "text/plain": [
       "exp_complex_closure: forall_{a, b in Complex | (a != 0) or (b != 0)} (a^{b} in Complex)"
      ]
     },
     "execution_count": 16,
     "metadata": {},
     "output_type": "execute_result"
    }
   ],
   "source": [
    "exp_complex_closure = Forall(\n",
    "    (a, b),\n",
    "    InSet(Exp(a, b), Complex),\n",
    "    domain=Complex, \n",
    "    conditions=[Or(NotEquals(a, zero), NotEquals(b, zero))])"
   ]
  },
  {
   "cell_type": "markdown",
   "metadata": {},
   "source": [
    "### Closure theorems for sqrt and sqrd"
   ]
  },
  {
   "cell_type": "code",
   "execution_count": 17,
   "metadata": {},
   "outputs": [
    {
     "data": {
      "text/html": [
       "<strong id=\"sqrt_real_closure\"><a class=\"ProveItLink\" href=\"proofs/sqrt_real_closure/thm_proof.ipynb\">sqrt_real_closure</a> (conjecture without proof):<br></strong> <a class=\"ProveItLink\" href=\"../__pv_it/theorems/5ab493b1348b7ad70351a67ab31ce68c042362da0/theorem_expr.ipynb\"><img src=\"data:image/png;base64,iVBORw0KGgoAAAANSUhEUgAAALsAAAAaBAMAAAAd/jASAAAAMFBMVEX///8QEBCIiIhmZma6urrM\n",
       "zMxUVFQiIiJERETc3Nzu7u6qqqp2dnaYmJgyMjIAAAAcRTyBAAAAAXRSTlMAQObYZgAAAx1JREFU\n",
       "SMe1Vl1IFFEU/nZ2Z2d29kcfghIhNEGEKAYtUKgUAh+CaHvJgmAX+6FewsoQKkKkaDWMJaF6c0pI\n",
       "WCyXhEIIWrIH0YotgkIMVqEXg/LBwD+qc+/s/Kyu6+5CB/bOmTnnfvec75577gJFidi0uY+AouWY\n",
       "qfX/ZZLNxxUuGn7O1E5v7PS+WHRnhaF5Uht7SRrAzd8KhO/XzIXi64z+i5E/M72MfBWYzMw1Pxkz\n",
       "tcEs1oASFnt7KLN54CHLsLNA+HJTm8xilT0JdN4n5RotRXn64oWhe5YNTWmzs3K744YB3xAgpZ6+\n",
       "TcRiDwoM3l9qaL6k7Sx0aVb0DTIplfRbjESuF1o4KTv1fWOVHPeZZiMn3EzKEfpyBujOeirWncI3\n",
       "CWO+uVe7yK8Mv7h+3sa99zKrllAQOAjFXrsva07N6k7WQvrEabwwSoOdRxfrC0T9oyTjmKTTgt/a\n",
       "8YPXL7lIEAwClVd1ScGHiYpMePSdYWM7StLpSyojloISyLNRwyVO/fafJDr8W7WHKcNNbHckA+br\n",
       "aAwEP5VcA4++W7T2bzjSFRYgeM/jBRYasI1ZMqqbyNlz3Ijek2L9aaD6O1wsKAafsOCV2gtEIIZu\n",
       "QlyClE5TZuQoi8AneqzCO8+/ltrg5aeMgVCUhm7qSsoVcRkB6PB1qgU/GAxxRobmyEFKtxo3D7Qx\n",
       "iqs0cwXu1Ch7r7XBi+G96crBCO2PUxXbMMDhnWfbbVtbhxb+3J2k6B1peIEH2q/6WZpd+BLm6Upx\n",
       "qylg0k1Jf2RvJTTJERfCaIlEIhWC795nG3w5qhkRNXHGcEn6EnHxU+teZi0RT3acaOXflXOHzJYW\n",
       "lO+uQK8oPzkNR+Upza2T4z2pmfDKEnpjUMabMioHW3iprI6sOSnjelMwZdZQHNHQYfiCOvcTtq0t\n",
       "ExeSSj2Prsqse+zj48wmjVYxW5Or9fl+4A47Vh8SAwcs+OadVUkxqDP+TjXcj/LxtbpJa1pzGwrE\n",
       "vdVWc0x0812Uo7nhpWAOYy54JZVP55tGXvBeqqhIT4ZxJJ9bIecl5cxl9ObxP8ep4X/LP6PhxkjD\n",
       "kEgnAAAAAElFTkSuQmCC\n",
       "\" style=\"display:inline;vertical-align:middle;\" /></a><br>"
      ],
      "text/plain": [
       "sqrt_real_closure: forall_{a in Real | a >= 0} (sqrt(a) in Real)"
      ]
     },
     "execution_count": 17,
     "metadata": {},
     "output_type": "execute_result"
    }
   ],
   "source": [
    "sqrt_real_closure = Forall(\n",
    "    (a),\n",
    "    InSet(sqrt(a), Real),\n",
    "    domain=Real,\n",
    "    conditions=[greater_eq(a, zero)])"
   ]
  },
  {
   "cell_type": "code",
   "execution_count": 18,
   "metadata": {},
   "outputs": [
    {
     "data": {
      "text/html": [
       "<strong id=\"sqrt_real_pos_closure\"><a class=\"ProveItLink\" href=\"proofs/sqrt_real_pos_closure/thm_proof.ipynb\">sqrt_real_pos_closure</a> (conjecture without proof):<br></strong> <a class=\"ProveItLink\" href=\"../__pv_it/theorems/40840187c0b347a67394514b7cae11fd8324894e0/theorem_expr.ipynb\"><img src=\"data:image/png;base64,iVBORw0KGgoAAAANSUhEUgAAAKUAAAAbBAMAAADvxVLsAAAAMFBMVEX///8QEBCIiIhmZma6urrM\n",
       "zMxUVFQiIiJERETc3Nzu7u6qqqp2dnaYmJgyMjIAAAAcRTyBAAAAAXRSTlMAQObYZgAAAsJJREFU\n",
       "SMfFlU1oE0EUx192k0022UQPgqAYoqiIFxej2GKViOJJcXvRHoQs9eOoFT8C6iEHwU2lEjzU4sEu\n",
       "BBQCkmAPIggG9JSgRPBQSoW14KViEHrRCOqbiTs7Q7fpehAf7PIy8/Kbmf+89xbgP1kkFyjMxEcK\n",
       "yjzpOuovYl9XCCviEzYDMhddR+m7YcKEN8GQcsb1HsKqzKgN4BDnQ9/Yadv19i+fTF6yfn6c8JiS\n",
       "DtASDudrr1wnPuYzm4qbkYlxUDqddOcLSo5qTxHpi32ZG11Hq/vMxtQGFCfZPuEGLmOvEMtM7bre\n",
       "Y354tlBwXOZgymMOoB7NavV+320m17oef6cjO7l9DsY85mZ8vlnWzeUgjbt2h5NTHdq9gfqL/NnN\n",
       "ox7zBB78HEDJJ384wVy1pTbAoXKKprxS5piJy4seM28AHIa405eZIqVxhKQebm8TyPSvMe6O1hc+\n",
       "U6+3zHSORJL1mT3bcWZBZEYx46Q0OltwuAtRWgHDHbQ/d/RaH+cANWRq7SjLvxfZtqRBM6Nl92VZ\n",
       "fqeQ+WAXRqKcoSLUDDI4xefSnhG+QjBSdViLmH1eBWTOtUU9ydlrRUjiBmsNeEkHQzwz9iTjheeJ\n",
       "BKWz+Kps/wRhnVwEMhsCUyECyt9pJdfqcCFRFnoAMiPmXi+c3DvM4JniVyNdoImLzKwuMCWSn+oS\n",
       "zBNAJnlNc8uF1Sa0FIOFvyOvNbikrEfGoEIJ8vkr4h2FaR1dtK8TxUe3TW6lo49u2ayHGLG7P1j4\n",
       "AB3FyVBdMuGUZVkZSbv3nrR2TvV1VKaWLmbbsdsFx6/sFlgClGNzttI7e+K0LUYN0SOm7UDNNs66\n",
       "Q6icPw6a0dOz2RDDhskrsRSsgSfZxyM8+vQAwB2S828blYNimELbVikYM2qIvyXU0+84zl98Y+cD\n",
       "xs0ER67S3j1L5AIzZRv+if0GP+eoKNuQOy4AAAAASUVORK5CYII=\n",
       "\" style=\"display:inline;vertical-align:middle;\" /></a><br>"
      ],
      "text/plain": [
       "sqrt_real_pos_closure: forall_{a in RealPos} (sqrt(a) in RealPos)"
      ]
     },
     "execution_count": 18,
     "metadata": {},
     "output_type": "execute_result"
    }
   ],
   "source": [
    "sqrt_real_pos_closure = Forall(\n",
    "    (a),\n",
    "    InSet(sqrt(a), RealPos),\n",
    "    domain=RealPos)"
   ]
  },
  {
   "cell_type": "code",
   "execution_count": 19,
   "metadata": {},
   "outputs": [
    {
     "data": {
      "text/html": [
       "<strong id=\"sqrt_complex_closure\"><a class=\"ProveItLink\" href=\"proofs/sqrt_complex_closure/thm_proof.ipynb\">sqrt_complex_closure</a> (conjecture without proof):<br></strong> <a class=\"ProveItLink\" href=\"../__pv_it/theorems/3467dd1d97e64bb068d9297504cda73cc8dec6330/theorem_expr.ipynb\"><img src=\"data:image/png;base64,iVBORw0KGgoAAAANSUhEUgAAAIsAAAAaBAMAAAB1DbIqAAAAMFBMVEX///8QEBCIiIhmZma6urrM\n",
       "zMxUVFQiIiJERETc3Nzu7u6qqqp2dnaYmJgyMjIAAAAcRTyBAAAAAXRSTlMAQObYZgAAApNJREFU\n",
       "OMutVU9o02AUf02atPnWVA8eFGFuQzx4cAEvgnMO/9wUO2Q6QWgpikeHIhUnUkQ0xR0KHhwqLlqY\n",
       "UIUOh4fKDsPdHEJFRB0Tg+BlyJwMQTdF3/vaL0tG0uzgByG/vO/ll/f93p8ANF1KD4QuKdzlmABa\n",
       "519afj7RTCjNnABqk7BehbHIbQLdb+IVswBsAh8DHEYsgXb77u+48v2iAZIBMO2JfdWaEoAN+G33\n",
       "LUPpjwHaAsAw6ZcPoNksQGLMZ1dX8cyfMJRBgKQV4ET0SwI9cpvf53JcircRfFdFml1I+bJcvh0Q\n",
       "jL7eLxn92xvAoJMwjKgd7z9N83JQomy3NLem2klxJoRkmaMNdATtpwEKATRxoZlUwyrbBN94BRXF\n",
       "kSf3NVA6BbAfmO1+t2XoTLYBk1SfB6gy8HpQIw2Q21HOEDQjPeRC36qHObGzxvot5auoK5RPakXQ\n",
       "gddeC86RsXceF32Y5U82/CpIk6jFnBRUy6DfA5gQ0SDNnU70IWk2AvtBxuGVTlFd0Wg29V9p2xeI\n",
       "4ltw8BmahDZ0qEoedMwG+w0tC2SMODRvOA3Kmya5CqfQ6YKyBEmyznxYkUklieVfvGnYMqh21dNn\n",
       "8a0Io3Y9UzCOIcuGMgAl2ntedU0SqhttEWbp4Sq8y0wSGHT2u4esxyZSvKaHdcgZGZMycNw0zba7\n",
       "fa5Jwqv4rHWJbqMdJ7J8WoxeEw2rdG85j7muZ1BHa6UYn7H4UeWHeADBs4FXxbThLadDN3KeEoHP\n",
       "AkSK6cOQIGatKwUvhLmL56vVaj6VmNN60ezTPQA3CT6Zv54S5l5ej4shw01fNUUl1MZjUHnrF0Jo\n",
       "YqkQB2+bBK3ZUI/xNbAEDj1Xn67hPyVb8L/WP01JmrIDW1zIAAAAAElFTkSuQmCC\n",
       "\" style=\"display:inline;vertical-align:middle;\" /></a><br>"
      ],
      "text/plain": [
       "sqrt_complex_closure: forall_{a in Complex} (sqrt(a) in Complex)"
      ]
     },
     "execution_count": 19,
     "metadata": {},
     "output_type": "execute_result"
    }
   ],
   "source": [
    "sqrt_complex_closure = Forall(\n",
    "    (a),\n",
    "    InSet(sqrt(a), Complex),\n",
    "    domain=Complex)"
   ]
  },
  {
   "cell_type": "code",
   "execution_count": 20,
   "metadata": {},
   "outputs": [
    {
     "data": {
      "text/html": [
       "<strong id=\"sqrd_pos_closure\"><a class=\"ProveItLink\" href=\"proofs/sqrd_pos_closure/thm_proof.ipynb\">sqrd_pos_closure</a> (conjecture without proof):<br></strong> <a class=\"ProveItLink\" href=\"../__pv_it/theorems/527be01901093e993dd50863d1083a2a7661f42d0/theorem_expr.ipynb\"><img src=\"data:image/png;base64,iVBORw0KGgoAAAANSUhEUgAAAMEAAAAcCAMAAADvPCtfAAAAOVBMVEX///8oKCgUFBQNDQ0QEBCI\n",
       "iIhmZma6urrMzMxUVFQiIiJERETc3Nzu7u6qqqp2dnaYmJgyMjIAAAArQGDrAAAAAXRSTlMAQObY\n",
       "ZgAAAvdJREFUWMPVmImSojAQhrO7pHN0Tt7/YTcdAwRoEC10alKlI4wN+fr8UYifXBEQvPjFKzoh\n",
       "TP5VW9ZqdWgLgR7dixcx0wf5AwBmfWwLkBvVi1fB6YMyXyfITM6H0b9LIGL6MgBwYbcv5wJ2xkS/\n",
       "FFL6MJHjvB3hzCTZAXHMecDEEkiyjuEsxve2TmaL8CzxhC/ZrjEh7c7ksgZ6S80p9DYhOfxwEg1h\n",
       "d0rF8tLnKePi449hYiBs6Fwfw9eTSOcQAq5OJ7Rl5S0BuCXdewKggxQ9LWc/HII07KMy0uqRUHo2\n",
       "BoUAOQJZLzoiLRs/3YlmJzqIIAem6vy+FBuB6Zp/T6BqYE1NRLw+Gk9HUN2DjHLnEJzurIZyqzxy\n",
       "09Yd1EGwsMD1BHqkzSuo+Ac7ClaigSz5hrz3tK6JWey2AzO3E35IUwKfdPqOYKDC6IrUrYqrupMq\n",
       "QO6GgQ8RIJH6KPuJXl4ieHQMUgtiW7i2NU6o/+AGma59sq5VDIqL8aDT+wcBDeddHScMznvRCJJP\n",
       "lwjqnXwN7bZ55kYw4PyVLT4edFNQGo8aXCVwedZcHqTJc2o1BVgJIk8wG8z9fZKbdhNVNM1rsaoh\n",
       "dmIczQP0iRcfk7JFZx7V6a0uJ9dioxIAAEswG5ja0P6VV2pX2OaJwUYQ6nAVwV0RTg+C4mBgB59q\n",
       "uRqgJRHtU9vq2o4AjLGKL7jZ4PHV0Dlm2GxHNg+jJL1jBNe9beBVBY1bo8+GzCiXwS/JQtvqU7pb\n",
       "iYGT6YBgNqjuxam86GZb3T+5yxsptTOS68neoPJ7ZaepF+eREQ1zS0vt4uQ8TFTAZpVFQUfPESwG\n",
       "pLn+/mmai+1FYrjyKKMirlTFM+G3zbsya/SoqASjXtVBPKjkxUB02otE724eCLh/6vudm5SRQULd\n",
       "EIZposUcS11A5gg6g75ny8hIaT3cr7VOnzNlq4NLo5NQn7rY3K5+rX7PDg+eRZ7G/O4fVtK7eckS\n",
       "pAsODnArwPvPZO/vI6g7CX73z33L+g9q1SBIJv8/nQAAAABJRU5ErkJggg==\n",
       "\" style=\"display:inline;vertical-align:middle;\" /></a><br>"
      ],
      "text/plain": [
       "sqrd_pos_closure: forall_{a in Real | a != 0} (a^{2} in RealPos)"
      ]
     },
     "execution_count": 20,
     "metadata": {},
     "output_type": "execute_result"
    }
   ],
   "source": [
    "sqrd_pos_closure = Forall(\n",
    "    a,\n",
    "    InSet(Exp(a, two), RealPos), \n",
    "    domain=Real,\n",
    "    conditions=[NotEquals(a, zero)])"
   ]
  },
  {
   "cell_type": "markdown",
   "metadata": {},
   "source": [
    "### Theorems for the NumberRelation class"
   ]
  },
  {
   "cell_type": "code",
   "execution_count": 21,
   "metadata": {},
   "outputs": [
    {
     "data": {
      "text/html": [
       "<strong id=\"exp_eq\"><a class=\"ProveItLink\" href=\"proofs/exp_eq/thm_proof.ipynb\">exp_eq</a> (established theorem):<br></strong> <a class=\"ProveItLink\" href=\"../__pv_it/theorems/ff4ebf4cdfae4034bf1493eac02474f529b8576d0/theorem_expr.ipynb\"><img src=\"data:image/png;base64,iVBORw0KGgoAAAANSUhEUgAAANgAAAAXBAMAAACbsJy/AAAAMFBMVEX///8QEBCIiIhmZma6urrM\n",
       "zMxUVFQiIiJERETc3Nzu7u6qqqp2dnaYmJgyMjIAAAAcRTyBAAAAAXRSTlMAQObYZgAAAudJREFU\n",
       "SMe1Vk1oE0EU/pruJtnNpi2CB/USDYQSPZSKF7FSU2gRrG496EEwIZhDQUsOraiolB5kq1QWPFgK\n",
       "4uIvttoGRRRPS0s9VKkFBVFUFvxBhEoQBVsRnElnskk6sULig2XevHk738y8b75doIqmNvfowoGr\n",
       "kY9VA7nE2pt63BIuok9eRMAEHNp7W9mG+pmzGfuFCbVNchroBp7Q3peKwOpM5qxDRJhQk/EkgHFg\n",
       "mHSU/orAnvMdLmBoVJQwYfpfW9BCqCOnrGUqAjvOnTXy9znhzsx4J1lLA4Izo6MXK8JS0txr3xgW\n",
       "gknJuy2k+QD8NIyTFYF5msiqN3THJkWDV5qhrGX+FJACBleeUSo/5Ce7uY2XodP5yOxXau+pa++A\n",
       "J8vC74A2qE75mR4+PhrKzVg+xUcqPoNn1k7REWe2w8/p94DkwiM8aIxNteD6WRy0VwCraQUsGOIr\n",
       "iFWoD7FOnFBxzifMC54bsfDKRuBfwIBvZY5/EXHdBVOcfa56TW6JkCEpAp/VRlMPkJ7pgmnhvSn2\n",
       "ZiyBE+4xQv5RgLBUs0858XCwnoc7yDN4iKkXIZbV4yPr1OqtrpyOBe9wcVgCi3qdXq9BbAj2otzg\n",
       "EuQRYUFUyJ4EzsAlCO6luXpBxjyNjnSgUSWERmCsGEyv4+VVrqU9rPBaE6Rf/qwirHxtQvrN/W3k\n",
       "oQVcUi9iCyyclI8ZxoByXy8CQ72Zn8X2ssJLaajJaFgs5moyvMB9WqigxdWLbC0r03AvViMHvjVE\n",
       "meaCxaF7aT3m4Wut0UvlSiz5/GKp6UL1GrYua45GGvRJWUzT+IVpqp8cTMnOwua3S99TKsQi68FE\n",
       "K3O1UKF6dWVuvJicIQ3aGx34KcnU2c8p9xjVI7s2Wfk3zudJYJYHO4UB7o4XjzDxz6gmZVijMVDA\n",
       "qtJZbmFo2cdTYLFw/kehWBQDJmu89u5lFC4NHJacZb8Ff7Vg8f6DvJHe2CuCdT7Ff7PaakzyByTo\n",
       "xMrlBHMOAAAAAElFTkSuQmCC\n",
       "\" style=\"display:inline;vertical-align:middle;\" /></a><br>"
      ],
      "text/plain": [
       "exp_eq: forall_{a, x, y in Complex | x = y} (x^{a} = y^{a})"
      ]
     },
     "execution_count": 21,
     "metadata": {},
     "output_type": "execute_result"
    }
   ],
   "source": [
    "# Note: does allow 0^0 = 0^0 where both sides are undefined.  That's okay -- \"same\" nonsense is\n",
    "# equal in Prove-It.\n",
    "exp_eq = Forall((a, x, y), Equals(Exp(x, a), Exp(y, a)), condition=Equals(x, y), domain=Complex)"
   ]
  },
  {
   "cell_type": "code",
   "execution_count": 22,
   "metadata": {},
   "outputs": [
    {
     "data": {
      "text/html": [
       "<strong id=\"exp_neq\"><a class=\"ProveItLink\" href=\"proofs/exp_neq/thm_proof.ipynb\">exp_neq</a> (conjecture without proof):<br></strong> <a class=\"ProveItLink\" href=\"../__pv_it/theorems/2b52d062a35b5c319cc1aaffd885652d2e1426e40/theorem_expr.ipynb\"><img src=\"data:image/png;base64,iVBORw0KGgoAAAANSUhEUgAAAPsAAAAXCAMAAAD6KsltAAAAPFBMVEX///8kJCQoKCgUFBQNDQ0Q\n",
       "EBCIiIhmZma6urrMzMxUVFQiIiJERETc3Nzu7u6qqqp2dnaYmJgyMjIAAAChkoCbAAAAAXRSTlMA\n",
       "QObYZgAAA1ZJREFUWMPVWAlu3DAMVNuYui/7/38tKa9tHfSuArSAIyABFFMUz+EoQvzkFSSYVf8/\n",
       "+QctnztXrBZ6C4xkCqzrp3z0tF/PLzk/Pcuu+4OUQmjLBWllFVTyhpxP8fiyhof7vvruDwvaDoaR\n",
       "NIpVUMkHio4/gundw13Psq+DDYPhchhyduNKI5+gSvdVAA9d1g959Ni+amxVcwNntXxYKJwp0PL2\n",
       "6UA3GqgMRJB5Mu2d/Ep9sTlaNj3cd3iVfAAwXkGpWX65Ju0BJIn6pWuNJM8Kcf6fWKjeAvUMmBc/\n",
       "EwypcK9axQ/ZgrAjlKe1rN9f9PsEhyQUlTdsPXyQAiUP3PvuihackWudgXeAKSdYRZHJ6F/s8dvG\n",
       "c3InnNHKz6XdRyHJN+cG44tWCsu3hnuISVLfAEYVrYEp372ZaOoiY0srdlWyqLMu3LsIa9PX0UL2\n",
       "bX2P6FIIKe/+z08bF32ZFMX3HPKU726i5ItM2PRrGDO+C86PRkVfEIqiqDfN+o4s6AhWS3gTSA3H\n",
       "wFCFFdjwapIdf3bfE+97c1yo1KlhLtxlNM1hYTNb84Lzo+r3X8ve9Vf2S8nDMiCTfYXqRYRaggxB\n",
       "mHUvwIIZ+EEvDQ0uvkspWd/P46YMki/8ybWa5sJaZrfAAot1MeywBWGS/Alnjl8j1qE+aTmCjNFd\n",
       "z+D7QIECR6mqfJfGWMVjXXNcQOzUMBe+ZPa8L8DMJCzgKNw2PmvObMoRPg0dG+RlahtoIMibb4UN\n",
       "kK0lRw5K3j1kdYvz1/HrHXKoGS88ZPZ+3xRXo8EA4MS+fXcxjxI6IrehHI5Oy4EnyIQHZ29Rfhfa\n",
       "mabmo64fjK6HEzxgsP3+/KYmzLWa5sJGhsV5htMyU1fejM51fM/eEV6PgOs3RA9q0LLDuzWWTqk+\n",
       "3fR74rHuOt7Ot0NNUVoz7EuGKFw0H98yc2lHzMEYD5xr4IUn4dVYjMFkhfwq7Lvy0e3hc/GgB2lN\n",
       "2P9VVF1Vasfxdr4daorSmmFXMpCSnJheY9oZYk7zwg1D8S2Xi/0u+BNrEav2fmfs+2RTpSZ+tPvD\n",
       "/y5m0o5DFRhC+S6O0fc7g8T4M/HlzavOXWraK8QEqfafyKeaZmfvSigPO5XTxFOP9T1XGb7U5FuZ\n",
       "H7rkD7L1L2dkK59CprHfAAAAAElFTkSuQmCC\n",
       "\" style=\"display:inline;vertical-align:middle;\" /></a><br>"
      ],
      "text/plain": [
       "exp_neq: forall_{a, x, y in Real | x != y, a != 0} (x^{a} != y^{a})"
      ]
     },
     "execution_count": 22,
     "metadata": {},
     "output_type": "execute_result"
    }
   ],
   "source": [
    "# Note: this does not necessarily extend to the complex domain where\n",
    "# exponentiation can have periodicity (e.g., exp(2 pi i )).\n",
    "# ACTUALLY, this is a problem even for reals. For example, \n",
    "# (-1)≠1 but (-1)^2 = 1^2, so this needs more careful thought — HC 9/28/20\n",
    "exp_neq = Forall((a, x, y), NotEquals(Exp(x, a), Exp(y, a)), \n",
    "                 conditions=[NotEquals(x, y), NotEquals(a, zero)], domain=Real)"
   ]
  },
  {
   "cell_type": "code",
   "execution_count": 23,
   "metadata": {},
   "outputs": [
    {
     "data": {
      "text/html": [
       "<strong id=\"exp_pos_less\"><a class=\"ProveItLink\" href=\"proofs/exp_pos_less/thm_proof.ipynb\">exp_pos_less</a> (conjecture without proof):<br></strong> <a class=\"ProveItLink\" href=\"../__pv_it/theorems/0a2fea16a11c6ca9b42a979323996c436c26a06b0/theorem_expr.ipynb\"><img src=\"data:image/png;base64,iVBORw0KGgoAAAANSUhEUgAAAREAAAAXBAMAAADelGYUAAAAMFBMVEX///8QEBCIiIhmZma6urrM\n",
       "zMxUVFQiIiJERETc3Nzu7u6qqqp2dnaYmJgyMjIAAAAcRTyBAAAAAXRSTlMAQObYZgAAA4VJREFU\n",
       "SMe9Vk1oE0EUftnsZpPNJunFQ+llaSCWChos9Q+tRaHFg/252B6ESv2hvRQP7UEQKWjLVhFWD7Uo\n",
       "4kqgQigYFGwrUkIuQpS6YKFaqoSiF6UQpAVbL87PzuwmTbSC6Rx23rz9dubbN9+8NwA71ZT9Ax3/\n",
       "4v//7aHdP+noMUu9J/5ZZOTw6FMFQzFsGw3QVRJA/D4D4A0efasck7BhGzUQKwkgfgUFZAINAsOV\n",
       "Y/KexWYDbie5d45Lw/ZnEGe0eWqqckyuMKNaWrOYvXjYAVD/Y4BQNpm8VzkigcvMatkTZUx2Z10I\n",
       "6g83A/zU9auVYyLE0QbU9p/IuDT8WrONqAZ37POkItxFgLFtTNlM5s2kt7c+x/nR/07BonbNIXKQ\n",
       "hUYVq2CfbYeQZE8S4ZZp03XnV6hFRL0ML8hgxkGIBUkiQJXIcAAykmAW3pmnOGSAi/KBNwe6bQfR\n",
       "LsogWKUzwasGS1AhqzlMBiGCF57TOEgaLfymz3DhUPOgWJp8PYxwmJgeDX6wefIoRpZcOh4fZpOA\n",
       "mCxZnImyDh40z2eHeaDPKFLoqMFxjAnw9QiC7w60m9K6i0kgdwZZidhX7Mg0xlB8xRjIphjHG46Y\n",
       "pDkTaQNkC/ZaHKkcYmheQKTrpo3juwN8vULFQhMIVWyT8Rkbu4DeDkmbeGFzQEY/oUbMTggDZdIQ\n",
       "d5hsgqy1kr8lSGUe/zFBO4VFXKE4R7EvhTzUu7mwUzwK/nMuxcJzRMcblzApCVax+34r1EGCLOi9\n",
       "NAjumHi0qRvAkJ0WR7sKS6ia4PjpFH/584FCKdqZ7QC0M78XRz6CPvKkBMpugzyPQi906bquCerd\n",
       "BXDrJNIMU7cYUv3C0a7CMqdRHIu60lsfLS6xNNtP1h5nMgtjRwjF9KnhXzKJcCSq/V3go7sTPGsW\n",
       "nx3hO0MmRhjaKSxtWffZcbJ9ydbE7wbM8Bg9p2HCfKTmVNTBkJgHtYPqJOsoFqI0T4RWgSABxnFS\n",
       "xOjATbuAdB9xcO4KWKL5csoas3kOFnufHYPO1ORCJos6aKlDAsKbMD2fTjQ5TIS3VL5BkyBRm+gH\n",
       "gpZqaAEZ73fjsGSNskxky89OUXFytXNASjGw5AWkE+dduYtDt0HRQZoWRsrelLY2sbaxDN+gYXe+\n",
       "dNuWz8pPSNGzf7s9/rF9LByGWCcup8szmUFnSncXG4q2duxqHq/0Ar8BsOoNGtqP2/gAAAAASUVO\n",
       "RK5CYII=\n",
       "\" style=\"display:inline;vertical-align:middle;\" /></a><br>"
      ],
      "text/plain": [
       "exp_pos_less: forall_{a, x, y in Real | 0 <= x < y, a > 0} (x^{a} < y^{a})"
      ]
     },
     "execution_count": 23,
     "metadata": {},
     "output_type": "execute_result"
    }
   ],
   "source": [
    "exp_pos_less = Forall((a, x, y), Less(Exp(x, a), Exp(y, a)), \n",
    "                             conditions=[number_ordering(LessEq(zero, x), Less(x, y)),\n",
    "                                         greater(a, zero)], domain=Real)"
   ]
  },
  {
   "cell_type": "code",
   "execution_count": 24,
   "metadata": {},
   "outputs": [
    {
     "data": {
      "text/html": [
       "<strong id=\"exp_nonneg_less\"><a class=\"ProveItLink\" href=\"proofs/exp_nonneg_less/thm_proof.ipynb\">exp_nonneg_less</a> (conjecture without proof):<br></strong> <a class=\"ProveItLink\" href=\"../__pv_it/theorems/f0dc308ff82cc6fe333f3a2e046ccf92a3c12ad10/theorem_expr.ipynb\"><img src=\"data:image/png;base64,iVBORw0KGgoAAAANSUhEUgAAAREAAAAXBAMAAADelGYUAAAAMFBMVEX///8QEBCIiIhmZma6urrM\n",
       "zMxUVFQiIiJERETc3Nzu7u6qqqp2dnaYmJgyMjIAAAAcRTyBAAAAAXRSTlMAQObYZgAAA41JREFU\n",
       "SMe9Vk1oE0EUftns5mezTXrxIL2EBmKooMFSraA1KFQ82KYX24NQqVbspXhoEUGkh7akFSUq1KKI\n",
       "K4EKoWBQUCoiIRclSl2wUC0VgihCQQjSgq0X52dnZjdNbQuu75D55uXbnW/fvPdmAP6Xqfv6k9vx\n",
       "/3u7b46Pkt16tf+JfwaBEp59djAUQyZohM6qBOL3pAHe4tmSc0qCaRPUQVR4d4kNIX4VBWQSTfxD\n",
       "zin5wGKzCtezDL8Oi5hRfwFpRpun5ZxTcpmBncqyQZH/gGEhUP9DgJpiNnvHOSH+iwy17o5QAf5+\n",
       "24dTfzAB8CuVuuKcEimONqC+72iBe5QbCbYxkTDcNOtJQ7xegLEtvJI8LhXyW1uf83zoe6dhPnyV\n",
       "/5fiyarJtbDXxDUoZY+RxN3AnsfOfqGIJPUiPCMTWXQG2dYk5D6w8gC8aCeK8F4/IcqmgaF77hKk\n",
       "TBxAu+gFyajeCV42GpIGxbBQMgAhvLAyKmI9an/odq+Fh8yFYqnz9YjNF02gu8Lwk72njGJkeKvH\n",
       "4+NMFpCSBYMrUVfAhb7RfyHNE1JAJmWE85gS4OtRe3XQBO26smJR4i+dQigT/YYdhaYo2kY5Cl5d\n",
       "juMNR0ryXImyCl4D1OYkYxJI2OIAmR42eXx3gK9nWlsvHVtAqmXbimts7Bx6y6CyhhfW+73oI7SQ\n",
       "3gFBoEoa40LJGnjD6myCMSkkbMvBMr1EeCJjX0hlaLBJ6Romwyj4zlgyFp4iOe64gkUp8AO77x6H\n",
       "GGSIEvf5AbDGxBXuIF9LmBQStuVg2WMQHq9O+bev7K9IxQlSQPuhnfndOPIh9JArJ1F1q+T3EPRA\n",
       "ZyqVCkvarTmw5kkooX0FxjQhZvODRY3lKI9HXe1piFQ/Yqfqj7A0C2JpNSimj9O+BVIVZYXm/g7w\n",
       "0N0JnNYraiczAoxJIWazA0R9k7DVjuj2Va2F3w0YcKW7T8Kk/kAraWiAQbkMWpLmSVFkLERIn5hA\n",
       "nZAwKSRs/zg5QNTmhODZTsAq5impywzzHiz3PDkMHbmpuUIRDdAaQwl0DXe22XymRSiR3pH0newD\n",
       "wqSQsJU6coAotIGaPJKyFWWufr+EDfO8ho+dyZXN1ewBOTWNU15CeSL+s10cutIWSNmBzW5K602u\n",
       "b9pAbyBtDp5827rHNn4hZc9sdnv8q32yT2vYIC/mt6GEsmk5BlDBpcadvRjHnb55/wFzKQ5ifgAy\n",
       "6gAAAABJRU5ErkJggg==\n",
       "\" style=\"display:inline;vertical-align:middle;\" /></a><br>"
      ],
      "text/plain": [
       "exp_nonneg_less: forall_{a, x, y in Real | 0 < x < y, a >= 0} (x^{a} <= y^{a})"
      ]
     },
     "execution_count": 24,
     "metadata": {},
     "output_type": "execute_result"
    }
   ],
   "source": [
    "exp_nonneg_less = Forall((a, x, y), LessEq(Exp(x, a), Exp(y, a)), \n",
    "                         conditions=[number_ordering(Less(zero, x), Less(x, y)), \n",
    "                                     greater_eq(a, zero)], domain=Real)"
   ]
  },
  {
   "cell_type": "code",
   "execution_count": 25,
   "metadata": {},
   "outputs": [
    {
     "data": {
      "text/html": [
       "<strong id=\"exp_neg_less\"><a class=\"ProveItLink\" href=\"proofs/exp_neg_less/thm_proof.ipynb\">exp_neg_less</a> (conjecture without proof):<br></strong> <a class=\"ProveItLink\" href=\"../__pv_it/theorems/68c69af93a49871739862f6793e5ef05ea0e72670/theorem_expr.ipynb\"><img src=\"data:image/png;base64,iVBORw0KGgoAAAANSUhEUgAAAREAAAAXBAMAAADelGYUAAAAMFBMVEX///8QEBCIiIhmZma6urrM\n",
       "zMxUVFQiIiJERETc3Nzu7u6qqqp2dnaYmJgyMjIAAAAcRTyBAAAAAXRSTlMAQObYZgAAA3VJREFU\n",
       "SMe9Vk1oE0EU/rrZzc9mm4DgQYsQDYRSL6FF8KAlVqgoKOnF9iA0xB/spRRtD0IrRbAkirAoaBHE\n",
       "1UALodCgoFQ8hByj1IAFtVQIUi+KEMSCqQjOzuzsbNpo6iGdw86b2W93v33ve+8NsF0jE/lcd1/t\n",
       "HI5vD4MH1gfHlPW692fjgwYWiFE2Vx+bR0SdZLMrqozUBXShH3DrwCtz9aV5TAI6m1tyUqIuoA0R\n",
       "wpc4ZJosfJPNY/LWmud177LBN/1CMmoVt7JAgXAmt7Vc85hcseYWffAk32u9rAvALuVHCXhEdovZ\n",
       "7L3mEfFxccjJJ4ctUxo3HIje/WHCJBADfqZS481jIkWBx53w7RZbc5d4YPYN9RQsWyO480B6C6+M\n",
       "0fcW8lv7vo3zkv/NH4FUEXVlwqaEd6GrPGBEskepcP8ynref/cQsKuoVPGOuFu6VjU0PnbBxgCcH\n",
       "X64bXjsn3F9tXBFvjONcwySKHkil+pXgZVdJ0lAMCSajCJofVqZskMPkYyDBcaZQY1CxA8EQvzsj\n",
       "mBhIifcQp2klT31/vF/IgjBZLtlM1DVSFogKL9rSd5h83E1znMUE8joGRUG/MyGw32uY+MqnRVco\n",
       "HIiQZ+QIPIYcNQNOmORtJkoVnhLUg3GOpCZF2w0kc53jeHTgKmMv6igWypoIsplj6XN2V5CMYQ/5\n",
       "CS1o9CEAxqQrKpiswxNSF2McyUyK5g1kbpXjhGK9CdTEkGfxC6LjDodi8XTE7goKvpnb94+hHRn6\n",
       "kOvCKJw+aQn10b+lSGZStNVAlD3gOJGdroT8uyaArLLJv7wVH5eoy/S8qSa7K1Tp9RCS6E+lUiFJ\n",
       "u70Ep06CMW0VHGmZJpo3EOolihNeV5Phaq2WaLVXkx1hu/UGzIi3GqIrKBWF5chOuFl0/GeMDblj\n",
       "KsFCMtNE8wbCRCRyh1V7V7lRBZqFsytMGw+1skYmjMkVaHGmk6JQLMK0TpDsAEUyk6J9N6wGQrMp\n",
       "bNcTswMOYz7WiEkBzq7Ql5tZKhTJhN528hM3zcq2mM90CybSayrf6SFQJDMpWmmzGgh8UzrHUcnq\n",
       "mMC1hqeYDU6zakBO1U3JS0Qn4l7NwWFAd5gM7RelIb3hpNQTbng89NaWJb9uTe78qU3Yvx9hGHqh\n",
       "wenx3+ND7bKVT/JK/j+YMHRp247m0WZ/4A97GAv1vDqIJAAAAABJRU5ErkJggg==\n",
       "\" style=\"display:inline;vertical-align:middle;\" /></a><br>"
      ],
      "text/plain": [
       "exp_neg_less: forall_{a, x, y in Real | 0 < x < y, a < 0} (y^{a} < x^{a})"
      ]
     },
     "execution_count": 25,
     "metadata": {},
     "output_type": "execute_result"
    }
   ],
   "source": [
    "exp_neg_less = Forall((a, x, y), Less(Exp(y, a), Exp(x, a)), \n",
    "                      conditions=[number_ordering(Less(zero, x), Less(x, y)),\n",
    "                                  Less(a, zero)], domain=Real)"
   ]
  },
  {
   "cell_type": "code",
   "execution_count": 26,
   "metadata": {},
   "outputs": [
    {
     "data": {
      "text/html": [
       "<strong id=\"exp_nonpos_less\"><a class=\"ProveItLink\" href=\"proofs/exp_nonpos_less/thm_proof.ipynb\">exp_nonpos_less</a> (conjecture without proof):<br></strong> <a class=\"ProveItLink\" href=\"../__pv_it/theorems/b2dc8ed23a4a5f1f0a5a8ce9bb4b5a4004e3dfc30/theorem_expr.ipynb\"><img src=\"data:image/png;base64,iVBORw0KGgoAAAANSUhEUgAAAREAAAAXBAMAAADelGYUAAAAMFBMVEX///8QEBCIiIhmZma6urrM\n",
       "zMxUVFQiIiJERETc3Nzu7u6qqqp2dnaYmJgyMjIAAAAcRTyBAAAAAXRSTlMAQObYZgAAA4RJREFU\n",
       "SMe9Vk1oE0EYfd3sNslm24LgQXuJBkqpIMEieFCJChUPSnqxPQgt0YpeipQWEasUoRIVYVGoRRBX\n",
       "AxaKaFBQKh5CTiWKBhT8oUqoPwelEMSCqQjO/25iauohziHzsvN29s03b75vgP/VUm2fqj43Nw3G\n",
       "/4+Ca+KDI8ZS1fGpeJ+DGQIK9N+7+gkxx3jvixrHqhI60QM02sAT+u9L/ZQ027xvSGv96qE24hJa\n",
       "0Ub0koBMkj/BsfopeSH6u3bgrSPw7SFPzEq4OA1kiWYybKXrp+SE6Bvsvr0CXj7lJawxvueBG0BT\n",
       "bnr6Sv2EBKU59MS9bRxNfC1jdG2IECXNMeBHMjlaPyVaFLi5CcG16knvR7Ux64/uzApsEd4AcG4F\n",
       "U8bYvNnMyr6veAGy3swOaEU5FBhXrNt4FT4tcBOx7C5m3GXaw/aD8xwxU8/hAQ+1oxgeKFpoTPEA\n",
       "fxrB9HYE1JnQhtQLOTx39siXyC76oeWrZ4LHnXnNQi7sKhlGC53HOKtIHijnnFc8atQYTKxCS1iN\n",
       "N41KKQ6S7jwkaFbeXz0er2emQZS8zSsl5iJJC8SFR2xlSBfKDy0onlACfQl9noQe+qDe+VamJFjY\n",
       "71aF7OY28o7eBr+jR2ksiZKMUmKU4M/D3BKXTAYZWxYQbUHx5O7AV8A6r1j9s9BlLLrP6Bk7d0hV\n",
       "Bc0Z9JNFWC1ON5rBlXRGXSVL8IfNZzHJ5JCxRQHRT0LyXMcG+lG+h0aS+f8R8XGHx7G4f0xVBQN0\n",
       "Sbi6G+1IMSW+w8PwxqQh3M1Wy5gcMrYoIOZsTPLc0+nr139VZJkBGoafgWJQWtRHI0/dpKpCif1u\n",
       "RQI9yWQyrFmXXsLrk5aYJfIBYQpI2aqAzKYFz426mYiUqp2IREdEld5mumFNjlsVjKLBz8hqNPLd\n",
       "CR1wKs5OahySySFlqwKCjWnv2eHZ3leolYGm4K0Kk851q2CRDiN6EVac+yTnOhYRlicmSCZkTA4Z\n",
       "O3heFBDgfV7wZAUcxN1YLSVZeKtCd/rWy2yOdOhqJ4u4QDPbs0xqu6tEe8rsO3kUjMkhYxutooBQ\n",
       "J0oes6yNUzjjfvLOcdpGKneqImgiB6RNm1peIz5xx8ouDr22B3J2aPmb0s5IzethoDwthWzRNWb2\n",
       "/cFd/grD2TM1bo9/b28q0qPs9LnMPyjhbL4xIXLgkufrezGO1vvm/RsYlhGGitxXUwAAAABJRU5E\n",
       "rkJggg==\n",
       "\" style=\"display:inline;vertical-align:middle;\" /></a><br>"
      ],
      "text/plain": [
       "exp_nonpos_less: forall_{a, x, y in Real | 0 < x < y, a <= 0} (y^{a} <= x^{a})"
      ]
     },
     "execution_count": 26,
     "metadata": {},
     "output_type": "execute_result"
    }
   ],
   "source": [
    "exp_nonpos_less = Forall((a, x, y), LessEq(Exp(y, a), Exp(x, a)), \n",
    "                         conditions=[number_ordering(Less(zero, x), Less(x, y)),\n",
    "                                     LessEq(a, zero)], domain=Real)"
   ]
  },
  {
   "cell_type": "code",
   "execution_count": 27,
   "metadata": {},
   "outputs": [
    {
     "data": {
      "text/html": [
       "<strong id=\"exp_pos_lesseq\"><a class=\"ProveItLink\" href=\"proofs/exp_pos_lesseq/thm_proof.ipynb\">exp_pos_lesseq</a> (conjecture without proof):<br></strong> <a class=\"ProveItLink\" href=\"../__pv_it/theorems/98c8d605dcec22c11086ef95ebe3a922c2ec286c0/theorem_expr.ipynb\"><img src=\"data:image/png;base64,iVBORw0KGgoAAAANSUhEUgAAAREAAAAXBAMAAADelGYUAAAAMFBMVEX///8QEBCIiIhmZma6urrM\n",
       "zMxUVFQiIiJERETc3Nzu7u6qqqp2dnaYmJgyMjIAAAAcRTyBAAAAAXRSTlMAQObYZgAAA4RJREFU\n",
       "SMe9Vl1IFFEUPjs7s7M/s64vPYgvgwubGNSSWBRlUqD0kD8v6UNgWEa+SA9KBBFCJWNRTD2YFNGE\n",
       "YLAILQWpEbLsS7BFDSRYYrIIERTCEgppL92fuffOrrtl0Hoe9n5z9pu53z3n3HsuwHZZcG9/+7/4\n",
       "/789dMYn7d1Wsf+JfwaBLH76XMZQDDmgHjqLEojfZwK8wU/fyqekwnRANcSEd6dICPEHUUDG0ENg\n",
       "qHxKPrDYrMOtBMOvdREz6k8jzSh5WrJ8Si4xUKWs2hQF9tsuAvU/BghnEol75RMSuMBQ864oFRDo\n",
       "z1s49Vc0Afw0jMvlUyLFUQJq+o6muUe53cQSE9XhjrOfNMTrBRjZwifJ61I6tbX5Oc+P1jsJ8/oV\n",
       "/p/Bi1WTK2GPg8OoZI+Rwi1hU7VnlikiRb0IL8jDtGBM5yeDTsN4ACrKRAbeW8fFtqlj6IE3C4aD\n",
       "QyiLKkh28ZPgVb0taZDRhZIBiOBozorSd0HyznnTxUPmQbG0+HzE5jMOsDw6/GA5y6EY2WrxeHyc\n",
       "SQBSsmBzJcE18KA1LgnlS4WLCAybnMeUAJ/PUX/AAW2WsuZSEsieRGg89gU70g0xFF85Bqolx3HC\n",
       "kZIUV6Ksg2rDbpszCSRs3kCUq5bD49kBPp9jrb10bASp0nHJeI+NnEVfGVQ28MRWv4oWoUWsDqgA\n",
       "qqQ+LpRsgKq3kNUSJoWELRqLvEx5omJfSjmoy5PSdY0Mw+A/7apYeI7keOMKFqXACnbfb4FaGCcT\n",
       "es8NgDsmHn2SfIUwKSRsV2MJVxEe353yL38uUJDFUVLZ+6CN+b048hH0kicpUXXr5PcQ9ECnYRi6\n",
       "pN2dA3edRJpg8iZnUojZrsYyq1Mei3qwpy5avMVO1BxhXakCSwujmD41/QsWKRyF1v4O8NHshE5Z\n",
       "hXtH+s6ZBGK2aCytGffeEad9UWvkdwMGPGb3CRizHmlZDQ0wKOdAa6d1khEVC1F6ToRXgDApJOzA\n",
       "DaeBdB0UPHcHLGK+bHCVYX4Gyz3PDkNHcmIunUEDNNeiAsKRn3qXGm8USqS3tHxDFmFSSNhKNW0g\n",
       "o31uHi5Zs+CU+noRG16mavvZaVR4uDpnQDJo4pKXUJ2I/0pfHCg7RI+F6yVvSptNrmkooTdkOoMv\n",
       "1brptdIfpOyZv90e/2if8h/DbJAXU6WVTKM9ZVguSNn2tl3N4+We4DcVMxJ+A3uHiQAAAABJRU5E\n",
       "rkJggg==\n",
       "\" style=\"display:inline;vertical-align:middle;\" /></a><br>"
      ],
      "text/plain": [
       "exp_pos_lesseq: forall_{a, x, y in Real | 0 <= x <= y, a > 0} (x^{a} <= y^{a})"
      ]
     },
     "execution_count": 27,
     "metadata": {},
     "output_type": "execute_result"
    }
   ],
   "source": [
    "exp_pos_lesseq = Forall((a, x, y), LessEq(Exp(x, a), Exp(y, a)), \n",
    "                             conditions=[number_ordering(LessEq(zero, x), LessEq(x, y)),\n",
    "                                         greater(a, zero)], domain=Real)"
   ]
  },
  {
   "cell_type": "code",
   "execution_count": 28,
   "metadata": {},
   "outputs": [
    {
     "data": {
      "text/html": [
       "<strong id=\"exp_nonneg_lesseq\"><a class=\"ProveItLink\" href=\"proofs/exp_nonneg_lesseq/thm_proof.ipynb\">exp_nonneg_lesseq</a> (conjecture without proof):<br></strong> <a class=\"ProveItLink\" href=\"../__pv_it/theorems/5f5f5b93bbbfbdd704111dfdcab3e4e30cc606050/theorem_expr.ipynb\"><img src=\"data:image/png;base64,iVBORw0KGgoAAAANSUhEUgAAAREAAAAXBAMAAADelGYUAAAAMFBMVEX///8QEBCIiIhmZma6urrM\n",
       "zMxUVFQiIiJERETc3Nzu7u6qqqp2dnaYmJgyMjIAAAAcRTyBAAAAAXRSTlMAQObYZgAAA5lJREFU\n",
       "SMe9Vk9IFFEY/3Z2Zv/Mzq5eOoSXwYVtMbAlsQzKlgKlQ7pe0kNgWEZepIMSQYQHldUotgSTIppY\n",
       "MFgWWgpSI2LZS7GFDSRUYrFEERjBEgppl96feW9m1zUNmr7DvO9985t5v/f9ew/gf4m8tz/2N/Z/\n",
       "L3eM8X6sW6v0ntjnkFLAsw82umLIUBqgsyKA2F0JgJd4tmwfk0DCUGogZFp3mQEhdhk5ZApNvEP2\n",
       "MXnDfLMGV1NMf66aPqP2HOKMgqdk7GNykSk7pRWdat79ugVA7fcA/PlU6qZ9RLznmdayO0gJePtL\n",
       "Nk7tgSjAz3j8kn1MhAgKQG3fkRy3SNeiLDBBFa4b9aQgXC/A2DZ+ST4Xctntrc9xHrTfNLxVL/N3\n",
       "cZ6silgNewzdj1L2KEncTWQmfPoT1UhSL8FjMhHNzjBbghf7wIoDcKNI5OG1dswsmzqm3XYWIG7o\n",
       "PhRFNwh65U7wtEEXFMirJpMBqMIcpFEOeqaWfjTRa8EhcSBfanw9Im/zhqI5VPjBYlZEPtLdlf3x\n",
       "bi4FiMmizpnIq+BAe/SeYz0CPm7YxMQIxzEmwNcz2B8wlHZNWrUw8RZOIC0Z+oINucYQCqMYArcm\n",
       "RnDAEZMsZyKtgVsHuSnGkPWYCEGbB0h62MDx6ABfz5C2Xjo2g1DNwoprbOwM+sugtI4X1vrdaBNK\n",
       "ldYBAaBMGiImk3Vwq/J8lCFbycYJ2nKwpJcJzszYJ0IR6kqodA2TYRQ8pywZC48QHWdEwqQk+I7N\n",
       "t1ohDEnCxHl2AKw+cagdZLcEmR7maMvBUq8THK9O8Zen6C2L4iQpoH3QzuxO7Pkq9JEjI1B2a+R5\n",
       "EHqgMx6Pq4JyYwGseVIVVT4DR6avMDQ/WORwhuK41+WeumDlI3a69jDLuACm5kc+fZDwLJKqKEo0\n",
       "93eAi0bHd1Irq53kCHCk8M1AswNEfhEtqR2z21eUZn43YIoj0X0cprS7SkFBAwyKRVBiNE/yZsZC\n",
       "kPSJSdQJCRJvAwUJo73j5ACRm6ImruQErCCugrzCdN6DxZ6Hh6AjM72Qy6MBWsIogbDnZ+azyWaT\n",
       "ifCKpO9UHxAkaUkaQUs15ACRaAM1cCRlE2Vd6usFLBjn1j2sG5U3V6MHZOQETnkB5Yn5ruTi0GX9\n",
       "PUX7tropbRSxtnETvr6EMbiybRs+2/yHFD231e3xj/K+dOpng7iU3RaTWVRecY2iaTn6sGXc3otx\n",
       "xO6b92+jQhHxLo/pKQAAAABJRU5ErkJggg==\n",
       "\" style=\"display:inline;vertical-align:middle;\" /></a><br>"
      ],
      "text/plain": [
       "exp_nonneg_lesseq: forall_{a, x, y in Real | 0 < x <= y, a >= 0} (x^{a} <= y^{a})"
      ]
     },
     "execution_count": 28,
     "metadata": {},
     "output_type": "execute_result"
    }
   ],
   "source": [
    "exp_nonneg_lesseq = Forall((a, x, y), LessEq(Exp(x, a), Exp(y, a)), \n",
    "                           conditions=[number_ordering(Less(zero, x), LessEq(x, y)),\n",
    "                                       greater_eq(a, zero)], domain=Real)"
   ]
  },
  {
   "cell_type": "code",
   "execution_count": 29,
   "metadata": {},
   "outputs": [
    {
     "data": {
      "text/html": [
       "<strong id=\"exp_neg_lesseq\"><a class=\"ProveItLink\" href=\"proofs/exp_neg_lesseq/thm_proof.ipynb\">exp_neg_lesseq</a> (conjecture without proof):<br></strong> <a class=\"ProveItLink\" href=\"../__pv_it/theorems/8c71b3075c3161fadbb0cdf8c34ff1519b0980bf0/theorem_expr.ipynb\"><img src=\"data:image/png;base64,iVBORw0KGgoAAAANSUhEUgAAAREAAAAXBAMAAADelGYUAAAAMFBMVEX///8QEBCIiIhmZma6urrM\n",
       "zMxUVFQiIiJERETc3Nzu7u6qqqp2dnaYmJgyMjIAAAAcRTyBAAAAAXRSTlMAQObYZgAAA5NJREFU\n",
       "SMe9ll9IFEEcx7/u3Xr/9hSCHkqCqwMRgziUoIeSy0ApKPQlfQgUy8gXEVEi0JBIuSuCpcAkiLYO\n",
       "EuTIoyA1Io57vMIOEvqDxVHWQxJIJKQRNDM7M7v3x/Tl3Ied2dnP7H7nN78/A2zXFav+WnTcW9fb\n",
       "sj0K7vIfDqrrRd9PtnQYmCOdLH36WDoh3hGzdYTUvqJAPdqAch14SZ++l05JhW62ZQmlUw4qgxZQ\n",
       "hWqilxhkgjx4Rkqn5A1vp3X3B4P34/02m63hxhSQIprJay1ROiWXeFumd5zk3VvDdmCX+isD3Af8\n",
       "6amp26UT4hHO4ex6fMTsjS/nEE37g0RJRRj4HYkMlU6JEgIe1MGzW460L8mN2dfTmOJ9jXDdQHQL\n",
       "nwyz76aSW/u/5NxkvcmjUFbEK/eopOJ4G7jM+37isseY425wzdSc/Wz2mFMv4qlpakMSs4WTTkgO\n",
       "cCXgSTTALWNC6Zdz03htHOd9H9lFF5RM8UzwvD6jaEgHLCUDqKTfUcck9CJQMK+9U3DUUcPwYgcq\n",
       "Lcw/JKQYiMhRlRhNy7iK2+Pd3BSIkg8ZqcS7StIC8cILumA+FS5iPCo4rgTOdXTYErrvi5z+M0eJ\n",
       "J3vaqgqpg9VkjrMaLsMZorYkSpJSiboGVwbeQy2CPECFMFoWkNio4MTuwJHFXrtW5zeuS121xmiM\n",
       "Rc/JqqAYvS6yCK3SaEUFTCX1IUvJOlwB73xYkM1s4YwWBSS+JDjLY92dGMsxmxph/v+M+HGtzWPx\n",
       "pE9WBRU/6PCdZtQgxpQ4zg/AbpOyQCtbLSPjVyXNC4i6B4KzotPR6fybl2W6qRn+uFc8Yncd1PLU\n",
       "m2RVWGP3w+hCWyQSCSjazQXY/aQyrPF8QMn4dUGLAsIMxjjL6t6u4FqxiOiqDcrSW0E3zG9YVUFd\n",
       "Uc0Y2Ylyc3d8Z4y82ImNQpLKMqdFATGdyIodM9s7sptloEnYq8KEcU/LaqTBoHMFWovpJ2nLYxFk\n",
       "eYJEBxhJl0E2idKea7yAsMAKynxCK2AvpsObKUnBXhVaEw8XUmnSoKmGLIJafmY+GWuwlCivmPtO\n",
       "9ICRLCYNRqtVvIDAM6YLjrmsjmFcsX756CK9BvN3Ks9oPAckvDp1eYX4ifUu5+DQrtu/wmifFRnR\n",
       "vJNSY3DT46Fbz3n06bwpT54qYDc+wpj03Canx/9f73Mf/aJxLia3pGSWhFfEMOnMth3NQ6X+wT93\n",
       "ZRHvnr6lzwAAAABJRU5ErkJggg==\n",
       "\" style=\"display:inline;vertical-align:middle;\" /></a><br>"
      ],
      "text/plain": [
       "exp_neg_lesseq: forall_{a, x, y in Real | 0 < x <= y, a < 0} (y^{a} <= x^{a})"
      ]
     },
     "execution_count": 29,
     "metadata": {},
     "output_type": "execute_result"
    }
   ],
   "source": [
    "exp_neg_lesseq = Forall((a, x, y), LessEq(Exp(y, a), Exp(x, a)), \n",
    "                      conditions=[number_ordering(Less(zero, x), LessEq(x, y)),\n",
    "                                  Less(a, zero)], domain=Real)"
   ]
  },
  {
   "cell_type": "code",
   "execution_count": 30,
   "metadata": {},
   "outputs": [
    {
     "data": {
      "text/html": [
       "<strong id=\"exp_nonpos_lesseq\"><a class=\"ProveItLink\" href=\"proofs/exp_nonpos_lesseq/thm_proof.ipynb\">exp_nonpos_lesseq</a> (conjecture without proof):<br></strong> <a class=\"ProveItLink\" href=\"../__pv_it/theorems/1002fdf642a59491ce6fd9336296477045e3df710/theorem_expr.ipynb\"><img src=\"data:image/png;base64,iVBORw0KGgoAAAANSUhEUgAAAREAAAAXBAMAAADelGYUAAAAMFBMVEX///8QEBCIiIhmZma6urrM\n",
       "zMxUVFQiIiJERETc3Nzu7u6qqqp2dnaYmJgyMjIAAAAcRTyBAAAAAXRSTlMAQObYZgAAA5VJREFU\n",
       "SMe9ll9IFEEcx7/u7Xp3e3snBD2UL1cHIgZyKEEPJZeB0kOhL+lDoFhGvoiIEpGGRMppBEuBSRBt\n",
       "HSSI5FGQGhHHPckVdpDQHywO+/OQCBIJaQTNzM7O7p1n+nLuw87s7Gd2v/Ob358BduuKlX3LO65W\n",
       "dTbsjoJ7/Ie9ykbe9+MNLQZmSSdDnz4VTog6YLausNKVF6hGE1CsA6/o04/CKQnoZlsUl1rFoNRr\n",
       "A6UoI3qJQcbIg3egcEre8nZK93w0eH+y22GzddycAJJEM3mtxQun5DJvi/SWU7x7u98J7FN+pYEH\n",
       "gD81MXGncEK8lnPIbU+Omb3R5Syi7lCIKAlEgN/RaF/hlEhh4GEVvPvFSPNXsTEHO2qTvK8Rrh0Y\n",
       "3sEnI+y7ycTO/i84D1lv4jikVeuVZ1BQk3gXvMr7fuKyJ5jjbnFNl59bMnvMqRfxzDS1IYiZTXN8\n",
       "A4ID3HF44zXwiJiQusXcFN4YJ61JZBfdkNL5M8GL6rSkIRW0lfSghH5HGRLQy+AmIUuCo44agYo9\n",
       "KLExf58lxUBUjCrEaFrand8e72cnQJR8TAsl6hpJC8QLL+oW83nTIvwrguNKIG+gxZHQfV/E9J9Z\n",
       "SryZM3ZVSB4uI3PkMrgNOUxtSZQkhBJlHe401CMNFllJhTDaKiDSiuCs3YErgwNOsfJ3rktZs8do\n",
       "jA2fF1VBMjrdZBFaidGIAEwl1WFbyQbcQXU+YpH1bOGM5gVEvgKLsz3W04qhLLspUeb/z4kfVzg8\n",
       "Fk+7RFVQQJeEu/UoR4wpcV3ogdMmRcFGtlpGTl4XNC8g6lzE4uzodLXKf3OyTDs1wx/PqtfaXRe1\n",
       "PPUmURXW2f0o2tAUjUaDknZrAU4/KYloPB9QcvKGRYsCMhfnnG11tS20ni8i2ipCovQG6Ib5Dbsq\n",
       "KKuKGSN7UWzuju+skRM7sUEIUlrmtCggqIw7Y8fM9q7MdhloHM6qMGbc1zIaadArr0JrMP0kZXss\n",
       "QixPjJJMyEgeKpT2jvACwuIpJPIJrYCdmIpspyQJZ1VojD9aSKZIg7pysghq+en5RKzGViK9Zu47\n",
       "1gFGspg0GK2U8gJCPdHimMvq6Mc1+5ePL9GrN3encozGc0Bc1anLS8RP7HdZB4dm3fkVRvu2PinV\n",
       "hrY9Hnr07Oyo86Y4cXoTu/URxqRntzk9/v/6kJMerUZeTOxIyQwJr6hh0ubG+OjISGEPxuFCn7z/\n",
       "AUivFRUyHTr5AAAAAElFTkSuQmCC\n",
       "\" style=\"display:inline;vertical-align:middle;\" /></a><br>"
      ],
      "text/plain": [
       "exp_nonpos_lesseq: forall_{a, x, y in Real | 0 < x <= y, a <= 0} (y^{a} <= x^{a})"
      ]
     },
     "execution_count": 30,
     "metadata": {},
     "output_type": "execute_result"
    }
   ],
   "source": [
    "exp_nonpos_lesseq = Forall((a, x, y), LessEq(Exp(y, a), Exp(x, a)), \n",
    "                           conditions=[number_ordering(Less(zero, x), LessEq(x, y)),\n",
    "                                       LessEq(a, zero)], domain=Real)"
   ]
  },
  {
   "cell_type": "markdown",
   "metadata": {},
   "source": [
    "## Exponentiation laws for positive whole number exponents"
   ]
  },
  {
   "cell_type": "code",
   "execution_count": 31,
   "metadata": {},
   "outputs": [
    {
     "data": {
      "text/html": [
       "<strong id=\"product_of_posnat_powers\"><a class=\"ProveItLink\" href=\"proofs/product_of_posnat_powers/thm_proof.ipynb\">product_of_posnat_powers</a> (conjecture without proof):<br></strong> <a class=\"ProveItLink\" href=\"../__pv_it/theorems/980f9f779c44a68d4855965f42d54ae1d004a7870/theorem_expr.ipynb\"><img src=\"data:image/png;base64,iVBORw0KGgoAAAANSUhEUgAAAUkAAAAbBAMAAAADlWDTAAAAMFBMVEX///8QEBCIiIhmZma6urrM\n",
       "zMxUVFQiIiJERETc3Nzu7u6qqqp2dnaYmJgyMjIAAAAcRTyBAAAAAXRSTlMAQObYZgAABARJREFU\n",
       "WMPlWE1oE1EQnibZpNlsYi+KVSpp1erBQ7AXD622iL2IuBV/QWgIiqIiwaooioQeSmo9BIUqaulq\n",
       "QaH+NKgBK4qh0UtFiFTxB4WgKCgac1CQKOK8zdvNvs1uEmR7EAd22Z2ZN/u9N78JwP9J660xE1Qe\n",
       "bNMBkgtaYyeiPDiC04DSJxWfvW3r5tuaRVZh6llTwHQ1ETZtV1AWVB9PA8ql5DZEUXaka3bZdGfx\n",
       "tAHqAcaNV6NwltSsoCyounDfGcJ6YxlIdx5vPHXX2UUwo92eZBUuhgF1nDHD1Sj8Bq0UJVW14Xk+\n",
       "IqxPlqEUiDd9CoQQdIErzmo4/Y463EjGcLnTz9XBEXBms/OyX6iqOwdwhmwhYhnKGoJpSnmbCYth\n",
       "mNNpiPYkhuqE8XLRFnHnROpxqnqkEO1C3DKUwyR5DisOzOFpvhB0GuBajZ++YLwcz88bSVKUVHUZ\n",
       "Rvjk6Ohp65LnCQEXLhaRjzA4yWp0go1kra/daHknRot7j0RRUtVGvH5Eo0erhJCszF8OhXCHU6lG\n",
       "qSQ5WpfOYQLYTKitlwBr0RBWp/4qUQYq86N41abxGOvha4leR8yXU2spSR8hK1NAL2RRdqPXV5rl\n",
       "21+h/IAXyeoLaRJORSLnyjeAXf24J8zaYIRImko1jMHhAltaq+45sSOk73o9D6AxWIrSgN9DUhOt\n",
       "rpBgnxbDb7zZ8+Dyq2tzrC1GyNIY2hPSLtXW3ZY0v1niPmt1rqTa4LYg2aVUS09LvBL/HUU5G/jv\n",
       "WisHCT8CY6IZSkaoS3y0585sVF5fjI+C9zzAXY2Kd+CsBPf8AUHncRN+X8Hj/C/w5ErOJAn31RdH\n",
       "uBiXQb2QpW7i/f5teBtpfg8O8rVVCQSu6fsriV4icbKIhswQRnyZdhayh/8Jzoy+V4/FYa8nps0e\n",
       "MyFLJMfhJu6KP8DlwUdYr16yfV82lhCubS2ixBkiZsCXqZEWmV54HtQXrlq/96Ba4nXtnRWW1mCY\n",
       "gUFrD3BhGCFvd8aZvs/LCBKQTKloyAwhGfDVfRNnXmraEtLXbT60cHCBOuGJZYQsycXCK5H2iwPW\n",
       "pmg06j+3gen73KFotBfRDJEUE5UZosOQDzRz1A5Zji5X38/eqlERq30lOWVPXMR9afp+sHBmjnXF\n",
       "VTOhlTPiq46cquLTE1WD5PPqEcS614Agyo1KhAn3cbXvP5SDFOA11Twj4QyxP1HCVwpMHYmxWOVP\n",
       "Z6pG6VXHaEfoRhvAAHm8mu0Tublq36/FUug41g5OqtkVxxliSbqEr9BuzRRchqrYiEIuXQTbMC5p\n",
       "AyoyF2P8aSluwqd0XfOLogy9rD4sX5tKxk0lngqH4AlY/EOqzIieNo+SSlZvWYzSLv0r/0T8AY8y\n",
       "L0TGwEEUAAAAAElFTkSuQmCC\n",
       "\" style=\"display:inline;vertical-align:middle;\" /></a><br>"
      ],
      "text/plain": [
       "product_of_posnat_powers: forall_{a in Complex, m in NaturalPos, n in NaturalPos} ((a^{m} * a^{n}) = a^{m + n})"
      ]
     },
     "execution_count": 31,
     "metadata": {},
     "output_type": "execute_result"
    }
   ],
   "source": [
    "product_of_posnat_powers = Forall((a, m, n), Equals(Mult(Exp(a, m), Exp(a, n)), Exp(a, Add(m, n))),\n",
    "                                  domains=(Complex, NaturalPos, NaturalPos))"
   ]
  },
  {
   "cell_type": "code",
   "execution_count": 32,
   "metadata": {},
   "outputs": [
    {
     "data": {
      "text/html": [
       "<strong id=\"products_of_posnat_powers\"><a class=\"ProveItLink\" href=\"proofs/products_of_posnat_powers/thm_proof.ipynb\">products_of_posnat_powers</a> (conjecture without proof):<br></strong> <a class=\"ProveItLink\" href=\"../__pv_it/theorems/d749ced4c4bcc40dced3b9091f050582ca61b4450/theorem_expr.ipynb\"><img src=\"data:image/png;base64,iVBORw0KGgoAAAANSUhEUgAAAiYAAAAcBAMAAACnnmmXAAAAMFBMVEX///8QEBCIiIhmZma6urrM\n",
       "zMxUVFQiIiJERETc3Nzu7u6qqqp2dnaYmJgyMjIAAAAcRTyBAAAAAXRSTlMAQObYZgAABW9JREFU\n",
       "WMPtWVtoHFUY/vcye5mdTUJBsRVhY9uYN5dGUNpEt5QaEMTZoMbSQpZFUSqUYGziDVnyULbWh0Uh\n",
       "hqpktFAhXnZou2AkxdVtXyLKar3UWiFaLSi6ClrRVYpz5szlzOw5M8cdlDz4PXw5M/3mnNlvzvxz\n",
       "vlOANYnwOl5lfyaghqeDtYGHeYXxXEANTwc0xGYe/fdtuNMiALHNe1VVsSeXvybm/FmuDtCMic48\n",
       "wfkw/oOZIRRMQnc2yXvZqN2MFnw1Ccf5hKuDW3WeWzue9CgmaZCyYwW+yxrCgNV+31dD8YToQGqu\n",
       "MU+2WIS8+eK2NsQUjst+PGFP/rjiodnL8ITs4DHsySr686W/J1y6AEi2TULovU97j97h8eQ3mfha\n",
       "ZdmaPRsYnpAdbMSevIf+fO/vCZcuAKSsSQj5QZX92B1VaN0hwtefPTTaHNjX+qrVapqn8ZGjgwXs\n",
       "yTzqq+TvCZcuAEKqSQiDQl+Fy5NwKZ+EMyfP7D6Njh5na/B70TlPHB3EVd0TVNUk1d8TLl0ALCgm\n",
       "IcwKkxkuTxKZ8TAcWw2py+joJrbG9iT5FMwrGuEjRweRku5JemVx8TmOGsulC4APLUL4Dooylyc9\n",
       "ldhmiMmvwA36mpStsT0R1kO+ohE+cnQQ7sPfnd/LZfoqRXJ+d5g6Cuq8RcRu3mxScnjLBu/PiIln\n",
       "G/2KcXvHYRLN4TsUpob17jg6iLaxJ1qFP0gdMuL0hKmjIMupI4Yom7S90oNLpXD9Ns+Lo+vhJ9w6\n",
       "CpugWNEaE/o35IMWwgWnZuwXle2J2YFwCXuyA8RVHk8YOmpay3IGLWKIiwaJ1+C32gZltoiIXmp2\n",
       "1I8Fd3Zxa5LAPkInfsWexCHcdP7L+HAufGWHJ25d6un7i+60Jkydgv4CxRN30OocYsqgSBviDgPF\n",
       "y5QAg57OLQo85D7v9oSi8YJoeCI1yVWquDzUTJVWYKs0dOPQNtITQodE4j2K8IMjrb3aGIE3JSWi\n",
       "NIamhlRmUmMMccGgUAmqsuPaaUrNRwv/q0C85DdPKBrPhaPhSXL1buLs2aVFSH0UQVXSNU8IHRKl\n",
       "XwBYJtNa+tBhBU5mshLt3Rn1HeKAQdU6vM33TP+ClHuNNlGx68lFhsZzBfiHkXcO3qv9oJGxjeEB\n",
       "GaLo16R278p0eqLr4MjAt1i0s4bfRyut7UBUqz1D9YQIWowhHjCoqsK+VIXHkz8htrrkPOf+7tA0\n",
       "nmXb+O7Ace1Jp7c3Q3vDBejRK4W88gnFE6QT9wttLDr3uSut6QW4Jr2+h+YJEbQYQ/QblMikp6VO\n",
       "Ay6bVLUK/Sx8VqhTFjkkKBovpI31CfRqJe3wddCbi9ThCL5hCQUPtydIF8kKk1j01pIzrYm6DzWo\n",
       "N2ieEEGLMYT+iDUSi5vnNnXe7bRJcWsP4ei1u4qu+tGxjqVoPNcGJcOTNLqbIuTRan+8XC5nUnKy\n",
       "qc0JweUJ0oVUbTLpoufvcqY14ZFyeVbz5EWklT2SGmOIUM6kAPg66B5Ohtw/uQIGYUHAu3EpGXZm\n",
       "6Psn1UrinKKLIi/jZYKV1gp4nkTHfJIaY4hI3aTuwb9j6bVJOWen7CKclUBCTzidg3Sd7kmoMnE7\n",
       "FiWHZXhXS1JWWtOD6ccA5w2pnrMMIoMWYwihz6TukS4E9ORTcp8tWtBi19wKAJrjo98YT73Tk2jx\n",
       "2AgWwWutA7JwtZ3WEigvPJmztoHzqhm28qojaNGHgAct6hpxOaAn+6l7j2HtZffde7RFKSKtDWr1\n",
       "hITqaplBiz4EvGFR1zgf0BI8dYPuxy6x05q9yDBaVlKjI5U1qevty6BbXvPwTzxh/f9O08N0SssT\n",
       "JyzqEhEloCdbUXWYmYb/0YG/AWxavFd4hxbcAAAAAElFTkSuQmCC\n",
       "\" style=\"display:inline;vertical-align:middle;\" /></a><br>"
      ],
      "text/plain": [
       "products_of_posnat_powers: forall_{m in NaturalPos} [forall_{a in Complex, k_{1} in NaturalPos, ..k_{_a} in NaturalPos.., k_{m} in NaturalPos} ((a^{k_{1}} * ..a^{k_{i}}.. * a^{k_{m}}) = a^{k_{1} + ..k_{_a}.. + k_{m}})]"
      ]
     },
     "execution_count": 32,
     "metadata": {},
     "output_type": "execute_result"
    }
   ],
   "source": [
    "products_of_posnat_powers = Forall(m, Forall((a, k_1_to_m), Equals(prod_a_raise_ki__1_to_m, Exp(a, Add(k_1_to_m))),\n",
    "                                             domains=(Complex, NaturalPos)),\n",
    "                                   domain=NaturalPos)"
   ]
  },
  {
   "cell_type": "code",
   "execution_count": 33,
   "metadata": {},
   "outputs": [
    {
     "data": {
      "text/html": [
       "<strong id=\"quotient_of_posnat_powers\"><a class=\"ProveItLink\" href=\"proofs/quotient_of_posnat_powers/thm_proof.ipynb\">quotient_of_posnat_powers</a> (conjecture without proof):<br></strong> <a class=\"ProveItLink\" href=\"../__pv_it/theorems/cd243b3f8a44bb5ef1af71833664cb4d7349a4c10/theorem_expr.ipynb\"><img src=\"data:image/png;base64,iVBORw0KGgoAAAANSUhEUgAAAVMAAAAyCAMAAADWSsgNAAAAOVBMVEX///8oKCgUFBQNDQ0QEBCI\n",
       "iIhmZma6urrMzMxUVFQiIiJERETc3Nzu7u6qqqp2dnaYmJgyMjIAAAArQGDrAAAAAXRSTlMAQObY\n",
       "ZgAABKdJREFUeNrdXImWoyAQZHcBuUH//2MX8AIh6Bhi5jXvzSWdCEXTXV2SQQhqs8Ojt9McgW/W\n",
       "Hq846hghFBHC2QduOIzQISWl27gBO4Qw17XODs0BB9Xg4pLSRPgfkw8J1H7kptJChlTjWjDlBCEW\n",
       "wBbmwbtCaZLWrmIfRon0Hjsh9tTugLPzJ1256qGcfdVJ9KFdKuDufpG6qaKWEuxBHkJmGpW/wq3+\n",
       "1GIqoJC6dGYD9n+M0zdWE5SbyjRveP6EqHxsOTVISNmUpF8aJynIU4RjIiAxpWn2xTLOlD118xEm\n",
       "8cc89RsbU8dz9RvILMUml2Ia6D0fkXloqiq9O5xKP/MUGfio4O8Q0pb2svbVdwmcGiorZjQnhClO\n",
       "3qgaW9rL0pesohQ+qO79MLwWd+ZNLe1l7UsIlPWx2256wgiCWumpO+3OtZdBrk0vfQPOGCpDal1W\n",
       "JUG4KevPEFvaS+jz7svy+6/uaQ0ITM3Uex4t7SX2icGwfJ84q0NTAkqx35vft7SX2EdsmommcGmK\n",
       "wQGKTNWNdG961g/bFGLozLpkZ1JsP2z/8n1+rGLYMWlbgrutZ+HApIbwPrp3nUrftG8SyggbsaSy\n",
       "ELSPMnRfz8IxiIZvpEFOjbRc8LN0ygQNj9TJUkicYnpi35oNDTvLeUBNWbTwzLWm1+1kiW/rWSIy\n",
       "qxBiywyljaXU92gWiBgbX27O1dD4tOgtqT7B9Jp9A1MVkRTDgW3XMH2vcrilZ82YqhGxsuqSRukw\n",
       "YqcimuYVppuhcSQg4+08ZlT4L/OGfQPTSLbn+WLz/t7P4il/W88Ss3tKxZfwpSnhI1uDbIxrbCFf\n",
       "qq4obIbIeEtF1mRDX0gNl+wPmG6jmkdkZ24dBiRcmaN6JNs39Cw8ZyZDl62vBfODDQu9pSynnWop\n",
       "Cntu89hb7VgV011quGSfY7qNikfW989/uWWYZcAjffjpfT1rFabWeo7SkDuiZ2wz19lSHRWF3TBg\n",
       "5IdgaYlRIjVcsj9guo1qBs2g3U8xKTl/l4ML9/WsVW9wSwwK4Sm6HxOzTECQMow1FIXdMGKk3Jrt\n",
       "aPGiKDVctM8w3UYVJyvX3cmWtT3Wpt89DDJH4vRvv/bShQyy5yyqyc4JS0WBZ37nw+/iOeyF1HDN\n",
       "PsV0HxX3SeTvn5BK3Mu8zxpCe6kgP6Dh+IjHpiEMyrKkRgu/W++yIeEeFYXd0EUHcYcItL9olhrO\n",
       "7Gt+uo1q5VExBtAqP0UNra9UkB/QcAZODKFx9HLr0p5syJDkWdiEhaKwGg5ijCAdprm/aJEaTuwr\n",
       "mCajmnnUAqq1NfjEy4qwoiD3b03eQZawly3CVcPWi87sW/zUnOdh2iCVhYLcv/205rj18PHmE8s6\n",
       "phdUifIoyK4wFQpy//bTRze3HljdfMpVHZq7oDezIqBtClOpIHdv6jcfRLmfnQ9PgxOFqaIg/1r5\n",
       "9petxtRJYbq1vQRESNGQs/5nT0wBPYOWHwJ99sQUAXpWMs/8z56YwmA/eYZtF4XpThEF9ex5/hmJ\n",
       "DiemLrcR6tHz783NYA0XU4XZF+4K+zNnyHyDJnKKQDf6fAJ2EgFv/GnyDf+z5t5Tn/6fCFt++g+t\n",
       "2joDo+95ggAAAABJRU5ErkJggg==\n",
       "\" style=\"display:inline;vertical-align:middle;\" /></a><br>"
      ],
      "text/plain": [
       "quotient_of_posnat_powers: forall_{a in Complex, m in NaturalPos, n in NaturalPos | a != 0} ((a^{m} / a^{n}) = a^{m - n})"
      ]
     },
     "execution_count": 33,
     "metadata": {},
     "output_type": "execute_result"
    }
   ],
   "source": [
    "quotient_of_posnat_powers = Forall((a, m, n), Equals(frac(Exp(a, m), Exp(a, n)), Exp(a, subtract(m, n))),\n",
    "                                   domains=(Complex, NaturalPos, NaturalPos),\n",
    "                                   condition=NotEquals(a, zero))"
   ]
  },
  {
   "cell_type": "code",
   "execution_count": 34,
   "metadata": {},
   "outputs": [
    {
     "data": {
      "text/html": [
       "<strong id=\"posnat_power_of_product\"><a class=\"ProveItLink\" href=\"proofs/posnat_power_of_product/thm_proof.ipynb\">posnat_power_of_product</a> (conjecture without proof):<br></strong> <a class=\"ProveItLink\" href=\"../__pv_it/theorems/8c76de886658d3527d3b9ba751ccc78cd3892ef60/theorem_expr.ipynb\"><img src=\"data:image/png;base64,iVBORw0KGgoAAAANSUhEUgAAAToAAAAZBAMAAABTI/9DAAAAMFBMVEX///8QEBCIiIhmZma6urrM\n",
       "zMxUVFQiIiJERETc3Nzu7u6qqqp2dnaYmJgyMjIAAAAcRTyBAAAAAXRSTlMAQObYZgAABBZJREFU\n",
       "SMfNVm9oG2UY/7XJtc3lLt0HRXQMztY5P/RDWEHBttoiug+iywZOQXEhOERBCbgVUZE6QdJN4VBw\n",
       "YyreVsTROROU4DomC611MP8QcIIdOgLasZVRiuzDzFR8nve9u9xdL0m36NwPnsvluee5+73P+/x5\n",
       "gf8cP/zYk8R1i1NrcPN1Sy52IIvqygOrD23u/dcplKUEMUXSYURXhTqEBlYfKbeZwi9uAhVW/dIq\n",
       "u4O2eKC+liVm9IW2VKSUCnNYFtiDNwH71qHbEn54BviG1QutsjtvixcJ2jKVFv8hOh9MhTlgWWB/\n",
       "JclgRPrhU2Avr2CsRXJ6UooP3QW6TAMPoP27MAcBf2Avk9yIQUX4QTOQsOin0CK7TlOKDxvpzdhf\n",
       "30HAF9gobXJsCduL0k9dBf3k5OSeVjd2jy0+nBDbO1zXQcAXWI0yNZpGX9n2+w24lMu9clWUtNpt\n",
       "ry2xwfW3uMqzPQNkFN6IlxnLTM30Orso/GaAbcD4VbGL1G7fsmXETCy5Nfu3lTehV2qrWRRIIsRY\n",
       "Ir+g/uEkJvudAe6TBRLEw5UrYPeyFHUNIqLAOOPiVXQbiGdDfb3Gci18OW7hd/u/8PuCEhTtvjYa\n",
       "f/PpDLxbcuTrUcNroLzwFW5N+9jdICVSRachwsbkK8iXoCyFsvMY22HjYNwD9U/nI+y3lWiUO90F\n",
       "HOsvq49ZygXOAc6AQzND+GgXniy5b2HNEc2KWFr/Xf0DAXZtY8iLAhyV7W5joQE711gWcVq0u+jl\n",
       "ALtYZYtj8tPUJPT3gWPcrajm9d37LMyVEHfZCc2XRlIL3VmK1fFauyvjXgvRbDDv0ggxlviLA2o3\n",
       "F/bbQDL+FF0mbp9HlDfzfmo2Mebd8yylJJk9Tgs0nenMGhSLb2uhVZEv4Pm408m6hymzvFXhRdBY\n",
       "4iL2lwNVgc+JprpDqSLB6tNz8vE6q1fMYP2w6ZnO4ltF7fATfnYzUroMfdTtMx3lLlptpBTKLmgs\n",
       "8Rxed0uO/QZ5kZSbkaSSxQSrj07JxztxRuVYxg9JdmI6Cw2KKM342W2QombWvnubm8Truc0mUqHs\n",
       "gsYSE31ufQq/eY4K1X9boT2NR3O5nPHeI07e3qm8mMvtjBXt9/N0Fhpi9wEXktJkkgl83GSS1QP7\n",
       "qU7O5s2u01aHCOkB2XyqWA2RwHcbsn+J6ZyWsYtuXsEpQGC6/rGhIexTgH1UMLc+BC0l5ksK07Fd\n",
       "eEkfwyw/emeWzPZacjoLzSng58DLxhE+cdR6Pb3JeHJOUHYBZz4bAnbz7SeLb6SU1djyLSUu9zz1\n",
       "+3PbsKkgpzNroq8Oo6P56VOgy2xwXG0A4RdYQTvlnT0w5M8dlGUSznSuaVZ0cp9rdNRvAPbT6+bm\n",
       "VOB/vFkWX1MEV6b/PzT+AeuaLki+p3q6AAAAAElFTkSuQmCC\n",
       "\" style=\"display:inline;vertical-align:middle;\" /></a><br>"
      ],
      "text/plain": [
       "posnat_power_of_product: forall_{a in Complex, b in Complex, n in NaturalPos} ((a * b)^{n} = (a^{n} * b^{n}))"
      ]
     },
     "execution_count": 34,
     "metadata": {},
     "output_type": "execute_result"
    }
   ],
   "source": [
    "posnat_power_of_product = Forall((a, b, n), Equals(Exp(Mult(a, b), n), Mult(Exp(a, n), Exp(b, n))),\n",
    "                                  domains=(Complex, Complex, NaturalPos))"
   ]
  },
  {
   "cell_type": "code",
   "execution_count": 35,
   "metadata": {},
   "outputs": [
    {
     "data": {
      "text/html": [
       "<strong id=\"posnat_power_of_products\"><a class=\"ProveItLink\" href=\"proofs/posnat_power_of_products/thm_proof.ipynb\">posnat_power_of_products</a> (conjecture without proof):<br></strong> <a class=\"ProveItLink\" href=\"../__pv_it/theorems/6f4ef2a9cdacaa6408f93fa5983fa4592d4048c80/theorem_expr.ipynb\"><img src=\"data:image/png;base64,iVBORw0KGgoAAAANSUhEUgAAAiYAAAAZBAMAAAD3U/gkAAAAMFBMVEX///8QEBCIiIhmZma6urrM\n",
       "zMxUVFQiIiJERETc3Nzu7u6qqqp2dnaYmJgyMjIAAAAcRTyBAAAAAXRSTlMAQObYZgAABSJJREFU\n",
       "WMPtWF9oW1UY/5rkNs1NbrcHJ3ZlkLXaTZRyWZGJtpgyWJ+EtIJ/cNgQ1ocNGcHV4lQ07KmZDC4W\n",
       "tjEoi4o6OrYEJXQDxUAyHyZIwIlTXOnDBs4HLThFp4jnO+fm/j0nObcNTMQPvuTc5Pf97vl+95xz\n",
       "z3cA/v2mjU0Ndhq58ai7rMl4o8voMHLjUXfXTu+ATcUOIzceZdrwzXXntWh6UIvjA8zCOJ8x1pBB\n",
       "+sK4/NhCX5mFVfznulwH64HQTlPzzIPbAeJbYFThMcJZGaQ/jB91wLyqwxf4x4+ymgRBO63XYB7c\n",
       "LpDRsAazFR4j3JJB+sP4URfYFcnyFA7BvKwmQdBO+8r04JZIQiQDDzd4jJoug/SFCfhJi3odesnq\n",
       "kijLahIE7bQjpq9j1m0WM0YNGaQvTMCPLfQ6aFeWlk6CrCZB0A6L5Zivx24IGeGkDNIfJoq6wbwO\n",
       "8Pv8/OsteaoOTdqjuRbSmcNCbXv7t15sdNdW+6omZIRBN7gm1xEhf405yXIGoNCSR3dq0hbNtZ4G\n",
       "80gf/AygtFmQxo3eNftqxTH3f6Kmm4xw3AI/60G26oiQf4U5yXIPqKvymrRFO+zi53NJ1oqWmb/T\n",
       "gEdBGWEDmDNgVPqxDcIO1Za53MgGrzXBT+32IEXcGCbkX2ZOsoxCiL9UK4frsD3j0USIdtu52hi8\n",
       "fwxeMOddV4r5E0V4iYwWqon6tz+shHqH70A0af82zb0BssE9FnjCjRRyY5iQf5o5yTLRiAqSupgo\n",
       "hou1kcMjZVsTPtpXQbx1ugjfViHu0eQ+UH9tagJznKefQXAeSmlZTUywRxMxd6oFv61JbPVpQVKf\n",
       "JvWEd+4w9HtD/l2+uuuQdac9xCPPk0vDNXfUvyC+ZmkislIVPiMbia8H9AGyerF0XetJxjF3GJiB\n",
       "Jto/LAwT8k8wJ1lCYT8rl0NDaatwxqSgUnnbpwlFqy8rdwAOum/3YXramsU4TLXzhneNVf+E7tVL\n",
       "bTUpw6G4cXUb3FscEq6czTWWgVlikmuskN9eY+HjHCuXD4YyVuFM19FK4vw+nyaIDutKDvZtdd9u\n",
       "BJ6xhgyGxM/ZmiR05kfhm0zVqQmd+PSjZC3dPUltLhF7Nwe3YZRcjvK3tzp7cVKw+bA9SJvW5sYw\n",
       "Ib95hVluSrJyORWuNgtnmhRUoFrzaYLorjLK96q7C/0wZK3Or8zPH41V7EmLKqB/MPBcNuUaJ3PN\n",
       "DzrdWS7ZB07cD91JZTNODuDX4pRjoglmmniRFq3NjWFC/pvMMUutSMvlSTZHaeFMkyKaLOKCmnZp\n",
       "guiS0fNd0aOJ+gccX9Iev/7IJwRP+/BY0n4nuvb2EZkdbVc6lI+tpUHNyeztURNVhvaImB9b6PXm\n",
       "D1tgJ5xRoFk4Z9g4iUx59vYmnzH9JB0np4qxY/SDfPUptxvxYejHd81lRC1cpiWVvwaMy3T+DHmS\n",
       "Wr5qU7SsAZdZNSdXjAr47RrQ3E6vkfFxLYH50cKZJnUV4HuuJpHsR2NUk8my0geThtKn9MPehwYb\n",
       "MKPmwuR114MjTv3yhxlrjTCY03vt/k2i93tJWR97sUird+5qiWzNLfXCm1kQIv1hfH77rMDMMgO3\n",
       "4MQVkiQrnDGpyBsp6OZqwgznjlUix9lXLq5HsbmTTL3OnCkVWh0OnZVBtj5TKrhaBV+WjiS9SVHb\n",
       "4VzFpn4ps5M7apfYHTOhVPeDnTx71IxWh4jOs0dN7shqUcSPLfThWd7xZ4AeW60G/GdNg/8N/gFT\n",
       "Or2RXgDGNQAAAABJRU5ErkJggg==\n",
       "\" style=\"display:inline;vertical-align:middle;\" /></a><br>"
      ],
      "text/plain": [
       "posnat_power_of_products: forall_{m, n in NaturalPos} [forall_{a_{1}, ..a_{_a}.., a_{m} in Complex} ((a_{1} * ..a_{_a}.. * a_{m})^{n} = ((a_{1})^{n} * ..(a_{i})^{n}.. * (a_{m})^{n}))]"
      ]
     },
     "execution_count": 35,
     "metadata": {},
     "output_type": "execute_result"
    }
   ],
   "source": [
    "posnat_power_of_products = Forall((m, n), Forall(a_1_to_m, Equals(Exp(Mult(a_1_to_m), n), \n",
    "                                                                  prod_ai_raise_n__1_to_m),\n",
    "                                                 domain=Complex),\n",
    "                                  domain=NaturalPos)"
   ]
  },
  {
   "cell_type": "code",
   "execution_count": 36,
   "metadata": {},
   "outputs": [
    {
     "data": {
      "text/html": [
       "<strong id=\"posnat_power_of_quotient\"><a class=\"ProveItLink\" href=\"proofs/posnat_power_of_quotient/thm_proof.ipynb\">posnat_power_of_quotient</a> (conjecture without proof):<br></strong> <a class=\"ProveItLink\" href=\"../__pv_it/theorems/1d708957b6616f361a457d7ad5467671f24af7140/theorem_expr.ipynb\"><img src=\"data:image/png;base64,iVBORw0KGgoAAAANSUhEUgAAAT0AAAAyCAMAAAAZZPzOAAAAOVBMVEX///8oKCgUFBQNDQ0QEBCI\n",
       "iIhmZma6urrMzMxUVFQiIiJERETc3Nzu7u6qqqp2dnaYmJgyMjIAAAArQGDrAAAAAXRSTlMAQObY\n",
       "ZgAABXtJREFUaN7dW4l2pCoQZWYA2Rf//2MfIKiA0GobX5RzkvRSKZpLLbcKGoA3DD3cOJmk4FVD\n",
       "6x+ewGBDEMLx2WDfBB76cWMwAzQAQJGevgg+BX96BiERc39GmV7g+i3gSTh84YU7B0XOYeHpOX/v\n",
       "4PgrL9w3IAEAa0Dus/eb/Hbxp4iO6SbJygt3ue7ofrFBzegB9g7fZYXpoRTRBdYYQVknycILe6Al\n",
       "FYPHH2mz3jTxAvBMsYoByvTAvWHHjaxcemFzZCo+7dozTY8XKYSkB95QcHrXmo4XNtNRpqLaNvl4\n",
       "8MiYJz+ajAyHxTGUIIPzWmsvbIxCRYntiB6PHoYFmMmPIQ8rJBWsB/JsoaIY9vmUGeagWDpbhg6h\n",
       "fYXrUUerVJQVzuPzBhlNTizEvHTlDc4ClV6x6DB6pYqSxZiHo1fsP16ciTuwDKNgpmXmML+tVPTt\n",
       "/oF1Rg4JRCuGjBARFA2LqRwtrioV5eSOddsOSf/9YY/nvtRjIfDq6kC7kKjVHHIfR2DkiHMK1i30\n",
       "r86Rxm2WSNsn+AOTRpYKMOvHyJ+YPZncYoQP6hCoTt1RCYsfsHyjpR+CPbHIzQLdiPumcrV5jD7p\n",
       "jtyPJ7ZcCsLSr53k5fxs9LZOwwbyO5nzRTulswLiEzwtcLVdjSOdE+jz0OD/Q+7NSMMV9V31GYf2\n",
       "BAEgpJFu1fF7yf94tXfBEOz8L9SZWXFNGU07p/EHgc2gw7A/c0WRn1cq1vE+nwB7zzBu4aqm9nRs\n",
       "BbZxGTvDYg329lhnqcDVfbemzhlSaYzdO5Jwt8PEpp2z6oPAphbFgXZSWH5Gz66juwiYMW+bdZ3f\n",
       "Rm8Tjqv7mRN6wgJSbazhSkj/eY0IsKgETorUTYFNLcogj5n2poUxcz+qhV6WCvzGxDYRVF95rmx5\n",
       "bhb3jtSubDI5LmgMPBIjakkKhiEMkdiFFTNHRFR2BNYnfrMQUE5KoJQueraXJpgU6Oklr5uZOmuI\n",
       "DJ5uzr2+JwKnAK0SS5eMxE7YHLmNNFk2RkwCj01TYH3it8R/h7CWhuxAL05AA4/6535M/Eh1lxcV\n",
       "fE/fy/dSkyXtGsY+wAcbnJct8/5W6NvYtsD6xG8R8ug5w0sJoYdenGCCR4HF9iCq2fKwv2U0jFef\n",
       "YKdAaqKn+NASzp8IC1vvViIUyTbYn6Jj2hFYnfgtQgE9YVJy6qEXJwiuwJNP+hnq1av8Jb6mOpJD\n",
       "VkB9uLtcqugHUun3mBsf5pdtxBItvGsyKg9yU2B94kcz23MhMpoP6aAXJ6AuhP/94wO5aebcorWs\n",
       "825fwXz1ieP/qGL78gYp46yLVmQc/EfS8wIFDo+1szKfAF1UMrwnsD7xW4RMsBLTikwr9NIEia0E\n",
       "D8abfK8gIcW1giLO2ROt4Khi+/KGKgPpQJFCOGwon9+SLqVzX84Rb3OExttyLYHsxC8JDcwG+Ohn\n",
       "9OYJJrYS4dN6i60x265khxzLM2VuVNG4vKF7TRsUI1YG9yGBllAfvUXX58oK5z07vt4czb5uUM0q\n",
       "Ni9v0IMNQyW+FTiC3o56usgE2cmPpS5ULbuJT5Tns4rNyxvwYDvZfC1wAD2zg54VHE6unsrRyikN\n",
       "LnTicPszqti8vCF+z2WCsyVoQfGQLVLIvEJ0IuPOKjYvbzz/NLwMfACSzFMXSgZPuEWhonQX9nTw\n",
       "qgJiuY8dqNqQXBmdaUrmKvY2W580ymt0c34PBCU1YQQ842WZirrGfv4NtKr+8n2OaelDuoHnXzzV\n",
       "IFir+BRxHzrKKwKCTWZGzXIhnJ/jAmsVdUZ5w83b+ta3IKlTmZKkPNlcWaloVcCPH//LOhSU70BP\n",
       "QHL7nO/5tgtQ9xMvisFrBr47/RkOXjTovcT1Xd8wddZ377eb54zxH221QncU9UcOAAAAAElFTkSu\n",
       "QmCC\n",
       "\" style=\"display:inline;vertical-align:middle;\" /></a><br>"
      ],
      "text/plain": [
       "posnat_power_of_quotient: forall_{a in Complex, b in Complex, n in NaturalPos | b != 0} ((a / b)^{n} = (a^{n} / b^{n}))"
      ]
     },
     "execution_count": 36,
     "metadata": {},
     "output_type": "execute_result"
    }
   ],
   "source": [
    "posnat_power_of_quotient = Forall((a, b, n), Equals(Exp(frac(a, b), n), frac(Exp(a, n), Exp(b, n))),\n",
    "                                  domains=(Complex, Complex, NaturalPos),\n",
    "                                  condition=NotEquals(b, zero))"
   ]
  },
  {
   "cell_type": "code",
   "execution_count": 37,
   "metadata": {},
   "outputs": [
    {
     "data": {
      "text/html": [
       "<strong id=\"posnat_power_of_posnat_power\"><a class=\"ProveItLink\" href=\"proofs/posnat_power_of_posnat_power/thm_proof.ipynb\">posnat_power_of_posnat_power</a> (conjecture without proof):<br></strong> <a class=\"ProveItLink\" href=\"../__pv_it/theorems/f8efb583be3f501d2fa50c19c4c900083df093a00/theorem_expr.ipynb\"><img src=\"data:image/png;base64,iVBORw0KGgoAAAANSUhEUgAAASUAAAAXBAMAAAC/jERWAAAAMFBMVEX///8QEBCIiIhmZma6urrM\n",
       "zMxUVFQiIiJERETc3Nzu7u6qqqp2dnaYmJgyMjIAAAAcRTyBAAAAAXRSTlMAQObYZgAAA2NJREFU\n",
       "SMe1V01oE0EUfk2zaXez/bkoighphdqDh0AuHlpMEfUkpAX/QGgIFlE8BKugKBJ6kK31sChoqZZu\n",
       "W1CoWoMSNFIhNHqpIAsqtkWloBUUqTkoiHrwzc7MZrOZkAbTB6+8vvlm3zczb96bAKydNHT2bPG0\n",
       "RWy7DKgk5L9llCkJ0mXWHPdEwa9TWxdyYiAOSaO1RAbeV42SkqBKZGQrNIVrMwDHqG2IJnDQJIP4\n",
       "kPkLMvC1apwadaqWxKAb6pIA05bdJZ7BQN06hSi4ScPolhNV4/SKqSXroB3GJAA1QOwOSTiDgzhk\n",
       "FheFO6omq8bpLFMicg6XPq/i2puJfSolmmCDOGQcM2tuaup61SjJcaqWeKPwBa7NofWJ2NtM0Yw8\n",
       "iEEawwC/NO38KiNmyvo9QapwNdviSOmseF4hiImK0/sABlfJKVjWX29S9W6E7w7Ah7z5coXIR2uL\n",
       "CkG8OGCS77RSvUqcyC0jOm7CdgfgkXCaC8TEj0dfB56Cg/ZfPhpzwaT+Z9ASLeZU7K8JU91hwEkH\n",
       "sFfIyQXiH83h+Zl1dsGbCZnKQUP65sTcyXbCY9WoNbKh/lCyjJ9z2gDKz7KcXCAHJ3lpP/93Pj0F\n",
       "DTcBZpzHOzRiwNNAUHWdndjPzk75C/6cA7zHnU+fyQ64QPwikms7eAT/TLYtg5d8exeWCJkUvjet\n",
       "wdY+km4oqdSVfGzaK4v9jhxX/oBvKS3McUcbcoEcOQ4PkZhyWvoNjcS1uECHXm+G9UYb64cp9d7h\n",
       "PCerVxb7+UUmOgBvo47K0SE8OxeICWmQ0ISVvzYoxbENojyhzOWJOPzAbylWvBRksnZsq1cK/Hzj\n",
       "id5qPRQL5+MsCzm5QLxjWu8WrFs1SXwuHNA0LXBjHx3yBaRmOAfSGU0bwNij5CJEeNfsEvrdvSV/\n",
       "SvEKWsFtbtzX6xcNn7V1E/gNcoMinoSci0CU7oe3x9k1sVcK/EU92D7RQAWcZu26ovfuBZWsV+6I\n",
       "wKx8CcZwpxoSGXhuJRfAO4YcNmivdPt5kutUC2S6kgeYXcC9sQedAEPEvLtyMSJtgt34DJJPGFCP\n",
       "t9t7IQw+huxO0l7p9gvedLYMVsDJvSAP5hMr5nlnO+aNU5Il/MVvX/t26xVwWig5ki454q8kQFXF\n",
       "LP1jZO2D/wPs2RNp/nSwHgAAAABJRU5ErkJggg==\n",
       "\" style=\"display:inline;vertical-align:middle;\" /></a><br>"
      ],
      "text/plain": [
       "posnat_power_of_posnat_power: forall_{a in Complex, m in NaturalPos, n in NaturalPos} ((a^{m})^{n} = a^{m * n})"
      ]
     },
     "execution_count": 37,
     "metadata": {},
     "output_type": "execute_result"
    }
   ],
   "source": [
    "posnat_power_of_posnat_power = Forall((a, m, n), Equals(Exp(Exp(a, m), n), Exp(a, Mult(m, n))),\n",
    "                               domains=(Complex, NaturalPos, NaturalPos))"
   ]
  },
  {
   "cell_type": "markdown",
   "metadata": {},
   "source": [
    "## Exponentiation laws for positive, real exponents\n",
    "These can be understood via $a = r \\cdot e^{i \\theta}$ for general $a \\in \\mathbb{C}$.  Then $a^b = r^b \\cdot e^{i b \\theta}$ for $b \\in \\mathbb{R}$ and $b \\neq 0$, and $e^{i b} \\cdot e^{i c} = e^{i (b + c)}$."
   ]
  },
  {
   "cell_type": "code",
   "execution_count": 38,
   "metadata": {},
   "outputs": [
    {
     "data": {
      "text/html": [
       "<strong id=\"product_of_pos_powers\"><a class=\"ProveItLink\" href=\"proofs/product_of_pos_powers/thm_proof.ipynb\">product_of_pos_powers</a> (conjecture without proof):<br></strong> <a class=\"ProveItLink\" href=\"../__pv_it/theorems/3192f2e521cfbf8176820250de40000bc3f4f0050/theorem_expr.ipynb\"><img src=\"data:image/png;base64,iVBORw0KGgoAAAANSUhEUgAAAS0AAAAcBAMAAADGnPRhAAAAMFBMVEX///8QEBCIiIhmZma6urrM\n",
       "zMxUVFQiIiJERETc3Nzu7u6qqqp2dnaYmJgyMjIAAAAcRTyBAAAAAXRSTlMAQObYZgAABA9JREFU\n",
       "WMPFV0toE0EY/pvtmmSzm/bgQS3C2vpCEEIDRaRqRPSmRtCqp4aiVFRE1BapPZQeSnwcAoKKCq4K\n",
       "Hmo1xdpDRTBYPPgketAqKvF50BKLWLBRxPln37uTdItRBzK7883MzjfzP74JwF8q63JTGFyZh39V\n",
       "xMhURg//VS4byY+Pqe/hfsYAudjMz1hN0xq+MtPiE6Rq0hpVKcaINcWmTmAV0K2aKC+vsEKqT1qj\n",
       "uXano/t2LYjZIjv6Ol/ReIm1MjwsL6968uN0Uy1Q6uy9/tgGgA72TF+HL6LxOsBXg5+QpGHzqhy0\n",
       "ggVSnVO0Vje8tncvAR6gjj01IEs5lRfXBXFAkvfBcvh/HoFGYE2HBnt3DVbn2FMrYlxiT/5NPp+t\n",
       "wHAJjgGcwmdXOXjRT9borYL5anFtfz9zapWCkwNGuBxSnVXsLwcvNCG1JS0dkmOz74GjZmIVvzKi\n",
       "xWM4BhG0OUj3entPlsXtH5OfVK23mh44uo8vXkQcvJodj7szGq9g/ROyvTnk7Xsy2elh1cyk8HJ0\n",
       "WwyjYGP9LHtEGEBlwfWF48NztFgJGNh6gmwHOOyBV2RSOImfRjutTIXHbINMgB+nj0d5LO8o05nw\n",
       "BZy8muMAq0DIedDdyXl9RPcgqVqYbXEjPAoLEPzm/MD5LHqT2mm6KhEzP/hsWTh0rLXForuhfT3L\n",
       "ZTcvBrwfHZi0uQL49ewq/AIbILh4rVBgn2u3acJLzPr1pnAzmhW2KPyorruXh5eBnBEvwHB0f9QM\n",
       "WjaMZgkTXhVdkI7rYDvYAPd5zQBh3B3ahFcwp0stjAz1gnQW4KaWSKSjpxVCQLpiP5gicA+6CLFj\n",
       "OgO37Ls3AX7C4l9oeOEnhMZcvJoxix3eRqqL8z9AJS6yelA1NOruKno3yUh9FgJEfVkwKTvwqkL8\n",
       "KN0Pe0LW24QFcMWj8AOm5YacvDAeYWAv6W7jCxBG6MVzU3dzKgEuahJA9WXAWDDpYH4iYtcuOtRP\n",
       "ByRX/uqGZ4kMKxVCFfFJLsLvhYvYujFk6K5AF5UbWmMmAaK+LFjfJJ6H0DLvxFzbmZiAO99fqt3a\n",
       "EnOCNEIlBbXNl4DNyWRSPrPJ0F3+YDLZDfLdxTgvbqgvC1bFl04rfUWTPUnHW8MFUoEXCr3HchfI\n",
       "BjXdTagGG7xnV18GTGeiORpLL5hWvNASDC+sSDWvBTFONSMOt4NHqO7eUQmIfXriO0LV1wnrsYa+\n",
       "s6H0ik89HZdkXKQrW64tAziKr335njhfQ3U3QHJTqHNUiGq5n8Covk5YL7swIEtfTdo88fLHHddZ\n",
       "4l9aOlcfC4kj2bI8G9bKVTRByb+NUsYTr5dFe4amBOusMTgHSo045e1CXvyamp0SrJfrSC5WYsBS\n",
       "T7w4T8Hxf8pvREMacdZb83AAAAAASUVORK5CYII=\n",
       "\" style=\"display:inline;vertical-align:middle;\" /></a><br>"
      ],
      "text/plain": [
       "product_of_pos_powers: forall_{a in Complex, b in RealPos, c in RealPos} ((a^{b} * a^{c}) = a^{b + c})"
      ]
     },
     "execution_count": 38,
     "metadata": {},
     "output_type": "execute_result"
    }
   ],
   "source": [
    "product_of_pos_powers = Forall((a, b, c), Equals(Mult(Exp(a, b), Exp(a, c)), Exp(a, Add(b, c))),\n",
    "                               domains=(Complex, RealPos, RealPos))"
   ]
  },
  {
   "cell_type": "code",
   "execution_count": 39,
   "metadata": {},
   "outputs": [
    {
     "data": {
      "text/html": [
       "<strong id=\"products_of_pos_powers\"><a class=\"ProveItLink\" href=\"proofs/products_of_pos_powers/thm_proof.ipynb\">products_of_pos_powers</a> (conjecture without proof):<br></strong> <a class=\"ProveItLink\" href=\"../__pv_it/theorems/8afde03c68fd80071c66c5d3de57058b30fe1de50/theorem_expr.ipynb\"><img src=\"data:image/png;base64,iVBORw0KGgoAAAANSUhEUgAAAhwAAAAcBAMAAADYT3tmAAAAMFBMVEX///8QEBCIiIhmZma6urrM\n",
       "zMxUVFQiIiJERETc3Nzu7u6qqqp2dnaYmJgyMjIAAAAcRTyBAAAAAXRSTlMAQObYZgAABg5JREFU\n",
       "WMPtWW9oHEUUf7lL7s/+SfJBxRiE7R/TiFSOnLalTeMVUb/ppkhCSbFHNCpRQmgl0dgPIR/qtUU4\n",
       "LJyhH8xpscXrnxzGUgsRD0IEUxMuVjGWVM4q4j9iqQomijhvdm93Z3cvN3Q9zAcHbjI7O++9nd+8\n",
       "eW9+E4A1WKqXOAc+WvCki9vOf1ymOMdJEW+6pm7u8wKDL1UagZoYqR7XH37iFKrNGk1fqTGGrgA7\n",
       "JdYOilcPHuQzG6y8Q3QgJHH9YZlTqC5pOn68xBhDV4jpDrF2NPHUmoHjR1zstO4pN5rSXEL71vca\n",
       "7dkSXmfocsJhtTO7puDwK6RqKXrukC8CvRxSm9IbzG90R9DU5YSDvrOKp4DG5qtl4ajFP3K+YnCM\n",
       "ka8JrxQ/VZELe+/gkBqBr8x5u4dVU5cTDnzHiKfgUtFTV4dDylqcuUK5xMgTVTF/HIY4pG6BLUY7\n",
       "fN11SFFX39LXS0vGcmpP9J1VPAWj2BwuCwcdMlq5zdKIX17ME3Vp0uSBYwUa5R1X759U8eFl92hr\n",
       "6HJ6B767/MHlrumieIquuJQtHzvQgS5VDA26T8bSxj5eAC44huRh8V5oFHP4sM390w1dCED4CIym\n",
       "SaU94bt3C1XZyaJ4CuSZTOZ1jlC6mMm8018xOOR6Us0b2eD5HB8cHZ8A9Aj9fjyzwDr3zGLoormk\n",
       "AdqTpNKfyLuAegruK4qTzPJHIuF++pAYOOoSiVdynJPjHGcx4MeQ1oatY1PrNCcpA0e4tUULtv1i\n",
       "JChi4zFHZGN1uZw76NQmoD+rixM4egAOu+c+Bo6ACqEkJxwRvmEWAyEMTQk8DjXAL7Rn96+r7+Bd\n",
       "yVoaO4W4Lxa4mx5CaASZW8LyDTh1ucNxEjZCd1IXJ3A8CEKBA47qCJzjZUERPqpkMVCLEf478nsz\n",
       "z8YAwUUOV1y4E/y2BDAWs42z6Qqz3uVI9TEKRxB8tuNEZ2vMd5sdDuiHzcyo9z8aUGwsSNx/qE1x\n",
       "8w4bVbrQ/OQ1G94ocoD8HkjDfuvQcedSCX+j7AoEFbZ/3A6HXdfqZVyDQ8pbz5zCZDQvDs/Adim6\n",
       "NbrDCscsGJH09NROePsIPJGzsiDsVHLSWzAVPRDNlqBRmgGfBDMKY6AW4UAPvx2E35kg7kJFBjAp\n",
       "D8O4WsY77LrKHAQ1OMKFDkvnwsUMiJ/6MRravOMNg2DJR4+n4csc0Py2bO1UcvJZN+9YZg0QOK7k\n",
       "2diBug8RsP4C8TrXWubgQzuBSZqxA/cdty5THDnL4afIZHbu3uBrUjFCEJ/v2qM44QilCHxCS59K\n",
       "og0JB11kbZIWFoSdCMcZFzgsVIkaQDhYAwGMA88S/X9CoHCRB44s9IlsaLdnFm5dpjjCMUE2gbwr\n",
       "X9Xri2vURFRnPnfCIW4l1Sl1X5rSHPlskmVIBQ0Of9QFDgtVogYIHNEIY8BXr2f+Efgi7sjTNIBg\n",
       "RcNGkYoMSOyoeSejcdFVsszrjLaOhKTjm6Au5s/BCQ0OSYo44IAb5BeFThCoB51OMgyJdoKy5ZmY\n",
       "CxwWqkQN+PxPv8CG0uoVfX1Ort/THXOcAuPFasBY+u67UhvZUY5TqauukmWbDoeMTtYN7RDMQmci\n",
       "kVBENZwnHlNjg+MKpRZNUPNiIjESPq8yDIl2gvLxZrSvutEoPWuhAZ/02mfAGCBkDId5OtleA8/i\n",
       "xn3HrdAMYzXalZmowkOK632HsAyvZoBObbtCDwAGQ4prm+X8TAkapVOlgLZZxL22jd6K3pLzMh1h\n",
       "BTyLp0x62w0LEki4sHIM5Jz79U9DzW95oATw2DRIymjaYEjTGhzSGX0kZUp6ZaFK1AAmWtvU29Fb\n",
       "6j3Rnjh4Fk+ZV4U/QIqs7FHy8Mi3+mI74Xj4ng15COGpQpj7vgfaswZDwk7x4M9CVI8S5JVOl7RB\n",
       "RaqEBi7M5U602S6nUedzXuYTVMGzuONy0Ee2dtnLwWYSJrSSNRmS2Wl9ZbSKVMndgEYUznmZz6K3\n",
       "0LH4L9yVapnflW2ZhwKtZVClEmUCR0Zufjplr7B4xHnhKPF/FnmVvcgzyAofppX3PNw9e7u4RPHq\n",
       "wQH4v1jLPxVQwPdijZkGAAAAAElFTkSuQmCC\n",
       "\" style=\"display:inline;vertical-align:middle;\" /></a><br>"
      ],
      "text/plain": [
       "products_of_pos_powers: forall_{m in NaturalPos} [forall_{a in Complex, b_{1} in RealPos, ..b_{_a} in RealPos.., b_{m} in RealPos} ((a^{b_{1}} * ..a^{b_{i}}.. * a^{b_{m}}) = a^{b_{1} + ..b_{_a}.. + b_{m}})]"
      ]
     },
     "execution_count": 39,
     "metadata": {},
     "output_type": "execute_result"
    }
   ],
   "source": [
    "products_of_pos_powers = Forall(m, Forall((a, b_1_to_m), Equals(prod_a_raise_bi__1_to_m, Exp(a, Add(b_1_to_m))),\n",
    "                                             domains=(Complex, RealPos)),\n",
    "                                   domain=NaturalPos)"
   ]
  },
  {
   "cell_type": "code",
   "execution_count": 40,
   "metadata": {},
   "outputs": [
    {
     "data": {
      "text/html": [
       "<strong id=\"quotient_of_pos_powers\"><a class=\"ProveItLink\" href=\"proofs/quotient_of_pos_powers/thm_proof.ipynb\">quotient_of_pos_powers</a> (conjecture without proof):<br></strong> <a class=\"ProveItLink\" href=\"../__pv_it/theorems/46a9946e8f7d06bd9b08ae74bbc467a432e345d90/theorem_expr.ipynb\"><img src=\"data:image/png;base64,iVBORw0KGgoAAAANSUhEUgAAATcAAAA0CAMAAADYH48aAAAAOVBMVEX///8oKCgUFBQNDQ0QEBCI\n",
       "iIhmZma6urrMzMxUVFQiIiJERETc3Nzu7u6qqqp2dnaYmJgyMjIAAAArQGDrAAAAAXRSTlMAQObY\n",
       "ZgAABJdJREFUaN7tW4uuoyAQZXcZ5A3y/x+7gC9U1KrYXMklaZO2Y4XDMDPngAjV3Zq2Rb/tQjPk\n",
       "F4MPUGqW37S63L8rVitsZvWVk0VXfZWwwdofqANgqtgdbI3AaZyBkisEBUOcMNXBpnCTGSeUdZLs\n",
       "Td7dRM6twjAJe9ip371KXS6MhS+xLnkfXtlK5am7SWIIYI+ZD29WFJ4fWRNsNh1Og/2H1oV8yox5\n",
       "coLe724iDd7WvxPx1AypemCjLslzJI6Mw0N520E9uJE0zWERh0cfUgJqkgowSx3CxPj9lBIA9WQG\n",
       "6myKWyg8WIv0pfEdKgEyvdnLmenMBSJJ4Axdy6TH3oSr0UXErIpXDIBKBs01180pAQZgygaCe6+c\n",
       "8uuLvQ+XqzmySgBvEJ2mxvjQacbV3L63LFGuXC2aUwJiKUiTCo4iOcyUFO91N1qwpOqVgEYMbc1w\n",
       "4+0GNzP6vbhpV67zOSVgkSqie1ujQpP81eSUFvuvnBLQhgyThAIXEqqL3vhqeaRAJToqKDklQBKw\n",
       "kIR/F4Blca5EoRrYPGi9/TefU23TJo1kFJSPYmDIG024Wn3KuY7o27nEtrTerbgiNmBgDTa5K1Gc\n",
       "VFBwDGrhDXaKNy0M4ww26JvmIBhp4SPcFsYr672Ok7AurAdNr8p15m467EkFhcdaztgOu8UUaEOI\n",
       "/0XRkIlpa5b0bTCAsNqMgl3c8sZncJOsL0C7lLeDm8u0T+rmzxWUDjfZ+mC4SlFCSxX6Z2VETJtF\n",
       "Th4NIhRW2eCKhHD/WhcFGeOs9Q5uYfb6oa02DMjF+MYuKii8czMhWR9YFAHW0iHoxYhDdTcLck7f\n",
       "RoMBCpP1oI7XbRnv+tvYl64fprt76Aa3q7xwL6udVVBwF+M16Zep4tR3LczdGPy9b8gcfZuyQ4TC\n",
       "+00OiZ7XbRnv4Tb2hcU66Z9/2b5zqzgEd+u3kwrKIIgMNCWMh/I412MkV/M56OnbZOChIIzxJodE\n",
       "z+s2jfdwG/vSXafR5G8YVnXvzd3gkwrKQIdtHx5C4IiHLCjvuBkgqSnN0LfJILiQBJvFrQ9Em8Z7\n",
       "uI19ieMSw4IKnVmhpN1Xd9G7cJh+9rMpbAjgU54gffJTc/rGZktPU9P/TnO8bssY0U3cpr4wH8D/\n",
       "/glh3G7lU/pdBXYlI/iimbomJjuaEBAaAzySItnInQz60mIRGqLxwOuOjLP+NvZlqEHi9SRXv6Ed\n",
       "HWmmOD4kIzQMNJDYVzH+pHzqFoGM0eBnI30bDDQ3vrZThMx5RDQeed2BcQ63pC9dDdIDZ3L7JnyT\n",
       "xMwVx1K0biftQh+RZkAfGVw23q3f9GGaI1ul10JxLNPO0pNT+0OXNpPyuB1z5809dPyEqnhWlbeP\n",
       "Ge/iZo/HThcRZ1SFntjqlD9vw/7yNsF8a25ShZaK4w9R+34O4C6vCi0VxxJN8GpgQ833ztWgms7V\n",
       "zE6l3TpX88EyregcV5pRb56rORdKX9+wuaoKnSULVZ1TTc9F3ztXc9Da2h74mgZ061zN0fRgVRlu\n",
       "EtPnb1Lhcx9If6GuYjU+lkkez3RWoBobe7gibWp9eJo8Gn3UdA7zPyuNNopCF9hnAAAAAElFTkSu\n",
       "QmCC\n",
       "\" style=\"display:inline;vertical-align:middle;\" /></a><br>"
      ],
      "text/plain": [
       "quotient_of_pos_powers: forall_{a in Complex, b in RealPos, c in RealPos | a != 0} ((a^{b} / a^{c}) = a^{b - c})"
      ]
     },
     "execution_count": 40,
     "metadata": {},
     "output_type": "execute_result"
    }
   ],
   "source": [
    "quotient_of_pos_powers = Forall((a, b, c), Equals(frac(Exp(a, b), Exp(a, c)), Exp(a, subtract(b, c))),\n",
    "                                domains=(Complex, RealPos, RealPos),\n",
    "                                condition=NotEquals(a, zero))"
   ]
  },
  {
   "cell_type": "code",
   "execution_count": 41,
   "metadata": {},
   "outputs": [
    {
     "data": {
      "text/html": [
       "<strong id=\"pos_power_of_product\"><a class=\"ProveItLink\" href=\"proofs/pos_power_of_product/thm_proof.ipynb\">pos_power_of_product</a> (conjecture without proof):<br></strong> <a class=\"ProveItLink\" href=\"../__pv_it/theorems/185c87bab2a9a87f0b7a5455db9add5c33bedfc00/theorem_expr.ipynb\"><img src=\"data:image/png;base64,iVBORw0KGgoAAAANSUhEUgAAAS8AAAAZBAMAAACSpLXvAAAAMFBMVEX///8QEBCIiIhmZma6urrM\n",
       "zMxUVFQiIiJERETc3Nzu7u6qqqp2dnaYmJgyMjIAAAAcRTyBAAAAAXRSTlMAQObYZgAABBBJREFU\n",
       "SMfNVmtoFFcUPvuY7O48Nv4oWCuF6aatIgZCFqzUqpFS+qt1+6O2RdBlUQKCsoiKVn9sI8jGBwwE\n",
       "aqkNTBJaSx5saAk0RXBJiOKTxfzQBJQFrbQiKqJgNyqeM/feycxmMgkuogfO3rnn3nP3u+d1D8Ar\n",
       "p5EEvJEUafnqzQS2EqRZ19SE7juvmWIlxtU0jLzYY38nH3dJC1xymg9zvTIJrtcI7HfODpJ/yALU\n",
       "GQD/z9wu59gYykHKPmIhn5MO8QWS3qkR2H+cnRRvQgR47VsQqt4eN9gYGHQIb/I56RD/RJ7I1YZL\n",
       "a2Lsonr6lxGAjsZl1fvHxRbDIZwS8xHGcRNjbrDGxDMYu2g9Hgxdnvv3Ccu1gH2dcEXMu5iedr63\n",
       "93iNnjzO2UVn+V97pEpWfDRfMe2EzIo56RA/yecPvAwadfqzgXPsk+Z3bOHtxCrc1OShGSRhx+h7\n",
       "pivuMg3cb6RDvBWg/WWAOUL6GOd1RvyBnXnPzYIBWlnML98jukmfUSws4UVw33Vc4Y7M85d0iD+1\n",
       "cmAGfVmeP7D9jOV3KeFxJJlSgXodlKxXSKJpukpYecUd6Oe0CQ/ZlHSIIxB0lUblaGsGnE7468we\n",
       "Zz1Wdh5ao7uBvcU4VIEIrRToTqEyFIogPfAAFsAAWmvCTttYtH8NyE/ZlHSI1VLEhn4qWZK/NaW7\n",
       "5HPyeN/oavj1MGwqih0k0ItqN6jJj5KrqoAFclCgghlJszK2fnB2YG+D/Ni2YNoqY+EpN7BYeYPY\n",
       "cW24F7RfAE7xGqMd+dmEiSIoApgl0IvagKcr0UKnp8tYiawSzrpj7DZ3JVpHcWN+RgZnhSPLGNq3\n",
       "4E/Ph/9AmLz32RBixXFzYhuGH27ZiEYwePtCAgLW7xn8hUHYoYhyVt+CIecIfgdh8MtTUFcedgof\n",
       "Udi5gh/+RHTybqkCcRJPTrDlJWaD9Y5qA8Z0+1JmwEJJN7BRxlFd22MXkbpSFO8ZKnoVGlxog6tp\n",
       "19p2OCiyqsj1MHkg1CRloYfEf/N7tMENmSyo9Bl2+2IJQF/R2uIG9jljOfPBj+/b8dp8iSIt5QGM\n",
       "/PRb4ruMq/j2LBcpSDqWnmbS8xlMwzf5fF4/8bUI6BXS3ny+LTbEz8b2xRKAfq6RjpTmeJIsOun7\n",
       "JHnTSadewYhOmnWWIbtZYakgEsoW+BgNSjWayl+auXLo/DwecRAP8kwa92/FnXoBY/MXoKasZyUF\n",
       "I7HD8L2WgzFa6hgDVUcBtS9jDJjaX3VWO3g/H7J3lY4aPrhE28PdnvljNcAR+uy/dyglLYYNF/EA\n",
       "qz+6/O9WQAG1LyRQDtyVk+U5G0U/BLJfm0U61XpBjDFe3tmwFENqFsG8WuuJWf680wfYhI8ea7r9\n",
       "Ba+JSnMKXjW9AGiGJqST5xGrAAAAAElFTkSuQmCC\n",
       "\" style=\"display:inline;vertical-align:middle;\" /></a><br>"
      ],
      "text/plain": [
       "pos_power_of_product: forall_{a in Complex, b in Complex, c in RealPos} ((a * b)^{c} = (a^{c} * b^{c}))"
      ]
     },
     "execution_count": 41,
     "metadata": {},
     "output_type": "execute_result"
    }
   ],
   "source": [
    "pos_power_of_product = Forall((a, b, c), Equals(Exp(Mult(a, b), c), Mult(Exp(a, c), Exp(b, c))),\n",
    "                              domains=(Complex, Complex, RealPos))"
   ]
  },
  {
   "cell_type": "code",
   "execution_count": 42,
   "metadata": {},
   "outputs": [
    {
     "data": {
      "text/html": [
       "<strong id=\"pos_power_of_products\"><a class=\"ProveItLink\" href=\"proofs/pos_power_of_products/thm_proof.ipynb\">pos_power_of_products</a> (conjecture without proof):<br></strong> <a class=\"ProveItLink\" href=\"../__pv_it/theorems/33dc18820cfbb3c2aeffb9526cced829abe7d89f0/theorem_expr.ipynb\"><img src=\"data:image/png;base64,iVBORw0KGgoAAAANSUhEUgAAAmgAAAAmBAMAAACCDHpPAAAAMFBMVEX///8QEBCIiIhmZma6urrM\n",
       "zMxUVFQiIiJERETc3Nzu7u6qqqp2dnaYmJgyMjIAAAAcRTyBAAAAAXRSTlMAQObYZgAABwRJREFU\n",
       "aN7NWW9sE2UYf3pt1971D8MgcZskZdMxY4KVRjEwtISAn9RCMpBAXDMdJoSQRWXR4YdmH0gBSQ6J\n",
       "QFCzA9SRoWmjIThDQmXBD9OQIhAZCbigEvEPLoAGBhjfP117d33f3ut1S+5Ndndrf8/ver/nfZ/3\n",
       "eZ4DEBnK9Ok5mMIRyjuaUkmS0yfk+Pj0ekGrWpjSMdfhlM+To2eU/icqWteUauapdzilRKdas5NE\n",
       "25+oahqMilIykUL0f5LLcN5Boq2ryjoYFaVkIoXod2r4Uq53jmje21WZh7OilCykGH1NUucKR4gW\n",
       "TlZlPk0VpWQhxei94+S6XXOMaH1qVebtjesFKVlIQfrL1BcRx4j2dHXmc7QmQUoWUpD+NE3+ah0j\n",
       "2n3k+KEd00H01wuXBCh5SMOQ8zz6vjj5/iYVjezCF61FE8LZGvLf5BYpO7Y1aBnOgCcFKDlI4zjE\n",
       "pXfRiuhBKtq3+PSbtWhCOHsFzxgJF7YCm4J8OQ4NApQcpHFc5dLX0BRvIxVtL3ZMylo0IZyt4SZr\n",
       "/4w94xMAPaGUCCUbadQ6yqWXiBvgMSpaGO2iway1aEI4W8NHnuQtm8UEwMrvhCjZSKOZyqUP0MTv\n",
       "uEpECw0PDOwR2AiEcPbyLOxf2eZWE46LUrKRhrGHT++9Q/OPLN09b6XTb4vsniI4e6Lh5EfCj7lr\n",
       "aLZmvW+0zqu3qoxYlAI1VBOfXrlHTpk8Fa0TYCu76DKKxsXZGrnSJfkhfnTw1MFf1paL1fCYLgwV\n",
       "a/BT1/D4iUsZsq7Wd1Sgv17yBhJtCdkjWAHaKBoXJ9SpuWb6QOf2PvyEPjTv9+fhKbQQaLBmTDmF\n",
       "HGaBWxfOA8xlzaIsIVmzmXy2uQL9XSpajormA8mU0q1qjUszy0QrxyHOd17tsJDry2+6sXeGCv8e\n",
       "bXn5skk0EidcKHg8o8Fr4I2R36n8W06VwU5zj4MvoqvMx5ilD4OyiGRR089mVKC/UQqWSLRg3qe3\n",
       "PhbLB1LDsKBMNCOOAJUXNe8ffL0ODy2Cj7fBS9g7vxdMpCAMRziiPQAKSko91LndjM0NV+GuFGQS\n",
       "wqLpKEtIBjX9bEYFeqNo8uhKnfH5wQEIfO+GXDA2P7ZQL5oRR4ChDwCO8bOe7fs0GMlBAIt2u2CC\n",
       "RLuQh6HY67GseS0pdyEwVhSNNzI5OK5f913GmHaFS+mx3p838+mVuxN3p7Xn1lfQAy5a0SQ1J8CD\n",
       "lQysWR3Jlc00goODzb9QNgxcegRpaZzm8zYW/bQEw9agf1Fu473erBETLFrOONMyERq1lTso7x60\n",
       "FC0LGwPqmXON0cZObnhnUYptBDx6+V7JG1i0LxBlaHHetV5KQphEqsTwOYZoGKdswp2l9UCBF0bM\n",
       "t+1PtBfDLL5f6DOaL0o9UpSYINFiUaNoJLjivb0XfkjmDKLhKEbCTab4xP5IqDsIZ2fBTA237N05\n",
       "ZsrBoDQhGdQ48PLoTXka2Ub3zYFpcYQ4SEUL4huaRcM4d9TbBWuRFQF+NWj+tTFYVbQhk/awOvGo\n",
       "o8REcq97w7QRuJKFdfBJ4+qOuEE0EsW6Jy4obcfDux+SD3TBTWjF2Sfz9QKL0oRkUMOzfHoP6W/A\n",
       "C/GCaCE8NzpgOQ4Cq9LpdCSQkPNd5aJhnCuLX8z0AAW+32b+tQ0Tb2yQb95Mp3vlI/Surrg7SUyk\n",
       "4LtnTaL5Rw01j0ekNqiJeGtxCIJ+5tcsyn6Bgk7l0odo6/ZHTd9Pux9aoM8LNXSmwVI0q7yMflpG\n",
       "9V/QsGgE6D5QSJ6KuNuwYyC08OITx5BWxIMLIiQHmqa5sjV0eQbW4hvr3B6sNVTXQqK5ElJKHkuQ\n",
       "ipqVlzMoTwj0W6JcesoIX+ubkPIYmmvngxDEDxOKQyjHbkK61PbnyEwjQLk1ASfkbbBXmzjUeW/m\n",
       "A3OhAe+YJ7HBrpMQjOzVfNp5aoJTDlMYChAn+tWK6ao5e0WTIZTK8fJtBqVQZr6VS1946XBFL5on\n",
       "CVdh9zDAdry0fy5Mk3LRPB2fLyKiESB8em1LwtsAy1VvHT40wLJHm/LQqXS50dr346CpnPq1E5Zn\n",
       "vRty1OToqdxBUy+alnUTHUN5/j8R66dbBmFV3qCVdLGk9Iv06w5x6UlhVuAta3dLKO5Ytrt7DMBA\n",
       "ycH01BWI+vBlS7q38EW2AjfAFvvt7hHO5+WUI0JN5DyPnvSECg0iW+8IVtzImhvp+islKcVrHjGs\n",
       "lspePj35nZNJp6Srwz1qWzTTyDOuTAEWrPLVyR6TTkn75K7sZIlW9ZBGHU8p0c1zNjhGNJTvOJ3S\n",
       "RRfRLAeJdsnxlHP189cZovkjDqeU68hpp+og0ZRNDqfsJxuAshn+l2i30pGpVG2P6mzKHXT2ksDW\n",
       "kh4XtGprU6dSNDnhaEolTk4fkeN7bYn/ANfUP9hggLyKAAAAAElFTkSuQmCC\n",
       "\" style=\"display:inline;vertical-align:middle;\" /></a><br>"
      ],
      "text/plain": [
       "pos_power_of_products: forall_{m in NaturalPos} [forall_{a_{1} in Complex, ..a_{_a} in Complex.., a_{m} in Complex, b in RealPos} ((a_{1} * ..a_{_a}.. * a_{m})^{b} = ((a_{1})^{b} * ..(a_{i})^{b}.. * (a_{m})^{b}))]"
      ]
     },
     "execution_count": 42,
     "metadata": {},
     "output_type": "execute_result"
    }
   ],
   "source": [
    "pos_power_of_products = Forall(m, Forall((a_1_to_m, b), Equals(Exp(Mult(a_1_to_m), b), \n",
    "                                                               prod_ai_raise_b__1_to_m),\n",
    "                                         domains=(Complex, RealPos)),\n",
    "                                  domain=NaturalPos)"
   ]
  },
  {
   "cell_type": "code",
   "execution_count": 43,
   "metadata": {},
   "outputs": [
    {
     "data": {
      "text/html": [
       "<strong id=\"pos_power_of_quotient\"><a class=\"ProveItLink\" href=\"proofs/pos_power_of_quotient/thm_proof.ipynb\">pos_power_of_quotient</a> (conjecture without proof):<br></strong> <a class=\"ProveItLink\" href=\"../__pv_it/theorems/4f59d4c2c7d8de93c25349bcd316baf6d45535cb0/theorem_expr.ipynb\"><img src=\"data:image/png;base64,iVBORw0KGgoAAAANSUhEUgAAATQAAAAyCAMAAADlcdcEAAAAOVBMVEX///8oKCgUFBQNDQ0QEBCI\n",
       "iIhmZma6urrMzMxUVFQiIiJERETc3Nzu7u6qqqp2dnaYmJgyMjIAAAArQGDrAAAAAXRSTlMAQObY\n",
       "ZgAABVZJREFUaN7dW4eSwygM9d0Bphf//8ceYMCUuJB4PSHM7E6KIsJD5UmQaRp9qPmZeQSZfmYo\n",
       "9dcTQAj9g9n8Cmbwr/efzhMG60P9I6hJ8McTIGb/4fCEqV/ATID5XWe7OID8aLpvHAy972zXxsIf\n",
       "NewnnHMR5QtaHye9wtkuDeNsa9saOr6D0srQYIzUHCkEgWiSXuFsRyMp4AhqKLJt4oNjpqsVzAEm\n",
       "+8C+YZY2wV5dcqngaJ/GMzRWZQUcH+joiquL6R1n288vpYJio8TQmOGlzGUkWhTyC6MpS/JogbWz\n",
       "7fKMSkGO5wKHBg2BCsPoe4D51eEWzqs8o1aQZ4axGS4ooTAkGYPyITvHs8unWgV5shk6FeCl4Bc8\n",
       "LUYsLkcSM8m0PAP7QGsU5PPokavOcsvR5jbMQqQpmTZOpftIaatg38AHqwZKIADM+CyEmBM4Z+bR\n",
       "Vf+0CvJ5qbXcIzr91SGNlV5zSPTBfUxe2VinEkk2QzEQsaCSPx1Kk/tynrbbw+OGcTZYHiiCO6In\n",
       "AfDeiaOBKTkUaHKRB9VBK81vNXGthBucjlZ4FkFsQSfmcZ9JLC59LsyN0ZoeFeM4qW7EjexqcUZN\n",
       "/Jaxx4juPbujCpZ/CsorUJXJxvXuBXBJZXby4mp6mT8uvuqvN+8r97hABdVeUX2Zpy/3ORLwgcz9\n",
       "gweTSqYIJXGrFDoRaN6lkBG0VTL15/MQXipHzge0Xa5sWThZ9mLWso3LMa8E+MXIc45n1UqvwFVh\n",
       "QCqE7DsCM7un2MStMvJEoNEAnUcqAS+AZvJ4zT1U1FliW3Hvg/YaiPuahyto3Ey42UrNJBfuq2ru\n",
       "0ZARkxiAdwUaDR40LbS3JISo/ZM7oBXR3e1F6NC0feo+9xSv3LOIadcrSroaGOMkBBaBIDE4Bjof\n",
       "ZrBccztP3A4ScSAQj8mSQARNnVtaVL4qVlubjOo2EfAClOPseWdvAqxxV0Y+LSgOzacUkK2FFHkV\n",
       "UjFBdCAQj8m2kO5Bs+Z1DlpQTjwJ+s/+6fB12i4qrHiaeoynxTZH3Ce3MEy9xaUwLsqukm+bmAOB\n",
       "cEy2CVjQECF0vpAIgvL1U3LaLA3AltzOHQ2bebnvmDeGRx1cwoUOf3iDqd9suwgucbGl7pAZkSOB\n",
       "sNgk4CyNQ30FtKDcGz2Ljue0t2uW5Uss5yqCAVpD3Ne7bRTsh0fhdpVpF723jUMh7YVZ3ewOl32B\n",
       "YHekcE+JVfzaeB+0oJzYwPzvPy48693sWTVuVdldq7mq6j0aTwqaewy4Dp+AuzMen+bS0jjyj5W1\n",
       "KZfObNTR7EggHpNtAoFy7EWdDLSoPNIN/2n0kqdVJKI6bK9DmOltt0YF7T0GWeueCZQQ+S1k6S1h\n",
       "UzNztRZ2FoZJuBG2J5COyaKApMpyOIGQOQUtKV/pRkBNqVcki5r94nKuLLO79IwKXtxjUEcNExgi\n",
       "UoHyxwLHoG16zqseVLbIWG5Lin7YGYoKXtxjIJ2tOck/FbgK2oX6tortxdmJIRDmBBr11stRwQuw\n",
       "QWezVn8scBE0fYFVVdRLZE/FYsSa1aZdgzkpIIKC9h4D/44j9nerwoqaQVNlhW11sDd3JgXtPYax\n",
       "D4vroDYBXHhjxqdArwfUCnK/oCNj1rD87R6xJ1lz8lfY3QGsFHS0iL9+1HfFUqb2BCO1QTjodqhS\n",
       "QemdY1+1amoj125Y1zzHO2b+1f5avVAwddS4A4z63JzT1aaIzu4wszdSeqHgI8L3faO5qMxx7Aqq\n",
       "CJV4p72RKzisaUccT69BAjE+aBzgJ6f7jR9fTPJR1kTQ9BMDPZjNNJt+ZJDHyObv/HTR2tpjP5JN\n",
       "SeB/PsU/3dFdAYIAAAAASUVORK5CYII=\n",
       "\" style=\"display:inline;vertical-align:middle;\" /></a><br>"
      ],
      "text/plain": [
       "pos_power_of_quotient: forall_{a in Complex, b in Complex, c in RealPos | b != 0} ((a / b)^{c} = (a^{c} / b^{c}))"
      ]
     },
     "execution_count": 43,
     "metadata": {},
     "output_type": "execute_result"
    }
   ],
   "source": [
    "pos_power_of_quotient = Forall((a, b, c), Equals(Exp(frac(a, b), c), frac(Exp(a, c), Exp(b, c))),\n",
    "                               domains=(Complex, Complex, RealPos),\n",
    "                               condition=NotEquals(b, zero))"
   ]
  },
  {
   "cell_type": "code",
   "execution_count": 44,
   "metadata": {},
   "outputs": [
    {
     "data": {
      "text/html": [
       "<strong id=\"pos_power_of_pos_power\"><a class=\"ProveItLink\" href=\"proofs/pos_power_of_pos_power/thm_proof.ipynb\">pos_power_of_pos_power</a> (conjecture without proof):<br></strong> <a class=\"ProveItLink\" href=\"../__pv_it/theorems/3c4f979d6914dbc8a8dd66d37bf2cb562b06debd0/theorem_expr.ipynb\"><img src=\"data:image/png;base64,iVBORw0KGgoAAAANSUhEUgAAAQkAAAAcBAMAAACAKlfLAAAAMFBMVEX///8QEBCIiIhmZma6urrM\n",
       "zMxUVFQiIiJERETc3Nzu7u6qqqp2dnaYmJgyMjIAAAAcRTyBAAAAAXRSTlMAQObYZgAAA65JREFU\n",
       "SMfNV09IFFEY/9w/7e7s7OqhQybBupVFICwuiAe1DYlO1QZldXKRwv4RohVlHhYPMmqHBaGikiaF\n",
       "Dma6VBIbQotLh6xgq0MmJUtlhxKTIKitQ997M7M7sz7XUcbogW/m/ebNfr837/d9vyfA6jTLXP7n\n",
       "e1LwL1oi/2Pet2qR96vuv+af6o4qdyaDSVhDqsGv/HMLI5m9CxnLwi2qGH0vk0a818Oa2+A9QS7j\n",
       "XoAXxrKoIF2f/J3bTD4nWe8ZaxFr7hZxI/a2wD7skC7V6nsjSDjS2HFhaWD3uFJwHMAchiBrcgdM\n",
       "cz6oAisSRqE+I9gXI1hQ2bvl/S4ImEMwjNcoe/JaqLQWQwllPw9wlVzDRrCgAV8r6hNxyHtUKtS2\n",
       "NGUgSfiiJCk+agSLm0SOF+SBTZzE7SkCdwCYlaHNRVb+CczYVwG4JgYHrxgizpfkqzYrOXIqTqM4\n",
       "Kl6JrMn1z0nfW74N+1L8+ykI7TpixJeEa0FSGvQmSsU8BdRRXbFeA+zF2UcBunSw8C0JCyQ1kliG\n",
       "iuGbDE1nlDtHG529I+Ke19YOzKI64FI67GZpFp+JHFBht5Jkp2l7yHiD20DSVyOoAL4IpqQac15q\n",
       "alTZjbOls9azkAUDbqUJCrBdhBZllQwW5jTYtOV0BF/ik7YMzTF/kjskWmcVu7mTqAFPnO+HhL/V\n",
       "n00kNvxRZrEOuB95WBSEYSS44Fs4UvXKcDI2CK4bAGOy3bh6rokYznVXu+hF4E5pR7g/4FT2fVeO\n",
       "LohxjcThcY6nkJrSdQS7gbIZsJCf3DmKxGS7qSNzMNyQKhz6DwvGdkxSJ/cb1qRiOepUf/8onHZG\n",
       "cnME7mOOc2etaXATaOpt1m5SUjizPxuO+A8DBjntiZo64E1ITuBqBgt0mHP8gkIDhagVs8/aDANk\n",
       "9CimthsSrrIpkA2H/sOClSVZcEW3vYcbAxI0w8qRxs2XN2kQmlEukXiAKQQHBUHwXD+QtZvzgtAB\n",
       "nqfl5DdlQWH1Z8EgKzNTwaWAzbqK7ofMZkXsU+Iamkj9+LZsNyHp049OaI9QDJi+GVe5maRJjx4S\n",
       "XDqzjkjDbuCDtL4GYdzRTe3miRSOH1Jqbzf1n1xYsQ5ynLGrdTes61O4Mkc+S+O9GoAecjs01xm0\n",
       "llC7sWMtcLbPcn65jiJM/CcXVtpJ1SmHti5dLGw5xyAT6kIujdJlKwpAUzHZsHrpfapFRnSxeLfo\n",
       "k9iyYIXjiv7HyHPESi4LVtqDlbAwi/CftL/83P/RcQ73NAAAAABJRU5ErkJggg==\n",
       "\" style=\"display:inline;vertical-align:middle;\" /></a><br>"
      ],
      "text/plain": [
       "pos_power_of_pos_power: forall_{a in Complex, b in RealPos, c in RealPos} ((a^{b})^{c} = a^{b * c})"
      ]
     },
     "execution_count": 44,
     "metadata": {},
     "output_type": "execute_result"
    }
   ],
   "source": [
    "pos_power_of_pos_power = Forall((a, b, c), Equals(Exp(Exp(a, b), c), Exp(a, Mult(b, c))),\n",
    "                            domains=(Complex, RealPos, RealPos))"
   ]
  },
  {
   "cell_type": "markdown",
   "metadata": {},
   "source": [
    "## Exponentiation laws for real exponents\n",
    "\n",
    "Similar to the laws for positive exponents, but we need other means of avoiding $0^0$ which is undefined."
   ]
  },
  {
   "cell_type": "code",
   "execution_count": 45,
   "metadata": {},
   "outputs": [
    {
     "data": {
      "text/html": [
       "<strong id=\"product_of_real_powers\"><a class=\"ProveItLink\" href=\"proofs/product_of_real_powers/thm_proof.ipynb\">product_of_real_powers</a> (conjecture without proof):<br></strong> <a class=\"ProveItLink\" href=\"../__pv_it/theorems/3c7842adca79e1b40b5ef315e7a2af30abbdb2160/theorem_expr.ipynb\"><img src=\"data:image/png;base64,iVBORw0KGgoAAAANSUhEUgAAAUcAAAAcCAMAAADFqY3ZAAAAOVBMVEX///8oKCgUFBQNDQ0QEBCI\n",
       "iIhmZma6urrMzMxUVFQiIiJERETc3Nzu7u6qqqp2dnaYmJgyMjIAAAArQGDrAAAAAXRSTlMAQObY\n",
       "ZgAAA/tJREFUaN7dWYmypCAMdHcBuQ///2OXS1CCqPOs2nGpeq9SM22HaQJJcJr+lzE790LqLxyG\n",
       "vJH6nw06QysOp69S4Ls+N9Tsx2RfIiODVhqLvLxP2U2nG2rxY7LvGE5BK8m6YMzU2QbFOMSPsffW\n",
       "bkMtWq67ZN8xCIZW3l9cTfjkHOPzRFE01B2nW2oBuBJZzUT2BbrKRQFr3XBeVzvOqySIQKMytxLH\n",
       "lloArkRm9ME++fKcDFIo8lmHjM8qpOt63PGaqZnzA4V/dsuVyOQqsBQv2NZ19qjNziE+kb6aLri+\n",
       "4XVLLTpZLZKtYWj0q7d1OKXsSSi4UCiRui2vji21gFyJzBoVhuQvCEeLoFXLIGPOloFgi5P+GN2q\n",
       "tSq1gFyZbBFhcPMCHYkDliSGYKTG8kHIvJxngy51L44TGYtZR1ysYh/qNefRl3Hq2GCwtEK01oz8\n",
       "vN0wa3QhdKE1ebnNIOPnujomsjk8qgbqaGEYZ/ggUWqOBSNu0B71EKPjidB43PgH2/TrWGMpZPuH\n",
       "XY2iPkQu88lKH1DL7rEdycLJiEHxqLQhxH+qqPCTos60veYKwJP/yqiOkAPEQEfJcpmbEuXuwCeN\n",
       "RSKCA99qqSdAF6JOdTyi7kmeyEJjA7KMFVqqwGRlVFCbJuEXQFTJKljFjxADHcOy+anRTnFTd122\n",
       "kCjYRvESuX3IeTweUh/Go3Sl51cEM1c2ezwlqKbbgF57zQJYVTJt4zlA7HUsTpNDk9wEf7xZHMH2\n",
       "lloCWC/DWOlC6Kb+252PbPzcQf+dyIRkaXUUp/7DXbvow0j2ek037VQihLSN5zFir2NxymLh8Mf/\n",
       "2TyLdlcxsbfUEgKWuUnLYx27kNN8fYEakGmSt3X4qZTHEClJQu2Jcq9ZAV4lwhif2yb2GNHoWJwm\n",
       "rN4sMWrvIlBjxdn4PWxOmmMAsaf14wVqQLbg2mzhENmUx9jwXFJT2uk1KyBEm8R2bhu2Y0SjY3Ea\n",
       "w0Cs4RC8todYjaJsKYYxlQwPDrs+5LyfuUANyKzKk/dBIGzIDbXiIDnPqn2vyXa7VlOj2sbzELHX\n",
       "sToN9wC/f+V7gG6+jqvYWp9dYz55jQ3IfOVJlzkc7oZuqnoak8ckQyZde80KyFWNmRKgNJ49RDce\n",
       "i9O15lkvo0D9OBEDrU+GWh683IJkM8Mak/iTRCk5lM9nIjQ9NMRh6TVXgObG15aK+E4tAmrj2UH0\n",
       "dNw4TTVPFtJ03i5RBK2PGvUnXwaMyXA+3HadyS1AFzGsH/VpkDENrQ8Gpw/qeJvstATQl1819XU8\n",
       "b91r/6p+0OfbJy9l7pPZHwPGOtoLIaYJtG5fYz55Zf1v778/f7GuZ2jddf7kGxTygtcx7xl/AYk+\n",
       "MzrmCNogAAAAAElFTkSuQmCC\n",
       "\" style=\"display:inline;vertical-align:middle;\" /></a><br>"
      ],
      "text/plain": [
       "product_of_real_powers: forall_{a in Complex, b in Real, c in Real | a != 0} ((a^{b} * a^{c}) = a^{b + c})"
      ]
     },
     "execution_count": 45,
     "metadata": {},
     "output_type": "execute_result"
    }
   ],
   "source": [
    "product_of_real_powers = Forall((a, b, c), Equals(Mult(Exp(a, b), Exp(a, c)), Exp(a, Add(b, c))),\n",
    "                                domains=(Complex, Real, Real), condition=NotEquals(a, zero))"
   ]
  },
  {
   "cell_type": "code",
   "execution_count": 46,
   "metadata": {},
   "outputs": [
    {
     "data": {
      "text/html": [
       "<strong id=\"products_of_real_powers\"><a class=\"ProveItLink\" href=\"proofs/products_of_real_powers/thm_proof.ipynb\">products_of_real_powers</a> (conjecture without proof):<br></strong> <a class=\"ProveItLink\" href=\"../__pv_it/theorems/536bfce1b1b02a7a28e953da0099a2d6acd1b36e0/theorem_expr.ipynb\"><img src=\"data:image/png;base64,iVBORw0KGgoAAAANSUhEUgAAAjYAAAAcCAMAAABFwAV+AAAAOVBMVEX///8oKCgUFBQNDQ0QEBCI\n",
       "iIhmZma6urrMzMxUVFQiIiJERETc3Nzu7u6qqqp2dnaYmJgyMjIAAAArQGDrAAAAAXRSTlMAQObY\n",
       "ZgAABdNJREFUaN7tW42SpCgM9m4FQf59/4c9QEBABLS57p6tSdXMpqbpLxg+QkLcafqVV2VR6hsB\n",
       "n6IMf5xfKYuAXwn4FGX449QFr+tK/2J2oCVXnCg+2FIREIxAwZXl67O+6FUWIx92/btjCsK54mUb\n",
       "vVmKgAsegEKuh5Nu6xT/0qZ/87Jc8TTaAMBsJEHLgEK+jtJBm7b1X9r0CwS5EuL3yiZg8oFR3AmA\n",
       "uYPZI5R4Wh20aVvXtDmyZilH0GYg3lcJ3VimHP7WPJJqQmIeRBsHeCYCfICSTquDNm3rmjaCTxex\n",
       "9xltBuJ9Z7V0rjNmnSFDfDsaXEsAPFH3EYqbFlZaZvPrtJ+Tj9rWNW2oJxklQw6pgXhfJTPPlSP1\n",
       "ZO6vo2jjACXkUkLEBQoe5vdR0ml1RJu2dZPb+KAg+BDaDMT7IWeUWRZJpoG0cYAcKLuAPNS7kNxH\n",
       "KdOGEhb/ij9qWze0kYIZoa8ntDvCOLxvEjnnSlyZCzGNpI0HxGhi2o0wXBOB+QFKkTZopvGv5KOm\n",
       "dVtJbcTIrSscUaukHuD9gDpK5cpEoYAgyYJfpM0JUDuUQ/OPD9zLxu6j3D2k2tYtbbA9vMidKytY\n",
       "o809vNc6IPe/vdQ+tG4BApwpT0iuLGaXqihJRWCDrxzMJ0CmVwfo+WJAw5UKivauigROfdPqp03F\n",
       "uqXNYkyyW+6v0qaJx4nAKwaXlYkbtQKCoQKdBU4vRi07gMgesvp7p0JC4Uxhs6wnG52RJwxrAtrE\n",
       "amnBNVAqm7m5z4P1/brPLDeoX7KgFYrFnG64TZsLPMYFhPqvDJkcDCm/o08dED8QmLNQsDpvLtpB\n",
       "1xiVZXHeWFw1kT4bzBRoh6yXs2Nb10Y8hrUA99Et2vSgPBWW0sZcG18lsN7/nGjv61kxvb8hXPUP\n",
       "v6RNEU8STpl5JEktYUKCnndAwkC75JLV+VxuB1UwalGaWd+gUpUdTgGvzCQMvigQ+m7gw7AmYFe0\n",
       "6UF5Xk0mtKHq3J3L/c8lMDFGdBxSMR6DACvkTy57hCGO4piYd0DCQL/k1dS63D+pYcS0CbPbvyV2\n",
       "RDOxNScrwanCNjOabwO3cgcgindJktvg6f+ZVtG660kRinceSSgRAHDSa4FS/3O92hT00ebAYyvS\n",
       "xsyyhoitt34SIPLOyRHarTUd1mpPUu6f1DAi2oTZYVv7/dE/0k33FOUxSRW2cXu7OnE6ijYdgM1K\n",
       "avi0itYdbTh0Ky4Xk1HNegUBTv2vQ4RgEvXRJuCZ9UKr3dfhM5Y+UdY5OQbqJYcYr/WoXOyfVDEi\n",
       "2oTZ7UN5tKXmU7tyzhRrWZ8wooMQ6ko5PUoDUDbvbfqn9cLdle+Ab7uXKAPGi+YIgyL1vzlZRKhb\n",
       "GrTxeDZFsAREq93Q+qEoR8nBm3VOjoEmUlAg67Qp9k+qGBFtwuzsUhK/pMi5oLzTvMIwAIhisLTd\n",
       "HdKXs5IUvG3A9i3xjWndv7siGW2kj32mLEaGVLb/EPnf0IZKzwzUoI3DY2bnEmmSo8NP0NU1zmTe\n",
       "OcHJAcORqIblcv+khkGiKOBnZzp5//7jOnnlSsoSNFU+IApM0xdYP71vM2u/A2K7nSjxv81jF1Sd\n",
       "9rkam6kO+otJL4+GGIVWF2DvhuSdk2OgK57FqYGyd1Hib2f9kxJGKdqE2cWeMKnS+d5mD7+J8n5h\n",
       "2ydfKjis57SxvXETcfRaiMT/e6CX4h5tFgw4gHZhSChpmS4BiEm5kYkyp86JH8hXoYQ+J6FyA7Mu\n",
       "SvLtrH9SwCjQJprdRI4FAaJ0h4jmXHm/SPzJYHNYz2ljXxhV1HywB3bv/2VVSxr+u2iTJJXuuEtu\n",
       "ceNvs86BpT/m/ZMSRu3ehrdDCOa58nZZ0Sdpc1hvvxR67f+7tCkt1lFT1Rs6xXIy+uO5f3JdapSP\n",
       "7Y4YrXLl7dv9o93hyPqH3yWWLw189s5pkTayJ4BwmCvvlc++9xZbH0ybn/D/pF5Ycr7kyntn/tGX\n",
       "bIN18/+k8PQrv3Jf/gOi/04ZmBykTAAAAABJRU5ErkJggg==\n",
       "\" style=\"display:inline;vertical-align:middle;\" /></a><br>"
      ],
      "text/plain": [
       "products_of_real_powers: forall_{m in NaturalPos} [forall_{a in Complex, b_{1} in Real, ..b_{_a} in Real.., b_{m} in Real | a != 0} ((a^{b_{1}} * ..a^{b_{i}}.. * a^{b_{m}}) = a^{b_{1} + ..b_{_a}.. + b_{m}})]"
      ]
     },
     "execution_count": 46,
     "metadata": {},
     "output_type": "execute_result"
    }
   ],
   "source": [
    "products_of_real_powers = Forall(m, Forall((a, b_1_to_m), Equals(prod_a_raise_bi__1_to_m, Exp(a, Add(b_1_to_m))),\n",
    "                                           domains=(Complex, Real), condition=NotEquals(a, zero)),\n",
    "                                   domain=NaturalPos)"
   ]
  },
  {
   "cell_type": "code",
   "execution_count": 47,
   "metadata": {},
   "outputs": [
    {
     "data": {
      "text/html": [
       "<strong id=\"quotient_of_real_powers\"><a class=\"ProveItLink\" href=\"proofs/quotient_of_real_powers/thm_proof.ipynb\">quotient_of_real_powers</a> (conjecture without proof):<br></strong> <a class=\"ProveItLink\" href=\"../__pv_it/theorems/4ec292d9c5ccad2a814f81d06b7f385d45323fba0/theorem_expr.ipynb\"><img src=\"data:image/png;base64,iVBORw0KGgoAAAANSUhEUgAAASEAAAA0CAMAAADyr361AAAAOVBMVEX///8oKCgUFBQNDQ0QEBCI\n",
       "iIhmZma6urrMzMxUVFQiIiJERETc3Nzu7u6qqqp2dnaYmJgyMjIAAAArQGDrAAAAAXRSTlMAQObY\n",
       "ZgAABG5JREFUaN7tW4uSpCAM9O4AeYP8/8ceoCIqOj5g93K1VO1WzUx2I03opAPTdf/L6Ieh+xmn\n",
       "w5AfDFZ49Nt3Bl3vvysGHyCze8vJqnsWOEB4v8bUYcxUNQ8WNkQaFUDjqsMVqUgYwAAp1BdmhOsu\n",
       "fNEJlCFKoRImRFjjQIWyx1yJbsKbSNf0w8HuM56HkCSGYOTR8TRkReWVkDABsvmD98i/GFzIZcyY\n",
       "lksBKYRETqfW/yai1VooiABRl+UYEufAcaOc6TBEhEieYpCIE6GNpC5MMYxYvsgmMmorqYshcjV1\n",
       "NkcopHc2dPrJTD5LXZk7A6PIVssaC2nOukdZ7EKAIIAaX6B1lwJjKhnuH0VjSeoajDN6FtyH2pLb\n",
       "QEQUqpbZi1KX9x3N1sB4ijNpMw4Qkr9y1aq4ktSNlRXNKyLayXlNpIAQQrReiTJJ3V7MoyDsors5\n",
       "dIyGgJB21R6zJHW35B1D1hoVhuRARBmt9a9KUncIlJ/vYxeSmYshBkTqv6/hUjOgJHUlwRbnfOwC\n",
       "hiyuioBRPZrLYtIM2SCFZsA1sgpU3oc/V1cVSKWDu9MCJoKADS6ENXkpt+82A1Akn/ALnxRDWhjG\n",
       "GT5QM5pjwchwkmJKFmePSEJQWw+P3le0zL1bmbvNAB6LI2NHlDZoa0OI/0TRkAbpYLZqZjbAoeY3\n",
       "quD0xOIEIcmm0m1MNycIucK4UnDeaAaMCMnBs9YuaQgtVXhAKyM22mwSYjKI87dqH4RnFicIhQWZ\n",
       "JrHvO5NnPMSeNgP4GDpCsokXFMFsoDM5RcKgegRcrtVMMpjnb7bS5sRijVByOjo0o5vgj9s9U7/K\n",
       "KLebAWhkXU2mTaY49c8WVinRsV96WVIzC1/H+RNCttLm2GKNUHLKYtnxx//Y6Sn2fIFf1kN3mwGz\n",
       "uJ9L+TAJyuOyJppVa7gnNbMY+PkTxni/lTbHFhuEktPRVndLDCG8rxjfnfPdbQbMMtBOmzvs+3gk\n",
       "TvkoVXAnNaUFNbMYhAiR2CaXM3ccW2wQSk7jDMS8HYLXPRzafelJ6Mhb+Wu/cMIGdl2Ym0w5SK3V\n",
       "DFvtIU2N2kqbQ4s1QotT5in1969ArPYwl9Gv7frthLKvN6nrwzMYmlXpNNKvV//Zwd1iMOVy040G\n",
       "SdqULIoxlJzOmT7+DSnWQ91x92Pd+2oklHuGNSbxYUX6SPm8KYI0oSF2kpqZDTQ3vlZShAyjwSJt\n",
       "ChYlhDKnY6afIDLFTjs/Kuk3va9aIuck5+GJRFaQ3jIoWpzWQ/pziiEHtcy291Vn3C3hPxYR148c\n",
       "yghdkHxH56CoSXvrbs/XvjY4R8jqK9ypi72MJidb8hsPXZ93m1cHNEsvY9f7+je6Ud+CrSv2Mna9\n",
       "rxpDcIAAdX1WM7a92LBoDWAju9Xz5mLDpU0G8nZMls3eXWy4SXmQBjJPexl3C2qgt/Sym56vLjZ8\n",
       "HAPcL4qkR39zseHzQiAFFiGJaHsnoG+cey3c3geD/WUs0jzLWNHBHqxxLdfD/8IjacoSarmc9hf5\n",
       "QzVyfu+VSQAAAABJRU5ErkJggg==\n",
       "\" style=\"display:inline;vertical-align:middle;\" /></a><br>"
      ],
      "text/plain": [
       "quotient_of_real_powers: forall_{a in Complex, b in Real, c in Real | a != 0} ((a^{b} / a^{c}) = a^{b - c})"
      ]
     },
     "execution_count": 47,
     "metadata": {},
     "output_type": "execute_result"
    }
   ],
   "source": [
    "quotient_of_real_powers = Forall((a, b, c), Equals(frac(Exp(a, b), Exp(a, c)), Exp(a, subtract(b, c))),\n",
    "                                 domains=(Complex, Real, Real), condition=NotEquals(a, zero))"
   ]
  },
  {
   "cell_type": "code",
   "execution_count": 48,
   "metadata": {},
   "outputs": [
    {
     "data": {
      "text/html": [
       "<strong id=\"real_power_of_product\"><a class=\"ProveItLink\" href=\"proofs/real_power_of_product/thm_proof.ipynb\">real_power_of_product</a> (conjecture without proof):<br></strong> <a class=\"ProveItLink\" href=\"../__pv_it/theorems/11ab16dbf602c6ae7d6586241150a50fc797f7180/theorem_expr.ipynb\"><img src=\"data:image/png;base64,iVBORw0KGgoAAAANSUhEUgAAAXUAAAAZCAMAAAD5Yk5vAAAAOVBMVEX///8oKCgUFBQNDQ0QEBCI\n",
       "iIhmZma6urrMzMxUVFQiIiJERETc3Nzu7u6qqqp2dnaYmJgyMjIAAAArQGDrAAAAAXRSTlMAQObY\n",
       "ZgAABCdJREFUaN7tWYlynDAMpQ02vg/+/2PrGwssjk2bzmzimUSb8HjCz7IkvNP0M8qwhJAfFb54\n",
       "iGVi848MXzuoDL/Yv9gi32IPKQftxTAq29k8o7+9RQqg+snWt8vOvYPoWkKLwmaRP/Esx6oe0V9t\n",
       "kcbfAMVPtratsdfvoLpX0OJAWvTJceeXKNFt+jrwLVL4G6D4yVbVxVPyHUR3FFp8rKbl3TR9ShzR\n",
       "d+k3FnXBvwEs6WwNcWveQXWhoEXHslaJ9fycfotobItU/g1Q/STrrI5DibcopQLak85CQOUe0Xf/\n",
       "wbZI5e8A1U+yq4xD2HdQnVBow6QtJfNAFs8JoXl7W/qUHqcd8beFoJ3lqQTLezV8Wrz/G/Kchlea\n",
       "DbHEYk4PgDqkg3aZw7T8OnCxhsyqc9J1xxlZ3w16oEdph/ytKPjOLrSrsMOWVlouONmtGAo4XhZE\n",
       "curB9bPSTVlKfOFGPg2dDgA17xpg9exq89YtV3qmlHZXkp/vdlpHaA/0gH/TobfxFzk069pYSsN/\n",
       "NZOBgPkaV95cAI4UZArXrCb3VFe8vFyEp9Z7pxigNnILsDRdF6SLwLpwPv2Znpmtd1VHaI/0gL+O\n",
       "6idb67LysEeSRulI7lS61dhdr4QCjhRJdafdPdXjGoYHZn2zC7bqCDBWfZYNWYKV9930kru7x6of\n",
       "aA/0gH+suvITK3BNCfespp2UwpjJ7KreQgjXJ4B28NAQVXWLqN6cZr4Sf5FOOOgUBYwzTI41MxJ1\n",
       "dS1mp0Wc53W+oz+hHfK3mQlgpeJ5EbVgYTq6PygIIQpKAhE6lXIU0E4mtkqRVKeUjlVvTnlqpj7C\n",
       "jytPUTdxcYoDxtVUp1jjvh2CdKosNT0Pqym2Da9oh/zDahqWjZZViMIwkcKvlQANuSVJt+GAevCw\n",
       "IYLqlHOxINW0Oc1YM22hPBPgFAcMm7NyX9j2x5LDgyCygOntpvmSdsjfJmqhrbU2pkkSNxQTKawC\n",
       "vTKM7VMb5WeAssk3RIx1RRymenMKDq9S1lwX4BQHIJtYh6aZKU6OfWrIarZGor99wHtJO+Sfdn6q\n",
       "dbrMRMVdFCvglsto6T1KioobO+qEA2rkc5BhDLN6qPrmlIcc+vtXzKRu16IUpzjg+YlAn+E+cSLw\n",
       "5DRUIP5C88/WJa6RZds7b/psQ1TH5iFkWCfPAO3gYUOUzhGpppvT2hTW18DYjgOnI8Crp1/T/lTq\n",
       "yeHaKwOcfoEdxIkhNAkgW9OjQ0GX8QWWxRhn3Gb1MMB28FARRtjQzGtK/VD1zmluCouqNmVR6HQA\n",
       "2Bc8Be11CD5615YvBzs46cXPHEpSBm9XjwBDxGm/bkb1yVwB4OTufavxqo765fPwx+HQ5qw+C7hQ\n",
       "3V9x3ojLh9/guYciqBe/cat+3OPN4j4NOFfdmQtO9xbfAfy/Qb/17P8A7m07FeV2qbAAAAAASUVO\n",
       "RK5CYII=\n",
       "\" style=\"display:inline;vertical-align:middle;\" /></a><br>"
      ],
      "text/plain": [
       "real_power_of_product: forall_{a in Complex, b in Complex, c in Real | a != 0, b != 0} ((a * b)^{c} = (a^{c} * b^{c}))"
      ]
     },
     "execution_count": 48,
     "metadata": {},
     "output_type": "execute_result"
    }
   ],
   "source": [
    "real_power_of_product = Forall((a, b, c), Equals(Exp(Mult(a, b), c), Mult(Exp(a, c), Exp(b, c))),\n",
    "                               domains=(Complex, Complex, Real),\n",
    "                               conditions = [NotEquals(a, zero), NotEquals(b, zero)])"
   ]
  },
  {
   "cell_type": "code",
   "execution_count": 49,
   "metadata": {},
   "outputs": [
    {
     "data": {
      "text/html": [
       "<strong id=\"real_power_of_products\"><a class=\"ProveItLink\" href=\"proofs/real_power_of_products/thm_proof.ipynb\">real_power_of_products</a> (conjecture without proof):<br></strong> <a class=\"ProveItLink\" href=\"../__pv_it/theorems/bd557a4a1f39d0d533519bc5be208a5befc7b9870/theorem_expr.ipynb\"><img src=\"data:image/png;base64,iVBORw0KGgoAAAANSUhEUgAAAuMAAAAmCAMAAABZGWW4AAAAOVBMVEX///8oKCgUFBQNDQ0QEBCI\n",
       "iIhmZma6urrMzMxUVFQiIiJERETc3Nzu7u6qqqp2dnaYmJgyMjIAAAArQGDrAAAAAXRSTlMAQObY\n",
       "ZgAAB4JJREFUeNrtXIu2nCgQdHcFQXnp/3/s8lBBBWyUzJgzck6Sy1wtKlI03U07TVOp8VY32bzt\n",
       "UlPqZXlDezTRwUaUvN447avUyw2NL8s7rRtTnaapqfH+lerlKao4D7/JEtFU59X4M7balnzRAo71\n",
       "WcJBq7EfQzdq03k1/oRG6RcHl/gPsASDVmPPQilvOq/GH9DIxL44+ij+AEsoaEX2myUYdl6NP6CN\n",
       "3zTjDVS6RSw/tmr9QGTi4YLkr8Yf1NhXzTiZEKK8MksoaFX2IwpXJHo1/qCGv5qRQz1vEK7MEgpa\n",
       "lb0Kk9dB59X491sb2B/2sUMWMZvlQY+uxkosS0Ez24YqZs+mLtx2ukDjnsq9Uyyn8Vpov+Sq+JQc\n",
       "Hz43LnUyabUWMK3Fsgw0I6bhAvvNKbvvaI3LNTId+X2N10L7naamwIv8oGfOnTkywVkrarEsA80E\n",
       "uOwCexruHL6jNc6WJcPuGRGn8VpoP+SOex9P4U8OLK33oR1aNdRjWQSaXlH4Cns0hZ76FPrji8GV\n",
       "ooLGa6H9Tuu9GPqPJlhcgRGhUlZkWQSaHo1dYS/C1I/vGI0ryU1jN2PGWeOV0H6nTavN+vQzG7s/\n",
       "wLIENOn895fYk0nEOjavMg2m9bKKxiuh/ZDG14TFmm1jWGJUJ+WVgyo5cAezrHGKD3oQx4H4pGId\n",
       "ez+1IfNQslHKtMYvoH3OBX0epWBihvmnrtUPb5xqoGehItk9OQYNX2GpKmT7QQ8iMtCEYh2r8Q77\n",
       "QBUaKKU1fgGtVjstd9vTBu2r1owgiW4tkCQI8+rpxexpmk+wc4DJsAeBDnaAOjQB943gLCOgvJB1\n",
       "dAgI+0nGOm4fMFejfDqb9FhqRaCWnmkcguZIDpL2FN2T9RZkv3+JHg0U+3PdPW1I7I+JjTI02I2E\n",
       "bxokcCJbt+SwrbXoDWmCg3yGNqYwy+GvC6BicwrfKuAsj6BA2sFlxyFg7Ccc6ziNS+WUGR1aSIyV\n",
       "EVMj9cWYn2o8h+bxOBk0FBkvWccUyFqFtlyAjHsiObqucWZF2ZunPl32kDMgR/W0g51xd+bShU+y\n",
       "B66y9boNVF2Np1hGQIG0/WWxIe5qnI0NSfBQg2DcXCQUMhIxksF63eo/IqHxDFqAp5gVprii8STI\n",
       "ki9aL7AaV1w1cdoAjZtFND/o66caGZCDF8DtJivmGezu5Fq2UEfXrs/74/QKy65Ccig2BIA9D30V\n",
       "vvNVdIRI3dJRWBGkw1qEXOjYrStDEEEYWqK2nB33aA3HiI7hOlzxOg3nnl5ujva3n4AsVWie9axx\n",
       "CbDj8cE66YDNCL0q53oKwn2g5EItbk0mHV1Nxk2Ne6j9zJaFh3CW9WLOYvYszKuwbV5FC3hxqFRn\n",
       "/PxWC8W9E+dxtJokVwSi8RWN92Sp5J0LIFc8bVtPMy/B7dvMaApkqULzrK3GtfE+1/iBK7U50P/0\n",
       "HzX/okfFXAEg3vjM0YStM9Ibt8yYxdV5Pf6w+f95qP3MmqdRsIeCWeZAgawjQ4DY5/LjPtHCODJs\n",
       "Tc2WheA41LgebAnqshpf0zZGW8R8TKQbyOMJLk41vt6+t5gpkLkKLWCt/StK+w4Qcx64uvtF401w\n",
       "i4q5AkBautt9OUWIMIq63Na/Oq/HH8JHtULtZ9baioK3SMEss6Aw1schYOy7sPDQd5bpVMu0mhQF\n",
       "aRefiPTWDhntGI0ztQSTeY0vaMb3nNddz5sNHhPk9AkHt29TPCmQuQotYK3tOEMKovEDV/t/GhZz\n",
       "Q+ZHXMgVADJ4SxY5wu6qnX1uZ7YpLIaGsqxTYX0cAsJehfuo7xzOkMy712gw7kxjZoRu7Lh2gGcr\n",
       "RLIaX7cmZnwrG/zNuvF4eE528MzOttyusFAKEyFJHmSpQqMbX0UQuQxCkho/cqU66vr3HxN7qfO8\n",
       "SoorAET6av5IKVI9je9mdqlqAjYoS4lqcD0OAWEv22hnr3E2zWtGDdbTkqsqnDFUMuORHh8r0xt0\n",
       "pwLb6PEYtj9rqsxkHWJ/rbcL8+U1Wrxz/iQJslSh+Qvm3GGK9ZDjuqT8LA52qe1irjGQXQ4/UP3x\n",
       "dFjU0vh+ZguP6YAsa5397YcAsd+8ceo7e4135jemeJdRZ/wGsaxUVwNDSzTeUSQQ3uhmWMMCLsdx\n",
       "MFEyMaaXmGPb8C8R3q4vM/C4OwFZqtCWC0QvR6n989SLWkOWq0v5zfqUNhQp5xoB2W8B6uDW+DXc\n",
       "T7SKZYzMbFG1BZBlrRKO/RAQ9olyFcC7bmj2bM9pZS3OqpsYXizvvPmsN8ka848AggBZD1mu0dx9\n",
       "KdfzA4AhzEN/7OUpVahGEEtVrUrp5EHEBkqU1n7qfU6CJpw+QIllWDafmW9pNAE8RawI5JLGPdex\n",
       "BtfzzVv9FV8U+XyWm8066DzinWUF/KwY5KIdXxBFBa7q/GyUT3/D6yTPZ7k5QQ46P/5ePn4Ei/dL\n",
       "a6vwaxOd97snHmGByMvyPj2V6Lwaf4SvO74sq24zm86r8Ue0Ab0s7zXWskTn1fhDArqevCzvUROJ\n",
       "Tl2NT8BE+tsiZqhnL8s7W4yKd8w5yVTxy6yIbuyV60X5kJflDfvaJTrMiLL5HyZpbsjzlImvAAAA\n",
       "AElFTkSuQmCC\n",
       "\" style=\"display:inline;vertical-align:middle;\" /></a><br>"
      ],
      "text/plain": [
       "real_power_of_products: forall_{m in NaturalPos} [forall_{a_{1} in Complex, ..a_{_a} in Complex.., a_{m} in Complex, b in RealPos | a_{1} != 0, ..a_{i} != 0.., a_{m} != 0} ((a_{1} * ..a_{_a}.. * a_{m})^{b} = ((a_{1})^{b} * ..(a_{i})^{b}.. * (a_{m})^{b}))]"
      ]
     },
     "execution_count": 49,
     "metadata": {},
     "output_type": "execute_result"
    }
   ],
   "source": [
    "real_power_of_products = Forall(m, Forall((a_1_to_m, b), Equals(Exp(Mult(a_1_to_m), b), \n",
    "                                                                prod_ai_raise_b__1_to_m),\n",
    "                                          domains=(Complex, RealPos), conditions=nonzero_a_1_to_m),\n",
    "                                domain=NaturalPos)"
   ]
  },
  {
   "cell_type": "code",
   "execution_count": 50,
   "metadata": {},
   "outputs": [
    {
     "data": {
      "text/html": [
       "<strong id=\"real_power_of_quotient\"><a class=\"ProveItLink\" href=\"proofs/real_power_of_quotient/thm_proof.ipynb\">real_power_of_quotient</a> (conjecture without proof):<br></strong> <a class=\"ProveItLink\" href=\"../__pv_it/theorems/46e83adac1631d21c5fa6231e669f61de8560c2e0/theorem_expr.ipynb\"><img src=\"data:image/png;base64,iVBORw0KGgoAAAANSUhEUgAAAUsAAAAyCAMAAADiMwkRAAAAOVBMVEX///8oKCgUFBQNDQ0QEBCI\n",
       "iIhmZma6urrMzMxUVFQiIiJERETc3Nzu7u6qqqp2dnaYmJgyMjIAAAArQGDrAAAAAXRSTlMAQObY\n",
       "ZgAABX9JREFUeNrdW4uSoyoQdfcC8n74/x97BQFpUKKJk62BqpnKTLrteOjH6ZZM06jLzF8xo9g0\n",
       "/DLmh6+PMQ4vZjc6lPiH3YXPE0XbSzs4mBr97PWJWH/R+IcwI0Op0PxuyF5bSH9k7TctQd4P2Utr\n",
       "kd+Mgn8a4YuC/7C2X35ByF5ZznvivmF83CjnlVviVB0kMQQj1ZRfELKdlfUlwRarYvPkoFDa6s5m\n",
       "pNKL9Q23tJX+IhRAv7t747ilqAoRTS9siucQp/YsZE8rGtCH26eGhJIusKyy5IAk3DBP9Voitccu\n",
       "CNkzIgT1AcwLHhJLgipoUwAjEe6aNiBfJUKVPihGYxJ2BCFyLPuOCWWiQPlWYDb6oLwNWX3oAgiQ\n",
       "zDepFl+tmZt0+o/D97Cs9YEZO2InDj2E7MEnVugsZ1Mmg/Yex270O9EwSM8DAUK44OcYU8nwvDvT\n",
       "reav0Qdm+ernnebgd6ZLAWOv186g5/oVs+ZRkym/G4IiqYVA4tcTZs9VX7tumkzbKMUgpQcUFML7\n",
       "ufVZu8kdjR4CS73oTg/UCMtH48Ea5ZfkozTjIEEupO9MzznQ4gv5IvwaZWxUUaJ+b6ceZIWLjwAW\n",
       "NlIMwtsNaGZegXUItXHFujwAQr6OzV5cXa1o8zOdZ5fYBTSwwebMaCNQDyCutiPLc9GIQpL0v3DH\n",
       "phaGcZZ20JAXAu3bHAtGYMPWKwnEB4pd71LnXgIaPRDYac5ylhCXfV1MpxXuB6uscqFHMHbDs3IO\n",
       "bQhZ31FUrDtNXdpBp18INFeYsG+7jMLXsJQBIO49N/uY0y8ELmB5iM9zM9wNS+km2mywFVoq/0mt\n",
       "DCDpBFXK7acCzRU2LK2y17D0OxNHW/nZASgoRwLvxbg6jHGQLy+32XxzRyFZzF+KYOZoSqIhVVG9\n",
       "kQyZOSlmqiOQno/O+5ZHLM0Jltnodj2zmfGX4xYaPRUoa48EYHXr+JPTHbSldJ26A8VpnOrlXL+6\n",
       "E6jwmKsJk45Aej5aVIuAJSHkGMtslAVy9t/6Y+OnSDPsaPRcoORE9HpxeZJfpkFR2j1/u5QHV8mF\n",
       "Q8FxXRg8uY5AfD6qSIklYYzPJ7UnG91k9bS7XRryRKPnAiVXn6+PwubluVMCKfXaGD8+/YTnc5QH\n",
       "F1jvQWoKNtqfUSCsJxDvNQsEv5TYnmGZjQYnFSk4/UXTrUaj5wJlWwjtlGRKCcQr4O9N1mv9TupV\n",
       "fq+F9QVj304S62+06q37uz8XiF7KYIxratQhlrtRtqb6v398wrdVmY5GzwXKsAUp0MBpZkW9zd0D\n",
       "F1m/OTND68yMpH+K5z+Myb4mSXhtVg/0BXTNXFb0BNLz0V0gcaKT2rMbTXQn6JCNPgKjRwJ9mlMd\n",
       "4ajyo7s7DE/67ZkZXafemWGNAyWcRH5LrRxB+EaTen+kLJ5sPBPIz0ezgOZmJZ+KFI8LSiwLoxvd\n",
       "iViZQNCh0QOBhpu48457hsjebseT/sGZGdMbOeGU7UrwPxbo80t9VHX1K4GaYEJDpesZ/tnILekf\n",
       "nJlhN0ehWn4q8AJL9+qaF2YBVT0Bz8ccw5jsOJC7o4Wkf7AH6OYo3X4s0MfS6hfXtBfoYMUZVfGn\n",
       "Wpzaat2pe72Y90b99syM/IcHN37wLFNFKbGrClG+a3y3imf99szMmGcN6oQ5IQpieieC6G4DWemD\n",
       "OOMjQtk0M/vZ/MAO5xT0+PYgFuq/HioPsOrDkJlLBAqUBkkS3Y5KoF9NAcY8M9h0hn54smExp0OU\n",
       "/p/3xxqlfjdHD7Tq4xiSby7I7P61APHGtK3U/4yo/p7VnP2XNA1KTYRQvTMgKvSnXps/1PryvWmk\n",
       "xsVSIvpFa2N/V2rS36R7jExDL/K9wmrFNPhi3yLP43/nefXMb30XP9ed/wGIB0WU0bP4/AAAAABJ\n",
       "RU5ErkJggg==\n",
       "\" style=\"display:inline;vertical-align:middle;\" /></a><br>"
      ],
      "text/plain": [
       "real_power_of_quotient: forall_{a in Complex, b in Complex, c in Real | a != 0, b != 0} ((a / b)^{c} = (a^{c} / b^{c}))"
      ]
     },
     "execution_count": 50,
     "metadata": {},
     "output_type": "execute_result"
    }
   ],
   "source": [
    "real_power_of_quotient = Forall((a, b, c), Equals(Exp(frac(a, b), c), frac(Exp(a, c), Exp(b, c))),\n",
    "                                domains=(Complex, Complex, Real),\n",
    "                                conditions = [NotEquals(a, zero), NotEquals(b, zero)])"
   ]
  },
  {
   "cell_type": "code",
   "execution_count": 51,
   "metadata": {},
   "outputs": [
    {
     "data": {
      "text/html": [
       "<strong id=\"real_power_of_real_power\"><a class=\"ProveItLink\" href=\"proofs/real_power_of_real_power/thm_proof.ipynb\">real_power_of_real_power</a> (conjecture without proof):<br></strong> <a class=\"ProveItLink\" href=\"../__pv_it/theorems/55780c76f2d574085de9024c973533b653b03e540/theorem_expr.ipynb\"><img src=\"data:image/png;base64,iVBORw0KGgoAAAANSUhEUgAAASIAAAAcCAMAAADyZ0LtAAAAOVBMVEX///8oKCgUFBQNDQ0QEBCI\n",
       "iIhmZma6urrMzMxUVFQiIiJERETc3Nzu7u6qqqp2dnaYmJgyMjIAAAArQGDrAAAAAXRSTlMAQObY\n",
       "ZgAAA8hJREFUWMPdWdt2pSAMdWYMcr/4/x87BBGJILU9Z03ruFb7oNlcdshOwpmm/+RZQvhW/BMe\n",
       "x74X/5MevnRfB/vasB08PJUh0X+/6tfG7eAX8UyKgukztwII+skB3D8HFJ+hzj+RIbbvWtPlgzQT\n",
       "oJzY/TTIZeLz7XELnkAlknbouH8CZXrNnjaKflCROp82IzaOGBrw2wNnvGEEmkhz9oMT/EPzVjhJ\n",
       "xxxFnCXtMJvX58/Jd8bzWddQveK/3RtaPSHO9tX7c4rG05U/OviCfFf4GiptdXicfVKcyTMBUTV8\n",
       "drJJMhKwNrhf61T4GppizjuDj5ZPOEQ+62+7Wi6cm+otagYe7mtHja+gkCZcFT7SPSKf5exSco9m\n",
       "jsFsvlwod/F1aZSOrUjarW6G7pt6mWX0Ma0YHLReUzkWVM6+C6prWM9nrV2iC9VzMNjHk3IJ2VnY\n",
       "kQa6j1VOSAEXLrISlGBhUKT1LEa5gfEU/xHYVLdBVCqKquN3vaAT3nTUBZ6IX3ImDghNUWSsYyy+\n",
       "NVxFr/Lgzr3MbgBT/ORMh6OBxWhVIldvW5qhosqOFI2bSwYSGtffjds+vt7CRhGW2Q3vXlltcACv\n",
       "EznWnXqZYpAI8KYtPEcWA4rQI3FpvFfbBErRrIrplyi6wLenSIfSGxoGIpToS9HK7TaCpr1MMdgJ\n",
       "cOfmaGRBKCqTbhO6bRqcT555VyTQzIq2tiFkkWMtEuWI9PGE7W3fSovNK0by+JL0JdH5utfLhIkQ\n",
       "wNghUbnDGVgQisqkIqXWP/HP51U0ISCIXJsVmRLh6Msu5foiivr4JqNFHlmmHXfBZXJskT5D8XUv\n",
       "sxPAhJBHisodzsCCUlQm3Wxt5b35TBHMJGekxUgxnVIfu1vAXOA7hdi0wlHeAx5DLpNH4xDact7r\n",
       "ZYoBnhENfjn3CAMLSlGZtO5ON4FYlwun5lAyAoBrASezcLd7vcDXbKsSTXldGs8wSuyRblnORIb2\n",
       "MoKEkeXOnO+mri0IRcekIsrE718oFv4qo+063TYg9cbf2Cg0xUwspPi6YJw7XtWffOsNNeaavZc5\n",
       "DHJKd6kVNkeH07XonaIy6Z7w9/q5rYtKDPlBAe3ed6FqGictAiywtFpV8q2J2UBhCc7x9JReZjew\n",
       "0sWayTDsDZJF6XB6Fh2Kqkm3hJ85cr0+olySXXcD5o0/Zfjh1SxkISFl60cGNyxGdZH9WGeF7V+p\n",
       "VUPr91Ek+ScBVr9uMaTohv/LGdEXl6T+jQz5T/f2/g0WI4r8nSsr++9+7/reW8YX9mmXf7bIJ1xV\n",
       "/4TnL/UWLpyHhMsrAAAAAElFTkSuQmCC\n",
       "\" style=\"display:inline;vertical-align:middle;\" /></a><br>"
      ],
      "text/plain": [
       "real_power_of_real_power: forall_{a in Complex, b in Real, c in Real | a != 0} ((a^{b})^{c} = a^{b * c})"
      ]
     },
     "execution_count": 51,
     "metadata": {},
     "output_type": "execute_result"
    }
   ],
   "source": [
    "real_power_of_real_power = Forall((a, b, c), Equals(Exp(Exp(a, b), c), Exp(a, Mult(b, c))),\n",
    "                             domains=(Complex, Real, Real),\n",
    "                             condition = NotEquals(a, zero))"
   ]
  },
  {
   "cell_type": "code",
   "execution_count": 52,
   "metadata": {},
   "outputs": [
    {
     "data": {
      "text/html": [
       "<strong id=\"negated_real_power_of_real_power\"><a class=\"ProveItLink\" href=\"proofs/negated_real_power_of_real_power/thm_proof.ipynb\">negated_real_power_of_real_power</a> (conjecture without proof):<br></strong> <a class=\"ProveItLink\" href=\"../__pv_it/theorems/fe8d5fd1bedd44402ee3878c20bd6cba9ced85a60/theorem_expr.ipynb\"><img src=\"data:image/png;base64,iVBORw0KGgoAAAANSUhEUgAAAU4AAAAmCAMAAACcXYLYAAAAOVBMVEX///8oKCgUFBQNDQ0QEBCI\n",
       "iIhmZma6urrMzMxUVFQiIiJERETc3Nzu7u6qqqp2dnaYmJgyMjIAAAArQGDrAAAAAXRSTlMAQObY\n",
       "ZgAABI9JREFUaN7tWomO2yAQdVuDuQ///8eWw5wGnHh3GyMVaaVVMhmGxxxvxl6WCZdSDzOI42Xe\n",
       "BfTjTNr0tGhuK3/gFc/qn3xFn9iWNT9Npmg1J5wY9yPu50JOtvWLLcL9xJi5Xmhn/TPDH7tD1tEP\n",
       "2fU1P3npgdVa/NQdyp7+VNPRPqF7soFzLqPvvuacqKtfx880mA9OqEd5AADcdxEJwN0Dk4b+Qx2I\n",
       "JUit88G55oiwspoCwhdg0ptoOinZFnTzwIwU+gt1AqfAMXVJP7fXaMZ6xpI4Lb+kBmqlY+Go3JoW\n",
       "vOY9pktz/Rzm6rZkxGoyrIzpVU+QStXeTFvHcYx3QOssXB8ohGVOtoo3Ecx+u+FcP1pZpg4lf8Tm\n",
       "XxbQZXSG1EkyaGvaskfUJPjWMoVopT9TtyWmAfbMKaWYAE6S3TmpATKpTdGjczpXYEu4b/JSTir9\n",
       "mTolE6e3GCvJ7WJkhkq0w7o+5E6EpcxPW2ZdCBS4m84Ir/QndXDLmIX1yN2lCCKngDNFcayxDEoI\n",
       "qhbvbn/U0mX36kduRtz4riJHpS/mlm9qjLdhcLkjSHC6YW/wUcdVGDAZy/VelawLI6XOVoK+qctt\n",
       "1lMkVH3ZG0zFsP0TKjHBoHPxggCK4aglaEmM6h5ER04S+MSTkvVEHGlSBd5SbHlvWNXS5XDukEhe\n",
       "gLHLwPnBSZ4LCaH5lCPLFZCWdWMcBIAdt0jewHMgMYCT4YMm+1pa9j2ioEX28E6GgFrwFm9o6vL3\n",
       "0w7eMhv7zC5VaKPycKGCcSusmANSyIpxRAEHluLn+xtJDOC0t2fC2rpoTRYbcK40Sn8Zzraudwsl\n",
       "06ZoBecFWKOQAZybI+HVs7IxjgIBLFk3xwOJEs64qd9QpjkcUVfBzl2AiRq9jbyRO3HMzE1dr+cK\n",
       "H+ymDOHtIFjoGDTFVGqcirUa45RrHVgQwro57kuUcMZNsaMYf8yfOqyo445nld2XIu781fQjZTQq\n",
       "fQuOpq43OmB/2SI0G/bEiBQpVvBSed64BrAgxmSrm+O+RAVn3DTnJN471zqN7bLmQs4egpeSBcBb\n",
       "tK+t6/XmKaSicOk2V7mHSIj4hhUsTCDUaIyTgPU9BlQEK+S7vkQFZ9w0H2v4DLbXfGrFdTxzDABi\n",
       "GJSS+lb+a+t6nfwFcxU/zsBsENnykcyGR0XmZWOMi1AWSPK6Oe5KlHCmTbHJY79/2WymOpV9oXrQ\n",
       "ZJ66wn8+n6nMNSwW7Y5jSZQ1CshPFZituaFxTQIHDZKLF4jdbEui6Z1x00CSQtNz4p2LXAcjkHxS\n",
       "/Ak4ZT0p2DAQALqT0UhJuCmD1LZOyHplbFyDgCDScFIOofYCqTluSLTgzDb1JOnAUzY6RZE7QLeR\n",
       "4595iWD0GGsBR+IrTvOWQFNiyDvFVRHIu8zT+Pga5x9dhW2vrEsC8TrDoFfzhN7vcg9gbfvVR9D0\n",
       "87m3cu2XBcZwquuR64Ofb8EPvqcEb0fUY6fc6wzz91NKf+q7amDC58LWCdBD7ZrznS+l/0fNdy76\n",
       "xJdX2MomhdNOoJ5nk1hmXYw8zhOoWuZd7GnuycMM6i/xMTX7idlS0wAAAABJRU5ErkJggg==\n",
       "\" style=\"display:inline;vertical-align:middle;\" /></a><br>"
      ],
      "text/plain": [
       "negated_real_power_of_real_power: forall_{a in Complex, b in Real, c in Real | a != 0} ((a^{b})^{-c} = a^{-(b * c)})"
      ]
     },
     "execution_count": 52,
     "metadata": {},
     "output_type": "execute_result"
    }
   ],
   "source": [
    "negated_real_power_of_real_power = Forall((a, b, c), Equals(Exp(Exp(a, b), Neg(c)), Exp(a, Neg(Mult(b, c)))),\n",
    "                                     domains=(Complex, Real, Real),\n",
    "                                     condition = NotEquals(a, zero))"
   ]
  },
  {
   "cell_type": "code",
   "execution_count": 53,
   "metadata": {},
   "outputs": [
    {
     "data": {
      "text/html": [
       "<strong id=\"real_power_of_negated_real_power\"><a class=\"ProveItLink\" href=\"proofs/real_power_of_negated_real_power/thm_proof.ipynb\">real_power_of_negated_real_power</a> (conjecture without proof):<br></strong> <a class=\"ProveItLink\" href=\"../__pv_it/theorems/031c8bc97cd17c983d91df49211e1ec0299ce45d0/theorem_expr.ipynb\"><img src=\"data:image/png;base64,iVBORw0KGgoAAAANSUhEUgAAAU4AAAAmCAMAAACcXYLYAAAAOVBMVEX///8oKCgUFBQNDQ0QEBCI\n",
       "iIhmZma6urrMzMxUVFQiIiJERETc3Nzu7u6qqqp2dnaYmJgyMjIAAAArQGDrAAAAAXRSTlMAQObY\n",
       "ZgAABI1JREFUaN7tWomu2yAQdFuDuQ///8cWjDkNmORFqZGKVKmK9i0w7DGzybJMuJR62IE4XuZd\n",
       "QD/uSJueFs1t5Q984lnjk6/oX2zLqp/Go2g1J5wYD6bfR/NP1l2KLcD9xJy5X2hngwDAT74ha7iE\n",
       "7MVnftjSo6fW4oNvKFsuY09H+4ThyUaDcxk2HAlO1HSpw2cazAcn1MNFAQCcxYsE4N0Lk4rL0x0I\n",
       "LUit88G5poiwTjcFhC/A1Drho4dsC3rzwoxkLjN3AsfEMX1JP1drVHM9YUmcdiypwV3p0EUWSDNe\n",
       "8xrTpalLDlN3WzzEaiqsDOVVT1BK1V4tW/7WfpmbrCZUoI0c7gJmFS8imPjaXASeLtHKEncoxiM2\n",
       "/2UeXUZnKJ0kgbbLhGyfdXeW4KedCdHCZeJui0wD7ElQSjEBnCR5c9IFyNQ5RU8ZdYSyJdxvUlFO\n",
       "CpeJOyUjp7cYK8ntYmSGTrTDsj80IwpLmV6dQaDAu+WM8MJldAe3hEzYiNyPEkHkFHDGxh56LIMS\n",
       "gp7Ee0EfNXyBduYmxI3vKnBUOlhbPqSFt25yHVeQ4PLC7sBn61Z+wGROrvde/7qeWOpkRbSbvpp9\n",
       "RajysTcY+1/9T6jEBIPGWwsCKIY9SVCz6PU9iM6aJPCFJ8XTE3FWRuV5S3v/4WFVy9fWIJE8A2OX\n",
       "nvODiz0XEkLzKUeWKyAtSy3sDYAdt0hewbNj0bk+wydNdr00lzox61YX4PCwIaArkEZ5Q9uXqCdv\n",
       "Xo1dZZfKy6g0Q6hg3BordgApZKGFg8EBluLX9+tZdOC0r2fSGlXIYgXOlQbrH8M54GugUTJtmpYP\n",
       "XoA18hXgCHMknHuWa+Fg4MGSpTjuWORwhk3dhjLO4Yi6S3Z+JJjoAraRfu3EoTLf++rWCpfspg3h\n",
       "7SRY6Bw0hVJqgorVtHCstQdYEAbwvJptW+Rwhk3xQTH+mH/qPEWZdzzp7K4V8SNejR4R7JVW1IDj\n",
       "3ldfAbvHFl5s2BsjkpVYwXPnqXD1YEGMSWjVXs22LQo4w6YpJ3HRuZZlbJcl/TnOQ/DS4XlwlAMO\n",
       "+OoPsURO52ytOr5EQsQJVrAwgbJa4oVrMLCxx4AKYPl617Yo4AybpmMNV8H2kk+tuExhjgFADIMO\n",
       "89KjxXDAV7eo+OMqft6B2SSy7SMeG54dmedaGGepLJDk5di2aZHDGTfFpo79/mWrmWp09oXqUZF5\n",
       "kYjfmM8UxzUsFu0Hx5IoEQrIDRKY7bleuEaDkwbJxRkENVuzqEZn2NSTJC96LrxzkevoCCQdG38J\n",
       "TlmOUzcMBIDHzWigJNy0QWqlE7JRGYSrNxBEGk7KIdTOIIrjikUNzmRTR5JOPGVFHIo0AMaEHP/a\n",
       "Lwq6X2OBs/Blt3nJoGrR5Z3irgmkKrM/Pn4R9A+s7Gwj65ZAjDMMejdPaP1dGgFs4PzqW2i6+dxL\n",
       "tfbHBn041f3I9cHfb8F/+Dsl+HZGPXbKvc4wf7+U9Kf+Vg1M+L2wDQL00HPN+Zsvpf9nzScXfeKP\n",
       "V9jKJoXTTqCedyaxzLoYeVwkULXMu9jTwpP7GdRfyXQ1++hsJjQAAAAASUVORK5CYII=\n",
       "\" style=\"display:inline;vertical-align:middle;\" /></a><br>"
      ],
      "text/plain": [
       "real_power_of_negated_real_power: forall_{a in Complex, b in Real, c in Real | a != 0} ((a^{-b})^{c} = a^{-(b * c)})"
      ]
     },
     "execution_count": 53,
     "metadata": {},
     "output_type": "execute_result"
    }
   ],
   "source": [
    "real_power_of_negated_real_power = Forall((a, b, c), Equals(Exp(Exp(a, Neg(b)), c), Exp(a, Neg(Mult(b, c)))),\n",
    "                                          domains=(Complex, Real, Real),\n",
    "                                          condition = NotEquals(a, zero))"
   ]
  },
  {
   "cell_type": "code",
   "execution_count": 54,
   "metadata": {},
   "outputs": [
    {
     "data": {
      "text/html": [
       "<strong id=\"negated_real_power_of_negated_real_power\"><a class=\"ProveItLink\" href=\"proofs/negated_real_power_of_negated_real_power/thm_proof.ipynb\">negated_real_power_of_negated_real_power</a> (conjecture without proof):<br></strong> <a class=\"ProveItLink\" href=\"../__pv_it/theorems/52c26b6cfebc1725a578dfbe18930819bb9f470c0/theorem_expr.ipynb\"><img src=\"data:image/png;base64,iVBORw0KGgoAAAANSUhEUgAAATwAAAAcCAMAAADLAPO2AAAAOVBMVEX///8oKCgUFBQNDQ0QEBCI\n",
       "iIhmZma6urrMzMxUVFQiIiJERETc3Nzu7u6qqqp2dnaYmJgyMjIAAAArQGDrAAAAAXRSTlMAQObY\n",
       "ZgAAA8lJREFUaN7dWdmS4ygQ1MyouO///9gFhBBIGLDbjrZWEd0PdlKFkroSL8v/8cHWfqmxOzwa\n",
       "fauxX34IHmOseqPDhjG4K3d0AuTEGz02jGF6T/KsnCDYAdAOTgPMx05tLC3V5o7cof2tRWf7wOQC\n",
       "oVKpZgQyvJB12mM2Vi1lgc6jk5g7kClcigHJOyjuGTbxzWiDPRSWkmmXyZhE1dJIp1bP5MP3tFF7\n",
       "YgXz/fGvsfqegmJZkrbx7XPdJBkjqyiXChf+7Sco+B2ydt+96Y4P7qBIw0+7SWGsXMpUEXBa3Slr\n",
       "WZcAX5BMigV5LW42zDrzs1thrFwaM9hoGR7B7hB4JlEx2C2hWldU1SeAwMB8jSqNFUshbsXFWsD0\n",
       "LXpt6m+5+wmkEazyA/pgZBnHJKCxe/DJQvAmpddVCXHHoOF6njzlD0+TAQ5V3LpusA72q23xHEQP\n",
       "LRMXeMPo6ErNR3FNGYUHJ6kYcIpsZ+hsIXrdCZFYTfzCyxxvaVGtQ0Eze/XpeH/lcMeWhYsBEKzD\n",
       "ZciTSiPkP5UktHdi9Vnp7QBY/FdaNtjrIHq7omka3RpdXbzRMT6El4sABn2B8FJ9GFqWG3lBalyO\n",
       "x3AlZDBgRKRN6VOjz4BIjZHXEbuH6JAXzspvjSyNiczW5K08Q99M3thyijxhs9qWCKjNuRxzn6jN\n",
       "gqiVXgbs1OizdOwhKvKy082h3twEf+x8IrxKW+kCVvXZweyJmkdzWA0tkxRFXNDtJCUj/sNKtfmA\n",
       "ES2lZ5eKGoTQWTp2EBV52SmNbf+f/zNpF5e0oVXDkC5wSO0DCTvXMB7k5NAyTjVFoXQ64f0Ii8GQ\n",
       "662s15dKb6cGUcrwWTp2EDV52emGVcW5rmfyYK26VtwMo0tvzEIvzWBjy/vIuTg4xA+E0CVsU4Kw\n",
       "CEVIS+llQIgrAQafFVQHUZOXnZZ6fys3Dj847pSLkgIQQaE3+FjyCnljy7kTG5l2LEJGhCJ/DAko\n",
       "dUlZKz1aJaUiWp6l42NERd7hlPqi8/dPKD3mUbfdO8VAnpUsfEo5XYYzPxgSh0M90aSYtMkmsEXo\n",
       "g7vSOwBpENHxckEe+q+JaEVedrqPKbuGuM55OQnNrG7QH7oxl5eDxRQUoPgePE8J0vcjHmQICRGX\n",
       "ld4OUEz7GVCioJwiIuu/FqJBXuF0G1MSe7olrPIl5qQikp/65ct0L+IhFaxqWh8BJhC9OU+NiztV\n",
       "E5ehhR/xIfLYs6VUiZ8juuTZJ0JJzFx8m09xZ57u4eYNiB55ZuZKUX3Dr6i/e3P8AwYU/n3y0B1+\n",
       "svju5z82eC+KBbsh3wAAAABJRU5ErkJggg==\n",
       "\" style=\"display:inline;vertical-align:middle;\" /></a><br>"
      ],
      "text/plain": [
       "negated_real_power_of_negated_real_power: forall_{a in Complex, b in Real, c in Real | a != 0} ((a^{-b})^{-c} = a^{b * c})"
      ]
     },
     "execution_count": 54,
     "metadata": {},
     "output_type": "execute_result"
    }
   ],
   "source": [
    "negated_real_power_of_negated_real_power = Forall((a, b, c), Equals(Exp(Exp(a, Neg(b)), Neg(c)), Exp(a, Mult(b, c))),\n",
    "                                                  domains=(Complex, Real, Real),\n",
    "                                                  condition = NotEquals(a, zero))"
   ]
  },
  {
   "cell_type": "markdown",
   "metadata": {},
   "source": [
    "## Complex exponentiation"
   ]
  },
  {
   "cell_type": "markdown",
   "metadata": {},
   "source": [
    "***Note (to be added):***"
   ]
  },
  {
   "cell_type": "markdown",
   "metadata": {},
   "source": [
    "$e^{a + b i} = e^a \\cdot e^{bi}$"
   ]
  },
  {
   "cell_type": "markdown",
   "metadata": {},
   "source": [
    "$a^{b + i c}$ = $e^{ln(a) \\cdot (b + i c)}$ if $a \\in \\mathbb{R}$"
   ]
  },
  {
   "cell_type": "markdown",
   "metadata": {},
   "source": [
    "$(a + i b)^{c + i d} = (a^2 + b^2)^{(c + i d)/2/} \\cdot e^{i (c + i d) arg(a + i b)}$"
   ]
  },
  {
   "cell_type": "markdown",
   "metadata": {},
   "source": [
    "## Exponentiation laws for complex  exponents and positive, real base\n",
    "\n",
    "### Use $a^{b + i c}$ = $e^{ln(a) \\cdot (b + i c)}$ if $a > 0$."
   ]
  },
  {
   "cell_type": "markdown",
   "metadata": {},
   "source": [
    "$a^b \\cdot a^c = e^{ln(a) b} \\cdot e^{ln(a) c} = e^{ln(a) (b + c)} = a^{b+c}$ if $a > 0$."
   ]
  },
  {
   "cell_type": "code",
   "execution_count": 55,
   "metadata": {},
   "outputs": [
    {
     "data": {
      "text/html": [
       "<strong id=\"product_of_complex_powers\"><a class=\"ProveItLink\" href=\"proofs/product_of_complex_powers/thm_proof.ipynb\">product_of_complex_powers</a> (conjecture without proof):<br></strong> <a class=\"ProveItLink\" href=\"../__pv_it/theorems/b926ec03a5bf17e5b6d60756ff5d26332bd7feb70/theorem_expr.ipynb\"><img src=\"data:image/png;base64,iVBORw0KGgoAAAANSUhEUgAAASEAAAAcBAMAAADcoBTvAAAAMFBMVEX///8QEBCIiIhmZma6urrM\n",
       "zMxUVFQiIiJERETc3Nzu7u6qqqp2dnaYmJgyMjIAAAAcRTyBAAAAAXRSTlMAQObYZgAABCRJREFU\n",
       "SMe9VktoE0EY/rvbNMlmN+3Bg1qEWF9FEEILKlo1Ih7VFLQqig3VqqiUorWIeig9yPo4BAUVFbpa\n",
       "9NCqCVbRimCw6KFqSUVQi0qsD0QliiBoFHH+2fdmk26IOrCTzL/fzHwz/+NbgL/elqcKAJem4d83\n",
       "PlgIeuAfsVhJHldI/u+P2wCYXDM/Ylc2Fqrg5oqQrkEZlEftvBPJMfUHdp6xUAU3v0S6D8qgsWqb\n",
       "5fWdKoCHOc7ydbqkMOKrArlQhbca8rABZTBDmmJ+6w7Vk06yncnsZYIKozZXBUXRxHhRHCFvhnRd\n",
       "6pad8NL8ei64yNb28e4JCCmZEdsBYYq6D4YLLya7tKQZB7PNrysp6y+2U0tCbKQl/SqdTpbEFdRJ\n",
       "/O0ojhFdrFIdZfS/huCFfbZTyyWc7NESYp8clHy8OEboMOo52vYKlgO+AZb6zq65padKrvlDEKQo\n",
       "YbCn50SRgT1MHqFCHTU8sLw+Nmsm6Sfb59qOhMLIW/NIklHfRXG/TWgUwmghBiamiLeuZqI55nXD\n",
       "iqxkOzYwWbF5NBuimgEOZm/CFsJIxEXRVYujfnMAGwyNYeyH0the03I4AT6DlRGilgCXysnImWq+\n",
       "wzAg5ZabhDmsNDy+0dAVssw6m9Riy6uHJEG5gUkacNerN47qjHTVvHGvPWBcz3dkS5P6fxeGKEGy\n",
       "GXCrIO43mA0xK6NFEuzMOhyi+KRbHXK3apMMD4MBvnZO7XxNNXsHFsD5Q7AhYYBxayTXJ3UeOsFP\n",
       "GJV0QCysGtvBbMi6o/HAfctOW4LyplSJhKf9PUAYjSS1O8IiIRw+JcGzBPgSBphwBuCWOu8AhgLx\n",
       "WiwBt80nNhgao3ocoZu5X+DLrpoUdXAT6bqnv4VSdBEySmiMUDWXYBSuI0eNynJIYUuvGby/FT8o\n",
       "SLzE4tDiMyq/0WDNNe4nlKX6rYwoqq+VvN7tyoAfZEa1QY0RqiYGt3BJWZfIIYWNPDMsg0WEqaAi\n",
       "1c5bVEszDFs374QnkYRdaYNyEnts0NUK3ZQRu7lNj2yimhxeia9XZoRySGE3+y0HKyU1m2uadnyq\n",
       "6R4MhqyafaFqbZM1tmSUIKEyMRFYLYpigOGPPsZaqqmma48odnqvhTUFo7DTq0xySaH526ij0qah\n",
       "YlHPiFQme823Xvc4qib9rpsXoBUGI53C2HPkBrTihZdfl38rLuOEkI4qiTYuAz4sx9Gg4l3vIaqa\n",
       "d2nFvwt84KSEckhh3row3NHECTWtPv9egqMPVh1V2nRlAcBhrJBDie6FykaVVDU9WJO4offNUB+n\n",
       "cogwuJg+oJUe2I7Jlv8Dwh12wsiKYkiAmOqy/FMtdiqGuC0M4DJyzi84zx2F0Vgoa7XwRXMAfZiP\n",
       "fXk/fB19FI6JSlq9nBN5FWmF8izFSk4YOUP97/YHy/8SR9RUU8cAAAAASUVORK5CYII=\n",
       "\" style=\"display:inline;vertical-align:middle;\" /></a><br>"
      ],
      "text/plain": [
       "product_of_complex_powers: forall_{a in RealPos, b in Complex, c in Complex} ((a^{b} * a^{c}) = a^{b + c})"
      ]
     },
     "execution_count": 55,
     "metadata": {},
     "output_type": "execute_result"
    }
   ],
   "source": [
    "product_of_complex_powers = Forall((a, b, c), Equals(Mult(Exp(a, b), Exp(a, c)), Exp(a, Add(b, c))),\n",
    "                                   domains=(RealPos, Complex, Complex))"
   ]
  },
  {
   "cell_type": "code",
   "execution_count": 56,
   "metadata": {},
   "outputs": [
    {
     "data": {
      "text/html": [
       "<strong id=\"products_of_complex_powers\"><a class=\"ProveItLink\" href=\"proofs/products_of_complex_powers/thm_proof.ipynb\">products_of_complex_powers</a> (conjecture without proof):<br></strong> <a class=\"ProveItLink\" href=\"../__pv_it/theorems/208c52dbce164f77f997336582810ae4432ff1bf0/theorem_expr.ipynb\"><img src=\"data:image/png;base64,iVBORw0KGgoAAAANSUhEUgAAAhAAAAAcBAMAAADCc5voAAAAMFBMVEX///8QEBCIiIhmZma6urrM\n",
       "zMxUVFQiIiJERETc3Nzu7u6qqqp2dnaYmJgyMjIAAAAcRTyBAAAAAXRSTlMAQObYZgAABWxJREFU\n",
       "WMPtWVtoHFUY/rP3nUvSBxWjL1MrsSCFxRVbaqorUn10UrCxRMyytBSClFAh0dqHpQ912yosFNZQ\n",
       "xY4VW9ymdjEErERYXCKY0rJtEdMSYb0gXspaqoKJIp7LzJnLmZkddrOYB3/on50533/OzHf+88/5\n",
       "TgHWlEWaqwf0gwQe5z+z2ioCa6sxjt1ik690792jGcMh+yVolAkMtYTE7C/Dh0cmDwYbNd7NJNjJ\n",
       "HLLloFEmMJJtBUnYbifcwktrgIifmUOJcXtAC5ZGFuClVhCeCC58DRARVgyH8/RAKAVjAaII0Hg6\n",
       "zRsy5k4EF16CBv79dUsievEfud4FIk5qhsMPqciN5+8JEIWB7I1TnhDaF08EF16Ci5bE9CFCqqA/\n",
       "vVoXiKhZi3hPJpyFAwGiCFC35C1vCOprX/ObZpNNIb3iwkswhX/mWxJBIFPdWBr3MoesT+upBCIC\n",
       "A699em1kHl+86gmhffEZwYWXyCyT6W5RI3DSXOwCD8kVw9H1ugiBiMDAjxo9lTl8scUTYhKRPApT\n",
       "GnL0igsvgbxQLr8ZoFgulcsfjHeBCHmd4Uilf7EajAgMjKln4GF8sd4TYhIR7YehInL6lTMcfTX+\n",
       "LBTcdxOSjYi+QuG1Kg+qdvzRaBjueG09rUGtiDCAcZiBcZzMz2heEK+lwYUjIvYAHHF/RBsRMRUS\n",
       "RR6U6pSIRF53kX74ldzZ8Zv/SmXA03A/5PAzjar48nIT23c2CO3LnQhbOCLiSRAaAYiIpOBD8CKi\n",
       "hYbxa+7N6u7dun2tCy5gMstOIPr4Zhw4ByRpr0rcBzxDiIhDyLE9GB7MhO5yEgHjsMmCEfcffkwx\n",
       "M8KuYT7+fELxlTji63tzRtcp3T2uwX4r5jw/PcI/2DuBCOokgof42XlKhFS37huFuXRdzC/AVim9\n",
       "Of2olYhLwGrl2do2UKrSKailX0pXbBoGN71/FF6oeigkMoDwnBa9aWRESnd3g/CHrUC7SIgJ7JxA\n",
       "l4zgIb5bOkpEsrHTcnPxQhnEq2FcBB0Z8U7UeDL52AkNESGfMzNi2dp0vQpi1UMhkQHktwHmjBWb\n",
       "pU74G8RbQR7bBThaNGvED+4QP8PhWGsc2Y1eYNuODaEBFVcClLgjuxSeiEQJESc8tE9FVQUZImKa\n",
       "EcE0DG6KjKDiU/RQSGSA7bPmSo3lqRP+gljjQhAieKDzqxG4LzMcEzGDUl5+ot4zFspSSSGqC1/y\n",
       "RIibkTujjmpUnijVcJoRwfQNbpLPFb0VEhngxnVL2zrdHYKvstzHmBQK7Gh5IMYDrzjDXPvytCu6\n",
       "+uxDhe3EA9CXCVfhPUqEJKU4IuA2+peGYRDISymP7M0wIgx9Q5rEs0VvhUQG+MQyW5EV3Z2+b1cu\n",
       "w+3ksoabYPd4ILezdO3L07boRMg4sXIwBPEKDBcKBUVUk3WUJVEHETeIJhiA6MuFwiFQvtiEh1Jt\n",
       "+oY0JWdVb4VEBnjrWUvjHcy1bd9Cx+HsPOJO2Agno/QYS1Rhu+J6HiEswxtlyNKlMbvA6xvStFXR\n",
       "v/guCokMED5l2SYMMteuCSvQcXjJlKI5WJRAwpMpZ0Cuuh/M9Ed/r8M8JUKa1m9OaUzfkKbj8yAp\n",
       "ROHoziJxyADJQRU+M7ocYq5tuZKFjsNL5sHdT1BCU3wMXTz9vT61PBFPPbihDgm0dRAP3hTS+sIf\n",
       "qjB9g5tAuPzjHnxTlzm02ZA4eACYbh5myydWMVy7Flc7IoKEc0d1IbSEWx7VbUQ1wmoVU9+YTRV7\n",
       "syFxuAHIBt9jlx/MljorEUurdmYpFl20kli0/2ISh7MZ5to80ch3xAMND0qE7/9ryP435RadixnD\n",
       "tSnkOztAxOGRyQn436j9C/KwyPlOXuufAAAAAElFTkSuQmCC\n",
       "\" style=\"display:inline;vertical-align:middle;\" /></a><br>"
      ],
      "text/plain": [
       "products_of_complex_powers: forall_{m in NaturalPos} [forall_{a in RealPos, b_{1} in Complex, ..b_{_a} in Complex.., b_{m} in Complex} ((a^{b_{1}} * ..a^{b_{i}}.. * a^{b_{m}}) = a^{b_{1} + ..b_{_a}.. + b_{m}})]"
      ]
     },
     "execution_count": 56,
     "metadata": {},
     "output_type": "execute_result"
    }
   ],
   "source": [
    "products_of_complex_powers = Forall(m, Forall((a, b_1_to_m), Equals(prod_a_raise_bi__1_to_m, Exp(a, Add(b_1_to_m))),\n",
    "                                           domains=(RealPos, Complex)),\n",
    "                                 domain=NaturalPos)"
   ]
  },
  {
   "cell_type": "code",
   "execution_count": 57,
   "metadata": {},
   "outputs": [
    {
     "data": {
      "text/html": [
       "<strong id=\"quotient_of_complex_powers\"><a class=\"ProveItLink\" href=\"proofs/quotient_of_complex_powers/thm_proof.ipynb\">quotient_of_complex_powers</a> (conjecture without proof):<br></strong> <a class=\"ProveItLink\" href=\"../__pv_it/theorems/15f10f822c88bb279f8fb26d672e599fa91507650/theorem_expr.ipynb\"><img src=\"data:image/png;base64,iVBORw0KGgoAAAANSUhEUgAAAPsAAAA0BAMAAAC+4lP0AAAAMFBMVEX///8QEBCIiIhmZma6urrM\n",
       "zMxUVFQiIiJERETc3Nzu7u6qqqp2dnaYmJgyMjIAAAAcRTyBAAAAAXRSTlMAQObYZgAABEhJREFU\n",
       "WMPFWEtoE0EY/pN0E7OPrIciipdYoXozWKnisyCCFyUefKGYUq2CCBZflCJSK2h8HFY9KOphteih\n",
       "VRqV4gPBYNVDlTaIYFuwFkURlVpqCxoVnZ3ZnWzTJDvbjDiH7mT7z3yzM9//f/8/ALxbySD819bx\n",
       "X1AfW53PTObX+KLLSav3g+2MBrjCl1sdYbhcZxnQzxNdmmz1vA3eCMuISUmO8Jer6LRhhWlfxVKO\n",
       "8Edoz1Plq2YacpPj3qdpV9U9CaYxAX67HyDHfbZjhh7QexiX/IMb/BsNO9M0+ArCLtav2ssNvp7w\n",
       "LwUL3KxZ54QujODHMh32uBjVFuYE7yNePxXEURdaFOIV+DzY1cRfIA250CIvL+7FUhj+J/gH7uW3\n",
       "ytai4G9O8HMw8aEJXlUXoP24j53CCf6wKaJlG2uq8vMzo0VyGWbdMQB8/K+LhJ/KYmTTon0C5mo3\n",
       "wDPj+ak4dPEbk8RRLfI1QhQ7fhTOGxxoLNLth5ncA2nRyjhqVBRiYQih85ATxcFLP1msMlqkambc\n",
       "iYDS2dJyrsijV0aZZIlqUagKMAtUFC6+x+MHi4R3jh+GFGa0KDj3BfYBFR16LcDxHJmjqzQznett\n",
       "16DR3lEpzMEGRMXlIOaIvT7yWM0Uln1pp1QstxR66tCRgDdle3Vn9ta3GXiZZo13nx4YI1DSqR01\n",
       "Vt8/5ACfRwoDyPvlVID674OKlFeGzjCFDxlcbe1YAldPwJakzUzcoAtfsuDVP1YbGheWckqhAR8c\n",
       "WGf97LnXAgi+LyVXzK9YZLmIcvKCDr1JkJI2M+USwIPCm0/O/kMBKQygzYfj29Cf5vL3UGLstAGf\n",
       "pF8fK9uJyIG4swmFKY1Ea2y2oh0tnFLPgfn5pNCgHtxGaxD3C2kIAYGviFD4WfpMrArKDY1Ga2zW\n",
       "12t3PCe/zyOFOE1QjaOOCHXQjKfybd+XoV4T9IvGx0qtGo3W2Oy+/WOUEad6MrcUqsbUCgoBnoS3\n",
       "GtajeBz2ymdeZuBLoVKoj8ebgu1Rsl5ERWx2ca3dC0YmFq7arB1p0yb16X6y+dJmtB6BvE/DdMCJ\n",
       "1EK0RTqhIjbzXUEnRiVngmlLzHJljxZbBXKUnH2nuajgCWhQGuEJjppPQA6f141ojc2Ci6PwiM4z\n",
       "RnDNXIKhPbSkrqTm1hKAk0bY6Uo2LzU/ajqse4502jASuz7WwpoEjtaGGVwfPBql8xyyT2rmEgyt\n",
       "WxsrHehQx0Q28pgdbzJfJHKaoahmj8BmLsHQdhf+d7arShpDveJhTx4ccrRUtq7n5VAio6uqxooe\n",
       "HAY+jZQZRFetXIJHmsBaZA1ldNXKJRhyzzpeV4kTKjFVXiWmWaoXLjHH10a8CmxCfacS81/VWIh7\n",
       "SYYS899drpCrJYcSM7u8j3CDh3fOJea4izWdH/zpqNsRXK8VJdc+7Oe49wCVbgf08EQHv8sYwvlC\n",
       "Hea5M7+GifcX8jgxhktuZPYAAAAASUVORK5CYII=\n",
       "\" style=\"display:inline;vertical-align:middle;\" /></a><br>"
      ],
      "text/plain": [
       "quotient_of_complex_powers: forall_{a in RealPos, b in Complex, c in Complex} ((a^{b} / a^{c}) = a^{b - c})"
      ]
     },
     "execution_count": 57,
     "metadata": {},
     "output_type": "execute_result"
    }
   ],
   "source": [
    "quotient_of_complex_powers = Forall((a, b, c), Equals(frac(Exp(a, b), Exp(a, c)), Exp(a, subtract(b, c))),\n",
    "                                    domains=(RealPos, Complex, Complex))"
   ]
  },
  {
   "cell_type": "markdown",
   "metadata": {},
   "source": [
    "$(a \\cdot b)^c = e^{ln(a \\cdot b) c} = e^{(ln(a) + ln(b)) c} = e^{ln(a) c} e^{ln(b) c} = a^c \\cdot b^c$ if $a > 0$ and $b > 0$."
   ]
  },
  {
   "cell_type": "code",
   "execution_count": 58,
   "metadata": {},
   "outputs": [
    {
     "data": {
      "text/html": [
       "<strong id=\"complex_power_of_product\"><a class=\"ProveItLink\" href=\"proofs/complex_power_of_product/thm_proof.ipynb\">complex_power_of_product</a> (conjecture without proof):<br></strong> <a class=\"ProveItLink\" href=\"../__pv_it/theorems/71e9dbb3af452f78da987fbc6120770ed43934130/theorem_expr.ipynb\"><img src=\"data:image/png;base64,iVBORw0KGgoAAAANSUhEUgAAAToAAAAZBAMAAABTI/9DAAAAMFBMVEX///8QEBCIiIhmZma6urrM\n",
       "zMxUVFQiIiJERETc3Nzu7u6qqqp2dnaYmJgyMjIAAAAcRTyBAAAAAXRSTlMAQObYZgAABDNJREFU\n",
       "SMfNV2+IVFUUPzt/dnbenxk/CFkSvGYrJRKGHbCgdZ2Q8FO6fsgKgl2mVBSSwWwx88O0gcyqwSPB\n",
       "pD/wdCGWbdt5FLJsCA4OIm0ljwysBZeh3CARi0jQWY3Oefe+O+/NvPfywyB74Pfeu2fOeff3zj33\n",
       "3DMAD0aUjAbLV/bHVyxfctESDAb+eD4TPu6MfMbRIrIO0GW265MWuyfy2zx6GpMPoU6Kq50gJ5UY\n",
       "3DLxEF52A6T1dvsJfn8W4uIV7xX5eDfz+4601zvBLqUzeOQ3xDTq85Bttf+D31e735Hl42mGkxTj\n",
       "UifYXebwyBLtVw2SfT8aLb+oDt07LmXa5GP0IaTQSzE7we4dDrfEGrRevts14YT5GkSFcqvBx+SD\n",
       "UOcmJz/qBLlkkcFb5opsfh8Rkx5f95RQXhTjawy3y+VDPtXTn0I1mF0kywDHa4+JVUwVenFdan72\n",
       "vfRF/X2PeJS/Z57jTzWGHQBjPgXKn0I2mF2PxRB7GP4Uysp1CdNoQXzzTVvst3yAeF5P/eXZ9v8a\n",
       "Fb7gCwybQKoHsttSv292CZPhlIU1AcWO3zkD/gaY8bN/F8k8SmWaC9nLDUjzE2+GIQERy+U0s/b1\n",
       "X5vsFE5H3nd4QPNhJx/bVeCPXXmGjQbss8NAygGQ7gIM+bFbiZM0IKGJsNGsdajw5BliUKyECOzZ\n",
       "nBVRYE5Tcs/k7ARI0W7+orYBtKpyGmq5t3Km21h6xYjfaGG3CqRbNB5h5S62FMyuqwQVccCNsHK3\n",
       "1fSwS9a3OwY/z04Cspu3ROyoxqtHPzaQnfqlN3ZkrH4KcNa7shgruZlL9yg+sLkl74b5ymKcznkY\n",
       "py0KvS2bOcbewMv4k4sQo7mJXVWwG8rswcREQXZTTXbYD9nGL5zBr/PuCmkJuuuzznT/UBo2d4Vb\n",
       "cFdUTNgru0+XdB5T0bMr4GusSdLb8QakgLHLZQW7NUYvO4m1ajTXZIf9kG08/4urBmUZRuHKsCg8\n",
       "b8L7eO33Y4flokdTRzylq9vqcVann4N2STQbL8K4zS66c39zV4zCgmTba+t35QU76ods429mXcdC\n",
       "keHzzKuFvKMcf5p23KIfO1w2qfDEicc9FaXvB+dxkUM1qMOJDMPL5XJZiygf/oTKuJO66+MHyuVR\n",
       "0L5dR1OyHKZ+yDb+5KX/OcnYnMXQkwyCfIRfRe+ZN7rZysqvNQ/sBnYMw2xlz8w10wNfbBtHT+M7\n",
       "QrsA50RvFzUb2ulrLr8ufehFUAZZ3s3xtEkegYNqCS4wdsoUtz1pUD9kGyf7B+G8OCx0hjaZ9icw\n",
       "FsZu2u0XK3y1AeAoVeNL1fEBpoyvhu3f44y4jvKhG1KOnxvbTLsfImOYunl4MKz7DKMxEcZurN0v\n",
       "gqnkOQnYbS3mnVtMX+PAzl0NSLCkFUyOfFQ9vCma9dXK+vL4J+X/ceqDI/Af3r4hveYINv0AAAAA\n",
       "SUVORK5CYII=\n",
       "\" style=\"display:inline;vertical-align:middle;\" /></a><br>"
      ],
      "text/plain": [
       "complex_power_of_product: forall_{a in RealPos, b in RealPos, c in Complex} ((a * b)^{c} = (a^{c} * b^{c}))"
      ]
     },
     "execution_count": 58,
     "metadata": {},
     "output_type": "execute_result"
    }
   ],
   "source": [
    "complex_power_of_product = Forall((a, b, c), Equals(Exp(Mult(a, b), c), Mult(Exp(a, c), Exp(b, c))),\n",
    "                                  domains=(RealPos, RealPos, Complex))"
   ]
  },
  {
   "cell_type": "code",
   "execution_count": 59,
   "metadata": {},
   "outputs": [
    {
     "data": {
      "text/html": [
       "<strong id=\"complex_power_of_products\"><a class=\"ProveItLink\" href=\"proofs/complex_power_of_products/thm_proof.ipynb\">complex_power_of_products</a> (conjecture without proof):<br></strong> <a class=\"ProveItLink\" href=\"../__pv_it/theorems/517df3fcfeb7f42bd7bf4bd1f74a0320eef522900/theorem_expr.ipynb\"><img src=\"data:image/png;base64,iVBORw0KGgoAAAANSUhEUgAAAnQAAAAmBAMAAAC/nhspAAAAMFBMVEX///8QEBCIiIhmZma6urrM\n",
       "zMxUVFQiIiJERETc3Nzu7u6qqqp2dnaYmJgyMjIAAAAcRTyBAAAAAXRSTlMAQObYZgAABx9JREFU\n",
       "aN7NWm2IVFUYfufjzsz9ml0jpZ1FuO2WboQ2OaSRq42I9k/GYDUpcNhSSUQWKyn1x+IPGzNhKlKx\n",
       "j70qpK2WCyGyITi59KO1ZEwllZTBLDA/WszCXTU659yZc+7ce2fucXZH7oF5Z4Z9n+fOfc573vOe\n",
       "9y4Az5DGjctB3Yea9zSllGYWnh4X40Q1wgMYUz1OucBkAXil63oAygVjHqf0p5n1lnS7UqMR6QY3\n",
       "5YJCLRGHQdfJx+vek275qNAD3JRKvAZ6AvpAB2q9JJ0wPCr4VW7KaF8N9AQUImvVsF6SLpoeFXyY\n",
       "m7IhWwM9AQkjQK2XpOvJjipmb07SOSmXtqy8f34DdIl8vuQ16WaPbvdb549zUk7WW++f3wCdJJ9P\n",
       "ek26h4j9rAakjIIroqkFDsp+9NoIF6vziZY6moF6kkBtDMgFL7hLF61TvU9/7z/kQt21YF8H8CUD\n",
       "aQ7KEFL5YZhenW6f5TsD+ciZyrAxOI7f/nSXTsFbTFSv3ylsiCT2mhLe1yiN674+DkoJRcoINFen\n",
       "u2K9ewoKkUAzbAx24OnpdpeO+Oyo33oNkJxwqiasokFYP8tFeQxgnVr9dlVb0qQgP5kMw8ZIICl9\n",
       "HLkOR+bx+kkXJvfzTm0H80YQVuW4KHcBLPrR5ZfYIp+C5GFmY6AO9vZu59kmfu3t/bKOu0UDnmux\n",
       "xgtc5qaMJl3J7GpQkHCHWbTD3s5kNvBI15DJvFvHzlODhpcCvtmPBh51T6li+7SYyynMkZLjFNZq\n",
       "o6cg6R6z6O/LADY7Z5By6UIpiGTdHKuPasofxJt3BJlgE/zlTjUnGx1i31i1ceIGHr9VpFTdz/5b\n",
       "bfQMdJNZJN1csoM4Je5y6YJxvJO5OFYf8SpNjh58n2GUdHfl4Vm0KIxU7hB+EjETIWBK9oeBl1Km\n",
       "67cSNay30TPQXWaRdGHwW6q1xe1J/wSbdNAFUyyXOtz26iUe6eQ1m2ZrVDq2vOT3V3TSkw7eqnwo\n",
       "qTyvwxoQEuTXSv85hCee6MAIhDXTMcn58ORAKZSCqSI1KuGs9BQEfzOLpFPyYbPwRxJ5uXsQnrNL\n",
       "9xN0WRz9CgxqbtLtH5gFWk7ZzaS7WoRLL+nCNdt9PgISKmWDxrXWOmyAuPT1dcPBFLd0JkqmQiVq\n",
       "LJ2FvpJ0YmGRCX22vxfknwOQUxIzEjPLpPtcSFsckXTn82WODlXSlp06kk79CgYSbyT6Sk0ODFc/\n",
       "BThiXV3SXZCHqHQVM2MOjpq+vmDJdX9UpAy67+HrbfQUJN1lFm8jm19DNzjrxVb/pBROaGgdvbxE\n",
       "y9mjLrINTaA0bTWZDuKIpcs5RF3JCY+52CDpDtCow00OAp93CE0cFUMzcrp0B1Xr/a7S9cFqOXvq\n",
       "TEu8ZVnZNlHm5EDJt01Y6ClIvMcslu4bRKnOyftW+tPGSVVODZ5xkE6egcze1FIdQrrhiKRLxB2k\n",
       "I07FUTCkCySodLjJQeDnz5kriVyxCtgIv6RzZulIViLmIL1vdNpfq8DpiTBBn4S+tjsXJw6UgZwt\n",
       "u1mocSq20FOQpa4j5c/OydCQRB57DOkUJW6XjuzJCVgMwne64egPLH/TaZvATiUkkUubviJJpcNN\n",
       "DgL/tt+E8aWLK+OLliWdybKoW1syYZoxpM7Htz0m7u6CW0S23x2lc6KMpuzZrZwar34LPQUFbzGL\n",
       "pVNxhHTCQpwWFmcyGU1OifkuB+nOo1czoGkI64ajX/nwtJN0xKk4T29nMhtB+2EKkw43OQj8kw4T\n",
       "JlIoOzUFec4VIU1oJLWEs7MT5V6OI2HWQs9A6giztGQeD23QI0DIiDqYhyJRcOjXScOwtRdLFzIW\n",
       "rPyKXubInNSZF545gmYrbSzYQ4PozZg83OQg8MDuUimFF1Zj2VmdSzpfyt8tDqXw8d+xVHegPMbR\n",
       "w4lb6BnIYDRsSTpxCMXdWQUUfHdqEtRchVZnk3Arj6Ujjrg4KTnu0MX3iEFv2EmeCs0y+uP3hnTK\n",
       "AeqHmxwELran2K+SyVTS84rMI10PCgy1O1epVHeglAoctJst9AxkPOwwbEm6YBquwDYUGVvwYr9c\n",
       "DBYH6eY/2UqkI46HT+T2lJrYC/uEJliYFZqEZsNpmdQVQKs0guoRecM1KVGgfrjJgeFw4MYmmnqK\n",
       "x8NiDS/O+Fdzv8f5EM2Kq/QKB0knyghPP3CfhZ6ByNGuaG0Ndj/KQa4NdiydzZE2rmTjrUuOh/HH\n",
       "NpTr7H7262yqucGuVtLDTnmOq2FtOV0x0NEsszU9mxCemun8gIC18vG/tfiToSeq+VnGybHvxow5\n",
       "5WyTHbvHOir9lOf0s1e5Yz3GnLLZZD30RMxf8Dylv5FZT/3PyXjPU/ryzHpKuouep5xqsp6SLqJ5\n",
       "nFJsYtZb0klveZxybx+z/NLdzmj112571tuUW022LTPCieroyNZfOjHlaUopySx83JH6HwKgP7+F\n",
       "kC2LAAAAAElFTkSuQmCC\n",
       "\" style=\"display:inline;vertical-align:middle;\" /></a><br>"
      ],
      "text/plain": [
       "complex_power_of_products: forall_{m in NaturalPos} [forall_{a_{1} in RealPos, ..a_{_a} in RealPos.., a_{m} in RealPos, b in Complex} ((a_{1} * ..a_{_a}.. * a_{m})^{b} = ((a_{1})^{b} * ..(a_{i})^{b}.. * (a_{m})^{b}))]"
      ]
     },
     "execution_count": 59,
     "metadata": {},
     "output_type": "execute_result"
    }
   ],
   "source": [
    "complex_power_of_products = Forall(m, Forall((a_1_to_m, b), Equals(Exp(Mult(a_1_to_m), b), \n",
    "                                                                   prod_ai_raise_b__1_to_m),\n",
    "                                             domains=(RealPos, Complex)),\n",
    "                                   domain=NaturalPos)"
   ]
  },
  {
   "cell_type": "code",
   "execution_count": 60,
   "metadata": {},
   "outputs": [
    {
     "data": {
      "text/html": [
       "<strong id=\"complex_power_of_quotient\"><a class=\"ProveItLink\" href=\"proofs/complex_power_of_quotient/thm_proof.ipynb\">complex_power_of_quotient</a> (conjecture without proof):<br></strong> <a class=\"ProveItLink\" href=\"../__pv_it/theorems/acc8817a4b3c9c54c6a8548674133f67b9de35fb0/theorem_expr.ipynb\"><img src=\"data:image/png;base64,iVBORw0KGgoAAAANSUhEUgAAAREAAAAyBAMAAACJ9fKRAAAAMFBMVEX///8QEBCIiIhmZma6urrM\n",
       "zMxUVFQiIiJERETc3Nzu7u6qqqp2dnaYmJgyMjIAAAAcRTyBAAAAAXRSTlMAQObYZgAABVtJREFU\n",
       "WMO1WX1oHEUUf7nv29vdE6naDwrrVWsRq0dOolibnvi37flPRRRzRFtBUEO/KFIkjVCvLcLWgBX/\n",
       "yWqwStpyV6XUgJDFWMWo7SmCtWB6tCpS/AhJCuaj1jezc7O75+6xOeYe3M68l5md38578z4mAGLp\n",
       "8xbmHIM2kGwuccJnGYBIrQ1I1i5xfDz/OD4nxQNJ3bTECQ9CFJ8JUziSd/NNlOBFq+hTWiYcyWtN\n",
       "leBBc1ZzSrhy5llHqbKOVHQowYN+gTBFKlo98Szr3Iu/wfHbDYDNDiW4Kflw50oYXH83/YQ5wUgu\n",
       "6VYbWYm/FfA3dkNFhxJc9IiuTnFmp2Ake+uGW8BfFXWC9KdDCU6SVkO43/4GQyiQ6CzrbMffJgN2\n",
       "kP4RsgZTgpPC8xDXOFfWhCIJM28SJcpYDtI1wsSK3oM7+qFc4Jwq1s12sEVVbKVFSFEziM57Dy6b\n",
       "MGZzIbEm28PO7hAarrQAsdoo4S77IKnASymdH6TrQpHcx17cTR4D8GOReonvvAcnNGWPbLO3CkWy\n",
       "n7U301CfebKX+v4h7wgg9d751h02+zoANZWfhSBZznb6mtt6AvnP8wBfk/aqCCDSDHP1Uy5xLNCx\n",
       "uFSAt8lX9AtxJ9PsMPe5xKGpQNaugYqeR64IiX8LLPq4vytYTClnQZkYGTkqxEwUZh/prHurFoJM\n",
       "TqMP+qdU2icESd07pd2eWwrkKtK4kdsADnqkxt4Tmp0DmXnTctUtn7ZH/EUp6+Wf0a4fBcnDulns\n",
       "3Nzwp2yzsMOQDDUgWQwUKdDM4xByTj2z7tnLNhKZLZ3acaBb80LyyRd76sqIsUPSQ+w/fYMQ5Wc8\n",
       "l77ByTJzjJ5yNc5V+mmuGpJhQuNIVPLW4+MbQTPl9xqQEPH7h+AZ0wuJg2YCpXuIJFnbWmcvjI4A\n",
       "IrlYlXMP5DZQQ8JQohx+x0AkykkYz+3M8WWo+CcTUmZz7UiLjXbilSfEiRM6+Bw+htf+ChHyxQSJ\n",
       "yfekJ/MCGhISIjnh2BOsGog48hSmGPWAKs95Zj3BwiyxWPgY4Ui7MY9QwUKSy3IkdxlrrMikmeGc\n",
       "jYRUDUSsnNQdp7juT8wW/AnNbcj5D2ejfTBM3xfevsu22AGYlOjqWtfzeRsJVg1UnDruQKLMuhMm\n",
       "RpHZQP6EvE5Bf99RwST8iVKppIXkN3+wkSyDrujeUmkAtK/WO5Bg1UDFydMFh1tnSyboJkr7WfhR\n",
       "fJK2D29rSOFYR09cNGKWdlJPIzRWKc3jokVLO6cnsCnYpRsVP4T7WU/Lo8wgZCudVbMu9v90hfwx\n",
       "o/EIyHZU73kM5IJlJxMMX/IQvKL0w1kLiXwCuJhUDVQ8eBZkreG4skowXbGzWk8i9rMrynCO1c9k\n",
       "pPejjQCHiWc7Zw53s49cBVu/wd3GQal9f0i5GheTqoGIQTr3+zb+6lddgWaL4e38uf0gYKx42C6f\n",
       "190xDO3EFdCtZh3aSQAxbGLtAfr8knFjuk+Y6iPmWedebm7Qo0sS80LOyqF/y2yw82sPUnvXVNJ6\n",
       "Q+bpR9UlibmbL1O9/WuUdb/qnI66Ks2peXYak9NtqbxCNctuaaIS8js6YwZMJzu/N9pReYXrGest\n",
       "hKlZPqLDbwe7nREp0ScUCfemk5Y72VJhVyk+7iRix4G02Aqd34Ik8L3pKrkugOQKv8HXefAm5aPY\n",
       "Wwt+eKTdiCQvrcbuB75lwyy5YmlPMeoo947qEKsmyLF4w3fwi477QeG3W/zGL1kAqfNbsjt538HD\n",
       "99hbomZFXz5eaXHeKUM0kiOF1ipq8TfDqdbcQky4cgC6Wpp1QTwQiLXiodryXxW4v4U5x6i9/gfs\n",
       "pm3WvDhyRgAAAABJRU5ErkJggg==\n",
       "\" style=\"display:inline;vertical-align:middle;\" /></a><br>"
      ],
      "text/plain": [
       "complex_power_of_quotient: forall_{a in RealPos, b in RealPos, c in Complex} ((a / b)^{c} = (a^{c} / b^{c}))"
      ]
     },
     "execution_count": 60,
     "metadata": {},
     "output_type": "execute_result"
    }
   ],
   "source": [
    "complex_power_of_quotient = Forall((a, b, c), Equals(Exp(frac(a, b), c), frac(Exp(a, c), Exp(b, c))),\n",
    "                                   domains=(RealPos, RealPos, Complex))"
   ]
  },
  {
   "cell_type": "markdown",
   "metadata": {},
   "source": [
    "$(a^b)^c = (e^{ln(a) \\cdot b})^c = e^{ln(a) \\cdot b \\cdot c} = a^{b \\cdot c}$ if $a > 0$."
   ]
  },
  {
   "cell_type": "code",
   "execution_count": 61,
   "metadata": {},
   "outputs": [
    {
     "data": {
      "text/html": [
       "<strong id=\"complex_power_of_complex_power\"><a class=\"ProveItLink\" href=\"proofs/complex_power_of_complex_power/thm_proof.ipynb\">complex_power_of_complex_power</a> (conjecture without proof):<br></strong> <a class=\"ProveItLink\" href=\"../__pv_it/theorems/21aa2ad23db78aaa567511cbf5c61f0b7e2dc6bd0/theorem_expr.ipynb\"><img src=\"data:image/png;base64,iVBORw0KGgoAAAANSUhEUgAAAP0AAAAcBAMAAABYA6ToAAAAMFBMVEX///8QEBCIiIhmZma6urrM\n",
       "zMxUVFQiIiJERETc3Nzu7u6qqqp2dnaYmJgyMjIAAAAcRTyBAAAAAXRSTlMAQObYZgAAA9tJREFU\n",
       "SMfFVl1IFFEUPu7suu7M7OpDD5kEq5VJECwulJTahkRP1QplRZHLlv0TUiZlPcg+yKg9LAkllTQl\n",
       "9aClSyVlCC2KPVjJ9gOplCyWERUmQVBbD92fmdmZdVxXV+nC3Jl757v3u+ee755zAea7GCfi/98a\n",
       "hoUtffF/844F4Nyu+v4aH2oLyF+GeaM3eVSN3/Gx6X7FU5754reJqrX8yKUtPseuhy3POYpfvTkA\n",
       "L+aLPx9XLdKu1hgcHLaxypShh10pLkO12VWKKrRQosb3ydFbIqhia2kjzW4NwxEAphbcemAfjLIO\n",
       "KAATWiqS4jPc9yU5fiJpm+TXFBfjgQ70DuiDF8EaUyZkkXVPAjTjd21y/ITqtawvETV5u0pn2hIh\n",
       "3FSk56h0+EBy/Nex4M5KDbM4hJyRATYX6J70Giu29iMwqC4AsA60tV1OUn4v8R5Wyvo/HiTzW/Jf\n",
       "iXrgsue4blq9CtXZ6PklCOd1XDob/mKgWoKmvmwxThC0FOYv0XRsQ+gKgPqpUGY2/AKWfQgFlEz4\n",
       "LnWNKoZMkEJcsdFvm9TGAnRCSoANT8ufWLL4hN2ONHQjhD1KykMdGLsUH0qNcFxoIBhCqq6HefvH\n",
       "ovzRZPHoabUmnHEXDnnl71Pk2AFsEOGkbJkOPxMBszYkdqJBfMisLLDHGTLwMGDnnWud65Vk0d5X\n",
       "BLcaYF9QBWN3iaZv8rgPEv9iYH/G4U+phU73FPst4TK5OdTdBoh/JKTYjw+xtfGKCMNB4IIqmPUa\n",
       "QI88ro7uP/sXONm/m2P8j1NNZxCexOQCHCPqD6CqNXccjHizMX9Q4cfJogSnqj1o4X6aVAhsUxda\n",
       "uTzNYao/9g+khrtj9Kfe7QCc4Pyx+of76OSyp00RsAHldzoUfpwssAStd6VxKKkQ2MiwappsSSk+\n",
       "eOuRNqlQhx9lhmp+SuCAdKQJxmGqhFbCzxysiuqPJguktnbKj5MKgT3ujjHDiKy4nbPb66Jd43r6\n",
       "9664tFzTQ06LVcQR3OCBnYIg2A38xTc4ikWTxRlB8Fm63EqkJ7CrO9TCcqniL6WqTChwjCmu8aeN\n",
       "iKl0/7m9oiZZkFvKOrRJItUjgTE3EYlysIKq/ENVZ0+Eno0oFvjLtwDvpv4fkHxoaSDJop/E6340\n",
       "Z7OIkwqBWQrd0KtcefBFI02trI6EzLcqFzCj914RQCOOP4PB1mJp2iySLNJwDGAHP1dAaYAkFQyD\n",
       "OxN10bN8THX/IKU+IX5zzAXFgByriXH0lSf4pI6ALkwyt0VlmD8h/ncz/O+OaXPTTcvN6U4/47Un\n",
       "FOuvaZEP5sLPiPDfyz/FMfenW75gLwAAAABJRU5ErkJggg==\n",
       "\" style=\"display:inline;vertical-align:middle;\" /></a><br>"
      ],
      "text/plain": [
       "complex_power_of_complex_power: forall_{a in RealPos, b in Complex, c in Complex} ((a^{b})^{c} = a^{b * c})"
      ]
     },
     "execution_count": 61,
     "metadata": {},
     "output_type": "execute_result"
    }
   ],
   "source": [
    "complex_power_of_complex_power = Forall((a, b, c), Equals(Exp(Exp(a, b), c), Exp(a, Mult(b, c))),\n",
    "                                        domains=(RealPos, Complex, Complex))"
   ]
  },
  {
   "cell_type": "markdown",
   "metadata": {},
   "source": [
    "### Other Misc Theorems"
   ]
  },
  {
   "cell_type": "code",
   "execution_count": 62,
   "metadata": {},
   "outputs": [
    {
     "data": {
      "text/html": [
       "<strong id=\"nat_pos_to_nat_pos_lower_bound\"><a class=\"ProveItLink\" href=\"proofs/nat_pos_to_nat_pos_lower_bound/thm_proof.ipynb\">nat_pos_to_nat_pos_lower_bound</a> (conjecture without proof):<br></strong> <a class=\"ProveItLink\" href=\"../__pv_it/theorems/a7e3683c371bc7f27099aaba4e868938e79aa4ea0/theorem_expr.ipynb\"><img src=\"data:image/png;base64,iVBORw0KGgoAAAANSUhEUgAAAJgAAAAcBAMAAABvzWvcAAAAMFBMVEX///8QEBCIiIhmZma6urrM\n",
       "zMxUVFQiIiJERETc3Nzu7u6qqqp2dnaYmJgyMjIAAAAcRTyBAAAAAXRSTlMAQObYZgAAAntJREFU\n",
       "SMdjYCAZ+D1goB7gMaCCIawOEJpvA1ZpBZIMC4PS/BOwSruRZNgrKB2vlIXV9xdIMIsZ5g/1BcpY\n",
       "FVQxMICj5i4Rhs1fAGU0MdzDqgBoxWlkH+ADh2EMEQYzELXcCt02BoYZQIqzgQjDpGGMX1DmvkxU\n",
       "BewbGPiArufZQNgszl/wsOGF2u2XihqoDQy8p1atmk6Ew3gF4EnkDIwV0YKsggmo4kdHRw3OxI5k\n",
       "LyimOG2MpJDlp72GuBoszAJ0O9CtnTiTA4LJAfKb4wS+DygKJlcywIVZvzIwODNwwXMuyzuchvEl\n",
       "MDBwyYICBhlcB+VTqDDnF2AkMDBdwIj/cBsHJjEUw9iB2ph/MbCjZEH1U2ArIcJcX0DZgB0hCwoD\n",
       "rj3GF7gbTjFY8RibG1vDXQY0jLGBYX0AQjHXcYjJUGGQyzgfhCHkfwLxjZ2rGLgvMTMcQA0zoDfX\n",
       "H2DYj5RYzKE+ggqzgjR3pgCJxWpPQfxPagtYQMHAHR2pgGoYGzBU1m9gyOOGlRmcebDUCRUGxSbD\n",
       "5gKgi0tZQUymKiYDPpA8d8Cpq6iGgVIRhwJvGTy1rHCAOxoiDE6J/ECfMxuwFkCEHyyGGMYDKlCR\n",
       "DAPZy5WkOk0FMwFBhcERzQvMUIwbmBJAQenAnBDe0dGhwB3AeQFoOiuSFhFCeYQPFtHrJ3DcAprJ\n",
       "v4BxAxvEZQyuaOWwDSHD1sPKKMYJ8b4MMxawL7jBwAOKfF4HBt4DqGoD0fSuKweBUoTANXiIJG2y\n",
       "ZQjcwJoDNKEbyHd/wsCQgKqZjVDRUorKhShnAoYZFrVcBKpLNJ9wT8CrejN+w2agmY1fNbcDXmkr\n",
       "BuoCANwQkv190HhEAAAAAElFTkSuQmCC\n",
       "\" style=\"display:inline;vertical-align:middle;\" /></a><br>"
      ],
      "text/plain": [
       "nat_pos_to_nat_pos_lower_bound: forall_{a, b in NaturalPos} (a^{b} >= a)"
      ]
     },
     "execution_count": 62,
     "metadata": {},
     "output_type": "execute_result"
    }
   ],
   "source": [
    "# lower bound for exponentials with natural positive base and natural positive exp\n",
    "nat_pos_to_nat_pos_lower_bound = Forall(\n",
    "    (a, b),\n",
    "    greater_eq(Exp(a, b), a),\n",
    "    domain = NaturalPos)"
   ]
  },
  {
   "cell_type": "code",
   "execution_count": 63,
   "metadata": {},
   "outputs": [
    {
     "data": {
      "text/html": [
       "<strong id=\"square_abs_rational_simp\"><a class=\"ProveItLink\" href=\"proofs/square_abs_rational_simp/thm_proof.ipynb\">square_abs_rational_simp</a> (conjecture without proof):<br></strong> <a class=\"ProveItLink\" href=\"../__pv_it/theorems/030ae85411d6dd5bb322e686a064ca606e01de620/theorem_expr.ipynb\"><img src=\"data:image/png;base64,iVBORw0KGgoAAAANSUhEUgAAAJwAAAAmBAMAAADDx+9tAAAAMFBMVEX///8QEBCIiIhmZma6urrM\n",
       "zMxUVFQiIiJERETc3Nzu7u6qqqp2dnaYmJgyMjIAAAAcRTyBAAAAAXRSTlMAQObYZgAAAspJREFU\n",
       "SMeVlk1oE0EUx99u87WbD4sgWL2sgkX8qEGheFED6k2lFxW9NBT15KEIvfVQKsi2Iq54aC8lKQWF\n",
       "ICQoHhYFA/WkIOtJqShB0YOiBrVgm5Y6X5tmtzPO7Fyys++/v7w38+a9AZCMrAdqwyyqqPpAdZxR\n",
       "0MS2Babz18tCqa7g3uxA5yzjJBpi7Xc57kpglnTiS1wZ8fpOWUYLfZ0sGH94Mup1QhptLqxIL/Nk\n",
       "1Ov4sgxXcsIfWlwc9fqjDHcUB+wvyUW8SAIh8fq1DLcZL0yBTZ6jpM4LhMTrUgHIxr8XiIzFEO4U\n",
       "nOQriddaHV7i36+iE9YM4uLfnkzyhcRrtL3T2IkxAa5rOIjT1taaXCH1Wm9CDi10piZakbFQsKL0\n",
       "pF6nlyD7olKZEsk25dVwzOt4C+CvbY8KcRbD3Z3fURbgiInVqFWAywATIlzVo7hYD/zs9O7VDzw+\n",
       "kZJDTGz8AjgOZqBKPLja3z4KJYab9eCwIFhqYmMFLTfofsE1nx7yjF7IvPPNgzWKO1aGawIcNbHx\n",
       "G6m9pD9761ZAnwFzrxPCbQVzUYCjpnWc0TiHHuZ6P0MM7+NZF8DygsGaK5Bubly7LzggamLRoWBh\n",
       "4hJ6GEHVJYdfLSCC5ZeNKt1Zs4US3uV6x0zsTKKdhUco9bvy8WGYw6/2YFzdT5Q6DXYc3hTr/GCp\n",
       "iWVziyWXVkON47xt29ZjtwOnFSnu3s4LQwU+jppYn8JFL4uysOqkFsoJYkZbsd8/dKmG2qnwC4Ff\n",
       "jjVn8DRkcNfS+yGzu90DuiPhiJy4OfTwCMBN/Hhg9HYxUGPVcaHOoqO1A5g8sb5vq5FwVd4FZHrG\n",
       "bZ+yG/hP/M69S4Z75vBSad/Bdv+VNpMNjer/7tei4LbLBHojAk3vlkq2RMBp8qvghwg4hatgylKm\n",
       "GT0KV9QRZdx9lW2bclRxt5RCGFC9auPD8w+KL9IWct20CQAAAABJRU5ErkJggg==\n",
       "\" style=\"display:inline;vertical-align:middle;\" /></a><br>"
      ],
      "text/plain": [
       "square_abs_rational_simp: forall_{a in Rational} (|a|^{2} = a^{2})"
      ]
     },
     "execution_count": 63,
     "metadata": {},
     "output_type": "execute_result"
    }
   ],
   "source": [
    "square_abs_rational_simp = Forall(\n",
    "    a,\n",
    "    Equals(Exp(Abs(a),two),Exp(a,two)),\n",
    "    domain = Rational)"
   ]
  },
  {
   "cell_type": "code",
   "execution_count": 64,
   "metadata": {},
   "outputs": [
    {
     "data": {
      "text/html": [
       "<strong id=\"square_abs_real_simp\"><a class=\"ProveItLink\" href=\"proofs/square_abs_real_simp/thm_proof.ipynb\">square_abs_real_simp</a> (conjecture without proof):<br></strong> <a class=\"ProveItLink\" href=\"../__pv_it/theorems/efa974fd809989594c2ddb402234bdc4e6b527640/theorem_expr.ipynb\"><img src=\"data:image/png;base64,iVBORw0KGgoAAAANSUhEUgAAAJoAAAAmBAMAAADO2Z8qAAAAMFBMVEX///8QEBCIiIhmZma6urrM\n",
       "zMxUVFQiIiJERETc3Nzu7u6qqqp2dnaYmJgyMjIAAAAcRTyBAAAAAXRSTlMAQObYZgAAAq1JREFU\n",
       "SMeVlk1oE0EUx99usvnYbGIRBKuXKFQ8SaAXL60B8aaSk6IIDVV7LmJvHoqCpEph1UO9ZUtAIZcE\n",
       "PUhRcCGeIpQVBKWgBEUPihrUgm1a6nxtzK4zmdk57O7w/vvj/2befAAMb1kP1JpZVhAdAdV2Wi6J\n",
       "7wt0WzccoVSXm1suDfYsO9ERa79JaTOBXtI2Nrgy4vmOI4GFfk4W0795Muo5IUs1FxZkNnky6tnY\n",
       "lNCqdvi/PJdGPX+Q0Cbx4zzr4HdLICSeX0lou/HjBeugd7YgEBLP1SKQKX/H16TXQ7STcIKvJJ41\n",
       "F17i9xfBsuoGacbXp7f4QuIZTex97GGeT4vNBmnazk6XK6Se9S7kUM1ZTcFozIcyFZUl9ZzZgGy7\n",
       "Xl8SqHYV1GjMs9ED+FOpXBPR8oxyr3XAEdBIiG1K2wCXARYEtIZHafFR+DHobfU7bh/JJkNCrP0E\n",
       "OA7m4Mbw5PDFfk1XGW3Zg6OCTGmItS001KD7+6v5bNzTLWj7y2eqSWnHHLgioNEQa7/QhHpJv/d2\n",
       "pQ6ItuaFaHvBXBfQaOgfLd05gz5qhz5BHE8hprnBTM0tyHT/H7fPOBsaYqmhTGHhEvqYQ/tJDiht\n",
       "3F+NDTqnZg+V+QrXGwuxhYjmFB6jio8VjFmoEVps5mq/Qlya6XV4U3b5mdIQK+IeqyqtiQ6Js5VK\n",
       "Ja9bd1/3q7JMaQ8Onpsu8mk0xI4kvMllUfU17NSak6CZZi745ZjqqK0Ff+37m69mT50Cq0THre1b\n",
       "t0Yi0agcm5x+NAFwG1fvqlubDJwCyrTQKaKjcQvM2HYkWkNyy7iJH2OsMyajPbeHx2XnBudMGua9\n",
       "GYW2XxLXOxFg+ohMsScCTZNe9d5HoMmveqm8Miw9Kr9/zinTHirM2JKtSltU8V9SvUXjneQvGFLU\n",
       "rZ3kLfsAAAAASUVORK5CYII=\n",
       "\" style=\"display:inline;vertical-align:middle;\" /></a><br>"
      ],
      "text/plain": [
       "square_abs_real_simp: forall_{a in Real} (|a|^{2} = a^{2})"
      ]
     },
     "execution_count": 64,
     "metadata": {},
     "output_type": "execute_result"
    }
   ],
   "source": [
    "square_abs_real_simp = Forall(\n",
    "    a,\n",
    "    Equals(Exp(Abs(a),two),Exp(a,two)),\n",
    "    domain = Real)"
   ]
  },
  {
   "cell_type": "code",
   "execution_count": 65,
   "metadata": {},
   "outputs": [
    {
     "data": {
      "text/html": [
       "<strong id=\"square_abs_ineq\"><a class=\"ProveItLink\" href=\"proofs/square_abs_ineq/thm_proof.ipynb\">square_abs_ineq</a> (conjecture without proof):<br></strong> <a class=\"ProveItLink\" href=\"../__pv_it/theorems/81116e0b0ac6d8beee75789fa1efd6ef6bcd78140/theorem_expr.ipynb\"><img src=\"data:image/png;base64,iVBORw0KGgoAAAANSUhEUgAAAN4AAAAmBAMAAABZiDjwAAAAMFBMVEX///8QEBCIiIhmZma6urrM\n",
       "zMxUVFQiIiJERETc3Nzu7u6qqqp2dnaYmJgyMjIAAAAcRTyBAAAAAXRSTlMAQObYZgAAA7VJREFU\n",
       "WMO1l19IU1Ecx3+729x27+6UKMp8WYrWQ8hAiF6yQfRWYS/2h8Bh6UMUhDQCMxClmEawEtI3rwwq\n",
       "JNqoh7ACB/YgFrEgSIRkZPWgVMMU0il2/tx7d8/dnft3Ow/n3KNf7me/3/n9OReg7CEmCtPxATBl\n",
       "NBYqPGUKzraX2U71S7mUnCkGjrVod+5wRTKn9KcZvE5m5wjb14xUxOz7Uvk43esdfteKgYqaXWGC\n",
       "Qz36dwjrBipqtn29fN5oWP9qrxGPmv21fF4zns7LG7xOGeuI2R/L5+3A01t5g1bRZ6wjZo/6gUTv\n",
       "l5JxrlUd7wQc10me7AbFbEsc3uF1sfRilmJ59qXXg5kED5JlARSzUZCO4B/ZWzLPeo3lWba2Usr/\n",
       "nnbRNQ2K2VwKPCgH3bGSeY5enT8zY+iWXPBQpMhmC2sgzoyPD5ceLpW+XLyHS0quIxfIZtuRqX9D\n",
       "oZ4yeF6ZMzS1T9Lyzn5TK0J7neI/fhOgA2BArfW/sqq/ZlYW1FnUmhxNUJ6tGn5r7XPeVh+ji7xa\n",
       "85YBjgGfqehKsr48cJHWAqdmlhehF9xqko3KvLEEHNbyuC61Nk9KGEPHBjpx4DINGvucf9OU4Nww\n",
       "4zXmCeiHeNQAa4tR3lEJupjzE3sktQLxG8pf/6DjTDgyKmz47MQ4IN5cwpAn4iZWGdbz9gC/ysaL\n",
       "sCCLFsCW1vBcyVb0EGn4juNnuUGyYV9hXpzhYQFaONIz22ovs/5EFggpXT7YftBOvAlWpS8QQwcu\n",
       "oYcg6RVcN+fzAOU1+bQ8InCC7SbZ75fqlGCg8cmnUe2YYHlgD/nxsoIPV65+KD7hBcoPq8+OC4XT\n",
       "KyYjhGftvM7ECxEg7DR5RR/MK/kQp/7sg8+BuI4Hrg48X4V+9Rek5RSyxMhlxuK3Bs6EQiEv537w\n",
       "ieERAdrw0/jAdsIh+Q2WAOU9qj3X7tfz6IgcVOPRhpugiAIpGnbOoaVSssQqqD+FC5KWRwRk04iA\n",
       "61Cj5FkyZz0zqu7KQVrCbSdhRHJIs+Buoec3w8QLEdDNfAK6RaXCu6uK4VE1NrT9+RE4HbNfQZC7\n",
       "ON8/xCPNWh4RyGnxClrfs7eVbN6zG3gEt7/s0Czm0Pll6lJ2fWEv6ZvF2Bdlrv5COFuRjwd38FQv\n",
       "b+rz8CYZggh5eQIK3tCgVlDUFag5f//WzMrCuqiYXl1T/v2MSxahrTLh+2FX4VJLwgTe/H/4Utxu\n",
       "OL0F31WrzeDxwUKVj2Nm8GA4XKDwnjnf766WAh2BW9k/I28Mvv9rN58AAAAASUVORK5CYII=\n",
       "\" style=\"display:inline;vertical-align:middle;\" /></a><br>"
      ],
      "text/plain": [
       "square_abs_ineq: forall_{a, b in Real | |a| <= b} (|a|^{2} <= b^{2})"
      ]
     },
     "execution_count": 65,
     "metadata": {},
     "output_type": "execute_result"
    }
   ],
   "source": [
    "# Note: if |a| <= b then b >= 0 and |b| = b.\n",
    "square_abs_ineq = Forall(\n",
    "    (a,b),\n",
    "    LessEq(Exp(Abs(a),two),Exp(b,two)),\n",
    "    domain = Real,\n",
    "    conditions = (LessEq(Abs(a),b),))"
   ]
  },
  {
   "cell_type": "code",
   "execution_count": 66,
   "metadata": {},
   "outputs": [],
   "source": [
    "# covered by product_of_complex_powers\n",
    "# # not true for general a in C, but true for a in R\n",
    "# # except a = 0 \n",
    "# # noting $a^{b + i c}$ = $e^{ln(a) \\cdot (b + i c)}$.\n",
    "# sum_in_exp = Forall([a,b,c],\n",
    "#     Equals(Mult(Exp(a,b),Exp(a,c)), Exp(a,Add(b,c))),\n",
    "#     domains = (Real, Complex, Complex),\n",
    "#     conditions=[NotEquals(a, zero)])"
   ]
  },
  {
   "cell_type": "code",
   "execution_count": 67,
   "metadata": {},
   "outputs": [
    {
     "data": {
      "text/html": [
       "<strong id=\"add_one_right_in_exp\"><a class=\"ProveItLink\" href=\"proofs/add_one_right_in_exp/thm_proof.ipynb\">add_one_right_in_exp</a> (conjecture without proof):<br></strong> <a class=\"ProveItLink\" href=\"../__pv_it/theorems/59783b87ba088edc971759cca897ff2aa787fd110/theorem_expr.ipynb\"><img src=\"data:image/png;base64,iVBORw0KGgoAAAANSUhEUgAAAQcAAAAcCAMAAABbE4p5AAAAOVBMVEX///8oKCgUFBQNDQ0QEBCI\n",
       "iIhmZma6urrMzMxUVFQiIiJERETc3Nzu7u6qqqp2dnaYmJgyMjIAAAArQGDrAAAAAXRSTlMAQObY\n",
       "ZgAAA2BJREFUWMPNWQmu4yAM7cyEHQPh/ocdyMIeCFUU1dL/slr7kTyMF/r5/JqQdX0HkorPT4vG\n",
       "b0BSjPlPvC4ltbbJqkauaHatBJLFKOHfgT1MA6u1XawcxjmbXCyBFCUP02DPygq1ttNiEWIwiHMz\n",
       "x3kCWfEwC/asYFRrR9Bz+KBRiuAws1gKWfOwg8VMal7kRVqotDNwHS9mVDLQVC5NIRs8bGBaXcTn\n",
       "SzWhSuWLy5qYDXmcWe2AZKuTxf8zGQ8bmDwJkm+W00XV2pnToPFhfTDUxGopZCMedrAzDLT6iWPh\n",
       "T6sZbwme2bUUMvopnoEZDV7km12FWWotllGtb6S+ZapGR8gQ/phbhlIwK7xw/SIPeK00iTVGSzdF\n",
       "pSbEjrNZE7IVRzsYo9v38qtOn/S+3B4BaVRRLESpkcWtv3azX2ZCLY1Jd00Et+27POxgxLvCeq8t\n",
       "V0IzzlAXNuw13Y6dcyrT/8oKDRbTPvRxN3MTaclghy4gZTNdbWA+MyDTa8tBaYydBVDhHoyu+g4P\n",
       "cntFTo6EnSUuXGh4s+BVrw82nqDMBIY8XEG2KNvBfGPJe225EUqCRzVyY0Dd4sFT5pagjeIYo/fQ\n",
       "FhFsC8ZC5OQm43i4hLyMB7mGWQcwYist2nJyPjWhihbBlfKQOX+I3jG8LS+iTbBcA+uNle3uWWZC\n",
       "k9Epyw+sbT+YP3YwIdnOLnDqPoSiLQ+hacDI67QTnNlWgP65P3OgldHJRK6B9QHD1o+S1zxkJsN6\n",
       "cQOyqBeOtfNKAru3prxoyyEEsQLV4SF3RiqhekFX1f/QtqXcGdCDISGYmGH/cAOyamIsik0uYkVb\n",
       "Tvm2vw5XKkqvecicQZzb4j3Kwxx389CAIUQlQ51Dn5uM+8kbkFVzauB4aLd5wgDkbXmsehhQUc1E\n",
       "Eoins59n/v455plmvdgoLrW564snr5EqMNd5UEuMH7ogtuWaJh2a13WzfwjOoWaeQ23VP3ywrrUZ\n",
       "AfvgcFyDEYYU8o0C9XEQ2nIRyh643CwYbZ6L4HzWzIMI3bolXWptakB58jKtC5ZVfLTnh1Y2ajsP\n",
       "N5mpWpuZIOmDPPTAblSbDg/juST28fDFzxXmyaGwC3b3jq7Jg7mxxQrX2u3riyevjJ4B+/43F0Vq\n",
       "7e6iT94g4hevI39f/gPtrykBJGbtPQAAAABJRU5ErkJggg==\n",
       "\" style=\"display:inline;vertical-align:middle;\" /></a><br>"
      ],
      "text/plain": [
       "add_one_right_in_exp: forall_{a, b in Complex | a != 0} ((a^{b} * a) = a^{b + 1})"
      ]
     },
     "execution_count": 67,
     "metadata": {},
     "output_type": "execute_result"
    }
   ],
   "source": [
    "# true even for complex a = r exp(i theta),\n",
    "# but exclude a = 0 to avoid 0^0 which is undefined.\n",
    "add_one_right_in_exp = Forall(\n",
    "    [a,b],\n",
    "    Equals(Mult(Exp(a,b),a), Exp(a,Add(b,one))),\n",
    "    domain = Complex,\n",
    "    conditions=[NotEquals(a, zero)])"
   ]
  },
  {
   "cell_type": "code",
   "execution_count": 68,
   "metadata": {},
   "outputs": [
    {
     "data": {
      "text/html": [
       "<strong id=\"add_one_left_in_exp\"><a class=\"ProveItLink\" href=\"proofs/add_one_left_in_exp/thm_proof.ipynb\">add_one_left_in_exp</a> (conjecture without proof):<br></strong> <a class=\"ProveItLink\" href=\"../__pv_it/theorems/6e477a24bec9e3133947bf431ac659344417428a0/theorem_expr.ipynb\"><img src=\"data:image/png;base64,iVBORw0KGgoAAAANSUhEUgAAAQcAAAAcCAMAAABbE4p5AAAAOVBMVEX///8oKCgUFBQNDQ0QEBCI\n",
       "iIhmZma6urrMzMxUVFQiIiJERETc3Nzu7u6qqqp2dnaYmJgyMjIAAAArQGDrAAAAAXRSTlMAQObY\n",
       "ZgAAA1dJREFUWMPVWYuSpCAM9O7kTXj9/8ceoIICijrU7F2qdje1kB5tQtIw0/T/GLH2bSgVI9F+\n",
       "2jR+yQLGfBzaYKOk9jpm1fIXPU+lzAMr0NAP08Bqr2dOrm/FPuBBFGjPwYaahdrrUecQYnGyNp/z\n",
       "kNAeg400jGqvZ4jDhJZNzeFjHjJaBMtF03yRF+mg8romPGNmeV6EP+Yho0UwrR7n59DK/6Bqz76e\n",
       "Yray94YHZr3N4ZfZo0UwufEjxRe3xaxqr18mIU/n6tN82KFFsC0NtPrHt0XYx2Z7C/xs1VTNww4t\n",
       "ghkNwST/YjqYufbutFqtU82cn9COuWOo7BcZbQFzIhjX3+wWtvIk1hjN0HyLxgi5kUdtyEYiLWCM\n",
       "xmH5SoFfSsH4CEijimIhSo/M/vNtq/q1R6ijuejaneFOYIuHBYyEULD39LwSmnGGrlDzqtO47XxQ\n",
       "KdksKzyYzXHTp1WsRra60hPjJ4GTbJWrCBYqAzIXen4CpTH2M4AK/4DU6js8yPiKnKy1+VDxcOHh\n",
       "OIMnfsFt61KOpAk9Hk4Cm5QtYEFY8is9b4SSEFCNjAyoWzwEyvxH0EZzzNm7erNIc1d+toypRu7m\n",
       "w0lgu31FMGnTWQcwYpYWCpxsT02ookVu7Xk4BE9ELxhhLi+yTbCjBy5MVq61VO0R6mS7PrBOYPvg\n",
       "soAJyRZ2gVP/TygUeCodBow8rzopmMUG9Mf/mBWtzE4mjh44FeXepGTFQ3uk2y/OIc/6hWdtu6bA\n",
       "/q0pL/Q8pCRWoC54OAYjtaN6LnjI3X/14kf5vaDbh4p6pK87ziHP5YxDWeQiVuh5yuP6elypKD3n\n",
       "4RAMYluWEFFu5ryaqwcMISoZqjf9yUhfT55D1iVVpIRfH9ovnjAARwWeux4GdOxqOx5ycDjO/P61\n",
       "Hmea/SJSXHrPri9GXiNVYF55UEdMOHRBVuCa7hRa8HVTP6Tg1DO3Q22lHyasa++JgRt4OK7BCEMK\n",
       "BaFAQx4kBS5S2wNfmwWjzX2RgreeuRKhG3KMzrX36IAy8jLtEuzQ8dFSH1rVqB3cXWSmau+BcTqQ\n",
       "hyuwG93mgof+uSTreHjxNYIZeSi8BLt7R9fkwdxYYoVr7/Y5euSV0Riw99+FKFJ7dz905A0i/uJ1\n",
       "5L9vfwHGgCkBVgIS2gAAAABJRU5ErkJggg==\n",
       "\" style=\"display:inline;vertical-align:middle;\" /></a><br>"
      ],
      "text/plain": [
       "add_one_left_in_exp: forall_{a, b in Complex | a != 0} ((a * a^{b}) = a^{1 + b})"
      ]
     },
     "execution_count": 68,
     "metadata": {},
     "output_type": "execute_result"
    }
   ],
   "source": [
    "# true even for complex a = r exp(i theta)\n",
    "# but exclude a = 0 to avoid 0^0 which is undefined.\n",
    "add_one_left_in_exp = Forall(\n",
    "    [a,b],\n",
    "    Equals(Mult(a, Exp(a,b)), Exp(a,Add(one, b))),\n",
    "    domain = Complex,\n",
    "    conditions=[NotEquals(a, zero)])"
   ]
  },
  {
   "cell_type": "code",
   "execution_count": 69,
   "metadata": {},
   "outputs": [],
   "source": [
    "# Redundant.  Handled by sum_in_exp.\n",
    "# diff_in_exp = Forall(\n",
    "#     [a,b,c],\n",
    "#     Equals(Mult(Exp(a,b),Exp(a,Neg(c))), Exp(a,subtract(b,c))),\n",
    "#     domains = [Real, Complex, Complex],\n",
    "#     conditions=[NotEquals(a, zero)])"
   ]
  },
  {
   "cell_type": "code",
   "execution_count": 70,
   "metadata": {},
   "outputs": [],
   "source": [
    "# diff_frac_in_exp = Forall(\n",
    "#     [a,b,c,d],\n",
    "#     Equals(Mult(Exp(a,b),Exp(a,frac(Neg(c), d))),\n",
    "#            Exp(a, subtract(b,frac(c, d)))),\n",
    "#     domain = Real,\n",
    "#     conditions=[NotEquals(a, zero), NotEquals(d, zero)])"
   ]
  },
  {
   "cell_type": "code",
   "execution_count": 71,
   "metadata": {},
   "outputs": [],
   "source": [
    "# same as complex_power_of_product\n",
    "# exp_of_positives_prod = Forall(\n",
    "#     c,\n",
    "#     Forall((a, b),\n",
    "#            Equals(Exp(Mult(a,b),c), Mult(Exp(a,c),Exp(b,c))),\n",
    "#            domain=RealPos),\n",
    "#     domain=Complex)"
   ]
  },
  {
   "cell_type": "code",
   "execution_count": 72,
   "metadata": {},
   "outputs": [],
   "source": [
    "# covered by real_power_of_product\n",
    "# int_exp_of_prod = Forall(\n",
    "#     n,\n",
    "#     Forall((a, b),\n",
    "#            Equals(Exp(Mult(a,b),n), Mult(Exp(a,n),Exp(b,n))),\n",
    "#            domain=Complex,\n",
    "#            conditions=[NotEquals(a, zero), NotEquals(b, zero)]),\n",
    "#     domain=Integer)"
   ]
  },
  {
   "cell_type": "code",
   "execution_count": 73,
   "metadata": {},
   "outputs": [],
   "source": [
    "# same posnat_power_of_product\n",
    "# nats_pos_exp_of_prod = Forall(\n",
    "#     n,\n",
    "#     Forall((a, b),\n",
    "#            Equals(Exp(Mult(a,b),n), Mult(Exp(a,n),Exp(b,n))),\n",
    "#            domain=Complex),\n",
    "#     domain=NaturalPos)"
   ]
  },
  {
   "cell_type": "code",
   "execution_count": 74,
   "metadata": {},
   "outputs": [],
   "source": [
    "# Not true in general\n",
    "# same_exp_distribute = Forall(\n",
    "#     [x,y,z],\n",
    "#     Equals(Mult(Exp(x,y),Exp(z,y)), Exp(Mult(x,z),y)),\n",
    "#     domain = Complex)"
   ]
  },
  {
   "cell_type": "code",
   "execution_count": 75,
   "metadata": {},
   "outputs": [
    {
     "data": {
      "text/html": [
       "<strong id=\"int_exp_of_exp\"><a class=\"ProveItLink\" href=\"proofs/int_exp_of_exp/thm_proof.ipynb\">int_exp_of_exp</a> (conjecture without proof):<br></strong> <a class=\"ProveItLink\" href=\"../__pv_it/theorems/2e1dd2fce81bc9f2aaa988dec1803ef5612dc3440/theorem_expr.ipynb\"><img src=\"data:image/png;base64,iVBORw0KGgoAAAANSUhEUgAAATYAAAAcCAMAAADcImN/AAAAOVBMVEX///8oKCgUFBQNDQ0QEBCI\n",
       "iIhmZma6urrMzMxUVFQiIiJERETc3Nzu7u6qqqp2dnaYmJgyMjIAAAArQGDrAAAAAXRSTlMAQObY\n",
       "ZgAABCdJREFUaN7tWdmS2yAQVLLiZjj0/x8bkMUNsq6Na1Ohyi+Wpg3NXD2epn9rEWs/jvATl8af\n",
       "R9hdjHMuP0YPJf3vrbqLPEBAwRvdsfUNeP5Jp6Js8GC5fZMDBJJ+UbKfSpuFAZ0LQix7ZrChCJ0J\n",
       "uxyhsNbmx9OGUTyCKUOJw+TPqTaXMWR2L8wnXDAgtNYcEm2pbBhznrbr1reWXMIJQJRPhOPT+F2x\n",
       "9awSkN/mAsexNwTAjXV0WkebVu/8fo+269YPFTtb+dHsKgX2MQTbjTLHAplPYG8IdPWxwlouiTYZ\n",
       "rkuKC0F63frWmlVMXXU+h/BUv+J4po4FPdHjFQEy/NKaq5TbgptodSW3XbZ+JkabDsjlH/O6QZij\n",
       "h3CijtOWEBprLBJtRoNf8nSGXw0uW99ZJoYNbxsTHZoqS0LbgPSJxJsh1NZozirpIvw638K9tnzV\n",
       "+lYdDZUoJWmsMZrhRrffQ2hat83LV9rY6oJCXqNtaH1I25G9h+sekUbNlYgQRGLzA+Lzt10qn+z+\n",
       "vrbZSsR2EdqWjibaCM4KT09EzUJjgXGftrF157aV0IwzlBGw51N0TQLOqu4ubfhiy9Hgu6uYeeKP\n",
       "nUgcfYQ2p5Ks3fXwqI1+UBpj80q7GhAM2t2BdabtAhBQ4UCo1Ydo2/ZGOm0Xx1mz4I+7vsBR7Rsn\n",
       "wr6L0DBS0OZTXnszRigJHsydnhppRiqhb51puwhk5EqYOkabp9htlOb9RriQirZZxFcv0tZH2Pc2\n",
       "aYMyzjQYyUMMT3oorpK166wRs7TSdhGI0K2Qyz5thfVE9AvEv8yrOxNlkMLi31U1S4S/zW0sulEX\n",
       "oc1tMtekQjJSa7A8WxnZ63vCrqI1cOqQodJ2EciAaQpHRlu0Zmtt/nIfs8HVwcPKkgCLZ4/ZKET3\n",
       "SsIg+roIu5XU0YxfFGQaDDJnA9RztkhbsJ581aC8o+2290Dt0VZaI5Xd71zRFvqnUHXWn+Ks2iU+\n",
       "0RT1EUb9YpiALGFfUYNRvt65h3NYGjynowlIsPYpCLFa20Ug57J0h7bCOij0V7pZSP/WQxwCQ4hK\n",
       "hsrX7HFlMEBoCocoaTPQaLBU9J228LGg5Yi2zRq8ZwgDUGq7BIQBpX6spi1ZM5d0fv/yqccMKmko\n",
       "BR1xlQf980M+1J+3ZRpM01QPcDfBNl+4nEgXYryuh6TtEpBrxGnS2I23BetiX+vsrJkKxvgzYyWg\n",
       "0dOsQbi+mrZcg4mt6hvGnEqznL2ljTCkkG/QqPeyqO1EbB/AlTHBaD9Io3VoPjbedKdtpnESNBQ3\n",
       "8Pz/T4Ydme6ikNsuTHfVQaB+36beJnOmBmPK6S2fN8bZ9JuH4uronvuHfu8oyZdkf7hhnmfN6Omb\n",
       "aTs8p+nSZg7M7tT3/pnZkwhieoa2B/4nvX54Rf4ybTg2PZyz6f+6sv4A0G4yL4NVUTQAAAAASUVO\n",
       "RK5CYII=\n",
       "\" style=\"display:inline;vertical-align:middle;\" /></a><br>"
      ],
      "text/plain": [
       "int_exp_of_exp: forall_{n in Integer} [forall_{a, b in Complex | a != 0} ((a^{b})^{n} = a^{b * n})]"
      ]
     },
     "execution_count": 75,
     "metadata": {},
     "output_type": "execute_result"
    }
   ],
   "source": [
    "# Works for integers powers through repetition of a^b (or a^{-b}) and adding exponents.\n",
    "# Does not work for fractional powers.  Consider sqrt[(-1)^2] = 1 not (-1)^{2*(1/2)} = -1.\n",
    "int_exp_of_exp = Forall(\n",
    "    n,\n",
    "    Forall((a, b),\n",
    "           Equals(Exp(Exp(a, b), n), Exp(a, Mult(b, n))), \n",
    "           domain=Complex, conditions=[NotEquals(a, zero)]),\n",
    "    domain=Integer)"
   ]
  },
  {
   "cell_type": "code",
   "execution_count": 76,
   "metadata": {},
   "outputs": [
    {
     "data": {
      "text/html": [
       "<strong id=\"int_exp_of_neg_exp\"><a class=\"ProveItLink\" href=\"proofs/int_exp_of_neg_exp/thm_proof.ipynb\">int_exp_of_neg_exp</a> (conjecture without proof):<br></strong> <a class=\"ProveItLink\" href=\"../__pv_it/theorems/79f0f10182366a21f3dda17e9253d2168aaaf9fe0/theorem_expr.ipynb\"><img src=\"data:image/png;base64,iVBORw0KGgoAAAANSUhEUgAAAWUAAAAmCAMAAAAr4Hr/AAAAOVBMVEX///8oKCgUFBQNDQ0QEBCI\n",
       "iIhmZma6urrMzMxUVFQiIiJERETc3Nzu7u6qqqp2dnaYmJgyMjIAAAArQGDrAAAAAXRSTlMAQObY\n",
       "ZgAABQxJREFUaN7dWomShCgMdXflvv3/j11QgWAL0jgzfVA1VVPd5jU8QpIXmabhoWY/zPTKYe30\n",
       "hkOx/D8OJKk7YPOrl4Pc9JaDlPO6xzJ/9WJuTf9Xt599Dctqpi/6ZVn5PM/H2W9hmbG+0/vjYcXU\n",
       "UDVJ+wCZ/WSW6SL7OME/vbuyiorlmQt8MsuOdT6nf3h3TR01Vxd0Ud/Asux05an3uW5Xpg1Ulz52\n",
       "6BtYxq43sCDEwDItthShG1GEH1EhIkpZz87fwPKMgF83xAniagoU6N3LLJn90/Owg0sOUY+ImuWz\n",
       "RgDLblhIbSyP298MGLlsUqLxoPC7YV1MWpNUKEx7GXYvIgCqwgdEkqeSZbFn2aQw7tQIy+P297T1\n",
       "chYMIxFx+BnN3qVw8DC1+wNDQc88RyzAI6u37qh09WCASLPTMQdYlpF9KYYixrj9vbDMQaRtJr/A\n",
       "9OoJZosxQctgM40qGipK1BKR5MIHLTAuRxc0eojlcftbg+c95c0Y6wOoFaDvIsPiOdGjLG+rzqgl\n",
       "os3dM53KkMCyNSoMycd+b9z+1lhwmY7qvsdMXLkj0duQGc8hXJWoBSImoLjRsMZY1pDDzSDLw/b3\n",
       "WE4lRqrKJDYYtaqmJ1VgBQ+1ziwoL9ViIctbmS3kKMtV+54WAmn+wroqgx43MC9hEvt/JGQit7Qy\n",
       "5vl0jAMjb0QVr5F/tD1zhJVlgkEGPhM7szBYYFxjuW5/4jxaGMYZ6pnyhGOk0+yxkEvr4XqPuuET\n",
       "3MLTzwS1Oh6pRhtVrHcxhSrhhWjJNtpgbLfsYhRSVVVSsQdiP0IpGooh6kwPy3LllpOz8jYHvbWo\n",
       "Cnysz3DUlIHPFDF1PF079iVHKXVsLIfA/bjNVmipwvd+PdSeyKvE8rk9EPsJysqVX93FctgQHxqC\n",
       "Q8/6kuVZpKd/hOUOvN4EvbEsnc+ZR0lOoPfjyTQUdrb3ZwYxRw8thARF6F5AyVOWC+OJmNzf5PYq\n",
       "Yqj1fOomj4Rfx2WWAv813kXIOUQMn7kYOUpyGGetPCsvcx8j2StOQc8viv0EZZWV9VSSjNlatPzn\n",
       "/+yO9nBwVa4xtuynVuf2ekvLZ7NfhaNrvKsegC1Z1ruSApIcBnKFzlwZsBztp5AiKT+0EDKUVrrB\n",
       "cmm8F0ybL88P4TE5Skyx649xNjUKSvxMsdmBd9UM1IeeXPKMJMkp35R7+ML45Be2oN6Ti/YhfuY3\n",
       "i1HsJyh/JGid5cI4doC2yLg8FHwzO8QBxRCikqFGaeieCbIdeBc1app0ZNmqB0meiyevHYPvG1ln\n",
       "ebdXwfGEVapsIWQorFAuhA8sZ2Pm4+O//4QoaWs1xiRcp8J+WafWpkkflQ2Q5Ibm1IdPU8fJrH1E\n",
       "p0uoJ2UoEKLYz1BeTtHctzn6cjROVVyUdo/18mTmzm4RMEF/ynKe4ZFlKMnFHlYsY160O846WCYM\n",
       "aRQKYxp8OIl9kcou5RO6YPQ0YiTjWMXtNJszZayBe/fJVvXHV2Tye8nmuxIU4/LQCdR9UOf1sr7M\n",
       "OUBit7v4T+7Fjw0wwd97I9VbAImrpkvVEJwt2dFhs39LMmh8/iLLvZ3FU5ZtR6vavvyW3oVCz57y\n",
       "+rerePxE6rdmGTQFPvnWy7te+NxnB47aR9+Te9llxK7J2S9h2b6xMxcH7bPvLwv0riTL4lbNZ7Mc\n",
       "mnhvORQvMvM9lpe2avkDl+HyLVkWttBjy63rQNSP1y5TvqUzKwJn6Mf0P6vJPJ8KfQXIAAAAAElF\n",
       "TkSuQmCC\n",
       "\" style=\"display:inline;vertical-align:middle;\" /></a><br>"
      ],
      "text/plain": [
       "int_exp_of_neg_exp: forall_{n in Integer} [forall_{a, b in Complex | a != 0} ((a^{-b})^{n} = a^{-(b * n)})]"
      ]
     },
     "execution_count": 76,
     "metadata": {},
     "output_type": "execute_result"
    }
   ],
   "source": [
    "int_exp_of_neg_exp = Forall(\n",
    "    n,\n",
    "    Forall((a, b),\n",
    "           Equals(Exp(Exp(a, Neg(b)), n), Exp(a, Neg(Mult(b, n)))),\n",
    "           domain=Complex, conditions=[NotEquals(a, zero)]),\n",
    "    domain=Integer)"
   ]
  },
  {
   "cell_type": "code",
   "execution_count": 77,
   "metadata": {},
   "outputs": [
    {
     "data": {
      "text/html": [
       "<strong id=\"neg_int_exp_of_exp\"><a class=\"ProveItLink\" href=\"proofs/neg_int_exp_of_exp/thm_proof.ipynb\">neg_int_exp_of_exp</a> (conjecture without proof):<br></strong> <a class=\"ProveItLink\" href=\"../__pv_it/theorems/81456f9e854a2ece3efbb69b38da3d8677cfe5af0/theorem_expr.ipynb\"><img src=\"data:image/png;base64,iVBORw0KGgoAAAANSUhEUgAAAWUAAAAmCAMAAAAr4Hr/AAAAOVBMVEX///8oKCgUFBQNDQ0QEBCI\n",
       "iIhmZma6urrMzMxUVFQiIiJERETc3Nzu7u6qqqp2dnaYmJgyMjIAAAArQGDrAAAAAXRSTlMAQObY\n",
       "ZgAABQxJREFUaN7dWomy4ygM9O6Y+/b/f+yCDxAYHAdP1k6oelWvEktAI1pqxcPQPdTohxnuHNYO\n",
       "DxyKpf9xAEldcTbevR3khkcOkq/rGsr87s1cWv5Hj5/9DMpqpDfNLBufp/U4+ysoM9a8sJ9lEtOa\n",
       "QpN4DhDZb0aZTrIJA/7o6crmFFjWQuCbUXas/ZX+5Oma9hSpuqCT+gWUZTuUh4Ov/kIo04MpXPzY\n",
       "oV9AGbsDLkGINXdmsaUI9XMKL6eADlHMenb8BZRHBOI6FyeIq2Heta4FnCWjf3zsDXfJsykKh5ql\n",
       "u0YAyq5bSC0o99tfJIxUNimRfyf8AVgXE1VhqFBY99QbX0SAKRQuHJK0lCSLPcom0rhTPSj321/T\n",
       "1lONDNdd+SjCc1AptyKzjbBEhoKgeQtYYE4YmILOEQwc0hR0zAGU5Ya+FF2M0W9/jZY5INoy+Xkw\n",
       "xuXwDapwjb8F2AydkoaKYorMIUmFD5ogL28haHQXyv32lwZPZ8pLWvCcaUWz1yLD7jnRnSgvuwZT\n",
       "ZA5t6p7pWIYElK1RYUjeN1+//aUx4TwdZeHGTNysI7v7H8INme4kwlUxBXSICah0NKwxpplyuOlE\n",
       "udv+GsqRCmJRJrHBqKyaLsjAqj8/39GdBeWlmixEeSmzhexFuWl/pp9ADmeYd2XQ/gDTFgax/kdC\n",
       "JnJTmSVfL8E4MNKh1P2FCduutK0FwowywSkbV8XOKAwWGLdQbttXAkkLwzhDZ5Y84I3pNNuTa9wP\n",
       "1ysDh09w6U/3ElnDX9hvk2xUtt/JZKqEZ6Il2WiDsV2yi1FINVVJwx6I/c2VoqEYos6cQVnO2HJS\n",
       "q24T6c1FVcBjfoaj3YO9RUzd39ASO/O1U9XUsaAciHt/5FZoqcL3fj/UStvWfnV7IPajKytnfPUp\n",
       "lOfiVs3qY9QvUR5FfPqvoNzw15OgF5Sl8zmzlOQERj8ezIHCTvb+ziDmaNFPiK4IXesnWUU5Mx6I\n",
       "Sf1Nbl8xhprvp95hSvh7vMwi8df9vUE5BWP4zMVIKckhz1pZqy5THyPaK05Bz28T+9GVVVa2U0k0\n",
       "ZnPR8sf/2dXb7uKqVGMs2U/Nwe31VnGdrevFqO7vnR6AzVHWq5ICkhwSuUK1UAYob/ZDSJGUF/2E\n",
       "5EorfYBybrwWTEssjzt6jIGypdh5Ms7KleLeArPh7w2RmNfLsOiIkpzyRbmHL4xPfuEI2j25zT7w\n",
       "Z/plcRP70ZW/ErSNcma8dYAWZpx2Bd/ICk5QDCEqGSqedL3E2vD3RvcjLnpD2aqdJE/Fk9eOIfaN\n",
       "bKO82qsQeMIqlfcTkiusUCqEC5STMfP8+O8/gSVtq8YYhGsr7Gd0Z21cdKlsgCQ3NKU+XE0jlR14\n",
       "RqdTqCdlKBA2sZ9ceTlF8x6OqBjHKm6Tdvt6eTBju1sEH0O3oZxWWKIMJblYacUy5kW74+wEyoQh\n",
       "jUJhTEMMR7EvYtmlfEIXjFYZIxpvVdwKs6mpZA3Cuy1b1Y2vxaTfJQ9/K0EbL3fdRn3OVb1e1i9z\n",
       "DpDYuy7+cAL/jw+wwM/9InW2ABKvmi5NQ3C3ZEPz2vtABo3PD6J8trFYRdmeaFXb29/Se6HQU6Tc\n",
       "/+sq7r+R+tEog6bAN7/18tQXPtfVgav21e/J3fYy4qnF2R9B2T44mLOL9t3vLwv0VJBl9lLNd6Mc\n",
       "mniPHIpnmfkaytOxavkfQobLR6IsbKbHpkuvA1E/7t2mfGQwKwJX6MfwH8+sPJ8vLOQVAAAAAElF\n",
       "TkSuQmCC\n",
       "\" style=\"display:inline;vertical-align:middle;\" /></a><br>"
      ],
      "text/plain": [
       "neg_int_exp_of_exp: forall_{n in Integer} [forall_{a, b in Complex | a != 0} ((a^{b})^{-n} = a^{-(b * n)})]"
      ]
     },
     "execution_count": 77,
     "metadata": {},
     "output_type": "execute_result"
    }
   ],
   "source": [
    "neg_int_exp_of_exp = Forall(\n",
    "    n,\n",
    "    Forall((a, b),\n",
    "           Equals(Exp(Exp(a, b), Neg(n)), Exp(a, Neg(Mult(b, n)))),\n",
    "           domain=Complex, conditions=[NotEquals(a, zero)]),\n",
    "    domain=Integer)"
   ]
  },
  {
   "cell_type": "code",
   "execution_count": 78,
   "metadata": {},
   "outputs": [
    {
     "data": {
      "text/html": [
       "<strong id=\"neg_int_exp_of_neg_exp\"><a class=\"ProveItLink\" href=\"proofs/neg_int_exp_of_neg_exp/thm_proof.ipynb\">neg_int_exp_of_neg_exp</a> (conjecture without proof):<br></strong> <a class=\"ProveItLink\" href=\"../__pv_it/theorems/023df56dac79aac5c32e9561c9d0bde87db22b570/theorem_expr.ipynb\"><img src=\"data:image/png;base64,iVBORw0KGgoAAAANSUhEUgAAAVAAAAAcCAMAAAAA2xdIAAAAOVBMVEX///8oKCgUFBQNDQ0QEBCI\n",
       "iIhmZma6urrMzMxUVFQiIiJERETc3Nzu7u6qqqp2dnaYmJgyMjIAAAArQGDrAAAAAXRSTlMAQObY\n",
       "ZgAABDdJREFUaN7tWdlypSAUdGZk57D4/x874AVEBEWut5JMDVV5SegW27M1maZ/eBFrvzHdT1wa\n",
       "f2e6cjHOufwyrSjp2GTVo8+s06EUwU4Q/QY9/8rYo6xn1/LsB6/Tkewokv1UQS30qL4gxFobDTYU\n",
       "oTtJnNPlaG1+vqA45Zk07V2Iw+RfWtUiy5DZQecbMRzpDmgOmaBb4zLmvqDj6LeWXOIrgDjZJpzs\n",
       "xh+RHWWTgPwLLND/1EAHuERvce4E1epWFhWCjqMfare2kIqIuNx5Zte4sE9CsMc/TszpQ+YbTw10\n",
       "dI3LHC2XTFAZP7EUAyk/jn5rzSoVwtMmAnGrRhUS6vTRE+3vSZA9eYfmKquhMbS0GhB0HP1Mxp/P\n",
       "ba62mdeHhrlC4ncQ1S/oRleiscgENRr8krd7zAoYRr+zTJTn4rGU6TgXWlKddpC+UfozugKN5rzL\n",
       "L2tVuT+Svl5mFP1Wj4+9MHUDiTVGM3zE5FxyO3ljyqyCsjVshRwTtInucr6ndmc9JNLo8LFEzDAR\n",
       "IoT4PmGXs6C+Poy22dr0v+b2EyrNBCV464NVizkLjQXGdUHb6EpQKKEZZ1mDOGtlmK4lxaHKadnG\n",
       "X4RmAH4m3ApZbanRmtTB7SsqyQd7/yx0rCWgNMbmVfg1IGgM9g105nwjEVA/rlCruwQNZyOVYZHj\n",
       "bJDxr7tu4Og0hkbLyzW3e7O9oL60Hj+gEUqCJ3O6UFMxJAFSR2fONxEZuUqp+gRdZ0VYc2kuRghb\n",
       "CDqLtPVxQTu4DxEqbbxryBwqyRMWT7ppPTe08xCIWVo430REaBgyZF3QHXoi+kXiN/Pia4p9ysPi\n",
       "96pTyQi/V0NZir1r7njMzcsLyUjpUPOqaGRtWotHTGjg1FFD4XwTkQFzaF2ZoAnN1rnhj/sxga5M\n",
       "OLZvSrB4XZmte/buptRI5mvussu7D4B56W8hC1BAtQBNgkb05PsW5RXnG/aBOhN0j0Yq+/RzIWga\n",
       "+0LfWx/F2XQyu+HRua6DOx+MQ2Qv8cTJoVL+Mr3+D9r1JK9267Ypon2pQ6x0vonIhTk9EXSHjnce\n",
       "r+K1kEZAhEQGhhCVDJ0MYZYOCtrBXTilVzYeHOo2qjh/5TNLy5agAQ0+moQB2DvfjQgD2ubLUtAN\n",
       "zVwJ+/3LFzLT6PKxGV1Zz7yefPZ2FjXuQzOHqunWkXC1qh9+4WovXYjxNyWwOd+NyFkOWlxUiAp6\n",
       "d671OpM1E9h0GiCNPqknpC9eCpo7VBFmFcOY87CWs0tBCUMK+YGT+shMzlekoQdcIxWM1lM+oePI\n",
       "FBTVFYNA011Hn8GDz/670rCpIei+9Mcaemo9G8akk6g+h6rLDsJUzwXzdE/24cVpl6B9Xr6uSO8L\n",
       "1OWwN0JOdlwXmc/qafT0aUG778SqgpqOu1X12X+R37qNEtNDgj7wf/lxWRT5LoJiSG6Mczb9X8+u\n",
       "v9SRMx0dtkAoAAAAAElFTkSuQmCC\n",
       "\" style=\"display:inline;vertical-align:middle;\" /></a><br>"
      ],
      "text/plain": [
       "neg_int_exp_of_neg_exp: forall_{n in Integer} [forall_{a, b in Complex | a != 0} ((a^{-b})^{-n} = a^{b * n})]"
      ]
     },
     "execution_count": 78,
     "metadata": {},
     "output_type": "execute_result"
    }
   ],
   "source": [
    "neg_int_exp_of_neg_exp = Forall(\n",
    "    n,\n",
    "    Forall((a, b),\n",
    "           Equals(Exp(Exp(a, Neg(b)), Neg(n)), Exp(a, Mult(b, n))),\n",
    "           domain=Complex, conditions=[NotEquals(a, zero)]),\n",
    "    domain=Integer)"
   ]
  },
  {
   "cell_type": "code",
   "execution_count": 79,
   "metadata": {},
   "outputs": [
    {
     "data": {
      "text/html": [
       "<strong id=\"diff_square_comm\"><a class=\"ProveItLink\" href=\"proofs/diff_square_comm/thm_proof.ipynb\">diff_square_comm</a> (conjecture without proof):<br></strong> <a class=\"ProveItLink\" href=\"../__pv_it/theorems/374a25cf910450f27d217019d29502807fe83c7e0/theorem_expr.ipynb\"><img src=\"data:image/png;base64,iVBORw0KGgoAAAANSUhEUgAAAQAAAAAmBAMAAADZ3ljKAAAAMFBMVEX///8QEBCIiIhmZma6urrM\n",
       "zMxUVFQiIiJERETc3Nzu7u6qqqp2dnaYmJgyMjIAAAAcRTyBAAAAAXRSTlMAQObYZgAAA+tJREFU\n",
       "WMO1WF9IU1EY/+7+OHd3N32wPxbRyvIpQuohCbNFiC8V66F/L22MIoISiYrMHkQhZmUsohQKvCWk\n",
       "SLhRRJmCK58qiEUPmVCNTEGtJWaQTlnn3Ltdz939s7OH+4HHeX/f757f+b7vfOc4ACr7AgYY66d2\n",
       "NcWNEAAHqD338DkcuMqdeU4+3MKDiTYE7IpcHm+gLr/5uVABiuovSu+CnEobwBfKS4AtZJ0HuMXT\n",
       "eed++Xno9OQnwGOfo1mZaBMUPkN8nkXgWACwLlC52ucpnM7luwVsbjR8p3I1U2xCriJfAcN4+EDl\n",
       "yriFOMS0Yokr5KNK4HQJTkExqpx47kbX6cVjjxrUswoNpwEsUYtXgaVhpSEC7IMavLYovMNPpnQF\n",
       "fBPGSVVsDP30ARwfeKEowsk0rDREsE4PXMMbPA4dOFhNugJ2gBQyhSVx/t2wPpXKRgRCUr1g3MCk\n",
       "UjO4x8+ACynnIroCLomdQw2y4H3EFqu3mjSs0lklgmMenG97e9v1i/APHtR9uHo8/lCD2iVYaRLB\n",
       "ikL0Lxi8oi9gFg9lOFVV29bIIVegLJLeUdlWJsGk3R7ewBMEdgngJECrFNGEWsCW8NiGD8WQa0aO\n",
       "hadY1KW+Sn+/T2AbyxBEmExZKfwGkoAWtxfYuLw7CMm5cSqQ2c+CgEakZB2YmxQNGL3iuVoEGiWY\n",
       "sAcxqASSsIiKBUzLHWMar3hwe4w9ylt/EnkCKEEdcUHsn6ywzATe+NXAolf41ASUSDDhv5sXeraP\n",
       "rC8uZltm4YCN9PeC8z7AYLYApgnC3uw2YEnqCBBhwlYD+zdbgD1+GH3oKh/Hc82W8xa8f2ueISA7\n",
       "BeEoDGXNsoTDArVZNTCRSYEIE+W0CA5cRbXEA1SCJ9CHC8LJaLpsqnBhYPQzwZpN11Q4AnUOeTuY\n",
       "w1klaoqwNgkmXpVEva+fIAiLe4o2q7nCirdsodsZ78LAy36CtpguT4Re5OSznIUWNFZpnXYiTFgz\n",
       "fPJHCYKQ3iJUWExEuCAyHrP/SDAYdN87RLBWghg1NrD57ib5C7u24BWOqwmolWDCHm08FvAQBMsc\n",
       "btqoM4RDhaPoVxHPRAqEK8BDNF/G66Z2KxYDW6/VinMSnJkSYUK+/dDB2/gR4LxCz/PC64zXK53D\n",
       "KH22qBgVgcucCpbAk11wMGI9gxJ0HT94nLjqlV/3WjXf16f+mIbgkt9Kxb5tQjUg77cxzQuJ3kw0\n",
       "hHBMcVVSsUK/7g3LqUGjIQzJuE4tQjEYZdV0/5klDROwls5tq1Hzmyhjy3gNEsDE6PyccYMEUIe2\n",
       "2Zj57aW0nt3G5KA7Qi21wRABbfSudwz5kgp/pfAfNPEfj3U2wsQAAAAASUVORK5CYII=\n",
       "\" style=\"display:inline;vertical-align:middle;\" /></a><br>"
      ],
      "text/plain": [
       "diff_square_comm: forall_{a, b in Complex} ((a - b)^{2} = (b - a)^{2})"
      ]
     },
     "execution_count": 79,
     "metadata": {},
     "output_type": "execute_result"
    }
   ],
   "source": [
    "diff_square_comm = Forall(\n",
    "    [a,b],\n",
    "    Equals(Exp(subtract(a,b),two),Exp(subtract(b,a),two)),\n",
    "    domain = Complex)"
   ]
  },
  {
   "cell_type": "code",
   "execution_count": 80,
   "metadata": {},
   "outputs": [
    {
     "data": {
      "text/html": [
       "<strong id=\"sqrt_of_prod\"><a class=\"ProveItLink\" href=\"proofs/sqrt_of_prod/thm_proof.ipynb\">sqrt_of_prod</a> (conjecture without proof):<br></strong> <a class=\"ProveItLink\" href=\"../__pv_it/theorems/2c3ad1e3385e5b6a3c7ce11d7bd277514aec1b290/theorem_expr.ipynb\"><img src=\"data:image/png;base64,iVBORw0KGgoAAAANSUhEUgAAAjkAAAAmBAMAAADU2pc5AAAAMFBMVEX///8QEBCIiIhmZma6urrM\n",
       "zMxUVFQiIiJERETc3Nzu7u6qqqp2dnaYmJgyMjIAAAAcRTyBAAAAAXRSTlMAQObYZgAABpNJREFU\n",
       "aN7NWn2IVFUUP/Pxdua9+dhd0GgTYdQyobTBDQzSXIn0j7BGYdMg2GEpon9kyVoUpWz/qDGzXkUm\n",
       "lvpUcG372MFYylB2bOufZGFijVKsJDIoyhbdFl3t49x737vvY96+j2ludGHOvGHm9zvv/N655957\n",
       "dgH8h9LaWoF6x7cgZIihVYqmjbW2aoEwLfX7i54XEoYgWnjAYiESTJ2e+t2t0IREIYgWokXTildH\n",
       "mSlmBoihxfGbxQpXp6koJAZBtDhe1UwrXJ0u1fJh+d91jtC0ge7NxdG4rjuzwtX5yXItb2vYE24E\n",
       "rTtOmjKtaHXkq9bp0NEocRpCOw3uB9OKVidmXXj3NSx1GkI7De5L04pWJ5KzfLgTX3tDU6TUkLTH\n",
       "AhIjTq5CDXB/B7eoznn/nSeqkyXvmWrY0PYXLCzoSamjRjwRkrZJDbYpQNwR+1SjwEiFW1TnFPnw\n",
       "i5866TK+Z0Nvwb63XBOKrBpenQ9C0irBttEE93ONXqiRaVGd3f5lH9Whv9gdOrIljijH6pid6VxI\n",
       "2k+Dip7JQy0wOs4tqkMSgmaGd90h2XUqdGSbLNej+Npcz764JSTtgUC0iEs4MpkCU1e5RXUyXwwM\n",
       "vOlflc8NDLwTvjhftlwjWq6rvP8YkjYbaIlHjDNsCpSugWHJmnWlVNrqr05zqfRC+DbGJcv5Dkt6\n",
       "lKTy6yNz/OuXvHTxTcb1SEjadD7IcRNx8xyOKFD5EwxL1HkMYLsLvGJXp6kAydAllXliI4GvJN5S\n",
       "vA1+D3AGV7PjxvV39M4v0pEPQJsJUpYJbqfDEQNe4g+AqHOve5XP29WJ590WD78MYGEoxMwlt4T1\n",
       "7UAV7sLMZeuASxLRHyuzIcZXio9C0qZ6vKgtuC0ORwx4HQxL1EnQLDMPGhs/gznFGnVwni4MuH17\n",
       "6fFug4vOYXmrPs8hghN7uQZPgtROb0T5qxY+SB5VbAoSfKnqqjkLedNK417UFtwMhyMK1IvaZV2d\n",
       "dDXB8e+OLIOP01pMq1VnFPxLqnK8vaqs16RfbWGsfo5kbUUP40ZQ/sBUZGS9LilPjseRbTBY8FFn\n",
       "WloW5HTUFtwMhyM3deTzD/GJt2OPBidy+TSMtG9sL9vU2Sf591S+OTYAmbcBjtunwIOYmwmNTQHl\n",
       "OqTGuTrTjcEKDPMPqyx1pxiA1ofbxG1xOKJAhc4sxZhZsP1R1GXZ2nmkBOEYGnotXVt3ILkLn5Cy\n",
       "eEOhxtuh+Rd0doK5bwhv3wCyCpfo0QXD8qlcw33oMV91yrAhpY59NTdvVGVbinrT+lVljtvpcESB\n",
       "THrZWLPgQ/x1ZkU1orIz11D6/Udc1EmRDWp/oUuDJnvBU55m3RBgh7GzZyzfsQoXndDPKmTJ7IOv\n",
       "ixWbOqQc0DIxyMNK5jK9aTg9G9rww9Ka+LxpY3y5pawOagtuxOGIAh37HWjGsrTnVmjWFKrIEFRG\n",
       "XNSha1w7rAPppF2dWF7SQz1EzCfWM/INDD8JqbyRuofnPtzdYVOHloNeXhcoovuWXTfLB3uA6H6h\n",
       "Rh1v2qyZ3r1QQ23BrXI4osD4BBiWqpMhphtWgLSpVOpDdfYm3NQ5i69ZMF+fs5Z2Qllv4cO6UqmU\n",
       "e6vT8t3Lem9T1c+Jm21T3Lc/lYu3uPZPvGn7/XgNHD9JMEcMmJni1uzvzISlEhRZ7sTX4lvBpb+j\n",
       "XIWdA051BtXkWW3sxDl0QlPpIN9YAJzUOw6VlexiLJQ6kUKsUnA7hXrT+p5CDRw/hTJHDJhu4Zar\n",
       "I4/DU0PwObk8jYeq6bpfbdJElaizW5NfNExE7VoNR7dhvqULdGteMO9vmPEnW/TdON9up4Kosx8S\n",
       "9xfcNqGetP4dDI7bbnPEgNkit1ydeBFur0ISF/H4Mx0sCdzUWXnbPKrOmrLUBmtUYsrx7qPL8KCx\n",
       "Hr/eQX7z3sXned4Nsn1mfFKfe0abSl4ymfNXZyVER12POZ60/gcejjtic8SAjJtaZ+d0AdYd384p\n",
       "mVlmy6OsH1sW4oIfxbpjf0r6bTxr6BW+c5pxCdaT9ow/p4Gzd04ZcFjltp6+snTH3ZZmr351GI67\n",
       "tVUzem9mATR0/FtaL9w9pq23655xuXJFXgMRQxAtHbNMK/yvfYvEhLBImDjRFtMKVydSEBKDIFrC\n",
       "XLVY0eoE6kT9b2h5VjIr/v93+sQEIYgW5DbT/gfq9IuZA4Joob9s2qDqXCnl6n4Ym8U8YzG0tNWs\n",
       "22jplUDqQGenWre/N8SEIYZW6TCt3NkJ/wDkMoayRtJVHwAAAABJRU5ErkJggg==\n",
       "\" style=\"display:inline;vertical-align:middle;\" /></a><br>"
      ],
      "text/plain": [
       "sqrt_of_prod: forall_{n in NaturalPos} [forall_{a_{1}, ..a_{_a}.., a_{n} in Complex} (sqrt((a_{1} * ..a_{_a}.. * a_{n})) = (sqrt((a_{1})) * ..sqrt((a_{i})).. * sqrt((a_{n}))))]"
      ]
     },
     "execution_count": 80,
     "metadata": {},
     "output_type": "execute_result"
    }
   ],
   "source": [
    "sqrt_of_prod = Forall(\n",
    "    n,\n",
    "    Forall(a_1_to_n,\n",
    "           Equals(sqrt(Mult(a_1_to_n)), \n",
    "                  Mult(ExprRange(i, sqrt(IndexedVar(a, i)), one, n))),\n",
    "           domain = Complex),\n",
    "    domain = NaturalPos)"
   ]
  },
  {
   "cell_type": "code",
   "execution_count": 81,
   "metadata": {},
   "outputs": [
    {
     "data": {
      "text/html": [
       "<strong id=\"sqrt_times_itself\"><a class=\"ProveItLink\" href=\"proofs/sqrt_times_itself/thm_proof.ipynb\">sqrt_times_itself</a> (conjecture without proof):<br></strong> <a class=\"ProveItLink\" href=\"../__pv_it/theorems/673a258a0dad0ec70b6acc7508c1b0d92388cbc30/theorem_expr.ipynb\"><img src=\"data:image/png;base64,iVBORw0KGgoAAAANSUhEUgAAAPwAAAAaBAMAAABhmCzLAAAAMFBMVEX///8QEBCIiIhmZma6urrM\n",
       "zMxUVFQiIiJERETc3Nzu7u6qqqp2dnaYmJgyMjIAAAAcRTyBAAAAAXRSTlMAQObYZgAAAx5JREFU\n",
       "SMe9Vs9rE0EY/bLJZrObTdI/ITUgJagEiyAealAoCIJBRC+ColYsogimHkTEg8pWL8Ue7C2LBYVQ\n",
       "NFBRFMGQk6QSoxQVUYgWeigoQSzUKOrMbGZ2Z3cnYXvwO7zdvDf7vfnxzUwA1hcHGPSNdGChb8hH\n",
       "KZAo/cXRdjXqsqOiJKPrtk+aFEic8G3UZfWmIIlQ6BtbGeBQW35tGHtRlAUJpM2ngO5qhwKJcMWv\n",
       "EWMzojRIWMDPlYD2eo4CiXu+jRhbEqVBwgwex5WA9qEKBRILvo0Yq1QEaZCA60evBLQvmRRwaOf8\n",
       "2thsWDQ6JCTq5fLtoJX3moG4gm1WGhCkwcKaYVwKaj/CoLvI2obxXTXP0nfZSMczM7YwBjDpZxHx\n",
       "9LVWpa8GAxybAebgXfoy39xm5VVCNL7hWMKvDmE3aM5t+3jo+BfyErM7Mk4eH+ERZZYpRPII0CLX\n",
       "4ZW5B5OkHlys+sM9EoeggERXSXs23JR0qKd5e5gew1iEFC228xQGUc+lNHa15kL7A15W89g7BL2p\n",
       "UPb9kzIg+w9Nlz1MX0NtV+2tttQF9Q7pP47vlnIBvKx39A5BbR1Eb7VtGwsRfI5g+6ptr2f246HP\n",
       "XQX5Jyh0mq5T0NYA3pA7aNVZWTyLvrTXfhlcwiS6GiTzrJJPgmU/nLPts9FWkRTLitwBhV6Rpxjs\n",
       "nCJH+lOpDVnbn2e9le8U5lGRyPAVYJbYh08WHaVXSFoj3tJEXQ1R+0EGpVwCzVXkV6ytOnY/zybc\n",
       "+54TUiQpmodDhmGkJf3WorPyU1N4NocqeO1T+e73+0wK0Y6CHtqxbMZ5bfGs59TjhAROI7dliFqT\n",
       "Hz9sOuyPQAG0F3m+8kN5CvLveb9/IxybFP2tYUJJb+mgF6y1r9ulp7YbUNW2563rke37cJUCfPa9\n",
       "LTn2gSmwZ8LdxVod4CY+dhrV2RFmr53Zu8mUC9ap95LdsPIABXie80vMsW9FZ7dLkNDasx+xXof+\n",
       "aQaxKT+dYydEWSZ6OPS0v8+gfySqQQXePo52hHGDE+M5Cv1jJrBAyqtnzocM+saOwMJ/i3/8Rgev\n",
       "5zHWZQAAAABJRU5ErkJggg==\n",
       "\" style=\"display:inline;vertical-align:middle;\" /></a><br>"
      ],
      "text/plain": [
       "sqrt_times_itself: forall_{x in Real | x >= 0} ((sqrt(x) * sqrt(x)) = x)"
      ]
     },
     "execution_count": 81,
     "metadata": {},
     "output_type": "execute_result"
    }
   ],
   "source": [
    "sqrt_times_itself = Forall(\n",
    "    x,\n",
    "    Equals(Mult(sqrt(x), sqrt(x)), x),\n",
    "    domain=Real,\n",
    "    conditions=[greater_eq(x, zero)])"
   ]
  },
  {
   "cell_type": "code",
   "execution_count": 82,
   "metadata": {},
   "outputs": [
    {
     "data": {
      "text/html": [
       "<strong id=\"nth_power_of_nth_root\"><a class=\"ProveItLink\" href=\"proofs/nth_power_of_nth_root/thm_proof.ipynb\">nth_power_of_nth_root</a> (conjecture without proof):<br></strong> <a class=\"ProveItLink\" href=\"../__pv_it/theorems/45da8a9b8494517914ccdc4cc9ff56ab1384398d0/theorem_expr.ipynb\"><img src=\"data:image/png;base64,iVBORw0KGgoAAAANSUhEUgAAAOYAAAAmBAMAAAAirPo8AAAAMFBMVEX///8QEBCIiIhmZma6urrM\n",
       "zMxUVFQiIiJERETc3Nzu7u6qqqp2dnaYmJgyMjIAAAAcRTyBAAAAAXRSTlMAQObYZgAAA5dJREFU\n",
       "WMO9l19IFEEYwL87b+/P3q7ei0H0ciWUSH8OjvDBP5z5EL3E5UP1IHTYH/AlDvRBIUR8WpHChEgE\n",
       "cUFQsFIpDisUT69eLrCNhCLMFvvzEBSHFWQmNTu7e7e7t3u2O9A8zM3NfN/+Zr7vm29mAIjKW5vy\n",
       "dAJIi1u0q3GamNnE6/56+d1nSbpQulL3l1ranQlfCJlew6R9/8C8yZMxLwzaZ3oJjfsJ7DOpX0TI\n",
       "wJYDJmwQMctEKybb0FJlpfWCiOkK45/RvNmO1aE6iJzMNgmuQQutsRiITtKJoh3HG6bX0N0OMHII\n",
       "Kqzs7ErDM+n3syPmO1yXqwuq+INKDmAatdugyTJwRRiWgqHXEbMW1y+N3QwyeSXUU1aZKAflyAbM\n",
       "rCNmF667i7JTCAI56ExZaAW3gM1OTd12FkPf8IZJFvV/AE8CDgtWG3Qb4CfHXTMZSptrMJr2JjZV\n",
       "BK3sQPuJZWTlhTXcnzFPzrIQ0DsAlwH6TUQiFntS85Edqfaj9dyFV+EegPu9PjywXpBZ+SqV91JT\n",
       "EcJTbQZadMQMYKYPxUIWnvOnUETGz+OBOVNNRQjgN1ICt9b0VMcT2J8oZs5VX9zQMyXHoO0WA+CB\n",
       "w3g4EsOp35SpCOEwYARfvv9OpgEeMnwZn4l2RAvBTM9HBTcD2TATrY3WFTMV107AvGDNVIQwMyCe\n",
       "VTvZgREeFsIRxmDb14+mADHfCBa2BeqH9tsnjf6Uzx9FiEa2hf5LalJulvpSqSENc/n4wbhHakvM\n",
       "tD6GNtUYeoz2eU1hYN10laoQnuqDpJqUcSylmHuteaabv+qLlYPMjEZ0TCkYkGsi4Nn25wKamKg3\n",
       "Q+aFsEsqwkpSpjEnBelMnklJ95dxzCy70qmPIdiDv5UEuq2mSntKfDTdnqqQ57vkRV5JylQXx/Uh\n",
       "5qgUVHFFFp3L5ziOC7uZoVU8iUK5YZH7kiWzF5u/KOCknJDX6WnRbIgcBV7ZtsFWw/G0ZJ3jSxQm\n",
       "pMYgTspPpSZazZrSO8yPMSIDTFz2Z9aQDxfxHPzGw3m6dJYuVy9hclL2o7j39MTkhaFyZnZidTkL\n",
       "MCDlhJX0eKNee0YwPbP7SzNnDMm/GvlTW5S04Eb+NNH2J/R3E8Vfg6WZi6XHg6WH2ZCTE7Cx9DC7\n",
       "y9Nh2wlzH9md+qiTp1yIjOmKO9ARyJis+H9soyt99t8be0mZk7aNOzlLygx029W4Tvy2h1t2X+bS\n",
       "reIvvs71qFP7OkEAAAAASUVORK5CYII=\n",
       "\" style=\"display:inline;vertical-align:middle;\" /></a><br>"
      ],
      "text/plain": [
       "nth_power_of_nth_root: forall_{n in NaturalPos, x in RealPos} ((x^{1 / n})^{n} = x)"
      ]
     },
     "execution_count": 82,
     "metadata": {},
     "output_type": "execute_result"
    }
   ],
   "source": [
    "nth_power_of_nth_root = Forall(\n",
    "    (n, x),\n",
    "    Equals(Exp(Exp(x, frac(one, n)), n), x),\n",
    "    domains=[NaturalPos, RealPos])"
   ]
  },
  {
   "cell_type": "code",
   "execution_count": null,
   "metadata": {},
   "outputs": [],
   "source": []
  },
  {
   "cell_type": "markdown",
   "metadata": {},
   "source": [
    "### Expansion Theorems"
   ]
  },
  {
   "cell_type": "code",
   "execution_count": 83,
   "metadata": {},
   "outputs": [
    {
     "data": {
      "text/html": [
       "<strong id=\"square_expansion\"><a class=\"ProveItLink\" href=\"proofs/square_expansion/thm_proof.ipynb\">square_expansion</a> (conjecture without proof):<br></strong> <a class=\"ProveItLink\" href=\"../__pv_it/theorems/215ba30e9bccef6e5bf13bc59cec0a61886eaea80/theorem_expr.ipynb\"><img src=\"data:image/png;base64,iVBORw0KGgoAAAANSUhEUgAAAK8AAAAcBAMAAADl4vKdAAAAMFBMVEX///8QEBCIiIhmZma6urrM\n",
       "zMxUVFQiIiJERETc3Nzu7u6qqqp2dnaYmJgyMjIAAAAcRTyBAAAAAXRSTlMAQObYZgAAArtJREFU\n",
       "SMe1Vk1oE0EUfk2z2exmt/bgzctaoYciGBDBQ4SgFBGExoM/t0hRpBcp3kSRgiBbFcxBUFBxidBD\n",
       "KBooIq09SHqLqCsK/qAl+HfwpwRR0Hqo7+3PbLKZ2Y3FDkz2Me97b2bezzcB6G4snLVgLYZWSjX+\n",
       "q0Mp737lkvS7e6tEPOSA95Xzyo/uHScPx0I+Mymz/A8XfRQH6DWYKBsd2hs8k0yJwJhpJydvBY5v\n",
       "BqWw0KFUJ7g2YxTkLMDD9huHioxJerZD2Vfi2tzGqTQBrtJ3QuB4A5P2wnBY+UxQmRSzU7gv3lar\n",
       "8jEKS5j05f75sPYk30jtx5/teMd6pXJFcGC935d6Vlaa4V3HBVYfcG7E+cs0T4uKgjJbHry82eB1\n",
       "AUZdHRjbWWMrHpISM4JxOAowKXCcxtirD/QTMmvnx0s03jtKG2AaXhhnWAw85CLKxQLALlDbaCBz\n",
       "8dion3fsIM3SlpO8/MuYmDo8sfaQTydrHvIe1SlSgQwJ299zfqutHrKkr74t3dY5N2f0oK0FpiPf\n",
       "aUCALNICKjVb9rEvZyugXweY90/sFO86Q+gY4Lt7ApccXGTRO7HSIKapbRssJMnP8F1c8mPs4Cle\n",
       "7TH+5IcCpJ+te7nI3SRR8CaPYIqt43K+j5ZfvwqAKbxaxtqCWl5mMYBziSYMseR4yEWvKmAGC1KC\n",
       "bwC3SD0321JRWMcj1Ut8ttGykPyTbip+ghgyh/NpEBnk8YOmaRrX9rfwKnbe1EB5h80l3XFQR4c2\n",
       "BfzlIz+6nYf9RceWmhKknKYoe9VDY30Up4pamjryHeNHraGBRrFXcgVgzZSLchxBQiojmanntTrA\n",
       "BRKnl86xMtgX5Tgtpk099DYlMMZtC6lqhGMB0RM/yIWYp0mNfPO5xaLTPd7Evoozq/rTIHw4Whgp\n",
       "vxrHvWvzr8kdfwHCdK6XQHAW+wAAAABJRU5ErkJggg==\n",
       "\" style=\"display:inline;vertical-align:middle;\" /></a><br>"
      ],
      "text/plain": [
       "square_expansion: forall_{x in Complex} (x^{2} = (x * x))"
      ]
     },
     "execution_count": 83,
     "metadata": {},
     "output_type": "execute_result"
    }
   ],
   "source": [
    "# until we have the more general \"exp_expansion\"\n",
    "square_expansion = Forall(\n",
    "    x,\n",
    "    Equals(Exp(x, two), Mult(x, x)),\n",
    "    domain=Complex)"
   ]
  },
  {
   "cell_type": "code",
   "execution_count": 84,
   "metadata": {},
   "outputs": [
    {
     "data": {
      "text/html": [
       "<strong id=\"cube_expansion\"><a class=\"ProveItLink\" href=\"proofs/cube_expansion/thm_proof.ipynb\">cube_expansion</a> (conjecture without proof):<br></strong> <a class=\"ProveItLink\" href=\"../__pv_it/theorems/7c8486e3b830ba897f0bc4747659a97f1001b11a0/theorem_expr.ipynb\"><img src=\"data:image/png;base64,iVBORw0KGgoAAAANSUhEUgAAAMkAAAAcBAMAAAA5G4aqAAAAMFBMVEX///8QEBCIiIhmZma6urrM\n",
       "zMxUVFQiIiJERETc3Nzu7u6qqqp2dnaYmJgyMjIAAAAcRTyBAAAAAXRSTlMAQObYZgAAAsRJREFU\n",
       "SMe9Vk1oE0EU/kiTbLLdjTnoyUtsoIdSNCCChxSCIuKp8eDPQUgpisSDiAdBFPEkG1TsQaig0iVC\n",
       "kSAaKCKVHqTeImIKgj9oXUQPipYgFDSC+GZ3Z//czS4pdWCSybxv3sz7vjdvAkRqUv4E1r+NYec6\n",
       "ek+UjO8iPvTrIhYOOWiN+o4lPhEK+coH4qa++XgeBhjI8dHW3D/GdDt0g8Ep+hBUQGO/3gegZtQe\n",
       "jN2NEEeVCVMAnrmI8bSnjg2bXuOXCLvcZzF3gBvs+2IAaLOtyoyXH7kQ5Z4xos8BGSJFavpj0l0+\n",
       "Oosl1WMUpiLsImYNsuVWozEdgJGzfHRktOo1TkdKsE/Ut1D/qSjng1KMUkMcqu5a9DPmqdeHr49a\n",
       "yedGmiam7DjRcAyoBeySIr3u4VXugkXzit50Ra6S3yfyaUHjRheSm5ZpXCkDuyFqrhy/cnzSHGbo\n",
       "2rbwQt3ndwTSVFKlbpzJI7IJC8kU5KZHLD2pTAmI8fQRF7a3xcNq4hsXuMCWKP6BbmTOU0Z2PtBg\n",
       "I8U/sE0VZqVdpLbAF76eb0C+BSzwWHRqfgTuAmwwVBGMWmUiz8A2VcxY0horiYs7hstx5nTPQ5ri\n",
       "urDFiVVH+hu6TJiMGZTbBXzVeQrDtJeNGKm1o1QF1JNCKcOm376xgUkK+nGsgxG/WEj9QXUbreQT\n",
       "LiQ3LZs5hrlTdAx8B+7o2HnH05BF/Heq418WKUfHm9dw26rwLiQ3Fakv2QT+Ag4pipK7ecDxNHQh\n",
       "To7k/WspcTE7VB+z/LqR3PSZF1qZBZToJJDUb2LdTExL4YAWrcIQT/hoVVxJkyAxvdLFMqwbXOzh\n",
       "IHK1FK1qOPtysQVc1q/wyiUrcfb38lCLWPllz5McI11cE8lmDw9RXjF2EqEcRqvWwxjhRZaZdu9C\n",
       "YXNr/7MV+EQ6SmdpzbsMqPhP7S/Rzrj9BMr7kAAAAABJRU5ErkJggg==\n",
       "\" style=\"display:inline;vertical-align:middle;\" /></a><br>"
      ],
      "text/plain": [
       "cube_expansion: forall_{x in Complex} (x^{3} = (x * x * x))"
      ]
     },
     "execution_count": 84,
     "metadata": {},
     "output_type": "execute_result"
    }
   ],
   "source": [
    "# until we have the more general \"exp_expansion\"\n",
    "cube_expansion = Forall(\n",
    "    x,\n",
    "    Equals(Exp(x, three), Mult(x, x, x)),\n",
    "    domain=Complex)"
   ]
  },
  {
   "cell_type": "markdown",
   "metadata": {},
   "source": [
    "*Note: Could eventually include generalizations to “even power closure,” etc, but need to define and implement an Evens set to do this*"
   ]
  },
  {
   "cell_type": "markdown",
   "metadata": {},
   "source": [
    "### Sqrt(2) is not rational"
   ]
  },
  {
   "cell_type": "code",
   "execution_count": 85,
   "metadata": {},
   "outputs": [
    {
     "data": {
      "text/html": [
       "<strong id=\"sqrt2_is_not_rational\"><a class=\"ProveItLink\" href=\"proofs/sqrt2_is_not_rational/thm_proof.ipynb\">sqrt2_is_not_rational</a> (conjecture with conjecture-based proof):<br></strong> <a class=\"ProveItLink\" href=\"../__pv_it/theorems/2b066d9558d1a2abaa028c1c5cb0c23dbe8db2430/theorem_expr.ipynb\"><img src=\"data:image/png;base64,iVBORw0KGgoAAAANSUhEUgAAAEQAAAAZCAMAAAC/3XipAAAAQlBMVEX///9jY2MJCQkNDQ0rKysP\n",
       "Dw8WFhbMzMxEREQQEBCYmJh2dnYiIiLu7u6qqqpmZmYyMjK6urpUVFSIiIjc3NwAAAADW+fZAAAA\n",
       "AXRSTlMAQObYZgAAAWpJREFUOMutVOl6xCAIpKdEVPB6/1etMflWzKbptlt/7JpAhmE4AOZT6jjw\n",
       "15MiPH2KPI8BHJ7H8O7Kah4DoUsi7hdEPDPiSVSTpqfmhHJSB7IrxupL9d7K6pVPyZX2Jwn9GRHu\n",
       "b5flMhuMbDYwIzNKtv3z7pxq0SaL7vPDifLc7+hjzzLGKZRU30GUKgazB1SoAoV3uAhrQnnZQXPW\n",
       "3Otg6VfGXrVhSWDsdo0WKELxeRdR5xwrqVEohxAxQ9ibwbRrL0fFnvZERJezm7V+ZgbpV+4iOuXF\n",
       "rDtiEZH3t/Zzy0ilE4DKNv7tG6v4Z56GEu96GbWwO+nUVFREwupQRjGWu5ZvcuKtxDsnUymM4KZz\n",
       "ygOEM0Q+9PZotptFlqFbcUTESYd2IR1nyfLW9mxHAnVEkm03ahCfXqM/ToGtInVWqlyOt30hdM7J\n",
       "ISUI6RfL6jwGUQnCmR5cePjNRm47RfjB1Z7tP6xv/MH+BU98EzwhNDmBAAAAAElFTkSuQmCC\n",
       "\" style=\"display:inline;vertical-align:middle;\" /></a><br>"
      ],
      "text/plain": [
       "sqrt2_is_not_rational: sqrt(2) not-in Rational"
      ]
     },
     "execution_count": 85,
     "metadata": {},
     "output_type": "execute_result"
    }
   ],
   "source": [
    "sqrt2_is_not_rational = NotInSet(sqrt(two), Rational)"
   ]
  },
  {
   "cell_type": "code",
   "execution_count": 86,
   "metadata": {},
   "outputs": [
    {
     "name": "stdout",
     "output_type": "stream",
     "text": [
      "These theorems may now be imported from the theory package: proveit.numbers.exponentiation\n"
     ]
    }
   ],
   "source": [
    "%end theorems"
   ]
  },
  {
   "cell_type": "code",
   "execution_count": null,
   "metadata": {},
   "outputs": [],
   "source": []
  }
 ],
 "metadata": {
  "kernelspec": {
   "display_name": "Python 3",
   "language": "python",
   "name": "python3"
  }
 },
 "nbformat": 4,
 "nbformat_minor": 0
}