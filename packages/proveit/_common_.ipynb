{
 "cells": [
  {
   "cell_type": "markdown",
   "metadata": {},
   "source": [
    "Common expressions for context <a href=\"_context_.ipynb\" class=\"ProveItLink\">proveit</a>\n",
    "========\n",
    "\n",
    "These are generic common expressions based upon single-symbol Variable names."
   ]
  },
  {
   "cell_type": "code",
   "execution_count": 1,
   "metadata": {},
   "outputs": [
    {
     "name": "stdout",
     "output_type": "stream",
     "text": [
      "Defining common sub-expressions for context 'proveit'\n",
      "Subsequent end-of-cell assignments will define common sub-expressions\n",
      "%end_common will finalize the definitions\n"
     ]
    }
   ],
   "source": [
    "import proveit\n",
    "# Automation is not needed when only building common expressions:\n",
    "proveit.defaults.automation = False # This will speed things up.\n",
    "from proveit import Variable, Function\n",
    "%begin common"
   ]
  },
  {
   "cell_type": "code",
   "execution_count": 2,
   "metadata": {},
   "outputs": [
    {
     "data": {
      "text/html": [
       "<strong id=\"a\">a:</strong> <a class=\"ProveItLink\" href=\"__pv_it/a8d4b3a34d2189508f9082853fbac36935714f280/expr.ipynb\"><img src=\"data:image/png;base64,iVBORw0KGgoAAAANSUhEUgAAAAsAAAAJBAMAAAAWSsseAAAAMFBMVEX///9UVFSqqqrMzMwiIiJE\n",
       "RESYmJgyMjK6urru7u4QEBCIiIh2dnZmZmbc3NwAAABRgo0vAAAAAXRSTlMAQObYZgAAAEdJREFU\n",
       "CNdjYOC7c3slAwND1wP2DwwMnMsYeAMYGHh/MrBsYGDgCmCYb8DAMP8Agz5QxXwFBnGmBwysG9gc\n",
       "eYAqpTc/3MEAAP4BD32xAXDqAAAAAElFTkSuQmCC\n",
       "\" style=\"display:inline;vertical-align:middle;\" /></a><br>"
      ],
      "text/plain": [
       "a: a"
      ]
     },
     "execution_count": 2,
     "metadata": {},
     "output_type": "execute_result"
    }
   ],
   "source": [
    "a = Variable('a')"
   ]
  },
  {
   "cell_type": "code",
   "execution_count": 3,
   "metadata": {},
   "outputs": [
    {
     "data": {
      "text/html": [
       "<strong id=\"b\">b:</strong> <a class=\"ProveItLink\" href=\"__pv_it/53e304ff98ebc000dbe3ef224f4637dbafd46ba70/expr.ipynb\"><img src=\"data:image/png;base64,iVBORw0KGgoAAAANSUhEUgAAAAkAAAAOBAMAAAAPuiubAAAALVBMVEX///+YmJjc3NyIiIhUVFR2\n",
       "dna6urqqqqpmZmYyMjIiIiIQEBBERETu7u4AAAALjtrwAAAAAXRSTlMAQObYZgAAAE9JREFUCNdj\n",
       "4D29gAEIOBtAJF8BiMy7ACKjQATDFON2BgbelxfuKTCwv2XgM2DgmMBwLwCkPK+AgU+Aoe8CA18C\n",
       "70YGBhYBHqARvM2BDAwAqXgQspq5HJAAAAAASUVORK5CYII=\n",
       "\" style=\"display:inline;vertical-align:middle;\" /></a><br>"
      ],
      "text/plain": [
       "b: b"
      ]
     },
     "execution_count": 3,
     "metadata": {},
     "output_type": "execute_result"
    }
   ],
   "source": [
    "b = Variable('b')"
   ]
  },
  {
   "cell_type": "code",
   "execution_count": 4,
   "metadata": {},
   "outputs": [
    {
     "data": {
      "text/html": [
       "<strong id=\"c\">c:</strong> <a class=\"ProveItLink\" href=\"__pv_it/b2b446b221a34ee579eb9a1fbdd4ac4e2891d8c70/expr.ipynb\"><img src=\"data:image/png;base64,iVBORw0KGgoAAAANSUhEUgAAAAkAAAAJBAMAAAASvxsjAAAALVBMVEX///+YmJgQEBDu7u5mZmZU\n",
       "VFQyMjJERESqqqoiIiLc3NzMzMyIiIh2dnYAAABuqkWTAAAAAXRSTlMAQObYZgAAADZJREFUCNdj\n",
       "YGC4c2YDA8PKBvYEBoa5DKwNDCyPGYCAqQBE2l0AkXwCDAxA8QAGE6DKu4IHGABBiAr2Gi8OxgAA\n",
       "AABJRU5ErkJggg==\n",
       "\" style=\"display:inline;vertical-align:middle;\" /></a><br>"
      ],
      "text/plain": [
       "c: c"
      ]
     },
     "execution_count": 4,
     "metadata": {},
     "output_type": "execute_result"
    }
   ],
   "source": [
    "c = Variable('c')"
   ]
  },
  {
   "cell_type": "code",
   "execution_count": 5,
   "metadata": {},
   "outputs": [
    {
     "data": {
      "text/html": [
       "<strong id=\"d\">d:</strong> <a class=\"ProveItLink\" href=\"__pv_it/445e790c2b62732eb8597a2ddda4cbd1a8fb79140/expr.ipynb\"><img src=\"data:image/png;base64,iVBORw0KGgoAAAANSUhEUgAAAAsAAAAOBAMAAAALT/umAAAAMFBMVEX///9UVFSYmJiIiIjc3Nwy\n",
       "MjIiIiJ2dnbu7u66urqqqqpmZmYQEBBERETMzMwAAAAYOWz6AAAAAXRSTlMAQObYZgAAAFpJREFU\n",
       "CNdjYGBg4LuzgQEE+BeAqfkNYKoMTDJEAzHLdrtfQGqOA+8PBgaOQwzcAQwM3D8Y2AoYGHguMPRP\n",
       "YGDoL2BYD1TRv4BBlMuBgdeAKZEdqFLYztGSAQAyzhFdhFkSwwAAAABJRU5ErkJggg==\n",
       "\" style=\"display:inline;vertical-align:middle;\" /></a><br>"
      ],
      "text/plain": [
       "d: d"
      ]
     },
     "execution_count": 5,
     "metadata": {},
     "output_type": "execute_result"
    }
   ],
   "source": [
    "d = Variable('d')"
   ]
  },
  {
   "cell_type": "code",
   "execution_count": 6,
   "metadata": {},
   "outputs": [
    {
     "data": {
      "text/html": [
       "<strong id=\"e\">e:</strong> <a class=\"ProveItLink\" href=\"__pv_it/6567d413600fdd7d84eba6ba11e2ea39697434560/expr.ipynb\"><img src=\"data:image/png;base64,iVBORw0KGgoAAAANSUhEUgAAAAkAAAAJBAMAAAASvxsjAAAALVBMVEX///8yMjKYmJhUVFTMzMyq\n",
       "qqoQEBAiIiK6urrc3NxmZmaIiIh2dnbu7u4AAAAQ5FA8AAAAAXRSTlMAQObYZgAAADlJREFUCNdj\n",
       "YOA9vWsCA0P7BM4DDLypDLccGJiTdusyMPAZMAAB3wEQyQ4kNzBwCzDcAqrcpaTAAABiowvgYAOl\n",
       "vwAAAABJRU5ErkJggg==\n",
       "\" style=\"display:inline;vertical-align:middle;\" /></a><br>"
      ],
      "text/plain": [
       "e: e"
      ]
     },
     "execution_count": 6,
     "metadata": {},
     "output_type": "execute_result"
    }
   ],
   "source": [
    "e = Variable('e')"
   ]
  },
  {
   "cell_type": "code",
   "execution_count": 7,
   "metadata": {},
   "outputs": [
    {
     "data": {
      "text/html": [
       "<strong id=\"f\">f:</strong> <a class=\"ProveItLink\" href=\"__pv_it/d7bbb04e874e28c7cefb21d4eea40806ae52f1f70/expr.ipynb\"><img src=\"data:image/png;base64,iVBORw0KGgoAAAANSUhEUgAAAAsAAAASBAMAAAB/WzlGAAAAMFBMVEX///8yMjJERETMzMwQEBCY\n",
       "mJgiIiK6urqqqqp2dnZUVFTc3NyIiIhmZmbu7u4AAADOOTK3AAAAAXRSTlMAQObYZgAAAFNJREFU\n",
       "CNdjYGBgeHt2A5BkWNnfACT5vj8HcTg+gEgGzgQQyXol9wKI5j8AFtxvAKb6wSTDNAilBaF8wCTf\n",
       "dzDFDjVEAUR2MQaAqKSHYLGY2yASAEu1ElmxJIVRAAAAAElFTkSuQmCC\n",
       "\" style=\"display:inline;vertical-align:middle;\" /></a><br>"
      ],
      "text/plain": [
       "f: f"
      ]
     },
     "execution_count": 7,
     "metadata": {},
     "output_type": "execute_result"
    }
   ],
   "source": [
    "f = Variable('f')"
   ]
  },
  {
   "cell_type": "code",
   "execution_count": 8,
   "metadata": {},
   "outputs": [
    {
     "data": {
      "text/html": [
       "<strong id=\"g\">g:</strong> <a class=\"ProveItLink\" href=\"__pv_it/ee4ad292e488e3f95383e0f20138837b9e0a20550/expr.ipynb\"><img src=\"data:image/png;base64,iVBORw0KGgoAAAANSUhEUgAAAAoAAAANBAMAAABiGeI2AAAALVBMVEX///+6urpUVFQiIiKYmJjM\n",
       "zMwQEBDu7u7c3Nx2dnZERESIiIhmZmaqqqoAAAB27htHAAAAAXRSTlMAQObYZgAAAFVJREFUCNdj\n",
       "YGC4s/sWAwPnAo43DAz3ChjeMjBkMbA+Z2B9wsBtwMDygoHrAAPvAwa+CwzsLxj0ChgYhHZOZgCB\n",
       "NQwMrAzsDxkY5hUAlTAIeZ9lYAAATJ4TywaLrUwAAAAASUVORK5CYII=\n",
       "\" style=\"display:inline;vertical-align:middle;\" /></a><br>"
      ],
      "text/plain": [
       "g: g"
      ]
     },
     "execution_count": 8,
     "metadata": {},
     "output_type": "execute_result"
    }
   ],
   "source": [
    "g = Variable('g')"
   ]
  },
  {
   "cell_type": "code",
   "execution_count": 9,
   "metadata": {},
   "outputs": [
    {
     "data": {
      "text/html": [
       "<strong id=\"h\">h:</strong> <a class=\"ProveItLink\" href=\"__pv_it/f93b36ab16a44bf69a50d98a8c3d00af439ac5c70/expr.ipynb\"><img src=\"data:image/png;base64,iVBORw0KGgoAAAANSUhEUgAAAAsAAAAOBAMAAAALT/umAAAAMFBMVEX////MzMxUVFTc3NyIiIiY\n",
       "mJh2dna6urqqqqpmZmYyMjIiIiIQEBBERETu7u4AAADHEPc2AAAAAXRSTlMAQObYZgAAAFhJREFU\n",
       "CNdj4LuzgQEEuCaAKf4GMFX/AExlg0mGla2+BgwMfL8MmBQYGDg+MjBdYGDgXMDA48DAwJ3AYC/A\n",
       "wPC+AKw2noHhGOsDBi0Ghu9sDAxXGRjSHBgAHNIRg56s41MAAAAASUVORK5CYII=\n",
       "\" style=\"display:inline;vertical-align:middle;\" /></a><br>"
      ],
      "text/plain": [
       "h: h"
      ]
     },
     "execution_count": 9,
     "metadata": {},
     "output_type": "execute_result"
    }
   ],
   "source": [
    "h = Variable('h')"
   ]
  },
  {
   "cell_type": "code",
   "execution_count": 10,
   "metadata": {},
   "outputs": [
    {
     "data": {
      "text/html": [
       "<strong id=\"i\">i:</strong> <a class=\"ProveItLink\" href=\"__pv_it/557ab5defdcd46aa58168b08767502985122cd490/expr.ipynb\"><img src=\"data:image/png;base64,iVBORw0KGgoAAAANSUhEUgAAAAcAAAAOBAMAAAARcxsoAAAAKlBMVEX///8yMjKqqqrc3NwQEBC6\n",
       "urp2dnZmZmaIiIju7u6YmJhERERUVFQAAAAIfTrnAAAAAXRSTlMAQObYZgAAADhJREFUCNdjYGA4\n",
       "zQAEpxjQAWd7AwMDG6sDA4MRuwADwwReIJdBdwKQ2AOSvcTGwMB6wQqkdQEDAPwvCSrC7lmiAAAA\n",
       "AElFTkSuQmCC\n",
       "\" style=\"display:inline;vertical-align:middle;\" /></a><br>"
      ],
      "text/plain": [
       "i: i"
      ]
     },
     "execution_count": 10,
     "metadata": {},
     "output_type": "execute_result"
    }
   ],
   "source": [
    "i = Variable('i')"
   ]
  },
  {
   "cell_type": "code",
   "execution_count": 11,
   "metadata": {},
   "outputs": [
    {
     "data": {
      "text/html": [
       "<strong id=\"j\">j:</strong> <a class=\"ProveItLink\" href=\"__pv_it/6a5b5879f51878868f626bf09e4d76392d4779cd0/expr.ipynb\"><img src=\"data:image/png;base64,iVBORw0KGgoAAAANSUhEUgAAAAoAAAASBAMAAACQmVJ4AAAAMFBMVEX////MzMwyMjIiIiJ2dna6\n",
       "urrc3NxmZmZERESIiIhUVFSYmJju7u4QEBCqqqoAAACA8xhiAAAAAXRSTlMAQObYZgAAAE1JREFU\n",
       "CNdjYGBg4LsDJBi4FzBgAydngMgC3g1AFQn8DxgYeBjiD4CEnMHS6iCC5x+I5PsDItkNQCRzAQMD\n",
       "44F8AQaGfId2IJ9rOlA/AHmNDZhMFHq1AAAAAElFTkSuQmCC\n",
       "\" style=\"display:inline;vertical-align:middle;\" /></a><br>"
      ],
      "text/plain": [
       "j: j"
      ]
     },
     "execution_count": 11,
     "metadata": {},
     "output_type": "execute_result"
    }
   ],
   "source": [
    "j = Variable('j')"
   ]
  },
  {
   "cell_type": "code",
   "execution_count": 12,
   "metadata": {},
   "outputs": [
    {
     "data": {
      "text/html": [
       "<strong id=\"k\">k:</strong> <a class=\"ProveItLink\" href=\"__pv_it/273f49450ca25e1b56abbd98a7aef618f8f6c1360/expr.ipynb\"><img src=\"data:image/png;base64,iVBORw0KGgoAAAANSUhEUgAAAAoAAAAOBAMAAADkjZCYAAAAMFBMVEX////MzMxUVFSIiIjc3NyY\n",
       "mJh2dna6urqqqqpmZmYyMjIiIiIQEBBERETu7u4AAAA59f8xAAAAAXRSTlMAQObYZgAAAE9JREFU\n",
       "CNdj4LuzgQEIuCaASP4GEFn/AERmgwiGlQytUxj4fjC7f2Xg+GfHF8DAeRIkzK18GUi+L/AvYGCI\n",
       "Z3jfkMCgy8AvkMBwg4F58gMA1VoTUDpQu/EAAAAASUVORK5CYII=\n",
       "\" style=\"display:inline;vertical-align:middle;\" /></a><br>"
      ],
      "text/plain": [
       "k: k"
      ]
     },
     "execution_count": 12,
     "metadata": {},
     "output_type": "execute_result"
    }
   ],
   "source": [
    "k = Variable('k')"
   ]
  },
  {
   "cell_type": "code",
   "execution_count": 13,
   "metadata": {},
   "outputs": [
    {
     "data": {
      "text/html": [
       "<strong id=\"l\">l:</strong> <a class=\"ProveItLink\" href=\"__pv_it/146a2ac733407ae00030c58af25a3e0f465a566a0/expr.ipynb\"><img src=\"data:image/png;base64,iVBORw0KGgoAAAANSUhEUgAAAAYAAAAOBAMAAAD+sXAWAAAAKlBMVEX///+6urp2dnbu7u5UVFTc\n",
       "3NwQEBBERERmZmaYmJjMzMwiIiKIiIgAAAAbLTcEAAAAAXRSTlMAQObYZgAAAD9JREFUCNdjYDh9\n",
       "i4GB8wIDA0cBAwPbAQaG2AUMDHMZGBjcgTiHgYHrKgMDTwIDA7uDAQPvBAUGXuEDDJxNDAAx5wn0\n",
       "VrzDlAAAAABJRU5ErkJggg==\n",
       "\" style=\"display:inline;vertical-align:middle;\" /></a><br>"
      ],
      "text/plain": [
       "l: l"
      ]
     },
     "execution_count": 13,
     "metadata": {},
     "output_type": "execute_result"
    }
   ],
   "source": [
    "l = Variable('l')"
   ]
  },
  {
   "cell_type": "code",
   "execution_count": 14,
   "metadata": {},
   "outputs": [
    {
     "data": {
      "text/html": [
       "<strong id=\"m\">m:</strong> <a class=\"ProveItLink\" href=\"__pv_it/6e8a38e9a7e2b6af352562cd77e0eb4751f142620/expr.ipynb\"><img src=\"data:image/png;base64,iVBORw0KGgoAAAANSUhEUgAAABIAAAAJBAMAAADN8WE8AAAAMFBMVEX///9mZmaYmJgyMjIiIiIQ\n",
       "EBCqqqru7u5ERETMzMyIiIjc3NxUVFR2dna6uroAAAAPJcEmAAAAAXRSTlMAQObYZgAAAGNJREFU\n",
       "CNdj4Luze9UpzlvnGBh4OboY6tcxpDIwTGMxYNh/gUGfgaGg/gFDfgHDCQYGhnwGBhEGhiggS5iB\n",
       "wZeB7zc7A0MsA/s/BkaDbQzc/xjYPjAwX7jAwOfAwCXAwCa0AQBn+hZiKtaxkQAAAABJRU5ErkJg\n",
       "gg==\n",
       "\" style=\"display:inline;vertical-align:middle;\" /></a><br>"
      ],
      "text/plain": [
       "m: m"
      ]
     },
     "execution_count": 14,
     "metadata": {},
     "output_type": "execute_result"
    }
   ],
   "source": [
    "m = Variable('m')"
   ]
  },
  {
   "cell_type": "code",
   "execution_count": 15,
   "metadata": {},
   "outputs": [
    {
     "data": {
      "text/html": [
       "<strong id=\"n\">n:</strong> <a class=\"ProveItLink\" href=\"__pv_it/0c1c4cb515e0f4344b1ac06650f349123e526deb0/expr.ipynb\"><img src=\"data:image/png;base64,iVBORw0KGgoAAAANSUhEUgAAAAwAAAAJBAMAAAD0ltBnAAAAMFBMVEX///8QEBCYmJgyMjIiIiKq\n",
       "qqrMzMzu7u5ERERmZmaIiIjc3NxUVFR2dna6uroAAABXsXCEAAAAAXRSTlMAQObYZgAAAEdJREFU\n",
       "CNdj4Luze9UsBgZeji6G+g0MqSwGDPsTGArqHzDoMzAwxDMwHAZSkxkYPrEzMMgysH7nZeD+x8Br\n",
       "oMbA58DAfSgAABUwDxmEwURaAAAAAElFTkSuQmCC\n",
       "\" style=\"display:inline;vertical-align:middle;\" /></a><br>"
      ],
      "text/plain": [
       "n: n"
      ]
     },
     "execution_count": 15,
     "metadata": {},
     "output_type": "execute_result"
    }
   ],
   "source": [
    "n = Variable('n')"
   ]
  },
  {
   "cell_type": "code",
   "execution_count": 16,
   "metadata": {},
   "outputs": [
    {
     "data": {
      "text/html": [
       "<strong id=\"o\">o:</strong> <a class=\"ProveItLink\" href=\"__pv_it/d538ccf49c8b2311eddf936cb53209b1ca76a0490/expr.ipynb\"><img src=\"data:image/png;base64,iVBORw0KGgoAAAANSUhEUgAAAAoAAAAJBAMAAAD5iKAgAAAAJ1BMVEX///+YmJhEREQQEBBUVFTu\n",
       "7u4iIiLc3Ny6urpmZmaIiIh2dnYAAAAKKMn+AAAAAXRSTlMAQObYZgAAAD1JREFUCNdjYGDYtbKB\n",
       "gaGsgfU4A0M2CHEeZWA4wsCswMB+iiFmAwP3cQYeAQbmDQycDgyaDAwMu1c3MAAAVGwMBzCuOugA\n",
       "AAAASUVORK5CYII=\n",
       "\" style=\"display:inline;vertical-align:middle;\" /></a><br>"
      ],
      "text/plain": [
       "o: o"
      ]
     },
     "execution_count": 16,
     "metadata": {},
     "output_type": "execute_result"
    }
   ],
   "source": [
    "o = Variable('o')"
   ]
  },
  {
   "cell_type": "code",
   "execution_count": 17,
   "metadata": {},
   "outputs": [
    {
     "data": {
      "text/html": [
       "<strong id=\"p\">p:</strong> <a class=\"ProveItLink\" href=\"__pv_it/29987c5db64d821b8785a065141d34627672b1060/expr.ipynb\"><img src=\"data:image/png;base64,iVBORw0KGgoAAAANSUhEUgAAAAwAAAANBAMAAABvB5JxAAAAMFBMVEX///9mZmYQEBCYmJgyMjKq\n",
       "qqoiIiLu7u5UVFSIiIjMzMzc3NxERER2dna6uroAAABJ6CsEAAAAAXRSTlMAQObYZgAAAFdJREFU\n",
       "CNdjYHh7euWMAgaGC20BvAcYuAM8GJg/MLAzfGXg/c7AwPedgUeBgYE3gaFegIGBRYDBCKiS/wCX\n",
       "FgMDw/uXEzcAqWsMYOAIJtm/gqmwLxOAJAA2yhRf4TarBgAAAABJRU5ErkJggg==\n",
       "\" style=\"display:inline;vertical-align:middle;\" /></a><br>"
      ],
      "text/plain": [
       "p: p"
      ]
     },
     "execution_count": 17,
     "metadata": {},
     "output_type": "execute_result"
    }
   ],
   "source": [
    "p = Variable('p')"
   ]
  },
  {
   "cell_type": "code",
   "execution_count": 18,
   "metadata": {},
   "outputs": [
    {
     "data": {
      "text/html": [
       "<strong id=\"q\">q:</strong> <a class=\"ProveItLink\" href=\"__pv_it/c2160bd519fcd5ff53e5f8362518f6274fe61ada0/expr.ipynb\"><img src=\"data:image/png;base64,iVBORw0KGgoAAAANSUhEUgAAAAoAAAANBAMAAABiGeI2AAAALVBMVEX///8iIiKqqqpERERmZmYy\n",
       "MjJUVFQQEBC6urru7u6IiIiYmJh2dnbc3NwAAABK6fHBAAAAAXRSTlMAQObYZgAAAFBJREFUCNdj\n",
       "YOA9vXIFA0P7BbYHDJzVDGwBDCwPGNgPMLAbMNxrYJi3gGEfA8M8BQZTBgbWBdxvGBg4sxa9YAAC\n",
       "7gcgEqgcCIDKGRh44kQYACZZEY8LEecAAAAAAElFTkSuQmCC\n",
       "\" style=\"display:inline;vertical-align:middle;\" /></a><br>"
      ],
      "text/plain": [
       "q: q"
      ]
     },
     "execution_count": 18,
     "metadata": {},
     "output_type": "execute_result"
    }
   ],
   "source": [
    "q = Variable('q')"
   ]
  },
  {
   "cell_type": "code",
   "execution_count": 19,
   "metadata": {},
   "outputs": [
    {
     "data": {
      "text/html": [
       "<strong id=\"r\">r:</strong> <a class=\"ProveItLink\" href=\"__pv_it/9ed67d07bfa9d196705b94d039d02a2bb642c2410/expr.ipynb\"><img src=\"data:image/png;base64,iVBORw0KGgoAAAANSUhEUgAAAAoAAAAJBAMAAAD5iKAgAAAALVBMVEX////c3NxmZmYiIiLMzMwQ\n",
       "EBCqqqoyMjJERER2dnbu7u5UVFSIiIi6uroAAADCZiipAAAAAXRSTlMAQObYZgAAADFJREFUCNdj\n",
       "4D299swBBk6OMo4ABjfmDbwODAvWXWAAgjwQwaAOJiNBBOMTEMlrACQAWkQJZVHiaaUAAAAASUVO\n",
       "RK5CYII=\n",
       "\" style=\"display:inline;vertical-align:middle;\" /></a><br>"
      ],
      "text/plain": [
       "r: r"
      ]
     },
     "execution_count": 19,
     "metadata": {},
     "output_type": "execute_result"
    }
   ],
   "source": [
    "r = Variable('r')"
   ]
  },
  {
   "cell_type": "code",
   "execution_count": 20,
   "metadata": {},
   "outputs": [
    {
     "data": {
      "text/html": [
       "<strong id=\"s\">s:</strong> <a class=\"ProveItLink\" href=\"__pv_it/ab1d6db667713f2720c396eed2558242d1a62b5c0/expr.ipynb\"><img src=\"data:image/png;base64,iVBORw0KGgoAAAANSUhEUgAAAAgAAAAJBAMAAAD9fXAdAAAALVBMVEX///8iIiKqqqq6uroQEBDu\n",
       "7u7c3NxmZmZEREQyMjLMzMyYmJiIiIh2dnYAAAAD6ch7AAAAAXRSTlMAQObYZgAAADZJREFUCNdj\n",
       "YOA9s4uBYRZDOwPbA4alDKxPihkYGCzeNTAkMfA8Y5jIwPCAoY2B5wBDzulDDAAd6Q1SG4Hr4wAA\n",
       "AABJRU5ErkJggg==\n",
       "\" style=\"display:inline;vertical-align:middle;\" /></a><br>"
      ],
      "text/plain": [
       "s: s"
      ]
     },
     "execution_count": 20,
     "metadata": {},
     "output_type": "execute_result"
    }
   ],
   "source": [
    "s = Variable('s')"
   ]
  },
  {
   "cell_type": "code",
   "execution_count": 21,
   "metadata": {},
   "outputs": [
    {
     "data": {
      "text/html": [
       "<strong id=\"t\">t:</strong> <a class=\"ProveItLink\" href=\"__pv_it/13033de591d663340a868497ea94790360bdb1370/expr.ipynb\"><img src=\"data:image/png;base64,iVBORw0KGgoAAAANSUhEUgAAAAcAAAANBAMAAACX52mGAAAALVBMVEX///+YmJhUVFTMzMzu7u6I\n",
       "iIhERES6urp2dnYyMjJmZmaqqqrc3NwiIiIAAAAtjhwgAAAAAXRSTlMAQObYZgAAAEFJREFUCNdj\n",
       "YGC4w8DAwP0ASHBNABK8DQwMVXlZAQwM+4A8hpUg4gYQszwHEuwPGBwYOCZwGzBwKbgyMPAkCjAA\n",
       "AGrlCqGl123JAAAAAElFTkSuQmCC\n",
       "\" style=\"display:inline;vertical-align:middle;\" /></a><br>"
      ],
      "text/plain": [
       "t: t"
      ]
     },
     "execution_count": 21,
     "metadata": {},
     "output_type": "execute_result"
    }
   ],
   "source": [
    "t = Variable('t')"
   ]
  },
  {
   "cell_type": "code",
   "execution_count": 22,
   "metadata": {},
   "outputs": [
    {
     "data": {
      "text/html": [
       "<strong id=\"u\">u:</strong> <a class=\"ProveItLink\" href=\"__pv_it/04261bc123fecf54993152ffbcfbd1c4b61769bc0/expr.ipynb\"><img src=\"data:image/png;base64,iVBORw0KGgoAAAANSUhEUgAAAAwAAAAJBAMAAAD0ltBnAAAAMFBMVEX///+qqqpUVFQiIiJ2dnbM\n",
       "zMxEREQyMjKYmJjc3Ny6uroQEBBmZmaIiIju7u4AAAB7S4HXAAAAAXRSTlMAQObYZgAAAEZJREFU\n",
       "CNdj4LtzgeH1AwYerg0M9xkYZvAUMKQxMDzgvsCwl4GBYf0D1q9AypmBdwOQSmJgS+hjYDjEsPqA\n",
       "AwPDo7uSugEAaZoSviMHvVMAAAAASUVORK5CYII=\n",
       "\" style=\"display:inline;vertical-align:middle;\" /></a><br>"
      ],
      "text/plain": [
       "u: u"
      ]
     },
     "execution_count": 22,
     "metadata": {},
     "output_type": "execute_result"
    }
   ],
   "source": [
    "u = Variable('u')"
   ]
  },
  {
   "cell_type": "code",
   "execution_count": 23,
   "metadata": {},
   "outputs": [
    {
     "data": {
      "text/html": [
       "<strong id=\"v\">v:</strong> <a class=\"ProveItLink\" href=\"__pv_it/7def9b98d1c18bf85f7e07a591a31a95e4a6f4df0/expr.ipynb\"><img src=\"data:image/png;base64,iVBORw0KGgoAAAANSUhEUgAAAAoAAAAJBAMAAAD5iKAgAAAALVBMVEX///8yMjLMzMyqqqrc3NxU\n",
       "VFQQEBC6urp2dnaYmJgiIiJmZmaIiIju7u4AAADfVbIxAAAAAXRSTlMAQObYZgAAAD9JREFUCNdj\n",
       "4D19gGElAwd7AsNSBmfuBQwWDBfYDjAUMzDUXWA4wMDQxcDQwMAQysCswMDQyHCDgYGBtXMCAwB0\n",
       "dwyMonWAvgAAAABJRU5ErkJggg==\n",
       "\" style=\"display:inline;vertical-align:middle;\" /></a><br>"
      ],
      "text/plain": [
       "v: v"
      ]
     },
     "execution_count": 23,
     "metadata": {},
     "output_type": "execute_result"
    }
   ],
   "source": [
    "v = Variable('v')"
   ]
  },
  {
   "cell_type": "code",
   "execution_count": 24,
   "metadata": {},
   "outputs": [
    {
     "data": {
      "text/html": [
       "<strong id=\"w\">w:</strong> <a class=\"ProveItLink\" href=\"__pv_it/666bc7e5fa8b11ad9a1220ea7a0d8685c5ecafd40/expr.ipynb\"><img src=\"data:image/png;base64,iVBORw0KGgoAAAANSUhEUgAAAA8AAAAJBAMAAAAfoWtkAAAAMFBMVEX///8iIiLMzMyYmJjc3Ny6\n",
       "urpUVFRERER2dnYQEBAyMjKqqqpmZmaIiIju7u4AAACpWGz5AAAAAXRSTlMAQObYZgAAAFZJREFU\n",
       "CNdj4LtzgWEXw84HDBzcExjKGOIDGLx5FjB8ZmB3YHjAeYHpCwMPAwNDvAPvBAYOIOMUA3sCgyuQ\n",
       "UcbA2MBwAci4xRBZwBQAZPCcvZfbzMAAAGoyE994UJawAAAAAElFTkSuQmCC\n",
       "\" style=\"display:inline;vertical-align:middle;\" /></a><br>"
      ],
      "text/plain": [
       "w: w"
      ]
     },
     "execution_count": 24,
     "metadata": {},
     "output_type": "execute_result"
    }
   ],
   "source": [
    "w = Variable('w')"
   ]
  },
  {
   "cell_type": "code",
   "execution_count": 25,
   "metadata": {},
   "outputs": [
    {
     "data": {
      "text/html": [
       "<strong id=\"x\">x:</strong> <a class=\"ProveItLink\" href=\"__pv_it/72df168d2bfb4e0140af90912ebf83b13772060b0/expr.ipynb\"><img src=\"data:image/png;base64,iVBORw0KGgoAAAANSUhEUgAAAAsAAAAJBAMAAAAWSsseAAAALVBMVEX///9mZmaqqqrMzMxEREQy\n",
       "MjIiIiKYmJh2dna6urrc3NxUVFSIiIju7u4AAACJHQtQAAAAAXRSTlMAQObYZgAAAEJJREFUCNdj\n",
       "YLhzeuWJAwy8Dew5bAEMHBc43nIuYOBlYHFgAAG+A2DKzgBIMF04x8BzgWGegh/DcgaG22fuiBcw\n",
       "AAATyhBrnyPYZQAAAABJRU5ErkJggg==\n",
       "\" style=\"display:inline;vertical-align:middle;\" /></a><br>"
      ],
      "text/plain": [
       "x: x"
      ]
     },
     "execution_count": 25,
     "metadata": {},
     "output_type": "execute_result"
    }
   ],
   "source": [
    "x = Variable('x')"
   ]
  },
  {
   "cell_type": "code",
   "execution_count": 26,
   "metadata": {},
   "outputs": [
    {
     "data": {
      "text/html": [
       "<strong id=\"y\">y:</strong> <a class=\"ProveItLink\" href=\"__pv_it/c6e291955561f22a0e6708fd793ea93f1c7dbb5d0/expr.ipynb\"><img src=\"data:image/png;base64,iVBORw0KGgoAAAANSUhEUgAAAAsAAAANBAMAAACN24kIAAAAMFBMVEX///8iIiKYmJhUVFTMzMxE\n",
       "REQyMjKqqqq6urp2dnYQEBDc3NxmZmaIiIju7u4AAACH5sGpAAAAAXRSTlMAQObYZgAAAFlJREFU\n",
       "CNdj4LtzgWHXAwZOjgUM9xkYtvMkMIQyMDzgusDwl4GBof8ByxcgdYyBdwGQCmZgNQBShxn6FYDU\n",
       "47vnNzAwgGUZGJgT+H4AKUYF1gtAiuPuESAJAJGkFvXVdzA+AAAAAElFTkSuQmCC\n",
       "\" style=\"display:inline;vertical-align:middle;\" /></a><br>"
      ],
      "text/plain": [
       "y: y"
      ]
     },
     "execution_count": 26,
     "metadata": {},
     "output_type": "execute_result"
    }
   ],
   "source": [
    "y = Variable('y')"
   ]
  },
  {
   "cell_type": "code",
   "execution_count": 27,
   "metadata": {},
   "outputs": [
    {
     "data": {
      "text/html": [
       "<strong id=\"z\">z:</strong> <a class=\"ProveItLink\" href=\"__pv_it/0d889e00aed425c3081fbda3ac9194ae911895960/expr.ipynb\"><img src=\"data:image/png;base64,iVBORw0KGgoAAAANSUhEUgAAAAoAAAAJBAMAAAD5iKAgAAAAMFBMVEX///8yMjJ2dnaqqqpUVFTc\n",
       "3NxmZmaIiIhERETu7u6YmJjMzMwQEBAiIiK6uroAAABWQA0ZAAAAAXRSTlMAQObYZgAAADZJREFU\n",
       "CNdjYOC782AXA8OM5WkNDAwTGCIYgIC7E0Q+ARHMDiDSjIHBgYH7llbhAwY2hjVyDABOxArzLvBK\n",
       "ugAAAABJRU5ErkJggg==\n",
       "\" style=\"display:inline;vertical-align:middle;\" /></a><br>"
      ],
      "text/plain": [
       "z: z"
      ]
     },
     "execution_count": 27,
     "metadata": {},
     "output_type": "execute_result"
    }
   ],
   "source": [
    "z = Variable('z')"
   ]
  },
  {
   "cell_type": "code",
   "execution_count": 28,
   "metadata": {},
   "outputs": [
    {
     "data": {
      "text/html": [
       "<strong id=\"A\">A:</strong> <a class=\"ProveItLink\" href=\"__pv_it/d3792d0d8642fdf1cd2a3a9b32c673ee13653de00/expr.ipynb\"><img src=\"data:image/png;base64,iVBORw0KGgoAAAANSUhEUgAAAA8AAAAOBAMAAAACpFvcAAAALVBMVEX///8iIiIQEBBERERUVFS6\n",
       "urqIiIjc3NxmZmaqqqru7u6YmJgyMjLMzMwAAACK9jtgAAAAAXRSTlMAQObYZgAAAFtJREFUCNdj\n",
       "YACBOwxQcA5Kc59bAGGs7CuAMDbkBYBp1gXzNoAZSxnuJYAZAQx1DSCa16PDzwCshIGB6QCIMYGB\n",
       "gVEBSLMDGTwPgIxCIGZ+zsCw+N0pBk67hw0AfpEVEQi8t+wAAAAASUVORK5CYII=\n",
       "\" style=\"display:inline;vertical-align:middle;\" /></a><br>"
      ],
      "text/plain": [
       "A: A"
      ]
     },
     "execution_count": 28,
     "metadata": {},
     "output_type": "execute_result"
    }
   ],
   "source": [
    "A = Variable('A')"
   ]
  },
  {
   "cell_type": "code",
   "execution_count": 29,
   "metadata": {},
   "outputs": [
    {
     "data": {
      "text/html": [
       "<strong id=\"B\">B:</strong> <a class=\"ProveItLink\" href=\"__pv_it/4d98b438710c5ada9ffa4646bb123a7d0e69ec000/expr.ipynb\"><img src=\"data:image/png;base64,iVBORw0KGgoAAAANSUhEUgAAABAAAAAOBAMAAADUAYG5AAAALVBMVEX///8yMjKqqqoiIiLu7u7c\n",
       "3NyIiIjMzMwQEBC6urpERERmZmZUVFSYmJgAAACsPVCVAAAAAXRSTlMAQObYZgAAAGxJREFUCNdj\n",
       "YGC48+70nlUTGICgi4GB+zmQZn/LwMD5Gshge8rAwPsMyOBqYGDwMAEy+A4wsNs4ABl1Z68tVgBp\n",
       "ygtgYOkBMVaAOCChNyBGAsQYhnMTIMawvwJyGIHGzFjCwMAj92b3qUUMDAAXABxvZ4rl5AAAAABJ\n",
       "RU5ErkJggg==\n",
       "\" style=\"display:inline;vertical-align:middle;\" /></a><br>"
      ],
      "text/plain": [
       "B: B"
      ]
     },
     "execution_count": 29,
     "metadata": {},
     "output_type": "execute_result"
    }
   ],
   "source": [
    "B = Variable('B')"
   ]
  },
  {
   "cell_type": "code",
   "execution_count": 30,
   "metadata": {},
   "outputs": [
    {
     "data": {
      "text/html": [
       "<strong id=\"C\">C:</strong> <a class=\"ProveItLink\" href=\"__pv_it/dcb5a3e430485237dfe486162b026a4affb149300/expr.ipynb\"><img src=\"data:image/png;base64,iVBORw0KGgoAAAANSUhEUgAAAA8AAAAOBAMAAAACpFvcAAAAMFBMVEX////MzMy6uroyMjIiIiKq\n",
       "qqoQEBB2dnbc3NyYmJhmZmZUVFRERESIiIju7u4AAACOKgoaAAAAAXRSTlMAQObYZgAAAGRJREFU\n",
       "CNdjYGDgu7NrJ0cBAwPDtQkMrMsmMDC88QNy1jcwMJg9ADLUGBi4vgJpBikGhn4HEOMFA0P9BQYI\n",
       "8BeAMvJBahmAhD+IZhWAmMDADsT9IMV1INGfDAxRYHWvTu9SAFIARRcYB3lKsPwAAAAASUVORK5C\n",
       "YII=\n",
       "\" style=\"display:inline;vertical-align:middle;\" /></a><br>"
      ],
      "text/plain": [
       "C: C"
      ]
     },
     "execution_count": 30,
     "metadata": {},
     "output_type": "execute_result"
    }
   ],
   "source": [
    "C = Variable('C')"
   ]
  },
  {
   "cell_type": "code",
   "execution_count": 31,
   "metadata": {},
   "outputs": [
    {
     "data": {
      "text/html": [
       "<strong id=\"D\">D:</strong> <a class=\"ProveItLink\" href=\"__pv_it/8f4534f2d0cd8231a9b8a1771e8be76aa52adea40/expr.ipynb\"><img src=\"data:image/png;base64,iVBORw0KGgoAAAANSUhEUgAAABEAAAAOBAMAAAA7w+qHAAAAMFBMVEX///8iIiLu7u52dna6uroQ\n",
       "EBBmZmaIiIjMzMyqqqoyMjLc3NxERERUVFSYmJgAAAAdjRNVAAAAAXRSTlMAQObYZgAAAGlJREFU\n",
       "CNdjYGB4+//snbMbGEDgFwMD308Qg+M7kEgFsdh/AAn/B0CC5wOQ2G8AJPgPgMQuAIn+AiBRDxKr\n",
       "bwAS9x2AxHmQtq8g4g8Q8/2DGad6AGoc0yqQJBfQOMcEIIN3/d/cO9lABgDT4B6ufsfOGgAAAABJ\n",
       "RU5ErkJggg==\n",
       "\" style=\"display:inline;vertical-align:middle;\" /></a><br>"
      ],
      "text/plain": [
       "D: D"
      ]
     },
     "execution_count": 31,
     "metadata": {},
     "output_type": "execute_result"
    }
   ],
   "source": [
    "D = Variable('D')"
   ]
  },
  {
   "cell_type": "code",
   "execution_count": 32,
   "metadata": {},
   "outputs": [
    {
     "data": {
      "text/html": [
       "<strong id=\"E\">E:</strong> <a class=\"ProveItLink\" href=\"__pv_it/e34ca70b41810f8902f1a81ee7caace8a42959280/expr.ipynb\"><img src=\"data:image/png;base64,iVBORw0KGgoAAAANSUhEUgAAABAAAAAOBAMAAADUAYG5AAAALVBMVEX///8QEBDc3NzMzMx2dnbu\n",
       "7u66urqYmJgyMjIiIiJUVFRmZmZERESIiIgAAACJIPtQAAAAAXRSTlMAQObYZgAAAGZJREFUCNdj\n",
       "YGC48+70rpUvGIAARNQAMdtbIBENxCyPgUQsEHM8YGBhYAIy+A4wlIOUMuR1L3wEZvgZMDSAGX0M\n",
       "DA4MBkDGGwaGANYLUGNYAqDGWAEx5wOgqDADQ1Tfq91r5jUwAABgCxlUc9vB0AAAAABJRU5ErkJg\n",
       "gg==\n",
       "\" style=\"display:inline;vertical-align:middle;\" /></a><br>"
      ],
      "text/plain": [
       "E: E"
      ]
     },
     "execution_count": 32,
     "metadata": {},
     "output_type": "execute_result"
    }
   ],
   "source": [
    "E = Variable('E')"
   ]
  },
  {
   "cell_type": "code",
   "execution_count": 33,
   "metadata": {},
   "outputs": [
    {
     "data": {
      "text/html": [
       "<strong id=\"F\">F:</strong> <a class=\"ProveItLink\" href=\"__pv_it/d427e523a1d2f65db15d2c4d6679763b203b36000/expr.ipynb\"><img src=\"data:image/png;base64,iVBORw0KGgoAAAANSUhEUgAAABAAAAAOBAMAAADUAYG5AAAAMFBMVEX///8iIiLc3Nzu7u6qqqq6\n",
       "urp2dnbMzMyYmJgyMjIQEBBUVFRmZmZERESIiIgAAABzTYE0AAAAAXRSTlMAQObYZgAAAF9JREFU\n",
       "CNdjYGB4+//O6Vv/GIDgJxDfAGL2b0CiFYj5vgIJdyDm/MzAxOAMZPALMGiAlDLEH2DYBGbkz9m1\n",
       "AMyYb8C8Acz4yMDsAKJZvzFAANtXKIPxA4S2mf/7EIgGAMRQF/yUMTKIAAAAAElFTkSuQmCC\n",
       "\" style=\"display:inline;vertical-align:middle;\" /></a><br>"
      ],
      "text/plain": [
       "F: F"
      ]
     },
     "execution_count": 33,
     "metadata": {},
     "output_type": "execute_result"
    }
   ],
   "source": [
    "F = Variable('F')"
   ]
  },
  {
   "cell_type": "code",
   "execution_count": 34,
   "metadata": {},
   "outputs": [
    {
     "data": {
      "text/html": [
       "<strong id=\"G\">G:</strong> <a class=\"ProveItLink\" href=\"__pv_it/b28596d9c0424f3928011716c281ce7c8491efb50/expr.ipynb\"><img src=\"data:image/png;base64,iVBORw0KGgoAAAANSUhEUgAAAA8AAAAOBAMAAAACpFvcAAAAMFBMVEX////MzMyqqqoyMjIiIiK6\n",
       "uroQEBB2dnbc3NyYmJhmZmZUVFRERESIiIju7u4AAAAZ5rjZAAAAAXRSTlMAQObYZgAAAGpJREFU\n",
       "CNdjYGDgu7NrJUcBAwPDtQkMrMsmMDC88QNy1jcwMJg9ADJCGBi4PgFpBikGhn4HEOMFA0P9BQYI\n",
       "8BeAMvKBeJbxcaAIiFcfADGBwR6I+4GGM34GMpj+MjBIu4PkX51ePkGVgQEAXH0YqRfJ3ysAAAAA\n",
       "SUVORK5CYII=\n",
       "\" style=\"display:inline;vertical-align:middle;\" /></a><br>"
      ],
      "text/plain": [
       "G: G"
      ]
     },
     "execution_count": 34,
     "metadata": {},
     "output_type": "execute_result"
    }
   ],
   "source": [
    "G = Variable('G')"
   ]
  },
  {
   "cell_type": "code",
   "execution_count": 35,
   "metadata": {},
   "outputs": [
    {
     "data": {
      "text/html": [
       "<strong id=\"H\">H:</strong> <a class=\"ProveItLink\" href=\"__pv_it/90dd89ccd80bf49396519291652cb152091c59e90/expr.ipynb\"><img src=\"data:image/png;base64,iVBORw0KGgoAAAANSUhEUgAAABMAAAAOBAMAAAA/Njq6AAAAKlBMVEX///+qqqp2dnbMzMyIiIi6\n",
       "uroiIiLu7u4yMjJmZmZERERUVFSYmJgAAADrizvbAAAAAXRSTlMAQObYZgAAAGlJREFUCNdjYGA4\n",
       "fXclEHcWMADBDSC+BmIwsF5hYGC+CWYyXWZgYLkIZnJcYGDgug5m8i4A4gQwM7Zz5sy1CmCmrgED\n",
       "g28AmNkLxGvBpjLcghoNNfYSwtirYCYb3NjK3tsOnGtvOTAwAAAHtx0ScfZJBgAAAABJRU5ErkJg\n",
       "gg==\n",
       "\" style=\"display:inline;vertical-align:middle;\" /></a><br>"
      ],
      "text/plain": [
       "H: H"
      ]
     },
     "execution_count": 35,
     "metadata": {},
     "output_type": "execute_result"
    }
   ],
   "source": [
    "H = Variable('H')"
   ]
  },
  {
   "cell_type": "code",
   "execution_count": 36,
   "metadata": {},
   "outputs": [
    {
     "data": {
      "text/html": [
       "<strong id=\"I\">I:</strong> <a class=\"ProveItLink\" href=\"__pv_it/4f8f0280e7c3df04ebf74ae2485775c1e6a3c6790/expr.ipynb\"><img src=\"data:image/png;base64,iVBORw0KGgoAAAANSUhEUgAAAAsAAAAOBAMAAAALT/umAAAAJ1BMVEX////u7u4iIiLMzMxERER2\n",
       "dna6urrc3NxmZmYyMjJUVFSIiIgAAAD6sHTBAAAAAXRSTlMAQObYZgAAAEJJREFUCNdjYGDYdWZG\n",
       "AQMQnAQRDGxHwRTrMTDFeQBM8TiAqZwNYCrGAEzNAZMMRyDaTkO0HQZTTGBtUnNOBTAwAACo8g02\n",
       "4uJcHQAAAABJRU5ErkJggg==\n",
       "\" style=\"display:inline;vertical-align:middle;\" /></a><br>"
      ],
      "text/plain": [
       "I: I"
      ]
     },
     "execution_count": 36,
     "metadata": {},
     "output_type": "execute_result"
    }
   ],
   "source": [
    "I = Variable('I')"
   ]
  },
  {
   "cell_type": "code",
   "execution_count": 37,
   "metadata": {},
   "outputs": [
    {
     "data": {
      "text/html": [
       "<strong id=\"J\">J:</strong> <a class=\"ProveItLink\" href=\"__pv_it/cee9cab6a4478841aae82d0b4a3f7e59e7f4d54c0/expr.ipynb\"><img src=\"data:image/png;base64,iVBORw0KGgoAAAANSUhEUgAAAA0AAAAOBAMAAAAGUYvhAAAALVBMVEX///+IiIiqqqru7u7c3NyY\n",
       "mJi6urpUVFQQEBAyMjLMzMwiIiJmZmZ2dnYAAABVuDDQAAAAAXRSTlMAQObYZgAAAEZJREFUCNdj\n",
       "YGBguLNvDwMY3FsAoWdAKIbnEIrtKYTmfQKhuRsgtF0BhNZTgNDnDICE9wWG3SCOnABEmyqDNVgZ\n",
       "o2ARiAIAX+8N+NMuBscAAAAASUVORK5CYII=\n",
       "\" style=\"display:inline;vertical-align:middle;\" /></a><br>"
      ],
      "text/plain": [
       "J: J"
      ]
     },
     "execution_count": 37,
     "metadata": {},
     "output_type": "execute_result"
    }
   ],
   "source": [
    "J = Variable('J')"
   ]
  },
  {
   "cell_type": "code",
   "execution_count": 38,
   "metadata": {},
   "outputs": [
    {
     "data": {
      "text/html": [
       "<strong id=\"K\">K:</strong> <a class=\"ProveItLink\" href=\"__pv_it/142afa0b5332296fbf9e170569a9a86f078cb7730/expr.ipynb\"><img src=\"data:image/png;base64,iVBORw0KGgoAAAANSUhEUgAAABMAAAAOBAMAAAA/Njq6AAAALVBMVEX///8iIiJmZmbu7u6YmJh2\n",
       "dna6urrc3NxERESqqqrMzMwyMjJUVFSIiIgAAAAVNIO7AAAAAXRSTlMAQObYZgAAAHRJREFUCNdj\n",
       "YGC4824PA8O51wsYgOA1EM8oALHYnjIwsEwAsRhYnzEwh4NZDNwPGJZCWAx8G1gUoMy8gHsCUGbc\n",
       "XaaXUOY+B/bXUOYLBoY+sPkMbG+Byg9AjH3FwMD4GMxkfMDAwPsUxDLa9+YCw8V37QwMAO47Hpqy\n",
       "Q2VnAAAAAElFTkSuQmCC\n",
       "\" style=\"display:inline;vertical-align:middle;\" /></a><br>"
      ],
      "text/plain": [
       "K: K"
      ]
     },
     "execution_count": 38,
     "metadata": {},
     "output_type": "execute_result"
    }
   ],
   "source": [
    "K = Variable('K')"
   ]
  },
  {
   "cell_type": "code",
   "execution_count": 39,
   "metadata": {},
   "outputs": [
    {
     "data": {
      "text/html": [
       "<strong id=\"L\">L:</strong> <a class=\"ProveItLink\" href=\"__pv_it/b205167106af56d85afab95b87c8b45cfa03fb480/expr.ipynb\"><img src=\"data:image/png;base64,iVBORw0KGgoAAAANSUhEUgAAAA4AAAAOBAMAAADtZjDiAAAALVBMVEX///8iIiLMzMxmZmaIiIjc\n",
       "3NxERETu7u52dna6urqqqqoyMjJUVFSYmJgAAAAUZzKCAAAAAXRSTlMAQObYZgAAAFFJREFUCNdj\n",
       "YGC4827PAgYQeA0mGThfQGiOlxCa+wGE5tsAoec1QOi+CRB6HxCzA/EzIL4K1P4ESBsAtT9iYGC5\n",
       "wMDACNTeV8BQs++Nzb43DAASPhUf1IyvJAAAAABJRU5ErkJggg==\n",
       "\" style=\"display:inline;vertical-align:middle;\" /></a><br>"
      ],
      "text/plain": [
       "L: L"
      ]
     },
     "execution_count": 39,
     "metadata": {},
     "output_type": "execute_result"
    }
   ],
   "source": [
    "L = Variable('L')"
   ]
  },
  {
   "cell_type": "code",
   "execution_count": 40,
   "metadata": {},
   "outputs": [
    {
     "data": {
      "text/html": [
       "<strong id=\"M\">M:</strong> <a class=\"ProveItLink\" href=\"__pv_it/3bccede6c06e61042cdecddb87ae8e63432e37990/expr.ipynb\"><img src=\"data:image/png;base64,iVBORw0KGgoAAAANSUhEUgAAABYAAAAOBAMAAADZH/H+AAAALVBMVEX////u7u4yMjIiIiLc3Ny6\n",
       "urrMzMxmZmZEREQQEBCIiIiqqqpUVFSYmJgAAADIl/xvAAAAAXRSTlMAQObYZgAAAItJREFUCNdj\n",
       "YGC4824DAwMD18tuIMlQtwBI5DwFMVkuHwCSdx6A2LweCkBCsgHEZmefwMDg6rcAzOYCSi+4lwBi\n",
       "+3I/Y+AWOAdiMlxhec0gzTADzC5geMWwgOUVlD2d24H3Gdj4Cwwasgw8E8DGOzBULmDgBBvPzMCw\n",
       "LoEhD2Q8zzwrhiiGHfNsBBgAlsQh49TzgBYAAAAASUVORK5CYII=\n",
       "\" style=\"display:inline;vertical-align:middle;\" /></a><br>"
      ],
      "text/plain": [
       "M: M"
      ]
     },
     "execution_count": 40,
     "metadata": {},
     "output_type": "execute_result"
    }
   ],
   "source": [
    "M = Variable('M')"
   ]
  },
  {
   "cell_type": "code",
   "execution_count": 41,
   "metadata": {},
   "outputs": [
    {
     "data": {
      "text/html": [
       "<strong id=\"N\">N:</strong> <a class=\"ProveItLink\" href=\"__pv_it/7367403b9d2c7afd9c31b300df82e3c2dac44e280/expr.ipynb\"><img src=\"data:image/png;base64,iVBORw0KGgoAAAANSUhEUgAAABMAAAAOBAMAAAA/Njq6AAAALVBMVEX///+YmJhmZmZ2dnbc3Nwy\n",
       "MjLu7u5UVFQQEBAiIiKqqqq6urpERESIiIgAAADG9Xw4AAAAAXRSTlMAQObYZgAAAHNJREFUCNdj\n",
       "YGC4824DA9e89gQGIDh3gIGBFcziXvOEgYEZxGJgzn7EwLALzGRimMfAYAZlygkwKICZuxj4JjAY\n",
       "gJlmDMyvuTeAmQoMLG8gBoDkzjmBWdwLGBj2KUOMBdrD+RrM5ARixgcgVk7fRCBZAMQAkJ4WTb1L\n",
       "1fsAAAAASUVORK5CYII=\n",
       "\" style=\"display:inline;vertical-align:middle;\" /></a><br>"
      ],
      "text/plain": [
       "N: N"
      ]
     },
     "execution_count": 41,
     "metadata": {},
     "output_type": "execute_result"
    }
   ],
   "source": [
    "N = Variable('N')"
   ]
  },
  {
   "cell_type": "code",
   "execution_count": 42,
   "metadata": {},
   "outputs": [
    {
     "data": {
      "text/html": [
       "<strong id=\"O\">O:</strong> <a class=\"ProveItLink\" href=\"__pv_it/2db4b910d69231f106786bf6573055f3060827ac0/expr.ipynb\"><img src=\"data:image/png;base64,iVBORw0KGgoAAAANSUhEUgAAAA8AAAAOBAMAAAACpFvcAAAALVBMVEX////c3Ny6uroiIiIQEBBE\n",
       "RERUVFTMzMwyMjKYmJh2dnZmZmaIiIju7u4AAABNC8GLAAAAAXRSTlMAQObYZgAAAGdJREFUCNdj\n",
       "YGDgPb1qJwMIrChgYGsA0jcCgIQ3EDeDRPMYGLgegRjrChjkQNIM+xQY1k0AMfoEGOwKgDTvEwaG\n",
       "dxeADJ5XDAx2IJkrDkCNIJE8oHzdBKgRPO4MvBECIPmyXbsVgBQA+NQYLsIFKoAAAAAASUVORK5C\n",
       "YII=\n",
       "\" style=\"display:inline;vertical-align:middle;\" /></a><br>"
      ],
      "text/plain": [
       "O: O"
      ]
     },
     "execution_count": 42,
     "metadata": {},
     "output_type": "execute_result"
    }
   ],
   "source": [
    "O = Variable('O')"
   ]
  },
  {
   "cell_type": "code",
   "execution_count": 43,
   "metadata": {},
   "outputs": [
    {
     "data": {
      "text/html": [
       "<strong id=\"P\">P:</strong> <a class=\"ProveItLink\" href=\"__pv_it/390c91a44e60b16c95d2255652741252e8ec8d980/expr.ipynb\"><img src=\"data:image/png;base64,iVBORw0KGgoAAAANSUhEUgAAABAAAAAOBAMAAADUAYG5AAAAMFBMVEX///8iIiLc3Ny6urqIiIiq\n",
       "qqp2dnbMzMwQEBDu7u5mZmYyMjJERERUVFSYmJgAAAA4CJ/KAAAAAXRSTlMAQObYZgAAAF5JREFU\n",
       "CNdjYGB4+//s3V0TGIDgNwMDTyeQZv/GwMD6Bchg+QzEQA4DzwcGBl4gh4F/AwOD/gIgoz6BgVUM\n",
       "pMn/WtoSsO7zYBIIPkJp9l9QBsgYMOD+CaG59v91ANEANtEY7WfmSIAAAAAASUVORK5CYII=\n",
       "\" style=\"display:inline;vertical-align:middle;\" /></a><br>"
      ],
      "text/plain": [
       "P: P"
      ]
     },
     "execution_count": 43,
     "metadata": {},
     "output_type": "execute_result"
    }
   ],
   "source": [
    "P = Variable('P')"
   ]
  },
  {
   "cell_type": "code",
   "execution_count": 44,
   "metadata": {},
   "outputs": [
    {
     "data": {
      "text/html": [
       "<strong id=\"Q\">Q:</strong> <a class=\"ProveItLink\" href=\"__pv_it/dbe7145e53d9411a5ba89652cbfea9d54e4b581a0/expr.ipynb\"><img src=\"data:image/png;base64,iVBORw0KGgoAAAANSUhEUgAAAA8AAAASBAMAAAB2sJk8AAAAMFBMVEX///+qqqq6urrc3NwQEBAy\n",
       "MjJERERUVFTMzMwiIiKYmJh2dnZmZmaIiIju7u4AAABsX1SbAAAAAXRSTlMAQObYZgAAAINJREFU\n",
       "CNdjYGDgu7P7FAMI7GxgYE8A0k8DgILeQEbIAyBRz8DA/Qskvd+AwX4CiHFegWH/BRAjv4FhfgOI\n",
       "8R+IQGoZvzMwTAEJcP5jYCgBMe4DFfY/eHuD4w+Qw3thAff6DSDhvuqbyQxgrQzsDVwGYAbbATUw\n",
       "zcDz/weEwTFFgIEBAOxlJHQBUmidAAAAAElFTkSuQmCC\n",
       "\" style=\"display:inline;vertical-align:middle;\" /></a><br>"
      ],
      "text/plain": [
       "Q: Q"
      ]
     },
     "execution_count": 44,
     "metadata": {},
     "output_type": "execute_result"
    }
   ],
   "source": [
    "Q = Variable('Q')"
   ]
  },
  {
   "cell_type": "code",
   "execution_count": 45,
   "metadata": {},
   "outputs": [
    {
     "data": {
      "text/html": [
       "<strong id=\"R\">R:</strong> <a class=\"ProveItLink\" href=\"__pv_it/0a2bba13f1df910578e611e3c0100cd5999bfe270/expr.ipynb\"><img src=\"data:image/png;base64,iVBORw0KGgoAAAANSUhEUgAAABAAAAAOBAMAAADUAYG5AAAALVBMVEX///92dnYyMjLu7u5mZmaq\n",
       "qqoiIiKIiIjMzMwQEBDc3NxERERUVFSYmJgAAAAJZmtIAAAAAXRSTlMAQObYZgAAAHBJREFUCNdj\n",
       "YGC48+7M7r0MIPCagWHlASDN8ZyBgecFkMH+ioGBDYgZuCcwMMRtADL4DjCwzgGp7Ttb86QBxKgz\n",
       "YLhkAGLsBMoKgBhvGBjWgY15C9TkADIGaJZcATMDA9MDoEjBUgYWvTcXGBi3FwAAlNod2eFupKcA\n",
       "AAAASUVORK5CYII=\n",
       "\" style=\"display:inline;vertical-align:middle;\" /></a><br>"
      ],
      "text/plain": [
       "R: R"
      ]
     },
     "execution_count": 45,
     "metadata": {},
     "output_type": "execute_result"
    }
   ],
   "source": [
    "R = Variable('R')"
   ]
  },
  {
   "cell_type": "code",
   "execution_count": 46,
   "metadata": {},
   "outputs": [
    {
     "data": {
      "text/html": [
       "<strong id=\"S\">S:</strong> <a class=\"ProveItLink\" href=\"__pv_it/f7e31792649ed3cb09061ae8e85d975fd4cc9fa60/expr.ipynb\"><img src=\"data:image/png;base64,iVBORw0KGgoAAAANSUhEUgAAAA0AAAAOBAMAAAAGUYvhAAAAMFBMVEX///8iIiIQEBDc3NxUVFSI\n",
       "iIjMzMwyMjLu7u5ERES6urqYmJh2dnZmZmaqqqoAAABUl3CJAAAAAXRSTlMAQObYZgAAAGBJREFU\n",
       "CNdjYGDgu3OGewEDA8NsBo75QIr3AgPDdiDdn8DAsBRIr9/AwJAG4v8BCgAB6///zmBGt9OnBjCD\n",
       "4f4DBgYekBIg3QKk84Hij4D0HSC+eIGBxwFIX1hyxQ9IAQCO0xnvXiMbcgAAAABJRU5ErkJggg==\n",
       "\" style=\"display:inline;vertical-align:middle;\" /></a><br>"
      ],
      "text/plain": [
       "S: S"
      ]
     },
     "execution_count": 46,
     "metadata": {},
     "output_type": "execute_result"
    }
   ],
   "source": [
    "S = Variable('S')"
   ]
  },
  {
   "cell_type": "code",
   "execution_count": 47,
   "metadata": {},
   "outputs": [
    {
     "data": {
      "text/html": [
       "<strong id=\"T\">T:</strong> <a class=\"ProveItLink\" href=\"__pv_it/c4e4713c9604a51595a94cb6c57519d5fa5810b10/expr.ipynb\"><img src=\"data:image/png;base64,iVBORw0KGgoAAAANSUhEUgAAAA8AAAAOBAMAAAACpFvcAAAAMFBMVEX////u7u6IiIiqqqrMzMy6\n",
       "urqYmJhmZmYiIiJ2dnYyMjJUVFREREQQEBDc3NwAAACx20pmAAAAAXRSTlMAQObYZgAAAFxJREFU\n",
       "CNdj4Pt7ev+f3esnMHBOYOBtYGBPYOBmYHhfwMAWwODGwJBvwMAkwODAwLBfgIGVAQRuMEAA33co\n",
       "g+0zlMH9EcoAGgMBQGMgAGgMBJwXAFOcu/6vVgDSABzFFK1+91puAAAAAElFTkSuQmCC\n",
       "\" style=\"display:inline;vertical-align:middle;\" /></a><br>"
      ],
      "text/plain": [
       "T: T"
      ]
     },
     "execution_count": 47,
     "metadata": {},
     "output_type": "execute_result"
    }
   ],
   "source": [
    "T = Variable('T')"
   ]
  },
  {
   "cell_type": "code",
   "execution_count": 48,
   "metadata": {},
   "outputs": [
    {
     "data": {
      "text/html": [
       "<strong id=\"U\">U:</strong> <a class=\"ProveItLink\" href=\"__pv_it/79254f1c2ce2612a5ff0270e111e5016b767a8210/expr.ipynb\"><img src=\"data:image/png;base64,iVBORw0KGgoAAAANSUhEUgAAAA8AAAAOBAMAAAACpFvcAAAAMFBMVEX///+YmJjMzMzu7u5mZma6\n",
       "urp2dnaIiIgyMjKqqqpEREQQEBAiIiJUVFTc3NwAAACfk0VHAAAAAXRSTlMAQObYZgAAAGJJREFU\n",
       "CNdjeHt+1wSG9T8KGBjyAxgY2IE0Qz8QsxgAiV9AzAvErN+BhBkQs30CEqJAzLMBSDgAsf0FIAHC\n",
       "8wUYGPhAuvMVgOoegBhQ3QzzgWbdAzE4HBjeKoAYDFlXQEoZAObmFQYiC7jRAAAAAElFTkSuQmCC\n",
       "\" style=\"display:inline;vertical-align:middle;\" /></a><br>"
      ],
      "text/plain": [
       "U: U"
      ]
     },
     "execution_count": 48,
     "metadata": {},
     "output_type": "execute_result"
    }
   ],
   "source": [
    "U = Variable('U')"
   ]
  },
  {
   "cell_type": "code",
   "execution_count": 49,
   "metadata": {},
   "outputs": [
    {
     "data": {
      "text/html": [
       "<strong id=\"V\">V:</strong> <a class=\"ProveItLink\" href=\"__pv_it/7daa79b522e8ff950e6fadb9d0c76502df3df88b0/expr.ipynb\"><img src=\"data:image/png;base64,iVBORw0KGgoAAAANSUhEUgAAAA8AAAAOBAMAAAACpFvcAAAAMFBMVEX///+YmJi6urp2dnbc3NxU\n",
       "VFTu7u5mZmYQEBAiIiLMzMyqqqpEREQyMjKIiIgAAADzFoEbAAAAAXRSTlMAQObYZgAAAFhJREFU\n",
       "CNdjePv/NAPDyh8FDGx/GRgYuAOARAcQswIxw30gfgVixDswsBiAGPYKEBkG+QcQGYb1BRAZhvwD\n",
       "EBkG/glCEAbnN4gMA8+fBAiD/ROEZmAMAFMAsqgStvOMS9EAAAAASUVORK5CYII=\n",
       "\" style=\"display:inline;vertical-align:middle;\" /></a><br>"
      ],
      "text/plain": [
       "V: V"
      ]
     },
     "execution_count": 49,
     "metadata": {},
     "output_type": "execute_result"
    }
   ],
   "source": [
    "V = Variable('V')"
   ]
  },
  {
   "cell_type": "code",
   "execution_count": 50,
   "metadata": {},
   "outputs": [
    {
     "data": {
      "text/html": [
       "<strong id=\"W\">W:</strong> <a class=\"ProveItLink\" href=\"__pv_it/e7ed859a4c66ce6df0e84c45b6c4a72d96921b520/expr.ipynb\"><img src=\"data:image/png;base64,iVBORw0KGgoAAAANSUhEUgAAABUAAAAOBAMAAAAyKEr9AAAAMFBMVEX///8yMjJmZmbc3NzMzMx2\n",
       "dnaYmJiqqqru7u4QEBBUVFS6urpEREQiIiKIiIgAAAD7KGr9AAAAAXRSTlMAQObYZgAAAIZJREFU\n",
       "CNdjePv/NMPKvysYav8mMHB/ZWBg/c3AwLKAgYH5E4TNysDAwPGLgYHxGwPDbiCb4SMDw7N/DAwB\n",
       "IPZcBuaSrwx8BiD2TQZWoJ4+EJNBnqGE4w9ECcP5hgcMH7k3gNn6dkA9rGAmQ3w6UE8yhP3+AFDP\n",
       "Awg7H2jaWgiTYSsQR4NZACZqI9z/dB1UAAAAAElFTkSuQmCC\n",
       "\" style=\"display:inline;vertical-align:middle;\" /></a><br>"
      ],
      "text/plain": [
       "W: W"
      ]
     },
     "execution_count": 50,
     "metadata": {},
     "output_type": "execute_result"
    }
   ],
   "source": [
    "W = Variable('W')"
   ]
  },
  {
   "cell_type": "code",
   "execution_count": 51,
   "metadata": {},
   "outputs": [
    {
     "data": {
      "text/html": [
       "<strong id=\"X\">X:</strong> <a class=\"ProveItLink\" href=\"__pv_it/bfd45009d58edcd8fe85cb821cb0ca916b0008150/expr.ipynb\"><img src=\"data:image/png;base64,iVBORw0KGgoAAAANSUhEUgAAABIAAAAOBAMAAADQ9FGEAAAAMFBMVEX///+6urpmZmaIiIh2dnYQ\n",
       "EBDc3NzMzMxUVFSqqqoyMjLu7u4iIiJERESYmJgAAADufbLkAAAAAXRSTlMAQObYZgAAAGJJREFU\n",
       "CNdjYGB4+/8cw67/NxmAoH8CA183iMFQv4ChAsxg4PrO1gBhcf7IYICC+Nswlr8BjNUfAGUwZfyE\n",
       "stTZ/0IYLAIM5xPALEMGhvcKIAYHkOT/DWRU/Q9nYF//p4EBACq0GGkYmwpjAAAAAElFTkSuQmCC\n",
       "\" style=\"display:inline;vertical-align:middle;\" /></a><br>"
      ],
      "text/plain": [
       "X: X"
      ]
     },
     "execution_count": 51,
     "metadata": {},
     "output_type": "execute_result"
    }
   ],
   "source": [
    "X = Variable('X')"
   ]
  },
  {
   "cell_type": "code",
   "execution_count": 52,
   "metadata": {},
   "outputs": [
    {
     "data": {
      "text/html": [
       "<strong id=\"Y\">Y:</strong> <a class=\"ProveItLink\" href=\"__pv_it/6b849787cae76a40795b36d1f91c7cf65c3d0be10/expr.ipynb\"><img src=\"data:image/png;base64,iVBORw0KGgoAAAANSUhEUgAAABAAAAAOBAMAAADUAYG5AAAAMFBMVEX///9mZmZERESYmJi6urp2\n",
       "dnYiIiIyMjLMzMyIiIiqqqrc3NwQEBBUVFTu7u4AAAAPaGnEAAAAAXRSTlMAQObYZgAAAFlJREFU\n",
       "CNdjeHv+7wYGrvMnGRj6CxgYGKqAmO03AwOrA5DB+ZWBwQpIM/D9YWCZAGIw6Du0gmmG9fcEIAye\n",
       "vxCagekflMFTAGXsD4Ay7B2gDH0off2/JogCAAqGE3PgySqdAAAAAElFTkSuQmCC\n",
       "\" style=\"display:inline;vertical-align:middle;\" /></a><br>"
      ],
      "text/plain": [
       "Y: Y"
      ]
     },
     "execution_count": 52,
     "metadata": {},
     "output_type": "execute_result"
    }
   ],
   "source": [
    "Y = Variable('Y')"
   ]
  },
  {
   "cell_type": "code",
   "execution_count": 53,
   "metadata": {},
   "outputs": [
    {
     "data": {
      "text/html": [
       "<strong id=\"Z\">Z:</strong> <a class=\"ProveItLink\" href=\"__pv_it/8bfc64c1bb229780b911630c477b7ae86001a15b0/expr.ipynb\"><img src=\"data:image/png;base64,iVBORw0KGgoAAAANSUhEUgAAAA4AAAAOBAMAAADtZjDiAAAAMFBMVEX///+IiIiYmJh2dnbMzMzc\n",
       "3NwiIiLu7u6qqqq6uroyMjJmZmZUVFREREQQEBAAAAB0/5/PAAAAAXRSTlMAQObYZgAAAGlJREFU\n",
       "CNdjYGB4//b03l8MDJw/GBjKnjMwcDcwMKwLYGDgYWDg/cLAwMDCwLB/AgMIMH8CUwz6AmCK4zeE\n",
       "O/8AAytIHdAMbiAdl8DAMImBgT2vgIEhnYGB6ykDg9cFBobzOWfX/VdgAABUNRfEfWVm3gAAAABJ\n",
       "RU5ErkJggg==\n",
       "\" style=\"display:inline;vertical-align:middle;\" /></a><br>"
      ],
      "text/plain": [
       "Z: Z"
      ]
     },
     "execution_count": 53,
     "metadata": {},
     "output_type": "execute_result"
    }
   ],
   "source": [
    "Z = Variable('Z')"
   ]
  },
  {
   "cell_type": "code",
   "execution_count": 54,
   "metadata": {},
   "outputs": [
    {
     "data": {
      "text/html": [
       "<strong id=\"Am\">Am:</strong> <a class=\"ProveItLink\" href=\"__pv_it/3a8fc9ea12804fa5a1c09b3ebdf34d66ec30178f0/expr.ipynb\"><img src=\"data:image/png;base64,iVBORw0KGgoAAAANSUhEUgAAADAAAAAUBAMAAAA5EaOUAAAAMFBMVEX///92dnYiIiIQEBBERERU\n",
       "VFS6urqIiIjc3NxmZmaqqqru7u6YmJgyMjLMzMwAAADiRdoGAAAAAXRSTlMAQObYZgAAARhJREFU\n",
       "GNNjYIADjgNwJlcDlPEWRGxBqGGIgNL3QcQNJIm9EIrn/gYgMQFJgrEATO2aDzSTqQFJgtsATB2o\n",
       "T2BgaGJABtdABNuG9UAHVQIZoh3l4XziYUAxSZDENob3QCN9gCazuDPsL2NYDBQ7C5JIYOgHWqzF\n",
       "wPCK6QJDvwDDeaDYIiDmi5wZ78DAYMbAsGF/AsP6DQwhQMH3ICsYGJgvgCUY1jMwTGJgMIdKLAA6\n",
       "1QBsFMNcBgZFBrYf3AwMScAgAkrwfgBbzmDIwP2NgfNCF9hykPtZfoAdyPGNgesDA6+AAAPDRIYt\n",
       "/28zcPl/mgDSzKbAwD6BgWsOMAzuIfyKGiQKCDa2QIQAD8xgh4AtOBQhRy1PAwMAUzZAe91Ebq0A\n",
       "AAAASUVORK5CYII=\n",
       "\" style=\"display:inline;vertical-align:middle;\" /></a><br>"
      ],
      "text/plain": [
       "Am: A(m)"
      ]
     },
     "execution_count": 54,
     "metadata": {},
     "output_type": "execute_result"
    }
   ],
   "source": [
    "Am = Function(A,m)"
   ]
  },
  {
   "cell_type": "code",
   "execution_count": 55,
   "metadata": {},
   "outputs": [
    {
     "data": {
      "text/html": [
       "<strong id=\"Bm\">Bm:</strong> <a class=\"ProveItLink\" href=\"__pv_it/cb4afdc2744c685422214f5a8b0402263e12a7db0/expr.ipynb\"><img src=\"data:image/png;base64,iVBORw0KGgoAAAANSUhEUgAAADEAAAAUBAMAAADW08iqAAAAMFBMVEX///92dnYyMjKqqqoiIiLu\n",
       "7u7c3NyIiIjMzMwQEBC6urpERERmZmZUVFSYmJgAAADEjrHzAAAAAXRSTlMAQObYZgAAASpJREFU\n",
       "KM9tkTFLw0AUx39NmjRpk5jNtX4CMzkJBkE3oYOLk9ncNB/Aon4C3UWI4OJkQR2kizgrdHJR1EkX\n",
       "hTpoRa36LkGTUm94d+9+9/73f3eQj+V8OZHGp+/ri3YCRisnbpRO2+C8gRblxKiraH1B9RMeC8KM\n",
       "qlB5Ba8Hs0WyoEJtSxYzmGGRaHIxIx2suQaVU9i9XGrGG03ZLUnG5s3DUSCld+C3Y6OX6CLiKQtr\n",
       "EcYOlAOsYBrzGa8LutI+UTTATjCMd/QXXGnMEkpfkVgR9C5OiB1nRLXDbaLUcOqUfQ6iBtUwa8f6\n",
       "yBzYPosJZ2aQOtDEyf5x5nMlYQrGSlLt4473z68ORVDV78EqTN7L+fVC2wOvM19Mhl/0d9SGfuEv\n",
       "a/1/avC3xcMPBrJIlnHD8U4AAAAASUVORK5CYII=\n",
       "\" style=\"display:inline;vertical-align:middle;\" /></a><br>"
      ],
      "text/plain": [
       "Bm: B(m)"
      ]
     },
     "execution_count": 55,
     "metadata": {},
     "output_type": "execute_result"
    }
   ],
   "source": [
    "Bm = Function(B,m)"
   ]
  },
  {
   "cell_type": "code",
   "execution_count": 56,
   "metadata": {},
   "outputs": [
    {
     "data": {
      "text/html": [
       "<strong id=\"Cn\">Cn:</strong> <a class=\"ProveItLink\" href=\"__pv_it/3c8e672b386647e7942c7a675490d4e883e4a16a0/expr.ipynb\"><img src=\"data:image/png;base64,iVBORw0KGgoAAAANSUhEUgAAACoAAAAUBAMAAAAJnbK1AAAAMFBMVEX////MzMy6uroyMjIiIiKq\n",
       "qqoQEBB2dnbc3NyYmJhmZmZUVFRERESIiIju7u4AAACOKgoaAAAAAXRSTlMAQObYZgAAAQVJREFU\n",
       "GNNjYIADjgkQmrUBRPLd2bWTo4CB4Q1MegeIuDaBgXUZUJ0FTPQxEL/xAxLrGxg4F8BE2S8wMJg9\n",
       "ADLUGBhYGmCifAkMXF9BDCkGhhaEvUYM/Q4g+gUDwy0GBqbqjrtrgbwqhvoLUAUngQbynGV4DzRo\n",
       "MoO/AFTUlYFBlMWAoR/ID2HIB1nGACSSgOR7BYb5QJ48gz/YOwJgUYZ4BobNYNH1IAexQ0xgWMzA\n",
       "8JOPgUGFoR9kWx3ENoZ0BtZ/7CDbWH8yMEQ9ADuHgeMTA7vBRAaG5QwMr07vUgCZrQJ0rwMDx84A\n",
       "BgZDhIeQfOyAEEUNHTg4gRyScPAGQxo5hjgbGAAETzz5DQh2nwAAAABJRU5ErkJggg==\n",
       "\" style=\"display:inline;vertical-align:middle;\" /></a><br>"
      ],
      "text/plain": [
       "Cn: C(n)"
      ]
     },
     "execution_count": 56,
     "metadata": {},
     "output_type": "execute_result"
    }
   ],
   "source": [
    "Cn = Function(C,n)"
   ]
  },
  {
   "cell_type": "code",
   "execution_count": 57,
   "metadata": {},
   "outputs": [
    {
     "data": {
      "text/html": [
       "<strong id=\"PofA\">PofA:</strong> <a class=\"ProveItLink\" href=\"__pv_it/95ad89d6afd0f8299cfb9c71df4233504059396c0/expr.ipynb\"><img src=\"data:image/png;base64,iVBORw0KGgoAAAANSUhEUgAAAC4AAAAUBAMAAAAAdhLPAAAAMFBMVEX///8iIiLc3Ny6urqIiIiq\n",
       "qqp2dnbMzMwQEBDu7u5mZmYyMjJERERUVFSYmJgAAAA4CJ/KAAAAAXRSTlMAQObYZgAAARZJREFU\n",
       "GNNjYIADpgcwFqsCiHz7/+zdXRMYGOZABKuB+BKY9ZuBgaeTgWETRHw/EM8GMdi/AXV+YeBbABbm\n",
       "2w/UyuYAZLF8BuJvDIxgQxmmrgfSnA1AFs8HBgbezwyKEGMe+BsAyc1AzL+BgUF/AYMXWJh5QjzI\n",
       "WVlAXJ/AwCrGwHAOLD6ZoR5k9msg9r+WtgRolyhY3ACklYEhEIjPTwCLNIPddmvV/QMgM4D4IwNC\n",
       "nJmBgWMDRJz9F0QcbE4AAwMjyI2GEOeDAMheJqA49weIvdw/IeIgp4H8wPMJSCxj4Nr/1wEsDtQ6\n",
       "5/9OBtbzH4EO2o4IZmg4gAGnAIINDTcwYHNAsBkOIZizkYRh8YKmBDke+RQYABYwQkDyoYgLAAAA\n",
       "AElFTkSuQmCC\n",
       "\" style=\"display:inline;vertical-align:middle;\" /></a><br>"
      ],
      "text/plain": [
       "PofA: P(A)"
      ]
     },
     "execution_count": 57,
     "metadata": {},
     "output_type": "execute_result"
    }
   ],
   "source": [
    "PofA = Function(P, A)"
   ]
  },
  {
   "cell_type": "code",
   "execution_count": 58,
   "metadata": {},
   "outputs": [
    {
     "data": {
      "text/html": [
       "<strong id=\"Px\">Px:</strong> <a class=\"ProveItLink\" href=\"__pv_it/2548a99d921e002e203801a4828f7377ced085bf0/expr.ipynb\"><img src=\"data:image/png;base64,iVBORw0KGgoAAAANSUhEUgAAACoAAAAUBAMAAAAJnbK1AAAAMFBMVEX///8iIiLc3Ny6urqIiIiq\n",
       "qqp2dnbMzMwQEBDu7u5mZmYyMjJERERUVFSYmJgAAAA4CJ/KAAAAAXRSTlMAQObYZgAAAPdJREFU\n",
       "GNNjYIADpgcQmlUBRL79f/burgkMDHNg0pfA5G8GBp5OBoZNMNHZIIL9G1DXFwa+BTBRNgcgwfIZ\n",
       "iL8xMCrARDkbgATPBwYG3s8Migh7NwMx/wYGBv0FDF5A5hRfZTeg9iwgsz6BgVWMgeEcUGsCnwgj\n",
       "UM1roKj/tbQlQIeJAq2ZwPaTGWh8IFD0/ASwYc1AtQw8B0DMeiD+yAATBdrhABVl/wURFQXzC0Ck\n",
       "IcS5IAC0jXWCPwPLBLBt3D8hokDn2AecZ9ADMpcxcO3/CzYLpG2uy5R1oIDbjvAQko8FEKJooQMD\n",
       "h1BCEgbmYEgjxxCfAgMAYuY5gBp34ugAAAAASUVORK5CYII=\n",
       "\" style=\"display:inline;vertical-align:middle;\" /></a><br>"
      ],
      "text/plain": [
       "Px: P(x)"
      ]
     },
     "execution_count": 58,
     "metadata": {},
     "output_type": "execute_result"
    }
   ],
   "source": [
    "Px = Function(P, x)"
   ]
  },
  {
   "cell_type": "code",
   "execution_count": 59,
   "metadata": {},
   "outputs": [
    {
     "data": {
      "text/html": [
       "<strong id=\"Py\">Py:</strong> <a class=\"ProveItLink\" href=\"__pv_it/48906551f53658ac26c160560a233587087698750/expr.ipynb\"><img src=\"data:image/png;base64,iVBORw0KGgoAAAANSUhEUgAAACkAAAAUBAMAAADiqgm2AAAAMFBMVEX///8iIiLc3Ny6urqIiIiq\n",
       "qqp2dnbMzMwQEBDu7u5mZmYyMjJERERUVFSYmJgAAAA4CJ/KAAAAAXRSTlMAQObYZgAAARRJREFU\n",
       "GNNNkTFLQlEYhh+96s17r+ZS820I2rRf4B2cXIR+gUM0NPUPEpraTluDgUPgINKlsUVwzmpyC6Q9\n",
       "KK4YFVHfucejffB9B54D7/ud98CqsjNzHqTz9XfyfKegu7wthenxDcE53C5pMdbTXUB+TrlnpQ71\n",
       "yCXSCzKhpZd6BG+ilbCzsvVrMjZFp9qjKYrNiD1FQWudtslvwwMUnA4tKGu71vToWhbbgl0v5l6s\n",
       "K0IfVap2BmojYi5LiRHvWEpduR+Gul+GigIDch1wKmZdXeLGhODJuPmfhh5LD6lLRF4bb/QTpXRf\n",
       "+qpxIy/0T9ZBmhcPpC/WUKdTiouJTcfWmMwsiGyStro4jb5OK/xP7Q+9wB8d7z9P/Xm9+gAAAABJ\n",
       "RU5ErkJggg==\n",
       "\" style=\"display:inline;vertical-align:middle;\" /></a><br>"
      ],
      "text/plain": [
       "Py: P(y)"
      ]
     },
     "execution_count": 59,
     "metadata": {},
     "output_type": "execute_result"
    }
   ],
   "source": [
    "Py = Function(P, y)"
   ]
  },
  {
   "cell_type": "code",
   "execution_count": 60,
   "metadata": {},
   "outputs": [
    {
     "data": {
      "text/html": [
       "<strong id=\"Pxy\">Pxy:</strong> <a class=\"ProveItLink\" href=\"__pv_it/c3fe08ecadbf8627e890e50b171abe653ea56bf00/expr.ipynb\"><img src=\"data:image/png;base64,iVBORw0KGgoAAAANSUhEUgAAAD4AAAAUBAMAAAAn2JMnAAAAMFBMVEX///8iIiLc3Ny6urqIiIiq\n",
       "qqp2dnbMzMwQEBDu7u5mZmYyMjJERERUVFSYmJgAAAA4CJ/KAAAAAXRSTlMAQObYZgAAAVRJREFU\n",
       "KM9tUj1LA0EQfbmvcPG8KBhLObH3AyzsTCEiAUn8B1dZWOUfRNDG7orrVEwRbAQJWgg2itjGBBEb\n",
       "EexFUCOBM/jxdi+XEy8PZnaYx8y83VmgD+UJ/6A7wr/8NB7PPWAPCdxK3wWsHeAkye8Kl+6w0wfs\n",
       "apI38nRam9ZBykny5iad9QoMtzGJATilZevATBUFhv7q1HJeEn4NCjVtMKy40MeBG7Zz7bFUXfLu\n",
       "AjT2fWZYvF+v8Xo5yvGMQJUylNIRrEtgjXHTkxVbrJc5KQzbyHJShfEbIh4yJ6EGqJQln/4MMznh\n",
       "RE4iU8cKj7nw+gLUp3tFaOE0q4UGpL6hIOR5lcVSE9Mwu6K+pX7zOETm4iucyVb7S/4xlzjKFuZd\n",
       "4Z3Js/ip4vfVvZ4CmCMxH+/HoD3gYLa3nwhXUeDTJnAd7TdC/3+IfzRfKP8tGfy/bAe/925P5mCU\n",
       "p3MAAAAASUVORK5CYII=\n",
       "\" style=\"display:inline;vertical-align:middle;\" /></a><br>"
      ],
      "text/plain": [
       "Pxy: P(x, y)"
      ]
     },
     "execution_count": 60,
     "metadata": {},
     "output_type": "execute_result"
    }
   ],
   "source": [
    "Pxy = Function(P, (x, y))"
   ]
  },
  {
   "cell_type": "code",
   "execution_count": 61,
   "metadata": {},
   "outputs": [
    {
     "data": {
      "text/html": [
       "<strong id=\"Pxyz\">Pxyz:</strong> <a class=\"ProveItLink\" href=\"__pv_it/b019368214871a6361c9af4a1c9ad857ae60eb8a0/expr.ipynb\"><img src=\"data:image/png;base64,iVBORw0KGgoAAAANSUhEUgAAAFIAAAAUBAMAAADsA3fZAAAAMFBMVEX///8iIiLc3Ny6urqIiIiq\n",
       "qqp2dnbMzMwQEBDu7u5mZmYyMjJERERUVFSYmJgAAAA4CJ/KAAAAAXRSTlMAQObYZgAAAYVJREFU\n",
       "KM+FUz1Lw2AQfpo2La1pqmAdpeKuFRzczCAiAWn9AUInB6e6CxXqUlwyZFMxQ3FRpOgguCji2g9E\n",
       "XERwEBcRqpVCLX7c+5GmCMYH7vLk7uFy770XoAflAX9CTTH/8l29P7OAHfjgmvsuoJWAYz/lNnOR\n",
       "NlV/h+74KcMGuVCLrI1Ayk8Z3SCnNYF4C2PwxQlZogJMOjCJ2ovj8wZP2GUoJaGZKkZoKqvECjmo\n",
       "I0CNPpHThwMVns7NINQU362Zh/R4JsvcrpRpSElq2wp3grxdJXsA7UIooTCyRFa3eKTIgjJLbBMJ\n",
       "Q7a4zgQFsle4SnjZYAeFvKQNCGXkQwSS/F1mEatgQdJlcS4xTgY6kWplEBK9aA1U5ZU7iIsTDXRE\n",
       "hMYwm61jAtEuq9kIfgm29vTIZrmP2Pmn4ZbfnbOPaHRDVDZ6Y74J5uhbaUqfepfg3aZqyU4l48MY\n",
       "9JTehoTJ7rCXFqxvQ1xcusQmG8WVZH1b56K3yWz3p828ZL/K/Pd36Cn8AAleXxL3VxX3AAAAAElF\n",
       "TkSuQmCC\n",
       "\" style=\"display:inline;vertical-align:middle;\" /></a><br>"
      ],
      "text/plain": [
       "Pxyz: P(x, y, z)"
      ]
     },
     "execution_count": 61,
     "metadata": {},
     "output_type": "execute_result"
    }
   ],
   "source": [
    "Pxyz = Function(P, (x, y, z))"
   ]
  },
  {
   "cell_type": "code",
   "execution_count": 62,
   "metadata": {},
   "outputs": [
    {
     "data": {
      "text/html": [
       "<strong id=\"Pq\">Pq:</strong> <a class=\"ProveItLink\" href=\"__pv_it/2b065e6f24ff7551e04b0f4afaf5c572b678038b0/expr.ipynb\"><img src=\"data:image/png;base64,iVBORw0KGgoAAAANSUhEUgAAACgAAAAUBAMAAAANaGKIAAAAMFBMVEX///8iIiLc3Ny6urqIiIiq\n",
       "qqp2dnbMzMwQEBDu7u5mZmYyMjJERERUVFSYmJgAAAA4CJ/KAAAAAXRSTlMAQObYZgAAAQhJREFU\n",
       "GNNjYIADpgdgilUBRL79f/burgkMDHOgkpfA5G8GBp5OBoZNUMHZIIL9G1DPFwa+BVBBNgcgwfIZ\n",
       "iL8xMCpABTkbgATPBwYG3s8MinAbNwMx/wYGBv0FDF4gB+R5OjMwZAFZ9QkMrGIMDOeATAsFXqC2\n",
       "10CW/7W0JUAXiQJN62PgBWoLBAqenwA2qZmBgesDA0cCUCuQ95EBJshxgEHfACzI/gsiCNQ+34Hh\n",
       "PZBlCHEmCAAtmh/AcJoBbBH3T4gg0CHcDnxA3zEsY+Da/9cBLAjUxHnFFaRtOyLkwN7kAzqTUwAh\n",
       "CA4QkDPZHBCCDIeAGOTM2UhioEBm2y8FkUSPDj4FBgD6/j0EnkQEWwAAAABJRU5ErkJggg==\n",
       "\" style=\"display:inline;vertical-align:middle;\" /></a><br>"
      ],
      "text/plain": [
       "Pq: P(q)"
      ]
     },
     "execution_count": 62,
     "metadata": {},
     "output_type": "execute_result"
    }
   ],
   "source": [
    "Pq = Function(P, q)"
   ]
  },
  {
   "cell_type": "code",
   "execution_count": 63,
   "metadata": {},
   "outputs": [
    {
     "data": {
      "text/html": [
       "<strong id=\"QofA\">QofA:</strong> <a class=\"ProveItLink\" href=\"__pv_it/1b4e5c8297b907e02d82a14bc65d3d7b1ac303650/expr.ipynb\"><img src=\"data:image/png;base64,iVBORw0KGgoAAAANSUhEUgAAAC0AAAAUBAMAAADrQanMAAAAMFBMVEX///+qqqq6urrc3NwQEBAy\n",
       "MjJERERUVFTMzMwiIiKYmJh2dnZmZmaIiIju7u4AAABsX1SbAAAAAXRSTlMAQObYZgAAAStJREFU\n",
       "GNNjYIADKzhLGEzy3dl9CkQlgHkcAQwM7AYg1s4GBnagGCuYw8D6AagEKMfwFEjweTMwrIGYsfQf\n",
       "kNgLxCEPgEQ9A8NkiKEyn4HkEwYG7l8g7n4D5glgcS7eTyDDFBjswfzzCrwHwOJ6jCB13AcY9l8A\n",
       "cfMb2BaAjVHg+AvSFcAwvwHE/8/AKQCimRiY/wApxgkM/0HWMn5nYFEAibefOf4N5IkPDFNAXM5/\n",
       "UHEg4QoRLwFx71+AmMMIxCCFTBMY+h+8vcEBNBNsryEQx0Ps5b2wgHv9BrDTGMB+yAeGBw9QoK/6\n",
       "ZjJDA0grX/7XBwxi/+cA/QV2JHsDlwEsHCDgJZhkO6DGAA83MNgLJnn+/wDJGsCFweEMdO0UAUS8\n",
       "MKAqQYnHxQwMACWOSpDpxmUVAAAAAElFTkSuQmCC\n",
       "\" style=\"display:inline;vertical-align:middle;\" /></a><br>"
      ],
      "text/plain": [
       "QofA: Q(A)"
      ]
     },
     "execution_count": 63,
     "metadata": {},
     "output_type": "execute_result"
    }
   ],
   "source": [
    "QofA = Function(Q, A)"
   ]
  },
  {
   "cell_type": "code",
   "execution_count": 64,
   "metadata": {},
   "outputs": [
    {
     "data": {
      "text/html": [
       "<strong id=\"Qx\">Qx:</strong> <a class=\"ProveItLink\" href=\"__pv_it/a24cf46eabc9f0f99096d4e0a28e00277ee25c6c0/expr.ipynb\"><img src=\"data:image/png;base64,iVBORw0KGgoAAAANSUhEUgAAACkAAAAUBAMAAADiqgm2AAAAMFBMVEX///+qqqq6urrc3NwQEBAy\n",
       "MjJERERUVFTMzMwiIiKYmJh2dnZmZmaIiIju7u4AAABsX1SbAAAAAXRSTlMAQObYZgAAARdJREFU\n",
       "GNNjYIADKygtDCb57uw+BaISoKLsBiByZwMDO1CE1QAqyhcAJJ4CCT5vBoY1cKP2AnHIAyBRz8Aw\n",
       "GS76hIGB+xeIsd+AeQJclFWBwR7MO6/AewBo0N1iXaB27gMM+y+ARPMb2BYwMLxmWHlhKgMDVwDD\n",
       "/AaQ6H8GTgEGhn0M+x8oMzAwTmD4D7KM8TsDiwIDwwOGNJASjg8MU0A05z+wKAPDX6hoCYi+fwFs\n",
       "AgPHDxCPaQJD/4O3Nzj+MDCAbJPj/cBwD2wb74UF3Os3gJ3D9JHtAzNQkgfI7au+mczQANLGV3vv\n",
       "ziqQL8DOYm/gMkD28UswyXZAjQE9dIDm/AdZzYYSkkD3TBFADnW4NEoMLWZgAAALH0rGqUedOQAA\n",
       "AABJRU5ErkJggg==\n",
       "\" style=\"display:inline;vertical-align:middle;\" /></a><br>"
      ],
      "text/plain": [
       "Qx: Q(x)"
      ]
     },
     "execution_count": 64,
     "metadata": {},
     "output_type": "execute_result"
    }
   ],
   "source": [
    "Qx = Function(Q, x)"
   ]
  },
  {
   "cell_type": "code",
   "execution_count": 65,
   "metadata": {},
   "outputs": [
    {
     "data": {
      "text/html": [
       "<strong id=\"Qy\">Qy:</strong> <a class=\"ProveItLink\" href=\"__pv_it/b12459e03311082eca9a1d24d3c933c0eba785f90/expr.ipynb\"><img src=\"data:image/png;base64,iVBORw0KGgoAAAANSUhEUgAAACgAAAAUBAMAAAANaGKIAAAAMFBMVEX///+qqqq6urrc3NwQEBAy\n",
       "MjJERERUVFTMzMwiIiKYmJh2dnZmZmaIiIju7u4AAABsX1SbAAAAAXRSTlMAQObYZgAAASZJREFU\n",
       "GNNlkb1Lw0AYh58mmrbmw6xuGURwEDK76C5KEQdHoYOTWFAnEe8vMIKdXOziJthVFNrFRREzOCgE\n",
       "7OJYFBwUkcZ7k7SLB3fv3fPevR+/g9GYz00plNVLru/EbBTOHVmuFGUNxsMCvsms6VtLcDEMY8ew\n",
       "1tObQzgZQm8R+0c2ndA8HmVcZSE7PAZuF/oPmCtwQycWuK2sFrSncT/gnDMlMKXqY/q3WLqOKVLJ\n",
       "U/piLMBjmUn9MKIpF6sDgRgDIiVwV+BrLM9xajzp0yxRr/9c+QVJZDXYRBK5ccu+bOs+dElOw5Cq\n",
       "7+Fo/6WOwtD1egfJp4brErGsJsKiTUeEyNqxujNkguzxHuSCaHf6La6QU7YK6aDS9HOR5xJprw7/\n",
       "vkPH/wO2Rkpq99do7wAAAABJRU5ErkJggg==\n",
       "\" style=\"display:inline;vertical-align:middle;\" /></a><br>"
      ],
      "text/plain": [
       "Qy: Q(y)"
      ]
     },
     "execution_count": 65,
     "metadata": {},
     "output_type": "execute_result"
    }
   ],
   "source": [
    "Qy = Function(Q, y)"
   ]
  },
  {
   "cell_type": "code",
   "execution_count": 66,
   "metadata": {},
   "outputs": [
    {
     "data": {
      "text/html": [
       "<strong id=\"Qz\">Qz:</strong> <a class=\"ProveItLink\" href=\"__pv_it/dd8acb1b58899c5aba19b7612e30ca9c981e67a40/expr.ipynb\"><img src=\"data:image/png;base64,iVBORw0KGgoAAAANSUhEUgAAACgAAAAUBAMAAAANaGKIAAAAMFBMVEX///+qqqq6urrc3NwQEBAy\n",
       "MjJERERUVFTMzMwiIiKYmJh2dnZmZmaIiIju7u4AAABsX1SbAAAAAXRSTlMAQObYZgAAAQpJREFU\n",
       "GNNjYIADKwjFaAAi+e7sPgWiEqCSxSBiZwMDO1CA1QAq+BSEA4CqvBkY1sCM4b7AwBDyAMioZ2CY\n",
       "DBPkc2Dg/gVi7DdgngC3MYjBHsw5r8B7AEhpOnEsYGDYw7D/Akgwv4ENyOPLunMMyFnKML8BJPif\n",
       "gVMAKMjADHKXJMN/kD2M3xlYFECSbSBeP8MUEJvzH0SQqYABLFgCou5fAGtnEAfbrsnQ/+DtDY4/\n",
       "DAwgixgPMLCDLeK9sIB7/QagP4BO6ly9NggoeJqBoa/6ZjJDAwMT0L0HuFxBJkeAzGBv4DJA9ibY\n",
       "O2wH1BjQAoSBgef/D5AUctAxMHBMEUAO5GQGBozoAJoPAE0EQW+J9SNxAAAAAElFTkSuQmCC\n",
       "\" style=\"display:inline;vertical-align:middle;\" /></a><br>"
      ],
      "text/plain": [
       "Qz: Q(z)"
      ]
     },
     "execution_count": 66,
     "metadata": {},
     "output_type": "execute_result"
    }
   ],
   "source": [
    "Qz = Function(Q, z)"
   ]
  },
  {
   "cell_type": "code",
   "execution_count": 67,
   "metadata": {},
   "outputs": [
    {
     "data": {
      "text/html": [
       "<strong id=\"Rx\">Rx:</strong> <a class=\"ProveItLink\" href=\"__pv_it/0a38cd94075a1b8fda8d417a35cb1ceb5072578f0/expr.ipynb\"><img src=\"data:image/png;base64,iVBORw0KGgoAAAANSUhEUgAAACoAAAAUBAMAAAAJnbK1AAAAMFBMVEX///+6urp2dnYyMjLu7u5m\n",
       "ZmaqqqoiIiKIiIjMzMwQEBDc3NxERERUVFSYmJgAAAANh8IjAAAAAXRSTlMAQObYZgAAAQpJREFU\n",
       "GNNjYIAD7gcQmm0DiHz7/+6Zc0DaByZ9G0z+YWDYdYGBwRom6gwiOH8wMPD+ZOALgIkyNQAJjt8M\n",
       "DOy/Gdg3wERZFgAJHiCRf4BhO8JeQyDmv8DAtpaBoRXI9Ojd2ATUrgpkzr/X+3UCAwPQGSwKfBXs\n",
       "BgwMj4Gi/Q4Mjx0YGMqA1jgwfWEEGp8OFD0FNESBgWEhUC0DzwGQufOB+C8Dw/4LYFGgdANUlPMf\n",
       "0AkBYBOA/AkgUhzo3J8MDPoNLCDb2Bz6GTgcwLYxfwCqbdgGco58wnmGfUC1QQys9n8fMDCdaABp\n",
       "8+3wiAMFnCXCQ0g+LkCIooUODJxGCUkY8MGQRo4hvg0MALBIQ0lbRnDfAAAAAElFTkSuQmCC\n",
       "\" style=\"display:inline;vertical-align:middle;\" /></a><br>"
      ],
      "text/plain": [
       "Rx: R(x)"
      ]
     },
     "execution_count": 67,
     "metadata": {},
     "output_type": "execute_result"
    }
   ],
   "source": [
    "Rx = Function(R, x)"
   ]
  },
  {
   "cell_type": "code",
   "execution_count": 68,
   "metadata": {},
   "outputs": [
    {
     "data": {
      "text/html": [
       "<strong id=\"Ry\">Ry:</strong> <a class=\"ProveItLink\" href=\"__pv_it/41afe78ade04376b4c5936c3c2c9def2ef52c42a0/expr.ipynb\"><img src=\"data:image/png;base64,iVBORw0KGgoAAAANSUhEUgAAACkAAAAUBAMAAADiqgm2AAAAMFBMVEX///+6urp2dnYyMjLu7u5m\n",
       "ZmaqqqoiIiKIiIjMzMwQEBDc3NxERERUVFSYmJgAAAANh8IjAAAAAXRSTlMAQObYZgAAAR9JREFU\n",
       "GNNNkb9KA0EQh7/7l7vTS7SzTBrBzustvE6QCIFUFuIDWMTK+ppAGknewPgAwlUR0mgpGuVeIHJg\n",
       "KYIWgiFGnb3LJg7sDHyz/Gb2t7CI1ayoJ3l++x2PnqTW591ykpdvGKawM6d2qLL/Jf0JlYaW2lLJ\n",
       "m4I7xU003Vcp6EPrluvFWGtd0lpK6QraotiOGUaYSuvi+fyzB7KGafTpQkWN60a8RHAGAydkBKVT\n",
       "ofciUoNLiFZiZCH/XegMbtKcUo38SUH9H1mhkSvQxJOFDFHwpLsd22oajwRpMc2S+614wKbQI6pi\n",
       "kVPD2Z1lmHcxG0IPOsfyQqu3NLJ4cVPO3hIqd8qh/aHd0fGAmwWxdlJHHaNzqNxK/lP9Q6/wB0jf\n",
       "Rh36sMVdAAAAAElFTkSuQmCC\n",
       "\" style=\"display:inline;vertical-align:middle;\" /></a><br>"
      ],
      "text/plain": [
       "Ry: R(y)"
      ]
     },
     "execution_count": 68,
     "metadata": {},
     "output_type": "execute_result"
    }
   ],
   "source": [
    "Ry = Function(R, y)"
   ]
  },
  {
   "cell_type": "code",
   "execution_count": 69,
   "metadata": {},
   "outputs": [
    {
     "data": {
      "text/html": [
       "<strong id=\"Rz\">Rz:</strong> <a class=\"ProveItLink\" href=\"__pv_it/b556faf1098478e59df868a883d29bbb7081a7900/expr.ipynb\"><img src=\"data:image/png;base64,iVBORw0KGgoAAAANSUhEUgAAACkAAAAUBAMAAADiqgm2AAAAMFBMVEX///+6urp2dnYyMjLu7u5m\n",
       "ZmaqqqoiIiKIiIjMzMwQEBDc3NxERERUVFSYmJgAAAANh8IjAAAAAXRSTlMAQObYZgAAAQhJREFU\n",
       "GNNjYIAD7gcQOhtMvv1/98w5IO0DleXdAKb+MDDsusDAYA0VZTEAkZw/gPI/GfgCYEZpgAiO3wwM\n",
       "7L8Z2DfARL1ABM8CBob8Awzb4dYyCwAJ/gsMbGsZGFqBTMYqgXkMDEwgs+bf6/06gYEB7IwXoQcY\n",
       "GPhA1vU7MDx2YGAoAzIdGPYASbYCIHEKaIgCA8NCsHuOgIgPQOIvA8P+C1BRWQaoKOc/oBMCICaw\n",
       "XQCJMgJN4PjJwKDfwAK2LZWB4QLENmag+vyGbQyqQG11es1At7IqMLDa/33AwHSigUEcyGV4ZQjy\n",
       "xQREQCJ87I4QRA8dGDiNEpIwAAt1ng3IorAYes3AAABH6z4bpEC0VQAAAABJRU5ErkJggg==\n",
       "\" style=\"display:inline;vertical-align:middle;\" /></a><br>"
      ],
      "text/plain": [
       "Rz: R(z)"
      ]
     },
     "execution_count": 69,
     "metadata": {},
     "output_type": "execute_result"
    }
   ],
   "source": [
    "Rz = Function(R, z)"
   ]
  },
  {
   "cell_type": "code",
   "execution_count": 70,
   "metadata": {},
   "outputs": [
    {
     "data": {
      "text/html": [
       "<strong id=\"fa\">fa:</strong> <a class=\"ProveItLink\" href=\"__pv_it/e80bce2a0c2e8c976be76e7b3ce08f76e74ec5550/expr.ipynb\"><img src=\"data:image/png;base64,iVBORw0KGgoAAAANSUhEUgAAACQAAAAUBAMAAAAXVIIGAAAAMFBMVEX///8yMjJERETMzMwQEBCY\n",
       "mJgiIiK6urqqqqp2dnZUVFTc3NyIiIhmZmbu7u4AAADOOTK3AAAAAXRSTlMAQObYZgAAAO9JREFU\n",
       "GNNjYICCrRCKYwOYent2AwOfAlRqNZhc2d/AwLgBKvQQRPB9f87AEAszgPMASPsHIJENE+JzAIkn\n",
       "MDBwJ8CEGMQZGFiv5F5g4LkA5Oyde+QBA8NcIIsfqJspgIGB3ZtBHsgNBOL9BgwMbA0MDE8CGC4B\n",
       "uW1A3A/ELAUMDPcfMOQAmfZAPA0q5MTA9xkqpMUA1sj3E+KcMiD2YQAbz/eDgUugG2w833eQ24CO\n",
       "0GEIWzCBgeEm0G6QanagU1+dsV4DNFIYqAAcBggPJTB0MQaAWMjeTgKHBgMTUuDE3IaohwWhNtz/\n",
       "sIBm3cAAAKczN4yPHsSgAAAAAElFTkSuQmCC\n",
       "\" style=\"display:inline;vertical-align:middle;\" /></a><br>"
      ],
      "text/plain": [
       "fa: f(a)"
      ]
     },
     "execution_count": 70,
     "metadata": {},
     "output_type": "execute_result"
    }
   ],
   "source": [
    "fa = Function(f, a)"
   ]
  },
  {
   "cell_type": "code",
   "execution_count": 71,
   "metadata": {},
   "outputs": [
    {
     "data": {
      "text/html": [
       "<strong id=\"fb\">fb:</strong> <a class=\"ProveItLink\" href=\"__pv_it/502f841da842068702b42324636add776e16bdf10/expr.ipynb\"><img src=\"data:image/png;base64,iVBORw0KGgoAAAANSUhEUgAAACIAAAAUBAMAAAAaSvJBAAAAMFBMVEX///8yMjJERETMzMwQEBCY\n",
       "mJgiIiK6urqqqqp2dnZUVFTc3NyIiIhmZmbu7u4AAADOOTK3AAAAAXRSTlMAQObYZgAAAPhJREFU\n",
       "GNNVkCFPA0EQRt81LdemZREVqJLTbZrwD0ChEMVDcsGSJih0FaLmHA6JIEWcqQaLaFISDMEAIUE1\n",
       "xZArgRC+3anpJrM7+76d2ZmB5RqHvZqHYzbJcQlve/JHgVxnAyKJLfmvHrjiA47kLGS1Ox/7qe0E\n",
       "4j8v73qcQj21Ezah8tif0phCdDMZwKXohkJLPZhvuR84ELndhjWp2Qu/cC6Sycqn8ID7hh3dLpak\n",
       "Rbww0saivljX/2e67WOZC957IbMrfE36/YquvCeV6kuOVd3sXk9oSk6wLsJyKcPIK6FTrNPj0D8l\n",
       "G5WfxuGzvU6MdGB1qpWcf45BOl1adluJAAAAAElFTkSuQmCC\n",
       "\" style=\"display:inline;vertical-align:middle;\" /></a><br>"
      ],
      "text/plain": [
       "fb: f(b)"
      ]
     },
     "execution_count": 71,
     "metadata": {},
     "output_type": "execute_result"
    }
   ],
   "source": [
    "fb = Function(f, b)"
   ]
  },
  {
   "cell_type": "code",
   "execution_count": 72,
   "metadata": {},
   "outputs": [
    {
     "data": {
      "text/html": [
       "<strong id=\"fab\">fab:</strong> <a class=\"ProveItLink\" href=\"__pv_it/a6f2e417f69c6bad235cb273b0565456ec42c8230/expr.ipynb\"><img src=\"data:image/png;base64,iVBORw0KGgoAAAANSUhEUgAAADcAAAAUBAMAAADbzbjtAAAAMFBMVEX///8yMjJERETMzMwQEBCY\n",
       "mJgiIiK6urqqqqp2dnZUVFTc3NyIiIhmZmbu7u4AAADOOTK3AAAAAXRSTlMAQObYZgAAAUlJREFU\n",
       "KM9lUjFLw0AU/hKtTaK9ZHbRwUkc3N0EJx1uclGhOLiokH/QzDo0i04KroJDFkfRwbFCEQfBQk8o\n",
       "CqK0xaG6iO/dJSHRg1y+u+/ue99774B0XOLPODS/j7sEYrawL+bqgJdofN6MYCXFW1abTgT63OgV\n",
       "2CpJ+hFNJ4ycAU27JbKhaOoxcinAZL1EHmvtEKg87LcxRUFwdXqrDDndeqRLvOffALYEqquYSd0O\n",
       "VT9BhR1dLwIT5KAncW9I54dvOByqSd846XcV9gxZC9CPMTZIozO5DPGZp9mIDDkPLSu+TVLsQrJM\n",
       "lWXXoA2JL3iBKagfihVoQ2IEY3sB62exGNLKkzatazFlwFos8dZaugixQ6mKzhFHpixc3Y+8fI7K\n",
       "0AtwYElGeeHdvIZU+O1njeysZe95U8nP5pOBWbNlRtqFDv97JhvAL6mEUHW/EEQ3AAAAAElFTkSu\n",
       "QmCC\n",
       "\" style=\"display:inline;vertical-align:middle;\" /></a><br>"
      ],
      "text/plain": [
       "fab: f(a, b)"
      ]
     },
     "execution_count": 72,
     "metadata": {},
     "output_type": "execute_result"
    }
   ],
   "source": [
    "fab = Function(f, (a, b))"
   ]
  },
  {
   "cell_type": "code",
   "execution_count": 73,
   "metadata": {},
   "outputs": [
    {
     "data": {
      "text/html": [
       "<strong id=\"fx\">fx:</strong> <a class=\"ProveItLink\" href=\"__pv_it/70c10f7b19bdcd213f37cd4574da10e76f928c310/expr.ipynb\"><img src=\"data:image/png;base64,iVBORw0KGgoAAAANSUhEUgAAACUAAAAUBAMAAAD4luk4AAAAMFBMVEX///8yMjJERETMzMwQEBCY\n",
       "mJgiIiK6urqqqqp2dnZUVFTc3NyIiIhmZmbu7u4AAADOOTK3AAAAAXRSTlMAQObYZgAAAO9JREFU\n",
       "GNNjYICCrVC6G0K9PbuBgU8BKsa1AUyt7G9gYNwAFeMTAJPfnzMwxMLMYJgDIjg+AIlsuNgTEMGZ\n",
       "wMDAnQAXYyxgYGC9knuBgecC0Iwzq2uAGjmBTAb+AwwMTAEMDC8Zwg4kAtWALNlvwMDA1sDAMI9h\n",
       "/oNqoPEgY/qBmAVoyAMGJZB5zCArp0HFGBj+wMW0GCB6GZg/g8TYQXp9GCB29PF8YDgHsYPvOwPY\n",
       "Aew/mD5wA6V4JwDVfoBo4Ftz7mwoyM1AZ3CCQwTht2cMDF2MASAWShgkPQSzmJDDKuY2hAkLU7gk\n",
       "UthHMzAAABcoOI8ge5+JAAAAAElFTkSuQmCC\n",
       "\" style=\"display:inline;vertical-align:middle;\" /></a><br>"
      ],
      "text/plain": [
       "fx: f(x)"
      ]
     },
     "execution_count": 73,
     "metadata": {},
     "output_type": "execute_result"
    }
   ],
   "source": [
    "fx = Function(f, x)"
   ]
  },
  {
   "cell_type": "code",
   "execution_count": 74,
   "metadata": {},
   "outputs": [
    {
     "data": {
      "text/html": [
       "<strong id=\"fy\">fy:</strong> <a class=\"ProveItLink\" href=\"__pv_it/04a8c9eac2ba76550b24de0e1125c4f4328006740/expr.ipynb\"><img src=\"data:image/png;base64,iVBORw0KGgoAAAANSUhEUgAAACQAAAAUBAMAAAAXVIIGAAAAMFBMVEX///8yMjJERETMzMwQEBCY\n",
       "mJgiIiK6urqqqqp2dnZUVFTc3NyIiIhmZmbu7u4AAADOOTK3AAAAAXRSTlMAQObYZgAAAQNJREFU\n",
       "GNM9kDFLA0EQhb8cxlMuWQUL29RqkX8Qf0CQpFc4BCsRUoiVxVUWNrGyE2IpWmxjrYXtQQQb0cbK\n",
       "RtFGLATx7eydCzM783bn8eZBda7jNeftei89rlM9XVq+GBc0fAW9hOS+X2GrJpi/DeOfSrs15NYD\n",
       "nkOW1xDL0HzYm9Kawtsz2QacCV7QdDKAk31a4hgKuunCbEFW3JNIypGgsWJmhKNvAz21pxEi/aXX\n",
       "jdAKNkh7kTuVB4o+kT6Z2OswiA/aJKI9Sb9UPooiiE8l1V2VPyqX9ME8sIXEhss5bgxCp7XP+RjZ\n",
       "2tvmBolnh7VozuZTNKDDYSlVrP7vXxvd9PwBhiU4eyXKqbwAAAAASUVORK5CYII=\n",
       "\" style=\"display:inline;vertical-align:middle;\" /></a><br>"
      ],
      "text/plain": [
       "fy: f(y)"
      ]
     },
     "execution_count": 74,
     "metadata": {},
     "output_type": "execute_result"
    }
   ],
   "source": [
    "fy = Function(f, y)"
   ]
  },
  {
   "cell_type": "code",
   "execution_count": 75,
   "metadata": {},
   "outputs": [
    {
     "data": {
      "text/html": [
       "<strong id=\"fz\">fz:</strong> <a class=\"ProveItLink\" href=\"__pv_it/9a9d199284815700b66f58536e12519838d81b000/expr.ipynb\"><img src=\"data:image/png;base64,iVBORw0KGgoAAAANSUhEUgAAACQAAAAUBAMAAAAXVIIGAAAAMFBMVEX///8yMjJERETMzMwQEBCY\n",
       "mJgiIiK6urqqqqp2dnZUVFTc3NyIiIhmZmbu7u4AAADOOTK3AAAAAXRSTlMAQObYZgAAAN1JREFU\n",
       "GNNjYIAC7gAwxbEBTL09C6QfQaVWg8mV/Q0MDNJQoYcggu/7cwYG1gtQIc4DIO0fgATbBqgQnwNI\n",
       "PAFIbINZwyAO1HIlF6jpLJDDnlJgysAwF8jiB+lWBeJHMXcVGBgCgaz9BkAiA4gfMGwCkm1A3A8y\n",
       "wR1EMOsBCXsgngYXqmKACmkxQDVyLACxyoDYhwFqfC8DwwKw8XzfQUJAq5lTpx4sYGC4CXTNB6hy\n",
       "XoYQoDMZhIGOV2BA8VACQxcjOKCQvZ30EMLURgROzG0IExaE2nD/wwKadQMDAElNMH+4gMr0AAAA\n",
       "AElFTkSuQmCC\n",
       "\" style=\"display:inline;vertical-align:middle;\" /></a><br>"
      ],
      "text/plain": [
       "fz: f(z)"
      ]
     },
     "execution_count": 75,
     "metadata": {},
     "output_type": "execute_result"
    }
   ],
   "source": [
    "fz = Function(f, z)"
   ]
  },
  {
   "cell_type": "code",
   "execution_count": 76,
   "metadata": {},
   "outputs": [
    {
     "data": {
      "text/html": [
       "<strong id=\"fxy\">fxy:</strong> <a class=\"ProveItLink\" href=\"__pv_it/c24ffdf1efbdac8afd699dddc36a9bebcbc1839a0/expr.ipynb\"><img src=\"data:image/png;base64,iVBORw0KGgoAAAANSUhEUgAAADoAAAAUBAMAAAAuMzNdAAAAMFBMVEX///8yMjJERETMzMwQEBCY\n",
       "mJgiIiK6urqqqqp2dnZUVFTc3NyIiIhmZmbu7u4AAADOOTK3AAAAAXRSTlMAQObYZgAAAUNJREFU\n",
       "KM9jYIAC7gAGNMCxAUy9PQukHzFggNVgcmV/AwODNKbsQxDB9/05AwPrBUxZzgMg8z8ACbYNmLJ8\n",
       "DiAlCUBiGwMWIA4080ou0NSzQM6bU9tPHgALv7nDwO3HwDAXyOQHiagCDZrAmsMmAJadUMLAA7Qv\n",
       "EMjcbwAkMoA2POD8xw62nrvhIgOTAgNDG5DdDxJwB+oFi4Cdw+ADNtEeyJ4GlYXaAQLs/xjsDSCy\n",
       "WgwQkxnAImDAK8BwBEiVAbEPA8RVHA/OM/A8AMsyLQDrCQQFFYgPdHx9gz7DVga+jyC9C9i/Aqmb\n",
       "QDtAQQUy5NWZN1eBEZUG1M635uxvoKAw0CNghyJCkuMB1GYGvgSGLkZwxCJigROIFzK8LwDHQtJD\n",
       "iKA2TPYNEKcy6EBiMOY2RBAe+yCjas4aIGvAlnJYNzAAALyhTqYIoVkYAAAAAElFTkSuQmCC\n",
       "\" style=\"display:inline;vertical-align:middle;\" /></a><br>"
      ],
      "text/plain": [
       "fxy: f(x, y)"
      ]
     },
     "execution_count": 76,
     "metadata": {},
     "output_type": "execute_result"
    }
   ],
   "source": [
    "fxy = Function(f, (x, y))"
   ]
  },
  {
   "cell_type": "code",
   "execution_count": 77,
   "metadata": {},
   "outputs": [
    {
     "data": {
      "text/html": [
       "<strong id=\"gx\">gx:</strong> <a class=\"ProveItLink\" href=\"__pv_it/03cd40cb9846d2ffe540afad16f613712699495e0/expr.ipynb\"><img src=\"data:image/png;base64,iVBORw0KGgoAAAANSUhEUgAAACUAAAAUBAMAAAD4luk4AAAAMFBMVEX///8yMjK6urpUVFQiIiKY\n",
       "mJjMzMwQEBDu7u7c3Nx2dnZERESIiIhmZmaqqqoAAAA6bD3aAAAAAXRSTlMAQObYZgAAAOtJREFU\n",
       "GNNjYICCqVD6JQMccGyAMpgnwMUYYUwOAbhYLJy1Bs7yhLPaYQxOB4QpCkDi7ZnXDDwXgCadsdQB\n",
       "auQCMrk2cP5l4A5gYOhiCDngyMDACrTkfQPDPwaWBwwMKxjWN2gyMPABjalmYPvBwA40pIFhN8g8\n",
       "tg8MbF8ZeBzAYgwMf6BirD8ZuC+A9TKwfQOJMTkw8H1g4H8AtuMFzweGE2A7OH4y2DeAHMD0j/sD\n",
       "J1CKdwEDg/KpJWANHDYnzoaC3JwAMmEvit9agAYzcHxCD4P1DUBrGRi4kcNKOeYeSphyI8IUHvaR\n",
       "DAwAhys5w1WDmaIAAAAASUVORK5CYII=\n",
       "\" style=\"display:inline;vertical-align:middle;\" /></a><br>"
      ],
      "text/plain": [
       "gx: g(x)"
      ]
     },
     "execution_count": 77,
     "metadata": {},
     "output_type": "execute_result"
    }
   ],
   "source": [
    "gx = Function(g, x)"
   ]
  },
  {
   "cell_type": "code",
   "execution_count": 78,
   "metadata": {},
   "outputs": [
    {
     "data": {
      "text/html": [
       "<strong id=\"gy\">gy:</strong> <a class=\"ProveItLink\" href=\"__pv_it/ec298c1058bbd71b200e407c6bd393515678ec5f0/expr.ipynb\"><img src=\"data:image/png;base64,iVBORw0KGgoAAAANSUhEUgAAACMAAAAUBAMAAAD1iJl/AAAAMFBMVEX///8yMjK6urpUVFQiIiKY\n",
       "mJjMzMwQEBDu7u7c3Nx2dnZERESIiIhmZmaqqqoAAAA6bD3aAAAAAXRSTlMAQObYZgAAAQBJREFU\n",
       "GNNFkEFLAkEcxX+uuq6O2l67BXq3b9B+gvAadOgjSNcuAwYdunQIukmHjkqCdIgI9hwrKUHH8ioR\n",
       "ilAoWPSfXWf7w8x7PGbezHuQTLGZ4JR0zjeYvUil7Q16vlXyI8u6luTS82eWXKYOmR3ZPqMPhuIy\n",
       "DLnSlMSi1C/+cCfotHgWV/GfaX7Zh07F5wGqAZzgLjkGXQhZgzvH/aIcGImGdr9jKb9CjcxFxpRb\n",
       "4ARU52xNjD0D1G5s763Y0/REeqEh2SvXUHu6gbpI7ehdMmSOzIcfbaCxrFN5AW8Rx876hpjYt1qZ\n",
       "Fu7JNVWYlFM7fEsqdKJXQfVfoS36AP4Ag/o+TsRNrLwAAAAASUVORK5CYII=\n",
       "\" style=\"display:inline;vertical-align:middle;\" /></a><br>"
      ],
      "text/plain": [
       "gy: g(y)"
      ]
     },
     "execution_count": 78,
     "metadata": {},
     "output_type": "execute_result"
    }
   ],
   "source": [
    "gy = Function(g, y)"
   ]
  },
  {
   "cell_type": "code",
   "execution_count": 79,
   "metadata": {},
   "outputs": [
    {
     "data": {
      "text/html": [
       "<strong id=\"gz\">gz:</strong> <a class=\"ProveItLink\" href=\"__pv_it/7571e9d94f4d6139d2d4693deb10a1f20b4431ad0/expr.ipynb\"><img src=\"data:image/png;base64,iVBORw0KGgoAAAANSUhEUgAAACMAAAAUBAMAAAD1iJl/AAAAMFBMVEX///8yMjK6urpUVFQiIiKY\n",
       "mJjMzMwQEBDu7u7c3Nx2dnZERESIiIhmZmaqqqoAAAA6bD3aAAAAAXRSTlMAQObYZgAAAOFJREFU\n",
       "GNNjYICCqRDqJQMccGyA0MwT4EKMUCaHAFwoFsZYAxfyhDHaYQxOB7gJCkDi7ZnXDDwXgAyVIrYA\n",
       "Bi4gi2sD518G7gCgyVvP3mZgYAWa/76B4R8DywOgEAMn0CV8QCOqGdh+MLCDTGDIbmBgYPvAwPaV\n",
       "gccBIsRkwAAWYv3JwH0BrJHhMUglkwMD3wcG/gdg4/kuMDCDjef4yWDfALY6JSpGiIGBdwEDg/Kp\n",
       "JWDlDBdYC4EmMiaAtO9F9lAL0AYGjk9o3l7fwA3yDDdS4CjH3EMOQm5EEMICOpKBAQAugTMjcdH7\n",
       "6wAAAABJRU5ErkJggg==\n",
       "\" style=\"display:inline;vertical-align:middle;\" /></a><br>"
      ],
      "text/plain": [
       "gz: g(z)"
      ]
     },
     "execution_count": 79,
     "metadata": {},
     "output_type": "execute_result"
    }
   ],
   "source": [
    "gz = Function(g, z)"
   ]
  },
  {
   "cell_type": "code",
   "execution_count": 80,
   "metadata": {},
   "outputs": [
    {
     "data": {
      "text/html": [
       "<strong id=\"alpha\">alpha:</strong> <a class=\"ProveItLink\" href=\"__pv_it/186b4b5c9925c86cfc381a01181526b85fd087620/expr.ipynb\"><img src=\"data:image/png;base64,iVBORw0KGgoAAAANSUhEUgAAAA0AAAAJBAMAAAAbVLtZAAAAMFBMVEX////MzMxUVFSYmJgyMjJE\n",
       "RESqqqoQEBDu7u4iIiLc3Ny6urpmZmaIiIh2dnYAAADsbLlPAAAAAXRSTlMAQObYZgAAAEtJREFU\n",
       "CNdjYGB4e2cDAxCs3MBRxZHAwDCPgSGGt4GB5wcDwxE+Bgb2AAaG5y8YGPofMDC8B0rzGwD5QOU8\n",
       "CgzM7xmBjHfGBjxvGQCYMxGNK+jLuAAAAABJRU5ErkJggg==\n",
       "\" style=\"display:inline;vertical-align:middle;\" /></a><br>"
      ],
      "text/plain": [
       "alpha: alpha"
      ]
     },
     "execution_count": 80,
     "metadata": {},
     "output_type": "execute_result"
    }
   ],
   "source": [
    "alpha = Variable('alpha', r'\\alpha')"
   ]
  },
  {
   "cell_type": "code",
   "execution_count": 81,
   "metadata": {},
   "outputs": [
    {
     "data": {
      "text/html": [
       "<strong id=\"beta\">beta:</strong> <a class=\"ProveItLink\" href=\"__pv_it/0c42f16cf225983e14ad4371643d2e668d641f000/expr.ipynb\"><img src=\"data:image/png;base64,iVBORw0KGgoAAAANSUhEUgAAAAwAAAATBAMAAABW2/GaAAAAMFBMVEX///92dnYyMjJmZmYQEBAi\n",
       "IiJERES6urrMzMxUVFTu7u6qqqqIiIiYmJjc3NwAAAChBMO+AAAAAXRSTlMAQObYZgAAAGpJREFU\n",
       "CNdjYGBg4Lv7AEgynOaaASR5GxjKgNRbBoatQOoAA8NMMMXux8DA3meruoCBgYdL0ASogRHIUgBi\n",
       "oPgHBoYKoE4HBgYBBgbOCQwMQPEnQCW5DBzhQOleGcEFYPUgAKV4IFQFmAQAykYSUwyEU24AAAAA\n",
       "SUVORK5CYII=\n",
       "\" style=\"display:inline;vertical-align:middle;\" /></a><br>"
      ],
      "text/plain": [
       "beta: beta"
      ]
     },
     "execution_count": 81,
     "metadata": {},
     "output_type": "execute_result"
    }
   ],
   "source": [
    "beta = Variable('beta', r'\\beta')"
   ]
  },
  {
   "cell_type": "code",
   "execution_count": 82,
   "metadata": {},
   "outputs": [
    {
     "data": {
      "text/html": [
       "<strong id=\"theta\">theta:</strong> <a class=\"ProveItLink\" href=\"__pv_it/be38b93175b8b664898cbecd1b8401fb8b4cf3a40/expr.ipynb\"><img src=\"data:image/png;base64,iVBORw0KGgoAAAANSUhEUgAAAAoAAAAPBAMAAAAv0UM9AAAAMFBMVEX////c3Nx2dnYyMjJUVFSI\n",
       "iIgiIiIQEBDMzMxmZmZERES6urqqqqqYmJju7u4AAAAsk9KYAAAAAXRSTlMAQObYZgAAAGFJREFU\n",
       "CNdjYGDgu8MABLveTGBg4Khj+MfAwHaB4Q8Dw3UGhr8MDJkMHH8YuH8zsP5mYPni4v6Bgc2AgR+I\n",
       "FBj6DzC8P8AwnYHh/QaGrwwM7BtYExgYOAPEBIAmTp3HwAAAUycX2qt3A08AAAAASUVORK5CYII=\n",
       "\" style=\"display:inline;vertical-align:middle;\" /></a><br>"
      ],
      "text/plain": [
       "theta: theta"
      ]
     },
     "execution_count": 82,
     "metadata": {},
     "output_type": "execute_result"
    }
   ],
   "source": [
    "theta = Variable('theta', r'\\theta')"
   ]
  },
  {
   "cell_type": "code",
   "execution_count": 83,
   "metadata": {},
   "outputs": [
    {
     "data": {
      "text/html": [
       "<strong id=\"eps\">eps:</strong> <a class=\"ProveItLink\" href=\"__pv_it/a07b94578bb51fd99b91f6ecc814e1e1925ccfd30/expr.ipynb\"><img src=\"data:image/png;base64,iVBORw0KGgoAAAANSUhEUgAAAAkAAAAJBAMAAAASvxsjAAAAJ1BMVEX///8iIiIyMjLc3Nyqqqru\n",
       "7u7MzMxmZma6uroQEBBERESYmJgAAADL2NF4AAAAAXRSTlMAQObYZgAAADZJREFUCNdjYOBeOauB\n",
       "gaE6gWMDA0cCAxCwui4HkQEgdhiIYHBjYGBmYDBKYN3CwMChKZXAAADzqwelB4oTtAAAAABJRU5E\n",
       "rkJggg==\n",
       "\" style=\"display:inline;vertical-align:middle;\" /></a><br>"
      ],
      "text/plain": [
       "eps: eps"
      ]
     },
     "execution_count": 83,
     "metadata": {},
     "output_type": "execute_result"
    }
   ],
   "source": [
    "eps = Variable('eps', r'\\varepsilon')"
   ]
  },
  {
   "cell_type": "code",
   "execution_count": 84,
   "metadata": {},
   "outputs": [
    {
     "data": {
      "text/html": [
       "<strong id=\"rho\">rho:</strong> <a class=\"ProveItLink\" href=\"__pv_it/fec1d08f08b0590b0aba071a263dce8450d89dda0/expr.ipynb\"><img src=\"data:image/png;base64,iVBORw0KGgoAAAANSUhEUgAAAAsAAAANBAMAAACN24kIAAAAMFBMVEX///9EREQyMjLc3NyYmJju\n",
       "7u4iIiKqqqoQEBBmZmbMzMxUVFSIiIh2dna6uroAAABjihvzAAAAAXRSTlMAQObYZgAAAFNJREFU\n",
       "CNdjYGDgu7OLAQhuMrwAkuwJDPEPGBg4HBjeFzAwvA9gOG/AwDCNgUENKJfJwPWLgYH1I0OYA1Dh\n",
       "5zOzgGKcCiC9DBwHwJT9AjD1DEwCAJWXEbxRcklzAAAAAElFTkSuQmCC\n",
       "\" style=\"display:inline;vertical-align:middle;\" /></a><br>"
      ],
      "text/plain": [
       "rho: rho"
      ]
     },
     "execution_count": 84,
     "metadata": {},
     "output_type": "execute_result"
    }
   ],
   "source": [
    "rho = Variable('rho', r'\\rho')"
   ]
  },
  {
   "cell_type": "code",
   "execution_count": 85,
   "metadata": {},
   "outputs": [
    {
     "data": {
      "text/html": [
       "<strong id=\"Psi\">Psi:</strong> <a class=\"ProveItLink\" href=\"__pv_it/6359968f57a65c00bc20fb395561c6d8924782720/expr.ipynb\"><img src=\"data:image/png;base64,iVBORw0KGgoAAAANSUhEUgAAAA4AAAAQBAMAAADUulMJAAAALVBMVEX///9ERESYmJjMzMx2dnbc\n",
       "3Nzu7u6qqqoiIiIQEBBUVFQyMjJmZma6uroAAADMwE9NAAAAAXRSTlMAQObYZgAAAGJJREFUCNdj\n",
       "YIAB3tPvdl0As2aAiOsJDB0MbOUMGROANPdUBpbHQDpvAQPTWyAd58DA/hxI31NgYH0CpPWAGruB\n",
       "tCRQo2VBB+9bIM0qMtPRAGQS28wEBoS5DLyr3+25ALcVABxCGv0QYDzXAAAAAElFTkSuQmCC\n",
       "\" style=\"display:inline;vertical-align:middle;\" /></a><br>"
      ],
      "text/plain": [
       "Psi: Psi"
      ]
     },
     "execution_count": 85,
     "metadata": {},
     "output_type": "execute_result"
    }
   ],
   "source": [
    "Psi = Variable('Psi', r'\\Psi')"
   ]
  },
  {
   "cell_type": "code",
   "execution_count": 86,
   "metadata": {},
   "outputs": [
    {
     "data": {
      "text/html": [
       "<strong id=\"Upsilon\">Upsilon:</strong> <a class=\"ProveItLink\" href=\"__pv_it/d53acff8ae912b87c4b480747b9cb57bfedf8a1c0/expr.ipynb\"><img src=\"data:image/png;base64,iVBORw0KGgoAAAANSUhEUgAAAA4AAAAQBAMAAADUulMJAAAAMFBMVEX///+IiIhUVFRERER2dna6\n",
       "uroiIiIyMjJmZmbMzMwQEBDc3NyqqqqYmJju7u4AAAAyXftBAAAAAXRSTlMAQObYZgAAAEhJREFU\n",
       "CNdj4Lv7gIHv7AOGXf9/gnHHzKoH6ZHODAoMr2T/MTAxMDDwJjkwgAD3/wAwzfD/AYReD6EY8omk\n",
       "IepZ1f8XHWCAAQBqqRheww8UoQAAAABJRU5ErkJggg==\n",
       "\" style=\"display:inline;vertical-align:middle;\" /></a><br>"
      ],
      "text/plain": [
       "Upsilon: Upsilon"
      ]
     },
     "execution_count": 86,
     "metadata": {},
     "output_type": "execute_result"
    }
   ],
   "source": [
    "Upsilon = Variable('Upsilon', r'\\Upsilon')"
   ]
  },
  {
   "cell_type": "code",
   "execution_count": 87,
   "metadata": {},
   "outputs": [
    {
     "data": {
      "text/html": [
       "<strong id=\"Omega\">Omega:</strong> <a class=\"ProveItLink\" href=\"__pv_it/6bbc3ebe493c1d7bf923e91a3248db3698ffc81f0/expr.ipynb\"><img src=\"data:image/png;base64,iVBORw0KGgoAAAANSUhEUgAAAA8AAAAPBAMAAADJ+Ih5AAAAMFBMVEX///8iIiIQEBDu7u5UVFRE\n",
       "RESYmJjMzMxmZmZ2dnYyMjK6urqIiIiqqqrc3NwAAAA/6QtOAAAAAXRSTlMAQObYZgAAAHpJREFU\n",
       "CNdjYGDgu3OPAQS4Vz54sRzEyE9gYDh/gYGB/ReQw/WPgYHzJ5DB+QfI+QtksH1lYGD9BmTwfAHi\n",
       "H0AGC5DHrAhkMCqAtD9gYKi/ANJ6gIFhKpDm41vAwCDHBzSCwZmBr4ETqCF3NgP33AygyP9vDGz/\n",
       "/zAAAPtGHY1TrWqxAAAAAElFTkSuQmCC\n",
       "\" style=\"display:inline;vertical-align:middle;\" /></a><br>"
      ],
      "text/plain": [
       "Omega: Omega"
      ]
     },
     "execution_count": 87,
     "metadata": {},
     "output_type": "execute_result"
    }
   ],
   "source": [
    "Omega = Variable('Omega', r'\\Omega')"
   ]
  },
  {
   "cell_type": "code",
   "execution_count": 88,
   "metadata": {},
   "outputs": [],
   "source": [
    "# Use 'bold' to denote variables that represent composite elements\n",
    "# (ExprTuple or ExprArray)\n",
    "def boldVar(stringFormat):\n",
    "    latexFormat = r'\\bm{%s}'%stringFormat\n",
    "    return Variable(stringFormat, latexFormat)"
   ]
  },
  {
   "cell_type": "code",
   "execution_count": 89,
   "metadata": {},
   "outputs": [
    {
     "data": {
      "text/html": [
       "<strong id=\"aa\">aa:</strong> <a class=\"ProveItLink\" href=\"__pv_it/2ce1d4c2d74c04e9d3ff56aef071d8ceaca02ad40/expr.ipynb\"><img src=\"data:image/png;base64,iVBORw0KGgoAAAANSUhEUgAAAA0AAAAKBAMAAACdwMn3AAAAMFBMVEX///+YmJhmZmbMzMzc3Ny6\n",
       "urp2dnYQEBCqqqru7u5ERERUVFQiIiIyMjKIiIgAAAAmdQXyAAAAAXRSTlMAQObYZgAAAFZJREFU\n",
       "CNdjYGB4e/b1AgYGhrk/GO4XAOn1CQz5QD7rfweG+w8YGLj+MDD8N2BgYP/EwPwfKM3/j4HvL4cB\n",
       "A88PBq5PPA4MfN8Y9L9FASVkzrzcfpMBABx8GftzqsuCAAAAAElFTkSuQmCC\n",
       "\" style=\"display:inline;vertical-align:middle;\" /></a><br>"
      ],
      "text/plain": [
       "aa: a"
      ]
     },
     "execution_count": 89,
     "metadata": {},
     "output_type": "execute_result"
    }
   ],
   "source": [
    "aa = boldVar('a')"
   ]
  },
  {
   "cell_type": "code",
   "execution_count": 90,
   "metadata": {},
   "outputs": [
    {
     "data": {
      "text/html": [
       "<strong id=\"bb\">bb:</strong> <a class=\"ProveItLink\" href=\"__pv_it/f5631560c7e35d249649e9652eebc3b9aeade8b10/expr.ipynb\"><img src=\"data:image/png;base64,iVBORw0KGgoAAAANSUhEUgAAAAoAAAAPBAMAAAAv0UM9AAAALVBMVEX///+IiIjMzMyqqqq6urpm\n",
       "ZmZERETc3NyYmJhUVFQyMjLu7u4iIiIQEBAAAACsGNulAAAAAXRSTlMAQObYZgAAAFxJREFUCNdj\n",
       "4H13gIGBgXvdBCDJcK8BSLC/KwCSHG9BApxvso5uYOB9U1B3gKHuOQPvEwa7Cwx8LxjiJjDoPWZY\n",
       "J8DQ95zhngNDXgJDngJIn53ArsdAvWduFjAAAL1pHKsFB9PBAAAAAElFTkSuQmCC\n",
       "\" style=\"display:inline;vertical-align:middle;\" /></a><br>"
      ],
      "text/plain": [
       "bb: b"
      ]
     },
     "execution_count": 90,
     "metadata": {},
     "output_type": "execute_result"
    }
   ],
   "source": [
    "bb = boldVar('b')"
   ]
  },
  {
   "cell_type": "code",
   "execution_count": 91,
   "metadata": {},
   "outputs": [
    {
     "data": {
      "text/html": [
       "<strong id=\"cc\">cc:</strong> <a class=\"ProveItLink\" href=\"__pv_it/a00b8c31241c3905ea5897b6306363b06dd009fa0/expr.ipynb\"><img src=\"data:image/png;base64,iVBORw0KGgoAAAANSUhEUgAAAAsAAAAKBAMAAACQ3rmwAAAAKlBMVEX///9mZmaIiIjc3NxUVFTM\n",
       "zMzu7u52dnaYmJgiIiIQEBBERES6uroAAAA567jtAAAAAXRSTlMAQObYZgAAAEVJREFUCNdjYGA4\n",
       "vXIGAwMD9/WE2gAGBl8HtrsGDDx3AxiKgGK3GECA6yKY4r0EpjhvMDDwHGDguc3AXGnAwBA9c7UC\n",
       "AwAsjg8F/xGSmwAAAABJRU5ErkJggg==\n",
       "\" style=\"display:inline;vertical-align:middle;\" /></a><br>"
      ],
      "text/plain": [
       "cc: c"
      ]
     },
     "execution_count": 91,
     "metadata": {},
     "output_type": "execute_result"
    }
   ],
   "source": [
    "cc = boldVar('c')"
   ]
  },
  {
   "cell_type": "code",
   "execution_count": 92,
   "metadata": {},
   "outputs": [
    {
     "data": {
      "text/html": [
       "<strong id=\"dd\">dd:</strong> <a class=\"ProveItLink\" href=\"__pv_it/d15e775300d6cb8714b103311731cb54f0ab1ded0/expr.ipynb\"><img src=\"data:image/png;base64,iVBORw0KGgoAAAANSUhEUgAAAA0AAAAPBAMAAADNDVhEAAAAMFBMVEX///9UVFQQEBDc3NxERETu\n",
       "7u4iIiKIiIh2dnYyMjJmZmaqqqrMzMyYmJi6uroAAAClulKCAAAAAXRSTlMAQObYZgAAAG1JREFU\n",
       "CNdjYACC9/8vgCgGnv8HwDT3fzDFwPUTQnP+AJGVmfX/gFTkb4b5H4C0fwND/wQGBr7/BgzzGxgY\n",
       "WL4xMPx/wMDA9AtoTAADA/93BvZv3AcY2H4zsPxiM2Bg/8Gw/scToL5raaVCUxkA7YEhOSJ+GIIA\n",
       "AAAASUVORK5CYII=\n",
       "\" style=\"display:inline;vertical-align:middle;\" /></a><br>"
      ],
      "text/plain": [
       "dd: d"
      ]
     },
     "execution_count": 92,
     "metadata": {},
     "output_type": "execute_result"
    }
   ],
   "source": [
    "dd = boldVar('d')"
   ]
  },
  {
   "cell_type": "code",
   "execution_count": 93,
   "metadata": {},
   "outputs": [
    {
     "data": {
      "text/html": [
       "<strong id=\"AA\">AA:</strong> <a class=\"ProveItLink\" href=\"__pv_it/6f8516dc54382ba620b1001b7f128a6c12b165500/expr.ipynb\"><img src=\"data:image/png;base64,iVBORw0KGgoAAAANSUhEUgAAABIAAAAPBAMAAAAbqIIhAAAAMFBMVEX///+qqqpmZmZERETu7u4Q\n",
       "EBCIiIiYmJgyMjLc3NxUVFR2dnYiIiK6urrMzMwAAADqOZ25AAAAAXRSTlMAQObYZgAAAGtJREFU\n",
       "CNdjYAABvr8MUMDzG8ba/wvK4Pz/A8riqP8PZWWw/neASP5k/n8BzGLewPS/AMwqZWD7rwBisAQy\n",
       "8P43ALG4vobG/z8AYolOcfH8/wHECgTi8z+BxGMToFL77wwMrP+B5uv///8TAL1WIUsMJqyxAAAA\n",
       "AElFTkSuQmCC\n",
       "\" style=\"display:inline;vertical-align:middle;\" /></a><br>"
      ],
      "text/plain": [
       "AA: A"
      ]
     },
     "execution_count": 93,
     "metadata": {},
     "output_type": "execute_result"
    }
   ],
   "source": [
    "AA = boldVar('A')"
   ]
  },
  {
   "cell_type": "code",
   "execution_count": 94,
   "metadata": {},
   "outputs": [
    {
     "data": {
      "text/html": [
       "<strong id=\"BB\">BB:</strong> <a class=\"ProveItLink\" href=\"__pv_it/c82f55e29ce78ef79f9599b67cc5ada745451b410/expr.ipynb\"><img src=\"data:image/png;base64,iVBORw0KGgoAAAANSUhEUgAAABIAAAAPBAMAAAAbqIIhAAAAMFBMVEX///+6urqqqqqYmJiIiIh2\n",
       "dnZERETMzMzu7u4QEBAyMjLc3NxmZmYiIiJUVFQAAACPGCpTAAAAAXRSTlMAQObYZgAAAINJREFU\n",
       "CNcVjssJwgAQRJ/fCILagGAJdhBLERtQsIAcBSvwlqt6STrQEizAHgKCYvyNs3NY3mHesEAl51ri\n",
       "FDs2y3eQ5pDdDYlmcPqZ2lpBejN1Bb3cDYYvGH9CyOrj4TsKisr2EVQ9oRk++QUaOkM/TkdTaGni\n",
       "YfsMVLLW3mvxSb2AP5FCMk7df3CyAAAAAElFTkSuQmCC\n",
       "\" style=\"display:inline;vertical-align:middle;\" /></a><br>"
      ],
      "text/plain": [
       "BB: B"
      ]
     },
     "execution_count": 94,
     "metadata": {},
     "output_type": "execute_result"
    }
   ],
   "source": [
    "BB = boldVar('B')"
   ]
  },
  {
   "cell_type": "code",
   "execution_count": 95,
   "metadata": {},
   "outputs": [
    {
     "data": {
      "text/html": [
       "<strong id=\"CC\">CC:</strong> <a class=\"ProveItLink\" href=\"__pv_it/c12fdf709cfdcbdd72de2c56fe85ca5fa35696160/expr.ipynb\"><img src=\"data:image/png;base64,iVBORw0KGgoAAAANSUhEUgAAABEAAAAPBAMAAADwnzkiAAAAMFBMVEX///+qqqp2dnbMzMxERESI\n",
       "iIju7u5UVFSYmJjc3NwiIiIQEBAyMjJmZma6uroAAAD5y7YqAAAAAXRSTlMAQObYZgAAAHZJREFU\n",
       "CNdjYGBgeHv6102OAiDj1Z/OzGj/AAYG1v8NDAx8/w0YGPQ/AsUZVoN4DiBWCQMD1/8JIFYgA8P7\n",
       "PwxQcP8rjHX+H4y1/huI5AMq9v8AYnEnMDDEfwax7oJ4X4AE7wEgwbl+4bQZi8Ba+Kp+OwFVMQAA\n",
       "HuIiz7RIaTcAAAAASUVORK5CYII=\n",
       "\" style=\"display:inline;vertical-align:middle;\" /></a><br>"
      ],
      "text/plain": [
       "CC: C"
      ]
     },
     "execution_count": 95,
     "metadata": {},
     "output_type": "execute_result"
    }
   ],
   "source": [
    "CC = boldVar('C')"
   ]
  },
  {
   "cell_type": "code",
   "execution_count": 96,
   "metadata": {},
   "outputs": [
    {
     "data": {
      "text/html": [
       "<strong id=\"DD\">DD:</strong> <a class=\"ProveItLink\" href=\"__pv_it/52a7c517c38c7007d099f3e6ea137c3395f5ada30/expr.ipynb\"><img src=\"data:image/png;base64,iVBORw0KGgoAAAANSUhEUgAAABMAAAAPBAMAAAD0aukfAAAALVBMVEX///+YmJhEREQQEBCqqqqI\n",
       "iIh2dnbMzMzu7u4yMjLc3NxmZmYiIiJUVFQAAAB+jPHvAAAAAXRSTlMAQObYZgAAAIFJREFUCNdj\n",
       "YGC49w4ITi9gAIF5rxja856Cme8mMDCwvCsAstjfJQBJuwtAgvWdA5A8ZwAkmN41gEQfAAm+N0CC\n",
       "490BIFn3GqxBAUjKPQESbO8EgOS9V0CCB6IBpLfuGZDgegcy8RzQGgZGkCqmNyB53ncFHKV2O0Cm\n",
       "gtxlmQVkAQDZhyyIeZYLlQAAAABJRU5ErkJggg==\n",
       "\" style=\"display:inline;vertical-align:middle;\" /></a><br>"
      ],
      "text/plain": [
       "DD: D"
      ]
     },
     "execution_count": 96,
     "metadata": {},
     "output_type": "execute_result"
    }
   ],
   "source": [
    "DD = boldVar('D')"
   ]
  },
  {
   "cell_type": "code",
   "execution_count": 97,
   "metadata": {},
   "outputs": [
    {
     "data": {
      "text/html": [
       "<strong id=\"EE\">EE:</strong> <a class=\"ProveItLink\" href=\"__pv_it/f8bfa028a7a964d7395580f8a65cc95b3f9f03ca0/expr.ipynb\"><img src=\"data:image/png;base64,iVBORw0KGgoAAAANSUhEUgAAABIAAAAPBAMAAAAbqIIhAAAAMFBMVEX///9mZmZEREQyMjKIiIh2\n",
       "dnbMzMy6urqYmJgQEBCqqqru7u7c3NwiIiJUVFQAAACmWj4UAAAAAXRSTlMAQObYZgAAAIBJREFU\n",
       "CNdjYGB4/x8EPjAAwf0/DNwrwaz/ExgYOICYgf3/AwYGtgtAFut/B+4GNgMgi+l/AosA9wIgi/8/\n",
       "w0kQzcCQ/3/+/w1glv/HPZJgBsP77wzrGFgOAFnzfzOkMZwEMnj+gwx4CsQc/wMYGFh+A1l8/xdw\n",
       "n9J/ADINDBIYAA2DMDsC43XCAAAAAElFTkSuQmCC\n",
       "\" style=\"display:inline;vertical-align:middle;\" /></a><br>"
      ],
      "text/plain": [
       "EE: E"
      ]
     },
     "execution_count": 97,
     "metadata": {},
     "output_type": "execute_result"
    }
   ],
   "source": [
    "EE = boldVar('E')"
   ]
  },
  {
   "cell_type": "code",
   "execution_count": 98,
   "metadata": {},
   "outputs": [
    {
     "data": {
      "text/html": [
       "<strong id=\"QQ\">QQ:</strong> <a class=\"ProveItLink\" href=\"__pv_it/896c543f72ca8c8120626ec95f51898cb284140c0/expr.ipynb\"><img src=\"data:image/png;base64,iVBORw0KGgoAAAANSUhEUgAAABAAAAATBAMAAABrSZD8AAAAMFBMVEX////MzMxUVFSIiIjc3Nxm\n",
       "Zma6urqYmJju7u52dnYyMjIQEBAiIiJERESqqqoAAABBM7NeAAAAAXRSTlMAQObYZgAAAJRJREFU\n",
       "CNdjYGBgeHt61wwgxfB6ewP7/wQGBtZfDQwM9TsYGOKBmIH/JwPb/wIgg/svA89vkDr+Pwz5X0EM\n",
       "/18M8d9AjPdfGdZ/ATGA3P0fgDTH/wMM5zcAGcxArfo/+NY6+P9lYJD/LNWy5PwFBgb2/+sY9v8E\n",
       "aehcs+ZPAzMDGKw304Uw7v//BmHM/68AYXQB7QMALa80jFUU4uMAAAAASUVORK5CYII=\n",
       "\" style=\"display:inline;vertical-align:middle;\" /></a><br>"
      ],
      "text/plain": [
       "QQ: Q"
      ]
     },
     "execution_count": 98,
     "metadata": {},
     "output_type": "execute_result"
    }
   ],
   "source": [
    "QQ = boldVar('Q')"
   ]
  },
  {
   "cell_type": "code",
   "execution_count": 99,
   "metadata": {},
   "outputs": [
    {
     "data": {
      "text/html": [
       "<strong id=\"RR\">RR:</strong> <a class=\"ProveItLink\" href=\"__pv_it/ff487c7bd391429bc912e54c104fae576f6379430/expr.ipynb\"><img src=\"data:image/png;base64,iVBORw0KGgoAAAANSUhEUgAAABMAAAAPBAMAAAD0aukfAAAAMFBMVEX///9mZmbc3NwQEBCIiIi6\n",
       "urp2dnaYmJjMzMzu7u4yMjKqqqpEREQiIiJUVFQAAADDWYIFAAAAAXRSTlMAQObYZgAAAIVJREFU\n",
       "CNdjYGB4/////7+nGcBg/U/O9v8PwMz/CxgY8r+CWBz/E4DMLyAmy/8AoKIfICbP/wkQGQYG/r8M\n",
       "nJtvg3X1f15l/w9iVv1voHIHMPP9T6B5F8BMewMGTpDRDAxMQIu4/x8AMdn/FwDVCrBPYGDg+98A\n",
       "5D7oBZoKdNcEBt8/hxgAztw0ntONCpEAAAAASUVORK5CYII=\n",
       "\" style=\"display:inline;vertical-align:middle;\" /></a><br>"
      ],
      "text/plain": [
       "RR: R"
      ]
     },
     "execution_count": 99,
     "metadata": {},
     "output_type": "execute_result"
    }
   ],
   "source": [
    "RR = boldVar('R')"
   ]
  },
  {
   "cell_type": "code",
   "execution_count": 100,
   "metadata": {},
   "outputs": [
    {
     "data": {
      "text/html": [
       "<strong id=\"vv\">vv:</strong> <a class=\"ProveItLink\" href=\"__pv_it/227d480824540a38bcaf497f477e6021cd47f16b0/expr.ipynb\"><img src=\"data:image/png;base64,iVBORw0KGgoAAAANSUhEUgAAAAwAAAAKBAMAAAByAqLJAAAAMFBMVEX///9mZmZERESqqqoiIiJ2\n",
       "dna6urrc3Nzu7u5UVFTMzMyYmJgQEBAyMjKIiIgAAACG6mmdAAAAAXRSTlMAQObYZgAAAE5JREFU\n",
       "CNdjYHh7mmHNBAa+Cf8b5v9g6GH/35D/nWEd618Gtg8MDCz/GLguMDDUf2dg3cDAYP+BgacBSF1g\n",
       "CGVgYOj/wQaUYuDSudjAAAC1BBfRE1J53gAAAABJRU5ErkJggg==\n",
       "\" style=\"display:inline;vertical-align:middle;\" /></a><br>"
      ],
      "text/plain": [
       "vv: v"
      ]
     },
     "execution_count": 100,
     "metadata": {},
     "output_type": "execute_result"
    }
   ],
   "source": [
    "vv = boldVar('v')"
   ]
  },
  {
   "cell_type": "code",
   "execution_count": 101,
   "metadata": {},
   "outputs": [
    {
     "data": {
      "text/html": [
       "<strong id=\"ww\">ww:</strong> <a class=\"ProveItLink\" href=\"__pv_it/ecab14df54627dea32ec4e721f274660c31567d90/expr.ipynb\"><img src=\"data:image/png;base64,iVBORw0KGgoAAAANSUhEUgAAABEAAAAKBAMAAACgUqiRAAAAMFBMVEX///+6urp2dnbc3NyqqqpU\n",
       "VFRmZmbu7u4iIiJERETMzMyYmJgQEBAyMjKIiIgAAABG7kDPAAAAAXRSTlMAQObYZgAAAGhJREFU\n",
       "CNdjYHh7moHrHMOMAga+hP8FrF9Z/m9gqOH6X8Dzm73/AYMd018G+88MNQIMDBz/GPYfYOApYAAJ\n",
       "5E9gsGRgYPA/wHBfgUEbxGpguL+BoQHIqv/MeD6AcwOQxTWns/pGNwMDAM3/IGr4wIp6AAAAAElF\n",
       "TkSuQmCC\n",
       "\" style=\"display:inline;vertical-align:middle;\" /></a><br>"
      ],
      "text/plain": [
       "ww: w"
      ]
     },
     "execution_count": 101,
     "metadata": {},
     "output_type": "execute_result"
    }
   ],
   "source": [
    "ww = boldVar('w')"
   ]
  },
  {
   "cell_type": "code",
   "execution_count": 102,
   "metadata": {},
   "outputs": [
    {
     "data": {
      "text/html": [
       "<strong id=\"xx\">xx:</strong> <a class=\"ProveItLink\" href=\"__pv_it/6fc73c046121fd1c6054961085835e19fdbe4e840/expr.ipynb\"><img src=\"data:image/png;base64,iVBORw0KGgoAAAANSUhEUgAAAA0AAAAKBAMAAACdwMn3AAAALVBMVEX///8yMjLc3NyIiIhUVFSY\n",
       "mJgQEBCqqqru7u66urrMzMwiIiJERERmZmYAAAD/FfYLAAAAAXRSTlMAQObYZgAAAFJJREFUCNdj\n",
       "YOA9fWr2XgYGju0MzzLiAhhYDBjeGeQFMDAzcL1TKGUAAtZnDGDA8gREchlwP2ZgbWDoe6X3kkGN\n",
       "gaHP4dhzpp1AVbstbossYAAASCEVSOdqH08AAAAASUVORK5CYII=\n",
       "\" style=\"display:inline;vertical-align:middle;\" /></a><br>"
      ],
      "text/plain": [
       "xx: x"
      ]
     },
     "execution_count": 102,
     "metadata": {},
     "output_type": "execute_result"
    }
   ],
   "source": [
    "xx = boldVar('x')"
   ]
  },
  {
   "cell_type": "code",
   "execution_count": 103,
   "metadata": {},
   "outputs": [
    {
     "data": {
      "text/html": [
       "<strong id=\"yy\">yy:</strong> <a class=\"ProveItLink\" href=\"__pv_it/bbde19e14c1b45f8f5b7500a538bca23bb96fc7f0/expr.ipynb\"><img src=\"data:image/png;base64,iVBORw0KGgoAAAANSUhEUgAAAA0AAAAOBAMAAAAGUYvhAAAALVBMVEX///+6urrMzMwiIiJ2dnZE\n",
       "RETc3Nyqqqru7u5mZmaYmJgQEBAyMjKIiIgAAACuWs+2AAAAAXRSTlMAQObYZgAAAGpJREFUCNdj\n",
       "YLizi4HhDAMD74R3DezvGBi62d41cD5lYMhlecPA/JaBAUT0PQLSec8Y5B4A6boHDH4HgPS6Awzn\n",
       "HEDiG3jfCQBpxtOmQO0MDGkMnC+BFNNrhrxtQJrrLZO1Akh8ss0FIAkAccYeq9ik19wAAAAASUVO\n",
       "RK5CYII=\n",
       "\" style=\"display:inline;vertical-align:middle;\" /></a><br>"
      ],
      "text/plain": [
       "yy: y"
      ]
     },
     "execution_count": 103,
     "metadata": {},
     "output_type": "execute_result"
    }
   ],
   "source": [
    "yy = boldVar('y')"
   ]
  },
  {
   "cell_type": "code",
   "execution_count": 104,
   "metadata": {},
   "outputs": [
    {
     "data": {
      "text/html": [
       "<strong id=\"zz\">zz:</strong> <a class=\"ProveItLink\" href=\"__pv_it/519f42b9b923fa9bd9d8e8605370b2b65383442f0/expr.ipynb\"><img src=\"data:image/png;base64,iVBORw0KGgoAAAANSUhEUgAAAAwAAAAKBAMAAAByAqLJAAAAMFBMVEX///9UVFR2dnaIiIhmZmbM\n",
       "zMyYmJgQEBDu7u4iIiK6urqqqqoyMjJERETc3NwAAAA5ihdDAAAAAXRSTlMAQObYZgAAAENJREFU\n",
       "CNdjYOC7f5prAgND+/fy/wkMDNEMrCUMILDeAURyfwZz7BNAJNMvBg4gQz2AgVGBge1/efkfBgbO\n",
       "hJBKBwYAPIwPaJo/ml0AAAAASUVORK5CYII=\n",
       "\" style=\"display:inline;vertical-align:middle;\" /></a><br>"
      ],
      "text/plain": [
       "zz: z"
      ]
     },
     "execution_count": 104,
     "metadata": {},
     "output_type": "execute_result"
    }
   ],
   "source": [
    "zz = boldVar('z')"
   ]
  },
  {
   "cell_type": "code",
   "execution_count": 105,
   "metadata": {},
   "outputs": [
    {
     "data": {
      "text/html": [
       "<strong id=\"aPrime\">aPrime:</strong> <a class=\"ProveItLink\" href=\"__pv_it/724300f221dbf8d6b0f81979a09e5553c7c440120/expr.ipynb\"><img src=\"data:image/png;base64,iVBORw0KGgoAAAANSUhEUgAAABAAAAASBAMAAACgFUNZAAAAMFBMVEX///9UVFSqqqrMzMwiIiJE\n",
       "RESYmJgyMjK6urru7u4QEBCIiIh2dnZmZmbc3NwAAABRgo0vAAAAAXRSTlMAQObYZgAAAF5JREFU\n",
       "CNdjYEAFHJ+hDN6fUAbXBSjD/gGUcRCm2BlK8xXAREBK+O7cXgnmdD1g/wCiOZcx8AZAzWTZADYz\n",
       "gGG+AYgx/wCDPljtfAUGcSaQbtYNbI48YF3Smx/uANIAjKIV2bnlY3AAAAAASUVORK5CYII=\n",
       "\" style=\"display:inline;vertical-align:middle;\" /></a><br>"
      ],
      "text/plain": [
       "aPrime: a'"
      ]
     },
     "execution_count": 105,
     "metadata": {},
     "output_type": "execute_result"
    }
   ],
   "source": [
    "aPrime = Variable(\"a'\")"
   ]
  },
  {
   "cell_type": "code",
   "execution_count": 106,
   "metadata": {},
   "outputs": [
    {
     "data": {
      "text/html": [
       "<strong id=\"bPrime\">bPrime:</strong> <a class=\"ProveItLink\" href=\"__pv_it/7958e36219d215089feeaaaeb965eb84769264750/expr.ipynb\"><img src=\"data:image/png;base64,iVBORw0KGgoAAAANSUhEUgAAAA4AAAASBAMAAACZcvICAAAAMFBMVEX////MzMyYmJjc3NyIiIhU\n",
       "VFR2dna6urqqqqpmZmYyMjIiIiIQEBBERETu7u4AAACIO4EmAAAAAXRSTlMAQObYZgAAAGxJREFU\n",
       "CNdjYEAG7B8hNOc/CM0zgYHvzgYGBnkDBgauCQwMqUAx/gYGho1Auv4BA/MCIJ0NxEBphqUuM0Ba\n",
       "+H49eA/icvxj4HcAGbWA4X0CA1h7fQNIuwLD/AcguoDvEEg9qwLvBLC+KUkgCgAO9ReSeNAcRAAA\n",
       "AABJRU5ErkJggg==\n",
       "\" style=\"display:inline;vertical-align:middle;\" /></a><br>"
      ],
      "text/plain": [
       "bPrime: b'"
      ]
     },
     "execution_count": 106,
     "metadata": {},
     "output_type": "execute_result"
    }
   ],
   "source": [
    "bPrime = Variable(\"b'\")"
   ]
  },
  {
   "cell_type": "code",
   "execution_count": 107,
   "metadata": {},
   "outputs": [
    {
     "name": "stdout",
     "output_type": "stream",
     "text": [
      "Common expressions may be imported from autogenerated _common_.py\n"
     ]
    }
   ],
   "source": [
    "%end common"
   ]
  },
  {
   "cell_type": "code",
   "execution_count": null,
   "metadata": {},
   "outputs": [],
   "source": []
  }
 ],
 "metadata": {
  "kernelspec": {
   "display_name": "Python 3",
   "language": "python",
   "name": "python3"
  }
 },
 "nbformat": 4,
 "nbformat_minor": 0
}
