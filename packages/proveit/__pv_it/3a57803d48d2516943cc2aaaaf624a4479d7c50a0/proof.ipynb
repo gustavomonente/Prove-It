{
 "cells": [
  {
   "cell_type": "markdown",
   "metadata": {},
   "source": [
    "Show the Proof\n",
    "========"
   ]
  },
  {
   "cell_type": "code",
   "execution_count": 1,
   "metadata": {},
   "outputs": [
    {
     "data": {
      "text/html": [
       "<table><tr><th>&nbsp;</th><th>step type</th><th>requirements</th><th>statement</th></tr>\n",
       "<tr><td><a name=\"proveit.3a57803d48d2516943cc2aaaaf624a4479d7c50a0_step0\">0</a></td><td>instantiation</td><td><a href=\"#proveit.3a57803d48d2516943cc2aaaaf624a4479d7c50a0_step1\">1</a>, <a href=\"#proveit.3a57803d48d2516943cc2aaaaf624a4479d7c50a0_step2\">2</a>, <a href=\"#proveit.3a57803d48d2516943cc2aaaaf624a4479d7c50a0_step3\">3</a></td><td><span style=\"font-size:20px;\"><a class=\"ProveItLink\" href=\"../e6fe74fcd27e8fe6b7c771b672bb7d8825b5a9bd0/expr.ipynb\"><img src=\"../e6fe74fcd27e8fe6b7c771b672bb7d8825b5a9bd0/expr.png\" style=\"display:inline;vertical-align:middle;\" /></a> <a class=\"ProveItLink\" href=\"proof.ipynb\" style=\"text-decoration: none\">&#x22A2;&nbsp;</a><a class=\"ProveItLink\" href=\"../8f4534f2d0cd8231a9b8a1771e8be76aa52adea40/expr.ipynb\"><img src=\"../8f4534f2d0cd8231a9b8a1771e8be76aa52adea40/expr.png\" style=\"display:inline;vertical-align:middle;\" /></a></span></td></tr>\n",
       "<tr><td>&nbsp;</td><td colspan=4 style=\"text-align:left\"><span style=\"font-size:20px;\"><a class=\"ProveItLink\" href=\"../390c91a44e60b16c95d2255652741252e8ec8d980/expr.ipynb\"><img src=\"../390c91a44e60b16c95d2255652741252e8ec8d980/expr.png\" style=\"display:inline;vertical-align:middle;\" /></a> : <a class=\"ProveItLink\" href=\"../dcb5a3e430485237dfe486162b026a4affb149300/expr.ipynb\"><img src=\"../dcb5a3e430485237dfe486162b026a4affb149300/expr.png\" style=\"display:inline;vertical-align:middle;\" /></a>, <a class=\"ProveItLink\" href=\"../dbe7145e53d9411a5ba89652cbfea9d54e4b581a0/expr.ipynb\"><img src=\"../dbe7145e53d9411a5ba89652cbfea9d54e4b581a0/expr.png\" style=\"display:inline;vertical-align:middle;\" /></a> : <a class=\"ProveItLink\" href=\"../8f4534f2d0cd8231a9b8a1771e8be76aa52adea40/expr.ipynb\"><img src=\"../8f4534f2d0cd8231a9b8a1771e8be76aa52adea40/expr.png\" style=\"display:inline;vertical-align:middle;\" /></a></span></td></tr><tr><td><a name=\"proveit.3a57803d48d2516943cc2aaaaf624a4479d7c50a0_step1\">1</a></td><td><i>reference</i></td><td><a href=\"#proveit.3a57803d48d2516943cc2aaaaf624a4479d7c50a0_step6\">6</a></td><td><span style=\"font-size:20px;\"> <a class=\"ProveItLink\" href=\"../../logic/equality/_proofs_/rhsViaEquivalence.ipynb\" style=\"text-decoration: none\">&#x22A2;&nbsp;</a><a class=\"ProveItLink\" href=\"../6373e7d9cde832b42207e2074d16f967a4f1afda0/expr.ipynb\"><img src=\"../6373e7d9cde832b42207e2074d16f967a4f1afda0/expr.png\" style=\"display:inline;vertical-align:middle;\" /></a></span></td></tr>\n",
       "<tr><td><a name=\"proveit.3a57803d48d2516943cc2aaaaf624a4479d7c50a0_step2\">2</a></td><td>modus ponens</td><td><a href=\"#proveit.3a57803d48d2516943cc2aaaaf624a4479d7c50a0_step4\">4</a>, <a href=\"#proveit.3a57803d48d2516943cc2aaaaf624a4479d7c50a0_step5\">5</a></td><td><span style=\"font-size:20px;\"><a class=\"ProveItLink\" href=\"../6adc1f542317653ff2efeedcde029fcdda099ec10/expr.ipynb\"><img src=\"../6adc1f542317653ff2efeedcde029fcdda099ec10/expr.png\" style=\"display:inline;vertical-align:middle;\" /></a> <a class=\"ProveItLink\" href=\"../ec0ee18a75ea312e5852c8fea1ceae42eb897f750/proof.ipynb\" style=\"text-decoration: none\">&#x22A2;&nbsp;</a><a class=\"ProveItLink\" href=\"../dcb5a3e430485237dfe486162b026a4affb149300/expr.ipynb\"><img src=\"../dcb5a3e430485237dfe486162b026a4affb149300/expr.png\" style=\"display:inline;vertical-align:middle;\" /></a></span></td></tr>\n",
       "<tr><td><a name=\"proveit.3a57803d48d2516943cc2aaaaf624a4479d7c50a0_step3\">3</a></td><td>assumption</td><td></td><td><span style=\"font-size:20px;\"><a class=\"ProveItLink\" href=\"../54d94b892a289237d12e6456429c13100ee5aca50/expr.ipynb\"><img src=\"../54d94b892a289237d12e6456429c13100ee5aca50/expr.png\" style=\"display:inline;vertical-align:middle;\" /></a> <a class=\"ProveItLink\" href=\"../fd9b51cbf71144ec7eee62575d407154b0dea3ae0/proof.ipynb\" style=\"text-decoration: none\">&#x22A2;&nbsp;</a><a class=\"ProveItLink\" href=\"../8e53762faf01bcfc361bec956ceb5df80443ab520/expr.ipynb\"><img src=\"../8e53762faf01bcfc361bec956ceb5df80443ab520/expr.png\" style=\"display:inline;vertical-align:middle;\" /></a></span></td></tr>\n",
       "<tr><td><a name=\"proveit.3a57803d48d2516943cc2aaaaf624a4479d7c50a0_step4\">4</a></td><td>assumption</td><td></td><td><span style=\"font-size:20px;\"><a class=\"ProveItLink\" href=\"../9d1ab999602c200f3e12a856e529e8db882f04200/expr.ipynb\"><img src=\"../9d1ab999602c200f3e12a856e529e8db882f04200/expr.png\" style=\"display:inline;vertical-align:middle;\" /></a> <a class=\"ProveItLink\" href=\"../e5b268c2e24bb226093901075406c9e934932ca90/proof.ipynb\" style=\"text-decoration: none\">&#x22A2;&nbsp;</a><a class=\"ProveItLink\" href=\"../45ab3be324b603892f5fcf28689f603b1ee23bc00/expr.ipynb\"><img src=\"../45ab3be324b603892f5fcf28689f603b1ee23bc00/expr.png\" style=\"display:inline;vertical-align:middle;\" /></a></span></td></tr>\n",
       "<tr><td><a name=\"proveit.3a57803d48d2516943cc2aaaaf624a4479d7c50a0_step5\">5</a></td><td>instantiation</td><td><a href=\"#proveit.3a57803d48d2516943cc2aaaaf624a4479d7c50a0_step6\">6</a>, <a href=\"#proveit.3a57803d48d2516943cc2aaaaf624a4479d7c50a0_step7\">7</a>, <a href=\"#proveit.3a57803d48d2516943cc2aaaaf624a4479d7c50a0_step8\">8</a></td><td><span style=\"font-size:20px;\"><a class=\"ProveItLink\" href=\"../38d986ff95327393d0495ed54b1cc2be1ef4fa580/expr.ipynb\"><img src=\"../38d986ff95327393d0495ed54b1cc2be1ef4fa580/expr.png\" style=\"display:inline;vertical-align:middle;\" /></a> <a class=\"ProveItLink\" href=\"../59f4d73363b4c0d70e2ec58dd8c0d4ad5fb9ab2e0/proof.ipynb\" style=\"text-decoration: none\">&#x22A2;&nbsp;</a><a class=\"ProveItLink\" href=\"../4d98b438710c5ada9ffa4646bb123a7d0e69ec000/expr.ipynb\"><img src=\"../4d98b438710c5ada9ffa4646bb123a7d0e69ec000/expr.png\" style=\"display:inline;vertical-align:middle;\" /></a></span></td></tr>\n",
       "<tr><td>&nbsp;</td><td colspan=4 style=\"text-align:left\"><span style=\"font-size:20px;\"><a class=\"ProveItLink\" href=\"../390c91a44e60b16c95d2255652741252e8ec8d980/expr.ipynb\"><img src=\"../390c91a44e60b16c95d2255652741252e8ec8d980/expr.png\" style=\"display:inline;vertical-align:middle;\" /></a> : <a class=\"ProveItLink\" href=\"../d3792d0d8642fdf1cd2a3a9b32c673ee13653de00/expr.ipynb\"><img src=\"../d3792d0d8642fdf1cd2a3a9b32c673ee13653de00/expr.png\" style=\"display:inline;vertical-align:middle;\" /></a>, <a class=\"ProveItLink\" href=\"../dbe7145e53d9411a5ba89652cbfea9d54e4b581a0/expr.ipynb\"><img src=\"../dbe7145e53d9411a5ba89652cbfea9d54e4b581a0/expr.png\" style=\"display:inline;vertical-align:middle;\" /></a> : <a class=\"ProveItLink\" href=\"../4d98b438710c5ada9ffa4646bb123a7d0e69ec000/expr.ipynb\"><img src=\"../4d98b438710c5ada9ffa4646bb123a7d0e69ec000/expr.png\" style=\"display:inline;vertical-align:middle;\" /></a></span></td></tr><tr><td><a name=\"proveit.3a57803d48d2516943cc2aaaaf624a4479d7c50a0_step6\">6</a></td><td>theorem</td><td></td><td><span style=\"font-size:20px;\"> <a class=\"ProveItLink\" href=\"../../logic/equality/_proofs_/rhsViaEquivalence.ipynb\" style=\"text-decoration: none\">&#x22A2;&nbsp;</a><a class=\"ProveItLink\" href=\"../6373e7d9cde832b42207e2074d16f967a4f1afda0/expr.ipynb\"><img src=\"../6373e7d9cde832b42207e2074d16f967a4f1afda0/expr.png\" style=\"display:inline;vertical-align:middle;\" /></a></span></td></tr>\n",
       "<tr><td>&nbsp;</td><td colspan=4 style-\"text-align:left\"><a class=\"ProveItLink\" href=\"../../logic/equality/_proofs_/rhsViaEquivalence.ipynb\">proveit.logic.equality.rhsViaEquivalence</a></td></tr><tr><td><a name=\"proveit.3a57803d48d2516943cc2aaaaf624a4479d7c50a0_step7\">7</a></td><td>assumption</td><td></td><td><span style=\"font-size:20px;\"><a class=\"ProveItLink\" href=\"../b1617761ccdd9c5f28cb70485bcdc3e8137593900/expr.ipynb\"><img src=\"../b1617761ccdd9c5f28cb70485bcdc3e8137593900/expr.png\" style=\"display:inline;vertical-align:middle;\" /></a> <a class=\"ProveItLink\" href=\"../f0638c8caedda055565455f9590451a4441a79510/proof.ipynb\" style=\"text-decoration: none\">&#x22A2;&nbsp;</a><a class=\"ProveItLink\" href=\"../d3792d0d8642fdf1cd2a3a9b32c673ee13653de00/expr.ipynb\"><img src=\"../d3792d0d8642fdf1cd2a3a9b32c673ee13653de00/expr.png\" style=\"display:inline;vertical-align:middle;\" /></a></span></td></tr>\n",
       "<tr><td><a name=\"proveit.3a57803d48d2516943cc2aaaaf624a4479d7c50a0_step8\">8</a></td><td>assumption</td><td></td><td><span style=\"font-size:20px;\"><a class=\"ProveItLink\" href=\"../6bd36a62c08745ba0d05d0378381c45f91e9656a0/expr.ipynb\"><img src=\"../6bd36a62c08745ba0d05d0378381c45f91e9656a0/expr.png\" style=\"display:inline;vertical-align:middle;\" /></a> <a class=\"ProveItLink\" href=\"../cf41ae114da47f3297c4d5c81068e16a582b82d30/proof.ipynb\" style=\"text-decoration: none\">&#x22A2;&nbsp;</a><a class=\"ProveItLink\" href=\"../eb978f2c3baa461acc2e0a3fe8e42765e304c8dd0/expr.ipynb\"><img src=\"../eb978f2c3baa461acc2e0a3fe8e42765e304c8dd0/expr.png\" style=\"display:inline;vertical-align:middle;\" /></a></span></td></tr>\n",
       "</table>"
      ],
      "text/plain": [
       "<proveit._core_.proof._ShowProof at 0x7f5b9b48f8d0>"
      ]
     },
     "execution_count": 1,
     "metadata": {},
     "output_type": "execute_result"
    }
   ],
   "source": [
    "import proveit\n",
    "# Automation is not needed when only showing a stored proof:\n",
    "proveit.defaults.automation = False # This will speed things up.\n",
    "proveit.defaults.inline_pngs = False # Makes files smaller.\n",
    "%show_proof"
   ]
  },
  {
   "cell_type": "code",
   "execution_count": null,
   "metadata": {},
   "outputs": [],
   "source": []
  }
 ],
 "metadata": {
  "kernelspec": {
   "display_name": "Python 3",
   "language": "python",
   "name": "python3"
  },
  "language_info": {
   "codemirror_mode": {
    "name": "ipython",
    "version": 3
   },
   "file_extension": ".py",
   "mimetype": "text/x-python",
   "name": "python",
   "nbconvert_exporter": "python",
   "pygments_lexer": "ipython3",
   "version": "3.7.3"
  }
 },
 "nbformat": 4,
 "nbformat_minor": 1
}
