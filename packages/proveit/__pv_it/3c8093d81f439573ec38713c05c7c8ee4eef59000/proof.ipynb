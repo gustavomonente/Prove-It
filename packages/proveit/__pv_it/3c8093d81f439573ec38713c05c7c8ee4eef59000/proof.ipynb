{
 "cells": [
  {
   "cell_type": "markdown",
   "metadata": {},
   "source": [
    "Show the Proof\n",
    "========"
   ]
  },
  {
   "cell_type": "code",
   "execution_count": 1,
   "metadata": {},
   "outputs": [
    {
     "data": {
      "text/html": [
       "<table><tr><th>&nbsp;</th><th>step type</th><th>requirements</th><th>statement</th></tr>\n",
       "<tr><td><a name=\"proveit.3c8093d81f439573ec38713c05c7c8ee4eef59000_step0\">0</a></td><td>instantiation</td><td><a href=\"#proveit.3c8093d81f439573ec38713c05c7c8ee4eef59000_step1\">1</a>, <a href=\"#proveit.3c8093d81f439573ec38713c05c7c8ee4eef59000_step2\">2</a>, <a href=\"#proveit.3c8093d81f439573ec38713c05c7c8ee4eef59000_step3\">3</a></td><td><span style=\"font-size:20px;\"><a class=\"ProveItLink\" href=\"../642ca6eb4b3c7de5639a2b229437277d06131bf40/expr.ipynb\"><img src=\"../642ca6eb4b3c7de5639a2b229437277d06131bf40/expr.png\" style=\"display:inline;vertical-align:middle;\" /></a> <a class=\"ProveItLink\" href=\"proof.ipynb\" style=\"text-decoration: none\">&#x22A2;&nbsp;</a><a class=\"ProveItLink\" href=\"../8f4534f2d0cd8231a9b8a1771e8be76aa52adea40/expr.ipynb\"><img src=\"../8f4534f2d0cd8231a9b8a1771e8be76aa52adea40/expr.png\" style=\"display:inline;vertical-align:middle;\" /></a></span></td></tr>\n",
       "<tr><td>&nbsp;</td><td colspan=4 style=\"text-align:left\"><span style=\"font-size:20px;\"><a class=\"ProveItLink\" href=\"../390c91a44e60b16c95d2255652741252e8ec8d980/expr.ipynb\"><img src=\"../390c91a44e60b16c95d2255652741252e8ec8d980/expr.png\" style=\"display:inline;vertical-align:middle;\" /></a> : <a class=\"ProveItLink\" href=\"../dcb5a3e430485237dfe486162b026a4affb149300/expr.ipynb\"><img src=\"../dcb5a3e430485237dfe486162b026a4affb149300/expr.png\" style=\"display:inline;vertical-align:middle;\" /></a>, <a class=\"ProveItLink\" href=\"../dbe7145e53d9411a5ba89652cbfea9d54e4b581a0/expr.ipynb\"><img src=\"../dbe7145e53d9411a5ba89652cbfea9d54e4b581a0/expr.png\" style=\"display:inline;vertical-align:middle;\" /></a> : <a class=\"ProveItLink\" href=\"../8f4534f2d0cd8231a9b8a1771e8be76aa52adea40/expr.ipynb\"><img src=\"../8f4534f2d0cd8231a9b8a1771e8be76aa52adea40/expr.png\" style=\"display:inline;vertical-align:middle;\" /></a></span></td></tr><tr><td><a name=\"proveit.3c8093d81f439573ec38713c05c7c8ee4eef59000_step1\">1</a></td><td>theorem</td><td></td><td><span style=\"font-size:20px;\"> <a class=\"ProveItLink\" href=\"../../logic/equality/_proofs_/rhsViaEquivalence.ipynb\" style=\"text-decoration: none\">&#x22A2;&nbsp;</a><a class=\"ProveItLink\" href=\"../6373e7d9cde832b42207e2074d16f967a4f1afda0/expr.ipynb\"><img src=\"../6373e7d9cde832b42207e2074d16f967a4f1afda0/expr.png\" style=\"display:inline;vertical-align:middle;\" /></a></span></td></tr>\n",
       "<tr><td>&nbsp;</td><td colspan=4 style-\"text-align:left\"><a class=\"ProveItLink\" href=\"../../logic/equality/_proofs_/rhsViaEquivalence.ipynb\">proveit.logic.equality.rhsViaEquivalence</a></td></tr><tr><td><a name=\"proveit.3c8093d81f439573ec38713c05c7c8ee4eef59000_step2\">2</a></td><td>modus ponens</td><td><a href=\"#proveit.3c8093d81f439573ec38713c05c7c8ee4eef59000_step4\">4</a>, <a href=\"#proveit.3c8093d81f439573ec38713c05c7c8ee4eef59000_step5\">5</a></td><td><span style=\"font-size:20px;\"><a class=\"ProveItLink\" href=\"../2fafaa9900b85dec79e2c800a9bc2f9b1d62b1e00/expr.ipynb\"><img src=\"../2fafaa9900b85dec79e2c800a9bc2f9b1d62b1e00/expr.png\" style=\"display:inline;vertical-align:middle;\" /></a> <a class=\"ProveItLink\" href=\"../3c0cff4942c871781a8f552e2a87d8e21c8c002d0/proof.ipynb\" style=\"text-decoration: none\">&#x22A2;&nbsp;</a><a class=\"ProveItLink\" href=\"../dcb5a3e430485237dfe486162b026a4affb149300/expr.ipynb\"><img src=\"../dcb5a3e430485237dfe486162b026a4affb149300/expr.png\" style=\"display:inline;vertical-align:middle;\" /></a></span></td></tr>\n",
       "<tr><td><a name=\"proveit.3c8093d81f439573ec38713c05c7c8ee4eef59000_step3\">3</a></td><td>assumption</td><td></td><td><span style=\"font-size:20px;\"><a class=\"ProveItLink\" href=\"../54d94b892a289237d12e6456429c13100ee5aca50/expr.ipynb\"><img src=\"../54d94b892a289237d12e6456429c13100ee5aca50/expr.png\" style=\"display:inline;vertical-align:middle;\" /></a> <a class=\"ProveItLink\" href=\"../fd9b51cbf71144ec7eee62575d407154b0dea3ae0/proof.ipynb\" style=\"text-decoration: none\">&#x22A2;&nbsp;</a><a class=\"ProveItLink\" href=\"../8e53762faf01bcfc361bec956ceb5df80443ab520/expr.ipynb\"><img src=\"../8e53762faf01bcfc361bec956ceb5df80443ab520/expr.png\" style=\"display:inline;vertical-align:middle;\" /></a></span></td></tr>\n",
       "<tr><td><a name=\"proveit.3c8093d81f439573ec38713c05c7c8ee4eef59000_step4\">4</a></td><td>assumption</td><td></td><td><span style=\"font-size:20px;\"><a class=\"ProveItLink\" href=\"../9d1ab999602c200f3e12a856e529e8db882f04200/expr.ipynb\"><img src=\"../9d1ab999602c200f3e12a856e529e8db882f04200/expr.png\" style=\"display:inline;vertical-align:middle;\" /></a> <a class=\"ProveItLink\" href=\"../e5b268c2e24bb226093901075406c9e934932ca90/proof.ipynb\" style=\"text-decoration: none\">&#x22A2;&nbsp;</a><a class=\"ProveItLink\" href=\"../45ab3be324b603892f5fcf28689f603b1ee23bc00/expr.ipynb\"><img src=\"../45ab3be324b603892f5fcf28689f603b1ee23bc00/expr.png\" style=\"display:inline;vertical-align:middle;\" /></a></span></td></tr>\n",
       "<tr><td><a name=\"proveit.3c8093d81f439573ec38713c05c7c8ee4eef59000_step5\">5</a></td><td>assumption</td><td></td><td><span style=\"font-size:20px;\"><a class=\"ProveItLink\" href=\"../0cbf1c736a45fc63cca0356cf2e5cee1169b75b70/expr.ipynb\"><img src=\"../0cbf1c736a45fc63cca0356cf2e5cee1169b75b70/expr.png\" style=\"display:inline;vertical-align:middle;\" /></a> <a class=\"ProveItLink\" href=\"../689dc291f132a89eab3cd819b038e5c81f4059590/proof.ipynb\" style=\"text-decoration: none\">&#x22A2;&nbsp;</a><a class=\"ProveItLink\" href=\"../4d98b438710c5ada9ffa4646bb123a7d0e69ec000/expr.ipynb\"><img src=\"../4d98b438710c5ada9ffa4646bb123a7d0e69ec000/expr.png\" style=\"display:inline;vertical-align:middle;\" /></a></span></td></tr>\n",
       "</table>"
      ],
      "text/plain": [
       "<proveit._core_.proof._ShowProof at 0x7f5b86fe48d0>"
      ]
     },
     "execution_count": 1,
     "metadata": {},
     "output_type": "execute_result"
    }
   ],
   "source": [
    "import proveit\n",
    "# Automation is not needed when only showing a stored proof:\n",
    "proveit.defaults.automation = False # This will speed things up.\n",
    "proveit.defaults.inline_pngs = False # Makes files smaller.\n",
    "%show_proof"
   ]
  },
  {
   "cell_type": "code",
   "execution_count": null,
   "metadata": {},
   "outputs": [],
   "source": []
  }
 ],
 "metadata": {
  "kernelspec": {
   "display_name": "Python 3",
   "language": "python",
   "name": "python3"
  },
  "language_info": {
   "codemirror_mode": {
    "name": "ipython",
    "version": 3
   },
   "file_extension": ".py",
   "mimetype": "text/x-python",
   "name": "python",
   "nbconvert_exporter": "python",
   "pygments_lexer": "ipython3",
   "version": "3.7.3"
  }
 },
 "nbformat": 4,
 "nbformat_minor": 1
}
