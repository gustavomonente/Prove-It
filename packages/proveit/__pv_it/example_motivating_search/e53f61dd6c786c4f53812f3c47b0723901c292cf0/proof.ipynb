{
 "cells": [
  {
   "cell_type": "markdown",
   "metadata": {},
   "source": [
    "Show the Proof\n",
    "========"
   ]
  },
  {
   "cell_type": "code",
   "execution_count": 1,
   "metadata": {},
   "outputs": [
    {
     "data": {
      "text/html": [
       "<table><tr><th>&nbsp;</th><th>step type</th><th>requirements</th><th>statement</th></tr>\n",
       "<tr><td><a name=\"proveit.example_motivating_search.e53f61dd6c786c4f53812f3c47b0723901c292cf0_step0\">0</a></td><td>modus ponens</td><td><a href=\"#proveit.example_motivating_search.e53f61dd6c786c4f53812f3c47b0723901c292cf0_step1\">1</a>, <a href=\"#proveit.example_motivating_search.e53f61dd6c786c4f53812f3c47b0723901c292cf0_step2\">2</a></td><td><span style=\"font-size:20px;\"><a class=\"ProveItLink\" href=\"../../common/e4aad701f7f5516d8e7f0d805d518bf02c13322a0/expr.ipynb\"><img src=\"../../common/e4aad701f7f5516d8e7f0d805d518bf02c13322a0/expr.png\" style=\"display:inline;vertical-align:middle;\" /></a>, <a class=\"ProveItLink\" href=\"../e8214fb40836b7976e9856e59c9e1c7783789c870/expr.ipynb\"><img src=\"../e8214fb40836b7976e9856e59c9e1c7783789c870/expr.png\" style=\"display:inline;vertical-align:middle;\" /></a>, <a class=\"ProveItLink\" href=\"../1123b5b0fddc98ec39e485113e83886c16f4d2330/expr.ipynb\"><img src=\"../1123b5b0fddc98ec39e485113e83886c16f4d2330/expr.png\" style=\"display:inline;vertical-align:middle;\" /></a> <a class=\"ProveItLink\" href=\"proof.ipynb\" style=\"text-decoration: none\">&nbsp;&#x22A2;&nbsp;&nbsp;</a><a class=\"ProveItLink\" href=\"../../common/c4a83a53f0ed6678b0c7a2d6d691a4b400f735c90/expr.ipynb\"><img src=\"../../common/c4a83a53f0ed6678b0c7a2d6d691a4b400f735c90/expr.png\" style=\"display:inline;vertical-align:middle;\" /></a></span></td></tr>\n",
       "<tr><td><a name=\"proveit.example_motivating_search.e53f61dd6c786c4f53812f3c47b0723901c292cf0_step1\">1</a></td><td>assumption</td><td></td><td><span style=\"font-size:20px;\"><a class=\"ProveItLink\" href=\"../1123b5b0fddc98ec39e485113e83886c16f4d2330/expr.ipynb\"><img src=\"../1123b5b0fddc98ec39e485113e83886c16f4d2330/expr.png\" style=\"display:inline;vertical-align:middle;\" /></a> <a class=\"ProveItLink\" href=\"../2d003daf836edfc04d874fe68ceeaab1a41533340/proof.ipynb\" style=\"text-decoration: none\">&nbsp;&#x22A2;&nbsp;&nbsp;</a><a class=\"ProveItLink\" href=\"../1123b5b0fddc98ec39e485113e83886c16f4d2330/expr.ipynb\"><img src=\"../1123b5b0fddc98ec39e485113e83886c16f4d2330/expr.png\" style=\"display:inline;vertical-align:middle;\" /></a></span></td></tr>\n",
       "<tr><td><a name=\"proveit.example_motivating_search.e53f61dd6c786c4f53812f3c47b0723901c292cf0_step2\">2</a></td><td>instantiation</td><td><a href=\"#proveit.example_motivating_search.e53f61dd6c786c4f53812f3c47b0723901c292cf0_step3\">3</a>, <a href=\"#proveit.example_motivating_search.e53f61dd6c786c4f53812f3c47b0723901c292cf0_step4\">4</a>, <a href=\"#proveit.example_motivating_search.e53f61dd6c786c4f53812f3c47b0723901c292cf0_step5\">5</a></td><td><span style=\"font-size:20px;\"><a class=\"ProveItLink\" href=\"../../common/e4aad701f7f5516d8e7f0d805d518bf02c13322a0/expr.ipynb\"><img src=\"../../common/e4aad701f7f5516d8e7f0d805d518bf02c13322a0/expr.png\" style=\"display:inline;vertical-align:middle;\" /></a>, <a class=\"ProveItLink\" href=\"../e8214fb40836b7976e9856e59c9e1c7783789c870/expr.ipynb\"><img src=\"../e8214fb40836b7976e9856e59c9e1c7783789c870/expr.png\" style=\"display:inline;vertical-align:middle;\" /></a> <a class=\"ProveItLink\" href=\"../2a2b75d9c654610e941e55a2e989bfef192f90b00/proof.ipynb\" style=\"text-decoration: none\">&nbsp;&#x22A2;&nbsp;&nbsp;</a><a class=\"ProveItLink\" href=\"../../common/4eca3b30dcf58a58494e201d1b7886d8643a617b0/expr.ipynb\"><img src=\"../../common/4eca3b30dcf58a58494e201d1b7886d8643a617b0/expr.png\" style=\"display:inline;vertical-align:middle;\" /></a></span></td></tr>\n",
       "<tr><td>&nbsp;</td><td colspan=4 style=\"text-align:left\"><span style=\"font-size:20px;\"><a class=\"ProveItLink\" href=\"../../common/d5fc3066299847984076662ce51556220bdb6cfb0/expr.ipynb\"><img src=\"../../common/d5fc3066299847984076662ce51556220bdb6cfb0/expr.png\" style=\"display:inline;vertical-align:middle;\" /></a> : <a class=\"ProveItLink\" href=\"../../common/e4aad701f7f5516d8e7f0d805d518bf02c13322a0/expr.ipynb\"><img src=\"../../common/e4aad701f7f5516d8e7f0d805d518bf02c13322a0/expr.png\" style=\"display:inline;vertical-align:middle;\" /></a>, <a class=\"ProveItLink\" href=\"../../common/50527aea954422d65ebe44b8de200683294751540/expr.ipynb\"><img src=\"../../common/50527aea954422d65ebe44b8de200683294751540/expr.png\" style=\"display:inline;vertical-align:middle;\" /></a> : <a class=\"ProveItLink\" href=\"../../common/4eca3b30dcf58a58494e201d1b7886d8643a617b0/expr.ipynb\"><img src=\"../../common/4eca3b30dcf58a58494e201d1b7886d8643a617b0/expr.png\" style=\"display:inline;vertical-align:middle;\" /></a></span></td></tr><tr><td><a name=\"proveit.example_motivating_search.e53f61dd6c786c4f53812f3c47b0723901c292cf0_step3\">3</a></td><td>theorem</td><td></td><td><span style=\"font-size:20px;\"> <a class=\"ProveItLink\" href=\"../../../logic/equality/_theory_nbs_/proofs/rhs_via_equality/thm_proof.ipynb\" style=\"text-decoration: none\">&nbsp;&#x22A2;&nbsp;&nbsp;</a><a class=\"ProveItLink\" href=\"../../../logic/equality/__pv_it/theorems/05e66cbd347a7127d5119c3c454fa90d2e3f9bae0/expr.ipynb\"><img src=\"../../../logic/equality/__pv_it/theorems/05e66cbd347a7127d5119c3c454fa90d2e3f9bae0/expr.png\" style=\"display:inline;vertical-align:middle;\" /></a></span></td></tr>\n",
       "<tr><td>&nbsp;</td><td colspan=4 style-\"text-align:left\"><a class=\"ProveItLink\" href=\"../../../logic/equality/_theory_nbs_/proofs/rhs_via_equality/thm_proof.ipynb\">proveit.logic.equality.rhs_via_equality</a></td></tr><tr><td><a name=\"proveit.example_motivating_search.e53f61dd6c786c4f53812f3c47b0723901c292cf0_step4\">4</a></td><td>assumption</td><td></td><td><span style=\"font-size:20px;\"><a class=\"ProveItLink\" href=\"../../common/e4aad701f7f5516d8e7f0d805d518bf02c13322a0/expr.ipynb\"><img src=\"../../common/e4aad701f7f5516d8e7f0d805d518bf02c13322a0/expr.png\" style=\"display:inline;vertical-align:middle;\" /></a> <a class=\"ProveItLink\" href=\"../ab6fe9df9be61f029f64b088daf33e49288c4d9e0/proof.ipynb\" style=\"text-decoration: none\">&nbsp;&#x22A2;&nbsp;&nbsp;</a><a class=\"ProveItLink\" href=\"../../common/e4aad701f7f5516d8e7f0d805d518bf02c13322a0/expr.ipynb\"><img src=\"../../common/e4aad701f7f5516d8e7f0d805d518bf02c13322a0/expr.png\" style=\"display:inline;vertical-align:middle;\" /></a></span></td></tr>\n",
       "<tr><td><a name=\"proveit.example_motivating_search.e53f61dd6c786c4f53812f3c47b0723901c292cf0_step5\">5</a></td><td>assumption</td><td></td><td><span style=\"font-size:20px;\"><a class=\"ProveItLink\" href=\"../e8214fb40836b7976e9856e59c9e1c7783789c870/expr.ipynb\"><img src=\"../e8214fb40836b7976e9856e59c9e1c7783789c870/expr.png\" style=\"display:inline;vertical-align:middle;\" /></a> <a class=\"ProveItLink\" href=\"../7c4e1fa3f95ba93aa26413e394bd75af5be2649b0/proof.ipynb\" style=\"text-decoration: none\">&nbsp;&#x22A2;&nbsp;&nbsp;</a><a class=\"ProveItLink\" href=\"../e8214fb40836b7976e9856e59c9e1c7783789c870/expr.ipynb\"><img src=\"../e8214fb40836b7976e9856e59c9e1c7783789c870/expr.png\" style=\"display:inline;vertical-align:middle;\" /></a></span></td></tr>\n",
       "</table>"
      ],
      "text/plain": [
       "<proveit._core_.proof._ShowProof at 0x7fab8c387898>"
      ]
     },
     "execution_count": 1,
     "metadata": {},
     "output_type": "execute_result"
    }
   ],
   "source": [
    "import proveit\n",
    "# Automation is not needed when only showing a stored proof:\n",
    "proveit.defaults.automation = False # This will speed things up.\n",
    "proveit.defaults.inline_pngs = False # Makes files smaller.\n",
    "%show_proof"
   ]
  },
  {
   "cell_type": "code",
   "execution_count": null,
   "metadata": {},
   "outputs": [],
   "source": []
  }
 ],
 "metadata": {
  "kernelspec": {
   "display_name": "Python 3",
   "language": "python",
   "name": "python3"
  },
  "language_info": {
   "codemirror_mode": {
    "name": "ipython",
    "version": 3
   },
   "file_extension": ".py",
   "mimetype": "text/x-python",
   "name": "python",
   "nbconvert_exporter": "python",
   "pygments_lexer": "ipython3",
   "version": "3.7.3"
  }
 },
 "nbformat": 4,
 "nbformat_minor": 1
}