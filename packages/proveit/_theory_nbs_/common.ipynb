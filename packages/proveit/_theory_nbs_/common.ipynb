{
 "cells": [
  {
   "cell_type": "markdown",
   "metadata": {},
   "source": [
    "Common expressions for the theory of <a class=\"ProveItLink\" href=\"theory.ipynb\">proveit</a>\n",
    "========\n",
    "\n",
    "These are generic common expressions based upon single-symbol Variable names."
   ]
  },
  {
   "cell_type": "code",
   "execution_count": 1,
   "metadata": {},
   "outputs": [],
   "source": [
    "import proveit\n",
    "# Prepare this notebook for defining the common expressions of a theory:\n",
    "%common_expressions_notebook # Keep this at the top following 'import proveit'.\n",
    "from proveit import Variable, Function\n",
    "#%begin common"
   ]
  },
  {
   "cell_type": "code",
   "execution_count": 2,
   "metadata": {},
   "outputs": [
    {
     "name": "stdout",
     "output_type": "stream",
     "text": [
      "Defining common sub-expressions for theory 'proveit'\n",
      "Subsequent end-of-cell assignments will define common sub-expressions\n",
      "%end_common will finalize the definitions\n"
     ]
    }
   ],
   "source": [
    "%begin common"
   ]
  },
  {
   "cell_type": "code",
   "execution_count": 3,
   "metadata": {},
   "outputs": [
    {
     "data": {
      "text/html": [
       "<strong id=\"a\">a:</strong> <a class=\"ProveItLink\" href=\"../__pv_it/common/66c90e66682f107a881f2d666959f64e2e72ad750/common_expr.ipynb\"><img src=\"data:image/png;base64,iVBORw0KGgoAAAANSUhEUgAAAAsAAAAJBAMAAAAWSsseAAAAMFBMVEX///9UVFSqqqrMzMwiIiJE\n",
       "RESYmJgyMjK6urru7u4QEBCIiIh2dnZmZmbc3NwAAABRgo0vAAAAAXRSTlMAQObYZgAAAEdJREFU\n",
       "CNdjYOC7c3slAwND1wP2DwwMnMsYeAMYGHh/MrBsYGDgCmCYb8DAMP8Agz5QxXwFBnGmBwysG9gc\n",
       "eYAqpTc/3MEAAP4BD32xAXDqAAAAAElFTkSuQmCC\n",
       "\" style=\"display:inline;vertical-align:middle;\" /></a><br>"
      ],
      "text/plain": [
       "a: a"
      ]
     },
     "execution_count": 3,
     "metadata": {},
     "output_type": "execute_result"
    }
   ],
   "source": [
    "a = Variable('a')"
   ]
  },
  {
   "cell_type": "code",
   "execution_count": 4,
   "metadata": {},
   "outputs": [
    {
     "data": {
      "text/html": [
       "<strong id=\"b\">b:</strong> <a class=\"ProveItLink\" href=\"../__pv_it/common/4a5db8cc5c67969ec864bd3ea598be37cb6f5e550/common_expr.ipynb\"><img src=\"data:image/png;base64,iVBORw0KGgoAAAANSUhEUgAAAAkAAAAOBAMAAAAPuiubAAAALVBMVEX///+YmJjc3NyIiIhUVFR2\n",
       "dna6urqqqqpmZmYyMjIiIiIQEBBERETu7u4AAAALjtrwAAAAAXRSTlMAQObYZgAAAE9JREFUCNdj\n",
       "4D29gAEIOBtAJF8BiMy7ACKjQATDFON2BgbelxfuKTCwv2XgM2DgmMBwLwCkPK+AgU+Aoe8CA18C\n",
       "70YGBhYBHqARvM2BDAwAqXgQspq5HJAAAAAASUVORK5CYII=\n",
       "\" style=\"display:inline;vertical-align:middle;\" /></a><br>"
      ],
      "text/plain": [
       "b: b"
      ]
     },
     "execution_count": 4,
     "metadata": {},
     "output_type": "execute_result"
    }
   ],
   "source": [
    "b = Variable('b')"
   ]
  },
  {
   "cell_type": "code",
   "execution_count": 5,
   "metadata": {},
   "outputs": [
    {
     "data": {
      "text/html": [
       "<strong id=\"c\">c:</strong> <a class=\"ProveItLink\" href=\"../__pv_it/common/9a9d28748f90dec84e90f2ace4610208194e524e0/common_expr.ipynb\"><img src=\"data:image/png;base64,iVBORw0KGgoAAAANSUhEUgAAAAkAAAAJBAMAAAASvxsjAAAALVBMVEX///+YmJgQEBDu7u5mZmZU\n",
       "VFQyMjJERESqqqoiIiLc3NzMzMyIiIh2dnYAAABuqkWTAAAAAXRSTlMAQObYZgAAADZJREFUCNdj\n",
       "YGC4c2YDA8PKBvYEBoa5DKwNDCyPGYCAqQBE2l0AkXwCDAxA8QAGE6DKu4IHGABBiAr2Gi8OxgAA\n",
       "AABJRU5ErkJggg==\n",
       "\" style=\"display:inline;vertical-align:middle;\" /></a><br>"
      ],
      "text/plain": [
       "c: c"
      ]
     },
     "execution_count": 5,
     "metadata": {},
     "output_type": "execute_result"
    }
   ],
   "source": [
    "c = Variable('c')"
   ]
  },
  {
   "cell_type": "code",
   "execution_count": 6,
   "metadata": {},
   "outputs": [
    {
     "data": {
      "text/html": [
       "<strong id=\"d\">d:</strong> <a class=\"ProveItLink\" href=\"../__pv_it/common/ba27da3f6d5512be14b05498f34744a70c9279220/common_expr.ipynb\"><img src=\"data:image/png;base64,iVBORw0KGgoAAAANSUhEUgAAAAsAAAAOBAMAAAALT/umAAAAMFBMVEX///9UVFSYmJiIiIjc3Nwy\n",
       "MjIiIiJ2dnbu7u66urqqqqpmZmYQEBBERETMzMwAAAAYOWz6AAAAAXRSTlMAQObYZgAAAFpJREFU\n",
       "CNdjYGBg4LuzgQEE+BeAqfkNYKoMTDJEAzHLdrtfQGqOA+8PBgaOQwzcAQwM3D8Y2AoYGHguMPRP\n",
       "YGDoL2BYD1TRv4BBlMuBgdeAKZEdqFLYztGSAQAyzhFdhFkSwwAAAABJRU5ErkJggg==\n",
       "\" style=\"display:inline;vertical-align:middle;\" /></a><br>"
      ],
      "text/plain": [
       "d: d"
      ]
     },
     "execution_count": 6,
     "metadata": {},
     "output_type": "execute_result"
    }
   ],
   "source": [
    "d = Variable('d')"
   ]
  },
  {
   "cell_type": "code",
   "execution_count": 7,
   "metadata": {},
   "outputs": [
    {
     "data": {
      "text/html": [
       "<strong id=\"e\">e:</strong> <a class=\"ProveItLink\" href=\"../__pv_it/common/a475a6c05cb9b679a3c3b5f3e61d3ba651c6c6140/common_expr.ipynb\"><img src=\"data:image/png;base64,iVBORw0KGgoAAAANSUhEUgAAAAkAAAAJBAMAAAASvxsjAAAALVBMVEX///8yMjKYmJhUVFTMzMyq\n",
       "qqoQEBAiIiK6urrc3NxmZmaIiIh2dnbu7u4AAAAQ5FA8AAAAAXRSTlMAQObYZgAAADlJREFUCNdj\n",
       "YOA9vWsCA0P7BM4DDLypDLccGJiTdusyMPAZMAAB3wEQyQ4kNzBwCzDcAqrcpaTAAABiowvgYAOl\n",
       "vwAAAABJRU5ErkJggg==\n",
       "\" style=\"display:inline;vertical-align:middle;\" /></a><br>"
      ],
      "text/plain": [
       "e: e"
      ]
     },
     "execution_count": 7,
     "metadata": {},
     "output_type": "execute_result"
    }
   ],
   "source": [
    "e = Variable('e')"
   ]
  },
  {
   "cell_type": "code",
   "execution_count": 8,
   "metadata": {},
   "outputs": [
    {
     "data": {
      "text/html": [
       "<strong id=\"f\">f:</strong> <a class=\"ProveItLink\" href=\"../__pv_it/common/c03f8781a34c741744d7dee8670bbb5419fe0ac50/common_expr.ipynb\"><img src=\"data:image/png;base64,iVBORw0KGgoAAAANSUhEUgAAAAsAAAASBAMAAAB/WzlGAAAAMFBMVEX///8yMjJERETMzMwQEBCY\n",
       "mJgiIiK6urqqqqp2dnZUVFTc3NyIiIhmZmbu7u4AAADOOTK3AAAAAXRSTlMAQObYZgAAAFNJREFU\n",
       "CNdjYGBgeHt2A5BkWNnfACT5vj8HcTg+gEgGzgQQyXol9wKI5j8AFtxvAKb6wSTDNAilBaF8wCTf\n",
       "dzDFDjVEAUR2MQaAqKSHYLGY2yASAEu1ElmxJIVRAAAAAElFTkSuQmCC\n",
       "\" style=\"display:inline;vertical-align:middle;\" /></a><br>"
      ],
      "text/plain": [
       "f: f"
      ]
     },
     "execution_count": 8,
     "metadata": {},
     "output_type": "execute_result"
    }
   ],
   "source": [
    "f = Variable('f')"
   ]
  },
  {
   "cell_type": "code",
   "execution_count": 9,
   "metadata": {},
   "outputs": [
    {
     "data": {
      "text/html": [
       "<strong id=\"g\">g:</strong> <a class=\"ProveItLink\" href=\"../__pv_it/common/17f4748b91b4dae722cf590e1dfa2fba4b7984ca0/common_expr.ipynb\"><img src=\"data:image/png;base64,iVBORw0KGgoAAAANSUhEUgAAAAoAAAANBAMAAABiGeI2AAAALVBMVEX///+6urpUVFQiIiKYmJjM\n",
       "zMwQEBDu7u7c3Nx2dnZERESIiIhmZmaqqqoAAAB27htHAAAAAXRSTlMAQObYZgAAAFVJREFUCNdj\n",
       "YGC4s/sWAwPnAo43DAz3ChjeMjBkMbA+Z2B9wsBtwMDygoHrAAPvAwa+CwzsLxj0ChgYhHZOZgCB\n",
       "NQwMrAzsDxkY5hUAlTAIeZ9lYAAATJ4TywaLrUwAAAAASUVORK5CYII=\n",
       "\" style=\"display:inline;vertical-align:middle;\" /></a><br>"
      ],
      "text/plain": [
       "g: g"
      ]
     },
     "execution_count": 9,
     "metadata": {},
     "output_type": "execute_result"
    }
   ],
   "source": [
    "g = Variable('g')"
   ]
  },
  {
   "cell_type": "code",
   "execution_count": 10,
   "metadata": {},
   "outputs": [
    {
     "data": {
      "text/html": [
       "<strong id=\"h\">h:</strong> <a class=\"ProveItLink\" href=\"../__pv_it/common/62ea6b8ef24fd0a4fd963fbed7985d4e9614e4f70/common_expr.ipynb\"><img src=\"data:image/png;base64,iVBORw0KGgoAAAANSUhEUgAAAAsAAAAOBAMAAAALT/umAAAAMFBMVEX////MzMxUVFTc3NyIiIiY\n",
       "mJh2dna6urqqqqpmZmYyMjIiIiIQEBBERETu7u4AAADHEPc2AAAAAXRSTlMAQObYZgAAAFhJREFU\n",
       "CNdj4LuzgQEEuCaAKf4GMFX/AExlg0mGla2+BgwMfL8MmBQYGDg+MjBdYGDgXMDA48DAwJ3AYC/A\n",
       "wPC+AKw2noHhGOsDBi0Ghu9sDAxXGRjSHBgAHNIRg56s41MAAAAASUVORK5CYII=\n",
       "\" style=\"display:inline;vertical-align:middle;\" /></a><br>"
      ],
      "text/plain": [
       "h: h"
      ]
     },
     "execution_count": 10,
     "metadata": {},
     "output_type": "execute_result"
    }
   ],
   "source": [
    "h = Variable('h')"
   ]
  },
  {
   "cell_type": "code",
   "execution_count": 11,
   "metadata": {},
   "outputs": [
    {
     "data": {
      "text/html": [
       "<strong id=\"i\">i:</strong> <a class=\"ProveItLink\" href=\"../__pv_it/common/575a6156bb1c87c5beeaf38c302b5905ad57f5780/common_expr.ipynb\"><img src=\"data:image/png;base64,iVBORw0KGgoAAAANSUhEUgAAAAcAAAAOBAMAAAARcxsoAAAAKlBMVEX///8yMjKqqqrc3NwQEBC6\n",
       "urp2dnZmZmaIiIju7u6YmJhERERUVFQAAAAIfTrnAAAAAXRSTlMAQObYZgAAADhJREFUCNdjYGA4\n",
       "zQAEpxjQAWd7AwMDG6sDA4MRuwADwwReIJdBdwKQ2AOSvcTGwMB6wQqkdQEDAPwvCSrC7lmiAAAA\n",
       "AElFTkSuQmCC\n",
       "\" style=\"display:inline;vertical-align:middle;\" /></a><br>"
      ],
      "text/plain": [
       "i: i"
      ]
     },
     "execution_count": 11,
     "metadata": {},
     "output_type": "execute_result"
    }
   ],
   "source": [
    "i = Variable('i')"
   ]
  },
  {
   "cell_type": "code",
   "execution_count": 12,
   "metadata": {},
   "outputs": [
    {
     "data": {
      "text/html": [
       "<strong id=\"j\">j:</strong> <a class=\"ProveItLink\" href=\"../__pv_it/common/5514cc9a63b9c2ed9b63934dd5e088ab0d4f10080/common_expr.ipynb\"><img src=\"data:image/png;base64,iVBORw0KGgoAAAANSUhEUgAAAAoAAAASBAMAAACQmVJ4AAAAMFBMVEX////MzMwyMjIiIiJ2dna6\n",
       "urrc3NxmZmZERESIiIhUVFSYmJju7u4QEBCqqqoAAACA8xhiAAAAAXRSTlMAQObYZgAAAE1JREFU\n",
       "CNdjYGBg4LsDJBi4FzBgAydngMgC3g1AFQn8DxgYeBjiD4CEnMHS6iCC5x+I5PsDItkNQCRzAQMD\n",
       "44F8AQaGfId2IJ9rOlA/AHmNDZhMFHq1AAAAAElFTkSuQmCC\n",
       "\" style=\"display:inline;vertical-align:middle;\" /></a><br>"
      ],
      "text/plain": [
       "j: j"
      ]
     },
     "execution_count": 12,
     "metadata": {},
     "output_type": "execute_result"
    }
   ],
   "source": [
    "j = Variable('j')"
   ]
  },
  {
   "cell_type": "code",
   "execution_count": 13,
   "metadata": {},
   "outputs": [
    {
     "data": {
      "text/html": [
       "<strong id=\"k\">k:</strong> <a class=\"ProveItLink\" href=\"../__pv_it/common/b9fd37fc619babc74a6203459f110251586df6970/common_expr.ipynb\"><img src=\"data:image/png;base64,iVBORw0KGgoAAAANSUhEUgAAAAoAAAAOBAMAAADkjZCYAAAAMFBMVEX////MzMxUVFSIiIjc3NyY\n",
       "mJh2dna6urqqqqpmZmYyMjIiIiIQEBBERETu7u4AAAA59f8xAAAAAXRSTlMAQObYZgAAAE9JREFU\n",
       "CNdj4LuzgQEIuCaASP4GEFn/AERmgwiGlQytUxj4fjC7f2Xg+GfHF8DAeRIkzK18GUi+L/AvYGCI\n",
       "Z3jfkMCgy8AvkMBwg4F58gMA1VoTUDpQu/EAAAAASUVORK5CYII=\n",
       "\" style=\"display:inline;vertical-align:middle;\" /></a><br>"
      ],
      "text/plain": [
       "k: k"
      ]
     },
     "execution_count": 13,
     "metadata": {},
     "output_type": "execute_result"
    }
   ],
   "source": [
    "k = Variable('k')"
   ]
  },
  {
   "cell_type": "code",
   "execution_count": 14,
   "metadata": {},
   "outputs": [
    {
     "data": {
      "text/html": [
       "<strong id=\"l\">l:</strong> <a class=\"ProveItLink\" href=\"../__pv_it/common/5f60d32873626c7ce57e35d1d9e427fb112cfe7a0/common_expr.ipynb\"><img src=\"data:image/png;base64,iVBORw0KGgoAAAANSUhEUgAAAAYAAAAOBAMAAAD+sXAWAAAAKlBMVEX///+6urp2dnbu7u5UVFTc\n",
       "3NwQEBBERERmZmaYmJjMzMwiIiKIiIgAAAAbLTcEAAAAAXRSTlMAQObYZgAAAD9JREFUCNdjYDh9\n",
       "i4GB8wIDA0cBAwPbAQaG2AUMDHMZGBjcgTiHgYHrKgMDTwIDA7uDAQPvBAUGXuEDDJxNDAAx5wn0\n",
       "VrzDlAAAAABJRU5ErkJggg==\n",
       "\" style=\"display:inline;vertical-align:middle;\" /></a><br>"
      ],
      "text/plain": [
       "l: l"
      ]
     },
     "execution_count": 14,
     "metadata": {},
     "output_type": "execute_result"
    }
   ],
   "source": [
    "l = Variable('l')"
   ]
  },
  {
   "cell_type": "code",
   "execution_count": 15,
   "metadata": {},
   "outputs": [
    {
     "data": {
      "text/html": [
       "<strong id=\"m\">m:</strong> <a class=\"ProveItLink\" href=\"../__pv_it/common/2dc4f15b3407a25e8d70754a86bf74f1871f92650/common_expr.ipynb\"><img src=\"data:image/png;base64,iVBORw0KGgoAAAANSUhEUgAAABIAAAAJBAMAAADN8WE8AAAAMFBMVEX///9mZmaYmJgyMjIiIiIQ\n",
       "EBCqqqru7u5ERETMzMyIiIjc3NxUVFR2dna6uroAAAAPJcEmAAAAAXRSTlMAQObYZgAAAGNJREFU\n",
       "CNdj4Luze9UpzlvnGBh4OboY6tcxpDIwTGMxYNh/gUGfgaGg/gFDfgHDCQYGhnwGBhEGhiggS5iB\n",
       "wZeB7zc7A0MsA/s/BkaDbQzc/xjYPjAwX7jAwOfAwCXAwCa0AQBn+hZiKtaxkQAAAABJRU5ErkJg\n",
       "gg==\n",
       "\" style=\"display:inline;vertical-align:middle;\" /></a><br>"
      ],
      "text/plain": [
       "m: m"
      ]
     },
     "execution_count": 15,
     "metadata": {},
     "output_type": "execute_result"
    }
   ],
   "source": [
    "m = Variable('m')"
   ]
  },
  {
   "cell_type": "code",
   "execution_count": 16,
   "metadata": {},
   "outputs": [
    {
     "data": {
      "text/html": [
       "<strong id=\"n\">n:</strong> <a class=\"ProveItLink\" href=\"../__pv_it/common/6165c9bb82ce3c7097cdba4440a1aeeb6eaca8a40/common_expr.ipynb\"><img src=\"data:image/png;base64,iVBORw0KGgoAAAANSUhEUgAAAAwAAAAJBAMAAAD0ltBnAAAAMFBMVEX///8QEBCYmJgyMjIiIiKq\n",
       "qqrMzMzu7u5ERERmZmaIiIjc3NxUVFR2dna6uroAAABXsXCEAAAAAXRSTlMAQObYZgAAAEdJREFU\n",
       "CNdj4Luze9UsBgZeji6G+g0MqSwGDPsTGArqHzDoMzAwxDMwHAZSkxkYPrEzMMgysH7nZeD+x8Br\n",
       "oMbA58DAfSgAABUwDxmEwURaAAAAAElFTkSuQmCC\n",
       "\" style=\"display:inline;vertical-align:middle;\" /></a><br>"
      ],
      "text/plain": [
       "n: n"
      ]
     },
     "execution_count": 16,
     "metadata": {},
     "output_type": "execute_result"
    }
   ],
   "source": [
    "n = Variable('n')"
   ]
  },
  {
   "cell_type": "code",
   "execution_count": 17,
   "metadata": {},
   "outputs": [
    {
     "data": {
      "text/html": [
       "<strong id=\"o\">o:</strong> <a class=\"ProveItLink\" href=\"../__pv_it/common/229416184a5a8350946b92ffa934e96d9f6d09360/common_expr.ipynb\"><img src=\"data:image/png;base64,iVBORw0KGgoAAAANSUhEUgAAAAoAAAAJBAMAAAD5iKAgAAAAJ1BMVEX///+YmJhEREQQEBBUVFTu\n",
       "7u4iIiLc3Ny6urpmZmaIiIh2dnYAAAAKKMn+AAAAAXRSTlMAQObYZgAAAD1JREFUCNdjYGDYtbKB\n",
       "gaGsgfU4A0M2CHEeZWA4wsCswMB+iiFmAwP3cQYeAQbmDQycDgyaDAwMu1c3MAAAVGwMBzCuOugA\n",
       "AAAASUVORK5CYII=\n",
       "\" style=\"display:inline;vertical-align:middle;\" /></a><br>"
      ],
      "text/plain": [
       "o: o"
      ]
     },
     "execution_count": 17,
     "metadata": {},
     "output_type": "execute_result"
    }
   ],
   "source": [
    "o = Variable('o')"
   ]
  },
  {
   "cell_type": "code",
   "execution_count": 18,
   "metadata": {},
   "outputs": [
    {
     "data": {
      "text/html": [
       "<strong id=\"p\">p:</strong> <a class=\"ProveItLink\" href=\"../__pv_it/common/2caa425a622fdcc34ba2e9c3992fa95a228fc7f10/common_expr.ipynb\"><img src=\"data:image/png;base64,iVBORw0KGgoAAAANSUhEUgAAAAwAAAANBAMAAABvB5JxAAAAMFBMVEX///9mZmYQEBCYmJgyMjKq\n",
       "qqoiIiLu7u5UVFSIiIjMzMzc3NxERER2dna6uroAAABJ6CsEAAAAAXRSTlMAQObYZgAAAFdJREFU\n",
       "CNdjYHh7euWMAgaGC20BvAcYuAM8GJg/MLAzfGXg/c7AwPedgUeBgYE3gaFegIGBRYDBCKiS/wCX\n",
       "FgMDw/uXEzcAqWsMYOAIJtm/gqmwLxOAJAA2yhRf4TarBgAAAABJRU5ErkJggg==\n",
       "\" style=\"display:inline;vertical-align:middle;\" /></a><br>"
      ],
      "text/plain": [
       "p: p"
      ]
     },
     "execution_count": 18,
     "metadata": {},
     "output_type": "execute_result"
    }
   ],
   "source": [
    "p = Variable('p')"
   ]
  },
  {
   "cell_type": "code",
   "execution_count": 19,
   "metadata": {},
   "outputs": [
    {
     "data": {
      "text/html": [
       "<strong id=\"q\">q:</strong> <a class=\"ProveItLink\" href=\"../__pv_it/common/f2bd1b9e481507771e819bb7e823773346b8e1180/common_expr.ipynb\"><img src=\"data:image/png;base64,iVBORw0KGgoAAAANSUhEUgAAAAoAAAANBAMAAABiGeI2AAAALVBMVEX///8iIiKqqqpERERmZmYy\n",
       "MjJUVFQQEBC6urru7u6IiIiYmJh2dnbc3NwAAABK6fHBAAAAAXRSTlMAQObYZgAAAFBJREFUCNdj\n",
       "YOA9vXIFA0P7BbYHDJzVDGwBDCwPGNgPMLAbMNxrYJi3gGEfA8M8BQZTBgbWBdxvGBg4sxa9YAAC\n",
       "7gcgEqgcCIDKGRh44kQYACZZEY8LEecAAAAAAElFTkSuQmCC\n",
       "\" style=\"display:inline;vertical-align:middle;\" /></a><br>"
      ],
      "text/plain": [
       "q: q"
      ]
     },
     "execution_count": 19,
     "metadata": {},
     "output_type": "execute_result"
    }
   ],
   "source": [
    "q = Variable('q')"
   ]
  },
  {
   "cell_type": "code",
   "execution_count": 20,
   "metadata": {},
   "outputs": [
    {
     "data": {
      "text/html": [
       "<strong id=\"r\">r:</strong> <a class=\"ProveItLink\" href=\"../__pv_it/common/5de4f64e8570d3850b29e3f5e676cc90dc8fccb60/common_expr.ipynb\"><img src=\"data:image/png;base64,iVBORw0KGgoAAAANSUhEUgAAAAoAAAAJBAMAAAD5iKAgAAAALVBMVEX////c3NxmZmYiIiLMzMwQ\n",
       "EBCqqqoyMjJERER2dnbu7u5UVFSIiIi6uroAAADCZiipAAAAAXRSTlMAQObYZgAAADFJREFUCNdj\n",
       "4D299swBBk6OMo4ABjfmDbwODAvWXWAAgjwQwaAOJiNBBOMTEMlrACQAWkQJZVHiaaUAAAAASUVO\n",
       "RK5CYII=\n",
       "\" style=\"display:inline;vertical-align:middle;\" /></a><br>"
      ],
      "text/plain": [
       "r: r"
      ]
     },
     "execution_count": 20,
     "metadata": {},
     "output_type": "execute_result"
    }
   ],
   "source": [
    "r = Variable('r')"
   ]
  },
  {
   "cell_type": "code",
   "execution_count": 21,
   "metadata": {},
   "outputs": [
    {
     "data": {
      "text/html": [
       "<strong id=\"s\">s:</strong> <a class=\"ProveItLink\" href=\"../__pv_it/common/139acc5ad2408e62ab79deb85a9a93f78cd9f39a0/common_expr.ipynb\"><img src=\"data:image/png;base64,iVBORw0KGgoAAAANSUhEUgAAAAgAAAAJBAMAAAD9fXAdAAAALVBMVEX///8iIiKqqqq6uroQEBDu\n",
       "7u7c3NxmZmZEREQyMjLMzMyYmJiIiIh2dnYAAAAD6ch7AAAAAXRSTlMAQObYZgAAADZJREFUCNdj\n",
       "YOA9s4uBYRZDOwPbA4alDKxPihkYGCzeNTAkMfA8Y5jIwPCAoY2B5wBDzulDDAAd6Q1SG4Hr4wAA\n",
       "AABJRU5ErkJggg==\n",
       "\" style=\"display:inline;vertical-align:middle;\" /></a><br>"
      ],
      "text/plain": [
       "s: s"
      ]
     },
     "execution_count": 21,
     "metadata": {},
     "output_type": "execute_result"
    }
   ],
   "source": [
    "s = Variable('s')"
   ]
  },
  {
   "cell_type": "code",
   "execution_count": 22,
   "metadata": {},
   "outputs": [
    {
     "data": {
      "text/html": [
       "<strong id=\"t\">t:</strong> <a class=\"ProveItLink\" href=\"../__pv_it/common/913abc38f12915f76486140e0ebfdbff4b3c8dc20/common_expr.ipynb\"><img src=\"data:image/png;base64,iVBORw0KGgoAAAANSUhEUgAAAAcAAAANBAMAAACX52mGAAAALVBMVEX///+YmJhUVFTMzMzu7u6I\n",
       "iIhERES6urp2dnYyMjJmZmaqqqrc3NwiIiIAAAAtjhwgAAAAAXRSTlMAQObYZgAAAEFJREFUCNdj\n",
       "YGC4w8DAwP0ASHBNABK8DQwMVXlZAQwM+4A8hpUg4gYQszwHEuwPGBwYOCZwGzBwKbgyMPAkCjAA\n",
       "AGrlCqGl123JAAAAAElFTkSuQmCC\n",
       "\" style=\"display:inline;vertical-align:middle;\" /></a><br>"
      ],
      "text/plain": [
       "t: t"
      ]
     },
     "execution_count": 22,
     "metadata": {},
     "output_type": "execute_result"
    }
   ],
   "source": [
    "t = Variable('t')"
   ]
  },
  {
   "cell_type": "code",
   "execution_count": 23,
   "metadata": {},
   "outputs": [
    {
     "data": {
      "text/html": [
       "<strong id=\"u\">u:</strong> <a class=\"ProveItLink\" href=\"../__pv_it/common/56a077ff7478ce261aabe87a8072a1a183e7d1660/common_expr.ipynb\"><img src=\"data:image/png;base64,iVBORw0KGgoAAAANSUhEUgAAAAwAAAAJBAMAAAD0ltBnAAAAMFBMVEX///+qqqpUVFQiIiJ2dnbM\n",
       "zMxEREQyMjKYmJjc3Ny6uroQEBBmZmaIiIju7u4AAAB7S4HXAAAAAXRSTlMAQObYZgAAAEZJREFU\n",
       "CNdj4LtzgeH1AwYerg0M9xkYZvAUMKQxMDzgvsCwl4GBYf0D1q9AypmBdwOQSmJgS+hjYDjEsPqA\n",
       "AwPDo7uSugEAaZoSviMHvVMAAAAASUVORK5CYII=\n",
       "\" style=\"display:inline;vertical-align:middle;\" /></a><br>"
      ],
      "text/plain": [
       "u: u"
      ]
     },
     "execution_count": 23,
     "metadata": {},
     "output_type": "execute_result"
    }
   ],
   "source": [
    "u = Variable('u')"
   ]
  },
  {
   "cell_type": "code",
   "execution_count": 24,
   "metadata": {},
   "outputs": [
    {
     "data": {
      "text/html": [
       "<strong id=\"v\">v:</strong> <a class=\"ProveItLink\" href=\"../__pv_it/common/dcbd025be63334a3c4edfbac95dc5f34eaf680b70/common_expr.ipynb\"><img src=\"data:image/png;base64,iVBORw0KGgoAAAANSUhEUgAAAAoAAAAJBAMAAAD5iKAgAAAALVBMVEX///8yMjLMzMyqqqrc3NxU\n",
       "VFQQEBC6urp2dnaYmJgiIiJmZmaIiIju7u4AAADfVbIxAAAAAXRSTlMAQObYZgAAAD9JREFUCNdj\n",
       "4D19gGElAwd7AsNSBmfuBQwWDBfYDjAUMzDUXWA4wMDQxcDQwMAQysCswMDQyHCDgYGBtXMCAwB0\n",
       "dwyMonWAvgAAAABJRU5ErkJggg==\n",
       "\" style=\"display:inline;vertical-align:middle;\" /></a><br>"
      ],
      "text/plain": [
       "v: v"
      ]
     },
     "execution_count": 24,
     "metadata": {},
     "output_type": "execute_result"
    }
   ],
   "source": [
    "v = Variable('v')"
   ]
  },
  {
   "cell_type": "code",
   "execution_count": 25,
   "metadata": {},
   "outputs": [
    {
     "data": {
      "text/html": [
       "<strong id=\"w\">w:</strong> <a class=\"ProveItLink\" href=\"../__pv_it/common/ad7999194dd5758664dd4d6463f0bc5aedf7410c0/common_expr.ipynb\"><img src=\"data:image/png;base64,iVBORw0KGgoAAAANSUhEUgAAAA8AAAAJBAMAAAAfoWtkAAAAMFBMVEX///8iIiLMzMyYmJjc3Ny6\n",
       "urpUVFRERER2dnYQEBAyMjKqqqpmZmaIiIju7u4AAACpWGz5AAAAAXRSTlMAQObYZgAAAFZJREFU\n",
       "CNdj4LtzgWEXw84HDBzcExjKGOIDGLx5FjB8ZmB3YHjAeYHpCwMPAwNDvAPvBAYOIOMUA3sCgyuQ\n",
       "UcbA2MBwAci4xRBZwBQAZPCcvZfbzMAAAGoyE994UJawAAAAAElFTkSuQmCC\n",
       "\" style=\"display:inline;vertical-align:middle;\" /></a><br>"
      ],
      "text/plain": [
       "w: w"
      ]
     },
     "execution_count": 25,
     "metadata": {},
     "output_type": "execute_result"
    }
   ],
   "source": [
    "w = Variable('w')"
   ]
  },
  {
   "cell_type": "code",
   "execution_count": 26,
   "metadata": {},
   "outputs": [
    {
     "data": {
      "text/html": [
       "<strong id=\"x\">x:</strong> <a class=\"ProveItLink\" href=\"../__pv_it/common/a2581dc5df71d9a30bad37de14965fa5fec97a240/common_expr.ipynb\"><img src=\"data:image/png;base64,iVBORw0KGgoAAAANSUhEUgAAAAsAAAAJBAMAAAAWSsseAAAALVBMVEX///9mZmaqqqrMzMxEREQy\n",
       "MjIiIiKYmJh2dna6urrc3NxUVFSIiIju7u4AAACJHQtQAAAAAXRSTlMAQObYZgAAAEJJREFUCNdj\n",
       "YLhzeuWJAwy8Dew5bAEMHBc43nIuYOBlYHFgAAG+A2DKzgBIMF04x8BzgWGegh/DcgaG22fuiBcw\n",
       "AAATyhBrnyPYZQAAAABJRU5ErkJggg==\n",
       "\" style=\"display:inline;vertical-align:middle;\" /></a><br>"
      ],
      "text/plain": [
       "x: x"
      ]
     },
     "execution_count": 26,
     "metadata": {},
     "output_type": "execute_result"
    }
   ],
   "source": [
    "x = Variable('x')"
   ]
  },
  {
   "cell_type": "code",
   "execution_count": 27,
   "metadata": {},
   "outputs": [
    {
     "data": {
      "text/html": [
       "<strong id=\"y\">y:</strong> <a class=\"ProveItLink\" href=\"../__pv_it/common/0f21cbfd5644a1cae6781c1d58354abc2ffbc9000/common_expr.ipynb\"><img src=\"data:image/png;base64,iVBORw0KGgoAAAANSUhEUgAAAAsAAAANBAMAAACN24kIAAAAMFBMVEX///8iIiKYmJhUVFTMzMxE\n",
       "REQyMjKqqqq6urp2dnYQEBDc3NxmZmaIiIju7u4AAACH5sGpAAAAAXRSTlMAQObYZgAAAFlJREFU\n",
       "CNdj4LtzgWHXAwZOjgUM9xkYtvMkMIQyMDzgusDwl4GBof8ByxcgdYyBdwGQCmZgNQBShxn6FYDU\n",
       "47vnNzAwgGUZGJgT+H4AKUYF1gtAiuPuESAJAJGkFvXVdzA+AAAAAElFTkSuQmCC\n",
       "\" style=\"display:inline;vertical-align:middle;\" /></a><br>"
      ],
      "text/plain": [
       "y: y"
      ]
     },
     "execution_count": 27,
     "metadata": {},
     "output_type": "execute_result"
    }
   ],
   "source": [
    "y = Variable('y')"
   ]
  },
  {
   "cell_type": "code",
   "execution_count": 28,
   "metadata": {},
   "outputs": [
    {
     "data": {
      "text/html": [
       "<strong id=\"z\">z:</strong> <a class=\"ProveItLink\" href=\"../__pv_it/common/fab62f2bacea351a074e2d41fad4d8b09cef5e740/common_expr.ipynb\"><img src=\"data:image/png;base64,iVBORw0KGgoAAAANSUhEUgAAAAoAAAAJBAMAAAD5iKAgAAAAMFBMVEX///8yMjJ2dnaqqqpUVFTc\n",
       "3NxmZmaIiIhERETu7u6YmJjMzMwQEBAiIiK6uroAAABWQA0ZAAAAAXRSTlMAQObYZgAAADZJREFU\n",
       "CNdjYOC782AXA8OM5WkNDAwTGCIYgIC7E0Q+ARHMDiDSjIHBgYH7llbhAwY2hjVyDABOxArzLvBK\n",
       "ugAAAABJRU5ErkJggg==\n",
       "\" style=\"display:inline;vertical-align:middle;\" /></a><br>"
      ],
      "text/plain": [
       "z: z"
      ]
     },
     "execution_count": 28,
     "metadata": {},
     "output_type": "execute_result"
    }
   ],
   "source": [
    "z = Variable('z')"
   ]
  },
  {
   "cell_type": "code",
   "execution_count": 29,
   "metadata": {},
   "outputs": [
    {
     "data": {
      "text/html": [
       "<strong id=\"A\">A:</strong> <a class=\"ProveItLink\" href=\"../__pv_it/common/e4aad701f7f5516d8e7f0d805d518bf02c13322a0/common_expr.ipynb\"><img src=\"data:image/png;base64,iVBORw0KGgoAAAANSUhEUgAAAA8AAAAOBAMAAAACpFvcAAAALVBMVEX///8iIiIQEBBERERUVFS6\n",
       "urqIiIjc3NxmZmaqqqru7u6YmJgyMjLMzMwAAACK9jtgAAAAAXRSTlMAQObYZgAAAFtJREFUCNdj\n",
       "YACBOwxQcA5Kc59bAGGs7CuAMDbkBYBp1gXzNoAZSxnuJYAZAQx1DSCa16PDzwCshIGB6QCIMYGB\n",
       "gVEBSLMDGTwPgIxCIGZ+zsCw+N0pBk67hw0AfpEVEQi8t+wAAAAASUVORK5CYII=\n",
       "\" style=\"display:inline;vertical-align:middle;\" /></a><br>"
      ],
      "text/plain": [
       "A: A"
      ]
     },
     "execution_count": 29,
     "metadata": {},
     "output_type": "execute_result"
    }
   ],
   "source": [
    "A = Variable('A')"
   ]
  },
  {
   "cell_type": "code",
   "execution_count": 30,
   "metadata": {},
   "outputs": [
    {
     "data": {
      "text/html": [
       "<strong id=\"B\">B:</strong> <a class=\"ProveItLink\" href=\"../__pv_it/common/4eca3b30dcf58a58494e201d1b7886d8643a617b0/common_expr.ipynb\"><img src=\"data:image/png;base64,iVBORw0KGgoAAAANSUhEUgAAABAAAAAOBAMAAADUAYG5AAAALVBMVEX///8yMjKqqqoiIiLu7u7c\n",
       "3NyIiIjMzMwQEBC6urpERERmZmZUVFSYmJgAAACsPVCVAAAAAXRSTlMAQObYZgAAAGxJREFUCNdj\n",
       "YGC48+70nlUTGICgi4GB+zmQZn/LwMD5Gshge8rAwPsMyOBqYGDwMAEy+A4wsNs4ABl1Z68tVgBp\n",
       "ygtgYOkBMVaAOCChNyBGAsQYhnMTIMawvwJyGIHGzFjCwMAj92b3qUUMDAAXABxvZ4rl5AAAAABJ\n",
       "RU5ErkJggg==\n",
       "\" style=\"display:inline;vertical-align:middle;\" /></a><br>"
      ],
      "text/plain": [
       "B: B"
      ]
     },
     "execution_count": 30,
     "metadata": {},
     "output_type": "execute_result"
    }
   ],
   "source": [
    "B = Variable('B')"
   ]
  },
  {
   "cell_type": "code",
   "execution_count": 31,
   "metadata": {},
   "outputs": [
    {
     "data": {
      "text/html": [
       "<strong id=\"C\">C:</strong> <a class=\"ProveItLink\" href=\"../__pv_it/common/c4a83a53f0ed6678b0c7a2d6d691a4b400f735c90/common_expr.ipynb\"><img src=\"data:image/png;base64,iVBORw0KGgoAAAANSUhEUgAAAA8AAAAOBAMAAAACpFvcAAAAMFBMVEX////MzMy6uroyMjIiIiKq\n",
       "qqoQEBB2dnbc3NyYmJhmZmZUVFRERESIiIju7u4AAACOKgoaAAAAAXRSTlMAQObYZgAAAGRJREFU\n",
       "CNdjYGDgu7NrJ0cBAwPDtQkMrMsmMDC88QNy1jcwMJg9ADLUGBi4vgJpBikGhn4HEOMFA0P9BQYI\n",
       "8BeAMvJBahmAhD+IZhWAmMDADsT9IMV1INGfDAxRYHWvTu9SAFIARRcYB3lKsPwAAAAASUVORK5C\n",
       "YII=\n",
       "\" style=\"display:inline;vertical-align:middle;\" /></a><br>"
      ],
      "text/plain": [
       "C: C"
      ]
     },
     "execution_count": 31,
     "metadata": {},
     "output_type": "execute_result"
    }
   ],
   "source": [
    "C = Variable('C')"
   ]
  },
  {
   "cell_type": "code",
   "execution_count": 32,
   "metadata": {},
   "outputs": [
    {
     "data": {
      "text/html": [
       "<strong id=\"D\">D:</strong> <a class=\"ProveItLink\" href=\"../__pv_it/common/e5e296931d7f88d2c0ed4dd1b8498a680788952f0/common_expr.ipynb\"><img src=\"data:image/png;base64,iVBORw0KGgoAAAANSUhEUgAAABEAAAAOBAMAAAA7w+qHAAAAMFBMVEX///8iIiLu7u52dna6uroQ\n",
       "EBBmZmaIiIjMzMyqqqoyMjLc3NxERERUVFSYmJgAAAAdjRNVAAAAAXRSTlMAQObYZgAAAGlJREFU\n",
       "CNdjYGB4+//snbMbGEDgFwMD308Qg+M7kEgFsdh/AAn/B0CC5wOQ2G8AJPgPgMQuAIn+AiBRDxKr\n",
       "bwAS9x2AxHmQtq8g4g8Q8/2DGad6AGoc0yqQJBfQOMcEIIN3/d/cO9lABgDT4B6ufsfOGgAAAABJ\n",
       "RU5ErkJggg==\n",
       "\" style=\"display:inline;vertical-align:middle;\" /></a><br>"
      ],
      "text/plain": [
       "D: D"
      ]
     },
     "execution_count": 32,
     "metadata": {},
     "output_type": "execute_result"
    }
   ],
   "source": [
    "D = Variable('D')"
   ]
  },
  {
   "cell_type": "code",
   "execution_count": 33,
   "metadata": {},
   "outputs": [
    {
     "data": {
      "text/html": [
       "<strong id=\"E\">E:</strong> <a class=\"ProveItLink\" href=\"../__pv_it/common/1705cbeb348b2c6026b93d25b121a23c24142a900/common_expr.ipynb\"><img src=\"data:image/png;base64,iVBORw0KGgoAAAANSUhEUgAAABAAAAAOBAMAAADUAYG5AAAALVBMVEX///8QEBDc3NzMzMx2dnbu\n",
       "7u66urqYmJgyMjIiIiJUVFRmZmZERESIiIgAAACJIPtQAAAAAXRSTlMAQObYZgAAAGZJREFUCNdj\n",
       "YGC48+70rpUvGIAARNQAMdtbIBENxCyPgUQsEHM8YGBhYAIy+A4wlIOUMuR1L3wEZvgZMDSAGX0M\n",
       "DA4MBkDGGwaGANYLUGNYAqDGWAEx5wOgqDADQ1Tfq91r5jUwAABgCxlUc9vB0AAAAABJRU5ErkJg\n",
       "gg==\n",
       "\" style=\"display:inline;vertical-align:middle;\" /></a><br>"
      ],
      "text/plain": [
       "E: E"
      ]
     },
     "execution_count": 33,
     "metadata": {},
     "output_type": "execute_result"
    }
   ],
   "source": [
    "E = Variable('E')"
   ]
  },
  {
   "cell_type": "code",
   "execution_count": 34,
   "metadata": {},
   "outputs": [
    {
     "data": {
      "text/html": [
       "<strong id=\"F\">F:</strong> <a class=\"ProveItLink\" href=\"../__pv_it/common/66a9fb9a81ab9b105d60be93d60628d95a6592ce0/common_expr.ipynb\"><img src=\"data:image/png;base64,iVBORw0KGgoAAAANSUhEUgAAABAAAAAOBAMAAADUAYG5AAAAMFBMVEX///8iIiLc3Nzu7u6qqqq6\n",
       "urp2dnbMzMyYmJgyMjIQEBBUVFRmZmZERESIiIgAAABzTYE0AAAAAXRSTlMAQObYZgAAAF9JREFU\n",
       "CNdjYGB4+//O6Vv/GIDgJxDfAGL2b0CiFYj5vgIJdyDm/MzAxOAMZPALMGiAlDLEH2DYBGbkz9m1\n",
       "AMyYb8C8Acz4yMDsAKJZvzFAANtXKIPxA4S2mf/7EIgGAMRQF/yUMTKIAAAAAElFTkSuQmCC\n",
       "\" style=\"display:inline;vertical-align:middle;\" /></a><br>"
      ],
      "text/plain": [
       "F: F"
      ]
     },
     "execution_count": 34,
     "metadata": {},
     "output_type": "execute_result"
    }
   ],
   "source": [
    "F = Variable('F')"
   ]
  },
  {
   "cell_type": "code",
   "execution_count": 35,
   "metadata": {},
   "outputs": [
    {
     "data": {
      "text/html": [
       "<strong id=\"G\">G:</strong> <a class=\"ProveItLink\" href=\"../__pv_it/common/63aab74b0df34e51ac6e7164cc24ae17d03016f20/common_expr.ipynb\"><img src=\"data:image/png;base64,iVBORw0KGgoAAAANSUhEUgAAAA8AAAAOBAMAAAACpFvcAAAAMFBMVEX////MzMyqqqoyMjIiIiK6\n",
       "uroQEBB2dnbc3NyYmJhmZmZUVFRERESIiIju7u4AAAAZ5rjZAAAAAXRSTlMAQObYZgAAAGpJREFU\n",
       "CNdjYGDgu7NrJUcBAwPDtQkMrMsmMDC88QNy1jcwMJg9ADJCGBi4PgFpBikGhn4HEOMFA0P9BQYI\n",
       "8BeAMvKBeJbxcaAIiFcfADGBwR6I+4GGM34GMpj+MjBIu4PkX51ePkGVgQEAXH0YqRfJ3ysAAAAA\n",
       "SUVORK5CYII=\n",
       "\" style=\"display:inline;vertical-align:middle;\" /></a><br>"
      ],
      "text/plain": [
       "G: G"
      ]
     },
     "execution_count": 35,
     "metadata": {},
     "output_type": "execute_result"
    }
   ],
   "source": [
    "G = Variable('G')"
   ]
  },
  {
   "cell_type": "code",
   "execution_count": 36,
   "metadata": {},
   "outputs": [
    {
     "data": {
      "text/html": [
       "<strong id=\"H\">H:</strong> <a class=\"ProveItLink\" href=\"../__pv_it/common/8e7eaddc606b500c41ae9dfe0dcdc76b16b24fea0/common_expr.ipynb\"><img src=\"data:image/png;base64,iVBORw0KGgoAAAANSUhEUgAAABMAAAAOBAMAAAA/Njq6AAAAKlBMVEX///+qqqp2dnbMzMyIiIi6\n",
       "uroiIiLu7u4yMjJmZmZERERUVFSYmJgAAADrizvbAAAAAXRSTlMAQObYZgAAAGlJREFUCNdjYGA4\n",
       "fXclEHcWMADBDSC+BmIwsF5hYGC+CWYyXWZgYLkIZnJcYGDgug5m8i4A4gQwM7Zz5sy1CmCmrgED\n",
       "g28AmNkLxGvBpjLcghoNNfYSwtirYCYb3NjK3tsOnGtvOTAwAAAHtx0ScfZJBgAAAABJRU5ErkJg\n",
       "gg==\n",
       "\" style=\"display:inline;vertical-align:middle;\" /></a><br>"
      ],
      "text/plain": [
       "H: H"
      ]
     },
     "execution_count": 36,
     "metadata": {},
     "output_type": "execute_result"
    }
   ],
   "source": [
    "H = Variable('H')"
   ]
  },
  {
   "cell_type": "code",
   "execution_count": 37,
   "metadata": {},
   "outputs": [
    {
     "data": {
      "text/html": [
       "<strong id=\"I\">I:</strong> <a class=\"ProveItLink\" href=\"../__pv_it/common/8909118354b2d3d197900d8738a63ccf006966600/common_expr.ipynb\"><img src=\"data:image/png;base64,iVBORw0KGgoAAAANSUhEUgAAAAsAAAAOBAMAAAALT/umAAAAJ1BMVEX////u7u4iIiLMzMxERER2\n",
       "dna6urrc3NxmZmYyMjJUVFSIiIgAAAD6sHTBAAAAAXRSTlMAQObYZgAAAEJJREFUCNdjYGDYdWZG\n",
       "AQMQnAQRDGxHwRTrMTDFeQBM8TiAqZwNYCrGAEzNAZMMRyDaTkO0HQZTTGBtUnNOBTAwAACo8g02\n",
       "4uJcHQAAAABJRU5ErkJggg==\n",
       "\" style=\"display:inline;vertical-align:middle;\" /></a><br>"
      ],
      "text/plain": [
       "I: I"
      ]
     },
     "execution_count": 37,
     "metadata": {},
     "output_type": "execute_result"
    }
   ],
   "source": [
    "I = Variable('I')"
   ]
  },
  {
   "cell_type": "code",
   "execution_count": 38,
   "metadata": {},
   "outputs": [
    {
     "data": {
      "text/html": [
       "<strong id=\"J\">J:</strong> <a class=\"ProveItLink\" href=\"../__pv_it/common/775f5d926fdbb1ace09fe0b4cfd6f76f9914e4160/common_expr.ipynb\"><img src=\"data:image/png;base64,iVBORw0KGgoAAAANSUhEUgAAAA0AAAAOBAMAAAAGUYvhAAAALVBMVEX///+IiIiqqqru7u7c3NyY\n",
       "mJi6urpUVFQQEBAyMjLMzMwiIiJmZmZ2dnYAAABVuDDQAAAAAXRSTlMAQObYZgAAAEZJREFUCNdj\n",
       "YGBguLNvDwMY3FsAoWdAKIbnEIrtKYTmfQKhuRsgtF0BhNZTgNDnDICE9wWG3SCOnABEmyqDNVgZ\n",
       "o2ARiAIAX+8N+NMuBscAAAAASUVORK5CYII=\n",
       "\" style=\"display:inline;vertical-align:middle;\" /></a><br>"
      ],
      "text/plain": [
       "J: J"
      ]
     },
     "execution_count": 38,
     "metadata": {},
     "output_type": "execute_result"
    }
   ],
   "source": [
    "J = Variable('J')"
   ]
  },
  {
   "cell_type": "code",
   "execution_count": 39,
   "metadata": {},
   "outputs": [
    {
     "data": {
      "text/html": [
       "<strong id=\"K\">K:</strong> <a class=\"ProveItLink\" href=\"../__pv_it/common/648c57b9e2d27205a304a62ce70bcf921c30fb7c0/common_expr.ipynb\"><img src=\"data:image/png;base64,iVBORw0KGgoAAAANSUhEUgAAABMAAAAOBAMAAAA/Njq6AAAALVBMVEX///8iIiJmZmbu7u6YmJh2\n",
       "dna6urrc3NxERESqqqrMzMwyMjJUVFSIiIgAAAAVNIO7AAAAAXRSTlMAQObYZgAAAHRJREFUCNdj\n",
       "YGC4824PA8O51wsYgOA1EM8oALHYnjIwsEwAsRhYnzEwh4NZDNwPGJZCWAx8G1gUoMy8gHsCUGbc\n",
       "XaaXUOY+B/bXUOYLBoY+sPkMbG+Byg9AjH3FwMD4GMxkfMDAwPsUxDLa9+YCw8V37QwMAO47Hpqy\n",
       "Q2VnAAAAAElFTkSuQmCC\n",
       "\" style=\"display:inline;vertical-align:middle;\" /></a><br>"
      ],
      "text/plain": [
       "K: K"
      ]
     },
     "execution_count": 39,
     "metadata": {},
     "output_type": "execute_result"
    }
   ],
   "source": [
    "K = Variable('K')"
   ]
  },
  {
   "cell_type": "code",
   "execution_count": 40,
   "metadata": {},
   "outputs": [
    {
     "data": {
      "text/html": [
       "<strong id=\"L\">L:</strong> <a class=\"ProveItLink\" href=\"../__pv_it/common/1e0b78b60bbdda9602d5444bc86ee4f8b32bc10e0/common_expr.ipynb\"><img src=\"data:image/png;base64,iVBORw0KGgoAAAANSUhEUgAAAA4AAAAOBAMAAADtZjDiAAAALVBMVEX///8iIiLMzMxmZmaIiIjc\n",
       "3NxERETu7u52dna6urqqqqoyMjJUVFSYmJgAAAAUZzKCAAAAAXRSTlMAQObYZgAAAFFJREFUCNdj\n",
       "YGC4827PAgYQeA0mGThfQGiOlxCa+wGE5tsAoec1QOi+CRB6HxCzA/EzIL4K1P4ESBsAtT9iYGC5\n",
       "wMDACNTeV8BQs++Nzb43DAASPhUf1IyvJAAAAABJRU5ErkJggg==\n",
       "\" style=\"display:inline;vertical-align:middle;\" /></a><br>"
      ],
      "text/plain": [
       "L: L"
      ]
     },
     "execution_count": 40,
     "metadata": {},
     "output_type": "execute_result"
    }
   ],
   "source": [
    "L = Variable('L')"
   ]
  },
  {
   "cell_type": "code",
   "execution_count": 41,
   "metadata": {},
   "outputs": [
    {
     "data": {
      "text/html": [
       "<strong id=\"M\">M:</strong> <a class=\"ProveItLink\" href=\"../__pv_it/common/12d6222f143c84639395166317687cd147503e170/common_expr.ipynb\"><img src=\"data:image/png;base64,iVBORw0KGgoAAAANSUhEUgAAABYAAAAOBAMAAADZH/H+AAAALVBMVEX////u7u4yMjIiIiLc3Ny6\n",
       "urrMzMxmZmZEREQQEBCIiIiqqqpUVFSYmJgAAADIl/xvAAAAAXRSTlMAQObYZgAAAItJREFUCNdj\n",
       "YGC4824DAwMD18tuIMlQtwBI5DwFMVkuHwCSdx6A2LweCkBCsgHEZmefwMDg6rcAzOYCSi+4lwBi\n",
       "+3I/Y+AWOAdiMlxhec0gzTADzC5geMWwgOUVlD2d24H3Gdj4Cwwasgw8E8DGOzBULmDgBBvPzMCw\n",
       "LoEhD2Q8zzwrhiiGHfNsBBgAlsQh49TzgBYAAAAASUVORK5CYII=\n",
       "\" style=\"display:inline;vertical-align:middle;\" /></a><br>"
      ],
      "text/plain": [
       "M: M"
      ]
     },
     "execution_count": 41,
     "metadata": {},
     "output_type": "execute_result"
    }
   ],
   "source": [
    "M = Variable('M')"
   ]
  },
  {
   "cell_type": "code",
   "execution_count": 42,
   "metadata": {},
   "outputs": [
    {
     "data": {
      "text/html": [
       "<strong id=\"N\">N:</strong> <a class=\"ProveItLink\" href=\"../__pv_it/common/c401de8fd84b016d9ef2a311a2de841ba60c23a50/common_expr.ipynb\"><img src=\"data:image/png;base64,iVBORw0KGgoAAAANSUhEUgAAABMAAAAOBAMAAAA/Njq6AAAALVBMVEX///+YmJhmZmZ2dnbc3Nwy\n",
       "MjLu7u5UVFQQEBAiIiKqqqq6urpERESIiIgAAADG9Xw4AAAAAXRSTlMAQObYZgAAAHNJREFUCNdj\n",
       "YGC4824DA9e89gQGIDh3gIGBFcziXvOEgYEZxGJgzn7EwLALzGRimMfAYAZlygkwKICZuxj4JjAY\n",
       "gJlmDMyvuTeAmQoMLG8gBoDkzjmBWdwLGBj2KUOMBdrD+RrM5ARixgcgVk7fRCBZAMQAkJ4WTb1L\n",
       "1fsAAAAASUVORK5CYII=\n",
       "\" style=\"display:inline;vertical-align:middle;\" /></a><br>"
      ],
      "text/plain": [
       "N: N"
      ]
     },
     "execution_count": 42,
     "metadata": {},
     "output_type": "execute_result"
    }
   ],
   "source": [
    "N = Variable('N')"
   ]
  },
  {
   "cell_type": "code",
   "execution_count": 43,
   "metadata": {},
   "outputs": [
    {
     "data": {
      "text/html": [
       "<strong id=\"O\">O:</strong> <a class=\"ProveItLink\" href=\"../__pv_it/common/2640c97ea2b64c2d4f724de3d50b4f2b419bfccb0/common_expr.ipynb\"><img src=\"data:image/png;base64,iVBORw0KGgoAAAANSUhEUgAAAA8AAAAOBAMAAAACpFvcAAAALVBMVEX////c3Ny6uroiIiIQEBBE\n",
       "RERUVFTMzMwyMjKYmJh2dnZmZmaIiIju7u4AAABNC8GLAAAAAXRSTlMAQObYZgAAAGdJREFUCNdj\n",
       "YGDgPb1qJwMIrChgYGsA0jcCgIQ3EDeDRPMYGLgegRjrChjkQNIM+xQY1k0AMfoEGOwKgDTvEwaG\n",
       "dxeADJ5XDAx2IJkrDkCNIJE8oHzdBKgRPO4MvBECIPmyXbsVgBQA+NQYLsIFKoAAAAAASUVORK5C\n",
       "YII=\n",
       "\" style=\"display:inline;vertical-align:middle;\" /></a><br>"
      ],
      "text/plain": [
       "O: O"
      ]
     },
     "execution_count": 43,
     "metadata": {},
     "output_type": "execute_result"
    }
   ],
   "source": [
    "O = Variable('O')"
   ]
  },
  {
   "cell_type": "code",
   "execution_count": 44,
   "metadata": {},
   "outputs": [
    {
     "data": {
      "text/html": [
       "<strong id=\"P\">P:</strong> <a class=\"ProveItLink\" href=\"../__pv_it/common/d5fc3066299847984076662ce51556220bdb6cfb0/common_expr.ipynb\"><img src=\"data:image/png;base64,iVBORw0KGgoAAAANSUhEUgAAABAAAAAOBAMAAADUAYG5AAAAMFBMVEX///8iIiLc3Ny6urqIiIiq\n",
       "qqp2dnbMzMwQEBDu7u5mZmYyMjJERERUVFSYmJgAAAA4CJ/KAAAAAXRSTlMAQObYZgAAAF5JREFU\n",
       "CNdjYGB4+//s3V0TGIDgNwMDTyeQZv/GwMD6Bchg+QzEQA4DzwcGBl4gh4F/AwOD/gIgoz6BgVUM\n",
       "pMn/WtoSsO7zYBIIPkJp9l9QBsgYMOD+CaG59v91ANEANtEY7WfmSIAAAAAASUVORK5CYII=\n",
       "\" style=\"display:inline;vertical-align:middle;\" /></a><br>"
      ],
      "text/plain": [
       "P: P"
      ]
     },
     "execution_count": 44,
     "metadata": {},
     "output_type": "execute_result"
    }
   ],
   "source": [
    "P = Variable('P')"
   ]
  },
  {
   "cell_type": "code",
   "execution_count": 45,
   "metadata": {},
   "outputs": [
    {
     "data": {
      "text/html": [
       "<strong id=\"Q\">Q:</strong> <a class=\"ProveItLink\" href=\"../__pv_it/common/50527aea954422d65ebe44b8de200683294751540/common_expr.ipynb\"><img src=\"data:image/png;base64,iVBORw0KGgoAAAANSUhEUgAAAA8AAAASBAMAAAB2sJk8AAAAMFBMVEX///+qqqq6urrc3NwQEBAy\n",
       "MjJERERUVFTMzMwiIiKYmJh2dnZmZmaIiIju7u4AAABsX1SbAAAAAXRSTlMAQObYZgAAAINJREFU\n",
       "CNdjYGDgu7P7FAMI7GxgYE8A0k8DgILeQEbIAyBRz8DA/Qskvd+AwX4CiHFegWH/BRAjv4FhfgOI\n",
       "8R+IQGoZvzMwTAEJcP5jYCgBMe4DFfY/eHuD4w+Qw3thAff6DSDhvuqbyQxgrQzsDVwGYAbbATUw\n",
       "zcDz/weEwTFFgIEBAOxlJHQBUmidAAAAAElFTkSuQmCC\n",
       "\" style=\"display:inline;vertical-align:middle;\" /></a><br>"
      ],
      "text/plain": [
       "Q: Q"
      ]
     },
     "execution_count": 45,
     "metadata": {},
     "output_type": "execute_result"
    }
   ],
   "source": [
    "Q = Variable('Q')"
   ]
  },
  {
   "cell_type": "code",
   "execution_count": 46,
   "metadata": {},
   "outputs": [
    {
     "data": {
      "text/html": [
       "<strong id=\"R\">R:</strong> <a class=\"ProveItLink\" href=\"../__pv_it/common/75b77068be7a61a1f04d03fa34a8f6252f6605dd0/common_expr.ipynb\"><img src=\"data:image/png;base64,iVBORw0KGgoAAAANSUhEUgAAABAAAAAOBAMAAADUAYG5AAAALVBMVEX///92dnYyMjLu7u5mZmaq\n",
       "qqoiIiKIiIjMzMwQEBDc3NxERERUVFSYmJgAAAAJZmtIAAAAAXRSTlMAQObYZgAAAHBJREFUCNdj\n",
       "YGC48+7M7r0MIPCagWHlASDN8ZyBgecFkMH+ioGBDYgZuCcwMMRtADL4DjCwzgGp7Ttb86QBxKgz\n",
       "YLhkAGLsBMoKgBhvGBjWgY15C9TkADIGaJZcATMDA9MDoEjBUgYWvTcXGBi3FwAAlNod2eFupKcA\n",
       "AAAASUVORK5CYII=\n",
       "\" style=\"display:inline;vertical-align:middle;\" /></a><br>"
      ],
      "text/plain": [
       "R: R"
      ]
     },
     "execution_count": 46,
     "metadata": {},
     "output_type": "execute_result"
    }
   ],
   "source": [
    "R = Variable('R')"
   ]
  },
  {
   "cell_type": "code",
   "execution_count": 47,
   "metadata": {},
   "outputs": [
    {
     "data": {
      "text/html": [
       "<strong id=\"S\">S:</strong> <a class=\"ProveItLink\" href=\"../__pv_it/common/259d0846cd49c4882c35ec84d7a0b180713721cc0/common_expr.ipynb\"><img src=\"data:image/png;base64,iVBORw0KGgoAAAANSUhEUgAAAA0AAAAOBAMAAAAGUYvhAAAAMFBMVEX///8iIiIQEBDc3NxUVFSI\n",
       "iIjMzMwyMjLu7u5ERES6urqYmJh2dnZmZmaqqqoAAABUl3CJAAAAAXRSTlMAQObYZgAAAGBJREFU\n",
       "CNdjYGDgu3OGewEDA8NsBo75QIr3AgPDdiDdn8DAsBRIr9/AwJAG4v8BCgAB6///zmBGt9OnBjCD\n",
       "4f4DBgYekBIg3QKk84Hij4D0HSC+eIGBxwFIX1hyxQ9IAQCO0xnvXiMbcgAAAABJRU5ErkJggg==\n",
       "\" style=\"display:inline;vertical-align:middle;\" /></a><br>"
      ],
      "text/plain": [
       "S: S"
      ]
     },
     "execution_count": 47,
     "metadata": {},
     "output_type": "execute_result"
    }
   ],
   "source": [
    "S = Variable('S')"
   ]
  },
  {
   "cell_type": "code",
   "execution_count": 48,
   "metadata": {},
   "outputs": [
    {
     "data": {
      "text/html": [
       "<strong id=\"T\">T:</strong> <a class=\"ProveItLink\" href=\"../__pv_it/common/7733a50a89ce8a5865386872bf64fedeb9e5d0d30/common_expr.ipynb\"><img src=\"data:image/png;base64,iVBORw0KGgoAAAANSUhEUgAAAA8AAAAOBAMAAAACpFvcAAAAMFBMVEX////u7u6IiIiqqqrMzMy6\n",
       "urqYmJhmZmYiIiJ2dnYyMjJUVFREREQQEBDc3NwAAACx20pmAAAAAXRSTlMAQObYZgAAAFxJREFU\n",
       "CNdj4Pt7ev+f3esnMHBOYOBtYGBPYOBmYHhfwMAWwODGwJBvwMAkwODAwLBfgIGVAQRuMEAA33co\n",
       "g+0zlMH9EcoAGgMBQGMgAGgMBJwXAFOcu/6vVgDSABzFFK1+91puAAAAAElFTkSuQmCC\n",
       "\" style=\"display:inline;vertical-align:middle;\" /></a><br>"
      ],
      "text/plain": [
       "T: T"
      ]
     },
     "execution_count": 48,
     "metadata": {},
     "output_type": "execute_result"
    }
   ],
   "source": [
    "T = Variable('T')"
   ]
  },
  {
   "cell_type": "code",
   "execution_count": 49,
   "metadata": {},
   "outputs": [
    {
     "data": {
      "text/html": [
       "<strong id=\"U\">U:</strong> <a class=\"ProveItLink\" href=\"../__pv_it/common/6ddf39b7b2366eff1df3a68b2f717158052394110/common_expr.ipynb\"><img src=\"data:image/png;base64,iVBORw0KGgoAAAANSUhEUgAAAA8AAAAOBAMAAAACpFvcAAAAMFBMVEX///+YmJjMzMzu7u5mZma6\n",
       "urp2dnaIiIgyMjKqqqpEREQQEBAiIiJUVFTc3NwAAACfk0VHAAAAAXRSTlMAQObYZgAAAGJJREFU\n",
       "CNdjeHt+1wSG9T8KGBjyAxgY2IE0Qz8QsxgAiV9AzAvErN+BhBkQs30CEqJAzLMBSDgAsf0FIAHC\n",
       "8wUYGPhAuvMVgOoegBhQ3QzzgWbdAzE4HBjeKoAYDFlXQEoZAObmFQYiC7jRAAAAAElFTkSuQmCC\n",
       "\" style=\"display:inline;vertical-align:middle;\" /></a><br>"
      ],
      "text/plain": [
       "U: U"
      ]
     },
     "execution_count": 49,
     "metadata": {},
     "output_type": "execute_result"
    }
   ],
   "source": [
    "U = Variable('U')"
   ]
  },
  {
   "cell_type": "code",
   "execution_count": 50,
   "metadata": {},
   "outputs": [
    {
     "data": {
      "text/html": [
       "<strong id=\"V\">V:</strong> <a class=\"ProveItLink\" href=\"../__pv_it/common/5848fbe842feb8162721ff0fa3b3a8c0290529c40/common_expr.ipynb\"><img src=\"data:image/png;base64,iVBORw0KGgoAAAANSUhEUgAAAA8AAAAOBAMAAAACpFvcAAAAMFBMVEX///+YmJi6urp2dnbc3NxU\n",
       "VFTu7u5mZmYQEBAiIiLMzMyqqqpEREQyMjKIiIgAAADzFoEbAAAAAXRSTlMAQObYZgAAAFhJREFU\n",
       "CNdjePv/NAPDyh8FDGx/GRgYuAOARAcQswIxw30gfgVixDswsBiAGPYKEBkG+QcQGYb1BRAZhvwD\n",
       "EBkG/glCEAbnN4gMA8+fBAiD/ROEZmAMAFMAsqgStvOMS9EAAAAASUVORK5CYII=\n",
       "\" style=\"display:inline;vertical-align:middle;\" /></a><br>"
      ],
      "text/plain": [
       "V: V"
      ]
     },
     "execution_count": 50,
     "metadata": {},
     "output_type": "execute_result"
    }
   ],
   "source": [
    "V = Variable('V')"
   ]
  },
  {
   "cell_type": "code",
   "execution_count": 51,
   "metadata": {},
   "outputs": [
    {
     "data": {
      "text/html": [
       "<strong id=\"W\">W:</strong> <a class=\"ProveItLink\" href=\"../__pv_it/common/e87f22b9077d82682f97ac297e668a74e481102b0/common_expr.ipynb\"><img src=\"data:image/png;base64,iVBORw0KGgoAAAANSUhEUgAAABUAAAAOBAMAAAAyKEr9AAAAMFBMVEX///8yMjJmZmbc3NzMzMx2\n",
       "dnaYmJiqqqru7u4QEBBUVFS6urpEREQiIiKIiIgAAAD7KGr9AAAAAXRSTlMAQObYZgAAAIZJREFU\n",
       "CNdjePv/NMPKvysYav8mMHB/ZWBg/c3AwLKAgYH5E4TNysDAwPGLgYHxGwPDbiCb4SMDw7N/DAwB\n",
       "IPZcBuaSrwx8BiD2TQZWoJ4+EJNBnqGE4w9ECcP5hgcMH7k3gNn6dkA9rGAmQ3w6UE8yhP3+AFDP\n",
       "Awg7H2jaWgiTYSsQR4NZACZqI9z/dB1UAAAAAElFTkSuQmCC\n",
       "\" style=\"display:inline;vertical-align:middle;\" /></a><br>"
      ],
      "text/plain": [
       "W: W"
      ]
     },
     "execution_count": 51,
     "metadata": {},
     "output_type": "execute_result"
    }
   ],
   "source": [
    "W = Variable('W')"
   ]
  },
  {
   "cell_type": "code",
   "execution_count": 52,
   "metadata": {},
   "outputs": [
    {
     "data": {
      "text/html": [
       "<strong id=\"X\">X:</strong> <a class=\"ProveItLink\" href=\"../__pv_it/common/1b6265652676c9224272c794411413f800c857050/common_expr.ipynb\"><img src=\"data:image/png;base64,iVBORw0KGgoAAAANSUhEUgAAABIAAAAOBAMAAADQ9FGEAAAAMFBMVEX///+6urpmZmaIiIh2dnYQ\n",
       "EBDc3NzMzMxUVFSqqqoyMjLu7u4iIiJERESYmJgAAADufbLkAAAAAXRSTlMAQObYZgAAAGJJREFU\n",
       "CNdjYGB4+/8cw67/NxmAoH8CA183iMFQv4ChAsxg4PrO1gBhcf7IYICC+Nswlr8BjNUfAGUwZfyE\n",
       "stTZ/0IYLAIM5xPALEMGhvcKIAYHkOT/DWRU/Q9nYF//p4EBACq0GGkYmwpjAAAAAElFTkSuQmCC\n",
       "\" style=\"display:inline;vertical-align:middle;\" /></a><br>"
      ],
      "text/plain": [
       "X: X"
      ]
     },
     "execution_count": 52,
     "metadata": {},
     "output_type": "execute_result"
    }
   ],
   "source": [
    "X = Variable('X')"
   ]
  },
  {
   "cell_type": "code",
   "execution_count": 53,
   "metadata": {},
   "outputs": [
    {
     "data": {
      "text/html": [
       "<strong id=\"Y\">Y:</strong> <a class=\"ProveItLink\" href=\"../__pv_it/common/e10ed4dafb3a92e25570ccc9be0211b07f20fd1d0/common_expr.ipynb\"><img src=\"data:image/png;base64,iVBORw0KGgoAAAANSUhEUgAAABAAAAAOBAMAAADUAYG5AAAAMFBMVEX///9mZmZERESYmJi6urp2\n",
       "dnYiIiIyMjLMzMyIiIiqqqrc3NwQEBBUVFTu7u4AAAAPaGnEAAAAAXRSTlMAQObYZgAAAFlJREFU\n",
       "CNdjeHv+7wYGrvMnGRj6CxgYGKqAmO03AwOrA5DB+ZWBwQpIM/D9YWCZAGIw6Du0gmmG9fcEIAye\n",
       "vxCagekflMFTAGXsD4Ay7B2gDH0off2/JogCAAqGE3PgySqdAAAAAElFTkSuQmCC\n",
       "\" style=\"display:inline;vertical-align:middle;\" /></a><br>"
      ],
      "text/plain": [
       "Y: Y"
      ]
     },
     "execution_count": 53,
     "metadata": {},
     "output_type": "execute_result"
    }
   ],
   "source": [
    "Y = Variable('Y')"
   ]
  },
  {
   "cell_type": "code",
   "execution_count": 54,
   "metadata": {},
   "outputs": [
    {
     "data": {
      "text/html": [
       "<strong id=\"Z\">Z:</strong> <a class=\"ProveItLink\" href=\"../__pv_it/common/45ae0922439dcf663d167aa2e9578f56471581520/common_expr.ipynb\"><img src=\"data:image/png;base64,iVBORw0KGgoAAAANSUhEUgAAAA4AAAAOBAMAAADtZjDiAAAAMFBMVEX///+IiIiYmJh2dnbMzMzc\n",
       "3NwiIiLu7u6qqqq6uroyMjJmZmZUVFREREQQEBAAAAB0/5/PAAAAAXRSTlMAQObYZgAAAGlJREFU\n",
       "CNdjYGB4//b03l8MDJw/GBjKnjMwcDcwMKwLYGDgYWDg/cLAwMDCwLB/AgMIMH8CUwz6AmCK4zeE\n",
       "O/8AAytIHdAMbiAdl8DAMImBgT2vgIEhnYGB6ykDg9cFBobzOWfX/VdgAABUNRfEfWVm3gAAAABJ\n",
       "RU5ErkJggg==\n",
       "\" style=\"display:inline;vertical-align:middle;\" /></a><br>"
      ],
      "text/plain": [
       "Z: Z"
      ]
     },
     "execution_count": 54,
     "metadata": {},
     "output_type": "execute_result"
    }
   ],
   "source": [
    "Z = Variable('Z')"
   ]
  },
  {
   "cell_type": "code",
   "execution_count": 55,
   "metadata": {},
   "outputs": [
    {
     "data": {
      "text/html": [
       "<strong id=\"a_star\">a_star:</strong> <a class=\"ProveItLink\" href=\"../__pv_it/common/e349d8b9811fc4815d5c4ac2a2c8ce6dc1c72b810/common_expr.ipynb\"><img src=\"data:image/png;base64,iVBORw0KGgoAAAANSUhEUgAAABMAAAAQBAMAAAAG6llRAAAAMFBMVEX///9UVFSqqqrMzMwiIiJE\n",
       "RESYmJgyMjK6urru7u4QEBCIiIh2dnZmZmbc3NwAAABRgo0vAAAAAXRSTlMAQObYZgAAAGZJREFU\n",
       "CNdjYICAOQwwoDeXDcY03CgNY/KJJMCYB9+oTICxH8K1MTCDld25vRLK73rA/gHC4lzGwBsAYfL+\n",
       "ZGDZAGFyBTDMN4Aw5x9g0Ifqmq/AIM70AMxk3cDmyAM1QXrzwx1gFgCGFhWuPOfqqAAAAABJRU5E\n",
       "rkJggg==\n",
       "\" style=\"display:inline;vertical-align:middle;\" /></a><br>"
      ],
      "text/plain": [
       "a_star: a_star"
      ]
     },
     "execution_count": 55,
     "metadata": {},
     "output_type": "execute_result"
    }
   ],
   "source": [
    "a_star = Variable('a_star', \"a^*\", fence_when_forced=True)"
   ]
  },
  {
   "cell_type": "code",
   "execution_count": 56,
   "metadata": {},
   "outputs": [
    {
     "data": {
      "text/html": [
       "<strong id=\"b_star\">b_star:</strong> <a class=\"ProveItLink\" href=\"../__pv_it/common/281d2eb0db6955ce1407fdff5e3dac678f8fa58c0/common_expr.ipynb\"><img src=\"data:image/png;base64,iVBORw0KGgoAAAANSUhEUgAAABEAAAAQBAMAAAACH4lsAAAAMFBMVEX////MzMyYmJjc3NyIiIhU\n",
       "VFR2dna6urqqqqpmZmYyMjIiIiIQEBBERETu7u4AAACIO4EmAAAAAXRSTlMAQObYZgAAAHNJREFU\n",
       "CNdjYACDZwxQ0PySiYGB784GBgZR1xAgn2sCAwNztAKQxd/AwJBq1v2AgaEeiBlMQaqzQQQjiFjq\n",
       "MgNiAN+vB+8NwCyOfwz8DmAW5wKG9wlgFtC4+gYwi1+BYf4DCKuA7xBEL6sC7wSoKVOSIAwA/0UY\n",
       "e7qWNWUAAAAASUVORK5CYII=\n",
       "\" style=\"display:inline;vertical-align:middle;\" /></a><br>"
      ],
      "text/plain": [
       "b_star: b_star"
      ]
     },
     "execution_count": 56,
     "metadata": {},
     "output_type": "execute_result"
    }
   ],
   "source": [
    "b_star = Variable('b_star', \"b^*\", fence_when_forced=True)"
   ]
  },
  {
   "cell_type": "code",
   "execution_count": 57,
   "metadata": {},
   "outputs": [
    {
     "data": {
      "text/html": [
       "<strong id=\"c_star\">c_star:</strong> <a class=\"ProveItLink\" href=\"../__pv_it/common/807917c8f3dd1e6334c50914c5a68aefd1975e9a0/common_expr.ipynb\"><img src=\"data:image/png;base64,iVBORw0KGgoAAAANSUhEUgAAABEAAAAQBAMAAAACH4lsAAAALVBMVEX///+YmJgQEBDu7u5mZmZU\n",
       "VFQyMjJERESqqqoiIiLc3NzMzMyIiIh2dnYAAABuqkWTAAAAAXRSTlMAQObYZgAAAFZJREFUCNdj\n",
       "YAADWwYo6DJhhLK2Ho2BsrgiBaCsq2s7DaDMpTAdDNxg8s6ZDRDuygb2BAhrLgNrA5jB8himlqkA\n",
       "xrK7AGPxAU2HqgtgMIGaclfwAJgGAC1gESb6GEwIAAAAAElFTkSuQmCC\n",
       "\" style=\"display:inline;vertical-align:middle;\" /></a><br>"
      ],
      "text/plain": [
       "c_star: c_star"
      ]
     },
     "execution_count": 57,
     "metadata": {},
     "output_type": "execute_result"
    }
   ],
   "source": [
    "c_star = Variable('c_star', \"c^*\", fence_when_forced=True)"
   ]
  },
  {
   "cell_type": "code",
   "execution_count": 58,
   "metadata": {},
   "outputs": [
    {
     "data": {
      "text/html": [
       "<strong id=\"d_star\">d_star:</strong> <a class=\"ProveItLink\" href=\"../__pv_it/common/f5cca29e960d4a26a1b282fdaddfe17d270d4bda0/common_expr.ipynb\"><img src=\"data:image/png;base64,iVBORw0KGgoAAAANSUhEUgAAABMAAAAQBAMAAAAG6llRAAAAMFBMVEX///9UVFSYmJiIiIjc3Nwy\n",
       "MjIiIiJ2dnbu7u66urqqqqpmZmYQEBBERETMzMwAAAAYOWz6AAAAAXRSTlMAQObYZgAAAHFJREFU\n",
       "CNdjYICAdgYYWNLNBKb57mx4aCgMEeNfwCKmAGHObyh0X9YAZpYxMDhCNUUD1YNolu12v6BCcxx4\n",
       "f0BYHIcYuAMgTO4fDGwFECbPBYb+CRBmfwHDeqiu/gUMolwOYCavAVMiO9QEYTtHSzALAA+MFqGV\n",
       "5zkHAAAAAElFTkSuQmCC\n",
       "\" style=\"display:inline;vertical-align:middle;\" /></a><br>"
      ],
      "text/plain": [
       "d_star: d_star"
      ]
     },
     "execution_count": 58,
     "metadata": {},
     "output_type": "execute_result"
    }
   ],
   "source": [
    "d_star = Variable('d_star', \"d^*\", fence_when_forced=True)"
   ]
  },
  {
   "cell_type": "code",
   "execution_count": 59,
   "metadata": {},
   "outputs": [
    {
     "data": {
      "text/html": [
       "<strong id=\"Am\">Am:</strong> <a class=\"ProveItLink\" href=\"../__pv_it/common/9ba9f9a2494d57097015cd7bf786dd8a3fc6a3b50/common_expr.ipynb\"><img src=\"data:image/png;base64,iVBORw0KGgoAAAANSUhEUgAAADAAAAAUBAMAAAA5EaOUAAAAMFBMVEX///92dnYiIiIQEBBERERU\n",
       "VFS6urqIiIjc3NxmZmaqqqru7u6YmJgyMjLMzMwAAADiRdoGAAAAAXRSTlMAQObYZgAAARhJREFU\n",
       "GNNjYIADjgNwJlcDlPEWRGxBqGGIgNL3QcQNJIm9EIrn/gYgMQFJgrEATO2aDzSTqQFJgtsATB2o\n",
       "T2BgaGJABtdABNuG9UAHVQIZoh3l4XziYUAxSZDENob3QCN9gCazuDPsL2NYDBQ7C5JIYOgHWqzF\n",
       "wPCK6QJDvwDDeaDYIiDmi5wZ78DAYMbAsGF/AsP6DQwhQMH3ICsYGJgvgCUY1jMwTGJgMIdKLAA6\n",
       "1QBsFMNcBgZFBrYf3AwMScAgAkrwfgBbzmDIwP2NgfNCF9hykPtZfoAdyPGNgesDA6+AAAPDRIYt\n",
       "/28zcPl/mgDSzKbAwD6BgWsOMAzuIfyKGiQKCDa2QIQAD8xgh4AtOBQhRy1PAwMAUzZAe91Ebq0A\n",
       "AAAASUVORK5CYII=\n",
       "\" style=\"display:inline;vertical-align:middle;\" /></a><br>"
      ],
      "text/plain": [
       "Am: A(m)"
      ]
     },
     "execution_count": 59,
     "metadata": {},
     "output_type": "execute_result"
    }
   ],
   "source": [
    "Am = Function(A,m)"
   ]
  },
  {
   "cell_type": "code",
   "execution_count": 60,
   "metadata": {},
   "outputs": [
    {
     "data": {
      "text/html": [
       "<strong id=\"Bm\">Bm:</strong> <a class=\"ProveItLink\" href=\"../__pv_it/common/c16c91f07f5f8de978354e53dc322222912254380/common_expr.ipynb\"><img src=\"data:image/png;base64,iVBORw0KGgoAAAANSUhEUgAAADEAAAAUBAMAAADW08iqAAAAMFBMVEX///92dnYyMjKqqqoiIiLu\n",
       "7u7c3NyIiIjMzMwQEBC6urpERERmZmZUVFSYmJgAAADEjrHzAAAAAXRSTlMAQObYZgAAASpJREFU\n",
       "KM9tkTFLw0AUx39NmjRpk5jNtX4CMzkJBkE3oYOLk9ncNB/Aon4C3UWI4OJkQR2kizgrdHJR1EkX\n",
       "hTpoRa36LkGTUm94d+9+9/73f3eQj+V8OZHGp+/ri3YCRisnbpRO2+C8gRblxKiraH1B9RMeC8KM\n",
       "qlB5Ba8Hs0WyoEJtSxYzmGGRaHIxIx2suQaVU9i9XGrGG03ZLUnG5s3DUSCld+C3Y6OX6CLiKQtr\n",
       "EcYOlAOsYBrzGa8LutI+UTTATjCMd/QXXGnMEkpfkVgR9C5OiB1nRLXDbaLUcOqUfQ6iBtUwa8f6\n",
       "yBzYPosJZ2aQOtDEyf5x5nMlYQrGSlLt4473z68ORVDV78EqTN7L+fVC2wOvM19Mhl/0d9SGfuEv\n",
       "a/1/avC3xcMPBrJIlnHD8U4AAAAASUVORK5CYII=\n",
       "\" style=\"display:inline;vertical-align:middle;\" /></a><br>"
      ],
      "text/plain": [
       "Bm: B(m)"
      ]
     },
     "execution_count": 60,
     "metadata": {},
     "output_type": "execute_result"
    }
   ],
   "source": [
    "Bm = Function(B,m)"
   ]
  },
  {
   "cell_type": "code",
   "execution_count": 61,
   "metadata": {},
   "outputs": [
    {
     "data": {
      "text/html": [
       "<strong id=\"Cn\">Cn:</strong> <a class=\"ProveItLink\" href=\"../__pv_it/common/512f1071b11b9c32d51d96252db26dc6b582a0aa0/common_expr.ipynb\"><img src=\"data:image/png;base64,iVBORw0KGgoAAAANSUhEUgAAACoAAAAUBAMAAAAJnbK1AAAAMFBMVEX////MzMy6uroyMjIiIiKq\n",
       "qqoQEBB2dnbc3NyYmJhmZmZUVFRERESIiIju7u4AAACOKgoaAAAAAXRSTlMAQObYZgAAAQVJREFU\n",
       "GNNjYIADjgkQmrUBRPLd2bWTo4CB4Q1MegeIuDaBgXUZUJ0FTPQxEL/xAxLrGxg4F8BE2S8wMJg9\n",
       "ADLUGBhYGmCifAkMXF9BDCkGhhaEvUYM/Q4g+gUDwy0GBqbqjrtrgbwqhvoLUAUngQbynGV4DzRo\n",
       "MoO/AFTUlYFBlMWAoR/ID2HIB1nGACSSgOR7BYb5QJ48gz/YOwJgUYZ4BobNYNH1IAexQ0xgWMzA\n",
       "8JOPgUGFoR9kWx3ENoZ0BtZ/7CDbWH8yMEQ9ADuHgeMTA7vBRAaG5QwMr07vUgCZrQJ0rwMDx84A\n",
       "BgZDhIeQfOyAEEUNHTg4gRyScPAGQxo5hjgbGAAETzz5DQh2nwAAAABJRU5ErkJggg==\n",
       "\" style=\"display:inline;vertical-align:middle;\" /></a><br>"
      ],
      "text/plain": [
       "Cn: C(n)"
      ]
     },
     "execution_count": 61,
     "metadata": {},
     "output_type": "execute_result"
    }
   ],
   "source": [
    "Cn = Function(C,n)"
   ]
  },
  {
   "cell_type": "code",
   "execution_count": 62,
   "metadata": {},
   "outputs": [
    {
     "data": {
      "text/html": [
       "<strong id=\"PofA\">PofA:</strong> <a class=\"ProveItLink\" href=\"../__pv_it/common/bfd6cbbf901c56262d9826d514808c68a6e9726f0/common_expr.ipynb\"><img src=\"data:image/png;base64,iVBORw0KGgoAAAANSUhEUgAAAC4AAAAUBAMAAAAAdhLPAAAAMFBMVEX///8iIiLc3Ny6urqIiIiq\n",
       "qqp2dnbMzMwQEBDu7u5mZmYyMjJERERUVFSYmJgAAAA4CJ/KAAAAAXRSTlMAQObYZgAAARZJREFU\n",
       "GNNjYIADpgcwFqsCiHz7/+zdXRMYGOZABKuB+BKY9ZuBgaeTgWETRHw/EM8GMdi/AXV+YeBbABbm\n",
       "2w/UyuYAZLF8BuJvDIxgQxmmrgfSnA1AFs8HBgbezwyKEGMe+BsAyc1AzL+BgUF/AYMXWJh5QjzI\n",
       "WVlAXJ/AwCrGwHAOLD6ZoR5k9msg9r+WtgRolyhY3ACklYEhEIjPTwCLNIPddmvV/QMgM4D4IwNC\n",
       "nJmBgWMDRJz9F0QcbE4AAwMjyI2GEOeDAMheJqA49weIvdw/IeIgp4H8wPMJSCxj4Nr/1wEsDtQ6\n",
       "5/9OBtbzH4EO2o4IZmg4gAGnAIINDTcwYHNAsBkOIZizkYRh8YKmBDke+RQYABYwQkDyoYgLAAAA\n",
       "AElFTkSuQmCC\n",
       "\" style=\"display:inline;vertical-align:middle;\" /></a><br>"
      ],
      "text/plain": [
       "PofA: P(A)"
      ]
     },
     "execution_count": 62,
     "metadata": {},
     "output_type": "execute_result"
    }
   ],
   "source": [
    "PofA = Function(P, A)"
   ]
  },
  {
   "cell_type": "code",
   "execution_count": 63,
   "metadata": {},
   "outputs": [
    {
     "data": {
      "text/html": [
       "<strong id=\"PofB\">PofB:</strong> <a class=\"ProveItLink\" href=\"../__pv_it/common/7f0ffa848206bbf1882e27a471f6edcafe36a5200/common_expr.ipynb\"><img src=\"data:image/png;base64,iVBORw0KGgoAAAANSUhEUgAAAC8AAAAUBAMAAADvtHnxAAAAMFBMVEX///8iIiLc3Ny6urqIiIiq\n",
       "qqp2dnbMzMwQEBDu7u5mZmYyMjJERERUVFSYmJgAAAA4CJ/KAAAAAXRSTlMAQObYZgAAAStJREFU\n",
       "GNNNkT1Lw1AUhp/axtAkTbtUcBDiL7Bujp1dKv6CDsXByX9QwUlQqJtDhw5OgiCOLkVBUNDayUH8\n",
       "QlwFtaViteo5N22TA/fc9+bJPV8XxjbxNJbLxr/+Xd0f16Bu9O3BZYFMYMg3eJtwpHoLnE/Sh6rt\n",
       "Hlhd/IbqX0j2oaIg1ZHVI6HXUx/gd2FXgfcGmQ6zRq/Lx2lwC3LISsC5BosKsm3sGSlkUuNWy1hT\n",
       "0FJQfXg5WZLd1+ylm5U9+SmvoBSQ3pbdyom7rpmiN9SdK5QrtuTlnQgMFBRDYPdDkB+2waNUlMyF\n",
       "bai1hm3YP8Pk7lcIVmW50sbChQinjNMcFA2Ylzabg/27Mz24a9HUE0Gk2YlpM8SRVWKa00iGYx9Z\n",
       "PZJePGz8aZ/hH0o5StI7AE+eAAAAAElFTkSuQmCC\n",
       "\" style=\"display:inline;vertical-align:middle;\" /></a><br>"
      ],
      "text/plain": [
       "PofB: P(B)"
      ]
     },
     "execution_count": 63,
     "metadata": {},
     "output_type": "execute_result"
    }
   ],
   "source": [
    "PofB = Function(P, B)"
   ]
  },
  {
   "cell_type": "code",
   "execution_count": 64,
   "metadata": {},
   "outputs": [
    {
     "data": {
      "text/html": [
       "<strong id=\"Pk\">Pk:</strong> <a class=\"ProveItLink\" href=\"../__pv_it/common/9bf77bad5c33645dacd8513ed59363df0ff5acb30/common_expr.ipynb\"><img src=\"data:image/png;base64,iVBORw0KGgoAAAANSUhEUgAAACoAAAAUBAMAAAAJnbK1AAAAMFBMVEX///8iIiLc3Ny6urqIiIiq\n",
       "qqp2dnbMzMwQEBDu7u5mZmYyMjJERERUVFSYmJgAAAA4CJ/KAAAAAXRSTlMAQObYZgAAAQ9JREFU\n",
       "GNNjYIADpgcQmlUBRL79f/burgkMDHOAqBEkcAks+ZuBgaeTgWETkLkLxJ8NIti/AXV9YeBbAGR/\n",
       "BQmwOQAJls9A/I2BEWgc80+QKGcDkOD5wMDA+5lBEaRKAGzkZiDm38DAoL+AwQvI5F7A+gqoJQvI\n",
       "rE9gYBVjYDgHZM4PcLIHuu81kOl/LW0J0GGiQGb8lAnzgFQgEJ+fADasGYhXLAAz64H4IwNcVNbH\n",
       "ASrK/gsiCjSB8zPTZxDTEOJcEADaxveB8ysbA9g27p8QUaBzeA8wfAeJLmPg2v8XbBZIG08Ag5cn\n",
       "kLkdEZCMCjAWpwBClG8BjMXmgBBlOARjzEYSBIU6mjRyDPEpMAAApNg/jo0N/hsAAAAASUVORK5C\n",
       "YII=\n",
       "\" style=\"display:inline;vertical-align:middle;\" /></a><br>"
      ],
      "text/plain": [
       "Pk: P(k)"
      ]
     },
     "execution_count": 64,
     "metadata": {},
     "output_type": "execute_result"
    }
   ],
   "source": [
    "Pk = Function(P, k)"
   ]
  },
  {
   "cell_type": "code",
   "execution_count": 65,
   "metadata": {},
   "outputs": [
    {
     "data": {
      "text/html": [
       "<strong id=\"Px\">Px:</strong> <a class=\"ProveItLink\" href=\"../__pv_it/common/ed3ed03681b166b9fbefedb104a4f950026141260/common_expr.ipynb\"><img src=\"data:image/png;base64,iVBORw0KGgoAAAANSUhEUgAAACoAAAAUBAMAAAAJnbK1AAAAMFBMVEX///8iIiLc3Ny6urqIiIiq\n",
       "qqp2dnbMzMwQEBDu7u5mZmYyMjJERERUVFSYmJgAAAA4CJ/KAAAAAXRSTlMAQObYZgAAAPdJREFU\n",
       "GNNjYIADpgcQmlUBRL79f/burgkMDHNg0pfA5G8GBp5OBoZNMNHZIIL9G1DXFwa+BTBRNgcgwfIZ\n",
       "iL8xMCrARDkbgATPBwYG3s8Migh7NwMx/wYGBv0FDF5A5hRfZTeg9iwgsz6BgVWMgeEcUGsCnwgj\n",
       "UM1roKj/tbQlQIeJAq2ZwPaTGWh8IFD0/ASwYc1AtQw8B0DMeiD+yAATBdrhABVl/wURFQXzC0Ck\n",
       "IcS5IAC0jXWCPwPLBLBt3D8hokDn2AecZ9ADMpcxcO3/CzYLpG2uy5R1oIDbjvAQko8FEKJooQMD\n",
       "h1BCEgbmYEgjxxCfAgMAYuY5gBp34ugAAAAASUVORK5CYII=\n",
       "\" style=\"display:inline;vertical-align:middle;\" /></a><br>"
      ],
      "text/plain": [
       "Px: P(x)"
      ]
     },
     "execution_count": 65,
     "metadata": {},
     "output_type": "execute_result"
    }
   ],
   "source": [
    "Px = Function(P, x)"
   ]
  },
  {
   "cell_type": "code",
   "execution_count": 66,
   "metadata": {},
   "outputs": [
    {
     "data": {
      "text/html": [
       "<strong id=\"Py\">Py:</strong> <a class=\"ProveItLink\" href=\"../__pv_it/common/7e80d24ad8e7673429bd95c14ec845d8c085d54b0/common_expr.ipynb\"><img src=\"data:image/png;base64,iVBORw0KGgoAAAANSUhEUgAAACkAAAAUBAMAAADiqgm2AAAAMFBMVEX///8iIiLc3Ny6urqIiIiq\n",
       "qqp2dnbMzMwQEBDu7u5mZmYyMjJERERUVFSYmJgAAAA4CJ/KAAAAAXRSTlMAQObYZgAAARRJREFU\n",
       "GNNNkTFLQlEYhh+96s17r+ZS820I2rRf4B2cXIR+gUM0NPUPEpraTluDgUPgINKlsUVwzmpyC6Q9\n",
       "KK4YFVHfucejffB9B54D7/ud98CqsjNzHqTz9XfyfKegu7wthenxDcE53C5pMdbTXUB+TrlnpQ71\n",
       "yCXSCzKhpZd6BG+ilbCzsvVrMjZFp9qjKYrNiD1FQWudtslvwwMUnA4tKGu71vToWhbbgl0v5l6s\n",
       "K0IfVap2BmojYi5LiRHvWEpduR+Gul+GigIDch1wKmZdXeLGhODJuPmfhh5LD6lLRF4bb/QTpXRf\n",
       "+qpxIy/0T9ZBmhcPpC/WUKdTiouJTcfWmMwsiGyStro4jb5OK/xP7Q+9wB8d7z9P/Xm9+gAAAABJ\n",
       "RU5ErkJggg==\n",
       "\" style=\"display:inline;vertical-align:middle;\" /></a><br>"
      ],
      "text/plain": [
       "Py: P(y)"
      ]
     },
     "execution_count": 66,
     "metadata": {},
     "output_type": "execute_result"
    }
   ],
   "source": [
    "Py = Function(P, y)"
   ]
  },
  {
   "cell_type": "code",
   "execution_count": 67,
   "metadata": {},
   "outputs": [
    {
     "data": {
      "text/html": [
       "<strong id=\"Pxy\">Pxy:</strong> <a class=\"ProveItLink\" href=\"../__pv_it/common/575472ae62b3d20639a71befdbfd1c0c91dd87100/common_expr.ipynb\"><img src=\"data:image/png;base64,iVBORw0KGgoAAAANSUhEUgAAAD4AAAAUBAMAAAAn2JMnAAAAMFBMVEX///8iIiLc3Ny6urqIiIiq\n",
       "qqp2dnbMzMwQEBDu7u5mZmYyMjJERERUVFSYmJgAAAA4CJ/KAAAAAXRSTlMAQObYZgAAAVRJREFU\n",
       "KM9tUj1LA0EQfbmvcPG8KBhLObH3AyzsTCEiAUn8B1dZWOUfRNDG7orrVEwRbAQJWgg2itjGBBEb\n",
       "EexFUCOBM/jxdi+XEy8PZnaYx8y83VmgD+UJ/6A7wr/8NB7PPWAPCdxK3wWsHeAkye8Kl+6w0wfs\n",
       "apI38nRam9ZBykny5iad9QoMtzGJATilZevATBUFhv7q1HJeEn4NCjVtMKy40MeBG7Zz7bFUXfLu\n",
       "AjT2fWZYvF+v8Xo5yvGMQJUylNIRrEtgjXHTkxVbrJc5KQzbyHJShfEbIh4yJ6EGqJQln/4MMznh\n",
       "RE4iU8cKj7nw+gLUp3tFaOE0q4UGpL6hIOR5lcVSE9Mwu6K+pX7zOETm4iucyVb7S/4xlzjKFuZd\n",
       "4Z3Js/ip4vfVvZ4CmCMxH+/HoD3gYLa3nwhXUeDTJnAd7TdC/3+IfzRfKP8tGfy/bAe/925P5mCU\n",
       "p3MAAAAASUVORK5CYII=\n",
       "\" style=\"display:inline;vertical-align:middle;\" /></a><br>"
      ],
      "text/plain": [
       "Pxy: P(x, y)"
      ]
     },
     "execution_count": 67,
     "metadata": {},
     "output_type": "execute_result"
    }
   ],
   "source": [
    "Pxy = Function(P, (x, y))"
   ]
  },
  {
   "cell_type": "code",
   "execution_count": 68,
   "metadata": {},
   "outputs": [
    {
     "data": {
      "text/html": [
       "<strong id=\"Pxyz\">Pxyz:</strong> <a class=\"ProveItLink\" href=\"../__pv_it/common/0a7c3fac8fed7c10a865aa465a6867db6cb074b30/common_expr.ipynb\"><img src=\"data:image/png;base64,iVBORw0KGgoAAAANSUhEUgAAAFIAAAAUBAMAAADsA3fZAAAAMFBMVEX///8iIiLc3Ny6urqIiIiq\n",
       "qqp2dnbMzMwQEBDu7u5mZmYyMjJERERUVFSYmJgAAAA4CJ/KAAAAAXRSTlMAQObYZgAAAYVJREFU\n",
       "KM+FUz1Lw2AQfpo2La1pqmAdpeKuFRzczCAiAWn9AUInB6e6CxXqUlwyZFMxQ3FRpOgguCji2g9E\n",
       "XERwEBcRqpVCLX7c+5GmCMYH7vLk7uFy770XoAflAX9CTTH/8l29P7OAHfjgmvsuoJWAYz/lNnOR\n",
       "NlV/h+74KcMGuVCLrI1Ayk8Z3SCnNYF4C2PwxQlZogJMOjCJ2ovj8wZP2GUoJaGZKkZoKqvECjmo\n",
       "I0CNPpHThwMVns7NINQU362Zh/R4JsvcrpRpSElq2wp3grxdJXsA7UIooTCyRFa3eKTIgjJLbBMJ\n",
       "Q7a4zgQFsle4SnjZYAeFvKQNCGXkQwSS/F1mEatgQdJlcS4xTgY6kWplEBK9aA1U5ZU7iIsTDXRE\n",
       "hMYwm61jAtEuq9kIfgm29vTIZrmP2Pmn4ZbfnbOPaHRDVDZ6Y74J5uhbaUqfepfg3aZqyU4l48MY\n",
       "9JTehoTJ7rCXFqxvQ1xcusQmG8WVZH1b56K3yWz3p828ZL/K/Pd36Cn8AAleXxL3VxX3AAAAAElF\n",
       "TkSuQmCC\n",
       "\" style=\"display:inline;vertical-align:middle;\" /></a><br>"
      ],
      "text/plain": [
       "Pxyz: P(x, y, z)"
      ]
     },
     "execution_count": 68,
     "metadata": {},
     "output_type": "execute_result"
    }
   ],
   "source": [
    "Pxyz = Function(P, (x, y, z))"
   ]
  },
  {
   "cell_type": "code",
   "execution_count": 69,
   "metadata": {},
   "outputs": [
    {
     "data": {
      "text/html": [
       "<strong id=\"Pq\">Pq:</strong> <a class=\"ProveItLink\" href=\"../__pv_it/common/52c8510efd0837ed6575fa4546c7f5369c22331e0/common_expr.ipynb\"><img src=\"data:image/png;base64,iVBORw0KGgoAAAANSUhEUgAAACgAAAAUBAMAAAANaGKIAAAAMFBMVEX///8iIiLc3Ny6urqIiIiq\n",
       "qqp2dnbMzMwQEBDu7u5mZmYyMjJERERUVFSYmJgAAAA4CJ/KAAAAAXRSTlMAQObYZgAAAQhJREFU\n",
       "GNNjYIADpgdgilUBRL79f/burgkMDHOgkpfA5G8GBp5OBoZNUMHZIIL9G1DPFwa+BVBBNgcgwfIZ\n",
       "iL8xMCpABTkbgATPBwYG3s8MinAbNwMx/wYGBv0FDF4gB+R5OjMwZAFZ9QkMrGIMDOeATAsFXqC2\n",
       "10CW/7W0JUAXiQJN62PgBWoLBAqenwA2qZmBgesDA0cCUCuQ95EBJshxgEHfACzI/gsiCNQ+34Hh\n",
       "PZBlCHEmCAAtmh/AcJoBbBH3T4gg0CHcDnxA3zEsY+Da/9cBLAjUxHnFFaRtOyLkwN7kAzqTUwAh\n",
       "CA4QkDPZHBCCDIeAGOTM2UhioEBm2y8FkUSPDj4FBgD6/j0EnkQEWwAAAABJRU5ErkJggg==\n",
       "\" style=\"display:inline;vertical-align:middle;\" /></a><br>"
      ],
      "text/plain": [
       "Pq: P(q)"
      ]
     },
     "execution_count": 69,
     "metadata": {},
     "output_type": "execute_result"
    }
   ],
   "source": [
    "Pq = Function(P, q)"
   ]
  },
  {
   "cell_type": "code",
   "execution_count": 70,
   "metadata": {},
   "outputs": [
    {
     "data": {
      "text/html": [
       "<strong id=\"QofA\">QofA:</strong> <a class=\"ProveItLink\" href=\"../__pv_it/common/17ab9a18fc8febf794ac5ca09c489fc95ba37f650/common_expr.ipynb\"><img src=\"data:image/png;base64,iVBORw0KGgoAAAANSUhEUgAAAC0AAAAUBAMAAADrQanMAAAAMFBMVEX///+qqqq6urrc3NwQEBAy\n",
       "MjJERERUVFTMzMwiIiKYmJh2dnZmZmaIiIju7u4AAABsX1SbAAAAAXRSTlMAQObYZgAAAStJREFU\n",
       "GNNjYIADKzhLGEzy3dl9CkQlgHkcAQwM7AYg1s4GBnagGCuYw8D6AagEKMfwFEjweTMwrIGYsfQf\n",
       "kNgLxCEPgEQ9A8NkiKEyn4HkEwYG7l8g7n4D5glgcS7eTyDDFBjswfzzCrwHwOJ6jCB13AcY9l8A\n",
       "cfMb2BaAjVHg+AvSFcAwvwHE/8/AKQCimRiY/wApxgkM/0HWMn5nYFEAibefOf4N5IkPDFNAXM5/\n",
       "UHEg4QoRLwFx71+AmMMIxCCFTBMY+h+8vcEBNBNsryEQx0Ps5b2wgHv9BrDTGMB+yAeGBw9QoK/6\n",
       "ZjJDA0grX/7XBwxi/+cA/QV2JHsDlwEsHCDgJZhkO6DGAA83MNgLJnn+/wDJGsCFweEMdO0UAUS8\n",
       "MKAqQYnHxQwMACWOSpDpxmUVAAAAAElFTkSuQmCC\n",
       "\" style=\"display:inline;vertical-align:middle;\" /></a><br>"
      ],
      "text/plain": [
       "QofA: Q(A)"
      ]
     },
     "execution_count": 70,
     "metadata": {},
     "output_type": "execute_result"
    }
   ],
   "source": [
    "QofA = Function(Q, A)"
   ]
  },
  {
   "cell_type": "code",
   "execution_count": 71,
   "metadata": {},
   "outputs": [
    {
     "data": {
      "text/html": [
       "<strong id=\"Qx\">Qx:</strong> <a class=\"ProveItLink\" href=\"../__pv_it/common/c880b7f5dcd3cdce86bc330706239936151d2f7a0/common_expr.ipynb\"><img src=\"data:image/png;base64,iVBORw0KGgoAAAANSUhEUgAAACkAAAAUBAMAAADiqgm2AAAAMFBMVEX///+qqqq6urrc3NwQEBAy\n",
       "MjJERERUVFTMzMwiIiKYmJh2dnZmZmaIiIju7u4AAABsX1SbAAAAAXRSTlMAQObYZgAAARdJREFU\n",
       "GNNjYIADKygtDCb57uw+BaISoKLsBiByZwMDO1CE1QAqyhcAJJ4CCT5vBoY1cKP2AnHIAyBRz8Aw\n",
       "GS76hIGB+xeIsd+AeQJclFWBwR7MO6/AewBo0N1iXaB27gMM+y+ARPMb2BYwMLxmWHlhKgMDVwDD\n",
       "/AaQ6H8GTgEGhn0M+x8oMzAwTmD4D7KM8TsDiwIDwwOGNJASjg8MU0A05z+wKAPDX6hoCYi+fwFs\n",
       "AgPHDxCPaQJD/4O3Nzj+MDCAbJPj/cBwD2wb74UF3Os3gJ3D9JHtAzNQkgfI7au+mczQANLGV3vv\n",
       "ziqQL8DOYm/gMkD28UswyXZAjQE9dIDm/AdZzYYSkkD3TBFADnW4NEoMLWZgAAALH0rGqUedOQAA\n",
       "AABJRU5ErkJggg==\n",
       "\" style=\"display:inline;vertical-align:middle;\" /></a><br>"
      ],
      "text/plain": [
       "Qx: Q(x)"
      ]
     },
     "execution_count": 71,
     "metadata": {},
     "output_type": "execute_result"
    }
   ],
   "source": [
    "Qx = Function(Q, x)"
   ]
  },
  {
   "cell_type": "code",
   "execution_count": 72,
   "metadata": {},
   "outputs": [
    {
     "data": {
      "text/html": [
       "<strong id=\"Qy\">Qy:</strong> <a class=\"ProveItLink\" href=\"../__pv_it/common/a5df77c890a5ef194a9984893a6172e8fad735cb0/common_expr.ipynb\"><img src=\"data:image/png;base64,iVBORw0KGgoAAAANSUhEUgAAACgAAAAUBAMAAAANaGKIAAAAMFBMVEX///+qqqq6urrc3NwQEBAy\n",
       "MjJERERUVFTMzMwiIiKYmJh2dnZmZmaIiIju7u4AAABsX1SbAAAAAXRSTlMAQObYZgAAASZJREFU\n",
       "GNNlkb1Lw0AYh58mmrbmw6xuGURwEDK76C5KEQdHoYOTWFAnEe8vMIKdXOziJthVFNrFRREzOCgE\n",
       "7OJYFBwUkcZ7k7SLB3fv3fPevR+/g9GYz00plNVLru/EbBTOHVmuFGUNxsMCvsms6VtLcDEMY8ew\n",
       "1tObQzgZQm8R+0c2ndA8HmVcZSE7PAZuF/oPmCtwQycWuK2sFrSncT/gnDMlMKXqY/q3WLqOKVLJ\n",
       "U/piLMBjmUn9MKIpF6sDgRgDIiVwV+BrLM9xajzp0yxRr/9c+QVJZDXYRBK5ccu+bOs+dElOw5Cq\n",
       "7+Fo/6WOwtD1egfJp4brErGsJsKiTUeEyNqxujNkguzxHuSCaHf6La6QU7YK6aDS9HOR5xJprw7/\n",
       "vkPH/wO2Rkpq99do7wAAAABJRU5ErkJggg==\n",
       "\" style=\"display:inline;vertical-align:middle;\" /></a><br>"
      ],
      "text/plain": [
       "Qy: Q(y)"
      ]
     },
     "execution_count": 72,
     "metadata": {},
     "output_type": "execute_result"
    }
   ],
   "source": [
    "Qy = Function(Q, y)"
   ]
  },
  {
   "cell_type": "code",
   "execution_count": 73,
   "metadata": {},
   "outputs": [
    {
     "data": {
      "text/html": [
       "<strong id=\"Qz\">Qz:</strong> <a class=\"ProveItLink\" href=\"../__pv_it/common/642537a43ab8539ddda8d5caa8fc77966ba709010/common_expr.ipynb\"><img src=\"data:image/png;base64,iVBORw0KGgoAAAANSUhEUgAAACgAAAAUBAMAAAANaGKIAAAAMFBMVEX///+qqqq6urrc3NwQEBAy\n",
       "MjJERERUVFTMzMwiIiKYmJh2dnZmZmaIiIju7u4AAABsX1SbAAAAAXRSTlMAQObYZgAAAQpJREFU\n",
       "GNNjYIADKwjFaAAi+e7sPgWiEqCSxSBiZwMDO1CA1QAq+BSEA4CqvBkY1sCM4b7AwBDyAMioZ2CY\n",
       "DBPkc2Dg/gVi7DdgngC3MYjBHsw5r8B7AEhpOnEsYGDYw7D/Akgwv4ENyOPLunMMyFnKML8BJPif\n",
       "gVMAKMjADHKXJMN/kD2M3xlYFECSbSBeP8MUEJvzH0SQqYABLFgCou5fAGtnEAfbrsnQ/+DtDY4/\n",
       "DAwgixgPMLCDLeK9sIB7/QagP4BO6ly9NggoeJqBoa/6ZjJDAwMT0L0HuFxBJkeAzGBv4DJA9ibY\n",
       "O2wH1BjQAoSBgef/D5AUctAxMHBMEUAO5GQGBozoAJoPAE0EQW+J9SNxAAAAAElFTkSuQmCC\n",
       "\" style=\"display:inline;vertical-align:middle;\" /></a><br>"
      ],
      "text/plain": [
       "Qz: Q(z)"
      ]
     },
     "execution_count": 73,
     "metadata": {},
     "output_type": "execute_result"
    }
   ],
   "source": [
    "Qz = Function(Q, z)"
   ]
  },
  {
   "cell_type": "code",
   "execution_count": 74,
   "metadata": {},
   "outputs": [
    {
     "data": {
      "text/html": [
       "<strong id=\"Rx\">Rx:</strong> <a class=\"ProveItLink\" href=\"../__pv_it/common/e01fe030e6a3ec8de15aad7fffaa1c26699579c90/common_expr.ipynb\"><img src=\"data:image/png;base64,iVBORw0KGgoAAAANSUhEUgAAACoAAAAUBAMAAAAJnbK1AAAAMFBMVEX///+6urp2dnYyMjLu7u5m\n",
       "ZmaqqqoiIiKIiIjMzMwQEBDc3NxERERUVFSYmJgAAAANh8IjAAAAAXRSTlMAQObYZgAAAQpJREFU\n",
       "GNNjYIAD7gcQmm0DiHz7/+6Zc0DaByZ9G0z+YWDYdYGBwRom6gwiOH8wMPD+ZOALgIkyNQAJjt8M\n",
       "DOy/Gdg3wERZFgAJHiCRf4BhO8JeQyDmv8DAtpaBoRXI9Ojd2ATUrgpkzr/X+3UCAwPQGSwKfBXs\n",
       "BgwMj4Gi/Q4Mjx0YGMqA1jgwfWEEGp8OFD0FNESBgWEhUC0DzwGQufOB+C8Dw/4LYFGgdANUlPMf\n",
       "0AkBYBOA/AkgUhzo3J8MDPoNLCDb2Bz6GTgcwLYxfwCqbdgGco58wnmGfUC1QQys9n8fMDCdaABp\n",
       "8+3wiAMFnCXCQ0g+LkCIooUODJxGCUkY8MGQRo4hvg0MALBIQ0lbRnDfAAAAAElFTkSuQmCC\n",
       "\" style=\"display:inline;vertical-align:middle;\" /></a><br>"
      ],
      "text/plain": [
       "Rx: R(x)"
      ]
     },
     "execution_count": 74,
     "metadata": {},
     "output_type": "execute_result"
    }
   ],
   "source": [
    "Rx = Function(R, x)"
   ]
  },
  {
   "cell_type": "code",
   "execution_count": 75,
   "metadata": {},
   "outputs": [
    {
     "data": {
      "text/html": [
       "<strong id=\"Ry\">Ry:</strong> <a class=\"ProveItLink\" href=\"../__pv_it/common/0e9a5d598f5b0e3c5cfddf0cd8991a47f449f6ef0/common_expr.ipynb\"><img src=\"data:image/png;base64,iVBORw0KGgoAAAANSUhEUgAAACkAAAAUBAMAAADiqgm2AAAAMFBMVEX///+6urp2dnYyMjLu7u5m\n",
       "ZmaqqqoiIiKIiIjMzMwQEBDc3NxERERUVFSYmJgAAAANh8IjAAAAAXRSTlMAQObYZgAAAR9JREFU\n",
       "GNNNkb9KA0EQh7/7l7vTS7SzTBrBzustvE6QCIFUFuIDWMTK+ppAGknewPgAwlUR0mgpGuVeIHJg\n",
       "KYIWgiFGnb3LJg7sDHyz/Gb2t7CI1ayoJ3l++x2PnqTW591ykpdvGKawM6d2qLL/Jf0JlYaW2lLJ\n",
       "m4I7xU003Vcp6EPrluvFWGtd0lpK6QraotiOGUaYSuvi+fyzB7KGafTpQkWN60a8RHAGAydkBKVT\n",
       "ofciUoNLiFZiZCH/XegMbtKcUo38SUH9H1mhkSvQxJOFDFHwpLsd22oajwRpMc2S+614wKbQI6pi\n",
       "kVPD2Z1lmHcxG0IPOsfyQqu3NLJ4cVPO3hIqd8qh/aHd0fGAmwWxdlJHHaNzqNxK/lP9Q6/wB0jf\n",
       "Rh36sMVdAAAAAElFTkSuQmCC\n",
       "\" style=\"display:inline;vertical-align:middle;\" /></a><br>"
      ],
      "text/plain": [
       "Ry: R(y)"
      ]
     },
     "execution_count": 75,
     "metadata": {},
     "output_type": "execute_result"
    }
   ],
   "source": [
    "Ry = Function(R, y)"
   ]
  },
  {
   "cell_type": "code",
   "execution_count": 76,
   "metadata": {},
   "outputs": [
    {
     "data": {
      "text/html": [
       "<strong id=\"Rz\">Rz:</strong> <a class=\"ProveItLink\" href=\"../__pv_it/common/4afdbfe9a59343ab13126573653976a84be0f0fa0/common_expr.ipynb\"><img src=\"data:image/png;base64,iVBORw0KGgoAAAANSUhEUgAAACkAAAAUBAMAAADiqgm2AAAAMFBMVEX///+6urp2dnYyMjLu7u5m\n",
       "ZmaqqqoiIiKIiIjMzMwQEBDc3NxERERUVFSYmJgAAAANh8IjAAAAAXRSTlMAQObYZgAAAQhJREFU\n",
       "GNNjYIAD7gcQOhtMvv1/98w5IO0DleXdAKb+MDDsusDAYA0VZTEAkZw/gPI/GfgCYEZpgAiO3wwM\n",
       "7L8Z2DfARL1ABM8CBob8Awzb4dYyCwAJ/gsMbGsZGFqBTMYqgXkMDEwgs+bf6/06gYEB7IwXoQcY\n",
       "GPhA1vU7MDx2YGAoAzIdGPYASbYCIHEKaIgCA8NCsHuOgIgPQOIvA8P+C1BRWQaoKOc/oBMCICaw\n",
       "XQCJMgJN4PjJwKDfwAK2LZWB4QLENmag+vyGbQyqQG11es1At7IqMLDa/33AwHSigUEcyGV4ZQjy\n",
       "xQREQCJ87I4QRA8dGDiNEpIwAAt1ng3IorAYes3AAABH6z4bpEC0VQAAAABJRU5ErkJggg==\n",
       "\" style=\"display:inline;vertical-align:middle;\" /></a><br>"
      ],
      "text/plain": [
       "Rz: R(z)"
      ]
     },
     "execution_count": 76,
     "metadata": {},
     "output_type": "execute_result"
    }
   ],
   "source": [
    "Rz = Function(R, z)"
   ]
  },
  {
   "cell_type": "code",
   "execution_count": 77,
   "metadata": {},
   "outputs": [
    {
     "data": {
      "text/html": [
       "<strong id=\"fa\">fa:</strong> <a class=\"ProveItLink\" href=\"../__pv_it/common/9ac5f21595b2ed44b42a15e8a4723b3ae344c0140/common_expr.ipynb\"><img src=\"data:image/png;base64,iVBORw0KGgoAAAANSUhEUgAAACQAAAAUBAMAAAAXVIIGAAAAMFBMVEX///8yMjJERETMzMwQEBCY\n",
       "mJgiIiK6urqqqqp2dnZUVFTc3NyIiIhmZmbu7u4AAADOOTK3AAAAAXRSTlMAQObYZgAAAO9JREFU\n",
       "GNNjYICCrRCKYwOYent2AwOfAlRqNZhc2d/AwLgBKvQQRPB9f87AEAszgPMASPsHIJENE+JzAIkn\n",
       "MDBwJ8CEGMQZGFiv5F5g4LkA5Oyde+QBA8NcIIsfqJspgIGB3ZtBHsgNBOL9BgwMbA0MDE8CGC4B\n",
       "uW1A3A/ELAUMDPcfMOQAmfZAPA0q5MTA9xkqpMUA1sj3E+KcMiD2YQAbz/eDgUugG2w833eQ24CO\n",
       "0GEIWzCBgeEm0G6QanagU1+dsV4DNFIYqAAcBggPJTB0MQaAWMjeTgKHBgMTUuDE3IaohwWhNtz/\n",
       "sIBm3cAAAKczN4yPHsSgAAAAAElFTkSuQmCC\n",
       "\" style=\"display:inline;vertical-align:middle;\" /></a><br>"
      ],
      "text/plain": [
       "fa: f(a)"
      ]
     },
     "execution_count": 77,
     "metadata": {},
     "output_type": "execute_result"
    }
   ],
   "source": [
    "fa = Function(f, a)"
   ]
  },
  {
   "cell_type": "code",
   "execution_count": 78,
   "metadata": {},
   "outputs": [
    {
     "data": {
      "text/html": [
       "<strong id=\"fb\">fb:</strong> <a class=\"ProveItLink\" href=\"../__pv_it/common/924d50e57f1367e49d16e8357583a06d8852e1bc0/common_expr.ipynb\"><img src=\"data:image/png;base64,iVBORw0KGgoAAAANSUhEUgAAACIAAAAUBAMAAAAaSvJBAAAAMFBMVEX///8yMjJERETMzMwQEBCY\n",
       "mJgiIiK6urqqqqp2dnZUVFTc3NyIiIhmZmbu7u4AAADOOTK3AAAAAXRSTlMAQObYZgAAAPhJREFU\n",
       "GNNVkCFPA0EQRt81LdemZREVqJLTbZrwD0ChEMVDcsGSJih0FaLmHA6JIEWcqQaLaFISDMEAIUE1\n",
       "xZArgRC+3anpJrM7+76d2ZmB5RqHvZqHYzbJcQlve/JHgVxnAyKJLfmvHrjiA47kLGS1Ox/7qe0E\n",
       "4j8v73qcQj21Ezah8tif0phCdDMZwKXohkJLPZhvuR84ELndhjWp2Qu/cC6Sycqn8ID7hh3dLpak\n",
       "Rbww0saivljX/2e67WOZC957IbMrfE36/YquvCeV6kuOVd3sXk9oSk6wLsJyKcPIK6FTrNPj0D8l\n",
       "G5WfxuGzvU6MdGB1qpWcf45BOl1adluJAAAAAElFTkSuQmCC\n",
       "\" style=\"display:inline;vertical-align:middle;\" /></a><br>"
      ],
      "text/plain": [
       "fb: f(b)"
      ]
     },
     "execution_count": 78,
     "metadata": {},
     "output_type": "execute_result"
    }
   ],
   "source": [
    "fb = Function(f, b)"
   ]
  },
  {
   "cell_type": "code",
   "execution_count": 79,
   "metadata": {},
   "outputs": [
    {
     "data": {
      "text/html": [
       "<strong id=\"fab\">fab:</strong> <a class=\"ProveItLink\" href=\"../__pv_it/common/ec12bae227206bcf580a0133a4e659196d167a9d0/common_expr.ipynb\"><img src=\"data:image/png;base64,iVBORw0KGgoAAAANSUhEUgAAADcAAAAUBAMAAADbzbjtAAAAMFBMVEX///8yMjJERETMzMwQEBCY\n",
       "mJgiIiK6urqqqqp2dnZUVFTc3NyIiIhmZmbu7u4AAADOOTK3AAAAAXRSTlMAQObYZgAAAUlJREFU\n",
       "KM9lUjFLw0AU/hKtTaK9ZHbRwUkc3N0EJx1uclGhOLiokH/QzDo0i04KroJDFkfRwbFCEQfBQk8o\n",
       "CqK0xaG6iO/dJSHRg1y+u+/ue99774B0XOLPODS/j7sEYrawL+bqgJdofN6MYCXFW1abTgT63OgV\n",
       "2CpJ+hFNJ4ycAU27JbKhaOoxcinAZL1EHmvtEKg87LcxRUFwdXqrDDndeqRLvOffALYEqquYSd0O\n",
       "VT9BhR1dLwIT5KAncW9I54dvOByqSd846XcV9gxZC9CPMTZIozO5DPGZp9mIDDkPLSu+TVLsQrJM\n",
       "lWXXoA2JL3iBKagfihVoQ2IEY3sB62exGNLKkzatazFlwFos8dZaugixQ6mKzhFHpixc3Y+8fI7K\n",
       "0AtwYElGeeHdvIZU+O1njeysZe95U8nP5pOBWbNlRtqFDv97JhvAL6mEUHW/EEQ3AAAAAElFTkSu\n",
       "QmCC\n",
       "\" style=\"display:inline;vertical-align:middle;\" /></a><br>"
      ],
      "text/plain": [
       "fab: f(a, b)"
      ]
     },
     "execution_count": 79,
     "metadata": {},
     "output_type": "execute_result"
    }
   ],
   "source": [
    "fab = Function(f, (a, b))"
   ]
  },
  {
   "cell_type": "code",
   "execution_count": 80,
   "metadata": {},
   "outputs": [
    {
     "data": {
      "text/html": [
       "<strong id=\"fx\">fx:</strong> <a class=\"ProveItLink\" href=\"../__pv_it/common/9918b27dc7d78e2a21e1e7c6e103487538ca4c170/common_expr.ipynb\"><img src=\"data:image/png;base64,iVBORw0KGgoAAAANSUhEUgAAACUAAAAUBAMAAAD4luk4AAAAMFBMVEX///8yMjJERETMzMwQEBCY\n",
       "mJgiIiK6urqqqqp2dnZUVFTc3NyIiIhmZmbu7u4AAADOOTK3AAAAAXRSTlMAQObYZgAAAO9JREFU\n",
       "GNNjYICCrVC6G0K9PbuBgU8BKsa1AUyt7G9gYNwAFeMTAJPfnzMwxMLMYJgDIjg+AIlsuNgTEMGZ\n",
       "wMDAnQAXYyxgYGC9knuBgecC0Iwzq2uAGjmBTAb+AwwMTAEMDC8Zwg4kAtWALNlvwMDA1sDAMI9h\n",
       "/oNqoPEgY/qBmAVoyAMGJZB5zCArp0HFGBj+wMW0GCB6GZg/g8TYQXp9GCB29PF8YDgHsYPvOwPY\n",
       "Aew/mD5wA6V4JwDVfoBo4Ftz7mwoyM1AZ3CCQwTht2cMDF2MASAWShgkPQSzmJDDKuY2hAkLU7gk\n",
       "UthHMzAAABcoOI8ge5+JAAAAAElFTkSuQmCC\n",
       "\" style=\"display:inline;vertical-align:middle;\" /></a><br>"
      ],
      "text/plain": [
       "fx: f(x)"
      ]
     },
     "execution_count": 80,
     "metadata": {},
     "output_type": "execute_result"
    }
   ],
   "source": [
    "fx = Function(f, x)"
   ]
  },
  {
   "cell_type": "code",
   "execution_count": 81,
   "metadata": {},
   "outputs": [
    {
     "data": {
      "text/html": [
       "<strong id=\"fy\">fy:</strong> <a class=\"ProveItLink\" href=\"../__pv_it/common/ee35c2a5743460d6da9a217c170dda327c43f8290/common_expr.ipynb\"><img src=\"data:image/png;base64,iVBORw0KGgoAAAANSUhEUgAAACQAAAAUBAMAAAAXVIIGAAAAMFBMVEX///8yMjJERETMzMwQEBCY\n",
       "mJgiIiK6urqqqqp2dnZUVFTc3NyIiIhmZmbu7u4AAADOOTK3AAAAAXRSTlMAQObYZgAAAQNJREFU\n",
       "GNM9kDFLA0EQhb8cxlMuWQUL29RqkX8Qf0CQpFc4BCsRUoiVxVUWNrGyE2IpWmxjrYXtQQQb0cbK\n",
       "RtFGLATx7eydCzM783bn8eZBda7jNeftei89rlM9XVq+GBc0fAW9hOS+X2GrJpi/DeOfSrs15NYD\n",
       "nkOW1xDL0HzYm9Kawtsz2QacCV7QdDKAk31a4hgKuunCbEFW3JNIypGgsWJmhKNvAz21pxEi/aXX\n",
       "jdAKNkh7kTuVB4o+kT6Z2OswiA/aJKI9Sb9UPooiiE8l1V2VPyqX9ME8sIXEhss5bgxCp7XP+RjZ\n",
       "2tvmBolnh7VozuZTNKDDYSlVrP7vXxvd9PwBhiU4eyXKqbwAAAAASUVORK5CYII=\n",
       "\" style=\"display:inline;vertical-align:middle;\" /></a><br>"
      ],
      "text/plain": [
       "fy: f(y)"
      ]
     },
     "execution_count": 81,
     "metadata": {},
     "output_type": "execute_result"
    }
   ],
   "source": [
    "fy = Function(f, y)"
   ]
  },
  {
   "cell_type": "code",
   "execution_count": 82,
   "metadata": {},
   "outputs": [
    {
     "data": {
      "text/html": [
       "<strong id=\"fz\">fz:</strong> <a class=\"ProveItLink\" href=\"../__pv_it/common/61cf0302d371a64ab849c3eeb924f3e2539249ee0/common_expr.ipynb\"><img src=\"data:image/png;base64,iVBORw0KGgoAAAANSUhEUgAAACQAAAAUBAMAAAAXVIIGAAAAMFBMVEX///8yMjJERETMzMwQEBCY\n",
       "mJgiIiK6urqqqqp2dnZUVFTc3NyIiIhmZmbu7u4AAADOOTK3AAAAAXRSTlMAQObYZgAAAN1JREFU\n",
       "GNNjYIAC7gAwxbEBTL09C6QfQaVWg8mV/Q0MDNJQoYcggu/7cwYG1gtQIc4DIO0fgATbBqgQnwNI\n",
       "PAFIbINZwyAO1HIlF6jpLJDDnlJgysAwF8jiB+lWBeJHMXcVGBgCgaz9BkAiA4gfMGwCkm1A3A8y\n",
       "wR1EMOsBCXsgngYXqmKACmkxQDVyLACxyoDYhwFqfC8DwwKw8XzfQUJAq5lTpx4sYGC4CXTNB6hy\n",
       "XoYQoDMZhIGOV2BA8VACQxcjOKCQvZ30EMLURgROzG0IExaE2nD/wwKadQMDAElNMH+4gMr0AAAA\n",
       "AElFTkSuQmCC\n",
       "\" style=\"display:inline;vertical-align:middle;\" /></a><br>"
      ],
      "text/plain": [
       "fz: f(z)"
      ]
     },
     "execution_count": 82,
     "metadata": {},
     "output_type": "execute_result"
    }
   ],
   "source": [
    "fz = Function(f, z)"
   ]
  },
  {
   "cell_type": "code",
   "execution_count": 83,
   "metadata": {},
   "outputs": [
    {
     "data": {
      "text/html": [
       "<strong id=\"fxy\">fxy:</strong> <a class=\"ProveItLink\" href=\"../__pv_it/common/016bc6ef40c5540300f420f1caaf9d2b0e4a73620/common_expr.ipynb\"><img src=\"data:image/png;base64,iVBORw0KGgoAAAANSUhEUgAAADoAAAAUBAMAAAAuMzNdAAAAMFBMVEX///8yMjJERETMzMwQEBCY\n",
       "mJgiIiK6urqqqqp2dnZUVFTc3NyIiIhmZmbu7u4AAADOOTK3AAAAAXRSTlMAQObYZgAAAUNJREFU\n",
       "KM9jYIAC7gAGNMCxAUy9PQukHzFggNVgcmV/AwODNKbsQxDB9/05AwPrBUxZzgMg8z8ACbYNmLJ8\n",
       "DiAlCUBiGwMWIA4080ou0NSzQM6bU9tPHgALv7nDwO3HwDAXyOQHiagCDZrAmsMmAJadUMLAA7Qv\n",
       "EMjcbwAkMoA2POD8xw62nrvhIgOTAgNDG5DdDxJwB+oFi4Cdw+ADNtEeyJ4GlYXaAQLs/xjsDSCy\n",
       "WgwQkxnAImDAK8BwBEiVAbEPA8RVHA/OM/A8AMsyLQDrCQQFFYgPdHx9gz7DVga+jyC9C9i/Aqmb\n",
       "QDtAQQUy5NWZN1eBEZUG1M635uxvoKAw0CNghyJCkuMB1GYGvgSGLkZwxCJigROIFzK8LwDHQtJD\n",
       "iKA2TPYNEKcy6EBiMOY2RBAe+yCjas4aIGvAlnJYNzAAALyhTqYIoVkYAAAAAElFTkSuQmCC\n",
       "\" style=\"display:inline;vertical-align:middle;\" /></a><br>"
      ],
      "text/plain": [
       "fxy: f(x, y)"
      ]
     },
     "execution_count": 83,
     "metadata": {},
     "output_type": "execute_result"
    }
   ],
   "source": [
    "fxy = Function(f, (x, y))"
   ]
  },
  {
   "cell_type": "code",
   "execution_count": 84,
   "metadata": {},
   "outputs": [
    {
     "data": {
      "text/html": [
       "<strong id=\"gx\">gx:</strong> <a class=\"ProveItLink\" href=\"../__pv_it/common/0d87c25c91799e68f1184fc1618eb64c91fa3bb90/common_expr.ipynb\"><img src=\"data:image/png;base64,iVBORw0KGgoAAAANSUhEUgAAACUAAAAUBAMAAAD4luk4AAAAMFBMVEX///8yMjK6urpUVFQiIiKY\n",
       "mJjMzMwQEBDu7u7c3Nx2dnZERESIiIhmZmaqqqoAAAA6bD3aAAAAAXRSTlMAQObYZgAAAOtJREFU\n",
       "GNNjYICCqVD6JQMccGyAMpgnwMUYYUwOAbhYLJy1Bs7yhLPaYQxOB4QpCkDi7ZnXDDwXgCadsdQB\n",
       "auQCMrk2cP5l4A5gYOhiCDngyMDACrTkfQPDPwaWBwwMKxjWN2gyMPABjalmYPvBwA40pIFhN8g8\n",
       "tg8MbF8ZeBzAYgwMf6BirD8ZuC+A9TKwfQOJMTkw8H1g4H8AtuMFzweGE2A7OH4y2DeAHMD0j/sD\n",
       "J1CKdwEDg/KpJWANHDYnzoaC3JwAMmEvit9agAYzcHxCD4P1DUBrGRi4kcNKOeYeSphyI8IUHvaR\n",
       "DAwAhys5w1WDmaIAAAAASUVORK5CYII=\n",
       "\" style=\"display:inline;vertical-align:middle;\" /></a><br>"
      ],
      "text/plain": [
       "gx: g(x)"
      ]
     },
     "execution_count": 84,
     "metadata": {},
     "output_type": "execute_result"
    }
   ],
   "source": [
    "gx = Function(g, x)"
   ]
  },
  {
   "cell_type": "code",
   "execution_count": 85,
   "metadata": {},
   "outputs": [
    {
     "data": {
      "text/html": [
       "<strong id=\"gy\">gy:</strong> <a class=\"ProveItLink\" href=\"../__pv_it/common/eb2ad77f9de0703ccf57cecc51dd0f9091756a9a0/common_expr.ipynb\"><img src=\"data:image/png;base64,iVBORw0KGgoAAAANSUhEUgAAACMAAAAUBAMAAAD1iJl/AAAAMFBMVEX///8yMjK6urpUVFQiIiKY\n",
       "mJjMzMwQEBDu7u7c3Nx2dnZERESIiIhmZmaqqqoAAAA6bD3aAAAAAXRSTlMAQObYZgAAAQBJREFU\n",
       "GNNFkEFLAkEcxX+uuq6O2l67BXq3b9B+gvAadOgjSNcuAwYdunQIukmHjkqCdIgI9hwrKUHH8ioR\n",
       "ilAoWPSfXWf7w8x7PGbezHuQTLGZ4JR0zjeYvUil7Q16vlXyI8u6luTS82eWXKYOmR3ZPqMPhuIy\n",
       "DLnSlMSi1C/+cCfotHgWV/GfaX7Zh07F5wGqAZzgLjkGXQhZgzvH/aIcGImGdr9jKb9CjcxFxpRb\n",
       "4ARU52xNjD0D1G5s763Y0/REeqEh2SvXUHu6gbpI7ehdMmSOzIcfbaCxrFN5AW8Rx876hpjYt1qZ\n",
       "Fu7JNVWYlFM7fEsqdKJXQfVfoS36AP4Ag/o+TsRNrLwAAAAASUVORK5CYII=\n",
       "\" style=\"display:inline;vertical-align:middle;\" /></a><br>"
      ],
      "text/plain": [
       "gy: g(y)"
      ]
     },
     "execution_count": 85,
     "metadata": {},
     "output_type": "execute_result"
    }
   ],
   "source": [
    "gy = Function(g, y)"
   ]
  },
  {
   "cell_type": "code",
   "execution_count": 86,
   "metadata": {},
   "outputs": [
    {
     "data": {
      "text/html": [
       "<strong id=\"gz\">gz:</strong> <a class=\"ProveItLink\" href=\"../__pv_it/common/f842964860a7a472735ddfb465240255514c3fd40/common_expr.ipynb\"><img src=\"data:image/png;base64,iVBORw0KGgoAAAANSUhEUgAAACMAAAAUBAMAAAD1iJl/AAAAMFBMVEX///8yMjK6urpUVFQiIiKY\n",
       "mJjMzMwQEBDu7u7c3Nx2dnZERESIiIhmZmaqqqoAAAA6bD3aAAAAAXRSTlMAQObYZgAAAOFJREFU\n",
       "GNNjYICCqRDqJQMccGyA0MwT4EKMUCaHAFwoFsZYAxfyhDHaYQxOB7gJCkDi7ZnXDDwXgAyVIrYA\n",
       "Bi4gi2sD518G7gCgyVvP3mZgYAWa/76B4R8DywOgEAMn0CV8QCOqGdh+MLCDTGDIbmBgYPvAwPaV\n",
       "gccBIsRkwAAWYv3JwH0BrJHhMUglkwMD3wcG/gdg4/kuMDCDjef4yWDfALY6JSpGiIGBdwEDg/Kp\n",
       "JWDlDBdYC4EmMiaAtO9F9lAL0AYGjk9o3l7fwA3yDDdS4CjH3EMOQm5EEMICOpKBAQAugTMjcdH7\n",
       "6wAAAABJRU5ErkJggg==\n",
       "\" style=\"display:inline;vertical-align:middle;\" /></a><br>"
      ],
      "text/plain": [
       "gz: g(z)"
      ]
     },
     "execution_count": 86,
     "metadata": {},
     "output_type": "execute_result"
    }
   ],
   "source": [
    "gz = Function(g, z)"
   ]
  },
  {
   "cell_type": "code",
   "execution_count": 87,
   "metadata": {},
   "outputs": [
    {
     "data": {
      "text/html": [
       "<strong id=\"alpha\">alpha:</strong> <a class=\"ProveItLink\" href=\"../__pv_it/common/c8547a5614922d83165874ce64514ce6b5c27ebf0/common_expr.ipynb\"><img src=\"data:image/png;base64,iVBORw0KGgoAAAANSUhEUgAAAA0AAAAJBAMAAAAbVLtZAAAAMFBMVEX////MzMxUVFSYmJgyMjJE\n",
       "RESqqqoQEBDu7u4iIiLc3Ny6urpmZmaIiIh2dnYAAADsbLlPAAAAAXRSTlMAQObYZgAAAEtJREFU\n",
       "CNdjYGB4e2cDAxCs3MBRxZHAwDCPgSGGt4GB5wcDwxE+Bgb2AAaG5y8YGPofMDC8B0rzGwD5QOU8\n",
       "CgzM7xmBjHfGBjxvGQCYMxGNK+jLuAAAAABJRU5ErkJggg==\n",
       "\" style=\"display:inline;vertical-align:middle;\" /></a><br>"
      ],
      "text/plain": [
       "alpha: alpha"
      ]
     },
     "execution_count": 87,
     "metadata": {},
     "output_type": "execute_result"
    }
   ],
   "source": [
    "alpha = Variable('alpha', r'\\alpha')"
   ]
  },
  {
   "cell_type": "code",
   "execution_count": 88,
   "metadata": {},
   "outputs": [
    {
     "data": {
      "text/html": [
       "<strong id=\"beta\">beta:</strong> <a class=\"ProveItLink\" href=\"../__pv_it/common/1725f6efc281344764d75a138e1fb4aee16d5f2c0/common_expr.ipynb\"><img src=\"data:image/png;base64,iVBORw0KGgoAAAANSUhEUgAAAAwAAAATBAMAAABW2/GaAAAAMFBMVEX///92dnYyMjJmZmYQEBAi\n",
       "IiJERES6urrMzMxUVFTu7u6qqqqIiIiYmJjc3NwAAAChBMO+AAAAAXRSTlMAQObYZgAAAGpJREFU\n",
       "CNdjYGBg4Lv7AEgynOaaASR5GxjKgNRbBoatQOoAA8NMMMXux8DA3meruoCBgYdL0ASogRHIUgBi\n",
       "oPgHBoYKoE4HBgYBBgbOCQwMQPEnQCW5DBzhQOleGcEFYPUgAKV4IFQFmAQAykYSUwyEU24AAAAA\n",
       "SUVORK5CYII=\n",
       "\" style=\"display:inline;vertical-align:middle;\" /></a><br>"
      ],
      "text/plain": [
       "beta: beta"
      ]
     },
     "execution_count": 88,
     "metadata": {},
     "output_type": "execute_result"
    }
   ],
   "source": [
    "beta = Variable('beta', r'\\beta')"
   ]
  },
  {
   "cell_type": "code",
   "execution_count": 89,
   "metadata": {},
   "outputs": [
    {
     "data": {
      "text/html": [
       "<strong id=\"theta\">theta:</strong> <a class=\"ProveItLink\" href=\"../__pv_it/common/9a2e478e76597ebb8c0f0e926b301ff1343272f20/common_expr.ipynb\"><img src=\"data:image/png;base64,iVBORw0KGgoAAAANSUhEUgAAAAoAAAAPBAMAAAAv0UM9AAAAMFBMVEX////c3Nx2dnYyMjJUVFSI\n",
       "iIgiIiIQEBDMzMxmZmZERES6urqqqqqYmJju7u4AAAAsk9KYAAAAAXRSTlMAQObYZgAAAGFJREFU\n",
       "CNdjYGDgu8MABLveTGBg4Khj+MfAwHaB4Q8Dw3UGhr8MDJkMHH8YuH8zsP5mYPni4v6Bgc2AgR+I\n",
       "FBj6DzC8P8AwnYHh/QaGrwwM7BtYExgYOAPEBIAmTp3HwAAAUycX2qt3A08AAAAASUVORK5CYII=\n",
       "\" style=\"display:inline;vertical-align:middle;\" /></a><br>"
      ],
      "text/plain": [
       "theta: theta"
      ]
     },
     "execution_count": 89,
     "metadata": {},
     "output_type": "execute_result"
    }
   ],
   "source": [
    "theta = Variable('theta', r'\\theta')"
   ]
  },
  {
   "cell_type": "code",
   "execution_count": 90,
   "metadata": {},
   "outputs": [
    {
     "data": {
      "text/html": [
       "<strong id=\"eps\">eps:</strong> <a class=\"ProveItLink\" href=\"../__pv_it/common/6ccbd8f7424e34c92aa1208d7ccef106f5849c250/common_expr.ipynb\"><img src=\"data:image/png;base64,iVBORw0KGgoAAAANSUhEUgAAAAkAAAAJBAMAAAASvxsjAAAAJ1BMVEX///8iIiIyMjLc3Nyqqqru\n",
       "7u7MzMxmZma6uroQEBBERESYmJgAAADL2NF4AAAAAXRSTlMAQObYZgAAADZJREFUCNdjYOBeOauB\n",
       "gaE6gWMDA0cCAxCwui4HkQEgdhiIYHBjYGBmYDBKYN3CwMChKZXAAADzqwelB4oTtAAAAABJRU5E\n",
       "rkJggg==\n",
       "\" style=\"display:inline;vertical-align:middle;\" /></a><br>"
      ],
      "text/plain": [
       "eps: eps"
      ]
     },
     "execution_count": 90,
     "metadata": {},
     "output_type": "execute_result"
    }
   ],
   "source": [
    "eps = Variable('eps', r'\\varepsilon')"
   ]
  },
  {
   "cell_type": "code",
   "execution_count": 91,
   "metadata": {},
   "outputs": [
    {
     "data": {
      "text/html": [
       "<strong id=\"rho\">rho:</strong> <a class=\"ProveItLink\" href=\"../__pv_it/common/03a8789f93d13ec9b83f8f438ab57ca3d4cd5f0a0/common_expr.ipynb\"><img src=\"data:image/png;base64,iVBORw0KGgoAAAANSUhEUgAAAAsAAAANBAMAAACN24kIAAAAMFBMVEX///9EREQyMjLc3NyYmJju\n",
       "7u4iIiKqqqoQEBBmZmbMzMxUVFSIiIh2dna6uroAAABjihvzAAAAAXRSTlMAQObYZgAAAFNJREFU\n",
       "CNdjYGDgu7OLAQhuMrwAkuwJDPEPGBg4HBjeFzAwvA9gOG/AwDCNgUENKJfJwPWLgYH1I0OYA1Dh\n",
       "5zOzgGKcCiC9DBwHwJT9AjD1DEwCAJWXEbxRcklzAAAAAElFTkSuQmCC\n",
       "\" style=\"display:inline;vertical-align:middle;\" /></a><br>"
      ],
      "text/plain": [
       "rho: rho"
      ]
     },
     "execution_count": 91,
     "metadata": {},
     "output_type": "execute_result"
    }
   ],
   "source": [
    "rho = Variable('rho', r'\\rho')"
   ]
  },
  {
   "cell_type": "code",
   "execution_count": 92,
   "metadata": {},
   "outputs": [
    {
     "data": {
      "text/html": [
       "<strong id=\"Psi\">Psi:</strong> <a class=\"ProveItLink\" href=\"../__pv_it/common/cd8db8ba9623174ecd7c506be87a67c39382e8b00/common_expr.ipynb\"><img src=\"data:image/png;base64,iVBORw0KGgoAAAANSUhEUgAAAA4AAAAQBAMAAADUulMJAAAALVBMVEX///9ERESYmJjMzMx2dnbc\n",
       "3Nzu7u6qqqoiIiIQEBBUVFQyMjJmZma6uroAAADMwE9NAAAAAXRSTlMAQObYZgAAAGJJREFUCNdj\n",
       "YIAB3tPvdl0As2aAiOsJDB0MbOUMGROANPdUBpbHQDpvAQPTWyAd58DA/hxI31NgYH0CpPWAGruB\n",
       "tCRQo2VBB+9bIM0qMtPRAGQS28wEBoS5DLyr3+25ALcVABxCGv0QYDzXAAAAAElFTkSuQmCC\n",
       "\" style=\"display:inline;vertical-align:middle;\" /></a><br>"
      ],
      "text/plain": [
       "Psi: Psi"
      ]
     },
     "execution_count": 92,
     "metadata": {},
     "output_type": "execute_result"
    }
   ],
   "source": [
    "Psi = Variable('Psi', r'\\Psi')"
   ]
  },
  {
   "cell_type": "code",
   "execution_count": 93,
   "metadata": {},
   "outputs": [
    {
     "data": {
      "text/html": [
       "<strong id=\"Upsilon\">Upsilon:</strong> <a class=\"ProveItLink\" href=\"../__pv_it/common/57f84b40e0eeda73f48279f88f7073e93eea74280/common_expr.ipynb\"><img src=\"data:image/png;base64,iVBORw0KGgoAAAANSUhEUgAAAA4AAAAQBAMAAADUulMJAAAAMFBMVEX///+IiIhUVFRERER2dna6\n",
       "uroiIiIyMjJmZmbMzMwQEBDc3NyqqqqYmJju7u4AAAAyXftBAAAAAXRSTlMAQObYZgAAAEhJREFU\n",
       "CNdj4Lv7gIHv7AOGXf9/gnHHzKoH6ZHODAoMr2T/MTAxMDDwJjkwgAD3/wAwzfD/AYReD6EY8omk\n",
       "IepZ1f8XHWCAAQBqqRheww8UoQAAAABJRU5ErkJggg==\n",
       "\" style=\"display:inline;vertical-align:middle;\" /></a><br>"
      ],
      "text/plain": [
       "Upsilon: Upsilon"
      ]
     },
     "execution_count": 93,
     "metadata": {},
     "output_type": "execute_result"
    }
   ],
   "source": [
    "Upsilon = Variable('Upsilon', r'\\Upsilon')"
   ]
  },
  {
   "cell_type": "code",
   "execution_count": 94,
   "metadata": {},
   "outputs": [
    {
     "data": {
      "text/html": [
       "<strong id=\"Omega\">Omega:</strong> <a class=\"ProveItLink\" href=\"../__pv_it/common/135dc5c56c02990d3c05add41ac18db13a37ee010/common_expr.ipynb\"><img src=\"data:image/png;base64,iVBORw0KGgoAAAANSUhEUgAAAA8AAAAPBAMAAADJ+Ih5AAAAMFBMVEX///8iIiIQEBDu7u5UVFRE\n",
       "RESYmJjMzMxmZmZ2dnYyMjK6urqIiIiqqqrc3NwAAAA/6QtOAAAAAXRSTlMAQObYZgAAAHpJREFU\n",
       "CNdjYGDgu3OPAQS4Vz54sRzEyE9gYDh/gYGB/ReQw/WPgYHzJ5DB+QfI+QtksH1lYGD9BmTwfAHi\n",
       "H0AGC5DHrAhkMCqAtD9gYKi/ANJ6gIFhKpDm41vAwCDHBzSCwZmBr4ETqCF3NgP33AygyP9vDGz/\n",
       "/zAAAPtGHY1TrWqxAAAAAElFTkSuQmCC\n",
       "\" style=\"display:inline;vertical-align:middle;\" /></a><br>"
      ],
      "text/plain": [
       "Omega: Omega"
      ]
     },
     "execution_count": 94,
     "metadata": {},
     "output_type": "execute_result"
    }
   ],
   "source": [
    "Omega = Variable('Omega', r'\\Omega')"
   ]
  },
  {
   "cell_type": "code",
   "execution_count": 95,
   "metadata": {},
   "outputs": [
    {
     "data": {
      "text/html": [
       "<strong id=\"a_prime\">a_prime:</strong> <a class=\"ProveItLink\" href=\"../__pv_it/common/e46946c5e0d3fd8f8d0073511bed7c2e781c47c90/common_expr.ipynb\"><img src=\"data:image/png;base64,iVBORw0KGgoAAAANSUhEUgAAABAAAAASBAMAAACgFUNZAAAAMFBMVEX///9UVFSqqqrMzMwiIiJE\n",
       "RESYmJgyMjK6urru7u4QEBCIiIh2dnZmZmbc3NwAAABRgo0vAAAAAXRSTlMAQObYZgAAAF5JREFU\n",
       "CNdjYEAFHJ+hDN6fUAbXBSjD/gGUcRCm2BlK8xXAREBK+O7cXgnmdD1g/wCiOZcx8AZAzWTZADYz\n",
       "gGG+AYgx/wCDPljtfAUGcSaQbtYNbI48YF3Smx/uANIAjKIV2bnlY3AAAAAASUVORK5CYII=\n",
       "\" style=\"display:inline;vertical-align:middle;\" /></a><br>"
      ],
      "text/plain": [
       "a_prime: a'"
      ]
     },
     "execution_count": 95,
     "metadata": {},
     "output_type": "execute_result"
    }
   ],
   "source": [
    "a_prime = Variable(\"a'\", fence_when_forced=True)"
   ]
  },
  {
   "cell_type": "code",
   "execution_count": 96,
   "metadata": {},
   "outputs": [
    {
     "data": {
      "text/html": [
       "<strong id=\"b_prime\">b_prime:</strong> <a class=\"ProveItLink\" href=\"../__pv_it/common/60dbe38ae6435d1f3e62cdc54e7846f4e82608af0/common_expr.ipynb\"><img src=\"data:image/png;base64,iVBORw0KGgoAAAANSUhEUgAAAA4AAAASBAMAAACZcvICAAAAMFBMVEX////MzMyYmJjc3NyIiIhU\n",
       "VFR2dna6urqqqqpmZmYyMjIiIiIQEBBERETu7u4AAACIO4EmAAAAAXRSTlMAQObYZgAAAGxJREFU\n",
       "CNdjYEAG7B8hNOc/CM0zgYHvzgYGBnkDBgauCQwMqUAx/gYGho1Auv4BA/MCIJ0NxEBphqUuM0Ba\n",
       "+H49eA/icvxj4HcAGbWA4X0CA1h7fQNIuwLD/AcguoDvEEg9qwLvBLC+KUkgCgAO9ReSeNAcRAAA\n",
       "AABJRU5ErkJggg==\n",
       "\" style=\"display:inline;vertical-align:middle;\" /></a><br>"
      ],
      "text/plain": [
       "b_prime: b'"
      ]
     },
     "execution_count": 96,
     "metadata": {},
     "output_type": "execute_result"
    }
   ],
   "source": [
    "b_prime = Variable(\"b'\", fence_when_forced=True)"
   ]
  },
  {
   "cell_type": "code",
   "execution_count": 97,
   "metadata": {},
   "outputs": [
    {
     "name": "stdout",
     "output_type": "stream",
     "text": [
      "These common expressions may now be imported from the theory package: proveit\n"
     ]
    }
   ],
   "source": [
    "%end common"
   ]
  },
  {
   "cell_type": "code",
   "execution_count": null,
   "metadata": {},
   "outputs": [],
   "source": []
  }
 ],
 "metadata": {
  "kernelspec": {
   "display_name": "Python 3",
   "language": "python",
   "name": "python3"
  },
  "language_info": {
   "codemirror_mode": {
    "name": "ipython",
    "version": 3
   },
   "file_extension": ".py",
   "mimetype": "text/x-python",
   "name": "python",
   "nbconvert_exporter": "python",
   "pygments_lexer": "ipython3",
   "version": "3.7.3"
  }
 },
 "nbformat": 4,
 "nbformat_minor": 1
}