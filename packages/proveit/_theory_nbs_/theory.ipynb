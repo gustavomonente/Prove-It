{
 "cells": [
  {
   "cell_type": "markdown",
   "metadata": {},
   "source": [
    "Theory of proveit\n",
    "========\n",
    "\n",
    "This is the top-level theory for general \"textbook\" mathematics."
   ]
  },
  {
   "cell_type": "code",
   "execution_count": 1,
   "metadata": {},
   "outputs": [
    {
     "data": {
      "text/html": [
       "<h3>Local content of this theory</h3>"
      ],
      "text/plain": [
       "<IPython.core.display.HTML object>"
      ]
     },
     "metadata": {},
     "output_type": "display_data"
    },
    {
     "data": {
      "text/html": [
       "<table><tr>\n",
       "<th><a class=\"ProveItLink\" href=\"common.ipynb\">common expressions</a></th>\n",
       "<th><a class=\"ProveItLink\" href=\"axioms.ipynb\">axioms</a></th>\n",
       "<th><a class=\"ProveItLink\" href=\"theorems.ipynb\">theorems</a></th>\n",
       "<th><a class=\"ProveItLink\" href=\"demonstrations.ipynb\">demonstrations</a></th>\n",
       "</tr></table>\n",
       "<h3>Sub-theories</h3>\n",
       "<table>\n",
       "<tr><th><a class=\"ProveItLink\" href=\"../core_expr_types/_theory_nbs_/theory.ipynb\">core_expr_types</a></th><td>theories pertaining to some of the core exression types</td></tr>\n",
       "<tr><th><a class=\"ProveItLink\" href=\"../logic/_theory_nbs_/theory.ipynb\">logic</a></th><td>basic logic concepts: boolean arithmetic, equality, and set theory.</td></tr>\n",
       "<tr><th><a class=\"ProveItLink\" href=\"../numbers/_theory_nbs_/theory.ipynb\">numbers</a></th><td>basic number concepts and operations for whole numbers, real numbers, and complex numbers.</td></tr>\n",
       "<tr><th><a class=\"ProveItLink\" href=\"../physics/_theory_nbs_/theory.ipynb\">physics</a></th><td>basic physics-related concepts, including quantum topics</td></tr>\n",
       "</table>\n"
      ],
      "text/plain": [
       "<IPython.core.display.HTML object>"
      ]
     },
     "metadata": {},
     "output_type": "display_data"
    },
    {
     "data": {
      "text/html": [
       "<h3>All axioms contained within this theory</h3>"
      ],
      "text/plain": [
       "<IPython.core.display.HTML object>"
      ]
     },
     "metadata": {},
     "output_type": "display_data"
    },
    {
     "data": {
      "text/html": [
       "This theory contains no axioms directly."
      ],
      "text/plain": [
       "<IPython.core.display.HTML object>"
      ]
     },
     "metadata": {},
     "output_type": "display_data"
    },
    {
     "data": {
      "text/html": [
       "<h4>proveit.core_expr_types</h4>"
      ],
      "text/plain": [
       "<IPython.core.display.HTML object>"
      ]
     },
     "metadata": {},
     "output_type": "display_data"
    },
    {
     "data": {
      "text/html": [
       "<dt><a class=\"ProveItLink\" href=\"../core_expr_types/operations/_theory_nbs_/axioms.ipynb#operands_substitution\">proveit.core_expr_types.operations.operands_substitution</a></dt><dd><a class=\"ProveItLink\" href=\"../core_expr_types/operations/__pv_it/axioms/4898e46713bd9784b715909f7ce928bf8788853e0/expr.ipynb\"><img src=\"data:image/png;base64,iVBORw0KGgoAAAANSUhEUgAAAnMAAAAyBAMAAADFBUDdAAAAMFBMVEX///8QEBCIiIhmZma6urrM\n",
       "zMxUVFQiIiJERETc3Nzu7u6qqqp2dnaYmJgyMjIAAAAcRTyBAAAAAXRSTlMAQObYZgAAB2hJREFU\n",
       "aN7dm3+IFGUYx5/dndnZnZ25uz9KMaO2O7AjjbuSCtHTNSEhylv9I/pDcLk6iOjHlpZhEkt/1GmZ\n",
       "WwTqiThKWBlyV3KUkrhpUaTpghEFigtBUJAsZ4qe1vW+M++88+Pded/d5e64mxdubnj3u8/sfPZ9\n",
       "3+d53mcWgNvuHL8JM61pmcmzrebINcbH2wTSubsGZxy605NpfBVBuGu3CN2tMw4cRHOTaV2vkBM5\n",
       "hOg+r9WZLDdm5EjgK++GF516i7/j/kUAnzRoJV4MemVfJrToEt1+CqduAPzZ6BdQCXol1RZadMcN\n",
       "X8fQoxnQuxs1cyLwlc2hRbeeYYn+lGKjZvYFfzfFkKLTr/t7vkd/Oxq20xIYHCrdIUWnFHwd52Yv\n",
       "BOhAJ/vnfbggzX2vW6EFTnF9LKTo1jGjZRT9bUMLf0l/WamAXAh2DZbCHb+duYTb717ZaEjR3cdE\n",
       "dFfQ4XU0jAxtTCrKC/PBCZypsB1psO5SSNHNYoKJKjqgWE+FBB5wUjASoiAOtBqo6yqGEp38LzOW\n",
       "8hY6gNY0Hx1RCNHtLYcSXZRxsImcNWHRMpgVocMKvWdNB9VZa90fXlUkF0p0CeaGImnLTaSMLoga\n",
       "PHSWQl9ejhRdaX6Na+RDiS7CONAh7HJPAvQOb4c91mgawljwQf3PfWIpBu+GVpSQxErB7qRK0Jl0\n",
       "L3DQ8QXTrA0x4VgvPqwEONC+v6dsoVM24QAQT7tX7ZONBlX0wXIcEmeDo+4rBN0p/P8vDjq+YLqF\n",
       "dUzQ+wN4EjFzwh6tMVldt7xEBviY44pGCbqdOPYpcNDxBdMt+R/2Icn9bQ4UOhjNeI2djJoTB1Zh\n",
       "wwgv/Qf1MkHXgnhrwxx0fME0axd980zZai33W2wwD11Ng8rmY/vpmZSDBWXOphNqVwk6/ceDB3fw\n",
       "3ARfMM1al2+LRO+wOjxbnTr7Pv8mcoK31XLN9rDXBgY2cz0sV9B0S4qC2/q1LulZI+BqDW6w/8Z7\n",
       "8Q4bXb8znGujswVLyhPCjOTnJYEs5crjS3VLlxlTMLRn2+hWeCe2vP5buCvnRkcEWntpQi5seZy4\n",
       "cPNxET0Tah3pi1OxKrxko1MgSofTZyd74CvNiBludEQQvPnXDLq1Qt0Bera2funUotPKCl0/3xk0\n",
       "4Fi6W/NMWCJoNSYSXb9Q10LHWn/90imZsBttdMnKE3bSuwL3jYx84EVnCkDf3oMxdqxhb8TdKc0D\n",
       "hfn4D+dgkw9dXmjLmQt5kVVHerY4Beiom4AtTyMwZtJrrnkj2qG13hwWCwB+xYd74pUNjCl3p9Zq\n",
       "rGYEpTFXsmyiS+aFtlI5eGYAtTLSCqym6NrclZ0ID3uE//Isiu4wug0z6VXNmHsESie96A6bWwUL\n",
       "8SHbgj5D3DcAzE7SBldCp1+Q/CgfLXjRSQWhLangnAisUilcZBfkJkrYAr90maIzN/hw0iu/NjDw\n",
       "JkK3R/Gis3YAt1m7gUWQv/HPnVbXpZZAHyOIleJpH7qc0JZcceJ7gVUqheMsuiZK2NxcAtSbFJ1u\n",
       "2Elvzhp10hovOlNA9p/WQZZddnCn3TYgoV+gZCJZLzqzusK3hYi9gDcay1jLtyrRCbuOnZjNlLBP\n",
       "cCPwUc9+nZX0fodPfwY4X2O/Th2D5NZk9QyKT9E9JLfCToMczE598QUU9u004BWp6heAku2Fc8fO\n",
       "u9CpeRDZ0u0wEmltqy6h2yqVQivLqJkS9j5uBH7Dg85KehMoy5feyEC8BjopD/Jc9fnHFhj4HuS5\n",
       "sLooz8EHqzPViZ3m6mF4pLPiF4DU9x58UVDcHnYTiGzF6NxDfpRYRRewhHM8Vh2pwk61ZkrY3BhW\n",
       "u+5BR1onWuuYRIzEfOj7TJHPZ9BToGf95hwcVouJMiP4FC2U8eyTbnTzQWSrhfbOB2oVhmtZdaQx\n",
       "phpjl7DVjjS8z4v63AKNN8Hj1Vroauaw1vfwS5Y6bXwPR/yePB9FMz1VjJdWsYLnJDRm4N6MC10C\n",
       "RLaOOdsYQK2mirWsOlJSmnc3UsLWpDbo4lWwLQExw/MT1iZ+/ei0dro1I3ctdu/SWGdqLvUT3s6R\n",
       "zpdYweOncbL0ddmFThLZUp0vXipTq3otqy6pfIOJ6EgJe3esAgO8CrYpcG+IBrW96cbQTVzrrivs\n",
       "xNWrekNUtzSwhG1E0mgAcgpiloB8A1XhnmD4qv/LmHlol7B7DfkKtwxrCupA9zaEE12v3zfSEvZS\n",
       "iLZx0WGBp4Ad0ML6uI7i942RNMmE3sIUeUywQFzAhmhYHxJjXKxdwoYHobdsovMWrmk92xSIC9jk\n",
       "uYkwPhB7u38G48NKvB/avqxojTpcr/ZWsM2itikQFrDD+0As8xi2q4S9lCxiKTYyPkpWO3EBG8iD\n",
       "iiFE1+JZ7JwSdryi/kMCNo19F5qgpkBcwE7dFlp0Sc9HdkrYSjmRtirYrno1TcJQrykQF7BD/JMT\n",
       "+NLjNWgJW2p/wJuzeGQ4IHEEvAL2UxBedLFcrbHY0AY7p4CtF+pFNxN/1Nk3mcbr/1HnTPwpcSwz\n",
       "ebbVZ0l6Nz7e9j8ZmlB0iJHdswAAAABJRU5ErkJggg==\n",
       "\" style=\"display:inline;vertical-align:middle;\" /></a></dd>"
      ],
      "text/plain": [
       "<IPython.core.display.HTML object>"
      ]
     },
     "metadata": {},
     "output_type": "display_data"
    },
    {
     "data": {
      "text/html": [
       "<dt><a class=\"ProveItLink\" href=\"../core_expr_types/conditionals/_theory_nbs_/axioms.ipynb#true_condition_reduction\">proveit.core_expr_types.conditionals.true_condition_reduction</a></dt><dd><a class=\"ProveItLink\" href=\"../core_expr_types/conditionals/__pv_it/axioms/4824875e06a6fed3cc7aca6f47ce7a8c7c66d85b0/expr.ipynb\"><img src=\"data:image/png;base64,iVBORw0KGgoAAAANSUhEUgAAAKAAAAAVBAMAAAAz5vjYAAAAMFBMVEX///8QEBCIiIhmZma6urrM\n",
       "zMxUVFQiIiJERETc3Nzu7u6qqqp2dnaYmJgyMjIAAAAcRTyBAAAAAXRSTlMAQObYZgAAAgJJREFU\n",
       "OMtjYMAOLl9goBrgBJq17gBZWrknMDA8ADHuIouuAOL7yBbIMjCwJDUAWeblIFCGx8RMBobTIPoV\n",
       "suBLID6OxGf9w8AQuOQLhLMJvxPXMTDMALmhAUmM1wDNQBCwgDEIGMijwMC3AEhtQBJjn4DFwGQi\n",
       "DeQSYOA9tWrVdGQxMAfZQM5Q4g1keMLA8KOjowZZSBlmIKeNkRSIPeMbQ7CgMUEDJx9WBHr2MAND\n",
       "KgNDJ7JEL4jIA2LHCXwfwCLPGBjSsLvw3DsQeAxiskgyvAdS9xgYnBm4HiArqgalJ1FgcMgyMEMi\n",
       "qw2ngUhg4QVwzG0HRgIDE0quEAEmlHZgxDD/YmBXIN5A+wUMRUAqHhjFF9gZ0AxkYAG6kLGBYX0A\n",
       "8QZKMHB9hRjI+SAMyFis9hTJywwZDAzrDzDsZyBgICQMn4HSyx8GblCIuwNxZwqQX8r6CzlSgLG8\n",
       "fgNDHihvEudCrt8MbA92giOFYXMBMMAMWAugUoehBnIo8JbxgEU6wAjVwPUP0ExsYrieACxRbIBM\n",
       "fmDQM25gSoDKuEMN5EpSnaYCYof9z5r2vxcq6wvLTwloBi5TikxyYGAABRwvMD2un8BxawGerEcs\n",
       "4IL5k3FCvC9y4XCQTAN5FKAMlqRNtjDBTrTykBSwDpsgqIDlI6/ERs3EyFUAw2ay6hTeCQwAbxaM\n",
       "TLGnqskAAAAASUVORK5CYII=\n",
       "\" style=\"display:inline;vertical-align:middle;\" /></a></dd>"
      ],
      "text/plain": [
       "<IPython.core.display.HTML object>"
      ]
     },
     "metadata": {},
     "output_type": "display_data"
    },
    {
     "data": {
      "text/html": [
       "<dt><a class=\"ProveItLink\" href=\"../core_expr_types/conditionals/_theory_nbs_/axioms.ipynb#condition__as__condition_eq_true\">proveit.core_expr_types.conditionals.condition__as__condition_eq_true</a></dt><dd><a class=\"ProveItLink\" href=\"../core_expr_types/conditionals/__pv_it/axioms/37cd220b7cc416ed982feaa29ef32419f90a57b60/expr.ipynb\"><img src=\"data:image/png;base64,iVBORw0KGgoAAAANSUhEUgAAAQMAAAAyBAMAAACqrqNEAAAAMFBMVEX///8QEBCIiIhmZma6urrM\n",
       "zMxUVFQiIiJERETc3Nzu7u6qqqp2dnaYmJgyMjIAAAAcRTyBAAAAAXRSTlMAQObYZgAAA+lJREFU\n",
       "WMO9mU1ME0EUx1+py3b7qYkQQyRpouixVRP1AILx4oVYYuTgpbUqMcbwERQvGnsSSDSWC3KjEcOB\n",
       "RFvKwSMYDyZKbI0Xo9FCRA4eDPGDCIp1Zku33e3OzO64ZUJ3Z3Ynu7+ZefPe+y8A9OJug+qVSUO9\n",
       "5tXNN1krEbYtGOhUE1E1H89ZOw0fDfSZVjdzZXWpEQ0jGpPrzj3zLTwIDvaQnDvV7edldeEPQMfD\n",
       "H4XrIaiNcSBon69HGSQj4HJ0c33Qmjp380zDNLPHbIKOcL5wWsTdengQROZK9AMZQTpTRHBv4GMm\n",
       "zoHgWmN08KzpIEjNBxtwfWwVTu84hGvjvfjYyuVB+lnTpDWxbvQ7HveuyI1lgC65kvHj470QD0Iu\n",
       "Qb8f1gzMVYfMrhHsBbLbRYRb8svzXJ4h6affP6BuCoNoue3rIPrVCHk8EtcqF4KX4SDrtQ4VzYIt\n",
       "BsmQGqFPXrR1LoQauj0KG9orl9DMzcEsqBHO4UPAz4UgbZgkRDsimYJuV1yFEE48aBK+c4aJerpv\n",
       "3K6D4PB7BtxyY0j+w6j+rDtX8DHOv2YRBgFkc/ige9cW00FwRptG9+J6Z/7yaP6ufPnslf3DUDCQ\n",
       "AbMIGYCX+PxFf8MEAegOWim1IU+cbyFyIRjDNqEf5cIVFvaUHM9OctoCeokXbWp3Sj9IVVzOkR5k\n",
       "z//kREBT7XkxNXWfOEdaR0IKbEJfihPBh/KyX0NDN/TvBiqXd8bS3FFGQEZwEWC4zBc0P1MCRyYB\n",
       "1S82tCVPgLPkp6UlEBqKjdYtQUCRXoSa0uyOoLk/XGz0bAEBiMj/ubNi6cJN9Hu95QjSQieqTez7\n",
       "jC0Bu+SAsYWwSNWIOOUavoDc7jUBB1svVi7HFHOkOTyrVA02R5hBHPaggGl8+LlKNh6gpWJmVM2R\n",
       "67johw8bHrUP+WFbSpZuNlT1KPExR0tITaqaNNEv4EDkQUuejDveoVNt5FFqRHnxrFEEA6qGiJAs\n",
       "LqgtHm6HsYSzzv9+qRRBsiYQGKomTQlTm1lhNN0CHSmYuNMFcdUcGUEwoGqICJpYiFudkjJ2cYGB\n",
       "YELVEBHUuHJKOL6oeAP7iuaLy1e5BI2pmldy508sBPWieeTk42qpTcnLzaoaIsIuehL/m3zLrKoh\n",
       "IUjfuBNss6omzSdloFXXFiLGVE3BFpYZCI5eOsKpNuqOMKNqSAg+hggTg1QEuqrRR0hqNnqAkRbR\n",
       "tgRb1ahKe3FUETN6rjxosh00n6phfuip+NxluarxBv+jhzWqZpqZIUt1ZDorVI2BT5/whHzLClVT\n",
       "G2T3sUeqmj6/NdIpWk0CQ/8MAHtbFREmZWP8B2A+OpqYYZS1AAAAAElFTkSuQmCC\n",
       "\" style=\"display:inline;vertical-align:middle;\" /></a></dd>"
      ],
      "text/plain": [
       "<IPython.core.display.HTML object>"
      ]
     },
     "metadata": {},
     "output_type": "display_data"
    },
    {
     "data": {
      "text/html": [
       "<dt><a class=\"ProveItLink\" href=\"../core_expr_types/conditionals/_theory_nbs_/axioms.ipynb#conditional_substitution\">proveit.core_expr_types.conditionals.conditional_substitution</a></dt><dd><a class=\"ProveItLink\" href=\"../core_expr_types/conditionals/__pv_it/axioms/2ec1837e4b6ed7faabdf20afbc4df882ff7732e30/expr.ipynb\"><img src=\"data:image/png;base64,iVBORw0KGgoAAAANSUhEUgAAATsAAAAyBAMAAADRimGIAAAAMFBMVEX///8QEBCIiIhmZma6urrM\n",
       "zMxUVFQiIiJERETc3Nzu7u6qqqp2dnaYmJgyMjIAAAAcRTyBAAAAAXRSTlMAQObYZgAABd1JREFU\n",
       "WMO9mW9oW1UUwE/SvPx5+Te11bWb0DXYCQrNLIwq2xoQyr7MpYqd+iWxatEy106dyFAWNrAtWJYh\n",
       "ar/o3lbptDCbuQ/iB1204EArjfjB6XDJ2PTDxFpqV9d0XTz3vrx/yXsvTXvfLulN7u3Leb93zzn3\n",
       "3HMCwLz5IiykjIFFbUo7/DmzKimOnDV09rhm+Fl6lXIuWYN3RjvMqgfHcCU77hc/n9w2abqu7rQV\n",
       "dHytdnxePYilgWvYTW3TdwDgxWoEsWnusAketpqEePMZ7E6kq1ADm3ZOMMdziviBBvJ51kySywrt\n",
       "vgomeO9FJbxpYne+RTNJ3kX2dP5FPbx3JzeRRfUcjXNb7iJ8nv+oouerelIGzZUomdhH9rB6+EdU\n",
       "aRycdN/xzVE7vW4qKyswx4uVhAxvHXGBDLSJfiPhuShY0NT2YKKROd4W7ZAbSGLfLsArWrxgnrpR\n",
       "3FRWgH3guLs0NpHVWw/89ZLVW0f6Q+baszP3DW65dAa3Xv4meGe1eE6CZ58zF+ZZZh5wyx4YPZdf\n",
       "AmfuSw0el+eborFwlapYe8xYp4MHh+GXON1j3QnyIq3JDz/eFOPHLUNpAwDU/H5nhWdL6OGNNT3d\n",
       "TTya61v4tO8GPQhwY9++keToFa8bSpsG+IG8X2OFNxEGMA9qSnsBfq0gLRuFEWKDCWbbXtlW9Y3h\n",
       "tUccicrSAujcvhSzA0GZpKzhte2FaGVd+L8fH/+AmWtky+4YMDx37NlQSVoQvfzG4OCbzPBakmVT\n",
       "ZzOrlhZMEAuFoSq/VsLAqXyNaRS34bbyKPBybHPMFHfXbZP0Po7ifGjqEXWmqBbxWA68yjGgnS1e\n",
       "P4Y/sCvLPylGk6uYEtBtVJz9KAKdqvu+pMlqcSt5WB71sT2d4Sbvy7iUib/EhAq1t1XB89TjyVE5\n",
       "XHAaYw+k1CkzezxPrkuZEEPmW/j3k4LnwtX102jlJevs1HhnEB8lkFyZcqvNyF2oXBh6HrvR5j/I\n",
       "wsw1o3w7QWlR8DYRa5yV9YqLzT+0T2KMNfWqrGM6aXK3qjNy4hpwFhn5Axw5INoP2sP0yA2wQ8H7\n",
       "k6QFOd8gtsvoBbhLnorGBCcZD8NmIQReWfMtZjst2aE/uUe0l3vR77qLOWVoarsBHpEbxEBUE+bI\n",
       "Qrob/QgcJE+5UcEjJwtb8clDEdgJ0Ap7JBGH4RIo0SlrVv6h4feKaL8os/NjMRM6j+mbfngLkgju\n",
       "R33aUrQ0YosQF7A1SrYm4t0pmSI5fPRCB8AGaJZE1KITcfLOdK4i3pI8bCuqHL/Mb9QPapI1TCTd\n",
       "vyFlULChIzrjp1PHIgpeD3/RUwv2Vmxbcf97CvhFGB53zmD7G/LI6pCVG8tUwHPk5eFz4ttlwdDj\n",
       "5QOGLRnbBSOCS7iAPV/XePEqKHgnHvd/jbTj2JpweAqgnpuXOA76E+BPa9RhhufrF23vSQnPt2zs\n",
       "UvIBw9H9+XboTHF709jD6Ds9YuAS8fi27+IeUSpZJpcAHQ+EJLyuKbRcWaWuXAW8QHeI3HNkAZ64\n",
       "o5VMHqe87bpGUQKdkvsuT0YVNYCLfyji0YhXdmgKKAWekszVN0NbWM7IJ67xi8XdoEdEoAo8quvx\n",
       "WpV7k3J/nFqEjOe51aC6rszNvlJqGHmTmkmdWCGi+dnbEt4hClbQ/cZ6bX1E6d2vgRoPBtSLv6u0\n",
       "EqcYHLdknGPSjHwHSSvVeAWyDt4F3USyQqIJNfrLUGLHdmFFuR/NyK+AY0mDt5+abP72pOHQrmt7\n",
       "cSkjh2WoyWvwnqXBRrea4u5njrc7Yu6586QepMaLCSfv4/7VDxrsS0CusDney3CEfh6kL6LBxowv\n",
       "m9ZNyFvYF9DMXJfgjT5IF6+r0Pt+YZjOPrN38xBE9RJy5jUM6ShhEnN1mjPqT96m4m1Z6XsFGbk7\n",
       "vFO3vBe2AM9EqFFGXlPQLeKeESzA89QZkxuclrn9elUKa352gS+M/1VVRu4MW4KnyunW1C6ANa2b\n",
       "iRSrfjBVnf7W0saoY/wPLTmBNLmQi74AAAAASUVORK5CYII=\n",
       "\" style=\"display:inline;vertical-align:middle;\" /></a></dd>"
      ],
      "text/plain": [
       "<IPython.core.display.HTML object>"
      ]
     },
     "metadata": {},
     "output_type": "display_data"
    },
    {
     "data": {
      "text/html": [
       "<dt><a class=\"ProveItLink\" href=\"../core_expr_types/lambda_maps/_theory_nbs_/axioms.ipynb#lambda_substitution\">proveit.core_expr_types.lambda_maps.lambda_substitution</a></dt><dd><a class=\"ProveItLink\" href=\"../core_expr_types/lambda_maps/__pv_it/axioms/058df6ee4b3e9d6c37f0b5855c521119f598f6320/expr.ipynb\"><img src=\"data:image/png;base64,iVBORw0KGgoAAAANSUhEUgAAAlEAAABMCAMAAAB6dRKAAAAANlBMVEX///8oKCgNDQ0QEBCIiIhm\n",
       "Zma6urrMzMxUVFQiIiJERETc3Nzu7u6qqqp2dnaYmJgyMjIAAABRfbn9AAAAAXRSTlMAQObYZgAA\n",
       "DKNJREFUeNrtXYuypCgMdVcQVB7y/z87vlBeQhqwl6ltquba5djpCAcSQg50XYVC1F5omRRMul/5\n",
       "W8rsNfZ4gKCOeKIwWgsvEoKWXzv9RYUK54bcIECrIWpuQsavfK+wfgjc5Q0hahTPg9fyjj2cJfRm\n",
       "hcLnOvpVVOW8ymUcMqTInjWNKDE+/9f6vrdFlNWqmU3GZ4zw7N6sbCbmAv3eUUVfRQ6iuoW2jKhZ\n",
       "ySiixOWjLaxWvS6z6RVwxd2blc3EUqDfO6roax6iBkUaRtTUd1FEzbq/ztU6rsRGFauBDe7N2kWg\n",
       "bP3eUuW85iGqW5Z2EUUiQ9TxvnpoErxWrY5zoCLGF6cHrM/W7y1VzmsYUVNKgUHxZhEVG6KO95WC\n",
       "bWUeq7nlY8CLqyc+2KeHXP1eU+W4hhFFkuZgGVtF1KxEClGdmrYyilp1irBhX/oRY+vmjAVGfYnL\n",
       "FpAgAHaMY4T49DVVjuuD1UvaXamGRhGFo98/3pcS0EgMHxZNO6uQfXPo199ZFLCrBi2CIUGDQ95+\n",
       "h1iMYjScmLb+hb+mynE1EIVHo6gEpJiaGkWUik6DjvcdcM58KeKmcHOMJNZN1m/NibfqIhjnmB9D\n",
       "wipDx3+SkrjaRpLdPfmOKsf10TPnS9xtndyGbwRRXKE0orrt3VG9mJ8Z8r3q4byJ94YdD62GnGa0\n",
       "JNzVlFRqR87+3e+oclyf53ps6YdPWq4RRNH418/3FfJA1QuIusKr5829Ydk5cGU1oyUBjKhjyovG\n",
       "76mSQNRMRbxl1dgkolR8Wn2+77x05IzSMowobGXm+UnT6k3Uusn2iYKunJxmNCUMSEs3JFl+FL09\n",
       "3a0eJ/w9VQbX6uHFKql2XZyWbwNRPOEA6vedZnp8YiM5TUNH43Mg48kl4pn3yLrJdkeGLsfCV14z\n",
       "3hJEp5jnmT/VRKfdqC+p4nnmlkuf9lqRY/baQBRWHIQorh3TbaZPts9EJGbV15NrzbpSsVHpg31z\n",
       "WqtJjrQTRndm1/Th+hT5cEuY2eWQY5Fs/XnzARhUFf/Dp6oc1zCiGGDBiziTqjYQNSoGQtQ1x+9X\n",
       "BJ7j9xj/qvGk1wHv/j4o5yajCJGZosF8cLx+a6TPH86HTAmT7sZpQz1QJE6nDqSKr8CHqhzXMKIo\n",
       "xK9wUuyaQBRLuFH3+0p29+RJMpZE1P0kR9508l7lEFPgpg89Doky+g8xxchpgmGBMvw9Vc5rGFGg\n",
       "Nl1sl78JRA1qAiLqGnnm9RcHeY9R88TCf64n+eD5amdEmNNuke5Nq5J0M4LC9SIQ0zlvpleKiWmC\n",
       "v6FK2Urx4bLI5hAllPgQUatt4AgbiCKbdSNbaNj8w80nA0P4EX8fJyts6gblZzwqutc7g6QOBB5i\n",
       "5ww8HZ0Vm/mf8PdUKctmOV1z2hyipoRjHn1fbfVCIrg16es8KUdGmzxT7ayboQIKrkYeSi8gDXRV\n",
       "hn9RlWkuRtRgR6SaQFSvEh4gGp9cWoLU0QKhlFv7HkW+6/HVrGDZTlawVuW8orysYO2aqeYQpVR5\n",
       "VqbM7ci/Ulrs5msBUXMtitev/CeltzJaWkDUoD5IbSww+P/3wug7chdrstcCoqSCZ6gI8UNGftd9\n",
       "h2FLral6C4gSCpxGhugPFyXO5iuQwlb4oAVEYfB2CTxiHi+W6BvzI577di8qk0PbnN4Y4u0RYUNU\n",
       "DW6lRlSOrAmKKBbL/dIO1h7DYVNflkjlCviMvGmzSV9T5nOfMlqD+YhaHETV4FZqROXIWhSQlzZh\n",
       "gMt+JvQspVw3W8Bnycgum/QlZTJmKbyvjyhkhTg3RNXgVmpE5chaFGws5tGw1Vm9ei1MlbL6HAGf\n",
       "kDc9NulLyuTMe8f6dk96iKrBrbz8qAxZIxBRIwaEFc71+qE0aOoKeCRvojkAfa3xu8rkIIrX3wBH\n",
       "WtGf/eUrcCsvRGXIGhWCKQ7IRde/K0rz0T0BT+RNjh+/+7YyWbG5sTr1nVsR6jMLtZhbec/1PpfV\n",
       "K5ATP8bt6FG9mo22UGQuuWZ4Lq4AI+PTVsRtbZ9N+pYyWYiSin0BUXBupUgiypWFhayCKKIGAKLO\n",
       "3HGmVuu7Z9tlciYNAScujFiOjSHu/YDDJn1NGQNRT3zSkDBUGVFDAFEWtxLFFMJJRDk8TYFQarhS\n",
       "IMcVg/I8T37LyaNEuZzJW8BFmTTIm45ENNm93mWTvqZM5qZPS31EMc+JNLmVxBqqyIg3xVFPo4hi\n",
       "dwKqzdME7B1BJ0g6c08hiNKsyaXTrKIshpsp4Ooz18d//7EJSMoePj026VvK5CEK1fbN58kceeej\n",
       "GwW4lYwLvOU+roO6WNGCWXyMMnK2LVkAqw0ao0jKNFqI2gf+YyuavEY0BPiIclLbByd27bJJX1Mm\n",
       "D1GzqhzHJ/YYdbyiwa3UDtzE550ZwCXacCQ2d3Adtdd/PGr1LFlyUthI4V5NIA0hSlboWZbV2yUe\n",
       "5Oy8RrwEXJTJ4cnqETeW67BJ31PmyY+iZaN9IaLOnndxK0+l7zR/TjiZkXbJ036UIWuHlAEKGg57\n",
       "gzzzKRXstTzzzQwd+0fkNqIWcFEmHz1zj3XrsEnfUyYzs2eqvC9VyDM3uJWn0nf1cbJaPUk+QBQ3\n",
       "/E+MjdF2IzrxzHhUP4EQdc7xqbzAqxsRwtq8aZRawE2ZNMibVgfwKDYem/Q1ZTIRJdQ3EKVnvKfS\n",
       "DJuIWmGmozEQRHUGQgwmuBwf3CoIolhy7U+YDEmGkQ5aXMNChDTpcSYNAZoy+ZTp7p0T4bNJ31Im\n",
       "E1FSkW8gSuqm3pUm4x6n3D5viJqlHulBiJI3bPpbeUE3wlPI8QSswpAk6uxVGNNvvt4VENrzntGU\n",
       "SQY2FTE2aV1lMhFFKkekBn8VJqA0tcaobiCnEgSCKEvaMb9kO9GyoyGncALkHvDkfNBZKXbnHh2M\n",
       "NOk9oymTwJXiBJu0rjKZiGKq7kKMjCPqVFpc0JHHKrpI4T6IqLNP7lzMbh27F5mJqPRIfe/fYk2V\n",
       "L84kiDTpP3NSJqHZLFE2aW1lcnPuVd3Jnp/NElL6cqGH8YhR0ixEXZ2Ue0bQiHAC3jAdlrMy7oK6\n",
       "QLrb4/wIGBWEskmrKJONqLpHOfgZdw9tePpRUNscqPJFamY4n/fDs3iwp2PAG4pkpPRiib6RiCtb\n",
       "ygoupm32dddhsJcVXCfKFahzcW2HIrfA59p/WXj8mQBas+5XKpW+bkCKWl5LC8wFDmBX0R9JtF4Z\n",
       "66YGT82xqwiAAfpDVLuIWqx5eAuIYgCW+s/q1URUXatnb4TSyE4ayS+L3/mgFSFQ1TNn7e2k0Y0q\n",
       "OWlByXjUqwzQXApoYwRQjaiq8SjS4G4/NJ18IJOgS8ajCic0Oe/3ji60dBexujFzZ9uKJhCF0q/I\n",
       "wYh66dzMrPNo3tGlNGTOVFXOnrBbrwlEkXT4IJnC+biuV63iPl9efUuXwt1YK68UO3tetrGfOWCy\n",
       "B8xmee/czCcKKHr+wbd0KSCAHm3Oa2rjbEbfBqKW9LfHBYSoF8/NfOBg8Eeov6dLAQG0+rzZ3Yy+\n",
       "DUSJtGuOFQhRNzVMIISKMstcATcFNM4A9c/wLNYlrEououpGi7mzzt8GooZ09kGSCmvlma/jwzqy\n",
       "T9u4lke6NAT453dGGaD+GZ6lujypkouovuoMlDo2tJHT0HqV/gHQnuf6hLOdJU95NunyEhA6vzPG\n",
       "APXP8CzW5UmVTETNdR1zt+kaQRROpz5/xgC9R7RM0qU/JN6EvRgD9OkMz3xdHlXJRFRdBujsmpdG\n",
       "EDWkQyQpR8pClDGw5yEqYBluREUYoE9neBbo8qhKE+Qq5NqOVk6+7vs06CA7aZjnZha04i0gdH5n\n",
       "hAH6dIZnvi7PqmQiqq7RW/quTUSh9NLeCDknVJMuj0s+MfwSEDq/M8IA9c/wLNblUZXcbQ9qZnHM\n",
       "nnFpBVFd8WzPYoDiTRrbqXSfkC7vT1pA8PzOCAM0cIanr8tnJ3g+qpKHqLrLxL6T1wyi0onkXS/S\n",
       "iNL4EUJK5zx7COnyfugSkDq/02GA+md4BnT56ATPR1WyEMUrhzdp1yqiAMuXoJ1dC0mX3kOfnt/Z\n",
       "dZEzPMtO8HRVyULUUnWtMTBvbAZREPu+AHafLiRdeg99cH7nXg9d7AzPshM8XVWyNnbtq+bC9oFT\n",
       "SptBVMKo7W5gT5KIKiNd+g/Bz++8bPfTGZ6lJ3i6qmQgqvIO+SHXtiFE8fQgxcc0oopIl6UUUOAZ\n",
       "nnVUyUAUrWrzglt6NoSojgJoe88TlVcZoLkU0MYIoLJuTildurYRdS2ExV4Cdb+SWyqfhjYE27we\n",
       "ovZSFusgALcR/05szDZStC5DzRsjxwMElbRFeyls7uFHofqLAOpZFHmAoPsDAaWvfTbWYOYAAAAA\n",
       "SUVORK5CYII=\n",
       "\" style=\"display:inline;vertical-align:middle;\" /></a></dd>"
      ],
      "text/plain": [
       "<IPython.core.display.HTML object>"
      ]
     },
     "metadata": {},
     "output_type": "display_data"
    },
    {
     "data": {
      "text/html": [
       "<dt><a class=\"ProveItLink\" href=\"../core_expr_types/tuples/_theory_nbs_/axioms.ipynb#tuple_len_0\">proveit.core_expr_types.tuples.tuple_len_0</a></dt><dd><a class=\"ProveItLink\" href=\"../core_expr_types/tuples/__pv_it/axioms/8e06b5fdb2c928054d6ef10c03bdacf08c588e480/expr.ipynb\"><img src=\"data:image/png;base64,iVBORw0KGgoAAAANSUhEUgAAAD8AAAAVBAMAAAADRiu8AAAAMFBMVEX///9UVFQQEBCqqqoiIiJm\n",
       "ZmYyMjJERESYmJjc3NyIiIi6urp2dnbu7u7MzMwAAAADGpxCAAAAAXRSTlMAQObYZgAAAN1JREFU\n",
       "KM9jeMsAB0hMJHAaiDkbmCdAmdgVXGdgkMSm4FTPA4hoJgPDNSwK2Ax4PcGiHAEMDDwLMBU0MTAc\n",
       "A4uyAB3Aq4CpoJCBwf4CSHQKiJeNqeAjA8N+A5DoUhDvKIYC3q9ABQtAohUgbhtUwbE0EEgFef4P\n",
       "A8N7sAJnkIQJhgmcQBPeHwCJaoO47/FYgUMByJH2BnArtqC4IRHELGdg6L+A4UhsAXUUxIvBVMBi\n",
       "wKsHFt0C4uVhKuA9tfABIqgd8EQ3rshCpIdK7NGNkmAqcSpYB05yHBOgTAwAAKtiVVg5HIChAAAA\n",
       "AElFTkSuQmCC\n",
       "\" style=\"display:inline;vertical-align:middle;\" /></a></dd>"
      ],
      "text/plain": [
       "<IPython.core.display.HTML object>"
      ]
     },
     "metadata": {},
     "output_type": "display_data"
    },
    {
     "data": {
      "text/html": [
       "<dt><a class=\"ProveItLink\" href=\"../core_expr_types/tuples/_theory_nbs_/axioms.ipynb#tuple_len_incr\">proveit.core_expr_types.tuples.tuple_len_incr</a></dt><dd><a class=\"ProveItLink\" href=\"../core_expr_types/tuples/__pv_it/axioms/b1f56cf9bfba6baccbc5d9766e9179cf68e46b430/expr.ipynb\"><img src=\"data:image/png;base64,iVBORw0KGgoAAAANSUhEUgAAAYgAAAAWBAMAAAAodhaSAAAAMFBMVEX///8QEBCIiIhmZma6urrM\n",
       "zMxUVFQiIiJERETc3Nzu7u6qqqp2dnaYmJgyMjIAAAAcRTyBAAAAAXRSTlMAQObYZgAABGJJREFU\n",
       "WMPNV29oHEUUf8ndZu/29i5+EKQGMRoTC0oNKeiXtLQVzCcxreA/CglH/VBp64m11ih6tF9ySuGo\n",
       "YEKhMFrUkGJvrYSoYHtw64dWkAP9IGLbgzaFVghS+8Gmrfjezsze5HZmkyt+6IPZe3Pvvd33m/fm\n",
       "zRuA/5deuQveoNK6hXYt0nXwJdM+ZcrBjx8RHDXr0zi/Fxo0P6dT8mNkepqRLsy0C2DmPnzs1INw\n",
       "igBdRY3RTjF8+ImmV/UgzDI9XZEuXGk7DBdxnNCDyOFqd7WG9mvG9U8EFtMU/aIehFmmpeygcIGY\n",
       "NukmDrdXC+IXhT8pgrPrdcb1afiQo5mnB2GWackuCxfscrsYkkvk2j1aEO9EQQBcYFyfhg/Zs7Oz\n",
       "U6AHYZZpaUq6MNV2INwCPS/pQKQLJhCB/qXA4p/JyfcMIMwyLfVJF4hJDw/dH1/KVIVcvg8jXtOB\n",
       "6MTc/GxIC6LGB1q8ClDiqlEQXLZCJixK7pB0gZjN5dxfAC+Z7bhCH59Urjo3sFiGIH5eJKLdDinc\n",
       "09XNWhDn+UCLp8HBUmrxNLbe9OGh8RAEl61ANcm8K11AxnkAEkV4/imjFVeAl/nsNINrAPO6SNge\n",
       "pL2NWhDzfKCFDZ2ifh2vbYBvXZZgIYimLIb+lMy90gVkEktgY+EYMVoJBUEbwbkFMKYD0bEJHEIY\n",
       "hOeNxcXLTRBjfKCFW7dFhfzoCIMfegfdZjqFsji6oQPRUYTKaBwIoRAeE8mbZhCQWdJGogki3XgB\n",
       "E3uAcgdpbu6wAiKQwbGBaAPiDO0RLljXBlg0nSpVOA1xILjCFpG6tykyXFvZE5dFOkFqXAtihA+y\n",
       "KO3AJe9mvMmYc7/a3gQRyJy3LPzAa8t9+HJ0jEEuqB4TsiioG7viwR5sbGJABApVscTX4dO6urEV\n",
       "oo1d8arxGxu+wUJ8ZB6cwJU5qNYUECRLDFoF2N5SL9fDiwgv+EhvttHc4b5g8N99brBOzr/kckMw\n",
       "4SxQSB8v8H92w0F8DutAuOjXc7KjDEE8wYT+MLfopv11AKz9k5MHEMRRWwFBsg6vE6M5sfzVPTAQ\n",
       "5mxCBHtEukCu5/s/eYT/9TZ+zyaVfSAe9oRUSPVy+bHHycsFHYgkrmPXuZZ0evLBi3Wuv8AtsnSC\n",
       "L43COI9EcpsCgmSVcup31gICq/qh2czDxHazDs/YdhCIDIvk0vdhUn2uyJ3C6tsOqU9DWmQaVfiR\n",
       "mF8B/lBABEtdHnuWIpH+EKaZfKyxrtczWAqmmc1+MzeAVMnd6IaoSuaUq8hX0QDOLku0sAGUbWEZ\n",
       "Urigyfc3QVcLiGT+5AYCYfXA1rK1hh498MxjfXU60Ld61q7QpZI0ksf8xx/ksWeIlrbwgPjijCI3\n",
       "tOIpUzvZbMUVWot7YnnboRCmU6Z5qRLhxBLurXgpih6XWdDKS+ZLkZZKYvgxh9ij6umw7W8Pvgtn\n",
       "gsszeacMr6f9d349zfJX9a/2ekr6NNbtbecrdQ2XhbuA/gPNon1mxoL+PAAAAABJRU5ErkJggg==\n",
       "\" style=\"display:inline;vertical-align:middle;\" /></a></dd>"
      ],
      "text/plain": [
       "<IPython.core.display.HTML object>"
      ]
     },
     "metadata": {},
     "output_type": "display_data"
    },
    {
     "data": {
      "text/html": [
       "<dt><a class=\"ProveItLink\" href=\"../core_expr_types/tuples/_theory_nbs_/axioms.ipynb#tuple_eq_def\">proveit.core_expr_types.tuples.tuple_eq_def</a></dt><dd><a class=\"ProveItLink\" href=\"../core_expr_types/tuples/__pv_it/axioms/01d357e885395c678d3e622119c8999d250ec11b0/expr.ipynb\"><img src=\"data:image/png;base64,iVBORw0KGgoAAAANSUhEUgAAAogAAAAyBAMAAAAtqTezAAAAMFBMVEX///8QEBCIiIhmZma6urrM\n",
       "zMxUVFQiIiJERETc3Nzu7u6qqqp2dnaYmJgyMjIAAAAcRTyBAAAAAXRSTlMAQObYZgAACI1JREFU\n",
       "aN7dW2tsFFUUPu3u7Lazuy2JDx6NupSIBh9sQJEEgQ1N9Jew5QdKQtJNlR/gI6uoQCWk4A+Kz1V+\n",
       "8EiQQSJViHQFG8REWVuMUUA2aGI0IpsUSeAHFmgJbUG8r5mdx53p3hmbSXuSMzt37j1nZ765r3O+\n",
       "XQAHuefWDRgpOQajXOQ0/Tx167Jju7rtO0bqFqL50Q4iLKQfn23/wrHZHSN3B1NHPYYQK7KTRp9A\n",
       "jIwzlncyFZYjnGtuHEWyVEXkHZ9B3J00zi+tVMUmpQ0ZgJD1wYUdATxzG6xAHyvcPYRfIL5pLNZk\n",
       "qYpJTQIhVrRezorfzxAcQMcD7oaTTyBGBo3lX5iKSW0OHbosl8UdQXAQonEgKiLrfAUxnDCW1zIV\n",
       "k0UKHlOWy+KOIJoBGXUreZyY2dGsnyCeNY646gxVQfmBDN6k6aoLR2RiOAdUxfuCTyCuMRYrE1Rh\n",
       "S/dkxdHQ0OB8/RzUiUydmjqK1t/rfAdd9amS064mNDF0A1WRTc6gjyBKfcZyVYFqcCL8g2rtV1fa\n",
       "oJLiJv+rdGTZbu3nS1h6VGfVb8B7Tn5ga66qCFM0p++jN/MXUNX7Gm5/cMVHEAOmuSeco7q7ALNB\n",
       "mmk/HkkDkLLq6lQbh4i5NXGWh+ed/KAlIZSDpZrTeejjMFMRueQjiBVpUzlJdb4Cr6CeYf/wtIH6\n",
       "KorQkQepF6zO5uMx7+AnMGh0ipfZJqYiMj3rH4hNBT6IE0Dud3x42qC0GizK8UGcAM4gVrQanfa5\n",
       "BHFXwT8Qp2e5w1m+AZFep4enDYIs7q4t4E5EW9N57DxzJt8YBsQOnP5YkNY5BXiSqd5XeUPKHxA3\n",
       "AHdhkYcgVDziBCJpEK2lC3RtUr5LlwbQO7uJZkwnEBH+kMsP6pzqFhYBqcr4B+IE8143QXUj/JbO\n",
       "k4fvKOLVF9hBK5EGOw7TK6FCFbIJ5DnOZoH8qOanZK6dBNKwZ+n+jM4pwONAVWiT3ktBJC/yjC2I\n",
       "TtVuRb5q3rlkqO6tX9qcJGfhFnT5dWCHMB41qxW1wUZaL884iWfGFMdZ9ORpKPkh5gY/cOJMHKri\n",
       "eqfwN1AV2ij2UxCP44+LtiA6VbveJl7hRWpr9SjA19Z4W91ly4MpXX27bdg3nJ+OT3QFkDNUXTxJ\n",
       "I2zDkVKrLYhO1a7TD0O8nIGWNyA7v7x16Gj1xbyu3j4BMZyfb6O6gqsEBBtTjVCD3kU0ZwuiU7Vb\n",
       "ifVbJugsVRL7PnYtDrL1cT7W7vyFbKmekwpjjob1s/dHXcFNKgzJNQpi7Kd9+7baLyxO1W6lcsDy\n",
       "RltNudSY1cqwt4yZEDM7K9dPqbCZqZhcZ6vz9ba2dQ6rs0O1W4kOWi65pgd+51xz4yiWpSoodzMQ\n",
       "l5M3UJmwAXF5GS9oYbGsiLmfF3SNbhnPQGwg8woL6qVVx2ByWg9iA2/a4WzNypiF1QAt1DtmQHyZ\n",
       "gRiGSjYz7O+eC19FlYCiB7FU7ZDTLGvliRTHLojRQphNC2/vUOCbeCJqGM5atYPUljWZaP11DA3n\n",
       "1QzE6uISIEF9A77Q2fmhEURSDXumWjfz8oyXWLTQVL+SbNnqOcjVx9XWD6v9NTowZkBUFxbY/Bx6\n",
       "LhTUk9HWGf18mTF2xtXyaxLqPSuNDtpTTQrU4LP7FJwkDicbIaSYvuVVaRx1TFqzLU6/7eossrB6\n",
       "4+2xtZWtt7W3IffvVEE8hHb2KKiXyWjrhHy3EURcHUhIGVg2yehgJjyN4AUSwuP0x2yQpO9MIAZa\n",
       "IQUKba0lO2J9dvtEId7dG29PrFdY7T8dz2lsS+5fVUGsjRMcpDVtbRsRiDvDRhBxdUWuEi3ZLUYH\n",
       "ddoPam6HWaSMeqMJxIqctTVELCCq5L0Q7+6NtyfWaoiS1dlzyRUbcp8mLjGIMYUG9WnaE4OLjSDi\n",
       "6o5s1R+KCUR5AN7dFyHT4CABcIADIl5yDsbV1mrYftMudhbj3b3x9l1QCpZ7dPZDnLZ25L6agCgF\n",
       "9d/jk18B/rTmEyuyTU/hnlj9FmxT1MNEqa8QacDXWmKt6HgOAgTEUottSk0SEl8mgLTuLxgGAS+L\n",
       "I8a7e+PtsTVj66VNimYf5G0d7Mh9mkpp1AX1VWjoBdcnIWQFMdh8cC4GUaqDxqw0ER/q4IkHphRQ\n",
       "QIPOlpzAxy0PTSMgNuZoC3TIVc84rYRSoLZmst50Lyp5L8i7e+PtiTVl60ML4pp9lOfDjtyn+wxD\n",
       "Zvt+NCdawj6dtOCku/YSWBYuyc7okQzn0tabnLUH9XZY5pszEglXBL433p5Yd7MMTkazr2meYg4d\n",
       "7Mn9UK8FRG7sXJLFV3O6bQU7a1bYGTlK0+fodwL0LDTNvB05a0JJJe8FCXxvvD2xpqTKcZp7JvYd\n",
       "F+UBo1czua9fN1tFQTSmjsxnBU76KcbPP0GT6V2r5L0gge+NtyfWlK3PwEea/VEFrli+0I7c3xV3\n",
       "A+L/I3bkvSCB7423J9aEaI7FIZRS7eexfYvhC+3IfT/J+0CvPYgCBL433r4EIprIpbRq3wPBIcsX\n",
       "2pH7m8A/EIN9tsNZhMD3xtuTNoStP4T0gnofN2lfLXm1kPs68fMHTbDKdmERIfC98falheUCA5LY\n",
       "9+E50PqF3IWl0s+f1pmXZ5W8txL4HOJdI/C98fbUGrP1ZCknezNs/6L59+QO5D6b230CscL4+Cp5\n",
       "zyHwrcS7RuB75O2JNU7whfCuuzLO7Pc8aM5B25P7/v7c2PzDd0vYVxaB7423bwfG1gfJpdQwYSOP\n",
       "3Gcht19/wegZJgFRFoHvjbfXJyDKSGBwEhCRSf6C+IFxJKrkvRiBb02FCfD2hlSYyZ4nnFSY338G\n",
       "MgUb3KTscMS7N96eWG8uP6nLIfefBX9BJFlcU1pelB7wxttj61j59ACH3I+1lgXiCP5VNxSH0S5l\n",
       "/lV3JP80/shox1BmvN2pW5f/AxWONHZ93T1xAAAAAElFTkSuQmCC\n",
       "\" style=\"display:inline;vertical-align:middle;\" /></a></dd>"
      ],
      "text/plain": [
       "<IPython.core.display.HTML object>"
      ]
     },
     "metadata": {},
     "output_type": "display_data"
    },
    {
     "data": {
      "text/html": [
       "<dt><a class=\"ProveItLink\" href=\"../core_expr_types/tuples/_theory_nbs_/axioms.ipynb#empty_range_def\">proveit.core_expr_types.tuples.empty_range_def</a></dt><dd><a class=\"ProveItLink\" href=\"../core_expr_types/tuples/__pv_it/axioms/230eb2c2f04391a653ca815cc3a7fefcb7115b4b0/expr.ipynb\"><img src=\"data:image/png;base64,iVBORw0KGgoAAAANSUhEUgAAAUkAAAAWBAMAAAC/C3MNAAAAMFBMVEX///8QEBCIiIhmZma6urrM\n",
       "zMxUVFQiIiJERETc3Nzu7u6qqqp2dnaYmJgyMjIAAAAcRTyBAAAAAXRSTlMAQObYZgAAA79JREFU\n",
       "SMfNV0toE1EUPW2SSTOTSYrgpm5CC9JltAspVqkIfhbadCPuzKKCQpGA4A8XoYK0gjiuLAVpjKLY\n",
       "RRsQlArSoFBBQQYF0UUlUnXhohQpohXE9583nWRaiIgP7uPe3PNuzr3vO8BfaTeFeBYsZ2PDSJsV\n",
       "EnRLT42aC02SNItcgNtdDtOMIk6GDpFAWB0wSEKGUy+q9Lyk9tcmWaYcLsDwXIVphovp0CESCDsP\n",
       "k5TKrNWLKj3jxEwUm2T5RgjMlTtCA5KZsOprQOCpkGBU4UmVSLxKkyzPC4G1LDVCpD1khA4EbgkJ\n",
       "RhUe+8XU1I0mSSYKXEi+SiPtU8gQHxCpfi6BqMrzY3T0YiiHNcs6FkS0ZrnA3nY6y7TydmI9axxT\n",
       "AVHuppyzXAJRlec4MEZ/7HOlB/hMu6jImmaUkxSLsPr9cUhrc7kA6QzXqnuI8SEkdQlEtoX0do0L\n",
       "8GqJtkUZVXn28u2V7KxSFrxwbJ228Xj0QLEkyR4yC71eWUWZ4xUuwGSOaYnKbmI8CmEpgLCdNOmt\n",
       "AhdfYxGlJ45WF3WWhWAZqwrTYPUlA+4G/rKlnwswxy0T34hyLISlABLkANm+sWUugajKk3TjbApK\n",
       "9VkaOd2kLFNOY5bPhWWtrsNSArm2PstE7Qid/2u7KImt7Ajp0macplDeqbNkpYdC+2b8srDa8kTZ\n",
       "H8JSAoFFETZa8NblFzXjyjM2RH97x3YKq2gkWvNY0lMqe1hnaeVxYpQ0Nynr7+2eTcKaqVTDd48E\n",
       "wvwFfffoc6nvHjxgSfTQboIt+PvJvMfyAAnkzOsso/KmmpDbQx0k5oqwBhLkL/pg/qY/0m6mpika\n",
       "kK+NSJWL/0jN6p40u8muMs+Il4VguY87Ty19XFpyGcuYSnpETr2cluiysIwFfp6dpdU+Q6cvL5UL\n",
       "0IGIFMRJp047aFE9j83mbTNLcZVB047H8ijtfvpqmSecSXMFWrshk0VoNyRdHYE9icfwAeO0YveE\n",
       "BG9Iv8ckhR8vWbVq4gowqO1xCom1S5MeXbacGoL2vzYeplxpiddGMrgi6RgFjJXowbn+a0Mr72DF\n",
       "HHZiW4BujWWcVKO1KMzEju8ZROTJStByoTtMzk0rizRqlIOPIbq+FHCyeglo9HJrc9Z67Ky8ciy1\n",
       "OvktSM+VjHcVkWXS8BX8uldZ4PeuG7zBaaeARpfrJVknqt+TepuT3wCzxsEOjSWKGLpe0lk+2dgX\n",
       "hb3xL4r3QoJuvyfZKdOEa8w7OstDGGbfBgmZYRb/U4uIPbKmJq2lf0/lDyC3MFmw9lfxAAAAAElF\n",
       "TkSuQmCC\n",
       "\" style=\"display:inline;vertical-align:middle;\" /></a></dd>"
      ],
      "text/plain": [
       "<IPython.core.display.HTML object>"
      ]
     },
     "metadata": {},
     "output_type": "display_data"
    },
    {
     "data": {
      "text/html": [
       "<dt><a class=\"ProveItLink\" href=\"../core_expr_types/tuples/_theory_nbs_/axioms.ipynb#range_extension_def\">proveit.core_expr_types.tuples.range_extension_def</a></dt><dd><a class=\"ProveItLink\" href=\"../core_expr_types/tuples/__pv_it/axioms/5f08340c4bf97054bf6ced0d9d20bef7d357d8960/expr.ipynb\"><img src=\"data:image/png;base64,iVBORw0KGgoAAAANSUhEUgAAAekAAAAyBAMAAACKbj78AAAAMFBMVEX///8QEBCIiIhmZma6urrM\n",
       "zMxUVFQiIiJERETc3Nzu7u6qqqp2dnaYmJgyMjIAAAAcRTyBAAAAAXRSTlMAQObYZgAAB2pJREFU\n",
       "aN7NWm2IVFUYfp3PnXvvzCyRfVkxuBDRB44ZhKW4FKkF5vgns6LdRCFBaUKosH5c+mGrEU2/lCIa\n",
       "tdQ2aEcLZaNyWcFKKwclWaHa/aGFgcNiBbmb0nnfc+7HuXPm7nzsXPdw7p1z73nfueeZe877cZ4B\n",
       "CK4Y3XDNy97An/jDtQcNkbGAHxjqlS4TZbk1OPU3OCqeMlifPpbfAkZ9QL7cjyftvoW89QLECn7K\n",
       "tiAcKFb3oq6/vl06hgIFrV0vX1+g4Z6Y5K1NoPnOPVsQznh69FuAdLWxpobR5tKRlS6TdDnweLdo\n",
       "AQz7absFeTkozNOxCaE73NSUa3M5Is/MOE3II3YLYJevtktQQg3JCaG7q75xxAOd4pvlyx10/tZu\n",
       "AaT8HJtbUIEadVP1OUb9coCgk56HdeHp9I0LqKV1ZZg7z9bWtgRBm2uqUKOun77Pz9/WEjfl67fp\n",
       "fIm3jEgnG76fORKCEIbbVKhRl+sbFSo+v8BoMTjUPZ759xo54H946/0wG7Ge9/HUQhDOwqQKNer6\n",
       "6UuGMRMc6vmea3Ig+jhvFdNsJNFxn8UoBKEYQZDwU6XyUqXyu40adf303SUVYHh2gwq1kRctNPB+\n",
       "o7YFeavqXTeCOhScOYteAcUM7+gVra0YIvvMUFsQUlkVatTl+mJd9/qslivBBeHeH5is2awMb2mT\n",
       "hr81swTZqiz5W7Mmpl0bI7NOz42jBKGbtyLjHzDzPAQDOHA8aVdFg59sQVewY6EOIWqmS0dd5U0A\n",
       "+tJf2456lsdxwTI8rbRam1g2lcpBfAv6OJydL1sNuuUIwgOeKCX8/NXFpEtHXeUkwAn8/LPtqAe8\n",
       "DpTCy+/AFWjuY8eX1Zp0yxHc7I3NbN199Y5lNAc7cX2b7XfXXifJUgm996KTh/DsQTFJ2S1H8Gly\n",
       "3FT63UINZB80lhRbJ0ap/blH1SO2QXz7mGhRCojLuTqAwFu2YOK/DmXQ1UCmyedd8nh//472W7PR\n",
       "qkW3H5JdBWd/ATrYRVIRv+NhC65drLaVBX7UV9LMXvzb1/d6+1HPK9TeDuKtsy3sIJ2tT99CzRb0\n",
       "emuK1S7WiBMYbviI5Kiq7WaAIf+U/oSthUfEilhUtvI/4QMi1GaO0rC6hyCU1auy2PCPXOQ8fAFY\n",
       "QZXnLplJqFkQF4cQ4jXmov1cw2N9vljozGbDBtEdK0C0AAu9XzJ8DxcpQbiAFYRHWL2oO2SHQS/O\n",
       "HNAQZxGTUY6rdzIs1NEh0f0s36jyyp0DLsLMaC9WRK19taCsm8fhwZmKOjH2JC3xYi3UsZzoXs+n\n",
       "v9cusYgwJpbzBaoM9chgP+inwo7/nUkzPI5pyrZ16BzeQZ/wMKUqux+SUMet7jxE7gC+Hlxl5K8y\n",
       "imhdzCPfS9WECHpV/Zk1GRv1ySlteP0sgF6o17ar2QG0ZvA5ZWgjFAdRyp59QkK9Q3Qn8mCwV657\n",
       "krikSft4YeRSDlE1IUWDyx3/2UY9T+GvoVkWYINzfw+68gbZgVmIIE0B0QL8zT7FH0ArHJNQLxfd\n",
       "ERPeO0wfsgln75WJfGL00udyVNnDURvOBt5oldlogQX4zLm/EYO+BtmBNI4qWbTz3Y6MayfPQr1U\n",
       "3IowWG8wy+X5lg42vZaKz+eomrC6r68vo+cSZXuj4Eh3dRwOzbIAhh24an9/BDI7oIs+H3ZgwIn2\n",
       "Z9P1x9S+LKF+SnRHTdAmcgRemi9s7qJIukDol5IB5O8aHrWH11NW5VxNsgBap7SfJrEDFmofdsDJ\n",
       "hLQJSGyHbwzYWYRop4R6H+8GLQ/62BAkh5jgzqJ1goEiT/JWseMXqiYYuIqT7O0MSbPKXVpiAc5J\n",
       "+2lSGiGjVrIDTiYUyUN0Duz9HlaVIGTKNrwo9qS2gLaRxSHdTHBVIXoznubwXB9F7mSf91Nl6m/h\n",
       "JgAbmz0v4t7V1RILcNRCNn9z1sMOyKiV7IDjT3Bt8JCsZK1uC3WoJJbO3fyVWIIiijuNuzglWvK4\n",
       "MTNGqENsXcs2b1y1b9YsC2CT0OkMeNgBGbVyP82OmFJncsKz6YV17xbliNTk3eLG124XOAgXKXYx\n",
       "Y48xk6mXsYJqj4LGULVH2iwLcNi6/2EOPOyAjFrJDtxkr4+57FTm+ezGDXJsBit4N0RQQMsKQSpl\n",
       "GKanrIgdY9NmD1Ul6uikaj+8WRagx23kXPeNSuWP28W2cM198sQlP7MZpnPWFQvhOw4pQ0suchdV\n",
       "yNazHdsSC9DjNnIyOyC/axXqAFkAWKKa4c2yAMus+1sBPOyAjNphB1zflQ8O9cruaWQBbGt2HYCH\n",
       "HZjamqUzASY62WlkARZxARaagZcdsFHXZAfmBZj+eY14SyzAeYBXcOyR8Sp2wEJdmx0IjvBh5dbp\n",
       "YwE09EeI2jCr2AE9MwU7EOg/NLz/xmmFBcDsA3fqDqXKVeyAVpyCHUhlg0TtfVoLLABmmrvZ8apI\n",
       "ORtiBw4EuquTmD1tLMA2EVKdWggNswMB/8vOCSNbZQGSde8gKdiBWDZY1OHembBVOBL0A9fOANCB\n",
       "/1OaZebXHvVesmX/AyixgyEXDVdaAAAAAElFTkSuQmCC\n",
       "\" style=\"display:inline;vertical-align:middle;\" /></a></dd>"
      ],
      "text/plain": [
       "<IPython.core.display.HTML object>"
      ]
     },
     "metadata": {},
     "output_type": "display_data"
    },
    {
     "data": {
      "text/html": [
       "<h4>proveit.logic</h4>"
      ],
      "text/plain": [
       "<IPython.core.display.HTML object>"
      ]
     },
     "metadata": {},
     "output_type": "display_data"
    },
    {
     "data": {
      "text/html": [
       "<dt><a class=\"ProveItLink\" href=\"../logic/booleans/_theory_nbs_/axioms.ipynb#true_axiom\">proveit.logic.booleans.true_axiom</a></dt><dd><a class=\"ProveItLink\" href=\"../logic/booleans/__pv_it/common/373f61d65f7ccc0f6ebbafaccf02f2693d0e3bad0/expr.ipynb\"><img src=\"data:image/png;base64,iVBORw0KGgoAAAANSUhEUgAAAA4AAAAOBAMAAADtZjDiAAAAG1BMVEX///+YmJi6urqIiIiqqqpU\n",
       "VFQiIiJmZmYAAAD2GhH1AAAAAXRSTlMAQObYZgAAABhJREFUCNdjKEsDgVQGIHBmgABa0YpADADk\n",
       "ogYfXGfJdgAAAABJRU5ErkJggg==\n",
       "\" style=\"display:inline;vertical-align:middle;\" /></a></dd>"
      ],
      "text/plain": [
       "<IPython.core.display.HTML object>"
      ]
     },
     "metadata": {},
     "output_type": "display_data"
    },
    {
     "data": {
      "text/html": [
       "<dt><a class=\"ProveItLink\" href=\"../logic/booleans/_theory_nbs_/axioms.ipynb#bools_def\">proveit.logic.booleans.bools_def</a></dt><dd><a class=\"ProveItLink\" href=\"../logic/booleans/__pv_it/axioms/5f870cc97ede5884d7fdb45e83259888549dff960/expr.ipynb\"><img src=\"data:image/png;base64,iVBORw0KGgoAAAANSUhEUgAAAGYAAAAVBAMAAABGR4Y+AAAAMFBMVEX////c3Nx2dnaqqqqYmJhm\n",
       "Zmbu7u7MzMy6urpUVFQyMjJEREQQEBAiIiKIiIgAAAAUQ1kVAAAAAXRSTlMAQObYZgAAAPdJREFU\n",
       "OMtjYMAOWEKwi5c+Y8AF2BbhkukpYGB4e3r/mpsNGNZ8YGBgvQsGE2BixWCSdQGQWFDHtg3DIUwX\n",
       "wBTzAyQxO4TMhhaG59yk6zEmQ49GNsl6OK5PJ0HPAZCenvt/wOGmtQoEloJlOBfg0gMKUZDbVJzQ\n",
       "7bEpwKWHYSlEDzeHA6qW6osMOPVw3oPoYZiAJbZx6FkJsYeTYQHcPyshhm0g5B9uFgXSwm1BEYNS\n",
       "JL6wZvuFHj/Y0yhUDyRs7iYwMMTevXvm7t2bcBksAEWGOQGXDKqeA8gcBqL0gEMHBvKQZVgX4Myo\n",
       "yPkUJcJ7GnDqYcZTHgAACIJoLluo+GYAAAAASUVORK5CYII=\n",
       "\" style=\"display:inline;vertical-align:middle;\" /></a></dd>"
      ],
      "text/plain": [
       "<IPython.core.display.HTML object>"
      ]
     },
     "metadata": {},
     "output_type": "display_data"
    },
    {
     "data": {
      "text/html": [
       "<dt><a class=\"ProveItLink\" href=\"../logic/booleans/_theory_nbs_/axioms.ipynb#false_not_true\">proveit.logic.booleans.false_not_true</a></dt><dd><a class=\"ProveItLink\" href=\"../logic/booleans/__pv_it/axioms/1f2330903588c2c37d611ef7de2b1d9bf8c297ca0/expr.ipynb\"><img src=\"data:image/png;base64,iVBORw0KGgoAAAANSUhEUgAAADoAAAAUCAMAAADrw95cAAAAOVBMVEX///+YmJgkJCQNDQ0oKChE\n",
       "RES6uroyMjLc3Nzu7u52dnZUVFQQEBAiIiJmZmaIiIiqqqrMzMwAAADQJR+6AAAAAXRSTlMAQObY\n",
       "ZgAAAIRJREFUOMvFk9sOgCAIQOmiqJjp//9sS9sqp6m8xINzwNkZGwC0wujvevC1isL777ZH0JX0\n",
       "ew0lmWey3iqqBHBRCly0IO1FRRhGDcZYl/N1HGtJ2ocGAi4qFAONs842TUzjVixKe1Dp4BtNK23t\n",
       "a6WTtHIycmodm3fADdRc0psfpCCbHQeFUAaWF4Tk8gAAAABJRU5ErkJggg==\n",
       "\" style=\"display:inline;vertical-align:middle;\" /></a></dd>"
      ],
      "text/plain": [
       "<IPython.core.display.HTML object>"
      ]
     },
     "metadata": {},
     "output_type": "display_data"
    },
    {
     "data": {
      "text/html": [
       "<dt><a class=\"ProveItLink\" href=\"../logic/booleans/_theory_nbs_/axioms.ipynb#eq_true_intro\">proveit.logic.booleans.eq_true_intro</a></dt><dd><a class=\"ProveItLink\" href=\"../logic/booleans/__pv_it/axioms/3a99d3cb7c410f4636cdc59f7b36cdf6997b37680/expr.ipynb\"><img src=\"data:image/png;base64,iVBORw0KGgoAAAANSUhEUgAAAIwAAAAWBAMAAADgE2koAAAAMFBMVEX///8QEBCIiIhmZma6urrM\n",
       "zMxUVFQiIiJERETc3Nzu7u6qqqp2dnaYmJgyMjIAAAAcRTyBAAAAAXRSTlMAQObYZgAAAaJJREFU\n",
       "OMtjYCAMOC/gl+eewMDwAMS4i1fZCggVhy7OXA4GCQyZDAynQQKv8BrzEkK9x+YQBRC5joFhBsjV\n",
       "DfhM4TWAUO8X4DKGR4GBDyjJswGfMewTwNRq+wm4jOESYOA9tWrVdLx+gspe0HfAZQzDEwaGHx0d\n",
       "NXiNUQaTLAv2X8BpzGEGhlQGhk4wG0KywFR0whi9YHIJQzwkHN6BgQGKMfcYGJwZuMCRzvsFLMIB\n",
       "C9gvMGOqwaQDw3wDnK7ZDgxBBiawaxf/RTEGygUCERDBmmyc34DTmHigKy+wg5mnilGMgXJhxgD9\n",
       "yvgAnzGcD8LA1il0IBsD48I8BUwS7AJIYZOAYow7KCxTQCw2BnNkY2BcaBBzAo3h+4DTNcAgZthc\n",
       "AGLdZtBHNgbGhcQmOO1w/MRpjA0Q84OYXI/P9C9AGAPnQly84v8rBu7+75hRxQJJS09BUQtSz7yA\n",
       "YX4Awhg4F5EZ8ACuAhjLF+iqCwhj4FxE1sQDeBSgDI4fDJz9tXBjEFyU9IwLrMMU4sBZbOEGnUQZ\n",
       "Q6gQ5Z1AlDHkAGaydAEA+qlrXgbLZpIAAAAASUVORK5CYII=\n",
       "\" style=\"display:inline;vertical-align:middle;\" /></a></dd>"
      ],
      "text/plain": [
       "<IPython.core.display.HTML object>"
      ]
     },
     "metadata": {},
     "output_type": "display_data"
    },
    {
     "data": {
      "text/html": [
       "<dt><a class=\"ProveItLink\" href=\"../logic/booleans/_theory_nbs_/axioms.ipynb#eq_true_elim\">proveit.logic.booleans.eq_true_elim</a></dt><dd><a class=\"ProveItLink\" href=\"../logic/booleans/__pv_it/axioms/ed8b0a27c515b8c85261606f0835dadd8c8b34f70/expr.ipynb\"><img src=\"data:image/png;base64,iVBORw0KGgoAAAANSUhEUgAAAGgAAAAWBAMAAADeGsQjAAAAMFBMVEX///8QEBCIiIhmZma6urrM\n",
       "zMxUVFQiIiJERETc3Nzu7u6qqqp2dnaYmJgyMjIAAAAcRTyBAAAAAXRSTlMAQObYZgAAAUpJREFU\n",
       "OMtjYCAHPAARd0nQwArUcRrEeEWCJr4PDAwzgDRnAwma7v0CalzAwMCzgXg9XJt/MjDwnlq1ajoJ\n",
       "FvEyfQGSPzo6akjQ5MX9F0imMjB0grkQkgUmyzEBq+scWD8BKWcGLnCw836BqIVJ33eAMng6OiQ6\n",
       "eqAcFgbOz0CKnYHpAoi7+C+KJi77CwjzEaEbZmz2A2TQBXYw91Qxiiae5QbYNAGtlwNF0oMwcEQr\n",
       "dKBoCuJowKKJG4gLwQGQAiLZGMxRNCUwFzBkdADBBWRNs4H4PYixuQBE3mbQR9bEu4HpA6ZNnCCl\n",
       "/aBg5VcA+fvxmf4FSJrW2Zz4haGJq//fAoYd/0Ge5wUpZl7AMD8ASZMVA+dXhrx3QIDiPFTgC7Tx\n",
       "AkITC5D9F1voIQOOHwyc/bUITf0NDDO+IyIqgUDa4iAnJ9NPEzMRagC48VUODJp6sgAAAABJRU5E\n",
       "rkJggg==\n",
       "\" style=\"display:inline;vertical-align:middle;\" /></a></dd>"
      ],
      "text/plain": [
       "<IPython.core.display.HTML object>"
      ]
     },
     "metadata": {},
     "output_type": "display_data"
    },
    {
     "data": {
      "text/html": [
       "<dt><a class=\"ProveItLink\" href=\"../logic/booleans/implication/_theory_nbs_/axioms.ipynb#implies_t_f\">proveit.logic.booleans.implication.implies_t_f</a></dt><dd><a class=\"ProveItLink\" href=\"../logic/booleans/implication/__pv_it/axioms/b8ac82422a1ae20d40ca790592da79118371cd7d0/expr.ipynb\"><img src=\"data:image/png;base64,iVBORw0KGgoAAAANSUhEUgAAAHoAAAAUBAMAAACwiTT9AAAAMFBMVEX////MzMxUVFR2dna6uroQ\n",
       "EBCqqqqIiIgiIiJmZmYyMjJERETu7u6YmJjc3NwAAACgK8IjAAAAAXRSTlMAQObYZgAAAPBJREFU\n",
       "OMtjYOC7wEAI5OGWOs3AMKMDBJqwyYqBCKYHuGQY1oHJdBxmg8V5FuCS4Z1AWDeDOS4ZjgeYuveh\n",
       "6z6KS/cLBkzd0ui6uRxw6K7EohvqG4Q48wQcuvei6OYEh37HTzTdvOBgs1oFAiuRZdqw2M3AtgxV\n",
       "N1sDDrtDsOlmOBWCopvxAym6+ZQfEKcb1eWcqyDgAarLWRoQ/l6EO9QggGUB1lDDYrclFt2nDqDp\n",
       "5jTAodsDwvZFllCE0sDcEwrOPVwCaFphMhxY8g+G0AlcGZR3AgNhYI5TZh9hzVhzKLx0IAS4H+CU\n",
       "IqJkuodLAgBplkw0aZ95ggAAAABJRU5ErkJggg==\n",
       "\" style=\"display:inline;vertical-align:middle;\" /></a></dd>"
      ],
      "text/plain": [
       "<IPython.core.display.HTML object>"
      ]
     },
     "metadata": {},
     "output_type": "display_data"
    },
    {
     "data": {
      "text/html": [
       "<dt><a class=\"ProveItLink\" href=\"../logic/booleans/implication/_theory_nbs_/axioms.ipynb#affirmation_via_contradiction\">proveit.logic.booleans.implication.affirmation_via_contradiction</a></dt><dd><a class=\"ProveItLink\" href=\"../logic/booleans/implication/__pv_it/axioms/9e7a6331c6ade13bf7d90f7a7ea3d6b56d49f7550/expr.ipynb\"><img src=\"data:image/png;base64,iVBORw0KGgoAAAANSUhEUgAAAJkAAAAWBAMAAAAhlCOEAAAAMFBMVEX///8QEBCIiIhmZma6urrM\n",
       "zMxUVFQiIiJERETc3Nzu7u6qqqp2dnaYmJgyMjIAAAAcRTyBAAAAAXRSTlMAQObYZgAAAidJREFU\n",
       "OMutlE9o1EAUxj832W6SZqsHD55kwIso0oUVBFG6IIiXwuLBk+hCrVcLvYhUWDxNsXRzUYsgDVZQ\n",
       "IkrBP+BBXBCh1h5yV7G4J3upB6VVEH1vZk0mi12wZGAyf/K9X2a+vBkg17LKj495kM5RfcedtTxo\n",
       "61TnqLrNHGDl9RAYouov5kB7OBIQcjmKbuWx0Xi4Rs9NKaf6ylxzUN9KZYevYmrGgWk1nu4V1HTT\n",
       "TiacAE+3ot3DeUHNCXgqS8rfum5+7kxqH/W/GQiSiE81WIGJaJifnq9QU0KBl4iFX2zl6+MQ7TvP\n",
       "DNrZJMAbieE1TFqaC8Wx6iUe+XFJjZcnaV3Xb4cQwn9kaMeTCP8+ff2L6r7spdnADt6iu3pGwYXk\n",
       "XVMRYvStoZ1IIk47NHPI3H5KI29Ku5T7F9R7HOkeM1HdW0+1bkprWNR/jiUp5ezuLM0l2tBX7j1R\n",
       "+vcYhlfRa7NupFq7CZ/DyYbFAulP6fDC4QyNM9b5wb2d/Ge9zkorLF6W8hr7VjBo2vYB4PGxpZ/6\n",
       "bLP+YmjQHvxew2BrgxdT5nkrxHxd/3GiWSmt2PxLOwr3O3AS+6pUxsKsb9kySmuM8UbR2v5KSvMm\n",
       "ujSb8oiS6AO8KIruCvShOZtwW1fhkJnlqc5sbGivdI9Xq4m5jRjKL9zkhJFyj5zpdyb3k289uXnw\n",
       "H7crgv+/FTTNycwNxtu9YzTNzsQvbPvGqujmhTl3oG/EH4NyiW+J0iaOAAAAAElFTkSuQmCC\n",
       "\" style=\"display:inline;vertical-align:middle;\" /></a></dd>"
      ],
      "text/plain": [
       "<IPython.core.display.HTML object>"
      ]
     },
     "metadata": {},
     "output_type": "display_data"
    },
    {
     "data": {
      "text/html": [
       "<dt><a class=\"ProveItLink\" href=\"../logic/booleans/implication/_theory_nbs_/axioms.ipynb#denial_via_contradiction\">proveit.logic.booleans.implication.denial_via_contradiction</a></dt><dd><a class=\"ProveItLink\" href=\"../logic/booleans/implication/__pv_it/axioms/f2e3fe806d62adaa18049be164546361400331db0/expr.ipynb\"><img src=\"data:image/png;base64,iVBORw0KGgoAAAANSUhEUgAAAJ4AAAAWBAMAAADDSDj9AAAAMFBMVEX///8QEBCIiIhmZma6urrM\n",
       "zMxUVFQiIiJERETc3Nzu7u6qqqp2dnaYmJgyMjIAAAAcRTyBAAAAAXRSTlMAQObYZgAAAh1JREFU\n",
       "OMullEFoE0EUhn+TxmTT3dqDZxnqxVsDAQWpGPDQUyEnj7bQ9qAXCz0otIJ6miA1uYgiSBcUkYil\n",
       "UEqPDYRCW3vYe6lEowd7qQfBehB9b2anmQnG0vXB7L43b+fbN++9GSC5eFHXRH8NaLGyl4j3xrFu\n",
       "0LgJvGd9PxHvq2Md0FgCnnHg95PggoJjHYSALzDAr+UkvGzNtt5eJTM/iGC7Xn+aaLvuqmi4RM/P\n",
       "wKGU84l4522jL1znajeBaaCipirdC0pGqfyVt2AbrzAu6PUBuIa86pnge5zYT+1ZnU9TJePRctoo\n",
       "c0D6DktD/XuRy7NGaUVK9eXLX5zV5hWIxotVh6c8R5IzylnT1hNAZrJ4mz8fp+JGWTW9PUuRPHoe\n",
       "Qgj/ncNjD3d/1JvXB5xqaZ7Xus6zGSF57yRCjG3ZPOWB7n6bN2fxKEHZQdJHOdtTOi2X4sMniufK\n",
       "No89viT5WHJ4Cx2eR7yBb7oeWJnh2V0MI1/Q8aWf2Dz2xB1SsnlNo5RVK+Z+0mOExhkudL69Uw0z\n",
       "d6V8yPlLWTzl0Qtf37J5o52L4fc++qs/KJov3A78dTrEYhkTOj4/bfGUJ1UkuXjZ2a973vS/Z4w2\n",
       "RnFG2FC8hr9j8bSnTjLk1sO9D5T4wjTVIbzqPeQor8F8+3HU4cWeuI7YlA+kbPQ6NkvdExcof0fS\n",
       "dYt5/75Pex/MHrzj7/ug9l+8k0ohwZo//2aLn6xV0D0AAAAASUVORK5CYII=\n",
       "\" style=\"display:inline;vertical-align:middle;\" /></a></dd>"
      ],
      "text/plain": [
       "<IPython.core.display.HTML object>"
      ]
     },
     "metadata": {},
     "output_type": "display_data"
    },
    {
     "data": {
      "text/html": [
       "<dt><a class=\"ProveItLink\" href=\"../logic/booleans/implication/_theory_nbs_/axioms.ipynb#iff_def\">proveit.logic.booleans.implication.iff_def</a></dt><dd><a class=\"ProveItLink\" href=\"../logic/booleans/implication/__pv_it/axioms/4e92fd2c161a1f83a96675a3f6c84682c46476030/expr.ipynb\"><img src=\"data:image/png;base64,iVBORw0KGgoAAAANSUhEUgAAAXkAAAAVBAMAAABRbIObAAAAMFBMVEX///8QEBCIiIhmZma6urrM\n",
       "zMxUVFQiIiJERETc3Nzu7u6qqqp2dnaYmJgyMjIAAAAcRTyBAAAAAXRSTlMAQObYZgAAA8xJREFU\n",
       "SMfVl09oE0EUxj+TbNNNmrQHUUGRgAe9aAuFetOoB0VQ40U8aUALRRQrQgtWUU+2/iF7qoJgVxQs\n",
       "FarQi15U9CBakaCgFFEiHqQKtjRaa6XW+fdmk+0kTVsvfvC1Yd/8Zt/OvJnZBcrJzkrPovv/jqyQ\n",
       "Ief4hfclGvYqM+0zxd9MH2jqTKLK+WdkrxczyWLpcoY8yC9+KZH9sDLTiLHBMiD4A5HcgkmngFMx\n",
       "k+KjEAz5Cp+uM+bkYw3S/OeIaxqKKSCUBx4vmPzkcTpm0IdJSEY5zvquuWvOPuxIM93eqEYnzryH\n",
       "GgR+sRuOAdcrIbm6SpDWOVdzOqZU7fGRARYSjHLseV/f5RKFc1mZKVuvCnEt7y9FHdexPk6wR0pW\n",
       "QHLthZms2pzQnI7RNHmVEQt8h2TIE52dJ0tkv0qZTaT7MOt1FaF1UpuG1cYnr2F20qsMA9mPVs3p\n",
       "GOm1/rU9yopKMORmmk/5d1v+SQtN1SVl4Cb2y8HZvbSdaaXqe/+RV+d41cX44qv5JtRgJoPtQlTO\n",
       "RSTfOwb1HXUMWC+Y0/TIkaQ1phjyFrXwY9/l6NShpk617lAGkugRXQQOyRm4IBvUO4gsYf+jrb6x\n",
       "n0kqRb8ayVZc05yOaT1Q6zIEO68YchgBMbU3pkSLYBrRSUUtVoZ1oPGoKJk2WpWyFs/ye7GurVFf\n",
       "9jNIrf7FBjKWQFWKOB3zFutHuTr2NDZNQDLkmmxYhJ4fl3klEMz5cwgBi8TF7keyu8OywTi/T6Jc\n",
       "9pqks/SwYyDDLqy0zp5iWt3PoOYRK33Z2zmxAVqJTtHiTgrrXP/8s4EIy3J6K2r7c0pv2jjK+gy1\n",
       "enWfNpNBGf3mGEgM0DnVURgDNkhGHXtR5mOQDBldB8WehfWiya61a9LwrVr7rjzlaNOIDHubtjXh\n",
       "rT1PBlJWbs5IDqsnEIyOkXaq/1fVwV24ajEgHv8d6kWTl8Bqwp4o8124+pe8xh81qIoyzkZ103l+\n",
       "4ZEvexMpqt41kWIbDruK0TGqerU/2zzPjCMZMmp5iUU+vciIni8CPbRitkr3Tn9BNPOTdmb5dsGn\n",
       "a2S8sUXsPvGUL3sTydVsJKt4mQQSkvFiSnI9I5L54+Le9HHJkBHjWQdd9IhWv1nxODPPe2/ZMff5\n",
       "j7VbZd4UiuQYyZD4mYKZsU3MraK77mBzkLXPw56EvcLwrlVe5d7S5kRWzDwuZKsnYGdOWcvxNN/Y\n",
       "kix6qeqavTvDG/J8yQoZcpGipb8xyqm67NfJnMgKGXLZD7UKv++G5v1lODSPL8OhAhcpi/9LfwF9\n",
       "GoUpN6fzvwAAAABJRU5ErkJggg==\n",
       "\" style=\"display:inline;vertical-align:middle;\" /></a></dd>"
      ],
      "text/plain": [
       "<IPython.core.display.HTML object>"
      ]
     },
     "metadata": {},
     "output_type": "display_data"
    },
    {
     "data": {
      "text/html": [
       "<dt><a class=\"ProveItLink\" href=\"../logic/booleans/negation/_theory_nbs_/axioms.ipynb#not_t\">proveit.logic.booleans.negation.not_t</a></dt><dd><a class=\"ProveItLink\" href=\"../logic/booleans/negation/__pv_it/axioms/3de2ecc6594828497e3adec427d1533c50a4dfe90/expr.ipynb\"><img src=\"data:image/png;base64,iVBORw0KGgoAAAANSUhEUgAAAFcAAAAUBAMAAAAKKrydAAAAMFBMVEX////MzMxUVFR2dna6uroQ\n",
       "EBCqqqqIiIgiIiJmZmYyMjJERETu7u6YmJjc3NwAAACgK8IjAAAAAXRSTlMAQObYZgAAALhJREFU\n",
       "KM9jYOC7wIAK2B4w4ASnYQzODjBQYNDDoooxAUytQza0AESewqIYIsM7AUOIuQCXYo4HGEI8AbgU\n",
       "v8AUYliCS3ElFsWWuBTvxaL4Ftjlq8BgArJMGyzMDBCKM3CZHALl8SkgFMtTRXEbFsUeSG5WwOZB\n",
       "ZMW3cJkMDyYBhOLJuBR7IAuxQFLgQjSVwOBqjQAlMQ7MBMnTgCuFoiQkCMCWkKBgH4bIKSISPx7t\n",
       "cICRrXhxZisANEQ2yM1lgAMAAAAASUVORK5CYII=\n",
       "\" style=\"display:inline;vertical-align:middle;\" /></a></dd>"
      ],
      "text/plain": [
       "<IPython.core.display.HTML object>"
      ]
     },
     "metadata": {},
     "output_type": "display_data"
    },
    {
     "data": {
      "text/html": [
       "<dt><a class=\"ProveItLink\" href=\"../logic/booleans/negation/_theory_nbs_/axioms.ipynb#not_f\">proveit.logic.booleans.negation.not_f</a></dt><dd><a class=\"ProveItLink\" href=\"../logic/booleans/negation/__pv_it/axioms/d87ab8cd9ba5383125dc9d2926712d95b71ba6dc0/expr.ipynb\"><img src=\"data:image/png;base64,iVBORw0KGgoAAAANSUhEUgAAAFcAAAAUBAMAAAAKKrydAAAAMFBMVEX////MzMxUVFR2dna6uroQ\n",
       "EBCqqqqIiIgiIiJmZmYyMjJERETu7u6YmJjc3NwAAACgK8IjAAAAAXRSTlMAQObYZgAAALdJREFU\n",
       "KM9jYOC7wIAK2B4w4ASnkdiMCSBSD10JZwcYKDAwrEM2tABEnsJiJESGdwKGEHMBLsUcDzCEeAJw\n",
       "KX6BKcSwBJfiSiyKLXEp3otF8S2wy1eBwQRkmTZYyBggFGfgMjkEyuNTQCiWp4riNiyKPZDcrIDN\n",
       "g8iKb+EyGR5MAgjFk3Ep9kBOLq0R4OSyEFMxywWM6IYAngZcKRQlIUEAtoQEBfswRE4Rl/hxaYcD\n",
       "jGzFizNbAQAjaDbIZxmznwAAAABJRU5ErkJggg==\n",
       "\" style=\"display:inline;vertical-align:middle;\" /></a></dd>"
      ],
      "text/plain": [
       "<IPython.core.display.HTML object>"
      ]
     },
     "metadata": {},
     "output_type": "display_data"
    },
    {
     "data": {
      "text/html": [
       "<dt><a class=\"ProveItLink\" href=\"../logic/booleans/negation/_theory_nbs_/axioms.ipynb#negation_elim\">proveit.logic.booleans.negation.negation_elim</a></dt><dd><a class=\"ProveItLink\" href=\"../logic/booleans/negation/__pv_it/axioms/8b230bef1238f6f2a4e697102186a20733df080f0/expr.ipynb\"><img src=\"data:image/png;base64,iVBORw0KGgoAAAANSUhEUgAAAJcAAAAWBAMAAAA/XRM3AAAAMFBMVEX///8QEBCIiIhmZma6urrM\n",
       "zMxUVFQiIiJERETc3Nzu7u6qqqp2dnaYmJgyMjIAAAAcRTyBAAAAAXRSTlMAQObYZgAAAbRJREFU\n",
       "OMtjYCAWcF7AL78TiB+AGHeJMGwFhIrDIhUNItgmMDCcBjFeEWHYSwj1HovUJhDBBXTWDJAPGgib\n",
       "xWsAod4vwGEYwyEGBj6gJM8GwoaxTwBTq+0n4DJsIdCqU6tWTSfCl1A1F/QdcBnGB5T50dFRQ4Rh\n",
       "ymCSZcH+C7gM4wEGRCoDQyeYAyFZUNV1whi9YHIJQ7wCiD73DgQeoxjGC4wBZ3A8ANlfwEIcqMH+\n",
       "BcaqBpMODPMNcLmMuwAYsgxMYJcv/ovFMKggEIiACNZk4/wGXIaxfgB69QI7mH2qGIthUEGYYcAw\n",
       "YHyAzzDOB2FgpkIHpmEwQZg3gUmIXQARZs9QDGMpAIVxCjg3MJhjGgYThEYAJ9Awvg+4XAaKAIbN\n",
       "IBMZbjPoIxl2oqOj4wFCEAgOQ9Max09chjEfABL8oMjmenymfwGqyxIQgkDgDszq/18xcPd/R4tO\n",
       "8/JywfLyMqCbA0DOA6lnXsAwPwDdMLggIjvhAcvhLF+gCy+gGwYXRGR0POAQjMHxg4GzvxbVsAkI\n",
       "QZS8gANwYUkzHAQKR5yAYwIJhhEqtm8ykGAYOYCZAr0AOed5gytoZ+0AAAAASUVORK5CYII=\n",
       "\" style=\"display:inline;vertical-align:middle;\" /></a></dd>"
      ],
      "text/plain": [
       "<IPython.core.display.HTML object>"
      ]
     },
     "metadata": {},
     "output_type": "display_data"
    },
    {
     "data": {
      "text/html": [
       "<dt><a class=\"ProveItLink\" href=\"../logic/booleans/negation/_theory_nbs_/axioms.ipynb#operand_is_bool\">proveit.logic.booleans.negation.operand_is_bool</a></dt><dd><a class=\"ProveItLink\" href=\"../logic/booleans/negation/__pv_it/axioms/42718709c00209f499ef5a6d602c331ac330f88b0/expr.ipynb\"><img src=\"data:image/png;base64,iVBORw0KGgoAAAANSUhEUgAAALUAAAAWBAMAAAB09cDaAAAAMFBMVEX///8QEBCIiIhmZma6urrM\n",
       "zMxUVFQiIiJERETc3Nzu7u6qqqp2dnaYmJgyMjIAAAAcRTyBAAAAAXRSTlMAQObYZgAAAqRJREFU\n",
       "OMutlU1oE0EUx5+T3SSb3Wx7KPQmAe822kMtHgwIVgqFnKonXbCCnqx48OAHwYtbRLI3vXUlYksE\n",
       "CXgqKC7tpcQie1NpKwHxYEHbg2A9aH3zZrI7W5KCiw8yM/vfyW/ex8wsQGozwoPeLuGvwwebadiL\n",
       "oruQVNl198/wDEDWA3jLha007K+i294n23ppsRFCAZ1+zKOrpUAXy6Lb9pN6XgtZFYHLuAy+slop\n",
       "2DmPuuenPLnW/Zt3JdtsIfsJSu1m81GalMg/hSMV6vV7fuS3NYlsG/Vd173d46+eMtZ7sY9Qq/lv\n",
       "xHZ54cc5mZiuYjIwZ5cB5kgUrSZmWDFkDsxKD/ZDap/CxRINrsb5Ht4b4jnCYp6mkuL4h3gFyamk\n",
       "j8vxp6NjJ7v6LWorMC9qWlNqaW0GAOYs1gQYRdX4rbD1IGJz/Rn2hVejIbOM9arUh2jepdFrRNUP\n",
       "f0eTbKhNobKD0Yc5mtu+obCz1YjNdRuz/2GpCYxBO1TZmMFDFLWh+g21rGAbnWlauOQq7FxcR65j\n",
       "ZBoPnTFtw1Nzgps3N0iPgyrbsXHZWV6rGfIUxhR2vCtJNx2w6UBnjn1Ra2kg296hx+MJvzdELeEl\n",
       "XwDWYURhnwVYdV23I3WtBg1iMxjvZmtFupD/JSJtRWc+sFYcgAwv2QDfRIXPa3U/Zp8R8xyp6x04\n",
       "h0uVkB2UJGMCb6u9LTDrP2mjFK5MJu4qsLkTRc7M+DBfjdnnu2yhaw7mRvgdlJNnPjJtVZz5ri1E\n",
       "I9w0A2HMXuiyhV4MwOIrMwvWguRd1deWowLsglG/o+wTcYI9qWfwYD7A5/fvTnxTzutBJg7kvitS\n",
       "ZC15M/JNwjDfvb4NfSzv9WND8kZ//e/ftI/Qlz2ViK8M/8UyojPVkJifCvUX2bqubQYQcrEAAAAA\n",
       "SUVORK5CYII=\n",
       "\" style=\"display:inline;vertical-align:middle;\" /></a></dd>"
      ],
      "text/plain": [
       "<IPython.core.display.HTML object>"
      ]
     },
     "metadata": {},
     "output_type": "display_data"
    },
    {
     "data": {
      "text/html": [
       "<dt><a class=\"ProveItLink\" href=\"../logic/booleans/conjunction/_theory_nbs_/axioms.ipynb#and_t_t\">proveit.logic.booleans.conjunction.and_t_t</a></dt><dd><a class=\"ProveItLink\" href=\"../logic/booleans/conjunction/__pv_it/axioms/5e5ba687f3cbbf47e9f0d88f93c2b4e2e63bdabc0/expr.ipynb\"><img src=\"data:image/png;base64,iVBORw0KGgoAAAANSUhEUgAAAHAAAAAUBAMAAACnq6Q0AAAAMFBMVEX////MzMxUVFR2dna6uroQ\n",
       "EBCqqqqIiIgiIiJmZmYyMjJERETu7u6YmJjc3NwAAACgK8IjAAAAAXRSTlMAQObYZgAAAQRJREFU\n",
       "OMtjYOC7wIAH5OGWOs3A2QEGCsiiM8BCTQxMD9DVw2QY1oF4bAUwcT64inQQwbMAi11gGd4JqBq5\n",
       "JqBIM5jj0sjxAFWjdA+qxqO4NL5gQNWoUo6qkcsBh8ZKVI08CzhQNTJPwKFxL6pG5gTmBBSNvODQ\n",
       "sVoFAiuRZdpQNXIw8C1A0cjWgMPGEFSN1xkYFFE0Mn4gTiMwTIWI04jqVDZgUHA9QNbI0oDw4yLc\n",
       "gQPSxDYBM3Cw2GiJolEa6lyERk4DHBo9IA6CZhEVEAFNAr4QNwhgavRFJDkYACcTRmSRE7hyFe8E\n",
       "BrzAHKfMPrz6sGYrWEbGB7gf4JTCX3TcwyUBAKQERsxzlZRzAAAAAElFTkSuQmCC\n",
       "\" style=\"display:inline;vertical-align:middle;\" /></a></dd>"
      ],
      "text/plain": [
       "<IPython.core.display.HTML object>"
      ]
     },
     "metadata": {},
     "output_type": "display_data"
    },
    {
     "data": {
      "text/html": [
       "<dt><a class=\"ProveItLink\" href=\"../logic/booleans/conjunction/_theory_nbs_/axioms.ipynb#and_t_f\">proveit.logic.booleans.conjunction.and_t_f</a></dt><dd><a class=\"ProveItLink\" href=\"../logic/booleans/conjunction/__pv_it/axioms/8c9c98798203d32da2638117b24b1adf07a857270/expr.ipynb\"><img src=\"data:image/png;base64,iVBORw0KGgoAAAANSUhEUgAAAHAAAAAUBAMAAACnq6Q0AAAAMFBMVEX////MzMxUVFR2dna6uroQ\n",
       "EBCqqqqIiIgiIiJmZmYyMjJERETu7u6YmJjc3NwAAACgK8IjAAAAAXRSTlMAQObYZgAAAQhJREFU\n",
       "OMtjYOC7wIAH5OGWOs3A2QEGCmgSYiCC6QEWLWAZhnUggq0AJsgHl04HETwLsGgEy/BOQNXINQFF\n",
       "msEcl0aOB6gapXtQNR7FpfEFA6pGlXJUjVwOODRWomrkWcCBqpF5Ag6Ne1E1MicwJ6Bo5AWHjtUq\n",
       "EFiJLNOGqpGDgW8Bika2Bhw2hqBqvM7AoIiikfEDcRqBYSpEnEZUp7IBg4LrAbJGlgaEHxfhDhyQ\n",
       "JrYJmIGDxUZLFI3SUOciNHIa4NDoAXEQNIuogAhQEpjR0RHa0dEEdIMAmi6YDAdK8gcnE0ZkkRO4\n",
       "chXvBAa8wBynzD68+rBmK1hGxge4H+CUwl903MMlAQBm6kX4QLZagwAAAABJRU5ErkJggg==\n",
       "\" style=\"display:inline;vertical-align:middle;\" /></a></dd>"
      ],
      "text/plain": [
       "<IPython.core.display.HTML object>"
      ]
     },
     "metadata": {},
     "output_type": "display_data"
    },
    {
     "data": {
      "text/html": [
       "<dt><a class=\"ProveItLink\" href=\"../logic/booleans/conjunction/_theory_nbs_/axioms.ipynb#and_f_t\">proveit.logic.booleans.conjunction.and_f_t</a></dt><dd><a class=\"ProveItLink\" href=\"../logic/booleans/conjunction/__pv_it/axioms/bfcbcd0074702ce2406fd91a150827823c57f23a0/expr.ipynb\"><img src=\"data:image/png;base64,iVBORw0KGgoAAAANSUhEUgAAAHAAAAAUBAMAAACnq6Q0AAAAMFBMVEX///9UVFTMzMx2dna6uroQ\n",
       "EBCqqqqIiIgiIiJmZmYyMjJERETu7u6YmJjc3NwAAAC+aOQFAAAAAXRSTlMAQObYZgAAAQtJREFU\n",
       "OMtjYOC7wIAH5OGWOg0imBLQRGd0gEAjA+MDLFrUwOQ6EMFWABPkg0ungwieBVg0gmV4J6Bq5JqA\n",
       "Is1gjksjxwNUjdo9qBqP4tL4ggFVo0g5qkYuBxwaK1E18izgQNXIPAGHxr2oGpkTmBNQNPKCQ8dq\n",
       "FQisRJZpQ9XIwcC3AEUjWwMOG0NQNV5nYBBC0cj0gTiNwDBVJE4jqlPZgEHB9QBZI0sDwo8LcQcO\n",
       "SBPbBMzAwWKjJYpGbahzERo5DXBo9ADKdXS0RnR0CICiHyQETQK+EDcoYCb/UFDy50BJ/uBkwoQs\n",
       "cgJXruKdwIAXmOOU2YdXH9ZshZSRcQLuBzil8Bcd93BJAABbF0XMzCmSpgAAAABJRU5ErkJggg==\n",
       "\" style=\"display:inline;vertical-align:middle;\" /></a></dd>"
      ],
      "text/plain": [
       "<IPython.core.display.HTML object>"
      ]
     },
     "metadata": {},
     "output_type": "display_data"
    },
    {
     "data": {
      "text/html": [
       "<dt><a class=\"ProveItLink\" href=\"../logic/booleans/conjunction/_theory_nbs_/axioms.ipynb#and_f_f\">proveit.logic.booleans.conjunction.and_f_f</a></dt><dd><a class=\"ProveItLink\" href=\"../logic/booleans/conjunction/__pv_it/axioms/abfb6c9e43a13e261a74581305487a0c251778c10/expr.ipynb\"><img src=\"data:image/png;base64,iVBORw0KGgoAAAANSUhEUgAAAHAAAAAUBAMAAACnq6Q0AAAAMFBMVEX///9UVFTMzMx2dna6uroQ\n",
       "EBCqqqqIiIgiIiJmZmYyMjJERETu7u6YmJjc3NwAAAC+aOQFAAAAAXRSTlMAQObYZgAAAQtJREFU\n",
       "OMtjYOC7wIAH5OGWOg0imBIwJdRABOMDBhwyDOtABFsBTJAPLp0OIngWYNEIluGdgKqRawKKNIM5\n",
       "Lo0cD1A1avegajyKS+MLBlSNIuWoGrkccGisRNXIs4ADVSPzBBwa96JqZE5gTkDRyAsOHatVILAS\n",
       "WaYNVSMHA98CFI1sDThsDEHVeJ2BQQhFI9MH4jQCw1SROI2oTmUDBgXXA2SNLA0IPy7EHTggTWwT\n",
       "MAMHi42WKBq1oc5FaOQ0wKHRAyjX0dEa0dEhAIp+kBAoCczo6Ajt6GgEukEBTRdMhgMl+YOTCROy\n",
       "yAlcuYp3AgNeYI5TZh9efVizFVJGxgm4H+CUwl903MMlAQB8DUVyivSWHQAAAABJRU5ErkJggg==\n",
       "\" style=\"display:inline;vertical-align:middle;\" /></a></dd>"
      ],
      "text/plain": [
       "<IPython.core.display.HTML object>"
      ]
     },
     "metadata": {},
     "output_type": "display_data"
    },
    {
     "data": {
      "text/html": [
       "<dt><a class=\"ProveItLink\" href=\"../logic/booleans/conjunction/_theory_nbs_/axioms.ipynb#left_in_bool\">proveit.logic.booleans.conjunction.left_in_bool</a></dt><dd><a class=\"ProveItLink\" href=\"../logic/booleans/conjunction/__pv_it/axioms/6aafda55070e591932bd6dbb2ef97043d066dce70/expr.ipynb\"><img src=\"data:image/png;base64,iVBORw0KGgoAAAANSUhEUgAAANQAAAAWBAMAAABK0K+UAAAAMFBMVEX///8QEBCIiIhmZma6urrM\n",
       "zMxUVFQiIiJERETc3Nzu7u6qqqp2dnaYmJgyMjIAAAAcRTyBAAAAAXRSTlMAQObYZgAAA05JREFU\n",
       "SMetVl1IU2EYfjo7053tHN1lUMhuom6ylaBZVougRBDFwLoQ2kWBdmVFRZA5ImpasHWVEOEBIcML\n",
       "G3hRUtHCIDGLVRcFmi2qm6A/TTLD6v3eb/Oc/SgU++Dbe97v533e/29Awca15TY9USApPl4XAMkd\n",
       "YuJMZi6vXRl5eyIAtAGPBf+xAFAlUUm+Zq0nm9zd24BBoIc4LVQAqBeSTM1nrYfqscYF6D6UmERi\n",
       "BYA6Jd049FOyxoWTZ9JQdwjK7YUxNjBwpQBIWrtEUL7LkJ01Lase3iD6HpgLh08vJyOau+TMc0zx\n",
       "M6nzLDAdNC0HqscPER0BiHTxmvytnRlpZemqPKmLH1caT43UVHbBE8iFciXYfwHnNLNtVqx2dn4T\n",
       "56eAXXBzfhrScsML3ct3Yd15syj7GfAAqE5xU+VVW1OfxTGpnzYjAexp8WSS6C06A4UV6pOWO4Lw\n",
       "zFtQzrjQdYc44RN8JXDfxHWxeLcioejaRKOUuIK1aa6onONrZZ9ppKFcKt0/QB5KFPPS2DGpnQ+O\n",
       "pAVVJCTp/RQIZ4fgjwLbZQ29Gh6AomAsYYeinzJklo+AQpChtGQz6+EL887NRpSbFhSr0eSim65B\n",
       "YcosFKp38oMq0kBR1MmozYEemkeY9dqhikRP2iPS4SCrjyreaVi/LggLiusg6KBMbjFIf3X6+Xkh\n",
       "MogSTjvHxg/2tLhK8wuzmzKsMuKcFhjiipjABt55Sm3LBlUrMiWmULfpFqHWk1DouBpCH0MpqE7F\n",
       "SvenaisStbKEG1MLxinCqKFZKuLtfjceYb9dAnpjFtRuUSM1o/Nw+kkbuOLQfnFP3RcOh30EFfel\n",
       "yqAd7shvE7f/cMzdrXWZ7RbCfENAOEz0sn4kqCFqQe2nuQXaLIpMsVIag0qdRw2Sw6VVcX9GY1oc\n",
       "6miqMaUbf3v6q57EJLRuaPPQVtsc2E+XKAoL2CsciV4Tl8nv5HtdKKboGI9nttulhu5LB3UOWqTD\n",
       "uQqPZipaAzaoYhOREHp+JA6LCOudFZXnhA/oyEWiL59u/rTYLqLLQg1mv5X2TiNbWzq8ZmrKR0ns\n",
       "UKzyPI1Lja4sfjgHCnkF3PvnB9/ItjmRC1Wf7233o6DDYf3/yHkwzP8R+Be3SdbbBDyFcwAAAABJ\n",
       "RU5ErkJggg==\n",
       "\" style=\"display:inline;vertical-align:middle;\" /></a></dd>"
      ],
      "text/plain": [
       "<IPython.core.display.HTML object>"
      ]
     },
     "metadata": {},
     "output_type": "display_data"
    },
    {
     "data": {
      "text/html": [
       "<dt><a class=\"ProveItLink\" href=\"../logic/booleans/conjunction/_theory_nbs_/axioms.ipynb#right_in_bool\">proveit.logic.booleans.conjunction.right_in_bool</a></dt><dd><a class=\"ProveItLink\" href=\"../logic/booleans/conjunction/__pv_it/axioms/76644b13e033365d21e85ea3c3173917505fe6ca0/expr.ipynb\"><img src=\"data:image/png;base64,iVBORw0KGgoAAAANSUhEUgAAANUAAAAWBAMAAAClEsSqAAAAMFBMVEX///8QEBCIiIhmZma6urrM\n",
       "zMxUVFQiIiJERETc3Nzu7u6qqqp2dnaYmJgyMjIAAAAcRTyBAAAAAXRSTlMAQObYZgAAAxtJREFU\n",
       "SMetVk1oE0EU/jrJJtlkk/YgVFAkN3uxjRasxYMFQUuhNCC03hqwQvTgDx5E/CGK4LYKza1epCsF\n",
       "Kz1owFNBYWkPSi1lwYNKG42IF0ERK6VWtL6Z2cxumhBQMrDDzPtm53vve29mF2hYu1cXnaWnxAfF\n",
       "BlBFc0D87Fpn9maFmZ03/7SOAKE88JIbPjeAK0GboYkID6Ur7Vry4ZSDKAV1l6Z6rgFcr3g37AAD\n",
       "qQp7JOiwNBHMEa0FGIUGcF3iXQcF9z4p5vFbF6+5XLECcd0n08LMzEQDqPRzvL9OeWu1+Ei7Yam4\n",
       "jD7iSvQA66Z5pd4m+WqTVmMZE8qtAUOnxfyR5Wl4dJBSaNCCk8CoMMq+d3U+K7YPyqWGDyvDsZ5q\n",
       "rojDnVgrtl2W81Nevlo3t3FNqTgOixKh8Q8pcwuMFrHG946LKbjbnb1r7zroDsM85+wn5SUj5jlf\n",
       "bRhFG4iRyGEw7hKmfgsokEFsw+PSbIUxD37Az9PTTocZ+rJb4U081gh5yX6J93Z9peZyIddPlm8k\n",
       "khMWixcuSP+SCJQ8rlBaYUOOgvlZejM7A8aw4Pi4mikm9h0Vx0hwhSSXXhoUjiRNAT1Oo93yuMIe\n",
       "NlZSMCkR5LXAWHAl79OQH6+Q1LvFz5VJUP55oY6OiADQJaCBPW1ScMk1oTDNLio4lkFCFF9g7yd/\n",
       "bfDjNSwj2lcR14qsDTwRJ2MZHQJaAnb7uHoVFrEiCg7mMCW4GLrdfPGSxgeCtltenPKOso158i/A\n",
       "M9/Mz3n04+K4WHQHmCx4XEcUdgzxQhnWShgyTTNJXLa8JYREZzZP7Dddjmi2r+LuRYI7FeccAQuT\n",
       "wkOqooG8x3VcYadFHUs4mCFdZVx2yn9H+Vrwhbyjym1ajagomx19DPoG9J0+DafLmJbiWrpw3IbB\n",
       "PWMGFm3/3VunzakErkMfv6rtwPPVzmyPjytsuVjI4iYXDtBzm9DXSwe+qC3y9T9vpS2GmP/SkXKX\n",
       "Uxx1H5lvjlC+tn4r67QqV2aruFBzh2f//g/wdqvBqebqr6VHCo1tAVfWGmlg1n/t+Bf/gNvfT2GJ\n",
       "ugAAAABJRU5ErkJggg==\n",
       "\" style=\"display:inline;vertical-align:middle;\" /></a></dd>"
      ],
      "text/plain": [
       "<IPython.core.display.HTML object>"
      ]
     },
     "metadata": {},
     "output_type": "display_data"
    },
    {
     "data": {
      "text/html": [
       "<dt><a class=\"ProveItLink\" href=\"../logic/booleans/conjunction/_theory_nbs_/axioms.ipynb#empty_conjunction\">proveit.logic.booleans.conjunction.empty_conjunction</a></dt><dd><a class=\"ProveItLink\" href=\"../logic/booleans/conjunction/__pv_it/axioms/acfe7d9a31cbad9715b87f3953c8851ca05c35340/expr.ipynb\"><img src=\"data:image/png;base64,iVBORw0KGgoAAAANSUhEUgAAABsAAAAUBAMAAACOrFuzAAAAMFBMVEX///8QEBCYmJiqqqp2dnaI\n",
       "iIi6urpUVFTu7u4iIiJERETMzMxmZmYyMjLc3NwAAACHEeD/AAAAAXRSTlMAQObYZgAAAK9JREFU\n",
       "GNNNUDEOgkAQHOVUOJQ32NgZwwuMjU+g9xU0VpZ2lFTEJ9iZUPEEnnDhBT7BmSMHbrKbmcvO7O4B\n",
       "IQacMUf8wsYJZJ7uHOLeg071yLwKtLVqw3wIlIUUlfpu9OgTopUUhsXkJgfsnnRJrwSZKp8QUXEA\n",
       "7sCCMqRfgL6fmUadX8E3rytBPQWrVqNrPwPbC0rRQn0UvSELpOOSz/nA6YQxbDhwOt+6v+8YcAJ+\n",
       "X3okQidb6vkAAAAASUVORK5CYII=\n",
       "\" style=\"display:inline;vertical-align:middle;\" /></a></dd>"
      ],
      "text/plain": [
       "<IPython.core.display.HTML object>"
      ]
     },
     "metadata": {},
     "output_type": "display_data"
    },
    {
     "data": {
      "text/html": [
       "<dt><a class=\"ProveItLink\" href=\"../logic/booleans/conjunction/_theory_nbs_/axioms.ipynb#multi_conjunction_def\">proveit.logic.booleans.conjunction.multi_conjunction_def</a></dt><dd><a class=\"ProveItLink\" href=\"../logic/booleans/conjunction/__pv_it/axioms/b7e691fd36e0a78a6d0184592b88bfabcb475b650/expr.ipynb\"><img src=\"data:image/png;base64,iVBORw0KGgoAAAANSUhEUgAAAdEAAAAyBAMAAADxSvwwAAAAMFBMVEX///8QEBCIiIhmZma6urrM\n",
       "zMxUVFQiIiJERETc3Nzu7u6qqqp2dnaYmJgyMjIAAAAcRTyBAAAAAXRSTlMAQObYZgAAButJREFU\n",
       "aN7NWmtoHFUUPpnd2fds+sOWSkUXK+q/XYlEqNVsFSkI4rZCqxTMkrYggmS1ULAqjSB2W5FdEewL\n",
       "7ZRKUyqYrfmhhUq3EUFisWuK0iK2CxXB/jAhNm3Smsb7mNedufNYpzubG7Jz751zZs8398y553w7\n",
       "AC7tvoV/wVdL5aFz7ahiw8LCElfZFfsP+Puysx0ECuEmOST2H3RHutTndwlFZhhvtAPQSdszl5Sj\n",
       "2H6kJ9jhMeWLm61d5WWb+V8XNveW8xCp2inG6kEhTdzFjv+ih/SUYc7GzLihP2k6p6ksBwjNQKLp\n",
       "9v3tRxrLMUNJGV66aZi8wldN66rSpMyeU1XEefQs/gMw5uZT7Ud6mjUxShcjMTqnz4m7ZK7qizu0\n",
       "7hd97LprKgK6jjQNcNjWgGg9IKTb2OFeZY2Ea/pc5KkMV3XL/Vq3kWW3Kk0lhgAcRnckbbuVJeeC\n",
       "QSrNseOV9PBscl6f+xJK3CesGdX2Cvk0G7I1le4iiNvR+qZyLve67UijQ+z4QwoiL05j96RzP6I/\n",
       "XsZRS9WU7ufQzy67ptL/2sQuLCWRkPTT37iZHvvLciBI+01e9RZdI4ijKPLCY3SuBJ9xbxLE1Yia\n",
       "h0Psmmkq2SoklmEfLdmaMJIJBOkjpjGN+Rt6emfRYS118AxEChzVCYCtSvzZ3DPI+Iau8i5GixZV\n",
       "nLI1Id0MBOkyLlK00PdqSKMyiEWOKoozG5THFKCL2TB1lesYacYRqTAXBFJxHjjem0T/r2tIR/V8\n",
       "gomZyF/TdG9BaxZdAtIT61cKDxYYFXL9QXTjwiX9Of3TlIDMB4FUMIVeGpEOKknPWi1rGuU4XZWi\n",
       "RabWSE4lrWl0vUqzaE0FX1+c1SKSg1+1G2nMfP3vsOX4/leqClJxiLojJG6D8jHSVAPzDnUPjs3B\n",
       "gYegOx+qG1Ugja6/Zg/qhOr2RuxSkJKb8bsjUjcR+9Zl2mQwuETltgzfLGxTkEZwdBZwfNwOykcU\n",
       "L9wWPMK5w7GFq5Cs3MjBAKyDaM2oEpm83vPKB8QDCvZGnFOQko3pqiNSNxH7NmLe0KNVFjYJN6hZ\n",
       "DSXbk8ha8jAcEvkqww5GXC5QpPuwPw05InUTcdhOzXmeZIT+dUvXik+hVb2Q4p8cczMCIU3jXKrm\n",
       "iNRNxCG/t2jt1rsf7xxoiT4ookj0yTi/Nmu6ORZCKo0fP77XOSK5ibg4Dq8Sv8MtVnU42V1UYu9s\n",
       "ufy2S+x1EbFvWYsF7WFXLjqd7B5SkG5lXIqLVBPZ7X5Hw5XVvZrYORk630h+hZE+bfHyjavzwjIj\n",
       "UlVEusb3USaN/xngjNrvWxRISwrSKAgGj0qc6mkkh8ZhlRGpKnJknhsO+hiP7DUQDYOLACjOJCnS\n",
       "VCNqmL5w8jgkJ0JQNyJVRca3cQvJYWbXfAPgSViUSONNVDKo6XMYG53c9FKGQUpEkHSmzLvS+phx\n",
       "r03MgHB1UXlvVPVe2I0SLzV9TpMyojD+C4OUiKDkC1DtHLEYXwwZy+Dw9MT7eiLGj72f+jX+ZCvz\n",
       "WkSCUWSomj4foUhTOi9DkI4SLL9BFsQzZqRSTTAWh6kmCBryLHc/TVAf8MFuW5hsJ4a7S91PoRtn\n",
       "S0r6vLFcLmeShXijxCAlIokrZysyrSEY9mr1D0byNlaH+C1+VFYLLqXs9MFua7uFF4a7O6cilWQ9\n",
       "fY7QNYVnMgxSIhKS4VDBinQVxGfg/LfnN31Pr1uDsFaVns7z8t7ztO+H3R4zqTkx3CN1Y32qps8p\n",
       "7G5SHqS6tT59DsFoYKTxPbBPVj/C6MGbh6+aXbVTqBZAN0OGjzTl/gavlnmTrosfdvuwSc2J4VYz\n",
       "fFP6jKu9tX+gMGNBGpuFeOUdwuGsgHVV8W78sQIqQ7DvRiNSGIZHAdbVUjt7et9jHcfY9qqVuE92\n",
       "W2GyPTHcpMywcg4Cek4dOQfsvUmd7dEoy1Eo1QjlwwibnxvMbAsUvi92W4mYnhhusgG0zq6I2ceN\n",
       "wVztHYUHYKAKSVNgCU1xeKQYsdgfu63wRjYMN9sGffBIDU6PGmAOQDc53CBhSHyy2wqT7YnhXh4I\n",
       "C3qLw/d25f2z25Tf9cRwx6c7xmxTpP7YbYrIE8MdDLMNfXbe65Pdpky2HcPNVs+lQJA+n7eJSD7Z\n",
       "bRp5PDHcJL8L4FfFnJXZxjuBDbtNSG0v7HYLDHdWDgSpOfhiYMjDbNltQmp7YLcJk+2N4aahov2/\n",
       "/t9jmw36YreHwSvDHdSv/+Y3OowZvh92247JHrOrEdqPNJ2zMtsGLvF/stt2TDZn/oQcENL4UttK\n",
       "vA1MtnU+uDevzO55Z9iVi57nI7nAkIaKHaXLLoBnpL7feh3oJNBW3nr1/SZzKN9BpEdpPMJvMv8H\n",
       "pSVCBOpmfecAAAAASUVORK5CYII=\n",
       "\" style=\"display:inline;vertical-align:middle;\" /></a></dd>"
      ],
      "text/plain": [
       "<IPython.core.display.HTML object>"
      ]
     },
     "metadata": {},
     "output_type": "display_data"
    },
    {
     "data": {
      "text/html": [
       "<dt><a class=\"ProveItLink\" href=\"../logic/booleans/disjunction/_theory_nbs_/axioms.ipynb#or_t_t\">proveit.logic.booleans.disjunction.or_t_t</a></dt><dd><a class=\"ProveItLink\" href=\"../logic/booleans/disjunction/__pv_it/axioms/cc637b0579cd6c85883fa5524629e7a285ffca700/expr.ipynb\"><img src=\"data:image/png;base64,iVBORw0KGgoAAAANSUhEUgAAAHAAAAAUBAMAAACnq6Q0AAAAMFBMVEX////MzMxUVFR2dna6uroQ\n",
       "EBCqqqqIiIgiIiJmZmYyMjJERETu7u6YmJjc3NwAAACgK8IjAAAAAXRSTlMAQObYZgAAAQpJREFU\n",
       "OMtjYOC7wIAH5OGWOs3A2QEGCsiiM8BCTQxMD9DVw2QY1oF4bAUQUQEQwQhhp4MIngVY7ALL8E5A\n",
       "1qgIIq4jSTOY49LI8QBZoxCI6EHWeBSXxhcMyBq5gMawTEDWyOWAQ2MlikY2oCbuB8gamSfg0LgX\n",
       "RSNDAwODNLI0Ay84dKxWgcBKZJk2VI3lDAwqKBrZGnDYGIKq8QQiAiAaGT8Qp5EzgTmBOI1oTuVb\n",
       "wIEizcDSgPDjIjyBw7DxOgOWwMFioyWaRqEeVI2cBjg0ekAcBM8iXPB484XwBTA1+iKSHALwHUDl\n",
       "n8CVq3gnMOAF5jhl9uHVhzVbwTIyPsD9AKcU/qLjHi4JABqGSPnwNDtcAAAAAElFTkSuQmCC\n",
       "\" style=\"display:inline;vertical-align:middle;\" /></a></dd>"
      ],
      "text/plain": [
       "<IPython.core.display.HTML object>"
      ]
     },
     "metadata": {},
     "output_type": "display_data"
    },
    {
     "data": {
      "text/html": [
       "<dt><a class=\"ProveItLink\" href=\"../logic/booleans/disjunction/_theory_nbs_/axioms.ipynb#or_t_f\">proveit.logic.booleans.disjunction.or_t_f</a></dt><dd><a class=\"ProveItLink\" href=\"../logic/booleans/disjunction/__pv_it/axioms/1265d8c2db5f45ad43008c6049a25fa3b4b905990/expr.ipynb\"><img src=\"data:image/png;base64,iVBORw0KGgoAAAANSUhEUgAAAHAAAAAUBAMAAACnq6Q0AAAAMFBMVEX////MzMxUVFR2dna6uroQ\n",
       "EBCqqqqIiIgiIiJmZmYyMjJERETu7u6YmJjc3NwAAACgK8IjAAAAAXRSTlMAQObYZgAAAQ5JREFU\n",
       "OMtjYOC7wIAH5OGWOs3A2QEGCmgSYiCC6QG6+hlgxU0MDOtAPLYCiKgAiGCEsNNBBM8CLHaBZXgn\n",
       "IGtUBBHXkaQZzHFp5HiArFEIRPQgazyKS+MLBmSNXEBjWCYga+RywKGxEkUjG1AT9wNkjcwTcGjc\n",
       "i6KRoYGBQRpZmoEXHDpWq0BgJbJMG6rGcgYGFRSNbA04bAxB1XgCEQEQjYwfiNPImcCcQJxGNKfy\n",
       "LeBAkWZgaUD4cRGewGHYeJ0BS+BgsdESTaNQD6pGTgMcGj0gDoJnEa4JsKQcCk7KXAKYGn0RSQ4B\n",
       "+A6g8k/gylW8ExjwAnOcMvvw6sOarWAZGR/gfoBTCn/RcQ+XBAD2iEiPkqdDlgAAAABJRU5ErkJg\n",
       "gg==\n",
       "\" style=\"display:inline;vertical-align:middle;\" /></a></dd>"
      ],
      "text/plain": [
       "<IPython.core.display.HTML object>"
      ]
     },
     "metadata": {},
     "output_type": "display_data"
    },
    {
     "data": {
      "text/html": [
       "<dt><a class=\"ProveItLink\" href=\"../logic/booleans/disjunction/_theory_nbs_/axioms.ipynb#or_f_t\">proveit.logic.booleans.disjunction.or_f_t</a></dt><dd><a class=\"ProveItLink\" href=\"../logic/booleans/disjunction/__pv_it/axioms/40797c45d8c7d5d99c3f2db26a59f8a259d10b070/expr.ipynb\"><img src=\"data:image/png;base64,iVBORw0KGgoAAAANSUhEUgAAAHAAAAAUBAMAAACnq6Q0AAAAMFBMVEX///9UVFTMzMx2dna6uroQ\n",
       "EBCqqqqIiIgiIiJmZmYyMjJERETu7u6YmJjc3NwAAAC+aOQFAAAAAXRSTlMAQObYZgAAAQ1JREFU\n",
       "OMtjYOC7wIAH5OGWOg0imBLQRGd0gEAjA+MDBhwyDOtAPLYCiKgC2BQIOx1E8CzAYhdYhncCskYh\n",
       "EHEdSZrBHJdGjgfIGhVBRA+yxqO4NL5gQNbIBTSGZQKyRi4HHBorUTSyATVxP0DWyDwBh8a9KBoZ\n",
       "GhgYtJGlGXjBoWO1CgRWIsu0oWosZ2AQQdHI1oDDxhBUjScQEQDRyPSBOI2cCcwJxGlEcyrfAg4U\n",
       "aQaWBoQfF+IJHIZN1xmwBA4WGy3RNCr2oGrkNMCh0QMo19HRGtHRIQCJcHi8+UL4CpgafRFJDgH4\n",
       "DqDyT+DKVbwTGPACc5wy+/Dqw5qtkDIyTsD9AKcU/qLjHi4JAP4OSHMxpgrYAAAAAElFTkSuQmCC\n",
       "\" style=\"display:inline;vertical-align:middle;\" /></a></dd>"
      ],
      "text/plain": [
       "<IPython.core.display.HTML object>"
      ]
     },
     "metadata": {},
     "output_type": "display_data"
    },
    {
     "data": {
      "text/html": [
       "<dt><a class=\"ProveItLink\" href=\"../logic/booleans/disjunction/_theory_nbs_/axioms.ipynb#or_f_f\">proveit.logic.booleans.disjunction.or_f_f</a></dt><dd><a class=\"ProveItLink\" href=\"../logic/booleans/disjunction/__pv_it/axioms/a7d16acf81a777cddea413e1d7da2f6fb73427050/expr.ipynb\"><img src=\"data:image/png;base64,iVBORw0KGgoAAAANSUhEUgAAAHAAAAAUBAMAAACnq6Q0AAAAMFBMVEX///9UVFTMzMx2dna6uroQ\n",
       "EBCqqqqIiIgiIiJmZmYyMjJERETu7u6YmJjc3NwAAAC+aOQFAAAAAXRSTlMAQObYZgAAARFJREFU\n",
       "OMtjYOC7wIAH5OGWOg0imBIwJdRABOMDBhwyDOtABFsBREgBbAqEnQ4ieBZg0QiW4Z2ArFEIRFxH\n",
       "kmYwx6WR4wGyRkUQ0YOs8SgujS8YkDVyAY1hmYCskcsBh8ZKFI1sQE3cD5A1Mk/AoXEvikaGBgYG\n",
       "bWRpBl5w6FitAoGVyDJtqBrLGRhEUDSyNeCwMQRV4wlEBEA0Mn0gTiNnAnMCcRrRnMq3gANFmoGl\n",
       "AeHHhXgCh2HTdQYsgYPFRks0jYo9qBo5DXBo9ADKdXS0RnR0CEAiHBJvMzo6Qjs6GoF8BTRdMBkO\n",
       "tOTPdwCVfwJXruKdwIAXmOOU2YdXH9ZshZSRcQLuBzil8Bcd93BJAABJLUe/77Ia5AAAAABJRU5E\n",
       "rkJggg==\n",
       "\" style=\"display:inline;vertical-align:middle;\" /></a></dd>"
      ],
      "text/plain": [
       "<IPython.core.display.HTML object>"
      ]
     },
     "metadata": {},
     "output_type": "display_data"
    },
    {
     "data": {
      "text/html": [
       "<dt><a class=\"ProveItLink\" href=\"../logic/booleans/disjunction/_theory_nbs_/axioms.ipynb#left_in_bool\">proveit.logic.booleans.disjunction.left_in_bool</a></dt><dd><a class=\"ProveItLink\" href=\"../logic/booleans/disjunction/__pv_it/axioms/16fadb36e5854b2d2e2fba90636dd99b4c1243910/expr.ipynb\"><img src=\"data:image/png;base64,iVBORw0KGgoAAAANSUhEUgAAANQAAAAWBAMAAABK0K+UAAAAMFBMVEX///8QEBCIiIhmZma6urrM\n",
       "zMxUVFQiIiJERETc3Nzu7u6qqqp2dnaYmJgyMjIAAAAcRTyBAAAAAXRSTlMAQObYZgAAA1BJREFU\n",
       "SMetVl9IU1EY/3Xvne7e3ekeg0L2UNRLthrMLKtFUCKI4oP1ELSHAn1bRUVQOSJqWrDbSwkRXhBS\n",
       "fLCBDyUVLRQSM1kFFWi2qF6CyjTJjP5855zNe/dHodiBs+9+58/3+/6fAUUbN5bbdBlAin28LgKS\n",
       "FuHEkcpeXrcy9vZEEGgFHjP+YxGgygxBpnPWU01ax3agH+gkTo0UAeq5IFMLOeuReqx1AroXZSaR\n",
       "eBGgTgk3DvwQrPviybMZqLsEpXngHu3ru1YEJDUsEKRvImTnTMuq4V6i74H5aPT0cjKM/CVHgWOS\n",
       "j5M61y9O+03Lgcrxw0SHACLtfE381s4OtXDpijipsx9nBk+J1QTa4QrmQzmT3H9BxwxnW61Y7Wr7\n",
       "ys5PAbuh8fx0C8vdHugefhfWnTeLsp8CD4HqNDdVWbUt/VkaF/qpswLAnhZPJonepjOQuELdwnI5\n",
       "BNeCBeVIMF13JsHO0AwAD0zcZIv3/ElJVycahcQVXJtmf2CeX6v4TCMD5VTo5kHyULKUL40eE9p5\n",
       "IacsqBImSe/xYQ1FPgQcBXaIGno12AdJwmjSDkU/FcguHwaFEIdSU81cD2+U79xqRKVpQXE1mpwR\n",
       "xsoGtDlIVO/kB4WlgSQpk4bNgS6aRzjrsUOVsJ60l6XDIa4+qvhOw4b1IVhQvA5Cchh6EFcpFjPP\n",
       "LjCRIZTxtJM3fbCnxXWaXzi7Ocsqd4KnBQZ4RUxgI98Zp7Zlg6plmRKXplmLo2TQU5DouBJBN4eS\n",
       "UJ2Ole5L11bMsLKEN6YDGKMIo4ZmuZcF+d1YjPvtMtAVt6D2sBqpGaFEGdbIWmcC6k/eU/dFo1Ev\n",
       "QSW86TIIQ4v9NnHnD4+51lKX3W7BzHczCNlEF9ePBDUYFtR+mluhzgG9Mu2Xx6FQ51FC5HBhVcKX\n",
       "1ZgWhzKSbkyZxh/OfNWTmKTaAXUB6mqbA3voEkWBCkF/QWyXiSvkd/K9zhSTdIwlstvtUkP3ZoI6\n",
       "DzV2xrEKj2b9LUEbVKmJWASd35Ms+aC3+QPnmQ/oyCWiL8e3fFpsF8ayUP25b6W904jWZjV90/Y2\n",
       "sR2KVYGncanRnsMP5kGhoID7//zgu3NtTuZD1Rd6230o6pCt/x95D4b5PwL/Av+C11/3FK8+AAAA\n",
       "AElFTkSuQmCC\n",
       "\" style=\"display:inline;vertical-align:middle;\" /></a></dd>"
      ],
      "text/plain": [
       "<IPython.core.display.HTML object>"
      ]
     },
     "metadata": {},
     "output_type": "display_data"
    },
    {
     "data": {
      "text/html": [
       "<dt><a class=\"ProveItLink\" href=\"../logic/booleans/disjunction/_theory_nbs_/axioms.ipynb#right_in_bool\">proveit.logic.booleans.disjunction.right_in_bool</a></dt><dd><a class=\"ProveItLink\" href=\"../logic/booleans/disjunction/__pv_it/axioms/f2199c9e1650f580dea0aded0de99662437bad930/expr.ipynb\"><img src=\"data:image/png;base64,iVBORw0KGgoAAAANSUhEUgAAANUAAAAWBAMAAAClEsSqAAAAMFBMVEX///8QEBCIiIhmZma6urrM\n",
       "zMxUVFQiIiJERETc3Nzu7u6qqqp2dnaYmJgyMjIAAAAcRTyBAAAAAXRSTlMAQObYZgAAAx5JREFU\n",
       "SMetVktoU0EUPZ2XT1/yknQhVFAkO7uxrRatxYUBQUuhNKvWXQNWiC784ELED1EEX1VoVtaN9Emh\n",
       "LV1owVVBIbSCUmt54EKlrUbEjaCIlVIrWu/MvM+kCQElAxlm7pk3595z78wEqFm7VxWdpl+RD5Zr\n",
       "QBXJAbHTq23Z6yVmdtb80zgAhPLAC274XAOuOG2GOiI8mC61B5MTozYiFNRdmuq5GnC94l2/DfS0\n",
       "ltjrAzZLE8EM0VqAMVUDrgu8a6Hg3ifFPHbj/BWHKzpFXPfJNDc5OVwDKv0M769S3hotPgpes7y4\n",
       "jC7iiqeANdO8VG2TfLkpWGEZE8qtAn0nxfyB5Wt4pJdSaNCC48CgMMq+c2U2K7YPyKWGgrlwNFXO\n",
       "VW9zJ1aXmy7K+Qk/X40bW7imVByHRInQ+IeUuQFGg1ijfONgHtzhzN41tx9whmGec/aT8pIR85xS\n",
       "G8ZyAYiSyGEw7hJGfwtIyyC67nMFCw4W40QuPMbP0+M2mxn6olPhdTzWevKS/RLf7fhKzeFCrpss\n",
       "30gkOywWz52T/iWhFX2uUNrBGO11x4X5WXozPQnGMGcrXAmKiX1HyTESXCHJpRd7hSNJU0AP02i2\n",
       "fK6wh9HHHS5MSgR4LTAWWMorGvLjFZJ6N6hcmTjlnxfq4IAIAO0C6tnVJAWXXMMe9hR6xoWjGcRF\n",
       "8Wm7P6m1wY9Xv4xoT0lcS7I28EicjEW0CGgB2KlwdXrYBLS8CwdyGBVcDB1OvnhJ4wNBWy0/TnlH\n",
       "FYxZ8k/jmU/wcx75OD8kFt0GRqZ8rsMeZqTGPDhYRJ9pmkniKshbQkh0auPYPtPhiGS7Su5exLlT\n",
       "Mc6hWRgRHlIV9eR9rqMeFsnt9eBAhnSVcRVa1TtKaYHn8o5y27g3oqJM2PpN6OvQtysajrsY8JKE\n",
       "cOBYAQb3jBmYL6h3b5U24yVwDfrQ5eA2PFtpy6YUrrDlYKIEXVij3y1CXy/s/+Jtka/+vBU3GaLq\n",
       "pSPl9p+AiPImcYTytfmtrNLKXJku40LFHZ78+3+At5sNdjlXdyU9WlHbpjmyVkgDs/5rx7//6tso\n",
       "nVLfqQAAAABJRU5ErkJggg==\n",
       "\" style=\"display:inline;vertical-align:middle;\" /></a></dd>"
      ],
      "text/plain": [
       "<IPython.core.display.HTML object>"
      ]
     },
     "metadata": {},
     "output_type": "display_data"
    },
    {
     "data": {
      "text/html": [
       "<dt><a class=\"ProveItLink\" href=\"../logic/booleans/disjunction/_theory_nbs_/axioms.ipynb#empty_disjunction\">proveit.logic.booleans.disjunction.empty_disjunction</a></dt><dd><a class=\"ProveItLink\" href=\"../logic/booleans/disjunction/__pv_it/axioms/4a50bab66334d57234dd7a04f38c71fb49c937720/expr.ipynb\"><img src=\"data:image/png;base64,iVBORw0KGgoAAAANSUhEUgAAADIAAAAUBAMAAAA95HOpAAAAMFBMVEX///8QEBBERESqqqq6uroy\n",
       "MjLu7u6IiIiYmJjMzMxUVFTc3Nx2dnYiIiJmZmYAAAC/kaUnAAAAAXRSTlMAQObYZgAAAMVJREFU\n",
       "KM9jYMACuBuYNzBgBUkMDKuRuJxgcgKIiGZgSEWS4QIJchSAiAcMDDwFSHoWAAneBBABtIRNAEkT\n",
       "0AwGPxBjL4gIQZKxA2JtEKMORJxDkuEFmqgAYmiAiFaGt3eB4A6IzV7AwOUAYlwGEbYQ5btABNsF\n",
       "qFtFQMR8JBmGxwyHcchsZbjAADfNF1mGaQbEe1AXIIUM59oEBriD36CEZByEAhsUiSKzDeqxDWCH\n",
       "YgHoIYoEtFFjATXmtLHLcDdwbGAAAJMpKNkzK6kHAAAAAElFTkSuQmCC\n",
       "\" style=\"display:inline;vertical-align:middle;\" /></a></dd>"
      ],
      "text/plain": [
       "<IPython.core.display.HTML object>"
      ]
     },
     "metadata": {},
     "output_type": "display_data"
    },
    {
     "data": {
      "text/html": [
       "<dt><a class=\"ProveItLink\" href=\"../logic/booleans/disjunction/_theory_nbs_/axioms.ipynb#multi_disjunction_def\">proveit.logic.booleans.disjunction.multi_disjunction_def</a></dt><dd><a class=\"ProveItLink\" href=\"../logic/booleans/disjunction/__pv_it/axioms/a9a1915efaeb514be9c4ef822e25c892a1972ced0/expr.ipynb\"><img src=\"data:image/png;base64,iVBORw0KGgoAAAANSUhEUgAAAdEAAAAyBAMAAADxSvwwAAAAMFBMVEX///8QEBCIiIhmZma6urrM\n",
       "zMxUVFQiIiJERETc3Nzu7u6qqqp2dnaYmJgyMjIAAAAcRTyBAAAAAXRSTlMAQObYZgAABuxJREFU\n",
       "aN7NWn2IFGUYf252Z2dnP/0jxTBqyaj+242LC9S6FQkhiFaDs5C640yKIG5LELLCCypXI3YjyC/K\n",
       "EcMTA2/t/qgDw9UI4pLcTgol0gUjyD/yMD/utPN6P2Zm551552Mbd/ZeuJl5Z57n3ec37/M+7/P8\n",
       "bgBc2n1z/4KvlshD59pB1Ya5uQWuskt27/H3Y6c6CBTCDXKK7d7rjnShz98SBpiuXG8HoHHbJ+fV\n",
       "s9h+pEfZ7iH1hxutjfKizf1f5zb0lPIQqdgpRmtBIY3dxfb/oqfUlHZDJMeCRbHQfIjaZeMjo8pi\n",
       "gNA1iDXcfr/9SKM5pptUu+dvanci2OJkxqK4ER8mNbXLiuGRQUWcRWvxH4CTbj7VfqTHFaYrUTeL\n",
       "jc3oE4TXsaRYFPvwYYva+bLX6J4GFQGNk7wCsN/WAKkWENJNbHenOkfCVcafV1kVUwhbWHOIejZv\n",
       "XgJUJYoA7EfvI2W7lcVngkGanGH7S+npqfisfmsM/W3nWIhQRtWZDCvHmZDdVEkPgLgZzW4i5/Ku\n",
       "245UGmb7H1HnzYvI4+A5KoLMGOaoFjUBgC+gn1nITZX+1ya3VfEbJSHpp79xu8iOc0EJBGm/yave\n",
       "onMEMooizz5GN9wMRHi+dz/AS+plHvYxc9ZUyVYgtgh7QNHWhNFMIEgfMfVpzO/r7plGp9V0gotw\n",
       "hKc6ou8d4obuIWbWmyrvYrRoUsUpWxNSjUCQLuIiRfNxr44UlsOPPNVQNVFVlylAF7th6irXMdKM\n",
       "I1JhJgik4ixwvDeO/l5vIv0cuK4nNyT1CgGWFkDy8bVLhQcLjAoZfwi9uHCxuU7/NI0zGwRSwRR6\n",
       "aUTaqyY9KtLoCxmu8vtq3iBXSU6VXFnvelXNojUVPL44rUckB79qN9KoefzvsOX4/ZcrOlLxZRId\n",
       "Y7e1wyg1u29Lcw+OzsCehyCdD9WMKpBC46/cgV29Zm/ENhUpGfV3R6RuIvaty7x9IHCx8m0Fvpnb\n",
       "pCMFdVvYrB0kOnEpGm8PzV2CePlGDgZhDUhVo0rk8vXuVz4ksgV7I06rSMnSvuSI1E3Evo2aN3Sp\n",
       "wsImzaYAlhWzJQ/DPpGvMuJgxIUCRboLjznsiNRNxGE7Na/ApBH61y2NJU+hWT2b4D886WYEQprC\n",
       "uVTVEambiEN+b9Ey5H2fbB1siT4YQPnupxP82qzh5lgIaXLi8OGdzhHJTcTFcXiV+B1u0YrDw/SA\n",
       "GnunS6W3XWKvi4h9y1osaA+7cs7pYXpYRbqRW0owSHWR7e5vNFxe0aOLnVag843kVxjpKouXr1uR\n",
       "FxYZkWoiyat8H2US9J8BTmjXvfMCaVFFKoFg8KjYse56fHgClhmRaiIHZrnhoJfxyB4D0TA0D4Di\n",
       "TJIiTdQlw+2z44chPhmCmhGpJjKxiTdSYoTZNd8AeALmJVK50Qd6+kz4jPj65zMMUiKCpDMl3khr\n",
       "o8a9NnYNhEvzynslzXthOyp4tfQ5RWqNwsQvDFIigpIvQLVzxGL8QMhYi4SvTH7QTMT4sfczv8aP\n",
       "t3Jfj0gwhgzV0ucDFGmiycsQpGMEy2+QBfGEGWmyKhiLw0QDBB15lrufxqgP+GC3LUy2E8Pdpe2n\n",
       "kMbZkpo+ryuVSpl4Qa4XGaREJHbxVFmxEpZHVvxw07jl1EC+xY/KGq2Xovb4YLfpVuCR4U7nNKRJ\n",
       "pZk+R+icwpMZBikRCSmwr2BFugzka3Dm2zPrv6fjViGsV6XH87y89wy99sNunzSpOTHcozVjfaql\n",
       "zwminIdkzVqfPo1g1DFSeQfsUrRDGC28Wfiq0VU9hmoB9DIU+FhX7q/zapk36bz4Ybf3m9ScGG4t\n",
       "wzelz7jaW/0HCjMWpNFpkMvv4JHFJbCmIt6ND0ugPAy7btQjhRF4FGBNNbG1u+c91nGMbadWiftk\n",
       "tymT7Y3hJmWGlXMQ0Dp15BzwO4w3+WedgR2DYpVQPoywed1gZlugtvtit2nE9MZwkw2gdXZFzC43\n",
       "BnPt6iA8AIMViJtiX2iKwyNFicX+2G3KG9kx3Gwb8sEj1TlX1ABzALrJ4QYpQ+KP3aZMtjeGe3Eg\n",
       "LOgtDt/blffPblN+1xPDLV/pGLNNkfpjt1VEXhjuYJht6LXzXp/sNmWy7RhutnouBoL0mbxNRPLJ\n",
       "bquRxwvDnc4EglTKWZltvBPYsNuE1PbCbrfAcGeVQJCagy8GhjzMlt0mpLYHdltjsj0w3DRUtP+/\n",
       "//fYZoO+2O0R8MpwB/Xff/MXHcYM3w+7bcdkW++rXtF+pKmcldk2cIn/k922Y7I5948qASGVF9pW\n",
       "4m1gsq33g/vyyuyed4ZdOef5fiQXGNLQQEfpsrPgGanvr14HOwm0la9efX/JHMp3EOlBGo/wl8z/\n",
       "Ac0fPkpolJsDAAAAAElFTkSuQmCC\n",
       "\" style=\"display:inline;vertical-align:middle;\" /></a></dd>"
      ],
      "text/plain": [
       "<IPython.core.display.HTML object>"
      ]
     },
     "metadata": {},
     "output_type": "display_data"
    },
    {
     "data": {
      "text/html": [
       "<dt><a class=\"ProveItLink\" href=\"../logic/booleans/quantification/universality/_theory_nbs_/axioms.ipynb#forall_in_bool\">proveit.logic.booleans.quantification.universality.forall_in_bool</a></dt><dd><a class=\"ProveItLink\" href=\"../logic/booleans/quantification/universality/__pv_it/axioms/77c76a2482da94c8c8ef22af9f6ecb160f42bda40/expr.ipynb\"><img src=\"data:image/png;base64,iVBORw0KGgoAAAANSUhEUgAAAX8AAAAVBAMAAABccvPcAAAAMFBMVEX///8QEBCIiIhmZma6urrM\n",
       "zMxUVFQiIiJERETc3Nzu7u6qqqp2dnaYmJgyMjIAAAAcRTyBAAAAAXRSTlMAQObYZgAABMBJREFU\n",
       "SMe1l21oHEUYx/+93N7L3u4lHyqlgnIm0Eho08MgBWnkqmC0It3mQ/FDIUdQMX5oT1uMqBxnBXtR\n",
       "pIeICYXaNUKtUdtDOarF4nFXQdJWFxoRJS33wVIUrIfB0LSSOjO7O/t6ex7qA7c3O7v/mec388zs\n",
       "M0BbC11TfGrjGgavoHMjuk4sUQIu7/d99AUgX82gQcuXgtqQMkn6Jzt7Pg6c/Qdi0+S915/ac5+u\n",
       "68gmQDtyDOizxdV1TwCREvUN52jdr8EAUpn8JVVH7S+03fZibt0E9hWV6TqyEx4AJIXU8fc1iA0G\n",
       "MEOntRAMwJ7POEc0TdttL+Y2VgW+SjFdRyalPACxsBZSSK81BkAHlo1wAAAb5HOOymiJtttezG1z\n",
       "hvyqTNeRiT0cQD44mTcAEmUC8B7zTZ6fm5tGG4DFubkPc47KaTaz7cXcDpHf3gymO171P5sAwgGV\n",
       "z4C0nQAkM9Q3XC8WX/bRVe0A3cXiwarjcZ8emi3EPrZKgm1J181ueHtjKnDUeyceqJk3dRPghGqF\n",
       "0MgusjNKaQbwJDDl00jaDhBRECNz//By/TWjlTd1gBZirwl/AaeqTCdW5eeiDQit187H+CGVN28u\n",
       "mwAT1hpYd2stDakGA3iQLedggHCa7QZyDyQjkl7SAVqIfT4my+frA7pOUqUb4ZIwlGv58jy+Ux8x\n",
       "b06ZAAXbIpYukcFI5BhAFCH7Di/sO4u7si4A5LCJlCJZhJp65VodwCVubbEbXCciRn0JtwZQUbRt\n",
       "XwaAcOc1YgYACo+RmibzTdKi/OWP6sP4XFK71PrQvqGyDeACaHdRTe/bArCLgz8DOUuH7lQwAPCH\n",
       "FyBunwEUIhwg3tjFN/c3Dqs4k0pL7hDCuwKZFJwsoV91hJAurt27wZttOCvH0pYOY0obAOFPcrn4\n",
       "fS8VjZgh1GMHyCZZC9Q3TJHPsjw82kcjmlil8pYXIPYOfXNH7bw5LcYiZuKQuieawTOuoGeVjs+A\n",
       "oUuom8nTIIDTJFAHsHAH1tsX8T2OGVjkixifkZbkbdqakp7aVKRPdnsAElto6Vurj7oBQMUCfgN2\n",
       "3+4aRFpp2e8q1+0oH8IRfQZOkh7FVegFfhe+GWvGtfhsDnThbDUBomWeSlSlOomIrqoOQCPycD+6\n",
       "VZE5XUG17gHQg/JVy6ERA4CFM1bI70X3OK7YyvffGue6Y72zw5oOEKWi56lzWfMyqUIcH+gjGWIk\n",
       "FaZRc8UEEJ/e7kjmkFR032Q6OOPYBuGFYvEAAThCF6biBPiJlm66UwlDLDQFLwCtvHhm0VVrpRIs\n",
       "hE5782eeM65RuqoKxBxPJcLfTObtr35g+MbsNmwVkNVnIDzqTiUMl1bcyZxuR6WGxABm1Pjr5oVV\n",
       "flpwb1JWMpfIOb73vDdeOoroo4pfMse3CZtv8Sb2V/A1LS4Ai/4Ag0u2TGzKavfYQm2eAewsC+ux\n",
       "s0QvZVYZUR5392p+uONbllMQvRnFLC89hNAF33TaTDgaNt/CWWwkmzxZJuE8yRz8AbwHGrvRELIS\n",
       "U70UxaaMV2ebD2+7mg+wP0Cs5PXtbrIGvFlAvsWRst9+pBxdKrPzn3USpHODL7V/d6SUSUOD/kfK\n",
       "H4lrVzP4L00OGtr/yf4GGa1t6rYvMiUAAAAASUVORK5CYII=\n",
       "\" style=\"display:inline;vertical-align:middle;\" /></a></dd>"
      ],
      "text/plain": [
       "<IPython.core.display.HTML object>"
      ]
     },
     "metadata": {},
     "output_type": "display_data"
    },
    {
     "data": {
      "text/html": [
       "<dt><a class=\"ProveItLink\" href=\"../logic/booleans/quantification/existence/_theory_nbs_/axioms.ipynb#exists_def\">proveit.logic.booleans.quantification.existence.exists_def</a></dt><dd><a class=\"ProveItLink\" href=\"../logic/booleans/quantification/existence/__pv_it/axioms/c040f82b785919a0152a1b8df22e36701c3c056e0/expr.ipynb\"><img src=\"data:image/png;base64,iVBORw0KGgoAAAANSUhEUgAAAnEAAAAzCAMAAADPXK5EAAAAOVBMVEX///8kJCQNDQ0oKCgQEBCI\n",
       "iIhmZma6urrMzMxUVFQiIiJERETc3Nzu7u6qqqp2dnaYmJgyMjIAAAD9T1yxAAAAAXRSTlMAQObY\n",
       "ZgAACntJREFUeNrtnYmWpKgShp25ssmq7/+wVwSVHVwytWqKc7q6OtuMEP2EIII/s+t+SiPDMLDu\n",
       "r51oaL508rd1qp/mdr1XEmX/a/gj50Jj5Ps+eeBTakb624gTjDF+GbgCs3/E/TTiOjT6BM6IiPuI\n",
       "wzcYAaXLYohja/stJKhPWhfsUeI6NYav4FcRV+bfEAeJaT3/kYApMk10Pv0RmvPn9MPBL3uUuI7K\n",
       "NxPHe1QnLrqUP61N5rGn5pEZP9wNPj5LXHRPX0Uchd3vJw7b5ZWYgB7y4Kf9SfAocdG89SbixMT/\n",
       "A8SBCdm/NXmfT/fw/lniuiAt8ybihsrz/juIo5M9f00e+8L6e0TPEicm9lLi1MT+C8TZMI5N+vkC\n",
       "9iHjABCGwDoDnhrLciYkfJa4YCR5EXFDbdVmiJODadM3iLvqA+fCOGHmGmpSI3z+hxpANyw04jPL\n",
       "V99EIkHhESdHp306lFRetPQe4vCEmoi7fYwL3AIopc1cdJdLKALFYRyRswNgPAzC+OE6H887NPcJ\n",
       "Q3hmqnVNBOcwPDzG8Qm8kjhYPZMPEeeNKGyJerDJXNzgArIojHMfeJs60C/R7TzQGeJ8E/6j/DBx\n",
       "3Ti+krievIA41hurUJ8MvqH2HVYWu8nrhZOs2gcCdHY5MYF3EgfcCOg1xOFJvYC4wZ6E0peF3FG3\n",
       "CzK8ePKiJjurLv+BrxK3mVBQYbAuSlZz+Tju4ygy996+hjhQXwkkiJMAYtBERv5IhzjQb2ezr1Sa\n",
       "XSQPBSrophfZ2ZWD4Majie5OEeeaUKif7drhOrly+HJz56/XEEfrJxITN19eMnaDvomknD12jiwQ\n",
       "tz3ucFxzZe0u0j6Ef6NHP8ttMhdoEkuazhb1LXHc5lH2XxIvrb+4JhgH2sLqCcrHiaODR9we1il1\n",
       "mbjTxnraSNxosyM6uJ9djosbLCuF/e3IInHb/r5+/gVR741VF2kfyO0XHKeJuMGWgYsTADiA6xVb\n",
       "x7hhsA6HDZbtt/0Xc5BvQvtA6yM84seJk5NHnNxiiZFfJu6sMT7Bg2PcComdO4aqu9y07SDRAyeM\n",
       "Q+Swi4QPPJb7lDipbVYVLZcwdZC+F/PQttwRbq09SZzag1RNHFsvObu0ccYQd9YYnsAp4vRCDDfh\n",
       "YI9UUCglM8QR0nEl5hXrkiKhR12kfKDyjU5V8sXa0aa1skxF6vpskTBjAHieOPfu6jhuHY328elC\n",
       "HHfSmJjEceLmKytHe80NDozy5I/9SAFoYMkhjvcYdEqYSuQyOMQuDvpQFWxoOMgxONiZl7fUvFIH\n",
       "LZQDucywT+9WimYwTZySXLeLVWVL3Elj7rjbTBwnCkkg+Y4D7oX+wfwfwj1yXkv6ZST3HxxSOQ90\n",
       "prqlTcYuDvqAlUpKYUdmUyBcO4iyFxDXTcRfq05Ut4tin3Wtes5YQ3KkrHNYp7zUUCkCK0ChDHHL\n",
       "JSF20QhE2sUhH2M1WfXRXefq4V3nK3HUJ86kkGhjSlWWifOMIToRCamTV3DLlt5qhl8hDoMJLvdc\n",
       "JDrhvaaLAEKqAnFsGu2qlCZdHPIhVPeS9ihx/egTh6A74dcaLBPnG1tWfZ1cYfHKlp7RFuIa9Krq\n",
       "+MRD4+yRHQKRuuqDw3fgpvWqjxI3+MQtowfI3hg8QK0iBTZzXCHON0aImTMtcG7Z0mtkeuxqFKAQ\n",
       "Vytp4GfKf25vQx8Qp2eAxJzFhYRw/i9Bl80wdjKsEecZM4XKdVODV7a8kbg/tf4jo6Y8Txwbdbwc\n",
       "zRRUMM6XYARozqSuykA4zH9EgTjXGF8WBMDG3H7Z8vCsenJN8deejwyHcFadA31iYhdn2wHaBjOB\n",
       "BWZgXTLUxrjdmC73SSC31JxXtgxXDg1jVHZZ9yuIy/Xug4vZbNQgecN7LHEtoUe4cpjfte47dbYd\n",
       "7AcJPJ+Cwq3EiX0Tq/TQ8sqWYXakno/Lp66GrrurPPxYW3v3VQl1ZssXc24bHJxGuoTmumHfWE9C\n",
       "4tbNfM62A2eZpcslclVo1Ilzdgb6ClSvbBnM4NU95yUxsT7nm8rDj7W9d1+UUGcSFCS6GQLE71mJ\n",
       "a8hyBDWH5Y6vd2nbdoCHJZVLgSFuHtuHVuI2Y51fu/LKlkGP6sQVxMRLPeqe8vBTbe/dVyXUSfVY\n",
       "4go6xMWV2qoEjTsfuhXtj9u3HRBvjOsQtnZxlbjd+hadLdVHr2wZHlnfAszKK4d7ysOP5Q/YHmB8\n",
       "UULNU9sSE/tPXeIizTWv7W0MK/ke3vu2A7n5NQWbSk06QRwYp1VZshQj/bJldtzNBNBDZa16T3n4\n",
       "qWXDftbflVAnHv/UJOESF2uux8oE5e7TCIlztx1QsaZejEVylDjf6+qRJFdfQy0YALCWHbmlPPxQ\n",
       "c3qXklBzAPUtZ+c/UCpnQcaXleIKcZHmWlaGCzcTUdx1Dmwc19QqxG1r6L1s6TVYSwFTVSPuWHn4\n",
       "0oh07e241LukhFqa2HrJY54SUHsWvPhxf9Kt3OZ//yZk0x5xkXJCVYYL4u8BvqlViNt5oUm1gaql\n",
       "gK3syVmsy4C4Y+XhakPBIHSfcDrWTTuirpSEmgmTwqT0rIDasRCcy9AyxPnERZprUTklV1LwIvVg\n",
       "JeCPFrhOynvY/wK3JeM8Heu9wulIN+30LiWh5jaztATgZwXUuwX/uocvJIMnj7hIAYvLExRzvf4c\n",
       "hXQDcZny8HXi7hZOR7ppp3dpCTXSHBpB6kk5q2OhSFw6KrlE3DsV0tVAbhBV4tLl4RuIu104HaV1\n",
       "t95lJNTLlGjq0ieJ2ywk9dNbHPdPn5RNi1iB5tyAyim54sEXEYcqOeBo5RATt1d00fIR1g3iq8KB\n",
       "O3EJ4XSzg/SR0dy/9S4toe4oWX+cJW6zkNRP55+FG1YOL/2km9oHFsYrcBwRt1V0pS7Umf3NvLKE\n",
       "Ww8sEJcQTjc7SHsQJNe7pITazOfIZMlDAXVBN+0ctFlI66e35yNzEzziIs01lOVJ9Z2f5lVbraJa\n",
       "Bth5mhjXRwNalTVvBxaJi4XTzQ4yHhBN9y4joTYKaGjCoUhAndJNBwJqz0JKP709XJneeNuhI831\n",
       "iNsj9Dd9KmtfDslrVa6FWu48dcutq01824EF4lLC6WYHSQ+xbjrXO+d1u8frgoDaWEjpp7dJomXd\n",
       "E2queXGef++nstY+ebpSyQ9eQfaMakDYA2PhtENcSjjd7CDpIdZN53pnXiejniGRn/w6JKDeLST1\n",
       "05Uhzjd5rJIfJJNf9en6lc8HpewAcXgOWrquppzeDoyF0w5xsXA6cnDQQ6JGnevd8rpeLJvqz1kB\n",
       "9W4hqZ+2z3wLxAd3K4kg7HgVcaxso7wjM4g7CKDjDkRO1bwfGAmnPa1+KJyOHBz0kNBN53q3vI7m\n",
       "GCy8NscE1CkLEeZNQ1ykuS7WFd/9DSK1akn7rnPO1sRCRTm9HRgJp0NVoS+cjh0c8jAe6N0Hd52r\n",
       "gBV06D2WOFUswZBw3noXcQlZYVtiJeqnNF97V1VOrwfGwumQOF84HTk45EH8yH3xXT4hmuczGrnx\n",
       "y77tkoBbiEMq+NrMnKo5OjBLnC+cjt93wMNbdNOfJ+6z33Z5zzf6QnSGuE/oVfNYXBVO/wbddJPK\n",
       "nwfpcfONvv8Hji+HMRQvr70AAAAASUVORK5CYII=\n",
       "\" style=\"display:inline;vertical-align:middle;\" /></a></dd>"
      ],
      "text/plain": [
       "<IPython.core.display.HTML object>"
      ]
     },
     "metadata": {},
     "output_type": "display_data"
    },
    {
     "data": {
      "text/html": [
       "<dt><a class=\"ProveItLink\" href=\"../logic/booleans/quantification/existence/_theory_nbs_/axioms.ipynb#not_exists_def\">proveit.logic.booleans.quantification.existence.not_exists_def</a></dt><dd><a class=\"ProveItLink\" href=\"../logic/booleans/quantification/existence/__pv_it/axioms/0a5494c8f1ecb1a8a73767eb03cb0ac75f781ba00/expr.ipynb\"><img src=\"data:image/png;base64,iVBORw0KGgoAAAANSUhEUgAAAjIAAAAzBAMAAAB/If/mAAAAMFBMVEX///8QEBCIiIhmZma6urrM\n",
       "zMxUVFQiIiJERETc3Nzu7u6qqqp2dnaYmJgyMjIAAAAcRTyBAAAAAXRSTlMAQObYZgAACgJJREFU\n",
       "aN7dm32MHGUZwJ/bndnZnZ3dOwloOIwuvaQ0teRWKwW1HwskLRrh9s6E9I/GW049UlL1sJUVLLDx\n",
       "D7gi2q0aeldSbwqmFhBZxZOPULv2/EhqYwdLNIaia6gkmAhLr6XctVLfr5mdeefj3aGzl4Y3ufl6\n",
       "n2dn5zfv+7zPxx5A59rn4H3fPnrurEhEK9jPbi1X0fY/F+bTSOWtvn1qie6PnHurrc+6bHKXSOSw\n",
       "42zMtr0A20P+XTfR3WOTv2jrky4RSsRKPJnJyYe3VRfgKXeHE39OQCbTYAeDEZHhCCMyK0Zvfa23\n",
       "c0D+eu6+0Vd1NPwr4fQS1WAy8GC0ZNSLwT2bEtUHOjhW3gVIIvLZkONSbQjI7ClESiaZ9yCjQAfJ\n",
       "yGhNSJ8AOBpW8aCATLonUjIHdA8yE50kEzuJ/hCdO8Mq7hGQga2RktkMHmT+0kkyySaarichFXr9\n",
       "yxYEZA5UIySTmfMi85VOkulG9mIqDzE0jdVFG687GCj8yOIfLcuZjldeQEbJR0hGqbjJ/LF8ujwf\n",
       "+oFTIvNiHgzXIY3GfdIA+Bn8LXdPoNWtZ76hNGzLMiWjvUFann/N8xGSGS54jBm0CrQzZiS27zv8\n",
       "abStC6TT5p36Nx3+BDJuSg3gEBzRPwuw3t8/17V5yVzD0mOCMaOeiJDMx8GDTLreFpkk3f24AIM6\n",
       "9TYC26fYfju1+V2IlA7j6OgLV/s/KyRbg1puCsjAGxGS+aAXGa0WgkzqUoB4CTYIxfey/WmwyACQ\n",
       "t7wuyCrlQpDpr0ZGRv6fF5msHoKMguxFpgcZbeHSQkeVPMssXA2fnBKRGS62Zu8YZ2dKvPCUERmZ\n",
       "2JwXGQUQGa1vyP20B69aXOTIXI4/pon1HJ1ujZhhuTNEG50+jxSXBpFJ6/0Q0zOrhvocFtivdZUi\n",
       "I5Ps8SLzECazNNHYAgmnHxjTv6YUODKvob94A3kntPM28NNI01ecnbfWYOlMspkyCBkVhQzwVIMd\n",
       "WGcDte0o8Mxca3ShARevi8gkxygZspq9IiQTJNZV8SBz/wfK5V4oZg2Qf6tzK+9/XbMJ53+66lKF\n",
       "dm7oBT8Nidwr/ubbOXNuqCNL+15hs6mMlyvM7g5gG+UuZJsWPbLKgF1XQDfqzhZFZLQmJfMnEOeY\n",
       "EJkgsafyXmOGzqJu9JoULnaAOReZi9DfiyCVWOdd4KchN5wdrehgHZk3ri/3vHU0Atei7U9F0QFk\n",
       "TlEyE3hlqAjJBIkN57zIUL99GIouMnJThqP7j9nJjKovpy4GuUI7XWRaGhJnMI86yGjuL1e3PcVK\n",
       "WRxRopudoGTQEoIXWBGZILEDNQ8yJNxPNf+Mvhoik3oAJnSymdCntIYGv6wodjJ7hjK/KYA6BqQT\n",
       "k/HRyHC+YNLygJ7BYYDbl7HeWqoJW6bFWQikMkvJZA49/vhOsQUOEvtn0WvM4IvqVz+/TMdk5Mtg\n",
       "sCpfijaDtb0vHTwEieJ6Oxn1mj+UUpgI6cRkfDTinLttZa5+eO8IgOGeGq3lugTLDEoymAy8zdam\n",
       "d8bHt7axNgWI9Ve9yNjCKjTe0tYZHWAKXFmw+8Agl3YDfIyd4NnkrZE9z2zn30FM5h1GBlnKbRA0\n",
       "PykZKiZt33QNWVJjK2cs63FEDyQj93+G5V/JsltlvuwLhoNM6t1e62RotuansT+KQF1A5iOMzPV0\n",
       "7vEtz5FhYi+iKBo/x3GQraV1TTAZ0gz38HbETWiZRyNCMgQaan4ByHyIkVFMv5K94c2/g8tLbjJM\n",
       "bBRNHrTbgd7jCrP7667PLpfbTs/GHWfPiVJ5+vlzkcp3BAvczshohmJde2JmFTyr6XHdTYaJ3Q0k\n",
       "sr2bDh8/MvaWKN8JF2bzK8mZZFKNm61x+91dOuzP5TWYWb55ec1BhoqpcxBD5jGG44F+/9nksL9w\n",
       "4TbvaVU246ZtX0ZMSLh1Pb40Pf0DzcPOEDGQzi7D3nAW+1urLQtcfX+RMS0wPI3sJQ23iCWe1p7c\n",
       "4EXmaZJ0oca6G69cH7ZWbZc/kzIcZFKTqHX8MVNGGGmzWJmueqebBllah4Rb1PBPQ33GiwzJ/rDC\n",
       "UleOpFNMT49PdsI+55iJj46O3qJ3iohZrtwXSssqVm50dc2aZDI6C7fkb42PfweR2a14kSFi3dT4\n",
       "JEpP1nZYPA64yLzunk2JzhW5Wbny9VBKVpjwc1fPWUd+hoRbJTpmpCHm3LvzM8P4+SZ09ZLcy8db\n",
       "F/lhnMkvJBlWrsyEdHXM0FLL+USU9nDr9/jwJYBjfpmr2Js4Qz1Yg0cfHAXrUbv576RUF5IMK1cq\n",
       "IW9gFitVPu+WPmMnw8ItNFekewqQEOT08JS6uWXwFN6H3gkLSYaVK3eGVLOKlcf5zNWcR7ZzCbIz\n",
       "4mwnMedT/7JMarzJyfdFQkagYE13Vq5EN1X7crAjyNLbBaxi5Qxvm5vvOQ9MApnkltY5X4v8HkdG\n",
       "K5fL97ZBhllyGq1qAuFfWWaOlivRTTWpB/mfsn8ejgqwb91gZP7hmbyNpqpyhrvwbTSOyrjVw40Z\n",
       "+kgsWt0oCrjMD2TlSnTTh+MNGJeX+/8KgAiYI98srzzDCU3lIiPjqsSZvzNKld4LGRqtynXRsmvm\n",
       "PVm5Et1UR37WCVJR8mlUwMygMjLDnummaMisiZQMjVYTRZG06b+cbt10QJdPBZGhAgIy90N0ZAYK\n",
       "rtnkQUZa7K4iwHUlWzqckGHRqsL1uRWuZE8427rpaqwdRAYLsJKcVazkS3hRVvyVvLcFdpLRuvVB\n",
       "vioH9Xm5x0mGRas7Wd9t4Kfw65Y7Y970PkiWAslgAVaS87PAsSh/JcIvTjP2ldUis2sdLOGrcqmf\n",
       "jMUqTjIsWr2B9vFFOZvCDcwvmW/ddAUMGISMs1ppHRABVpKzipUruaWpFCGZVthN2zpu1c6iZep2\n",
       "HX2FEdd8itcTOScZFq2uZX38fGopfJGem+VKfNO9i9ZU6ZhxVCvJAb5CBWhJzipW/tt5g0h/jcb/\n",
       "gtErOkBtC/ognoxS6CpaVbmKLVpdT/tcZFoKa71CktXUgHhUK9mV1WZJzixWqtzkexWiJJPNCyNK\n",
       "1L4pNZ1VObRRigOtqhwhw6JV9MVxn7Mo51A45gpjEw31JHVUPPxEfIUI0BjRL6JM90ZKJsVJbPMk\n",
       "s3ZJw1mVQ0fSyPdbVTlqQGi0igRxn7Mo51D4JPA3VYxkDlJX4+nlrlbiK0SAxoh+WYiIfynN+5H7\n",
       "vMio1aTBVeXS8BhaU6yqnGmLcbQaq5E+rihnV2i40mXSoqvME3d+D1+xCVjFSq7Y9iWIlky8FJTt\n",
       "ZKtT/SauKoeONkmNVlXOJEOi1Qrpcxbl7App47yynWaxMuP0QDOVUGTa+C+eEXGGXDpW59+nATce\n",
       "dvnALFq9sdXnqfBoRzLkIf+Lp43//IoXfMm0X2/Ku3IdAW3peXPxKMmpzLE8cu6t/wMvrB4FX5Dw\n",
       "+QAAAABJRU5ErkJggg==\n",
       "\" style=\"display:inline;vertical-align:middle;\" /></a></dd>"
      ],
      "text/plain": [
       "<IPython.core.display.HTML object>"
      ]
     },
     "metadata": {},
     "output_type": "display_data"
    },
    {
     "data": {
      "text/html": [
       "<dt><a class=\"ProveItLink\" href=\"../logic/equality/_theory_nbs_/axioms.ipynb#equality_in_bool\">proveit.logic.equality.equality_in_bool</a></dt><dd><a class=\"ProveItLink\" href=\"../logic/equality/__pv_it/axioms/0032644a84796ee50f77c857714a616922f0e4bf0/expr.ipynb\"><img src=\"data:image/png;base64,iVBORw0KGgoAAAANSUhEUgAAAKYAAAAVBAMAAAA++IifAAAAMFBMVEX///8QEBCIiIhmZma6urrM\n",
       "zMxUVFQiIiJERETc3Nzu7u6qqqp2dnaYmJgyMjIAAAAcRTyBAAAAAXRSTlMAQObYZgAAAkxJREFU\n",
       "OMulVT9oE1Ec/oyX3OVyZzMoOMmRYuwgVIR2aqsiGBA0rYOTYBAFXaSI1UGxoYMmgvQEoUURHx1C\n",
       "6SABBweX0DpIVbjBscoJOigoVRTUqe9f2t7LezTgD768u++997vf/wAmyUYCBsmFZj5mD+81m/MS\n",
       "JrmkvO/bPf3x2mHOv2bvXzV3vkiY5KlKxKfcu8Ocn2VuVjuv+AcEjOIFClE9gb0O53cQujQ7r9ih\n",
       "gFHcvPz4neu32jpfOJz3lxcWZjRXZiTM8on/pqfIhp0v5wX/p1a7qbnRKzFXfLBf8dLtDXCfYEmE\n",
       "lWz4bk1coCvl6VLX6Lwn4Lb8KzarDe87FxZhz8qjH/igpL96ZPIHzTvjj8KNNTpvCHjE+2cpYX20\n",
       "PUYNeC40bc7R2xVw3kZKV9k7BVw4HUVBtgX4CZzl4dzDrG/rdKyI815kw6wT6Ak69sok/VvqzCbs\n",
       "dFDhfDY+TYnFgeIoYBVhk4Tv9MioKEcRzwp7HkGKFlKJ8/nNOjOsLRlfPw+kyGWbxtfrIWPJHOVI\n",
       "P91U7LwNp9LO0cGEnX5L8M/GaVjwjdEPS+iTJ5YEys1pPFZ9H0SZxm1I9MZ6v8Rn8GYQghcB+8v5\n",
       "IZyTJ0oCjcLccEcKG4VDtBQ+i2K9eDw5QzjvM9fSq2m2cRW7uurNEapsXDxar2RvtjtC8njixR5m\n",
       "CSas1a1nSCZ2f2lmiDpbGu8WlzHWxLG+9fqvQ99g1PzICTSzTj8Dm27oRFvPZKswYPyeyufCTOtk\n",
       "t/8dftgV78NaaeH/ZQ3wb6WAciBaNgAAAABJRU5ErkJggg==\n",
       "\" style=\"display:inline;vertical-align:middle;\" /></a></dd>"
      ],
      "text/plain": [
       "<IPython.core.display.HTML object>"
      ]
     },
     "metadata": {},
     "output_type": "display_data"
    },
    {
     "data": {
      "text/html": [
       "<dt><a class=\"ProveItLink\" href=\"../logic/equality/_theory_nbs_/axioms.ipynb#equals_transitivity\">proveit.logic.equality.equals_transitivity</a></dt><dd><a class=\"ProveItLink\" href=\"../logic/equality/__pv_it/axioms/fe5ecb4839370106d7aa598ff8e51b95c71757a70/expr.ipynb\"><img src=\"data:image/png;base64,iVBORw0KGgoAAAANSUhEUgAAANEAAAAWBAMAAACs+WTQAAAAMFBMVEX///8QEBCIiIhmZma6urrM\n",
       "zMxUVFQiIiJERETc3Nzu7u6qqqp2dnaYmJgyMjIAAAAcRTyBAAAAAXRSTlMAQObYZgAAAnJJREFU\n",
       "SMetVU1oE0EU/prsTzfZJB4UBEGCgVKCh1wEQQ+hgkXwZ+NBxYsl2INQJYd6UKTkmBYiudQWQVyh\n",
       "KK0eAoKgUFhyTKUGFVSIsKB4KFSCIPhz8c3sZrOu2djAPFi+mfeY+d6+980MIM7uhYee02ezwUcR\n",
       "RLFyeEypARtssCWCKVkbkAX90DKhVhbB9GZQsEGZmIBeF8F0Y1DwAZBorq0tiSDSSgNLmwd+VCq3\n",
       "RDBFctSOA1cmGsHA5G65BZ2i08B8yGJpGKbRFvAE79JzbLL5ldknLoZq5jCVjiRxjAuj/+JhmFRq\n",
       "dhOvzBNB2XHBxam2KiItEUwj1AkTlT6RCyQ6uUPCa6kQxQR869ODKThMmn2O6f3QmEHOMaiUAJa2\n",
       "FntMeubstLtoYgo3e8AVN7dq9KoH+bszcfr0hY+fcTqmzPnLJBzzmko56SmzwPxH2ukeU1axZ5UK\n",
       "WRXWL3kXeRi4nuh6w6eIF5EOsoFfiuegOIrAU6KTsc28dycxzsOPfdUzkt0+aiulSNkDt+HdU086\n",
       "ln6PdrRg08+3X38GohYNUzz/n9x9FEW+PO/vU8q70KKWku4BtxWvHSXEitnMP5d1LrGfdkuyGidM\n",
       "3jGZuWexh8EiLvqYLsFQWNm3oeZH2AoGrkczZHMnt9Gj7uC+butYNnFd6hBoM+tlj0nrbMLqnhnj\n",
       "DLQFDq7d2Xi/0xvWsYdvG00U6jg+bhMk5L2mxxS7evJgN22peBvyPg6utQoL3pn4z6vht3qsxhRU\n",
       "Dz1Pq6iSmBwY6iUMZBGvKdZpBqFMM5LNXmoOQ73uH/6eJiC1LQahTKdesoI5INSiIjf7A4jqrxun\n",
       "Ivq8AAAAAElFTkSuQmCC\n",
       "\" style=\"display:inline;vertical-align:middle;\" /></a></dd>"
      ],
      "text/plain": [
       "<IPython.core.display.HTML object>"
      ]
     },
     "metadata": {},
     "output_type": "display_data"
    },
    {
     "data": {
      "text/html": [
       "<dt><a class=\"ProveItLink\" href=\"../logic/equality/_theory_nbs_/axioms.ipynb#equals_reflexivity\">proveit.logic.equality.equals_reflexivity</a></dt><dd><a class=\"ProveItLink\" href=\"../logic/equality/__pv_it/axioms/1323d646948b67e1f22d6b53e3da8bd16e1229770/expr.ipynb\"><img src=\"data:image/png;base64,iVBORw0KGgoAAAANSUhEUgAAAGIAAAAUBAMAAACE8PXhAAAAMFBMVEX///8QEBCIiIhmZma6urrM\n",
       "zMxUVFQiIiJERETc3Nzu7u6qqqp2dnaYmJgyMjIAAAAcRTyBAAAAAXRSTlMAQObYZgAAAUFJREFU\n",
       "KM9jYMAAnBcYcALuCQwMD0CMu8iiKxjwgEwGhtMg+hWy4Et8OtYxMMwAuaMBSYzXAJ8OHgUGvgVA\n",
       "agOSGPsEfDq4BBh4T61aNR1ZbDoDXvCEgeFHR0cNspAyEC9Sm6KjgKYUKnaYgSGVgaETWaYXaPUB\n",
       "3iJ2UCDyvAMDkM9gYvcYGJwZuB4g66gGKlzA84sFzTswse1AnzIwoUSZCNA8Bo4GDC9DxeKBmi+w\n",
       "M6DpYGDgV8D0M0QMqIPzQRiQcchULQDuKqA4hAP1RwIDQswdiDtTGBiYFuSxO8B9zr1AHyiClqKg\n",
       "YkCfM2wuYGBgZXgLkwIGn/+Gfoa5aG6CidnA3fcTJgW0dpnSIlv0BAwTewpKSCD7WT+wEpdKCqCM\n",
       "+TwPeIhNiVA7rxw6BRPsJJDaMQHeHIXVOHy5lncCAwDGgVl+SYhJvAAAAABJRU5ErkJggg==\n",
       "\" style=\"display:inline;vertical-align:middle;\" /></a></dd>"
      ],
      "text/plain": [
       "<IPython.core.display.HTML object>"
      ]
     },
     "metadata": {},
     "output_type": "display_data"
    },
    {
     "data": {
      "text/html": [
       "<dt><a class=\"ProveItLink\" href=\"../logic/equality/_theory_nbs_/axioms.ipynb#equals_symmetry\">proveit.logic.equality.equals_symmetry</a></dt><dd><a class=\"ProveItLink\" href=\"../logic/equality/__pv_it/axioms/34996bbbceac0f69a08b78cc992f42a548486c1c0/expr.ipynb\"><img src=\"data:image/png;base64,iVBORw0KGgoAAAANSUhEUgAAAN0AAAAVBAMAAAAwUfbwAAAAMFBMVEX///8QEBCIiIhmZma6urrM\n",
       "zMxUVFQiIiJERETc3Nzu7u6qqqp2dnaYmJgyMjIAAAAcRTyBAAAAAXRSTlMAQObYZgAAAmVJREFU\n",
       "SMe1VjFoFEEUfbns3W42e5cU2i93EEIa08RKzhDBYGOSxjoELWwkhRaiiJXcFcJaJSiSsYkSLA6s\n",
       "tDrO7gRdUJCAwoIgKBiOoKDYuH9ndr2Znbk7kXx4cPvf+3/m/vz9s4DJJkIOkz3X+B4OlhMievio\n",
       "ETwRMFkpyLnc24PlhFf08FUj+CJgMjfKuSrBYDlhm0qn2Vd5nsNsnZzn7TB5jAoDvFaetgMOsz3K\n",
       "ea4Pk8cod/f2tjT0loDZKotqh20OkxN+Nho3NXSNw635uMeUo6heXoor46nVLsxnnCTnKUhOuAQ0\n",
       "Nevd5fCsaZyg59cHZJ/o51O892/FlYkUvxNmHLzEfUBbEilITjij6zTgBseD8QgNheriDTsHTKrl\n",
       "s1sZ128iBckJNgq6t/oYBxvzcahQjO+g2FP8Y4sZJ8l5CpITvNCGeT2ssOKPHHloXA+53aUp0vUm\n",
       "ogv0ZizMrALWDGwm1RN1FKb/ntPnhOM7sDYVP9VTcOn5rSNLQfIkpHkxbi12xY53502xNblfcAfO\n",
       "urLfF4Ue5tJ+6TPqF8FJxlOk/YJn8aJFfCPm/jJmheilwEmsKMdr/XZ6NMjH20reuNtTTjKeguRJ\n",
       "yJRPzl8JdQobQrQssFs9rUwZd2OuRgO+sqrkjauVcpLxFCRPQsosOfwiUVdxPDfP6oaB8Xj0eVYX\n",
       "8ixkx4s8bDNcs3ryvC5F7vf/nNciRac/ZPddp4u1Fs7OZk3QTGCHjj/yfeRo5ztPkd5H/dZyAyeU\n",
       "71urumD4e86o9y1PQXIlZDIotc+P/D2x/2/fE/v5kDKsD20crf0BIWnW/FCMiDQAAAAASUVORK5C\n",
       "YII=\n",
       "\" style=\"display:inline;vertical-align:middle;\" /></a></dd>"
      ],
      "text/plain": [
       "<IPython.core.display.HTML object>"
      ]
     },
     "metadata": {},
     "output_type": "display_data"
    },
    {
     "data": {
      "text/html": [
       "<dt><a class=\"ProveItLink\" href=\"../logic/equality/_theory_nbs_/axioms.ipynb#not_equals_def\">proveit.logic.equality.not_equals_def</a></dt><dd><a class=\"ProveItLink\" href=\"../logic/equality/__pv_it/axioms/15f4bc0dbe6f9cb8363f313a4b59eb995eddacaf0/expr.ipynb\"><img src=\"data:image/png;base64,iVBORw0KGgoAAAANSUhEUgAAAP8AAAAVCAMAAAC+CcgcAAAAOVBMVEX///8kJCQNDQ0oKCgQEBCI\n",
       "iIhmZma6urrMzMxUVFQiIiJERETc3Nzu7u6qqqp2dnaYmJgyMjIAAAD9T1yxAAAAAXRSTlMAQObY\n",
       "ZgAAAqRJREFUWMPdWOvOpCAMZfeTOwj4/g+7oINOoUidTHaT7Q9PYgknvVJg7ANxEeJIgsf+ru4Z\n",
       "C11xL5UXYjr1kbqttxCHBiT8v3ZPWOiKmVRegGGt6uSJ+yQHccgnBwakJyx0xdSjCUFXvemobo0C\n",
       "4jD8ww0Dp7PQFXOpvABr2K9EmIhxEIfhV8NALHQWuoKQAAuCMfgizlCbn4H4PPzZ55LKQleQakoi\n",
       "uNkiJhD34AKi51w7ybuctiD8nouywC17tgVBZRkqRrRtyFFegEeeWmpa2QjQZ79Fw5mpTS2kXX5+\n",
       "l+9pRWCyJBvfjhq+OuBr+SGiYxnRd7SDjXBegFKQe/JefyvAcsaHzTPp7sLvViYKgz2KYjVEFmFO\n",
       "CSTatlpwXojlw8kzxSIB+mv3d1EapmFeX/JwO9JVbVSWyxJNoe3SH+eFGOLhg4/sZ9fuIPxtXGQO\n",
       "VuZTX7J/QNsLygsxz2k1XIELxevBJXn5a/xt/rNr97c6/LUcdXhlwZ6G/HXwSIPXv+5YOvtHtKON\n",
       "UN4GrXuNatwznZiRtXdk36nlvv+t/mgu3N/PaFbXD+x/ky7b2X9Li22E8Ta4ipc/skPTSex8cQ9v\n",
       "iwyeIXJbmd3aO4nsTy+hy+LXKjE9bPsTUs1pMUF5W3yrpO0tckWt2yKDueM15/mMbe5OyFWiLBR1\n",
       "86SmZWtuFTgt2gEx3hajv4rq9DTbC2FRz+ffdTC8iHrxIHTbb86/LW+LZ8ZvuYuUus/Da/GIUTl1\n",
       "Prj/IOHPbYX5Tf71+w/K2+KVK1EGXkYLtZQ2KzW3SKeqZ9toZFyR6jY5Uy1/cv8dDqT2SQJgvC3i\n",
       "RmS9w+fQ2fsH9pAgcxWqRwZ85/0D453Frz4O6Tw8pw/evyaXu/iP3r8qb4v44mJHDIH95/IH7kUm\n",
       "f7AhvMIAAAAASUVORK5CYII=\n",
       "\" style=\"display:inline;vertical-align:middle;\" /></a></dd>"
      ],
      "text/plain": [
       "<IPython.core.display.HTML object>"
      ]
     },
     "metadata": {},
     "output_type": "display_data"
    },
    {
     "data": {
      "text/html": [
       "<dt><a class=\"ProveItLink\" href=\"../logic/equality/_theory_nbs_/axioms.ipynb#substitution\">proveit.logic.equality.substitution</a></dt><dd><a class=\"ProveItLink\" href=\"../logic/equality/__pv_it/axioms/fb5aa0007e656f471030da411c3555b23b265d8f0/expr.ipynb\"><img src=\"data:image/png;base64,iVBORw0KGgoAAAANSUhEUgAAAOcAAAAWBAMAAADJFJavAAAAMFBMVEX///8QEBCIiIhmZma6urrM\n",
       "zMxUVFQiIiJERETc3Nzu7u6qqqp2dnaYmJgyMjIAAAAcRTyBAAAAAXRSTlMAQObYZgAAAuNJREFU\n",
       "SMe1Vk1oE1EQniSbbLLZ/BwUD70sCXiQQsWiINga9CCIkuDBa4PoQVBYxJN66EmSQG0EQUGEtYg/\n",
       "PdiCB/Fk0INiRQKC6EHZgx4UKkEsSLz45s28/XHTlgQ68L1M3nx5X/bNm3kLMKpluv972fZm3GcM\n",
       "F798HkH0IQ7Gnv3soZ0dQAsxUm3CCn75MYLod7nKyl/20B4PoIUYhku4hU8/O7xmbjeOS0cr7KGZ\n",
       "VpQXZrwg5B1BXh5eVJcJfO558kGKUV6YcZeQe7O4eHOE3aXfvPI8aV+jvDAjXyH8aTSujCBaxuH9\n",
       "jknyFnbeGBd7+zJCUwyjbMF1B0yx0YgzAE0MH+hGfqFtIDonx1/kGZ3cBV0ckC8ysz+lcR6ZYWpF\n",
       "mBD76hIOy/MEZqkTWTi9gehlWX9r5JmO2ddE4p5GK5QZtxMuNEQp2wQd4l3e7WFEt8l20CPPgLQs\n",
       "gJkITTGcmIUPnewRzK6O0YIzgqhpK69gDRb1GFUnueaLZtyTWHbzU0gpnxAphkN1uOSL8iQEAmp7\n",
       "03XlzdRwPBLIaR1CjGmIi4LSbAI0T2P0Iw67Uu5F8dHpJ4u+KE6mGsLmvIA6SDGLvKwzAXGHD1LI\n",
       "FAOuSn11kOAJKsMkDrU8pjdzz47P+qI0CcEAcHUsVcirLs/DHayAaENiBuyDqlgm0SFwOqgECrJ3\n",
       "JDopK5DTgtdQVEDtZJW9+6WFKfxn3yKiiiEoB8Uy+RoBcvIIbQc6CTijV2K1gKiYTGGWVr2Aam2v\n",
       "IdwG7YhogDEt8IDB/D5kWpneO+hkWqDXqv7plZNKiQPU8LP1Vb/1D2z4PiPlGr/9hq+ajw3JMeP8\n",
       "sXEnOQbaqWu+qJxULA6gNUFvueytd7X5DL2btvyrLXBTZfnvwSPOcKROVYAu8Vy57V/nIXVvVY+h\n",
       "lfbigm0Cd/8PNXqRkO8T5zR3sKgKDH5dyW36uvKJwdkoiYEjXTj+dp2OpAJbaYktWvcfpC3c9HKM\n",
       "He8AAAAASUVORK5CYII=\n",
       "\" style=\"display:inline;vertical-align:middle;\" /></a></dd>"
      ],
      "text/plain": [
       "<IPython.core.display.HTML object>"
      ]
     },
     "metadata": {},
     "output_type": "display_data"
    },
    {
     "data": {
      "text/html": [
       "<dt><a class=\"ProveItLink\" href=\"../logic/sets/membership/_theory_nbs_/axioms.ipynb#not_in_set_def\">proveit.logic.sets.membership.not_in_set_def</a></dt><dd><a class=\"ProveItLink\" href=\"../logic/sets/membership/__pv_it/axioms/5ba5c5d56055da711dab842b48d1f2f9ee4c55ce0/expr.ipynb\"><img src=\"data:image/png;base64,iVBORw0KGgoAAAANSUhEUgAAAQIAAAAWCAMAAAAcoWJbAAAAQlBMVEX///9jY2MJCQkNDQ0rKysP\n",
       "Dw8WFhYQEBCIiIhmZma6urrMzMxUVFQiIiJERETc3Nzu7u6qqqp2dnaYmJgyMjIAAADRR/RZAAAA\n",
       "AXRSTlMAQObYZgAAAt5JREFUWMPlWO2y1CAMRa9aoHwEKO//qlLa0gZIy65endH82DO7sBwIyYHA\n",
       "2CfazP5dswEjYZr43dnXaMYbHuwgxriU9jA8LhiMVBCoagLCe8+CZEzZV2jGG6iVN8QIvTs6LjA6\n",
       "5GIxEiYk+mpCnn1cP5dXaMYb+tYhRmgPj9ph1waBcSwPxNY7ZHLPx2nGG4id6BEjPDb/DIcn0xZj\n",
       "d5pG//iuL5sNcRNHmblhGqcZb9h4k12DrE+MMHhYzephLdQYeypgODCDZirjJjXzNqFFjtKMN+y8\n",
       "lRHECKNZTftRF3CBEThXVvJLbMMaWVW+Q4z+ckh6MUpDNhC8jXb2iRGq3MF0o2tOUurC3KrLiZB8\n",
       "FzRnl+jLOsurdOcxWTkKwtnbLxcTDU1f3Wje1mVdYoRSkBqdm1ysUtEh9MnzPgKTJ7/pHjAQ1BSn\n",
       "/Vf3mHf78EIX80O8nTjoEWNcP3jX5xo6I08S4drFoC7zlLbz28e6qY06x91/c3xywVSrhVUjvJux\n",
       "R2KMPlAXuZg97G5dkPuhoM/Ha3XA+CMxf5sLCN7aKGKMdikXOc/FzFXJ/WXykorQguswWC2m5lIA\n",
       "6ui5x6PUfS1QDU3jgnveOgko4gqNVdtK05GiFqbLskGkJJJ9OTrQQRKc7b8l6vimIpcr6j474Vs5\n",
       "vFe91gW3vM3dmCKu0AldSrsl1MR1juBjRaYIW++eqHLRTuH9ETp39mWTxeMZ3B6b8wBvowEUcY2X\n",
       "nIqnwMK8ZVF9TKAQAsU5cIFrLFBfJToQBJNKKHXOcHkspKW+bSB4DealiWsMcKbXWeY716v3hi7I\n",
       "4Ys31UUVp+jAXfStC7K85y3ENZagj0mbsohak5wiTK6w4I0yyTzUcn+yTOoS13jGUZCer3eOeUoR\n",
       "IGyqswXQCyQX+lTQjxXL5PDGvuuBbrFMPjP8ypMJD28u7nOeTOjNu5vI/dvW08PZwxTD33o4O4hr\n",
       "7Hdm/439BJP2M3paqy+JAAAAAElFTkSuQmCC\n",
       "\" style=\"display:inline;vertical-align:middle;\" /></a></dd>"
      ],
      "text/plain": [
       "<IPython.core.display.HTML object>"
      ]
     },
     "metadata": {},
     "output_type": "display_data"
    },
    {
     "data": {
      "text/html": [
       "<dt><a class=\"ProveItLink\" href=\"../logic/sets/equivalence/_theory_nbs_/axioms.ipynb#set_equiv_def\">proveit.logic.sets.equivalence.set_equiv_def</a></dt><dd><a class=\"ProveItLink\" href=\"../logic/sets/equivalence/__pv_it/axioms/51cbac677b181b50a1c78ce62baa887012870ac30/expr.ipynb\"><img src=\"data:image/png;base64,iVBORw0KGgoAAAANSUhEUgAAAY4AAAAVBAMAAACj/BR7AAAAMFBMVEX///8QEBCIiIhmZma6urrM\n",
       "zMxUVFQiIiJERETc3Nzu7u6qqqp2dnaYmJgyMjIAAAAcRTyBAAAAAXRSTlMAQObYZgAABNlJREFU\n",
       "WMPVV11oHFUUPu7vzOxOkgfRglKGBrSEtlkM1BfFVR/UUsnqQ/Wti7WQCLGrDQatllYK2a3K7oPU\n",
       "gmgnFaoGiYE++PMU2wEl1XSpoFZtXakVFEmXxIaYUuO559zZ3dl7d7vtmwfOnNmZu9/c7/zNGYB2\n",
       "8o7UdvKZciU0n7kBKBUHzHKb9YkS6/lRMhVx7Zx+qbWPFSVa4UtzO/EQodPvVndszqchVmr+WzLd\n",
       "JYxd1kNpRKCrOPCBdrG9a2lg6ADAMLB6ZE6JW3/q4btKrOK0ymbkC9xdjG+vAQhfBqui8khOi7Wu\n",
       "Hkr3IERXceAP/eqb0B/3ZWAKT6eYB5rDIn4tHPWtVJTzK2TOgPUXwCF24lWMzCLACZUHAR5uAaUR\n",
       "Qldw7JR+9XZ05WAKkg6QemSE18h9GnlRKjrr+D9kswBGwbzIZYCX7AWACZUHBfiUHsqXH8bG/Agw\n",
       "uoITD8TPHh/by2f9eP0XB6weIPXI2LOTk2/paZg5VgES+pus8NDpVaZtIMbES5gUaZXHz5OTH+b0\n",
       "UFKe7GvYIqErOIFtRV+tpel+3Pit+Os3IPXYLOfzL+t5hFKsKFsSV+slK7tRdxaiL4hoplQe3fn8\n",
       "+IwGylo3/ADlj9VYkoyu4PSiHr3jzQ2O+DFVr7YlgCeeQXuS1WODDahAt/n48OLJIRlPo8yKT01H\n",
       "F9Q0HTkzLiJjU3rMzQu5IHnEMmA0ZoUP9RF871B2NHYniU44SYKZJ0pv4K0Z+/k44Q/XI7N0bv0e\n",
       "qipWj82DslPYnDl2DyR7ZH5Os4pGay5C025Fmlq3iEaeU+MRSVErqae6hJqF0+4jRKzhpkRXcHCz\n",
       "STe5EiHK9VYk6nICCxU+YfXYxCFEPn+PMyechcSK7G9pVoBtA5uXlXjsF1xwb9GqygNysDHQKiWU\n",
       "C3m+8Jjwh6xzia7g3IzxAEO+v9aKP9TqMnRFJASrxyZZjtPt2d3sOQfClWYeeFir8FgSPJwWPL6B\n",
       "nI4HgMzPxqYs0XU8sAodbhT1eGBdQmhB4WFWthFhhz31cQY2uU15lUB9TnkHi/jtwj1EcvWM+93n\n",
       "8W4Un5bsfXxnE1T0siTWMGBIdMKR9ZGVeYU7lF2lJ/D6iIkieIjVk6eFp6nw4G5aNbhxfbapOOFt\n",
       "1EvQtFuRptHlWp03xcM4hIe+WGU0CPV5qArUcMNObbmPruBgnSfcfgiRW++qXRavj+37lDqH4+TP\n",
       "n6Cfdwpwp7+fFCs1/mLzUNGFHrr/oNjSjIZHQngl01UOQkWuGFU5/O1pfLUQuoKDzXRwuiiny3jt\n",
       "Xf0rhm6N4HYPqydPKQOtC18XiffrAEfkX0SgUa3ivy58uro7+JDYJZzWXiNCGQ0ProNun7wP9VRf\n",
       "r5xJjx3g7K2jKziYLMfWHb2XeVtDW/jqs2I8pR1eZPXkqS0Awy4cIRxsBIOllsOETt4HHY8fKZUh\n",
       "0xJq6/hYpT1OcC6JfOXPJf5rJ8fqsWF5FJ1XNg+CuQLm7Z0Nd76c0PIQGVOdg5nOoTqeE/3HBOZE\n",
       "WYfLYBZfid4GXy4ODNXmHPFKNkrXoKGb2+Wdka0b3I6hNHN7oe2Dg3N78Bur5XdUazFKrXhcH5TR\n",
       "6XdUI8sC8yhc49uyk+/as+p8ufdGvmvPXud3rV1i3TRKJiBl+L/KfzsFnGr1z7ZrAAAAAElFTkSu\n",
       "QmCC\n",
       "\" style=\"display:inline;vertical-align:middle;\" /></a></dd>"
      ],
      "text/plain": [
       "<IPython.core.display.HTML object>"
      ]
     },
     "metadata": {},
     "output_type": "display_data"
    },
    {
     "data": {
      "text/html": [
       "<dt><a class=\"ProveItLink\" href=\"../logic/sets/equivalence/_theory_nbs_/axioms.ipynb#set_not_equiv_def\">proveit.logic.sets.equivalence.set_not_equiv_def</a></dt><dd><a class=\"ProveItLink\" href=\"../logic/sets/equivalence/__pv_it/axioms/9fbba3aef70e62e8b026689ec2d661fa9b201a500/expr.ipynb\"><img src=\"data:image/png;base64,iVBORw0KGgoAAAANSUhEUgAAARkAAAAVBAMAAACAi4frAAAAMFBMVEX///8QEBCIiIhmZma6urrM\n",
       "zMxUVFQiIiJERETc3Nzu7u6qqqp2dnaYmJgyMjIAAAAcRTyBAAAAAXRSTlMAQObYZgAAA8ZJREFU\n",
       "SMfFVk1IVFEUPs74Znwz89SFlGDFQIvalAOCbQIngpRAnJW1agYqsKBUDIfSSCFwtGRmZxDlSEVi\n",
       "UEGLapXkQuiPoSCIskYqIRcpav6FTeeee+97zzdvJqNFH3zvPu7vd88599wLkA9qijMfvAn7cTqu\n",
       "5R8Pj01Ms4qJHB2HBRFHjFpNFM2LVU0XAU7Yj5PwdFGh0ELgmwrhN0j/bzNHq2NBcOF2JJ+z+ukc\n",
       "ar4JImaM2sOiLMB1akJw136cRDG3XfEsFVMftuI3wpvKAZw/wIM6Ja8ww3bZi9ECnOx3JsmKwgud\n",
       "uJaPN4fRHw0B8Pntxul4w4uPq9Tih7ujoHI1yhpOOA/wFHQW4yq++/Zq3AlOxJ0aKg89PlChBYQj\n",
       "KrHqkx88pXbjdJzl/nqwwgoXMpa4HqI6B1ZpcwBDoFN7NjIykMNRA4KIVCX5+iQKmqw/w+u6cZHN\n",
       "uJkvduP0gG7h5nIssMLJQifzkzcV4TaGzqFBggaXY7HOHGq2C6JBk0/omDCn9GzjQQiLKA3lwZjd\n",
       "OAkH99pB75pedUuUJRFQ2plrAgaPA/RSI//WzY81SUP3CwLchLCMDjUtfpTFiZ0dFBJ0WL4TAqCP\n",
       "EQagXXiCylzWZsOnXvewGNHSBvdTMOP/AjdpKfhkIHQIsiM5KCPTFZS7RrcPsXh8aF0GxzijDKMY\n",
       "QxSThaDOWzWzuPNsYhmrxaAbHCT/BjelMwLeVTFrmSAoR6uauyznm9zuYCEQtqopk2ZErQUkvrGq\n",
       "ejnLNt1MEYpVZg36Um5qe9bGz4MfnGmrmkKclSrHo9GlaLRduh0ccxtTg59tWWoWmRr/ejVqupG2\n",
       "749Rl3sh2J20ego34Bbu00Z1t6NJXcy9tSYfRED3LldDnvIiW61iWLqBZtRZ2GIQeo/xTLCH+jTs\n",
       "2hkBSxSr9/VcCm4pldJNuEtGsRn9JjUUxVdlMjdrZnGnLFuiGB5QRngPlTTDK4AdctYxQZY/ilZ4\n",
       "3Ut9zUncTTnTtteqRj/yIX5sKefErbdrMVp7Xx8L1VGDUMLOrufzizjt+jLAoEzNtZzDmWnwxpfY\n",
       "QRhvxbDhcXOa3XnU86tVTa3pH83vif9KwqNM2/pOrhm8dC+RrJBB0JgKZxIGKV/jIWlIZN8MYD3f\n",
       "pku6ZQM3Qz7cNpGjHm2UUvtAXQV1i82tKVGXPdnGbs08MN2aIncsgxo/r1TA+HxVk7H9Xj1F270V\n",
       "BGxeFOYxRYk/iDG/KNa/43K/tgSS+ZfO/drKDSZXMutR+LcvUe1fX6LvTFyHFPxf/AayoiqRoMJc\n",
       "BAAAAABJRU5ErkJggg==\n",
       "\" style=\"display:inline;vertical-align:middle;\" /></a></dd>"
      ],
      "text/plain": [
       "<IPython.core.display.HTML object>"
      ]
     },
     "metadata": {},
     "output_type": "display_data"
    },
    {
     "data": {
      "text/html": [
       "<dt><a class=\"ProveItLink\" href=\"../logic/sets/enumeration/_theory_nbs_/axioms.ipynb#enum_set_def\">proveit.logic.sets.enumeration.enum_set_def</a></dt><dd><a class=\"ProveItLink\" href=\"../logic/sets/enumeration/__pv_it/axioms/79bb8ca92b7af1b2e5d8b1e86b277c8f104959270/expr.ipynb\"><img src=\"data:image/png;base64,iVBORw0KGgoAAAANSUhEUgAAAeAAAAAyBAMAAAB2exU2AAAAMFBMVEX///8QEBCIiIhmZma6urrM\n",
       "zMxUVFQiIiJERETc3Nzu7u6qqqp2dnaYmJgyMjIAAAAcRTyBAAAAAXRSTlMAQObYZgAAB5RJREFU\n",
       "aN7dWmtsFFUUPrs7s4/Z2dIYX0DUoU2QEE03RPQHUFpMIEaFXUxIf2i6qRCCMWQNaAERKyoUX1n0\n",
       "h1BTOxJSAz4okkYlEheKMcEHG4rRHwibACYSJAsUAwXEO/fe2Z07c3d2dsokqzfpvHr6zf3uPffc\n",
       "c74OgG2758Y1cNcOQg01KUXOh2+cr2A5cWuPu1fIWSdWsVnVYIrTVLeM55PTjq27Kxje5vYNk9nb\n",
       "Xv7An60OVEDdiWbcdCeWpxdJjwhH61lmXfxuFKqEbUY/y1x16C2PCX/UwtzW8adFTlcJ+z36+XxM\n",
       "HfKK8Kvs7TDcPMKyMhaX84hwdJS9X83c/dbZmXdPWKp31aW1nhIOxZnbCEOsbeqYZhhOuerStxkv\n",
       "CZ9g16wf8Zcals05gAPYGcalt02DyAQ7LKPBfu0wNJY58IjwKvY2nAP4FH5V1mk3wdJgBJFnZ1vB\n",
       "X4C28ljEgA6kdjiOx+ocbnHnG9Ooh4TFEdPoDgAcgsPqI5h96fnuBEQGmiHc9cRDZbGIgR7tNYJf\n",
       "uku2LnhIOGCKKz60J6jQTcOGNjM4aLWhWCbBLTBOgXnlO0oMaFuKrtrded05Dwn7UlbCAGSIYUvp\n",
       "eWsCZU+j0J6wIUwN6AxrwC4JN2W8I9yes7o0iJco+9LzIHLVQB4mgR1hbDD8S0NcX8PzDGs45bxT\n",
       "fTnvCDdlrEFrL4o8eD8KKEyUDqdggy1hbHD0LhivR+njMAa384bwK+aMKg7C1XAhQib+RYZwICVc\n",
       "x4Slf4AeduUNF9ggsi0No/o+PNMd4XCaEMbh43cbwvYG3HaneRmmQeqY2khB+l9TDYSljsYrZIY7\n",
       "tccvaCsgpV+sAWoQVIR6nfBplwVrgRD+QTudsSFsb8ANrBfNT9jU8rGNTGqJFikmHLVWu3v1VexL\n",
       "BLIJmlqm3RGOXSKEtaAZ6bIhbG/A3YYvmJ+UKx7QrC2HXS1kb5U5SQdQgz4IPZoYS/Gg9yoJdWhc\n",
       "5QEbwvYG3NLhqmX9ZMrWwy/BeoD3Xu5AOaTVVTRu2GAu+H+i9bC78lD3uyTEDu3c+b5d0LI3KO88\n",
       "DgQAOAswp1HfZHNWIO1QMgDhVnTY5FaE+ZtG6cvd3Wtto7StAa/5r1ge9Zbxheo1rVjGLeHLlPAS\n",
       "u0HTCC+pdlTlUajFdjcl/DBIeeMwrjgIk1JGwiYDB6l0bRK+gxIOgb+4ej4ZmgVfyWpANRI2Gjhq\n",
       "wUJNEn6OEpZzoWKQeLNHhX1KXGZc2mDwvyAcyS/SFPGFjZrzojY4+C5LGBvAgemTtdpmMoQs+cGc\n",
       "FKz5D7h0p55Lb1qMCLfmfBmSRQ7Knz3J5tKagV9dHkIJgjxOTULQRDk7KjIFsMyP0r0Vdm/H4bcX\n",
       "KiNx0PSgBXtQrtZzL4xTJSyYDEJ2iCWsGYjwl3bZMw+miPtZwpHtaT+zz/q5+7BUKVtzqrBXBMJI\n",
       "VrTbdcJYT+iAVhBXdXevR4R7QyxhIjiQaZuJLM1OHcgGmXQvNmJ+lybE11WaQZJC4SxDtO7BpV9W\n",
       "BMJI1oTsok44pmJmM0VIkRkWFrKEsYFYwO9ciR6ZCYdafInhfcdKLjXCy6WHK27feNSWaIcj1kCo\n",
       "cY0p4AQII1lSbumasR6OFGDlIHynXR4FOGath/vkvAxbVHheKGDCW9TIG/iATqHEAviiq+QW4nVe\n",
       "tbS6oqviQKAFSDYGEkxtMshIrwYnSBa9Xi8eaJaagvtyEEY1grCuBYJWwv1HDxyC5ADMnZLH700O\n",
       "iOMhmRHHixNB6HgHzUCbyXmMqzxtFuO57ZTusAJHff0T6C7iAAgjneKWNCbFYwpaw3aKx4CUCefI\n",
       "QBfrpyjsgLdRdnJ/S9FsnTm5jpvEeEMz6Ow4Vkbj/OJqj143lAGSGhXYrK+1IbDq9WTvqE7iiWaC\n",
       "2fkgNs0whv2v4VkhD/3wTSkdmw1WTYsR43/GCtxJvKeVhHgiVqEJ5MnyaMWIXToYB0gW6qFJNz7O\n",
       "kb6CheoJx0A4ljVUbrSqe/xH01+dUK2qJSPGG7zdIMQThb0BYDGvBFMg2KKDcYA+COR15ZsgmfV6\n",
       "X5eHMq1JL9B0aUaMN3iiQYgngvPH/FpFStOdpgyQ6lOgqLS0g1W+7lO8I8wT4hkx3ijwlYR40sXA\n",
       "AF9fmUHUtbJAC1Txkh1hL4X4QIHv0kUxniy9P6hCpwvxRJyO5Pm1yoeQLoLxgJrBX09KAoJklro3\n",
       "gneEhRF+0CqK8cbflYR4GmZeP8LXlZ9SimA8oA0IipQE/KDl5T/TYIVpR4ibxXiDN+hCfFFhX0TS\n",
       "DlaTR5O6VNXBuEAPwoIcLgkokkmv93v571JzmBbSZjHeEIyKQryusNfRtIPR5FE7WQTjAvU3zM7g\n",
       "koAinebGFY8I+7JVpJa6EK8r7BGVb9djAOO2ZloSYCSzXu/tJw/mj1psigeDEK84A+cDBfPSCC0J\n",
       "uMUD9Q+vPls6aQo4mbJifEmId6qw84FCubBCSwJeeRid4C3hzQmnAkBJZ3eqBfOBhIbpxetNVjSv\n",
       "P0yLpquWeGI3TeLRkMxoT4O3hNEmUVMt1uWQsOvPh4NKTRF2/Pmw+w/EH6glvtIz5Hz4xvl/ARx7\n",
       "Q2J1NQsZAAAAAElFTkSuQmCC\n",
       "\" style=\"display:inline;vertical-align:middle;\" /></a></dd>"
      ],
      "text/plain": [
       "<IPython.core.display.HTML object>"
      ]
     },
     "metadata": {},
     "output_type": "display_data"
    },
    {
     "data": {
      "text/html": [
       "<dt><a class=\"ProveItLink\" href=\"../logic/sets/enumeration/_theory_nbs_/axioms.ipynb#empty_set_def\">proveit.logic.sets.enumeration.empty_set_def</a></dt><dd><a class=\"ProveItLink\" href=\"../logic/sets/enumeration/__pv_it/axioms/757f0658d3467d1cdf19ddbca18f587272d75b170/expr.ipynb\"><img src=\"data:image/png;base64,iVBORw0KGgoAAAANSUhEUgAAADoAAAAVBAMAAADlb+D4AAAAMFBMVEX////MzMwQEBDu7u66urpm\n",
       "ZmaYmJhUVFQiIiLc3NwyMjKIiIh2dnaqqqpEREQAAABVi3StAAAAAXRSTlMAQObYZgAAANRJREFU\n",
       "KM9jYGBg4GPAAKkJDKKbQQze0+cwJK0OAAknASBxmmEXhmw+iGBdwMDA2cDwfAO67AkQwdPAwMAW\n",
       "wNDSgFOWbwNL8GecskwJrM4fccryX+Bg+IJdVgEkO4/hL4i9CgwCwLJVIILtA1A2YRtYFhnwKoKp\n",
       "pSB7F6ObzPhiAphm72bg2LyAGd1VLBC9y4EKzh5g/ICwtwAsXgezl+25ANsDnG5m6GDgcsDpX4Yb\n",
       "k08z4JY95jYBj+wFzLhnOASXxQbg8YsVcIHThgMOWYarkHQFANuAQxxgY/+kAAAAAElFTkSuQmCC\n",
       "\" style=\"display:inline;vertical-align:middle;\" /></a></dd>"
      ],
      "text/plain": [
       "<IPython.core.display.HTML object>"
      ]
     },
     "metadata": {},
     "output_type": "display_data"
    },
    {
     "data": {
      "text/html": [
       "<dt><a class=\"ProveItLink\" href=\"../logic/sets/inclusion/_theory_nbs_/axioms.ipynb#subset_eq_def\">proveit.logic.sets.inclusion.subset_eq_def</a></dt><dd><a class=\"ProveItLink\" href=\"../logic/sets/inclusion/__pv_it/axioms/d7449297494a795000bc445b03cbe0385e2bd3490/expr.ipynb\"><img src=\"data:image/png;base64,iVBORw0KGgoAAAANSUhEUgAAATUAAAAVBAMAAADV6mS1AAAAMFBMVEX///8QEBCIiIhmZma6urrM\n",
       "zMxUVFQiIiJERETc3Nzu7u6qqqp2dnaYmJgyMjIAAAAcRTyBAAAAAXRSTlMAQObYZgAABCZJREFU\n",
       "SMfNVk1oXFUU/jp/mf90ISjoYjCLhmCbgYAFqWTQRRUqGbtQF2IG20Ja0A40ZZSojFLIxB8yqzYI\n",
       "Nk+UpqZSCy6kbgxNxDapdaDgT39HtAsj2KG16R+lnnPufTNv3n1vFN144Lzz7s/73nfuOfeeC3SS\n",
       "WE1pJ0lUja51lzp/8kGnwaOkF0bF1Ll93mfeQa0kLxiDqZ0rAyN7gO3GyEJaxv2cipc9uzVehH1d\n",
       "ELPE3cs+KL9pJbmsu74vlUq71esq+sdgHodNbskj9ExbPqjpqne/wovXhRubKQ6dtyNIZZXy62X1\n",
       "p/0nWsPDtDBDWSQzBjcBnPKL2mmffo13TLixYe/ETQ/pqiolOTRYba6kLf3UdTGD+GqDmwRiyY/b\n",
       "q22tH0ulehveh4obmdTi7Ow+H5B9Wklq/Tk2QacXb1Lq3Euu/WpyOzc7+0nRb4O1DTzX58ZL54Qb\n",
       "mxuVyms+KD1agZD1lWR2l3N4BXh2B9l5k1t3pTI+54MaoCyJP7j9sWOyL5YNvGRWuLHZBkzIkHo+\n",
       "cXV+xM7V97QCH2NYsmqv4x/hlfO9Y/xygR/JP0Syilskj6gr45vtKHn5KX7IvMGNSNXAS9WFG5vH\n",
       "ZUvQ+58q6VcjaSfQmFYgh+ksWgeK8v8mJUWBXr4w1y2UNbbvxZydxZQXi/jOelKImniJonBj04WA\n",
       "hOujOzIjWEDilp59j1aEtwzsLLtjGiUXArd5f5ncUMRau3Vo/lEO3qB93K0ikhYqqvE0L3a9DS/c\n",
       "EAQ2yZr64eIu5VUGwbqbW4gQpdN5XnSTj4ErPty+hZ3xqXfe5+MnOZN1cAOuqMaUiefgFqs/I0uT\n",
       "UZ58lsc6yx1TikKXCvTv7cdRhBNhoyPfCprb/jC9JXs2b6OcEdkcLTtiivA1TdTEC6mYssHEVklK\n",
       "rJcZQ2t7C3DthRihpRvSdWCr5Tzehsv2XnCtW3QvrU5fpD4KHYRCsOjYC18GGpDDI5iBG8+xF/C5\n",
       "fHQW/TLjFLDGnj2vlc+46E3V9/y4XbN+Jt/uY6YbPLgl2NN8uoa4ritHAg09SodD6Ha0oe8QY82v\n",
       "bLzgnCCwQTdTj/9yclJW5F1g2j5gNyo9eHcZicnr2XYCL9/d8nBFZl7y4KbyqbuK8CuVylvA4Q3H\n",
       "7R1GwYq/2Nej7xcH9lguvHRenb15dokHgxamuQHaKENVs2Z1kHjRi9sZSSHkoTLkEcSuedesTeN2\n",
       "zdIyoxBmmh1PkZO12NuI3ULsAY9a30E8ar0uTo1TmMPXslYUwDt/V+u1tGq9zs8biE2+Hr4f31wd\n",
       "GMk1p000y4XNo1Rq3ZG0eNyR9IK+tOkhC1GO02QZU9dr7grhHYbWHan9Dut/t/SXCT9uWno53/7B\n",
       "3dLJfMF04Oi/uJOnzFVY81/u5D/xpX5UTJvU8H+SvwBVZVBM8dnIYQAAAABJRU5ErkJggg==\n",
       "\" style=\"display:inline;vertical-align:middle;\" /></a></dd>"
      ],
      "text/plain": [
       "<IPython.core.display.HTML object>"
      ]
     },
     "metadata": {},
     "output_type": "display_data"
    },
    {
     "data": {
      "text/html": [
       "<dt><a class=\"ProveItLink\" href=\"../logic/sets/inclusion/_theory_nbs_/axioms.ipynb#not_subset_eq_def\">proveit.logic.sets.inclusion.not_subset_eq_def</a></dt><dd><a class=\"ProveItLink\" href=\"../logic/sets/inclusion/__pv_it/axioms/265c02fa7dcd9c567ef4be3ae0723216331dc0330/expr.ipynb\"><img src=\"data:image/png;base64,iVBORw0KGgoAAAANSUhEUgAAARkAAAAYBAMAAAA8FZQ1AAAAMFBMVEX///8QEBCIiIhmZma6urrM\n",
       "zMxUVFQiIiJERETc3Nzu7u6qqqp2dnaYmJgyMjIAAAAcRTyBAAAAAXRSTlMAQObYZgAAA95JREFU\n",
       "SMfNV19IU1EY/9y809390QdJoYhBD/liCgt7KHDhgyGEe7K3FOyPBeVEbJRFCkWbJfMphSgnBYlB\n",
       "CT5UECT6YFnEKIiirEVFZJGitaZh9p1z7jn33O1OjYj64HfP3flzz+/7c77zDeD3JRv+J8n5R/va\n",
       "YwxGeWn45eg2Xyfk4gqb3JYQJx2TGSYOaEDZrfdOscbVlPA2ngI4YL6Oi9pOGyWeNuvpUkN5yAc2\n",
       "VIfjgfT9NPmoAWVa63oWbC5sZa9ZuE+FH66br+PiZrZzz2g67A8Gg372XgRg/QYq8uToJYZtNyfj\n",
       "KmMgr9NR2l66DzbtW1CH/qgpA6fHbJ2QJ6x5tcB8+Fl3rLKIJ2IOYBQE3LiLcyhDuHYzoFyroK2K\n",
       "WgtblGLXaw+o+WbrhBxl/hqely1FxYJdrlmAfhBwTQwO9mRwVI8GlFipjzQ25F3Chztwk0JU5p3Z\n",
       "OhHQAWYuy1fabpWGclGN/mPI0KcjGQodz8BmgwY0aPRujB/uAB9OAOw6iO2Y2TphAOa1ascibQPS\n",
       "UF49KEeIa8p07AUI00H23DE31sit2aUB4ArU0eg4jyd6hLs9MVncRkOCPJxfqJSBWKMZgGqh+pRZ\n",
       "aql6aaju0OMzJEZccR2VNJjxnZnSlQ9OHghtGgB80Ef36ZU8T9zeT75+M9U2uMYaJILEc4ZY+rbP\n",
       "ScddxJ26hmSsgI4csFD6l5kprfXgWNCmF2gApcHb1K55qld2u+UH0TGVTQGPGeSaReOt1lueTPNU\n",
       "B2GEZJUZHc4Yy/QTLew8eMAaT2WDN1MW7XTGYLPkdrDMro4NPtbTrlFpWoKw8RjZ2OO1VH1PiE65\n",
       "4YdN0VRPoQI5zH2fVKEdSTc24t4qKW7qQXiXsaGeciCa2QkfMqQbaEKe2QEdEN5Dzy5soXNqSopF\n",
       "pPEotg+JXDrQ4JHTTV07j2JZuiQ2NIoviGSu7quW042STIliGKbavoBSOucRwEY+f0wDyR+585pF\n",
       "PgSD7GZ4g9oUETNuS2UjjryfHVuacyIs+pV7/GZwo7W3d5JQHdEBeURb9e3DCHXQOYA+bs0qhoGl\n",
       "KXBEvrPEUcl3OkzuPDrzfSqbKrkYCoAa+RmFW0stxkm2abx0z1Jafh3gIiysUeijjPGQ1HSn3wxC\n",
       "TqflSDWwipthObkqgclOtFHM3gn2BbCvM7k1RaJPLwxWd2suI9KtqeWOJNgjJ5S1MD7nbfSJeWGR\n",
       "ovnOJ0lSazV8zKSikNfkGow7TrOi32BbqaIw1nGZq63MVWh4VdVWZiF0OdKKwuUr0TvpRdCfVqLP\n",
       "JRgktqKPO/+r/wvdf/XrvwBAgCVwL40pgQAAAABJRU5ErkJggg==\n",
       "\" style=\"display:inline;vertical-align:middle;\" /></a></dd>"
      ],
      "text/plain": [
       "<IPython.core.display.HTML object>"
      ]
     },
     "metadata": {},
     "output_type": "display_data"
    },
    {
     "data": {
      "text/html": [
       "<dt><a class=\"ProveItLink\" href=\"../logic/sets/inclusion/_theory_nbs_/axioms.ipynb#proper_subset_def\">proveit.logic.sets.inclusion.proper_subset_def</a></dt><dd><a class=\"ProveItLink\" href=\"../logic/sets/inclusion/__pv_it/axioms/e95bfa29563f2d409f4f144fe6c68968590429550/expr.ipynb\"><img src=\"data:image/png;base64,iVBORw0KGgoAAAANSUhEUgAAAWsAAAAVBAMAAAByN9JOAAAAMFBMVEX///8QEBCIiIhmZma6urrM\n",
       "zMxUVFQiIiJERETc3Nzu7u6qqqp2dnaYmJgyMjIAAAAcRTyBAAAAAXRSTlMAQObYZgAAA/FJREFU\n",
       "SMfVV0toFEEQLfeT3Zn9mENAQdFFD3rRLCzEi5AFDxFBkpN6EBNRIXrQDSKLxs8KgokouwdRQTQr\n",
       "igYFXfCgngzmIH6QxYAf/K2oh0QwIQlJjMRY/Znpnp5PEvFiwZuZnao3W11VXd0N4CVamcFLIoV/\n",
       "xbvkTYAHEirkxQcXw24OlG02ZWzfWKr1BMDuf8TTc0JniDn0IPpZVRB4Rl4OuLjdz4EyaNfOw/+p\n",
       "b4Lbs+K9ymazBxx5Gr/HC0JnOJsznuJDOK6KwAVCzDl7HUsykMfBok3djLFoTEI0MQve5SeuvDiz\n",
       "hD5Jh9Iw3oMj6eGcj5N4eSQQx89GS85uhwoMKLfqeSm+EVGrxVefEqBXz4LXL6kV3pZD7H5Q0mGg\n",
       "289uL/XpPKD63Z94vSIQe3rz5nmXGjnPQYqsNm2L2nH83AIc9deZeX45MApv5zJWKxlZB1VFCB6t\n",
       "eZ3m+fONkrykBSY6Og67uL2cAyBQfFgWIeEyBrB5D957Z+aFwJWnV5jSl5R14EOE24yIbIhM4TWa\n",
       "FNgF0ElV7Lp+pLfVaE1nOACuQXNCjVpw7MPKdlp35BL9QSXpzDsHbjysUFaj4bKsY6k1m0w6OExi\n",
       "XhFYR2cmPo+ydFRD1CjWdg6ANHQl1aj5sNyutODDPTXadl63Oy8EGv3/UEnWsfIxHgKgjZBWnxEI\n",
       "gY/m8eoUtfC3QGSSW9dwQHBHal9OjVoYR+f7RWa/6radF3LnvaQJx9aXlnXW9rcpVTdBXgwJRMvs\n",
       "m0/3s8EnwF9R/z6AX62oUZuPUfENe7pt8uQmqfCwj2wy3TZ1EM1mj2HTauFJgyWK21qFsoKJDmpx\n",
       "pwlWF9VkY/5C1WrUSIutIpXVINV2izMPvrvxIkm+0NAiMXVE3pv7AEQbiUJGADppCVXBGmrSuGql\n",
       "WVvG1NJKbJmyRo202OacObUksfPg+s6iM4+4TFxnU9LU8TwwuchXW3lKwl3aMN9BLTV5AbDCMO/l\n",
       "ID04/FON2mcc9kLizFrVbQcebD1pLFNW3hbDQdLVhI68MDYktKPncUD+HgGYTyKof3mep+anAbqM\n",
       "LtfA0D09AJH8eNIatb3TO+o6qOU31W0HnhCFR1O9jFeA0GFtL82y2tbzv4twfxqnXrxJAGLEEX8R\n",
       "uugOBqdxY8G+SJsiomY21YzH4u4hjEeXwaC6klnanyk3JDDZiFEva6dAmwRtscOWyEM8t1Jz4PVZ\n",
       "fwbs+ztpK8V76QRo+SPBRfB4JNWaNu06zcXTQxw2rjZelCRcyZLKC1vzE7elS964Wk8c7tt9d+n0\n",
       "PCbMnqdbw6vbCGRcBmzHnrkermJ/eSiLzflQ9laCRcrwn8gfSH55F75O+poAAAAASUVORK5CYII=\n",
       "\" style=\"display:inline;vertical-align:middle;\" /></a></dd>"
      ],
      "text/plain": [
       "<IPython.core.display.HTML object>"
      ]
     },
     "metadata": {},
     "output_type": "display_data"
    },
    {
     "data": {
      "text/html": [
       "<dt><a class=\"ProveItLink\" href=\"../logic/sets/inclusion/_theory_nbs_/axioms.ipynb#not_proper_subset_def\">proveit.logic.sets.inclusion.not_proper_subset_def</a></dt><dd><a class=\"ProveItLink\" href=\"../logic/sets/inclusion/__pv_it/axioms/bcdc43d7690485e4b19a3a7b99db8864dac8e5470/expr.ipynb\"><img src=\"data:image/png;base64,iVBORw0KGgoAAAANSUhEUgAAARkAAAAVCAMAAABFe2rqAAAAPFBMVEX///9RUVGurq4bGxsLCwsQ\n",
       "EBCIiIhmZma6urrMzMxUVFQiIiJERETc3Nzu7u6qqqp2dnaYmJgyMjIAAADYQjYbAAAAAXRSTlMA\n",
       "QObYZgAAAx1JREFUWMPlWNkWnCAMtYuCEPb//9cKiBIWwemc04fmYa6KkjvZCCzL5yIMxifRsj+m\n",
       "xDt98wOTkghgtNe4eTm/BIxRdtvkjp8a5hwjhAFQf8vEG32DgTaBQjoEEGqV3rbynWWswHjeuda7\n",
       "jBYP1vhviNv9X7Nv9A0G2gQqaRJAKJLBBbwzjCEYzzvrGgau5t5dDFDqwtd6m9c3GGgTqKRDAGEK\n",
       "lTt45oQLjNHYijjsWgOc89+/ON/zp9v5lnGBilzn9T0PdAh4mSGA0GjpRfCX5ZdjPGkcKimqL1q0\n",
       "whHWkwCPfrF0Vt9goE2glh4BhA68cP3OMhvBGGNTLsqZyp+wl187FkKasxSwZFbf80CHQC09AghZ\n",
       "4A3ZFPk1BUf0UcRLDWAwBg9Qn8BZzSAhQ3eos5wZswFXd3W413ebCan01d4fE2iVmQ4BhJQUy4NB\n",
       "8WhC3OmyEqRJeabbfyZc5sMY6HXInFkuV5Y6imEun3oIv0RPE2gEWo8ARv+z3ZaXBMUjCR+rsuKv\n",
       "FKN3xNEhEObuCBExZFkvyw+CKvlwuMqWlUiwWQL9MlMTwKgNMq6WPE9dHoKT2GVomXi12qIFA9HJ\n",
       "ck9s+6ZlOgS6ZaZBAOPRoGZ+3bcFsgllaIW2qg2ssyk9WHEwU9ZtJhaW8pbydp1hlb7KMkMCD91M\n",
       "TaBAEFmPynwyZ6nrtqNUsW7huwqgUHUP6humRuuamon9Cnwz7IKrCpwsMyTQLzMNAgWqzBRG+Q+z\n",
       "ucMrW2X8cpm72grIOy2raGO1tdGrdIUUiWTYM9Tr+j5HoLmf6BIo8V7opCVaQ1ZuIbwiXKkBh50E\n",
       "50LCqeMiK1OSrT/LPGQ27ebuOe0+sgzljwN9Aoy+IVCiuT4mMtjhJhpNQp2Y2h3UG/wfGhrNeblb\n",
       "nmjA53YHjZryhkCJmQNi0voCJSAaKfyuenJHWcXt1Ab+izvKz6S5o0RlLlQkAY6bZV+PaNHc+RYB\n",
       "WtuatBrDg8/U1J5j7hSiqwfE3xqmeQrxlAmfnFx9EjLwzZOrT6R08oDQ8BBy4rSTzvAy//q0MxEo\n",
       "sfv+8l/LH6VVMR9UA1rdAAAAAElFTkSuQmCC\n",
       "\" style=\"display:inline;vertical-align:middle;\" /></a></dd>"
      ],
      "text/plain": [
       "<IPython.core.display.HTML object>"
      ]
     },
     "metadata": {},
     "output_type": "display_data"
    },
    {
     "data": {
      "text/html": [
       "<dt><a class=\"ProveItLink\" href=\"../logic/sets/unification/_theory_nbs_/axioms.ipynb#union_def\">proveit.logic.sets.unification.union_def</a></dt><dd><a class=\"ProveItLink\" href=\"../logic/sets/unification/__pv_it/axioms/da0d86783977271e3fe9fafd955912b032759f670/expr.ipynb\"><img src=\"data:image/png;base64,iVBORw0KGgoAAAANSUhEUgAAAgYAAAAyBAMAAADVZQ4BAAAAMFBMVEX///8QEBCIiIhmZma6urrM\n",
       "zMxUVFQiIiJERETc3Nzu7u6qqqp2dnaYmJgyMjIAAAAcRTyBAAAAAXRSTlMAQObYZgAACFBJREFU\n",
       "aN7VW3tsU1UY/9b29t2xPwaKRGyGmUpM1jiEhEeoGiUaHx2JgCG6hUcUYrRIAgpIatSwgWY1MTIw\n",
       "ugpmKJpZXXxgMFTQxEwjDYOIMUITxMgSocCAMRjz3PNo7zn33HJK4804yXfu69zTe373O9/5vu93\n",
       "C6BUbhm5DJWUH2C0FX8L2e4fOa14x4QtWyv5wWBm1GEAj5LNx1s+V7xhbGW/V88fvidt5MtWOqxd\n",
       "VJRKKEd3mmzBIFDDq2FC2uojsnmqvL61XHHfnSSiVt6wFYMPotxhtfwxT5DNqSJWuE6ZGqaKF1Fn\n",
       "eQO4OSLlPZU9GLzKH/bJdTNCNqcKg67GtXlMueJFgCNDhit7qZSlnbZgEBjij1/ijg6vXo0H5SHa\n",
       "8cnsgpZ4cB039RcvXgR/z0Xjq6WiVtbZiIEnwts+blQLJtOdzWSTbYiWg0HIMWCcZVEiamVP0j4M\n",
       "jvLz34Eg8dctuxcrrb+fnZ6Ea1dqT7YcDB4KDBvX4AiRst6NLRi8yB960SA/hd/C65kpJ+VNXH8I\n",
       "zWFk7BOKGPij2hlhvSNr3q8n9XKs9Oo4ZBsG2oAAfxqgF/anHsSAFE6vxXUUOiOgNcYVMXCB76zR\n",
       "8sSJKLqKZ2zDwMl7B1AV1Ze3VmqQ9NeF31wtxmtx4/NIB1yqGMxrnDpohDtPRLGctA2DqhYzBgBU\n",
       "hTsKp2vJe4WqXBkYoK4mXjsGDUm7MGjOmucCaOcoIPxcQJc8NQyDaub3yPyDbqz7SFYgh+NQXaRu\n",
       "KZD7yL3EHvxd+sk6s3Zh0JA028RvHXnAi6IzbLSJvjRx/Mg4nLrCBMxmfope9ejVu8SvPHgzjEvV\n",
       "czaxDA21A4NXxCAyAq5L3jwNkday0/uoj+C9yDDwH9fDO+Q2+q+gnc9yrOqOoRb9zNNoT/q2xWEA\n",
       "ZuqoZYgoFm+cYIBR+1MBA7WGknKjcIwG6F80eRLtqus16hvPQVHTSD8E2i9EKAbw/qbHv9qo76zS\n",
       "p1ALq3z/fLnwGR2a9isp+GZkJbjDWg0GszpGRDWkzxMMftY3/QoYqDWUrEBnxTO8r/zwBs5XZjDh\n",
       "MrfxDulqO+kubn5VxRwJXx6NfQcQUQ2fzxEMdMPsSyhgoNZQ8sBnxDMlY6bCOl9G6USaEEpkyoyZ\n",
       "2KM1QTVSqmBaAQO1hpKI6ZJpGspj57ZiRDHtfLicn3gAheO+Z1Nlxs5MRZsg1Ltz52YVm6jW0Erh\n",
       "1HMoFRQdXG+yjBvO03VhsLV1ndK6oNTQXBwXTaf+r1za71SUyyDFYKlRCzmrKWAgNmyzfBd8N0Mw\n",
       "astEisF9VlPIKWAgNAwNyANlMXx3jmIMbqAYeMAhKOH8mVHHODMGQsPtw1IzM1vUaHd+9GKwgmIQ\n",
       "zHqMY9jdmA0kemG6GQO+IfSulE6gHZHrEANfbp4xu7drJwQOOCETbJzWOIPDgDTce3c9dsS0cKus\n",
       "17nexHU0F1azeKFtCZrcs+ZOcqDBufS3GFj4RDhj1gPc0JF6zoNnvBumoSol9triFN2boHxdeO9q\n",
       "z6dMlqisJ4EkEQubCD3oqUP3ZKuWO1pIuBqI9R6SYaA31OBfcuYPaADtexGDUNohqr5D6h/4LT1O\n",
       "xrEokyWWfoWRfllGhS/jGAZjkE+29TYYE0UR13aCQVBPTJowGIOdN/Ja/cd+aU+BR8Sge+ZPouqb\n",
       "1w+dY6m2HCHjWMgipOF9cxgUK148YdWTkX7pZikHrpxlGIT0gSxCu540zG9tbQ0HYr5sXIIBbqjl\n",
       "8S87U9AZM2MwHXznoO+7voU/FtVwQBYv9Fm6lQWOBTv+bn2wIbPnrGdM4IAYZ/DFSL8Ew0R4hbzM\n",
       "5Q/Gwu3QqaFZjvUA7g8zlIX8QWcwF4SOFDyC1CKLMehI+TbiCm1caGoOwxe5qvTuokYOy+JGOc8C\n",
       "Ro4FkyUajphNZgewHV8jxptcTxz94q8hIo2ZqF3JI004HIQghj0KoYxFDqXr4N5eaEp7B8HX/jJ+\n",
       "uKa0Nh6aktp4bQK0J6DjQtYd20FyPQaFM9qwuCXPAkaOhZAlJ7B3BrL5hA04bLbqiadf/qJiDucY\n",
       "Bq4W9GPv9AJs0rMZqG1LyTwSCx/xCyrEkgF2FnogXoww14tGMmLJs3AcCyFLeuReuZ5iI265zs1s\n",
       "q3/7zrDQk0C/7KNiXrJMuTQHsgdXzaWxVUZrmGFccthq1gW3wqKihs4Gcz7RgmfhOBaSGPQwxsWc\n",
       "XF7A8pD+TOgFT07oSaBfjlAxu2/Xlk8MyQ8s1umjKXNe2YJn4TgWkkhxhMEdlfRaB7CEJSSDqeCQ\n",
       "Kyn0JNAvX1Ph8k8Ju3KqzULiRecXLHgWjmMhRIE/LlnTcMqMRnC1+rcI1Ds19CTSL81UuPxT2C4M\n",
       "ZByLBc/CcSyULJlBMpmmqDZNk1q1RdfF2JNIv8gwsI9jceblc0HCs3AcC0sugzS56MvRCA4n55tj\n",
       "Yk8i/TKHirFsALswcA3IbaKEZ+E4FkqWeJ+U5xZfPwDMJgZSDSiQ4Xoy0S8ym2gf5wpCkE0/EpDx\n",
       "LBzHQskS7WlsUzHPUiRb0HxfU1j0Hku30xhsrdEJ4egXJsY10D7uXVwYKCko4Vl4joWRJfQjglWs\n",
       "8hD7Uk19ZKTgXXXbZmW5nsz0y3EqZkNlCwZVmav5yoxnMcJUIEssvg71UWR5X1nsidEvaHnBYix2\n",
       "fosjfpNVMmYid8RBmSwJlfz2htEvspiJKpg93+YdM6eeS9IAmGNRJkvaSl1k9Iskdg7cZCcGb8XK\n",
       "yKEYkaoshyICJYBl7zeaIn2olEtTJktUcmmhJBFjWQx2YgBTR2E+NZQoE4MKv913h0cfBmV/u1/p\n",
       "fzimjDoI/MvJdv/I6f8Af7CK6RsMFv0AAAAASUVORK5CYII=\n",
       "\" style=\"display:inline;vertical-align:middle;\" /></a></dd>"
      ],
      "text/plain": [
       "<IPython.core.display.HTML object>"
      ]
     },
     "metadata": {},
     "output_type": "display_data"
    },
    {
     "data": {
      "text/html": [
       "<dt><a class=\"ProveItLink\" href=\"../logic/sets/unification/_theory_nbs_/axioms.ipynb#intersect_all_def\">proveit.logic.sets.unification.intersect_all_def</a></dt><dd><a class=\"ProveItLink\" href=\"../logic/sets/unification/__pv_it/axioms/879f17462e1d77150833e1c6e9e581f73ab52ad10/expr.ipynb\"><img src=\"data:image/png;base64,iVBORw0KGgoAAAANSUhEUgAAAvIAAABABAMAAACKKI4oAAAAMFBMVEX///8QEBCIiIhmZma6urrM\n",
       "zMxUVFQiIiJERETc3Nzu7u6qqqp2dnaYmJgyMjIAAAAcRTyBAAAAAXRSTlMAQObYZgAADeVJREFU\n",
       "eNrtnH+QG2UZx58ku0l28+MKAzi9goZ2pnYQvANEQUpJYaZlFLxcHbB/dLxY7RVUbIDCyc+GjgMH\n",
       "iKSiUGCwS4u14sBFoWI5aoNFh5ECKQXF4UfDFGHAGTivXLm7Us73x+677+77ZjeR0L2evjN73U2e\n",
       "vPu+n7z7vO/zvN8GIOiSqspe1Q87rAKHbDnxsHaAjR+7GmVi4qMWtup51/XnpVb6NDikCyKv1IRX\n",
       "zzb/jU9M7G+E/P7BR1rXpETBVXu7nHzhkCcPs4VX4xmz04ODDZEfamWT1uSc1/flpiz5tOBH9SPY\n",
       "6YyDTv5S13UvTFnymvg4zy8FRj7pcn7q2NQlLxlVkVpg5Ndlndfp/BQm32MI3dofGPl+9zdRmsLk\n",
       "0xnh9SeCIp9wO5d5MIXJp8Sl8UAmIPLpouuFwz3If4/OBMXAMd7b1OAqMfLa++I8Nx4Q+R7XQksb\n",
       "8SB/NI1xh4ICnlqx78J+1GC9ue/+Ikbe7IGjwwcCIr/C3bmhSUwe2oqgHYUe1FJTn3rIJv8D8d13\n",
       "gyGv73OvsgqTmXwPcsorcrCryYVzhpHvEN/tKAVCPuV2fDHXg/xSX19t8pDHlFaV4Momh9c0Rn6b\n",
       "+LQMVAIhH3dX1dbpuFx83KQa89ej+XIUtGaXWW8w8j1lcY0xLRDybe65qo0sstbP/tnx+ER/Z3J5\n",
       "G+Qbf5uHMBod60+S5QK4cT4rA2usuGk7Iz8gZsCTI4GQ76q4nz3cNL2SujSGnUy0NKnIq/ueX3EK\n",
       "elBRGyvzIezVjqQyzXbqrzHybWIopQwHQv65rDuExeSTRnJcwdDjk2uGDY9DCj2FsTJo5XkQL8Li\n",
       "uqb3RGp2eP6oTb4iPh2jgZB/z53III5Qx73CpftdVCbPDBtHLvlDgFAWtfBwNH6//qW6pkYoA8Os\n",
       "Uzb5TtH0kkDIfwAy8uypXHtQxrzP6tzeL2jLg7aPkAdlHHpysNDDjxrqSGPkV5QCIK+NgszbAO4V\n",
       "LqHGyC/ZsTXndyuHjenjwnO3o2cu6fPJR/iAO7GXeBuc3T0WvMjPgzBL0iy0Z9iKZKlaDYA87ock\n",
       "gZQwOiCM/VAk0wh5pRO2+bbZYUN9mfYGqO1mcO9RIuyZ6MhBchgMPMPG83CDJ/kbkEnqjEWznDPs\n",
       "Osnu/u5KAOTDw8IyEzejq3ybmZS62oe8/vjJVYgZ/FQsTmGiDSW/BiH9IqgVv0Aoz2YlNCiGtXIS\n",
       "uYxIXjlAyOtYDED+DNS4E1RxVzU1vxrCX9tcr/U8dOVN8mRCe9WPvL9VIyUibPuGcDM2zlx/Bh0c\n",
       "G39kcOQvows2LtX60pYH0LdVgoTHTSQ2lPy16NgJUV9H9bblQCYuBnhqJiioKfrSWWN0zPfhFl6B\n",
       "w++8dXIV6cOZpbs/C2343X8y8l1Zsfp1NZP80/ifd/zI+1s1UqJC1jRec16feyOXPVhOg76iMhuP\n",
       "YepD8AtHS/pzVh6ugno2hDzxwx0Q42z5Tlr3ADjB/R7JHuB9vIXENQr3fsz09LAU5ptNN8nvNiTR\n",
       "5DSTPF5PaEU/8v5WjZS0sOmanOaRMesiz2pXNdlmdEMUdSJN3zrx31lyyZfKuEqr4myc5Mm+4zy4\n",
       "07T9rqsh+B60/N7dll046TiQpeQlEzTyX9GajkbVkTBXdWTMnpD0LDRkkk/j6b7sR97fqpESGhfm\n",
       "3HEP8uSL0j8Fdy+EOeoTqAUbzDfvKJBLftV0fyFMB4Zt4yJPppSj4Rxqu8SVC8D3ME/PER7MEvJU\n",
       "q80Qab3YVEQ6Vo1nQBuClZsdWeI360OYAam/PvDAnb4zrL9VQ2kbYa7WD3iQ11ehPu2cjqespcQX\n",
       "fKO/vz+j50AfYq6BTSGVKF0YcTZO8ijWwdtzC0xbt7/B96Dlm0JbinDWLDQ93L4KmYirlRRmNPMU\n",
       "9CcPx6O3b2Lkpb2LjVlrm9H+/mv81za+Vv8debxWq0seNk3suX4UIV6JnmOMOkoekzKoeYF8LBvK\n",
       "7dr6Cm+TOv3VCkc+mn+wvCaLMwDYViCP7mF+YIHQmKZ2A1P2bmBizJP8MvNbEp0XT960kgYx6o6n\n",
       "X7RXjiRcQZ+67dsXZvzJ7/QiD0ve2oNvd7lCB3kSX0SKsMnAl9rNsNaw/sRyXfC7Yoy3ScyBAkde\n",
       "PzLz8hsAvwJii8nbFaw18D3MD7zSigV0uzUri5PdiEX+bNBlBp1O8tRKHsScDQmG1AxXKNNr/MkP\n",
       "lL3Im2XBnBod5Lfg7ty+48uAL9UZ0F1Sp+M/M0BZ+hO0YFzssFlmbZ6bM8CPe6GEP4htMXm7gu4y\n",
       "uQf9wBdaRj4k61yckY9BmPdd6mVPwrF5gTy1kgcxV1l9Y+EKkNjCXBZymMWVTLjmT14vxauUfBj5\n",
       "cPOZRZf2ij0Bv4ZbURtPyPI2hfALPHmAC7QqhMvElngbu4IyuQf9QK1l5I+V5uHet8gnqzH26m+2\n",
       "nwF/SBoRQyBPreRBDHJc7Mu9lnmQS0VJh4Q88uC+5KOVr4HacbrDweHLLexyC3xfqcFGeLzqCEYT\n",
       "zzjJr3vdwBfYdtHeMldBooTvQT+QqLaM/DHe5LXaBWxyuOVuA7ZmOpOw/eTLTi7z5KmVNIiB15+0\n",
       "hzANV3C/R2ADHnvJWYuWMfKSPMRr/uSVV+QRf5U7O2+HBwaLfHwl+nOebVu1lyf2PTZAq8jLn2eb\n",
       "PNz0HXRrkuwhwvrNm3+aFP08sZIHMbDhM0ycbIYr+FPDs6bjf4+L1lZ6+HkmKffy8x+3OHK1CZ8s\n",
       "8XEtI79Geid7hoWHUSdpsod8R5uTDy6RkH+4UCeIwQ/EckcGjGS6kjUgGwk5TkUuI69f/smTD6Ag\n",
       "8vrV4EMeb0uQZI9OaG+GynYJeWwlD2J+idwIC9AylpowXoHdFHfJkzzcKR0Z+mh/5tDlPqd/nO7f\n",
       "ytbzNvkUJomTPeoP+/tXI/L3xiTksZU8iBlEiwYgUQwLVzDlMpxIM6X2Lk9IlivQ5MnD888vHbrk\n",
       "f34+6tT98vfsSMpaYsxVIU/HvLII+E0xOz8vD2JOBf1mGsWsNcxwBUUmPQYsV++6WRt61g7KYuNe\n",
       "icy+K2HKFaXvmroZM3PgkWTPn/HpC+4ojiMvDWJOw1EriWJQQELDle5yctVFsHimOkO/+NzjDVcQ\n",
       "UWcswJQsd9RJoVjkabInjhaSynVZmvuQkJcHMSY3HMWUzXCFre+dq//I/v+Th4GC09tYM8PqOhkz\n",
       "jyCGFBLFkAUbDlfYym2LM2A94E1euwuVwBhp3iFUU2kz0vEtUvI9RRn5+rlKjyDGmS8l4UpK9i56\n",
       "Aj70Jh/p7e39lhEU+U3yl/820dt/a9MieiyXI5I5gfy2zo9F/r8r6j5/bxMNbEnzdp3XR1FMlG9W\n",
       "RI/ziyQTKZAPRPUBH01i8qnOOsNlGDVqpFkRPfzJPATyZ+aCIL9qEpOPOW6curHvOnNyGiNr8GaX\n",
       "vPeZh0D+PQiC/Jm5yUvesdmprraXwigk31ZsWkSfztJDIP9BIOS3VQ86ec1n6mFnWB5mCfnhIXue\n",
       "b8tD4qiGRPQOA6yPwoebvLo3EPIDeef1s1g8/O4ei3yyr69vlZu8Y6+xXuF3KRULJQ77uF1NaUlk\n",
       "rbNbOSE/LwHsuXj23hwnoq8v5Xao7FM1erjJh/cHQj5WaH7M83uNdZvI71Kau2a/yEK34f8InWad\n",
       "XM0J+YFbQnYY8Jphi+g9pNymyt78Sgv0cJOPDgVCPjnWFHm8RebYa5Qt3wQZJT3TpmM1JCzxaxL7\n",
       "5aUjOCG/+mn8LNLXrye5byai95C1mgbmozpEDzf5UDEQ8tpwM+TJFpljr1FSRBklJR+rknz1Mt+Z\n",
       "sGSTZ0J+Xk6HYpB1+cZE9NTAm3xXNRDy8JbMz7/pJM8kjvS3p7i9RrtJTAUpkVFS8nj3GTndAq+Y\n",
       "lFXAtv/JPoYFzt4wVg+QsLMhET0x2PXiTNwmrINVJN5mhREM+d05/zHPZJRkrqN7jXVVkBIZJSX/\n",
       "JiGBFoOsOnkFibw9wzIhP5xkz4gjAM9l9IZE9MTghWNguscMa/0XgoNNvq3iT96SUepmUKkth/oq\n",
       "SImMkpLHKaJQRSnaqkx5BYrlWLbzQv4Yc3Bp1PttmXscInqXdp5dYQNtfQHwNkSkQg8X+dRIQOST\n",
       "7V7k02hVeYlhySjpFhnda6yrgpTIKCl5rDjZibPfTJUpr0Ctma8s5IX8+oVfMR3Ie/uqkFydcYro\n",
       "iWSeiejJH6yrJwbRjIJ9VTpHDxf5dC0g8pJfv3CNebBllMQPkL3G+ipIiYySku/VX9aOID/RYlUn\n",
       "r0DJS7MHylNW9sAsDhG9KZl3BAaGaRDKRSo5oiIkh4t8Vy4o8jItv5u8JaMkW2RkrxGTt7cfeRWk\n",
       "REZJyd+3KPXHLJEwWNXJK0hVfDJmZmEi+kdBGp9hpQwxWAexr+bqZsz2QFDk0xV/8paMEm+R0b1G\n",
       "TL67TLcfp4NDBSnKKCl5/dS/5DXyQas6eQURNjXf5NlwS0RPpNx6RswcAFCDBRB+pm6WONEeGHl1\n",
       "zJe8LaO0t8iwt7FX9bwKUpRRWjGVmkez5ee46qQVpNmLmzwbbono6fMhvo/nB9sAf1HkcJEPVQMj\n",
       "D3/3JS+RUWIVpK0N41WQHBrr2iKvfdSOL1h18gq22mFeK3cD/2EeLvL27ygefPLRTj/ydWSUKe6s\n",
       "ntLSQR5uxHFnldlKK9A7P+Hks4N8qtAc+db+IvS/6pFvld4m4rja4m0cNj5R7krfFfylpbRs8Beh\n",
       "9cFW/iI0XqD/zxZLWKEMDj72Hyero2hg2/EzAAAAAElFTkSuQmCC\n",
       "\" style=\"display:inline;vertical-align:middle;\" /></a></dd>"
      ],
      "text/plain": [
       "<IPython.core.display.HTML object>"
      ]
     },
     "metadata": {},
     "output_type": "display_data"
    },
    {
     "data": {
      "text/html": [
       "<dt><a class=\"ProveItLink\" href=\"../logic/sets/intersection/_theory_nbs_/axioms.ipynb#intersection_def\">proveit.logic.sets.intersection.intersection_def</a></dt><dd><a class=\"ProveItLink\" href=\"../logic/sets/intersection/__pv_it/axioms/bbac6a66e0cf05a4bfb9b31784209edb1c1eae0b0/expr.ipynb\"><img src=\"data:image/png;base64,iVBORw0KGgoAAAANSUhEUgAAAgYAAAAyBAMAAADVZQ4BAAAAMFBMVEX///8QEBCIiIhmZma6urrM\n",
       "zMxUVFQiIiJERETc3Nzu7u6qqqp2dnaYmJgyMjIAAAAcRTyBAAAAAXRSTlMAQObYZgAACD9JREFU\n",
       "aN7VW2tsU1Uc/6/r7btjHwBFIjbDTENM1mQICY9QMYoaHx0fBobENTw+gEaLJIKCpEaSdShZTYwM\n",
       "DO6KBnQarO6DYjBU0IQMIw2DiDFCE9QEEqHAgDEY89xzzm3vedxxSuPNOMn/Ps896/nd//m/fncA\n",
       "Su2+kRtQTfsJxloLJMj+yMgFxScmb9tezR8M5cYcBvAs2X2+7WvFByZU9/ca2dMd0k7+fLXT2ktF\n",
       "qYUL9KDFEQyC9awapqS9PiO7FyobWyuUjz0ZImrtXUcx+DjGnNbJf+YZsjtvvdZjs5j18mBFy+UC\n",
       "kcp+lTMYvM2e9st1M0p258vzc7en18UkXZ9Y177JPD45ZLlxgEpF2ukIBsEh9vx15uzE2rX41XmJ\n",
       "dnwxr6wlhzKgLZNY2A6A1ih99b3XrK+Wilrb4CAG3ihr+5LWs8XT6MFWsss3xRjN8GSF8bAevUj7\n",
       "uAasqyxGRK3tzziHwSl2/bvQ1AINK+djpQ2cNS9PJeqv7y+5B5+xKvyiAd1sbLrI8VPBYauGRIlU\n",
       "9G4cwWAde+pDk/wSfotsNE05aVvw9lNoiyBjjyfuxVeSwnjJ8s1ATLvI+Tvi8349Z7TTo3vHIccw\n",
       "0AY4+JF298ER/UkMSOnyeryNQXcUtOakIgZu8F+yWp4kEcVQ8aJjGNSy0QHUoAWrQ5oaJON14Tc3\n",
       "HuO1rPkVpANuVQxam2cMWuEuElFs5xzDoCYhYgBAVbirdHk8ea9QU6gAAzTUlNvHoCnjFAZteXEt\n",
       "gHaZAsKuBXTLW6+OQRDJauQojjdEG1YAeY48S+zBP6P/su68Uxg0ZUSb+L2rCNgp1kasNtGfJYGf\n",
       "KgYfkrjy2L0wUW9kbGIFGuoEBm/xIU4U3Nd9RZoirTcvH6Qxgu+agEHgJtp/VTA3pZs40ujM+Hcm\n",
       "YQDmGIjmiCg2X5JggFH7UwEDtY6Sdjd3jiYYWDptKh1q1yYaGy9AWdPIWQh2Xo0KevCacZYwN+bN\n",
       "QOdNHb4bWQOeiFaPwayLE1FN6YsEg8PG7qwCBmodJR7oEn+FjZWfbmdiZRMmQ7NJ4CiMmC/fpDod\n",
       "d6X8RTT33UBENX2+TDDoksdiIgZqHSXhwUVprGuXM5X8fAWtG2lCOJWrMGcyf1oL1CFVDGUVMFDr\n",
       "KMmYrgvLUJ47d5QziplXIpX8icdROu5/Sa8wdzZVtAXCfT09W1VsolpHO4VTr6FU0QxwfZkKHrhC\n",
       "/cJgOr1ByS8odRSb65pw6f+qpf1ORbkNUgxWWLWQsZocBnzHDtt3wQ4zBGO2TaEYPGq3hGo5DLiO\n",
       "4QF5osyn77VjGIO7KAZecHFKuGhOzDVRxIDr+Mmw1MzM4zXaUxy7GKymGITyXusc9jXng6k+mCVi\n",
       "wHaEvjXSBbQ7egdi4C+0Wqt7e3sgeLQWcqHmmc2zGQxIxwMPN+JATIukZaMu9KXuoLWw1swXOpaj\n",
       "xT134VQXmpzbeIvBJc9HcqIe4I4u/WUvXvEemIk2Oj9qopYPb0Jyv7DjVr9PmSxR8SfBDBEbmwi9\n",
       "6FeHH8nXrHIloA4/EO87LsPA6KjBv+TKH9AE2o88BuGsi1d9lzQ+CNhGnCbHokyW2MYVVvplJRW2\n",
       "TTQxGIdisu0PwLgYyrg+IRiEjMKkgME4HLyR1xo4/UunDl4egz1zDvGqL/oPg2Ops52hybGUnJBN\n",
       "T795cMZuJCv9socK2y6ZGISNiSxFh94sLEqn05Fg3J9PSjDAHbWihle5Dt1xEYNZ4L8M/T/0L/m5\n",
       "rIYDsnyh3zasLHEsZuBvUxiti4p5Btus9EsoQoRVyBtM/WACPAjdGlrlWA/gsYih9pL6QXeoEIIu\n",
       "HZ5BapHHGHTp/s14g3ZutDSH4ZtCTXZfWSOHZXmjnGcBK8dCyRKtXZfOcPEbtCyVsRmJoV8C9USk\n",
       "ORNVrCLShBMhCBk2PxyDcM6mhrLr2IE+aMn6BsHf+SbGoCWrTYKWjDZJmwydKei6mvfEd8N0TuGs\n",
       "Spy05VnAyrFQssQzX54/LW8g+612I7H0y19UxHTOxMCdQMvqgz6Ad4xqBuqbGLWOZKaPeC2Ucsmg\n",
       "eRV6IVnOMDfyRjJqy7MwHAslS/aANJEOFGi0YnAzOxvffyjCjcTRLwepiC5LqKW5kD24ZS3N9DJa\n",
       "02yryzG92S64H5aWNXQeiPVEG56F4VhoYfAwqd4IwViWJvJb0NRz4Ve9BW4kjn45SUUM326vnhiW\n",
       "n9j46VO6WFe24VkYjoUWUpLwkWxUL4rZzIJkSA8NuTPcSBz98i0Vpqaacqqm2sYVXgx+wYZnYTgW\n",
       "QhSEI+CRVQiP4kQWMC8RABqdWkbi6Zc2Kkz9KeIUBjKOxYZnYTgWggEyOVpCMiryCq0mBmboYh2J\n",
       "p19kGDjHsdQW5WtBwrMwHAsprPbKo6Bg1IyzcHG+Lc6PxNMvC6hYWzs4hYF7QG4TJTwLw7EQm3iG\n",
       "4iCJNYNRahODehNKZJiRBPpFZhOd41yBS7LpRwIynoXhWDBZgj2E4YIxz1ImWxbT9YAd3nPZTpqD\n",
       "rbcGIQz9YorVBzrHvfOOgZKCEp6F5VgwWeIxDIfLeL0Gz1ImW5YbZzhKQgq+q2Hn3Dwzkki//E1F\n",
       "NFSOYFCTu1WsbPIsVpgIWeLG56JjwDZVE2NlfiSTfgkYlB0XbDn5LQ7/TdaoORN5IgnKZEl41G9v\n",
       "TPpFljPRZMyZb/NOi6XnUWkAzLEokyUdo9006RdJ7hy8x0kM3otXUEOxIlVdDYUHigPL2W80efpQ\n",
       "qZamTJao1NLCGSLWZn756AwGMGMM1lPDqQoxqPLbfU9k7GFQ8bf71f4Px/QxB0FgFdkfGbnwH4MN\n",
       "h4a7q/OFAAAAAElFTkSuQmCC\n",
       "\" style=\"display:inline;vertical-align:middle;\" /></a></dd>"
      ],
      "text/plain": [
       "<IPython.core.display.HTML object>"
      ]
     },
     "metadata": {},
     "output_type": "display_data"
    },
    {
     "data": {
      "text/html": [
       "<dt><a class=\"ProveItLink\" href=\"../logic/sets/intersection/_theory_nbs_/axioms.ipynb#intersect_all_def\">proveit.logic.sets.intersection.intersect_all_def</a></dt><dd><a class=\"ProveItLink\" href=\"../logic/sets/intersection/__pv_it/axioms/143cb37173616ba75dccd025ff3608a2ba5b6a8e0/expr.ipynb\"><img src=\"data:image/png;base64,iVBORw0KGgoAAAANSUhEUgAAA9wAAABABAMAAAAaMmKLAAAAMFBMVEX///8QEBCIiIhmZma6urrM\n",
       "zMxUVFQiIiJERETc3Nzu7u6qqqp2dnaYmJgyMjIAAAAcRTyBAAAAAXRSTlMAQObYZgAADp9JREFU\n",
       "eNrtnQuMXFUZx795z9x57EIoEQoy7CZYK7gDqyICZQpJi4p0WgPWhLhjsRSIyCiFxRddGwMDaDvV\n",
       "CAXEvbTKYwU6Iqu2S7MDxcRAS8cUBLSlgyFGjNItfdgn63ndc+7jzH20287uXk8yszN3v/v83fud\n",
       "7/zP9+0C+LNtky595ITTJu4phU44QQWleLSbCY+OfjDR6aazxu/Bhhz3xD7LgApwpZVfjv6Mj44e\n",
       "dIP74NCzEx33703fZ6pSs8cmPu6g9fFeyjgODbnCPTLhXXdiivG7MgUmK274j9Vn5bVPU/2BO2by\n",
       "5dHi5MW9wuK4wqf4DPcrpu89lcmLW3Irz/AX7sRu04J/wOTFHTlgWb6m6ivc8T4T/v2TGDf83bI8\n",
       "1e4r3MMm3x1qTGbcf7YsV973Fe5/mi9L1g538qs7fzweeqC6F+u1And/3vLbzaqPcEcOmxb0F2xw\n",
       "J3bc1rnj1tYd7V9Gryvj2+1xT2tFKxx3oGb5bX/dR7ij5hPYDja4V6BrEl5SaN3h7kPHgKLrdz2t\n",
       "pDQ47qi1q8o0fIR7jXlocr4d7m/iaxZrb50vQh1tdA+kc95We4HjDlp5Bff7CPd2c2d2u/Fr+q7e\n",
       "Ozju5G7tmreoYTSx/RCreFvtEY47aR13KId8hHu5ecEu4+O0VNU93XHq95a1btSIHMtwH9zvcbVM\n",
       "XsMdkSjjb/sI9z7zAvLoKh03XIo9IDyt6p15jDrRzS072rYiJE8G6ERH2JmVSKK6tuo8SJyqja1z\n",
       "Gm7lsNVyc8E3uMOHzK6NXI8n4fUs8eE3GPpuFtdub9nh9tx01i4EBwXnqXA7dNmZ1maKjjrd0HCD\n",
       "pCOak/UN7pRZQk0Q3C+h0ehn8Ye+8YW7S4W3ELbvAjwUakAZIn1NR+bVGUIwTJY47kOSaLXPN7gz\n",
       "ZhGZdm4qupTk24ffQ2384P4B8ufoGE5CRxjIwvuR7lLTwRecCG1Z7aRGOO5dVlM20vAD7raSFLfm\n",
       "9BLH5el2iLMj4uNegP4iwQ1z1MgeCJeakzkAPQVXuKP7fYO7v0/qzAFdStLaXeG+ZuN6R+klsvHl\n",
       "18RlY+OqizYgCCmHNZN8rIglwOEcceYwA4LtdriRsz+T7447c0XizIOHfYN72CxY0BmDdSjKmY4/\n",
       "nOcGdzgHw457ugyS4lrF6a31DkRONYSD8nYBB4Nuws1ZBYdqcCfEi3a40W/vhC2vdeQMoVpCEpmn\n",
       "D/kGd1fWvASfe/hgfITOQsSq9riV57rrEFMZvybt1xsuBviOPu6j5iuQF/8URGpOB/kojzTQ1R7O\n",
       "PgQbAK84p05wr0EsFZwfSt74t1AxfBhePR1wtkqoZjfuDu9luImqsM0Jt7PV+G2XVM1LTsYXbsH0\n",
       "TnpCyvWfs8X9xtoBFABUIGmzj/S9D6JLjTrIqgn39wHPSEYd+4EM69xDO/bWIbU0C7PxPdBxSYXg\n",
       "jqEbCW4D9hZDXTv0qvgcOvcnVpUAx6KZgoY7vFsSxH/AcL+Mf/zLCbez1fhtN+fNS0ySWfhPOhGV\n",
       "4760iJ9WLW83c1pecmXOwk89deNEu3pR72mJa8aBQRfEgG/O0MTCoHm6k4qoM2inDOusvb3Keu9o\n",
       "NtxOD53hTh+QXISdDPdKU3Aqx+1sNX7bDktU/HwzUz3u2oFIO9yIQFMXcO7OPERNEleqTZ1LPxHv\n",
       "B6vPOMmEO1MkzO4HvjmjToIXUnpFs7/IQbSh7Ga4rZ0BDv6+AWvyECiEagX9FElKNr1zBsOdwXFj\n",
       "1Qm3s9X4bWeoluBNdcad+GUp2HcNirJWs9/dV4o8b1rvwdkwjd4MLBpMLDLhxiNoOA0uB745g4vF\n",
       "C9lFtjxLd0OsHs9S/USxhB+wivQUS9HAA2KfL+gnQDPFphdhKqRfGhi43zFUc7Yav23UqjHVXTzd\n",
       "oVo0i13tl8rlclZBF3RE89yiXQQL6Ojp9nJ5KfwKbdmEO4A4pdthFvDNGUdSeCHdQsN8LI9DuOOT\n",
       "6JY4f28W0tZDxadwaSd6rGdBcBPam0hvkJ7dkgqLzPeVy99zjswdrSYS7njRBe5YPlDAfKLE11Yh\n",
       "UrTiXgxT0hduQ2uQDQ4BXA1b1m/V4Y4Wn6quyMN84JszdtBoIV0hbDkkb8lLbwLHPVyxw70Q+w1r\n",
       "qxlxN7FqXXOQqQp2uNPtzXGn6JpfhFhhDhlakQWhPnhcJbhXqol7tDe4NTySnAbI2/4Rr/NpUO6B\n",
       "Z/piOtzKlOzf3qEzbWxzYgPoB15IV0jXxuCaUNwzpAFMgeG+jPp9c8sZcTMrqbZkEJOoioTWWn7t\n",
       "9YYeJz9GnN3JVM/a4VYONsctTnvBMsrnXoz7pxs/AwT33GrkFJhbwW9VmDWtAQvxHEYcxzUX4COL\n",
       "FubrB2Krf3QdujPRinxzfAORqWQhXSGUHzPcUi1luYY7ZhwERG55Ec4sWnBTK7m2pBeTmIpERptg\n",
       "cP8kFomWy3cd3Sm5lKlC/OlXdlp/+3EXuJ/AwhbmE0R9N/O9+HKKgLWqVOJ1KAVfRZ+nlVnhXQzO\n",
       "yetwI/+OvHKwKjYnNpAkC+kKGRgr3EGp61qeZ7hT9ZhBG/pDSg2pFtzUSq4t6cUkqiIBkYRgkQU3\n",
       "sL7wyJtLmUrUOctwBwrOuL8ebsC8XfrRSKTrQsSI30fJSrR2JdpRcpNRHnuubsDd/7aKT55vTmxg\n",
       "LVlIV1g/ZrgDdVvcicbVBm1ofTaXgg3dt3RX9biplVxb0otJVEXC7VsAJx4D3G5lKp7IqYxKRLCG\n",
       "M+4vbJTrZ7pP4a02d52GO74Yb0xsLq0LrvlCJTdmuOWei+OGu7+GjuHieZ1MGxoc/EnK2ncTK7m2\n",
       "pBeTmIqET2APrMY+MNU5b+EY4nYtU51j03fzkmc73EfbQgYNzCGyDKpjhTtxCtiGavBbFFmmZ9YD\n",
       "FaoNDaaeukaCG1vJtSW9mMRUJLzW+51kx9OjjcUCd7C7+1zT2vPO/pjDWegtXMtUv7PF/VjhmONu\n",
       "QcO4H6s64MYJEQ9+BNpU6lEGobZBgpulTUi0Jb2YxFQk/FQ3aDp3IVPXO/OBAVN1RKLmFHYZLFzL\n",
       "VJfb4k58W7qrNeWlExd2sLxcJTlusraE405jfAtgJtOGBuHhmAQ3tpJrS3oxialIuMuqsVmltkrT\n",
       "vntLdw6SWbshmsXCtUz1FRsRFbWfSXcXuerLExd34qqrEKImF5PLLLRNgYsiVBsahPA8g04h5rvl\n",
       "2pJeTGIqEqZcBeq2e9imBO5nsiiMuVFTNJZ9FMz9AzEgLoJbaM21TDVLnKldv7iotwKTrs3utYSQ\n",
       "2hQJuzNGYPEg1YbQKHKrVUSlz46mLQlhCb0JMWmlylSklSr0qLAo8sA9iZFXmEAncD+buxqwG15F\n",
       "d/1Wwdw/YAPSuIUYYFlkKsOxCJlqq0lhaNJKMBlboihXkjXc4SKcXSfaUPiOvCl41uHWtKXIVCYs\n",
       "VdAnISbNrTIVaW41teQGmN8RmarcdMXZqklmCVXPIaAu70au+gE8hjY5DGxAnlFuQZVpqUxlOBYh\n",
       "U32Cb+2S6v9xK/8FieA2TRaqmJOXMBsx+k7qxaQqU5H4ODxpHXfj2dR3Cagn8ZdtECyQOwj3H+St\n",
       "QAzIM8otqDItl6n0xyJkKjGy7qqPZ9wP23PzXOS9Voo7sg+a6qv2uIm2tNawC01MIqNLrCLxYeZa\n",
       "Ge50RzudfMCd/KaNL5I7aIWaKKHxVaKUOJUYkGdUWCwU2fVmmUp/LFymSorrNFyzxU3ky3S9RbSV\n",
       "PuniIy/yJoXeFtzJXUeKmwlC1k9MMMIqUlryW3FeDydr9LnEcbfmMMQzWiUG9BnlFlSZlspUdZlM\n",
       "tVrsuKdoi5tkbWTUFuHONIkUj7jIm8xkWXAf/8RjMbL7eQeAMaY24cYGXHumJ2JSph1lquniY1vD\n",
       "FjfJyVrZKl++Rb74KIq8X5DhDu053rhNSpl+8oH0D8esxUbs+26ccflyq3Ab5Z43envpvXkURd6P\n",
       "yHBnRlqL+zg2dmc3xb11YOCJVkVsCcOO53OfdBRF3vhlwc0Kp/yAO3nYHncbGhzWxnifbnNtgjld\n",
       "obkiMrs9FHnrDXCRN35ZcPfkfINb2Wv8nnqPtJyGO1qgiX2G5qYkzGDDxEuPuTbxuq7QPCqOwlzk\n",
       "3bzq11AFjid28cuCu6vqG9zQa/90h3PwtOWcXZSEGW0oD6+5NrhgiRea6zJHTEXeNlW/rAqcObIS\n",
       "fVlw3wz+wb25Yi+zlHST4+5KwiQ2FLfXXJtAXhSaw1zsdGioZirytqsLpAYs5h2hLwvuD/kId3/W\n",
       "Hvcmg7bmpiRMYkNxe821CZA+gNHSjQY9FHlTA3vc4cM+wp0pyfruIsf9i0gR3JSE8VQZmQ3B7TnX\n",
       "hlSfarQCYmTqocibGNBsJGIWljjz6AEf4U7vsX+64/flwU1JGE+V0dkYcXvOtcGhGi80D3Ev5KXI\n",
       "mxjQbKSmoVpbzke4ZX+bRo87eT6Ai5IwkSojbEy4PefaoFGTKDQnDzNXRSxF3sbabvyBvmEDko1E\n",
       "i7zxy4x7e8FPuJ9XbXGTvtNFSRhPldHZGHGjqMlbrg3CKArN4dEf0j3Ki7xJSTep7eZF3qTumxjg\n",
       "bCRa5I1fZtzsLw35BHegZo/7rwBuSsJ4qoywEfPwBLf3XBujiHrFXUxE1VYwFHknrXftOtZ702wk\n",
       "klpJ/mqzEXd4j69wSwvcdbjJlZWWhMlTZYSNmIcnuL3n2myxP3CtyBsPpmXiTQ2oAc1GajZFksn5\n",
       "Cjf82xm3vCSsSaqMsOHz8KxX95prE7eXW1mRN6n6ZalchvE7WkoMaDZSswnQ36j+wt1TccTdpCRM\n",
       "niojbPg8vKZyesy1UfpsD5wVedNmTcHAeQU6A3zvxCXpDaeDv3CnS464m5SESVNl9PKYNg+vYfOa\n",
       "azOWyUtvspcJt/hXUz7BDdc64m5SEiZNlZE1DbfXXJtj0oy4XwdPuCfBv3zNNMtG7R2rPHND3omH\n",
       "XJtj0Wb36nFrVWMu/+WrMjTx/+WrUgDftgS798JDQ+v+BypRc/mGE4s7AAAAAElFTkSuQmCC\n",
       "\" style=\"display:inline;vertical-align:middle;\" /></a></dd>"
      ],
      "text/plain": [
       "<IPython.core.display.HTML object>"
      ]
     },
     "metadata": {},
     "output_type": "display_data"
    },
    {
     "data": {
      "text/html": [
       "<dt><a class=\"ProveItLink\" href=\"../logic/sets/subtraction/_theory_nbs_/axioms.ipynb#difference_def\">proveit.logic.sets.subtraction.difference_def</a></dt><dd><a class=\"ProveItLink\" href=\"../logic/sets/subtraction/__pv_it/axioms/c93e4bdf91cac3b41b97d3e742a6faba2698054a0/expr.ipynb\"><img src=\"data:image/png;base64,iVBORw0KGgoAAAANSUhEUgAAAZ8AAAAWCAMAAAAo9GECAAAAQlBMVEX///9jY2MJCQkNDQ0rKysP\n",
       "Dw8WFhYQEBCIiIhmZma6urrMzMxUVFQiIiJERETc3Nzu7u6qqqp2dnaYmJgyMjIAAADRR/RZAAAA\n",
       "AXRSTlMAQObYZgAABC1JREFUaN7tWcmipCAMdFYB2Zf//9URECWAIjr95jIcurptSaoEkoDT9L99\n",
       "ZVv+mWdhIA51etaUgPgRii2HzxWx+2oi2v1/8+pZSQ5xqNM2t2y3g6HOUYwp58T/pJsUKj5GEVLr\n",
       "OurYXuiAmoBapbutfDM+VkAc6rT9cje6zPEBYOcjhdwem7QfowipVY7EpaKqYTKgJqBIAy74m+Ex\n",
       "GOJQp+2Xdf0Zsri4yokLfTWKlxP+dYoltdKRxReKuuGtoyZgWjbHQnrSmIDYVMnZ2mzdKc4WhV1/\n",
       "YqPtHuOCBjlvnecPUSypFY4WzmTLx4nt37+g7Y6agEZL3wR7VRwwiK2Zz5Fsd9ror2xJ1xGfN+bb\n",
       "c7FbF0s+QrGmBh1RgtCpoto2F2NqAjruG9NvxgdhiBIhKgjKooGs0xvKgwGRk3L9CsWFBLswmlY9\n",
       "hviXKdbUgCOfIVjDx4ntKnv11ASkoSbnpysz/4dwh/VacJQ3cwNQroNtGJqy1dyofHg2HJL4aNzN\n",
       "IoujxiDO1JEZIHpRNmv4HcWamsmfsc8JeV7o2EZoUE1Agi8rIAOijgkrUpfhPrnYUK/zQa8plRyK\n",
       "G9UHy5R5H8L1F0EM2HJOdapiEC/SzxOKNTXgyH8XtvJxZrtcn101Ef0HOgstEoOog4MpVVZaMwHo\n",
       "/+VwbzPvU7rqFPYFeN0HOJ7Fg6wtZcBelak0BSFeFOZPKNbUckcmrAe6lD5ObP/8UdjuqomozcW+\n",
       "VkuWz2oWKGF7LT7EVrCYW9V7dnP8Ntt76ccrQi/H5x7FmlruKGb1bM95bbuqkLtqIq4rNPnQCC8o\n",
       "mxDTgsBMkGEjhapEWgSPYBoeNc1X8S31nrvpZ1vLNAVdwiCW+Ye+o1hTyxwpXO5Jr22zYTUbckHj\n",
       "DWsJSO3EsoSz6sOZXeLQmtDoaarfUMl1TkR7e2BE5/WBUDcPENJ+YdnDTaM+OCtznlCsqWWO0rgo\n",
       "XPho2yZ4WM2GKg3BOuYWJCKjpuhqn5vBcBUNYWFI1njKXXFWyNRZp33XwHsbVBtnMZl5Uo41xPP2\n",
       "iGJN7XC0cBjnerbpMqwmYRYswSOSFmvNs2KAhw7ClULggpQUIYkwPHCVlBPZ6CS5cyFeqvULu6rg\n",
       "qE3HiYf7VDvY7sH9A4otaocjuoeZvW6+tP0dyr+jJqGRU5b+DqlYhtE4LsSBIfU8v3N4QjS/ON95\n",
       "dmrOIL4936konjncC4cUd7q2zbee7UpNqUq4EMC0rzf8yJA4A3waixdEWEpi1p84H33Svuh8tHY4\n",
       "roiLYTWlM0kN0cjvrpZZ+ZjLQ2nomIkXNHN+L8DJhXs+sib4ywU09n7hEcW2w3FFN146Nd8vnDXV\n",
       "vdD2/+L93Hgbe+Iv3s/dnlCntpEZVnPlrHqT2321+w/ebxsBcfoExZbDB4r4sJpLZ6Z74X/7ivYH\n",
       "3sdS30T0azsAAAAASUVORK5CYII=\n",
       "\" style=\"display:inline;vertical-align:middle;\" /></a></dd>"
      ],
      "text/plain": [
       "<IPython.core.display.HTML object>"
      ]
     },
     "metadata": {},
     "output_type": "display_data"
    },
    {
     "data": {
      "text/html": [
       "<dt><a class=\"ProveItLink\" href=\"../logic/sets/comprehension/_theory_nbs_/axioms.ipynb#comprehension_def\">proveit.logic.sets.comprehension.comprehension_def</a></dt><dd><a class=\"ProveItLink\" href=\"../logic/sets/comprehension/__pv_it/axioms/31d5de131e6a5e1e9d3d1b92a5eb5a7668ad0d1b0/expr.ipynb\"><img src=\"data:image/png;base64,iVBORw0KGgoAAAANSUhEUgAAAu0AAABABAMAAABcjVRNAAAAMFBMVEX///8QEBCIiIhmZma6urrM\n",
       "zMxUVFQiIiJERETc3Nzu7u6qqqp2dnaYmJgyMjIAAAAcRTyBAAAAAXRSTlMAQObYZgAADcZJREFU\n",
       "eNrtnH+QHEUVx9/+vp3dvbuiEi0C6nJXQArBnIkIyCXZQBWHUHKbWIUUlTJLygShKFh+eRCFXOUP\n",
       "uICQjaggFt4QNCBKbhVODAGzJKgUhMpqQLD4tWjQUhHOhARyRzj7dc+Pnu6emdu75eZqtat2d2bu\n",
       "bc/0Z3pe93v9vQUIuLwKzVq0wtS+Hx0f/7BhF/NHYT9ca1rucJ6wf6bxuWF8vDwR7mPbHmnUpaSK\n",
       "woElevNyDwsdviXLPs/dtn1C3Ecadykb88KzOBuauPxbaOwscys03dyvEvbjhWbmvlF4mJeUAuKe\n",
       "Fr35ilIzcxd7VaQWEPfBnHDgb82MHWKjgqMZC4j7gLCfPNTU3OEvwv6TwXBPiZgjbrPIzMIpnurC\n",
       "KffV+Q2Yaf1B2B/KBsK9tV84EMq6hBxvcc9EtZ5TbDU+nxKO31NX/8BRJ9qAqZboV9OjgXBfISIc\n",
       "zLt0d3ZKbf5pAA/UN5SVnNy1zl346Gj9ddVyCb4tmnqDQxXBrx4OhPsV4oHX3eY9LLyKP0sGon/U\n",
       "F5zXnNx/n4c4Yd5a37xpC/1qAyY0oh99Owju2kHxyCne3IfOyUGmq76T7HBw30Iarh0NsKfO+W62\n",
       "MdzDIrp5pQC4Z94Vj1wnGNzcdyPPfTt5Jeqc4d/r4P6Gzh6z6+vsIe2N4S5NJIYqAXBvkSra75xC\n",
       "rNOd/R1bfme9Y3eO456m/nR3KVmss5a9jeEeGxOvrj0A7m3S4LYP3zYd990T6bxmi+70M3s+vgCg\n",
       "E8fGrBRyO7snZ5Du4rgP0noW58Lk4Kb5kJzjdXm8wU5usj0Vz3pYdGAHAuDeW1FdllbJXJWoWbMI\n",
       "fjzC23IbudhoO8zzdMecQabGcd9N7+eGfAuZSFWWyO7WUXiD1zwG/XrKPpHlvgC47xazBHRaldbT\n",
       "o1HqxO3H4Rd0fpnEzvFNgB+S8GoAYu5TQWZguNQix30trWccEmVIlhdBSz9c4FqJYcDKo+gTuqbe\n",
       "5A/EnvZ+ANzf0VXuTzNbG/vk26Tg1gVsGEzhiWcB6CS82hdb4O6jqYFZ5wjHfRzPmDoIoRw5zRHQ\n",
       "lv3yKe4+gRqYkQa+XZydcpP3iweuDID7ey7DjtHapN2hl+QtL4856149dgCiHmMjNVBwp61MjCJ3\n",
       "iI7Cijz0eLSTGtjcWwvQeO5XlKade/J9AGX4Zra23fbv9Ba0FJifIZFjuN2TOzUwrpb3MxfROXMW\n",
       "/Qzmgo4BL+7MgJUetX9fvuuJvO8cZtezL1jPkOhnYF512rmnpJuvoXNI6fMgTD3QfCFuotkbMq7C\n",
       "TXgLvLijQWbhsk5xXF2hbzo2Rk6L4yqp4iZP7tRgzwsdXca4Ks9nol00pPAuZzL/6MgLcBF6Zdq5\n",
       "h/cph53e8gYja5UoO7kP5YwZ3eeht0q5a7jAPlQTN6hBZkk1RB7iSIXjHs5W09hSnFxGCtHDjLtc\n",
       "AX2jBs9/Ao4k293i/F17fEEVEjq0eLXwZzsXAqzhJgjS/B16CwZ32j1e9ePub+VfItJFwMfIa3PH\n",
       "poUsX6Z9/RwH917zid/csbjE+nsfeTASeOnfAGMDj1CDu4+HNrLdmufj1QsvO3495Nk9W9l5iFWX\n",
       "WMNXgBu0FjRIbioC5gzfFLm/tPVBMhCVIOUVj996N6mGnMTqP1EpQh+sGdyfxc9/+nH3t5pAkki6\n",
       "CLhdONPTjjzB02DlCRYZjjslhU/GEWKwEpaQjfudeTGI5zMlI0+A2X7qZx4DdS3EIJ4lsQBoRYP7\n",
       "GQXsv9TD4Eh7dE6B5zh8DpiHoakJLgWdGZVix3aD+13OmYQLd3+rCUTw8uKSW0iYJleXKtDl+EwX\n",
       "iaK0dw3uadmUhlloMBu6Y2JejHjtrrOB5sUup36Lcq8oa6EGoXykkrfzYpXRWDtcSq6dPZCf/U8O\n",
       "4sKtT7fpS9kWG1nu+9QsRzucJTRicG8l1aTLftz9rfxLSLr5sN0l+sf8e+IW1o71kKii8oQGRJvk\n",
       "6B6fCTRIjsA1w1IeGCLjOMNsKcENsM4IiLSsshZqMAiJc/MsD0weoeSPi+H+5XMITMPu+8XYk8I1\n",
       "390Dc9ldMeKs5MV2VyuoIRDumWcefPBO33HV32oC6Rl5fB5yW0t6i5yyk2UiH4Box8mkNaccJLhk\n",
       "ezxCDaIFOLGKgJ3cY1did9H64YxO4vnvWLuS1AzKWqjBWRB+Du81qQ+7baQSz6Kn+crAwEBWy4M2\n",
       "YjoVu3QTD0fPdN3AwDr4CWmVR/sSh8z5zPsDA9/yn8/4Wk2Ke4tbaJKy11frW+f7s/F5rHC8rnU+\n",
       "HBHY+moiF8oj9zi9qDLECjL3a2B25vRXie+ijdkGcD7seeIV9jyX3LmvYrdXyhI5uRtWysCBjxQg\n",
       "3L3TuLDuqi/3TDvM7JLI99KZYRpbHemHB3TK/S49eYv5BtdGR1JzgXjB3+I3TgXtFvhlf8Ic7cVB\n",
       "7oDJ/UzLJzpKl5M7s1IHDo5IYS/EWDI13VHx5a6NzXDu0ZW3U+5wK3K/Y9cXgHJfWo4dCUtL+FaG\n",
       "s+bWYBVm7VrQo52G/S6eZ/m3o+Qn3OKegDDfMWNXPwXHFCTuzEodOPCRwsYSRjH0zopzriFF5/7M\n",
       "DOf+U4yXkXuY+HfjEcDH2Z5ilLUSiYaL4efJ9tyBdYYNnIStD8stbnnX5J6uJhwB16/TekSXuDMr\n",
       "deDARwo3gKkaadMnwD2Un9ncL4vWYNl+fiIXm3e6IfRgA1EpXjkPtELqOf5rm+Fx7Muhqgf3ZO18\n",
       "R8D1RLYrDTsXXL2gzHNnVsrAgY8U6B2mSxCZDXRo3HHycSbaIUW+IVOb2dy/tEs98HJb0Vcqbt9W\n",
       "PM02d1j/NdRnYVKJBlzDw99Jy/6dWqkDBz5SoBNWNpq8RO+Dfnki5+7fAdZB85bkkeAxrsLDZChm\n",
       "SSXa+YbTDy1XcH+46BY48JFCG977o+nmAvpUchpwJff7883L/f6yJ3dcdqBJJRZwDUNlp4I7WqkD\n",
       "Bz5SwNStMTm8zXL+XtyT1zcv99tUE1ObewY5YlKJBVzDcE9CwR2t1IEDHynECw+VNzLHwuSFsZGY\n",
       "R56AlO81LXZNNRbacRMYlLpjLOAahugy8pEXuAMfONhRA3mzI4W7dG129uW9uAHaKH4MpmtWKisx\n",
       "6nWVF/c1378g9PRVXPNixuNOk0o04CIT0VfkPAHjbgYOsaOMqKFEtuxIgQQR9317NZRwA9OHS8ub\n",
       "n9/xjDNkcCvFZuzyyYI6WWJxN5JKZDd6Y45lIxTc7cDBnsWn+EgBqzsfEyplpmt0DCyRsf9zh6Gi\n",
       "08+wYgVcHtxp4LDV2t3KRQo0nBh8QycbrX/K8+EFnVMe9uae/AEpwSGqTv6vUlavZLRd5r6iX8Xd\n",
       "PR+pyJuKW0Y40XINbqQ7QEy4pj7w5h5ZvXr1RXpQ3F1l9pMQ4VPl2yVK7tu7psR9MiV20N/PxAMb\n",
       "XF1l9pMQ4dN1ky1K7gHoOODDGczdXWY/GRE+rhPiS+a+OD/93NfOYO7uMvvJiPBRP48vmfs7MP3c\n",
       "F+dnLnf3RczJiPCpfn6vivt7AXDfXp127kmfv1s9AaVmWsclZ+wQLSYlwqdqq50K7rH9AXAfEq4i\n",
       "/TYtXQb3dF9f31qRu2MN0a3wq49REySGeArFhrM8wudSfg4vZm8Ur8spwvcQgztU+q+xl8Q9PBYA\n",
       "90Sx/v7OryG6XiC/+mish/0oB0t1/8cnYhqg/PUZ2K1/UXpieBG+lxicF+FTucijCu7xkQC4pw/V\n",
       "xV1SG6oebkm2yLYw9R0pwHLfAdAEgysIuvR//CCI8L3EsczADI/YS+Ie6g+Ae3JfPdxltaGiyLJF\n",
       "xj1RpfnoVROets+yfIrYWSYjwnfl3lsNgDv8XenfCw7ultxQVhtaF2QpEhWyRcYdhezhEVKpbaus\n",
       "AE7i/AwY3BzXVZ8I3xCDUzlgj4L7FXoQ3F/P+/d3KjfEpcQaPUDXEC8V7pelSORki07u+PsqkVqy\n",
       "CFZ16grgV9y4+hi5UyeI10W8Rz0ifCYGdx1XjX8BmGbubRV/7ig3xKVETm24XPj3R0uRyMkWBe6Y\n",
       "CgpVov1gVudSAZxtT/yiYy0jcv7LT4Rv7VEDQwxO9fPdMvfMgUC4p+d4cW8l88grdSo3xBQ/pzZc\n",
       "I9iaikRetujkfgSgnCRaALM6lwrgq8ZnD+rfT+iUJf5+InwmpF9jGjAxONXPvylzb60Fwt1Y8fbo\n",
       "70DlhhQUvWS6hihxtxSJtmyR7VvcV2svJ2fR2bZZnboCOMsvTzAhEb6hqF9kisFRP48vkXtvPhju\n",
       "r+v+3K+NsqVzW22I3O2VRV6RaMsW2b7F/d5lmd/kaNPN6tSSRmtpzSXzJYrwU2oRPsZn1ICt27nm\n",
       "xf4KwXBvrfhzR7khgrLVhsjdXlnkFYmcbHGVEUoy7tqpvysk6RfN6tSSRvicedr16lDPKcJnYnBZ\n",
       "hI+KemrA1u3c8sCpOQFxjx3y5U7lhtQx2Itf6GfsGTqvSLRli2zfileJ67kH4NNcdWpJY808qF7Z\n",
       "EET4rMhpJlzg4QzoTVwvc7d0e9P++5Ev+nJHuSFdSrQLFShaK4tqRaK1b3JPfjgHd6zq1JLGlMWw\n",
       "ket8qJ/PKNb5VkNQ3ONdftzd5IZVu295KBJt7nAzmQBGq5atWtJ430ebXXZyzxTr497I32X+l9sf\n",
       "+hqkn4k49rb6WJ/wkWLv6XNw32i0cIK/y6xta9zvMuOE/H+2mGKJc7dt0/8LGh++aYYYp0oAAAAA\n",
       "SUVORK5CYII=\n",
       "\" style=\"display:inline;vertical-align:middle;\" /></a></dd>"
      ],
      "text/plain": [
       "<IPython.core.display.HTML object>"
      ]
     },
     "metadata": {},
     "output_type": "display_data"
    },
    {
     "data": {
      "text/html": [
       "<dt><a class=\"ProveItLink\" href=\"../logic/sets/power_set/_theory_nbs_/axioms.ipynb#power_set_def\">proveit.logic.sets.power_set.power_set_def</a></dt><dd><a class=\"ProveItLink\" href=\"../logic/sets/power_set/__pv_it/axioms/253de81970440c0a17267267b015bbc8a7cf0cf90/expr.ipynb\"><img src=\"data:image/png;base64,iVBORw0KGgoAAAANSUhEUgAAAQAAAAAVBAMAAABbMC3JAAAAMFBMVEX///8QEBCIiIhmZma6urrM\n",
       "zMxUVFQiIiJERETc3Nzu7u6qqqp2dnaYmJgyMjIAAAAcRTyBAAAAAXRSTlMAQObYZgAAAyNJREFU\n",
       "SMfFVjFoFEEU/eR2c3dzu2cKKxE9FFIJOZU0GiGQQkjj2VgJBtRoGjm12EIJwcacoB4oJo24pogh\n",
       "xXGQQizEI6KGmOKKIIgYtlBBUTkLRSNJnJn/d2f2du+MlQ/e7dz8/2b//v93ZgFaIl1HtnWQyJSR\n",
       "LR3i8IiEnvjzNs5jhtgM+/z4utPrG+eWasswwgcj8SvEQog6yyh6KSY+xXl9JEaQMmudA3U0puow\n",
       "04AKH1XiV1Bxn3Ecp4ALCBHzUDQpUjUW96B5ZEwARt3IldC4nzt5YOVAMrqCKsdnVSMUzYMUZV1+\n",
       "qcbcJllGagtedUYpgHTtjTSy7wBGDlgXSEZXCJBVf0h0H6TIXpydnYh7zgliAPOKG2TA5IUXRmON\n",
       "z/O8vgNkZIUAB9WQRNl+FP0cH78cF8Bu4lT37T0yuxVXlSBTvyaNbOOZnHpKjKwQqItqnkRWHkWn\n",
       "AUrKeHzpMTYKXEeymn0hKV+VEa0HKisF6QA9Gz9EbleIYH2VyEOTOj2kRYYi20PRAMh+pOzk4QkN\n",
       "LyEt11o1ZP3GVACjH3LoAOzVzm388pAYgq5mep+jKFNEURI61H6RdCFFw61IBinUmjvEo1EGfAeO\n",
       "xG/+c4IYgq7WS0Ais4Eiq55Uhi1lyIQD4HP4fqW1DAQB1Pg92gUQqOVLRyCRH0DaOybsvd2i9tnt\n",
       "/RAuAfehpuhqCoAbGa+sucrHh4l+DwxBszobvOq+yCiSqHQKoMM9lxS3Znu/+RFQE2bcHm4VE/ua\n",
       "AhBGHlSipjehjpCaDQ/6JweJ/CaEOR6JCV/IfMcvFr1ZR6o34S72R1VtxeSQuAjwXIz7iCGE1GAu\n",
       "0Fbsi2TkfUGVfskwC8AaJKesTu+aOoRNys4O0mF0Y91FY8I4OSzDek8MIaTWGpBE2QKJbLGa2TBF\n",
       "dqpgDrXcio0F3IqjOy0rIttsxVE8AE10z/IsmHQTYzDj/vUwip41mziMoqDDCDG9PL8IR6uJW0sH\n",
       "AocShPbIKJSxxXGsq184TnAcY9a8qKi6qQ+SmO+NFrG2VafKEVHTV9XmP8nsMvKfPsleQ0Rkw3/A\n",
       "H0UhDH9st8JNAAAAAElFTkSuQmCC\n",
       "\" style=\"display:inline;vertical-align:middle;\" /></a></dd>"
      ],
      "text/plain": [
       "<IPython.core.display.HTML object>"
      ]
     },
     "metadata": {},
     "output_type": "display_data"
    },
    {
     "data": {
      "text/html": [
       "<dt><a class=\"ProveItLink\" href=\"../logic/sets/disjointness/_theory_nbs_/axioms.ipynb#vacuously_disjoint\">proveit.logic.sets.disjointness.vacuously_disjoint</a></dt><dd><a class=\"ProveItLink\" href=\"../logic/sets/disjointness/__pv_it/axioms/d5a48997ca2fbdc3c926129bede975e15b8a170a0/expr.ipynb\"><img src=\"data:image/png;base64,iVBORw0KGgoAAAANSUhEUgAAAFEAAAAUBAMAAAAHNMzaAAAAMFBMVEX///8iIiJUVFSYmJhmZmZE\n",
       "REQQEBCIiIh2dnbc3NwyMjKqqqq6urrMzMzu7u4AAAB+UOZAAAAAAXRSTlMAQObYZgAAAaBJREFU\n",
       "KM+NkrtLw1AUxr/YpG2iiRl06FZ0cvAxCNUtm4OCRVDQxUE3FYKLiAgRh6o4FNRVgn9BHBx00Umd\n",
       "pHQRRFFBxUVa1PqASD03N/FR4uPATe738eOec+49AHB3hN9jBdt8s+NCHuHbuQvvF0geWhpVWe67\n",
       "UF+42cqdQAJ7tJQsNJtL98e8mkGfdlqZv8gIIxO0bgJSPuN1nPp1nvnkLpGyziqgMm4zsy7W7qHO\n",
       "pOzYsIPbqWUmT0aPJ81Ib103YuzcuAFtDHHKvoFrQEetoyYgmSRRb8qvEIiS2lgZNiSb9Y4+7F/A\n",
       "JFKwoL6RxADw4JGCQ2S1joIFzSOF0jSIPCf/hZFDwLNHRtlNqUWcmz6pLZUNInfJLzGyv5IsBOQ6\n",
       "Iq5/5uMXMsaz1+hQ0n6dB0AjkVEDqvtBKknxoyN5HOIz86mjQdb7BBSLYR4p2iK7IEC0gKv52adk\n",
       "vtxymOrYIxKrCz0gmS83bz0l0bDIEtPN5yper9YJeVL2mpffrZq2Qi6E/DIhQUjFzbAxkT6nLgi1\n",
       "qyl09NIM/lesoBN4B5bmgniv4p3TAAAAAElFTkSuQmCC\n",
       "\" style=\"display:inline;vertical-align:middle;\" /></a></dd>"
      ],
      "text/plain": [
       "<IPython.core.display.HTML object>"
      ]
     },
     "metadata": {},
     "output_type": "display_data"
    },
    {
     "data": {
      "text/html": [
       "<dt><a class=\"ProveItLink\" href=\"../logic/sets/disjointness/_theory_nbs_/axioms.ipynb#disjoint_pair_def\">proveit.logic.sets.disjointness.disjoint_pair_def</a></dt><dd><a class=\"ProveItLink\" href=\"../logic/sets/disjointness/__pv_it/axioms/0c32137f24da5649a3febff6ac329f0d7c462c280/expr.ipynb\"><img src=\"data:image/png;base64,iVBORw0KGgoAAAANSUhEUgAAAV8AAAAWBAMAAACVu4KiAAAAMFBMVEX///8QEBCIiIhmZma6urrM\n",
       "zMxUVFQiIiJERETc3Nzu7u6qqqp2dnaYmJgyMjIAAAAcRTyBAAAAAXRSTlMAQObYZgAABONJREFU\n",
       "SMfVV1toHFUY/rKzk81MdjYB6wVqy6DUK2kXIxVUcKsPlmDpKm0ezYJW0mppJNI2XiAFSXfrJQuC\n",
       "hkrpliJKKG6gD2l9sEsq9B6WFBTxwkK10j7YNrsJ29i4nv+cOXPZnckWX8QfZnfO+f/vnO+c/3LO\n",
       "AP8LabtNO63Ifr7oaWJ1wL/7eKDxgSWHa8S1T51Ge9ZSlajnlwDsV/TzbQXaCtE+lRPrWOE20of5\n",
       "n1qSHd/XXlmbTqA16zMiGTcAmuGmsBrYyl5IdY56rgYQvsLpVaDeEu0dYizZBBLsiYnO2HUbdg+g\n",
       "zEEv+YxIxnUAPdcEpw1gxMTXZMpUY9Qz7M/XiPO/SqD3dDK4KN5/XZC96iIQLtPGNMrFBsD63Xvf\n",
       "XxrHaLw1gKjJ9xoxtr7ohD+fSLYJYb6iIcH96E3ZG2JvxixwSO4qe3qt96F6QDTDlHFfnJ1xZvjJ\n",
       "Beid4Crj7Pj4ZwF8rH4Ww5uFbzZZMbzZMjgR5w7j3EP2utrY0IfeZkQTot1FfUnp3ToA3+7XfXFS\n",
       "WopKzxzwG4Sqmk6/G0D4fvYcmVpVwdg81EdnSqHRCRy57ztqvnzHSw+YxjODTyEktqenfVHCOlJQ\n",
       "d5LjhEalgNNFmpCxF7CPfsb8cLZ0TETIyychVFuADO8Xv+vLJ/tlmn7EJlqOKDO+TAVjgEHVIeYh\n",
       "1sRuU7uJCMO3FbmDE+qsnKBv+8xeCjJDZM+Ld+9ispI7h4y9AL7dER/c9J8klzjhMfzFYt5SPWel\n",
       "pSFcanQi2mnN/A4bvURVAiNYl4NJay1AnWNN7AEWOeEIT4AwtLIkvCYL/S4qn5xMaJvY5w84s4l6\n",
       "gIuwF+fa4WIXEZ60VBGE+JIPC5cqKbTLfF8G5AvQOeFI9WFaax+b7RYR/hiY5YRbeMT1dq+tygn2\n",
       "0OTMTqW6pe+UGUyRQcZegIuwB+eJ4asUEn0QqmhRmJ8dFOOaUEoO4T7TIqxP1+KM8AmKeiKc9hJm\n",
       "PyvlBPM0sSkn/rQgisIb8BCWABdhL85VrB4p6XMOYa3ES45qprk2n8TqnBMSeUl4P8WM2OGyi3BI\n",
       "eLidPW+6yjB2MEJh4dofeDD+kfSEhA1wCNfhRAxfpvPtXIGIPg9LlXmV9K14gg+/seuhFJykiw1b\n",
       "MfwssJ0RbolDrdiEYylF5NDn7LnmKsNq1Uk6Xqz1K/AknQ1wCNfjnGo/kjSGnaTDUY75CWu4dhp4\n",
       "UFqyQqItgzJL9FjSZahK3IlYgdhywkpJ4ZWGl9bRLPI0Xozl7DqqVooIBtCGKOJsImM3wE24AWfL\n",
       "Ll5/n5aqDjrz9EvnR3kkfAgclAcfOeHwhVU3Ur21bS/M/JxghPHJ+cfBmr21LcdupPDaGfKSPvp3\n",
       "Dsdqg4iwst96bb67n5eEmDgs+C1AVFruUjfARbgRZ8vkfjqtf5cqg4gqORzkdqx+bMx6j2Z3Cfc5\n",
       "XoZc79+4FV/Kywt7xhuOZkt4hTLgh7PlwgZGRB/wqDZQudP2QVuAdm/d5UdKuJhPBtxnpBS8t8Il\n",
       "Lz+B0oDj2yQvP9bxX4U2+p66HKfK3f3OUZ7xXkKuT/p+DTh+0E33Va4UYNyWXZKvLw729dJ7tfe7\n",
       "wNuiPrYVAXdy6ZKAhfhe4AM/h/zXk/FTHff7RGoqAV88P/7LTyR/nJH1U90Wv/9W/gEsVqIFAFbL\n",
       "0AAAAABJRU5ErkJggg==\n",
       "\" style=\"display:inline;vertical-align:middle;\" /></a></dd>"
      ],
      "text/plain": [
       "<IPython.core.display.HTML object>"
      ]
     },
     "metadata": {},
     "output_type": "display_data"
    },
    {
     "data": {
      "text/html": [
       "<dt><a class=\"ProveItLink\" href=\"../logic/sets/disjointness/_theory_nbs_/axioms.ipynb#disjoint_induction\">proveit.logic.sets.disjointness.disjoint_induction</a></dt><dd><a class=\"ProveItLink\" href=\"../logic/sets/disjointness/__pv_it/axioms/8df63f0dbd46f74f734aeece815cf97c8c84538d0/expr.ipynb\"><img src=\"data:image/png;base64,iVBORw0KGgoAAAANSUhEUgAAAvwAAAAyBAMAAADSCxJRAAAAMFBMVEX///8QEBCIiIhmZma6urrM\n",
       "zMxUVFQiIiJERETc3Nzu7u6qqqp2dnaYmJgyMjIAAAAcRTyBAAAAAXRSTlMAQObYZgAADA9JREFU\n",
       "eNrtnH+QE+UZx59Lskl2N5ujI2DlWk1RKQ7VS3uCHbl60U6HGaeWgAp2cMgOlP5gbC+UaU9QS0qt\n",
       "HNZ6QUc86dQLRQUpc5f2/lA7WCLaacuPEqGd2hZKrNYpTEfguF9waPr+2N28++5mc5rbTJzyzlx2\n",
       "37139/b97Ps+z/N+98kBOJcrihegqhKKwcViLpJKt4eKZyo1bXpqS3V/68BF3JbyFbp5/qlfVWo5\n",
       "pcq/5FHN9WdvrXDCz6vunJyud/xKQdtZ4DZ+/vn+dhDET9Ld32fIRq9qEzNFNkKh8qWXWnrVPtzy\n",
       "zQcBvlX3w/+RGuGXJnMHxEEQNG/STkepYDgX7CXC9GD4dOVrn7IcaUDPri0OvXWPf2usNviDUf7I\n",
       "YPlHhdseofv/PF95Bp/K8IcSeYD5UQhF6h2/PKk2+Pdkxo9fwfjX0CfRf67ipX/ZZrHxzejI8QhI\n",
       "WucAWTBBrUv+99cG/2qw4hfvpGboDs3236k/KoRfTNIn4RmseOl8syWk/SF6cJeiq76tuX00GeDH\n",
       "dYl/T7oW+BVuEO/ae/UgdA+DMOtwwdOVhV3TX8PVpZcsnBFR2lbPBQ81VrfK71W6tC+zJ88fGwZY\n",
       "vBJtX6XVu/BHb6Ye8QeitcAfSJmtexOE0LB+B3YAJKExK6yBYARV4d6IeI7cUpAglWLCgI6vXHkG\n",
       "EryJF4aPzbyPeA5a/VgHKqtO1mXoeb4W+BNm+xAs4MgHHoKbMxBB+AM5EIZQFVuN9wj+QJaMbBDP\n",
       "Atx+g9OlY9DDu3UPmmtbsa1/gVRn0HF/V7YeF74DtcD/WXO1LwcSwR8YvQYQ/gQicwHjfxRggOBv\n",
       "IM9rUcucUbSZ53BlYXlLe4oPs5DL9Yzhp45r23Wne289Dv93a4F/KjcZIhp+6U/FKMK/B8Eexfg7\n",
       "zfjRx+UV8PtQW35p1oiAewZ0/OI99OhzuXrE35x2H7/AOdA+Hf8WUAa10X+Wwe+hxkdGP6sq4Eft\n",
       "ApNA+cLCKz0z4kzY7x80TlR+8C4u36vL0Kcn7z5+Dxf4hFOa7b8F4NsIf0MUhEEDf1j1Utf7M21J\n",
       "64BfzJKVsXJzvmGlISvhEZVIGa6XLuF661MBalDdxx+cxEGbDN4BDBu53o048pkC4RxmT/B7C14I\n",
       "6bF/V5rgl97Hk6agfZRqT+Krn4Mtn4bGmDdHfwFvIpv0cexvW+mf82NLNrc+173BJMVPDOgxJ/wV\n",
       "Wjg9Yt45bjt49Rl1UXHllw8fjSH88PiB6wFVFxVXvHhGha//EXxJkLrez8CLxdV09HcgnAE8UsjH\n",
       "9/HOWoAdxZMgd41EYRnqATZYuNl3isvndJIw599aeIHuXEzVJ/7QaYp/P96cdMJfoYVD6Ys6/bbR\n",
       "LiJcw+xj/LJ11fQb0+3NhB6BayYltR00g6RMfeJXhij+bnAcIgh/hRZOYb+D9uXL98VtDh9h9nH4\n",
       "HrI2YSIZ8TQa/2+EuGb1L7mhqGSA4g+j4RHKOuGv0MJJ2XA4K3j6BdvDJU/5+LplAL+wrlgYuD4V\n",
       "TsDmfVyz+hecUS/OUvzKvp07n3R0vRVaOJTjcYfH/znbtyISN83y1mlrq7+xlY0fAfxYnyKRz2hn\n",
       "5/3OkY9zi4priw9Wqn/ZqKQ/CvhHNfwrHIcLxm+0sG8XZLvr62qdYzQ7lIGLpUy5XMP/RRKgsWVx\n",
       "a8wzlcGvt1DsRfjjJl3tdYBX9P22i/jLlks1/AH6WkK3vbtb8nJqH9zI4NdbbLMV4aU2k+Gdw7zi\n",
       "arcx+bHa9fAbHXVghuZ15MBjc3yVhj+UDzBH33hpJ8iHvUZ0h/HrLfattl1AbDdF998FuAnK419U\n",
       "w54n62KYiyoO0MriFwsIia5d+TBKeclXIyx+0gIN3Ein3eUXBtlgRRoCz0kH43Py/xE/HLQe7tA1\n",
       "n41fA0O7CuODcnzfX1j8pAWAH25AHxaiqpftpm/g8ENG5ZBl8ntJ0O5OrtVLbuGX7qjgw8S8/XGS\n",
       "8IXxBzJlXS/0o9vUtattFH8oFGXx95OO/AOaQXiFv5CS9bA5OaECeIxuN1vi/h5yuju5Vv60BT8Z\n",
       "TUq+SvzyqRhsohcJraWHNpmuuQNb7eID0Fv8iQaFSfjC+D1W9WWqjr8Rj0hNu1rc2dkZkeNiPsni\n",
       "Jy2ktw50ZazPsbf1D2xOTjAH4ph9TIQLfQnuTq6VEcClDfxksR6uOv7qiUGCmgO/JqEndOvgwx8n\n",
       "SE+yoKzUz2ASvjB+0dqTszp+JVPSrvx09MOXIix+0sKbgZ64Ff+NIA7BkZePLPmdrqP5DJV/jwV/\n",
       "E924k2u1V9u+ZeAnUlV31dansXy4hs0FSVCCRIGJK5iEL4wf7rP084KOn9WuQthcKDFQTLaflNvQ\n",
       "beQxfvFh6M7oH748fkv+60JDdjfqaAZbl0059ibMRvJ8JfzV5Fpt1WLbDRnD9mNPv99N/HikBMg9\n",
       "hIdE1bTe1xK+yNHPl5PcOO0KG695byOHyuMPjoLY9QDGLzTBgrRwGf5ogq4UdI/k/fHtcD26Wja0\n",
       "rmXOg6Xb5k2eMknH70auVZju+2+JGPiP7tz5fHIi8D9B3dgTWtCgVUHGNoQKYvLw5tIZTMIXwf8p\n",
       "iz8ZY/EbxYNsPy86sAUbH7l0Ef0o9EMyS97AmhrzvtOLD7iWa6XFC716yIM2jZ2dG3JVxj0Hpidi\n",
       "YpcKC1++DmaOgbT3M7gqvDl7+jI4MtKShStpwyseNglqesIXwT+ft9mhc7b47TQfds40z2UjPH3v\n",
       "ObgKlqUtmfVe3uPgJYJ7uVZa2vx+3dwg/P64WZL6EGVrFg7FIKyicAytPsdgcRrWoyoE1kNPmmRR\n",
       "/lQLs0u3wiZ8EfwJPgb0n/4w+OmMt9mj/edtDe870V27mGslJzXqTxv40TISRx9/HUkHR3UzdXfe\n",
       "IhSWiiEXCrO0nUdJ5BNUfdOweDCGs2MT8aCKX2QjX7i65FfbS2+22YQvgr+H9x70PazLiSZjvOmK\n",
       "uplrJZARpUTwmNeXXUm4lsYZxnfMxGllgmJOVfTnjBClD+OHdevRExvDfWrMYfwFHJBj/PQ7DN7N\n",
       "pd6yCV8Efx//13oi7uPn06wgHHUz14rix8GBauA/SB1BG/xZ0xNBLtgIhUYcWXI3tB0JUSj+XafQ\n",
       "bByT0b03pjD+lBn/bGG05KvVUsKX/eivRZoV6jVn+1U3c618hHS/vg4i4J+mj6JnVkzTEzWsnFCo\n",
       "F0ZV1PBLOn4xg2cMHf1RBn+EGh80u9al2YhbT/iitp83dRugBvjncw/dn3Iz14q63hPaI6D4g5vJ\n",
       "Lfjxeo/oiRpWs1BozB9GVdTww39024+MWh7Z/ktw5rCB/x2IUtd7FbJnUXZs6wlf9pFPTVJsA9wQ\n",
       "80yqKtfKnHTF51oB/gEhBbrEhS8hU9dNYtgwg5UIhSv5+yWqIod/UwzaIgg2cr3IXY/Bgjj8F7On\n",
       "+G9C+LGS4kf33HgebBK+CP7X+fi+JgnmfOjjw/Uqcq1ImhXesc21CmOPS1LbPBFD8aTD7LENmkCg\n",
       "uVQiFN49jb9frCoa8f5l2rb1cGKq0D78zMFrX8ORj9j6agxVn20fXtI1Ffz3pPEtLi1OAeHUiGqT\n",
       "8GW76qU5hq5/uegTXH2yZUE5gblW2w0NDOIG/r8ThDlsBomeKPyoJBSu5VdYRFXUy2K79dqY3Rxn\n",
       "Dbsl4Yvg/xd3Sm2+XGT5al0rNxsmNNdqb1m9fxf5no2/NPqJUGjBT1RFZe6x2bvjpdHPltukoXI6\n",
       "lbGcNa1tNclN4hdAmiroNv4wZ/y5vzehuVZ8xkAJP1qwyogb0ROJTadCIcZf0g+7M1RVlK+DJjlX\n",
       "sv1s6ZKTjms1sEn4wvgVlVN8ptUGv8id7zfbmgnNtQqmy+CX2tdC70iE6okEKxUKMf6Sfrggq6mK\n",
       "K6SkN2aP//YZtmvlHeXudaOGP8DN8Vp9rRq40S0VxnXWh3rZ+Dcoa3xYPZHBuhZY/VAfGUk5GpDt\n",
       "8ZcbZGXepyn6y8aj3C+WQ43we7lp1w+1K/ZKcwnrwrNZRj/U9UJJ9cT813wg/M7PRrUkKCup8eKv\n",
       "+h/KLOM6H6sd/g7bPB/OpebL2TN/bkJuYl6Hil26qYz/H8pU/e+UvDXkPb7y2LhevQv7XbsBSVvu\n",
       "HSqe+R8aziomVWXLugAAAABJRU5ErkJggg==\n",
       "\" style=\"display:inline;vertical-align:middle;\" /></a></dd>"
      ],
      "text/plain": [
       "<IPython.core.display.HTML object>"
      ]
     },
     "metadata": {},
     "output_type": "display_data"
    },
    {
     "data": {
      "text/html": [
       "<dt><a class=\"ProveItLink\" href=\"../logic/sets/disjointness/_theory_nbs_/axioms.ipynb#distinct_def\">proveit.logic.sets.disjointness.distinct_def</a></dt><dd><a class=\"ProveItLink\" href=\"../logic/sets/disjointness/__pv_it/axioms/6cabe19e695cf4ee56d41dd99091bfe6376d25d40/expr.ipynb\"><img src=\"data:image/png;base64,iVBORw0KGgoAAAANSUhEUgAAAlYAAAAXBAMAAAA7EBzMAAAAMFBMVEX///8QEBCIiIhmZma6urrM\n",
       "zMxUVFQiIiJERETc3Nzu7u6qqqp2dnaYmJgyMjIAAAAcRTyBAAAAAXRSTlMAQObYZgAABlVJREFU\n",
       "WMPtWG9sFEUUf1zvute7vWsTKYl8OksChJR6kRA/2MpWPxBNjEcxSiLJXeo/MAYa2qBUA02/2Gq0\n",
       "V5VASAgrKjGIcKFpaoiNpXeGgH+4CIlfgJ4BjBqFxgqKZ4zvzezO7s7t7XUTPqkvmb252d/ub95v\n",
       "Z97MG4B/uZ0r2v6E7tF9oGH9Cr9sbVd9wfdjiTymzwPlw6LZyraaJA3o+NEpR1Ow2fMJCQ2dKU5N\n",
       "5VIflKjtotcLCvPA2DwYINeuazBqfaLRoivKj2120c8iUfvdiD7EMiM9dL8ni4yuKxnUm5kOX1Db\n",
       "T95a1cZYFmcj4IAGaeMbaSCqxrcVKB921KXNIqm/xVsEEXHAj1hOSc+c8mSR76o9BvVRpsNeGqwD\n",
       "3lrVxthmPLs2amIEJWXEewLlw9REZZtFAm4cseTt0YqoqRQgjpNezXlrVRtj2Q7JjVjSTc0dfrWK\n",
       "NPnSijiU7O3RiqipFCB25vDhPeCtVW2MFU97TDd2p1jtM9TKqBphZk6g/NgVV62MN+9+mLeYRMQB\n",
       "e+D2aMWor5AO8MfQ0Cs1tKqNERZAaSJftqS1hpEMdE22xdb03ofV0HerW7rxTns+d+73VTmGatn8\n",
       "wLTnuw4ufadVTL28PNBsJLC8DJHpVk0QEQcsMb23M52sqZWdVW0yqfNMh2cAhl0em7JrVQXjYmFc\n",
       "id7NwVkN4hlc7BRQUJZ4BpRBOJCF0VzoTujlqCPwbWKn57Sbim1TSua/S3T5+hrZZao6SKAMT2Rh\n",
       "0CJCDniDYFvAyTTj2fstEmts1qS+xHR4ECIll8eSdq2qYFxMwbD2JluiwpngYggwrcIZCDdBYxGu\n",
       "QbSZ/CDUGTirPwSwoXo419U/g2K9nJDuOkhQKxz36ZQgIq1epslI+yk7UzzptYtrllkvm9QTTAcF\n",
       "Ao6tbW8B7spIWkkYD1ugQeQvgGPkBuwazAqtStCYiFAYIT8QBToM0db43urjCsK2tTct3XSQQDlU\n",
       "xvg1ZRIxrRaiM6+S1w6m5xJVCRnayVq/zaBOMx3UoiJufZTvgE9UvU6XtLJjamoV+tV048j1OaHV\n",
       "ALpAd4RWAOzfWo+XNSaqauUkgXL0N4QPmESmVuY+3WLCWVrdONrO+j04tGooPS7W99f36TCZSKqQ\n",
       "X9W7KmdpZcPUnoMR040GHWY0JRkQWpnjKkFzEEI3ammVtq2fa614RQ44SYxxlbRplWBzEDaBk8k7\n",
       "Xm2SWHm8WssL6gDDT2NjR9cSCkto4+NvqXK8YhiYXr00VfF6qZGi9g9mKElAfTGeqRNaYbyCKH6r\n",
       "JKFOBGZhhZdWUf1uCOi8Z0Zst5mDBOPVHeikJoiQg8d2WtnsTDXXQQcrXwet2A5juImIdRYXZHne\n",
       "N65+vLFCK8IE9C2KBs9LewTWaAvI+NyoBmsS2GkMu+FsXamO+s9dwHztNKZkSUQFy+FZSm7Rg8jf\n",
       "+OCxknER/x7NjWCKzXsG0C655SBBrdal4GeLCDn4LgO9tzEZOyhB4WRmdx2sfH/VzkvBmJ/7lkGj\n",
       "ztORcZjKV2hFmBD8ArBxsRQ3qNE+5XtoF/VNelFo6833v1qJzz57GqsfbL355MgiiDzVmoX6F7KI\n",
       "inSvWHLRGOAvYnxUKJCwy3aqYDJ8qOVgR5H3DFvkww4nSRka2vOaRYQcQhs7k7HbFITbTVKl37jr\n",
       "YOVaXeWFdIhRV7qhE0IvDQ0Nolb7lQqtGAYoQ+2Xx+0ttxxnfpmQGQyilYcrJ0SNeoYOe+/0y26h\n",
       "U8pxbFpVIzwlsfIcp4eXgnmvGdpDkOHjKtiFPymHVnwMzYYqtaLGc5MXpNx5fhm26YHqtRVmPXPN\n",
       "nYU9Ernh0soy0ZOuWlUjPCmzOnNnI42bhb5x+Jyq5wEuyDkOPwJRSyrTaq/e8Jp5YY3HB6wtRXhe\n",
       "py1hxx7zYOXeSkjDe+Z6JiNsJOo66oad696EdX5VjXBGYmXnV9aZjBFmMtBahDAu5cGdGtS7anXo\n",
       "/PQZptU6ylTWZemSY431qQ0+T/EE6u1dmCZW7nNjVgBkPfNOsdYvdf1AdNYXFwOUMQUXsno1QoE2\n",
       "WDs1Q/Jh+/zithzjVYUtc4RVmoPW8QyvKbBS83k67PMMOeb3bNA8Q4YxX+ftY5Xn7URNpa3PL3/X\n",
       "XM52+G3UDsGnRfjfXD+yS+2/YP8Aj55K7WWCYHsAAAAASUVORK5CYII=\n",
       "\" style=\"display:inline;vertical-align:middle;\" /></a></dd>"
      ],
      "text/plain": [
       "<IPython.core.display.HTML object>"
      ]
     },
     "metadata": {},
     "output_type": "display_data"
    },
    {
     "data": {
      "text/html": [
       "<dt><a class=\"ProveItLink\" href=\"../logic/sets/cardinality/_theory_nbs_/axioms.ipynb#empty_card\">proveit.logic.sets.cardinality.empty_card</a></dt><dd><a class=\"ProveItLink\" href=\"../logic/sets/cardinality/__pv_it/axioms/a058e32c108964aeded3e84c3fe993472e417ec30/expr.ipynb\"><img src=\"data:image/png;base64,iVBORw0KGgoAAAANSUhEUgAAADkAAAAVBAMAAAAOWFv7AAAAMFBMVEX///8QEBBmZmaYmJhUVFQi\n",
       "IiLc3NwyMjKqqqpERESIiIi6urp2dnbu7u7MzMwAAADii+d4AAAAAXRSTlMAQObYZgAAAN1JREFU\n",
       "KM9jeMsABJwMDGAaA5xmYOA4dRJMY5c9xbAci+wpmwcgUbYAhikLMGTZG3jDQLLMCgzRARiyhgwM\n",
       "x0GynAu4df9iyE5hYOi/ABRlNGDa+w9D9gsDw/4GoCh/AyvDb3RZ3k9A2QVg2UyGHxDZ4+UgUARk\n",
       "sf1hYHgPljVYDJNFADag3vcHwPbW4jGZdW0BL1ZX9YNcxXLiAN8HZHtLQMyZDAz2IB8xT3nAPAFn\n",
       "aDCEMrBvwJBlbeCVA8u25p7CjAXeU0vAscBweHMCnhhsgNLYZRnIlV2HRqMAAE/6Xh2wFdchAAAA\n",
       "AElFTkSuQmCC\n",
       "\" style=\"display:inline;vertical-align:middle;\" /></a></dd>"
      ],
      "text/plain": [
       "<IPython.core.display.HTML object>"
      ]
     },
     "metadata": {},
     "output_type": "display_data"
    },
    {
     "data": {
      "text/html": [
       "<dt><a class=\"ProveItLink\" href=\"../logic/sets/cardinality/_theory_nbs_/axioms.ipynb#card_induction\">proveit.logic.sets.cardinality.card_induction</a></dt><dd><a class=\"ProveItLink\" href=\"../logic/sets/cardinality/__pv_it/axioms/a0416f86a949b329077314f56d61608e818010ac0/expr.ipynb\"><img src=\"data:image/png;base64,iVBORw0KGgoAAAANSUhEUgAAAV4AAAAXCAMAAAB01dc4AAAAQlBMVEX///8SEhIoKCgtLS0/Pz96\n",
       "enovLy8QEBCIiIhmZma6urrMzMxUVFQiIiJERETc3Nzu7u6qqqp2dnaYmJgyMjIAAABQsGWnAAAA\n",
       "AXRSTlMAQObYZgAABBJJREFUWMPlWdm25CYM9GQyMftq/v9XY3ZhA206naTPGR7ulW1ZBWUhCfW2\n",
       "ffGgakndYnt5HyP1jrme4uJcvnxIz5QhC2+ow9xvkp3WiyfmhrhP56JlIxz149vvYVeJdkkaG2M2\n",
       "O1uidb27+FhiaIz7+FMzCQWj8/3ji9z/kM0yhQ1LTwSCeQLR8J4hePcBQ2Pcly/rXaVdVLaT3w0i\n",
       "bwvxPexa3PCB46VNEwcOeXyW3gnu5WWNWq9nhrn0rU1+FITstNWN///BJVymcjGAkjRvwBj/LL0T\n",
       "3Dm9ITglItW+AcEa5YfkX5TXeMMHcTErUPov0zvDfU7vdhAoOOEHN//x/p+sFeGt9SJn6NbltEOv\n",
       "QohJgtIWNfsCvTPcBXoNhgILJoTsVoBn4tS2rg1gkIsGWaNX9AFqRgFLQu4cJSMP6GUxDqvTTSxH\n",
       "Gz9u9URlyBxg4Ee4C/TmHBEFgmG+a8tG/0i7GylVrBptZqQc+wmhnQ32Ie4DRNL0hQ9l2e52NaNX\n",
       "pwrXnFrmXClJXwOw99J7Z7gL9GreCP4P6ha9XHU5BWLVSI+UNtifnrQIK8Wdas+r/PWrDxDGTjp8\n",
       "YKfH9FKRslIo1QQ0yDh6Su8Mt9yLns/38I/16KWuEYxtpgyGC3PWE3qrRry2QkvlcbRF2+k4nYge\n",
       "VP4cAHSWmUyoGb3t+cwB1wIMLNLb4i5474VeeWyU5VINU8TKRI/9YvVGb9UQZbNHfKqpRJXeYjmo\n",
       "UDMAuG9SxfJc1a3YhSGNlblRR7tnuUHsZY9wF+glvBWEZPFlpHyG4MWSwmfoITN6q4ZoV67pGRxs\n",
       "phFYDipYDgDuKUan3I/Ll8LgzHqrHLQ6M1IEXK4cZrhvpzY/y8T3+dWPSxCWjM/orRoisAXpPV23\n",
       "1CjFclQRI4CmsglLwjxcGQZ8NnknOW6HYnJuZX+IlfaNuneG+5JeVOgtjpAFEKxcLdAUjbFnTC/U\n",
       "EKFeCDW0QJHec438GsiDys8/vEoPoNldcZkbYZgxGJ/lITSlmgl1O0AohpBCuLSnluid4b6gF58l\n",
       "xpEaovnrF8GqDUTj/FQH05SN6YUa4RFrvHcjtM4iW/YqTI0AeofTXj2OMEZyeD77zKF41pC8e2/1\n",
       "Sn4Vsle4M+iHlCm9Y+DgoI2LXOiFGrGVR9tTmU22qmWvkrNGB6DbWnk0YJT9UEtnQq8atxfblk7T\n",
       "97HEIF+u0l37/IONaQvXK71AIz4SOu+zePJm0Va17FVsUuoAZONymd6P9HvHuI/n0jYkh+3L2VG2\n",
       "dxZI1yjF3okt9OOu8qKt/ahH3P21gvyjdvob9JbuQr/NkBiRb9L7wJbED5pmPksgutTG0C9+a3ti\n",
       "boj7dC5WXoWu1vY5eu27jvDbDdwVu9fjwX4fvv4GiltIZTzXl0IAAAAASUVORK5CYII=\n",
       "\" style=\"display:inline;vertical-align:middle;\" /></a></dd>"
      ],
      "text/plain": [
       "<IPython.core.display.HTML object>"
      ]
     },
     "metadata": {},
     "output_type": "display_data"
    },
    {
     "data": {
      "text/html": [
       "<h4>proveit.numbers</h4>"
      ],
      "text/plain": [
       "<IPython.core.display.HTML object>"
      ]
     },
     "metadata": {},
     "output_type": "display_data"
    },
    {
     "data": {
      "text/html": [
       "<dt><a class=\"ProveItLink\" href=\"../numbers/number_sets/natural_numbers/_theory_nbs_/axioms.ipynb#zero_in_nats\">proveit.numbers.number_sets.natural_numbers.zero_in_nats</a></dt><dd><a class=\"ProveItLink\" href=\"../numbers/number_sets/natural_numbers/__pv_it/axioms/0b15b4387138326157a681ee81e504aafbe547fc0/expr.ipynb\"><img src=\"data:image/png;base64,iVBORw0KGgoAAAANSUhEUgAAADMAAAAPBAMAAAC7N+rPAAAAMFBMVEX///9mZma6urpUVFREREQQ\n",
       "EBDc3NwiIiLu7u6qqqoyMjLMzMyYmJiIiIh2dnYAAADXmt2vAAAAAXRSTlMAQObYZgAAAONJREFU\n",
       "GNNjYOC785oBBXR98WpgePpVgYFhJUN7AqqcD7cBA8cHBgaeAAa+BahS5hvuMjAEMDCwGDBw/gCL\n",
       "8LiXV4EZRh7MGxgKGBj4DRiYfoIEuH0boLrMNnOsAEn1CzAw/QXbDpNhMOO8sBkklf+AgRssZQa3\n",
       "y4zhEc8FkJQAA/c/kIADkhRzgzWSgdxRq4AAKsVhwBUAdgYnyBlsyLoY9nGDHO/AwAN2fACyFM8E\n",
       "ByQvy8KlrIH4GciQSobWDSAB9gkwqZVAzAhS3nfXGizAYaIBkdn+FaiDAyXwmJ5AAwoKAGQvOOyD\n",
       "fUpGAAAAAElFTkSuQmCC\n",
       "\" style=\"display:inline;vertical-align:middle;\" /></a></dd>"
      ],
      "text/plain": [
       "<IPython.core.display.HTML object>"
      ]
     },
     "metadata": {},
     "output_type": "display_data"
    },
    {
     "data": {
      "text/html": [
       "<dt><a class=\"ProveItLink\" href=\"../numbers/number_sets/natural_numbers/_theory_nbs_/axioms.ipynb#successor_in_nats\">proveit.numbers.number_sets.natural_numbers.successor_in_nats</a></dt><dd><a class=\"ProveItLink\" href=\"../numbers/number_sets/natural_numbers/__pv_it/axioms/2db81787f6a0f99da3aba01d94e3b9282244bf690/expr.ipynb\"><img src=\"data:image/png;base64,iVBORw0KGgoAAAANSUhEUgAAAK4AAAAUBAMAAADmcxvOAAAAMFBMVEX///8QEBCIiIhmZma6urrM\n",
       "zMxUVFQiIiJERETc3Nzu7u6qqqp2dnaYmJgyMjIAAAAcRTyBAAAAAXRSTlMAQObYZgAAAoRJREFU\n",
       "OMullc+L00AUx7/9kbRNk9aDgnjQyB4U8dA/YCtdPOhhD7t7UA+CUdzDehJUqrisIoIpXsKCWhYW\n",
       "46XCirUoRT2IZaseFCSoB2VVIihCD7UHBfUgvskktakZURz4NjMvk8+892beFPhjW/QV3e4K7FkL\n",
       "cFnnjWCCcppL0GRraPonswN1w2rMAE+YoSP4MGdxRfm0jjjukDHt7AJuAHWgSsOMyKXnvgZwOn/W\n",
       "Hn2n3+XhAI7FdcQAVUfOpkdDwD3h63cuNMa94g9elsue6/JOexopCmQVtMdLS5cE2MxhLiE3V/L6\n",
       "e7YE/l4w6jZx8R74apqzAm68wDU+Mz+iR3HVgrddnV8beVMyGLcNTAMVATftcLVMXfkWxdXc8LGQ\n",
       "LbX0jHHfAtvD2yodeYCNBu+nGp6kxhwyX6K4WS9J6cGDd0jeTZ3b9CHiTmC/1i7ijmonbD6MlTwp\n",
       "ymdoPRZ2t/txfbdr9LkSs2KySy3wvIZ31NlHk51UgNXOL9i4pxdUhLjI9iC7Uf5ybnXQX6k1ybkZ\n",
       "l86yVpwaYSmh1mzOB1w/D0i4yDt2BDfp5SEWKsAVlpYdpMpBmjXmxCxe0031+t6hfYu1cN9uCfct\n",
       "ofe5ExR/le8bbtGiC5uQtxXv1DTRavvT2DFiulzCU20izI0zboIvdrJf96zAtpFGSXk29QDGIB03\n",
       "zTPEXQwSzsJkoqguroTzm9j/o0gcvljtLE+SdGotvMsBH1gwzLgGoxIM7m9y6i/q2GtX/ef4uXLo\n",
       "ClKCIs30cLSJh6z7AngtvncUe3C0LCgoNVg9aWCrgzSlJzlXgtwvOItLdD27ghf1ofFmyu8/3OvC\n",
       "JSvA//wPvRLYNQs/AZLfsi9LVhx/AAAAAElFTkSuQmCC\n",
       "\" style=\"display:inline;vertical-align:middle;\" /></a></dd>"
      ],
      "text/plain": [
       "<IPython.core.display.HTML object>"
      ]
     },
     "metadata": {},
     "output_type": "display_data"
    },
    {
     "data": {
      "text/html": [
       "<dt><a class=\"ProveItLink\" href=\"../numbers/number_sets/natural_numbers/_theory_nbs_/axioms.ipynb#successor_is_injective\">proveit.numbers.number_sets.natural_numbers.successor_is_injective</a></dt><dd><a class=\"ProveItLink\" href=\"../numbers/number_sets/natural_numbers/__pv_it/axioms/9e4396fabb1b2957ddb0ff2e7fec348589d6992e0/expr.ipynb\"><img src=\"data:image/png;base64,iVBORw0KGgoAAAANSUhEUgAAAQ8AAAAWBAMAAAAsrwTqAAAAMFBMVEX///8QEBCIiIhmZma6urrM\n",
       "zMxUVFQiIiJERETc3Nzu7u6qqqp2dnaYmJgyMjIAAAAcRTyBAAAAAXRSTlMAQObYZgAAAzxJREFU\n",
       "SMe9lk1oE0EUx//52KTJbqyXXiVSqMVWCCgUoZUtgnoQbCuIhyKhWFAPEtCDitTgKcVLqFBLoXRF\n",
       "UKiIgRo/DqXB6qVCWdCDRYWKIFR0KaKi4sE3s7szu5vaRDAOtHn73puZ37557+0A/2VMbWx+RH8r\n",
       "THjTYI5kfmN7rAg8Y8KHBoNsKtYApXBM0G8i32CQ57UcHhOsAWilBoOcr+VwHUgtzsxcazBHIlfz\n",
       "7HTge6Fwsc71qlXKRuY+VwhngIMnx1rTAQfStaUH2whCI49hYLQGgW7/VIIUeai6fPSbjwL3XLnJ\n",
       "JGshnfzBHpYsNt7xGaT7rKub6VwoW/fynF1nKGeeYGuWSXlRYz77Tor4bl8JynG4C4i4mngJSmkE\n",
       "ia+BBZjuF1JrgEpLxRE2qyluL/TgoWZEDAky6C189i9Ks28KlTRz+P1UlFlHEdKRTH7hO/qKlnTq\n",
       "T8RoeYVMmhmv5khdmTQwl85okCDDHnuTCyI7hDTnHRCsShCoa4gFI0+6SA6htA2SWDlCG/cMtIbb\n",
       "WHYxiZ0XjXJ5zAuS83gJEBnNnDPVA7JDHg0iK2g2DZEj75medPEKDhUNvhRGj9P2vWboVJiFkklF\n",
       "u/GXtTuDEoRqUHoJEDWLEwUapmMuekHue5I1VMG8EUh30t3VsSdR4smKWVpvchua9QjzY5KRzHAQ\n",
       "VBYkSDTv8RIgUbcpO2bDC3LAsbHinNaxlOrzg5BuHvhIYeeLNrPyHkI/jyCTeqGcKxQuE8hU3AOS\n",
       "FV6nrbeWZXIQxT1329yLmGVtsT7ZIMdcW44/j78K5Ajp6CxnlynVeFawt2hBO6Z5e2pBt2InfhnR\n",
       "AQlCXUN6yYhkCYuGaZu7FW9E9tXd4m+JrrhGr/NSw4RB0tkynjLlC+C1BEnmhJcDwoo/5R67baap\n",
       "jvsDuLPr/OiJwK5ifBH9JZI6TTTRKUVHdLtfOFVzQXjZIImub2lERGvl5k7Tcb96aQjYJaq9jmtA\n",
       "YLjf4XbKEX9jQEewj/CvlVB1BNzdS1c9F6NqUHVd9Lx/c688V60SIKpZ71Vxubqj4s8gUbP6S2vX\n",
       "ecDsvsyNf36fyMgrbmCEDf8N2De2/80evwFuC/AXsH+S+AAAAABJRU5ErkJggg==\n",
       "\" style=\"display:inline;vertical-align:middle;\" /></a></dd>"
      ],
      "text/plain": [
       "<IPython.core.display.HTML object>"
      ]
     },
     "metadata": {},
     "output_type": "display_data"
    },
    {
     "data": {
      "text/html": [
       "<dt><a class=\"ProveItLink\" href=\"../numbers/number_sets/natural_numbers/_theory_nbs_/axioms.ipynb#zero_not_successor\">proveit.numbers.number_sets.natural_numbers.zero_not_successor</a></dt><dd><a class=\"ProveItLink\" href=\"../numbers/number_sets/natural_numbers/__pv_it/axioms/ed802e3f58a7c0044280074ac9ac145e785ada4a0/expr.ipynb\"><img src=\"data:image/png;base64,iVBORw0KGgoAAAANSUhEUgAAAKsAAAAUCAMAAADFqj2LAAAAOVBMVEX///8kJCQNDQ0oKCgQEBCI\n",
       "iIhmZma6urrMzMxUVFQiIiJERETc3Nzu7u6qqqp2dnaYmJgyMjIAAAD9T1yxAAAAAXRSTlMAQObY\n",
       "ZgAAAllJREFUSMe1V9lirCAMtb3sBBL4/48ti6hRx9G5LQ9mxp6Bk5OFdJr+YwFx+2RFePEHDC/R\n",
       "aflOT08Mnttny56ThcSIS0KzoDGO9yk8PC0BtzcFFf2ckM5d0NsTCrngYKBhiAJP1SHF7TkzyUNh\n",
       "0eYwNDuTdcuCRMOlBT3kXAW+uRxwe4drJTC4BnEmq9l88bZt0X7Q0IShLnBPC8tx+5jrlPS1rFNu\n",
       "XHWOCzr7uhw+5CoVsxotgJRK3ueKx+TxW1lDVp2rXNBddg8PuXpiFifvZd0fbnOltbowtfXvuz6H\n",
       "C5CbfqZzbWitXldlhTqFRX4p7C5d49aaOLlWqtnc5hrdpaxlL9W54oquD3lsriGiUuV19K0/q11L\n",
       "E3prQ1FUNyZcKieasWdcTd7LwuXgOdDRSJ3vzn8fIdRtI8lJ1SBfca3l2uo43c/XA9d9Hua5D8QV\n",
       "Xa6K2SNSZGQvFr0kfjTRgDxw5TlQdG8sM03hLlfteL5+9RisQfB+84MZ7WG+LUiLorEAdvdGU3KA\n",
       "DF7X1iRw7oX4QW2d33/bu2Cgo+qcIcj6oW4W1JZrOf/QYMaL2UJL17IvmWuucuGquPv62MJqzIIw\n",
       "DJ3HjrZ80KJVf+u6tQ1VrmWS2mf0iOBsuwFL8TJflRU5qR6KxFvGyTwSUMpxkw00DVj1oThQnpbp\n",
       "Omkjf+mOXYlw76O6Hur2WkGtNadb1BenqeUy4UezS3g9vO1mlzdj3mHS0VVNiS1EPo4Y93vbHm8u\n",
       "OG81N6dfXlkRn6APRTDn6x/N2jsP38j6mR6/9D8M7Q7X79E/LBUdTFd8/fwAAAAASUVORK5CYII=\n",
       "\" style=\"display:inline;vertical-align:middle;\" /></a></dd>"
      ],
      "text/plain": [
       "<IPython.core.display.HTML object>"
      ]
     },
     "metadata": {},
     "output_type": "display_data"
    },
    {
     "data": {
      "text/html": [
       "<dt><a class=\"ProveItLink\" href=\"../numbers/number_sets/natural_numbers/_theory_nbs_/axioms.ipynb#induction\">proveit.numbers.number_sets.natural_numbers.induction</a></dt><dd><a class=\"ProveItLink\" href=\"../numbers/number_sets/natural_numbers/__pv_it/axioms/686d1cedc7f4626207df4441b237d5dccafe32ed0/expr.ipynb\"><img src=\"data:image/png;base64,iVBORw0KGgoAAAANSUhEUgAAAfEAAAAWBAMAAAAiKrjAAAAAMFBMVEX///8QEBCIiIhmZma6urrM\n",
       "zMxUVFQiIiJERETc3Nzu7u6qqqp2dnaYmJgyMjIAAAAcRTyBAAAAAXRSTlMAQObYZgAABZ5JREFU\n",
       "WMPlWF1oHFUUPu7ubHZnf5KH4oOoHVLwoaBdLQqWPiwRKfq0T4liwUUbtVB0xUKRSlgE7UaJDAi2\n",
       "LzZbRBNCWKN5kPqDazpKmwYNWn8Kti60BtrikkQq1SjxnnvunTsze2eypY89cJK959y53/fN3Dn3\n",
       "3gG4LksvKg+x44F2rF2KHPJd4VrL2OHx8/tD0hHkJEH0FjbOdat8Unn27q870rMLzTPJAJtsMRLC\n",
       "rJKH2F7QgvC4o00TQeqF8Et444vMG9feqsNXK0UkiH4a05e7VX5J+RWYCN7x1CJMLpst0bKl8kiI\n",
       "vE2usY/qjG5HlIPwuKNLC4LUi9nSr3ewv2X8OWaUwVwGJIh+BKdHtUvhuYLruT7ItgLp7SzTgjnR\n",
       "uiCVR0L8IFzZx2Iy7HuBKc9aoAXBuKNLE0HRi/2xoNGENFf+bKkfoA84QeZ5HH6mS+U9tuupMmT+\n",
       "IaRDB0aI61WAhAXHqK9xqC6UR0K8LLxDOcBv7DqzD7QgGHdUGm3UQ1L0YtOaec0+ykvNnjeSJagA\n",
       "J8g8Nz81dbjbyX5YeW8ZEmtc4at1kU38x1olyBd5KzlgCeVREOkKeZhyuAhaEIw7bprbYx6SshfE\n",
       "kcH6GtWMQfMyKkeC6NdqtVe6Vb5F+YcFSKxirFF3i9U6r3nZAm81oCKUR0HECuRm/96BOZ3yE6AF\n",
       "wbjjptUsFwRlL7L3RbXMWINICgmiD9M82b3wBZ8S9MDcpt/GlI83wVgNVN9t63/Z4v3C0nlaKh9W\n",
       "UzE4OqtE3KfhZ2tEp/w8aEEw7sh0/AC3PxVJ2SuwTjg5q0IE0R/ihS5RgC95mioRNadrtddhaGcx\n",
       "dqu49qDy8QIY/6oL6Hn8tPk2ttbSs67AUamcIJS5YOylnCGfh+/qj+iUfwJaEIw7blos8ldckrIX\n",
       "ZNvcCqQ8WR+uEEH0Hoixe95Th5QHgzeN1/h41XnYIcbepFzOduNOHFmCx9kbZfDVhBXVZEkoJwji\n",
       "/fn2RQUGcEuRvA413v623X6x3V5Syp8ELQjGHZmW1tgkScpegWdulvN9RBA9u9jDor02ZDzKeZPY\n",
       "Zb6PQ7NTOatwmTX/csV6ma5yps4oC+UEwe2X41MeMKUcYFVf4bi0ThCd8vQ+W5KUvYK7ot2GR3m6\n",
       "NYgbitvFC04YvPkZKX/icavZOdtTVcjxVc1dV0wm1GChBJ/ts2JLgcoJYu7+u0qJAnjB1GwH46pe\n",
       "+S7QgmDckek4Tem2LUm6vYLKczNVIshJju7BEe9dKXqU8+aDpLw0/2Ozs8K5O5n73NeM0Ys3ZYW7\n",
       "JNSjcg4Rqz/fU8yr0f0V7tPYMmwNr3AdIL4KJ6pHyyXp9pLvOZ99rNDCqaqqcDBLFemdiq+WsOYp\n",
       "oTwr1ilaQ6QfhGMl+dToxXoJ4BsQkEaVZjwpRwgD/gB4T40udni0wiTWUsvyoOEq34aX7wQtCMYd\n",
       "N+1b+U54evkMC2C8RQQ5yV624zBLuKN1lVNzQChPL0qeuzw+3T9MD/C5RwWpxNPPIME83pAkPtSY\n",
       "JZT38k3N3wBDtVrNUmDuzDOf2rrlXGC2P7D5ArsXv+tBMO6ATIN8pIKk28trQytV2rAjQU4yx+5V\n",
       "ZkbUI1JOzZRNyuFhq3P36pllJ8XGUtgED/KfJaEcIVhRMfhm0gMWvXvlkit6EIw7Ku05IfnJ6WxC\n",
       "kuS3sgqTdaWcmuYYjpErQq7ZeWIJt7ngKZX+j2dbWciWfGDaE8uU72pLD7LRiQU2IOiSjL+9sMNT\n",
       "20Uzc5LtZHZdFIc8eSoYheCWzH/gbumVf3Bmbh7gTR8YljgbxOTSWiMiHnZKHY0WLk+pQat2+2Ui\n",
       "zFK2XrnYp7P3/Hq+TIxGxJ2Q9GS08rB7Xb3Rr1Fng2eSkRv4GpWzw+P37A9Jb/A16qyGZED5EVaI\n",
       "a3DTWOFmEfo/xJoUqTe2m1wAAAAASUVORK5CYII=\n",
       "\" style=\"display:inline;vertical-align:middle;\" /></a></dd>"
      ],
      "text/plain": [
       "<IPython.core.display.HTML object>"
      ]
     },
     "metadata": {},
     "output_type": "display_data"
    },
    {
     "data": {
      "text/html": [
       "<dt><a class=\"ProveItLink\" href=\"../numbers/number_sets/natural_numbers/_theory_nbs_/axioms.ipynb#boolean_natural_membership\">proveit.numbers.number_sets.natural_numbers.boolean_natural_membership</a></dt><dd><a class=\"ProveItLink\" href=\"../numbers/number_sets/natural_numbers/__pv_it/axioms/406dd310d8c46f38dd0b984db7d566aa300c6f490/expr.ipynb\"><img src=\"data:image/png;base64,iVBORw0KGgoAAAANSUhEUgAAAJoAAAAUBAMAAACHazmMAAAAMFBMVEX///8QEBCIiIhmZma6urrM\n",
       "zMxUVFQiIiJERETc3Nzu7u6qqqp2dnaYmJgyMjIAAAAcRTyBAAAAAXRSTlMAQObYZgAAAixJREFU\n",
       "OMuVlD1oFEEUx/85bj9uMxtTpEgVg8HYCIaAVkZOUkQEUVPERvAKA4mFBCFaKOawyZ0g2UJJGnFJ\n",
       "cYQUZ9DCIs2RpJCocIidH2xACwN+dWrlzLzZdWYvm+iDPzv3ezv/m7czb4CWKDRJWdEeZPNIDN7r\n",
       "dEkpHd63yjbY/i5MphKHuue2rhch+Avxe1tPflZqCbc5BjwG6ulENOrdHZJ8QdRW1lL+AKk17Olc\n",
       "L9oA1ptKlM/goCt5R8gfK1rKCUia/+yN29LtVDgOh5fcaXLhtupK7m8uL8/rc+eVkrDuhGptD0r1\n",
       "kLvho8mF28YS8Z+Vyi19cp/SYv/9w7KkejzJDp5YJeG2DoNzt/z0OHH+qOpu90hew7/myA1PttAO\n",
       "WPG1cPsAg6N8cuZHkfgwvEh3u0liIfudl5+v/NcNV+wLfPAMBheVvnpH3EHOOKpdJA8uvW71fOWh\n",
       "3GrY4oNLJhdubr4pOWs62MEN2EcHoaCvzWqcj90KxtpclCQvRPxMYu1o/zmjUp5ToFNzw1t+EjBi\n",
       "cuFmi6YSvHoZyIVXnaKxC+3hEU4FGEzcuD1bSHZh0Fib3yD+dIp/BHyJU+uksytzeEjHOT7bHWJw\n",
       "guu4yRFdxMtjitP3+RWnRki1A4tDtDvexGnajpluUJN+MnjS9ZL7oh7ru5XZWfnnqoPiy2Rqd45H\n",
       "LGJ7dn0cLV2f5rU3a5sxrCLVHemo/w/Pui2h/90/871ucj/I5H8AFOie/mc16OgAAAAASUVORK5C\n",
       "YII=\n",
       "\" style=\"display:inline;vertical-align:middle;\" /></a></dd>"
      ],
      "text/plain": [
       "<IPython.core.display.HTML object>"
      ]
     },
     "metadata": {},
     "output_type": "display_data"
    },
    {
     "data": {
      "text/html": [
       "<dt><a class=\"ProveItLink\" href=\"../numbers/number_sets/natural_numbers/_theory_nbs_/axioms.ipynb#natural_pos_def\">proveit.numbers.number_sets.natural_numbers.natural_pos_def</a></dt><dd><a class=\"ProveItLink\" href=\"../numbers/number_sets/natural_numbers/__pv_it/axioms/320872b8f54076cdd0f5a9f6619f2b3bd3ee6b660/expr.ipynb\"><img src=\"data:image/png;base64,iVBORw0KGgoAAAANSUhEUgAAAMAAAAAaBAMAAAATV059AAAAMFBMVEX///9mZmaqqqrc3NyIiIgi\n",
       "IiJUVFTMzMyYmJi6uroQEBB2dnZEREQyMjLu7u4AAAA1o4RqAAAAAXRSTlMAQObYZgAAAlhJREFU\n",
       "SMfFljFoFEEUhv/cmd29bDJJeSDIdieixCKIVdyAsVCRiDaCgYVTgoWyQkyTQA7BIqbwLGxOxO3S\n",
       "bjAiEU4OEbE4g7GwUE4GK5vAiaAYLZzZvdsZjtndu2DiK475Z+bmm5n33rwF9s603QYM/heAkZeE\n",
       "ThMXuHmudwD5JCuznLxCxVV0bv15S/F8u6wGGM0uAWvLbPG+d6qhN7oD0sT1xsdGo9Q5aE51Bxiy\n",
       "yIXO2W276p4EvJgrSgRsif3cBapxgGsbmoupnQDIU7vdfA2M0hhAcY583hkAmHzRavwAHltxgIw9\n",
       "lwh4WBybsCWA0MCdA+FZvjGADdNTArBu2DKg2uC2GWY3iwu/bpPvEkBoZkeK/Df7G1i0O2JOADQ6\n",
       "wwFZxeAhF7o1jexPAZA0t0c3+F/ZCRZ9YFMNIM6Qp46+BRZ7hPxqby0ASDoAbIgrgnZRCcC87iXk\n",
       "ZqYZ3FR0RUJHV8SdPGoBH9QngGHVpI7QB+FcrRbk53CJCoDQkZNRB+7RDh/o59dx2gFmWPtJLeYE\n",
       "PIoGfBbjvgAILcK0lWjiIr6s5nHYpH1sI+8R94i0ACfKqBquAERaSrR+i6zIWWO8HKc4aI+YwK1t\n",
       "tnuSBHgAHLst+SDS0lNB1k654WwjPzsB3OedhcKYmVYjun3sxGyjUho4imDDBfPrfCrA6xUwPolh\n",
       "SkYCAPzVNEDX9QBou/IKKtAv1+uvGOB4f2od7a2i8fEV7NfhhCfIzaYCMnJN3uem1+RsE5cKeMb1\n",
       "ErD87z8dcg7OlDDI0jo3Xd7FT6GzzAeB/QXp0reiDRbLswAAAABJRU5ErkJggg==\n",
       "\" style=\"display:inline;vertical-align:middle;\" /></a></dd>"
      ],
      "text/plain": [
       "<IPython.core.display.HTML object>"
      ]
     },
     "metadata": {},
     "output_type": "display_data"
    },
    {
     "data": {
      "text/html": [
       "<dt><a class=\"ProveItLink\" href=\"../numbers/number_sets/integers/_theory_nbs_/axioms.ipynb#integers_def\">proveit.numbers.number_sets.integers.integers_def</a></dt><dd><a class=\"ProveItLink\" href=\"../numbers/number_sets/integers/__pv_it/axioms/449379b76bf9e718868d774f35f2da4f0509d58a0/expr.ipynb\"><img src=\"data:image/png;base64,iVBORw0KGgoAAAANSUhEUgAAAL8AAAAaBAMAAAAUFZBoAAAAMFBMVEX///9UVFTc3Nzu7u6qqqp2\n",
       "dnbMzMxmZmZERESIiIiYmJgyMjIQEBAiIiK6uroAAABqpg13AAAAAXRSTlMAQObYZgAAAtBJREFU\n",
       "SMe1lk2I00AUgF9+Jk3bbSgIi6wIXQ/irREPKj20CLoIgpUKgqhE6cHDlg3o0q2iBFaw4iU3WfDQ\n",
       "g1ZXRANFUHbRKipF0C0ingQrqHhQFHoTEd8k9ic/E7DFgUwy85L3zfubCQCjSR0Yu0XDhMfH1w9K\n",
       "MkTYCJ6OnfFaWlHZSg6zRREzcFq451/mc7aWBMKVd79WXq7WvKK0KjyqNoCsvXIb8MOv5WxIEHS8\n",
       "LmpgyT7RIQC5hnHI0oHtBIF2pO3XcpQN4HE9kTyQ3DGf6CkA9zZqwgQdWLSLjwCANwhQYVrSfegu\n",
       "Ar6ok5CgI1trYhTAgt0vyr5EiDURsDmZUccEXLWVmbf8SYRe4VJ7pWQIQDmwaamC9yMhgO906TsE\n",
       "wx6QFbvZ7pINCiCdZQ+AswYfE/kSZFMAd0MAcxp2k1zKJ4gnKQDWcSU3YJ82eKeYsCCN47jOBqRx\n",
       "w1H0TwEVotuArbDqApx8TfPVsVRTsx1n9RsDipI4N3wF0w/dUfBa4ACk/Kzbgq9DFsB+gA1/rfUH\n",
       "cWDBQYJdcxAD+3XZcRFck/t1kLFjYLhL+KfgjUFpvhN93AfMpYBPTuOw6VkAVcThaskWOjpPuxlf\n",
       "mj4DsUuGs0jYXa6JRgFO9QGYRbK6CMKU4d1EkBjP9TaaDKKUhhfA/wZi1Yfr4OaubSAuRyBPyufK\n",
       "p+nMbfTq5VZ1reVNBKUL0vtWzzH8/T3F9aqvDtrAT+UcwI36ko7pgk9i8YSZ71uwwMwv9yYqXak4\n",
       "qcyq5Dsv4ImzW4laoT4APGAC5oOnSTMQwO9sQxe2OwBC9B5A6DIBs4wDjXEecKbShFK1WjVFja+1\n",
       "e4AY+8zkcsHzASca9eaEFslrnGMBfMbCk5x61ZgAwQqeF4PP5DQkPmqEqot1IJbvCa+HbFMz//T/\n",
       "8AGieMBfwKdvDwF6juGNkE/EEf6LohgD136hwv9vfwAWGK90UNmFmAAAAABJRU5ErkJggg==\n",
       "\" style=\"display:inline;vertical-align:middle;\" /></a></dd>"
      ],
      "text/plain": [
       "<IPython.core.display.HTML object>"
      ]
     },
     "metadata": {},
     "output_type": "display_data"
    },
    {
     "data": {
      "text/html": [
       "<dt><a class=\"ProveItLink\" href=\"../numbers/number_sets/rational_numbers/_theory_nbs_/axioms.ipynb#rationals_def\">proveit.numbers.number_sets.rational_numbers.rationals_def</a></dt><dd><a class=\"ProveItLink\" href=\"../numbers/number_sets/rational_numbers/__pv_it/axioms/8e34cbb60891dead9ca24838969b7c8dd61915430/expr.ipynb\"><img src=\"data:image/png;base64,iVBORw0KGgoAAAANSUhEUgAAANkAAAAqCAMAAAAJZg7zAAAAOVBMVEX///8kJCQNDQ0oKCgQEBCq\n",
       "qqp2dnaYmJiIiIjc3NwiIiLu7u66urpUVFQyMjJERERmZmbMzMwAAABdFfPVAAAAAXRSTlMAQObY\n",
       "ZgAAA4BJREFUaN7dmdli4yAMRZkZdrH//8cO4A0c29gJbtLwlLZE9pEQulIRemYx69Edi2mF3rmE\n",
       "kfMLCEcdx9DLNA/6jWCA7fxZYYGQCR29hs37yFyABZKlX9iO1kkgbyMrQjZASt7TfHDvI9M1JAR/\n",
       "k/n3kUGg+fygLyRLOaENIuLLyJCNGcakRrT8u4cvIAPNuReaV/WVnqq2FH6CzDtrrTlb/1uPLsnA\n",
       "YrlT7ctvcEb9DWSgtYx5AkZb6E0Wy/j2JV660cRsBSn6k1nl/EDoDXQn2y68oijuDOdvme5knKHR\n",
       "qAV1xmq4QqbCprN0UQKtHrQH9CYzUdWOjAqdOY8tkVCRUdkK2egpNQXX9NJqQiPPRv+yM/daU9hV\n",
       "Nky8Pd3DF8omCAZPqTBqNBo6dQ6KIzI+2cePbHo9U6wqSLLl0+puDDF1IYja6r+/hVWRhQzyExng\n",
       "TsLR12QtoS3ah6UkG7In8P2QRTI3kE3lXshOaMVpJIg2ZBLBJXpY1g6ZM7O8LJxZ3RHr05gSHndR\n",
       "a7a8QVr3EmgrrsQsHzm1ysyViaBX6Us6BS3eG3a+9RnayrOSlwV1gSywqlXNVv/g2qq1g12YI9ar\n",
       "K6JLpT7jK9e6uyoyNTXeRRxXUV9VahVYv4mRG9SVO2USAj9PpqNJW/tLPbhPJnU1B8rKrtOwYMzp\n",
       "+QOmF259x+nKX48KDijniyjBPacq+W3IWVVTyp8tLX9c7Ym7YL4LGhXERAdfVsSPWv6YrCm6u3ee\n",
       "IvZoxqnLZI+H+JCMUPTTZE+28xta/pCs3Sd9CtmGludH5UihrmTKmLvItrX8fRMejS111s3JTV1j\n",
       "w7OPXmn5+8iAUJfqbaq8FDiUk4bDDc8+elvL9ydjlghIj4ognomlRE5O3d3w7KM3tXy/oZ/j2vi1\n",
       "bnHFeDN2dVzDwYZr4wXZ0PKvTdIWN4H08dUhTzSK8AmyXFFcAuLuYMNFKab2tHwPybAkbboGvMyx\n",
       "K8h5GZE8pDYHGy72qkuMtrT8i2BL/FOXy9PZ9NLmldKZ5umymAZd8flOH2y4GjU8FdwNLf/S6EJK\n",
       "X5zLGD3L0r2wpJ4ieQIw9f7ptCQH7G643q7CrpZ/iaxKECximuVmeJmNO5QzW6bJXnyHmGbM7mz4\n",
       "4KU0J3xoGu14RpnWmlIjY4x8ipWPP6GdDb9k8SmNSnXd2vBbV89/R37WauT3fyIlKrSih1qgAAAA\n",
       "AElFTkSuQmCC\n",
       "\" style=\"display:inline;vertical-align:middle;\" /></a></dd>"
      ],
      "text/plain": [
       "<IPython.core.display.HTML object>"
      ]
     },
     "metadata": {},
     "output_type": "display_data"
    },
    {
     "data": {
      "text/html": [
       "<dt><a class=\"ProveItLink\" href=\"../numbers/number_sets/rational_numbers/_theory_nbs_/axioms.ipynb#rationals_pos_def\">proveit.numbers.number_sets.rational_numbers.rationals_pos_def</a></dt><dd><a class=\"ProveItLink\" href=\"../numbers/number_sets/rational_numbers/__pv_it/axioms/d1c579ce7340ad09185a585e3e442f96696159050/expr.ipynb\"><img src=\"data:image/png;base64,iVBORw0KGgoAAAANSUhEUgAAALoAAAAcBAMAAAAkZbgxAAAAMFBMVEX///8QEBCqqqp2dnaYmJiI\n",
       "iIjc3NwiIiLu7u66urpUVFQyMjJERERmZmbMzMwAAAC8H5PlAAAAAXRSTlMAQObYZgAAArxJREFU\n",
       "SMdjYKAXWEBT0w/Q3XSWKwg2XwM+3W8jSDadYzMSh3kCXu0TH2C19MzplbhMZ/lAlOmmzkCTeTdg\n",
       "kelansCx6wQD1+7d0ru3oEsyFxBjOrcCRxmaWhg4eQ9ow+sG7G7HY3q3A5zpyMBgjd10Vgegh3g6\n",
       "F5BsOod5AIx5ioFBvwGr6dxsF4BWTDhBsukMDOEWUMYvBob5ClhNz+ID+pDTwRKP6WwmEZFIpie7\n",
       "tkKtcb8B8cVfoOkBDMwCmPqnMikAU3KACsJ05t1gcAHE5gKlg4kJXB8QpnOKMayHadZeBiLZPjMw\n",
       "vA9ATV9Q8BRiuhKQmYApqwhMaRwiEEugpjc6MKyGy89eATId6Pb3BgwMezH1c4FDRsEMa1J7A0xo\n",
       "DLwfGBgNEKbfZ2AQRph+AhEyDFylGAbwQGJ1Ae78x3iAIX8CwnQZBrafqCEDilV9YAjswtTP6XAA\n",
       "lCIdkGISEu5g+7iAkv0BDP6INMPxFRHA0FhlOMPA4N+AFu4cVrYgqy1BuektjlwISjP9CgynkUz/\n",
       "xMCzAS1FQnMTPM002V5hSF3AYAL0D8v1BI69DnhM5w5g+YyU3rcy+Bug5SZ2BQ45pLzBciijgSHM\n",
       "gaFVDcT5vV+BAY/pHEuDfiKZ3hWqPwGtJOAwjXoANb03dBLDXFBp/SiBgZUFJGnJtACf6fCSEpZX\n",
       "/fG4pI7vGwMo4FhagGmFFSxspn3VAIcOAXieQpi+GrfpvBf4BDhA+ZAVZDozWDz3zF4chSvE1ZDk\n",
       "DjddGLtaUPnOqMC6gK/mzJmjTKCQYSZUG4LqJub9tcimW3+/gD1vAKX7E3gCwLU/xzJgrDoRMp0J\n",
       "qV5lfUCwXmVMeP+AwQ7EjV3AYErtZgDnUntg3gQlQdbvNr+o37DwBuKYM0dB+X8C9U2/DGOwHXNK\n",
       "o7bhvL/hkdNqGwEAfXfFnFahWOgAAAAASUVORK5CYII=\n",
       "\" style=\"display:inline;vertical-align:middle;\" /></a></dd>"
      ],
      "text/plain": [
       "<IPython.core.display.HTML object>"
      ]
     },
     "metadata": {},
     "output_type": "display_data"
    },
    {
     "data": {
      "text/html": [
       "<dt><a class=\"ProveItLink\" href=\"../numbers/number_sets/rational_numbers/_theory_nbs_/axioms.ipynb#rationals_neg_def\">proveit.numbers.number_sets.rational_numbers.rationals_neg_def</a></dt><dd><a class=\"ProveItLink\" href=\"../numbers/number_sets/rational_numbers/__pv_it/axioms/69ff40787af0511d8a01b601c3af75eba16562110/expr.ipynb\"><img src=\"data:image/png;base64,iVBORw0KGgoAAAANSUhEUgAAALoAAAAZBAMAAAB0qCmCAAAAMFBMVEX///8QEBCqqqp2dnaYmJiI\n",
       "iIjc3NwiIiLu7u66urpUVFQyMjJERERmZmbMzMwAAAC8H5PlAAAAAXRSTlMAQObYZgAAApFJREFU\n",
       "SMetlVFo00AYx780Sb2mbdiDzyOI+CKyCuukajXORxGDoFRRyIsiwlBw88lJUffgZDQKPop92UT0\n",
       "ofg4qSvCtLo8FFR8kyL4JKOFgeKG4HdJc4nmks7Rgzb55+5+d/fd/7sD6FOO6+xVLcc1XC3Bf5d7\n",
       "Of9dtGKb3m9zB7VXnkZ2OQGboeePIjlb49TMPjHJYhNSNpZmqHbfZuhpjVzH6qucqndfcITvUSHt\n",
       "Q0+8ov9HAA7w6bKOC8rcrW6JLk2b9PEeYKTMpaeTLRzCam6FLl9zl7wO8Fjj0i+raLmUXoihJ0dL\n",
       "ZwJ0T8LtKbcN+Y10A8ShcPeHCQ2dbOwMTPGlU1qOeEatZirdAN2Tc5O9Dsk1gI4BUjdM/+bSd/Cn\n",
       "nhjGqW0HpebTPam88Bolce4dzIt6uL/iREYb48LVt7hr2S4IOZ/uyVlG70UGlKkQIOPuaoRnUjh3\n",
       "oQFXLJ/O5IQXGbqrIxiBRU5/vUEdqYfi7o73HKBi9DLWpTPJdhVszOnyP3En+4sL+CjQbFqFaM9U\n",
       "NFgJ0j3pO7KXTcwzt4of4UIVRnE90meT1PUYetqQ1gJ0Jv1s2qaR4UCuSq8vleG0DjO7qNhY0iCG\n",
       "TuZP/grQmfRPApI/2+7R5049gEfUD19NkCVaWUhU4+jgRdTLVZ6xwaWTm+oPoH6V7mDgZOfz2O5P\n",
       "uQj6Xse1tb/oSi2Snm2pQ4TmoUzpovN9wq5bcee7a3dGF/hToee7oMlV9YZtLydoZMR+d1MaSeLS\n",
       "dJDuydDdhNUVM2MAjTNZwF0d73v17fHtJLf73quC2WnDISrPVyHfgMGW1PxhzE1qQfnnwXUYeDmG\n",
       "v3P2Ms1/a/D0D+zkfDN+cdDw7AbbnJli6Q/n/LicDCTAGwAAAABJRU5ErkJggg==\n",
       "\" style=\"display:inline;vertical-align:middle;\" /></a></dd>"
      ],
      "text/plain": [
       "<IPython.core.display.HTML object>"
      ]
     },
     "metadata": {},
     "output_type": "display_data"
    },
    {
     "data": {
      "text/html": [
       "<dt><a class=\"ProveItLink\" href=\"../numbers/number_sets/rational_numbers/_theory_nbs_/axioms.ipynb#rationals_non_neg_def\">proveit.numbers.number_sets.rational_numbers.rationals_non_neg_def</a></dt><dd><a class=\"ProveItLink\" href=\"../numbers/number_sets/rational_numbers/__pv_it/axioms/ec2b897d60bbb57d131ce03604b4aaecac4496920/expr.ipynb\"><img src=\"data:image/png;base64,iVBORw0KGgoAAAANSUhEUgAAAMIAAAAdBAMAAAAKp674AAAAMFBMVEX///8QEBCqqqp2dnaYmJiI\n",
       "iIjc3NwiIiLu7u66urpUVFQyMjJERERmZmbMzMwAAAC8H5PlAAAAAXRSTlMAQObYZgAAAvZJREFU\n",
       "SMe1lk1oE0EUx1+S3WSaj20Pnssi4sEirdi0Rhtd24MHERdBjVphL4oIohcrgpagFtEqiYInEXNp\n",
       "RColeJJKaBCqiV2koFIPRYLgSUsCBT9aFN/sZj+S3WziYQeSnTezM7+d9/5v3wLUNzbaBy61jqxy\n",
       "GYEtbhHg3Az9vwydSfcQ7wDIX/DwrhHgegm4HxAQLBMHjCHO8YQriVaIF9wvCIiNw5Om4PvSjjvc\n",
       "K9uC5YWnau+EgGfwWAgHoR1CdAR3j+RsZm4/kchsETtklKdx6LTsMdiUcPOT3g3xZAynL9gQSp+R\n",
       "8i0JZCjdREvNCdCT1Xp7AXbZE1gBDxa+lSHLytqTNvngQICHM7XOW4DepC0h5F9ETLrIqTFity/+\n",
       "FwG+l9TrGsBj3pZwlkMpdggxB4FQgr8/ccxE0Ey6wXP6T/4gQQRfl3X5Ay9mGCduqh/1vVSaep5p\n",
       "KkMpWDURNFPJ1DGKXAWoiMBUrYSvKmGjV8ZWtDuCtxsfcQMEcwZBN2nbR5/Dj2eoYN7kreuDipf4\n",
       "gaY+4t5IqPMqePoMgm5iO7rD5CUIXrRsEFYjnXF46+IZPAU4nzYIuglkUNQj3YvemLVZLxSoWgXb\n",
       "OKjcZwApsZbZKkE3/UvaQhlzP9kQB7IzTvMlRjNuBZy1lOJhwUyomf5pviHjdC1di3+AUxnoxxuY\n",
       "JYnkhRaEkMismgiaecfIjgBPuk05zbw6k4QjAkxspsb6nHNJQAKZOvTbRNBNk0eix8s1wt3D9+ER\n",
       "1cgXCViGTsa8mVYE0Dys5bSd8EElkHF8Q1MtMzdQQ6wyPNDz0an+b1NUnasjBHNNCZFFrovQHGEp\n",
       "wadmpZx3KiyKbGr61wiqOXmJtnHjVlofPDyb4a7I8ryXesnXTnUN4W6+uatmgmZaahxOp6SwCNTv\n",
       "JIuRHm6rgG81pMaWW9Zpj1Qpw26lFGQgWnDjy2tqD+YwlSf7c2jNnY+W/fgblefpuyLtDuG91vG/\n",
       "Hj7tBiCyrgdrIp74BzeC0oE9I4RiAAAAAElFTkSuQmCC\n",
       "\" style=\"display:inline;vertical-align:middle;\" /></a></dd>"
      ],
      "text/plain": [
       "<IPython.core.display.HTML object>"
      ]
     },
     "metadata": {},
     "output_type": "display_data"
    },
    {
     "data": {
      "text/html": [
       "<dt><a class=\"ProveItLink\" href=\"../numbers/number_sets/real_numbers/_theory_nbs_/axioms.ipynb#in_IntervalOO_def\">proveit.numbers.number_sets.real_numbers.in_IntervalOO_def</a></dt><dd><a class=\"ProveItLink\" href=\"../numbers/number_sets/real_numbers/__pv_it/axioms/ce9cc6c903415cfaf223093beae6158664cf86770/expr.ipynb\"><img src=\"data:image/png;base64,iVBORw0KGgoAAAANSUhEUgAAAc0AAAAVBAMAAADWcajYAAAAMFBMVEX///8QEBCIiIhmZma6urrM\n",
       "zMxUVFQiIiJERETc3Nzu7u6qqqp2dnaYmJgyMjIAAAAcRTyBAAAAAXRSTlMAQObYZgAABRtJREFU\n",
       "WMPdWF1oHFUUPjs7s7OZndn44EMRlCXVVIrokiIi2ro2iChI1pfqg9AQbbEgYak/xdqG0ZduFOn4\n",
       "g+1D1GkDaQmlO9iHkiK6bIXKltZFC0kKhUVpSxVjCAg2gnju3Dtz752Z3W3smwe+bnrvOd+Zb/be\n",
       "c89dgJ724NX4WF+LApKnJJtjiNrnDJ1sridzV5vjsK6XoE3GrnQL+C7B5zhDgonDxrsVgIxDETHD\n",
       "pojZ/LqDS+taCTHHb1WilJbALMF5MvFrd51xnxsMCSYN54uYtU0RsbxDEbf2DLy44PIYJ4m5q4lp\n",
       "CVDnYbIg7O46Yz5WkSLB5OF+D/9pMMj2E0Pc7CnI9o3ymF+SmNFyCRvqm3IsbcPXmXfxw+uuM+aj\n",
       "OxSCvAN7JsIpbiMYCUcYZHubIU6BOtNOO4zRDrgJzOj/enw1zD8aT3vE12k1Z2cPQXedMZ9DDKFp\n",
       "77nCFLdz/ioqUchFpUKRQOHrtMOYzNZCAjMo+9zYo25oJqRFoE74q1rd10NnzGc9w9HBTx/wH+Kk\n",
       "K071PT50F/3ftYHH8G0WKeTHLFIYA7u2NmQK1JlRR8OYk1BJYD6xOyg6AQEY5wqQkBZBdO4AmAwy\n",
       "qEvJOkUfYh9SGHVrt+5Xi13S1JNOfplm/setOWChi+W7XVwi5u+3bIviBMwXJmQK1Hl6ixvEYBU8\n",
       "H2ee3h94hwTGI8G5I6dFEJ3DYjE8yz5P3//yz4LO4UjBfIfCdM1V1d8ktjhl3A1pOpBbhf4C5PD7\n",
       "yFUib0/3KJrwg/uMTGF/tGeCVAMWU4EvYsyZ30LvkGA8rCByWgTRqYPCz18Sbny9qaWY0CxwnZIP\n",
       "2p0UBmTp02n3kO8pmEqvgk6D022o1UHDr0BbjuhMlShcqEYp7KnhLFnENMYqQKYcZZ7hOgMCg+uU\n",
       "0yKITrOl8+w3EQtzs4A6L7e4TsmH6wTy2kA+dHA4ZUOtHJxjI153nQArUQp7Kv2UHerUXdBGY8yf\n",
       "7OdUK6yyhetWTst09rW3kfU+SA4jbWXQVcnuJzrrXCf1aTw8WJbWLcB2NnCHuG7xXX7Ljs8WPOGC\n",
       "iotHrfD9eU1ct6D9GaXA/fn+jxDEnAo6BImZ16GQgNchOa1K1y1MvoIub2qrRN5epZgHqnNTkev0\n",
       "fRR3XC9JdSjnPoSjZGBIrEM1D8Zz/rbtL+GOEuqQYEEdOqMsw0aZAnVuS5eDmBtMq8zMz5WQgJ8r\n",
       "clpWh+AUak4XNfLysgWrPe2TpHe+IdQh30eD38VyhRjxDrJOXPeEKWR5y4Qapsi0svi20nUKyVjF\n",
       "V//OLtP+nFNg32d6O1iMZtO1KzBLfQIn4H2CnBbh6yR7LOUpo/6mSY++UK1WC4r58SVRJ92HN4Oh\n",
       "pylmBo5upimMV5/lU8bYfZ/dC/pe/GvoAtkuZQrJ2IoyxjauvyJTYB9/Fap/eDQmQx5RKYjMUt/H\n",
       "CXjfJ6dF+DotfFk1J3sZP/rdlJeh6zb3kivotGj90zr2fer3sb7vTPDHMYYefV9IIcaB6v9ZTuj7\n",
       "etkxDjPoxlLO9ufgsKu7C2CW6f5sCnXIty/NtrmWPj5cqWvt48W4jjeE3ib38exdjn21GZ73tNfw\n",
       "4T4gfcLF+vSWiM6ZS41mwDEJkQ6JWzBsBOdvh3tZ1qHofItsd2C+xUuofC8TjVYCBfdnpO9LvEz3\n",
       "uGdbPQR1vGeLcf/tni2lzTpRnbnkt7vhNn83WWRY6+8mi7f3u8kih3Jd0mnB/9f+BbdS5pRTRqZz\n",
       "AAAAAElFTkSuQmCC\n",
       "\" style=\"display:inline;vertical-align:middle;\" /></a></dd>"
      ],
      "text/plain": [
       "<IPython.core.display.HTML object>"
      ]
     },
     "metadata": {},
     "output_type": "display_data"
    },
    {
     "data": {
      "text/html": [
       "<dt><a class=\"ProveItLink\" href=\"../numbers/number_sets/real_numbers/_theory_nbs_/axioms.ipynb#in_IntervalOC_def\">proveit.numbers.number_sets.real_numbers.in_IntervalOC_def</a></dt><dd><a class=\"ProveItLink\" href=\"../numbers/number_sets/real_numbers/__pv_it/axioms/811d818ab984c9de9c43322de4b2d06d477f05010/expr.ipynb\"><img src=\"data:image/png;base64,iVBORw0KGgoAAAANSUhEUgAAAcsAAAAVBAMAAADbb9ifAAAAMFBMVEX///8QEBCIiIhmZma6urrM\n",
       "zMxUVFQiIiJERETc3Nzu7u6qqqp2dnaYmJgyMjIAAAAcRTyBAAAAAXRSTlMAQObYZgAABSVJREFU\n",
       "WMPdWF1oHFUUPtnZ2Z/Z2Y0PPhRBWVJNJIguKSKiratBioJmfal5EBpqIhYkhPoTqG1YRXCjaNcf\n",
       "2j5EHBtISyjuoA8lRewShcqKupRCk0JhEGpQMYaAYCOI99yfuXdmbmab9s0Dh93ce853zjc599wz\n",
       "C9BR7r0aXcu2mYJ+S5X8ShkWtoTAZKETcLwsSMUMPFy7EufwrcbmFFeNqMvWGxMAdhlSda2ZFuHS\n",
       "tiOr2wijiM+p62VIo6K7UJLB97jxWzzNqM2vXDUSWC6UaBDL05rpEbw5GF5yfJ+sFngT6auIqOgu\n",
       "lGRwHJGq8TQjNvkSU40El7tdGgQWdWabIFRnIJMd8X0KJR0wkVzkMFnni35U6s6VZFBwyIcbTzNi\n",
       "k64zVdJ+e3LK35Iy5DCan4VBYxAITaPu+T7DB0EDTOxfDld19oG2jErduZIM8q35+WMQTzNic4yr\n",
       "L+abjrIl5TwwmoVyCDQGgdKs+j6jPTpgSBxywizHXSUqdeeKGfxdqx3qQDNis53rid6P76F18rmj\n",
       "bmUfHriN/fVLz0M0iB2uOIFg9ex/bDGIQGimkiPCx/LSOuDTB0ShCgDzff9RYlTqzhUzGAOYFvvJ\n",
       "VT1N1QblPaZWM38gTTvF/sDWo/XCGsvhX6dRxyB5tLJXqZQUBDgNl4pTQQRC88wuh/uQw8KPSwB4\n",
       "9rCw9gFqFf+IYlTqzhUzGFT74Df888zdz/+s0BwM9crXmdqOvZGkJ6Sqblm3g8EWchvQXcQguYnQ\n",
       "s+MI0IKfnCeCCNUPJqeQGfNJQ9aLAKd+9619gL5+vzdhVOrOFTNIQ0Leu+hufbWjnbChVZQ0AzZE\n",
       "bmVqQYZlZ96B/yaxZWxAmjkbHjSaGMRcC9HkCOBALYxQnRnMYAUznwu0lkLAc5KmACAXbot/oVGp\n",
       "O1d6bNppGf0a0aWFeSA0L7clzYCNkiQ+NQjeNmS5qwqNirgMhtxYmgDrYYTqjPF41adJ+uyeKPBH\n",
       "hyXUuvjy9YMgo4ZpZj2Eme3FW8hc73WSeHaQZlPSZDaL9/dWgiUHe/nCLWo1kkd5jl+bbXjEwSDJ\n",
       "CXk2RwII5l9hBHI237kA3CdHsinUI8CyBfkARJ4ek1GpO1fMAKZHSfm9am4gu4OJUgEYzR0lSZPa\n",
       "JJzxdDnQgnLOfWQVFwbUFtRwYTxHU+suk+PktyBNE4OziTXoDyIQmnuMCvdBirlSBFheKD4AvWPf\n",
       "8qOGWxB8SSgbJROfXaaY92YpiPHCK0oLojYm/KF2KqJD7hH4hN3drrJFUF6zoUFCpNoZ1s6NZogm\n",
       "R0j+k1ljI7lEIMOe7Y5xn2FeuApwYDyQAFSOYnXRqNSdK6WJ56vLTWAtdZWNkWdrtVoxYX94UaXJ\n",
       "zuA1sbSb6VzPiZ0shPXik3LL2nfX0TshTZKzBn7g40ElRHO3MO3ffiWIQEb3q1D702U+o7jUEwAO\n",
       "DHsSQJn5MCp150pp5sl/v1HPXCYf3U6Xm2JFm3vOUWjmWeszNx3Vkt9Fhr2z/BODnOw87PkIQqgP\n",
       "PSWmbtjrJCel2mJw6KrvfQqOO2lnCewKO5stpQVR+dT27K2M7k2F5lZGdyGLce8EnSU4uvNHue+L\n",
       "nfCMa75EcnsXx4Mfm7O7QjTnLi6Km4nORNN6eLFsFSVNzYtYDAL39zYB3sR8ZRKlororL2KqsC6Q\n",
       "IGczNOxd/0uxXM6DpJmpbwWBSeaGX6t9d6FBmjl99ffd3I8kiZUyLN/AjyTLN/cjybJUzECtfvjf\n",
       "yn+XddxXMjmr8wAAAABJRU5ErkJggg==\n",
       "\" style=\"display:inline;vertical-align:middle;\" /></a></dd>"
      ],
      "text/plain": [
       "<IPython.core.display.HTML object>"
      ]
     },
     "metadata": {},
     "output_type": "display_data"
    },
    {
     "data": {
      "text/html": [
       "<dt><a class=\"ProveItLink\" href=\"../numbers/number_sets/real_numbers/_theory_nbs_/axioms.ipynb#in_IntervalCO_def\">proveit.numbers.number_sets.real_numbers.in_IntervalCO_def</a></dt><dd><a class=\"ProveItLink\" href=\"../numbers/number_sets/real_numbers/__pv_it/axioms/24bdb4485613577e3cd4776f098374035098bd7e0/expr.ipynb\"><img src=\"data:image/png;base64,iVBORw0KGgoAAAANSUhEUgAAAcsAAAAVBAMAAADbb9ifAAAAMFBMVEX///8QEBCIiIhmZma6urrM\n",
       "zMxUVFQiIiJERETc3Nzu7u6qqqp2dnaYmJgyMjIAAAAcRTyBAAAAAXRSTlMAQObYZgAABTBJREFU\n",
       "WMPdWF1oHFUUPpndye7Ozm588CEKyrrVVIrokiIq2roaRBQk60uNIDTEVCxIkGAM1BrWgrhRpKuV\n",
       "tg8RJwmkJZTuoA8lInVJC5UVdSmFJIXCoLZFxTQECjaV4rlz79yfmdmf6JsHvu725pzv3G/uveee\n",
       "WYCW9uDl4FiiTtGG9wJD2wxSXCCifVsQSF3Ng0PGLjULOBvic5whzFuY8d6bAJ1lCp81ZFjqPrja\n",
       "XQ+JOd6uQiUtgZmH78kffm8uM+jzG0NzmZDOYVKHwmeNGZw5GFi2eExCjpBNG2s0YzktAco8SpiK\n",
       "zWUGfFI5ilYyu2z8Z5FBsSYMxSmIJwZ5TDonImQ7MRoSe7oQSLvoykxb+GE3lxnwiZUppGl/MD4R\n",
       "lNmPgTDNoFgTBpQZKTs8ZmCfiJDs0LthG/6xYNppV2aqNj9/BJrLDPgcYeCmH7DCVvOcuxx5CmiT\n",
       "wZVZ5DHDWREh7PAfITPdWgtJi0CZ8FeptL+FzIDPFoaZns8eyJCBk5bkfejMPey/V7KP47PMUUAY\n",
       "g5Hd+/SiyoAyO6ODXozhxERE4oneO+kS/8rrjUcAxrkMhKRFEJl7ACa9mOhquEzZh9jHFEY1NRpz\n",
       "K8VeyTt6B1xjU7hlVcqQQg8CMFddy0kMcAKWMhMqA8o8tdNiMXhY2HEh3k+V02vke/x9cUQ9AuMR\n",
       "78JR0yKIzD65Dp5hn6fuf/VnSWafr1a+Q2Fa5kbUPTJFSeZ0HR6l35Mb0JWBJJZ3AghhgBr8ZD2n\n",
       "MhQ/GZ8gymhMDBKOF2HcBRHXTxvla88JRnjxUNMiiMwYaOLeJTve+GZ7XTOhlhEyFR+02ykMiNPZ\n",
       "6XeTZWLeT1rAimDEgUoVdFwAfc0nkzGABSU/Q3GqL05U0Jjz7l6i3pENiNFZpfZ7Oj0CQ8hU0yKI\n",
       "TLMeE9lvIJYX5gFlXqwLmYqPNEny1EC9bc5CNxjX+V3QbzeXCbDuZyhORZ4pcplYZ3d5ER1FqBTY\n",
       "iv3CC+86u1/5plXTMpkJh9DM9pAmTV/vsaLk7BCZVSGT+iw+3FNQtxzsZgO3CZnG35BkorrqZGmj\n",
       "uHMIvLM5qDDo1/0MeDY/PA8sJomzSZdZBK7Rt7yMXGGpPQJRgtS0UbppYXIYXcb0DaJun5ZLA5W5\n",
       "PSddEcRHs0ZieaUEJa2HcJQM9Eoyb0KnQxvSrjyeJlGCQooYfK2twTaVAWXuihRYDJGY9IpWxYaR\n",
       "pLeKesmdDCcQF4qalpUg+AolR3I6eXbxTMqZdWVGXntL7muIjw5/ypUK0W8fhM/p3W0L7wOwNFg1\n",
       "buH3znocZxipUijGGKI342u0JRcM2OyZ9h4WM8A2ruuN03vbFK08ObOCQLQHalqEK5Ocrw5bI3up\n",
       "Ix8ZfKlUKmU089MLskx6Bm94Q89SzGVndtAUxuvPc++57MtDeRjHVTZ6fyALUqBQjDEYQ9u2XFIZ\n",
       "sHW/DKVrNo0ZJkNZ8LzvO3yvr03nBKLZU9MiXJkpnFClHL+IH11Wh91JN23yFbmvSdHSpzds1aLf\n",
       "+Zq9JC/5xxhaNHucQY4Dd2PqIc1eSzsmYHo9WEd59wtw1IpZy2AW6NmsVX3t2xemY7bfuovNtdnW\n",
       "XY7zRWzG1NadPcqhL3fAi7b+Bmr7iLQHP1Znd/omPndhseZxTIKvLwrInOHbKvxFrDGDFBeIYHZy\n",
       "nNhYq3DpRUw2WgU0PJsNX63afq3mZSFepmibQYr7d6/VStp42S8zGb77t27qR5KA9wrDZn8kWflv\n",
       "P5KsCGhXFZkp+N/aP0mw7Rua963xAAAAAElFTkSuQmCC\n",
       "\" style=\"display:inline;vertical-align:middle;\" /></a></dd>"
      ],
      "text/plain": [
       "<IPython.core.display.HTML object>"
      ]
     },
     "metadata": {},
     "output_type": "display_data"
    },
    {
     "data": {
      "text/html": [
       "<dt><a class=\"ProveItLink\" href=\"../numbers/number_sets/real_numbers/_theory_nbs_/axioms.ipynb#in_IntervalCC_def\">proveit.numbers.number_sets.real_numbers.in_IntervalCC_def</a></dt><dd><a class=\"ProveItLink\" href=\"../numbers/number_sets/real_numbers/__pv_it/axioms/1e60d63bf5d29dc50b57c9a5922b766595253e650/expr.ipynb\"><img src=\"data:image/png;base64,iVBORw0KGgoAAAANSUhEUgAAAcgAAAAVBAMAAAAwWGOcAAAAMFBMVEX///8QEBCIiIhmZma6urrM\n",
       "zMxUVFQiIiJERETc3Nzu7u6qqqp2dnaYmJgyMjIAAAAcRTyBAAAAAXRSTlMAQObYZgAABXRJREFU\n",
       "WMPdWF1oHFUUPpnsz+zsT3wQqm9jAqmEWBeq1IKtoYIiVN36oBGELtEKAStrTAiaWoJWMqmkLlbS\n",
       "vLSMCQQNNV3sQ6lIXeyCkGBcUEgJWlZjK40QQ1CwiRbvuf8zs9lN6psXvuzO5Hzn3O/ec8+cWYB6\n",
       "w1jOBG/Gygz1ra/2QjwftDvNsdEIck7DFgbSBcgMKnjvxxr2iY4UfiQ9kj7mqGKtW20jf0oA3QEz\n",
       "a5AhMJKvObd+GoEgp6p11UGjdmsowSzeX6opMlEgHylXv3mDo7ZIWGQipwNmqTxDcKSsbHjkuOLk\n",
       "NYZnbA8mmNEno05rKMEYJt9gTZH032Oe9U4z1BO5zkQmbL/ZdxzBYcaKMDiqOIsaQ9/YrwM+4WyP\n",
       "iop0gRLdIbpVG4ukGz2r34vmGdS40t9fCYgMrTGR1h1+p29wBB2gyN0pyQkPuYqh1YRdwYJw8i0t\n",
       "KtIFSpCcmZo6BbVF/jA19UlOv3eKQ47Otmo7mcgxkfCLv27lGKo4oCJNyYnssyVD478a3JbR3/So\n",
       "lM5BZvCX4xypI7LJcYaK+r0WjvHWD9txEtaSnq4nL9/Dlj/V1VKgIi/7D0+awWru3vcVeBygyOxj\n",
       "kjMNOcmQjsMnxFJKB9ApF5JGpXQOMoNDAMMyv5arioxkwPQk5wiDVUz2RDHJInnNOnQ3/M4uzi1Z\n",
       "N6nIq3g1t4yDnjGzzHAW5u2j4HFARMZfXxIcckrYOUFr6diRNUc6MN+Vk6NRKZ2DzOBRsCrSQCz5\n",
       "hXtf/FmbdtpXIAcYEm5iLYTTM/Ul+agMD7GLL11YpSIv+BYuWmCYgW/dJ8DjwIxt66eJxzg5OCMZ\n",
       "0vF2kdvKgdEjqz+NSukcZAZRMNQhRvfWFzvLRgJmbJWAObjPM8k7GSwwWV0+gHskCs8jLvAytxes\n",
       "v6nIgz6RDR0MLjjgc2DGSunjIDhJG9OIM5Tj+RnuSDqA5BGhkkaldA6s7+Woin4T69zFKSAiF8pK\n",
       "5DeQqyYSoImtxJi+k3eB9aco/6H1miIB19zrgKTrA51SZNSFcFYwlGO4tFvYr8omZzGvRfWJjFWe\n",
       "Jd8nWq/hiV5tdUN4xFFkUYk8g5ESLc8c8qYrccFOR4MmkixjfIVd/AONa1Tk4+pMXtfTFcJ81g26\n",
       "SPNTW3DOi6aDWGuOAZ7iUxEOsKBcz6iolM6BMxh+iSReXxifLsabRpo2cUTkzrQSaY6SP22RSq+3\n",
       "8MTd+8HALGm0NZHrEKlcpBd/4DGShUd/4vPC87mxAvR8KQdEZDj7oODc4ELRWnOM1fQY/pUOqGCn\n",
       "Q0b1FR44T1KxMR3GhDTtZGWCimx8uVd7KMR3kS+ZVFmvTwRPF97nffOAlq5vw3y2aN0iF4fhHRbi\n",
       "YX/FTlOE1s0V3uYPaG0dzOI5RE54kKUsY1DH6rlIbDQH9PFJt5dGpXSOEj9XDQUjSzO/Mfuc4zi2\n",
       "kfjge/3xTjO/SdZ5ngeTzeN7WIjJY660nmx+vqsD+smNifYyC3HNJzKUo7C62lr4u4FwgA16xjyx\n",
       "zjgRjG3YnMEce5o75UANGpXSOXAGSeL+XN5cIB9NbkMhwtI1/oKriVxgpSCzYVu3f8jX1sVFscO2\n",
       "Lle/rRMO5PyRE6JfM8G2ru5AukBJlLv8wSdhzI26VyCRYWdypuht1GIrc1DcfIOeACVyKw26dGQH\n",
       "GVsY3gad50/XZ3vgQCH8CpHxHj5C54oTe73Ttg7vb5cP3GHQ+qSqIsc1kcFXLWygzHytWU5XYYhd\n",
       "+rUfh+dVa5re6vPQ1auWPljXa5AzueHL06ZfmsuayOHNvzSDvoy399Ls2YVhv8h41aU1jm7p5w+/\n",
       "9Y5eSN7Gzx/J//bzB9IFdvR6/gP/0/EvKjHjCzqBee8AAAAASUVORK5CYII=\n",
       "\" style=\"display:inline;vertical-align:middle;\" /></a></dd>"
      ],
      "text/plain": [
       "<IPython.core.display.HTML object>"
      ]
     },
     "metadata": {},
     "output_type": "display_data"
    },
    {
     "data": {
      "text/html": [
       "<dt><a class=\"ProveItLink\" href=\"../numbers/rounding/_theory_nbs_/axioms.ipynb#ceil_is_an_int\">proveit.numbers.rounding.ceil_is_an_int</a></dt><dd><a class=\"ProveItLink\" href=\"../numbers/rounding/__pv_it/axioms/3742b9e4bcecb261d75bca52211678d4b70965870/expr.ipynb\"><img src=\"data:image/png;base64,iVBORw0KGgoAAAANSUhEUgAAAIoAAAAVBAMAAABrmWvBAAAAMFBMVEX///8QEBCIiIhmZma6urrM\n",
       "zMxUVFQiIiJERETc3Nzu7u6qqqp2dnaYmJgyMjIAAAAcRTyBAAAAAXRSTlMAQObYZgAAAi1JREFU\n",
       "OMudlD9oFEEUxj82t7nbzdx5hWCquCQgkuowpBOJsQhKiqu0CeRQI14RiSBYGIJo4V4k4bCIdi4E\n",
       "RA45AhaipFguFrIB3SKgCJEzaKHgcgqCYuPM7M7suu5eotPMm3+/mffeNw/YpenLXoUbmufZ+K+m\n",
       "udAqIbCduKmvDvCV7RTKQ0QpiFEyl796B967qAKbbPw5hfKpK0W5WUY7BzSBe+zh15Mh+VJXSo8N\n",
       "svYcIAYKFu3WkinZeiIlf+vqAqdYWFHpRXoReafRuJviEJv/m6LesOTMYo7ZH4AfpjmfQhkKKPpg\n",
       "dbwlKc0Qkjd4XjaAGaCWQlkKKI/w2liQlGokhzqP6DvgxJ86eHL43I6wrwUUB6+sk5ISScVMb52f\n",
       "oSGE4gpZrY+4CoFjBOP9AcWCGcZFHfBo8wVTmuT9NE2QmxXoN08boJS3bowCfAspEVkU2LscTtHa\n",
       "p+lEa/RQOVNiUqIUO+YR1O+RHBUlZZOM8eEEtWvn6VnrUnasAJ8yUopF95nSwbCkHJG/rLJCRVPk\n",
       "0cXjOXoZvgCrnNJz4YrYtuFTMr9yHc2VlKzQaM5ahD5LnTpKB/t4MH8CZ0zTNBRyZ0tQJnyKfnZ4\n",
       "aDv0SL94yl8+vtxvHuynD//IpMNUpHZU9Poe9U1Z3X9A5oX/A2TFmAuM+6RNQMp+XBx7b79RNCKU\n",
       "8WCrRTN2mynopb16TKzX9kRpxgoGjcs/VKnIXbtVTD1SbCvJVaiO30pZmvo6YvYwAAAAAElFTkSu\n",
       "QmCC\n",
       "\" style=\"display:inline;vertical-align:middle;\" /></a></dd>"
      ],
      "text/plain": [
       "<IPython.core.display.HTML object>"
      ]
     },
     "metadata": {},
     "output_type": "display_data"
    },
    {
     "data": {
      "text/html": [
       "<dt><a class=\"ProveItLink\" href=\"../numbers/rounding/_theory_nbs_/axioms.ipynb#ceil_of_x_greater_eq_x\">proveit.numbers.rounding.ceil_of_x_greater_eq_x</a></dt><dd><a class=\"ProveItLink\" href=\"../numbers/rounding/__pv_it/axioms/9494d48ee41a64656d805faf9c5eb06fa3e798190/expr.ipynb\"><img src=\"data:image/png;base64,iVBORw0KGgoAAAANSUhEUgAAAIoAAAAVBAMAAABrmWvBAAAAMFBMVEX///8QEBCIiIhmZma6urrM\n",
       "zMxUVFQiIiJERETc3Nzu7u6qqqp2dnaYmJgyMjIAAAAcRTyBAAAAAXRSTlMAQObYZgAAAhlJREFU\n",
       "OMtjYCAAuPreJYAZnO/eHWAgC3BeYOBMQBj4AKsi7gkMDGCZuzhMWcGAbAoDdlMYMhkYToPoVzhM\n",
       "eYnFFK7iBWiq1jEwzAA5vAG7IbwG2NzC/WwCqjIeBQY+oMk8G7Cbwj4Bq49YngWgRoAAA++pVaum\n",
       "4/AQSBxbuLB2OKCoe8LA8KOjowaHKcpQU7iUMp0OIYcuZx7E9YvUpugoMDAcZmBIZWDoxGFKL9SU\n",
       "NQzXFepQ4ojTHBQ2XAd4i9iBgvcYGJxR08F2jeRHMHY11JRTDOcXeKKYwlsMDtYFPL9YgMZtBwYh\n",
       "A9MFWDDtMb7AxMNwSgHKF4GasoChAzW9MNWAY5uLgQMcu/FAAy+wwyRv7FzFADTl1gU0UxgYPqGY\n",
       "sqYIpoNfAWoK54MwIOOQqVoAiwHIGqApB9B8xMD6FdmUybVwn8WD49wdiDtTgHoX5LE78DFATDE2\n",
       "QAvdXUwfGLTgpkx7Dc9BC/SBOsGhy7C5AGgZw1sGhsVgU5jTSmCqDkNMYfnN8YHzAjwHtMBd4r+h\n",
       "n2EukLaB++0nA0N4R0eHAhPPpCswVe4QU7iStJTvYsuNy5QW2YJMfwqKNVB4s35gZWCD+Ig7ZgH+\n",
       "HIBRBBVAGfN5HvAw8ARAwuXUAby5EQPwwFLGsiuHTjEwdINS3bkDi+1g8p3YSobn5SAQgFIyIAMm\n",
       "YLiQUUp1Ei4xuZAK2wTspdAEBgA4hZXtUbDWswAAAABJRU5ErkJggg==\n",
       "\" style=\"display:inline;vertical-align:middle;\" /></a></dd>"
      ],
      "text/plain": [
       "<IPython.core.display.HTML object>"
      ]
     },
     "metadata": {},
     "output_type": "display_data"
    },
    {
     "data": {
      "text/html": [
       "<dt><a class=\"ProveItLink\" href=\"../numbers/rounding/_theory_nbs_/axioms.ipynb#ceil_of_x_less_eq\">proveit.numbers.rounding.ceil_of_x_less_eq</a></dt><dd><a class=\"ProveItLink\" href=\"../numbers/rounding/__pv_it/axioms/35ed611dc78aa7c8c03bb79c83c2303b2dc058ef0/expr.ipynb\"><img src=\"data:image/png;base64,iVBORw0KGgoAAAANSUhEUgAAAN4AAAAXBAMAAACWruz4AAAAMFBMVEX///8QEBCIiIhmZma6urrM\n",
       "zMxUVFQiIiJERETc3Nzu7u6qqqp2dnaYmJgyMjIAAAAcRTyBAAAAAXRSTlMAQObYZgAAAylJREFU\n",
       "SMe1ll1IFFEUx/+Os+7O7KxK0Eu9bAmyRNCSFD6obAb6EOX20MdD4WYpBCIi2hcKIhZj9rFUWAjV\n",
       "oCFlYgsRJvQwKEFsIQv5kFExlPlQKT6WEHTvnZmdmW0Wo9UDy507c8757ZyvO8DaycOlBf3i3tIP\n",
       "rLfcBQas3birjj8OaPTiY844sdvBK3TXOg28puu3nHmF8Ww8rsPx2nfIInTnzHuLLLyxNpuWFESh\n",
       "QpZEzrzzWXg3uxxRL0YgOTp6O2ec0OrOG/ju1JsHfspyZ848LmzwhkpvbQ+meUfnTYWhnRA2AdNA\n",
       "I9D3b04j2R/5UjpPVANtXs3k+S6mFdQ94JaBT8BeiJrNciJ08rPT14kr5WXswqqqmngGz5vQeZIi\n",
       "rfBxk8e1KWa8E1XwEfsJogouZabzRVmKk5AMpv08nq4kpZDclsETdkedvLyI8X7MazqegU4DKGID\n",
       "iojbevKXUl7T6t3kKAjvvclHoH9QQcIzl8rgQSiPuvLAvFr14v9iRIJfQX2U8QTtMNlP7SqN8jTp\n",
       "lKeStTqGCyTWVPIlWDy+FF7yp8VXEd3IGU8wr7Z+4Bd0jXwNW8hSS359pwhFafFGmBLhlVGuuuIp\n",
       "1ocd5p7ZeFKRcpBFaEZhRs568Ss7iC97v3tkpuKL4RJYveAp6R0PFoFhxstvaqcBe9DKdYth5jmo\n",
       "2niDtQgxvUXdyBgcRj/UJa7TyW2fZ0Ije78Y/5ssFemI/wKOyLIc5KQbs0xBLQh6zslyDyRJERQr\n",
       "fxVooP3UbxgZYTP6fWTrUGXKbV6LDSVU+SstCurMs+xBgR5P/zF6wxvJiyJG7+w7Dilu8dqxkUzF\n",
       "XhhGq8wzS0gGIbYam/uSJkGK6vlLqsJleKN1wEv6LBxmaTZ5HfwyhnvTRqvNa0Na8CTC5rUuI7NT\n",
       "SYDGaGJGHa7ybAbfcI1kmZRdoKl55oyNVxPScMhmZBSM23k0fpYKO4+60PP3McyR/Bl9g0e4StaQ\n",
       "3GM9Zjwx7kv9x3lbXUKDl3VwTqKZ1zJvMl6BeiDb98SYtStw1QnEs/FS2P8Grjz+A+mO56SSZWW9\n",
       "P4nCa+DjD/XX1+GDzf64AAAAAElFTkSuQmCC\n",
       "\" style=\"display:inline;vertical-align:middle;\" /></a></dd>"
      ],
      "text/plain": [
       "<IPython.core.display.HTML object>"
      ]
     },
     "metadata": {},
     "output_type": "display_data"
    },
    {
     "data": {
      "text/html": [
       "<dt><a class=\"ProveItLink\" href=\"../numbers/rounding/_theory_nbs_/axioms.ipynb#floor_is_an_int\">proveit.numbers.rounding.floor_is_an_int</a></dt><dd><a class=\"ProveItLink\" href=\"../numbers/rounding/__pv_it/axioms/e1ff346d064725e3b4d8223e3381d3ae0e66a3b60/expr.ipynb\"><img src=\"data:image/png;base64,iVBORw0KGgoAAAANSUhEUgAAAIoAAAAVBAMAAABrmWvBAAAAMFBMVEX///8QEBCIiIhmZma6urrM\n",
       "zMxUVFQiIiJERETc3Nzu7u6qqqp2dnaYmJgyMjIAAAAcRTyBAAAAAXRSTlMAQObYZgAAAilJREFU\n",
       "OMudlD1oFEEUx/9sbnO3k9nzikBS6WJAJNVhsBNJtAiKxVXaCAY14hVKBOEKJQQt3IskHBbRzoWA\n",
       "yCFHwEIUi+NiIRvQLQKKEDlFEQXDKQiKjfOxM7ucu5foNPPm6zfz3vvPA7ZoJIhsB//VrADWVDRs\n",
       "J24aqIUrGymU++hFyVz6tjn0LkAZWOPjLymUzz0pxvUS2jmgAdzhD59LhtjFnpS+JujKM4A6yHus\n",
       "W0mmZGuJFPtGZVZQPCyZ7CJSgO3X67dTHOLzf1PMa56emc9x+wPw03WvplBGQgrZXT7U0pRGBLEd\n",
       "kZdVYBqoplAWQsoDvHJmNaUcyyEREX0LHAaJR+3R3jPvlX0lpPh46R3RlFgqpvtr4gwLIQwlT/J0\n",
       "LDAofKXRwZDiwY3iYu7cZE0KpnhM9KdYgoKsQr9+XAejvAm6KMD3iBKTRZ6/yxcUq32cTbT27yll\n",
       "ilxKjNLs8gjmj1iOCpqyRsfFcJLZ1bPsrHcxO56HpIwVu6L7xOhgVFP26V82tcREUxDRxcMZdhm+\n",
       "AsuC0nfustq2KimZ37mOFWhKVmk0582DXGBOHWCDHSKYv4ATrus6Br21riiTkkJOj45sRB6R80fl\n",
       "8sTisLtrmD38I5cOV5HZMdEvPRo46fX+AZnn8gfoEjQTGndpm4KWZFz85vZ+o2pUKePeeotl7CZX\n",
       "0Ivm8kG1Xt0WpdFVMFhc/qFKxe7aqmKSoYrkWJ8qyWXIruEPWymZFEx3sUoAAAAASUVORK5CYII=\n",
       "\" style=\"display:inline;vertical-align:middle;\" /></a></dd>"
      ],
      "text/plain": [
       "<IPython.core.display.HTML object>"
      ]
     },
     "metadata": {},
     "output_type": "display_data"
    },
    {
     "data": {
      "text/html": [
       "<dt><a class=\"ProveItLink\" href=\"../numbers/rounding/_theory_nbs_/axioms.ipynb#floor_of_x_less_eq_x\">proveit.numbers.rounding.floor_of_x_less_eq_x</a></dt><dd><a class=\"ProveItLink\" href=\"../numbers/rounding/__pv_it/axioms/6555879a174af34d121afebde4c353aa76fa1f0c0/expr.ipynb\"><img src=\"data:image/png;base64,iVBORw0KGgoAAAANSUhEUgAAAIoAAAAVBAMAAABrmWvBAAAAMFBMVEX///8QEBCIiIhmZma6urrM\n",
       "zMxUVFQiIiJERETc3Nzu7u6qqqp2dnaYmJgyMjIAAAAcRTyBAAAAAXRSTlMAQObYZgAAAgxJREFU\n",
       "OMtjYCAAuC4g2AoMZAHOCwycCQjuA6yKuCdAZe7iMGUFAxGmMGQyMJwG0a9wmPISpynqAQj2OgaG\n",
       "GSCHN2A3hNcAhylcx5GDiEeBgW8BkNqA3RT2CdhN4TS/gBIBAgy8p1atmo7DQyBxLKZw5qHZ+oSB\n",
       "4UdHRw0OU5ShpnApZTodgpvC2ucAU7BIbYoO0G+HGRhSGRg6cZjSCzVlDcN1hTq4KR3wgOU6wFvE\n",
       "DhS8x8DgzMCFHIPbNZIfwdjVUFNOMZxf4Ak3RV0LHqwLeH6xAMNuOzAIGZhgYcW1x/gCEw/DKVgE\n",
       "iEBNWcDQgRwu10/B1DNwgGM3HmjgBXaY2Td2rmIAmnLrApopDAyfUOJonyVMB78C1BTOB2FAxiFT\n",
       "tQAWYPIAm3IAzUcMrF9R04tfKpQRDw4jdyDuTAHqXZDH7sDHADHF2AAtdHcxfWDQQkm7ES3gHLRA\n",
       "H6gTHLoMmwuAljG8ZWBYDDaFOa0EpvYwxBSW3xwfOC+g5oBpIEf4b+hnmAukbeB++8nAEN7R0aHA\n",
       "xDPpCkypO8QUriQt5bvYcuMypUW2INOfgnLLApDPP7AysEF8xB2zgEAOQC+CCqCM+TwPeBh4AiDh\n",
       "cuoAodyICnhgKWPZlUPARNANSnXnDiy2g8l3YjGF63k5CKCWDMiACRguZJRSnYRLTC7xcog5nM/L\n",
       "sRdDvBMYAEqLkjiuXC+sAAAAAElFTkSuQmCC\n",
       "\" style=\"display:inline;vertical-align:middle;\" /></a></dd>"
      ],
      "text/plain": [
       "<IPython.core.display.HTML object>"
      ]
     },
     "metadata": {},
     "output_type": "display_data"
    },
    {
     "data": {
      "text/html": [
       "<dt><a class=\"ProveItLink\" href=\"../numbers/rounding/_theory_nbs_/axioms.ipynb#floor_of_x_greater_eq\">proveit.numbers.rounding.floor_of_x_greater_eq</a></dt><dd><a class=\"ProveItLink\" href=\"../numbers/rounding/__pv_it/axioms/475b7cfa7eb8e6d4204eed2592e7c320dc5c6a110/expr.ipynb\"><img src=\"data:image/png;base64,iVBORw0KGgoAAAANSUhEUgAAAN4AAAAXBAMAAACWruz4AAAAMFBMVEX///8QEBCIiIhmZma6urrM\n",
       "zMxUVFQiIiJERETc3Nzu7u6qqqp2dnaYmJgyMjIAAAAcRTyBAAAAAXRSTlMAQObYZgAAAydJREFU\n",
       "SMe1ll1IFFEUx//uzro7s7MqQS/1MiXYElFLEkWobAb5EOn2Uj0UblaCICKhaVEgEjFmH0uFhVBN\n",
       "GlZmthChQsigRLCFDCSUUbJEvSTCPpYQdO+d2Z0ZnRVp9cJyv845v7nnnHvuAqvXXphDF9a63Qd6\n",
       "zFmBo4w/BiTp4FvOOKFjBTw0AO9p/ytnXkHMgfdk7yKpYeAe6fiOnHkf4XS+8Qa7lCihQCFdPGfe\n",
       "eUceqs/YvV6EQGJw8G7OOL7ZmYdjl21yP4DfsnwxZ54rZPD6Su5sk6z50jPHur6d4DcAkwA5cdfK\n",
       "jIazb/k0nSeogbPepC0/b1NXQ90HVwqYBfZDSFo0R4Knvtttnby2p5QN7Fk1ap144zpPVMQFLmbj\n",
       "faJH5+MV8BH9ESIKl5YO55tSzSUiIWWEn0+Wk1RIbF3KG5ess7ywcT5m1crbkmCWsQ6FRKOWfJLm\n",
       "Te99HhsE4X1J8xHo7lUQ98xoS3izGpx4YFZNnvDO+CxuAbURxuOTR8h8YldJhKMnpzyV9JVRXCC+\n",
       "ps0twuRxJfAq2M5wVMnuTzCrGR6/O/1Z7iQ2ka6K/LpOE4rS5A0zIcIrpVx1wVOkFzvMvLbwxELl\n",
       "MKrYhWVK9nzxKzvIcprHN2Uuti+KK2D5glfk7ngwD/QzI+76Fir6uNnVIYSYTyTVwuutQhBD7FYx\n",
       "JaNwGPehJn6TVm6D99TMaHeU+0u6sozH/wBHZVmWXOKtaSag5kuedlnuhCgqvGLGrwx1wFA3DCUj\n",
       "PMZ9H9jcV6451WuhrpgK/6RJQY15Uh7k6/70H6cL3nBeBFG6cvAExJjJa8F6KjZnKC1fzyyNRBBC\n",
       "szF5KCZFiBE9fgmVvwpvpAZ4S/dCIRbmNK+VS7HUndeVlq3XZmvCyzCr13obmJ4g94Q6aWRK7a/w\n",
       "bARXd4NEmcQ7UN84dc7COxDUs8iv6EpGPji9R8NttLXS4SV06u+RrQqS+BkvMZ7hOumDcqe5zXhC\n",
       "zKf9x3tbWUydl7VwjqGRSy5eZLx8tTrb/4lHbbof8KCt3VEmEMvG03DoAxx53FdyO0ZJJsvKWv8l\n",
       "Cq2CjX85A9Zc3R0oSwAAAABJRU5ErkJggg==\n",
       "\" style=\"display:inline;vertical-align:middle;\" /></a></dd>"
      ],
      "text/plain": [
       "<IPython.core.display.HTML object>"
      ]
     },
     "metadata": {},
     "output_type": "display_data"
    },
    {
     "data": {
      "text/html": [
       "<dt><a class=\"ProveItLink\" href=\"../numbers/rounding/_theory_nbs_/axioms.ipynb#round_is_an_int\">proveit.numbers.rounding.round_is_an_int</a></dt><dd><a class=\"ProveItLink\" href=\"../numbers/rounding/__pv_it/axioms/b1499bd04cc9f6b8985a0dd083c886e41d9beb2a0/expr.ipynb\"><img src=\"data:image/png;base64,iVBORw0KGgoAAAANSUhEUgAAAL8AAAAUBAMAAAAuH/EYAAAAMFBMVEX///8QEBCIiIhmZma6urrM\n",
       "zMxUVFQiIiJERETc3Nzu7u6qqqp2dnaYmJgyMjIAAAAcRTyBAAAAAXRSTlMAQObYZgAAAxxJREFU\n",
       "OMulVV1IFFEU/nZ31p2ZnV0leugha9nNEAnaEnsIkVWJCII2ggrqQewHDFp6CCUSWTNqNYqlB7UH\n",
       "cUTYQoJd6CGMoMGiYItaysiEaKyngsLEIpWgc+/OzOrmLEIX7tw535053z3fOXMGKDWkXMltDBnr\n",
       "uM0+w3V288HmgTv2vt3dYchxwyhLFu3u3bxppquS48+Z/dXGy5cSpy/PwG/6lfWizeo6+BHn+CBT\n",
       "Ir66D1+4BMEBFW8sY6Jos55OrkQ47lcBJbO6D0+yBMEz4IJljBjrVEcHD2Y3pJZDedyXHRsbsPEx\n",
       "UCrBnyGdswx/hC9HayxEVPsM/Hci0WnjI0Sz6UxTkEINReRQACOq8PRWcCeJWl+1BCcpKAfbmkgH\n",
       "hYspL8vlax+rQIafAnptCK7T1G5kujEQkRdcQgW2QxEvIZ1EY1JchEgu7uJdoIt00IuKSY7zCmR4\n",
       "88oauF994pN5f5GqMdOOPaAQO4dcOhI45tExHJUrQZaHUpfFK3Uf4OVqiQU3ZdE2tjDcA6f5OckP\n",
       "a3NOBdmAYa8nSJ4HXIvAL9URwDqo6Qg+MsCjwUECq0TKvopZdj34nUb+tM2CZuJKzmPSTo2PgQim\n",
       "cwUCeOkRRxzSHNWl+yfwCIgxgIgcPLNzBYLBQgQ6RaOoHJf0w6yQ67ZGBZYpRqAVJGJSIK1BWaC6\n",
       "dFYADcAfmQAiYhKBkQICl8hh+VcyT7jJ8d6T5FaNeSJ+5Alqw8uS7CC28hxbrkCMT2MjvItKOoOY\n",
       "N8mS/MA5ixozyS5TW/RLLcAOA79HLG58A0Y5gev0efOxxzSHo/RiC3qAXWgMa9I8FP2tGPC1K6wG\n",
       "hSVxlnVEl2aFzEefqCI1ZeDlnHcBOJJIJAJO5eak1bKMiRfbSO5UcLw1SjFLZzNya1X/Fha/3FoT\n",
       "Yp3SH+UvpC6rfBU2zCS6f/QYuE/lWXKjLC+R97i6llaB5a3itrHuv9qxou+ZOIYVnUKO5nOQ1dbS\n",
       "7GjYN7t/8NTkRBa4xj60l9pogwn3liYQbdu1De6kHKz1h5PvB8VMdif431/me5t9wv8C9Ljg3BmZ\n",
       "/+kAAAAASUVORK5CYII=\n",
       "\" style=\"display:inline;vertical-align:middle;\" /></a></dd>"
      ],
      "text/plain": [
       "<IPython.core.display.HTML object>"
      ]
     },
     "metadata": {},
     "output_type": "display_data"
    },
    {
     "data": {
      "text/html": [
       "<dt><a class=\"ProveItLink\" href=\"../numbers/rounding/_theory_nbs_/axioms.ipynb#round_is_closest_int\">proveit.numbers.rounding.round_is_closest_int</a></dt><dd><a class=\"ProveItLink\" href=\"../numbers/rounding/__pv_it/axioms/7c2cf2003b37ef5a35cdd8540578c60f682b15aa0/expr.ipynb\"><img src=\"data:image/png;base64,iVBORw0KGgoAAAANSUhEUgAAAUIAAAAWBAMAAABH64j6AAAAMFBMVEX///8QEBCIiIhmZma6urrM\n",
       "zMxUVFQiIiJERETc3Nzu7u6qqqp2dnaYmJgyMjIAAAAcRTyBAAAAAXRSTlMAQObYZgAABFpJREFU\n",
       "SMfNl2toHFUUx/87O5N57Oy6iN9UGDYmLaHQxdCq0MZt/VBENPNJxQeN0RYKNQSR+iqyVpGJ1bqK\n",
       "ND4onT6IGqVZKFIi0g5JtbCWOmClpqAOPhAVJYRWzBbBc+/M7O6syexU/eCFZeacmXvub+553LPA\n",
       "5Y578K+GZCe390+WUl2c7PDKvuA6vfRjvdSmiLF3EpkK4LHbr5ISvhNrUXqmCK0cCF2V/4AQ24BP\n",
       "2e3PSQl/irWIK6rIhWCa14lwhdmZ8AjwOvNdOSFgthhPOGjj84YwE0+onTIS7KFuIEeRq1cTEsqV\n",
       "eMJTwBMN4UAsoXqDm8TLWh7Z2uTkeFInj8dbxHdQRxtCrhRDqI5UE8Uhvgf+sKydSQm7+TSx93CB\n",
       "PDTTXdK6DRywxU/eKFxPi67ruQSB4kArbNtILtaL0cm+2ieU9pSaGMzKK9EidLD3tVUGJ5wFtgBj\n",
       "SQlf4hZ15Rclj/GStpgW81hN8i5MVbChotShkO/exznjaQratlTx1T6hZbZslM6tRD7GyT4ie5zw\n",
       "a+CWaNYdW/ngt1HLD7x4Y39w+xS3eK88JJqgjd+5L+3BItnDflO7FiTJ5LwaPrNvBTKjUTu+2idc\n",
       "0ddC+Ba3EgkFW6+LFU54jKIfghuif9TvCjpqRuPV92bXU+zXQntXcYv2FK2SrgO/2ykDV3L5G6aQ\n",
       "HaToke2vJ80zk7/xwbbMVwdxeK7WJGRWFujuCH/1BzYLSjmIw800xZXDl7+cngQRnncb1WX3mzaq\n",
       "0pwbIcQJuqTKUBeovEgXuTzCFESa4gALDcLIWGjJ5eM3NdPBtxKtrEaTUPXuZMVrTa8pstBmhA5d\n",
       "Nw7hSYoANtI6Il7GAF2mHOiLVF6EPJf/1EhBpMzL8NcTR9uPnIut9fCOLQ3CAW4lMjabAeEm+o09\n",
       "RFz2iFzKwSfsZ6ROXcr7RyLmPohmCq5hH+ki5eB5csd5kjN1faqKkUyFZcqHwjz6/p4pvrp5ptz9\n",
       "XEhIVoYir2bs1YQUZgqO0rdK+BU4xAnTWx9l9erwqFDWeL3QDCecOcstqmwv0kN4FliLDUVHvQDd\n",
       "+0Ixsjt0VmLES8o8dRhIO5FVA3XLqbc3PPXWYtCNnk3Vl1kHwgjXhS7HInCXZVmGoL96lrvW6TKk\n",
       "xy1rF3TdVoNqtcmvh9x9p1fRWhOF6WGTZPXhqjbcs/c69kwb7utmrUjOjFYQX71U5zBRuDnaZkwU\n",
       "Dq53fUKWOFmbh7WELt/LmfuYQi6lTPC9v+1+6JVkpx5aT723L6O3GVj21AuDeb/ukYdMPw5rjvoC\n",
       "ZHMQ+Jg9Kxb53iXpHGgk7hyaGF2ediGmcwi29ewMFajdrEKecQ4NSFdDHN4DKJSZ2a3bz+wI54x1\n",
       "JFSSdF/aj4+xEcSh7CpGTPfVOgSKwyCZ8C5P3JUUh8k7WA5WbkftuIdiYc2yncOyB/I0tove0v8C\n",
       "ehL+C5hb+rFgtili7PUgW1numYvbT+P/Mf4CzIpWGA6LuG4AAAAASUVORK5CYII=\n",
       "\" style=\"display:inline;vertical-align:middle;\" /></a></dd>"
      ],
      "text/plain": [
       "<IPython.core.display.HTML object>"
      ]
     },
     "metadata": {},
     "output_type": "display_data"
    },
    {
     "data": {
      "text/html": [
       "<dt><a class=\"ProveItLink\" href=\"../numbers/rounding/_theory_nbs_/axioms.ipynb#round_up\">proveit.numbers.rounding.round_up</a></dt><dd><a class=\"ProveItLink\" href=\"../numbers/rounding/__pv_it/axioms/c21111007060f98dc51742c38c1e0dc8571b1c100/expr.ipynb\"><img src=\"data:image/png;base64,iVBORw0KGgoAAAANSUhEUgAAAWkAAAAXBAMAAAA7CqN4AAAAMFBMVEX///8QEBCIiIhmZma6urrM\n",
       "zMxUVFQiIiJERETc3Nzu7u6qqqp2dnaYmJgyMjIAAAAcRTyBAAAAAXRSTlMAQObYZgAABGhJREFU\n",
       "WMPVl3+IG0UUx7/ZbJLNZpMe4p8KIbGHnCcNVgVBy1VBT1C6+IcKFhtOT+gfPYIUQS0SK5ScUgwi\n",
       "bf2jdtuTU47iBRTlRHGpUCHKGbCiFsVgofirx1FUvCuC781kdye97Obujwu4EPK+814yn51582YG\n",
       "+B887yxdlMabS38MuOt0K9p/vPO9sNZ1JDDflQFttn8cxICFuxIvlmBWOyJZj6LOyYAv2P5tANS/\n",
       "Rvi2NJDzYM12H2oOOMaTV9186GwpwrnLwde+ONOHmgNyDmA1Np86VY9wfg4864uT/agpINucmzs6\n",
       "gASJ7OMC0pUAbKwPNQf8U6sdiFz7YQ5bscMGMuFbRUAffquQpwkujpnFPE46+tk3CrdQB3duvQKN\n",
       "Esgs7L2bZt8q9aI+Nfz6aF5Sc8AkMN2zx84ru2qbphjvB80W8MshYR2rdfWZ8cftMEUZvxtDODpm\n",
       "rsT1IWwjfRDzdeysG6swqC6exrf5F2j2xXJcXOLngkdtutmnU21JzQH3dK/aD2984mdpVXsUIkMx\n",
       "4oFnrxcNxRDPHZ7xPPBYqqzboIk9cDzeRo10Gyds83qQStHSauIr535600qPsbYca1WvS2oOSEHz\n",
       "6r/58faWZqGZV7rfjTBqs+zngRtKPesZ1wLOPI18fBX424nlcY3QP3FDykWMXA69Cf/bcg9qE0bV\n",
       "y2sOsFopz/vdwhyI+nxL6X4ylDqowEk7lNovw0SNT+kTqyJ9mUpd4i+hp7iB6GMilS6HUlNNz6vU\n",
       "6fbDXANvG7Z1TkmmdpXuK9KnwArJxs1+VZPRVvGhSYVaSH8eKUOwgz7zLqwVKnXakND/mtRA9Jwh\n",
       "4DehRVsJ8vpiQL3H9qhFwPSTxOpMpcZykNTbSwE1VSThC6ilZOoPkKzRc1hUNYoeSbb3K9RCZsrB\n",
       "asR1PGQtxFwcogk/Tzqzas03MJWp82r8SFvGiLcarxrrjLONeg5WI96rcIW6BMwI6vhT+5Wp1qvS\n",
       "F1BLydTjXuu4jLZzLTVDhNQ9+RmNAA9lvIyXgNuxs+Sm/4TV/sbIZ5+xuJrpV4xlPmLF3R7Uuxqv\n",
       "ivMVU4sAmTArwCM0cHnNeu2cSl2WvnEeVUfm9UqH+nHvX+/tRG+pC0Pn2JelTHgDd5839V+O0sTN\n",
       "FhYmbNLpfQ1zYuuRG9hnTowU+RiXs3tQzxZO3dXydhkOyDoiwxNIygzJ7HYC6kRV+pS8FtIQsEnO\n",
       "vUt4tBO9B+qyFFIvr2dHh7qjv91vR/cDTlhtmiVb5nVTWY1mRfoCaimZ+ge1HyoNy4tQSqCUWXc9\n",
       "pyd6NnZ66pTVc2eawCu8yyy6MzuUGvJcx+dTS8nUt/o1xOFoc98Do05ALWXc3xyno6mNDZ1Uu/Zr\n",
       "yutAye5vCq/X/q+1Rni9Xs+tQMBWr8YPozYic63azbmGOtNSQ0OoP9nwDez7ta7TgZnsGbCGWm+F\n",
       "Uc8EzQ+GUZulQd+MSz1un8maqAnp2kHwhuAf7erwLxZdNwzN2RS0/wC1P1N75IyV8AAAAABJRU5E\n",
       "rkJggg==\n",
       "\" style=\"display:inline;vertical-align:middle;\" /></a></dd>"
      ],
      "text/plain": [
       "<IPython.core.display.HTML object>"
      ]
     },
     "metadata": {},
     "output_type": "display_data"
    },
    {
     "data": {
      "text/html": [
       "<dt><a class=\"ProveItLink\" href=\"../numbers/absolute_value/_theory_nbs_/axioms.ipynb#abs_val_def_sqrt\">proveit.numbers.absolute_value.abs_val_def_sqrt</a></dt><dd><a class=\"ProveItLink\" href=\"../numbers/absolute_value/__pv_it/axioms/c13fb64d6ecd0130994505ab45b6b213ecde49450/expr.ipynb\"><img src=\"data:image/png;base64,iVBORw0KGgoAAAANSUhEUgAAALgAAAAmBAMAAACFcUzHAAAAMFBMVEX///8QEBCIiIhmZma6urrM\n",
       "zMxUVFQiIiJERETc3Nzu7u6qqqp2dnaYmJgyMjIAAAAcRTyBAAAAAXRSTlMAQObYZgAAAztJREFU\n",
       "SMelV01oE0EUftn8bHe7iTmoIF6C0uJBrVDEkyUi4kVsTgpFMKD2KCKCVj1UvaRKNYpSL9LYQlty\n",
       "sIUepCi4xp4ilBV6qKK4KAgqStEKpkmp87tp2t3OMA5smJn95pv3vnnvzQZA0D6AUjOzEiDNVSOH\n",
       "oxKYAwVFck1surkJVNsPISImIx2El9c2uCv0+WRehvyhml1fpBQ47TcZXRSsMioy3MbKiHp1g8vx\n",
       "SSQmXtbFR11BqHS9b+VjfKs3AvJQCv1M89F0AOoJtt6hfT0frcAU6Q6mwV0vDQczMuSv0TPG+nra\n",
       "WIAYCYOQTd7At4BlH0GC3MT2ffWGzYt0BpA+OIyM3gDyfTLkFlIkvscb6kjKEsnReUigw7UmAsgv\n",
       "yZDrROp6uKDnMXGhAvFysTgQdKC/Zch3oafOQHxI4PiJVgH+5nJXg8h/Mc6h1vs7U0Hk59CzHTjo\n",
       "CBxCUuAdzCWAMwB9QWVriZKbdvy87lLymZ+4faYAnC8aDtd+YKDo92c3kfkuM+0gO1zWnu445aWW\n",
       "wcitgrUYya+1fMBmksMVYKDQ8vI8kht7AzX8UnO4pc/bHc2CcoqXhyqzHJp6fTSPzCXR73vc3Qgc\n",
       "RBfOsxOzHJ3PzU0VAZG/c1aRA2xI+R1oBHt2mZEzUCO54R5DndLe1kwEHwMmt1fJgkqvl6pUc1Yt\n",
       "LyIFbCYLA9FdsSwmkgX6UMXUCmf1dAIoeTvPCJNFS3OhDSF8oqUtTfKEHCgD0Xh0uWmTaJsovpWG\n",
       "CXm4+4K3uEbJOyfuwCO/OB/PwiTPHAaiddLmolKpUOU+nsvlUpp1b9ZbvJmSj2wb2u/4kYcrrKgc\n",
       "Bg4iLYEFiixgHwrkCKIQo7I0n/Buv9uCDDVqkSyrtA3zo0QbfhUNWq4FVoZqXuYHCi9F6X+tKV9P\n",
       "+nojhctKstHIbKkMcAsn0Yw93MFBLwoC8s5u1ulbU4Qh0XhDa0jzxgNzBOT6H9YZWzlL3Rl31r/m\n",
       "mvDmLXzU4vNdxZPSWMn0lrot+CyJJ0G9dYi+5qr/Qb5VBNitzq0JvQ5llMlDjggRd5XJJZy+rspt\n",
       "bBFjRlV1GZ2QMKBHkbxfBvRA8Q8X/rj4BzLvA+8W7c1EAAAAAElFTkSuQmCC\n",
       "\" style=\"display:inline;vertical-align:middle;\" /></a></dd>"
      ],
      "text/plain": [
       "<IPython.core.display.HTML object>"
      ]
     },
     "metadata": {},
     "output_type": "display_data"
    },
    {
     "data": {
      "text/html": [
       "<dt><a class=\"ProveItLink\" href=\"../numbers/numerals/decimals/_theory_nbs_/axioms.ipynb#one_def\">proveit.numbers.numerals.decimals.one_def</a></dt><dd><a class=\"ProveItLink\" href=\"../numbers/numerals/decimals/__pv_it/axioms/3b8a0fdd6ab23c4e3ffec5a1eaca45ba8800b76d0/expr.ipynb\"><img src=\"data:image/png;base64,iVBORw0KGgoAAAANSUhEUgAAAGAAAAAUBAMAAACABSXcAAAAMFBMVEX////MzMy6uroiIiJERETc\n",
       "3NwyMjJmZmaIiIiYmJh2dnZUVFTu7u4QEBCqqqoAAACyU9pZAAAAAXRSTlMAQObYZgAAASNJREFU\n",
       "KM9jYMAGIhmwA74A7OI8DgwMK2YJYJHZCtJ1B0OYLYCB7QGPKZro2wMMDMcYGE6v/oOhYToDw1wG\n",
       "hmVQZzRAbN21H6iBC8jhxNQANNubgeH9AWQNDAzzgXyeC9g0sBowMPxmYNB/gKmBIQmbBo4CBp7v\n",
       "QA0NWDQsh2tYlgYC6SAmywQG1l8MDPLYNEzDZgPzAwZWoA3yC7BoeIxNA68C3ElcaWnJ19LSNsA1\n",
       "yOPQAPL0e2yelkfzQzbUSQwuUAXoGpSx2QD0NGbEITzNgaGBqwBkC89FNA39IA1VDOx7v1WiaWAC\n",
       "RhzPim4BVA3V99OBNidiTa0oyQ5uAzhFGWDVMB0lrR9Adm0DVg0sOPIJOHnjykDYgSsOcVxZlDOA\n",
       "AQBi4V3pxPDXhQAAAABJRU5ErkJggg==\n",
       "\" style=\"display:inline;vertical-align:middle;\" /></a></dd>"
      ],
      "text/plain": [
       "<IPython.core.display.HTML object>"
      ]
     },
     "metadata": {},
     "output_type": "display_data"
    },
    {
     "data": {
      "text/html": [
       "<dt><a class=\"ProveItLink\" href=\"../numbers/numerals/decimals/_theory_nbs_/axioms.ipynb#two_def\">proveit.numbers.numerals.decimals.two_def</a></dt><dd><a class=\"ProveItLink\" href=\"../numbers/numerals/decimals/__pv_it/axioms/e98b085de1ec8e054620f1fe3934bd43118538d00/expr.ipynb\"><img src=\"data:image/png;base64,iVBORw0KGgoAAAANSUhEUgAAAGAAAAAUBAMAAACABSXcAAAAMFBMVEX///+YmJiqqqqIiIgyMjLc\n",
       "3NwiIiIQEBC6urp2dnZUVFTMzMxERERmZmbu7u4AAADrYmUNAAAAAXRSTlMAQObYZgAAAR9JREFU\n",
       "KM9jYMAGAhmwA6YABga+u2c2oIvzHcChgWEpA8MrBs4f6MIsQIOY6tBF1R8wMDxhYLjHwFCOLiUL\n",
       "NGfWP5gzDCC2rlwP1MBpwFDGwLA+AE1DKhAzomlgYJAHauArYPB/wLAezROsCTg1MHiAWPkPUDUw\n",
       "X8CtYS4Qc/wEcae4gIAviMkjgFuDCBCzLUDzApsCbg1qQHwXPZDYG+AaOF1c3EpcXBbANeyHuhiX\n",
       "BgwbgBp0GVgD4H7wIuSkNgbuCQzMaPGA39NhM+cuQ3MSJ8iRzBga7EEabjL4////DU0DBzDieJd/\n",
       "uYiq4Va9L9Bmb6xpMhUlSRsgp+MErBpkUdI6cjrgNMCqgScAV354gl0YdwY6ikMcVxZlDGAAABqh\n",
       "T22OG07GAAAAAElFTkSuQmCC\n",
       "\" style=\"display:inline;vertical-align:middle;\" /></a></dd>"
      ],
      "text/plain": [
       "<IPython.core.display.HTML object>"
      ]
     },
     "metadata": {},
     "output_type": "display_data"
    },
    {
     "data": {
      "text/html": [
       "<dt><a class=\"ProveItLink\" href=\"../numbers/numerals/decimals/_theory_nbs_/axioms.ipynb#three_def\">proveit.numbers.numerals.decimals.three_def</a></dt><dd><a class=\"ProveItLink\" href=\"../numbers/numerals/decimals/__pv_it/axioms/92621b56d968dea18f3ad6fea2c8c0a4b15fad320/expr.ipynb\"><img src=\"data:image/png;base64,iVBORw0KGgoAAAANSUhEUgAAAGEAAAAUBAMAAABvx07iAAAAMFBMVEX////MzMxUVFTu7u4yMjIQ\n",
       "EBC6uroiIiKIiIiYmJhmZmaqqqpERER2dnbc3NwAAACdcR52AAAAAXRSTlMAQObYZgAAAVFJREFU\n",
       "KM9jYMAG+CYwYAf7QMTbu6cxJGwYGKzWHMSig+kB0LgFDPsxTPRjYFZguJ+AKsgdzMDA7MDAwPGb\n",
       "gb8ATQPnAgYuAwbWAAhvB4QyuvQZSN5gYGALY+B3QNPB/oCBtYCB6R+KDgZOkA5TMBPDVc8ZGFg+\n",
       "MzB9xKKDBeRU5lp0b3RBbPqMRQfvAqDXry8G8XldwGABiH0SrCL/AhYdnGAftKIFCkM1mCxiwKKD\n",
       "GxxKrMFoOsJABBfYuisuLqUuLk5wHYwfGPgeMPD8xqajiwGbHUAd/J8hOqD+UIC5insBwzssOtgK\n",
       "GFgPwAMFDkA+l2Vg6MPuc84JmPFxCxiCtXcXFaDq4ADp4AIGYNaqY+jxkQ6Mqf///6Pq4FL9shIo\n",
       "LoA1TQNTCRLYgcwxx54LOBcg84yROTdwZJxzOMTBqR0rsMGlg+cBDgmcuXYeAwMA291cTjIOYgAA\n",
       "AAAASUVORK5CYII=\n",
       "\" style=\"display:inline;vertical-align:middle;\" /></a></dd>"
      ],
      "text/plain": [
       "<IPython.core.display.HTML object>"
      ]
     },
     "metadata": {},
     "output_type": "display_data"
    },
    {
     "data": {
      "text/html": [
       "<dt><a class=\"ProveItLink\" href=\"../numbers/numerals/decimals/_theory_nbs_/axioms.ipynb#four_def\">proveit.numbers.numerals.decimals.four_def</a></dt><dd><a class=\"ProveItLink\" href=\"../numbers/numerals/decimals/__pv_it/axioms/1b651d2860062e3ad6669bc7cc4497b3fc632d090/expr.ipynb\"><img src=\"data:image/png;base64,iVBORw0KGgoAAAANSUhEUgAAAGEAAAAUBAMAAABvx07iAAAAMFBMVEX///+6urpERESqqqru7u52\n",
       "dnYyMjKYmJjc3NwQEBCIiIhUVFQiIiJmZmbMzMwAAABIfTqqAAAAAXRSTlMAQObYZgAAAT1JREFU\n",
       "KM9jYMAGOAoYsAMLCPUWQ8KJgaE1VBmLDu4GMHUaQyKDgeMCgz2aRcxTGBhYEkAsrtnoGtgvMHB9\n",
       "ZuA/AOFZQSjv6C9AMgrEbM9G18HTwMA4kYE/AUUHAztIhyeIFYChowdMwlyFooNNAMhowNCxFkSw\n",
       "HGXAooP1AgODFwNYB2saGFwAsdVBARxzBZsOdqBTAxgw7DgMJlcKYNHBfICB+QGmjolgkhMYmgxh\n",
       "aWkn09Ky4Tr4PjC4MmDVwdHAwPQZix1AHdZ37/68hfDHBqir+L9g18EIjiSMGAT6nFOBgecLDp8z\n",
       "MExC1xELlCnAiA8ukA7eACAR9H87mg4ZIJa9q4gaurw7v10HxuADrGmapwGZZ4XM8cGeC9gvIPNc\n",
       "kDlRODKOBg5xaGrHApxw6WBqwCGBM9dWMDAAABxITl8FIHkXAAAAAElFTkSuQmCC\n",
       "\" style=\"display:inline;vertical-align:middle;\" /></a></dd>"
      ],
      "text/plain": [
       "<IPython.core.display.HTML object>"
      ]
     },
     "metadata": {},
     "output_type": "display_data"
    },
    {
     "data": {
      "text/html": [
       "<dt><a class=\"ProveItLink\" href=\"../numbers/numerals/decimals/_theory_nbs_/axioms.ipynb#five_def\">proveit.numbers.numerals.decimals.five_def</a></dt><dd><a class=\"ProveItLink\" href=\"../numbers/numerals/decimals/__pv_it/axioms/3f1734de97df1125d4d0ef1f4713871df30ec3780/expr.ipynb\"><img src=\"data:image/png;base64,iVBORw0KGgoAAAANSUhEUgAAAGAAAAAUBAMAAACABSXcAAAAMFBMVEX///8iIiK6urpERETc3NyI\n",
       "iIhUVFR2dnYQEBCqqqpmZmbMzMzu7u6YmJgyMjIAAABZcJOfAAAAAXRSTlMAQObYZgAAAT5JREFU\n",
       "KM9jYMAGfBmwA04HBga+O9wr0cV5DIAE9wIsOlIYGDj+/y9AF+YDGsTAmIAmOuMAA8M5oGRZCIY5\n",
       "t0BEBFQDZwDE1vR8oAb2AAY2LBaLADHLPVQNDAz3gRp4GrBpYBEAEux82DQwPGJguxu1AU0DK8i7\n",
       "V7BrqGJgPsDyCcStewcCr0BM5gtAuwOwa7gHYhmi2cA4AegiBuwaJoJY6x1QNXAoMDDMhmhgf/fu\n",
       "Yd+7dwlwDfsZ8hgY6hUwNPAU4LBhP0Mf0IYDcD88gzqJM2vV+q4ALBoUGYAhIofmB5Cngfbg8LQX\n",
       "A28LmgZ2cCriMEDTEA/SsJyBZXnWATQNTOCIs/92AUXDsv5XQIHXWFOxCEqSDkBOxwJYNdxCSevI\n",
       "DmAPwKqB2QFHBgIlb2yAxwCXBhMc4riyKK8DAwBKg1y4kxo/0QAAAABJRU5ErkJggg==\n",
       "\" style=\"display:inline;vertical-align:middle;\" /></a></dd>"
      ],
      "text/plain": [
       "<IPython.core.display.HTML object>"
      ]
     },
     "metadata": {},
     "output_type": "display_data"
    },
    {
     "data": {
      "text/html": [
       "<dt><a class=\"ProveItLink\" href=\"../numbers/numerals/decimals/_theory_nbs_/axioms.ipynb#six_def\">proveit.numbers.numerals.decimals.six_def</a></dt><dd><a class=\"ProveItLink\" href=\"../numbers/numerals/decimals/__pv_it/axioms/dc5686496f42b7d8b332a6f86bdc97f22595ab5a0/expr.ipynb\"><img src=\"data:image/png;base64,iVBORw0KGgoAAAANSUhEUgAAAGEAAAAUBAMAAABvx07iAAAAMFBMVEX///9UVFSqqqoiIiKYmJgQ\n",
       "EBDc3NxERERmZma6uroyMjLu7u7MzMyIiIh2dnYAAACR0mqaAAAAAXRSTlMAQObYZgAAAVZJREFU\n",
       "KM9jYMAG2BwYsAM1MPn23gF0ie0MDEs2nFDA1MGYACR2TeBYgC6xjIEh/v8/NEGmaAYGbpDSCgb2\n",
       "AjQ5lgYGhnWyCVCeLoTa+PA3yEEMDJzfMO1mBioWgPN0YeaAdGxlYGAPwNSRzIBTB9cEBv41bzvR\n",
       "ddwAYhHfHmw6+BoY9i9hYAYFCt8qMGgAyZUAcTVD/gQsOlgWMOz/wMARjWaHEZhkN8Cig8mAgd+A\n",
       "geUnmo5IMMkBCpNXq1aZrlq1EK6D5wMD8wIGli+YOhgXMPD9xGIHUAdjAMQOqD8EoK5iXcDA8RuL\n",
       "Dk4DBp7fDBzoAQz0OQcDyHasPmeQY9iKnoBeANNiA4NrAqoOXpAOjgdA5/TJoMfHZCDOeNiNGh8c\n",
       "or9agDF4AGuaZk5A5ukiczZjzwUsDci83cictzgyThkOcUhqxwa249LBnoBDAmeudWNgAAD9zliE\n",
       "QjjTFgAAAABJRU5ErkJggg==\n",
       "\" style=\"display:inline;vertical-align:middle;\" /></a></dd>"
      ],
      "text/plain": [
       "<IPython.core.display.HTML object>"
      ]
     },
     "metadata": {},
     "output_type": "display_data"
    },
    {
     "data": {
      "text/html": [
       "<dt><a class=\"ProveItLink\" href=\"../numbers/numerals/decimals/_theory_nbs_/axioms.ipynb#seven_def\">proveit.numbers.numerals.decimals.seven_def</a></dt><dd><a class=\"ProveItLink\" href=\"../numbers/numerals/decimals/__pv_it/axioms/8f81dad48098fcf2b98e0df528bb66d67fad93db0/expr.ipynb\"><img src=\"data:image/png;base64,iVBORw0KGgoAAAANSUhEUgAAAGAAAAAUBAMAAACABSXcAAAAMFBMVEX///8QEBCqqqoyMjLu7u5E\n",
       "RESIiIi6urrc3NyYmJh2dnZmZmZUVFQiIiLMzMwAAABzPQ5hAAAAAXRSTlMAQObYZgAAAUpJREFU\n",
       "KM91k7FKA0EQhn91z+gRUfQBjA8gClukiMqBL3AWguVWNhb6AuJa2h1YpkjAyihywUbE4tKJFh7a\n",
       "pLQWJEJqOefMEe4mcwPL7Q7z7f/PMQtIcQE5pi3w/drptFle+YB7eCcQz0ArSZKIpWcsVB33LLvm\n",
       "AbvAA1Dl9zQBJ8R+ZsOMVF/eCHANyM6Edh84s2PfJtu0CFBLtKkYVj8XA3sQAdRpOVxgNgSGX0cn\n",
       "EnBD6/r/eKXTaKRbJ4AaBniXgEuy9cMVFmpQCdD1BGCdDGxyYIrM/FIBfVytt1e0jsbAgO7zJeCD\n",
       "CgJBgYDFKNfDVmYJvZHCBHBKTMgVqGkMPHRLmt7gkwSXrqi21TIDjlPgETivcaASpz/89rMIPK02\n",
       "SHlHnOJ+YaTzg6BiEWgWZt3LuzUi4NiSB5SOtxTKLwMOSvJlT3Te4g9qx1LADFiUrgAAAABJRU5E\n",
       "rkJggg==\n",
       "\" style=\"display:inline;vertical-align:middle;\" /></a></dd>"
      ],
      "text/plain": [
       "<IPython.core.display.HTML object>"
      ]
     },
     "metadata": {},
     "output_type": "display_data"
    },
    {
     "data": {
      "text/html": [
       "<dt><a class=\"ProveItLink\" href=\"../numbers/numerals/decimals/_theory_nbs_/axioms.ipynb#eight_def\">proveit.numbers.numerals.decimals.eight_def</a></dt><dd><a class=\"ProveItLink\" href=\"../numbers/numerals/decimals/__pv_it/axioms/60da4a57b75ec6878b05895328dacd429bbb035d0/expr.ipynb\"><img src=\"data:image/png;base64,iVBORw0KGgoAAAANSUhEUgAAAGEAAAAUBAMAAABvx07iAAAAMFBMVEX////c3NzMzMwQEBAiIiJE\n",
       "REQyMjKYmJiqqqpUVFS6urpmZmZ2dnaIiIju7u4AAACLnIg+AAAAAXRSTlMAQObYZgAAAUpJREFU\n",
       "KM9jYMAGGAsYsINGEPH2zi4MiacMTJ57zpzB1MEpACQ2MHA2oEskMrD/////J6oghx0DA18CkC4A\n",
       "UyiAfQMDN9CwCRBeL4R6efIfkDzLwMATwMDngKaDRYCBByijgKKDgR2k4zEDA9fXBzzo/hQBk2sZ\n",
       "sOhgW8DAMP/7CXRv3AaTAdh08GwA4v95ID5PGhhsALHDwQIF2HSwA/3cveTzAjQ7PEDEewZsOjgc\n",
       "GNgnMNy3Q9NhBSKugZnH0tKc09Iy4TqYPjAwP2Bg+oFNhytWO4A6QJZPR/hjAtxVP7Hq4HJgYAZG\n",
       "VSCaHSCfM/1mwOFzrjwG9gtoOk6DvPgHXQcvSAf3AQYGzT0YKXEJKPlaoOngnvxtOzAGFbCmaRYB\n",
       "ZF4vMucJ9lzAvgGZ9w6ZcxZHxgnEIY6ZzBE5CgdgFcAhgTPXFjIwAAAEFFkEykUcFgAAAABJRU5E\n",
       "rkJggg==\n",
       "\" style=\"display:inline;vertical-align:middle;\" /></a></dd>"
      ],
      "text/plain": [
       "<IPython.core.display.HTML object>"
      ]
     },
     "metadata": {},
     "output_type": "display_data"
    },
    {
     "data": {
      "text/html": [
       "<dt><a class=\"ProveItLink\" href=\"../numbers/numerals/decimals/_theory_nbs_/axioms.ipynb#nine_def\">proveit.numbers.numerals.decimals.nine_def</a></dt><dd><a class=\"ProveItLink\" href=\"../numbers/numerals/decimals/__pv_it/axioms/1dc0e87f3ac37ba6488d8e7627f0ee555bba03500/expr.ipynb\"><img src=\"data:image/png;base64,iVBORw0KGgoAAAANSUhEUgAAAGEAAAAUBAMAAABvx07iAAAAMFBMVEX///8iIiLMzMyqqqq6urqI\n",
       "iIhEREQyMjKYmJgQEBDc3NxUVFR2dnZmZmbu7u4AAABTw4smAAAAAXRSTlMAQObYZgAAAWBJREFU\n",
       "KM9jYMAGuBoYsAMrEPH2zC4MiWcMDE9jrmDRwb2AgYFvBsPKB+gSVQwMFxi4DVAFmecBVRcAdU1g\n",
       "4L6ApoHjAgNzA1gWBEwh1OvT/4DkUQYG/gIGng9oOhgXMPAkMPAJoOhg4ADpeMnA8D6BgfUXmo6F\n",
       "DAws3x7wNGDRwe7AwAm04wuajlgg3v/jMAMWHTwXQE5i/wFiloMB2EsZIP7/Omw6OICeS2Ww+Yxm\n",
       "hzAQ2zr+dMCigxnoOeZWnU9oOqYApTcwxANDk+F4eblkeXk1XAcTOJS4/2Hq4HzAwPQZix0QHewb\n",
       "EP7YAHXVeyC1A4sOFgEGjnkM+gvQ7AD6nBMoloXd56x1fBXoieQs0Kw6Bo4AVB2sIB28BxgYztx1\n",
       "QNfhCMTad66ghi7vzu83gD5QwJqmGVGcaYrMeYg9F3CgJM13yJyjODJOFg5xeHrGlqOwA7YFOCRw\n",
       "5touBgYAcJVgy+kKJ94AAAAASUVORK5CYII=\n",
       "\" style=\"display:inline;vertical-align:middle;\" /></a></dd>"
      ],
      "text/plain": [
       "<IPython.core.display.HTML object>"
      ]
     },
     "metadata": {},
     "output_type": "display_data"
    },
    {
     "data": {
      "text/html": [
       "<dt><a class=\"ProveItLink\" href=\"../numbers/numerals/decimals/_theory_nbs_/axioms.ipynb#N_leq_9_def\">proveit.numbers.numerals.decimals.N_leq_9_def</a></dt><dd><a class=\"ProveItLink\" href=\"../numbers/numerals/decimals/__pv_it/axioms/26bd7feaab3f64855e2def1535fae38a837e34650/expr.ipynb\"><img src=\"data:image/png;base64,iVBORw0KGgoAAAANSUhEUgAAAVsAAAAcBAMAAAA9ywG+AAAAMFBMVEX///8QEBCIiIhmZma6urrM\n",
       "zMxUVFQiIiJERETc3Nzu7u6qqqp2dnaYmJgyMjIAAAAcRTyBAAAAAXRSTlMAQObYZgAABLJJREFU\n",
       "WMPVV09oHGUUf7vZmd2d3UlyUCgedNpSBBEbpAcPUbZ6qIdCp0XSHoSu2qCpB5faEKRV91DtRlEG\n",
       "xTYImvFSoYTtYhXrQd02UqjVZqsXpbWspgaaoE0hQlqx+N73b/7TDcqiP/jefrP7fvN+39v3vvkG\n",
       "4B/g+Dfwv8EJMMvpgf+CkseUScYXFqRK+RuQ7pqqpEhaWZpkXGoBTDqwBJlyt+QmRep1pUnEfagW\n",
       "jtnwJ8C3XUtvQqT7lUnCpgbZVEn7CyAbs673xEhCwYljJOAzSaBIbfrmJ//PWJDCRFBfftOFk9dK\n",
       "UwdY0Kq5hCUVbTejykf0h6u1eSjedRuMxDDi/AdPO6CTVCJQpLP09bzfpzggTRRvYEkbiwBTr9PV\n",
       "tnXXcWGL0Wpy+Igi1xrCIsJ1i2vHxwj21SjZD1r5O8CgjBKBIk3QZ2BtqYY0UTxtrwHop9st4Noh\n",
       "Q8R9Ea/vxYhCH03jjoLZsPj1rI/hx9Qe9vEEwFMAp0AQ9vGWKga0TbrSePhhbIxVza7XdBsqNDN/\n",
       "g5yVs3H2QETUC2JE+fqj7jBkcaX9fA866HoMH95+kX/eBJjBHIMgYCTz66NHDwd8zyujsOMeMRkZ\n",
       "Mua5XCi4mTVnaLI6rDZf4SOGr79TrrsoFy7zy4ctxfDh0IIo3WWA9Q70lgSBIi3XavsDzg9Js3nk\n",
       "rbXsdoaq7ZGCNQTBe8OW8NZALUEjhq87H2llkjvNW1fcK+ANOy5L9zsxuyXeR9Mi0jDAeCBaTZpm\n",
       "zTKu8yBKLnxlWiG5O6ki4NzvhFneT3zE8HWnWPqO5F5il2d5pwe9c6+oW2MlXG2B2RYEivQIbz0P\n",
       "c8JojZcg/we7AXhydXe4AidqCJnUyVIou9kGG3F8FL5b346TT9llBd6XDM87vUf9XTmrMNOAQkUQ\n",
       "KFIW0q1AtOeFMYwlMNkutZUS1+ZyjXJvf1DdsbDcVImNOD7KPQI/U6JYu1qg24LheYO5X+n9fN2M\n",
       "DdqiIFCkYisbjDYrTWERdBZkwpddeFwLyZ1MkBvHR7lac6uUi48pfjQJeON01tuGn3M9uRQp38ad\n",
       "23xw21rp8Ko0PW3oa9FCU365ZiP0BNrpeLU75yuGOD5V8QWqjU3svIzjimQobzrNzNm+0sxUBIFF\n",
       "Gt+FGja2UnJFz0iTasKXbpN0W5KMfQlnqrfYGWSrxfDpvy9OyFa7IiQHvdmGXGN/2XlXw+5TrcYi\n",
       "HUfx794NfTLqamkw9+dMtkz14FrgSY/u0+GnOI0Yfm9DbJKDpKkqzi0hb7YTD7ODn1vHhfQ0BYFF\n",
       "6qO1PwkbA9kig/k/dIF9deQAX8v2a3R4CcmNPNXoz6MR5WsvrxLP/18p1ZTBtAVhb9/CpzfQGm1B\n",
       "YJFMutXtMKj5OoUbD5sPjrWTDni/dPAQDvMNKscMm9oxD+EgPpQEFQkPO3s/EXOW+55mp4dm48YK\n",
       "jjgqbVaUkQh5xPEi4YvFvXL3ZRtVeLdKhhl9J8k5fCSjHsNQv40RRr18yAOkGf/286wynSBrd348\n",
       "Vxjv7HjuLWU8PpJaer1TuRdh5S8/5kpefn6UhIsJb1ID0nSAfLVbb5aJkT5W5tbocbslt3uR/jX8\n",
       "DfdKfctsT2wNAAAAAElFTkSuQmCC\n",
       "\" style=\"display:inline;vertical-align:middle;\" /></a></dd>"
      ],
      "text/plain": [
       "<IPython.core.display.HTML object>"
      ]
     },
     "metadata": {},
     "output_type": "display_data"
    },
    {
     "data": {
      "text/html": [
       "<dt><a class=\"ProveItLink\" href=\"../numbers/addition/_theory_nbs_/axioms.ipynb#nat_plus_zero\">proveit.numbers.addition.nat_plus_zero</a></dt><dd><a class=\"ProveItLink\" href=\"../numbers/addition/__pv_it/axioms/1490874c560dee07c2b3e95f10a78f1274858f1d0/expr.ipynb\"><img src=\"data:image/png;base64,iVBORw0KGgoAAAANSUhEUgAAAKkAAAAUBAMAAAAErwC3AAAAMFBMVEX///8QEBCIiIhmZma6urrM\n",
       "zMxUVFQiIiJERETc3Nzu7u6qqqp2dnaYmJgyMjIAAAAcRTyBAAAAAXRSTlMAQObYZgAAAkRJREFU\n",
       "OMudVT9oE1Ec/pq7a5L71w7iIAiH/zYh6CYRUkQ6CZks4tCj6OAicdBFhxsviHCTdbOlQ0sQL9RB\n",
       "CoKHxSWCBEFQQclgBRUOcZLUwd+795Lm7t5V8YMPLu/9ft97v38vwH6o9jmlMAL5+hZxwD4+Fjhu\n",
       "COZgnnwJXJM7TdNpr9jHtwLVr4I5fMd6gMdyJ50u+oAF6sn3rRrnHjbFxizMAUxH7vYCsFconq58\n",
       "uxxw5lQrLowh9Fm52yod2+t0lgsSsCyYU51xoe4Cn+VudgP45ft3ClSPClbrpw6lVMMa1J/Adq5n\n",
       "EkOTknYVaBeo3hOcC+wfKdWHETRS/ZS0Q5wgST83tKhc55KijbFQb5QOiu/bnPphKF5atQbtN/A0\n",
       "W31uaLSoHCiN+lx/drpveD2cEb8PcCpDlFm5X8fxjTj+speBxYyqMNTovma/PFp9t9WB8UZBlFad\n",
       "8hA2s9UydvOqwpCpVgcXaWHtxA5Ulhvj8iUnSmcgjPA801kerCEwP5FXF2NDlTKA9hWK/aY2hJ1M\n",
       "d7P3NkpXK+ziuhj61BTwak1AGLJq4QlJKzWthTWuapqjcdrmrDjWLTN1V4pglUKtZ1SFocJuNUMJ\n",
       "nuqWXCz4vu8YzWq/JazmOfWl4/ePpVUfHaGGxE62B7ihzYpg0cyGQeXDyjS/K847f5tYIdKSt/n6\n",
       "uHrB4gWYyRkNWFHh69JJPYfFrwuHurR5FrjLIqbhdkfLbRQPHvZ7CSdRorz+26s9PlOCSgD8/z+M\n",
       "VeD9HvgDq/mqEfw798MAAAAASUVORK5CYII=\n",
       "\" style=\"display:inline;vertical-align:middle;\" /></a></dd>"
      ],
      "text/plain": [
       "<IPython.core.display.HTML object>"
      ]
     },
     "metadata": {},
     "output_type": "display_data"
    },
    {
     "data": {
      "text/html": [
       "<dt><a class=\"ProveItLink\" href=\"../numbers/addition/_theory_nbs_/axioms.ipynb#nat_plus_successor\">proveit.numbers.addition.nat_plus_successor</a></dt><dd><a class=\"ProveItLink\" href=\"../numbers/addition/__pv_it/axioms/20ab33879b2f03a2aeeab758cd4c16a6bd51c74c0/expr.ipynb\"><img src=\"data:image/png;base64,iVBORw0KGgoAAAANSUhEUgAAAU4AAAAVBAMAAADbQxraAAAAMFBMVEX///8QEBCIiIhmZma6urrM\n",
       "zMxUVFQiIiJERETc3Nzu7u6qqqp2dnaYmJgyMjIAAAAcRTyBAAAAAXRSTlMAQObYZgAAA/BJREFU\n",
       "SMfNV01oE0EUfvlp026yiYfiT0GNVnsSDAoiWjUi4kmsF0U8GIseBH+qoFDrIeolQYSAoF4KK4W2\n",
       "9GBiPUhBMLSgUFGCIlpBDbRWrBBLUdBUxfdmZ9udndm1ggcHJrv7vnnffPPmzU8A/ly6sNaXVIja\n",
       "ChDO4c+gS/su8HCSyiBHyvTxxkumlsafPiXUB9rFdhVwDGttTtGe00nAIu4kFcaCyGP6mPTSGaWW\n",
       "H5UQWqMJp/GOAXCbBJVV7U06qYyB6SRGuJGzIHKTpiPtpfM5Vl1QM8CfZI0VLNK4Gf3jp1BnhD6G\n",
       "nEyM5bmgJM5fZoA72fh7HlY5CyJRYi146ezAGsqpdJJ1j+Hs8h1atAX4csvJxFg6VDqDpIg5CXGo\n",
       "chZE9JH+/hteMuspAcUWFg9ZH4FKJ4zTDCcdVDcsOklnhFnHVToZCyLfMpkLXjr9NFlN1EPLukaR\n",
       "h6wTKzerdA5T587UbbLorg2vMASnaFtTwXSSdDIWRI4CZC2iYEXWWUd7yVWs23PRKZEHrdovI59T\n",
       "6HxL3bCF9LRCZYy3Z3TBJfBZHFx+UvtuOkk6GQsiO+wL0xrR/pakfyFPKkreTlS0FAJpkQet4SrE\n",
       "4gqd98ji3LI6Od2tEmwUdT4wYNp0knQyFkRC4J/brT9R0t5fXwqnR2CTafJRfjQABKoQipvxOV2p\n",
       "TAC3liFfxMmpVD4sq1RSszoPYa2Zcuhs4HTbDDgDgtNW0H6YTnZ+ppOxIBIpheaYMPjwarAfws8C\n",
       "UBR1+tKQbxXH28C2zz0FRTw9dS4G7asYzzEIznCdznhaOuvL+/Clu/k92aabjSDlbfjggXhRnHcM\n",
       "2wOQ5j1WoujIOndRtrfP5eeEbd4xdOEpUedPmi7mJOlkLIRkj+Bcn60hm/+8PxFl/q0jL4riOsoX\n",
       "4CQ/gm3rKJbEvPVcR7bC15E2A7XlQcHpC+Ws9zqCuyg4kKgh2XVxvdxt6oxYu4q1LyB2LiLyoLW2\n",
       "VJdw6FxLOluwBooOndZmdQlepoqC0wm4zJ3s/P6qxUIIrVdfwZ9iyRNI7c9kMvFwa32Jr1Yr7lrb\n",
       "6uurRB6yrnvi2LI3LB/D0FAWRVsdOq1k6Fl5oC0pOHWvoVl7L+oMHP61hbMQouP487m61/iIGb5C\n",
       "rRlP2Bmf17kpH9XslKfB9c7/3JxzsvOz0mtHfLlDu+GmETJeQYT060nQi673kH77vWK2F8P2Md97\n",
       "iOxk52dlyI4E2wa2wN5CzXEUd4VmCA/UlHUgURSyyjM163bYutzrshadq5N8+y3LiLkR+jE/531P\n",
       "dikuglzvye6jVkQpnPtX/zt0Yhr9y/8durL7URnR4f8tvwHbO1Ftf+A8HwAAAABJRU5ErkJggg==\n",
       "\" style=\"display:inline;vertical-align:middle;\" /></a></dd>"
      ],
      "text/plain": [
       "<IPython.core.display.HTML object>"
      ]
     },
     "metadata": {},
     "output_type": "display_data"
    },
    {
     "data": {
      "text/html": [
       "<dt><a class=\"ProveItLink\" href=\"../numbers/addition/_theory_nbs_/axioms.ipynb#empty_addition\">proveit.numbers.addition.empty_addition</a></dt><dd><a class=\"ProveItLink\" href=\"../numbers/addition/__pv_it/axioms/e0f0a565479c2718d64a96d3347aaa78db27cbe20/expr.ipynb\"><img src=\"data:image/png;base64,iVBORw0KGgoAAAANSUhEUgAAAEQAAAAUBAMAAADGs4Z2AAAAMFBMVEX////MzMy6urpmZmZERESY\n",
       "mJjc3Nzu7u5UVFQQEBAiIiIyMjJ2dnaIiIiqqqoAAACzFnRfAAAAAXRSTlMAQObYZgAAAOBJREFU\n",
       "KM9jYICDVIZnDPgBuwMDRwK6IM/Vg0g87gQG9g3oSvYxVIG1vQXzgoH4LJoK1gkMPBsQSpYBcSWa\n",
       "EpYGBr7vcCVsC0CWKaAq4W9gYPoHV8JrAHKdAaqSegMGpr9wJSwBILvBFp/eDQKbgaz8AwyMCCVc\n",
       "D4AE3wJUU/INGBj/gLSs3L17BwMnyBmMH/BZhFUJ0Ll8/1AtYlqAcMsOkAMdGFi/Y3MurqAD+5f5\n",
       "AFrYrWOoFIArAdvBLYCmpOZuIwNqBFThSgblOKMRPcqwJQaMJMWSQCDZpTKEYRUHAB5iRYzXvsup\n",
       "AAAAAElFTkSuQmCC\n",
       "\" style=\"display:inline;vertical-align:middle;\" /></a></dd>"
      ],
      "text/plain": [
       "<IPython.core.display.HTML object>"
      ]
     },
     "metadata": {},
     "output_type": "display_data"
    },
    {
     "data": {
      "text/html": [
       "<dt><a class=\"ProveItLink\" href=\"../numbers/addition/_theory_nbs_/axioms.ipynb#multi_addition_def\">proveit.numbers.addition.multi_addition_def</a></dt><dd><a class=\"ProveItLink\" href=\"../numbers/addition/__pv_it/axioms/dbecfafe7dcdb40e4bb806c163bae77225fc9d410/expr.ipynb\"><img src=\"data:image/png;base64,iVBORw0KGgoAAAANSUhEUgAAAboAAAAyBAMAAADYTQO3AAAAMFBMVEX///8QEBCIiIhmZma6urrM\n",
       "zMxUVFQiIiJERETc3Nzu7u6qqqp2dnaYmJgyMjIAAAAcRTyBAAAAAXRSTlMAQObYZgAABiZJREFU\n",
       "aN7NWktsG0UY/v2O1167hz5owsMkpeWAVFMQIEiJK4RygjhFaqmKZMvAgUiAC6JIpRKhHEh4SCsh\n",
       "NW0vcRSpLTnUJj1UkYoaESGk8IhFhShIFEtJK7UH4yYUtU5LmNld73oeu3bs3bojeb0z/79efzv/\n",
       "/PPNNwtQozywcgsaLMEYtKIISeV7buVaTd+Oo8cavc2P0JryovL11dGva7qua/gmziRR9eetxRCQ\n",
       "jCxiQT3ptxEd9eROWojs5AZ0eMPQ/Ln96IS1ZP2KlR03jz6nDK1jMdvRtUXJcIkyHpNGlxoaNMsy\n",
       "TloRw6BdYzu6cxmi6pMsROcu4+BYY+h20HZ075LVEbAQXTCNjwvGT1ayGZ14k6x34bTZva19Nei+\n",
       "nHkww7WEUl05gBnDm/uiNqPzDZL1L9BnhxQqAbxcLzr3Rvibb8leFdDDuyh3Y1Eu1CAv24wuQRGV\n",
       "D9BAuQ9cg/DSk/WiG8vDU3wLGtOLAGeM8/WizegepepofnCVwYfyXK9c/7lY3FcsXmYv1A09GXiH\n",
       "b3kWBMQPE8Z3L9qMbj2LzjEI2XgFXR19dw8I1/mWeXAvm6LbKtmKznMbmMjMTsM5qB8d6p5ACcTt\n",
       "O7ucm+PkJbdxHCg/pI47kvXBaN5WdE4qZeKsks3BW4gd1o1uGbyFKXFH3jGgUVb1kn/wmFSyCr84\n",
       "kraia6OnWpS+2yLi/iDbd8J/OAsW1JMqwyH4LTl9bAuEY65p0vImfIyO3Sa3TyvoZD79pym6Wi7c\n",
       "h0dNCBiTkHro8CZOZO7HE0hSPakyHO/ck4pBCv1JX460jD+CI++SydKypKD7AX9dNUVXy4VXsjSt\n",
       "1JlY3Vml8gcehlEPxyKkTbjEdQXdEcwhBk3R1XLhTnc0xdVZtDZNTRhdXG3wl1DvXQhyLMYsGiW1\n",
       "RQVdCHGdYM4UXS0XLtNj/Icr9OrD1Gp+yJ1Ea6fDsxzLKbPl15KCTpydmBgxzyq1XHjlrziz4rRa\n",
       "YBg2M/6r5swbQ0MHa+TMGi7G06mdyoMomVlvqOheN38KGF0NF12uKWincxloablfRfccCAXSsrs7\n",
       "5lxfjY51McjDeqLsaTG6DSo6HzirYkY4+1g+MDgLT1ejI12MS0hPJW+3FhzsU9EF876q1gtTExD4\n",
       "xQXT1ehIF+MSlu46dP7CLtC4qhvHVmDvngiBTnaB8c0cckA0JjoH7pbIfL/CM4dfQ+hUrhqSJaX4\n",
       "7K8EOtlFeM+DePkANa/IjZWyJdOlZRVuzmwyb/IF2imzrAKnEaOpcNVxBV1Qzw8yOuziinrS8Eo7\n",
       "+SNyo1YO6bR9K3e+a3bOowVa4SN0d69ktLzE6MKY0ahcdffQ0FAkEPfn0wQ67OLI4XXIAYos56r1\n",
       "9LXwhDabx+j7XYHmFVuGnoRQL3Dz+VIFnZjRuapX6Tt4PkKgwy5Zqe2PDI1Objz/zfm93+FaGTo0\n",
       "Jhbj8MymFVuNWlasYZylv+UwsVvV67sKVw3igBJjIE4z6zuHlHhB7rsjGf+nlYPcOFlw5M4Cqh8Q\n",
       "Na6dyHPWCE0rtppAW7H24Z4ZM2bRFFf9DC9RFgCSDDp3anK7jK4/59kI/RI+5ORGb/wEPA6eDtil\n",
       "72mF6W4aASsU2wXK+r0cnjE2/yxz1+ZONO7M1uY4MvU5WznzwWlI5yBAdBU9GLosUWxnKOvlzmcI\n",
       "iqSF8M1GlIedS7mqvKyeHYdNkJLIzOwqsbqKBYrtRVq0yGQlfb9OL95So7qKyDnDhRhpYpnVxCxQ\n",
       "bM+Q1kAZp/NA2kD4sE/xW2b1TAsU2wRpdRWwjOgpMT8wGrnjaq0Fim2CtKLpri/HQ2ezWgs9/Mhs\n",
       "UrHtJS8L53HnutnI/ATsRdcX42aVJhVbKquEY2gc87KK3bskviij1lqg2HaTVm8e719rWq4+r9m9\n",
       "w0UnzV5LFNtL1EPZ9hMefQxjV4R2O3eW7zVjYg0qtppAS1hPsHqj3TvL9FsBJItuULHVWDRxGcui\n",
       "58FudKEoKz82q9hyBVp2BRRotx2df531q1eu7tjGrDzuwNs49La2BcoDX6D9nWl5FexH50q2SDHS\n",
       "Vpm10TXxBmOqRehW8QZjE2+fumItASeout3cyrX/AYYpHDC84N+7AAAAAElFTkSuQmCC\n",
       "\" style=\"display:inline;vertical-align:middle;\" /></a></dd>"
      ],
      "text/plain": [
       "<IPython.core.display.HTML object>"
      ]
     },
     "metadata": {},
     "output_type": "display_data"
    },
    {
     "data": {
      "text/html": [
       "<dt><a class=\"ProveItLink\" href=\"../numbers/negation/_theory_nbs_/axioms.ipynb#negation_is_injunctive\">proveit.numbers.negation.negation_is_injunctive</a></dt><dd><a class=\"ProveItLink\" href=\"../numbers/negation/__pv_it/axioms/0ede3cc4f5c4b3d824143a8ea60286f4ce93e1830/expr.ipynb\"><img src=\"data:image/png;base64,iVBORw0KGgoAAAANSUhEUgAAAPAAAAAWBAMAAAAMZgw+AAAAMFBMVEX///8QEBCIiIhmZma6urrM\n",
       "zMxUVFQiIiJERETc3Nzu7u6qqqp2dnaYmJgyMjIAAAAcRTyBAAAAAXRSTlMAQObYZgAAAx9JREFU\n",
       "SMe1Vk1oE1EQ/rL5a7PZ1IMoKkKg2oM/EFovSpWIqL0U1otVBLsUPRS09KIH9RDw0iqFnGyPKwEr\n",
       "OTRBRRGUBnqrIIsgFFEJ+ANWLFJ6sK2CM283+96mST1Ihtnd92aY9739ZubtAq2TdqeZR88DVR58\n",
       "aAnww8bW7XQbBl7xZLElwN8amz/RNQNMMSe5VuAamcb2dbqSaaRsepRbARzPNzRH1uiW2AJjvlic\n",
       "bAnTTVZNjvL9M/BrbOzWv1fJC/UlGnTVxFQ9nZzE3u6ddSulhjqJ4DngMjDu07C0gRhvm0KVfsjK\n",
       "N1Bin6ieCbqO51M/efx6iYXLCqXFxCrwETiBRNVfZc57DvRmtW08aHPnw0IVOeyPhpXYcF7x3KRU\n",
       "7ka4vnBnbSwDz6gGoMlG/86Jf9Hj6Ll5HJHA0QqrKg980itKbMJSPFtpI2uIp+uAjyHxGxgkqpy4\n",
       "tBIJWHhehP4mjIoEjpmsgUzVMivtq27r+h4CDuVQMje0cWRdALdXz9K00PWFt7/cZUe4/fQL59MK\n",
       "cFyoJ4nuEVOy5Ns5FgchPUR1qYJZyBx/5eEf5gGnaTR+iRa7FuX20m5omZQoHnP+rQI8qTbHtDlo\n",
       "Q7diYyQT0s6xeEqhliyuUhkjel07r+C+I4oLj6mxwpkot1db2qgWXOBkMiOB+4R60oMBquFazfh2\n",
       "juWZ75kTtuvJOqqv4jbde+nqoPSHyhpvNJQNWwP0ImndbHdGJfApoRF+xzvYhS4ittYJZO9ju82x\n",
       "uKh4iM3E0N57e+qACwc4F5xYgw7NUr7tHT067FA55r4xTqYl8DmhXopXMVFExIpx1n5IO8eK7Vmb\n",
       "H5nuIqPeIJQf7MeUHbcXkOQyNLIwlBxPC/VkR3TF8bxQ7ByL95CeZh8JuB8J79gZenQUZ8rRKxR1\n",
       "l2mis9RSqtpmrZG7v9NBOOvj1aqaYw9BeuSBuFFmglP3I6VRjn2TC6yVWQN97BdzwF5VPE1+BBrs\n",
       "SW+QFO/IzAlV5KU/Uu26o3qa//oYQSQDTYH7hSrFIfOn2gsBz39J2CcjwIdmN+RpX8CzqfwFJwjV\n",
       "TKVGthoAAAAASUVORK5CYII=\n",
       "\" style=\"display:inline;vertical-align:middle;\" /></a></dd>"
      ],
      "text/plain": [
       "<IPython.core.display.HTML object>"
      ]
     },
     "metadata": {},
     "output_type": "display_data"
    },
    {
     "data": {
      "text/html": [
       "<dt><a class=\"ProveItLink\" href=\"../numbers/negation/_theory_nbs_/axioms.ipynb#neg_def_add_inv\">proveit.numbers.negation.neg_def_add_inv</a></dt><dd><a class=\"ProveItLink\" href=\"../numbers/negation/__pv_it/axioms/5c3c19cef37dfc7fcd4c42e9de9430d389f173970/expr.ipynb\"><img src=\"data:image/png;base64,iVBORw0KGgoAAAANSUhEUgAAATAAAAAWBAMAAAC1V91fAAAAMFBMVEX///8QEBCIiIhmZma6urrM\n",
       "zMxUVFQiIiJERETc3Nzu7u6qqqp2dnaYmJgyMjIAAAAcRTyBAAAAAXRSTlMAQObYZgAAA45JREFU\n",
       "SMfFVl1IFFEUPu667c/sjw9SEQSDpg9RMNjPQ1htROqLML30Q5CLFCSVbFBB2cNCL0oU85S+BCM+\n",
       "GPvQLhaFELjkm1EMRmBRsWEFGgwiPaQmdO7cOzP3zrhgudEH352Z3e/O/e6559w7AFXHA0Yfoob4\n",
       "PM7oh6QBlMnNxyr6iuUo/Xjoed6kUXpUW7DpAXhJHuaraCypUfox551CmdKDWeQjgCES41wVjb1h\n",
       "dDDGrgnFK33BKGIFGZchqeOlWEVjNxh9xsK+MA4zCqhdJsGsg8RUPj9YRV/RLKXfmH+UZJpSQNzq\n",
       "/AXgZ3//rfWO6p2z6pcEFEqINzSJxhp5+60t21CiUIpuuxtxAScBzgMMOGE0Kzii04oLIUftE78y\n",
       "YlBG++CeaOwupzqiJRcw68qUAK9NApL2UJiPLQF8AjjKV8akMMjJ1nRgs3VHq6NH+Be1QX/1hYuM\n",
       "JbgoGuvj6nE7BPGVUpZSwIQOiwDP8A0QcDe+727f53sMKTcFB1xjoZKzAzFtLOMzVpOmPKwDC8UV\n",
       "0/xGbutRbwXGVIPLEJbxhQuUAg5B7BdAF66PEXZ/XXLuZsbzIE0HoeQa2+SkVMTWzlU0ttWX/PWc\n",
       "KAcFtYKxWahdsYxFyyfwcaT5K4nJYrNu5a1cS3JSOnNa5oyFHV3E1u52aqlBFpaSzBoqLmWhBBMk\n",
       "TbOUdo5ZgV0FjCe0493AOYzxtRDZPgI3rYK6GqpLWkeWOvWWMzbo6CK29ilc6EcYpIuY/KvYvWLy\n",
       "F4rQi+ehm/wcfsCwYSU/PEbPQSVEnEdkosO8VEeosTirZstYh6uztR3sbaQLCx3bAvZDbJ9ojCss\n",
       "7HsdSzxYohRwGW5j24pM4SLUFAMZK0GCGfKABYlxkCU1amRdY21M12t+Nk3D0p61k8Y5O+zlib+a\n",
       "9ixlO1eV3U33d+CWpVIKGNlFapEkTALTqqBF3uMlpZMRUhqrO0mFY7Jr7JSjIxGztG3oEmGktL85\n",
       "kkYZ1/hEsTeRGq2rE4b0sD6DLZ4SSpxMJJGGBJdjo0xHjREtfHAPF6XSIZ7/w0Mc6CHOFqB77CAc\n",
       "L4YulbCNtkzrcIcEH0+sDFeVOtWxqkQt7LWPGNKF5Y9G6cfA+j57gH728ChybQBzzP3HMhYoCvsY\n",
       "QXkjH4qVp+CZg6S5rQc5ruWMScZGPq3fMfqRED0kuHZNY53OEHYFwf+GAmsGc+e/G/E3hsMcL14M\n",
       "eK8AAAAASUVORK5CYII=\n",
       "\" style=\"display:inline;vertical-align:middle;\" /></a></dd>"
      ],
      "text/plain": [
       "<IPython.core.display.HTML object>"
      ]
     },
     "metadata": {},
     "output_type": "display_data"
    },
    {
     "data": {
      "text/html": [
       "<dt><a class=\"ProveItLink\" href=\"../numbers/ordering/_theory_nbs_/axioms.ipynb#less_eq_def\">proveit.numbers.ordering.less_eq_def</a></dt><dd><a class=\"ProveItLink\" href=\"../numbers/ordering/__pv_it/axioms/284bfe4804453f8ee00ac9a3610474adc94e016b0/expr.ipynb\"><img src=\"data:image/png;base64,iVBORw0KGgoAAAANSUhEUgAAAUcAAAAVBAMAAAAnVjEQAAAAMFBMVEX///8QEBCIiIhmZma6urrM\n",
       "zMxUVFQiIiJERETc3Nzu7u6qqqp2dnaYmJgyMjIAAAAcRTyBAAAAAXRSTlMAQObYZgAAAz5JREFU\n",
       "SMfNV01oE0EYfU3z1+2m7UHvSwu19GIvVUSpwYLFS38u4kUoxSJeSvAHEav0IJIclBXBloq6RWil\n",
       "FAn0pAcp8SBE0IBCKSgEioqKEkRB8eLOzszuzOxskt588Mhm8t43MzvfNzMBotBWoYzCE03bPcZm\n",
       "LY3ic1ZJw3uN6BFjFJJ2qMmYo2za0ig+50vS8EUj+swoYc94MKJqyNJhU0aBWhLe8zh08RUx5wJ5\n",
       "65rZZwYoJd8LS/hWCnneMEpo/6BYkmR8GQvh+DJKATscwCyGJSmbUsyg/VIKLYU8lxilyZ6zFUti\n",
       "koR3EIqvYClgpry6Oq+RzDMKY5yR59KRVcsgRykiNuuELGSRhxGKH0qebMDf+fysRtLDaHSfOeKt\n",
       "UuImH5TRY+GWA1NdrNgApW8B1s5qLOsuC1DjC1kViDmnmUPBDcY1bFpXSUPerxkz3oW97hp4ZfDq\n",
       "O8E2eUxXKH0LHl7RWVLujOegxDe9ON8HZDHnsK5OgcuMZbx2jnmF3c9/uttaRd6tiJyaxkVK35L8\n",
       "qrXELCSzUOMHEMScKcR0W+ouRofoPWyW2YPTYuGH+zZqiqUlS+lblv1BShYjh8d+H0F8aMScZiWF\n",
       "OoME0VM8O8AexpzErzqDDCy3+XLLloN0d1bjIyzmbKseJ5vRYK+bc/FeujcIyw2iZxidpp9DiHW5\n",
       "4lyQkx/F5RYsvHAkC+4j5/fBxSwnJ2UxJwqn3DRxZlLuOzA7nQmlcJ7GavCz8cQ17+M60pO8CgTw\n",
       "whEtfAuSLOmTlt+HFJ8hEHNiPUeOqm/k18UR9DHhc8r433RNuAbc8Up8H8bcptYNJTbbL2QL28wl\n",
       "S+K0w/tQ4lMEYk50etP64/18CFNMOEJpTPX3hK4fy92HySk9rjSztVEs9FiULdt+Hw3icyJDppWo\n",
       "eef+eeyOPhYFDLlcaepY1FoWgz7qi1fEfh6YVRMLDi7Ea3UuGPwSVTV+Nn/BqGNpHL8kmpbflsqY\n",
       "KOJon18NBUhHkfHpIgF59alK2tJe1dI2pea6orcUUF/MKaJo2OlK40tvvHsQ2tFEX3ojLI3ia2bd\n",
       "bic3Rpv++7C1878PWzv5+7AlUEwRxN9t4D/EPz5FQJYMbhovAAAAAElFTkSuQmCC\n",
       "\" style=\"display:inline;vertical-align:middle;\" /></a></dd>"
      ],
      "text/plain": [
       "<IPython.core.display.HTML object>"
      ]
     },
     "metadata": {},
     "output_type": "display_data"
    },
    {
     "data": {
      "text/html": [
       "<dt><a class=\"ProveItLink\" href=\"../numbers/ordering/_theory_nbs_/axioms.ipynb#transitivity_less_less\">proveit.numbers.ordering.transitivity_less_less</a></dt><dd><a class=\"ProveItLink\" href=\"../numbers/ordering/__pv_it/axioms/5969fc6b1b851e22a2720f896caec6e9b5b0bec00/expr.ipynb\"><img src=\"data:image/png;base64,iVBORw0KGgoAAAANSUhEUgAAANEAAAAWBAMAAACs+WTQAAAAMFBMVEX///8QEBCIiIhmZma6urrM\n",
       "zMxUVFQiIiJERETc3Nzu7u6qqqp2dnaYmJgyMjIAAAAcRTyBAAAAAXRSTlMAQObYZgAAArFJREFU\n",
       "SMetVUtoE0EY/prsZrt5elAQRAkGSgkechEKeggVLIqPxIOKF0tQUKgStB6UtuSiJIVKQPpAEFda\n",
       "Kq09BARBoRByTKUuKqiQwh700lIIguDj4j+z2Ue2XU1hB5Jv/m9m9puZ/5sZwLvyxL3pNf00Vlnz\n",
       "QihYcG8LlIEVVln3Qila/scsaEEzhHLBC6UPTiL0zarXaCYKEK54oXTXEUdu2xb5jOL64uK0F0Jy\n",
       "vj32jSj2rU0DP4vFES+UfClKx8Hr/TU9XLplNAzsFlWEqfUqUHIZLOxEqVulz+NTfIxHs6OmGSYS\n",
       "fbR1ZIlj3BjbD24PT27pYGckSnYd75QT3NUblu244UK0txJ8akdKFwed7W1MF2VCQVEP5jfs3Shh\n",
       "YpOMp0roRGlqyx63M0wJ+N6KHo1aOWDzYUqydp75/XBPhsgeSMwx0+uTllI4cY5yOXufqv2DuGcC\n",
       "Z+SxhYy1exB/GN+3HPGKyzFnlq6QcZSbEs0pHFOyjD/SiFtKyYA2jKWvrFr9Le4yQGf8yzWbI974\n",
       "mkg6XB5KIaA7Ai9JTsQmYx8PoJc3v7DtXiaqQtzPj8xc3ldogc5Qwo1TTz4W/nQ3ZdVxci803tOc\n",
       "/FWqxvj8f/HWo8jx4Wl7nmI0YpUz/mogboDOYM5MRx7BXDKx5ryNUpED1DPK9jii8IyJjB7GHgaT\n",
       "uGRTuowMgn2sq5TuMkFn5IyouNxGbeW5UXka1sKYUXBHaBLIQ8sFU0luroKWLl+jlUmZs5DHObSY\n",
       "qZXPrjesvRjZxPzHWh3ZCo73agQRca9iKgVvnDrEIvlBGULuIcR9HFqMmh03z8R/Xg17qQTLzEGV\n",
       "7U+uWMICJmj7ddCZDl9CxyxC5UD1DAOX2wgYEjT2UnPY0ev+xfGgQGhUGbgqnX5Lf6oOnha/lx/7\n",
       "C9Lis2q4HMiOAAAAAElFTkSuQmCC\n",
       "\" style=\"display:inline;vertical-align:middle;\" /></a></dd>"
      ],
      "text/plain": [
       "<IPython.core.display.HTML object>"
      ]
     },
     "metadata": {},
     "output_type": "display_data"
    },
    {
     "data": {
      "text/html": [
       "<dt><a class=\"ProveItLink\" href=\"../numbers/multiplication/_theory_nbs_/axioms.ipynb#mult_def\">proveit.numbers.multiplication.mult_def</a></dt><dd><a class=\"ProveItLink\" href=\"../numbers/multiplication/__pv_it/axioms/ae0b6d8c0d6a20e1eca7eae1101caea028b1211d0/expr.ipynb\"><img src=\"data:image/png;base64,iVBORw0KGgoAAAANSUhEUgAAAcsAAAAZBAMAAACsrRjkAAAAMFBMVEX///8QEBCIiIhmZma6urrM\n",
       "zMxUVFQiIiJERETc3Nzu7u6qqqp2dnaYmJgyMjIAAAAcRTyBAAAAAXRSTlMAQObYZgAABSZJREFU\n",
       "WMPtWG9oW1UU/zXJa5KXl8wPCmZzkrVax1QILaJgq63FFREhLegmFhqCQyaz1H+rThmlHyR1DqKC\n",
       "1uno64RNqjNhErQyZ2mdHyrVwDrmhtOAbqJoDLqJ61S85973XpKX90pemEjBA+fdl5tzzru/e849\n",
       "99wLOKPG4aex0qhneMapihcrkPzx/2H+SzD30ndzVv9M20jXS4GUYIKZp47TTmA61DCRPMIeb1mv\n",
       "+5S1dN20VWMG8zP6/aMTmA41TBQiLD9Yz0DeWrpueldjBnOcmhEnMB1qmOgY42DU+r9ZS2lTJEZs\n",
       "DB+q7lIighnMkMpeM05gOtQwEe1HXhsfTVpK1w9Tvkwwgxmcn5p61VEKcqhhSnpD7GGnHeq0kq4f\n",
       "Jr4TTJn2j2TyWWeZ1plGJbkoXpsBz6evNbWWpr1p6x0sYpWolfTLc+tUBzD97a2r9b45wQRzCzDm\n",
       "DGbtGtKCaPuMGPfRVrKbIfKNIm3E7js4EdnJ4oTnoM8LRN/q0p4wfmGWRmqF2ZUKFfW+rwUTzO7K\n",
       "DCc9/gnWVW6ngRceSpTD7LbKiZb0ou6GbYY+AX4GeMCbx0SMHEm98/hCvYt9yByjJD2Zwy2Q2oZq\n",
       "hCmvhdvIj+8LJpheuIzN+u25DnygqG4jSOTDbTl5syr9VA6zXMOWyBSO6L+MlwZafpcDaroT31BH\n",
       "mmZMRZJPcdFkhKRvV/EY8ymHqRQK319dKFQXNSwCHi0UzrI39xK8xkwMCCaYSs6obIK79qj4KBJV\n",
       "DPUvp6cQfAM4XA6zTMOWuKllYOJjYJAbFGP+1RbmlZDP6zBr8GbDCNIxC5j+/H1sVB19zRSNjLLZ\n",
       "lzjM2ZtaYh5KAXdmmVA5TK6BN1vOVGfw1kHtE90GOrJTgqkHLW4D/pJLS+U8PQUWsTbPatLynwgU\n",
       "HcBMz9AMHjveREPvEcxr2rEHGcyuXENKlHFZ5WA/JTl10NsZoo5TJ801LWnIT0pLwMOVnzoQG9Di\n",
       "Pa/D5HZKMPUUhKsQWDKi5kNXERv0FFRGTFq+iMb8tAOYGQwGUotrEa5MQXiPWdhzHVapMs/nWcxQ\n",
       "HpbwM/MYH8O0GSZpuKPSEPpXV36qDZs0t0b1zMPtYFJPqnzPoBx/Dkr+uNbpuegrUjXvNp8LSXoU\n",
       "J+IzVTDlv/VHOl8B0xcJblf8+4bAnIB2wRzmKlJMoAvSU8nkKIO5Vyy9C8CmZDIZef1eM0zSaMi4\n",
       "mPKOymGtQYsWhNzU5qhmB5K+0fLh9vDW/4i+zciJDc10FgjFTDBJen/T/YnOam9u1x/a4jYybeLa\n",
       "V65BY8TDqh+cEcxhBinOrkC7hLjwpqdP5AMJjfTi3qelfQMmaaRTvlOqCaZ8AbungreeZk6JG/sI\n",
       "2Sl5c9li74B9sVdz0GqJKOaeiUFmSsTGedNfxBNZHKXXReArjKsTSl6BEuNlRaxUVBs5tiE1cA/3\n",
       "5rjqf54/WBOWzuUC68EsH9XXJrdTWpv1lu7GliqrNjCnyn9MwHt3rLx01yYrjhty8LEo8uzsZE7s\n",
       "zexfnJ0HdvEapfBcrAqmJ3Gog8PszUhh9KaksLQGG69vzmELVSy+jAZT2CnB9JEnx2o9iPk0v/tv\n",
       "/j3ipKbcCNdCxUGsgtazBSVIWzYutjaXuz3YURJlMy6aIdeibqp631zuWO271MfqMY1tL0kCqZou\n",
       "Sfp+y5SJiowsxwMLVeiO1HJJcvISX5IEU4LtYQZrvwsqiVaP3cg821balZeje1r/jaLtz/yXKHuG\n",
       "4/8AFtyIJycTLqsAAAAASUVORK5CYII=\n",
       "\" style=\"display:inline;vertical-align:middle;\" /></a></dd>"
      ],
      "text/plain": [
       "<IPython.core.display.HTML object>"
      ]
     },
     "metadata": {},
     "output_type": "display_data"
    },
    {
     "data": {
      "text/html": [
       "<dt><a class=\"ProveItLink\" href=\"../numbers/divisibility/_theory_nbs_/axioms.ipynb#divides_def\">proveit.numbers.divisibility.divides_def</a></dt><dd><a class=\"ProveItLink\" href=\"../numbers/divisibility/__pv_it/axioms/46404eb6709b03d47893726a6b6d4b91883a93730/expr.ipynb\"><img src=\"data:image/png;base64,iVBORw0KGgoAAAANSUhEUgAAANwAAAAmBAMAAABdfejNAAAAMFBMVEX///8QEBCIiIhmZma6urrM\n",
       "zMxUVFQiIiJERETc3Nzu7u6qqqp2dnaYmJgyMjIAAAAcRTyBAAAAAXRSTlMAQObYZgAABCRJREFU\n",
       "WMONWF1IFFEUPurs7uzs7CpR0Q/ZoiQikRZYEGWWkNRDrgQ99JJIRb6ERFJRiBmYCtYKlVKEow8q\n",
       "ErnQU724mQ+hUFsEFfSzFggFhVlCalH3Z2bu7Mzc8R7Yb4a9d+937jn3fPfeBfCw9yBq4ZRHo1LH\n",
       "0MOy08J0W9BwhVHo1lxbD1mQb3s1UTZpHYAq5UEpx+86hvwYrBKeXH8M4E5OGto57d8syDN/nTDd\n",
       "SfTRsqIwx2mnQe72jNaxuCibbwFjjeab9/Tc2/8Z4clFyDgVkJ3H82eRIceCC8J0fSQObSBz3f9k\n",
       "QXfLySyDox5dKwhuhxpu9b2woLuhzOM5GiNM6M+HLl1XEBws2MPNdl+ljmmefPTFMA6Djc7vHDI4\n",
       "nzFLi1VvzJ9u3oB9TwLFKfz86kL3keAXO53ilJrwLPEjrfyytxSXQwRaSCPtAr3YvRYXuh1kpDI7\n",
       "HYw7s9yIMZCSo/aWXQBTKo5jNvEIYQTVnppwoTtPxog76PodPQPEW6mgnM336rlm/NwJwbrD+CW0\n",
       "oGN4cmSkxy27PzGwFpMuUmnvmVtmL7NWUz9krZN8s2Tg7/b2S250RJAK0Weg6MbmKKLTJV8tc9DZ\n",
       "g3ifqdVLujUpfw08AdDhJtCkQxd6SYbPBNKITpf8MMn6s+/YPpOuo/Zya2CjtAxbnMdY5bbY0PIh\n",
       "dBdRYjV1UYojOl3yQ42OkrHTsZXnj+nUfwwMQLabGNBor0QOgtxCcqdLvm/WoeV4peX+w0bafPl4\n",
       "5qSpSkpaVgJGNRUALzo9NxOG5HPorIFhs0vLODxWumD6CK6m8iKkIlIRBDRbMNFwMUpHJV9qZLmb\n",
       "cQ+muTGoCfSzLJxDEkyCHcdRAWqnA2iBq7larZHkOX2phLRS1IzpqOSHHZketa/MbcbLrSD6wVbT\n",
       "eYIPkLs+urPfroZioyvx5wkKYeI63CWzo5Kfk3QUgv2bgBHdTlmDwTcZdaeXzYKuOvXGb1YTjcVC\n",
       "P7A7Reio5Edijr3Dvs0ppw7SE9Oa6fbLP67gNyKnBMM4W75ZH/7iLJjnoWsuIoYlf8ixqmRHeKWn\n",
       "VMSYqi0yxNlW0yr0atAkmevusV2idcl3SrSat+x+T7uYHQdfjU9CbQL2F5uejpEl2sHoqOS7aEJo\n",
       "UfA0E8mMekKJy+aiptJk2V6p5Mtxjt55Gh0sU+1CcX+SnazpOcc8PGzSn29dBmtblm4sztDMJ0jv\n",
       "2JoOL5+RjIOPUtCwb9z78FThdWZfEqYbxXV2D15Hm3k91luQf6sRNHJVmoTn2gFehzyG3JNfTJgP\n",
       "F6vGvZCgoVIMuVdE8evdB8sWyg/UMuFqFaYjZzDuhQSCaxnybUg4mkoTwCN0rCvhDJRg6HEpuSA8\n",
       "vZ64tCTPBjnJ6bKgh90UpgvGlPqSQs5fB0qlif8BmJM0CfLsRSsAAAAASUVORK5CYII=\n",
       "\" style=\"display:inline;vertical-align:middle;\" /></a></dd>"
      ],
      "text/plain": [
       "<IPython.core.display.HTML object>"
      ]
     },
     "metadata": {},
     "output_type": "display_data"
    },
    {
     "data": {
      "text/html": [
       "<dt><a class=\"ProveItLink\" href=\"../numbers/modular/_theory_nbs_/axioms.ipynb#mod_greater_eq_zero\">proveit.numbers.modular.mod_greater_eq_zero</a></dt><dd><a class=\"ProveItLink\" href=\"../numbers/modular/__pv_it/axioms/ad939fac84b537da488e52cdceefbed4712ac44a0/expr.ipynb\"><img src=\"data:image/png;base64,iVBORw0KGgoAAAANSUhEUgAAAPEAAAAWBAMAAADjpGcAAAAAMFBMVEX///8QEBCIiIhmZma6urrM\n",
       "zMxUVFQiIiJERETc3Nzu7u6qqqp2dnaYmJgyMjIAAAAcRTyBAAAAAXRSTlMAQObYZgAAA4hJREFU\n",
       "SMe9lltoE0EUhv8k3Sa72SQ+qA8WYYlWfRGC8QJeI74J6j6poJBSb+iDFu+VPsQiEvXBRUFFkEaL\n",
       "KLWaRRERxC5VEaMtEQUveImCPqhgtVWkiDhnZjdNakO7gh44mcm/M/PtnDl7doG/sFO2V7Kzi4vd\n",
       "60OPILlAnZeuwEpKeEW72ceH7W0Aqo0/rna+0Ll8n/58cEUOG8IrmtwnxsUYnu8M52YPzDaVRi6f\n",
       "oJEpV+RHtlc2QY6YtEM7DBudaw+Bbi6HM4BquiI32j4ceRlbGqdtaek6u7Mf6MiQHMq1tR13BZYb\n",
       "hA9LvsuDm7C1lftE+53dksnlH+l00wh4VrHnjQmHPHfaONZIb2ZE66uibOH26G32v72zVpDfR+ew\n",
       "eMacecc+8rzrZWSNyywKB0ZALi6AQF44FhrhHhL8zWiZyM5PakRAg1IDVeT2r0zWQKhQnHiUjkj+\n",
       "CSQ1Li9y8q/clhYqkf2mcGU8fDw1A6MQSSFp+C1I3xAo2Lkd7EdEQ3DgXJ7wQLE9Jy0u++HNlxCu\n",
       "TVnzllonSsGt++drZWRPQrivH36NkwuIWGjRk+x2fiJrQeFkX4H6Uo8zb3KuJNokq3l/sUTciOe9\n",
       "KnIaf+zYz4Vb86BZ6hncim+Lm4PInhSyOienaHMtegdlDYVSkNnjzFLJISt3tWKGdQhZLix3yE+v\n",
       "t4GRn1MMIqxUhA6dzDBy6OKQ0WYb6kApmfbci6xDjuSxIIMqEW15lhPYNPDalg+sZT+tk96hilYn\n",
       "MuVxMrqJpQAzRm4fMsOyJjYHjRKyJwapD+GUfc6RBMsEO8PkzWZ5JeHyFYZXdkj9CEOQ40SZnJkg\n",
       "arpm+eJlZMoA8oAW2qkO7DmpS2MQtiCPhu8rydX5ABvl44/j+URJyJQxtsxmwReTGtDKyb7126lt\n",
       "xiuF07SZGxJlZAoUuVJfe2wiPc9bvq86PFb93ISjD6ZT+Lpqv9TRyU7rotPWB79vOifpthxiRc5j\n",
       "euuwIp1Oa171yGMaMBozpd3pdDO0e1OJrLupniV2bhg5awSeZ6pFtIOrqd72owZ1ItpXc27fGKXv\n",
       "xGFkj5FcAlUX55yz5IPYE0rhjiCr7eWzAobwEb3LRUG6tItsx2CZzq7+8jzgEFWSbqt1vlSD5Q/Y\n",
       "8iwhg02flHjB3ZfBoLscgexl52xXLtFMYef8F19DJfbMlVz58+k/WP7fI34DHBkNtthCaVoAAAAA\n",
       "SUVORK5CYII=\n",
       "\" style=\"display:inline;vertical-align:middle;\" /></a></dd>"
      ],
      "text/plain": [
       "<IPython.core.display.HTML object>"
      ]
     },
     "metadata": {},
     "output_type": "display_data"
    },
    {
     "data": {
      "text/html": [
       "<dt><a class=\"ProveItLink\" href=\"../numbers/modular/_theory_nbs_/axioms.ipynb#mod_less_modulus\">proveit.numbers.modular.mod_less_modulus</a></dt><dd><a class=\"ProveItLink\" href=\"../numbers/modular/__pv_it/axioms/7bef0336483aa30542fb451f5bd1693067a5f23e0/expr.ipynb\"><img src=\"data:image/png;base64,iVBORw0KGgoAAAANSUhEUgAAAPAAAAAWBAMAAAAMZgw+AAAAMFBMVEX///8QEBCIiIhmZma6urrM\n",
       "zMxUVFQiIiJERETc3Nzu7u6qqqp2dnaYmJgyMjIAAAAcRTyBAAAAAXRSTlMAQObYZgAAA5JJREFU\n",
       "SMfFllloE1EUhv8mmTadTBIfXBFhjKI+KASjIqg14INPah5EEYWUuqEgFhdQaSFWkaig0T4ogjS1\n",
       "oFKrDYpIQXCwilirxgVcwDKuiAotdUFbFc+Zm0mTOMGOIB44Mzd3++495793AvyFHc94EZMXJ7Pl\n",
       "NssengSgc+GZLa4cE17MPN1ho9vOaqA0Udh6egQ91gG3+Mc7W2BfQnhRawiLfkGi67+1viQ/Bxyl\n",
       "V3nMFvhBxouaX4D9KXpczYnEa+PVT66o8FE+lJQt8PaM/wm8iFPdmK31bjai5OrjNAyBt6O5+Ygt\n",
       "bnm18D+CbxjxDmcqHTVCcoox9BXwNR6vGQROy5YcQeGobx/Lc0nPpweqXIHdQEvgGm2mMxAVsDeB\n",
       "WcQJilEtm0yFVI2jALcDq4G9gwAHsyV3WrhrFLqNirI6NIzHPUjb4VbRmMJdoeqfydYEvEJdTbXm\n",
       "8NZ38jegC5hnpTxgoV4MXJYS3pjGTLGSIfDHEE2UaZA+44Cpak8f/Co8RmRL32eHX0miF7hEc8CR\n",
       "zgFcmrTyhZGKDMmzaU+FmgcuCQufm4QIn1uHX0NDJEqr+S5/p00ZYKeOVlpKD5dPDoArwF2iREiX\n",
       "ZW+Gy6G0Q0EHg3ys9DPtc6Bqygm0hzaHUgXgkZA/C3CMt9YQuUKVX6VeE0zHeFEqA0Z97cAxdvUb\n",
       "4HJ9iVn3uK0ZBH7KEfCT9r37jyUJ7D1rFWpat6cnD8w7/ihnwf40B8VVXSCuH3DSgZpPpb2rOPkT\n",
       "XsPFkzOYFRwNrKf0kxG4xUpccj9K9bZccEkQ0ie8NXPsD8tjYIpr4Dh9YnGwuHCB1iRvlfrggwCH\n",
       "GDIxOU7c46rmDOWBOfvsdXhUqQ2AoxFpGHwaDoUxVzUElXZTL6dWcIFswC56zuaVUTdnUKpGkwF2\n",
       "rtnC7zp0yQZMnbE2nAfm4LGfDCyr4hZp45flB4cr3TWo75xGe5h9PzrcUMzU25zpSMGV2TSZM8lF\n",
       "L4WgJOWoxNJ4PK46lMMPuX0oZkjb4vE6qDen8PQRG1dmrp2y/sCZN19rwv00WSpC7VnByejDaFSK\n",
       "UF/ssPmRyLWrlrWKah6RRHQBlIjIcYdWvg87vDFcF2ClJX+UOyF8UN9u3bL6XDZvVefnAPv5Armj\n",
       "NVVIo7Gkk2an8+Gp+SCHdFt/BAoXaWEFl7SDcpzRgXhNohzb/+uTa08sa71F49WG/2Tpf074BQ5q\n",
       "BYd3gNJYAAAAAElFTkSuQmCC\n",
       "\" style=\"display:inline;vertical-align:middle;\" /></a></dd>"
      ],
      "text/plain": [
       "<IPython.core.display.HTML object>"
      ]
     },
     "metadata": {},
     "output_type": "display_data"
    },
    {
     "data": {
      "text/html": [
       "<dt><a class=\"ProveItLink\" href=\"../numbers/modular/_theory_nbs_/axioms.ipynb#mod_is_remainder\">proveit.numbers.modular.mod_is_remainder</a></dt><dd><a class=\"ProveItLink\" href=\"../numbers/modular/__pv_it/axioms/3c25210ee0df297d85f156bdb645cc49ecf5d44f0/expr.ipynb\"><img src=\"data:image/png;base64,iVBORw0KGgoAAAANSUhEUgAAAY0AAAAWBAMAAADOX93WAAAAMFBMVEX///8QEBCIiIhmZma6urrM\n",
       "zMxUVFQiIiJERETc3Nzu7u6qqqp2dnaYmJgyMjIAAAAcRTyBAAAAAXRSTlMAQObYZgAABSZJREFU\n",
       "WMPVl39oW1UUx0/y8vLj5b1kf0zdVoRn2m5Dp4RGi+DWRQQHgi7+MxE3EqpWFNS6qXXaP2InkjrU\n",
       "hwOnE2nWohu1LmEySkHsY1HGajsiij8GzvijKw5p6+xE2yqe+yMvr7cvXYr9Qw988+O+k/fO595z\n",
       "zr0BWL7dMP4mmlHl6tvOw4Eik2BBw9Gzmr1zh/VxqCJtIg4lMvbtsjg+hua2trZ1zheVtPP4US77\n",
       "0FX48rCjZzX7aIY+4/l2AK9RkRqHT8mFC8vkAMcAqIWqrNPPXHb7EXXM0bOaBWbYQ6IIU6oIOd4g\n",
       "V9Mrx/G587AWZVpgcyhV51+O2zyrG+MI5/HlZEXIEcriW37lOPY6D/sMJrt5ZkmOrBI4fMblObZj\n",
       "0HC4IuTQRvr7D8KKcQTanX9zkMtuKvX9SeBYOhjGcYomV9wScsAfmUxnDcGbtXG4SVYcKFyTFcbr\n",
       "uQJj1zZYpdRaj4lQEDio1+Ym0kbk72+KtHoiLwAMRMhDB042Mo7zkVtwGqKWCMeDAN01cETtHKc6\n",
       "Ojr+dHTzY9P0rIUpOt+T1OgvX+a61fBOl31zFxS8yTmBg3mFqJevC3oa4DOQ94JfB6UOVNav/s7m\n",
       "DNCwwLkIx2204hfZXaUlOIT18K4p7OPXfTjDh4tws3i755iUq8FLbqyQseEsXAQYFDiYl0Rbj38V\n",
       "hNOQNHwmyJfAX+L9KjgLYR2CmJZchMMHbvvGM7jx/h/oZPLAgrtfbNGX4FA+jBV9htrLE8mFd9ya\n",
       "hd0ix2omaRpcJENzBKYFlHmAJLl8ZnLyicnJ89xTmgUfbWMYediEnkQSZ2ceciYolEMqkc8yLhkX\n",
       "4VCLPmsPw5jcKoyQe4RID3uvsAV0U+2FQmxPLO/I8fVQPwRhV3kXJxxrQLlUhcOVhp44WbYU3T48\n",
       "c5zDth7MK5egHGky8T2JYVLHkNQ5B24f2/MiR6C0o/wwEhNynCXrE8b2p+0/lEUO7X3n9VCaGvIe\n",
       "Nh4ttwHMK5zk4LStPlK2vMrp8J11n7/IxMO2xXmFkz0Mdg6yHr+RHzOOcJGsuQdziotwQPcD+NK3\n",
       "fhxoTISDBJWMPIKlg4YcA84cRxJJI8T2rrcSlTpX5rAGhoT14HWey8Mrth6KleRU5+j1GD14lTlc\n",
       "UZBnIJTm9RGOYwWJdQ4fIJPylDwLNCbkiJGYN2Tr2dlLN6WYM0cM7oY++rlXtfYE9OuCr1KmwFFg\n",
       "CunavDX2KOzD180CB3r5de1ptbIeyYR8BYRMCKwG6SLtK0U/PkYyLVEO9AQpKrezmNxS25PkvQvO\n",
       "KTR2vfmhuMgxgX13HdTBergnk8noYI7AIb5H46S8G7m3NS5wbGNSWq+bscb6NpEEHhc4qFfj62SX\n",
       "kR///b5Xr1SnOuHA6I3kB2ONv5IsVZrGSJUkLFEODVuNK+9OsZjc6mtfsHJrlp/JZLpAP3098UqI\n",
       "6wHY/LvAS4M/UYTTNZ5LtGnhfNy+rHOJzY5UpJanLWf4z2a9LK+CO0kPncXpTrG8OjHidC4BWIs9\n",
       "XSV8kkTXoaZzolfYl6xzYn9N50SbLTwn8nZpJO9kMZG+awZegme1NHzCONQBZ47bN+Hc7scPX7aN\n",
       "TqTKhV5lOru5XELlHHP0rMGEcztP69bjW1hMg2fMvha5DnaMYkzY7oKdvyixkiMH7RZuUh+1/49S\n",
       "p/ZcLuqjtXGQCStLXViOlZiC7G0j1sdi21AuTcn81/9rteX9r7XZNxW5J+JVnIZqutXWcfiPWxH+\n",
       "Z/YP/YWuIDDsx+cAAAAASUVORK5CYII=\n",
       "\" style=\"display:inline;vertical-align:middle;\" /></a></dd>"
      ],
      "text/plain": [
       "<IPython.core.display.HTML object>"
      ]
     },
     "metadata": {},
     "output_type": "display_data"
    },
    {
     "data": {
      "text/html": [
       "<dt><a class=\"ProveItLink\" href=\"../numbers/modular/_theory_nbs_/axioms.ipynb#mod_abs_def\">proveit.numbers.modular.mod_abs_def</a></dt><dd><a class=\"ProveItLink\" href=\"../numbers/modular/__pv_it/axioms/51cf904966aabaa2ca79be232018468cb14897040/expr.ipynb\"><img src=\"data:image/png;base64,iVBORw0KGgoAAAANSUhEUgAAAcMAAAAXBAMAAACFcDlgAAAAMFBMVEX///8QEBCIiIhmZma6urrM\n",
       "zMxUVFQiIiJERETc3Nzu7u6qqqp2dnaYmJgyMjIAAAAcRTyBAAAAAXRSTlMAQObYZgAABaZJREFU\n",
       "WMPdmH9sU1UUx79r+9a+t/4wEVAhJKUwIMZow9SYCFLDHyYmukp0RiW2DtGwGF1EDSAxZTGmSHQF\n",
       "EiEmuC6Loohpo5kwotJsMyS4YREThYipGon6B2xQwA0Ez3n3vfa9/tor/mO4yd17ez3nnvu553vP\n",
       "+wFcXXu85HitNTmLYe10+KoH2Vn9J+XhZHlEUxuo6vv+/SYj7jn+50R9s/sQ9SHKz47zoeHCanl2\n",
       "ASNW3b7pdEg12dhpiGhqjYlqvl/lC65sxP0bvvJXfYh/1okIuZuz8PkEpEv6JW+ihn1PSNgEDRHN\n",
       "ec5VDZUvuLIR9x18OVYXoSdYL6KygKc0d9Jw6Wgte59A9KUNEc1tsKpvvug6KLqXZO9O14XoTNSN\n",
       "GDhHC7nMiLjOAmJr0hDR3HqnQFRde0X3HNq9e3t9Ot2OuhFvPgvY7JOQH9H11GkB8aAxorl5Q7UR\n",
       "D+pG3P+OxzdYmGWmeDpXoG0bmpO0iuh/ihaTEHecx5PXL5/vh42lp44ASL/cEWh3BF4H9gRoPGUk\n",
       "EBEAJwN3FyMWNtviRTNJeEK6Ja7YM9icL7qyEfdVwCYLszTshrdURMdNOF0zi4dPcftNILamsZ8Q\n",
       "cRJY65cn4KL6I0ZgHXahZx6OQFoHlx+9aXwrKurlZCpRiKi3exPeMVovrd6YXZVZcOeLrmzEfVnl\n",
       "8vRgririqypibxZ3WRaq35mDnxHfADYC/8BJ21+MQM11HXwxRBLODKRzeFuvqE2T8PkLEfWhZsNO\n",
       "1bFJE7rZ1ZXTKqpwZSPuTtiM99W9C1f+ykdNCZDWDGNO1IQ4TUVcmsSL5YgfJSsj2ibkkIZICGfQ\n",
       "QBBiBJ5nDr4MesIR4r6k0H0lpSLac0hl9IiKqolTYRrESdzSGMpd2VzJF13ZiLs76yzM5IuWrM2N\n",
       "Q7x0Xq6yHw8twT530p4calnTkjYj3gjlXDnibelyATCicskDDTGuI4oReJ4xXvOe8AEuDdIZHZHu\n",
       "ba3pQkStNcSQChsQja6I+DVE4aojyrk23f3Hgd0gxOOcVR/tAs/md5P40h90VxAqLXbTWDkir4wm\n",
       "ALEXTwpEbDQjklC1EQzz5FScVQqIviwnukSolJwDdHB0otwVKR1RuLKRarjpafrTN/93OHhqjMjq\n",
       "iAQ6aJtS6+/f6q5QbpSLaMwNlCG60poASrKI1g4TIpUbbQTDPBuCkPL4Q9+LvpAyG6XlJpXG802J\n",
       "Qrkxu3pj2l4Urnq5wWfEqbwsTcILgdjCOAuSc8Xza7/7kxVmxCFVqF34IZqpiOgru1FLURZY44TK\n",
       "pyJypsUIhXlGwtJ0eDPYEsJStco0Zl1BpHJaRD2A3/MKLbk9Y0TUXeVpsJ8puKpGqiFXLXtQ6kSf\n",
       "imh/5iU+duFnRcXqR2bIjHifivhB4LH2EB3fmx7oOEE3psAtSdhGb00LAZQ8ol7O2kK27gur2650\n",
       "tF1ZtW88yvoRI9ACvHD+ie4Z7tMbsG3kdlruxd9FZqi5XzRK1XC9FlEXRHvzO/NIKWGxdmZX9I02\n",
       "j0d1V9VINfSQ3hvStigejcfjfpt76/dih98prY3HuwhxJ9ejcLUHOPkiSWsvpU/pxGIaSAhgyrbO\n",
       "6rPU/ooPcLusuO4yGqYSruPJRiHUphW8xycxC1GRRcfyWo/hyiSew0OIUOLplPchCWDq8EetImbq\n",
       "fAwvMSoYNiQiD8AdFnvxUEZ+E+s9MXzNP1FOfypx3WRCHEM7IR4BVjrGVEQSwNThXQlYfGrQIlp8\n",
       "mSoxKho62j9dAmzmW//hTN890iy0jYja4XgthMZar8QaImdRFllkAUwd3+ILnKfiK7GlBWKjUkMb\n",
       "7UXtvVscFtJerPxho1k7bYbMiBFaDnkmnWyheyoL4D992KgY0dSOWXE6VtNwoI6vHOc9Nwx0BzEy\n",
       "lIB7dAElkAXw/2/Za+hj2r81mwEgaxKHyAAAAABJRU5ErkJggg==\n",
       "\" style=\"display:inline;vertical-align:middle;\" /></a></dd>"
      ],
      "text/plain": [
       "<IPython.core.display.HTML object>"
      ]
     },
     "metadata": {},
     "output_type": "display_data"
    },
    {
     "data": {
      "text/html": [
       "<dt><a class=\"ProveItLink\" href=\"../numbers/summation/_theory_nbs_/axioms.ipynb#sum_single\">proveit.numbers.summation.sum_single</a></dt><dd><a class=\"ProveItLink\" href=\"../numbers/summation/__pv_it/axioms/9d97b551c8bf391866da9e373591e5466b17ca0b0/expr.ipynb\"><img src=\"data:image/png;base64,iVBORw0KGgoAAAANSUhEUgAAATgAAAA/BAMAAACGI8lVAAAAMFBMVEX///8QEBCIiIhmZma6urrM\n",
       "zMxUVFQiIiJERETc3Nzu7u6qqqp2dnaYmJgyMjIAAAAcRTyBAAAAAXRSTlMAQObYZgAABv9JREFU\n",
       "aN7Fml1sFFUUx093d7q7szOzhEgirKQNVWIwhhVC1ISPKonGGNN90ieziB/RhLRVI+JHbMODLlHS\n",
       "NTFINLpLUNFi3FWjRvrQFWJISqQrGhDUUB+M37TUIrRYxntnzp3ZmZ2ZvXN5cJJlpvR/Z35zz7nn\n",
       "nHu6AM1Hj65PQItD7cSLY8BzxLLAeTBlQtcvev2+Z2Sku9U9PsNzqp/vmdt54ZgyNjLiDdf6DslF\n",
       "ePFyju+Re7p54WxlRhAuzqz6GJ7lVb2BmLHF3HZdfLlwR/GsMOfcl8uXA0es57br+suES87gRYnZ\n",
       "YDXcEzykUuWFs5SCcIlBvCjYb7k8eIiygBfOUgrCjRZxrc4yl5uFncOBQ+RpXjhLKQj3K541NoOw\n",
       "WJqpB48ZL/PSMaUYnDSPF3kL6LbrulrAleq8cEwpBtc+hRd9wH9oE2GVYnCVTegd/4SAi8yGVYrB\n",
       "ncYAos6EgJP/DasUgxtiEWUqBBz8FFYpBncBz+nBMHDjuZBKIbgYM1BPLQxcT2dIpRCcwlxt3PC9\n",
       "Sd0+giJthXueUSkEp83hxaQRLUd10wryK8c7zgZVMtwJDJVCcGlWYJ43/o3qVsGpDgSk93buWIJK\n",
       "IbgS2ieJC2PADnfRgEgbmecOdPPicKNY5qf+xiSm25lpTcC2gzvQoVIIbiUuuwi6v6rbBlMbdG/g\n",
       "+XNc5P75JFn3UmbAsMOPbjjNeJBPqt6AjhVlO5Ch827J3q4iyGx1tpsFVvKS182oEt71VGbgCD39\n",
       "7oZT6PM1nyKnD7NXOwspe3T3zm/LaBW0IktH6IieS5kq4TdPZQZ2U9JBN5zxP7t9jDCJT9WYNWPu\n",
       "LaY88xbAN9aPB81Th1cepUo166nMGNOjVJt8js7lER+4DpzRtjkr35x1TnKKJt2n7N2ec1yTMl70\n",
       "VGZAHRsefrV5QfwwPPye335ZZ/HOyvuaq0WgkKFJe7hm+sFA0SPbUNWr3kqyWi8UCs82w6ULhRdq\n",
       "3HByhyNMqDc8noUIsZW87JFbiaWUrB+coYQu6lprVy1xKQncgwA76OXaeiNcew4SRW44ksIcO/o0\n",
       "CTYJcr/34UTncwTBnNdJM80pZ4wjaylhJ/ncUtSmXEoCt9FcI8qyWiNcLAsfND7uvpduWh0AF9WX\n",
       "OHIIuXmcOPIY2azcYTVUhjxqJqqEZ8gcL4XooEtJ4OIQqdvWtoJwP1zPft5/aB3x7rEVzIYsJFQa\n",
       "MvmAw66jdLmQG5bNja1kvsWQR7+EKuEK8nZzRovDoSRwSj1uTEPZCfcVMIdWX3ytDFXpZD0IruRY\n",
       "PYcRDmC6BdxhhGsbhEquGS45cTclGFrnhHtT2oTtmY2m4RTL+5lZKw1V+tcOB30eTLOCdM6Ig/2N\n",
       "cOhzmywlNWulZkyiQ0lz644H6NV3rtya2NWN7RnTR09+ErQgYucc87EQzAVxIDIFK9wLoklJF0Sl\n",
       "Cr2pYtOCgI/7zU6MEy51I7ZnZGNZyZ21ILh81Rn2wYgKsYuJKZrTozU/OEMJh8irdKpbFZcyw1az\n",
       "sZwdVck0tmekbYXCdlCUcrLsH+cWOjcZU6aF5M0rumhNoZlUA81whhJuJ3fYfM2uq11KCqcaD13k\n",
       "hjvF2jOGc9x5LyhF3/SlORO/YuRqO33tA78gbCrt9OVQWvWcPOdVzxntmS/pVTZL3w+HIlzcGlNw\n",
       "PPFTzVjYHIkflb6Jn81vvxec0Z5JEH9SH9pydKu1p0bzJNgqUJ62Ezn5bDPDd8JdMulNcKg0U1ST\n",
       "0oJTs/6V8LWF7cHFZkMc+Z58jt1sPokVYkgpN5WkTGkVm04lg9OO50KU6XXnjqUhjsQWeJTpJ7Fx\n",
       "dqFlme5UMjhlWZgNDkaVFKaskhVH5A0Bfwxh+6HWByqFNjh57IBJ5j5Evor94vU+Pfd/bw3TrLI0\n",
       "9yHaJTMfParr+vmAYdFzvHCoFIKLs+A7YK4Pzl6Jxt0wQ6UQnDUFG7ibWo4uBq9SCC7FnGe0HgYu\n",
       "nw2pFIKzWsGsN8x3rKyGVIp1Np9kztcfBq4vrFIMbhwzgjIbBu7KsEoxuBJ2cpLTIdhi82GVYnAa\n",
       "M+cvIeDa58IqxeBUFktOh4gl6WxYpeAf5tg+ME2z7ME1yxnj3uU/+47hfxGmFIT7AstNhWylI+Xe\n",
       "ePfDBXLU5Sckf9ud4Z5jphSEa2O7HZLzJfjLSh1ZyTe4xLgzq6UUhFPZBJ2mU2gFlLZqxDcsa9wu\n",
       "ZylFv4DwJ7tRje7SJeilZUm9Ukyc8umGwodlXjhLKQqXxzAszUJJmWDNgLZi/i6/EUu5Xc5SisKp\n",
       "zLdOwDvfHhxj3rL5o3V+sYs7DdtKUTi4n92K05VOcE+crfSG4/iilcZKjD+4npjk/kIOU/p90Wo/\n",
       "xxetZBZS3+Z7ZJEbDpWxkZED/wF02T8U9ddoggAAAABJRU5ErkJggg==\n",
       "\" style=\"display:inline;vertical-align:middle;\" /></a></dd>"
      ],
      "text/plain": [
       "<IPython.core.display.HTML object>"
      ]
     },
     "metadata": {},
     "output_type": "display_data"
    },
    {
     "data": {
      "text/html": [
       "<h4>proveit.physics</h4>"
      ],
      "text/plain": [
       "<IPython.core.display.HTML object>"
      ]
     },
     "metadata": {},
     "output_type": "display_data"
    },
    {
     "data": {
      "text/html": [
       "<dt><a class=\"ProveItLink\" href=\"../physics/quantum/_theory_nbs_/axioms.ipynb#ket_zero_in_qubit_space\">proveit.physics.quantum.ket_zero_in_qubit_space</a></dt><dd><a class=\"ProveItLink\" href=\"../physics/quantum/__pv_it/axioms/c931595c6aa61a8366490585af9ac449fa6e58c50/expr.ipynb\"><img src=\"data:image/png;base64,iVBORw0KGgoAAAANSUhEUgAAAEYAAAAaBAMAAAD4TDc7AAAAMFBMVEX///9mZmZUVFREREQQEBDc\n",
       "3NwiIiKqqqoyMjKYmJiIiIi6urp2dnbu7u7MzMwAAAADxdujAAAAAXRSTlMAQObYZgAAAWdJREFU\n",
       "KM+F0z1Lw0AYB/C/SWsISc4biy4BcS0V0UEUOroZ8AOoCNqxm4tDtro4+AU0o1WQuopKxbEgEUQ7\n",
       "CFZnFQelWC31ci/YVpo8Qy65++XuuecSICEuJ8MkYnuan2SGPfKZaCrpb7yKe2OgMtqoibuhysCZ\n",
       "gsjY5WsQ99/gQeFjjbKNITIl3HlY6SdvTdx8UZg0MmYeto9yHzG1ANinOMMFM7ob5VVXYzPrhajd\n",
       "S7HaaZSUNueZGXFhNaF7nJBZWVa6xC5OkOp03pl5pLBaMKp8qC6J4z79rVvDchWkBZn0hOxOV097\n",
       "DAX5Acb4Y04Z2mPEWnjm6Sxss4jWyr10G5az0QS2+OtqHuxo3UbPwWwD0/wxr/p3uQmlETWUM4wq\n",
       "ox+xGlq+NNjAbQN2UZxgUaHMXHg/pebBw2GWDcq6jJ9LQzKLqw2Vj4gT2VpX4iy6Q5lszMcojeMn\n",
       "GzOIMcdyq4l/UXz8As67XmCaNjNWAAAAAElFTkSuQmCC\n",
       "\" style=\"display:inline;vertical-align:middle;\" /></a></dd>"
      ],
      "text/plain": [
       "<IPython.core.display.HTML object>"
      ]
     },
     "metadata": {},
     "output_type": "display_data"
    },
    {
     "data": {
      "text/html": [
       "<dt><a class=\"ProveItLink\" href=\"../physics/quantum/_theory_nbs_/axioms.ipynb#ket_one_in_qubit_space\">proveit.physics.quantum.ket_one_in_qubit_space</a></dt><dd><a class=\"ProveItLink\" href=\"../physics/quantum/__pv_it/axioms/5c7b9ac73d3cc9dd7323a3d61e08bd09ef9d2d930/expr.ipynb\"><img src=\"data:image/png;base64,iVBORw0KGgoAAAANSUhEUgAAAEYAAAAaBAMAAAD4TDc7AAAAMFBMVEX////c3NxEREQiIiIyMjJm\n",
       "ZmaYmJhUVFQQEBCqqqqIiIi6urp2dnbu7u7MzMwAAABqK0sxAAAAAXRSTlMAQObYZgAAATJJREFU\n",
       "KM9jYCAAjqpeIKSER4DdgZAaZgG+jwTVbGD8zfAWwubEqYrzL8NpCIt1A06TFsDU8BVgSC4x+WEU\n",
       "APQYA1jNDKD3DNCVvPvJcPVbAANbAEgNb009UM0yNCVs7AsYGPIDGPYw7AObkw9UcwUmp2xsAqLz\n",
       "OICC7AF8njN14WqYBCDu0oIGa4AQkOBdwPH//we4Gs4DYKkrUCW8BU8R9sLUQB1dCBVmPLALi5po\n",
       "MFcBpiYAm5rnYOe0uAAByC6FN1jUzAFrh5nD4MuORY0imNsAE08Fq7mAogZqQhRMDdNqYBhyO8DV\n",
       "rAeq4ZkAicEJMEUhOhduKsHNCe93TWBghoZL0V6oGr6QftMHCPeAwFYozX0IEhfIAKamDk9ihKrh\n",
       "dSCshm0BHjXroF4lmIvwAwAPuFooM6wTMgAAAABJRU5ErkJggg==\n",
       "\" style=\"display:inline;vertical-align:middle;\" /></a></dd>"
      ],
      "text/plain": [
       "<IPython.core.display.HTML object>"
      ]
     },
     "metadata": {},
     "output_type": "display_data"
    },
    {
     "data": {
      "text/html": [
       "<dt><a class=\"ProveItLink\" href=\"../physics/quantum/_theory_nbs_/axioms.ipynb#single_qubit_register_zero\">proveit.physics.quantum.single_qubit_register_zero</a></dt><dd><a class=\"ProveItLink\" href=\"../physics/quantum/__pv_it/axioms/4c691a9077d9a1b968b00d28f2e77f0c632a386e0/expr.ipynb\"><img src=\"data:image/png;base64,iVBORw0KGgoAAAANSUhEUgAAAFEAAAAWBAMAAABK/G3RAAAAMFBMVEX///9mZmZUVFREREQQEBDc\n",
       "3NwiIiKqqqoyMjKYmJiIiIi6urp2dnbu7u7MzMwAAAADxdujAAAAAXRSTlMAQObYZgAAAVFJREFU\n",
       "KM+V0rFKw0AYB/C/hjSmSc64uLjkCUpQHAWfQAo+gFnE9R5AaHXR0cFJBINbHUSfwGyWCpJBpIPg\n",
       "4S7FLoXSgvfdpXbwTvCDIyH5cbnvnw+fUOXBWKzUVy7Xk75duDPKsHq8pmXYeQZLrLJ3KfCh5Qle\n",
       "m8hscolH+6gp6W8jbKNjk+dAF/Uzkk4Cb4q+Ta4DrTJqk1xOEIzgNC1yCDxwbJJ8jxGM4RVmGX1J\n",
       "meOQ5F4BNga1xFL1untKdaSlOwEGObUkZQw2ocjYSvZ7T1fuOSgo79nXKbIgs35d5q068kagk5gk\n",
       "ddTi1IZMKYU/BXVXSX3O40puAFclRTNL3k0te6rksav+5gFeBEJukTUe7QCPSr7dNKD+rFFGvWuh\n",
       "MqymDvc2qSqI57JB42yVi+JH0gi4q8PcIvvzmffzP2f+Qq5bfeuURlkX+rqFf9Q3XldwHfwniO0A\n",
       "AAAASUVORK5CYII=\n",
       "\" style=\"display:inline;vertical-align:middle;\" /></a></dd>"
      ],
      "text/plain": [
       "<IPython.core.display.HTML object>"
      ]
     },
     "metadata": {},
     "output_type": "display_data"
    },
    {
     "data": {
      "text/html": [
       "<dt><a class=\"ProveItLink\" href=\"../physics/quantum/_theory_nbs_/axioms.ipynb#single_qubit_register_one\">proveit.physics.quantum.single_qubit_register_one</a></dt><dd><a class=\"ProveItLink\" href=\"../physics/quantum/__pv_it/axioms/70ac36fe543080faf6ab45b35ebc51f9f8137ee90/expr.ipynb\"><img src=\"data:image/png;base64,iVBORw0KGgoAAAANSUhEUgAAAFEAAAAWBAMAAABK/G3RAAAAMFBMVEX////c3NxEREQiIiIyMjJm\n",
       "ZmaYmJhUVFQQEBCqqqqIiIi6urp2dnbu7u7MzMwAAABqK0sxAAAAAXRSTlMAQObYZgAAAP9JREFU\n",
       "KM9jeMsABpwMWAHfBQg9AYhPQ5isG7Cq5IEKRyNU8hXgVfkcqnIG0A4DnCo5exkYmMEqeWvqgSqX\n",
       "4VJ5/fhfBgauBIiZ+UCVV3CayQZUyeuAUMkkgE8lgyJCJecBvCrnIFSCvMSnAJY+4gICrigqmZFU\n",
       "RjPwhRrgNBMY3nCVwCDjxq0SGN5wlXPwqgR6A65SEa4S4k53FJXAoIGpZFTAa6YQxEfrgSp5JuBS\n",
       "yQVSeRKsMrzfNQEcs1hVslZ8CQOHITQtMWzFpRIMuAMQKutAHsSpkv0BXCUoCTAGf1+AQ+UVREpm\n",
       "W4A3JWcB8ToIk+kCVpVcDyC0LgMJAACIYVz8eve+2wAAAABJRU5ErkJggg==\n",
       "\" style=\"display:inline;vertical-align:middle;\" /></a></dd>"
      ],
      "text/plain": [
       "<IPython.core.display.HTML object>"
      ]
     },
     "metadata": {},
     "output_type": "display_data"
    },
    {
     "data": {
      "text/html": [
       "<dt><a class=\"ProveItLink\" href=\"../physics/quantum/_theory_nbs_/axioms.ipynb#expand_register_with_zero_ket\">proveit.physics.quantum.expand_register_with_zero_ket</a></dt><dd><a class=\"ProveItLink\" href=\"../physics/quantum/__pv_it/axioms/3c7990361b536b3ca19a5100c0aa94bdcc8ca91a0/expr.ipynb\"><img src=\"data:image/png;base64,iVBORw0KGgoAAAANSUhEUgAAAY4AAAAZBAMAAADUPtQAAAAAMFBMVEX///8QEBCIiIhmZma6urrM\n",
       "zMxUVFQiIiJERETc3Nzu7u6qqqp2dnaYmJgyMjIAAAAcRTyBAAAAAXRSTlMAQObYZgAABTtJREFU\n",
       "WMPNmF1oHFUUgE+Tmf2ZnySIIkHUtaEYNYGRCDW1hS2CEX1wW6EGEbME+yCIhDY0lvqz9MVNizAq\n",
       "pKFgM0nAxmibRVnaYmsXN32oSWAx9UGtElAfqhhCiSKJUM85d2ZnJrObza5Se2F3fu7Zc8937/m5\n",
       "dwEqt9DAQbilmzTw+kbEwnDLt6GbxvG8fVWrE8+U61H/D45oAabt2/p4VeKPBDqnXT2qiTfnBMcC\n",
       "XX6owNFAF71QM8cEDz9xJ97KyarE95Ti0NovCT0vU/SazDFDfb9W4NBoeRusmjmuiWn8ie77qhIP\n",
       "l+L4DU6arOc0fpQF5himdUxV4GCB4ZoxdEMYtkoP7VWJ17lOMDY7G2MOvQm0Bdaj0YsvmYNmWctU\n",
       "ig9asJmaOcImGyatgD2HGxfn2RbJdRuixKknkgR1RaxFE36NMof+1eTksYpxfnVy8qO+mjmO2W7N\n",
       "GiJmVeKDztsT+DvlKPU0JkFaFXp+Jn+Pc776K50uVUVyPo7GdPrtXM0cLcKwBkOdN0HNVSV+3nlr\n",
       "dAKM11vYM2WAdF3oyZNzGcyx18PsaYaPI5Qg/rrbiu/kOYC2tuKj9ug236/lFMgPFZ/eEYZNZR54\n",
       "phAI9G6hYJGbERB3Al03603FUGLYM5ID+brQ8yP1LDDH4x4fLMshGeyP/cV371qg59RiDr0Mr/ow\n",
       "OnCQUHHiDwnDLo5ZpwIl4dmtgaF94k69qQfoHCezkMMA+W+h5wxVxD7mCHtzApqwfxruS67lQHjM\n",
       "DwoH6sf5HQBf4Os4rDgiB6HHnL9w1d3xoG61OD23C8MeFjrdksDT0BXg8Ik79UZDFIPc3fEr1tND\n",
       "EkvMoRXcHE0mntWseivfsb8j4+WYo2Uk60A/etxijqkE3OWI9MNI/NNUeH2OA62UJl2Ph9S6HELc\n",
       "CSdcj/FOsR4Y5+qq0OPhiC4UJ4hNvBAztIBfwQmaF83YnUQ/pIYcPSa84QpdtEKJ7jIcwlGU5eiy\n",
       "yED6jt0tazjs+EgGxDEs57/ZbCCHYmgmc0RSoK+IqO6yx6L91eBLYGtmE7PZ90pwRIbQTxu+f2pF\n",
       "bGSYw4J9rtA+FGuPl+YQgasvKasaF119Z2GTWX49fOJYfa/cDc0gxTE6LsuFYh3k2uyJc/gMxxSa\n",
       "eeCsduqFIIdK4diIuU0RHa/werj5C5Pfh3C+4OVQmp2nPBsWSsEfGhfd4/dDo1Wewyc+A9GxPgrE\n",
       "ThxY28MedwhGE6J4byePywmORnRD1ixMzEIuH+QADCzY1ZoB+bV0+jB0Gxwfy0WZefv6ZBqbJSLp\n",
       "OSdhdbFhkQy0PCi09cJOCC0u3rP4eykOnzglvpiEdfu0Vdx5fbJ5r23VL1QHE4JDt2zNwsQsfEAi\n",
       "iTUc3+GnVW4yRZKh9fDmKyknJXwnNN962BsN0ch574Dtcvn18IpjwodNifpcApTH0HU8PaRHoek6\n",
       "6T1/sOakWA9pd5nzx2G5LwaXnPioM9Rk9AgMW/j14udnfbth1RcfzsaPG05ldAn6sw7HmbL7RD5T\n",
       "4/SMQPhpvMizs3H3/EF6vPtE++TCmtnEK7ibKsNxDXoTtN6CA9ryIDfDLhO/7r1xw3cQ2vpnzMNB\n",
       "qcUZnoqulIS2gs3x/lu9ARCPOFXfJ6BuLnCO4uLt2bfby8eayUTpzTiE1j0PtqLzMUeF5uGYcA3T\n",
       "Y+CvH2XPUdy+LnceZD2Dzr5zqISJGzrXVseBB9Ut9m3EqszhET8S6Nzi6tEJ4dt/dT4frbj79uyv\n",
       "yjUT/qu2MY4S/19FKx7r5Bm4WU0aOPAPDq6pEqS3KnkAAAAASUVORK5CYII=\n",
       "\" style=\"display:inline;vertical-align:middle;\" /></a></dd>"
      ],
      "text/plain": [
       "<IPython.core.display.HTML object>"
      ]
     },
     "metadata": {},
     "output_type": "display_data"
    },
    {
     "data": {
      "text/html": [
       "<dt><a class=\"ProveItLink\" href=\"../physics/quantum/_theory_nbs_/axioms.ipynb#expand_register_with_one_ket\">proveit.physics.quantum.expand_register_with_one_ket</a></dt><dd><a class=\"ProveItLink\" href=\"../physics/quantum/__pv_it/axioms/58fad6e26c612f4cbc836cc51bdaf98508b6436b0/expr.ipynb\"><img src=\"data:image/png;base64,iVBORw0KGgoAAAANSUhEUgAAAb0AAAAZBAMAAABX+u07AAAAMFBMVEX///8QEBCIiIhmZma6urrM\n",
       "zMxUVFQiIiJERETc3Nzu7u6qqqp2dnaYmJgyMjIAAAAcRTyBAAAAAXRSTlMAQObYZgAABVpJREFU\n",
       "WMPVmG9oW1UUwE+TvPx5eWnnRGSILFOmIi0+jDg7N8gQ7Ac/+FZhFhk2FEWFssZtUAfq6j4l7Zfn\n",
       "H1gZ1D5b8EPFJW6GDWxnIJOxLUqw89t0lepAweiHMaUq9d573r/7/iVRqOzATcI9552c37v3nnvu\n",
       "BWgt0fEjcEvKwHi1HbMY3KqSyG0Yn6D5aZa/uUcGKHfkJelWPeeh2TC+GZCyfrord8MWgEc68hJ2\n",
       "eztvaZIqNsq3Qju/bcXXhlWQiBM0MvGtvLM/U1ASc3lYA9jXkRch58fHNK/ojfBdpp0/t+JrwypI\n",
       "ulX25rtlR/+HIN2AaDqyqa1JYveS9+T7REPNSb0Rvmn6NdGKrw2rIFkGFlmPuchO4ddOgNugSwlX\n",
       "FQg1OvLSZ3XP1etpxieOjmmokdLYCF836ZLKrfjasAqSIxjZ05qD706AMXUWYk8pIK505OWk2Rsh\n",
       "L2kui+N3TUONuAkb4UtdWlg43jK/tGEVlKbzGNkFcPD9qsGY8iSEviS/ix15iatG9/vklzhl8THN\n",
       "D9ho/vyjUHjdw1uVz58+Vu1JSMbIVmGpn+MjctQY08WOvCTN+GTicj6smXxMU8NG+V70fnUyz4dW\n",
       "29LmRkReeW+vaSI9tpN/fAhg0JzP8QaLTPwz9N7fDr7IXz67kICr/asmlVW3FyPBpNSwKspi2uRj\n",
       "mu+wUb4nvKe+gw+tYua287YGqWrSzNIX4QD39DM7yMeo6aDMIkuuPSg2HHwx0wW/pQkZV4bkvRj7\n",
       "ZRigf56Ga/JRzRlslC/Gpy7h0HnYlnPxoVWJPv9RbTfAOQa7Zi39YXV56aqt9ANmg9KVZZGFbwdj\n",
       "TF5tNq+z3xnrj03SKBtYFx/vxdgvJYIo0+Vk8lHNMDbKJzWsmUFDPytpYa2WOZQp2/nQikadmjqh\n",
       "sdhLCtxlmByG2eypiVgwX2zkmCO/sDWli7Wi4oF8updFa/zm+7nxW+T5Eitm6cBCX0rLknt+olVN\n",
       "uI/MVMDYh1V4wzL6XIsqQz58+swqZWezDr7TkDASIcl7WIlyfLj+rru9FCG1e/BeyifKkmrnK+p/\n",
       "P6DXn8UXQLdloVcq73jwMSv45dOStmLyaXDQMjpIzPqy3nx6ZrgGpXKV4xOqEDL4po1K1G/8OC+k\n",
       "2EjtaXSpEMmS1XdRaJh8rAyx5Rc4TTyhLQu9In2834OPWsFNsg+jYpSN32Yrgcqk2FpscHwfqJaS\n",
       "RvYy9Cg83/F67SXjicugV6J+fJwXUmycuB96CE8/7d6H+99DRhmyCxvj6yFJn9li6BWo1jz4qJWw\n",
       "eQqE1wqFYzAks/V3w147Yb4vEJlEPsHYMSO4M09B6GGN39/X1383PBAbVokeaH7fbDY8+DgvNKYR\n",
       "2EMrGeryJ8b36NbVBkb7IzbGl9J0Wwy9AjPURHHwUavQxN4E5Izxs+fPSDWi8Edn+/gZlRU46xd7\n",
       "9OSNYSXqN36cF7qU7oBdAqldHieTSzXPD0wj5rFZ5z9mm8Pxiwz6nP/i6WdD8IWx/kJyMpeYhGmN\n",
       "fDz/2Vn+/HrGvv6MytiSBfclCAHDShT5knm/+poJqTcSv8HhCp0m9XrWOh9Rjb2+1ms7ZstCvwJw\n",
       "1YevW41uh3hZ54PeGghbYK9KPraur3OPvHt0xM4XVwPOtyi0LNYrUcqX2HEz7UowlhdabERy0Ntw\n",
       "nf9YsWI7H+mzg9nS0CNvZnGD9T2/P0AmsS12fznnOJkGytc2jsDzLe5kab/zLdMU9ea8n2Cht3U/\n",
       "0RkfzEBICTaebM1n8xJ33+ZstzQpFdt/uH+xcoe/jP7b49RG35953H8m+lo+tr8M/7MMjOf+AcAi\n",
       "uX1q2ErRAAAAAElFTkSuQmCC\n",
       "\" style=\"display:inline;vertical-align:middle;\" /></a></dd>"
      ],
      "text/plain": [
       "<IPython.core.display.HTML object>"
      ]
     },
     "metadata": {},
     "output_type": "display_data"
    },
    {
     "data": {
      "text/html": [
       "<dt><a class=\"ProveItLink\" href=\"../physics/quantum/_theory_nbs_/axioms.ipynb#ket_plus_def\">proveit.physics.quantum.ket_plus_def</a></dt><dd><a class=\"ProveItLink\" href=\"../physics/quantum/__pv_it/axioms/c89f665506d7caa4cfd8a3cc1b0d131a48ccf3c40/expr.ipynb\"><img src=\"data:image/png;base64,iVBORw0KGgoAAAANSUhEUgAAAIUAAAAyBAMAAACAOwXCAAAAMFBMVEX////c3NxERESYmJhmZmZU\n",
       "VFQQEBAiIiIyMjKqqqqIiIi6urp2dnbu7u7MzMwAAAASOpYoAAAAAXRSTlMAQObYZgAAAjxJREFU\n",
       "SMellj1s00AYhl/3RyGOL0QsjG0qMSJlYkBIeGinqGo2hlZkK0ylXdgQHfjxguqhYkCVEqmCsc3Q\n",
       "nQwMbWHwghohIXnpWLWqQB0aFM6+2HFsX/3p/A75FF/85Pu592zgRpUdEe34wpkIRWTL6IhYjy98\n",
       "F2GqQ2McP3JxKmGUGyTGLZttoJDG+MgLXScxHgCH0GvDC59CBltpcsYuiXEPaDlsM8EAHnNGj8T4\n",
       "C3y1UZUwJioEBvvDGW3sSBjFLoGh9YHzdtjUOIPQVM7geZx3w42QYNTptfgb4dCyXlrW2zHGKbGn\n",
       "LTusO5HHDoUx5/846H+CUSXvMdyR9FSbHRlQ4kHOKNhsDThKYexzhmGPzCPxIGew48/uaIQRxsKL\n",
       "NzUx8xEjzYOB90tmSh6eDsYZadslYEy7wwu/Y4yn4Zdi2/vclTN6kvNDeDHC6MkZDyWMyXaMkeJB\n",
       "fVjD/fjCnggTToxB8GC6IgzRVMPyZSoy6sp58D9+/9yyGhQPZueR8ODtAUEXY4xqpB8NtTx8D+as\n",
       "xbDzMwqkG2b8JsgYByTGsiQP5oQezJK2KWFEPJilKfsmhvBglk7A5ufcVAOGHszSEX7CuEYesXUs\n",
       "Aqu5GEYNz4BmJQ/jBNhy0HTzMMSZ+9pRvL3UCY6pUl81hS98/+jCFA1FhPbrOrDUvPpYL4fPCN1U\n",
       "7+dSBa+8uA1NebYz5qT39Ch3oSszpv8VvJne/fHtiXIt5f62F7YGgyv1hrz7gNxqmfkZkhfr//y+\n",
       "5L+LdHLzAAAAAElFTkSuQmCC\n",
       "\" style=\"display:inline;vertical-align:middle;\" /></a></dd>"
      ],
      "text/plain": [
       "<IPython.core.display.HTML object>"
      ]
     },
     "metadata": {},
     "output_type": "display_data"
    },
    {
     "data": {
      "text/html": [
       "<dt><a class=\"ProveItLink\" href=\"../physics/quantum/_theory_nbs_/axioms.ipynb#hadamard_on_zero\">proveit.physics.quantum.hadamard_on_zero</a></dt><dd><a class=\"ProveItLink\" href=\"../physics/quantum/__pv_it/axioms/30ae0fc2ff49647195939a4184e98c25b5ba8fa30/expr.ipynb\"><img src=\"data:image/png;base64,iVBORw0KGgoAAAANSUhEUgAAAHQAAAAWBAMAAADjiKVFAAAAMFBMVEX////MzMxUVFR2dna6uroQ\n",
       "EBCqqqqIiIgiIiJmZmYyMjJERETu7u6YmJjc3NwAAACgK8IjAAAAAXRSTlMAQObYZgAAAbdJREFU\n",
       "OMulVD1PAkEQHXLkBI8DYk3i8QcMJjRWUkolhZWVCY3lURkLIhX1JdrQYWKMUAithXAJMVEpNJZW\n",
       "lHZ+YECFRGd2l/PgjrVwk83M7Htvd252bgGmR4IbFXxHwvEYIXrvBtPchDOI9jzStOMRAbo4H74v\n",
       "cNZsBirFVQgYuLoikTLCOXlfOD8EeArXPSihfyuREkG30AaHuM8nB/UcKFUooq+YvlKVLSMhRF+k\n",
       "vAIsDDioGaCO2YmRnESKhCeyiy8A2piDMQOCA9BoxxOJFAn7ZGNNnCUO3lmUv5rCYE0iRcIl2c1a\n",
       "pdJOcfA5BYEhKwM80opSZ8OakSKhTGY9DnCQEVILAn2AIwx2JaciYYtMA2fbdicMSxgse6WYw9l2\n",
       "vW4QgUlH4mpFmVQsdt5f+ntqniXMrrUvQK0JOha7hcGG61uNWWmLlYld6zu4WyLanJRpzqlIoAsI\n",
       "OddKYBmu4qDsYHAokSIBk7ppvJnh9sgUYGcvibtRcCyRhkQjehs8S41Ykkizov290uT89o/YE0LL\n",
       "Txqp/vHTMULXD9RNz6bTUkaYfmAK3GiYlO59YAqOp9nwj/EDBZl98TY8GnUAAAAASUVORK5CYII=\n",
       "\" style=\"display:inline;vertical-align:middle;\" /></a></dd>"
      ],
      "text/plain": [
       "<IPython.core.display.HTML object>"
      ]
     },
     "metadata": {},
     "output_type": "display_data"
    },
    {
     "data": {
      "text/html": [
       "<dt><a class=\"ProveItLink\" href=\"../physics/quantum/_theory_nbs_/axioms.ipynb#empty_gate\">proveit.physics.quantum.empty_gate</a></dt><dd><a class=\"ProveItLink\" href=\"../physics/quantum/__pv_it/axioms/0e26f79aa8fad6e973d7a25a37f5e5f2c03694f20/expr.ipynb\"><img src=\"data:image/png;base64,iVBORw0KGgoAAAANSUhEUgAAAMgAAAAiBAMAAADoqYtJAAAAKlBMVEX////u7u5ERETc3NxUVFRm\n",
       "ZmaYmJgiIiK6urp2dnbMzMwyMjKIiIgAAAAxYjEhAAAAAXRSTlMAQObYZgAAAKFJREFUSMdjYICD\n",
       "u0jgAgONwAUc7FFL6GAJcgzTzBIkE3iHrSU8u5dtb6C1JZwNIDRqCYYlR+5uNaC9T27TwSccN+lg\n",
       "CecNcizh3A0GAURawn2BDj7hVYBYglpRUWgJL1q113uADj6Zu4CCOHEg0pK99MiMl+hgCccdOljC\n",
       "eYsOlrBfoL0lInuvTBje9QlP9RraV7+jTaIBakEOZIObdp0gAD6ztsZy0hDXAAAAAElFTkSuQmCC\n",
       "\" style=\"display:inline;vertical-align:middle;\" /></a></dd>"
      ],
      "text/plain": [
       "<IPython.core.display.HTML object>"
      ]
     },
     "metadata": {},
     "output_type": "display_data"
    },
    {
     "data": {
      "text/html": [
       "<dt><a class=\"ProveItLink\" href=\"../physics/quantum/_theory_nbs_/axioms.ipynb#substitution\">proveit.physics.quantum.substitution</a></dt><dd><a class=\"ProveItLink\" href=\"../physics/quantum/__pv_it/axioms/54186868804ebab8ae0d95c53065988eda3f308e0/expr.ipynb\"><img src=\"data:image/png;base64,iVBORw0KGgoAAAANSUhEUgAAAOcAAAAWCAMAAAAM5HuuAAAAM1BMVEX///8/Pz8QEBCIiIhmZma6\n",
       "urrMzMxUVFQiIiJERETc3Nzu7u6qqqp2dnaYmJgyMjIAAAAtmB3VAAAAAXRSTlMAQObYZgAAAyFJ\n",
       "REFUWMPVWNly6yAM5SIwm1n+/2sLGAwCnDjpXM+Uh6qW0bGEVkLI80u797xd/xq3QhzUn3znnjHT\n",
       "qPYvA6YHXlkCG2q92Mq/fIC7xKgQmdq9sr15xk7fLBB2D/vAq+p7JCOcpcUPYrDmEqNCZKrrKWj1\n",
       "jJmONUUCN3zgNQ9CJwNZXZv1xHa+wqgQmVY3Nsf+3yXbse9h5jUDaOezgyilifYbzsIXGBUiU2dN\n",
       "Wlo+VIS671g587pYbYlYXWVDCIM7XmJUiEyDSkvaZ+wE1gKYSsZ6ngEQmkMJN7sIZrONSTBgGGBJ\n",
       "WlPTQ2R6FDJ1up3ZW4WXf2en6sADIJ6JR+0kEHnUD+fv4A0YlvAUpBAQRKacofJmAW659suyJVvc\n",
       "6bAhnjUpMg3hx5Hvsusq3UJuHjD0TpjPmYwgDpr+gFukxed2cnX0smtvUz6XkMIzTcG0tnBDiwEj\n",
       "QlBoXq4QB01x2s4umO/t5Iq742DtDTtrCel5AT6zc8LgSf+teBnbqT3ZalNyKjB3RjDboI4hHNIW\n",
       "aZZ21p05A1SMvxwek8gQt0pMvKpg/uKdDjBh5LAFiiEKVVqcJ+pO/cEQ4Yksb2xy9EaX/jx3lkJJ\n",
       "KVuKDHWIAubt5qgfYMY6hPITzQkjxmF4tR7VofgB1o6OnWkeT9afSmmTzgTU0s62U+Qepf6p+NlZ\n",
       "BHeLOMkgHo+tUYU2jrMb5XDEiFIiIQ0QlXZZ0dd9EroZI+0VcJWfYXW/GEVwNPKAeUYAxPZ3XieG\n",
       "wWfd3MKIm1BY1aZCVOpaDtEOPaXv+ZgCuH+J7EQ7yZUIns+sWs2CzVV30nONwTyGWECZXG61MrEz\n",
       "xbTIhTM9RZytOz1kZ9sZ07QutxDp5vhddEnxdo6/6CkLjFgnWjCjOX4VVhvdYwA4biH17vQU3whQ\n",
       "fmln2zmCDSJFMB28VOjipd7cy9YjxwJDRsMVLO5lF7cmPC3HJ6OH3H0/D00i3T3blcvxfPe+tHzW\n",
       "dYHBY3ZuA8QM5V1pl/hni/Qk4uToP5v7JpEPfjdxv//dpEIsoOJsW95hiXRQztoP59tJ5E8u9qe0\n",
       "/QEJ3SBw7/pMfQAAAABJRU5ErkJggg==\n",
       "\" style=\"display:inline;vertical-align:middle;\" /></a></dd>"
      ],
      "text/plain": [
       "<IPython.core.display.HTML object>"
      ]
     },
     "metadata": {},
     "output_type": "display_data"
    },
    {
     "data": {
      "text/html": [
       "<dt><a class=\"ProveItLink\" href=\"../physics/quantum/QPE/_theory_nbs_/axioms.ipynb#n_in_nat_pos\">proveit.physics.quantum.QPE.n_in_nat_pos</a></dt><dd><a class=\"ProveItLink\" href=\"../physics/quantum/QPE/__pv_it/axioms/4d078fa9dd6a0e25d1fac16bbada635a6ca7d6780/expr.ipynb\"><img src=\"data:image/png;base64,iVBORw0KGgoAAAANSUhEUgAAAEEAAAAUBAMAAAAgmk0yAAAAMFBMVEX///8QEBCYmJgyMjIiIiKq\n",
       "qqrMzMzu7u5ERERmZmaIiIjc3NxUVFR2dna6uroAAABXsXCEAAAAAXRSTlMAQObYZgAAAO5JREFU\n",
       "KM9jYKAM8BBUwUFDFcU/mgsYLn58gMeMJrYDDOwfGA4bGxobK2BVcSRhFQODADZbNFxcDED0uXae\n",
       "BAYHLCoylkMZp3PYzREq+O7sXjULLA4UhalgXZCDUMHL0cVQvwEcgBvgKhjuMS2Aq0hlMWDYn4Dq\n",
       "+dMMPAXHQCq4QbyC+gcM+mDxRGMgMICoYD/ALADXEM/AcBjM2IFkBkMuG0LFZAaGT+wgBiOyCqaA\n",
       "BjhXloH1Oy+IwbkAJnQMiG/DVXD/Y+A1UAMzXWFipiD1BjAenwMD96EAMLOmrwBMp3wE6mc3wBYf\n",
       "b1tcMMUBZP03a848vAYAAAAASUVORK5CYII=\n",
       "\" style=\"display:inline;vertical-align:middle;\" /></a></dd>"
      ],
      "text/plain": [
       "<IPython.core.display.HTML object>"
      ]
     },
     "metadata": {},
     "output_type": "display_data"
    },
    {
     "data": {
      "text/html": [
       "<dt><a class=\"ProveItLink\" href=\"../physics/quantum/QPE/_theory_nbs_/axioms.ipynb#unitary_u\">proveit.physics.quantum.QPE.unitary_u</a></dt><dd><a class=\"ProveItLink\" href=\"../physics/quantum/QPE/__pv_it/axioms/36a82cf03df6fa21d294df2123b90ba412b62c680/expr.ipynb\"><img src=\"data:image/png;base64,iVBORw0KGgoAAAANSUhEUgAAAGsAAAAVBAMAAACzuQ2OAAAAMFBMVEX///+YmJjMzMzu7u5mZma6\n",
       "urp2dnaIiIgyMjKqqqpEREQQEBAiIiJUVFTc3NwAAACfk0VHAAAAAXRSTlMAQObYZgAAAgBJREFU\n",
       "OMuVVDtII0EY/uImu3muIncgFrJcqYWx8QoNWVC8RjGVYqGJIAlYqGBhu6BwdklhJ2gsrji5w7v2\n",
       "FEkrBg1yzaHoWh2Iwaj4wAfrP7s7qwkKceDP/PM/Zr7vm9kA7xkf6mfU99QfW9PH39gElsgr7v7J\n",
       "YO12qqLO15N0jRzcf4ff+AoIWQjdq4r8OYdLIKRTwWQMkCq7sAJhDeIVeTNkXh0RtgpNeX7RJhqF\n",
       "0mTucEWXmyg0wFsit4txMqd1BBR3QgFSFLojC9nVjfm8ZjpRSg6iNktugWwH2ACO9DMEhyjTAXhu\n",
       "KNxudTVP89PidcAnxAm7kADkHIEK40gZhjTKMMcgXjCFzFph1gEZvVYYbfpxMeqW6ruciqgiSBxh\n",
       "hU2FrCEZxiGwzViS+etYzHPNsy4N0YKNn7IvNGnbvw8LjzbtYIaFggXndnJYpp1kS/+WeRoaz/Vn\n",
       "fOc0/ScLxFig29mzpmTiFy10J05cZPQyJu0J3iapZW3P+geceISsNSyWbPwmyAXInLuHQJI8h/Yd\n",
       "O29lkawHPv6QmCQ1CUj6syReFUXFXm7xtl4VIh0zB3nPFhynybED5w3RXY7/dQ6JfLNvRh3u+8fK\n",
       "f37hoJA2jAde51XKn+LAj7z22nezU77srPbzLF+mqmzz6y9XglZlm5B9e5Mq/hSs0QQ8AS/0eZK5\n",
       "gawlAAAAAElFTkSuQmCC\n",
       "\" style=\"display:inline;vertical-align:middle;\" /></a></dd>"
      ],
      "text/plain": [
       "<IPython.core.display.HTML object>"
      ]
     },
     "metadata": {},
     "output_type": "display_data"
    },
    {
     "data": {
      "text/html": [
       "<dt><a class=\"ProveItLink\" href=\"../physics/quantum/QPE/_theory_nbs_/axioms.ipynb#u_ket_register\">proveit.physics.quantum.QPE.u_ket_register</a></dt><dd><a class=\"ProveItLink\" href=\"../physics/quantum/QPE/__pv_it/axioms/8f129d9e5bc4c251c523b20b9796ab27b93e168a0/expr.ipynb\"><img src=\"data:image/png;base64,iVBORw0KGgoAAAANSUhEUgAAAHQAAAAeBAMAAAAP2ycoAAAAMFBMVEX///+qqqpUVFQiIiJEREQy\n",
       "MjKYmJjc3NwQEBBmZmaIiIi6urp2dnbu7u7MzMwAAAAIy0x7AAAAAXRSTlMAQObYZgAAAlhJREFU\n",
       "OMutlD1oFEEUx/93l+ztuh85KwslnBAQUoigKYIYjhgQReEULCyEw0oL9YogFkrS2KTQJRALTWRB\n",
       "FGMSDVanqBlQEE2EVQioiAY7P4mNCnLGN7uzHzebO3IhAzP73s78Zt78580ATZZ3cy+wumIxmM+a\n",
       "Ip7vdX3DGIM5B+Xyl/EVkkY5XfStKc19b5aUSkktNyS+BkambP2Gwy0H1xic89fR5jbcVz5Ep7N/\n",
       "cc9Hz7rUdKICfBe9qSTaGps4VYVR4miWvST0IkYtzIo+bTqBXonZGQp3F33bz0H7kMsuYmd7iEbR\n",
       "BSVb5e2Nrj87bJKYTC6qwYBR6HlMlkIU2xKyEoEfP/H2lw2F2wNUzVnoU2JAiN6UUTUHKGkK9LSN\n",
       "h3hMQdMP6JMTkNF58VV2b+/yjAFS6ZRKTdq2Dq4/QHIUaucO0Rb/jK19ga7Hqdr9PEhHXVpaBNYN\n",
       "yqg57uCNixTzFw9PZISg/OfYUL0qo5o+iLuhTlvCnj4SmT2Ip8g/GT2jFfkwXPX8aD+HCLXjKGWU\n",
       "hLqqgyGyPnkzXzhMxevppoAL32JDzQSKGdcLZZM3c7TqEapH0w1XxRNfuz2eH6nYS/WEhwrl6PbI\n",
       "aC9aCieD9aLE7eAnNkEpoRfrKYxhVGwGI+fneS7oueWd0H73VZ9YVUmcK17f3tC5gIzQouOR6Jnh\n",
       "hDVyqXshuFz1sul+cPBPRSKq8jVsdeqgW+X015j046O7PGoWE++LtDUcw/Ko4iReic2S3yP5d4KL\n",
       "k3zh5mtdha383U7ZNW5/M2/+xhpvDGtW/gOV0pxJGXesSwAAAABJRU5ErkJggg==\n",
       "\" style=\"display:inline;vertical-align:middle;\" /></a></dd>"
      ],
      "text/plain": [
       "<IPython.core.display.HTML object>"
      ]
     },
     "metadata": {},
     "output_type": "display_data"
    },
    {
     "data": {
      "text/html": [
       "<dt><a class=\"ProveItLink\" href=\"../physics/quantum/QPE/_theory_nbs_/axioms.ipynb#phase_in_interval\">proveit.physics.quantum.QPE.phase_in_interval</a></dt><dd><a class=\"ProveItLink\" href=\"../physics/quantum/QPE/__pv_it/axioms/e192f41cdf162a066477428eeee89b3ce297d2580/expr.ipynb\"><img src=\"data:image/png;base64,iVBORw0KGgoAAAANSUhEUgAAAFAAAAAUBAMAAADo9qfkAAAAMFBMVEX///8QEBAiIiKIiIjc3Nxm\n",
       "ZmZUVFSYmJh2dnbu7u5EREQyMjK6urrMzMyqqqoAAABb/SrcAAAAAXRSTlMAQObYZgAAAU5JREFU\n",
       "KM9jYMACrPeiCfA5MGAFPQwMHOa9yCIpOBXuY5gEM+XhBAaG2bgUsgswcGwAszkz8oEKOQxQFFQp\n",
       "KW2AKORKYOD7CRWtByrkFEBWd8sSbiJ/AgPPPySFDHsY+C4w8OxfCbZkJ8Lq+QEMPJ+RFbYycDAw\n",
       "3K5JBQmwOSAU+jcw8KIorGYoYWBIYGADCXAhecY/gIH3B7LCRwwBDOwTGFhBAhd3A8EGHFbfZ2hg\n",
       "YGZgmAwS8EIyEegZvn+oCgMYzjIwRIIEGJEUci1gYEcOHoZDDO1ApdMugARYDbAFONwz3Nv3PtWB\n",
       "iOghRaEew8QLnL/BPHuQwggGhqL/GlD5aWsmwBXOMM5lYFAC8cPktxYwMADTE2sB3G0nFsGiEJq6\n",
       "JsBkOBWAfriALfWAAQdcBJQozjPgVDgZLgJKZma4FSIctQR7ejRCzwrsDgwAoGNaF5LpImwAAAAA\n",
       "SUVORK5CYII=\n",
       "\" style=\"display:inline;vertical-align:middle;\" /></a></dd>"
      ],
      "text/plain": [
       "<IPython.core.display.HTML object>"
      ]
     },
     "metadata": {},
     "output_type": "display_data"
    },
    {
     "data": {
      "text/html": [
       "<dt><a class=\"ProveItLink\" href=\"../physics/quantum/QPE/_theory_nbs_/axioms.ipynb#eigen_uu\">proveit.physics.quantum.QPE.eigen_uu</a></dt><dd><a class=\"ProveItLink\" href=\"../physics/quantum/QPE/__pv_it/axioms/9fd17865e013ee27bd5f25ce86c875541c2562370/expr.ipynb\"><img src=\"data:image/png;base64,iVBORw0KGgoAAAANSUhEUgAAAL8AAAAcBAMAAADCTHN1AAAAMFBMVEX////MzMxUVFR2dna6uroQ\n",
       "EBCqqqqIiIgiIiJmZmYyMjJERETu7u6YmJjc3NwAAACgK8IjAAAAAXRSTlMAQObYZgAAAv9JREFU\n",
       "SMe1Vk1oE0EU/rZp/trNGsXiRWiKVgVB9uDBCmpUBD2loNCDIEFFPJV4KKUHtSAKgsL6R8V6iEUt\n",
       "etDQgyD+sAgFWwUDpQjFQw6CWrWNfwiSGt+b7Dab2TVNpL4wf/tmvm/mvTdvAvyTdDw0ywO/jsUW\n",
       "X64hXR4F44sIvVzUoZzyu4bJwfrxlViJIK59r2F2Y8z1aaXVBv6ypMk2faBA1XSxWIzSx6zYrXIr\n",
       "KSNs4UrLOgA2Wm2YzBrIuQkG7E4oRdWFFWMvYRF04+PSfgkBId7PC2jrfjxAc3HYoRam2ODC1wrz\n",
       "YQTVUHEiDIwRgWogRT9dRggaVN2joGCD9jpPAN7MuDt6DKsTMaAcADIfgJZcU5b6upqsIBAIWl5M\n",
       "RRO1uF5BcJzhUjKBP2l1dmI7r8/sgG2iWBCRpIyAMxxxwJIMz6gg4N2rnTLBrOVj5faRx2znbMs8\n",
       "wdTBt6tcCBgE3lOToK2qeoW6mT18UyaYZNr2U/AXi3nhQ+FFQdB4f3/cjdAD9FGzjWItYqnVvhRG\n",
       "TQR04UlJrlEZPd8T84rg13YcOhESJp5Qc5qPa6nDjZ04afloij9tvstyR6gfUWk3y7HklNXwQGiN\n",
       "shvUr9RtsNSfw2mBc5nKURlkiMpPiE255Bw8EGbj2Ec3ao667yy16U+hi3rLmF8GOUv+pdv7rUp6\n",
       "qER4JQh8X6i71b7JCVPh8SEvAjKUMjcz86kqgROBTkAm8uXtKGX1JgQ5PJ9S2V32wZBQj5RMhOoE\n",
       "DoTWHNuTE1dDzlaPoDnzhu6Q7WSnrKdyxYRWncCBQFHUIU6utc2rL2KXocPHt/KSvJrCGs/3TnRV\n",
       "J3AgTJbM4BsZKKuf9XavjSLEoxvy6gTfq6u/stUJHAiDpVThTtfYw3e235WLFn4cKxAwXEp2Huo2\n",
       "z2QX1msnYAS1YDnbpVbTnula6ayZQCBEYuLB8VBHUjJ1SdbUTCAQQlH5yTxmp0LyZsTjyRxfkMCJ\n",
       "gIm6/1UEjHpmi6tQpxyuZ3LYxP+XP+Tqz6Og0YdLAAAAAElFTkSuQmCC\n",
       "\" style=\"display:inline;vertical-align:middle;\" /></a></dd>"
      ],
      "text/plain": [
       "<IPython.core.display.HTML object>"
      ]
     },
     "metadata": {},
     "output_type": "display_data"
    },
    {
     "data": {
      "text/html": [
       "<dt><a class=\"ProveItLink\" href=\"../physics/quantum/QPE/_theory_nbs_/axioms.ipynb#t_in_natural_pos\">proveit.physics.quantum.QPE.t_in_natural_pos</a></dt><dd><a class=\"ProveItLink\" href=\"../physics/quantum/QPE/__pv_it/axioms/1a13c30d572c85563c805c8bd9d78589517d2c170/expr.ipynb\"><img src=\"data:image/png;base64,iVBORw0KGgoAAAANSUhEUgAAADwAAAAUBAMAAAAjLUMaAAAAMFBMVEX///8QEBCYmJhUVFTMzMzu\n",
       "7u6IiIhERES6urp2dnYyMjJmZmaqqqrc3NwiIiIAAACerFpgAAAAAXRSTlMAQObYZgAAANxJREFU\n",
       "KM9jYCAbGOCXLqC6NOv68qUMnPIScOm3qPLsCs4MDPEMzKtWSa1axMDA8wFVmvkJWwIDI9xw7gUQ\n",
       "YfV378As5vYAEwY+uDTfBLCseypM9xWDqAC4dHd9dQLIRUvhhl84xmKA0H0eKoiQ5mxQQ0jvgrgX\n",
       "4bQLDKbMfiAWWMdLsKDjKiBYAJUOZlgID4YfYOo6sm6WCY4wHscHhgAgxYgszaADt4tzAY8DyPcJ\n",
       "cGkglxNuGLdBGJh+AxPgOgB3LxDwFimA6eCKADDN8l4cSEZhRFVn3bsFGIIATsw2Igf3W/cAAAAA\n",
       "SUVORK5CYII=\n",
       "\" style=\"display:inline;vertical-align:middle;\" /></a></dd>"
      ],
      "text/plain": [
       "<IPython.core.display.HTML object>"
      ]
     },
     "metadata": {},
     "output_type": "display_data"
    },
    {
     "data": {
      "text/html": [
       "<dt><a class=\"ProveItLink\" href=\"../physics/quantum/QPE/_theory_nbs_/axioms.ipynb#psi_kets_in_q_reg_space\">proveit.physics.quantum.QPE.psi_kets_in_q_reg_space</a></dt><dd><a class=\"ProveItLink\" href=\"../physics/quantum/QPE/__pv_it/axioms/15cd824275614082634e3dae3fb2bbe52b0463b30/expr.ipynb\"><img src=\"data:image/png;base64,iVBORw0KGgoAAAANSUhEUgAAANgAAAAmBAMAAABUlki3AAAAMFBMVEX///8QEBCIiIhmZma6urrM\n",
       "zMxUVFQiIiJERETc3Nzu7u6qqqp2dnaYmJgyMjIAAAAcRTyBAAAAAXRSTlMAQObYZgAABE5JREFU\n",
       "WMOtV2uIVFUc/82989i5987usFCRfeguYahEDG6RbFHDiggROVvRaivtYClBEEMPJOzDYGGjJoz4\n",
       "QUFhbgUWy9YMtB+MBC8qhKvCpATSi/FBD6GS7OVm2Pmfe+/cxxmno7MH7pkz5/7P/3f+r985F5Bp\n",
       "mSZ6aMogoBWlxe9FT+1V9jwuKxxfcJMo2j0nTNbPkXmypr1buEmwtcB0FfESjX+WXLPhxiCMZSPu\n",
       "6IiFaRtG7glm1k5LanHiyo2BHcNLbmZYI5r9Efq/fpQ5Minnx345sae8weuYrCocDOpa1g2s51ue\n",
       "k9JSq0rZX/STr5aPFzlYegHrxhY1aPqcFNjD1D0Tmmp0sD8Qk0MWTnKwfYalYFEiS9v9QgpskLqj\n",
       "zvbdqftEqaWB8ctAimHra2yMTGBzomSSg/Jo0ctvu2Gl//DBDHfuaVGKF9MPv972JpPKsSF7cAJQ\n",
       "bfyEdVQ7MRvHSfJiV666JIKlxHxnyhOTDe2R08BpAqdV03mMtr2bbGEPvSh3A1NLPthej+4Esoyx\n",
       "MDbXsa1dRtyOM0s20ezo4bxPkZd4XI1GN7BU2Qf7yuOhljs4s3GjM6xZyBSI1p7Ds58dYEqXRfXo\n",
       "V5CZnZra3TU/BnI+mO1NbnV+Vi/xJliuqdxD7+HOa9fY75BQG/8Af1cqb3SgnACY6YBpd5mwlZIz\n",
       "edAx8GKwPvYncgENq6L0pP0LrG9vMxQof1hvOmCGnk03lDkMme0MSfrlXgH2xc2AhkmBvX8DlvMA\n",
       "DJnXBau5YHvVUsZCFimKucoD3+dLfQ/sCoHV8lGwq7RHSq2U92r8obxyawhssuGAWTGTOTeHutUm\n",
       "p7FfWHMS5BXgw4QdUF0XwC6z6DTJJVyDdnC4qZdnMWIMPzD8YBQMq6oGNBMreWpxvXt8TeeJsIpd\n",
       "LWNg6RbRAddw5tMp6KdUyrkObsTnmIBh4UjibuZAHq2YL7WFlViOwDRvj1H61q5SFj9PxxzTEKdk\n",
       "0ifWmGGwupuNrHKWYIYduTPMDY5Nqh+kF9izeTRw2RCyMc2yEZ9QNpOGfu6fwuyXYbABu+1GO8N8\n",
       "8yel2XHn3aa2FJWV+uOsdmCbX3hinTl1RBred8AMorkAWKzogunv7FjM1gxuZ3/dctv/lhU05Mmz\n",
       "f93vLRMYJP47Ea3lahivVCqmXkg3S/5ZQvnd8hgkQamilMfSjsepPfa2S1exaD4IZ2XGO6q5hqRj\n",
       "GVaEa87IemAK7b7PHFeQFCpWtSPpINwCHD2eBoM0sKhkwuv0OQ+Mc1h/NbkQH4u3gmzEjuJ1rzJc\n",
       "AygYKy8ARYHTXMvac6dEgnsxclYIttfDx5LCYtaB9rdQtzA0tU2Uihj7jSBwSOreJHdT0XOhoip3\n",
       "vjf9b6s3pMRmQvki3n/vkPvkaWEempKVk7tlPsBikt94380HmOw3Xp/ZO1b6dtlvutd6B/ugISu5\n",
       "u9oz2A55HxR6xdKIp/8DNvIKios0+BgAAAAASUVORK5CYII=\n",
       "\" style=\"display:inline;vertical-align:middle;\" /></a></dd>"
      ],
      "text/plain": [
       "<IPython.core.display.HTML object>"
      ]
     },
     "metadata": {},
     "output_type": "display_data"
    },
    {
     "data": {
      "text/html": [
       "<dt><a class=\"ProveItLink\" href=\"../physics/quantum/QPE/_theory_nbs_/axioms.ipynb#PsiKetInQRegSpace\">proveit.physics.quantum.QPE.PsiKetInQRegSpace</a></dt><dd><a class=\"ProveItLink\" href=\"../physics/quantum/QPE/__pv_it/axioms/671210829eb355e4a6081371e10e599a3bf30c070/expr.ipynb\"><img src=\"data:image/png;base64,iVBORw0KGgoAAAANSUhEUgAAAHQAAAAfBAMAAADEh/SNAAAAMFBMVEX///9ERESYmJjc3Nyqqqoi\n",
       "IiIQEBBUVFQyMjJmZmaIiIi6urp2dnbu7u7MzMwAAACxEeIOAAAAAXRSTlMAQObYZgAAAmxJREFU\n",
       "OMutlU1oE0EUx//ZzWSbJrukiAdFpTfxYpOLIBS6Bz0IfqwHJR6UHHoQVIx4Uyg5FPFSuseibVk8\n",
       "KbWSW6n4sSII2ooLFqkiNidFUJFGtBBjfbPf2U1tGxzYyX/mzW/mzXuPCdBh66p1AL2bf0H9Ugek\n",
       "YkJ+ChzcOPF8m+WI7ATkeewvTm6UzOaliqOm09Z7uRfD63pXdQXLK3UYXBmYNKmrr4d+8gSrig3M\n",
       "OOg+C4ZSAr76y5Jt0JFAJpvI9nJUNF/C6C6/xpxvS1djZNoINCN9mn6P9iP9QU0bpo3Ojq5cpXuV\n",
       "Y+gAj+rt4s/jOoWY5B0eMBMYh3Kl5pya0nivxTNC37cfeLusQ9D5VvTJc8hM21YSR8A0LKi4FUMH\n",
       "AUEiR/t0PMAjclqlyczdKbiofJKj1/JYdAFh64miLcQmsDdFTku6MnxgJ909F96YHH5VY5r8C0jk\n",
       "nVxut7w9KAN6gTtppFZXvwPdpQjaV2Wa+JvCb9ozi5Yf4Ark8ufQ4kwzgh5TmZZZ9uN02bclchDN\n",
       "++Hi+hNBB0ymCQ3SN+2Z4D5dZYh6GBUbEZRVmJYoeWWnnL1OzakCHXLuS2ixHEWVQaY95qV02N45\n",
       "dCrlckT616koPDu/i+st9kwQxQTV1x4bdSOn1KMo3lwInXfDt0k0kZiikshU1oiwV4hZ1bmh6tns\n",
       "NI7tsBZ6rCDRrejM6AoPLnNjcelhOI3K2MVT3usXqyavzXrEE7cQcS76ghproEOx8h+PjJes9qhc\n",
       "iaEfI+PdaI8KRgyV1NbxmZbRvSCLVgyNOCKYm3jqD7WMCpv5l0i2PHUT+E/tL8QHopuyyumiAAAA\n",
       "AElFTkSuQmCC\n",
       "\" style=\"display:inline;vertical-align:middle;\" /></a></dd>"
      ],
      "text/plain": [
       "<IPython.core.display.HTML object>"
      ]
     },
     "metadata": {},
     "output_type": "display_data"
    },
    {
     "data": {
      "text/html": [
       "<dt><a class=\"ProveItLink\" href=\"../physics/quantum/QPE/_theory_nbs_/axioms.ipynb#first_q_p_e\">proveit.physics.quantum.QPE.first_q_p_e</a></dt><dd><a class=\"ProveItLink\" href=\"../physics/quantum/QPE/__pv_it/axioms/3a52b2843ef7e7626f1815d826751be86ba874700/expr.ipynb\"><img src=\"data:image/png;base64,iVBORw0KGgoAAAANSUhEUgAAAMkAAABEBAMAAADZxgwwAAAAMFBMVEX///9mZmZUVFREREQQEBDc\n",
       "3NwiIiKqqqoyMjKYmJiIiIi6urp2dnbu7u7MzMwAAAADxdujAAAAAXRSTlMAQObYZgAAA6RJREFU\n",
       "WMPtmM9LVFEUx7/Pccb58d7MmCBiBNOizSxqUNwEotFOqEwX0W42redBP1aC/gXlopUlvSKKgnQC\n",
       "ceuAkOEQvqKFSNBki1bhlBRS6nTer/tsvO+Nb3ojEnNh3rx7hO9n7j33HO85gPOoVI0yGjHKNeZH\n",
       "jhJXjW/ZR4qlaSuLeeP9uI8UU7NkK2uW5fslrPtPKRizdcMSlqVrCDWMEjIsd4HXiE7yKZEzm8nI\n",
       "ma0T3ilB09WaMll6gHFVmnBYS4L+kMjWsZaIeQY0ZbJ8BxZk9DlQFhRgI1kHRbSmfZpF+qZLjTlQ\n",
       "VuiozMo8yttLtx0pa91EeWJMxzRLcJt+rMJxv6F6hz4DKo+Sq1TyTpTCDVzBrIrPhvuJQmvZKEDI\n",
       "8ymb9PnJO2MipbasAyUod2IarfjUSVNSZjsWT1XnSF01ttXe3rHNzZ6cUTYpEoboIAvAvJYKUqb3\n",
       "x2W0FbhrEXfpLP7mrSVMqjtOOxb7QZQ1g0LKZOkFHqgIDHMpYXoGdrzuGMRsXMYbg0LKVlRilO/9\n",
       "RMYIGb73S04UIRNV2/IGZVS3hGTpIrDEp+jhUuBShFwfnHdMxD0YlCXdIi0/ot+U5VP0cMnz81jC\n",
       "JSqvL04Nm5SsnfljST4lx8LFGwVf9Nd5Q9mitJR4FKmrkkZH5WwdlBf66y1D2aKs1pH5XSm6Ly/n\n",
       "0rqyRZnym6JYM005au5Uv4+U6F+73/+Pd5jEodyUfKHUvFv6Qqk5mpQmpUlpUpqUI0Cp+pfQIEr5\n",
       "UJbkmfLV/G7zkcK6CqxVUbQuvXn/KNbty25VWBSrSPKVsl5NQbYBlNA+yjOPlJHceRkDW4obhbUq\n",
       "GGXV61pWSCuquK6FtSoYZX/FV4OileiC6kphrYoipIcK3quc6rUGRSvRW5z8stYN6QJYq6IIITaI\n",
       "WW/u1yixX/T44ERJziFatt1fxFVhQiuTeX04N4pWouulI48SnOxCIGNHYRFqq4Ih+3BXDtg8CA3S\n",
       "Qy8TE/yuAsmyKCTvL6jxXYDT7nFdy0dNIOW0Y7EdbJTAnE2UV4gO7jkPB6SMUywEFSeKmMXjPQeX\n",
       "KD20hdMIZrxRtBJdHHaiBFLojaisVUGUY5hLFiDKHinWQeZShFTsnGi3Kojy7vnNdInXHnXfMQrI\n",
       "U44UKf10ZMaODhb7Lz1SwkmMlGpkS9aqYJTTXvPY4kmlVk5mrYpidWLzM/OvVmf+iNIACmtVzFgp\n",
       "WfWPwroK/f/jTelQ7pZ/AOy15uIplK+9AAAAAElFTkSuQmCC\n",
       "\" style=\"display:inline;vertical-align:middle;\" /></a></dd>"
      ],
      "text/plain": [
       "<IPython.core.display.HTML object>"
      ]
     },
     "metadata": {},
     "output_type": "display_data"
    },
    {
     "data": {
      "text/html": [
       "<dt><a class=\"ProveItLink\" href=\"../physics/quantum/QPE/_theory_nbs_/axioms.ipynb#mid_q_p_e\">proveit.physics.quantum.QPE.mid_q_p_e</a></dt><dd><a class=\"ProveItLink\" href=\"../physics/quantum/QPE/__pv_it/axioms/d650a05c72d187d0addd9f539ac2d5440d46e66e0/expr.ipynb\"><img src=\"data:image/png;base64,iVBORw0KGgoAAAANSUhEUgAAAZUAAABtBAMAAACbw+HIAAAAMFBMVEX///8QEBCIiIhmZma6urrM\n",
       "zMxUVFQiIiJERETc3Nzu7u6qqqp2dnaYmJgyMjIAAAAcRTyBAAAAAXRSTlMAQObYZgAABnpJREFU\n",
       "eNrtnG9oG2Ucx3+9JE2TuzRlgogg3CYVVMpOU2zdpGSUsTdK45sWtxcL1b4QZM1bUWhQkLQqy6s5\n",
       "LOJNQaGMtrC9GRYMtDLpXjQUBSkKUXy1YXeMbqvdaHyeJ3dprvdces/lklzPe6BHn1xIfp88z+/3\n",
       "/Pn+7gGwVs7qajwc5rJCriG1Fkg6+uHxsr4oNj+nhC9/WGQR1Foo7SzLvrpdllv4cpuRBTKuZLmM\n",
       "/iJZiyyzWrXPlSzdMvq5Fy2ybGjVeVeyxFbn5r6w6vsFrdqVdyMLbOdyHxpfFQws0WdFKHCqo/AF\n",
       "V7JMAEwbXw0YWAS+J7LI7cBR0XHnd4xlGKIoLlcsrMcyG8jEZOiBMBlb+l3JEgauCKqFqIy9luSe\n",
       "pLHIHSLqeBIsyLg+Wnm57ExxikUohtGVWBhdShT57CqcEBIDiZP7fX8kL0BUhDOkvuTKdomU8G9M\n",
       "LPztxhzw6wEcroztAjfhHAgyLIeeA6qLuYAFpt9BF2xhUMIR6txbIp1lEF6A6wD/XEdtaGF0bQvL\n",
       "NRyTsIXdJNqmVn+ls4zkCzHkVQ9SYGl0bQtLHIcwbOG3FRZBkKgs/GefP4+mlUc+JQHDnSwo0lYs\n",
       "HMvlciKfihQze7P72nE/hBuDy74ZwYHcnSygWdhZaRc4LdLnMByOdV3iGEcGWNeyEAsF7AnIJWIF\n",
       "OguZ13TnO3vJ6OpaFmIhYE848zdA2qRd9rql6GIWtachfzG51atvRtn1LO0qHmThJndf9Uy7xEve\n",
       "6WMjBe+wrCW9w3LXQ3Fs2zsswXveYRHue4elW/EOSzzrHZYR0TssaymXsJQb0INUlim3zC2VBua6\n",
       "hCV6ofyeV1haPudXJVi+bSxnzW6wb3JVZBia9toiFr0GXFP67bAIfT/RtNeWsgjGG6N2WO7A93mK\n",
       "/NJulrANllgPCCWK9kq+Pza5LcUmd080m2XWeAMLL6wsXWngdyjaq1Jd5cYzTW+XDeMN9i27FYin\n",
       "IfiIor0q1WnIeanpLAXKnWl2lgUJrzOM2qtSnYYcXzSzJ/rSbqphFp0GXFOW2Fm+LkDoHkV7Vaqr\n",
       "3IuymT3hcnmrYRa9BlwJ0Vk7zo9YJAg9poRzpbrKfWhqz1q5/LBhFr0GTFASGbCRb6T1MaP2Sr4/\n",
       "uJtIDD6mzjVZtNc679mvARNtIohZmPONiO/zjyi9U9FWudyW6W97F5kkN+z7Og24q8rCnD6BYnIW\n",
       "YjuUqKFoq9yuneb2Mb0GvMfCnNaijZVG7VXRVrnqRqqJ799vnKVWA65huWxjDvMBXElRtFelOrwU\n",
       "zO0Z2M6DA31sTwOuYbllg+XqsQlaAFSqw0uyjj2KA2NljQZ8YfPPzc1ihSVjg4WUYbqVU9XhpYks\n",
       "tRrwXruQ5ARbLBM0K6ND5XEYLH/UbJYaDbjCwiOWzpRNFspEztqc3xGWPQ24whIZeCDayDRUWSja\n",
       "a0Ms1vdw9Bqw2i64rDOzqBIsRXtthIXdACPLTMv3YRzfYYm0b0/pcOyuWtu3PMw7xT6Lz+Kz+Cw+\n",
       "i8/is/gsPovP4rOApRVwo0+3tpXFQ23ks/gs/1MWLRuFb4hlqD5LSFb/WWwqi7adzKQNGliu1WcR\n",
       "tA/vbwkLkzZoYDlpkWW0JSxMYoeOZfljGd5/Q7LEEm4NS59NFiHfWYJnvixaYmFPcbHFMm+TJZwP\n",
       "/Rv8S7LWxxx+Ks2MhUW01bEkI1uceHvREouzDwobWXA2yhWZSUzX+z6/E8j/njyA5ZuXIfq0ww9w\n",
       "G1kCwR44zub8mOXS1FOLcHFXRC0jHjRWIhbpFHBKk51/Bb4KlCDHFvtJu+DHdDiMsQwHs0SKQzgn\n",
       "wukjdfazyB0iHGGL/YQFJzAF0IAekyywRNFXoO9x+kgdg++PyCGcO6F2ZcuZOziBCefhvA6ntQ8z\n",
       "W52hPhbcgfMpp08IMbLcBK6HLcTgdiGP6VxFv/SdH2Ys+IuQgaPg9MktRpZPUE/eYDqLALOQx3R+\n",
       "AeioWRrXYelKQy4ms6e4MLK8AqekAtNZBJgljNtSsjbnRyyBdPAJwUaKCyPLd8dujKeYoiVmWcBe\n",
       "nLbMEh1/8VKv0ydQmY37w4wsP6KpVUS0zFIp7CkutlgmGFlwApOQZ2RhT3Gxw8I06yMsakhmYpmH\n",
       "VrAwnUVA+hgaJt9lZVlvKouWjcJ0FgFm6ZbgUsoiC6e9cQZcV8gc5ue3RX9PyWfxWXyWQ8vSKi3p\n",
       "P0IjVVOpJGKBAAAAAElFTkSuQmCC\n",
       "\" style=\"display:inline;vertical-align:middle;\" /></a></dd>"
      ],
      "text/plain": [
       "<IPython.core.display.HTML object>"
      ]
     },
     "metadata": {},
     "output_type": "display_data"
    },
    {
     "data": {
      "text/html": [
       "<dt><a class=\"ProveItLink\" href=\"../physics/quantum/QPE/_theory_nbs_/axioms.ipynb#Psi_1_def\">proveit.physics.quantum.QPE.Psi_1_def</a></dt><dd><a class=\"ProveItLink\" href=\"../physics/quantum/QPE/__pv_it/axioms/67143242e32925552509aa5a4c185bc0dbb776b60/expr.ipynb\"><img src=\"data:image/png;base64,iVBORw0KGgoAAAANSUhEUgAAAU8AAABLCAMAAADH9fViAAAAM1BMVEX///+wsLCIiIhERESYmJjM\n",
       "zMx2dnbc3Nzu7u6qqqoiIiIQEBBUVFQyMjJmZma6uroAAABSdj2uAAAAAXRSTlMAQObYZgAAB95J\n",
       "REFUeNrVXIeSnDAMJe7d/v+vDb24YIy9B2gmN7dKHjHPshpiu66FGPwU+M+FqrymVoB+CvyAKJLX\n",
       "1Al29CHwE8KkzWrqRJBm4PZnp70gybKaGiGiHRiBD1ioVnlNhYN2qB5MDDRsYNdELobhu/i0Dmc1\n",
       "9wXKejDpfaga4lLE1LEx4m0GqvOa+/EE1YMFnQITiy7Lvo1P63hW86R5dsIOR9923HToA3x2WuQ1\n",
       "dx0gaQTmjnXUAPoFPpGzWc3N4qYmfTyARTK0v49P5mBWc0+cbgQmpvsOnx0MzAg2qUu4A23AaE+n\n",
       "hYuwl/IZ3ncVE1vpWrMrO7DtHanF37HPzom85s5lZRMw1pxzmCra+Av51IEh6QYHnruo1+OX6tkd\n",
       "WLpBEkmAEU69rgwFwfEGDQ68iaSxTBHl2E3wZwQHgRi7+hpJxIlDl/gUjn2Xzy48TqkDVpKGye42\n",
       "n6zK977AgeKspryOhff5tA5+mU8T9C1MTSdjysETxeYlPokjX+YTOJXVlFcJ/D6f8MvhaDheIqsp\n",
       "FZnwGJf4lA5/mU8WhB9WHZBcgrdLfHpg7RKSy+rm1n50y5IeBcjqZDG8eVeZsNDUhlzh0wfznrqD\n",
       "wTJqkeoT/UwWsLb2Y6yle2iiur0mgw6drOzZ2dS9XuEzABsX8z9IhG4W75e9tPZLT2uhKYFIwoSy\n",
       "mjJBqYoAXFhtCBYuGiBNUIgo39BosWEkWyzYW/mymVaF3RyS1ZSmS9EM0vSnVBtUDMb9iY+h/Hkc\n",
       "zcJOwKyisxeeERrtzQtryTen22EQ2z3i7YxZPpMw3VQJjTX9MrQqPvymJuGKgFHPROzgHu/EhEdv\n",
       "be0bjAEzbCF85ZP3l6UQ49UqNeI2euYnPhmUwj8MguUMYqeRd1InWMNnDAxdPoWjIQtja5/1P/q/\n",
       "AbQbu1bDx5HP8Rcw/yHz586pRLK22Kdeel/rgoDx2dNdRGP5sD4xwBgvy7C1MzX1bwhmfTjPXTJ8\n",
       "LjK19rEcTRt2dPs48Dn+MvDIJz7Hz1gCyE/5XKMgQOtG+kFCdBENE3LhU0taSAmp4ZPEgr7LVU0y\n",
       "ePS9b+1TuI8c63lXk3milSTYU9rRNJ92PQXbSIDgnncSgb8So5XiiU9WenxFDZ9xMOnzTXbpuDMl\n",
       "x1GyY2u/D4NYhnwizRW121whBF3vS0Gaz91YFVxoN9BjTwZ8ym5+cjzwWfwoXdR0pBPgITKeplly\n",
       "cQ0CAan81v4QNLbAscV3q52EW8DVQxEAcJrPwX1yZAYqOVlrKr8ACdIMN/7kE592zlaO41dE78R4\n",
       "9UBF/poADy70bFuXbFQNZkyvZ+VXB/fm+N5zAuhMiFidEbvC52iWA5/TiEPB+FUhn+wSeKg7TzI3\n",
       "OG/2ZN3w8gLOs0Hm8dkntIB1DB1SUHysh23A56wReuJzGSa6/HjWFXXc2PEgJ8Hm1IXOk5Z4bpZc\n",
       "9lCCXVvaxKeRJqzHvCrMBu2PWYP7kNnzaZd/XsAnOHyKy3ZLKg326s40TcLMfCI6SKMnUNvSJj6F\n",
       "AnBd3uJA2ZHPfwGfi4ZCIiWBOFrbHvyn8vis8J9pMD1L6hcX7n70BHnkc2Bus8YlwHv2iQM+Nw2T\n",
       "uyNm2/jPzCh8GozO0mA4X9VMC6Y/4RO5KSSROaVd6KKX/Kdfb17m8zxfykTUJPh8dlrNd9eXIQQR\n",
       "CX7C5/if9MsY+SQ8Ht/TfFo1ZH1rJ6UNn/FR+DwYnwe5LQk0wmn0m/M+1qLAAHYo4JHsLtvnpd5g\n",
       "Wb0pboFZxuTsj4cg/H5dZ9dI79VHYTc90V+/PH4Fz5oXTN8C61w/pPG7U1k+t0aUBpfqTT+MXB+/\n",
       "OuUzPgqfA8PsjIMhf8rnZhZ+uzTRX6oQ5TVQmDFwzbrio/Bp8Ox0Y6f54FCx/FM+t6iK1KX+Z4WY\n",
       "Y4eaqfGa9hb4JFNCxwClfjoG4TdJtqFUgXM3YConiMARPz0Fl/IWOJ0pWVnmmH8kKHz6ZrKaMuFH\n",
       "+55y2GmIOyg2c+Cx/ohYHjPBIrl5gE4KwwBAspoywcd4pkeHrSYjw4RAWgAeMqVgNZQrf8phJNT+\n",
       "PZ/hCIoOtl9XTmRFB3bmKdl+O7EoAmu37xRoIWcTf+Hw/Fww46ymuKdBQx84WZkeGCsBm7vzSw8J\n",
       "C9ohrHZ+qbdFm+585eoC4Wz3YcHB4cTV83UqnNE1uzhMC8GfknBeCFW/kAD82Lt75s8UKwR/S0iw\n",
       "fFJ9Q/4rImMmQ+mU5zBGisAfk3C8usHA9dFj4JHAqcwU+cjsuZvEiCsg4JVz9uHbPg3e/zm8Y0cF\n",
       "IcQocQvcJUZch7KEv/BLb8K3fVq8/0P2MUUX5ovkGJDiI64jyS988YsH7Rzu6rfd1lzDA0fb2GxM\n",
       "keX73gRRgbNULd5Xka4ZODriOj0DE+/LrMIbl67BZU1NiXUEryOuav02AdTzOU5Tvq5GosHBpK6F\n",
       "l7c1LZUjODriOtmnfOHr2jyruWf3shE4PuI6+c/3VaZa5jU3N8q2AW8jrmrtMaG3xvdwtJO2ehu1\n",
       "ym3swIkR16GCfV/+aYIdNq32nNRcaAdOjbgCQl5X54eT3MypZtcmD4GfjEY0q6m4OHsI/FzyafKa\n",
       "iquTp8APSfh6KmppFrzmYvx7BsqCRzCs7UMZBZ8CP1O667ymTgR/CvyA2CD02NZfUY5rvt8ay2+d\n",
       "+LBNK5qXb5Y+Bf5778lPNf8Bht5ZQY6Z2zMAAAAASUVORK5CYII=\n",
       "\" style=\"display:inline;vertical-align:middle;\" /></a></dd>"
      ],
      "text/plain": [
       "<IPython.core.display.HTML object>"
      ]
     },
     "metadata": {},
     "output_type": "display_data"
    },
    {
     "data": {
      "text/html": [
       "<dt><a class=\"ProveItLink\" href=\"../physics/quantum/QPE/_theory_nbs_/axioms.ipynb#m_def\">proveit.physics.quantum.QPE.m_def</a></dt><dd><a class=\"ProveItLink\" href=\"../physics/quantum/QPE/__pv_it/axioms/240c9838111c4d35defa58d661e39ab7498d1fea0/expr.ipynb\"><img src=\"data:image/png;base64,iVBORw0KGgoAAAANSUhEUgAAAHMAAAAWBAMAAAABVL48AAAAMFBMVEX///9mZmaYmJgyMjIiIiIQ\n",
       "EBCqqqru7u5ERETMzMyIiIjc3NxUVFR2dna6uroAAAAPJcEmAAAAAXRSTlMAQObYZgAAAgFJREFU\n",
       "OMulkz9II0EUxr/8ud0kmyyLWmtstTCH2FkEzkbCwXFq4z/SnI1IAqd1bERQhG28ysJaQUL0jgML\n",
       "AzZiIVuJiJAUYmGjJyoYveS+mc0lq4FNwAezb5mZ37yZ770HtGjBdO032XSzNmx7gyOHSLG20Mkx\n",
       "64pG7qQLLwLqokT19sog3YaYzbqh4RfpCozqy1ajjoqPn0ONuaGeAfH1VqJANwR6lcYQ1BmEOINz\n",
       "NzRXEMpcFkwgIdH5L0R9E3bEBTd0O0Upg4kuChaXaOSJaCYPrHLVV4R+sb91HDw/aUTzGQvYM3nt\n",
       "kCFRb5noASfnhIgGIoEVZHbwTWraL82QpGr549CmMQIEohJVHoneRG2dvDH88MfESX0NQb2m5xk/\n",
       "k6DO/qREtb9E+6i0h0OJI50pIpXGUaPA0EvaV6h/gA9FieIT0SVRWXxv8BZIAR3AeAN6zSzuRaGV\n",
       "6uh6ckgvc0mxbLQd+Az9Wa2/NS/RZVYDD9TvaheGtjZ2xlQhwFLSqfoU1DI8sV9vXqpTrIVNRijV\n",
       "ZKJ0Y7IJftsyaWUot/BZ1ms09cBN4ibKvSES4SxEnAopLBGYaVPa3pTz7vT//pnMysvJ8j+sfBQn\n",
       "xEVJmK01awLOphNvwXyLfd79Cg2bzcrfYYGsE/3etOkcVm31qvVU89Oa5RCqy8KMoxfvsX858oYg\n",
       "hzN1TAAAAABJRU5ErkJggg==\n",
       "\" style=\"display:inline;vertical-align:middle;\" /></a></dd>"
      ],
      "text/plain": [
       "<IPython.core.display.HTML object>"
      ]
     },
     "metadata": {},
     "output_type": "display_data"
    },
    {
     "data": {
      "text/html": [
       "<dt><a class=\"ProveItLink\" href=\"../physics/quantum/QPE/_theory_nbs_/axioms.ipynb#phase_m_def\">proveit.physics.quantum.QPE.phase_m_def</a></dt><dd><a class=\"ProveItLink\" href=\"../physics/quantum/QPE/__pv_it/axioms/7d0a3fbeee273c38f8b0f2e12e58093b02865daf0/expr.ipynb\"><img src=\"data:image/png;base64,iVBORw0KGgoAAAANSUhEUgAAAE0AAAAlBAMAAAD1gHm0AAAAMFBMVEX///8QEBAiIiKIiIjc3Nxm\n",
       "ZmZUVFSYmJh2dnbu7u5EREQyMjK6urrMzMyqqqoAAABb/SrcAAAAAXRSTlMAQObYZgAAAWZJREFU\n",
       "OMvd0z9IAmEYx/GveeefTkUIqtEphCIEq6nBwdY8GvpLIEgQURBRm9FBUG0dWK0KTQ2BW0NUTm3h\n",
       "jUEQFDTr4CIYdiqBHOn7zv2Gh5f3/fBw7/G80C+Bk2Q8EzzeRhDf4DX5WT5E7n2gSMrgSOTMfImK\n",
       "yZbIUYEFGBK6NYgSqPlFbhR/A7U4L2BKg1AVzTAELhDBrRNaSvBvErIIPN2InQ/eshvdG/ft6A63\n",
       "D2k84n46XhO1x2HzN1UM3JCT6fcCKxwcxvX4Ttf3pR3u1JZXFtkRhs2ZPv20u4evCZRchAbLPYjV\n",
       "qnvNqF09sWCYyb9dvl3V3VZ1We6CUrWc5HL1Fj7piFZN2R29Bec8+tOcl+bG11vrcnvnGS2hbJoO\n",
       "p5q4wjy21/0u6YrgqVET/lytjufbvqBEBuru9IWEKxtqzJBwYwQzlpiputy4T0u+Cp2kjHuFKQmm\n",
       "RM8WIxJOs0e+434A2VZePFzNLUQAAAAASUVORK5CYII=\n",
       "\" style=\"display:inline;vertical-align:middle;\" /></a></dd>"
      ],
      "text/plain": [
       "<IPython.core.display.HTML object>"
      ]
     },
     "metadata": {},
     "output_type": "display_data"
    },
    {
     "data": {
      "text/html": [
       "<dt><a class=\"ProveItLink\" href=\"../physics/quantum/QPE/_theory_nbs_/axioms.ipynb#best_def\">proveit.physics.quantum.QPE.best_def</a></dt><dd><a class=\"ProveItLink\" href=\"../physics/quantum/QPE/__pv_it/axioms/266deeec3c8dbd23963ba269665d56ad7894726f0/expr.ipynb\"><img src=\"data:image/png;base64,iVBORw0KGgoAAAANSUhEUgAAAGIAAAAYBAMAAADzMjWaAAAAMFBMVEX////MzMyYmJjc3NyIiIhU\n",
       "VFR2dna6urqqqqpmZmYyMjIiIiIQEBBERETu7u4AAACIO4EmAAAAAXRSTlMAQObYZgAAAVBJREFU\n",
       "OMtjYCAecAkwkAjek6qBoRu31COsopa7JgJJFqxyptgNWgH2DAPfnQ1E6Hg59yIDw2eIDgauCYR1\n",
       "8AUw5BcwHoDq4G8grIPzAQPPAZaAxxAd9Q8I6+DZwMD6mdMhAaIjmwifc/1jYP3IGCIA0bHUZQY2\n",
       "HY0MDFV/kazn/gfVzMD368F7AyAraxUIrITrSGBgXFSKFCj1CTAdHP8Y+B0w7WAyYGBlYAgAcqD2\n",
       "bIU5kIFzAcP7BEwdnAwMegwMQDv4fkFCawJcBzA66hswdbAxMDgw8DnADfeEBwIDvwLD/AdwfyxF\n",
       "2MEuAIoGKOCYwGAM11HAdwhLWLEpcDLwBcJFxBgYnGE6WBV4J2AL3VVaErMLYALM29KmboCH7pQk\n",
       "rDHItP83IkC4/v//D9eBM7VPwpF1ces4SKoO9g+k6mAJIEXHm91bcZQAVrv3AgCw0VI/fCItEAAA\n",
       "AABJRU5ErkJggg==\n",
       "\" style=\"display:inline;vertical-align:middle;\" /></a></dd>"
      ],
      "text/plain": [
       "<IPython.core.display.HTML object>"
      ]
     },
     "metadata": {},
     "output_type": "display_data"
    },
    {
     "data": {
      "text/html": [
       "<dt><a class=\"ProveItLink\" href=\"../physics/quantum/QPE/_theory_nbs_/axioms.ipynb#delta_def\">proveit.physics.quantum.QPE.delta_def</a></dt><dd><a class=\"ProveItLink\" href=\"../physics/quantum/QPE/__pv_it/axioms/c043e869e38a5b7b1d2331dcace0926a638841770/expr.ipynb\"><img src=\"data:image/png;base64,iVBORw0KGgoAAAANSUhEUgAAAH0AAAAyBAMAAACDoMmvAAAAMFBMVEX///9mZmYQEBAiIiIyMjLc\n",
       "3Nx2dnbu7u5UVFRERESYmJjMzMyqqqqIiIi6uroAAABeGh1sAAAAAXRSTlMAQObYZgAAAqBJREFU\n",
       "SMell89r02AYx7/p0qZr0zYHwYmgBS+KIBHGmBeZIAhO8Ad478nDQJsNhXmQxqswrPMg6MHB9CCI\n",
       "y0G8ts4/wO6geFDcVTx0HrbCum4med+sXZLnSdH3kDfkeT/J+z7P836fNwDV7oBv87w5U0ngi1Os\n",
       "+RtpuX9C9K84XC/TtguiG+VmOLdO23ZEp51h+CfMwjvyZpWZfofxrClvRugFjBg0ry6sNcVHNskx\n",
       "K9dovnZJk+BZcsw5xjWfLfTkVyxiSH6X4Q9B25IzaRFDFCb6bviLMoIqlYIpm+G3ocjoFCgHNpYY\n",
       "fhdz0pzeJob8ZNyPR/3kOunn03cnPGSR2xqzX/dn99S7vP3VDQ85heFa1bvYCIdR+zMkv+LNfCYa\n",
       "/t6QfMNLgHbEWfrOkHzN2yaqGX6c6w7Jl9w80X5shR/LvNAdFK8+Y/k68N566e/qi37z921G5FfG\n",
       "Nb57yPGpKWinhRcPpL/gX3uxybK8CaWORpjPbvidgZwFxb25609t2nu2FzQhM2WkltCw4vkKCsAD\n",
       "7vsuX3OwPLB+e2D+Bn4Dh1neRMnB84hCCv/PuG+YdxL8l2kV65H4ifirl6c/no+XUKevE7fXIuac\n",
       "lK/lvQki74L4x8u0LnklRkZmj7wAPgXvia8AeakrqejiNRvV9evjRwf2T0yT+7cdo6wWUmVcCaS8\n",
       "Gc+PkzXczbjsJgLdrBI6d5wuXh1ku/lA3h9TumJxSdMp2Pd4nWs0Gb5dUVrC7+nev9SPSeQXHL5+\n",
       "KBs0rvRzZtSkjhhM/RxI1xJVP5nKrhu4uV+mSDfTAfgAfDlQvuIdSB1t0hO3xoJVM+cX8vykutIV\n",
       "8KqReEZk2yqTZTecRJw9P+pmIp81OOtYIv+Gf3vr/87vOJb0/+B77y+l9qNACslXcQAAAABJRU5E\n",
       "rkJggg==\n",
       "\" style=\"display:inline;vertical-align:middle;\" /></a></dd>"
      ],
      "text/plain": [
       "<IPython.core.display.HTML object>"
      ]
     },
     "metadata": {},
     "output_type": "display_data"
    },
    {
     "data": {
      "text/html": [
       "<dt><a class=\"ProveItLink\" href=\"../physics/quantum/QPE/_theory_nbs_/axioms.ipynb#success_def\">proveit.physics.quantum.QPE.success_def</a></dt><dd><a class=\"ProveItLink\" href=\"../physics/quantum/QPE/__pv_it/axioms/f83b2793ae90bff0587a8665bb30216311f93be10/expr.ipynb\"><img src=\"data:image/png;base64,iVBORw0KGgoAAAANSUhEUgAAAZIAAAAXBAMAAADTptQWAAAAMFBMVEX///8QEBCIiIhmZma6urrM\n",
       "zMxUVFQiIiJERETc3Nzu7u6qqqp2dnaYmJgyMjIAAAAcRTyBAAAAAXRSTlMAQObYZgAABWZJREFU\n",
       "WMPlV11sFFUU/ro7u92ZnaVKJDWIybqIJWTVTXkgqMUVY/QBYemD8S9pU4RorbCmRDA2prRoigTY\n",
       "8ICKgR0kxKakdA2pFVQ66VaNtTFr8QcjxTW1/tAoG9pUui3Wc2d2ujs77HTABx68yezc3nvm9Hzn\n",
       "fOfcc4HrNJ685s1rH3zCgtAB9XXCmsq7htFrtt97VQae2wx3BEiy+aCZYCs9302/vmFIKiwjNKpv\n",
       "Z8Sw5dl0acPGewyWFjK2tfSqkTDx54Av2fS8mdwf7OcfwDW/sMycDAIhadwrobVtklUkGLKIpCyU\n",
       "q+4Y8BbjT6PJF54A/TimAPfFwkKntUmPca9KBrq9lpFMWkIifO7VqRO9mEPeEmMm3xQzd9vG6Jkq\n",
       "LPSyNjlk3Ls7SI9sFQmXtoKEX5bQqxNugKevre1Ns4+UTVeKcmCssOLwDM2Chs099GwKWkUihi0g\n",
       "4TfG8gvEL8CllpYGo2zWhws1rkcDBTXb2NaZG7eTIUYhSjF+FCtrV/r0SLjP3vbVOHqeycu4moWx\n",
       "2ZA4ds84xrPt5qAiHgfWAzuMwlmDdmW47m4orNpFsbZ/i0dJs5LyX/3FxpD6b4mUXTLk3bFteiSi\n",
       "qwkdt+N9vaqO88LEbEhassleEeISivg54MErFpwsklcUrtf1l5sU4WIK9kPKzB02xGu8P74EjthL\n",
       "GYkZJE8VJxGV8ZNevFvCxdmQlC2ZyaqQxq4usgK2nOxx1PfitupcJDcpXJdMVRdRtI+2KkUuZYhX\n",
       "Wqk1wlh+nkgdQWb3s2zhmBLEYZqtgDCVj0TYn6fz+z5t52RzBkkVMTtRrAkcjVfgQ1GyS/Gl9Utj\n",
       "uUj+1r4MGbRqSNpUTxiQlKhRcqcMGd8NLAPm5h8n3GQ+EhurzPFmCfu0lVPLM/ZIyCLhk49p2bNz\n",
       "v4RPvAHRwC7HKJv5znpbU565EPuXoz8eOez32u7sYauMXYLKXS6czZNf1eNEVWUnCnsqKhfa7ghp\n",
       "SFYADeAmBJ3Vl2FPG9g1Qg6POJMYmFlZvV55HZmpXQ/Ts4NVj1NbApQxNDo794qGjGfHCTiZ9/Ip\n",
       "NKEOdU7ZKf+J51dhL1tlGe8mAyNaxucfJyxsVA09DySKam3VGpIFIMrZk+/oxMdwKGFAspMda44J\n",
       "sT6bB49vV6ylSEDLeBwnN7pjCKktWKfY/rQOSZyVRsZ1fvSkJKRQw9MfUQmOND6I3tvGVlnt5YfR\n",
       "ToS0y/lILqgpFiWk+8tQEmQSChJ+jFFujqz/4gU044pIgiSfW072MRIcDAk/quL3MSLTuW/zyxAC\n",
       "Kko5rkNCYbNfGGe9wSPTQYaEI8avIQdfHvRze8bYqsKp1aWvMcyhPCNWTNdoaoAarFXqnHqehNk5\n",
       "5K7QN52H/Qm2eXCer3aQ3O7zS/APjCiZljYWWe7nrSpZwaqFh5xmK/fCsbWlpYmQHGAVIKTvVpRk\n",
       "jrjDhKSJnyAPR5TcfgJdbDWnW3nPtMbNw2JEHeZ9l0p8fhK/U2V1xYQwBfEWxRCvO5Ao1AsLWrja\n",
       "2U+1GhOu0thBKj4JoBFpYQHW4V1nQPDuguc4XMqqaQeZ02RQRHFGtIJESFM6rmUVqalDwohKc748\n",
       "UgiJqDWUleAkfMpm3wBn9XJaB+Du8UdweuD+hEgBjPsg9sgf+75QVuEy6epzuFBNV4R9fZaQpBQq\n",
       "fg2sW6PUrqxHIfy2hY38rj7j+C0k7CIGc68G4TTetGZtsjP3AlfE6tXIGhIWk6gak1U5PYJRXV7D\n",
       "tZjy5L/dfn+wdskrG8Yis/1FKhGryLn8fKeXv5WydOSjNwrdpTfDY82D12O0jntKT+wJsBMY/QMv\n",
       "xlA0PZ3C/2P8C14Vv1HP+Cv7AAAAAElFTkSuQmCC\n",
       "\" style=\"display:inline;vertical-align:middle;\" /></a></dd>"
      ],
      "text/plain": [
       "<IPython.core.display.HTML object>"
      ]
     },
     "metadata": {},
     "output_type": "display_data"
    },
    {
     "data": {
      "text/html": [
       "<dt><a class=\"ProveItLink\" href=\"../physics/quantum/QPE/_theory_nbs_/axioms.ipynb#fail_def\">proveit.physics.quantum.QPE.fail_def</a></dt><dd><a class=\"ProveItLink\" href=\"../physics/quantum/QPE/__pv_it/axioms/5cb8d5d880c6e6ff8a592ed8392fe9ba496f4edc0/expr.ipynb\"><img src=\"data:image/png;base64,iVBORw0KGgoAAAANSUhEUgAAATgAAAAUBAMAAADrSDygAAAAMFBMVEX///8QEBCIiIhmZma6urrM\n",
       "zMxUVFQiIiJERETc3Nzu7u6qqqp2dnaYmJgyMjIAAAAcRTyBAAAAAXRSTlMAQObYZgAABAlJREFU\n",
       "SMetVl1oHFUUPu7O/s3OJLUULMWHMfqgsG2X9ElsSECKfbA65KEgCMbEFIuBLOShEUtJY5VEKR36\n",
       "ogTabFutS0KaQFl/isqw2xaqUUKjYukPqbWCFtOlCY2G2njOnZ2Zu3PvTlvogXPnzrlzz/nm/Nxz\n",
       "Ae5JqRmp+JDz+Kr+0gNS1U7a8nmOBJfDNhWQf1l5f8e1PC9VB5xn3BI2uEu1JKqQ2CHa6fP39P5X\n",
       "GLg/abgLkFzHSxuqoNQ5YQMtpdcJYkGFzA7SCZ8/JocOhOzRszjE7qC9W7x41p2UhB24dPzsclAq\n",
       "qpDYIdIMjxvQ09pUCLgEuSiyiHyHF7/tTo4IO2hJF8CJKiR2WCxWeax/Nzb2UVhU2WKygtm1yGdv\n",
       "zgtiWzCxc1JwggqZHUa/+/zP0NBu8VPbmz1JQyNm1miW9wO9/ProPnR7NuiirBScoCJAZEffuxZ/\n",
       "tQwedwMMi5/6WvbT8JoN6d2xLip2Pae+iX7AafRn2IbvrCJ+nCe6xlw0IwXHVIREiOy0mApuvgIe\n",
       "Py8rOA7cOzRs7Jluzic+wTQFpQNexgzBNN3inEu5YPJMScExFSHg0I5istkXPicgwp2ysb7T8EQH\n",
       "D24NDQdI7aQrwskj6P7xAivkSsAKLVXBqcyf86anIoTQjnrqXeZjn7WZhLs+Xm6BL7V8NF/e1Ldp\n",
       "ige35NelarngxpzfCQHH05JbjKY6Ug+cg58Dl5rb7p40H47k4RsjqwlhjS3Q0FpSfmiBQoXAYexU\n",
       "JwhKzs+5P+qHlamApktGoaKvBm36WZguW8cyBoki60vMzqfOpy9wPPwGDt/uymL2IRWLBzWhICKL\n",
       "TjQjRkObysBh1qcRnOUWBH9mSAuCqVDslJGqwCD0QE/cjtt/w1skehEOMjtFdBXUFAScxF9PT4Hp\n",
       "tNmiNvFqDTgq6oblaqq1bzAccHiApK7DBDopagdgsLMlEgTHVKQWTuVxf2cKX0bzEFuGz0k0+twY\n",
       "s3PYVC/iV5s5bsQajGRsUBmgItjlGnDo3OjN2wYDp30Qr4KjYL702Htk1QzAoKXo63dbaoRVFVtX\n",
       "yPOdCuYplrz+3+UMiZQDi8yOcrWflF3nWMc0jDQbEOsfGhpEcIeoQEyxrSCmRiv5lAPOb1+fSduX\n",
       "nGJWOof7B1P/oucsVkskeoWdGl77yvnMaIKGDsdzSru8ISOmSTPRVAUX3vjrUDoLA7CsPg5dcDSe\n",
       "VY39oJPoJCTljd+hdlDycIZmPwFcqtXo9g+1t1vvfOa34wtqL/5Gsv6VKWnVBVfKWDB7vnVGw0iV\n",
       "m0Ar2ST6uukcZ4e7MlXds+sGKsX0Vva0QVx+CZTfKJP3e9m8JxU4ZwyD0FSfxpx70Gv6hYd9Tdct\n",
       "j/8Hv3RSWCdOFVUAAAAASUVORK5CYII=\n",
       "\" style=\"display:inline;vertical-align:middle;\" /></a></dd>"
      ],
      "text/plain": [
       "<IPython.core.display.HTML object>"
      ]
     },
     "metadata": {},
     "output_type": "display_data"
    },
    {
     "data": {
      "text/html": [
       "<dt><a class=\"ProveItLink\" href=\"../physics/quantum/QPE/_theory_nbs_/axioms.ipynb#mod_add_def\">proveit.physics.quantum.QPE.mod_add_def</a></dt><dd><a class=\"ProveItLink\" href=\"../physics/quantum/QPE/__pv_it/axioms/1087947a5a49b6001afe2bba0535bcdd73c945fb0/expr.ipynb\"><img src=\"data:image/png;base64,iVBORw0KGgoAAAANSUhEUgAAAUUAAAAbBAMAAAAZqYBdAAAAMFBMVEX///8QEBCIiIhmZma6urrM\n",
       "zMxUVFQiIiJERETc3Nzu7u6qqqp2dnaYmJgyMjIAAAAcRTyBAAAAAXRSTlMAQObYZgAABOdJREFU\n",
       "WMPVV12IG1UU/jbJbHZm87NS0Soo2dYuPuxD2EWUstr4gz6J2VK2+FATFqvWql2UitaCawuSRZQR\n",
       "wRZl6bQLpexDE2xFC4UOzZM11qhYi6gEo63Wkl3DLrW7lfWcOzPJTDITE1DQQ+7MnTv3u/Odc885\n",
       "9wT4j8rPHc7fhH8b0CTKPBCju6/N+VK6ww90DGiW3gngQboH2lwqonX4gY4BTSLfWU4iVKTeZ+0B\n",
       "hhhU9FJYdQdgugOAub+b6rpFcnTZRS1IYyUe+b6lTkt0OeL25siNdNnmDlAm2wdY7OcSgupwJoko\n",
       "a7KWHTIOfMrDl1pxDNEs/Or6qkztqDsgorYPsOSA4HgYoQWMimdWmIJnP98nW3HsIrOH47aB8Ej5\n",
       "DqO3zIxibgB85bCQNccdYElUcFwPXIcBhXQM8kKvGP4dyrXieIBmBG1WkbZBNzgHxKb2uQHwshtH\n",
       "D4CTI/nDDnUoRD0/2+4uMsqZ2dl9LUPmC2r2GRsBHTNiUyf4+pMbQJ5w4+gBcHKc07AjObaOfZG1\n",
       "6af2RyazuyXHe0zvlUeGbubnOHOU+auR8bW0A3k3ALs63sn3aw6ODsBjqzYOxO67PQHl9CCRUwpr\n",
       "UglzhVe1utkfof5WYMpaPVBx4Zih9ia1e9XIPHujyhz5h+wl5SrwA086W2Ep1wA9lKsCN2HOaUcb\n",
       "gOSlmFxNhPuwWcUe4GAOn5scA9dMr1qkSyoJ3A+lVONj2aR7dX6vFSYXDMdVbjH8ww9B8AG6ndJQ\n",
       "BT5qVIoB7O4Hi+xMdo5OwGu0iZCuYrcg8pYV1wQ2Dxd5wQz2IHz1/Pwb+/TJ4WJQDR2yEuoL1K4n\n",
       "bksI8qe6C4XC5ULhtNhUhTRONXJkQBetvEHD8+yElcrFWyuVdBOAWF2DvChRsEd1fpE1OQ5bSZ05\n",
       "8mCoGKwvTzuB8ydm0Yst0/acRhy7JpFN1u04Ld4Ell04lk2Oq6EsOu3oBJBPVIljLzGJTkrVGkef\n",
       "tYM1O8qlMerNDHAxJFUHtIAxI65bn3zd2OusjlOoc/yabn+ycfFQ3R8v1AC012SZ3nknRxugzlHY\n",
       "Ma7UOR6DbKQ6iU2W4v7U42TVnRLHkG+XLx4x8vT7SYvjU0bMZHN4js/aQE5wZE0W2OVqIQA7gGJG\n",
       "WUZ36YSDoxNgcsQqIpLAL5Y/Sjp8qjOucYySlj8ucerqiYVLIvPhUKj2yX4jlujdi2LwaeYY5rT/\n",
       "LPbSdaSRY795Hu7BN2ndwdEJEBwpdkeTuAy8ncAGMW1fIf+keaD1mdkW0RgfX7608CJ/enMmk4lB\n",
       "P4P3zKVYEdoeZXzdu7fx84xGHE+K3mDRrWJmQIBUPrzm0fGEg6MDMLay9ePf02ev6PJInvPjyJep\n",
       "G0QOX1m5YsywzhliS0tm1Z5v6RbVunLdwsofFvGJdfwmnGchhlR9rJ4KlImm8zrhdRZ6ADzrUIb9\n",
       "WFtWTT2M/VpQO4+QCF6/sIShjd5QU8iDw7YDvrlEYICzplDsRa93TdEoWYIpS7UDZvyDuzGak56h\n",
       "5d+g53NPFC5aVbrEXjHluVBzqSUAPWr7AC85x7vc8GfBsI6P/dEu271qXCEu7Ld71bheAA/ZyUks\n",
       "2VYVf7TVf4Ww6mGp6Q4AHjPZZ75rGPOq4eOd/qnrFOAuf19+2+R4p6sf/0c4ruf40/C/kL8Ak11x\n",
       "pY/WtwkAAAAASUVORK5CYII=\n",
       "\" style=\"display:inline;vertical-align:middle;\" /></a></dd>"
      ],
      "text/plain": [
       "<IPython.core.display.HTML object>"
      ]
     },
     "metadata": {},
     "output_type": "display_data"
    },
    {
     "data": {
      "text/html": [
       "<dt><a class=\"ProveItLink\" href=\"../physics/quantum/QPE/_theory_nbs_/axioms.ipynb#alpha_def\">proveit.physics.quantum.QPE.alpha_def</a></dt><dd><a class=\"ProveItLink\" href=\"../physics/quantum/QPE/__pv_it/axioms/18ea63c93cf88554b3a09d3a2ea679b7ea32ea200/expr.ipynb\"><img src=\"data:image/png;base64,iVBORw0KGgoAAAANSUhEUgAAAMUAAAAWBAMAAACCvEVCAAAAMFBMVEX///8QEBCIiIhmZma6urrM\n",
       "zMxUVFQiIiJERETc3Nzu7u6qqqp2dnaYmJgyMjIAAAAcRTyBAAAAAXRSTlMAQObYZgAAA0hJREFU\n",
       "SMe9lU9o01AYwL82bddkSbsJojsIQfHPQaFsigfHDCgIelgVnCehBxX1oL0NQWRzl84/kNuGIosb\n",
       "ONhhC4iH4Q7ZJqgzuqAoehgbFCuISA8buCnO73svS7s0triDj5a8vLz3/b7/D2DjwwlcjRre1Kwt\n",
       "40H1z9FM4LKsedP9+B/H/wK9zAVtlrqqMwRN6s761nYvMUakbbWAjw5ciekAr+jT1yAZCb06ow63\n",
       "pHxrStG1Y4u7AyQ0oh+fYqDG72q4cgIg6Xpcac0f4LZ1EeOEAZ0gPYUwRWwKVcEQyYHBuVaD0QvQ\n",
       "zuMbvQSWwkwKqcQYbkBGoonZAA9RhZmRkb4gEWK2OkJEAc/59BSABUM0G0gTQ15CxliGqQEJ9N2P\n",
       "XO56kIwwU2xqh/YXhoyOKGw/RNMUMUQVZ/Msr5RFZAxYzJ0g49fzhJOuVsiIkzP7NKlJMh8VaeHN\n",
       "dxr5spBLv40xTAxFJwb94CJj1P9ERrvDg66gvUeY247xg7Gt0z1urtRRkNDCnrARqXDbZzoH9SuQ\n",
       "RO0FYICj+NjEGOIvZMxrlN64KUssCv80ajXR4tTp8qBbpyHaswLQJjNz15cOGoaJJCzAGAqP2bb9\n",
       "zbYxgaLLvAZvIKPbLdNokfxKFt0F+Dg+AvVwdq26iRHCpJ6c4W4rH6TbPlYe7aZnBx4MN3DGSbMz\n",
       "skj7LM4QF6gclyHClU1ZUPIVaTlrQlIvxaNAKXUwn4ZRLA8HDhse4z3GMGMwhnin8UWaYooHmaN7\n",
       "zyGsARK8mu6ny2KOQmAS1apoASY7n9SkbfgWMRkjRfstXudSI/N4vxtzeIygcBfPbxiUvdzEM0IG\n",
       "lNko7PEzyDD0Q8yJM+MvE0NBUvK4Wt5LWKMSyDGUGnEVzuRyORWsGbjH5TAb7TlHmIKbfgYzLAtS\n",
       "82v2OmQgY4L1FB6PyJXVvMa2oM3kGAXNCp2GGBP8xIGXFb1kc9rH2CXpvHO7o1m3OpzK3s5CPOwZ\n",
       "HwaZBAkCeMVQ6olF1cdoll1nr/WVvS1mwP0RS/Oe6N4FzwBu4/PDBfvL2tUT93p7q7+fdOwE3k2r\n",
       "31Gjbm8va1AUj3+4oxS1FuPtOk03cteu17Ckail4t/D/Cf7L+AO3Pt+wGGgXMwAAAABJRU5ErkJg\n",
       "gg==\n",
       "\" style=\"display:inline;vertical-align:middle;\" /></a></dd>"
      ],
      "text/plain": [
       "<IPython.core.display.HTML object>"
      ]
     },
     "metadata": {},
     "output_type": "display_data"
    }
   ],
   "source": [
    "import proveit\n",
    "%theory # toggles between interactive and static modes"
   ]
  },
  {
   "cell_type": "code",
   "execution_count": null,
   "metadata": {},
   "outputs": [],
   "source": []
  }
 ],
 "metadata": {
  "kernelspec": {
   "display_name": "Python 3",
   "language": "python",
   "name": "python3"
  }
 },
 "nbformat": 4,
 "nbformat_minor": 0
}