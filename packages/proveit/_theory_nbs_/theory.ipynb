{
 "cells": [
  {
   "cell_type": "markdown",
   "metadata": {},
   "source": [
    "Theory of proveit\n",
    "========\n",
    "\n",
    "This is the top-level theory for general \"textbook\" mathematics."
   ]
  },
  {
   "cell_type": "code",
   "execution_count": 1,
   "metadata": {},
   "outputs": [
    {
     "data": {
      "text/html": [
       "<h3>Local content of this theory</h3>"
      ],
      "text/plain": [
       "<IPython.core.display.HTML object>"
      ]
     },
     "metadata": {},
     "output_type": "display_data"
    },
    {
     "data": {
      "text/html": [
       "<table><tr>\n",
       "<th><a class=\"ProveItLink\" href=\"common.ipynb\">common expressions</a></th>\n",
       "<th><a class=\"ProveItLink\" href=\"axioms.ipynb\">axioms</a></th>\n",
       "<th><a class=\"ProveItLink\" href=\"theorems.ipynb\">theorems</a></th>\n",
       "<th><a class=\"ProveItLink\" href=\"demonstrations.ipynb\">demonstrations</a></th>\n",
       "</tr></table>\n",
       "<h3>Sub-theories</h3>\n",
       "<table>\n",
       "<tr><th><a class=\"ProveItLink\" href=\"../core_expr_types/_theory_nbs_/theory.ipynb\">core_expr_types</a></th><td>theories pertaining to some of the core exression types</td></tr>\n",
       "<tr><th><a class=\"ProveItLink\" href=\"../logic/_theory_nbs_/theory.ipynb\">logic</a></th><td>basic logic concepts: boolean arithmetic, equality, and set theory.</td></tr>\n",
       "<tr><th><a class=\"ProveItLink\" href=\"../numbers/_theory_nbs_/theory.ipynb\">numbers</a></th><td>basic number concepts and operations for whole numbers, real numbers, and complex numbers.</td></tr>\n",
       "<tr><th><a class=\"ProveItLink\" href=\"../physics/_theory_nbs_/theory.ipynb\">physics</a></th><td>basic physics-related concepts, including quantum topics</td></tr>\n",
       "</table>\n"
      ],
      "text/plain": [
       "<IPython.core.display.HTML object>"
      ]
     },
     "metadata": {},
     "output_type": "display_data"
    },
    {
     "data": {
      "text/html": [
       "<h3>All axioms contained within this theory</h3>"
      ],
      "text/plain": [
       "<IPython.core.display.HTML object>"
      ]
     },
     "metadata": {},
     "output_type": "display_data"
    },
    {
     "data": {
      "text/html": [
       "This theory contains no axioms directly."
      ],
      "text/plain": [
       "<IPython.core.display.HTML object>"
      ]
     },
     "metadata": {},
     "output_type": "display_data"
    },
    {
     "data": {
      "text/html": [
       "<h4>proveit.core_expr_types</h4>"
      ],
      "text/plain": [
       "<IPython.core.display.HTML object>"
      ]
     },
     "metadata": {},
     "output_type": "display_data"
    },
    {
     "data": {
      "text/html": [
       "<dt><a class=\"ProveItLink\" href=\"../core_expr_types/operations/_theory_nbs_/axioms.ipynb#operands_substitution\">proveit.core_expr_types.operations.operands_substitution</a></dt><dd><a class=\"ProveItLink\" href=\"../core_expr_types/operations/__pv_it/axioms/07ab8228cb55d6dc8a4d410016db9ba35410f39d0/expr.ipynb\"><img src=\"data:image/png;base64,iVBORw0KGgoAAAANSUhEUgAAAl4AAAAyBAMAAAB/psi9AAAAMFBMVEX///8QEBCIiIhmZma6urrM\n",
       "zMxUVFQiIiJERETc3Nzu7u6qqqp2dnaYmJgyMjIAAAAcRTyBAAAAAXRSTlMAQObYZgAACCxJREFU\n",
       "aN7dW32IFGUYf253Zmd3dufuiErSqPUO7PCDuzQT0dNTQSPKWw3CPySXK6GibEvLMqulP+y0zO0D\n",
       "/AhxvOJKo+7KrlISN68w1LwBJQq0FvqAAmU9U/TU7P2Yj3dm3pm9lVXu5oWdefed3z4z85v3ed7n\n",
       "YxbAt91+5RIMt5ZoqbREOU33fVdOl0CO2rxl2PF1uPIi59Pdjs2flQDeNOzYglC68jKVgt5ZEDy+\n",
       "nFMgppX3+928wTcCy5d8I9OfOBXgozIFRHKcwe0tQeUr2sTc+qGLAH+XS3iBMxivDSpf+1Sr33Vv\n",
       "CyhN5UrYzxtcHVS+lrPcoY+UK1fCdu5jyAWTL+UC8+UA+mwsW0Q1z3+TmoLJl5S1+kdHTAKoR52O\n",
       "Me+OT/r+jEUkeBqsDASTryXs5OhHn/XIgueVZ6QCiFlvG08RrLN15BRuv5uI/mDydSfreZ1FmxfR\n",
       "hFETA0JOnJTxDqEIwlgLubhTweTrZtYJKKINcsdkiOKpJXjzpSNoE4s8SGMuiHyJl9lZk6F8AdQk\n",
       "/fnSEX58bdOCyFeIXR6jaaqPyKqlSvGFEUrzwnoTR+3XXyagKh1EvqK1zJeqJLX3cbURQqofXxSh\n",
       "zNKqckxwbZecCSJfVewa2IXXyl6A1u4NsJXOmy7MBd7I/7EdithyB9Sg6CCc5y4JRcoXIfOED1/+\n",
       "gCHWuljfqRVv5gF01nU0a5QvaRX20bBqPWd0Vqomog1mYX81xXWEz1K+DuHdPz58+QOGmvvFuqU/\n",
       "gC0eIvq4h6OLzN1OFwE+5K8k/ZSvTdhRyfrw5Q8YatF2t8VD+iSZF+aMI36VW9cSlr9WhBU9HvE2\n",
       "yGcoX9WI3kS3D1/+gCHWfrN0SVpH7fZag40p55Igu8OiDrMnpGG8xs/noHaO8qUc3Llzo5+99wcM\n",
       "sdZoZSOUetq35QsV90+c6deoR0LjvL4+nm9vX+27PvoCrrrFSgFSg8aKVrdPdZ+ozHz0Lx7jt+l8\n",
       "LbWmLJ8vAzBdqwhRAt3lS+G+sLolsHErxp6pXrOpO0Lna45dY8Xl38HoNMuXDkjU5Sty3ijZRkqm\n",
       "8cImoiR2qtl76tqp+tM6XxKEzInzcW8zfJ1QwyrLlw7gptGumq/FJXGy+dBKYjuvJ18JTTKt4etb\n",
       "VNibbErY9FEH1KiV5GtpaaBZqCiJrc5dB31cqfMVKzxohJpz8FBPz9t2vggAlA3NmLv6hZyr3z95\n",
       "jGGdhTEgua55dhpWOfjKeMhiBicYYxm+VGvQUpC+3DXjy7D3sPYRxAYJNYkd60l8stgeP2IAwM94\n",
       "MzZSWOFOCqjLJENZEzWqOybND4i1dr5iGQ9ZzOCX8Gg7ahrCcqVag3FTdRtTXre7tRxu4jmPzBo+\n",
       "4S507STUlIkr3AP5Xjtfu0hoPoks8tXoUUZU53p+0uxvmQcNTkDsg0woa+dLyHrIIoO03WPMoyxX\n",
       "Kh00EIa/yjGypGorlxehPOYeOmPwRVJlONQUn29vfxXxtVWy80VzaetpXi0H4rcu1WCyTtOhzQUI\n",
       "5yNJB19pL1k15qN9yHK7uVLxoP7AzAV+H4cvUrWtLk9RP3WzfsngS1GNUDNN55ew0M4XAeipnSXI\n",
       "j3SZErFouYwrENAJkFqqUna+SO2BK2uJ6ajOhWU4ZadhLE8qGTQZ1X/N8RFx1RaOlmesEkmveJsN\n",
       "Nb/H3WMAxzn5L3kAYutixSPIecQXvkmNrTM22xKFBBzdexyPwrNCEQOso2gjpVrpcZMvOQOmLBZK\n",
       "BpVpJ7CrZ1wFwhpSbafFgxSqmJ5hDacWhqu28EJ5fMm1LpN2keWLhppRFFYLL7dAhMOXkAFxlPzk\n",
       "feNVcuELusVbYEEOb7o7j+0/CJ9nJTwKcxsKGCCO0o/mUE9oe5Met9bHVWDKYqFkMN6Al0+4yzg1\n",
       "Wlt1qbbT4kEKDZtaKHGC5QP6+lJW+8M14y5w8qsNyH555FdxXiSuXxRWDCtjQXuR1CLcl3NRjQDi\n",
       "1pOBHcj40eMmX+PAksVCqcNF1NW89XFgSmVPSwYJtNqylO5aBanahtDVd0yE2Ei/OVWfhLcMne91\n",
       "WcEihy9u/Ehdwp9S5qtR5B5zjrVXggktqB/Jz6cA6zWq3fCEUKDHLb6iDF8slDpcIWQU4ppl8Uyp\n",
       "7GnJIIHutZ7qgPsesOFBzEJ+FoSKsMjbZgm10Gh8+dV5lGa6B81Xos5MfYiN09jEiGLEJN9oqC8c\n",
       "z1OAxiRM7j+sH7eYEhhZmiO3IqfjPwK8b5kCzZTKnhYPEqhsGS3xojs/gRPJUjfEumdANPvAFM97\n",
       "fS9cgHbjy1fOo9uSZfFVuRa2TSXvNhac086rhVSHV2k31FiRqlpAhhuwZzTPU4xalYR+a5nmZtYC\n",
       "V9+e6VazDOULhAFcZfTmC1pV8awnX69BIPlqdTmspGqL9BGQuo0GP75mQKhWr9m6YQF930RyOWBV\n",
       "Sd3eI+LW+PK1BkH0mq3L3ocC+j6Te4EkVVv8Tlc4LVwmfJESrb1gS+q4d0OrptdsUazlYD0dTL7g\n",
       "VpeG6t42yG31F+j8wiVaq2BLOjjf1Fk3M6fXbOFPZ5AQ0Pcxbe/7kkaqtjQeQhaM8BV3ZxX36BZM\n",
       "r9nKznhAf3EueHxV2w2YXrXF8fYyoprYsUq4f4Yi0EhB/teo2Trj7fjIoPIVs1+yUbWN5uAlQMHe\n",
       "O6+0sSVaMxZC/EhaNKkH0q58TnD/r+DwzI2qrZyF2fUpWxhhg2EbVzfZ/O6sMD4MgeUrnOYOl5WP\n",
       "VhzZRSU7SL6G4//52iovctD/5xuO/xcNt1Raovw43fddOf0/xkBX5RQO8K8AAAAASUVORK5CYII=\n",
       "\" style=\"display:inline;vertical-align:middle;\" /></a></dd>"
      ],
      "text/plain": [
       "<IPython.core.display.HTML object>"
      ]
     },
     "metadata": {},
     "output_type": "display_data"
    },
    {
     "data": {
      "text/html": [
       "<dt><a class=\"ProveItLink\" href=\"../core_expr_types/conditionals/_theory_nbs_/axioms.ipynb#true_condition_reduction\">proveit.core_expr_types.conditionals.true_condition_reduction</a></dt><dd><a class=\"ProveItLink\" href=\"../core_expr_types/conditionals/__pv_it/axioms/051785b9752a0fb83d3b0433f9676c4b4c0904fd0/expr.ipynb\"><img src=\"data:image/png;base64,iVBORw0KGgoAAAANSUhEUgAAAKAAAAAVBAMAAAAz5vjYAAAAMFBMVEX///8QEBCIiIhmZma6urrM\n",
       "zMxUVFQiIiJERETc3Nzu7u6qqqp2dnaYmJgyMjIAAAAcRTyBAAAAAXRSTlMAQObYZgAAAgJJREFU\n",
       "OMtjYMAOLl9goBrgBJq17gBZWrknMDA8ADHuIouuAOL7yBbIMjCwJDUAWeblIFCGx8RMBobTIPoV\n",
       "suBLID6OxGf9w8AQuOQLhLMJvxPXMTDMALmhAUmM1wDNQBCwgDEIGMijwMC3AEhtQBJjn4DFwGQi\n",
       "DeQSYOA9tWrVdGQxMAfZQM5Q4g1keMLA8KOjowZZSBlmIKeNkRSIPeMbQ7CgMUEDJx9WBHr2MAND\n",
       "KgNDJ7JEL4jIA2LHCXwfwCLPGBjSsLvw3DsQeAxiskgyvAdS9xgYnBm4HiArqgalJ1FgcMgyMEMi\n",
       "qw2ngUhg4QVwzG0HRgIDE0quEAEmlHZgxDD/YmBXIN5A+wUMRUAqHhjFF9gZ0AxkYAG6kLGBYX0A\n",
       "8QZKMHB9hRjI+SAMyFis9hTJywwZDAzrDzDsZyBgICQMn4HSyx8GblCIuwNxZwqQX8r6CzlSgLG8\n",
       "fgNDHihvEudCrt8MbA92giOFYXMBMMAMWAugUoehBnIo8JbxgEU6wAjVwPUP0ExsYrieACxRbIBM\n",
       "fmDQM25gSoDKuEMN5EpSnaYCYof9z5r2vxcq6wvLTwloBi5TikxyYGAABRwvMD2un8BxawGerEcs\n",
       "4IL5k3FCvC9y4XCQTAN5FKAMlqRNtjDBTrTykBSwDpsgqIDlI6/ERs3EyFUAw2ay6hTeCQwAbxaM\n",
       "TLGnqskAAAAASUVORK5CYII=\n",
       "\" style=\"display:inline;vertical-align:middle;\" /></a></dd>"
      ],
      "text/plain": [
       "<IPython.core.display.HTML object>"
      ]
     },
     "metadata": {},
     "output_type": "display_data"
    },
    {
     "data": {
      "text/html": [
       "<dt><a class=\"ProveItLink\" href=\"../core_expr_types/conditionals/_theory_nbs_/axioms.ipynb#condition__as__condition_eq_true\">proveit.core_expr_types.conditionals.condition__as__condition_eq_true</a></dt><dd><a class=\"ProveItLink\" href=\"../core_expr_types/conditionals/__pv_it/axioms/6b14be0fc831f4c44a3fdd13423b085f378d5ede0/expr.ipynb\"><img src=\"data:image/png;base64,iVBORw0KGgoAAAANSUhEUgAAAO4AAAAyBAMAAACpPPpFAAAAMFBMVEX///8QEBCIiIhmZma6urrM\n",
       "zMxUVFQiIiJERETc3Nzu7u6qqqp2dnaYmJgyMjIAAAAcRTyBAAAAAXRSTlMAQObYZgAABJlJREFU\n",
       "WMO9WF1sFFUUPvsz293Zma2GIFLArBXQN9afEB9aCiEhvABLjBV92bUIMY2hRaVggrJKAm0CYRoC\n",
       "9K1bMCSSaFd58qmLNTEBtGt8MGpMIWAfCCkb+2Ndius9d3a6O+X+ZWg52Z25s+fO/faen++cGQCx\n",
       "fA8LLXpaYZKR56p+KXgE3q4wZy1X81Xe64bNG9Ip0Se4qtGacWQVQLAtY5vxuevNklVPSHEHNnJV\n",
       "P9SMtVmAnZ9P2r8nIZTxvGpFjoISLsqrFfMTI+orPVuxMqGkjrvbPt3MkkOHZN3DEn1dQg038rqD\n",
       "azzA44glXndIoh+1xLiRppcacNw3Da89+TKO+jvx2LLR+35QDgl0+8h3kxUr0osxgL10MBLH46mk\n",
       "JJNKQrU2KXD9UhI/qyBgh+4xB/cIRSzLKOtvoTrAjzvtOHFBoAR1cTduGcMqOi3Lk3Gh1idg0iDZ\n",
       "ry8Dg0k37n7qvpIMd50wsFIiBn4XYDAPQ+DGfZuuGpfh9hc8/ysSz4M52Be1XLip7Pk12oSUB33C\n",
       "mvQpiHHDcbPLoBfd9EPEHy8Yo3bF0P/j3xzuBFoc/mRqn5bg6m1rzq7GcWu5/Wz5JP35rfee7wHb\n",
       "6V2C8lqEa3i+w4z2CQkuW0JJ05KWwinoQ95hFhBNmGVXuDZMbJX6lywdIxln5JjUcF/IodysL0/J\n",
       "e50JMK9eunSOZwyBxHj9hrY/J+85CLPMdHez65L/X+Gtl732VygzAHsAemrAmoazTtCVYNHkGYDN\n",
       "oFcbrcht0BocRy0i7jLCpuCvWqyXpMB6JyGKi4dLeNwo1FWvPybfnx8PbuRGKxlcWPsXehcr3zqZ\n",
       "nc3mR8Y9SL4975CEOqAhSgz5eoMTV5x41u8uSFzBZdITBRIadkb1mJROF+rn5K9Za/9eEhtbXrDH\n",
       "55uG5+dW4CCVh8rPUwhGyqUv50edjwxNp8swOW2O0Vlbo/MkAXbQPs44QKvyQ7THqsZI/SZJ2EEr\n",
       "/Ds5hdJf5nqdZjCqgot7qjygYPMykFfC1WedQmyltkFfVl8a/+P2HOE9UMMN2V1prIGdAyzcuZIT\n",
       "bPumGXbm4MKJvWDVGkOGeybp4I4U2LHIwp1XcpDQWyNzsfGJAPf08LPIp5FTae3FJQgc+YfafFIJ\n",
       "1/33aK/Uf9PhZ2ipqn4aR7ll25XQanA53LOtmyZBQZeipgtjDhh08niCj+t2h0nv/LBaYrPM/X5N\n",
       "2piBQuUBMOzg1tGsq1fzr0/4pJpiFtJdH6EpsvC+G7eesttQWgm3P+6h29yUxJZPn5q3X5r2R7JK\n",
       "uOK+PVCc598x2zkZzL9o0Y0bQlw/dXLFv2k+7nEhiQYnefGs3yfR9a0LVyvpjclUQo2vxM9l8AE3\n",
       "jz6DX9OUmsIZ/KA0mvDjLPBxa/p4v6SjYAc04l5sfLMN+VTrmP6iY4ZmvHbxu0OWxrCawwddio8p\n",
       "RJ9X4cmq7IHflKqg7D0D+72KwX0sPhrMKOHe8jTB5PY/LeWkCmy0QTajl7kOt994Y4XSduXvzaJM\n",
       "V0Yfsb/aLZ+yfhF6SVMhCELxhcdVeQ8Mryw4rN6Ox/8BngI3ytgo6IUAAAAASUVORK5CYII=\n",
       "\" style=\"display:inline;vertical-align:middle;\" /></a></dd>"
      ],
      "text/plain": [
       "<IPython.core.display.HTML object>"
      ]
     },
     "metadata": {},
     "output_type": "display_data"
    },
    {
     "data": {
      "text/html": [
       "<dt><a class=\"ProveItLink\" href=\"../core_expr_types/conditionals/_theory_nbs_/axioms.ipynb#conditional_substitution\">proveit.core_expr_types.conditionals.conditional_substitution</a></dt><dd><a class=\"ProveItLink\" href=\"../core_expr_types/conditionals/__pv_it/axioms/b5033b637c04a6e065aea5c8069bece0de2d72e50/expr.ipynb\"><img src=\"data:image/png;base64,iVBORw0KGgoAAAANSUhEUgAAAScAAAAyBAMAAADsGADuAAAAMFBMVEX///8QEBCIiIhmZma6urrM\n",
       "zMxUVFQiIiJERETc3Nzu7u6qqqp2dnaYmJgyMjIAAAAcRTyBAAAAAXRSTlMAQObYZgAABYZJREFU\n",
       "WMO9mWtoHFUUgM8+Zh+zr4pWa62wJhjFB1lpkf5omwWh9I+4RUxRxF1TDUVqk6otpahdFewG1G4Q\n",
       "a/51TCTogmZrRegPyWqEig+y4g/rMymtghViSJPYJo3ruffO886dpKszXjaze4Z7Zr6559zzmAC4\n",
       "Pz7796rD4NGI1yzit/UmdIOTHkG1WaT3a00p/+INU2yVRZwwC/24altvZb8HN40J1jBS8wTqraxF\n",
       "PGUW8jWQ1t5HJ8T3Aeyya8vXeAL1EjhD4QgU2c2nCL9gWY57Yr2F5aFCGfqVXEt+T9v1w17YL5xZ\n",
       "BuqNnAY1TvwpfknwUJc8gJooC6BeH7tJwa/okYJ019WEKvoXNeWs4AJPewB1gJP3kOhzPfzJjFaA\n",
       "UIG6+QzdanOip1JcZ5K4h4+tJg5dh41sw2tQYYqTEvgUjKRdhwpYo5R0mFizQ4GnrFApuh1GC4Ir\n",
       "JN0P6j7uPkGyUmtAnuNWirIfElnK776n5/kojQFSvgyxaStUiED5Z0RXiC65DtXObT6y++RFCE2e\n",
       "tEBJC3JLLp8RXuJa16FeADsUvAjfFWhMjBTJh4yWBHx9mcX2vzmNwwDUrX52DWqNCGq45cEukvCk\n",
       "nvl3ey5SA0vDnx4oS3TGfk5jHOBL8n3eLSb5gghKPB6H78XhNwcDxLeKroUpm+9+4py5g+Lb5tOQ\n",
       "xG0Zr7qWjhdtz+04t6ORE54fyUDii0rlTddcKmFLHEnHrL/jBvH5FO7Pi6XSs65BCSLfiXqT10gV\n",
       "ib9BX5NqUU42zBBfcCEpYEC4B2Q92wSn1AfeNMYyQJaT2TBbhKh8aKQ+N6B6MQ2B31jgMbYS57CU\n",
       "pr+KnMyKR0vURpWAfkJUSzZdJmIKitfDxok/WNOBN7nbBGXIdDxsuQaqyAW3oaKTncYJ5qfP4d83\n",
       "JihD/phFPfMgKr+vaL4mWtIwmg/6HsPDUNuvNPa1oe/4SQpvN6BMMrVcrzYdNJU7dUd3qDuaaUmJ\n",
       "o8MJvIm8TyLP6D/oz9CiFWCLAaXKn5dKpdewLYv2sum7UC7VqcpHekiYc6jc8e+d65iD3oi7o0tt\n",
       "tFq/2iwuyVJYfwYyElm0SDqBmCnyWOsMKJMM/g2A2UGdDprKNj14zoqhaAY8y5YWi4Ptb7N5p7C7\n",
       "seWaFKloEmgxX9VP+HzZAH75kDKxyoAyySB3K8GCNh00lUf0NLMclJGCNqpGxRWQ19nSjGbqkXLk\n",
       "B2RLKT5Mg6HCe9X+rAGlyq3rcexUQCqy6XumcNSpylY9IS85QwWNTbCTfZ0hwa9HkJDV5y3n74UB\n",
       "JaycxqO8Ov3jOTCgVFmuVCqDqCD3sunqXkEV+Em/4gVnqDizePQBDSpOn2Ccr1VHtfIg2PXBZthe\n",
       "lXbX8AhDr3RD2RQSDPkoORxk09W1QRXYoF/xeWeoZFcrud3APNx/1Xpy8hil7MjyRZ6VsqofO6N1\n",
       "E5Qh0/m32+5pdEUdRhqcoiOjt6Qj52UaMH4D6GZ3p3Y6whcwVnvGyvrx2BnFAqXJbMPZqqj6Cv0t\n",
       "bUlHFaAl4Msa1CGK01i+ok4Yx8gzYIHSZGZrPjoPmbxUVC+ylnQL6bXMUA3yALF5vgSZWSm6ipug\n",
       "k5x8m3MzampJz0Jw0QK1l26UBe+b0cA051MFrSWFJTUz6lCP0kaRf3UQ6XUdKjjruPtmyYsOM1Re\n",
       "GbxZssWQlPsvOBxeLxGoJ9U3jyX6IYZK1+MTNb4jbXf/VZDD9iNQQ3fQhepsPHG08So9+9DuW/rU\n",
       "Wnq/h107enrNMfcJRiiXKP8PrxdjwjLPqSWNZLbxLVnGAyi1QLnCljTQ4Auw44oXUP2ivtepJZX2\n",
       "csHWo5f7MWGcudKWNOSJ9Sx9T/PjtDdMEPoP0c+zf62ZqqumxzB1838AHvGTItfdHA4AAAAASUVO\n",
       "RK5CYII=\n",
       "\" style=\"display:inline;vertical-align:middle;\" /></a></dd>"
      ],
      "text/plain": [
       "<IPython.core.display.HTML object>"
      ]
     },
     "metadata": {},
     "output_type": "display_data"
    },
    {
     "data": {
      "text/html": [
       "<dt><a class=\"ProveItLink\" href=\"../core_expr_types/lambda_maps/_theory_nbs_/axioms.ipynb#lambda_substitution\">proveit.core_expr_types.lambda_maps.lambda_substitution</a></dt><dd><a class=\"ProveItLink\" href=\"../core_expr_types/lambda_maps/__pv_it/axioms/14fc7e5af1dc82af9b2373fb82410a18db5c0e870/expr.ipynb\"><img src=\"data:image/png;base64,iVBORw0KGgoAAAANSUhEUgAAAjwAAABMCAMAAABebJ1AAAAANlBMVEX///8oKCgNDQ0QEBCIiIhm\n",
       "Zma6urrMzMxUVFQiIiJERETc3Nzu7u6qqqp2dnaYmJgyMjIAAABRfbn9AAAAAXRSTlMAQObYZgAA\n",
       "DBZJREFUeNrtXYuurSgMdUYQVJ7//7PjCwUExSIektkk97pjhFNk0ZbSJU3zQiF6KTSrEUyaX6mx\n",
       "jKdx7dfxfqd5ojGaCs9pA6nfMFVaqPBuyHm06WvgGSto4lcKFdZ2gbu8HvD0wldEqowZG2XqzRcK\n",
       "H9+R70VRtqtUfZdcV7asZvCI3r8xde0wZPK1N8oG6zdGePRvvqzxxwz5yohiriIdPI2iFYNn1DIA\n",
       "HrE7UYq99QrVaNtyrrl/82WNrzLkKyOKuT4BT6dJveAZ2iYAntHMwvG16Six9TZ1xzr/5ttFILB8\n",
       "pUTZrk/A0yhVLXjISfGsXTMKR/C3XmA/BnrfF/TVWQuWr5Qo2zUMnmGMqB5eK3jOimftmhRsLmP/\n",
       "mrfcB/ys95oPztkOKl8xUdZrGDwkouRVXyl4Ri3C4Gn0MJdevPX6ELYMRNtj7NwcscCozXGvAi2I\n",
       "BEPEMUJ8+EyU9RoxWxHDKXVXJ3hwoPraNUouVClExdnmUSP3ZtdOf0fpywl441daLRgcyMNbEMoq\n",
       "1hiJYZ5A+DNR1qsFHtxbRQfRw/RQJ3h0YEmydq3DkBXLhUvBbX1HnJusnUcOz++IYAyxH1YLUxsm\n",
       "rnLbEtezflicim9EWa9Rh5mrkIs5+GNcB3i4RjHwNHM30XthMztUund+u4mXMexXWboepEGtFo53\n",
       "cyvUApKl7jeirNf4aoupQEj5NEp1gIeGam9dE3IFUAHw7HHJ7eYyhmxTR6ARc1pIBs+61ET9d6Lc\n",
       "gGekIjScuq8RPDq0mt26NqqGbNFNhhFN27KIP2mbrYE6N9nitZs3Ahkxu4UOmdatlhyfhx6u6Pzy\n",
       "BvydKJ1vtrBySngwlTfIVYCHBz0007VhpOsv1pNNtzf0ehViPakuHOYWOTfZ4nRQtW7+wEbsaEE0\n",
       "mp0c5lj/G+PyfCTKyWF2PO2YvMizW1WAB2t+AR5u/MV5WU3m30TcLGH3J6eX6LeKrffbuTeH6d3I\n",
       "njbCmqRs9+X3Xxc/jhZGtvvJWNwO9DibbpYqyvnHU1HWaxg8LLoTRLx1TRXg6TW7AM++oG4niG0K\n",
       "uL8Gj/XkaVods7jT3k1GESIjRZ39YL//rZ7Gf2wP2S0MZpreW9qOIrE5YEminAV4KMp6DYOHxsX1\n",
       "sr9qAA8LujxH1yQ75ucgGbsFz/EkR6dl3BH+F0Pg5hllPCVQd36IaUY2G5oWgMLfibJdw+C5GEjl\n",
       "+t81gKfTwyV4dn0yTn+mk4fmGQcW/m9/knc4Ej/ltFHyKqi6q/qk4LYIxEq2m/cbo8S2oV+IAtkY\n",
       "Xf0LWRt4hBZJ4JmUO0fYAg+ZzROZA6n2f9x+MqCD12h1PziRRz+EPeJe0+UVs5RN8cBDbFvu3gc4\n",
       "xWy1B/ydKJCUjM1jprWBZwj6y5ddM2YrVJE7y67m1MqabCW3LDDnZqgkxScvHrrfWenoJAz/UJRh\n",
       "BIKncyM9NYCn1UEXDfUxT5Mgvb7sUI6ne4+is5vwaRqqrCcN1YiyXdGTNFTjPOnawKM1dO9YQqfn\n",
       "r7wxVBWAZ3yL/vMrxUvrpGVUAJ5Ot7l//bHx/l8WRrObUM5yqwLwSJ2bcCHEDxlJ0zQ7s4U6C+MK\n",
       "wCN0ZnI7oj9cJM7TXPRgZ61eAXhwJsOdn6zeThcssW7h0I4WFCaZvzdk6mh3os/geYNZZ8ADaGvI\n",
       "A0+ACWtcoCViwoY2Kx3oVP8Ri29nFRYWJtHrC9OGn4BHeeB5g1lnwANoS+ksptKAo/7zlpaiMplQ\n",
       "Xv1HObE7q7CwMKlLBp63OEFOlHAGzxvMOgMeQFtK5+hSHggSbW/S7BLpTM6XX/8Bi29nFZYWJnm9\n",
       "mcdDkSfwvMGs232e5231WeDpcXTlvu1PdzqPqXyqH2XxofEM7V3OssIkg4dnpXxKJ6yy9O4FZt0O\n",
       "nudt9Rrl9Caa/WxEEJkZ0Of6MRYfx9G6pYVJj3T1OXaTOwHdLQMym1l3rLYet9XqjGVIH7KO65s0\n",
       "XCVFkb3v+NzLONW3shHdP++N7MEqLC5MOnhkju4LgSedWSduweO3hYUsBx6iuyh4tmxlpidLuqSH\n",
       "wchzVv0Ai8+FC/f/gHazpMsJY4EnRizcm8hQ9F0APA6zDl3pNXwLHo+lJxC6UUI6w4fEFzmIG09i\n",
       "I9QhKHlurx9k8XktosGZ1jursLgwDzZolMoCDzt5dDazjjgKiPR4Fgy19BI87Eh+dFl69yx/OsA/\n",
       "ANbSOHgMfU41hogCI88d9Y+Zsv/89x+Xs6IjO4elhXkAHpThMo+DrS/HdUYEmHWMCzwn402qWEzA\n",
       "wOxa81ipwU5b9xY2Q/OQsMVzwLNo7vX7IKDxsuoHwOMlU3dupPdwb0sL8wA8Y5ab4GietQsWs874\n",
       "VQMfl1xzLtEMGTG7ZpOunf7xS7PltCUHjXdR5WTCaAg84M5EJpFjtpbWV+4taLz2+kEWn9si8SKj\n",
       "w0FuKCxMzOehyeoaAp5tEu3Muk2qI3GcE05GZDzle5/HamtBzzHSNBgOznGYh3DExXGYZzuykv6B\n",
       "42XqB1l8bos+03JnFRYX5klSygAPF4QcZotZt0l1vB5OJrMlyQPwcMsXxPjQljMfhr8a52mHC/Bs\n",
       "C2oqd8xGyXNXfDpTP8zic3DvUzUOVmFxYZ6AR+iXwWMWlZtUDNvgmRBlQhsp4GksNBzsXtlHPCA4\n",
       "eFhkV0zYVDmGkQkWxMlzVzy+vf4ti8//gv3BKiwuzBPwSE1eBo80w7pIRfol1Df/nsEzSqOfk8Aj\n",
       "D4i0u5yCzryYkBMI3p4gEdi52xONP4JA8txTFp/DKiwtzBPwELiq787bEwGpqKN5mo5sf4+kgMdp\n",
       "rdmIeHxqkoZctQG8q84j6zRvY9RfHQDJcw9YfMvjDquwtDBPwMPgaQzyGjybVGJHiVy/NSvu0BwE\n",
       "zzq9FiJeM2lcJV8FT0z/Ht/XcJaomeS5dBbfqmpcVmFhYR5lccMTqM4pGUGpjGvb9WuYj4LAY+Yb\n",
       "942YHSQE9yUW7nKSwUJSJSEzulhJi7F5rMLCwjwDDzj15pwMFhmZzedJtaOBV6rkxvbl43LqDg/O\n",
       "WQzui4hEIHe6YInMT1lTGiqMv9eCNyjwKQ31jRIEjzDfqJBz6HCaiiysPwZwV1jzK4AIBzjQQx0X\n",
       "o4IEeA6m3tAfWxBUenAu6lAb9YaASX8/8HwNHuWsbysADwPTjX9mCwgesNlyv0lRx4cOgHXF72xA\n",
       "GAQUfJ5X9qGDptdAMhFKiLPXSAD8a/ofeFud1PeJFQrdVpcJqLuL+eQVCul1WVESIj4ZUVlVG3gQ\n",
       "tDP8AXjKnJ8HOhSjrCj34GHgzUThjlQN4CHQtTpJUFmxfa6Xini+x1hYlHvwwDdGvQ8AVvEdZvBy\n",
       "K0FlxXbY35rv6QTA3cUrK8o9eDg479f7YHYV4FHQyr1KBE+58/PSCYDGWy4syj14wItU/4PZVYBH\n",
       "QD1mrBPBc9CJBEIo57h2v34qAfB8lF8hUe7BA46tcm8LuwrwdNB99QT2o5PPPE37SWMPs76CnZ53\n",
       "1H9IADwf5VdKlHvwtNDVHvXsXR1HJrUa+ld5GnjMQUkLC5pyKOdur/+UAHg+yq+YKLfgGcH+sj9M\n",
       "dYAHQ7Nq78NdLgHw0FQZp+d5Hd9/XhAAY0f5FRDlFjxg0t/oG4g6wNNBIw/3To8DHkthw0/Pi4In\n",
       "TgCMHeVXQpRb8ICZN8jX85UcUNu2UNR1SeCxz8+Dj9hR/yEBMHaUXwlRbsEDtlqqbaoED4Jub91+\n",
       "bcYlAK4XMNt3r/+QAHg+yq+cKHfgQdBUhPFkHioBT1NsveUQAPH8V9hCrwKdnmfqPyUABo7yuxAl\n",
       "6UzBqCh34AHvip69rFrAI6DzoRUp4DGTWwgp3eOmH52ed9R/SAA8H+V3JUrKmYJRUW7Aw+ERQtpU\n",
       "Ch7wZh2/QV0tBMCLo/w+pf+Bv8YaWKTVAh64Kb55G1UQAK+P8vuS/sdbaPJlGziBsBbw3NqfqB/X\n",
       "kgTw/CkB8PIov0/pf/CPeIecy3rAw6Gqh/cp4PlLAmDiUX4f0P8o1GgFv2RYD3gaCqZvXa0faiQA\n",
       "/hn9T4JzGKlqqgbPvuvzvGeo+ZUUDQhminbB4X0PPEvJOoKEgJ05/DusLcX0UDBT6aTO+nW8XxIM\n",
       "LSVvELsfk6ZS2J1sglzHu/kPimevfflAHWYAAAAASUVORK5CYII=\n",
       "\" style=\"display:inline;vertical-align:middle;\" /></a></dd>"
      ],
      "text/plain": [
       "<IPython.core.display.HTML object>"
      ]
     },
     "metadata": {},
     "output_type": "display_data"
    },
    {
     "data": {
      "text/html": [
       "<dt><a class=\"ProveItLink\" href=\"../core_expr_types/tuples/_theory_nbs_/axioms.ipynb#tuple_len_0\">proveit.core_expr_types.tuples.tuple_len_0</a></dt><dd><a class=\"ProveItLink\" href=\"../core_expr_types/tuples/__pv_it/axioms/cad25824d522c677f1203a28056fea2953be2a6b0/expr.ipynb\"><img src=\"data:image/png;base64,iVBORw0KGgoAAAANSUhEUgAAAD8AAAAVBAMAAAADRiu8AAAAMFBMVEX///9UVFQQEBCqqqoiIiJm\n",
       "ZmYyMjJERESYmJjc3NyIiIi6urp2dnbu7u7MzMwAAAADGpxCAAAAAXRSTlMAQObYZgAAAN1JREFU\n",
       "KM9jeMsAB0hMJHAaiDkbmCdAmdgVXGdgkMSm4FTPA4hoJgPDNSwK2Ax4PcGiHAEMDDwLMBU0MTAc\n",
       "A4uyAB3Aq4CpoJCBwf4CSHQKiJeNqeAjA8N+A5DoUhDvKIYC3q9ABQtAohUgbhtUwbE0EEgFef4P\n",
       "A8N7sAJnkIQJhgmcQBPeHwCJaoO47/FYgUMByJH2BnArtqC4IRHELGdg6L+A4UhsAXUUxIvBVMBi\n",
       "wKsHFt0C4uVhKuA9tfABIqgd8EQ3rshCpIdK7NGNkmAqcSpYB05yHBOgTAwAAKtiVVg5HIChAAAA\n",
       "AElFTkSuQmCC\n",
       "\" style=\"display:inline;vertical-align:middle;\" /></a></dd>"
      ],
      "text/plain": [
       "<IPython.core.display.HTML object>"
      ]
     },
     "metadata": {},
     "output_type": "display_data"
    },
    {
     "data": {
      "text/html": [
       "<dt><a class=\"ProveItLink\" href=\"../core_expr_types/tuples/_theory_nbs_/axioms.ipynb#tuple_len_incr\">proveit.core_expr_types.tuples.tuple_len_incr</a></dt><dd><a class=\"ProveItLink\" href=\"../core_expr_types/tuples/__pv_it/axioms/000f3e451cfa51382e293a2f95fe2bb9433967c90/expr.ipynb\"><img src=\"data:image/png;base64,iVBORw0KGgoAAAANSUhEUgAAAYgAAAAWBAMAAAAodhaSAAAAMFBMVEX///8QEBCIiIhmZma6urrM\n",
       "zMxUVFQiIiJERETc3Nzu7u6qqqp2dnaYmJgyMjIAAAAcRTyBAAAAAXRSTlMAQObYZgAABGJJREFU\n",
       "WMPNV29oHEUUf8ndZu/29i5+EKQGMRoTC0oNKeiXtLQVzCcxreA/CglH/VBp64m11ih6tF9ySuGo\n",
       "YEKhMFrUkGJvrYSoYHtw64dWkAP9IGLbgzaFVghS+8Gmrfjezsze5HZmkyt+6IPZe3Pvvd33m/fm\n",
       "zRuA/5deuQveoNK6hXYt0nXwJdM+ZcrBjx8RHDXr0zi/Fxo0P6dT8mNkepqRLsy0C2DmPnzs1INw\n",
       "igBdRY3RTjF8+ImmV/UgzDI9XZEuXGk7DBdxnNCDyOFqd7WG9mvG9U8EFtMU/aIehFmmpeygcIGY\n",
       "NukmDrdXC+IXhT8pgrPrdcb1afiQo5mnB2GWackuCxfscrsYkkvk2j1aEO9EQQBcYFyfhg/Zs7Oz\n",
       "U6AHYZZpaUq6MNV2INwCPS/pQKQLJhCB/qXA4p/JyfcMIMwyLfVJF4hJDw/dH1/KVIVcvg8jXtOB\n",
       "6MTc/GxIC6LGB1q8ClDiqlEQXLZCJixK7pB0gZjN5dxfAC+Z7bhCH59Urjo3sFiGIH5eJKLdDinc\n",
       "09XNWhDn+UCLp8HBUmrxNLbe9OGh8RAEl61ANcm8K11AxnkAEkV4/imjFVeAl/nsNINrAPO6SNge\n",
       "pL2NWhDzfKCFDZ2ifh2vbYBvXZZgIYimLIb+lMy90gVkEktgY+EYMVoJBUEbwbkFMKYD0bEJHEIY\n",
       "hOeNxcXLTRBjfKCFW7dFhfzoCIMfegfdZjqFsji6oQPRUYTKaBwIoRAeE8mbZhCQWdJGogki3XgB\n",
       "E3uAcgdpbu6wAiKQwbGBaAPiDO0RLljXBlg0nSpVOA1xILjCFpG6tykyXFvZE5dFOkFqXAtihA+y\n",
       "KO3AJe9mvMmYc7/a3gQRyJy3LPzAa8t9+HJ0jEEuqB4TsiioG7viwR5sbGJABApVscTX4dO6urEV\n",
       "oo1d8arxGxu+wUJ8ZB6cwJU5qNYUECRLDFoF2N5SL9fDiwgv+EhvttHc4b5g8N99brBOzr/kckMw\n",
       "4SxQSB8v8H92w0F8DutAuOjXc7KjDEE8wYT+MLfopv11AKz9k5MHEMRRWwFBsg6vE6M5sfzVPTAQ\n",
       "5mxCBHtEukCu5/s/eYT/9TZ+zyaVfSAe9oRUSPVy+bHHycsFHYgkrmPXuZZ0evLBi3Wuv8AtsnSC\n",
       "L43COI9EcpsCgmSVcup31gICq/qh2czDxHazDs/YdhCIDIvk0vdhUn2uyJ3C6tsOqU9DWmQaVfiR\n",
       "mF8B/lBABEtdHnuWIpH+EKaZfKyxrtczWAqmmc1+MzeAVMnd6IaoSuaUq8hX0QDOLku0sAGUbWEZ\n",
       "Urigyfc3QVcLiGT+5AYCYfXA1rK1hh498MxjfXU60Ld61q7QpZI0ksf8xx/ksWeIlrbwgPjijCI3\n",
       "tOIpUzvZbMUVWot7YnnboRCmU6Z5qRLhxBLurXgpih6XWdDKS+ZLkZZKYvgxh9ij6umw7W8Pvgtn\n",
       "gsszeacMr6f9d349zfJX9a/2ekr6NNbtbecrdQ2XhbuA/gPNon1mxoL+PAAAAABJRU5ErkJggg==\n",
       "\" style=\"display:inline;vertical-align:middle;\" /></a></dd>"
      ],
      "text/plain": [
       "<IPython.core.display.HTML object>"
      ]
     },
     "metadata": {},
     "output_type": "display_data"
    },
    {
     "data": {
      "text/html": [
       "<dt><a class=\"ProveItLink\" href=\"../core_expr_types/tuples/_theory_nbs_/axioms.ipynb#tuple_eq_def\">proveit.core_expr_types.tuples.tuple_eq_def</a></dt><dd><a class=\"ProveItLink\" href=\"../core_expr_types/tuples/__pv_it/axioms/4d096a565cc32c1aca11f46dd718c8fa5a9139870/expr.ipynb\"><img src=\"data:image/png;base64,iVBORw0KGgoAAAANSUhEUgAAAnMAAAAyBAMAAADFBUDdAAAAMFBMVEX///8QEBCIiIhmZma6urrM\n",
       "zMxUVFQiIiJERETc3Nzu7u6qqqp2dnaYmJgyMjIAAAAcRTyBAAAAAXRSTlMAQObYZgAACWVJREFU\n",
       "aN7dW2uIHFUWPj09Nd1d/QpsfERXGHs2uuhKyogPMJpWwfzSTFaICSjTDPGH66tRfCVBx/jDGSVu\n",
       "Y8DEiFIxmMQJpttHmJ0FTe/MLrKaYKOCD9Q0GAUVNITs4swY431V1a26p+sRZyjGC7em6tY551Z9\n",
       "c+8995yvGqBzSZw82YQ5KrkyzMuySzz+yZML/MQS48+Zc/UIB+cnctDdZn/05573h65/zp6gqzJP\n",
       "oYMvxV8tLuhewxpfEDVyydZwY6diB7Mll3QzXuj0hVjjEK/Ryp4zyOF21FjEsuYPzM7t4R49LujS\n",
       "BtJYqPEasXxF6j7UWNQyw+zsCzdh4oLuAOZ+PhQ18gsTh9eLGYvqAaaZHdWWu6SasUJ3H9b4sKiR\n",
       "X5jMogWYsaj7pSqzoy8IWBCn4oQuP4U0Zqq8Rn9hUo4gxqKWgsHtHAn1f48JuhS2hncZvMKWyXP9\n",
       "t5OZZUvPcl54sK8BMIkYA5go+b+BfH/LxICwMxnw9IfNGKEbwEKJdIvX7kXwI3kyHw95Ta1wFKCP\n",
       "X9S/06fEbiv3AyuGMAZbG+k2rOlsh90XZkivfze5Ha8tb6n3xgjdxehQbPC6owVXgHZJ5xmnnwNJ\n",
       "Auxa2+McAxhDjMFG6GncdHnnx6D3LTOk16uB2xkLmtjtGKE7He2tzOtyE+4lo6AzdMlpSDle8GrQ\n",
       "fybjGDGWpA4EVvjZcQrpdSNwOwNBkdBUfNBpJ/ygOxP0//lClxiCer+0reuewaFLDPlDl5DXBNLr\n",
       "8ZDQZU7EB13XlM+EJWMoe9QXunoTDgBcK6LgE2z0rJDWp4owVm/6Q8fuCzOiVybttYVPmnigS6O9\n",
       "Cjehz0BPe9wXugbcna01xXQ7TpcpOyiXjRVJbfhAx+4LM6JXx034lSfigy6Bes+cwesm+LjSZNDp\n",
       "v1Cg2t6TdG/+gVxmb5Vf3QWPk+MyxFiyAjv7KXSqHXag99daZnivzM6yoOd/X0DH3MUXnaArsB1s\n",
       "a3ahqxtoWFDldVdp7WCZj7oHyXYhRefMAyBOaIs+uPjZPxEA+dXOv9Cn+xoxBge/6OXTT7WTWi/u\n",
       "W2Z4r8zO10HPf7ifQ/cevfiuE3Q56uQL5ixv6/Ao0RWIsXfPKh07LfWXpSu92jEQW4HagX9iZpgd\n",
       "vRrq+Ql026jPGOoEHbuzbbaD/wba7Ar/s/QFcuqsts/ezklXPuH/GGoHmpiZUOG/mDUEOjqkco2O\n",
       "ax0dj+/NMnSH8TU0XeOVbQAu/z95g5cUGadl13+lq32oMRZfPTqI2dF7MTOhkk7Ev1Q4dPl3R0e3\n",
       "dnYTn4+OvlKdZeiW4Lk0NdWprrEt/GrEP9Wp2snjRkdQWwp0Q8LD/jQ8vLEzdMXh4Seaswzd+x3W\n",
       "zlNOsOdnKcFO7eSDc6SJtoDuNgZ0l4FD19Nvj/3O5cZ2mAdb3u8EPfO6JKoCuutAJ2+ucXy0+/4N\n",
       "51Yk6LqNEJM/Z4Tak1gn98xv5CC1QECXgi4x2fdOXgX/yJlJU94SV+Gi4CRhI0yPb//uoMu1UmKm\n",
       "P7XdhLd6jZwrmjgEwV6iGIpDmYTfyYRNWRM2015N5uV5dOaSsn//M27oXtTI/NWX3q1uKHaeZ+27\n",
       "B0p/o38mSmo3dtvO0ve2m6jNb+hsNwEj68jQK5o8JNufe/UWF3TpZ0l8srt/wIQe92DR79dI6MyU\n",
       "zjdprjVVXuWVYW0FR1psTuR/Q6bl1LAFo5nD6zPt8fD6417xRMWC7g0y/raPgc7W+v3QnHRBl6Vp\n",
       "1kvgZtD+5YYlaWhEkbVtYtmGK0DzytA20IW0nWo4XJYk9kg1dEFo5j3RtHtqir7+GLI0aY8ZVNQl\n",
       "XjQs6Iq97O21h4aHNxHoXki5MyfHSD0byIROuWFJNOwPRxbCZUxIkWFtXmk4IEP3rVRDF8TpfxtN\n",
       "Wxf7qYykX8A2CsUGFdXb3kQfgy5PsxHT/VDho677r27oPiN3p2DzqBeWei39mfk6C2imGURTCHSk\n",
       "LVuypa2lUZobecOp4YsaZ0bRZ9oTYnNgOPpFbKOw0mSiE0j4L+Z/uwn/oScfkdhLzdct0o63KCyZ\n",
       "J2GbyQ7bzERt4AZ406Bt6/ND5HgEkgw6IZF5krdlr6NNRPpW14C3FsOaU8MXlWaOos+0d/DzNesd\n",
       "/ZWY53+Hi+7wpi9s6PQ7a5AmLd2PlKFHhe76C/sYdNrZsKqmLSKHVY3uwdevosEGaVt9kB63XHQB\n",
       "g25Vg0loi0TbbbSJSVuvKY3+rVKNUBSaeWtU7QJfNdaVHP13MNmvuGhBWmTYDsGdJf4zWet8ssQU\n",
       "lqx9xQf37m6rLWvLgD3uszwHVpaamMs46pz3SdVFTWPFEVBo5j6+E/LPa+dKi21tHgHp7ZSj/03p\n",
       "SqXDxTNO/tq1pY+SYNeWXCk5abE/6LnAahu3ZZytA78zaHp2E3mJxdssVU5N+3DODnet0MxUP4iy\n",
       "zmyAp1mwTrXzbOjnGiLhtpmm3816zW31mlp6movmpZlyZlTo3PmZvLethSR0WmiOB7QZ53yDUzk1\n",
       "7cM5S9y1QjNTG0GUdaoJd7BgfczKpZIoNNO29LPTfLPh7rDNRbPOxiVz7JSgm50iUdgLnSqoaV/O\n",
       "2eKuFa50YTBl7QSAVFtjq8YHLHMk9NuCf3R12OSimrPIxElhw3IUOkFN+3LOFneNQRdEWfOJ5oaO\n",
       "+NfVlj7Zp6xsKB2WFejS1RihW1nGJiynpv05Z4u7VmjmDcGUNf3AggXrTIbzRob1/ecGxsvScSlZ\n",
       "FU9kcXXW3qo3RuhSBuYmODXtB53DXSs08+ZgyhpOEKxosO64CQpb1nIzxTJZ25AOvW5iiRkjdJKL\n",
       "nXQqo6bB5pxV4tnmrhGaedJLWSO89WWgX7p9TGgn6RhdIyYt0+9peT9xFk9ERZNNz0od1wexf7TP\n",
       "VjiVU9M25+zwzexkvcxdqzQz1XJR1qo65A59QIN1rl2gL7eOqpaEvr70kHeK8yeiogUbi3g/iJU+\n",
       "w1YDsQDOmZHOKs1s6weo02Cdae+mV2zN1YICud2WuBz1xgWdk6NQw/8AzpmTzp3D/wB1GqzL4X+Y\n",
       "9IE7/H/NjBW6zGn26Qi46c8gzpmRzkjSaSScOg3W5aSTVx/zzK6kU9w/OZGiATTVGcA5Y++5J7w6\n",
       "1U7XQqdK5a8SiDMxYoYuWfktCfb8b0qwM+1Pw+t/6hL/BEJBN4c/6hyE+VnC/qhzDn9KnCzPT+h2\n",
       "8cFEf0r8Kww8GRlZFO+lAAAAAElFTkSuQmCC\n",
       "\" style=\"display:inline;vertical-align:middle;\" /></a></dd>"
      ],
      "text/plain": [
       "<IPython.core.display.HTML object>"
      ]
     },
     "metadata": {},
     "output_type": "display_data"
    },
    {
     "data": {
      "text/html": [
       "<dt><a class=\"ProveItLink\" href=\"../core_expr_types/tuples/_theory_nbs_/axioms.ipynb#empty_range_def\">proveit.core_expr_types.tuples.empty_range_def</a></dt><dd><a class=\"ProveItLink\" href=\"../core_expr_types/tuples/__pv_it/axioms/438c247a4da0fa76c97bce9ba29562d299db59eb0/expr.ipynb\"><img src=\"data:image/png;base64,iVBORw0KGgoAAAANSUhEUgAAAUkAAAAWBAMAAAC/C3MNAAAAMFBMVEX///8QEBCIiIhmZma6urrM\n",
       "zMxUVFQiIiJERETc3Nzu7u6qqqp2dnaYmJgyMjIAAAAcRTyBAAAAAXRSTlMAQObYZgAAA79JREFU\n",
       "SMfNV0toE1EUPW2SSTOTSYrgpm5CC9JltAspVqkIfhbadCPuzKKCQpGA4A8XoYK0gjiuLAVpjKLY\n",
       "RRsQlArSoFBBQQYF0UUlUnXhohQpohXE9583nWRaiIgP7uPe3PNuzr3vO8BfaTeFeBYsZ2PDSJsV\n",
       "EnRLT42aC02SNItcgNtdDtOMIk6GDpFAWB0wSEKGUy+q9Lyk9tcmWaYcLsDwXIVphovp0CESCDsP\n",
       "k5TKrNWLKj3jxEwUm2T5RgjMlTtCA5KZsOprQOCpkGBU4UmVSLxKkyzPC4G1LDVCpD1khA4EbgkJ\n",
       "RhUe+8XU1I0mSSYKXEi+SiPtU8gQHxCpfi6BqMrzY3T0YiiHNcs6FkS0ZrnA3nY6y7TydmI9axxT\n",
       "AVHuppyzXAJRlec4MEZ/7HOlB/hMu6jImmaUkxSLsPr9cUhrc7kA6QzXqnuI8SEkdQlEtoX0do0L\n",
       "8GqJtkUZVXn28u2V7KxSFrxwbJ228Xj0QLEkyR4yC71eWUWZ4xUuwGSOaYnKbmI8CmEpgLCdNOmt\n",
       "AhdfYxGlJ45WF3WWhWAZqwrTYPUlA+4G/rKlnwswxy0T34hyLISlABLkANm+sWUugajKk3TjbApK\n",
       "9VkaOd2kLFNOY5bPhWWtrsNSArm2PstE7Qid/2u7KImt7Ajp0macplDeqbNkpYdC+2b8srDa8kTZ\n",
       "H8JSAoFFETZa8NblFzXjyjM2RH97x3YKq2gkWvNY0lMqe1hnaeVxYpQ0Nynr7+2eTcKaqVTDd48E\n",
       "wvwFfffoc6nvHjxgSfTQboIt+PvJvMfyAAnkzOsso/KmmpDbQx0k5oqwBhLkL/pg/qY/0m6mpika\n",
       "kK+NSJWL/0jN6p40u8muMs+Il4VguY87Ty19XFpyGcuYSnpETr2cluiysIwFfp6dpdU+Q6cvL5UL\n",
       "0IGIFMRJp047aFE9j83mbTNLcZVB047H8ijtfvpqmSecSXMFWrshk0VoNyRdHYE9icfwAeO0YveE\n",
       "BG9Iv8ckhR8vWbVq4gowqO1xCom1S5MeXbacGoL2vzYeplxpiddGMrgi6RgFjJXowbn+a0Mr72DF\n",
       "HHZiW4BujWWcVKO1KMzEju8ZROTJStByoTtMzk0rizRqlIOPIbq+FHCyeglo9HJrc9Z67Ky8ciy1\n",
       "OvktSM+VjHcVkWXS8BX8uldZ4PeuG7zBaaeARpfrJVknqt+TepuT3wCzxsEOjSWKGLpe0lk+2dgX\n",
       "hb3xL4r3QoJuvyfZKdOEa8w7OstDGGbfBgmZYRb/U4uIPbKmJq2lf0/lDyC3MFmw9lfxAAAAAElF\n",
       "TkSuQmCC\n",
       "\" style=\"display:inline;vertical-align:middle;\" /></a></dd>"
      ],
      "text/plain": [
       "<IPython.core.display.HTML object>"
      ]
     },
     "metadata": {},
     "output_type": "display_data"
    },
    {
     "data": {
      "text/html": [
       "<dt><a class=\"ProveItLink\" href=\"../core_expr_types/tuples/_theory_nbs_/axioms.ipynb#range_extension_def\">proveit.core_expr_types.tuples.range_extension_def</a></dt><dd><a class=\"ProveItLink\" href=\"../core_expr_types/tuples/__pv_it/axioms/ab096539ab4cf10c0ba5b0fea9604ab92adb70fd0/expr.ipynb\"><img src=\"data:image/png;base64,iVBORw0KGgoAAAANSUhEUgAAAdUAAAAyBAMAAAD4oVxKAAAAMFBMVEX///8QEBCIiIhmZma6urrM\n",
       "zMxUVFQiIiJERETc3Nzu7u6qqqp2dnaYmJgyMjIAAAAcRTyBAAAAAXRSTlMAQObYZgAACCpJREFU\n",
       "aN7NWn2IVFUUPztfb+e9ebMh2od9DS6EJOGoURhrTkRqQez4T/Yh7SQJCYoLQh/aH48C2zWi+W+l\n",
       "EEcNLf9wZymUjWKHBA2NfBjJCuUu2AcGLYsU1G5K95x73333fcwbI+atlzvvnbnnnPvu7737zj33\n",
       "NwMQX8mVYI7K4div+M1cQYXUZMwXTFR8Dfu8klFt3ce+Ju3oG+V/KWasI77vuoXHQ91VkjIWbIl0\n",
       "dwzBWBii3SI+TUpnI1ao+nxfQ56ew9axOkkZG45F+juGYPrnx0gNyPfYf7h4e0tn0dfwHQ3ij4+E\n",
       "xGJXIepWKYZi3nJzfev2GveN8h+JFetYzdfwBg142pHYqG+JcFcNPVgBJmrcN8pfi3US7/B9z/bT\n",
       "s+x3JFZ+ilqwVMMgVvKN8Df+jhGq6b9YAue0uWxHkaSDy9m3kxHujiEcXByK9WS0f+BWt7Nolv/9\n",
       "tfHYVeBS47EWK4NjCMUOOwzrJen/7RSWyz7/iVp8WPv8SZNWx+P+MknZ+qPsy4kIf2EIZrWrHob1\n",
       "RAv/4UJ8WJf5GzoI/BiXdLiK9yMqtAkXHXoRWm5q6td7pqYqEmtfC/98jKnTreFYTwvJmGkx1tMe\n",
       "l+BzbYU1EV9wSl+D0Dm8W0id+ITWRnSwW7pcDsW6Vvrz9/UXf9i/Fl8yHLitPDbNE9JwvREdmxxD\n",
       "0GchOjbd6MRqX9YUWOdzRcqGhNSbZTh6QL+OjXgYnlQExZDPdg/WpYi1R3yalncAqKcf2461wwrs\n",
       "szAxSE0LKYND+BngNRz3qzhfK46wE1RDSPb7sD5072WbfOnTtJwDOIvn39qOdbgYaMKEL2eBkiMy\n",
       "FEZwGfwcPIZa0f9cHV+9P2oEE2XYi++t1f7lNbi8sUT+eN6WuwCRvwddMZOVhukaLrQcnnpbWuX+\n",
       "NII8bhLq7c/8g5forMLrxxwJxJ7sYHCDgwik4f7G26H9t9jT8Zllnjl6dKj9sWmiHARhwfmVyq4d\n",
       "BtnHDmbCeJCGmW47tP9B8YlIMlkA+Gtg4M32Y11ajSJUSDL/BweDvi38u9gN3dzqhrD3WTmnw03o\n",
       "OmWq4VEwxtS7yUrAVpzHQad1p8d2NloieKfAOTaEusH0RinQC1PlyOkzwAqlkCutnnusLEprkECU\n",
       "uUWIKM3nAQWSThDHTJWr2ZnpVwaSAqbaQk7JKlYQUX1DTykhk5Xtcw0VNJbN5GyN9gGBpyGxbhTq\n",
       "jdQQ4JWZKs0ZDr2CFbHqX6ywDesMPHJzYc1OPkOvbq0p1s1CvVmh/9SXvgYZ8Zpeocqwjo8eBeN8\n",
       "Eho3zxzWMNMYfBkD2fur8OW8jx5Pt3cO9wt1P+kTvqCPKk04PUDVghQlri88V5BYz6l3KGt7pdHW\n",
       "IxUuAb47azdxGPX3i7EJPqXUapxePXq6Sf6TgIOVGK1xYrZQb1R8vTLVkHA6TtWCPI2rfOZ7iXWp\n",
       "GqA/pju6fCWXXqGA0LxIQySCFb4byXHZHijYp6ffjopgcgBW4OEDYjE+yVVUrCmLq9kZ9Sl/QslU\n",
       "64TTOqoWHOJYczmZBU+o4eAKDebsLJe2iYWgWZGGcMGTGyE5Ltu9pOFCoD49/XYRl0d35T1qeEvZ\n",
       "WkqsFa7GM9On/QNjqjXC6UWqFmwYGBgoGOWsLbPxMQWrSXdg+KmSkAC+ikzuFEMl5yVy3CyGkKiH\n",
       "T82IPtV+h+UcgwXkP0NTrauqYk1bXM3OqE/55zBTPSuc1lC1IMOfKzwhR9anvFda1SGQNDHJDkAL\n",
       "pskxVPhuIse1ahhhbM6IPg+E7j50pt5bMyYb2T0A6z1xmLZLM7RlYnow0WRvjQ5YUXUEuNMPVC3I\n",
       "4S0z2eNoeGaQKEOSQBpyl61opsnN2CXfjeQ4eDJ5L1bsU+3X3X3gNnh9Xd9aTd8JsNi75uwUu+Sd\n",
       "wPSQLDGT9dX0HezAXEil1bjTg1TZPHgX2R82LDkHNGXmd9P27LYVJOndBUE4NCmOIeiLLIXvJnJc\n",
       "aQ9gxT7Vft2VgCY+ITfkW+sclwj1Ev4MyMQpdVIl6txpkiq7dIK9r54RJ6c9LzgrV7mUS7FZaUYF\n",
       "J2EISbhb5ZQopLrtAazYp9qvzGbyF8rO4jWaeXKhF2snV4uGL9V1y6hylUVOho0Vwnb+5owr76KF\n",
       "8U8ufZhk4zEiGAXHEC7CrMp3057dbQ9gxT7Vfm93c1pnpwh25lTVizVlk5qdccYU1U2myT3haXI6\n",
       "RDUUa3rWlefL0MKkGj6f9HRzrI4h1FIeDnkMPO0qOU5YsU+l3+zVqPiXlMdRJRdJhCZ7fErcTxWK\n",
       "LSjL+TK0oIS/VUZhlYZc6lNDltIeeK4+rDFy4bDaN4eJ/N4lSO5UxByWhpAvqnz5bvC0B7Bin0q/\n",
       "nf3xYe0teWNThwgt+mwuOjY5hsiXq7FpHnjaW8WmrkKM2wx3ZtOyMVziUmp6H3tRGpzy9hLgnAV3\n",
       "DMUv84Iv5+S40q5iTSBW1id9VMI8pqIEYpqGvY60jUW6fJlT3i4BXpEsuDSEh0Hhy4kcV9oVrMmX\n",
       "rq+iPukTjBftL3d5c8SvQUnxjjiUdwgL7hruUPlyTo7L9gA5Tn0ecYNnnP8hUP4bwrIPo/K7uwvg\n",
       "OXojlAV3DZ+nhdbhywU5LtsD5Lgv988X48SqXG0QtD2TktYV+69CKAsuDbP/0J+GHL5ckOOyPejs\n",
       "3dONxMqLZBcoe3Wzu+ru2on3NyGUBXcNN61S+XJBjsv2sF8VnN8TIPb/cin/ZvBzMBdvmIMxb5iD\n",
       "uejpN1OMF2uyMnfE2njcF9w0Z1Bj/08t2/nOFdbDFJn+Be+odkxMlELlAAAAAElFTkSuQmCC\n",
       "\" style=\"display:inline;vertical-align:middle;\" /></a></dd>"
      ],
      "text/plain": [
       "<IPython.core.display.HTML object>"
      ]
     },
     "metadata": {},
     "output_type": "display_data"
    },
    {
     "data": {
      "text/html": [
       "<h4>proveit.logic</h4>"
      ],
      "text/plain": [
       "<IPython.core.display.HTML object>"
      ]
     },
     "metadata": {},
     "output_type": "display_data"
    },
    {
     "data": {
      "text/html": [
       "<dt><a class=\"ProveItLink\" href=\"../logic/booleans/_theory_nbs_/axioms.ipynb#true_axiom\">proveit.logic.booleans.true_axiom</a></dt><dd><a class=\"ProveItLink\" href=\"../logic/booleans/__pv_it/common/95025295868b9266d37330b4427adf122f6061770/expr.ipynb\"><img src=\"data:image/png;base64,iVBORw0KGgoAAAANSUhEUgAAAA4AAAAOBAMAAADtZjDiAAAAG1BMVEX///+YmJi6urqIiIiqqqpU\n",
       "VFQiIiJmZmYAAAD2GhH1AAAAAXRSTlMAQObYZgAAABhJREFUCNdjKEsDgVQGIHBmgABa0YpADADk\n",
       "ogYfXGfJdgAAAABJRU5ErkJggg==\n",
       "\" style=\"display:inline;vertical-align:middle;\" /></a></dd>"
      ],
      "text/plain": [
       "<IPython.core.display.HTML object>"
      ]
     },
     "metadata": {},
     "output_type": "display_data"
    },
    {
     "data": {
      "text/html": [
       "<dt><a class=\"ProveItLink\" href=\"../logic/booleans/_theory_nbs_/axioms.ipynb#bools_def\">proveit.logic.booleans.bools_def</a></dt><dd><a class=\"ProveItLink\" href=\"../logic/booleans/__pv_it/axioms/431e034907d6f96351eae8139726328016eb40280/expr.ipynb\"><img src=\"data:image/png;base64,iVBORw0KGgoAAAANSUhEUgAAAGYAAAAVBAMAAABGR4Y+AAAAMFBMVEX////c3Nx2dnaqqqqYmJhm\n",
       "Zmbu7u7MzMy6urpUVFQyMjJEREQQEBAiIiKIiIgAAAAUQ1kVAAAAAXRSTlMAQObYZgAAAPdJREFU\n",
       "OMtjYMAOWEKwi5c+Y8AF2BbhkukpYGB4e3r/mpsNGNZ8YGBgvQsGE2BixWCSdQGQWFDHtg3DIUwX\n",
       "wBTzAyQxO4TMhhaG59yk6zEmQ49GNsl6OK5PJ0HPAZCenvt/wOGmtQoEloJlOBfg0gMKUZDbVJzQ\n",
       "7bEpwKWHYSlEDzeHA6qW6osMOPVw3oPoYZiAJbZx6FkJsYeTYQHcPyshhm0g5B9uFgXSwm1BEYNS\n",
       "JL6wZvuFHj/Y0yhUDyRs7iYwMMTevXvm7t2bcBksAEWGOQGXDKqeA8gcBqL0gEMHBvKQZVgX4Myo\n",
       "yPkUJcJ7GnDqYcZTHgAACIJoLluo+GYAAAAASUVORK5CYII=\n",
       "\" style=\"display:inline;vertical-align:middle;\" /></a></dd>"
      ],
      "text/plain": [
       "<IPython.core.display.HTML object>"
      ]
     },
     "metadata": {},
     "output_type": "display_data"
    },
    {
     "data": {
      "text/html": [
       "<dt><a class=\"ProveItLink\" href=\"../logic/booleans/_theory_nbs_/axioms.ipynb#false_not_true\">proveit.logic.booleans.false_not_true</a></dt><dd><a class=\"ProveItLink\" href=\"../logic/booleans/__pv_it/axioms/b9f4f9c8793d91d033446a779b4ceb95b6859e9f0/expr.ipynb\"><img src=\"data:image/png;base64,iVBORw0KGgoAAAANSUhEUgAAADoAAAAUCAMAAADrw95cAAAAOVBMVEX///+YmJgkJCQNDQ0oKChE\n",
       "RES6uroyMjLc3Nzu7u52dnZUVFQQEBAiIiJmZmaIiIiqqqrMzMwAAADQJR+6AAAAAXRSTlMAQObY\n",
       "ZgAAAIRJREFUOMvFk9sOgCAIQOmiqJjp//9sS9sqp6m8xINzwNkZGwC0wujvevC1isL777ZH0JX0\n",
       "ew0lmWey3iqqBHBRCly0IO1FRRhGDcZYl/N1HGtJ2ocGAi4qFAONs842TUzjVixKe1Dp4BtNK23t\n",
       "a6WTtHIycmodm3fADdRc0psfpCCbHQeFUAaWF4Tk8gAAAABJRU5ErkJggg==\n",
       "\" style=\"display:inline;vertical-align:middle;\" /></a></dd>"
      ],
      "text/plain": [
       "<IPython.core.display.HTML object>"
      ]
     },
     "metadata": {},
     "output_type": "display_data"
    },
    {
     "data": {
      "text/html": [
       "<dt><a class=\"ProveItLink\" href=\"../logic/booleans/_theory_nbs_/axioms.ipynb#eq_true_intro\">proveit.logic.booleans.eq_true_intro</a></dt><dd><a class=\"ProveItLink\" href=\"../logic/booleans/__pv_it/axioms/654339f5fb5a65119fa860e26cec5f77107afe860/expr.ipynb\"><img src=\"data:image/png;base64,iVBORw0KGgoAAAANSUhEUgAAAIwAAAAWBAMAAADgE2koAAAAMFBMVEX///8QEBCIiIhmZma6urrM\n",
       "zMxUVFQiIiJERETc3Nzu7u6qqqp2dnaYmJgyMjIAAAAcRTyBAAAAAXRSTlMAQObYZgAAAaJJREFU\n",
       "OMtjYCAMOC/gl+eewMDwAMS4i1fZCggVhy7OXA4GCQyZDAynQQKv8BrzEkK9x+YQBRC5joFhBsjV\n",
       "DfhM4TWAUO8X4DKGR4GBDyjJswGfMewTwNRq+wm4jOESYOA9tWrVdLx+gspe0HfAZQzDEwaGHx0d\n",
       "NXiNUQaTLAv2X8BpzGEGhlQGhk4wG0KywFR0whi9YHIJQzwkHN6BgQGKMfcYGJwZuMCRzvsFLMIB\n",
       "C9gvMGOqwaQDw3wDnK7ZDgxBBiawaxf/RTEGygUCERDBmmyc34DTmHigKy+wg5mnilGMgXJhxgD9\n",
       "yvgAnzGcD8LA1il0IBsD48I8BUwS7AJIYZOAYow7KCxTQCw2BnNkY2BcaBBzAo3h+4DTNcAgZthc\n",
       "AGLdZtBHNgbGhcQmOO1w/MRpjA0Q84OYXI/P9C9AGAPnQly84v8rBu7+75hRxQJJS09BUQtSz7yA\n",
       "YX4Awhg4F5EZ8ACuAhjLF+iqCwhj4FxE1sQDeBSgDI4fDJz9tXBjEFyU9IwLrMMU4sBZbOEGnUQZ\n",
       "Q6gQ5Z1AlDHkAGaydAEA+qlrXgbLZpIAAAAASUVORK5CYII=\n",
       "\" style=\"display:inline;vertical-align:middle;\" /></a></dd>"
      ],
      "text/plain": [
       "<IPython.core.display.HTML object>"
      ]
     },
     "metadata": {},
     "output_type": "display_data"
    },
    {
     "data": {
      "text/html": [
       "<dt><a class=\"ProveItLink\" href=\"../logic/booleans/_theory_nbs_/axioms.ipynb#eq_true_elim\">proveit.logic.booleans.eq_true_elim</a></dt><dd><a class=\"ProveItLink\" href=\"../logic/booleans/__pv_it/axioms/05a6b4904cc64664b923b0e52c73af64907ac3af0/expr.ipynb\"><img src=\"data:image/png;base64,iVBORw0KGgoAAAANSUhEUgAAAGgAAAAWBAMAAADeGsQjAAAAMFBMVEX///8QEBCIiIhmZma6urrM\n",
       "zMxUVFQiIiJERETc3Nzu7u6qqqp2dnaYmJgyMjIAAAAcRTyBAAAAAXRSTlMAQObYZgAAAUpJREFU\n",
       "OMtjYCAHPAARd0nQwArUcRrEeEWCJr4PDAwzgDRnAwma7v0CalzAwMCzgXg9XJt/MjDwnlq1ajoJ\n",
       "FvEyfQGSPzo6akjQ5MX9F0imMjB0grkQkgUmyzEBq+scWD8BKWcGLnCw836BqIVJ33eAMng6OiQ6\n",
       "eqAcFgbOz0CKnYHpAoi7+C+KJi77CwjzEaEbZmz2A2TQBXYw91Qxiiae5QbYNAGtlwNF0oMwcEQr\n",
       "dKBoCuJowKKJG4gLwQGQAiLZGMxRNCUwFzBkdADBBWRNs4H4PYixuQBE3mbQR9bEu4HpA6ZNnCCl\n",
       "/aBg5VcA+fvxmf4FSJrW2Zz4haGJq//fAoYd/0Ge5wUpZl7AMD8ASZMVA+dXhrx3QIDiPFTgC7Tx\n",
       "AkITC5D9F1voIQOOHwyc/bUITf0NDDO+IyIqgUDa4iAnJ9NPEzMRagC48VUODJp6sgAAAABJRU5E\n",
       "rkJggg==\n",
       "\" style=\"display:inline;vertical-align:middle;\" /></a></dd>"
      ],
      "text/plain": [
       "<IPython.core.display.HTML object>"
      ]
     },
     "metadata": {},
     "output_type": "display_data"
    },
    {
     "data": {
      "text/html": [
       "<dt><a class=\"ProveItLink\" href=\"../logic/booleans/implication/_theory_nbs_/axioms.ipynb#implies_t_f\">proveit.logic.booleans.implication.implies_t_f</a></dt><dd><a class=\"ProveItLink\" href=\"../logic/booleans/implication/__pv_it/axioms/4c83645082a9307612e46e4a98ddb3a0aa838d9f0/expr.ipynb\"><img src=\"data:image/png;base64,iVBORw0KGgoAAAANSUhEUgAAAHoAAAAUBAMAAACwiTT9AAAAMFBMVEX////MzMxUVFR2dna6uroQ\n",
       "EBCqqqqIiIgiIiJmZmYyMjJERETu7u6YmJjc3NwAAACgK8IjAAAAAXRSTlMAQObYZgAAAPBJREFU\n",
       "OMtjYOC7wEAI5OGWOs3AMKMDBJqwyYqBCKYHuGQY1oHJdBxmg8V5FuCS4Z1AWDeDOS4ZjgeYuveh\n",
       "6z6KS/cLBkzd0ui6uRxw6K7EohvqG4Q48wQcuvei6OYEh37HTzTdvOBgs1oFAiuRZdqw2M3AtgxV\n",
       "N1sDDrtDsOlmOBWCopvxAym6+ZQfEKcb1eWcqyDgAarLWRoQ/l6EO9QggGUB1lDDYrclFt2nDqDp\n",
       "5jTAodsDwvZFllCE0sDcEwrOPVwCaFphMhxY8g+G0AlcGZR3AgNhYI5TZh9hzVhzKLx0IAS4H+CU\n",
       "IqJkuodLAgBplkw0aZ95ggAAAABJRU5ErkJggg==\n",
       "\" style=\"display:inline;vertical-align:middle;\" /></a></dd>"
      ],
      "text/plain": [
       "<IPython.core.display.HTML object>"
      ]
     },
     "metadata": {},
     "output_type": "display_data"
    },
    {
     "data": {
      "text/html": [
       "<dt><a class=\"ProveItLink\" href=\"../logic/booleans/implication/_theory_nbs_/axioms.ipynb#affirmation_via_contradiction\">proveit.logic.booleans.implication.affirmation_via_contradiction</a></dt><dd><a class=\"ProveItLink\" href=\"../logic/booleans/implication/__pv_it/axioms/5941627c1e75bc665dce1f7b3265ea647617da820/expr.ipynb\"><img src=\"data:image/png;base64,iVBORw0KGgoAAAANSUhEUgAAAJkAAAAWBAMAAAAhlCOEAAAAMFBMVEX///8QEBCIiIhmZma6urrM\n",
       "zMxUVFQiIiJERETc3Nzu7u6qqqp2dnaYmJgyMjIAAAAcRTyBAAAAAXRSTlMAQObYZgAAAidJREFU\n",
       "OMutlE9o1EAUxj832W6SZqsHD55kwIso0oUVBFG6IIiXwuLBk+hCrVcLvYhUWDxNsXRzUYsgDVZQ\n",
       "IkrBP+BBXBCh1h5yV7G4J3upB6VVEH1vZk0mi12wZGAyf/K9X2a+vBkg17LKj495kM5RfcedtTxo\n",
       "61TnqLrNHGDl9RAYouov5kB7OBIQcjmKbuWx0Xi4Rs9NKaf6ylxzUN9KZYevYmrGgWk1nu4V1HTT\n",
       "TiacAE+3ot3DeUHNCXgqS8rfum5+7kxqH/W/GQiSiE81WIGJaJifnq9QU0KBl4iFX2zl6+MQ7TvP\n",
       "DNrZJMAbieE1TFqaC8Wx6iUe+XFJjZcnaV3Xb4cQwn9kaMeTCP8+ff2L6r7spdnADt6iu3pGwYXk\n",
       "XVMRYvStoZ1IIk47NHPI3H5KI29Ku5T7F9R7HOkeM1HdW0+1bkprWNR/jiUp5ezuLM0l2tBX7j1R\n",
       "+vcYhlfRa7NupFq7CZ/DyYbFAulP6fDC4QyNM9b5wb2d/Ge9zkorLF6W8hr7VjBo2vYB4PGxpZ/6\n",
       "bLP+YmjQHvxew2BrgxdT5nkrxHxd/3GiWSmt2PxLOwr3O3AS+6pUxsKsb9kySmuM8UbR2v5KSvMm\n",
       "ujSb8oiS6AO8KIruCvShOZtwW1fhkJnlqc5sbGivdI9Xq4m5jRjKL9zkhJFyj5zpdyb3k289uXnw\n",
       "H7crgv+/FTTNycwNxtu9YzTNzsQvbPvGqujmhTl3oG/EH4NyiW+J0iaOAAAAAElFTkSuQmCC\n",
       "\" style=\"display:inline;vertical-align:middle;\" /></a></dd>"
      ],
      "text/plain": [
       "<IPython.core.display.HTML object>"
      ]
     },
     "metadata": {},
     "output_type": "display_data"
    },
    {
     "data": {
      "text/html": [
       "<dt><a class=\"ProveItLink\" href=\"../logic/booleans/implication/_theory_nbs_/axioms.ipynb#denial_via_contradiction\">proveit.logic.booleans.implication.denial_via_contradiction</a></dt><dd><a class=\"ProveItLink\" href=\"../logic/booleans/implication/__pv_it/axioms/3ba42e63897df1b59e5482fb39e92b105a4e201b0/expr.ipynb\"><img src=\"data:image/png;base64,iVBORw0KGgoAAAANSUhEUgAAAJ4AAAAWBAMAAADDSDj9AAAAMFBMVEX///8QEBCIiIhmZma6urrM\n",
       "zMxUVFQiIiJERETc3Nzu7u6qqqp2dnaYmJgyMjIAAAAcRTyBAAAAAXRSTlMAQObYZgAAAh1JREFU\n",
       "OMullEFoE0EUhn+TxmTT3dqDZxnqxVsDAQWpGPDQUyEnj7bQ9qAXCz0otIJ6miA1uYgiSBcUkYil\n",
       "UEqPDYRCW3vYe6lEowd7qQfBehB9b2anmQnG0vXB7L43b+fbN++9GSC5eFHXRH8NaLGyl4j3xrFu\n",
       "0LgJvGd9PxHvq2Md0FgCnnHg95PggoJjHYSALzDAr+UkvGzNtt5eJTM/iGC7Xn+aaLvuqmi4RM/P\n",
       "wKGU84l4522jL1znajeBaaCipirdC0pGqfyVt2AbrzAu6PUBuIa86pnge5zYT+1ZnU9TJePRctoo\n",
       "c0D6DktD/XuRy7NGaUVK9eXLX5zV5hWIxotVh6c8R5IzylnT1hNAZrJ4mz8fp+JGWTW9PUuRPHoe\n",
       "Qgj/ncNjD3d/1JvXB5xqaZ7Xus6zGSF57yRCjG3ZPOWB7n6bN2fxKEHZQdJHOdtTOi2X4sMniufK\n",
       "No89viT5WHJ4Cx2eR7yBb7oeWJnh2V0MI1/Q8aWf2Dz2xB1SsnlNo5RVK+Z+0mOExhkudL69Uw0z\n",
       "d6V8yPlLWTzl0Qtf37J5o52L4fc++qs/KJov3A78dTrEYhkTOj4/bfGUJ1UkuXjZ2a973vS/Z4w2\n",
       "RnFG2FC8hr9j8bSnTjLk1sO9D5T4wjTVIbzqPeQor8F8+3HU4cWeuI7YlA+kbPQ6NkvdExcof0fS\n",
       "dYt5/75Pex/MHrzj7/ug9l+8k0ohwZo//2aLn6xV0D0AAAAASUVORK5CYII=\n",
       "\" style=\"display:inline;vertical-align:middle;\" /></a></dd>"
      ],
      "text/plain": [
       "<IPython.core.display.HTML object>"
      ]
     },
     "metadata": {},
     "output_type": "display_data"
    },
    {
     "data": {
      "text/html": [
       "<dt><a class=\"ProveItLink\" href=\"../logic/booleans/implication/_theory_nbs_/axioms.ipynb#iff_def\">proveit.logic.booleans.implication.iff_def</a></dt><dd><a class=\"ProveItLink\" href=\"../logic/booleans/implication/__pv_it/axioms/0cd5738fd7a3109ea2cf798d3a1f4edab4dd47c70/expr.ipynb\"><img src=\"data:image/png;base64,iVBORw0KGgoAAAANSUhEUgAAAXkAAAAVBAMAAABRbIObAAAAMFBMVEX///8QEBCIiIhmZma6urrM\n",
       "zMxUVFQiIiJERETc3Nzu7u6qqqp2dnaYmJgyMjIAAAAcRTyBAAAAAXRSTlMAQObYZgAAA8xJREFU\n",
       "SMfVl09oE0EUxj+TbNNNmrQHUUGRgAe9aAuFetOoB0VQ40U8aUALRRQrQgtWUU+2/iF7qoJgVxQs\n",
       "FarQi15U9CBakaCgFFEiHqQKtjRaa6XW+fdmk+0kTVsvfvC1Yd/8Zt/OvJnZBcrJzkrPovv/jqyQ\n",
       "Ief4hfclGvYqM+0zxd9MH2jqTKLK+WdkrxczyWLpcoY8yC9+KZH9sDLTiLHBMiD4A5HcgkmngFMx\n",
       "k+KjEAz5Cp+uM+bkYw3S/OeIaxqKKSCUBx4vmPzkcTpm0IdJSEY5zvquuWvOPuxIM93eqEYnzryH\n",
       "GgR+sRuOAdcrIbm6SpDWOVdzOqZU7fGRARYSjHLseV/f5RKFc1mZKVuvCnEt7y9FHdexPk6wR0pW\n",
       "QHLthZms2pzQnI7RNHmVEQt8h2TIE52dJ0tkv0qZTaT7MOt1FaF1UpuG1cYnr2F20qsMA9mPVs3p\n",
       "GOm1/rU9yopKMORmmk/5d1v+SQtN1SVl4Cb2y8HZvbSdaaXqe/+RV+d41cX44qv5JtRgJoPtQlTO\n",
       "RSTfOwb1HXUMWC+Y0/TIkaQ1phjyFrXwY9/l6NShpk617lAGkugRXQQOyRm4IBvUO4gsYf+jrb6x\n",
       "n0kqRb8ayVZc05yOaT1Q6zIEO68YchgBMbU3pkSLYBrRSUUtVoZ1oPGoKJk2WpWyFs/ye7GurVFf\n",
       "9jNIrf7FBjKWQFWKOB3zFutHuTr2NDZNQDLkmmxYhJ4fl3klEMz5cwgBi8TF7keyu8OywTi/T6Jc\n",
       "9pqks/SwYyDDLqy0zp5iWt3PoOYRK33Z2zmxAVqJTtHiTgrrXP/8s4EIy3J6K2r7c0pv2jjK+gy1\n",
       "enWfNpNBGf3mGEgM0DnVURgDNkhGHXtR5mOQDBldB8WehfWiya61a9LwrVr7rjzlaNOIDHubtjXh\n",
       "rT1PBlJWbs5IDqsnEIyOkXaq/1fVwV24ajEgHv8d6kWTl8Bqwp4o8124+pe8xh81qIoyzkZ103l+\n",
       "4ZEvexMpqt41kWIbDruK0TGqerU/2zzPjCMZMmp5iUU+vciIni8CPbRitkr3Tn9BNPOTdmb5dsGn\n",
       "a2S8sUXsPvGUL3sTydVsJKt4mQQSkvFiSnI9I5L54+Le9HHJkBHjWQdd9IhWv1nxODPPe2/ZMff5\n",
       "j7VbZd4UiuQYyZD4mYKZsU3MraK77mBzkLXPw56EvcLwrlVe5d7S5kRWzDwuZKsnYGdOWcvxNN/Y\n",
       "kix6qeqavTvDG/J8yQoZcpGipb8xyqm67NfJnMgKGXLZD7UKv++G5v1lODSPL8OhAhcpi/9LfwF9\n",
       "GoUpN6fzvwAAAABJRU5ErkJggg==\n",
       "\" style=\"display:inline;vertical-align:middle;\" /></a></dd>"
      ],
      "text/plain": [
       "<IPython.core.display.HTML object>"
      ]
     },
     "metadata": {},
     "output_type": "display_data"
    },
    {
     "data": {
      "text/html": [
       "<dt><a class=\"ProveItLink\" href=\"../logic/booleans/negation/_theory_nbs_/axioms.ipynb#not_t\">proveit.logic.booleans.negation.not_t</a></dt><dd><a class=\"ProveItLink\" href=\"../logic/booleans/negation/__pv_it/axioms/892b96a66b0dd237317023264009b8bd35f245000/expr.ipynb\"><img src=\"data:image/png;base64,iVBORw0KGgoAAAANSUhEUgAAAFcAAAAUBAMAAAAKKrydAAAAMFBMVEX////MzMxUVFR2dna6uroQ\n",
       "EBCqqqqIiIgiIiJmZmYyMjJERETu7u6YmJjc3NwAAACgK8IjAAAAAXRSTlMAQObYZgAAALhJREFU\n",
       "KM9jYOC7wIAK2B4w4ASnYQzODjBQYNDDoooxAUytQza0AESewqIYIsM7AUOIuQCXYo4HGEI8AbgU\n",
       "v8AUYliCS3ElFsWWuBTvxaL4Ftjlq8BgArJMGyzMDBCKM3CZHALl8SkgFMtTRXEbFsUeSG5WwOZB\n",
       "ZMW3cJkMDyYBhOLJuBR7IAuxQFLgQjSVwOBqjQAlMQ7MBMnTgCuFoiQkCMCWkKBgH4bIKSISPx7t\n",
       "cICRrXhxZisANEQ2yM1lgAMAAAAASUVORK5CYII=\n",
       "\" style=\"display:inline;vertical-align:middle;\" /></a></dd>"
      ],
      "text/plain": [
       "<IPython.core.display.HTML object>"
      ]
     },
     "metadata": {},
     "output_type": "display_data"
    },
    {
     "data": {
      "text/html": [
       "<dt><a class=\"ProveItLink\" href=\"../logic/booleans/negation/_theory_nbs_/axioms.ipynb#not_f\">proveit.logic.booleans.negation.not_f</a></dt><dd><a class=\"ProveItLink\" href=\"../logic/booleans/negation/__pv_it/axioms/783be9b954a93c2196c06fe5d90d2b2e27bd82330/expr.ipynb\"><img src=\"data:image/png;base64,iVBORw0KGgoAAAANSUhEUgAAAFcAAAAUBAMAAAAKKrydAAAAMFBMVEX////MzMxUVFR2dna6uroQ\n",
       "EBCqqqqIiIgiIiJmZmYyMjJERETu7u6YmJjc3NwAAACgK8IjAAAAAXRSTlMAQObYZgAAALdJREFU\n",
       "KM9jYOC7wIAK2B4w4ASnkdiMCSBSD10JZwcYKDAwrEM2tABEnsJiJESGdwKGEHMBLsUcDzCEeAJw\n",
       "KX6BKcSwBJfiSiyKLXEp3otF8S2wy1eBwQRkmTZYyBggFGfgMjkEyuNTQCiWp4riNiyKPZDcrIDN\n",
       "g8iKb+EyGR5MAgjFk3Ep9kBOLq0R4OSyEFMxywWM6IYAngZcKRQlIUEAtoQEBfswRE4Rl/hxaYcD\n",
       "jGzFizNbAQAjaDbIZxmznwAAAABJRU5ErkJggg==\n",
       "\" style=\"display:inline;vertical-align:middle;\" /></a></dd>"
      ],
      "text/plain": [
       "<IPython.core.display.HTML object>"
      ]
     },
     "metadata": {},
     "output_type": "display_data"
    },
    {
     "data": {
      "text/html": [
       "<dt><a class=\"ProveItLink\" href=\"../logic/booleans/negation/_theory_nbs_/axioms.ipynb#negation_elim\">proveit.logic.booleans.negation.negation_elim</a></dt><dd><a class=\"ProveItLink\" href=\"../logic/booleans/negation/__pv_it/axioms/9495abbd5f513bded61d958ff7a4f236116799110/expr.ipynb\"><img src=\"data:image/png;base64,iVBORw0KGgoAAAANSUhEUgAAAJcAAAAWBAMAAAA/XRM3AAAAMFBMVEX///8QEBCIiIhmZma6urrM\n",
       "zMxUVFQiIiJERETc3Nzu7u6qqqp2dnaYmJgyMjIAAAAcRTyBAAAAAXRSTlMAQObYZgAAAbRJREFU\n",
       "OMtjYCAWcF7AL78TiB+AGHeJMGwFhIrDIhUNItgmMDCcBjFeEWHYSwj1HovUJhDBBXTWDJAPGgib\n",
       "xWsAod4vwGEYwyEGBj6gJM8GwoaxTwBTq+0n4DJsIdCqU6tWTSfCl1A1F/QdcBnGB5T50dFRQ4Rh\n",
       "ymCSZcH+C7gM4wEGRCoDQyeYAyFZUNV1whi9YHIJQ7wCiD73DgQeoxjGC4wBZ3A8ANlfwEIcqMH+\n",
       "BcaqBpMODPMNcLmMuwAYsgxMYJcv/ovFMKggEIiACNZk4/wGXIaxfgB69QI7mH2qGIthUEGYYcAw\n",
       "YHyAzzDOB2FgpkIHpmEwQZg3gUmIXQARZs9QDGMpAIVxCjg3MJhjGgYThEYAJ9Awvg+4XAaKAIbN\n",
       "IBMZbjPoIxl2oqOj4wFCEAgOQ9Max09chjEfABL8oMjmenymfwGqyxIQgkDgDszq/18xcPd/R4tO\n",
       "8/JywfLyMqCbA0DOA6lnXsAwPwDdMLggIjvhAcvhLF+gCy+gGwYXRGR0POAQjMHxg4GzvxbVsAkI\n",
       "QZS8gANwYUkzHAQKR5yAYwIJhhEqtm8ykGAYOYCZAr0AOed5gytoZ+0AAAAASUVORK5CYII=\n",
       "\" style=\"display:inline;vertical-align:middle;\" /></a></dd>"
      ],
      "text/plain": [
       "<IPython.core.display.HTML object>"
      ]
     },
     "metadata": {},
     "output_type": "display_data"
    },
    {
     "data": {
      "text/html": [
       "<dt><a class=\"ProveItLink\" href=\"../logic/booleans/negation/_theory_nbs_/axioms.ipynb#operand_is_bool\">proveit.logic.booleans.negation.operand_is_bool</a></dt><dd><a class=\"ProveItLink\" href=\"../logic/booleans/negation/__pv_it/axioms/776af1183cee695121a2b1df6e92f5b962793d0b0/expr.ipynb\"><img src=\"data:image/png;base64,iVBORw0KGgoAAAANSUhEUgAAALUAAAAWBAMAAAB09cDaAAAAMFBMVEX///8QEBCIiIhmZma6urrM\n",
       "zMxUVFQiIiJERETc3Nzu7u6qqqp2dnaYmJgyMjIAAAAcRTyBAAAAAXRSTlMAQObYZgAAAqRJREFU\n",
       "OMutlU1oE0EUx5+T3SSb3Wx7KPQmAe822kMtHgwIVgqFnKonXbCCnqx48OAHwYtbRLI3vXUlYksE\n",
       "CXgqKC7tpcQie1NpKwHxYEHbg2A9aH3zZrI7W5KCiw8yM/vfyW/ex8wsQGozwoPeLuGvwwebadiL\n",
       "oruQVNl198/wDEDWA3jLha007K+i294n23ppsRFCAZ1+zKOrpUAXy6Lb9pN6XgtZFYHLuAy+slop\n",
       "2DmPuuenPLnW/Zt3JdtsIfsJSu1m81GalMg/hSMV6vV7fuS3NYlsG/Vd173d46+eMtZ7sY9Qq/lv\n",
       "xHZ54cc5mZiuYjIwZ5cB5kgUrSZmWDFkDsxKD/ZDap/CxRINrsb5Ht4b4jnCYp6mkuL4h3gFyamk\n",
       "j8vxp6NjJ7v6LWorMC9qWlNqaW0GAOYs1gQYRdX4rbD1IGJz/Rn2hVejIbOM9arUh2jepdFrRNUP\n",
       "f0eTbKhNobKD0Yc5mtu+obCz1YjNdRuz/2GpCYxBO1TZmMFDFLWh+g21rGAbnWlauOQq7FxcR65j\n",
       "ZBoPnTFtw1Nzgps3N0iPgyrbsXHZWV6rGfIUxhR2vCtJNx2w6UBnjn1Ra2kg296hx+MJvzdELeEl\n",
       "XwDWYURhnwVYdV23I3WtBg1iMxjvZmtFupD/JSJtRWc+sFYcgAwv2QDfRIXPa3U/Zp8R8xyp6x04\n",
       "h0uVkB2UJGMCb6u9LTDrP2mjFK5MJu4qsLkTRc7M+DBfjdnnu2yhaw7mRvgdlJNnPjJtVZz5ri1E\n",
       "I9w0A2HMXuiyhV4MwOIrMwvWguRd1deWowLsglG/o+wTcYI9qWfwYD7A5/fvTnxTzutBJg7kvitS\n",
       "ZC15M/JNwjDfvb4NfSzv9WND8kZ//e/ftI/Qlz2ViK8M/8UyojPVkJifCvUX2bqubQYQcrEAAAAA\n",
       "SUVORK5CYII=\n",
       "\" style=\"display:inline;vertical-align:middle;\" /></a></dd>"
      ],
      "text/plain": [
       "<IPython.core.display.HTML object>"
      ]
     },
     "metadata": {},
     "output_type": "display_data"
    },
    {
     "data": {
      "text/html": [
       "<dt><a class=\"ProveItLink\" href=\"../logic/booleans/conjunction/_theory_nbs_/axioms.ipynb#and_t_t\">proveit.logic.booleans.conjunction.and_t_t</a></dt><dd><a class=\"ProveItLink\" href=\"../logic/booleans/conjunction/__pv_it/axioms/7b5a0e7b79eeb92155c7892ccd1bb94a860f999c0/expr.ipynb\"><img src=\"data:image/png;base64,iVBORw0KGgoAAAANSUhEUgAAAHAAAAAUBAMAAACnq6Q0AAAAMFBMVEX////MzMxUVFR2dna6uroQ\n",
       "EBCqqqqIiIgiIiJmZmYyMjJERETu7u6YmJjc3NwAAACgK8IjAAAAAXRSTlMAQObYZgAAAQRJREFU\n",
       "OMtjYOC7wIAH5OGWOs3A2QEGCsiiM8BCTQxMD9DVw2QY1oF4bAUwcT64inQQwbMAi11gGd4JqBq5\n",
       "JqBIM5jj0sjxAFWjdA+qxqO4NL5gQNWoUo6qkcsBh8ZKVI08CzhQNTJPwKFxL6pG5gTmBBSNvODQ\n",
       "sVoFAiuRZdpQNXIw8C1A0cjWgMPGEFSN1xkYFFE0Mn4gTiMwTIWI04jqVDZgUHA9QNbI0oDw4yLc\n",
       "gQPSxDYBM3Cw2GiJolEa6lyERk4DHBo9IA6CZhEVEAFNAr4QNwhgavRFJDkYACcTRmSRE7hyFe8E\n",
       "BrzAHKfMPrz6sGYrWEbGB7gf4JTCX3TcwyUBAKQERsxzlZRzAAAAAElFTkSuQmCC\n",
       "\" style=\"display:inline;vertical-align:middle;\" /></a></dd>"
      ],
      "text/plain": [
       "<IPython.core.display.HTML object>"
      ]
     },
     "metadata": {},
     "output_type": "display_data"
    },
    {
     "data": {
      "text/html": [
       "<dt><a class=\"ProveItLink\" href=\"../logic/booleans/conjunction/_theory_nbs_/axioms.ipynb#and_t_f\">proveit.logic.booleans.conjunction.and_t_f</a></dt><dd><a class=\"ProveItLink\" href=\"../logic/booleans/conjunction/__pv_it/axioms/a36dbdd067ad42508f9137691c0b55fd24339f740/expr.ipynb\"><img src=\"data:image/png;base64,iVBORw0KGgoAAAANSUhEUgAAAHAAAAAUBAMAAACnq6Q0AAAAMFBMVEX////MzMxUVFR2dna6uroQ\n",
       "EBCqqqqIiIgiIiJmZmYyMjJERETu7u6YmJjc3NwAAACgK8IjAAAAAXRSTlMAQObYZgAAAQhJREFU\n",
       "OMtjYOC7wIAH5OGWOs3A2QEGCmgSYiCC6QEWLWAZhnUggq0AJsgHl04HETwLsGgEy/BOQNXINQFF\n",
       "msEcl0aOB6gapXtQNR7FpfEFA6pGlXJUjVwOODRWomrkWcCBqpF5Ag6Ne1E1MicwJ6Bo5AWHjtUq\n",
       "EFiJLNOGqpGDgW8Bika2Bhw2hqBqvM7AoIiikfEDcRqBYSpEnEZUp7IBg4LrAbJGlgaEHxfhDhyQ\n",
       "JrYJmIGDxUZLFI3SUOciNHIa4NDoAXEQNIuogAhQEpjR0RHa0dEEdIMAmi6YDAdK8gcnE0ZkkRO4\n",
       "chXvBAa8wBynzD68+rBmK1hGxge4H+CUwl903MMlAQBm6kX4QLZagwAAAABJRU5ErkJggg==\n",
       "\" style=\"display:inline;vertical-align:middle;\" /></a></dd>"
      ],
      "text/plain": [
       "<IPython.core.display.HTML object>"
      ]
     },
     "metadata": {},
     "output_type": "display_data"
    },
    {
     "data": {
      "text/html": [
       "<dt><a class=\"ProveItLink\" href=\"../logic/booleans/conjunction/_theory_nbs_/axioms.ipynb#and_f_t\">proveit.logic.booleans.conjunction.and_f_t</a></dt><dd><a class=\"ProveItLink\" href=\"../logic/booleans/conjunction/__pv_it/axioms/2c5ba0a41c2ed36e3ae7192aeee85ad4e41d75e60/expr.ipynb\"><img src=\"data:image/png;base64,iVBORw0KGgoAAAANSUhEUgAAAHAAAAAUBAMAAACnq6Q0AAAAMFBMVEX///9UVFTMzMx2dna6uroQ\n",
       "EBCqqqqIiIgiIiJmZmYyMjJERETu7u6YmJjc3NwAAAC+aOQFAAAAAXRSTlMAQObYZgAAAQtJREFU\n",
       "OMtjYOC7wIAH5OGWOg0imBLQRGd0gEAjA+MDLFrUwOQ6EMFWABPkg0ungwieBVg0gmV4J6Bq5JqA\n",
       "Is1gjksjxwNUjdo9qBqP4tL4ggFVo0g5qkYuBxwaK1E18izgQNXIPAGHxr2oGpkTmBNQNPKCQ8dq\n",
       "FQisRJZpQ9XIwcC3AEUjWwMOG0NQNV5nYBBC0cj0gTiNwDBVJE4jqlPZgEHB9QBZI0sDwo8LcQcO\n",
       "SBPbBMzAwWKjJYpGbahzERo5DXBo9ADKdXS0RnR0CICiHyQETQK+EDcoYCb/UFDy50BJ/uBkwoQs\n",
       "cgJXruKdwIAXmOOU2YdXH9ZshZSRcQLuBzil8Bcd93BJAABbF0XMzCmSpgAAAABJRU5ErkJggg==\n",
       "\" style=\"display:inline;vertical-align:middle;\" /></a></dd>"
      ],
      "text/plain": [
       "<IPython.core.display.HTML object>"
      ]
     },
     "metadata": {},
     "output_type": "display_data"
    },
    {
     "data": {
      "text/html": [
       "<dt><a class=\"ProveItLink\" href=\"../logic/booleans/conjunction/_theory_nbs_/axioms.ipynb#and_f_f\">proveit.logic.booleans.conjunction.and_f_f</a></dt><dd><a class=\"ProveItLink\" href=\"../logic/booleans/conjunction/__pv_it/axioms/5359044f0303ca2ec865e9819376bbee591546150/expr.ipynb\"><img src=\"data:image/png;base64,iVBORw0KGgoAAAANSUhEUgAAAHAAAAAUBAMAAACnq6Q0AAAAMFBMVEX///9UVFTMzMx2dna6uroQ\n",
       "EBCqqqqIiIgiIiJmZmYyMjJERETu7u6YmJjc3NwAAAC+aOQFAAAAAXRSTlMAQObYZgAAAQtJREFU\n",
       "OMtjYOC7wIAH5OGWOg0imBIwJdRABOMDBhwyDOtABFsBTJAPLp0OIngWYNEIluGdgKqRawKKNIM5\n",
       "Lo0cD1A1avegajyKS+MLBlSNIuWoGrkccGisRNXIs4ADVSPzBBwa96JqZE5gTkDRyAsOHatVILAS\n",
       "WaYNVSMHA98CFI1sDThsDEHVeJ2BQQhFI9MH4jQCw1SROI2oTmUDBgXXA2SNLA0IPy7EHTggTWwT\n",
       "MAMHi42WKBq1oc5FaOQ0wKHRAyjX0dEa0dEhAIp+kBAoCczo6Ajt6GgEukEBTRdMhgMl+YOTCROy\n",
       "yAlcuYp3AgNeYI5TZh9efVizFVJGxgm4H+CUwl903MMlAQB8DUVyivSWHQAAAABJRU5ErkJggg==\n",
       "\" style=\"display:inline;vertical-align:middle;\" /></a></dd>"
      ],
      "text/plain": [
       "<IPython.core.display.HTML object>"
      ]
     },
     "metadata": {},
     "output_type": "display_data"
    },
    {
     "data": {
      "text/html": [
       "<dt><a class=\"ProveItLink\" href=\"../logic/booleans/conjunction/_theory_nbs_/axioms.ipynb#left_in_bool\">proveit.logic.booleans.conjunction.left_in_bool</a></dt><dd><a class=\"ProveItLink\" href=\"../logic/booleans/conjunction/__pv_it/axioms/56d9d3350c130ecc64a1c08e462d1c2f5180be740/expr.ipynb\"><img src=\"data:image/png;base64,iVBORw0KGgoAAAANSUhEUgAAANQAAAAWBAMAAABK0K+UAAAAMFBMVEX///8QEBCIiIhmZma6urrM\n",
       "zMxUVFQiIiJERETc3Nzu7u6qqqp2dnaYmJgyMjIAAAAcRTyBAAAAAXRSTlMAQObYZgAAA05JREFU\n",
       "SMetVl1IU2EYfjo7053tHN1lUMhuom6ylaBZVougRBDFwLoQ2kWBdmVFRZA5ImpasHWVEOEBIcML\n",
       "G3hRUtHCIDGLVRcFmi2qm6A/TTLD6v3eb/Oc/SgU++Dbe97v533e/29Awca15TY9USApPl4XAMkd\n",
       "YuJMZi6vXRl5eyIAtAGPBf+xAFAlUUm+Zq0nm9zd24BBoIc4LVQAqBeSTM1nrYfqscYF6D6UmERi\n",
       "BYA6Jd049FOyxoWTZ9JQdwjK7YUxNjBwpQBIWrtEUL7LkJ01Lase3iD6HpgLh08vJyOau+TMc0zx\n",
       "M6nzLDAdNC0HqscPER0BiHTxmvytnRlpZemqPKmLH1caT43UVHbBE8iFciXYfwHnNLNtVqx2dn4T\n",
       "56eAXXBzfhrScsML3ct3Yd15syj7GfAAqE5xU+VVW1OfxTGpnzYjAexp8WSS6C06A4UV6pOWO4Lw\n",
       "zFtQzrjQdYc44RN8JXDfxHWxeLcioejaRKOUuIK1aa6onONrZZ9ppKFcKt0/QB5KFPPS2DGpnQ+O\n",
       "pAVVJCTp/RQIZ4fgjwLbZQ29Gh6AomAsYYeinzJklo+AQpChtGQz6+EL887NRpSbFhSr0eSim65B\n",
       "YcosFKp38oMq0kBR1MmozYEemkeY9dqhikRP2iPS4SCrjyreaVi/LggLiusg6KBMbjFIf3X6+Xkh\n",
       "MogSTjvHxg/2tLhK8wuzmzKsMuKcFhjiipjABt55Sm3LBlUrMiWmULfpFqHWk1DouBpCH0MpqE7F\n",
       "SvenaisStbKEG1MLxinCqKFZKuLtfjceYb9dAnpjFtRuUSM1o/Nw+kkbuOLQfnFP3RcOh30EFfel\n",
       "yqAd7shvE7f/cMzdrXWZ7RbCfENAOEz0sn4kqCFqQe2nuQXaLIpMsVIag0qdRw2Sw6VVcX9GY1oc\n",
       "6miqMaUbf3v6q57EJLRuaPPQVtsc2E+XKAoL2CsciV4Tl8nv5HtdKKboGI9nttulhu5LB3UOWqTD\n",
       "uQqPZipaAzaoYhOREHp+JA6LCOudFZXnhA/oyEWiL59u/rTYLqLLQg1mv5X2TiNbWzq8ZmrKR0ns\n",
       "UKzyPI1Lja4sfjgHCnkF3PvnB9/ItjmRC1Wf7233o6DDYf3/yHkwzP8R+Be3SdbbBDyFcwAAAABJ\n",
       "RU5ErkJggg==\n",
       "\" style=\"display:inline;vertical-align:middle;\" /></a></dd>"
      ],
      "text/plain": [
       "<IPython.core.display.HTML object>"
      ]
     },
     "metadata": {},
     "output_type": "display_data"
    },
    {
     "data": {
      "text/html": [
       "<dt><a class=\"ProveItLink\" href=\"../logic/booleans/conjunction/_theory_nbs_/axioms.ipynb#right_in_bool\">proveit.logic.booleans.conjunction.right_in_bool</a></dt><dd><a class=\"ProveItLink\" href=\"../logic/booleans/conjunction/__pv_it/axioms/f3111cc0286099ffc7998497e29e6f720ffcdc4b0/expr.ipynb\"><img src=\"data:image/png;base64,iVBORw0KGgoAAAANSUhEUgAAANUAAAAWBAMAAAClEsSqAAAAMFBMVEX///8QEBCIiIhmZma6urrM\n",
       "zMxUVFQiIiJERETc3Nzu7u6qqqp2dnaYmJgyMjIAAAAcRTyBAAAAAXRSTlMAQObYZgAAAxtJREFU\n",
       "SMetVk1oE0EU/jrJJtlkk/YgVFAkN3uxjRasxYMFQUuhNCC03hqwQvTgDx5E/CGK4LYKza1epCsF\n",
       "Kz1owFNBYWkPSi1lwYNKG42IF0ERK6VWtL6Z2cxumhBQMrDDzPtm53vve29mF2hYu1cXnaWnxAfF\n",
       "BlBFc0D87Fpn9maFmZ03/7SOAKE88JIbPjeAK0GboYkID6Ur7Vry4ZSDKAV1l6Z6rgFcr3g37AAD\n",
       "qQp7JOiwNBHMEa0FGIUGcF3iXQcF9z4p5vFbF6+5XLECcd0n08LMzEQDqPRzvL9OeWu1+Ei7Yam4\n",
       "jD7iSvQA66Z5pd4m+WqTVmMZE8qtAUOnxfyR5Wl4dJBSaNCCk8CoMMq+d3U+K7YPyqWGDyvDsZ5q\n",
       "rojDnVgrtl2W81Nevlo3t3FNqTgOixKh8Q8pcwuMFrHG946LKbjbnb1r7zroDsM85+wn5SUj5jlf\n",
       "bRhFG4iRyGEw7hKmfgsokEFsw+PSbIUxD37Az9PTTocZ+rJb4U081gh5yX6J93Z9peZyIddPlm8k\n",
       "khMWixcuSP+SCJQ8rlBaYUOOgvlZejM7A8aw4Pi4mikm9h0Vx0hwhSSXXhoUjiRNAT1Oo93yuMIe\n",
       "NlZSMCkR5LXAWHAl79OQH6+Q1LvFz5VJUP55oY6OiADQJaCBPW1ScMk1oTDNLio4lkFCFF9g7yd/\n",
       "bfDjNSwj2lcR14qsDTwRJ2MZHQJaAnb7uHoVFrEiCg7mMCW4GLrdfPGSxgeCtltenPKOso158i/A\n",
       "M9/Mz3n04+K4WHQHmCx4XEcUdgzxQhnWShgyTTNJXLa8JYREZzZP7Dddjmi2r+LuRYI7FeccAQuT\n",
       "wkOqooG8x3VcYadFHUs4mCFdZVx2yn9H+Vrwhbyjym1ajagomx19DPoG9J0+DafLmJbiWrpw3IbB\n",
       "PWMGFm3/3VunzakErkMfv6rtwPPVzmyPjytsuVjI4iYXDtBzm9DXSwe+qC3y9T9vpS2GmP/SkXKX\n",
       "Uxx1H5lvjlC+tn4r67QqV2aruFBzh2f//g/wdqvBqebqr6VHCo1tAVfWGmlg1n/t+Bf/gNvfT2GJ\n",
       "ugAAAABJRU5ErkJggg==\n",
       "\" style=\"display:inline;vertical-align:middle;\" /></a></dd>"
      ],
      "text/plain": [
       "<IPython.core.display.HTML object>"
      ]
     },
     "metadata": {},
     "output_type": "display_data"
    },
    {
     "data": {
      "text/html": [
       "<dt><a class=\"ProveItLink\" href=\"../logic/booleans/conjunction/_theory_nbs_/axioms.ipynb#empty_conjunction\">proveit.logic.booleans.conjunction.empty_conjunction</a></dt><dd><a class=\"ProveItLink\" href=\"../logic/booleans/conjunction/__pv_it/axioms/c16d53f7a5fe53295bdcbfd1cadfd0f0f61454f00/expr.ipynb\"><img src=\"data:image/png;base64,iVBORw0KGgoAAAANSUhEUgAAACkAAAAUBAMAAADiqgm2AAAAMFBMVEX///8QEBCYmJiqqqpUVFTu\n",
       "7u5ERERmZmbc3NwiIiK6urp2dnbMzMwyMjKIiIgAAADRdxPqAAAAAXRSTlMAQObYZgAAANFJREFU\n",
       "GNNjeHuHAQJ0Z4GpJgYLILmLAQbALNYEBpYGKLsBLsrbwMB6Acq+DhdVB+J9EDZPZgBMdAYQB0LY\n",
       "LOseQEU5JoBMWQBmxzJMgIryFQAJ7gIwezMQQkTZFIAE0wUwewJDL1SU0wBIME8AsZkeMLAcgIgy\n",
       "LgBZ/gHE5gxg4HHAEDUHsm4gmcAFNgEoApJBtY0ngQFsyi6IoxgY2DcA2Swgs/gegEW5wL44AGRz\n",
       "gUPsAMLHkRghiRQ6SKJsSCGJEupACYaXsBh6C4shDQYGAOiVQ+bRnGebAAAAAElFTkSuQmCC\n",
       "\" style=\"display:inline;vertical-align:middle;\" /></a></dd>"
      ],
      "text/plain": [
       "<IPython.core.display.HTML object>"
      ]
     },
     "metadata": {},
     "output_type": "display_data"
    },
    {
     "data": {
      "text/html": [
       "<dt><a class=\"ProveItLink\" href=\"../logic/booleans/conjunction/_theory_nbs_/axioms.ipynb#multi_conjunction_def\">proveit.logic.booleans.conjunction.multi_conjunction_def</a></dt><dd><a class=\"ProveItLink\" href=\"../logic/booleans/conjunction/__pv_it/axioms/99604d56996e262a507070605571b2b391afd99a0/expr.ipynb\"><img src=\"data:image/png;base64,iVBORw0KGgoAAAANSUhEUgAAAb0AAAAyBAMAAAA6kRjOAAAAMFBMVEX///8QEBCIiIhmZma6urrM\n",
       "zMxUVFQiIiJERETc3Nzu7u6qqqp2dnaYmJgyMjIAAAAcRTyBAAAAAXRSTlMAQObYZgAAB8pJREFU\n",
       "aN7NWm9sFEUUf7e9vevu3V77QQtKxAsY5FsvKakJVntotImJemBCNST2wp9EicohCSqgHJFIi5oe\n",
       "MZF/0R5ihGCCF/tBSTAU1MRUY85WDMYgZwAT+QCX0pa2UM6Z3ZnZmb25O0q5hWl2bzr73uz8Zt6+\n",
       "ee+3C1Ch3F+4BtMrP4DLRY9bv8FCob6i8Kzde6Z3t2Cf2/jgGYJz997K+O6e7s3m0YqWrQaWI5I2\n",
       "I0cqavXxBdgtDpJ75qbWwYsl2v8orGjujIIvJbn2gXv49kVp7T/rJ5TnrqbkShpXv+S4xlRmAtSM\n",
       "gJ4rc1MX8L3LjCZi/f49wV09K1cKRWxbu5QWr1EVdRLAexngRBmjqT6+AEPjtyZe7x23r6rb0lKt\n",
       "5zew6pet4hozFQX1YwyhtZJ1sMktfH62EjvJeijD9lXfY2Gp1so5rJptjAqXmEotGvs+NA+hqKSD\n",
       "YymX8J1hsz/X+nkqMGlfPQwJ6QaW89OqN31MdLtMpS4O6nq0lsFI6WmtPr43We1Da+hRdQgboNX2\n",
       "M/qTbZmZYIZUP4cOcYmZSserA9sybDP49SIu7HE2JtzBp9rGuNFaD9CQT3juIastAZ9KjRo06hWj\n",
       "0COuD1NpTIHegJ9wmQnoQ+7gq7FvcJd5XtrUPIZ+2qxZDoMvJtEaAFhF5mdF05qksHUzlS0YI1pA\n",
       "NS+78UV38HniDnzIGcxm+PxpUOMSLeQ1lpLHD3UhbHC2yijGFy6FrzHlCr6OrGifAXSsZfh67V1f\n",
       "2FOQRYYsv4TWx18PxiNL5irzYoIK3v5gDZoub8J+/v5lffRkXcHXmBL9y14SkLSxiKZXsrunLIwo\n",
       "jsmY8Y6xKOtZrcQFFbz9qWN8sCkxnKrj22JXv8fjxXPdnSL41KRlcKBfB3L6Kked6wa6Z9aOw54H\n",
       "oS5a08erQAgNfdF2/IhL85PaBMFnoj9dFl8lkTJlpl1FkPTu62n4trCO4PPhnVnB7n89kJMfT/tK\n",
       "/B/e4Q8WLkCg+0oElsNi8Gd4Fd+l0aaX3jdXOybdYvIEn7mbXCiLr5JImUzzMucZ+DirjTgPVIqH\n",
       "ZwYkqjiI+dCjylUOSO9sjBB8u7DZJMviqyRSZvsb4u7I72PfTKkbLY9W8FRQfvFEmTsjfCEc4mTK\n",
       "4qskUia6vsr902VXP9q8fCrdeOPIr3zcLzeRXBnLQfiM/kOHdpb3L5VEShfLSsT89haX2hIp5Cj1\n",
       "n2OdnZsq+M8KIqWLMs5bWVX4iT9LtI9RfKsEy5HiYyJdlafQ293SzMSCE3C7ymyK7/EiE25viSoN\n",
       "PD4qYgzLcyAhA/sN4DgLP28fvhkUnx8UznD0o03ZQLIfFvL4qMj+Semj3CoYXjPKLmlW7svfNnxr\n",
       "Kb5g1s81nzpyCAIDNdDH46Mi/eukW+kBIYN5HeBRuIPwaTkUq9MI1ouHGlj2QljAZ4og6XCnrKcl\n",
       "tfzeqI+AcuEOsM83WPzZheIhGsGGzF0r1n9SwGeKoNUAlJb6ihiheA2fYXqHBt6zl3ZckPyEHNNj\n",
       "rFI31M78C/Si4dEIdr+FL2iTGia+XhPBX9AI6nEnPiOj8FYYzIHC8CojwoOatA6YOsnLy7/sHMAa\n",
       "FIpudbY3MHx1OMIlEWx7Z2dnOBDTsgkBnymin/2lO20F7wLh0/ITb4W1faCxqEV0uDjvIXmdQPJq\n",
       "JUBxC8LLH3aqedCctcZYu1UuM3xG2o5gfdb6wRNhAZ8pUpOGnlgxvoWgjcDgd4PLfrRorQx4mVUG\n",
       "BHyD5HCSvKGIHB9H/vLywbBDDSfRz0ZYu2Ur14T8j0awQRyaG1Ew+orzv6fR4LMYn7YddqXpyYs6\n",
       "n4Svc57MURSJoylIww6mrAobylvkcJC8PJsrZXId8nq9Qw0n0WfCrF2Mrx0RLE6p2s4hp1GEr3YM\n",
       "tO63TQJkFixOqffg0yzoTsKuK1lf7AAsAFicCW5uat7qsBI6hwmS4DpIXp7NlTK5TvlzDjWUROsz\n",
       "0qydi+yL83cFPX9l83dsnwG7G8bo9UIiY/IlQnmH7zpiHU6Sl2Nz5UyuQ95kAng1FEq3r2btvOee\n",
       "Oj+hNj7Mv3OjtS/gAVieKvbdrbznyVqHk+Tl2Fw5k0vl2cMoqqmjp+dvtNv5yOIm+ZespGbZUVFo\n",
       "ynkjTDCYJIOD5OXYXDmTS+QdyTFTw0nKvrgjafYk3eEHuZXxRK3DQfJybC7ImVwqzzoV1fCLFuUq\n",
       "ayf8YNhtfpfDJ5C8HJsLciaXyov4mFodklKGHPhc4ndr8hL7FElejs0Vik3+EvnBk3Mic1ZRPVsN\n",
       "b3++YXu+zLINXMHnHZb4F5HktdlcsdjkL5H//T5oSM+jfsRWw0vVkXT4F5ferwCXUeGYFh8iyWuz\n",
       "uSa3i08m02szuURe+ywBw9CC6i2CGvyDpnFmmraTvcil92O8A8UvCtDhIHltNtfkds3Tep7JZfK+\n",
       "MBou3gjOC2qv4e8oTDd2vui5rz4+T58sPuNIXgmbC3Ly1xNTklo+BnpCrqZzaZpr76cDE9L4+iZI\n",
       "XuhBK2gk+8Q4Gorjbi40d+H7kLMiz8ZxbVMkeeFJ5FO0V9KOPKg4b8Kzeq9r+HbEZPntdEpX5XYX\n",
       "v+/hX4/fEn7CSFVuXwGu4cN8odvFSN44vml/H+kLu45vKt9HTv/71gVuw9NXE4daKNT/DzgRP+hd\n",
       "ttm+AAAAAElFTkSuQmCC\n",
       "\" style=\"display:inline;vertical-align:middle;\" /></a></dd>"
      ],
      "text/plain": [
       "<IPython.core.display.HTML object>"
      ]
     },
     "metadata": {},
     "output_type": "display_data"
    },
    {
     "data": {
      "text/html": [
       "<dt><a class=\"ProveItLink\" href=\"../logic/booleans/disjunction/_theory_nbs_/axioms.ipynb#or_t_t\">proveit.logic.booleans.disjunction.or_t_t</a></dt><dd><a class=\"ProveItLink\" href=\"../logic/booleans/disjunction/__pv_it/axioms/8bf93f13ef4fd3c78d6cdf517a066f1935c37da50/expr.ipynb\"><img src=\"data:image/png;base64,iVBORw0KGgoAAAANSUhEUgAAAHAAAAAUBAMAAACnq6Q0AAAAMFBMVEX////MzMxUVFR2dna6uroQ\n",
       "EBCqqqqIiIgiIiJmZmYyMjJERETu7u6YmJjc3NwAAACgK8IjAAAAAXRSTlMAQObYZgAAAQpJREFU\n",
       "OMtjYOC7wIAH5OGWOs3A2QEGCsiiM8BCTQxMD9DVw2QY1oF4bAUQUQEQwQhhp4MIngVY7ALL8E5A\n",
       "1qgIIq4jSTOY49LI8QBZoxCI6EHWeBSXxhcMyBq5gMawTEDWyOWAQ2MlikY2oCbuB8gamSfg0LgX\n",
       "RSNDAwODNLI0Ay84dKxWgcBKZJk2VI3lDAwqKBrZGnDYGIKq8QQiAiAaGT8Qp5EzgTmBOI1oTuVb\n",
       "wIEizcDSgPDjIjyBw7DxOgOWwMFioyWaRqEeVI2cBjg0ekAcBM8iXPB484XwBTA1+iKSHALwHUDl\n",
       "n8CVq3gnMOAF5jhl9uHVhzVbwTIyPsD9AKcU/qLjHi4JABqGSPnwNDtcAAAAAElFTkSuQmCC\n",
       "\" style=\"display:inline;vertical-align:middle;\" /></a></dd>"
      ],
      "text/plain": [
       "<IPython.core.display.HTML object>"
      ]
     },
     "metadata": {},
     "output_type": "display_data"
    },
    {
     "data": {
      "text/html": [
       "<dt><a class=\"ProveItLink\" href=\"../logic/booleans/disjunction/_theory_nbs_/axioms.ipynb#or_t_f\">proveit.logic.booleans.disjunction.or_t_f</a></dt><dd><a class=\"ProveItLink\" href=\"../logic/booleans/disjunction/__pv_it/axioms/257ff432d8cac3d069379a19b2748921daaea29b0/expr.ipynb\"><img src=\"data:image/png;base64,iVBORw0KGgoAAAANSUhEUgAAAHAAAAAUBAMAAACnq6Q0AAAAMFBMVEX////MzMxUVFR2dna6uroQ\n",
       "EBCqqqqIiIgiIiJmZmYyMjJERETu7u6YmJjc3NwAAACgK8IjAAAAAXRSTlMAQObYZgAAAQ5JREFU\n",
       "OMtjYOC7wIAH5OGWOs3A2QEGCmgSYiCC6QG6+hlgxU0MDOtAPLYCiKgAiGCEsNNBBM8CLHaBZXgn\n",
       "IGtUBBHXkaQZzHFp5HiArFEIRPQgazyKS+MLBmSNXEBjWCYga+RywKGxEkUjG1AT9wNkjcwTcGjc\n",
       "i6KRoYGBQRpZmoEXHDpWq0BgJbJMG6rGcgYGFRSNbA04bAxB1XgCEQEQjYwfiNPImcCcQJxGNKfy\n",
       "LeBAkWZgaUD4cRGewGHYeJ0BS+BgsdESTaNQD6pGTgMcGj0gDoJnEa4JsKQcCk7KXAKYGn0RSQ4B\n",
       "+A6g8k/gylW8ExjwAnOcMvvw6sOarWAZGR/gfoBTCn/RcQ+XBAD2iEiPkqdDlgAAAABJRU5ErkJg\n",
       "gg==\n",
       "\" style=\"display:inline;vertical-align:middle;\" /></a></dd>"
      ],
      "text/plain": [
       "<IPython.core.display.HTML object>"
      ]
     },
     "metadata": {},
     "output_type": "display_data"
    },
    {
     "data": {
      "text/html": [
       "<dt><a class=\"ProveItLink\" href=\"../logic/booleans/disjunction/_theory_nbs_/axioms.ipynb#or_f_t\">proveit.logic.booleans.disjunction.or_f_t</a></dt><dd><a class=\"ProveItLink\" href=\"../logic/booleans/disjunction/__pv_it/axioms/5790d0807f6ee5075f9866317c9e0e02edc7e8b80/expr.ipynb\"><img src=\"data:image/png;base64,iVBORw0KGgoAAAANSUhEUgAAAHAAAAAUBAMAAACnq6Q0AAAAMFBMVEX///9UVFTMzMx2dna6uroQ\n",
       "EBCqqqqIiIgiIiJmZmYyMjJERETu7u6YmJjc3NwAAAC+aOQFAAAAAXRSTlMAQObYZgAAAQ1JREFU\n",
       "OMtjYOC7wIAH5OGWOg0imBLQRGd0gEAjA+MDBhwyDOtAPLYCiKgC2BQIOx1E8CzAYhdYhncCskYh\n",
       "EHEdSZrBHJdGjgfIGhVBRA+yxqO4NL5gQNbIBTSGZQKyRi4HHBorUTSyATVxP0DWyDwBh8a9KBoZ\n",
       "GhgYtJGlGXjBoWO1CgRWIsu0oWosZ2AQQdHI1oDDxhBUjScQEQDRyPSBOI2cCcwJxGlEcyrfAg4U\n",
       "aQaWBoQfF+IJHIZN1xmwBA4WGy3RNCr2oGrkNMCh0QMo19HRGtHRIQCJcHi8+UL4CpgafRFJDgH4\n",
       "DqDyT+DKVbwTGPACc5wy+/Dqw5qtkDIyTsD9AKcU/qLjHi4JAP4OSHMxpgrYAAAAAElFTkSuQmCC\n",
       "\" style=\"display:inline;vertical-align:middle;\" /></a></dd>"
      ],
      "text/plain": [
       "<IPython.core.display.HTML object>"
      ]
     },
     "metadata": {},
     "output_type": "display_data"
    },
    {
     "data": {
      "text/html": [
       "<dt><a class=\"ProveItLink\" href=\"../logic/booleans/disjunction/_theory_nbs_/axioms.ipynb#or_f_f\">proveit.logic.booleans.disjunction.or_f_f</a></dt><dd><a class=\"ProveItLink\" href=\"../logic/booleans/disjunction/__pv_it/axioms/d0fe79cfc14b52910247c57379e55073cac27fb70/expr.ipynb\"><img src=\"data:image/png;base64,iVBORw0KGgoAAAANSUhEUgAAAHAAAAAUBAMAAACnq6Q0AAAAMFBMVEX///9UVFTMzMx2dna6uroQ\n",
       "EBCqqqqIiIgiIiJmZmYyMjJERETu7u6YmJjc3NwAAAC+aOQFAAAAAXRSTlMAQObYZgAAARFJREFU\n",
       "OMtjYOC7wIAH5OGWOg0imBIwJdRABOMDBhwyDOtABFsBREgBbAqEnQ4ieBZg0QiW4Z2ArFEIRFxH\n",
       "kmYwx6WR4wGyRkUQ0YOs8SgujS8YkDVyAY1hmYCskcsBh8ZKFI1sQE3cD5A1Mk/AoXEvikaGBgYG\n",
       "bWRpBl5w6FitAoGVyDJtqBrLGRhEUDSyNeCwMQRV4wlEBEA0Mn0gTiNnAnMCcRrRnMq3gANFmoGl\n",
       "AeHHhXgCh2HTdQYsgYPFRks0jYo9qBo5DXBo9ADKdXS0RnR0CEAiHBJvMzo6Qjs6GoF8BTRdMBkO\n",
       "tOTPdwCVfwJXruKdwIAXmOOU2YdXH9ZshZSRcQLuBzil8Bcd93BJAABJLUe/77Ia5AAAAABJRU5E\n",
       "rkJggg==\n",
       "\" style=\"display:inline;vertical-align:middle;\" /></a></dd>"
      ],
      "text/plain": [
       "<IPython.core.display.HTML object>"
      ]
     },
     "metadata": {},
     "output_type": "display_data"
    },
    {
     "data": {
      "text/html": [
       "<dt><a class=\"ProveItLink\" href=\"../logic/booleans/disjunction/_theory_nbs_/axioms.ipynb#left_in_bool\">proveit.logic.booleans.disjunction.left_in_bool</a></dt><dd><a class=\"ProveItLink\" href=\"../logic/booleans/disjunction/__pv_it/axioms/9877b39fee12b8748af82b0311f7b4cb424b7da50/expr.ipynb\"><img src=\"data:image/png;base64,iVBORw0KGgoAAAANSUhEUgAAANQAAAAWBAMAAABK0K+UAAAAMFBMVEX///8QEBCIiIhmZma6urrM\n",
       "zMxUVFQiIiJERETc3Nzu7u6qqqp2dnaYmJgyMjIAAAAcRTyBAAAAAXRSTlMAQObYZgAAA1BJREFU\n",
       "SMetVl9IU1EY/3Xvne7e3ekeg0L2UNRLthrMLKtFUCKI4oP1ELSHAn1bRUVQOSJqWrDbSwkRXhBS\n",
       "fLCBDyUVLRQSM1kFFWi2qF6CyjTJjP5855zNe/dHodiBs+9+58/3+/6fAUUbN5bbdBlAin28LgKS\n",
       "FuHEkcpeXrcy9vZEEGgFHjP+YxGgygxBpnPWU01ax3agH+gkTo0UAeq5IFMLOeuReqx1AroXZSaR\n",
       "eBGgTgk3DvwQrPviybMZqLsEpXngHu3ru1YEJDUsEKRvImTnTMuq4V6i74H5aPT0cjKM/CVHgWOS\n",
       "j5M61y9O+03Lgcrxw0SHACLtfE381s4OtXDpijipsx9nBk+J1QTa4QrmQzmT3H9BxwxnW61Y7Wr7\n",
       "ys5PAbuh8fx0C8vdHugefhfWnTeLsp8CD4HqNDdVWbUt/VkaF/qpswLAnhZPJonepjOQuELdwnI5\n",
       "BNeCBeVIMF13JsHO0AwAD0zcZIv3/ElJVycahcQVXJtmf2CeX6v4TCMD5VTo5kHyULKUL40eE9p5\n",
       "IacsqBImSe/xYQ1FPgQcBXaIGno12AdJwmjSDkU/FcguHwaFEIdSU81cD2+U79xqRKVpQXE1mpwR\n",
       "xsoGtDlIVO/kB4WlgSQpk4bNgS6aRzjrsUOVsJ60l6XDIa4+qvhOw4b1IVhQvA5Cchh6EFcpFjPP\n",
       "LjCRIZTxtJM3fbCnxXWaXzi7Ocsqd4KnBQZ4RUxgI98Zp7Zlg6plmRKXplmLo2TQU5DouBJBN4eS\n",
       "UJ2Ole5L11bMsLKEN6YDGKMIo4ZmuZcF+d1YjPvtMtAVt6D2sBqpGaFEGdbIWmcC6k/eU/dFo1Ev\n",
       "QSW86TIIQ4v9NnHnD4+51lKX3W7BzHczCNlEF9ePBDUYFtR+mluhzgG9Mu2Xx6FQ51FC5HBhVcKX\n",
       "1ZgWhzKSbkyZxh/OfNWTmKTaAXUB6mqbA3voEkWBCkF/QWyXiSvkd/K9zhSTdIwlstvtUkP3ZoI6\n",
       "DzV2xrEKj2b9LUEbVKmJWASd35Ms+aC3+QPnmQ/oyCWiL8e3fFpsF8ayUP25b6W904jWZjV90/Y2\n",
       "sR2KVYGncanRnsMP5kGhoID7//zgu3NtTuZD1Rd6230o6pCt/x95D4b5PwL/Av+C11/3FK8+AAAA\n",
       "AElFTkSuQmCC\n",
       "\" style=\"display:inline;vertical-align:middle;\" /></a></dd>"
      ],
      "text/plain": [
       "<IPython.core.display.HTML object>"
      ]
     },
     "metadata": {},
     "output_type": "display_data"
    },
    {
     "data": {
      "text/html": [
       "<dt><a class=\"ProveItLink\" href=\"../logic/booleans/disjunction/_theory_nbs_/axioms.ipynb#right_in_bool\">proveit.logic.booleans.disjunction.right_in_bool</a></dt><dd><a class=\"ProveItLink\" href=\"../logic/booleans/disjunction/__pv_it/axioms/c2cdc684c6849d56d860f8b74236e8cb74419eb40/expr.ipynb\"><img src=\"data:image/png;base64,iVBORw0KGgoAAAANSUhEUgAAANUAAAAWBAMAAAClEsSqAAAAMFBMVEX///8QEBCIiIhmZma6urrM\n",
       "zMxUVFQiIiJERETc3Nzu7u6qqqp2dnaYmJgyMjIAAAAcRTyBAAAAAXRSTlMAQObYZgAAAx5JREFU\n",
       "SMetVktoU0EUPZ2XT1/yknQhVFAkO7uxrRatxYUBQUuhNKvWXQNWiC784ELED1EEX1VoVtaN9Emh\n",
       "LV1owVVBIbSCUmt54EKlrUbEjaCIlVIrWu/MvM+kCQElAxlm7pk3595z78wEqFm7VxWdpl+RD5Zr\n",
       "QBXJAbHTq23Z6yVmdtb80zgAhPLAC274XAOuOG2GOiI8mC61B5MTozYiFNRdmuq5GnC94l2/DfS0\n",
       "ltjrAzZLE8EM0VqAMVUDrgu8a6Hg3ifFPHbj/BWHKzpFXPfJNDc5OVwDKv0M769S3hotPgpes7y4\n",
       "jC7iiqeANdO8VG2TfLkpWGEZE8qtAn0nxfyB5Wt4pJdSaNCC48CgMMq+c2U2K7YPyKWGgrlwNFXO\n",
       "VW9zJ1aXmy7K+Qk/X40bW7imVByHRInQ+IeUuQFGg1ijfONgHtzhzN41tx9whmGec/aT8pIR85xS\n",
       "G8ZyAYiSyGEw7hJGfwtIyyC67nMFCw4W40QuPMbP0+M2mxn6olPhdTzWevKS/RLf7fhKzeFCrpss\n",
       "30gkOywWz52T/iWhFX2uUNrBGO11x4X5WXozPQnGMGcrXAmKiX1HyTESXCHJpRd7hSNJU0AP02i2\n",
       "fK6wh9HHHS5MSgR4LTAWWMorGvLjFZJ6N6hcmTjlnxfq4IAIAO0C6tnVJAWXXMMe9hR6xoWjGcRF\n",
       "8Wm7P6m1wY9Xv4xoT0lcS7I28EicjEW0CGgB2KlwdXrYBLS8CwdyGBVcDB1OvnhJ4wNBWy0/TnlH\n",
       "FYxZ8k/jmU/wcx75OD8kFt0GRqZ8rsMeZqTGPDhYRJ9pmkniKshbQkh0auPYPtPhiGS7Su5exLlT\n",
       "Mc6hWRgRHlIV9eR9rqMeFsnt9eBAhnSVcRVa1TtKaYHn8o5y27g3oqJM2PpN6OvQtysajrsY8JKE\n",
       "cOBYAQb3jBmYL6h3b5U24yVwDfrQ5eA2PFtpy6YUrrDlYKIEXVij3y1CXy/s/+Jtka/+vBU3GaLq\n",
       "pSPl9p+AiPImcYTytfmtrNLKXJku40LFHZ78+3+At5sNdjlXdyU9WlHbpjmyVkgDs/5rx7//6tso\n",
       "nVLfqQAAAABJRU5ErkJggg==\n",
       "\" style=\"display:inline;vertical-align:middle;\" /></a></dd>"
      ],
      "text/plain": [
       "<IPython.core.display.HTML object>"
      ]
     },
     "metadata": {},
     "output_type": "display_data"
    },
    {
     "data": {
      "text/html": [
       "<dt><a class=\"ProveItLink\" href=\"../logic/booleans/disjunction/_theory_nbs_/axioms.ipynb#empty_disjunction\">proveit.logic.booleans.disjunction.empty_disjunction</a></dt><dd><a class=\"ProveItLink\" href=\"../logic/booleans/disjunction/__pv_it/axioms/25457ba768b8e083d3aef1fb189b90f421febeae0/expr.ipynb\"><img src=\"data:image/png;base64,iVBORw0KGgoAAAANSUhEUgAAADsAAAAUBAMAAADB8VhjAAAAMFBMVEX///8QEBBERESqqqru7u6Y\n",
       "mJi6uroyMjKIiIjMzMxUVFTc3Nx2dnYiIiJmZmYAAAAK2EhgAAAAAXRSTlMAQObYZgAAAOhJREFU\n",
       "KM9jYICB9kooI/wamNrKYM2ABI6hslgUGLg2oEhzgukJEGn2DQwsBSjSXBOAFGsDRDoOiE+g6l4A\n",
       "pHgdINK3gdgR1e5qIJUHsZv7AsiCBBRpOyClDZHmeAAkeB6gSPMyMHAqQKSZAkDuKGB4excI7kCk\n",
       "ORoYuBIg0rwGQIL5AkTnLog0ywUGd6i/GUHWcn5AkWZ4zHAYn/R2hgsMSIazoRrOwDS1gQHVaWDA\n",
       "CRXkXOsAZYH9xHcALUrqYCywuewT0KS3wFmgQPXFHaGYUYLCYsKIUPTkwIScHHphiakdlpiiGRgA\n",
       "VudMfZzNtAQAAAAASUVORK5CYII=\n",
       "\" style=\"display:inline;vertical-align:middle;\" /></a></dd>"
      ],
      "text/plain": [
       "<IPython.core.display.HTML object>"
      ]
     },
     "metadata": {},
     "output_type": "display_data"
    },
    {
     "data": {
      "text/html": [
       "<dt><a class=\"ProveItLink\" href=\"../logic/booleans/disjunction/_theory_nbs_/axioms.ipynb#multi_disjunction_def\">proveit.logic.booleans.disjunction.multi_disjunction_def</a></dt><dd><a class=\"ProveItLink\" href=\"../logic/booleans/disjunction/__pv_it/axioms/b88221fe248a3119c661e1de68092e2362e2fce40/expr.ipynb\"><img src=\"data:image/png;base64,iVBORw0KGgoAAAANSUhEUgAAAb0AAAAyBAMAAAA6kRjOAAAAMFBMVEX///8QEBCIiIhmZma6urrM\n",
       "zMxUVFQiIiJERETc3Nzu7u6qqqp2dnaYmJgyMjIAAAAcRTyBAAAAAXRSTlMAQObYZgAAB8dJREFU\n",
       "aN7NWm9sFEUUf7e9vbu9f+0HLSgRL2CQb21SUhOo9ghREhP1wAQ0RHsBiUpUDklQAeWIKFfU9IiJ\n",
       "/It2EWNJTfBiPygJhoKamGrM2YrBGOAMYCIfoCltaQvlnNmdmZ3Znd5xlC5Msnt7s+/NzG/m7Zv3\n",
       "frsAZcr9xWswufIjuFyCSfM3XCzWlBWesWfv5HoLd7uND54kOPfsK4/v7sl2NodeaPmpwHJYUhcp\n",
       "kAt16vGFWBcHSZ+Fyhp4foL6P4urGjNx8GUl9z50D9/+OL36z/yJ9tMK1TgnHCoJ6yYql/hbvMp0\n",
       "gKohCBZKdOoCvneZ0dSbv6fHaI0PjzMSc6isxqdeqnZJ525xKuo4gPcywPESRjP1+EIMjd80pGDX\n",
       "KFsM7Of8ukNnGT5tJH++auYNkFNRUDuRAbRWsm43u4XPX0+vdpH1UAaBt9hFTp0oQuSlevm6OH/P\n",
       "Ugmgse9HsxCNS7o9mnUJ3xk2+7PNn8dD4+xmFzpaJWuOsAWInlc/KrhdS6U6CeoGtJLh+omnderx\n",
       "vcmuPjLNM64im4JnzFGgEaQlSikqAPAFtAgPqKXS8mrv9hzbDH67iMtZ9rCPuYNPtYxxk7keoCGf\n",
       "8PRDxh8lBj6Zdc0CeIFcxqFdWB9LpS4LwVq82ilZCDPgDr4qq4O7TN/R0DiCfhabo0jBIZlWB/P6\n",
       "6qqGtcIKWypbMUa0gGq/rImL7uDzJG340NzPZPhgAfwinZVcOEceP9SEuMExlWGMLzYRvrqsK/ha\n",
       "8qJ9htCxzsL3GciMC7SCn1whmP4aiDy8dLYyJyGo4O0P1qLp8qas5+9f1kR73hV8dVnRv+wjAQnB\n",
       "F3guJlV7j+zuWs6IdyIL8541SlJQwdufOsIHmxLDmXJ8W63LH/B48Vy3ZRk+9UVjqw5ep6evzcEu\n",
       "22jtmYFR2PsgVMerunkViKKhL9yBjVmanwRSBJ/R4KmS+MqJlCjTrUsEKdh2XYfviusZPiAOfQM9\n",
       "+c1Fipo+82DxAoTartTDSlgC/hyv4rs03PDSB4ZsQpqV9RN8xtN6oSS+ciIlMs3L3M7Fx1kU3wS5\n",
       "pabbBzEX2lW5Soe0hcgQwbcbN5cuia+cSIntb4Drkd/Hvq2oGa0freDJsPzm8RI9I3xRHOLkSuIr\n",
       "J1Iiur7K/eEisY+3rKykGW8SxZ2f9MhNpFDCchC+SE9n567S/qWcyMTFtBIxv73FJZCV1w9T/zmS\n",
       "yWwu4z/LiExclFHeyqaEn/hrgvoRim+1NIYX8DGR1vJT6G1ramRi4TG4XWUmxbfIYcLLm+JKLY+P\n",
       "ikQG5TmQECP/DnCMBVq3D980is8PCmc4wSMN+VC6B+bz+KjIgXHpo9wsGF4jyi6pe/f13zZ86yi+\n",
       "cN7PVZ883Amh3iro5vFRkZ710q20Q8hgXgd4BO4gfFphGbAI1qAFQiuejQn4DBEkHcvIWloa4PfG\n",
       "4BAoF+4A+3yDxZ+tKJekEWzU2LUSPScEfIYIWg1AaanPwQclq/gkwDvQ+761tKOC5KfkmBxjlb2h\n",
       "euZfoAsNj0awB0x8YYvUMPB1GQj+hjpQj9nxRXIKb4XhAigMrzIkPKhp84DKSV5e/mX7ANaiUHSb\n",
       "vb6W4avGCQeJYJdnMplYKKHlUwI+QyR49tc23cnnHWr6mbfCQDdoLGoRHS7mxaLmLFskr43NlTK5\n",
       "gjzJ3zk1D5qz5oSNCrjM8EV0K4L1mesHj8YEfIZIlQ7tCSe++aANQd/3fSt+MmmtHHiZVYYEfH3k\n",
       "EEhekc2VMrmiPIRjNjWcRD9VT+qprVwT8j8awYaNVuMQ6Xbmf0+gwecxPm0H7NbpyYsaH4dvCp7c\n",
       "ERSJoynQYSdTVoUN5S1yCCSvyOZKmVxRHoI1NjWcRJ+JkXp7fG2LYHFKtfgcchoOfIER0Nrexl2q\n",
       "M2BJVr0Hn2ZAWxp2X8n7Eh0wD2BJLryloXGbzUroHKZIgiuSvAKbK2VyRXmAczY1lEQHp+mkXojs\n",
       "nfm7gp6/kvk7ntKQ1QyjJbsglTP4EqG8wzddbx42kpdnc+VMrihvMgG8Ggqll6+h9YLnrpyfUOsW\n",
       "8O/c6NWX8ACszDp9dzPvefLmYSN5eTZXzuRSeVpOi2rq8Km5m6x6PrK4Sf4lL7ky7cgRmnLeCBMM\n",
       "JskgkLw8mytncom8LTlmajhJ2Z+0Jc2etDv8IGewnrh52Ehejs0FOZNL5Vmjohp+0aJcZfWEH4y5\n",
       "ze9y+ESS12JzQc7kUnkRH1OrRn0oAzZ8LvG7Vf0S+7SRvBabKxZG/hL5vhOz6metZnpMDW9/vkGO\n",
       "tMJlO7iCzzso8S82kpexufa0mZK/RP6P+6BWn2P5EaqGl6olbfMvLr1fAS6jwjEtPuwkL2VzDW4X\n",
       "nwym12Jyibz2eQoGoQldNwlq8A+axum6VW/4HJfej/EOFL8oQIeT5CVsrsHtGqcNPJPL5H0xNFy8\n",
       "EZwX1F7D31EYT+J5x3M/9fg83bL4TCR5NV2ua2NyPQklrfUnsGOVqgW5NM2199OhMWl8fRMkL7Sj\n",
       "FYyku8U4GuxxN7/0bnwfclbk2bhIrEKSFx5DMaf2ii5/JcryJnNW73UN386ELL+dTGktX+/i9z38\n",
       "6/Fbwk9EsuXrV4Fr+DBf6HaJpG8c36S/j/TFXMdXyfeRk/++dZ7b8IJriEMtFmv+B8M7QBtMY5aP\n",
       "AAAAAElFTkSuQmCC\n",
       "\" style=\"display:inline;vertical-align:middle;\" /></a></dd>"
      ],
      "text/plain": [
       "<IPython.core.display.HTML object>"
      ]
     },
     "metadata": {},
     "output_type": "display_data"
    },
    {
     "data": {
      "text/html": [
       "<dt><a class=\"ProveItLink\" href=\"../logic/booleans/quantification/universality/_theory_nbs_/axioms.ipynb#forall_in_bool\">proveit.logic.booleans.quantification.universality.forall_in_bool</a></dt><dd><a class=\"ProveItLink\" href=\"../logic/booleans/quantification/universality/__pv_it/axioms/de5bd4b76e133fdc5f4be7d7ae8e6f2f717df2950/expr.ipynb\"><img src=\"data:image/png;base64,iVBORw0KGgoAAAANSUhEUgAAAX8AAAAVBAMAAABccvPcAAAAMFBMVEX///8QEBCIiIhmZma6urrM\n",
       "zMxUVFQiIiJERETc3Nzu7u6qqqp2dnaYmJgyMjIAAAAcRTyBAAAAAXRSTlMAQObYZgAABMBJREFU\n",
       "SMe1l21oHEUYx/+93N7L3u4lHyqlgnIm0Eho08MgBWnkqmC0It3mQ/FDIUdQMX5oT1uMqBxnBXtR\n",
       "pIeICYXaNUKtUdtDOarF4nFXQdJWFxoRJS33wVIUrIfB0LSSOjO7O/t6ex7qA7c3O7v/mec388zs\n",
       "M0BbC11TfGrjGgavoHMjuk4sUQIu7/d99AUgX82gQcuXgtqQMkn6Jzt7Pg6c/Qdi0+S915/ac5+u\n",
       "68gmQDtyDOizxdV1TwCREvUN52jdr8EAUpn8JVVH7S+03fZibt0E9hWV6TqyEx4AJIXU8fc1iA0G\n",
       "MEOntRAMwJ7POEc0TdttL+Y2VgW+SjFdRyalPACxsBZSSK81BkAHlo1wAAAb5HOOymiJtttezG1z\n",
       "hvyqTNeRiT0cQD44mTcAEmUC8B7zTZ6fm5tGG4DFubkPc47KaTaz7cXcDpHf3gymO171P5sAwgGV\n",
       "z4C0nQAkM9Q3XC8WX/bRVe0A3cXiwarjcZ8emi3EPrZKgm1J181ueHtjKnDUeyceqJk3dRPghGqF\n",
       "0MgusjNKaQbwJDDl00jaDhBRECNz//By/TWjlTd1gBZirwl/AaeqTCdW5eeiDQit187H+CGVN28u\n",
       "mwAT1hpYd2stDakGA3iQLedggHCa7QZyDyQjkl7SAVqIfT4my+frA7pOUqUb4ZIwlGv58jy+Ux8x\n",
       "b06ZAAXbIpYukcFI5BhAFCH7Di/sO4u7si4A5LCJlCJZhJp65VodwCVubbEbXCciRn0JtwZQUbRt\n",
       "XwaAcOc1YgYACo+RmibzTdKi/OWP6sP4XFK71PrQvqGyDeACaHdRTe/bArCLgz8DOUuH7lQwAPCH\n",
       "FyBunwEUIhwg3tjFN/c3Dqs4k0pL7hDCuwKZFJwsoV91hJAurt27wZttOCvH0pYOY0obAOFPcrn4\n",
       "fS8VjZgh1GMHyCZZC9Q3TJHPsjw82kcjmlil8pYXIPYOfXNH7bw5LcYiZuKQuieawTOuoGeVjs+A\n",
       "oUuom8nTIIDTJFAHsHAH1tsX8T2OGVjkixifkZbkbdqakp7aVKRPdnsAElto6Vurj7oBQMUCfgN2\n",
       "3+4aRFpp2e8q1+0oH8IRfQZOkh7FVegFfhe+GWvGtfhsDnThbDUBomWeSlSlOomIrqoOQCPycD+6\n",
       "VZE5XUG17gHQg/JVy6ERA4CFM1bI70X3OK7YyvffGue6Y72zw5oOEKWi56lzWfMyqUIcH+gjGWIk\n",
       "FaZRc8UEEJ/e7kjmkFR032Q6OOPYBuGFYvEAAThCF6biBPiJlm66UwlDLDQFLwCtvHhm0VVrpRIs\n",
       "hE5782eeM65RuqoKxBxPJcLfTObtr35g+MbsNmwVkNVnIDzqTiUMl1bcyZxuR6WGxABm1Pjr5oVV\n",
       "flpwb1JWMpfIOb73vDdeOoroo4pfMse3CZtv8Sb2V/A1LS4Ai/4Ag0u2TGzKavfYQm2eAewsC+ux\n",
       "s0QvZVYZUR5392p+uONbllMQvRnFLC89hNAF33TaTDgaNt/CWWwkmzxZJuE8yRz8AbwHGrvRELIS\n",
       "U70UxaaMV2ebD2+7mg+wP0Cs5PXtbrIGvFlAvsWRst9+pBxdKrPzn3USpHODL7V/d6SUSUOD/kfK\n",
       "H4lrVzP4L00OGtr/yf4GGa1t6rYvMiUAAAAASUVORK5CYII=\n",
       "\" style=\"display:inline;vertical-align:middle;\" /></a></dd>"
      ],
      "text/plain": [
       "<IPython.core.display.HTML object>"
      ]
     },
     "metadata": {},
     "output_type": "display_data"
    },
    {
     "data": {
      "text/html": [
       "<dt><a class=\"ProveItLink\" href=\"../logic/booleans/quantification/existence/_theory_nbs_/axioms.ipynb#exists_def\">proveit.logic.booleans.quantification.existence.exists_def</a></dt><dd><a class=\"ProveItLink\" href=\"../logic/booleans/quantification/existence/__pv_it/axioms/5288edf6e10ecc9dbd8298a251852c6115a04ca30/expr.ipynb\"><img src=\"data:image/png;base64,iVBORw0KGgoAAAANSUhEUgAAAlwAAAAzCAMAAAB1/yYkAAAAOVBMVEX///8kJCQNDQ0oKCgQEBCI\n",
       "iIhmZma6urrMzMxUVFQiIiJERETc3Nzu7u6qqqp2dnaYmJgyMjIAAAD9T1yxAAAAAXRSTlMAQObY\n",
       "ZgAACnVJREFUeNrtXYmWpSgMdWZkk039/48dEVSW4IL4ntVdnFOvq2xMQC4hJFxf0/z0wrquE81v\n",
       "KShkenT6JzS0Hadyv6WaXL2j+wXJjSJYHTkylKMNGtp64FJCCHkbW9fh+QuuN4CrIUOAtQkMqiK4\n",
       "aAUhqKCrFlxiKX/KoPdPSleiOriafogu0HeBqwjrFlyY2dLKH4mlno0jn5o/YNt+yR92VEV1cDVc\n",
       "vxlcsiXF4Eqe2k8ro5343M6O4eFuyKE+uOLhexe4OG7+WnBRtxlSIzKGDD+tT6Pq4IoXnleBS43y\n",
       "7wUXGon714Ds+diKbOuDqwnjGq8CV1c2Xf8McPHRtd+ATHxgBzyQ+uBSo3gpuPpR/MXgci6XGM0M\n",
       "Q26aSYSYIGhZwoosVE6ExvXBFdqHN4GrK9wgWXDpzpbxE+C6q4PmXC5lFxZu4xBy+qPvUNPNwKMl\n",
       "zycUAUQOAnDpwSu4yEDIV4KLjuQOuKpbrqg1CGvtwgTN7TyEIqnLxfSkAFkNnbJ6pAl1y4ZMfaIY\n",
       "l6yVvoioDd0DlkuO6JXgwqVNeQhcgZ0Qs4dCbZigggosEpfL38y4Pb25xNd2kBJwhSLCyfwAuJph\n",
       "eCW4WvZecInWSsWmjbRCqlfGnR2DXngBo80UkFIvf0SfAxfy3JL3gIuO/XvB1bm29eZxsRp5rihI\n",
       "SsfAw3HL4vwf9C64VhE97ila9gqLuLzPVYQ64Q3je8CFij1xAFwaYYrOgGCnogcu1K6N3DYQZ1XA\n",
       "VVEf9T7wwpxDr6TVaD2xInD5InrSTnKdEQYd+howYC8EFy9uSQqu6UmyoenMeLHduKxXcQ9c6yTG\n",
       "wxKDOq0io0SFYzqE8WMbJiCjmsNfLoftwCVd0AL4Jb3kixASGQmLJqwfARfvfHBtHljf3wdXsbSW\n",
       "3wPX4EIRxueeWjLM2qnez2OvFffBtR5Ta6dfCA/uPFKRUUL87uJhHJnvGFkcSYaQRHh5kIvl6jqn\n",
       "sFtwsf7iXbKVQhFGB1km8UAfAZcefXDpdX0f5H1wlUqTI65juRY8OOPfHbUiuxp7o98iz+Ui7KoK\n",
       "SAkd9vsEtGpdFtWZJwtVMkM0Gax5oKSTVhtc/eYkTuASy1MU9055WHCVSqMjqgkusxWiZ0beVeyx\n",
       "6nudAxdjjezVtGec4xH8ogpQCdkfUyhxrZaOntqtasjZNq0lyloB9Ay4vIE0PtdiYjajc8fnKpSm\n",
       "RlUNXNND1IN7vHbkBZfxx/yzVlSIx4I8cMmWoqZXNhs3T/lUBaRjR0l/gBAemy6BO7d0yjPTEKo0\n",
       "AxrpeYl84shNvAQZcPVamnI3WerAVSjNs6a3wSVZTzTScht52irzIbwPc8mrOG3movSK/5fEXE/m\n",
       "y6Z9jMhUBaRjRwk+SEfsHBY85cseVeLiIXA1Iwt2iyM35S4NZNktlkkrj0Tsn6Ff1izALqpICOpJ\n",
       "Dlzzo2Ju24YUrALSkVUyHAaMHj3m3D9wzHkBFw/AZUMw/OTo6gNwBdIIH5nGfNut+ym6cJMhHwAX\n",
       "RSOeh1elnQsumYi50v0euMQ4uH0hB1VAOrJK1KPQuRT1rA2udgjARbC/CB8VfACuUNq8wWr0sjXx\n",
       "U3Sh1BvgOsFb7AsWjjSC4ywb6U+vRBklEr8DWYa3WB1cXQCuee6j7MOmHTZkQuRir0fgCqUxZhc9\n",
       "iy0/RRcWNjYvKzvjr+6mmNDPZJGcm+ttCC5jqoHFRSqN8fRfis8nN9xqdgiuQJrNyrm8fJCiuw2u\n",
       "X6b1VyydvgguMRh3NTHpXAkpZwcBGUhpk5bAuJt+1B64fGly9tOR9XnDFN3tZfGXDPtKH62LlsXJ\n",
       "/WbEBe/WxDlZTZSiigq0ePKHlmuTZnJb0y58CXkFKbrEoRdXt01/BLhyvXtws5hd1LU8cY8DV94z\n",
       "iBz6qepyytFLnG8AUHTS29PT4FLbmUntwyhI0SWhCHo14NM1TbXE6LfK0ruPcmIzp5KEN1a48wpr\n",
       "ABJt9mhTyyJwLefJvMS5t6Ex+QK9HOg/AS7vdFrARAxSdPEanDvknGeHmpbWSox+q2y9+yAnNhMY\n",
       "YMkIKJTes4ArG10II/Tz2C5DsybOaTcHQzmy4JrMdHcaXKu0JkjqBCm6uB8ZcO2wQ+c0TKXE6JfK\n",
       "1ruPcmJBNhHwBD1wpbnIDCVJbm86Ss5zbYlzFliuhlAnjB6Da4tiLJ7UnGkLUnRJTXhZ29kPdr7B\n",
       "upkY/da2XWxuwQc5sRI6OwccfPTBlZBoJXwAL0pcB/DdEud6VWYzFkepVgBcaBgdE2FOvIUpuqw1\n",
       "DdrTHewWKyVGv+TNb63+LCcWmN+Q6ffBlZJoQSPhn0CIweUnzrlaghtWDLsMrkDpopHBO6EOXMMR\n",
       "PgpF1EmMfqd4vYM4sRJhM7qi/MU9OQk6faycHoArIdFqcGy8bf/uMWfkfK5zZR9c69Z1S9HFgS7o\n",
       "Nt4fgetaYvSWnbl3O93rHciJ1db7naOCRYzYQELg620z2XEy/vsX4MEG4ErO3PegOWDBSdRaZR9c\n",
       "G0g4fGS9B6Oojgbj7Yx1BK5ridHDQiLTUo8JmxJhPZIPxIkVygYEOS9lxHoSorZ0ZwxXCK6ERKvA\n",
       "JnnH1d9ELQPD/vGIeAHibvsHVQtyBWzFukzYhAjr9Q7ixEoXvJk95FJG7CYhfNjxBdDnCcCV8Bwp\n",
       "tNYIT9fbSbEnwJVJjN4HV20mbEKE9XoHc2KJgZylHRaSFj0Ju+CC3YoCcL2TFAs7XZ06BBecGK0A\n",
       "rupM2CQyuvYuw4md1zSbkS0E1yoBJMSuPtc/LciDVSkjyRsAsEkes+xN4CJQGDVx6FNwbalMMr+u\n",
       "9wQZZ6fiBi6ACXtaAVwzWbzX3sGc2Iaz5aMUXKsEkBCbh32xQ//SF5GA735Lt7s0AdeaytQmb2XP\n",
       "1sqDTdRScQdcABP2tAJYg2K53oGcWLsgExtdjhmxe9zYrdIqASbErlMhE/AJwJWQaLGGVsV3vkIJ\n",
       "3C+SoyCqN1uENLURP+SprhV3wZUyYU8ryGggHO5dhhNrKa3YOjEJIxagxMaM2EACRIhd51GmN8GR\n",
       "24REO9ADx/lVr60EDkscpn9mVEpvLs2jdLRyrRV3wAUxYU8rADWkRNhc77zr7njSDUaslQARYlfT\n",
       "f2Y7EpNoJTDv3/vaSvCFuweJ6+gKcc04GntXcZcKCzFhTysANaRE2Fzv7HU2mCWOhEGlS4zYTQJI\n",
       "iD0wXKHIM4nrMAr7rleFQ29K5OICuOjkYDTNDhXWfiwVd6mwKRM2UXBRA5CdzfVuvm62qzZDUsqI\n",
       "3SSAhFg3p8/g9dSRGxV6C+8ClwBk7B8WjHwEhviwjX2OprpV3KXCJkzYRMFFDQARNte7+TqZ/KX4\n",
       "gVxjxEISEkSfMlwJiRaYFu/+kgMwo3D+mLMUyy5+hwprrq0VD6mwIRM2VXBJA7R1/8Ix5z6CBbl0\n",
       "jwNXD5hcFi08LwMXRDo773Mxbb86a48KO19bKh5TYUMmbKLgkgb1Iw9iN/lAYwzAhKP+tq/EY6gc\n",
       "XKSPvlAvR1NNKmbBFTJh0/suaHgLEfYpcD37lXh1vswTn35hePcEbzGPgLtM2D+BCLvD0JZhXNl+\n",
       "mef/YRmHMU9p4loAAAAASUVORK5CYII=\n",
       "\" style=\"display:inline;vertical-align:middle;\" /></a></dd>"
      ],
      "text/plain": [
       "<IPython.core.display.HTML object>"
      ]
     },
     "metadata": {},
     "output_type": "display_data"
    },
    {
     "data": {
      "text/html": [
       "<dt><a class=\"ProveItLink\" href=\"../logic/booleans/quantification/existence/_theory_nbs_/axioms.ipynb#not_exists_def\">proveit.logic.booleans.quantification.existence.not_exists_def</a></dt><dd><a class=\"ProveItLink\" href=\"../logic/booleans/quantification/existence/__pv_it/axioms/3554bff3f26a073d3ba9c68d431d08180ff5c5410/expr.ipynb\"><img src=\"data:image/png;base64,iVBORw0KGgoAAAANSUhEUgAAAh0AAAAzBAMAAADBd6e7AAAAMFBMVEX///8QEBCIiIhmZma6urrM\n",
       "zMxUVFQiIiJERETc3Nzu7u6qqqp2dnaYmJgyMjIAAAAcRTyBAAAAAXRSTlMAQObYZgAACnRJREFU\n",
       "aN7dm3+MFFcdwL+3O7M/ZmfvLqZYuapZuISSE7xLqaAt4IIJh9GW40ya/kG89ZQzmEoXwW6vpXDV\n",
       "BK5aZdGm5TCU4WqoRQsX9Wwhxa53VRN61DWgRgv2DFVjE9sNR5G7Us7ve2/em5k3Ozu3ZZaQvsvt\n",
       "zs77NfOZ7/u+749dgJoUxYD3b6mbni74tXmJH0Ryvfhaf53yaM+VuRMtw9716enGGfE4OuB3e7qY\n",
       "Jmp7vQ5LPFPm5J0ml4EfzYxHh2+TeWDjER8YeH7gWtxbsarmibwXj+S4eaAGxCPRaOcR7unZ9qUa\n",
       "Lpg/T+/oOYfj/6TKfhu8eMCjAfM4kAbnetkQq6UCuQIQawL4T5XdDnvy4NcfFI9vg8QjW0se6mWU\n",
       "yPOQbKuyn57y4sHlOyAeiSmJR7yvljxCF/D/MkTzVfbTGr14wNZAeUTbJB7JVC15xEq4rV+AJ6ru\n",
       "+LonjxfzQfJ4LS/xiHTUkkcDbgf726AZDwfnPbYgVVEm5m5YOcI/jHryMJ9oQDzuBwcPPbc9t716\n",
       "Hn7iL66iqwAJFPDv4d0Wkt+Ijlfq9DP4S2ob//B3weOVN0k5Z+24UwHyUC+AJB+HYUbyYWr10NJR\n",
       "bK37tf4lP2i9Z+wW7PAg9jH0KSUPap9npxPwB+Oz/MNznvKhnQ+QR7hR5vHCzHiw24i/DmoTsw4q\n",
       "T8MFaBcb+wa8DYjhGOqirGcnA/qtD12ePODNAHnUZWQeL1fDYzfe52JQfV0k7mbA/4DzQF1CtIeS\n",
       "rdDt/Ix4tOaD49FVlHm8UQ2Ph/D/j6iCfZub9pc6wd4fpHN3+PBQ37Z5c5L++JdVtb8YHI/WvMwj\n",
       "S3iMfGKeq6Pe3Lle4hEi19BK9bCjkhdrmIWW+UEK6tOE0QohoxKPY6EStMCpP81tc+hTDxkPhsfD\n",
       "IPHASWNGyNgYTcPXnE1bIuNbJB715EqWE2uCVkYkwWLD0PIr9lY/JXbPNUO7YB+TjyO4zWhoyNMD\n",
       "8Ul5J1ZCt+/0R2A2nl3qzSOWNXnQ3eqsH496uil5+JMfknjENt2Y22So8F+AdU3SnllflNdLA1Ec\n",
       "H4bVrFL9jcSDDsPKaqZW37qY4tJ/cO7gsiLjEX0AT91HLiDDX3IGaN0tzWchPpgFAvGf3jz0ksnj\n",
       "ZbbefXjoQ95BHm1Clg9TF0zi/wOyLZWXedTh3SUbYZVZGXVNMskPvijZUGIoul6Oud0IMVQkpeBK\n",
       "0LLePJJvmzz2UHfDjwdtscdDY52XeTCfTi2pbh5d0JG8/WzBxiOSeXZodxruZpVuHmSYU8fP4NEq\n",
       "6RbaHDzc+5Nuu4NwoaOCP8dvAnmQh06ffmX98QbdRct7c+/IPA5Tja2P65THHiP+HfqCf6VXoJCY\n",
       "D1kbD21W6lV0LJ4GWkl5iB74Qof5eR8Z9ow08SPiCnA8zW22D1q7B0Q/11HB3+dCjjySJw4desJf\n",
       "n545dOiZbCVRs/NQycHB0yMnKI+1Q+psWJtXZ6s3aV///AID1nN7kr099WgP2upRg1USHqIHHtFh\n",
       "Ih1EfG6VJubxoPgS1ChJ94VZqmoVhE4yfl484CLfXy7192/159HQ37/Tw2IKTco8bIWsFyF9CfaW\n",
       "DZ228wC4C7eAkNmKrhdLXofMQRfiHjN+dfHCZL4Sj0ucx3qb4NlKwckDVWQMx1t9cXQHXeDNY7eJ\n",
       "ZTrlzaNzYojFLWk5atqZiZNOHvv/YfAPauvtYOthHh2EF4qQqO72PWKuXjw+ynl8BrRyHmKbk4fS\n",
       "RpcfbgQ6WTZPpmEtV3zhCjzocykjwE4eMWKT3FGuh30VPAW15HEj5xGFkP061c0vwZyMiweqwIV0\n",
       "MwA0+CCO1k2YjxwpOXjQ/MvMiiPgl/Dz91sCwNGe8+KxifPQi9Yj/enoMnheN8KGm8dJuilEi9Sj\n",
       "xDciKuV42MtXc3m4Pos7LyV4xMfvEtL53b0GHE+16TC6aPOiIQePJ1VC9kgebkZYc4gaLZVdL/aS\n",
       "heu2uNZNTvgvj3wFSSzrbCaqBMvw8A90t/6A2OPEi1gzMkYwEccwzLWOPvl+4CH0KfwCLzu5oliX\n",
       "ZxvasP7sujI8Ekuon8zOXCZnucSFHPbHPiePASy1XzT7qmks8nRH7Wc/KHiQkMrem6HB0CiDYSiM\n",
       "luHB4ipmouUDNGTBV5k9XKj1OXks7unpaaoVhuS9l3o23iZN6l94ni5if1ATgkeSbJzdsALU+/v7\n",
       "v4U89kXL8fgbeTFN8x7t1fgNgredR33evV421EwuSKT9YcM5qX/hdrvdztAuO+Mfs2CpChkmH0qn\n",
       "PZptj3+oRFWgW3GgM/nrtDj5rm2uU3AteXThmn0x5ZzUvwi/bqSMP2eqlxJsGYbfksPTLsfJ4vHx\n",
       "CXwS6k2gffJ3mbhT1MzSe015tOJDaS1Ab3W9RJ7ugOyUCh5KBhagaYF7h7ItDZHK8THihqgZS4dt\n",
       "s6nt7DXlsQv/703Hq93HeJ6uPm3JzGS5eOF81B/+8UKil+NXLC35aZtv1xYEj3jlalUcXcG2E3TS\n",
       "wVsgXlFv2xvwPJ1uXW2k9N7jp9S832mxfc0K4cSKEo/f53K5Sf8pFPOduYkFnw2TT00S/c8V6KSF\n",
       "FcRAvNu7E2vACo8rJy2FWtcXXDy5y3LPo3i4BBHktlYnHzH2xtzEiN928SkujRfHRlvopPGh5ehI\n",
       "fGGJt8jRBuYHnqdLWAttfyo4HrZ8VB1/dI+/Fx6mm7jOr/VB3muKT6qhSYR2VLu3DmUNeNCS8VAt\n",
       "zyvIfFS4FBAP001c79ea2xsNWTGpMkVSU+0VVuQUy1158NgJwfFQLjjWSxkeKzOuwDIo82yxY8bD\n",
       "dBOzzjp3Bx6g6GoTk6I3NQcq8aANzLwUz9PZ8lhB5rNhs1ufOnkUpnAmKTWlNxhrJflgbiJun7RO\n",
       "zkxZHRIZy/wwJ41lYEdFHrSBmZdy69NQkN93sG0wYgdT7TziP86G+uTU1N52mC/xYG6i0kfrXJkp\n",
       "q4NiKsa3DDFpOKO8y3g4EnVWxo404HkpnqcLFyQVGBAP4epKmVT88G/ca5pw4kjKtWKWotPk5MHc\n",
       "RLQNaZ1rxYgOKnuuy6e7xaRad/Mk4+FM1N3Hz9AGLC8l8nT14saC/b6U7ft0vWXjH9E0jiHz2AKz\n",
       "RGoqZnMTSTYC69w8RAdFCl70mgqCrRd3ou4Y1yAsLyXydE+LFuY3hYL6vuW5iv4c8uhY40xN4Qt8\n",
       "UymJ1BTjwdxEcrlY58pMWR2SksGGk26EI2lqWJSz5sgZ2oDlpdz+XKIpWB67RYtYvhwPpfv7ztQU\n",
       "HsGq+eMiNcV4mG4iNiR1cmbK6hBOS7oyDw8Beho/3N5dLlFHz9AGLC/l9veD/j6uZejJ8SBWniFf\n",
       "1nCkpmBIy+O+wFNTMa6GiZv4MaB1cmbK6lAv33AfrGzmF+lO1NEzVgORp7Oe3ZchWB6w2CteyMo9\n",
       "yriUmkrkI4U7rdQU50HdxBiQOldmyupw/KrihSJP91dxpq86Hv6/94ikKsaT7xiTn10SlDMFl//C\n",
       "3ESlKOrKdtCq/aK2Xzy52t97zOD3QLeWO5mbcf4l7AooVCgh46pxOPJSmmkpkt8D/R+TwxRp4GTU\n",
       "hgAAAABJRU5ErkJggg==\n",
       "\" style=\"display:inline;vertical-align:middle;\" /></a></dd>"
      ],
      "text/plain": [
       "<IPython.core.display.HTML object>"
      ]
     },
     "metadata": {},
     "output_type": "display_data"
    },
    {
     "data": {
      "text/html": [
       "<dt><a class=\"ProveItLink\" href=\"../logic/equality/_theory_nbs_/axioms.ipynb#equality_in_bool\">proveit.logic.equality.equality_in_bool</a></dt><dd><a class=\"ProveItLink\" href=\"../logic/equality/__pv_it/axioms/c57195bf3ea9834448b62b7f5f6df39e8cb92f580/expr.ipynb\"><img src=\"data:image/png;base64,iVBORw0KGgoAAAANSUhEUgAAAKYAAAAVBAMAAAA++IifAAAAMFBMVEX///8QEBCIiIhmZma6urrM\n",
       "zMxUVFQiIiJERETc3Nzu7u6qqqp2dnaYmJgyMjIAAAAcRTyBAAAAAXRSTlMAQObYZgAAAkxJREFU\n",
       "OMulVT9oE1Ec/oyX3OVyZzMoOMmRYuwgVIR2aqsiGBA0rYOTYBAFXaSI1UGxoYMmgvQEoUURHx1C\n",
       "6SABBweX0DpIVbjBscoJOigoVRTUqe9f2t7LezTgD768u++997vf/wAmyUYCBsmFZj5mD+81m/MS\n",
       "JrmkvO/bPf3x2mHOv2bvXzV3vkiY5KlKxKfcu8Ocn2VuVjuv+AcEjOIFClE9gb0O53cQujQ7r9ih\n",
       "gFHcvPz4neu32jpfOJz3lxcWZjRXZiTM8on/pqfIhp0v5wX/p1a7qbnRKzFXfLBf8dLtDXCfYEmE\n",
       "lWz4bk1coCvl6VLX6Lwn4Lb8KzarDe87FxZhz8qjH/igpL96ZPIHzTvjj8KNNTpvCHjE+2cpYX20\n",
       "PUYNeC40bc7R2xVw3kZKV9k7BVw4HUVBtgX4CZzl4dzDrG/rdKyI815kw6wT6Ak69sok/VvqzCbs\n",
       "dFDhfDY+TYnFgeIoYBVhk4Tv9MioKEcRzwp7HkGKFlKJ8/nNOjOsLRlfPw+kyGWbxtfrIWPJHOVI\n",
       "P91U7LwNp9LO0cGEnX5L8M/GaVjwjdEPS+iTJ5YEys1pPFZ9H0SZxm1I9MZ6v8Rn8GYQghcB+8v5\n",
       "IZyTJ0oCjcLccEcKG4VDtBQ+i2K9eDw5QzjvM9fSq2m2cRW7uurNEapsXDxar2RvtjtC8njixR5m\n",
       "CSas1a1nSCZ2f2lmiDpbGu8WlzHWxLG+9fqvQ99g1PzICTSzTj8Dm27oRFvPZKswYPyeyufCTOtk\n",
       "t/8dftgV78NaaeH/ZQ3wb6WAciBaNgAAAABJRU5ErkJggg==\n",
       "\" style=\"display:inline;vertical-align:middle;\" /></a></dd>"
      ],
      "text/plain": [
       "<IPython.core.display.HTML object>"
      ]
     },
     "metadata": {},
     "output_type": "display_data"
    },
    {
     "data": {
      "text/html": [
       "<dt><a class=\"ProveItLink\" href=\"../logic/equality/_theory_nbs_/axioms.ipynb#equals_transitivity\">proveit.logic.equality.equals_transitivity</a></dt><dd><a class=\"ProveItLink\" href=\"../logic/equality/__pv_it/axioms/f827123c5f21af6ab6d517e6d3247a9ee44c13460/expr.ipynb\"><img src=\"data:image/png;base64,iVBORw0KGgoAAAANSUhEUgAAANEAAAAWBAMAAACs+WTQAAAAMFBMVEX///8QEBCIiIhmZma6urrM\n",
       "zMxUVFQiIiJERETc3Nzu7u6qqqp2dnaYmJgyMjIAAAAcRTyBAAAAAXRSTlMAQObYZgAAAnJJREFU\n",
       "SMetVU1oE0EU/prsTzfZJB4UBEGCgVKCh1wEQQ+hgkXwZ+NBxYsl2INQJYd6UKTkmBYiudQWQVyh\n",
       "KK0eAoKgUFhyTKUGFVSIsKB4KFSCIPhz8c3sZrOu2djAPFi+mfeY+d6+980MIM7uhYee02ezwUcR\n",
       "RLFyeEypARtssCWCKVkbkAX90DKhVhbB9GZQsEGZmIBeF8F0Y1DwAZBorq0tiSDSSgNLmwd+VCq3\n",
       "RDBFctSOA1cmGsHA5G65BZ2i08B8yGJpGKbRFvAE79JzbLL5ldknLoZq5jCVjiRxjAuj/+JhmFRq\n",
       "dhOvzBNB2XHBxam2KiItEUwj1AkTlT6RCyQ6uUPCa6kQxQR869ODKThMmn2O6f3QmEHOMaiUAJa2\n",
       "FntMeubstLtoYgo3e8AVN7dq9KoH+bszcfr0hY+fcTqmzPnLJBzzmko56SmzwPxH2ukeU1axZ5UK\n",
       "WRXWL3kXeRi4nuh6w6eIF5EOsoFfiuegOIrAU6KTsc28dycxzsOPfdUzkt0+aiulSNkDt+HdU086\n",
       "ln6PdrRg08+3X38GohYNUzz/n9x9FEW+PO/vU8q70KKWku4BtxWvHSXEitnMP5d1LrGfdkuyGidM\n",
       "3jGZuWexh8EiLvqYLsFQWNm3oeZH2AoGrkczZHMnt9Gj7uC+butYNnFd6hBoM+tlj0nrbMLqnhnj\n",
       "DLQFDq7d2Xi/0xvWsYdvG00U6jg+bhMk5L2mxxS7evJgN22peBvyPg6utQoL3pn4z6vht3qsxhRU\n",
       "Dz1Pq6iSmBwY6iUMZBGvKdZpBqFMM5LNXmoOQ73uH/6eJiC1LQahTKdesoI5INSiIjf7A4jqrxun\n",
       "Ivq8AAAAAElFTkSuQmCC\n",
       "\" style=\"display:inline;vertical-align:middle;\" /></a></dd>"
      ],
      "text/plain": [
       "<IPython.core.display.HTML object>"
      ]
     },
     "metadata": {},
     "output_type": "display_data"
    },
    {
     "data": {
      "text/html": [
       "<dt><a class=\"ProveItLink\" href=\"../logic/equality/_theory_nbs_/axioms.ipynb#equals_reflexivity\">proveit.logic.equality.equals_reflexivity</a></dt><dd><a class=\"ProveItLink\" href=\"../logic/equality/__pv_it/axioms/0c02b1327017968f316ebce717ba48d58a50c60b0/expr.ipynb\"><img src=\"data:image/png;base64,iVBORw0KGgoAAAANSUhEUgAAAGIAAAAUBAMAAACE8PXhAAAAMFBMVEX///8QEBCIiIhmZma6urrM\n",
       "zMxUVFQiIiJERETc3Nzu7u6qqqp2dnaYmJgyMjIAAAAcRTyBAAAAAXRSTlMAQObYZgAAAUFJREFU\n",
       "KM9jYMAAnBcYcALuCQwMD0CMu8iiKxjwgEwGhtMg+hWy4Et8OtYxMMwAuaMBSYzXAJ8OHgUGvgVA\n",
       "agOSGPsEfDq4BBh4T61aNR1ZbDoDXvCEgeFHR0cNspAyEC9Sm6KjgKYUKnaYgSGVgaETWaYXaPUB\n",
       "3iJ2UCDyvAMDkM9gYvcYGJwZuB4g66gGKlzA84sFzTswse1AnzIwoUSZCNA8Bo4GDC9DxeKBmi+w\n",
       "M6DpYGDgV8D0M0QMqIPzQRiQcchULQDuKqA4hAP1RwIDQswdiDtTGBiYFuSxO8B9zr1AHyiClqKg\n",
       "YkCfM2wuYGBgZXgLkwIGn/+Gfoa5aG6CidnA3fcTJgW0dpnSIlv0BAwTewpKSCD7WT+wEpdKCqCM\n",
       "+TwPeIhNiVA7rxw6BRPsJJDaMQHeHIXVOHy5lncCAwDGgVl+SYhJvAAAAABJRU5ErkJggg==\n",
       "\" style=\"display:inline;vertical-align:middle;\" /></a></dd>"
      ],
      "text/plain": [
       "<IPython.core.display.HTML object>"
      ]
     },
     "metadata": {},
     "output_type": "display_data"
    },
    {
     "data": {
      "text/html": [
       "<dt><a class=\"ProveItLink\" href=\"../logic/equality/_theory_nbs_/axioms.ipynb#equals_symmetry\">proveit.logic.equality.equals_symmetry</a></dt><dd><a class=\"ProveItLink\" href=\"../logic/equality/__pv_it/axioms/e6f7b31ca70e222042a7b5b219b78712171810de0/expr.ipynb\"><img src=\"data:image/png;base64,iVBORw0KGgoAAAANSUhEUgAAAN0AAAAVBAMAAAAwUfbwAAAAMFBMVEX///8QEBCIiIhmZma6urrM\n",
       "zMxUVFQiIiJERETc3Nzu7u6qqqp2dnaYmJgyMjIAAAAcRTyBAAAAAXRSTlMAQObYZgAAAmVJREFU\n",
       "SMe1VjFoFEEUfbns3W42e5cU2i93EEIa08RKzhDBYGOSxjoELWwkhRaiiJXcFcJaJSiSsYkSLA6s\n",
       "tDrO7gRdUJCAwoIgKBiOoKDYuH9ndr2Znbk7kXx4cPvf+3/m/vz9s4DJJkIOkz3X+B4OlhMievio\n",
       "ETwRMFkpyLnc24PlhFf08FUj+CJgMjfKuSrBYDlhm0qn2Vd5nsNsnZzn7TB5jAoDvFaetgMOsz3K\n",
       "ea4Pk8cod/f2tjT0loDZKotqh20OkxN+Nho3NXSNw635uMeUo6heXoor46nVLsxnnCTnKUhOuAQ0\n",
       "Nevd5fCsaZyg59cHZJ/o51O892/FlYkUvxNmHLzEfUBbEilITjij6zTgBseD8QgNheriDTsHTKrl\n",
       "s1sZ128iBckJNgq6t/oYBxvzcahQjO+g2FP8Y4sZJ8l5CpITvNCGeT2ssOKPHHloXA+53aUp0vUm\n",
       "ogv0ZizMrALWDGwm1RN1FKb/ntPnhOM7sDYVP9VTcOn5rSNLQfIkpHkxbi12xY53502xNblfcAfO\n",
       "urLfF4Ue5tJ+6TPqF8FJxlOk/YJn8aJFfCPm/jJmheilwEmsKMdr/XZ6NMjH20reuNtTTjKeguRJ\n",
       "yJRPzl8JdQobQrQssFs9rUwZd2OuRgO+sqrkjauVcpLxFCRPQsosOfwiUVdxPDfP6oaB8Xj0eVYX\n",
       "8ixkx4s8bDNcs3ryvC5F7vf/nNciRac/ZPddp4u1Fs7OZk3QTGCHjj/yfeRo5ztPkd5H/dZyAyeU\n",
       "71urumD4e86o9y1PQXIlZDIotc+P/D2x/2/fE/v5kDKsD20crf0BIWnW/FCMiDQAAAAASUVORK5C\n",
       "YII=\n",
       "\" style=\"display:inline;vertical-align:middle;\" /></a></dd>"
      ],
      "text/plain": [
       "<IPython.core.display.HTML object>"
      ]
     },
     "metadata": {},
     "output_type": "display_data"
    },
    {
     "data": {
      "text/html": [
       "<dt><a class=\"ProveItLink\" href=\"../logic/equality/_theory_nbs_/axioms.ipynb#not_equals_def\">proveit.logic.equality.not_equals_def</a></dt><dd><a class=\"ProveItLink\" href=\"../logic/equality/__pv_it/axioms/612e6fef5ce01aa9bc54740faae71fac6c98e14f0/expr.ipynb\"><img src=\"data:image/png;base64,iVBORw0KGgoAAAANSUhEUgAAAP8AAAAVCAMAAAC+CcgcAAAAOVBMVEX///8kJCQNDQ0oKCgQEBCI\n",
       "iIhmZma6urrMzMxUVFQiIiJERETc3Nzu7u6qqqp2dnaYmJgyMjIAAAD9T1yxAAAAAXRSTlMAQObY\n",
       "ZgAAAqRJREFUWMPdWOvOpCAMZfeTOwj4/g+7oINOoUidTHaT7Q9PYgknvVJg7ANxEeJIgsf+ru4Z\n",
       "C11xL5UXYjr1kbqttxCHBiT8v3ZPWOiKmVRegGGt6uSJ+yQHccgnBwakJyx0xdSjCUFXvemobo0C\n",
       "4jD8ww0Dp7PQFXOpvABr2K9EmIhxEIfhV8NALHQWuoKQAAuCMfgizlCbn4H4PPzZ55LKQleQakoi\n",
       "uNkiJhD34AKi51w7ybuctiD8nouywC17tgVBZRkqRrRtyFFegEeeWmpa2QjQZ79Fw5mpTS2kXX5+\n",
       "l+9pRWCyJBvfjhq+OuBr+SGiYxnRd7SDjXBegFKQe/JefyvAcsaHzTPp7sLvViYKgz2KYjVEFmFO\n",
       "CSTatlpwXojlw8kzxSIB+mv3d1EapmFeX/JwO9JVbVSWyxJNoe3SH+eFGOLhg4/sZ9fuIPxtXGQO\n",
       "VuZTX7J/QNsLygsxz2k1XIELxevBJXn5a/xt/rNr97c6/LUcdXhlwZ6G/HXwSIPXv+5YOvtHtKON\n",
       "UN4GrXuNatwznZiRtXdk36nlvv+t/mgu3N/PaFbXD+x/ky7b2X9Li22E8Ta4ipc/skPTSex8cQ9v\n",
       "iwyeIXJbmd3aO4nsTy+hy+LXKjE9bPsTUs1pMUF5W3yrpO0tckWt2yKDueM15/mMbe5OyFWiLBR1\n",
       "86SmZWtuFTgt2gEx3hajv4rq9DTbC2FRz+ffdTC8iHrxIHTbb86/LW+LZ8ZvuYuUus/Da/GIUTl1\n",
       "Prj/IOHPbYX5Tf71+w/K2+KVK1EGXkYLtZQ2KzW3SKeqZ9toZFyR6jY5Uy1/cv8dDqT2SQJgvC3i\n",
       "RmS9w+fQ2fsH9pAgcxWqRwZ85/0D453Frz4O6Tw8pw/evyaXu/iP3r8qb4v44mJHDIH95/IH7kUm\n",
       "f7AhvMIAAAAASUVORK5CYII=\n",
       "\" style=\"display:inline;vertical-align:middle;\" /></a></dd>"
      ],
      "text/plain": [
       "<IPython.core.display.HTML object>"
      ]
     },
     "metadata": {},
     "output_type": "display_data"
    },
    {
     "data": {
      "text/html": [
       "<dt><a class=\"ProveItLink\" href=\"../logic/equality/_theory_nbs_/axioms.ipynb#substitution\">proveit.logic.equality.substitution</a></dt><dd><a class=\"ProveItLink\" href=\"../logic/equality/__pv_it/axioms/326b89aaf9a595f74daee801075977039365c5540/expr.ipynb\"><img src=\"data:image/png;base64,iVBORw0KGgoAAAANSUhEUgAAAOcAAAAWBAMAAADJFJavAAAAMFBMVEX///8QEBCIiIhmZma6urrM\n",
       "zMxUVFQiIiJERETc3Nzu7u6qqqp2dnaYmJgyMjIAAAAcRTyBAAAAAXRSTlMAQObYZgAAAuNJREFU\n",
       "SMe1Vk1oE1EQniSbbLLZ/BwUD70sCXiQQsWiINga9CCIkuDBa4PoQVBYxJN66EmSQG0EQUGEtYg/\n",
       "PdiCB/Fk0INiRQKC6EHZgx4UKkEsSLz45s28/XHTlgQ68L1M3nx5X/bNm3kLMKpluv972fZm3GcM\n",
       "F798HkH0IQ7Gnv3soZ0dQAsxUm3CCn75MYLod7nKyl/20B4PoIUYhku4hU8/O7xmbjeOS0cr7KGZ\n",
       "VpQXZrwg5B1BXh5eVJcJfO558kGKUV6YcZeQe7O4eHOE3aXfvPI8aV+jvDAjXyH8aTSujCBaxuH9\n",
       "jknyFnbeGBd7+zJCUwyjbMF1B0yx0YgzAE0MH+hGfqFtIDonx1/kGZ3cBV0ckC8ysz+lcR6ZYWpF\n",
       "mBD76hIOy/MEZqkTWTi9gehlWX9r5JmO2ddE4p5GK5QZtxMuNEQp2wQd4l3e7WFEt8l20CPPgLQs\n",
       "gJkITTGcmIUPnewRzK6O0YIzgqhpK69gDRb1GFUnueaLZtyTWHbzU0gpnxAphkN1uOSL8iQEAmp7\n",
       "03XlzdRwPBLIaR1CjGmIi4LSbAI0T2P0Iw67Uu5F8dHpJ4u+KE6mGsLmvIA6SDGLvKwzAXGHD1LI\n",
       "FAOuSn11kOAJKsMkDrU8pjdzz47P+qI0CcEAcHUsVcirLs/DHayAaENiBuyDqlgm0SFwOqgECrJ3\n",
       "JDopK5DTgtdQVEDtZJW9+6WFKfxn3yKiiiEoB8Uy+RoBcvIIbQc6CTijV2K1gKiYTGGWVr2Aam2v\n",
       "IdwG7YhogDEt8IDB/D5kWpneO+hkWqDXqv7plZNKiQPU8LP1Vb/1D2z4PiPlGr/9hq+ajw3JMeP8\n",
       "sXEnOQbaqWu+qJxULA6gNUFvueytd7X5DL2btvyrLXBTZfnvwSPOcKROVYAu8Vy57V/nIXVvVY+h\n",
       "lfbigm0Cd/8PNXqRkO8T5zR3sKgKDH5dyW36uvKJwdkoiYEjXTj+dp2OpAJbaYktWvcfpC3c9HKM\n",
       "He8AAAAASUVORK5CYII=\n",
       "\" style=\"display:inline;vertical-align:middle;\" /></a></dd>"
      ],
      "text/plain": [
       "<IPython.core.display.HTML object>"
      ]
     },
     "metadata": {},
     "output_type": "display_data"
    },
    {
     "data": {
      "text/html": [
       "<dt><a class=\"ProveItLink\" href=\"../logic/sets/membership/_theory_nbs_/axioms.ipynb#not_in_set_def\">proveit.logic.sets.membership.not_in_set_def</a></dt><dd><a class=\"ProveItLink\" href=\"../logic/sets/membership/__pv_it/axioms/8337ac622c4a3238eec9fbc8fef1c0c96a90433b0/expr.ipynb\"><img src=\"data:image/png;base64,iVBORw0KGgoAAAANSUhEUgAAAQIAAAAWCAMAAAAcoWJbAAAAQlBMVEX///9jY2MJCQkNDQ0rKysP\n",
       "Dw8WFhYQEBCIiIhmZma6urrMzMxUVFQiIiJERETc3Nzu7u6qqqp2dnaYmJgyMjIAAADRR/RZAAAA\n",
       "AXRSTlMAQObYZgAAAt5JREFUWMPlWO2y1CAMRa9aoHwEKO//qlLa0gZIy65endH82DO7sBwIyYHA\n",
       "2CfazP5dswEjYZr43dnXaMYbHuwgxriU9jA8LhiMVBCoagLCe8+CZEzZV2jGG6iVN8QIvTs6LjA6\n",
       "5GIxEiYk+mpCnn1cP5dXaMYb+tYhRmgPj9ph1waBcSwPxNY7ZHLPx2nGG4id6BEjPDb/DIcn0xZj\n",
       "d5pG//iuL5sNcRNHmblhGqcZb9h4k12DrE+MMHhYzephLdQYeypgODCDZirjJjXzNqFFjtKMN+y8\n",
       "lRHECKNZTftRF3CBEThXVvJLbMMaWVW+Q4z+ckh6MUpDNhC8jXb2iRGq3MF0o2tOUurC3KrLiZB8\n",
       "FzRnl+jLOsurdOcxWTkKwtnbLxcTDU1f3Wje1mVdYoRSkBqdm1ysUtEh9MnzPgKTJ7/pHjAQ1BSn\n",
       "/Vf3mHf78EIX80O8nTjoEWNcP3jX5xo6I08S4drFoC7zlLbz28e6qY06x91/c3xywVSrhVUjvJux\n",
       "R2KMPlAXuZg97G5dkPuhoM/Ha3XA+CMxf5sLCN7aKGKMdikXOc/FzFXJ/WXykorQguswWC2m5lIA\n",
       "6ui5x6PUfS1QDU3jgnveOgko4gqNVdtK05GiFqbLskGkJJJ9OTrQQRKc7b8l6vimIpcr6j474Vs5\n",
       "vFe91gW3vM3dmCKu0AldSrsl1MR1juBjRaYIW++eqHLRTuH9ETp39mWTxeMZ3B6b8wBvowEUcY2X\n",
       "nIqnwMK8ZVF9TKAQAsU5cIFrLFBfJToQBJNKKHXOcHkspKW+bSB4DealiWsMcKbXWeY716v3hi7I\n",
       "4Ys31UUVp+jAXfStC7K85y3ENZagj0mbsohak5wiTK6w4I0yyTzUcn+yTOoS13jGUZCer3eOeUoR\n",
       "IGyqswXQCyQX+lTQjxXL5PDGvuuBbrFMPjP8ypMJD28u7nOeTOjNu5vI/dvW08PZwxTD33o4O4hr\n",
       "7Hdm/439BJP2M3paqy+JAAAAAElFTkSuQmCC\n",
       "\" style=\"display:inline;vertical-align:middle;\" /></a></dd>"
      ],
      "text/plain": [
       "<IPython.core.display.HTML object>"
      ]
     },
     "metadata": {},
     "output_type": "display_data"
    },
    {
     "data": {
      "text/html": [
       "<dt><a class=\"ProveItLink\" href=\"../logic/sets/equivalence/_theory_nbs_/axioms.ipynb#set_equiv_def\">proveit.logic.sets.equivalence.set_equiv_def</a></dt><dd><a class=\"ProveItLink\" href=\"../logic/sets/equivalence/__pv_it/axioms/cf9c5d456c7f17112978a98ad1fda6deb1c418670/expr.ipynb\"><img src=\"data:image/png;base64,iVBORw0KGgoAAAANSUhEUgAAAY4AAAAVBAMAAACj/BR7AAAAMFBMVEX///8QEBCIiIhmZma6urrM\n",
       "zMxUVFQiIiJERETc3Nzu7u6qqqp2dnaYmJgyMjIAAAAcRTyBAAAAAXRSTlMAQObYZgAABNlJREFU\n",
       "WMPVV11oHFUUPu7vzOxOkgfRglKGBrSEtlkM1BfFVR/UUsnqQ/Wti7WQCLGrDQatllYK2a3K7oPU\n",
       "gmgnFaoGiYE++PMU2wEl1XSpoFZtXakVFEmXxIaYUuO559zZ3dl7d7vtmwfOnNmZu9/c7/zNGYB2\n",
       "8o7UdvKZciU0n7kBKBUHzHKb9YkS6/lRMhVx7Zx+qbWPFSVa4UtzO/EQodPvVndszqchVmr+WzLd\n",
       "JYxd1kNpRKCrOPCBdrG9a2lg6ADAMLB6ZE6JW3/q4btKrOK0ymbkC9xdjG+vAQhfBqui8khOi7Wu\n",
       "Hkr3IERXceAP/eqb0B/3ZWAKT6eYB5rDIn4tHPWtVJTzK2TOgPUXwCF24lWMzCLACZUHAR5uAaUR\n",
       "Qldw7JR+9XZ05WAKkg6QemSE18h9GnlRKjrr+D9kswBGwbzIZYCX7AWACZUHBfiUHsqXH8bG/Agw\n",
       "uoITD8TPHh/by2f9eP0XB6weIPXI2LOTk2/paZg5VgES+pus8NDpVaZtIMbES5gUaZXHz5OTH+b0\n",
       "UFKe7GvYIqErOIFtRV+tpel+3Pit+Os3IPXYLOfzL+t5hFKsKFsSV+slK7tRdxaiL4hoplQe3fn8\n",
       "+IwGylo3/ADlj9VYkoyu4PSiHr3jzQ2O+DFVr7YlgCeeQXuS1WODDahAt/n48OLJIRlPo8yKT01H\n",
       "F9Q0HTkzLiJjU3rMzQu5IHnEMmA0ZoUP9RF871B2NHYniU44SYKZJ0pv4K0Z+/k44Q/XI7N0bv0e\n",
       "qipWj82DslPYnDl2DyR7ZH5Os4pGay5C025Fmlq3iEaeU+MRSVErqae6hJqF0+4jRKzhpkRXcHCz\n",
       "STe5EiHK9VYk6nICCxU+YfXYxCFEPn+PMyechcSK7G9pVoBtA5uXlXjsF1xwb9GqygNysDHQKiWU\n",
       "C3m+8Jjwh6xzia7g3IzxAEO+v9aKP9TqMnRFJASrxyZZjtPt2d3sOQfClWYeeFir8FgSPJwWPL6B\n",
       "nI4HgMzPxqYs0XU8sAodbhT1eGBdQmhB4WFWthFhhz31cQY2uU15lUB9TnkHi/jtwj1EcvWM+93n\n",
       "8W4Un5bsfXxnE1T0siTWMGBIdMKR9ZGVeYU7lF2lJ/D6iIkieIjVk6eFp6nw4G5aNbhxfbapOOFt\n",
       "1EvQtFuRptHlWp03xcM4hIe+WGU0CPV5qArUcMNObbmPruBgnSfcfgiRW++qXRavj+37lDqH4+TP\n",
       "n6Cfdwpwp7+fFCs1/mLzUNGFHrr/oNjSjIZHQngl01UOQkWuGFU5/O1pfLUQuoKDzXRwuiiny3jt\n",
       "Xf0rhm6N4HYPqydPKQOtC18XiffrAEfkX0SgUa3ivy58uro7+JDYJZzWXiNCGQ0ProNun7wP9VRf\n",
       "r5xJjx3g7K2jKziYLMfWHb2XeVtDW/jqs2I8pR1eZPXkqS0Awy4cIRxsBIOllsOETt4HHY8fKZUh\n",
       "0xJq6/hYpT1OcC6JfOXPJf5rJ8fqsWF5FJ1XNg+CuQLm7Z0Nd76c0PIQGVOdg5nOoTqeE/3HBOZE\n",
       "WYfLYBZfid4GXy4ODNXmHPFKNkrXoKGb2+Wdka0b3I6hNHN7oe2Dg3N78Bur5XdUazFKrXhcH5TR\n",
       "6XdUI8sC8yhc49uyk+/as+p8ufdGvmvPXud3rV1i3TRKJiBl+L/KfzsFnGr1z7ZrAAAAAElFTkSu\n",
       "QmCC\n",
       "\" style=\"display:inline;vertical-align:middle;\" /></a></dd>"
      ],
      "text/plain": [
       "<IPython.core.display.HTML object>"
      ]
     },
     "metadata": {},
     "output_type": "display_data"
    },
    {
     "data": {
      "text/html": [
       "<dt><a class=\"ProveItLink\" href=\"../logic/sets/equivalence/_theory_nbs_/axioms.ipynb#set_not_equiv_def\">proveit.logic.sets.equivalence.set_not_equiv_def</a></dt><dd><a class=\"ProveItLink\" href=\"../logic/sets/equivalence/__pv_it/axioms/926dab8731bf8910c8cef38eb6d18d3764ec65940/expr.ipynb\"><img src=\"data:image/png;base64,iVBORw0KGgoAAAANSUhEUgAAARkAAAAVBAMAAACAi4frAAAAMFBMVEX///8QEBCIiIhmZma6urrM\n",
       "zMxUVFQiIiJERETc3Nzu7u6qqqp2dnaYmJgyMjIAAAAcRTyBAAAAAXRSTlMAQObYZgAAA8ZJREFU\n",
       "SMfFVk1IVFEUPs74Znwz89SFlGDFQIvalAOCbQIngpRAnJW1agYqsKBUDIfSSCFwtGRmZxDlSEVi\n",
       "UEGLapXkQuiPoSCIskYqIRcpav6FTeeee+97zzdvJqNFH3zvPu7vd88599wLkA9qijMfvAn7cTqu\n",
       "5R8Pj01Ms4qJHB2HBRFHjFpNFM2LVU0XAU7Yj5PwdFGh0ELgmwrhN0j/bzNHq2NBcOF2JJ+z+ukc\n",
       "ar4JImaM2sOiLMB1akJw136cRDG3XfEsFVMftuI3wpvKAZw/wIM6Ja8ww3bZi9ECnOx3JsmKwgud\n",
       "uJaPN4fRHw0B8Pntxul4w4uPq9Tih7ujoHI1yhpOOA/wFHQW4yq++/Zq3AlOxJ0aKg89PlChBYQj\n",
       "KrHqkx88pXbjdJzl/nqwwgoXMpa4HqI6B1ZpcwBDoFN7NjIykMNRA4KIVCX5+iQKmqw/w+u6cZHN\n",
       "uJkvduP0gG7h5nIssMLJQifzkzcV4TaGzqFBggaXY7HOHGq2C6JBk0/omDCn9GzjQQiLKA3lwZjd\n",
       "OAkH99pB75pedUuUJRFQ2plrAgaPA/RSI//WzY81SUP3CwLchLCMDjUtfpTFiZ0dFBJ0WL4TAqCP\n",
       "EQagXXiCylzWZsOnXvewGNHSBvdTMOP/AjdpKfhkIHQIsiM5KCPTFZS7RrcPsXh8aF0GxzijDKMY\n",
       "QxSThaDOWzWzuPNsYhmrxaAbHCT/BjelMwLeVTFrmSAoR6uauyznm9zuYCEQtqopk2ZErQUkvrGq\n",
       "ejnLNt1MEYpVZg36Um5qe9bGz4MfnGmrmkKclSrHo9GlaLRduh0ccxtTg59tWWoWmRr/ejVqupG2\n",
       "749Rl3sh2J20ego34Bbu00Z1t6NJXcy9tSYfRED3LldDnvIiW61iWLqBZtRZ2GIQeo/xTLCH+jTs\n",
       "2hkBSxSr9/VcCm4pldJNuEtGsRn9JjUUxVdlMjdrZnGnLFuiGB5QRngPlTTDK4AdctYxQZY/ilZ4\n",
       "3Ut9zUncTTnTtteqRj/yIX5sKefErbdrMVp7Xx8L1VGDUMLOrufzizjt+jLAoEzNtZzDmWnwxpfY\n",
       "QRhvxbDhcXOa3XnU86tVTa3pH83vif9KwqNM2/pOrhm8dC+RrJBB0JgKZxIGKV/jIWlIZN8MYD3f\n",
       "pku6ZQM3Qz7cNpGjHm2UUvtAXQV1i82tKVGXPdnGbs08MN2aIncsgxo/r1TA+HxVk7H9Xj1F270V\n",
       "BGxeFOYxRYk/iDG/KNa/43K/tgSS+ZfO/drKDSZXMutR+LcvUe1fX6LvTFyHFPxf/AayoiqRoMJc\n",
       "BAAAAABJRU5ErkJggg==\n",
       "\" style=\"display:inline;vertical-align:middle;\" /></a></dd>"
      ],
      "text/plain": [
       "<IPython.core.display.HTML object>"
      ]
     },
     "metadata": {},
     "output_type": "display_data"
    },
    {
     "data": {
      "text/html": [
       "<dt><a class=\"ProveItLink\" href=\"../logic/sets/enumeration/_theory_nbs_/axioms.ipynb#enum_set_def\">proveit.logic.sets.enumeration.enum_set_def</a></dt><dd><a class=\"ProveItLink\" href=\"../logic/sets/enumeration/__pv_it/axioms/b01212efd6e28480519640e6f97d2066a14ba12d0/expr.ipynb\"><img src=\"data:image/png;base64,iVBORw0KGgoAAAANSUhEUgAAAcsAAAAyBAMAAADBxu0RAAAAMFBMVEX///8QEBCIiIhmZma6urrM\n",
       "zMxUVFQiIiJERETc3Nzu7u6qqqp2dnaYmJgyMjIAAAAcRTyBAAAAAXRSTlMAQObYZgAAB3xJREFU\n",
       "aN7Vmn+IFGUYx5/dndnZnZ3VI+yHSrbewSVh3GJZf/jrTkGhSFeD8I/CxZR+EHKppZnJZaRnZa0R\n",
       "qCd24yF3ZqRbctBF0nYahP1gUftDMFwQBMNk0VN00673nZ/vO/u+M7Nr010v7O7szDPPvt+Z533e\n",
       "5/3sALi2B4ZvQX3tOIx0k7P6pzI83OBhOnF3V32/oRRqsU7Oqsn50w/5MltoyN29x0vm3fVeymb2\n",
       "7niRed0v1ei9LQMw4H3xSsaGGJTMBMfxAXZ/yjW6jyAB0Zyn2QdBy9zXyt5/kR3h7bUOCXSCXPLd\n",
       "i8BkvsMJo/S/JxMGfcdUUDITFfZ+iQq05NZ1m+5A5j5vu43BypTYdw12kl/Ezeod3c0xrZ523+UC\n",
       "lXmOkx6a0Kun+ZOpKfzlkEoNtaYU7FBdfPZMg/gE8wTcbyXt93IHJXM9Z/92JKeQXC1p2eMla3cU\n",
       "fVeEBmgBsYPrs9AG4TKZmvX54tfLuJ3n5IJKkDLFIc6BN5EcVakI2s22FX2JpsE9aJLoFB/hhm88\n",
       "Pxti1ilYVsI71OUrQcqM8NyOQ79sdlachG8D3lr6BnpTQym4AgK36zLcBWNT1v1fjRz4mG0vBykz\n",
       "lOXLBLOz8Q6qqIFFqnjNRSYIFViWMb9cAH8yW3IBylxW5ActWJ21fzuKFc+GcIObTBTUk+HUb41p\n",
       "c2zqtvrYvMA5qbsYoMyWHD8FJdQWCGsZdRo9P2yBWNZNJjq6BU7fD+PNTJss+Y2rgGS+zTtwDMVm\n",
       "/iPYq2f7PCXzMVhU1GQext3Hb/Lf5EYkK9yO97RDxTwh4mMRFGs3ZGqX5HcXme4GzHYf78ACgN7G\n",
       "nll6TMsvPkHK7G2ck9NkShvwNcC34XVzYx26/fLyppsQTQkNVnmQ8VFHlA2ZP+HPP1xkuhswk+JV\n",
       "7nRNRbPwI13szTbG2zfVxaNqjM5QJlLIGCf0+VnIXjNk7qKTXrVMdwPmtHmF+6uc0r0BlwjykDEX\n",
       "Vgejgl6r4HArdIP0ZMZ36W52Bckcgy6UkneR6W7ALNz/4h7axl1vSsVYCuKPX0+BnKou9NDrLdgM\n",
       "MB/CvxjrTR8LMTOwkMzkiYMHd7qlIHcDfqTUsKyGSyhcG6ebp1cfx4N5bpM9FttQ1R7L+enLdTPT\n",
       "3ujs3OiaaV0NWC18k3uIDUkgUQcLOuPL9IYpcyUvlEyZrgbMoVaBUdMmmTLn0VEurjkOk7OkzHn+\n",
       "hgFRr4wimfeaMiUIW5H0+bFZ8LWiRlRSJmngq0XLo0fmq6ZMpShZueP9LhWOptIKFbSEwf9YZrz0\n",
       "DObBS5pweKLW3/8xLVMzgMHpzSjTCc0gVS3x52Zhw2gN2nVWTbttBZLZVgzl9LquX/niWbqmxQZh\n",
       "dZWEsrgyVl0MUYfQQoWujZWbjtwa9wj6Ab+d9nKkeRpgpiA4gkqKrgdhrCprNUo/FI7RMrGBCH/i\n",
       "za4FMEX8npYZ398epqqk8DXHTHnAK8pzPmUeAB+eKG/3WDK1Ze5yaANxfWfnZiRzr0TL1NfB+i2a\n",
       "iSydYRspRKnCJUkykovAg9BEraKFkahtV9fjGfuglyPNEzUvXLVkJlVNz0wRsvrdFJbQMjUDsaz9\n",
       "0lq0yylTag1lTh09a0/2Q3QVm/REcFp5GsV6ktWV3kr8dtKlJHZ6Iopd+Ra13oyXYW0//IA3TwOc\n",
       "rV5vdislBXap8JpQxjLj76Ev5puUWQRfddghIN6m1ySSZ0xqZFnEV7k6wQFOgHqO83akedrHKN2N\n",
       "NVEWphYhhip0YVMrRKtl9p4ePAGL8zB/Sgl3RZwIi3PiePw2EYTlH6JbsdQRKXrbCQ4IzWw6Wb4I\n",
       "RrJ3HETihDT4cqR5Iji1vopw0oMpaGy60YO8nIsVtSuesD3BZ7Ad1RAP28432Wc0gQNCEwFlA2id\n",
       "LB9hL2ESabNO5ziiQHWa4tR60q8RkiRy0cJCEFtmkFl7AF4RStAL39rJfg5FfygIrWiE6jLuCAGg\n",
       "dayDwp6Jo1GiX2o6YzmiQHWJgkTRch0ykyCcLdhLI3PrqZ8dZ51TKZZHQWi7EQBaJ8vhFERbGZ1o\n",
       "BFhhOmM4okA19kRw6lBHkAAzT5FZEkITjQDQOnKV2+EQy12fOUewHVGgGnsiAG536r/B0eMcEJps\n",
       "NoA2OjZDB09VK568QS84jkhQ7ZAZKI6OlJ1Ba0FoY0hlgQLQBp79FJiYNl6Sqmk24YgE1dgTAXu3\n",
       "QoAyhSFnCrIhNNFsAG0kjdhzKaa/d08yaDYbVDtSUKB/FcEaEkDTEJpoFoA2ybL4gi6AYtG4QNjA\n",
       "oNlE8BCgGnuyOXU40D/+iFS7wAmhiWYBaIssG39T0iwaHU4zaDaRgwhQjT3ZnNpIEkHJDBX8FXsm\n",
       "gDbJMudZq7jKotnk/bRAdR/FqQP+U95+xMKldCcA9KA/txxHJKimS3cjOgJ7YOY8BaDZYJAA0H6R\n",
       "GtsRAarphVhiQsAyd2S8l9U2gI7d2bKaANXYk+0t8Mef7HrLDyQ549etJyQ5Q3l7HgKWiSaLkW/J\n",
       "Dr8y637QNJoaeZn+HzSt/7HhR0dcpfyyseYcHm74BwzjOMeoNQNOAAAAAElFTkSuQmCC\n",
       "\" style=\"display:inline;vertical-align:middle;\" /></a></dd>"
      ],
      "text/plain": [
       "<IPython.core.display.HTML object>"
      ]
     },
     "metadata": {},
     "output_type": "display_data"
    },
    {
     "data": {
      "text/html": [
       "<dt><a class=\"ProveItLink\" href=\"../logic/sets/enumeration/_theory_nbs_/axioms.ipynb#empty_set_def\">proveit.logic.sets.enumeration.empty_set_def</a></dt><dd><a class=\"ProveItLink\" href=\"../logic/sets/enumeration/__pv_it/axioms/3b9d3c9283635556da5095a1308c9d36b6eb08250/expr.ipynb\"><img src=\"data:image/png;base64,iVBORw0KGgoAAAANSUhEUgAAADoAAAAVBAMAAADlb+D4AAAAMFBMVEX////MzMwQEBDu7u66urpm\n",
       "ZmaYmJhUVFQiIiLc3NwyMjKIiIh2dnaqqqpEREQAAABVi3StAAAAAXRSTlMAQObYZgAAANRJREFU\n",
       "KM9jYGBg4GPAAKkJDKKbQQze0+cwJK0OAAknASBxmmEXhmw+iGBdwMDA2cDwfAO67AkQwdPAwMAW\n",
       "wNDSgFOWbwNL8GecskwJrM4fccryX+Bg+IJdVgEkO4/hL4i9CgwCwLJVIILtA1A2YRtYFhnwKoKp\n",
       "pSB7F6ObzPhiAphm72bg2LyAGd1VLBC9y4EKzh5g/ICwtwAsXgezl+25ANsDnG5m6GDgcsDpX4Yb\n",
       "k08z4JY95jYBj+wFzLhnOASXxQbg8YsVcIHThgMOWYarkHQFANuAQxxgY/+kAAAAAElFTkSuQmCC\n",
       "\" style=\"display:inline;vertical-align:middle;\" /></a></dd>"
      ],
      "text/plain": [
       "<IPython.core.display.HTML object>"
      ]
     },
     "metadata": {},
     "output_type": "display_data"
    },
    {
     "data": {
      "text/html": [
       "<dt><a class=\"ProveItLink\" href=\"../logic/sets/inclusion/_theory_nbs_/axioms.ipynb#subset_eq_def\">proveit.logic.sets.inclusion.subset_eq_def</a></dt><dd><a class=\"ProveItLink\" href=\"../logic/sets/inclusion/__pv_it/axioms/7a59274882f4df50c95c1e6d7694eb9e867fca2c0/expr.ipynb\"><img src=\"data:image/png;base64,iVBORw0KGgoAAAANSUhEUgAAATUAAAAVBAMAAADV6mS1AAAAMFBMVEX///8QEBCIiIhmZma6urrM\n",
       "zMxUVFQiIiJERETc3Nzu7u6qqqp2dnaYmJgyMjIAAAAcRTyBAAAAAXRSTlMAQObYZgAABCZJREFU\n",
       "SMfNVk1oXFUU/jp/mf90ISjoYjCLhmCbgYAFqWTQRRUqGbtQF2IG20Ja0A40ZZSojFLIxB8yqzYI\n",
       "Nk+UpqZSCy6kbgxNxDapdaDgT39HtAsj2KG16R+lnnPufTNv3n1vFN144Lzz7s/73nfuOfeeC3SS\n",
       "WE1pJ0lUja51lzp/8kGnwaOkF0bF1Ll93mfeQa0kLxiDqZ0rAyN7gO3GyEJaxv2cipc9uzVehH1d\n",
       "ELPE3cs+KL9pJbmsu74vlUq71esq+sdgHodNbskj9ExbPqjpqne/wovXhRubKQ6dtyNIZZXy62X1\n",
       "p/0nWsPDtDBDWSQzBjcBnPKL2mmffo13TLixYe/ETQ/pqiolOTRYba6kLf3UdTGD+GqDmwRiyY/b\n",
       "q22tH0ulehveh4obmdTi7Ow+H5B9Wklq/Tk2QacXb1Lq3Euu/WpyOzc7+0nRb4O1DTzX58ZL54Qb\n",
       "mxuVyms+KD1agZD1lWR2l3N4BXh2B9l5k1t3pTI+54MaoCyJP7j9sWOyL5YNvGRWuLHZBkzIkHo+\n",
       "cXV+xM7V97QCH2NYsmqv4x/hlfO9Y/xygR/JP0Syilskj6gr45vtKHn5KX7IvMGNSNXAS9WFG5vH\n",
       "ZUvQ+58q6VcjaSfQmFYgh+ksWgeK8v8mJUWBXr4w1y2UNbbvxZydxZQXi/jOelKImniJonBj04WA\n",
       "hOujOzIjWEDilp59j1aEtwzsLLtjGiUXArd5f5ncUMRau3Vo/lEO3qB93K0ikhYqqvE0L3a9DS/c\n",
       "EAQ2yZr64eIu5VUGwbqbW4gQpdN5XnSTj4ErPty+hZ3xqXfe5+MnOZN1cAOuqMaUiefgFqs/I0uT\n",
       "UZ58lsc6yx1TikKXCvTv7cdRhBNhoyPfCprb/jC9JXs2b6OcEdkcLTtiivA1TdTEC6mYssHEVklK\n",
       "rJcZQ2t7C3DthRihpRvSdWCr5Tzehsv2XnCtW3QvrU5fpD4KHYRCsOjYC18GGpDDI5iBG8+xF/C5\n",
       "fHQW/TLjFLDGnj2vlc+46E3V9/y4XbN+Jt/uY6YbPLgl2NN8uoa4ritHAg09SodD6Ha0oe8QY82v\n",
       "bLzgnCCwQTdTj/9yclJW5F1g2j5gNyo9eHcZicnr2XYCL9/d8nBFZl7y4KbyqbuK8CuVylvA4Q3H\n",
       "7R1GwYq/2Nej7xcH9lguvHRenb15dokHgxamuQHaKENVs2Z1kHjRi9sZSSHkoTLkEcSuedesTeN2\n",
       "zdIyoxBmmh1PkZO12NuI3ULsAY9a30E8ar0uTo1TmMPXslYUwDt/V+u1tGq9zs8biE2+Hr4f31wd\n",
       "GMk1p000y4XNo1Rq3ZG0eNyR9IK+tOkhC1GO02QZU9dr7grhHYbWHan9Dut/t/SXCT9uWno53/7B\n",
       "3dLJfMF04Oi/uJOnzFVY81/u5D/xpX5UTJvU8H+SvwBVZVBM8dnIYQAAAABJRU5ErkJggg==\n",
       "\" style=\"display:inline;vertical-align:middle;\" /></a></dd>"
      ],
      "text/plain": [
       "<IPython.core.display.HTML object>"
      ]
     },
     "metadata": {},
     "output_type": "display_data"
    },
    {
     "data": {
      "text/html": [
       "<dt><a class=\"ProveItLink\" href=\"../logic/sets/inclusion/_theory_nbs_/axioms.ipynb#superset_eq_def\">proveit.logic.sets.inclusion.superset_eq_def</a></dt><dd><a class=\"ProveItLink\" href=\"../logic/sets/inclusion/__pv_it/axioms/fdffcdb3f24ff74c3b0ffeb5ef5a026247cee4a80/expr.ipynb\"><img src=\"data:image/png;base64,iVBORw0KGgoAAAANSUhEUgAAATUAAAAVBAMAAADV6mS1AAAAMFBMVEX///8QEBCIiIhmZma6urrM\n",
       "zMxUVFQiIiJERETc3Nzu7u6qqqp2dnaYmJgyMjIAAAAcRTyBAAAAAXRSTlMAQObYZgAABBVJREFU\n",
       "SMfNVl1oXEUU/rzZm929ezftQ0FBkUUh6YMmwdX4EtuFPkQESZ7Mm7tQhehDGurDFmprLKXdVcum\n",
       "INQX2WuVGiKuAR9CQGhMBCURWYsPirSumFAM1IakTZsUqWfOzOy92ftTsS8eOPfOnTP3O9/MnDln\n",
       "gChJ1qVGSWrC19W9gnvCRuGlr+YwS82G+L4cMm5SKcnLPmP60GZ25CTwms/yTTSqhgwQ4YXw7Bza\n",
       "acpLoms1ZOifSkmu87NWLBZPaOsD48D+IdQCuEWiasgAEV5qzM2i6X0g1ng8eGS6V6poXnd07+fL\n",
       "qpGnrRnshZ3xc4tC1ZBBFuGF8Igb5oEO8TUdPDQ+IZXks/1uWNVUs4fev2Vg7fZzi0LVkJrP6eJx\n",
       "3WYvhCe4fUSmxampcyEg55SS1HtyzW6zId9vE86DRGLZzy0KFTsM5gnH/ZBelplbB+ntUunNEJDH\n",
       "lQIx52LdFy+bwPDr9F7wc4tCZcjzne8/wbFQ81BTXhaYm007/ypQZot8Pr+xMKLX/IxS4BPkPVG1\n",
       "JGe8eXnvUdG4Ih72Xyy9ilsTVbut9PeVXVhrLn04zsvvPeXKyxXmlibzAT4S1L4ht592WwfQUaVA\n",
       "DlVPAD/NT2OLgqJAjZmAddOoTfkR+NqFtR17O8ZL4D0wyssMc0uNUWTC4O36+G+2txWQ2lZj9yiF\n",
       "eTB7yAMivSZoCsYdcV4DuGlUEuurLDX7gItOE9ZCQuKZj4rVVqGnvOSZm7lGU6jH2bL4hjxEGbQ1\n",
       "WrnFKJm5y5Aq8GsXvYz1EG4aleTn2Sl6Hgb2eWCxS8aIN9FoLy63ZOMlJp0p8YAvhtDttO4pZYO4\n",
       "mymGnWZ6axeBMOCJt4LiJlHnn+kcinEwWDdhrHpgkR+SH54EpL0MMLfYmDgDrwhDO57lAYNP7i2g\n",
       "5Swk6a+ONb1FB8puesuP67PQsm6Majij8VyHXJP1S6c8sCmnh6zi4ym3ymov7lnAl4IgfkUPj/gB\n",
       "6NKjF5SKhJTYUjXryJKy/k4eHxL4/UHcBKqJaxTH3GU3YIy5sIPTFXwoY2jam/bYSz9za5vTO2/9\n",
       "8X2F5/EeUNXDB6RO3l1FqnKrpdKM3j3YV+KRK0HcZDyRq+FSqZRBYg7JOy7shcfOPyfPijXygroA\n",
       "NL2syNwrNj0tOLU5qHIEEMDghL9mRYg1FsSNUc01k4KFQ38asa3AmhX7zq1ZGk9w+7TZ8SL9Xk++\n",
       "g+Q2ko8E1PoICar1Uqp2w4bNU646ODt3z1qv8VStl5K4jWTlmPkwvt3IjriVs4yW9C7uSMViYQdW\n",
       "0B1JyoWf5heBd4W/t7J9J3fAhot7R9p55wy/W4ZLOZSbFEPE27+8Wyo84pZojaXZ/3AnT/sDsut+\n",
       "7uSEZ9Cd/JfW/jr+T/IPCOVB2Jvl8dIAAAAASUVORK5CYII=\n",
       "\" style=\"display:inline;vertical-align:middle;\" /></a></dd>"
      ],
      "text/plain": [
       "<IPython.core.display.HTML object>"
      ]
     },
     "metadata": {},
     "output_type": "display_data"
    },
    {
     "data": {
      "text/html": [
       "<dt><a class=\"ProveItLink\" href=\"../logic/sets/inclusion/_theory_nbs_/axioms.ipynb#not_subset_eq_def\">proveit.logic.sets.inclusion.not_subset_eq_def</a></dt><dd><a class=\"ProveItLink\" href=\"../logic/sets/inclusion/__pv_it/axioms/41eed7a91b1632948006533bffef4efa8ad801280/expr.ipynb\"><img src=\"data:image/png;base64,iVBORw0KGgoAAAANSUhEUgAAARkAAAAYBAMAAAA8FZQ1AAAAMFBMVEX///8QEBCIiIhmZma6urrM\n",
       "zMxUVFQiIiJERETc3Nzu7u6qqqp2dnaYmJgyMjIAAAAcRTyBAAAAAXRSTlMAQObYZgAAA95JREFU\n",
       "SMfNV19IU1EY/9y809390QdJoYhBD/liCgt7KHDhgyGEe7K3FOyPBeVEbJRFCkWbJfMphSgnBYlB\n",
       "CT5UECT6YFnEKIiirEVFZJGitaZh9p1z7jn33O1OjYj64HfP3flzz+/7c77zDeD3JRv+J8n5R/va\n",
       "YwxGeWn45eg2Xyfk4gqb3JYQJx2TGSYOaEDZrfdOscbVlPA2ngI4YL6Oi9pOGyWeNuvpUkN5yAc2\n",
       "VIfjgfT9NPmoAWVa63oWbC5sZa9ZuE+FH66br+PiZrZzz2g67A8Gg372XgRg/QYq8uToJYZtNyfj\n",
       "KmMgr9NR2l66DzbtW1CH/qgpA6fHbJ2QJ6x5tcB8+Fl3rLKIJ2IOYBQE3LiLcyhDuHYzoFyroK2K\n",
       "WgtblGLXaw+o+WbrhBxl/hqely1FxYJdrlmAfhBwTQwO9mRwVI8GlFipjzQ25F3Chztwk0JU5p3Z\n",
       "OhHQAWYuy1fabpWGclGN/mPI0KcjGQodz8BmgwY0aPRujB/uAB9OAOw6iO2Y2TphAOa1ascibQPS\n",
       "UF49KEeIa8p07AUI00H23DE31sit2aUB4ArU0eg4jyd6hLs9MVncRkOCPJxfqJSBWKMZgGqh+pRZ\n",
       "aql6aaju0OMzJEZccR2VNJjxnZnSlQ9OHghtGgB80Ef36ZU8T9zeT75+M9U2uMYaJILEc4ZY+rbP\n",
       "ScddxJ26hmSsgI4csFD6l5kprfXgWNCmF2gApcHb1K55qld2u+UH0TGVTQGPGeSaReOt1lueTPNU\n",
       "B2GEZJUZHc4Yy/QTLew8eMAaT2WDN1MW7XTGYLPkdrDMro4NPtbTrlFpWoKw8RjZ2OO1VH1PiE65\n",
       "4YdN0VRPoQI5zH2fVKEdSTc24t4qKW7qQXiXsaGeciCa2QkfMqQbaEKe2QEdEN5Dzy5soXNqSopF\n",
       "pPEotg+JXDrQ4JHTTV07j2JZuiQ2NIoviGSu7quW042STIliGKbavoBSOucRwEY+f0wDyR+585pF\n",
       "PgSD7GZ4g9oUETNuS2UjjryfHVuacyIs+pV7/GZwo7W3d5JQHdEBeURb9e3DCHXQOYA+bs0qhoGl\n",
       "KXBEvrPEUcl3OkzuPDrzfSqbKrkYCoAa+RmFW0stxkm2abx0z1Jafh3gIiysUeijjPGQ1HSn3wxC\n",
       "TqflSDWwipthObkqgclOtFHM3gn2BbCvM7k1RaJPLwxWd2suI9KtqeWOJNgjJ5S1MD7nbfSJeWGR\n",
       "ovnOJ0lSazV8zKSikNfkGow7TrOi32BbqaIw1nGZq63MVWh4VdVWZiF0OdKKwuUr0TvpRdCfVqLP\n",
       "JRgktqKPO/+r/wvdf/XrvwBAgCVwL40pgQAAAABJRU5ErkJggg==\n",
       "\" style=\"display:inline;vertical-align:middle;\" /></a></dd>"
      ],
      "text/plain": [
       "<IPython.core.display.HTML object>"
      ]
     },
     "metadata": {},
     "output_type": "display_data"
    },
    {
     "data": {
      "text/html": [
       "<dt><a class=\"ProveItLink\" href=\"../logic/sets/inclusion/_theory_nbs_/axioms.ipynb#not_superset_eq_def\">proveit.logic.sets.inclusion.not_superset_eq_def</a></dt><dd><a class=\"ProveItLink\" href=\"../logic/sets/inclusion/__pv_it/axioms/bd32d99a9b31a185188cbafe63fe5d0c9703a69e0/expr.ipynb\"><img src=\"data:image/png;base64,iVBORw0KGgoAAAANSUhEUgAAARkAAAAYBAMAAAA8FZQ1AAAAMFBMVEX///8QEBCIiIhmZma6urrM\n",
       "zMxUVFQiIiJERETc3Nzu7u6qqqp2dnaYmJgyMjIAAAAcRTyBAAAAAXRSTlMAQObYZgAAA9hJREFU\n",
       "SMfNV21IU1EYft12p/vUH1JCEYN+JIRtMLCgwEU/jCAcBPovByZYUBqCMy00CNpM2X5lEOGkIDEo\n",
       "QegDgiSDQCOGQVChLTRCf6S4MjXM3vN577a7aUTkC8+9Z+fjnue873Pecwbw52aArWT3/9O8ljhD\n",
       "qpWl/LJF9cdJu7XBJE80SJCKySwdBzjQTqq1CfZyNC55G64AnNYfJ8zaSV9KIqPX2/W68pAPzLgc\n",
       "gXFSP5eFzSwH2jwLUjAYnPbw1jycp8KvF7hZTdnJfOdcoNS+BIOtLtFUAmD8DlbkKXCDOLZTn4zD\n",
       "w0CK8zEpmxleqMV4VHnA7tIbJ+0Ne02tSmdN+VhBWQMwJQGeg4QTZ7EP6bPJjzKg3auQ8rhe4GcF\n",
       "N1Z9dIG1SG+ctAuMwvCKGjvuOgNWORYB+kHCMTY42JslUL0caHG3T9S+4EqAy/jh7biYGb1xUtBN\n",
       "zF2Gb2od12ABLqO/DR3iU7EcCl3MwmY3Bzo09iyuipjrdgmg5gy+R/XGyeTEonbMtpYhpcIAKC0k\n",
       "NB4V9QBh2sieR5OjDcLRPRwAd6BWqMPhgr0s7EuTpe1UEuRh/0rNA3IMdwBdhdWnLKp1XBm1Zyeu\n",
       "kpIjoeIIFTOWmSsdRWAXQmjnAPBBn1AmCu2gDHt/AAuP0n2DY4xBYiOoITqzCSxJtd3oE7qzbiMZ\n",
       "q0lFPhgo/dvMlcYA2IT8izlAqfM2in1XLYRJwm74SdaYzqZYaAa55tGZq73ly5pISd2BG8kqCyrs\n",
       "8XzaNtbM9oMLjIl0Nib8qqisB1unCDsYFjfHBh+71PaHUnfgdqWysSSq6fJdIdrlgR/2xdIjhQvI\n",
       "5+HDsNbEZLoxk/BWanQTABldxoZGyoY4L8kobTLdQCPyNDWpgPAp0maG/bRPVVlpANJUbBkSuRRn\n",
       "fX8irKab2k6hYq31aNhQFd+UyZzsiANRqTtlOU3FMEwzwgdw0z6vAfaIcaMcJH8UrLCToaN1nLd+\n",
       "wtWUEDcdSmcjt7yfbVuacyJRfjJ081zrRG8f7iJSHVEBhWTvWqdfRWgAugH6RGquZBhYnwNb5Afb\n",
       "VE/FTOfImUd7fk5nU6kpo/utkV8xeLzenNrJPI+H7jVKy68CHISFMQZ9NOHjJqmKZp4MugciV1LT\n",
       "Jk6GXHZXA2bH0UdxSxdYVsGyU+fUlArMPGA3d2rmMM2pyTPmMlgil5Qd8DLpbZAnEk3P4ZRrXwdJ\n",
       "aoGNroLaMQVaRxHdBIMtqb7V3ChS73HZb1siCLmnzn7bym6ErkDGpTD3TXQi8xL0tzfRdxqkWHzD\n",
       "GM9tqf8L0X/69d8Ahyk2DGj2HgAAAABJRU5ErkJggg==\n",
       "\" style=\"display:inline;vertical-align:middle;\" /></a></dd>"
      ],
      "text/plain": [
       "<IPython.core.display.HTML object>"
      ]
     },
     "metadata": {},
     "output_type": "display_data"
    },
    {
     "data": {
      "text/html": [
       "<dt><a class=\"ProveItLink\" href=\"../logic/sets/inclusion/_theory_nbs_/axioms.ipynb#proper_subset_def\">proveit.logic.sets.inclusion.proper_subset_def</a></dt><dd><a class=\"ProveItLink\" href=\"../logic/sets/inclusion/__pv_it/axioms/dc19bd769da96446823e6eb8658ec92e1c8f526e0/expr.ipynb\"><img src=\"data:image/png;base64,iVBORw0KGgoAAAANSUhEUgAAAWsAAAAVBAMAAAByN9JOAAAAMFBMVEX///8QEBCIiIhmZma6urrM\n",
       "zMxUVFQiIiJERETc3Nzu7u6qqqp2dnaYmJgyMjIAAAAcRTyBAAAAAXRSTlMAQObYZgAAA/FJREFU\n",
       "SMfVV0toFEEQLfeT3Zn9mENAQdFFD3rRLCzEi5AFDxFBkpN6EBNRIXrQDSKLxs8KgokouwdRQTQr\n",
       "igYFXfCgngzmIH6QxYAf/K2oh0QwIQlJjMRY/Znpnp5PEvFiwZuZnao3W11VXd0N4CVamcFLIoV/\n",
       "xbvkTYAHEirkxQcXw24OlG02ZWzfWKr1BMDuf8TTc0JniDn0IPpZVRB4Rl4OuLjdz4EyaNfOw/+p\n",
       "b4Lbs+K9ymazBxx5Gr/HC0JnOJsznuJDOK6KwAVCzDl7HUsykMfBok3djLFoTEI0MQve5SeuvDiz\n",
       "hD5Jh9Iw3oMj6eGcj5N4eSQQx89GS85uhwoMKLfqeSm+EVGrxVefEqBXz4LXL6kV3pZD7H5Q0mGg\n",
       "289uL/XpPKD63Z94vSIQe3rz5nmXGjnPQYqsNm2L2nH83AIc9deZeX45MApv5zJWKxlZB1VFCB6t\n",
       "eZ3m+fONkrykBSY6Og67uL2cAyBQfFgWIeEyBrB5D957Z+aFwJWnV5jSl5R14EOE24yIbIhM4TWa\n",
       "FNgF0ElV7Lp+pLfVaE1nOACuQXNCjVpw7MPKdlp35BL9QSXpzDsHbjysUFaj4bKsY6k1m0w6OExi\n",
       "XhFYR2cmPo+ydFRD1CjWdg6ANHQl1aj5sNyutODDPTXadl63Oy8EGv3/UEnWsfIxHgKgjZBWnxEI\n",
       "gY/m8eoUtfC3QGSSW9dwQHBHal9OjVoYR+f7RWa/6radF3LnvaQJx9aXlnXW9rcpVTdBXgwJRMvs\n",
       "m0/3s8EnwF9R/z6AX62oUZuPUfENe7pt8uQmqfCwj2wy3TZ1EM1mj2HTauFJgyWK21qFsoKJDmpx\n",
       "pwlWF9VkY/5C1WrUSIutIpXVINV2izMPvrvxIkm+0NAiMXVE3pv7AEQbiUJGADppCVXBGmrSuGql\n",
       "WVvG1NJKbJmyRo202OacObUksfPg+s6iM4+4TFxnU9LU8TwwuchXW3lKwl3aMN9BLTV5AbDCMO/l\n",
       "ID04/FON2mcc9kLizFrVbQcebD1pLFNW3hbDQdLVhI68MDYktKPncUD+HgGYTyKof3mep+anAbqM\n",
       "LtfA0D09AJH8eNIatb3TO+o6qOU31W0HnhCFR1O9jFeA0GFtL82y2tbzv4twfxqnXrxJAGLEEX8R\n",
       "uugOBqdxY8G+SJsiomY21YzH4u4hjEeXwaC6klnanyk3JDDZiFEva6dAmwRtscOWyEM8t1Jz4PVZ\n",
       "fwbs+ztpK8V76QRo+SPBRfB4JNWaNu06zcXTQxw2rjZelCRcyZLKC1vzE7elS964Wk8c7tt9d+n0\n",
       "PCbMnqdbw6vbCGRcBmzHnrkermJ/eSiLzflQ9laCRcrwn8gfSH55F75O+poAAAAASUVORK5CYII=\n",
       "\" style=\"display:inline;vertical-align:middle;\" /></a></dd>"
      ],
      "text/plain": [
       "<IPython.core.display.HTML object>"
      ]
     },
     "metadata": {},
     "output_type": "display_data"
    },
    {
     "data": {
      "text/html": [
       "<dt><a class=\"ProveItLink\" href=\"../logic/sets/inclusion/_theory_nbs_/axioms.ipynb#not_proper_subset_def\">proveit.logic.sets.inclusion.not_proper_subset_def</a></dt><dd><a class=\"ProveItLink\" href=\"../logic/sets/inclusion/__pv_it/axioms/47552ff6ee0631fd97025ca9566362aca93064d10/expr.ipynb\"><img src=\"data:image/png;base64,iVBORw0KGgoAAAANSUhEUgAAARkAAAAVCAMAAABFe2rqAAAAPFBMVEX///9RUVGurq4bGxsLCwsQ\n",
       "EBCIiIhmZma6urrMzMxUVFQiIiJERETc3Nzu7u6qqqp2dnaYmJgyMjIAAADYQjYbAAAAAXRSTlMA\n",
       "QObYZgAAAx1JREFUWMPlWNkWnCAMtYuCEPb//9cKiBIWwemc04fmYa6KkjvZCCzL5yIMxifRsj+m\n",
       "xDt98wOTkghgtNe4eTm/BIxRdtvkjp8a5hwjhAFQf8vEG32DgTaBQjoEEGqV3rbynWWswHjeuda7\n",
       "jBYP1vhviNv9X7Nv9A0G2gQqaRJAKJLBBbwzjCEYzzvrGgau5t5dDFDqwtd6m9c3GGgTqKRDAGEK\n",
       "lTt45oQLjNHYijjsWgOc89+/ON/zp9v5lnGBilzn9T0PdAh4mSGA0GjpRfCX5ZdjPGkcKimqL1q0\n",
       "whHWkwCPfrF0Vt9goE2glh4BhA68cP3OMhvBGGNTLsqZyp+wl187FkKasxSwZFbf80CHQC09AghZ\n",
       "4A3ZFPk1BUf0UcRLDWAwBg9Qn8BZzSAhQ3eos5wZswFXd3W413ebCan01d4fE2iVmQ4BhJQUy4NB\n",
       "8WhC3OmyEqRJeabbfyZc5sMY6HXInFkuV5Y6imEun3oIv0RPE2gEWo8ARv+z3ZaXBMUjCR+rsuKv\n",
       "FKN3xNEhEObuCBExZFkvyw+CKvlwuMqWlUiwWQL9MlMTwKgNMq6WPE9dHoKT2GVomXi12qIFA9HJ\n",
       "ck9s+6ZlOgS6ZaZBAOPRoGZ+3bcFsgllaIW2qg2ssyk9WHEwU9ZtJhaW8pbydp1hlb7KMkMCD91M\n",
       "TaBAEFmPynwyZ6nrtqNUsW7huwqgUHUP6humRuuamon9Cnwz7IKrCpwsMyTQLzMNAgWqzBRG+Q+z\n",
       "ucMrW2X8cpm72grIOy2raGO1tdGrdIUUiWTYM9Tr+j5HoLmf6BIo8V7opCVaQ1ZuIbwiXKkBh50E\n",
       "50LCqeMiK1OSrT/LPGQ27ebuOe0+sgzljwN9Aoy+IVCiuT4mMtjhJhpNQp2Y2h3UG/wfGhrNeblb\n",
       "nmjA53YHjZryhkCJmQNi0voCJSAaKfyuenJHWcXt1Ab+izvKz6S5o0RlLlQkAY6bZV+PaNHc+RYB\n",
       "WtuatBrDg8/U1J5j7hSiqwfE3xqmeQrxlAmfnFx9EjLwzZOrT6R08oDQ8BBy4rSTzvAy//q0MxEo\n",
       "sfv+8l/LH6VVMR9UA1rdAAAAAElFTkSuQmCC\n",
       "\" style=\"display:inline;vertical-align:middle;\" /></a></dd>"
      ],
      "text/plain": [
       "<IPython.core.display.HTML object>"
      ]
     },
     "metadata": {},
     "output_type": "display_data"
    },
    {
     "data": {
      "text/html": [
       "<dt><a class=\"ProveItLink\" href=\"../logic/sets/inclusion/_theory_nbs_/axioms.ipynb#proper_superset_def\">proveit.logic.sets.inclusion.proper_superset_def</a></dt><dd><a class=\"ProveItLink\" href=\"../logic/sets/inclusion/__pv_it/axioms/e03edc0397945c127a30bd6860dbeeff9f2a13230/expr.ipynb\"><img src=\"data:image/png;base64,iVBORw0KGgoAAAANSUhEUgAAAWsAAAAVBAMAAAByN9JOAAAAMFBMVEX///8QEBCIiIhmZma6urrM\n",
       "zMxUVFQiIiJERETc3Nzu7u6qqqp2dnaYmJgyMjIAAAAcRTyBAAAAAXRSTlMAQObYZgAABAZJREFU\n",
       "SMfVV01IVFEUPo2OM+/NTy6CgqLEFrUpByZsEzggZAShq2yVExpYi5poMZX9WLRwJJlZBAX9OFFQ\n",
       "GJXgotqUJBFUxJCLiLImskUuUlTUjLJz/96977cx2nTgu/fNO/ebd+455557L4CXaAUGLwnl/hXv\n",
       "ijcBHiookhcjLgNvcaDstikjB2fi7WcB9v0jnt4pdUKMqfvRzoqcxAvycszF7K8cKON27RL8Tl0T\n",
       "3C2BdzedTp9x4Wm8j+akThjbKZ6iEzivosRFQux0tjoSYyCP43mbugV90RiDcFVpvDujzrwoGwnD\n",
       "ig6lYXYQZzLIOR/msXkiEcW/Dfc7mx3IMaDcrqN9M3qtR6hr8NXHKtAr/8xjLs858nYdY/1RRYeO\n",
       "7ji/p39Y5w7VB75je00i8ryv74JLjlzgIElWkxBvL/Pww2n8u+U469HSeDQ/HXht1SxXUqoOKvLg\n",
       "P7nsDWdHfNMkLgmJua6u4y5mr+UAKM8/LpisIjKD3t+P/VCJPJHuZp5eDNDeF1N14EMEDwmPbA/9\n",
       "xDYck9gLkKEq1m6bGmoXce3hALgBLTKDQywZ/TMj6zto3pEm/I1KzIPHlr+FhxnKcjRYUHVUrhpF\n",
       "JuGfJD4vStTTlYnP0ywclRAWydrBAZCA3pj8fIq5B9PtWhIf7lu97cbb5MQLgEa/H+hXdSx9xEM5\n",
       "aFPEXymJAPhoHK//pCPKkhCa56OXcYC/NX5QqTas4gZxdr4fZPVbzXbjFZ14r2nAsfQlVJ25/O2M\n",
       "186RFxMS4QLLreeH2eSroKxo/Xw5/mtRfr6btkvRK75JT7PNvFDSiYd1ZKdhtqGDcDp9CstWkgcN\n",
       "VlvM1oqU5a/qoiPuNcHGvDXYGL9ApTVJSImtIJnVoOR20oPXnHfgkYVCNxqaJIaOyHtjvohDxAsp\n",
       "CcjQFKqAzXRI44b1Rm6JpaX1s22Ki2/QKL8tncbSUsSRp9dnwIFHTKZrnC5JQ8fjwOQS323VJQkD\n",
       "1HnvoIYOeQWwTgwf4iAVL/jdsOoR6z7htFcQB26xmm3n4eZ+5AU48XYJA0lVkzryQpROWtGzOKGy\n",
       "QQlYSkqU/vlllg4/B9ArNs0GhlsLYxDKzvKSoG+ldRUOLLTWdtGRX6xmO/KEWHg01NU8A6QOc3tN\n",
       "muW2nv2VhwcLuPSiTRIQIeaW5aGXnmBwGTfm7Ju0SE/02lPryS3lsbl7COPRbdBvbO6KtNkYNxUw\n",
       "2YFeL2jdoM2DtsrhSOQhnkepRfCGzT/L7ec75SjFJDgHWvaEfyU8m4q3y1NExtg8PcTh4GrjkYOr\n",
       "qGZuvKA5PlFbuNSDq/nG4X7cd5eM5zWhdJ5udq9uI5B5CdiuPYu9XEX+8lIWWfSl7K0CkxTgP5Hf\n",
       "45R7XTuou3MAAAAASUVORK5CYII=\n",
       "\" style=\"display:inline;vertical-align:middle;\" /></a></dd>"
      ],
      "text/plain": [
       "<IPython.core.display.HTML object>"
      ]
     },
     "metadata": {},
     "output_type": "display_data"
    },
    {
     "data": {
      "text/html": [
       "<dt><a class=\"ProveItLink\" href=\"../logic/sets/inclusion/_theory_nbs_/axioms.ipynb#not_proper_superset_def\">proveit.logic.sets.inclusion.not_proper_superset_def</a></dt><dd><a class=\"ProveItLink\" href=\"../logic/sets/inclusion/__pv_it/axioms/c1ad65b97d77e7a86f27fe469e541fca9d5c72960/expr.ipynb\"><img src=\"data:image/png;base64,iVBORw0KGgoAAAANSUhEUgAAARkAAAAVCAMAAABFe2rqAAAAPFBMVEX///8NDQ0WFhYfHx++vr4Q\n",
       "EBCIiIhmZma6urrMzMxUVFQiIiJERETc3Nzu7u6qqqp2dnaYmJgyMjIAAAAvkUTxAAAAAXRSTlMA\n",
       "QObYZgAAAwpJREFUWMPlWNeirCoM9RSlhf7//3qlKUWKM/s+nTxMdAyusEhCcNs+F65L3TX4VCQv\n",
       "9apDI1FiFc9c/+uX8xBQ6q5BEGIW3qmptRQhCoDdLY2uUv7GoREeN8t4SiYrI94xY3ipuwbxzi69\n",
       "dQ/TQ5a4ucZ5CPPGoREexct4PBHN4R0xGpW6axDvjF1hntgQudj60eqIOXCsOzTCayY5wkuhcgfP\n",
       "mjBe6q5BWAWJbHZPWBCoM/iIVtp6H8Ueh+/rDj3gXXCGvMDTSjjh7GX5ZaXuGsQlPH3AD0aqykXY\n",
       "o2csLJiJgwxedWiE9/dPnfpDPAtOmHrHzIFK3TUIwSo2afV8QpulYY1pimRU6rlDIzwg9UIO8aiP\n",
       "MMjIzK8xWKTO4l3nTMoD6O1o+QOBXUY/1wqJirSnWh/A5F0uSu2cNpmgN3gEKrgJHkZV9ddFHGof\n",
       "b6pO9PSyqBG7RJUGnl4XHLaz7KxNe7HTxBsr9aDMzPGAVHAzPPdz3IwLVMQh8oNkXel3XOo7PWjz\n",
       "gJwtA6K2s/nlzUpM+9NjmRa11IPtfopHaNMbTfCULphUguVsMx+UyGyfMxOu9k5TAqJOe+fp8QUz\n",
       "HbxQEXK4Gd7ZFxJ6M3tskLEtfAt0NG1glU0tM/eDZLlPsyl1FxtNCY1Zqes6Qx+yqYOHaZO8Uzzg\n",
       "WWtIXdHI3mePs0TRboFtKnBi5nrA5bAJPlTbXZArEx4q8Kzi9/DChp3DzfFkRoWWbkCWW97kaApg\n",
       "fzsl5YNrnwT71BPKfMomLDPer5BHqtSDo+IEz280JdwC3r3BCYOUgqzcgjfhtk6ahzB/MhBgrc9E\n",
       "eV6wmkWBKb2hqEnHuxssNa1N8/oa7/y3hFvC05c9Ep6H249ACW7X+93poI6r2K2ryYQFK/Xy6aCB\n",
       "+/1rAW6Ah0OyusLEIZDkf3f17YnyM/n8RNkcxMVXeOArEQfL9Eb2M1oUs641gKdTS2qLobdWwL8l\n",
       "5t1XiBGeVD+JJ3/0y9UnMiV/GW8tZBbxpt8Y//evnZqX+ouvnfgn8fT2T8t/90oxGkl1LAwAAAAA\n",
       "SUVORK5CYII=\n",
       "\" style=\"display:inline;vertical-align:middle;\" /></a></dd>"
      ],
      "text/plain": [
       "<IPython.core.display.HTML object>"
      ]
     },
     "metadata": {},
     "output_type": "display_data"
    },
    {
     "data": {
      "text/html": [
       "<dt><a class=\"ProveItLink\" href=\"../logic/sets/unification/_theory_nbs_/axioms.ipynb#union_def\">proveit.logic.sets.unification.union_def</a></dt><dd><a class=\"ProveItLink\" href=\"../logic/sets/unification/__pv_it/axioms/39721993b1dfda56d214e08718cb566208f76ad10/expr.ipynb\"><img src=\"data:image/png;base64,iVBORw0KGgoAAAANSUhEUgAAAfIAAAAyBAMAAABVIETjAAAAMFBMVEX///8QEBCIiIhmZma6urrM\n",
       "zMxUVFQiIiJERETc3Nzu7u6qqqp2dnaYmJgyMjIAAAAcRTyBAAAAAXRSTlMAQObYZgAACEJJREFU\n",
       "aN7NWmtoHFUUPtnd2cfMbpoftb6wLAlELWIWU1swiquiovjY+MMHogmtRSuiWwvGR5X1ReOLrCC2\n",
       "Kpq1lapVYiSIRgpdW39IFLpUxYpoF6qgBe22TTVJrfHOfczc1+zOGhz2wpmZPXv3znz3njn3nPMt\n",
       "gK/WNj9fhgW0z6E1mjlIznvmD/v8RdvkK6UF3DBZbhHkcB05vfvKh36R5xZ0v25F87q2X6KyUGST\n",
       "VLxaqkov+gNBbnUoVlfQdnyHnG5vbnij6l5Hi0Q82/OBIn8zK2va9Q/3GzkdchT4FTPVjoK+vcZN\n",
       "aZVIw2cJBvmTiuZrvSlmyOmQ41Mwhna1p6D/aY77ZheVRvYXCHJrTlE9JADeOPQYvogRS3jvYsci\n",
       "8litDsnrzYlZfk2peLYNASKPZRRPludf0yfYEm8ip0pPthnkqdA0/x5liXi2ncXgkO9XXuoQmguz\n",
       "c+2l2CzHHNvuwsdIaWelGeRXWyf4DTRDpNE6BIL8QUUTR9Deh+/S2MjXOuoX8PEtGEgjSyj4RG5m\n",
       "jSPStoW3ruQfuCmTkJoLDLkxrc77OMAU7CldZX9wN7hH8DELoxkwevM+kUcgcZR3Knki3mHckcCQ\n",
       "hzvU4bL2xjRMJmapvTT4cjH+vLr3PjQZEb/Ib+xdMcPPc42Id/sjMORtg1rkAGTyE+6aLyZrCG3V\n",
       "JpCjoZY2hbynGBTygYrW2sE4Rj50iNaOvop1MOR43x7z2M+x3kKyDgUI33ZmOtcA+R3+LX3P1Wkf\n",
       "rQSFvKeo9XCfhmqwzP5wnuDhEuMkKCPIl9uHCXVMV/8aifm+OQOWlLp5D9fABoNA/rgmd8tA5Hi8\n",
       "RhIUbAC47aZ7enyWIR9D940ctP3SP+jwQZVeuHocGYwUE1vyMA0X2l6lTMS7xfMEOZ6eH30g99dR\n",
       "005RVQiWuWpZFxnNvOtqqr4S5SzzB8Ea+StDkSd+/ejWu/B+/4A9R4P0wtGbI/+U4JP59RBNGx34\n",
       "bWnPEamTMtcI8i/t00EfyP111OwiRzVKIXqNfCFGr2xysMPqOk+b3Mj6tlyokKghxG8DkTqJ6jGC\n",
       "fLPoXr2R++uoecYjGmXdjMXZl5too2jVU4Vy44yFPVA/tCObSY77QO6voyZfOa571/RZ6jNuZL/y\n",
       "z3Qzd7kCJb6Je0qNs1RmhP2Qmtq+fZMfD+evo5dxNVWZWECzpzRerN/nT+rbZ4aHN/jy7b46qi00\n",
       "q9P+X9Wo76nUazMU+RreyAQfKCGXO+p/paiTc9BibSlFfpnXexGWkEsdU9N645bV4ZZDfjJFHoOQ\n",
       "ZGM3XZgNLVGRSx23ntAOq6ijtVZDvo4iT1b4jMDc0VuxClNwgYpc7AhT67XDKurWRZ6o3shp901u\n",
       "B2tvGMrJ3pW9fQJy0nHX+d04QjLSw9rNUlG3nrUPsbj9mTvQ23nRDV0hBClixxLWrbeky+qa446h\n",
       "0r0xnGJGYSU6lORRsVr0cLOyT3+90aNN+sXgZy+wikRUDwcTKFpKXVJpuzs0SAq5Vm7qWx1yu6MB\n",
       "vxPND9ADxmcKclst7WrHpH3c9AwEGcMQLfpE7rn/8+TDWqHihdoShnwRCpZePRMWZVGKs5UgT9o1\n",
       "PAX5IhxVkSU0D3w1UoKYjJyovZ29zTC0e+JiDAPZQwx8rSYfOffL37xG4smHMTnFP8qQp+xHXYUu\n",
       "Ubp40/DwcNrKJSp5DXLc0ajhm4ZLMJpTkWN1qu/H83c4T2xNS/H6157RnsMw4MA7iu+pxrB2/QH2\n",
       "ynG+2HjyIZkm4qzO30J+fhKcBaMGek3xmsPlaTatUn4+mqwmYXMJrkUmUMHIN5cSz7IDUVvnwumW\n",
       "kyIbJ6QcTcjTYN/QELNMl2HAVIFh56TK3AJgh/ywnNsJIwnkg9lBRM5YqKuooVXfl4QknucspMoe\n",
       "lYlt3+yagv7x+AwkRh7Fz9U/bpwK/UX7wNRrzHw4KxoXvU1eYhng5mXutcswEKrAtuXLNJaM8GJP\n",
       "DJu8RhLJh5+pCCkUQx4ZRPd5eQrgObtAgLoN1q3JsJQNr8i4os5bmZjlaB/jvF1GYhlMLuHnGAZC\n",
       "FUzoQ2Qrw5ISm5nY0v3SOWlpJIl82E1F2GyUalQIvecNq1FskzB6+vgdg12Zg6Fs9Gyn98Vi/U1g\n",
       "GXgvzjEMpJAWY3yDWni9mdXtzHLq/lhVGkkiH36iIoRW/60Ol9J/SOl/u78k1FwFliHO9eMYBlKW\n",
       "CKUhmtUM2AlwB6vVJkvJuUhRGkkiHz6mwrAUAqs6u6+DXWfnWQbotwvDxC/xDAMpmJt5XcHZLjbR\n",
       "1GmxzaHHC/JIMvkwQIU56XRQyDmmgSFnLAMucTkL5TIMlCroI8U/JYkcp7UhzEyQKIMfSSYfJOTB\n",
       "MQ3hmmLtDsvQJnhNh2Gg5cc3QFuMS1Rp6oSZiYGcPJJMPlxJhbaNEBTyyLTi4RyWIey4U4FhoFRB\n",
       "/DZ9Le7pvcA8nFXqQbmEMJJCPkgeLjhGEdy8lZLbLstA6VOQGAZKFRh3YueIyQWHarDf44ed7er6\n",
       "8RGaAT3CBw0C+cCE7l7Bscicc6ekl8sywLanyJciw8CoggPk9AA7xIjLaKdRKzLhbZ1bLqoII6nk\n",
       "wy9UBLcTCPK2cp3o9ZqNQ0IxDCNnVMGrHskpnUoxepVHYuQD2iKw0Bbkv0W4fwjVzVhI5zw0ogrc\n",
       "AKLev0Ic8kHKWKgdBfOvsAP+y+GYYWhAFTQs/5LGyAcxS7VOCxL5izl/lQl+fhZWmZCnx52iYP8J\n",
       "yHFkvqpR3/sd2E81KlUkQttqCBI5rGiZ6mOq0Czyhf3LO5puFeTN/8t7gf/sX94iwM27yXnP/OF/\n",
       "Af8+kJiV/IheAAAAAElFTkSuQmCC\n",
       "\" style=\"display:inline;vertical-align:middle;\" /></a></dd>"
      ],
      "text/plain": [
       "<IPython.core.display.HTML object>"
      ]
     },
     "metadata": {},
     "output_type": "display_data"
    },
    {
     "data": {
      "text/html": [
       "<dt><a class=\"ProveItLink\" href=\"../logic/sets/unification/_theory_nbs_/axioms.ipynb#intersect_all_def\">proveit.logic.sets.unification.intersect_all_def</a></dt><dd><a class=\"ProveItLink\" href=\"../logic/sets/unification/__pv_it/axioms/55e52f1c0577b3c2dd6f738fb220b5cdfd35fcc90/expr.ipynb\"><img src=\"data:image/png;base64,iVBORw0KGgoAAAANSUhEUgAAAt0AAABABAMAAAA0ftZ1AAAAMFBMVEX///8QEBCIiIhmZma6urrM\n",
       "zMxUVFQiIiJERETc3Nzu7u6qqqp2dnaYmJgyMjIAAAAcRTyBAAAAAXRSTlMAQObYZgAADSpJREFU\n",
       "eNrlnH9wFOUZx59c7kd270eCA7YErAeZoYzFckjrjwr00BnSKbU56ED9g2mutPxqa0mBNlKtifxR\n",
       "A1Y5tFZkxrKCRUpHOKspRaScg+04FeUQnHZGkDggjnaGYihIAiF9f+3u++6+u3shRzbEd+Yu+949\n",
       "+967n3v3eZ/nfb85AF/LUdmL6rBhBbhqy6RhtQBb+tFAsLf3Uhn78zZ3HOiQ8q6Bq7og3kHuwoIp\n",
       "drC2tzdfCu8Lu18qX2eiTVxluibl3XTV84ZxXH0V+ztz996SeJ8uZ2fWZTiwI2Co8k4Uzfozaf2o\n",
       "YuB5L+OOw9khy1up5QCO9I93jPfYjbkhyxsWci9M84/3xjRXOQlDl3cjNzXtyPvGu407VrqGMO9E\n",
       "krupa/ziHeURV3YMYd5xLqhVO/3inWjlKhVJZ94/JkehVt/hPd2n4ZQzeCv/414/oPnEu7HI+/KM\n",
       "M+/R5Ch+2i/M8aXnFrehzqp9+8aXGLzZFbArLfrEeylfOQaDlzdUt4JyLbohc306a7vJ+6f8bd3h\n",
       "D2/1HF+7ZTDzbkTObmkGDvUx3E0avCfy6xZd/vCO804N7rW8+VDzA4OH90Q0sFtysLKPA6rG4L2X\n",
       "uzPUi/7wrhKaOiO8F1qlDabx/SCa/c6D0tdQ6YTBu5Fn+74/vKuF2YdESZvG/XYCiVO2a4PKnyDP\n",
       "90IWAinUw5uE7NxeeIN9Bu8dfGhwIOML74YCf+/14KdCfFmkw5jaBw3v0Lm3l34V3ZAIWmE6BFz7\n",
       "wRu8Z/Cu5qPdhqQvvA/w2byCece0WHeQeLrWQcU70A3xjwEieVDy06CqFe52NGUGtOw0efNja0er\n",
       "L7z/q/FD6AJmq3c19IVTqAwa3lVo4kOTXEUa9fAaNFa/c4vzHEkM9LDG5J3ibCI1vvD+FKy8jftO\n",
       "GZDx7RFNmwlYdRaUc4Q3BLuhMQP1LoCIgSvvcJcfvJXzYPUnYHS1piTe8/bvyXj63v1vvGNUmAcL\n",
       "TNmH7q2Yx5kv8Ylw9AzxJ3iZZwy48aYGtNSb8yXvTwI9fvCOChEgWcWJahMhQLzMTaXwDqZgr+fH\n",
       "3AlR8zx62ygnIFTLz8kO5IzxPzEDsU7Q8HxZlYVfu/ImBofeGZsS5suNfHwSv+gH70CnUMV9aMiv\n",
       "ZUtCkbw7b/WVyUWIaFDl9gl/2jcV4Jf85EuP1iGQN0Oo4JWuZI2ZBg2FTiUfQwwrs8EeynsHCqTU\n",
       "S9YDanD4OsDbOFPk8XfwnM6bxGJHvXh7W5VSKi8I1WvRY8vYTVPpQFAXf5PjvZymx9yi5r93bUNO\n",
       "MQdRt/z14Q3oXkG+Mm/h/Sv0OAhhT1f0Efs7rfcegNfHQhB1RZ1f10V5R9A3Cb/AB1n9AL+CDZRN\n",
       "TdCNjj8weDcIsdglnfcb+O/HXry9rUopYSGdh0ctn/M6l88vous8rcFxeEyDripIjE7bm70ji4c0\n",
       "9SQkmXuNe5PwDtSQBY0Ibytt4EbrWyuZg6b+5GXbqS/rHjycDNawpXvK+xgfi8EnOu/1YmzgwNvb\n",
       "qpSSEDd0XnVZr2ogI7ShGKvWZkEYdT1B35r0SZpUhXyjO8TuA7oMt/n64RbeCTwep8GTzPZH4NTA\n",
       "X6x9OYQX+nakGW+7PyoAM6jIVBYy/HqVeHXX67wTeNrOe/H2tiqlVHQL1b2aM2/y1aifgw31MD70\n",
       "KjLczN78XROp8vfqs00BOhRUFoIpiyy8Se4xGr5BbedZsnOzAWRhnQtzyBetYomMmrR1NUmcFTLY\n",
       "CJGZGX49VtycvV5jvOP/3LbtSc/50tuqpOUTceYVVhgsvNUWdCUHR+IJaD7xKN9ta2tLqhlQTzMH\n",
       "w00LhTAFEbq3rW0V/AG1bOFdkSQbXDOYrdWjGA3A92x9aYU76pDbf7xlPmrCPmEQd4QNZkDgTYDV\n",
       "Bm+1RzBsyenxyfm2tvu94xNPq8vgXZV15g1be48/eB6BXQEjCOAwCSjzEMraeEfSFZlDe46gI9Lg\n",
       "boC5QOs673D2+fy6NM7Jsa2Nt9nADFtn+rSfFjf306JdDrwXsG9F4pg43sxKmm4I+QVNLNBZa3+w\n",
       "OOnOO17jwhvmfXgcf9TPg3RAx3ClshW2ariqrIH1mv4UyTTAn1vRZAh/xyfeCuoaVtd5qyOS754A\n",
       "eA6ILebt0MCRcoS9tfocy69kZHTed4LaITkpJfKmVvJ0g88vWGJBwi+43523esGNNyszxnfQAf0w\n",
       "vojH938NcDU0CmblQiPx0ygIzn8UhXp4QakKTzG34W+c1o14cPNvFqJcHp2IbTFvhwa+UjbeltRm\n",
       "rcE7AgHej4aWvwZjsjbe1EqebvD5BU0scLlZD+o4h20Z0F/25q3mqoqUdwD5b3b7o6oZhUfhj/AI\n",
       "6t+NOFIc38bEkaxu9myuUoRAntgSfyJvoKNsvMeIr61N67xjxYiQnv01plVqNt7USp5u8PkFTSxw\n",
       "WQZwjQfviown73Dh2xCaeLvgvnB1l1HdBT8JdsAWeEWYfY26znvj+xquYNvZZ/IODUSLZeN9nRNv\n",
       "pWOukJ7tSaZisG/y8sl5nje1kqYbfH7BEgsM7SxsxuMxVjd7gcHbsjIQ7/DkHTwiz8GL3NFd+10u\n",
       "XuddtQI93WXaShvYDOXibVW2m7xh9Q/RlU+dXcfSs/b2x2J2/02s5OkGn1+wxAKf1VlHZKE3hDtW\n",
       "OPhvUxnt4r/7W1LCgpnHeuwNZeO9zvJJ5nwJL6LLi08vVuSo92qPPT9PwvvFJod0Q8gvWGIBRAhL\n",
       "lugznBLaxvu5zBXn7UNBvNX7wJE3XvDf8EWo1mh61g6FfRLe2EqebvD5BUss8P1bYHqe6pwzb0Uq\n",
       "N1DPtyWvXtrj27rpvqcYf5u845jffJjO0rN2eDoi4Y2t5OkGn1+wxAKzzcMkui5p7ppY8nlUnpB2\n",
       "ec6c3NXL+4k56Hqftb5q5ju0jIApIZqetUNwNvBbS+b6tzzdMPOL9RpLLNZrWP+8KPTUGuX0W2bq\n",
       "FOl2WDdsXglDrtQ3F2TrVezGPg0r2ml6dtiaZXG8pemGmV/MyrPEYlY+1rIE7h4bGqXe860Jxv1Q\n",
       "dVbetQgMxaLwyxW9Iu9gFiYUSXoWfCBN1yokvOXpBpdf5FliYcTjUbf9hs8Qb/VTkCSdZnrmwtuW\n",
       "bpj5BQm3cGJhxF27hFMDPY68ladQ8Q+Ne57TZw04uX6ed+i8lLfz+qBLumFZncSJRVz2LurGRUfe\n",
       "lQsXLvy+5hfvrfLVvsvXgC+x8GY75QO8Xxw65+pPwr5FJR85rB9ftgZ8u4W3P3oIuDQ4ecdT8tcv\n",
       "XwOOHzzvyrO+8G4ZnLwjwgcbOvR+aMDxg+edOO0L769nBiVvYafQ1KH3RwN+QuRd3eQL773FgeSt\n",
       "eMwmxlEdSHXo/dGA7xN5N6Z84b3D7MJbWA576rjOO9bc3Nxi5S1s1DlR422COkCcl0nUC2K0lNaP\n",
       "HpHr0G0acGdNsk0D/p7Ie2LeF96Rpj6Nb0EI6FAEG7b59Ps0zNK8b5fb9IP75Dp0qwbcRZNs04Dv\n",
       "FHmz/8sbaN6xrlJ524WA9mK3obyVkVjTB/O8emP8CM9wuQ7dqgF30WzaNOCNIu/P+8Nb6SyRt0QI\n",
       "aI/i7DaUd6RIFoUXePXGiKvJdoldh94fDbjIO9jjD2/40OK/T4q8DbWgRAio90Y3kdlQ3nirFjnT\n",
       "Js6WK6ZY0NgnJ5sDdh16nzXgTJNcTx8c73C3T7yPZVzHt6EWJDMX3aiziP2ICSmcjcj7JLl+FMYZ\n",
       "zQkzmyEWjGbN+VKmQ++zBpxpku3zpf6/DgPOu7rgyltXC3JCQKvYD5tQlykRC1LeeJWmohBsNcWH\n",
       "vEszxYLBVjOAk+nQS9SAkydsoGuSp9AHx1sfZgPOO1brwDuB4sGfabpakBcCWsVn2IRMbBKxIOWN\n",
       "ZRgH8RKzIT4U7nxDLBjqYC/VS3XopWrAoVljBlSTTDTgHwi8T4FPvIVfTbCObzDVgqSrZKPOxhuZ\n",
       "xG8/WpCKBSnvheq7ynDyWx56c8KHGWLBYFaazxs6dL14acCjGjOgmmQiN23ieQfP+sb7mObKW1cL\n",
       "mkJAzNvcu1uvYZPoeDQZysSClPczs+N/S5NL1pszGhDEgvGCx3oVK4YGfCdIsygsHyEGVJNsX69K\n",
       "pHzjnSi48tbVgqYQEPOelad7dyPxjh02WYAHr0QsSHmrt/4jq5AT9eaMBgSxYKWRYK527bOuASea\n",
       "ZLsGHDYB04BTTbJ9PfYFzTfeoS433qZa0Nxpwv7E7GaemDQFDoNMLKiLG0NZNPd9iWvOaIAXCyaM\n",
       "Vre6L/gxDTi9F+zvY79vGpAvb7XA29C2+fD7g/9y4y1RC2KxnymLiuawiZqNvikmikwsqPNWLtXi\n",
       "itGc2QCvNtxjBi1l3E/DGvC4sJ9m/syiD7zDKRfeDmrBOHfkJCgUeMNDOCcsGrZxbiwaYkE1dWVX\n",
       "eQ3e5hArjXd5f6/3PxLe5dKfVAq1Xe7GAe2K4q5vZrwV/ec1S/y9XnV3OX+vF0fMn62i6M5s5u7d\n",
       "2v8BXoq8fO4ETf0AAAAASUVORK5CYII=\n",
       "\" style=\"display:inline;vertical-align:middle;\" /></a></dd>"
      ],
      "text/plain": [
       "<IPython.core.display.HTML object>"
      ]
     },
     "metadata": {},
     "output_type": "display_data"
    },
    {
     "data": {
      "text/html": [
       "<dt><a class=\"ProveItLink\" href=\"../logic/sets/intersection/_theory_nbs_/axioms.ipynb#intersection_def\">proveit.logic.sets.intersection.intersection_def</a></dt><dd><a class=\"ProveItLink\" href=\"../logic/sets/intersection/__pv_it/axioms/510039890b7d8338b6c1f976e95ab02e9614a7f10/expr.ipynb\"><img src=\"data:image/png;base64,iVBORw0KGgoAAAANSUhEUgAAAfIAAAAyBAMAAABVIETjAAAAMFBMVEX///8QEBCIiIhmZma6urrM\n",
       "zMxUVFQiIiJERETc3Nzu7u6qqqp2dnaYmJgyMjIAAAAcRTyBAAAAAXRSTlMAQObYZgAACDRJREFU\n",
       "aN7NWm1sFEUYfu96e9fbvSv9gfgVyaUkqMTYixVIBMKJUZT4cfVHwZjYCx+JoNFDEouCpCpJC0p6\n",
       "JkaKRruCAUWDNfzQGhJO8IcpJlz4iBADXIL+gEQ4oGBbhDo7M7s3X9vbs3Fzk8zu3nuzs/vMvPPO\n",
       "+77PAngqgbGxPEyg/Ay1UfQMOR8eu+TxjsDANnMCD4zlawQ5PE1OX237zivy9ISeN12SfKpsFy1M\n",
       "FNkArW4lXqQXrb4gNxolretUNvySnF6ornutWL4O50h1Le/7ivzzlChpUL/cOXK6yI6Ryypj5A0l\n",
       "RlwkteK7+IP8XUlyVK2KSXK6WEb1+NqujaqmrPz0KPPHAVor6Z8vyI1RSfQGB7irYwO+iBBN+Hq+\n",
       "oxGxTQBtSYXJZOT63hF2Tml1Let9RB6RXj2aZZfpO/YUbyWnQnOK042XQK0zVB4PDrHrKEWqa9mf\n",
       "8w/5GWlRB9FY6E0rF2C13OPo9jR8DJn7HRO/2Tr0yl2y8kXGDVYbkqRWmgdfkK+VJPUI2jfwWwIr\n",
       "+UpHvAUfv4D2BNIEbP2xbkTkLhm5ntIuC9sW3rpiF3CRBiE+6htybUge936AQThsPmH9KG9w6/Ax\n",
       "BX1J0FqyHpGHIHqFNSpZUt3duMu+Ia9rlLtDC9GEbjIwU62pwZeT8e9lLa+iwQh5Rd7WMmuYHecS\n",
       "qe7lgm/IAxklcgAy+NHynE8mcwiBYhXIUVdTq0LenPMLeXtBqe2gXSU/GnltR39FGr0jN1BdjYz9\n",
       "8aZk0wog9+F76TqXh72v4Bfy5pzSwv0YLMEM68cDnIWL9hOnzCvyT4jPd+wumGJOZy1cBR30A/nb\n",
       "CkckCaHr9SUSoGAFwOUg3dPrRyTk+k10+LZIL8py7Bn05KLbszAEcy2rkifVvdRnCXI8PKc8IPfW\n",
       "UFFuk0UIlr50xjTSm/7iIipeiGKWsfNg9PydlOb8desiQy8cud5z04QfxtZAOKE14tXSkCZ1nJC5\n",
       "RJAfsk7nPSD31lCxi1xRCDnvNfQL773ag2O5c3gHlu+X5IF0sDNaQoh3AanjBKpXCfJe3ry6I/fW\n",
       "ULGdXwaoLmJx9uUqSh+a9XhnvnLEYr9QKzQg3zHW7wG5t4aKeOW6aq2po9RNZc9+9rVENU95DAW+\n",
       "0ZfNylGqrYStEB/cvXurFwvnraGbclWVmZhAsYa0Pjd+m2vUtg93d6/3ZNs9NZRLcEQl/b+yUSdp\n",
       "Ha8MU+QrWCXjbKCAXGyovksSx0ahxspUivwRt3VRJyAXGsaH1MotiutqDvmtFHkEgoKOLZ6bCk6R\n",
       "kQsNd9xQdiuJw6VaQ76aIo8VWO9Q39dSMDoH4SEZOd8QBtcou5XEtYs8WmxjpCcGdoNxpA7ysZbZ\n",
       "LXM45KThgZnTsYekJbqVm6Ukrj1t77D99k3L0eqc9+y0IIIUsnwJ4/nnEnl5znHDoPlKBIeYYZiN\n",
       "DqbYKxbzFm5EtOmfVnq1Aa8YvOwFRo5U2cLBXuQtxR8uBFYFM9CA26YHj6uQWw01+ItIfodm0H6S\n",
       "kFtiYVe7KuzjuqsjaDMM4ZxH5K77P0s+rOQyXqhMsZFPQs7Sx3fDpBQKcXYQ5DErhychn4S9KjKF\n",
       "+tlfe0yIiMiJ2N3YWwxDgysum2Fw9hCXllH74pxbTyz5sIdWp1yxkcetV12KLlG4uLi7uzthpKOF\n",
       "rAI5bqiVNLx6TehLy8ixOD7n1Mx9TrhkDAn++lFXb89hGGzH+6wLrqTs5/OFJR9iCVKd2fmHi89v\n",
       "gXugT0PLFM85PGplP1XxeV+sGINeE55CKlDAyHvN6Gb7QMTG/XCn4YTI2g0hRuPiNDjR0WHPcJlh\n",
       "oFSB1mUqcS15E6TYjuuJIx/0RlLFiIXqTwnN+okYxPDcpiCed8lM7Dx2YBBa++uHIdrzFkbe2q/d\n",
       "Dq0562CLV+jZuhSvXPQxWYFlgCUzmNDTYRgoVRBeoI5aljeR81a3nnjy4Q9auRDKRh7KoDXz0SDA\n",
       "e1aCADXLjJuTsUM2rO39kjhrJCOGI93AWLukwDLoTMDPMAyUKtgDylBVL1LHwmImtk//8L6E0JNA\n",
       "PhykldtspGxUEK3zitkoe5PQmuewO4Z9pWeCqfC9Tuv5fP6NYxlYK84wDDSRdoikQ6SAop9Gy1vQ\n",
       "s/Lx1yJFoSeBfDhNK+da/bc8XFz9I66+94zJ5Vw5lqGeaccwDDQtkYXPVB1GkFNl52pjZmw0lBN6\n",
       "EsiH72m1sXT6lnUuLwcrz86yDNBqJYYJDJZhIAnzeALCqucewXEj4Py8DvWdYk8i+dBOq22kE34h\n",
       "Z5gGG7nNMrBkIcswEOTIimgZRYfIsrfZyG0vg6MdUzz5ICD3j2moK0na7rAMAc5qOgwDST/uVfsq\n",
       "RtL2hjAz0Z4WexLJh4W00tIFfiEPDUkWzmEZ6hxzyjEMxMKdo+hFPyZH0GMLZ5jNKJbgepLIB8HC\n",
       "+ccoQjlupeR2mWWg9CkIDAOmCrCVt/ZNTC44VAMsoRqPt6pn+ntoBLSOdRo48sGudPfyj0VmjDsl\n",
       "vcosA+zcSP7kGQZMFYQtgxC0phKTCw7VsNz6hX0ZpMI7m7bPK3A9yeTDn7RyZscX5IH8ON7rk10d\n",
       "XDIMI99FTR4q8oOxhdRk71XsySYfdNSjXnaJ/PxahPlCaNyIhTTOQiWqoOxAjPdViEM+CBELjYL8\n",
       "+SrsrPd0OGYYKlAFFdO/pNjkAx+lGnf4ifyDtLfMBDs+E8tMiMNTHiJ/vwRkODJP2aiTXjv2ko2K\n",
       "50ilZRn4iRxm1Uz2Md5ZLfKJfeUdTtQK8uq/8p7gl/0P1ghwfRU5Hx679C8OpIs3afBCGAAAAABJ\n",
       "RU5ErkJggg==\n",
       "\" style=\"display:inline;vertical-align:middle;\" /></a></dd>"
      ],
      "text/plain": [
       "<IPython.core.display.HTML object>"
      ]
     },
     "metadata": {},
     "output_type": "display_data"
    },
    {
     "data": {
      "text/html": [
       "<dt><a class=\"ProveItLink\" href=\"../logic/sets/intersection/_theory_nbs_/axioms.ipynb#intersect_all_def\">proveit.logic.sets.intersection.intersect_all_def</a></dt><dd><a class=\"ProveItLink\" href=\"../logic/sets/intersection/__pv_it/axioms/cb9e58447bfa12e222093337380f7629498c04110/expr.ipynb\"><img src=\"data:image/png;base64,iVBORw0KGgoAAAANSUhEUgAAA8gAAABABAMAAAA0d0MZAAAAMFBMVEX///8QEBCIiIhmZma6urrM\n",
       "zMxUVFQiIiJERETc3Nzu7u6qqqp2dnaYmJgyMjIAAAAcRTyBAAAAAXRSTlMAQObYZgAADvpJREFU\n",
       "eNrlnX9wFOUZx5+77P3YvbskOuKMYOuZzFiKUk7TVq0Kh86g/aEcdKR2hilXLCBOrWdFY23VlD80\n",
       "aitHO0XBUhZoi6Xa3FjTNkaaQ2ynoyjnoG0dRc/WcWqnlQiEQhDT98fu+2N/3kHgkuw7c3e7d8/u\n",
       "u7uffZ/3fb/7PAlA8Moex283nnLm+D2lplNO0UHLH/sOlJGRj8Y711SaL4erzpDH9xmGdIBrhPUr\n",
       "jM/4yMiRWiAf6X9qvEP+vbA8W3c02TL+IYeFphw3bmulv78myIPj3kGrk/iyNgkmKmT4r3Cap7HF\n",
       "KcGAHBO8dTQ/cSGvFpzU7GLAIL8kLC8qTlzI4g3cVA0WZPWAsPIuTFzIkWHBXx8JFuR4lwD88ASG\n",
       "DP8QvtkeLMgDRScvNhEhvyx805MOFOR/iRcj7QU58fUPfjgW+pdKPdZ9HPKGLP86ORwkyJGjwsqG\n",
       "nAdkde/t7Xtva9yR/nVkaTe+yR6ra6tokUEOlYU75WiQIEfFE3gLPCCvRtdDuSfXuEM9hI4BjZDf\n",
       "q2sjrcogR8XO6P0gQe4RZ8YXekG+BV+pWGvjfM4+xGkIUpn6NnuWQQ6LrGYUAwT5LaGjgjvk31L3\n",
       "dd7NICcOmFe6QSWMhv6xwxAr1rfZRgY5Ic4desoBgrxKXNkvN52VutCS49TZPdS4uR5yIgNd8HCd\n",
       "mzVnTcgRUadubg0Q5EPiCmmmWtvyy7GPg9/ooruOUTe5q2FH2pKHxOkA7egI29OSSGkrmy4AdbI5\n",
       "js6YkDVxjJkcCg5k5UNxkEKuwuPwtzTx0sulPtkYm77VsENddNM5+9GwDw2wk0orzPAyLc/mHXCq\n",
       "akIGsatR9gUHclIUNem84nnYpX8eL3SNLcgzdHgTwfouwKNNVeiGSJfrTLo0kwt5iQKDLN3Qh4ID\n",
       "uXlY7IRJp6WjC0jWPv4+KmMH8veRx0bHcBo6wlAa9kU6Cq7TJjgVWkxdJzLIIEtDjluCA7mlYINs\n",
       "ujX1pLRk1WfexBcPAmzIE8gwV48MgVJwpzIMi3I+kG8uBgbyhi6bu4aIMSZprQlyZOcLr/pOcUUb\n",
       "xfhs3/k53H16b5lgMzwszQ1kiLuGmRBu9YKM3PnZrDrmrrUPJe9fCQzkAVFa0EgTfhqNWabhhQtq\n",
       "gnwFJHyvgWQTpx8/y8I8naqOXuViNk1Gt96utIYHXnAvxPNekNGv98LuV9sy0sBLPSoJBOXAQJ6R\n",
       "Ftfwra4ciQ/SZwCxkg/kX++4DOBOaYRmK3YbClk9AzW4PCz0O8BfstEDutID6UdhB1r+LMytEMg9\n",
       "ePKO37SPxIWmvHIUXvkYnIGXy47zZJibNyCT+f8eP8j+VmO3zCqJa6fj5rx4Wjs9Ge2GL3hCTj24\n",
       "Dl28wwAl9/072FDIMXQfpVphie/I0GjqTXsPViC5Mg1XYvJts4oEcuxOvCuM63ZzoVPH59B+WN1U\n",
       "ADyqbM6ZkJUDUkdVNSC/gD/+7QfZ32rslpuz4ppFzlL+IsiaDPLledwywQxsffs5h6tyDsR0NxsK\n",
       "GfeZqF8oCLZCYXVA2PpgkcqaM2lnC0/be3Hd6JWjaaWVHroBOTUsDTlbDciPWAaZzpD9rcZu2Sv1\n",
       "idvdzETI5eFIK9wIhgeDzWeh8e6Nltl3iz6PLgk2MuR3CQm1QG2jFsykDsosb/UNGYhWtQMGZPu4\n",
       "LYle34KeLIRyTeWc+IAiKT1cCQ0akJvRj8mSH2R/q7FbzpKu7oDuD1n9eSHctXAy8onGmE1dBgsn\n",
       "y+brroSp1ONzGwtk3P2HykoXsY1slysmdRgX2NZ67keuHgdOY5VDS9sOdRN63QUrkT+G2Bdz4qPG\n",
       "Zul+CQ0bkFPPb936sO/Ay99q7JYRaa2nUkNLbipH09iZRu7o7l4Jv0BbgelbWbkUFtN5j2AjQz4V\n",
       "cDyOkqe2VodN6qB7qFqP5TFQ2j6DboQLD6YhZT9UfAqXt6MmPAfCL6LaeNCAfHaxw+bo+lB39/f8\n",
       "R9e+VuMFcjxfA+RYNpQjVIlxP8ACO+QVMCl1yZ6yaLN72xsi5KXa6+ppRJpEtjbIuA66gWI7pPrC\n",
       "f14DBnmg6Ax5CfYO9lKWIbtYNa74TD5zbpBTre6Qk3SrL0MsN5dS/RNevwi0B8jqI7r6gPkGtymD\n",
       "ialoVCXYPNkVEyFvnJ/6YxY0ZIJsCWS2A/SB66AbpMqjcD0o5JnysH3IhHwF9enWkpEhG1YLd27L\n",
       "eYs94Ut30MH8qutvkHqT7CjRpRUkfayecoOsHXGHzE958UMUchyPQy4mNaLVeaXIGTCviN9KMGdq\n",
       "FZbgZsptornrRMjaRX/Oq2RDbIshsx1EppA66AZN2VGDLOsecQY5Jg/hI7c+B2fnbZCplZKBAW+x\n",
       "R30HInSI8jKA5ODJ6CLa3X3fcQrBtILlPmZNrKVrH8i/fKoGyL/CohPxz1NRf0sLXuVDz5JWjFeg\n",
       "EH5FtInB9KyoeEEkvx7gXCC2xF2zHSRIHXSDZhgtyGHZTcUPmJCTlZik3fwhqTfpNsjUCh1o3L5/\n",
       "UexZXcRiDRDJBpbZIGPOx3cytIKIn4fjubpWyKGcP+RvKlWYv1+aTeDVBLtzEsVo+RpUSeJFWbp6\n",
       "piJBVj+ajFewbWTGJSDsoI/UQTfYNmqQQxUXyGp1gaTdbEtnkrCj49aOkgiZWrUU0S1oK6LYcxeY\n",
       "Ed7fpsPL0YZMK4j6RlSygEdtxDIJrfpDvnqns7YlLClveNxnrCXchxqqUmG2KWGAzOrQMqMG2eKl\n",
       "OGS4/xuo9svmtxvaTW/vj5L2PplYQfOZTt2HIPYQf0EiGrQh2Iz75GT7/CWjCNmoICYqRo4y0nSX\n",
       "PhlgpT/k4y1N0lqfzynpowUZi+XOAy/4LRr+pWZXQkWq3fQmn1joABlbgXb+B1mbdCOKPWQyToZ4\n",
       "yr52UuW0aHUFhxzu6DjfsvX88871OX7RwqjgYeCqlLOM9DtXyFtyJxxyAwqGvKXkChkHGKz7BLTo\n",
       "1G/0QnmHA2QjDGFNwSrdSGIPjmsA8rc3klUa4pxrrojueutWS3aAWvYbREkWRgVXAVOlXGSkq1wh\n",
       "q99xrKane+X4RRzuXqWT2DB5Ks4hpzC0xTDb0G56YX3MATK20nKgDdpm9aLYE0qbM9F42Xia01J0\n",
       "7ZN3d2QgkfaaXNksjArmAFOlXGSkr7nImqj8xLGqyLVfHb+Q1WuvRXisF5KLIbRMgksjVLvpBWW+\n",
       "pCbw58mJEpoU2CCLYk80/0RpNamrpQTUMS8ydsUhP5mOE72fag8PfRKsPQAxIO6AWZjFqOA64KqU\n",
       "s4w0h313j0uft6yzCBOtKJ3itJU9oDDuhEFY0Uu1GzTze8Mua9J20gWP6RgyF37QGxd7HtG1SenX\n",
       "38ELsEiHZZG1D6iDLxniGYf8VGYB0fs30arfzFl7AGxACrPgUyNaAQ6SNlQp6Vi4jMTPYZXLSLwA\n",
       "E7GsEZZbZMhKHs6rEO1GuTtrGQALkH+MY5YQ5MgUQ/gpoiUu9swrweYfLIUiWkjesxyua4tM0W76\n",
       "0nm6RQxpKk0neK7qQM54LZ7zWpwDNiDtkVlQlZiM8kgFaANTlZKOhctIn2Z7m1UKKuSeAthlMEHf\n",
       "cYRsuEQdhNlyQhR78OVcgNX1kvyr2JLxc8v3CJ7H8coeCOfIfYN7CPKWIwakPTILqhLTgisIl7gq\n",
       "JR4Ll5H4bHhGZYxCXu/dzdado9xnhbyoywmys5+XIRPpps86CSTaDRF0Nrytc2Wnzwlyqq2V4Eni\n",
       "zvvFnc+R+2a1rhbQzEgtqJOJAWmP3GIJjzPHFaC9MVVKPBYmIyX4JRoou0Gu0nuoQUXrcvz62HOU\n",
       "ScSgCNkIYTzWQL6Kw5Ih6MRXCMpOxQny+kSZtkE8djadA2+PJWJA2yOzoCoxmBXA1VwxqjjJSJuF\n",
       "+znvBrmxQU3NLuO+Y85RJo+QRMgnPySXz8l+2gaWx7MWyNiA6cCGFC2rxIIK7FymCcOPqhvkxgY1\n",
       "7Xb++jhylJ+1QJ6VO9mQLSqWKP+THuCEldigG+TGBjVJmgzPkz6OHOWNFsh7obGQT2JpGnKD3NCg\n",
       "JlXK3uF50seRo4xfIuT/BQdy4qjr6PoEBDX5JD5xkSmccc6TriNHWTTAOcr4JUCO7A8OZO0gW0y+\n",
       "T0rGhOwU1FRL4pMcIWOoiTUlPvGQlXjFOU/amqPsnr4qJTHjJ6j4JUAOHwkOZOh0bclOoU+1JD7J\n",
       "ETKUQo2JTyxkBWfoOOVJW3KUPdJXjSRmw18V6EuAbP7Vo0BA3lV0g2wJfaol8Ul7pqNiiZAh5rUm\n",
       "PrGQlVDWOU/akqPslfRGDQwHNEhfAuRQV4Agb0i7QRZDn2pLfIK/9221RsiQa1lr4hOb/4aIl7fn\n",
       "SdeRo0wNXCHPrQQIcnPB0ifnTcgkqIllKrknPvGIE4X053KEDCHknfgkfDldcNcOedL15CgTAxrU\n",
       "Q8wU2V3frAcIcmrIrSWToCaWqUS7Z6fEJx5xQiMrSYSMDNk78YlnTrGQFTzwcsiTridHmRjQoB6n\n",
       "gZf5VweC8QdUP3SFjIOazEwlj8QnHnFiyqVrChbInolPPHOKh6yg+Y5TnnQ9OcrEgAT10Bxl/Fpj\n",
       "v7eDAXm77gaZBDUZmUpeiU8s4uQr3d3daRohI0P2TnximVM8ZAXBc8iTritHmRrgoB6ao4xfHHJz\n",
       "NVCQQ2U3yCT0ycxUIl21c+ITizghj9pJhAx/xE0geyc+8cwpHrIiyZo8T9qssaYcZWxAgnpIHOIW\n",
       "SdacmwsUZDk1W4RMipmpJCc+OUeckIAkEiHDH3ETyB6JT1LmFA9Z2e19zGaOcsI9R5kY0KAehwcU\n",
       "/4RAQYb/eEI2M5XkxCeXiJMHwYyQYY+4yYdH4pOUOcVDVuLeuomRo0zSV11ylIkBDeqxP2pMTA4Y\n",
       "ZMf/IGNC5plKcuKTc8RJGPXJxvbmI26DtXvik5Q5xSQ2rcvzmI0cZdqs7T/j8Ro3IHdMXAoa4Ckz\n",
       "AYGcKnhAZplKvLhHnIjSlfmI24DlnvgkZk4JISujGf7zmvHikJdCwCDD9R6Q3bKaHCNOnIrZIl0T\n",
       "n8TMqc0n+EzX2O/rmiBPgH/I2eygVHaOVty1FMPhk/gkhqycgKJ03m4srTZOrsZ/yKn1j/9/yKnl\n",
       "IGBlrYm9v//p/wNhuX1oYfHnRAAAAABJRU5ErkJggg==\n",
       "\" style=\"display:inline;vertical-align:middle;\" /></a></dd>"
      ],
      "text/plain": [
       "<IPython.core.display.HTML object>"
      ]
     },
     "metadata": {},
     "output_type": "display_data"
    },
    {
     "data": {
      "text/html": [
       "<dt><a class=\"ProveItLink\" href=\"../logic/sets/subtraction/_theory_nbs_/axioms.ipynb#difference_def\">proveit.logic.sets.subtraction.difference_def</a></dt><dd><a class=\"ProveItLink\" href=\"../logic/sets/subtraction/__pv_it/axioms/7735faa9da929ce810416b9eb79514b083550b6f0/expr.ipynb\"><img src=\"data:image/png;base64,iVBORw0KGgoAAAANSUhEUgAAAZ8AAAAWCAMAAAAo9GECAAAAQlBMVEX///9jY2MJCQkNDQ0rKysP\n",
       "Dw8WFhYQEBCIiIhmZma6urrMzMxUVFQiIiJERETc3Nzu7u6qqqp2dnaYmJgyMjIAAADRR/RZAAAA\n",
       "AXRSTlMAQObYZgAABC1JREFUaN7tWcmipCAMdFYB2Zf//9URECWAIjr95jIcurptSaoEkoDT9L99\n",
       "ZVv+mWdhIA51etaUgPgRii2HzxWx+2oi2v1/8+pZSQ5xqNM2t2y3g6HOUYwp58T/pJsUKj5GEVLr\n",
       "OurYXuiAmoBapbutfDM+VkAc6rT9cje6zPEBYOcjhdwem7QfowipVY7EpaKqYTKgJqBIAy74m+Ex\n",
       "GOJQp+2Xdf0Zsri4yokLfTWKlxP+dYoltdKRxReKuuGtoyZgWjbHQnrSmIDYVMnZ2mzdKc4WhV1/\n",
       "YqPtHuOCBjlvnecPUSypFY4WzmTLx4nt37+g7Y6agEZL3wR7VRwwiK2Zz5Fsd9ror2xJ1xGfN+bb\n",
       "c7FbF0s+QrGmBh1RgtCpoto2F2NqAjruG9NvxgdhiBIhKgjKooGs0xvKgwGRk3L9CsWFBLswmlY9\n",
       "hviXKdbUgCOfIVjDx4ntKnv11ASkoSbnpysz/4dwh/VacJQ3cwNQroNtGJqy1dyofHg2HJL4aNzN\n",
       "IoujxiDO1JEZIHpRNmv4HcWamsmfsc8JeV7o2EZoUE1Agi8rIAOijgkrUpfhPrnYUK/zQa8plRyK\n",
       "G9UHy5R5H8L1F0EM2HJOdapiEC/SzxOKNTXgyH8XtvJxZrtcn101Ef0HOgstEoOog4MpVVZaMwHo\n",
       "/+VwbzPvU7rqFPYFeN0HOJ7Fg6wtZcBelak0BSFeFOZPKNbUckcmrAe6lD5ObP/8UdjuqomozcW+\n",
       "VkuWz2oWKGF7LT7EVrCYW9V7dnP8Ntt76ccrQi/H5x7FmlruKGb1bM95bbuqkLtqIq4rNPnQCC8o\n",
       "mxDTgsBMkGEjhapEWgSPYBoeNc1X8S31nrvpZ1vLNAVdwiCW+Ye+o1hTyxwpXO5Jr22zYTUbckHj\n",
       "DWsJSO3EsoSz6sOZXeLQmtDoaarfUMl1TkR7e2BE5/WBUDcPENJ+YdnDTaM+OCtznlCsqWWO0rgo\n",
       "XPho2yZ4WM2GKg3BOuYWJCKjpuhqn5vBcBUNYWFI1njKXXFWyNRZp33XwHsbVBtnMZl5Uo41xPP2\n",
       "iGJN7XC0cBjnerbpMqwmYRYswSOSFmvNs2KAhw7ClULggpQUIYkwPHCVlBPZ6CS5cyFeqvULu6rg\n",
       "qE3HiYf7VDvY7sH9A4otaocjuoeZvW6+tP0dyr+jJqGRU5b+DqlYhtE4LsSBIfU8v3N4QjS/ON95\n",
       "dmrOIL4936konjncC4cUd7q2zbee7UpNqUq4EMC0rzf8yJA4A3waixdEWEpi1p84H33Svuh8tHY4\n",
       "roiLYTWlM0kN0cjvrpZZ+ZjLQ2nomIkXNHN+L8DJhXs+sib4ywU09n7hEcW2w3FFN146Nd8vnDXV\n",
       "vdD2/+L93Hgbe+Iv3s/dnlCntpEZVnPlrHqT2321+w/ebxsBcfoExZbDB4r4sJpLZ6Z74X/7ivYH\n",
       "3sdS30T0azsAAAAASUVORK5CYII=\n",
       "\" style=\"display:inline;vertical-align:middle;\" /></a></dd>"
      ],
      "text/plain": [
       "<IPython.core.display.HTML object>"
      ]
     },
     "metadata": {},
     "output_type": "display_data"
    },
    {
     "data": {
      "text/html": [
       "<dt><a class=\"ProveItLink\" href=\"../logic/sets/comprehension/_theory_nbs_/axioms.ipynb#comprehension_def\">proveit.logic.sets.comprehension.comprehension_def</a></dt><dd><a class=\"ProveItLink\" href=\"../logic/sets/comprehension/__pv_it/axioms/dde0c215698d3cce44aeaf88827ce08aef06fee70/expr.ipynb\"><img src=\"data:image/png;base64,iVBORw0KGgoAAAANSUhEUgAAAtgAAABABAMAAADSVx0xAAAAMFBMVEX///8QEBCIiIhmZma6urrM\n",
       "zMxUVFQiIiJERETc3Nzu7u6qqqp2dnaYmJgyMjIAAAAcRTyBAAAAAXRSTlMAQObYZgAADWVJREFU\n",
       "eNrlnHtsW9Udx3+x77Xj6+skmlptpSBMonUVg9U0Y6OjFBckMu1Vp3+UaqoWr1rDmBDzeCyFjjVi\n",
       "E6Swru42rV0n1tvHuq4TjRkLrA1dTcPGRFvV0LIVUVojlU1j0IXQB0kf2T2Pe885957rRxLsyBzJ\n",
       "9rm5xz/f8/G5v/P7nfONAapWIjmo1bJtzO9URkcvTdhlvMKqn6lZ1qDkWTVGXutHR8+X8s7z/X+a\n",
       "qKsIp5jZy2oXNsxg1Ydpd/v7S4I9OHEXsTZhVzclahh2A3ORm+JWbXqFYd/Dqp01zBpC7LZVplUJ\n",
       "ts58mTpcy7D5oTSvSrA3xtmNlqxp2B2GXe3NVAd2D8c9XdOwG6Lsdm6qCuzwsOTmcoXfN43zU74+\n",
       "3stUZxvjTyKa7Ko2VBXYDd2s/jGPNto73DRTVtqzi76+4JiryjISRjecMnX8M+RpVj9kVAN2B+t3\n",
       "6IzXkCCftqXF7PX2sqwH0iLszXMH0OeVZwTuLHjblV4u5zxmrhqwv+tiKglYSNpz115zWvlPWda1\n",
       "vABbvx/g21CuEdiJnl4cf1/v5m7ofBVga2dZ3Z8qCFs7vdX8QmLl2d/Hw9ZOoYQiW7YRPToxsGex\n",
       "qm+4CrAjnB8LdovnjnZ15TnYYfSZwTIDlk087AaUVgQGyzaiNU0M7L3sc7ULVYBdzxlqFAfc4qvF\n",
       "kY2f15U7/8Y52IeQo9SHyzYCJycGdkeG1d+sAuxGbjQ34jh084xfXIMq2tuiG4lcd6/5ZbSYJ1qi\n",
       "sLZQILZ5NkuN9RiDHTqHndXpkowIVgbMx/Pj72wvFwQdSlQe9oKs41q0bOSeYJ4LJFA1b38Xq01+\n",
       "ShPv/dwlOx981vVF8gy2joPb+jMlGRGsHDcfJyZgZEW5jkcrD/tQ3BEO6YY+oiDO9ezEU3gUbETP\n",
       "KwB+7c+baafa7RnOZuZBvXWWrt9i2EEcWjYOlmJEtPIsckix8cPmR1Z35WH/z3C4NM3qYvsps+Bx\n",
       "ufgBMr2gpykARl0UhtTWlOd0ZiZH9hhSBxnsxhFsJlmKEdFKB3q6Izpu2Nz3FWyqPOxz7vmDdnE9\n",
       "OzE/YQe6U9AdaKhnQPHmpIxAR0ICm/RvpVGSEcFKx8SskvGwA8MVhx36AFxZFe1iHXdheKw/AsSN\n",
       "mLmcr6kQJ9NDXGVfKOdGAgi2b6g0I4KVNrnPXnJgT9HdDvXA/ldt18G5Ed/FisMOv89P1mhIh41Z\n",
       "4EO+xR91JDV45WQ1pl6fLMTJPPsIHH61OeaYINURrTnRESvNiGDluDQaUWLEtRUst5L8QMjR8cx9\n",
       "oeKwfUPO+WNBZg08AdYg5mBrp60g7HOwIIc59ZokNbTxjJ/sI39SuQhHrgC0HeLPcnF2cwQOXnAa\n",
       "kRhAFcHKXGecrT3XmoOgwc/i7vKHgZsAHgTolsXZylkKG4+GN4rBLt6qePHzG551yCtua958ExkA\n",
       "235s8LDJ99uGm9ycxpyCZk/g+0CfgujtXeZ7tKUtw6HNKUDzYUOCg61u27c8rTqM4LcwA7iC7PJW\n",
       "3nLCPrprhzk40hAulBw/vsG0bLpmG/ECLvQKXaKw96OXt4vBLt6qhFW50/yNmxdPfuVRPl3X8QAh\n",
       "mfY86ox3u/2SQf1tIKogF/07xxLrMnjNaSTszm12g2BFSxHYygw0msHSIjRcHnf36JYkGszEgeBM\n",
       "kVvdPcF/0nsUNgoEQt3FYBdvVUI2ze866k1eC0HmiWfI5nQkZqY4yKNgTll3U7y41huHuoQ/m3As\n",
       "RJnlR0q304guSWhEK9ZClN5otEPAJNZAfMl178XxofDWEZV2gwyULVdOsc8Jbv9KCrvBNKBnisEu\n",
       "3qp4qRvhR+WI1w1pftrynaS+CoK5+ijJVjR35LvZfDyEdBkbIfjlhHOJFeDm0YTDCH6LI8aOilZ2\n",
       "0hthQxvMVJ83u72FNvxlCh/y4dXWlI8MQI3GeaE77JP/EmAbBHbkpR071hWdIIu3KiHy5Cda7aJX\n",
       "s3cAXplDqttBab7e7MLnz0Yh4m6Jhv8tLSbQ28B30PRMjs0DuH260wi4d22wXc7KKtTjKXiiXIod\n",
       "ye09PT1RzfwuB6lf4WahbIAMAXV5T8/D8FtzupX3b2WaRiMf9PT8oHg0UrRVmbBJJC2NENkeZHk7\n",
       "Wq/R1086wvuyjETS1h7kfTAV0w3gi8qAmnTBDsbrEof3HDNrOAnqB1gE5FjYbuVgLyPfpsyVcbBp\n",
       "K2loz8fy4Js7QC9pbq4Q7Jdhkpf7FTKUddRhfzdsN9Bh6DFYb1hPwcQC+GN30Dz/V/SOG0B7jB6j\n",
       "CZdfqEhQ2Lfazk4oMRE2aSUP7flYPnQSVLJYqTdnC8HuzUxy2LfNzJOh/Dhi9/MDXwB0qE6H9rQ6\n",
       "DT1NB2XpTyGQWIyCK9SbOWickWOoE7q3xoIdBB8/BNV7X4Crki7YpJU8tOdj+bVplENwS/kcXiEA\n",
       "8eUnN2stXZ8jsH2mz6Zuwzxk0XYYfm/mp0G4FnV0Zg8VUNLjqwRja+IUtp4LCnnQn3XDb7hgk1by\n",
       "0J6P5R+yPUSjURA2TJ3csAPZr4E660bBXaLDXfbhLrhLycM2eE5wl/T4CjnsUH6RkAfticZ0GGi9\n",
       "tzXDwyatpKE9H8v7EFC8UB9Zgye6fdfPsJx8r5j2H5/csJVjWenfc1ztqwc8lybyctiw6ltIhrSw\n",
       "heZBfX0/090+G7eSh/Z8LI/XJonq4ij+UOPuYFzqs6E+CrVb1orbzPYECU+b0X5kfq4uTfKgPv3J\n",
       "JRLYT6c8QnshlsfrS0Sf0orvPHjXY4IE7f7aZa2tAA/YaAF/w6dMH0vyoD7IDkhgo1by0J6P5eui\n",
       "tsxtte3Q5bBhXe1KK+sdUe9KG3YEwVsK82ke1AdPBCWwUSt5aM/H8oHkk5m1cW4CVAdVabqO7ofa\n",
       "/deDrY5jO6mxYoO5KsmD+kBZaL4kJOvZ8tCexfLrDW1q9PWTqALaCHrZqOfttZ+gx3JIoOuB2sPd\n",
       "1pWVLETRUTYI9/WRPOgIwDF3uk5gS0N7Fsu3Z2DLTzohjSpoka09s+3Ivpfse8tDSxmsycEdSnIH\n",
       "owJsJQnX5HAepPwwTpYDJLDloT0Xy6NocRFajMgQjZ2QRvnPf1Rha+cE2LTYeVAB2K7QnsXyWNy8\n",
       "8U3DrDT8I0HFziz2vOgJO/Qrs1SPS27sZ13LaGnabR62+oEMtveqX4HQ3rFcWX8fqujN1jG7jgue\n",
       "sP2dnZ3fNKoF21PBrc2eMyZ9950O2HSru5IbvurZgm4kULVI0FPBHdh/fkz67p0O2FWQMsClyQnb\n",
       "W8Hd+6X4mPTd6MHD9p+pPOyVkxO2t4J7L8CY9N3owcNuGKw87JsTkxK293bfiwBj03efFGE3pioP\n",
       "e2+ukrBDRc7b33wLMKG4UA5/vLU0kbjQYIA8eNgdscrD7mWfr5/CJUZh611dXSudsIXdNq/C79Mp\n",
       "Fj2UekmkD2Kxf2liNScU568LYAg4kXgBybEgAD9OHjzsWZnKww6myhrZ/G6b57Xx+3R0E+k3cWg3\n",
       "it8ofqvBCk4oLt4bZ4CJxAtJjokAnJZnyYOHTf9LrqKw9eFSYbuUc7J71yXBI7XQNKTdgyVFZzKL\n",
       "xhROKC4mBoPAROKFhJmkgeUzyIOH/YkqwA4NlQjbrZyTFLcEj8AO5vAq77KSw2u889EYlQyOFJQm\n",
       "EicNPGErF6sAG/7t9NlJAbYtr3Mr5+xrsZrIJHgENtpq9Q1CimsrNQDXMjdiC8X560JC4hL13agB\n",
       "2ewiSs42AXZgpBqwTyQKjmxbXpfHf8C7bd9xDDbUhMSuxBegfToRNtJ9+fOhFFPryQ3AM2yCtIXi\n",
       "QqmLQon6btSAbHbJJkjrnxAqC7sxWxC2Ja/jlHNLHD8khZqQGpPgOWCjFZi6rNLN1HpyA/BFFqsx\n",
       "obgQPcVBpu92K8VxA7zZBUTfPVeAbY2xysLWL/OA3WCGft8zLHkdr5x70NEYNcGFk+CJsNE/LbyM\n",
       "1oxttZ7cAHyDvrbxQnHBE1teQdR329Jupu/GDdBmFxB991sC7FNQDdj8TxW4RjYweR2+Trzb5oJt\n",
       "Nonc+EaWl+CRYxt2p/Z6aAqOii1zcgNwW7F0/e/sbFF99zy62YX13ejBYCtnqgP7hFEQtiWvY8o5\n",
       "BJvtwa03UJPwTHP24yR45NiGvWlh5C9x3F/LHNvB4w3Y+1EeS03h5Lv0LNF3h7313bgB2eySLETZ\n",
       "/1RZYdgN2YKwLXkdU84h2GwPrj2DmyzDyRyT4C2jyR2Brd3wt2QIv9Ey154hO3jTQDDwWetjV8kj\n",
       "0sfy9CzWdxPJsVzfjRuQzS7JEutTRnVgS3/yzIbN5HVsxwi5ERZJZ3CTlO8I8BI8csz+T1hNmpPd\n",
       "pzlzGamBvPVH+fZApCVNz2J9NylyfTfXAH9zqwTYthKt0r/r989CsCXyuoXvZ7g9uHAaNdGS4YNi\n",
       "KkiPLdihS5ehA9sc253jDYRtcBO5LYb03RFhWyyQrBbsQKwA7KLyuohnEwE2PGrGbErObhsBmYEt\n",
       "H+7CrQ2bja+SYE/kD9/+VwJ7onQjfuFoV5HWV3+orNu6KOwQ/cHKEn/4VuufuB++RdHzR6uEqA9T\n",
       "+vt3/x+FBYtgDJcCxAAAAABJRU5ErkJggg==\n",
       "\" style=\"display:inline;vertical-align:middle;\" /></a></dd>"
      ],
      "text/plain": [
       "<IPython.core.display.HTML object>"
      ]
     },
     "metadata": {},
     "output_type": "display_data"
    },
    {
     "data": {
      "text/html": [
       "<dt><a class=\"ProveItLink\" href=\"../logic/sets/power_set/_theory_nbs_/axioms.ipynb#power_set_def\">proveit.logic.sets.power_set.power_set_def</a></dt><dd><a class=\"ProveItLink\" href=\"../logic/sets/power_set/__pv_it/axioms/e0001e1eae209d19b79e22eff2656a46c5cb02ee0/expr.ipynb\"><img src=\"data:image/png;base64,iVBORw0KGgoAAAANSUhEUgAAAQAAAAAVBAMAAABbMC3JAAAAMFBMVEX///8QEBCIiIhmZma6urrM\n",
       "zMxUVFQiIiJERETc3Nzu7u6qqqp2dnaYmJgyMjIAAAAcRTyBAAAAAXRSTlMAQObYZgAAAyNJREFU\n",
       "SMfFVjFoFEEU/eR2c3dzu2cKKxE9FFIJOZU0GiGQQkjj2VgJBtRoGjm12EIJwcacoB4oJo24pogh\n",
       "xXGQQizEI6KGmOKKIIgYtlBBUTkLRSNJnJn/d2f2du+MlQ/e7dz8/2b//v93ZgFaIl1HtnWQyJSR\n",
       "LR3i8IiEnvjzNs5jhtgM+/z4utPrG+eWasswwgcj8SvEQog6yyh6KSY+xXl9JEaQMmudA3U0puow\n",
       "04AKH1XiV1Bxn3Ecp4ALCBHzUDQpUjUW96B5ZEwARt3IldC4nzt5YOVAMrqCKsdnVSMUzYMUZV1+\n",
       "qcbcJllGagtedUYpgHTtjTSy7wBGDlgXSEZXCJBVf0h0H6TIXpydnYh7zgliAPOKG2TA5IUXRmON\n",
       "z/O8vgNkZIUAB9WQRNl+FP0cH78cF8Bu4lT37T0yuxVXlSBTvyaNbOOZnHpKjKwQqItqnkRWHkWn\n",
       "AUrKeHzpMTYKXEeymn0hKV+VEa0HKisF6QA9Gz9EbleIYH2VyEOTOj2kRYYi20PRAMh+pOzk4QkN\n",
       "LyEt11o1ZP3GVACjH3LoAOzVzm388pAYgq5mep+jKFNEURI61H6RdCFFw61IBinUmjvEo1EGfAeO\n",
       "xG/+c4IYgq7WS0Ais4Eiq55Uhi1lyIQD4HP4fqW1DAQB1Pg92gUQqOVLRyCRH0DaOybsvd2i9tnt\n",
       "/RAuAfehpuhqCoAbGa+sucrHh4l+DwxBszobvOq+yCiSqHQKoMM9lxS3Znu/+RFQE2bcHm4VE/ua\n",
       "AhBGHlSipjehjpCaDQ/6JweJ/CaEOR6JCV/IfMcvFr1ZR6o34S72R1VtxeSQuAjwXIz7iCGE1GAu\n",
       "0Fbsi2TkfUGVfskwC8AaJKesTu+aOoRNys4O0mF0Y91FY8I4OSzDek8MIaTWGpBE2QKJbLGa2TBF\n",
       "dqpgDrXcio0F3IqjOy0rIttsxVE8AE10z/IsmHQTYzDj/vUwip41mziMoqDDCDG9PL8IR6uJW0sH\n",
       "AocShPbIKJSxxXGsq184TnAcY9a8qKi6qQ+SmO+NFrG2VafKEVHTV9XmP8nsMvKfPsleQ0Rkw3/A\n",
       "H0UhDH9st8JNAAAAAElFTkSuQmCC\n",
       "\" style=\"display:inline;vertical-align:middle;\" /></a></dd>"
      ],
      "text/plain": [
       "<IPython.core.display.HTML object>"
      ]
     },
     "metadata": {},
     "output_type": "display_data"
    },
    {
     "data": {
      "text/html": [
       "<dt><a class=\"ProveItLink\" href=\"../logic/sets/disjointness/_theory_nbs_/axioms.ipynb#vacuously_disjoint\">proveit.logic.sets.disjointness.vacuously_disjoint</a></dt><dd><a class=\"ProveItLink\" href=\"../logic/sets/disjointness/__pv_it/axioms/391a7240b7f55b25ed78fd57925436a4736a51d70/expr.ipynb\"><img src=\"data:image/png;base64,iVBORw0KGgoAAAANSUhEUgAAAFEAAAAUBAMAAAAHNMzaAAAAMFBMVEX///8iIiJUVFSYmJhmZmZE\n",
       "REQQEBCIiIh2dnbc3NwyMjKqqqq6urrMzMzu7u4AAAB+UOZAAAAAAXRSTlMAQObYZgAAAaBJREFU\n",
       "KM+NkrtLw1AUxr/YpG2iiRl06FZ0cvAxCNUtm4OCRVDQxUE3FYKLiAgRh6o4FNRVgn9BHBx00Umd\n",
       "pHQRRFFBxUVa1PqASD03N/FR4uPATe738eOec+49AHB3hN9jBdt8s+NCHuHbuQvvF0geWhpVWe67\n",
       "UF+42cqdQAJ7tJQsNJtL98e8mkGfdlqZv8gIIxO0bgJSPuN1nPp1nvnkLpGyziqgMm4zsy7W7qHO\n",
       "pOzYsIPbqWUmT0aPJ81Ib103YuzcuAFtDHHKvoFrQEetoyYgmSRRb8qvEIiS2lgZNiSb9Y4+7F/A\n",
       "JFKwoL6RxADw4JGCQ2S1joIFzSOF0jSIPCf/hZFDwLNHRtlNqUWcmz6pLZUNInfJLzGyv5IsBOQ6\n",
       "Iq5/5uMXMsaz1+hQ0n6dB0AjkVEDqvtBKknxoyN5HOIz86mjQdb7BBSLYR4p2iK7IEC0gKv52adk\n",
       "vtxymOrYIxKrCz0gmS83bz0l0bDIEtPN5yper9YJeVL2mpffrZq2Qi6E/DIhQUjFzbAxkT6nLgi1\n",
       "qyl09NIM/lesoBN4B5bmgniv4p3TAAAAAElFTkSuQmCC\n",
       "\" style=\"display:inline;vertical-align:middle;\" /></a></dd>"
      ],
      "text/plain": [
       "<IPython.core.display.HTML object>"
      ]
     },
     "metadata": {},
     "output_type": "display_data"
    },
    {
     "data": {
      "text/html": [
       "<dt><a class=\"ProveItLink\" href=\"../logic/sets/disjointness/_theory_nbs_/axioms.ipynb#disjoint_pair_def\">proveit.logic.sets.disjointness.disjoint_pair_def</a></dt><dd><a class=\"ProveItLink\" href=\"../logic/sets/disjointness/__pv_it/axioms/8744a496dc4a9c952e222cd5744296bfc484d08f0/expr.ipynb\"><img src=\"data:image/png;base64,iVBORw0KGgoAAAANSUhEUgAAAV8AAAAWBAMAAACVu4KiAAAAMFBMVEX///8QEBCIiIhmZma6urrM\n",
       "zMxUVFQiIiJERETc3Nzu7u6qqqp2dnaYmJgyMjIAAAAcRTyBAAAAAXRSTlMAQObYZgAABONJREFU\n",
       "SMfVV1toHFUY/rKzk81MdjYB6wVqy6DUK2kXIxVUcKsPlmDpKm0ezYJW0mppJNI2XiAFSXfrJQuC\n",
       "hkrpliJKKG6gD2l9sEsq9B6WFBTxwkK10j7YNrsJ29i4nv+cOXPZnckWX8QfZnfO+f/vnO+c/3LO\n",
       "AP8LabtNO63Ifr7oaWJ1wL/7eKDxgSWHa8S1T51Ge9ZSlajnlwDsV/TzbQXaCtE+lRPrWOE20of5\n",
       "n1qSHd/XXlmbTqA16zMiGTcAmuGmsBrYyl5IdY56rgYQvsLpVaDeEu0dYizZBBLsiYnO2HUbdg+g\n",
       "zEEv+YxIxnUAPdcEpw1gxMTXZMpUY9Qz7M/XiPO/SqD3dDK4KN5/XZC96iIQLtPGNMrFBsD63Xvf\n",
       "XxrHaLw1gKjJ9xoxtr7ohD+fSLYJYb6iIcH96E3ZG2JvxixwSO4qe3qt96F6QDTDlHFfnJ1xZvjJ\n",
       "Beid4Crj7Pj4ZwF8rH4Ww5uFbzZZMbzZMjgR5w7j3EP2utrY0IfeZkQTot1FfUnp3ToA3+7XfXFS\n",
       "WopKzxzwG4Sqmk6/G0D4fvYcmVpVwdg81EdnSqHRCRy57ztqvnzHSw+YxjODTyEktqenfVHCOlJQ\n",
       "d5LjhEalgNNFmpCxF7CPfsb8cLZ0TETIyychVFuADO8Xv+vLJ/tlmn7EJlqOKDO+TAVjgEHVIeYh\n",
       "1sRuU7uJCMO3FbmDE+qsnKBv+8xeCjJDZM+Ld+9ispI7h4y9AL7dER/c9J8klzjhMfzFYt5SPWel\n",
       "pSFcanQi2mnN/A4bvURVAiNYl4NJay1AnWNN7AEWOeEIT4AwtLIkvCYL/S4qn5xMaJvY5w84s4l6\n",
       "gIuwF+fa4WIXEZ60VBGE+JIPC5cqKbTLfF8G5AvQOeFI9WFaax+b7RYR/hiY5YRbeMT1dq+tygn2\n",
       "0OTMTqW6pe+UGUyRQcZegIuwB+eJ4asUEn0QqmhRmJ8dFOOaUEoO4T7TIqxP1+KM8AmKeiKc9hJm\n",
       "PyvlBPM0sSkn/rQgisIb8BCWABdhL85VrB4p6XMOYa3ES45qprk2n8TqnBMSeUl4P8WM2OGyi3BI\n",
       "eLidPW+6yjB2MEJh4dofeDD+kfSEhA1wCNfhRAxfpvPtXIGIPg9LlXmV9K14gg+/seuhFJykiw1b\n",
       "MfwssJ0RbolDrdiEYylF5NDn7LnmKsNq1Uk6Xqz1K/AknQ1wCNfjnGo/kjSGnaTDUY75CWu4dhp4\n",
       "UFqyQqItgzJL9FjSZahK3IlYgdhywkpJ4ZWGl9bRLPI0Xozl7DqqVooIBtCGKOJsImM3wE24AWfL\n",
       "Ll5/n5aqDjrz9EvnR3kkfAgclAcfOeHwhVU3Ur21bS/M/JxghPHJ+cfBmr21LcdupPDaGfKSPvp3\n",
       "Dsdqg4iwst96bb67n5eEmDgs+C1AVFruUjfARbgRZ8vkfjqtf5cqg4gqORzkdqx+bMx6j2Z3Cfc5\n",
       "XoZc79+4FV/Kywt7xhuOZkt4hTLgh7PlwgZGRB/wqDZQudP2QVuAdm/d5UdKuJhPBtxnpBS8t8Il\n",
       "Lz+B0oDj2yQvP9bxX4U2+p66HKfK3f3OUZ7xXkKuT/p+DTh+0E33Va4UYNyWXZKvLw729dJ7tfe7\n",
       "wNuiPrYVAXdy6ZKAhfhe4AM/h/zXk/FTHff7RGoqAV88P/7LTyR/nJH1U90Wv/9W/gEsVqIFAFbL\n",
       "0AAAAABJRU5ErkJggg==\n",
       "\" style=\"display:inline;vertical-align:middle;\" /></a></dd>"
      ],
      "text/plain": [
       "<IPython.core.display.HTML object>"
      ]
     },
     "metadata": {},
     "output_type": "display_data"
    },
    {
     "data": {
      "text/html": [
       "<dt><a class=\"ProveItLink\" href=\"../logic/sets/disjointness/_theory_nbs_/axioms.ipynb#disjoint_induction\">proveit.logic.sets.disjointness.disjoint_induction</a></dt><dd><a class=\"ProveItLink\" href=\"../logic/sets/disjointness/__pv_it/axioms/bd3648f8819b9b012e4fa169089cc17b07e947d60/expr.ipynb\"><img src=\"data:image/png;base64,iVBORw0KGgoAAAANSUhEUgAAAucAAAAyBAMAAAANRWhOAAAAMFBMVEX///8QEBCIiIhmZma6urrM\n",
       "zMxUVFQiIiJERETc3Nzu7u6qqqp2dnaYmJgyMjIAAAAcRTyBAAAAAXRSTlMAQObYZgAADPFJREFU\n",
       "eNrtnH+MFOUZx5/b3dndmf1xJMqJXKtbVIqhetueQCNXb9U0JqaGPVRog2E3KNZetLctCVdQw0KN\n",
       "nDTtLRpPxNRbigK9Elh6fyAGywo2rfwo69FW2kJZa2MLaXp43C84cPv+mpl3ftzswc5Om5Q3ud2Z\n",
       "2Xdnnvcz7/u8z/udZw/AutxYuggVlWAMrhZctjAepdKkclXrX91Y2bUOX8VNi6dI3qRXXysLfXKF\n",
       "l3Il7TT8zfvLVPhpxZfYUzXqf2XvQtWh77LV7l8Ngvh5uvmbLHmTd2mR0rRZxfKnWqw/8MfSo7M7\n",
       "YuDNVAu6P+8QdOlaW+0WB0Fgc0wbhSMoUw6eO8L0YPhs+VP1G45MAXAPgVSsFnSZRdWh+6P2Gj44\n",
       "fpPwlY6xgXyh7IlC/VndEeES8rvnAPZXzb/scgj6vqxT0EMY+grKv/d82RP9olnvRlzoS6EBgE1s\n",
       "P4z+FthqvC/vDPRlYDd08WHqaB5iPv1h+fYi6GKK8ncNlj1RoUEfyvoRi00rEWz2wW34WNxO4wPn\n",
       "HYEeOm+n0dv33zIIG4ZBmNlXdHXmYPu09/Du4mvmT4+EmpfNBRd1ZvcHLpWN37L7CrpDtUkQlqM7\n",
       "GaQnEfCcLJ2xtcsscwS6L23nRFQPQdSFP4FtACmozQkrwB9Bu/CDiHgefIiVn4CUYgLyEvBNq3O9\n",
       "AYmI7lDiqb61OdxR6Ezacl07KjfY6h5PZZ2AnrBzOeov4ugFnoe7sxBB0JGLFIbQLqwGuESg+3Kk\n",
       "F4OI5sMH51idKwbd+im+IQNSHXYCxEe5Wmmv/JGd0HdGnID+ZVtNzoNEoPtGb0XeIJdAiC9i6D8B\n",
       "GCDQa8g9XtA4exS93WdxKuHRxjb9IFyNwaNTCjjelJZXY6yGi05Ar7MTOnIIFLr0u1IUQd+HEI9i\n",
       "6B1a6OjlhjLQPaiuPh4fxtAjDDp00UhDetLOFrjOOwBduGTz4KTQN0JokPX0cxx0F3UvAfT3vTLQ\n",
       "UT3fJAh9bf5NrulxztY2dMM8NAT68N+4/MPW8EW85AB0l63BSzjNfPo9AE8h6DVREAYV6OGkm06k\n",
       "r7HlpgV0MUdWraG7CzWtsjiEbRVG1YmUxP3SaXsj3joHoPsn2dpPrgX3AEaMJtIXcPQyGcJ5TJxA\n",
       "dxfdJNojsXpnhkCXPsMDpMht0JdXsG3nYeMXoTbmztNjYWTr3evQhptJJI/h7Zy90Ncy6OS+nrSC\n",
       "XqaGRalJ22ry5iO3fJpcUGr9Rt+JGIIOLx2+A9DugtLStz5NwuPvY88gdX6WhbdKy2hPb0cxmg93\n",
       "ZTwvkg0fWv5sK52BQOdIFJZAC3ZJ+Ji3f7jxCRKqhJlH2YH+Nti8tjvKoB/C72esoJepYeWFbVZe\n",
       "NGsZs064gtvG0APGMPttTeNmQLegPQZb5YGF/npsNvpUnELHN1NMW0EvU8M63qhS8RR2mk1xx7jt\n",
       "3egvaKyS5/zVWdTXjwc1x6opeDEgCHoYr3xzVtDL1LCSu3LVst5/drfpYVXFemnVEoCfGZe1XD/w\n",
       "JOE0dB3UHKuitCsPfQQ9dLCn5xXLibRMjXKjqSpF+Mp3TJUC3YAsGNUgM4VonPtWBZ+YZNHLaEfH\n",
       "M9bRi3UNi9JQzQaYlsof1/2pmubVphn0pYACMEvoSg3zepq+4elsmq1UO5qFq0UTzhUZ9HsNbmxh\n",
       "U8xVx0GXa4TMZepTGlXrA4B35e3mq9B10FMMug9cnOuT9jYWAumDcCcHXa6x2XRVLzVrPOds7nFR\n",
       "m9YPx5xr3bfbM/91wp525JRdmkO+SQx6sODjDh/f0wOBPrcSRWHoco2Dps+Bgls10fj3Ae4CU+gL\n",
       "HGxw6n+iY3eRCMkMulhENGTtx4MBBhZ9K8JDJzVQ5UiH2Znn+/mQQRoC1xlz93Lm/xE6HNFAl90L\n",
       "vPAYKNoPfhoLgfjBP/DQSQ20UoY56MXgppNuvoWegb7n1VUvP8bdOBqWHirj5sXClbRuT7WgX7G9\n",
       "e2TovqzZRAq9yEJZ+9lMoQeDUR56L2nDX6ABhHf1RoRyLj7LJFgEl9LiBj5O78bfDPTHYD21M7iS\n",
       "Hl+vMXsbfVs8ASBcHUOGUIp2n1ChQugTsvd46VnYUWLPmEJtw41PPEctwtBdvPOtkeN0qMVdkGk/\n",
       "Czs6OiKBuFhI8dBJDenjw51Z7Y0julDTb/ksE38exDHTuOYARR+DBB1FXqb7JuRB5cEvTEvtnwCQ\n",
       "fpNlZEaBTtbQ4YrDJwt7Y4q9bTkItfIqX3OcWNRFtQYuTo/K0ENZVfvx0p4OX4/w0EkNdxa640bo\n",
       "d4I4BMfeObbo17IO5VFU9H089Hr6+fghDB5lIdovjKlAJutIvo4smHysQCdqUeUq4fj2kuwmam+i\n",
       "yEUJCTQS5kWJRRg6PM3LAHng9HRZ+wlihxCKQUjj00l5AFlQwNDFdbAhK794Cvip8C+LNbm9qI1Z\n",
       "7ETW5/nrK87vQjnoWK3y0a5qTAUyFk0dliEkrM0qPh3P24eqCJ3wpvaGh8SkZhl+KkIsItC/aiJ4\n",
       "abUfwJ7pvr+j6VEP3T8KYuezGLpQDy0Z4Xr8Ug+dadgwUvDGt8IdAC254KrG2c9pR5Ns4yS5ES9T\n",
       "T/8yy8BluxA4B/TxApilAhmLpg7LEPLeE1Ggn+jp+XnKDujj2Iuzm5i9geEu9Rur0SC4LkssIke/\n",
       "oFcAjU+OXMin62UATdCTpU8hGSj5KPRCKkeePWoqc0tdN9qWDk9LxMTOJMx/53aYMQbS/i/hXeGj\n",
       "WdOWwLGRxhzcRLuAMRXIuPTQ1GET/w45bEFvtR0da/MVxi4W9pLsJmYv3LhO/dIwWtK3UosI9Hmc\n",
       "FyTh3GU/rhMa5vIBmry1BW6GJRkI6JyCm5tEcDS/KQdHYxBOSml0m2AMFmZgDdoF3xrozpD8px+T\n",
       "ujQVSEhbGaZNF2IPNg/JDgVB98YrVgwt7cXpB8xeOKqaIgyfnPE0s4hAT3AhHFktXtkz0sJ40qle\n",
       "Nw1xcQ2yFSeooGjAn/RMxcvjMXgGm+RP4mepaLpYpsw6JBVIaLR0Dtp0IZohhFi/rkBH6zz8xO3D\n",
       "kYx/VHZEjxQs1FtFpxNmsg1Lewl0Nku2qRzxA+5NSWpRF4t/lDLlyqFPuAhjnKuJgnQRzd+4EbBq\n",
       "DWr3GP64No8bUcRRKYZOUrhZKpDHCrouXYgmq4QiuH/Li6MUyQFFF1V+9iRONVHolB6iynle6pas\n",
       "7SXQacq5u0ttKH4Y7xqjFhHoO9WriQMOQOeTjcKo7w7Ijdjej2bNscAgVphxI9Ia6CwVyBK6Ll2I\n",
       "QsezfFKBfoQ6+Gb4PRPyIFA0UeiUiFWV82i9MvZy0GeR3A028yIDXAMcdK6nO5JshBqs9oAkSHIj\n",
       "xCzubbTnRDnoETpcaSqQNXRduhCt26usrvDu6/QGdM+MMSGPwdQpdHLh5DwG3dpenN1E7UUjaVWG\n",
       "D5O9g9Qi6tNVZ+ZPOQF9nnqXvcgZ/FP2kcgNFJCPvAanmCrQP4EomZhYKpAldH26EJ1ITzPwFLq/\n",
       "i1zdi1dlRMhjMLUKnTJWODmPQbe2F2c30Yn0ZuSxonyYnkhzEykXvZCVffVTpdU+5UKXWh+D5ggy\n",
       "GU1MaDIbg5Y4/Au3gEK/C0E/AEoqEIGuJAhp84b06UI0Q4iEO3TJjKEHaN4uSVYPczCJQteqN5XI\n",
       "eTrolvbi7CZirxc1svYCsxU+QoZPyVKLCPQP1Gs0ZJ2AzoUvHrQpNfUl6oS24TeO3PYejgbEpgMx\n",
       "tPtm2/CizjrwPpnBySpKKhCGjvOAdOlCOIFIny5EM4S8uGe7IorKSKYteHEtkxjYBEkUukem6k3F\n",
       "cp4Sn1/P3i3tffx9klyzuDQZhP6RJLX1u/g3ekT2iRtXpHSKq/rPXz6nbhp+ZzdmNjS4aI64l7eN\n",
       "wl9WYx5NF9qqKGYQV6D/mYDLYx9HhDzhh6pCt1K/DiJynlwWmq2qytlrzFki0P+mWu7Mz1/4H3o1\n",
       "aT95QBoaT9DgY29j6/kEIiVdaP+4evp2kmLuVXs6UegM0ImcF5p7ctbeuNrTL89eY84Shi5d4AM4\n",
       "R6CHVaNatJ90BlKWKxQQ5wxHtHlAtPAJREq6UHE86GgxGUC0iJBHfDVV6DB0VbXbkKVyXuB2qA/k\n",
       "VZ9+Wfaa5Cxh6CFVCtuVdQa6qH7fqxVmHpxuui7cZr3GBbMEIpM1pgxIalsJO0YiVMgjMKlCh6G3\n",
       "5Khqh15yTM5bKqXcMXPo5e015iyRJ0eKCuDYj3dht/FBwxU9/rIuhgyhlKmQx8FcCbw8J2+lAlFf\n",
       "wBz6ZdpLLMLQT6i9LuoUdLc6unrBuWIe4qsw55/LcfKcvCUlXTHvrZcF3bJ0aTJvj8NEoVf8r0eW\n",
       "qE2OOQe93TTvRTtBhsZ1Yt68HTZ42peTCVreZcvcCfzrkYr/yY7bQdRly4sTcl7CoWpcewvFj//J\n",
       "zn8AveAXk4wnvU0AAAAASUVORK5CYII=\n",
       "\" style=\"display:inline;vertical-align:middle;\" /></a></dd>"
      ],
      "text/plain": [
       "<IPython.core.display.HTML object>"
      ]
     },
     "metadata": {},
     "output_type": "display_data"
    },
    {
     "data": {
      "text/html": [
       "<dt><a class=\"ProveItLink\" href=\"../logic/sets/disjointness/_theory_nbs_/axioms.ipynb#distinct_def\">proveit.logic.sets.disjointness.distinct_def</a></dt><dd><a class=\"ProveItLink\" href=\"../logic/sets/disjointness/__pv_it/axioms/c3b9b36e0c317b1899e4f0bb73f69f34875802fb0/expr.ipynb\"><img src=\"data:image/png;base64,iVBORw0KGgoAAAANSUhEUgAAAlYAAAAXBAMAAAA7EBzMAAAAMFBMVEX///8QEBCIiIhmZma6urrM\n",
       "zMxUVFQiIiJERETc3Nzu7u6qqqp2dnaYmJgyMjIAAAAcRTyBAAAAAXRSTlMAQObYZgAABlVJREFU\n",
       "WMPtWG9sFEUUf1zvute7vWsTKYl8OksChJR6kRA/2MpWPxBNjEcxSiLJXeo/MAYa2qBUA02/2Gq0\n",
       "V5VASAgrKjGIcKFpaoiNpXeGgH+4CIlfgJ4BjBqFxgqKZ4zvzezO7s7t7XUTPqkvmb252d/ub95v\n",
       "Z97MG4B/uZ0r2v6E7tF9oGH9Cr9sbVd9wfdjiTymzwPlw6LZyraaJA3o+NEpR1Ow2fMJCQ2dKU5N\n",
       "5VIflKjtotcLCvPA2DwYINeuazBqfaLRoivKj2120c8iUfvdiD7EMiM9dL8ni4yuKxnUm5kOX1Db\n",
       "T95a1cZYFmcj4IAGaeMbaSCqxrcVKB921KXNIqm/xVsEEXHAj1hOSc+c8mSR76o9BvVRpsNeGqwD\n",
       "3lrVxthmPLs2amIEJWXEewLlw9REZZtFAm4cseTt0YqoqRQgjpNezXlrVRtj2Q7JjVjSTc0dfrWK\n",
       "NPnSijiU7O3RiqipFCB25vDhPeCtVW2MFU97TDd2p1jtM9TKqBphZk6g/NgVV62MN+9+mLeYRMQB\n",
       "e+D2aMWor5AO8MfQ0Cs1tKqNERZAaSJftqS1hpEMdE22xdb03ofV0HerW7rxTns+d+73VTmGatn8\n",
       "wLTnuw4ufadVTL28PNBsJLC8DJHpVk0QEQcsMb23M52sqZWdVW0yqfNMh2cAhl0em7JrVQXjYmFc\n",
       "id7NwVkN4hlc7BRQUJZ4BpRBOJCF0VzoTujlqCPwbWKn57Sbim1TSua/S3T5+hrZZao6SKAMT2Rh\n",
       "0CJCDniDYFvAyTTj2fstEmts1qS+xHR4ECIll8eSdq2qYFxMwbD2JluiwpngYggwrcIZCDdBYxGu\n",
       "QbSZ/CDUGTirPwSwoXo419U/g2K9nJDuOkhQKxz36ZQgIq1epslI+yk7UzzptYtrllkvm9QTTAcF\n",
       "Ao6tbW8B7spIWkkYD1ugQeQvgGPkBuwazAqtStCYiFAYIT8QBToM0db43urjCsK2tTct3XSQQDlU\n",
       "xvg1ZRIxrRaiM6+S1w6m5xJVCRnayVq/zaBOMx3UoiJufZTvgE9UvU6XtLJjamoV+tV048j1OaHV\n",
       "ALpAd4RWAOzfWo+XNSaqauUkgXL0N4QPmESmVuY+3WLCWVrdONrO+j04tGooPS7W99f36TCZSKqQ\n",
       "X9W7KmdpZcPUnoMR040GHWY0JRkQWpnjKkFzEEI3ammVtq2fa614RQ44SYxxlbRplWBzEDaBk8k7\n",
       "Xm2SWHm8WssL6gDDT2NjR9cSCkto4+NvqXK8YhiYXr00VfF6qZGi9g9mKElAfTGeqRNaYbyCKH6r\n",
       "JKFOBGZhhZdWUf1uCOi8Z0Zst5mDBOPVHeikJoiQg8d2WtnsTDXXQQcrXwet2A5juImIdRYXZHne\n",
       "N65+vLFCK8IE9C2KBs9LewTWaAvI+NyoBmsS2GkMu+FsXamO+s9dwHztNKZkSUQFy+FZSm7Rg8jf\n",
       "+OCxknER/x7NjWCKzXsG0C655SBBrdal4GeLCDn4LgO9tzEZOyhB4WRmdx2sfH/VzkvBmJ/7lkGj\n",
       "ztORcZjKV2hFmBD8ArBxsRQ3qNE+5XtoF/VNelFo6833v1qJzz57GqsfbL355MgiiDzVmoX6F7KI\n",
       "inSvWHLRGOAvYnxUKJCwy3aqYDJ8qOVgR5H3DFvkww4nSRka2vOaRYQcQhs7k7HbFITbTVKl37jr\n",
       "YOVaXeWFdIhRV7qhE0IvDQ0Nolb7lQqtGAYoQ+2Xx+0ttxxnfpmQGQyilYcrJ0SNeoYOe+/0y26h\n",
       "U8pxbFpVIzwlsfIcp4eXgnmvGdpDkOHjKtiFPymHVnwMzYYqtaLGc5MXpNx5fhm26YHqtRVmPXPN\n",
       "nYU9Ernh0soy0ZOuWlUjPCmzOnNnI42bhb5x+Jyq5wEuyDkOPwJRSyrTaq/e8Jp5YY3HB6wtRXhe\n",
       "py1hxx7zYOXeSkjDe+Z6JiNsJOo66oad696EdX5VjXBGYmXnV9aZjBFmMtBahDAu5cGdGtS7anXo\n",
       "/PQZptU6ylTWZemSY431qQ0+T/EE6u1dmCZW7nNjVgBkPfNOsdYvdf1AdNYXFwOUMQUXsno1QoE2\n",
       "WDs1Q/Jh+/zithzjVYUtc4RVmoPW8QyvKbBS83k67PMMOeb3bNA8Q4YxX+ftY5Xn7URNpa3PL3/X\n",
       "XM52+G3UDsGnRfjfXD+yS+2/YP8Aj55K7WWCYHsAAAAASUVORK5CYII=\n",
       "\" style=\"display:inline;vertical-align:middle;\" /></a></dd>"
      ],
      "text/plain": [
       "<IPython.core.display.HTML object>"
      ]
     },
     "metadata": {},
     "output_type": "display_data"
    },
    {
     "data": {
      "text/html": [
       "<dt><a class=\"ProveItLink\" href=\"../logic/sets/cardinality/_theory_nbs_/axioms.ipynb#empty_card\">proveit.logic.sets.cardinality.empty_card</a></dt><dd><a class=\"ProveItLink\" href=\"../logic/sets/cardinality/__pv_it/axioms/362148cc6ff0c76e4bdc3413008bcc6042246cb40/expr.ipynb\"><img src=\"data:image/png;base64,iVBORw0KGgoAAAANSUhEUgAAADkAAAAVBAMAAAAOWFv7AAAAMFBMVEX///8QEBBmZmaYmJhUVFQi\n",
       "IiLc3NwyMjKqqqpERESIiIi6urp2dnbu7u7MzMwAAADii+d4AAAAAXRSTlMAQObYZgAAAN1JREFU\n",
       "KM9jeMsABJwMDGAaA5xmYOA4dRJMY5c9xbAci+wpmwcgUbYAhikLMGTZG3jDQLLMCgzRARiyhgwM\n",
       "x0GynAu4df9iyE5hYOi/ABRlNGDa+w9D9gsDw/4GoCh/AyvDb3RZ3k9A2QVg2UyGHxDZ4+UgUARk\n",
       "sf1hYHgPljVYDJNFADag3vcHwPbW4jGZdW0BL1ZX9YNcxXLiAN8HZHtLQMyZDAz2IB8xT3nAPAFn\n",
       "aDCEMrBvwJBlbeCVA8u25p7CjAXeU0vAscBweHMCnhhsgNLYZRnIlV2HRqMAAE/6Xh2wFdchAAAA\n",
       "AElFTkSuQmCC\n",
       "\" style=\"display:inline;vertical-align:middle;\" /></a></dd>"
      ],
      "text/plain": [
       "<IPython.core.display.HTML object>"
      ]
     },
     "metadata": {},
     "output_type": "display_data"
    },
    {
     "data": {
      "text/html": [
       "<dt><a class=\"ProveItLink\" href=\"../logic/sets/cardinality/_theory_nbs_/axioms.ipynb#card_induction\">proveit.logic.sets.cardinality.card_induction</a></dt><dd><a class=\"ProveItLink\" href=\"../logic/sets/cardinality/__pv_it/axioms/bc57591fe4c33467fbbf21df1423ec774183c3870/expr.ipynb\"><img src=\"data:image/png;base64,iVBORw0KGgoAAAANSUhEUgAAAV4AAAAXCAMAAAB01dc4AAAAQlBMVEX///8SEhIoKCgtLS0/Pz96\n",
       "enovLy8QEBCIiIhmZma6urrMzMxUVFQiIiJERETc3Nzu7u6qqqp2dnaYmJgyMjIAAABQsGWnAAAA\n",
       "AXRSTlMAQObYZgAABBJJREFUWMPlWdm25CYM9GQyMftq/v9XY3ZhA206naTPGR7ulW1ZBWUhCfW2\n",
       "ffGgakndYnt5HyP1jrme4uJcvnxIz5QhC2+ow9xvkp3WiyfmhrhP56JlIxz149vvYVeJdkkaG2M2\n",
       "O1uidb27+FhiaIz7+FMzCQWj8/3ji9z/kM0yhQ1LTwSCeQLR8J4hePcBQ2Pcly/rXaVdVLaT3w0i\n",
       "bwvxPexa3PCB46VNEwcOeXyW3gnu5WWNWq9nhrn0rU1+FITstNWN///BJVymcjGAkjRvwBj/LL0T\n",
       "3Dm9ITglItW+AcEa5YfkX5TXeMMHcTErUPov0zvDfU7vdhAoOOEHN//x/p+sFeGt9SJn6NbltEOv\n",
       "QohJgtIWNfsCvTPcBXoNhgILJoTsVoBn4tS2rg1gkIsGWaNX9AFqRgFLQu4cJSMP6GUxDqvTTSxH\n",
       "Gz9u9URlyBxg4Ee4C/TmHBEFgmG+a8tG/0i7GylVrBptZqQc+wmhnQ32Ie4DRNL0hQ9l2e52NaNX\n",
       "pwrXnFrmXClJXwOw99J7Z7gL9GreCP4P6ha9XHU5BWLVSI+UNtifnrQIK8Wdas+r/PWrDxDGTjp8\n",
       "YKfH9FKRslIo1QQ0yDh6Su8Mt9yLns/38I/16KWuEYxtpgyGC3PWE3qrRry2QkvlcbRF2+k4nYge\n",
       "VP4cAHSWmUyoGb3t+cwB1wIMLNLb4i5474VeeWyU5VINU8TKRI/9YvVGb9UQZbNHfKqpRJXeYjmo\n",
       "UDMAuG9SxfJc1a3YhSGNlblRR7tnuUHsZY9wF+glvBWEZPFlpHyG4MWSwmfoITN6q4ZoV67pGRxs\n",
       "phFYDipYDgDuKUan3I/Ll8LgzHqrHLQ6M1IEXK4cZrhvpzY/y8T3+dWPSxCWjM/orRoisAXpPV23\n",
       "1CjFclQRI4CmsglLwjxcGQZ8NnknOW6HYnJuZX+IlfaNuneG+5JeVOgtjpAFEKxcLdAUjbFnTC/U\n",
       "EKFeCDW0QJHec438GsiDys8/vEoPoNldcZkbYZgxGJ/lITSlmgl1O0AohpBCuLSnluid4b6gF58l\n",
       "xpEaovnrF8GqDUTj/FQH05SN6YUa4RFrvHcjtM4iW/YqTI0AeofTXj2OMEZyeD77zKF41pC8e2/1\n",
       "Sn4Vsle4M+iHlCm9Y+DgoI2LXOiFGrGVR9tTmU22qmWvkrNGB6DbWnk0YJT9UEtnQq8atxfblk7T\n",
       "97HEIF+u0l37/IONaQvXK71AIz4SOu+zePJm0Va17FVsUuoAZONymd6P9HvHuI/n0jYkh+3L2VG2\n",
       "dxZI1yjF3okt9OOu8qKt/ahH3P21gvyjdvob9JbuQr/NkBiRb9L7wJbED5pmPksgutTG0C9+a3ti\n",
       "boj7dC5WXoWu1vY5eu27jvDbDdwVu9fjwX4fvv4GiltIZTzXl0IAAAAASUVORK5CYII=\n",
       "\" style=\"display:inline;vertical-align:middle;\" /></a></dd>"
      ],
      "text/plain": [
       "<IPython.core.display.HTML object>"
      ]
     },
     "metadata": {},
     "output_type": "display_data"
    },
    {
     "data": {
      "text/html": [
       "<h4>proveit.numbers</h4>"
      ],
      "text/plain": [
       "<IPython.core.display.HTML object>"
      ]
     },
     "metadata": {},
     "output_type": "display_data"
    },
    {
     "data": {
      "text/html": [
       "<dt><a class=\"ProveItLink\" href=\"../numbers/number_sets/natural_numbers/_theory_nbs_/axioms.ipynb#zero_in_nats\">proveit.numbers.number_sets.natural_numbers.zero_in_nats</a></dt><dd><a class=\"ProveItLink\" href=\"../numbers/number_sets/natural_numbers/__pv_it/axioms/41585b68a7dd1d513f84c532999561d9671aca5e0/expr.ipynb\"><img src=\"data:image/png;base64,iVBORw0KGgoAAAANSUhEUgAAADMAAAAPBAMAAAC7N+rPAAAAMFBMVEX///9mZma6urpUVFREREQQ\n",
       "EBDc3NwiIiLu7u6qqqoyMjLMzMyYmJiIiIh2dnYAAADXmt2vAAAAAXRSTlMAQObYZgAAAONJREFU\n",
       "GNNjYOC785oBBXR98WpgePpVgYFhJUN7AqqcD7cBA8cHBgaeAAa+BahS5hvuMjAEMDCwGDBw/gCL\n",
       "8LiXV4EZRh7MGxgKGBj4DRiYfoIEuH0boLrMNnOsAEn1CzAw/QXbDpNhMOO8sBkklf+AgRssZQa3\n",
       "y4zhEc8FkJQAA/c/kIADkhRzgzWSgdxRq4AAKsVhwBUAdgYnyBlsyLoY9nGDHO/AwAN2fACyFM8E\n",
       "ByQvy8KlrIH4GciQSobWDSAB9gkwqZVAzAhS3nfXGizAYaIBkdn+FaiDAyXwmJ5AAwoKAGQvOOyD\n",
       "fUpGAAAAAElFTkSuQmCC\n",
       "\" style=\"display:inline;vertical-align:middle;\" /></a></dd>"
      ],
      "text/plain": [
       "<IPython.core.display.HTML object>"
      ]
     },
     "metadata": {},
     "output_type": "display_data"
    },
    {
     "data": {
      "text/html": [
       "<dt><a class=\"ProveItLink\" href=\"../numbers/number_sets/natural_numbers/_theory_nbs_/axioms.ipynb#successor_in_nats\">proveit.numbers.number_sets.natural_numbers.successor_in_nats</a></dt><dd><a class=\"ProveItLink\" href=\"../numbers/number_sets/natural_numbers/__pv_it/axioms/f3a49da770e4d222eaa27aba165c392838336ed70/expr.ipynb\"><img src=\"data:image/png;base64,iVBORw0KGgoAAAANSUhEUgAAAK4AAAAUBAMAAADmcxvOAAAAMFBMVEX///8QEBCIiIhmZma6urrM\n",
       "zMxUVFQiIiJERETc3Nzu7u6qqqp2dnaYmJgyMjIAAAAcRTyBAAAAAXRSTlMAQObYZgAAAoRJREFU\n",
       "OMullc+L00AUx7/9kbRNk9aDgnjQyB4U8dA/YCtdPOhhD7t7UA+CUdzDehJUqrisIoIpXsKCWhYW\n",
       "46XCirUoRT2IZaseFCSoB2VVIihCD7UHBfUgvskktakZURz4NjMvk8+892beFPhjW/QV3e4K7FkL\n",
       "cFnnjWCCcppL0GRraPonswN1w2rMAE+YoSP4MGdxRfm0jjjukDHt7AJuAHWgSsOMyKXnvgZwOn/W\n",
       "Hn2n3+XhAI7FdcQAVUfOpkdDwD3h63cuNMa94g9elsue6/JOexopCmQVtMdLS5cE2MxhLiE3V/L6\n",
       "e7YE/l4w6jZx8R74apqzAm68wDU+Mz+iR3HVgrddnV8beVMyGLcNTAMVATftcLVMXfkWxdXc8LGQ\n",
       "LbX0jHHfAtvD2yodeYCNBu+nGp6kxhwyX6K4WS9J6cGDd0jeTZ3b9CHiTmC/1i7ijmonbD6MlTwp\n",
       "ymdoPRZ2t/txfbdr9LkSs2KySy3wvIZ31NlHk51UgNXOL9i4pxdUhLjI9iC7Uf5ybnXQX6k1ybkZ\n",
       "l86yVpwaYSmh1mzOB1w/D0i4yDt2BDfp5SEWKsAVlpYdpMpBmjXmxCxe0031+t6hfYu1cN9uCfct\n",
       "ofe5ExR/le8bbtGiC5uQtxXv1DTRavvT2DFiulzCU20izI0zboIvdrJf96zAtpFGSXk29QDGIB03\n",
       "zTPEXQwSzsJkoqguroTzm9j/o0gcvljtLE+SdGotvMsBH1gwzLgGoxIM7m9y6i/q2GtX/ef4uXLo\n",
       "ClKCIs30cLSJh6z7AngtvncUe3C0LCgoNVg9aWCrgzSlJzlXgtwvOItLdD27ghf1ofFmyu8/3OvC\n",
       "JSvA//wPvRLYNQs/AZLfsi9LVhx/AAAAAElFTkSuQmCC\n",
       "\" style=\"display:inline;vertical-align:middle;\" /></a></dd>"
      ],
      "text/plain": [
       "<IPython.core.display.HTML object>"
      ]
     },
     "metadata": {},
     "output_type": "display_data"
    },
    {
     "data": {
      "text/html": [
       "<dt><a class=\"ProveItLink\" href=\"../numbers/number_sets/natural_numbers/_theory_nbs_/axioms.ipynb#successor_is_injective\">proveit.numbers.number_sets.natural_numbers.successor_is_injective</a></dt><dd><a class=\"ProveItLink\" href=\"../numbers/number_sets/natural_numbers/__pv_it/axioms/69c95e3316f0a9c104a2c19e4aac5d75be286b5a0/expr.ipynb\"><img src=\"data:image/png;base64,iVBORw0KGgoAAAANSUhEUgAAAQ8AAAAWBAMAAAAsrwTqAAAAMFBMVEX///8QEBCIiIhmZma6urrM\n",
       "zMxUVFQiIiJERETc3Nzu7u6qqqp2dnaYmJgyMjIAAAAcRTyBAAAAAXRSTlMAQObYZgAAAzxJREFU\n",
       "SMe9lk1oE0EUx//52KTJbqyXXiVSqMVWCCgUoZUtgnoQbCuIhyKhWFAPEtCDitTgKcVLqFBLoXRF\n",
       "UKiIgRo/DqXB6qVCWdCDRYWKIFR0KaKi4sE3s7szu5vaRDAOtHn73puZ37557+0A/2VMbWx+RH8r\n",
       "THjTYI5kfmN7rAg8Y8KHBoNsKtYApXBM0G8i32CQ57UcHhOsAWilBoOcr+VwHUgtzsxcazBHIlfz\n",
       "7HTge6Fwsc71qlXKRuY+VwhngIMnx1rTAQfStaUH2whCI49hYLQGgW7/VIIUeai6fPSbjwL3XLnJ\n",
       "JGshnfzBHpYsNt7xGaT7rKub6VwoW/fynF1nKGeeYGuWSXlRYz77Tor4bl8JynG4C4i4mngJSmkE\n",
       "ia+BBZjuF1JrgEpLxRE2qyluL/TgoWZEDAky6C189i9Ks28KlTRz+P1UlFlHEdKRTH7hO/qKlnTq\n",
       "T8RoeYVMmhmv5khdmTQwl85okCDDHnuTCyI7hDTnHRCsShCoa4gFI0+6SA6htA2SWDlCG/cMtIbb\n",
       "WHYxiZ0XjXJ5zAuS83gJEBnNnDPVA7JDHg0iK2g2DZEj75medPEKDhUNvhRGj9P2vWboVJiFkklF\n",
       "u/GXtTuDEoRqUHoJEDWLEwUapmMuekHue5I1VMG8EUh30t3VsSdR4smKWVpvchua9QjzY5KRzHAQ\n",
       "VBYkSDTv8RIgUbcpO2bDC3LAsbHinNaxlOrzg5BuHvhIYeeLNrPyHkI/jyCTeqGcKxQuE8hU3AOS\n",
       "FV6nrbeWZXIQxT1329yLmGVtsT7ZIMdcW44/j78K5Ajp6CxnlynVeFawt2hBO6Z5e2pBt2InfhnR\n",
       "AQlCXUN6yYhkCYuGaZu7FW9E9tXd4m+JrrhGr/NSw4RB0tkynjLlC+C1BEnmhJcDwoo/5R67baap\n",
       "jvsDuLPr/OiJwK5ifBH9JZI6TTTRKUVHdLtfOFVzQXjZIImub2lERGvl5k7Tcb96aQjYJaq9jmtA\n",
       "YLjf4XbKEX9jQEewj/CvlVB1BNzdS1c9F6NqUHVd9Lx/c688V60SIKpZ71Vxubqj4s8gUbP6S2vX\n",
       "ecDsvsyNf36fyMgrbmCEDf8N2De2/80evwFuC/AXsH+S+AAAAABJRU5ErkJggg==\n",
       "\" style=\"display:inline;vertical-align:middle;\" /></a></dd>"
      ],
      "text/plain": [
       "<IPython.core.display.HTML object>"
      ]
     },
     "metadata": {},
     "output_type": "display_data"
    },
    {
     "data": {
      "text/html": [
       "<dt><a class=\"ProveItLink\" href=\"../numbers/number_sets/natural_numbers/_theory_nbs_/axioms.ipynb#zero_not_successor\">proveit.numbers.number_sets.natural_numbers.zero_not_successor</a></dt><dd><a class=\"ProveItLink\" href=\"../numbers/number_sets/natural_numbers/__pv_it/axioms/1362e2d9ceddda26718a09816b9ba320af2e88460/expr.ipynb\"><img src=\"data:image/png;base64,iVBORw0KGgoAAAANSUhEUgAAAKsAAAAUCAMAAADFqj2LAAAAOVBMVEX///8kJCQNDQ0oKCgQEBCI\n",
       "iIhmZma6urrMzMxUVFQiIiJERETc3Nzu7u6qqqp2dnaYmJgyMjIAAAD9T1yxAAAAAXRSTlMAQObY\n",
       "ZgAAAllJREFUSMe1V9lirCAMtb3sBBL4/48ti6hRx9G5LQ9mxp6Bk5OFdJr+YwFx+2RFePEHDC/R\n",
       "aflOT08Mnttny56ThcSIS0KzoDGO9yk8PC0BtzcFFf2ckM5d0NsTCrngYKBhiAJP1SHF7TkzyUNh\n",
       "0eYwNDuTdcuCRMOlBT3kXAW+uRxwe4drJTC4BnEmq9l88bZt0X7Q0IShLnBPC8tx+5jrlPS1rFNu\n",
       "XHWOCzr7uhw+5CoVsxotgJRK3ueKx+TxW1lDVp2rXNBddg8PuXpiFifvZd0fbnOltbowtfXvuz6H\n",
       "C5CbfqZzbWitXldlhTqFRX4p7C5d49aaOLlWqtnc5hrdpaxlL9W54oquD3lsriGiUuV19K0/q11L\n",
       "E3prQ1FUNyZcKieasWdcTd7LwuXgOdDRSJ3vzn8fIdRtI8lJ1SBfca3l2uo43c/XA9d9Hua5D8QV\n",
       "Xa6K2SNSZGQvFr0kfjTRgDxw5TlQdG8sM03hLlfteL5+9RisQfB+84MZ7WG+LUiLorEAdvdGU3KA\n",
       "DF7X1iRw7oX4QW2d33/bu2Cgo+qcIcj6oW4W1JZrOf/QYMaL2UJL17IvmWuucuGquPv62MJqzIIw\n",
       "DJ3HjrZ80KJVf+u6tQ1VrmWS2mf0iOBsuwFL8TJflRU5qR6KxFvGyTwSUMpxkw00DVj1oThQnpbp\n",
       "Omkjf+mOXYlw76O6Hur2WkGtNadb1BenqeUy4UezS3g9vO1mlzdj3mHS0VVNiS1EPo4Y93vbHm8u\n",
       "OG81N6dfXlkRn6APRTDn6x/N2jsP38j6mR6/9D8M7Q7X79E/LBUdTFd8/fwAAAAASUVORK5CYII=\n",
       "\" style=\"display:inline;vertical-align:middle;\" /></a></dd>"
      ],
      "text/plain": [
       "<IPython.core.display.HTML object>"
      ]
     },
     "metadata": {},
     "output_type": "display_data"
    },
    {
     "data": {
      "text/html": [
       "<dt><a class=\"ProveItLink\" href=\"../numbers/number_sets/natural_numbers/_theory_nbs_/axioms.ipynb#induction\">proveit.numbers.number_sets.natural_numbers.induction</a></dt><dd><a class=\"ProveItLink\" href=\"../numbers/number_sets/natural_numbers/__pv_it/axioms/4f6e4df3fd4cc553df53e58b64da7d36c3852ad90/expr.ipynb\"><img src=\"data:image/png;base64,iVBORw0KGgoAAAANSUhEUgAAAfEAAAAWBAMAAAAiKrjAAAAAMFBMVEX///8QEBCIiIhmZma6urrM\n",
       "zMxUVFQiIiJERETc3Nzu7u6qqqp2dnaYmJgyMjIAAAAcRTyBAAAAAXRSTlMAQObYZgAABZ5JREFU\n",
       "WMPlWF1oHFUUPu7ubHZnf5KH4oOoHVLwoaBdLQqWPiwRKfq0T4liwUUbtVB0xUKRSlgE7UaJDAi2\n",
       "LzZbRBNCWKN5kPqDazpKmwYNWn8Kti60BtrikkQq1SjxnnvunTsze2eypY89cJK959y53/fN3Dn3\n",
       "3gG4LksvKg+x44F2rF2KHPJd4VrL2OHx8/tD0hHkJEH0FjbOdat8Unn27q870rMLzTPJAJtsMRLC\n",
       "rJKH2F7QgvC4o00TQeqF8Et444vMG9feqsNXK0UkiH4a05e7VX5J+RWYCN7x1CJMLpst0bKl8kiI\n",
       "vE2usY/qjG5HlIPwuKNLC4LUi9nSr3ewv2X8OWaUwVwGJIh+BKdHtUvhuYLruT7ItgLp7SzTgjnR\n",
       "uiCVR0L8IFzZx2Iy7HuBKc9aoAXBuKNLE0HRi/2xoNGENFf+bKkfoA84QeZ5HH6mS+U9tuupMmT+\n",
       "IaRDB0aI61WAhAXHqK9xqC6UR0K8LLxDOcBv7DqzD7QgGHdUGm3UQ1L0YtOaec0+ykvNnjeSJagA\n",
       "J8g8Nz81dbjbyX5YeW8ZEmtc4at1kU38x1olyBd5KzlgCeVREOkKeZhyuAhaEIw7bprbYx6SshfE\n",
       "kcH6GtWMQfMyKkeC6NdqtVe6Vb5F+YcFSKxirFF3i9U6r3nZAm81oCKUR0HECuRm/96BOZ3yE6AF\n",
       "wbjjptUsFwRlL7L3RbXMWINICgmiD9M82b3wBZ8S9MDcpt/GlI83wVgNVN9t63/Z4v3C0nlaKh9W\n",
       "UzE4OqtE3KfhZ2tEp/w8aEEw7sh0/AC3PxVJ2SuwTjg5q0IE0R/ihS5RgC95mioRNadrtddhaGcx\n",
       "dqu49qDy8QIY/6oL6Hn8tPk2ttbSs67AUamcIJS5YOylnCGfh+/qj+iUfwJaEIw7blos8ldckrIX\n",
       "ZNvcCqQ8WR+uEEH0Hoixe95Th5QHgzeN1/h41XnYIcbepFzOduNOHFmCx9kbZfDVhBXVZEkoJwji\n",
       "/fn2RQUGcEuRvA413v623X6x3V5Syp8ELQjGHZmW1tgkScpegWdulvN9RBA9u9jDor02ZDzKeZPY\n",
       "Zb6PQ7NTOatwmTX/csV6ma5yps4oC+UEwe2X41MeMKUcYFVf4bi0ThCd8vQ+W5KUvYK7ot2GR3m6\n",
       "NYgbitvFC04YvPkZKX/icavZOdtTVcjxVc1dV0wm1GChBJ/ts2JLgcoJYu7+u0qJAnjB1GwH46pe\n",
       "+S7QgmDckek4Tem2LUm6vYLKczNVIshJju7BEe9dKXqU8+aDpLw0/2Ozs8K5O5n73NeM0Ys3ZYW7\n",
       "JNSjcg4Rqz/fU8yr0f0V7tPYMmwNr3AdIL4KJ6pHyyXp9pLvOZ99rNDCqaqqcDBLFemdiq+WsOYp\n",
       "oTwr1ilaQ6QfhGMl+dToxXoJ4BsQkEaVZjwpRwgD/gB4T40udni0wiTWUsvyoOEq34aX7wQtCMYd\n",
       "N+1b+U54evkMC2C8RQQ5yV624zBLuKN1lVNzQChPL0qeuzw+3T9MD/C5RwWpxNPPIME83pAkPtSY\n",
       "JZT38k3N3wBDtVrNUmDuzDOf2rrlXGC2P7D5ArsXv+tBMO6ATIN8pIKk28trQytV2rAjQU4yx+5V\n",
       "ZkbUI1JOzZRNyuFhq3P36pllJ8XGUtgED/KfJaEcIVhRMfhm0gMWvXvlkit6EIw7Ku05IfnJ6WxC\n",
       "kuS3sgqTdaWcmuYYjpErQq7ZeWIJt7ngKZX+j2dbWciWfGDaE8uU72pLD7LRiQU2IOiSjL+9sMNT\n",
       "20Uzc5LtZHZdFIc8eSoYheCWzH/gbumVf3Bmbh7gTR8YljgbxOTSWiMiHnZKHY0WLk+pQat2+2Ui\n",
       "zFK2XrnYp7P3/Hq+TIxGxJ2Q9GS08rB7Xb3Rr1Fng2eSkRv4GpWzw+P37A9Jb/A16qyGZED5EVaI\n",
       "a3DTWOFmEfo/xJoUqTe2m1wAAAAASUVORK5CYII=\n",
       "\" style=\"display:inline;vertical-align:middle;\" /></a></dd>"
      ],
      "text/plain": [
       "<IPython.core.display.HTML object>"
      ]
     },
     "metadata": {},
     "output_type": "display_data"
    },
    {
     "data": {
      "text/html": [
       "<dt><a class=\"ProveItLink\" href=\"../numbers/number_sets/natural_numbers/_theory_nbs_/axioms.ipynb#boolean_natural_membership\">proveit.numbers.number_sets.natural_numbers.boolean_natural_membership</a></dt><dd><a class=\"ProveItLink\" href=\"../numbers/number_sets/natural_numbers/__pv_it/axioms/c84ce3012ed43d027d69d9527d2d1b00a2cd44760/expr.ipynb\"><img src=\"data:image/png;base64,iVBORw0KGgoAAAANSUhEUgAAAJoAAAAUBAMAAACHazmMAAAAMFBMVEX///8QEBCIiIhmZma6urrM\n",
       "zMxUVFQiIiJERETc3Nzu7u6qqqp2dnaYmJgyMjIAAAAcRTyBAAAAAXRSTlMAQObYZgAAAixJREFU\n",
       "OMuVlD1oFEEUx/85bj9uMxtTpEgVg8HYCIaAVkZOUkQEUVPERvAKA4mFBCFaKOawyZ0g2UJJGnFJ\n",
       "cYQUZ9DCIs2RpJCocIidH2xACwN+dWrlzLzZdWYvm+iDPzv3ezv/m7czb4CWKDRJWdEeZPNIDN7r\n",
       "dEkpHd63yjbY/i5MphKHuue2rhch+Avxe1tPflZqCbc5BjwG6ulENOrdHZJ8QdRW1lL+AKk17Olc\n",
       "L9oA1ptKlM/goCt5R8gfK1rKCUia/+yN29LtVDgOh5fcaXLhtupK7m8uL8/rc+eVkrDuhGptD0r1\n",
       "kLvho8mF28YS8Z+Vyi19cp/SYv/9w7KkejzJDp5YJeG2DoNzt/z0OHH+qOpu90hew7/myA1PttAO\n",
       "WPG1cPsAg6N8cuZHkfgwvEh3u0liIfudl5+v/NcNV+wLfPAMBheVvnpH3EHOOKpdJA8uvW71fOWh\n",
       "3GrY4oNLJhdubr4pOWs62MEN2EcHoaCvzWqcj90KxtpclCQvRPxMYu1o/zmjUp5ToFNzw1t+EjBi\n",
       "cuFmi6YSvHoZyIVXnaKxC+3hEU4FGEzcuD1bSHZh0Fib3yD+dIp/BHyJU+uksytzeEjHOT7bHWJw\n",
       "guu4yRFdxMtjitP3+RWnRki1A4tDtDvexGnajpluUJN+MnjS9ZL7oh7ru5XZWfnnqoPiy2Rqd45H\n",
       "LGJ7dn0cLV2f5rU3a5sxrCLVHemo/w/Pui2h/90/871ucj/I5H8AFOie/mc16OgAAAAASUVORK5C\n",
       "YII=\n",
       "\" style=\"display:inline;vertical-align:middle;\" /></a></dd>"
      ],
      "text/plain": [
       "<IPython.core.display.HTML object>"
      ]
     },
     "metadata": {},
     "output_type": "display_data"
    },
    {
     "data": {
      "text/html": [
       "<dt><a class=\"ProveItLink\" href=\"../numbers/number_sets/natural_numbers/_theory_nbs_/axioms.ipynb#natural_pos_def\">proveit.numbers.number_sets.natural_numbers.natural_pos_def</a></dt><dd><a class=\"ProveItLink\" href=\"../numbers/number_sets/natural_numbers/__pv_it/axioms/34a485ca51270b1b1abcacb76921915f8afe38c50/expr.ipynb\"><img src=\"data:image/png;base64,iVBORw0KGgoAAAANSUhEUgAAAMAAAAAaBAMAAAATV059AAAAMFBMVEX///9mZmaqqqrc3NyIiIgi\n",
       "IiJUVFTMzMyYmJi6uroQEBB2dnZEREQyMjLu7u4AAAA1o4RqAAAAAXRSTlMAQObYZgAAAlhJREFU\n",
       "SMfFljFoFEEUhv/cmd29bDJJeSDIdieixCKIVdyAsVCRiDaCgYVTgoWyQkyTQA7BIqbwLGxOxO3S\n",
       "bjAiEU4OEbE4g7GwUE4GK5vAiaAYLZzZvdsZjtndu2DiK475Z+bmm5n33rwF9s603QYM/heAkZeE\n",
       "ThMXuHmudwD5JCuznLxCxVV0bv15S/F8u6wGGM0uAWvLbPG+d6qhN7oD0sT1xsdGo9Q5aE51Bxiy\n",
       "yIXO2W276p4EvJgrSgRsif3cBapxgGsbmoupnQDIU7vdfA2M0hhAcY583hkAmHzRavwAHltxgIw9\n",
       "lwh4WBybsCWA0MCdA+FZvjGADdNTArBu2DKg2uC2GWY3iwu/bpPvEkBoZkeK/Df7G1i0O2JOADQ6\n",
       "wwFZxeAhF7o1jexPAZA0t0c3+F/ZCRZ9YFMNIM6Qp46+BRZ7hPxqby0ASDoAbIgrgnZRCcC87iXk\n",
       "ZqYZ3FR0RUJHV8SdPGoBH9QngGHVpI7QB+FcrRbk53CJCoDQkZNRB+7RDh/o59dx2gFmWPtJLeYE\n",
       "PIoGfBbjvgAILcK0lWjiIr6s5nHYpH1sI+8R94i0ACfKqBquAERaSrR+i6zIWWO8HKc4aI+YwK1t\n",
       "tnuSBHgAHLst+SDS0lNB1k654WwjPzsB3OedhcKYmVYjun3sxGyjUho4imDDBfPrfCrA6xUwPolh\n",
       "SkYCAPzVNEDX9QBou/IKKtAv1+uvGOB4f2od7a2i8fEV7NfhhCfIzaYCMnJN3uem1+RsE5cKeMb1\n",
       "ErD87z8dcg7OlDDI0jo3Xd7FT6GzzAeB/QXp0reiDRbLswAAAABJRU5ErkJggg==\n",
       "\" style=\"display:inline;vertical-align:middle;\" /></a></dd>"
      ],
      "text/plain": [
       "<IPython.core.display.HTML object>"
      ]
     },
     "metadata": {},
     "output_type": "display_data"
    },
    {
     "data": {
      "text/html": [
       "<dt><a class=\"ProveItLink\" href=\"../numbers/number_sets/integers/_theory_nbs_/axioms.ipynb#integers_def\">proveit.numbers.number_sets.integers.integers_def</a></dt><dd><a class=\"ProveItLink\" href=\"../numbers/number_sets/integers/__pv_it/axioms/a26a64917b9e68a3bdf19565512eeab06a31ff570/expr.ipynb\"><img src=\"data:image/png;base64,iVBORw0KGgoAAAANSUhEUgAAAL8AAAAaBAMAAAAUFZBoAAAAMFBMVEX///9UVFTc3Nzu7u6qqqp2\n",
       "dnbMzMxmZmZERESIiIiYmJgyMjIQEBAiIiK6uroAAABqpg13AAAAAXRSTlMAQObYZgAAAtBJREFU\n",
       "SMe1lk2I00AUgF9+Jk3bbSgIi6wIXQ/irREPKj20CLoIgpUKgqhE6cHDlg3o0q2iBFaw4iU3WfDQ\n",
       "g1ZXRANFUHbRKipF0C0ingQrqHhQFHoTEd8k9ic/E7DFgUwy85L3zfubCQCjSR0Yu0XDhMfH1w9K\n",
       "MkTYCJ6OnfFaWlHZSg6zRREzcFq451/mc7aWBMKVd79WXq7WvKK0KjyqNoCsvXIb8MOv5WxIEHS8\n",
       "LmpgyT7RIQC5hnHI0oHtBIF2pO3XcpQN4HE9kTyQ3DGf6CkA9zZqwgQdWLSLjwCANwhQYVrSfegu\n",
       "Ar6ok5CgI1trYhTAgt0vyr5EiDURsDmZUccEXLWVmbf8SYRe4VJ7pWQIQDmwaamC9yMhgO906TsE\n",
       "wx6QFbvZ7pINCiCdZQ+AswYfE/kSZFMAd0MAcxp2k1zKJ4gnKQDWcSU3YJ82eKeYsCCN47jOBqRx\n",
       "w1H0TwEVotuArbDqApx8TfPVsVRTsx1n9RsDipI4N3wF0w/dUfBa4ACk/Kzbgq9DFsB+gA1/rfUH\n",
       "cWDBQYJdcxAD+3XZcRFck/t1kLFjYLhL+KfgjUFpvhN93AfMpYBPTuOw6VkAVcThaskWOjpPuxlf\n",
       "mj4DsUuGs0jYXa6JRgFO9QGYRbK6CMKU4d1EkBjP9TaaDKKUhhfA/wZi1Yfr4OaubSAuRyBPyufK\n",
       "p+nMbfTq5VZ1reVNBKUL0vtWzzH8/T3F9aqvDtrAT+UcwI36ko7pgk9i8YSZ71uwwMwv9yYqXak4\n",
       "qcyq5Dsv4ImzW4laoT4APGAC5oOnSTMQwO9sQxe2OwBC9B5A6DIBs4wDjXEecKbShFK1WjVFja+1\n",
       "e4AY+8zkcsHzASca9eaEFslrnGMBfMbCk5x61ZgAwQqeF4PP5DQkPmqEqot1IJbvCa+HbFMz//T/\n",
       "8AGieMBfwKdvDwF6juGNkE/EEf6LohgD136hwv9vfwAWGK90UNmFmAAAAABJRU5ErkJggg==\n",
       "\" style=\"display:inline;vertical-align:middle;\" /></a></dd>"
      ],
      "text/plain": [
       "<IPython.core.display.HTML object>"
      ]
     },
     "metadata": {},
     "output_type": "display_data"
    },
    {
     "data": {
      "text/html": [
       "<dt><a class=\"ProveItLink\" href=\"../numbers/number_sets/rational_numbers/_theory_nbs_/axioms.ipynb#rationals_def\">proveit.numbers.number_sets.rational_numbers.rationals_def</a></dt><dd><a class=\"ProveItLink\" href=\"../numbers/number_sets/rational_numbers/__pv_it/axioms/2d82117d0b9f885cd1b3a35c28f02cafe7ca00820/expr.ipynb\"><img src=\"data:image/png;base64,iVBORw0KGgoAAAANSUhEUgAAANkAAAAqCAMAAAAJZg7zAAAAOVBMVEX///8kJCQNDQ0oKCgQEBCq\n",
       "qqp2dnaYmJiIiIjc3NwiIiLu7u66urpUVFQyMjJERERmZmbMzMwAAABdFfPVAAAAAXRSTlMAQObY\n",
       "ZgAAA4BJREFUaN7dmdli4yAMRZkZdrH//8cO4A0c29gJbtLwlLZE9pEQulIRemYx69Edi2mF3rmE\n",
       "kfMLCEcdx9DLNA/6jWCA7fxZYYGQCR29hs37yFyABZKlX9iO1kkgbyMrQjZASt7TfHDvI9M1JAR/\n",
       "k/n3kUGg+fygLyRLOaENIuLLyJCNGcakRrT8u4cvIAPNuReaV/WVnqq2FH6CzDtrrTlb/1uPLsnA\n",
       "YrlT7ctvcEb9DWSgtYx5AkZb6E0Wy/j2JV660cRsBSn6k1nl/EDoDXQn2y68oijuDOdvme5knKHR\n",
       "qAV1xmq4QqbCprN0UQKtHrQH9CYzUdWOjAqdOY8tkVCRUdkK2egpNQXX9NJqQiPPRv+yM/daU9hV\n",
       "Nky8Pd3DF8omCAZPqTBqNBo6dQ6KIzI+2cePbHo9U6wqSLLl0+puDDF1IYja6r+/hVWRhQzyExng\n",
       "TsLR12QtoS3ah6UkG7In8P2QRTI3kE3lXshOaMVpJIg2ZBLBJXpY1g6ZM7O8LJxZ3RHr05gSHndR\n",
       "a7a8QVr3EmgrrsQsHzm1ysyViaBX6Us6BS3eG3a+9RnayrOSlwV1gSywqlXNVv/g2qq1g12YI9ar\n",
       "K6JLpT7jK9e6uyoyNTXeRRxXUV9VahVYv4mRG9SVO2USAj9PpqNJW/tLPbhPJnU1B8rKrtOwYMzp\n",
       "+QOmF259x+nKX48KDijniyjBPacq+W3IWVVTyp8tLX9c7Ym7YL4LGhXERAdfVsSPWv6YrCm6u3ee\n",
       "IvZoxqnLZI+H+JCMUPTTZE+28xta/pCs3Sd9CtmGludH5UihrmTKmLvItrX8fRMejS111s3JTV1j\n",
       "w7OPXmn5+8iAUJfqbaq8FDiUk4bDDc8+elvL9ydjlghIj4ognomlRE5O3d3w7KM3tXy/oZ/j2vi1\n",
       "bnHFeDN2dVzDwYZr4wXZ0PKvTdIWN4H08dUhTzSK8AmyXFFcAuLuYMNFKab2tHwPybAkbboGvMyx\n",
       "K8h5GZE8pDYHGy72qkuMtrT8i2BL/FOXy9PZ9NLmldKZ5umymAZd8flOH2y4GjU8FdwNLf/S6EJK\n",
       "X5zLGD3L0r2wpJ4ieQIw9f7ptCQH7G643q7CrpZ/iaxKECximuVmeJmNO5QzW6bJXnyHmGbM7mz4\n",
       "4KU0J3xoGu14RpnWmlIjY4x8ipWPP6GdDb9k8SmNSnXd2vBbV89/R37WauT3fyIlKrSih1qgAAAA\n",
       "AElFTkSuQmCC\n",
       "\" style=\"display:inline;vertical-align:middle;\" /></a></dd>"
      ],
      "text/plain": [
       "<IPython.core.display.HTML object>"
      ]
     },
     "metadata": {},
     "output_type": "display_data"
    },
    {
     "data": {
      "text/html": [
       "<dt><a class=\"ProveItLink\" href=\"../numbers/number_sets/rational_numbers/_theory_nbs_/axioms.ipynb#rationals_pos_def\">proveit.numbers.number_sets.rational_numbers.rationals_pos_def</a></dt><dd><a class=\"ProveItLink\" href=\"../numbers/number_sets/rational_numbers/__pv_it/axioms/bc2dd7b68804246ae4adb98121205539c60e88020/expr.ipynb\"><img src=\"data:image/png;base64,iVBORw0KGgoAAAANSUhEUgAAALoAAAAcBAMAAAAkZbgxAAAAMFBMVEX///8QEBCqqqp2dnaYmJiI\n",
       "iIjc3NwiIiLu7u66urpUVFQyMjJERERmZmbMzMwAAAC8H5PlAAAAAXRSTlMAQObYZgAAArxJREFU\n",
       "SMdjYKAXWEBT0w/Q3XSWKwg2XwM+3W8jSDadYzMSh3kCXu0TH2C19MzplbhMZ/lAlOmmzkCTeTdg\n",
       "kelansCx6wQD1+7d0ru3oEsyFxBjOrcCRxmaWhg4eQ9ow+sG7G7HY3q3A5zpyMBgjd10Vgegh3g6\n",
       "F5BsOod5AIx5ioFBvwGr6dxsF4BWTDhBsukMDOEWUMYvBob5ClhNz+ID+pDTwRKP6WwmEZFIpie7\n",
       "tkKtcb8B8cVfoOkBDMwCmPqnMikAU3KACsJ05t1gcAHE5gKlg4kJXB8QpnOKMayHadZeBiLZPjMw\n",
       "vA9ATV9Q8BRiuhKQmYApqwhMaRwiEEugpjc6MKyGy89eATId6Pb3BgwMezH1c4FDRsEMa1J7A0xo\n",
       "DLwfGBgNEKbfZ2AQRph+AhEyDFylGAbwQGJ1Ae78x3iAIX8CwnQZBrafqCEDilV9YAjswtTP6XAA\n",
       "lCIdkGISEu5g+7iAkv0BDP6INMPxFRHA0FhlOMPA4N+AFu4cVrYgqy1BuektjlwISjP9CgynkUz/\n",
       "xMCzAS1FQnMTPM002V5hSF3AYAL0D8v1BI69DnhM5w5g+YyU3rcy+Bug5SZ2BQ45pLzBciijgSHM\n",
       "gaFVDcT5vV+BAY/pHEuDfiKZ3hWqPwGtJOAwjXoANb03dBLDXFBp/SiBgZUFJGnJtACf6fCSEpZX\n",
       "/fG4pI7vGwMo4FhagGmFFSxspn3VAIcOAXieQpi+GrfpvBf4BDhA+ZAVZDozWDz3zF4chSvE1ZDk\n",
       "DjddGLtaUPnOqMC6gK/mzJmjTKCQYSZUG4LqJub9tcimW3+/gD1vAKX7E3gCwLU/xzJgrDoRMp0J\n",
       "qV5lfUCwXmVMeP+AwQ7EjV3AYErtZgDnUntg3gQlQdbvNr+o37DwBuKYM0dB+X8C9U2/DGOwHXNK\n",
       "o7bhvL/hkdNqGwEAfXfFnFahWOgAAAAASUVORK5CYII=\n",
       "\" style=\"display:inline;vertical-align:middle;\" /></a></dd>"
      ],
      "text/plain": [
       "<IPython.core.display.HTML object>"
      ]
     },
     "metadata": {},
     "output_type": "display_data"
    },
    {
     "data": {
      "text/html": [
       "<dt><a class=\"ProveItLink\" href=\"../numbers/number_sets/rational_numbers/_theory_nbs_/axioms.ipynb#rationals_neg_def\">proveit.numbers.number_sets.rational_numbers.rationals_neg_def</a></dt><dd><a class=\"ProveItLink\" href=\"../numbers/number_sets/rational_numbers/__pv_it/axioms/9e8666facfff35569025f0b19169c32d4589a7fe0/expr.ipynb\"><img src=\"data:image/png;base64,iVBORw0KGgoAAAANSUhEUgAAALoAAAAZBAMAAAB0qCmCAAAAMFBMVEX///8QEBCqqqp2dnaYmJiI\n",
       "iIjc3NwiIiLu7u66urpUVFQyMjJERERmZmbMzMwAAAC8H5PlAAAAAXRSTlMAQObYZgAAApFJREFU\n",
       "SMetlVFo00AYx780Sb2mbdiDzyOI+CKyCuukajXORxGDoFRRyIsiwlBw88lJUffgZDQKPop92UT0\n",
       "ofg4qSvCtLo8FFR8kyL4JKOFgeKG4HdJc4nmks7Rgzb55+5+d/fd/7sD6FOO6+xVLcc1XC3Bf5d7\n",
       "Of9dtGKb3m9zB7VXnkZ2OQGboeePIjlb49TMPjHJYhNSNpZmqHbfZuhpjVzH6qucqndfcITvUSHt\n",
       "Q0+8ov9HAA7w6bKOC8rcrW6JLk2b9PEeYKTMpaeTLRzCam6FLl9zl7wO8Fjj0i+raLmUXoihJ0dL\n",
       "ZwJ0T8LtKbcN+Y10A8ShcPeHCQ2dbOwMTPGlU1qOeEatZirdAN2Tc5O9Dsk1gI4BUjdM/+bSd/Cn\n",
       "nhjGqW0HpebTPam88Bolce4dzIt6uL/iREYb48LVt7hr2S4IOZ/uyVlG70UGlKkQIOPuaoRnUjh3\n",
       "oQFXLJ/O5IQXGbqrIxiBRU5/vUEdqYfi7o73HKBi9DLWpTPJdhVszOnyP3En+4sL+CjQbFqFaM9U\n",
       "NFgJ0j3pO7KXTcwzt4of4UIVRnE90meT1PUYetqQ1gJ0Jv1s2qaR4UCuSq8vleG0DjO7qNhY0iCG\n",
       "TuZP/grQmfRPApI/2+7R5049gEfUD19NkCVaWUhU4+jgRdTLVZ6xwaWTm+oPoH6V7mDgZOfz2O5P\n",
       "uQj6Xse1tb/oSi2Snm2pQ4TmoUzpovN9wq5bcee7a3dGF/hToee7oMlV9YZtLydoZMR+d1MaSeLS\n",
       "dJDuydDdhNUVM2MAjTNZwF0d73v17fHtJLf73quC2WnDISrPVyHfgMGW1PxhzE1qQfnnwXUYeDmG\n",
       "v3P2Ms1/a/D0D+zkfDN+cdDw7AbbnJli6Q/n/LicDCTAGwAAAABJRU5ErkJggg==\n",
       "\" style=\"display:inline;vertical-align:middle;\" /></a></dd>"
      ],
      "text/plain": [
       "<IPython.core.display.HTML object>"
      ]
     },
     "metadata": {},
     "output_type": "display_data"
    },
    {
     "data": {
      "text/html": [
       "<dt><a class=\"ProveItLink\" href=\"../numbers/number_sets/rational_numbers/_theory_nbs_/axioms.ipynb#rationals_non_neg_def\">proveit.numbers.number_sets.rational_numbers.rationals_non_neg_def</a></dt><dd><a class=\"ProveItLink\" href=\"../numbers/number_sets/rational_numbers/__pv_it/axioms/2d7c0fe022a9464a8d4b351f825c8840670441c40/expr.ipynb\"><img src=\"data:image/png;base64,iVBORw0KGgoAAAANSUhEUgAAAMIAAAAdBAMAAAAKp674AAAAMFBMVEX///8QEBCqqqp2dnaYmJiI\n",
       "iIjc3NwiIiLu7u66urpUVFQyMjJERERmZmbMzMwAAAC8H5PlAAAAAXRSTlMAQObYZgAAAvZJREFU\n",
       "SMe1lk1oE0EUx1+S3WSaj20Pnssi4sEirdi0Rhtd24MHERdBjVphL4oIohcrgpagFtEqiYInEXNp\n",
       "RColeJJKaBCqiV2koFIPRYLgSUsCBT9aFN/sZj+S3WziYQeSnTezM7+d9/5v3wLUNzbaBy61jqxy\n",
       "GYEtbhHg3Az9vwydSfcQ7wDIX/DwrhHgegm4HxAQLBMHjCHO8YQriVaIF9wvCIiNw5Om4PvSjjvc\n",
       "K9uC5YWnau+EgGfwWAgHoR1CdAR3j+RsZm4/kchsETtklKdx6LTsMdiUcPOT3g3xZAynL9gQSp+R\n",
       "8i0JZCjdREvNCdCT1Xp7AXbZE1gBDxa+lSHLytqTNvngQICHM7XOW4DepC0h5F9ETLrIqTFity/+\n",
       "FwG+l9TrGsBj3pZwlkMpdggxB4FQgr8/ccxE0Ey6wXP6T/4gQQRfl3X5Ay9mGCduqh/1vVSaep5p\n",
       "KkMpWDURNFPJ1DGKXAWoiMBUrYSvKmGjV8ZWtDuCtxsfcQMEcwZBN2nbR5/Dj2eoYN7kreuDipf4\n",
       "gaY+4t5IqPMqePoMgm5iO7rD5CUIXrRsEFYjnXF46+IZPAU4nzYIuglkUNQj3YvemLVZLxSoWgXb\n",
       "OKjcZwApsZbZKkE3/UvaQhlzP9kQB7IzTvMlRjNuBZy1lOJhwUyomf5pviHjdC1di3+AUxnoxxuY\n",
       "JYnkhRaEkMismgiaecfIjgBPuk05zbw6k4QjAkxspsb6nHNJQAKZOvTbRNBNk0eix8s1wt3D9+ER\n",
       "1cgXCViGTsa8mVYE0Dys5bSd8EElkHF8Q1MtMzdQQ6wyPNDz0an+b1NUnasjBHNNCZFFrovQHGEp\n",
       "wadmpZx3KiyKbGr61wiqOXmJtnHjVlofPDyb4a7I8ryXesnXTnUN4W6+uatmgmZaahxOp6SwCNTv\n",
       "JIuRHm6rgG81pMaWW9Zpj1Qpw26lFGQgWnDjy2tqD+YwlSf7c2jNnY+W/fgblefpuyLtDuG91vG/\n",
       "Hj7tBiCyrgdrIp74BzeC0oE9I4RiAAAAAElFTkSuQmCC\n",
       "\" style=\"display:inline;vertical-align:middle;\" /></a></dd>"
      ],
      "text/plain": [
       "<IPython.core.display.HTML object>"
      ]
     },
     "metadata": {},
     "output_type": "display_data"
    },
    {
     "data": {
      "text/html": [
       "<dt><a class=\"ProveItLink\" href=\"../numbers/number_sets/real_numbers/_theory_nbs_/axioms.ipynb#in_IntervalOO_def\">proveit.numbers.number_sets.real_numbers.in_IntervalOO_def</a></dt><dd><a class=\"ProveItLink\" href=\"../numbers/number_sets/real_numbers/__pv_it/axioms/b7aad2ab06bf7d7bf513a2843d81f9f2979e26ea0/expr.ipynb\"><img src=\"data:image/png;base64,iVBORw0KGgoAAAANSUhEUgAAAc0AAAAVBAMAAADWcajYAAAAMFBMVEX///8QEBCIiIhmZma6urrM\n",
       "zMxUVFQiIiJERETc3Nzu7u6qqqp2dnaYmJgyMjIAAAAcRTyBAAAAAXRSTlMAQObYZgAABRtJREFU\n",
       "WMPdWF1oHFUUPjs7s7OZndn44EMRlCXVVIrokiIi2ro2iChI1pfqg9AQbbEgYak/xdqG0ZduFOn4\n",
       "g+1D1GkDaQmlO9iHkiK6bIXKltZFC0kKhUVpSxVjCAg2gnju3Dtz752Z3W3smwe+bnrvOd+Zb/be\n",
       "c89dgJ724NX4WF+LApKnJJtjiNrnDJ1sridzV5vjsK6XoE3GrnQL+C7B5zhDgonDxrsVgIxDETHD\n",
       "pojZ/LqDS+taCTHHb1WilJbALMF5MvFrd51xnxsMCSYN54uYtU0RsbxDEbf2DLy44PIYJ4m5q4lp\n",
       "CVDnYbIg7O46Yz5WkSLB5OF+D/9pMMj2E0Pc7CnI9o3ymF+SmNFyCRvqm3IsbcPXmXfxw+uuM+aj\n",
       "OxSCvAN7JsIpbiMYCUcYZHubIU6BOtNOO4zRDrgJzOj/enw1zD8aT3vE12k1Z2cPQXedMZ9DDKFp\n",
       "77nCFLdz/ioqUchFpUKRQOHrtMOYzNZCAjMo+9zYo25oJqRFoE74q1rd10NnzGc9w9HBTx/wH+Kk\n",
       "K071PT50F/3ftYHH8G0WKeTHLFIYA7u2NmQK1JlRR8OYk1BJYD6xOyg6AQEY5wqQkBZBdO4AmAwy\n",
       "qEvJOkUfYh9SGHVrt+5Xi13S1JNOfplm/setOWChi+W7XVwi5u+3bIviBMwXJmQK1Hl6ixvEYBU8\n",
       "H2ee3h94hwTGI8G5I6dFEJ3DYjE8yz5P3//yz4LO4UjBfIfCdM1V1d8ktjhl3A1pOpBbhf4C5PD7\n",
       "yFUib0/3KJrwg/uMTGF/tGeCVAMWU4EvYsyZ30LvkGA8rCByWgTRqYPCz18Sbny9qaWY0CxwnZIP\n",
       "2p0UBmTp02n3kO8pmEqvgk6D022o1UHDr0BbjuhMlShcqEYp7KnhLFnENMYqQKYcZZ7hOgMCg+uU\n",
       "0yKITrOl8+w3EQtzs4A6L7e4TsmH6wTy2kA+dHA4ZUOtHJxjI153nQArUQp7Kv2UHerUXdBGY8yf\n",
       "7OdUK6yyhetWTst09rW3kfU+SA4jbWXQVcnuJzrrXCf1aTw8WJbWLcB2NnCHuG7xXX7Ljs8WPOGC\n",
       "iotHrfD9eU1ct6D9GaXA/fn+jxDEnAo6BImZ16GQgNchOa1K1y1MvoIub2qrRN5epZgHqnNTkev0\n",
       "fRR3XC9JdSjnPoSjZGBIrEM1D8Zz/rbtL+GOEuqQYEEdOqMsw0aZAnVuS5eDmBtMq8zMz5WQgJ8r\n",
       "clpWh+AUak4XNfLysgWrPe2TpHe+IdQh30eD38VyhRjxDrJOXPeEKWR5y4Qapsi0svi20nUKyVjF\n",
       "V//OLtP+nFNg32d6O1iMZtO1KzBLfQIn4H2CnBbh6yR7LOUpo/6mSY++UK1WC4r58SVRJ92HN4Oh\n",
       "pylmBo5upimMV5/lU8bYfZ/dC/pe/GvoAtkuZQrJ2IoyxjauvyJTYB9/Fap/eDQmQx5RKYjMUt/H\n",
       "CXjfJ6dF+DotfFk1J3sZP/rdlJeh6zb3kivotGj90zr2fer3sb7vTPDHMYYefV9IIcaB6v9ZTuj7\n",
       "etkxDjPoxlLO9ufgsKu7C2CW6f5sCnXIty/NtrmWPj5cqWvt48W4jjeE3ib38exdjn21GZ73tNfw\n",
       "4T4gfcLF+vSWiM6ZS41mwDEJkQ6JWzBsBOdvh3tZ1qHofItsd2C+xUuofC8TjVYCBfdnpO9LvEz3\n",
       "uGdbPQR1vGeLcf/tni2lzTpRnbnkt7vhNn83WWRY6+8mi7f3u8kih3Jd0mnB/9f+BbdS5pRTRqZz\n",
       "AAAAAElFTkSuQmCC\n",
       "\" style=\"display:inline;vertical-align:middle;\" /></a></dd>"
      ],
      "text/plain": [
       "<IPython.core.display.HTML object>"
      ]
     },
     "metadata": {},
     "output_type": "display_data"
    },
    {
     "data": {
      "text/html": [
       "<dt><a class=\"ProveItLink\" href=\"../numbers/number_sets/real_numbers/_theory_nbs_/axioms.ipynb#in_IntervalOC_def\">proveit.numbers.number_sets.real_numbers.in_IntervalOC_def</a></dt><dd><a class=\"ProveItLink\" href=\"../numbers/number_sets/real_numbers/__pv_it/axioms/66c7f9c94d118c46a464b980a03e62f2083a07a10/expr.ipynb\"><img src=\"data:image/png;base64,iVBORw0KGgoAAAANSUhEUgAAAcsAAAAVBAMAAADbb9ifAAAAMFBMVEX///8QEBCIiIhmZma6urrM\n",
       "zMxUVFQiIiJERETc3Nzu7u6qqqp2dnaYmJgyMjIAAAAcRTyBAAAAAXRSTlMAQObYZgAABSVJREFU\n",
       "WMPdWF1oHFUUPtnZ2Z/Z2Y0PPhRBWVJNJIguKSKiratBioJmfal5EBpqIhYkhPoTqG1YRXCjaNcf\n",
       "2j5EHBtISyjuoA8lRewShcqKupRCk0JhEGpQMYaAYCOI99yfuXdmbmab9s0Dh93ce853zjc599wz\n",
       "C9BR7r0aXcu2mYJ+S5X8ShkWtoTAZKETcLwsSMUMPFy7EufwrcbmFFeNqMvWGxMAdhlSda2ZFuHS\n",
       "tiOr2wijiM+p62VIo6K7UJLB97jxWzzNqM2vXDUSWC6UaBDL05rpEbw5GF5yfJ+sFngT6auIqOgu\n",
       "lGRwHJGq8TQjNvkSU40El7tdGgQWdWabIFRnIJMd8X0KJR0wkVzkMFnni35U6s6VZFBwyIcbTzNi\n",
       "k64zVdJ+e3LK35Iy5DCan4VBYxAITaPu+T7DB0EDTOxfDld19oG2jErduZIM8q35+WMQTzNic4yr\n",
       "L+abjrIl5TwwmoVyCDQGgdKs+j6jPTpgSBxywizHXSUqdeeKGfxdqx3qQDNis53rid6P76F18rmj\n",
       "bmUfHriN/fVLz0M0iB2uOIFg9ex/bDGIQGimkiPCx/LSOuDTB0ShCgDzff9RYlTqzhUzGAOYFvvJ\n",
       "VT1N1QblPaZWM38gTTvF/sDWo/XCGsvhX6dRxyB5tLJXqZQUBDgNl4pTQQRC88wuh/uQw8KPSwB4\n",
       "9rCw9gFqFf+IYlTqzhUzGFT74Df888zdz/+s0BwM9crXmdqOvZGkJ6Sqblm3g8EWchvQXcQguYnQ\n",
       "s+MI0IKfnCeCCNUPJqeQGfNJQ9aLAKd+9619gL5+vzdhVOrOFTNIQ0Leu+hufbWjnbChVZQ0AzZE\n",
       "bmVqQYZlZ96B/yaxZWxAmjkbHjSaGMRcC9HkCOBALYxQnRnMYAUznwu0lkLAc5KmACAXbot/oVGp\n",
       "O1d6bNppGf0a0aWFeSA0L7clzYCNkiQ+NQjeNmS5qwqNirgMhtxYmgDrYYTqjPF41adJ+uyeKPBH\n",
       "hyXUuvjy9YMgo4ZpZj2Eme3FW8hc73WSeHaQZlPSZDaL9/dWgiUHe/nCLWo1kkd5jl+bbXjEwSDJ\n",
       "CXk2RwII5l9hBHI237kA3CdHsinUI8CyBfkARJ4ek1GpO1fMAKZHSfm9am4gu4OJUgEYzR0lSZPa\n",
       "JJzxdDnQgnLOfWQVFwbUFtRwYTxHU+suk+PktyBNE4OziTXoDyIQmnuMCvdBirlSBFheKD4AvWPf\n",
       "8qOGWxB8SSgbJROfXaaY92YpiPHCK0oLojYm/KF2KqJD7hH4hN3drrJFUF6zoUFCpNoZ1s6NZogm\n",
       "R0j+k1ljI7lEIMOe7Y5xn2FeuApwYDyQAFSOYnXRqNSdK6WJ56vLTWAtdZWNkWdrtVoxYX94UaXJ\n",
       "zuA1sbSb6VzPiZ0shPXik3LL2nfX0TshTZKzBn7g40ElRHO3MO3ffiWIQEb3q1D702U+o7jUEwAO\n",
       "DHsSQJn5MCp150pp5sl/v1HPXCYf3U6Xm2JFm3vOUWjmWeszNx3Vkt9Fhr2z/BODnOw87PkIQqgP\n",
       "PSWmbtjrJCel2mJw6KrvfQqOO2lnCewKO5stpQVR+dT27K2M7k2F5lZGdyGLce8EnSU4uvNHue+L\n",
       "nfCMa75EcnsXx4Mfm7O7QjTnLi6Km4nORNN6eLFsFSVNzYtYDAL39zYB3sR8ZRKlororL2KqsC6Q\n",
       "IGczNOxd/0uxXM6DpJmpbwWBSeaGX6t9d6FBmjl99ffd3I8kiZUyLN/AjyTLN/cjybJUzECtfvjf\n",
       "yn+XddxXMjmr8wAAAABJRU5ErkJggg==\n",
       "\" style=\"display:inline;vertical-align:middle;\" /></a></dd>"
      ],
      "text/plain": [
       "<IPython.core.display.HTML object>"
      ]
     },
     "metadata": {},
     "output_type": "display_data"
    },
    {
     "data": {
      "text/html": [
       "<dt><a class=\"ProveItLink\" href=\"../numbers/number_sets/real_numbers/_theory_nbs_/axioms.ipynb#in_IntervalCO_def\">proveit.numbers.number_sets.real_numbers.in_IntervalCO_def</a></dt><dd><a class=\"ProveItLink\" href=\"../numbers/number_sets/real_numbers/__pv_it/axioms/ad94ecca3c0af3769bedd1e7b18be7febaf450730/expr.ipynb\"><img src=\"data:image/png;base64,iVBORw0KGgoAAAANSUhEUgAAAcsAAAAVBAMAAADbb9ifAAAAMFBMVEX///8QEBCIiIhmZma6urrM\n",
       "zMxUVFQiIiJERETc3Nzu7u6qqqp2dnaYmJgyMjIAAAAcRTyBAAAAAXRSTlMAQObYZgAABTBJREFU\n",
       "WMPdWF1oHFUUPpndye7Ozm588CEKyrrVVIrokiIq2roaRBQk60uNIDTEVCxIkGAM1BrWgrhRpKuV\n",
       "tg8RJwmkJZTuoA8lInVJC5UVdSmFJIXCoLZFxTQECjaV4rlz79yfmdmf6JsHvu725pzv3G/uveee\n",
       "WYCW9uDl4FiiTtGG9wJD2wxSXCCifVsQSF3Ng0PGLjULOBvic5whzFuY8d6bAJ1lCp81ZFjqPrja\n",
       "XQ+JOd6uQiUtgZmH78kffm8uM+jzG0NzmZDOYVKHwmeNGZw5GFi2eExCjpBNG2s0YzktAco8SpiK\n",
       "zWUGfFI5ilYyu2z8Z5FBsSYMxSmIJwZ5TDonImQ7MRoSe7oQSLvoykxb+GE3lxnwiZUppGl/MD4R\n",
       "lNmPgTDNoFgTBpQZKTs8ZmCfiJDs0LthG/6xYNppV2aqNj9/BJrLDPgcYeCmH7DCVvOcuxx5CmiT\n",
       "wZVZ5DHDWREh7PAfITPdWgtJi0CZ8FeptL+FzIDPFoaZns8eyJCBk5bkfejMPey/V7KP47PMUUAY\n",
       "g5Hd+/SiyoAyO6ODXozhxERE4oneO+kS/8rrjUcAxrkMhKRFEJl7ACa9mOhquEzZh9jHFEY1NRpz\n",
       "K8VeyTt6B1xjU7hlVcqQQg8CMFddy0kMcAKWMhMqA8o8tdNiMXhY2HEh3k+V02vke/x9cUQ9AuMR\n",
       "78JR0yKIzD65Dp5hn6fuf/VnSWafr1a+Q2Fa5kbUPTJFSeZ0HR6l35Mb0JWBJJZ3AghhgBr8ZD2n\n",
       "MhQ/GZ8gymhMDBKOF2HcBRHXTxvla88JRnjxUNMiiMwYaOLeJTve+GZ7XTOhlhEyFR+02ykMiNPZ\n",
       "6XeTZWLeT1rAimDEgUoVdFwAfc0nkzGABSU/Q3GqL05U0Jjz7l6i3pENiNFZpfZ7Oj0CQ8hU0yKI\n",
       "TLMeE9lvIJYX5gFlXqwLmYqPNEny1EC9bc5CNxjX+V3QbzeXCbDuZyhORZ4pcplYZ3d5ER1FqBTY\n",
       "iv3CC+86u1/5plXTMpkJh9DM9pAmTV/vsaLk7BCZVSGT+iw+3FNQtxzsZgO3CZnG35BkorrqZGmj\n",
       "uHMIvLM5qDDo1/0MeDY/PA8sJomzSZdZBK7Rt7yMXGGpPQJRgtS0UbppYXIYXcb0DaJun5ZLA5W5\n",
       "PSddEcRHs0ZieaUEJa2HcJQM9Eoyb0KnQxvSrjyeJlGCQooYfK2twTaVAWXuihRYDJGY9IpWxYaR\n",
       "pLeKesmdDCcQF4qalpUg+AolR3I6eXbxTMqZdWVGXntL7muIjw5/ypUK0W8fhM/p3W0L7wOwNFg1\n",
       "buH3znocZxipUijGGKI342u0JRcM2OyZ9h4WM8A2ruuN03vbFK08ObOCQLQHalqEK5Ocrw5bI3up\n",
       "Ix8ZfKlUKmU089MLskx6Bm94Q89SzGVndtAUxuvPc++57MtDeRjHVTZ6fyALUqBQjDEYQ9u2XFIZ\n",
       "sHW/DKVrNo0ZJkNZ8LzvO3yvr03nBKLZU9MiXJkpnFClHL+IH11Wh91JN23yFbmvSdHSpzds1aLf\n",
       "+Zq9JC/5xxhaNHucQY4Dd2PqIc1eSzsmYHo9WEd59wtw1IpZy2AW6NmsVX3t2xemY7bfuovNtdnW\n",
       "XY7zRWzG1NadPcqhL3fAi7b+Bmr7iLQHP1Znd/omPndhseZxTIKvLwrInOHbKvxFrDGDFBeIYHZy\n",
       "nNhYq3DpRUw2WgU0PJsNX63afq3mZSFepmibQYr7d6/VStp42S8zGb77t27qR5KA9wrDZn8kWflv\n",
       "P5KsCGhXFZkp+N/aP0mw7Rua963xAAAAAElFTkSuQmCC\n",
       "\" style=\"display:inline;vertical-align:middle;\" /></a></dd>"
      ],
      "text/plain": [
       "<IPython.core.display.HTML object>"
      ]
     },
     "metadata": {},
     "output_type": "display_data"
    },
    {
     "data": {
      "text/html": [
       "<dt><a class=\"ProveItLink\" href=\"../numbers/number_sets/real_numbers/_theory_nbs_/axioms.ipynb#in_IntervalCC_def\">proveit.numbers.number_sets.real_numbers.in_IntervalCC_def</a></dt><dd><a class=\"ProveItLink\" href=\"../numbers/number_sets/real_numbers/__pv_it/axioms/b9709520666edabc9d7aaf00f72cd19f0b37dcb40/expr.ipynb\"><img src=\"data:image/png;base64,iVBORw0KGgoAAAANSUhEUgAAAcgAAAAVBAMAAAAwWGOcAAAAMFBMVEX///8QEBCIiIhmZma6urrM\n",
       "zMxUVFQiIiJERETc3Nzu7u6qqqp2dnaYmJgyMjIAAAAcRTyBAAAAAXRSTlMAQObYZgAABXRJREFU\n",
       "WMPdWF1oHFUUPpnsz+zsT3wQqm9jAqmEWBeq1IKtoYIiVN36oBGELtEKAStrTAiaWoJWMqmkLlbS\n",
       "vLSMCQQNNV3sQ6lIXeyCkGBcUEgJWlZjK40QQ1CwiRbvuf8zs9lN6psXvuzO5Hzn3O/ec8+cWYB6\n",
       "w1jOBG/Gygz1ra/2QjwftDvNsdEIck7DFgbSBcgMKnjvxxr2iY4UfiQ9kj7mqGKtW20jf0oA3QEz\n",
       "a5AhMJKvObd+GoEgp6p11UGjdmsowSzeX6opMlEgHylXv3mDo7ZIWGQipwNmqTxDcKSsbHjkuOLk\n",
       "NYZnbA8mmNEno05rKMEYJt9gTZH032Oe9U4z1BO5zkQmbL/ZdxzBYcaKMDiqOIsaQ9/YrwM+4WyP\n",
       "iop0gRLdIbpVG4ukGz2r34vmGdS40t9fCYgMrTGR1h1+p29wBB2gyN0pyQkPuYqh1YRdwYJw8i0t\n",
       "KtIFSpCcmZo6BbVF/jA19UlOv3eKQ47Otmo7mcgxkfCLv27lGKo4oCJNyYnssyVD478a3JbR3/So\n",
       "lM5BZvCX4xypI7LJcYaK+r0WjvHWD9txEtaSnq4nL9/Dlj/V1VKgIi/7D0+awWru3vcVeBygyOxj\n",
       "kjMNOcmQjsMnxFJKB9ApF5JGpXQOMoNDAMMyv5arioxkwPQk5wiDVUz2RDHJInnNOnQ3/M4uzi1Z\n",
       "N6nIq3g1t4yDnjGzzHAW5u2j4HFARMZfXxIcckrYOUFr6diRNUc6MN+Vk6NRKZ2DzOBRsCrSQCz5\n",
       "hXtf/FmbdtpXIAcYEm5iLYTTM/Ul+agMD7GLL11YpSIv+BYuWmCYgW/dJ8DjwIxt66eJxzg5OCMZ\n",
       "0vF2kdvKgdEjqz+NSukcZAZRMNQhRvfWFzvLRgJmbJWAObjPM8k7GSwwWV0+gHskCs8jLvAytxes\n",
       "v6nIgz6RDR0MLjjgc2DGSunjIDhJG9OIM5Tj+RnuSDqA5BGhkkaldA6s7+Woin4T69zFKSAiF8pK\n",
       "5DeQqyYSoImtxJi+k3eB9aco/6H1miIB19zrgKTrA51SZNSFcFYwlGO4tFvYr8omZzGvRfWJjFWe\n",
       "Jd8nWq/hiV5tdUN4xFFkUYk8g5ESLc8c8qYrccFOR4MmkixjfIVd/AONa1Tk4+pMXtfTFcJ81g26\n",
       "SPNTW3DOi6aDWGuOAZ7iUxEOsKBcz6iolM6BMxh+iSReXxifLsabRpo2cUTkzrQSaY6SP22RSq+3\n",
       "8MTd+8HALGm0NZHrEKlcpBd/4DGShUd/4vPC87mxAvR8KQdEZDj7oODc4ELRWnOM1fQY/pUOqGCn\n",
       "Q0b1FR44T1KxMR3GhDTtZGWCimx8uVd7KMR3kS+ZVFmvTwRPF97nffOAlq5vw3y2aN0iF4fhHRbi\n",
       "YX/FTlOE1s0V3uYPaG0dzOI5RE54kKUsY1DH6rlIbDQH9PFJt5dGpXSOEj9XDQUjSzO/Mfuc4zi2\n",
       "kfjge/3xTjO/SdZ5ngeTzeN7WIjJY660nmx+vqsD+smNifYyC3HNJzKUo7C62lr4u4FwgA16xjyx\n",
       "zjgRjG3YnMEce5o75UANGpXSOXAGSeL+XN5cIB9NbkMhwtI1/oKriVxgpSCzYVu3f8jX1sVFscO2\n",
       "Lle/rRMO5PyRE6JfM8G2ru5AukBJlLv8wSdhzI26VyCRYWdypuht1GIrc1DcfIOeACVyKw26dGQH\n",
       "GVsY3gad50/XZ3vgQCH8CpHxHj5C54oTe73Ttg7vb5cP3GHQ+qSqIsc1kcFXLWygzHytWU5XYYhd\n",
       "+rUfh+dVa5re6vPQ1auWPljXa5AzueHL06ZfmsuayOHNvzSDvoy399Ls2YVhv8h41aU1jm7p5w+/\n",
       "9Y5eSN7Gzx/J//bzB9IFdvR6/gP/0/EvKjHjCzqBee8AAAAASUVORK5CYII=\n",
       "\" style=\"display:inline;vertical-align:middle;\" /></a></dd>"
      ],
      "text/plain": [
       "<IPython.core.display.HTML object>"
      ]
     },
     "metadata": {},
     "output_type": "display_data"
    },
    {
     "data": {
      "text/html": [
       "<dt><a class=\"ProveItLink\" href=\"../numbers/rounding/_theory_nbs_/axioms.ipynb#ceil_is_an_int\">proveit.numbers.rounding.ceil_is_an_int</a></dt><dd><a class=\"ProveItLink\" href=\"../numbers/rounding/__pv_it/axioms/d07cafac8d313ba73f4c1953a7db1fda424bff0f0/expr.ipynb\"><img src=\"data:image/png;base64,iVBORw0KGgoAAAANSUhEUgAAAIoAAAAVBAMAAABrmWvBAAAAMFBMVEX///8QEBCIiIhmZma6urrM\n",
       "zMxUVFQiIiJERETc3Nzu7u6qqqp2dnaYmJgyMjIAAAAcRTyBAAAAAXRSTlMAQObYZgAAAi1JREFU\n",
       "OMudlD9oFEEUxj82t7nbzdx5hWCquCQgkuowpBOJsQhKiqu0CeRQI14RiSBYGIJo4V4k4bCIdi4E\n",
       "RA45AhaipFguFrIB3SKgCJEzaKHgcgqCYuPM7M7suu5eotPMm3+/mffeNw/YpenLXoUbmufZ+K+m\n",
       "udAqIbCduKmvDvCV7RTKQ0QpiFEyl796B967qAKbbPw5hfKpK0W5WUY7BzSBe+zh15Mh+VJXSo8N\n",
       "svYcIAYKFu3WkinZeiIlf+vqAqdYWFHpRXoReafRuJviEJv/m6LesOTMYo7ZH4AfpjmfQhkKKPpg\n",
       "dbwlKc0Qkjd4XjaAGaCWQlkKKI/w2liQlGokhzqP6DvgxJ86eHL43I6wrwUUB6+sk5ISScVMb52f\n",
       "oSGE4gpZrY+4CoFjBOP9AcWCGcZFHfBo8wVTmuT9NE2QmxXoN08boJS3bowCfAspEVkU2LscTtHa\n",
       "p+lEa/RQOVNiUqIUO+YR1O+RHBUlZZOM8eEEtWvn6VnrUnasAJ8yUopF95nSwbCkHJG/rLJCRVPk\n",
       "0cXjOXoZvgCrnNJz4YrYtuFTMr9yHc2VlKzQaM5ahD5LnTpKB/t4MH8CZ0zTNBRyZ0tQJnyKfnZ4\n",
       "aDv0SL94yl8+vtxvHuynD//IpMNUpHZU9Poe9U1Z3X9A5oX/A2TFmAuM+6RNQMp+XBx7b79RNCKU\n",
       "8WCrRTN2mynopb16TKzX9kRpxgoGjcs/VKnIXbtVTD1SbCvJVaiO30pZmvo6YvYwAAAAAElFTkSu\n",
       "QmCC\n",
       "\" style=\"display:inline;vertical-align:middle;\" /></a></dd>"
      ],
      "text/plain": [
       "<IPython.core.display.HTML object>"
      ]
     },
     "metadata": {},
     "output_type": "display_data"
    },
    {
     "data": {
      "text/html": [
       "<dt><a class=\"ProveItLink\" href=\"../numbers/rounding/_theory_nbs_/axioms.ipynb#ceil_of_x_greater_eq_x\">proveit.numbers.rounding.ceil_of_x_greater_eq_x</a></dt><dd><a class=\"ProveItLink\" href=\"../numbers/rounding/__pv_it/axioms/ad0a500cb13782c1142c44fb77ca5a5ab8de8d5f0/expr.ipynb\"><img src=\"data:image/png;base64,iVBORw0KGgoAAAANSUhEUgAAAIoAAAAVBAMAAABrmWvBAAAAMFBMVEX///8QEBCIiIhmZma6urrM\n",
       "zMxUVFQiIiJERETc3Nzu7u6qqqp2dnaYmJgyMjIAAAAcRTyBAAAAAXRSTlMAQObYZgAAAhlJREFU\n",
       "OMtjYCAAuPreJYAZnO/eHWAgC3BeYOBMQBj4AKsi7gkMDGCZuzhMWcGAbAoDdlMYMhkYToPoVzhM\n",
       "eYnFFK7iBWiq1jEwzAA5vAG7IbwG2NzC/WwCqjIeBQY+oMk8G7Cbwj4Bq49YngWgRoAAA++pVaum\n",
       "4/AQSBxbuLB2OKCoe8LA8KOjowaHKcpQU7iUMp0OIYcuZx7E9YvUpugoMDAcZmBIZWDoxGFKL9SU\n",
       "NQzXFepQ4ojTHBQ2XAd4i9iBgvcYGJxR08F2jeRHMHY11JRTDOcXeKKYwlsMDtYFPL9YgMZtBwYh\n",
       "A9MFWDDtMb7AxMNwSgHKF4GasoChAzW9MNWAY5uLgQMcu/FAAy+wwyRv7FzFADTl1gU0UxgYPqGY\n",
       "sqYIpoNfAWoK54MwIOOQqVoAiwHIGqApB9B8xMD6FdmUybVwn8WD49wdiDtTgHoX5LE78DFATDE2\n",
       "QAvdXUwfGLTgpkx7Dc9BC/SBOsGhy7C5AGgZw1sGhsVgU5jTSmCqDkNMYfnN8YHzAjwHtMBd4r+h\n",
       "n2EukLaB++0nA0N4R0eHAhPPpCswVe4QU7iStJTvYsuNy5QW2YJMfwqKNVB4s35gZWCD+Ig7ZgH+\n",
       "HIBRBBVAGfN5HvAw8ARAwuXUAby5EQPwwFLGsiuHTjEwdINS3bkDi+1g8p3YSobn5SAQgFIyIAMm\n",
       "YLiQUUp1Ei4xuZAK2wTspdAEBgA4hZXtUbDWswAAAABJRU5ErkJggg==\n",
       "\" style=\"display:inline;vertical-align:middle;\" /></a></dd>"
      ],
      "text/plain": [
       "<IPython.core.display.HTML object>"
      ]
     },
     "metadata": {},
     "output_type": "display_data"
    },
    {
     "data": {
      "text/html": [
       "<dt><a class=\"ProveItLink\" href=\"../numbers/rounding/_theory_nbs_/axioms.ipynb#ceil_of_x_less_eq\">proveit.numbers.rounding.ceil_of_x_less_eq</a></dt><dd><a class=\"ProveItLink\" href=\"../numbers/rounding/__pv_it/axioms/fa19b3a82406e8ef859d26987bbd21ea8924824b0/expr.ipynb\"><img src=\"data:image/png;base64,iVBORw0KGgoAAAANSUhEUgAAAN4AAAAXBAMAAACWruz4AAAAMFBMVEX///8QEBCIiIhmZma6urrM\n",
       "zMxUVFQiIiJERETc3Nzu7u6qqqp2dnaYmJgyMjIAAAAcRTyBAAAAAXRSTlMAQObYZgAAAylJREFU\n",
       "SMe1ll1IFFEUx/+Os+7O7KxK0Eu9bAmyRNCSFD6obAb6EOX20MdD4WYpBCIi2hcKIhZj9rFUWAjV\n",
       "oCFlYgsRJvQwKEFsIQv5kFExlPlQKT6WEHTvnZmdmW0Wo9UDy507c8757ZyvO8DaycOlBf3i3tIP\n",
       "rLfcBQas3birjj8OaPTiY844sdvBK3TXOg28puu3nHmF8Ww8rsPx2nfIInTnzHuLLLyxNpuWFESh\n",
       "QpZEzrzzWXg3uxxRL0YgOTp6O2ec0OrOG/ju1JsHfspyZ848LmzwhkpvbQ+meUfnTYWhnRA2AdNA\n",
       "I9D3b04j2R/5UjpPVANtXs3k+S6mFdQ94JaBT8BeiJrNciJ08rPT14kr5WXswqqqmngGz5vQeZIi\n",
       "rfBxk8e1KWa8E1XwEfsJogouZabzRVmKk5AMpv08nq4kpZDclsETdkedvLyI8X7MazqegU4DKGID\n",
       "iojbevKXUl7T6t3kKAjvvclHoH9QQcIzl8rgQSiPuvLAvFr14v9iRIJfQX2U8QTtMNlP7SqN8jTp\n",
       "lKeStTqGCyTWVPIlWDy+FF7yp8VXEd3IGU8wr7Z+4Bd0jXwNW8hSS359pwhFafFGmBLhlVGuuuIp\n",
       "1ocd5p7ZeFKRcpBFaEZhRs568Ss7iC97v3tkpuKL4RJYveAp6R0PFoFhxstvaqcBe9DKdYth5jmo\n",
       "2niDtQgxvUXdyBgcRj/UJa7TyW2fZ0Ije78Y/5ssFemI/wKOyLIc5KQbs0xBLQh6zslyDyRJERQr\n",
       "fxVooP3UbxgZYTP6fWTrUGXKbV6LDSVU+SstCurMs+xBgR5P/zF6wxvJiyJG7+w7Dilu8dqxkUzF\n",
       "XhhGq8wzS0gGIbYam/uSJkGK6vlLqsJleKN1wEv6LBxmaTZ5HfwyhnvTRqvNa0Na8CTC5rUuI7NT\n",
       "SYDGaGJGHa7ybAbfcI1kmZRdoKl55oyNVxPScMhmZBSM23k0fpYKO4+60PP3McyR/Bl9g0e4StaQ\n",
       "3GM9Zjwx7kv9x3lbXUKDl3VwTqKZ1zJvMl6BeiDb98SYtStw1QnEs/FS2P8Grjz+A+mO56SSZWW9\n",
       "P4nCa+DjD/XX1+GDzf64AAAAAElFTkSuQmCC\n",
       "\" style=\"display:inline;vertical-align:middle;\" /></a></dd>"
      ],
      "text/plain": [
       "<IPython.core.display.HTML object>"
      ]
     },
     "metadata": {},
     "output_type": "display_data"
    },
    {
     "data": {
      "text/html": [
       "<dt><a class=\"ProveItLink\" href=\"../numbers/rounding/_theory_nbs_/axioms.ipynb#floor_is_an_int\">proveit.numbers.rounding.floor_is_an_int</a></dt><dd><a class=\"ProveItLink\" href=\"../numbers/rounding/__pv_it/axioms/15e5633f4ede6449866b953d760fbeb3606addd30/expr.ipynb\"><img src=\"data:image/png;base64,iVBORw0KGgoAAAANSUhEUgAAAIoAAAAVBAMAAABrmWvBAAAAMFBMVEX///8QEBCIiIhmZma6urrM\n",
       "zMxUVFQiIiJERETc3Nzu7u6qqqp2dnaYmJgyMjIAAAAcRTyBAAAAAXRSTlMAQObYZgAAAilJREFU\n",
       "OMudlD1oFEEUx/9sbnO3k9nzikBS6WJAJNVhsBNJtAiKxVXaCAY14hVKBOEKJQQt3IskHBbRzoWA\n",
       "yCFHwEIUi+NiIRvQLQKKEDlFEQXDKQiKjfOxM7ucu5foNPPm6zfz3vvPA7ZoJIhsB//VrADWVDRs\n",
       "J24aqIUrGymU++hFyVz6tjn0LkAZWOPjLymUzz0pxvUS2jmgAdzhD59LhtjFnpS+JujKM4A6yHus\n",
       "W0mmZGuJFPtGZVZQPCyZ7CJSgO3X67dTHOLzf1PMa56emc9x+wPw03WvplBGQgrZXT7U0pRGBLEd\n",
       "kZdVYBqoplAWQsoDvHJmNaUcyyEREX0LHAaJR+3R3jPvlX0lpPh46R3RlFgqpvtr4gwLIQwlT/J0\n",
       "LDAofKXRwZDiwY3iYu7cZE0KpnhM9KdYgoKsQr9+XAejvAm6KMD3iBKTRZ6/yxcUq32cTbT27yll\n",
       "ilxKjNLs8gjmj1iOCpqyRsfFcJLZ1bPsrHcxO56HpIwVu6L7xOhgVFP26V82tcREUxDRxcMZdhm+\n",
       "AsuC0nfustq2KimZ37mOFWhKVmk0582DXGBOHWCDHSKYv4ATrus6Br21riiTkkJOj45sRB6R80fl\n",
       "8sTisLtrmD38I5cOV5HZMdEvPRo46fX+AZnn8gfoEjQTGndpm4KWZFz85vZ+o2pUKePeeotl7CZX\n",
       "0Ivm8kG1Xt0WpdFVMFhc/qFKxe7aqmKSoYrkWJ8qyWXIruEPWymZFEx3sUoAAAAASUVORK5CYII=\n",
       "\" style=\"display:inline;vertical-align:middle;\" /></a></dd>"
      ],
      "text/plain": [
       "<IPython.core.display.HTML object>"
      ]
     },
     "metadata": {},
     "output_type": "display_data"
    },
    {
     "data": {
      "text/html": [
       "<dt><a class=\"ProveItLink\" href=\"../numbers/rounding/_theory_nbs_/axioms.ipynb#floor_of_x_less_eq_x\">proveit.numbers.rounding.floor_of_x_less_eq_x</a></dt><dd><a class=\"ProveItLink\" href=\"../numbers/rounding/__pv_it/axioms/98add49faed595cf704cb238b3a4cb4e6f75aa750/expr.ipynb\"><img src=\"data:image/png;base64,iVBORw0KGgoAAAANSUhEUgAAAIoAAAAVBAMAAABrmWvBAAAAMFBMVEX///8QEBCIiIhmZma6urrM\n",
       "zMxUVFQiIiJERETc3Nzu7u6qqqp2dnaYmJgyMjIAAAAcRTyBAAAAAXRSTlMAQObYZgAAAgxJREFU\n",
       "OMtjYCAAuC4g2AoMZAHOCwycCQjuA6yKuCdAZe7iMGUFAxGmMGQyMJwG0a9wmPISpynqAQj2OgaG\n",
       "GSCHN2A3hNcAhylcx5GDiEeBgW8BkNqA3RT2CdhN4TS/gBIBAgy8p1atmo7DQyBxLKZw5qHZ+oSB\n",
       "4UdHRw0OU5ShpnApZTodgpvC2ucAU7BIbYoO0G+HGRhSGRg6cZjSCzVlDcN1hTq4KR3wgOU6wFvE\n",
       "DhS8x8DgzMCFHIPbNZIfwdjVUFNOMZxf4Ak3RV0LHqwLeH6xAMNuOzAIGZhgYcW1x/gCEw/DKVgE\n",
       "iEBNWcDQgRwu10/B1DNwgGM3HmjgBXaY2Td2rmIAmnLrApopDAyfUOJonyVMB78C1BTOB2FAxiFT\n",
       "tQAWYPIAm3IAzUcMrF9R04tfKpQRDw4jdyDuTAHqXZDH7sDHADHF2AAtdHcxfWDQQkm7ES3gHLRA\n",
       "H6gTHLoMmwuAljG8ZWBYDDaFOa0EpvYwxBSW3xwfOC+g5oBpIEf4b+hnmAukbeB++8nAEN7R0aHA\n",
       "xDPpCkypO8QUriQt5bvYcuMypUW2INOfgnLLApDPP7AysEF8xB2zgEAOQC+CCqCM+TwPeBh4AiDh\n",
       "cuoAodyICnhgKWPZlUPARNANSnXnDiy2g8l3YjGF63k5CKCWDMiACRguZJRSnYRLTC7xcog5nM/L\n",
       "sRdDvBMYAEqLkjiuXC+sAAAAAElFTkSuQmCC\n",
       "\" style=\"display:inline;vertical-align:middle;\" /></a></dd>"
      ],
      "text/plain": [
       "<IPython.core.display.HTML object>"
      ]
     },
     "metadata": {},
     "output_type": "display_data"
    },
    {
     "data": {
      "text/html": [
       "<dt><a class=\"ProveItLink\" href=\"../numbers/rounding/_theory_nbs_/axioms.ipynb#floor_of_x_greater_eq\">proveit.numbers.rounding.floor_of_x_greater_eq</a></dt><dd><a class=\"ProveItLink\" href=\"../numbers/rounding/__pv_it/axioms/837284c4d7c59898817bcc8c12e46ea3d9ff923f0/expr.ipynb\"><img src=\"data:image/png;base64,iVBORw0KGgoAAAANSUhEUgAAAN4AAAAXBAMAAACWruz4AAAAMFBMVEX///8QEBCIiIhmZma6urrM\n",
       "zMxUVFQiIiJERETc3Nzu7u6qqqp2dnaYmJgyMjIAAAAcRTyBAAAAAXRSTlMAQObYZgAAAydJREFU\n",
       "SMe1ll1IFFEUx//uzro7s7MqQS/1MiXYElFLEkWobAb5EOn2Uj0UblaCICKhaVEgEjFmH0uFhVBN\n",
       "GlZmthChQsigRLCFDCSUUbJEvSTCPpYQdO+d2Z0ZnRVp9cJyv845v7nnnHvuAqvXXphDF9a63Qd6\n",
       "zFmBo4w/BiTp4FvOOKFjBTw0AO9p/ytnXkHMgfdk7yKpYeAe6fiOnHkf4XS+8Qa7lCihQCFdPGfe\n",
       "eUceqs/YvV6EQGJw8G7OOL7ZmYdjl21yP4DfsnwxZ54rZPD6Su5sk6z50jPHur6d4DcAkwA5cdfK\n",
       "jIazb/k0nSeogbPepC0/b1NXQ90HVwqYBfZDSFo0R4Knvtttnby2p5QN7Fk1ap144zpPVMQFLmbj\n",
       "faJH5+MV8BH9ESIKl5YO55tSzSUiIWWEn0+Wk1RIbF3KG5ess7ywcT5m1crbkmCWsQ6FRKOWfJLm\n",
       "Te99HhsE4X1J8xHo7lUQ98xoS3izGpx4YFZNnvDO+CxuAbURxuOTR8h8YldJhKMnpzyV9JVRXCC+\n",
       "ps0twuRxJfAq2M5wVMnuTzCrGR6/O/1Z7iQ2ka6K/LpOE4rS5A0zIcIrpVx1wVOkFzvMvLbwxELl\n",
       "MKrYhWVK9nzxKzvIcprHN2Uuti+KK2D5glfk7ngwD/QzI+76Fir6uNnVIYSYTyTVwuutQhBD7FYx\n",
       "JaNwGPehJn6TVm6D99TMaHeU+0u6sozH/wBHZVmWXOKtaSag5kuedlnuhCgqvGLGrwx1wFA3DCUj\n",
       "PMZ9H9jcV6451WuhrpgK/6RJQY15Uh7k6/70H6cL3nBeBFG6cvAExJjJa8F6KjZnKC1fzyyNRBBC\n",
       "szF5KCZFiBE9fgmVvwpvpAZ4S/dCIRbmNK+VS7HUndeVlq3XZmvCyzCr13obmJ4g94Q6aWRK7a/w\n",
       "bARXd4NEmcQ7UN84dc7COxDUs8iv6EpGPji9R8NttLXS4SV06u+RrQqS+BkvMZ7hOumDcqe5zXhC\n",
       "zKf9x3tbWUydl7VwjqGRSy5eZLx8tTrb/4lHbbof8KCt3VEmEMvG03DoAxx53FdyO0ZJJsvKWv8l\n",
       "Cq2CjX85A9Zc3R0oSwAAAABJRU5ErkJggg==\n",
       "\" style=\"display:inline;vertical-align:middle;\" /></a></dd>"
      ],
      "text/plain": [
       "<IPython.core.display.HTML object>"
      ]
     },
     "metadata": {},
     "output_type": "display_data"
    },
    {
     "data": {
      "text/html": [
       "<dt><a class=\"ProveItLink\" href=\"../numbers/rounding/_theory_nbs_/axioms.ipynb#round_is_an_int\">proveit.numbers.rounding.round_is_an_int</a></dt><dd><a class=\"ProveItLink\" href=\"../numbers/rounding/__pv_it/axioms/198140bfeeed1ed9e3333e99af71327455d101d90/expr.ipynb\"><img src=\"data:image/png;base64,iVBORw0KGgoAAAANSUhEUgAAAL8AAAAUBAMAAAAuH/EYAAAAMFBMVEX///8QEBCIiIhmZma6urrM\n",
       "zMxUVFQiIiJERETc3Nzu7u6qqqp2dnaYmJgyMjIAAAAcRTyBAAAAAXRSTlMAQObYZgAAAxxJREFU\n",
       "OMulVV1IFFEU/nZ31p2ZnV0leugha9nNEAnaEnsIkVWJCII2ggrqQewHDFp6CCUSWTNqNYqlB7UH\n",
       "cUTYQoJd6CGMoMGiYItaysiEaKyngsLEIpWgc+/OzOrmLEIX7tw535053z3fOXMGKDWkXMltDBnr\n",
       "uM0+w3V288HmgTv2vt3dYchxwyhLFu3u3bxppquS48+Z/dXGy5cSpy/PwG/6lfWizeo6+BHn+CBT\n",
       "Ir66D1+4BMEBFW8sY6Jos55OrkQ47lcBJbO6D0+yBMEz4IJljBjrVEcHD2Y3pJZDedyXHRsbsPEx\n",
       "UCrBnyGdswx/hC9HayxEVPsM/Hci0WnjI0Sz6UxTkEINReRQACOq8PRWcCeJWl+1BCcpKAfbmkgH\n",
       "hYspL8vlax+rQIafAnptCK7T1G5kujEQkRdcQgW2QxEvIZ1EY1JchEgu7uJdoIt00IuKSY7zCmR4\n",
       "88oauF994pN5f5GqMdOOPaAQO4dcOhI45tExHJUrQZaHUpfFK3Uf4OVqiQU3ZdE2tjDcA6f5OckP\n",
       "a3NOBdmAYa8nSJ4HXIvAL9URwDqo6Qg+MsCjwUECq0TKvopZdj34nUb+tM2CZuJKzmPSTo2PgQim\n",
       "cwUCeOkRRxzSHNWl+yfwCIgxgIgcPLNzBYLBQgQ6RaOoHJf0w6yQ67ZGBZYpRqAVJGJSIK1BWaC6\n",
       "dFYADcAfmQAiYhKBkQICl8hh+VcyT7jJ8d6T5FaNeSJ+5Alqw8uS7CC28hxbrkCMT2MjvItKOoOY\n",
       "N8mS/MA5ixozyS5TW/RLLcAOA79HLG58A0Y5gev0efOxxzSHo/RiC3qAXWgMa9I8FP2tGPC1K6wG\n",
       "hSVxlnVEl2aFzEefqCI1ZeDlnHcBOJJIJAJO5eak1bKMiRfbSO5UcLw1SjFLZzNya1X/Fha/3FoT\n",
       "Yp3SH+UvpC6rfBU2zCS6f/QYuE/lWXKjLC+R97i6llaB5a3itrHuv9qxou+ZOIYVnUKO5nOQ1dbS\n",
       "7GjYN7t/8NTkRBa4xj60l9pogwn3liYQbdu1De6kHKz1h5PvB8VMdif431/me5t9wv8C9Ljg3BmZ\n",
       "/+kAAAAASUVORK5CYII=\n",
       "\" style=\"display:inline;vertical-align:middle;\" /></a></dd>"
      ],
      "text/plain": [
       "<IPython.core.display.HTML object>"
      ]
     },
     "metadata": {},
     "output_type": "display_data"
    },
    {
     "data": {
      "text/html": [
       "<dt><a class=\"ProveItLink\" href=\"../numbers/rounding/_theory_nbs_/axioms.ipynb#round_is_closest_int\">proveit.numbers.rounding.round_is_closest_int</a></dt><dd><a class=\"ProveItLink\" href=\"../numbers/rounding/__pv_it/axioms/3372fc4dcefcb7c740a02bd212cf284165799e300/expr.ipynb\"><img src=\"data:image/png;base64,iVBORw0KGgoAAAANSUhEUgAAAUIAAAAWBAMAAABH64j6AAAAMFBMVEX///8QEBCIiIhmZma6urrM\n",
       "zMxUVFQiIiJERETc3Nzu7u6qqqp2dnaYmJgyMjIAAAAcRTyBAAAAAXRSTlMAQObYZgAABFpJREFU\n",
       "SMfNl2toHFUUx/87O5N57Oy6iN9UGDYmLaHQxdCq0MZt/VBENPNJxQeN0RYKNQSR+iqyVpGJ1bqK\n",
       "ND4onT6IGqVZKFIi0g5JtbCWOmClpqAOPhAVJYRWzBbBc+/M7O6syexU/eCFZeacmXvub+553LPA\n",
       "5Y578K+GZCe390+WUl2c7PDKvuA6vfRjvdSmiLF3EpkK4LHbr5ISvhNrUXqmCK0cCF2V/4AQ24BP\n",
       "2e3PSQl/irWIK6rIhWCa14lwhdmZ8AjwOvNdOSFgthhPOGjj84YwE0+onTIS7KFuIEeRq1cTEsqV\n",
       "eMJTwBMN4UAsoXqDm8TLWh7Z2uTkeFInj8dbxHdQRxtCrhRDqI5UE8Uhvgf+sKydSQm7+TSx93CB\n",
       "PDTTXdK6DRywxU/eKFxPi67ruQSB4kArbNtILtaL0cm+2ieU9pSaGMzKK9EidLD3tVUGJ5wFtgBj\n",
       "SQlf4hZ15Rclj/GStpgW81hN8i5MVbChotShkO/exznjaQratlTx1T6hZbZslM6tRD7GyT4ie5zw\n",
       "a+CWaNYdW/ngt1HLD7x4Y39w+xS3eK88JJqgjd+5L+3BItnDflO7FiTJ5LwaPrNvBTKjUTu+2idc\n",
       "0ddC+Ba3EgkFW6+LFU54jKIfghuif9TvCjpqRuPV92bXU+zXQntXcYv2FK2SrgO/2ykDV3L5G6aQ\n",
       "HaToke2vJ80zk7/xwbbMVwdxeK7WJGRWFujuCH/1BzYLSjmIw800xZXDl7+cngQRnncb1WX3mzaq\n",
       "0pwbIcQJuqTKUBeovEgXuTzCFESa4gALDcLIWGjJ5eM3NdPBtxKtrEaTUPXuZMVrTa8pstBmhA5d\n",
       "Nw7hSYoANtI6Il7GAF2mHOiLVF6EPJf/1EhBpMzL8NcTR9uPnIut9fCOLQ3CAW4lMjabAeEm+o09\n",
       "RFz2iFzKwSfsZ6ROXcr7RyLmPohmCq5hH+ki5eB5csd5kjN1faqKkUyFZcqHwjz6/p4pvrp5ptz9\n",
       "XEhIVoYir2bs1YQUZgqO0rdK+BU4xAnTWx9l9erwqFDWeL3QDCecOcstqmwv0kN4FliLDUVHvQDd\n",
       "+0Ixsjt0VmLES8o8dRhIO5FVA3XLqbc3PPXWYtCNnk3Vl1kHwgjXhS7HInCXZVmGoL96lrvW6TKk\n",
       "xy1rF3TdVoNqtcmvh9x9p1fRWhOF6WGTZPXhqjbcs/c69kwb7utmrUjOjFYQX71U5zBRuDnaZkwU\n",
       "Dq53fUKWOFmbh7WELt/LmfuYQi6lTPC9v+1+6JVkpx5aT723L6O3GVj21AuDeb/ukYdMPw5rjvoC\n",
       "ZHMQ+Jg9Kxb53iXpHGgk7hyaGF2ediGmcwi29ewMFajdrEKecQ4NSFdDHN4DKJSZ2a3bz+wI54x1\n",
       "JFSSdF/aj4+xEcSh7CpGTPfVOgSKwyCZ8C5P3JUUh8k7WA5WbkftuIdiYc2yncOyB/I0tove0v8C\n",
       "ehL+C5hb+rFgtili7PUgW1numYvbT+P/Mf4CzIpWGA6LuG4AAAAASUVORK5CYII=\n",
       "\" style=\"display:inline;vertical-align:middle;\" /></a></dd>"
      ],
      "text/plain": [
       "<IPython.core.display.HTML object>"
      ]
     },
     "metadata": {},
     "output_type": "display_data"
    },
    {
     "data": {
      "text/html": [
       "<dt><a class=\"ProveItLink\" href=\"../numbers/rounding/_theory_nbs_/axioms.ipynb#round_up\">proveit.numbers.rounding.round_up</a></dt><dd><a class=\"ProveItLink\" href=\"../numbers/rounding/__pv_it/axioms/f682e97c300adaccdf99bca1fdb866ce6de075260/expr.ipynb\"><img src=\"data:image/png;base64,iVBORw0KGgoAAAANSUhEUgAAAWkAAAAXBAMAAAA7CqN4AAAAMFBMVEX///8QEBCIiIhmZma6urrM\n",
       "zMxUVFQiIiJERETc3Nzu7u6qqqp2dnaYmJgyMjIAAAAcRTyBAAAAAXRSTlMAQObYZgAABGhJREFU\n",
       "WMPVl3+IG0UUx7/ZbJLNZpMe4p8KIbGHnCcNVgVBy1VBT1C6+IcKFhtOT+gfPYIUQS0SK5ScUgwi\n",
       "bf2jdtuTU47iBRTlRHGpUCHKGbCiFsVgofirx1FUvCuC781kdye97Obujwu4EPK+814yn51582YG\n",
       "+B887yxdlMabS38MuOt0K9p/vPO9sNZ1JDDflQFttn8cxICFuxIvlmBWOyJZj6LOyYAv2P5tANS/\n",
       "Rvi2NJDzYM12H2oOOMaTV9186GwpwrnLwde+ONOHmgNyDmA1Np86VY9wfg4864uT/agpINucmzs6\n",
       "gASJ7OMC0pUAbKwPNQf8U6sdiFz7YQ5bscMGMuFbRUAffquQpwkujpnFPE46+tk3CrdQB3duvQKN\n",
       "Esgs7L2bZt8q9aI+Nfz6aF5Sc8AkMN2zx84ru2qbphjvB80W8MshYR2rdfWZ8cftMEUZvxtDODpm\n",
       "rsT1IWwjfRDzdeysG6swqC6exrf5F2j2xXJcXOLngkdtutmnU21JzQH3dK/aD2984mdpVXsUIkMx\n",
       "4oFnrxcNxRDPHZ7xPPBYqqzboIk9cDzeRo10Gyds83qQStHSauIr535600qPsbYca1WvS2oOSEHz\n",
       "6r/58faWZqGZV7rfjTBqs+zngRtKPesZ1wLOPI18fBX424nlcY3QP3FDykWMXA69Cf/bcg9qE0bV\n",
       "y2sOsFopz/vdwhyI+nxL6X4ylDqowEk7lNovw0SNT+kTqyJ9mUpd4i+hp7iB6GMilS6HUlNNz6vU\n",
       "6fbDXANvG7Z1TkmmdpXuK9KnwArJxs1+VZPRVvGhSYVaSH8eKUOwgz7zLqwVKnXakND/mtRA9Jwh\n",
       "4DehRVsJ8vpiQL3H9qhFwPSTxOpMpcZykNTbSwE1VSThC6ilZOoPkKzRc1hUNYoeSbb3K9RCZsrB\n",
       "asR1PGQtxFwcogk/Tzqzas03MJWp82r8SFvGiLcarxrrjLONeg5WI96rcIW6BMwI6vhT+5Wp1qvS\n",
       "F1BLydTjXuu4jLZzLTVDhNQ9+RmNAA9lvIyXgNuxs+Sm/4TV/sbIZ5+xuJrpV4xlPmLF3R7Uuxqv\n",
       "ivMVU4sAmTArwCM0cHnNeu2cSl2WvnEeVUfm9UqH+nHvX+/tRG+pC0Pn2JelTHgDd5839V+O0sTN\n",
       "FhYmbNLpfQ1zYuuRG9hnTowU+RiXs3tQzxZO3dXydhkOyDoiwxNIygzJ7HYC6kRV+pS8FtIQsEnO\n",
       "vUt4tBO9B+qyFFIvr2dHh7qjv91vR/cDTlhtmiVb5nVTWY1mRfoCaimZ+ge1HyoNy4tQSqCUWXc9\n",
       "pyd6NnZ66pTVc2eawCu8yyy6MzuUGvJcx+dTS8nUt/o1xOFoc98Do05ALWXc3xyno6mNDZ1Uu/Zr\n",
       "yutAye5vCq/X/q+1Rni9Xs+tQMBWr8YPozYic63azbmGOtNSQ0OoP9nwDez7ta7TgZnsGbCGWm+F\n",
       "Uc8EzQ+GUZulQd+MSz1un8maqAnp2kHwhuAf7erwLxZdNwzN2RS0/wC1P1N75IyV8AAAAABJRU5E\n",
       "rkJggg==\n",
       "\" style=\"display:inline;vertical-align:middle;\" /></a></dd>"
      ],
      "text/plain": [
       "<IPython.core.display.HTML object>"
      ]
     },
     "metadata": {},
     "output_type": "display_data"
    },
    {
     "data": {
      "text/html": [
       "<dt><a class=\"ProveItLink\" href=\"../numbers/absolute_value/_theory_nbs_/axioms.ipynb#abs_val_def_sqrt\">proveit.numbers.absolute_value.abs_val_def_sqrt</a></dt><dd><a class=\"ProveItLink\" href=\"../numbers/absolute_value/__pv_it/axioms/acbaec688d2c994ddac7475b5f4bce56f7fcd2420/expr.ipynb\"><img src=\"data:image/png;base64,iVBORw0KGgoAAAANSUhEUgAAALgAAAAmBAMAAACFcUzHAAAAMFBMVEX///8QEBCIiIhmZma6urrM\n",
       "zMxUVFQiIiJERETc3Nzu7u6qqqp2dnaYmJgyMjIAAAAcRTyBAAAAAXRSTlMAQObYZgAAAztJREFU\n",
       "SMelV01oE0EUftn8bHe7iTmoIF6C0uJBrVDEkyUi4kVsTgpFMKD2KCKCVj1UvaRKNYpSL9LYQlty\n",
       "sIUepCi4xp4ilBV6qKK4KAgqStEKpkmp87tp2t3OMA5smJn95pv3vnnvzQZA0D6AUjOzEiDNVSOH\n",
       "oxKYAwVFck1surkJVNsPISImIx2El9c2uCv0+WRehvyhml1fpBQ47TcZXRSsMioy3MbKiHp1g8vx\n",
       "SSQmXtbFR11BqHS9b+VjfKs3AvJQCv1M89F0AOoJtt6hfT0frcAU6Q6mwV0vDQczMuSv0TPG+nra\n",
       "WIAYCYOQTd7At4BlH0GC3MT2ffWGzYt0BpA+OIyM3gDyfTLkFlIkvscb6kjKEsnReUigw7UmAsgv\n",
       "yZDrROp6uKDnMXGhAvFysTgQdKC/Zch3oafOQHxI4PiJVgH+5nJXg8h/Mc6h1vs7U0Hk59CzHTjo\n",
       "CBxCUuAdzCWAMwB9QWVriZKbdvy87lLymZ+4faYAnC8aDtd+YKDo92c3kfkuM+0gO1zWnu445aWW\n",
       "wcitgrUYya+1fMBmksMVYKDQ8vI8kht7AzX8UnO4pc/bHc2CcoqXhyqzHJp6fTSPzCXR73vc3Qgc\n",
       "RBfOsxOzHJ3PzU0VAZG/c1aRA2xI+R1oBHt2mZEzUCO54R5DndLe1kwEHwMmt1fJgkqvl6pUc1Yt\n",
       "LyIFbCYLA9FdsSwmkgX6UMXUCmf1dAIoeTvPCJNFS3OhDSF8oqUtTfKEHCgD0Xh0uWmTaJsovpWG\n",
       "CXm4+4K3uEbJOyfuwCO/OB/PwiTPHAaiddLmolKpUOU+nsvlUpp1b9ZbvJmSj2wb2u/4kYcrrKgc\n",
       "Bg4iLYEFiixgHwrkCKIQo7I0n/Buv9uCDDVqkSyrtA3zo0QbfhUNWq4FVoZqXuYHCi9F6X+tKV9P\n",
       "+nojhctKstHIbKkMcAsn0Yw93MFBLwoC8s5u1ulbU4Qh0XhDa0jzxgNzBOT6H9YZWzlL3Rl31r/m\n",
       "mvDmLXzU4vNdxZPSWMn0lrot+CyJJ0G9dYi+5qr/Qb5VBNitzq0JvQ5llMlDjggRd5XJJZy+rspt\n",
       "bBFjRlV1GZ2QMKBHkbxfBvRA8Q8X/rj4BzLvA+8W7c1EAAAAAElFTkSuQmCC\n",
       "\" style=\"display:inline;vertical-align:middle;\" /></a></dd>"
      ],
      "text/plain": [
       "<IPython.core.display.HTML object>"
      ]
     },
     "metadata": {},
     "output_type": "display_data"
    },
    {
     "data": {
      "text/html": [
       "<dt><a class=\"ProveItLink\" href=\"../numbers/numerals/decimals/_theory_nbs_/axioms.ipynb#one_def\">proveit.numbers.numerals.decimals.one_def</a></dt><dd><a class=\"ProveItLink\" href=\"../numbers/numerals/decimals/__pv_it/axioms/58fe78e5dae28e9d8f11281c875767fa467140140/expr.ipynb\"><img src=\"data:image/png;base64,iVBORw0KGgoAAAANSUhEUgAAAGAAAAAUBAMAAACABSXcAAAAMFBMVEX////MzMy6uroiIiJERETc\n",
       "3NwyMjJmZmaIiIiYmJh2dnZUVFTu7u4QEBCqqqoAAACyU9pZAAAAAXRSTlMAQObYZgAAASNJREFU\n",
       "KM9jYMAGIhmwA74A7OI8DgwMK2YJYJHZCtJ1B0OYLYCB7QGPKZro2wMMDMcYGE6v/oOhYToDw1wG\n",
       "hmVQZzRAbN21H6iBC8jhxNQANNubgeH9AWQNDAzzgXyeC9g0sBowMPxmYNB/gKmBIQmbBo4CBp7v\n",
       "QA0NWDQsh2tYlgYC6SAmywQG1l8MDPLYNEzDZgPzAwZWoA3yC7BoeIxNA68C3ElcaWnJ19LSNsA1\n",
       "yOPQAPL0e2yelkfzQzbUSQwuUAXoGpSx2QD0NGbEITzNgaGBqwBkC89FNA39IA1VDOx7v1WiaWAC\n",
       "RhzPim4BVA3V99OBNidiTa0oyQ5uAzhFGWDVMB0lrR9Adm0DVg0sOPIJOHnjykDYgSsOcVxZlDOA\n",
       "AQBi4V3pxPDXhQAAAABJRU5ErkJggg==\n",
       "\" style=\"display:inline;vertical-align:middle;\" /></a></dd>"
      ],
      "text/plain": [
       "<IPython.core.display.HTML object>"
      ]
     },
     "metadata": {},
     "output_type": "display_data"
    },
    {
     "data": {
      "text/html": [
       "<dt><a class=\"ProveItLink\" href=\"../numbers/numerals/decimals/_theory_nbs_/axioms.ipynb#two_def\">proveit.numbers.numerals.decimals.two_def</a></dt><dd><a class=\"ProveItLink\" href=\"../numbers/numerals/decimals/__pv_it/axioms/0d4f8d6aafbb1763372638950331fcf1bcff5f0b0/expr.ipynb\"><img src=\"data:image/png;base64,iVBORw0KGgoAAAANSUhEUgAAAGAAAAAUBAMAAACABSXcAAAAMFBMVEX///+YmJiqqqqIiIgyMjLc\n",
       "3NwiIiIQEBC6urp2dnZUVFTMzMxERERmZmbu7u4AAADrYmUNAAAAAXRSTlMAQObYZgAAAR9JREFU\n",
       "KM9jYMAGAhmwA6YABga+u2c2oIvzHcChgWEpA8MrBs4f6MIsQIOY6tBF1R8wMDxhYLjHwFCOLiUL\n",
       "NGfWP5gzDCC2rlwP1MBpwFDGwLA+AE1DKhAzomlgYJAHauArYPB/wLAezROsCTg1MHiAWPkPUDUw\n",
       "X8CtYS4Qc/wEcae4gIAviMkjgFuDCBCzLUDzApsCbg1qQHwXPZDYG+AaOF1c3EpcXBbANeyHuhiX\n",
       "BgwbgBp0GVgD4H7wIuSkNgbuCQzMaPGA39NhM+cuQ3MSJ8iRzBga7EEabjL4////DU0DBzDieJd/\n",
       "uYiq4Va9L9Bmb6xpMhUlSRsgp+MErBpkUdI6cjrgNMCqgScAV354gl0YdwY6ikMcVxZlDGAAABqh\n",
       "T22OG07GAAAAAElFTkSuQmCC\n",
       "\" style=\"display:inline;vertical-align:middle;\" /></a></dd>"
      ],
      "text/plain": [
       "<IPython.core.display.HTML object>"
      ]
     },
     "metadata": {},
     "output_type": "display_data"
    },
    {
     "data": {
      "text/html": [
       "<dt><a class=\"ProveItLink\" href=\"../numbers/numerals/decimals/_theory_nbs_/axioms.ipynb#three_def\">proveit.numbers.numerals.decimals.three_def</a></dt><dd><a class=\"ProveItLink\" href=\"../numbers/numerals/decimals/__pv_it/axioms/a67e1c926cc2f71883be804e790fa05301f20f670/expr.ipynb\"><img src=\"data:image/png;base64,iVBORw0KGgoAAAANSUhEUgAAAGEAAAAUBAMAAABvx07iAAAAMFBMVEX////MzMxUVFTu7u4yMjIQ\n",
       "EBC6uroiIiKIiIiYmJhmZmaqqqpERER2dnbc3NwAAACdcR52AAAAAXRSTlMAQObYZgAAAVFJREFU\n",
       "KM9jYMAG+CYwYAf7QMTbu6cxJGwYGKzWHMSig+kB0LgFDPsxTPRjYFZguJ+AKsgdzMDA7MDAwPGb\n",
       "gb8ATQPnAgYuAwbWAAhvB4QyuvQZSN5gYGALY+B3QNPB/oCBtYCB6R+KDgZOkA5TMBPDVc8ZGFg+\n",
       "MzB9xKKDBeRU5lp0b3RBbPqMRQfvAqDXry8G8XldwGABiH0SrCL/AhYdnGAftKIFCkM1mCxiwKKD\n",
       "GxxKrMFoOsJABBfYuisuLqUuLk5wHYwfGPgeMPD8xqajiwGbHUAd/J8hOqD+UIC5insBwzssOtgK\n",
       "GFgPwAMFDkA+l2Vg6MPuc84JmPFxCxiCtXcXFaDq4ADp4AIGYNaqY+jxkQ6Mqf///6Pq4FL9shIo\n",
       "LoA1TQNTCRLYgcwxx54LOBcg84yROTdwZJxzOMTBqR0rsMGlg+cBDgmcuXYeAwMA291cTjIOYgAA\n",
       "AAAASUVORK5CYII=\n",
       "\" style=\"display:inline;vertical-align:middle;\" /></a></dd>"
      ],
      "text/plain": [
       "<IPython.core.display.HTML object>"
      ]
     },
     "metadata": {},
     "output_type": "display_data"
    },
    {
     "data": {
      "text/html": [
       "<dt><a class=\"ProveItLink\" href=\"../numbers/numerals/decimals/_theory_nbs_/axioms.ipynb#four_def\">proveit.numbers.numerals.decimals.four_def</a></dt><dd><a class=\"ProveItLink\" href=\"../numbers/numerals/decimals/__pv_it/axioms/08c7ea4ad80d4e5b88957b9dc1bb0cebaa8531540/expr.ipynb\"><img src=\"data:image/png;base64,iVBORw0KGgoAAAANSUhEUgAAAGEAAAAUBAMAAABvx07iAAAAMFBMVEX///+6urpERESqqqru7u52\n",
       "dnYyMjKYmJjc3NwQEBCIiIhUVFQiIiJmZmbMzMwAAABIfTqqAAAAAXRSTlMAQObYZgAAAT1JREFU\n",
       "KM9jYMAGOAoYsAMLCPUWQ8KJgaE1VBmLDu4GMHUaQyKDgeMCgz2aRcxTGBhYEkAsrtnoGtgvMHB9\n",
       "ZuA/AOFZQSjv6C9AMgrEbM9G18HTwMA4kYE/AUUHAztIhyeIFYChowdMwlyFooNNAMhowNCxFkSw\n",
       "HGXAooP1AgODFwNYB2saGFwAsdVBARxzBZsOdqBTAxgw7DgMJlcKYNHBfICB+QGmjolgkhMYmgxh\n",
       "aWkn09Ky4Tr4PjC4MmDVwdHAwPQZix1AHdZ37/68hfDHBqir+L9g18EIjiSMGAT6nFOBgecLDp8z\n",
       "MExC1xELlCnAiA8ukA7eACAR9H87mg4ZIJa9q4gaurw7v10HxuADrGmapwGZZ4XM8cGeC9gvIPNc\n",
       "kDlRODKOBg5xaGrHApxw6WBqwCGBM9dWMDAAABxITl8FIHkXAAAAAElFTkSuQmCC\n",
       "\" style=\"display:inline;vertical-align:middle;\" /></a></dd>"
      ],
      "text/plain": [
       "<IPython.core.display.HTML object>"
      ]
     },
     "metadata": {},
     "output_type": "display_data"
    },
    {
     "data": {
      "text/html": [
       "<dt><a class=\"ProveItLink\" href=\"../numbers/numerals/decimals/_theory_nbs_/axioms.ipynb#five_def\">proveit.numbers.numerals.decimals.five_def</a></dt><dd><a class=\"ProveItLink\" href=\"../numbers/numerals/decimals/__pv_it/axioms/aaf10ab9dad5714af3cbafca85ed327e5c618a070/expr.ipynb\"><img src=\"data:image/png;base64,iVBORw0KGgoAAAANSUhEUgAAAGAAAAAUBAMAAACABSXcAAAAMFBMVEX///8iIiK6urpERETc3NyI\n",
       "iIhUVFR2dnYQEBCqqqpmZmbMzMzu7u6YmJgyMjIAAABZcJOfAAAAAXRSTlMAQObYZgAAAT5JREFU\n",
       "KM9jYMAGfBmwA04HBga+O9wr0cV5DIAE9wIsOlIYGDj+/y9AF+YDGsTAmIAmOuMAA8M5oGRZCIY5\n",
       "t0BEBFQDZwDE1vR8oAb2AAY2LBaLADHLPVQNDAz3gRp4GrBpYBEAEux82DQwPGJguxu1AU0DK8i7\n",
       "V7BrqGJgPsDyCcStewcCr0BM5gtAuwOwa7gHYhmi2cA4AegiBuwaJoJY6x1QNXAoMDDMhmhgf/fu\n",
       "Yd+7dwlwDfsZ8hgY6hUwNPAU4LBhP0Mf0IYDcD88gzqJM2vV+q4ALBoUGYAhIofmB5Cngfbg8LQX\n",
       "A28LmgZ2cCriMEDTEA/SsJyBZXnWATQNTOCIs/92AUXDsv5XQIHXWFOxCEqSDkBOxwJYNdxCSevI\n",
       "DmAPwKqB2QFHBgIlb2yAxwCXBhMc4riyKK8DAwBKg1y4kxo/0QAAAABJRU5ErkJggg==\n",
       "\" style=\"display:inline;vertical-align:middle;\" /></a></dd>"
      ],
      "text/plain": [
       "<IPython.core.display.HTML object>"
      ]
     },
     "metadata": {},
     "output_type": "display_data"
    },
    {
     "data": {
      "text/html": [
       "<dt><a class=\"ProveItLink\" href=\"../numbers/numerals/decimals/_theory_nbs_/axioms.ipynb#six_def\">proveit.numbers.numerals.decimals.six_def</a></dt><dd><a class=\"ProveItLink\" href=\"../numbers/numerals/decimals/__pv_it/axioms/d785449bd6695d8318c6824ad5ca210edeba01440/expr.ipynb\"><img src=\"data:image/png;base64,iVBORw0KGgoAAAANSUhEUgAAAGEAAAAUBAMAAABvx07iAAAAMFBMVEX///9UVFSqqqoiIiKYmJgQ\n",
       "EBDc3NxERERmZma6uroyMjLu7u7MzMyIiIh2dnYAAACR0mqaAAAAAXRSTlMAQObYZgAAAVZJREFU\n",
       "KM9jYMAG2BwYsAM1MPn23gF0ie0MDEs2nFDA1MGYACR2TeBYgC6xjIEh/v8/NEGmaAYGbpDSCgb2\n",
       "AjQ5lgYGhnWyCVCeLoTa+PA3yEEMDJzfMO1mBioWgPN0YeaAdGxlYGAPwNSRzIBTB9cEBv41bzvR\n",
       "ddwAYhHfHmw6+BoY9i9hYAYFCt8qMGgAyZUAcTVD/gQsOlgWMOz/wMARjWaHEZhkN8Cig8mAgd+A\n",
       "geUnmo5IMMkBCpNXq1aZrlq1EK6D5wMD8wIGli+YOhgXMPD9xGIHUAdjAMQOqD8EoK5iXcDA8RuL\n",
       "Dk4DBp7fDBzoAQz0OQcDyHasPmeQY9iKnoBeANNiA4NrAqoOXpAOjgdA5/TJoMfHZCDOeNiNGh8c\n",
       "or9agDF4AGuaZk5A5ukiczZjzwUsDci83cictzgyThkOcUhqxwa249LBnoBDAmeudWNgAAD9zliE\n",
       "QjjTFgAAAABJRU5ErkJggg==\n",
       "\" style=\"display:inline;vertical-align:middle;\" /></a></dd>"
      ],
      "text/plain": [
       "<IPython.core.display.HTML object>"
      ]
     },
     "metadata": {},
     "output_type": "display_data"
    },
    {
     "data": {
      "text/html": [
       "<dt><a class=\"ProveItLink\" href=\"../numbers/numerals/decimals/_theory_nbs_/axioms.ipynb#seven_def\">proveit.numbers.numerals.decimals.seven_def</a></dt><dd><a class=\"ProveItLink\" href=\"../numbers/numerals/decimals/__pv_it/axioms/9cf54be97b7bba75d63666f1278c8f35b522a7260/expr.ipynb\"><img src=\"data:image/png;base64,iVBORw0KGgoAAAANSUhEUgAAAGAAAAAUBAMAAACABSXcAAAAMFBMVEX///8QEBCqqqoyMjLu7u5E\n",
       "RESIiIi6urrc3NyYmJh2dnZmZmZUVFQiIiLMzMwAAABzPQ5hAAAAAXRSTlMAQObYZgAAAUpJREFU\n",
       "KM91k7FKA0EQhn91z+gRUfQBjA8gClukiMqBL3AWguVWNhb6AuJa2h1YpkjAyihywUbE4tKJFh7a\n",
       "pLQWJEJqOefMEe4mcwPL7Q7z7f/PMQtIcQE5pi3w/drptFle+YB7eCcQz0ArSZKIpWcsVB33LLvm\n",
       "AbvAA1Dl9zQBJ8R+ZsOMVF/eCHANyM6Edh84s2PfJtu0CFBLtKkYVj8XA3sQAdRpOVxgNgSGX0cn\n",
       "EnBD6/r/eKXTaKRbJ4AaBniXgEuy9cMVFmpQCdD1BGCdDGxyYIrM/FIBfVytt1e0jsbAgO7zJeCD\n",
       "CgJBgYDFKNfDVmYJvZHCBHBKTMgVqGkMPHRLmt7gkwSXrqi21TIDjlPgETivcaASpz/89rMIPK02\n",
       "SHlHnOJ+YaTzg6BiEWgWZt3LuzUi4NiSB5SOtxTKLwMOSvJlT3Te4g9qx1LADFiUrgAAAABJRU5E\n",
       "rkJggg==\n",
       "\" style=\"display:inline;vertical-align:middle;\" /></a></dd>"
      ],
      "text/plain": [
       "<IPython.core.display.HTML object>"
      ]
     },
     "metadata": {},
     "output_type": "display_data"
    },
    {
     "data": {
      "text/html": [
       "<dt><a class=\"ProveItLink\" href=\"../numbers/numerals/decimals/_theory_nbs_/axioms.ipynb#eight_def\">proveit.numbers.numerals.decimals.eight_def</a></dt><dd><a class=\"ProveItLink\" href=\"../numbers/numerals/decimals/__pv_it/axioms/a119485fd0829593c6522652665032f57c21a3810/expr.ipynb\"><img src=\"data:image/png;base64,iVBORw0KGgoAAAANSUhEUgAAAGEAAAAUBAMAAABvx07iAAAAMFBMVEX////c3NzMzMwQEBAiIiJE\n",
       "REQyMjKYmJiqqqpUVFS6urpmZmZ2dnaIiIju7u4AAACLnIg+AAAAAXRSTlMAQObYZgAAAUpJREFU\n",
       "KM9jYMAGGAsYsINGEPH2zi4MiacMTJ57zpzB1MEpACQ2MHA2oEskMrD/////J6oghx0DA18CkC4A\n",
       "UyiAfQMDN9CwCRBeL4R6efIfkDzLwMATwMDngKaDRYCBByijgKKDgR2k4zEDA9fXBzzo/hQBk2sZ\n",
       "sOhgW8DAMP/7CXRv3AaTAdh08GwA4v95ID5PGhhsALHDwQIF2HSwA/3cveTzAjQ7PEDEewZsOjgc\n",
       "GNgnMNy3Q9NhBSKugZnH0tKc09Iy4TqYPjAwP2Bg+oFNhytWO4A6QJZPR/hjAtxVP7Hq4HJgYAZG\n",
       "VSCaHSCfM/1mwOFzrjwG9gtoOk6DvPgHXQcvSAf3AQYGzT0YKXEJKPlaoOngnvxtOzAGFbCmaRYB\n",
       "ZF4vMucJ9lzAvgGZ9w6ZcxZHxgnEIY6ZzBE5CgdgFcAhgTPXFjIwAAAEFFkEykUcFgAAAABJRU5E\n",
       "rkJggg==\n",
       "\" style=\"display:inline;vertical-align:middle;\" /></a></dd>"
      ],
      "text/plain": [
       "<IPython.core.display.HTML object>"
      ]
     },
     "metadata": {},
     "output_type": "display_data"
    },
    {
     "data": {
      "text/html": [
       "<dt><a class=\"ProveItLink\" href=\"../numbers/numerals/decimals/_theory_nbs_/axioms.ipynb#nine_def\">proveit.numbers.numerals.decimals.nine_def</a></dt><dd><a class=\"ProveItLink\" href=\"../numbers/numerals/decimals/__pv_it/axioms/e78b02a833013457c1e9480af86362e29673f51b0/expr.ipynb\"><img src=\"data:image/png;base64,iVBORw0KGgoAAAANSUhEUgAAAGEAAAAUBAMAAABvx07iAAAAMFBMVEX///8iIiLMzMyqqqq6urqI\n",
       "iIhEREQyMjKYmJgQEBDc3NxUVFR2dnZmZmbu7u4AAABTw4smAAAAAXRSTlMAQObYZgAAAWBJREFU\n",
       "KM9jYMAGuBoYsAMrEPH2zC4MiWcMDE9jrmDRwb2AgYFvBsPKB+gSVQwMFxi4DVAFmecBVRcAdU1g\n",
       "4L6ApoHjAgNzA1gWBEwh1OvT/4DkUQYG/gIGng9oOhgXMPAkMPAJoOhg4ADpeMnA8D6BgfUXmo6F\n",
       "DAws3x7wNGDRwe7AwAm04wuajlgg3v/jMAMWHTwXQE5i/wFiloMB2EsZIP7/Omw6OICeS2Ww+Yxm\n",
       "hzAQ2zr+dMCigxnoOeZWnU9oOqYApTcwxANDk+F4eblkeXk1XAcTOJS4/2Hq4HzAwPQZix0QHewb\n",
       "EP7YAHXVeyC1A4sOFgEGjnkM+gvQ7AD6nBMoloXd56x1fBXoieQs0Kw6Bo4AVB2sIB28BxgYztx1\n",
       "QNfhCMTad66ghi7vzu83gD5QwJqmGVGcaYrMeYg9F3CgJM13yJyjODJOFg5xeHrGlqOwA7YFOCRw\n",
       "5touBgYAcJVgy+kKJ94AAAAASUVORK5CYII=\n",
       "\" style=\"display:inline;vertical-align:middle;\" /></a></dd>"
      ],
      "text/plain": [
       "<IPython.core.display.HTML object>"
      ]
     },
     "metadata": {},
     "output_type": "display_data"
    },
    {
     "data": {
      "text/html": [
       "<dt><a class=\"ProveItLink\" href=\"../numbers/numerals/decimals/_theory_nbs_/axioms.ipynb#N_leq_9_def\">proveit.numbers.numerals.decimals.N_leq_9_def</a></dt><dd><a class=\"ProveItLink\" href=\"../numbers/numerals/decimals/__pv_it/axioms/98f3a93e0e9559986921170ecb6661b0198849960/expr.ipynb\"><img src=\"data:image/png;base64,iVBORw0KGgoAAAANSUhEUgAAAVsAAAAcBAMAAAA9ywG+AAAAMFBMVEX///8QEBCIiIhmZma6urrM\n",
       "zMxUVFQiIiJERETc3Nzu7u6qqqp2dnaYmJgyMjIAAAAcRTyBAAAAAXRSTlMAQObYZgAABLJJREFU\n",
       "WMPVV09oHGUUf7vZmd2d3UlyUCgedNpSBBEbpAcPUbZ6qIdCp0XSHoSu2qCpB5faEKRV91DtRlEG\n",
       "xTYImvFSoYTtYhXrQd02UqjVZqsXpbWspgaaoE0hQlqx+N73b/7TDcqiP/jefrP7fvN+39v3vvkG\n",
       "4B/g+Dfwv8EJMMvpgf+CkseUScYXFqRK+RuQ7pqqpEhaWZpkXGoBTDqwBJlyt+QmRep1pUnEfagW\n",
       "jtnwJ8C3XUtvQqT7lUnCpgbZVEn7CyAbs673xEhCwYljJOAzSaBIbfrmJ//PWJDCRFBfftOFk9dK\n",
       "UwdY0Kq5hCUVbTejykf0h6u1eSjedRuMxDDi/AdPO6CTVCJQpLP09bzfpzggTRRvYEkbiwBTr9PV\n",
       "tnXXcWGL0Wpy+Igi1xrCIsJ1i2vHxwj21SjZD1r5O8CgjBKBIk3QZ2BtqYY0UTxtrwHop9st4Noh\n",
       "Q8R9Ea/vxYhCH03jjoLZsPj1rI/hx9Qe9vEEwFMAp0AQ9vGWKga0TbrSePhhbIxVza7XdBsqNDN/\n",
       "g5yVs3H2QETUC2JE+fqj7jBkcaX9fA866HoMH95+kX/eBJjBHIMgYCTz66NHDwd8zyujsOMeMRkZ\n",
       "Mua5XCi4mTVnaLI6rDZf4SOGr79TrrsoFy7zy4ctxfDh0IIo3WWA9Q70lgSBIi3XavsDzg9Js3nk\n",
       "rbXsdoaq7ZGCNQTBe8OW8NZALUEjhq87H2llkjvNW1fcK+ANOy5L9zsxuyXeR9Mi0jDAeCBaTZpm\n",
       "zTKu8yBKLnxlWiG5O6ki4NzvhFneT3zE8HWnWPqO5F5il2d5pwe9c6+oW2MlXG2B2RYEivQIbz0P\n",
       "c8JojZcg/we7AXhydXe4AidqCJnUyVIou9kGG3F8FL5b346TT9llBd6XDM87vUf9XTmrMNOAQkUQ\n",
       "KFIW0q1AtOeFMYwlMNkutZUS1+ZyjXJvf1DdsbDcVImNOD7KPQI/U6JYu1qg24LheYO5X+n9fN2M\n",
       "DdqiIFCkYisbjDYrTWERdBZkwpddeFwLyZ1MkBvHR7lac6uUi48pfjQJeON01tuGn3M9uRQp38ad\n",
       "23xw21rp8Ko0PW3oa9FCU365ZiP0BNrpeLU75yuGOD5V8QWqjU3svIzjimQobzrNzNm+0sxUBIFF\n",
       "Gt+FGja2UnJFz0iTasKXbpN0W5KMfQlnqrfYGWSrxfDpvy9OyFa7IiQHvdmGXGN/2XlXw+5TrcYi\n",
       "HUfx794NfTLqamkw9+dMtkz14FrgSY/u0+GnOI0Yfm9DbJKDpKkqzi0hb7YTD7ODn1vHhfQ0BYFF\n",
       "6qO1PwkbA9kig/k/dIF9deQAX8v2a3R4CcmNPNXoz6MR5WsvrxLP/18p1ZTBtAVhb9/CpzfQGm1B\n",
       "YJFMutXtMKj5OoUbD5sPjrWTDni/dPAQDvMNKscMm9oxD+EgPpQEFQkPO3s/EXOW+55mp4dm48YK\n",
       "jjgqbVaUkQh5xPEi4YvFvXL3ZRtVeLdKhhl9J8k5fCSjHsNQv40RRr18yAOkGf/286wynSBrd348\n",
       "Vxjv7HjuLWU8PpJaer1TuRdh5S8/5kpefn6UhIsJb1ID0nSAfLVbb5aJkT5W5tbocbslt3uR/jX8\n",
       "DfdKfctsT2wNAAAAAElFTkSuQmCC\n",
       "\" style=\"display:inline;vertical-align:middle;\" /></a></dd>"
      ],
      "text/plain": [
       "<IPython.core.display.HTML object>"
      ]
     },
     "metadata": {},
     "output_type": "display_data"
    },
    {
     "data": {
      "text/html": [
       "<dt><a class=\"ProveItLink\" href=\"../numbers/addition/_theory_nbs_/axioms.ipynb#nat_plus_zero\">proveit.numbers.addition.nat_plus_zero</a></dt><dd><a class=\"ProveItLink\" href=\"../numbers/addition/__pv_it/axioms/61991a7990cde29e02d00a23ddfb53adc630f4210/expr.ipynb\"><img src=\"data:image/png;base64,iVBORw0KGgoAAAANSUhEUgAAAKkAAAAUBAMAAAAErwC3AAAAMFBMVEX///8QEBCIiIhmZma6urrM\n",
       "zMxUVFQiIiJERETc3Nzu7u6qqqp2dnaYmJgyMjIAAAAcRTyBAAAAAXRSTlMAQObYZgAAAkRJREFU\n",
       "OMudVT9oE1Ec/pq7a5L71w7iIAiH/zYh6CYRUkQ6CZks4tCj6OAicdBFhxsviHCTdbOlQ0sQL9RB\n",
       "CoKHxSWCBEFQQclgBRUOcZLUwd+795Lm7t5V8YMPLu/9ft97v38vwH6o9jmlMAL5+hZxwD4+Fjhu\n",
       "COZgnnwJXJM7TdNpr9jHtwLVr4I5fMd6gMdyJ50u+oAF6sn3rRrnHjbFxizMAUxH7vYCsFconq58\n",
       "uxxw5lQrLowh9Fm52yod2+t0lgsSsCyYU51xoe4Cn+VudgP45ft3ClSPClbrpw6lVMMa1J/Adq5n\n",
       "EkOTknYVaBeo3hOcC+wfKdWHETRS/ZS0Q5wgST83tKhc55KijbFQb5QOiu/bnPphKF5atQbtN/A0\n",
       "W31uaLSoHCiN+lx/drpveD2cEb8PcCpDlFm5X8fxjTj+speBxYyqMNTovma/PFp9t9WB8UZBlFad\n",
       "8hA2s9UydvOqwpCpVgcXaWHtxA5Ulhvj8iUnSmcgjPA801kerCEwP5FXF2NDlTKA9hWK/aY2hJ1M\n",
       "d7P3NkpXK+ziuhj61BTwak1AGLJq4QlJKzWthTWuapqjcdrmrDjWLTN1V4pglUKtZ1SFocJuNUMJ\n",
       "nuqWXCz4vu8YzWq/JazmOfWl4/ePpVUfHaGGxE62B7ihzYpg0cyGQeXDyjS/K847f5tYIdKSt/n6\n",
       "uHrB4gWYyRkNWFHh69JJPYfFrwuHurR5FrjLIqbhdkfLbRQPHvZ7CSdRorz+26s9PlOCSgD8/z+M\n",
       "VeD9HvgDq/mqEfw798MAAAAASUVORK5CYII=\n",
       "\" style=\"display:inline;vertical-align:middle;\" /></a></dd>"
      ],
      "text/plain": [
       "<IPython.core.display.HTML object>"
      ]
     },
     "metadata": {},
     "output_type": "display_data"
    },
    {
     "data": {
      "text/html": [
       "<dt><a class=\"ProveItLink\" href=\"../numbers/addition/_theory_nbs_/axioms.ipynb#nat_plus_successor\">proveit.numbers.addition.nat_plus_successor</a></dt><dd><a class=\"ProveItLink\" href=\"../numbers/addition/__pv_it/axioms/2afeddb0f64c3326cd7e9aa4f293a1eeeb2a396d0/expr.ipynb\"><img src=\"data:image/png;base64,iVBORw0KGgoAAAANSUhEUgAAAU4AAAAVBAMAAADbQxraAAAAMFBMVEX///8QEBCIiIhmZma6urrM\n",
       "zMxUVFQiIiJERETc3Nzu7u6qqqp2dnaYmJgyMjIAAAAcRTyBAAAAAXRSTlMAQObYZgAAA/BJREFU\n",
       "SMfNV01oE0EUfvlp026yiYfiT0GNVnsSDAoiWjUi4kmsF0U8GIseBH+qoFDrIeolQYSAoF4KK4W2\n",
       "9GBiPUhBMLSgUFGCIlpBDbRWrBBLUdBUxfdmZ9udndm1ggcHJrv7vnnffPPmzU8A/ly6sNaXVIja\n",
       "ChDO4c+gS/su8HCSyiBHyvTxxkumlsafPiXUB9rFdhVwDGttTtGe00nAIu4kFcaCyGP6mPTSGaWW\n",
       "H5UQWqMJp/GOAXCbBJVV7U06qYyB6SRGuJGzIHKTpiPtpfM5Vl1QM8CfZI0VLNK4Gf3jp1BnhD6G\n",
       "nEyM5bmgJM5fZoA72fh7HlY5CyJRYi146ezAGsqpdJJ1j+Hs8h1atAX4csvJxFg6VDqDpIg5CXGo\n",
       "chZE9JH+/hteMuspAcUWFg9ZH4FKJ4zTDCcdVDcsOklnhFnHVToZCyLfMpkLXjr9NFlN1EPLukaR\n",
       "h6wTKzerdA5T587UbbLorg2vMASnaFtTwXSSdDIWRI4CZC2iYEXWWUd7yVWs23PRKZEHrdovI59T\n",
       "6HxL3bCF9LRCZYy3Z3TBJfBZHFx+UvtuOkk6GQsiO+wL0xrR/pakfyFPKkreTlS0FAJpkQet4SrE\n",
       "4gqd98ji3LI6Od2tEmwUdT4wYNp0knQyFkRC4J/brT9R0t5fXwqnR2CTafJRfjQABKoQipvxOV2p\n",
       "TAC3liFfxMmpVD4sq1RSszoPYa2Zcuhs4HTbDDgDgtNW0H6YTnZ+ppOxIBIpheaYMPjwarAfws8C\n",
       "UBR1+tKQbxXH28C2zz0FRTw9dS4G7asYzzEIznCdznhaOuvL+/Clu/k92aabjSDlbfjggXhRnHcM\n",
       "2wOQ5j1WoujIOndRtrfP5eeEbd4xdOEpUedPmi7mJOlkLIRkj+Bcn60hm/+8PxFl/q0jL4riOsoX\n",
       "4CQ/gm3rKJbEvPVcR7bC15E2A7XlQcHpC+Ws9zqCuyg4kKgh2XVxvdxt6oxYu4q1LyB2LiLyoLW2\n",
       "VJdw6FxLOluwBooOndZmdQlepoqC0wm4zJ3s/P6qxUIIrVdfwZ9iyRNI7c9kMvFwa32Jr1Yr7lrb\n",
       "6uurRB6yrnvi2LI3LB/D0FAWRVsdOq1k6Fl5oC0pOHWvoVl7L+oMHP61hbMQouP487m61/iIGb5C\n",
       "rRlP2Bmf17kpH9XslKfB9c7/3JxzsvOz0mtHfLlDu+GmETJeQYT060nQi673kH77vWK2F8P2Md97\n",
       "iOxk52dlyI4E2wa2wN5CzXEUd4VmCA/UlHUgURSyyjM163bYutzrshadq5N8+y3LiLkR+jE/531P\n",
       "dikuglzvye6jVkQpnPtX/zt0Yhr9y/8durL7URnR4f8tvwHbO1Ftf+A8HwAAAABJRU5ErkJggg==\n",
       "\" style=\"display:inline;vertical-align:middle;\" /></a></dd>"
      ],
      "text/plain": [
       "<IPython.core.display.HTML object>"
      ]
     },
     "metadata": {},
     "output_type": "display_data"
    },
    {
     "data": {
      "text/html": [
       "<dt><a class=\"ProveItLink\" href=\"../numbers/addition/_theory_nbs_/axioms.ipynb#empty_addition\">proveit.numbers.addition.empty_addition</a></dt><dd><a class=\"ProveItLink\" href=\"../numbers/addition/__pv_it/axioms/8dfa7b9348ee9b91f78b6a279540b5f290df5ca90/expr.ipynb\"><img src=\"data:image/png;base64,iVBORw0KGgoAAAANSUhEUgAAAFMAAAAUBAMAAAADwRznAAAAMFBMVEX///9mZmZERETc3NyYmJju\n",
       "7u5UVFQQEBCqqqoiIiK6urp2dnbMzMwyMjKIiIgAAABfEwHCAAAAAXRSTlMAQObYZgAAAPlJREFU\n",
       "KM9jeHuHAQp8Z4EpE4ZmBuxgFxqTVYGBzQBD1T7vA5hKeQ0YWC+gq+RtYJ0Mled4AFfqCDIDXak7\n",
       "A8NeTKVA3Qzh6ErVGBj6A9CVMk8A2bcATek3Bob1DehK+QSABLcAqkrWj0ClD9CVMjkACRawv/be\n",
       "BYGLIKt+MzCcx1DK2QDiTkA1lRlo6vkNQHnuu3dv1t69mwBWyg5yJs8HYhyAVSnIW/0NWB3ANQHh\n",
       "1msgphIDg38AHm8RigJwODFuQFPK2cBag6EUbDfvATSlrPueHcAesZF4EiFrAP7kgj29MmFLhDiT\n",
       "NpMBdqUv4RnmLSzDOGNXCQBwgGgEy/YizQAAAABJRU5ErkJggg==\n",
       "\" style=\"display:inline;vertical-align:middle;\" /></a></dd>"
      ],
      "text/plain": [
       "<IPython.core.display.HTML object>"
      ]
     },
     "metadata": {},
     "output_type": "display_data"
    },
    {
     "data": {
      "text/html": [
       "<dt><a class=\"ProveItLink\" href=\"../numbers/addition/_theory_nbs_/axioms.ipynb#multi_addition_def\">proveit.numbers.addition.multi_addition_def</a></dt><dd><a class=\"ProveItLink\" href=\"../numbers/addition/__pv_it/axioms/f634cb85563e75219d2bc122a762466e0d0e3d6f0/expr.ipynb\"><img src=\"data:image/png;base64,iVBORw0KGgoAAAANSUhEUgAAAaYAAAAyBAMAAADl32LRAAAAMFBMVEX///8QEBCIiIhmZma6urrM\n",
       "zMxUVFQiIiJERETc3Nzu7u6qqqp2dnaYmJgyMjIAAAAcRTyBAAAAAXRSTlMAQObYZgAABrBJREFU\n",
       "aN7Nml+ME0Ucx3/9d71uuz0e5PBQSOXwNFFzlTPBKEiJEZ/UoolIeKCp8iBBLBoxKomNPlBUkk1M\n",
       "4DDR25OEP32gBR7MJRiqxJdDpfEkIlFpAmjEpJa/4e7Ec2ZnZ3emO71ue92ek8x2dn+d7X52Zn/z\n",
       "+323AHWKa2qqAM2VUAzaV6QE+Tw1dbnud10je9Qmf+ZbaGd5mnwc3HO4PlO82R9xJ2grUGzt5QcV\n",
       "wUG5pDdWO8hk3q8DLeQ5MA9tXhZZPnKeSbrNaP7ZykE6j+ohkWE45jhTZ9SYFVGL8UitXjUNhmUS\n",
       "e5+IaEbOcZzpuOFa/EoLmbwTeA7MEX1jm+NMrxut3dBCplAKby8I76LiMJM8bjR7setbtmR+I0wf\n",
       "n7hLFVrCyd48wAlRX3/UYSZ/2mjuRHWlEq4AvGCXydsDf4stuUsSulu/aUNW1or53E44zLTeDCLe\n",
       "QQ/AAvCk4bmldpmGi/Cw2IIe0ysAXwg97RWHmR40m8ipeybAj3zVk9r+9+XylnL5d2sf07BChdfE\n",
       "lsdA+gfdMeFvlh1m6uaYXGnIxSmTjXG6HaTrYst58E7WYupXHGXy3QJ27uUKcBzsM6GhCFZAXv5s\n",
       "r7svzne5hcecnEh/nowQDIaKjjK5TbeHfUQuD5tRlGabaRI6SiPyyqJroxE16l2u4WeN+AjrtSYc\n",
       "ZepkVkXkeDsj8taQdZykf7EnK+kNxvAe/JQofHIPdMU8Bd7yCryPtsvEP5oiTFo0++u0TGHNUTYW\n",
       "W7tMV45JpOTduxYL5t5W7PUTeoMx7Fu0NhmDJLo+f5637L0fX8hFccJWIUwn8celaZlC+LThxrKo\n",
       "HBPjmbGRbR9Byly4F4Z8AouUEq/z1wnTIF7k09MyaebBBpcnJso0Y1hjWcnW6scaAhU0UmdCAosw\n",
       "hkWO6Qphwvc/lJ/+ecLDeLLBCJY95Q4a8LybbOQc3gTKUnaNCiyHaqQ3VwmTPJrN7q7jI37JZg+m\n",
       "GmM6x7qWVuaE3E2qLjd0v3czk9lWh6krk9neoNDSz+YXrc7dZaWG4abOtKE2NmXqiEOnYmeylI3m\n",
       "KRVmoSzUmR4HqcRb1iyLubtZJm+01gyuKmYKsGJWmObpTH5wM1NDOjZQDKZH4RFuzU3BA7bO+ZfR\n",
       "enU2kGCLzhQq+pmjZ0ayEPzBAwWO6Tuw5yLG/ydMgdLzYISLXryUBNetjfBMn/nQWi8t2WyNk/b2\n",
       "XWTXhz51VufemzTe2/ESYtLDRS0MCsZHT/NMnbtQhrc/vl6FDv5apTd8E0zg+rabLq+neJ/yqV5n\n",
       "UEZEB6vUS+oj4CiaVzRc3EuYQqEoxxTECeoArAHfVzyTJ+pjZiWKVKm76eeGVEqTOpPSodRXL7sp\n",
       "UxcONPRwcU0mk4kE44Fiio/LcdBxB/Qhj8IzufKmgoz2Yh66dy7Gfi2skDqTUu2dRerlVcokq2a4\n",
       "2EHGCZ6I8Exn0TnHYWe2mimndJ5Vx74cW/cN3utSXTQkOs4xjem1auJEaly+2PB1tdWiXuKs3syf\n",
       "aLgYwgRyDOSCNX/q8V0rYqZBNfAB3biU9U/BkZIrfwxFuapfPWPEsFzo8JZeZ8Q0XGW1qpc0hq0K\n",
       "Fz/EGcEFgISVadV9vRrT6ryvB1YreJP3Jo8sR2HGfngI8PFNxq3oYvXkQIrUmTGFY7zVql4GJ4V5\n",
       "rhs9T9PluXjumSE3afnhKKTy7HF0jJ392BtqHpFXIusy8UIn9VvUalUvQ+PN5O6+/kcZ/6m39sFi\n",
       "SCq8X/VU2Jy6SCpRIn1pu0xE6DQi1xJvZdRL6horzeoRsqBl2ZMn2EHLk6opkb6BlE0mInSaR1N8\n",
       "N6t6SQQD57SwSfYcMVKJEulN6ULWHwtZIcuYQIZBFzqNU1b4blb1cijSNs3SYCJKpNfuOOlCJ8fE\n",
       "dLOqlw5rlrDCOveIEmmfiQidY6cXRRdtALMf7caol3rZ7rC2/EzM4iOIEtkAkyZ0/rgAutU+gY+w\n",
       "qpdOvwPwR3kvjKumRFqZDNEyx1+1JnQGPk+hq8caJVUvaTeLeul2+l0N6/gwBa5EibQwGaKlP8H7\n",
       "PU3o7Ij45mDJHcJxvptFvSTSspPvPu+sFRvZnnv0AtzpQAVdxX6RlVUvHX/3ybyjroph6ToDUq28\n",
       "kTMMoZGS0wUzhuWsbAx7HpxmCjMPFFadqPIUWHoj0sh5VqEsJbBJFeQaVeplcL7jTIG5rc0JxWoc\n",
       "I+O14T8fXNTSgtz953rq5YvgPJMn0VZ9RU7bZ2r+v27JtjI18l+35v+T6Im1EUnaqAtWU5f/A3nx\n",
       "Hx5ypBkvAAAAAElFTkSuQmCC\n",
       "\" style=\"display:inline;vertical-align:middle;\" /></a></dd>"
      ],
      "text/plain": [
       "<IPython.core.display.HTML object>"
      ]
     },
     "metadata": {},
     "output_type": "display_data"
    },
    {
     "data": {
      "text/html": [
       "<dt><a class=\"ProveItLink\" href=\"../numbers/negation/_theory_nbs_/axioms.ipynb#negation_is_injunctive\">proveit.numbers.negation.negation_is_injunctive</a></dt><dd><a class=\"ProveItLink\" href=\"../numbers/negation/__pv_it/axioms/442a7843186e4f4e347091924932574614b72e2d0/expr.ipynb\"><img src=\"data:image/png;base64,iVBORw0KGgoAAAANSUhEUgAAAPAAAAAWBAMAAAAMZgw+AAAAMFBMVEX///8QEBCIiIhmZma6urrM\n",
       "zMxUVFQiIiJERETc3Nzu7u6qqqp2dnaYmJgyMjIAAAAcRTyBAAAAAXRSTlMAQObYZgAAAx9JREFU\n",
       "SMe1Vk1oE1EQ/rL5a7PZ1IMoKkKg2oM/EFovSpWIqL0U1otVBLsUPRS09KIH9RDw0iqFnGyPKwEr\n",
       "OTRBRRGUBnqrIIsgFFEJ+ANWLFJ6sK2CM283+96mST1Ihtnd92aY9739ZubtAq2TdqeZR88DVR58\n",
       "aAnww8bW7XQbBl7xZLElwN8amz/RNQNMMSe5VuAamcb2dbqSaaRsepRbARzPNzRH1uiW2AJjvlic\n",
       "bAnTTVZNjvL9M/BrbOzWv1fJC/UlGnTVxFQ9nZzE3u6ddSulhjqJ4DngMjDu07C0gRhvm0KVfsjK\n",
       "N1Bin6ieCbqO51M/efx6iYXLCqXFxCrwETiBRNVfZc57DvRmtW08aHPnw0IVOeyPhpXYcF7x3KRU\n",
       "7ka4vnBnbSwDz6gGoMlG/86Jf9Hj6Ll5HJHA0QqrKg980itKbMJSPFtpI2uIp+uAjyHxGxgkqpy4\n",
       "tBIJWHhehP4mjIoEjpmsgUzVMivtq27r+h4CDuVQMje0cWRdALdXz9K00PWFt7/cZUe4/fQL59MK\n",
       "cFyoJ4nuEVOy5Ns5FgchPUR1qYJZyBx/5eEf5gGnaTR+iRa7FuX20m5omZQoHnP+rQI8qTbHtDlo\n",
       "Q7diYyQT0s6xeEqhliyuUhkjel07r+C+I4oLj6mxwpkot1db2qgWXOBkMiOB+4R60oMBquFazfh2\n",
       "juWZ75kTtuvJOqqv4jbde+nqoPSHyhpvNJQNWwP0ImndbHdGJfApoRF+xzvYhS4ittYJZO9ju82x\n",
       "uKh4iM3E0N57e+qACwc4F5xYgw7NUr7tHT067FA55r4xTqYl8DmhXopXMVFExIpx1n5IO8eK7Vmb\n",
       "H5nuIqPeIJQf7MeUHbcXkOQyNLIwlBxPC/VkR3TF8bxQ7ByL95CeZh8JuB8J79gZenQUZ8rRKxR1\n",
       "l2mis9RSqtpmrZG7v9NBOOvj1aqaYw9BeuSBuFFmglP3I6VRjn2TC6yVWQN97BdzwF5VPE1+BBrs\n",
       "SW+QFO/IzAlV5KU/Uu26o3qa//oYQSQDTYH7hSrFIfOn2gsBz39J2CcjwIdmN+RpX8CzqfwFJwjV\n",
       "TKVGthoAAAAASUVORK5CYII=\n",
       "\" style=\"display:inline;vertical-align:middle;\" /></a></dd>"
      ],
      "text/plain": [
       "<IPython.core.display.HTML object>"
      ]
     },
     "metadata": {},
     "output_type": "display_data"
    },
    {
     "data": {
      "text/html": [
       "<dt><a class=\"ProveItLink\" href=\"../numbers/negation/_theory_nbs_/axioms.ipynb#neg_def_add_inv\">proveit.numbers.negation.neg_def_add_inv</a></dt><dd><a class=\"ProveItLink\" href=\"../numbers/negation/__pv_it/axioms/d06f9efa2d1b45a31de170b9919a065f52b1da4b0/expr.ipynb\"><img src=\"data:image/png;base64,iVBORw0KGgoAAAANSUhEUgAAATAAAAAWBAMAAAC1V91fAAAAMFBMVEX///8QEBCIiIhmZma6urrM\n",
       "zMxUVFQiIiJERETc3Nzu7u6qqqp2dnaYmJgyMjIAAAAcRTyBAAAAAXRSTlMAQObYZgAAA45JREFU\n",
       "SMfFVl1IFFEUPu667c/sjw9SEQSDpg9RMNjPQ1htROqLML30Q5CLFCSVbFBB2cNCL0oU85S+BCM+\n",
       "GPvQLhaFELjkm1EMRmBRsWEFGgwiPaQmdO7cOzP3zrhgudEH352Z3e/O/e6559w7AFXHA0Yfoob4\n",
       "PM7oh6QBlMnNxyr6iuUo/Xjoed6kUXpUW7DpAXhJHuaraCypUfox551CmdKDWeQjgCES41wVjb1h\n",
       "dDDGrgnFK33BKGIFGZchqeOlWEVjNxh9xsK+MA4zCqhdJsGsg8RUPj9YRV/RLKXfmH+UZJpSQNzq\n",
       "/AXgZ3//rfWO6p2z6pcEFEqINzSJxhp5+60t21CiUIpuuxtxAScBzgMMOGE0Kzii04oLIUftE78y\n",
       "YlBG++CeaOwupzqiJRcw68qUAK9NApL2UJiPLQF8AjjKV8akMMjJ1nRgs3VHq6NH+Be1QX/1hYuM\n",
       "JbgoGuvj6nE7BPGVUpZSwIQOiwDP8A0QcDe+727f53sMKTcFB1xjoZKzAzFtLOMzVpOmPKwDC8UV\n",
       "0/xGbutRbwXGVIPLEJbxhQuUAg5B7BdAF66PEXZ/XXLuZsbzIE0HoeQa2+SkVMTWzlU0ttWX/PWc\n",
       "KAcFtYKxWahdsYxFyyfwcaT5K4nJYrNu5a1cS3JSOnNa5oyFHV3E1u52aqlBFpaSzBoqLmWhBBMk\n",
       "TbOUdo5ZgV0FjCe0493AOYzxtRDZPgI3rYK6GqpLWkeWOvWWMzbo6CK29ilc6EcYpIuY/KvYvWLy\n",
       "F4rQi+ehm/wcfsCwYSU/PEbPQSVEnEdkosO8VEeosTirZstYh6uztR3sbaQLCx3bAvZDbJ9ojCss\n",
       "7HsdSzxYohRwGW5j24pM4SLUFAMZK0GCGfKABYlxkCU1amRdY21M12t+Nk3D0p61k8Y5O+zlib+a\n",
       "9ixlO1eV3U33d+CWpVIKGNlFapEkTALTqqBF3uMlpZMRUhqrO0mFY7Jr7JSjIxGztG3oEmGktL85\n",
       "kkYZ1/hEsTeRGq2rE4b0sD6DLZ4SSpxMJJGGBJdjo0xHjREtfHAPF6XSIZ7/w0Mc6CHOFqB77CAc\n",
       "L4YulbCNtkzrcIcEH0+sDFeVOtWxqkQt7LWPGNKF5Y9G6cfA+j57gH728ChybQBzzP3HMhYoCvsY\n",
       "QXkjH4qVp+CZg6S5rQc5ruWMScZGPq3fMfqRED0kuHZNY53OEHYFwf+GAmsGc+e/G/E3hsMcL14M\n",
       "eK8AAAAASUVORK5CYII=\n",
       "\" style=\"display:inline;vertical-align:middle;\" /></a></dd>"
      ],
      "text/plain": [
       "<IPython.core.display.HTML object>"
      ]
     },
     "metadata": {},
     "output_type": "display_data"
    },
    {
     "data": {
      "text/html": [
       "<dt><a class=\"ProveItLink\" href=\"../numbers/ordering/_theory_nbs_/axioms.ipynb#less_eq_def\">proveit.numbers.ordering.less_eq_def</a></dt><dd><a class=\"ProveItLink\" href=\"../numbers/ordering/__pv_it/axioms/04f50d259b1b80953f8ec665dd5a21d3e798ae3f0/expr.ipynb\"><img src=\"data:image/png;base64,iVBORw0KGgoAAAANSUhEUgAAAUcAAAAVBAMAAAAnVjEQAAAAMFBMVEX///8QEBCIiIhmZma6urrM\n",
       "zMxUVFQiIiJERETc3Nzu7u6qqqp2dnaYmJgyMjIAAAAcRTyBAAAAAXRSTlMAQObYZgAAAz5JREFU\n",
       "SMfNV01oE0EYfU3z1+2m7UHvSwu19GIvVUSpwYLFS38u4kUoxSJeSvAHEav0IJIclBXBloq6RWil\n",
       "FAn0pAcp8SBE0IBCKSgEioqKEkRB8eLOzszuzOxskt588Mhm8t43MzvfNzMBotBWoYzCE03bPcZm\n",
       "LY3ic1ZJw3uN6BFjFJJ2qMmYo2za0ig+50vS8EUj+swoYc94MKJqyNJhU0aBWhLe8zh08RUx5wJ5\n",
       "65rZZwYoJd8LS/hWCnneMEpo/6BYkmR8GQvh+DJKATscwCyGJSmbUsyg/VIKLYU8lxilyZ6zFUti\n",
       "koR3EIqvYClgpry6Oq+RzDMKY5yR59KRVcsgRykiNuuELGSRhxGKH0qebMDf+fysRtLDaHSfOeKt\n",
       "UuImH5TRY+GWA1NdrNgApW8B1s5qLOsuC1DjC1kViDmnmUPBDcY1bFpXSUPerxkz3oW97hp4ZfDq\n",
       "O8E2eUxXKH0LHl7RWVLujOegxDe9ON8HZDHnsK5OgcuMZbx2jnmF3c9/uttaRd6tiJyaxkVK35L8\n",
       "qrXELCSzUOMHEMScKcR0W+ouRofoPWyW2YPTYuGH+zZqiqUlS+lblv1BShYjh8d+H0F8aMScZiWF\n",
       "OoME0VM8O8AexpzErzqDDCy3+XLLloN0d1bjIyzmbKseJ5vRYK+bc/FeujcIyw2iZxidpp9DiHW5\n",
       "4lyQkx/F5RYsvHAkC+4j5/fBxSwnJ2UxJwqn3DRxZlLuOzA7nQmlcJ7GavCz8cQ17+M60pO8CgTw\n",
       "whEtfAuSLOmTlt+HFJ8hEHNiPUeOqm/k18UR9DHhc8r433RNuAbc8Up8H8bcptYNJTbbL2QL28wl\n",
       "S+K0w/tQ4lMEYk50etP64/18CFNMOEJpTPX3hK4fy92HySk9rjSztVEs9FiULdt+Hw3icyJDppWo\n",
       "eef+eeyOPhYFDLlcaepY1FoWgz7qi1fEfh6YVRMLDi7Ea3UuGPwSVTV+Nn/BqGNpHL8kmpbflsqY\n",
       "KOJon18NBUhHkfHpIgF59alK2tJe1dI2pea6orcUUF/MKaJo2OlK40tvvHsQ2tFEX3ojLI3ia2bd\n",
       "bic3Rpv++7C1878PWzv5+7AlUEwRxN9t4D/EPz5FQJYMbhovAAAAAElFTkSuQmCC\n",
       "\" style=\"display:inline;vertical-align:middle;\" /></a></dd>"
      ],
      "text/plain": [
       "<IPython.core.display.HTML object>"
      ]
     },
     "metadata": {},
     "output_type": "display_data"
    },
    {
     "data": {
      "text/html": [
       "<dt><a class=\"ProveItLink\" href=\"../numbers/ordering/_theory_nbs_/axioms.ipynb#greater_eq_def\">proveit.numbers.ordering.greater_eq_def</a></dt><dd><a class=\"ProveItLink\" href=\"../numbers/ordering/__pv_it/axioms/b1390e7fdb6fcaa315abd6c8059a4617573287bd0/expr.ipynb\"><img src=\"data:image/png;base64,iVBORw0KGgoAAAANSUhEUgAAAUcAAAAVBAMAAAAnVjEQAAAAMFBMVEX///8QEBCIiIhmZma6urrM\n",
       "zMxUVFQiIiJERETc3Nzu7u6qqqp2dnaYmJgyMjIAAAAcRTyBAAAAAXRSTlMAQObYZgAAAz5JREFU\n",
       "SMfNV01oE0EY/Zpuks120/ag96WBWnqxlyqo1GDB4qU/F29CKYrUQwlWEbFKDyKJIEQEWyrq9tJK\n",
       "KSXQkx4kxIMQQQMKpaAQKFRULEEUFC/O7PzszOxsNr354IVl8t6byXw7PwEIQ6pGGIbnmrbHlK1a\n",
       "ovIZ67jhk0b0jDIMiWKgyZonbNkSlc/4Bjd81Yi+ULIBzLrKiOoBS2eRMAzEEveex0HO14oZF/Gs\n",
       "a359eoCQo2NX6b4S8LynZNhQq+lZEnh8aQeU/AAqPjvRBNmloCRZJPRh7I5LiuWA5zoln4zXDgQt\n",
       "8Ukc74Kar2LZZ7q6tragkSxQCojns1Jxs+oyyBEKOFSFoAUXeRiC+erLk/X5O5+f00gylFbP9ClW\n",
       "2NSMN+VWxoH7LthqsWIDhKJl6xgELJuIBdDkswL4YsYL1KHgHuU6bDm3+FwdxQWyjW44jGrgLYO3\n",
       "exg7+NGsEUqWl9OgWpKoKPOg5Ntezt6ALGYc1q1TgBuUVXjnnuGraRZ/PmqvQx6tpJz6GpcIJQuM\n",
       "XlItMQcSWdDlEwhixiTEdFvqAUoX61k957xtyG1z4AeajYZiacsSihY0yLuqxcrBBu9DFoOSz2jX\n",
       "ktBkkID1BOuX6cOYG//VZJCChZVbthwnu7Oaz+GLGVP1s3gzGuxFG4zRS/YGodyA9R4e3GQhQxDr\n",
       "RuKc/07uiuX2LXzhSBZ4AjneBxPTd3JSFjNC4TwqpDuTRHNgd7kTysJ5EWtAP254+I33fAfMSbYK\n",
       "BLCFwy3CFiRZzHMO70MQa/IZYTOHj6rv+NulEeijwleExl+z4V0DrNt+yBEYQ03tZSWb7hfcIm7m\n",
       "kiV+0WV9+GLQ5TNCl5f0x/v6BExR4QihNdWfCVw/VnpO4lN6XGmmtfEtwrEoW3Z4HxH5jJDGPyve\n",
       "8M79K3Aw9FgUMYS4GnkshlqW/D6ai1fFfp7adRsWXbhqNMIuGMIlqm79bOmCEWWJzq+IppUPlSpM\n",
       "lOB0H18NBZCOIuvzNQw89cma6WivamaRUHNd0VsK0FzMKKJkFc1a9KXX6BkE7WjCL70hlqh8za/u\n",
       "KCbKoy3/fdje/9+H7f38fdgWKL4iYHwsw3+If2XIQfuui7VFAAAAAElFTkSuQmCC\n",
       "\" style=\"display:inline;vertical-align:middle;\" /></a></dd>"
      ],
      "text/plain": [
       "<IPython.core.display.HTML object>"
      ]
     },
     "metadata": {},
     "output_type": "display_data"
    },
    {
     "data": {
      "text/html": [
       "<dt><a class=\"ProveItLink\" href=\"../numbers/ordering/_theory_nbs_/axioms.ipynb#reverse_relation\">proveit.numbers.ordering.reverse_relation</a></dt><dd><a class=\"ProveItLink\" href=\"../numbers/ordering/__pv_it/axioms/b8d02519d626b0b9f16d17b2eb04797463296cdc0/expr.ipynb\"><img src=\"data:image/png;base64,iVBORw0KGgoAAAANSUhEUgAAAN0AAAAVBAMAAAAwUfbwAAAAMFBMVEX///8QEBCIiIhmZma6urrM\n",
       "zMxUVFQiIiJERETc3Nzu7u6qqqp2dnaYmJgyMjIAAAAcRTyBAAAAAXRSTlMAQObYZgAAAp1JREFU\n",
       "SMe1Vk1oE0EU/ppuspvtJu1B7yGBWnoxlyqKxKJg8dKfi2cpeqiHkoMeRBFPkgjCempRxPFSpYgE\n",
       "POlBQjwIEXRBoRQUFgRBQQmioHhx3s7sJDu7G+PBB1+Snfe9n33z5k2ANMl7AmnyJGHtznA6waeH\n",
       "9wmEBxJpknNjS/bV4XTCS3r4nED4JJEmth9bKrrD6YRNKl1CXoWqQCiPYqXtxGze6AvPlqN0jiID\n",
       "nFY8nukKqPxelDTGvZjNRe1555BG5yh0t7c3Et5/Q6Iv+7pa9eb1DqtjiAHRCT8bjcsJ8SoCdqWE\n",
       "m0yme1i+anntGK+MU9VMMlWlGyyIdEF0wlmgmRDvhoBjTGG/2o614OshdkpXeGWChnn1leQD/bQ8\n",
       "peNRDoYbLl0QnXA8qdOASwK3x3001OLiOfrs4jU7CUzU9S1vKR2wrnpCuiA6wUQm6VTvEWBjJXzr\n",
       "x7tOn0xkkO1pJmPzSge7H0+6IDrB8Uykx8MSy/7Q6gmRQWI8hNnlVT2lizBe3j9FJ2Nump8VYxom\n",
       "i9QTNWSmEO0XiAyMen//Pob1hMquf4CEC6IHJs0zvLXYusmzcybZSrRfcA3Waa29n2Z6mA37ZUCo\n",
       "X6QuYiBchP2CxzxoFl9Ic2sBM5L8XOIAlrxousZvq0eDfLytxePdHuoi5124IHpgMhk4+hWojmBV\n",
       "chcktspH3eg8s1dnKzTgi8taPF6tUBeZZ8IF0QOTAgs2P0uq89gbm2e1lAl8/6/zTElN0pXJXcd3\n",
       "sMlwwehF53XOt7+nOBlhXoubSLjoDJpsve10sdLCiRnVBM0ApmeVRr6PrMT7SLgI76NBadmu5UXv\n",
       "W6M8l/J61qj3rXBBdM1kws21F0f+P7H7b/8nduMmBRjv2vi/8gf159eiwzGHgwAAAABJRU5ErkJg\n",
       "gg==\n",
       "\" style=\"display:inline;vertical-align:middle;\" /></a></dd>"
      ],
      "text/plain": [
       "<IPython.core.display.HTML object>"
      ]
     },
     "metadata": {},
     "output_type": "display_data"
    },
    {
     "data": {
      "text/html": [
       "<dt><a class=\"ProveItLink\" href=\"../numbers/ordering/_theory_nbs_/axioms.ipynb#transitivity_less_less\">proveit.numbers.ordering.transitivity_less_less</a></dt><dd><a class=\"ProveItLink\" href=\"../numbers/ordering/__pv_it/axioms/9f76bd0488397f68a3738bd169ec694e6cd1b3200/expr.ipynb\"><img src=\"data:image/png;base64,iVBORw0KGgoAAAANSUhEUgAAANEAAAAWBAMAAACs+WTQAAAAMFBMVEX///8QEBCIiIhmZma6urrM\n",
       "zMxUVFQiIiJERETc3Nzu7u6qqqp2dnaYmJgyMjIAAAAcRTyBAAAAAXRSTlMAQObYZgAAArFJREFU\n",
       "SMetVUtoE0EY/prsZrt5elAQRAkGSgkechEKeggVLIqPxIOKF0tQUKgStB6UtuSiJIVKQPpAEFda\n",
       "Kq09BARBoRByTKUuKqiQwh700lIIguDj4j+z2Ue2XU1hB5Jv/m9m9puZ/5sZwLvyxL3pNf00Vlnz\n",
       "QihYcG8LlIEVVln3Qila/scsaEEzhHLBC6UPTiL0zarXaCYKEK54oXTXEUdu2xb5jOL64uK0F0Jy\n",
       "vj32jSj2rU0DP4vFES+UfClKx8Hr/TU9XLplNAzsFlWEqfUqUHIZLOxEqVulz+NTfIxHs6OmGSYS\n",
       "fbR1ZIlj3BjbD24PT27pYGckSnYd75QT3NUblu244UK0txJ8akdKFwed7W1MF2VCQVEP5jfs3Shh\n",
       "YpOMp0roRGlqyx63M0wJ+N6KHo1aOWDzYUqydp75/XBPhsgeSMwx0+uTllI4cY5yOXufqv2DuGcC\n",
       "Z+SxhYy1exB/GN+3HPGKyzFnlq6QcZSbEs0pHFOyjD/SiFtKyYA2jKWvrFr9Le4yQGf8yzWbI974\n",
       "mkg6XB5KIaA7Ai9JTsQmYx8PoJc3v7DtXiaqQtzPj8xc3ldogc5Qwo1TTz4W/nQ3ZdVxci803tOc\n",
       "/FWqxvj8f/HWo8jx4Wl7nmI0YpUz/mogboDOYM5MRx7BXDKx5ryNUpED1DPK9jii8IyJjB7GHgaT\n",
       "uGRTuowMgn2sq5TuMkFn5IyouNxGbeW5UXka1sKYUXBHaBLIQ8sFU0luroKWLl+jlUmZs5DHObSY\n",
       "qZXPrjesvRjZxPzHWh3ZCo73agQRca9iKgVvnDrEIvlBGULuIcR9HFqMmh03z8R/Xg17qQTLzEGV\n",
       "7U+uWMICJmj7ddCZDl9CxyxC5UD1DAOX2wgYEjT2UnPY0ev+xfGgQGhUGbgqnX5Lf6oOnha/lx/7\n",
       "C9Lis2q4HMiOAAAAAElFTkSuQmCC\n",
       "\" style=\"display:inline;vertical-align:middle;\" /></a></dd>"
      ],
      "text/plain": [
       "<IPython.core.display.HTML object>"
      ]
     },
     "metadata": {},
     "output_type": "display_data"
    },
    {
     "data": {
      "text/html": [
       "<dt><a class=\"ProveItLink\" href=\"../numbers/ordering/_theory_nbs_/axioms.ipynb#less_sequence_def\">proveit.numbers.ordering.less_sequence_def</a></dt><dd><a class=\"ProveItLink\" href=\"../numbers/ordering/__pv_it/axioms/d37eba507c3148e1dd0c1ab1376bbde1a29789e40/expr.ipynb\"><img src=\"data:image/png;base64,iVBORw0KGgoAAAANSUhEUgAAA3wAAAAZBAMAAACY6zFlAAAAMFBMVEX///8QEBCIiIhmZma6urrM\n",
       "zMxUVFQiIiJERETc3Nzu7u6qqqp2dnaYmJgyMjIAAAAcRTyBAAAAAXRSTlMAQObYZgAACElJREFU\n",
       "aN7tWm+IVFUUPzszb/68ebNK0AcLY9oFC9McGNTIP2wFLVHguEH6IXBYDDNIlpS2zGro725+aLKw\n",
       "RTBfGxhtWw7FkobVtJsfcsmGNCpRmUiL/rgslaErRO/ec+999937ZnfGN34IPHBm7rx37++ce3/v\n",
       "3nPunQcwo2zoLUIwifY+DlekqdLZW4ZI77Y6avYEthW7MtxNl0Te+dj5/6VvN9Mmy4HgppLFRvrQ\n",
       "GC5XTl+V3Dg5PX2t5CtVCUBfUARdzAJqsyVaDG5qYwN9gAZxuTL6xsn136anzyo5X612APqCIujS\n",
       "WkRttpjV4Kbe5wtcjftFCRgaxOXK6BsgxcL09NH7A0EWz6AIuhxl2nQZDW7KSjN6Mv73f5KAG8Xl\n",
       "yugjU4LOjeliH5md44FiX0AEXR5n2nR5M7gpczZ+r93qe9t40XaBG8XlyuhLHR4aen2m1OXE0NA7\n",
       "PYHoC4igJ149qM2X1o7gpk7j1/o2//B6e1oAQ8O4THnmeb6vb9tM9M3q63uxHIi+gAiahDKoZtvG\n",
       "28Vyd8+8nG/lwXmvLUhrlTxNpRUqU4epyOgDPtBCxlgYjdUIYT0C2OOEQK0BS3GZcvqcFv0+Nsoy\n",
       "fdEcxIuB6AuIoEm8gjoM36WfEgMfme275pRTj8SqWiW5qSQpWvPIBJGfapkag9t0aFdOoamSf1Qa\n",
       "Z2FEBRWotWApLlNO3x1+yRZARqYvkhHZ1CXS1wDC/bX3F8ZNArKEehi+tu9yogy59hGYf4Ohp2GW\n",
       "bU1F+LNDK1FhTWV40japLmk+ppw6+zpIiUFLRpknLGOr+i9nbwhg2QlE1TxWcJly+mIQksfL2PwF\n",
       "XJ9X6HN0YWOMJR95YWVa3rbXjZC4hq0kfJuxXw4bfFFo6UC1oc/5de9Scm0uRC4aWT2gmBB3h5dU\n",
       "whI2lbtO2xqTSnMfUy0VWFUiJYSWjKIn62j5G7q06dM7TdYikEGZIYKqe6zgMuX0WRV3hX53bAXs\n",
       "t+ywrdL3VUNnLwQmXbYGZfrqQTAPZiuQxCfWeIFd/FSOAcmqMqYAf9IjQML3FIQuQMTPzCyBgZWY\n",
       "/Ck9F/TmtPRJplbZsKhISwiNRvP8NqPPyTvv81uLbDDyHFh2AlFVj1Vchb5EVdhIbd9lwyfpjAVj\n",
       "2c3ZkkTfG2iwPqEw6XLqPZm+ehC+PzDEGUo8yDpyyrOUCvr4igbGOd65cA+09vjTt06kNFiJzbZz\n",
       "UiwV9CEAxr6fa5hypsIvfERzok1BDDP9SGb8N+YfOvorB5adQFTVYxWXqTjz7F/vjPiKrnYSBh0Z\n",
       "GdlhqbEP4judJ8Vq79IXg9HFWrpHYRz6hmX6KAIM++SGJs+3IhnBkHkLq3ezNxAK+ng+8XFoEuZj\n",
       "n2IZ0mkf+pL2IgjZ2EVaCYvY9Oi3bRkPfalqjSxJMrWZjnonh9boO8XPVJI+G/dfGYUSKDpBUWlR\n",
       "9ljFVVIX+NCxnbqt0lLE888R6737NfqSZOmdH61ugaj35Ctkb4qxjRIhHR5ytIr0hbMyfRQBziRm\n",
       "qwjQmnuFFQRD5hGG2cmXgAf7HKm49JH03tHIxfhkooKd21cwn2QUmP+S31VWWFV6GXazLtJKtMia\n",
       "HpsLczz0hcs+OwmvKfM8vI0lhNboWy6Sja3MEdcbmubEbJBBqROISouyxyouU0EfWWZ33QCzbJNS\n",
       "NgLlMY0+ukLnWitgfO4dfAPOinWJZI1O3oEw6SUbOmT6KEIob06pCDAP9uGVt0R2sprPueHnlJk6\n",
       "h8ewHqpm9/z2k6xzn+1oz/GRfJRYzbPC3rbBFRXsIlbC3tKmicEemPLQ16quD7qp5IW2xVhCaI2+\n",
       "M3TTTj7auCPCmygZlhCLmLITFBWLsscqLlNBX4pU6Xa2HMZjfX3POPTtjun0HafxtMieG1kuyPSR\n",
       "pw1h0l8u9NJ3nK72kUkN4QlYhYU1zgRLG8+S5/I0vzm83Vt5Tdn3JIt0bqUYbH8hXWSVuvkGyxnN\n",
       "tLMP3DTx48REBdu+PcOhmWMqXBVGBcPRiYnrJs7iRZP60IGPtyoR+pnzHJpRJxCVFiWPVVyu3v/7\n",
       "roblBqY4IxDp4vgufRhPnavq4BuTBhz95IREH8KkyyOHPfQR2WeH8yqCOQVLECHq7g3eel6szr/T\n",
       "r00kk6i4s085Ryadu2oG+mgXr3KLLK/Mhcs5efbNdGTtmGpJ6/TJs8RK13/s7jqBqMwf2U0PrnJk\n",
       "zTZbk7BlBA6R4jGAE+qhGatzBMpk8BMvwYBNPwbsPVbVgg8KMbCyS7PLkL5DSJ81rNH3GayxVYTk\n",
       "pLGVIoCVc7OTnf1AapHF4SwreFIXeobjnuOQfew5vvetsZ8kXcRK2FuUPRC7m9NH2vqcYWim9uTA\n",
       "3Zy7Rgv8Yr0HFAKUOoGozB/ZTQ+u8ocRe3zysKACcSdRiDzVwaaBSp/58D0L6OAb18LqojHH+Vhd\n",
       "2nts9LCzC10rzz4Ck9z2h5mtqvQtabsVVIRwd7vNELZLDA1sJLUwcWQFD32e/1BffbqbzYDE0n9q\n",
       "PPq0i1gJe4tyJ4S+YrGPto3P8HctMdUpSmyc0WiBX+yv9x+EguxEp+yP7KYHl6vfyxI3OkHL78ja\n",
       "u+mEpPhVYvSQOCfo02BibpjTEejuBxFCTuwTDK0turWSOn1Nflkizgs/+Nys0xQnI9XklyVkXK6X\n",
       "+K6LsWiZ9D4Ie6tjLxysIH1df5X8zzx5mNMRaNqJCCpDB7RCsgqXR+JNwChcJt98cQO8qiS20in5\n",
       "ani6I2v3SFhFWAs19gak1n6y3bPd6tHyZRqiRBMwipfJt2Ig+nrrfM/TqE1fQ+957pjmH4dxuCKY\n",
       "9fbmIdL76H/Icf4tjxHfcAAAAABJRU5ErkJggg==\n",
       "\" style=\"display:inline;vertical-align:middle;\" /></a></dd>"
      ],
      "text/plain": [
       "<IPython.core.display.HTML object>"
      ]
     },
     "metadata": {},
     "output_type": "display_data"
    },
    {
     "data": {
      "text/html": [
       "<dt><a class=\"ProveItLink\" href=\"../numbers/ordering/_theory_nbs_/axioms.ipynb#greater_sequence_def\">proveit.numbers.ordering.greater_sequence_def</a></dt><dd><a class=\"ProveItLink\" href=\"../numbers/ordering/__pv_it/axioms/4430c0c7c5b51a2d34aee7310a6f5a0a39fd59000/expr.ipynb\"><img src=\"data:image/png;base64,iVBORw0KGgoAAAANSUhEUgAAA3wAAAAZBAMAAACY6zFlAAAAMFBMVEX///8QEBCIiIhmZma6urrM\n",
       "zMxUVFQiIiJERETc3Nzu7u6qqqp2dnaYmJgyMjIAAAAcRTyBAAAAAXRSTlMAQObYZgAACE1JREFU\n",
       "aN7tWn2IVFUUP87Mm483b1YJ+mMTY9oFC1McWNTID1aDJJIcjXL/EBwW+zBIFo22zGzIyDX/aLKy\n",
       "RVBfCkbblkOxpKE4uQXlkk1pVKIyfVPksliGrhDde8+9791375vdGd/4R+CBM3PnvXN/59z7e/fe\n",
       "c+88gHHlke4CBJNo99NwXRoqi7tLEOneWINlV2Bfsevd3XBJ5MjHjv8vfbu4NlgOBXeVLNTThvpw\n",
       "hQr6KvTG2bHpa6JfqXIA+oIi6GLmURst0UJwV2vqaAPUiSuU0zdEr/8xNn1WkXw12QHoC4qgS1MB\n",
       "tdFiVoK7ek9McFXuFyRgqBNXKKevlxbzY9PH7vcGmTyDIuhykmvD5VhwV1aa05Pxv/+TBFwvrlBO\n",
       "Hx0SbGyMtfbR0TkUaO0LiKDL01wbLm8Gd2VOwu+ODb63jS22C1wvrlBOX+p4X98b46UuZ/r63u4K\n",
       "RF9ABD3x6kJtvDS1B3f1M36tbvFfXhelHWCoG5eryDwv9fRsHI++iT09W0qB6AuIoEkog2q2rFnk\n",
       "THdLpmZ9jfdOfW16WjPyVJVmqEwNriLHHvKBdmSQL6OxKktYlwPsCcJBrQLLcLkK+kiNrT4+SjJ9\n",
       "0SzEC4HoC4igSbyM2g/fpjc5HR+Z5DvnlFLrYhXNSK4qSYpZnhim8lM1V4OwUId25Ry6KvqvSkN8\n",
       "GVFBHdRqsAyXq6DvLr9kCyAj0xfJONnUVdJXB8LK6vsL43YHsoh6HL607yGrDL32IZh/g6GnYZZt\n",
       "jUbEs8OMmPCqMjytm1SnNB9XxOZAOy1xaMkpj4RnbBX/6Wy3AywHgahaxAouV0FfDEJyfxnrP4Fb\n",
       "cgp9RGfUx1hy3YsL0vK2vWaExE0Ar4sfdysjNiomhQntqDb0kF/3z6HXpkDkitGmLygmxN3upUZY\n",
       "wqpy01ldY0Sp7uNqQhmWFmkJoSWnGMkqVv6aTW368E7TuQhkUO6IouoRK7hcBX1W2Z2h3xmcDwct\n",
       "O2yr9H1R19kLhUmXrL0yfbUgmIfbypAkT+x+MZ0nZntXs2RF6VOAC+wIkK4coxC6DBE/NxOdJwmN\n",
       "uFyQngt2c0z6JFdLbZhZYCWERqc5cZvTR/LOB/3mIhuMnACWg0BUNWIVV6EvUXF8pLbttOFIOmPB\n",
       "YNv6tqJE3250WJswmHQp9a5MXy0I3x3q4wz1ioOLxB1ZX/rEjAbGRdG4cBc0dfnTt8oBQSM+2i5K\n",
       "a6lDHwLg2vdrFVdkKPwmejTr1Mk73cw+khn/jfkHRH8XwHIQiKpGrOJydc48t64mPT5/eStdBokM\n",
       "DGy31LUP4jvIk2K1Ltcng2OztHSPwRD6+mX6GAL0++SGpsi3IhmXoY47xd3P2v3oE/nER6ERmIZt\n",
       "imVoo33oS9ozIWRjE5kRFrHqyW9aMh76UpUqWZLkaj3r9cUCWqPvnDhTSfps3H/nFEqgGARDZUU5\n",
       "YhVXSV3gA+I7tbA8oYDnnwPWuys1+pJ06p0WrTwBUe/JV8heG+P9S0mHx4hWkL5wm0wfQ4BfEpNU\n",
       "BGjKvsILMkP3idnDPEHtH+0hUnbpo+k90ciV+EiijI07kDef5RSY/9LfFV5YWnwZdvEmMiNW5FVP\n",
       "TYFmD33hks9OwuvKvARvYQmhNfrmOcnGBh6IGw1Lc2I2yKAsCERlRTliFZerQx+dZnfeChNtk1E2\n",
       "AKVBjT42Q2ebymB87O18A8478xLNGknegTDp2Y+0y/QxhFDOHFURYCocwCv7PNnJV3zeCZ2XR2qz\n",
       "WMO6mJqd01rP8sYd3d6aFT35JPWa44X9LXvnl7GJaIStZVUTe7tg1ENfkzo/6K6Sl1tmYQmhNfp+\n",
       "YZt2+tEiAnGiidJuCfEVUw6CoWJRjljF5erQl6ImnWTLYTzV0/M8oW9XTKfvNFtPC/y5keWyTB99\n",
       "2hAm/fkML32n2WwfGdEQnoGlWFhBBlja2MxnvB/5Bnabx3hFyfckizZugdPZ/kKbyI06xQaL9Gaa\n",
       "7APXDv8wPFzGum+Nc2hGXIUrjlOH4ejw8M3D5/GiyWJox8dblQj7zHoOzVgQiMqKUsQqrlDv/303\n",
       "wjwDU5wBiCwX+C59uJ6Sq2rnGyMGnDxyRqIPYdKlgeMe+qgcsMM5FcEchdmIEJVGX+RPtOp/Aa3W\n",
       "0kyi7I4+5RyZNu6GcehjTbzBLfK8MhsuZeXRN96RNXE1Ia3TJ48SK137sbsbBKLyeOQwPbjKkTVP\n",
       "8EbgiQH4lBZPAZxRD824zQko0c5PvAS9NvvotfdYFQvez8fAapvTNhfp+xTps/o1+o7CCltFSI4Y\n",
       "GxgCWFln7TM2E/aIwT7GHimoqQs7w3HPceg+9qLY+1bZT9ImohG2FmUPxO4V9NG6PmcYmqs9WXA3\n",
       "567TvLhY6wGFA8qCQFQejxymB1f5w4g/PjmYXoY4yWQjm9r5MFDpMx9fMp11vjEZlhWMZvKxrLj/\n",
       "1LHjZBfaIY8+CpPc+KfZVlHpm91yJ6gI4c5WmyNsEwwlHqYNI1YP4AifrNPn+Q/11ec6+QhIzPmn\n",
       "yqPPmohG2Fp+MAChL/jax+rGx/m7lrpa7JR4P6PTvLi4tdZ/EPJyEIvleOQwPbhC/V6WuI0sWn5H\n",
       "1t5NJySdX0VOD13nHPo0mJi7zOkIbPeDCCGy9jGGOvD5c6ySOn0NflkiLgrf+9ys0ZUgI9XglyVk\n",
       "XKFX+a6LMXOu9D4If6tjPxwuI33L/yr6n3mKZU5HYGknIqgMHdIKyQpcG4k3ACN/jWLzxQ3wqpJz\n",
       "RpqSr4bHOrJ2j4RVhA51RmmW/Byk2z3bNY+WrlEXJRqAUbhGsRUC0ddd43ueRnX66nrPc/sY/zgM\n",
       "wXXBrLc7B5HuJ/8DXez9mtd38DQAAAAASUVORK5CYII=\n",
       "\" style=\"display:inline;vertical-align:middle;\" /></a></dd>"
      ],
      "text/plain": [
       "<IPython.core.display.HTML object>"
      ]
     },
     "metadata": {},
     "output_type": "display_data"
    },
    {
     "data": {
      "text/html": [
       "<dt><a class=\"ProveItLink\" href=\"../numbers/multiplication/_theory_nbs_/axioms.ipynb#mult_def\">proveit.numbers.multiplication.mult_def</a></dt><dd><a class=\"ProveItLink\" href=\"../numbers/multiplication/__pv_it/axioms/ee67d351d26b20b4322793d91bfd2a6a864209820/expr.ipynb\"><img src=\"data:image/png;base64,iVBORw0KGgoAAAANSUhEUgAAAcsAAAAZBAMAAACsrRjkAAAAMFBMVEX///8QEBCIiIhmZma6urrM\n",
       "zMxUVFQiIiJERETc3Nzu7u6qqqp2dnaYmJgyMjIAAAAcRTyBAAAAAXRSTlMAQObYZgAABSZJREFU\n",
       "WMPtWG9oW1UU/zXJa5KXl8wPCmZzkrVax1QILaJgq63FFREhLegmFhqCQyaz1H+rThmlHyR1DqKC\n",
       "1uno64RNqjNhErQyZ2mdHyrVwDrmhtOAbqJoDLqJ61S85973XpKX90pemEjBA+fdl5tzzru/e849\n",
       "99wLOKPG4aex0qhneMapihcrkPzx/2H+SzD30ndzVv9M20jXS4GUYIKZp47TTmA61DCRPMIeb1mv\n",
       "+5S1dN20VWMG8zP6/aMTmA41TBQiLD9Yz0DeWrpueldjBnOcmhEnMB1qmOgY42DU+r9ZS2lTJEZs\n",
       "DB+q7lIighnMkMpeM05gOtQwEe1HXhsfTVpK1w9Tvkwwgxmcn5p61VEKcqhhSnpD7GGnHeq0kq4f\n",
       "Jr4TTJn2j2TyWWeZ1plGJbkoXpsBz6evNbWWpr1p6x0sYpWolfTLc+tUBzD97a2r9b45wQRzCzDm\n",
       "DGbtGtKCaPuMGPfRVrKbIfKNIm3E7js4EdnJ4oTnoM8LRN/q0p4wfmGWRmqF2ZUKFfW+rwUTzO7K\n",
       "DCc9/gnWVW6ngRceSpTD7LbKiZb0ou6GbYY+AX4GeMCbx0SMHEm98/hCvYt9yByjJD2Zwy2Q2oZq\n",
       "hCmvhdvIj+8LJpheuIzN+u25DnygqG4jSOTDbTl5syr9VA6zXMOWyBSO6L+MlwZafpcDaroT31BH\n",
       "mmZMRZJPcdFkhKRvV/EY8ymHqRQK319dKFQXNSwCHi0UzrI39xK8xkwMCCaYSs6obIK79qj4KBJV\n",
       "DPUvp6cQfAM4XA6zTMOWuKllYOJjYJAbFGP+1RbmlZDP6zBr8GbDCNIxC5j+/H1sVB19zRSNjLLZ\n",
       "lzjM2ZtaYh5KAXdmmVA5TK6BN1vOVGfw1kHtE90GOrJTgqkHLW4D/pJLS+U8PQUWsTbPatLynwgU\n",
       "HcBMz9AMHjveREPvEcxr2rEHGcyuXENKlHFZ5WA/JTl10NsZoo5TJ801LWnIT0pLwMOVnzoQG9Di\n",
       "Pa/D5HZKMPUUhKsQWDKi5kNXERv0FFRGTFq+iMb8tAOYGQwGUotrEa5MQXiPWdhzHVapMs/nWcxQ\n",
       "HpbwM/MYH8O0GSZpuKPSEPpXV36qDZs0t0b1zMPtYFJPqnzPoBx/Dkr+uNbpuegrUjXvNp8LSXoU\n",
       "J+IzVTDlv/VHOl8B0xcJblf8+4bAnIB2wRzmKlJMoAvSU8nkKIO5Vyy9C8CmZDIZef1eM0zSaMi4\n",
       "mPKOymGtQYsWhNzU5qhmB5K+0fLh9vDW/4i+zciJDc10FgjFTDBJen/T/YnOam9u1x/a4jYybeLa\n",
       "V65BY8TDqh+cEcxhBinOrkC7hLjwpqdP5AMJjfTi3qelfQMmaaRTvlOqCaZ8AbungreeZk6JG/sI\n",
       "2Sl5c9li74B9sVdz0GqJKOaeiUFmSsTGedNfxBNZHKXXReArjKsTSl6BEuNlRaxUVBs5tiE1cA/3\n",
       "5rjqf54/WBOWzuUC68EsH9XXJrdTWpv1lu7GliqrNjCnyn9MwHt3rLx01yYrjhty8LEo8uzsZE7s\n",
       "zexfnJ0HdvEapfBcrAqmJ3Gog8PszUhh9KaksLQGG69vzmELVSy+jAZT2CnB9JEnx2o9iPk0v/tv\n",
       "/j3ipKbcCNdCxUGsgtazBSVIWzYutjaXuz3YURJlMy6aIdeibqp631zuWO271MfqMY1tL0kCqZou\n",
       "Sfp+y5SJiowsxwMLVeiO1HJJcvISX5IEU4LtYQZrvwsqiVaP3cg821balZeje1r/jaLtz/yXKHuG\n",
       "4/8AFtyIJycTLqsAAAAASUVORK5CYII=\n",
       "\" style=\"display:inline;vertical-align:middle;\" /></a></dd>"
      ],
      "text/plain": [
       "<IPython.core.display.HTML object>"
      ]
     },
     "metadata": {},
     "output_type": "display_data"
    },
    {
     "data": {
      "text/html": [
       "<dt><a class=\"ProveItLink\" href=\"../numbers/divisibility/_theory_nbs_/axioms.ipynb#divides_def\">proveit.numbers.divisibility.divides_def</a></dt><dd><a class=\"ProveItLink\" href=\"../numbers/divisibility/__pv_it/axioms/66faaf3fe115a7bf532b9576f80d04f09c94018d0/expr.ipynb\"><img src=\"data:image/png;base64,iVBORw0KGgoAAAANSUhEUgAAANwAAAAmBAMAAABdfejNAAAAMFBMVEX///8QEBCIiIhmZma6urrM\n",
       "zMxUVFQiIiJERETc3Nzu7u6qqqp2dnaYmJgyMjIAAAAcRTyBAAAAAXRSTlMAQObYZgAABCRJREFU\n",
       "WMONWF1IFFEUPurs7uzs7CpR0Q/ZoiQikRZYEGWWkNRDrgQ99JJIRb6ERFJRiBmYCtYKlVKEow8q\n",
       "ErnQU724mQ+hUFsEFfSzFggFhVlCalH3Z2bu7Mzc8R7Yb4a9d+937jn3fPfeBfCw9yBq4ZRHo1LH\n",
       "0MOy08J0W9BwhVHo1lxbD1mQb3s1UTZpHYAq5UEpx+86hvwYrBKeXH8M4E5OGto57d8syDN/nTDd\n",
       "SfTRsqIwx2mnQe72jNaxuCibbwFjjeab9/Tc2/8Z4clFyDgVkJ3H82eRIceCC8J0fSQObSBz3f9k\n",
       "QXfLySyDox5dKwhuhxpu9b2woLuhzOM5GiNM6M+HLl1XEBws2MPNdl+ljmmefPTFMA6Djc7vHDI4\n",
       "nzFLi1VvzJ9u3oB9TwLFKfz86kL3keAXO53ilJrwLPEjrfyytxSXQwRaSCPtAr3YvRYXuh1kpDI7\n",
       "HYw7s9yIMZCSo/aWXQBTKo5jNvEIYQTVnppwoTtPxog76PodPQPEW6mgnM336rlm/NwJwbrD+CW0\n",
       "oGN4cmSkxy27PzGwFpMuUmnvmVtmL7NWUz9krZN8s2Tg7/b2S250RJAK0Weg6MbmKKLTJV8tc9DZ\n",
       "g3ifqdVLujUpfw08AdDhJtCkQxd6SYbPBNKITpf8MMn6s+/YPpOuo/Zya2CjtAxbnMdY5bbY0PIh\n",
       "dBdRYjV1UYojOl3yQ42OkrHTsZXnj+nUfwwMQLabGNBor0QOgtxCcqdLvm/WoeV4peX+w0bafPl4\n",
       "5qSpSkpaVgJGNRUALzo9NxOG5HPorIFhs0vLODxWumD6CK6m8iKkIlIRBDRbMNFwMUpHJV9qZLmb\n",
       "cQ+muTGoCfSzLJxDEkyCHcdRAWqnA2iBq7larZHkOX2phLRS1IzpqOSHHZketa/MbcbLrSD6wVbT\n",
       "eYIPkLs+urPfroZioyvx5wkKYeI63CWzo5Kfk3QUgv2bgBHdTlmDwTcZdaeXzYKuOvXGb1YTjcVC\n",
       "P7A7Reio5Edijr3Dvs0ppw7SE9Oa6fbLP67gNyKnBMM4W75ZH/7iLJjnoWsuIoYlf8ixqmRHeKWn\n",
       "VMSYqi0yxNlW0yr0atAkmevusV2idcl3SrSat+x+T7uYHQdfjU9CbQL2F5uejpEl2sHoqOS7aEJo\n",
       "UfA0E8mMekKJy+aiptJk2V6p5Mtxjt55Gh0sU+1CcX+SnazpOcc8PGzSn29dBmtblm4sztDMJ0jv\n",
       "2JoOL5+RjIOPUtCwb9z78FThdWZfEqYbxXV2D15Hm3k91luQf6sRNHJVmoTn2gFehzyG3JNfTJgP\n",
       "F6vGvZCgoVIMuVdE8evdB8sWyg/UMuFqFaYjZzDuhQSCaxnybUg4mkoTwCN0rCvhDJRg6HEpuSA8\n",
       "vZ64tCTPBjnJ6bKgh90UpgvGlPqSQs5fB0qlif8BmJM0CfLsRSsAAAAASUVORK5CYII=\n",
       "\" style=\"display:inline;vertical-align:middle;\" /></a></dd>"
      ],
      "text/plain": [
       "<IPython.core.display.HTML object>"
      ]
     },
     "metadata": {},
     "output_type": "display_data"
    },
    {
     "data": {
      "text/html": [
       "<dt><a class=\"ProveItLink\" href=\"../numbers/modular/_theory_nbs_/axioms.ipynb#mod_greater_eq_zero\">proveit.numbers.modular.mod_greater_eq_zero</a></dt><dd><a class=\"ProveItLink\" href=\"../numbers/modular/__pv_it/axioms/331fdac4fcd213b77de1d60b28e6440caefd08e50/expr.ipynb\"><img src=\"data:image/png;base64,iVBORw0KGgoAAAANSUhEUgAAAPEAAAAWBAMAAADjpGcAAAAAMFBMVEX///8QEBCIiIhmZma6urrM\n",
       "zMxUVFQiIiJERETc3Nzu7u6qqqp2dnaYmJgyMjIAAAAcRTyBAAAAAXRSTlMAQObYZgAAA4hJREFU\n",
       "SMe9lltoE0EUhv8k3Sa72SQ+qA8WYYlWfRGC8QJeI74J6j6poJBSb+iDFu+VPsQiEvXBRUFFkEaL\n",
       "KLWaRRERxC5VEaMtEQUveImCPqhgtVWkiDhnZjdNakO7gh44mcm/M/PtnDl7doG/sFO2V7Kzi4vd\n",
       "60OPILlAnZeuwEpKeEW72ceH7W0Aqo0/rna+0Ll8n/58cEUOG8IrmtwnxsUYnu8M52YPzDaVRi6f\n",
       "oJEpV+RHtlc2QY6YtEM7DBudaw+Bbi6HM4BquiI32j4ceRlbGqdtaek6u7Mf6MiQHMq1tR13BZYb\n",
       "hA9LvsuDm7C1lftE+53dksnlH+l00wh4VrHnjQmHPHfaONZIb2ZE66uibOH26G32v72zVpDfR+ew\n",
       "eMacecc+8rzrZWSNyywKB0ZALi6AQF44FhrhHhL8zWiZyM5PakRAg1IDVeT2r0zWQKhQnHiUjkj+\n",
       "CSQ1Li9y8q/clhYqkf2mcGU8fDw1A6MQSSFp+C1I3xAo2Lkd7EdEQ3DgXJ7wQLE9Jy0u++HNlxCu\n",
       "TVnzllonSsGt++drZWRPQrivH36NkwuIWGjRk+x2fiJrQeFkX4H6Uo8zb3KuJNokq3l/sUTciOe9\n",
       "KnIaf+zYz4Vb86BZ6hncim+Lm4PInhSyOienaHMtegdlDYVSkNnjzFLJISt3tWKGdQhZLix3yE+v\n",
       "t4GRn1MMIqxUhA6dzDBy6OKQ0WYb6kApmfbci6xDjuSxIIMqEW15lhPYNPDalg+sZT+tk96hilYn\n",
       "MuVxMrqJpQAzRm4fMsOyJjYHjRKyJwapD+GUfc6RBMsEO8PkzWZ5JeHyFYZXdkj9CEOQ40SZnJkg\n",
       "arpm+eJlZMoA8oAW2qkO7DmpS2MQtiCPhu8rydX5ABvl44/j+URJyJQxtsxmwReTGtDKyb7126lt\n",
       "xiuF07SZGxJlZAoUuVJfe2wiPc9bvq86PFb93ISjD6ZT+Lpqv9TRyU7rotPWB79vOifpthxiRc5j\n",
       "euuwIp1Oa171yGMaMBozpd3pdDO0e1OJrLupniV2bhg5awSeZ6pFtIOrqd72owZ1ItpXc27fGKXv\n",
       "xGFkj5FcAlUX55yz5IPYE0rhjiCr7eWzAobwEb3LRUG6tItsx2CZzq7+8jzgEFWSbqt1vlSD5Q/Y\n",
       "8iwhg02flHjB3ZfBoLscgexl52xXLtFMYef8F19DJfbMlVz58+k/WP7fI34DHBkNtthCaVoAAAAA\n",
       "SUVORK5CYII=\n",
       "\" style=\"display:inline;vertical-align:middle;\" /></a></dd>"
      ],
      "text/plain": [
       "<IPython.core.display.HTML object>"
      ]
     },
     "metadata": {},
     "output_type": "display_data"
    },
    {
     "data": {
      "text/html": [
       "<dt><a class=\"ProveItLink\" href=\"../numbers/modular/_theory_nbs_/axioms.ipynb#mod_less_modulus\">proveit.numbers.modular.mod_less_modulus</a></dt><dd><a class=\"ProveItLink\" href=\"../numbers/modular/__pv_it/axioms/c9fa52ea11a01c3010679d106bb0174d87dd100d0/expr.ipynb\"><img src=\"data:image/png;base64,iVBORw0KGgoAAAANSUhEUgAAAPAAAAAWBAMAAAAMZgw+AAAAMFBMVEX///8QEBCIiIhmZma6urrM\n",
       "zMxUVFQiIiJERETc3Nzu7u6qqqp2dnaYmJgyMjIAAAAcRTyBAAAAAXRSTlMAQObYZgAAA5JJREFU\n",
       "SMfFllloE1EUhv8mmTadTBIfXBFhjKI+KASjIqg14INPah5EEYWUuqEgFhdQaSFWkaig0T4ogjS1\n",
       "oFKrDYpIQXCwilirxgVcwDKuiAotdUFbFc+Zm0mTOMGOIB44Mzd3++495793AvyFHc94EZMXJ7Pl\n",
       "NssengSgc+GZLa4cE17MPN1ho9vOaqA0Udh6egQ91gG3+Mc7W2BfQnhRawiLfkGi67+1viQ/Bxyl\n",
       "V3nMFvhBxouaX4D9KXpczYnEa+PVT66o8FE+lJQt8PaM/wm8iFPdmK31bjai5OrjNAyBt6O5+Ygt\n",
       "bnm18D+CbxjxDmcqHTVCcoox9BXwNR6vGQROy5YcQeGobx/Lc0nPpweqXIHdQEvgGm2mMxAVsDeB\n",
       "WcQJilEtm0yFVI2jALcDq4G9gwAHsyV3WrhrFLqNirI6NIzHPUjb4VbRmMJdoeqfydYEvEJdTbXm\n",
       "8NZ38jegC5hnpTxgoV4MXJYS3pjGTLGSIfDHEE2UaZA+44Cpak8f/Co8RmRL32eHX0miF7hEc8CR\n",
       "zgFcmrTyhZGKDMmzaU+FmgcuCQufm4QIn1uHX0NDJEqr+S5/p00ZYKeOVlpKD5dPDoArwF2iREiX\n",
       "ZW+Gy6G0Q0EHg3ys9DPtc6Bqygm0hzaHUgXgkZA/C3CMt9YQuUKVX6VeE0zHeFEqA0Z97cAxdvUb\n",
       "4HJ9iVn3uK0ZBH7KEfCT9r37jyUJ7D1rFWpat6cnD8w7/ihnwf40B8VVXSCuH3DSgZpPpb2rOPkT\n",
       "XsPFkzOYFRwNrKf0kxG4xUpccj9K9bZccEkQ0ie8NXPsD8tjYIpr4Dh9YnGwuHCB1iRvlfrggwCH\n",
       "GDIxOU7c46rmDOWBOfvsdXhUqQ2AoxFpGHwaDoUxVzUElXZTL6dWcIFswC56zuaVUTdnUKpGkwF2\n",
       "rtnC7zp0yQZMnbE2nAfm4LGfDCyr4hZp45flB4cr3TWo75xGe5h9PzrcUMzU25zpSMGV2TSZM8lF\n",
       "L4WgJOWoxNJ4PK46lMMPuX0oZkjb4vE6qDen8PQRG1dmrp2y/sCZN19rwv00WSpC7VnByejDaFSK\n",
       "UF/ssPmRyLWrlrWKah6RRHQBlIjIcYdWvg87vDFcF2ClJX+UOyF8UN9u3bL6XDZvVefnAPv5Armj\n",
       "NVVIo7Gkk2an8+Gp+SCHdFt/BAoXaWEFl7SDcpzRgXhNohzb/+uTa08sa71F49WG/2Tpf074BQ5q\n",
       "BYd3gNJYAAAAAElFTkSuQmCC\n",
       "\" style=\"display:inline;vertical-align:middle;\" /></a></dd>"
      ],
      "text/plain": [
       "<IPython.core.display.HTML object>"
      ]
     },
     "metadata": {},
     "output_type": "display_data"
    },
    {
     "data": {
      "text/html": [
       "<dt><a class=\"ProveItLink\" href=\"../numbers/modular/_theory_nbs_/axioms.ipynb#mod_is_remainder\">proveit.numbers.modular.mod_is_remainder</a></dt><dd><a class=\"ProveItLink\" href=\"../numbers/modular/__pv_it/axioms/3098eed6c53a105039d7e389f40193551e4445f20/expr.ipynb\"><img src=\"data:image/png;base64,iVBORw0KGgoAAAANSUhEUgAAAY0AAAAWBAMAAADOX93WAAAAMFBMVEX///8QEBCIiIhmZma6urrM\n",
       "zMxUVFQiIiJERETc3Nzu7u6qqqp2dnaYmJgyMjIAAAAcRTyBAAAAAXRSTlMAQObYZgAABSZJREFU\n",
       "WMPVl39oW1UUx0/y8vLj5b1kf0zdVoRn2m5Dp4RGi+DWRQQHgi7+MxE3EqpWFNS6qXXaP2InkjrU\n",
       "hwOnE2nWohu1LmEySkHsY1HGajsiij8GzvijKw5p6+xE2yqe+yMvr7cvXYr9Qw988+O+k/fO595z\n",
       "zr0BWL7dMP4mmlHl6tvOw4Eik2BBw9Gzmr1zh/VxqCJtIg4lMvbtsjg+hua2trZ1zheVtPP4US77\n",
       "0FX48rCjZzX7aIY+4/l2AK9RkRqHT8mFC8vkAMcAqIWqrNPPXHb7EXXM0bOaBWbYQ6IIU6oIOd4g\n",
       "V9Mrx/G587AWZVpgcyhV51+O2zyrG+MI5/HlZEXIEcriW37lOPY6D/sMJrt5ZkmOrBI4fMblObZj\n",
       "0HC4IuTQRvr7D8KKcQTanX9zkMtuKvX9SeBYOhjGcYomV9wScsAfmUxnDcGbtXG4SVYcKFyTFcbr\n",
       "uQJj1zZYpdRaj4lQEDio1+Ym0kbk72+KtHoiLwAMRMhDB042Mo7zkVtwGqKWCMeDAN01cETtHKc6\n",
       "Ojr+dHTzY9P0rIUpOt+T1OgvX+a61fBOl31zFxS8yTmBg3mFqJevC3oa4DOQ94JfB6UOVNav/s7m\n",
       "DNCwwLkIx2204hfZXaUlOIT18K4p7OPXfTjDh4tws3i755iUq8FLbqyQseEsXAQYFDiYl0Rbj38V\n",
       "hNOQNHwmyJfAX+L9KjgLYR2CmJZchMMHbvvGM7jx/h/oZPLAgrtfbNGX4FA+jBV9htrLE8mFd9ya\n",
       "hd0ix2omaRpcJENzBKYFlHmAJLl8ZnLyicnJ89xTmgUfbWMYediEnkQSZ2ceciYolEMqkc8yLhkX\n",
       "4VCLPmsPw5jcKoyQe4RID3uvsAV0U+2FQmxPLO/I8fVQPwRhV3kXJxxrQLlUhcOVhp44WbYU3T48\n",
       "c5zDth7MK5egHGky8T2JYVLHkNQ5B24f2/MiR6C0o/wwEhNynCXrE8b2p+0/lEUO7X3n9VCaGvIe\n",
       "Nh4ttwHMK5zk4LStPlK2vMrp8J11n7/IxMO2xXmFkz0Mdg6yHr+RHzOOcJGsuQdziotwQPcD+NK3\n",
       "fhxoTISDBJWMPIKlg4YcA84cRxJJI8T2rrcSlTpX5rAGhoT14HWey8Mrth6KleRU5+j1GD14lTlc\n",
       "UZBnIJTm9RGOYwWJdQ4fIJPylDwLNCbkiJGYN2Tr2dlLN6WYM0cM7oY++rlXtfYE9OuCr1KmwFFg\n",
       "CunavDX2KOzD180CB3r5de1ptbIeyYR8BYRMCKwG6SLtK0U/PkYyLVEO9AQpKrezmNxS25PkvQvO\n",
       "KTR2vfmhuMgxgX13HdTBergnk8noYI7AIb5H46S8G7m3NS5wbGNSWq+bscb6NpEEHhc4qFfj62SX\n",
       "kR///b5Xr1SnOuHA6I3kB2ONv5IsVZrGSJUkLFEODVuNK+9OsZjc6mtfsHJrlp/JZLpAP3098UqI\n",
       "6wHY/LvAS4M/UYTTNZ5LtGnhfNy+rHOJzY5UpJanLWf4z2a9LK+CO0kPncXpTrG8OjHidC4BWIs9\n",
       "XSV8kkTXoaZzolfYl6xzYn9N50SbLTwn8nZpJO9kMZG+awZegme1NHzCONQBZ47bN+Hc7scPX7aN\n",
       "TqTKhV5lOru5XELlHHP0rMGEcztP69bjW1hMg2fMvha5DnaMYkzY7oKdvyixkiMH7RZuUh+1/49S\n",
       "p/ZcLuqjtXGQCStLXViOlZiC7G0j1sdi21AuTcn81/9rteX9r7XZNxW5J+JVnIZqutXWcfiPWxH+\n",
       "Z/YP/YWuIDDsx+cAAAAASUVORK5CYII=\n",
       "\" style=\"display:inline;vertical-align:middle;\" /></a></dd>"
      ],
      "text/plain": [
       "<IPython.core.display.HTML object>"
      ]
     },
     "metadata": {},
     "output_type": "display_data"
    },
    {
     "data": {
      "text/html": [
       "<dt><a class=\"ProveItLink\" href=\"../numbers/modular/_theory_nbs_/axioms.ipynb#mod_abs_def\">proveit.numbers.modular.mod_abs_def</a></dt><dd><a class=\"ProveItLink\" href=\"../numbers/modular/__pv_it/axioms/e219ab691322cc5a22b1cb0ba1e81743bd08172d0/expr.ipynb\"><img src=\"data:image/png;base64,iVBORw0KGgoAAAANSUhEUgAAAcMAAAAXBAMAAACFcDlgAAAAMFBMVEX///8QEBCIiIhmZma6urrM\n",
       "zMxUVFQiIiJERETc3Nzu7u6qqqp2dnaYmJgyMjIAAAAcRTyBAAAAAXRSTlMAQObYZgAABaZJREFU\n",
       "WMPdmH9sU1UUx79r+9a+t/4wEVAhJKUwIMZow9SYCFLDHyYmukp0RiW2DtGwGF1EDSAxZTGmSHQF\n",
       "EiEmuC6Loohpo5kwotJsMyS4YREThYipGon6B2xQwA0Ez3n3vfa9/tor/mO4yd17ez3nnvu553vP\n",
       "+wFcXXu85HitNTmLYe10+KoH2Vn9J+XhZHlEUxuo6vv+/SYj7jn+50R9s/sQ9SHKz47zoeHCanl2\n",
       "ASNW3b7pdEg12dhpiGhqjYlqvl/lC65sxP0bvvJXfYh/1okIuZuz8PkEpEv6JW+ihn1PSNgEDRHN\n",
       "ec5VDZUvuLIR9x18OVYXoSdYL6KygKc0d9Jw6Wgte59A9KUNEc1tsKpvvug6KLqXZO9O14XoTNSN\n",
       "GDhHC7nMiLjOAmJr0hDR3HqnQFRde0X3HNq9e3t9Ot2OuhFvPgvY7JOQH9H11GkB8aAxorl5Q7UR\n",
       "D+pG3P+OxzdYmGWmeDpXoG0bmpO0iuh/ihaTEHecx5PXL5/vh42lp44ASL/cEWh3BF4H9gRoPGUk\n",
       "EBEAJwN3FyMWNtviRTNJeEK6Ja7YM9icL7qyEfdVwCYLszTshrdURMdNOF0zi4dPcftNILamsZ8Q\n",
       "cRJY65cn4KL6I0ZgHXahZx6OQFoHlx+9aXwrKurlZCpRiKi3exPeMVovrd6YXZVZcOeLrmzEfVnl\n",
       "8vRgririqypibxZ3WRaq35mDnxHfADYC/8BJ21+MQM11HXwxRBLODKRzeFuvqE2T8PkLEfWhZsNO\n",
       "1bFJE7rZ1ZXTKqpwZSPuTtiM99W9C1f+ykdNCZDWDGNO1IQ4TUVcmsSL5YgfJSsj2ibkkIZICGfQ\n",
       "QBBiBJ5nDr4MesIR4r6k0H0lpSLac0hl9IiKqolTYRrESdzSGMpd2VzJF13ZiLs76yzM5IuWrM2N\n",
       "Q7x0Xq6yHw8twT530p4calnTkjYj3gjlXDnibelyATCicskDDTGuI4oReJ4xXvOe8AEuDdIZHZHu\n",
       "ba3pQkStNcSQChsQja6I+DVE4aojyrk23f3Hgd0gxOOcVR/tAs/md5P40h90VxAqLXbTWDkir4wm\n",
       "ALEXTwpEbDQjklC1EQzz5FScVQqIviwnukSolJwDdHB0otwVKR1RuLKRarjpafrTN/93OHhqjMjq\n",
       "iAQ6aJtS6+/f6q5QbpSLaMwNlCG60poASrKI1g4TIpUbbQTDPBuCkPL4Q9+LvpAyG6XlJpXG802J\n",
       "Qrkxu3pj2l4Urnq5wWfEqbwsTcILgdjCOAuSc8Xza7/7kxVmxCFVqF34IZqpiOgru1FLURZY44TK\n",
       "pyJypsUIhXlGwtJ0eDPYEsJStco0Zl1BpHJaRD2A3/MKLbk9Y0TUXeVpsJ8puKpGqiFXLXtQ6kSf\n",
       "imh/5iU+duFnRcXqR2bIjHifivhB4LH2EB3fmx7oOEE3psAtSdhGb00LAZQ8ol7O2kK27gur2650\n",
       "tF1ZtW88yvoRI9ACvHD+ie4Z7tMbsG3kdlruxd9FZqi5XzRK1XC9FlEXRHvzO/NIKWGxdmZX9I02\n",
       "j0d1V9VINfSQ3hvStigejcfjfpt76/dih98prY3HuwhxJ9ejcLUHOPkiSWsvpU/pxGIaSAhgyrbO\n",
       "6rPU/ooPcLusuO4yGqYSruPJRiHUphW8xycxC1GRRcfyWo/hyiSew0OIUOLplPchCWDq8EetImbq\n",
       "fAwvMSoYNiQiD8AdFnvxUEZ+E+s9MXzNP1FOfypx3WRCHEM7IR4BVjrGVEQSwNThXQlYfGrQIlp8\n",
       "mSoxKho62j9dAmzmW//hTN890iy0jYja4XgthMZar8QaImdRFllkAUwd3+ILnKfiK7GlBWKjUkMb\n",
       "7UXtvVscFtJerPxho1k7bYbMiBFaDnkmnWyheyoL4D992KgY0dSOWXE6VtNwoI6vHOc9Nwx0BzEy\n",
       "lIB7dAElkAXw/2/Za+hj2r81mwEgaxKHyAAAAABJRU5ErkJggg==\n",
       "\" style=\"display:inline;vertical-align:middle;\" /></a></dd>"
      ],
      "text/plain": [
       "<IPython.core.display.HTML object>"
      ]
     },
     "metadata": {},
     "output_type": "display_data"
    },
    {
     "data": {
      "text/html": [
       "<dt><a class=\"ProveItLink\" href=\"../numbers/summation/_theory_nbs_/axioms.ipynb#sum_single\">proveit.numbers.summation.sum_single</a></dt><dd><a class=\"ProveItLink\" href=\"../numbers/summation/__pv_it/axioms/1ae8b6efa23aa0f7a8d8881b3266f995edd258520/expr.ipynb\"><img src=\"data:image/png;base64,iVBORw0KGgoAAAANSUhEUgAAATgAAAA/BAMAAACGI8lVAAAAMFBMVEX///8QEBCIiIhmZma6urrM\n",
       "zMxUVFQiIiJERETc3Nzu7u6qqqp2dnaYmJgyMjIAAAAcRTyBAAAAAXRSTlMAQObYZgAABv9JREFU\n",
       "aN7Fml1sFFUUx093d7q7szOzhEgirKQNVWIwhhVC1ISPKonGGNN90ieziB/RhLRVI+JHbMODLlHS\n",
       "NTFINLpLUNFi3FWjRvrQFWJISqQrGhDUUB+M37TUIrRYxntnzp3ZmZ2ZvXN5cJJlpvR/Z35zz7nn\n",
       "nHu6AM1Hj65PQItD7cSLY8BzxLLAeTBlQtcvev2+Z2Sku9U9PsNzqp/vmdt54ZgyNjLiDdf6DslF\n",
       "ePFyju+Re7p54WxlRhAuzqz6GJ7lVb2BmLHF3HZdfLlwR/GsMOfcl8uXA0es57br+suES87gRYnZ\n",
       "YDXcEzykUuWFs5SCcIlBvCjYb7k8eIiygBfOUgrCjRZxrc4yl5uFncOBQ+RpXjhLKQj3K541NoOw\n",
       "WJqpB48ZL/PSMaUYnDSPF3kL6LbrulrAleq8cEwpBtc+hRd9wH9oE2GVYnCVTegd/4SAi8yGVYrB\n",
       "ncYAos6EgJP/DasUgxtiEWUqBBz8FFYpBncBz+nBMHDjuZBKIbgYM1BPLQxcT2dIpRCcwlxt3PC9\n",
       "Sd0+giJthXueUSkEp83hxaQRLUd10wryK8c7zgZVMtwJDJVCcGlWYJ43/o3qVsGpDgSk93buWIJK\n",
       "IbgS2ieJC2PADnfRgEgbmecOdPPicKNY5qf+xiSm25lpTcC2gzvQoVIIbiUuuwi6v6rbBlMbdG/g\n",
       "+XNc5P75JFn3UmbAsMOPbjjNeJBPqt6AjhVlO5Ch827J3q4iyGx1tpsFVvKS182oEt71VGbgCD39\n",
       "7oZT6PM1nyKnD7NXOwspe3T3zm/LaBW0IktH6IieS5kq4TdPZQZ2U9JBN5zxP7t9jDCJT9WYNWPu\n",
       "LaY88xbAN9aPB81Th1cepUo166nMGNOjVJt8js7lER+4DpzRtjkr35x1TnKKJt2n7N2ec1yTMl70\n",
       "VGZAHRsefrV5QfwwPPye335ZZ/HOyvuaq0WgkKFJe7hm+sFA0SPbUNWr3kqyWi8UCs82w6ULhRdq\n",
       "3HByhyNMqDc8noUIsZW87JFbiaWUrB+coYQu6lprVy1xKQncgwA76OXaeiNcew4SRW44ksIcO/o0\n",
       "CTYJcr/34UTncwTBnNdJM80pZ4wjaylhJ/ncUtSmXEoCt9FcI8qyWiNcLAsfND7uvpduWh0AF9WX\n",
       "OHIIuXmcOPIY2azcYTVUhjxqJqqEZ8gcL4XooEtJ4OIQqdvWtoJwP1zPft5/aB3x7rEVzIYsJFQa\n",
       "MvmAw66jdLmQG5bNja1kvsWQR7+EKuEK8nZzRovDoSRwSj1uTEPZCfcVMIdWX3ytDFXpZD0IruRY\n",
       "PYcRDmC6BdxhhGsbhEquGS45cTclGFrnhHtT2oTtmY2m4RTL+5lZKw1V+tcOB30eTLOCdM6Ig/2N\n",
       "cOhzmywlNWulZkyiQ0lz644H6NV3rtya2NWN7RnTR09+ErQgYucc87EQzAVxIDIFK9wLoklJF0Sl\n",
       "Cr2pYtOCgI/7zU6MEy51I7ZnZGNZyZ21ILh81Rn2wYgKsYuJKZrTozU/OEMJh8irdKpbFZcyw1az\n",
       "sZwdVck0tmekbYXCdlCUcrLsH+cWOjcZU6aF5M0rumhNoZlUA81whhJuJ3fYfM2uq11KCqcaD13k\n",
       "hjvF2jOGc9x5LyhF3/SlORO/YuRqO33tA78gbCrt9OVQWvWcPOdVzxntmS/pVTZL3w+HIlzcGlNw\n",
       "PPFTzVjYHIkflb6Jn81vvxec0Z5JEH9SH9pydKu1p0bzJNgqUJ62Ezn5bDPDd8JdMulNcKg0U1ST\n",
       "0oJTs/6V8LWF7cHFZkMc+Z58jt1sPokVYkgpN5WkTGkVm04lg9OO50KU6XXnjqUhjsQWeJTpJ7Fx\n",
       "dqFlme5UMjhlWZgNDkaVFKaskhVH5A0Bfwxh+6HWByqFNjh57IBJ5j5Evor94vU+Pfd/bw3TrLI0\n",
       "9yHaJTMfParr+vmAYdFzvHCoFIKLs+A7YK4Pzl6Jxt0wQ6UQnDUFG7ibWo4uBq9SCC7FnGe0HgYu\n",
       "nw2pFIKzWsGsN8x3rKyGVIp1Np9kztcfBq4vrFIMbhwzgjIbBu7KsEoxuBJ2cpLTIdhi82GVYnAa\n",
       "M+cvIeDa58IqxeBUFktOh4gl6WxYpeAf5tg+ME2z7ME1yxnj3uU/+47hfxGmFIT7AstNhWylI+Xe\n",
       "ePfDBXLU5Sckf9ud4Z5jphSEa2O7HZLzJfjLSh1ZyTe4xLgzq6UUhFPZBJ2mU2gFlLZqxDcsa9wu\n",
       "ZylFv4DwJ7tRje7SJeilZUm9Ukyc8umGwodlXjhLKQqXxzAszUJJmWDNgLZi/i6/EUu5Xc5SisKp\n",
       "zLdOwDvfHhxj3rL5o3V+sYs7DdtKUTi4n92K05VOcE+crfSG4/iilcZKjD+4npjk/kIOU/p90Wo/\n",
       "xxetZBZS3+Z7ZJEbDpWxkZED/wF02T8U9ddoggAAAABJRU5ErkJggg==\n",
       "\" style=\"display:inline;vertical-align:middle;\" /></a></dd>"
      ],
      "text/plain": [
       "<IPython.core.display.HTML object>"
      ]
     },
     "metadata": {},
     "output_type": "display_data"
    },
    {
     "data": {
      "text/html": [
       "<h4>proveit.physics</h4>"
      ],
      "text/plain": [
       "<IPython.core.display.HTML object>"
      ]
     },
     "metadata": {},
     "output_type": "display_data"
    },
    {
     "data": {
      "text/html": [
       "<dt><a class=\"ProveItLink\" href=\"../physics/quantum/_theory_nbs_/axioms.ipynb#ket_zero_in_qubit_space\">proveit.physics.quantum.ket_zero_in_qubit_space</a></dt><dd><a class=\"ProveItLink\" href=\"../physics/quantum/__pv_it/axioms/820882b51b699021b2c0b4042ce6076ef082b5850/expr.ipynb\"><img src=\"data:image/png;base64,iVBORw0KGgoAAAANSUhEUgAAAEYAAAAaBAMAAAD4TDc7AAAAMFBMVEX///9mZmZUVFREREQQEBDc\n",
       "3NwiIiKqqqoyMjKYmJiIiIi6urp2dnbu7u7MzMwAAAADxdujAAAAAXRSTlMAQObYZgAAAWdJREFU\n",
       "KM+F0z1Lw0AYB/C/SWsISc4biy4BcS0V0UEUOroZ8AOoCNqxm4tDtro4+AU0o1WQuopKxbEgEUQ7\n",
       "CFZnFQelWC31ci/YVpo8Qy65++XuuecSICEuJ8MkYnuan2SGPfKZaCrpb7yKe2OgMtqoibuhysCZ\n",
       "gsjY5WsQ99/gQeFjjbKNITIl3HlY6SdvTdx8UZg0MmYeto9yHzG1ANinOMMFM7ob5VVXYzPrhajd\n",
       "S7HaaZSUNueZGXFhNaF7nJBZWVa6xC5OkOp03pl5pLBaMKp8qC6J4z79rVvDchWkBZn0hOxOV097\n",
       "DAX5Acb4Y04Z2mPEWnjm6Sxss4jWyr10G5az0QS2+OtqHuxo3UbPwWwD0/wxr/p3uQmlETWUM4wq\n",
       "ox+xGlq+NNjAbQN2UZxgUaHMXHg/pebBw2GWDcq6jJ9LQzKLqw2Vj4gT2VpX4iy6Q5lszMcojeMn\n",
       "GzOIMcdyq4l/UXz8As67XmCaNjNWAAAAAElFTkSuQmCC\n",
       "\" style=\"display:inline;vertical-align:middle;\" /></a></dd>"
      ],
      "text/plain": [
       "<IPython.core.display.HTML object>"
      ]
     },
     "metadata": {},
     "output_type": "display_data"
    },
    {
     "data": {
      "text/html": [
       "<dt><a class=\"ProveItLink\" href=\"../physics/quantum/_theory_nbs_/axioms.ipynb#ket_one_in_qubit_space\">proveit.physics.quantum.ket_one_in_qubit_space</a></dt><dd><a class=\"ProveItLink\" href=\"../physics/quantum/__pv_it/axioms/03564865cb62271ff7d2b69f227f4290ff17d82e0/expr.ipynb\"><img src=\"data:image/png;base64,iVBORw0KGgoAAAANSUhEUgAAAEYAAAAaBAMAAAD4TDc7AAAAMFBMVEX////c3NxEREQiIiIyMjJm\n",
       "ZmaYmJhUVFQQEBCqqqqIiIi6urp2dnbu7u7MzMwAAABqK0sxAAAAAXRSTlMAQObYZgAAATJJREFU\n",
       "KM9jYCAAjqpeIKSER4DdgZAaZgG+jwTVbGD8zfAWwubEqYrzL8NpCIt1A06TFsDU8BVgSC4x+WEU\n",
       "APQYA1jNDKD3DNCVvPvJcPVbAANbAEgNb009UM0yNCVs7AsYGPIDGPYw7AObkw9UcwUmp2xsAqLz\n",
       "OICC7AF8njN14WqYBCDu0oIGa4AQkOBdwPH//we4Gs4DYKkrUCW8BU8R9sLUQB1dCBVmPLALi5po\n",
       "MFcBpiYAm5rnYOe0uAAByC6FN1jUzAFrh5nD4MuORY0imNsAE08Fq7mAogZqQhRMDdNqYBhyO8DV\n",
       "rAeq4ZkAicEJMEUhOhduKsHNCe93TWBghoZL0V6oGr6QftMHCPeAwFYozX0IEhfIAKamDk9ihKrh\n",
       "dSCshm0BHjXroF4lmIvwAwAPuFooM6wTMgAAAABJRU5ErkJggg==\n",
       "\" style=\"display:inline;vertical-align:middle;\" /></a></dd>"
      ],
      "text/plain": [
       "<IPython.core.display.HTML object>"
      ]
     },
     "metadata": {},
     "output_type": "display_data"
    },
    {
     "data": {
      "text/html": [
       "<dt><a class=\"ProveItLink\" href=\"../physics/quantum/_theory_nbs_/axioms.ipynb#single_qubit_register_zero\">proveit.physics.quantum.single_qubit_register_zero</a></dt><dd><a class=\"ProveItLink\" href=\"../physics/quantum/__pv_it/axioms/8d0a018b29ec29f8fa2b5391b474fd341d9c96930/expr.ipynb\"><img src=\"data:image/png;base64,iVBORw0KGgoAAAANSUhEUgAAAFEAAAAWBAMAAABK/G3RAAAAMFBMVEX///9mZmZUVFREREQQEBDc\n",
       "3NwiIiKqqqoyMjKYmJiIiIi6urp2dnbu7u7MzMwAAAADxdujAAAAAXRSTlMAQObYZgAAAVFJREFU\n",
       "KM+V0rFKw0AYB/C/hjSmSc64uLjkCUpQHAWfQAo+gFnE9R5AaHXR0cFJBINbHUSfwGyWCpJBpIPg\n",
       "4S7FLoXSgvfdpXbwTvCDIyH5cbnvnw+fUOXBWKzUVy7Xk75duDPKsHq8pmXYeQZLrLJ3KfCh5Qle\n",
       "m8hscolH+6gp6W8jbKNjk+dAF/Uzkk4Cb4q+Ta4DrTJqk1xOEIzgNC1yCDxwbJJ8jxGM4RVmGX1J\n",
       "meOQ5F4BNga1xFL1untKdaSlOwEGObUkZQw2ocjYSvZ7T1fuOSgo79nXKbIgs35d5q068kagk5gk\n",
       "ddTi1IZMKYU/BXVXSX3O40puAFclRTNL3k0te6rksav+5gFeBEJukTUe7QCPSr7dNKD+rFFGvWuh\n",
       "MqymDvc2qSqI57JB42yVi+JH0gi4q8PcIvvzmffzP2f+Qq5bfeuURlkX+rqFf9Q3XldwHfwniO0A\n",
       "AAAASUVORK5CYII=\n",
       "\" style=\"display:inline;vertical-align:middle;\" /></a></dd>"
      ],
      "text/plain": [
       "<IPython.core.display.HTML object>"
      ]
     },
     "metadata": {},
     "output_type": "display_data"
    },
    {
     "data": {
      "text/html": [
       "<dt><a class=\"ProveItLink\" href=\"../physics/quantum/_theory_nbs_/axioms.ipynb#single_qubit_register_one\">proveit.physics.quantum.single_qubit_register_one</a></dt><dd><a class=\"ProveItLink\" href=\"../physics/quantum/__pv_it/axioms/285553cb90b9e6ce427328648b94af5f5e9576450/expr.ipynb\"><img src=\"data:image/png;base64,iVBORw0KGgoAAAANSUhEUgAAAFEAAAAWBAMAAABK/G3RAAAAMFBMVEX////c3NxEREQiIiIyMjJm\n",
       "ZmaYmJhUVFQQEBCqqqqIiIi6urp2dnbu7u7MzMwAAABqK0sxAAAAAXRSTlMAQObYZgAAAP9JREFU\n",
       "KM9jeMsABpwMWAHfBQg9AYhPQ5isG7Cq5IEKRyNU8hXgVfkcqnIG0A4DnCo5exkYmMEqeWvqgSqX\n",
       "4VJ5/fhfBgauBIiZ+UCVV3CayQZUyeuAUMkkgE8lgyJCJecBvCrnIFSCvMSnAJY+4gICrigqmZFU\n",
       "RjPwhRrgNBMY3nCVwCDjxq0SGN5wlXPwqgR6A65SEa4S4k53FJXAoIGpZFTAa6YQxEfrgSp5JuBS\n",
       "yQVSeRKsMrzfNQEcs1hVslZ8CQOHITQtMWzFpRIMuAMQKutAHsSpkv0BXCUoCTAGf1+AQ+UVREpm\n",
       "W4A3JWcB8ToIk+kCVpVcDyC0LgMJAACIYVz8eve+2wAAAABJRU5ErkJggg==\n",
       "\" style=\"display:inline;vertical-align:middle;\" /></a></dd>"
      ],
      "text/plain": [
       "<IPython.core.display.HTML object>"
      ]
     },
     "metadata": {},
     "output_type": "display_data"
    },
    {
     "data": {
      "text/html": [
       "<dt><a class=\"ProveItLink\" href=\"../physics/quantum/_theory_nbs_/axioms.ipynb#expand_register_with_zero_ket\">proveit.physics.quantum.expand_register_with_zero_ket</a></dt><dd><a class=\"ProveItLink\" href=\"../physics/quantum/__pv_it/axioms/a9bed950da5971ded3e530b54a0d446a9295e3bc0/expr.ipynb\"><img src=\"data:image/png;base64,iVBORw0KGgoAAAANSUhEUgAAAY4AAAAZBAMAAADUPtQAAAAAMFBMVEX///8QEBCIiIhmZma6urrM\n",
       "zMxUVFQiIiJERETc3Nzu7u6qqqp2dnaYmJgyMjIAAAAcRTyBAAAAAXRSTlMAQObYZgAABTtJREFU\n",
       "WMPNmF1oHFUUgE+Tmf2ZnySIIkHUtaEYNYGRCDW1hS2CEX1wW6EGEbME+yCIhDY0lvqz9MVNizAq\n",
       "pKFgM0nAxmibRVnaYmsXN32oSWAx9UGtElAfqhhCiSKJUM85d2ZnJrObza5Se2F3fu7Zc8937/m5\n",
       "dwEqt9DAQbilmzTw+kbEwnDLt6GbxvG8fVWrE8+U61H/D45oAabt2/p4VeKPBDqnXT2qiTfnBMcC\n",
       "XX6owNFAF71QM8cEDz9xJ97KyarE95Ti0NovCT0vU/SazDFDfb9W4NBoeRusmjmuiWn8ie77qhIP\n",
       "l+L4DU6arOc0fpQF5himdUxV4GCB4ZoxdEMYtkoP7VWJ17lOMDY7G2MOvQm0Bdaj0YsvmYNmWctU\n",
       "ig9asJmaOcImGyatgD2HGxfn2RbJdRuixKknkgR1RaxFE36NMof+1eTksYpxfnVy8qO+mjmO2W7N\n",
       "GiJmVeKDztsT+DvlKPU0JkFaFXp+Jn+Pc776K50uVUVyPo7GdPrtXM0cLcKwBkOdN0HNVSV+3nlr\n",
       "dAKM11vYM2WAdF3oyZNzGcyx18PsaYaPI5Qg/rrbiu/kOYC2tuKj9ug236/lFMgPFZ/eEYZNZR54\n",
       "phAI9G6hYJGbERB3Al03603FUGLYM5ID+brQ8yP1LDDH4x4fLMshGeyP/cV371qg59RiDr0Mr/ow\n",
       "OnCQUHHiDwnDLo5ZpwIl4dmtgaF94k69qQfoHCezkMMA+W+h5wxVxD7mCHtzApqwfxruS67lQHjM\n",
       "DwoH6sf5HQBf4Os4rDgiB6HHnL9w1d3xoG61OD23C8MeFjrdksDT0BXg8Ik79UZDFIPc3fEr1tND\n",
       "EkvMoRXcHE0mntWseivfsb8j4+WYo2Uk60A/etxijqkE3OWI9MNI/NNUeH2OA62UJl2Ph9S6HELc\n",
       "CSdcj/FOsR4Y5+qq0OPhiC4UJ4hNvBAztIBfwQmaF83YnUQ/pIYcPSa84QpdtEKJ7jIcwlGU5eiy\n",
       "yED6jt0tazjs+EgGxDEs57/ZbCCHYmgmc0RSoK+IqO6yx6L91eBLYGtmE7PZ90pwRIbQTxu+f2pF\n",
       "bGSYw4J9rtA+FGuPl+YQgasvKasaF119Z2GTWX49fOJYfa/cDc0gxTE6LsuFYh3k2uyJc/gMxxSa\n",
       "eeCsduqFIIdK4diIuU0RHa/werj5C5Pfh3C+4OVQmp2nPBsWSsEfGhfd4/dDo1Wewyc+A9GxPgrE\n",
       "ThxY28MedwhGE6J4byePywmORnRD1ixMzEIuH+QADCzY1ZoB+bV0+jB0Gxwfy0WZefv6ZBqbJSLp\n",
       "OSdhdbFhkQy0PCi09cJOCC0u3rP4eykOnzglvpiEdfu0Vdx5fbJ5r23VL1QHE4JDt2zNwsQsfEAi\n",
       "iTUc3+GnVW4yRZKh9fDmKyknJXwnNN962BsN0ch574Dtcvn18IpjwodNifpcApTH0HU8PaRHoek6\n",
       "6T1/sOakWA9pd5nzx2G5LwaXnPioM9Rk9AgMW/j14udnfbth1RcfzsaPG05ldAn6sw7HmbL7RD5T\n",
       "4/SMQPhpvMizs3H3/EF6vPtE++TCmtnEK7ibKsNxDXoTtN6CA9ryIDfDLhO/7r1xw3cQ2vpnzMNB\n",
       "qcUZnoqulIS2gs3x/lu9ARCPOFXfJ6BuLnCO4uLt2bfby8eayUTpzTiE1j0PtqLzMUeF5uGYcA3T\n",
       "Y+CvH2XPUdy+LnceZD2Dzr5zqISJGzrXVseBB9Ut9m3EqszhET8S6Nzi6tEJ4dt/dT4frbj79uyv\n",
       "yjUT/qu2MY4S/19FKx7r5Bm4WU0aOPAPDq6pEqS3KnkAAAAASUVORK5CYII=\n",
       "\" style=\"display:inline;vertical-align:middle;\" /></a></dd>"
      ],
      "text/plain": [
       "<IPython.core.display.HTML object>"
      ]
     },
     "metadata": {},
     "output_type": "display_data"
    },
    {
     "data": {
      "text/html": [
       "<dt><a class=\"ProveItLink\" href=\"../physics/quantum/_theory_nbs_/axioms.ipynb#expand_register_with_one_ket\">proveit.physics.quantum.expand_register_with_one_ket</a></dt><dd><a class=\"ProveItLink\" href=\"../physics/quantum/__pv_it/axioms/59547d28fd5a1126a93af2cdb0252c8a549908ca0/expr.ipynb\"><img src=\"data:image/png;base64,iVBORw0KGgoAAAANSUhEUgAAAb0AAAAZBAMAAABX+u07AAAAMFBMVEX///8QEBCIiIhmZma6urrM\n",
       "zMxUVFQiIiJERETc3Nzu7u6qqqp2dnaYmJgyMjIAAAAcRTyBAAAAAXRSTlMAQObYZgAABVpJREFU\n",
       "WMPVmG9oW1UUwE+TvPx5eWnnRGSILFOmIi0+jDg7N8gQ7Ac/+FZhFhk2FEWFssZtUAfq6j4l7Zfn\n",
       "H1gZ1D5b8EPFJW6GDWxnIJOxLUqw89t0lepAweiHMaUq9d573r/7/iVRqOzATcI9552c37v3nnvu\n",
       "BWgt0fEjcEvKwHi1HbMY3KqSyG0Yn6D5aZa/uUcGKHfkJelWPeeh2TC+GZCyfrord8MWgEc68hJ2\n",
       "eztvaZIqNsq3Qju/bcXXhlWQiBM0MvGtvLM/U1ASc3lYA9jXkRch58fHNK/ojfBdpp0/t+JrwypI\n",
       "ulX25rtlR/+HIN2AaDqyqa1JYveS9+T7REPNSb0Rvmn6NdGKrw2rIFkGFlmPuchO4ddOgNugSwlX\n",
       "FQg1OvLSZ3XP1etpxieOjmmokdLYCF836ZLKrfjasAqSIxjZ05qD706AMXUWYk8pIK505OWk2Rsh\n",
       "L2kui+N3TUONuAkb4UtdWlg43jK/tGEVlKbzGNkFcPD9qsGY8iSEviS/ix15iatG9/vklzhl8THN\n",
       "D9ho/vyjUHjdw1uVz58+Vu1JSMbIVmGpn+MjctQY08WOvCTN+GTicj6smXxMU8NG+V70fnUyz4dW\n",
       "29LmRkReeW+vaSI9tpN/fAhg0JzP8QaLTPwz9N7fDr7IXz67kICr/asmlVW3FyPBpNSwKspi2uRj\n",
       "mu+wUb4nvKe+gw+tYua287YGqWrSzNIX4QD39DM7yMeo6aDMIkuuPSg2HHwx0wW/pQkZV4bkvRj7\n",
       "ZRigf56Ga/JRzRlslC/Gpy7h0HnYlnPxoVWJPv9RbTfAOQa7Zi39YXV56aqt9ANmg9KVZZGFbwdj\n",
       "TF5tNq+z3xnrj03SKBtYFx/vxdgvJYIo0+Vk8lHNMDbKJzWsmUFDPytpYa2WOZQp2/nQikadmjqh\n",
       "sdhLCtxlmByG2eypiVgwX2zkmCO/sDWli7Wi4oF8updFa/zm+7nxW+T5Eitm6cBCX0rLknt+olVN\n",
       "uI/MVMDYh1V4wzL6XIsqQz58+swqZWezDr7TkDASIcl7WIlyfLj+rru9FCG1e/BeyifKkmrnK+p/\n",
       "P6DXn8UXQLdloVcq73jwMSv45dOStmLyaXDQMjpIzPqy3nx6ZrgGpXKV4xOqEDL4po1K1G/8OC+k\n",
       "2EjtaXSpEMmS1XdRaJh8rAyx5Rc4TTyhLQu9In2834OPWsFNsg+jYpSN32Yrgcqk2FpscHwfqJaS\n",
       "RvYy9Cg83/F67SXjicugV6J+fJwXUmycuB96CE8/7d6H+99DRhmyCxvj6yFJn9li6BWo1jz4qJWw\n",
       "eQqE1wqFYzAks/V3w147Yb4vEJlEPsHYMSO4M09B6GGN39/X1383PBAbVokeaH7fbDY8+DgvNKYR\n",
       "2EMrGeryJ8b36NbVBkb7IzbGl9J0Wwy9AjPURHHwUavQxN4E5Izxs+fPSDWi8Edn+/gZlRU46xd7\n",
       "9OSNYSXqN36cF7qU7oBdAqldHieTSzXPD0wj5rFZ5z9mm8Pxiwz6nP/i6WdD8IWx/kJyMpeYhGmN\n",
       "fDz/2Vn+/HrGvv6MytiSBfclCAHDShT5knm/+poJqTcSv8HhCp0m9XrWOh9Rjb2+1ms7ZstCvwJw\n",
       "1YevW41uh3hZ54PeGghbYK9KPraur3OPvHt0xM4XVwPOtyi0LNYrUcqX2HEz7UowlhdabERy0Ntw\n",
       "nf9YsWI7H+mzg9nS0CNvZnGD9T2/P0AmsS12fznnOJkGytc2jsDzLe5kab/zLdMU9ea8n2Cht3U/\n",
       "0RkfzEBICTaebM1n8xJ33+ZstzQpFdt/uH+xcoe/jP7b49RG35953H8m+lo+tr8M/7MMjOf+AcAi\n",
       "uX1q2ErRAAAAAElFTkSuQmCC\n",
       "\" style=\"display:inline;vertical-align:middle;\" /></a></dd>"
      ],
      "text/plain": [
       "<IPython.core.display.HTML object>"
      ]
     },
     "metadata": {},
     "output_type": "display_data"
    },
    {
     "data": {
      "text/html": [
       "<dt><a class=\"ProveItLink\" href=\"../physics/quantum/_theory_nbs_/axioms.ipynb#ket_plus_def\">proveit.physics.quantum.ket_plus_def</a></dt><dd><a class=\"ProveItLink\" href=\"../physics/quantum/__pv_it/axioms/e5061b919e107af44e250de7a611962e10088ce50/expr.ipynb\"><img src=\"data:image/png;base64,iVBORw0KGgoAAAANSUhEUgAAAIUAAAAyBAMAAACAOwXCAAAAMFBMVEX////c3NxERESYmJhmZmZU\n",
       "VFQQEBAiIiIyMjKqqqqIiIi6urp2dnbu7u7MzMwAAAASOpYoAAAAAXRSTlMAQObYZgAAAjxJREFU\n",
       "SMellj1s00AYhl/3RyGOL0QsjG0qMSJlYkBIeGinqGo2hlZkK0ylXdgQHfjxguqhYkCVEqmCsc3Q\n",
       "nQwMbWHwghohIXnpWLWqQB0aFM6+2HFsX/3p/A75FF/85Pu592zgRpUdEe34wpkIRWTL6IhYjy98\n",
       "F2GqQ2McP3JxKmGUGyTGLZttoJDG+MgLXScxHgCH0GvDC59CBltpcsYuiXEPaDlsM8EAHnNGj8T4\n",
       "C3y1UZUwJioEBvvDGW3sSBjFLoGh9YHzdtjUOIPQVM7geZx3w42QYNTptfgb4dCyXlrW2zHGKbGn\n",
       "LTusO5HHDoUx5/846H+CUSXvMdyR9FSbHRlQ4kHOKNhsDThKYexzhmGPzCPxIGew48/uaIQRxsKL\n",
       "NzUx8xEjzYOB90tmSh6eDsYZadslYEy7wwu/Y4yn4Zdi2/vclTN6kvNDeDHC6MkZDyWMyXaMkeJB\n",
       "fVjD/fjCnggTToxB8GC6IgzRVMPyZSoy6sp58D9+/9yyGhQPZueR8ODtAUEXY4xqpB8NtTx8D+as\n",
       "xbDzMwqkG2b8JsgYByTGsiQP5oQezJK2KWFEPJilKfsmhvBglk7A5ufcVAOGHszSEX7CuEYesXUs\n",
       "Aqu5GEYNz4BmJQ/jBNhy0HTzMMSZ+9pRvL3UCY6pUl81hS98/+jCFA1FhPbrOrDUvPpYL4fPCN1U\n",
       "7+dSBa+8uA1NebYz5qT39Ch3oSszpv8VvJne/fHtiXIt5f62F7YGgyv1hrz7gNxqmfkZkhfr//y+\n",
       "5L+LdHLzAAAAAElFTkSuQmCC\n",
       "\" style=\"display:inline;vertical-align:middle;\" /></a></dd>"
      ],
      "text/plain": [
       "<IPython.core.display.HTML object>"
      ]
     },
     "metadata": {},
     "output_type": "display_data"
    },
    {
     "data": {
      "text/html": [
       "<dt><a class=\"ProveItLink\" href=\"../physics/quantum/_theory_nbs_/axioms.ipynb#hadamard_on_zero\">proveit.physics.quantum.hadamard_on_zero</a></dt><dd><a class=\"ProveItLink\" href=\"../physics/quantum/__pv_it/axioms/ab64dfb092529bb3dc79a5ef6fec857821e0bbec0/expr.ipynb\"><img src=\"data:image/png;base64,iVBORw0KGgoAAAANSUhEUgAAAHQAAAAWBAMAAADjiKVFAAAAMFBMVEX////MzMxUVFR2dna6uroQ\n",
       "EBCqqqqIiIgiIiJmZmYyMjJERETu7u6YmJjc3NwAAACgK8IjAAAAAXRSTlMAQObYZgAAAbdJREFU\n",
       "OMulVD1PAkEQHXLkBI8DYk3i8QcMJjRWUkolhZWVCY3lURkLIhX1JdrQYWKMUAithXAJMVEpNJZW\n",
       "lHZ+YECFRGd2l/PgjrVwk83M7Htvd252bgGmR4IbFXxHwvEYIXrvBtPchDOI9jzStOMRAbo4H74v\n",
       "cNZsBirFVQgYuLoikTLCOXlfOD8EeArXPSihfyuREkG30AaHuM8nB/UcKFUooq+YvlKVLSMhRF+k\n",
       "vAIsDDioGaCO2YmRnESKhCeyiy8A2piDMQOCA9BoxxOJFAn7ZGNNnCUO3lmUv5rCYE0iRcIl2c1a\n",
       "pdJOcfA5BYEhKwM80opSZ8OakSKhTGY9DnCQEVILAn2AIwx2JaciYYtMA2fbdicMSxgse6WYw9l2\n",
       "vW4QgUlH4mpFmVQsdt5f+ntqniXMrrUvQK0JOha7hcGG61uNWWmLlYld6zu4WyLanJRpzqlIoAsI\n",
       "OddKYBmu4qDsYHAokSIBk7ppvJnh9sgUYGcvibtRcCyRhkQjehs8S41Ykkizov290uT89o/YE0LL\n",
       "Txqp/vHTMULXD9RNz6bTUkaYfmAK3GiYlO59YAqOp9nwj/EDBZl98TY8GnUAAAAASUVORK5CYII=\n",
       "\" style=\"display:inline;vertical-align:middle;\" /></a></dd>"
      ],
      "text/plain": [
       "<IPython.core.display.HTML object>"
      ]
     },
     "metadata": {},
     "output_type": "display_data"
    },
    {
     "data": {
      "text/html": [
       "<dt><a class=\"ProveItLink\" href=\"../physics/quantum/_theory_nbs_/axioms.ipynb#empty_gate\">proveit.physics.quantum.empty_gate</a></dt><dd><a class=\"ProveItLink\" href=\"../physics/quantum/__pv_it/axioms/de09f9573980dd2c9d9280668473435c1229d7060/expr.ipynb\"><img src=\"data:image/png;base64,iVBORw0KGgoAAAANSUhEUgAAAMgAAAAiBAMAAADoqYtJAAAAKlBMVEX////u7u5ERETc3NxUVFRm\n",
       "ZmaYmJgiIiK6urp2dnbMzMwyMjKIiIgAAAAxYjEhAAAAAXRSTlMAQObYZgAAAKFJREFUSMdjYICD\n",
       "u0jgAgONwAUc7FFL6GAJcgzTzBIkE3iHrSU8u5dtb6C1JZwNIDRqCYYlR+5uNaC9T27TwSccN+lg\n",
       "CecNcizh3A0GAURawn2BDj7hVYBYglpRUWgJL1q113uADj6Zu4CCOHEg0pK99MiMl+hgCccdOljC\n",
       "eYsOlrBfoL0lInuvTBje9QlP9RraV7+jTaIBakEOZIObdp0gAD6ztsZy0hDXAAAAAElFTkSuQmCC\n",
       "\" style=\"display:inline;vertical-align:middle;\" /></a></dd>"
      ],
      "text/plain": [
       "<IPython.core.display.HTML object>"
      ]
     },
     "metadata": {},
     "output_type": "display_data"
    },
    {
     "data": {
      "text/html": [
       "<dt><a class=\"ProveItLink\" href=\"../physics/quantum/_theory_nbs_/axioms.ipynb#substitution\">proveit.physics.quantum.substitution</a></dt><dd><a class=\"ProveItLink\" href=\"../physics/quantum/__pv_it/axioms/899bac32daa5dfce8c7255476c86e32be42a919a0/expr.ipynb\"><img src=\"data:image/png;base64,iVBORw0KGgoAAAANSUhEUgAAAOcAAAAWCAMAAAAM5HuuAAAAM1BMVEX///8/Pz8QEBCIiIhmZma6\n",
       "urrMzMxUVFQiIiJERETc3Nzu7u6qqqp2dnaYmJgyMjIAAAAtmB3VAAAAAXRSTlMAQObYZgAAAyFJ\n",
       "REFUWMPVWNly6yAM5SIwm1n+/2sLGAwCnDjpXM+Uh6qW0bGEVkLI80u797xd/xq3QhzUn3znnjHT\n",
       "qPYvA6YHXlkCG2q92Mq/fIC7xKgQmdq9sr15xk7fLBB2D/vAq+p7JCOcpcUPYrDmEqNCZKrrKWj1\n",
       "jJmONUUCN3zgNQ9CJwNZXZv1xHa+wqgQmVY3Nsf+3yXbse9h5jUDaOezgyilifYbzsIXGBUiU2dN\n",
       "Wlo+VIS671g587pYbYlYXWVDCIM7XmJUiEyDSkvaZ+wE1gKYSsZ6ngEQmkMJN7sIZrONSTBgGGBJ\n",
       "WlPTQ2R6FDJ1up3ZW4WXf2en6sADIJ6JR+0kEHnUD+fv4A0YlvAUpBAQRKacofJmAW659suyJVvc\n",
       "6bAhnjUpMg3hx5Hvsusq3UJuHjD0TpjPmYwgDpr+gFukxed2cnX0smtvUz6XkMIzTcG0tnBDiwEj\n",
       "QlBoXq4QB01x2s4umO/t5Iq742DtDTtrCel5AT6zc8LgSf+teBnbqT3ZalNyKjB3RjDboI4hHNIW\n",
       "aZZ21p05A1SMvxwek8gQt0pMvKpg/uKdDjBh5LAFiiEKVVqcJ+pO/cEQ4Yksb2xy9EaX/jx3lkJJ\n",
       "KVuKDHWIAubt5qgfYMY6hPITzQkjxmF4tR7VofgB1o6OnWkeT9afSmmTzgTU0s62U+Qepf6p+NlZ\n",
       "BHeLOMkgHo+tUYU2jrMb5XDEiFIiIQ0QlXZZ0dd9EroZI+0VcJWfYXW/GEVwNPKAeUYAxPZ3XieG\n",
       "wWfd3MKIm1BY1aZCVOpaDtEOPaXv+ZgCuH+J7EQ7yZUIns+sWs2CzVV30nONwTyGWECZXG61MrEz\n",
       "xbTIhTM9RZytOz1kZ9sZ07QutxDp5vhddEnxdo6/6CkLjFgnWjCjOX4VVhvdYwA4biH17vQU3whQ\n",
       "fmln2zmCDSJFMB28VOjipd7cy9YjxwJDRsMVLO5lF7cmPC3HJ6OH3H0/D00i3T3blcvxfPe+tHzW\n",
       "dYHBY3ZuA8QM5V1pl/hni/Qk4uToP5v7JpEPfjdxv//dpEIsoOJsW95hiXRQztoP59tJ5E8u9qe0\n",
       "/QEJ3SBw7/pMfQAAAABJRU5ErkJggg==\n",
       "\" style=\"display:inline;vertical-align:middle;\" /></a></dd>"
      ],
      "text/plain": [
       "<IPython.core.display.HTML object>"
      ]
     },
     "metadata": {},
     "output_type": "display_data"
    },
    {
     "data": {
      "text/html": [
       "<dt><a class=\"ProveItLink\" href=\"../physics/quantum/QPE/_theory_nbs_/axioms.ipynb#n_in_nat_pos\">proveit.physics.quantum.QPE.n_in_nat_pos</a></dt><dd><a class=\"ProveItLink\" href=\"../physics/quantum/QPE/__pv_it/axioms/86b054bce0685ba36300c7ce7858a4089a5c3d140/expr.ipynb\"><img src=\"data:image/png;base64,iVBORw0KGgoAAAANSUhEUgAAAEEAAAAUBAMAAAAgmk0yAAAAMFBMVEX///8QEBCYmJgyMjIiIiKq\n",
       "qqrMzMzu7u5ERERmZmaIiIjc3NxUVFR2dna6uroAAABXsXCEAAAAAXRSTlMAQObYZgAAAO5JREFU\n",
       "KM9jYKAM8BBUwUFDFcU/mgsYLn58gMeMJrYDDOwfGA4bGxobK2BVcSRhFQODADZbNFxcDED0uXae\n",
       "BAYHLCoylkMZp3PYzREq+O7sXjULLA4UhalgXZCDUMHL0cVQvwEcgBvgKhjuMS2Aq0hlMWDYn4Dq\n",
       "+dMMPAXHQCq4QbyC+gcM+mDxRGMgMICoYD/ALADXEM/AcBjM2IFkBkMuG0LFZAaGT+wgBiOyCqaA\n",
       "BjhXloH1Oy+IwbkAJnQMiG/DVXD/Y+A1UAMzXWFipiD1BjAenwMD96EAMLOmrwBMp3wE6mc3wBYf\n",
       "b1tcMMUBZP03a848vAYAAAAASUVORK5CYII=\n",
       "\" style=\"display:inline;vertical-align:middle;\" /></a></dd>"
      ],
      "text/plain": [
       "<IPython.core.display.HTML object>"
      ]
     },
     "metadata": {},
     "output_type": "display_data"
    },
    {
     "data": {
      "text/html": [
       "<dt><a class=\"ProveItLink\" href=\"../physics/quantum/QPE/_theory_nbs_/axioms.ipynb#unitary_u\">proveit.physics.quantum.QPE.unitary_u</a></dt><dd><a class=\"ProveItLink\" href=\"../physics/quantum/QPE/__pv_it/axioms/86ba8f827898a6b1a3a31b6740f6327fb2c755430/expr.ipynb\"><img src=\"data:image/png;base64,iVBORw0KGgoAAAANSUhEUgAAAHoAAAAVBAMAAAB71edYAAAAMFBMVEX///+YmJjMzMzu7u5mZma6\n",
       "urp2dnaIiIgyMjKqqqpEREQQEBAiIiJUVFTc3NwAAACfk0VHAAAAAXRSTlMAQObYZgAAAgBJREFU\n",
       "OMudlD9IHEEUxr/Lnnue9yc2gliJhYFYZIUQRJCdNFcEj1hpocEUcoWNB4ZUIpIQsAjJYWtAErAL\n",
       "eghpUl1jUDjxCiGEQFhIF2IIClEUsr6Z3Xk3c4kBM7C8ne97v52ZtzMD/EdL3L3x6B92arm3Jf/5\n",
       "mAz5zqg32ZkJkA6Aw/33FWyelq1kV+amC6XEmLaVgmHg9r03+LqA6x7whZQ50lM2HNGv4WyyHdEv\n",
       "4DSk8hGT1Bui5yU9Se9POimAbrYVnRDyNVPFFgrXKIvGPCM5F1M99fqSpn1a+gTbis4GyNSQ+53/\n",
       "ie0VwKmi7YTkOxF8c94Ye5oq1Me2or8D7cfIHbU18FjW7xncIwpdinGemjP3f8m6a1vR0W/KHuu0\n",
       "GWSrFITq5AKTToUhFVXbcR1lm36o07rhNyg0VKfDrvng53OPbaXsKnOP015hjRaQj37YwDI1rhq1\n",
       "+xW2lfJOiknB9C3M0ercaMrfzLFdCn6F7SZt7FGimz8sY9Ij0vXY5pmnBX7otCmsxVtOzqls0KsU\n",
       "CmCbq9YPLDar1i5wqI/ErkGPCrhULW0reoZq8KFUrOk0+vrsAQ85su4xLR4UP8nX2Fb0FH0tDEOm\n",
       "n9j7e/xt3ax567nJBpbm1P5+vi+hE8LWyleisWFpQ7gaPWxpG5fdTDstN1PKupni2yrABQCGhzd3\n",
       "4MshAAAAAElFTkSuQmCC\n",
       "\" style=\"display:inline;vertical-align:middle;\" /></a></dd>"
      ],
      "text/plain": [
       "<IPython.core.display.HTML object>"
      ]
     },
     "metadata": {},
     "output_type": "display_data"
    },
    {
     "data": {
      "text/html": [
       "<dt><a class=\"ProveItLink\" href=\"../physics/quantum/QPE/_theory_nbs_/axioms.ipynb#u_ket_register\">proveit.physics.quantum.QPE.u_ket_register</a></dt><dd><a class=\"ProveItLink\" href=\"../physics/quantum/QPE/__pv_it/axioms/95025bdb215932b040ddf28c3c40c4f2e0341ccc0/expr.ipynb\"><img src=\"data:image/png;base64,iVBORw0KGgoAAAANSUhEUgAAAHQAAAAeBAMAAAAP2ycoAAAAMFBMVEX///+qqqpUVFQiIiJEREQy\n",
       "MjKYmJjc3NwQEBBmZmaIiIi6urp2dnbu7u7MzMwAAAAIy0x7AAAAAXRSTlMAQObYZgAAAlhJREFU\n",
       "OMutlD1oFEEUx/93l+ztuh85KwslnBAQUoigKYIYjhgQReEULCyEw0oL9YogFkrS2KTQJRALTWRB\n",
       "FGMSDVanqBlQEE2EVQioiAY7P4mNCnLGN7uzHzebO3IhAzP73s78Zt78580ATZZ3cy+wumIxmM+a\n",
       "Ip7vdX3DGIM5B+Xyl/EVkkY5XfStKc19b5aUSkktNyS+BkambP2Gwy0H1xic89fR5jbcVz5Ep7N/\n",
       "cc9Hz7rUdKICfBe9qSTaGps4VYVR4miWvST0IkYtzIo+bTqBXonZGQp3F33bz0H7kMsuYmd7iEbR\n",
       "BSVb5e2Nrj87bJKYTC6qwYBR6HlMlkIU2xKyEoEfP/H2lw2F2wNUzVnoU2JAiN6UUTUHKGkK9LSN\n",
       "h3hMQdMP6JMTkNF58VV2b+/yjAFS6ZRKTdq2Dq4/QHIUaucO0Rb/jK19ga7Hqdr9PEhHXVpaBNYN\n",
       "yqg57uCNixTzFw9PZISg/OfYUL0qo5o+iLuhTlvCnj4SmT2Ip8g/GT2jFfkwXPX8aD+HCLXjKGWU\n",
       "hLqqgyGyPnkzXzhMxevppoAL32JDzQSKGdcLZZM3c7TqEapH0w1XxRNfuz2eH6nYS/WEhwrl6PbI\n",
       "aC9aCieD9aLE7eAnNkEpoRfrKYxhVGwGI+fneS7oueWd0H73VZ9YVUmcK17f3tC5gIzQouOR6Jnh\n",
       "hDVyqXshuFz1sul+cPBPRSKq8jVsdeqgW+X015j046O7PGoWE++LtDUcw/Ko4iReic2S3yP5d4KL\n",
       "k3zh5mtdha383U7ZNW5/M2/+xhpvDGtW/gOV0pxJGXesSwAAAABJRU5ErkJggg==\n",
       "\" style=\"display:inline;vertical-align:middle;\" /></a></dd>"
      ],
      "text/plain": [
       "<IPython.core.display.HTML object>"
      ]
     },
     "metadata": {},
     "output_type": "display_data"
    },
    {
     "data": {
      "text/html": [
       "<dt><a class=\"ProveItLink\" href=\"../physics/quantum/QPE/_theory_nbs_/axioms.ipynb#phase_in_interval\">proveit.physics.quantum.QPE.phase_in_interval</a></dt><dd><a class=\"ProveItLink\" href=\"../physics/quantum/QPE/__pv_it/axioms/ae7b5f4766d1e088aa251c918c4e068d005252be0/expr.ipynb\"><img src=\"data:image/png;base64,iVBORw0KGgoAAAANSUhEUgAAAFAAAAAUBAMAAADo9qfkAAAAMFBMVEX///8QEBAiIiKIiIjc3Nxm\n",
       "ZmZUVFSYmJh2dnbu7u5EREQyMjK6urrMzMyqqqoAAABb/SrcAAAAAXRSTlMAQObYZgAAAU5JREFU\n",
       "KM9jYMACrPeiCfA5MGAFPQwMHOa9yCIpOBXuY5gEM+XhBAaG2bgUsgswcGwAszkz8oEKOQxQFFQp\n",
       "KW2AKORKYOD7CRWtByrkFEBWd8sSbiJ/AgPPPySFDHsY+C4w8OxfCbZkJ8Lq+QEMPJ+RFbYycDAw\n",
       "3K5JBQmwOSAU+jcw8KIorGYoYWBIYGADCXAhecY/gIH3B7LCRwwBDOwTGFhBAhd3A8EGHFbfZ2hg\n",
       "YGZgmAwS8EIyEegZvn+oCgMYzjIwRIIEGJEUci1gYEcOHoZDDO1ApdMugARYDbAFONwz3Nv3PtWB\n",
       "iOghRaEew8QLnL/BPHuQwggGhqL/GlD5aWsmwBXOMM5lYFAC8cPktxYwMADTE2sB3G0nFsGiEJq6\n",
       "JsBkOBWAfriALfWAAQdcBJQozjPgVDgZLgJKZma4FSIctQR7ejRCzwrsDgwAoGNaF5LpImwAAAAA\n",
       "SUVORK5CYII=\n",
       "\" style=\"display:inline;vertical-align:middle;\" /></a></dd>"
      ],
      "text/plain": [
       "<IPython.core.display.HTML object>"
      ]
     },
     "metadata": {},
     "output_type": "display_data"
    },
    {
     "data": {
      "text/html": [
       "<dt><a class=\"ProveItLink\" href=\"../physics/quantum/QPE/_theory_nbs_/axioms.ipynb#eigen_uu\">proveit.physics.quantum.QPE.eigen_uu</a></dt><dd><a class=\"ProveItLink\" href=\"../physics/quantum/QPE/__pv_it/axioms/4490ec5233ea852a6f55024f3e353eb16d582c1a0/expr.ipynb\"><img src=\"data:image/png;base64,iVBORw0KGgoAAAANSUhEUgAAAL8AAAAcBAMAAADCTHN1AAAAMFBMVEX////MzMxUVFR2dna6uroQ\n",
       "EBCqqqqIiIgiIiJmZmYyMjJERETu7u6YmJjc3NwAAACgK8IjAAAAAXRSTlMAQObYZgAAAv9JREFU\n",
       "SMe1Vk1oE0EU/rZp/trNGsXiRWiKVgVB9uDBCmpUBD2loNCDIEFFPJV4KKUHtSAKgsL6R8V6iEUt\n",
       "etDQgyD+sAgFWwUDpQjFQw6CWrWNfwiSGt+b7Dab2TVNpL4wf/tmvm/mvTdvAvyTdDw0ywO/jsUW\n",
       "X64hXR4F44sIvVzUoZzyu4bJwfrxlViJIK59r2F2Y8z1aaXVBv6ypMk2faBA1XSxWIzSx6zYrXIr\n",
       "KSNs4UrLOgA2Wm2YzBrIuQkG7E4oRdWFFWMvYRF04+PSfgkBId7PC2jrfjxAc3HYoRam2ODC1wrz\n",
       "YQTVUHEiDIwRgWogRT9dRggaVN2joGCD9jpPAN7MuDt6DKsTMaAcADIfgJZcU5b6upqsIBAIWl5M\n",
       "RRO1uF5BcJzhUjKBP2l1dmI7r8/sgG2iWBCRpIyAMxxxwJIMz6gg4N2rnTLBrOVj5faRx2znbMs8\n",
       "wdTBt6tcCBgE3lOToK2qeoW6mT18UyaYZNr2U/AXi3nhQ+FFQdB4f3/cjdAD9FGzjWItYqnVvhRG\n",
       "TQR04UlJrlEZPd8T84rg13YcOhESJp5Qc5qPa6nDjZ04afloij9tvstyR6gfUWk3y7HklNXwQGiN\n",
       "shvUr9RtsNSfw2mBc5nKURlkiMpPiE255Bw8EGbj2Ec3ao667yy16U+hi3rLmF8GOUv+pdv7rUp6\n",
       "qER4JQh8X6i71b7JCVPh8SEvAjKUMjcz86kqgROBTkAm8uXtKGX1JgQ5PJ9S2V32wZBQj5RMhOoE\n",
       "DoTWHNuTE1dDzlaPoDnzhu6Q7WSnrKdyxYRWncCBQFHUIU6utc2rL2KXocPHt/KSvJrCGs/3TnRV\n",
       "J3AgTJbM4BsZKKuf9XavjSLEoxvy6gTfq6u/stUJHAiDpVThTtfYw3e235WLFn4cKxAwXEp2Huo2\n",
       "z2QX1msnYAS1YDnbpVbTnula6ayZQCBEYuLB8VBHUjJ1SdbUTCAQQlH5yTxmp0LyZsTjyRxfkMCJ\n",
       "gIm6/1UEjHpmi6tQpxyuZ3LYxP+XP+Tqz6Og0YdLAAAAAElFTkSuQmCC\n",
       "\" style=\"display:inline;vertical-align:middle;\" /></a></dd>"
      ],
      "text/plain": [
       "<IPython.core.display.HTML object>"
      ]
     },
     "metadata": {},
     "output_type": "display_data"
    },
    {
     "data": {
      "text/html": [
       "<dt><a class=\"ProveItLink\" href=\"../physics/quantum/QPE/_theory_nbs_/axioms.ipynb#t_in_natural_pos\">proveit.physics.quantum.QPE.t_in_natural_pos</a></dt><dd><a class=\"ProveItLink\" href=\"../physics/quantum/QPE/__pv_it/axioms/249ccbb8df63ad7ab092e115e2f46207217f645e0/expr.ipynb\"><img src=\"data:image/png;base64,iVBORw0KGgoAAAANSUhEUgAAADwAAAAUBAMAAAAjLUMaAAAAMFBMVEX///8QEBCYmJhUVFTMzMzu\n",
       "7u6IiIhERES6urp2dnYyMjJmZmaqqqrc3NwiIiIAAACerFpgAAAAAXRSTlMAQObYZgAAANxJREFU\n",
       "KM9jYCAbGOCXLqC6NOv68qUMnPIScOm3qPLsCs4MDPEMzKtWSa1axMDA8wFVmvkJWwIDI9xw7gUQ\n",
       "YfV378As5vYAEwY+uDTfBLCseypM9xWDqAC4dHd9dQLIRUvhhl84xmKA0H0eKoiQ5mxQQ0jvgrgX\n",
       "4bQLDKbMfiAWWMdLsKDjKiBYAJUOZlgID4YfYOo6sm6WCY4wHscHhgAgxYgszaADt4tzAY8DyPcJ\n",
       "cGkglxNuGLdBGJh+AxPgOgB3LxDwFimA6eCKADDN8l4cSEZhRFVn3bsFGIIATsw2Igf3W/cAAAAA\n",
       "SUVORK5CYII=\n",
       "\" style=\"display:inline;vertical-align:middle;\" /></a></dd>"
      ],
      "text/plain": [
       "<IPython.core.display.HTML object>"
      ]
     },
     "metadata": {},
     "output_type": "display_data"
    },
    {
     "data": {
      "text/html": [
       "<dt><a class=\"ProveItLink\" href=\"../physics/quantum/QPE/_theory_nbs_/axioms.ipynb#psi_kets_in_q_reg_space\">proveit.physics.quantum.QPE.psi_kets_in_q_reg_space</a></dt><dd><a class=\"ProveItLink\" href=\"../physics/quantum/QPE/__pv_it/axioms/8bc7c7378044b5a5a74da45085ac2a7576a3b9820/expr.ipynb\"><img src=\"data:image/png;base64,iVBORw0KGgoAAAANSUhEUgAAANgAAAAmBAMAAABUlki3AAAAMFBMVEX///8QEBCIiIhmZma6urrM\n",
       "zMxUVFQiIiJERETc3Nzu7u6qqqp2dnaYmJgyMjIAAAAcRTyBAAAAAXRSTlMAQObYZgAABE5JREFU\n",
       "WMOtV2uIVFUc/82989i5987usFCRfeguYahEDG6RbFHDiggROVvRaivtYClBEEMPJOzDYGGjJoz4\n",
       "QUFhbgUWy9YMtB+MBC8qhKvCpATSi/FBD6GS7OVm2Pmfe+/cxxmno7MH7pkz5/7P/3f+r985F5Bp\n",
       "mSZ6aMogoBWlxe9FT+1V9jwuKxxfcJMo2j0nTNbPkXmypr1buEmwtcB0FfESjX+WXLPhxiCMZSPu\n",
       "6IiFaRtG7glm1k5LanHiyo2BHcNLbmZYI5r9Efq/fpQ5Minnx345sae8weuYrCocDOpa1g2s51ue\n",
       "k9JSq0rZX/STr5aPFzlYegHrxhY1aPqcFNjD1D0Tmmp0sD8Qk0MWTnKwfYalYFEiS9v9QgpskLqj\n",
       "zvbdqftEqaWB8ctAimHra2yMTGBzomSSg/Jo0ctvu2Gl//DBDHfuaVGKF9MPv972JpPKsSF7cAJQ\n",
       "bfyEdVQ7MRvHSfJiV666JIKlxHxnyhOTDe2R08BpAqdV03mMtr2bbGEPvSh3A1NLPthej+4Esoyx\n",
       "MDbXsa1dRtyOM0s20ezo4bxPkZd4XI1GN7BU2Qf7yuOhljs4s3GjM6xZyBSI1p7Ds58dYEqXRfXo\n",
       "V5CZnZra3TU/BnI+mO1NbnV+Vi/xJliuqdxD7+HOa9fY75BQG/8Af1cqb3SgnACY6YBpd5mwlZIz\n",
       "edAx8GKwPvYncgENq6L0pP0LrG9vMxQof1hvOmCGnk03lDkMme0MSfrlXgH2xc2AhkmBvX8DlvMA\n",
       "DJnXBau5YHvVUsZCFimKucoD3+dLfQ/sCoHV8lGwq7RHSq2U92r8obxyawhssuGAWTGTOTeHutUm\n",
       "p7FfWHMS5BXgw4QdUF0XwC6z6DTJJVyDdnC4qZdnMWIMPzD8YBQMq6oGNBMreWpxvXt8TeeJsIpd\n",
       "LWNg6RbRAddw5tMp6KdUyrkObsTnmIBh4UjibuZAHq2YL7WFlViOwDRvj1H61q5SFj9PxxzTEKdk\n",
       "0ifWmGGwupuNrHKWYIYduTPMDY5Nqh+kF9izeTRw2RCyMc2yEZ9QNpOGfu6fwuyXYbABu+1GO8N8\n",
       "8yel2XHn3aa2FJWV+uOsdmCbX3hinTl1RBred8AMorkAWKzogunv7FjM1gxuZ3/dctv/lhU05Mmz\n",
       "f93vLRMYJP47Ea3lahivVCqmXkg3S/5ZQvnd8hgkQamilMfSjsepPfa2S1exaD4IZ2XGO6q5hqRj\n",
       "GVaEa87IemAK7b7PHFeQFCpWtSPpINwCHD2eBoM0sKhkwuv0OQ+Mc1h/NbkQH4u3gmzEjuJ1rzJc\n",
       "AygYKy8ARYHTXMvac6dEgnsxclYIttfDx5LCYtaB9rdQtzA0tU2Uihj7jSBwSOreJHdT0XOhoip3\n",
       "vjf9b6s3pMRmQvki3n/vkPvkaWEempKVk7tlPsBikt94380HmOw3Xp/ZO1b6dtlvutd6B/ugISu5\n",
       "u9oz2A55HxR6xdKIp/8DNvIKios0+BgAAAAASUVORK5CYII=\n",
       "\" style=\"display:inline;vertical-align:middle;\" /></a></dd>"
      ],
      "text/plain": [
       "<IPython.core.display.HTML object>"
      ]
     },
     "metadata": {},
     "output_type": "display_data"
    },
    {
     "data": {
      "text/html": [
       "<dt><a class=\"ProveItLink\" href=\"../physics/quantum/QPE/_theory_nbs_/axioms.ipynb#PsiKetInQRegSpace\">proveit.physics.quantum.QPE.PsiKetInQRegSpace</a></dt><dd><a class=\"ProveItLink\" href=\"../physics/quantum/QPE/__pv_it/axioms/0a06b3492e34ef039c8c5f81c841054e1c15b2e60/expr.ipynb\"><img src=\"data:image/png;base64,iVBORw0KGgoAAAANSUhEUgAAAHQAAAAfBAMAAADEh/SNAAAAMFBMVEX///9ERESYmJjc3Nyqqqoi\n",
       "IiIQEBBUVFQyMjJmZmaIiIi6urp2dnbu7u7MzMwAAACxEeIOAAAAAXRSTlMAQObYZgAAAmxJREFU\n",
       "OMutlU1oE0EUx//ZzWSbJrukiAdFpTfxYpOLIBS6Bz0IfqwHJR6UHHoQVIx4Uyg5FPFSuseibVk8\n",
       "KbWSW6n4sSII2ooLFqkiNidFUJFGtBBjfbPf2U1tGxzYyX/mzW/mzXuPCdBh66p1AL2bf0H9Ugek\n",
       "YkJ+ChzcOPF8m+WI7ATkeewvTm6UzOaliqOm09Z7uRfD63pXdQXLK3UYXBmYNKmrr4d+8gSrig3M\n",
       "OOg+C4ZSAr76y5Jt0JFAJpvI9nJUNF/C6C6/xpxvS1djZNoINCN9mn6P9iP9QU0bpo3Ojq5cpXuV\n",
       "Y+gAj+rt4s/jOoWY5B0eMBMYh3Kl5pya0nivxTNC37cfeLusQ9D5VvTJc8hM21YSR8A0LKi4FUMH\n",
       "AUEiR/t0PMAjclqlyczdKbiofJKj1/JYdAFh64miLcQmsDdFTku6MnxgJ909F96YHH5VY5r8C0jk\n",
       "nVxut7w9KAN6gTtppFZXvwPdpQjaV2Wa+JvCb9ozi5Yf4Ark8ufQ4kwzgh5TmZZZ9uN02bclchDN\n",
       "++Hi+hNBB0ymCQ3SN+2Z4D5dZYh6GBUbEZRVmJYoeWWnnL1OzakCHXLuS2ixHEWVQaY95qV02N45\n",
       "dCrlckT616koPDu/i+st9kwQxQTV1x4bdSOn1KMo3lwInXfDt0k0kZiikshU1oiwV4hZ1bmh6tns\n",
       "NI7tsBZ6rCDRrejM6AoPLnNjcelhOI3K2MVT3usXqyavzXrEE7cQcS76ghproEOx8h+PjJes9qhc\n",
       "iaEfI+PdaI8KRgyV1NbxmZbRvSCLVgyNOCKYm3jqD7WMCpv5l0i2PHUT+E/tL8QHopuyyumiAAAA\n",
       "AElFTkSuQmCC\n",
       "\" style=\"display:inline;vertical-align:middle;\" /></a></dd>"
      ],
      "text/plain": [
       "<IPython.core.display.HTML object>"
      ]
     },
     "metadata": {},
     "output_type": "display_data"
    },
    {
     "data": {
      "text/html": [
       "<dt><a class=\"ProveItLink\" href=\"../physics/quantum/QPE/_theory_nbs_/axioms.ipynb#Psi_1_def\">proveit.physics.quantum.QPE.Psi_1_def</a></dt><dd><a class=\"ProveItLink\" href=\"../physics/quantum/QPE/__pv_it/axioms/015fec1b3dc76d0eb7fa04f67fa7bbde6eb3f38a0/expr.ipynb\"><img src=\"data:image/png;base64,iVBORw0KGgoAAAANSUhEUgAAAU8AAABLCAMAAADH9fViAAAAM1BMVEX///+wsLCIiIhERESYmJjM\n",
       "zMx2dnbc3Nzu7u6qqqoiIiIQEBBUVFQyMjJmZma6uroAAABSdj2uAAAAAXRSTlMAQObYZgAAB95J\n",
       "REFUeNrVXIeSnDAMJe7d/v+vDb24YIy9B2gmN7dKHjHPshpiu66FGPwU+M+FqrymVoB+CvyAKJLX\n",
       "1Al29CHwE8KkzWrqRJBm4PZnp70gybKaGiGiHRiBD1ioVnlNhYN2qB5MDDRsYNdELobhu/i0Dmc1\n",
       "9wXKejDpfaga4lLE1LEx4m0GqvOa+/EE1YMFnQITiy7Lvo1P63hW86R5dsIOR9923HToA3x2WuQ1\n",
       "dx0gaQTmjnXUAPoFPpGzWc3N4qYmfTyARTK0v49P5mBWc0+cbgQmpvsOnx0MzAg2qUu4A23AaE+n\n",
       "hYuwl/IZ3ncVE1vpWrMrO7DtHanF37HPzom85s5lZRMw1pxzmCra+Av51IEh6QYHnruo1+OX6tkd\n",
       "WLpBEkmAEU69rgwFwfEGDQ68iaSxTBHl2E3wZwQHgRi7+hpJxIlDl/gUjn2Xzy48TqkDVpKGye42\n",
       "n6zK977AgeKspryOhff5tA5+mU8T9C1MTSdjysETxeYlPokjX+YTOJXVlFcJ/D6f8MvhaDheIqsp\n",
       "FZnwGJf4lA5/mU8WhB9WHZBcgrdLfHpg7RKSy+rm1n50y5IeBcjqZDG8eVeZsNDUhlzh0wfznrqD\n",
       "wTJqkeoT/UwWsLb2Y6yle2iiur0mgw6drOzZ2dS9XuEzABsX8z9IhG4W75e9tPZLT2uhKYFIwoSy\n",
       "mjJBqYoAXFhtCBYuGiBNUIgo39BosWEkWyzYW/mymVaF3RyS1ZSmS9EM0vSnVBtUDMb9iY+h/Hkc\n",
       "zcJOwKyisxeeERrtzQtryTen22EQ2z3i7YxZPpMw3VQJjTX9MrQqPvymJuGKgFHPROzgHu/EhEdv\n",
       "be0bjAEzbCF85ZP3l6UQ49UqNeI2euYnPhmUwj8MguUMYqeRd1InWMNnDAxdPoWjIQtja5/1P/q/\n",
       "AbQbu1bDx5HP8Rcw/yHz586pRLK22Kdeel/rgoDx2dNdRGP5sD4xwBgvy7C1MzX1bwhmfTjPXTJ8\n",
       "LjK19rEcTRt2dPs48Dn+MvDIJz7Hz1gCyE/5XKMgQOtG+kFCdBENE3LhU0taSAmp4ZPEgr7LVU0y\n",
       "ePS9b+1TuI8c63lXk3milSTYU9rRNJ92PQXbSIDgnncSgb8So5XiiU9WenxFDZ9xMOnzTXbpuDMl\n",
       "x1GyY2u/D4NYhnwizRW121whBF3vS0Gaz91YFVxoN9BjTwZ8ym5+cjzwWfwoXdR0pBPgITKeplly\n",
       "cQ0CAan81v4QNLbAscV3q52EW8DVQxEAcJrPwX1yZAYqOVlrKr8ACdIMN/7kE592zlaO41dE78R4\n",
       "9UBF/poADy70bFuXbFQNZkyvZ+VXB/fm+N5zAuhMiFidEbvC52iWA5/TiEPB+FUhn+wSeKg7TzI3\n",
       "OG/2ZN3w8gLOs0Hm8dkntIB1DB1SUHysh23A56wReuJzGSa6/HjWFXXc2PEgJ8Hm1IXOk5Z4bpZc\n",
       "9lCCXVvaxKeRJqzHvCrMBu2PWYP7kNnzaZd/XsAnOHyKy3ZLKg326s40TcLMfCI6SKMnUNvSJj6F\n",
       "AnBd3uJA2ZHPfwGfi4ZCIiWBOFrbHvyn8vis8J9pMD1L6hcX7n70BHnkc2Bus8YlwHv2iQM+Nw2T\n",
       "uyNm2/jPzCh8GozO0mA4X9VMC6Y/4RO5KSSROaVd6KKX/Kdfb17m8zxfykTUJPh8dlrNd9eXIQQR\n",
       "CX7C5/if9MsY+SQ8Ht/TfFo1ZH1rJ6UNn/FR+DwYnwe5LQk0wmn0m/M+1qLAAHYo4JHsLtvnpd5g\n",
       "Wb0pboFZxuTsj4cg/H5dZ9dI79VHYTc90V+/PH4Fz5oXTN8C61w/pPG7U1k+t0aUBpfqTT+MXB+/\n",
       "OuUzPgqfA8PsjIMhf8rnZhZ+uzTRX6oQ5TVQmDFwzbrio/Bp8Ox0Y6f54FCx/FM+t6iK1KX+Z4WY\n",
       "Y4eaqfGa9hb4JFNCxwClfjoG4TdJtqFUgXM3YConiMARPz0Fl/IWOJ0pWVnmmH8kKHz6ZrKaMuFH\n",
       "+55y2GmIOyg2c+Cx/ohYHjPBIrl5gE4KwwBAspoywcd4pkeHrSYjw4RAWgAeMqVgNZQrf8phJNT+\n",
       "PZ/hCIoOtl9XTmRFB3bmKdl+O7EoAmu37xRoIWcTf+Hw/Fww46ymuKdBQx84WZkeGCsBm7vzSw8J\n",
       "C9ohrHZ+qbdFm+585eoC4Wz3YcHB4cTV83UqnNE1uzhMC8GfknBeCFW/kAD82Lt75s8UKwR/S0iw\n",
       "fFJ9Q/4rImMmQ+mU5zBGisAfk3C8usHA9dFj4JHAqcwU+cjsuZvEiCsg4JVz9uHbPg3e/zm8Y0cF\n",
       "IcQocQvcJUZch7KEv/BLb8K3fVq8/0P2MUUX5ovkGJDiI64jyS988YsH7Rzu6rfd1lzDA0fb2GxM\n",
       "keX73gRRgbNULd5Xka4ZODriOj0DE+/LrMIbl67BZU1NiXUEryOuav02AdTzOU5Tvq5GosHBpK6F\n",
       "l7c1LZUjODriOtmnfOHr2jyruWf3shE4PuI6+c/3VaZa5jU3N8q2AW8jrmrtMaG3xvdwtJO2ehu1\n",
       "ym3swIkR16GCfV/+aYIdNq32nNRcaAdOjbgCQl5X54eT3MypZtcmD4GfjEY0q6m4OHsI/FzyafKa\n",
       "iquTp8APSfh6KmppFrzmYvx7BsqCRzCs7UMZBZ8CP1O667ymTgR/CvyA2CD02NZfUY5rvt8ay2+d\n",
       "+LBNK5qXb5Y+Bf5778lPNf8Bht5ZQY6Z2zMAAAAASUVORK5CYII=\n",
       "\" style=\"display:inline;vertical-align:middle;\" /></a></dd>"
      ],
      "text/plain": [
       "<IPython.core.display.HTML object>"
      ]
     },
     "metadata": {},
     "output_type": "display_data"
    },
    {
     "data": {
      "text/html": [
       "<dt><a class=\"ProveItLink\" href=\"../physics/quantum/QPE/_theory_nbs_/axioms.ipynb#m_def\">proveit.physics.quantum.QPE.m_def</a></dt><dd><a class=\"ProveItLink\" href=\"../physics/quantum/QPE/__pv_it/axioms/84bdb016284bd8d4c909585250c30272b39665730/expr.ipynb\"><img src=\"data:image/png;base64,iVBORw0KGgoAAAANSUhEUgAAAHMAAAAWBAMAAAABVL48AAAAMFBMVEX///9mZmaYmJgyMjIiIiIQ\n",
       "EBCqqqru7u5ERETMzMyIiIjc3NxUVFR2dna6uroAAAAPJcEmAAAAAXRSTlMAQObYZgAAAgFJREFU\n",
       "OMulkz9II0EUxr/8ud0kmyyLWmtstTCH2FkEzkbCwXFq4z/SnI1IAqd1bERQhG28ysJaQUL0jgML\n",
       "AzZiIVuJiJAUYmGjJyoYveS+mc0lq4FNwAezb5mZ37yZ770HtGjBdO032XSzNmx7gyOHSLG20Mkx\n",
       "64pG7qQLLwLqokT19sog3YaYzbqh4RfpCozqy1ajjoqPn0ONuaGeAfH1VqJANwR6lcYQ1BmEOINz\n",
       "NzRXEMpcFkwgIdH5L0R9E3bEBTd0O0Upg4kuChaXaOSJaCYPrHLVV4R+sb91HDw/aUTzGQvYM3nt\n",
       "kCFRb5noASfnhIgGIoEVZHbwTWraL82QpGr549CmMQIEohJVHoneRG2dvDH88MfESX0NQb2m5xk/\n",
       "k6DO/qREtb9E+6i0h0OJI50pIpXGUaPA0EvaV6h/gA9FieIT0SVRWXxv8BZIAR3AeAN6zSzuRaGV\n",
       "6uh6ckgvc0mxbLQd+Az9Wa2/NS/RZVYDD9TvaheGtjZ2xlQhwFLSqfoU1DI8sV9vXqpTrIVNRijV\n",
       "ZKJ0Y7IJftsyaWUot/BZ1ms09cBN4ibKvSES4SxEnAopLBGYaVPa3pTz7vT//pnMysvJ8j+sfBQn\n",
       "xEVJmK01awLOphNvwXyLfd79Cg2bzcrfYYGsE/3etOkcVm31qvVU89Oa5RCqy8KMoxfvsX858oYg\n",
       "hzN1TAAAAABJRU5ErkJggg==\n",
       "\" style=\"display:inline;vertical-align:middle;\" /></a></dd>"
      ],
      "text/plain": [
       "<IPython.core.display.HTML object>"
      ]
     },
     "metadata": {},
     "output_type": "display_data"
    },
    {
     "data": {
      "text/html": [
       "<dt><a class=\"ProveItLink\" href=\"../physics/quantum/QPE/_theory_nbs_/axioms.ipynb#phase_m_def\">proveit.physics.quantum.QPE.phase_m_def</a></dt><dd><a class=\"ProveItLink\" href=\"../physics/quantum/QPE/__pv_it/axioms/dc9bb95a8206999231fd5ce243a21aeec9e18dfb0/expr.ipynb\"><img src=\"data:image/png;base64,iVBORw0KGgoAAAANSUhEUgAAAE0AAAAlBAMAAAD1gHm0AAAAMFBMVEX///8QEBAiIiKIiIjc3Nxm\n",
       "ZmZUVFSYmJh2dnbu7u5EREQyMjK6urrMzMyqqqoAAABb/SrcAAAAAXRSTlMAQObYZgAAAWZJREFU\n",
       "OMvd0z9IAmEYx/GveeefTkUIqtEphCIEq6nBwdY8GvpLIEgQURBRm9FBUG0dWK0KTQ2BW0NUTm3h\n",
       "jUEQFDTr4CIYdiqBHOn7zv2Gh5f3/fBw7/G80C+Bk2Q8EzzeRhDf4DX5WT5E7n2gSMrgSOTMfImK\n",
       "yZbIUYEFGBK6NYgSqPlFbhR/A7U4L2BKg1AVzTAELhDBrRNaSvBvErIIPN2InQ/eshvdG/ft6A63\n",
       "D2k84n46XhO1x2HzN1UM3JCT6fcCKxwcxvX4Ttf3pR3u1JZXFtkRhs2ZPv20u4evCZRchAbLPYjV\n",
       "qnvNqF09sWCYyb9dvl3V3VZ1We6CUrWc5HL1Fj7piFZN2R29Bec8+tOcl+bG11vrcnvnGS2hbJoO\n",
       "p5q4wjy21/0u6YrgqVET/lytjufbvqBEBuru9IWEKxtqzJBwYwQzlpiputy4T0u+Cp2kjHuFKQmm\n",
       "RM8WIxJOs0e+434A2VZePFzNLUQAAAAASUVORK5CYII=\n",
       "\" style=\"display:inline;vertical-align:middle;\" /></a></dd>"
      ],
      "text/plain": [
       "<IPython.core.display.HTML object>"
      ]
     },
     "metadata": {},
     "output_type": "display_data"
    },
    {
     "data": {
      "text/html": [
       "<dt><a class=\"ProveItLink\" href=\"../physics/quantum/QPE/_theory_nbs_/axioms.ipynb#best_def\">proveit.physics.quantum.QPE.best_def</a></dt><dd><a class=\"ProveItLink\" href=\"../physics/quantum/QPE/__pv_it/axioms/46d8a91cef18e1b0bf83161bfe2f582a8ef37f480/expr.ipynb\"><img src=\"data:image/png;base64,iVBORw0KGgoAAAANSUhEUgAAAGIAAAAYBAMAAADzMjWaAAAAMFBMVEX////MzMyYmJjc3NyIiIhU\n",
       "VFR2dna6urqqqqpmZmYyMjIiIiIQEBBERETu7u4AAACIO4EmAAAAAXRSTlMAQObYZgAAAVBJREFU\n",
       "OMtjYCAecAkwkAjek6qBoRu31COsopa7JgJJFqxyptgNWgH2DAPfnQ1E6Hg59yIDw2eIDgauCYR1\n",
       "8AUw5BcwHoDq4G8grIPzAQPPAZaAxxAd9Q8I6+DZwMD6mdMhAaIjmwifc/1jYP3IGCIA0bHUZQY2\n",
       "HY0MDFV/kazn/gfVzMD368F7AyAraxUIrITrSGBgXFSKFCj1CTAdHP8Y+B0w7WAyYGBlYAgAcqD2\n",
       "bIU5kIFzAcP7BEwdnAwMegwMQDv4fkFCawJcBzA66hswdbAxMDgw8DnADfeEBwIDvwLD/AdwfyxF\n",
       "2MEuAIoGKOCYwGAM11HAdwhLWLEpcDLwBcJFxBgYnGE6WBV4J2AL3VVaErMLYALM29KmboCH7pQk\n",
       "rDHItP83IkC4/v//D9eBM7VPwpF1ces4SKoO9g+k6mAJIEXHm91bcZQAVrv3AgCw0VI/fCItEAAA\n",
       "AABJRU5ErkJggg==\n",
       "\" style=\"display:inline;vertical-align:middle;\" /></a></dd>"
      ],
      "text/plain": [
       "<IPython.core.display.HTML object>"
      ]
     },
     "metadata": {},
     "output_type": "display_data"
    },
    {
     "data": {
      "text/html": [
       "<dt><a class=\"ProveItLink\" href=\"../physics/quantum/QPE/_theory_nbs_/axioms.ipynb#delta_def\">proveit.physics.quantum.QPE.delta_def</a></dt><dd><a class=\"ProveItLink\" href=\"../physics/quantum/QPE/__pv_it/axioms/e381f5c21222e082a0b8ca47366209d1d815ed950/expr.ipynb\"><img src=\"data:image/png;base64,iVBORw0KGgoAAAANSUhEUgAAAH0AAAAyBAMAAACDoMmvAAAAMFBMVEX///9mZmYQEBAiIiIyMjLc\n",
       "3Nx2dnbu7u5UVFRERESYmJjMzMyqqqqIiIi6uroAAABeGh1sAAAAAXRSTlMAQObYZgAAAqBJREFU\n",
       "SMell89r02AYx7/p0qZr0zYHwYmgBS+KIBHGmBeZIAhO8Ad478nDQJsNhXmQxqswrPMg6MHB9CCI\n",
       "y0G8ts4/wO6geFDcVTx0HrbCum4med+sXZLnSdH3kDfkeT/J+z7P836fNwDV7oBv87w5U0ngi1Os\n",
       "+RtpuX9C9K84XC/TtguiG+VmOLdO23ZEp51h+CfMwjvyZpWZfofxrClvRugFjBg0ry6sNcVHNskx\n",
       "K9dovnZJk+BZcsw5xjWfLfTkVyxiSH6X4Q9B25IzaRFDFCb6bviLMoIqlYIpm+G3ocjoFCgHNpYY\n",
       "fhdz0pzeJob8ZNyPR/3kOunn03cnPGSR2xqzX/dn99S7vP3VDQ85heFa1bvYCIdR+zMkv+LNfCYa\n",
       "/t6QfMNLgHbEWfrOkHzN2yaqGX6c6w7Jl9w80X5shR/LvNAdFK8+Y/k68N566e/qi37z921G5FfG\n",
       "Nb57yPGpKWinhRcPpL/gX3uxybK8CaWORpjPbvidgZwFxb25609t2nu2FzQhM2WkltCw4vkKCsAD\n",
       "7vsuX3OwPLB+e2D+Bn4Dh1neRMnB84hCCv/PuG+YdxL8l2kV65H4ifirl6c/no+XUKevE7fXIuac\n",
       "lK/lvQki74L4x8u0LnklRkZmj7wAPgXvia8AeakrqejiNRvV9evjRwf2T0yT+7cdo6wWUmVcCaS8\n",
       "Gc+PkzXczbjsJgLdrBI6d5wuXh1ku/lA3h9TumJxSdMp2Pd4nWs0Gb5dUVrC7+nev9SPSeQXHL5+\n",
       "KBs0rvRzZtSkjhhM/RxI1xJVP5nKrhu4uV+mSDfTAfgAfDlQvuIdSB1t0hO3xoJVM+cX8vykutIV\n",
       "8KqReEZk2yqTZTecRJw9P+pmIp81OOtYIv+Gf3vr/87vOJb0/+B77y+l9qNACslXcQAAAABJRU5E\n",
       "rkJggg==\n",
       "\" style=\"display:inline;vertical-align:middle;\" /></a></dd>"
      ],
      "text/plain": [
       "<IPython.core.display.HTML object>"
      ]
     },
     "metadata": {},
     "output_type": "display_data"
    },
    {
     "data": {
      "text/html": [
       "<dt><a class=\"ProveItLink\" href=\"../physics/quantum/QPE/_theory_nbs_/axioms.ipynb#success_def\">proveit.physics.quantum.QPE.success_def</a></dt><dd><a class=\"ProveItLink\" href=\"../physics/quantum/QPE/__pv_it/axioms/a10ea4853ceb465be434b2319aee2a05062f71180/expr.ipynb\"><img src=\"data:image/png;base64,iVBORw0KGgoAAAANSUhEUgAAAaIAAAAXBAMAAAC7VVYuAAAAMFBMVEX///8QEBCIiIhmZma6urrM\n",
       "zMxUVFQiIiJERETc3Nzu7u6qqqp2dnaYmJgyMjIAAAAcRTyBAAAAAXRSTlMAQObYZgAABWxJREFU\n",
       "WMPll11oHFUUgE/2Lzuzs9soSsUfGBOaFFnrkj5I0dS1IvEhNmseRKXgEq3QGmUlYiotJU2qbAxt\n",
       "1jykJVB3ahFDSpqFEKv1p0M2IsY8rKk/KbYlpRax8WdJFjXb1HjuvTO7OzObmWlf+uCFZPfee87Z\n",
       "8917zrn3Atzk9twNT9544zKw4bKl1IXX6ccR1vvEnmm0O2k2P3ldjqILvgTAHPl+3kxwiFn+YeXt\n",
       "ly5JFr/Od7KOJ2GYL6c/ubrTQ2uvm4iI7wD4hny9Yib3q2L5XwDvnRZEAYWEnzMKlNE3IYJLNonq\n",
       "IqXmTgAcJnHVaaLhDzHL7mUA34IF0Rm1N2GYL6dvRnTVFhH/lagxJ4gQwEAQUiY6lQlm2ZHDv2UL\n",
       "ojfV3lHDfDl9EyJX3g4R92BGa46vAv/U8PAhM6VDimVvFtMjZ07ExdReIKyfL6dvQiTEbBBxr6b0\n",
       "LvwM8E88vscoKxe+1SiiazA1kiFzIgeZn71lPzpkkFT0t+zcUq0latrRXytuq9UtQaC1JmVF5D5Y\n",
       "UPLvuyNMxdMA2wF6jMJFhw4o3j4vg2+PRaX1Ygw4v4cn8RdIaRD+oI3ZUvTlg6l9WiI5LvILYV+V\n",
       "1tzoFX7JiiheLAoNEVeGil8AeKxsYSoS7Va8faBtul6yIKrEIHic9nwx/TzTd6feUCRUIndqL3DL\n",
       "4M9qxU9LsGBFVHdfIesiqgsn0QtwlGSXu30S7o2WEt2miPZJlocBVGAUHB8iuu6sfp7p83xOl0dk\n",
       "xJcHD6m3PNtU4t5m4Jf1RPygzuaPU+rMqW41lDA0MpWqwPF0A3wsSE4pvbF9Y0pH9LeqHDEY1hAN\n",
       "s5UxECn6vqy+MuCIMwYVov44cl3VEzlIRU93SzCgjnyxSXFKgiIRN/e0ml29gxJ8LoaEclHnXiSd\n",
       "6nPiUNZ/KwjTm2A6nTgWFB33T5DRQtTxLLZdsWIeRSniIjPnxBD3N7TUOGojChGOVMrQnNDGwDVw\n",
       "5g1RN482E545mCmMbN1OPz4oLGoj/vW8SGA7QphR2MbH+4VylYEcJ+CSOZHLQhe0QZtH9si/w8tN\n",
       "0E9GC5XBh44mlMqgP45Iq8Aq6n80U7HTEVWIcGQ0DJs57aGYg6MZA1EvOR7dS0J7MU+e2U+9xp0B\n",
       "tTLAGC6nLwURdsUbF0a2aYjSjChATjxu8ZTEZ6GVw04S0zwPHyUfGiajzBzWbO4yjKBvTlnnDNXH\n",
       "lkTiwTpYEyYSlCgZhtMAvwla+VegG8oShbkclJadARIU70X4n5j4w+SgwAV2BGXgQ4xWTmuIGimR\n",
       "88+/SKA/sRImRC5MhmZc62vng66+HBll5kisbV37FgGIaH1R9Jk5aIWnaF2kRI30zBs7q1U4FsR9\n",
       "mOQuttSOzIbBUY01IDgzTzMxbyzOrou7WBADeSX4cYEd9SK4d8XjXUh0hFSKiOEWRJMh4YshURe3\n",
       "hIudoOn/LJwko/pb0IemdfF2WA9Jt/m9jiVGMhXoROu9aBA39S7qkOgLZVYrt7y6fSPkX5Ttkaul\n",
       "7E2VLk8IOiHP3w0vwPueEC8eAP8YeOmo5U219PKC2wyzgh2iUckju6tw6bziqATzLA24+sRqRIJa\n",
       "MlvAJcGX5Nt3AOe0cj0lRBPBBJyZeSQj4J6mq0GYkD+r/pqOMhmvyWuiJEai+EQZmLJFBB7RXeWv\n",
       "Ak+omdY6usLKj/zSQZr+NaFsRAcKezGyXXvD4Cn74rPx3Cq++LwJu080W0R0j5Jsj5pK7hxGc7oL\n",
       "3XrMo7Kv8jrrV/kGzav8rL1HJ9pdZza/DpKEKIt59K7kEbl7MJXnP31ndRf89lbyJja+L/rt7sOL\n",
       "9ESH6ZnXUlCxspKF/1f7DzK+306+XS4MAAAAAElFTkSuQmCC\n",
       "\" style=\"display:inline;vertical-align:middle;\" /></a></dd>"
      ],
      "text/plain": [
       "<IPython.core.display.HTML object>"
      ]
     },
     "metadata": {},
     "output_type": "display_data"
    },
    {
     "data": {
      "text/html": [
       "<dt><a class=\"ProveItLink\" href=\"../physics/quantum/QPE/_theory_nbs_/axioms.ipynb#fail_def\">proveit.physics.quantum.QPE.fail_def</a></dt><dd><a class=\"ProveItLink\" href=\"../physics/quantum/QPE/__pv_it/axioms/98ee14abfca740ad7cb52685b55c0c2af10830ee0/expr.ipynb\"><img src=\"data:image/png;base64,iVBORw0KGgoAAAANSUhEUgAAAVYAAAAUBAMAAAAkZghjAAAAMFBMVEX///8QEBCIiIhmZma6urrM\n",
       "zMxUVFQiIiJERETc3Nzu7u6qqqp2dnaYmJgyMjIAAAAcRTyBAAAAAXRSTlMAQObYZgAAA/1JREFU\n",
       "SMeNl0to1FAUhg8x88okHRcuxI2xFXxQ7VBB8FEdcKELwaELQRA6+MJCcQouFCriA6SjSAc3iqAT\n",
       "RUUrthUdFPEROrpQRxhF3GhtfSEqqNjiC7Wek9w4edxJPHBmknNz//sl95ybG4BAi1Vg7htvWHmb\n",
       "Yq1k8Ty3o8eEj+mg8bzClo9QYMiv71mA2/j3ZHzfpleaLS6nWKth7dyOHqNOSvb7pi0Law/oFWZ+\n",
       "n87f+7G+M1nhD0B0ikfyHTvr43aEixqHI4EPaLcWwGoXZn6EHvcuvylJmqyhXzgRX9yS1GqeqZyO\n",
       "UkeWx9qmA9xS/VkdwszrUEwe8GGN5E1WYQz9l1syYuWpNJHXEYZ5rE3406T7szqEmSv3ensP+6UA\n",
       "NRJr9DNAeMwtWe36mteRz9qDnk35szqFmX/v7t7hvb561w2MlZKskHRLUquyezIeltwSDTVZMfNj\n",
       "owG15RRmvhEg572+CnWQsWKSxXeE1tNKonRKm5kktbakRYw+N4b5aFjS6shlpcy/ogewOoWZLwNp\n",
       "xI+1i7E2dZSbtcgpKgkxA6uYJLaK5op5xS3RVYtV+FouzYYAVqcw8wgItjU7tPU2TMvYWScx1h4a\n",
       "td+K9jNJbJWu7aVIm3vISVXWPuNpv2Ec0Z/+LwOOMHO5ErEuOl9qgauyNkErzds6b8DF+o1OTpil\n",
       "mXewmo/Oj9XJkehkJ6fhnObHWhVmHhtZbS2IB45qcENNyrwcCFExhJYOig9a4Oznf6xdNKJhy235\n",
       "mvHNgTYSF+YMSj3wUIVyKS+XF0jNg1D/TMUoV9jy3Ab8ubktiZmLViweknm1JYyZUy+odSmpyoqt\n",
       "Rbxflv4Oq1lbtLzCSjgEBYiqYT2sd0BHXSV8WY+pFOUJW34JpyQ+AGlza1CUL6x1sJZM1rqfLE1b\n",
       "56o2Vmw9npae4tFiN6uxiDVxWD9RrLCoF0XCakGDGEq3afH20WsaRXnCliewtIVGHSSDrwh6ycG6\n",
       "3GCd8OmrarDK+8N2VmwVX2yngvVsxajj/KmvKm7WJePraC3pGTNYcUER8S0zPPRIXzGeoihP2HIF\n",
       "b1NoViG0vbt7D7Ieo1pLe96xrPwT+eh0G2v1VdjJfcfy9yVoa3AN6sccKOQh9sMonFA+3klRjrDl\n",
       "hl2gn4z5XMVW7t6FsfanI/U2Vv+9iw/rJYhCQjuhh5OSuh5ORivwNAm7KFp772JaK4ga3KGjxwDP\n",
       "nPK5KquU3aism/XyzKiUzbBhc7X3hDk/1uv1d0FpafgNpXqQcVbLjfHBxjxFOcJ99gGUbR9wjcYl\n",
       "VdyZgjB3rx2wJc79/147yLzCOe8AMzFfuZ8iMzjfMILjU0P532+YnYHfMF5h5n8BR/R0Q0/LTvwA\n",
       "AAAASUVORK5CYII=\n",
       "\" style=\"display:inline;vertical-align:middle;\" /></a></dd>"
      ],
      "text/plain": [
       "<IPython.core.display.HTML object>"
      ]
     },
     "metadata": {},
     "output_type": "display_data"
    },
    {
     "data": {
      "text/html": [
       "<dt><a class=\"ProveItLink\" href=\"../physics/quantum/QPE/_theory_nbs_/axioms.ipynb#mod_add_def\">proveit.physics.quantum.QPE.mod_add_def</a></dt><dd><a class=\"ProveItLink\" href=\"../physics/quantum/QPE/__pv_it/axioms/73cd9446597cb22b7bb549fb5ea1699eac6ca3730/expr.ipynb\"><img src=\"data:image/png;base64,iVBORw0KGgoAAAANSUhEUgAAAUUAAAAbBAMAAAAZqYBdAAAAMFBMVEX///8QEBCIiIhmZma6urrM\n",
       "zMxUVFQiIiJERETc3Nzu7u6qqqp2dnaYmJgyMjIAAAAcRTyBAAAAAXRSTlMAQObYZgAABOdJREFU\n",
       "WMPVV12IG1UU/jbJbHZm87NS0Soo2dYuPuxD2EWUstr4gz6J2VK2+FATFqvWql2UitaCawuSRZQR\n",
       "wRZl6bQLpexDE2xFC4UOzZM11qhYi6gEo63Wkl3DLrW7lfWcOzPJTDITE1DQQ+7MnTv3u/Odc885\n",
       "9wT4j8rPHc7fhH8b0CTKPBCju6/N+VK6ww90DGiW3gngQboH2lwqonX4gY4BTSLfWU4iVKTeZ+0B\n",
       "hhhU9FJYdQdgugOAub+b6rpFcnTZRS1IYyUe+b6lTkt0OeL25siNdNnmDlAm2wdY7OcSgupwJoko\n",
       "a7KWHTIOfMrDl1pxDNEs/Or6qkztqDsgorYPsOSA4HgYoQWMimdWmIJnP98nW3HsIrOH47aB8Ej5\n",
       "DqO3zIxibgB85bCQNccdYElUcFwPXIcBhXQM8kKvGP4dyrXieIBmBG1WkbZBNzgHxKb2uQHwshtH\n",
       "D4CTI/nDDnUoRD0/2+4uMsqZ2dl9LUPmC2r2GRsBHTNiUyf4+pMbQJ5w4+gBcHKc07AjObaOfZG1\n",
       "6af2RyazuyXHe0zvlUeGbubnOHOU+auR8bW0A3k3ALs63sn3aw6ODsBjqzYOxO67PQHl9CCRUwpr\n",
       "UglzhVe1utkfof5WYMpaPVBx4Zih9ia1e9XIPHujyhz5h+wl5SrwA086W2Ep1wA9lKsCN2HOaUcb\n",
       "gOSlmFxNhPuwWcUe4GAOn5scA9dMr1qkSyoJ3A+lVONj2aR7dX6vFSYXDMdVbjH8ww9B8AG6ndJQ\n",
       "BT5qVIoB7O4Hi+xMdo5OwGu0iZCuYrcg8pYV1wQ2Dxd5wQz2IHz1/Pwb+/TJ4WJQDR2yEuoL1K4n\n",
       "bksI8qe6C4XC5ULhtNhUhTRONXJkQBetvEHD8+yElcrFWyuVdBOAWF2DvChRsEd1fpE1OQ5bSZ05\n",
       "8mCoGKwvTzuB8ydm0Yst0/acRhy7JpFN1u04Ld4Ell04lk2Oq6EsOu3oBJBPVIljLzGJTkrVGkef\n",
       "tYM1O8qlMerNDHAxJFUHtIAxI65bn3zd2OusjlOoc/yabn+ycfFQ3R8v1AC012SZ3nknRxugzlHY\n",
       "Ma7UOR6DbKQ6iU2W4v7U42TVnRLHkG+XLx4x8vT7SYvjU0bMZHN4js/aQE5wZE0W2OVqIQA7gGJG\n",
       "WUZ36YSDoxNgcsQqIpLAL5Y/Sjp8qjOucYySlj8ucerqiYVLIvPhUKj2yX4jlujdi2LwaeYY5rT/\n",
       "LPbSdaSRY795Hu7BN2ndwdEJEBwpdkeTuAy8ncAGMW1fIf+keaD1mdkW0RgfX7608CJ/enMmk4lB\n",
       "P4P3zKVYEdoeZXzdu7fx84xGHE+K3mDRrWJmQIBUPrzm0fGEg6MDMLay9ePf02ev6PJInvPjyJep\n",
       "G0QOX1m5YsywzhliS0tm1Z5v6RbVunLdwsofFvGJdfwmnGchhlR9rJ4KlImm8zrhdRZ6ADzrUIb9\n",
       "WFtWTT2M/VpQO4+QCF6/sIShjd5QU8iDw7YDvrlEYICzplDsRa93TdEoWYIpS7UDZvyDuzGak56h\n",
       "5d+g53NPFC5aVbrEXjHluVBzqSUAPWr7AC85x7vc8GfBsI6P/dEu271qXCEu7Ld71bheAA/ZyUks\n",
       "2VYVf7TVf4Ww6mGp6Q4AHjPZZ75rGPOq4eOd/qnrFOAuf19+2+R4p6sf/0c4ruf40/C/kL8Ak11x\n",
       "pY/WtwkAAAAASUVORK5CYII=\n",
       "\" style=\"display:inline;vertical-align:middle;\" /></a></dd>"
      ],
      "text/plain": [
       "<IPython.core.display.HTML object>"
      ]
     },
     "metadata": {},
     "output_type": "display_data"
    },
    {
     "data": {
      "text/html": [
       "<dt><a class=\"ProveItLink\" href=\"../physics/quantum/QPE/_theory_nbs_/axioms.ipynb#alpha_def\">proveit.physics.quantum.QPE.alpha_def</a></dt><dd><a class=\"ProveItLink\" href=\"../physics/quantum/QPE/__pv_it/axioms/690b85b263cbdecf54e2675a51d754ef039552d90/expr.ipynb\"><img src=\"data:image/png;base64,iVBORw0KGgoAAAANSUhEUgAAAMUAAAAWBAMAAACCvEVCAAAAMFBMVEX///8QEBCIiIhmZma6urrM\n",
       "zMxUVFQiIiJERETc3Nzu7u6qqqp2dnaYmJgyMjIAAAAcRTyBAAAAAXRSTlMAQObYZgAAA0hJREFU\n",
       "SMe9lU9o01AYwL82bddkSbsJojsIQfHPQaFsigfHDCgIelgVnCehBxX1oL0NQWRzl84/kNuGIosb\n",
       "ONhhC4iH4Q7ZJqgzuqAoehgbFCuISA8buCnO73svS7s0triDj5a8vLz3/b7/D2DjwwlcjRre1Kwt\n",
       "40H1z9FM4LKsedP9+B/H/wK9zAVtlrqqMwRN6s761nYvMUakbbWAjw5ciekAr+jT1yAZCb06ow63\n",
       "pHxrStG1Y4u7AyQ0oh+fYqDG72q4cgIg6Xpcac0f4LZ1EeOEAZ0gPYUwRWwKVcEQyYHBuVaD0QvQ\n",
       "zuMbvQSWwkwKqcQYbkBGoonZAA9RhZmRkb4gEWK2OkJEAc/59BSABUM0G0gTQ15CxliGqQEJ9N2P\n",
       "XO56kIwwU2xqh/YXhoyOKGw/RNMUMUQVZ/Msr5RFZAxYzJ0g49fzhJOuVsiIkzP7NKlJMh8VaeHN\n",
       "dxr5spBLv40xTAxFJwb94CJj1P9ERrvDg66gvUeY247xg7Gt0z1urtRRkNDCnrARqXDbZzoH9SuQ\n",
       "RO0FYICj+NjEGOIvZMxrlN64KUssCv80ajXR4tTp8qBbpyHaswLQJjNz15cOGoaJJCzAGAqP2bb9\n",
       "zbYxgaLLvAZvIKPbLdNokfxKFt0F+Dg+AvVwdq26iRHCpJ6c4W4rH6TbPlYe7aZnBx4MN3DGSbMz\n",
       "skj7LM4QF6gclyHClU1ZUPIVaTlrQlIvxaNAKXUwn4ZRLA8HDhse4z3GMGMwhnin8UWaYooHmaN7\n",
       "zyGsARK8mu6ny2KOQmAS1apoASY7n9SkbfgWMRkjRfstXudSI/N4vxtzeIygcBfPbxiUvdzEM0IG\n",
       "lNko7PEzyDD0Q8yJM+MvE0NBUvK4Wt5LWKMSyDGUGnEVzuRyORWsGbjH5TAb7TlHmIKbfgYzLAtS\n",
       "82v2OmQgY4L1FB6PyJXVvMa2oM3kGAXNCp2GGBP8xIGXFb1kc9rH2CXpvHO7o1m3OpzK3s5CPOwZ\n",
       "HwaZBAkCeMVQ6olF1cdoll1nr/WVvS1mwP0RS/Oe6N4FzwBu4/PDBfvL2tUT93p7q7+fdOwE3k2r\n",
       "31Gjbm8va1AUj3+4oxS1FuPtOk03cteu17Ckail4t/D/Cf7L+AO3Pt+wGGgXMwAAAABJRU5ErkJg\n",
       "gg==\n",
       "\" style=\"display:inline;vertical-align:middle;\" /></a></dd>"
      ],
      "text/plain": [
       "<IPython.core.display.HTML object>"
      ]
     },
     "metadata": {},
     "output_type": "display_data"
    }
   ],
   "source": [
    "import proveit\n",
    "%theory # toggles between interactive and static modes"
   ]
  },
  {
   "cell_type": "code",
   "execution_count": null,
   "metadata": {},
   "outputs": [],
   "source": []
  }
 ],
 "metadata": {
  "kernelspec": {
   "display_name": "Python 3",
   "language": "python",
   "name": "python3"
  }
 },
 "nbformat": 4,
 "nbformat_minor": 0
}