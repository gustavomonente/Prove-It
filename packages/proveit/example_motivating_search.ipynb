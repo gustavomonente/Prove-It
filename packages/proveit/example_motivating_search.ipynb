{
 "cells": [
  {
   "cell_type": "code",
   "execution_count": 1,
   "metadata": {},
   "outputs": [
    {
     "data": {
      "text/html": [
       "<strong id=\"AeqB\">AeqB:</strong> <a class=\"ProveItLink\" href=\"__pv_it/eb978f2c3baa461acc2e0a3fe8e42765e304c8dd0/expr.ipynb\"><img src=\"data:image/png;base64,iVBORw0KGgoAAAANSUhEUgAAADsAAAAOBAMAAABjvHmeAAAAMFBMVEX///92dnYiIiIQEBBERERU\n",
       "VFS6urqIiIjc3NxmZmaqqqru7u6YmJgyMjLMzMwAAADiRdoGAAAAAXRSTlMAQObYZgAAAMhJREFU\n",
       "GNNjYACBtwzogCf+68wQNyjnPoY0A7MDA8P8BxCl9zdgSL8/wMCQPwHM3DW/AUO6Hih0vgDMPFCf\n",
       "gCHtzMDAbQQ2lG3D+gMY0l8ZGB5Fg1nbGN6DTZG9CwI3wWJ8X8+UaEEUJjD0T0DXzP6DgWFzAFhh\n",
       "5Mx4B3RpFgOgkl9gq4GevIAuzQ/Uyf4dxFrAwMBkgLD7KtzbrN+ADA6gNO8HbN5+D7KyCWTTD3Tp\n",
       "y0BLTYDe3vL/NgOX/yc0p8f+j5zqAjQWANmrP2CfjofaAAAAAElFTkSuQmCC\n",
       "\" style=\"display:inline;vertical-align:middle;\" /></a><br>\n",
       "<strong id=\"CeqD\">CeqD:</strong> <a class=\"ProveItLink\" href=\"__pv_it/8e53762faf01bcfc361bec956ceb5df80443ab520/expr.ipynb\"><img src=\"data:image/png;base64,iVBORw0KGgoAAAANSUhEUgAAADwAAAAOBAMAAACBYGLnAAAAMFBMVEX////MzMy6uroyMjIiIiKq\n",
       "qqoQEBB2dnbc3NyYmJhmZmZUVFRERESIiIju7u4AAACOKgoaAAAAAXRSTlMAQObYZgAAANBJREFU\n",
       "GNNjYGDgu7NrJ0cBAyrg3P9n95kdINa1CQysyyagSTPwGzAwzA9gYHjjB+Ssb0CXlr/AwMCVwMBg\n",
       "9gDIUUOXZbgvwMDA9JOB6yuII4UhfR6IOb4z9DuAOC8wpP8AMdNvhvoLcJFiYxCwArMZ/wIJ3u8M\n",
       "/gIM2ADvRyDB/YkhH+Qyhgfo0jwfQJ5LYPAHcVgxjOA/ACTmT4D4mB3Jbmu4t/lyGBj6QU6rw+rt\n",
       "x8CAY/3JwBCFYTWDPdBbXiDGq9O7FDBkN//ftfsU0FoANCU3aIKUw98AAAAASUVORK5CYII=\n",
       "\" style=\"display:inline;vertical-align:middle;\" /></a><br>\n",
       "<strong id=\"BimplC\">BimplC:</strong> <a class=\"ProveItLink\" href=\"__pv_it/45ab3be324b603892f5fcf28689f603b1ee23bc00/expr.ipynb\"><img src=\"data:image/png;base64,iVBORw0KGgoAAAANSUhEUgAAAEEAAAAPBAMAAABJi79qAAAAMFBMVEX///92dnYyMjKqqqoiIiLu\n",
       "7u7c3NyIiIjMzMwQEBC6urpERERmZmZUVFSYmJgAAADEjrHzAAAAAXRSTlMAQObYZgAAAPdJREFU\n",
       "GNNjYGB4+//O2d0LGDABa/Wde2wCINZsBgaeH1hUVD5gYD75AMjg+MfAwPUHU0G0K5A4nwAk2L8x\n",
       "MPB9h0twJ0AZmgFAYiVYaAIDQ6QrXAXHBgjN8xlE9oAI/gsMHL4BCNPfQKh8BxAZBiL67z3fYgAW\n",
       "POICAv4HwBz5Arie+gQG1rnITjQCq/dvgAvsBKkyQA4HTVDozAdbDCb+glQUIKnIFQObASKYG6DB\n",
       "wXAfHKaHlMBADawOHBKMDNDg4PiNZMQiqF9AxoqCWEzA4Fi5FckVqhCaGWi2DcgZvPp/z9zejGQE\n",
       "L8wPMXvvYItPBgY2ND4AIAc997kUO5QAAAAASUVORK5CYII=\n",
       "\" style=\"display:inline;vertical-align:middle;\" /></a><br>"
      ],
      "text/plain": [
       "AeqB: A = B\n",
       "CeqD: C = D\n",
       "BimplC: B => C"
      ]
     },
     "execution_count": 1,
     "metadata": {},
     "output_type": "execute_result"
    }
   ],
   "source": [
    "import proveit\n",
    "from proveit import ProofFailure\n",
    "%begin example_motivating_search\n",
    "from proveit._common_ import A, B, C, D\n",
    "from proveit.logic import Implies, Equals\n",
    "AeqB, CeqD, BimplC = Equals(A, B), Equals(C, D), Implies(B, C)"
   ]
  },
  {
   "cell_type": "code",
   "execution_count": 2,
   "metadata": {},
   "outputs": [
    {
     "data": {
      "text/html": [
       "<span style=\"font-size:20px;\"><a class=\"ProveItLink\" href=\"__pv_it/2fafaa9900b85dec79e2c800a9bc2f9b1d62b1e00/expr.ipynb\"><img src=\"data:image/png;base64,iVBORw0KGgoAAAANSUhEUgAAAG0AAAAVBAMAAAC+p33JAAAAMFBMVEX///+IiIi6urrc3NxERETM\n",
       "zMwQEBCqqqpUVFQiIiJ2dnYyMjLu7u5mZmaYmJgAAABN0h6tAAAAAXRSTlMAQObYZgAAAZpJREFU\n",
       "OMtjYGDgu8dAEmC9eABE8exiIBEwpYJIvg8gov/H3RYnqDgKBwUc9LjxwIqB4TaIzTUBRLI5MDDc\n",
       "D4BKo3CQAGMeA0MtEK9E6It/wMCgfwEqj8JBAB5PoMd4P6PokzdgYHgvAFWAwmFgcIbS3DkgzyWg\n",
       "6HMDGpd5AKoAhcPAEAKl7xeAQvMCir4fDAyRPTCFKBxgOEGczPwT7FigW5aBGBwbQKb8eCcyHR5B\n",
       "cA7vTDD4C+ZwfYQpeA8iykABxwj07bEGWLAhc0CAfTuI5PwK43MDHRAyGcRiAfqW8TtUGIUDBqeT\n",
       "QLHzB+xOENEJDDQ1kH38QOMZYe5A4YB91mUAsg+UQBhKQfaBHMPhAI0xjk9I0Qfh8O6GAAMw5zOI\n",
       "XADzHzg8QTEW74AUfXAOKMo2QGwFOYELFD3L4Pq2AWVTDjDw/GZAcBC+g7LrHzCw3wEx4PHX/b/3\n",
       "hgsoVmceQOLAQCssnV3puMSAog8R4gew5AIDdAGIvgQkES6iMuBKeP6DZzCi9IHzHwNyfn9AVH5P\n",
       "gviJnPIFADZ9gvRCVoW9AAAAAElFTkSuQmCC\n",
       "\" style=\"display:inline;vertical-align:middle;\" /></a> <a class=\"ProveItLink\" href=\"__pv_it/3c0cff4942c871781a8f552e2a87d8e21c8c002d0/proof.ipynb\" style=\"text-decoration: none\">&#x22A2;&nbsp;</a><a class=\"ProveItLink\" href=\"__pv_it/dcb5a3e430485237dfe486162b026a4affb149300/expr.ipynb\"><img src=\"data:image/png;base64,iVBORw0KGgoAAAANSUhEUgAAAA8AAAAOBAMAAAACpFvcAAAAMFBMVEX////MzMy6uroyMjIiIiKq\n",
       "qqoQEBB2dnbc3NyYmJhmZmZUVFRERESIiIju7u4AAACOKgoaAAAAAXRSTlMAQObYZgAAAGRJREFU\n",
       "CNdjYGDgu7NrJ0cBAwPDtQkMrMsmMDC88QNy1jcwMJg9ADLUGBi4vgJpBikGhn4HEOMFA0P9BQYI\n",
       "8BeAMvJBahmAhD+IZhWAmMDADsT9IMV1INGfDAxRYHWvTu9SAFIARRcYB3lKsPwAAAAASUVORK5C\n",
       "YII=\n",
       "\" style=\"display:inline;vertical-align:middle;\" /></a></span>"
      ],
      "text/plain": [
       "{B, B => C} |- C"
      ]
     },
     "execution_count": 2,
     "metadata": {},
     "output_type": "execute_result"
    }
   ],
   "source": [
    "C.prove([B, BimplC])"
   ]
  },
  {
   "cell_type": "code",
   "execution_count": 3,
   "metadata": {},
   "outputs": [
    {
     "data": {
      "text/html": [
       "<span style=\"font-size:20px;\"><a class=\"ProveItLink\" href=\"__pv_it/642ca6eb4b3c7de5639a2b229437277d06131bf40/expr.ipynb\"><img src=\"data:image/png;base64,iVBORw0KGgoAAAANSUhEUgAAALMAAAAVBAMAAAD/f8IzAAAAMFBMVEX///+IiIi6urrc3NxERETM\n",
       "zMwQEBCqqqpUVFQiIiJ2dnYyMjLu7u5mZmaYmJgAAABN0h6tAAAAAXRSTlMAQObYZgAAAm1JREFU\n",
       "OMu1Vb1PFEEUf8uhdyx7HwWxxYoWahouSgwWRgoaCnMXggWJARqtIJioyflxYmJhSDBSkRhIuAqN\n",
       "xLhGQ0MMSowhUbj7Czg/MJzfvt/M7O7M7hVbwEt2dn4z772d997vzRJRZpcOW469c/FyntHhS8tF\n",
       "jJnPGGYbO9dPqXUDGPJyYLvWq+ZOR/luYiGkkJndL/Vf48lHIPsexuN5ouqgUjCAJtY40fS4Aidq\n",
       "lPxQC6tkK0T1SaLHgesCK3W/VfsGCMQ5yxlMf5Pg9TwP1Z6wTiHHKkXDdScr1XNq3wBEp9W7/RKy\n",
       "WJRgFYXqiny+k4Nt+Wu4PsOHGnPVvgGIhtS7Ooniy2jSBxgvRFyf5yfx03DdIBq+4+0bgGsjvSV+\n",
       "iKzIHPQJq1cR1/sIjO0XAVIVnKWx1/HAZ6UP0nNC/ghgf9FcrAT5WlqDPJem0LH41HWgK6CCxcVZ\n",
       "v+oRQQeQ5BOMbd+1pUeDTflsQSf1levCkQ7dx1IrF8c6UPsGELIxAkr+FgmRKxOiFG7YdSuaJItK\n",
       "3+SwuvD9LB/S8gI2gMjyLSS4DWZ0WZ1aRBM5epY7gurM3XZEncorJiMOn9YSpNekiNJJRqv+E4y2\n",
       "tVw/9WntjJLKtWAImFzIa7T2ASpekWdHILbKQR/KuNyU1htQX/Rdr7KDUZecXxSAINNqPsOt/Ylo\n",
       "E6ZJbovpSKrpBZs+xMTn9e1/5e1+NMScqwFPbniN/r60hZyjxenNQPlkxDObls71GK4DmrlNGBW+\n",
       "KKZi3KrSdVFbseNcxgtxXYv72r+QY1g5uRhK4r4m/S9Ti2GVifOXGZH5PaJ/439aer/ZHMcJcQAA\n",
       "AABJRU5ErkJggg==\n",
       "\" style=\"display:inline;vertical-align:middle;\" /></a> <a class=\"ProveItLink\" href=\"__pv_it/3c8093d81f439573ec38713c05c7c8ee4eef59000/proof.ipynb\" style=\"text-decoration: none\">&#x22A2;&nbsp;</a><a class=\"ProveItLink\" href=\"__pv_it/8f4534f2d0cd8231a9b8a1771e8be76aa52adea40/expr.ipynb\"><img src=\"data:image/png;base64,iVBORw0KGgoAAAANSUhEUgAAABEAAAAOBAMAAAA7w+qHAAAAMFBMVEX///8iIiLu7u52dna6uroQ\n",
       "EBBmZmaIiIjMzMyqqqoyMjLc3NxERERUVFSYmJgAAAAdjRNVAAAAAXRSTlMAQObYZgAAAGlJREFU\n",
       "CNdjYGB4+//snbMbGEDgFwMD308Qg+M7kEgFsdh/AAn/B0CC5wOQ2G8AJPgPgMQuAIn+AiBRDxKr\n",
       "bwAS9x2AxHmQtq8g4g8Q8/2DGad6AGoc0yqQJBfQOMcEIIN3/d/cO9lABgDT4B6ufsfOGgAAAABJ\n",
       "RU5ErkJggg==\n",
       "\" style=\"display:inline;vertical-align:middle;\" /></a></span>"
      ],
      "text/plain": [
       "{B, B => C, C = D} |- D"
      ]
     },
     "execution_count": 3,
     "metadata": {},
     "output_type": "execute_result"
    }
   ],
   "source": [
    "CeqD.deriveRightViaEquivalence([B, BimplC, CeqD])"
   ]
  },
  {
   "cell_type": "code",
   "execution_count": 4,
   "metadata": {},
   "outputs": [
    {
     "data": {
      "text/html": [
       "<span style=\"font-size:20px;\"><a class=\"ProveItLink\" href=\"__pv_it/38d986ff95327393d0495ed54b1cc2be1ef4fa580/expr.ipynb\"><img src=\"data:image/png;base64,iVBORw0KGgoAAAANSUhEUgAAAGcAAAAVBAMAAACphe0AAAAAMFBMVEX///+IiIi6urrc3NxERETM\n",
       "zMwQEBCqqqpUVFQiIiJ2dnYyMjLu7u5mZmaYmJgAAABN0h6tAAAAAXRSTlMAQObYZgAAAYtJREFU\n",
       "OMtjYGDgu8dAPGC9eABE8exiIAUwpYJIvg9QMzYgSUVjKObr/3G3xQnIuA3icU2AiHJ/QFKyH9MK\n",
       "NgcGhvsBDAwrkTW9/oNk7P4DGJriHzAw6F9A1cRT+xmh4Ph9AwxN8kCh9wKomvgYPyEUPJBXwNDk\n",
       "BjQ48wCqJh32f4gQOlD/AEPTDwaGyB4gvQzE4QCHGo8C60e4/CGGeAEQvXo3COyFBO6PdyLTQYz3\n",
       "IKIsAGw4A/NfuCYFBvsL6BYxAr18rAEUykCpkMlgsYi7N77AY733br8DuiaWBKDG7yBWJ9AVagEQ\n",
       "wxmy4V4CRsoGdE38QFsYQT7gBlnHATKUHYinweQLGBg4ExB+2gGPJo5PMD+BQ88cKRUwF6AlD3g0\n",
       "xTvAQg+kiRmk0d+A4TzIVZYgH3xG17QN6OwUUDqBxROP/+8DDCX/5zJwzmFgOPJ/DwO7/0+04Ov+\n",
       "33vDpYCBAS3tgUEN4bwB0ZSAJLKASE18SH7mESCsCZyfGJByLh8ROTcJTLGTXEYAAONWcLKuT1Yp\n",
       "AAAAAElFTkSuQmCC\n",
       "\" style=\"display:inline;vertical-align:middle;\" /></a> <a class=\"ProveItLink\" href=\"__pv_it/59f4d73363b4c0d70e2ec58dd8c0d4ad5fb9ab2e0/proof.ipynb\" style=\"text-decoration: none\">&#x22A2;&nbsp;</a><a class=\"ProveItLink\" href=\"__pv_it/4d98b438710c5ada9ffa4646bb123a7d0e69ec000/expr.ipynb\"><img src=\"data:image/png;base64,iVBORw0KGgoAAAANSUhEUgAAABAAAAAOBAMAAADUAYG5AAAALVBMVEX///8yMjKqqqoiIiLu7u7c\n",
       "3NyIiIjMzMwQEBC6urpERERmZmZUVFSYmJgAAACsPVCVAAAAAXRSTlMAQObYZgAAAGxJREFUCNdj\n",
       "YGC48+70nlUTGICgi4GB+zmQZn/LwMD5Gshge8rAwPsMyOBqYGDwMAEy+A4wsNs4ABl1Z68tVgBp\n",
       "ygtgYOkBMVaAOCChNyBGAsQYhnMTIMawvwJyGIHGzFjCwMAj92b3qUUMDAAXABxvZ4rl5AAAAABJ\n",
       "RU5ErkJggg==\n",
       "\" style=\"display:inline;vertical-align:middle;\" /></a></span>"
      ],
      "text/plain": [
       "{A, A = B} |- B"
      ]
     },
     "execution_count": 4,
     "metadata": {},
     "output_type": "execute_result"
    }
   ],
   "source": [
    "AeqB.deriveRightViaEquivalence([A, AeqB])"
   ]
  },
  {
   "cell_type": "code",
   "execution_count": 5,
   "metadata": {},
   "outputs": [
    {
     "name": "stdout",
     "output_type": "stream",
     "text": [
      "Fails as expected but not as desired:\n",
      "Unable to prove D assuming {A, A = B, B => C, C = D}:\n",
      "'conclude' method not implemented for proof automation\n"
     ]
    }
   ],
   "source": [
    "try:\n",
    "    D.prove([A, AeqB, BimplC, CeqD])\n",
    "except ProofFailure as e:\n",
    "    print(\"Fails as expected but not as desired:\")\n",
    "    print(e)"
   ]
  },
  {
   "cell_type": "code",
   "execution_count": 6,
   "metadata": {},
   "outputs": [
    {
     "data": {
      "text/html": [
       "<span style=\"font-size:20px;\"><a class=\"ProveItLink\" href=\"__pv_it/e6fe74fcd27e8fe6b7c771b672bb7d8825b5a9bd0/expr.ipynb\"><img src=\"data:image/png;base64,iVBORw0KGgoAAAANSUhEUgAAAPcAAAAVBAMAAABoLmXpAAAAMFBMVEX///+IiIi6urrc3NxERETM\n",
       "zMwQEBCqqqpUVFQiIiJ2dnYyMjLu7u5mZmaYmJgAAABN0h6tAAAAAXRSTlMAQObYZgAAAvZJREFU\n",
       "SMfFVktoE0EY/jfbunlsNj0Ur82pJ8HcRC8pWqQeJDn0oIg0lHoQpeagnloUVIiPWEFQChZzKoiC\n",
       "PVWxSrda9FDEByIFrc1dMG1TaWpt6//PbHYnOwPZk/1hH9/s/5j/OQsA1g/4/9T6yaaH+QJ2gkKn\n",
       "6G4tOXuZED6dkJitkdrC1YMq0EAzPfPlA8672V68rZckPauF7iv48o1Q9A5fjS0JLNOy2l1dAItZ\n",
       "FRBIGwQYHnTA7jIYX8t+lgQ6WckDPBKN//wrbG/alvT2oZq9H1XAI/MIysWrHMw+wNtiStLThiy5\n",
       "RuPmcNVjeCfLQAcuVdpUAOCQ84ydpWzmOJgkBzplPRiw0FajcUtb8RjKHUlJ6DBu8LStAgC9znMx\n",
       "T8XDIxJfo/tJSU8GL/1Po/E9xpZXifYlKVVQAzh+Swlw59yevs5iyKOWZnrfSHpWyQDKjxMIsyo3\n",
       "k63L7vfXLDEAj6eIXvFmqP1qv+92qQvio4w2GYguC0aeellp0EM8GnpeIXSRFW0I9E2XOQlpqZg0\n",
       "LIm3l1WAyHhG98hvYelhVtnfGvGEMcUxNNF7l60dW5hfdf0qLox0+YVasIy0NRVgNNdPDcgaxuQr\n",
       "51hJSF3TQh2doJq8jqHpzHJn4YybclQzIbUnOqotqwDL9g1KdISNiguO5ywikvsJcquCJRWjyIUJ\n",
       "GXjdq3/Hko3kvFw9dzs7vCK0OQfxKU6syHiHOzONdWsUJD3orzkATs5Zte8Tppqe9407t7P7ulSA\n",
       "YsUDpVMwok6k01RwT5RtPkfs43XjOm0gk4IPtLqfMlP1C02iiQEbzA0BeBl33rFDje/A1VDrDsuD\n",
       "El0MjdFLvc/NzIYN57fHIIITcXb7JRiZdV+539wuznfTCBm1BVCna/Xx+qXwmXJPgxXe9xTlUYWi\n",
       "haMp0bhHQ02PQsNWLPqH8VCAM5UbzwkrpaYy0SCHdSmocUuoLbOtqcxMAL0B1DjnOQh/MlZzmXIA\n",
       "vQHUQKifZ3HH/uH+AUT39kSAcNNQAAAAAElFTkSuQmCC\n",
       "\" style=\"display:inline;vertical-align:middle;\" /></a> <a class=\"ProveItLink\" href=\"__pv_it/3a57803d48d2516943cc2aaaaf624a4479d7c50a0/proof.ipynb\" style=\"text-decoration: none\">&#x22A2;&nbsp;</a><a class=\"ProveItLink\" href=\"__pv_it/8f4534f2d0cd8231a9b8a1771e8be76aa52adea40/expr.ipynb\"><img src=\"data:image/png;base64,iVBORw0KGgoAAAANSUhEUgAAABEAAAAOBAMAAAA7w+qHAAAAMFBMVEX///8iIiLu7u52dna6uroQ\n",
       "EBBmZmaIiIjMzMyqqqoyMjLc3NxERERUVFSYmJgAAAAdjRNVAAAAAXRSTlMAQObYZgAAAGlJREFU\n",
       "CNdjYGB4+//snbMbGEDgFwMD308Qg+M7kEgFsdh/AAn/B0CC5wOQ2G8AJPgPgMQuAIn+AiBRDxKr\n",
       "bwAS9x2AxHmQtq8g4g8Q8/2DGad6AGoc0yqQJBfQOMcEIIN3/d/cO9lABgDT4B6ufsfOGgAAAABJ\n",
       "RU5ErkJggg==\n",
       "\" style=\"display:inline;vertical-align:middle;\" /></a></span>"
      ],
      "text/plain": [
       "{A, A = B, B => C, C = D} |- D"
      ]
     },
     "execution_count": 6,
     "metadata": {},
     "output_type": "execute_result"
    }
   ],
   "source": [
    "CeqD.deriveRightViaEquivalence([A, AeqB, BimplC, CeqD])"
   ]
  },
  {
   "cell_type": "code",
   "execution_count": 7,
   "metadata": {},
   "outputs": [
    {
     "data": {
      "text/html": [
       "<span style=\"font-size:20px;\"><a class=\"ProveItLink\" href=\"__pv_it/e6fe74fcd27e8fe6b7c771b672bb7d8825b5a9bd0/expr.ipynb\"><img src=\"data:image/png;base64,iVBORw0KGgoAAAANSUhEUgAAAPcAAAAVBAMAAABoLmXpAAAAMFBMVEX///+IiIi6urrc3NxERETM\n",
       "zMwQEBCqqqpUVFQiIiJ2dnYyMjLu7u5mZmaYmJgAAABN0h6tAAAAAXRSTlMAQObYZgAAAvZJREFU\n",
       "SMfFVktoE0EY/jfbunlsNj0Ur82pJ8HcRC8pWqQeJDn0oIg0lHoQpeagnloUVIiPWEFQChZzKoiC\n",
       "PVWxSrda9FDEByIFrc1dMG1TaWpt6//PbHYnOwPZk/1hH9/s/5j/OQsA1g/4/9T6yaaH+QJ2gkKn\n",
       "6G4tOXuZED6dkJitkdrC1YMq0EAzPfPlA8672V68rZckPauF7iv48o1Q9A5fjS0JLNOy2l1dAItZ\n",
       "FRBIGwQYHnTA7jIYX8t+lgQ6WckDPBKN//wrbG/alvT2oZq9H1XAI/MIysWrHMw+wNtiStLThiy5\n",
       "RuPmcNVjeCfLQAcuVdpUAOCQ84ydpWzmOJgkBzplPRiw0FajcUtb8RjKHUlJ6DBu8LStAgC9znMx\n",
       "T8XDIxJfo/tJSU8GL/1Po/E9xpZXifYlKVVQAzh+Swlw59yevs5iyKOWZnrfSHpWyQDKjxMIsyo3\n",
       "k63L7vfXLDEAj6eIXvFmqP1qv+92qQvio4w2GYguC0aeellp0EM8GnpeIXSRFW0I9E2XOQlpqZg0\n",
       "LIm3l1WAyHhG98hvYelhVtnfGvGEMcUxNNF7l60dW5hfdf0qLox0+YVasIy0NRVgNNdPDcgaxuQr\n",
       "51hJSF3TQh2doJq8jqHpzHJn4YybclQzIbUnOqotqwDL9g1KdISNiguO5ywikvsJcquCJRWjyIUJ\n",
       "GXjdq3/Hko3kvFw9dzs7vCK0OQfxKU6syHiHOzONdWsUJD3orzkATs5Zte8Tppqe9407t7P7ulSA\n",
       "YsUDpVMwok6k01RwT5RtPkfs43XjOm0gk4IPtLqfMlP1C02iiQEbzA0BeBl33rFDje/A1VDrDsuD\n",
       "El0MjdFLvc/NzIYN57fHIIITcXb7JRiZdV+539wuznfTCBm1BVCna/Xx+qXwmXJPgxXe9xTlUYWi\n",
       "haMp0bhHQ02PQsNWLPqH8VCAM5UbzwkrpaYy0SCHdSmocUuoLbOtqcxMAL0B1DjnOQh/MlZzmXIA\n",
       "vQHUQKifZ3HH/uH+AUT39kSAcNNQAAAAAElFTkSuQmCC\n",
       "\" style=\"display:inline;vertical-align:middle;\" /></a> <a class=\"ProveItLink\" href=\"__pv_it/3a57803d48d2516943cc2aaaaf624a4479d7c50a0/proof.ipynb\" style=\"text-decoration: none\">&#x22A2;&nbsp;</a><a class=\"ProveItLink\" href=\"__pv_it/8f4534f2d0cd8231a9b8a1771e8be76aa52adea40/expr.ipynb\"><img src=\"data:image/png;base64,iVBORw0KGgoAAAANSUhEUgAAABEAAAAOBAMAAAA7w+qHAAAAMFBMVEX///8iIiLu7u52dna6uroQ\n",
       "EBBmZmaIiIjMzMyqqqoyMjLc3NxERERUVFSYmJgAAAAdjRNVAAAAAXRSTlMAQObYZgAAAGlJREFU\n",
       "CNdjYGB4+//snbMbGEDgFwMD308Qg+M7kEgFsdh/AAn/B0CC5wOQ2G8AJPgPgMQuAIn+AiBRDxKr\n",
       "bwAS9x2AxHmQtq8g4g8Q8/2DGad6AGoc0yqQJBfQOMcEIIN3/d/cO9lABgDT4B6ufsfOGgAAAABJ\n",
       "RU5ErkJggg==\n",
       "\" style=\"display:inline;vertical-align:middle;\" /></a></span>"
      ],
      "text/plain": [
       "{A, A = B, B => C, C = D} |- D"
      ]
     },
     "execution_count": 7,
     "metadata": {},
     "output_type": "execute_result"
    }
   ],
   "source": [
    "D.prove([A, AeqB, BimplC, CeqD])"
   ]
  },
  {
   "cell_type": "code",
   "execution_count": 8,
   "metadata": {},
   "outputs": [],
   "source": [
    "%end example_motivating_search"
   ]
  },
  {
   "cell_type": "code",
   "execution_count": null,
   "metadata": {},
   "outputs": [],
   "source": []
  }
 ],
 "metadata": {
  "kernelspec": {
   "display_name": "Python 3",
   "language": "python",
   "name": "python3"
  }
 },
 "nbformat": 4,
 "nbformat_minor": 0
}
