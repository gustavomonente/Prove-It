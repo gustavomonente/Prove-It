{
 "cells": [
  {
   "cell_type": "markdown",
   "metadata": {},
   "source": [
    "Context: proveit\n",
    "========\n",
    "\n",
    "This is the top-level context for general \"textbook\" mathematics."
   ]
  },
  {
   "cell_type": "code",
   "execution_count": 1,
   "metadata": {},
   "outputs": [
    {
     "data": {
      "text/html": [
       "<table><tr>\n",
       "<th><a class=\"ProveItLink\" href=\"_common_.ipynb\">common expressions</a></th>\n",
       "<th><a class=\"ProveItLink\" href=\"_axioms_.ipynb\">axioms</a></th>\n",
       "<th><a class=\"ProveItLink\" href=\"_theorems_.ipynb\">theorems</a></th>\n",
       "<th><a class=\"ProveItLink\" href=\"_demonstrations_.ipynb\">demonstrations</a></th>\n",
       "</tr></table>\n",
       "<table>\n",
       "<tr><th><a class=\"ProveItLink\" href=\"core_expr_types/_context_.ipynb\">core_expr_types</a></th><td>theories pertaining to some of the core exression types</td></tr>\n",
       "<tr><th><a class=\"ProveItLink\" href=\"logic/_context_.ipynb\">logic</a></th><td>basic logic concepts: boolean arithmetic, equality, and set theory.</td></tr>\n",
       "<tr><th><a class=\"ProveItLink\" href=\"number/_context_.ipynb\">number</a></th><td>basic number concepts and operations for whole numbers, real numbers, and complex numbers.</td></tr>\n",
       "<tr><th><a class=\"ProveItLink\" href=\"physics/_context_.ipynb\">physics</a></th><td>basic physics-related concepts, including quantum topics</td></tr>\n",
       "</table>\n"
      ],
      "text/plain": [
       "<IPython.core.display.HTML object>"
      ]
     },
     "metadata": {},
     "output_type": "display_data"
    }
   ],
   "source": [
    "import proveit\n",
    "%context # toggles between interactive and static modes"
   ]
  },
  {
   "cell_type": "code",
   "execution_count": null,
   "metadata": {},
   "outputs": [],
   "source": []
  }
 ],
 "metadata": {
  "kernelspec": {
   "display_name": "Python 3",
   "language": "python",
   "name": "python3"
  }
 },
 "nbformat": 4,
 "nbformat_minor": 0
}
