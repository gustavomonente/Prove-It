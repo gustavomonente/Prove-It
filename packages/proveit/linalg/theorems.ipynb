{
 "cells": [
  {
   "cell_type": "code",
   "execution_count": null,
   "metadata": {},
   "outputs": [],
   "source": [
    "import proveit.specialStatementMagic # for %begin_theorems and %end_theorems\n",
    "from proveit.basiclogic import Equals, Forall, Iff, In, Implies\n",
    "from proveit.multiExpression import MultiVariable, Etcetera\n",
    "from proveit.linalg import ScalarProd, TensorProd, MatrixProd, TensorExp, SU\n",
    "from proveit.number.common import one\n",
    "from proveit.number import Complex, NaturalPos\n",
    "from proveit.common import aEtc, b, n, k, f, x, y, z, fx, fy, xEtc, yEtc, zEtc, A, U, S, alpha, beta\n",
    "from proveit.number import Add, Multiply, Exponentiate, Summation"
   ]
  },
  {
   "cell_type": "code",
   "execution_count": null,
   "metadata": {},
   "outputs": [],
   "source": [
    "%begin_theorems"
   ]
  },
  {
   "cell_type": "code",
   "execution_count": null,
   "metadata": {},
   "outputs": [],
   "source": [
    "factorScalarFromTensorProd = Forall((xEtc, y, zEtc),\n",
    "                                    Forall(alpha,\n",
    "                                           Equals(TensorProd(xEtc, ScalarProd(alpha, y), zEtc),\n",
    "                                                 ScalarProd(alpha, TensorProd(xEtc, y, zEtc)))))\n",
    "factorScalarFromTensorProd                             "
   ]
  },
  {
   "cell_type": "code",
   "execution_count": null,
   "metadata": {},
   "outputs": [],
   "source": [
    "doublyScaledAsSinglyScaled = Forall(x, Forall((alpha, beta), Equals(ScalarProd(alpha, ScalarProd(beta, x)), \n",
    "                                                      ScalarProd(Multiply(alpha, beta), x))))\n",
    "doublyScaledAsSinglyScaled"
   ]
  },
  {
   "cell_type": "code",
   "execution_count": null,
   "metadata": {},
   "outputs": [],
   "source": [
    "tensorProdEquivByElimination = Forall((aEtc, x, y, zEtc), Iff(Equals(TensorProd(aEtc, x, zEtc), TensorProd(aEtc, y, zEtc)),\n",
    "                                                              Equals(x, y)))\n",
    "tensorProdEquivByElimination"
   ]
  },
  {
   "cell_type": "code",
   "execution_count": null,
   "metadata": {},
   "outputs": [],
   "source": [
    "intPowSUclosure = Forall((n, k), Forall(U, In(Exponentiate(U, k), SU(n)), \n",
    "                                     domain=SU(n)), \n",
    "                      domain=NaturalPos)\n",
    "intPowSUclosure"
   ]
  },
  {
   "cell_type": "code",
   "execution_count": null,
   "metadata": {},
   "outputs": [],
   "source": [
    "eigenPow = Forall(k, Forall(b, Forall((A, x), \n",
    "                            Implies(Equals(MatrixProd(A, x), ScalarProd(b, x)), \n",
    "                                    Equals(MatrixProd(Exponentiate(A, k), x), ScalarProd(Exponentiate(b, k), x)))),\n",
    "                  domain=Complex), domain=NaturalPos)\n",
    "eigenPow"
   ]
  },
  {
   "cell_type": "code",
   "execution_count": null,
   "metadata": {},
   "outputs": [],
   "source": [
    "distributeTensorProdOverSum = Forall((xEtc, yEtc, zEtc), \n",
    "                                     Equals(TensorProd(xEtc, Add(yEtc), zEtc),\n",
    "                                            Add(Etcetera(TensorProd(xEtc, MultiVariable(y), zEtc)))))\n",
    "distributeTensorProdOverSum"
   ]
  },
  {
   "cell_type": "code",
   "execution_count": null,
   "metadata": {},
   "outputs": [],
   "source": [
    "distributeTensorProdOverSummation = Forall((f, S, xEtc, zEtc), \n",
    "                                           Equals(TensorProd(xEtc, Summation(y, fy, domain=S), zEtc),\n",
    "                                                  Summation(y, TensorProd(xEtc, fy, zEtc), domain=S)))\n",
    "distributeTensorProdOverSummation"
   ]
  },
  {
   "cell_type": "code",
   "execution_count": null,
   "metadata": {},
   "outputs": [],
   "source": [
    "%end_theorems"
   ]
  },
  {
   "cell_type": "code",
   "execution_count": null,
   "metadata": {},
   "outputs": [],
   "source": []
  }
 ],
 "metadata": {
  "kernelspec": {
   "display_name": "Python 3",
   "language": "python",
   "name": "python3"
  }
 },
 "nbformat": 4,
 "nbformat_minor": 0
}
