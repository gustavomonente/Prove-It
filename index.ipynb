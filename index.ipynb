{
 "cells": [
  {
   "cell_type": "markdown",
   "metadata": {},
   "source": [
    "Welcome to the expanding Prove-It library of Proofs\n",
    "========\n",
    "\n",
    "<a href=\"https://github.com/PyProveIt/Prove-It\">Prove-It</a> is a tool for proving and organizing general theorems using Python.  These web pages are a companion to the **Prove-It** code repository, generated using this code to display the proofs contained therein, in addition to the <a href=\"doc/html/index.html\">documentation</a>.  This system is in an early beta version and under active development.  A tutorial and more complete explanation of **Prove-It**'s unique approach to theorem proving is in progress.\n",
    "\n",
    "Our proofs are organized into a <a href=\"#hierarchy\">hierarchy of contexts</a> as listed below.  This is an expanding and evolving library with the eventual aim of accepting proofs from many contributors.  There is a particular structure to this library described in this <a class=\"ProveItLink\" href=\"guide.ipynb\">guide</a>.  The links below go to corresponding <a class=\"ProveItLink\" href=\"guide.ipynb#context\">context</a> web pages.  Each of these contains context-specific links to web pages for <a class=\"ProveItLink\" href=\"guide.ipynb#common\">common expressions</a>, \n",
    "<a class=\"ProveItLink\" href=\"guide.ipynb#axioms\">axioms</a>, and <a class=\"ProveItLink\" href=\"guide.ipynb#theorems\">theorems</a>, as well as a page of <a class=\"ProveItLink\" href=\"guide.ipynb#demonstrations\">demonstrations</a> containing relevant examples.  Additionally, each generated expression links to an <a class=\"ProveItLink\" href=\"guide.ipynb#expr_info\">expression information</a> page that shows the internal tree-like structure of the expression.  Each theorem links to its <a class=\"ProveItLink\" href=\"guide.ipynb#theorem_proof\">proof</a>, though not all proofs have been generated.  This content is very much incomplete.  The earlier contexts listed below tend to be more complete than the later ones.  The <a class=\"ProveItLink\" href=\"packages/proveit/logic/equality/_context_.ipynb\">proveit.logic.equality</a> context has the best example of an ideal <a class=\"ProveItLink\" href=\"packages/proveit/logic/equality/_demonstrations_.ipynb\">demonstrations</a> page."
   ]
  },
  {
   "cell_type": "markdown",
   "metadata": {},
   "source": [
    "<a name=\"hierarchy\"></a>**Hierarchy of Contexts**"
   ]
  },
  {
   "cell_type": "code",
   "execution_count": 1,
   "metadata": {},
   "outputs": [
    {
     "data": {
      "text/html": [
       "<ul>\n",
       "<li><a class=\"ProveItLink\" href=\"packages/proveit/_context_.ipynb\">proveit</a></li>\n",
       "<ul>\n",
       "<li><a class=\"ProveItLink\" href=\"packages/proveit/core_expr_types/_context_.ipynb\">proveit.core_expr_types</a></li>\n",
       "<ul>\n",
       "<li><a class=\"ProveItLink\" href=\"packages/proveit/core_expr_types/operations/_context_.ipynb\">proveit.core_expr_types.operations</a></li>\n",
       "<li><a class=\"ProveItLink\" href=\"packages/proveit/core_expr_types/conditionals/_context_.ipynb\">proveit.core_expr_types.conditionals</a></li>\n",
       "<li><a class=\"ProveItLink\" href=\"packages/proveit/core_expr_types/lambda_maps/_context_.ipynb\">proveit.core_expr_types.lambda_maps</a></li>\n",
       "<li><a class=\"ProveItLink\" href=\"packages/proveit/core_expr_types/tuples/_context_.ipynb\">proveit.core_expr_types.tuples</a></li>\n",
       "<li><a class=\"ProveItLink\" href=\"packages/proveit/core_expr_types/indexed_vars/_context_.ipynb\">proveit.core_expr_types.indexed_vars</a></li>\n",
       "<li><a class=\"ProveItLink\" href=\"packages/proveit/core_expr_types/expr_array/_context_.ipynb\">proveit.core_expr_types.expr_array</a></li>\n",
       "</ul>\n",
       "<li><a class=\"ProveItLink\" href=\"packages/proveit/logic/_context_.ipynb\">proveit.logic</a></li>\n",
       "<ul>\n",
       "<li><a class=\"ProveItLink\" href=\"packages/proveit/logic/boolean/_context_.ipynb\">proveit.logic.boolean</a></li>\n",
       "<ul>\n",
       "<li><a class=\"ProveItLink\" href=\"packages/proveit/logic/boolean/implication/_context_.ipynb\">proveit.logic.boolean.implication</a></li>\n",
       "<li><a class=\"ProveItLink\" href=\"packages/proveit/logic/boolean/negation/_context_.ipynb\">proveit.logic.boolean.negation</a></li>\n",
       "<li><a class=\"ProveItLink\" href=\"packages/proveit/logic/boolean/conjunction/_context_.ipynb\">proveit.logic.boolean.conjunction</a></li>\n",
       "<li><a class=\"ProveItLink\" href=\"packages/proveit/logic/boolean/disjunction/_context_.ipynb\">proveit.logic.boolean.disjunction</a></li>\n",
       "<li><a class=\"ProveItLink\" href=\"packages/proveit/logic/boolean/quantification/_context_.ipynb\">proveit.logic.boolean.quantification</a></li>\n",
       "<ul>\n",
       "<li><a class=\"ProveItLink\" href=\"packages/proveit/logic/boolean/quantification/universal/_context_.ipynb\">proveit.logic.boolean.quantification.universal</a></li>\n",
       "<li><a class=\"ProveItLink\" href=\"packages/proveit/logic/boolean/quantification/existential/_context_.ipynb\">proveit.logic.boolean.quantification.existential</a></li>\n",
       "</ul>\n",
       "</ul>\n",
       "<li><a class=\"ProveItLink\" href=\"packages/proveit/logic/equality/_context_.ipynb\">proveit.logic.equality</a></li>\n",
       "<li><a class=\"ProveItLink\" href=\"packages/proveit/logic/set_theory/_context_.ipynb\">proveit.logic.set_theory</a></li>\n",
       "<ul>\n",
       "<li><a class=\"ProveItLink\" href=\"packages/proveit/logic/set_theory/membership/_context_.ipynb\">proveit.logic.set_theory.membership</a></li>\n",
       "<li><a class=\"ProveItLink\" href=\"packages/proveit/logic/set_theory/enumeration/_context_.ipynb\">proveit.logic.set_theory.enumeration</a></li>\n",
       "<li><a class=\"ProveItLink\" href=\"packages/proveit/logic/set_theory/containment/_context_.ipynb\">proveit.logic.set_theory.containment</a></li>\n",
       "<li><a class=\"ProveItLink\" href=\"packages/proveit/logic/set_theory/unification/_context_.ipynb\">proveit.logic.set_theory.unification</a></li>\n",
       "<li><a class=\"ProveItLink\" href=\"packages/proveit/logic/set_theory/intersection/_context_.ipynb\">proveit.logic.set_theory.intersection</a></li>\n",
       "<li><a class=\"ProveItLink\" href=\"packages/proveit/logic/set_theory/subtraction/_context_.ipynb\">proveit.logic.set_theory.subtraction</a></li>\n",
       "<li><a class=\"ProveItLink\" href=\"packages/proveit/logic/set_theory/comprehension/_context_.ipynb\">proveit.logic.set_theory.comprehension</a></li>\n",
       "<li><a class=\"ProveItLink\" href=\"packages/proveit/logic/set_theory/disjointness/_context_.ipynb\">proveit.logic.set_theory.disjointness</a></li>\n",
       "<li><a class=\"ProveItLink\" href=\"packages/proveit/logic/set_theory/cardinality/_context_.ipynb\">proveit.logic.set_theory.cardinality</a></li>\n",
       "</ul>\n",
       "</ul>\n",
       "<li><a class=\"ProveItLink\" href=\"packages/proveit/number/_context_.ipynb\">proveit.number</a></li>\n",
       "<ul>\n",
       "<li><a class=\"ProveItLink\" href=\"packages/proveit/number/sets/_context_.ipynb\">proveit.number.sets</a></li>\n",
       "<ul>\n",
       "<li><a class=\"ProveItLink\" href=\"packages/proveit/number/sets/integer/_context_.ipynb\">proveit.number.sets.integer</a></li>\n",
       "<li><a class=\"ProveItLink\" href=\"packages/proveit/number/sets/rational/_context_.ipynb\">proveit.number.sets.rational</a></li>\n",
       "<li><a class=\"ProveItLink\" href=\"packages/proveit/number/sets/real/_context_.ipynb\">proveit.number.sets.real</a></li>\n",
       "<ul>\n",
       "<li><a class=\"ProveItLink\" href=\"packages/proveit/number/sets/real/root2_proof_temporary_context/_context_.ipynb\">proveit.number.sets.real.root2_proof_temporary_context</a></li>\n",
       "</ul>\n",
       "<li><a class=\"ProveItLink\" href=\"packages/proveit/number/sets/complex/_context_.ipynb\">proveit.number.sets.complex</a></li>\n",
       "</ul>\n",
       "<li><a class=\"ProveItLink\" href=\"packages/proveit/number/rounding/_context_.ipynb\">proveit.number.rounding</a></li>\n",
       "<li><a class=\"ProveItLink\" href=\"packages/proveit/number/absolute_value/_context_.ipynb\">proveit.number.absolute_value</a></li>\n",
       "<li><a class=\"ProveItLink\" href=\"packages/proveit/number/numeral/_context_.ipynb\">proveit.number.numeral</a></li>\n",
       "<ul>\n",
       "<li><a class=\"ProveItLink\" href=\"packages/proveit/number/numeral/binary/_context_.ipynb\">proveit.number.numeral.binary</a></li>\n",
       "<li><a class=\"ProveItLink\" href=\"packages/proveit/number/numeral/deci/_context_.ipynb\">proveit.number.numeral.deci</a></li>\n",
       "<li><a class=\"ProveItLink\" href=\"packages/proveit/number/numeral/hexidecimal/_context_.ipynb\">proveit.number.numeral.hexidecimal</a></li>\n",
       "</ul>\n",
       "<li><a class=\"ProveItLink\" href=\"packages/proveit/number/addition/_context_.ipynb\">proveit.number.addition</a></li>\n",
       "<ul>\n",
       "<li><a class=\"ProveItLink\" href=\"packages/proveit/number/addition/subtraction/_context_.ipynb\">proveit.number.addition.subtraction</a></li>\n",
       "</ul>\n",
       "<li><a class=\"ProveItLink\" href=\"packages/proveit/number/negation/_context_.ipynb\">proveit.number.negation</a></li>\n",
       "<li><a class=\"ProveItLink\" href=\"packages/proveit/number/ordering/_context_.ipynb\">proveit.number.ordering</a></li>\n",
       "<li><a class=\"ProveItLink\" href=\"packages/proveit/number/multiplication/_context_.ipynb\">proveit.number.multiplication</a></li>\n",
       "<li><a class=\"ProveItLink\" href=\"packages/proveit/number/division/_context_.ipynb\">proveit.number.division</a></li>\n",
       "<li><a class=\"ProveItLink\" href=\"packages/proveit/number/divisibility/_context_.ipynb\">proveit.number.divisibility</a></li>\n",
       "<li><a class=\"ProveItLink\" href=\"packages/proveit/number/modular/_context_.ipynb\">proveit.number.modular</a></li>\n",
       "<li><a class=\"ProveItLink\" href=\"packages/proveit/number/exponentiation/_context_.ipynb\">proveit.number.exponentiation</a></li>\n",
       "<li><a class=\"ProveItLink\" href=\"packages/proveit/number/summation/_context_.ipynb\">proveit.number.summation</a></li>\n",
       "<li><a class=\"ProveItLink\" href=\"packages/proveit/number/product/_context_.ipynb\">proveit.number.product</a></li>\n",
       "<li><a class=\"ProveItLink\" href=\"packages/proveit/number/differentiation/_context_.ipynb\">proveit.number.differentiation</a></li>\n",
       "<li><a class=\"ProveItLink\" href=\"packages/proveit/number/integration/_context_.ipynb\">proveit.number.integration</a></li>\n",
       "</ul>\n",
       "<li><a class=\"ProveItLink\" href=\"packages/proveit/physics/_context_.ipynb\">proveit.physics</a></li>\n",
       "<ul>\n",
       "<li><a class=\"ProveItLink\" href=\"packages/proveit/physics/quantum/_context_.ipynb\">proveit.physics.quantum</a></li>\n",
       "<ul>\n",
       "<li><a class=\"ProveItLink\" href=\"packages/proveit/physics/quantum/QFT/_context_.ipynb\">proveit.physics.quantum.QFT</a></li>\n",
       "<li><a class=\"ProveItLink\" href=\"packages/proveit/physics/quantum/QPE/_context_.ipynb\">proveit.physics.quantum.QPE</a></li>\n",
       "</ul>\n",
       "</ul>\n",
       "</ul>\n",
       "</ul>\n"
      ],
      "text/plain": [
       "<IPython.core.display.HTML object>"
      ]
     },
     "metadata": {},
     "output_type": "display_data"
    }
   ],
   "source": [
    "import proveit\n",
    "%contents packages/proveit"
   ]
  },
  {
   "cell_type": "code",
   "execution_count": null,
   "metadata": {},
   "outputs": [],
   "source": []
  }
 ],
 "metadata": {
  "kernelspec": {
   "display_name": "Python 3",
   "language": "python",
   "name": "python3"
  }
 },
 "nbformat": 4,
 "nbformat_minor": 0
}
