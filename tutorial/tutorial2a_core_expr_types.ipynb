{
 "cells": [
  {
   "cell_type": "markdown",
   "metadata": {},
   "source": [
    "Chapter 2.a. Core Expression Types\n",
    "=======\n",
    "\n",
    "Expressions in **Prove-It** are fundamental and versatile.  In order to prove some statement to be true, you must be able to express the statement that you want to prove, and express each axiom and each theorem that is used to construct the proof as well as intermediate judgments along the way.  \n",
    "**Expressions** form the basis for **judgments** that are used in the derivation steps of a **proof** and will be discussed later.\n",
    "An expression is a tree-like data structure (technically a directed acyclic graph, DAG, since there may be multiple instances of the same sub-expression).  As a Python object, its base class is `proveit._core_.expression.expr.Expression` (also aliased as `proveit.Expression` via \"`from ... import ...`\" Python statements within `__init__.py` files):"
   ]
  },
  {
   "cell_type": "code",
   "execution_count": 1,
   "metadata": {},
   "outputs": [
    {
     "data": {
      "text/plain": [
       "proveit._core_.expression.expr.Expression"
      ]
     },
     "execution_count": 1,
     "metadata": {},
     "output_type": "execute_result"
    }
   ],
   "source": [
    "from proveit import Expression\n",
    "%begin basic_expressions\n",
    "Expression"
   ]
  },
  {
   "cell_type": "markdown",
   "metadata": {},
   "source": [
    "Each `Expression` object has a class that is derived one of the \"primitive\" `Expression` classes listed below (each of which is derived from `proveit._core_.expression.expr.Expression`).  These \"primitive\" types of expressions, in the order that we discuss them below, are:\n",
    "* <a href=\"#Variable\">`Variable`</a>: A label that is interchangeable (as long as it is kept distinct from different labels) with no intrinsic meaning.  It is often represented by a single letter ($a$, $b$, $x$, $y$, etc.) but can have any representation.\n",
    "* <a href=\"#Literal\">`Literal`</a>: A label that is not interchangeable and has an intrinsic meaning.  Specific operators ($\\lnot, \\land, +, \\times$, etc.) and specific irreducible values ($\\top, \\bot, 0, 5$, etc.) are all `Literal`s.  Furthermore, a problem-story `Variable` in a particular theory package, representing some unknown but particular value, should also be a `Literal` (e.g., \"Ann has $a$ apples...\").\n",
    "* <a href=\"#ExprTuple\">`ExprTuple`</a>: A list of `Expression`s that is used, for example, when there are multiple *operators* or *operands* of an `Operation`, or multiple *parameters* of a `Lambda`.\n",
    "* <a href=\"#Operation\">`Operation`</a>: The application of *operator(s)* on *operand(s)*.  For example, $0 + 5 + 8$ and $1 < a \\leq b < 3$ are examples of *operation* expressions.  The **Prove-It** library defines many *types* derived from the *operation* type (e.g., for each specific operation), but all *operations* have the same behavior with respect to reduction rules that will be described in a later tutorial.\n",
    "* <a href=\"#Conditional\">`Conditional`</a>: An expression that has one *condition* and one *value*.  The **Conditional** is reducible to its *value* if and only if the *value* is true.  For example $\\{P(x) \\textrm{ if } Q(x).$ reduces to $P(x)$ if $Q(x)$ is true.  Otherwise, the **Conditional** is not defined (i.e., it is not reducible).\n",
    "* <a href=\"#Lambda\">`Lambda`</a>: A mapping defined by *parameter* `Variable`s (and/or *iterations* of *indexed variables* described below with the `Iter` and `IndexedVar` core classes) transforming to some *body* `Expression`.  For example, $(x, y, z) \\mapsto \\{x+y/z~|~(x \\in \\mathbb{R}) \\land (y \\in \\mathbb{R}) \\land (z \\in \\mathbb{R}) \\land (z \\neq 0)\\}$ is a `Lambda` with a `Conditional` *body* that converts three real numbers $x, y, z$ to $x + y/z$ as long as $z$ is not zero.  Note that a `Lambda` introduces `Variables` into a new scope via the *parameters*.  These *parameter* `Variable`s are said to be *bound* in this new scope; occurrences outside this scope are not deemed to be the same thing. There is a special category of `Operation` types called `OperationOverInstances` that are essentially functionals acting on a `Lambda` operand.  $\\forall$, $\\exists$, $\\sum$, and $\\prod$ are examples of `OperationOverInstances`.  For example, $\\forall_{x~|~Q(x)} P(x)$ is an expression that translates to \"$P(x)$ is true for all values of $x$ for which $Q(x)$ is also true\".  Internally, this is represented as an $\\forall$ operator acting on the `Lambda` map with a `Conditional` *body*: $x \\mapsto \\{P(x)~|~Q(x)\\}$.\n",
    "* <a href=\"#NamedExprs\">`NamedExprs`</a>: A mapping from keyword strings to `Expression`s.  This can be used to prevent ambiguity of an expression's internal representation.\n",
    "* <a href=\"#ExprRange\">`ExprRange`</a>: Represents a range of expressions with a *parameter* going from a *start* index to an *end* index in successive unit increments ($+1$).  It contains a `Lambda` to define each expression in the range as a function of the *parameter* value (the index).\n",
    "For example, $1/(x+i) + ... + 1/(x+j)$ is essentially an `Operation` with `+` as the *operator* and an `ExprRange` as the *operand*.  This `ExprRange` in this case is $1/(x+i), ..., 1/(x+j)$.  The sub-expression of this `ExprRange` may be denoted as $k \\mapsto \\{1/(x+k)~|~k \\in i .. j\\}$ where $k$ is an arbitrary `Lambda` *parameter* and $i .. j$ denotes an integer interval. \n",
    "* <a href=\"#IndexedVar\">`IndexedVar`</a>: A special kind of `Operation` that indexes a `Variable`.  It treats the `Variable` being indexed as the *operator* and the *index* as the *operand*.  For example: $a_1$, $x_i$, $x_{i+1}$, etc.  An *iteration* if *indexed* *variables* acts as a collection of labels, however.  For example: $a_1, ..., a_n$ is a collection of $n$ labels and can be used as *parameters* of a `Lambda` map and has special substitution rules in which an `Iter` may be expanded to multiple entries within an `ExprTuple`.\n",
    "\n",
    "These \"primitive\" types are special for the following reason.  In order to automatically or manually verify the correctness of a proof in **Prove-It**, one is only required to know the primitive base class of the expressions in the expression DAGs involved in the proof.  The way that the expression is to be formatted may be defined by the derived class, but this is a dressing which is not actually verified by **Prove-It** in any way.  For this reason, in order to really understand the axioms that were used in a proof, or understand what was actually proven, one must view the full expression DAG and understand its structure with respect to the primitive types."
   ]
  },
  {
   "cell_type": "markdown",
   "metadata": {},
   "source": [
    "Other classes are derived from these primitives for the purpose of defining specific ways of formatting the expression (as a string or as $\\LaTeX$) and to provide methods for convenience and automation for manipulating expressions of that specific type.  The most common \"primitive\" type used as a base class is the `Operation`; there are a wide variety of kinds of operations (logical operations such as $\\land$, $\\lor$, $\\lnot$, etc.; the $\\forall$ and $\\exists$ quantifiers, number operations such as $+$, $-$, etc.).  Each one of these has its own methods that are convenient for applying axioms and theorems specific to the operation."
   ]
  },
  {
   "cell_type": "markdown",
   "metadata": {},
   "source": [
    "A few non-privitive expression casses are define in the core (`proveit._core_`) for organizational purposes.  These are:\n",
    "* <a href=\"#Function\">`Function`</a>: An `Operation` that uses function-style formatting by default.  For example, $f(x)$, $P(x, y)$, etc.  Beyond formatting, these are no different than `Operation` types.\n",
    "* <a href=\"#OperationOverInstances\">`OperationOverInstances`</a>: An `Operation` whose operand is a `Lambda` expression.  Often, these `Lambda` expression has a `Conditional` body.  The idea is that it operates over the domain of instances of the `Lambda` parameter variables for the the *condition* of the `Conditional` is satisfied.  Quantifiers are `OperationOverInstances`.  $\\forall_{x, y~|~Q(x, y)} P(x, y)$ is internally represented by Prove-It as an operation of the $\\forall$ operator acting on $(x, y) \\mapsto \\left\\{P(x, y) \\textrm{ if } Q(x, y)\\right.$.  $\\sum_{k = 1}^{N} f(x)$ is internally represented by Prove-It as an operation of the $\\sum$ operator acting on $k \\mapsto \\left\\{f(x) \\textrm{ if } k \\in 1 .. N\\right.$.\n",
    "* <a href=\"#ConditionalSet\">`ConditionalSet`</a>: An expression that has one or more *conditions* with associated *values*.  For example, consider this definition for the absolute value of an integer: $\\{x~\\textrm{ if }~x \\geq 0; -x~\\textrm{ if }~x < 0.$ A *value* is only pertinent if its associated *condition* is satisfied (a **judgment**).  Via axioms, a `Conditional` equates to one of its *values* if its associated *condition* is proven the be true and all of its other *conditions* are proven to false.  With respect to substitution rules, the substitution of a *value* may utilize the fact that its *condition* must be satisfied in order to be pertinent, and therefore its *condition* may be assumed within the theory of performing substution for the *value*."
   ]
  },
  {
   "cell_type": "markdown",
   "metadata": {},
   "source": [
    "Developers and users may derive new classes from core `Expression` classes (`Literal` and `Operation` classes in order to make their own `Expression` classes that have special formatting rules for displaying the **expression** and methods for manipulating and utilizing the expression (i.e., applying theorems or axioms as will be discussed in later tutorial chapters).  Ideally, the formatting should be in direct correspondence with the structure of the `Expression` as a true reflection of the internal representation, but there is no enforcement mechanism to ensure that this is the case.  Users are advised to inspect the fully explicit expression DAGs of important axioms and theorems (or rely on crowdsource checking).  Conveniently, clicking on any **expression** rendered as LaTeX will link to a notebook that, when executed, will reveal this internal structure.  (Alternatively, the `expr_info()` method may be called).\n",
    "\n",
    "The remainder of this tutorial chapter will show examples and discuss details of the different core `Expression` classes and discuss their distinct behaviors with respect to *substitution* as well as *meaning* versus *style* equivalence.\n",
    "\n",
    "The following are related but distinct manipulations in **Prove-It**:\n",
    "* *Expression substutition*: creating a new **expression** from an existing **expression** by swapping one or more sub-expression(s) for other sub-expression(s) by using the `substituted` method.  This creates a new `Expression` but has nothing to do, intrinsically, with proving statements.\n",
    "* *Instantiation* derivation step: deriving a new **judgment** from an existing **judgment** via *expression substitution* using specific rules and limitations to ensure that the derivation is sound.  This will be discussed in a later tutorial chapter.\n",
    "* *Equality substitution*: using the `substitution` axiom of `proveit.logic.equality` to prove that $f(x) = f(y)$ given $x = y$.  This uses *instantiation* of the `substitution` axiom which states $\\forall_{f, x, y~|~x=y}~(f(x) = f(y))$.  This specifically involves statements (**judgments**) with the `proveit.logic.equality.equals._operator_` **Literal** (the `=` sign). This will be discussed in a later tutorial chapter.\n",
    "\n",
    "The focus here will be *expression substitution* with some mention of the additional restrictions applicable to the *instantiation* derivation step before delving into more details in later chapters.  It is important to understand the distinctions among these types of manipulations."
   ]
  },
  {
   "cell_type": "markdown",
   "metadata": {},
   "source": [
    "<a name=\"#Label\"></a>Labels (Variables, IndexedVars, and Literals)\n",
    "================================"
   ]
  },
  {
   "cell_type": "code",
   "execution_count": 2,
   "metadata": {},
   "outputs": [],
   "source": [
    "from proveit import Label"
   ]
  },
  {
   "cell_type": "markdown",
   "metadata": {},
   "source": [
    "The `Variable` and `Literal` classes both derive from `Label`.  A `Label` is created with a string and a LaTeX format specification to determine how it is displayed.  In a Jupyter notebook, the LaTeX is rendered and presented in the output:"
   ]
  },
  {
   "cell_type": "code",
   "execution_count": 3,
   "metadata": {},
   "outputs": [
    {
     "data": {
      "text/html": [
       "<strong id=\"tri\">tri:</strong> <a class=\"ProveItLink\" href=\"__pv_it/basic_expressions/72d62212a865a9123fa221651c0871e5c085dee10/expr.ipynb\"><img src=\"data:image/png;base64,iVBORw0KGgoAAAANSUhEUgAAABEAAAAPBAMAAADwnzkiAAAAMFBMVEX///8QEBBUVFSIiIiqqqqY\n",
       "mJju7u4yMjJmZma6urrc3NwiIiJERER2dnbMzMwAAADudTP5AAAAAXRSTlMAQObYZgAAAF9JREFU\n",
       "CNdjYGBg4LvAAAU8u2CsGW9grDKeBxAG6wWuAgiLO4GhBcIyZmDIBjPYNjAw8AaAWLwOQGIDiJUO\n",
       "VcHA0AnVxcB1AMRiaQBaBTG1ioHhEcSoSQwMirvBYH8CAL5LFM8KXA5bAAAAAElFTkSuQmCC\n",
       "\" style=\"display:inline;vertical-align:middle;\" /></a><br>"
      ],
      "text/plain": [
       "tri: triangle"
      ]
     },
     "execution_count": 3,
     "metadata": {},
     "output_type": "execute_result"
    }
   ],
   "source": [
    "tri = Label(string_format='triangle', latex_format=r'\\triangle')"
   ]
  },
  {
   "cell_type": "markdown",
   "metadata": {},
   "source": [
    "After importing anything from `proveit` in a Jupyter notebook, whenever assignments are made at the end of an input cell the output shows the name of the assigned Python variable (not to be confused with a **Prove-It** *Variable*) followed by ':' and its rendered value.  In the above input, we have assigned `tri` to a `Label` object we have created which renders as a triangle shape.  For convenience, this Python variable name and shape appear in the output without any additional code.  The string format is presented when the object is converted to a string and is a useful alternate representation (used, for example, in error messages that are displayed as strings)."
   ]
  },
  {
   "cell_type": "code",
   "execution_count": 4,
   "metadata": {},
   "outputs": [
    {
     "data": {
      "text/plain": [
       "'triangle'"
      ]
     },
     "execution_count": 4,
     "metadata": {},
     "output_type": "execute_result"
    }
   ],
   "source": [
    "str(tri)"
   ]
  },
  {
   "cell_type": "markdown",
   "metadata": {},
   "source": [
    "The breakdown of an **expression** into its DAG structure is displayed by calling `expr_info()`.  Clicking on the **expression** is also a way to view this information, linking to a page that shows a canonical way to build the **expression** and calling `expr_info()` on that built **expression**.  Here we see that the `tri` is a `Label` with no sub-expressions."
   ]
  },
  {
   "cell_type": "code",
   "execution_count": 5,
   "metadata": {},
   "outputs": [
    {
     "data": {
      "text/html": [
       "<table><tr><th>&nbsp;</th><th>core type</th><th>sub-expressions</th><th>expression</th></tr>\n",
       "<tr><td>0</td><td>Label</td><td></td><td><a class=\"ProveItLink\" href=\"__pv_it/basic_expressions/72d62212a865a9123fa221651c0871e5c085dee10/expr.ipynb\"><img src=\"data:image/png;base64,iVBORw0KGgoAAAANSUhEUgAAABEAAAAPBAMAAADwnzkiAAAAMFBMVEX///8QEBBUVFSIiIiqqqqY\n",
       "mJju7u4yMjJmZma6urrc3NwiIiJERER2dnbMzMwAAADudTP5AAAAAXRSTlMAQObYZgAAAF9JREFU\n",
       "CNdjYGBg4LvAAAU8u2CsGW9grDKeBxAG6wWuAgiLO4GhBcIyZmDIBjPYNjAw8AaAWLwOQGIDiJUO\n",
       "VcHA0AnVxcB1AMRiaQBaBTG1ioHhEcSoSQwMirvBYH8CAL5LFM8KXA5bAAAAAElFTkSuQmCC\n",
       "\" style=\"display:inline;vertical-align:middle;\" /></a></td></tr>\n",
       "</table>\n"
      ],
      "text/plain": [
       "0. triangle\n",
       "   core type: Label\n",
       "   sub-expressions: "
      ]
     },
     "execution_count": 5,
     "metadata": {},
     "output_type": "execute_result"
    }
   ],
   "source": [
    "tri.expr_info() # the expressions and sub-expressions are numbered with the top level being zero."
   ]
  },
  {
   "cell_type": "markdown",
   "metadata": {},
   "source": [
    "`Label` was not one of the core **expression** types listed above because it is not intended to be used except as the base class of `Variable`, `IndexedVar`, and `Literal`.  Notwithstanding, `Label` is displayed as the core type.\n",
    "Two Label's are regarded to be the same expression if and only if the class and both formats (string and LaTeX), are the same:"
   ]
  },
  {
   "cell_type": "code",
   "execution_count": 6,
   "metadata": {},
   "outputs": [],
   "source": [
    "assert tri == Label('triangle', r'\\triangle') # equal b/c class (Label) is the same and\n",
    "                                              # the string and LaTex formats are the same\n",
    "    \n",
    "assert tri != Label('tri', r'\\triangle')      # not equal when class or either format is different\n",
    "                                              # Class for both is Label, but string format different"
   ]
  },
  {
   "cell_type": "markdown",
   "metadata": {},
   "source": [
    "Let's make another label to test out `substituted()` method."
   ]
  },
  {
   "cell_type": "code",
   "execution_count": 7,
   "metadata": {},
   "outputs": [
    {
     "data": {
      "text/html": [
       "<strong id=\"sq\">sq:</strong> <a class=\"ProveItLink\" href=\"__pv_it/basic_expressions/a4f9e4d1a42a62a0a494451bc2609cb02db245b80/expr.ipynb\"><img src=\"data:image/png;base64,iVBORw0KGgoAAAANSUhEUgAAAA4AAAAPAgMAAACpehbnAAAADFBMVEX///8iIiIyMjIAAAB/i5ic\n",
       "AAAAAXRSTlMAQObYZgAAABtJREFUCNdjYACBVatWTWBwYGAQIJeYGhoaAAA33wfezjBsdgAAAABJ\n",
       "RU5ErkJggg==\n",
       "\" style=\"display:inline;vertical-align:middle;\" /></a><br>"
      ],
      "text/plain": [
       "sq: square"
      ]
     },
     "execution_count": 7,
     "metadata": {},
     "output_type": "execute_result"
    }
   ],
   "source": [
    "sq =  Label(string_format='square', latex_format=r'\\Box')"
   ]
  },
  {
   "cell_type": "markdown",
   "metadata": {},
   "source": [
    "Using *expression substitution*, we can change one `Label` into another or into any other `Expression`.  Later we'll see that *instantiation* is more restrictive, only being applicable to `Variable`s and not any `Label`, but for *expression substitution* this is fine."
   ]
  },
  {
   "cell_type": "code",
   "execution_count": 8,
   "metadata": {},
   "outputs": [
    {
     "data": {
      "text/html": [
       "<a class=\"ProveItLink\" href=\"__pv_it/basic_expressions/a4f9e4d1a42a62a0a494451bc2609cb02db245b80/expr.ipynb\"><img src=\"data:image/png;base64,iVBORw0KGgoAAAANSUhEUgAAAA4AAAAPAgMAAACpehbnAAAADFBMVEX///8iIiIyMjIAAAB/i5ic\n",
       "AAAAAXRSTlMAQObYZgAAABtJREFUCNdjYACBVatWTWBwYGAQIJeYGhoaAAA33wfezjBsdgAAAABJ\n",
       "RU5ErkJggg==\n",
       "\" style=\"display:inline;vertical-align:middle;\" /></a>"
      ],
      "text/plain": [
       "square"
      ]
     },
     "execution_count": 8,
     "metadata": {},
     "output_type": "execute_result"
    }
   ],
   "source": [
    "tri.replaced({tri:sq})"
   ]
  },
  {
   "cell_type": "markdown",
   "metadata": {},
   "source": [
    "Notice that the `replaced()` method is non-mutating, leaving the tri `Label` as it was originally defined:"
   ]
  },
  {
   "cell_type": "code",
   "execution_count": 9,
   "metadata": {},
   "outputs": [
    {
     "data": {
      "text/html": [
       "<a class=\"ProveItLink\" href=\"__pv_it/basic_expressions/72d62212a865a9123fa221651c0871e5c085dee10/expr.ipynb\"><img src=\"data:image/png;base64,iVBORw0KGgoAAAANSUhEUgAAABEAAAAPBAMAAADwnzkiAAAAMFBMVEX///8QEBBUVFSIiIiqqqqY\n",
       "mJju7u4yMjJmZma6urrc3NwiIiJERER2dnbMzMwAAADudTP5AAAAAXRSTlMAQObYZgAAAF9JREFU\n",
       "CNdjYGBg4LvAAAU8u2CsGW9grDKeBxAG6wWuAgiLO4GhBcIyZmDIBjPYNjAw8AaAWLwOQGIDiJUO\n",
       "VcHA0AnVxcB1AMRiaQBaBTG1ioHhEcSoSQwMirvBYH8CAL5LFM8KXA5bAAAAAElFTkSuQmCC\n",
       "\" style=\"display:inline;vertical-align:middle;\" /></a>"
      ],
      "text/plain": [
       "triangle"
      ]
     },
     "execution_count": 9,
     "metadata": {},
     "output_type": "execute_result"
    }
   ],
   "source": [
    "tri"
   ]
  },
  {
   "cell_type": "markdown",
   "metadata": {},
   "source": [
    "<a href=\"#Variable\"></a>Variable\n",
    "===========\n",
    "A `Variable` is an interchangeable <a href=\"#Label\">Label</a> with no formal, contextual meaning."
   ]
  },
  {
   "cell_type": "code",
   "execution_count": 10,
   "metadata": {},
   "outputs": [
    {
     "data": {
      "text/html": [
       "<strong id=\"x\">x:</strong> <a class=\"ProveItLink\" href=\"__pv_it/basic_expressions/a2581dc5df71d9a30bad37de14965fa5fec97a240/expr.ipynb\"><img src=\"data:image/png;base64,iVBORw0KGgoAAAANSUhEUgAAAAsAAAAJBAMAAAAWSsseAAAALVBMVEX///9mZmaqqqrMzMxEREQy\n",
       "MjIiIiKYmJh2dna6urrc3NxUVFSIiIju7u4AAACJHQtQAAAAAXRSTlMAQObYZgAAAEJJREFUCNdj\n",
       "YLhzeuWJAwy8Dew5bAEMHBc43nIuYOBlYHFgAAG+A2DKzgBIMF04x8BzgWGegh/DcgaG22fuiBcw\n",
       "AAATyhBrnyPYZQAAAABJRU5ErkJggg==\n",
       "\" style=\"display:inline;vertical-align:middle;\" /></a><br>"
      ],
      "text/plain": [
       "x: x"
      ]
     },
     "execution_count": 10,
     "metadata": {},
     "output_type": "execute_result"
    }
   ],
   "source": [
    "from proveit import Variable\n",
    "x = Variable('x')  # the string and latex formats\n",
    "                   # are the same by default"
   ]
  },
  {
   "cell_type": "code",
   "execution_count": 11,
   "metadata": {},
   "outputs": [
    {
     "data": {
      "text/html": [
       "<strong id=\"omega\">omega:</strong> <a class=\"ProveItLink\" href=\"__pv_it/basic_expressions/78a68196d231f7f9081c22150ae1da14f50cc59b0/expr.ipynb\"><img src=\"data:image/png;base64,iVBORw0KGgoAAAANSUhEUgAAAA0AAAAJBAMAAAAbVLtZAAAAMFBMVEX///8QEBBERETMzMwyMjKq\n",
       "qqp2dnZmZmaIiIju7u6YmJi6uroiIiLc3NxUVFQAAABheaknAAAAAXRSTlMAQObYZgAAAE5JREFU\n",
       "CNcNxbENQEAAAMBLJIheojcIC0isoNL+CG8FCzCC3hIqlcIQEi3XHDeuTbH9L1H2J+3ttIpDlAQp\n",
       "Qd47qTVBxzCW77AyP8dU8QENTA/yxpazbgAAAABJRU5ErkJggg==\n",
       "\" style=\"display:inline;vertical-align:middle;\" /></a><br>"
      ],
      "text/plain": [
       "omega: omega"
      ]
     },
     "execution_count": 11,
     "metadata": {},
     "output_type": "execute_result"
    }
   ],
   "source": [
    "# different string and latex formats:\n",
    "omega = Variable(string_format='omega', latex_format=r'\\omega') "
   ]
  },
  {
   "cell_type": "markdown",
   "metadata": {},
   "source": [
    "Convenient `Variable`s and other `Expression`s are accessible from the main `proveit` theory package\n",
    "as defined in <a class=\"ProveItLink\" href=\"../packages/proveit/_theory_nbs_/common.ipynb\">proveit.\\_theory\\_nbs\\_/common.ipynb</a>."
   ]
  },
  {
   "cell_type": "code",
   "execution_count": 12,
   "metadata": {},
   "outputs": [],
   "source": [
    "from proveit import a, b, c, x, y, z, alpha"
   ]
  },
  {
   "cell_type": "code",
   "execution_count": 13,
   "metadata": {},
   "outputs": [
    {
     "data": {
      "text/html": [
       "<a class=\"ProveItLink\" href=\"__pv_it/basic_expressions/f800651475c0b7c632e6e0cfd59b0b8be8f393430/expr.ipynb\"><img src=\"data:image/png;base64,iVBORw0KGgoAAAANSUhEUgAAAI8AAAAUBAMAAABG7HMgAAAAMFBMVEX///9UVFTMzMx2dna6uroQ\n",
       "EBCqqqqIiIgiIiJmZmYyMjJERETu7u6YmJjc3NwAAAC+aOQFAAAAAXRSTlMAQObYZgAAAixJREFU\n",
       "OMutlM9rE1EQx7/Jppvd7G6Sk4IH6T8gBKRUoSHrQfRkevDmD3IVgi5FWCIFI2IRUYgVLPbSCJ6l\n",
       "Hjz4kxURhR52L1IvlXhQCl6CioVSwdk3b7Mv7W11DzuffOfN7JvJewOUI/zzczF+rSmC/bSbKVFu\n",
       "QK/HqlLqZUpk9wFnLLTSylbbNGAMVKEZZEv0DtgcE45k7HbJRYdM+d7SWRYe+velS/PnuHz/4Ilp\n",
       "po6Hr7zjwg33UFJUx41X9/CKzPFBachrt4OQSy0v4LmAt/jk3eLUhVlc5ei19QerTJuufd5uwelj\n",
       "gcLPwWRd30HFE2TUsE/ADBrBKUHfzD5ecHiA73JD14FnxQB6F6cBcwcGh9PSsCZoJel6kAQjmPCw\n",
       "JTn/ki2FYlmj38M40cQqwsnkGDX5AJxJG7mV/qX5HxKPSUuhmJoRiag02sQleYwiuRX75yjPKBjL\n",
       "KM4y6VUpxftv0KcL3bjZYQsHdNHjikv9Es8fWi2gXRxinrUnsGSCC0A1+TKmyFKzjwKW51zTENIx\n",
       "z0VWTwDuwl60t+lTv60hXWupNZnyd+pXXEFmFU4jT7aGk1TH/rkvl2HcJlqqQwC0+jpwMyDffGdD\n",
       "am/8lYEgEx8fSe3wRmTSMStNKlekvQf09MK0ZZcUr0L4oF7a2h7Q0pWk5fr2L9WrUHxp8ToZBd5u\n",
       "wPt0TpBmRJanelMSY2Q02BzsBqSzM9YK/uKYNyVYcX/+x6j9DPwF13CRw/eMfFsAAAAASUVORK5C\n",
       "YII=\n",
       "\" style=\"display:inline;vertical-align:middle;\" /></a>"
      ],
      "text/plain": [
       "(a, b, c, x, y, z, alpha)"
      ]
     },
     "execution_count": 13,
     "metadata": {},
     "output_type": "execute_result"
    }
   ],
   "source": [
    "from proveit import ExprTuple\n",
    "ExprTuple(a, b, c, x, y, z, alpha)"
   ]
  },
  {
   "cell_type": "markdown",
   "metadata": {},
   "source": [
    "We used an <a href=\"#ExprTuple\">ExprTuple</a> to conveniently render all of those `Variable`s as a single `Expression`.\n",
    "\n",
    "Expression information for a `Variable` is similar to that for a `Label`, but with the different core type and class:"
   ]
  },
  {
   "cell_type": "code",
   "execution_count": 14,
   "metadata": {},
   "outputs": [
    {
     "data": {
      "text/html": [
       "<table><tr><th>&nbsp;</th><th>core type</th><th>sub-expressions</th><th>expression</th></tr>\n",
       "<tr><td>0</td><td>Variable</td><td></td><td><a class=\"ProveItLink\" href=\"../packages/proveit/__pv_it/common/c8547a5614922d83165874ce64514ce6b5c27ebf0/expr.ipynb\"><img src=\"data:image/png;base64,iVBORw0KGgoAAAANSUhEUgAAAA0AAAAJBAMAAAAbVLtZAAAAMFBMVEX////MzMxUVFSYmJgyMjJE\n",
       "RESqqqoQEBDu7u4iIiLc3Ny6urpmZmaIiIh2dnYAAADsbLlPAAAAAXRSTlMAQObYZgAAAEtJREFU\n",
       "CNdjYGB4e2cDAxCs3MBRxZHAwDCPgSGGt4GB5wcDwxE+Bgb2AAaG5y8YGPofMDC8B0rzGwD5QOU8\n",
       "CgzM7xmBjHfGBjxvGQCYMxGNK+jLuAAAAABJRU5ErkJggg==\n",
       "\" style=\"display:inline;vertical-align:middle;\" /></a></td></tr>\n",
       "</table>\n"
      ],
      "text/plain": [
       "0. alpha\n",
       "   core type: Variable\n",
       "   sub-expressions: "
      ]
     },
     "execution_count": 14,
     "metadata": {},
     "output_type": "execute_result"
    }
   ],
   "source": [
    "alpha.expr_info()"
   ]
  },
  {
   "cell_type": "markdown",
   "metadata": {},
   "source": [
    "Just as we saw for the generic `Label` `Expression`s, we can use *expression substitution* to exchange one `Variable` for another or for any other `Expression`.  Furthermore, we will see in a later tutorial chapter that `Variable`s have special properties with respect to *instantiation* because they are defined as interchangeable labels."
   ]
  },
  {
   "cell_type": "code",
   "execution_count": 15,
   "metadata": {},
   "outputs": [
    {
     "data": {
      "text/html": [
       "<a class=\"ProveItLink\" href=\"__pv_it/basic_expressions/a4f9e4d1a42a62a0a494451bc2609cb02db245b80/expr.ipynb\"><img src=\"data:image/png;base64,iVBORw0KGgoAAAANSUhEUgAAAA4AAAAPAgMAAACpehbnAAAADFBMVEX///8iIiIyMjIAAAB/i5ic\n",
       "AAAAAXRSTlMAQObYZgAAABtJREFUCNdjYACBVatWTWBwYGAQIJeYGhoaAAA33wfezjBsdgAAAABJ\n",
       "RU5ErkJggg==\n",
       "\" style=\"display:inline;vertical-align:middle;\" /></a>"
      ],
      "text/plain": [
       "square"
      ]
     },
     "execution_count": 15,
     "metadata": {},
     "output_type": "execute_result"
    }
   ],
   "source": [
    "alpha.replaced({alpha:sq}) # we can substitute a Variable for any other Expression"
   ]
  },
  {
   "cell_type": "markdown",
   "metadata": {},
   "source": [
    "<a name=\"#Literal\"></a>Literal\n",
    "-------\n",
    "\n",
    "A `Literal` is another kind of <a href=\"#Label\">Label</a>.  In contrast to `Variable`s, `Literal`s have a formal, contextual meaning."
   ]
  },
  {
   "cell_type": "code",
   "execution_count": 16,
   "metadata": {},
   "outputs": [],
   "source": [
    "from proveit import Literal"
   ]
  },
  {
   "cell_type": "markdown",
   "metadata": {},
   "source": [
    "Below are different scenarios in which a `Literal` could appropriately be used."
   ]
  },
  {
   "cell_type": "markdown",
   "metadata": {},
   "source": [
    "### Specific operators"
   ]
  },
  {
   "cell_type": "code",
   "execution_count": 17,
   "metadata": {},
   "outputs": [
    {
     "name": "stdout",
     "output_type": "stream",
     "text": [
      "Expression notebook is being updated for *\n"
     ]
    },
    {
     "data": {
      "text/html": [
       "<strong id=\"TIMES\">TIMES:</strong> <a class=\"ProveItLink\" href=\"__pv_it/basic_expressions/91fc98f4a17b1dfe3b62bc90c83d05c36a4fd46b0/expr.ipynb\"><img src=\"data:image/png;base64,iVBORw0KGgoAAAANSUhEUgAAAAsAAAAKBAMAAACQ3rmwAAAAFVBMVEX///8iIiIyMjLc3NzMzMxE\n",
       "REQAAAAK/UhIAAAAAXRSTlMAQObYZgAAACtJREFUCNdjCGFgYDBiYDB0YGAWYQBhIAvIdQZygFxB\n",
       "ByQKIghVAtUA0Q4ArewE5fVTM0UAAAAASUVORK5CYII=\n",
       "\" style=\"display:inline;vertical-align:middle;\" /></a><br>"
      ],
      "text/plain": [
       "TIMES: *"
      ]
     },
     "execution_count": 17,
     "metadata": {},
     "output_type": "execute_result"
    }
   ],
   "source": [
    "TIMES = Literal(string_format='*', latex_format=r'\\times')"
   ]
  },
  {
   "cell_type": "code",
   "execution_count": 18,
   "metadata": {},
   "outputs": [
    {
     "name": "stdout",
     "output_type": "stream",
     "text": [
      "Expression notebook is being updated for !\n"
     ]
    },
    {
     "data": {
      "text/html": [
       "<strong id=\"FACTORIAL\">FACTORIAL:</strong> <a class=\"ProveItLink\" href=\"__pv_it/basic_expressions/8728c1bffccb7db650045028f6b5e694aec8423e0/expr.ipynb\"><img src=\"data:image/png;base64,iVBORw0KGgoAAAANSUhEUgAAAAMAAAAOBAMAAAAYmLtSAAAALVBMVEX////MzMy6urp2dnaYmJiI\n",
       "iIhERERmZmYyMjLu7u4QEBDc3NxUVFQiIiIAAADD04JwAAAAAXRSTlMAQObYZgAAADBJREFUCNdj\n",
       "4D3AsG8Bw7wLDHwNDFwHGDgKGNgCGNgdGJgVGFgEGDgZQGBWAwPvAQDOHwguCCEr4AAAAABJRU5E\n",
       "rkJggg==\n",
       "\" style=\"display:inline;vertical-align:middle;\" /></a><br>"
      ],
      "text/plain": [
       "FACTORIAL: !"
      ]
     },
     "execution_count": 18,
     "metadata": {},
     "output_type": "execute_result"
    }
   ],
   "source": [
    "FACTORIAL = Literal('!')"
   ]
  },
  {
   "cell_type": "code",
   "execution_count": 19,
   "metadata": {},
   "outputs": [
    {
     "data": {
      "text/html": [
       "<strong id=\"SUMMATION\">SUMMATION:</strong> <a class=\"ProveItLink\" href=\"__pv_it/basic_expressions/37618d95827da3942e3fce57d21d368450c5aa240/expr.ipynb\"><img src=\"data:image/png;base64,iVBORw0KGgoAAAANSUhEUgAAABwAAAAeBAMAAADN62OsAAAAMFBMVEX///92dnZEREQiIiJmZmYQ\n",
       "EBBUVFSYmJi6urrc3Nzu7u7MzMyqqqqIiIgyMjIAAADA9PNAAAAAAXRSTlMAQObYZgAAALJJREFU\n",
       "GNNjeP8fAf4yMJz/v4EBBLhmlMV/ZWBg+W/AAAXs9gcYGOy/wbgMLA8YGPb/L4DzvYFK/v+Ec9mB\n",
       "WP8zAzJY+t8Bmcvx/w+KtPzXBchcvv8PkLlc8R9RVJ//34DMZfkfhSJtj6p6vgEKt3QCikN+o0ju\n",
       "P4BibyyKJB+KFxiUUHiMVnAmD6otNSi2cAQAXQS3hcvfgYErEMabkw+MAb5/78DAFBgpwDD0R40j\n",
       "VAAA6JxN3x9W1DMAAAAASUVORK5CYII=\n",
       "\" style=\"display:inline;vertical-align:middle;\" /></a><br>"
      ],
      "text/plain": [
       "SUMMATION: sum"
      ]
     },
     "execution_count": 19,
     "metadata": {},
     "output_type": "execute_result"
    }
   ],
   "source": [
    "SUMMATION = Literal('sum', r'\\sum')"
   ]
  },
  {
   "cell_type": "markdown",
   "metadata": {},
   "source": [
    "We will see in the <a href=\"#Operation\">Operation</a> section that the *operator* of an `Operation`-derived class should be stored as a Python class variable called `_operator_`.  We are using module-level Python variable names just for these examples."
   ]
  },
  {
   "cell_type": "markdown",
   "metadata": {},
   "source": [
    "### Constant values"
   ]
  },
  {
   "cell_type": "code",
   "execution_count": 20,
   "metadata": {},
   "outputs": [
    {
     "data": {
      "text/html": [
       "<strong id=\"FIVE\">FIVE:</strong> <a class=\"ProveItLink\" href=\"__pv_it/basic_expressions/81c2aa9122f16828c2971b1716ed07078c5dd6000/expr.ipynb\"><img src=\"data:image/png;base64,iVBORw0KGgoAAAANSUhEUgAAAAkAAAAOBAMAAAAPuiubAAAAMFBMVEX///8iIiK6urpERETc3NyI\n",
       "iIhUVFR2dnYQEBCqqqpmZmbMzMzu7u6YmJgyMjIAAABZcJOfAAAAAXRSTlMAQObYZgAAAE1JREFU\n",
       "CNdj4LvDvZKBgeP//wIGBr6yEAYGBjYGBgR5N2oDAwPzAZZPYK4hmFzvwJDHwFCvwNAHZB9gWMDA\n",
       "IMfA4MXA28LAwLI86wADAK3wEDcX5lPUAAAAAElFTkSuQmCC\n",
       "\" style=\"display:inline;vertical-align:middle;\" /></a><br>"
      ],
      "text/plain": [
       "FIVE: 5"
      ]
     },
     "execution_count": 20,
     "metadata": {},
     "output_type": "execute_result"
    }
   ],
   "source": [
    "FIVE = Literal('5') # Literal constants are also ALL-CAPS"
   ]
  },
  {
   "cell_type": "code",
   "execution_count": 21,
   "metadata": {},
   "outputs": [
    {
     "data": {
      "text/html": [
       "<strong id=\"TRUE\">TRUE:</strong> <a class=\"ProveItLink\" href=\"__pv_it/basic_expressions/a0f4f718ac9308ba0612bb7838a164cad44a7b5a0/expr.ipynb\"><img src=\"data:image/png;base64,iVBORw0KGgoAAAANSUhEUgAAAA4AAAAOBAMAAADtZjDiAAAAG1BMVEX///+YmJi6urqIiIiqqqpU\n",
       "VFQiIiJmZmYAAAD2GhH1AAAAAXRSTlMAQObYZgAAABhJREFUCNdjKEsDgVQGIHBmgABa0YpADADk\n",
       "ogYfXGfJdgAAAABJRU5ErkJggg==\n",
       "\" style=\"display:inline;vertical-align:middle;\" /></a><br>"
      ],
      "text/plain": [
       "TRUE: true"
      ]
     },
     "execution_count": 21,
     "metadata": {},
     "output_type": "execute_result"
    }
   ],
   "source": [
    "TRUE = Literal('true', r'\\top')"
   ]
  },
  {
   "cell_type": "code",
   "execution_count": 22,
   "metadata": {},
   "outputs": [
    {
     "data": {
      "text/html": [
       "<strong id=\"FALSE\">FALSE:</strong> <a class=\"ProveItLink\" href=\"__pv_it/basic_expressions/0c50668a35af9946cdfc4ef62e84d3135fd946230/expr.ipynb\"><img src=\"data:image/png;base64,iVBORw0KGgoAAAANSUhEUgAAAA4AAAAOBAMAAADtZjDiAAAAG1BMVEX///9UVFQQEBAiIiJmZmaI\n",
       "iIiqqqrMzMwAAADC2JlRAAAAAXRSTlMAQObYZgAAABlJREFUCNdjYGBgKGOAgFRa0s7GxkrGxoYA\n",
       "QSUGlQeagkgAAAAASUVORK5CYII=\n",
       "\" style=\"display:inline;vertical-align:middle;\" /></a><br>"
      ],
      "text/plain": [
       "FALSE: false"
      ]
     },
     "execution_count": 22,
     "metadata": {},
     "output_type": "execute_result"
    }
   ],
   "source": [
    "FALSE = Literal('false', r'\\bot')"
   ]
  },
  {
   "cell_type": "markdown",
   "metadata": {},
   "source": [
    "Such constants will typically be defined as **common expressions** in the appropriate **theory**, to be discussed in a later tutorial."
   ]
  },
  {
   "cell_type": "markdown",
   "metadata": {},
   "source": [
    "### Theoryual \"variables\"\n",
    "\n",
    "This is appropriate when variables are given a specific meaning within the theory of a problem.  For example, consider a math \"story problem\" where Andrea has $a$ apples and Bill has $b$ bananas.  These are variables in a sense, but here they have contextual meaning so they should be `Literal`s.  However, suppose one wants to prove a general theorem for any number of Andrea's apples and Bill's bananas.  One may start by using the $a$ and $b$ `Literal`s for convenience for some contextual \"lemmas\" (as an aside, though, **Prove-It** does not distinguish between lemmas and theorems), but then demote them to `Variable`s in order to make a statement of the form $\\forall_{a, b} P(a, b)$ (`Literal`s may not be quantified over).  This is done by using a process called axiom elimination that will be discussed later.  For now, we just note that \"variables\" with contextual meaning need to be `Literal`s."
   ]
  },
  {
   "cell_type": "code",
   "execution_count": 23,
   "metadata": {},
   "outputs": [
    {
     "data": {
      "text/html": [
       "<strong id=\"a_lit\">a_lit:</strong> <a class=\"ProveItLink\" href=\"__pv_it/basic_expressions/0db3074a00ecf23f510155bf3c7a20326ec628050/expr.ipynb\"><img src=\"data:image/png;base64,iVBORw0KGgoAAAANSUhEUgAAAAsAAAAJBAMAAAAWSsseAAAAMFBMVEX///9UVFSqqqrMzMwiIiJE\n",
       "RESYmJgyMjK6urru7u4QEBCIiIh2dnZmZmbc3NwAAABRgo0vAAAAAXRSTlMAQObYZgAAAEdJREFU\n",
       "CNdjYOC7c3slAwND1wP2DwwMnMsYeAMYGHh/MrBsYGDgCmCYb8DAMP8Agz5QxXwFBnGmBwysG9gc\n",
       "eYAqpTc/3MEAAP4BD32xAXDqAAAAAElFTkSuQmCC\n",
       "\" style=\"display:inline;vertical-align:middle;\" /></a><br>"
      ],
      "text/plain": [
       "a_lit: a"
      ]
     },
     "execution_count": 23,
     "metadata": {},
     "output_type": "execute_result"
    }
   ],
   "source": [
    "a_lit = Literal('a')"
   ]
  },
  {
   "cell_type": "code",
   "execution_count": 24,
   "metadata": {},
   "outputs": [
    {
     "data": {
      "text/html": [
       "<strong id=\"b_lit\">b_lit:</strong> <a class=\"ProveItLink\" href=\"__pv_it/basic_expressions/aaa3fa5c842153a3a882618e898dd2a7929f884f0/expr.ipynb\"><img src=\"data:image/png;base64,iVBORw0KGgoAAAANSUhEUgAAAAkAAAAOBAMAAAAPuiubAAAALVBMVEX///+YmJjc3NyIiIhUVFR2\n",
       "dna6urqqqqpmZmYyMjIiIiIQEBBERETu7u4AAAALjtrwAAAAAXRSTlMAQObYZgAAAE9JREFUCNdj\n",
       "4D29gAEIOBtAJF8BiMy7ACKjQATDFON2BgbelxfuKTCwv2XgM2DgmMBwLwCkPK+AgU+Aoe8CA18C\n",
       "70YGBhYBHqARvM2BDAwAqXgQspq5HJAAAAAASUVORK5CYII=\n",
       "\" style=\"display:inline;vertical-align:middle;\" /></a><br>"
      ],
      "text/plain": [
       "b_lit: b"
      ]
     },
     "execution_count": 24,
     "metadata": {},
     "output_type": "execute_result"
    }
   ],
   "source": [
    "b_lit = Literal('b')"
   ]
  },
  {
   "cell_type": "code",
   "execution_count": 25,
   "metadata": {},
   "outputs": [],
   "source": [
    "# different because one is a Variable and one is a Literal\n",
    "assert a != a_lit \n",
    "# same after converting the Literal to a Variable\n",
    "assert a == a_lit.as_variable() "
   ]
  },
  {
   "cell_type": "markdown",
   "metadata": {},
   "source": [
    "### Literal substitution\n",
    "It is possible to perform *expression substitution* on a `Literal`."
   ]
  },
  {
   "cell_type": "code",
   "execution_count": 26,
   "metadata": {},
   "outputs": [
    {
     "data": {
      "text/html": [
       "<a class=\"ProveItLink\" href=\"__pv_it/basic_expressions/aaa3fa5c842153a3a882618e898dd2a7929f884f0/expr.ipynb\"><img src=\"data:image/png;base64,iVBORw0KGgoAAAANSUhEUgAAAAkAAAAOBAMAAAAPuiubAAAALVBMVEX///+YmJjc3NyIiIhUVFR2\n",
       "dna6urqqqqpmZmYyMjIiIiIQEBBERETu7u4AAAALjtrwAAAAAXRSTlMAQObYZgAAAE9JREFUCNdj\n",
       "4D29gAEIOBtAJF8BiMy7ACKjQATDFON2BgbelxfuKTCwv2XgM2DgmMBwLwCkPK+AgU+Aoe8CA18C\n",
       "70YGBhYBHqARvM2BDAwAqXgQspq5HJAAAAAASUVORK5CYII=\n",
       "\" style=\"display:inline;vertical-align:middle;\" /></a>"
      ],
      "text/plain": [
       "b"
      ]
     },
     "execution_count": 26,
     "metadata": {},
     "output_type": "execute_result"
    }
   ],
   "source": [
    "a_lit.replaced({a_lit:b_lit})"
   ]
  },
  {
   "cell_type": "code",
   "execution_count": 27,
   "metadata": {},
   "outputs": [
    {
     "data": {
      "text/html": [
       "<a class=\"ProveItLink\" href=\"__pv_it/basic_expressions/78a68196d231f7f9081c22150ae1da14f50cc59b0/expr.ipynb\"><img src=\"data:image/png;base64,iVBORw0KGgoAAAANSUhEUgAAAA0AAAAJBAMAAAAbVLtZAAAAMFBMVEX///8QEBBERETMzMwyMjKq\n",
       "qqp2dnZmZmaIiIju7u6YmJi6uroiIiLc3NxUVFQAAABheaknAAAAAXRSTlMAQObYZgAAAE5JREFU\n",
       "CNcNxbENQEAAAMBLJIheojcIC0isoNL+CG8FCzCC3hIqlcIQEi3XHDeuTbH9L1H2J+3ttIpDlAQp\n",
       "Qd47qTVBxzCW77AyP8dU8QENTA/yxpazbgAAAABJRU5ErkJggg==\n",
       "\" style=\"display:inline;vertical-align:middle;\" /></a>"
      ],
      "text/plain": [
       "omega"
      ]
     },
     "execution_count": 27,
     "metadata": {},
     "output_type": "execute_result"
    }
   ],
   "source": [
    "a_lit.replaced({a_lit:omega})"
   ]
  },
  {
   "cell_type": "markdown",
   "metadata": {},
   "source": [
    "As noted earlier, the `substituted()` method is non-mutating, leaving the a_lit `Literal` as it was originally defined:"
   ]
  },
  {
   "cell_type": "code",
   "execution_count": 28,
   "metadata": {},
   "outputs": [
    {
     "data": {
      "text/html": [
       "<a class=\"ProveItLink\" href=\"__pv_it/basic_expressions/0db3074a00ecf23f510155bf3c7a20326ec628050/expr.ipynb\"><img src=\"data:image/png;base64,iVBORw0KGgoAAAANSUhEUgAAAAsAAAAJBAMAAAAWSsseAAAAMFBMVEX///9UVFSqqqrMzMwiIiJE\n",
       "RESYmJgyMjK6urru7u4QEBCIiIh2dnZmZmbc3NwAAABRgo0vAAAAAXRSTlMAQObYZgAAAEdJREFU\n",
       "CNdjYOC7c3slAwND1wP2DwwMnMsYeAMYGHh/MrBsYGDgCmCYb8DAMP8Agz5QxXwFBnGmBwysG9gc\n",
       "eYAqpTc/3MEAAP4BD32xAXDqAAAAAElFTkSuQmCC\n",
       "\" style=\"display:inline;vertical-align:middle;\" /></a>"
      ],
      "text/plain": [
       "a"
      ]
     },
     "execution_count": 28,
     "metadata": {},
     "output_type": "execute_result"
    }
   ],
   "source": [
    "a_lit"
   ]
  },
  {
   "cell_type": "markdown",
   "metadata": {},
   "source": [
    "While we are able to replace a `Literal` via *expression substitution*, we may not replace them via *instantiation* because `Literal`s are not interchangeable labels."
   ]
  },
  {
   "cell_type": "markdown",
   "metadata": {},
   "source": [
    "### Literal theories\n",
    "\n",
    "A `Literal` is distinguished not only by its formatting but also by its **theory**.  Axioms and theorems of **Prove-It** are organized via **theories** which we will discuss later in more detail.  Each `Literal` belongs to a **theory** which is typically the one corresponding to the package (directory) in which it is defined.  This is particularly important for *contextual variable* types of `Literal`s that are very *theory*-specific."
   ]
  },
  {
   "cell_type": "code",
   "execution_count": 29,
   "metadata": {},
   "outputs": [],
   "source": [
    "from proveit import logic"
   ]
  },
  {
   "cell_type": "code",
   "execution_count": 30,
   "metadata": {},
   "outputs": [
    {
     "data": {
      "text/html": [
       "<a class=\"ProveItLink\" href=\"../packages/proveit/logic/booleans/__pv_it/common/373f61d65f7ccc0f6ebbafaccf02f2693d0e3bad0/expr.ipynb\"><img src=\"data:image/png;base64,iVBORw0KGgoAAAANSUhEUgAAAA4AAAAOBAMAAADtZjDiAAAAG1BMVEX///+YmJi6urqIiIiqqqpU\n",
       "VFQiIiJmZmYAAAD2GhH1AAAAAXRSTlMAQObYZgAAABhJREFUCNdjKEsDgVQGIHBmgABa0YpADADk\n",
       "ogYfXGfJdgAAAABJRU5ErkJggg==\n",
       "\" style=\"display:inline;vertical-align:middle;\" /></a>"
      ],
      "text/plain": [
       "TRUE"
      ]
     },
     "execution_count": 30,
     "metadata": {},
     "output_type": "execute_result"
    }
   ],
   "source": [
    "logic.TRUE"
   ]
  },
  {
   "cell_type": "markdown",
   "metadata": {},
   "source": [
    "*If the above output is not the $\\top$ symbol when you execute this, you probably need to <a class=\"ProveItLink\" href=\"tutorial00_introduction.ipynb#build\">build or download the Prove-It database</a>.*"
   ]
  },
  {
   "cell_type": "code",
   "execution_count": 31,
   "metadata": {},
   "outputs": [
    {
     "data": {
      "text/plain": [
       "False"
      ]
     },
     "execution_count": 31,
     "metadata": {},
     "output_type": "execute_result"
    }
   ],
   "source": [
    "# When the theory is different, they are not the same.\n",
    "TRUE == logic.TRUE"
   ]
  },
  {
   "cell_type": "markdown",
   "metadata": {},
   "source": [
    "The detailed expression information reveals the differences:"
   ]
  },
  {
   "cell_type": "code",
   "execution_count": 32,
   "metadata": {},
   "outputs": [
    {
     "data": {
      "text/html": [
       "<table><tr><th>&nbsp;</th><th>core type</th><th>sub-expressions</th><th>expression</th></tr>\n",
       "<tr><td>0</td><td>Literal</td><td></td><td><a class=\"ProveItLink\" href=\"__pv_it/basic_expressions/a0f4f718ac9308ba0612bb7838a164cad44a7b5a0/expr.ipynb\"><img src=\"data:image/png;base64,iVBORw0KGgoAAAANSUhEUgAAAA4AAAAOBAMAAADtZjDiAAAAG1BMVEX///+YmJi6urqIiIiqqqpU\n",
       "VFQiIiJmZmYAAAD2GhH1AAAAAXRSTlMAQObYZgAAABhJREFUCNdjKEsDgVQGIHBmgABa0YpADADk\n",
       "ogYfXGfJdgAAAABJRU5ErkJggg==\n",
       "\" style=\"display:inline;vertical-align:middle;\" /></a></td></tr>\n",
       "<tr><td colspan=4 style=\"text-align:left\"><strong>theory:</strong> tutorial</td></tr>\n",
       "</table>\n"
      ],
      "text/plain": [
       "0. true\n",
       "   core type: Literal\n",
       "   latex_format: \\top\n",
       "   theory: tutorial\n",
       "   class: <class 'proveit._core_.expression.label.literal.Literal'>\n",
       "   sub-expressions: "
      ]
     },
     "execution_count": 32,
     "metadata": {},
     "output_type": "execute_result"
    }
   ],
   "source": [
    "TRUE.expr_info(details=True)"
   ]
  },
  {
   "cell_type": "code",
   "execution_count": 33,
   "metadata": {},
   "outputs": [
    {
     "data": {
      "text/html": [
       "<table><tr><th>&nbsp;</th><th>core type</th><th>sub-expressions</th><th>expression</th></tr>\n",
       "<tr><td>0</td><td>Literal</td><td></td><td><a class=\"ProveItLink\" href=\"../packages/proveit/logic/booleans/__pv_it/common/373f61d65f7ccc0f6ebbafaccf02f2693d0e3bad0/expr.ipynb\"><img src=\"data:image/png;base64,iVBORw0KGgoAAAANSUhEUgAAAA4AAAAOBAMAAADtZjDiAAAAG1BMVEX///+YmJi6urqIiIiqqqpU\n",
       "VFQiIiJmZmYAAAD2GhH1AAAAAXRSTlMAQObYZgAAABhJREFUCNdjKEsDgVQGIHBmgABa0YpADADk\n",
       "ogYfXGfJdgAAAABJRU5ErkJggg==\n",
       "\" style=\"display:inline;vertical-align:middle;\" /></a></td></tr>\n",
       "<tr><td colspan=4 style=\"text-align:left\"><strong>class:</strong> proveit.logic.booleans.booleans.TrueLiteral</td></tr>\n",
       "<tr><td colspan=4 style=\"text-align:left\"><strong>theory:</strong> proveit.logic.booleans</td></tr>\n",
       "</table>\n"
      ],
      "text/plain": [
       "0. TRUE\n",
       "   core type: Literal\n",
       "   latex_format: \\top\n",
       "   theory: proveit.logic.booleans\n",
       "   class: <class 'proveit.logic.booleans.booleans.TrueLiteral'>\n",
       "   sub-expressions: "
      ]
     },
     "execution_count": 33,
     "metadata": {},
     "output_type": "execute_result"
    }
   ],
   "source": [
    "logic.TRUE.expr_info(details=True)"
   ]
  },
  {
   "cell_type": "markdown",
   "metadata": {},
   "source": [
    "**Expressions** are also distinguished by their class (derived from the *core type*).  In the above example, `logic.TRUE` is an object of the `proveit.logic.booleans.booleans.TrueLiteral` class.  `logic.TRUE` and `logic.FALSE` have an `eval_equality(..)` method defined in their respective classes which is a convenient method for deriving any of the following: $(\\top = \\top) = \\top$, $(\\bot = \\bot) = \\top$, $(\\top = \\bot) = \\bot$, or $(\\bot = \\top) = \\bot$ (these are proven theorems within `proveit.logic`). For example:"
   ]
  },
  {
   "cell_type": "code",
   "execution_count": 34,
   "metadata": {},
   "outputs": [
    {
     "data": {
      "text/html": [
       "<span style=\"font-size:20px;\"> <a class=\"ProveItLink\" href=\"__pv_it/basic_expressions/784661834d6b58df305acd12c2e5a829bc909b510/proof.ipynb\" style=\"text-decoration: none\">&nbsp;&#x22A2;&nbsp;&nbsp;</a><a class=\"ProveItLink\" href=\"__pv_it/basic_expressions/1aeb9e698c1b66d19153302afbf87039f79996320/expr.ipynb\"><img src=\"data:image/png;base64,iVBORw0KGgoAAAANSUhEUgAAAHUAAAAUBAMAAABBgm9wAAAAMFBMVEX////MzMxUVFR2dna6uroQ\n",
       "EBCqqqqIiIgiIiJmZmYyMjJERETu7u6YmJjc3NwAAACgK8IjAAAAAXRSTlMAQObYZgAAALdJREFU\n",
       "OMtjYOC7wIAXsD3ALXeagbMDDBQwpBgTQKQeFk0QGYZ1YMMLsFoJFj2FU4Z3AiG9zAW4ZDgeENLL\n",
       "E4BL5gUDIb0MS3DJVBLWa4lLZi+KXuZVYDABRe8tXDJthO3NwCUTQlivPC30tmHzrwKKXg9cMnsJ\n",
       "23sLl4wlYb2TccmAHcTAgpmZgDmkNQKcQxbikuF4wEAA8DTgkuGdQEgvcwFOqX2E9J7Cl/cJADyG\n",
       "EypzeHEGCABriETckJsn/wAAAABJRU5ErkJggg==\n",
       "\" style=\"display:inline;vertical-align:middle;\" /></a></span>"
      ],
      "text/plain": [
       "|- (TRUE = FALSE) = FALSE"
      ]
     },
     "execution_count": 34,
     "metadata": {},
     "output_type": "execute_result"
    }
   ],
   "source": [
    "logic.TRUE.eval_equality(logic.FALSE)"
   ]
  },
  {
   "cell_type": "markdown",
   "metadata": {},
   "source": [
    "That is a sneak preview of a judgment (**Judgment** object) that uses the turnstile notation, $\\boldsymbol{\\vdash}$, to indicate that the expression is a proven statement.  There will be more on this in later tutorial chapters."
   ]
  },
  {
   "cell_type": "markdown",
   "metadata": {},
   "source": [
    "<a name=\"ExprTuple\"></a>ExprTuple\n",
    "=========\n",
    "\n",
    "An `ExprTuple` is an ordered collection of **expression** objects which we previewed briefly already.  Here is another example:"
   ]
  },
  {
   "cell_type": "code",
   "execution_count": 35,
   "metadata": {},
   "outputs": [
    {
     "data": {
      "text/html": [
       "<strong id=\"et\">et:</strong> <a class=\"ProveItLink\" href=\"__pv_it/basic_expressions/8886b40b5ab55a18207ca5d4ee240c293fb396d30/expr.ipynb\"><img src=\"data:image/png;base64,iVBORw0KGgoAAAANSUhEUgAAAJMAAAAUBAMAAAB7fhJGAAAAMFBMVEX///9UVFTMzMx2dna6uroQ\n",
       "EBCqqqqIiIgiIiJmZmYyMjJERETu7u6YmJjc3NwAAAC+aOQFAAAAAXRSTlMAQObYZgAAAgVJREFU\n",
       "OMutVD9IG1Ec/uI1aS65SzIpFARXtysitqDkFqGLuLjZ1mxdgg2hELJFBHHoEBVURPBKZ8XFQWnl\n",
       "ltJCh8tSnFrilk4G7BTSP7/3XpL3kntxKL7h3nff+/2+e++79/sBqRruYayyx1eFsM4qgzH7m2ys\n",
       "iZdjfzKnl4rU6XGiMomqJuxVD638vR2yK8sD7L7kdO5Oqfdj9WEnnAHifYuL/p1SmeFmfQIafcQT\n",
       "/K9UwkWZptTO3nNBvCvtdpaMUjEsNX613UEyBTNll8VX8ZGm+XqiKcxr+YE4cGoDF2GpD7hxBeql\n",
       "oOFaL60cbA8bJPAC5imnY22kCxzFHYyGpYCkuC0yBevA+UMfsQqWALONuBAwPQQOR0e+ziuK+CMm\n",
       "mdIGDgxgpMmkoqcIJrrXalFch2Wd7REPxi+OZAohTM9yKTogbeR151rVOtuxbnVSUY9vAmoKO0WW\n",
       "Pv+gwmwPcngU426nXTKBj99kXEjKJA89ISBTqISnaSbbn5KVBXvNQEBBkVqyygG2YG1bLUWKsakq\n",
       "vtU5K1PMDOzsCM0OntFpxorXbxB/S2hvDhzAmLsCNoX3C/yXMvbn40PByhRMfa+ZVDWJCaVw8iEQ\n",
       "U8tIx+bl8he1nJ0QMNTK0LFOXznjstsmCoMAn9UuomElx5tMr/XZGARQ+6uOtZUqYD7dT0P+AfwD\n",
       "TkaPoO7Kf2QAAAAASUVORK5CYII=\n",
       "\" style=\"display:inline;vertical-align:middle;\" /></a><br>"
      ],
      "text/plain": [
       "et: (a, b, c, true, 5, a, alpha)"
      ]
     },
     "execution_count": 35,
     "metadata": {},
     "output_type": "execute_result"
    }
   ],
   "source": [
    "et = ExprTuple(a, b, c, TRUE, FIVE, a, alpha)"
   ]
  },
  {
   "cell_type": "markdown",
   "metadata": {},
   "source": [
    "An `ExprTuple` may be used as the *operands* or *operations* of an `Operation`, the *parameters* of a `Lambda` map, or the *values* and *conditions* of a `Conditional`.  A Python tuple (or any iterable) will automatically be converted to an `ExprTuple` when it is passed in for any of these roles when constructing an `Operation`, `Lambda`, or `Conditional`. "
   ]
  },
  {
   "cell_type": "markdown",
   "metadata": {},
   "source": [
    "Substitution typically carries forward in a straightforward manner."
   ]
  },
  {
   "cell_type": "code",
   "execution_count": 36,
   "metadata": {},
   "outputs": [
    {
     "data": {
      "text/html": [
       "<a class=\"ProveItLink\" href=\"__pv_it/basic_expressions/152b691b2c3a9933d88411d0b22f51279057e6a10/expr.ipynb\"><img src=\"data:image/png;base64,iVBORw0KGgoAAAANSUhEUgAAAJ0AAAAUBAMAAABltyL1AAAAMFBMVEX///9UVFTMzMx2dna6uroQ\n",
       "EBCqqqqIiIgiIiJmZmYyMjJERETu7u6YmJjc3NwAAAC+aOQFAAAAAXRSTlMAQObYZgAAAd1JREFU\n",
       "OMutVL9LQzEQ/lpb7Y/3ajdREDo5V0SKILSjf4CCOMjbXEQFB+kilaI8xKEgiLjYtSDiaAflLaLi\n",
       "0P4BVjrWTbAoiFovL69tmkQXe0Ny9+XuyyW5CxCrol+yxoYHNvitNvawKHuFbVfirhF59B91ViYk\n",
       "T1+dhnOmDW50wJJm4+5ysNVKduAVyc0oAmZB4nv7ky8yuY1f+ZACQvXegMDnn3w+EVb4boCGFDCQ\n",
       "+wdfJIOsfKCRbPttUlsJla+WTej4UtkMS6aAKymgcmZ8c61hRYsKX9SJNTV8jYyxbFgwi9iTAtYd\n",
       "vHMtD5+l8JFcavjyQHnIwWAO81LACYxXXnafuvsjOa0rfMz3ZIDK+EXhKyHAKyZ4oeMbA9IZhY/5\n",
       "Ts+6fPJ5v9qJVZI6viXKz1H4mG+aLieQU96jiRve0MM0qfdH1b+v3h/znaaZ3mOmG2B80DCOMlfC\n",
       "cdwnKkVp+RnmMjyU8zGDfM20n+Yk5tyG311kDW/TSe43aS+mYKq2gdABbxo3ZYbGDkcdjh7b9oJt\n",
       "73BjqlYNU7NFEl6/ecdyZAWr0Cz3oKJx1/4PvF5TFAiP8gsqGpQirrvmraIYYuHpUcFg/xX/T7lU\n",
       "FcUUE9GjghFld9fH//4J+AFFv4dAYSUq0gAAAABJRU5ErkJggg==\n",
       "\" style=\"display:inline;vertical-align:middle;\" /></a>"
      ],
      "text/plain": [
       "(false, b, c, true, 5, false, alpha)"
      ]
     },
     "execution_count": 36,
     "metadata": {},
     "output_type": "execute_result"
    }
   ],
   "source": [
    "et.replaced({a:FALSE})"
   ]
  },
  {
   "cell_type": "markdown",
   "metadata": {},
   "source": [
    "Note that the *substitution* occurs on all relevant instances.  And, as always, `substituted` is non-mutating:"
   ]
  },
  {
   "cell_type": "code",
   "execution_count": 37,
   "metadata": {},
   "outputs": [
    {
     "data": {
      "text/html": [
       "<a class=\"ProveItLink\" href=\"__pv_it/basic_expressions/8886b40b5ab55a18207ca5d4ee240c293fb396d30/expr.ipynb\"><img src=\"data:image/png;base64,iVBORw0KGgoAAAANSUhEUgAAAJMAAAAUBAMAAAB7fhJGAAAAMFBMVEX///9UVFTMzMx2dna6uroQ\n",
       "EBCqqqqIiIgiIiJmZmYyMjJERETu7u6YmJjc3NwAAAC+aOQFAAAAAXRSTlMAQObYZgAAAgVJREFU\n",
       "OMutVD9IG1Ec/uI1aS65SzIpFARXtysitqDkFqGLuLjZ1mxdgg2hELJFBHHoEBVURPBKZ8XFQWnl\n",
       "ltJCh8tSnFrilk4G7BTSP7/3XpL3kntxKL7h3nff+/2+e++79/sBqRruYayyx1eFsM4qgzH7m2ys\n",
       "iZdjfzKnl4rU6XGiMomqJuxVD638vR2yK8sD7L7kdO5Oqfdj9WEnnAHifYuL/p1SmeFmfQIafcQT\n",
       "/K9UwkWZptTO3nNBvCvtdpaMUjEsNX613UEyBTNll8VX8ZGm+XqiKcxr+YE4cGoDF2GpD7hxBeql\n",
       "oOFaL60cbA8bJPAC5imnY22kCxzFHYyGpYCkuC0yBevA+UMfsQqWALONuBAwPQQOR0e+ziuK+CMm\n",
       "mdIGDgxgpMmkoqcIJrrXalFch2Wd7REPxi+OZAohTM9yKTogbeR151rVOtuxbnVSUY9vAmoKO0WW\n",
       "Pv+gwmwPcngU426nXTKBj99kXEjKJA89ISBTqISnaSbbn5KVBXvNQEBBkVqyygG2YG1bLUWKsakq\n",
       "vtU5K1PMDOzsCM0OntFpxorXbxB/S2hvDhzAmLsCNoX3C/yXMvbn40PByhRMfa+ZVDWJCaVw8iEQ\n",
       "U8tIx+bl8he1nJ0QMNTK0LFOXznjstsmCoMAn9UuomElx5tMr/XZGARQ+6uOtZUqYD7dT0P+AfwD\n",
       "TkaPoO7Kf2QAAAAASUVORK5CYII=\n",
       "\" style=\"display:inline;vertical-align:middle;\" /></a>"
      ],
      "text/plain": [
       "(a, b, c, true, 5, a, alpha)"
      ]
     },
     "execution_count": 37,
     "metadata": {},
     "output_type": "execute_result"
    }
   ],
   "source": [
    "et"
   ]
  },
  {
   "cell_type": "markdown",
   "metadata": {},
   "source": [
    "The **expression** constituents of an `ExprTuple` are known as *entries*:"
   ]
  },
  {
   "cell_type": "code",
   "execution_count": 38,
   "metadata": {},
   "outputs": [
    {
     "data": {
      "text/html": [
       "<a class=\"ProveItLink\" href=\"../packages/proveit/__pv_it/common/66c90e66682f107a881f2d666959f64e2e72ad750/expr.ipynb\"><img src=\"data:image/png;base64,iVBORw0KGgoAAAANSUhEUgAAAAsAAAAJBAMAAAAWSsseAAAAMFBMVEX///9UVFSqqqrMzMwiIiJE\n",
       "RESYmJgyMjK6urru7u4QEBCIiIh2dnZmZmbc3NwAAABRgo0vAAAAAXRSTlMAQObYZgAAAEdJREFU\n",
       "CNdjYOC7c3slAwND1wP2DwwMnMsYeAMYGHh/MrBsYGDgCmCYb8DAMP8Agz5QxXwFBnGmBwysG9gc\n",
       "eYAqpTc/3MEAAP4BD32xAXDqAAAAAElFTkSuQmCC\n",
       "\" style=\"display:inline;vertical-align:middle;\" /></a>"
      ],
      "text/plain": [
       "a"
      ]
     },
     "execution_count": 38,
     "metadata": {},
     "output_type": "execute_result"
    }
   ],
   "source": [
    "et.entries[5]"
   ]
  },
  {
   "cell_type": "markdown",
   "metadata": {},
   "source": [
    "The enumerated mathematical objects represented by the `ExprTuple` are known as *elements*.  The *elements* and *entries* are in correspondence except when the `ExprTuple` contains an `Iter`.  A contained `Iter` is a single *entry* but may represent multiple elements.  For example, the second *entry* of $(a, b_1, ..., b_n)$ is the `Iter` $b_1, ..., b_n$, but the second *element*, assuming $n \\geq 1$, is $b_1$.  We will revisit this in the <a href=\"#Iter\">Iter</a> section."
   ]
  },
  {
   "cell_type": "markdown",
   "metadata": {},
   "source": [
    "`ExprTuple` *substitution* is more interesting when an `Iter` containing an `IndexedVar` is expanded such that the `Iter` splits into multiple *entries*.  This will be demonstrated in the <a href=\"#IndexedVar\">IndexedVar</a> section.  "
   ]
  },
  {
   "cell_type": "markdown",
   "metadata": {},
   "source": [
    "<a name=\"Operation\"></a>Operation\n",
    "=========\n",
    "\n",
    "This type of **expression** represents an applied operation.  It contains *operator(s)* and *operand(s)*.  The default formatting of an `Operation` with one *operator* and more than one *operand* is to place the *operator* between each successive pair of *operands* as follows."
   ]
  },
  {
   "cell_type": "code",
   "execution_count": 39,
   "metadata": {},
   "outputs": [
    {
     "name": "stdout",
     "output_type": "stream",
     "text": [
      "Must implement 'extract_init_arg_value' for the Operation of type <class 'proveit._core_.expression.operation.operation.Operation'> if it does not fall into one of the default cases for 'extract_init_args'\n"
     ]
    },
    {
     "data": {
      "text/plain": [
       "triple_prod: x * y * omega"
      ]
     },
     "execution_count": 39,
     "metadata": {},
     "output_type": "execute_result"
    }
   ],
   "source": [
    "from proveit import Operation\n",
    "triple_prod = Operation(TIMES, [x, y, omega])"
   ]
  },
  {
   "cell_type": "markdown",
   "metadata": {},
   "source": [
    "A `Function` is derived from `Operation`.  It behaves in the same manner except it formats it in a \"function\" style:"
   ]
  },
  {
   "cell_type": "code",
   "execution_count": 40,
   "metadata": {},
   "outputs": [
    {
     "data": {
      "text/html": [
       "<strong id=\"fx\">fx:</strong> <a class=\"ProveItLink\" href=\"__pv_it/basic_expressions/165b6d639614945b84d3878e5681197efece10740/expr.ipynb\"><img src=\"data:image/png;base64,iVBORw0KGgoAAAANSUhEUgAAACUAAAAUBAMAAAD4luk4AAAAMFBMVEX///8yMjJERETMzMwQEBCY\n",
       "mJgiIiK6urqqqqp2dnZUVFTc3NyIiIhmZmbu7u4AAADOOTK3AAAAAXRSTlMAQObYZgAAAO9JREFU\n",
       "GNNjYICCrVC6G0K9PbuBgU8BKsa1AUyt7G9gYNwAFeMTAJPfnzMwxMLMYJgDIjg+AIlsuNgTEMGZ\n",
       "wMDAnQAXYyxgYGC9knuBgecC0Iwzq2uAGjmBTAb+AwwMTAEMDC8Zwg4kAtWALNlvwMDA1sDAMI9h\n",
       "/oNqoPEgY/qBmAVoyAMGJZB5zCArp0HFGBj+wMW0GCB6GZg/g8TYQXp9GCB29PF8YDgHsYPvOwPY\n",
       "Aew/mD5wA6V4JwDVfoBo4Ftz7mwoyM1AZ3CCQwTht2cMDF2MASAWShgkPQSzmJDDKuY2hAkLU7gk\n",
       "UthHMzAAABcoOI8ge5+JAAAAAElFTkSuQmCC\n",
       "\" style=\"display:inline;vertical-align:middle;\" /></a><br>"
      ],
      "text/plain": [
       "fx: f(x)"
      ]
     },
     "execution_count": 40,
     "metadata": {},
     "output_type": "execute_result"
    }
   ],
   "source": [
    "from proveit import Function\n",
    "\n",
    "# Simple case: a Variable operator with a single Variable operand\n",
    "f = Variable('f')\n",
    "fx = Function(f, x)"
   ]
  },
  {
   "cell_type": "code",
   "execution_count": 41,
   "metadata": {},
   "outputs": [
    {
     "data": {
      "text/html": [
       "<a class=\"ProveItLink\" href=\"__pv_it/basic_expressions/dc789bedc80e7e977579bf1844bc6af33b2702300/expr.ipynb\"><img src=\"data:image/png;base64,iVBORw0KGgoAAAANSUhEUgAAAM8AAAAUBAMAAADYVnSAAAAAMFBMVEX////MzMxUVFR2dna6uroQ\n",
       "EBCqqqqIiIgiIiJmZmYyMjJERETu7u6YmJjc3NwAAACgK8IjAAAAAXRSTlMAQObYZgAAAudJREFU\n",
       "SMd9Vc9rE1EQ/tJtk7S7afMHCC0W8dYGClpRaOlFQbGCHgQ95KgoNtpDDRQakKp40IBg8VCtoAcP\n",
       "avEmarsoEqmHFi9aQc3BgxdpbEt/kTbOzNtNN83EB7Nv9vt23uybN28GaJ6DN3wtnEfFqIX/n/rj\n",
       "zZc8wSd+OGMPPI1HR6WJgn8uvdz91FUpJ901ztOk916XN4Ln8rZvxdN4zFQ60vANwD6rUt1x1JGT\n",
       "Jn+PzoSRWJbfZo/1ehoPKxX0o+GhJQrXqkbN8Longfmy/X4jUfE8AF+TnzgRdKThkWWSJY16QgFF\n",
       "J3C7bP/ByG+zX/iajMdBRxpuFyjcywplbfKzJ9+cKTNNvSJp1udP34douSu/BikIB/yPzg9dUPEW\n",
       "CtBCVqEWxMHD3ggF1RnqOEwxs7Iib4VfJSHNScRuRGmNb37kJ5vXNRytCYSvaSY9clbTcZvy/j2+\n",
       "pm7RGU+IXJfr8JcepFmuVaynuJ/z1htwsaLhGGnvGnM1kztxfpYQTQKH0OMep6TJiJyS+0YhZ82B\n",
       "Lenf6q13BqGihmPalamaKjERXkQDHYyL15KhBRFxZGWMFQU/FbAKbSKSUXBgDb6jHdSo5GlRHJkT\n",
       "8R1J6Ow2Ezr6XrZ+xLtBW7CzCo7QupmrqT0S2JSEDiE+EdRnRCQZGlImGcLuCCJu+WQpoi1JBZdr\n",
       "BNWk1c1d5t/gZLgYKWC4nAySlrO8UdL6k9NSDO/C2eBbuIVOV8HRVDTLVlOR1Jz1MyH5XL9iF7jo\n",
       "NiZEZMv93ubfDeXGuR4/Am7yqfYNdmt444tFU3EUk13tV6cQ51g5e4fT3/mv4iJSRQ7uKDWckCav\n",
       "XtXAq6rTNlUXj+WDJeijEaqL4bZn1cXT4sOEs6zhNeqtR9nZo1CKKqYQfTMhyFSw5uf4mrt2VsO3\n",
       "h0Y1ljjZ7J1tgnpXLJ2vbHBsznHv+3JPxZWeGKBCo8lg42OP4rW6lcdqtPJY7VYeq93Kfxj5B5XH\n",
       "IFNrBCRwAAAAAElFTkSuQmCC\n",
       "\" style=\"display:inline;vertical-align:middle;\" /></a>"
      ],
      "text/plain": [
       "(f(x), g(x), P(x), Q(x))"
      ]
     },
     "execution_count": 41,
     "metadata": {},
     "output_type": "execute_result"
    }
   ],
   "source": [
    "from proveit import fx, gx, Px, Qx\n",
    "ExprTuple(fx, gx, Px, Qx)"
   ]
  },
  {
   "cell_type": "markdown",
   "metadata": {},
   "source": [
    "An `Operation` must have a single *operator* that is a *label* (*variable* or *literal*)."
   ]
  },
  {
   "cell_type": "code",
   "execution_count": 42,
   "metadata": {},
   "outputs": [
    {
     "name": "stdout",
     "output_type": "stream",
     "text": [
      "Expected TypeError: operator must be a Label or an indexed variable (IndexedVar). f(x) is none of those.\n"
     ]
    }
   ],
   "source": [
    "try:\n",
    "    Operation(fx, fx)\n",
    "    assert False, \"Expecting a TypeError; should not make it to this point\"\n",
    "except TypeError as e:\n",
    "    print(\"Expected TypeError: %s\"%str(e))"
   ]
  },
  {
   "cell_type": "markdown",
   "metadata": {},
   "source": [
    "The `operator` and `operands` attributes access the *operator* and *operands* respectively as `ExprTuple`s:"
   ]
  },
  {
   "cell_type": "code",
   "execution_count": 43,
   "metadata": {},
   "outputs": [
    {
     "data": {
      "text/html": [
       "<a class=\"ProveItLink\" href=\"__pv_it/basic_expressions/91fc98f4a17b1dfe3b62bc90c83d05c36a4fd46b0/expr.ipynb\"><img src=\"data:image/png;base64,iVBORw0KGgoAAAANSUhEUgAAAAsAAAAKBAMAAACQ3rmwAAAAFVBMVEX///8iIiIyMjLc3NzMzMxE\n",
       "REQAAAAK/UhIAAAAAXRSTlMAQObYZgAAACtJREFUCNdjCGFgYDBiYDB0YGAWYQBhIAvIdQZygFxB\n",
       "ByQKIghVAtUA0Q4ArewE5fVTM0UAAAAASUVORK5CYII=\n",
       "\" style=\"display:inline;vertical-align:middle;\" /></a>"
      ],
      "text/plain": [
       "*"
      ]
     },
     "execution_count": 43,
     "metadata": {},
     "output_type": "execute_result"
    }
   ],
   "source": [
    "triple_prod.operator"
   ]
  },
  {
   "cell_type": "code",
   "execution_count": 44,
   "metadata": {},
   "outputs": [
    {
     "data": {
      "text/html": [
       "<a class=\"ProveItLink\" href=\"__pv_it/basic_expressions/6884d0f1250df37fd88e83b3fd345790d8a60c5e0/expr.ipynb\"><img src=\"data:image/png;base64,iVBORw0KGgoAAAANSUhEUgAAAEMAAAAUBAMAAAAkb50PAAAAMFBMVEX////MzMxUVFR2dna6uroQ\n",
       "EBCqqqqIiIgiIiJmZmYyMjJERETu7u6YmJjc3NwAAACgK8IjAAAAAXRSTlMAQObYZgAAAUtJREFU\n",
       "KM99kjFLw1AUhb+a0NQ0jVmd7CY4dVLcuohuDiouCv0FKopKJztIdREKIoIg5BcUcemkDYJEcNDB\n",
       "WTo4uAjdRKnifS8pZnoX7st55568d5J7wX/GEBtqeTQpGOnJ0jZKvBBKLaOEGSj0zJJ7eDcrcKvU\n",
       "5RFvv+1saSI+x19LfEr6h2C1uBFLldJRIdSFyhxOX6MX5fVTvIY0RRhZA1tb8msXFK+0RH/FNOQb\n",
       "LIt4SAtaZUxfaVdx4RVyfSUhpVVlwESggAPjcq+WNBWR0BKjIbsJgD18kdgNZTcfHeBEulIsc52A\n",
       "IPeF29N2Z2Gx1uUD71u9XLZ/NLKWzjZP1xVTYQHu9uNLafexHORN1n818rptZ0U5dINMA/JR6iZF\n",
       "STxk22hJTvFUTVCmjdwON7HkCZ0UZYbhf6TU9M3XgxSlUVQ+zIMp//cPVu5OQzLkZooAAAAASUVO\n",
       "RK5CYII=\n",
       "\" style=\"display:inline;vertical-align:middle;\" /></a>"
      ],
      "text/plain": [
       "(x, y, omega)"
      ]
     },
     "execution_count": 44,
     "metadata": {},
     "output_type": "execute_result"
    }
   ],
   "source": [
    "triple_prod.operands"
   ]
  },
  {
   "cell_type": "markdown",
   "metadata": {},
   "source": [
    "If there is only one *operand*, it may be accessed via the `operand` attributes: "
   ]
  },
  {
   "cell_type": "code",
   "execution_count": 45,
   "metadata": {},
   "outputs": [
    {
     "data": {
      "text/html": [
       "<a class=\"ProveItLink\" href=\"__pv_it/basic_expressions/a2581dc5df71d9a30bad37de14965fa5fec97a240/expr.ipynb\"><img src=\"data:image/png;base64,iVBORw0KGgoAAAANSUhEUgAAAAsAAAAJBAMAAAAWSsseAAAALVBMVEX///9mZmaqqqrMzMxEREQy\n",
       "MjIiIiKYmJh2dna6urrc3NxUVFSIiIju7u4AAACJHQtQAAAAAXRSTlMAQObYZgAAAEJJREFUCNdj\n",
       "YLhzeuWJAwy8Dew5bAEMHBc43nIuYOBlYHFgAAG+A2DKzgBIMF04x8BzgWGegh/DcgaG22fuiBcw\n",
       "AAATyhBrnyPYZQAAAABJRU5ErkJggg==\n",
       "\" style=\"display:inline;vertical-align:middle;\" /></a>"
      ],
      "text/plain": [
       "x"
      ]
     },
     "execution_count": 45,
     "metadata": {},
     "output_type": "execute_result"
    }
   ],
   "source": [
    "fx.operand"
   ]
  },
  {
   "cell_type": "code",
   "execution_count": 46,
   "metadata": {},
   "outputs": [
    {
     "data": {
      "text/plain": [
       "False"
      ]
     },
     "execution_count": 46,
     "metadata": {},
     "output_type": "execute_result"
    }
   ],
   "source": [
    "# An Operation does not have an `operand` attribute\n",
    "# if there is more than one *operand*.\n",
    "hasattr(triple_prod, 'operand')"
   ]
  },
  {
   "cell_type": "markdown",
   "metadata": {},
   "source": [
    "Looking at the expression information, we see that `triple_prod` has `operands` that is an `ExprTuple` but a single `operator` that is a `Literal`."
   ]
  },
  {
   "cell_type": "code",
   "execution_count": 47,
   "metadata": {},
   "outputs": [
    {
     "data": {
      "text/plain": [
       "0. x * y * omega\n",
       "   core type: Operation\n",
       "   operator: 1\n",
       "   operands: 2\n",
       "1. *\n",
       "   core type: Literal\n",
       "   sub-expressions: \n",
       "2. (x, y, omega)\n",
       "   core type: ExprTuple\n",
       "   sub-expressions: 3, 4, 5\n",
       "3. x\n",
       "   core type: Variable\n",
       "   sub-expressions: \n",
       "4. y\n",
       "   core type: Variable\n",
       "   sub-expressions: \n",
       "5. omega\n",
       "   core type: Variable\n",
       "   sub-expressions: "
      ]
     },
     "execution_count": 47,
     "metadata": {},
     "output_type": "execute_result"
    }
   ],
   "source": [
    "triple_prod.expr_info()"
   ]
  },
  {
   "cell_type": "markdown",
   "metadata": {},
   "source": [
    "### Defining an `Operation` sub-class\n",
    "\n",
    "Let's derive a couple of classes from `Operation` to represent operations with specific literal operators.\n",
    "This is commonly done within Prove-It library modules.  We use the `%load` magic command to display (and execute) the contents of <a href=\"demo_operations.py\">demo_operations.py</a>."
   ]
  },
  {
   "cell_type": "code",
   "execution_count": 48,
   "metadata": {},
   "outputs": [],
   "source": [
    "# %load demo_operations.py\n",
    "'''\n",
    "Module that defines a Operations for demonstration\n",
    "purposes in this tutorial.\n",
    "'''\n",
    "\n",
    "from proveit import Operation, Literal\n",
    "\n",
    "class Factorial(Operation):\n",
    "    # _operator_ is a special class variable name, defining specific literal operator of the Operation class.\n",
    "    # It is not only used for default formatting but also when performing substitutions for rebuilding expressions.\n",
    "    _operator_ = Literal('!')\n",
    "    \n",
    "    def __init__(self, operand):\n",
    "        # creates the Operation with FACTORIAL as the operator and the provided operand as its only operand.\n",
    "        Operation.__init__(self, Factorial._operator_, operand) # initializes self.operand\n",
    "\n",
    "    def string(self, **kwargs): # should accept kwargs even when not used (e.g., 'fence')\n",
    "        # the operand should be fenced (wrapped in parentheses) to prevent ambiguity\n",
    "        return self.operand.string(fence=True) + Factorial._operator_.string()\n",
    "    \n",
    "    def latex(self, **kwargs): # should accept kwargs even when not used (e.g., 'fence')\n",
    "        # the operand should be fenced (wrapped in parentheses) to prevent ambiguity\n",
    "        return self.operand.latex(fence=True) + Factorial._operator_.latex() \n",
    "\n",
    "class Multiply(Operation):\n",
    "    \n",
    "    # This operator Literal has a LaTeX format that differs from the string format.\n",
    "    _operator_ = Literal('*', r'\\times')\n",
    "    \n",
    "    def __init__(self, *operands): # takes a list of arguments as the operands\n",
    "        # creates the AssociativeOperation with TIMES as the operator and any number of operands.\n",
    "        Operation.__init__(self, Multiply._operator_, operands)\n",
    "    \n",
    "    # The default formatting will display the operator between the operands\n"
   ]
  },
  {
   "cell_type": "markdown",
   "metadata": {},
   "source": [
    "In order to work properly, however, we need to import these classes from the module (as Prove-It will use the `__file__` attribute of this module for its internal purposes)."
   ]
  },
  {
   "cell_type": "code",
   "execution_count": 49,
   "metadata": {},
   "outputs": [],
   "source": [
    "from demo_operations import Factorial, Multiply"
   ]
  },
  {
   "cell_type": "markdown",
   "metadata": {},
   "source": [
    "A `Factorial` is an `Operation` with \"!\" as the format of the `Literal` operator.  Its formatting is altered from the default but is still true to the core `Expression` structure (the formatting is a reflection of the internal structure)."
   ]
  },
  {
   "cell_type": "code",
   "execution_count": 50,
   "metadata": {},
   "outputs": [
    {
     "data": {
      "text/html": [
       "<strong id=\"x_factorial\">x_factorial:</strong> <a class=\"ProveItLink\" href=\"__pv_it/basic_expressions/12243df04a88214c0b0313ad3001f62c4d3add830/expr.ipynb\"><img src=\"data:image/png;base64,iVBORw0KGgoAAAANSUhEUgAAABAAAAAOBAMAAADUAYG5AAAAMFBMVEX///8QEBBmZmaqqqrMzMxE\n",
       "REQyMjIiIiKYmJh2dna6urrc3NxUVFSIiIju7u4AAAA6P00QAAAAAXRSTlMAQObYZgAAAGVJREFU\n",
       "CNdjYICAGijN/RHK4PsOZTB8gzFkGBje3tl18wJDEgPfBI5a9gSGWAbOB5z/uDYwaDDwMbAGANXM\n",
       "AmL+C0CiBYj9HYDEAwbmB/cZeB8AmesN4hl2MPCJMby5+1ajAWgpAPRMGUk8QbeyAAAAAElFTkSu\n",
       "QmCC\n",
       "\" style=\"display:inline;vertical-align:middle;\" /></a><br>"
      ],
      "text/plain": [
       "x_factorial: x!"
      ]
     },
     "execution_count": 50,
     "metadata": {},
     "output_type": "execute_result"
    }
   ],
   "source": [
    "# Now we can make an object with this new class\n",
    "x_factorial = Factorial(x)"
   ]
  },
  {
   "cell_type": "code",
   "execution_count": 51,
   "metadata": {},
   "outputs": [
    {
     "name": "stdout",
     "output_type": "stream",
     "text": [
      "Expression notebook is being updated for !\n"
     ]
    },
    {
     "data": {
      "text/html": [
       "<table><tr><th>&nbsp;</th><th>core type</th><th>sub-expressions</th><th>expression</th></tr>\n",
       "<tr><td>0</td><td>Operation</td><td>operator:&nbsp;1<br>operand:&nbsp;3<br></td><td><a class=\"ProveItLink\" href=\"__pv_it/basic_expressions/12243df04a88214c0b0313ad3001f62c4d3add830/expr.ipynb\"><img src=\"data:image/png;base64,iVBORw0KGgoAAAANSUhEUgAAABAAAAAOBAMAAADUAYG5AAAAMFBMVEX///8QEBBmZmaqqqrMzMxE\n",
       "REQyMjIiIiKYmJh2dna6urrc3NxUVFSIiIju7u4AAAA6P00QAAAAAXRSTlMAQObYZgAAAGVJREFU\n",
       "CNdjYICAGijN/RHK4PsOZTB8gzFkGBje3tl18wJDEgPfBI5a9gSGWAbOB5z/uDYwaDDwMbAGANXM\n",
       "AmL+C0CiBYj9HYDEAwbmB/cZeB8AmesN4hl2MPCJMby5+1ajAWgpAPRMGUk8QbeyAAAAAElFTkSu\n",
       "QmCC\n",
       "\" style=\"display:inline;vertical-align:middle;\" /></a></td></tr>\n",
       "<tr><td>1</td><td>Literal</td><td></td><td><a class=\"ProveItLink\" href=\"__pv_it/basic_expressions/8728c1bffccb7db650045028f6b5e694aec8423e0/expr.ipynb\"><img src=\"data:image/png;base64,iVBORw0KGgoAAAANSUhEUgAAAAMAAAAOBAMAAAAYmLtSAAAALVBMVEX////MzMy6urp2dnaYmJiI\n",
       "iIhERERmZmYyMjLu7u4QEBDc3NxUVFQiIiIAAADD04JwAAAAAXRSTlMAQObYZgAAADBJREFUCNdj\n",
       "4D3AsG8Bw7wLDHwNDFwHGDgKGNgCGNgdGJgVGFgEGDgZQGBWAwPvAQDOHwguCCEr4AAAAABJRU5E\n",
       "rkJggg==\n",
       "\" style=\"display:inline;vertical-align:middle;\" /></a></td></tr>\n",
       "<tr><td>2</td><td>ExprTuple</td><td>3</td><td><a class=\"ProveItLink\" href=\"../packages/proveit/__pv_it/common/a49c8f25f899a16b1dbcf2257505d5464a9a7bb50/expr.ipynb\"><img src=\"data:image/png;base64,iVBORw0KGgoAAAANSUhEUgAAABgAAAAUBAMAAABlm+CwAAAAMFBMVEX////MzMxUVFR2dna6uroQ\n",
       "EBCqqqqIiIgiIiJmZmYyMjJERETu7u6YmJjc3NwAAACgK8IjAAAAAXRSTlMAQObYZgAAAKBJREFU\n",
       "GNNjYOC7wAAGbA+AxGkGKNAD4nUwzikGBt4JMA5zAQPHAxiHJ4DhBQMcLGGoBJLHi54UFzAwWDLs\n",
       "Bcob8LZzLGBguMXQBtR5gPkPC1BrBkMIUIaBewNIjzyIw8DAXwDhtIEpARDpATKA7UA9A/sBkAGW\n",
       "DAz+CfsZ3gJlJgPlGA6VH58LcvpCZOc0oDqUYR+SFxCeA4nCvM37gAEAoUwoFGD2AiwAAAAASUVO\n",
       "RK5CYII=\n",
       "\" style=\"display:inline;vertical-align:middle;\" /></a></td></tr>\n",
       "<tr><td>3</td><td>Variable</td><td></td><td><a class=\"ProveItLink\" href=\"__pv_it/basic_expressions/a2581dc5df71d9a30bad37de14965fa5fec97a240/expr.ipynb\"><img src=\"data:image/png;base64,iVBORw0KGgoAAAANSUhEUgAAAAsAAAAJBAMAAAAWSsseAAAALVBMVEX///9mZmaqqqrMzMxEREQy\n",
       "MjIiIiKYmJh2dna6urrc3NxUVFSIiIju7u4AAACJHQtQAAAAAXRSTlMAQObYZgAAAEJJREFUCNdj\n",
       "YLhzeuWJAwy8Dew5bAEMHBc43nIuYOBlYHFgAAG+A2DKzgBIMF04x8BzgWGegh/DcgaG22fuiBcw\n",
       "AAATyhBrnyPYZQAAAABJRU5ErkJggg==\n",
       "\" style=\"display:inline;vertical-align:middle;\" /></a></td></tr>\n",
       "</table>\n"
      ],
      "text/plain": [
       "0. x!\n",
       "   core type: Operation\n",
       "   operator: 1\n",
       "   operand: 3\n",
       "1. !\n",
       "   core type: Literal\n",
       "   sub-expressions: \n",
       "2. (x)\n",
       "   core type: ExprTuple\n",
       "   sub-expressions: 3\n",
       "3. x\n",
       "   core type: Variable\n",
       "   sub-expressions: "
      ]
     },
     "execution_count": 51,
     "metadata": {},
     "output_type": "execute_result"
    }
   ],
   "source": [
    "# show core structure\n",
    "x_factorial.expr_info()"
   ]
  },
  {
   "cell_type": "markdown",
   "metadata": {},
   "source": [
    "In the Jupyter notebook setting, we typically only use LaTeX formatting, but it is important to define the string formatting as well for whenever it is needed (e.g., when error messages are displayed).  The `fence=True` above indicates that parentheses should be used when it could be ambiguous otherwise.  Our example above has no ambiguity, so parentheses are not used.  We will show a case below where the parentheses are required."
   ]
  },
  {
   "cell_type": "markdown",
   "metadata": {},
   "source": [
    "Next we consider a multiple *operand* example using the `Multiply` class that we imported from <a href=\"demo_operations.py\">demo_operations.py</a> above."
   ]
  },
  {
   "cell_type": "code",
   "execution_count": 52,
   "metadata": {},
   "outputs": [
    {
     "data": {
      "text/html": [
       "<strong id=\"mult_expr\">mult_expr:</strong> <a class=\"ProveItLink\" href=\"__pv_it/basic_expressions/5d15a6a036bbebad17297984ec09e80a561b662b0/expr.ipynb\"><img src=\"data:image/png;base64,iVBORw0KGgoAAAANSUhEUgAAAFYAAAAOBAMAAABHpfZeAAAAMFBMVEX///8QEBBmZmaqqqrMzMxE\n",
       "REQyMjIiIiKYmJh2dna6urrc3NxUVFSIiIju7u4AAAA6P00QAAAAAXRSTlMAQObYZgAAAPVJREFU\n",
       "KM9jYMACMh44GTAQCeT//yRWKUPm2Q1Eqz1AUEUIEG9DUYsQgYK3d3bdvABibHdg4C4BC53oVWFA\n",
       "EeEBYu4qBr4JHLXsCSABoDBQEgTiGPYvQBHpAmK+vwycDzj/cUG8st27BGYZawGKiAKImMzAx8Aa\n",
       "AFXAXe4AU8v0G1mEawEDGwNDN5DFfwFNLU8CA+cvZBFeBgYnBoYJQJY/zDSYjYwJDEz/kEWYGBgu\n",
       "M3BPYGB+cJ+B9wGKT4BSqL5ldWD5xMC2gWG9QTzDDtQQ4lZgaNyALMIpqWivKcHA8ObuW40GtJDf\n",
       "NEcPRYQvPptX8AIDAOdZR7o2Dx8AAAAAAElFTkSuQmCC\n",
       "\" style=\"display:inline;vertical-align:middle;\" /></a><br>"
      ],
      "text/plain": [
       "mult_expr: x * 5 * omega"
      ]
     },
     "execution_count": 52,
     "metadata": {},
     "output_type": "execute_result"
    }
   ],
   "source": [
    "# Demonstrating an Operation with multiple operands\n",
    "mult_expr = Multiply(x, FIVE, omega)"
   ]
  },
  {
   "cell_type": "code",
   "execution_count": 53,
   "metadata": {},
   "outputs": [
    {
     "data": {
      "text/html": [
       "<strong id=\"nested_operation\">nested_operation:</strong> <a class=\"ProveItLink\" href=\"__pv_it/basic_expressions/c73bd630115bb10debeadb4fc6b77571ba725d650/expr.ipynb\"><img src=\"data:image/png;base64,iVBORw0KGgoAAAANSUhEUgAAAGkAAAAUBAMAAAB8EA4WAAAAMFBMVEX////MzMxUVFR2dna6uroQ\n",
       "EBCqqqqIiIgiIiJmZmYyMjJERETu7u6YmJjc3NwAAACgK8IjAAAAAXRSTlMAQObYZgAAAYtJREFU\n",
       "OMuVlL9Lw0AUx79tWtv8aMzaRbp1UoqDRRDMppMI6ij6B4h2UgodUhARp4i4ORw4W3D2V0EKgoMd\n",
       "FF0sGatLI4pFEPXummpSLkIf3B33ee97vHv3EkCvow9b9dZrofeoml4W8agDJDNARaha+n4Vco0A\n",
       "rVmkbKH3MOuIU8wDNxaSYm8m7GI1YJCg6UfHdDwHVH/EM8VEPIMiS3ZjZCrPUNOAXubO4ftdBEiU\n",
       "Dn0TkGwoNs7o7hIPhR3mogE0jNkpWmaA3LLT20CKQC1gi+4mMFmd6Rw9VO6moloBwos2BgxYkOuY\n",
       "p5sqTrxQfdvoquQvP4mZUIAGEHEhmVwFtHtUUQLpzU8SQBrIcVXK4Bki8uKpuvnECeRPP5GBdehU\n",
       "FbOggVdjJeGiFLg7DUoSP1GNyAcUh1eD2jiVv6tup4d/66zbuHP8RJrbX9tbZOflUCOYpgXNloqP\n",
       "PW/6NHoQINpFJbFQYK9ssO4N6ahQu+JzSPeGWr6znPcl0sh/X2WYqd6F+vsDNPj8A8P5ahVoYdoU\n",
       "AAAAAElFTkSuQmCC\n",
       "\" style=\"display:inline;vertical-align:middle;\" /></a><br>"
      ],
      "text/plain": [
       "nested_operation: (x * 5 * omega)!"
      ]
     },
     "execution_count": 53,
     "metadata": {},
     "output_type": "execute_result"
    }
   ],
   "source": [
    "# Let's nest Operations and show proper fencing behavior\n",
    "nested_operation = Factorial(mult_expr)"
   ]
  },
  {
   "cell_type": "code",
   "execution_count": 54,
   "metadata": {},
   "outputs": [
    {
     "name": "stdout",
     "output_type": "stream",
     "text": [
      "Expression notebook is being updated for *\n"
     ]
    },
    {
     "data": {
      "text/html": [
       "<table><tr><th>&nbsp;</th><th>core type</th><th>sub-expressions</th><th>expression</th></tr>\n",
       "<tr><td>0</td><td>Operation</td><td>operator:&nbsp;1<br>operand:&nbsp;3<br></td><td><a class=\"ProveItLink\" href=\"__pv_it/basic_expressions/c73bd630115bb10debeadb4fc6b77571ba725d650/expr.ipynb\"><img src=\"data:image/png;base64,iVBORw0KGgoAAAANSUhEUgAAAGkAAAAUBAMAAAB8EA4WAAAAMFBMVEX////MzMxUVFR2dna6uroQ\n",
       "EBCqqqqIiIgiIiJmZmYyMjJERETu7u6YmJjc3NwAAACgK8IjAAAAAXRSTlMAQObYZgAAAYtJREFU\n",
       "OMuVlL9Lw0AUx79tWtv8aMzaRbp1UoqDRRDMppMI6ij6B4h2UgodUhARp4i4ORw4W3D2V0EKgoMd\n",
       "FF0sGatLI4pFEPXummpSLkIf3B33ee97vHv3EkCvow9b9dZrofeoml4W8agDJDNARaha+n4Vco0A\n",
       "rVmkbKH3MOuIU8wDNxaSYm8m7GI1YJCg6UfHdDwHVH/EM8VEPIMiS3ZjZCrPUNOAXubO4ftdBEiU\n",
       "Dn0TkGwoNs7o7hIPhR3mogE0jNkpWmaA3LLT20CKQC1gi+4mMFmd6Rw9VO6moloBwos2BgxYkOuY\n",
       "p5sqTrxQfdvoquQvP4mZUIAGEHEhmVwFtHtUUQLpzU8SQBrIcVXK4Bki8uKpuvnECeRPP5GBdehU\n",
       "FbOggVdjJeGiFLg7DUoSP1GNyAcUh1eD2jiVv6tup4d/66zbuHP8RJrbX9tbZOflUCOYpgXNloqP\n",
       "PW/6NHoQINpFJbFQYK9ssO4N6ahQu+JzSPeGWr6znPcl0sh/X2WYqd6F+vsDNPj8A8P5ahVoYdoU\n",
       "AAAAAElFTkSuQmCC\n",
       "\" style=\"display:inline;vertical-align:middle;\" /></a></td></tr>\n",
       "<tr><td>1</td><td>Literal</td><td></td><td><a class=\"ProveItLink\" href=\"__pv_it/basic_expressions/8728c1bffccb7db650045028f6b5e694aec8423e0/expr.ipynb\"><img src=\"data:image/png;base64,iVBORw0KGgoAAAANSUhEUgAAAAMAAAAOBAMAAAAYmLtSAAAALVBMVEX////MzMy6urp2dnaYmJiI\n",
       "iIhERERmZmYyMjLu7u4QEBDc3NxUVFQiIiIAAADD04JwAAAAAXRSTlMAQObYZgAAADBJREFUCNdj\n",
       "4D3AsG8Bw7wLDHwNDFwHGDgKGNgCGNgdGJgVGFgEGDgZQGBWAwPvAQDOHwguCCEr4AAAAABJRU5E\n",
       "rkJggg==\n",
       "\" style=\"display:inline;vertical-align:middle;\" /></a></td></tr>\n",
       "<tr><td>2</td><td>ExprTuple</td><td>3</td><td><a class=\"ProveItLink\" href=\"__pv_it/basic_expressions/1a592213d6588a3ebce0f01fd23639d777e3c79c0/expr.ipynb\"><img src=\"data:image/png;base64,iVBORw0KGgoAAAANSUhEUgAAAGMAAAAUBAMAAABrMp7fAAAAMFBMVEX////MzMxUVFR2dna6uroQ\n",
       "EBCqqqqIiIgiIiJmZmYyMjJERETu7u6YmJjc3NwAAACgK8IjAAAAAXRSTlMAQObYZgAAAWdJREFU\n",
       "KM+Vk7FLw0AUxr82sWmSNmbtom5OQnBQ3Dq6Oaij2L9Ai4LiZApSHSPiphBwtuiuNghSwaWD4iYZ\n",
       "HKIgCgoiFPVdbDBX7oY+uDvu9+477rt7B1ht9BFLrLsRpo6DUkXEsyF1DaFk8eddyAs+UPSEqaPR\n",
       "UHyySSAvTo3IzFwBUXp+Su2Zk/yTbhhlbNDQWnlcrbJ5ZMOqxZmx+11wJEvN2gIUD+dkySlu533G\n",
       "KUtrWJzhtcyRW+b9k7z7qJMwUDrqn6VoqJacwHQ5Et/SBJBzMUdimCfdddaOnUj07zRRyzCAByDz\n",
       "xiTAYLVHkvWhfKSJBpQAJ5bUGRhO9k6OMeBD76SJDqzBIonqMvu5YBNawJmlFfyFmHbmC0YY258C\n",
       "ZipNvPBXanm4C9NEmd1f3ltgmzmYBi7XW4ftnod7Gj/gSKHZ0OaZY8OWFYw0rqVlKQ0qS1z0pWDF\n",
       "L/lisjCZj/4+Mr3/LxlWY6NoCYKGAAAAAElFTkSuQmCC\n",
       "\" style=\"display:inline;vertical-align:middle;\" /></a></td></tr>\n",
       "<tr><td>3</td><td>Operation</td><td>operator:&nbsp;4<br>operands:&nbsp;5<br></td><td><a class=\"ProveItLink\" href=\"__pv_it/basic_expressions/5d15a6a036bbebad17297984ec09e80a561b662b0/expr.ipynb\"><img src=\"data:image/png;base64,iVBORw0KGgoAAAANSUhEUgAAAFYAAAAOBAMAAABHpfZeAAAAMFBMVEX///8QEBBmZmaqqqrMzMxE\n",
       "REQyMjIiIiKYmJh2dna6urrc3NxUVFSIiIju7u4AAAA6P00QAAAAAXRSTlMAQObYZgAAAPVJREFU\n",
       "KM9jYMACMh44GTAQCeT//yRWKUPm2Q1Eqz1AUEUIEG9DUYsQgYK3d3bdvABibHdg4C4BC53oVWFA\n",
       "EeEBYu4qBr4JHLXsCSABoDBQEgTiGPYvQBHpAmK+vwycDzj/cUG8st27BGYZawGKiAKImMzAx8Aa\n",
       "AFXAXe4AU8v0G1mEawEDGwNDN5DFfwFNLU8CA+cvZBFeBgYnBoYJQJY/zDSYjYwJDEz/kEWYGBgu\n",
       "M3BPYGB+cJ+B9wGKT4BSqL5ldWD5xMC2gWG9QTzDDtQQ4lZgaNyALMIpqWivKcHA8ObuW40GtJDf\n",
       "NEcPRYQvPptX8AIDAOdZR7o2Dx8AAAAAAElFTkSuQmCC\n",
       "\" style=\"display:inline;vertical-align:middle;\" /></a></td></tr>\n",
       "<tr><td>4</td><td>Literal</td><td></td><td><a class=\"ProveItLink\" href=\"__pv_it/basic_expressions/91fc98f4a17b1dfe3b62bc90c83d05c36a4fd46b0/expr.ipynb\"><img src=\"data:image/png;base64,iVBORw0KGgoAAAANSUhEUgAAAAsAAAAKBAMAAACQ3rmwAAAAFVBMVEX///8iIiIyMjLc3NzMzMxE\n",
       "REQAAAAK/UhIAAAAAXRSTlMAQObYZgAAACtJREFUCNdjCGFgYDBiYDB0YGAWYQBhIAvIdQZygFxB\n",
       "ByQKIghVAtUA0Q4ArewE5fVTM0UAAAAASUVORK5CYII=\n",
       "\" style=\"display:inline;vertical-align:middle;\" /></a></td></tr>\n",
       "<tr><td>5</td><td>ExprTuple</td><td>6, 7, 8</td><td><a class=\"ProveItLink\" href=\"__pv_it/basic_expressions/d41939176c965943a987756badfc7e49491fedda0/expr.ipynb\"><img src=\"data:image/png;base64,iVBORw0KGgoAAAANSUhEUgAAAEMAAAAUBAMAAAAkb50PAAAAMFBMVEX////MzMxUVFR2dna6uroQ\n",
       "EBCqqqqIiIgiIiJmZmYyMjJERETu7u6YmJjc3NwAAACgK8IjAAAAAXRSTlMAQObYZgAAAVZJREFU\n",
       "KM9jYOC7wIAH5IGI0yhCaw9IJiDzmR4AiXUoSuL/f0bh8yxgYOCdgCK0WP0Bqk3mDAwcqEIK6I45\n",
       "ysDwggG/Ei4HhkqQheV67uYQEd3rE6HuBGK+FgYG5gkMe4HMwww3CrogMnsY3juAGVdAWr8D3bqA\n",
       "oQ3ItGGwP+AHM5m7AUyBfWHGwMDWwBACZB1g2I2wnPMfiGRxYOBiYLjHwMD4AayEgeE7LKQWMDB/\n",
       "ATHYGRgkGRgMwEpAFjEwfoQqYV3AwPkHbBYDQxkDH1AJSwPYuTnsHxhqGKAyHAvALhJg/MnA9QDs\n",
       "XEugwm/cH4CReR4oxzeB4eoDnl9AvwZPzZ8cC9JkwOAB9Jt6TeVdoPYeoMhLozkMDB0HGHj2r2MP\n",
       "LQAFnQByBOTAGGwHEB48gRKNBjAGM2o0MuyDx3sBjHUcNTEgkhQvXBwpHXKD3IE/YQLDFwD+aE8i\n",
       "k6qGQAAAAABJRU5ErkJggg==\n",
       "\" style=\"display:inline;vertical-align:middle;\" /></a></td></tr>\n",
       "<tr><td>6</td><td>Variable</td><td></td><td><a class=\"ProveItLink\" href=\"__pv_it/basic_expressions/a2581dc5df71d9a30bad37de14965fa5fec97a240/expr.ipynb\"><img src=\"data:image/png;base64,iVBORw0KGgoAAAANSUhEUgAAAAsAAAAJBAMAAAAWSsseAAAALVBMVEX///9mZmaqqqrMzMxEREQy\n",
       "MjIiIiKYmJh2dna6urrc3NxUVFSIiIju7u4AAACJHQtQAAAAAXRSTlMAQObYZgAAAEJJREFUCNdj\n",
       "YLhzeuWJAwy8Dew5bAEMHBc43nIuYOBlYHFgAAG+A2DKzgBIMF04x8BzgWGegh/DcgaG22fuiBcw\n",
       "AAATyhBrnyPYZQAAAABJRU5ErkJggg==\n",
       "\" style=\"display:inline;vertical-align:middle;\" /></a></td></tr>\n",
       "<tr><td>7</td><td>Literal</td><td></td><td><a class=\"ProveItLink\" href=\"__pv_it/basic_expressions/81c2aa9122f16828c2971b1716ed07078c5dd6000/expr.ipynb\"><img src=\"data:image/png;base64,iVBORw0KGgoAAAANSUhEUgAAAAkAAAAOBAMAAAAPuiubAAAAMFBMVEX///8iIiK6urpERETc3NyI\n",
       "iIhUVFR2dnYQEBCqqqpmZmbMzMzu7u6YmJgyMjIAAABZcJOfAAAAAXRSTlMAQObYZgAAAE1JREFU\n",
       "CNdj4LvDvZKBgeP//wIGBr6yEAYGBjYGBgR5N2oDAwPzAZZPYK4hmFzvwJDHwFCvwNAHZB9gWMDA\n",
       "IMfA4MXA28LAwLI86wADAK3wEDcX5lPUAAAAAElFTkSuQmCC\n",
       "\" style=\"display:inline;vertical-align:middle;\" /></a></td></tr>\n",
       "<tr><td>8</td><td>Variable</td><td></td><td><a class=\"ProveItLink\" href=\"__pv_it/basic_expressions/78a68196d231f7f9081c22150ae1da14f50cc59b0/expr.ipynb\"><img src=\"data:image/png;base64,iVBORw0KGgoAAAANSUhEUgAAAA0AAAAJBAMAAAAbVLtZAAAAMFBMVEX///8QEBBERETMzMwyMjKq\n",
       "qqp2dnZmZmaIiIju7u6YmJi6uroiIiLc3NxUVFQAAABheaknAAAAAXRSTlMAQObYZgAAAE5JREFU\n",
       "CNcNxbENQEAAAMBLJIheojcIC0isoNL+CG8FCzCC3hIqlcIQEi3XHDeuTbH9L1H2J+3ttIpDlAQp\n",
       "Qd47qTVBxzCW77AyP8dU8QENTA/yxpazbgAAAABJRU5ErkJggg==\n",
       "\" style=\"display:inline;vertical-align:middle;\" /></a></td></tr>\n",
       "</table>\n"
      ],
      "text/plain": [
       "0. (x * 5 * omega)!\n",
       "   core type: Operation\n",
       "   operator: 1\n",
       "   operand: 3\n",
       "1. !\n",
       "   core type: Literal\n",
       "   sub-expressions: \n",
       "2. (x * 5 * omega)\n",
       "   core type: ExprTuple\n",
       "   sub-expressions: 3\n",
       "3. x * 5 * omega\n",
       "   core type: Operation\n",
       "   operator: 4\n",
       "   operands: 5\n",
       "4. *\n",
       "   core type: Literal\n",
       "   sub-expressions: \n",
       "5. (x, 5, omega)\n",
       "   core type: ExprTuple\n",
       "   sub-expressions: 6, 7, 8\n",
       "6. x\n",
       "   core type: Variable\n",
       "   sub-expressions: \n",
       "7. 5\n",
       "   core type: Literal\n",
       "   sub-expressions: \n",
       "8. omega\n",
       "   core type: Variable\n",
       "   sub-expressions: "
      ]
     },
     "execution_count": 54,
     "metadata": {},
     "output_type": "execute_result"
    }
   ],
   "source": [
    "nested_operation.expr_info()"
   ]
  },
  {
   "cell_type": "markdown",
   "metadata": {},
   "source": [
    "### Operand substitution\n",
    "\n",
    "*Substitution* of *operands* is straightforward in the way it works."
   ]
  },
  {
   "cell_type": "code",
   "execution_count": 55,
   "metadata": {},
   "outputs": [
    {
     "data": {
      "text/html": [
       "<a class=\"ProveItLink\" href=\"__pv_it/basic_expressions/98e3a1e6a4713f1651de16134c20cc9710856e750/expr.ipynb\"><img src=\"data:image/png;base64,iVBORw0KGgoAAAANSUhEUgAAABIAAAAOBAMAAADQ9FGEAAAAMFBMVEX///8QEBBERETMzMwyMjKq\n",
       "qqp2dnZmZmaIiIju7u6YmJi6uroiIiLc3NxUVFQAAABheaknAAAAAXRSTlMAQObYZgAAAG5JREFU\n",
       "CNdjYICCczAG70cYi/MPjMXwBc6SY2B4AKTubGBwZ+DaAGTNb2DQYGAHSbEFMFQx7GZgcGDgusCQ\n",
       "zdDAwFzAwMbAsJihgIEjgOEaA8MEBmUG+wIGX5DixHTR74kLGDhFGCZ9udAoAXIBAN+4F0fvFe35\n",
       "AAAAAElFTkSuQmCC\n",
       "\" style=\"display:inline;vertical-align:middle;\" /></a>"
      ],
      "text/plain": [
       "omega!"
      ]
     },
     "execution_count": 55,
     "metadata": {},
     "output_type": "execute_result"
    }
   ],
   "source": [
    "x_factorial.replaced({x:omega})"
   ]
  },
  {
   "cell_type": "markdown",
   "metadata": {},
   "source": [
    "Notice that the substituted() method is non-mutating, leaving the **x_factorial** expression as it was originally defined:"
   ]
  },
  {
   "cell_type": "code",
   "execution_count": 56,
   "metadata": {},
   "outputs": [
    {
     "data": {
      "text/html": [
       "<a class=\"ProveItLink\" href=\"__pv_it/basic_expressions/12243df04a88214c0b0313ad3001f62c4d3add830/expr.ipynb\"><img src=\"data:image/png;base64,iVBORw0KGgoAAAANSUhEUgAAABAAAAAOBAMAAADUAYG5AAAAMFBMVEX///8QEBBmZmaqqqrMzMxE\n",
       "REQyMjIiIiKYmJh2dna6urrc3NxUVFSIiIju7u4AAAA6P00QAAAAAXRSTlMAQObYZgAAAGVJREFU\n",
       "CNdjYICAGijN/RHK4PsOZTB8gzFkGBje3tl18wJDEgPfBI5a9gSGWAbOB5z/uDYwaDDwMbAGANXM\n",
       "AmL+C0CiBYj9HYDEAwbmB/cZeB8AmesN4hl2MPCJMby5+1ajAWgpAPRMGUk8QbeyAAAAAElFTkSu\n",
       "QmCC\n",
       "\" style=\"display:inline;vertical-align:middle;\" /></a>"
      ],
      "text/plain": [
       "x!"
      ]
     },
     "execution_count": 56,
     "metadata": {},
     "output_type": "execute_result"
    }
   ],
   "source": [
    "x_factorial"
   ]
  },
  {
   "cell_type": "markdown",
   "metadata": {},
   "source": [
    "We can also substitute an entire expression in for the variable $x$:"
   ]
  },
  {
   "cell_type": "code",
   "execution_count": 57,
   "metadata": {},
   "outputs": [
    {
     "data": {
      "text/html": [
       "<strong id=\"nested_operation_from_sub\">nested_operation_from_sub:</strong> <a class=\"ProveItLink\" href=\"__pv_it/basic_expressions/c73bd630115bb10debeadb4fc6b77571ba725d650/expr.ipynb\"><img src=\"data:image/png;base64,iVBORw0KGgoAAAANSUhEUgAAAGkAAAAUBAMAAAB8EA4WAAAAMFBMVEX////MzMxUVFR2dna6uroQ\n",
       "EBCqqqqIiIgiIiJmZmYyMjJERETu7u6YmJjc3NwAAACgK8IjAAAAAXRSTlMAQObYZgAAAYtJREFU\n",
       "OMuVlL9Lw0AUx79tWtv8aMzaRbp1UoqDRRDMppMI6ij6B4h2UgodUhARp4i4ORw4W3D2V0EKgoMd\n",
       "FF0sGatLI4pFEPXummpSLkIf3B33ee97vHv3EkCvow9b9dZrofeoml4W8agDJDNARaha+n4Vco0A\n",
       "rVmkbKH3MOuIU8wDNxaSYm8m7GI1YJCg6UfHdDwHVH/EM8VEPIMiS3ZjZCrPUNOAXubO4ftdBEiU\n",
       "Dn0TkGwoNs7o7hIPhR3mogE0jNkpWmaA3LLT20CKQC1gi+4mMFmd6Rw9VO6moloBwos2BgxYkOuY\n",
       "p5sqTrxQfdvoquQvP4mZUIAGEHEhmVwFtHtUUQLpzU8SQBrIcVXK4Bki8uKpuvnECeRPP5GBdehU\n",
       "FbOggVdjJeGiFLg7DUoSP1GNyAcUh1eD2jiVv6tup4d/66zbuHP8RJrbX9tbZOflUCOYpgXNloqP\n",
       "PW/6NHoQINpFJbFQYK9ssO4N6ahQu+JzSPeGWr6znPcl0sh/X2WYqd6F+vsDNPj8A8P5ahVoYdoU\n",
       "AAAAAElFTkSuQmCC\n",
       "\" style=\"display:inline;vertical-align:middle;\" /></a><br>"
      ],
      "text/plain": [
       "nested_operation_from_sub: (x * 5 * omega)!"
      ]
     },
     "execution_count": 57,
     "metadata": {},
     "output_type": "execute_result"
    }
   ],
   "source": [
    "nested_operation_from_sub = x_factorial.replaced({x:mult_expr})"
   ]
  },
  {
   "cell_type": "markdown",
   "metadata": {},
   "source": [
    "Internally, however, there is specific machinery required to regenerate these objects and construct them with the proper classes.  In order for this machinery to work, the `_operator_` class attribute must be properly defined (e.g., `Factorial._operator_` and `Multiply._operator_`).  To demonstrate that this is working properly, note that the classes displayed in the detailed expression info from `expr_info()` are as they should be:"
   ]
  },
  {
   "cell_type": "code",
   "execution_count": 58,
   "metadata": {},
   "outputs": [
    {
     "data": {
      "text/html": [
       "<table><tr><th>&nbsp;</th><th>core type</th><th>sub-expressions</th><th>expression</th></tr>\n",
       "<tr><td>0</td><td>Operation</td><td>operator:&nbsp;1<br>operand:&nbsp;3<br></td><td><a class=\"ProveItLink\" href=\"__pv_it/basic_expressions/c73bd630115bb10debeadb4fc6b77571ba725d650/expr.ipynb\"><img src=\"data:image/png;base64,iVBORw0KGgoAAAANSUhEUgAAAGkAAAAUBAMAAAB8EA4WAAAAMFBMVEX////MzMxUVFR2dna6uroQ\n",
       "EBCqqqqIiIgiIiJmZmYyMjJERETu7u6YmJjc3NwAAACgK8IjAAAAAXRSTlMAQObYZgAAAYtJREFU\n",
       "OMuVlL9Lw0AUx79tWtv8aMzaRbp1UoqDRRDMppMI6ij6B4h2UgodUhARp4i4ORw4W3D2V0EKgoMd\n",
       "FF0sGatLI4pFEPXummpSLkIf3B33ee97vHv3EkCvow9b9dZrofeoml4W8agDJDNARaha+n4Vco0A\n",
       "rVmkbKH3MOuIU8wDNxaSYm8m7GI1YJCg6UfHdDwHVH/EM8VEPIMiS3ZjZCrPUNOAXubO4ftdBEiU\n",
       "Dn0TkGwoNs7o7hIPhR3mogE0jNkpWmaA3LLT20CKQC1gi+4mMFmd6Rw9VO6moloBwos2BgxYkOuY\n",
       "p5sqTrxQfdvoquQvP4mZUIAGEHEhmVwFtHtUUQLpzU8SQBrIcVXK4Bki8uKpuvnECeRPP5GBdehU\n",
       "FbOggVdjJeGiFLg7DUoSP1GNyAcUh1eD2jiVv6tup4d/66zbuHP8RJrbX9tbZOflUCOYpgXNloqP\n",
       "PW/6NHoQINpFJbFQYK9ssO4N6ahQu+JzSPeGWr6znPcl0sh/X2WYqd6F+vsDNPj8A8P5ahVoYdoU\n",
       "AAAAAElFTkSuQmCC\n",
       "\" style=\"display:inline;vertical-align:middle;\" /></a></td></tr>\n",
       "<tr><td colspan=4 style=\"text-align:left\"><strong>class:</strong> tutorial.demo_operations.Factorial</td></tr>\n",
       "<tr><td>1</td><td>Literal</td><td></td><td><a class=\"ProveItLink\" href=\"__pv_it/basic_expressions/8728c1bffccb7db650045028f6b5e694aec8423e0/expr.ipynb\"><img src=\"data:image/png;base64,iVBORw0KGgoAAAANSUhEUgAAAAMAAAAOBAMAAAAYmLtSAAAALVBMVEX////MzMy6urp2dnaYmJiI\n",
       "iIhERERmZmYyMjLu7u4QEBDc3NxUVFQiIiIAAADD04JwAAAAAXRSTlMAQObYZgAAADBJREFUCNdj\n",
       "4D3AsG8Bw7wLDHwNDFwHGDgKGNgCGNgdGJgVGFgEGDgZQGBWAwPvAQDOHwguCCEr4AAAAABJRU5E\n",
       "rkJggg==\n",
       "\" style=\"display:inline;vertical-align:middle;\" /></a></td></tr>\n",
       "<tr><td colspan=4 style=\"text-align:left\"><strong>theory:</strong> tutorial</td></tr>\n",
       "<tr><td>2</td><td>ExprTuple</td><td>3</td><td><a class=\"ProveItLink\" href=\"__pv_it/basic_expressions/1a592213d6588a3ebce0f01fd23639d777e3c79c0/expr.ipynb\"><img src=\"data:image/png;base64,iVBORw0KGgoAAAANSUhEUgAAAGMAAAAUBAMAAABrMp7fAAAAMFBMVEX////MzMxUVFR2dna6uroQ\n",
       "EBCqqqqIiIgiIiJmZmYyMjJERETu7u6YmJjc3NwAAACgK8IjAAAAAXRSTlMAQObYZgAAAWdJREFU\n",
       "KM+Vk7FLw0AUxr82sWmSNmbtom5OQnBQ3Dq6Oaij2L9Ai4LiZApSHSPiphBwtuiuNghSwaWD4iYZ\n",
       "HKIgCgoiFPVdbDBX7oY+uDvu9+477rt7B1ht9BFLrLsRpo6DUkXEsyF1DaFk8eddyAs+UPSEqaPR\n",
       "UHyySSAvTo3IzFwBUXp+Su2Zk/yTbhhlbNDQWnlcrbJ5ZMOqxZmx+11wJEvN2gIUD+dkySlu533G\n",
       "KUtrWJzhtcyRW+b9k7z7qJMwUDrqn6VoqJacwHQ5Et/SBJBzMUdimCfdddaOnUj07zRRyzCAByDz\n",
       "xiTAYLVHkvWhfKSJBpQAJ5bUGRhO9k6OMeBD76SJDqzBIonqMvu5YBNawJmlFfyFmHbmC0YY258C\n",
       "ZipNvPBXanm4C9NEmd1f3ltgmzmYBi7XW4ftnod7Gj/gSKHZ0OaZY8OWFYw0rqVlKQ0qS1z0pWDF\n",
       "L/lisjCZj/4+Mr3/LxlWY6NoCYKGAAAAAElFTkSuQmCC\n",
       "\" style=\"display:inline;vertical-align:middle;\" /></a></td></tr>\n",
       "<tr><td>3</td><td>Operation</td><td>operator:&nbsp;4<br>operands:&nbsp;5<br></td><td><a class=\"ProveItLink\" href=\"__pv_it/basic_expressions/5d15a6a036bbebad17297984ec09e80a561b662b0/expr.ipynb\"><img src=\"data:image/png;base64,iVBORw0KGgoAAAANSUhEUgAAAFYAAAAOBAMAAABHpfZeAAAAMFBMVEX///8QEBBmZmaqqqrMzMxE\n",
       "REQyMjIiIiKYmJh2dna6urrc3NxUVFSIiIju7u4AAAA6P00QAAAAAXRSTlMAQObYZgAAAPVJREFU\n",
       "KM9jYMACMh44GTAQCeT//yRWKUPm2Q1Eqz1AUEUIEG9DUYsQgYK3d3bdvABibHdg4C4BC53oVWFA\n",
       "EeEBYu4qBr4JHLXsCSABoDBQEgTiGPYvQBHpAmK+vwycDzj/cUG8st27BGYZawGKiAKImMzAx8Aa\n",
       "AFXAXe4AU8v0G1mEawEDGwNDN5DFfwFNLU8CA+cvZBFeBgYnBoYJQJY/zDSYjYwJDEz/kEWYGBgu\n",
       "M3BPYGB+cJ+B9wGKT4BSqL5ldWD5xMC2gWG9QTzDDtQQ4lZgaNyALMIpqWivKcHA8ObuW40GtJDf\n",
       "NEcPRYQvPptX8AIDAOdZR7o2Dx8AAAAAAElFTkSuQmCC\n",
       "\" style=\"display:inline;vertical-align:middle;\" /></a></td></tr>\n",
       "<tr><td colspan=4 style=\"text-align:left\"><strong>class:</strong> tutorial.demo_operations.Multiply</td></tr>\n",
       "<tr><td>4</td><td>Literal</td><td></td><td><a class=\"ProveItLink\" href=\"__pv_it/basic_expressions/91fc98f4a17b1dfe3b62bc90c83d05c36a4fd46b0/expr.ipynb\"><img src=\"data:image/png;base64,iVBORw0KGgoAAAANSUhEUgAAAAsAAAAKBAMAAACQ3rmwAAAAFVBMVEX///8iIiIyMjLc3NzMzMxE\n",
       "REQAAAAK/UhIAAAAAXRSTlMAQObYZgAAACtJREFUCNdjCGFgYDBiYDB0YGAWYQBhIAvIdQZygFxB\n",
       "ByQKIghVAtUA0Q4ArewE5fVTM0UAAAAASUVORK5CYII=\n",
       "\" style=\"display:inline;vertical-align:middle;\" /></a></td></tr>\n",
       "<tr><td colspan=4 style=\"text-align:left\"><strong>theory:</strong> tutorial</td></tr>\n",
       "<tr><td>5</td><td>ExprTuple</td><td>6, 7, 8</td><td><a class=\"ProveItLink\" href=\"__pv_it/basic_expressions/d41939176c965943a987756badfc7e49491fedda0/expr.ipynb\"><img src=\"data:image/png;base64,iVBORw0KGgoAAAANSUhEUgAAAEMAAAAUBAMAAAAkb50PAAAAMFBMVEX////MzMxUVFR2dna6uroQ\n",
       "EBCqqqqIiIgiIiJmZmYyMjJERETu7u6YmJjc3NwAAACgK8IjAAAAAXRSTlMAQObYZgAAAVZJREFU\n",
       "KM9jYOC7wIAH5IGI0yhCaw9IJiDzmR4AiXUoSuL/f0bh8yxgYOCdgCK0WP0Bqk3mDAwcqEIK6I45\n",
       "ysDwggG/Ei4HhkqQheV67uYQEd3rE6HuBGK+FgYG5gkMe4HMwww3CrogMnsY3juAGVdAWr8D3bqA\n",
       "oQ3ItGGwP+AHM5m7AUyBfWHGwMDWwBACZB1g2I2wnPMfiGRxYOBiYLjHwMD4AayEgeE7LKQWMDB/\n",
       "ATHYGRgkGRgMwEpAFjEwfoQqYV3AwPkHbBYDQxkDH1AJSwPYuTnsHxhqGKAyHAvALhJg/MnA9QDs\n",
       "XEugwm/cH4CReR4oxzeB4eoDnl9AvwZPzZ8cC9JkwOAB9Jt6TeVdoPYeoMhLozkMDB0HGHj2r2MP\n",
       "LQAFnQByBOTAGGwHEB48gRKNBjAGM2o0MuyDx3sBjHUcNTEgkhQvXBwpHXKD3IE/YQLDFwD+aE8i\n",
       "k6qGQAAAAABJRU5ErkJggg==\n",
       "\" style=\"display:inline;vertical-align:middle;\" /></a></td></tr>\n",
       "<tr><td>6</td><td>Variable</td><td></td><td><a class=\"ProveItLink\" href=\"__pv_it/basic_expressions/a2581dc5df71d9a30bad37de14965fa5fec97a240/expr.ipynb\"><img src=\"data:image/png;base64,iVBORw0KGgoAAAANSUhEUgAAAAsAAAAJBAMAAAAWSsseAAAALVBMVEX///9mZmaqqqrMzMxEREQy\n",
       "MjIiIiKYmJh2dna6urrc3NxUVFSIiIju7u4AAACJHQtQAAAAAXRSTlMAQObYZgAAAEJJREFUCNdj\n",
       "YLhzeuWJAwy8Dew5bAEMHBc43nIuYOBlYHFgAAG+A2DKzgBIMF04x8BzgWGegh/DcgaG22fuiBcw\n",
       "AAATyhBrnyPYZQAAAABJRU5ErkJggg==\n",
       "\" style=\"display:inline;vertical-align:middle;\" /></a></td></tr>\n",
       "<tr><td>7</td><td>Literal</td><td></td><td><a class=\"ProveItLink\" href=\"__pv_it/basic_expressions/81c2aa9122f16828c2971b1716ed07078c5dd6000/expr.ipynb\"><img src=\"data:image/png;base64,iVBORw0KGgoAAAANSUhEUgAAAAkAAAAOBAMAAAAPuiubAAAAMFBMVEX///8iIiK6urpERETc3NyI\n",
       "iIhUVFR2dnYQEBCqqqpmZmbMzMzu7u6YmJgyMjIAAABZcJOfAAAAAXRSTlMAQObYZgAAAE1JREFU\n",
       "CNdj4LvDvZKBgeP//wIGBr6yEAYGBjYGBgR5N2oDAwPzAZZPYK4hmFzvwJDHwFCvwNAHZB9gWMDA\n",
       "IMfA4MXA28LAwLI86wADAK3wEDcX5lPUAAAAAElFTkSuQmCC\n",
       "\" style=\"display:inline;vertical-align:middle;\" /></a></td></tr>\n",
       "<tr><td colspan=4 style=\"text-align:left\"><strong>theory:</strong> tutorial</td></tr>\n",
       "<tr><td>8</td><td>Variable</td><td></td><td><a class=\"ProveItLink\" href=\"__pv_it/basic_expressions/78a68196d231f7f9081c22150ae1da14f50cc59b0/expr.ipynb\"><img src=\"data:image/png;base64,iVBORw0KGgoAAAANSUhEUgAAAA0AAAAJBAMAAAAbVLtZAAAAMFBMVEX///8QEBBERETMzMwyMjKq\n",
       "qqp2dnZmZmaIiIju7u6YmJi6uroiIiLc3NxUVFQAAABheaknAAAAAXRSTlMAQObYZgAAAE5JREFU\n",
       "CNcNxbENQEAAAMBLJIheojcIC0isoNL+CG8FCzCC3hIqlcIQEi3XHDeuTbH9L1H2J+3ttIpDlAQp\n",
       "Qd47qTVBxzCW77AyP8dU8QENTA/yxpazbgAAAABJRU5ErkJggg==\n",
       "\" style=\"display:inline;vertical-align:middle;\" /></a></td></tr>\n",
       "</table>\n"
      ],
      "text/plain": [
       "0. (x * 5 * omega)!\n",
       "   core type: Operation\n",
       "   class: <class 'demo_operations.Factorial'>\n",
       "   operator: 1\n",
       "   operand: 3\n",
       "1. !\n",
       "   core type: Literal\n",
       "   latex_format: !\n",
       "   theory: tutorial\n",
       "   class: <class 'proveit._core_.expression.label.literal.Literal'>\n",
       "   sub-expressions: \n",
       "2. (x * 5 * omega)\n",
       "   core type: ExprTuple\n",
       "   class: <class 'proveit._core_.expression.composite.expr_tuple.ExprTuple'>\n",
       "   sub-expressions: 3\n",
       "3. x * 5 * omega\n",
       "   core type: Operation\n",
       "   class: <class 'demo_operations.Multiply'>\n",
       "   operator: 4\n",
       "   operands: 5\n",
       "4. *\n",
       "   core type: Literal\n",
       "   latex_format: \\times\n",
       "   theory: tutorial\n",
       "   class: <class 'proveit._core_.expression.label.literal.Literal'>\n",
       "   sub-expressions: \n",
       "5. (x, 5, omega)\n",
       "   core type: ExprTuple\n",
       "   class: <class 'proveit._core_.expression.composite.expr_tuple.ExprTuple'>\n",
       "   sub-expressions: 6, 7, 8\n",
       "6. x\n",
       "   core type: Variable\n",
       "   latex_format: x\n",
       "   class: <class 'proveit._core_.expression.label.var.Variable'>\n",
       "   sub-expressions: \n",
       "7. 5\n",
       "   core type: Literal\n",
       "   latex_format: 5\n",
       "   theory: tutorial\n",
       "   class: <class 'proveit._core_.expression.label.literal.Literal'>\n",
       "   sub-expressions: \n",
       "8. omega\n",
       "   core type: Variable\n",
       "   latex_format: \\omega\n",
       "   class: <class 'proveit._core_.expression.label.var.Variable'>\n",
       "   sub-expressions: "
      ]
     },
     "execution_count": 58,
     "metadata": {},
     "output_type": "execute_result"
    }
   ],
   "source": [
    "nested_operation_from_sub.expr_info(details=True)"
   ]
  },
  {
   "cell_type": "markdown",
   "metadata": {},
   "source": [
    "Furthermore, this expression that we obtained via substitution is equivalent to the one constructed directly:"
   ]
  },
  {
   "cell_type": "code",
   "execution_count": 59,
   "metadata": {},
   "outputs": [
    {
     "name": "stdout",
     "output_type": "stream",
     "text": [
      "Expressions, generated in different ways, are the same: True\n"
     ]
    }
   ],
   "source": [
    "print(\"Expressions, generated in different ways, are the same:\", \n",
    "      (nested_operation_from_sub == nested_operation))"
   ]
  },
  {
   "cell_type": "markdown",
   "metadata": {},
   "source": [
    "### Operator substitution\n",
    "\n",
    "The *operator* itself may likewise be *substituted*, but with some interesting extra capabilities."
   ]
  },
  {
   "cell_type": "markdown",
   "metadata": {},
   "source": [
    "It is straightforward to substitute a **Variable** *operator* with another **Variable** (i.e., relabel). Here we relabel the $f$ in $f(x)$ to $g$ to obtain $g(x)$:"
   ]
  },
  {
   "cell_type": "code",
   "execution_count": 60,
   "metadata": {},
   "outputs": [
    {
     "data": {
      "text/html": [
       "<a class=\"ProveItLink\" href=\"../packages/proveit/__pv_it/common/0d87c25c91799e68f1184fc1618eb64c91fa3bb90/expr.ipynb\"><img src=\"data:image/png;base64,iVBORw0KGgoAAAANSUhEUgAAACUAAAAUBAMAAAD4luk4AAAAMFBMVEX///8yMjK6urpUVFQiIiKY\n",
       "mJjMzMwQEBDu7u7c3Nx2dnZERESIiIhmZmaqqqoAAAA6bD3aAAAAAXRSTlMAQObYZgAAAOtJREFU\n",
       "GNNjYICCqVD6JQMccGyAMpgnwMUYYUwOAbhYLJy1Bs7yhLPaYQxOB4QpCkDi7ZnXDDwXgCadsdQB\n",
       "auQCMrk2cP5l4A5gYOhiCDngyMDACrTkfQPDPwaWBwwMKxjWN2gyMPABjalmYPvBwA40pIFhN8g8\n",
       "tg8MbF8ZeBzAYgwMf6BirD8ZuC+A9TKwfQOJMTkw8H1g4H8AtuMFzweGE2A7OH4y2DeAHMD0j/sD\n",
       "J1CKdwEDg/KpJWANHDYnzoaC3JwAMmEvit9agAYzcHxCD4P1DUBrGRi4kcNKOeYeSphyI8IUHvaR\n",
       "DAwAhys5w1WDmaIAAAAASUVORK5CYII=\n",
       "\" style=\"display:inline;vertical-align:middle;\" /></a>"
      ],
      "text/plain": [
       "g(x)"
      ]
     },
     "execution_count": 60,
     "metadata": {},
     "output_type": "execute_result"
    }
   ],
   "source": [
    "from proveit import g\n",
    "fx.replaced({f:g}) # Variable operator to a different Variable"
   ]
  },
  {
   "cell_type": "markdown",
   "metadata": {},
   "source": [
    "And it is straightforward to *substitute* a **Variable** *operator* with a **Literal**."
   ]
  },
  {
   "cell_type": "code",
   "execution_count": 61,
   "metadata": {},
   "outputs": [
    {
     "data": {
      "text/html": [
       "<strong id=\"x_factorial_from_fx\">x_factorial_from_fx:</strong> <a class=\"ProveItLink\" href=\"__pv_it/basic_expressions/12243df04a88214c0b0313ad3001f62c4d3add830/expr.ipynb\"><img src=\"data:image/png;base64,iVBORw0KGgoAAAANSUhEUgAAABAAAAAOBAMAAADUAYG5AAAAMFBMVEX///8QEBBmZmaqqqrMzMxE\n",
       "REQyMjIiIiKYmJh2dna6urrc3NxUVFSIiIju7u4AAAA6P00QAAAAAXRSTlMAQObYZgAAAGVJREFU\n",
       "CNdjYICAGijN/RHK4PsOZTB8gzFkGBje3tl18wJDEgPfBI5a9gSGWAbOB5z/uDYwaDDwMbAGANXM\n",
       "AmL+C0CiBYj9HYDEAwbmB/cZeB8AmesN4hl2MPCJMby5+1ajAWgpAPRMGUk8QbeyAAAAAElFTkSu\n",
       "QmCC\n",
       "\" style=\"display:inline;vertical-align:middle;\" /></a><br>"
      ],
      "text/plain": [
       "x_factorial_from_fx: x!"
      ]
     },
     "execution_count": 61,
     "metadata": {},
     "output_type": "execute_result"
    }
   ],
   "source": [
    "x_factorial_from_fx = fx.replaced({f:FACTORIAL})"
   ]
  },
  {
   "cell_type": "code",
   "execution_count": 62,
   "metadata": {},
   "outputs": [
    {
     "data": {
      "text/html": [
       "<table><tr><th>&nbsp;</th><th>core type</th><th>sub-expressions</th><th>expression</th></tr>\n",
       "<tr><td>0</td><td>Operation</td><td>operator:&nbsp;1<br>operand:&nbsp;3<br></td><td><a class=\"ProveItLink\" href=\"__pv_it/basic_expressions/12243df04a88214c0b0313ad3001f62c4d3add830/expr.ipynb\"><img src=\"data:image/png;base64,iVBORw0KGgoAAAANSUhEUgAAABAAAAAOBAMAAADUAYG5AAAAMFBMVEX///8QEBBmZmaqqqrMzMxE\n",
       "REQyMjIiIiKYmJh2dna6urrc3NxUVFSIiIju7u4AAAA6P00QAAAAAXRSTlMAQObYZgAAAGVJREFU\n",
       "CNdjYICAGijN/RHK4PsOZTB8gzFkGBje3tl18wJDEgPfBI5a9gSGWAbOB5z/uDYwaDDwMbAGANXM\n",
       "AmL+C0CiBYj9HYDEAwbmB/cZeB8AmesN4hl2MPCJMby5+1ajAWgpAPRMGUk8QbeyAAAAAElFTkSu\n",
       "QmCC\n",
       "\" style=\"display:inline;vertical-align:middle;\" /></a></td></tr>\n",
       "<tr><td colspan=4 style=\"text-align:left\"><strong>class:</strong> tutorial.demo_operations.Factorial</td></tr>\n",
       "<tr><td>1</td><td>Literal</td><td></td><td><a class=\"ProveItLink\" href=\"__pv_it/basic_expressions/8728c1bffccb7db650045028f6b5e694aec8423e0/expr.ipynb\"><img src=\"data:image/png;base64,iVBORw0KGgoAAAANSUhEUgAAAAMAAAAOBAMAAAAYmLtSAAAALVBMVEX////MzMy6urp2dnaYmJiI\n",
       "iIhERERmZmYyMjLu7u4QEBDc3NxUVFQiIiIAAADD04JwAAAAAXRSTlMAQObYZgAAADBJREFUCNdj\n",
       "4D3AsG8Bw7wLDHwNDFwHGDgKGNgCGNgdGJgVGFgEGDgZQGBWAwPvAQDOHwguCCEr4AAAAABJRU5E\n",
       "rkJggg==\n",
       "\" style=\"display:inline;vertical-align:middle;\" /></a></td></tr>\n",
       "<tr><td colspan=4 style=\"text-align:left\"><strong>theory:</strong> tutorial</td></tr>\n",
       "<tr><td>2</td><td>ExprTuple</td><td>3</td><td><a class=\"ProveItLink\" href=\"../packages/proveit/__pv_it/common/a49c8f25f899a16b1dbcf2257505d5464a9a7bb50/expr.ipynb\"><img src=\"data:image/png;base64,iVBORw0KGgoAAAANSUhEUgAAABgAAAAUBAMAAABlm+CwAAAAMFBMVEX////MzMxUVFR2dna6uroQ\n",
       "EBCqqqqIiIgiIiJmZmYyMjJERETu7u6YmJjc3NwAAACgK8IjAAAAAXRSTlMAQObYZgAAAKBJREFU\n",
       "GNNjYOC7wAAGbA+AxGkGKNAD4nUwzikGBt4JMA5zAQPHAxiHJ4DhBQMcLGGoBJLHi54UFzAwWDLs\n",
       "Bcob8LZzLGBguMXQBtR5gPkPC1BrBkMIUIaBewNIjzyIw8DAXwDhtIEpARDpATKA7UA9A/sBkAGW\n",
       "DAz+CfsZ3gJlJgPlGA6VH58LcvpCZOc0oDqUYR+SFxCeA4nCvM37gAEAoUwoFGD2AiwAAAAASUVO\n",
       "RK5CYII=\n",
       "\" style=\"display:inline;vertical-align:middle;\" /></a></td></tr>\n",
       "<tr><td>3</td><td>Variable</td><td></td><td><a class=\"ProveItLink\" href=\"__pv_it/basic_expressions/a2581dc5df71d9a30bad37de14965fa5fec97a240/expr.ipynb\"><img src=\"data:image/png;base64,iVBORw0KGgoAAAANSUhEUgAAAAsAAAAJBAMAAAAWSsseAAAALVBMVEX///9mZmaqqqrMzMxEREQy\n",
       "MjIiIiKYmJh2dna6urrc3NxUVFSIiIju7u4AAACJHQtQAAAAAXRSTlMAQObYZgAAAEJJREFUCNdj\n",
       "YLhzeuWJAwy8Dew5bAEMHBc43nIuYOBlYHFgAAG+A2DKzgBIMF04x8BzgWGegh/DcgaG22fuiBcw\n",
       "AAATyhBrnyPYZQAAAABJRU5ErkJggg==\n",
       "\" style=\"display:inline;vertical-align:middle;\" /></a></td></tr>\n",
       "</table>\n"
      ],
      "text/plain": [
       "0. x!\n",
       "   core type: Operation\n",
       "   class: <class 'demo_operations.Factorial'>\n",
       "   operator: 1\n",
       "   operand: 3\n",
       "1. !\n",
       "   core type: Literal\n",
       "   latex_format: !\n",
       "   theory: tutorial\n",
       "   class: <class 'proveit._core_.expression.label.literal.Literal'>\n",
       "   sub-expressions: \n",
       "2. (x)\n",
       "   core type: ExprTuple\n",
       "   class: <class 'proveit._core_.expression.composite.expr_tuple.ExprTuple'>\n",
       "   sub-expressions: 3\n",
       "3. x\n",
       "   core type: Variable\n",
       "   latex_format: x\n",
       "   class: <class 'proveit._core_.expression.label.var.Variable'>\n",
       "   sub-expressions: "
      ]
     },
     "execution_count": 62,
     "metadata": {},
     "output_type": "execute_result"
    }
   ],
   "source": [
    "x_factorial_from_fx.expr_info(details=True)"
   ]
  },
  {
   "cell_type": "code",
   "execution_count": 63,
   "metadata": {},
   "outputs": [],
   "source": [
    "assert x_factorial_from_fx == x_factorial # Same"
   ]
  },
  {
   "cell_type": "markdown",
   "metadata": {},
   "source": [
    "It is able to generate the new **expression** in the appropriate `Factorial` class via the internal mechanisms that use its `_operator_` class attribute."
   ]
  },
  {
   "cell_type": "markdown",
   "metadata": {},
   "source": [
    "Performing an *expression substitution* of a `Literal` *operator* within an `Operation` class will typically be blocked because it will not know how to make the new **expression**:"
   ]
  },
  {
   "cell_type": "code",
   "execution_count": 64,
   "metadata": {},
   "outputs": [
    {
     "name": "stdout",
     "output_type": "stream",
     "text": [
      "EXPECTED ERROR: An implicit operator may not be changed\n"
     ]
    }
   ],
   "source": [
    "from proveit import OperationError\n",
    "# But this will typically be prevented (appropriately) in trying to remake a derived Operation class:\n",
    "try:\n",
    "    x_factorial.replaced({FACTORIAL:SUMMATION})\n",
    "    assert False, \"Expecting an OperationError error; should not make it to this point\"\n",
    "except OperationError as e:\n",
    "    print(\"EXPECTED ERROR:\", e)"
   ]
  },
  {
   "cell_type": "markdown",
   "metadata": {},
   "source": [
    "### <a name=\"Operation_sub\"></a>Operation substitution"
   ]
  },
  {
   "cell_type": "markdown",
   "metadata": {},
   "source": [
    "The more interesting and useful case is to *substitute* the `Operation` itself. Here we convert $f(x)$ to $x!$ by substituting a `Lambda` mapping for the function variabe $f$:"
   ]
  },
  {
   "cell_type": "code",
   "execution_count": 65,
   "metadata": {},
   "outputs": [
    {
     "data": {
      "text/html": [
       "<strong id=\"fancy_factorial_map\">fancy_factorial_map:</strong> <a class=\"ProveItLink\" href=\"__pv_it/basic_expressions/2148ef24a997c5fbdde4f3991cc0d99319dbb3260/expr.ipynb\"><img src=\"data:image/png;base64,iVBORw0KGgoAAAANSUhEUgAAAG4AAAAUCAMAAABbPPhuAAAANlBMVEX///8oKCgNDQ0iIiKYmJhU\n",
       "VFTMzMxEREQyMjKqqqq6urp2dnYQEBDc3NxmZmaIiIju7u4AAADK3kTVAAAAAXRSTlMAQObYZgAA\n",
       "AWdJREFUSMedVtuygyAM5ByuItf//9kSwJZAZlR4EJ3usmxCQhl7Obxge+PwG6SkN0hcwlNu6JkN\n",
       "js+u7tS8ZoqwE5HM63zGO2SczPCdBLDcfCV3m1/sxnMaplX/nY6Xkz0TtmjGACa9S52K7WCzTX2m\n",
       "lG2oYVowpm/6LPPJLJiMmRQ4kLpuVTBTutCohjC6J00Y5g8WIARak3Is6jR4PeraM6XpITWECb1W\n",
       "D87KYg7E83Vs/v8MGjnbXxLq60JpeqMaxpx9BQVWbU7wdoF5Qu4st2ySWyiEHMIINchV09HRh0OZ\n",
       "Ub0Fc6EQwUSY9N06hFdeD0IOd5F+VGYKdVRWTD0qZRsSnH87L2rBFtfd2T8nClUIAya5Xo7hhC8Z\n",
       "Y8h0uwhTPrr1mUKV+YDhV5mrMdBPervHubkZGJNgs9JAE7VvWvQTCoGpLZqLX9nfD+0fUlZMu4Bs\n",
       "CbF6d70+oawYvXObbP95EKD2AZh/EBpMbRs8AAAAAElFTkSuQmCC\n",
       "\" style=\"display:inline;vertical-align:middle;\" /></a><br>"
      ],
      "text/plain": [
       "fancy_factorial_map: y -> (y * y!)"
      ]
     },
     "execution_count": 65,
     "metadata": {},
     "output_type": "execute_result"
    }
   ],
   "source": [
    "from proveit import Lambda\n",
    "fancy_factorial_map = Lambda(y, Multiply(y, Factorial(y)))"
   ]
  },
  {
   "cell_type": "markdown",
   "metadata": {},
   "source": [
    "The <a href=\"#Lambda\">`Lambda`</a> core type will be discussed in more detail below.  We use it here for a quick example."
   ]
  },
  {
   "cell_type": "code",
   "execution_count": 66,
   "metadata": {},
   "outputs": [
    {
     "data": {
      "text/html": [
       "<a class=\"ProveItLink\" href=\"__pv_it/basic_expressions/6f167e5daf04874f0b741883e4d4435e1ae2d57b0/expr.ipynb\"><img src=\"data:image/png;base64,iVBORw0KGgoAAAANSUhEUgAAADYAAAAOBAMAAACWQvIuAAAAMFBMVEX///8QEBBmZmaqqqrMzMxE\n",
       "REQyMjIiIiKYmJh2dna6urrc3NxUVFSIiIju7u4AAAA6P00QAAAAAXRSTlMAQObYZgAAAJtJREFU\n",
       "GNNjYMAJanBLcX/ELcf3HbccwzckdggQb0PiyzAwvL2z6+YFEHu7AwN3CVgUIpTEwDeBo5Y9AWx5\n",
       "CUgaZBNEKJaB8wHnP64NYOXbvSHaoEIaDHwMrAEwV5c7QFwIEZoFxPwX0OSgQi1A7A8TgZkJFXrA\n",
       "wPzgPgPvAxS3wIXWG8Qz7GBA8QNEiE+M4c3dtxoNqH6HCtUAADqGN9mWGWnnAAAAAElFTkSuQmCC\n",
       "\" style=\"display:inline;vertical-align:middle;\" /></a>"
      ],
      "text/plain": [
       "x * x!"
      ]
     },
     "execution_count": 66,
     "metadata": {},
     "output_type": "execute_result"
    }
   ],
   "source": [
    "fx.replaced({f:fancy_factorial_map})"
   ]
  },
  {
   "cell_type": "markdown",
   "metadata": {},
   "source": [
    "Note that the operand is still $x$ (not $y$).  This is substituting the *operation*, not the operand.  If desired, however, it could be substituted simultaneously:"
   ]
  },
  {
   "cell_type": "code",
   "execution_count": 67,
   "metadata": {},
   "outputs": [
    {
     "data": {
      "text/html": [
       "<strong id=\"fancy_omega_fn\">fancy_omega_fn:</strong> <a class=\"ProveItLink\" href=\"__pv_it/basic_expressions/19b0462d8bd1333b552829add72b959de58df51f0/expr.ipynb\"><img src=\"data:image/png;base64,iVBORw0KGgoAAAANSUhEUgAAADkAAAAOBAMAAABnSamjAAAAMFBMVEX///8QEBBERETMzMwyMjKq\n",
       "qqp2dnZmZmaIiIju7u6YmJi6uroiIiLc3NxUVFQAAABheaknAAAAAXRSTlMAQObYZgAAAKtJREFU\n",
       "GNNjYMANeB7gkWS4L4BPdv4BfLL8Dsg8ZSC+gsRnBNoLsvrOBhDvjgED72GwOESMpYCBCyQxvwEk\n",
       "BpQCKgACqBhTAwM7iMsWANZyxxaiFSrGvoBhNwODAwPXBbAo7xmwVpgY2waGBgbmAgY2BhRZqBiX\n",
       "AUMBA0cAwzUGFJOhYpwgb9gXMPgyoLgKIZaYLvo9cQEDio+gYhMdGCZ9udAogRYaUDGeBwApZjfI\n",
       "td6VAwAAAABJRU5ErkJggg==\n",
       "\" style=\"display:inline;vertical-align:middle;\" /></a><br>"
      ],
      "text/plain": [
       "fancy_omega_fn: omega * omega!"
      ]
     },
     "execution_count": 67,
     "metadata": {},
     "output_type": "execute_result"
    }
   ],
   "source": [
    "fancy_omega_fn = fx.replaced({f:fancy_factorial_map, x:omega})"
   ]
  },
  {
   "cell_type": "code",
   "execution_count": 68,
   "metadata": {},
   "outputs": [
    {
     "data": {
      "text/html": [
       "<table><tr><th>&nbsp;</th><th>core type</th><th>sub-expressions</th><th>expression</th></tr>\n",
       "<tr><td>0</td><td>Operation</td><td>operator:&nbsp;1<br>operands:&nbsp;2<br></td><td><a class=\"ProveItLink\" href=\"__pv_it/basic_expressions/19b0462d8bd1333b552829add72b959de58df51f0/expr.ipynb\"><img src=\"data:image/png;base64,iVBORw0KGgoAAAANSUhEUgAAADkAAAAOBAMAAABnSamjAAAAMFBMVEX///8QEBBERETMzMwyMjKq\n",
       "qqp2dnZmZmaIiIju7u6YmJi6uroiIiLc3NxUVFQAAABheaknAAAAAXRSTlMAQObYZgAAAKtJREFU\n",
       "GNNjYMANeB7gkWS4L4BPdv4BfLL8Dsg8ZSC+gsRnBNoLsvrOBhDvjgED72GwOESMpYCBCyQxvwEk\n",
       "BpQCKgACqBhTAwM7iMsWANZyxxaiFSrGvoBhNwODAwPXBbAo7xmwVpgY2waGBgbmAgY2BhRZqBiX\n",
       "AUMBA0cAwzUGFJOhYpwgb9gXMPgyoLgKIZaYLvo9cQEDio+gYhMdGCZ9udAogRYaUDGeBwApZjfI\n",
       "td6VAwAAAABJRU5ErkJggg==\n",
       "\" style=\"display:inline;vertical-align:middle;\" /></a></td></tr>\n",
       "<tr><td colspan=4 style=\"text-align:left\"><strong>class:</strong> tutorial.demo_operations.Multiply</td></tr>\n",
       "<tr><td>1</td><td>Literal</td><td></td><td><a class=\"ProveItLink\" href=\"__pv_it/basic_expressions/91fc98f4a17b1dfe3b62bc90c83d05c36a4fd46b0/expr.ipynb\"><img src=\"data:image/png;base64,iVBORw0KGgoAAAANSUhEUgAAAAsAAAAKBAMAAACQ3rmwAAAAFVBMVEX///8iIiIyMjLc3NzMzMxE\n",
       "REQAAAAK/UhIAAAAAXRSTlMAQObYZgAAACtJREFUCNdjCGFgYDBiYDB0YGAWYQBhIAvIdQZygFxB\n",
       "ByQKIghVAtUA0Q4ArewE5fVTM0UAAAAASUVORK5CYII=\n",
       "\" style=\"display:inline;vertical-align:middle;\" /></a></td></tr>\n",
       "<tr><td colspan=4 style=\"text-align:left\"><strong>theory:</strong> tutorial</td></tr>\n",
       "<tr><td>2</td><td>ExprTuple</td><td>6, 3</td><td><a class=\"ProveItLink\" href=\"__pv_it/basic_expressions/9e9d16efb5ae1d6f8a4f82fa5118681a7df5ed070/expr.ipynb\"><img src=\"data:image/png;base64,iVBORw0KGgoAAAANSUhEUgAAADcAAAAUBAMAAADbzbjtAAAAMFBMVEX////MzMxUVFR2dna6uroQ\n",
       "EBCqqqqIiIgiIiJmZmYyMjJERETu7u6YmJjc3NwAAACgK8IjAAAAAXRSTlMAQObYZgAAAQdJREFU\n",
       "KM91kj1Ow0AUhL/EkMQ/MW7T5QipQHQuKZGAkisQKiQ6FxGijIToc4LcAEgTgUQBBTVKSQcdgop5\n",
       "K9uypcXS2vP2k9/Ozi6kr3ifM3s9+8hgTHej79IHPw9JFjCc++BLAXtqsPHBHf22hg+vm+0xRDmX\n",
       "kl2NdOZmSxlpsWDOnao3jeTbwVLG53Kz4EqV87TrYClDbb5XcAxbORG823Qlgxw6Xwb7MIKJwUoO\n",
       "MwfVNoQLUgcrmViXwgzFWeeHyO23Ic3Qvjwf3U5vTkl+a8laIYQTDmT9Ydk/kffrVS0HFkLWjK+3\n",
       "aqX01Ao+aEeo4Lmvq8cWsyNrHHb7SsS23n/XRIn9AddwPMpVr8JRAAAAAElFTkSuQmCC\n",
       "\" style=\"display:inline;vertical-align:middle;\" /></a></td></tr>\n",
       "<tr><td>3</td><td>Operation</td><td>operator:&nbsp;4<br>operand:&nbsp;6<br></td><td><a class=\"ProveItLink\" href=\"__pv_it/basic_expressions/98e3a1e6a4713f1651de16134c20cc9710856e750/expr.ipynb\"><img src=\"data:image/png;base64,iVBORw0KGgoAAAANSUhEUgAAABIAAAAOBAMAAADQ9FGEAAAAMFBMVEX///8QEBBERETMzMwyMjKq\n",
       "qqp2dnZmZmaIiIju7u6YmJi6uroiIiLc3NxUVFQAAABheaknAAAAAXRSTlMAQObYZgAAAG5JREFU\n",
       "CNdjYICCczAG70cYi/MPjMXwBc6SY2B4AKTubGBwZ+DaAGTNb2DQYGAHSbEFMFQx7GZgcGDgusCQ\n",
       "zdDAwFzAwMbAsJihgIEjgOEaA8MEBmUG+wIGX5DixHTR74kLGDhFGCZ9udAoAXIBAN+4F0fvFe35\n",
       "AAAAAElFTkSuQmCC\n",
       "\" style=\"display:inline;vertical-align:middle;\" /></a></td></tr>\n",
       "<tr><td colspan=4 style=\"text-align:left\"><strong>class:</strong> tutorial.demo_operations.Factorial</td></tr>\n",
       "<tr><td>4</td><td>Literal</td><td></td><td><a class=\"ProveItLink\" href=\"__pv_it/basic_expressions/8728c1bffccb7db650045028f6b5e694aec8423e0/expr.ipynb\"><img src=\"data:image/png;base64,iVBORw0KGgoAAAANSUhEUgAAAAMAAAAOBAMAAAAYmLtSAAAALVBMVEX////MzMy6urp2dnaYmJiI\n",
       "iIhERERmZmYyMjLu7u4QEBDc3NxUVFQiIiIAAADD04JwAAAAAXRSTlMAQObYZgAAADBJREFUCNdj\n",
       "4D3AsG8Bw7wLDHwNDFwHGDgKGNgCGNgdGJgVGFgEGDgZQGBWAwPvAQDOHwguCCEr4AAAAABJRU5E\n",
       "rkJggg==\n",
       "\" style=\"display:inline;vertical-align:middle;\" /></a></td></tr>\n",
       "<tr><td colspan=4 style=\"text-align:left\"><strong>theory:</strong> tutorial</td></tr>\n",
       "<tr><td>5</td><td>ExprTuple</td><td>6</td><td><a class=\"ProveItLink\" href=\"__pv_it/basic_expressions/512f13846f01763b6ab9b8cbefea8f15aa29f64d0/expr.ipynb\"><img src=\"data:image/png;base64,iVBORw0KGgoAAAANSUhEUgAAABoAAAAUBAMAAABhbjCNAAAAMFBMVEX////MzMxUVFR2dna6uroQ\n",
       "EBCqqqqIiIgiIiJmZmYyMjJERETu7u6YmJjc3NwAAACgK8IjAAAAAXRSTlMAQObYZgAAAKpJREFU\n",
       "GNNjYOC7wAABbA+AxGkGGNAD4nVw3ikGBt4JcB5zAQPHAziPJ4DhBQMCLGGoBJIKQPzCgYHBkmEv\n",
       "UCuQwXC+gIHhFkMbAwMn2IgEBoYMhhAGBhcGhgUMvEDT5EG8AgbGCQzMDCAeUOUEBvYEhsdAngfI\n",
       "lI0M8hPATroFNJXB1DLspynI7ZOBsgynfz0oDQeZuxDFZQ1ormbYh+wjJN+CxOEhAXQNAFO6J917\n",
       "uB3gAAAAAElFTkSuQmCC\n",
       "\" style=\"display:inline;vertical-align:middle;\" /></a></td></tr>\n",
       "<tr><td>6</td><td>Variable</td><td></td><td><a class=\"ProveItLink\" href=\"__pv_it/basic_expressions/78a68196d231f7f9081c22150ae1da14f50cc59b0/expr.ipynb\"><img src=\"data:image/png;base64,iVBORw0KGgoAAAANSUhEUgAAAA0AAAAJBAMAAAAbVLtZAAAAMFBMVEX///8QEBBERETMzMwyMjKq\n",
       "qqp2dnZmZmaIiIju7u6YmJi6uroiIiLc3NxUVFQAAABheaknAAAAAXRSTlMAQObYZgAAAE5JREFU\n",
       "CNcNxbENQEAAAMBLJIheojcIC0isoNL+CG8FCzCC3hIqlcIQEi3XHDeuTbH9L1H2J+3ttIpDlAQp\n",
       "Qd47qTVBxzCW77AyP8dU8QENTA/yxpazbgAAAABJRU5ErkJggg==\n",
       "\" style=\"display:inline;vertical-align:middle;\" /></a></td></tr>\n",
       "</table>\n"
      ],
      "text/plain": [
       "0. omega * omega!\n",
       "   core type: Operation\n",
       "   class: <class 'demo_operations.Multiply'>\n",
       "   operator: 1\n",
       "   operands: 2\n",
       "1. *\n",
       "   core type: Literal\n",
       "   latex_format: \\times\n",
       "   theory: tutorial\n",
       "   class: <class 'proveit._core_.expression.label.literal.Literal'>\n",
       "   sub-expressions: \n",
       "2. (omega, omega!)\n",
       "   core type: ExprTuple\n",
       "   class: <class 'proveit._core_.expression.composite.expr_tuple.ExprTuple'>\n",
       "   sub-expressions: 6, 3\n",
       "3. omega!\n",
       "   core type: Operation\n",
       "   class: <class 'demo_operations.Factorial'>\n",
       "   operator: 4\n",
       "   operand: 6\n",
       "4. !\n",
       "   core type: Literal\n",
       "   latex_format: !\n",
       "   theory: tutorial\n",
       "   class: <class 'proveit._core_.expression.label.literal.Literal'>\n",
       "   sub-expressions: \n",
       "5. (omega)\n",
       "   core type: ExprTuple\n",
       "   class: <class 'proveit._core_.expression.composite.expr_tuple.ExprTuple'>\n",
       "   sub-expressions: 6\n",
       "6. omega\n",
       "   core type: Variable\n",
       "   latex_format: \\omega\n",
       "   class: <class 'proveit._core_.expression.label.var.Variable'>\n",
       "   sub-expressions: "
      ]
     },
     "execution_count": 68,
     "metadata": {},
     "output_type": "execute_result"
    }
   ],
   "source": [
    "fancy_omega_fn.expr_info(details=True)"
   ]
  },
  {
   "cell_type": "markdown",
   "metadata": {},
   "source": [
    "Note that by substituting $f$ with a `Lambda` expression, the entire `Operation` is substituted, not just the *operator*.  This is why `Lambda` *operator*s are not allowed (only `Label` operators); otherwise, such a substitution could be ambiguous or confusing (should it substitute the `Operation` or substitute the *operator* with the `Lambda` expression?).  This also highlights the fact that **Prove-It** is not a functional programming or lambda calculus.  Rather, **Prove-It** is designed for manipulating expressions as desired, and *operation substitution* is a useful and powerful, yet relatively straightforward tool for doing so."
   ]
  },
  {
   "cell_type": "markdown",
   "metadata": {},
   "source": [
    "<a name=\"Conditional\"></a>Conditional\n",
    "====\n",
    "\n",
    "A `Conditional` has one or more *values* associated with one or more *conditions*.  A given *value* is only pertinent if its associated *condition* is satisfied (known to be true).  MUST UPDATE THIS SECTION.  A CONDITIONAL ONLY HAS ONE VALUE AND CONDITION.  A CONDITIONAL SET"
   ]
  },
  {
   "cell_type": "code",
   "execution_count": 69,
   "metadata": {},
   "outputs": [],
   "source": [
    "from proveit import Conditional, ConditionalSet"
   ]
  },
  {
   "cell_type": "markdown",
   "metadata": {},
   "source": [
    "To create the `Conditional`, supply the *values* and *conditions* as separate arguments in the constructor.  This example invokes the `Neg`, `Less`, and `greater_eq`  <a href=\"#Operation\">`Operation`</a>s as well as the `zero` <a href=\"#Literal\">`Literal`</a>)"
   ]
  },
  {
   "cell_type": "code",
   "execution_count": 70,
   "metadata": {},
   "outputs": [
    {
     "data": {
      "text/html": [
       "<strong id=\"abs_cond\">abs_cond:</strong> <a class=\"ProveItLink\" href=\"__pv_it/basic_expressions/771d9872d93c474640ace0c689dd50389c126e300/expr.ipynb\"><img src=\"data:image/png;base64,iVBORw0KGgoAAAANSUhEUgAAAN8AAAAVBAMAAAA0pCbNAAAAMFBMVEX///+IiIi6urrc3NxERETM\n",
       "zMwQEBCqqqpUVFQiIiJ2dnYyMjLu7u5mZmaYmJgAAABN0h6tAAAAAXRSTlMAQObYZgAAAolJREFU\n",
       "SMdjYGDgu8dAV8CzC0Ta4ZRnN6CyhXwfQLY64FbQDGOYPWBg0BDBpWzhqwA8tiDJck0AEtx4vHEa\n",
       "xohfwMCao6+AJHXyDpzJXcAzGbcZyLJgC9/icRyXAILNixYS1XDvP2NgWI01Rraiy4ItnIwvkhMQ\n",
       "bI4LaJLarVCGBwND/QEsETbXAF0WZCHzBHyxvAlKmwZgWsgQ4gShfzAw6BdgaGWcdQBDFmQhI9Ac\n",
       "HsFmxYWoyg9KGEkBw3MthMfs38B6LfcCkgQYWGwHB8NfoJEQISSDTk2EBhJCFhhKGxgYWIDp7xTD\n",
       "S4HZqGG5gG8iJ1D2NSzmGxg4GpAlIMAWFB/Mv4CJCmIkwqCz86BKkGQZGMqA6ZUT6N01DOsPKKOm\n",
       "lgNcf5iAUVAJ5bPALIRJQMBLkKeZ/4JTMQjADeLYDlOCJMsQAnIfGzCtH2BwgflsNxgE8DCwgBNl\n",
       "PLqFMAkwkFyDFmhwg07ALUQJUrUAiIUMDB8x4pxfAKuFMAmQUSsF4ImmHpYsYAbZwoIURZbDARKk\n",
       "DKxfMSyMBxcPmpgWxkPLDeabD6CSQF+9hyZ8hEGwRIMsC06loERTw/iBQQY1zx6QZ2A8gEg0cAth\n",
       "EgzM3QWYGR/ZIFi2QM/4XBcYmL6zfGB+wHB+A8JC/QJ/cKF+C2ahAzTuYBIMRxDlHGcBTypYN9Qg\n",
       "1IwPlgUCkAKQhUwTGHgaZWTfAWXmICw8IXjwHkjnVmhI9f843P/lAZIESh5aKBEA1g01CLVoA8uC\n",
       "LG7AKNpqMIu2CcRXPTVEqOFKQCm8F+AtvAmBBcTWhyywbMwjgLt6wlJzzQSBqYjAIMptu5ArYD5M\n",
       "eWcSKnOiVLHfw9vE4KNuEwMAHH/DgYykaMkAAAAASUVORK5CYII=\n",
       "\" style=\"display:inline;vertical-align:middle;\" /></a><br>"
      ],
      "text/plain": [
       "abs_cond: {(x, -x) if x >= 0 ,  x < 0."
      ]
     },
     "execution_count": 70,
     "metadata": {},
     "output_type": "execute_result"
    }
   ],
   "source": [
    "from proveit.numbers import zero, Neg, Less, greater_eq\n",
    "abs_cond = Conditional((x, Neg(x)), \n",
    "                       (greater_eq(x, zero), Less(x, zero)))"
   ]
  },
  {
   "cell_type": "code",
   "execution_count": 71,
   "metadata": {},
   "outputs": [
    {
     "data": {
      "text/plain": [
       "'{(x, -x) if x >= 0 ,  x < 0.'"
      ]
     },
     "execution_count": 71,
     "metadata": {},
     "output_type": "execute_result"
    }
   ],
   "source": [
    "# The string formatting is somewhat different:\n",
    "str(abs_cond)"
   ]
  },
  {
   "cell_type": "markdown",
   "metadata": {},
   "source": [
    "The `conditions` and `values` attributes may be used to access the *conditions* and *values* respectively."
   ]
  },
  {
   "cell_type": "code",
   "execution_count": 72,
   "metadata": {},
   "outputs": [
    {
     "data": {
      "text/html": [
       "<a class=\"ProveItLink\" href=\"__pv_it/basic_expressions/95528f44b62d5483d4fe0d4f01a73a4a491dab5c0/expr.ipynb\"><img src=\"data:image/png;base64,iVBORw0KGgoAAAANSUhEUgAAAJcAAAAUBAMAAABylbI8AAAAMFBMVEX////MzMxUVFR2dna6uroQ\n",
       "EBCqqqqIiIgiIiJmZmYyMjJERETu7u6YmJjc3NwAAACgK8IjAAAAAXRSTlMAQObYZgAAAmhJREFU\n",
       "OMuVVM1rE0EU/213m6zJbly8ekiFguChxFOoCPamJ63gH7BHD2KXegiFigEhtaJlwYsXIRYpnqSI\n",
       "t2JdGkprPSiIaAU1iAc9SGOFFCEH35uZ3SSTD3QOM/tmf/M+fu8DyL3BoJWq6zc/B2JxlbdX/f+Z\n",
       "108CE9qls9ofXHzrYYQtP+nALkbJ9wq269hRQk6dmXpfXRnfWYJTBdywM67lGO1Ow6zCDBRagXZ7\n",
       "iHjI+zvgFLkH2F3GrGVPfmTHkGrBmZbS0TvyXNJ0uYvi9VNgJsIm8L37t7E2Jc7DY7CawCN5O16S\n",
       "0Za7wembkpZ94IKPzBTmSNia/XYtiOk54fPxOoR1AExKLqu2fEzROqWJs0UJrS0oqv+QsgBmiOck\n",
       "FNwFuxqby91n1/cKMEjZR5lZ3xQWslRFNXwIbovbl3fjF7+BfAC3igphI7Nl1ds88L4XwiDMZXFl\n",
       "Iyds2aTyNM5E51kYWUnMk2f5AlJlXCLPkF3VeVBh5sXde+AYn6PEZ4Q1CdxIlKkwjQYrI7pjxhIe\n",
       "KAGpZqyMcnkkVgYcKOiPOExOwIzPyios5T0dQL66LeCcKKZQlSuHCeOXbph9/RLBKnMCUtENpEVw\n",
       "XxPXZdHKBLAiVigScCXdwLxWGrJoKQGTXCMvZAc7z9o1VMEmuXtPlKwKlZNvNbON9mhQRWv7zkXg\n",
       "UIED2ShtPegZHbUScy66ZZw3LlsKxDk+P/dJbyenOEuGM57WTvqUECUvaDf6tVPX2tYavWcOBd3y\n",
       "7jBl3BfrHY48vsXLSy52NHx2SBg8ggYNR7HW/3E4JoaGjG33f8b2Z+AvDN+kGm194fEAAAAASUVO\n",
       "RK5CYII=\n",
       "\" style=\"display:inline;vertical-align:middle;\" /></a>"
      ],
      "text/plain": [
       "(x >= 0) and (x < 0)"
      ]
     },
     "execution_count": 72,
     "metadata": {},
     "output_type": "execute_result"
    }
   ],
   "source": [
    "abs_cond.condition"
   ]
  },
  {
   "cell_type": "code",
   "execution_count": 73,
   "metadata": {},
   "outputs": [
    {
     "data": {
      "text/html": [
       "<a class=\"ProveItLink\" href=\"__pv_it/basic_expressions/94615e67f6dc774631193c503e2130f925b552f00/expr.ipynb\"><img src=\"data:image/png;base64,iVBORw0KGgoAAAANSUhEUgAAAD0AAAAUBAMAAADM7ygkAAAAMFBMVEX////MzMxUVFR2dna6uroQ\n",
       "EBCqqqqIiIgiIiJmZmYyMjJERETu7u6YmJjc3NwAAACgK8IjAAAAAXRSTlMAQObYZgAAAP9JREFU\n",
       "KM9jYOC7wIAL5IGI0zilGZgeAIl1uOV5FjAw8E7ALc9gzsDA8QCP/FEGhhd4pBm4HBgqgdTxoifF\n",
       "Bag2l+u5Aw1nnsCwF8gx4G3nWIAif5jhRkEX0HELGNqAqg4w/2FBdYYNg/0BPwYGtgaGEKB+Bu4N\n",
       "UPFTq0BgIcMBht0gLuMHkDwDA38BhtO+Q+XbQLS8ALo040cQydIAch/bgXoG9gMo0jnsHxhqwO6z\n",
       "ZGDwT9jP8JaB5xdCmuUb9wdQvHEaMHgwMBwqPz4XyOlAGMGjXlN5FxQ+Akjhy3YAw5EnkOOHGWv8\n",
       "MOyDcY5jjV9E+sBMR9wgu/Gkr3sMDADjQkH1JDsALwAAAABJRU5ErkJggg==\n",
       "\" style=\"display:inline;vertical-align:middle;\" /></a>"
      ],
      "text/plain": [
       "(x, -x)"
      ]
     },
     "execution_count": 73,
     "metadata": {},
     "output_type": "execute_result"
    }
   ],
   "source": [
    "abs_cond.value"
   ]
  },
  {
   "cell_type": "markdown",
   "metadata": {},
   "source": [
    "This is the expression information breakdown for our `Conditional` example."
   ]
  },
  {
   "cell_type": "code",
   "execution_count": 74,
   "metadata": {},
   "outputs": [
    {
     "data": {
      "text/html": [
       "<table><tr><th>&nbsp;</th><th>core type</th><th>sub-expressions</th><th>expression</th></tr>\n",
       "<tr><td>0</td><td>Conditional</td><td>value:&nbsp;1<br>condition:&nbsp;2<br></td><td><a class=\"ProveItLink\" href=\"__pv_it/basic_expressions/771d9872d93c474640ace0c689dd50389c126e300/expr.ipynb\"><img src=\"data:image/png;base64,iVBORw0KGgoAAAANSUhEUgAAAN8AAAAVBAMAAAA0pCbNAAAAMFBMVEX///+IiIi6urrc3NxERETM\n",
       "zMwQEBCqqqpUVFQiIiJ2dnYyMjLu7u5mZmaYmJgAAABN0h6tAAAAAXRSTlMAQObYZgAAAolJREFU\n",
       "SMdjYGDgu8dAV8CzC0Ta4ZRnN6CyhXwfQLY64FbQDGOYPWBg0BDBpWzhqwA8tiDJck0AEtx4vHEa\n",
       "xohfwMCao6+AJHXyDpzJXcAzGbcZyLJgC9/icRyXAILNixYS1XDvP2NgWI01Rraiy4ItnIwvkhMQ\n",
       "bI4LaJLarVCGBwND/QEsETbXAF0WZCHzBHyxvAlKmwZgWsgQ4gShfzAw6BdgaGWcdQBDFmQhI9Ac\n",
       "HsFmxYWoyg9KGEkBw3MthMfs38B6LfcCkgQYWGwHB8NfoJEQISSDTk2EBhJCFhhKGxgYWIDp7xTD\n",
       "S4HZqGG5gG8iJ1D2NSzmGxg4GpAlIMAWFB/Mv4CJCmIkwqCz86BKkGQZGMqA6ZUT6N01DOsPKKOm\n",
       "lgNcf5iAUVAJ5bPALIRJQMBLkKeZ/4JTMQjADeLYDlOCJMsQAnIfGzCtH2BwgflsNxgE8DCwgBNl\n",
       "PLqFMAkwkFyDFmhwg07ALUQJUrUAiIUMDB8x4pxfAKuFMAmQUSsF4ImmHpYsYAbZwoIURZbDARKk\n",
       "DKxfMSyMBxcPmpgWxkPLDeabD6CSQF+9hyZ8hEGwRIMsC06loERTw/iBQQY1zx6QZ2A8gEg0cAth\n",
       "EgzM3QWYGR/ZIFi2QM/4XBcYmL6zfGB+wHB+A8JC/QJ/cKF+C2ahAzTuYBIMRxDlHGcBTypYN9Qg\n",
       "1IwPlgUCkAKQhUwTGHgaZWTfAWXmICw8IXjwHkjnVmhI9f843P/lAZIESh5aKBEA1g01CLVoA8uC\n",
       "LG7AKNpqMIu2CcRXPTVEqOFKQCm8F+AtvAmBBcTWhyywbMwjgLt6wlJzzQSBqYjAIMptu5ArYD5M\n",
       "eWcSKnOiVLHfw9vE4KNuEwMAHH/DgYykaMkAAAAASUVORK5CYII=\n",
       "\" style=\"display:inline;vertical-align:middle;\" /></a></td></tr>\n",
       "<tr><td>1</td><td>ExprTuple</td><td>14, 3</td><td><a class=\"ProveItLink\" href=\"__pv_it/basic_expressions/94615e67f6dc774631193c503e2130f925b552f00/expr.ipynb\"><img src=\"data:image/png;base64,iVBORw0KGgoAAAANSUhEUgAAAD0AAAAUBAMAAADM7ygkAAAAMFBMVEX////MzMxUVFR2dna6uroQ\n",
       "EBCqqqqIiIgiIiJmZmYyMjJERETu7u6YmJjc3NwAAACgK8IjAAAAAXRSTlMAQObYZgAAAP9JREFU\n",
       "KM9jYOC7wIAL5IGI0zilGZgeAIl1uOV5FjAw8E7ALc9gzsDA8QCP/FEGhhd4pBm4HBgqgdTxoifF\n",
       "Bag2l+u5Aw1nnsCwF8gx4G3nWIAif5jhRkEX0HELGNqAqg4w/2FBdYYNg/0BPwYGtgaGEKB+Bu4N\n",
       "UPFTq0BgIcMBht0gLuMHkDwDA38BhtO+Q+XbQLS8ALo040cQydIAch/bgXoG9gMo0jnsHxhqwO6z\n",
       "ZGDwT9jP8JaB5xdCmuUb9wdQvHEaMHgwMBwqPz4XyOlAGMGjXlN5FxQ+Akjhy3YAw5EnkOOHGWv8\n",
       "MOyDcY5jjV9E+sBMR9wgu/Gkr3sMDADjQkH1JDsALwAAAABJRU5ErkJggg==\n",
       "\" style=\"display:inline;vertical-align:middle;\" /></a></td></tr>\n",
       "<tr><td>2</td><td>Operation</td><td>operator:&nbsp;4<br>operands:&nbsp;5<br></td><td><a class=\"ProveItLink\" href=\"__pv_it/basic_expressions/95528f44b62d5483d4fe0d4f01a73a4a491dab5c0/expr.ipynb\"><img src=\"data:image/png;base64,iVBORw0KGgoAAAANSUhEUgAAAJcAAAAUBAMAAABylbI8AAAAMFBMVEX////MzMxUVFR2dna6uroQ\n",
       "EBCqqqqIiIgiIiJmZmYyMjJERETu7u6YmJjc3NwAAACgK8IjAAAAAXRSTlMAQObYZgAAAmhJREFU\n",
       "OMuVVM1rE0EU/213m6zJbly8ekiFguChxFOoCPamJ63gH7BHD2KXegiFigEhtaJlwYsXIRYpnqSI\n",
       "t2JdGkprPSiIaAU1iAc9SGOFFCEH35uZ3SSTD3QOM/tmf/M+fu8DyL3BoJWq6zc/B2JxlbdX/f+Z\n",
       "108CE9qls9ofXHzrYYQtP+nALkbJ9wq269hRQk6dmXpfXRnfWYJTBdywM67lGO1Ow6zCDBRagXZ7\n",
       "iHjI+zvgFLkH2F3GrGVPfmTHkGrBmZbS0TvyXNJ0uYvi9VNgJsIm8L37t7E2Jc7DY7CawCN5O16S\n",
       "0Za7wembkpZ94IKPzBTmSNia/XYtiOk54fPxOoR1AExKLqu2fEzROqWJs0UJrS0oqv+QsgBmiOck\n",
       "FNwFuxqby91n1/cKMEjZR5lZ3xQWslRFNXwIbovbl3fjF7+BfAC3igphI7Nl1ds88L4XwiDMZXFl\n",
       "Iyds2aTyNM5E51kYWUnMk2f5AlJlXCLPkF3VeVBh5sXde+AYn6PEZ4Q1CdxIlKkwjQYrI7pjxhIe\n",
       "KAGpZqyMcnkkVgYcKOiPOExOwIzPyios5T0dQL66LeCcKKZQlSuHCeOXbph9/RLBKnMCUtENpEVw\n",
       "XxPXZdHKBLAiVigScCXdwLxWGrJoKQGTXCMvZAc7z9o1VMEmuXtPlKwKlZNvNbON9mhQRWv7zkXg\n",
       "UIED2ShtPegZHbUScy66ZZw3LlsKxDk+P/dJbyenOEuGM57WTvqUECUvaDf6tVPX2tYavWcOBd3y\n",
       "7jBl3BfrHY48vsXLSy52NHx2SBg8ggYNR7HW/3E4JoaGjG33f8b2Z+AvDN+kGm194fEAAAAASUVO\n",
       "RK5CYII=\n",
       "\" style=\"display:inline;vertical-align:middle;\" /></a></td></tr>\n",
       "<tr><td>3</td><td>Operation</td><td>operator:&nbsp;6<br>operand:&nbsp;14<br></td><td><a class=\"ProveItLink\" href=\"__pv_it/basic_expressions/7a5e0bad469147729b85543441158feb65dbfdf80/expr.ipynb\"><img src=\"data:image/png;base64,iVBORw0KGgoAAAANSUhEUgAAABoAAAAJBAMAAADeJiHIAAAALVBMVEX///9mZmaqqqpEREQiIiKY\n",
       "mJh2dna6urrc3NxUVFSIiIjMzMwyMjLu7u4AAADOsoHBAAAAAXRSTlMAQObYZgAAAEhJREFUCNdj\n",
       "YIAC3lUzqrJgHIZrDCELfOC8XIa8CxUMd86AwGmGCwzGDMjgFTKH+zUSR5frAcNaGIf9EfMDjgC4\n",
       "dbPWLgxlAABdDRUlWYxQuQAAAABJRU5ErkJggg==\n",
       "\" style=\"display:inline;vertical-align:middle;\" /></a></td></tr>\n",
       "<tr><td>4</td><td>Literal</td><td></td><td><a class=\"ProveItLink\" href=\"../packages/proveit/logic/booleans/conjunction/__pv_it/common/26b94b53e70b1d77b70f0d9d4236347db37731060/expr.ipynb\"><img src=\"data:image/png;base64,iVBORw0KGgoAAAANSUhEUgAAAAwAAAAOBAMAAADpk+DfAAAALVBMVEX///+YmJiqqqp2dnaIiIi6\n",
       "urpUVFTu7u4iIiJERETMzMxmZmYyMjLc3NwAAAA0M6a/AAAAAXRSTlMAQObYZgAAAElJREFUCNdj\n",
       "YGDgZQADng1gamU7mEp1AZHsBzhAFLMCswKQ4mDgPQCkRBgYsoAUUN0yBgYmoC6eCyAEYq5kAEuk\n",
       "gigXhgAQxQUA/TsLhzUuB2sAAAAASUVORK5CYII=\n",
       "\" style=\"display:inline;vertical-align:middle;\" /></a></td></tr>\n",
       "<tr><td>5</td><td>ExprTuple</td><td>8, 9</td><td><a class=\"ProveItLink\" href=\"__pv_it/basic_expressions/7df0f696b43cfc62ca9dadc3e4bdfb85c38759180/expr.ipynb\"><img src=\"data:image/png;base64,iVBORw0KGgoAAAANSUhEUgAAAHkAAAAUBAMAAABbvo/+AAAAMFBMVEX////MzMxUVFR2dna6uroQ\n",
       "EBCqqqqIiIgiIiJmZmYyMjJERETu7u6YmJjc3NwAAACgK8IjAAAAAXRSTlMAQObYZgAAAeFJREFU\n",
       "OMudVLtKA0EUPWuWTUx24/5BtBIsJFZBEUynlQ/wA/YDRIMWQVAUhEQFJaWNEFMEKxGxC+pgkCgW\n",
       "CiLYqEEstBCjQoKSwrn71I1ukSlm7jzOzLnn3jtA+BLNtUnqzv/e8833eCBjVypaytzYcdbkFWbb\n",
       "eZyW/wUHNXkdchZQMj9WpZyFUEbhy/6Bk7aovwb6OAEg8OsFMacaRqgdUr0RrKzox/eAKYYT4On3\n",
       "tlCI62NbO8RqA9i/ZLj2DoxoCMYxyyel6ceZhHkg3KXRcJGBWDPESHYPxoy9YtrU55OjE/BlcMAn\n",
       "USUdsJ0MbxC51ygEA13ETWJVt87WrCMfQCQBJYsUDw7z1cWy4xr1rxkIH/q8HwNsmIyWvP0AfzsS\n",
       "hbSIcf42Qrtu1xzmDAVj59hGm8yFCqG5RpbXtmtcNclSrWaOzxZzUm1KI3SKZhHVfYCzUcyICW/u\n",
       "q4nNPYO4SKpJbAF+ne+DTc7Jlgl/BXOuiBnZwlXrpdAd4UX3Z98JbQonqvzF86caqjiFZGZLQJPH\n",
       "gNYohrgcydJmQ6EVkx3AMoPcOTd7685UOTbNfQ2qrkx1ZzXzKtFTV5U0lKlngVMGHv6o0O1laqq9\n",
       "UPICU4X+9zvozfPbCZHPTf9Md8A3C9WGgApCovUAAAAASUVORK5CYII=\n",
       "\" style=\"display:inline;vertical-align:middle;\" /></a></td></tr>\n",
       "<tr><td>6</td><td>Literal</td><td></td><td><a class=\"ProveItLink\" href=\"../packages/proveit/numbers/negation/__pv_it/common/31a69a5c76809537045e3884859f178d8d9c845c0/expr.ipynb\"><img src=\"data:image/png;base64,iVBORw0KGgoAAAANSUhEUgAAAA4AAAACBAMAAACapPCZAAAAD1BMVEX////MzMwyMjLu7u4AAAC4\n",
       "fJKRAAAAAXRSTlMAQObYZgAAABBJREFUCNdjMFICAUUGKAAADB8A/huHQ9UAAAAASUVORK5CYII=\n",
       "\" style=\"display:inline;vertical-align:middle;\" /></a></td></tr>\n",
       "<tr><td>7</td><td>ExprTuple</td><td>14</td><td><a class=\"ProveItLink\" href=\"../packages/proveit/__pv_it/common/a49c8f25f899a16b1dbcf2257505d5464a9a7bb50/expr.ipynb\"><img src=\"data:image/png;base64,iVBORw0KGgoAAAANSUhEUgAAABgAAAAUBAMAAABlm+CwAAAAMFBMVEX////MzMxUVFR2dna6uroQ\n",
       "EBCqqqqIiIgiIiJmZmYyMjJERETu7u6YmJjc3NwAAACgK8IjAAAAAXRSTlMAQObYZgAAAKBJREFU\n",
       "GNNjYOC7wAAGbA+AxGkGKNAD4nUwzikGBt4JMA5zAQPHAxiHJ4DhBQMcLGGoBJLHi54UFzAwWDLs\n",
       "Bcob8LZzLGBguMXQBtR5gPkPC1BrBkMIUIaBewNIjzyIw8DAXwDhtIEpARDpATKA7UA9A/sBkAGW\n",
       "DAz+CfsZ3gJlJgPlGA6VH58LcvpCZOc0oDqUYR+SFxCeA4nCvM37gAEAoUwoFGD2AiwAAAAASUVO\n",
       "RK5CYII=\n",
       "\" style=\"display:inline;vertical-align:middle;\" /></a></td></tr>\n",
       "<tr><td>8</td><td>Operation</td><td>operator:&nbsp;10<br>operands:&nbsp;11<br></td><td><a class=\"ProveItLink\" href=\"__pv_it/basic_expressions/4b84fa3c641f252296f4cf5189f7b242e0ae18980/expr.ipynb\"><img src=\"data:image/png;base64,iVBORw0KGgoAAAANSUhEUgAAADEAAAARBAMAAACGHlkZAAAAMFBMVEX///8QEBBmZmaqqqrMzMxE\n",
       "REQyMjIiIiKYmJh2dna6urrc3NxUVFSIiIju7u4AAAA6P00QAAAAAXRSTlMAQObYZgAAAMxJREFU\n",
       "GNNjYMAG5nY6IPGe68GZbAZ81cgKzU7DWI0MDNNQzFh2BMqIYWCwf4Ai5RoFof8wMKw3YGB4e2fX\n",
       "zQtQqT3JIJLvE1DmAgPfBI5a9gSYrk0gm7l/MjD4X2DgfMD5j2sDTKZdASQD1OM/gYGPgTUAbtH1\n",
       "eUimMTDww2zhm34B7gJ7oAsY/KH+5VZvgCoJZWDof8DA/OA+Ay/I8dzHDFB9ut4gnmEHiPt0Adw6\n",
       "dgM+EQaGN3ffajSgBSjf3DsODJSBZ+UgUALnAwCQmDkLrOvFzQAAAABJRU5ErkJggg==\n",
       "\" style=\"display:inline;vertical-align:middle;\" /></a></td></tr>\n",
       "<tr><td>9</td><td>Operation</td><td>operator:&nbsp;12<br>operands:&nbsp;13<br></td><td><a class=\"ProveItLink\" href=\"__pv_it/basic_expressions/e19405407b449011f388127bf07d4b5fbe8d37c00/expr.ipynb\"><img src=\"data:image/png;base64,iVBORw0KGgoAAAANSUhEUgAAADEAAAAOBAMAAAB0nulXAAAAMFBMVEX///8QEBBmZmaqqqrMzMxE\n",
       "REQyMjIiIiKYmJh2dna6urrc3NxUVFSIiIju7u4AAAA6P00QAAAAAXRSTlMAQObYZgAAALtJREFU\n",
       "GNNjYMAG5nY6YBVnYDPgq0YXY04BkY0MDNPQJDiKNoCoGAYG+wcoEryVEP4fBob1BgwMb+/sunkB\n",
       "LPCyFqKA7xNQ5gID3wSOWvYEkMCjCqhW7p8MDP4XGDgfcP7jApnOkwwzlBuox38CAx8DawCY/wYu\n",
       "AzWNgYEfYgvDJphpIBfYA13A4A/zL8wFDKEMDP0PGJgf3GfgfYDqaohP1xvEM+xA8ym7AZ8I0OK7\n",
       "bzUa0EKHb+4dBwYA06Y1Jv8mtw4AAAAASUVORK5CYII=\n",
       "\" style=\"display:inline;vertical-align:middle;\" /></a></td></tr>\n",
       "<tr><td>10</td><td>Literal</td><td></td><td><a class=\"ProveItLink\" href=\"../packages/proveit/numbers/ordering/__pv_it/common/b7491c9b87613cffc9e4ec0625a0f1afacbe2cbd0/expr.ipynb\"><img src=\"data:image/png;base64,iVBORw0KGgoAAAANSUhEUgAAAA4AAAARBAMAAAAf5oCsAAAALVBMVEX///+6urpERESqqqoyMjJU\n",
       "VFSYmJhmZmbc3Nx2dnbu7u7MzMwiIiKIiIgAAABG7jNxAAAAAXRSTlMAQObYZgAAAEJJREFUCNdj\n",
       "YEAGvKfB1MqzYKr9GJhqdQZTmxzBFJM2VOnZBRAG20kog9m9AcJgdN0AYXArCUAYHNEMuMCSMyBw\n",
       "GgCwmhA4u838QwAAAABJRU5ErkJggg==\n",
       "\" style=\"display:inline;vertical-align:middle;\" /></a></td></tr>\n",
       "<tr><td>11</td><td>ExprTuple</td><td>15, 14</td><td><a class=\"ProveItLink\" href=\"__pv_it/basic_expressions/ec9f6aec99f20e890f7b66ec6ae15def89c5c2780/expr.ipynb\"><img src=\"data:image/png;base64,iVBORw0KGgoAAAANSUhEUgAAACwAAAAUBAMAAAAEg8LyAAAAMFBMVEX///9UVFTMzMx2dna6uroQ\n",
       "EBCqqqqIiIgiIiJmZmYyMjJERETu7u6YmJjc3NwAAAC+aOQFAAAAAXRSTlMAQObYZgAAAQJJREFU\n",
       "GNNjYOC7wIAG2B4AidMMDMy1RijickC8joFhGcOJB8jCpxgYeCcw8AYwMC9AFmYuYOB4wMAtwMD2\n",
       "B1mYJ4DhBQMDvwADyzcUw5cwVDIwnJ/AwPIdwj9e+KS4gIHBkmEvA8N7AwYmiDCPAW87B9CaWwxt\n",
       "QOEJDEyfIXYdYP7DAnRUBkMIsiE8DNwbQLQ+SBhoJRvMSv4CiDDQEKAKXpgD9RVApAfISoR32A7U\n",
       "M7AfAFlpCeS1MRxV4PkFZPgn7Gd4C6QnA9UzMBwuF2Jg6ACqOlh+fC4oQBeBPA8NzgMIzzeAggoa\n",
       "PihBxbAPyj6OErCgaAADpEgCqcSMNN4HDAB2hEL9ZzV3IwAAAABJRU5ErkJggg==\n",
       "\" style=\"display:inline;vertical-align:middle;\" /></a></td></tr>\n",
       "<tr><td>12</td><td>Literal</td><td></td><td><a class=\"ProveItLink\" href=\"../packages/proveit/numbers/ordering/__pv_it/common/28edf56075f82c850836d8cd79dbcacf62e589820/expr.ipynb\"><img src=\"data:image/png;base64,iVBORw0KGgoAAAANSUhEUgAAAA4AAAAMBAMAAACgrpHpAAAAJ1BMVEX///9UVFTu7u52dnaIiIjc\n",
       "3NxmZmYiIiKYmJjMzMwyMjKqqqoAAAC78Qc2AAAAAXRSTlMAQObYZgAAADRJREFUCNdjYAAB7pVg\n",
       "iqMsAESxFCuAKOUSsKBaBZhiXA2mGBShNENYBZQBVQfXBzcHZC4Ahl8IRZ/iBPwAAAAASUVORK5C\n",
       "YII=\n",
       "\" style=\"display:inline;vertical-align:middle;\" /></a></td></tr>\n",
       "<tr><td>13</td><td>ExprTuple</td><td>14, 15</td><td><a class=\"ProveItLink\" href=\"__pv_it/basic_expressions/dddf53d3e371a8a48808ee5d21526bea793fa9bc0/expr.ipynb\"><img src=\"data:image/png;base64,iVBORw0KGgoAAAANSUhEUgAAACsAAAAUBAMAAADmX9mLAAAAMFBMVEX////MzMxUVFR2dna6uroQ\n",
       "EBCqqqqIiIgiIiJmZmYyMjJERETu7u6YmJjc3NwAAACgK8IjAAAAAXRSTlMAQObYZgAAAQZJREFU\n",
       "GNNlkbFKxEAQhj/NEWNuE/MGeYV0h1aWdiL4AHkCL5yFWN1Vp5XcCwh5AhFbURdBItgIYqtXWNgI\n",
       "opVicTN6MXu6sMvMx8w/OzMQ3/LnbOlzM4M6dwnzYzGOXBrm5gBTQjRy8T2sSAoEYxefQNdyBc8z\n",
       "0m+wnhOusitO1XvaLpSaD8EF3ogzcbJoLygVx++QFkQlQ/Cs99X6LhFLdJrhD9iUaNrHP9JTkblX\n",
       "xbBUNCW7ueKhemkyxafwaGkNtKRv+yxYpx0puaw/veAF8yk4yM0GLGasweVOdShj3JcE0+mJXpg4\n",
       "zfu2tq7dUXnNdOWe105VGzrYZg2/W2qr7v+lPcAEX3FBoZDAog4AAAAASUVORK5CYII=\n",
       "\" style=\"display:inline;vertical-align:middle;\" /></a></td></tr>\n",
       "<tr><td>14</td><td>Variable</td><td></td><td><a class=\"ProveItLink\" href=\"__pv_it/basic_expressions/a2581dc5df71d9a30bad37de14965fa5fec97a240/expr.ipynb\"><img src=\"data:image/png;base64,iVBORw0KGgoAAAANSUhEUgAAAAsAAAAJBAMAAAAWSsseAAAALVBMVEX///9mZmaqqqrMzMxEREQy\n",
       "MjIiIiKYmJh2dna6urrc3NxUVFSIiIju7u4AAACJHQtQAAAAAXRSTlMAQObYZgAAAEJJREFUCNdj\n",
       "YLhzeuWJAwy8Dew5bAEMHBc43nIuYOBlYHFgAAG+A2DKzgBIMF04x8BzgWGegh/DcgaG22fuiBcw\n",
       "AAATyhBrnyPYZQAAAABJRU5ErkJggg==\n",
       "\" style=\"display:inline;vertical-align:middle;\" /></a></td></tr>\n",
       "<tr><td>15</td><td>Literal</td><td></td><td><a class=\"ProveItLink\" href=\"../packages/proveit/numbers/numerals/__pv_it/common/c35fdf7268947ca3e24174d2909dc9d0a7f3aac60/expr.ipynb\"><img src=\"data:image/png;base64,iVBORw0KGgoAAAANSUhEUgAAAAoAAAAOBAMAAADkjZCYAAAAMFBMVEX///9mZma6urpUVFREREQQ\n",
       "EBDc3NwiIiLu7u6qqqoyMjLMzMyYmJiIiIh2dnYAAADXmt2vAAAAAXRSTlMAQObYZgAAAFFJREFU\n",
       "CNdjYOC785qBgWElQ3sCA08AA98CBhYDBs4fDPwGDEw/GfoFGJj+MuQ/YOAGkgIM3P+gIkBZzp8M\n",
       "LA4MPD+guhgqGVo3MDD03bVmAABi3RThwIkdoQAAAABJRU5ErkJggg==\n",
       "\" style=\"display:inline;vertical-align:middle;\" /></a></td></tr>\n",
       "</table>\n"
      ],
      "text/plain": [
       "0. {(x, -x) if x >= 0 ,  x < 0.\n",
       "   core type: Conditional\n",
       "   value: 1\n",
       "   condition: 2\n",
       "1. (x, -x)\n",
       "   core type: ExprTuple\n",
       "   sub-expressions: 14, 3\n",
       "2. (x >= 0) and (x < 0)\n",
       "   core type: Operation\n",
       "   operator: 4\n",
       "   operands: 5\n",
       "3. -x\n",
       "   core type: Operation\n",
       "   operator: 6\n",
       "   operand: 14\n",
       "4. and\n",
       "   core type: Literal\n",
       "   sub-expressions: \n",
       "5. (x >= 0, x < 0)\n",
       "   core type: ExprTuple\n",
       "   sub-expressions: 8, 9\n",
       "6. -\n",
       "   core type: Literal\n",
       "   sub-expressions: \n",
       "7. (x)\n",
       "   core type: ExprTuple\n",
       "   sub-expressions: 14\n",
       "8. x >= 0\n",
       "   core type: Operation\n",
       "   operator: 10\n",
       "   operands: 11\n",
       "9. x < 0\n",
       "   core type: Operation\n",
       "   operator: 12\n",
       "   operands: 13\n",
       "10. <=\n",
       "    core type: Literal\n",
       "    sub-expressions: \n",
       "11. (0, x)\n",
       "    core type: ExprTuple\n",
       "    sub-expressions: 15, 14\n",
       "12. <\n",
       "    core type: Literal\n",
       "    sub-expressions: \n",
       "13. (x, 0)\n",
       "    core type: ExprTuple\n",
       "    sub-expressions: 14, 15\n",
       "14. x\n",
       "    core type: Variable\n",
       "    sub-expressions: \n",
       "15. 0\n",
       "    core type: Literal\n",
       "    sub-expressions: "
      ]
     },
     "execution_count": 74,
     "metadata": {},
     "output_type": "execute_result"
    }
   ],
   "source": [
    "abs_cond.expr_info()"
   ]
  },
  {
   "cell_type": "markdown",
   "metadata": {},
   "source": [
    "It is actually common to have only one *condition*, indicating a value that is only defined when the condition is satisfied."
   ]
  },
  {
   "cell_type": "code",
   "execution_count": 75,
   "metadata": {},
   "outputs": [
    {
     "data": {
      "text/html": [
       "<strong id=\"div_cancel_cond\">div_cancel_cond:</strong> <a class=\"ProveItLink\" href=\"__pv_it/basic_expressions/69c291a6ec3b1b90ebfec81bc01beec1dd1a96b50/expr.ipynb\"><img src=\"data:image/png;base64,iVBORw0KGgoAAAANSUhEUgAAAMwAAAAmCAMAAAC/I4QkAAAAOVBMVEX///8kJCQNDQ0oKCh2dnaI\n",
       "iIiqqqpUVFRmZmYQEBDu7u66uroiIiIyMjLc3NzMzMxERESYmJgAAACPrtK6AAAAAXRSTlMAQObY\n",
       "ZgAAAxpJREFUWMPNWdmymzAMdVu8yeDt/z+2doBEXogFnbb2Q+ZyRzE6Wo8UxvYTvGPohMBuHJBs\n",
       "omO31eBnvg3154rnL2rIT2abBwtoXzybXcVvZ0lCGXU80M/jGxWhxOaGrhRMZW/40wpbmAVM5Rg5\n",
       "NnMCr3OYRX6iGzvzX4EptHfREr5jsjdddDcs8D/AbCS1XlHGNTIBTAjGkhzDvDw/ThvwCcEoWplV\n",
       "MocaSvugJwSjaRYGybnCTrTR/HVFF7gHxkZHvrt0ol6etGu9O9dI7gm9vUDGw+K+gwmRpIRM90Lp\n",
       "C/mEBrj4MoHTYMaelVhiE0mD1X4Fo1aSEmsyqC8Dksfn8aM8xYtYaE/RpTVgRGBWT3q7SRlT+VjQ\n",
       "ymDf5ooi5Opqmt7ZZFFU/b/vRox4kDPOUcEUjjkcYJp3CvyfN0FJxJhLa/hC7R8Qh/ys5NovBbNS\n",
       "Tmmt1KXQ6QtXvEztYGrtcGR9NIKUmWHlbCXnNb542dBRF1z7wzcwGaqFjqt+/cRX2aNwVGDs5ov+\n",
       "H1BNX1JIGovY5Xcwo9rccO137CMwPaHGMUlPhYrhO8a06Ac+1BdC/PgookNPt4Zr98D0hLJisorp\n",
       "XpiB9PYyi0vRdcBACbWj5todMD2hLGd7FVjUBSDgbmVxFrsbbCAba7nIGXnJtbtgKqHXVT90ddUe\n",
       "NKEpzXjQhLczBOw5yKnU3o6rWcu1e2BaoVQn6h521TQBR9Np3lzBfQJjyfMwpc80XPuwcJGcrRAz\n",
       "bQSvohzwz5TGFPGkNpkVp4p/Y+dEIFcN13YyRgk2ffpwTciTY9rwgCX1QdemNOZm/vHWKBBnTdLA\n",
       "VAqJG7QEg1kez1iEb3a4Nklog2dgxONZnrA76HBtipC4MylhMASG9Zia9bg2ReiOY8qx2T/cGf3J\n",
       "BDCC93gHQFxMNJxaTbJvLsAAaSxpObUWE4Ih/ATQ49R8kk1TBYZpAiNrOLWeZXO+lUuMQIx+zIL4\n",
       "NL/QhKqPedKkjDm11XYWMEyWSQ/rMNBKTg2rYPOcoIvGZFc7IpUFp/aBTXUMlBugMfv9cGowc2D4\n",
       "DYIhJQhCEd7AAAAAAElFTkSuQmCC\n",
       "\" style=\"display:inline;vertical-align:middle;\" /></a><br>"
      ],
      "text/plain": [
       "div_cancel_cond: {(x * (y / x)) = y if y != 0."
      ]
     },
     "execution_count": 75,
     "metadata": {},
     "output_type": "execute_result"
    }
   ],
   "source": [
    "from proveit.logic import Equals, NotEquals\n",
    "from proveit.numbers import zero, Mult, frac\n",
    "div_cancel_cond = Conditional(Equals(Mult(x, frac(y, x)), y),\n",
    "                              NotEquals(y, zero))"
   ]
  },
  {
   "cell_type": "markdown",
   "metadata": {},
   "source": [
    "It will then have singular `condition` and `value` attributes."
   ]
  },
  {
   "cell_type": "code",
   "execution_count": 76,
   "metadata": {},
   "outputs": [
    {
     "data": {
      "text/html": [
       "<a class=\"ProveItLink\" href=\"__pv_it/basic_expressions/0d937039d61b039e68ef25847379c8d0c5c2b1720/expr.ipynb\"><img src=\"data:image/png;base64,iVBORw0KGgoAAAANSUhEUgAAADEAAAAUCAMAAAATIyWrAAAAOVBMVEX///8kJCQNDQ0oKCgiIiKY\n",
       "mJhUVFTMzMxEREQyMjKqqqq6urp2dnYQEBDc3NxmZmaIiIju7u4AAABm7KGZAAAAAXRSTlMAQObY\n",
       "ZgAAAORJREFUKM+VU+0OwyAIZFu1fhb0/R92olsDLrErP2gIvd7BUYBVpAL34vAKTibtFwgbReED\n",
       "QNmONYUThcmdx68ppAZnOYda/qWA2hGxsjZC4n6e0U5SlIoD0d5NEFki1XMnvsfryRm/hDXxY2+I\n",
       "IwDyOM6tKBoCByJB05JZFdPJ2K0qpaqWC4Mnc9y0+frZVZt8iKIMao5HHtOcTEO16dvtm3ZaBPjZ\n",
       "XOkgWlZmVD/ijz0bO5G79mKJsOpv+l9rSyISV4D6XgIur8fz7uIVhdTXJnDajJCWFxrbFJMX/u6v\n",
       "B3HVfAMacgkuiP3Y3AAAAABJRU5ErkJggg==\n",
       "\" style=\"display:inline;vertical-align:middle;\" /></a>"
      ],
      "text/plain": [
       "y != 0"
      ]
     },
     "execution_count": 76,
     "metadata": {},
     "output_type": "execute_result"
    }
   ],
   "source": [
    "div_cancel_cond.condition"
   ]
  },
  {
   "cell_type": "code",
   "execution_count": 77,
   "metadata": {},
   "outputs": [
    {
     "data": {
      "text/html": [
       "<a class=\"ProveItLink\" href=\"__pv_it/basic_expressions/7f8b232510c3e13c396b192d762fc7964d978f570/expr.ipynb\"><img src=\"data:image/png;base64,iVBORw0KGgoAAAANSUhEUgAAAGgAAAAmBAMAAADaYMOOAAAAMFBMVEX///92dnaqqqpEREQiIiJm\n",
       "Zmbc3NxUVFTMzMzu7u4QEBC6uroyMjKIiIiYmJgAAABs22DkAAAAAXRSTlMAQObYZgAAAfhJREFU\n",
       "OMuNlT1LA0EQhic5c8l5XpJWULzWyoBFKj86LVT8AVFSWCmYVNoo5B/kBEEQJGIhpgikshCDacRG\n",
       "JRZBIhFTWIlIFAweavR2L6LczixOYYZ387g7u/NOAADCDcBCS4Mk6l5hZw7UPMCxhNHzXiV6BEYT\n",
       "wJBstZ3xCKqZACXmJJc0tCoUAwWIVJxk0aKYUEs8sA1Ztn2QPF+PuBIoww3/fzYFpZKCpKQhzpML\n",
       "CkqIUiCtt3nyQEEF5FnXq26hqSLOqG+Y6lTFojuKQ+GmqK1Bzt0iWMahwLiozcCImxhNHOqKiVqp\n",
       "2mkSfwuHIrOStgy9EFCF9/X10lUFucY2boAcM5MWDU93YUV/8r995yxOfw2QYpDP8tk66wxvhz7j\n",
       "BsiavK+5FUD74Cf+YsEv7hU3AId+SoMJz5decQOk3AGRzaBj4vlPTWe/BsixLfzWHRiI49Q2boAI\n",
       "a68TcwyW//VOrgG6mQe3bnfmsTmmv+MGUMqSjgjbuAF8uxJIXHQN4LclkDg/XAOI7fUncg3CAHEJ\n",
       "NJQkFpDhod2ulPqJodM5gilIG3BfmWLJHgUZ4p33woB1yJbomz0QFAuG3WHUIKFH0nx1+ooU0ech\n",
       "PgzVfRrSJr3KoOPoGsCmKXmNBc9r6C9KU3XKGZX95qoZbyfXqk/OR5ECvgHQxZOPV4SJOQAAAABJ\n",
       "RU5ErkJggg==\n",
       "\" style=\"display:inline;vertical-align:middle;\" /></a>"
      ],
      "text/plain": [
       "(x * (y / x)) = y"
      ]
     },
     "execution_count": 77,
     "metadata": {},
     "output_type": "execute_result"
    }
   ],
   "source": [
    "div_cancel_cond.value"
   ]
  },
  {
   "cell_type": "markdown",
   "metadata": {},
   "source": [
    "<a name=\"Lambda\"></a>Lambda\n",
    "====\n",
    "\n",
    "This type of **expression** represents a mathematical mapping or function.  It contains *parameter(s)* (one or more *variables* and/or *iteration* of *indexed* *variables* that will be discussed in the <a href=\"#IndexedVar\">IndexedVar</a> section below) and a *body* (any **expression** that the *parameters* are to be mapped into)."
   ]
  },
  {
   "cell_type": "code",
   "execution_count": 78,
   "metadata": {},
   "outputs": [],
   "source": [
    "from proveit import Lambda"
   ]
  },
  {
   "cell_type": "code",
   "execution_count": 79,
   "metadata": {},
   "outputs": [
    {
     "data": {
      "text/html": [
       "<strong id=\"map_to_5\">map_to_5:</strong> <a class=\"ProveItLink\" href=\"__pv_it/basic_expressions/0d236a59cb90f9c4dbcafa7fb672fd1d323440520/expr.ipynb\"><img src=\"data:image/png;base64,iVBORw0KGgoAAAANSUhEUgAAADcAAAAPCAMAAAB3LKe0AAAANlBMVEX///8QEBAoKCgNDQ1mZmaq\n",
       "qqrMzMxEREQyMjIiIiKYmJh2dna6urrc3NxUVFSIiIju7u4AAADPT139AAAAAXRSTlMAQObYZgAA\n",
       "ALtJREFUKM+dUUkSwzAII61XvAD//2xxkrahE88k1QljSVgG4B4SMgTn4S4WUZTbMkilU7tC/GH1\n",
       "qwO8m+mYqLdKhd6NaJjZ6hDJhVWmKTET5HTO9MYmMkCTqlXRqghDbec6oME1iIMxmtF4Ph/JQFb/\n",
       "A5zsM4RMIutf81fW1zBlNwoS5j8R0sFmSds8bXkGkhGDz3XpuMBtKeMLq3iIqmv4uUTzSrO/Nk64\n",
       "qBV3IiaHONm7MxFUWLpj+BsvBH8Gz9YXoekAAAAASUVORK5CYII=\n",
       "\" style=\"display:inline;vertical-align:middle;\" /></a><br>"
      ],
      "text/plain": [
       "map_to_5: x -> 5"
      ]
     },
     "execution_count": 79,
     "metadata": {},
     "output_type": "execute_result"
    }
   ],
   "source": [
    "# maps any value to 5\n",
    "map_to_5 = Lambda(x, FIVE)"
   ]
  },
  {
   "cell_type": "code",
   "execution_count": 80,
   "metadata": {},
   "outputs": [
    {
     "data": {
      "text/html": [
       "<table><tr><th>&nbsp;</th><th>core type</th><th>sub-expressions</th><th>expression</th></tr>\n",
       "<tr><td>0</td><td>Lambda</td><td>parameter:&nbsp;1<br>body:&nbsp;2<br></td><td><a class=\"ProveItLink\" href=\"__pv_it/basic_expressions/0d236a59cb90f9c4dbcafa7fb672fd1d323440520/expr.ipynb\"><img src=\"data:image/png;base64,iVBORw0KGgoAAAANSUhEUgAAADcAAAAPCAMAAAB3LKe0AAAANlBMVEX///8QEBAoKCgNDQ1mZmaq\n",
       "qqrMzMxEREQyMjIiIiKYmJh2dna6urrc3NxUVFSIiIju7u4AAADPT139AAAAAXRSTlMAQObYZgAA\n",
       "ALtJREFUKM+dUUkSwzAII61XvAD//2xxkrahE88k1QljSVgG4B4SMgTn4S4WUZTbMkilU7tC/GH1\n",
       "qwO8m+mYqLdKhd6NaJjZ6hDJhVWmKTET5HTO9MYmMkCTqlXRqghDbec6oME1iIMxmtF4Ph/JQFb/\n",
       "A5zsM4RMIutf81fW1zBlNwoS5j8R0sFmSds8bXkGkhGDz3XpuMBtKeMLq3iIqmv4uUTzSrO/Nk64\n",
       "qBV3IiaHONm7MxFUWLpj+BsvBH8Gz9YXoekAAAAASUVORK5CYII=\n",
       "\" style=\"display:inline;vertical-align:middle;\" /></a></td></tr>\n",
       "<tr><td>1</td><td>Variable</td><td></td><td><a class=\"ProveItLink\" href=\"__pv_it/basic_expressions/a2581dc5df71d9a30bad37de14965fa5fec97a240/expr.ipynb\"><img src=\"data:image/png;base64,iVBORw0KGgoAAAANSUhEUgAAAAsAAAAJBAMAAAAWSsseAAAALVBMVEX///9mZmaqqqrMzMxEREQy\n",
       "MjIiIiKYmJh2dna6urrc3NxUVFSIiIju7u4AAACJHQtQAAAAAXRSTlMAQObYZgAAAEJJREFUCNdj\n",
       "YLhzeuWJAwy8Dew5bAEMHBc43nIuYOBlYHFgAAG+A2DKzgBIMF04x8BzgWGegh/DcgaG22fuiBcw\n",
       "AAATyhBrnyPYZQAAAABJRU5ErkJggg==\n",
       "\" style=\"display:inline;vertical-align:middle;\" /></a></td></tr>\n",
       "<tr><td>2</td><td>Literal</td><td></td><td><a class=\"ProveItLink\" href=\"__pv_it/basic_expressions/81c2aa9122f16828c2971b1716ed07078c5dd6000/expr.ipynb\"><img src=\"data:image/png;base64,iVBORw0KGgoAAAANSUhEUgAAAAkAAAAOBAMAAAAPuiubAAAAMFBMVEX///8iIiK6urpERETc3NyI\n",
       "iIhUVFR2dnYQEBCqqqpmZmbMzMzu7u6YmJgyMjIAAABZcJOfAAAAAXRSTlMAQObYZgAAAE1JREFU\n",
       "CNdj4LvDvZKBgeP//wIGBr6yEAYGBjYGBgR5N2oDAwPzAZZPYK4hmFzvwJDHwFCvwNAHZB9gWMDA\n",
       "IMfA4MXA28LAwLI86wADAK3wEDcX5lPUAAAAAElFTkSuQmCC\n",
       "\" style=\"display:inline;vertical-align:middle;\" /></a></td></tr>\n",
       "</table>\n"
      ],
      "text/plain": [
       "0. x -> 5\n",
       "   core type: Lambda\n",
       "   parameter: 1\n",
       "   body: 2\n",
       "1. x\n",
       "   core type: Variable\n",
       "   sub-expressions: \n",
       "2. 5\n",
       "   core type: Literal\n",
       "   sub-expressions: "
      ]
     },
     "execution_count": 80,
     "metadata": {},
     "output_type": "execute_result"
    }
   ],
   "source": [
    "# Let's look at the Expression info\n",
    "map_to_5.expr_info()"
   ]
  },
  {
   "cell_type": "markdown",
   "metadata": {},
   "source": [
    "Here is an example with multiple *parameters* represented by an `ExprTuple` and a `Conditional` *body* .  This maps a pair of real numbers to the first element (invoking the `And`, `Add`, and `InSet` <a href=\"#Operation\">`Operation`</a>s and using the `Real` <a href=\"#Literal\">`Literal`</a>):"
   ]
  },
  {
   "cell_type": "code",
   "execution_count": 81,
   "metadata": {},
   "outputs": [
    {
     "data": {
      "text/html": [
       "<strong id=\"lambda_expr\">lambda_expr:</strong> <a class=\"ProveItLink\" href=\"__pv_it/basic_expressions/67da72b0ca9f116bd44b9f5292db2f6180159d9c0/expr.ipynb\"><img src=\"data:image/png;base64,iVBORw0KGgoAAAANSUhEUgAAASYAAAAVCAMAAADcg7NfAAAANlBMVEX///8oKCgNDQ3MzMxUVFR2\n",
       "dna6uroQEBCqqqqIiIgiIiJmZmYyMjJERETu7u6YmJjc3NwAAADtE0dfAAAAAXRSTlMAQObYZgAA\n",
       "As5JREFUWMPdWOuaoyAMZZf7JQHe/2VHRK0KVKjOfvuVH+1MNeeQQ0gIhPzO8NaTLxuhzyMVuhHR\n",
       "8W8TiSB0vsi6dfLx7srJvHSCaRgKYiMBonMSPgrmd+YudMdILx03N2WicQ5HKlFEMWTpCLLJEDzg\n",
       "J8RNc2+7Mbh+RCbVC0MsDPsJJPD8xT6RqWluBlKObDzQ4XdkYpdL6MFMwxV+2kB6Yr/bPIzsD9fY\n",
       "AMo+LFOgtEcmChrr4TD5eR2JA+Z6mQlqzYLQx33FNi2zPtzu8A4hWZepClrIdGaZ/oKYMoSV0r4Y\n",
       "SzB02No1bMr+FyRD5ktOR57yvCb7ACR+RcSY5+ZdQxh1VI25NmghU8Eyx+08S7abawWsVnqzn8rY\n",
       "owY1kgFzYlRe/+lXHpGIvelrJXl+S5lW/Oh9ZVCStkELmQqWebqFTBUwqOdgmdKNIpckA+ZEZpmT\n",
       "k3CyEyKXyLQYYanT28O/f9xhxK1wU1irQgHK51eNnL9Yi6UuUzlDKjf2YzgIS071vEYyYL7JlEY8\n",
       "5Yz5XzqvAydnmcxpHmaX3cUSTTXQIppKlrpMJViAVkW3ggK5Ihkw3zbdrAGtBKpOzwNfxWhsOnrc\n",
       "ygyaoIVMJUtTpjOYbB58AP01Sb/5lsIVEp1CZV8hgaaZ2d1BvZnCTyf5pdLVQAuZSpa6TBUwq1t+\n",
       "UkYsvSLpN19rvIiKQFy6YIxZDS65lSpaLtcOx76W4tD0iOq56QDalKlkIVsW2uWiKphRjW4jJWpG\n",
       "37nSZb4WR7fsI2Rao7Y+g5iceHDqAgPRUm5uOdpoKmhNpiNoS6aSJa1mjAzD9Ln1oFUwZCCw0rvS\n",
       "pLCbhG270me+yMnqzYqqt43Ye2J/qlm5HoLDsdvodKXX/G3ry++2vvJta4jk343HLr6gCCfUNy9S\n",
       "bt83PXeZ9ljkltdyvlfPdo/8v9xePnjV3HnJ68MApvquu/AfSnkmoVsvqcEAAAAASUVORK5CYII=\n",
       "\" style=\"display:inline;vertical-align:middle;\" /></a><br>"
      ],
      "text/plain": [
       "lambda_expr: (x, omega) -> {x + omega if x in Real ,  omega in Real."
      ]
     },
     "execution_count": 81,
     "metadata": {},
     "output_type": "execute_result"
    }
   ],
   "source": [
    "# Can have multiple arguments\n",
    "from proveit.logic import InSet, And\n",
    "from proveit.numbers import Add, Real\n",
    "from proveit import Conditional\n",
    "lambda_expr = Lambda([x, omega], \n",
    "                     Conditional(Add(x, omega), \n",
    "                                 And(InSet(x, Real), \n",
    "                                     InSet(omega, Real))))"
   ]
  },
  {
   "cell_type": "code",
   "execution_count": 82,
   "metadata": {},
   "outputs": [
    {
     "data": {
      "text/html": [
       "<table><tr><th>&nbsp;</th><th>core type</th><th>sub-expressions</th><th>expression</th></tr>\n",
       "<tr><td>0</td><td>Lambda</td><td>parameters:&nbsp;5<br>body:&nbsp;1<br></td><td><a class=\"ProveItLink\" href=\"__pv_it/basic_expressions/67da72b0ca9f116bd44b9f5292db2f6180159d9c0/expr.ipynb\"><img src=\"data:image/png;base64,iVBORw0KGgoAAAANSUhEUgAAASYAAAAVCAMAAADcg7NfAAAANlBMVEX///8oKCgNDQ3MzMxUVFR2\n",
       "dna6uroQEBCqqqqIiIgiIiJmZmYyMjJERETu7u6YmJjc3NwAAADtE0dfAAAAAXRSTlMAQObYZgAA\n",
       "As5JREFUWMPdWOuaoyAMZZf7JQHe/2VHRK0KVKjOfvuVH+1MNeeQQ0gIhPzO8NaTLxuhzyMVuhHR\n",
       "8W8TiSB0vsi6dfLx7srJvHSCaRgKYiMBonMSPgrmd+YudMdILx03N2WicQ5HKlFEMWTpCLLJEDzg\n",
       "J8RNc2+7Mbh+RCbVC0MsDPsJJPD8xT6RqWluBlKObDzQ4XdkYpdL6MFMwxV+2kB6Yr/bPIzsD9fY\n",
       "AMo+LFOgtEcmChrr4TD5eR2JA+Z6mQlqzYLQx33FNi2zPtzu8A4hWZepClrIdGaZ/oKYMoSV0r4Y\n",
       "SzB02No1bMr+FyRD5ktOR57yvCb7ACR+RcSY5+ZdQxh1VI25NmghU8Eyx+08S7abawWsVnqzn8rY\n",
       "owY1kgFzYlRe/+lXHpGIvelrJXl+S5lW/Oh9ZVCStkELmQqWebqFTBUwqOdgmdKNIpckA+ZEZpmT\n",
       "k3CyEyKXyLQYYanT28O/f9xhxK1wU1irQgHK51eNnL9Yi6UuUzlDKjf2YzgIS071vEYyYL7JlEY8\n",
       "5Yz5XzqvAydnmcxpHmaX3cUSTTXQIppKlrpMJViAVkW3ggK5Ihkw3zbdrAGtBKpOzwNfxWhsOnrc\n",
       "ygyaoIVMJUtTpjOYbB58AP01Sb/5lsIVEp1CZV8hgaaZ2d1BvZnCTyf5pdLVQAuZSpa6TBUwq1t+\n",
       "UkYsvSLpN19rvIiKQFy6YIxZDS65lSpaLtcOx76W4tD0iOq56QDalKlkIVsW2uWiKphRjW4jJWpG\n",
       "37nSZb4WR7fsI2Rao7Y+g5iceHDqAgPRUm5uOdpoKmhNpiNoS6aSJa1mjAzD9Ln1oFUwZCCw0rvS\n",
       "pLCbhG270me+yMnqzYqqt43Ye2J/qlm5HoLDsdvodKXX/G3ry++2vvJta4jk343HLr6gCCfUNy9S\n",
       "bt83PXeZ9ljkltdyvlfPdo/8v9xePnjV3HnJ68MApvquu/AfSnkmoVsvqcEAAAAASUVORK5CYII=\n",
       "\" style=\"display:inline;vertical-align:middle;\" /></a></td></tr>\n",
       "<tr><td>1</td><td>Conditional</td><td>value:&nbsp;2<br>condition:&nbsp;3<br></td><td><a class=\"ProveItLink\" href=\"__pv_it/basic_expressions/051dbf3e97abe9fa437cbbcaed4c2ce47b89fe500/expr.ipynb\"><img src=\"data:image/png;base64,iVBORw0KGgoAAAANSUhEUgAAANMAAAAVBAMAAAAumMZDAAAAMFBMVEX///+IiIi6urrc3NxERETM\n",
       "zMwQEBCqqqpUVFQiIiJ2dnYyMjLu7u5mZmaYmJgAAABN0h6tAAAAAXRSTlMAQObYZgAAAphJREFU\n",
       "SMe9lk1oE0EUx/9Jds12sxu3ICoSsSpKEaRBtGgOskg8iKXZQxAvEoWiKCrxIgiCK+K5fkAlFCF6\n",
       "aA8qBoofGMENeggiNljsQaFE7aUXSUGpEAvOzG62O/mwUUrmsLzZ/3vzy3vzdiYAwjPo0FBedIqE\n",
       "cGUZh/4y0LumeexIvPp0sHXo3FAiP1R2p/KNZVCpLMSzfT1NtZBiioMDrWNzRSRnrRaoC80iVL3F\n",
       "UkIgC31va5QeIy7mv6CkUt2L2UwmV0NNhRoDajpBqdFc26g9RgMqGfFkNSU0hLg6Q+lelNJ9bfM9\n",
       "HkWz3kc3KJAwxelzjFVYv2uDRpv2pbeAZq+TOnW+BU4nKMnvFlAi+b3FnDbKocKUMqmxrTchMW8l\n",
       "G77ZRashRT2o4F1n4a/UZR6cTlCXPrttcdEAHuKxtZVDqSzhNFuuhpIt+befriJ42uJ05pljs8TH\n",
       "wel6f2Y07Zb1NnlYiLPJg3x+JJ9/TqwtpFERjnIoBYJd9iN5Mpy2uF9yet3fA9If33hdj+0U3KSw\n",
       "3aDP+bq20CCWIINDAatZRbHb2+wfkrbpA44BWV7XY+q2pQ9Foqb4sw5Vgi+NWD0qxX4WVnlRwnut\n",
       "VvJ1CGR5nezVwBfutLjsqyDCoQ4iVcIEjwpam+Cj5VA1D0o0P9qmIS4ixEq+pBPUUdXwoPwLQiVQ\n",
       "5lBjj04tjtmvyAbZe9SXTmA/e3XHczBhXDKUKlnnzPSVT+fB6+RgktPXqTWZYyjlamTjd76Ab6rR\n",
       "tSeYJQ7/ej38g1KL3YUZm148YLnHrSEcXkDGgpKY8J100qnp5Lh9gvgr2oNdZnsHU8PYcSiT886D\n",
       "1t91p4DHuem7/7qJ5JW5r9oZhfbcVuIWLrfnFuzQf4s//kC5fmap/u0AAAAASUVORK5CYII=\n",
       "\" style=\"display:inline;vertical-align:middle;\" /></a></td></tr>\n",
       "<tr><td>2</td><td>Operation</td><td>operator:&nbsp;4<br>operands:&nbsp;5<br></td><td><a class=\"ProveItLink\" href=\"__pv_it/basic_expressions/163300e086c0db5ef4d055dc17091c21f58d557f0/expr.ipynb\"><img src=\"data:image/png;base64,iVBORw0KGgoAAAANSUhEUgAAADIAAAAPBAMAAABU9YHxAAAAMFBMVEX///8QEBBmZmaqqqrMzMxE\n",
       "REQyMjIiIiKYmJh2dna6urrc3NxUVFSIiIju7u4AAAA6P00QAAAAAXRSTlMAQObYZgAAAJxJREFU\n",
       "GNNjYCAK2FIu8/bOrpsXUGR4gJi7ioFvAkctewKKTBcQ8/1l4HzA+Y9rA4qMAoiYzMDHwBoA5k9L\n",
       "SytMS8thYOBawMDGwNANFOK/gOoCXgYGJwaGCUCWvwOqDBMDw2UG7gkMzA/uM/A+QJZhdWD5xMC2\n",
       "gWG9QTzDDhQ9nJKK9poSDAxv7r7VaECR4YvP5hW8QGzovEPmAACp3SPn83NU2wAAAABJRU5ErkJg\n",
       "gg==\n",
       "\" style=\"display:inline;vertical-align:middle;\" /></a></td></tr>\n",
       "<tr><td>3</td><td>Operation</td><td>operator:&nbsp;6<br>operands:&nbsp;7<br></td><td><a class=\"ProveItLink\" href=\"__pv_it/basic_expressions/e74d1ff817936767d02f1ffb32bc181d2fde919e0/expr.ipynb\"><img src=\"data:image/png;base64,iVBORw0KGgoAAAANSUhEUgAAAJ0AAAAUBAMAAABltyL1AAAAMFBMVEX////MzMxUVFR2dna6uroQ\n",
       "EBCqqqqIiIgiIiJmZmYyMjJERETu7u6YmJjc3NwAAACgK8IjAAAAAXRSTlMAQObYZgAAAo9JREFU\n",
       "OMuVVE1oE1EQ/jabJtnsZg0FD5KDEbwJJQepiJeoFwXBggpiEfbYkwYFgyCYg8ZYRCJVBMGSgnoo\n",
       "UnMQLDZtloBUIoIHQWtBFn9AEMGTonhw5r3d7EvYBp3DvjfvzX4z876ZAexX2FAS3uDJNwyRU/x5\n",
       "EXGRubz0+/4ybcYGLqxmFM7byfb8JIUVY/cLURZpK68tt4Cur9vBuRcZWKOD3LoLq0Gh1KMMTLuA\n",
       "5gdAL/k4vtVadKLNj/RHHtgFpPo8ZhZr0wHebJrym5DnuWtyvd6Ps16rNXw8w6PdM+CLeq89ccP4\n",
       "Zk3a3JP69rJMu9IHl7sQxmd49LTpIs6Tunrm01mRWNdV8s3vo81uSUMjJdYkpR1j3Evi9KGSbyxO\n",
       "+ep1EItWIXMlJeIeU94vcZXN3wlVd3RHHBOJrxnpJ2sxT8GbukOxZBqokrWr/4mLu2aId7z2gDdT\n",
       "Qk3BFv5ShCqYGRdGIR+fa9PsMFHBUfIGUwJpJ+ZJJN7Oeos3W8XFG2AbryNFxIsgnt6ztpmtfT4O\n",
       "mvxU2nfGAzbJsrCV+Ao3cyEesTvq4yWBLUCBta9KvRh7mxKvKv7KyvMJBc98yU4OiLar+5VM+RrA\n",
       "OdgCb0StvxblgHiF+Ui4F5EUzN5W8LT8jYAPxmJM5sPMar/8NjFKCt6okRV8UEEcdtp+n6ecsN8w\n",
       "HiOLGVFnfs5cD/qRW6dnTkqrqtJvukMvbBQ4oU559a4cMtaOQ715kDWf/gDmRDXzpyzzsdoLyWN+\n",
       "YJ3HbjAP5rD0yEE6O9Bv8T2y33rzRDREUZAf0W/7F2W/BfJ8o3kQiF7q19cwVGgeYGWYQXdw7njD\n",
       "rHleRc7Tnqz80zzt8zZs3mf+b95T1/wFLZ+wXhD+JzgAAAAASUVORK5CYII=\n",
       "\" style=\"display:inline;vertical-align:middle;\" /></a></td></tr>\n",
       "<tr><td>4</td><td>Literal</td><td></td><td><a class=\"ProveItLink\" href=\"../packages/proveit/numbers/addition/__pv_it/common/1f38fe5cce441387feef296e2c0a2eac260bb4f30/expr.ipynb\"><img src=\"data:image/png;base64,iVBORw0KGgoAAAANSUhEUgAAAA4AAAAPBAMAAAAmOuNHAAAAHlBMVEX////u7u5UVFQQEBAiIiIy\n",
       "MjJ2dnaIiIiqqqoAAABCN83zAAAAAXRSTlMAQObYZgAAABxJREFUCNdjYECAdlLo1NBQ59DQIJL1\n",
       "AYEgEAMABwsItInrGUMAAAAASUVORK5CYII=\n",
       "\" style=\"display:inline;vertical-align:middle;\" /></a></td></tr>\n",
       "<tr><td>5</td><td>ExprTuple</td><td>13, 14</td><td><a class=\"ProveItLink\" href=\"__pv_it/basic_expressions/9fd699e517b728423a8c02d44a28a6065b78c75c0/expr.ipynb\"><img src=\"data:image/png;base64,iVBORw0KGgoAAAANSUhEUgAAAC8AAAAUBAMAAADvtHnxAAAAMFBMVEX////MzMxUVFR2dna6uroQ\n",
       "EBCqqqqIiIgiIiJmZmYyMjJERETu7u6YmJjc3NwAAACgK8IjAAAAAXRSTlMAQObYZgAAAQRJREFU\n",
       "GNNtkTFLw0AYhp+akNQkjVk7+RcyKW4d3RzUUfAXqChUnOwg1bEgjkJ+QfEPaA9BIrg4OEsGBxfB\n",
       "TRQHvy+HNKV3cBfyPck9d+8H6TNzY0+Xp/k6C5UsYwdICuiMHIBVaFcu8ADvrjpRjxN5lIdvRwfW\n",
       "KjM9A2/Erajyznm7qMGLmr/EXDAUbLxf36rqk6xAMGBLPiG+sVv7PSJ4hdanAliyBkLoQl6DoRaW\n",
       "MwsWoU8qwB+oPDCnhEZBnLW+iapavgYbuxM+SH7kGJtX+5c7+mvOOtwfl9cS8YUhmYzDbfVFWSOS\n",
       "wExv/tgM0ZsNkbv/l3I29mmjGp2MdX9Xa+Xuf4LZOciBRcMxAAAAAElFTkSuQmCC\n",
       "\" style=\"display:inline;vertical-align:middle;\" /></a></td></tr>\n",
       "<tr><td>6</td><td>Literal</td><td></td><td><a class=\"ProveItLink\" href=\"../packages/proveit/logic/booleans/conjunction/__pv_it/common/26b94b53e70b1d77b70f0d9d4236347db37731060/expr.ipynb\"><img src=\"data:image/png;base64,iVBORw0KGgoAAAANSUhEUgAAAAwAAAAOBAMAAADpk+DfAAAALVBMVEX///+YmJiqqqp2dnaIiIi6\n",
       "urpUVFTu7u4iIiJERETMzMxmZmYyMjLc3NwAAAA0M6a/AAAAAXRSTlMAQObYZgAAAElJREFUCNdj\n",
       "YGDgZQADng1gamU7mEp1AZHsBzhAFLMCswKQ4mDgPQCkRBgYsoAUUN0yBgYmoC6eCyAEYq5kAEuk\n",
       "gigXhgAQxQUA/TsLhzUuB2sAAAAASUVORK5CYII=\n",
       "\" style=\"display:inline;vertical-align:middle;\" /></a></td></tr>\n",
       "<tr><td>7</td><td>ExprTuple</td><td>8, 9</td><td><a class=\"ProveItLink\" href=\"__pv_it/basic_expressions/f22339b5f9ee04f4b43d46dfb294e0727bfaee130/expr.ipynb\"><img src=\"data:image/png;base64,iVBORw0KGgoAAAANSUhEUgAAAH8AAAAUBAMAAABWoP+5AAAAMFBMVEX////MzMxUVFR2dna6uroQ\n",
       "EBCqqqqIiIgiIiJmZmYyMjJERETu7u6YmJjc3NwAAACgK8IjAAAAAXRSTlMAQObYZgAAAg5JREFU\n",
       "OMtjYOC7wEA2yAMRp7FI8Lbu/rV0L26NN6L3r4oGWsz0AMhZh00FF48C4949uE1YcIhB+vYBBp4F\n",
       "QMsmYFPAzWfAsOERbgM2PAYqUWBgMGdg4HiA4vYdHV0wA+ZxYWq83dGxAGoA5wMg6ygDwwtkecbt\n",
       "BxAumMeNoV+6BuECzgcbgF51YKgEco8XPSkuAImfOoDkBQUnCJsJiPlaQCyeNUheYGIBeoF5AgMw\n",
       "rHkMeNs5wC7TQwoDtk6o8isgrd/BRj1AMiBjFtA23gUMbUBjDjD/YQHLbUAYENGxDMoGh7IZWBQR\n",
       "iE87uhKANFsDQwjQeAZuiE7GqFVAADHAZAI0FlkcGICheQ/EFAVJQwPRkxvkXcYPIAMYGPjBIcDA\n",
       "h+QCgynSECY7A4MkA4MBiPkaKRo5HTdADGgD8eUFIOIBSAZwn4WYysnAUMbABzaAFTkd7LkOcl4D\n",
       "KBDZDtQzsIPDfzqSAYwKEyFMAcafDFzgIOIsQDJAiFMAHIiWDAz+CfsZ3oLFORIQSZnBjEmA5xcw\n",
       "iIOn5k+OhQi3ISVl5gRFoJEGDB4MDIfKj8+FZEkebR94ZhLg3vWNoQOY3vevYw+FWn1oywFYZlrI\n",
       "sHt9AgOXAFpSZrGGJGUYYDuAmhSdd0CSMgycwJWZYICZQIEAzEwM+/ApOI5fPyg7Yy1Q4IBAacUN\n",
       "8j8lRRowfQIAjbCSxBJbDaYAAAAASUVORK5CYII=\n",
       "\" style=\"display:inline;vertical-align:middle;\" /></a></td></tr>\n",
       "<tr><td>8</td><td>Operation</td><td>operator:&nbsp;11<br>operands:&nbsp;10<br></td><td><a class=\"ProveItLink\" href=\"__pv_it/basic_expressions/2ae9662e1ee275455fafc640f791e94a040fba2c0/expr.ipynb\"><img src=\"data:image/png;base64,iVBORw0KGgoAAAANSUhEUgAAADQAAAAPBAMAAABZ6/G2AAAAMFBMVEX///8QEBBmZmaqqqrMzMxE\n",
       "REQyMjIiIiKYmJh2dna6urrc3NxUVFSIiIju7u4AAAA6P00QAAAAAXRSTlMAQObYZgAAAMRJREFU\n",
       "GNNjYMAAHIWh3xIjGLACNr4DLBFxWKVYuScwBOxBEWotL0+ASWmzIcu43kPSpc0KZLy9s+vmBSDN\n",
       "l4ds4IE1QJEJHLXsIHN4NiBJMRcBFXI+4PzHBRJlRXKGeHkyyBwG1gCwgGMaEECdMUsB4nb+C2Bq\n",
       "K7LjtVzBLH8HMMWILMX6Aqie+cF9Bt4HQAGmC0hSLAdUGBjWG8Qz7ACLFCMFFMNkHgeGN3ffajSA\n",
       "Rd5EPYAHrwNr2Gfk4FgZDgkoKAAAelg1omM6Y4wAAAAASUVORK5CYII=\n",
       "\" style=\"display:inline;vertical-align:middle;\" /></a></td></tr>\n",
       "<tr><td>9</td><td>Operation</td><td>operator:&nbsp;11<br>operands:&nbsp;12<br></td><td><a class=\"ProveItLink\" href=\"__pv_it/basic_expressions/a084508a5964702d2692c201ea14963b1ec6f2e50/expr.ipynb\"><img src=\"data:image/png;base64,iVBORw0KGgoAAAANSUhEUgAAADYAAAAPBAMAAABdHiGLAAAAMFBMVEX///8QEBBERETMzMwyMjKq\n",
       "qqp2dnZmZmaIiIju7u6YmJi6uroiIiLc3NxUVFQAAABheaknAAAAAXRSTlMAQObYZgAAAM1JREFU\n",
       "GNNjYMAEXAeVvjhqMWAHLJwPmLU0scsx8SYwKNxDFVt05owDTK6WBUXKqBNJXy0TkPEAiO9sABKc\n",
       "nshmPtgHdBRIeH4DkOC7gCTHehyokh3EYQsAiSC5ReaMK5DezcDgwMAF0mLoAgRQt2QXgLzQwMBc\n",
       "wMAGErmE7IdqIyBdwMARwHANJMKILMc0C+gEZQb7AgZfkAh7A5Ic84NiBobEdNHviQvAQkeRwowh\n",
       "lc+AYdKXC40SEKF52hPgYW3ApPIVJWC26UDCDAoAMRIxIgw2yboAAAAASUVORK5CYII=\n",
       "\" style=\"display:inline;vertical-align:middle;\" /></a></td></tr>\n",
       "<tr><td>10</td><td>ExprTuple</td><td>13, 15</td><td><a class=\"ProveItLink\" href=\"__pv_it/basic_expressions/e8f5d566671ade432c4f9b591d1956dcc6a3defc0/expr.ipynb\"><img src=\"data:image/png;base64,iVBORw0KGgoAAAANSUhEUgAAADAAAAAUBAMAAAA5EaOUAAAAMFBMVEX////MzMxUVFR2dna6uroQ\n",
       "EBCqqqqIiIgiIiJmZmYyMjJERETu7u6YmJjc3NwAAACgK8IjAAAAAXRSTlMAQObYZgAAAQdJREFU\n",
       "GNNjYOC7wIAB2B4AidNIArytu38t3Qtk6AHxOmSlXDwKjHv3MDCcAiqagCzBzWfAsOERAwNzAQPH\n",
       "A3SJeVwMDDwBDC8YMCS4gYwlDJVA8njRk+ICuISCE5BhyQB0A48BbzvHApgEW+caIOMWQxvQpgPM\n",
       "f1geQCUiOpaBGBkMIUAdDNwb4HaYTNgDYsiDJBgY+AsQlk+Rhki0gSkBhAT3WZAqD5DlbAfqGdgP\n",
       "wCQYFSaCLbdkYPBP2M/wloHnFyRIGMyYgPonA/UwHCo/PhcYxB0HwIEowL3rGwPDQqQgYTuACAGe\n",
       "BqRAZEYKGmAgMuyDcY4jSZxCjijkmASpxha1vA8YAInwQ1RXY9LBAAAAAElFTkSuQmCC\n",
       "\" style=\"display:inline;vertical-align:middle;\" /></a></td></tr>\n",
       "<tr><td>11</td><td>Literal</td><td></td><td><a class=\"ProveItLink\" href=\"../packages/proveit/logic/sets/membership/__pv_it/common/7171deca84f71f47a6ec7696972d1632274a12880/expr.ipynb\"><img src=\"data:image/png;base64,iVBORw0KGgoAAAANSUhEUgAAAAwAAAAMBAMAAACkW0HUAAAAMFBMVEX///92dna6urqqqqpmZmYQ\n",
       "EBDc3NxUVFTu7u6IiIjMzMwyMjIiIiJERESYmJgAAAAHpoBrAAAAAXRSTlMAQObYZgAAAD1JREFU\n",
       "CNdjYGB4e+bMBgaGtTMYgIBjB4hkYE8AU7xgkmHpbiDYwJAL4bFCKJYJEPowhGq/1ACmFe+c2QAA\n",
       "t5cQC4jqfWMAAAAASUVORK5CYII=\n",
       "\" style=\"display:inline;vertical-align:middle;\" /></a></td></tr>\n",
       "<tr><td>12</td><td>ExprTuple</td><td>14, 15</td><td><a class=\"ProveItLink\" href=\"__pv_it/basic_expressions/b046f5bf56e56b81a871cac881f33f47b023b4ae0/expr.ipynb\"><img src=\"data:image/png;base64,iVBORw0KGgoAAAANSUhEUgAAADIAAAAUBAMAAAA95HOpAAAAMFBMVEX////MzMxUVFR2dna6uroQ\n",
       "EBCqqqqIiIgiIiJmZmYyMjJERETu7u6YmJjc3NwAAACgK8IjAAAAAXRSTlMAQObYZgAAARJJREFU\n",
       "KM9jYOC7wIAJ2B4AidPIIrytu38t3Qtk6AHxOhTFXDwKjHv3MDCcAqqagCLDzWfAsOERAwNzAQPH\n",
       "AwyZeVwMDDwBDC8YMGW4gYwlDJVAUgGIXzjAZRScgAxLBqBDeEGC5wtgMmyda4CMWwxtDAycICHm\n",
       "BKhMRMcyECODIYSBwYWBYQED7wOojMmEPSCGPEimgIFxAgMz3AVTpCEyQNMmMLAnMDyGy3CfBVnp\n",
       "AXLBRgb5CbCgAMowKkwEu8CSgcHUMuyn6QWG8wsgocNgxiTAwDAZqIvh9K8HpeEMDBw9kBAV4N71\n",
       "jYFhIXLo5CCFBU8DcogaIMkAQ5RhH1xZAZLMKeSY40UOWZB6rLENDBEAN/9Bl6npylsAAAAASUVO\n",
       "RK5CYII=\n",
       "\" style=\"display:inline;vertical-align:middle;\" /></a></td></tr>\n",
       "<tr><td>13</td><td>Variable</td><td></td><td><a class=\"ProveItLink\" href=\"__pv_it/basic_expressions/a2581dc5df71d9a30bad37de14965fa5fec97a240/expr.ipynb\"><img src=\"data:image/png;base64,iVBORw0KGgoAAAANSUhEUgAAAAsAAAAJBAMAAAAWSsseAAAALVBMVEX///9mZmaqqqrMzMxEREQy\n",
       "MjIiIiKYmJh2dna6urrc3NxUVFSIiIju7u4AAACJHQtQAAAAAXRSTlMAQObYZgAAAEJJREFUCNdj\n",
       "YLhzeuWJAwy8Dew5bAEMHBc43nIuYOBlYHFgAAG+A2DKzgBIMF04x8BzgWGegh/DcgaG22fuiBcw\n",
       "AAATyhBrnyPYZQAAAABJRU5ErkJggg==\n",
       "\" style=\"display:inline;vertical-align:middle;\" /></a></td></tr>\n",
       "<tr><td>14</td><td>Variable</td><td></td><td><a class=\"ProveItLink\" href=\"__pv_it/basic_expressions/78a68196d231f7f9081c22150ae1da14f50cc59b0/expr.ipynb\"><img src=\"data:image/png;base64,iVBORw0KGgoAAAANSUhEUgAAAA0AAAAJBAMAAAAbVLtZAAAAMFBMVEX///8QEBBERETMzMwyMjKq\n",
       "qqp2dnZmZmaIiIju7u6YmJi6uroiIiLc3NxUVFQAAABheaknAAAAAXRSTlMAQObYZgAAAE5JREFU\n",
       "CNcNxbENQEAAAMBLJIheojcIC0isoNL+CG8FCzCC3hIqlcIQEi3XHDeuTbH9L1H2J+3ttIpDlAQp\n",
       "Qd47qTVBxzCW77AyP8dU8QENTA/yxpazbgAAAABJRU5ErkJggg==\n",
       "\" style=\"display:inline;vertical-align:middle;\" /></a></td></tr>\n",
       "<tr><td>15</td><td>Literal</td><td></td><td><a class=\"ProveItLink\" href=\"../packages/proveit/numbers/number_sets/real_numbers/__pv_it/common/3eaf53c11933bb30b35e82c24807c695de530cf10/expr.ipynb\"><img src=\"data:image/png;base64,iVBORw0KGgoAAAANSUhEUgAAAA8AAAAOBAMAAAACpFvcAAAAMFBMVEX///+IiIiqqqq6urpmZmZ2\n",
       "dnbc3NzMzMxUVFTu7u4yMjJEREQQEBAiIiKYmJgAAACIyPRpAAAAAXRSTlMAQObYZgAAAFlJREFU\n",
       "CNdjeHt6/6rTDxiAYMEMhurXE4CMDakM3GwNEAZLwgIYYwOEwcEMldL1AivOuXtLgQEsYsI9AcJg\n",
       "Md8AYTDsfAhlVLAUQKxgVWhnYABaupxh93oFAP7MI7KHKGXxAAAAAElFTkSuQmCC\n",
       "\" style=\"display:inline;vertical-align:middle;\" /></a></td></tr>\n",
       "</table>\n"
      ],
      "text/plain": [
       "0. (x, omega) -> {x + omega if x in Real ,  omega in Real.\n",
       "   core type: Lambda\n",
       "   parameters: 5\\n   body: 1\n",
       "1. {x + omega if x in Real ,  omega in Real.\n",
       "   core type: Conditional\n",
       "   value: 2\n",
       "   condition: 3\n",
       "2. x + omega\n",
       "   core type: Operation\n",
       "   operator: 4\n",
       "   operands: 5\n",
       "3. (x in Real) and (omega in Real)\n",
       "   core type: Operation\n",
       "   operator: 6\n",
       "   operands: 7\n",
       "4. +\n",
       "   core type: Literal\n",
       "   sub-expressions: \n",
       "5. (x, omega)\n",
       "   core type: ExprTuple\n",
       "   sub-expressions: 13, 14\n",
       "6. and\n",
       "   core type: Literal\n",
       "   sub-expressions: \n",
       "7. (x in Real, omega in Real)\n",
       "   core type: ExprTuple\n",
       "   sub-expressions: 8, 9\n",
       "8. x in Real\n",
       "   core type: Operation\n",
       "   operator: 11\n",
       "   operands: 10\n",
       "9. omega in Real\n",
       "   core type: Operation\n",
       "   operator: 11\n",
       "   operands: 12\n",
       "10. (x, Real)\n",
       "    core type: ExprTuple\n",
       "    sub-expressions: 13, 15\n",
       "11. in\n",
       "    core type: Literal\n",
       "    sub-expressions: \n",
       "12. (omega, Real)\n",
       "    core type: ExprTuple\n",
       "    sub-expressions: 14, 15\n",
       "13. x\n",
       "    core type: Variable\n",
       "    sub-expressions: \n",
       "14. omega\n",
       "    core type: Variable\n",
       "    sub-expressions: \n",
       "15. Real\n",
       "    core type: Literal\n",
       "    sub-expressions: "
      ]
     },
     "execution_count": 82,
     "metadata": {},
     "output_type": "execute_result"
    }
   ],
   "source": [
    "lambda_expr.expr_info()"
   ]
  },
  {
   "cell_type": "markdown",
   "metadata": {},
   "source": [
    "The `parameters` and `body` attributes access these respective sub-expressions:"
   ]
  },
  {
   "cell_type": "code",
   "execution_count": 83,
   "metadata": {},
   "outputs": [
    {
     "data": {
      "text/html": [
       "<a class=\"ProveItLink\" href=\"__pv_it/basic_expressions/9fd699e517b728423a8c02d44a28a6065b78c75c0/expr.ipynb\"><img src=\"data:image/png;base64,iVBORw0KGgoAAAANSUhEUgAAAC8AAAAUBAMAAADvtHnxAAAAMFBMVEX////MzMxUVFR2dna6uroQ\n",
       "EBCqqqqIiIgiIiJmZmYyMjJERETu7u6YmJjc3NwAAACgK8IjAAAAAXRSTlMAQObYZgAAAQRJREFU\n",
       "GNNtkTFLw0AYhp+akNQkjVk7+RcyKW4d3RzUUfAXqChUnOwg1bEgjkJ+QfEPaA9BIrg4OEsGBxfB\n",
       "TRQHvy+HNKV3cBfyPck9d+8H6TNzY0+Xp/k6C5UsYwdICuiMHIBVaFcu8ADvrjpRjxN5lIdvRwfW\n",
       "KjM9A2/Erajyznm7qMGLmr/EXDAUbLxf36rqk6xAMGBLPiG+sVv7PSJ4hdanAliyBkLoQl6DoRaW\n",
       "MwsWoU8qwB+oPDCnhEZBnLW+iapavgYbuxM+SH7kGJtX+5c7+mvOOtwfl9cS8YUhmYzDbfVFWSOS\n",
       "wExv/tgM0ZsNkbv/l3I29mmjGp2MdX9Xa+Xuf4LZOciBRcMxAAAAAElFTkSuQmCC\n",
       "\" style=\"display:inline;vertical-align:middle;\" /></a>"
      ],
      "text/plain": [
       "(x, omega)"
      ]
     },
     "execution_count": 83,
     "metadata": {},
     "output_type": "execute_result"
    }
   ],
   "source": [
    "lambda_expr.parameters"
   ]
  },
  {
   "cell_type": "code",
   "execution_count": 84,
   "metadata": {},
   "outputs": [
    {
     "data": {
      "text/html": [
       "<a class=\"ProveItLink\" href=\"__pv_it/basic_expressions/051dbf3e97abe9fa437cbbcaed4c2ce47b89fe500/expr.ipynb\"><img src=\"data:image/png;base64,iVBORw0KGgoAAAANSUhEUgAAANMAAAAVBAMAAAAumMZDAAAAMFBMVEX///+IiIi6urrc3NxERETM\n",
       "zMwQEBCqqqpUVFQiIiJ2dnYyMjLu7u5mZmaYmJgAAABN0h6tAAAAAXRSTlMAQObYZgAAAphJREFU\n",
       "SMe9lk1oE0EUx/9Jds12sxu3ICoSsSpKEaRBtGgOskg8iKXZQxAvEoWiKCrxIgiCK+K5fkAlFCF6\n",
       "aA8qBoofGMENeggiNljsQaFE7aUXSUGpEAvOzG62O/mwUUrmsLzZ/3vzy3vzdiYAwjPo0FBedIqE\n",
       "cGUZh/4y0LumeexIvPp0sHXo3FAiP1R2p/KNZVCpLMSzfT1NtZBiioMDrWNzRSRnrRaoC80iVL3F\n",
       "UkIgC31va5QeIy7mv6CkUt2L2UwmV0NNhRoDajpBqdFc26g9RgMqGfFkNSU0hLg6Q+lelNJ9bfM9\n",
       "HkWz3kc3KJAwxelzjFVYv2uDRpv2pbeAZq+TOnW+BU4nKMnvFlAi+b3FnDbKocKUMqmxrTchMW8l\n",
       "G77ZRashRT2o4F1n4a/UZR6cTlCXPrttcdEAHuKxtZVDqSzhNFuuhpIt+befriJ42uJ05pljs8TH\n",
       "wel6f2Y07Zb1NnlYiLPJg3x+JJ9/TqwtpFERjnIoBYJd9iN5Mpy2uF9yet3fA9If33hdj+0U3KSw\n",
       "3aDP+bq20CCWIINDAatZRbHb2+wfkrbpA44BWV7XY+q2pQ9Foqb4sw5Vgi+NWD0qxX4WVnlRwnut\n",
       "VvJ1CGR5nezVwBfutLjsqyDCoQ4iVcIEjwpam+Cj5VA1D0o0P9qmIS4ixEq+pBPUUdXwoPwLQiVQ\n",
       "5lBjj04tjtmvyAbZe9SXTmA/e3XHczBhXDKUKlnnzPSVT+fB6+RgktPXqTWZYyjlamTjd76Ab6rR\n",
       "tSeYJQ7/ej38g1KL3YUZm148YLnHrSEcXkDGgpKY8J100qnp5Lh9gvgr2oNdZnsHU8PYcSiT886D\n",
       "1t91p4DHuem7/7qJ5JW5r9oZhfbcVuIWLrfnFuzQf4s//kC5fmap/u0AAAAASUVORK5CYII=\n",
       "\" style=\"display:inline;vertical-align:middle;\" /></a>"
      ],
      "text/plain": [
       "{x + omega if x in Real ,  omega in Real."
      ]
     },
     "execution_count": 84,
     "metadata": {},
     "output_type": "execute_result"
    }
   ],
   "source": [
    "lambda_expr.body"
   ]
  },
  {
   "cell_type": "markdown",
   "metadata": {},
   "source": [
    "If a `Lambda` map has one *parameter*, it will have a `parameter` attribute."
   ]
  },
  {
   "cell_type": "code",
   "execution_count": 85,
   "metadata": {},
   "outputs": [
    {
     "data": {
      "text/html": [
       "<strong id=\"single_param_lambda\">single_param_lambda:</strong> <a class=\"ProveItLink\" href=\"__pv_it/basic_expressions/d2ff0b756db05a295bdd671a83f60b52b54f6e970/expr.ipynb\"><img src=\"data:image/png;base64,iVBORw0KGgoAAAANSUhEUgAAAF8AAAAUCAMAAADcDRFoAAAANlBMVEX///8QEBAoKCgNDQ1mZmaq\n",
       "qqrMzMxEREQyMjIiIiKYmJh2dna6urrc3NxUVFSIiIju7u4AAADPT139AAAAAXRSTlMAQObYZgAA\n",
       "AWBJREFUOMutVe1yxCAI1Nao+AW+/8tWo82Fi9cYp/y4GRNuWWDdCPE4opvL26JYCTL11zoSWm1/\n",
       "ZqalAnb/l8wl/A0TuwDvVKviE97S83iP944C7ZymRikntqT4ckHM4wsbahXEFAO+mjGcMG+nl0vO\n",
       "odJDeSmvUFIbUMmmsiUHKMCOETdWznRxmgIQc7jCB1kGaHNfVsH0JdNnEiGO8QUaOnVzlqQ5Muk1\n",
       "8kpAdU4btFeGcfz+sizyiac8U1a5c6Jsj0cVD/qsde8jMyEB8Y7hhNnx047nj8Lwu29p9nKa4eus\n",
       "P29U23O5Ph9pX2SZIvc7t+WDWjmQwHpGGuPbONhvUxFcLijlrXXXzKfsN5QnJjPXYv4VuP696iKs\n",
       "efJ6gw1WNSbRrEN5QQmRULlPpvgm8gCHypOiwZUtcDombIux+rH/wANTJFj2t6mY8bfrhKcbWPLn\n",
       "/n35XyZL30dX4X8AmLEMe/gCLKEAAAAASUVORK5CYII=\n",
       "\" style=\"display:inline;vertical-align:middle;\" /></a><br>"
      ],
      "text/plain": [
       "single_param_lambda: x -> (5 * a)"
      ]
     },
     "execution_count": 85,
     "metadata": {},
     "output_type": "execute_result"
    }
   ],
   "source": [
    "single_param_lambda = Lambda(x, Mult(FIVE, a))"
   ]
  },
  {
   "cell_type": "code",
   "execution_count": 86,
   "metadata": {},
   "outputs": [
    {
     "data": {
      "text/html": [
       "<a class=\"ProveItLink\" href=\"__pv_it/basic_expressions/a2581dc5df71d9a30bad37de14965fa5fec97a240/expr.ipynb\"><img src=\"data:image/png;base64,iVBORw0KGgoAAAANSUhEUgAAAAsAAAAJBAMAAAAWSsseAAAALVBMVEX///9mZmaqqqrMzMxEREQy\n",
       "MjIiIiKYmJh2dna6urrc3NxUVFSIiIju7u4AAACJHQtQAAAAAXRSTlMAQObYZgAAAEJJREFUCNdj\n",
       "YLhzeuWJAwy8Dew5bAEMHBc43nIuYOBlYHFgAAG+A2DKzgBIMF04x8BzgWGegh/DcgaG22fuiBcw\n",
       "AAATyhBrnyPYZQAAAABJRU5ErkJggg==\n",
       "\" style=\"display:inline;vertical-align:middle;\" /></a>"
      ],
      "text/plain": [
       "x"
      ]
     },
     "execution_count": 86,
     "metadata": {},
     "output_type": "execute_result"
    }
   ],
   "source": [
    "single_param_lambda.parameter"
   ]
  },
  {
   "cell_type": "markdown",
   "metadata": {},
   "source": [
    "### Lambda relabeling and relabeled equivalence"
   ]
  },
  {
   "cell_type": "markdown",
   "metadata": {},
   "source": [
    "The choice of *parameter* *labels* has no effect on the meaning of a `Lambda` map.  We are free to \"relabel\" the *parameters* (via `Lambda.relabeled`) as long as it is done consistently and distinct labels remain distinct."
   ]
  },
  {
   "cell_type": "code",
   "execution_count": 87,
   "metadata": {},
   "outputs": [
    {
     "data": {
      "text/html": [
       "<a class=\"ProveItLink\" href=\"__pv_it/basic_expressions/67da72b0ca9f116bd44b9f5292db2f6180159d9c0/expr.ipynb\"><img src=\"data:image/png;base64,iVBORw0KGgoAAAANSUhEUgAAASYAAAAVCAMAAADcg7NfAAAANlBMVEX///8oKCgNDQ3MzMxUVFR2\n",
       "dna6uroQEBCqqqqIiIgiIiJmZmYyMjJERETu7u6YmJjc3NwAAADtE0dfAAAAAXRSTlMAQObYZgAA\n",
       "As5JREFUWMPdWOuaoyAMZZf7JQHe/2VHRK0KVKjOfvuVH+1MNeeQQ0gIhPzO8NaTLxuhzyMVuhHR\n",
       "8W8TiSB0vsi6dfLx7srJvHSCaRgKYiMBonMSPgrmd+YudMdILx03N2WicQ5HKlFEMWTpCLLJEDzg\n",
       "J8RNc2+7Mbh+RCbVC0MsDPsJJPD8xT6RqWluBlKObDzQ4XdkYpdL6MFMwxV+2kB6Yr/bPIzsD9fY\n",
       "AMo+LFOgtEcmChrr4TD5eR2JA+Z6mQlqzYLQx33FNi2zPtzu8A4hWZepClrIdGaZ/oKYMoSV0r4Y\n",
       "SzB02No1bMr+FyRD5ktOR57yvCb7ACR+RcSY5+ZdQxh1VI25NmghU8Eyx+08S7abawWsVnqzn8rY\n",
       "owY1kgFzYlRe/+lXHpGIvelrJXl+S5lW/Oh9ZVCStkELmQqWebqFTBUwqOdgmdKNIpckA+ZEZpmT\n",
       "k3CyEyKXyLQYYanT28O/f9xhxK1wU1irQgHK51eNnL9Yi6UuUzlDKjf2YzgIS071vEYyYL7JlEY8\n",
       "5Yz5XzqvAydnmcxpHmaX3cUSTTXQIppKlrpMJViAVkW3ggK5Ihkw3zbdrAGtBKpOzwNfxWhsOnrc\n",
       "ygyaoIVMJUtTpjOYbB58AP01Sb/5lsIVEp1CZV8hgaaZ2d1BvZnCTyf5pdLVQAuZSpa6TBUwq1t+\n",
       "UkYsvSLpN19rvIiKQFy6YIxZDS65lSpaLtcOx76W4tD0iOq56QDalKlkIVsW2uWiKphRjW4jJWpG\n",
       "37nSZb4WR7fsI2Rao7Y+g5iceHDqAgPRUm5uOdpoKmhNpiNoS6aSJa1mjAzD9Ln1oFUwZCCw0rvS\n",
       "pLCbhG270me+yMnqzYqqt43Ye2J/qlm5HoLDsdvodKXX/G3ry++2vvJta4jk343HLr6gCCfUNy9S\n",
       "bt83PXeZ9ljkltdyvlfPdo/8v9xePnjV3HnJ68MApvquu/AfSnkmoVsvqcEAAAAASUVORK5CYII=\n",
       "\" style=\"display:inline;vertical-align:middle;\" /></a>"
      ],
      "text/plain": [
       "(x, omega) -> {x + omega if x in Real ,  omega in Real."
      ]
     },
     "execution_count": 87,
     "metadata": {},
     "output_type": "execute_result"
    }
   ],
   "source": [
    "lambda_expr"
   ]
  },
  {
   "cell_type": "code",
   "execution_count": 88,
   "metadata": {},
   "outputs": [
    {
     "data": {
      "text/html": [
       "<strong id=\"lambda_expr_v2\">lambda_expr_v2:</strong> <a class=\"ProveItLink\" href=\"__pv_it/basic_expressions/485adfa4a7ec9082e574f95a25f8df5cbb5398e20/expr.ipynb\"><img src=\"data:image/png;base64,iVBORw0KGgoAAAANSUhEUgAAASMAAAAVCAMAAAA6qngbAAAANlBMVEX///8oKCgNDQ1UVFTMzMx2\n",
       "dna6uroQEBCqqqqIiIgiIiJmZmYyMjJERETu7u6YmJjc3NwAAADzUGF5AAAAAXRSTlMAQObYZgAA\n",
       "AvhJREFUWMPdWFmS6yAM5D32RRjuf9kxeAc0VpzMT/iIU2WrhZpGQjD2N2PyE/umkUjhmERHjEF+\n",
       "FUMsAu07Tidpym+uml6WTXELL2jXaYAcgoZHGv7NPCSqOMjupHuPI5GrDoWOKqsX7AKLfDaDCeIT\n",
       "t6j55MmR209wZMgozMOLQQJLcnnwJxyh5o68haJGXtj0Nxzxu+WbwM0jtEH6xEiap5qnF7ZFQHRv\n",
       "/Ic5SkIQOBJg41AIc5AEBdLN7TKPaL2tyfJixnciKzvSn+AuWhxzNARtOWp81L+QS17wWvvdY48V\n",
       "Q0Q2C5+T/Z2PV8zXJC6ZKjvJXgrStCHGXAObAsKKaZaNBxy04aj1sSq2TpKfptpjDersEqRx/hr/\n",
       "0AfdnDlTCTbMl7jgEuwhG1m/Mg5Tjr1UAqMFDtpw1PpYZ9tyNMCCYdLVJcMYdu+Dbs505XiOUJe5\n",
       "n9eSKbUUxLISaSnJ+7v//8Jl5KNGC1jLQAsq65dO1wdHfCAc9RMUend+EYLyrCndQx90842jGSjH\n",
       "QoI4i6Ni+UXpDUeumYY7p3OlBQra6KjzgXDUYyVAirdXokm5Ix90822vsUXJVncSteV9kisTyF4T\n",
       "zQbmgII2HHU+UI46LI0dcCBOBB9k8z1nL7OCSz4HURbOH0dxNGe3R/Wt9g9AG446HyhHHZa3SJCC\n",
       "My9ufZDNj3rueZHzVJP/SoXU0muTvVy7J+aPZbi0NAo7Hx2gGEedj3W2wNpk32M5M24mSmbm4ggE\n",
       "8XFnvpXCsO+fyK31ufLs1mQT5w4vzfLWW1RBID2DQDg6gSIcdT7q1uU585jm31N72WNFDir2Tako\n",
       "5IZs9kCGPgjmK5X80ov4VUBm3BFG8pH8fM724XEv0i9Gg6UkXJqJ7kz/e2t7Z970tOXUF7f6Ld/u\n",
       "aTXrQHemH7XkY6zbeXzq/giKkNwsarDbsf/du5H1/ugM+u54ghXtpziqd2xq3uxilI8bLqndb13B\n",
       "M+i74wnWB6+LaXe1U3oF03zRffYPF28nrMYvoYIAAAAASUVORK5CYII=\n",
       "\" style=\"display:inline;vertical-align:middle;\" /></a><br>"
      ],
      "text/plain": [
       "lambda_expr_v2: (y, omega) -> {y + omega if y in Real ,  omega in Real."
      ]
     },
     "execution_count": 88,
     "metadata": {},
     "output_type": "execute_result"
    }
   ],
   "source": [
    "lambda_expr_v2 = lambda_expr.relabeled({x:y})"
   ]
  },
  {
   "cell_type": "markdown",
   "metadata": {},
   "source": [
    "We can even simultaneously swap labels:"
   ]
  },
  {
   "cell_type": "code",
   "execution_count": 89,
   "metadata": {},
   "outputs": [
    {
     "data": {
      "text/html": [
       "<a class=\"ProveItLink\" href=\"__pv_it/basic_expressions/67da72b0ca9f116bd44b9f5292db2f6180159d9c0/expr.ipynb\"><img src=\"data:image/png;base64,iVBORw0KGgoAAAANSUhEUgAAASYAAAAVCAMAAADcg7NfAAAANlBMVEX///8oKCgNDQ3MzMxUVFR2\n",
       "dna6uroQEBCqqqqIiIgiIiJmZmYyMjJERETu7u6YmJjc3NwAAADtE0dfAAAAAXRSTlMAQObYZgAA\n",
       "As5JREFUWMPdWOuaoyAMZZf7JQHe/2VHRK0KVKjOfvuVH+1MNeeQQ0gIhPzO8NaTLxuhzyMVuhHR\n",
       "8W8TiSB0vsi6dfLx7srJvHSCaRgKYiMBonMSPgrmd+YudMdILx03N2WicQ5HKlFEMWTpCLLJEDzg\n",
       "J8RNc2+7Mbh+RCbVC0MsDPsJJPD8xT6RqWluBlKObDzQ4XdkYpdL6MFMwxV+2kB6Yr/bPIzsD9fY\n",
       "AMo+LFOgtEcmChrr4TD5eR2JA+Z6mQlqzYLQx33FNi2zPtzu8A4hWZepClrIdGaZ/oKYMoSV0r4Y\n",
       "SzB02No1bMr+FyRD5ktOR57yvCb7ACR+RcSY5+ZdQxh1VI25NmghU8Eyx+08S7abawWsVnqzn8rY\n",
       "owY1kgFzYlRe/+lXHpGIvelrJXl+S5lW/Oh9ZVCStkELmQqWebqFTBUwqOdgmdKNIpckA+ZEZpmT\n",
       "k3CyEyKXyLQYYanT28O/f9xhxK1wU1irQgHK51eNnL9Yi6UuUzlDKjf2YzgIS071vEYyYL7JlEY8\n",
       "5Yz5XzqvAydnmcxpHmaX3cUSTTXQIppKlrpMJViAVkW3ggK5Ihkw3zbdrAGtBKpOzwNfxWhsOnrc\n",
       "ygyaoIVMJUtTpjOYbB58AP01Sb/5lsIVEp1CZV8hgaaZ2d1BvZnCTyf5pdLVQAuZSpa6TBUwq1t+\n",
       "UkYsvSLpN19rvIiKQFy6YIxZDS65lSpaLtcOx76W4tD0iOq56QDalKlkIVsW2uWiKphRjW4jJWpG\n",
       "37nSZb4WR7fsI2Rao7Y+g5iceHDqAgPRUm5uOdpoKmhNpiNoS6aSJa1mjAzD9Ln1oFUwZCCw0rvS\n",
       "pLCbhG270me+yMnqzYqqt43Ye2J/qlm5HoLDsdvodKXX/G3ry++2vvJta4jk343HLr6gCCfUNy9S\n",
       "bt83PXeZ9ljkltdyvlfPdo/8v9xePnjV3HnJ68MApvquu/AfSnkmoVsvqcEAAAAASUVORK5CYII=\n",
       "\" style=\"display:inline;vertical-align:middle;\" /></a>"
      ],
      "text/plain": [
       "(x, omega) -> {x + omega if x in Real ,  omega in Real."
      ]
     },
     "execution_count": 89,
     "metadata": {},
     "output_type": "execute_result"
    }
   ],
   "source": [
    "lambda_expr"
   ]
  },
  {
   "cell_type": "code",
   "execution_count": 90,
   "metadata": {},
   "outputs": [
    {
     "data": {
      "text/html": [
       "<a class=\"ProveItLink\" href=\"__pv_it/basic_expressions/40b6a2bd69f9196fe426f31eeb93071fc81138120/expr.ipynb\"><img src=\"data:image/png;base64,iVBORw0KGgoAAAANSUhEUgAAASYAAAAVCAMAAADcg7NfAAAANlBMVEX///8oKCgNDQ3MzMxUVFR2\n",
       "dna6uroQEBCqqqqIiIgiIiJmZmYyMjJERETu7u6YmJjc3NwAAADtE0dfAAAAAXRSTlMAQObYZgAA\n",
       "At9JREFUWMPdWFuS4yAMZJe3QTLc/7JjG8fBICV44tnaGn8kqYq7GxohIYT4mWcOs/hlTxqbkUvD\n",
       "jBj1bzNJIAy+qIZ9mvOnK2fL0hnl4VoUTxYgx2jhO9H8Ch3TcIyMyunpQ5tk3sJRWjTZXINGgWpB\n",
       "wgz4DWEWPYdhDu1vsskNEgW4PlEQSZcvJW5ETxdSjmX+8OlnbFIDSzjDtDyxnWhIIl4Hs+h0ZX9E\n",
       "ZgO4cLNNScoxmyR4JONhmShcB7Nov49EHbadrEDvVTJ+3246VHynkKRtYkg7m84qy/uQ1wwRrA1P\n",
       "RYoMIzLbRi3p/7UIBWbRe06fH9KY6ymgXtO/F3tczpExxp1dU/EVaWdTo7LF7TZKVY2VJCOKb5mo\n",
       "m0JjQi9CVW4OPbmSLJ+R4OqwWF7WGYUpjG7i4sfXlcFZ+Yq0s6lR2Ybb2USSATlRu+Yb15aVTgTE\n",
       "ONpui2RMqYbrqtUer3MHqOr08fPvn3h68lG4JexVgSLV28uT3b4UrULaRI5Q2kP/FA8miO440IlQ\n",
       "YBZdbNpWV24L1p2fqxivbJrORKbOPqZEE09KpPBmW3Y2kWQJmG0TjKRi5SSSQIyjy6bb5P36M+nu\n",
       "pCcrM5hNJ89bWcFr0t6mWoW0iSazXHYBnL14I2LFOLqkcJArSejO5A6FXyNoL5xsCm9O8qXScaSd\n",
       "TY0KaRNNFjwzUalEkG9ECDCLLjVeWx2sy0GXXgpz8cNkJyA/m+PwXMhT02PIc1NDytrUqogji1S5\n",
       "hCGbHN1urHleyedMSJEe3KAfpTXu+wiXhi8Jb+0+/qmkHlTeow/zgzpKpqmQlE0tKWdTq7KuZs4K\n",
       "0/J59KAMGSow2DevcrU4Ls48ZkKI9OAevbuhuGbFUX0jjp7Y72pWRh6j4dxvjMxkFPyu9dWftb72\n",
       "TXOI4p89d918ARFO6D+6SPn4vunG27S7Ape6lptH/eR65P/m9vK+u+bBS945XeB0v+su/AsVwSah\n",
       "T+TiSgAAAABJRU5ErkJggg==\n",
       "\" style=\"display:inline;vertical-align:middle;\" /></a>"
      ],
      "text/plain": [
       "(omega, x) -> {omega + x if omega in Real ,  x in Real."
      ]
     },
     "execution_count": 90,
     "metadata": {},
     "output_type": "execute_result"
    }
   ],
   "source": [
    "lambda_expr.replaced({x:omega, omega:x}, allow_relabeling=True)"
   ]
  },
  {
   "cell_type": "code",
   "execution_count": 91,
   "metadata": {},
   "outputs": [
    {
     "data": {
      "text/html": [
       "<strong id=\"lambda_expr_v3\">lambda_expr_v3:</strong> <a class=\"ProveItLink\" href=\"__pv_it/basic_expressions/40b6a2bd69f9196fe426f31eeb93071fc81138120/expr.ipynb\"><img src=\"data:image/png;base64,iVBORw0KGgoAAAANSUhEUgAAASYAAAAVCAMAAADcg7NfAAAANlBMVEX///8oKCgNDQ3MzMxUVFR2\n",
       "dna6uroQEBCqqqqIiIgiIiJmZmYyMjJERETu7u6YmJjc3NwAAADtE0dfAAAAAXRSTlMAQObYZgAA\n",
       "At9JREFUWMPdWFuS4yAMZJe3QTLc/7JjG8fBICV44tnaGn8kqYq7GxohIYT4mWcOs/hlTxqbkUvD\n",
       "jBj1bzNJIAy+qIZ9mvOnK2fL0hnl4VoUTxYgx2jhO9H8Ch3TcIyMyunpQ5tk3sJRWjTZXINGgWpB\n",
       "wgz4DWEWPYdhDu1vsskNEgW4PlEQSZcvJW5ETxdSjmX+8OlnbFIDSzjDtDyxnWhIIl4Hs+h0ZX9E\n",
       "ZgO4cLNNScoxmyR4JONhmShcB7Nov49EHbadrEDvVTJ+3246VHynkKRtYkg7m84qy/uQ1wwRrA1P\n",
       "RYoMIzLbRi3p/7UIBWbRe06fH9KY6ymgXtO/F3tczpExxp1dU/EVaWdTo7LF7TZKVY2VJCOKb5mo\n",
       "m0JjQi9CVW4OPbmSLJ+R4OqwWF7WGYUpjG7i4sfXlcFZ+Yq0s6lR2Ybb2USSATlRu+Yb15aVTgTE\n",
       "ONpui2RMqYbrqtUer3MHqOr08fPvn3h68lG4JexVgSLV28uT3b4UrULaRI5Q2kP/FA8miO440IlQ\n",
       "YBZdbNpWV24L1p2fqxivbJrORKbOPqZEE09KpPBmW3Y2kWQJmG0TjKRi5SSSQIyjy6bb5P36M+nu\n",
       "pCcrM5hNJ89bWcFr0t6mWoW0iSazXHYBnL14I2LFOLqkcJArSejO5A6FXyNoL5xsCm9O8qXScaSd\n",
       "TY0KaRNNFjwzUalEkG9ECDCLLjVeWx2sy0GXXgpz8cNkJyA/m+PwXMhT02PIc1NDytrUqogji1S5\n",
       "hCGbHN1urHleyedMSJEe3KAfpTXu+wiXhi8Jb+0+/qmkHlTeow/zgzpKpqmQlE0tKWdTq7KuZs4K\n",
       "0/J59KAMGSow2DevcrU4Ls48ZkKI9OAevbuhuGbFUX0jjp7Y72pWRh6j4dxvjMxkFPyu9dWftb72\n",
       "TXOI4p89d918ARFO6D+6SPn4vunG27S7Ape6lptH/eR65P/m9vK+u+bBS945XeB0v+su/AsVwSah\n",
       "T+TiSgAAAABJRU5ErkJggg==\n",
       "\" style=\"display:inline;vertical-align:middle;\" /></a><br>"
      ],
      "text/plain": [
       "lambda_expr_v3: (omega, x) -> {omega + x if omega in Real ,  x in Real."
      ]
     },
     "execution_count": 91,
     "metadata": {},
     "output_type": "execute_result"
    }
   ],
   "source": [
    "lambda_expr_v3 = lambda_expr.relabeled({x:omega, omega:x})"
   ]
  },
  {
   "cell_type": "markdown",
   "metadata": {},
   "source": [
    "But we cannot allow a collision of the label mappings:"
   ]
  },
  {
   "cell_type": "code",
   "execution_count": 92,
   "metadata": {},
   "outputs": [
    {
     "name": "stdout",
     "output_type": "stream",
     "text": [
      "EXPECTED ERROR:  Cannot relabel omega in (x, omega) -> {x + omega if x in Real ,  omega in Real.; relabeling is only allowed when all occurrences of a range of parameters matches the exact range appearing as parameters (otherwise, the bound verses free portions of the range may be ambiguous).\n"
     ]
    }
   ],
   "source": [
    "from proveit import DisallowedParameterRelabeling\n",
    "try:\n",
    "    lambda_expr.relabeled({x:y, omega:y})\n",
    "    assert False, (\"Expecting a DisallowedParameterRelabeling error; \"\n",
    "                   \"should not make it to this point.\")\n",
    "except DisallowedParameterRelabeling as e:\n",
    "    print(\"EXPECTED ERROR: \", e)"
   ]
  },
  {
   "cell_type": "code",
   "execution_count": 93,
   "metadata": {},
   "outputs": [
    {
     "name": "stdout",
     "output_type": "stream",
     "text": [
      "EXPECTED ERROR:  Cannot relabel omega in (x, omega) -> {x + omega if x in Real ,  omega in Real.; relabeling is only allowed when all occurrences of a range of parameters matches the exact range appearing as parameters (otherwise, the bound verses free portions of the range may be ambiguous).\n"
     ]
    }
   ],
   "source": [
    "try:\n",
    "    lambda_expr.relabeled({x:omega})\n",
    "    assert False, (\"Expecting a DisallowedParameterRelabeling error; \"\n",
    "                   \"should not make it to this point.\")\n",
    "except DisallowedParameterRelabeling as e:\n",
    "    print(\"EXPECTED ERROR: \", e)"
   ]
  },
  {
   "cell_type": "markdown",
   "metadata": {},
   "source": [
    "Also, an exception is raised if we attempt to relabel to a non-Variable."
   ]
  },
  {
   "cell_type": "code",
   "execution_count": 94,
   "metadata": {},
   "outputs": [
    {
     "name": "stdout",
     "output_type": "stream",
     "text": [
      "EXPECTED ERROR:  May only relabel Variables/IndexedVars to Variables/IndexedVars; may not relabel f(x)\n"
     ]
    }
   ],
   "source": [
    "try:\n",
    "    lambda_expr.relabeled({x:fx})\n",
    "    assert False, (\"Expecting a TypeError error; \"\n",
    "                   \"should not make it to this point.\")\n",
    "except TypeError as e:\n",
    "    print(\"EXPECTED ERROR: \", e)"
   ]
  },
  {
   "cell_type": "markdown",
   "metadata": {},
   "source": [
    "Moreover, **Prove-It** recognizes the different valid relabeled versions of *Lambda* expressions as the *same* **expression** with respect to *meaning*.  They are regarded as equal."
   ]
  },
  {
   "cell_type": "code",
   "execution_count": 95,
   "metadata": {},
   "outputs": [],
   "source": [
    "assert lambda_expr == lambda_expr_v2 == lambda_expr_v3"
   ]
  },
  {
   "cell_type": "markdown",
   "metadata": {},
   "source": [
    "These are recognized as having distinct *styles* of presentation, however.    **Prove-It** provides flexibility with respect to presentation style of expressions while recognizing the *meaning* equivalence when style is the only distinction.  This is the first of many examples to be encountered."
   ]
  },
  {
   "cell_type": "markdown",
   "metadata": {},
   "source": [
    "### Lambda scope and substitution rules"
   ]
  },
  {
   "cell_type": "markdown",
   "metadata": {},
   "source": [
    "It is important to understand that a `Lambda` expression defines a new scope within its *body* with respect to the *parameters*.  This has two important consequences with respect to substitution rules."
   ]
  },
  {
   "cell_type": "markdown",
   "metadata": {},
   "source": [
    "The first consequence of the internal `Lambda` scope is that the `Lambda` masks the substitution of variables that happen to be the same as any of the `Lambda` parameters.  For example,"
   ]
  },
  {
   "cell_type": "code",
   "execution_count": 96,
   "metadata": {},
   "outputs": [
    {
     "data": {
      "text/html": [
       "<strong id=\"tuple_with_lambda\">tuple_with_lambda:</strong> <a class=\"ProveItLink\" href=\"__pv_it/basic_expressions/0c4315ce8ffa2f2e94200f47cce6bde2d0fcb55a0/expr.ipynb\"><img src=\"data:image/png;base64,iVBORw0KGgoAAAANSUhEUgAAAUsAAAAVCAMAAAD4mjyfAAAANlBMVEX///8oKCgNDQ3MzMxUVFR2\n",
       "dna6uroQEBCqqqqIiIgiIiJmZmYyMjJERETu7u6YmJjc3NwAAADtE0dfAAAAAXRSTlMAQObYZgAA\n",
       "A0lJREFUWMPdWVmW4yAMZIZ9EYb7X7ZtjO0AgpDEs7zw0ek8RSqqkCzAhPyLsdiFfOcIy7vGa6gw\n",
       "j+cd/zYJD/oeRrxhMhqbF3OJny6+3BdYMA2vVIORANE5CW9VxdA903cjFVyYTrbpSXHzoZY0psSm\n",
       "0osoXnF0xLPVDxbw7+AO3Hf6ix0+2OYV0rdoqabDEAuvigEk8P2DvaPlyD3RN6PMM/OV62XHoMMf\n",
       "0pI9W+gFzDpcI4YNZKqKav+R+0Y/jIiFV6rRdcpN2bu1DJROaElBezyxVjEmUrr1H7qv9HWekNea\n",
       "BaHLSj2MuJWdiicVuX0ALZK7oyUatNayAkn/QtweW1ZKe0E2wbzzvSJla9d6BoL599xJpp+bkudb\n",
       "o9LEFNl7dCzUuhy4PiYCi+uop6pVZG4AWWlZg+QcSFzYA6M2GLax2MVQxpY6oSCIf8c9B3HEqF3V\n",
       "1cqjJ6KIkI249coJnn6mTC8TddH3lKQDyErLGiSTarRsgwHePOT2BFTkOQhMu+eJGyL3NdnIQuOe\n",
       "jahViH2bsC1J2Hcqp+33L1eMeG1dKBz9rA7K00+NTB+sA9LTspkhlSd6mVhirUU/ZtLzx93Pjdop\n",
       "1zqi7mmJWdNXmpaUk0pLU03WPLYlkfMShyzzsgHpadkEC9Db1FhBgTwFCTDrfmlp1PWFNlsiRbrW\n",
       "hK23HwSeFevUOK0eLwwGkKWWDchAyyqY7G4QwS8TIHLW/UyYo70oT/SWV+U24Og9mBXoNn17nY26\n",
       "vac+O+U+jkOWWjYgPS3bYFb3xKCMWPoUBPHH3a/es+9kRFQEYr7J8NFdfb5r5ZJbqaLl+XBM7LWo\n",
       "xYFV4PvLImhPywYkkwJSPh+xYEZ1DoFbh2F0wKTnX7ofrd+d9PfK9Exrr+2yBzPH8y6XLWr16zk/\n",
       "EC3lQd7RzlGPolqWQTtaNiCpmFmMzIf173nLgAXzDIRHLifotgpuFb/LBPdv3LPk7KKPHROVH50h\n",
       "FdrH/PQZ6a4z5NMhOJRnyDkm8/41fez6gg/vNvindxtyNCdP/t648R51pw9N7vlLltb4aH3vzu3j\n",
       "+8u7hr+vBjL99rp3Gd4F4xep8MLF+v9yr37ji5KD/h3vKJbwCrL6tvc9if4PGjgs9wlVYHcAAAAA\n",
       "SUVORK5CYII=\n",
       "\" style=\"display:inline;vertical-align:middle;\" /></a><br>"
      ],
      "text/plain": [
       "tuple_with_lambda: (x, (x, omega) -> {x + omega if x in Real ,  omega in Real.)"
      ]
     },
     "execution_count": 96,
     "metadata": {},
     "output_type": "execute_result"
    }
   ],
   "source": [
    "tuple_with_lambda = ExprTuple(x, lambda_expr)"
   ]
  },
  {
   "cell_type": "code",
   "execution_count": 97,
   "metadata": {},
   "outputs": [
    {
     "data": {
      "text/html": [
       "<a class=\"ProveItLink\" href=\"__pv_it/basic_expressions/534768e0cbec4b4e80c8e42c795240e4caf2b8620/expr.ipynb\"><img src=\"data:image/png;base64,iVBORw0KGgoAAAANSUhEUgAAAUoAAAAVCAMAAAAXWFehAAAANlBMVEX///8oKCgNDQ1UVFTMzMx2\n",
       "dna6uroQEBCqqqqIiIgiIiJmZmYyMjJERETu7u6YmJjc3NwAAADzUGF5AAAAAXRSTlMAQObYZgAA\n",
       "A2RJREFUWMPdWdmypCAMZYZ9i/D/PzsioLIpdjtTU5eH230rJvEcEkLSCP37tegF/dDlls9kpyXc\n",
       "tDcw9McxmOGDvcBtJ43haS4X/+3O87i9DEv7KBkUt9Ybw+1HSXGpnuCbCxaMm4612Vei6ksqid/C\n",
       "mnBgnj3SNAjwqmgXC584vlCP8Bd9dapN+6HyFSrFrBmk7WMuLHI0fuBPqLxS3+Cri8BTD45APhBI\n",
       "93eoxLfbvFi1LtNwoR2ayaFH6gG+u0DmnuSiGSSb0C9T6QiZoZJYCf2wWrm4j+in6it8md/Iaaol\n",
       "L9SzDKTEjskyh/HOd+SQ6pPPIrQHVHat1lTWXtZv1ocTS3OuD4+tLTAwylC8VqwbJ4/UM/xcjxhf\n",
       "E9GU1TXJgIb6JdE52NGSvYKP77+YAXmiZBan57pWayobL1sAbEjwCU/HVu9KEbkQSpc89Zw8UEcZ\n",
       "vhIp15f2KE8yumpSD4idzR8RQeNTQo3iUJ4rnuAEja3WVDZeNkgNlR1btl83eDj+BLp18kAdZfg8\n",
       "bon2Aa4qgSRZkNjKNmPxehD2w6U7yi78/csUy++XFmL3SlZbpdujim8feOSlT2X7hoTv3suwYmsi\n",
       "wg2UR+r7FS3Txe0W4KRHZVi+OsO2f8m2nxTVVKrqXdWpIjF+8uHlddlpvfSpbG05O7rNaEYsunPy\n",
       "QP2gMiYxbNdeUTUiShwPkk5SyCB3NBM2SHBSHi3YoqHVmsrWy5DK2hYfXgwtLPdO5tX3eEmlBbyI\n",
       "FaFoplPZEYBkIPl8O7AkvL0+NUTDslN1TLmC96zWVLZe+lR2bGk54oJgpMmdk3n1o+ykO4yVoQbi\n",
       "EOLgzVHgA98rzdanyUYWUk41F15TnjtSfWxp0aSy/r2ysDqisvWC9lPxdDZ2bSkx6PxCccHkCsqU\n",
       "ei76Zoef8hKwlMRhGU41lc+6KAsikHqJjpIQ1s7eIcn5Dt2QQYNHulSWVgdUtl5CVHiPwa1/97lC\n",
       "1xZgy6AzjyBhF0zIwiGUOfVEOT7gd5pDAReNo+iPAmC2M3qrcbxfjNqy85uEMqvewO+MLOjVOIN+\n",
       "O87gl68E6N+tFwenEb6tQw8OVhrZWfjZkO3reeVrC97LgAS/Ge8uV6PfwdjUzs+Q/psp+os/i2T4\n",
       "L/wgsbgHfsWP+21ng/8HcXEs4p48IysAAAAASUVORK5CYII=\n",
       "\" style=\"display:inline;vertical-align:middle;\" /></a>"
      ],
      "text/plain": [
       "(a, (x, omega) -> {x + omega if x in Real ,  omega in Real.)"
      ]
     },
     "execution_count": 97,
     "metadata": {},
     "output_type": "execute_result"
    }
   ],
   "source": [
    "tuple_with_lambda.replaced({x:a_lit}) "
   ]
  },
  {
   "cell_type": "markdown",
   "metadata": {},
   "source": [
    "Here we see that $x$ is altered external to the `Lambda` expression, but the $x$ within the `Lambda` expression is left alone.  This is fine because the internal $x$ is essentially a different $x$; the scope is different."
   ]
  },
  {
   "cell_type": "markdown",
   "metadata": {},
   "source": [
    "For convenience, `substituted` will perform relabeling if the replacement of a `Lambda` *parameter* is another `Variable`.  For example,"
   ]
  },
  {
   "cell_type": "code",
   "execution_count": 98,
   "metadata": {},
   "outputs": [
    {
     "data": {
      "text/html": [
       "<a class=\"ProveItLink\" href=\"__pv_it/basic_expressions/7b15bdc3f5e8d2743551aefd737c36f01baf4b0e0/expr.ipynb\"><img src=\"data:image/png;base64,iVBORw0KGgoAAAANSUhEUgAAAUoAAAAVCAMAAAAXWFehAAAANlBMVEX///8oKCgNDQ1UVFTMzMx2\n",
       "dna6uroQEBCqqqqIiIgiIiJmZmYyMjJERETu7u6YmJjc3NwAAADzUGF5AAAAAXRSTlMAQObYZgAA\n",
       "A3pJREFUWMPdWVmy3CAMJGFfhOH+lw2LsY0BG884qdTj4y2lkUQ3EhIahP79WvSCfuhyy2eywxJu\n",
       "2ps19McxWOBbuMANk8bwNJeL//bkeT5ehiU8SgbFAbwxHD5Kikv1Fb65YMG46Vib3RJVX1JJfApr\n",
       "wi3z7JGmQRYHRVjAfuL4Qj3DX/TVrTbth8pXqBSzZpCGx1wAcjT/wp9QeaWe4KuLwFMPrkA+EEj3\n",
       "d6jEt8e8gArLNFxoh2Zy6JF6hO8ukLknuWgGySb0y1Q6QmaoJCBtP6wCF/cR/VQ9wJd5R1Zqma70\n",
       "o/4qC0KJHZN1DuON78wh1QefVWgPqOxaPVN59hL+Ah9vLM253j22tqyxowzFoWLdOHmkXuCv9Ygi\n",
       "FjNUVuV1lVka65dEx2BHS/Fqfd7/YgbkiZpZvH6ua/VMZeMlBUBCgg94OrZ6LUXmQihd89Rz8kAd\n",
       "FfhKpPMQSMdtQAU7yxANmtRbxI7m94ig+VNCjeJQHiue4ASNrZ6pbLwkSA2VHVvQrxs8Xn8C3Tp5\n",
       "oI4KfJ6OJGyFRxC+QpJlUXjiODR1LLcH8Tzc2qNswt+/TLX81rQQ2CrZ2SpNH1U8/cIjL30q2x0S\n",
       "vnmvw4qFRLQ3UB6pby1aoQuxcKjhf9KhEjUch0hL6jrfDWcq1Wmv6lCRGD+48PK67LRe+lS2thyM\n",
       "uhnNCKA7Jw/UdyrXJM75LeuORon9g6STFDLKHS2EDRKc1FcLBjS0eqay9TKk8myLDxtDsMu9k3n1\n",
       "LV5Kacn7g3p7q0zYXI6O3QGQuHt9eBANy87pxVQqeM/qmcrWS5/Kji0tR1wQjDS5czKvvped0sNo\n",
       "HJN8SXXM7AU+pb5A4NfJRhFSTjUXXlNeXqR6P9Lqkcr6fWVldURl6wVtt+LhbuzaUmLw8ovFBZMr\n",
       "KFPqpeibDX7JS4ul1D4diyp3XZZFSWg7l+xoFdrwsnfhQuAbdEMGDzzSpbK2OqCy9RKjwntsXfi5\n",
       "zRW6tiwGZjvzCBJPwQTyx1Dm1FfK8Q7/8DjUZsuX8cNR9EcBdvZl9NbD8X4xCvXLbxLKrHoDP48s\n",
       "YuNsS89Cr8YZ9NtxBr/ckkX/br04OM3wIYaeCskBsrzC9mupCUsrvxyyfT2vfG3Z9zJghZ/Guyzc\n",
       "lKStGu3odzA2hfkZ0n8zRX/xa5EC/4UvJBb3wK/4cd/tJPh/ANCyLUp93s+vAAAAAElFTkSuQmCC\n",
       "\" style=\"display:inline;vertical-align:middle;\" /></a>"
      ],
      "text/plain": [
       "(y, (x, omega) -> {x + omega if x in Real ,  omega in Real.)"
      ]
     },
     "execution_count": 98,
     "metadata": {},
     "output_type": "execute_result"
    }
   ],
   "source": [
    "tuple_with_lambda.replaced({x:y}) "
   ]
  },
  {
   "cell_type": "markdown",
   "metadata": {},
   "source": [
    "The inner and outer $y$ *variables* are still regarded as distinct, but it doesn't hurt to relabel the one within the `Lambda` as we wish.  If we do not want this behavior when performing *expression substitution* or *instantiation*, we can *relabel* the map with a distinct variable first.  This feature simply provides a convenient way to perform inner relabeling simultaneously with other substitutions."
   ]
  },
  {
   "cell_type": "markdown",
   "metadata": {},
   "source": [
    "The other consequence for of `Lambda` scoping with respect to substitution is that we must not allow any expression within the `Lambda` *body* to be replaced with something that contains one of its *parameters*.  That is because those *parameters* are, with respect to scope, distinct from anything outside of the `Lambda` expression.  So bringing in a replacement defined for external use would have a different meaning when applied internally, and this must not be allowed.  Otherwise, you could alter the meaning of the expression in ways that can invalidate a proof (e.g., via a *instantiation* step which relies upon *expression substitution* internally).  Thus, the parameters of the Lambda function are \"reserved\" and may not be used in substitution. \n",
    "\n",
    "Consider the mapping defined below:"
   ]
  },
  {
   "cell_type": "code",
   "execution_count": 99,
   "metadata": {},
   "outputs": [
    {
     "data": {
      "text/html": [
       "<strong id=\"map_to_new_var\">map_to_new_var:</strong> <a class=\"ProveItLink\" href=\"__pv_it/basic_expressions/96671be53dc33c2609e0d03d2fa1e510699f97320/expr.ipynb\"><img src=\"data:image/png;base64,iVBORw0KGgoAAAANSUhEUgAAAFsAAAAUCAMAAADV5rESAAAANlBMVEX///8oKCgNDQ3MzMxUVFR2\n",
       "dna6uroQEBCqqqqIiIgiIiJmZmYyMjJERETu7u6YmJjc3NwAAADtE0dfAAAAAXRSTlMAQObYZgAA\n",
       "AVBJREFUOMutVeuShiAIZde84AXy/V92U6ovW5tPZ3KmH6EeDnBAAICVYWS5FaYXpcGDyzx4HL1C\n",
       "cRaaw/BRjZPYfjxSsn07PkCsfiZ9pl/lh9BxtxPishpsw15OAgKqT5C2/jd+xlsDiiGJAElvmfcI\n",
       "/lovPmhSFpcc+2gutcJjDGEzeSeMaPsygbmm7hOqllPOPzDFRBfsEmnxZs35n25CN3WrUmVxqfKx\n",
       "9/sTm5VzUwpVfdmPLd8kVn9VJa/hhu3pluEG2kih9pzUi6rFrqhY9ld9QPRzomLjyu0a2GvpCLCQ\n",
       "wsuhpIrDcGndp1q2rS2SXA5Zmewg5X1sURYIbXWwLgdtj2EW9CmhJgWNvpVnzVhaQcKkBZEwsFzx\n",
       "kk1KeSOE1p51iKrbI0HdUslWuqzX8476Pe9fmFX6pVkF6R9xwpdmbOdt4FES39fgm8az0H+b7gvu\n",
       "EvxkzAAAAABJRU5ErkJggg==\n",
       "\" style=\"display:inline;vertical-align:middle;\" /></a><br>"
      ],
      "text/plain": [
       "map_to_new_var: (x, omega) -> z"
      ]
     },
     "execution_count": 99,
     "metadata": {},
     "output_type": "execute_result"
    }
   ],
   "source": [
    "map_to_new_var = Lambda([x, omega], z)"
   ]
  },
  {
   "cell_type": "markdown",
   "metadata": {},
   "source": [
    "Expressions involving $x$ and/or $w$ are not allowed to be used in the substitutions for $z$. For example, we are not allowed to transform this map to $(x, \\omega) \\mapsto \\omega$ via substitution.  Prove-It will automatically avoid this via automated relabeling."
   ]
  },
  {
   "cell_type": "code",
   "execution_count": 100,
   "metadata": {},
   "outputs": [
    {
     "data": {
      "text/html": [
       "<a class=\"ProveItLink\" href=\"__pv_it/basic_expressions/6dc5b031d99d7c808e575ce9999bc6f5a859b3ad0/expr.ipynb\"><img src=\"data:image/png;base64,iVBORw0KGgoAAAANSUhEUgAAAGkAAAAUCAMAAAC54OMXAAAANlBMVEX///8oKCgNDQ3MzMxUVFR2\n",
       "dna6uroQEBCqqqqIiIgiIiJmZmYyMjJERETu7u6YmJjc3NwAAADtE0dfAAAAAXRSTlMAQObYZgAA\n",
       "AWRJREFUSMe1VdlywzAIpNWJDiT+/2ery9ckcmpNy0syltmFZY0AAHKCh2EzrATF5zlyiSosZFFY\n",
       "IEp+pTyFz3PckhBkJgc4hctuabgQ9MQsU4lwnBCizBpvVcleeTTU5TsQr466VC73fjTEbnFSZWIO\n",
       "wd2MWpuiTOAx3vAeG+yJOG2NExdo20sslSom0PlmNLUoP4CsmzABRtr+Hn0rC6bT1sN4/2F5ri+5\n",
       "Ia/g/eD7K1yCebSi229rPuWNqQbfO9fEJoN4YXJ0FdltkA1PtMbKcIZ6LVfc+ppVFY13vIl6IlzF\n",
       "w0qQS+5whCXACoI0Z6opMoylN3XEaeVEUev342F3qy4wkceyJX5rwIjVnrIKUetVh8Mu2p2+J2WU\n",
       "N5a9al7qKpBEJPSpJ7mhvI5b0HhHZIl9CmEitRfn3c2lGTQGp9vI0sdt5P5mw6p/2bAQX5qijzBL\n",
       "t8abmzAtVPereH67pwWiH8EdDT41QzPXAAAAAElFTkSuQmCC\n",
       "\" style=\"display:inline;vertical-align:middle;\" /></a>"
      ],
      "text/plain": [
       "(x, _a) -> omega"
      ]
     },
     "execution_count": 100,
     "metadata": {},
     "output_type": "execute_result"
    }
   ],
   "source": [
    "map_to_new_var.replaced({z:omega})"
   ]
  },
  {
   "cell_type": "markdown",
   "metadata": {},
   "source": [
    "And we are not allowed to change the map to $(x, \\omega) \\mapsto f(x)$ via substitution.  Again, automatic relabeling avoids this issue."
   ]
  },
  {
   "cell_type": "code",
   "execution_count": 101,
   "metadata": {},
   "outputs": [
    {
     "data": {
      "text/html": [
       "<a class=\"ProveItLink\" href=\"__pv_it/basic_expressions/8d04fb1b27e8ea89ba72977da9a9ff5242c2deec0/expr.ipynb\"><img src=\"data:image/png;base64,iVBORw0KGgoAAAANSUhEUgAAAIUAAAAUCAMAAACUPg7oAAAANlBMVEX///8oKCgNDQ1UVFTMzMx2\n",
       "dna6uroQEBCqqqqIiIgiIiJmZmYyMjJERETu7u6YmJjc3NwAAADzUGF5AAAAAXRSTlMAQObYZgAA\n",
       "AeFJREFUSMetVll2wyAMpLUFiEWg+1+2gKGYGJrEqb/yAprRaEUIIWIQb386invfI1kDIn8HbXvL\n",
       "DbJo45ysArlbssi95TNo1nOyAyjYe6EFfMNlliRXZAXI3MwwqcUBXgE11x8zsgwUzc0yE04uCveq\n",
       "FyrJnCwB4Twh0YJFRWNy25kp/NAtx5J7pApWGVsuNzJC3KLEmtQE5KdtKlUKneMRTP5muVgHt+DV\n",
       "lz7gWkOVjCBZGxTmQEhARk9znq/bEa1Lh2KjzUo9+jGIkfd67yCDdAxMQh5VkoDULLuWM4wZukCW\n",
       "i0dbFeu9h+r7yw0fs5wWZyXL4L5LTEBTL5Qvgd8HgcWgBATEgxdm1C6NnBbnmYzx7MUsI8RwVnBK\n",
       "CObbESrXIiO7G50SvtV1J9tPEhPQrDqpzLnNDdvC79nW9vm3rM7LfFRNdyXTJDBLRGpAMOtUj7mI\n",
       "txx64koGCqzSbEFVvy309hnyYa+Ts6WmHMkk0nNfbAmoxlX69mX/aEPc44bZ2tSkk+ckEtWvMLfP\n",
       "p5Z9/F/yKfYVndCGcAJ6OsE1zSf4y0MXejtMJ7h5ZZvBR9tMb8KF0xhdAfm/g0H40WY3frjpF5v9\n",
       "2Stn8RDzL67iUJ83YvWkakB3Xnzhv158BegHvFYTKnA+8pcAAAAASUVORK5CYII=\n",
       "\" style=\"display:inline;vertical-align:middle;\" /></a>"
      ],
      "text/plain": [
       "(_a, omega) -> f(x)"
      ]
     },
     "execution_count": 101,
     "metadata": {},
     "output_type": "execute_result"
    }
   ],
   "source": [
    "map_to_new_var.replaced({z:fx})"
   ]
  },
  {
   "cell_type": "markdown",
   "metadata": {},
   "source": [
    "If it does not involve any of the parameter variables, however, that is okay."
   ]
  },
  {
   "cell_type": "code",
   "execution_count": 102,
   "metadata": {},
   "outputs": [
    {
     "data": {
      "text/html": [
       "<a class=\"ProveItLink\" href=\"__pv_it/basic_expressions/7b15bdc3f5e8d2743551aefd737c36f01baf4b0e0/expr.ipynb\"><img src=\"data:image/png;base64,iVBORw0KGgoAAAANSUhEUgAAAUoAAAAVCAMAAAAXWFehAAAANlBMVEX///8oKCgNDQ1UVFTMzMx2\n",
       "dna6uroQEBCqqqqIiIgiIiJmZmYyMjJERETu7u6YmJjc3NwAAADzUGF5AAAAAXRSTlMAQObYZgAA\n",
       "A3pJREFUWMPdWVmy3CAMJGFfhOH+lw2LsY0BG884qdTj4y2lkUQ3EhIahP79WvSCfuhyy2eywxJu\n",
       "2ps19McxWOBbuMANk8bwNJeL//bkeT5ehiU8SgbFAbwxHD5Kikv1Fb65YMG46Vib3RJVX1JJfApr\n",
       "wi3z7JGmQRYHRVjAfuL4Qj3DX/TVrTbth8pXqBSzZpCGx1wAcjT/wp9QeaWe4KuLwFMPrkA+EEj3\n",
       "d6jEt8e8gArLNFxoh2Zy6JF6hO8ukLknuWgGySb0y1Q6QmaoJCBtP6wCF/cR/VQ9wJd5R1Zqma70\n",
       "o/4qC0KJHZN1DuON78wh1QefVWgPqOxaPVN59hL+Ah9vLM253j22tqyxowzFoWLdOHmkXuCv9Ygi\n",
       "FjNUVuV1lVka65dEx2BHS/Fqfd7/YgbkiZpZvH6ua/VMZeMlBUBCgg94OrZ6LUXmQihd89Rz8kAd\n",
       "FfhKpPMQSMdtQAU7yxANmtRbxI7m94ig+VNCjeJQHiue4ASNrZ6pbLwkSA2VHVvQrxs8Xn8C3Tp5\n",
       "oI4KfJ6OJGyFRxC+QpJlUXjiODR1LLcH8Tzc2qNswt+/TLX81rQQ2CrZ2SpNH1U8/cIjL30q2x0S\n",
       "vnmvw4qFRLQ3UB6pby1aoQuxcKjhf9KhEjUch0hL6jrfDWcq1Wmv6lCRGD+48PK67LRe+lS2thyM\n",
       "uhnNCKA7Jw/UdyrXJM75LeuORon9g6STFDLKHS2EDRKc1FcLBjS0eqay9TKk8myLDxtDsMu9k3n1\n",
       "LV5Kacn7g3p7q0zYXI6O3QGQuHt9eBANy87pxVQqeM/qmcrWS5/Kji0tR1wQjDS5czKvvped0sNo\n",
       "HJN8SXXM7AU+pb5A4NfJRhFSTjUXXlNeXqR6P9Lqkcr6fWVldURl6wVtt+LhbuzaUmLw8ovFBZMr\n",
       "KFPqpeibDX7JS4ul1D4diyp3XZZFSWg7l+xoFdrwsnfhQuAbdEMGDzzSpbK2OqCy9RKjwntsXfi5\n",
       "zRW6tiwGZjvzCBJPwQTyx1Dm1FfK8Q7/8DjUZsuX8cNR9EcBdvZl9NbD8X4xCvXLbxLKrHoDP48s\n",
       "YuNsS89Cr8YZ9NtxBr/ckkX/br04OM3wIYaeCskBsrzC9mupCUsrvxyyfT2vfG3Z9zJghZ/Guyzc\n",
       "lKStGu3odzA2hfkZ0n8zRX/xa5EC/4UvJBb3wK/4cd/tJPh/ANCyLUp93s+vAAAAAElFTkSuQmCC\n",
       "\" style=\"display:inline;vertical-align:middle;\" /></a>"
      ],
      "text/plain": [
       "(y, (x, omega) -> {x + omega if x in Real ,  omega in Real.)"
      ]
     },
     "execution_count": 102,
     "metadata": {},
     "output_type": "execute_result"
    }
   ],
   "source": [
    "tuple_with_lambda.replaced({x:y}) "
   ]
  },
  {
   "cell_type": "code",
   "execution_count": 103,
   "metadata": {},
   "outputs": [
    {
     "data": {
      "text/html": [
       "<a class=\"ProveItLink\" href=\"__pv_it/basic_expressions/ecd071f6069a2f7bcbf851ceddd5b21a02a4c1620/expr.ipynb\"><img src=\"data:image/png;base64,iVBORw0KGgoAAAANSUhEUgAAAFsAAAAUCAMAAADV5rESAAAANlBMVEX///8oKCgNDQ3MzMxUVFR2\n",
       "dna6uroQEBCqqqqIiIgiIiJmZmYyMjJERETu7u6YmJjc3NwAAADtE0dfAAAAAXRSTlMAQObYZgAA\n",
       "AWdJREFUOMulldt2xCAIRWmVKGpQ/v9n62VMdJq0Zg1PGvWwBSQAACnCitkEj433xY16UTxEBuVt\n",
       "Ha7ycFjbZyQbllH0yzdEWuNGTY3XrYeRzc0CTRq6D5J7kJqw3aTZX2rT6zMT6bTRfG19ADRRPDXm\n",
       "ApgAdYzkVdnTCpBz7KMjcGO+YsdkaS5juFYDO7raOdNIPutsI8pzFIZtjNxJiW2XdTfaQEVwtD1v\n",
       "MI2trOxvhb7VpYoam0slx+L3V5hMZM6Fl9S1i8lbidWpqvAI79pu5tzcoaMrDWZfr5jUg2rWrqpU\n",
       "1hN2hZuYqHC6MqFxc8+lZaACRQPOropDPzzd21yOb7tlqRRFK6tNLOzyalssTQINemPFo+nNzONZ\n",
       "Q1NExvpOZRJN6tdkTcTkYzvhWjB5l8xDxhx5COr67fjpe/KoPd+9ecvXb949bLFXvQo/6lVjlf8C\n",
       "Z/qox/75b4irEP/b4j8tPpX+AR2+DQBx9uTVAAAAAElFTkSuQmCC\n",
       "\" style=\"display:inline;vertical-align:middle;\" /></a>"
      ],
      "text/plain": [
       "(x, omega) -> 5"
      ]
     },
     "execution_count": 103,
     "metadata": {},
     "output_type": "execute_result"
    }
   ],
   "source": [
    "map_to_new_var.replaced({z:FIVE})"
   ]
  },
  {
   "cell_type": "markdown",
   "metadata": {},
   "source": [
    "### Applying the Lambda map\n",
    "\n",
    "In addition to the `substituted` method, the `Lambda` class has an `apply` method.  As arguments, the `apply` method should be given the operands to be mapped.  The `apply` method will apply the proper substitution replacements to the `Lambda` *body* to effect the application of the map to the operands.  Internally, <a href=\"#Operation_sub\">*operation substitution*</a> is effected via the `Lambda.apply` method."
   ]
  },
  {
   "cell_type": "code",
   "execution_count": 104,
   "metadata": {},
   "outputs": [
    {
     "data": {
      "text/html": [
       "<a class=\"ProveItLink\" href=\"__pv_it/basic_expressions/67da72b0ca9f116bd44b9f5292db2f6180159d9c0/expr.ipynb\"><img src=\"data:image/png;base64,iVBORw0KGgoAAAANSUhEUgAAASYAAAAVCAMAAADcg7NfAAAANlBMVEX///8oKCgNDQ3MzMxUVFR2\n",
       "dna6uroQEBCqqqqIiIgiIiJmZmYyMjJERETu7u6YmJjc3NwAAADtE0dfAAAAAXRSTlMAQObYZgAA\n",
       "As5JREFUWMPdWOuaoyAMZZf7JQHe/2VHRK0KVKjOfvuVH+1MNeeQQ0gIhPzO8NaTLxuhzyMVuhHR\n",
       "8W8TiSB0vsi6dfLx7srJvHSCaRgKYiMBonMSPgrmd+YudMdILx03N2WicQ5HKlFEMWTpCLLJEDzg\n",
       "J8RNc2+7Mbh+RCbVC0MsDPsJJPD8xT6RqWluBlKObDzQ4XdkYpdL6MFMwxV+2kB6Yr/bPIzsD9fY\n",
       "AMo+LFOgtEcmChrr4TD5eR2JA+Z6mQlqzYLQx33FNi2zPtzu8A4hWZepClrIdGaZ/oKYMoSV0r4Y\n",
       "SzB02No1bMr+FyRD5ktOR57yvCb7ACR+RcSY5+ZdQxh1VI25NmghU8Eyx+08S7abawWsVnqzn8rY\n",
       "owY1kgFzYlRe/+lXHpGIvelrJXl+S5lW/Oh9ZVCStkELmQqWebqFTBUwqOdgmdKNIpckA+ZEZpmT\n",
       "k3CyEyKXyLQYYanT28O/f9xhxK1wU1irQgHK51eNnL9Yi6UuUzlDKjf2YzgIS071vEYyYL7JlEY8\n",
       "5Yz5XzqvAydnmcxpHmaX3cUSTTXQIppKlrpMJViAVkW3ggK5Ihkw3zbdrAGtBKpOzwNfxWhsOnrc\n",
       "ygyaoIVMJUtTpjOYbB58AP01Sb/5lsIVEp1CZV8hgaaZ2d1BvZnCTyf5pdLVQAuZSpa6TBUwq1t+\n",
       "UkYsvSLpN19rvIiKQFy6YIxZDS65lSpaLtcOx76W4tD0iOq56QDalKlkIVsW2uWiKphRjW4jJWpG\n",
       "37nSZb4WR7fsI2Rao7Y+g5iceHDqAgPRUm5uOdpoKmhNpiNoS6aSJa1mjAzD9Ln1oFUwZCCw0rvS\n",
       "pLCbhG270me+yMnqzYqqt43Ye2J/qlm5HoLDsdvodKXX/G3ry++2vvJta4jk343HLr6gCCfUNy9S\n",
       "bt83PXeZ9ljkltdyvlfPdo/8v9xePnjV3HnJ68MApvquu/AfSnkmoVsvqcEAAAAASUVORK5CYII=\n",
       "\" style=\"display:inline;vertical-align:middle;\" /></a>"
      ],
      "text/plain": [
       "(x, omega) -> {x + omega if x in Real ,  omega in Real."
      ]
     },
     "execution_count": 104,
     "metadata": {},
     "output_type": "execute_result"
    }
   ],
   "source": [
    "lambda_expr"
   ]
  },
  {
   "cell_type": "code",
   "execution_count": 105,
   "metadata": {},
   "outputs": [
    {
     "data": {
      "text/html": [
       "<a class=\"ProveItLink\" href=\"__pv_it/basic_expressions/b78e5b9beebcf46e2bec5d65fe076d46b9db7b040/expr.ipynb\"><img src=\"data:image/png;base64,iVBORw0KGgoAAAANSUhEUgAAAU8AAAAVBAMAAAA0gXHkAAAAMFBMVEX///+IiIi6urrc3NxERETM\n",
       "zMwQEBCqqqpUVFQiIiJ2dnYyMjLu7u5mZmaYmJgAAABN0h6tAAAAAXRSTlMAQObYZgAAA9FJREFU\n",
       "SMfVl09IFFEcx387O6PrOruNEHaStiAxKNxL1nqIkQyMROfgoUu4gvRPiz0FnpqwTh1cCqNFikVC\n",
       "T8KSWOQWrdRBEHJNlFCw7d8hItD+x2b03sy8mfdmd/YPeenB7r43v/f7vO/8fu/fAoB/Df6LIk7j\n",
       "78OFO1UGS2JtDcWh+NexWrlQl1sAg062pgxAw3bjncuk+G+2Zu93ODp86O1M9mbMpjeKvqoLvav7\n",
       "O8Cck7E7DkJ/Y0Crl02pFlWho93RJTELXe9SjNBPBSfHL9RLMrIn5dp9JJAlU0jh3XGQDzm6yM2o\n",
       "h8oIvVFwdmTRMGFnoZ60USmZ4j8WGyFCF6tzJqNhxUJ9wQQt1B1l3lNBTxLUgzPoc89B6AHFFFoy\n",
       "RWhJWRFd5G1E06oLlWmhLjSUBw91XRtwGCCk4BoOeygAj9HPBCt0ZgHc/bhvpyosn9eVYgpxoSkG\n",
       "2aLMpajUqw3G1KiToClFW7FQD2em3oPemkdr6w3uvKE9Cil4FJQDPOC8BC3o5yMrNF4PrnVtPajg\n",
       "MViYQlwoCiFblEFqjlbefmQEjAvDTsaKhQ6smrIvoreuigBoURnXczish8KnASKAT4QBRqg7sgq8\n",
       "lhTeEoopxIWiELJFkS2hZ2MPjPpBXwJaGSvITbGRCGl04RVQEQAuAGhWv9UfhvRQ7EY7BPiDMIq3\n",
       "ISwgmXzYl0wiXSL0wDbJJhRRTBeKQsiEAgJiJJO60NE02Z1SFRJsMFYU0f28GVCoV7QhXAAnUUYZ\n",
       "oRIIafACvCdDWKnnfkO3kkcocaEohGxS3FRE4y+6SKMxJXxjrEiob4/V8sha0lDOdoA7zqQ+Da4I\n",
       "NKOXRfW9rFCUp1rIk3riwk4gjWxRwpRQ/jnZR1bBFWaseI62v2ZOJrQMeEXYJEcLWQZHoTsNk3o3\n",
       "22JC+trsQvFiolwIhSbrlAVKqKAuGY02zKKtWOgJn0IL9aJ0nVu+tHIBmO1pbOL05lgGxD5UX7FF\n",
       "VOX+6GPJxqrSKMSFphhkilIVsY5QGPcoYhY3XkJjhrHiI9QbuYpr8wldKBcFsXPSdUpit+pn2WBt\n",
       "j36dgClWqHi57ou2MIZ+Ph36qt8cEMV0oSiEbFHEK/vMS4nCH/8BMTwtZmteBWkrvpRMQesTrLtK\n",
       "LekIxd5R+8nkS+R0KpnC3TUOSXL/SxmzNK+VpD5c7Dqh9SKRNLaLazAfyOlUMiXnuXbwiJ+L30f5\n",
       "Ylda+wXtjnbQ2ErZFFJmcHYzvFTYe7rolReVI7b2rjolT2bLpZCC5zhXs1TEu3Kt+J8I/5b8FfH/\n",
       "w1+Rv36OJpG/F4hSAAAAAElFTkSuQmCC\n",
       "\" style=\"display:inline;vertical-align:middle;\" /></a>"
      ],
      "text/plain": [
       "{(omega * omega!) + y if (omega * omega!) in Real ,  y in Real."
      ]
     },
     "execution_count": 105,
     "metadata": {},
     "output_type": "execute_result"
    }
   ],
   "source": [
    "lambda_expr.apply(fancy_omega_fn, y)"
   ]
  },
  {
   "cell_type": "markdown",
   "metadata": {},
   "source": [
    "### Mocking up **Lambda** operators\n",
    "\n",
    "What if we wanted to represent an expression involving a `Lambda` function applied to operand(s).  We cannot do this using the `Lambda` and `Operation` expression types directly because an `Operation` is only allowed to have *variable* or *iterated indexed variables* as *operators*.   But it would not be consistent with the **Prove-It** philosophy of *freedom of expression* to completely disallow representing such an expression if so desired.  We can, in fact, represent such a thing in **Prove-It** by making an `Operation` class whose *operands* are the `Lambda` function as well as the operand on which we wish to apply the function. As a demonstration, we define such an `Operation`, called `LambdaApplication`, in <a href=\"demo_lambda_app_operation.py\">demo_lambda_app_operation.py</a>."
   ]
  },
  {
   "cell_type": "code",
   "execution_count": 106,
   "metadata": {},
   "outputs": [],
   "source": [
    "# %load demo_lambda_app_operation\n",
    "'''\n",
    "Module that defines a LambdaApplication Operation\n",
    "class for demonstration purposes in this tutorial.\n",
    "'''\n",
    "\n",
    "from proveit import Operation, Literal, NamedExprs\n",
    "\n",
    "class LambdaApplication(Operation):\n",
    "    _operator_ = Literal('LAMBDA_APPLICATION', r'{\\rm LAMBDA\\_APPLICATION}')\n",
    "    \n",
    "    def __init__(self, lambda_fn, operand):\n",
    "        Operation.__init__(self, LambdaApplication._operator_, NamedExprs([('lambda_fn',lambda_fn), ('operand',operand)]))\n",
    "        self.lambda_fn = self.operands['lambda_fn'] # The Lambda function operand\n",
    "        self.lambda_operand = self.operands['operand'] # The operand of the Lambda function\n",
    "\n",
    "    @classmethod\n",
    "    def extract_init_arg_value(operation_class, arg_name, operator, operand):\n",
    "        '''\n",
    "        Given a name of one of the arguments of the __init__ method,\n",
    "        return the corresponding value as determined by the operator and\n",
    "        operand of the LambdaApplication Operation.\n",
    "        (This is important so that Prove-It knows how to 'make' an altered\n",
    "        copy of this Operation).\n",
    "        '''\n",
    "        assert isinstance(operand, NamedExprs), \"Expecting LambdaApplication operand to be a NamedExprs object\"\n",
    "        if arg_name=='lambda_fn': \n",
    "            return operand['lambda_fn']\n",
    "        elif arg_name=='operand':\n",
    "            return operand['operand']\n",
    "\n",
    "    def string(self, **kwargs): # should accept kwargs even when not used (e.g., 'fence')\n",
    "        return self.lambda_fn.string(fence=True) + '(' + self.lambda_operand.string() + ')'\n",
    "    \n",
    "    def latex(self, **kwargs): # should accept kwargs even when not used (e.g., 'fence')\n",
    "        return self.lambda_fn.latex(fence=True) + '(' + self.lambda_operand.latex() + ')'\n"
   ]
  },
  {
   "cell_type": "code",
   "execution_count": 107,
   "metadata": {},
   "outputs": [],
   "source": [
    "from demo_lambda_app_operation import LambdaApplication"
   ]
  },
  {
   "cell_type": "code",
   "execution_count": 108,
   "metadata": {},
   "outputs": [
    {
     "data": {
      "text/html": [
       "<strong id=\"lambda_app_expr\">lambda_app_expr:</strong> <a class=\"ProveItLink\" href=\"__pv_it/basic_expressions/296b3cf95b8ead5190754f39ffec873469a06d530/expr.ipynb\"><img src=\"data:image/png;base64,iVBORw0KGgoAAAANSUhEUgAAAGMAAAAUCAMAAACuwnPeAAAANlBMVEX///8oKCgNDQ2YmJhUVFRE\n",
       "RESqqqoQEBDc3NxmZmbu7u4iIiK6urp2dnbMzMwyMjKIiIgAAAAiXwNbAAAAAXRSTlMAQObYZgAA\n",
       "AX1JREFUOMullVuShCAMRZnhTUDC/jc7INASRNsa/bBKcuQGQi4MY9zYi4dH8MeX4TSqTHkH///5\n",
       "QUwzODkjwrzTMElPGtHMjIvvNFwCqsHtGQr4SAPNRSBFqgEL0OlHGspeBDSth4EVFH0lHFoskHYt\n",
       "QGs3/jui0RINtB1BYTyWXSphW4nAfCkfptWseSGD5IhKJBqyHlwXcmUAGcR2uHfCKGbLgJRrDYay\n",
       "L5CglhMNUDWLzIbkmK/VUbATeVCXlBL2SX9/InlSahMRtM7+0dC+I0O2bEuN8Fk3f306HhxZhx96\n",
       "eUD5ttJgJNtDY18/arbeqy0OkgNaR+e9YiTbnF8jpOivlQZp3xk91Vy5eiLQjTXPyYmyCYehEWvz\n",
       "pD8O1Gnag8HWvVRMpsMebWiEE4g2XfSzJcY8oJMneujx3ES8p5lt/ehzGx87FUG/eAk0QsTicI/c\n",
       "8Yw+9ETgvWm/3xkndHA8eePtPm/xw9vwjN7eUbsqwru7Fm/vWl4k/gAJlBKNX0RzfgAAAABJRU5E\n",
       "rkJggg==\n",
       "\" style=\"display:inline;vertical-align:middle;\" /></a><br>"
      ],
      "text/plain": [
       "lambda_app_expr: [y -> y!](x)"
      ]
     },
     "execution_count": 108,
     "metadata": {},
     "output_type": "execute_result"
    }
   ],
   "source": [
    "lambda_app_expr = LambdaApplication(Lambda(y, Factorial(y)), x)"
   ]
  },
  {
   "cell_type": "markdown",
   "metadata": {},
   "source": [
    "Note that the `_operator_` of the `LambdaApplication` is not displayed but is implicit in the theory of the lambda application formatting.  Also, we made use of `NamedExprs` which will be discussed next.  Let us take a look at the expression information."
   ]
  },
  {
   "cell_type": "code",
   "execution_count": 109,
   "metadata": {},
   "outputs": [
    {
     "data": {
      "text/html": [
       "<table><tr><th>&nbsp;</th><th>core type</th><th>sub-expressions</th><th>expression</th></tr>\n",
       "<tr><td>0</td><td>Operation</td><td>operator:&nbsp;1<br>operands:&nbsp;2<br></td><td><a class=\"ProveItLink\" href=\"__pv_it/basic_expressions/296b3cf95b8ead5190754f39ffec873469a06d530/expr.ipynb\"><img src=\"data:image/png;base64,iVBORw0KGgoAAAANSUhEUgAAAGMAAAAUCAMAAACuwnPeAAAANlBMVEX///8oKCgNDQ2YmJhUVFRE\n",
       "RESqqqoQEBDc3NxmZmbu7u4iIiK6urp2dnbMzMwyMjKIiIgAAAAiXwNbAAAAAXRSTlMAQObYZgAA\n",
       "AX1JREFUOMullVuShCAMRZnhTUDC/jc7INASRNsa/bBKcuQGQi4MY9zYi4dH8MeX4TSqTHkH///5\n",
       "QUwzODkjwrzTMElPGtHMjIvvNFwCqsHtGQr4SAPNRSBFqgEL0OlHGspeBDSth4EVFH0lHFoskHYt\n",
       "QGs3/jui0RINtB1BYTyWXSphW4nAfCkfptWseSGD5IhKJBqyHlwXcmUAGcR2uHfCKGbLgJRrDYay\n",
       "L5CglhMNUDWLzIbkmK/VUbATeVCXlBL2SX9/InlSahMRtM7+0dC+I0O2bEuN8Fk3f306HhxZhx96\n",
       "eUD5ttJgJNtDY18/arbeqy0OkgNaR+e9YiTbnF8jpOivlQZp3xk91Vy5eiLQjTXPyYmyCYehEWvz\n",
       "pD8O1Gnag8HWvVRMpsMebWiEE4g2XfSzJcY8oJMneujx3ES8p5lt/ehzGx87FUG/eAk0QsTicI/c\n",
       "8Yw+9ETgvWm/3xkndHA8eePtPm/xw9vwjN7eUbsqwru7Fm/vWl4k/gAJlBKNX0RzfgAAAABJRU5E\n",
       "rkJggg==\n",
       "\" style=\"display:inline;vertical-align:middle;\" /></a></td></tr>\n",
       "<tr><td colspan=4 style=\"text-align:left\"><strong>class:</strong> tutorial.demo_lambda_app_operation.LambdaApplication</td></tr>\n",
       "<tr><td>1</td><td>Literal</td><td></td><td><a class=\"ProveItLink\" href=\"__pv_it/common/51b2ae6f8dcc60dd7f675d0f0436bd5da44656ab0/expr.ipynb\"><img src=\"data:image/png;base64,iVBORw0KGgoAAAANSUhEUgAAAPYAAAAQBAMAAADXIZ9kAAAAMFBMVEX///8QEBCqqqqYmJiIiIi6\n",
       "uroyMjLu7u52dnZUVFTMzMxEREQiIiJmZmbc3NwAAADL8P8iAAAAAXRSTlMAQObYZgAAAzRJREFU\n",
       "OMvFlU1oE1EQxyfNpptsmjUKFixoAx7EU4OI4Kl7EKqgJncpiXiwRSR7kKIgNCfrrenFtlRtBEEE\n",
       "JdtDi1AkOXgQpGxOomhqrqWEmA/Spk2zzvva3dbcO7BvljfvP7/deV8Ax2gVc3+Tva3io76skVdP\n",
       "5/WWeaa0NIMd1qsXX3UR5xaMY7Nltn+uR4VjeZTf1gKAd31ReyIkw5NzncVU4aPZTgPceL6gg/Kr\n",
       "o0NweAMgl2H51DZt81FsL3YBqhmQ7+JA7A4N2XFmVapBpTrodmjKPo78VobKmpCcA6kBShhyBsAb\n",
       "DbyncVAex07ZeQAki7TyzSS2t3YAposAiQzT/9FFnFnsr/iC0bTbMRx5kwd5SrlI2JAhvUoTO0fi\n",
       "oF6t4w+52MFZ8sfytT1MMM7Z1QJjn8iIOLNPDcHOFdyOsU0yRVd4SjVK2WMkPhDGzv4w9p3UD7Hf\n",
       "Vskfy2MH+L0hzh7l/x3oijg15XbLZifdjrL76ORM8ZRqlrLfkfhIkRSjieyEcYi9OdAlbG0O1wpn\n",
       "+wZ1xvY3RZxaqGyWuTIWdTvKDtCi+OyUlE1HL5PK+VrIDjUOsQ2pSdmJCFyg7HuX56J8vUgHIs6m\n",
       "B2IaU/rOuh1j99fFOC6x2akIKVqNzINZdrH7onKHsgeSoImaL+o2m8epnYfpAlF+ub5Qdtx/bCHp\n",
       "xc4lBVvFKdUhnyVsqavGBduTZOzQrohTm4fgHlEabMMZ9r5TnZrLdsojNe8jNcdZFGw/wNNSKVUk\n",
       "bHnXC4IdqPO1tifiNO1G6ftBT7bfWWtOSoc9mmFrB9lgVrgmAHAJd1KYsGHFxW4w9rQh4sS8WLpa\n",
       "T3bA2WOP7JQO27NDzswdyq4+5JptXBdY2TplJ+ZttqfL2LNlEWdLDU+bSC/2tn22QNpO6bDJGQmx\n",
       "CCjIlvbJyWiAPAk+g52HCn6dQfczybCs0fH+ITtO7A5THWGzPOJMfZx1JIxNFB/wkDuFU44fBg8A\n",
       "3uNVkN9VUi0dnlkTar4VleJSnt0la6v0Llma0EUcLMtqWffBn2qlK2Zbo5cRdTwPv0t+zIAtGV+p\n",
       "fc4Cv0tK5C7Jt7BqleO8QeEfNO++X84uz5AAAAAASUVORK5CYII=\n",
       "\" style=\"display:inline;vertical-align:middle;\" /></a></td></tr>\n",
       "<tr><td colspan=4 style=\"text-align:left\"><strong>theory:</strong> tutorial</td></tr>\n",
       "<tr><td>2</td><td>NamedExprs</td><td>lambda_fn: 3<br>operand: 4<br></td><td><a class=\"ProveItLink\" href=\"__pv_it/basic_expressions/0c1da62eb61c38bccc575fc4090d2fef5c0715e10/expr.ipynb\"><img src=\"data:image/png;base64,iVBORw0KGgoAAAANSUhEUgAAAOUAAAAyCAMAAACULOyzAAAANlBMVEX///8oKCgNDQ2IiIiYmJgy\n",
       "MjJUVFRERETc3NyqqqrMzMwiIiIQEBC6urpmZmZ2dnbu7u4AAAAKyl11AAAAAXRSTlMAQObYZgAA\n",
       "BGBJREFUaN7dmtuCoyAMhtkNJzmE8P4vuxysgmI7M26nrdzVhpRPYhJ+y9g8KCC71tBq2l7yzpqL\n",
       "UTLuFHUXpvj9nTRe9xfIePrxkkCIU7eZC+t3u2ltuyAd1Y5BinAfUsaNwSSiPzD2EtT9VQb/c0Ir\n",
       "DzzoKJtPMu43gZx85DzsnB4s1Tjy0T+LUkd35AFjEyBRDCarR5T7zT4iQfVwqScoKdojDyZCszr5\n",
       "XEqJ/4ES9NE3dZNGHqjJN/QRlNOhEyePKeWXKCeAkHfdCIcGQALzAKo4FMgBcJrLbQAwlfI2ZQkb\n",
       "dA5xdbDJGg0lAeavtZvTRB/otlt/YyrwJOVkU5xg+doqyE86+FyJCqXLMaSwpKoMGwplM2XZy9aB\n",
       "XvOb2FCGVLdzbMYRF5ta6NZUwVlKl5KULylYFbRSc0xZqpD1AU/elVhzbDOlp5wd8MOI1RPD7Eip\n",
       "ISWDtcp3psjPRiwzELBAVZJSJHVJ0DVQWHrAqZZOmp/LZcqGsjqAQ8rE4KA1+ftHdCMuD35nWvlO\n",
       "UJJQet66eoeL255S3RJ2pWymbCjVA8o5BMxS5Gxfxn3b3jSm3JykVLYGKN2hzHvZUDZTvk1ZohDc\n",
       "MN+kBNhCN6bETlKWUJyi9mZAKes9Td6FWp/LZsq3KeudlWNKofebIO/Xoi9SOlVyp+HULrIGiig/\n",
       "W6qmdr70U9BPWVypEeU+x5bU7Nf81CUq39fL1XT28xPK1IxHqZmWCIFA8PLZTCqmEhxEzD2sYrle\n",
       "Vt+Egad6mevzMoXFOnSaqjoHR/WSkUwe47jJwf7M0pjaE13B7451jSi+PKkz/RhKKdZy9GDsTYc9\n",
       "YkOmY3gPSstvjczjM+XOdEy59ks8+vegTC0yflEx2JsOKUVc74t9vUgD9pwiAgNFpFS0W54OUbPL\n",
       "DjnDBefZhYfMeCQksUuPyQIjixenNDanYnTmypC3BxLdk7LPKRn6f0Gux7gnVZI7MvRvDb8eDuBZ\n",
       "i9Evp1TxFzq8l1M2ejpFvCjl75xJ3p+SAkDugL1wgWOQc0OokYd0vE5XYQpZLdjr0nX2KkPvjsyU\n",
       "zLTvtenXUBpbhLuicZQmyWLV0Si/081KIU6UeuG9Lq1ZL0Pv5A9KaYCnWm3Fyynre7ui8FQZaypL\n",
       "duVy1kJFrT97XTpveitD72sY5RtAzOtXU5pYX4Dk9FslyZKjTESeRg5fcZu01aWBbWXo7W+zRj9/\n",
       "KeU0LzAftld5OV1e/pIwXx3q0p0MPc5L8A6Uy17iZi+X1c0v9oa6ND2iNNG8RY51WFfj++eyZgyC\n",
       "hXKsS7cy9D5OqL6rAnp9ji1HlYJSXuHRLR3lPc6ntZpzD3TpVobe5lifXOTOS/M3qJcaQ6iaspA8\n",
       "Fbh5W6iIysyrGMvfhoa6dCdDb+tl1osJUhZ7r95HfOzfujqyC1M2S3f3mxArP5XStKcteU+r9PW9\n",
       "0EcOaAuWjh+7Ww8CVvXMcEVI6/qKzOP1ZNnJiS0T4dWCVoulIP8Dhz4/exIGOpwAAAAASUVORK5C\n",
       "YII=\n",
       "\" style=\"display:inline;vertical-align:middle;\" /></a></td></tr>\n",
       "<tr><td>3</td><td>Lambda</td><td>parameter:&nbsp;8<br>body:&nbsp;5<br></td><td><a class=\"ProveItLink\" href=\"__pv_it/basic_expressions/3f78b9f2ccddc933a56dc468e06e4fae6440a1cc0/expr.ipynb\"><img src=\"data:image/png;base64,iVBORw0KGgoAAAANSUhEUgAAADoAAAASCAMAAAA9mj1BAAAANlBMVEX///8oKCgNDQ0iIiKYmJhU\n",
       "VFTMzMxEREQyMjKqqqq6urp2dnYQEBDc3NxmZmaIiIju7u4AAADK3kTVAAAAAXRSTlMAQObYZgAA\n",
       "ANRJREFUOMudk+sOwyAIhdm81lqR93/ZSTdXaGxq6g8T4QOPegR4OIx7WrlRflpaydwQuF1lKN6U\n",
       "LuUqk9tZKxZk8bl+Y0HfhlIp0NiarpD4xEgjGBbZSaIBYVugsOwQhqWAof5vVaLFQktkVkH4A96v\n",
       "qAZR6nolunI0UYt58n3XqnZNJonFgVqedhGYhxcDPspOAt3DwfVpUBrVw55QKI6V2L60Sq5+1wOt\n",
       "mQVUh1hobJvitf0O9G//EqfdK1AX2cxppuqMGrtbY+qPntDU5Ps5rRr9AGRqCK0PphyjAAAAAElF\n",
       "TkSuQmCC\n",
       "\" style=\"display:inline;vertical-align:middle;\" /></a></td></tr>\n",
       "<tr><td>4</td><td>Variable</td><td></td><td><a class=\"ProveItLink\" href=\"__pv_it/basic_expressions/a2581dc5df71d9a30bad37de14965fa5fec97a240/expr.ipynb\"><img src=\"data:image/png;base64,iVBORw0KGgoAAAANSUhEUgAAAAsAAAAJBAMAAAAWSsseAAAALVBMVEX///9mZmaqqqrMzMxEREQy\n",
       "MjIiIiKYmJh2dna6urrc3NxUVFSIiIju7u4AAACJHQtQAAAAAXRSTlMAQObYZgAAAEJJREFUCNdj\n",
       "YLhzeuWJAwy8Dew5bAEMHBc43nIuYOBlYHFgAAG+A2DKzgBIMF04x8BzgWGegh/DcgaG22fuiBcw\n",
       "AAATyhBrnyPYZQAAAABJRU5ErkJggg==\n",
       "\" style=\"display:inline;vertical-align:middle;\" /></a></td></tr>\n",
       "<tr><td>5</td><td>Operation</td><td>operator:&nbsp;6<br>operand:&nbsp;8<br></td><td><a class=\"ProveItLink\" href=\"__pv_it/basic_expressions/c347d276ec76e15dc10a244ba80ef4cf44f7c0610/expr.ipynb\"><img src=\"data:image/png;base64,iVBORw0KGgoAAAANSUhEUgAAAA8AAAASBAMAAAB2sJk8AAAAMFBMVEX///8iIiKYmJhUVFTMzMxE\n",
       "REQyMjKqqqq6urp2dnYQEBDc3NxmZmaIiIju7u4AAACH5sGpAAAAAXRSTlMAQObYZgAAAH1JREFU\n",
       "CNdjYAADRgMIzbB/AZTxXgDK4E+AMrgMGPjuXGDY9YDtAAMnxwKG+wysFxi28yQwhDLwKDA84LrA\n",
       "8JeBs4GBof8ByxcGJgcGhmMMvAsY+IA6gxlYIeYfZuhXYHgFNPDx3fMboJYeA8swJ/D9gLhEAWgq\n",
       "CHDcPQKmAfJzHkhdvZ5GAAAAAElFTkSuQmCC\n",
       "\" style=\"display:inline;vertical-align:middle;\" /></a></td></tr>\n",
       "<tr><td colspan=4 style=\"text-align:left\"><strong>class:</strong> tutorial.demo_operations.Factorial</td></tr>\n",
       "<tr><td>6</td><td>Literal</td><td></td><td><a class=\"ProveItLink\" href=\"__pv_it/basic_expressions/8728c1bffccb7db650045028f6b5e694aec8423e0/expr.ipynb\"><img src=\"data:image/png;base64,iVBORw0KGgoAAAANSUhEUgAAAAMAAAAOBAMAAAAYmLtSAAAALVBMVEX////MzMy6urp2dnaYmJiI\n",
       "iIhERERmZmYyMjLu7u4QEBDc3NxUVFQiIiIAAADD04JwAAAAAXRSTlMAQObYZgAAADBJREFUCNdj\n",
       "4D3AsG8Bw7wLDHwNDFwHGDgKGNgCGNgdGJgVGFgEGDgZQGBWAwPvAQDOHwguCCEr4AAAAABJRU5E\n",
       "rkJggg==\n",
       "\" style=\"display:inline;vertical-align:middle;\" /></a></td></tr>\n",
       "<tr><td colspan=4 style=\"text-align:left\"><strong>theory:</strong> tutorial</td></tr>\n",
       "<tr><td>7</td><td>ExprTuple</td><td>8</td><td><a class=\"ProveItLink\" href=\"../packages/proveit/__pv_it/common/da0165ca23670715500cc2052331c5d49cf412020/expr.ipynb\"><img src=\"data:image/png;base64,iVBORw0KGgoAAAANSUhEUgAAABcAAAAUBAMAAACUkLs9AAAAMFBMVEX///9UVFTMzMx2dna6uroQ\n",
       "EBCqqqqIiIgiIiJmZmYyMjJERETu7u6YmJjc3NwAAAC+aOQFAAAAAXRSTlMAQObYZgAAALpJREFU\n",
       "GNM1jzsKwlAQRU8+an6KS3AJdmJnaZcUrkPShVRaWUfLNGYFgrUosRAEm6xA0iiWIoKtk9/AzJsD\n",
       "9w33Qi+jrHkxbtWOksvY1eAk0I1qYARG3sAFXs2ONSEUdejzSNEijqDpHgv5nbCCp5lwgPaSGaQt\n",
       "nx+o7wJwU/VTgsiI6XigL4sD7LH75YGxwBpX3JpDpgLnYCs+rEFtJ5a+lkaVxPlWRjlhZLZfRZBw\n",
       "erCR1y70Tew7/AEf1i10vuYsBAAAAABJRU5ErkJggg==\n",
       "\" style=\"display:inline;vertical-align:middle;\" /></a></td></tr>\n",
       "<tr><td>8</td><td>Variable</td><td></td><td><a class=\"ProveItLink\" href=\"../packages/proveit/__pv_it/common/0f21cbfd5644a1cae6781c1d58354abc2ffbc9000/expr.ipynb\"><img src=\"data:image/png;base64,iVBORw0KGgoAAAANSUhEUgAAAAsAAAANBAMAAACN24kIAAAAMFBMVEX///8iIiKYmJhUVFTMzMxE\n",
       "REQyMjKqqqq6urp2dnYQEBDc3NxmZmaIiIju7u4AAACH5sGpAAAAAXRSTlMAQObYZgAAAFlJREFU\n",
       "CNdj4LtzgWHXAwZOjgUM9xkYtvMkMIQyMDzgusDwl4GBof8ByxcgdYyBdwGQCmZgNQBShxn6FYDU\n",
       "47vnNzAwgGUZGJgT+H4AKUYF1gtAiuPuESAJAJGkFvXVdzA+AAAAAElFTkSuQmCC\n",
       "\" style=\"display:inline;vertical-align:middle;\" /></a></td></tr>\n",
       "</table>\n"
      ],
      "text/plain": [
       "0. [y -> y!](x)\n",
       "   core type: Operation\n",
       "   class: <class 'demo_lambda_app_operation.LambdaApplication'>\n",
       "   operator: 1\n",
       "   operands: 2\n",
       "1. LAMBDA_APPLICATION\n",
       "   core type: Literal\n",
       "   latex_format: {\\rm LAMBDA\\_APPLICATION}\n",
       "   theory: tutorial\n",
       "   class: <class 'proveit._core_.expression.label.literal.Literal'>\n",
       "   sub-expressions: \n",
       "2. {lambda_fn:[y -> y!], operand:x}\n",
       "   core type: NamedExprs\n",
       "   class: <class 'proveit._core_.expression.composite.named_exprs.NamedExprs'>\n",
       "   lambda_fn: 3\n",
       "   operand: 4\n",
       "3. y -> y!\n",
       "   core type: Lambda\n",
       "   class: <class 'proveit._core_.expression.lambda_expr.lambda_expr.Lambda'>\n",
       "   parameter: 8\n",
       "   body: 5\n",
       "4. x\n",
       "   core type: Variable\n",
       "   latex_format: x\n",
       "   class: <class 'proveit._core_.expression.label.var.Variable'>\n",
       "   sub-expressions: \n",
       "5. y!\n",
       "   core type: Operation\n",
       "   class: <class 'demo_operations.Factorial'>\n",
       "   operator: 6\n",
       "   operand: 8\n",
       "6. !\n",
       "   core type: Literal\n",
       "   latex_format: !\n",
       "   theory: tutorial\n",
       "   class: <class 'proveit._core_.expression.label.literal.Literal'>\n",
       "   sub-expressions: \n",
       "7. (y)\n",
       "   core type: ExprTuple\n",
       "   class: <class 'proveit._core_.expression.composite.expr_tuple.ExprTuple'>\n",
       "   sub-expressions: 8\n",
       "8. y\n",
       "   core type: Variable\n",
       "   latex_format: y\n",
       "   class: <class 'proveit._core_.expression.label.var.Variable'>\n",
       "   sub-expressions: "
      ]
     },
     "execution_count": 109,
     "metadata": {},
     "output_type": "execute_result"
    }
   ],
   "source": [
    "lambda_app_expr.expr_info(details=True)"
   ]
  },
  {
   "cell_type": "markdown",
   "metadata": {},
   "source": [
    "**Axioms** could then be created to define how the `LambdaApplication` **operation** actually operates, but **axioms** will be discussed in a later chapter."
   ]
  },
  {
   "cell_type": "markdown",
   "metadata": {},
   "source": [
    "NamedExprs\n",
    "=========\n",
    "\n",
    "`NamedExprs` is a composite **expression** that maps string keywords to sub-**expressions**.  The reason that this may be desired is to be explicit in the internal representation about the role of each sub-**expression** so there is no ambiguity between the internal and external representation.  A good example is the `lambda_app_expr` $[y \\mapsto y!](x)$ defined above, where one *operand* plays the role of the lambda function and the other *operand* plays the role of the lambda function's operand."
   ]
  },
  {
   "cell_type": "markdown",
   "metadata": {},
   "source": [
    "Here is a more rudimentary demonstration of using **NamedExpressions**:"
   ]
  },
  {
   "cell_type": "code",
   "execution_count": 110,
   "metadata": {},
   "outputs": [
    {
     "data": {
      "text/html": [
       "<a class=\"ProveItLink\" href=\"__pv_it/basic_expressions/b57709dee90b6511f478d5775976c2f97316b8320/expr.ipynb\"><img src=\"data:image/png;base64,iVBORw0KGgoAAAANSUhEUgAAAMsAAABLCAMAAADplYPZAAAANlBMVEX///9tbW2YmJgdHR2qqqqI\n",
       "iIh2dnZERERUVFS6urru7u7MzMwQEBAiIiLc3NwyMjJmZmYAAAC+eEdpAAAAAXRSTlMAQObYZgAA\n",
       "BTlJREFUaN7tm+l6oyAUhh2Gfef+b3bYogcFkziNY+bRH2lqTcsLZ/2g0zRf3k3fdyEjtjet0eoL\n",
       "WSYW6AYlaDt95cXXMNKE9Vop7lYPCU7YBWFMwCu47Sil5i2cliISi6uxiBAkHHYIHWdhLYvPuNJf\n",
       "cGGgAdGgp6csPFOg67GQZvQu8BdZcLgei2isSm8D28xiPaLcTspr7T3ywXgPfM0svJIQbgWh5GwW\n",
       "G6D3h0BGLMJExxI6vvA8bOPb+DAnWElT5iKTOT/lNsPfYdF5xTTps0Cfk8nv5CTsVVlU8CheHD1l\n",
       "SXGR/Zv88yILXkzxCUv+PeTKLGr5ycIyGrEK6sos1ZXl7C8uvnaXBssY6FO0l5dlUdnIvHw4Q+oM\n",
       "fCeOifgciywWXXBdFA8h5pVJck9ijLLxW4ayqVHbyS+SEyJJDBTXtLGvuZrh//6Nv5mlGf7/tC43\n",
       "y81ys9wsN8vN8hmWnTLKatTWaY5emCU2/zsKnloJG60GeAXpTwNxSITwTpMOtaZLSH8MqK40vKWd\n",
       "QJZLSH8IiH1m1/WtUkOWa0h/cvERHEznAeE0wdRZy4qoKTj1iCSln3FLCCd5VRrprxH+PMlx45SO\n",
       "mcxGZgaSg/ZYpgDnsuaXxHSDkm7BUn9pi4tBWQYIfxOdhM5/5JyVcRXBjyzMGWBT3DxeJpats4Tx\n",
       "gcRkcdkyPEswszrJq9HxR7nFccDi9cKSp7/MwIBFFqnzPMHMmgiDx5qW84DFxuekzq5RJnuXpdrk\n",
       "mYJZnGFp3Mg9H/m9sBBKqgCzZunOfTYxok9DIcm8pBntujYseEnwkGUo/eUPMX4Wii9ase2GZGA/\n",
       "eezCCaW26wKlPxjHJs+TnZ2lltFHnUW6CU+wEBiump9MYS9e2pfvFWahlGVQ+jOwuOGE+HDS/oWa\n",
       "E39/53VtMxFLWmzeCUynneQAhQsLT+0a10SBXkwY3KU5EmctSwC12dP0LI2al+elmYqewshpju8g\n",
       "19MZlJQSQv2r+UJEbzkttxjg8DKEr9aTA+wWb+3iZrlZbpb3Om0ljjXBR7Zosf0oC3bHcrs81G9y\n",
       "+1Ebs3ss4x+5Q0WndJ/1lx2WsQ54VFUbnOdasfz6AMt4xOZgLyD1gOXXz62LFSrHgWaIYx3QmlFj\n",
       "UUs4O2oWnDhkY8JpijxNp61m3S+VmLHCFEu1qRKL9Ulri+0ZKaZFqcc7OuBEKuTmJKAt1Xj9Up+B\n",
       "oiH1B/1Fa5GK/fzxqvupbB25mC+iDC025pa22ab7KmkIIx1wYqhOxuYkYKaAKCvRELmDLEUfw3m0\n",
       "VfcztPQI6qGS1TgGJACX7uN0oH6oN5myWr2TgJGjQVmJhtgcZfGlIfAzl6q9QayxZamz5ZpFLl4y\n",
       "ZNHVSKeOsGkNRFmLhir8FcuUdefyHteoFW/VQ3IbFnB47hnLouaMWVai4V+y1HWhzbr4eJu8si5k\n",
       "x8amjrC5trGVaCjMT/hL6dy0LyMQD3ev/sJZfj/7S/zYng5YfL9zEnDr+61oeNz3UzCSxd2rvaj8\n",
       "TzIZzGZLqZsESGeHZ/KxVZtEs6EOWCJr5yRgJya3oqGnfRbUb/7huqCYAATQ/VIqicmjuq6nKOaX\n",
       "IvmlXCNN3jnIBwHtng5YLKVzErCXKxvR0KluTQiLDxbY2Pc/IZy8WcM8REPZdZd267gvkH2O5Y3a\n",
       "shEN+7Wlb7eOdU/FNp9T6dnLCwNFw0HNvxo82Wr9op6D/cj1ei8GRcP+DGzGzk/u+I/0yMj2u8HN\n",
       "boIL/+Jk8Q+ssOl0UDTQL0SxuhsTxTeywEH/ARQNRZyz/2VoAAAAAElFTkSuQmCC\n",
       "\" style=\"display:inline;vertical-align:middle;\" /></a>"
      ],
      "text/plain": [
       "{left:x, right:y, product:(x * y)}"
      ]
     },
     "execution_count": 110,
     "metadata": {},
     "output_type": "execute_result"
    }
   ],
   "source": [
    "from proveit import NamedExprs\n",
    "NamedExprs([('left',x), ('right',y), ('product',Multiply(x, y))])"
   ]
  },
  {
   "cell_type": "markdown",
   "metadata": {},
   "source": [
    "To produce a `NamedExprs` object, you must supply a list of (keyword, `Expression`) pairs.  The keywords must be strings, but can be any string desired.  When the **NamedExprs** is displayed, it will show each of these pairs in the order that they were originally provided."
   ]
  },
  {
   "cell_type": "markdown",
   "metadata": {},
   "source": [
    "ExprRange\n",
    "=========\n",
    "\n",
    "It is common in mathematical notation to use ellipses ($...$) in representing an unspecified number of parameters or operands.  The `ExprRange` expression type serves this purpose."
   ]
  },
  {
   "cell_type": "markdown",
   "metadata": {},
   "source": [
    "To create an `ExprRange`, supply a *parameter*, *body*, and *start* and *end* indices."
   ]
  },
  {
   "cell_type": "code",
   "execution_count": 111,
   "metadata": {},
   "outputs": [
    {
     "data": {
      "text/html": [
       "<strong id=\"it\">it:</strong> <a class=\"ProveItLink\" href=\"__pv_it/basic_expressions/b4b398d5144593628c5f6bc90728b0dd376d52250/expr.ipynb\"><img src=\"data:image/png;base64,iVBORw0KGgoAAAANSUhEUgAAAI8AAAAuBAMAAADjDVfrAAAAMFBMVEX////MzMxEREQiIiK6urrc\n",
       "3NwyMjJmZmaIiIiYmJh2dnZUVFTu7u4QEBCqqqoAAACna3UaAAAAAXRSTlMAQObYZgAAAXpJREFU\n",
       "SMdjYKA+4LtDooa3B7AKn179hyRjeHbtx24QA+cfEl00f9SgUYNoaBAHqQb1YzeIfe+3SpLMqb6f\n",
       "PoFhFIwC6oL/WMEHEtXj0TCMwfkEKMHzDZlBOmC2AREbgIQ1jGF8gGRTNgHxG8w6/QDJtf1OIF6A\n",
       "IcqF02LODaj8F8hVewOG8hPo7mjAZTCyQZyY0hPIMoiYdhCqQSe6Q7oaUAziaW/Aox2hHm7QiSaQ\n",
       "rgWcFswJKAZxsVzA0yxCqIcbVMAL9DXXAa4/LAEoBsWxJ+A2CEk9zCDOAP4HQBsYmBTA3GVpabZp\n",
       "adlA1gF+PF6DqedKS0u+lpa2ASzkD05hCG2wwH6PNwnD1SMCezGYlBdAN0gbb2TB1SMMSgen+34G\n",
       "jgOosfaPC0+cI9TDDeL5ByT8H+gzRKK6iOVDJG6DkNTDDeIDtRpOd5yonIDmtZ146nQk9XCD2A2o\n",
       "lLKZC9BkzpBmEA8kqBgPxAtQpSyNX6BOnUKZux0UZgCtC61W/5pUbwAAAABJRU5ErkJggg==\n",
       "\" style=\"display:inline;vertical-align:middle;\" /></a><br>"
      ],
      "text/plain": [
       "it: (1 / (x + i)), ..(1 / (x + k)).., (1 / (x + j))"
      ]
     },
     "execution_count": 111,
     "metadata": {},
     "output_type": "execute_result"
    }
   ],
   "source": [
    "from proveit import ExprRange\n",
    "from proveit import i, j, k\n",
    "from proveit.numbers import one, Add, frac\n",
    "it = ExprRange(k, frac(one, Add(x, k)), i, j)"
   ]
  },
  {
   "cell_type": "markdown",
   "metadata": {},
   "source": [
    "For compactness, we only show the start and the end instances.  It is implicit that our index parameter ($k$, which is not explicitly shown) is that our index ranges from $i$ to $j$ in increments of $1$.  (Future style options could be implemented, if desired, to make the representation more explicit at the expense of being less compact without changing any of the inner workings of the `Iter` expression type.)"
   ]
  },
  {
   "cell_type": "markdown",
   "metadata": {},
   "source": [
    "Looking at the expression information, we see that there are three sub-expression of the `Iter` object: the `lambda_map`, `start_index` and `end_index`."
   ]
  },
  {
   "cell_type": "code",
   "execution_count": 112,
   "metadata": {},
   "outputs": [
    {
     "data": {
      "text/html": [
       "<table><tr><th>&nbsp;</th><th>core type</th><th>sub-expressions</th><th>expression</th></tr>\n",
       "<tr><td>0</td><td>ExprRange</td><td>lambda_map:&nbsp;1<br>start_index:&nbsp;2<br>end_index:&nbsp;3<br></td><td><a class=\"ProveItLink\" href=\"__pv_it/basic_expressions/b4b398d5144593628c5f6bc90728b0dd376d52250/expr.ipynb\"><img src=\"data:image/png;base64,iVBORw0KGgoAAAANSUhEUgAAAI8AAAAuBAMAAADjDVfrAAAAMFBMVEX////MzMxEREQiIiK6urrc\n",
       "3NwyMjJmZmaIiIiYmJh2dnZUVFTu7u4QEBCqqqoAAACna3UaAAAAAXRSTlMAQObYZgAAAXpJREFU\n",
       "SMdjYKA+4LtDooa3B7AKn179hyRjeHbtx24QA+cfEl00f9SgUYNoaBAHqQb1YzeIfe+3SpLMqb6f\n",
       "PoFhFIwC6oL/WMEHEtXj0TCMwfkEKMHzDZlBOmC2AREbgIQ1jGF8gGRTNgHxG8w6/QDJtf1OIF6A\n",
       "IcqF02LODaj8F8hVewOG8hPo7mjAZTCyQZyY0hPIMoiYdhCqQSe6Q7oaUAziaW/Aox2hHm7QiSaQ\n",
       "rgWcFswJKAZxsVzA0yxCqIcbVMAL9DXXAa4/LAEoBsWxJ+A2CEk9zCDOAP4HQBsYmBTA3GVpabZp\n",
       "adlA1gF+PF6DqedKS0u+lpa2ASzkD05hCG2wwH6PNwnD1SMCezGYlBdAN0gbb2TB1SMMSgen+34G\n",
       "jgOosfaPC0+cI9TDDeL5ByT8H+gzRKK6iOVDJG6DkNTDDeIDtRpOd5yonIDmtZ146nQk9XCD2A2o\n",
       "lLKZC9BkzpBmEA8kqBgPxAtQpSyNX6BOnUKZux0UZgCtC61W/5pUbwAAAABJRU5ErkJggg==\n",
       "\" style=\"display:inline;vertical-align:middle;\" /></a></td></tr>\n",
       "<tr><td>1</td><td>Lambda</td><td>parameter:&nbsp;12<br>body:&nbsp;4<br></td><td><a class=\"ProveItLink\" href=\"__pv_it/basic_expressions/69fcfe217cb092c692870fb8658f20a55d1b69ff0/expr.ipynb\"><img src=\"data:image/png;base64,iVBORw0KGgoAAAANSUhEUgAAAF4AAAAsCAMAAADb5v+WAAAANlBMVEX///8oKCgNDQ3MzMxUVFSI\n",
       "iIjc3NyYmJh2dna6urqqqqpmZmYyMjIiIiIQEBBERETu7u4AAAB0zXpNAAAAAXRSTlMAQObYZgAA\n",
       "ATxJREFUWMPtl91uwyAMRtnAgPkJ5v1fdqTT1EASSgpInRTf9KLqkfVhjiljn19moWlsElpEmtm9\n",
       "uvE3/saPLpiJt2KJzqozZ4TFTxWes1Px0cykY+VgQHbjdSV6Y4dEb5T96zNkX3afOqXoQWJUh0AT\n",
       "ehdlJCBG6qRfCH1Xxi55vt9fLqsY8TljVyt1KyDANu28W/TYFz0yuWmwCIe7vmxU/D1dfYx3nYMv\n",
       "1tGI/InP3IS9cx9WI4CF4wws/8BH4T+TsIGpEi7xOHY7lnj9bvQEICSChiq+kHA7PV0P5YF5V8OX\n",
       "Em5fPSlTnYJFWcOXEm7vfr2I2xWgH1b1y+NDnEj42uaHV0dbSvhK8chf4HcSbp9ASi++VVJUwe8k\n",
       "3P5mMSykH0tV634n4fY/mQAEVqlqOHUJj3DOYAOfNfoDNp0Q62z/eG4AAAAASUVORK5CYII=\n",
       "\" style=\"display:inline;vertical-align:middle;\" /></a></td></tr>\n",
       "<tr><td>2</td><td>Variable</td><td></td><td><a class=\"ProveItLink\" href=\"../packages/proveit/__pv_it/common/575a6156bb1c87c5beeaf38c302b5905ad57f5780/expr.ipynb\"><img src=\"data:image/png;base64,iVBORw0KGgoAAAANSUhEUgAAAAcAAAAOBAMAAAARcxsoAAAAKlBMVEX///8yMjKqqqrc3NwQEBC6\n",
       "urp2dnZmZmaIiIju7u6YmJhERERUVFQAAAAIfTrnAAAAAXRSTlMAQObYZgAAADhJREFUCNdjYGA4\n",
       "zQAEpxjQAWd7AwMDG6sDA4MRuwADwwReIJdBdwKQ2AOSvcTGwMB6wQqkdQEDAPwvCSrC7lmiAAAA\n",
       "AElFTkSuQmCC\n",
       "\" style=\"display:inline;vertical-align:middle;\" /></a></td></tr>\n",
       "<tr><td>3</td><td>Variable</td><td></td><td><a class=\"ProveItLink\" href=\"../packages/proveit/__pv_it/common/5514cc9a63b9c2ed9b63934dd5e088ab0d4f10080/expr.ipynb\"><img src=\"data:image/png;base64,iVBORw0KGgoAAAANSUhEUgAAAAoAAAASBAMAAACQmVJ4AAAAMFBMVEX////MzMwyMjIiIiJ2dna6\n",
       "urrc3NxmZmZERESIiIhUVFSYmJju7u4QEBCqqqoAAACA8xhiAAAAAXRSTlMAQObYZgAAAE1JREFU\n",
       "CNdjYGBg4LsDJBi4FzBgAydngMgC3g1AFQn8DxgYeBjiD4CEnMHS6iCC5x+I5PsDItkNQCRzAQMD\n",
       "44F8AQaGfId2IJ9rOlA/AHmNDZhMFHq1AAAAAElFTkSuQmCC\n",
       "\" style=\"display:inline;vertical-align:middle;\" /></a></td></tr>\n",
       "<tr><td>4</td><td>Operation</td><td>operator:&nbsp;5<br>operands:&nbsp;6<br></td><td><a class=\"ProveItLink\" href=\"__pv_it/basic_expressions/73431528bfd001fa2be4f449a40a64b46cac16b70/expr.ipynb\"><img src=\"data:image/png;base64,iVBORw0KGgoAAAANSUhEUgAAADEAAAAsBAMAAAA++k1qAAAAMFBMVEX////MzMxEREQiIiK6urrc\n",
       "3NwyMjJmZmaIiIiYmJh2dnZUVFTu7u4QEBCqqqoAAACna3UaAAAAAXRSTlMAQObYZgAAAMFJREFU\n",
       "OMtjYCAKvD2AXZxn1/4DuPTMHzEy/bhkqu+nT2AYvuA/DvBhkLr30GWcUunoAi9gjH+4ZFj+4JLh\n",
       "MgBTJ7pDuhpQZdgK+KYHMPAs4LRgTkCVOf+g1X8CA9cBrj8sAagy708cOAnMaQxMCmDusrQ027S0\n",
       "bBCztgCigr8B3QXWTRAheQE0GZ4vrF+AFN+BfgaOAygynB94/nExMPg/0GeIRNXDrcDwEShzuuNE\n",
       "5QRUGaYHDO09OMINA5xB5gAALgReomfqxbcAAAAASUVORK5CYII=\n",
       "\" style=\"display:inline;vertical-align:middle;\" /></a></td></tr>\n",
       "<tr><td>5</td><td>Literal</td><td></td><td><a class=\"ProveItLink\" href=\"../packages/proveit/numbers/division/__pv_it/common/9ecc1ae47b83f7ed759e5ea63a2023a8f2ab04800/expr.ipynb\"><img src=\"data:image/png;base64,iVBORw0KGgoAAAANSUhEUgAAAA4AAAAMBAMAAACgrpHpAAAAIVBMVEX///9UVFRmZmbu7u4iIiIy\n",
       "MjK6urrc3NyYmJiqqqoAAACDToSlAAAAAXRSTlMAQObYZgAAACJJREFUCNdjYGBgmMEABuyrEiCM\n",
       "EAMG3EA1FAQCsUlhMwcALk0GeoeEfOIAAAAASUVORK5CYII=\n",
       "\" style=\"display:inline;vertical-align:middle;\" /></a></td></tr>\n",
       "<tr><td>6</td><td>ExprTuple</td><td>7, 8</td><td><a class=\"ProveItLink\" href=\"__pv_it/basic_expressions/2940e1f1ad5af0faac209c72794f70676dcf5b6d0/expr.ipynb\"><img src=\"data:image/png;base64,iVBORw0KGgoAAAANSUhEUgAAAFEAAAAUBAMAAAAHNMzaAAAAMFBMVEX////MzMxUVFR2dna6uroQ\n",
       "EBCqqqqIiIgiIiJmZmYyMjJERETu7u6YmJjc3NwAAACgK8IjAAAAAXRSTlMAQObYZgAAATxJREFU\n",
       "KM9jYOC7wEAY5IGI0/jV8GxtAJJMD4DEOiBmi8GtlGsCSP0CBgZeIOOQ0R9MFelQmj8BRJozMHCA\n",
       "zOXFo9L/AIg8ysDwgoGASguIGxwYKlFUHi96UlyAqnIlQ+48BgbmCQx7kVXyGPC2cyxAUcnzjf3J\n",
       "X6CKBQxtyCqZDzD/YXmAopLtTw0PMMTZGhhCUMxk4N4AZlitWtW6atUiIIszEizA+AFVJTBMCtB8\n",
       "xKG+HaqyDVWlvACayvMO7x2AFEsDqo/YDtQzsB9AUXmf4XyCAdhHliAuO1DleaCf/RP2M7xFNVOb\n",
       "gV8AqJLTgMED5GrVX3MZOHqA0Vp+fO4FVJXbGNinA23hEoDEJhjkYI8jCDgBSSEQYICq8gwKD5hC\n",
       "GPbBEmIBvlS6ACkl8+JLz9wgNxKVO+4xMAAAXppXOZrwOycAAAAASUVORK5CYII=\n",
       "\" style=\"display:inline;vertical-align:middle;\" /></a></td></tr>\n",
       "<tr><td>7</td><td>Literal</td><td></td><td><a class=\"ProveItLink\" href=\"../packages/proveit/numbers/numerals/__pv_it/common/d278e359da0695d9652dd541d45264f93703e2e40/expr.ipynb\"><img src=\"data:image/png;base64,iVBORw0KGgoAAAANSUhEUgAAAAgAAAAPBAMAAAArJJMAAAAAIVBMVEX///8yMjJmZmaIiIiYmJh2\n",
       "dnZUVFTu7u4QEBCqqqoAAAADAhFxAAAAAXRSTlMAQObYZgAAACBJREFUCNdjYAADznYGhrKw5UAW\n",
       "CykEM5BgylioAjYDAHBOCeDSSky9AAAAAElFTkSuQmCC\n",
       "\" style=\"display:inline;vertical-align:middle;\" /></a></td></tr>\n",
       "<tr><td>8</td><td>Operation</td><td>operator:&nbsp;9<br>operands:&nbsp;10<br></td><td><a class=\"ProveItLink\" href=\"__pv_it/basic_expressions/e8443d425b9ed12633d6c4b3e53c3f46995021c70/expr.ipynb\"><img src=\"data:image/png;base64,iVBORw0KGgoAAAANSUhEUgAAADEAAAAQBAMAAABNQoq8AAAAMFBMVEX///8QEBBmZmaqqqrMzMxE\n",
       "REQyMjIiIiKYmJh2dna6urrc3NxUVFSIiIju7u4AAAA6P00QAAAAAXRSTlMAQObYZgAAAKJJREFU\n",
       "GNNjYMACnooz4AJJ6AK2MMZnXDJc/3DJcBaAqbd3dt28gCrDpsDctIGBbwJHLXsCqsx7g9vrGxg4\n",
       "H3D+49qAKmP/9sELBgY+BtYAMHdaWlphWloOiKmoAFHBfwHdBTVXIUL+DmgyfL+4fwEp5gf3GXgf\n",
       "oMhwfOD7zMnAsN4gnmEHqh6eAIYvQJk3d99qNKDKsBowXLqHI9wwwDtkDgCYPy4DXH5iiQAAAABJ\n",
       "RU5ErkJggg==\n",
       "\" style=\"display:inline;vertical-align:middle;\" /></a></td></tr>\n",
       "<tr><td>9</td><td>Literal</td><td></td><td><a class=\"ProveItLink\" href=\"../packages/proveit/numbers/addition/__pv_it/common/1f38fe5cce441387feef296e2c0a2eac260bb4f30/expr.ipynb\"><img src=\"data:image/png;base64,iVBORw0KGgoAAAANSUhEUgAAAA4AAAAPBAMAAAAmOuNHAAAAHlBMVEX////u7u5UVFQQEBAiIiIy\n",
       "MjJ2dnaIiIiqqqoAAABCN83zAAAAAXRSTlMAQObYZgAAABxJREFUCNdjYECAdlLo1NBQ59DQIJL1\n",
       "AYEgEAMABwsItInrGUMAAAAASUVORK5CYII=\n",
       "\" style=\"display:inline;vertical-align:middle;\" /></a></td></tr>\n",
       "<tr><td>10</td><td>ExprTuple</td><td>11, 12</td><td><a class=\"ProveItLink\" href=\"__pv_it/basic_expressions/d0d98c975a00d720acd4f27e80654360084d24ff0/expr.ipynb\"><img src=\"data:image/png;base64,iVBORw0KGgoAAAANSUhEUgAAAC0AAAAUBAMAAADrQanMAAAAMFBMVEX////MzMxUVFR2dna6uroQ\n",
       "EBCqqqqIiIgiIiJmZmYyMjJERETu7u6YmJjc3NwAAACgK8IjAAAAAXRSTlMAQObYZgAAAQtJREFU\n",
       "GNNjYOC7wIAO8kDEaRSh0xFAgukBkFiHqnYlEPMsYGDgnYAq/g1EmDMwcDxAEWb5AyKPMjC8QFXO\n",
       "3AAiuRwYKoHU8aInxQUQca4JbDcfMDBPYNgLtMaAt51jAUT8fEKd/wUG3gUMbUC9B5j/sECtyT9+\n",
       "4CwDA1sDQwhQPQP3Bpj5U8HOY/wAEmdg4C+AiTdVF0DE20A8eQGoMM8Xvi8g1zaA7GU7UM/AfgAs\n",
       "zvuB5xszA8heSwYG/4T9DG8ZeH6BQmYDw0egOKcBgwcDw6Hy43OBgdoB1MKdwFBZA/SFAFI4sB2A\n",
       "+/oEcrgxI0IDGG4M+2Cc43BhUDgj4gURb9wgs7HE4z0GBgCGO0OZ3WkucAAAAABJRU5ErkJggg==\n",
       "\" style=\"display:inline;vertical-align:middle;\" /></a></td></tr>\n",
       "<tr><td>11</td><td>Variable</td><td></td><td><a class=\"ProveItLink\" href=\"__pv_it/basic_expressions/a2581dc5df71d9a30bad37de14965fa5fec97a240/expr.ipynb\"><img src=\"data:image/png;base64,iVBORw0KGgoAAAANSUhEUgAAAAsAAAAJBAMAAAAWSsseAAAALVBMVEX///9mZmaqqqrMzMxEREQy\n",
       "MjIiIiKYmJh2dna6urrc3NxUVFSIiIju7u4AAACJHQtQAAAAAXRSTlMAQObYZgAAAEJJREFUCNdj\n",
       "YLhzeuWJAwy8Dew5bAEMHBc43nIuYOBlYHFgAAG+A2DKzgBIMF04x8BzgWGegh/DcgaG22fuiBcw\n",
       "AAATyhBrnyPYZQAAAABJRU5ErkJggg==\n",
       "\" style=\"display:inline;vertical-align:middle;\" /></a></td></tr>\n",
       "<tr><td>12</td><td>Variable</td><td></td><td><a class=\"ProveItLink\" href=\"../packages/proveit/__pv_it/common/b9fd37fc619babc74a6203459f110251586df6970/expr.ipynb\"><img src=\"data:image/png;base64,iVBORw0KGgoAAAANSUhEUgAAAAoAAAAOBAMAAADkjZCYAAAAMFBMVEX////MzMxUVFSIiIjc3NyY\n",
       "mJh2dna6urqqqqpmZmYyMjIiIiIQEBBERETu7u4AAAA59f8xAAAAAXRSTlMAQObYZgAAAE9JREFU\n",
       "CNdj4LuzgQEIuCaASP4GEFn/AERmgwiGlQytUxj4fjC7f2Xg+GfHF8DAeRIkzK18GUi+L/AvYGCI\n",
       "Z3jfkMCgy8AvkMBwg4F58gMA1VoTUDpQu/EAAAAASUVORK5CYII=\n",
       "\" style=\"display:inline;vertical-align:middle;\" /></a></td></tr>\n",
       "</table>\n"
      ],
      "text/plain": [
       "0. (1 / (x + i)), ..(1 / (x + k)).., (1 / (x + j))\n",
       "   core type: ExprRange\n",
       "   lambda_map: 1\n",
       "   start_index: 2\n",
       "   end_index: 3\n",
       "1. k -> (1 / (x + k))\n",
       "   core type: Lambda\n",
       "   parameter: 12\n",
       "   body: 4\n",
       "2. i\n",
       "   core type: Variable\n",
       "   sub-expressions: \n",
       "3. j\n",
       "   core type: Variable\n",
       "   sub-expressions: \n",
       "4. 1 / (x + k)\n",
       "   core type: Operation\n",
       "   operator: 5\n",
       "   operands: 6\n",
       "5. /\n",
       "   core type: Literal\n",
       "   sub-expressions: \n",
       "6. (1, x + k)\n",
       "   core type: ExprTuple\n",
       "   sub-expressions: 7, 8\n",
       "7. 1\n",
       "   core type: Literal\n",
       "   sub-expressions: \n",
       "8. x + k\n",
       "   core type: Operation\n",
       "   operator: 9\n",
       "   operands: 10\n",
       "9. +\n",
       "   core type: Literal\n",
       "   sub-expressions: \n",
       "10. (x, k)\n",
       "    core type: ExprTuple\n",
       "    sub-expressions: 11, 12\n",
       "11. x\n",
       "    core type: Variable\n",
       "    sub-expressions: \n",
       "12. k\n",
       "    core type: Variable\n",
       "    sub-expressions: "
      ]
     },
     "execution_count": 112,
     "metadata": {},
     "output_type": "execute_result"
    }
   ],
   "source": [
    "it.expr_info()"
   ]
  },
  {
   "cell_type": "markdown",
   "metadata": {},
   "source": [
    "The `lambda_map`, `start_index` and `end_index` attributes provides access to the sub-expression.  The `parameter` and `body` attributes provide convient access to some indirect sub-expressions (the sub-expressions of `lambda_map`)."
   ]
  },
  {
   "cell_type": "code",
   "execution_count": 113,
   "metadata": {},
   "outputs": [
    {
     "data": {
      "text/html": [
       "<a class=\"ProveItLink\" href=\"__pv_it/basic_expressions/69fcfe217cb092c692870fb8658f20a55d1b69ff0/expr.ipynb\"><img src=\"data:image/png;base64,iVBORw0KGgoAAAANSUhEUgAAAF4AAAAsCAMAAADb5v+WAAAANlBMVEX///8oKCgNDQ3MzMxUVFSI\n",
       "iIjc3NyYmJh2dna6urqqqqpmZmYyMjIiIiIQEBBERETu7u4AAAB0zXpNAAAAAXRSTlMAQObYZgAA\n",
       "ATxJREFUWMPtl91uwyAMRtnAgPkJ5v1fdqTT1EASSgpInRTf9KLqkfVhjiljn19moWlsElpEmtm9\n",
       "uvE3/saPLpiJt2KJzqozZ4TFTxWes1Px0cykY+VgQHbjdSV6Y4dEb5T96zNkX3afOqXoQWJUh0AT\n",
       "ehdlJCBG6qRfCH1Xxi55vt9fLqsY8TljVyt1KyDANu28W/TYFz0yuWmwCIe7vmxU/D1dfYx3nYMv\n",
       "1tGI/InP3IS9cx9WI4CF4wws/8BH4T+TsIGpEi7xOHY7lnj9bvQEICSChiq+kHA7PV0P5YF5V8OX\n",
       "Em5fPSlTnYJFWcOXEm7vfr2I2xWgH1b1y+NDnEj42uaHV0dbSvhK8chf4HcSbp9ASi++VVJUwe8k\n",
       "3P5mMSykH0tV634n4fY/mQAEVqlqOHUJj3DOYAOfNfoDNp0Q62z/eG4AAAAASUVORK5CYII=\n",
       "\" style=\"display:inline;vertical-align:middle;\" /></a>"
      ],
      "text/plain": [
       "k -> (1 / (x + k))"
      ]
     },
     "execution_count": 113,
     "metadata": {},
     "output_type": "execute_result"
    }
   ],
   "source": [
    "it.lambda_map"
   ]
  },
  {
   "cell_type": "code",
   "execution_count": 114,
   "metadata": {},
   "outputs": [
    {
     "data": {
      "text/html": [
       "<a class=\"ProveItLink\" href=\"../packages/proveit/__pv_it/common/b9fd37fc619babc74a6203459f110251586df6970/expr.ipynb\"><img src=\"data:image/png;base64,iVBORw0KGgoAAAANSUhEUgAAAAoAAAAOBAMAAADkjZCYAAAAMFBMVEX////MzMxUVFSIiIjc3NyY\n",
       "mJh2dna6urqqqqpmZmYyMjIiIiIQEBBERETu7u4AAAA59f8xAAAAAXRSTlMAQObYZgAAAE9JREFU\n",
       "CNdj4LuzgQEIuCaASP4GEFn/AERmgwiGlQytUxj4fjC7f2Xg+GfHF8DAeRIkzK18GUi+L/AvYGCI\n",
       "Z3jfkMCgy8AvkMBwg4F58gMA1VoTUDpQu/EAAAAASUVORK5CYII=\n",
       "\" style=\"display:inline;vertical-align:middle;\" /></a>"
      ],
      "text/plain": [
       "k"
      ]
     },
     "execution_count": 114,
     "metadata": {},
     "output_type": "execute_result"
    }
   ],
   "source": [
    "it.parameter"
   ]
  },
  {
   "cell_type": "code",
   "execution_count": 115,
   "metadata": {},
   "outputs": [
    {
     "data": {
      "text/html": [
       "<a class=\"ProveItLink\" href=\"__pv_it/basic_expressions/73431528bfd001fa2be4f449a40a64b46cac16b70/expr.ipynb\"><img src=\"data:image/png;base64,iVBORw0KGgoAAAANSUhEUgAAADEAAAAsBAMAAAA++k1qAAAAMFBMVEX////MzMxEREQiIiK6urrc\n",
       "3NwyMjJmZmaIiIiYmJh2dnZUVFTu7u4QEBCqqqoAAACna3UaAAAAAXRSTlMAQObYZgAAAMFJREFU\n",
       "OMtjYCAKvD2AXZxn1/4DuPTMHzEy/bhkqu+nT2AYvuA/DvBhkLr30GWcUunoAi9gjH+4ZFj+4JLh\n",
       "MgBTJ7pDuhpQZdgK+KYHMPAs4LRgTkCVOf+g1X8CA9cBrj8sAagy708cOAnMaQxMCmDusrQ027S0\n",
       "bBCztgCigr8B3QXWTRAheQE0GZ4vrF+AFN+BfgaOAygynB94/nExMPg/0GeIRNXDrcDwEShzuuNE\n",
       "5QRUGaYHDO09OMINA5xB5gAALgReomfqxbcAAAAASUVORK5CYII=\n",
       "\" style=\"display:inline;vertical-align:middle;\" /></a>"
      ],
      "text/plain": [
       "1 / (x + k)"
      ]
     },
     "execution_count": 115,
     "metadata": {},
     "output_type": "execute_result"
    }
   ],
   "source": [
    "it.body"
   ]
  },
  {
   "cell_type": "code",
   "execution_count": 116,
   "metadata": {},
   "outputs": [
    {
     "data": {
      "text/html": [
       "<a class=\"ProveItLink\" href=\"../packages/proveit/__pv_it/common/575a6156bb1c87c5beeaf38c302b5905ad57f5780/expr.ipynb\"><img src=\"data:image/png;base64,iVBORw0KGgoAAAANSUhEUgAAAAcAAAAOBAMAAAARcxsoAAAAKlBMVEX///8yMjKqqqrc3NwQEBC6\n",
       "urp2dnZmZmaIiIju7u6YmJhERERUVFQAAAAIfTrnAAAAAXRSTlMAQObYZgAAADhJREFUCNdjYGA4\n",
       "zQAEpxjQAWd7AwMDG6sDA4MRuwADwwReIJdBdwKQ2AOSvcTGwMB6wQqkdQEDAPwvCSrC7lmiAAAA\n",
       "AElFTkSuQmCC\n",
       "\" style=\"display:inline;vertical-align:middle;\" /></a>"
      ],
      "text/plain": [
       "i"
      ]
     },
     "execution_count": 116,
     "metadata": {},
     "output_type": "execute_result"
    }
   ],
   "source": [
    "it.start_index"
   ]
  },
  {
   "cell_type": "code",
   "execution_count": 117,
   "metadata": {},
   "outputs": [
    {
     "data": {
      "text/html": [
       "<a class=\"ProveItLink\" href=\"../packages/proveit/__pv_it/common/5514cc9a63b9c2ed9b63934dd5e088ab0d4f10080/expr.ipynb\"><img src=\"data:image/png;base64,iVBORw0KGgoAAAANSUhEUgAAAAoAAAASBAMAAACQmVJ4AAAAMFBMVEX////MzMwyMjIiIiJ2dna6\n",
       "urrc3NxmZmZERESIiIhUVFSYmJju7u4QEBCqqqoAAACA8xhiAAAAAXRSTlMAQObYZgAAAE1JREFU\n",
       "CNdjYGBg4LsDJBi4FzBgAydngMgC3g1AFQn8DxgYeBjiD4CEnMHS6iCC5x+I5PsDItkNQCRzAQMD\n",
       "44F8AQaGfId2IJ9rOlA/AHmNDZhMFHq1AAAAAElFTkSuQmCC\n",
       "\" style=\"display:inline;vertical-align:middle;\" /></a>"
      ],
      "text/plain": [
       "j"
      ]
     },
     "execution_count": 117,
     "metadata": {},
     "output_type": "execute_result"
    }
   ],
   "source": [
    "it.end_index"
   ]
  },
  {
   "cell_type": "markdown",
   "metadata": {},
   "source": [
    "We have special formatting features when an `Iter` is used as *operands* of an `Operator`.  As stated previously, **Prove-It** is flexible in its formatting."
   ]
  },
  {
   "cell_type": "code",
   "execution_count": 118,
   "metadata": {},
   "outputs": [
    {
     "data": {
      "text/html": [
       "<strong id=\"add_it\">add_it:</strong> <a class=\"ProveItLink\" href=\"__pv_it/basic_expressions/a348a40b625c9998ce983ebca28cfd115198e83d0/expr.ipynb\"><img src=\"data:image/png;base64,iVBORw0KGgoAAAANSUhEUgAAAKsAAAAuBAMAAAClu/RBAAAAMFBMVEX////MzMxEREQiIiK6urrc\n",
       "3NwyMjJmZmaIiIiYmJh2dnZUVFTu7u4QEBCqqqoAAACna3UaAAAAAXRSTlMAQObYZgAAAVxJREFU\n",
       "SMdjYKA14LtDC+2nV/+hxFSc2jkpMhan9lFjR40disZyUGYsDu3se79VUmAqhdoHMeBrwCHxYtTY\n",
       "YWfsf6zgA1CGKy0t+Vpa2gYMLcvS0mzT0rJx6wZrHw1boozl+QYjzidQ07XWMIJ5AwXGcitQFghv\n",
       "D2A3dgKUwXMAh8YzeI2dTc2IeMFAk/ili7EnukO6GlAkTlQQbxambgaeDmCM8yzgtGBGTY0LfIk2\n",
       "FYtuBnaGm8AC5QDXH5YAZAnWB2VEG4upm4FhKsM/oH0MTAqo5RIPww/iXYuhm4HhAAu4xcDfgBbo\n",
       "fKS0QzB0A71gACLlBdAkmDaQYCyGbgYGtgKg0w70M3AcQJE4/2AB0YUGpm6QfgYG/wf6DJGo9vmz\n",
       "TiDWWCy6GRjeA+053XGicgKqBPdM4rtNmLoZGIppk8vMSSqXCAGobhnWjzRotrH+YiqgRXNwB6iZ\n",
       "CwA2ob/noVDrTgAAAABJRU5ErkJggg==\n",
       "\" style=\"display:inline;vertical-align:middle;\" /></a><br>"
      ],
      "text/plain": [
       "add_it: (1 / (x + i)) + ..(1 / (x + k)).. + (1 / (x + j))"
      ]
     },
     "execution_count": 118,
     "metadata": {},
     "output_type": "execute_result"
    }
   ],
   "source": [
    "add_it = Add(it)"
   ]
  },
  {
   "cell_type": "markdown",
   "metadata": {},
   "source": [
    "To really understand how **Prove-It** recognizes an expression, one must look at the expression information. "
   ]
  },
  {
   "cell_type": "code",
   "execution_count": 119,
   "metadata": {},
   "outputs": [
    {
     "data": {
      "text/html": [
       "<table><tr><th>&nbsp;</th><th>core type</th><th>sub-expressions</th><th>expression</th></tr>\n",
       "<tr><td>0</td><td>Operation</td><td>operator:&nbsp;11<br>operands:&nbsp;1<br></td><td><a class=\"ProveItLink\" href=\"__pv_it/basic_expressions/a348a40b625c9998ce983ebca28cfd115198e83d0/expr.ipynb\"><img src=\"data:image/png;base64,iVBORw0KGgoAAAANSUhEUgAAAKsAAAAuBAMAAAClu/RBAAAAMFBMVEX////MzMxEREQiIiK6urrc\n",
       "3NwyMjJmZmaIiIiYmJh2dnZUVFTu7u4QEBCqqqoAAACna3UaAAAAAXRSTlMAQObYZgAAAVxJREFU\n",
       "SMdjYKA14LtDC+2nV/+hxFSc2jkpMhan9lFjR40disZyUGYsDu3se79VUmAqhdoHMeBrwCHxYtTY\n",
       "YWfsf6zgA1CGKy0t+Vpa2gYMLcvS0mzT0rJx6wZrHw1boozl+QYjzidQ07XWMIJ5AwXGcitQFghv\n",
       "D2A3dgKUwXMAh8YzeI2dTc2IeMFAk/ili7EnukO6GlAkTlQQbxambgaeDmCM8yzgtGBGTY0LfIk2\n",
       "FYtuBnaGm8AC5QDXH5YAZAnWB2VEG4upm4FhKsM/oH0MTAqo5RIPww/iXYuhm4HhAAu4xcDfgBbo\n",
       "fKS0QzB0A71gACLlBdAkmDaQYCyGbgYGtgKg0w70M3AcQJE4/2AB0YUGpm6QfgYG/wf6DJGo9vmz\n",
       "TiDWWCy6GRjeA+053XGicgKqBPdM4rtNmLoZGIppk8vMSSqXCAGobhnWjzRotrH+YiqgRXNwB6iZ\n",
       "CwA2ob/noVDrTgAAAABJRU5ErkJggg==\n",
       "\" style=\"display:inline;vertical-align:middle;\" /></a></td></tr>\n",
       "<tr><td>1</td><td>ExprTuple</td><td>2</td><td><a class=\"ProveItLink\" href=\"__pv_it/basic_expressions/18680c4892a08b8b285ed1e7848713e413c1fc530/expr.ipynb\"><img src=\"data:image/png;base64,iVBORw0KGgoAAAANSUhEUgAAAKkAAAAyBAMAAADVWuacAAAAMFBMVEX///8yMjLMzMzc3NyYmJgi\n",
       "IiJmZmZERETu7u4QEBCqqqpUVFSIiIi6urp2dnYAAABBmyukAAAAAXRSTlMAQObYZgAAAptJREFU\n",
       "WMO1mM1rE0EUwF+63Y9u0jR7qBcvHr2lf0LFigcPiQdLi5cV6kEUmot4zVFocasICqLNpdBCIQFP\n",
       "Qmlykh6EFDwVhMaboJj041BCsM7uZGZndt2JCy/vsDv78ubHzJs3b94EgEj+ELBkLWz+RoPCdIG1\n",
       "cg08KtxgjR1JvVNNh7HfSp9mh76t94LS2m+mo679vJC+Gc10JXUp5VgnZSqbeb2KStWpCxYBlWqf\n",
       "BdozXCodpV5BpgaA4iEy1WuRxyNApmb87fUOm5ojCzVxjk3VzilZknZKai5K9Wdvbsiqx5tX5tNA\n",
       "jU8nKxHVU4CpCmBLl8SBi04tXYNiC51KkPUaOpVMnwwXW2Ya0J7Dp1agW0WnThVgdQzUMjTpoC//\n",
       "KcmTvFR00DeGVFQh1DF4QC9Dd24cq9VWxqt1wh5eQWiMoDagpK7c7vkOuu9Pq8EaSyPj1YV6MjVL\n",
       "0pkdd/t2YodhMeV1oJicTbPkp3xc3UnscIdnl5lYJrTFLLYed3U0ye1GLUjC0gtKanwmkzCKSsLK\n",
       "6Cmp/yExapMfkdaXj99+ydT1J6qQC+13uWp4WL0hJ3c/aL2AW627MrVzpKAK9oxqwGt6cg94lfGD\n",
       "pMSvElWrPVBQBXtGvQl9XmXAatCswrPgnXec2ZeOQ0LegoGCyuy/O86y41wNVNPUmWaZPI6H22AQ\n",
       "XS37QrlIg9hq5ct0a/n9dRqwE6dRqqm82oT2nJpxw+KHBsF2rgcHMtWrJe8i0Z5TvRoriIh88C9f\n",
       "fbOnzcvUYy15M4v2nEovGLSCDz6svYPPCxEPZBcU4SrYc+pD0Q8ZF2lvLYqJS3sVGUfKM+c5fV3X\n",
       "TqU74RbGsaL9obfBLJu5gXI73qNl7O1QMY6bPBiI/zoEi/IX4RDxKFhw5KQAAAAASUVORK5CYII=\n",
       "\" style=\"display:inline;vertical-align:middle;\" /></a></td></tr>\n",
       "<tr><td>2</td><td>ExprRange</td><td>lambda_map:&nbsp;3<br>start_index:&nbsp;4<br>end_index:&nbsp;5<br></td><td><a class=\"ProveItLink\" href=\"__pv_it/basic_expressions/b4b398d5144593628c5f6bc90728b0dd376d52250/expr.ipynb\"><img src=\"data:image/png;base64,iVBORw0KGgoAAAANSUhEUgAAAI8AAAAuBAMAAADjDVfrAAAAMFBMVEX////MzMxEREQiIiK6urrc\n",
       "3NwyMjJmZmaIiIiYmJh2dnZUVFTu7u4QEBCqqqoAAACna3UaAAAAAXRSTlMAQObYZgAAAXpJREFU\n",
       "SMdjYKA+4LtDooa3B7AKn179hyRjeHbtx24QA+cfEl00f9SgUYNoaBAHqQb1YzeIfe+3SpLMqb6f\n",
       "PoFhFIwC6oL/WMEHEtXj0TCMwfkEKMHzDZlBOmC2AREbgIQ1jGF8gGRTNgHxG8w6/QDJtf1OIF6A\n",
       "IcqF02LODaj8F8hVewOG8hPo7mjAZTCyQZyY0hPIMoiYdhCqQSe6Q7oaUAziaW/Aox2hHm7QiSaQ\n",
       "rgWcFswJKAZxsVzA0yxCqIcbVMAL9DXXAa4/LAEoBsWxJ+A2CEk9zCDOAP4HQBsYmBTA3GVpabZp\n",
       "adlA1gF+PF6DqedKS0u+lpa2ASzkD05hCG2wwH6PNwnD1SMCezGYlBdAN0gbb2TB1SMMSgen+34G\n",
       "jgOosfaPC0+cI9TDDeL5ByT8H+gzRKK6iOVDJG6DkNTDDeIDtRpOd5yonIDmtZ146nQk9XCD2A2o\n",
       "lLKZC9BkzpBmEA8kqBgPxAtQpSyNX6BOnUKZux0UZgCtC61W/5pUbwAAAABJRU5ErkJggg==\n",
       "\" style=\"display:inline;vertical-align:middle;\" /></a></td></tr>\n",
       "<tr><td>3</td><td>Lambda</td><td>parameter:&nbsp;14<br>body:&nbsp;6<br></td><td><a class=\"ProveItLink\" href=\"__pv_it/basic_expressions/69fcfe217cb092c692870fb8658f20a55d1b69ff0/expr.ipynb\"><img src=\"data:image/png;base64,iVBORw0KGgoAAAANSUhEUgAAAF4AAAAsCAMAAADb5v+WAAAANlBMVEX///8oKCgNDQ3MzMxUVFSI\n",
       "iIjc3NyYmJh2dna6urqqqqpmZmYyMjIiIiIQEBBERETu7u4AAAB0zXpNAAAAAXRSTlMAQObYZgAA\n",
       "ATxJREFUWMPtl91uwyAMRtnAgPkJ5v1fdqTT1EASSgpInRTf9KLqkfVhjiljn19moWlsElpEmtm9\n",
       "uvE3/saPLpiJt2KJzqozZ4TFTxWes1Px0cykY+VgQHbjdSV6Y4dEb5T96zNkX3afOqXoQWJUh0AT\n",
       "ehdlJCBG6qRfCH1Xxi55vt9fLqsY8TljVyt1KyDANu28W/TYFz0yuWmwCIe7vmxU/D1dfYx3nYMv\n",
       "1tGI/InP3IS9cx9WI4CF4wws/8BH4T+TsIGpEi7xOHY7lnj9bvQEICSChiq+kHA7PV0P5YF5V8OX\n",
       "Em5fPSlTnYJFWcOXEm7vfr2I2xWgH1b1y+NDnEj42uaHV0dbSvhK8chf4HcSbp9ASi++VVJUwe8k\n",
       "3P5mMSykH0tV634n4fY/mQAEVqlqOHUJj3DOYAOfNfoDNp0Q62z/eG4AAAAASUVORK5CYII=\n",
       "\" style=\"display:inline;vertical-align:middle;\" /></a></td></tr>\n",
       "<tr><td>4</td><td>Variable</td><td></td><td><a class=\"ProveItLink\" href=\"../packages/proveit/__pv_it/common/575a6156bb1c87c5beeaf38c302b5905ad57f5780/expr.ipynb\"><img src=\"data:image/png;base64,iVBORw0KGgoAAAANSUhEUgAAAAcAAAAOBAMAAAARcxsoAAAAKlBMVEX///8yMjKqqqrc3NwQEBC6\n",
       "urp2dnZmZmaIiIju7u6YmJhERERUVFQAAAAIfTrnAAAAAXRSTlMAQObYZgAAADhJREFUCNdjYGA4\n",
       "zQAEpxjQAWd7AwMDG6sDA4MRuwADwwReIJdBdwKQ2AOSvcTGwMB6wQqkdQEDAPwvCSrC7lmiAAAA\n",
       "AElFTkSuQmCC\n",
       "\" style=\"display:inline;vertical-align:middle;\" /></a></td></tr>\n",
       "<tr><td>5</td><td>Variable</td><td></td><td><a class=\"ProveItLink\" href=\"../packages/proveit/__pv_it/common/5514cc9a63b9c2ed9b63934dd5e088ab0d4f10080/expr.ipynb\"><img src=\"data:image/png;base64,iVBORw0KGgoAAAANSUhEUgAAAAoAAAASBAMAAACQmVJ4AAAAMFBMVEX////MzMwyMjIiIiJ2dna6\n",
       "urrc3NxmZmZERESIiIhUVFSYmJju7u4QEBCqqqoAAACA8xhiAAAAAXRSTlMAQObYZgAAAE1JREFU\n",
       "CNdjYGBg4LsDJBi4FzBgAydngMgC3g1AFQn8DxgYeBjiD4CEnMHS6iCC5x+I5PsDItkNQCRzAQMD\n",
       "44F8AQaGfId2IJ9rOlA/AHmNDZhMFHq1AAAAAElFTkSuQmCC\n",
       "\" style=\"display:inline;vertical-align:middle;\" /></a></td></tr>\n",
       "<tr><td>6</td><td>Operation</td><td>operator:&nbsp;7<br>operands:&nbsp;8<br></td><td><a class=\"ProveItLink\" href=\"__pv_it/basic_expressions/73431528bfd001fa2be4f449a40a64b46cac16b70/expr.ipynb\"><img src=\"data:image/png;base64,iVBORw0KGgoAAAANSUhEUgAAADEAAAAsBAMAAAA++k1qAAAAMFBMVEX////MzMxEREQiIiK6urrc\n",
       "3NwyMjJmZmaIiIiYmJh2dnZUVFTu7u4QEBCqqqoAAACna3UaAAAAAXRSTlMAQObYZgAAAMFJREFU\n",
       "OMtjYCAKvD2AXZxn1/4DuPTMHzEy/bhkqu+nT2AYvuA/DvBhkLr30GWcUunoAi9gjH+4ZFj+4JLh\n",
       "MgBTJ7pDuhpQZdgK+KYHMPAs4LRgTkCVOf+g1X8CA9cBrj8sAagy708cOAnMaQxMCmDusrQ027S0\n",
       "bBCztgCigr8B3QXWTRAheQE0GZ4vrF+AFN+BfgaOAygynB94/nExMPg/0GeIRNXDrcDwEShzuuNE\n",
       "5QRUGaYHDO09OMINA5xB5gAALgReomfqxbcAAAAASUVORK5CYII=\n",
       "\" style=\"display:inline;vertical-align:middle;\" /></a></td></tr>\n",
       "<tr><td>7</td><td>Literal</td><td></td><td><a class=\"ProveItLink\" href=\"../packages/proveit/numbers/division/__pv_it/common/9ecc1ae47b83f7ed759e5ea63a2023a8f2ab04800/expr.ipynb\"><img src=\"data:image/png;base64,iVBORw0KGgoAAAANSUhEUgAAAA4AAAAMBAMAAACgrpHpAAAAIVBMVEX///9UVFRmZmbu7u4iIiIy\n",
       "MjK6urrc3NyYmJiqqqoAAACDToSlAAAAAXRSTlMAQObYZgAAACJJREFUCNdjYGBgmMEABuyrEiCM\n",
       "EAMG3EA1FAQCsUlhMwcALk0GeoeEfOIAAAAASUVORK5CYII=\n",
       "\" style=\"display:inline;vertical-align:middle;\" /></a></td></tr>\n",
       "<tr><td>8</td><td>ExprTuple</td><td>9, 10</td><td><a class=\"ProveItLink\" href=\"__pv_it/basic_expressions/2940e1f1ad5af0faac209c72794f70676dcf5b6d0/expr.ipynb\"><img src=\"data:image/png;base64,iVBORw0KGgoAAAANSUhEUgAAAFEAAAAUBAMAAAAHNMzaAAAAMFBMVEX////MzMxUVFR2dna6uroQ\n",
       "EBCqqqqIiIgiIiJmZmYyMjJERETu7u6YmJjc3NwAAACgK8IjAAAAAXRSTlMAQObYZgAAATxJREFU\n",
       "KM9jYOC7wEAY5IGI0/jV8GxtAJJMD4DEOiBmi8GtlGsCSP0CBgZeIOOQ0R9MFelQmj8BRJozMHCA\n",
       "zOXFo9L/AIg8ysDwgoGASguIGxwYKlFUHi96UlyAqnIlQ+48BgbmCQx7kVXyGPC2cyxAUcnzjf3J\n",
       "X6CKBQxtyCqZDzD/YXmAopLtTw0PMMTZGhhCUMxk4N4AZlitWtW6atUiIIszEizA+AFVJTBMCtB8\n",
       "xKG+HaqyDVWlvACayvMO7x2AFEsDqo/YDtQzsB9AUXmf4XyCAdhHliAuO1DleaCf/RP2M7xFNVOb\n",
       "gV8AqJLTgMED5GrVX3MZOHqA0Vp+fO4FVJXbGNinA23hEoDEJhjkYI8jCDgBSSEQYICq8gwKD5hC\n",
       "GPbBEmIBvlS6ACkl8+JLz9wgNxKVO+4xMAAAXppXOZrwOycAAAAASUVORK5CYII=\n",
       "\" style=\"display:inline;vertical-align:middle;\" /></a></td></tr>\n",
       "<tr><td>9</td><td>Literal</td><td></td><td><a class=\"ProveItLink\" href=\"../packages/proveit/numbers/numerals/__pv_it/common/d278e359da0695d9652dd541d45264f93703e2e40/expr.ipynb\"><img src=\"data:image/png;base64,iVBORw0KGgoAAAANSUhEUgAAAAgAAAAPBAMAAAArJJMAAAAAIVBMVEX///8yMjJmZmaIiIiYmJh2\n",
       "dnZUVFTu7u4QEBCqqqoAAAADAhFxAAAAAXRSTlMAQObYZgAAACBJREFUCNdjYAADznYGhrKw5UAW\n",
       "CykEM5BgylioAjYDAHBOCeDSSky9AAAAAElFTkSuQmCC\n",
       "\" style=\"display:inline;vertical-align:middle;\" /></a></td></tr>\n",
       "<tr><td>10</td><td>Operation</td><td>operator:&nbsp;11<br>operands:&nbsp;12<br></td><td><a class=\"ProveItLink\" href=\"__pv_it/basic_expressions/e8443d425b9ed12633d6c4b3e53c3f46995021c70/expr.ipynb\"><img src=\"data:image/png;base64,iVBORw0KGgoAAAANSUhEUgAAADEAAAAQBAMAAABNQoq8AAAAMFBMVEX///8QEBBmZmaqqqrMzMxE\n",
       "REQyMjIiIiKYmJh2dna6urrc3NxUVFSIiIju7u4AAAA6P00QAAAAAXRSTlMAQObYZgAAAKJJREFU\n",
       "GNNjYMACnooz4AJJ6AK2MMZnXDJc/3DJcBaAqbd3dt28gCrDpsDctIGBbwJHLXsCqsx7g9vrGxg4\n",
       "H3D+49qAKmP/9sELBgY+BtYAMHdaWlphWloOiKmoAFHBfwHdBTVXIUL+DmgyfL+4fwEp5gf3GXgf\n",
       "oMhwfOD7zMnAsN4gnmEHqh6eAIYvQJk3d99qNKDKsBowXLqHI9wwwDtkDgCYPy4DXH5iiQAAAABJ\n",
       "RU5ErkJggg==\n",
       "\" style=\"display:inline;vertical-align:middle;\" /></a></td></tr>\n",
       "<tr><td>11</td><td>Literal</td><td></td><td><a class=\"ProveItLink\" href=\"../packages/proveit/numbers/addition/__pv_it/common/1f38fe5cce441387feef296e2c0a2eac260bb4f30/expr.ipynb\"><img src=\"data:image/png;base64,iVBORw0KGgoAAAANSUhEUgAAAA4AAAAPBAMAAAAmOuNHAAAAHlBMVEX////u7u5UVFQQEBAiIiIy\n",
       "MjJ2dnaIiIiqqqoAAABCN83zAAAAAXRSTlMAQObYZgAAABxJREFUCNdjYECAdlLo1NBQ59DQIJL1\n",
       "AYEgEAMABwsItInrGUMAAAAASUVORK5CYII=\n",
       "\" style=\"display:inline;vertical-align:middle;\" /></a></td></tr>\n",
       "<tr><td>12</td><td>ExprTuple</td><td>13, 14</td><td><a class=\"ProveItLink\" href=\"__pv_it/basic_expressions/d0d98c975a00d720acd4f27e80654360084d24ff0/expr.ipynb\"><img src=\"data:image/png;base64,iVBORw0KGgoAAAANSUhEUgAAAC0AAAAUBAMAAADrQanMAAAAMFBMVEX////MzMxUVFR2dna6uroQ\n",
       "EBCqqqqIiIgiIiJmZmYyMjJERETu7u6YmJjc3NwAAACgK8IjAAAAAXRSTlMAQObYZgAAAQtJREFU\n",
       "GNNjYOC7wIAO8kDEaRSh0xFAgukBkFiHqnYlEPMsYGDgnYAq/g1EmDMwcDxAEWb5AyKPMjC8QFXO\n",
       "3AAiuRwYKoHU8aInxQUQca4JbDcfMDBPYNgLtMaAt51jAUT8fEKd/wUG3gUMbUC9B5j/sECtyT9+\n",
       "4CwDA1sDQwhQPQP3Bpj5U8HOY/wAEmdg4C+AiTdVF0DE20A8eQGoMM8Xvi8g1zaA7GU7UM/AfgAs\n",
       "zvuB5xszA8heSwYG/4T9DG8ZeH6BQmYDw0egOKcBgwcDw6Hy43OBgdoB1MKdwFBZA/SFAFI4sB2A\n",
       "+/oEcrgxI0IDGG4M+2Cc43BhUDgj4gURb9wgs7HE4z0GBgCGO0OZ3WkucAAAAABJRU5ErkJggg==\n",
       "\" style=\"display:inline;vertical-align:middle;\" /></a></td></tr>\n",
       "<tr><td>13</td><td>Variable</td><td></td><td><a class=\"ProveItLink\" href=\"__pv_it/basic_expressions/a2581dc5df71d9a30bad37de14965fa5fec97a240/expr.ipynb\"><img src=\"data:image/png;base64,iVBORw0KGgoAAAANSUhEUgAAAAsAAAAJBAMAAAAWSsseAAAALVBMVEX///9mZmaqqqrMzMxEREQy\n",
       "MjIiIiKYmJh2dna6urrc3NxUVFSIiIju7u4AAACJHQtQAAAAAXRSTlMAQObYZgAAAEJJREFUCNdj\n",
       "YLhzeuWJAwy8Dew5bAEMHBc43nIuYOBlYHFgAAG+A2DKzgBIMF04x8BzgWGegh/DcgaG22fuiBcw\n",
       "AAATyhBrnyPYZQAAAABJRU5ErkJggg==\n",
       "\" style=\"display:inline;vertical-align:middle;\" /></a></td></tr>\n",
       "<tr><td>14</td><td>Variable</td><td></td><td><a class=\"ProveItLink\" href=\"../packages/proveit/__pv_it/common/b9fd37fc619babc74a6203459f110251586df6970/expr.ipynb\"><img src=\"data:image/png;base64,iVBORw0KGgoAAAANSUhEUgAAAAoAAAAOBAMAAADkjZCYAAAAMFBMVEX////MzMxUVFSIiIjc3NyY\n",
       "mJh2dna6urqqqqpmZmYyMjIiIiIQEBBERETu7u4AAAA59f8xAAAAAXRSTlMAQObYZgAAAE9JREFU\n",
       "CNdj4LuzgQEIuCaASP4GEFn/AERmgwiGlQytUxj4fjC7f2Xg+GfHF8DAeRIkzK18GUi+L/AvYGCI\n",
       "Z3jfkMCgy8AvkMBwg4F58gMA1VoTUDpQu/EAAAAASUVORK5CYII=\n",
       "\" style=\"display:inline;vertical-align:middle;\" /></a></td></tr>\n",
       "</table>\n"
      ],
      "text/plain": [
       "0. (1 / (x + i)) + ..(1 / (x + k)).. + (1 / (x + j))\n",
       "   core type: Operation\n",
       "   operator: 11\n",
       "   operands: 1\n",
       "1. (1 / (x + i), ..1 / (x + k).., 1 / (x + j))\n",
       "   core type: ExprTuple\n",
       "   sub-expressions: 2\n",
       "2. (1 / (x + i)), ..(1 / (x + k)).., (1 / (x + j))\n",
       "   core type: ExprRange\n",
       "   lambda_map: 3\n",
       "   start_index: 4\n",
       "   end_index: 5\n",
       "3. k -> (1 / (x + k))\n",
       "   core type: Lambda\n",
       "   parameter: 14\n",
       "   body: 6\n",
       "4. i\n",
       "   core type: Variable\n",
       "   sub-expressions: \n",
       "5. j\n",
       "   core type: Variable\n",
       "   sub-expressions: \n",
       "6. 1 / (x + k)\n",
       "   core type: Operation\n",
       "   operator: 7\n",
       "   operands: 8\n",
       "7. /\n",
       "   core type: Literal\n",
       "   sub-expressions: \n",
       "8. (1, x + k)\n",
       "   core type: ExprTuple\n",
       "   sub-expressions: 9, 10\n",
       "9. 1\n",
       "   core type: Literal\n",
       "   sub-expressions: \n",
       "10. x + k\n",
       "    core type: Operation\n",
       "    operator: 11\n",
       "    operands: 12\n",
       "11. +\n",
       "    core type: Literal\n",
       "    sub-expressions: \n",
       "12. (x, k)\n",
       "    core type: ExprTuple\n",
       "    sub-expressions: 13, 14\n",
       "13. x\n",
       "    core type: Variable\n",
       "    sub-expressions: \n",
       "14. k\n",
       "    core type: Variable\n",
       "    sub-expressions: "
      ]
     },
     "execution_count": 119,
     "metadata": {},
     "output_type": "execute_result"
    }
   ],
   "source": [
    "add_it.expr_info()"
   ]
  },
  {
   "cell_type": "markdown",
   "metadata": {},
   "source": [
    "IndexedVar\n",
    "=========\n",
    "\n",
    "To truly understand what can be done with `Iter` expressions, we must see how they can be used with `IndexedVar` expressions.  On its own, an `IndexedVar` if fairly straightforward.  An `IndexedVar` is effectively an `Operation` where the *operator* is the variable being indexed and the *operand* is the *index*, but it does have some special properties related to <a href=\"#IterParams\">iterated parameters</a> which justifies makin `IndexedVar` a core expression type."
   ]
  },
  {
   "cell_type": "code",
   "execution_count": 120,
   "metadata": {},
   "outputs": [
    {
     "data": {
      "text/html": [
       "<strong id=\"a_i\">a_i:</strong> <a class=\"ProveItLink\" href=\"__pv_it/basic_expressions/9583c173eac3bc09b5673cedfcc063ce8b90cc790/expr.ipynb\"><img src=\"data:image/png;base64,iVBORw0KGgoAAAANSUhEUgAAABEAAAAMBAMAAAB2C0uMAAAAMFBMVEX///9UVFSqqqrMzMwiIiJE\n",
       "RESYmJgyMjK6urru7u4QEBCIiIh2dnZmZmbc3NwAAABRgo0vAAAAAXRSTlMAQObYZgAAAGNJREFU\n",
       "CNdjYOC7c3slAxh0PWD/wMCwl4GBcxkDbwADgx0DA+9PBpYNYEmuAIb5BmDW/AMM+gwM3QJAlgKD\n",
       "ONODAz8ZGFg3sDny8E1yAOqV3vxwB5DPAAXzJ8NY6jww1sRzDAD+nhclhrckXAAAAABJRU5ErkJg\n",
       "gg==\n",
       "\" style=\"display:inline;vertical-align:middle;\" /></a><br>"
      ],
      "text/plain": [
       "a_i: a_{i}"
      ]
     },
     "execution_count": 120,
     "metadata": {},
     "output_type": "execute_result"
    }
   ],
   "source": [
    "from proveit import IndexedVar\n",
    "a_i = IndexedVar(a, i)"
   ]
  },
  {
   "cell_type": "code",
   "execution_count": 121,
   "metadata": {},
   "outputs": [
    {
     "data": {
      "text/html": [
       "<table><tr><th>&nbsp;</th><th>core type</th><th>sub-expressions</th><th>expression</th></tr>\n",
       "<tr><td>0</td><td>IndexedVar</td><td>variable:&nbsp;1<br>index:&nbsp;3<br></td><td><a class=\"ProveItLink\" href=\"__pv_it/basic_expressions/9583c173eac3bc09b5673cedfcc063ce8b90cc790/expr.ipynb\"><img src=\"data:image/png;base64,iVBORw0KGgoAAAANSUhEUgAAABEAAAAMBAMAAAB2C0uMAAAAMFBMVEX///9UVFSqqqrMzMwiIiJE\n",
       "RESYmJgyMjK6urru7u4QEBCIiIh2dnZmZmbc3NwAAABRgo0vAAAAAXRSTlMAQObYZgAAAGNJREFU\n",
       "CNdjYOC7c3slAxh0PWD/wMCwl4GBcxkDbwADgx0DA+9PBpYNYEmuAIb5BmDW/AMM+gwM3QJAlgKD\n",
       "ONODAz8ZGFg3sDny8E1yAOqV3vxwB5DPAAXzJ8NY6jww1sRzDAD+nhclhrckXAAAAABJRU5ErkJg\n",
       "gg==\n",
       "\" style=\"display:inline;vertical-align:middle;\" /></a></td></tr>\n",
       "<tr><td>1</td><td>Variable</td><td></td><td><a class=\"ProveItLink\" href=\"../packages/proveit/__pv_it/common/66c90e66682f107a881f2d666959f64e2e72ad750/expr.ipynb\"><img src=\"data:image/png;base64,iVBORw0KGgoAAAANSUhEUgAAAAsAAAAJBAMAAAAWSsseAAAAMFBMVEX///9UVFSqqqrMzMwiIiJE\n",
       "RESYmJgyMjK6urru7u4QEBCIiIh2dnZmZmbc3NwAAABRgo0vAAAAAXRSTlMAQObYZgAAAEdJREFU\n",
       "CNdjYOC7c3slAwND1wP2DwwMnMsYeAMYGHh/MrBsYGDgCmCYb8DAMP8Agz5QxXwFBnGmBwysG9gc\n",
       "eYAqpTc/3MEAAP4BD32xAXDqAAAAAElFTkSuQmCC\n",
       "\" style=\"display:inline;vertical-align:middle;\" /></a></td></tr>\n",
       "<tr><td>2</td><td>ExprTuple</td><td>3</td><td><a class=\"ProveItLink\" href=\"__pv_it/basic_expressions/6420c4d2520c27c1137ad22005291620057456040/expr.ipynb\"><img src=\"data:image/png;base64,iVBORw0KGgoAAAANSUhEUgAAABMAAAAUBAMAAACdextHAAAAMFBMVEX////MzMxUVFR2dna6uroQ\n",
       "EBCqqqqIiIgiIiJmZmYyMjJERETu7u6YmJjc3NwAAACgK8IjAAAAAXRSTlMAQObYZgAAAJ5JREFU\n",
       "CNdjYOC7wAAEeSDiNBBrMzA9AFLrgFiXgWcBAwPvBAYwMGdg4HgAYR5lYHgBYTFwOTBUMjDwVBYw\n",
       "MDBPYNgLJFkCgHoWMLQxMDzjBGpna2AIYWA4wA9UwPgBxGTIPwBmAhUwbAJilgaQNp5vzGBtlkCB\n",
       "D28ZGDgNGDxATgA6jksAbvEJFOcw7AOzQI4EO52BgRukDuKhewwMANiSIvFtgSwEAAAAAElFTkSu\n",
       "QmCC\n",
       "\" style=\"display:inline;vertical-align:middle;\" /></a></td></tr>\n",
       "<tr><td>3</td><td>Variable</td><td></td><td><a class=\"ProveItLink\" href=\"../packages/proveit/__pv_it/common/575a6156bb1c87c5beeaf38c302b5905ad57f5780/expr.ipynb\"><img src=\"data:image/png;base64,iVBORw0KGgoAAAANSUhEUgAAAAcAAAAOBAMAAAARcxsoAAAAKlBMVEX///8yMjKqqqrc3NwQEBC6\n",
       "urp2dnZmZmaIiIju7u6YmJhERERUVFQAAAAIfTrnAAAAAXRSTlMAQObYZgAAADhJREFUCNdjYGA4\n",
       "zQAEpxjQAWd7AwMDG6sDA4MRuwADwwReIJdBdwKQ2AOSvcTGwMB6wQqkdQEDAPwvCSrC7lmiAAAA\n",
       "AElFTkSuQmCC\n",
       "\" style=\"display:inline;vertical-align:middle;\" /></a></td></tr>\n",
       "</table>\n"
      ],
      "text/plain": [
       "0. a_{i}\n",
       "   core type: IndexedVar\n",
       "variable: 1\n",
       "index: 3\n",
       "1. a\n",
       "   core type: Variable\n",
       "   sub-expressions: \n",
       "2. (i)\n",
       "   core type: ExprTuple\n",
       "   sub-expressions: 3\n",
       "3. i\n",
       "   core type: Variable\n",
       "   sub-expressions: "
      ]
     },
     "execution_count": 121,
     "metadata": {},
     "output_type": "execute_result"
    }
   ],
   "source": [
    "a_i.expr_info()"
   ]
  },
  {
   "cell_type": "markdown",
   "metadata": {},
   "source": [
    "This \"operator\" must be a `Variable` or `IndexedVar`:"
   ]
  },
  {
   "cell_type": "code",
   "execution_count": 122,
   "metadata": {},
   "outputs": [
    {
     "name": "stdout",
     "output_type": "stream",
     "text": [
      "EXPECTED ERROR:  'var' being indexed should be a Variable or IndexedVar itself; got f(x)\n"
     ]
    }
   ],
   "source": [
    "try:\n",
    "    IndexedVar(fx, i)\n",
    "    assert False, (\"Expecting a TypeError error; \"\n",
    "                   \"should not make it to this point\")\n",
    "except TypeError as e:\n",
    "    print(\"EXPECTED ERROR: \", e)"
   ]
  },
  {
   "cell_type": "markdown",
   "metadata": {},
   "source": [
    "And `IndexedVar` may have multiple indices:"
   ]
  },
  {
   "cell_type": "code",
   "execution_count": 123,
   "metadata": {},
   "outputs": [
    {
     "data": {
      "text/html": [
       "<strong id=\"a_ij\">a_ij:</strong> <a class=\"ProveItLink\" href=\"__pv_it/basic_expressions/e1f2fbe1fd572cade49da46c2e7eaf761bd0c85a0/expr.ipynb\"><img src=\"data:image/png;base64,iVBORw0KGgoAAAANSUhEUgAAAB0AAAAPBAMAAADqo9msAAAAMFBMVEX///9UVFSqqqrMzMwiIiJE\n",
       "RESYmJgyMjK6urru7u4QEBCIiIh2dnZmZmbc3NwAAABRgo0vAAAAAXRSTlMAQObYZgAAAJpJREFU\n",
       "CNdjYOC7c3slAxLoesD+gYFhL5jNbsDAuYyBN4CBwQ7MZ2Jg4P3JwLIBSTlXAMN8AyT+/AMM+gwM\n",
       "3QIg9uxLQL4CgzjTgwM/QfwL7QwMrBvYHHn4JjkAuZwPDgIJ6c0PdwBFwZrD4KZMBlP/YHx1Hoan\n",
       "ExiYF8D4E88xWCkwcAcgO1wBZgoEMD2QeDUBic/GICPHwAAAEb8jdvfZo/wAAAAASUVORK5CYII=\n",
       "\" style=\"display:inline;vertical-align:middle;\" /></a><br>"
      ],
      "text/plain": [
       "a_ij: a_{i, j}"
      ]
     },
     "execution_count": 123,
     "metadata": {},
     "output_type": "execute_result"
    }
   ],
   "source": [
    "a_ij = IndexedVar(a, (i, j))"
   ]
  },
  {
   "cell_type": "markdown",
   "metadata": {},
   "source": [
    "The real purpose of the `IndexedVar` expression type is to be used within an iteration.  So there is a convenient method called `var_range` for generating a range of indexed variables."
   ]
  },
  {
   "cell_type": "code",
   "execution_count": 124,
   "metadata": {},
   "outputs": [
    {
     "data": {
      "text/html": [
       "<strong id=\"a_i_to_j\">a_i_to_j:</strong> <a class=\"ProveItLink\" href=\"__pv_it/basic_expressions/202f16887789f3c244a619db29111fbffe52f1410/expr.ipynb\"><img src=\"data:image/png;base64,iVBORw0KGgoAAAANSUhEUgAAAFIAAAAPBAMAAACFEoWBAAAAMFBMVEX///9UVFSqqqrMzMwiIiJE\n",
       "RESYmJgyMjK6urru7u4QEBCIiIh2dnZmZmbc3NwAAABRgo0vAAAAAXRSTlMAQObYZgAAANdJREFU\n",
       "KM9jYOC7c3slAx6AkO96wP6BgWEvTpUQeYZiBs5lDLwBDAx2uBRC5RkUGHh/MrBswGM5Qp4rgGG+\n",
       "AR6VCPn5Bxj0GRi6BXCphMhz7lVgmK/AIM704MBPnCrB8rwcBQysG9gcefgmOTBwfgeJFzAgGGAC\n",
       "LM8wj0eAgVN688MdQD4Dg8sEBgYWkCscGaAMFk8GqDwDawLMjskMDEwTMKzWhLP4H0AZ6jwMDDyY\n",
       "jjwAZ1nBGBPPMTDMxgx1REBvRRZPwFDJhmBGMxAHGPtWEqvy4AMGAIezOMmD/c+XAAAAAElFTkSu\n",
       "QmCC\n",
       "\" style=\"display:inline;vertical-align:middle;\" /></a><br>"
      ],
      "text/plain": [
       "a_i_to_j: a_{i}, ..a_{_a}.., a_{j}"
      ]
     },
     "execution_count": 124,
     "metadata": {},
     "output_type": "execute_result"
    }
   ],
   "source": [
    "from proveit import var_range\n",
    "a_i_to_j = var_range(a, i, j)"
   ]
  },
  {
   "cell_type": "markdown",
   "metadata": {},
   "source": [
    "### <a name=\"IterParams\"></a>Iterated parameters\n",
    "\n",
    "When a `Lambda` expression has iterated parameters, a parameter entry that is an `var_range` over `IndexedVar`s, the `apply` method offers some interesting versatility.  Consider the following example representing a map which distributes a product over a sum of an unspecified number of terms."
   ]
  },
  {
   "cell_type": "code",
   "execution_count": 125,
   "metadata": {},
   "outputs": [
    {
     "data": {
      "text/html": [
       "<strong id=\"distribution_map\">distribution_map:</strong> <a class=\"ProveItLink\" href=\"__pv_it/basic_expressions/e272b752538ed06b7bed8647653a5161636f4c1b0/expr.ipynb\"><img src=\"data:image/png;base64,iVBORw0KGgoAAAANSUhEUgAAAWMAAAAVCAMAAACkEH+7AAAANlBMVEX///8oKCgNDQ1UVFTMzMx2\n",
       "dna6uroQEBCqqqqIiIgiIiJmZmYyMjJERETu7u6YmJjc3NwAAADzUGF5AAAAAXRSTlMAQObYZgAA\n",
       "AxNJREFUWMPFmdsapCAIgN01K81M3/9l19QsSjw01XYx+GXID0N4iBBC9EI+ukZd/2ykasJrsUBu\n",
       "wDRibFLNb4dWzYPwLarrdUgD3h0LTQ7cdTRIqd9PYDkFCFmtoc+Npy204Ou7jnq5TB8UCTOGBuN1\n",
       "CpGqFg+3MPJW2rNGQ4guGE6KD9K4N2p7mwbkEQ4xIlUlXsbC7zGuD9EVY5VafJDGbDcie8QvkCuR\n",
       "qhYvY+HnGDeEKIFhJd980xOb+KDuT70ZfUk5n/xbxPZYwokEOBKpavHSFp6JcUOIEhhWzmFV0g/2\n",
       "hZAGDtpSDg76ttGB6dZIZX/cG7fIdFTJeAz5RlWLh1h4JsYphrOLOIaVYgxlYx1o8n527SUa6FtK\n",
       "yOyqlHHko0BiTPi8Z4gYYQPBUwULz8Q4xQBczGJYOfiyMblewe9Wiqz+JN1/zFyATLz9948ElzGx\n",
       "kg49bKSHt2mTtcDcsGJwglbV05RGKUR5DCvDAMPseru7Mc7qu0Vj75c1hxgLWNl6sU9W5xgjwwua\n",
       "t/BMHhdDlMWw0r8IPvaju91z2l4qDvpEbWU/LhqXmAY2kkit6KQiWK0o4iEWnqwVeRdxDCt9QVcu\n",
       "9lSuG2xGjGqP8a5PJtLDaWetAb6aZeY8sJc6zXlFPMTCk3Ne3kUcw8qwxJjtsIvNeUa08tU6Vpm9\n",
       "3FxvxcauT5SNAwWd1Fqdw2JgYvv2CVQKsFiI6y8UD16IhVTEMk4gGheG3cUKDCtDSiu7sOs05X0Y\n",
       "bE2zrV7GcrO39kZ46Kgf0zB2TpwtmSWPQ+lgbYaNBB4MXMbCZddG0UZaI8FweNNKGKu8bBSVUb57\n",
       "rCkZyYeMxjpV5Z4J30tHPKxsiU/20qawvt0wnLwceIyS+DRnVaudxL1uQDt/PxOKeBjQ2YJqn11U\n",
       "8UyoG0pxOZ4Jkfn0jyjKtJ87a3BSD/EZ66w/eYxUGB4G9MbZ5qwxF0sYQWIH0FVH/8mHtoq5VMCi\n",
       "kE1n9HcstCT2jLlYwtjks9+aaK/RY5Pl9W9NyxffmnIuQoyXcCijH5xI/9er0cV/KFsseJhWOrIA\n",
       "AAAASUVORK5CYII=\n",
       "\" style=\"display:inline;vertical-align:middle;\" /></a><br>"
      ],
      "text/plain": [
       "distribution_map: (a_{i}, ..a_{_a}.., a_{j}, b) -> ((a_{i} * b) + ..(a_{k} * b).. + (a_{j} * b))"
      ]
     },
     "execution_count": 125,
     "metadata": {},
     "output_type": "execute_result"
    }
   ],
   "source": [
    "a_k = IndexedVar(a, k)\n",
    "distribution_map = Lambda((a_i_to_j, b),\n",
    "                          Add(ExprRange(k, Mult(a_k, b), i, j)))"
   ]
  },
  {
   "cell_type": "markdown",
   "metadata": {},
   "source": [
    "We can apply a map which splits $a_i, ..., a_j$ into multiple entries.  In so doing, the `Iter` of the result is split in the same manner.  For example, consider the following substitution into $a_i, ..., a_j$:"
   ]
  },
  {
   "cell_type": "code",
   "execution_count": 126,
   "metadata": {},
   "outputs": [
    {
     "data": {
      "text/html": [
       "<strong id=\"a_sub\">a_sub:</strong> <a class=\"ProveItLink\" href=\"__pv_it/basic_expressions/63991493f1318917076adaf4e22d6e85a15847860/expr.ipynb\"><img src=\"data:image/png;base64,iVBORw0KGgoAAAANSUhEUgAAAN8AAAAUBAMAAAD/+PVoAAAAMFBMVEX////MzMxUVFR2dna6uroQ\n",
       "EBCqqqqIiIgiIiJmZmYyMjJERETu7u6YmJjc3NwAAACgK8IjAAAAAXRSTlMAQObYZgAAAkRJREFU\n",
       "SMe9Vj1oFEEYfXu3t7fJ/uQ6BQsjFunkuiAIBiGYypySShDUOsiSFJuFQA6RKMFiNY1GgltYy2Er\n",
       "0SEiJ1i4oqAWyhYqFkpWCQpi4czsz81mudFqp5j95pv35s3f980CdojKyiVWPa9OD7WIVvcrFDQD\n",
       "wPIrFMQkoEdVCj4FvlSph9EpePTTX/i46Ej33j1ycrLo8Rx8IjLKXsDMnBKi7mOL9rWtq3oApTeU\n",
       "/QRvnbWCp652sCKjJABhAlveHXpjAqzSPlL/o0bK7e5Q9jEcJ6cKns8jAR7KKBwgCsKms9O6mGO2\n",
       "wWaqDmeTApd7Gg5+SSkcIJYDdIOVmAkCY45cEHu4tMwS5buUwgFCUcfBBVdZ42DrH4Kc++6l67uH\n",
       "Us8Gmh0phQGszX1e1r6IRINeGo2soElk7PlmjGW8PoczZCF1PYAxLhVkAGs6bKRxrvmo8UtzlC7+\n",
       "/GN8S1b4guYeXpm/BUP9acR2aPe72MV6CrqJ2ZBTCshBiwO+LmGMJM39r97cA0bamAG23f5mmAjq\n",
       "12mfznb7cmZcIzAnlr33NPU6SocdAQdtu3ejZIUUMKAkvBwwgem06Vtnp2jgt4TUxtnzpa3R8uht\n",
       "tJo9O25loI2UopXjPwecxroiDvpMTN4aY7fLEZxbO3SNVq/NQbXA3E0p9fL5ZQA7xpUL4qAsXT1K\n",
       "bfvWDwdmOcP1c+sERiP7MOEgPTSchCIA8iDPADQUFkNhUPY8FR9gqzzb8g8BA6nujf8GDAY12PlV\n",
       "+YvxAfgLA5S1YLv4oZwAAAAASUVORK5CYII=\n",
       "\" style=\"display:inline;vertical-align:middle;\" /></a><br>"
      ],
      "text/plain": [
       "a_sub: (x_{1}, ..x_{_a}.., x_{m}, y_{1}, ..y_{_a}.., y_{n}, z)"
      ]
     },
     "execution_count": 126,
     "metadata": {},
     "output_type": "execute_result"
    }
   ],
   "source": [
    "from proveit import m, n\n",
    "x_1_to_m = var_range(x, one, m)\n",
    "y_1_to_n = var_range(y, one, n)\n",
    "a_sub = ExprTuple(x_1_to_m, y_1_to_n, z)"
   ]
  },
  {
   "cell_type": "markdown",
   "metadata": {},
   "source": [
    "But to allow this as a subtitution, we must prove (or assume) that the lengths of these `ExprTuple`s match (that the have the same number of elements).  We could prove this assuming $j-i+1 = m+n+1$, but for this demonstration we will simply assume what we directly require to be true."
   ]
  },
  {
   "cell_type": "code",
   "execution_count": 127,
   "metadata": {},
   "outputs": [
    {
     "data": {
      "text/html": [
       "<strong id=\"a_required_len\">a_required_len:</strong> <a class=\"ProveItLink\" href=\"__pv_it/basic_expressions/46dd23b7d26acbc699ce00ea1ad1a014dfd92baf0/expr.ipynb\"><img src=\"data:image/png;base64,iVBORw0KGgoAAAANSUhEUgAAAW8AAAAVBAMAAAB73HI0AAAAMFBMVEX///9UVFQQEBCqqqoiIiJm\n",
       "ZmYyMjJERESYmJjc3NyIiIi6urp2dnbu7u7MzMwAAAADGpxCAAAAAXRSTlMAQObYZgAAA1ZJREFU\n",
       "SMfFl01oE0EUx1+aj81mszEnoUUk3qogBNGDh2L8pApChLYUKZqTF0HaU1EQo6i0ChL0oODBrRAP\n",
       "wbbx42IvzUUoLeIqUiEI2aOX0khB1Jrie7NJdzabmeQU5/CYfTv/eb/dffNmFtbg/7S1tg5Zi5mw\n",
       "wjpPuoh8mNmVZneHIP4c2WjRHq+PdxHclxODE4hPAnPAhF4ePJTrIrieEYMTiC8r1t4EWOXB73Q1\n",
       "vZfF4B2ARA0O/HRXwT+LwTsA0RMOuJrqKnioKALvCOSyAx5JoynPPH1pSB+10Luw7PbkDXhoSiTl\n",
       "86Du5661Y8XvGDUtAicQ1IgJaN2+d8AVXA56KXwmkIGYeEl/g9vGKXe6aQmYl0lKryFS5a6/3hvG\n",
       "weFMAzx6ibV0A5xAUCNqQehHe9cBDySxa0ZrWi42LP5YH+Cj+c7leRTMwKREoiZHQOEfy4THVIpT\n",
       "ojeOIKQRtWnYQHvQAe/BpNPtEJoY3ITJZk+PAX8kEh32wQ5X+sWuk6mKwBFExxmFBFoN7bobHOwQ\n",
       "mmx5eKZcNGNbMgkGWrd4xytoBw7+mqQUptzglCpgh5CBIyRW2geFdGF33TMCkYRMgqn0nCka+3Uc\n",
       "GjH4HI9zqQJKXFKPaKK37sXpN+chYsooBnCdzcL9fthjztRdExRGIsG7E6TYW78+BBDnF2fzGyeQ\n",
       "SrIknK+SdC9Oqk+LyRt0wiGKCk6s/wSuQ0bbUKpqVi2nYBPGbDecg8WsW+LWBePaL1LUbF9scOkF\n",
       "JkOwJAJnIGrWG5xdARyh2jvmgFPoT4XyaNbuBs6i7yh9uXi9AydM0Ptm81N4kjBiCTjOPCS6mHNL\n",
       "HB0N0Pvyv1GBVZONCMIt2j1ClgicpvJN2VonOJuSAsAQmSstt3z23Qe8h8ntbabHioyrVavhGWkj\n",
       "wSzvsYIlix/xpe2W7/fuakx+kj5AquUhi9VYb5JFt3vP8A2Gx0vM48vom1LJTqgUURF4Y/Ej2h+y\n",
       "oi32MvzVULeaD1lK41irDv0wQPfu/GWuoIVy6i6TeQJZxZBKBuEaKSJLwI2QHWvrIGXvloCB/ipU\n",
       "VFbFPxJh7/NmW3q0wgW5ZCFveSdV2vxItAxH8r5R6l2tg891/ddtmtm5ZneHIGH22BHrH4wuK7BO\n",
       "beheAAAAAElFTkSuQmCC\n",
       "\" style=\"display:inline;vertical-align:middle;\" /></a><br>"
      ],
      "text/plain": [
       "a_required_len: |(x_{1}, ..x_{_a}.., x_{m}, y_{1}, ..y_{_a}.., y_{n}, z)| = |(i, ..k.., j)|"
      ]
     },
     "execution_count": 127,
     "metadata": {},
     "output_type": "execute_result"
    }
   ],
   "source": [
    "from proveit.core_expr_types import Len\n",
    "a_len = Len(ExprRange(k, k, i, j))\n",
    "a_required_len = Equals(Len(a_sub), a_len)"
   ]
  },
  {
   "cell_type": "markdown",
   "metadata": {},
   "source": [
    "Using `a_required_len` as an assumption, we can `apply`  `distribution_map` to the operands $(x_1, ..., x_m, y_1, ..., y_n, z)$ to obtain the following"
   ]
  },
  {
   "cell_type": "code",
   "execution_count": 128,
   "metadata": {},
   "outputs": [
    {
     "data": {
      "text/html": [
       "<a class=\"ProveItLink\" href=\"__pv_it/basic_expressions/97acd944c235926031fc7b0049e25b497a57419b0/expr.ipynb\"><img src=\"data:image/png;base64,iVBORw0KGgoAAAANSUhEUgAAAfEAAAAUBAMAAABv4hnLAAAAMFBMVEX////MzMxUVFR2dna6uroQ\n",
       "EBCqqqqIiIgiIiJmZmYyMjJERETu7u6YmJjc3NwAAACgK8IjAAAAAXRSTlMAQObYZgAABChJREFU\n",
       "WMO1WE9IFFEY/9Ydd9dmdvUSFR7amxAV3vpDwV4kbxoIRRRsXexUSxK2dGiJslO2JWQZ4iYeagmR\n",
       "ICLCGoSwP8IOdIgKYomKgiIrMQiVvm92Z968mfec2dIHPnXeN78/8773FyBhgLgcg8BFioElUvY8\n",
       "+raKjAKMb5KoF4LXtXs5gLpyYB0vZM/3Y7XVgz6xOowSDBcdixoXAa/JY0ghsI5xWcNt/HnuAS+v\n",
       "EqMYw01nRcXzIozGNFbbrHzNyBK52iDGoDKPP2Hr9e7q79e+jN0yPKuhFtWvJVExYYZ16Fg9Ceo8\n",
       "JstSZYHSq9Mlu9+X0dd5Lar7JVGfhQzbzbRIBXT+WSY0nKN6jJedyPky+jqvQbWHzorK4q/pEx96\n",
       "eHejvVdRdz6gczEG4bdkMbV28LKjCDs9CImDckZf58ioZTPwUfdXTXTQ3hUy3FGTiNEavxArQIjN\n",
       "gdofvVSGeCGgc4bhKqU72hLAG162ihpa2yA6C80gYfR1joxhpRPO8LO2UDXRaZPZG56oPsTQwwtK\n",
       "OXS9khb0GSML0JiBSC6gcxvDKYOq4zr8BjjKy46lIZEeAnViwzUWyTP6OkfGTw0FeGg3yFUjHVIk\n",
       "JjxRXfRcpedKrvJJsELQUiuEZmmoFou3DhSLSe8YZg0Mw9Hd9OmHQPsFsJH+31ksni8WR/Gv+hRG\n",
       "7yP6dhbpYGSRruJoQEa9PkOf1epIqep6c9w3656oLnOiz9jO4WxlyetIVzCC9DnDYCWWNJdzZb7q\n",
       "nHUYScFJf2NT1bkZyTP69nmXOUeHftgNctWmcyXpjeqjJ6jCdm66MGBEtx8EyfYKRnx4XTZ6oskO\n",
       "WIQGXNfaPdlOH/4ka/AwBsl2TKhoJxH6qCY6OCJgwrkiop+BqM45T2mHoKYZroIRbzPqN0fZyJiD\n",
       "J4ZwhlOTcJd3zjEGmeEQQE0SYXl51UQXyUOdJwqXnI70Y9rVO5zXGSquBQ2tPAYNSHOolFzgNsbX\n",
       "UwhsvYZlCzzAeoCXTctOQ1JZ5JzzjN2O0WuSlVyfhBbKK9BhEKG+vGqiW//y1ZgnCtmneqeHDc65\n",
       "NribRkSTK2+S1aESS/INDKMF1lbSq1Ke9dAqepN3TjxaS3aJc84zdjtGr0lmMVoN9OZU70gZCdt8\n",
       "VBNdPn4g5Yli+0DFvdl5WvvudS+chu8h11kpJ9q94kh3OucZA+5eh4hwIOSjWrhZfurc+0fczq29\n",
       "v6ZLdFgNNkZiFjvhbdi1/FkSZtgRYhOUUmyh9zDOyJzPsBNLXUGbI8Jzh31UCw9IFPXIUn3tJ9+3\n",
       "NZwZLQxcPMbh/S6+0XNKVctwEe4DfLnUAv/OGDPUDBH2GD4YquB0Y0bJbhWEb9R4M8F9FudVwZ5s\n",
       "0/8yKr2Xg6kWXYSYUdJ7nXcrcxsVD34btRKM7wLdRmHUX2HImgLwntbTAAAAAElFTkSuQmCC\n",
       "\" style=\"display:inline;vertical-align:middle;\" /></a>"
      ],
      "text/plain": [
       "(x_{1} * b) + ..(x_{k} * b).. + (x_{m} * b) + (y_{1} * b) + ..(y_{k} * b).. + (y_{n} * b) + (z * b)"
      ]
     },
     "execution_count": 128,
     "metadata": {},
     "output_type": "execute_result"
    }
   ],
   "source": [
    "requirements = []\n",
    "distribution_map.apply(*a_sub.entries, b, assumptions=[a_required_len],\n",
    "                      requirements=requirements)"
   ]
  },
  {
   "cell_type": "markdown",
   "metadata": {},
   "source": [
    "The `requirements` is appended with facts that were needed to make this happen.  Here, there is just one requirement which is the statement we assumed.  It is a **Judgment** proven by *assumption*; these concepts will be discussed in future chapters."
   ]
  },
  {
   "cell_type": "code",
   "execution_count": 129,
   "metadata": {},
   "outputs": [
    {
     "data": {
      "text/html": [
       "<a class=\"ProveItLink\" href=\"__pv_it/basic_expressions/94d847b40ac906164dc93e64180966d085a5f46f0/expr.ipynb\"><img src=\"data:image/png;base64,iVBORw0KGgoAAAANSUhEUgAAAX8AAAAVBAMAAABccvPcAAAAMFBMVEX///9UVFTMzMx2dna6uroQ\n",
       "EBCqqqqIiIgiIiJmZmYyMjJERETu7u6YmJjc3NwAAAC+aOQFAAAAAXRSTlMAQObYZgAAA6ZJREFU\n",
       "SMfFV81rE0EUf0k2X81mDXooeCj7B1SaQ6EIFutB25OtIHixkougUDStSIgUGg9qFSvRHmwLxSCe\n",
       "PEh78lA/toik2EOjKH5ASw4qgoixlgoSxfdmJ+1sNjPJKc5hOvs6v9/7/bLz8RYAWzv8n9ZeN6Bq\n",
       "Xsv+axSgkw2+NVH6GdZ3VocbFBIoUu/rsWmWOU6fa6IBT1FugIR4FGJOWtDGDTCaBxzXUmyiAT0n\n",
       "N0BCPAU59iXAC26AaKJZjnvf1OXfJTfQgBBf0jZANKEix91oqoHncgMNCNEHuAGk+cJxRqapBlp6\n",
       "ZAYaEnKPG0CaNMcFcSlBfvjjuaTSeqqtt8sZSSfhk6WA5G+DcVx41i717MHsWZkBEoIYuQLa33u5\n",
       "AaR5zHER3DZ6PHollAOv/Ah4Bu+S15zLURuAMRUkfhCCJeF5+e00To7mKgZ891nLgiAEMbIWhkHs\n",
       "P3ADSHOZ40IJDFm+slb0Tstf4j7Ybx12RD6Hc7CggBiJGYiI9iz4Skd5RvYGUAhhZG0NNrE/xQ0g\n",
       "zVGO8+OjbqfS5AYsWKiO+JPwSwHR4RjscCxL7yPqSjIDKERHRqkCrYx9BzeANKIBsFNpqm3kou63\n",
       "vOsqCCbsMMXAAahnAAJlxRGacRoQlxDYqVQGUCye1K9S2dROHpmB4IAKgkvsPENU6oAYVHKIeyAm\n",
       "LCGIxBTnFxH1cQNII27igDUGQUulZgj34yi8HoQj1jAPzVM6BQT/O0+IE/z5NEBM3MTVb4CErCTi\n",
       "Ur6VhHMT7+U4Otf6E0+pkiI1K5hA/w3CgDptM1IyCkY+AxswaYfhJvQXnBAnLhzT/hCibMe8E90X\n",
       "MHM4LjPAhBgFd3L2BHCWzuxJbgBp+jiOJCym8rMFexi6jrGL9EZjfADjFuito+lVrFSS3gFae+PE\n",
       "tZi6U3RCtnE0QW9N/0UEnrZsRhje0C3UYsoMEJVn1cZuJ2eUlACmqLtbucjMWqUEWw9D7iJ267ry\n",
       "m8E5o2RWIjN1ILgL/GY4boozluqWEgH37cjgV+mFZLiBpZrFHDuj3YvQtzX6jr9odC7OIp6cvqGE\n",
       "7IaVHkSEDpnijPrFnK/GnYifPMZ6VTEHTzguUimnjakfSdDdFUVeOAhbisYui0VChUhSCZmAh4QI\n",
       "doMwQ1VOcyF595WCiX5G6BASy2nJB03U7b9QM6KlbqkhvWnTTRqp80FTMx3BW2fB/tGZAUaDn5Qj\n",
       "Tf+kXGP9SHW4QSFRZj9oEs0/GSgkulvrXwAAAAAASUVORK5CYII=\n",
       "\" style=\"display:inline;vertical-align:middle;\" /></a>"
      ],
      "text/plain": [
       "(|(x_{1}, ..x_{_a}.., x_{m}, y_{1}, ..y_{_a}.., y_{n}, z)| = |(i, ..k.., j)|)"
      ]
     },
     "execution_count": 129,
     "metadata": {},
     "output_type": "execute_result"
    }
   ],
   "source": [
    "ExprTuple(*requirements)"
   ]
  },
  {
   "cell_type": "markdown",
   "metadata": {},
   "source": [
    "Recall that the `apply` method is used in the implementation of <a href=\"#Operation_sub\">*operation substitution*</a>.  Iterated parameters can be used in that setting as well.  Furthermore, this code is used in *instantiation* of iterated parameters that are universally quantified which will be discussed in a later chapter."
   ]
  },
  {
   "cell_type": "markdown",
   "metadata": {},
   "source": [
    "We will remark here that there are limitations in this capability for the sake of simplicity.  We deal with multiple `IndexedVar`s in an iteration, but their subsitutions must be aligned.  For example,"
   ]
  },
  {
   "cell_type": "code",
   "execution_count": 130,
   "metadata": {},
   "outputs": [
    {
     "data": {
      "text/html": [
       "<strong id=\"dot_prod_map\">dot_prod_map:</strong> <a class=\"ProveItLink\" href=\"__pv_it/basic_expressions/144d944856581abbad6b4598be9e993dd30623ee0/expr.ipynb\"><img src=\"data:image/png;base64,iVBORw0KGgoAAAANSUhEUgAAAbkAAAAVCAMAAADsI2A7AAAANlBMVEX///8oKCgNDQ1UVFTMzMx2\n",
       "dna6uroQEBCqqqqIiIgiIiJmZmYyMjJERETu7u6YmJjc3NwAAADzUGF5AAAAAXRSTlMAQObYZgAA\n",
       "A5xJREFUaN7VWtm2qyAM5RycUET8/5+9qIQxyFDtXceHpqtm2DuBgFhCCJEb+VvXJMt1gVwTyZpA\n",
       "pB5TKxyQYn0702Id50etqSw3riEZhaLylXS0Egc4WnL5/izhy6PWghebSlJFMghVHqiGjmwlDnAu\n",
       "uS3vF47s07PWPSuzBHLFJMNQYaCJ1YKPLCoSHhEHOKecvzDlhl08ay1GXJUFZIBcKckoVBjogcqV\n",
       "JzwmDnAOKecvTLl+ftqaD3ia/PEM5IpJxqGCQJ9XriLhCHGAoyQDrnLpFza2z407e04ZW5obJmbd\n",
       "mxL5y73PFcgVk4xD9cvDlatIOEIc4Ci56h3qMKpJzHffeU1Lc+zVl86b4zsX6kO2uXasreON47Wa\n",
       "vEICuVKSCNCNP1w5DEuYsDRxgKPkPOnGeThcLt5d/dLn2Su4PvizX++szbVjbR1PM145wlZnFGty\n",
       "OZLiBug0P1w5DIubMHFLHOAoOV6Nczm1Ztba0W7tF36OoL7RNWbdwWAlvz/cu/bdrkyaXIakGtvp\n",
       "UCZQf3qfx1PQomUKtcgk3IJBiQMcJbWjcT21utbK3dqfjyVD65MBam0rN/srxTA7W4qgcimQM02H\n",
       "soEemnO5hBswKHGnctfkvSo7nT8PjNY3S8eeiHBZ3Tc9yFpcW2vX8ZDolh0XJNUt8yQRoMM73fI+\n",
       "YWniAEfJa8EUZ2UpP47EelL/9OXak4UM/rJ+9K+zr7e4ttau49QOxT+f8HcoeZII0Jd2KPcJSxN3\n",
       "dih6m7kq/5uaqD2R4loFTcONvyA/WXsiVF6od5Oq6KuK0+YarK3jg4vp/t7p7bCk9tA4yfA8NADq\n",
       "BcLqcEcgUbkIi8cLQ+MqABwl9fQT6tGhk5QN2ukxmGEFMZ3XtmD7k1Zy7c1YNzcX1m8Gb7VrY20n\n",
       "EbqLPgh1waLnSYRk0DpCoFGgqPfdEMAtECwOLxyNVQA4h4wOY8QurttTSWdDlXaJ3/zYNTgWhQcR\n",
       "ydMvgyTV/fXtMNBLp1977mFJKwCcU0YHoBMn15Qs2sVjSt2YuPmpa+v40xNngySRbgM0CCTqtwAi\n",
       "f+LcjRknoOCdOJM1qLegvbx2PCW4MCW2Jm5+6to4Ln75AuRSJFOxAegbb3lWmeKVvLSC/5Yn+aKv\n",
       "6MUtqgSLxFZlVaAEjteX3qwWJPmBK8ay5kayVgjH4bP/ZqCDHMULfB3H27f+zbB9498M2YQZBYDz\n",
       "Eiza0z/m+D9fWV64wj9lAzWrh0TLMAAAAABJRU5ErkJggg==\n",
       "\" style=\"display:inline;vertical-align:middle;\" /></a><br>"
      ],
      "text/plain": [
       "dot_prod_map: (a_{i}, ..a_{_a}.., a_{j}, b_{i}, ..b_{_a}.., b_{j}) -> ((a_{i} * b_{i}) + ..(a_{k} * b_{k}).. + (a_{j} * b_{j}))"
      ]
     },
     "execution_count": 130,
     "metadata": {},
     "output_type": "execute_result"
    }
   ],
   "source": [
    "b_k = IndexedVar(b, k)\n",
    "b_i_to_j = var_range(b, i, j)\n",
    "dot_prod_map = Lambda((a_i_to_j, b_i_to_j),\n",
    "                          Add(ExprRange(k, Mult(a_k, b_k), i, j)))"
   ]
  },
  {
   "cell_type": "code",
   "execution_count": 131,
   "metadata": {},
   "outputs": [
    {
     "data": {
      "text/html": [
       "<a class=\"ProveItLink\" href=\"__pv_it/basic_expressions/3e8979efacc5e7f0d48e9078ec86d168e703ad700/expr.ipynb\"><img src=\"data:image/png;base64,iVBORw0KGgoAAAANSUhEUgAAAikAAAAUBAMAAAC6xrB3AAAAMFBMVEX////MzMxUVFR2dna6uroQ\n",
       "EBCqqqqIiIgiIiJmZmYyMjJERETu7u6YmJjc3NwAAACgK8IjAAAAAXRSTlMAQObYZgAABH5JREFU\n",
       "WMO9WE1oXFUUPpO8+Wnfm5fZaekiU1wEXJTsBkVoEEJnZaIECsVCdNMuSnm0yDhQaAi2gmCdNgtr\n",
       "SnEqXZRZlKEbF6XxoUiCLXREQStYslCpoDhKMVBq8dzz3n3vnntn+u6U0LdI5n73fOc799z/C+D3\n",
       "4ElfYROsvz9tjI4ZyBMj2Eb9Y3YMMruVIbXXOiiva2M1ZjTz1jPSN5UHMsjsWobWN9ZR7bTqVq+t\n",
       "I9eekb6pPJAhzMqtDK3xIB7KwbAxLivu2gVf03gZEUh9ODzM4rCtfs0uYjQrZXWwN2+blbN2Wfla\n",
       "42VEIPWzs3J2VOUhDDS7n9mKK5ZZ8ZcsB/oM592308/MSra+rjyEgWZN/Ld+/JcTvM0q8pJlVoo4\n",
       "E7zG3v01o7c5ON7iPIzAawbwa8gC+Bj8N5l+ZlZI33CkIrqyYEB9IZfugVRAs5tInC6/X2pDLl2Q\n",
       "GfKTZVZcdP4V/Bh8oBtoYLnNeRjBuDMPp9QAYHoWin3YrehnZkXoR47YsqQgurJgeDebF9N2UwHN\n",
       "ziAxHH/kbOY+icaTyCtDjlhmpbQI8ArsC19Te0r80cDCEudhBL/taMMNGYDg+Iur4HZ3XVD0M7Mi\n",
       "9MlRUiGaoiK6smB44HelbVxAswXx2xUVDnG8h6AhkyJNnc7Vg51O1dwh0or8jPB9g1XfaYMB5vqc\n",
       "hxGE+QC2YjnieHAAJgKoS314udM53el8ZqYkrSB9ciS7RDRFRXTlPK0zu0NpGxfQbEH8ngiSHMAy\n",
       "aMik5ViJNLZYXSnK45aRFYUnIpgLc3/LAIjjPILJipIVi7FC+uRIftQUBdGVieFUlWZTAc3OkHAl\n",
       "zUr0KUh9hBkEFMHdbxutxh4lDwx0zBkEq1CcZwHguH8nlq6PMIPIUfnSc820VkGcATMI3lZdUQHN\n",
       "cK0rhKegGKpBMWSU1fYoLpEn4ftD8EZ4PDHQwAGrLVwHt8qygsXrcUJGWW3JUXm2l0/PQAoyaLUt\n",
       "tGAsbQoV0Az3vbnFL8Q1SQmKISvcFU37h8pUlBW4oTn/un2/568vwQNJAwPcMc15Yuc9D3M9Plaq\n",
       "zn9xVlZ440k2CUKpoH1XOPrjXZhId2cF0ZUF4/nvfriS2EYFNEPhLxvrl3osKwy5rA27qpyFy7wC\n",
       "rb2pk82f8X4V5OajqUnN0MCdFc6rk+Cnmywr3lTzcZyVy9pYWWZBpBVEJ0dTMAtKWxJEVxaMVvng\n",
       "TGIbFdAsPW87xkmPEG9p5BN/vlLs+v0KN0vAjYEn/lU9AFxZKCtS3/bEj45eh5UcqCtLjGzYnfg3\n",
       "1LtZwcgKIfJ25oXDLiqhftf6CwdGuTvNzRKwpvEwgrG294AH8CLcmYmOKsnt8PawrNxO9cmR34f3\n",
       "3kreBRSkNjRi4xK5Jt9+LvyjjYYIsb/Ju3LYvYpXdP8FLYsSNO/za1DquQEP4EP4HOD3j6ZG1CdH\n",
       "uL2eSA7xCmIqu8NeEjJfnda2+dXJHfDq5DTOadj+ZuVp9E1HCuLavTqRWcYLZXm7XyjvjfZCuY36\n",
       "9+wYaPY/pyG8lfYaoccAAAAASUVORK5CYII=\n",
       "\" style=\"display:inline;vertical-align:middle;\" /></a>"
      ],
      "text/plain": [
       "(x_{1} * x_{1}) + ..(x_{k} * x_{k}).. + (x_{m} * x_{m}) + (y_{1} * y_{1}) + ..(y_{k} * y_{k}).. + (y_{n} * y_{n}) + (z * z)"
      ]
     },
     "execution_count": 131,
     "metadata": {},
     "output_type": "execute_result"
    }
   ],
   "source": [
    "requirements = []\n",
    "dot_prod_map.apply(*a_sub.entries, *a_sub.entries, \n",
    "                   assumptions=[a_required_len], requirements=requirements)"
   ]
  },
  {
   "cell_type": "markdown",
   "metadata": {},
   "source": [
    "As long as the iteration ranges are aligned, we are okay"
   ]
  },
  {
   "cell_type": "code",
   "execution_count": 132,
   "metadata": {},
   "outputs": [
    {
     "data": {
      "text/html": [
       "<strong id=\"b_sub\">b_sub:</strong> <a class=\"ProveItLink\" href=\"__pv_it/basic_expressions/d3197e3f39d0a31083dfaa3276793cd9ee5a06a00/expr.ipynb\"><img src=\"data:image/png;base64,iVBORw0KGgoAAAANSUhEUgAAAN8AAAAUBAMAAAD/+PVoAAAAMFBMVEX///9UVFTMzMx2dna6uroQ\n",
       "EBCqqqqIiIgiIiJmZmYyMjJERETu7u6YmJjc3NwAAAC+aOQFAAAAAXRSTlMAQObYZgAAAkNJREFU\n",
       "SMe9VkFo1EAUfZtNN6lJtnvbi0gvotKDeytCwb0U9+SW0pOn6slDkZQe1mChK4iKFFz1UivFHDwX\n",
       "PUs1IrKCBwMeFERZQUVBcRWxIB78fya7TZpmjpnDkP/zXt6f+f/PBCiHyG2c4+lFfnoo9GjazFHQ\n",
       "9gGnk6MgJgGzl6fgM+BLnnrYV4dHO+u5+BSotj4FsFsHTkwqP91d/Ljkxh2NOS1EsYMtoKjPYAXa\n",
       "/UyyBMTHU7xxrwET2THWnCumH3dseXeoYnxcBj6P+nio3W5nsgUg4ZnC8eAkjqxlxxgU/+nx8rBR\n",
       "phWV2pgDghEX29CzBSUg4ZEBNLJXCGv3jk1QUrQ+C6IZaL9UghKQHNtqQWDMTdp6BUKQthTrMGaU\n",
       "ggxwNg55xuJ45JEBqASPEpQ5A/u0UG1z0eABrIpSkAHOdDiy36hIx4LRx7JKsBSswAiYEyWy1EFB\n",
       "FM0xMm6gGQpB+y9ZL/3Yg5wY8O08xuqjNfFK/2P1+dBv7EYOreb8Y3wHcwL59vCr1/cA4nOQT1p3\n",
       "e3KFVymxJq/iIqIHc3UAqOIgzHmBsavL3rtoS4eUHd4qM7obFFEV09EnOs6pOjX+eHS0rUMKltL9\n",
       "vxBlEbO4gB9aAtNQUXjM4pYWt5+Lw7vg279Fi1D7pLNRgwSU+xTv22ICczaTIgdxLp2J2Xx44xHM\n",
       "0HJRXvtJddxNNxR5BYDKehMfpuKYr9erWZRhKyyFMZuvJ7qA9dbNgSd9+zvM2wGkMXtT9rYtzl+e\n",
       "vxjvgf/Qo65/Quh1FgAAAABJRU5ErkJggg==\n",
       "\" style=\"display:inline;vertical-align:middle;\" /></a><br>"
      ],
      "text/plain": [
       "b_sub: (y_{1}, ..y_{_a}.., y_{m}, x_{1}, ..x_{_a}.., x_{n}, z)"
      ]
     },
     "execution_count": 132,
     "metadata": {},
     "output_type": "execute_result"
    }
   ],
   "source": [
    "x_1_to_n = var_range(x, one, n)\n",
    "y_1_to_m = var_range(y, one, m)\n",
    "b_sub = ExprTuple(y_1_to_m, x_1_to_n, z)"
   ]
  },
  {
   "cell_type": "code",
   "execution_count": 133,
   "metadata": {},
   "outputs": [
    {
     "data": {
      "text/html": [
       "<strong id=\"b_required_len\">b_required_len:</strong> <a class=\"ProveItLink\" href=\"__pv_it/basic_expressions/b2daef93fbb790b4f44adbe91aa44074f05132fc0/expr.ipynb\"><img src=\"data:image/png;base64,iVBORw0KGgoAAAANSUhEUgAAAW8AAAAVBAMAAAB73HI0AAAAMFBMVEX///9UVFQQEBCqqqoiIiJm\n",
       "ZmYyMjJERESYmJjc3NyIiIi6urp2dnbu7u7MzMwAAAADGpxCAAAAAXRSTlMAQObYZgAAA1pJREFU\n",
       "SMfFl01oE0EYhr+kSXY3+5OcBItIvBVBCaIHD2rqD1RFiNCWIkVz8iJIexIFMQoVqyCLHhRE3Irx\n",
       "EEobiycvyUUQe9mKVMglOYpQGhFErS3ON7vbnd1kJjnFgQyzX9535pnZ+VtYg/+T1roGRMmwYZkW\n",
       "nvYR+TDNl8PhHkEGTMy1iqPXp/oIHjH54AgSEcAcsGEnC54w+wiuF/jgCBIp8r23AVZZ8Jm+Tu+P\n",
       "fPAeQDSLAT/dV/BPfPAeQPSMD67k+gqeqPDAewK54oMn86QjJQse2QJ9/QIo+4KRuWfzlrCNsEI9\n",
       "XvlKWs3zwBGEtMMd7DKu2/c+uESWg6ZmYBEM/oquLUGyFaimJp+JFUQWV+GnL/fHiFoueODaZZry\n",
       "HjiCkHZ4KQ5DJL/rg8eyAI/jBbhmjHHflZIdBynAqNnapmoKLK6CCdjwBLfiHG/ECQi2w0uz8IPk\n",
       "B33wKJl0dtSCP6ByKXTYCykrGKEd4Vs8BXvi3cSsxQMnIDqh4CVb3ST5ehAcqraxJaIgpvVmMEQ7\n",
       "oooWVCq0Bt5AN3AY2BRshbkgOE4VGIdkRkRBptJLmHlYzpd3eyHaESE4KuSJbyXvvE6D52DneJqZ\n",
       "KiClBfsRroa3wcUJ02gRUJB/p+HBEOyx51wKexGStsjiKOSlYtSd6IcA0uziDI84gjSyNW6FjWxw\n",
       "cdL96TxUi5SiQerVf4JT8J/iafWXUs/BBkw60Wr2Ft6J0LItDxYcxfNXkLJp0Bj58JpMhniNB44g\n",
       "VaUYrMVngWO4X0/64HTQVsqXTFqKnSNPw/ji0l52khj0wdJviFhGBk44mpVyfaLomlFAlcOsxVUM\n",
       "wpLjiMMdPD0STR441hW5F6rOqROhYBSzq21H/rhLcaTDO3dnebSZnFJaTVZDLQN2ZwtN+2HSYB2f\n",
       "ux757dU59lP4AnLBS1akoG+4W2z7HNPIbwc0KvCCjLk8VWM11KJ1tLgnQAvOHmUd3S9ZWofzj3xq\n",
       "KFvhS5ZkQqwoWaCMfrdAbz/G6+Q3AjdwO0uYyi6b0VALFbRb3FeShvki4xBdayUzZN42Ebi/Eq7F\n",
       "1dCHhFq+6Grk9u7irvOuxOzicgeBOOI7pC4fEh2rQ/vgBJauu+ALff90m6X5QjjcI4hMu51s/gMH\n",
       "wipIt3Y4lgAAAABJRU5ErkJggg==\n",
       "\" style=\"display:inline;vertical-align:middle;\" /></a><br>"
      ],
      "text/plain": [
       "b_required_len: |(y_{1}, ..y_{_a}.., y_{m}, x_{1}, ..x_{_a}.., x_{n}, z)| = |(i, ..k.., j)|"
      ]
     },
     "execution_count": 133,
     "metadata": {},
     "output_type": "execute_result"
    }
   ],
   "source": [
    "b_required_len = Equals(Len(b_sub), a_len)"
   ]
  },
  {
   "cell_type": "code",
   "execution_count": 134,
   "metadata": {},
   "outputs": [
    {
     "data": {
      "text/html": [
       "<a class=\"ProveItLink\" href=\"__pv_it/basic_expressions/fcc2b9dc65a1877e953c456ad501b4c8e337b9170/expr.ipynb\"><img src=\"data:image/png;base64,iVBORw0KGgoAAAANSUhEUgAAAikAAAAUBAMAAAC6xrB3AAAAMFBMVEX////MzMxUVFR2dna6uroQ\n",
       "EBCqqqqIiIgiIiJmZmYyMjJERETu7u6YmJjc3NwAAACgK8IjAAAAAXRSTlMAQObYZgAABIxJREFU\n",
       "WMOtWE9oFFcY/zY72d1kZyZ7ERUPWekhUErILVgEl0IwJ7PKgiAtpL2Yg5QhoayLgktoIwhtVz2o\n",
       "EXGVHGQPYfHSg8QOkZCQCq600GqphNKWCAZXkQrFit+8efP+zMzuvMHMYXfeN9/3+/3mN++9mfcA\n",
       "zBZ0OVIboHxsKeSE4HUv+1Kdv/udhEJtdUr7qTvUsLIovamSNRyzrEf9sUTcSQhUKDdJW+wOta4s\n",
       "ql9J/3rMMr2uLGAx6rHVlbidNKPWHSpp0ZPjncaEl/BISbqHp1w2GsHPLkTdCYeK4Ma0TMQT1ouq\n",
       "rnynNs6KMctWVF3JRPbVFTXJmLYZBbWg6IpZVevnCzHL+guKrmxGj/GCEjemVfBvdfqvGUt6oBUL\n",
       "/rbd832KrqSxA+vl4YOjgd4hgHE8sWz1EpifSjWComRN0ZVKgMqHxKBEbhgvJfi7izQwbQmxRoyz\n",
       "mTok+ISc1IpwhgYeK7qSRex78Jt1LjCTEDB2PA6WjYxBug17BCMFRUZd0ZWlABVHojNPPcitL1Wu\n",
       "8mzSwLQ5xLKTb7SNxBW3PzlW/9NXhzs0MKXoSmYSYD8csA+JmsAD47GpQJk5OQ/Z5u7LvERUlKoq\n",
       "ujLnp7IZkie1GpSsg9n0kmkD00rOeda5oJEa/T8npdeC1zQw6Px83Gh802jcDL5RGo1bxxqNPJ72\n",
       "FhzoO9LlB3UGxo7BQJkOR2HAgnFeIipKtLvwixdKPipyJxTJPQiUTzLAHttLpg1MKznnAxZzBWad\n",
       "nwk78UJ0RaGvuBSvpWuZPAOTXPGVaW9gMEddcUsEReRWVPpKyU81y5EEV/yStbyQTBqYNkeU5rgr\n",
       "5JiHdJEGxmOMICCaHj0s18p7ZTDj2s5KejrH8cQy7PdfcSKQFWkxRhCj8iHRkBYyguALEYs0MA3n\n",
       "qJR9BtK25MptyOZpIM5sewInzdPwy2dwxJ6WwYyxVu9H6Xz4bItctyVXREVxZltGtSEj0VDYbJuq\n",
       "QQ/nJQ1MwxflxOSPzjJJdOUCTLRo4KJMTsa98+ONxBR/g2r/Zttmy1ytwitWRsGenYSBQt8IxxPK\n",
       "oC+v/S+5IioiRZyf0DIRoiv7BCpbRqIhD0rk3vXzrwuM121gGmpZLq9ea8muLJevb9DADdkVMu7J\n",
       "z6xMgdn60OnKH7i8shJFd2QKYEOww+2xNwJlWFd5K7kiKurPyTc/K4kQLoxzqjE/khvyoETumnGs\n",
       "wLLdBqbx72RN+tKbpwG9GvuLvzeXbprtnAx2GE7B8wTHk8twZpHnFa5oLd4XP6G6mPDluKE1tS/+\n",
       "NXFNleKu9NT1VzTAVof3Oy1sbP9S6zn2FqM5IoGZbXxevyc5nlj2ITwo8A8jwfCqsKTrxM8u4J14\n",
       "VF9/7tt5cUOjHSUHFpF3vcrLL9k7LNPKWjSgvpOQ9XrdJ7hCNz+wJTB85S3Cn/tD8LDsW/gB4On3\n",
       "Q/5dJEdAjJ2Eu4xqxrf/5IaCUNlOOwmhezVa+Tynet9dJwEsDA/LDlZy0V6r7DrJVNFQoZJJWvd9\n",
       "PWObdyiNuDuUT7Zvh/KJmmRMeweJv7hOPxc8xQAAAABJRU5ErkJggg==\n",
       "\" style=\"display:inline;vertical-align:middle;\" /></a>"
      ],
      "text/plain": [
       "(x_{1} * y_{1}) + ..(x_{k} * y_{k}).. + (x_{m} * y_{m}) + (y_{1} * x_{1}) + ..(y_{k} * x_{k}).. + (y_{n} * x_{n}) + (z * z)"
      ]
     },
     "execution_count": 134,
     "metadata": {},
     "output_type": "execute_result"
    }
   ],
   "source": [
    "requirements = []\n",
    "dot_prod_map.apply(*a_sub.entries, *b_sub.entries,\n",
    "                   assumptions=[a_required_len, b_required_len],\n",
    "                   requirements=requirements)"
   ]
  },
  {
   "cell_type": "code",
   "execution_count": 135,
   "metadata": {},
   "outputs": [
    {
     "data": {
      "text/html": [
       "<a class=\"ProveItLink\" href=\"__pv_it/basic_expressions/1862eb66d75b0b655d83cc60f11003cbde5253b50/expr.ipynb\"><img src=\"data:image/png;base64,iVBORw0KGgoAAAANSUhEUgAAAaMAAAAyBAMAAAAD9qmVAAAAMFBMVEX///8yMjLMzMzc3NyYmJgi\n",
       "IiJmZmZERETu7u4QEBCqqqpUVFSIiIi6urp2dnYAAABBmyukAAAAAXRSTlMAQObYZgAABcxJREFU\n",
       "aN7dWl2IW0UUPpvkJjf/0YIvItwXrYKweWjFH2Tj3/ZF3YhWxB+8KxURpRto1YcKXh9ExMXGKljQ\n",
       "lUURtviwkRb0YcGLYFrp0gRkH9YWEkGlD60b3X0ISwVn7tyfmbl3JjeSRJKBJJPJOXPON3Pm3DPf\n",
       "LgBquSZMRHvf6/5JPiLG/+OJz25/jtzq9rIFp5epkU97s/aNDkyqGBgkZCBa6qX+pfV+1Ru4z+mc\n",
       "YmZSKyPcoNMSSO+i17eS5TgJ6SIHKdEmn+oSM9NUcYSQ3pZA2oNeZ8SqsRqoBQ6SAyWhMzPNjvIY\n",
       "5UwhpJjeW/0KB8kJuFWDgfT4KCGpVSEkJUS0vMdDUkjkPcnMFC2PNNvdJIS0P4T2VJODlNq2YnKb\n",
       "mSmD9ltdP33pinSuxfP3XjDZkVchelK2H3UT7qKT88ZSBKW0P4SQ6kRH6MFZLKhzkMj+KBVmpgSy\n",
       "8wE8ZD4GsFfsXzv2rFJghtqbkOlIVHLZKjToKY7WX7LTLoH063W43eA6cpToiJqeRI7GCjykObxq\n",
       "0002hJcBLsOW8TPc8qLYPyPXzTKxHl2eh0RFonJ3vABv0JAgitfyK+EuPU10RPmumEeOpso8pON4\n",
       "X19mZ0qiN4MY3xDvEnKfH/kM8qZExUiacI0Z2WstqBASysdG3hR70ELqkQ4PaQovwqd+SECMb0iO\n",
       "hs9YtgvTmkylZUT+ZhSsmkUKyUvGAe13CIKUQZkhsgO+wANiXAYJuQ+xQ7fXM+c1MoBi5Cepyjxk\n",
       "qljD+f41ODbos3QjHXhwTOIBPnVZX+BFdwgsPj2soIN+TuZfymhAxohtlpLfOQViooYdkEA6hkSw\n",
       "hn0EUzqkmfTA7xJKD+puThz7uxCUHnDQJarsTCgvZncTHVwzIv/Uv/CRK9gd91tr+S1U3d75I+Sb\n",
       "8TYZjteyO54Kq4c78Aq0SljDIGM3P/owfiYdFkJC6T3b2Rdg3OpAqouNti1IZIS019DZqbAzob1U\n",
       "187VH7SD4iCKZgVvxDNgvylPoYvJ+uIhhHkNbrMCFQupa/VtT4VI1igVpLNQRBqbtoQe+xCbu14I\n",
       "CU91pkR0PeM1x0Acx9yURnbpoHfmthBunasWvYJowwox35avuL0TcBZmIo4QzrhSlXmscThCS6jl\n",
       "ngXRSkDY45+x3+/YBRFlck6DaZOD5JWt1jPDH8Vt9yh20KofyBGhb+B4U6aSLqj/YI3nvqAlQpSt\n",
       "bf9TEV8SZzSqbKVMIjyryxykhPMIveP5NVR3+M+lSaXhPXDPZSL0BLwpVVFKCRNrXCjRErLLxRHO\n",
       "nFcLAcy0X8e/OZcLyiSKujmNm4m9AvpvljH/JmChS3VNqpJdfyFg0iM9roAic+l6yV39q4zJfA0a\n",
       "Xl2T0UZ9UY8VKbvAOdL7ov6A9f4DWwNUUDUHE9WSBViYNEhl+H6yEIFSnURIVOCNPTVpQSrDVpHL\n",
       "neNMTZL00JA/l8aLmsSQajDX5GYaZ2oSP5d0WG0Ka7wxpCZRQdSG6ZKwEh9DatIqW/Pc5WK8qUnA\n",
       "ZThFx7nUZN80Ywgy0ycxHGoSZ/B4x8899EszhiAzHYlhU5O4dIh1fQxR3zRjCDLTlhg6NQmfoCf1\n",
       "ro/H+w80Y08y05EYNjUZvRZMTfZNM4YhM7lFGCI1CQt+ajI0zegSkyHITEti9v51fajUZAKPtJq+\n",
       "9BCaZnSJyZ5kpi3xyMfw0VCpSStUFZ2nJjma0SIWg2lGh5ikyExW0iUViUR0sQzdwVOTVGvgUPVS\n",
       "nkNNcjSjRQcG0owuMUmTmS6X6DGankTaxHl54NQkwx+j9nlAQRSOZqSJSfdkiLhEUidr8bY2eGrS\n",
       "+4kw/Nyfn2fD04weMUmRmcFcot1mQPlFGzw16VVIOv1BUZNhaUaPmKTIzGAu0W4XIfPbEKhJt50i\n",
       "2xM9wV8B+6EZfTIC6jL4+4CoSXe9l+hwmQhqMu0EXLw2KfTQAbe3NiGIvH9eg/ik/IuhlRz+BftT\n",
       "mECj2dXMAAAAAElFTkSuQmCC\n",
       "\" style=\"display:inline;vertical-align:middle;\" /></a>"
      ],
      "text/plain": [
       "(|(x_{1}, ..x_{_a}.., x_{m}, y_{1}, ..y_{_a}.., y_{n}, z)| = |(i, ..k.., j)|,  \\\\ |(y_{1}, ..y_{_a}.., y_{m}, x_{1}, ..x_{_a}.., x_{n}, z)| = |(i, ..k.., j)|)"
      ]
     },
     "execution_count": 135,
     "metadata": {},
     "output_type": "execute_result"
    }
   ],
   "source": [
    "ExprTuple(*requirements).with_wrapping_at(1)"
   ]
  },
  {
   "cell_type": "markdown",
   "metadata": {},
   "source": [
    "If the ranges are not aligned, this will fail"
   ]
  },
  {
   "cell_type": "code",
   "execution_count": 136,
   "metadata": {},
   "outputs": [
    {
     "data": {
      "text/html": [
       "<strong id=\"b_sub\">b_sub:</strong> <a class=\"ProveItLink\" href=\"__pv_it/basic_expressions/e1bdcf4182c5f4e199c6e32b3ef700fb3ebfed3a0/expr.ipynb\"><img src=\"data:image/png;base64,iVBORw0KGgoAAAANSUhEUgAAAN8AAAAUBAMAAAD/+PVoAAAAMFBMVEX///9UVFTMzMx2dna6uroQ\n",
       "EBCqqqqIiIgiIiJmZmYyMjJERETu7u6YmJjc3NwAAAC+aOQFAAAAAXRSTlMAQObYZgAAAkNJREFU\n",
       "SMe9VkFo1EAUfZtNN6lJtnvLRcpeRKUH91aEQvdSuie3lJ48VU89FEnpYQ0WuoKolIKrXtpKMQfP\n",
       "Rc/SmiKyQg8N9KAgygoqCoqriAXx4J+ZxGY3nRzzD0P+z3t5M/P/nwlQDJCZXWHDXnZ6yHVo2MpQ\n",
       "0PQAq5WhIEYBvZOl4Avgc5Z6OFGFSzvrOvjop219H8BsDE+Opn64vfBh0ekN1WaUAPkWtoG8OoVl\n",
       "KI+ldAE4sud47awAI/IZVqxbutcb2nYfUMV4uAl8GvTwVFlvSvkcEPPHMO5fwNk1+Qz9/F+1tzhM\n",
       "FGlFhSZmAH/AwSFUuaAAxHwhX5OvEEZyv0YoKUqXCaLuKz/TBAUgbofpgsCQ0x9RS+CCtKXYgDaV\n",
       "KsgA1uZpN/KFfJrguTIljBjaQjmMXOKqTVY0eAKjlCrIANZEMBCmZV7rYilNsOAvQ/MZ46RWCkMt\n",
       "5HjRnCfnLuoBFzT/kLfvxR7EwABfr2LI56762+iyI78mJdRnn+EbGKM6WBHhMwevHgHksWnuNh52\n",
       "xApvU2J1NqfrCB/01QhgY0K4pr3kvg239HjCbqO9STOycQr6rPhEy7pYpcYvh0fbBoRgIdn/82EW\n",
       "MY37SuQiyqGUwGwa1/C9h/OSH945z/zFW4QaKJmPCgSg2MWNy9yNbE5KEEYMG2/ycQ47n3agB4aD\n",
       "4toPquR2sqUoygFU1osBd0P7cseWEf43whbej8Ui7HqiC1ht3IsiydvfYswjgNX3+niCLGKw/GX5\n",
       "i/EO+Ac8Laz5o/GoGwAAAABJRU5ErkJggg==\n",
       "\" style=\"display:inline;vertical-align:middle;\" /></a><br>"
      ],
      "text/plain": [
       "b_sub: (y_{1}, ..y_{_a}.., y_{n}, x_{1}, ..x_{_a}.., x_{m}, z)"
      ]
     },
     "execution_count": 136,
     "metadata": {},
     "output_type": "execute_result"
    }
   ],
   "source": [
    "b_sub = ExprTuple(y_1_to_n, x_1_to_m, z)"
   ]
  },
  {
   "cell_type": "code",
   "execution_count": 137,
   "metadata": {},
   "outputs": [
    {
     "data": {
      "text/html": [
       "<strong id=\"b_required_len\">b_required_len:</strong> <a class=\"ProveItLink\" href=\"__pv_it/basic_expressions/f32a67be601e425949d6d70bfe004374826c247a0/expr.ipynb\"><img src=\"data:image/png;base64,iVBORw0KGgoAAAANSUhEUgAAAW8AAAAVBAMAAAB73HI0AAAAMFBMVEX///9UVFQQEBCqqqoiIiJm\n",
       "ZmYyMjJERESYmJjc3NyIiIi6urp2dnbu7u7MzMwAAAADGpxCAAAAAXRSTlMAQObYZgAAA15JREFU\n",
       "SMfFl01oE0EUx1/aJJvN7sachBaReKuCEEQPHorxkyoIEdpSpGhOXgRpT0VBjGKlVZCgBwUP3Qrx\n",
       "EGwbPy72klyE0iJuRSoEITl6KY0URK0pvjebdGezziSnOJBh9uX93/xmdubNLKzD/ynrLQ2yErFg\n",
       "hTWedhD5KKtXms1tgnRnqNbztr8x1kFwX0YMTiA+CcwhC3p48GCmg+BGSgxOIL60WHsbYI0Hn+zo\n",
       "8l4Wg7cBopsc+NmOgn8Sg7cBYsQccDXRUfBgXgTeFshVBzycxIFkTXhkSfxLF0E9yD/PPntpSqcm\n",
       "17O47DZpJ/LfsNekCJxAsB9xRNq37x1wBbeDrsVgASLiHV18DeEqF6QYOudPyQRf4a55xm36cn8I\n",
       "/UOpBrh+hZVkA5xAsB9RCUAf1vcccH8c4HEgBRORIeG7UuPDoHCUuqXXtIxEAB/go/XObbLgCaXi\n",
       "hGjGEYT6EZVp2MT6sAPehYvO6jLhN2hCDgMOwC6Tf2bDEAuQcsJ74t2kqioCRxADKYQRtRrWG25w\n",
       "KFiRbRkHijYqvIENQ5NtJy/CK2gFDt01SSpMuMFpqcAwhGMyDlxKz2HyYS7ZMLBhyMBxIoApcnsb\n",
       "53UUGhp+jUe5pQJKVJKPqPO37s0J4ySRcOC/4/CgD/bXGawFCFsyQT/u5TlS7LNm66YjAFF+czbP\n",
       "OIGU40VhyHLcvTlZfroAhTTjKGNc4wfYDecpENV+qqUE1GxbIX6LbkRigbapVNU0KbZg1DZHBpZe\n",
       "4GIIFEXgBFJQ0zvBWMMJDccoX4864GzaVnOXM6zlP49Px+nFRRvVKRQYvdlf4DMxazKP1VxpJA0S\n",
       "gdE7l53Cm4cZicFJ2ykAd+j0CFZE4BTNN2X3x+JQVDs09QGDVF3zHPnD9SH0e++SVn2Vd1UCxQrv\n",
       "IRVQ6aqEx9SqS/O55ZHf7T0Jmfw0vYCE+5LlSxlb9RTrXWM6/nZDOQ8z4H9T4T0kArvM4JyHxoq8\n",
       "U+tLlv6P8w8/NdTt5kuWkgF/WjFBHfxuguE9yEv4G4AblM7CS8B5yASNBBjMqHsszkl2rVUyTfId\n",
       "EcL9UWgvrjV9SGi5S3WfkHe4lHUWsztZvMlDIBA5KS0+JITy3hFqXa+Dz3f8022a1fPN5jZBQmzY\n",
       "4cpf6HgqwEdMzOoAAAAASUVORK5CYII=\n",
       "\" style=\"display:inline;vertical-align:middle;\" /></a><br>"
      ],
      "text/plain": [
       "b_required_len: |(y_{1}, ..y_{_a}.., y_{n}, x_{1}, ..x_{_a}.., x_{m}, z)| = |(i, ..k.., j)|"
      ]
     },
     "execution_count": 137,
     "metadata": {},
     "output_type": "execute_result"
    }
   ],
   "source": [
    "b_required_len = Equals(Len(b_sub), a_len)"
   ]
  },
  {
   "cell_type": "code",
   "execution_count": 138,
   "metadata": {},
   "outputs": [
    {
     "name": "stdout",
     "output_type": "stream",
     "text": [
      "Expected LambdaApplicationError: Failure to apply (a_{i}, ..a_{_a}.., a_{j}, b_{i}, ..b_{_a}.., b_{j}) -> ((a_{i} * b_{i}) + ..(a_{k} * b_{k}).. + (a_{j} * b_{j})) to (x_{1}, ..x_{_a}.., x_{m}, y_{1}, ..y_{_a}.., y_{n}, z, y_{1}, ..y_{_a}.., y_{n}, x_{1}, ..x_{_a}.., x_{m}, z) assuming (|(x_{1}, ..x_{_a}.., x_{m}, y_{1}, ..y_{_a}.., y_{n}, z)| = |(i, ..k.., j)|, |(y_{1}, ..y_{_a}.., y_{n}, x_{1}, ..x_{_a}.., x_{m}, z)| = |(i, ..k.., j)|):\n",
      "Improper replacement: Improper replacement of (a_{i} * b_{i}), ..(a_{k} * b_{k}).., (a_{j} * b_{j}) via {(a_{i}, ..a_{_a}.., a_{j}): (x_{1}, ..x_{_a}.., x_{m}, y_{1}, ..y_{_a}.., y_{n}, z), (b_{i}, ..b_{_a}.., b_{j}): (y_{1}, ..y_{_a}.., y_{n}, x_{1}, ..x_{_a}.., x_{m}, z), a: {(a_{i}, ..a_{_a}.., a_{j})}, b: {(b_{i}, ..b_{_a}.., b_{j})}}:\n",
      "When expanding IndexedVar's within an ExprRange whose parameter is the index, their expansion ExprRange indices must all match. (y_{1}, ..y_{_a}.., y_{n}, x_{1}, ..x_{_a}.., x_{m}, z) vs (x_{1}, ..x_{_a}.., x_{m}, y_{1}, ..y_{_a}.., y_{n}, z) do not match as respected expansions for b_{k} and a_{k}. \n"
     ]
    }
   ],
   "source": [
    "from proveit import LambdaApplicationError\n",
    "try:\n",
    "    dot_prod_map.apply(*a_sub.entries, *b_sub.entries, \n",
    "                       assumptions=[a_required_len, b_required_len],\n",
    "                       requirements=requirements)\n",
    "    assert False, \"Expecting a LambdaApplicationError error; should not make it to this point\"\n",
    "except LambdaApplicationError as e:\n",
    "    print(\"Expected LambdaApplicationError: %s\"%str(e))"
   ]
  },
  {
   "cell_type": "markdown",
   "metadata": {},
   "source": [
    "Such cases may still be handled, but the iterations must first be equated, via axioms/theorems, to split versions withcommon boundaries.  For example, given the following for the $a$ and $b$ substitutions"
   ]
  },
  {
   "cell_type": "code",
   "execution_count": 139,
   "metadata": {},
   "outputs": [
    {
     "data": {
      "text/html": [
       "<a class=\"ProveItLink\" href=\"__pv_it/basic_expressions/63991493f1318917076adaf4e22d6e85a15847860/expr.ipynb\"><img src=\"data:image/png;base64,iVBORw0KGgoAAAANSUhEUgAAAN8AAAAUBAMAAAD/+PVoAAAAMFBMVEX////MzMxUVFR2dna6uroQ\n",
       "EBCqqqqIiIgiIiJmZmYyMjJERETu7u6YmJjc3NwAAACgK8IjAAAAAXRSTlMAQObYZgAAAkRJREFU\n",
       "SMe9Vj1oFEEYfXu3t7fJ/uQ6BQsjFunkuiAIBiGYypySShDUOsiSFJuFQA6RKMFiNY1GgltYy2Er\n",
       "0SEiJ1i4oqAWyhYqFkpWCQpi4czsz81mudFqp5j95pv35s3f980CdojKyiVWPa9OD7WIVvcrFDQD\n",
       "wPIrFMQkoEdVCj4FvlSph9EpePTTX/i46Ej33j1ycrLo8Rx8IjLKXsDMnBKi7mOL9rWtq3oApTeU\n",
       "/QRvnbWCp652sCKjJABhAlveHXpjAqzSPlL/o0bK7e5Q9jEcJ6cKns8jAR7KKBwgCsKms9O6mGO2\n",
       "wWaqDmeTApd7Gg5+SSkcIJYDdIOVmAkCY45cEHu4tMwS5buUwgFCUcfBBVdZ42DrH4Kc++6l67uH\n",
       "Us8Gmh0phQGszX1e1r6IRINeGo2soElk7PlmjGW8PoczZCF1PYAxLhVkAGs6bKRxrvmo8UtzlC7+\n",
       "/GN8S1b4guYeXpm/BUP9acR2aPe72MV6CrqJ2ZBTCshBiwO+LmGMJM39r97cA0bamAG23f5mmAjq\n",
       "12mfznb7cmZcIzAnlr33NPU6SocdAQdtu3ejZIUUMKAkvBwwgem06Vtnp2jgt4TUxtnzpa3R8uht\n",
       "tJo9O25loI2UopXjPwecxroiDvpMTN4aY7fLEZxbO3SNVq/NQbXA3E0p9fL5ZQA7xpUL4qAsXT1K\n",
       "bfvWDwdmOcP1c+sERiP7MOEgPTSchCIA8iDPADQUFkNhUPY8FR9gqzzb8g8BA6nujf8GDAY12PlV\n",
       "+YvxAfgLA5S1YLv4oZwAAAAASUVORK5CYII=\n",
       "\" style=\"display:inline;vertical-align:middle;\" /></a>"
      ],
      "text/plain": [
       "(x_{1}, ..x_{_a}.., x_{m}, y_{1}, ..y_{_a}.., y_{n}, z)"
      ]
     },
     "execution_count": 139,
     "metadata": {},
     "output_type": "execute_result"
    }
   ],
   "source": [
    "a_sub"
   ]
  },
  {
   "cell_type": "code",
   "execution_count": 140,
   "metadata": {},
   "outputs": [
    {
     "data": {
      "text/html": [
       "<a class=\"ProveItLink\" href=\"__pv_it/basic_expressions/e1bdcf4182c5f4e199c6e32b3ef700fb3ebfed3a0/expr.ipynb\"><img src=\"data:image/png;base64,iVBORw0KGgoAAAANSUhEUgAAAN8AAAAUBAMAAAD/+PVoAAAAMFBMVEX///9UVFTMzMx2dna6uroQ\n",
       "EBCqqqqIiIgiIiJmZmYyMjJERETu7u6YmJjc3NwAAAC+aOQFAAAAAXRSTlMAQObYZgAAAkNJREFU\n",
       "SMe9VkFo1EAUfZtNN6lJtnvLRcpeRKUH91aEQvdSuie3lJ48VU89FEnpYQ0WuoKolIKrXtpKMQfP\n",
       "Rc/SmiKyQg8N9KAgygoqCoqriAXx4J+ZxGY3nRzzD0P+z3t5M/P/nwlQDJCZXWHDXnZ6yHVo2MpQ\n",
       "0PQAq5WhIEYBvZOl4Avgc5Z6OFGFSzvrOvjop219H8BsDE+Opn64vfBh0ekN1WaUAPkWtoG8OoVl\n",
       "KI+ldAE4sud47awAI/IZVqxbutcb2nYfUMV4uAl8GvTwVFlvSvkcEPPHMO5fwNk1+Qz9/F+1tzhM\n",
       "FGlFhSZmAH/AwSFUuaAAxHwhX5OvEEZyv0YoKUqXCaLuKz/TBAUgbofpgsCQ0x9RS+CCtKXYgDaV\n",
       "KsgA1uZpN/KFfJrguTIljBjaQjmMXOKqTVY0eAKjlCrIANZEMBCmZV7rYilNsOAvQ/MZ46RWCkMt\n",
       "5HjRnCfnLuoBFzT/kLfvxR7EwABfr2LI56762+iyI78mJdRnn+EbGKM6WBHhMwevHgHksWnuNh52\n",
       "xApvU2J1NqfrCB/01QhgY0K4pr3kvg239HjCbqO9STOycQr6rPhEy7pYpcYvh0fbBoRgIdn/82EW\n",
       "MY37SuQiyqGUwGwa1/C9h/OSH945z/zFW4QaKJmPCgSg2MWNy9yNbE5KEEYMG2/ycQ47n3agB4aD\n",
       "4toPquR2sqUoygFU1osBd0P7cseWEf43whbej8Ui7HqiC1ht3IsiydvfYswjgNX3+niCLGKw/GX5\n",
       "i/EO+Ac8Laz5o/GoGwAAAABJRU5ErkJggg==\n",
       "\" style=\"display:inline;vertical-align:middle;\" /></a>"
      ],
      "text/plain": [
       "(y_{1}, ..y_{_a}.., y_{n}, x_{1}, ..x_{_a}.., x_{m}, z)"
      ]
     },
     "execution_count": 140,
     "metadata": {},
     "output_type": "execute_result"
    }
   ],
   "source": [
    "b_sub"
   ]
  },
  {
   "cell_type": "markdown",
   "metadata": {},
   "source": [
    "If we know that $m$ and $n$ are natural numbers and $m \\leq n$, then we can split `a_sub` and `b_sub` respectively into"
   ]
  },
  {
   "cell_type": "code",
   "execution_count": 141,
   "metadata": {},
   "outputs": [
    {
     "data": {
      "text/html": [
       "<strong id=\"a_sub\">a_sub:</strong> <a class=\"ProveItLink\" href=\"__pv_it/basic_expressions/ee95de9559f57df828daba055a60c7e5a44b194e0/expr.ipynb\"><img src=\"data:image/png;base64,iVBORw0KGgoAAAANSUhEUgAAAeAAAAAaBAMAAACdhJJtAAAAMFBMVEX///8iIiJERESYmJiqqqoQ\n",
       "EBB2dnbc3NyIiIhmZmbu7u4yMjJUVFS6urrMzMwAAADZVrDbAAAAAXRSTlMAQObYZgAAA9ZJREFU\n",
       "WMPlWEtoE0EY/vPcJM2mETxo8RHqTQougkVBpeJBkCoFDx6qJeDNU/BxUJSur5JKoa2F+qiPPVYs\n",
       "NCBSJApFRIpCaYu9FRoLiiJib0q14vyzM9NJdjKtFfSwA5lM/v/7v/m/necGAL6Ab4qNVWrUP4Jn\n",
       "sKpx/CM4apHqFvio1AEYC34S3ElGucdPgtsBIk1+EhxognbHT4LjGdjhJ70Qa4EB8jXYdbHD1gI9\n",
       "iESnDWd1k0MLYE5D5SutJHENQapKyOTxlAXmAtST6GxoXaAAqUx1fhchn2hmC3TrQlyA3plV+Q4t\n",
       "NedgFQThCbWELZ03yNP4Bc9ItBNdMHOp2+nq/BQhW87EC1CvC6EAvTOZUy4zYf3UC6shuKkWDAYZ\n",
       "HWMR1mM7iCNlVs+eIaTiRGz4rgtxAVrnB3Vf9KpLq0lYDcEQVkmvfY4ssMQiPMV2ra0XzBBymXXI\n",
       "9NCFUIDWOa72jWCV0QvWEdTguAc9ZhOfIRnhBvzxtbScYESE+j52xrrYpjKAO54uBAEYwX/v2pvv\n",
       "yY9LTki7RmYS7FdWIpgRqDqIWUxwWb7QTHe0b/CCLHOnG2KOLnsXEZq2Iq9j7OWqAYKjWsEIwAi+\n",
       "zvYcgWNOl+Q00tR4lAvm7M0rEcwIVB2ER7lgOd9wD05zsktfI9OjaRucdkd4GLdirBI/5IaLOH8J\n",
       "aifiWRd0F2YtGlKOFL8oACPY0WQMpmER+iWnmaFGfpfn7DAlCy5nFw1OoOrAzDDBZfm+a9z5nDyD\n",
       "FrIYYCg/2Ge5ggN1eP/Ch7KBN9YQQoYYg/d4OaOgofyDnDvCCBAhbpwAjME0mPWkbIWknWqBtZIT\n",
       "F1XSJufLFAIczg6fIVksthYfuyNcxi4SEgSKDlIFeFN8UixaZfn2hFon6E0rIo4tmv1BxXQWzTa4\n",
       "DO0pDhpgIWHv9UIA2qCfXwQipVjGmC8tOfEQj5Ti2VIF+0zZlPayM4tLoOjA5FO6Il+6odkQF4d3\n",
       "GLP3HuVR0TLmyTPbHqWgZIHs8G5I1LvCOIBEbDwsXlSSdiiTXXIm0mgMvC1VsDcKwfuU7GjhBKoO\n",
       "QlkmWM6XlWEHyDRgHfb+tCHhvWEOyhv7CFw4SUEBK2i7IRJAHKUcQCI6LPH3Sk3OeOUsOfFtfAZi\n",
       "JyrY4R4XfG7zmIodLZxA1UF8ggmW82VlN/m8lMlC3tGyPBYEmfn7KwZUc15VAwpihNXs1jIENVBx\n",
       "DkuiNpHPo//26hJUH4FWmeA/J9hf3UVne/i//eVhWirrQ1rnVk2QoHqUL2JwqvL15B+XAyrj9b8k\n",
       "iGleWu+A/8pvldFlm1ML4/wAAAAASUVORK5CYII=\n",
       "\" style=\"display:inline;vertical-align:middle;\" /></a><br>"
      ],
      "text/plain": [
       "a_sub: (x_{1}, ..x_{_a}.., x_{m}, y_{1}, ..y_{_a}.., y_{n - m}, y_{(n - m) + 1}, ..y_{(n - m) + k}.., y_{(n - m) + m}, z)"
      ]
     },
     "execution_count": 141,
     "metadata": {},
     "output_type": "execute_result"
    }
   ],
   "source": [
    "from proveit.numbers import subtract\n",
    "a_sub = ExprTuple(x_1_to_m, var_range(y, one, subtract(n, m)),\n",
    "                  ExprRange(k, IndexedVar(y, Add(subtract(n, m), k)),\n",
    "                            one, m), z)"
   ]
  },
  {
   "cell_type": "code",
   "execution_count": 142,
   "metadata": {},
   "outputs": [
    {
     "data": {
      "text/html": [
       "<strong id=\"b_sub\">b_sub:</strong> <a class=\"ProveItLink\" href=\"__pv_it/basic_expressions/70f79f1e69a4845b31ad2da4b76a156c26b12fc50/expr.ipynb\"><img src=\"data:image/png;base64,iVBORw0KGgoAAAANSUhEUgAAAaUAAAAaBAMAAADlF16JAAAAMFBMVEX///8iIiJERESYmJiqqqoQ\n",
       "EBB2dnbc3NyIiIhmZmbu7u4yMjJUVFS6urrMzMwAAADZVrDbAAAAAXRSTlMAQObYZgAAA9xJREFU\n",
       "WMPdV01oE0EU/pI02U2axIgK/oHBk0jBVanoQYlHi0LBg6IigV7Ei/HvoChZlUpSC60WpKX+rB6k\n",
       "omBARCUKQUSDgsRqsYdCgyIoIgYUlGrFmdnZZGezWSIVDzuHye7L9768b97kzRsAn+GiIbM5WnCT\n",
       "pghT06q5SRO66DToKknwkBRJU+7SJPcDgX53aZIqgD/hLk2YC6Q1l2k6B7S7TBK6gWHyMTIIaYcT\n",
       "rg4Qyqo43HyGbX8gZQMsVz16j59WnShDmafjeyxn07zSO2BSw1LykhyDXMHbxgQ6wDQCkU70WUDR\n",
       "ePP+lMIOuMWIOOmb78k5UV7DSnWRaLq6dojgv5TxgJSKxDC88Y9nG9cSBjBbDgVzbDXMkoZizfuT\n",
       "8dQOGeTJC2iBqUjKgRJ7sU97I5o0HCBzuoQFZFGwHbNUvGycZx1gdver+FF7DbPUx5r1p/1LNGmL\n",
       "LBgebA0aU0KzrinlXE6mWyXcp65TNGMvHbooBjCPSS36u/bmddZk9afhhsu2yLvGA1sDB0qY15SP\n",
       "Ceh5aqMZz9Fq4aCJAdZtyPRnXnDLMORO38CHrNxbbkKTxZ9q8oAZOKBKdcpwYWvgpImtqRBTC0vy\n",
       "lxQe0ZAKVJqDJgZYvxW7tF5uaSM235jifyYXmtBk8aea9oMathmaDKrNPDytD7LmRNlBik6PGNMm\n",
       "tqtJ3eumy1iIfGWaQj/Bp1s50wMDSCMxTOM8t1zApHL0BGaVgkmzJsGtxib465pGQQ1Gs1mlGtUd\n",
       "JhMrcNCGsvoW+eatSIoQU3RO15kSO3CJLISK2e96nmbTM2cx3RoF42EhOCCsRjtp58EsNzOXUyji\n",
       "PTwJPM/fyecVFgD7TvBnlGb/cD6/M3+b7v2wSk6E0aVkaAYVPukONzMjAwpsKNlEEKFiT3Y1hJiC\n",
       "aH+o9xH+Et/wTFNL/TnaYfwj/GU5LlXKhoUc1rtxEumosPc66vx1SrM/yxM5Df3lYNKoFAbVhBCD\n",
       "IyUdlpjouEd+jCT8OS2A2Gh/ENK9xQBpsiq+eJJZwrnQNG2Bi1gVMDS1xDi6/mwV/ZmmK6RCwfO6\n",
       "XO2mdao1QgwOlPowx8RPAbKdSe4wB8uAI0uKpCWpPzFoTWWACbSmpCcas3gUr0rvyXdxbC/XJJ39\n",
       "pepoS19k9ed1TyMGuat25dapLppjcKI0qnctJl5t6OZ8DIxnjS2g1Pn76FQDcEskc0moawJaHIrV\n",
       "X9ck299xcnUxNKBsBPLQX7rxD3ph79/B49Wp7p+izDSUNYzmH1x0pb+Ds6buld0312ccSVzohf/z\n",
       "aLG7a/TMlDXotisuH38A7qVM4ui7ZtUAAAAASUVORK5CYII=\n",
       "\" style=\"display:inline;vertical-align:middle;\" /></a><br>"
      ],
      "text/plain": [
       "b_sub: (y_{1}, ..y_{_a}.., y_{m}, y_{m + 1}, ..y_{m + k}.., y_{m + (n - m)}, x_{1}, ..x_{_a}.., x_{m}, z)"
      ]
     },
     "execution_count": 142,
     "metadata": {},
     "output_type": "execute_result"
    }
   ],
   "source": [
    "b_sub = ExprTuple(y_1_to_m, \n",
    "                  ExprRange(k, IndexedVar(y, Add(m, k)), \n",
    "                            one, subtract(n, m)),\n",
    "                  x_1_to_m, z)"
   ]
  },
  {
   "cell_type": "markdown",
   "metadata": {},
   "source": [
    "Now the `ExpRange` start and end indices line up: $1$ to $m$, $1$ to $n-m$, and $1$ to $m$, and the last entry is a singular element for both of them.  Now we can apply the map:"
   ]
  },
  {
   "cell_type": "code",
   "execution_count": 143,
   "metadata": {},
   "outputs": [
    {
     "data": {
      "text/html": [
       "<a class=\"ProveItLink\" href=\"__pv_it/basic_expressions/4432a6a10877df68e0894ff404f2f155e7a2dfde0/expr.ipynb\"><img src=\"data:image/png;base64,iVBORw0KGgoAAAANSUhEUgAAA9YAAAAaBAMAAACgBdnTAAAAMFBMVEX////MzMxUVFR2dna6uroQ\n",
       "EBCqqqqIiIgiIiJmZmYyMjJERETu7u6YmJjc3NwAAACgK8IjAAAAAXRSTlMAQObYZgAAB/tJREFU\n",
       "aN7tWm9oHEUUn7ts7v9dD7WIFskVwUCVct9KpcEjUBsI2lSKQlGJUmgLKkeLxmikMdiIYvU0QtvU\n",
       "6rVUqoeGo1/80DYuFUlshJ7Woq0oh6hEqiRKUQi1OP92Z2bz5mavd5yU9n24ZGfen9+8N/Pm7cwi\n",
       "dNXTTU3VFvY8B3KNaMu3Bn8YXRsUyDRVneVRd0ND2rpbg9/yqSNVqdX7VIPyoJo/fA8iVDWyxOzm\n",
       "zp0u9fGjhpS1VVqDv8sYEurJmZpKgkZnz/jBoqhJlP0PYqWRY0+T80RE8X0035i211qDXwU9o/Pk\n",
       "RE0liaLJzIQfLIqaWNX/IE4Z08qlJsc6XJCf5hpcdYOtwa+CntB4MlmorWUV/d0C5Vc65U3ygJpz\n",
       "9STBvDDlIaasrdDkWKfmpdGh1Q1qm0Mtwa+AhkOCPRkxLLLPDbGO+FuksprX6xhEos/gq/b+Zhd7\n",
       "o3J4Hmw0ufa3Bv+oMSTYk7Om0iFXO9az/rBIalLD9QzisMFXjSbZxbRfGl3DGTZabg3+/eaQHKYb\n",
       "ytT2n3coaBKDefSLLeUYfaxBeUJTe1DqYZFBhBqyt6idCGhwaLXBV2cVtDBplYP0tJwO++qVRqo/\n",
       "wn1NwA8u04GV61bBoElIrF2528QrGX1YjU5gsWzy5YhSg7VZfWgn+zdZrB1rUJ5Qdi0Kz7tPkpp4\n",
       "xduJgAaHzht8Na6ghQlUDiW6NPlZbwuT0aIrDfEH4DBI/rAu+cafQjpEEH2Gvsu/Kh5l0CdIKf7t\n",
       "PvG2wx7Ok0TfZrddsqoowDqJ0K94jMdYQ2i4dqyFvCCiItU/juLCnKQGb2G8cxlzzWJuRrR7q8FX\n",
       "xxy0MNk65W0Q92by05EWJrEYlwb5QzkVLB2L4s/An77xZ7WIgDGhNege+37RJoMepTwXXDz8YSva\n",
       "SBqIJwL7aDgSC6SzPY/+YQ2BeXR3qbSrVDqkuqpU+mBTqZQR8tK8XqBWHkJLxBAlNe053nnLXtp1\n",
       "uriImxLr7hCmZHIxHeJoNZkOgFLjxT1KZuxcTpiMZRxp+EX/XRUsHYviz9RFv/jhk4xoFR4Tjp8y\n",
       "vWXQG6nDj7t4+EMH66CesFjNNMJSAp6QFo91zXUt5AWN8OzVkZZj7ajBseadPaxUzSziRtQxPSzW\n",
       "tdfFKw5amAAoVHkAXEUJ0nU6J5W0BS4N86OTKlg2FtmfiYt+8d+ItIiCwJiQOr1l0DQk3TKebubJ\n",
       "UTcDWFJ9PE6KCtpgmXM4UjzpzsgiLxjYvqXkcN7Zo+NGZdd9PQZffeigrVUML1YeTGsPhuYkt8UK\n",
       "XFrDT4+FBFglo1p8XfvEv1x/VBWHOtTpLYMmIQnJaSTEZyPeyEP2ThS2lVgfRfEMa/BRmzH55IGb\n",
       "B8PbhUuwgqPo3FcDhYHli2sz2in7R+WW3GeqzY5ytMS80yP0aJVHGJdTOTrYXyCBqkr7dYZLRxiT\n",
       "10K4AsRa9mfgsk/8aFiPKC43cHoC14tDYlAyaFKbbePphhJ7OE/eadb3f0quI+RYv4XWV1hDNOvi\n",
       "osmf7q4LQrErn1xbab8rLAxEM9a/6JtH0AP2dlUNef2incq6Vrgl9425ptjeu+DuQsxXd3K0xLyz\n",
       "twk9WuWzlOtRx7MO9sc9JW2wzKVnGZPXAl0x3ljL/pTq8Nr4yamDDlFcbuB58u/4fKoiBiWDxiEJ\n",
       "7O56zq0b+cMYwXhyYOpARY31yYH3qqwhlhbJN+P8jAjFrvzvz6IluajY1hKdg5dTU8PoIg2XpIao\n",
       "JZ2Kf1RuyX0HhakR54ftQlvcF0uClpjn76iSHq3yXsrlnJS42HvZG69rkuwNFGsvY/JasMpArGV/\n",
       "Jvt84seatIjicoMzpKHBH6SRyqAxlCg6e1hMdfZwUDpQs5TzrHHeMO37jLQTLeVHgmKbDOYDfXT/\n",
       "mPaekZI31x4EcgdLpU2lj1l3YtiQA9mEHifm1yLrGKbjwqpeOa5Wgnn8XttLJGwX+62eIyi2LLF0\n",
       "NwItBIoyWJVYWiz7xE+uoGFEK0rvl0qVxe6leccZ6X7zGemwdFAuxTpYJPUjbWBnM19CwrZ60L4B\n",
       "PY/mxOnCClIbtqfD5dR8WlVzjnfK/lG5xVJhdx8J6FSJKcNVPUO7AY05xoUerfJlhCuaTXuwk5Ae\n",
       "kUZHaloqvQyBFqwMWJsJf8b84idv4zpEccC9npEeAUPivUWaVI87WKleiedZg/lOc1JctXSi78WR\n",
       "w270CbnmCeaT5ayqJl5lneycBODm7tuKfNxp4rRG0WLzLz3mXi45erTKp0lD5N60B/sZPGLlCHyM\n",
       "S08j0EJSAevJe8Sfp22f+EkC0yCisfa6V8Whgp6EDBFPOhfbqb1/uZnGGniTN8SN11iOPJ7iE+in\n",
       "NW77usE0mZWxaup2W1WTKLPO397ohLmZ+2j3pMk8zmEULTa/w/kcQ+jRKo/YuCHc5cX+Nl4VyqHH\n",
       "Ui6N+SEL0ZwMVr1mpP782i9+8lWDBhGNtde9Kg4V9IxuTdb+huhH89Wpn2+QVDXmb5Ccc7ik+cb0\n",
       "jrrvhIjyMHyViNNPRHmTDnI+DX9MBgvRi77xP4N0iOD3a/XqNG0KiQ9P/k9Ux1dKp65MOWghVGFJ\n",
       "U8pBxZqInjSATWZ944cDShD5iPUZdPVSHZMwVLgi5fdBPV/gNeGJ3Db+F+RPFAxgL/jHb1U0iDQ3\n",
       "YMpCLqNrgzZfkRT4heoQrpVs+CoL5A+bKq936sAPfrI75GswURtdp+sk0X9z1lFs3v9pKgAAAABJ\n",
       "RU5ErkJggg==\n",
       "\" style=\"display:inline;vertical-align:middle;\" /></a>"
      ],
      "text/plain": [
       "(x_{1} * y_{1}) + ..(x_{k} * y_{k}).. + (x_{m} * y_{m}) + (y_{1} * y_{m + 1}) + ..(y_{k} * y_{m + k}).. + (y_{n - m} * y_{m + (n - m)}) + (y_{(n - m) + 1} * x_{1}) + ..(y_{(n - m) + k} * x_{k}).. + (y_{(n - m) + m} * x_{m}) + (z * z)"
      ]
     },
     "execution_count": 143,
     "metadata": {},
     "output_type": "execute_result"
    }
   ],
   "source": [
    "a_required_len = Equals(Len(a_sub), a_len)\n",
    "b_required_len = Equals(Len(b_sub), a_len)\n",
    "dot_prod_map.apply(*a_sub.entries, *b_sub.entries, \n",
    "                   assumptions=[a_required_len, b_required_len],\n",
    "                   requirements=requirements)"
   ]
  },
  {
   "cell_type": "markdown",
   "metadata": {},
   "source": [
    "All of the variables that are indexed by the range parameter (which ranges from the start to the end) must be expanded together unless the indices of the expansion match with iteration indices, not just equal in length."
   ]
  },
  {
   "cell_type": "code",
   "execution_count": 144,
   "metadata": {},
   "outputs": [
    {
     "data": {
      "text/html": [
       "<strong id=\"dot_prod_map\">dot_prod_map:</strong> <a class=\"ProveItLink\" href=\"__pv_it/basic_expressions/a4db72152d12327f5f12fee55d660af565afb28e0/expr.ipynb\"><img src=\"data:image/png;base64,iVBORw0KGgoAAAANSUhEUgAAAWEAAAAVCAMAAACg5a+GAAAANlBMVEX///8oKCgNDQ1UVFTMzMx2\n",
       "dna6uroQEBCqqqqIiIgiIiJmZmYyMjJERETu7u6YmJjc3NwAAADzUGF5AAAAAXRSTlMAQObYZgAA\n",
       "AyFJREFUWMPFmVmCpCAMQJlRVBYR7n/ZQRYBTRRs6eGjYxeEvKQwQIoQQvRGurRFNwyOEG9gmgy1\n",
       "I73miVKtpFMb6j2PEHUwap35S0OkGakVJuMJUupeEVayemiEqIWR4qUh0ozUCpPxeLkJ0q1RVjkw\n",
       "QlTDmOXe0MKaX20GI7XDZDxOct0vwmpGOtjJaISohZmMujf08wjXx+UMk/HsUnPSsckJcadcIBGi\n",
       "GobyB0M/jnBDXCjHHbeSRV+1oILN6v3OC+nTFMly3yihIkQ1jBwYEwts6JsIN8TlApPxWLmGI8k0\n",
       "27dCmnL2hpbr24cxJDOJxHQpAh4hamGUkcr+0al7kx9HGEJJfiEwV8et5EtIGPuMwvs9tqfmQt/i\n",
       "RsmRCBO2ZssiQDzAJIXFZT7DUvfCP44whJL8ymkymKvjVs4+YQg3jLO3OQLRH83x+PePLJoxKXUG\n",
       "iHsYu1YOa9L9TyFD1M3OZyeGqjwKaTzFJdFcYTIeK8NM8+qGjW8jjOhnEeZlKpt4tjedIoxMxofi\n",
       "ADrlh6TM0Ddr+DEuB80Vpoywfxv8V7C4jyc2tCeJTJ+olPcnLEuMUhEsSzzDmC0sr6N76pMlML9A\n",
       "GMhxK31GV+4rGOR+labEqPYIJ30iyBTfIHSnKy9M5U73DLMnGJchj+5OOx3mFwgDOW5lOFasdv7N\n",
       "LnxKtPJZOiWa4+nmIekTZeMSF55I2akoo0wCO9vAMOd7v51stWNTt6C38bohRzQuKIVfEAzouJVh\n",
       "OSt7phv1wKYw677ojsx5pBzgIQzK9dOaBE83zvB4SsqFBGBOr4xgdDsiABm63NBwF2ANACXzC4YB\n",
       "HN/l5XaojPLdS02yAAeZWLarvRiht+YDBstOvvtiqM+t2TwdY8+OO3mpcCyS+CVOq446wGfj/Fnl\n",
       "54BBwhK6L4ZU+1aiHis/4/wwx8VxL9fTF6MGqv3WWcMFDWJrc1ExQmAwmHnf3aV6uWrML7SdHQ8S\n",
       "qzRXVfjBQTE5rr0q8M/B+KIwuGJ+4RwMXi/f/oo0TDrUSbbf+hVp+41fkZJf1Y534hro0LHi/P/a\n",
       "o1/IgH8Tcit9ANLWpAAAAABJRU5ErkJggg==\n",
       "\" style=\"display:inline;vertical-align:middle;\" /></a><br>"
      ],
      "text/plain": [
       "dot_prod_map: (a_{i}, ..a_{_a}.., a_{j}) -> ((a_{i} * b_{i}) + ..(a_{k} * b_{k}).. + (a_{j} * b_{j}))"
      ]
     },
     "execution_count": 144,
     "metadata": {},
     "output_type": "execute_result"
    }
   ],
   "source": [
    "b_k = IndexedVar(b, k)\n",
    "b_i_to_j = var_range(b, i, j)\n",
    "dot_prod_map = Lambda((a_i_to_j),\n",
    "                      Add(ExprRange(k, Mult(a_k, b_k), i, j)))"
   ]
  },
  {
   "cell_type": "code",
   "execution_count": 145,
   "metadata": {},
   "outputs": [
    {
     "name": "stdout",
     "output_type": "stream",
     "text": [
      "Expected LambdaApplicationError: Failure to apply (a_{i}, ..a_{_a}.., a_{j}) -> ((a_{i} * b_{i}) + ..(a_{k} * b_{k}).. + (a_{j} * b_{j})) to (x_{1}, ..x_{_a}.., x_{m}, y_{1}, ..y_{_a}.., y_{n - m}, y_{(n - m) + 1}, ..y_{(n - m) + k}.., y_{(n - m) + m}, z) assuming (|(x_{1}, ..x_{_a}.., x_{m}, y_{1}, ..y_{_a}.., y_{n - m}, y_{(n - m) + 1}, ..y_{(n - m) + k}.., y_{(n - m) + m}, z)| = |(i, ..k.., j)|,):\n",
      "Improper replacement: Improper replacement of (a_{i} * b_{i}), ..(a_{k} * b_{k}).., (a_{j} * b_{j}) via {(a_{i}, ..a_{_a}.., a_{j}): (x_{1}, ..x_{_a}.., x_{m}, y_{1}, ..y_{_a}.., y_{n - m}, y_{(n - m) + 1}, ..y_{(n - m) + k}.., y_{(n - m) + m}, z), a: {(a_{i}, ..a_{_a}.., a_{j})}}:\n",
      "ExprRange indices failed to match expansion which is necessary because not all of the indexed variables being indexed by the ExprRange parameter are being expanded (a is expanded but b is not): Unable to prove (1, ..k.., m, 1, ..k.., n - m, 1, ..k.., m, m + 1) = (i, ..k.., j) assuming {|(x_{1}, ..x_{_a}.., x_{m}, y_{1}, ..y_{_a}.., y_{n - m}, y_{(n - m) + 1}, ..y_{(n - m) + k}.., y_{(n - m) + m}, z)| = |(i, ..k.., j)|}:\n",
      "'conclude' method not implemented for proof automation. \n"
     ]
    }
   ],
   "source": [
    "try:\n",
    "    dot_prod_map.apply(*a_sub.entries, assumptions=[a_required_len],\n",
    "                       requirements=requirements)\n",
    "    assert False, \"Expecting a LambdaApplicationError error; should not make it to this point\"\n",
    "except LambdaApplicationError as e:\n",
    "    print(\"Expected LambdaApplicationError: %s\"%str(e))"
   ]
  },
  {
   "cell_type": "markdown",
   "metadata": {},
   "source": [
    "Let's try an example where the indices do match.  This time, we'll do it properly by proving the equivalences via proofs.  (This is using some advanced concepts to be discussed in later chapters, but we'll probably rearrange this anyway)."
   ]
  },
  {
   "cell_type": "code",
   "execution_count": 146,
   "metadata": {},
   "outputs": [
    {
     "data": {
      "text/html": [
       "<strong id=\"a_i_to_j__partition\">a_i_to_j__partition:</strong> <span style=\"font-size:20px;\"><a class=\"ProveItLink\" href=\"../packages/proveit/core_expr_types/tuples/__pv_it/theorems/206f454f40c180c01b531b28d4c1a21e14f50ba80/expr.ipynb\"><img src=\"data:image/png;base64,iVBORw0KGgoAAAANSUhEUgAAAGEAAAAUBAMAAABvx07iAAAAMFBMVEX////MzMxUVFR2dna6uroQ\n",
       "EBCqqqqIiIgiIiJmZmYyMjJERETu7u6YmJjc3NwAAACgK8IjAAAAAXRSTlMAQObYZgAAAXlJREFU\n",
       "KM9jYOC7wIAV5DHgAqdBROoBNFFtBqYHqCKnfu86wGD61YGBYR2IewndHF0GngVoQnsZFRh4PjAw\n",
       "8E7AZbk5Gl9DoJyBIYCBgeMBLh1HIRTvjo4uMENlD5MAQwMDwwucHuRyAJGM22Fe1BPiWQPSUQlk\n",
       "85RvQFXMU1nAwMAMdu8peJjosRUIgXTsBbI5GWJRdTCzAN3LC/a6HlxQj8GEtwCoow3IvsfwDVXH\n",
       "M06garYGEHMDkg6mA4pAsRAg+wDLH7ADVoHAQpAAP9BVjB9A3ogCiUF18ChwBUB0MDA3oPk6/wBU\n",
       "Bx+yHQzCjAEQVzFwoUfKJiBmARsTgKyDN2EDxOcM5xPQwuobM8zn0+GCikBsB9RhCXMEMmD58BYY\n",
       "ggYgJgfcsGWgUAWa4gHizMBIVsAEzSUAtk7bByIk8RVoPiixgVNJJ7Y4PwG1zxqaSmAAmBJl+D4S\n",
       "kxLhYB/fZ25s6RcjtSPlKPW52MS5cSZqXLn2Hg71AH9rWW4xX2XsAAAAAElFTkSuQmCC\n",
       "\" style=\"display:inline;vertical-align:middle;\" /></a> <a class=\"ProveItLink\" href=\"__pv_it/basic_expressions/cae3b93b26196758cf77ccd73c648e5a420dbf3e0/proof.ipynb\" style=\"text-decoration: none\">&nbsp;&#x22A2;&nbsp;&nbsp;</a><a class=\"ProveItLink\" href=\"__pv_it/basic_expressions/846bb081bc435e2f6bede90497c0e50e010fd3220/expr.ipynb\"><img src=\"data:image/png;base64,iVBORw0KGgoAAAANSUhEUgAAAREAAAAVBAMAAACTXMcfAAAAMFBMVEX///9UVFTMzMx2dna6uroQ\n",
       "EBCqqqqIiIgiIiJmZmYyMjJERETu7u6YmJjc3NwAAAC+aOQFAAAAAXRSTlMAQObYZgAAAj9JREFU\n",
       "SMetVj1IHEEU/nTPy/3sXuyEFGKTQgLJWoU0YiNJJRYpFa4UkeQIacRmbcQiJAcWSXkcVhZilyKJ\n",
       "nIIxGMhdq0XYdEkRsBaLvDd7uzM7c3s4cR/s3tv3zffum/8H1Hq4sRVDM/YXOdgLfn23YUwaEfcg\n",
       "DyUj3MV9G8aZEamEeShxW4DXtGE4DT1yjlzsMVCy6pO7qEfe5qPkBPhtx9jVvmtBPkoqc1jndDvv\n",
       "l4Y1U/AnGnSnacfPApwmvtDPfFi5hNA02CIcbXouBG1PGIuo9uz4wh6YgNfCFk3+Msq0Fx9mLo4I\n",
       "R52eFQ0r1e34bNMfTKAY4DlQvkapMWRwVfyRho3N2fGFPTOB0UtWMnaA7tSQTCo+SIkNP6VEAUgJ\n",
       "zU7Xx0vg6XhWpgh31+txkv46Ge/Pjg0/pUQBCgGv2G4d94qhf52ZSeDlQitesYrxirXhp5VIgFYs\n",
       "bctqw9t0al8DuFcMU1w4yZfA8cPhTu/oh25T4XNjyU8clR8r0YGyL6ITr369pjCw3aHxZsIm+q/S\n",
       "mxiPNmxbU0KjKvncWPKFwxkTfuET2edoTFIAnWxT8rTvHtNe6hhDu5Z4d6mlG2Se9sxfM+uIToov\n",
       "Z0cDvik34KpDY21Osp9494ffgMz3zSsTKX5kKyZANyAO+99Hs8CpeSrJv94YWBVUQ8l3zVNFybgR\n",
       "O3/eTegAVwWpSsks3zzpflRkD66UPHNIe2l+FiD6c8PqcWSB7irv/6tHwc8EftrUdzO3K84y+THw\n",
       "Dzthzy2QAjtQAAAAAElFTkSuQmCC\n",
       "\" style=\"display:inline;vertical-align:middle;\" /></a></span><br>"
      ],
      "text/plain": [
       "a_i_to_j__partition: {(j - i) in Natural} |- (a_{i}, ..a_{_a}.., a_{j}) = (a_{i}, ..a_{_a}.., a_{j - 1}, a_{j})"
      ]
     },
     "execution_count": 146,
     "metadata": {},
     "output_type": "execute_result"
    }
   ],
   "source": [
    "from proveit.numbers import subtract, Natural\n",
    "j_m_1 = subtract(j, one)\n",
    "j_m_i = subtract(j, i)\n",
    "j_m_i__in__Natural = InSet(j_m_i, Natural)\n",
    "a_i_to_j__partition = \\\n",
    "    a_i_to_j.partition(j_m_1, [j_m_i__in__Natural])"
   ]
  },
  {
   "cell_type": "code",
   "execution_count": 147,
   "metadata": {},
   "outputs": [
    {
     "data": {
      "text/html": [
       "<span style=\"font-size:20px;\"><a class=\"ProveItLink\" href=\"../packages/proveit/core_expr_types/tuples/__pv_it/theorems/206f454f40c180c01b531b28d4c1a21e14f50ba80/expr.ipynb\"><img src=\"data:image/png;base64,iVBORw0KGgoAAAANSUhEUgAAAGEAAAAUBAMAAABvx07iAAAAMFBMVEX////MzMxUVFR2dna6uroQ\n",
       "EBCqqqqIiIgiIiJmZmYyMjJERETu7u6YmJjc3NwAAACgK8IjAAAAAXRSTlMAQObYZgAAAXlJREFU\n",
       "KM9jYOC7wIAV5DHgAqdBROoBNFFtBqYHqCKnfu86wGD61YGBYR2IewndHF0GngVoQnsZFRh4PjAw\n",
       "8E7AZbk5Gl9DoJyBIYCBgeMBLh1HIRTvjo4uMENlD5MAQwMDwwucHuRyAJGM22Fe1BPiWQPSUQlk\n",
       "85RvQFXMU1nAwMAMdu8peJjosRUIgXTsBbI5GWJRdTCzAN3LC/a6HlxQj8GEtwCoow3IvsfwDVXH\n",
       "M06garYGEHMDkg6mA4pAsRAg+wDLH7ADVoHAQpAAP9BVjB9A3ogCiUF18ChwBUB0MDA3oPk6/wBU\n",
       "Bx+yHQzCjAEQVzFwoUfKJiBmARsTgKyDN2EDxOcM5xPQwuobM8zn0+GCikBsB9RhCXMEMmD58BYY\n",
       "ggYgJgfcsGWgUAWa4gHizMBIVsAEzSUAtk7bByIk8RVoPiixgVNJJ7Y4PwG1zxqaSmAAmBJl+D4S\n",
       "kxLhYB/fZ25s6RcjtSPlKPW52MS5cSZqXLn2Hg71AH9rWW4xX2XsAAAAAElFTkSuQmCC\n",
       "\" style=\"display:inline;vertical-align:middle;\" /></a> <a class=\"ProveItLink\" href=\"__pv_it/basic_expressions/4a8760c454f07fd4ccb8c29c1968db53bf2678cb0/proof.ipynb\" style=\"text-decoration: none\">&nbsp;&#x22A2;&nbsp;&nbsp;</a><a class=\"ProveItLink\" href=\"__pv_it/basic_expressions/45ae36fbb9a63fd607e47f73aa306f638ab9272e0/expr.ipynb\"><img src=\"data:image/png;base64,iVBORw0KGgoAAAANSUhEUgAAATcAAAAWBAMAAABXi8YmAAAAMFBMVEX///9UVFQQEBCqqqoiIiJm\n",
       "ZmYyMjJERESYmJjc3NyIiIi6urp2dnbu7u7MzMwAAAADGpxCAAAAAXRSTlMAQObYZgAAAjZJREFU\n",
       "SMetljtIA0EQhkfNS3OnVoJWloIIFkGwEBO0FVNYiUUsFEQQO40gWAl2J8Q+jVgIIUgarWKhoDa+\n",
       "ULQwIohYiKnsBCe38bJ7d3O5CRlIGO7f/fdjnwNf0Fh0Xts+NGrkNcKVmbRv+e80av5redtnvhEZ\n",
       "bUZ1BOH5yOjaYnjAPTZl0noVuCVGTz3lAbfUFLgHGS6S5HS9pOF4RmRoWQkuYHC63tJwPCN6cfol\n",
       "uAyrayhPwmWadFKXJbj9yjmbmx3yal/TtSQJxzOihTMJbh1/R0aoLNzdQ+iwghsrZcGdL1ZiwYLj\n",
       "GYn4cBG2JbgJXOYBCK4CfJLbQOgwjNdQnJw5npEZ7zMuQkyCGwQI/kIg67EYkt5ZJuF4RiIKLsK3\n",
       "Cte6CqVXD09J94ZjGKlwsvCtLmupCOMAJ92Up9D1fZz0aNy25+blZWUYqXCyUFAPRGkYetqM4i/p\n",
       "aerBaEo5EPaZ4xnZ4CRBPhB4csPZSEJrv4uD/lNpiC2sxPwzdXjScEaCRRKOZ1SDswtzEhzqel9u\n",
       "9xAbAExiMRSotEhANQlM/esQxqoj9ErCcYyiaxibAs42gnmdOJ6v0gveFNeOpRizsi5see/j+fJl\n",
       "JC2rKuhxt4d/RMOPzn1StLI3nw+/LyMRMaegPPyQrio3FwDPznuzdi8d1CmZOEYi9qb7HMIDWWw6\n",
       "a9lILd3ATeG32KxnRAvp6gg5TnXdcowv846ZdtgvWr4RKUQM1xHqeZ42p16jjRThD0FVCjXQW7AK\n",
       "AAAAAElFTkSuQmCC\n",
       "\" style=\"display:inline;vertical-align:middle;\" /></a></span>"
      ],
      "text/plain": [
       "{(j - i) in Natural} |- |(a_{i}, ..a_{_a}.., a_{j})| = |(a_{i}, ..a_{_a}.., a_{j - 1}, a_{j})|"
      ]
     },
     "execution_count": 147,
     "metadata": {},
     "output_type": "execute_result"
    }
   ],
   "source": [
    "a_i_to_j__partition.substitution(Lambda(x, Len(x)))"
   ]
  },
  {
   "cell_type": "code",
   "execution_count": 148,
   "metadata": {},
   "outputs": [
    {
     "data": {
      "text/html": [
       "<strong id=\"i_to_j\">i_to_j:</strong> <a class=\"ProveItLink\" href=\"__pv_it/basic_expressions/3a2a3a3dd71d2a59b6184ce5403e7386b1de8d830/expr.ipynb\"><img src=\"data:image/png;base64,iVBORw0KGgoAAAANSUhEUgAAAD4AAAASBAMAAADxgXA6AAAAMFBMVEX////MzMwiIiIyMjKqqqrc\n",
       "3NwQEBC6urp2dnZmZmaIiIju7u6YmJhERERUVFQAAAAbNDIbAAAAAXRSTlMAQObYZgAAAKZJREFU\n",
       "KM9jYGB4y4ATsGQDiTe45XkeMNAacK9cgFNu11oGBg72BJzyE9gOMIRwGuB0fQC/A8MGfpzmczPU\n",
       "b2Bg8N+A23FNQHwPj+MtgYZ84cDtty8MDOwfYhj2g5wIIrg/IzMYWH6Dgv8AA5M2kGYChbUejKEE\n",
       "chWnAtQgb8yYA8kzTYDyGjDkgY5i3BAvAHUHZhDsYmCIb7gJCyhMpx9gYOBbCSQA60skns1oZogA\n",
       "AAAASUVORK5CYII=\n",
       "\" style=\"display:inline;vertical-align:middle;\" /></a><br>"
      ],
      "text/plain": [
       "i_to_j: i, ..k.., j"
      ]
     },
     "execution_count": 148,
     "metadata": {},
     "output_type": "execute_result"
    }
   ],
   "source": [
    "i_to_j = ExprRange(k, k, i, j)"
   ]
  },
  {
   "cell_type": "code",
   "execution_count": 149,
   "metadata": {},
   "outputs": [
    {
     "data": {
      "text/html": [
       "<strong id=\"i_to_j__partition\">i_to_j__partition:</strong> <span style=\"font-size:20px;\"><a class=\"ProveItLink\" href=\"../packages/proveit/core_expr_types/tuples/__pv_it/theorems/206f454f40c180c01b531b28d4c1a21e14f50ba80/expr.ipynb\"><img src=\"data:image/png;base64,iVBORw0KGgoAAAANSUhEUgAAAGEAAAAUBAMAAABvx07iAAAAMFBMVEX////MzMxUVFR2dna6uroQ\n",
       "EBCqqqqIiIgiIiJmZmYyMjJERETu7u6YmJjc3NwAAACgK8IjAAAAAXRSTlMAQObYZgAAAXlJREFU\n",
       "KM9jYOC7wIAV5DHgAqdBROoBNFFtBqYHqCKnfu86wGD61YGBYR2IewndHF0GngVoQnsZFRh4PjAw\n",
       "8E7AZbk5Gl9DoJyBIYCBgeMBLh1HIRTvjo4uMENlD5MAQwMDwwucHuRyAJGM22Fe1BPiWQPSUQlk\n",
       "85RvQFXMU1nAwMAMdu8peJjosRUIgXTsBbI5GWJRdTCzAN3LC/a6HlxQj8GEtwCoow3IvsfwDVXH\n",
       "M06garYGEHMDkg6mA4pAsRAg+wDLH7ADVoHAQpAAP9BVjB9A3ogCiUF18ChwBUB0MDA3oPk6/wBU\n",
       "Bx+yHQzCjAEQVzFwoUfKJiBmARsTgKyDN2EDxOcM5xPQwuobM8zn0+GCikBsB9RhCXMEMmD58BYY\n",
       "ggYgJgfcsGWgUAWa4gHizMBIVsAEzSUAtk7bByIk8RVoPiixgVNJJ7Y4PwG1zxqaSmAAmBJl+D4S\n",
       "kxLhYB/fZ25s6RcjtSPlKPW52MS5cSZqXLn2Hg71AH9rWW4xX2XsAAAAAElFTkSuQmCC\n",
       "\" style=\"display:inline;vertical-align:middle;\" /></a> <a class=\"ProveItLink\" href=\"__pv_it/basic_expressions/3cca4d75acc20729497550e25f68fadc661a16590/proof.ipynb\" style=\"text-decoration: none\">&nbsp;&#x22A2;&nbsp;&nbsp;</a><a class=\"ProveItLink\" href=\"__pv_it/basic_expressions/08cfea1ab02e5aca390597e53d995a81a07b5ea90/expr.ipynb\"><img src=\"data:image/png;base64,iVBORw0KGgoAAAANSUhEUgAAAO0AAAAUBAMAAACT/qdtAAAAMFBMVEX////MzMxUVFR2dna6uroQ\n",
       "EBCqqqqIiIgiIiJmZmYyMjJERETu7u6YmJjc3NwAAACgK8IjAAAAAXRSTlMAQObYZgAAAkdJREFU\n",
       "SMetVjFLHEEUfrd3XvZu1z1/gIVgkSKI18WksgmkO4uUSrZJJ4mdHBYeFqIgQdIkCIKxuxQidhYJ\n",
       "28hJLG5JlyJmq5BGvBC4gFzhe29vvbuZeXuKGZhleW/m+5bvffNmAbwQhozXhtgF3GMw4BnORymL\n",
       "XgVWpAXdQwDrUN6Un09LMeABzqkU3m/g7mnBIu60UoQandC+vi9FgKPbw3V5rEW+301Yd3I6UADt\n",
       "aPi2Ey3y9q4l/RkogL9vsak4qwS82v14EbCKKlSXZIWW0T1ZtRYPMNB4L7M0VkReTiHgZ3zm5kSE\n",
       "AiygB9hYTz/RqNOrg5YqP5N5t0dCiZdTCLgO8KuwJyKcQxutr8pq++D5O7Kbo5Iv8MYpBHwBEJRk\n",
       "nYNcByDTUqIjs+DCP7k4UCGaryzQxwHeOIWAyAtvAlmybM3MC/lOio1mZF9RCgFRZzhK8zJaKFfr\n",
       "1Xe/qzM4Eym76jIvpRAQfeW2szJC00981TfIV02/LAvdFnk5hYBPkL11AU2Cpod71f8S16CgMtDB\n",
       "qnghLxncwDiGGqwGXUBOIeBzas8h2FskH0m3lrxs8Cd+IK3HFBQS3vrRXbI2sHOLT596AN69rIfx\n",
       "ak4hYNInF/WLg3k3cZ5KfTKvG5JxbGPT59WcOu3dC3qxqOjj3p+0e8HgC8TJBJdjxqNxkyLAL3G5\n",
       "9SPcwD7818HPMtyDTpQsUR2FOJflY3P3TFIMeBb3EX0ZtbqHuz0S9d7vLlFaFU6rar6ZwyTFgMP/\n",
       "c87/938OAl4D5I2xz2PuajAAAAAASUVORK5CYII=\n",
       "\" style=\"display:inline;vertical-align:middle;\" /></a></span><br>"
      ],
      "text/plain": [
       "i_to_j__partition: {(j - i) in Natural} |- (i, ..a.., j) = (i, ..a.., j - 1, j)"
      ]
     },
     "execution_count": 149,
     "metadata": {},
     "output_type": "execute_result"
    }
   ],
   "source": [
    "i_to_j__partition = i_to_j.partition(j_m_1, [j_m_i__in__Natural])"
   ]
  },
  {
   "cell_type": "code",
   "execution_count": 150,
   "metadata": {},
   "outputs": [
    {
     "data": {
      "text/html": [
       "<span style=\"font-size:20px;\"><a class=\"ProveItLink\" href=\"../packages/proveit/core_expr_types/tuples/__pv_it/theorems/206f454f40c180c01b531b28d4c1a21e14f50ba80/expr.ipynb\"><img src=\"data:image/png;base64,iVBORw0KGgoAAAANSUhEUgAAAGEAAAAUBAMAAABvx07iAAAAMFBMVEX////MzMxUVFR2dna6uroQ\n",
       "EBCqqqqIiIgiIiJmZmYyMjJERETu7u6YmJjc3NwAAACgK8IjAAAAAXRSTlMAQObYZgAAAXlJREFU\n",
       "KM9jYOC7wIAV5DHgAqdBROoBNFFtBqYHqCKnfu86wGD61YGBYR2IewndHF0GngVoQnsZFRh4PjAw\n",
       "8E7AZbk5Gl9DoJyBIYCBgeMBLh1HIRTvjo4uMENlD5MAQwMDwwucHuRyAJGM22Fe1BPiWQPSUQlk\n",
       "85RvQFXMU1nAwMAMdu8peJjosRUIgXTsBbI5GWJRdTCzAN3LC/a6HlxQj8GEtwCoow3IvsfwDVXH\n",
       "M06garYGEHMDkg6mA4pAsRAg+wDLH7ADVoHAQpAAP9BVjB9A3ogCiUF18ChwBUB0MDA3oPk6/wBU\n",
       "Bx+yHQzCjAEQVzFwoUfKJiBmARsTgKyDN2EDxOcM5xPQwuobM8zn0+GCikBsB9RhCXMEMmD58BYY\n",
       "ggYgJgfcsGWgUAWa4gHizMBIVsAEzSUAtk7bByIk8RVoPiixgVNJJ7Y4PwG1zxqaSmAAmBJl+D4S\n",
       "kxLhYB/fZ25s6RcjtSPlKPW52MS5cSZqXLn2Hg71AH9rWW4xX2XsAAAAAElFTkSuQmCC\n",
       "\" style=\"display:inline;vertical-align:middle;\" /></a> <a class=\"ProveItLink\" href=\"__pv_it/basic_expressions/8a12bcaea9414243bd3ec5f332bf9a2bae6722770/proof.ipynb\" style=\"text-decoration: none\">&nbsp;&#x22A2;&nbsp;&nbsp;</a><a class=\"ProveItLink\" href=\"__pv_it/basic_expressions/b6822886c93ad4b101f098b6bc6d32b8c39062690/expr.ipynb\"><img src=\"data:image/png;base64,iVBORw0KGgoAAAANSUhEUgAAARIAAAAVBAMAAAB4a3wcAAAAMFBMVEX///9UVFQQEBCqqqoiIiJm\n",
       "ZmYyMjJERESYmJjc3NyIiIi6urp2dnbu7u7MzMwAAAADGpxCAAAAAXRSTlMAQObYZgAAAjBJREFU\n",
       "SMetlr9Lw0AUx1+t2sY2Wlz8MTkKIhRxFSvq4CA4iBRxqIOCCKKbbnVQdBN0cOzi4iAi7tZBF5e6\n",
       "KLjUf6AoFDqIFd9LmnqX3rtLqQe5C+F9P/nm3bvLQQmaaf7o7gL8UyvBkzOemwLDJ87w5Hscv6be\n",
       "yrZgoU522PY2QGibjx4rwIDGyStefaCVByA77E70FdJ82D7Ai8bJBl79oJXLaRhVkR32gTmJ8Rzr\n",
       "JLrQ3Hw831dVZIc9Z5bbQ6yT9pMmSyNaVZGJbaUCyDdZJ2fQkhOPTOwuTO/bMp+OSyrmB9bJBYZc\n",
       "5AxypROJTOwIFmv+hkV1wDD2h3Unj+vU1upOdnGMDRnkSicSmdjtSbCSSyzqGMrYj7M5mQY47cgY\n",
       "5EonEpnYbddgwxeLKsRI+cE6GcGQnpxBbjuJXH+XnEjkmhMIVzUrOGVyApMFg1xdsSK5NjsQSfCo\n",
       "Ttowbn11sirODuyAQa52IpK9ii0m8yyqmJQq1p8TrFi7HAe9XO1EJBM7js7urKxdofmkrpgRbmqp\n",
       "X2Gd4CqMfZ67sbJSkIutq6oiEzuGsxU6Apih51M0XQnvZp6iFqnbYp1QdvuzbuyfMiHLxWXdW0kr\n",
       "yOJuH24suwnqZilXKeNuPwG8HMxk8Q+omGssnpL1E+wPmNfIA5AddsT9qrfGnToH1neE3qQ7Fex5\n",
       "sbw8ALl+UsLWeEKJ4jWY/nsbf1JyY1l5APJVsNNj1M3alX8VvLd8evTIvz9H1o903GmDAAAAAElF\n",
       "TkSuQmCC\n",
       "\" style=\"display:inline;vertical-align:middle;\" /></a></span>"
      ],
      "text/plain": [
       "{(j - i) in Natural} |- |(i, ..a.., j)| = |(i, ..a.., j - 1, j)|"
      ]
     },
     "execution_count": 150,
     "metadata": {},
     "output_type": "execute_result"
    }
   ],
   "source": [
    "i_to_j__partition.substitution(Lambda(x, Len(x)))"
   ]
  },
  {
   "cell_type": "code",
   "execution_count": 151,
   "metadata": {},
   "outputs": [
    {
     "data": {
      "text/html": [
       "<strong id=\"a_sub\">a_sub:</strong> <a class=\"ProveItLink\" href=\"__pv_it/basic_expressions/7872ce37dd4aa34d584ca53c5b6e45069f772d250/expr.ipynb\"><img src=\"data:image/png;base64,iVBORw0KGgoAAAANSUhEUgAAAJIAAAAVBAMAAABf4KrdAAAAMFBMVEX///9UVFTMzMx2dna6uroQ\n",
       "EBCqqqqIiIgiIiJmZmYyMjJERETu7u6YmJjc3NwAAAC+aOQFAAAAAXRSTlMAQObYZgAAAW5JREFU\n",
       "OMtjYOC7wEA5YHsAJE4zUAPIAfE6qph0ioGBdwJVTGIuYOB4QBWTeAIYXjBQByxhqASSfJOnx+BT\n",
       "hVMeScKSYS+QdH3A9YEBbCZ2AJFnWATja2ORuMXQBvRjLAPnBgYGPZxhAJFnSIDyNWdgkchgCGFg\n",
       "4PzDwFGAx3MY8h5YJPRBJrFuYDivgMckDHkPLBL6IN+dN2DIZ2BwF8BlEkSepzIB3SRkCQ9QiJ9P\n",
       "YJBie2DwB6dJYHlOlgUYJiFJ3ALGHgN3AW8jM9+xBgaeXyBpoDicASbA8gznmAWQTUKXmAwS5REv\n",
       "elgCFGZg6DjAwMABEm9kgDI4emDyDNwXWHYDwR6ISSgS4JQAzy3nDwELhwMYXsuBs/gfoPgOVYKn\n",
       "AZGDs5iB+RAzkAzgLFU4KwNTApiDGfZB+QftGBiOY6ZKREKqhjFe9otjSJxCK+kwi09eBHM7PgmQ\n",
       "e4gsfRn9YvBI8JJQNjEaPsAvAQAyCXMP2ZRf7AAAAABJRU5ErkJggg==\n",
       "\" style=\"display:inline;vertical-align:middle;\" /></a><br>"
      ],
      "text/plain": [
       "a_sub: (a_{i}, ..a_{_a}.., a_{j - 1}, a_{j})"
      ]
     },
     "execution_count": 151,
     "metadata": {},
     "output_type": "execute_result"
    }
   ],
   "source": [
    "a_sub = a_i_to_j__partition.rhs"
   ]
  },
  {
   "cell_type": "markdown",
   "metadata": {},
   "source": [
    "Now, with sufficient assumptions, we can explicitly do the expansion for just the $a$ variable, but the $b$ variable will be forced to split at the same locations."
   ]
  },
  {
   "cell_type": "code",
   "execution_count": 152,
   "metadata": {},
   "outputs": [
    {
     "data": {
      "text/html": [
       "<strong id=\"assumptions\">assumptions:</strong> <a class=\"ProveItLink\" href=\"__pv_it/basic_expressions/970c160bece8143ef12c09a615484ff2d9449c820/expr.ipynb\"><img src=\"data:image/png;base64,iVBORw0KGgoAAAANSUhEUgAAAdkAAAAWBAMAAAB+oPvkAAAAMFBMVEX///9UVFTMzMx2dna6uroQ\n",
       "EBCqqqqIiIgiIiJmZmYyMjJERETu7u6YmJjc3NwAAAC+aOQFAAAAAXRSTlMAQObYZgAABIJJREFU\n",
       "WMO1WE1oVFcUPjNvMs7PmySokNKSMFIES0sZ4YlmIwEpiIvWhbu2kqULMWNokWAXk43NorQDggou\n",
       "fLgoVMSOUKhtjTwXkqBQZ2kphNeFElFJsOiiDaXn3nvue2fm3fsyKa8HHF++c85373fveffnAaC9\n",
       "BxlbPugDttZC5v2JbbgLnnx4kQXbKfnrTPXBnm5qoHRv0I6ncFjwB8TudrJQmwtT1GJT8JY9t/gJ\n",
       "pXsM4Xb/758D2PeKyB8YIgS/4khmSfwGsVfCLNS6fopabArG7bm1UUr3GNJji3kMWac/bpgikF9x\n",
       "JLMEXmsT+2/ZvBj77WpFUwOlWyv5jfoZgKM0Eu1UDkMW4qWQ2L/ORu09u9pSOGB6Qu3vCwtywnbe\n",
       "ztWhpTA72z1LFuKrxD7cykZtZcqqdnXQ9H61735BDxO73Ota7Wo6hyEL8Tli3yYK4+nk50FaX6z+\n",
       "4fMXablw2la12JQ717SSL53V6R5HMOm6DpkoNndptXMsIl42BL/kMGQhvkjsVVzPC8fhe9JtNOWH\n",
       "Sj0adP3wQVgRi8dVfJ18rda5Jq0dqcWmnMJRq9r2UJfSPY4AW2QnwKs1Se0ii4hM8ksOQxbi54i9\n",
       "NI2F3YXLeDSwvxDSD0X99zuX9JB+CmWxgSFHsWWdW2zqSdm3rsjhiE73OIITAXG/c8F2UnuORUQm\n",
       "+SWHIQvxY8Q+hB28EsCXaYWc8B+m/8sbUKISza9b1WJTwYi1kl34KKB0jyMAu0WJ+Krf7miFquNY\n",
       "HHFfFhEWluKXHIYsxLnaj8F9maY24ddqhzrwsD6IWphJWRcOQK9ahQA8Y7MEb+eZWh0R24weMUMW\n",
       "4qyS3T+huA6F09bRl35YupBQ+7ABM2KJwLIqtPre21FeyXAzZTC/A0r3OIJjyftdm+7ElawjYrup\n",
       "OQxZiLNVyn0NOf+UM2IbfuWH9pGk2ml4sxiWCz5fpRJzuygoHPsx7DX0rVISwfckqv7t+O9gh61S\n",
       "FME4HL1KJbMQnyR2sWz/CI9GG89PYO9FvPhx/+IP0u+Ge7la6ag2a/MO/OrgPJYbVrXYVGH9hYFX\n",
       "/kBxAyjd40g0jWjfighfdW+SR0S7BvIrjmSWwA9TX8T03z3z/tgUaoLSV6K2RQ3O64eFQPtxVAu/\n",
       "oN1Wcysc7tjsH5+pXUxuT2a1Inq8q8jneQOSA8otvbt5HEG7+4Mqtz2vOvIkLhlkXZX7z0Tj3WiH\n",
       "7M8SeOLk6G5g8MnkBSWu7396Kpk5RpBrefOTo4W8JHbmZYqOEWGHbi307FwnNVvJdDZYtmQtG24F\n",
       "RR8LoZGgiN+3fHxAONHjgN2D3QqM5Plgrc5uBTFisoZis0TsT7kt3KG+VGnk3R0huMldcSl62hZd\n",
       "hJ9+M8YdcHaTG98d1YCRfK3xU3Rh9BhiXM+ais0c4fopl1HTbb6WjI1PaNWmxSHe+Opmt3kbeW6u\n",
       "Gw25xxDjsYvYzBFVy1lQ4sNdmN3Kl5qdjy07VO5DvBisqOnvL7DZAb/UrLDo//qlZgW2hqfajgnb\n",
       "R5q9mXz9+D/tXw9ogil6pn45AAAAAElFTkSuQmCC\n",
       "\" style=\"display:inline;vertical-align:middle;\" /></a><br>"
      ],
      "text/plain": [
       "assumptions: (|(a_{i}, ..a_{_a}.., a_{j - 1}, a_{j})| = |(i, ..k.., j)|, j in Natural, (j - i) in Natural)"
      ]
     },
     "execution_count": 152,
     "metadata": {},
     "output_type": "execute_result"
    }
   ],
   "source": [
    "a_required_len = Equals(Len(a_sub), a_len)\n",
    "assumptions = [a_required_len, InSet(j, Natural), j_m_i__in__Natural]"
   ]
  },
  {
   "cell_type": "code",
   "execution_count": 153,
   "metadata": {},
   "outputs": [
    {
     "data": {
      "text/html": [
       "<a class=\"ProveItLink\" href=\"__pv_it/basic_expressions/8441fd93f3060b04bd650af6e4053e763ab1a33d0/expr.ipynb\"><img src=\"data:image/png;base64,iVBORw0KGgoAAAANSUhEUgAAAVUAAAAVBAMAAAAEDWDFAAAAMFBMVEX///9UVFTMzMx2dna6uroQ\n",
       "EBCqqqqIiIgiIiJmZmYyMjJERETu7u6YmJjc3NwAAAC+aOQFAAAAAXRSTlMAQObYZgAAA0lJREFU\n",
       "SMedV0toFEEQrd3ZbPYzyS5ECAiKF69hc9IISi6iKBgPHsQfe1M8JPFHCF42B/UmC0Li5+DEkw4S\n",
       "c5EgokyEaCTi7FEvYTwIERT8EUHWYNX0fLY/MzubPmxvdb1+/bqmuqcGoLcBUW0UErcYluTk39rB\n",
       "V+TxleOsTzmJV16J9epPa9KYTK7PR0th8DkF9yNvspFY61y8u1CX9UvkBSdaigvvqSsA616/y+uz\n",
       "4xEaznq9kqWllarymET+EWKkEDyn2Eym6f1ZSqo11yZbRix5TCK/CTFSCL6mAGh+dhWGE2pda5Mi\n",
       "u1V5IZD31uKkEHySULdmTnEs/ZPsmWn1hFpVLK1tdmJaliGQd5P9ZeiKpZRC8BfY7XcK39l6rNmP\n",
       "9Q13ao+RUGvIAg98Xzo81vpfy3ZEl0hexGsvcwaekMIdnBTXRvh1ZDoNeZw84LLSz5gFfyCN5Nla\n",
       "Qq0hC/inKH2HTaYwZZtQGhddInkO3UsNuEdDvBTXRvgxgHwTcr4YmzZ7F/RfjJQCpZnmwxOmWZaE\n",
       "7jHNa6Y5S38FFnYsaiyk+JM3wK6ILpG8C/P3vgU3QCmF4LhK1zzYftBzZfdOy6yHWpPEVWBp0QpT\n",
       "7HodqSq1tpCT1pOg/wSlFILj08MtjwEcCAP3D4OUuRAulygHGIs+WRW0utdrAyMmujJyDmAMs7iD\n",
       "N9OcFGYjHE+FXYWtWacS3GTwG/NGK1mdnS3Gks8YKq3DlM2CS3G29HVIGaNQP8RJYTbChxA03jOl\n",
       "9b4OqbfBM/h6jvKswtNRCrkJaBu8Vp8F3mtlhdZUo1iXXCI53WEL8KFc0Z1BTgqzEX4QV++/+Oky\n",
       "rhUA3l5q0LTw7ggeU9lLwFyZ1xqwUHQOP8dmtWrVZ/aC5BLJaXBxYqB/mF2BLVJcG+HB29F+xZcW\n",
       "TaRa7vwdW3IUcVW6lqPfsRvCzA0GD6qO8xrnzhqVsLzQrQit76TaZWfIIGoVXBJ5ULukj/ITXZvg\n",
       "L72BxX18XPucTmpCnwWuBtX37R/C0+BdMnnRj3u3UMiS7cJjquTiJmrthWjMQhvyoNYuCpsk24XH\n",
       "fH2sdvwNkzoSWb6IrtXIb5gtn/mUc+0OtCRsqUFnEy6h9W1X2/8BZhEkRwX77tAAAAAASUVORK5C\n",
       "YII=\n",
       "\" style=\"display:inline;vertical-align:middle;\" /></a>"
      ],
      "text/plain": [
       "(a_{i} * b_{i}) + ..(a_{k} * b_{k}).. + (a_{j - 1} * b_{j - 1}) + (a_{j} * b_{j})"
      ]
     },
     "execution_count": 153,
     "metadata": {},
     "output_type": "execute_result"
    }
   ],
   "source": [
    "requirements = []\n",
    "dot_prod_map.apply(*a_sub.entries, assumptions=assumptions, requirements=requirements)"
   ]
  },
  {
   "cell_type": "markdown",
   "metadata": {},
   "source": [
    "Note that we now have the extra requirement that the indices match, not just the lengths."
   ]
  },
  {
   "cell_type": "code",
   "execution_count": 154,
   "metadata": {},
   "outputs": [
    {
     "data": {
      "text/html": [
       "<a class=\"ProveItLink\" href=\"__pv_it/basic_expressions/e46ef7a59218bad959ca696abb15312e70d513cd0/expr.ipynb\"><img src=\"data:image/png;base64,iVBORw0KGgoAAAANSUhEUgAAAbsAAAAyBAMAAAA3j2iJAAAAMFBMVEX///8yMjLMzMzc3NyYmJgi\n",
       "IiJmZmZERETu7u4QEBCqqqpUVFSIiIi6urp2dnYAAABBmyukAAAAAXRSTlMAQObYZgAABoNJREFU\n",
       "aN7dWk1oG0cUfrK02vXKWskpzaWUGgptbtYhCW0vUXF/DjlYUBJKW+gWEkpLaQx20kJ72BxCMRbY\n",
       "/YEESorBGOKTBQmUgpuIHlxKA1YPPvRk9VBfktZOnIMxIXRmZ1YzszOzu/IuPWhg7NW8fe+bb+bt\n",
       "7MwnAaDidGDgyhy7/Jf+P5Y1xpAXaugPIU1/ytXgaqRFL/7x/x7PgtgSKNMiIYJd4+4+ZHk1uFgR\n",
       "wK2pLOiVanp6GKEUgWJfg5vp6Zld8t+6LoDnalnQs6p6ehihVNf7FlpwOT29gJbpCuBvZPPY3dfT\n",
       "S4DgtFPTC5Jy1RPA38qG3qyeXgIEayE9PYNk51kBPN/Ihl6uo6OXCOHZ9PTsPT/T9wTwEZyqJ7d/\n",
       "86I8tXZmcFwdPYzQ/EQfvPkr+rOdnh6ZN2NKADfRM1/+Fp6jRNXvFN8OubGg4UXZUKgG9JxRv7g8\n",
       "QvdPfa/c4Tpd1lPSm8QjPd4R6BmL6Lmpw4fonaxdQokd7ODzC+dlg93QzR5CyC9+oF83axXUheUM\n",
       "6M3j9ekjEXwY9eiCB+9F+Un2TdkwtKujhxAseKxfVWALjfp4BvRyOIG+l+ldBethlJ9k35QNkfTA\n",
       "3o8I/zdkQ28ErSpDj6TUsZ6AvQvl37Xj69uh+XGYHm8oN0LPXotPf7MV0a2jQcSU9PKPCMXQ0mId\n",
       "QKm65FR0iyexg/uHRI8zsKUlPHt4aZlf7Oqz8wCyWVpwYpoLIjhe0L+E11vdl9DTPY/6aD0AcsE+\n",
       "+Xardo+nFzYUuzp6GGErX/cdesEZCkncT8ndfvOhy0X0JEyJ4Dip5u4+v9ZBfQXjbdTyLk6oVvDn\n",
       "jBfYYQbKn6HyOZk9wUDfGkp6GKH0GnFgwf0LDAdFnNZH6N1nvBT0dtCIuZotk7WPOnhD3gswvD0h\n",
       "OUOGK7GbMlvuuQ9noB5ZDXq3nYbe5BiMtzUbXruK0kt+Qhx2VmVpvSwb4rfUjtyfLj4BnxrjttRO\n",
       "muRE3FYXQ+AmfZtbt2tgteUtE1t3e2l98v21sCHqQEQRmvKiguBOdS+hq96BqJnqve7iCQTtcbYg\n",
       "u7BzmtmOMJgxx1nBgYcrreP26eDuehp6lRZscFuvX/oRI35+2YswTJB5HAvZEiIUatzdKehNwc5h\n",
       "n93bN/s1/O9luIq3iQNbhhtwZ3DZgbEw6PQGOTmNBuzwh9Z8nVRlWeqjlZZUirAicr7elxNaWjb4\n",
       "tfsrWmFFMacl5eld1Wpfo6/pGL12RZ85KIQiMu7bj1Hanyc4Dbdgkn/zPkUrnFZ02KpColZfhyXH\n",
       "5Ri99rRmWEgIRWTct1sQFVBwqriwytEruKRKZe7efrCNxL1oq1oVpU9FmMRjRYpccOOD8E7zXRjn\n",
       "RteokaqYDww8G6IntipKv4pwQaQnRTYSfD8wK26pK9yInKBVA5zrqOjltF8O9q0Ih+hJkU8k0Y84\n",
       "J3RcMLhkXafVujulAnZcFT1Hyhhfh4VYvVaDwkJIkVHfrPV2dEDeCb0Virvs4wytRfhOBVyoquiR\n",
       "1r98ueio3+zrsBCr12pQWAgi13AiMOqbU16IDljgpuuOmBDv0DoBBypgu6GiZzek7X6FnCGNaL1W\n",
       "g8JCSJFR314pVqMD8k5X0emYw7hOq1fGOBYZt7EeMJEuR0ef/prKeqxV1mEhVq8lKHDZRzki0CMh\n",
       "pMiob16lHR2Qc8o/BkHGDeiB01CNa+Apzp7UCaLDJtBr1SgshIoe93WdOiDn5GucF+TkhJyrAi4r\n",
       "k5O0kmfvGabDJtBr1SgsBFGCOREY9+0LiA5YZmNm4sutjrS0wPxiv0uLpMMm0GvVKCyEFHkGGyLE\n",
       "JRyQc/Lz2GBjuE2rnAEj+4Eyy9MTWrm91T6RX3m9VtSBiV6rROGkXCky6lt597gqFgvIOW14YkZs\n",
       "0grnw0vuTw/Ose/zAnpiK3d3g8ivvF7LdGCm1ypROClXioz7dqtObmGxWkJAzomsKj/Im7Kzyrm/\n",
       "Et6UCa3c3sml8muMXqtG6Um5cuRgU3YD9AGZE/nymcsRuqU+ln8YuVu1vKiNL9VhY/VaHUpPytVv\n",
       "qbsRAe+HVy5uAcPy4nT+iancmVvVRK1Eh23G6bValJ6Uq8Cb7t2iC8g50dNk/pvQcXbtnHJYzVqi\n",
       "VqLD1mP1Wg0Kk3JN9XFWKS73AjKn3q+RlpOJERN9tGYhRkwcRoxgTqUgOYqtQdSR3uxdrQ0gO/aD\n",
       "RygO4s9V/YXlP7PVOgJGsqELAAAAAElFTkSuQmCC\n",
       "\" style=\"display:inline;vertical-align:middle;\" /></a>"
      ],
      "text/plain": [
       "(|(a_{i}, ..a_{_a}.., a_{j - 1}, a_{j})| = |(i, ..k.., j)|,  \\\\ ((j - 1) + 1) = j, (i, ..a.., j - 1, j) = (i, ..a.., j))"
      ]
     },
     "execution_count": 154,
     "metadata": {},
     "output_type": "execute_result"
    }
   ],
   "source": [
    "ExprTuple(*requirements).with_wrapping_at(1)"
   ]
  },
  {
   "cell_type": "markdown",
   "metadata": {},
   "source": [
    "If the iteration parameter occurs anywhere other than as an index of an indexed variable, this will also spur the need for the requirement that the indices match and not just the lengths.  For example, consider"
   ]
  },
  {
   "cell_type": "code",
   "execution_count": 155,
   "metadata": {},
   "outputs": [
    {
     "data": {
      "text/html": [
       "<strong id=\"dot_prod_and_more_map\">dot_prod_and_more_map:</strong> <a class=\"ProveItLink\" href=\"__pv_it/basic_expressions/56ba28b8750f7efe52d8bc6868e3b39058f958950/expr.ipynb\"><img src=\"data:image/png;base64,iVBORw0KGgoAAAANSUhEUgAAAegAAAAVCAMAAAC69Y1NAAAANlBMVEX///8oKCgNDQ1UVFTMzMx2\n",
       "dna6uroQEBCqqqqIiIgiIiJmZmYyMjJERETu7u6YmJjc3NwAAADzUGF5AAAAAXRSTlMAQObYZgAA\n",
       "BAxJREFUaN7VWu2WnSoMpUVURBDf/2WLCshXMFice+uPyVkTkuydCESUEEL0Rv6pa9YNgx25fiSb\n",
       "wr9A2j1PTir5dWWUnJae1lQ3GLeQfARKZVv4JpodczlPKgBq5aq/n4Sr6GmtVrypJk0kH4DSrS18\n",
       "C0ndMZcbDfN0yU18X2eyz12tGUdaOnJokiigWfiZt1LKLPBlaMilA3rK5Qcm9LirrtZqAobyhIwj\n",
       "hyWJA5qF71BodBlacumAHlIvPzCh2dLZeh2B/MXzwpFDk0QCTcP/faHxZWjKpQNqJHep0YIJPr2f\n",
       "eTX7lXIuXq/eBWt2FzTuYeIsOHJoklWgiguehe9UaHwZnnOpOJdJnoyUtqkfJ7N2rHsctWV9DezN\n",
       "jyGKvK/K/NHvXAfW3vG2AqWdo7o7cliSdaDM2JM0fKdClxCmaQSzkVwG+bTFQI1cZruKHypxpWlo\n",
       "37Yje8MjZnVuKzt/5zqw9o7nBSg04TKYDZbcA0lVB+rUeiZizcJ3KnQJYZhGVctGTGLTd8PmgBo5\n",
       "Xau4OO0X/nZ5rdqf+VE7e+m6YD3s/ufvX2t07fu9gVpydZJmjtRCebXy+Q3CszPmMp2CovbYosVD\n",
       "GW6MQC4DEipo2BxQI22ESZ6jh7eFrtqfT37j20esknVQ6CXez8YlaJSSQgMgF1oFeqvnNH/9ZvRT\n",
       "GTwIKJcLLTVsQaGvNeO6Rebz3yOn7St3YH80LTGOfbM36xvXt3XgeISW7mFVBFq6n0k+AJWUZOG7\n",
       "Lt31NILZgM9UHFAjry5AnbcIXY9zUUban3pDe9MMjHGzciym5+7zxvVtHTgGm7H4fCluxp5J1oEe\n",
       "9uzTZqyeRjAb5WokzZhtwKUJvJnpz4hW1w5+702IH4E9USaNNFIeB4fSxLGubwXKtbP2jg+S9x4V\n",
       "vQoYRfEpDCRZOOEMgGZHFe7Fg2DVstXYAIXOEIZsSxAhfbTFeKBG2smtzNPZoCkfbbRjqrjdzy//\n",
       "hR9uTGjv7s9bKTjbPJFAgXPtre8pugLNhBiSDTuSBZLJVEiAZkkGwmcLMUwLsCggvNmWIZb1Zxb8\n",
       "XeqAHjI7e1O7utQzYpktj7GPeZnSucZ4Lg6yjhX2dAg8AvUkocWvps7Cf3QEuj88i0L6RSRAT5md\n",
       "ps+r3Ykwj0PFMcMEKJ1r1IMWqzj+65caniRQh6o6C6/amxoFIC2wha6iflBE+649eqlBZHJfKMr0\n",
       "1fUh8BbH2BO4XGldYzwXBznH+PeEjhxEEgpeU3/zmlJqgC14lfTa9O1SJECthN54Yz54KI+xG9zW\n",
       "ZoUYZB3Lrz48eFuSHleOUD7Mh3IfwcUG3eV9v2Gho57UF5nwjrf/9lOi7Uc+JXpKIyLNDuhHgCmj\n",
       "/5jj/+X1xLY1G38A4xI5yFhtkAUAAAAASUVORK5CYII=\n",
       "\" style=\"display:inline;vertical-align:middle;\" /></a><br>"
      ],
      "text/plain": [
       "dot_prod_and_more_map: (a_{i}, ..a_{_a}.., a_{j}, b_{i}, ..b_{_a}.., b_{j}) -> ((a_{i} * b_{i} * i) + ..(a_{k} * b_{k} * k).. + (a_{j} * b_{j} * j))"
      ]
     },
     "execution_count": 155,
     "metadata": {},
     "output_type": "execute_result"
    }
   ],
   "source": [
    "dot_prod_and_more_map = Lambda((a_i_to_j, b_i_to_j),\n",
    "                               Add(ExprRange(k, Mult(a_k, b_k, k),\n",
    "                                             i, j)))"
   ]
  },
  {
   "cell_type": "markdown",
   "metadata": {},
   "source": [
    "We cannot handle the following substitution because the indices do not match with the original iteration indices."
   ]
  },
  {
   "cell_type": "code",
   "execution_count": 156,
   "metadata": {},
   "outputs": [
    {
     "data": {
      "text/html": [
       "<strong id=\"a_sub\">a_sub:</strong> <a class=\"ProveItLink\" href=\"__pv_it/basic_expressions/63991493f1318917076adaf4e22d6e85a15847860/expr.ipynb\"><img src=\"data:image/png;base64,iVBORw0KGgoAAAANSUhEUgAAAN8AAAAUBAMAAAD/+PVoAAAAMFBMVEX////MzMxUVFR2dna6uroQ\n",
       "EBCqqqqIiIgiIiJmZmYyMjJERETu7u6YmJjc3NwAAACgK8IjAAAAAXRSTlMAQObYZgAAAkRJREFU\n",
       "SMe9Vj1oFEEYfXu3t7fJ/uQ6BQsjFunkuiAIBiGYypySShDUOsiSFJuFQA6RKMFiNY1GgltYy2Er\n",
       "0SEiJ1i4oqAWyhYqFkpWCQpi4czsz81mudFqp5j95pv35s3f980CdojKyiVWPa9OD7WIVvcrFDQD\n",
       "wPIrFMQkoEdVCj4FvlSph9EpePTTX/i46Ej33j1ycrLo8Rx8IjLKXsDMnBKi7mOL9rWtq3oApTeU\n",
       "/QRvnbWCp652sCKjJABhAlveHXpjAqzSPlL/o0bK7e5Q9jEcJ6cKns8jAR7KKBwgCsKms9O6mGO2\n",
       "wWaqDmeTApd7Gg5+SSkcIJYDdIOVmAkCY45cEHu4tMwS5buUwgFCUcfBBVdZ42DrH4Kc++6l67uH\n",
       "Us8Gmh0phQGszX1e1r6IRINeGo2soElk7PlmjGW8PoczZCF1PYAxLhVkAGs6bKRxrvmo8UtzlC7+\n",
       "/GN8S1b4guYeXpm/BUP9acR2aPe72MV6CrqJ2ZBTCshBiwO+LmGMJM39r97cA0bamAG23f5mmAjq\n",
       "12mfznb7cmZcIzAnlr33NPU6SocdAQdtu3ejZIUUMKAkvBwwgem06Vtnp2jgt4TUxtnzpa3R8uht\n",
       "tJo9O25loI2UopXjPwecxroiDvpMTN4aY7fLEZxbO3SNVq/NQbXA3E0p9fL5ZQA7xpUL4qAsXT1K\n",
       "bfvWDwdmOcP1c+sERiP7MOEgPTSchCIA8iDPADQUFkNhUPY8FR9gqzzb8g8BA6nujf8GDAY12PlV\n",
       "+YvxAfgLA5S1YLv4oZwAAAAASUVORK5CYII=\n",
       "\" style=\"display:inline;vertical-align:middle;\" /></a><br>\n",
       "<strong id=\"b_sub\">b_sub:</strong> <a class=\"ProveItLink\" href=\"__pv_it/basic_expressions/d3197e3f39d0a31083dfaa3276793cd9ee5a06a00/expr.ipynb\"><img src=\"data:image/png;base64,iVBORw0KGgoAAAANSUhEUgAAAN8AAAAUBAMAAAD/+PVoAAAAMFBMVEX///9UVFTMzMx2dna6uroQ\n",
       "EBCqqqqIiIgiIiJmZmYyMjJERETu7u6YmJjc3NwAAAC+aOQFAAAAAXRSTlMAQObYZgAAAkNJREFU\n",
       "SMe9VkFo1EAUfZtNN6lJtnvbi0gvotKDeytCwb0U9+SW0pOn6slDkZQe1mChK4iKFFz1UivFHDwX\n",
       "PUs1IrKCBwMeFERZQUVBcRWxIB78fya7TZpmjpnDkP/zXt6f+f/PBCiHyG2c4+lFfnoo9GjazFHQ\n",
       "9gGnk6MgJgGzl6fgM+BLnnrYV4dHO+u5+BSotj4FsFsHTkwqP91d/Ljkxh2NOS1EsYMtoKjPYAXa\n",
       "/UyyBMTHU7xxrwET2THWnCumH3dseXeoYnxcBj6P+nio3W5nsgUg4ZnC8eAkjqxlxxgU/+nx8rBR\n",
       "phWV2pgDghEX29CzBSUg4ZEBNLJXCGv3jk1QUrQ+C6IZaL9UghKQHNtqQWDMTdp6BUKQthTrMGaU\n",
       "ggxwNg55xuJ45JEBqASPEpQ5A/u0UG1z0eABrIpSkAHOdDiy36hIx4LRx7JKsBSswAiYEyWy1EFB\n",
       "FM0xMm6gGQpB+y9ZL/3Yg5wY8O08xuqjNfFK/2P1+dBv7EYOreb8Y3wHcwL59vCr1/cA4nOQT1p3\n",
       "e3KFVymxJq/iIqIHc3UAqOIgzHmBsavL3rtoS4eUHd4qM7obFFEV09EnOs6pOjX+eHS0rUMKltL9\n",
       "vxBlEbO4gB9aAtNQUXjM4pYWt5+Lw7vg279Fi1D7pLNRgwSU+xTv22ICczaTIgdxLp2J2Xx44xHM\n",
       "0HJRXvtJddxNNxR5BYDKehMfpuKYr9erWZRhKyyFMZuvJ7qA9dbNgSd9+zvM2wGkMXtT9rYtzl+e\n",
       "vxjvgf/Qo65/Quh1FgAAAABJRU5ErkJggg==\n",
       "\" style=\"display:inline;vertical-align:middle;\" /></a><br>"
      ],
      "text/plain": [
       "a_sub: (x_{1}, ..x_{_a}.., x_{m}, y_{1}, ..y_{_a}.., y_{n}, z)\n",
       "b_sub: (y_{1}, ..y_{_a}.., y_{m}, x_{1}, ..x_{_a}.., x_{n}, z)"
      ]
     },
     "execution_count": 156,
     "metadata": {},
     "output_type": "execute_result"
    }
   ],
   "source": [
    "a_sub, b_sub = (ExprTuple(x_1_to_m, y_1_to_n, z),\n",
    "                ExprTuple(y_1_to_m, x_1_to_n, z))"
   ]
  },
  {
   "cell_type": "code",
   "execution_count": 157,
   "metadata": {},
   "outputs": [
    {
     "name": "stdout",
     "output_type": "stream",
     "text": [
      "Expected LambdaApplicationError: Failure to apply (a_{i}, ..a_{_a}.., a_{j}, b_{i}, ..b_{_a}.., b_{j}) -> ((a_{i} * b_{i} * i) + ..(a_{k} * b_{k} * k).. + (a_{j} * b_{j} * j)) to (x_{1}, ..x_{_a}.., x_{m}, y_{1}, ..y_{_a}.., y_{n}, z, y_{1}, ..y_{_a}.., y_{m}, x_{1}, ..x_{_a}.., x_{n}, z) assuming (|(x_{1}, ..x_{_a}.., x_{m}, y_{1}, ..y_{_a}.., y_{n}, z)| = |(i, ..k.., j)|, |(y_{1}, ..y_{_a}.., y_{m}, x_{1}, ..x_{_a}.., x_{n}, z)| = |(i, ..k.., j)|):\n",
      "Improper replacement: Improper replacement of (a_{i} * b_{i} * i), ..(a_{k} * b_{k} * k).., (a_{j} * b_{j} * j) via {(a_{i}, ..a_{_a}.., a_{j}): (x_{1}, ..x_{_a}.., x_{m}, y_{1}, ..y_{_a}.., y_{n}, z), (b_{i}, ..b_{_a}.., b_{j}): (y_{1}, ..y_{_a}.., y_{m}, x_{1}, ..x_{_a}.., x_{n}, z), a: {(a_{i}, ..a_{_a}.., a_{j})}, b: {(b_{i}, ..b_{_a}.., b_{j})}}:\n",
      "ExprRange indices failed to match expansion which is necessary because the ExprRange parameter appears outside of IndexedVar indices: Unable to prove (1, ..k.., m, 1, ..k.., n, n + 1) = (i, ..k.., j) assuming {|(x_{1}, ..x_{_a}.., x_{m}, y_{1}, ..y_{_a}.., y_{n}, z)| = |(i, ..k.., j)|, |(y_{1}, ..y_{_a}.., y_{m}, x_{1}, ..x_{_a}.., x_{n}, z)| = |(i, ..k.., j)|}:\n",
      "'conclude' method not implemented for proof automation. \n"
     ]
    }
   ],
   "source": [
    "try:\n",
    "    a_required_len = Equals(Len(a_sub), a_len)\n",
    "    b_required_len = Equals(Len(b_sub), a_len)\n",
    "    dot_prod_and_more_map.apply(*a_sub.entries, *b_sub.entries, \n",
    "                                assumptions=[a_required_len,\n",
    "                                             b_required_len],\n",
    "                                requirements=requirements)\n",
    "    assert False, \"Expecting a LambdaApplicationError error; should not make it to this point\"\n",
    "except LambdaApplicationError as e:\n",
    "    print(\"Expected LambdaApplicationError: %s\"%str(e))"
   ]
  },
  {
   "cell_type": "markdown",
   "metadata": {},
   "source": [
    "But if we ensure that indices match up, we can do the expansion as we saw before.  Let's try this for a slightly modified map in which the Lambda parameters only covers the $a$ variables. "
   ]
  },
  {
   "cell_type": "code",
   "execution_count": 158,
   "metadata": {},
   "outputs": [
    {
     "data": {
      "text/html": [
       "<strong id=\"dot_prod_and_more_amap\">dot_prod_and_more_amap:</strong> <a class=\"ProveItLink\" href=\"__pv_it/basic_expressions/4dfa11dc7639377e357152157ceb1201b8708e650/expr.ipynb\"><img src=\"data:image/png;base64,iVBORw0KGgoAAAANSUhEUgAAAY8AAAAVCAMAAACJzpJEAAAANlBMVEX///8oKCgNDQ1UVFTMzMx2\n",
       "dna6uroQEBCqqqqIiIgiIiJmZmYyMjJERETu7u6YmJjc3NwAAADzUGF5AAAAAXRSTlMAQObYZgAA\n",
       "A5NJREFUaN7NmduCnCAMQGkRlTv8/88WFQTGZABX2/KwcYdgDgkGjIQQ4ix5pa2uXzcxPMgyYp6M\n",
       "kz7OmaTR5KVGuz2SGPpYjF5Ew7IeMj/Qer3VZtxjsJjMGaVyb8XDqF7NxNDLomQjHnbI/EDr91aL\n",
       "cWuWFpyHtJK81hjv00sM3Sx+vWV+5aO5hCOkjzGWnLsU7r14mAXp4LXRxNDLMntzy/zP49HvrU7G\n",
       "knOTTpAXm5qReVbLLDF0szBxz/yP4zHgLSbG3RQkT55xkkm+mNuuB8ez7Pd6H6xgE0M3i6KcSzQd\n",
       "GC75xfwz8Rjw1nfGg5PrmjNIHY9v8xKeROVrqwOtHB8upphuFRwBspbhSQy9LMYrE/44pJuFG1zM\n",
       "PxMPiDDPFmGEFQgJ6IutOIMUa0xdW488vDSNbynV+DCPJAUSD8J1XlyRocVyDlj31Ow53O1WItXF\n",
       "/DPxgAjzbBHGUqF4oqw79/zEGeRypC65Dxf8brZCxk/+vPz9S1XN+zO5R4YGS1hxyZja/2Vwtznd\n",
       "UJhnu02x7IL2pH9wQMtbDcaif+dMe37iDDJaWPSuPd2NBzK+iIeok+0s8l77EQ+MRdDyZD9/nifP\n",
       "7rg2a/PPPB9NbzUYC8hyzy/icTyBRyDX/eeZ0/F0VYzf9tP19DqSryZlCJKv2izexjWKoGp6Nf9k\n",
       "vsJmCzJiCuUrY+IM8tihzB5IqrYiCiPejMcjjw/71JyeSnQ/r15z6/28zbJluj2Fw93bDdib+zk2\n",
       "W5ARUzjvU+/n8ailg2EbHiZGnDl2l5yPLxfAT3k8McGNaYHKnD+rMtwsoVMxygJUQ3TQRbpnn4p+\n",
       "kn1177cpwvG4EFazhRhRhTKvJs4g46Niwml5cpTP0dq2oFPGP3NeTn75p6hUjs8LHjnoBcNTvZdU\n",
       "EmD5WFeSM3s6BvKFhc1f0g9FL+ABAGExW5gRUdi8ID7ctMlLBcB4c3SvPWkLVPKpdNz5jorWS04W\n",
       "7IH/3i3+Sr3Et14PMAUha85dXipkq4rZl3WVBYDfpuWpeuLJgrjre/fFvBndGC8DgHritDRuAipM\n",
       "hrh0QKvqiUR/RM9Q5o6DQw8wpJTKAP0F78SAsWDWv3a/Um/XDpst2iAFF45oWtacUWJfWLq+g4FK\n",
       "Kavrl75H3XbdEyVrjc0W54AUKJcWWYzPfoGks4t1Nvtvv9fav/G9Ns+26Y4W50u8lNEXv6j8b605\n",
       "20F3/AEORC+aPr0PrwAAAABJRU5ErkJggg==\n",
       "\" style=\"display:inline;vertical-align:middle;\" /></a><br>"
      ],
      "text/plain": [
       "dot_prod_and_more_amap: (a_{i}, ..a_{_a}.., a_{j}) -> ((a_{i} * b_{i} * i) + ..(a_{k} * b_{k} * k).. + (a_{j} * b_{j} * j))"
      ]
     },
     "execution_count": 158,
     "metadata": {},
     "output_type": "execute_result"
    }
   ],
   "source": [
    "dot_prod_and_more_amap = Lambda((a_i_to_j),\n",
    "                                Add(ExprRange(k, Mult(a_k, b_k, k), \n",
    "                                              i, j)))"
   ]
  },
  {
   "cell_type": "code",
   "execution_count": 159,
   "metadata": {},
   "outputs": [
    {
     "data": {
      "text/html": [
       "<strong id=\"a_sub\">a_sub:</strong> <a class=\"ProveItLink\" href=\"__pv_it/basic_expressions/7872ce37dd4aa34d584ca53c5b6e45069f772d250/expr.ipynb\"><img src=\"data:image/png;base64,iVBORw0KGgoAAAANSUhEUgAAAJIAAAAVBAMAAABf4KrdAAAAMFBMVEX///9UVFTMzMx2dna6uroQ\n",
       "EBCqqqqIiIgiIiJmZmYyMjJERETu7u6YmJjc3NwAAAC+aOQFAAAAAXRSTlMAQObYZgAAAW5JREFU\n",
       "OMtjYOC7wEA5YHsAJE4zUAPIAfE6qph0ioGBdwJVTGIuYOB4QBWTeAIYXjBQByxhqASSfJOnx+BT\n",
       "hVMeScKSYS+QdH3A9YEBbCZ2AJFnWATja2ORuMXQBvRjLAPnBgYGPZxhAJFnSIDyNWdgkchgCGFg\n",
       "4PzDwFGAx3MY8h5YJPRBJrFuYDivgMckDHkPLBL6IN+dN2DIZ2BwF8BlEkSepzIB3SRkCQ9QiJ9P\n",
       "YJBie2DwB6dJYHlOlgUYJiFJ3ALGHgN3AW8jM9+xBgaeXyBpoDicASbA8gznmAWQTUKXmAwS5REv\n",
       "elgCFGZg6DjAwMABEm9kgDI4emDyDNwXWHYDwR6ISSgS4JQAzy3nDwELhwMYXsuBs/gfoPgOVYKn\n",
       "AZGDs5iB+RAzkAzgLFU4KwNTApiDGfZB+QftGBiOY6ZKREKqhjFe9otjSJxCK+kwi09eBHM7PgmQ\n",
       "e4gsfRn9YvBI8JJQNjEaPsAvAQAyCXMP2ZRf7AAAAABJRU5ErkJggg==\n",
       "\" style=\"display:inline;vertical-align:middle;\" /></a><br>"
      ],
      "text/plain": [
       "a_sub: (a_{i}, ..a_{_a}.., a_{j - 1}, a_{j})"
      ]
     },
     "execution_count": 159,
     "metadata": {},
     "output_type": "execute_result"
    }
   ],
   "source": [
    "a_sub = a_i_to_j__partition.rhs"
   ]
  },
  {
   "cell_type": "code",
   "execution_count": 160,
   "metadata": {},
   "outputs": [
    {
     "data": {
      "text/html": [
       "<strong id=\"assumptions\">assumptions:</strong> <a class=\"ProveItLink\" href=\"__pv_it/basic_expressions/000f3f1504258f6526ae3f255d2ac3610faa695f0/expr.ipynb\"><img src=\"data:image/png;base64,iVBORw0KGgoAAAANSUhEUgAAA1UAAAAXBAMAAAARqXgPAAAAMFBMVEX///9UVFTMzMx2dna6uroQ\n",
       "EBCqqqqIiIgiIiJmZmYyMjJERETu7u6YmJjc3NwAAAC+aOQFAAAAAXRSTlMAQObYZgAABw5JREFU\n",
       "aN7tWVuIG1UY/jPJJtnNJBvawgrKskVExdVGqNTFqutDMYi4S+mTN4IgVJCatkhcW2gE7Q0v0YK9\n",
       "SGkoRVBkjU9V265TpKR0HxofxFppiaDSYkvj1m5BF/HcZubMuU1CQ/rSHxJm/vNfvv98cy5zBgDJ\n",
       "KHRZRkMV7bhbDtwUkfKO3ljx3ZNMA5aTi8vdiLaO/C8X1W1miDd59+g4w9czWcflvVH04d1uiKGB\n",
       "Nsui27VuVBtp6rnCGSKGLC87MCxzNdvDEUXRq7kKQx9/PoieaHg59e+3Djx0jQWfZRUH89dYDNmL\n",
       "QJtm0Qea3ajWruq5whkihlHyA0ImczXdQ64oejVXYejT2SB6ognIMSsLdovdTLOKg1w1WAzZC0NL\n",
       "V1j0n7tT7go9V21kiBZFrjC+3skKPVedopfltpESwCTjsWKMofBC0JJNFv397lR7Qs9VGxnsSZGr\n",
       "ZLOXXJ3Qc9Upen/Afb19J7lYcjQyAmWq1JZlT2q8ELQLLHqm3J1qB8Z1XLWV4ZDI1YWebgEJeiVX\n",
       "HaP3dpWH3UVpeKn9hcvVBXMMhReCNsWiJ/CgvDj2unGfrG33G6IVHVc4Q323/qEs4YV7TOQK4bOn\n",
       "ivC7CZdsYJeGn1xh7Nb6+t828tNN7J3x+xl6JVch6KG+SUBPNWgJ9oANx4tLXa6mvIr5GLvdGAov\n",
       "BO0Yi55Cy2bsRfjSVJ+2nWtIV1240c+JVIDLkFulDd4PL6D/syJXCF80NglbjOuEZPA9nCnuNE5X\n",
       "ufS2ZJVTzP60t8bQk7wdoodKXyOInmqA29gNw/J0kXF1zKuYExL/LKi9ELStLHqygKbEBnzCRph6\n",
       "NiftMDDiKu6TG+Jl3bhCGTKFfdpiz8M8+l8rcoXw/dFfhSNg6ffL1ICXlfC484yPT0GvE12I8WuG\n",
       "A38CQ68cVyHo083BQhA91QDUuF6POIsYV1u9irlXLhKfxFB4IWhrWPQ+BPCAA9vQVKldzWk7xN37\n",
       "e/fIDVZLxxXKYMN1bbVObAH9LxO5QvicviJct/bqFwxiENQQ7jx8inEFKYF766iLXslVCHobJpwg\n",
       "eqoB61k8PFmv29kBtnVY41UMp8gAPggsPomh8ELQeK6eA3vONHFI7Xm5wcgVxBcMM1lZwxUq2pqD\n",
       "mGFxJwZBuc7jU8mgsDl+AsK4MqKHhwX0VAMZfoTAnRbHFa2Yf532nlaFF4LGzYH2VYi3THO81J6X\n",
       "G2JlYb3KcrMIpLKGPVjFjSjMgbAPEpNGrohBcJTMhXG1bCTYT1kPPb9etY0ePhPQU433QkV7PV2o\n",
       "+XMgrZgTEj+v8ULQuL2FPQ+R6rrYei1XpB3qH0tccQ3+3kJ8MvHqfLqQ0xZ7uqDZW8BXuAoTV9gg\n",
       "vf/uqcR6RsCriRZsNnEVd7ZAwsE+TPEKQJbfW3SK3p4X0FMNgL93XIR+j9X8vQWtONADOXdvIXsh\n",
       "aGMsOt6tHoYz2Vx00IHTCLL9D/ausj9yR9qh8hTPldjQn9NxhTNMZBrEwQvuZ4HX8PS+i1oTNekz\n",
       "jO9DmGgQrmQ3ckEM0qsafXckskQTm0+18OFoXrT07iYK38FlwD5Ncm+99+ib4wy9kqsw9GT+4tG7\n",
       "M2bSI+RT3D1Vaj/mVcxP5RjzLrUXhpZnWHBXHC89MDR+CW1Eku8izVvYJev+bXdYu918MDCuhAay\n",
       "SVRyhTNEzlEHPzi5wOmAbAQOMmtsRPoMpzheOtCk4wqrfTcXFzG49AYMjuO+Rhp7aPPUOQ6f5+Kl\n",
       "O16q728A9nHIfT/8eMhFr+QqDH1/WUBPNYjP25+mUe65ViMnjsQ+71XMHweec2PIXhiafMZ0GM8h\n",
       "iknDP02E2BEkR2nGQAPAydAzprj8WkvS7cAQy8w67gTOmPaxpUT2ZRpkMAR3kceRs8kb0hEZglWB\n",
       "+5OhZ0y6cMmKgJ5oyBr4yPadkj0pa4dqLi1rvE4qzm7tBfRsyfNy1L/8L9AXQkP42W1UBojSjWbm\n",
       "+NPPKHd2G6naf7vLvhIXNVgNm+CKFbDJa9MxWQ27LP4+/OxWHc5yrowE0VONUnK0LFpx6NktD22G\n",
       "YUmx16p4NQe27FD3t1j+HmWt1GD6JsIy1OVnqQiZqyn8GHpfFepen81AspEqstfUuhIXMci00Cj5\n",
       "JRqwWatL5759tuDtl7h70zcRE3q4kvtGQE81yl0ISTfDKhbllOlzjfit0V7chLRs63+5SXh7/4sf\n",
       "DIkNtCL9t8ZAJO+lH89G+ykxzLoB/rfGWOkj1K17/iqqfLGGGMSyMA2/ruRtBHx8OjbRZGFjg7un\n",
       "6PXfGrXoI1MNAT3VKI846JkWq1iUGY0XgYb2HhvIXbvf8FNFQ8N5crVBbGozQ7rJuyfIJNLLb/jn\n",
       "ubw3ij5ENGWlm0ZoHcoS3ZH3EuNZ+C25CbJ4uNOGW9Id+R+QrI3KeT9A+QAAAABJRU5ErkJggg==\n",
       "\" style=\"display:inline;vertical-align:middle;\" /></a><br>"
      ],
      "text/plain": [
       "assumptions: (|(a_{i}, ..a_{_a}.., a_{j - 1}, a_{j})| = |(i, ..k.., j)|, |(y_{1}, ..y_{_a}.., y_{m}, x_{1}, ..x_{_a}.., x_{n}, z)| = |(i, ..k.., j)|, j in Natural, (j - i) in Natural)"
      ]
     },
     "execution_count": 160,
     "metadata": {},
     "output_type": "execute_result"
    }
   ],
   "source": [
    "a_required_len = Equals(Len(a_sub), a_len)\n",
    "b_required_len = Equals(Len(b_sub), a_len)\n",
    "assumptions = [a_required_len, b_required_len, InSet(j, Natural), j_m_i__in__Natural]"
   ]
  },
  {
   "cell_type": "code",
   "execution_count": 161,
   "metadata": {},
   "outputs": [
    {
     "data": {
      "text/html": [
       "<a class=\"ProveItLink\" href=\"__pv_it/basic_expressions/43acba7302832142eeb7acd42f5c367475e0c05e0/expr.ipynb\"><img src=\"data:image/png;base64,iVBORw0KGgoAAAANSUhEUgAAAdAAAAAVBAMAAAAEIaKAAAAAMFBMVEX///9UVFTMzMx2dna6uroQ\n",
       "EBCqqqqIiIgiIiJmZmYyMjJERETu7u6YmJjc3NwAAAC+aOQFAAAAAXRSTlMAQObYZgAABFlJREFU\n",
       "WMOdWE9oFFcY/za7JrvZ2WRBZaFQ8eKhVMzmpCm05CKGHqqHHsRq2UsxeDCrrQTxsjm0xUu7EDCi\n",
       "SFfx0A7F5iJB2soqWFsj3fVmA5XxICi0ICoRwiq+731vZt6b+d5k1gdv2O993/zm93t/v7cAI11Y\n",
       "vwx6kLqkAuTL/zbHUVXTxnP0l+Pty/tNO7MIW9KzXU70Olcbdt8iPr9oxz0ZjyoXn8ydAJH+FeaL\n",
       "P0U+04U76YVeSXYPN+0uKeVedDgOCkktqlx8MncCFPRL3HdXYy3Zuvpx2MbSd5SayUJHa1bXP1zj\n",
       "jfGeeO5UVSqvJ8Wvco2Cfp7plVwvPqv2pRWaX2c5721bXd+xrSVkc0tVQygXz3An+o85/cwyupxW\n",
       "6ON1ZvYu+y7WsAsdnqSqC2XjszzIZTiJb8wvHDTmfuWkPr9uL4jHRFqhHKBeLs6esXiGcNI7s4uc\n",
       "0GyTqi5Uxj+ZONFO4O4DTsDv4rnbG35KDKl0fnZeE4ws1d3isZJWaAgIl3zf+9p319odj3cV8Vwq\n",
       "wCFOaKlFVReK8bnP4ReUt9XgrtkKcAW+Ed8+BAWhegc2y96ZacNLGMC15uDw1M6J53RaoSEg+F37\n",
       "3lnSKFn2YLTOu/LY+CC2m0ihgw2qulCMv9WF89gUgEjuZJMYApyGT4XmHuTrfn/j8xw4z1X/4LaO\n",
       "b8IYmh+47teuezGuUnOYgFSmAjAotKBT5V0bcA225W7iuLJsDYQOPKUKWdf98YDrllX8D234NhjM\n",
       "lsFdiSHAMeS1YRE6/lDP0VGUU92aL9MgKKFpRjQCqKmRYOIY3VvjXVJofDcxhWojivGfgfPMD5Qg\n",
       "IXclhgDHcKaJHp4B2FMOoF+JMckdC9dOOSCUbuoSoBPuClPaMdoVo8C75NSNJxRSaK5BNTJ1xegN\n",
       "Cvm3zxjcdVsBTuHe0anBO4NeNTyAXoipnx0NNrNOrdrfZkSAhVyLEzqJK5h1yc0IX06/GTmrkGkd\n",
       "hebHBnfdVoAreGwU66W57Mgf4ZR5F67Bf9PhEY9p+rypR85/uYLXIkJ9QPg7W2bUZLrFpsVFx8dM\n",
       "NKEYQqGFKlVdKMYvwf1y1fHGDe66rQDn8UNO5fjDrwS7wPXXl12ECLj9qx0Vh7X5LxfFXMQRAIoe\n",
       "z/0qym+GGmfhQ7C4aGqejegsbF67QOeFf2b4QjH+xuyOyiSdaRp3zVaAl8KMrXPTPGd7xnbiNPpP\n",
       "AUc9ZtiSXDKlO82i/6mqJQV8HQnX7dNEP8jBj2TNO0Oryib1d21C78aS+m2BbzoazLtEkr595BmL\n",
       "rif1Tjua1A/sM6M1mwCR/nX/lvCROaIbjeS8j2uaDwin/B9Pvq9EYnhX0Rt5XmQvP/w1rehTHIqk\n",
       "jaGtAO+se0+Ose/j4r1kj1myXbwrF1gPSiraL97FeiQ8tAnwetp/Pkr9/5WS+cSa11td1r9GHqjK\n",
       "x296ZO7UUbsv+n2XzLj3Fq63Khu3JNtY3gDDrXR1jY29+gAAAABJRU5ErkJggg==\n",
       "\" style=\"display:inline;vertical-align:middle;\" /></a>"
      ],
      "text/plain": [
       "(a_{i} * b_{i} * i) + ..(a_{k} * b_{k} * k).. + (a_{j - 1} * b_{j - 1} * (j - 1)) + (a_{j} * b_{j} * j)"
      ]
     },
     "execution_count": 161,
     "metadata": {},
     "output_type": "execute_result"
    }
   ],
   "source": [
    "requirements = []\n",
    "dot_prod_and_more_amap.apply(*a_sub.entries, assumptions=assumptions, requirements=requirements)"
   ]
  },
  {
   "cell_type": "markdown",
   "metadata": {},
   "source": [
    "Again, we have the extra requirement that the indices match, not just the lengths."
   ]
  },
  {
   "cell_type": "code",
   "execution_count": 162,
   "metadata": {},
   "outputs": [
    {
     "data": {
      "text/html": [
       "<a class=\"ProveItLink\" href=\"__pv_it/basic_expressions/e46ef7a59218bad959ca696abb15312e70d513cd0/expr.ipynb\"><img src=\"data:image/png;base64,iVBORw0KGgoAAAANSUhEUgAAAbsAAAAyBAMAAAA3j2iJAAAAMFBMVEX///8yMjLMzMzc3NyYmJgi\n",
       "IiJmZmZERETu7u4QEBCqqqpUVFSIiIi6urp2dnYAAABBmyukAAAAAXRSTlMAQObYZgAABoNJREFU\n",
       "aN7dWk1oG0cUfrK02vXKWskpzaWUGgptbtYhCW0vUXF/DjlYUBJKW+gWEkpLaQx20kJ72BxCMRbY\n",
       "/YEESorBGOKTBQmUgpuIHlxKA1YPPvRk9VBfktZOnIMxIXRmZ1YzszOzu/IuPWhg7NW8fe+bb+bt\n",
       "7MwnAaDidGDgyhy7/Jf+P5Y1xpAXaugPIU1/ytXgaqRFL/7x/x7PgtgSKNMiIYJd4+4+ZHk1uFgR\n",
       "wK2pLOiVanp6GKEUgWJfg5vp6Zld8t+6LoDnalnQs6p6ehihVNf7FlpwOT29gJbpCuBvZPPY3dfT\n",
       "S4DgtFPTC5Jy1RPA38qG3qyeXgIEayE9PYNk51kBPN/Ihl6uo6OXCOHZ9PTsPT/T9wTwEZyqJ7d/\n",
       "86I8tXZmcFwdPYzQ/EQfvPkr+rOdnh6ZN2NKADfRM1/+Fp6jRNXvFN8OubGg4UXZUKgG9JxRv7g8\n",
       "QvdPfa/c4Tpd1lPSm8QjPd4R6BmL6Lmpw4fonaxdQokd7ODzC+dlg93QzR5CyC9+oF83axXUheUM\n",
       "6M3j9ekjEXwY9eiCB+9F+Un2TdkwtKujhxAseKxfVWALjfp4BvRyOIG+l+ldBethlJ9k35QNkfTA\n",
       "3o8I/zdkQ28ErSpDj6TUsZ6AvQvl37Xj69uh+XGYHm8oN0LPXotPf7MV0a2jQcSU9PKPCMXQ0mId\n",
       "QKm65FR0iyexg/uHRI8zsKUlPHt4aZlf7Oqz8wCyWVpwYpoLIjhe0L+E11vdl9DTPY/6aD0AcsE+\n",
       "+Xardo+nFzYUuzp6GGErX/cdesEZCkncT8ndfvOhy0X0JEyJ4Dip5u4+v9ZBfQXjbdTyLk6oVvDn\n",
       "jBfYYQbKn6HyOZk9wUDfGkp6GKH0GnFgwf0LDAdFnNZH6N1nvBT0dtCIuZotk7WPOnhD3gswvD0h\n",
       "OUOGK7GbMlvuuQ9noB5ZDXq3nYbe5BiMtzUbXruK0kt+Qhx2VmVpvSwb4rfUjtyfLj4BnxrjttRO\n",
       "muRE3FYXQ+AmfZtbt2tgteUtE1t3e2l98v21sCHqQEQRmvKiguBOdS+hq96BqJnqve7iCQTtcbYg\n",
       "u7BzmtmOMJgxx1nBgYcrreP26eDuehp6lRZscFuvX/oRI35+2YswTJB5HAvZEiIUatzdKehNwc5h\n",
       "n93bN/s1/O9luIq3iQNbhhtwZ3DZgbEw6PQGOTmNBuzwh9Z8nVRlWeqjlZZUirAicr7elxNaWjb4\n",
       "tfsrWmFFMacl5eld1Wpfo6/pGL12RZ85KIQiMu7bj1Hanyc4Dbdgkn/zPkUrnFZ02KpColZfhyXH\n",
       "5Ri99rRmWEgIRWTct1sQFVBwqriwytEruKRKZe7efrCNxL1oq1oVpU9FmMRjRYpccOOD8E7zXRjn\n",
       "RteokaqYDww8G6IntipKv4pwQaQnRTYSfD8wK26pK9yInKBVA5zrqOjltF8O9q0Ih+hJkU8k0Y84\n",
       "J3RcMLhkXafVujulAnZcFT1Hyhhfh4VYvVaDwkJIkVHfrPV2dEDeCb0Virvs4wytRfhOBVyoquiR\n",
       "1r98ueio3+zrsBCr12pQWAgi13AiMOqbU16IDljgpuuOmBDv0DoBBypgu6GiZzek7X6FnCGNaL1W\n",
       "g8JCSJFR314pVqMD8k5X0emYw7hOq1fGOBYZt7EeMJEuR0ef/prKeqxV1mEhVq8lKHDZRzki0CMh\n",
       "pMiob16lHR2Qc8o/BkHGDeiB01CNa+Apzp7UCaLDJtBr1SgshIoe93WdOiDn5GucF+TkhJyrAi4r\n",
       "k5O0kmfvGabDJtBr1SgsBFGCOREY9+0LiA5YZmNm4sutjrS0wPxiv0uLpMMm0GvVKCyEFHkGGyLE\n",
       "JRyQc/Lz2GBjuE2rnAEj+4Eyy9MTWrm91T6RX3m9VtSBiV6rROGkXCky6lt597gqFgvIOW14YkZs\n",
       "0grnw0vuTw/Ose/zAnpiK3d3g8ivvF7LdGCm1ypROClXioz7dqtObmGxWkJAzomsKj/Im7Kzyrm/\n",
       "Et6UCa3c3sml8muMXqtG6Um5cuRgU3YD9AGZE/nymcsRuqU+ln8YuVu1vKiNL9VhY/VaHUpPytVv\n",
       "qbsRAe+HVy5uAcPy4nT+iancmVvVRK1Eh23G6bValJ6Uq8Cb7t2iC8g50dNk/pvQcXbtnHJYzVqi\n",
       "VqLD1mP1Wg0Kk3JN9XFWKS73AjKn3q+RlpOJERN9tGYhRkwcRoxgTqUgOYqtQdSR3uxdrQ0gO/aD\n",
       "RygO4s9V/YXlP7PVOgJGsqELAAAAAElFTkSuQmCC\n",
       "\" style=\"display:inline;vertical-align:middle;\" /></a>"
      ],
      "text/plain": [
       "(|(a_{i}, ..a_{_a}.., a_{j - 1}, a_{j})| = |(i, ..k.., j)|,  \\\\ ((j - 1) + 1) = j, (i, ..a.., j - 1, j) = (i, ..a.., j))"
      ]
     },
     "execution_count": 162,
     "metadata": {},
     "output_type": "execute_result"
    }
   ],
   "source": [
    "ExprTuple(*requirements).with_wrapping_at(1)"
   ]
  },
  {
   "cell_type": "code",
   "execution_count": 163,
   "metadata": {},
   "outputs": [],
   "source": [
    "%end basic_expressions"
   ]
  },
  {
   "cell_type": "markdown",
   "metadata": {},
   "source": [
    "# Next chapter: <a class=\"ProveItLink\" href=\"tutorial02_proof_basics.ipynb\">Proof Basics</a>\n",
    "\n",
    "## <a class=\"ProveItLink\" href=\"tutorial00_introduction.ipynb#contents\">Table of Contents</a>"
   ]
  },
  {
   "cell_type": "code",
   "execution_count": null,
   "metadata": {},
   "outputs": [],
   "source": []
  }
 ],
 "metadata": {
  "kernelspec": {
   "display_name": "Python 3",
   "language": "python",
   "name": "python3"
  },
  "language_info": {
   "codemirror_mode": {
    "name": "ipython",
    "version": 3
   },
   "file_extension": ".py",
   "mimetype": "text/x-python",
   "name": "python",
   "nbconvert_exporter": "python",
   "pygments_lexer": "ipython3",
   "version": "3.7.3"
  }
 },
 "nbformat": 4,
 "nbformat_minor": 1
}