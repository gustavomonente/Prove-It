{
 "cells": [
  {
   "cell_type": "markdown",
   "metadata": {},
   "source": [
    "Chapter 2.a.ii.  Lambda with an indeterminate number of parameters\n",
    "=======\n",
    "\n",
    "The previous chapter discussed **Lambda** expressions with a fixed number of parameters.  In this chapter, we will discuss **Lambda** expressions with an unspecified number of parameters.  This is done by using an **ExprRange** of **IndexedVar** expressions in the **ExprTuple** of parameters.  For example $(x_1, ..., x_n) \\mapsto (x_1 + ... + x_n)$.  In this new context, we revisit creation of **Lambda** expressions (abstraction), *relabeling* its parameters while retaining its meaning (alpha conversion), and *applying* the **Lambda** function to operators (beta reduction).  As a reminder, the beta reduction rule plays an important role in the **Instantiation** derivation rule, critical for constructing **Prove-It** proofs."
   ]
  },
  {
   "cell_type": "code",
   "execution_count": 1,
   "metadata": {},
   "outputs": [],
   "source": [
    "import proveit\n",
    "%begin lambda_indeterminate_params"
   ]
  },
  {
   "cell_type": "markdown",
   "metadata": {},
   "source": [
    "## Creating Lambda expressions (abstraction) with an indeterminate number of parameters\n",
    "\n",
    "We can make a **Lambda** expression with an indeterminate number of parameters by composing parameter entries from an `ExprRange` of `IndexedVar` expressions, such as $x_1, ..., x_n$.  It is important to recognize that although the number of parameters may not be a specific integer value, this number is tied to expressions in a consistent manner.  In the example of $x_1, ..., x_n$, there are $n$ parameters in this range and this same $n$ may be used elsewhere in the expression.  In the following example, we construct a lambda function that takes $2 n$ arguments and produces the dot product between the first $n$ and the last $n$ of these."
   ]
  },
  {
   "cell_type": "code",
   "execution_count": 2,
   "metadata": {},
   "outputs": [],
   "source": [
    "from proveit import Lambda, ExprTuple, ExprRange, IndexedVar\n",
    "from proveit._common_ import a, b, m, n, x, y\n",
    "from proveit.core_expr_types import Len\n",
    "from proveit.core_expr_types._common_ import x_1_to_n, y_1_to_n\n",
    "from proveit.logic import InSet\n",
    "from proveit.number import one, two, Naturals, Add, Mult"
   ]
  },
  {
   "cell_type": "code",
   "execution_count": 3,
   "metadata": {},
   "outputs": [
    {
     "data": {
      "text/html": [
       "<strong id=\"dot_prod_lambda\">dot_prod_lambda:</strong> <a class=\"ProveItLink\" href=\"__pv_it/1278355990675907e5b572a8d6a816a347fa75f50/expr.ipynb\"><img src=\"data:image/png;base64,iVBORw0KGgoAAAANSUhEUgAAAdYAAAAUCAMAAAAHk+xjAAAANlBMVEX///8oKCgNDQ3MzMxUVFR2\n",
       "dna6uroQEBCqqqqIiIgiIiJmZmYyMjJERETu7u6YmJjc3NwAAADtE0dfAAAAAXRSTlMAQObYZgAA\n",
       "A4xJREFUaN7VWuGitRoQda9SVNT7v+ylIsOQaN/vy4+z55TWrDWjIUUIIasiX27jWt7XSm2R/MQf\n",
       "eU6tlZU15EK+3briOFupbZK7X+S1OQuO1WnM68fTKufSnlZqm+Ryfw9acxYcq8NQE/l663lZPyu1\n",
       "VXLob+RPEaIrXsiCY7UbYv18WuWAH+eBNCu1VXLo74W0vpAFx8oYqyDfbzPDgwdvASu1XXLgrz2t\n",
       "r2TBsdIGP6VLzruV8Z43DJcbCMknc2odZLWDBEDv8gcXHjBYVuoDyQmP/fRyWh9lIRUGx0oby7Gu\n",
       "lr2u74ITsc+3tGZZBiGw4k+YqRN8q/XgA8CZacYTOQIvp9QnkhOU1fxyWlFKT8PgWGlDjEdXnfl+\n",
       "k4TpGk+nqaYm+BDog9lIJuN4WSo9eABhlASeVsIXb0SfUgskyxvKo3g5rQil+La5C4NjpY2BuWuu\n",
       "fqwmrRKNODg/GDUbr/QAAECjbuD++88M2rZd0+Ap9V6y3OY8Zeev352IYf/pigY/egVKKVCPkkKj\n",
       "oI3hkn31Y7Uz+JYdt0wPRO2TVnvwABJpFXC+YcJb3ARpzUgWXZ4y3V6+W1FK4WK5uwmDn1ZbmUC/\n",
       "2rQ6CDUpynn4LLbXDj7Ue3AAAT5LFGE6S5IswkWSccrsR0X4PoS5MDhW2jgn61EeUzCX1UH3IRQb\n",
       "NO4QTBFLZ/9UptUBBPipJRPcugmWTEWSccq/WjLdhzAXBn/JdKyK2TaSZXP7zaeCq5xHRnzIh1gl\n",
       "NwimVniXkKkz3VSthwvAx9+P9y7goARP6ANATnJ0Y0SUoT8sSTktibTGlEKJGKmgj2OljYOs7DjX\n",
       "j0NKwdtZ2KnK1fWrwF+Hjk4QotO82QBB9i7TttZ68AE8fHNXUjwnNJho/d+E5HChElOO/UUlNaMF\n",
       "vwKjBCXipEAfx8oY2LaVUzDKsuobtYHug4ZG56e50cMB4OMTWVjRc5uHmVkhpBz5+83mIZCYIOX3\n",
       "cax2A9tkdk9AfdkuQfyIaWYIwUbqn+9mU41YvYcLAOC/stU/omlFKUf+5ONts+iKmBKUiJOCYQZb\n",
       "/WQJB8o6ia3jxzZV0ZYeMvZNzeG9AueF/nfhDR4uAB//wYsyKzUjObiJEMq/eTEXUQISE6RAmOGL\n",
       "udwL3KIX9qr0PNMzAm3xgAFgEUmPj6ev0VGPyx9+jY6HwbGyxsc/elH/80cv6q/86MWx2o3/ACqj\n",
       "NcomKa7uAAAAAElFTkSuQmCC\n",
       "\" style=\"display:inline;vertical-align:middle;\" /></a><br>"
      ],
      "text/plain": [
       "dot_prod_lambda: (x_{1}, ..x_{_a}.., x_{n}, y_{1}, ..y_{_a}.., y_{n}) -> ((x_{1} * y_{1}) + ..(x_{a} * y_{a}).. + (x_{n} * y_{n}))"
      ]
     },
     "execution_count": 3,
     "metadata": {},
     "output_type": "execute_result"
    }
   ],
   "source": [
    "dot_prod_lambda = \\\n",
    "    Lambda((x_1_to_n, y_1_to_n), \n",
    "           Add(ExprRange(a, Mult(IndexedVar(x, a),\n",
    "                                 IndexedVar(y, a)), one, n)))"
   ]
  },
  {
   "cell_type": "markdown",
   "metadata": {},
   "source": [
    "It is useful to make the distinction between parameter entries (which may be ExprRange or IndexedVar expressions) and parameter variables (which may only be Variable types).  In the `dot_prod_lambda` example, the parameter entries are $x_1, ..., x_n$ and $y_1, ..., y_n$ but the variables are $x$ and $y$."
   ]
  },
  {
   "cell_type": "code",
   "execution_count": 4,
   "metadata": {},
   "outputs": [
    {
     "data": {
      "text/html": [
       "<a class=\"ProveItLink\" href=\"__pv_it/b16773b4884e29d3500ec53f3ce0c1f03144d3750/expr.ipynb\"><img src=\"data:image/png;base64,iVBORw0KGgoAAAANSUhEUgAAAMcAAAAUBAMAAADLgTR0AAAAMFBMVEX////MzMxUVFR2dna6uroQ\n",
       "EBCqqqqIiIgiIiJmZmYyMjJERETu7u6YmJjc3NwAAACgK8IjAAAAAXRSTlMAQObYZgAAAblJREFU\n",
       "OMu1lT9Lw0AYxp+0aZs2SdvN0W6u3cTNpeDWCn4A3UWCHWqnFpHq4FB10UIxn0DEVdRQkAoO5hNI\n",
       "BhUHhSqCIA7ev6Shtdcp73D33vF78tzlTe6ArItIY4M299F6IOaR5ixiE8MGzHbEJpgHNC9qk1vg\n",
       "NWoPZBZRJ11/86lqScERwqhbeHZkhQgB8TauyEzR3NVsKOeTNZwIIq5W0JAJOMDDtNEiM078V/WU\n",
       "k+ZkDSOG45e0jUuZgAEiTzaxQtYJna5JnawRRBBOwsK3TMABHsqAmgA5S24iiGGUHeVDKmBAYNKi\n",
       "/Wx+mgklzO5MXQw7SFWkAgoInmCk8EmngZQj03DCLLkJUZgL6AWpCQUETwq/QLa2eoN3vpMH+gnR\n",
       "xvgJJ5x420LO4cghyq5MwADOI13EEtCr9bsuN9H2CaAVSLPtJ3tOQMyhJJBe7dSTCTjAeGTyoWOF\n",
       "7X79n1cVpMs4UnykM03Q8fm78AGZpJri+D8SZNkBdtYYErONL6mAAYInBySu/Uccf1owxk+XfpCp\n",
       "BVRdhmiubkkFDBC8PXppmePfyejFSRG1diAXDAHotB5RX7+PwB9tW6NDGXTd5wAAAABJRU5ErkJg\n",
       "gg==\n",
       "\" style=\"display:inline;vertical-align:middle;\" /></a>"
      ],
      "text/plain": [
       "(x_{1}, ..x_{_a}.., x_{n}, y_{1}, ..y_{_a}.., y_{n})"
      ]
     },
     "execution_count": 4,
     "metadata": {},
     "output_type": "execute_result"
    }
   ],
   "source": [
    "dot_prod_lambda.parameters"
   ]
  },
  {
   "cell_type": "code",
   "execution_count": 5,
   "metadata": {},
   "outputs": [
    {
     "data": {
      "text/html": [
       "<a class=\"ProveItLink\" href=\"__pv_it/381a8da4a9fdeac3d03f772fe63417dc7a6055a40/expr.ipynb\"><img src=\"data:image/png;base64,iVBORw0KGgoAAAANSUhEUgAAACwAAAAUBAMAAAAEg8LyAAAAMFBMVEX////MzMxUVFR2dna6uroQ\n",
       "EBCqqqqIiIgiIiJmZmYyMjJERETu7u6YmJjc3NwAAACgK8IjAAAAAXRSTlMAQObYZgAAAP9JREFU\n",
       "GNNjYOC7wIAG2B4AidMMGEAPiNdhCp9iYOCdgCnMXMDA8QBTmCeA4QUDFrCEoRJIHi96UlwA5h+f\n",
       "zsAXw8BgybAXqMeAt51jAVjYwJWB/QMDwy2GNqANB5j/sICt4EuYxcC9gYEhgyEEqBrMBNvFEM7A\n",
       "DzROHiTMAGaCAcsfBnkBkHAbiAdiggHnAoZSIOUBspLtQD0D+wGwMLcCwyYGkJWWDAz+CfsZ3jLw\n",
       "/AKpVmD5C6QmA9UzHCo/PhcYjB1ADTzqlf+AwguRPM92AGo6A08DUlAxA7EWw3kHcFAx7IMJHwfi\n",
       "XobtkIBFRAMoltwrQU4FqcSMNN4HDAD7TDyPVbLVsgAAAABJRU5ErkJggg==\n",
       "\" style=\"display:inline;vertical-align:middle;\" /></a>"
      ],
      "text/plain": [
       "(x, y)"
      ]
     },
     "execution_count": 5,
     "metadata": {},
     "output_type": "execute_result"
    }
   ],
   "source": [
    "dot_prod_lambda.parameterVars"
   ]
  },
  {
   "cell_type": "markdown",
   "metadata": {},
   "source": [
    "Note that parameter variables must be unique (rather than parameter entries)."
   ]
  },
  {
   "cell_type": "code",
   "execution_count": 6,
   "metadata": {},
   "outputs": [
    {
     "name": "stdout",
     "output_type": "stream",
     "text": [
      "Expected error: Parameter variables must be unique.  (x_{1}, ..x_{_a}.., x_{n}, x) does not satisfy this criterion.\n"
     ]
    }
   ],
   "source": [
    "from proveit import ParameterCollisionError\n",
    "try:\n",
    "    Lambda((x_1_to_n, x), Mult(x_1_to_n))\n",
    "    assert False, \"Expected an ParameterCollisionError error.\"\n",
    "except ParameterCollisionError as e:\n",
    "    print(\"Expected error:\", e)"
   ]
  },
  {
   "cell_type": "code",
   "execution_count": 7,
   "metadata": {},
   "outputs": [
    {
     "name": "stdout",
     "output_type": "stream",
     "text": [
      "Expected error: Parameter variables must be unique.  (x_{n}, x_{m}) does not satisfy this criterion.\n"
     ]
    }
   ],
   "source": [
    "try:\n",
    "    Lambda((IndexedVar(x, n), IndexedVar(x, m)), Mult(IndexedVar(x, n), IndexedVar(x, m)))\n",
    "    assert False, \"Expected an ParameterCollisionError error.\"\n",
    "except ParameterCollisionError as e:\n",
    "    print(\"Expected error:\", e)"
   ]
  },
  {
   "cell_type": "markdown",
   "metadata": {},
   "source": [
    "Also, none of the parameter variables may occur as free variables within any parameter index."
   ]
  },
  {
   "cell_type": "code",
   "execution_count": 8,
   "metadata": {},
   "outputs": [
    {
     "name": "stdout",
     "output_type": "stream",
     "text": [
      "Expected error: Parameter variables may not occur as free variables in parameter indices.  (x_{n}, y_{x}) does not satisfy this criterion.\n"
     ]
    }
   ],
   "source": [
    "try:\n",
    "    Lambda((IndexedVar(x, n), IndexedVar(y, x)), Mult(IndexedVar(x, n), IndexedVar(y, x)))\n",
    "    assert False, \"Expected an ParameterCollisionError error.\"\n",
    "except ParameterCollisionError as e:\n",
    "    print(\"Expected error:\", e)"
   ]
  },
  {
   "cell_type": "markdown",
   "metadata": {},
   "source": [
    "Parameters are not restricted to occurrences where the ranges matches.  Any ambiguity must be resolved when the **Lambda** expression is applied, however.  Also, relabeling will not be allowed as we shall see in the next section."
   ]
  },
  {
   "cell_type": "code",
   "execution_count": 9,
   "metadata": {},
   "outputs": [
    {
     "data": {
      "text/html": [
       "<strong id=\"inconsistent_dot_prod\">inconsistent_dot_prod:</strong> <a class=\"ProveItLink\" href=\"__pv_it/5440e3629ed1ab2c7a881cfbd21110d1338103ef0/expr.ipynb\"><img src=\"data:image/png;base64,iVBORw0KGgoAAAANSUhEUgAAAd8AAAAUCAMAAAD7hsepAAAANlBMVEX///8oKCgNDQ3MzMxUVFR2\n",
       "dna6uroQEBCqqqqIiIgiIiJmZmYyMjJERETu7u6YmJjc3NwAAADtE0dfAAAAAXRSTlMAQObYZgAA\n",
       "A6dJREFUaN7VWtGWoyAMZRdEQQX9/59dUCkEAoNg94w8TDptTO5NIEGUEEI2Td48pu2GsuPawfmW\n",
       "v/vIHouHk2ol7x6sPuCOaxdn9o0EP5gFh++Sy/by/KqlWtVx7eJ8wx+5jezBeJxSz+TtYxCVio5r\n",
       "J+fE3yTumoiveDQLDt8h5fb6/Kox84OIuDmunZwTf/35fTQLDp+VmyTvHwvPRBGuCse1m3Psrzu/\n",
       "D2fB4TNSXCFQQrCNi0H0zJuyDSVm+8s2qnYHuIXB5xFuU2DYHNcbnHGPw/xwfu9noRhMh8/I9dyW\n",
       "q8H0ACmIPHoybdrMQRuIV8Jt4RB7s4fQAuheSyajE3Bzcb3DGcesl4fziyJqCgXAZ6ScTnUzDYZd\n",
       "EW76AJ3npnIR2sBu8CYyW7/r2uohsBBFS2byS8QazO+L68+c1Q+YJ/lwfhFEmTX0UygAPiNH/rnO\n",
       "6/Km/KqsP/fzaFntotUDsBAO6mfx3z8LGPvue+XF9UfOal/KmL2/4XAix0OwqlWAXYEiwiLgkGVD\n",
       "AfAZOXr6Xpc3t/u9NJO5mZrGJ233EFjI5FfCfsRlsBWK8pvnLFkZM90fXr8oImx4ZJlQxPl1NQvo\n",
       "Nuf3Y0PPmgoRbUOOiiLGDg8fC9A+z9VnuiiSrc9VnFHM/Ev1GYug2XHRqlAEig6fkVdnn9TZqoVq\n",
       "j35oQ/PRGB5hH1mZ+9Oa348FaD+7v4KnQtH+qoozivlb+yskgsx8xWpCESoG+6tzK833iaz755Db\n",
       "MfHlvuJDaGNTwpqwJSToZjOzWrrZg7cQ2rdfD37rCKrznLttyHOOl0mKGfjDslWkgF6RInIMeeoN\n",
       "D0Wo6D4YeYJWTAhzR6V1VH+ka2efuo98uHSgDWYI8BEasRrzvjV7CC0E9s0ypZlyTqNmHMoc52hH\n",
       "g2BO/CWnUXku+BUYIsuQjqB448BSRYfPSuxkzDOZVFVdTsdIj+lDY4V56fVwWgjtq9piXzqfLHSM\n",
       "GHPi7yvnk5ahMJvpbSe0CCxRdPgOiZ1s+/u7oerUAblVtW1E8okGCmyxhYp3ePAWoP0nni9MaH5R\n",
       "zIk/dftELr4iRXQwtEtTr1iMolAARfB8gazx1NlmuTNxnYLVHBpiNzK2HolBhwrS/LeKHg/eArBf\n",
       "/7zOcS1xhusKwfyV54MJooOh3R9ubFAlYIkifD5YfLJc806BrlXgpmHQLg+ohTQ0hZly9/k+5nH9\n",
       "Dc/38VCgk/jl7+fo//x+jv7l7+c4fIf8B2OQNwjgoVWaAAAAAElFTkSuQmCC\n",
       "\" style=\"display:inline;vertical-align:middle;\" /></a><br>"
      ],
      "text/plain": [
       "inconsistent_dot_prod: (x_{1}, ..x_{_a}.., x_{n}, y_{1}, ..y_{_a}.., y_{n}) -> ((x_{1} * y_{1}) + ..(x_{a} * y_{a}).. + (x_{m} * y_{m}))"
      ]
     },
     "execution_count": 9,
     "metadata": {},
     "output_type": "execute_result"
    }
   ],
   "source": [
    "inconsistent_dot_prod = Lambda((x_1_to_n, y_1_to_n), Add(ExprRange(a, Mult(IndexedVar(x, a),\n",
    "                                                                           IndexedVar(y, a)), one, m)))"
   ]
  },
  {
   "cell_type": "markdown",
   "metadata": {},
   "source": [
    "## Relabeling with an indeterminant number of parameters (alpha conversion)\n",
    "\n",
    "When a parameter variable occurs in the **Lambda** body only within ranges that match the range of the parameter entry, relabeling is straightforward.  For example, with"
   ]
  },
  {
   "cell_type": "code",
   "execution_count": 10,
   "metadata": {},
   "outputs": [
    {
     "data": {
      "text/html": [
       "<a class=\"ProveItLink\" href=\"__pv_it/1278355990675907e5b572a8d6a816a347fa75f50/expr.ipynb\"><img src=\"data:image/png;base64,iVBORw0KGgoAAAANSUhEUgAAAdYAAAAUCAMAAAAHk+xjAAAANlBMVEX///8oKCgNDQ3MzMxUVFR2\n",
       "dna6uroQEBCqqqqIiIgiIiJmZmYyMjJERETu7u6YmJjc3NwAAADtE0dfAAAAAXRSTlMAQObYZgAA\n",
       "A4xJREFUaN7VWuGitRoQda9SVNT7v+ylIsOQaN/vy4+z55TWrDWjIUUIIasiX27jWt7XSm2R/MQf\n",
       "eU6tlZU15EK+3briOFupbZK7X+S1OQuO1WnM68fTKufSnlZqm+Ryfw9acxYcq8NQE/l663lZPyu1\n",
       "VXLob+RPEaIrXsiCY7UbYv18WuWAH+eBNCu1VXLo74W0vpAFx8oYqyDfbzPDgwdvASu1XXLgrz2t\n",
       "r2TBsdIGP6VLzruV8Z43DJcbCMknc2odZLWDBEDv8gcXHjBYVuoDyQmP/fRyWh9lIRUGx0oby7Gu\n",
       "lr2u74ITsc+3tGZZBiGw4k+YqRN8q/XgA8CZacYTOQIvp9QnkhOU1fxyWlFKT8PgWGlDjEdXnfl+\n",
       "k4TpGk+nqaYm+BDog9lIJuN4WSo9eABhlASeVsIXb0SfUgskyxvKo3g5rQil+La5C4NjpY2BuWuu\n",
       "fqwmrRKNODg/GDUbr/QAAECjbuD++88M2rZd0+Ap9V6y3OY8Zeev352IYf/pigY/egVKKVCPkkKj\n",
       "oI3hkn31Y7Uz+JYdt0wPRO2TVnvwABJpFXC+YcJb3ARpzUgWXZ4y3V6+W1FK4WK5uwmDn1ZbmUC/\n",
       "2rQ6CDUpynn4LLbXDj7Ue3AAAT5LFGE6S5IswkWSccrsR0X4PoS5MDhW2jgn61EeUzCX1UH3IRQb\n",
       "NO4QTBFLZ/9UptUBBPipJRPcugmWTEWSccq/WjLdhzAXBn/JdKyK2TaSZXP7zaeCq5xHRnzIh1gl\n",
       "NwimVniXkKkz3VSthwvAx9+P9y7goARP6ANATnJ0Y0SUoT8sSTktibTGlEKJGKmgj2OljYOs7DjX\n",
       "j0NKwdtZ2KnK1fWrwF+Hjk4QotO82QBB9i7TttZ68AE8fHNXUjwnNJho/d+E5HChElOO/UUlNaMF\n",
       "vwKjBCXipEAfx8oY2LaVUzDKsuobtYHug4ZG56e50cMB4OMTWVjRc5uHmVkhpBz5+83mIZCYIOX3\n",
       "cax2A9tkdk9AfdkuQfyIaWYIwUbqn+9mU41YvYcLAOC/stU/omlFKUf+5ONts+iKmBKUiJOCYQZb\n",
       "/WQJB8o6ia3jxzZV0ZYeMvZNzeG9AueF/nfhDR4uAB//wYsyKzUjObiJEMq/eTEXUQISE6RAmOGL\n",
       "udwL3KIX9qr0PNMzAm3xgAFgEUmPj6ev0VGPyx9+jY6HwbGyxsc/elH/80cv6q/86MWx2o3/ACqj\n",
       "NcomKa7uAAAAAElFTkSuQmCC\n",
       "\" style=\"display:inline;vertical-align:middle;\" /></a>"
      ],
      "text/plain": [
       "(x_{1}, ..x_{_a}.., x_{n}, y_{1}, ..y_{_a}.., y_{n}) -> ((x_{1} * y_{1}) + ..(x_{a} * y_{a}).. + (x_{n} * y_{n}))"
      ]
     },
     "execution_count": 10,
     "metadata": {},
     "output_type": "execute_result"
    }
   ],
   "source": [
    "dot_prod_lambda"
   ]
  },
  {
   "cell_type": "markdown",
   "metadata": {},
   "source": [
    "both $x$ and $y$ have consistent $1$ to $n$ ranges in the body and the parameters.  So we can relabel with"
   ]
  },
  {
   "cell_type": "code",
   "execution_count": 11,
   "metadata": {},
   "outputs": [
    {
     "data": {
      "text/html": [
       "<strong id=\"dot_prod_lambda_relabeled\">dot_prod_lambda_relabeled:</strong> <a class=\"ProveItLink\" href=\"__pv_it/9a32d9d5152de6638bb5f0ccfe11dda7cb711d4b0/expr.ipynb\"><img src=\"data:image/png;base64,iVBORw0KGgoAAAANSUhEUgAAAc0AAAAUCAMAAADY3ZZ8AAAANlBMVEX///8oKCgNDQ1UVFTMzMx2\n",
       "dna6uroQEBCqqqqIiIgiIiJmZmYyMjJERETu7u6YmJjc3NwAAADzUGF5AAAAAXRSTlMAQObYZgAA\n",
       "A49JREFUaN7VWuGarCAIdbey1LJ6/5e9ZuGIYqnVfHfnx9K3CpwDig4NY4wtM/urn2HJnws06+mW\n",
       "eGPlwG5hAqmnrwReT718Xr9Z8vXL6FL+muWVwNwKAWA65Lh8aSON6nl9PWZrL6yQbuwv31sJreVW\n",
       "CADTLmf1pWSydXhBvxN5ykCzgC7hL/Q2iFISkUZR/KkQACYr5be2Jl/1C/q6p2eLgBbQzKdL+Qu9\n",
       "PZDNkviTIQBMm1zkt7ZmJ1/RHzkdNbzkgWYBXdJf4O1+NoviT4cAMBkpgPWiOiX6W9vn3MTYCKFu\n",
       "FNuEfufShm8TmDjQLKBL+uvUw9ksij8dAsBk5HRcj3lvdvy42ue27pbrmyAKwjpq82epte/p43Nn\n",
       "pPM3ICdAM58ujXceH84mBagwBIDJSDkcRXezqjbYrVJVNdEzQdKwNX8Vtfadfvh/SWeTiclb6AfN\n",
       "a7r6HO8gH85mDCgO7EUIAJOR/V50lZ0o94m8KpvIBDE82tXV1dr39NGndev592dEn3X9HHIHzUu6\n",
       "Zvmf4nXeOutC9lY0WYceqUEBinbkeQgAk5GHtX6yE9sb2UQmEl+VuL1iV9n39BPZlPjQ4dK7sQTZ\n",
       "TNOVzSnedn14b1KAwltvcx4CL5v7Tt8TPqysPpu+iVnNrRD4wrDObglW2Xf6gXGeqLTtqFmq0ubQ\n",
       "pfHydyrtVfBOQwCYjNxPYW0T3ox7u68ymx8TM9+OgR4d11vZ20+HymyCfmA8dQvCLRZ8C8qhS+N9\n",
       "6RZ0FbzTEHi3oON6Oxkns9nSnYf+U7Dd08mDZ2LRYrNg17Ubb4z/SbFq+6DvG7eHiTtGUPOaq9Qt\n",
       "PkU37H9GeLE3Kjdn4UlkMwIU8iMgBVMAk5EQWfNNpl0awX300p1ErnQTDzDJN9GI7c6NxrUS3YxL\n",
       "Q5H9j75nfNuD9EGt2uAQRZKkG9SaGG/sLaqbaR4JDQIQ5kdCQlMA0yaJzpJDP+Q0E6hJfWuXSkuP\n",
       "37TvG2c6s2qfdPYuC/9nQujtlc4e4pe4cXpTAJOVRNfXfanqsm7eRFNoO84lH1p6/J59ZPyJrvtw\n",
       "lc3PhNCbLu6dRRoRIMyPbrqh+PpddzYtYX9Oro0d0TmRoibxrbwcVSEav2vfN17wjgpopukm+5Vu\n",
       "witvxEJAiF+iWPjxRW/ETt6WZr0Tn+vHH7A/vfa2+p63kt06PbIYQP7hX5LMX/0lyfwf/pIEMFn5\n",
       "D9tYNhN6+XKfAAAAAElFTkSuQmCC\n",
       "\" style=\"display:inline;vertical-align:middle;\" /></a><br>"
      ],
      "text/plain": [
       "dot_prod_lambda_relabeled: (a_{1}, ..a_{_a}.., a_{n}, b_{1}, ..b_{_a}.., b_{n}) -> ((a_{1} * b_{1}) + ..(a_{_a} * b_{_a}).. + (a_{n} * b_{n}))"
      ]
     },
     "execution_count": 11,
     "metadata": {},
     "output_type": "execute_result"
    }
   ],
   "source": [
    "dot_prod_lambda_relabeled = dot_prod_lambda.relabeled({x:a, y:b})"
   ]
  },
  {
   "cell_type": "code",
   "execution_count": 12,
   "metadata": {},
   "outputs": [],
   "source": [
    "assert dot_prod_lambda_relabeled == dot_prod_lambda"
   ]
  },
  {
   "cell_type": "markdown",
   "metadata": {},
   "source": [
    "When they do not match, a `DisallowedParameterRelabeling` exception is raised whenever relabeling is attempted.  The attempt may be direct:"
   ]
  },
  {
   "cell_type": "code",
   "execution_count": 13,
   "metadata": {},
   "outputs": [
    {
     "name": "stdout",
     "output_type": "stream",
     "text": [
      "Expected error: Cannot relabel x in (x_{1}, ..x_{_a}.., x_{n}, y_{1}, ..y_{_a}.., y_{n}) -> ((x_{1} * y_{1}) + ..(x_{a} * y_{a}).. + (x_{m} * y_{m})); relabeling is only allowed when all occurrences of a range of parameters matches the exact range appearing as parameters (otherwise, the bound verses free portions of the range may be ambiguous).\n"
     ]
    }
   ],
   "source": [
    "from proveit import DisallowedParameterRelabeling\n",
    "try:\n",
    "    inconsistent_dot_prod.relabeled({x:a, y:b})\n",
    "    assert False, \"Expected an DisallowedParameterRelabeling error.\"\n",
    "except DisallowedParameterRelabeling as e:\n",
    "    print(\"Expected error:\", e)"
   ]
  },
  {
   "cell_type": "markdown",
   "metadata": {},
   "source": [
    "Or relabeling may be indirect when the system tries to automaticically avoid a variable collision:"
   ]
  },
  {
   "cell_type": "code",
   "execution_count": 14,
   "metadata": {},
   "outputs": [
    {
     "data": {
      "text/html": [
       "<strong id=\"try_this\">try_this:</strong> <a class=\"ProveItLink\" href=\"__pv_it/12ff9fe50641ea12eab8ff387f889ab957df55a50/expr.ipynb\"><img src=\"data:image/png;base64,iVBORw0KGgoAAAANSUhEUgAAAkYAAAAUCAMAAABf2gKLAAAANlBMVEX///8oKCgNDQ3MzMyYmJjc\n",
       "3NyIiIhUVFR2dna6urqqqqpmZmYyMjIiIiIQEBBERETu7u4AAADFAwRaAAAAAXRSTlMAQObYZgAA\n",
       "BIxJREFUaN7dWtuypCgQZAZBEFD8/58dAUEuhQ20RmwvDweiT1lkpslNRai9UCmxbZAJ/XJZSHus\n",
       "p/oG5R4cqB/y6/KdjUkqjpDeVtV2PeOu1hv67TI33z9P1dbtSj2Oo6O8AxWE7RvOGFL02UiSH7eR\n",
       "lq2RnupZtyr1OI6O8g5UELZvOGPsS5eNJoF+vTDaFuep+rpVqWEcC+3MUFzwFlQQ9tmwxuC7ru6G\n",
       "CGAjRX7eRnptIhyonvWNUg/h+N5Gb0EFYZ8NawxWX0UXUdqIKPT7RfIWwp6qr5l6G8fXNnoPKgjb\n",
       "Nawx5EypCFNgun1WpY3oqbSmdCacMvqFqz+k0FSYf5FVD3dQScAuu9wQ9lR9nSrVzqOOhImHbfQA\n",
       "1AbxA2zXMMbQu9THHwLpiJatsNHmzpOaHeuwokiNbxM/pmCIm1mT7sOLeC3BJGHjpIRPqoFyqlQ7\n",
       "jzqSST5sowegNogfYLuGMcZiV9GdgqoiuunMRsp5nB2/s+NSbqHikWcAaQrgAciChIG5bYM9JAlS\n",
       "9VXFRgnhk6qvM6U0zCMBqj9QWdTDNuqCCg3tz9rFsF3DGMMG652d//j7RyZl33lqo5WH/nwXWIiR\n",
       "pVjXUF7/X6lTY6yHKEFW8DXGbgifVH2dKnUMeIBHCjTE1KhcOJjtXK22mlsGIXhBB1RQsTiyol0M\n",
       "2zWMMewDBh7OhypdCrniCLQRSrrgozu6/Xb42fMG3vFwD1GCmo1uCGc2ypWaQR4J0CsGpoL3h2ej\n",
       "LqhAiSJr2sE22s1qKsL5ML1bWGoEL2oo6WLURjDKUOygout4D1GCzCyVRS0hnC1qmVIVHhWgMBX+\n",
       "0qLWBnVMuxg2D4uamcP1OsGqJg+sky32ot3ui+rhmxynmMSEKc0fbG6z/zNoo5Agy1/dYieEsy12\n",
       "phTIowoUpvLWFrsFqpfkOLvhJu2uQGCLPR+dbdf9S7rmwHMjd8YzE+a2h/eApzLXXuBaY4uffCNJ\n",
       "MXFDeiXpxWI2YdNoD1GCOL/5nTURFkmdKXVN/pAUxdguqGQ4AFfccazYqAPqKcl8OGu+RVwGBtiu\n",
       "YQ/8grLaO2GBSxs5EfRMqaZimtJZTvmdxrXGhtbVcEFxCqKpyXDOwiGLCRHu2DrSw5UgzX9MOriF\n",
       "sO/TWxhWqiIFEJVRAXBkrrjjCNuoHaqXhJdmhrWLAgNs12C864BefxkSlFl022pWlPnQg69AgJBf\n",
       "9uASJPl14wqZvQxp29Wr+91GHFHgeOxlSEsxkuA12e7CiPPAAPtsDNkIejUblGFtTwXLsmJrdhwH\n",
       "zNLM4ny8hyhBmn/w1ey4jUAqJQ7d+7y+uKADqpGEHqd/siN8izgPBF/N9toIbaT6PEq33B8oiJiN\n",
       "n+ILjgOUWeHpFz1cCdL8zU/ePdWtfYwvoI0gKu98KNIM1UpiJpppg8Zmpl0UWPlQpNdGxWdrRKh9\n",
       "psV+tTrGoTFslny/nvsAfizO+JsergRJ/m3ss7WmexOAZvwAKj3m7JifWqFaSczJlMxM3yHOAwPs\n",
       "jYzYiKr/x0e003/kI9rpNz+iDbDPBpWK/wPP6kMU5zKlBQAAAABJRU5ErkJggg==\n",
       "\" style=\"display:inline;vertical-align:middle;\" /></a><br>"
      ],
      "text/plain": [
       "try_this: b -> [(x_{1}, ..x_{_a}.., x_{n}, y_{1}, ..y_{_a}.., y_{n}) -> ((b * x_{1} * y_{1}) + ..(b * x_{a} * y_{a}).. + (b * x_{m} * y_{m}))]"
      ]
     },
     "execution_count": 14,
     "metadata": {},
     "output_type": "execute_result"
    }
   ],
   "source": [
    "try_this = Lambda(b, Lambda((x_1_to_n, y_1_to_n), Add(ExprRange(a, Mult(b, IndexedVar(x, a),\n",
    "                                                                        IndexedVar(y, a)), one, m))))"
   ]
  },
  {
   "cell_type": "code",
   "execution_count": 15,
   "metadata": {},
   "outputs": [
    {
     "name": "stdout",
     "output_type": "stream",
     "text": [
      "Expected error: Cannot relabel x in (x_{1}, ..x_{_a}.., x_{n}, y_{1}, ..y_{_a}.., y_{n}) -> ((b * x_{1} * y_{1}) + ..(b * x_{a} * y_{a}).. + (b * x_{m} * y_{m})); relabeling is only allowed when all occurrences of a range of parameters matches the exact range appearing as parameters (otherwise, the bound verses free portions of the range may be ambiguous). Thus, a collision of variable names induced by the following replacement map could not be avoided: {b: x}.\n"
     ]
    }
   ],
   "source": [
    "try:\n",
    "    try_this.apply(x) # SHOULD NOT BE ALLOWED!\n",
    "    assert False, \"Expected an DisallowedParameterRelabeling error.\"\n",
    "except DisallowedParameterRelabeling as e:\n",
    "    print(\"Expected error:\", e)"
   ]
  },
  {
   "cell_type": "markdown",
   "metadata": {},
   "source": [
    "It is, however, possible to perform an internal relabeling in such cases in the process of performing an lambda application.  We will show an example of this in the next section."
   ]
  },
  {
   "cell_type": "markdown",
   "metadata": {},
   "source": [
    "## Application with an indeterminant number of parameters (beta reduction)\n",
    "\n",
    "Starting with a simple case, let us call the `apply` method on our `dot_prod_labmda` example to perform beta reduction."
   ]
  },
  {
   "cell_type": "code",
   "execution_count": 16,
   "metadata": {},
   "outputs": [
    {
     "data": {
      "text/html": [
       "<a class=\"ProveItLink\" href=\"__pv_it/1278355990675907e5b572a8d6a816a347fa75f50/expr.ipynb\"><img src=\"data:image/png;base64,iVBORw0KGgoAAAANSUhEUgAAAdYAAAAUCAMAAAAHk+xjAAAANlBMVEX///8oKCgNDQ3MzMxUVFR2\n",
       "dna6uroQEBCqqqqIiIgiIiJmZmYyMjJERETu7u6YmJjc3NwAAADtE0dfAAAAAXRSTlMAQObYZgAA\n",
       "A4xJREFUaN7VWuGitRoQda9SVNT7v+ylIsOQaN/vy4+z55TWrDWjIUUIIasiX27jWt7XSm2R/MQf\n",
       "eU6tlZU15EK+3briOFupbZK7X+S1OQuO1WnM68fTKufSnlZqm+Ryfw9acxYcq8NQE/l663lZPyu1\n",
       "VXLob+RPEaIrXsiCY7UbYv18WuWAH+eBNCu1VXLo74W0vpAFx8oYqyDfbzPDgwdvASu1XXLgrz2t\n",
       "r2TBsdIGP6VLzruV8Z43DJcbCMknc2odZLWDBEDv8gcXHjBYVuoDyQmP/fRyWh9lIRUGx0oby7Gu\n",
       "lr2u74ITsc+3tGZZBiGw4k+YqRN8q/XgA8CZacYTOQIvp9QnkhOU1fxyWlFKT8PgWGlDjEdXnfl+\n",
       "k4TpGk+nqaYm+BDog9lIJuN4WSo9eABhlASeVsIXb0SfUgskyxvKo3g5rQil+La5C4NjpY2BuWuu\n",
       "fqwmrRKNODg/GDUbr/QAAECjbuD++88M2rZd0+Ap9V6y3OY8Zeev352IYf/pigY/egVKKVCPkkKj\n",
       "oI3hkn31Y7Uz+JYdt0wPRO2TVnvwABJpFXC+YcJb3ARpzUgWXZ4y3V6+W1FK4WK5uwmDn1ZbmUC/\n",
       "2rQ6CDUpynn4LLbXDj7Ue3AAAT5LFGE6S5IswkWSccrsR0X4PoS5MDhW2jgn61EeUzCX1UH3IRQb\n",
       "NO4QTBFLZ/9UptUBBPipJRPcugmWTEWSccq/WjLdhzAXBn/JdKyK2TaSZXP7zaeCq5xHRnzIh1gl\n",
       "NwimVniXkKkz3VSthwvAx9+P9y7goARP6ANATnJ0Y0SUoT8sSTktibTGlEKJGKmgj2OljYOs7DjX\n",
       "j0NKwdtZ2KnK1fWrwF+Hjk4QotO82QBB9i7TttZ68AE8fHNXUjwnNJho/d+E5HChElOO/UUlNaMF\n",
       "vwKjBCXipEAfx8oY2LaVUzDKsuobtYHug4ZG56e50cMB4OMTWVjRc5uHmVkhpBz5+83mIZCYIOX3\n",
       "cax2A9tkdk9AfdkuQfyIaWYIwUbqn+9mU41YvYcLAOC/stU/omlFKUf+5ONts+iKmBKUiJOCYQZb\n",
       "/WQJB8o6ia3jxzZV0ZYeMvZNzeG9AueF/nfhDR4uAB//wYsyKzUjObiJEMq/eTEXUQISE6RAmOGL\n",
       "udwL3KIX9qr0PNMzAm3xgAFgEUmPj6ev0VGPyx9+jY6HwbGyxsc/elH/80cv6q/86MWx2o3/ACqj\n",
       "NcomKa7uAAAAAElFTkSuQmCC\n",
       "\" style=\"display:inline;vertical-align:middle;\" /></a>"
      ],
      "text/plain": [
       "(x_{1}, ..x_{_a}.., x_{n}, y_{1}, ..y_{_a}.., y_{n}) -> ((x_{1} * y_{1}) + ..(x_{a} * y_{a}).. + (x_{n} * y_{n}))"
      ]
     },
     "execution_count": 16,
     "metadata": {},
     "output_type": "execute_result"
    }
   ],
   "source": [
    "dot_prod_lambda"
   ]
  },
  {
   "cell_type": "markdown",
   "metadata": {},
   "source": [
    "Let's apply this to some operands for the simple case where they are composed of two expression ranges that have the same start and end indices as the corresponding parameters."
   ]
  },
  {
   "cell_type": "code",
   "execution_count": 17,
   "metadata": {},
   "outputs": [
    {
     "data": {
      "text/html": [
       "<strong id=\"operands\">operands:</strong> <a class=\"ProveItLink\" href=\"__pv_it/6553272a20966cc61d203aac179c3f57ff3c6b030/expr.ipynb\"><img src=\"data:image/png;base64,iVBORw0KGgoAAAANSUhEUgAAAOkAAAAUBAMAAACaFQcXAAAAMFBMVEX////MzMxUVFR2dna6uroQ\n",
       "EBCqqqqIiIgiIiJmZmYyMjJERETu7u6YmJjc3NwAAACgK8IjAAAAAXRSTlMAQObYZgAAAaFJREFU\n",
       "SMdjYOC7wEBfkAciTtPZUgamB0BiHRCnHiBKPVsMugiRGlEAzwIGBt4JDDzK+kRpPmT0B2Z9AUQ/\n",
       "kRqhymHAnIGBA+Tf+8Q5mfcPujH3ybH1KAPDCwa628rlwFBJQLOz3vPKAnJsRdIIUw4VYp7AsJeA\n",
       "ZoPdBTz/yLEVSSNMOVSIdwFDG37NjAldDHwfybAVWSNUOUyIrYEhBL9mHp4vDLwfUGxlXrVqRdSq\n",
       "VQpEakQohwkxfiBkKwPbBwamBeSEMJJGmHKoENBWAiHMwLmAgf/CATJsRdIIUw4VYmkgmJpYDRjy\n",
       "DxiQYSuSRphyqBAwNVmCuPUHGHh+gSIDRJxfwIDEe+/AYMUrcB4cVuwYthLUiKIcKsRpwOAB5E2K\n",
       "X3mBoQPk7CYg5lCAMsBCQPlH1xg4ekABpPprLqqthDWiKIcKcQlASkSwFGZgIQnl4C5s8GvEUjad\n",
       "AJf+EMCMGTVIQgao2eIAdlU4hHgOoJf+DPug7OOYmhFCPAW4S9njRAmh1nTwWh1LkwIhxIvHlAtE\n",
       "CSEANyhO6d6CucfAAADNRrhViRekwwAAAABJRU5ErkJggg==\n",
       "\" style=\"display:inline;vertical-align:middle;\" /></a><br>"
      ],
      "text/plain": [
       "operands: (1, ..a.., n, 1 + 1, ..a + a.., n + n)"
      ]
     },
     "execution_count": 17,
     "metadata": {},
     "output_type": "execute_result"
    }
   ],
   "source": [
    "operands = [ExprRange(a, a, one, n), ExprRange(a, Add(a, a), one, n)]"
   ]
  },
  {
   "cell_type": "code",
   "execution_count": 18,
   "metadata": {},
   "outputs": [
    {
     "data": {
      "text/html": [
       "<a class=\"ProveItLink\" href=\"__pv_it/8e734248e8c65c22cfcb8d35305e8e79fe85031b0/expr.ipynb\"><img src=\"data:image/png;base64,iVBORw0KGgoAAAANSUhEUgAAAR0AAAAUBAMAAABCPPQ0AAAAMFBMVEX////MzMxUVFR2dna6uroQ\n",
       "EBCqqqqIiIgiIiJmZmYyMjJERETu7u6YmJjc3NwAAACgK8IjAAAAAXRSTlMAQObYZgAAAmxJREFU\n",
       "SMe1Vj9oE2EU/7XXxjT57szkasFNsAYXsVPAxVHQycUsopPtJpk8CmZwKEEHwekUh3qDuDlIwy2C\n",
       "2ELqItTBHi66aCN0EhXv+3Pf3/byieTBO5Lfe/m93333Lu8B0Q5Mc4DSajl3X/vmgejcuE0/bdmh\n",
       "rSN/tCTcz8jLyYjJPUtFvSj8RqZFHIAZRd6Bu5818smIMspLEiAcgJw6q5U3gZvizhgSrHLXI+7J\n",
       "lwm7Tmj38ERmjPc8UKea9zQ9JiCrUoRc5u6nZ90JrVfoYbxvgK+w9JiAoQfPhPvoiWI7YiGmHsbb\n",
       "6KBn6+lV6Lkg3EfPsQFwcelLT1W1EJE4d+77nUeCNxhg09azWaHno3AfPc3ib6P9epX8kRELEYlB\n",
       "8xVGOecNE/RVecLi/Qo9t4T76Kl3MdO9j+gH/ZI5iEw8UU+w3+K8tRhXVflRQq8asJym99L0qdJz\n",
       "UrgRMd6SNN24lqaLxcf5Dgg5QDimd/oTFqISs1EHe4J3ZqyXry9aepzzkXo8zqeojtoYs+wm1xxE\n",
       "Ja4Ap5Wevt0/Vc/rknDP54WFBMd3JLeFlImPgd+E887F0+3n+TZWsrbezxpSJl5B7Vcg+5m9vnc1\n",
       "PSYgqzLkoXAtwpqOXniPqDLFu4v9DpbDlmwuExGJ0QGC5D3nXWizY3pw/bma6SZQ6uHIE3DXIqzp\n",
       "2GXN1FOcPeX6/EEyW0j5/xMjOtPlvI0WHw+6mYDxVEjMfSrzgvK+ZePTNBPYtmeenKfbR60Zmec8\n",
       "Jdlh8xRD+1fDyp3Af99o5pMRd9/4l31sWKn2//axYanXf18Nc+7T2FcZ7yfgLwenAb7sRWucAAAA\n",
       "AElFTkSuQmCC\n",
       "\" style=\"display:inline;vertical-align:middle;\" /></a>"
      ],
      "text/plain": [
       "(1 * (1 + 1)) + ..(a * (a + a)).. + (n * (n + n))"
      ]
     },
     "execution_count": 18,
     "metadata": {},
     "output_type": "execute_result"
    }
   ],
   "source": [
    "requirements = []\n",
    "dot_prod_lambda.apply(*operands, assumptions=[InSet(n, Naturals)],\n",
    "                     requirements=requirements)"
   ]
  },
  {
   "cell_type": "markdown",
   "metadata": {},
   "source": [
    "Note that this time we supplied assumptions, specifically that $n \\in \\mathbb{N}$, and made a list to pass back requirements.  In order to make this step, we need to prove that the lengths of the operands match lengths of corresponding parameters.  In order to prove it in this case, we need to know that $n$ is in the set of natural numbers (otherwise, this lambda expression does not make sense and should not apply to anything anyways).  The requirements that are passed back are precisely the known truths that prove that the lengths match as is necessary in order to assure that this beta reduction is valid.  This will get used when beta reduction is employed to perform the **instantiation** derivation rule."
   ]
  },
  {
   "cell_type": "code",
   "execution_count": 19,
   "metadata": {},
   "outputs": [
    {
     "data": {
      "text/html": [
       "<span style=\"font-size:20px;\"><a class=\"ProveItLink\" href=\"__pv_it/15a00d825a7c658d68ebdf07d8090dfd64f237c00/expr.ipynb\"><img src=\"data:image/png;base64,iVBORw0KGgoAAAANSUhEUgAAAEcAAAAVBAMAAADm2O7QAAAAMFBMVEX///+IiIi6urrc3NxERETM\n",
       "zMwQEBCqqqpUVFQiIiJ2dnYyMjLu7u5mZmaYmJgAAABN0h6tAAAAAXRSTlMAQObYZgAAATtJREFU\n",
       "KM9jYGDgu8eAG7BePACieHYx4ANMqSCS7wM2OZ79LnsYuPKTGBhug7hcE7CawPIggoHhPJCxEo8i\n",
       "jqmMAgxsOBTxec6cDVakcqCVgRO7IlbHA1CTTBtOH0BRpNVsKCsAljt9AGadQSFrA0jRMjBvAwPD\n",
       "AhcBns9guWa4mwy4FB6CFL0H8coCGFgLZjMwfwXLOSAUMfRwRAIZ3BcYGEImAwOF5xM0uFizdwMB\n",
       "VNEJhm0gVifQIWoBDAzsH8C2MjAwI5vEuiAMZFIDiAcU593AwP8A7OQEJEUMz1lgbgL5jm0BQ/2B\n",
       "BSDeRbgioAVcJjDfgRTZKzCs5gsA8TgLoIq4QYzbyOGkycBg8RwSsS06kECdnwIKNRzRwrQEEi1w\n",
       "AFGUgDc9QRRhT08IAE5PDARSZhKYYieYxgGFBlAi2GE80wAAAABJRU5ErkJggg==\n",
       "\" style=\"display:inline;vertical-align:middle;\" /></a> <a class=\"ProveItLink\" href=\"__pv_it/926366482d83d1cfd7a06fe76beca9d3d88cf3560/proof.ipynb\" style=\"text-decoration: none\">&#x22A2;&nbsp;</a><a class=\"ProveItLink\" href=\"__pv_it/831c0a751d2a48b39a92d8823cf45d69c65573f70/expr.ipynb\"><img src=\"data:image/png;base64,iVBORw0KGgoAAAANSUhEUgAAAOcAAAAVBAMAAABPgOQBAAAAMFBMVEX///9UVFQQEBCqqqoiIiJm\n",
       "ZmYyMjJERESYmJjc3NyIiIi6urp2dnbu7u7MzMwAAAADGpxCAAAAAXRSTlMAQObYZgAAAiNJREFU\n",
       "SMellj1II0EUx/+ajdmNO55ccZwgaK+iiI3FYUQ5uELINSJisY2CHIidH1VAFGxMBAu1MU0ai9wW\n",
       "llckhVeczd4hCjYJWIupRJHIzY4xmcy6MyMuZGby9s377Xvz5s3gBm98bpQCxdPh4YwNrJRaOZJh\n",
       "3Zkofxbsa+BGWWu7tSmXOp/YJYGSZQ0DLZkm6CL9DXuKORcSaBu1FxlQGCAODzWTIN09KqidDYdu\n",
       "An+LVZWrf3io4fudVkFJbzj0m//pSug/HroHHSh+hEKthBa0zeWgOTm0vXhwPEv701BoPCmH/uo6\n",
       "zNHFsZMcdFUOtWPrKNEV2KpD7QX2JF8EsZQcWljJkgeq4XDQCTn02nBwVAZGQj01hqTQjqGvsJ5o\n",
       "fic4aJ8c6pVcpGl/GwptdaVQQh5hVii8og/FGPDpPVBEKmhxBKgivJgG7glwIq5pp2Z4EXXwIeWh\n",
       "PaGfSOhHpGrziSR6qkqk1gLGvEJzIrG98NMDuaN9ib5hg/o/6xG2swPMhULZXohXX5vMBkcufptl\n",
       "RAsc1I/b98H5FCapt4YftHHUGmMKflSszzSAS6FQP27Rj3czTJ2b7JvybVLA7gYtDmWxDLIFD4b4\n",
       "SyMHE/IyKKgjaPNcKPi1MvDKvtYt+KI6gjabCj7WatKr4BbLah1tsUxAHQGbzUdb/RAPXiDMxnBN\n",
       "4xA3g6Fq2Iy9HOJ57euK+exMXpTnta8r26yNl/8DiLbK5bt59RoAAAAASUVORK5CYII=\n",
       "\" style=\"display:inline;vertical-align:middle;\" /></a></span><br>\n",
       "<span style=\"font-size:20px;\"><a class=\"ProveItLink\" href=\"__pv_it/15a00d825a7c658d68ebdf07d8090dfd64f237c00/expr.ipynb\"><img src=\"data:image/png;base64,iVBORw0KGgoAAAANSUhEUgAAAEcAAAAVBAMAAADm2O7QAAAAMFBMVEX///+IiIi6urrc3NxERETM\n",
       "zMwQEBCqqqpUVFQiIiJ2dnYyMjLu7u5mZmaYmJgAAABN0h6tAAAAAXRSTlMAQObYZgAAATtJREFU\n",
       "KM9jYGDgu8eAG7BePACieHYx4ANMqSCS7wM2OZ79LnsYuPKTGBhug7hcE7CawPIggoHhPJCxEo8i\n",
       "jqmMAgxsOBTxec6cDVakcqCVgRO7IlbHA1CTTBtOH0BRpNVsKCsAljt9AGadQSFrA0jRMjBvAwPD\n",
       "AhcBns9guWa4mwy4FB6CFL0H8coCGFgLZjMwfwXLOSAUMfRwRAIZ3BcYGEImAwOF5xM0uFizdwMB\n",
       "VNEJhm0gVifQIWoBDAzsH8C2MjAwI5vEuiAMZFIDiAcU593AwP8A7OQEJEUMz1lgbgL5jm0BQ/2B\n",
       "BSDeRbgioAVcJjDfgRTZKzCs5gsA8TgLoIq4QYzbyOGkycBg8RwSsS06kECdnwIKNRzRwrQEEi1w\n",
       "AFGUgDc9QRRhT08IAE5PDARSZhKYYieYxgGFBlAi2GE80wAAAABJRU5ErkJggg==\n",
       "\" style=\"display:inline;vertical-align:middle;\" /></a> <a class=\"ProveItLink\" href=\"__pv_it/64b24756f84acdc7c9470d0344f9792412c24a5e0/proof.ipynb\" style=\"text-decoration: none\">&#x22A2;&nbsp;</a><a class=\"ProveItLink\" href=\"__pv_it/d7fea4db651e82e19a1d9be5178a7eaebb27e6660/expr.ipynb\"><img src=\"data:image/png;base64,iVBORw0KGgoAAAANSUhEUgAAATAAAAAVBAMAAAAzw6/xAAAAMFBMVEX///9UVFQQEBCqqqoiIiJm\n",
       "ZmYyMjJERESYmJjc3NyIiIi6urp2dnbu7u7MzMwAAAADGpxCAAAAAXRSTlMAQObYZgAAAmxJREFU\n",
       "SMe1lj1oFEEUx1+y97Gb7JyHhRgQtLLRYBAbi5ATRbAInI2IWGyhByKIncZqQQzYmBNSqE22SWNx\n",
       "bmFpsSm00GYUiWBzB9bBq4ISIs7Ozt7s272Z3Y3nwu3s/nnz3u/mvX0zsAP/4WrQlFA6yg584uOL\n",
       "SSGd53fbT8lRFMvNd2B0xQQ+hdyfFNhUVwP2rYiHuSRYjbkz5jPw8+XBiKMBu8N+Z2mOh+0k2BOA\n",
       "z1v7MY8XjVLRr72HXj+qwcw2kGPH88BsLwF2JZyWBpNKGbAvarBKmOa1PDByQoJZrcmB1Xwl2DoU\n",
       "AYO7EmymXRbs3dyrTQ+bC8luK8E29WCzWy9f32DjewlWd8uCBQ888hubC8l0YjC7w6/2COyhHsyu\n",
       "P4I+y/aqBKsslARrLFwG6w8yjyWjpVyxi3qwHxUHNgYA5yTYtD/CYH/z1slOp6kHI2QPzCEyj6XG\n",
       "UAl2Sg9G+z6ssfHnWLCCqTSGMOVgcyEdHAyWAI5gsNKphKoDh1yKzIU020rVWLNoKuEawC8C8PZf\n",
       "in86gCUaIHMhyeLPrFhO8cNpMPZtVPz8E5/JgIVKn8UhuxA9yLcNHz6YA2QupGqgBON94A2V/vjD\n",
       "6M3aA9t5BnBTgoXLXz28ex2DcaWyzJ4uhOluxrdLlC/388fYXEi1gRIszNHVM7dd7oG7Ch1H3pc5\n",
       "hXWUFdW91JakaOWL2cKnus7/NWdLGuMBhyEtvIknegGaFmQbYap10BKb+FgPOAzaxOtdZcfyMtL3\n",
       "Ax97VpQeEmG2ix0UzaykPYbWixwUXV2YFTGhN9mj9dPoex6k5F7ho7UZJa/3F36sAnD+VnSGAAAA\n",
       "AElFTkSuQmCC\n",
       "\" style=\"display:inline;vertical-align:middle;\" /></a></span>"
      ],
      "text/plain": [
       "<proveit.magics.HTML_DisplayObjects at 0x7f5b9afa4cf8>"
      ]
     },
     "execution_count": 19,
     "metadata": {},
     "output_type": "execute_result"
    }
   ],
   "source": [
    "requirements"
   ]
  },
  {
   "cell_type": "markdown",
   "metadata": {},
   "source": [
    "We can also perform `apply` such that multiple operand entries correspond to a given parameter entry as long as we can meet the length-matching requirements under the provided assumptions.  In such cases, expression ranges containing these parameters will expand to accommodate the different operand entries.  Also, it doesn't matter what the start and end indices are, as long as we meet the length matching requirements.  Consider the following operands for an application of `dot_prod_lambda`."
   ]
  },
  {
   "cell_type": "code",
   "execution_count": 20,
   "metadata": {},
   "outputs": [
    {
     "data": {
      "text/html": [
       "<strong id=\"operands\">operands:</strong> <a class=\"ProveItLink\" href=\"__pv_it/125cc67375f2cc147ed836881cbb9c88a1f80d790/expr.ipynb\"><img src=\"data:image/png;base64,iVBORw0KGgoAAAANSUhEUgAAAesAAAAUBAMAAABfbgjqAAAAMFBMVEX///9UVFTMzMx2dna6uroQ\n",
       "EBCqqqqIiIgiIiJmZmYyMjJERETu7u6YmJjc3NwAAAC+aOQFAAAAAXRSTlMAQObYZgAAA5FJREFU\n",
       "WMPlmM1rE0EUwF+TdJM0u23RQw9CLfgPBC9VEQx40JPJwYOezEUGodrtKQSjxoNFiodUEKEHXRGE\n",
       "5iD1oB6KsiIlhVaaox7UHPy6NbQhAangzG52Z2Znkt1tjp3DZt/HvF/eZt6byQKM1uGAjRvksgEQ\n",
       "vXWcKjnBMzYuMYL6ujwIXOT0I4uw/eOHGvjyEuAFrDdcJSd4xzIrjFQkHlfNgHCR05cswvaNVw0A\n",
       "rQJaDqKGo+MEYbRZYSwvRjx8NGDaDAcFIVMYGhg/DZBoQGoclD1HxQneEeMsWRnie8C0GQ4KQGZg\n",
       "aGD8GsAf/NjGIeb+jJwg1CNXTidggLQZDgpAZmBoYPxIBooAWxWIdRwVJ4jlpHxpMIV+/Ym9tgqT\n",
       "56b9uWcnf8/px+YyXg4KQKYwN22KL+rw0wyBj1bgHcB2GiIujxO8Yyt/O+vud2o7/uOfdfcRPusL\n",
       "/mmnV3W1k1FyXg4KQKYwx51qorEc3AmD1wyYx7wKRHZJIAveFaRjtmZ+Ip9WbGWvpNrP4DScMS/4\n",
       "ciP5BRjdBa0JHo6Tdj8yhTnuVPMracBqGLxShot0dW0Zfkvtkb1nqH/JNXnZUZsutR9XVVukZw2t\n",
       "cEv6VLV6r1p95kd2YNSdwQ/r0AmDjzRJ2riXKKSXJMaBCtJx96Zuf5JLYuKta+gE6SlKE5JlGNad\n",
       "BqYILa03mYEhQZM1Izth8DhtvMhTK6DRDYwVvA+sNdpiCj2znXEW0E6QtPFaTKQh2zA9HORPZmFI\n",
       "0CxBPBcGHyuTlhb4uKI11XaUJog7XNq6m4k3oeTPHU7j7wpLo/l9HFcozHFnNK/Inh8Cj1vaSayY\n",
       "h7Up10oEq3jtUje6pUxucF3s0LSPwNhUmthi7VQT/6Gx/OGOaftLQuBfZxbgedRWUyjykt25NIgF\n",
       "49xtjWVchGxPPJVcPCTTcJ5sQIVD9KFYwn2zW+rWhZRy4gFehnkollzHNxB/bBJPdaJU/Gp7wOKV\n",
       "5bo1257khiAqjMKnhGvfbE8KRV4yneuQuzDW3dZYxg+Fp42eeKsPcXgYmSKHU1n5i2tlpkejMEUP\n",
       "yWxexcdC4chIYlwKhV+3/orITqGS3b7HeVXiEfULyMfaDEfe9BqHDLUVCk9OlO9lydTELq7L065J\n",
       "PGo+AXvFCkd2jYl6Sg+FN+zXDOIQ37hoPbh1iUfdJ6DWJ4/gZNcYKzwMhU+Ruj54L5VwU/sPro6X\n",
       "BssLrEwAAAAASUVORK5CYII=\n",
       "\" style=\"display:inline;vertical-align:middle;\" /></a><br>"
      ],
      "text/plain": [
       "operands: (0 * 0, ..a * a.., k * k, x, 1, ..a.., m, 0 + 0, ..a + a.., k + k, y, 1, ..a.., m)"
      ]
     },
     "execution_count": 20,
     "metadata": {},
     "output_type": "execute_result"
    }
   ],
   "source": [
    "from proveit._common_ import k\n",
    "from proveit.logic import Equals\n",
    "from proveit.number import zero\n",
    "operands = [ExprRange(a, Mult(a, a), zero, k), x,\n",
    "            ExprRange(a, a, one, m), \n",
    "            ExprRange(a, Add(a, a), zero, k), y,\n",
    "            ExprRange(a, a, one, m)]"
   ]
  },
  {
   "cell_type": "code",
   "execution_count": 21,
   "metadata": {},
   "outputs": [
    {
     "data": {
      "text/html": [
       "<strong id=\"assumption1\">assumption1:</strong> <a class=\"ProveItLink\" href=\"__pv_it/53dd6aa6453ab1f3461281a5a3a61efb6a38fd8e0/expr.ipynb\"><img src=\"data:image/png;base64,iVBORw0KGgoAAAANSUhEUgAAAYMAAAAVBAMAAABWAp/LAAAAMFBMVEX///9UVFQQEBCqqqoiIiJm\n",
       "ZmYyMjJERESYmJjc3NyIiIi6urp2dnbu7u7MzMwAAAADGpxCAAAAAXRSTlMAQObYZgAAA3FJREFU\n",
       "SMfFl01oE1EQx/9t0uwm2U2DF2kV7cGTn6F48VCSoBQEhVVEevAQkAoiSD3VegpqRUFoRA/qpfEQ\n",
       "1EprDl4UoemhPaSosRQrpZCAZ2mktNBPnN3tJrubfbuvCPZddmbfzuz83pt5H/iNXW3230dKO3RA\n",
       "BtOaEEz/79h9Ge0xbXst5bXHcw4PpwwD3cccyW++1ruLjytM07lDLGVHrc0FQe7jcNCUsSBcB65i\n",
       "NmP0BmLyWbZtL1MxWidHOvxwQQhQJL5jHg7klBlBVCB2QEoZvXeBKbbtElPZ9r3/IAeClGUjDALf\n",
       "Jza9PBTNCP4MhCh8NaNbQJwZRXiTpdTaEAeC3MFGUFNA9ESYMSM8A1qjCNdG9A8wHmMOX4Kl7AgB\n",
       "N5gIwQQXQiBvQsgBZQXhNWOAlgkhy7RUfIOZRkUeaftU9EQIT7wYaY8U95E4yUQIKe4In9te5ig8\n",
       "STEh3AaGC4gYCMENYJGJUI69HU83Kgu4n+32RJCEOyi/QyeJD2oI0jWtKQaCkHZHKPRn5VX6ImVC\n",
       "OE0ICiIb6mCqCDQLiwWWg/h86af6LJkV4Au+lT56Ivzyp9TRGiLxJHMW/DFXhEisG8EtWrMSJoQj\n",
       "9UQqp7wS6aKiJ86KSdGI+jlqoVTOqyvFXhIXmQjNeVcEWV6HWCWUqhWBytmnlrM/qpdznFnOydc6\n",
       "XdKsqG2Np5zjwCXg8L8gwFdFU8qGQIkk9JmM+l2ikNeD645KZIsH4TJwDuFVytcP9lqIciYSWlJo\n",
       "TZcQTljLmXtrE6vykuSgdIWqGPVGOErYFMNTcznbZ8GrnJsLlIwFazlPajMxUzsX+WPyca0q9NJY\n",
       "MQtNfdiqIeiK2hdeEqp0WNSM8L5UN7K6oEmjNAgUaLG4wkTQVsvQpsnUGsJwHlNiBS0FE4I6pwsj\n",
       "B+r5UXxVgf+8URpJQzhDoyvEkDNGe1tRv5TbR3MPoRtdONGb1r7VjOouqI8mn1Z9Xw/tJTeZCGqG\n",
       "tOxZ6dG9JWEPgcJ9co/2pIr1gOHQuhrriJEgXQ6iw7cWh3LC/YDhHcKs7ZjntIM0bkysvcZBlDwc\n",
       "ehzzOEKwHPMw4LT0NO4M84xFKusgzns4dDtsCxmOEKyHbfXK07j0NL5i3O1EJzHt4XCA48rjGoJg\n",
       "XHnGduniKeoDPWZ7HapwXzwfbRv8BTw9TYKFhtUFAAAAAElFTkSuQmCC\n",
       "\" style=\"display:inline;vertical-align:middle;\" /></a><br>"
      ],
      "text/plain": [
       "assumption1: |(0 * 0, ..a * a.., k * k, x, 1, ..a.., m)| = |(1, ..a.., n)|"
      ]
     },
     "execution_count": 21,
     "metadata": {},
     "output_type": "execute_result"
    }
   ],
   "source": [
    "assumption1 = Equals(Len(operands[:3]),\n",
    "                     Len(ExprRange(a, a, one, n)))"
   ]
  },
  {
   "cell_type": "code",
   "execution_count": 22,
   "metadata": {},
   "outputs": [
    {
     "data": {
      "text/html": [
       "<strong id=\"assumption2\">assumption2:</strong> <a class=\"ProveItLink\" href=\"__pv_it/8ed3bd1c9407445cd7a7ba5765bef5c8555ad8210/expr.ipynb\"><img src=\"data:image/png;base64,iVBORw0KGgoAAAANSUhEUgAAAZcAAAAVBAMAAAB4R75ZAAAAMFBMVEX///9UVFQQEBCqqqoiIiJm\n",
       "ZmYyMjJERESYmJjc3NyIiIi6urp2dnbu7u7MzMwAAAADGpxCAAAAAXRSTlMAQObYZgAAA75JREFU\n",
       "WMPNl01oE0EUgF+6SfOz2bR4Ka2iOagHfzAUD1qQpiqCoJCKlCqiKZqACBL1UNtTQCp4arQe/Dl0\n",
       "L0WNtM3Bo9At2B5akG0pVoqSgGcxECi2NcW3u/mZ2b/Z1kOdQ/LyMu/NfG/evJmBn/CfNP1EQvIW\n",
       "HaDBvCr40ztHwWXUr3mdOphTv1448HCyaqD5WEb57We9O4Om3pb36zXC/eg2aVptYISUAweuDAVz\n",
       "G+AmLGXoPkYN0RIGTWPMpFu7g2T5YgPTiDPgjjIcCHESxhcDXxiCce2/Du2L0Ji0Ui1LxIrQFDGO\n",
       "smefA5igaA0zBLAwXWZ5mCNh3BnwNgNXpmAIjbHxZQPMlNm8hx3ACGFrmPNKVJkwiyTMc4xrM/Al\n",
       "CobQmEQzaoD5BNuEgTuWMP6oI5jGHAEzBpCPAb9OwRAaE/MYN5ShYRJw4ooW6TERnsksGH76ZbYt\n",
       "NLcbxRlLmEDMHuZj6yscDIIxAuYhwKgEIRqG0BhbPvJuKk3BCKXA69/aNPgwTDJXJugdhPx7aEfx\n",
       "cQ1mNqm0RA3Gm7aHkfpFYQ17xAmYMzj1GIT+0DB1jbF1rshf6TTjyuOChjfiiUM/E+aHO67EaxjF\n",
       "45Yr447YwoQi58C/iWNHCZjD9aTC2JxOJvtYaXZJq8PBZPLWwWSyGUXPgep/coMI60wYOZ+DThla\n",
       "UPxlCdOQs4URhA3wFRGqSMPgducMBYCzLABdb0RdAXC3DUKtroU22QWgE+AywKF/gQGuCK64DgbT\n",
       "zJuqGVVLc8rajbDh39DB5HOjuYqqBwJhNkwPwAXg1wSAD7o90+c0zQATuiktAx+lC8DWDk1fUSgF\n",
       "aZhhLAqSJt5TzigmzBEMCc5mhCwA+pVhFYAGCVNVogvAjLo6iwUKRtUIq0rQsa8q1H65UrCpg2mB\n",
       "poKkdoBumEprEkzKdaO6H0XApcUkaZQwANcsYdSaGyjrTOu/MBlmfQXwSASMss7fsnuBhlE1ZzG0\n",
       "biXOXVD5cF/EiEVgbJyGeQCBq7LaHRayNzKa1H0ska67qPlRXGBq4CnC9eJpddcSRskfz67VXtVC\n",
       "M605UtzixJ8+wlOvQF9niNZBbTFjnpyi96Bo0r2HNGS5EKL21xmTQXVul3QXTaJ9p3yanFR0LZD1\n",
       "3V1x3AyEIcsF46JpNqjOLXXRhAHLLbZirGSizS1J6e5Oe0XSkOXC7gngzVgOumLxBFAeZxbN+AT1\n",
       "2V35lO589jplyHIx4OBx5rObmbf6OJvY8WezTwv+hE4dKDh+Nj+pGPwF5Ehb5kn6D80AAAAASUVO\n",
       "RK5CYII=\n",
       "\" style=\"display:inline;vertical-align:middle;\" /></a><br>"
      ],
      "text/plain": [
       "assumption2: |(0 + 0, ..a + a.., k + k, y, 1, ..a.., m)| = |(1, ..a.., n)|"
      ]
     },
     "execution_count": 22,
     "metadata": {},
     "output_type": "execute_result"
    }
   ],
   "source": [
    "assumption2 = Equals(Len(operands[3:]),\n",
    "                     Len(ExprRange(a, a, one, n)))"
   ]
  },
  {
   "cell_type": "code",
   "execution_count": 23,
   "metadata": {},
   "outputs": [
    {
     "data": {
      "text/html": [
       "<a class=\"ProveItLink\" href=\"__pv_it/a28aab4813e690d7f514c3e269d444054ea025560/expr.ipynb\"><img src=\"data:image/png;base64,iVBORw0KGgoAAAANSUhEUgAAApkAAAAUBAMAAAA0MDtOAAAAMFBMVEX///9UVFTMzMx2dna6uroQ\n",
       "EBCqqqqIiIgiIiJmZmYyMjJERETu7u6YmJjc3NwAAAC+aOQFAAAAAXRSTlMAQObYZgAABjBJREFU\n",
       "WMO1WU1oXFUUPpk3md83SfCHLgoxILjN1M2YrgbcZJegAX8QnE2ZuNBMUAjBahLECC7KaBElEB1r\n",
       "ETuL0i60i9D4goSEJjIBcZEsklnUmk1MbEOCJYrn/rz78+590ze2Xjgk59xzv/Pd8+7Pe2cAujaA\n",
       "SrAlmqq2ByHtLS4RG420Fwaku1kboaVTC+dn4bX3oIlGoN8iE7DGxHnvWdlBlV7F070GUPilLzCe\n",
       "WDqQS0d0PmsMzP1+WgGnigaCbmsvG2OppRd0aoKf2UxeVr9eaIt+WKPRrjL5FlZlbKrcUjwzTciU\n",
       "3Av6cGpxa0AlYrvKwCBTVYGIooEQtyvGYGq5xUWnYn2eJi/il3hNMZzzLGit6Yc1Ei1XpZIbBkfE\n",
       "ZopTkZ6bAL8CnOVbg3cwSwGYqD3mbuIdJBoBg+6S0suUgjRQt6PgYGYhtAS1suRnawYv9Fs6cyIT\n",
       "8PhTngXNaGWVV2jDaKkmlWwPJEQUprjD0hFX5XWAMU/jxizL+N9y1GySaAQMhjyllynL0kDc4ifB\n",
       "wcxCaAlqZcnP1gxexC93onjseBa00GymWh5pGG0XqHT3QFwsBq5clocvHmx/4qxLGjdmyRSBSqRs\n",
       "7nIweE7tZYoPwt2c6eBgbrkMklpZ8rO1IC/qZ2QziBaezd2WxwBGm8Q/KI0qxI99M1cGhF+yCu5f\n",
       "mLuKyo1bHFz9TjViNicZGDkC3/xSOQ+J4shtNEkP08RmUxvMLYTWgD5NCrkyfvttP747WYHfPIMX\n",
       "9TOzORA1m8grfuaPiVOxwhOi7/ne38crT48X6QRuogFlPw8xkU2ubIkR2Q3ougfQr2WTW3Lk8K1F\n",
       "zOZNBgbuUfL23+L0YkpO3hnErVF6f2hDG8wthNaWPk0Kmc99lPIhnPgwTJm8iJ8lm1tRs4m8nOwN\n",
       "aLwD50RffqHiHhcTwzTaLBpQ9qsQu0dmRrPJlFHwDakSdOFK7M9r2WSWBO6exHTEbM4yMDyWz7sb\n",
       "PjpXKIgr3MZWvJ/1wdwyykWZJoF0POckThYzyc+ddA0WTF7Ez8+mJ7M5GjWbyOsZfGK42nZ8iFjp\n",
       "Y7Kucgc02ghaRuROb9TkTu8H39BZFDvdqde/e7Ve7xE7PYY4RJSeQFM6RhgYpF/hy42gc4WCUAN1\n",
       "+6waHMwt/VzgbL3+Yb3+NYd0IUtfJt37ZJ6dFTg2eRE/nk3qxrMZQAs0pQN5eY0iuXtP+xCue0iu\n",
       "7I5rNBrPJl48CXILpXpAKDRIymeBd86YcQuhRWQzytr0s5k6dQMEOlcoCDVQt5l3K4HB3CKyKRcN\n",
       "zRJ0M78Z9poQu2vyUrLJ3JRsRlmbhNcYwBcALwmIxAGkpwGfHonGdzo+V3mecGVQvrFgGhd4aMmN\n",
       "WeK4m+Lt7vRGcV/e4FyJy4sZ3dzDrkN9sG8ZBElN2emYFOVbbQ6SwyYvdacr5+ZgGzsdkeEDiP/j\n",
       "+n14pqTyMNSkmeC3kOXtXb+FQt/e/9MttINXSl7MiCn6LZQ7cI8cbbBvCbmFEt4UJMVb7HXy0vx/\n",
       "3ELwIj5WTOEdv68zj8sB5rpKJJr/vjELy33K2iDKRXnyVclzdV8IPmliSeeZaLdvjZ8qjcB0BjjY\n",
       "aejuE9nkSloYiBseRHf1bPqWiyCplSW/odKPSk3jEyDXf5AXfWNKqtmc8kw0wZyfrTKbyAv3B+7t\n",
       "TF6QxX2Fm/8bh0bz981PE4/JGEy5JHSyY9zCeJ/OjVkyXLQ89/BTJdWjdwxysB8g+blYR1zJyKeJ\n",
       "btkSTJ7XBvuWSwq1suS3NLEyLys8SxNfNU1exC/95P15mfTXr2wYaJL5TKBjkELgW2tivqlwxdfQ\n",
       "N7ZpNP5lafuKn9a+LM1ty9oql/a+LC1tVf+yDItHaAlqLb4s52y8LrSc6EN+Wa6KqoelBaoeSnQv\n",
       "WFkoWHssQ0TVo0WJwqgu6Kha1WM9pOrRUXMPbbw2W050PSxP61GrHrDIxWhqoSrbbFWHaqMitxgK\n",
       "poEshiNYK3JByNRGtmLjZQ3dRkVu8QEVOb9a3HqkvRrr88u2XS0OAYpSlbU+/SBkfOJTa+6soRcf\n",
       "TbWYRgv7JSMX7ZeMbS4P/UvGdrRfDAitXMRfMrYj/ZKRe0S/ZGC0fwFnxlw5+3m2CwAAAABJRU5E\n",
       "rkJggg==\n",
       "\" style=\"display:inline;vertical-align:middle;\" /></a>"
      ],
      "text/plain": [
       "((0 * 0) * (0 + 0)) + ..((a * a) * (a + a)).. + ((k * k) * (k + k)) + (x * y) + (1 * 1) + ..(a * a).. + (m * m)"
      ]
     },
     "execution_count": 23,
     "metadata": {},
     "output_type": "execute_result"
    }
   ],
   "source": [
    "requirements = []\n",
    "dot_prod_lambda.apply(*operands, assumptions=[InSet(n, Naturals),\n",
    "                                             assumption1,\n",
    "                                             assumption2],\n",
    "                     requirements=requirements)"
   ]
  },
  {
   "cell_type": "code",
   "execution_count": 24,
   "metadata": {},
   "outputs": [
    {
     "data": {
      "text/html": [
       "<span style=\"font-size:20px;\"><a class=\"ProveItLink\" href=\"__pv_it/99cf967062ce5603540a6832bfa9b3d0f9c113b50/expr.ipynb\"><img src=\"data:image/png;base64,iVBORw0KGgoAAAANSUhEUgAAAZkAAAAVBAMAAABmjo7qAAAAMFBMVEX///+IiIi6urrc3NxERETM\n",
       "zMwQEBCqqqpUVFQiIiJ2dnYyMjLu7u5mZmaYmJgAAABN0h6tAAAAAXRSTlMAQObYZgAAA85JREFU\n",
       "WMPFWE1oE0EUfvlrms1kuz0IQdTmJNRLYz15MS0t6kn3IAhSSCn0IooLQkGotlIVVNBID1X0sBUs\n",
       "LUVYFFEqhQ1Iae0hKV7EQgkUPSjSn0uljcWZ2Z9skp2dLYIOdPNeMu/b9715781MAUBcgYgO/3PU\n",
       "vb5nrwg9EFmiIGgGQEjR7078cx5X6dN8fWU8p89QiQ8QTVsGwX4iiOsWHOoAGP8u2zOFQy+YKOhk\n",
       "jqHsaTSmPdh88IMwYhssU6icBRdPQ1xBo/bEt7CQZqLEiyzFDtslvi9I82DzGv8N8Gpg0TaYqmbz\n",
       "E+AbwLQ1T+wFQWOiNCksxRzzk2UfoR1nsxGLgO495LERJAYbvCqnAYYs+/AwRNkOteksxY6GHzZz\n",
       "bDYxkhhrPDao151NCAu/sGdWnJuGIbjFRJliKntiE08x2RwHP2zglTubAF7Z35iNZE4rFCG4wQSZ\n",
       "hRufXJR8sn2/xGVzZORoUrqQxG8Vikw2B73ZBCePNS/hz5eWwQRtK5oJFy5BaBsga7HJqBBhskFb\n",
       "gfbdegWp4qOYxmWjdktoIxXFSSJqNpvp92TM2mzOeLMRwp1QwMn4wzJYI8KAbMLFFAjhtcmqWCYY\n",
       "mSJEtpl9vnwAke0AORUMpAvlYJrHJqI8JYEje0M0x1ybMW8253HUMtj3a5YBaaznRi24hpSdaWiH\n",
       "l2mJy2Y6ag6FkAt38OsGoU3SYBrx1Mg6k02fNxu9kKLLkbUN7mLPD8sVNqQLDJEu8NjoAlFmF4jd\n",
       "7DQ+hx0K7R2Sjy4QXYdEDhqkv2EDQwD3nWzixBUSISvToNthj6PMdqiQyqRclazsg01Cg5gKbWkd\n",
       "grmaunnnN9PI3r+LE721qm7snoa7gP/dcw0KilqvRPUWCOhcNg0qjgAshxRnF6hdG04XgIs4WwVH\n",
       "F5ioYkOaZUxB/fb0MZiTaQUZZaQ5BLgFTbLNhir0tzblLD67UhECZYdRNQReSpwnM9iXhMpkQ1tv\n",
       "i+54aZULoU0c7K8AX9z3G7LoaDxZOXV+bL4N8EQ3y4hWCBWe4ccpCCzZYTMUMnO+Ob9SMowSd3ZW\n",
       "jLnEqAJBfmulu8n1VZzsMpMNSaHPV2ZL1MKoT6cL2N3QA1wcb9gnG5eCrV/qQUZp6y7iIAdwgXOy\n",
       "4bqActVseh2nTpdNymXvY2xnbqLKAfQ+dfpwoebUWbnfhN3O//n63UJyZ5N3EV3m5n3fCLr8uLBY\n",
       "fb+BGedtrW7U3/9ERo8puYgiBzDs57bm6UKXfffsM9JyBQLyf7pJr9JnQK75ep/vm7SYNg3o/wX+\n",
       "AFJYU6BBQZDvAAAAAElFTkSuQmCC\n",
       "\" style=\"display:inline;vertical-align:middle;\" /></a> <a class=\"ProveItLink\" href=\"__pv_it/8c9186c201a4878676738b0ddca9e9a1bdc40eef0/proof.ipynb\" style=\"text-decoration: none\">&#x22A2;&nbsp;</a><a class=\"ProveItLink\" href=\"__pv_it/53dd6aa6453ab1f3461281a5a3a61efb6a38fd8e0/expr.ipynb\"><img src=\"data:image/png;base64,iVBORw0KGgoAAAANSUhEUgAAAYMAAAAVBAMAAABWAp/LAAAAMFBMVEX///9UVFQQEBCqqqoiIiJm\n",
       "ZmYyMjJERESYmJjc3NyIiIi6urp2dnbu7u7MzMwAAAADGpxCAAAAAXRSTlMAQObYZgAAA3FJREFU\n",
       "SMfFl01oE1EQx/9t0uwm2U2DF2kV7cGTn6F48VCSoBQEhVVEevAQkAoiSD3VegpqRUFoRA/qpfEQ\n",
       "1EprDl4UoemhPaSosRQrpZCAZ2mktNBPnN3tJrubfbuvCPZddmbfzuz83pt5H/iNXW3230dKO3RA\n",
       "BtOaEEz/79h9Ge0xbXst5bXHcw4PpwwD3cccyW++1ruLjytM07lDLGVHrc0FQe7jcNCUsSBcB65i\n",
       "NmP0BmLyWbZtL1MxWidHOvxwQQhQJL5jHg7klBlBVCB2QEoZvXeBKbbtElPZ9r3/IAeClGUjDALf\n",
       "Jza9PBTNCP4MhCh8NaNbQJwZRXiTpdTaEAeC3MFGUFNA9ESYMSM8A1qjCNdG9A8wHmMOX4Kl7AgB\n",
       "N5gIwQQXQiBvQsgBZQXhNWOAlgkhy7RUfIOZRkUeaftU9EQIT7wYaY8U95E4yUQIKe4In9te5ig8\n",
       "STEh3AaGC4gYCMENYJGJUI69HU83Kgu4n+32RJCEOyi/QyeJD2oI0jWtKQaCkHZHKPRn5VX6ImVC\n",
       "OE0ICiIb6mCqCDQLiwWWg/h86af6LJkV4Au+lT56Ivzyp9TRGiLxJHMW/DFXhEisG8EtWrMSJoQj\n",
       "9UQqp7wS6aKiJ86KSdGI+jlqoVTOqyvFXhIXmQjNeVcEWV6HWCWUqhWBytmnlrM/qpdznFnOydc6\n",
       "XdKsqG2Np5zjwCXg8L8gwFdFU8qGQIkk9JmM+l2ikNeD645KZIsH4TJwDuFVytcP9lqIciYSWlJo\n",
       "TZcQTljLmXtrE6vykuSgdIWqGPVGOErYFMNTcznbZ8GrnJsLlIwFazlPajMxUzsX+WPyca0q9NJY\n",
       "MQtNfdiqIeiK2hdeEqp0WNSM8L5UN7K6oEmjNAgUaLG4wkTQVsvQpsnUGsJwHlNiBS0FE4I6pwsj\n",
       "B+r5UXxVgf+8URpJQzhDoyvEkDNGe1tRv5TbR3MPoRtdONGb1r7VjOouqI8mn1Z9Xw/tJTeZCGqG\n",
       "tOxZ6dG9JWEPgcJ9co/2pIr1gOHQuhrriJEgXQ6iw7cWh3LC/YDhHcKs7ZjntIM0bkysvcZBlDwc\n",
       "ehzzOEKwHPMw4LT0NO4M84xFKusgzns4dDtsCxmOEKyHbfXK07j0NL5i3O1EJzHt4XCA48rjGoJg\n",
       "XHnGduniKeoDPWZ7HapwXzwfbRv8BTw9TYKFhtUFAAAAAElFTkSuQmCC\n",
       "\" style=\"display:inline;vertical-align:middle;\" /></a></span><br>\n",
       "<span style=\"font-size:20px;\"><a class=\"ProveItLink\" href=\"__pv_it/a7ac0089617800618d45feb44b6e69becd70dc920/expr.ipynb\"><img src=\"data:image/png;base64,iVBORw0KGgoAAAANSUhEUgAAAa0AAAAVBAMAAAAHlqyoAAAAMFBMVEX///+IiIi6urrc3NxERETM\n",
       "zMwQEBCqqqpUVFQiIiJ2dnYyMjLu7u5mZmaYmJgAAABN0h6tAAAAAXRSTlMAQObYZgAABA9JREFU\n",
       "WMPNmE1oE0EUx1++mmYz2Ub8oIcG40XQS6OevGiLRT3JHgRBCqmFHvzCFUEQ1KRUBBU0IPiBRVIP\n",
       "RSlCUARtKKRQRKmYBEHEQgmIHhRprEjF1uLMbHZ3Zr8m6kEHupm8zvvv/GbevJkJAMizECrB/1Fs\n",
       "Hen9XYVeCFWpCBoHkJLUtu0fEp2gz0ZHzHKHPgM1sUA4pTv4B0hFrutyqAtg5KNiaW+3GAXtzFlN\n",
       "Uwf/kKs15cE11YzCkOEwQ6Vyulw0BVEVXeVb2y3sPys204TTUB4R9woVPLge4r+TorUybTjc47k+\n",
       "A3wAGGv0Ja59mhaH0qbqteN6ZcHe6tndpSaGe8SdS64AunhFxCXFXbjwvOwGyJQ4LtPiUDpLVi6/\n",
       "E4LcDNdTd64IidE5ERfqc+YK4Mp33FeV4zItDuUeWLmk3J9yRZOuXFuhGS544Mzlw7P9E1PEWS7G\n",
       "4lAm4OwrnitaCX/WEtNkFQJHhFwbhza1x/e34/dLFVeuhDeX/+6WFVX8eV93GKWJqNCQC9Yg8AMg\n",
       "zXExFoeZX/BtXua5yurKTi0p59eDry7kyvfE0ZdkGIeQXNC5pCItFYNrjzeXFOyGMh7MT7rDHKmc\n",
       "VBpyERUCeHbSeY7LtDjkuaUOVOO5MpOll5qjOgPBLhFXSL1Fho7sNeGc63xd9+baFynAdkxxSncg\n",
       "aXrvVV2uJWlEHR6xJ4eLxawgDmNHtc+xYvFasfiYVF/rmR/BAWiLi7gQmsejA614AEJ1V65+b65S\n",
       "OUmnKG04XMAvXq+YXCRLZGx5I+OWNyKD3da8cWNV3MyMaUUYh+E6xHLQEv8bLsgAXGK5olmyvrrM\n",
       "OIQew1/n6vFQLCe3J3kuNB+Y1yezAGvE+RC3iuShM1UCf86yvrLNxiE5XywjgA3c+jLyIc4bv7kv\n",
       "z+E0kee45DpakLRqMEv2PhFXSx6PDswEVCZv2OZLkDfgEI5lickboxwXSbQRFQ3wXNRSxu9Ei2SG\n",
       "Co0H/XYO2hSeC0/+N0lrFcv6l7Ua+JYYJ0OHVvCE4ygax72K5V25aAJfW7K4Gt9wiEiF9wBvnfcv\n",
       "EghopF3huaglMkyWDqHM6o+bePh2ga9a4riCKiQ6tOZoMPFVq8XOL86aEqYOkdhAd6cz7/CiUFy5\n",
       "SIC9OTZRox7U1RQaph0PXMaL6JH7OYpZ0FwSPG1f8HxYHAd7c7x2GEeRxHPBOcrhpbwsyvFcfcy5\n",
       "l8nAnIR9B5P4ry/A2vwSWTiMo0jC+9zr+FJe1nLuNe9fwZTrNmPfwSa9TqCk+W3oZh1FEp73lB2u\n",
       "L2Vkp/n7F4yz90rnIttNXjdY2nxdQmEdRRLBZu6VNa+e7TDuy/1a0M6CT/nnvwO8o0+f9W6+uunf\n",
       "AeRUw4H+vvELViBgqkCDuToAAAAASUVORK5CYII=\n",
       "\" style=\"display:inline;vertical-align:middle;\" /></a> <a class=\"ProveItLink\" href=\"__pv_it/68daf2c6f2f2419c76dac6c68d5cd4c484e2e7130/proof.ipynb\" style=\"text-decoration: none\">&#x22A2;&nbsp;</a><a class=\"ProveItLink\" href=\"__pv_it/8ed3bd1c9407445cd7a7ba5765bef5c8555ad8210/expr.ipynb\"><img src=\"data:image/png;base64,iVBORw0KGgoAAAANSUhEUgAAAZcAAAAVBAMAAAB4R75ZAAAAMFBMVEX///9UVFQQEBCqqqoiIiJm\n",
       "ZmYyMjJERESYmJjc3NyIiIi6urp2dnbu7u7MzMwAAAADGpxCAAAAAXRSTlMAQObYZgAAA75JREFU\n",
       "WMPNl01oE0EUgF+6SfOz2bR4Ka2iOagHfzAUD1qQpiqCoJCKlCqiKZqACBL1UNtTQCp4arQe/Dl0\n",
       "L0WNtM3Bo9At2B5akG0pVoqSgGcxECi2NcW3u/mZ2b/Z1kOdQ/LyMu/NfG/evJmBn/CfNP1EQvIW\n",
       "HaDBvCr40ztHwWXUr3mdOphTv1448HCyaqD5WEb57We9O4Om3pb36zXC/eg2aVptYISUAweuDAVz\n",
       "G+AmLGXoPkYN0RIGTWPMpFu7g2T5YgPTiDPgjjIcCHESxhcDXxiCce2/Du2L0Ji0Ui1LxIrQFDGO\n",
       "smefA5igaA0zBLAwXWZ5mCNh3BnwNgNXpmAIjbHxZQPMlNm8hx3ACGFrmPNKVJkwiyTMc4xrM/Al\n",
       "CobQmEQzaoD5BNuEgTuWMP6oI5jGHAEzBpCPAb9OwRAaE/MYN5ShYRJw4ooW6TERnsksGH76ZbYt\n",
       "NLcbxRlLmEDMHuZj6yscDIIxAuYhwKgEIRqG0BhbPvJuKk3BCKXA69/aNPgwTDJXJugdhPx7aEfx\n",
       "cQ1mNqm0RA3Gm7aHkfpFYQ17xAmYMzj1GIT+0DB1jbF1rshf6TTjyuOChjfiiUM/E+aHO67EaxjF\n",
       "45Yr447YwoQi58C/iWNHCZjD9aTC2JxOJvtYaXZJq8PBZPLWwWSyGUXPgep/coMI60wYOZ+DThla\n",
       "UPxlCdOQs4URhA3wFRGqSMPgducMBYCzLABdb0RdAXC3DUKtroU22QWgE+AywKF/gQGuCK64DgbT\n",
       "zJuqGVVLc8rajbDh39DB5HOjuYqqBwJhNkwPwAXg1wSAD7o90+c0zQATuiktAx+lC8DWDk1fUSgF\n",
       "aZhhLAqSJt5TzigmzBEMCc5mhCwA+pVhFYAGCVNVogvAjLo6iwUKRtUIq0rQsa8q1H65UrCpg2mB\n",
       "poKkdoBumEprEkzKdaO6H0XApcUkaZQwANcsYdSaGyjrTOu/MBlmfQXwSASMss7fsnuBhlE1ZzG0\n",
       "biXOXVD5cF/EiEVgbJyGeQCBq7LaHRayNzKa1H0ska67qPlRXGBq4CnC9eJpddcSRskfz67VXtVC\n",
       "M605UtzixJ8+wlOvQF9niNZBbTFjnpyi96Bo0r2HNGS5EKL21xmTQXVul3QXTaJ9p3yanFR0LZD1\n",
       "3V1x3AyEIcsF46JpNqjOLXXRhAHLLbZirGSizS1J6e5Oe0XSkOXC7gngzVgOumLxBFAeZxbN+AT1\n",
       "2V35lO589jplyHIx4OBx5rObmbf6OJvY8WezTwv+hE4dKDh+Nj+pGPwF5Ehb5kn6D80AAAAASUVO\n",
       "RK5CYII=\n",
       "\" style=\"display:inline;vertical-align:middle;\" /></a></span>"
      ],
      "text/plain": [
       "<proveit.magics.HTML_DisplayObjects at 0x7f5b9abe0d30>"
      ]
     },
     "execution_count": 24,
     "metadata": {},
     "output_type": "execute_result"
    }
   ],
   "source": [
    "requirements"
   ]
  },
  {
   "cell_type": "markdown",
   "metadata": {},
   "source": [
    "To ensure unambiguous and straightforward behavior when different parameter ranges are involved in the same expression range (as in the dot product case), their operands must be in exact correspondence with respect to range start and end indices (and whether or not an entry is a range).  Otherwise, a `LambdaApplicationError` exception will be raised as in the following demonstration.  In this example, `assumption1` is used again so there is a proper alignment of lengths with $n$ elements for $x$ and $n$ elements for $y$.  However, the internal structures of $x$ and $y$ are not aligned to each other."
   ]
  },
  {
   "cell_type": "code",
   "execution_count": 25,
   "metadata": {},
   "outputs": [
    {
     "data": {
      "text/html": [
       "<strong id=\"new_operands\">new_operands:</strong> <a class=\"ProveItLink\" href=\"__pv_it/d5f5a52864b27857d9a08b835161cea852c165300/expr.ipynb\"><img src=\"data:image/png;base64,iVBORw0KGgoAAAANSUhEUgAAAYUAAAAUBAMAAACQQDwpAAAAMFBMVEX///9UVFTMzMx2dna6uroQ\n",
       "EBCqqqqIiIgiIiJmZmYyMjJERETu7u6YmJjc3NwAAAC+aOQFAAAAAXRSTlMAQObYZgAAAz1JREFU\n",
       "SMfVV89rE0EU/ppNNz+6mwZFehBqwH9g9VItggEPerI9eFARzEWKUO32VIJR04NFiod4EEFQVgSx\n",
       "e5Be1ENRVqSkUKU5iR6sEQS9NbQlBYnizO5md2d32t3k1L7DZN43782bb/LezCyQqWEvy3XaLAPC\n",
       "zaMuyCg+WT7vUaRX5V3AoadOmpfAcyzVHZBR/DLnVdIVjoV4KWr0K0Y4Ei6SBsgVyKMQtDbGKAFp\n",
       "epX+QtDg/ZFWxNj7D7VXPBZAdhRRZdQhIFlHXxaiE5lR/BJnRkZ4IeVW1B387uPgQTrhsAj8JvuZ\n",
       "RdzZYEbxi8BUwDHsBg7pPIrASgXxrTbEKH5JV8SvdU9xXHtiZcHU4OmhcA6nBn9Nqocn891wIL5F\n",
       "leVgQ0IFb4E1BTFn2Yzil5XCrRHnKJaaiZ9/zd4HfFFnwzkoC6q0lRdHu+FAff+xHGxI1jBDll1B\n",
       "bIMuyuRgK1yZqBqf6K8ZS2yVJIvQCZw0zoZyiBVmkdmA3OiCg+m7znBoQ2IZ59z0WdHCcumBdZpK\n",
       "f2ibutCGDSxEqAdJ2qTHRc88s+JhXb+j609DOFBfk7yg6y8u6nrWhWINyoGUsUjLOJmFq3Bl+oa1\n",
       "B9O0SQ68cQa2otS02ECqjF61m1wivj0am0s2RDiQXOqb90RmFP9ubGY2PcWRX2uXZ2w9CoeUhqSC\n",
       "kbrRBQfi218zGA42FC/Tmo58x8kNqSm4ZyMpccXsjScaKIVz6FUIbzzKFLrgQHwnDIXhYEOkpo8T\n",
       "bQaLOceaKmbCW+Wh2elPOySV110OB9GfU+hYvNnXIC9H0x6Jls/J1cjfNgE8E2zL2wEOBDENHV93\n",
       "EuI7LOcYDjaUUnCGno1T+1zGpnLXsMvDbGj6J++RPCugWHIMXyPx0KCW0kCp+M2yQOrAn8dWbxre\n",
       "KeiEJBS5ja6uWuP3L8/VWA4mQg1d33Zk6vvjM1sPNpTO0bcGr4SC/+r4NsVmcCzGQyZkx8c6i+y7\n",
       "p5fMNx/vUcG5ZbZ5fvAslJAJ2fGPnUWWDP+bD+94K6sGzySVz6HKseDYVqPM1Vlk9+1Nv4GCEvy2\n",
       "k7eZo8axkEMmlHdYU/TI9l1Aa2GPf4uuAv8Bea8128J2JhcAAAAASUVORK5CYII=\n",
       "\" style=\"display:inline;vertical-align:middle;\" /></a><br>"
      ],
      "text/plain": [
       "new_operands: (0 * 0, ..a * a.., k * k, x, 1, ..a.., m, 1 + 1, ..a + a.., n + n)"
      ]
     },
     "execution_count": 25,
     "metadata": {},
     "output_type": "execute_result"
    }
   ],
   "source": [
    "from proveit._common_ import k\n",
    "new_operands = [*operands[:3], \n",
    "                ExprRange(a, Add(a, a), one, n)]"
   ]
  },
  {
   "cell_type": "code",
   "execution_count": 26,
   "metadata": {},
   "outputs": [
    {
     "name": "stdout",
     "output_type": "stream",
     "text": [
      "Expected error: Failure to apply (x_{1}, ..x_{_a}.., x_{n}, y_{1}, ..y_{_a}.., y_{n}) -> ((x_{1} * y_{1}) + ..(x_{a} * y_{a}).. + (x_{n} * y_{n})) to ((0 * 0), ..(a * a).., (k * k), x, 1, ..a.., m, (1 + 1), ..(a + a).., (n + n)) assuming (n in Naturals, |(0 * 0, ..a * a.., k * k, x, 1, ..a.., m)| = |(1, ..a.., n)|):\n",
      "Improper replacement: Improper replacement of (x_{1} * y_{1}), ..(x_{a} * y_{a}).., (x_{n} * y_{n}) via {(x_{1}, ..x_{_a}.., x_{n}): (0 * 0, ..a * a.., k * k, x, 1, ..a.., m), (y_{1}, ..y_{_a}.., y_{n}): (1 + 1, ..a + a.., n + n), x: {(x_{1}, ..x_{_a}.., x_{n})}, y: {(y_{1}, ..y_{_a}.., y_{n})}}:\n",
      "When expanding IndexedVar's within an ExprRange whose parameter is the index, their expansion ExprRange indices must all match. ((1 + 1), ..(a + a).., (n + n),) vs ((0 * 0), ..(a * a).., (k * k), x, 1, ..a.., m) do not match as respected expansions for y_{a} and x_{a}. \n"
     ]
    }
   ],
   "source": [
    "from proveit import LambdaApplicationError\n",
    "try:\n",
    "    dot_prod_lambda.apply(*new_operands, \n",
    "                          assumptions=[InSet(n, Naturals), \n",
    "                                       assumption1],\n",
    "                         requirements=requirements)\n",
    "    assert False, \"Expecting LambdaApplicationError\"\n",
    "except LambdaApplicationError as e:\n",
    "    print(\"Expected error:\", e)"
   ]
  },
  {
   "cell_type": "markdown",
   "metadata": {},
   "source": [
    "Of course, when parameter ranges are not involved in the same expression range, this restriction does not apply."
   ]
  },
  {
   "cell_type": "code",
   "execution_count": 27,
   "metadata": {},
   "outputs": [
    {
     "data": {
      "text/html": [
       "<strong id=\"add2n_lambda\">add2n_lambda:</strong> <a class=\"ProveItLink\" href=\"__pv_it/f4373985ebab1358e1c9ca5e0402892f2a98e9690/expr.ipynb\"><img src=\"data:image/png;base64,iVBORw0KGgoAAAANSUhEUgAAAfwAAAAUCAMAAABf7H96AAAANlBMVEX///8oKCgNDQ3MzMxUVFR2\n",
       "dna6uroQEBCqqqqIiIgiIiJmZmYyMjJERETu7u6YmJjc3NwAAADtE0dfAAAAAXRSTlMAQObYZgAA\n",
       "AyFJREFUaN7tWtu2nCAMpUXBoIL8/89WdEYJQmSAWav2lIdzEbKT7AAJKGOMLYY9uQ1L/tiHu9qe\n",
       "ND0/3JEuO/qPd7U5adPycD/0lDvy8a62Js2Mj3ekh7xxea4O8KH67wp8C30jTT1/NWgZfw6Ba3mu\n",
       "/pDgO9IW9Q/sYZOI04BXeqarPyT4jjR4EaQBukVADxUL8AZCw+i6FqmLFSQA+iPKuKLD0c50tZrt\n",
       "WyoDAZqXWnMo0ub98KP7NSUqYGqrA3hJVYwhYlmGCbc/gy3V4APgZD7Fwz0gLZmuVrN9x0MoQPNS\n",
       "aw5Fmhr2Ieu86K1mYk2LfBxLcoEPET1jD2x0fMxzoQYPIPRXxYPPYPbme6ar1Wzf8BAK3PBSaQ5J\n",
       "mtzTpUb9oiT4OqoC9Utnl4VCDQgANX5M69+/JtSsPcuBW1f7TUTJ7VeXM99jAhQPMYEkL03MIUmT\n",
       "JzlnvyitAi05TcW6HladvFiDB5AIvsKZTSivFMx0tUWFRfMQCpC8VJtDkPbaCxnqLw3+AWFGwwHC\n",
       "Y/W2/4As13AABPgise3zyZ8Lma42CP4ND6EAyUu1OQRprypo0HtJALo4ND6EEXLFlUHWm7v3j8Lg\n",
       "HwABfqrgwzd6ma7Wsn3PQ6iB5KU6+ARp+ylJ2IHN9njx8TJB2xep1z+uj3yIRYNDcPuNJ8LGzg0z\n",
       "pRpOAB9/e94fJSza8MbIgTDuKlG8EybGBFI8UGvzwks7c0jSdm26A1gPhMbgvVC9U6h61xvHH96j\n",
       "fRCG6FYLhMQg25DRLqUafAAP361wHs8SPCgACFfT5F0tUx0hkOSBuBi48tLMHJq02J3nYcKg8/b7\n",
       "S5N8m1r80j9OlRp2AB+f6cwcQrr6nSs1ZCclEPLS1pwUabG3Hce5uc+7e7keyV3SU2Lgfn83uT1K\n",
       "lGs4ARB+1Yud4cK2/vQCkhDAdiYEorw0M4cmbQ7XwzIq28F+NZh16RpZT24ngt6gfrX+O0OFhhPA\n",
       "x//glS7h6ncasjO5IUV4addo0ogvHLK+ezG5/WLNPbxGQwwgFtL0LPorP+ZIuPVd9DdpD/+2yfz/\n",
       "jKuQtD8EAjNXbmgklgAAAABJRU5ErkJggg==\n",
       "\" style=\"display:inline;vertical-align:middle;\" /></a><br>"
      ],
      "text/plain": [
       "add2n_lambda: (x_{1}, ..x_{_a}.., x_{n}, y_{1}, ..y_{_a}.., y_{n}) -> (x_{1} + ..x_{_a}.. + x_{n} + y_{1} + ..y_{_a}.. + y_{n})"
      ]
     },
     "execution_count": 27,
     "metadata": {},
     "output_type": "execute_result"
    }
   ],
   "source": [
    "add2n_lambda = Lambda((x_1_to_n, y_1_to_n), \n",
    "                       Add(x_1_to_n, y_1_to_n))"
   ]
  },
  {
   "cell_type": "code",
   "execution_count": 28,
   "metadata": {},
   "outputs": [
    {
     "data": {
      "text/html": [
       "<a class=\"ProveItLink\" href=\"__pv_it/9445b89f453972cc231749928a9929555f1578490/expr.ipynb\"><img src=\"data:image/png;base64,iVBORw0KGgoAAAANSUhEUgAAAjsAAAAUBAMAAACZneGiAAAAMFBMVEX///9UVFTMzMx2dna6uroQ\n",
       "EBCqqqqIiIgiIiJmZmYyMjJERETu7u6YmJjc3NwAAAC+aOQFAAAAAXRSTlMAQObYZgAABERJREFU\n",
       "WMO9WE1oE0EUfk3STZps0uIPPRQ0J69ZvVR7KnjxVtGCKIK5iF60WxRKQTEiVvBQIh4UoRJFxOYg\n",
       "9aA9FOuKFEtbSEAU6sFGEPXib0vFUotvdnY2O5PsOrtpHQj0vdd57/u+mXm7swCpMtSM0yA/vtRz\n",
       "+kkQeNRDbg6l0iB8B4lZgPD5XVVn56s0NMnnV8dAfZxz2KbhI0HwMesa2eYHvuswSTwEuA/TNp14\n",
       "Vh0GtSCdP44z43mngxgyCZSjDcqDyOG4IXqJZ8YXfFfpkEQyD8n9ELbpvAbowi3EKOhu3FhgHn+t\n",
       "WUeEGizBCdeZz3euShfhBkuJyNXN2w3eSz1h3bW8EJj3KogkYhVItIHCoMIjgD4DpqSRD+Ovx7mE\n",
       "1Jj6pzyQbFCeGFn4BUMsRDzqfll5hr0KIonPuN5tEFlmrh9IMAvxbknkKdJpdjsj1GAJNlCez+Aq\n",
       "D9yTlCeV8yqIJAYBSnmI/GLn7TfKo0M4L4k8Sv5xFE7dtiPUYAkYvpf9H87oAeWJ7Pw60B7q3CJQ\n",
       "HvSQZ4+kPAT+3m2fBnUeieVCEk8BvmkQYvKkFgEyOiQLkvIk8OGqLkc//LH7GTVYAtYStOSVWCGg\n",
       "POHEOJTOwnGB8lMPed5KykPgaxO6usYjsVxIYgjlyUNokXAg8uDuyWig5CTliWEjVlbPqWVrPjNY\n",
       "AgtG2AivRioB5dmBwuISLgiUhzzkOSkpD8IPZa9C6idXkLmQRG/1cJUK9uEKfSecisUHR4rFtprc\n",
       "jkAz9piWw9RN5jPDTNBVLF4uFu+YyiXGhJmWPBJFjFI3eVx0AJeSIGfyOLzUkxG93KgGEL6qLkGS\n",
       "p8tcSKLXbM0Kac2xNtqa+7KUnczuIfLE2sfpUpD5lsES2MvXqgdvzX0ANwEOCTui12P3ZCR3D4Gv\n",
       "fIcmoZdYLiSBWxQX1oYKE2aBiJ/DVer+1m0HLCOSE/Bl0sHluQVwCSJrqvzh2id/uKClAK1lgyto\n",
       "uZAENrg6r4W+WvMClLKajY4aQmtWjAsQNYLKcxBwt7cUPm5Ma27W8Ohq/JmgLiSxx1yHKba2qKd6\n",
       "AOXTeIBmW1ph/cURIA/wDmhN2/JYBktgwejJPmOXP1uMqCiPW5HUEtntcY1PSR/eF2rkMT3XhXfp\n",
       "FWd65yMD4eNu70qmOSSWC0mQbfhiYFP1otHZj/8aTwtniLSVi+wPR4AcoicQvWG/N1sGS2DBeD7w\n",
       "cqTMz2zZujIiVwRr4PuJMlLhhSDIrx0bLfNe6rkriHbRmd4RIPAxz/s3PBLLhSRide9k074uFR4J\n",
       "Tki8Cjdyqajx0jXOrculYtq82NUZ7EapGm63WaPuna4mwZz7TA+PZ2CueiWt46VnRnctLwTmvQoS\n",
       "EpMuV3nJkahAYwmCj0nXyEyD8B0kZn1Okvqe5CPBRnwOm1yXz2EmiXqfJN81+jH13X9Qx/1janJ9\n",
       "PqYiib8q/LDGLtFCkwAAAABJRU5ErkJggg==\n",
       "\" style=\"display:inline;vertical-align:middle;\" /></a>"
      ],
      "text/plain": [
       "(0 * 0) + ..(_a * _a).. + (k * k) + x + 1 + .._a.. + m + (1 + 1) + ..(_a + _a).. + (n + n)"
      ]
     },
     "execution_count": 28,
     "metadata": {},
     "output_type": "execute_result"
    }
   ],
   "source": [
    "requirements = []\n",
    "add2n_lambda.apply(*new_operands,\n",
    "                   assumptions=[InSet(n, Naturals), assumption1],\n",
    "                   requirements=requirements)"
   ]
  },
  {
   "cell_type": "markdown",
   "metadata": {},
   "source": [
    "Furthermore, to ensure unambiguous and straightforward lambda application, we do not allow a single operand entry to correspond with multiple parameter entries or crossing boundaries in any way."
   ]
  },
  {
   "cell_type": "code",
   "execution_count": 29,
   "metadata": {},
   "outputs": [
    {
     "data": {
      "text/html": [
       "<strong id=\"operands\">operands:</strong> <a class=\"ProveItLink\" href=\"__pv_it/0dea324486fd308b976cd65c6f63f4793b9a48730/expr.ipynb\"><img src=\"data:image/png;base64,iVBORw0KGgoAAAANSUhEUgAAANkAAAAUBAMAAADy5oUvAAAAMFBMVEX////MzMxUVFR2dna6uroQ\n",
       "EBCqqqqIiIgiIiJmZmYyMjJERETu7u6YmJjc3NwAAACgK8IjAAAAAXRSTlMAQObYZgAAAoJJREFU\n",
       "SMelVj1oFEEYfbm929zP7nkg2BqwEcHcYgqJTQ5s7BRUsDONoCAmnVyjh0IQEV1iEaIWK9jYJFpZ\n",
       "BMMiiH/FxUbQwjtsTGMS8QqR0/Obb/dmd+fmOBcH3uzOt2/2zb5vfhYob+Dfi5ZstuOtb7p+l0Lg\n",
       "XQoxQX5z/6kanYzdW09gLa9VFEamHQArhHN+7EmioZQVWBOYqSnRt7H7YhsvYHQUhuUFsF1Y+6qR\n",
       "QKKhFiIXfOROKGFjPrr/CDwATqs9DwfIi+9rxQVaw9WInGsg80cdeUz+NnAGqLYVyssAm0ihRuRi\n",
       "F5nvavxRNI0awKqPqpq4Yo1RT6NWD76w229nD21dXqLrtGSMu3y5I99xdPJrnYw2XMbzNGpMxnFH\n",
       "Jqz0DE0y7ZNklHiJZH/IgLM2b5HztsdYiASskWpMxjVJ3pP3sE2mnZeR/CzXE6IW7xmbvYkyOW82\n",
       "GKcigaY3So3JBVeS/WYNLbrulZEcr45lVv8lKqsDe4dUA8TUghGNVAuTx+Q54EBfjSOsFiaPPTB3\n",
       "kPGk2kKavAmy6WJLBu4Bv8nBY9EaEU5eQFmugIKHXRs+suQkIfUs2Q1ckYGTMLuGOkvGHIxLtZyD\n",
       "Od/pzxKevFfjAtRgyzkPoopaRC5fn1psyNXVgeG9B+5G2wqZuDk1vV8Gtms4YldQoHlMECYsnn0c\n",
       "7e3cuOGHeeBKJCB/C+xYsdfrSTXypnyQvHuIWASrvd5PGaAuXz5Qtwoj39ZZZg66eREYQobVSOxc\n",
       "uvI6gO3qHhqDIQfDyOqurCvhrox13cNXg+PnN2rJiROnpP38/omjP00Hj2gbw4/e9eRpqiliDDyO\n",
       "//9TsEf/KXwO8BdaecxcC4Gi1QAAAABJRU5ErkJggg==\n",
       "\" style=\"display:inline;vertical-align:middle;\" /></a><br>"
      ],
      "text/plain": [
       "operands: (1 * 1, ..a * a.., (2 * n) * (2 * n))"
      ]
     },
     "execution_count": 29,
     "metadata": {},
     "output_type": "execute_result"
    }
   ],
   "source": [
    "operands = [ExprRange(a, Mult(a, a), one, Mult(two, n))]"
   ]
  },
  {
   "cell_type": "code",
   "execution_count": 30,
   "metadata": {},
   "outputs": [
    {
     "data": {
      "text/html": [
       "<strong id=\"assumption\">assumption:</strong> <a class=\"ProveItLink\" href=\"__pv_it/67f602d15ead4fc8bfc6101afa4e3bfecbee554e0/expr.ipynb\"><img src=\"data:image/png;base64,iVBORw0KGgoAAAANSUhEUgAAAb0AAAAVBAMAAAAgOC1AAAAAMFBMVEX///9UVFQQEBCqqqoiIiJm\n",
       "ZmYyMjJERESYmJjc3NyIiIi6urp2dnbu7u7MzMwAAAADGpxCAAAAAXRSTlMAQObYZgAAA7BJREFU\n",
       "WMPFWE9IVEEc/tbddXd1n0lEJARKdLNIog4ewpUiEIrWgxVRsB0MIkhvaocQwsBLbuAhu+hlD3Ww\n",
       "PXQMWg96SKFnWEEXha5FHkIK27Z5M2/mzZud92bXNhr48d6bP9/3+9785vdmHr7iPxSVtM3+NzwE\n",
       "d5XepCbrGPVEV9krP2jhonlmpKwqTeliMPDeSi/HZVQf6xhqjQLvr9xXaiN56YHAWUNjW0qXDteC\n",
       "9DnAjSrMHaHvNrGTUpBEjwcPbc7DasfboqI6Jz0QuHWkd5WBH1wL0tecDydGbf5J7nB9ySysw52e\n",
       "vvWlcvDQKSBuo6lLqX7j3RI43ACOqCoWmAXpmzIQozb/JHe4vpgzmzPS/CVDxg8ATRlEfirV77xb\n",
       "B+4o0JlX3mkXsyB9AwZi1Oaf5A7XN4va9aUyJJLKiPxWw9YLWAduxEanugDvuKbX5wA3Th91h+sr\n",
       "1KGvJcvmSPR41fG04EReVnQpsMslDti6NPf8Grkuu6bXR4FDiF0ek3+yO1zfeB36Eiz3vy7xitLY\n",
       "gkWCNeklmHGm6pdwP3EPmyRYH4IZI1255ZRhoY8ChxC7PCb/ZHe4vrOePss0PtZDL/28c1vPeaRI\n",
       "sEad8IIt4BBr53CfYznMk2A9BWb6+aPAwcScx+Cfzx2ur9vTt5kz6Gui6yye5Z0taxfJbQK87cjZ\n",
       "EXAYEnD2ZhEz5PrNNb0+ChxMzHkM+nzuaPTRt27WV/CmKLqNSM4FZNPa7a1TBtcHHPxbfZzHFF+y\n",
       "O5r4RE3xGc1ijlfEc9g3aaM1I7pQuNNIie/DZeAHidSXYCavv5u1xifnMfknu7Pn/PIFeCYmtIQ+\n",
       "u6Tml7YSWoS+Y4iW02p+UefPlF9cHpN/sjtcH03aLyR9LWV36dAVtiPfOIk3dWFtUEzXfBEryS3E\n",
       "RUKlcLNrywfEJ3MX6dwj4DqY6fXRjM6JBaf3xHhYfvB18/snu8P1OUEzeGJY7Prj+3euInaRr59+\n",
       "fnOOvAJn4psrlYrQRwY/fkDqvK+5AzdSqXznz2RI6hCJvrtgptfnAHvEglMQMx7a6O/m9092x7c/\n",
       "qypnqteu7W6jNGXDvz/TpbYMs7D9WRix2hjabUPZX+u+lFU1aXcbHLih9fbXmlLD/jqUWG0M7ebb\n",
       "X2NC97oXqqo+0QSTDz6QuGVCq890PuLAQcRKY3i3nPF8m6yumgw+hiaU862mTAjl4efbIGKlMbRb\n",
       "gp9vFxv0f2La+H8imWdGyqK6Z99q9P+JaRf3D+S3cqItxADfAAAAAElFTkSuQmCC\n",
       "\" style=\"display:inline;vertical-align:middle;\" /></a><br>"
      ],
      "text/plain": [
       "assumption: |(1 * 1, ..a * a.., (2 * n) * (2 * n))| = |(1, ..a.., n, 1, ..a.., n)|"
      ]
     },
     "execution_count": 30,
     "metadata": {},
     "output_type": "execute_result"
    }
   ],
   "source": [
    "assumption = Equals(Len(operands),\n",
    "                    Len([ExprRange(a, a, one, n), \n",
    "                         ExprRange(a, a, one, n)]))"
   ]
  },
  {
   "cell_type": "code",
   "execution_count": 31,
   "metadata": {},
   "outputs": [
    {
     "name": "stdout",
     "output_type": "stream",
     "text": [
      "Expected error: Failure to apply (x_{1}, ..x_{_a}.., x_{n}, y_{1}, ..y_{_a}.., y_{n}) -> (x_{1} + ..x_{_a}.. + x_{n} + y_{1} + ..y_{_a}.. + y_{n}) to ((1 * 1), ..(a * a).., ((2 * n) * (2 * n)),) assuming (|(1 * 1, ..a * a.., (2 * n) * (2 * n))| = |(1, ..a.., n, 1, ..a.., n)|,):\n",
      "Parameter/argument length mismatch or unproven length equality for correspondence with x_{1}, ..x_{_a}.., x_{n}.\n"
     ]
    }
   ],
   "source": [
    "try:\n",
    "    add2n_lambda.apply(*operands, assumptions=[assumption],\n",
    "                       requirements=requirements)\n",
    "    assert False, \"Expecting LambdaApplicationError\"\n",
    "except LambdaApplicationError as e:\n",
    "    print(\"Expected error:\", e)"
   ]
  },
  {
   "cell_type": "markdown",
   "metadata": {},
   "source": [
    "### Providing alternative expansions\n",
    "\n",
    "A variable may occur in an expression in various forms, indexed over different ranges.  In order to treat the various forms that a range of parameters may occur in an unambiguous and versatile manner, you may pass an optional `equiv_alt_expansions` dictionary to the `apply` method for specifying various expansions for the different alternative forms.  The rule in doing this is fairly simple and straightforward, but allows for a lot of versatility.  Basically, if $x_i, ..., x_j$ is a range of parameters of the lambda expression, an `equiv_alt_expansions` may have various keys that are alternative ways of representing $(x_i, ..., x_j)$, such as $(x_i, x_{i+1}, ..., x_{j-1}, x_j)$ assuming $j-i \\geq 1$, and the corresponding values of the dictionary are alternative ways of representing the **ExprTuple** of operands supplied for the $x_i, ..., x_j$ parameters.  These alternative expansions can provide the information needed to expand the variable in its various forms.  The requirements to allow for these alternative expansions is straightforward.  The alternative ways of representing $(x_i, ..., x_j)$ must be equal to $(x_i, ..., x_j)$ and the corresponding values of the `equiv_alt_expansions` dictionary must be equal to the **ExprTuple** of operands supplied for $x_i, ..., x_j$.\n",
    "\n",
    "The following is an example that demonstrates the versatility of this feature and even includes some partial masking of a range of parameters to make it interesting."
   ]
  },
  {
   "cell_type": "code",
   "execution_count": 32,
   "metadata": {},
   "outputs": [
    {
     "data": {
      "text/html": [
       "<strong id=\"A_1_to_j\">A_1_to_j:</strong> <a class=\"ProveItLink\" href=\"__pv_it/bfcafde02dc5795d3c9fd23cf4a70314d72bed670/expr.ipynb\"><img src=\"data:image/png;base64,iVBORw0KGgoAAAANSUhEUgAAAF4AAAAUBAMAAAD2P5dXAAAAMFBMVEX///92dnYiIiIQEBBERERU\n",
       "VFS6urqIiIjc3NxmZmaqqqru7u6YmJgyMjLMzMwAAADiRdoGAAAAAXRSTlMAQObYZgAAARlJREFU\n",
       "KM9jYACBtwwEAd8FJM59wup5PyDYPPc3EFR/9jeCvWt+AyHl3Ct/IDgH6hMIqedh/wZns21Yf4CQ\n",
       "+myuP3D2Nob3BcAAcMDnnAS+7yD6HohIYOifwMA3UwGPejYGjp8gegEoZCNnxgPNZsOn/unMqV8Q\n",
       "ehmYLxBQDwwPWxgbaAeTAX71XECsDPRFJVAtxwJI5OFT3wVJA5xsQHc0AdksPyDq9wP53H8ZIAwE\n",
       "jwNklH8Dww7GAIYt/28zcPl/mgBWz6QNlFAFYqYAGKG0gYHb/+8GhiX/NYHmIsUT2D2rMZ2OnLT4\n",
       "kdINF0i9AIZ6RmTOYwSTY9LXAgbuAgz125E5JeipCjNoUFKWOwMpgDXDmjT1og0MAJlYRLF+To2a\n",
       "AAAAAElFTkSuQmCC\n",
       "\" style=\"display:inline;vertical-align:middle;\" /></a><br>\n",
       "<strong id=\"A_m\">A_m:</strong> <a class=\"ProveItLink\" href=\"__pv_it/a55deaf09ad4390c4b88424740cb50bf3fc95bc40/expr.ipynb\"><img src=\"data:image/png;base64,iVBORw0KGgoAAAANSUhEUgAAAB4AAAARBAMAAAA4SAFEAAAAMFBMVEX///92dnYiIiIQEBBERERU\n",
       "VFS6urqIiIjc3NxmZmaqqqru7u6YmJgyMjLMzMwAAADiRdoGAAAAAXRSTlMAQObYZgAAAJZJREFU\n",
       "GNNjYACBtwyo4D4ql+f+BhT+rvkNKPwD9QnIXLYN6w8g87cxvC9A5icw9E9A4vJFzox3QNbOwMB8\n",
       "AYm/gIGByYCBZ87zSvbSBwwMHEA+7wcGnuQDzNHsAQwMTUAlLD8YuosY+BM4BRi2/L/NwOX/aQJD\n",
       "OMNjBqYFCGPsGEoY+vngXI4PQBVHGBG2BjDcYGiVBgDBWiVJMk2CgQAAAABJRU5ErkJggg==\n",
       "\" style=\"display:inline;vertical-align:middle;\" /></a><br>"
      ],
      "text/plain": [
       "A_1_to_j: A_{1}, ..A_{_a}.., A_{j}\n",
       "A_m: A_{m}"
      ]
     },
     "execution_count": 32,
     "metadata": {},
     "output_type": "execute_result"
    }
   ],
   "source": [
    "from proveit import varRange\n",
    "from proveit._common_ import A, B, C, D, i, j, k, m\n",
    "from proveit.core_expr_types._common_ import A_1_to_m, A_i_to_j\n",
    "from proveit.logic import Not, And, Or, Forall\n",
    "from proveit.number import one, Neg, subtract, NaturalsPos\n",
    "A_1_to_j, A_m = varRange(A, one, j), IndexedVar(A, m)"
   ]
  },
  {
   "cell_type": "code",
   "execution_count": 33,
   "metadata": {},
   "outputs": [
    {
     "data": {
      "text/html": [
       "<strong id=\"partially_masked_lambda\">partially_masked_lambda:</strong> <a class=\"ProveItLink\" href=\"__pv_it/7a01ffc9a3ce80819032bddeb8457b696da59ae30/expr.ipynb\"><img src=\"data:image/png;base64,iVBORw0KGgoAAAANSUhEUgAAAlcAAAAaCAMAAACtvIktAAAANlBMVEX///8oKCgNDQ1UVFTMzMx2\n",
       "dna6uroQEBCqqqqIiIgiIiJmZmYyMjJERETu7u6YmJjc3NwAAADzUGF5AAAAAXRSTlMAQObYZgAA\n",
       "BbFJREFUaN7tW+u6oyoMZQZUBLn4/i97vEAFTDBsbaffnOHHHttZTUPWkoRgGfveIfovdIorpTz7\n",
       "i0e/TLC78fnx2yco+Dd6pdjfP/ydyPevD3v3KYdly50+2f+lrj7HBkrOLV2xLkzAmmyVmJ5ZbGAz\n",
       "nC4sPbI3+NXoL6KrA+yeVsFb2KDN+UUOUVeYc2pfEKaM62l+xGfEjCXHyc+WkfxqLXZ8i79n+Kar\n",
       "Tr5tUb1iQ4CXOPcVeGn8Rc5JV20xG/V2x+n0PTfNT0QKNdNRy7pO0wyySTcSp1v8PcE3Xfm4qHjz\n",
       "sKwu2eAveThKKCvws/FIzklXbTHzm96y3Y2Ven5gt4ObsQO2jSjwg6QZFEY13QggvsG8ypapTj5d\n",
       "vl2xcexmSPPG4YDxSE6pq8aYMbVExWeFqGPj/MDuvmJmQt6XupYGcYO8H5t2tiC+wfweLtfZdfin\n",
       "q3gCGzFR9rR1GoVDxgM5pa4aY8a0ickw7hEtk/P9SrRmJslvprLRcgPN4FoTtJAL4lvMh1ezWcet\n",
       "Rg9emlTdijegoeUVDA4aD+QUumqM2TKLhTyT/J9d9Cfm242tqhk3IUqSmcz0RDO4JqKWZAThm8yr\n",
       "tG4xT3dIKWyokJuaGiMlHDYeyCl01RizRXNLslHJB/otAWnW5vjZbGrmdP8orBU0miT1GcNIfq02\n",
       "fMNmHMIX/k6iBldJWsl2tw0aw6EoG8lCtuckTi1XYDg850BOoStCzIp6bBZs6JMaT2vN5403ofVP\n",
       "a4fUDPSdr8vfv6ZszEm+njij+LVvcrig+gbhS39lFa6Sf8dkdXH0urQCRdhYXh1StKqpYQPCkTkH\n",
       "cnJdUWJWbgj7dCb71RBc6NWN5eowU9FVscnoVRJupRnFr90E/cQHwlf8BeDx29eucuKJ1eS6tAZF\n",
       "2chqhLbcD8ER46CuGmO2znDR1bHyhgs13NNVYeakOiwPiqzFmHRMKn7FonQi5iAIX/EXgsdvXxJD\n",
       "GurOKmofrQZF2ciWg7a9CgDHjPdAHmyMWVyvXpWil3kX9Ye6ys047cS41AbjGNdRtG7PtWE4I/gV\n",
       "PyOJnAL4wrwdtayaV0eRlNQsYswrwlqZUIMibPRjtloY4Vo2Vyc4Omeobr+M2ZljMfvXvv/VOTGh\n",
       "2xX4s/PEyBcnM64flkgN3LIYGd0lHZD0VsmlwQ2r+5WX8K+UWnUOwJfmNetr8ERXMi30lsmFl5d1\n",
       "zwEFTksRNjqWtfMEz0qI6pzP8MqcAzmprq5jduZ43Q/uNFkzz1seksvFvkxH/lS0p+K3ARcBU5rx\n",
       "dlytrHVq1NOE1NhanFogdb+yTc7Rt6t4ecafzNvlRuM188kim+yy3XIDj+HmvyraDyhaJZzDKIu1\n",
       "Pb8Ja3M+wWtzDuSkurqMGcDx1nzEnlJ78ScJ5wUohi/OiOGoHCwxu/boMWWiq6TOJ+0ISfijhQTC\n",
       "j2939mgc6q4zpIPVKyjChikSWdsZ7iU8zDmSk+qKELOS463fXpx0AvxResooZhBrY2o7i9zcIp87\n",
       "D/21rt4yLs5HoW/XditWlwnKq0OlA8qcA6IGs2FnKz4wZ/Tc+YKqgmM2jZUuXVx6LUEJKGY72l71\n",
       "7MymPXrbRWNSle/VlRhYq676/W5fuwdyLxP92uLN/2wXKdQLcO0G2ZAT694/Z/w5mfpqWHC83gV7\n",
       "woTAWs18PFXXWNGAZh4edhSed7apKY3we/j1pjGaVl2ZrT3ozaxcbB+K9WkMMfjkz/ZWBoVPjkE2\n",
       "LO/8++ds/I90VXLMXPj45558dQ3R4ZL9iWHG5vUqFYAKBYlEG3tJ8QDO8A88h7zP2T30HDJTgn3x\n",
       "sNPnv5P3frB3dLXkg+3zwIP857e+4wF+YM73dOU69tVD6s/HuLt8AJ9W3bnLt7z301eEGZjzLV09\n",
       "/gjt88L6xt8Pqod+P+g6/Z0/Q1x/P3hHV9qyf+PfeNP4D03bSEeMyF2oAAAAAElFTkSuQmCC\n",
       "\" style=\"display:inline;vertical-align:middle;\" /></a><br>"
      ],
      "text/plain": [
       "partially_masked_lambda: (A_{1}, ..A_{_a}.., A_{m}) -> (A_{1} and ..A_{_a}.. and A_{j} and [forall_{A_{i}, ..A_{_a}.., A_{j}} (A_{i} or ..A_{_a}.. or A_{j})] and A_{m})"
      ]
     },
     "execution_count": 33,
     "metadata": {},
     "output_type": "execute_result"
    }
   ],
   "source": [
    "partially_masked_lambda = Lambda(A_1_to_m, And(A_1_to_j, Forall(A_i_to_j, Or(A_i_to_j)), A_m))"
   ]
  },
  {
   "cell_type": "markdown",
   "metadata": {},
   "source": [
    "On its own, this **Lambda** expression is ambiguous.  There are different interpretations depending upon the order of the $1$, $i$, $j$, and $m$ indices.  The `assumptions` and the `equiv_alt_expansions` supplied when calling the `apply` must resolve any ambiguity.  So let's set this up for some unambiguous interpretation when we apply this lambda expression to some `operands`."
   ]
  },
  {
   "cell_type": "code",
   "execution_count": 34,
   "metadata": {},
   "outputs": [
    {
     "data": {
      "text/html": [
       "<strong id=\"operands\">operands:</strong> <a class=\"ProveItLink\" href=\"__pv_it/26b496b3af05d4fdf126f9a10c417577b111634e0/expr.ipynb\"><img src=\"data:image/png;base64,iVBORw0KGgoAAAANSUhEUgAAAUIAAAAUBAMAAAAKIynxAAAAMFBMVEX////MzMxUVFR2dna6uroQ\n",
       "EBCqqqqIiIgiIiJmZmYyMjJERETu7u6YmJjc3NwAAACgK8IjAAAAAXRSTlMAQObYZgAAA2JJREFU\n",
       "SMfNV01oE0EUftukSdrsbktPimCjCKJVm6sX6UUMKLSIB7EW4q3VgrmJeEioWCoUDFGhRbEV9OLB\n",
       "xqJSqNpVqJV6aOilUBCDguhJDbXV/ljfm9mfSfYn660DmUzefN/s996+eTMBUAuwdVuoiN176/f8\n",
       "5r7cZJsfptJaGm556jw3M54rfPam2yDSaAVifnO8ZRzlHcLxY8HeCVD305dztXmAkUanmXAXQE+X\n",
       "J9kOqf9BPVtP4pZVDMMywCx+ZQVPNgCCf3wpbMbcaM86TMgTGrr514vrAFlcp34XdQtcygp2twEC\n",
       "KYgUBd+Qpaz4UphG2seUw0T9WeyCHV5cO0TuYXqbqBvkUuhVthdA7oCvAjCKrOlBXwqf4bKnNYeJ\n",
       "kSRFIOvFtUOU8BKTjm4HuT1Kr/17HOABXBaADTGQ+jRfCksA2w442NXfLCZFD6oD5ERog+1cVBfl\n",
       "9oY8xTAGcBheisl1cGEC/ZPyVQVKpQ9X+vHb9M/gBIwk2eHKNSEmWW6TuC1j8popg9IYw0XA59QN\n",
       "UIuz5JJPgjSccV19iJBXecZOo4c7DYEGJ6KXgu1DrmsYEJMMQVD5/rwEsEfPc9rXrVj5uuGUEfsY\n",
       "Sy5IJyGY8Q7gJ56x4WXBZnBq2aaUARLuhcqAmK1pOLfGBu9A1gvjFHW/KJhlCkukMOVHIWYshFcc\n",
       "FEZYYTvnpdCEmA1DdYYN6pKBJDeRYmWDKey3FFI5pMj6UEjlsGYJjsUqFfIyF/dSaEBMcgg/17iI\n",
       "0QhY5XCacjth7hRUSMklrYEfhVQOm/MQX69UqNLSAc1LoQExyV/wM8aHTxbALIfyI1bLcTfrrRHq\n",
       "MbmOvuBPm8N8kPHksQasA/1ceoioTk19mxEVEhQuFiB0l/nuxBcgRGY2lRaZ4kWmadA6BROsMt4U\n",
       "fK0Zw9vAc/1pEYL2UdbE9AEMWJVyP10xMGOiKTg+iU2zOPKd3beAK2QMi89WEyBIJoQ8tarBhc3r\n",
       "XFnWkJJruceG98tOPfGN9dpvQvZaPvfalZNwZvSWkysRaiVDzpTdHAwpGZ7slZXWnlLnA66cbmdG\n",
       "vJwcqHY04M0BXtkyeaiUAtl+K5ix898cceN8u7HXiSFCiDxTTeFs+Q1WPMvtpqp3caU6Q/nfNSl+\n",
       "W/pfgFKEf6KyCqEhDNaJAAAAAElFTkSuQmCC\n",
       "\" style=\"display:inline;vertical-align:middle;\" /></a><br>"
      ],
      "text/plain": [
       "operands: ([not](B_{1}), ..[not](B_{k}).., [not](B_{i - 1}), C_{1}, ..C_{_a}.., C_{i}, A or D)"
      ]
     },
     "execution_count": 34,
     "metadata": {},
     "output_type": "execute_result"
    }
   ],
   "source": [
    "operands = ExprTuple(ExprRange(k, Not(IndexedVar(B, k)), one, subtract(i, one)), \n",
    "                    varRange(C, one, i),\n",
    "                    Or(A, D))"
   ]
  },
  {
   "cell_type": "markdown",
   "metadata": {},
   "source": [
    "This gives us the replacement that should be used when encountering the range $A_1, ..., A_m$, but we really need to know what to do when we encounter $A_1, ..., A_j$, $A_i, ..., A_j$, and $A_m$.  First, we will need some assumptions for our arbitrary (for demonstration purposes) scenario."
   ]
  },
  {
   "cell_type": "code",
   "execution_count": 35,
   "metadata": {},
   "outputs": [
    {
     "data": {
      "text/html": [
       "<strong id=\"assumptions\">assumptions:</strong> <a class=\"ProveItLink\" href=\"__pv_it/cf91726c64e68ee944f1b2a1dd52e4cc038372d50/expr.ipynb\"><img src=\"data:image/png;base64,iVBORw0KGgoAAAANSUhEUgAAAz8AAAAbBAMAAACgrizNAAAAMFBMVEX///8iIiJERESYmJiqqqoQ\n",
       "EBB2dnbc3NyIiIhmZmbu7u4yMjJUVFS6urrMzMwAAADZVrDbAAAAAXRSTlMAQObYZgAAB1BJREFU\n",
       "aN7tWV+IVFUY/2Zndmbn7sw4C1ZsRa76oNUGS2UWBk4PkgmxW1FEIo5FpWQwukJv7RIIbhCNCqLZ\n",
       "w00IpF3YiRLT0Rx3q5VCXYN66MUxsocw3GK1WDE75zvnnnvOuefMHJ9cZD84d+6Z+/35fd93/nz3\n",
       "XIA5mu305yzEVHPgydz2mWnDa642C6F1OfC03PYJymJq2n0rQ6rH8uBpFyZKidKtSlA/by54nN1x\n",
       "dq3/JoTMFhHTa/Sy127mAL2sMiQwU9KYrDSh9Yf/ftCH169Mst6Y8sw7segoJNevUxOUeMWiQE5Q\n",
       "BKTXhc3bt6guwe6K4DG7E1E35uCaxEat68CtQgcM+scYphjBkZqxR/cwvTypDwJi16toTEaibg7r\n",
       "fy4mS6o3xTvj2pzouQQwqs2geM2iQE6QDhLaS9hGIHldSkRPFI/RnYi6cRfXQjZqPQLcJnTYoH+c\n",
       "YWorAyTL1gDHlUer2c/IZprRjRYmeQx/d5YASg5qf5+s7wDos2z797UNQitkqtW11S9sqLiCH6qH\n",
       "qlX7cvQEax8BvKj8r+NxdkeOgcU11bqrkGwxIT2lmFJkILYWrGZiJYMdiFOPPrUwKbSSAPJ4LuIL\n",
       "O+7Bm9MPZOqQVxkf7ujAMZz50T8DMfMeFFXQcA+6i7XnAM4qAD19bLi7I8VAcc1i3VVItignCDHN\n",
       "Bxiw1whbwJqg9kkzUyRBcJyViksDMxOXvKNagn59P5hB79aGfXOCDAoaJSiVZ+2ED2frypPjpgQ5\n",
       "uaPHOqJKse4sJFuUE4SYdgEsI9Xc5nd2nMptPK2LDtERt6PLlKBwYRyyyyOgTWxrF8NgIjF4iSfI\n",
       "G0I8JN5is16dq2kJOvieTUGYoBCkeIMos0ZogZA8uFfg0RKkuBNVx4HqsdZVCTa0zIE3E6IWhSBP\n",
       "EPYR03aA/eS2ZSmMfgCrcI2uIiHgxaSl4QVTguJiW12sykcStEIrXibg7fggS1Ay26fWUJlScvJx\n",
       "LUHl1h6LgjBBHORbCP0IKzdYI6PnqmAr/iTwaAlS3JF8DjaubJ8p1iu0gAk2tMyBNxPCAAaCPEHY\n",
       "R0znfVgE8FusAgNFWKkHmCyAsBymTQlK5CUmmzwCekp7r5mAjH+GSW9LV9T3GZKq7zMXFP54aV7B\n",
       "oiCUC0GKhb3AGrliLUWRpAr7BR4tQYo7UXUcqB5rXZVgo5YD4M2EqEUhyBOEfcR0uQ7HCPrRSej1\n",
       "o7U+fSHxszN8cN5RrR4THuWmJCZZfhiHxtchoMu4g6yl//L4erV2NmD8eYjnIn1W4QkagUP0Tkwq\n",
       "jw4is4KUAMpBStQ6yRrAPtRyDVX9y/F4bADXze4E6kJXGFApBpJrEnF/mGUOvKkQBhAFybT6nLhZ\n",
       "433ENDAJneSnF2AnwMumBEEyb5pBqkcW+RBQSp4A8HuOz+he3B62yjMoV7yoadnQQIFYg/K2BPGN\n",
       "6F4cnzOGABnciarr9U2TIRLrgI0NjQ3gJLROEgyKBNpHTGTo0yWbTP07IfuPF66OtWC6Q3vZlKCs\n",
       "siZI8pEEncPbPjm+8QIPdzdzR3mjf1Qvzo40UCAqnnK4Bx1TlrhnICVmY0tN4NESpLoT+hxQtzHW\n",
       "50ALWLe0wAbAmwrNlwSDBHUHmMgMovcvgXcd0pVt+ks/vYwWmhYJNnmpSAjPk86Q9iaLrzedxC1e\n",
       "1JbkBQeSW7XSaNquQNCo/jIXFAm5IrSVQq6iU5EQUceBGvd7ExsWCd40uAhRi0IwqOJoHzFdLtGd\n",
       "I3UdElPQXixqopvkaSvstFGP0pR3tMKYbPIfUtE90pii9CWVrqBsdqo/HLU4cgtsOvJ4VsS6ZFDA\n",
       "Y3JNWVvCNY+fkWx5Y9NJ8ed5eiy5Ry/II+5E1QVAw1hLrqlsqAQr5MQMuAhRi0I/TxD2ERPZx7bj\n",
       "ZCJLdWK3/hKNs3Gn9r6V/vbabhJKusHG7mZMFvmP1x8hAWH1gjf2C/vzwpUuPPtC2XFWiI48xAKS\n",
       "W/A8SKdVyALpvFkBpw5fASlilWftxI0bf4Ur6CMQ4Akr9Kg7BnXjWsUsu6ayoRJcndL65m0ROifp\n",
       "D5Y42kdMy4DVGg2OejojL8SUPsHrmqZnI+BxmNlX+UlNQGuk+58XdlQMssgSK1sUcJcQfqftqMeK\n",
       "RyXNnc6mJwl2VWsC67Gym5DtqAcx7QoqDtth6R+p/4LeZ/IjdrpYbHq6aD9RLDb/4kJYcv5AvbF+\n",
       "0iSQ+mGpIx7FHZM6UwzMqorMugS8iZAcQM/XMH3FlzoLLUldbTHGny0xHhpb0jCAw7aZNdg0P5Rl\n",
       "oHh/Y6aDZAs0gWwpseaER3HH5rOjqkFm3QbcIGQOIGLyyD6Ws5/JwgE4tdv4gLkeF9+bGuTYNjub\n",
       "B4CyZIaafOCkj00g+Qc7NzyqOxaf3VTFuXUb8CWmKFsx4SelbxqcCduis9yFiZ3UwC0i8ydvMx5n\n",
       "d5xd678JIbNFxBSrN1iE5ujW02NYOZTnAjFLiR9wPTsXiVlKaX8uBrOe/gdH/5JIV6c21gAAAABJ\n",
       "RU5ErkJggg==\n",
       "\" style=\"display:inline;vertical-align:middle;\" /></a><br>"
      ],
      "text/plain": [
       "assumptions: (m = (j + 1), (m - 1) in Naturals, i in NaturalsPos, j in NaturalsPos, j = ((2 * i) - 1), (j - i + 1) = i, (j + 1) = (i + i))"
      ]
     },
     "execution_count": 35,
     "metadata": {},
     "output_type": "execute_result"
    }
   ],
   "source": [
    "assumptions = (Equals(m, Add(j, one)), InSet(subtract(m, one), Naturals), InSet(i, NaturalsPos), \n",
    "               InSet(j, NaturalsPos), #InSet(Add(j, Neg(i), one), Naturals),\n",
    "               Equals(j, subtract(Mult(two, i), one)),\n",
    "               Equals(Add(j, Neg(i), one), i),\n",
    "               Equals(Add(j, one), Add(i, i)))"
   ]
  },
  {
   "cell_type": "markdown",
   "metadata": {},
   "source": [
    "The last two assumptions are redundant so we don't have to bother proving them for this demonstration.  They were chosen to give us precisely what we need for proving the requirements needed for our lambda application demonstration.  Now let's make some needed alternatives to $(A_1, ..., A_m)$ and prove they are equivalent to it by calling the `ExprTuple.merger` method which will automatically apply some theorems."
   ]
  },
  {
   "cell_type": "code",
   "execution_count": 36,
   "metadata": {},
   "outputs": [
    {
     "data": {
      "text/html": [
       "<strong id=\"alt_A_form1\">alt_A_form1:</strong> <a class=\"ProveItLink\" href=\"__pv_it/09cd20b5ab48884f035d31558db83f694c1a82b20/expr.ipynb\"><img src=\"data:image/png;base64,iVBORw0KGgoAAAANSUhEUgAAAQ0AAAAVBAMAAACuzqZ5AAAAMFBMVEX///9UVFTMzMx2dna6uroQ\n",
       "EBCqqqqIiIgiIiJmZmYyMjJERETu7u6YmJjc3NwAAAC+aOQFAAAAAXRSTlMAQObYZgAAAoFJREFU\n",
       "SMfFlj+IE0EUxr/s7m1yl80mYCGCYCwO4QqNlQgiaURBERErsUjpPzTXGa4wFh4KFmtnCjFYi7G7\n",
       "QjSr6CkIXmoFWRuxEC6CoJ7xzsnM/nvZzM6lOQd292Xm+718mczOG8Du4X+3K8PbOxHPqeVaWzo0\n",
       "NzkcQzIeuz0WcUftY6YvHepMDscQi3ksODwsdFxlqg8D2cgm6FGYIAeAnMej5QeeKpN1YV02pKYT\n",
       "MEFeA19F1LteVfkoZH/IhtR0AibITBUNHhjuVeVrc8L8KxnZBD0KU0R38IwHr7Cvztb0k7SZrWo/\n",
       "2aMRvgCRWNBZRwnjIUXC2WpjkQdVrDrQWs0UHwbs3+yxN7ARE3MamqeEUaNI0MwmzvCkO1q72M8z\n",
       "0nzsbt39Q1KHYp/GBPAIovWFDwOYait8sGV1drwPn8YkMEWYj0V/unKn0n2Y7LoJHC0lfQjamFfC\n",
       "VqNGkML9PY3sfJnnGq5Tuyb2uzQfX8QWWBkkfPi0XnRV8LTRJkjhSG9qZ7bE1+lBiD0kvy5SrzCp\n",
       "tQYRRJ/s4bd2PXu5GffBNT797bxQhnCUxYfxXi9R5BqK1ekKM1jBMVbpNh7B7P5yeOrcHaa5wa5c\n",
       "KbjdcmF111xc2riNfB3Hn7LmhuKQXuLKGMwDpghh5HsU2Y5Z5IZzUw729WiqLyf/3diEr7yUia1B\n",
       "mSj9RtIVPdpxGgtY1YC3YZ0LXmO2AhKp9Fh8UZeJzXaFKP1G0s3SDrvPZuSjzuscnkfd977XYdUT\n",
       "qd7E4heHZWJrm0eUfi9Jt0A7jBI7dXw+xOt+cA4Kt9gxVUxevZRKqlgamx/54drYunNh5uS58QOf\n",
       "tvYYmtkvr0D/AMUV244igyExAAAAAElFTkSuQmCC\n",
       "\" style=\"display:inline;vertical-align:middle;\" /></a><br>"
      ],
      "text/plain": [
       "alt_A_form1: (A_{1}, ..A_{_a}.., A_{i - 1}, A_{i}, ..A_{_a}.., A_{j}, A_{m})"
      ]
     },
     "execution_count": 36,
     "metadata": {},
     "output_type": "execute_result"
    }
   ],
   "source": [
    "alt_A_form1 = ExprTuple(varRange(A, one, subtract(i, one)), A_i_to_j, A_m)"
   ]
  },
  {
   "cell_type": "code",
   "execution_count": 37,
   "metadata": {},
   "outputs": [
    {
     "data": {
      "text/html": [
       "<span style=\"font-size:20px;\"><a class=\"ProveItLink\" href=\"__pv_it/12634caf7813883a5d964a74d3570c6f9a0d44ff0/expr.ipynb\"><img src=\"data:image/png;base64,iVBORw0KGgoAAAANSUhEUgAAANsAAAAbBAMAAAAHRefHAAAAMFBMVEX///+YmJiqqqpmZmYyMjJE\n",
       "RETu7u5UVFQiIiJ2dnbMzMy6uroQEBCIiIjc3NwAAACK8CUvAAAAAXRSTlMAQObYZgAAApZJREFU\n",
       "SMdjYKA34LuLR5KdatZwWUPoOxvwKGKlnrfS3UAk9y8G+ljH4AoieD8QaR2fAJHGMj3ALj4HRHAe\n",
       "AJGlKBIpX0MSGOb82YBiXSrYqGNoZpRiMbcOU6gU1bpCVNlArgIGtg8MJS4+Li4wT/mBCMYCNHPQ\n",
       "NDLoJABdi2ldIap1aKBiATC5HkAJTEYDfAGoC6HYKuuB1nFeIBSYUCDa0eEAoqvD2BcwNKBYx/GA\n",
       "COsYGOSB1rEdIM66pddgob+czQ3NuhcMRFvH4I3fOrbLYO+zucEjm+nCcjTrLoOI3KuoJkA1ols3\n",
       "mQGbsvvgQAJGPic32IvsDxBpazbjBVTrAkGEAQ9qboBqRLdOBCznAgYGcGXrFwAtBiXRR8wOqJms\n",
       "joE9oQpkHR9cqAmUXB7wK6BYB9WIbp0Gmu8gyhi7GRh2AK1kSOAHh8kakGscINaxFbCgRvhpUKAw\n",
       "7AeZlgJ2thdc4xQXlx4XF3eEdevRrIOaz2rAwO0JYuiDFDE8Rc6oK7kwrWNgmIFmEEQjuu/QrYMo\n",
       "4/IFEjkTgEQ4WJAH2TpGhQAUHU1g0hnNnHCsKXMHUtwVwJW9B0UEMzCK2D5xgvjM8OxZBcTzUK0D\n",
       "JxW2T2hJDqIRa1LBUHYflhG4PzxE8gEQOIEsd4Dx8h1giZvpG6o5MI0I6+6DrLNkwKYMkc0LIek7\n",
       "PRoSFSv+AH3GBreOow0WQKCgQC0LBVCtMz/vDBTxYsCmDLMQ2xnR4YClPFCDFWIcBoRKFXDYNRBZ\n",
       "ZuIAEyBFNFfC+wU4VKShZP4LFFnHBtYex/B+QjBR9WsKvur1A0HtjNDqlf0ycRV6HB7r0BMb7hYb\n",
       "sY0HRhxVVQiYLEmgTwOT9xwkUxTSxTauWjp5CwkAABKbo/36OuH+AAAAAElFTkSuQmCC\n",
       "\" style=\"display:inline;vertical-align:middle;\" /></a> <a class=\"ProveItLink\" href=\"__pv_it/6e583b52e048390d379a10cfe9fda6ff88c118080/proof.ipynb\" style=\"text-decoration: none\">&#x22A2;&nbsp;</a><a class=\"ProveItLink\" href=\"__pv_it/f4d0ed4485939ac6131c9c063ef38fadd2b421bc0/expr.ipynb\"><img src=\"data:image/png;base64,iVBORw0KGgoAAAANSUhEUgAAAJAAAAAYBAMAAADni2k+AAAAMFBMVEX////MzMxUVFR2dna6uroQ\n",
       "EBCqqqqIiIgiIiJmZmYyMjJERETu7u6YmJjc3NwAAACgK8IjAAAAAXRSTlMAQObYZgAAAcVJREFU\n",
       "OMtjYBhUQIFaBm2gqkF8F4hUnUfAoNMgIvUAqgwTFscyPUDl86zfvYaBOT4EZtA6EHEJXROaM9li\n",
       "gBoXoCniviDEwHCegWnVqqhVaxl4J+DzTjqEOmT0B0iao9vWyF7AwArzGscDIgxi4AUZdBTKud3R\n",
       "AXYck/cBRQYOmEEvGIg2iMsBzJaugbnoocKpA3CDKkHBVo4WtsenYzOIGRwKPGsQoZ/OqAA3aC8Q\n",
       "czLEohpk4IrNIN4FqJHH9IDZ4TrcoDYgvsfwDcUcvoRZ2AxiawDHFXJ60GGSALFAZoOSwQEWkDqe\n",
       "VWAgAGQxfAdJW61a1bpq1SK4QYwfQExRkCKY2w4xLIUZCzKIgbkBLdn8weYiiEGvkV3EaCAK44G8\n",
       "xsCFlpi4FbAZxAK2jhUlqV+D+xQU2AznE1ANOp9ggDOwOQvgBgFDgRnuQEsQkY+W1fxhORlmEDvI\n",
       "IE4DhB/A/gBZD4sWBg8QMQM98d9F9Rqn6q+5QI0CkPyyBWItY380kDwF0wPOIp2EUjYYnIDSzjs6\n",
       "FmAqBWZaGb6PuAw6g8wxx19e7eP7zD2BmIKNZwF++dMM6nOJKiG5H+CXJ7qovYdXFgAZEn2oISNI\n",
       "ZQAAAABJRU5ErkJggg==\n",
       "\" style=\"display:inline;vertical-align:middle;\" /></a></span>"
      ],
      "text/plain": [
       "{i in NaturalsPos, (j - i + 1) = i} |- (j - i + 1) in NaturalsPos"
      ]
     },
     "execution_count": 37,
     "metadata": {},
     "output_type": "execute_result"
    }
   ],
   "source": [
    "# And maybe we'll have a simpler way to do this:\n",
    "assumptions[5].subLeftSideInto(assumptions[2].prove(assumptions), assumptions)"
   ]
  },
  {
   "cell_type": "code",
   "execution_count": 38,
   "metadata": {},
   "outputs": [
    {
     "data": {
      "text/html": [
       "<span style=\"font-size:20px;\"><a class=\"ProveItLink\" href=\"__pv_it/19f6e775e307c0b4efae1ee18a75c8bab998ce3b0/expr.ipynb\"><img src=\"data:image/png;base64,iVBORw0KGgoAAAANSUhEUgAAAhEAAAAbBAMAAAAwtMBuAAAAMFBMVEX///+YmJiqqqpmZmYyMjJE\n",
       "RETu7u5UVFQiIiJ2dnbMzMy6uroQEBCIiIjc3NwAAACK8CUvAAAAAXRSTlMAQObYZgAABM9JREFU\n",
       "WMPtmE9oHFUcx3+zf2Z2Zt01FcGT7Z7EQ2sSKDRSCquOUWvVBOqfS2UOq/Vg2S20oqlZgxGpf8AF\n",
       "lR5sZPFgKgjJRelB6ApVkKJd6FFD0oIgHmwobUBbi++9mXnzfm/ee7OGXEr6IJPdmd/vu5/3nffn\n",
       "NwNwu/FWXTJebmUrOLe4A97u8P9vi8awiWyl4q0+GA6O02P5H9j0TsCj9FBZ3UgnqkMD/vYDpvlq\n",
       "EsmtrGsJGDJynKQHt8c+bw/E6/Yzz46De/4ccsLBpjSu7Q/g5I1F5MRLaa1UYnhO0aGjooi2tfFX\n",
       "AdXQlFwJh+jEPdJtHpoHaILj+2f9h+IkyddJrwX2Khzx9/l+fOlphVYqMfcj6UA9TXVYFFE22pcG\n",
       "KFHNTcmVcIhOyPDvV/pwh3l2vN4lu04PzQ5rxISzI1qfTqyR45w2TCtiv/EWccLt61BhMMlcP8Wh\n",
       "cMJ64fg7TP6bYApKSifiEDj2nNOFGeREaWUAJ8CiBK9qwwwi24gTdk+HCoNJxk4IHGknvAPRVHL+\n",
       "bDUCpRM8BNrz9rjkxB8wsBMF7eZtEKFOwJM6VH1DktgJxpE4YS+FHW4EfCHZ4bWwE4f24BBo5/rz\n",
       "khMXBC2QEiUnXHkO2Bf6XKR84q+laW/umNKJj3Wo+jzEhZ1gHMts4NAiMg/f43XZWXEX78VOdL6T\n",
       "lu42fGb1sROTghZIiZITFluqXJ81SuOWe1zELR6A5q+wXenE3TpUnCdIYy7sBONY6BKn2Na1Fa7g\n",
       "4oFsLq85p+ineIZVazul+qINTjBFnajyU28LWiAlSk7kZqReXsrXucgXpTpc7sA2pRP361D1eYgL\n",
       "O8E4rA8ATnfpuaC8xubeWepiJH8Q9qHBC//iEOKE3Srgnecc17LDO9LliZ/4/oe+/xgn8OSKLriz\n",
       "z0WC5iIMB2GB0WBCexMnFvSoYp6ai4yUx0lqS+IojkD5iXBYsTtUFY32Ol/j3XcNh9Dx+ZWXdiLS\n",
       "khPlMZFygnaBiwwDjAH8rBwTCwZUTR7iwmOCcXhP0V2kQ08WwvWrJ5Zed+HniWILh1AnrNpEahTG\n",
       "WnKi5ER5RpjMLOJ5QYRMqPegfNNWOXHagCrkidKICzvBOC7X6ELCiJo1dm0PlyfD2v0dUTRrHRQC\n",
       "U+Tvc+zEpKAlJypXTHH6XXETkZ/Avg75+iX9iqlG1eQhLsWKuZzUE9HILMWdKNRCgyPIq+RwJnyK\n",
       "4SHwMPWR96dZjze4Yam8PxM//sROVChBviPRllcvcpHqdcitQqEjxyxT6QeVqIxRl4e4uBMJh1BZ\n",
       "jUVdPvptWLZ89AOIFf5xIuJsQSFw6saE+PhQejceuGNy5b4Fz478m1dHSQe6qceOIS5ChmxlBHKj\n",
       "UrW56/wjxNS9alTKqMnDXLETAofgxGx8Yz6NSmlp0RNusyYE7our2tmsGpO1V8Aoom/2jJojF2RU\n",
       "27NyjZlwcCe+rGa8rnEHeAXQCZ90DFovi1/mTCJGlv7/Z0RcdpDiiJ2o/l00/zgcyjbCZoAvZmtF\n",
       "4XWDiDGzsR5GLZf4VE720+nRDO4B3kRZ0RuRTK1oa10xiRg7tR5GLVcxeVPD656NeVE+6Nu7resV\n",
       "sTb27V3IsZ8djwSw2Vvll3ANPrzZjfCmbw8Gof0HRp2FhmpyLvoAAAAASUVORK5CYII=\n",
       "\" style=\"display:inline;vertical-align:middle;\" /></a> <a class=\"ProveItLink\" href=\"__pv_it/5c9c40037f821591ff4420947d8b1bd7bc8441470/proof.ipynb\" style=\"text-decoration: none\">&#x22A2;&nbsp;</a><a class=\"ProveItLink\" href=\"__pv_it/bf73a070c5594ef06fd012e7f54608217a387c430/expr.ipynb\"><img src=\"data:image/png;base64,iVBORw0KGgoAAAANSUhEUgAAAZ8AAAAVBAMAAABrkP6tAAAAMFBMVEX///9UVFTMzMx2dna6uroQ\n",
       "EBCqqqqIiIgiIiJmZmYyMjJERETu7u6YmJjc3NwAAAC+aOQFAAAAAXRSTlMAQObYZgAAAzRJREFU\n",
       "WMPFWE1oE0EUfm5+TTbbQIUiiNaDiBU0nkQRyUUM6qFIT556rD9oejP0YDwoCqLrRZqDGI+KmNw8\n",
       "iCaKtkIPzVWFsh4UBaUVBLXG1NmZ2ez87MwUkTqQ5PHm+743b2b2zU4AnA7873Y2wvflr4XmiD1i\n",
       "hlt1ZZeZPaJxrPMkuN00hVQKPSR2w8zMLCm7zOyGxmHLw854ppAqoZyLzVyjbWS+6ap6zGwJwTn2\n",
       "SvjXppBKoTSZipk7nolpn+ypusxsCcE5Xkr466aQSqGPxOpcKBqnIvVN1WVmSwjOkRHpTtUUUilU\n",
       "wUa8fc5Y7I4lfyt6zGwJwTtiroBPuYaQaqEn2HgBu8uopjR1O65ofUc/lX7NC8GEnXLVZIKAzLDg\n",
       "CBYfV4X99/12zzezHSbkTl1CktBlbBRh0QWrVtVNBTg/0c+uIB8GjNlgaZ4jgoCk6KAtKQZOj4ch\n",
       "d0zrEpKExvDoNta2oAmP6xLaWrv5i0uwD6Zs3QkmIgSHJVbnRJEJWVq9MhIaI1MBibohIRTiRHRC\n",
       "lK1dXQEhOBQJ0ZCl1SsjIbzl0AKnR/UJ+bvlEsDhvJwQYccn1WSqP3uLd+Rub6+kJocDLfIM3e1v\n",
       "ORpSm5As5BcFZ5ycybqEPpAzudCVEqLs2IDycA303SO8I3eok9iUygdFgWm4KNCQuoQihPYBOYuy\n",
       "PTLGeaRtLwNj4C98MLQ8Z6bKJuRjAvbnCQbOqQQI29sjUM7DQHF9AcD/cM2v4zQkTihiRCohhJ5b\n",
       "eQDJ1g8XjzF9DWEu+quepwZcaYPdWm7D6ZWrkC3D0ceotfvgPvsRRgpkDuFvB84xBNvw7grLeThb\n",
       "/ZB4hXzlcESSMiOU9oTn/Iz8+DB7af65Cmx3hzkkbZxcT3AchylYtABeKV59SCsJY4hQZoRy4nFQ\n",
       "kJgxxj4VU4GT9QKHpI2Vs0Z5h7OEpvZtTPNyituEMAZZmRN6Grqnv5bBLkvMWcZ+dlAFtgc9Dkm9\n",
       "rFyqyTvieXR5eXcg6vqQDTfOpxtDYFDmhOaEV9CI1z/1+6oRySHQAxilz45euOCtVpkVWrsr+Ib3\n",
       "isK+8K+u4Atr+9fB4OY1CPIHDctGy3aBKlkAAAAASUVORK5CYII=\n",
       "\" style=\"display:inline;vertical-align:middle;\" /></a></span>"
      ],
      "text/plain": [
       "{j in NaturalsPos, i in NaturalsPos, (j - i + 1) = i, (m - 1) in Naturals, m = (j + 1)} |- (A_{1}, ..A_{_a}.., A_{i - 1}, A_{i}, ..A_{_a}.., A_{j}, A_{m}) = (A_{1}, ..A_{_a}.., A_{m})"
      ]
     },
     "execution_count": 38,
     "metadata": {},
     "output_type": "execute_result"
    }
   ],
   "source": [
    "alt_A_form1.merger(assumptions)"
   ]
  },
  {
   "cell_type": "markdown",
   "metadata": {},
   "source": [
    "Here we employ a trick using an `InnerExpr` object.  We'll discuss how that works in a later chapter."
   ]
  },
  {
   "cell_type": "code",
   "execution_count": 39,
   "metadata": {},
   "outputs": [
    {
     "data": {
      "text/html": [
       "<strong id=\"alt_A_form2\">alt_A_form2:</strong> <a class=\"ProveItLink\" href=\"__pv_it/5eb08894b3fcdc1e9f74bd54c615c1c7993464d00/expr.ipynb\"><img src=\"data:image/png;base64,iVBORw0KGgoAAAANSUhEUgAAAJQAAAAVBAMAAABS/tqaAAAAMFBMVEX///9UVFTMzMx2dna6uroQ\n",
       "EBCqqqqIiIgiIiJmZmYyMjJERETu7u6YmJjc3NwAAAC+aOQFAAAAAXRSTlMAQObYZgAAAeVJREFU\n",
       "OMtjYOC7wEAFwPYASJyGsLUIK2dagCaArEcOiNdBmOsJG8X1AU0AWc8pBgbeCWAW7/oDBI269QeV\n",
       "j6KHuYCB4wGYdWz+A0Im8WT+QxVA0cMTwPACwrpQ70DIKF72L6gCqHqWMFSCaZYD+QQj0oftLwof\n",
       "TY8lw14wfYRBvwAYRRvw+c+B6TuIXgQTgOhBhCRDG5h2YHg/gYFpZgMeo1gY+H6C6ASYAFgPAmQw\n",
       "hIBTjORMeaCLWPAZpThz4m+UVAbRAwf6EKNYGBhYFxAwChjEUaiuBOtBMqoN6miOAPxGsQFxKzDE\n",
       "KmEehOjhnateyV6oAOR7gIOdLwGSlPEZ9QySujlZoC6B6uF1vcAqwy4ADnZLIAlKW9z/IEadByrl\n",
       "+cWAxAATfCBb9j9gOMcsAJaB6XlTwcDvwGkA5EwGuovh9P81DGz7f0wAG8XRAxRuBGIOASiDoeMA\n",
       "A8/+XwcYsv93ArVfACuB6xFnUGXgSAAnEg6kxA/2YA5mMCFnT/4HqEqCGKoZ3jMB3d4Ay84QPSCj\n",
       "DDCMYkbmqKIq4fsAdNdtZnB2ZtiHEJ7xsYCBpwDDqOPInGoGFCUsAsBS6qENuJCBFX3wTIsZeSi5\n",
       "cztWJRAXkVQgM/rF4Cg2HpBahDMa4tYCABtZhMP5LRUbAAAAAElFTkSuQmCC\n",
       "\" style=\"display:inline;vertical-align:middle;\" /></a><br>"
      ],
      "text/plain": [
       "alt_A_form2: (A_{1}, ..A_{_a}.., A_{j}, A_{m})"
      ]
     },
     "execution_count": 39,
     "metadata": {},
     "output_type": "execute_result"
    }
   ],
   "source": [
    "alt_A_form2 = alt_A_form1.innerExpr(assumptions)[:2].merged(assumptions=assumptions)"
   ]
  },
  {
   "cell_type": "code",
   "execution_count": 40,
   "metadata": {},
   "outputs": [
    {
     "data": {
      "text/html": [
       "<span style=\"font-size:20px;\"><a class=\"ProveItLink\" href=\"__pv_it/19f6e775e307c0b4efae1ee18a75c8bab998ce3b0/expr.ipynb\"><img src=\"data:image/png;base64,iVBORw0KGgoAAAANSUhEUgAAAhEAAAAbBAMAAAAwtMBuAAAAMFBMVEX///+YmJiqqqpmZmYyMjJE\n",
       "RETu7u5UVFQiIiJ2dnbMzMy6uroQEBCIiIjc3NwAAACK8CUvAAAAAXRSTlMAQObYZgAABM9JREFU\n",
       "WMPtmE9oHFUcx3+zf2Z2Zt01FcGT7Z7EQ2sSKDRSCquOUWvVBOqfS2UOq/Vg2S20oqlZgxGpf8AF\n",
       "lR5sZPFgKgjJRelB6ApVkKJd6FFD0oIgHmwobUBbi++9mXnzfm/ee7OGXEr6IJPdmd/vu5/3nffn\n",
       "NwNwu/FWXTJebmUrOLe4A97u8P9vi8awiWyl4q0+GA6O02P5H9j0TsCj9FBZ3UgnqkMD/vYDpvlq\n",
       "EsmtrGsJGDJynKQHt8c+bw/E6/Yzz46De/4ccsLBpjSu7Q/g5I1F5MRLaa1UYnhO0aGjooi2tfFX\n",
       "AdXQlFwJh+jEPdJtHpoHaILj+2f9h+IkyddJrwX2Khzx9/l+fOlphVYqMfcj6UA9TXVYFFE22pcG\n",
       "KFHNTcmVcIhOyPDvV/pwh3l2vN4lu04PzQ5rxISzI1qfTqyR45w2TCtiv/EWccLt61BhMMlcP8Wh\n",
       "cMJ64fg7TP6bYApKSifiEDj2nNOFGeREaWUAJ8CiBK9qwwwi24gTdk+HCoNJxk4IHGknvAPRVHL+\n",
       "bDUCpRM8BNrz9rjkxB8wsBMF7eZtEKFOwJM6VH1DktgJxpE4YS+FHW4EfCHZ4bWwE4f24BBo5/rz\n",
       "khMXBC2QEiUnXHkO2Bf6XKR84q+laW/umNKJj3Wo+jzEhZ1gHMts4NAiMg/f43XZWXEX78VOdL6T\n",
       "lu42fGb1sROTghZIiZITFluqXJ81SuOWe1zELR6A5q+wXenE3TpUnCdIYy7sBONY6BKn2Na1Fa7g\n",
       "4oFsLq85p+ineIZVazul+qINTjBFnajyU28LWiAlSk7kZqReXsrXucgXpTpc7sA2pRP361D1eYgL\n",
       "O8E4rA8ATnfpuaC8xubeWepiJH8Q9qHBC//iEOKE3Srgnecc17LDO9LliZ/4/oe+/xgn8OSKLriz\n",
       "z0WC5iIMB2GB0WBCexMnFvSoYp6ai4yUx0lqS+IojkD5iXBYsTtUFY32Ol/j3XcNh9Dx+ZWXdiLS\n",
       "khPlMZFygnaBiwwDjAH8rBwTCwZUTR7iwmOCcXhP0V2kQ08WwvWrJ5Zed+HniWILh1AnrNpEahTG\n",
       "WnKi5ER5RpjMLOJ5QYRMqPegfNNWOXHagCrkidKICzvBOC7X6ELCiJo1dm0PlyfD2v0dUTRrHRQC\n",
       "U+Tvc+zEpKAlJypXTHH6XXETkZ/Avg75+iX9iqlG1eQhLsWKuZzUE9HILMWdKNRCgyPIq+RwJnyK\n",
       "4SHwMPWR96dZjze4Yam8PxM//sROVChBviPRllcvcpHqdcitQqEjxyxT6QeVqIxRl4e4uBMJh1BZ\n",
       "jUVdPvptWLZ89AOIFf5xIuJsQSFw6saE+PhQejceuGNy5b4Fz478m1dHSQe6qceOIS5ChmxlBHKj\n",
       "UrW56/wjxNS9alTKqMnDXLETAofgxGx8Yz6NSmlp0RNusyYE7our2tmsGpO1V8Aoom/2jJojF2RU\n",
       "27NyjZlwcCe+rGa8rnEHeAXQCZ90DFovi1/mTCJGlv7/Z0RcdpDiiJ2o/l00/zgcyjbCZoAvZmtF\n",
       "4XWDiDGzsR5GLZf4VE720+nRDO4B3kRZ0RuRTK1oa10xiRg7tR5GLVcxeVPD656NeVE+6Nu7resV\n",
       "sTb27V3IsZ8djwSw2Vvll3ANPrzZjfCmbw8Gof0HRp2FhmpyLvoAAAAASUVORK5CYII=\n",
       "\" style=\"display:inline;vertical-align:middle;\" /></a> <a class=\"ProveItLink\" href=\"__pv_it/4d193d572f28dcf7824e1ce9e5e50722922734520/proof.ipynb\" style=\"text-decoration: none\">&#x22A2;&nbsp;</a><a class=\"ProveItLink\" href=\"__pv_it/e807a012bf8e6da81857ddf537013d92d0f4ce6f0/expr.ipynb\"><img src=\"data:image/png;base64,iVBORw0KGgoAAAANSUhEUgAAAUkAAAAUBAMAAADyw9IGAAAAMFBMVEX////MzMxUVFR2dna6uroQ\n",
       "EBCqqqqIiIgiIiJmZmYyMjJERETu7u6YmJjc3NwAAACgK8IjAAAAAXRSTlMAQObYZgAAArpJREFU\n",
       "SMe9Vz1oFEEU/u4nm7vc7iIIVoIHKimEuKQJdgsipIugYKN4TUBBzBKEkMpFQTRYLFoogYMN2mgh\n",
       "dhZiWARRTHGHpWBylVqZkwQD4ZDMz97d3uzOzuaCvmL+3rfz3sz7mbeA2cS/J60VX8sq+CZt1hSg\n",
       "/Ov9c4DZYHA+EYesZTxhnp7wVcKeAyDhyNplGSdKX4T55zhEJbhLug8YHvTjp4PMtns/2RnG5AVH\n",
       "XMkueAoo0fvcyK4ljKG01M+LK9kFfwB+4r9oiefiQnbBYzYWFeCPT2RaxjiRm1vggVWc/LUwnps6\n",
       "QYZnRIxK8NmJH/PO4XmbeIuHdwqwdU6mZYzTpzKucG+svEHjFmbJ8Cubv2Tk0bFS8FtH37E14imG\n",
       "j3vpYLO2LNEyzunTOv6w/kjJx6aFDTK8JmIUgnO1JZhbMNokq7i4mA7WscMSCbuDlaiWISeRgiIH\n",
       "BQ0bcwFOkeExEaMSrG9D67CcnGurwBQpsbiWEkYFl/dzwFPg0hBaQmuj7GLEYVoqLh6VqkzLGCca\n",
       "lh7viVPcRfGvDkxH/LKaweIo+yhZmGkFKLpKJ27ULImWMc7AV7y/AGK4sv89jJ4oqQSPWCD+smzW\n",
       "aPSwDHE7gL5LnYE2DT9s2GxGLApGOyGEcBLwbEadkQ7MbWq4MYsc57GoRbLg/h6bNvWXZwVyqxaz\n",
       "xKOrL5q4T491hz4K1W5Dl/LfBEOc3K2j9BCcQxF9PPuasqgz0gGx1agHrU6emRVRS4ng3h7TLKVe\n",
       "Xyfuc4g/VMxb45evSe1xQ45grAcRDA9ZN/GFTNujR5/Yox+GZUKkylOuHEFYR83fEYy82kjbY7Da\n",
       "wGr3wUt4HaXJzJEiCMvcqngRjKxyW03bQ6jcesVoQrEorR8NOYKyxutRzIBKCVVwU749z3itfRT2\n",
       "ByLjAH8UJH72AGDT8rBR3w0iAAAAAElFTkSuQmCC\n",
       "\" style=\"display:inline;vertical-align:middle;\" /></a></span>"
      ],
      "text/plain": [
       "{j in NaturalsPos, i in NaturalsPos, (j - i + 1) = i, (m - 1) in Naturals, m = (j + 1)} |- (1, .._a.., i - 1, i, .._a.., j, m) = (1, .._a.., m)"
      ]
     },
     "execution_count": 40,
     "metadata": {},
     "output_type": "execute_result"
    }
   ],
   "source": [
    "from proveit import extract_var_tuple_indices\n",
    "extract_var_tuple_indices(alt_A_form1).merger(assumptions)"
   ]
  },
  {
   "cell_type": "markdown",
   "metadata": {},
   "source": [
    "Now we are ready to demonstrate this lambda application using multiple alternative expansions via `equiv_alt_expansions`."
   ]
  },
  {
   "cell_type": "code",
   "execution_count": 41,
   "metadata": {},
   "outputs": [
    {
     "data": {
      "text/html": [
       "<strong id=\"m_eq\">m_eq:</strong> <span style=\"font-size:20px;\"><a class=\"ProveItLink\" href=\"__pv_it/6200f51462ab806a821efad66f0bfe6f49f23d020/expr.ipynb\"><img src=\"data:image/png;base64,iVBORw0KGgoAAAANSUhEUgAAARUAAAAVBAMAAACat2dlAAAAMFBMVEX///+IiIi6urrc3NxERETM\n",
       "zMwQEBCqqqpUVFQiIiJ2dnYyMjLu7u5mZmaYmJgAAABN0h6tAAAAAXRSTlMAQObYZgAAAwJJREFU\n",
       "SMfFVk1oE0EUftlNjMlultS7kFPBkwsepBcb0bP0IHgRrAUFf5CAUBCUpFWEnhrwoIji9lJapRCU\n",
       "gjZIVxBpySHpsWpDoBdBtDUiYhuoM2+S2dnZ2Y304oP3Ntn59ptvZt7MGwCwmvDfLbHm0oe5FIHR\n",
       "WyENN6O5T3Tdb0k7lEq7RKO1HcH5noZxN9hwUKQNAMw8urlxekT4JA93VX0wqk80pMsRWl7R8EUe\n",
       "3nXSU0V4IQPAsNFXIN0W+mxBDUKp5vtpsRrid1n2XJnrkDgTtUTfmH8GuOx7n876cQJVXy0pW6EF\n",
       "LErwIUrLA+ZXAKZ9KWKOyoPlVH21DEGoFiMXkfFl5ssuTI/4Wl6qtCAV16LNHRuYSMxMyqSH6VgG\n",
       "8iotab58HMAt1mBO7BlP63drJCyotCDVLKYUSZ10/CTUD8E4aquiIdUZ4hm4odJi8eTtAl7gZ2/p\n",
       "z3iLORnkDu/WGSThq0oLUm3hhiSzeC5VgWGH/RftIfFN+K3SkuRLywFemhWYk1iikc6NXqC79pZK\n",
       "C1IZZPBnaZ659RwUXbgnaxmjbVqHzdaba9VqiRMk+LHEAKIdyDEH2MBF3KUBfpB4gf6v4QwuSlRT\n",
       "ZKiDNLuKAOsAF1VaeHL758XTEsx+rqWbNI/w805PizwvSGWU2HGIp95j0H6aXr6UemuEsxfUonkC\n",
       "GIDly2vfGt0Bne/pOGU8otKCVFt8VFfBbEOmclyC0tyFeiE6dzmAWy93Ew7EbA/lROXubE+L3obk\n",
       "NhiOI0FxCxZdSUuMEmQotl4RAd6iNZgPPV+Y4i+P0jr7Ud79nMo7X8p0aZNNuY7ilK5LZ13m/i65\n",
       "ZRg0zVJPRAA3jVHC8t7eH68cfSdh0Q8UqP6tBjyVz120VYy3QQAEakDATGVfq14NGI2sjef1Xz0i\n",
       "31Kw2khm1wMEamPA5NooUM33vb+c0nfiDVUDK/RmFpSAuM1ctlo4Fd5fYCnyLjWhvoGyniziKkD3\n",
       "LhUcWiiVNsbyoLmPO+bmfu6Ylh1Ghffdv9wT/J3shjmuAAAAAElFTkSuQmCC\n",
       "\" style=\"display:inline;vertical-align:middle;\" /></a> <a class=\"ProveItLink\" href=\"__pv_it/77627ca59aef750c16053b026c2563c1526ef3290/proof.ipynb\" style=\"text-decoration: none\">&#x22A2;&nbsp;</a><a class=\"ProveItLink\" href=\"__pv_it/3319f04e8dd8fc01c95d9c9e3bd7e26025a038b80/expr.ipynb\"><img src=\"data:image/png;base64,iVBORw0KGgoAAAANSUhEUgAAAMMAAAAUBAMAAADCapQOAAAAMFBMVEX///9mZmaYmJgyMjIiIiIQ\n",
       "EBCqqqru7u5ERETMzMyIiIjc3NxUVFR2dna6uroAAAAPJcEmAAAAAXRSTlMAQObYZgAAAj1JREFU\n",
       "OMuVlTFoE1EYx/+XSy5pcwmhOoi0EO3o0JObiiK36KKFboKgZmgXHXoSRREhxU2zOLlJdVXQIOLS\n",
       "wSyCKOoVt1IxQ51bcAhaaPzey7vc3bvvQvvB/yX5vvve733vvXwHZNlbUrk+VNKsDvc8772JbCuu\n",
       "0nBvqFvHHkUBexVf2AzWa3eyEaaInZEqdvGrFyXV0Uw9vewj7bUu00qdbMQJUq4mZfgoLMZjleda\n",
       "xV+/+zHvjeHHg60+jZvZiIukfEeq4MHeS0y5qD8958e8CoGcQNzJJJQ9Gt4NZfZh/01Ez3GIkTeB\n",
       "MHuobq2//Dyx+U3LmaQ9wgslqqUfBu4fp2GDRWxwiEoNldJjtF5jWe6xK03MXhJX9aESsBOEkwW/\n",
       "aZhlEbMcIufgad7BhwBzWk6+QcMFJeCSPAKxgY0jNC6xiCUOYXnwWz2s+Pik5RTELb2mBEMUhpYj\n",
       "MP/o25r42ZQlz0cI6f3huudd9+wIMbELrABHgStjEepAumJV/XCyVBVrXBUCQYUvoLpXjM6iq2+U\n",
       "VcN6OFlJRLdZxDaHqNLVvIriPgznfTIncdzPgFdhoNUIDnvc5X1YuzCDIJlTqalbSCov/Jz2wsCO\n",
       "aIszOuKNQMxoiEmBMAJRCP0HrCmtXYn6ZOUkczAYjBD2SRrmNcL09dP1yKsQxsc/U5T85CANJN2F\n",
       "PbY3e1oV0m4fqA2mTG+Dmvdu3DumDZbE6ttKmjXZDNY7rpnHX0m6tdmMduZKD/9izbFpvPcU8B8C\n",
       "XZDOZ1W0rgAAAABJRU5ErkJggg==\n",
       "\" style=\"display:inline;vertical-align:middle;\" /></a></span><br>"
      ],
      "text/plain": [
       "m_eq: {m = (j + 1), j = ((2 * i) - 1)} |- m = (((2 * i) - 1) + 1)"
      ]
     },
     "execution_count": 41,
     "metadata": {},
     "output_type": "execute_result"
    }
   ],
   "source": [
    "m_eq = assumptions[4].subRightSideInto(assumptions[0], assumptions)"
   ]
  },
  {
   "cell_type": "code",
   "execution_count": 42,
   "metadata": {},
   "outputs": [
    {
     "data": {
      "text/html": [
       "<span style=\"font-size:20px;\"><a class=\"ProveItLink\" href=\"__pv_it/ef8279abbceb99eb8451f46aa44db724262570220/expr.ipynb\"><img src=\"data:image/png;base64,iVBORw0KGgoAAAANSUhEUgAAAWAAAAAbBAMAAACw3UjJAAAAMFBMVEX///+YmJiqqqpmZmYyMjJE\n",
       "RETu7u5UVFQiIiJ2dnbMzMy6uroQEBCIiIjc3NwAAACK8CUvAAAAAXRSTlMAQObYZgAAA+ZJREFU\n",
       "WMPVWE1oE0EUfvnbZLNNrH/oxRoQxEO1KRWpByFiqFrFRqQoiLKHSDxUkkIVUWuDglYPNlCheCgU\n",
       "/+qhYC5CBcEKVRQVA4VebCEtFIoHDaUEa9E6P8ns7O5kk/aWB+/tJvP2m2/fe/NmEoDqE/90FZBM\n",
       "YPMkTe6n0lVAOIKN1KUiq/yBaiEMTnzx5azKpbbEwB5r/JmC6sWeXQMUT1geK5pScgGbetU84Obn\n",
       "NjlIEaJSU/sQ90gEborm4KEu62Ha2ltA/vZ5FYRPYLPFGKgPCCvEfWF0AGeWaAzkZY5YLUShDFSn\n",
       "fthVOwwQB3c4PB4+WAlhW5AHz9BrbCCP7KBVAjdS3QfwRfe9nNH7lYNy3/dloGYVJeHJCgiDDc/S\n",
       "YUX4AdWPAD26spWMc5WA2tzbS8LufqVeA88qCM9DScJOi2boT1JtU6FnSDdyTETYBPVsshjhH4mo\n",
       "KiKsDPyc7vYOXjfOPIGjMh0REZZZtTAHJr4gVSR9bD1eOoBMv4gwg5ImyBRSi7Yed3sTHGHS0Txo\n",
       "E5Fd5yD+HerJW4SJEJCTSB3wTkTYxpZKweEheewQXStUUSSWGLfUG2Q2iQgzKFkZ07cNd1ZOb+MI\n",
       "e9GeIeFO8tgTgl8p2G6M8C2kdbAgImxPFp2Yg1b6Aao0GgA4yv7AXmR3iQgzqFkHoe7iO94V9wt8\n",
       "V3iHrWkYxUWmxtPQoBq6IBLcAVUlT+N+ZDwcTrBZvGy/oQ681KSpAjSRFC9iA3+RfYk/R0kuWs1Q\n",
       "6joSkxE8HCoQjsFxHvoUKEfxtQGgGeCriDDISVGENcLMwUy4UMh3yeP5ImFjhDWoBlLxc3yEvakR\n",
       "zv8p4tCRQjcoXfdA+SdpNZwolgQ4gyLCisaSOtAaPqwriR3gZ/XowoijIsIa1Gn6vrpNcIOLaz+4\n",
       "+BzY/RNIy+AIzRrw8KKDeMB60TEHboOi6k2BL6t5pcotOmlBJquYbS9uVK/yHNd+coW25l8Gew6c\n",
       "qZQBr1/LE0fYh2dxYN94iHfQaiRIdf5R/1X25Vt8kNpvbIA6KCU3w9Y6zV2AZp8Bsz6cxOVmbzSe\n",
       "pkgGmw0bh+PGYiPCwovVc4d3YIJzjLVtZeW3lt71yLTqHY1QnfRwGDtLQ+Dte4/XqICw5dZ827jT\n",
       "EblI7E7gHExbs0mkpGgWDqogr8/0hkSelRx+nvuLB3xJl3l6YkHJ1BxMhx/zhBnRLAyqrJQ/Xp73\n",
       "L7mCogF6JpQyIHRwZakaJWoJVSnhnOUBvrtROEDp2JCKHAoHePP7W0NVRtieX8tPpLq1/ESyZdcA\n",
       "pXs3kowutWr+kZgib6x0Vgvf4ckq/NvnPwnYGMw80d20AAAAAElFTkSuQmCC\n",
       "\" style=\"display:inline;vertical-align:middle;\" /></a> <a class=\"ProveItLink\" href=\"__pv_it/54200bb4df876b31b379d8f7e6f38f0ed01f92fb0/proof.ipynb\" style=\"text-decoration: none\">&#x22A2;&nbsp;</a><a class=\"ProveItLink\" href=\"__pv_it/d128cc93e565ea4212e3bf70fb22a36c37a4165e0/expr.ipynb\"><img src=\"data:image/png;base64,iVBORw0KGgoAAAANSUhEUgAAAF0AAAAUBAMAAAAdCCxUAAAAMFBMVEX///9mZmaYmJgyMjIiIiIQ\n",
       "EBCqqqru7u5ERETMzMyIiIjc3NxUVFR2dna6uroAAAAPJcEmAAAAAXRSTlMAQObYZgAAAVpJREFU\n",
       "KM99Uz1Iw0AYfWnaXGuTGNTBwcHdwYCjSyYnC86Cbk4OjaDgFnDzZ3ByE+yqIEWkS4cGJ3GQuBbF\n",
       "DO5mskih8e40jbk09yAfd4/H95d3QBHqizlqFxIcAnvzx/+IR+htiX4VxMd7mBIPIHaxvGRBcVHZ\n",
       "yJD9Yn25jYoDfZghD4r194A6gP6dIdUQ5mv3+qnWfxb1rd8qg+ROWleAYcGonsC7xQ7jjBUOi52P\n",
       "uOozSPSGSUcp2bgo2+gFWBbzr/G4zlOz0FHocjQHrhei6dLlCthmQeGlPLZGd5r2U4uAJjAHbE7U\n",
       "/w3hs0iTcv0s0IA5JGn/ftKPZqE7TnBGP9MBtkBGUOyOkJ/NewncjPfzZfB56yNoEdQgEPQv1HGN\n",
       "twUnuZvRHZ0nYCWmLGgzopU+6N+J49hJ7UP9qp7L/JDHvtRveUj8htM8JfMzey8iqrL3MuE9LgE/\n",
       "XldLEFsQSTcAAAAASUVORK5CYII=\n",
       "\" style=\"display:inline;vertical-align:middle;\" /></a></span>"
      ],
      "text/plain": [
       "{m = (j + 1), j = ((2 * i) - 1), i in NaturalsPos} |- m = (2 * i)"
      ]
     },
     "execution_count": 42,
     "metadata": {},
     "output_type": "execute_result"
    }
   ],
   "source": [
    "m_eq.innerExpr().rhs.simplify(assumptions)"
   ]
  },
  {
   "cell_type": "code",
   "execution_count": 43,
   "metadata": {},
   "outputs": [
    {
     "data": {
      "text/html": [
       "<a class=\"ProveItLink\" href=\"__pv_it/071e279f3331b6689dbdbecc99a82c04204fc6260/expr.ipynb\"><img src=\"data:image/png;base64,iVBORw0KGgoAAAANSUhEUgAAAsgAAAAZBAMAAADeeMXmAAAAMFBMVEX////MzMxUVFR2dna6uroQ\n",
       "EBCqqqqIiIgiIiJmZmYyMjJERETu7u6YmJjc3NwAAACgK8IjAAAAAXRSTlMAQObYZgAAB5pJREFU\n",
       "aN7lWm2IVFUYPtcZZ2Zn7r27CBK2lGsKtog6FCiS1BCIax8oEf2wtO2fW2RDEBH92MVIVjAd1hSX\n",
       "RFeoHy6m00IprLo3aXX9IAeDJKGaiML8aFXMVdd1O+97Pu65556bM26K0YG9H2fmec47z33P+77n\n",
       "3CXkP97Gta+7twM2tWfJ/62l7vmIbsMdYEqm3pVjQpvbyvtC5AtjGCxRNol84faYY/79ydHGjt4c\n",
       "m4XlyoY1oyNmdojzcE9H6deKf6L9fuNMNxsWuQvOP1ZKUsST1VWVug/y8yyDyFGMJ0d7ZvSUGWaX\n",
       "0v8yITWXGJJD3IhRhV5mdMTv69LAyWWEtCwLceqTRVy8UyKJjSWtl4o8B847K5QrzUZJX+T3Fh7r\n",
       "Qt+r8z+kbTc/H1VEdk2MKuwGIc5VxDgFn9gaISR+nV3P5QwFs6072CkKbW5zg2B7r0cfyy2dMyQL\n",
       "H+PYWnrYVtZ6qcjn4BcXKxT5B3Y6fVNML5DFyYe+NwUOp/iNs9tjF7G8L7KwIMCowKwhetiImJTi\n",
       "P0n6g50hdt3PTvVrjaZae9moUWhz6w+C06/QQ3yJzqk3YcJn8PECvZeKnKYfxJorFJnVInaLeLYW\n",
       "SJYKjzwBDuLHHxLP1l7iiywsCDAqsCTM6sUlwJxRiDOUop9D0yy6TnvXHF4XsmcfhY7wyVwAvA2E\n",
       "sQo6p964CTVX4ThJ6wWRnfnHj5+pNFG3MddMXiFKwFtkDitxYVupVeSaT32RuQVBRgWWgfgxmAXM\n",
       "ewpxbQOxVomJUWBh1Jy9jxJGHYU2N8YpwO41HKGsc4YiOTNhED/9VuvF6mK4t/eDCkVOMhOeS4yI\n",
       "nhb6d8BQFNAvZrhtce8tkQrmSZGFBUFGBVYLEWxxA2D2K8STZ57aK6adg1kq1myeh3NYtolEhzKZ\n",
       "5XMKcGzIzKk/GW7CU3lTL4o8xSiTsWVQLTtnDSnliWUK6PSZ1vPLb8hkMfhpKbKwQGP0YYhpzQJm\n",
       "NZ2I7dDoXWuZ2C/wMRNtzALXWOu0kbN4NqCTcv7HpMJFkshJTgFOiUqkPsgZqtGYCevrVF+UhqVw\n",
       "tvPCxSh1Rq1aUihMnLjXxTxM5sk4U+FJg8E0fpkjgzBomlqwQoosLAgwqrBWMHh2DjAvKuuYL+Gj\n",
       "ZqsTtLAu8jw5xWAAzcaYlQ1oYsnfNEtoDIRbJacAj8d0bJNJm4OcWhMmvIqRyOP80rAU/iXRnZwr\n",
       "JpF/ViUcjzcTOjuG6elhNKANC7NQG5Alp9XYORv9DtxTiiwsCDCqsD44/IUYVabLIFOexH2R1/J8\n",
       "qXuXx7KyCY0NPrTkugEID0pOAU7h3WuENAU5tSZMWI8hr07rRZFjJRYej4yYYvq2UkhkelgquzaZ\n",
       "w1SNjJRxChPz2RdZWKAx+jAQ3RlBzGpfJih0wb9RZDxAGE8b1ggtYhliQGMrigpUioxpt00Fswo5\n",
       "K0Ru0ZY2SgJCE7CKium9KLLbxQSfv8YU0wcKergAl/xQdp01J1xX5nwKSYlCs0mILC3QGCUMY3R/\n",
       "ETH7fZmg0LWGuRaYpIAlYViO7OKiGNDxt4XIfl0ChDChWeITYBesiHlCZMkZLqXQhEGYJPM5v28Y\n",
       "jnIAw6CV7zWI9UCmqCe+39kabiFzycxD5tLxC74UcZvZcu7wJjXxSQtURhUGZbLdzZLlPH8dmaaP\n",
       "a8E+LnJNVqQkKH1PUHnsG4QfMDNiAR9Gx2o9LvKZgMiJBs7pg2ldlNhCuMiy2x8GBvVNgBKpxeP8\n",
       "speJ3IK+OI7Q6J7WtWqoaVO2TaCKxMq2r0yybNVnPYrRXhuXBgNe88PvyFAPKjxDLzYIkaUFKqMK\n",
       "g+fShH6wgbsR2rj7cueMr0SkgFTK8iTU3CkgXkX4AbNxMi/0CaDPrxCe/GxA5HiRc/pg+5NHPiaC\n",
       "xO+Ww+Cg0gRypKcxJ/j9XhS5Fn3xe9IKiVTL0c3Ji8otNcXuu+GRN0bXuIfaAsv54Lhy2XxsdCdJ\n",
       "9F0r2OXH6N12IbK0QGFUYVSPjhlb8XJ7YGGsaEKzJAvnyi6J/wW5hWJA7yHjuruXdn9OnqY699Lm\n",
       "ISFsUg0EwcSPc6ZuUT5pJuwJ9qLIDviivePxvvBa6OiGJ26Gl9UsTvAwcT5icaiT7cdShIvsW7Du\n",
       "NjCKcQpmkedWVNuH0fbNOu7J9UFPbojkbKpm05Hxm/aTazwyWJfQtwG2EPcScb7TN4ignfi6ut3k\n",
       "W8ENIgOjeZ2bNxXwsGawK9xvDaETXVku8kCA0MlGcq6oat+8Kxsh8vM0bJQSiwg557n78EBPcZqW\n",
       "RsgvA6alyeuxqjS2lgS3Oo2LHeMWRGDbnfv75sv52yINm/bc06aWRXXhqYQ1uSjOP9ZPr8aTp5bN\n",
       "ImeGidv3ESwQJjZby8nEsrXceon0Fcm5ayVlB8j2a42DT1YlcrLIfCpi0/4f/dD8AumnSne1zK+f\n",
       "YNxkYCMjXTlnVS2lB8AcFrbc7f19kbG/fqIh3LmD109OmdylVpQH0d68SyPpu4TTPfZWDZt8q7hz\n",
       "7ANN+83zV7f3RSvzIOl7WOEeiQy+I6/4NHP/7Br7QFNnkftMZDZZ1dcm3t0SuYL/u3Dm/YtTtqm9\n",
       "apH/BsrzTFHz1P0LAAAAAElFTkSuQmCC\n",
       "\" style=\"display:inline;vertical-align:middle;\" /></a>"
      ],
      "text/plain": [
       "[not](B_{1}) and ..[not](B_{_a}).. and [not](B_{i + (-1)}) and C_{1} and ..C_{_a}.. and C_{i} and [forall_{A_{i}, ..A_{_a}.., A_{j}} (A_{i} or ..A_{_a}.. or A_{j})] and (A or D)"
      ]
     },
     "execution_count": 43,
     "metadata": {},
     "output_type": "execute_result"
    }
   ],
   "source": [
    "requirements = []\n",
    "partially_masked_lambda.apply(*operands, assumptions=assumptions, requirements=requirements,\n",
    "                              equiv_alt_expansions={alt_A_form1:operands, alt_A_form2:operands})"
   ]
  },
  {
   "cell_type": "markdown",
   "metadata": {},
   "source": [
    "And these were the requirements to make that happen, making sure that lengths match properly as well as certain index ranges."
   ]
  },
  {
   "cell_type": "code",
   "execution_count": 44,
   "metadata": {},
   "outputs": [
    {
     "data": {
      "text/html": [
       "<span style=\"font-size:20px;\"><a class=\"ProveItLink\" href=\"__pv_it/f054444f45d69c0ba0db1537d718d543a5e9b1d20/expr.ipynb\"><img src=\"data:image/png;base64,iVBORw0KGgoAAAANSUhEUgAAAckAAAAbBAMAAADlkGnSAAAAMFBMVEX///+YmJiqqqpmZmYyMjJE\n",
       "RETu7u5UVFQiIiJ2dnbMzMy6uroQEBCIiIjc3NwAAACK8CUvAAAAAXRSTlMAQObYZgAABOxJREFU\n",
       "WMPlWF9oHEUY//Zus3u7d7keovhkmifxoWm2oLTiy2rXiFprgvUPimWhqfGh5TbQiqYkHiloqoIH\n",
       "EVRs9BA0LRRyL0J8agQVpGgDh33R2LNQEB+aI2hAWxpnZndnZ2Zndy/61Dgww+7O9/2+77fzzTff\n",
       "LsD/pJVXUib1W5mZh7r5gH/9czNFsOdWZjmMh7EhPBb/hi3NEh7GQ2/nv7EsVxImcu1MPYnuziwD\n",
       "BHbnJliexoOxhMfj3PTonwdcOH2j2Q3Lw3jY4UpmpljfvpXpoX7ovueZh8dBb0sNCLCcFG9ce/Lp\n",
       "ITAuXpCxHOeRRkwPtA4cc/Y5TiWd5X483Ck+xZZHmXvFk+ntB82DT5i8MA6aLTUgwHJSgvGeyjxA\n",
       "FXTH+dp5kGcptFcbKPEudROxisXeDQTv87XXkTvGcoYe6nkXSrwDczwUa4CBnUs5Ft7qXYaSNGKD\n",
       "dsfMDHlLJ57RG1DrhmWhLWEJsB25oy1l6KFeqoF+k5s4IkBxBijskThi6Lv+hTsBhRSWn10KY39e\n",
       "G+qO5W+QyBIez9BDXV0HnU/yapOH4gxQWDV2/FHf9d+9UVfGUmuR4NKG6A7PLc/zLIvvX1uZNOdO\n",
       "iOAtrLcyLGU5S6WO/ijTa/mLtU4jErthWDxUK8YSwxo0jgPjke96e8D0GJaXiRGUF4ziEnCZawo+\n",
       "UpY5lkbPi1D9CXaQa4c0YmgE9Tx8JWV5O/XOKlUkeiNk7nyd2sBuKDYPNRJjiWEVmn4C45Hvetto\n",
       "3sWwXGigd4DPkCt5mz8cp0B3JzDLcvjk04INq3XYLq7JNOp9sCZleQ9NNe1t/RK9aXL1JlkKCN3I\n",
       "1Xio6RhLDBtKUeOR74jvK/oZfOUTV94GWERMwd1GIvYcftO2z1LzVC55uNUmDLrCuYoaPpfcIgm6\n",
       "9xznHcd5JHJngUYVnHclehfIWpClrdqhG2aHh0JCmh8DDQbWpLVMYDzyHbEcg33s0WJB8VF8MUic\n",
       "uMqevGdNPkUOAuwB+F7GEoyadC0XIrEPIIllsDm90I3Q/wHWQAw2YhkYv8qupVk/F+mYT+CcjLfF\n",
       "s+S+xLJU+oc5t+4FOAXFm1q0vzwaUKolZbkYae8FiR7uOQuuUSnsRjEzYhcZKWq8xLKE25izYRVv\n",
       "ljyS19YMEjz0GJ9A/WOe5XegXYe8fUVYE5Icqv0Z2UdbA4ke7mcBfomkjM1nn8B45Ds66cGIltbP\n",
       "sfgkKXZ+5d/bQ1iPAuFNU74OuQ6o9brg7WwU8CzLy/jJ/eGGg9w6SPRQL5/6cDddFuJGvs5DzbJa\n",
       "FBZLaX8AY5z6rvb7kRe2qCoY94vVsRd8jTM3htlasfAGCZFeC3K7xGKaROUesSrYfXEvQnws0PUD\n",
       "Jq6HurqxsRHNYTfUBg/FhD0DS6RmXMZ46Lv57jfA1dDxCu/L52ZsSaFyd0aFdzJW+5AArFHdgpVQ\n",
       "4cXby2kVHoUlUjnC62S67ynVutDqqVX352Vao73ETvnVOtI13dVGQrUeb3MCVEwoqtZxMmGMJ7Ru\n",
       "WWppHxcHy3/1WNKZ0VB3tf6URC/ooi1bJijC+lJH0b5OMi6y7GSyVNK/oid3JfAPdfVWRf71fVjy\n",
       "cyLzK/oglcKoScYFlvH0t8lfgElf2cq/+iPSl2WAwPZtwsEDZDzmbukfsb0/+KfU+FYmaU5u7UVk\n",
       "2j+SX1f7efpONQAAAABJRU5ErkJggg==\n",
       "\" style=\"display:inline;vertical-align:middle;\" /></a> <a class=\"ProveItLink\" href=\"__pv_it/fecf9f201fbf5f71258d3fdd3aae3732c3cefc940/proof.ipynb\" style=\"text-decoration: none\">&#x22A2;&nbsp;</a><a class=\"ProveItLink\" href=\"__pv_it/dfe50ee5a4814224afa09056ac89fff8085457e80/expr.ipynb\"><img src=\"data:image/png;base64,iVBORw0KGgoAAAANSUhEUgAAAd4AAAAVBAMAAAAa6JIzAAAAMFBMVEX///9UVFQQEBCqqqoiIiJm\n",
       "ZmYyMjJERESYmJjc3NyIiIi6urp2dnbu7u7MzMwAAAADGpxCAAAAAXRSTlMAQObYZgAABNBJREFU\n",
       "WMPVWF1oXEUUPsndv7v3ZzdC7J+aCMUUUVwkUXzQbDV9EBqSSGILWrL0wRfBtloJVmrWB0Xzki1F\n",
       "UFCyClKo0C7FJ0HcPvhgRbyNtaIPZkNbig8lWdSkbYz1zMydvXN/ZvZGX+rAzs6euefc75vzMzML\n",
       "1+B/0mwnIPg3yK/Bt/T7/duZ6WO0N2sB8YaQaxVXh2pZB1sTmZ7mxKbXY9l481b32FQtcso60b1Z\n",
       "r6vVfzk0Vv7Q58GS/4FMz2rX1BaAjoqcr4Bc3baIfFMVb6ITLUw2YtnoA0j+HTnzSRm0Z8pK5ewO\n",
       "gIEdoiS1THr6apsKcrgAswWwSnK+BLn2YAysF0W+bwkTSwjzq9FYGXUdwPgzauanYewmKypl6zDm\n",
       "Y/KGKHp7nfT3kG6GQaniI70A5+R8Efn5s+sxwJpVge/TwsRphDlbjcM3i2gzN6Nm9pPackapnCJO\n",
       "MXrFFRig7BdJN8ygoK8NXNR5OV+CPBOHr9Xr8dWLwsTLOLfdicM3jSbmhyMmkr+T/opSebJAIkSM\n",
       "o0x2jUeoweTTBNtfKKrJ+FLksfjCix7frPjaJsDlu2Olby4P9s6olZmj6/ezSlf/gy66GPJfatdp\n",
       "JUUwaSZfJSGAeMxRGV+KXMHXOPvBya32uW04/NrjmxYqi91858RT+H21Pd+lzTOHC+JqcZ3v3XSw\n",
       "5cXT5HnwaSvgajaTFbkh+juL/s2UOF/zBdpGOV+KXMHXTB+Bhc/gYVIdPL4JRD0+hG03S8r5PFwZ\n",
       "l9pIkieH6jTTrXsRFndSS2eElXd7oig1kuB1/beWK0Bnte8kwDZWH8gzHRjkWlHmX4JcxfdSogRz\n",
       "dZjFYb/Ht5ObOsaSMov597nat3qeZjqcLghCrvMQDXIHDDnfTorREiSLE2OrdHDB3YAgTfanHOKx\n",
       "l2V8KXIFX2ehBoMObCLRGM0XkxKyN2PxbRK+1Qi+IzQPGyq+CbrXPiFIEMN9LH4KJlvEHEmH2fJ/\n",
       "4QuDGLkA9/v5JgoeX7L9khhqz5dsv9BTMz4O8aU7rwkqvmznrcMXeX7gw8+TzHQpAa3t1+oD146Y\n",
       "v/m48QzPAuwG44blggvUq2Ns+106GIcvyXR7FcycE+Q7R5z+nZKvTmqR6UCdYz2OnwNs+MYMtLbf\n",
       "iyS0vXoV9G+7egUPgLUGydJxX70yeYXFY9x+hNnnUOzWCrjdQkkYsNaAFGbWmaPwUb/oX/oU2VgG\n",
       "HMY3rE8HMIgnzn2g/1BkNulGOs0q36K7pyN9YxcNhrqML0WeXXeB+WGSTl8DbRlSdTTwvMdX8MOd\n",
       "5A5QcH01RDy3k4RNng+840XHAbxYvIKDI2BMYTsq6Px4qLvG7RKBp5/nj1h7up4jDqpSm9b0igOP\n",
       "3trFjl6jHErXq3QFUg0ZX/KG5B0rexkw/2uICOdxu9T2opmXJOdJITa18GHi8fBBbb0h06F8w0ZE\n",
       "ycKvYZt6UOOC+jwpAeYXWUXJfcFt/azkBFv4jqeV6jIdtm+GDwHC+BEzymagqe8LMmB+ke++kA5d\n",
       "Zd4b2Yo31LAzwxcJ666KREcfb1ajjIiS899E2Qy8QXEf5MijgFWl90HJrTl8gc20PWSW2xspb9Bm\n",
       "OsZ9P8KIX/Saq3Pq9v8/5112ugz+B7Eh5BkWB6f+AdF8hl4/h4mmAAAAAElFTkSuQmCC\n",
       "\" style=\"display:inline;vertical-align:middle;\" /></a></span><br>\n",
       "<span style=\"font-size:20px;\"><a class=\"ProveItLink\" href=\"__pv_it/19f6e775e307c0b4efae1ee18a75c8bab998ce3b0/expr.ipynb\"><img src=\"data:image/png;base64,iVBORw0KGgoAAAANSUhEUgAAAhEAAAAbBAMAAAAwtMBuAAAAMFBMVEX///+YmJiqqqpmZmYyMjJE\n",
       "RETu7u5UVFQiIiJ2dnbMzMy6uroQEBCIiIjc3NwAAACK8CUvAAAAAXRSTlMAQObYZgAABM9JREFU\n",
       "WMPtmE9oHFUcx3+zf2Z2Zt01FcGT7Z7EQ2sSKDRSCquOUWvVBOqfS2UOq/Vg2S20oqlZgxGpf8AF\n",
       "lR5sZPFgKgjJRelB6ApVkKJd6FFD0oIgHmwobUBbi++9mXnzfm/ee7OGXEr6IJPdmd/vu5/3nffn\n",
       "NwNwu/FWXTJebmUrOLe4A97u8P9vi8awiWyl4q0+GA6O02P5H9j0TsCj9FBZ3UgnqkMD/vYDpvlq\n",
       "EsmtrGsJGDJynKQHt8c+bw/E6/Yzz46De/4ccsLBpjSu7Q/g5I1F5MRLaa1UYnhO0aGjooi2tfFX\n",
       "AdXQlFwJh+jEPdJtHpoHaILj+2f9h+IkyddJrwX2Khzx9/l+fOlphVYqMfcj6UA9TXVYFFE22pcG\n",
       "KFHNTcmVcIhOyPDvV/pwh3l2vN4lu04PzQ5rxISzI1qfTqyR45w2TCtiv/EWccLt61BhMMlcP8Wh\n",
       "cMJ64fg7TP6bYApKSifiEDj2nNOFGeREaWUAJ8CiBK9qwwwi24gTdk+HCoNJxk4IHGknvAPRVHL+\n",
       "bDUCpRM8BNrz9rjkxB8wsBMF7eZtEKFOwJM6VH1DktgJxpE4YS+FHW4EfCHZ4bWwE4f24BBo5/rz\n",
       "khMXBC2QEiUnXHkO2Bf6XKR84q+laW/umNKJj3Wo+jzEhZ1gHMts4NAiMg/f43XZWXEX78VOdL6T\n",
       "lu42fGb1sROTghZIiZITFluqXJ81SuOWe1zELR6A5q+wXenE3TpUnCdIYy7sBONY6BKn2Na1Fa7g\n",
       "4oFsLq85p+ineIZVazul+qINTjBFnajyU28LWiAlSk7kZqReXsrXucgXpTpc7sA2pRP361D1eYgL\n",
       "O8E4rA8ATnfpuaC8xubeWepiJH8Q9qHBC//iEOKE3Srgnecc17LDO9LliZ/4/oe+/xgn8OSKLriz\n",
       "z0WC5iIMB2GB0WBCexMnFvSoYp6ai4yUx0lqS+IojkD5iXBYsTtUFY32Ol/j3XcNh9Dx+ZWXdiLS\n",
       "khPlMZFygnaBiwwDjAH8rBwTCwZUTR7iwmOCcXhP0V2kQ08WwvWrJ5Zed+HniWILh1AnrNpEahTG\n",
       "WnKi5ER5RpjMLOJ5QYRMqPegfNNWOXHagCrkidKICzvBOC7X6ELCiJo1dm0PlyfD2v0dUTRrHRQC\n",
       "U+Tvc+zEpKAlJypXTHH6XXETkZ/Avg75+iX9iqlG1eQhLsWKuZzUE9HILMWdKNRCgyPIq+RwJnyK\n",
       "4SHwMPWR96dZjze4Yam8PxM//sROVChBviPRllcvcpHqdcitQqEjxyxT6QeVqIxRl4e4uBMJh1BZ\n",
       "jUVdPvptWLZ89AOIFf5xIuJsQSFw6saE+PhQejceuGNy5b4Fz478m1dHSQe6qceOIS5ChmxlBHKj\n",
       "UrW56/wjxNS9alTKqMnDXLETAofgxGx8Yz6NSmlp0RNusyYE7our2tmsGpO1V8Aoom/2jJojF2RU\n",
       "27NyjZlwcCe+rGa8rnEHeAXQCZ90DFovi1/mTCJGlv7/Z0RcdpDiiJ2o/l00/zgcyjbCZoAvZmtF\n",
       "4XWDiDGzsR5GLZf4VE720+nRDO4B3kRZ0RuRTK1oa10xiRg7tR5GLVcxeVPD656NeVE+6Nu7resV\n",
       "sTb27V3IsZ8djwSw2Vvll3ANPrzZjfCmbw8Gof0HRp2FhmpyLvoAAAAASUVORK5CYII=\n",
       "\" style=\"display:inline;vertical-align:middle;\" /></a> <a class=\"ProveItLink\" href=\"__pv_it/7f4c3cbfe8ce691edc4b41f998b1d024ab40a9cc0/proof.ipynb\" style=\"text-decoration: none\">&#x22A2;&nbsp;</a><a class=\"ProveItLink\" href=\"__pv_it/3e32e54f0a8fd440ca22b10fbe8a61e330094dc00/expr.ipynb\"><img src=\"data:image/png;base64,iVBORw0KGgoAAAANSUhEUgAAAWwAAAAUBAMAAABbtxqSAAAAMFBMVEX////MzMxUVFR2dna6uroQ\n",
       "EBCqqqqIiIgiIiJmZmYyMjJERETu7u6YmJjc3NwAAACgK8IjAAAAAXRSTlMAQObYZgAAAzRJREFU\n",
       "SMelV0FoE0EUfekm6SbZpAXBq4KKB7EuvdR6Cnjx1oKCIIK9FBRKG4ogxYNBoYhICXqRQiFVDzYH\n",
       "KV5ERFkEsdRDcq2Hdk/VS03AolCK+Geyu9mZnd1t1w/ZnUn+e/9l5s/MH6DUwuFsR+xOI5FNxzOH\n",
       "Wdamx9cYpzNS31gV+312uK8/1vVwWAhzqA3R5zV9Jq1wn7NSP2+LWox6uK/PiscljfWAC2OW/53S\n",
       "1omuBuPEOSt+ZipOY6P33afhfXqOJMuSIGzDZYwzrQKdDd7WIWQv+IeQBfmcTHYQtuAyxpkxjh84\n",
       "nOxSVZadLyeSHYBx5gPJxkvMRcs25iqi7P6aLFuryb4K+3K3+7449H22cmS27IO5xpkjZKeHf945\n",
       "nRo5Sc1RfIiWraXHRdmFliy7WJd9FVbLdHHm+4rxp5wdd2EXGsxWPOYI2VrhLZq3MUnNb5iPlr2d\n",
       "q4uy9QlZdrYq+yr2EXuA41ITj1D6hWLHB3ONM0fIPqrX0TaxRc2buBIt2xpgcrVG49W1RoPtYRma\n",
       "33U+RMtOkFRH8FXnGsZ4CMPYRXYffas+mGuMOUq21SxjxuJnw7E42cxRGO1MWR7tXvyZiJV93qHp\n",
       "IFdFppJANmaAZ8BVLjsmSfAGcUmSrsq+KlvpviiPdBNjtuXAurn9/CBJgkXgAdJ/DeBS3JI0fmsH\n",
       "XpKer5LHGVITNNeLpYkezLW4JYnLoBTL1bfZkhxlX9yzYOzRu0lUvOH10p0dUbawb/WzIDnT5xtk\n",
       "4A2W0LzRLrO5fqE5MGGnqDmMDNWDeo3SLkuxvEm4pzTewJMbKy08pBHX2aK7D+ehP2ZlRkuUnfZt\n",
       "ALlTe0t0bgz6fPm7x8D4GDFLaN6gcHRS3Np0YMK+XHUYOYcnxeOg32lrzy7Rsb7cPdy5rmCiTMUd\n",
       "7tzWBN+p4PnKiPWaHGFNebhHcfQyrspKKWeOgsnkn0bDCpZS/prIVGA84pTVHpQjKEupCA6xlMJH\n",
       "9/gNLiPlNlywVRWo66vAEHHbfCdHUBSuLrOaQyxcvWtC8JJTVO8Jq6pgxXAMEffNteQIhfBrgprD\n",
       "Z2yk//dStpmsbt1Mfikr2vgH2XcPzWJc9IsAAAAASUVORK5CYII=\n",
       "\" style=\"display:inline;vertical-align:middle;\" /></a></span><br>\n",
       "<span style=\"font-size:20px;\"><a class=\"ProveItLink\" href=\"__pv_it/51805bddb24e6f6c8ae285a6b58f903f699c28f80/expr.ipynb\"><img src=\"data:image/png;base64,iVBORw0KGgoAAAANSUhEUgAAAFEAAAAbBAMAAAD2Yn4PAAAAMFBMVEX///+YmJiqqqpmZmYyMjJE\n",
       "RETu7u5UVFQiIiJ2dnbMzMy6uroQEBCIiIjc3NwAAACK8CUvAAAAAXRSTlMAQObYZgAAAVJJREFU\n",
       "OMtjYCAB8N3FJ1sAxFzWEPadDfhUBoCIdDcQyf2LgaBKBlcQwfuBCJVzQATnARBZiiLN5h/qxsB5\n",
       "/jQ2lYWoJrEKLGdgyGdgd3E54uKIqhINsHfxXmDgwWo7FIh2dDiAVW5NqGLgwKNy6TWYma8KUhKw\n",
       "qWS7fAHsETe47Q90uQqQVN4HERzAWODkPgCRR6jk3CCLpHL9AqA5oPB5xAx2HSvCRw8YythXgFgQ\n",
       "zYzdDAw7gKoZEvjBtq9xAQIHqMp0Bh/kYDNg4PYEMfQTQORTZDO5JqxBKOTyBRI5E4BEOJjPg6yS\n",
       "QQjhGIb3CkCCuQHo2E+cID7zBbhKoJs4EVZA/A4KJe4PD8ECTTAZFpAZJgiViJAvFAALpEcnQJzV\n",
       "fxRIpmBTCQM7IyCxiQ5wpxBKVX4gViXTNyJUhoDJkgSCCnnPgSnuQkIKuWoTSClAAF9+VoMs3T0j\n",
       "AAAAAElFTkSuQmCC\n",
       "\" style=\"display:inline;vertical-align:middle;\" /></a> <a class=\"ProveItLink\" href=\"__pv_it/d3dcf03da8c2c36815794d68b9b1ec17b2f0e33a0/proof.ipynb\" style=\"text-decoration: none\">&#x22A2;&nbsp;</a><a class=\"ProveItLink\" href=\"__pv_it/089f244dc284087b4043ad1b3af83b0c1865d9510/expr.ipynb\"><img src=\"data:image/png;base64,iVBORw0KGgoAAAANSUhEUgAAAYwAAAAaBAMAAABWX3aTAAAAMFBMVEX///8iIiJERESYmJiqqqoQ\n",
       "EBDc3NxmZmYyMjJUVFSIiIi6urp2dnbu7u7MzMwAAAATB9G5AAAAAXRSTlMAQObYZgAAA/VJREFU\n",
       "WMPtmF9IU1EYwL+5ubk/dypYIWQtK6FCGEj0h8D50ENFYD4VEs16iB7CSQ+pFQlRToIa9pcwlCKk\n",
       "h3QWPvTk3ix8WYJUQrh8KYgYVJh/mHX+3p3du3t2l86nPvju7j33nPOd3znf+c53B0DlGxRCBmBt\n",
       "xRspSLev1wzgO7mWxAvSuccv2BAmLb7qEBPkt7NAk1RFrhNauij5OZNnZ3Z/xqMtSJUYICbsqfRb\n",
       "a//Cxd5dpvrd9+dBR3VUVmNQgqH45L07te8nNc/3maoYnpDwthg1v5owxdEE4FiWVWiVYJTg2Twp\n",
       "wfBrCm4I9weRX34AqipGcUCokUTNx0KmAsNPAPdvWQ1LwBhjD8DHt6ncVg5zN0mPSenrRxieAaoq\n",
       "Rqu454bRLNWbCpWuOdT5oqyGw2eMsR4PLQ8MS1AorEcjVhqpqhi7xWbb0ctjpmJJEepjqkoK2miI\n",
       "YS/LE6MFNBhwkynHaBdrLAB8fmxqa5RGwFuZASxMGNld7pQhhiskx5ju1GAM6jDGmXKMatHhF+qe\n",
       "VKDf2dwYyTv7twTYgOj4+A1qfIR0tqxivAlj6VYxivxyjNioBmOrDmMvU47Rg7StHMlG6vBTEfjS\n",
       "ZuzwuGZ5jOwi5QQaa1AMgVhwYwcutS8ZrgbZ/cYY9kC7BqNCh9HAlGNs4G/PUYd3/QIYyXEWRcgu\n",
       "gmEW5HA2443xt6ixgksUY4ziqBRDgUW2huvCYTzN0IwKyYqGEwwjyZRjdAsYyOHBtWgKYwFjsJiG\n",
       "Q5IzIWCQMG//ZwywpTSr0axbDS3GDgEDHxvOJTMY+NiA/qj7OcewgIjxFK/PnGZv9Jh1KiiK5HSq\n",
       "EaYco1fAwMdG0mcGA+8i7w/wlMYZRksGxiF5pMq1xWcCsXy3+DM1TAFcR8ab4mQkM11AL8q8eMMD\n",
       "agnaRaO1cL6Br8bLDAz8ZDU+N0gC5EppDKSfxngmyDHGxS6GMcZlphxjLB38H+J0L0BHYsFHmwUv\n",
       "biW/KU/XdN5GOeQ2dLMTnOHw8fA19HnhrkZSSzG+yk9xNzr+HPfmL1ArqgHVirNO41Sie3Sc6kaQ\n",
       "t4CqmlNlSVNxq6P6jac/3pVUgq3GbEZj/M1UMiBPRojksJI1GSGGy6iqGI6YHgO7ir7YkyWkdMUY\n",
       "xruMxgewi8SlqSE76ORWPulTQ1ZLmxp6G3U9nd38CBR9gjidJcL3BXmkiguN4RL+IpEk6kVsds1Z\n",
       "QVKjedYl6nA3azurvshvFFgwhkvM9wFv2E0mPptMW5nMglXDDAypYCsTn3rhvobGYqX+MqTNexOr\n",
       "8RFrDVIVDNhCK8Ug/b0SCt4jPb3Gf/DQfHTFYhOCyQukV+C/5CN/AUpCRN8+XrQpAAAAAElFTkSu\n",
       "QmCC\n",
       "\" style=\"display:inline;vertical-align:middle;\" /></a></span><br>\n",
       "<span style=\"font-size:20px;\"><a class=\"ProveItLink\" href=\"__pv_it/12634caf7813883a5d964a74d3570c6f9a0d44ff0/expr.ipynb\"><img src=\"data:image/png;base64,iVBORw0KGgoAAAANSUhEUgAAANsAAAAbBAMAAAAHRefHAAAAMFBMVEX///+YmJiqqqpmZmYyMjJE\n",
       "RETu7u5UVFQiIiJ2dnbMzMy6uroQEBCIiIjc3NwAAACK8CUvAAAAAXRSTlMAQObYZgAAApZJREFU\n",
       "SMdjYKA34LuLR5KdatZwWUPoOxvwKGKlnrfS3UAk9y8G+ljH4AoieD8QaR2fAJHGMj3ALj4HRHAe\n",
       "AJGlKBIpX0MSGOb82YBiXSrYqGNoZpRiMbcOU6gU1bpCVNlArgIGtg8MJS4+Li4wT/mBCMYCNHPQ\n",
       "NDLoJABdi2ldIap1aKBiATC5HkAJTEYDfAGoC6HYKuuB1nFeIBSYUCDa0eEAoqvD2BcwNKBYx/GA\n",
       "COsYGOSB1rEdIM66pddgob+czQ3NuhcMRFvH4I3fOrbLYO+zucEjm+nCcjTrLoOI3KuoJkA1ols3\n",
       "mQGbsvvgQAJGPic32IvsDxBpazbjBVTrAkGEAQ9qboBqRLdOBCznAgYGcGXrFwAtBiXRR8wOqJms\n",
       "joE9oQpkHR9cqAmUXB7wK6BYB9WIbp0Gmu8gyhi7GRh2AK1kSOAHh8kakGscINaxFbCgRvhpUKAw\n",
       "7AeZlgJ2thdc4xQXlx4XF3eEdevRrIOaz2rAwO0JYuiDFDE8Rc6oK7kwrWNgmIFmEEQjuu/QrYMo\n",
       "4/IFEjkTgEQ4WJAH2TpGhQAUHU1g0hnNnHCsKXMHUtwVwJW9B0UEMzCK2D5xgvjM8OxZBcTzUK0D\n",
       "JxW2T2hJDqIRa1LBUHYflhG4PzxE8gEQOIEsd4Dx8h1giZvpG6o5MI0I6+6DrLNkwKYMkc0LIek7\n",
       "PRoSFSv+AH3GBreOow0WQKCgQC0LBVCtMz/vDBTxYsCmDLMQ2xnR4YClPFCDFWIcBoRKFXDYNRBZ\n",
       "ZuIAEyBFNFfC+wU4VKShZP4LFFnHBtYex/B+QjBR9WsKvur1A0HtjNDqlf0ycRV6HB7r0BMb7hYb\n",
       "sY0HRhxVVQiYLEmgTwOT9xwkUxTSxTauWjp5CwkAABKbo/36OuH+AAAAAElFTkSuQmCC\n",
       "\" style=\"display:inline;vertical-align:middle;\" /></a> <a class=\"ProveItLink\" href=\"__pv_it/ed5748ba059ad79134b9774be7b7cba9531faf110/proof.ipynb\" style=\"text-decoration: none\">&#x22A2;&nbsp;</a><a class=\"ProveItLink\" href=\"__pv_it/633fc5e7019250a1624107423fe1f4fbd3d082fe0/expr.ipynb\"><img src=\"data:image/png;base64,iVBORw0KGgoAAAANSUhEUgAAAPgAAAAVBAMAAACZJT5kAAAAMFBMVEX///9UVFQQEBCqqqoiIiJm\n",
       "ZmYyMjJERESYmJjc3NyIiIi6urp2dnbu7u7MzMwAAAADGpxCAAAAAXRSTlMAQObYZgAAAnNJREFU\n",
       "SMedlrFrFEEUxt9mL7lbs5NcE1Cw8B8IucIUKQIXsEkRcohaiOAhJI0QYpEiVtckaLdlmnCnIOnC\n",
       "IfbZQhtFXEQjXnPbWIYogogQ8L252d25nbzZSxZ2bm/43vfbnXnzZuAELn9NRbmOi5mdwAf5u3dB\n",
       "7IJs/W6ue0QzN1BqqReb1BzMXPVCa1QqcQIeTmbOpgU9C9d0+AR5vWyBe7tlhacS0eThZOZYfCpV\n",
       "ONbhO3h/W8HmYWBja5L3PHyneNb8jgZfxvsRZc9ra4wm+czDl4vh4kYG9+oA47/p/w9biC6Z6HJw\n",
       "Miu8HmfwKw2Atoz5bovQJX6Dg5NZ7z7v0jvA5l0GL2N6fOqotcvnaSIh+0ozgfvr8mokcDILLdPX\n",
       "GEPBbgYv1QBW4wH7Lj9qSgJTmHJunftyNPNq9/hcD6aRdjODj6HJnKxWEUzy8EQiX+AnB0czAf/4\n",
       "XIMjdDgdhq/K9R/b4ImkEA7umSV13sIQnIZdLl8fbHAlmXwBSqbPeVUbdihXLfA1vN8MJ1ybsumj\n",
       "Fa4k/nSkJ1z+y8msX+PLtKAFqyUcrRv3L8B8NID30Vn8AdWk/5Rkn7JlPOTgZHbktc6J78uaLKfk\n",
       "QQaXX/v1yUxXPZeojC6Bako0hreiTPKUikzMwcnAeaYi0nj5sCJLFcE2cuVVXfJFFs2tKNu6xRmC\n",
       "vxSWVzcyTKRtCUdG1HMbS0KhfnPGfE3RDEfZWHxzukM6f7Tj3MZSTjcz786vDoiOWRS1jLkeWLdU\n",
       "ZdYzUw1t2+EWPh0bhwmtCpkvndufywWHCTNC2TqvqH9bqQ8vdYx6Pijyca57RLPKYGwO/wMUTNvs\n",
       "gxLVAAAAAABJRU5ErkJggg==\n",
       "\" style=\"display:inline;vertical-align:middle;\" /></a></span><br>\n",
       "<span style=\"font-size:20px;\"><a class=\"ProveItLink\" href=\"__pv_it/4930f6fd497f5e94e02746ac39693b7aeb7b26120/expr.ipynb\"><img src=\"data:image/png;base64,iVBORw0KGgoAAAANSUhEUgAAAPUAAAAVBAMAAABs27XUAAAAMFBMVEX///+IiIi6urrc3NxERETM\n",
       "zMwQEBCqqqpUVFQiIiJ2dnYyMjLu7u5mZmaYmJgAAABN0h6tAAAAAXRSTlMAQObYZgAAAt5JREFU\n",
       "SMe9lk1oE0EUx1+b7Ec2s2sOHnqwuAcR7KUr6NWI9uJByKEU9WIQvQlNEQQPYqBYUAQDRSV4cHsp\n",
       "ighBUErS4PYilQiNN7FQKhU8iFi9CDYH581strvbmamIOJDJ7Md7v53/vPdmAMBZg//etHcB/pEm\n",
       "9sdUb175K/8yl4ZHu8FLOHQ28QOOq7yYXvKavBpbBGvyghLNXBqXBU+msVvFzqrRLu/JXKA1aaRu\n",
       "ZtfPAKyop81cOtXU3atU6w4OnkTsrzIPy497tJ9LC3FvoAC6mp1wORVqcfsuZVuFBHtW6sJB9uvw\n",
       "4lO9ziQwDwQ3IadmzwrYAN8om5Tj7ExNzc67bDy+rz/vo9VOoGYnXSbY8DzOHugCjEwfHiqcG3JF\n",
       "bKvLFFvcDr4prRqyJXboEpb2CtnP6G+e+Wlg7AD4YwXy3TXKIrbTSIa76Vnux5Adt3vawtbm4Ui7\n",
       "rr4uYn/BAYu8EkCuAlrlIWR+8YzbwTaYgNl40t0xz/IqIbGjLsHx9lRE7Gu4jFSXcYwJ3QVCfoDR\n",
       "AxOzkrDPb5UitsY8T+DNvgLL8JKHbswu3qhLIDAacDXut1oL2+zzOLpFo/1gib9obIJdA70gmjdn\n",
       "H4nPW/MnwgIgttPdKIt3zBvZecx8/GIUyG5AzodRLxCwB5nmeqLQfQ6XIG7H13uhrzlAW8g+1F9v\n",
       "jHMMDN2HFRdWMxVprNnR3EyqlRXKILFjsUZ+gizW5vtszKGiCzcAmlY6V5Bt+2z8IKqXFVaRyRZI\n",
       "7VhaGr00ez+yP8TzGzWlQgwDXN9IurBntugWmy/xAnuCL4j26CKwslwPZHZ8mexaiv1+sk31ePGH\n",
       "NZW1N+H/yKl6YlsxAnVNzXXT82apUYvYZdVewtuc5L6l3Eu0oFgKL94mrKK9hFWFrKfcihuSB0sK\n",
       "o6xX9E8Ln3Si/Ruau54dpF+2rjw7mMPi5ycxHPjBw1jb7cy08U/PTI4Xntd+A/jY5Lyf4zvjAAAA\n",
       "AElFTkSuQmCC\n",
       "\" style=\"display:inline;vertical-align:middle;\" /></a> <a class=\"ProveItLink\" href=\"__pv_it/229f89c5dbf5528762cfad328c47964f30a4469d0/proof.ipynb\" style=\"text-decoration: none\">&#x22A2;&nbsp;</a><a class=\"ProveItLink\" href=\"__pv_it/9f04e0c2cb99e86b502c042f6eeb83786c503beb0/expr.ipynb\"><img src=\"data:image/png;base64,iVBORw0KGgoAAAANSUhEUgAAAN8AAAAUBAMAAAD/+PVoAAAAMFBMVEX////MzMxUVFR2dna6uroQ\n",
       "EBCqqqqIiIgiIiJmZmYyMjJERETu7u6YmJjc3NwAAACgK8IjAAAAAXRSTlMAQObYZgAAAlZJREFU\n",
       "SMedVkFoE0EUfW2SbdLOxoLg1YKKB6EuvdR6WvDSWwULXgRzKSiIDUWQ4MFFIUjxsNSLFApr6yUe\n",
       "ijcRaVkEUewhOXuwOaknE7AolCD+mTHb7MyS2e3A7rydnXlv5s/fNwuUW8hUrLbelpbjLr/tGRVu\n",
       "xJ+n9S57KSc7yie7TddSOKSXPRV//qx32U6YV1JhAdH5YGcuhhlimqtqU/KB9zO9FGNngSJf5X4W\n",
       "QXZVbREcdhrBD8APZBXES7VBcKQSHHdRMwl+fCCq/MzP++dHZs8SnFO71AyCV6a/r1RPrri0HT52\n",
       "TIJ+QeR8buINmvewRPCLaL/8ipcGhzsGQeddlf1xLdoKO0DdIGi3T1R4faoYoONgn+AttU99uOBI\n",
       "ZRXlX7C7lMoeFg2CDAviZdh0sRziAsHTap/F4YKMHcDqYfQ1aXeNgsAlWS0Dz4HrxxCE1UXJQ6Eq\n",
       "BOtGwYas1oHHyP9lwPzAHm6mCClKAYoOFtoh8p45adhvWV8DRaYUfOsnzUAxJU3BAW3IernCk0bk\n",
       "+MMQ7JCT81szGADg0eegfMAjM+44wDOVUHCM9dSh0VPH5RuylaO1OiI+azcbLTzhq3zEfWOqD56K\n",
       "eHgCUDDGfFgbZCovVEHOUTp3uCFHRBzixmnnxad6+yt9+JPSlsRK9LDeEb7l/wdRjL1EazsaEU+Y\n",
       "GO0nabzSkxM+WEqrsDMpgMm8oxGq1avmjd2+henpQswd560EQ4+n3YERqjOqx1N0eOqHts2PzFpL\n",
       "Ap094QC29Vcx2ol2ht+DI687/i8Gpc0/8zGzUq7Lud4AAAAASUVORK5CYII=\n",
       "\" style=\"display:inline;vertical-align:middle;\" /></a></span><br>\n",
       "<span style=\"font-size:20px;\"><a class=\"ProveItLink\" href=\"__pv_it/a52acd60e9a33c5a7295acbd35b32a60821f7f170/expr.ipynb\"><img src=\"data:image/png;base64,iVBORw0KGgoAAAANSUhEUgAAAVEAAAAbBAMAAAA37KHPAAAAMFBMVEX///+YmJiqqqpmZmYyMjJE\n",
       "RETu7u5UVFQiIiJ2dnbMzMy6uroQEBCIiIjc3NwAAACK8CUvAAAAAXRSTlMAQObYZgAAA6JJREFU\n",
       "WMPVV01oE0EUfvnbzW7SNooe1Z7Eg9UcKkVEiHSt+N+ioijIQqv1YGkKKiiooQeNP2CgHhQUexEV\n",
       "CvYiRBDag3op2ELQk9ooFIoHG4rkIGjdN/uT+dlJSC+ND95ks/Pt975582Z2FuA/suYv1XrTK6wO\n",
       "4+s77OvP49WQ3SuslMTv78I29hsaXinsxqaptHylzQnbWQsWfYE8YksdSh9ho01ie5HpVg4f6wJt\n",
       "eopVGnzP05yxvXfbyco9tRuugR+QNkSoRSm1EJ9SOsQyRRLPAAZBNYy3xi73ZkBYXYeIK2l4Uql1\n",
       "NQF94Ad0bbMJBKGkKvd4aj4+pZQz9XbTDMRrzX4gSTxkQpwh0WacizYK6Kbr8nXTQTyWM/PxRaVr\n",
       "s1kyUvWVeQWitZRGi8TjGVD/MpM3ySmN0pW7wXQQ50VGWXxB6dNP7ph+pPvMmkrnbQ+XQWU3kP2c\n",
       "0nnglBJEWNgepfE9pUqBzJfS5WW/2KanOaUDH3niguNW0soeaqfVjHBKC4JSRGhJjloef5YEsYpZ\n",
       "i00CsxrVoja+jlOajONWoxnESJAexwEmci4q98Zq1nBKewSliAikWOoq8V+OWuPA/el7iDwUqVR0\n",
       "ES6pz/HKezhQbGnlcjrsOMBNkhLcOFvbrXYTp3RYUIqIYIajlscP3AHIW2rBbCGzP4bZSjnIfjjA\n",
       "7nEwYXJKpxyHEEnxYApRfzAF+Pe+Ydw1jD0OULHnYtRRigi9xFFXiR9JQmwvXmwlyDl6THpujBP2\n",
       "AGRKnWLFTTFYdpVSOZ0Scsoodanl8fWDuFdgiR0n/+M0ElZHOGGdUKnTND37wST89AaPPfmas4+I\n",
       "WIalrhJ/AasjZOGVRY1M4oyHtGZJm2OFKot8Tt0V9QLgq3tvsDVX/4pyqOXxZ91dKlb6xo49jGNo\n",
       "96ITymCZVzpie/Othx1eeibwMLKdUzpCPzWLShERssak/KKpJfHpnX/IPuv0n7IXjX7vHUDl9R29\n",
       "AU7yWcvbHl5aWvL61FVWs49Tmqce6pjuTNiIMC7mrElRS+L7vU1fn8imfF5GG4nepORtKpiSqfY2\n",
       "9RDnSDpNmloSv8oJhTNrmnRzYVRyQhHMO6GcFU8oFIKcUDR/6mUqVSzehdwRseO045z1+QJ5hH3q\n",
       "G5BQ+ykt1VQawPorJAAkJ+laukQQIiKkJBISah+l4pKu47PW9+skUPPrhCDW1xHoKGkvmA3/od/0\n",
       "gfzEhhpdqH618ZNJ2T9LNgvGJxAkuwAAAABJRU5ErkJggg==\n",
       "\" style=\"display:inline;vertical-align:middle;\" /></a> <a class=\"ProveItLink\" href=\"__pv_it/cb6fc3d3ff0f8fe483c6a9e96b376bc30d3e80820/proof.ipynb\" style=\"text-decoration: none\">&#x22A2;&nbsp;</a><a class=\"ProveItLink\" href=\"__pv_it/9312c8e28ec0a86f47a0f59312b135358ab57e000/expr.ipynb\"><img src=\"data:image/png;base64,iVBORw0KGgoAAAANSUhEUgAAAbAAAAAaBAMAAAAkkBQlAAAAMFBMVEX///8iIiJERESYmJiqqqoQ\n",
       "EBDc3NxmZmYyMjJUVFSIiIi6urp2dnbu7u7MzMwAAAATB9G5AAAAAXRSTlMAQObYZgAABGVJREFU\n",
       "WMPNmF9IFEEcx3/XnXee3p4KQQiJf/qHRXAQQUWgPkSEWGYvRUjnUwTFXUGU/UEhSiuoQyMrDMUQ\n",
       "6SE9Cx98cqOHAokuwQpfvHwxiLj+UWlYzW9m925273ZmUx9u4HaH2Znvzmfn92fmAFj5CNlR8pZZ\n",
       "zx/JErD8ZZvIJ3rNjWUJGDxjH9o8H3/sf7HG6f1ctnCBgxL4oqZm1uAOSMe7gvQ2zsDcC6knzp65\n",
       "Mx2bbE1i+9+u5oqovN9UZXPguLiL0tfV6VbRycICsAkpViPc5sF8Ye5hThlAS9wWWQOA5488IBwA\n",
       "2H1A3Kc/AK7TuB7uzwKwK+S3S2SUzgi848FyqrmHCaI/FrYVcr4Rb/8p66WUk6l4fgj7TJSQSwu1\n",
       "opXWYM4wKN09Em/z9XJgIb7zENGv6rUVm8lsnfOyXrmNGO3qhX0u4wRGaPWUNZgDyaskYEo9B7aV\n",
       "f7KOPNxvKwitIBqTJbJeLWgOfqEJeL7jdZYZpTVYE9gAg+sc2Fn+wRzA+/u2XKwgAv5iw3uCqaru\n",
       "pe4v9DsGRUKhQry+ofWxmCXYgAxsqo9cnnNgFbzjzG3pQzufkYMlOneUV+uBjL5er5DBtXrbfKrN\n",
       "qrzSLB+VEvEk2It2LG1JsDUysHAOiQ/bOLCr5HeyiJTVzHEmIzB70tpwsGeRSr1ROUQ+RXI1bmt3\n",
       "HOzRWh1/Um1WpVRbXlQKRS1XbKUEzBksIN+5hgNbpT86xhwnj9j8sHi13BHqjTCkBVTcCvlV/SkZ\n",
       "rGiboxyaIxWh4BE6WTbjaWuwwxIwhdpxggNr48CI40DevC2wOQTTrIgkP/DGOTCadHDFaGLaKxQs\n",
       "pcmVjQ4tHgzgKRjBKjkwTGPe33bAMI1BTzT/oQ7mAB7sgWa4NIOpQkGawXxAlRJBk49dtW2KbIWG\n",
       "ObAODgzTWKLMDhh6o/8r+ApiGliTAWyP1hGDhy8mFAzhsr9kSoKoKA0eCqYNPnj0J0MiyZUkmzaw\n",
       "eUy3Arsov/iKHs5ziTeObIYTNfqKPTaAPdYE9pHd0kXN73C4UYx2cZG13x1jSlut8xgN5EMxSxlw\n",
       "oT9f4MDGUl/hDm5sq9k8HJh8HRgEivVKUaqn9ybZLa8llY3gbW8/2H4JRiG/gpTNDOyDJqCcunte\n",
       "h6XDiw2qNMG/reyKUiXhzgMVmo+0BSxlPJgPb/B7xQxbdFSpS98+pxuCshDXVmzGMHjUJDCceXid\n",
       "SemaZEsFAhkHyYNKIQfmUdPBapjLm1+Q4ajQqmpgrw2Dd5oEajIPV41KyoJwE2w5CxUPo6G4aRPs\n",
       "T9+iHi29B0r6Vngqg8d2B/WoGOMGA7E/XoC2pQ/nu6CSMyI4tqy3nAXKhNQNpGY4tsCtzJk8vcny\n",
       "CItgefzpB1ozCASk73DEbRw0M8t4BwJJ+HEYpPd3Sz7SlyUvul0FFqWzk20azQdd1mDjrwEn88NB\n",
       "fRbhpYJRvSdcw9tFybjLlvk/lNplUXFxh5NHi1LwZM3fZdla/gEodGjhsbXDBAAAAABJRU5ErkJg\n",
       "gg==\n",
       "\" style=\"display:inline;vertical-align:middle;\" /></a></span><br>\n",
       "<span style=\"font-size:20px;\"><a class=\"ProveItLink\" href=\"__pv_it/51805bddb24e6f6c8ae285a6b58f903f699c28f80/expr.ipynb\"><img src=\"data:image/png;base64,iVBORw0KGgoAAAANSUhEUgAAAFEAAAAbBAMAAAD2Yn4PAAAAMFBMVEX///+YmJiqqqpmZmYyMjJE\n",
       "RETu7u5UVFQiIiJ2dnbMzMy6uroQEBCIiIjc3NwAAACK8CUvAAAAAXRSTlMAQObYZgAAAVJJREFU\n",
       "OMtjYCAB8N3FJ1sAxFzWEPadDfhUBoCIdDcQyf2LgaBKBlcQwfuBCJVzQATnARBZiiLN5h/qxsB5\n",
       "/jQ2lYWoJrEKLGdgyGdgd3E54uKIqhINsHfxXmDgwWo7FIh2dDiAVW5NqGLgwKNy6TWYma8KUhKw\n",
       "qWS7fAHsETe47Q90uQqQVN4HERzAWODkPgCRR6jk3CCLpHL9AqA5oPB5xAx2HSvCRw8YythXgFgQ\n",
       "zYzdDAw7gKoZEvjBtq9xAQIHqMp0Bh/kYDNg4PYEMfQTQORTZDO5JqxBKOTyBRI5E4BEOJjPg6yS\n",
       "QQjhGIb3CkCCuQHo2E+cID7zBbhKoJs4EVZA/A4KJe4PD8ECTTAZFpAZJgiViJAvFAALpEcnQJzV\n",
       "fxRIpmBTCQM7IyCxiQ5wpxBKVX4gViXTNyJUhoDJkgSCCnnPgSnuQkIKuWoTSClAAF9+VoMs3T0j\n",
       "AAAAAElFTkSuQmCC\n",
       "\" style=\"display:inline;vertical-align:middle;\" /></a> <a class=\"ProveItLink\" href=\"__pv_it/d3dcf03da8c2c36815794d68b9b1ec17b2f0e33a0/proof.ipynb\" style=\"text-decoration: none\">&#x22A2;&nbsp;</a><a class=\"ProveItLink\" href=\"__pv_it/089f244dc284087b4043ad1b3af83b0c1865d9510/expr.ipynb\"><img src=\"data:image/png;base64,iVBORw0KGgoAAAANSUhEUgAAAYwAAAAaBAMAAABWX3aTAAAAMFBMVEX///8iIiJERESYmJiqqqoQ\n",
       "EBDc3NxmZmYyMjJUVFSIiIi6urp2dnbu7u7MzMwAAAATB9G5AAAAAXRSTlMAQObYZgAAA/VJREFU\n",
       "WMPtmF9IU1EYwL+5ubk/dypYIWQtK6FCGEj0h8D50ENFYD4VEs16iB7CSQ+pFQlRToIa9pcwlCKk\n",
       "h3QWPvTk3ix8WYJUQrh8KYgYVJh/mHX+3p3du3t2l86nPvju7j33nPOd3znf+c53B0DlGxRCBmBt\n",
       "xRspSLev1wzgO7mWxAvSuccv2BAmLb7qEBPkt7NAk1RFrhNauij5OZNnZ3Z/xqMtSJUYICbsqfRb\n",
       "a//Cxd5dpvrd9+dBR3VUVmNQgqH45L07te8nNc/3maoYnpDwthg1v5owxdEE4FiWVWiVYJTg2Twp\n",
       "wfBrCm4I9weRX34AqipGcUCokUTNx0KmAsNPAPdvWQ1LwBhjD8DHt6ncVg5zN0mPSenrRxieAaoq\n",
       "Rqu454bRLNWbCpWuOdT5oqyGw2eMsR4PLQ8MS1AorEcjVhqpqhi7xWbb0ctjpmJJEepjqkoK2miI\n",
       "YS/LE6MFNBhwkynHaBdrLAB8fmxqa5RGwFuZASxMGNld7pQhhiskx5ju1GAM6jDGmXKMatHhF+qe\n",
       "VKDf2dwYyTv7twTYgOj4+A1qfIR0tqxivAlj6VYxivxyjNioBmOrDmMvU47Rg7StHMlG6vBTEfjS\n",
       "ZuzwuGZ5jOwi5QQaa1AMgVhwYwcutS8ZrgbZ/cYY9kC7BqNCh9HAlGNs4G/PUYd3/QIYyXEWRcgu\n",
       "gmEW5HA2443xt6ixgksUY4ziqBRDgUW2huvCYTzN0IwKyYqGEwwjyZRjdAsYyOHBtWgKYwFjsJiG\n",
       "Q5IzIWCQMG//ZwywpTSr0axbDS3GDgEDHxvOJTMY+NiA/qj7OcewgIjxFK/PnGZv9Jh1KiiK5HSq\n",
       "EaYco1fAwMdG0mcGA+8i7w/wlMYZRksGxiF5pMq1xWcCsXy3+DM1TAFcR8ab4mQkM11AL8q8eMMD\n",
       "agnaRaO1cL6Br8bLDAz8ZDU+N0gC5EppDKSfxngmyDHGxS6GMcZlphxjLB38H+J0L0BHYsFHmwUv\n",
       "biW/KU/XdN5GOeQ2dLMTnOHw8fA19HnhrkZSSzG+yk9xNzr+HPfmL1ArqgHVirNO41Sie3Sc6kaQ\n",
       "t4CqmlNlSVNxq6P6jac/3pVUgq3GbEZj/M1UMiBPRojksJI1GSGGy6iqGI6YHgO7ir7YkyWkdMUY\n",
       "xruMxgewi8SlqSE76ORWPulTQ1ZLmxp6G3U9nd38CBR9gjidJcL3BXmkiguN4RL+IpEk6kVsds1Z\n",
       "QVKjedYl6nA3azurvshvFFgwhkvM9wFv2E0mPptMW5nMglXDDAypYCsTn3rhvobGYqX+MqTNexOr\n",
       "8RFrDVIVDNhCK8Ug/b0SCt4jPb3Gf/DQfHTFYhOCyQukV+C/5CN/AUpCRN8+XrQpAAAAAElFTkSu\n",
       "QmCC\n",
       "\" style=\"display:inline;vertical-align:middle;\" /></a></span><br>\n",
       "<span style=\"font-size:20px;\"><a class=\"ProveItLink\" href=\"__pv_it/12634caf7813883a5d964a74d3570c6f9a0d44ff0/expr.ipynb\"><img src=\"data:image/png;base64,iVBORw0KGgoAAAANSUhEUgAAANsAAAAbBAMAAAAHRefHAAAAMFBMVEX///+YmJiqqqpmZmYyMjJE\n",
       "RETu7u5UVFQiIiJ2dnbMzMy6uroQEBCIiIjc3NwAAACK8CUvAAAAAXRSTlMAQObYZgAAApZJREFU\n",
       "SMdjYKA34LuLR5KdatZwWUPoOxvwKGKlnrfS3UAk9y8G+ljH4AoieD8QaR2fAJHGMj3ALj4HRHAe\n",
       "AJGlKBIpX0MSGOb82YBiXSrYqGNoZpRiMbcOU6gU1bpCVNlArgIGtg8MJS4+Li4wT/mBCMYCNHPQ\n",
       "NDLoJABdi2ldIap1aKBiATC5HkAJTEYDfAGoC6HYKuuB1nFeIBSYUCDa0eEAoqvD2BcwNKBYx/GA\n",
       "COsYGOSB1rEdIM66pddgob+czQ3NuhcMRFvH4I3fOrbLYO+zucEjm+nCcjTrLoOI3KuoJkA1ols3\n",
       "mQGbsvvgQAJGPic32IvsDxBpazbjBVTrAkGEAQ9qboBqRLdOBCznAgYGcGXrFwAtBiXRR8wOqJms\n",
       "joE9oQpkHR9cqAmUXB7wK6BYB9WIbp0Gmu8gyhi7GRh2AK1kSOAHh8kakGscINaxFbCgRvhpUKAw\n",
       "7AeZlgJ2thdc4xQXlx4XF3eEdevRrIOaz2rAwO0JYuiDFDE8Rc6oK7kwrWNgmIFmEEQjuu/QrYMo\n",
       "4/IFEjkTgEQ4WJAH2TpGhQAUHU1g0hnNnHCsKXMHUtwVwJW9B0UEMzCK2D5xgvjM8OxZBcTzUK0D\n",
       "JxW2T2hJDqIRa1LBUHYflhG4PzxE8gEQOIEsd4Dx8h1giZvpG6o5MI0I6+6DrLNkwKYMkc0LIek7\n",
       "PRoSFSv+AH3GBreOow0WQKCgQC0LBVCtMz/vDBTxYsCmDLMQ2xnR4YClPFCDFWIcBoRKFXDYNRBZ\n",
       "ZuIAEyBFNFfC+wU4VKShZP4LFFnHBtYex/B+QjBR9WsKvur1A0HtjNDqlf0ycRV6HB7r0BMb7hYb\n",
       "sY0HRhxVVQiYLEmgTwOT9xwkUxTSxTauWjp5CwkAABKbo/36OuH+AAAAAElFTkSuQmCC\n",
       "\" style=\"display:inline;vertical-align:middle;\" /></a> <a class=\"ProveItLink\" href=\"__pv_it/ed5748ba059ad79134b9774be7b7cba9531faf110/proof.ipynb\" style=\"text-decoration: none\">&#x22A2;&nbsp;</a><a class=\"ProveItLink\" href=\"__pv_it/633fc5e7019250a1624107423fe1f4fbd3d082fe0/expr.ipynb\"><img src=\"data:image/png;base64,iVBORw0KGgoAAAANSUhEUgAAAPgAAAAVBAMAAACZJT5kAAAAMFBMVEX///9UVFQQEBCqqqoiIiJm\n",
       "ZmYyMjJERESYmJjc3NyIiIi6urp2dnbu7u7MzMwAAAADGpxCAAAAAXRSTlMAQObYZgAAAnNJREFU\n",
       "SMedlrFrFEEUxt9mL7lbs5NcE1Cw8B8IucIUKQIXsEkRcohaiOAhJI0QYpEiVtckaLdlmnCnIOnC\n",
       "IfbZQhtFXEQjXnPbWIYogogQ8L252d25nbzZSxZ2bm/43vfbnXnzZuAELn9NRbmOi5mdwAf5u3dB\n",
       "7IJs/W6ue0QzN1BqqReb1BzMXPVCa1QqcQIeTmbOpgU9C9d0+AR5vWyBe7tlhacS0eThZOZYfCpV\n",
       "ONbhO3h/W8HmYWBja5L3PHyneNb8jgZfxvsRZc9ra4wm+czDl4vh4kYG9+oA47/p/w9biC6Z6HJw\n",
       "Miu8HmfwKw2Atoz5bovQJX6Dg5NZ7z7v0jvA5l0GL2N6fOqotcvnaSIh+0ozgfvr8mokcDILLdPX\n",
       "GEPBbgYv1QBW4wH7Lj9qSgJTmHJunftyNPNq9/hcD6aRdjODj6HJnKxWEUzy8EQiX+AnB0czAf/4\n",
       "XIMjdDgdhq/K9R/b4ImkEA7umSV13sIQnIZdLl8fbHAlmXwBSqbPeVUbdihXLfA1vN8MJ1ybsumj\n",
       "Fa4k/nSkJ1z+y8msX+PLtKAFqyUcrRv3L8B8NID30Vn8AdWk/5Rkn7JlPOTgZHbktc6J78uaLKfk\n",
       "QQaXX/v1yUxXPZeojC6Bako0hreiTPKUikzMwcnAeaYi0nj5sCJLFcE2cuVVXfJFFs2tKNu6xRmC\n",
       "vxSWVzcyTKRtCUdG1HMbS0KhfnPGfE3RDEfZWHxzukM6f7Tj3MZSTjcz786vDoiOWRS1jLkeWLdU\n",
       "ZdYzUw1t2+EWPh0bhwmtCpkvndufywWHCTNC2TqvqH9bqQ8vdYx6Pijyca57RLPKYGwO/wMUTNvs\n",
       "gxLVAAAAAABJRU5ErkJggg==\n",
       "\" style=\"display:inline;vertical-align:middle;\" /></a></span>"
      ],
      "text/plain": [
       "<proveit.magics.HTML_DisplayObjects at 0x7f5b8dd8ea20>"
      ]
     },
     "execution_count": 44,
     "metadata": {},
     "output_type": "execute_result"
    }
   ],
   "source": [
    "requirements"
   ]
  },
  {
   "cell_type": "markdown",
   "metadata": {},
   "source": [
    "Notice how the inner $\\forall_{A_i, .., A_j}$ masks a certain range of the $A$ variables and remains unchanged.  If we turn on the `allow_relabeling` flag, we can propagate changes as long as the replacement yields proper parameters.  In this case, it does:"
   ]
  },
  {
   "cell_type": "code",
   "execution_count": 45,
   "metadata": {},
   "outputs": [
    {
     "data": {
      "text/html": [
       "<a class=\"ProveItLink\" href=\"__pv_it/d4c54884cfbdcf98e8bfbdedd8af59e81be0692e0/expr.ipynb\"><img src=\"data:image/png;base64,iVBORw0KGgoAAAANSUhEUgAAAsUAAAAXBAMAAAARjC8mAAAAMFBMVEX////MzMxUVFR2dna6uroQ\n",
       "EBCqqqqIiIgiIiJmZmYyMjJERETu7u6YmJjc3NwAAACgK8IjAAAAAXRSTlMAQObYZgAAB11JREFU\n",
       "WMPlWW2IlFUUPu/OODM7887MYoiYlJsJtpW6xKAIZYMgbliwRL/8qCn64RbYEIRlmouVJG26qIVi\n",
       "4AhFKKWbYG6s5lRYq2s65A9JI4eCsNUwV8l0Nbvnfr33640ZTH/YhbnvO3fuec45z/04594ByFTA\n",
       "URZBjcUt7i6L4EaUJVvq6v77daiKVQGOv1EXIPV5IPj+/bWWtX15+tpQrVGtW9xdbNBvd66t/FK7\n",
       "j/6rLZMyrUZjLol1usax9nvCcP6lSDMnoz4HIIBX0pvTU4bH903mPm9XfpgH0HiOSQqREK4z4sUt\n",
       "HuKfCRpfANCxwAY1irThpQrE3q0YvXORAqmT5droSlYNHI/WTVZHpT0w82DAcVUFJI8/ZHcmmSXO\n",
       "nixQn9PdCuxVgOgl9j6Nt20NMZWLhYm7iwHq9xJiGv+2QM0ibBjoItXmqtE7l8GZdLrGKfmDidOA\n",
       "vKSL9qKT7YqZkaLkeKsCSMrxK1jfhdUx2jCOdG1spz4nlIkaJzjpi+x9P+et1z0/xnaxZ5i4uxig\n",
       "yfmkirZboOaMEjZ8iM9ZZu8cfEzqqTVyvNrE8ZrRDdvLoF0x028XHEujVrPp0kHHYCRWzK7lZIyi\n",
       "V6nPpxTYFEHYzy1P8n15dtFp6oTF7BkmHjL7ddDNuMi9bgvUnFG8e+OfWI8xe+fg6KFDhztrDNGd\n",
       "Fg7udo84usp21cwPBMfCqAxTnI5fEBtHlPXchz+epz6/oqBmm8FbwYcnwnoehE73zppgL2Hi7qKD\n",
       "Zv6iUFUL1CjChrP0cdjsnYNsX19vjREs3m3iQAf5fOHoKto1M6cLjoVRcebSo7GrNPEg31Ks5zBO\n",
       "/iHq814FddykY70FERdZfJrqXoSRQoR1DBO3AmaTDRq5GAJqFGHDw0Vn7xxunaka86BUxcQBMlRe\n",
       "j6OraNfMPC44FkalaOj08x7rRYgfy/YS/B4/T31eSdbOW1jIRFheBf9xjhzr5DKD4NSfYXQ5xONy\n",
       "8Ufk1gnwLFigiXPBzxqoUYQNa5pAmTqydw5XJwZ8ONHS+potnt65Li5HIFEIcDiz8SI0uDJO0S7N\n",
       "xDW7UHAsjErQgY5ChgV7sn9NYNIo1XCB+vyE2KjIFr8Lt+qCtxGZ8GguQuJqQ5ND/zEeQh3i4EmH\n",
       "JvPnmA1kJKoW6Again36swZqcCRseIruQ2WuQPbOocPLyMtgEQba7R34I/B3yW8j8hKH+UkM6GQj\n",
       "ZO2HvF2YCXfiWuUcS6NG0OEZuXHtMBXqFwlqCl3NtlOfVZKGkKQiRAOOSVyl8dUsXTyEusRpQSFP\n",
       "7pFtxMZmCzRBvz1Nf9ZAjTUjbFhDl0KTaQLx+SFcoxkyadL2oj9LSDihcSxwojzUvBeSlPB2aSYo\n",
       "HEujGMekmsvistjBsmjJyQr1eWVAEua3MCXPdDMDOoxThjhTdovc2yFOS4/IMAXHFEYHZSlnq+A4\n",
       "ALVjD7WBZrQRywTi8yD6myBInp0FvU4+o0HdKwSO4HjQHddFuzSTe5LTjKJ7RYx83mQ8iEiM6bE/\n",
       "j/m8NyAJ81tvmOtm4Wk7h3MclmLdaswLxKMvCo6DLAFJXGaBZjAsRMqC4wDUzqGoDWeRwAe5gqA3\n",
       "8Tn1Mxna5QTJt9KaOK70Q1rM4ziS49Qd7vyUtwszZzcrMU8aRWPer+Szgwl9yk4gND0+WGI+Tw8C\n",
       "f5LsHrP2cN2NrSIqYB7uXwZeHSmJINXFcxlDPJItc45PaRw/Y4HCC+RI+z4IjiUoVYEVVRh0x/So\n",
       "o8wVBCYQn2O4o7/NdN1v7DRs90gq2SPHkRx797CRkSqPlLR2bmYrjtY6xnFgFALSHHkfW4Ij+QGB\n",
       "UB5dBczntiDV3zG08b7PxIpO4kKncTWOo7kCeJXA0ZzAQyg4xM8sFPN4jsbxHBvU3zR+fQAiQakK\n",
       "Wq3QusOBnS15oSAwAX3GqXaeotw2X+c4yxa5z79S3xiO5Fgci6XKRLN+5KdmZr7B7luYvsAoAuLv\n",
       "u1yG56+tUk/4915rGf85ZZ34nLB3QKq7n6Uk7vuSvLz6cIjvhoZt2+Zu+wRmQrSPlD2MxNvDQdsM\n",
       "UN0aq/tuvTf6/CPfeL8TJ9lgHhOO/Yp+llb9xHImJJnW21NFmmtQfYpRq400xtyt+vVLHVX3tNpy\n",
       "elvcv9LE5/FYjcSZ4aBtdV3iMgXK3SZ/bmKRyeC4sQfjW2wx6Fc4Gse1lSNfandCDsDQezD7GIkn\n",
       "Bb9Uo2ZLPFZq5Rz3yzZc3UfDQRfWd1FeanVynKjA11XK8elyZo+o4B3wZ0BMXkgoB8JYfRw/F9Hu\n",
       "Nh2Aofe5A1bSvmGoWPPZ1Bb3766KvEIsm9/WTARYH2oO/bmOeXx31ckxPLBuKYuDowrekzCqilUB\n",
       "Ii3Tysrhxu/R/KyjfDWDzSj3HX3o4b0a+mfRT9f5XxMqjmu3D6U6QOsqL28xj0cQKC6IM1v+v/iv\n",
       "KU0IW1Lff003xmfJMagjHKvATSmjLxXo325cq3ibWIZbrlDfHlMaDtxE5WnH261aYsrGuRT+t+Uf\n",
       "xlxIl9LVhhkAAAAASUVORK5CYII=\n",
       "\" style=\"display:inline;vertical-align:middle;\" /></a>"
      ],
      "text/plain": [
       "[not](B_{1}) and ..[not](B_{_a}).. and [not](B_{i + (-1)}) and C_{1} and ..C_{_a}.. and C_{i} and [forall_{C_{1}, ..C_{_a}.., C_{i}} (C_{1} or ..C_{_a}.. or C_{i})] and (A or D)"
      ]
     },
     "execution_count": 45,
     "metadata": {},
     "output_type": "execute_result"
    }
   ],
   "source": [
    "partially_masked_lambda.apply(*operands, assumptions=assumptions,\n",
    "                              equiv_alt_expansions={alt_A_form1:operands, alt_A_form2:operands},\n",
    "                             allow_relabeling=True)"
   ]
  },
  {
   "cell_type": "markdown",
   "metadata": {},
   "source": [
    "But of we change our `operands` such that it does not provide proper relabeling, then no relabeling will occur either way (whether `allow_relabeling` on or off)."
   ]
  },
  {
   "cell_type": "code",
   "execution_count": 46,
   "metadata": {},
   "outputs": [
    {
     "data": {
      "text/html": [
       "<strong id=\"operands\">operands:</strong> <a class=\"ProveItLink\" href=\"__pv_it/2b677aa4ab95101d47c1a319d138be7832aec8310/expr.ipynb\"><img src=\"data:image/png;base64,iVBORw0KGgoAAAANSUhEUgAAAV0AAAAUBAMAAADchvOUAAAAMFBMVEX////MzMxUVFR2dna6uroQ\n",
       "EBCqqqqIiIgiIiJmZmYyMjJERETu7u6YmJjc3NwAAACgK8IjAAAAAXRSTlMAQObYZgAAA3hJREFU\n",
       "SMfVV01oE0EU/rZJkzTZbEtPimCjCKJVmpt4kVzEgkJFPIi1UG9Wi+Ym4qGhYqlQMASFFsXm4sWD\n",
       "jUWlUGujEFvw0NBLQVCDgujJGmqr/bHOm8n+JLvbnWsHdnby5nvffDP75s0E0IrYLuUqVe/N3/Ob\n",
       "BzKTCRnPaFt5pPX5lpCZ8Uzxq5QMG1LJ1iDmN8dbx0uoK7H2U4u9E2j4JTVGfQ4YbdoCEOwCerpk\n",
       "qOzI8CLVnF0RllW2RMtQ2Tyiacu8NgD/Xym9LSyKOtLu/epEns39nwSTA/LDOtV7qFoQwlZYdR84\n",
       "AoRKlpkyr+iKlN4+5vY56d4fvsAq/2kJJjtS7eHqm6kaEsLoo3cUUQC+W4AR5lUYktL7gtGey7v3\n",
       "j3bTsqQlmOzIaHCJT4QtiV/YIxQgP+MIJ3DDAmyMQenPS+ktAzsOuXdrf/hClbyJHJCnAhv0CjCt\n",
       "EWFvzNH6xuBLY8oalIcXJthslZznKEr5480B9jZmW+Pj06NqlxeTgTSo1IQibCnDvYUiry+OaBZs\n",
       "1IZBKnEelOoZKCMpV/ZhQt4SkV6IAbt1ubpPhStUyTI7h12papAGFfzQxJ6/Duyr7BbKFW0JBFI4\n",
       "q3+XGA9K9HXDn9p6Sb6ISA8uW2xVPlqsnu9wFWj3iAYTaZTmkcwab8zyBEZlmqrfbFkWq/SWSW9S\n",
       "Ri+LdARX3PWGeAa9KKHXQBqFHVjnxRfo9nULE+mPbnC9A6ZeSr+06hJ6Kf3WLeFEzEWvyKdxCb06\n",
       "0qAKsOe26MyGYKbfQo6PMmXqpaBU1iCjl9JvSw7xdRe9Go3gy0vo1ZEG1Tf2jInmswUY6Vd9Qmuc\n",
       "xVHdtQlhFpTHX4mx51jkqOwU5A3zFypn5GOG6sxr71JWvXNZk+taEYGH4HoNGt4wSauQRMW7NKKc\n",
       "Fmmsecg8n9spEzfELQtQN8buMC8rY4cI2s+eUEyvBs3MfJAuRiy2IkmcnGQlb/roSenB3nsQerkj\n",
       "ZyA+QWpHMioCqtOreVzZvCN0pnVhmdZH3NBUdR5bv22vzRywnyRzbzx8uF4Hx15HqlqgVus4W33f\n",
       "0YWlxF6pzex2NZd9Hj645OwYd6TyeR0u7L6D17Y9MFxOQrXfZWbs/m+Pefj8uLvfydEBSVQzXle5\n",
       "bPV93XrnsJs8/4dEXexFWaTXCPw2sY3+D30C/gMd7xMQSJSzvQAAAABJRU5ErkJggg==\n",
       "\" style=\"display:inline;vertical-align:middle;\" /></a><br>"
      ],
      "text/plain": [
       "operands: ([not](B_{1}), ..[not](B_{k}).., [not](B_{i - 1}), [not](C_{1}), ..[not](C_{k}).., [not](C_{i}), A or D)"
      ]
     },
     "execution_count": 46,
     "metadata": {},
     "output_type": "execute_result"
    }
   ],
   "source": [
    "operands = ExprTuple(ExprRange(k, Not(IndexedVar(B, k)), one, subtract(i, one)), \n",
    "                     ExprRange(k, Not(IndexedVar(C, k)), one, i), Or(A, D))"
   ]
  },
  {
   "cell_type": "code",
   "execution_count": 47,
   "metadata": {},
   "outputs": [
    {
     "data": {
      "text/html": [
       "<a class=\"ProveItLink\" href=\"__pv_it/5e08cb2efbf6b8afd524004a60bcb2cf3c34338b0/expr.ipynb\"><img src=\"data:image/png;base64,iVBORw0KGgoAAAANSUhEUgAAAsgAAAAZBAMAAADeeMXmAAAAMFBMVEX////MzMxUVFR2dna6uroQ\n",
       "EBCqqqqIiIgiIiJmZmYyMjJERETu7u6YmJjc3NwAAACgK8IjAAAAAXRSTlMAQObYZgAAB+9JREFU\n",
       "aN7lWn2IVFUUv29nnO95iiF9WDnVQuqWDgWJ9MH8E25fuER/RGZMEKRFNn8VUrGDkqyw2bCW7JK4\n",
       "BvmHIrpJhbC6O0mrm0oOCkmSOkwktWbqYq1f63bPufe+e97HvJnVWKEueH1zveec3/29c8859z4Z\n",
       "+y+0mW3lCbUXbFvJ/nctP+EWK+Obbpa8RpfVkDpTv4FQuZa1UHn8EG0y4yX5zI3wu8xJ8pnayz+g\n",
       "fx8em9XRm8HHBv91J3qsx+Tc4a6mr/wmzyHPxBrbt6Oj9ItrhkfzFJpjIzmGUEr10STRGxvHRe4d\n",
       "8m+kplJb2+GxHU07ygLoNjK+iLHoeSGJIqaHV2EfI+9gEjfSPcUH3X7shQSxFl7M2NLFrhm25iNE\n",
       "ZfIskAVUxfrokuhj59QAojdc8wz9j7xtV6RuVCSbbm1U02X+2v9GoMkCUTrKY/ol8TwPBQtugDj0\n",
       "ExmZwf1nYcFnTYEc9JvR1/S8xE5OSfSac4a9+QhRmTwzwZ1O1+mTEv2xq2rgHuiOuuY1AGXJnNyx\n",
       "29UrnKdItnEhtBFNxgjvPkWgEeI/YY4+OSKeB6Cb3u4yLIbWkJFWruFkzm93toBJoIdai70MabrF\n",
       "OcPuSj5CVIbH5K38r0fqJFmgTyy9pgamQudeq5EC6xLV3m4FY0CRTLmQ2oimMMSEhSUA+htRGue4\n",
       "B6StGMTmxnddhnHIpJnma27hRd+N+gV4xQJ4D8RaN2xwo+CcYXclPyEiw+EcOXjwhzrzn0SfDF+g\n",
       "8SPosRkhTj0ln0utGaapqTi5kNqIpjjEj7NpALqc6JycYsYKSVegANEn4vJKHApTQMOM3faA76rm\n",
       "YwgFMNqaeRHVlZ0zHNHcR4jI8G5yb+/OdH0kS/TPhkatCoCPxD1SwlL+p0+WxsW3VVoFaipOLqQ2\n",
       "omkyRLCFKQC6m0bXB4/uzKqigYf3QDaQdcZXHIqTNG4MH39vlUduJKnjGG5l2MzaWmCEiugZtuYr\n",
       "RGTyGD/jdZ5IBPpExhihNeB0j5mcREPWUd+xGTlCTcXBhaVNa8L5rWkAyvmJtkFLY3RNPC/1hvJg\n",
       "w9zoMgtDEa68E4RWikA+kKL+phyK6wnhFluCxod4r61Fzqsgb5/hOGRUEVpul8njHhX1hjfVfXQN\n",
       "6DlBZl6ytgnf941ePp9jDTJIZNhZcNnYFEFNxcaFpY1qaoW0OTcDQF9Q7pfC6Mpas0YXbEHjHGbJ\n",
       "exxmxdCkjD74QCAP80rlbkbrSNAAejbgO8UcDblaW5uEyTjBbu+0z6CtqhAaIzJ5/PMBzjqZ8WAr\n",
       "eYH8EOindnVcYQr2oKxZncExL98cM2Z1zUXfk9RUHFxIbVRTP3R/IVBK8jCQnGNBRXK7zJakiSFK\n",
       "Mg/kLCw3XgN0t1gnfK5nj6SQ52jI1dpaBMvKVxlrts+wbZuqQg4ZAPy4CM+Jbq8TyfejLpJ595I1\n",
       "FHUHRmzrVAgLcjH1GhTJlAtLm9YEpCdHEegqTTKUyeDfSDLvIIjH7JtPDkWymmQokxuko8StUlGR\n",
       "jPLNIoVsY8SaKHbTkmQ9w5l3vIUcMgB4SLyiwKBXyf7Yame4AJf8UKcRd4rHNqSSMReJtJB1Vexc\n",
       "aG2WJozRAz0IdLcmGaKrcUUogegOBIUKrrMSH7ISX0WUyTN62IKUIjlPSQ6XRIraJjjT1kzAEChK\n",
       "kvUMZwXlKYTGiAyYjFfQpW6N97i5MnK9zsR3SpzhFsjN8+VR7xx5l8h2ZlYc6fat04mPcnFKnwiV\n",
       "JiiTE1vE4ubro2WMv6ond0mSo2mRktrZIa4zwY+I8CCHAgVdPWziAouKLH1VkmzaSA7BItaKXMo3\n",
       "N7HGK6LQeiZJtmYoQ9BVF0JjWiuSHMLgzlJR/sMZXxtYJ7ntAPSIsr8sNEFMFccDulZc30xR0UKp\n",
       "Huc+WHhaUAMkEy6UNqIJ30lzQSyuWSPZPtzV9I0kB9Joo8iWEeBpBSwnpYaCuqKdDZdKWWbuzUuS\n",
       "gz2UZPz1ucjRPFc3k6Ty2b2fMEWyniENQVdVSBjTMmLzYF5IZsN8cc6j0Y+sld4G51mi/3KRvTm2\n",
       "WmjSFwh0rfpczw6MbWWh/ouFRPkhWWFUGOFCaaOaOJsdTZj2OdCIu+JBCgcxmDuvTdTQGvfGyrHZ\n",
       "WzZt2VIKptgzvbwVUQ/cTfEcHZSe6GGtmdlmUBxVhbgxmwwy9TMeX9Y+etVdJGx+uL/oOlZbmjAe\n",
       "VDmy/uH4vVtQAyRX4cKliQNNFrxJnlfPFQtph76VnmzYPTmlrnKY466Hkhzwu/rwEAJjVEZvrPXM\n",
       "PM9ed6iLFtnZKex42gM9wh5Hu0YviKpx4b4f63NfM+eZd9lIHMDlXG8EJMmJPNWTTKtLSfehQLQl\n",
       "zD6jxknCMrbf69I+yLPQKHutwE4XzV2qY8/xQrNk3pn3QI+w629GC73qZD6nH/tN7wHX/UnncK6W\n",
       "ZMKVwvc8oaqLdqonmrFz5LL2+8f3e1Ff9dLeMtbnRXJ/Dzt9scQPKNOyxitsWhm6bPwKM/s/IjdA\n",
       "BD3Crr+FeySpFT8u3C7i/fnpxHV9wEGS37HVfNyZa35+Sl7H56ekz+enwSAWtswqceW1y41/foIQ\n",
       "fmJ8n59qLW78GKxOtbfYRDQHyQ3vk0+A1lO93018WuOvRX1AuFnNVHHR2kqFm0Ey+I/r6c+hG7dz\n",
       "n/Vh8SaSLBr50h0uTojFtjr+38WRDf+evWDbivFM/wd7faGCEgxrYgAAAABJRU5ErkJggg==\n",
       "\" style=\"display:inline;vertical-align:middle;\" /></a>"
      ],
      "text/plain": [
       "[not](B_{1}) and ..[not](B_{_a}).. and [not](B_{i + (-1)}) and [not](C_{1}) and ..[not](C_{_a}).. and [not](C_{i}) and [forall_{A_{i}, ..A_{_a}.., A_{j}} (A_{i} or ..A_{_a}.. or A_{j})] and (A or D)"
      ]
     },
     "execution_count": 47,
     "metadata": {},
     "output_type": "execute_result"
    }
   ],
   "source": [
    "partially_masked_lambda.apply(*operands, assumptions=assumptions,\n",
    "                              equiv_alt_expansions={alt_A_form1:operands, alt_A_form2:operands})"
   ]
  },
  {
   "cell_type": "code",
   "execution_count": 48,
   "metadata": {},
   "outputs": [
    {
     "data": {
      "text/html": [
       "<a class=\"ProveItLink\" href=\"__pv_it/5e08cb2efbf6b8afd524004a60bcb2cf3c34338b0/expr.ipynb\"><img src=\"data:image/png;base64,iVBORw0KGgoAAAANSUhEUgAAAsgAAAAZBAMAAADeeMXmAAAAMFBMVEX////MzMxUVFR2dna6uroQ\n",
       "EBCqqqqIiIgiIiJmZmYyMjJERETu7u6YmJjc3NwAAACgK8IjAAAAAXRSTlMAQObYZgAAB+9JREFU\n",
       "aN7lWn2IVFUUv29nnO95iiF9WDnVQuqWDgWJ9MH8E25fuER/RGZMEKRFNn8VUrGDkqyw2bCW7JK4\n",
       "BvmHIrpJhbC6O0mrm0oOCkmSOkwktWbqYq1f63bPufe+e97HvJnVWKEueH1zveec3/29c8859z4Z\n",
       "+y+0mW3lCbUXbFvJ/nctP+EWK+Obbpa8RpfVkDpTv4FQuZa1UHn8EG0y4yX5zI3wu8xJ8pnayz+g\n",
       "fx8em9XRm8HHBv91J3qsx+Tc4a6mr/wmzyHPxBrbt6Oj9ItrhkfzFJpjIzmGUEr10STRGxvHRe4d\n",
       "8m+kplJb2+GxHU07ygLoNjK+iLHoeSGJIqaHV2EfI+9gEjfSPcUH3X7shQSxFl7M2NLFrhm25iNE\n",
       "ZfIskAVUxfrokuhj59QAojdc8wz9j7xtV6RuVCSbbm1U02X+2v9GoMkCUTrKY/ol8TwPBQtugDj0\n",
       "ExmZwf1nYcFnTYEc9JvR1/S8xE5OSfSac4a9+QhRmTwzwZ1O1+mTEv2xq2rgHuiOuuY1AGXJnNyx\n",
       "29UrnKdItnEhtBFNxgjvPkWgEeI/YY4+OSKeB6Cb3u4yLIbWkJFWruFkzm93toBJoIdai70MabrF\n",
       "OcPuSj5CVIbH5K38r0fqJFmgTyy9pgamQudeq5EC6xLV3m4FY0CRTLmQ2oimMMSEhSUA+htRGue4\n",
       "B6StGMTmxnddhnHIpJnma27hRd+N+gV4xQJ4D8RaN2xwo+CcYXclPyEiw+EcOXjwhzrzn0SfDF+g\n",
       "8SPosRkhTj0ln0utGaapqTi5kNqIpjjEj7NpALqc6JycYsYKSVegANEn4vJKHApTQMOM3faA76rm\n",
       "YwgFMNqaeRHVlZ0zHNHcR4jI8G5yb+/OdH0kS/TPhkatCoCPxD1SwlL+p0+WxsW3VVoFaipOLqQ2\n",
       "omkyRLCFKQC6m0bXB4/uzKqigYf3QDaQdcZXHIqTNG4MH39vlUduJKnjGG5l2MzaWmCEiugZtuYr\n",
       "RGTyGD/jdZ5IBPpExhihNeB0j5mcREPWUd+xGTlCTcXBhaVNa8L5rWkAyvmJtkFLY3RNPC/1hvJg\n",
       "w9zoMgtDEa68E4RWikA+kKL+phyK6wnhFluCxod4r61Fzqsgb5/hOGRUEVpul8njHhX1hjfVfXQN\n",
       "6DlBZl6ytgnf941ePp9jDTJIZNhZcNnYFEFNxcaFpY1qaoW0OTcDQF9Q7pfC6Mpas0YXbEHjHGbJ\n",
       "exxmxdCkjD74QCAP80rlbkbrSNAAejbgO8UcDblaW5uEyTjBbu+0z6CtqhAaIzJ5/PMBzjqZ8WAr\n",
       "eYH8EOindnVcYQr2oKxZncExL98cM2Z1zUXfk9RUHFxIbVRTP3R/IVBK8jCQnGNBRXK7zJakiSFK\n",
       "Mg/kLCw3XgN0t1gnfK5nj6SQ52jI1dpaBMvKVxlrts+wbZuqQg4ZAPy4CM+Jbq8TyfejLpJ595I1\n",
       "FHUHRmzrVAgLcjH1GhTJlAtLm9YEpCdHEegqTTKUyeDfSDLvIIjH7JtPDkWymmQokxuko8StUlGR\n",
       "jPLNIoVsY8SaKHbTkmQ9w5l3vIUcMgB4SLyiwKBXyf7Yame4AJf8UKcRd4rHNqSSMReJtJB1Vexc\n",
       "aG2WJozRAz0IdLcmGaKrcUUogegOBIUKrrMSH7ISX0WUyTN62IKUIjlPSQ6XRIraJjjT1kzAEChK\n",
       "kvUMZwXlKYTGiAyYjFfQpW6N97i5MnK9zsR3SpzhFsjN8+VR7xx5l8h2ZlYc6fat04mPcnFKnwiV\n",
       "JiiTE1vE4ubro2WMv6ond0mSo2mRktrZIa4zwY+I8CCHAgVdPWziAouKLH1VkmzaSA7BItaKXMo3\n",
       "N7HGK6LQeiZJtmYoQ9BVF0JjWiuSHMLgzlJR/sMZXxtYJ7ntAPSIsr8sNEFMFccDulZc30xR0UKp\n",
       "Huc+WHhaUAMkEy6UNqIJ30lzQSyuWSPZPtzV9I0kB9Joo8iWEeBpBSwnpYaCuqKdDZdKWWbuzUuS\n",
       "gz2UZPz1ucjRPFc3k6Ty2b2fMEWyniENQVdVSBjTMmLzYF5IZsN8cc6j0Y+sld4G51mi/3KRvTm2\n",
       "WmjSFwh0rfpczw6MbWWh/ouFRPkhWWFUGOFCaaOaOJsdTZj2OdCIu+JBCgcxmDuvTdTQGvfGyrHZ\n",
       "WzZt2VIKptgzvbwVUQ/cTfEcHZSe6GGtmdlmUBxVhbgxmwwy9TMeX9Y+etVdJGx+uL/oOlZbmjAe\n",
       "VDmy/uH4vVtQAyRX4cKliQNNFrxJnlfPFQtph76VnmzYPTmlrnKY466Hkhzwu/rwEAJjVEZvrPXM\n",
       "PM9ed6iLFtnZKex42gM9wh5Hu0YviKpx4b4f63NfM+eZd9lIHMDlXG8EJMmJPNWTTKtLSfehQLQl\n",
       "zD6jxknCMrbf69I+yLPQKHutwE4XzV2qY8/xQrNk3pn3QI+w629GC73qZD6nH/tN7wHX/UnncK6W\n",
       "ZMKVwvc8oaqLdqonmrFz5LL2+8f3e1Ff9dLeMtbnRXJ/Dzt9scQPKNOyxitsWhm6bPwKM/s/IjdA\n",
       "BD3Crr+FeySpFT8u3C7i/fnpxHV9wEGS37HVfNyZa35+Sl7H56ekz+enwSAWtswqceW1y41/foIQ\n",
       "fmJ8n59qLW78GKxOtbfYRDQHyQ3vk0+A1lO93018WuOvRX1AuFnNVHHR2kqFm0Ey+I/r6c+hG7dz\n",
       "n/Vh8SaSLBr50h0uTojFtjr+38WRDf+evWDbivFM/wd7faGCEgxrYgAAAABJRU5ErkJggg==\n",
       "\" style=\"display:inline;vertical-align:middle;\" /></a>"
      ],
      "text/plain": [
       "[not](B_{1}) and ..[not](B_{_a}).. and [not](B_{i + (-1)}) and [not](C_{1}) and ..[not](C_{_a}).. and [not](C_{i}) and [forall_{A_{i}, ..A_{_a}.., A_{j}} (A_{i} or ..A_{_a}.. or A_{j})] and (A or D)"
      ]
     },
     "execution_count": 48,
     "metadata": {},
     "output_type": "execute_result"
    }
   ],
   "source": [
    "partially_masked_lambda.apply(*operands, assumptions=assumptions,\n",
    "                              equiv_alt_expansions={alt_A_form1:operands, alt_A_form2:operands},\n",
    "                             allow_relabeling=True)"
   ]
  },
  {
   "cell_type": "markdown",
   "metadata": {},
   "source": [
    "We will discuss these features and its limitations in more detail in a later chapter (ExprRange/IndexedVar expansions in ExprTuples).  Here we demonstrated some of the versatility of using `equiv_alt_expansions`."
   ]
  },
  {
   "cell_type": "code",
   "execution_count": 49,
   "metadata": {},
   "outputs": [],
   "source": [
    "%end lambda_indeterminate_params"
   ]
  },
  {
   "cell_type": "markdown",
   "metadata": {},
   "source": [
    "# Next chapter: <a href=\"tutorial04_relabeling.ipynb\">ToDo</a>\n",
    "\n",
    "## <a href=\"tutorial00_introduction.ipynb#contents\">Table of Contents</a>"
   ]
  }
 ],
 "metadata": {
  "kernelspec": {
   "display_name": "Python 3",
   "language": "python",
   "name": "python3"
  }
 },
 "nbformat": 4,
 "nbformat_minor": 0
}
