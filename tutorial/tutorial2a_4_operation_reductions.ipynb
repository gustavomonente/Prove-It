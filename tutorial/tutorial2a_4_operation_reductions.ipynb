{
 "cells": [
  {
   "cell_type": "markdown",
   "metadata": {},
   "source": [
    "Chapter 2.a.iv.  Operation reductions\n",
    "=======\n",
    "\n",
    "**Operation** is the base class for most of the **Expression** classes defined in the **Prove-It** theory systems.  An **Operation** represents *operator(s)* acting upon *operand(s)*.  $1 + 5 - 1$, $1 < k \\leq l$, and $x_1 \\cdot \\ldots \\cdot x_n$ are a few examples of expressions that can be represented by classes derived from **Operation**.\n",
    "\n",
    "There are essentially two kinds of reduction rules specific to **Operation** expressions when the operation itself is to be replaced, rather than just its operator and/or operand(s):\n",
    "1. *Explicit operation replacement* is performed by replacing an operator with a **Lambda** expression.  In that case, the operation is replaced by the result of applying thislambda mapping to the operands (an internal beta reduction).  For example, $P(x, y)$ with $P:[(a, b) \\mapsto a+b]$ becomes $x + y$.\n",
    "2. *Implicit operation replacement* is performed by replacing an operator with a designated **Literal** operator of an **Operation** class.  In that case, the operation is replaced by one of that derived class rather than the **Operation** class. For example, $P(x, y)$ with $P:+$ becomes $x + y$ with the correct `Add` type rather than a generic **Operation** type."
   ]
  },
  {
   "cell_type": "code",
   "execution_count": 1,
   "metadata": {},
   "outputs": [],
   "source": [
    "import proveit\n",
    "%begin operation_reductions"
   ]
  },
  {
   "cell_type": "markdown",
   "metadata": {},
   "source": [
    "## Creating operation expressions\n",
    "\n",
    "Operation expressions come in various forms.  In any of its forms an **Operation** has two sub-expressions representing its *operator(s)* and *operand(s)* respectively.  Each of these may either be an **ExprTuple** or it represents a singular operator/operand.  There are two main types of formatting for an **Operation**, though any formatting rules may be defined by a class that derives from **Operation**.  These are *infix* and *function* formatting.\n",
    "\n",
    "The default formatting of an **Operation** class is *infix* notation. For example,"
   ]
  },
  {
   "cell_type": "code",
   "execution_count": 2,
   "metadata": {},
   "outputs": [
    {
     "name": "stdout",
     "output_type": "stream",
     "text": [
      "Must implement 'extract_init_arg_value' for the Operation of type <class 'proveit._core_.expression.operation.operation.Operation'> if it does not fall into one of the default cases for 'extract_init_args'\n"
     ]
    },
    {
     "data": {
      "text/plain": [
       "add_abc_opclass: a + b + c"
      ]
     },
     "execution_count": 2,
     "metadata": {},
     "output_type": "execute_result"
    }
   ],
   "source": [
    "from proveit import Operation\n",
    "from proveit import a, b, c\n",
    "from proveit.numbers import Add\n",
    "\n",
    "add_abc_opclass = Operation(Add._operator_, (a, b, c))"
   ]
  },
  {
   "cell_type": "markdown",
   "metadata": {},
   "source": [
    "Note, however, that this is not the proper way to create an expression representing $a+b+c$ because it is not of type `Add`, we just borrowed the **Literal** operator for the `Add` operation called `Add._operator_`."
   ]
  },
  {
   "cell_type": "code",
   "execution_count": 3,
   "metadata": {},
   "outputs": [
    {
     "data": {
      "text/plain": [
       "proveit._core_.expression.operation.operation.Operation"
      ]
     },
     "execution_count": 3,
     "metadata": {},
     "output_type": "execute_result"
    }
   ],
   "source": [
    "add_abc_opclass.__class__"
   ]
  },
  {
   "cell_type": "markdown",
   "metadata": {},
   "source": [
    "Instead, we should use the `Add` constructor."
   ]
  },
  {
   "cell_type": "code",
   "execution_count": 4,
   "metadata": {},
   "outputs": [
    {
     "data": {
      "text/html": [
       "<strong id=\"add_abc\">add_abc:</strong> <a class=\"ProveItLink\" href=\"__pv_it/operation_reductions/22837a8fd8a1258bcdfe442edbb9e3ebf4738ce70/expr.ipynb\"><img src=\"data:image/png;base64,iVBORw0KGgoAAAANSUhEUgAAAFAAAAAQBAMAAABzZ+XyAAAAMFBMVEX///9UVFSqqqrMzMwiIiJE\n",
       "RESYmJgyMjK6urru7u4QEBCIiIh2dnZmZmbc3NwAAABRgo0vAAAAAXRSTlMAQObYZgAAAOVJREFU\n",
       "KM9jYMAAnFEODMQB9gsEFGhDaX4FKINpA36F/ROIVHiEAatCvju3V6IqLNx9CU0hz+7NDAxdD9g/\n",
       "oCjk/D5h/gMUhXxODOEMnMsYeANQFDL9ZODfgKKQ5QCDEAPvTwYWEP94eblXeXkhkMVbwDD/ANC6\n",
       "8vKS5eXlAkCR+yDfcQUwzDdAMREYjP0KKCYuBRFAzfqovuZPgBgBV8j5B6xQgUGc6QGKwgagu1FM\n",
       "/AZkMrBuYHPkQTGRMYH1AqrCiwyclxk4pTc/3IEaPLePoQU4z7FsrDHDwEAgCmdiJLgJCDYAn3U/\n",
       "H22YZFcAAAAASUVORK5CYII=\n",
       "\" style=\"display:inline;vertical-align:middle;\" /></a><br>"
      ],
      "text/plain": [
       "add_abc: a + b + c"
      ]
     },
     "execution_count": 4,
     "metadata": {},
     "output_type": "execute_result"
    }
   ],
   "source": [
    "add_abc = Add(a, b, c)"
   ]
  },
  {
   "cell_type": "code",
   "execution_count": 5,
   "metadata": {},
   "outputs": [
    {
     "data": {
      "text/plain": [
       "proveit.numbers.addition.add.Add"
      ]
     },
     "execution_count": 5,
     "metadata": {},
     "output_type": "execute_result"
    }
   ],
   "source": [
    "add_abc.__class__"
   ]
  },
  {
   "cell_type": "markdown",
   "metadata": {},
   "source": [
    "When you want *function* formatting, it is best to use the `Function` class that is derived from `Operation`:"
   ]
  },
  {
   "cell_type": "code",
   "execution_count": 6,
   "metadata": {},
   "outputs": [
    {
     "data": {
      "text/html": [
       "<a class=\"ProveItLink\" href=\"__pv_it/operation_reductions/165b6d639614945b84d3878e5681197efece10740/expr.ipynb\"><img src=\"data:image/png;base64,iVBORw0KGgoAAAANSUhEUgAAACUAAAAUBAMAAAD4luk4AAAAMFBMVEX///8yMjJERETMzMwQEBCY\n",
       "mJgiIiK6urqqqqp2dnZUVFTc3NyIiIhmZmbu7u4AAADOOTK3AAAAAXRSTlMAQObYZgAAAO9JREFU\n",
       "GNNjYICCrVC6G0K9PbuBgU8BKsa1AUyt7G9gYNwAFeMTAJPfnzMwxMLMYJgDIjg+AIlsuNgTEMGZ\n",
       "wMDAnQAXYyxgYGC9knuBgecC0Iwzq2uAGjmBTAb+AwwMTAEMDC8Zwg4kAtWALNlvwMDA1sDAMI9h\n",
       "/oNqoPEgY/qBmAVoyAMGJZB5zCArp0HFGBj+wMW0GCB6GZg/g8TYQXp9GCB29PF8YDgHsYPvOwPY\n",
       "Aew/mD5wA6V4JwDVfoBo4Ftz7mwoyM1AZ3CCQwTht2cMDF2MASAWShgkPQSzmJDDKuY2hAkLU7gk\n",
       "UthHMzAAABcoOI8ge5+JAAAAAElFTkSuQmCC\n",
       "\" style=\"display:inline;vertical-align:middle;\" /></a>"
      ],
      "text/plain": [
       "f(x)"
      ]
     },
     "execution_count": 6,
     "metadata": {},
     "output_type": "execute_result"
    }
   ],
   "source": [
    "from proveit import Function\n",
    "from proveit import f, g, x, y, z\n",
    "Function(f, x)"
   ]
  },
  {
   "cell_type": "code",
   "execution_count": 7,
   "metadata": {},
   "outputs": [
    {
     "data": {
      "text/html": [
       "<a class=\"ProveItLink\" href=\"__pv_it/operation_reductions/878b8a7e02eecf07230b1d21be4eefd5f1fbac950/expr.ipynb\"><img src=\"data:image/png;base64,iVBORw0KGgoAAAANSUhEUgAAAE0AAAAUBAMAAAA6pq28AAAAMFBMVEX///8yMjJERETMzMwQEBCY\n",
       "mJgiIiK6urqqqqp2dnZUVFTc3NyIiIhmZmbu7u4AAADOOTK3AAAAAXRSTlMAQObYZgAAAXdJREFU\n",
       "KM+FUj1Lw1AUPU36lX7Ebq7i2EFc3PsDHDKoixWq6CRKZxXaWbHtolPRrqJDEAU3497Wik6KGEUU\n",
       "BTHgUAcH3333pdXBeCH3neQc7r3n5QIqjvF3bPDx1rJhDgXoErY89qplhOwAnZmRufsMzCAo6pTi\n",
       "nkiLgbpHSkYBSBYCdaEiELla6iDVEf2b+2t1nqfl4MiVMDZfHBOlBI0BB9As4AVTzqwkjVgO51zp\n",
       "IX8rbiJCRk5HgWgZ2MGuuyrJk3QGw6xzcUgWaKyqeMJF+qQ4uGEHXwrrI5TI6rbSoceh5OofCq7A\n",
       "12XBfdHjcIFUjlG8Id1Q33Gwj0rKQ5vZLLQGo02gwT7MLqTx2KfmJS28k7VrlBjpC1tnYqR0TdT0\n",
       "uLB50G5NigmWxetr886WKI2JQbpncSWG3JT+f6uoCX1E8QSshyxC/T0QLRIZOUzt5x7M3Uuk+Xtl\n",
       "ir8TtTSHUX+v8jcM/T2N0LTNS4Xwu8g/ez8NfAMrLl8ZXxKglAAAAABJRU5ErkJggg==\n",
       "\" style=\"display:inline;vertical-align:middle;\" /></a>"
      ],
      "text/plain": [
       "f(x, y, z)"
      ]
     },
     "execution_count": 7,
     "metadata": {},
     "output_type": "execute_result"
    }
   ],
   "source": [
    "Function(f, (x, y, z))"
   ]
  },
  {
   "cell_type": "markdown",
   "metadata": {},
   "source": [
    "## Operation replacement\n",
    "\n",
    "We will demonstrate the two types of *operation replacement* in the following examples: explicit and implicit.\n",
    "\n",
    "### Explicit operation replacement\n",
    "\n",
    "To start our demonstration, let us define a **Lambda** expression which maps a variable $f$ to an expression in which $f$ is used as an operator."
   ]
  },
  {
   "cell_type": "code",
   "execution_count": 8,
   "metadata": {},
   "outputs": [
    {
     "data": {
      "text/html": [
       "<strong id=\"ab_substitution\">ab_substitution:</strong> <a class=\"ProveItLink\" href=\"__pv_it/operation_reductions/f1f7d6fea4e5c4d71fe99bcabab3ba02041188250/expr.ipynb\"><img src=\"data:image/png;base64,iVBORw0KGgoAAAANSUhEUgAAAKIAAAAUCAMAAAA5vxZBAAAANlBMVEX///8oKCgNDQ0yMjJERETM\n",
       "zMwQEBCYmJgiIiK6urqqqqp2dnZUVFTc3NyIiIhmZmbu7u4AAACDAbfLAAAAAXRSTlMAQObYZgAA\n",
       "AgtJREFUSMell9mCwiAMRZmBspfl/392atmS1Gp0eBCN5nAbEohCfDp289bmd/E/7ABAUMkp87hF\n",
       "XZ2ArY3I1YgRRWmLAQAUg6+eBZVPnCRVVCRTIkXIjAELVKorjsU0WVycgG2MkHhBpIgZpwGYIF/v\n",
       "IIkEyK7P08let7VolkSKcLUQwAQFewvBEdrBD4fT/sxZsjaFIoCOAZA9ytrmJQXnPl4/5bXjw2na\n",
       "9hxy0i0OIXOShiJkTCl7BBhzTbeiPFKswNEwnIbN6WO3ZN86swomSDCwcoIoVZbjZYeAPu91u5Uo\n",
       "kirgu1X206nbin6sk/sTecs5CwnCn6nYdA9An3G1/P5INGpdeaXdNdW7LZ982+Oy1U+qZSDkGcoA\n",
       "AX3G1WIL4jgLMh9InE7dps/Dd8SFJZEizjRw7eAhElW8L5BNQsVgo6dTs7WHn3Fx9nkuopUIQlQz\n",
       "d2MC+qzTvUR8c4BymU7NVs6Hj7Lfq4ZzvxCEeGRUS2laLqWiQwy1BA6X4DpLllO3qWM9Y6MILa0C\n",
       "627BiHgsrfoKA9Bm9yJv8kYSc76rxFaOM23bY+pptb2XeEXkFEaABqDNQfF7pnnZAadnFyDnzHmF\n",
       "GIDH7KOQhi+x3ffY6as24g0CthFWsTunlnKP5yVO6otm7DUCNWOG28vClpY4XVpa9R75GjEA6ov+\n",
       "nfXHwPz3j8EAnPMf1+UX4387y+0AAAAASUVORK5CYII=\n",
       "\" style=\"display:inline;vertical-align:middle;\" /></a><br>"
      ],
      "text/plain": [
       "ab_substitution: f -> (f(a) = f(b))"
      ]
     },
     "execution_count": 8,
     "metadata": {},
     "output_type": "execute_result"
    }
   ],
   "source": [
    "from proveit import Function, Lambda\n",
    "from proveit.logic import Equals\n",
    "from proveit import a, b, c, f, n, x, y, z\n",
    "ab_substitution = Lambda(f, Equals(Function(f, a), Function(f, b)))"
   ]
  },
  {
   "cell_type": "markdown",
   "metadata": {},
   "source": [
    "Now we just need to define a **Lambda** expression for replacing $f$."
   ]
  },
  {
   "cell_type": "code",
   "execution_count": 9,
   "metadata": {},
   "outputs": [
    {
     "data": {
      "text/html": [
       "<strong id=\"add_y_then_mult_z\">add_y_then_mult_z:</strong> <a class=\"ProveItLink\" href=\"__pv_it/operation_reductions/67cc36074520b432622abb9f227f987004f1c4700/expr.ipynb\"><img src=\"data:image/png;base64,iVBORw0KGgoAAAANSUhEUgAAAJQAAAAUCAMAAABcUuQ+AAAANlBMVEX///8QEBAoKCgNDQ1mZmaq\n",
       "qqrMzMxEREQyMjIiIiKYmJh2dna6urrc3NxUVFSIiIju7u4AAADPT139AAAAAXRSTlMAQObYZgAA\n",
       "AbxJREFUSMe1Vtt2hCAMhBZBFEj4/58tqCiBWHVt87Dj2Z1shlyIQjw1P1F8YoN/z+AMDcVnFvx7\n",
       "BmOjp/jwSON7Rm+TosiWAM5/m+EqwjVDQJMQ6yk+FYXyMlXyujVpRryl+FiUGN1lg2QGAgTvYE8b\n",
       "7WAaHRTF1pcThaDyF17iUh227s5KJ/Q6z5mBc+oQC8KOrIyBaDQTwc6XEzULlysCcW3GkR3pCZTa\n",
       "ImXGnA4wRxTOs6IEGKzyNhDsfBlRfhAqCzFrzOH4eyRPvpw+M/BwWO37ayQW49EG0hFsfefFwcoF\n",
       "wh5QZpVxlarjriTWSdP72Qsj1mez2JS7as1GVOfLNrpLuUyhdCNK2FBxjueNURy48umx1tiUr/Nl\n",
       "RS3VA1nOyA5srS8xBlx7EJAVRW/uptE7X1aUCeXjrNHXi+dguDgIE+v9ShatoxNcBnrF3pfPVMjU\n",
       "jaPmXpO20zxBucESAwNAukmmk52vdNNgNZ74tqIyTcWyMzUTJGVC7rcqx/jdPl0zaqsa2ss1Y59q\n",
       "urWQkY5vGPP4uz9cyJ0ZT/FGclN1Dfznq8sHL3kudZQWd49iPnpPe/M6PPlbjB99iBMc05NHXAAA\n",
       "AABJRU5ErkJggg==\n",
       "\" style=\"display:inline;vertical-align:middle;\" /></a><br>"
      ],
      "text/plain": [
       "add_y_then_mult_z: x -> ((x + y) * z)"
      ]
     },
     "execution_count": 9,
     "metadata": {},
     "output_type": "execute_result"
    }
   ],
   "source": [
    "from proveit.numbers import Add, Mult\n",
    "add_y_then_mult_z = Lambda(x, Mult(Add(x, y), z))"
   ]
  },
  {
   "cell_type": "code",
   "execution_count": 10,
   "metadata": {},
   "outputs": [
    {
     "data": {
      "text/html": [
       "<a class=\"ProveItLink\" href=\"__pv_it/operation_reductions/ee78c0a5aae7cc7b4b625f564c76db6ff3ca27b00/expr.ipynb\"><img src=\"data:image/png;base64,iVBORw0KGgoAAAANSUhEUgAAAOgAAAAUBAMAAAB112wpAAAAMFBMVEX///9UVFTMzMx2dna6uroQ\n",
       "EBCqqqqIiIgiIiJmZmYyMjJERETu7u6YmJjc3NwAAAC+aOQFAAAAAXRSTlMAQObYZgAAAsdJREFU\n",
       "SMeVVk1oE0EU/ppsmp+dxNwCBSVHQSS5iYIQD8XemkNBKQrxVi82+EOJF9OD3irRHorxYJQcbBBJ\n",
       "TyJaiYdiNYcERIoeZD0oBRFESwVpxTc7u92dySTRB99s8jHvezNv3r5ZINGFDb1dGEqQfXOgs1FL\n",
       "R7Qd6G3EGkYArGmjfVqrcEBHPHagN1YbRgAxS2BZq/BGQ8QrAr79F/3/jqg+PQTeO9jWCgSLynQi\n",
       "IrTEiNU/6JoaoofATQFjRyvA8mqu8tikxyb6B43l1GSqRKIsECxrBVBXF1lHiUaOxOLSGcmHlYr4\n",
       "3ELQS71xPXcYfkJYuCIQS5UKUtBXS0iQ5lFv6sRUoMuJVfrNMW7FvktBg0Ye1+i8vcJpb9xpusSx\n",
       "Bje7dMyuQOcR+yMFzY4jTJofvMSulu6CEzdoJLCziDaloF+iNTyjf3bSWmL4CpfwWaQgMNvCL79A\n",
       "olCFSZozdjwxJHiMGUzRSIjuIMLnBhuNh9ONRpJChIpcJMD3z37bMoHncAi/hXICVbCffgGGU9hH\n",
       "mhk+qSMSdoivPuMGDTXRSct1MNkK/HBjzNvMCQwKugxjWxKgcs6knaCRpM3YY8ZNbyeLWaX4qghT\n",
       "tRteNkeFY9k70/v+9O7ydPkF6Hyu8Orx1ndOlJNbSJ0Cxpw26fqswExKhXQekAlhbiFtYa0rCZD7\n",
       "CvyFNFrBiE3wgiaYxfh8UN7pLUySSDTrugQWjl/N+Qm3w1QE9uOpLBBNGrv0WNybefDtRt0mJkQC\n",
       "WOrip8uyz8u5e7yppl2XKN5xF49wX9+ywOtLXVmApUr8HXqwN7MSn87ZxKA2WCWsq/1kvV8b1AjQ\n",
       "qYKprxgRvQ2ftcQdVmNb/9fwFQGMoZPTN3y8gIBqka5Z/LerzbQEVFvAkz5XW99L3Ji7DY2Y2fcS\n",
       "77GTpbRuQ5wY/LnycSgx5HMlbvUSfwG6f92c/f0tUQAAAABJRU5ErkJggg==\n",
       "\" style=\"display:inline;vertical-align:middle;\" /></a>"
      ],
      "text/plain": [
       "((a + y) * z) = ((b + y) * z)"
      ]
     },
     "execution_count": 10,
     "metadata": {},
     "output_type": "execute_result"
    }
   ],
   "source": [
    "ab_substitution.apply(add_y_then_mult_z)"
   ]
  },
  {
   "cell_type": "markdown",
   "metadata": {},
   "source": [
    "Note that the $f(a)$ and $f(b)$ operations themselves were replaced according to the `add_y_then_mult_z` lambda mapping applied to $a$ and $b$ respectively.  Let's show an example with multiple operands."
   ]
  },
  {
   "cell_type": "code",
   "execution_count": 11,
   "metadata": {},
   "outputs": [
    {
     "data": {
      "text/html": [
       "<strong id=\"ab_commutation\">ab_commutation:</strong> <a class=\"ProveItLink\" href=\"__pv_it/operation_reductions/a5e75f8ddefe23b2290602251da833f1018eccd50/expr.ipynb\"><img src=\"data:image/png;base64,iVBORw0KGgoAAAANSUhEUgAAAMgAAAAUCAMAAAD/eoL4AAAANlBMVEX///8oKCgNDQ0yMjJERETM\n",
       "zMwQEBCYmJgiIiK6urqqqqp2dnZUVFTc3NyIiIhmZmbu7u4AAACDAbfLAAAAAXRSTlMAQObYZgAA\n",
       "AnJJREFUSMe1l+mS5CAIgN3VeCYe7/+ym3gFbLWZqll/jD1W+BAERMZ+OC5FXYTDXoz9iqYZFMJj\n",
       "8IGkK4qJEFwcvpa6/DqplmDoC5iNBgXw09lkKXo42FAX4utd8lD3x4mGjNAGmBrNR3hMJhqKGgWw\n",
       "XUhtdHX3OE87kBG69W+DdrhNq089drYG/3YhvT4Qk2LboSQZMkJfwNRsOcDdMhAt8vYFv2tC1yaK\n",
       "AZiTjnyEOr2PdANnFaQO74Zx5iKQDyDImlBfvIILXiIP8tP7UILDBUrkjlAAYBM1Ddrm5FdbZxba\n",
       "JWBFbEJt0cg7GnjCEc/j/SdHiXrT3XEwsH0DFALYRE2D1vlKx9IQ5sXrYw1804XqYpSP7iBwxMe+\n",
       "Oaspd8cAhQA2UdOgdca5/vcPRyOlHt3STNKyLoasU6PiFHj2qnt+H+knud6gAMAmahq0zjijNK4T\n",
       "Rr+7h4Z0oboo8wWGzrZcAqZUUJIhIxQC2ETNYIg4l+nNDg7sgqHVhcpicdtQx5PqPrwdMs8RpHuA\n",
       "IgCbqGnQOku/NgTd2jDZu1BZjNltJ0edzxOUJahRsq/HAEUANlGDkz0mVOJRr2ZQUQEl9BWqi+Le\n",
       "g9Inc7nW1H7jZokqExzpXsfQDuhIoAZAy2w20RsOnC/gzh4W413xj+v0z1Z0zbO7A3TNL/z4bsgn\n",
       "tAM6Eqh5oWV2gtxav90IEJq0KPajsYiU6ruD2kmv0qDPbE/GFdmQ2sphoUnT6Jb93ab07qHuS9Oo\n",
       "BbnDziGaHTUIidF70a867t1pb6HRf2njFfFFhR5Wg9DHw0otHLA/7S1ULb1Kgv/WU1f9j6dug+b5\n",
       "H5IeHkDmljKMAAAAAElFTkSuQmCC\n",
       "\" style=\"display:inline;vertical-align:middle;\" /></a><br>"
      ],
      "text/plain": [
       "ab_commutation: f -> (f(a, b) = f(b, a))"
      ]
     },
     "execution_count": 11,
     "metadata": {},
     "output_type": "execute_result"
    }
   ],
   "source": [
    "ab_commutation = Lambda(f, Equals(Function(f, [a, b]), Function(f, [b, a])))"
   ]
  },
  {
   "cell_type": "code",
   "execution_count": 12,
   "metadata": {},
   "outputs": [
    {
     "data": {
      "text/html": [
       "<strong id=\"add_then_mult_z\">add_then_mult_z:</strong> <a class=\"ProveItLink\" href=\"__pv_it/operation_reductions/81243912edb8fea64df4376a80ae3cb0ec79ac290/expr.ipynb\"><img src=\"data:image/png;base64,iVBORw0KGgoAAAANSUhEUgAAALcAAAAUCAMAAAD4OFztAAAANlBMVEX///8oKCgNDQ3MzMxUVFR2\n",
       "dna6uroQEBCqqqqIiIgiIiJmZmYyMjJERETu7u6YmJjc3NwAAADtE0dfAAAAAXRSTlMAQObYZgAA\n",
       "AipJREFUSMe9V+F6gyAMZFOBgER5/5cdCFFCwWL3bf4orT3uziQEFEKIfRPvL72L4YsIh4gf6xAC\n",
       "3RDhPGycCAeJH+tkxDpmCNdRZSJc9098v9dJiM0OEi4whiPCW2INv9A5EGY0Kqja96EiIMJb4hvf\n",
       "PR2O2M1wBlfZtsDjSoT3xDe+ezocAaSKAPMugWUJwcafu8IjPadBvuC4QSKkscVb++7plJc0Soop\n",
       "daiAcLlX4RIq0oAw5bJYhIxJA58Kdm071ewxiDCPTd7ad0+HNakNrM1KAWF0nhoedfEoZFGVuxY2\n",
       "crgE16btW4DDIvqajS3e2ndXRyD7tlOAAkLJ676rGm64pyK/TyKTpz++v1Z2eX+VJBHm8YV3OWYY\n",
       "dQzzvQ76MvTTGZ6AUMUi8C+LRYZIBdRU8RmsSq8gqXy3eet12dERZi4w1/eAoLSKa15xHekDRfba\n",
       "dTKt5WNUddLmrX13dNiM8hHMuYw0pmUBLJRupo+bdcn3xWpdtnlr3x2dl257IXLTkV4L5/NR6Cor\n",
       "O8e/shO7nFsiyzFvW9TF0sh4b+Ld1ilyarZlA+rsAZGTgjNA6KJbmmqogONt6+m8MTU3ATtVxV6O\n",
       "nLfr+61OCMKmzg0pIprbscaq9iL34M766T4/rnMgmsefnKl5jUUj/+BchazcH+okhHuNC+apJqTX\n",
       "wdNzLBG64XPsM52MaBzvqRplqLpJPHXx/L3hmQ4hhl6ntn96T3uvcyB+AKWrGjRFoAypAAAAAElF\n",
       "TkSuQmCC\n",
       "\" style=\"display:inline;vertical-align:middle;\" /></a><br>"
      ],
      "text/plain": [
       "add_then_mult_z: (x, y) -> ((x + y) * z)"
      ]
     },
     "execution_count": 12,
     "metadata": {},
     "output_type": "execute_result"
    }
   ],
   "source": [
    "add_then_mult_z = Lambda((x, y), Mult(Add(x, y), z))"
   ]
  },
  {
   "cell_type": "code",
   "execution_count": 13,
   "metadata": {},
   "outputs": [
    {
     "data": {
      "text/html": [
       "<a class=\"ProveItLink\" href=\"__pv_it/operation_reductions/34ae7742481d598c38eef9f0270ea0137e5d8b4c0/expr.ipynb\"><img src=\"data:image/png;base64,iVBORw0KGgoAAAANSUhEUgAAAOYAAAAUBAMAAABrHlyaAAAAMFBMVEX///9UVFTMzMx2dna6uroQ\n",
       "EBCqqqqIiIgiIiJmZmYyMjJERETu7u6YmJjc3NwAAAC+aOQFAAAAAXRSTlMAQObYZgAAAsBJREFU\n",
       "SMeNVk1oE1EQnvw05mfzcwsISo+CaHvTCoV4EHprDz1I/SHe9NIGfyjxtD2oJ2UhYFEPpiUHG0Rz\n",
       "ERFsWQ+Fag67IFL1IOutIkKwEkGqOO/Nbnbf25ekA99s+JjZ773ZefMCkLOBQ2nzQwm0Hy5UlnBU\n",
       "RNuFbNoLHSAip4QIDGxxtM8qRQ+riGcuQpY28F11WaAejnMIa0rNdwoiaxACu6/QM19Gd0JOCRHw\n",
       "yUVXyieLVaRwJJK4wqSj0pw20W3KCiEC7hHie0pNbUau1Azs4GMHVJoneeFKciVlIqcTYrpSExry\n",
       "GhtQRc+Qqy2fF3NWFu/jm/yyx2+VjgkE2QGDkC5Wy6Lmt4kbWKoJP3RqNmozYh1/M5xx0h1BU/tj\n",
       "Wg5k/Z5pbz/ADiXiVJMZ75qMTbCeav8EzfhFeI6Pz35V16uPOHEbPUK7AKmWoJnYg3wFErxiJrnv\n",
       "jNalfSbLhAUTfguamzYwictcjlyuxYlZ9IjUHiRZbKzZfDLXbBaQqYM1DtEO3zJ/SfQ1cx1Jc6RE\n",
       "eAjabjAfHptwBx9jLMiich01OeFqjrTAGhX2icdzuuxKLHHmNAzSXIN4V9jnOdB+eprJAq8292Ne\n",
       "bXFLC2Lf5W220rhfygTl6f73XAnW9i+rVbAfdiHB1jflL+8SdZLXQ1YZDrqz0dMs4TcO9tAVgIJA\n",
       "kHk99It9wKBmFyL1+WAPJQyI8B5irYzIVLJLMWGfETuDJyA17mVE707eLAUJb64YhEPwSjxrL+Fj\n",
       "AYNrvcgj77fZYa3xrSO04tWv18WzsjzJvuqol5GCDw2B8I6tTnh7zRY13yweL+IiV3uRRnaODZTV\n",
       "AbOP25Y8Rbb6zT51Pmjy2UIiPOM1c9BI7z/jlfnKGQ8bQFDafu6yjEOAfd9lfe/s3vsGE707u49t\n",
       "qIiB/02+DCWG/DfJOmHiP96k3Anq635AAAAAAElFTkSuQmCC\n",
       "\" style=\"display:inline;vertical-align:middle;\" /></a>"
      ],
      "text/plain": [
       "((a + b) * z) = ((b + a) * z)"
      ]
     },
     "execution_count": 13,
     "metadata": {},
     "output_type": "execute_result"
    }
   ],
   "source": [
    "ab_commutation.apply(add_then_mult_z)"
   ]
  },
  {
   "cell_type": "markdown",
   "metadata": {},
   "source": [
    "### Implicit operation replacement\n",
    "\n",
    "It is typical to derive classes from **Operation** that have a single corresponding *operator* that is a **Literal**.  This operator should be defined as the `_operator_` attribute of the derived class.  This indicates to **Prove-It** that this specific operator is tied to that specific class.  This knowlege is used in *implicit operation replacement*.  When an operator is replaced by `_operator_` of a particular **Operation** class, the **Operation** is reconstucted to by of that particular type.  For example."
   ]
  },
  {
   "cell_type": "code",
   "execution_count": 14,
   "metadata": {},
   "outputs": [
    {
     "data": {
      "text/html": [
       "<strong id=\"a_add_b_commutation\">a_add_b_commutation:</strong> <a class=\"ProveItLink\" href=\"__pv_it/operation_reductions/0e115548ffb670bb2f59a0b36c035751d36eddf90/expr.ipynb\"><img src=\"data:image/png;base64,iVBORw0KGgoAAAANSUhEUgAAAJMAAAAUBAMAAAB7fhJGAAAAMFBMVEX///9UVFTMzMx2dna6uroQ\n",
       "EBCqqqqIiIgiIiJmZmYyMjJERETu7u6YmJjc3NwAAAC+aOQFAAAAAXRSTlMAQObYZgAAAfRJREFU\n",
       "OMuVlLlLA0EUxr8YDSaZmHQBQclfoOk8QEgj2GlhIV6k00qDB2IXC7UNCApaGMVCF9E0IhbKWghe\n",
       "kJRiIWunXVCJIFF8bxNkZ5wVHNjNzsw3v3dk3gMaCtAPn/V7zVU8wa8b3c7NAL2aNesQR2ndAQ/b\n",
       "PdBa2aPn+vcyiQMZnV5kgZC040tVP0r0eFPqARaHk9XJmLTVBtRbOlRtmS31qSgW95pa1AXwBB3K\n",
       "aydkR0WxuB1aVCCBef597pg1JVQgOk9xdKgoFm/NrcqohpW1YTKewSmHM4pD2av8vvgC7m0HDXvY\n",
       "KSWx+DDzloTqtgJFSmMWSxxnARsyatLEOzCuekViXxnhlBMlRuDP0Xoa/TTbNLFcsb87aBgR+lyH\n",
       "eAVaVRSJ/Vnk40CnYSwaxhat+cuoJ3ZN0UYNQbzIXu2htqRH0bXqTTq9qsshH7NR5DM54CvKqE82\n",
       "hh5HriLVAMMFDsKBIh8nOd9pO5MleLITEuqN81dJu3OQOJyg5EioJBqpXCnt/Icf4y4Sl1BNOKH3\n",
       "iooisacQzEioYCq04KWUxe0gzudaogkJdTXNLWBbRZFYrHXJV1REpx5nKIcxl8KpiNK6woH+tl+q\n",
       "5SxMx0Rfzj/jVi1nnMFtaJqMq5ibjL71uZ1zFQetv3ps6D8N+QH4Bh04ks2A7gEtAAAAAElFTkSu\n",
       "QmCC\n",
       "\" style=\"display:inline;vertical-align:middle;\" /></a><br>"
      ],
      "text/plain": [
       "a_add_b_commutation: (a + b) = (b + a)"
      ]
     },
     "execution_count": 14,
     "metadata": {},
     "output_type": "execute_result"
    }
   ],
   "source": [
    "a_add_b_commutation = ab_commutation.apply(Add._operator_)"
   ]
  },
  {
   "cell_type": "markdown",
   "metadata": {},
   "source": [
    "Is created using the proper `Add` class for constructing the left and right sides of the equation."
   ]
  },
  {
   "cell_type": "code",
   "execution_count": 15,
   "metadata": {},
   "outputs": [
    {
     "data": {
      "text/plain": [
       "proveit.numbers.addition.add.Add"
      ]
     },
     "execution_count": 15,
     "metadata": {},
     "output_type": "execute_result"
    }
   ],
   "source": [
    "a_add_b_commutation.lhs.__class__"
   ]
  },
  {
   "cell_type": "code",
   "execution_count": 16,
   "metadata": {},
   "outputs": [
    {
     "data": {
      "text/plain": [
       "proveit.numbers.addition.add.Add"
      ]
     },
     "execution_count": 16,
     "metadata": {},
     "output_type": "execute_result"
    }
   ],
   "source": [
    "a_add_b_commutation.rhs.__class__"
   ]
  },
  {
   "cell_type": "markdown",
   "metadata": {},
   "source": [
    "We can do the same using `Mult._operator_`:"
   ]
  },
  {
   "cell_type": "code",
   "execution_count": 17,
   "metadata": {},
   "outputs": [
    {
     "data": {
      "text/html": [
       "<strong id=\"a_mult_b_commutation\">a_mult_b_commutation:</strong> <a class=\"ProveItLink\" href=\"__pv_it/operation_reductions/8315f363c530e9d7d69381cdb0e742ddc5f4fbb80/expr.ipynb\"><img src=\"data:image/png;base64,iVBORw0KGgoAAAANSUhEUgAAAH4AAAAUBAMAAAC5YpSHAAAAMFBMVEX///9UVFTMzMx2dna6uroQ\n",
       "EBCqqqqIiIgiIiJmZmYyMjJERETu7u6YmJjc3NwAAAC+aOQFAAAAAXRSTlMAQObYZgAAAeNJREFU\n",
       "OMuNVM9LAkEU/kzd/LFqNyEo/AvKWxkEXYJudugQ9AOPnVT6gXjTS91CEBLqkEYXI8pLRIfCDkLp\n",
       "YT1Wh9hudQgkwyAserOta81s0IOd2f32e/Pe+2beAN46BIuKEJ5FSFJpqP3G5JMUYFEFrlxCbZYH\n",
       "B+k54jBXhsh5wd9FSxZ5sAp4Mhzmi9AwIvjf0tPiQWscDj7VcJmGiuC/CdjaQlHTeOSxUS3bCQ71\n",
       "kirWlLDqPpLsZzY3b0CFxBZR+ap6CXD5kxEDeAqtUaIhnNP7pOpqGCm9lxUVHk3AsQNmmmpu2mXl\n",
       "UP7s0GyLOKbpDuvksgBniYGscqkNXxwSn6qDIsfKeNNZqNSxQ9MSZgBnG464FpoGZx5KED0Nzt9O\n",
       "gmxDbuos7JaxQdMw87eXoAQYmP7e/nDE3L8IW0tnYQ7yi+ZP+VO8WHf762xtW6pbf6GT/wfLVFep\n",
       "CYmFmGL6KRH0S51j4JsgOXT9fhjT75VVrfu3YMlHmX4h+hf3pK0doqXupq1yBvmTRuAAzozvU9z0\n",
       "ESdLGUD2Lz+sGvuXG2cqBDh/VtD1SrdVLxNDfpJkTzy/ml2ZnV/R5JTYP5qZ9w9M+gcXZuuK/es2\n",
       "y7Mq3h9/keWSCY/FNru/7v93f3lUfAGMVIPPTIbVawAAAABJRU5ErkJggg==\n",
       "\" style=\"display:inline;vertical-align:middle;\" /></a><br>"
      ],
      "text/plain": [
       "a_mult_b_commutation: (a * b) = (b * a)"
      ]
     },
     "execution_count": 17,
     "metadata": {},
     "output_type": "execute_result"
    }
   ],
   "source": [
    "a_mult_b_commutation = ab_commutation.apply(Mult._operator_)"
   ]
  },
  {
   "cell_type": "code",
   "execution_count": 18,
   "metadata": {},
   "outputs": [
    {
     "data": {
      "text/plain": [
       "proveit.numbers.multiplication.mult.Mult"
      ]
     },
     "execution_count": 18,
     "metadata": {},
     "output_type": "execute_result"
    }
   ],
   "source": [
    "a_mult_b_commutation.lhs.__class__"
   ]
  },
  {
   "cell_type": "code",
   "execution_count": 19,
   "metadata": {},
   "outputs": [],
   "source": [
    "%end operation_reductions"
   ]
  },
  {
   "cell_type": "markdown",
   "metadata": {},
   "source": [
    "# Next chapter: <a href=\"tutorial04_relabeling.ipynb\">ToDo</a>\n",
    "\n",
    "## <a href=\"tutorial00_introduction.ipynb#contents\">Table of Contents</a>"
   ]
  },
  {
   "cell_type": "code",
   "execution_count": null,
   "metadata": {},
   "outputs": [],
   "source": []
  }
 ],
 "metadata": {
  "kernelspec": {
   "display_name": "Python 3",
   "language": "python",
   "name": "python3"
  },
  "language_info": {
   "codemirror_mode": {
    "name": "ipython",
    "version": 3
   },
   "file_extension": ".py",
   "mimetype": "text/x-python",
   "name": "python",
   "nbconvert_exporter": "python",
   "pygments_lexer": "ipython3",
   "version": "3.7.3"
  }
 },
 "nbformat": 4,
 "nbformat_minor": 1
}