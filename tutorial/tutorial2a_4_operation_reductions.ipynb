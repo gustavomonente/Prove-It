{
 "cells": [
  {
   "cell_type": "markdown",
   "metadata": {},
   "source": [
    "Chapter 2.a.iv.  Operation reductions\n",
    "=======\n",
    "\n",
    "**Operation** is the base class for most of the **Expression** classes defined in the **Prove-It** theory systems.  An **Operation** represents *operator(s)* acting upon *operand(s)*.  $1 + 5 - 1$, $1 < k \\leq l$, and $x_1 \\cdot \\ldots \\cdot x_n$ are a few examples of expressions that can be represented by classes derived from **Operation**.\n",
    "\n",
    "There are essentially two kinds of reduction rules specific to **Operation** expressions that are applied in the process of performing a lambda application (beta reduction).\n",
    "\n",
    "1. *Operation replacement*: The operation itself may be replaced, rather than just its operator(s) and/or operand(s), in two different ways.\n",
    "    1. *Explicit operation replacement* is performed by replacing an operator with a **Lambda** expression.  In that case, the operation is replaced by the result of applying thislambda mapping to the operands (an internal beta reduction).  For example, $P(x, y)$ with $P:[(a, b) \\mapsto a+b]$ becomes $x + y$.\n",
    "    2. *Implicit operation replacement* is performed by replacing an operator with a designated **Literal** operator of an **Operation** class.  In that case, the operation is replaced by one of that derived class rather than the **Operation** class. For example, $P(x, y)$ with $P:+$ becomes $x + y$ (rather than $+(x, y)$).\n",
    "2. *Arity protection*: As an artifact of allowing either a single operand or multiple operands represented by an **ExprTuple**, rather than always having the operand(s) be an **ExprTuple**, we need to treat the following cases as special reduction rules.\n",
    "    1. The **Operation** has a single operand that is replaced by an **ExprTuple**.  It must become an operation with a single **ExprTuple** operand rather than multiple operands.  For example, $f(x)$ with $x:(a, b, c)$ becomes $f((a, b, c))$ rather than $f(a, b, c)$.\n",
    "    2. The **Operation** has an **ExprTuple** of multiple operands in an **ExprRange** that collapses to a single operand.  The outer **ExprTuple** must be eliminated consistent with haveing a single operand.  For example, $f(x_1, \\ldots, x_n)$ with $n:1$ becomes $f(x_1)$ rather than $f((x_1))$."
   ]
  },
  {
   "cell_type": "code",
   "execution_count": null,
   "metadata": {},
   "outputs": [],
   "source": [
    "import proveit\n",
    "%begin operation_reduction"
   ]
  },
  {
   "cell_type": "markdown",
   "metadata": {},
   "source": [
    "## Creating operation expressions\n",
    "\n",
    "Operation expressions come in various forms.  In any of its forms an **Operation** has two sub-expressions representing its *operator(s)* and *operand(s)* respectively.  Each of these may either be an **ExprTuple** or it represents a singular operator/operand.  There are two main types of formatting for an **Operation**, though any formatting rules may be defined by a class that derives from **Operation**.  These are *infix* and *function* formatting.\n",
    "\n",
    "The default formatting of an **Operation** class is *infix* notation. For example,"
   ]
  },
  {
   "cell_type": "code",
   "execution_count": null,
   "metadata": {},
   "outputs": [],
   "source": [
    "from proveit import Operation\n",
    "from proveit._common_ import a, b, c\n",
    "from proveit.number import Add\n",
    "\n",
    "add_abc_opclass = Operation(Add._operator_, (a, b, c))"
   ]
  },
  {
   "cell_type": "markdown",
   "metadata": {},
   "source": [
    "Note, however, that this is not the proper way to create an expression representing $a+b+c$ because it is not of type `Add`, we just borrowed the **Literal** operator for the `Add` operation called `Add._operator_`."
   ]
  },
  {
   "cell_type": "code",
   "execution_count": null,
   "metadata": {},
   "outputs": [],
   "source": [
    "add_abc_opclass.__class__"
   ]
  },
  {
   "cell_type": "markdown",
   "metadata": {},
   "source": [
    "Instead, we should use the `Add` constructor."
   ]
  },
  {
   "cell_type": "code",
   "execution_count": null,
   "metadata": {},
   "outputs": [],
   "source": [
    "add_abc = Add(a, b, c)"
   ]
  },
  {
   "cell_type": "code",
   "execution_count": null,
   "metadata": {},
   "outputs": [],
   "source": [
    "add_abc.__class__"
   ]
  },
  {
   "cell_type": "markdown",
   "metadata": {},
   "source": [
    "There is also formatting available for multiple operators.  For example,"
   ]
  },
  {
   "cell_type": "code",
   "execution_count": null,
   "metadata": {},
   "outputs": [],
   "source": [
    "from proveit.number import Less, LessEq, LesserSequence\n",
    "seq = LesserSequence((Less._operator_, LessEq._operator_), (a, b, c))"
   ]
  },
  {
   "cell_type": "markdown",
   "metadata": {},
   "source": [
    "We can see, below, that the `operators` and `operands` are both **ExprTuple** expression in this case."
   ]
  },
  {
   "cell_type": "code",
   "execution_count": null,
   "metadata": {},
   "outputs": [],
   "source": [
    "seq.exprInfo()"
   ]
  },
  {
   "cell_type": "markdown",
   "metadata": {},
   "source": [
    "When you want *function* formatting, it is best to use the `Function` class that is derived from `Operation`:"
   ]
  },
  {
   "cell_type": "code",
   "execution_count": null,
   "metadata": {},
   "outputs": [],
   "source": [
    "from proveit import Function\n",
    "from proveit._common_ import f, g, x, y, z\n",
    "Function(f, x)"
   ]
  },
  {
   "cell_type": "code",
   "execution_count": null,
   "metadata": {},
   "outputs": [],
   "source": [
    "Function(f, (x, y, z))"
   ]
  },
  {
   "cell_type": "markdown",
   "metadata": {},
   "source": [
    "It only makes sense to use *function* formatting when there is a single operator, so an error is raised if multiple operators are provided."
   ]
  },
  {
   "cell_type": "code",
   "execution_count": null,
   "metadata": {},
   "outputs": [],
   "source": [
    "try:\n",
    "    Function((f, g), (x, y))\n",
    "    assert False, \"Expected ValueError.\"\n",
    "except ValueError as e:\n",
    "    print(\"Expected error:\", e)    "
   ]
  },
  {
   "cell_type": "markdown",
   "metadata": {},
   "source": [
    "## Operation replacement\n",
    "\n",
    "We will demonstrate the two types of *operation replacement* in the following examples: explicit and implicit.\n",
    "\n",
    "### Explicit operation replacement\n",
    "\n",
    "To start our demonstration, let us define a **Lambda** expression which maps a variable $f$ to an expression in which $f$ is used as an operator."
   ]
  },
  {
   "cell_type": "code",
   "execution_count": null,
   "metadata": {},
   "outputs": [],
   "source": [
    "from proveit import Function, Lambda\n",
    "from proveit.logic import Equals\n",
    "from proveit._common_ import a, b, c, f, n, x, y, z\n",
    "ab_substitution = Lambda(f, Equals(Function(f, a), Function(f, b)))"
   ]
  },
  {
   "cell_type": "markdown",
   "metadata": {},
   "source": [
    "Now we just need to define a **Lambda** expression for replacing $f$."
   ]
  },
  {
   "cell_type": "code",
   "execution_count": null,
   "metadata": {},
   "outputs": [],
   "source": [
    "from proveit.number import Add, Mult\n",
    "add_y_then_mult_z = Lambda(x, Mult(Add(x, y), z))"
   ]
  },
  {
   "cell_type": "code",
   "execution_count": null,
   "metadata": {},
   "outputs": [],
   "source": [
    "ab_substitution.apply(add_y_then_mult_z)"
   ]
  },
  {
   "cell_type": "markdown",
   "metadata": {},
   "source": [
    "Note that the $f(a)$ and $f(b)$ operations themselves were replaced according to the `add_y_then_mult_z` lambda mapping applied to $a$ and $b$ respectively.  Let's show an example with multiple operands."
   ]
  },
  {
   "cell_type": "code",
   "execution_count": null,
   "metadata": {},
   "outputs": [],
   "source": [
    "ab_commutation = Lambda(f, Equals(Function(f, [a, b]), Function(f, [b, a])))"
   ]
  },
  {
   "cell_type": "code",
   "execution_count": null,
   "metadata": {},
   "outputs": [],
   "source": [
    "add_then_mult_z = Lambda((x, y), Mult(Add(x, y), z))"
   ]
  },
  {
   "cell_type": "code",
   "execution_count": null,
   "metadata": {},
   "outputs": [],
   "source": [
    "ab_commutation.apply(add_then_mult_z)"
   ]
  },
  {
   "cell_type": "markdown",
   "metadata": {},
   "source": [
    "### Implicit operation replacement\n",
    "\n",
    "It is typical to derive classes from **Operation** that have a single corresponding *operator* that is a **Literal**.  This operator should be defined as the `_operator_` attribute of the derived class.  This indicates to **Prove-It** that this specific operator is tied to that specific class.  This knowlege is used in *implicit operation replacement*.  When an operator is replaced by `_operator_` of a particular **Operation** class, the **Operation** is reconstucted to by of that particular type.  For example."
   ]
  },
  {
   "cell_type": "code",
   "execution_count": null,
   "metadata": {},
   "outputs": [],
   "source": [
    "a_add_b_commutation = ab_commutation.apply(Add._operator_)"
   ]
  },
  {
   "cell_type": "markdown",
   "metadata": {},
   "source": [
    "Is created using the proper `Add` class for constructing the left and right sides of the equation."
   ]
  },
  {
   "cell_type": "code",
   "execution_count": null,
   "metadata": {},
   "outputs": [],
   "source": [
    "a_add_b_commutation.lhs.__class__"
   ]
  },
  {
   "cell_type": "code",
   "execution_count": null,
   "metadata": {},
   "outputs": [],
   "source": [
    "a_add_b_commutation.rhs.__class__"
   ]
  },
  {
   "cell_type": "markdown",
   "metadata": {},
   "source": [
    "We can do the same using `Mult._operator_`:"
   ]
  },
  {
   "cell_type": "code",
   "execution_count": null,
   "metadata": {},
   "outputs": [],
   "source": [
    "a_mult_b_commutation = ab_commutation.apply(Mult._operator_)"
   ]
  },
  {
   "cell_type": "code",
   "execution_count": null,
   "metadata": {},
   "outputs": [],
   "source": [
    "a_mult_b_commutation.lhs.__class__"
   ]
  },
  {
   "cell_type": "markdown",
   "metadata": {},
   "source": [
    "When verifying the correctness of a **Prove-It** proof (double-checking the derivation steps that we will discuss in future chapters), the specific type of **Operation** class of an expression is not important.  But this \"reduction rule\" is important in regards to the way **Prove-It** works as proofs are being generated."
   ]
  },
  {
   "cell_type": "markdown",
   "metadata": {},
   "source": [
    "## Arity protection\n",
    "\n",
    "The arity of an operation, the number of its operands, must always be respected.  That is, in performing a lambda application and applying reduction rules, the number of operands must not change.  This requires special attention simply because a single operand, which is not an **ExprTuple** will not be wrapped in an **ExprTuple** as a convention for the expression DAGs to be more succinct (smaller).\n",
    "\n",
    "### Protecting 1-arity\n",
    "\n",
    "When we start with a function with arity 1 and replace its operand with an **ExprTuple**, we must not distinguish the result from a function with that **ExprTuple** as its operands.  We do this by making the new operands be an **ExprTuple** with a single element which is the **ExprTuple** replacing the original operand.  For example, starting with a simple **Lambda** expression ..."
   ]
  },
  {
   "cell_type": "code",
   "execution_count": null,
   "metadata": {},
   "outputs": [],
   "source": [
    "from proveit._common_ import fx\n",
    "operate_with_unary_f = Lambda(x, fx)"
   ]
  },
  {
   "cell_type": "code",
   "execution_count": null,
   "metadata": {},
   "outputs": [],
   "source": [
    "operate_with_unary_f.body"
   ]
  },
  {
   "cell_type": "markdown",
   "metadata": {},
   "source": [
    "... whose body is a function-formatted operation with a single operand that is the lambda parameters $x$ ..."
   ]
  },
  {
   "cell_type": "code",
   "execution_count": null,
   "metadata": {},
   "outputs": [],
   "source": [
    "operate_with_unary_f.body.exprInfo()"
   ]
  },
  {
   "cell_type": "markdown",
   "metadata": {},
   "source": [
    "... we can apply the map to an **ExprTuple** to obtain"
   ]
  },
  {
   "cell_type": "code",
   "execution_count": null,
   "metadata": {},
   "outputs": [],
   "source": [
    "from proveit import ExprTuple\n",
    "abc_on_unary = operate_with_unary_f.apply(ExprTuple(a, b, c))"
   ]
  },
  {
   "cell_type": "markdown",
   "metadata": {},
   "source": [
    "which is distinguished from $f(a, b, c)$ by wrapping $(a, b, c)$ in an extra **ExprTuple**:"
   ]
  },
  {
   "cell_type": "code",
   "execution_count": null,
   "metadata": {},
   "outputs": [],
   "source": [
    "abc_on_unary.exprInfo()"
   ]
  },
  {
   "cell_type": "markdown",
   "metadata": {},
   "source": [
    "### Reducing to 1-arity\n",
    "\n",
    "This situation can manifest itself in the reverse direction.  We can start with operand(s) of an indeterminant number via an **ExprRange** within an **ExprTuple** and then reduce it to a single operand which should no longer be wrapped in an **ExprTuple**.  For example, "
   ]
  },
  {
   "cell_type": "code",
   "execution_count": null,
   "metadata": {},
   "outputs": [],
   "source": [
    "from proveit.core_expr_types._common_ import x_1_to_n\n",
    "nary_operation_map = Lambda(n, Function(f, x_1_to_n))"
   ]
  },
  {
   "cell_type": "code",
   "execution_count": null,
   "metadata": {},
   "outputs": [],
   "source": [
    "nary_operation_map.body"
   ]
  },
  {
   "cell_type": "code",
   "execution_count": null,
   "metadata": {},
   "outputs": [],
   "source": [
    "nary_operation_map.body.exprInfo()"
   ]
  },
  {
   "cell_type": "markdown",
   "metadata": {},
   "source": [
    "We can `apply` our lambda expression to $1$ and allow the **ExprRange** to reduce, in a manner discussed in the previous chapter, to just a single $x_1$:"
   ]
  },
  {
   "cell_type": "code",
   "execution_count": null,
   "metadata": {},
   "outputs": [],
   "source": [
    "from proveit.number import one\n",
    "f_x1 = nary_operation_map.apply(one)"
   ]
  },
  {
   "cell_type": "markdown",
   "metadata": {},
   "source": [
    "In addition to reducing the **ExprRange** to a single element, we must also eliminate the enclosing **ExprTuple** so that we have a single operand consistent with our convention."
   ]
  },
  {
   "cell_type": "code",
   "execution_count": null,
   "metadata": {},
   "outputs": [],
   "source": [
    "f_x1.exprInfo()"
   ]
  },
  {
   "cell_type": "code",
   "execution_count": null,
   "metadata": {},
   "outputs": [],
   "source": [
    "%end operation_reduction"
   ]
  },
  {
   "cell_type": "markdown",
   "metadata": {},
   "source": [
    "# Next chapter: <a href=\"tutorial04_relabeling.ipynb\">ToDo</a>\n",
    "\n",
    "## <a href=\"tutorial00_introduction.ipynb#contents\">Table of Contents</a>"
   ]
  }
 ],
 "metadata": {
  "kernelspec": {
   "display_name": "Python 3",
   "language": "python",
   "name": "python3"
  }
 },
 "nbformat": 4,
 "nbformat_minor": 0
}
