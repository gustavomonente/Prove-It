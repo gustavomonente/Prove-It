{
 "cells": [
  {
   "cell_type": "markdown",
   "metadata": {},
   "source": [
    "Chapter 2.a.iv.  Operation reductions\n",
    "=======\n",
    "\n",
    "**Operation** is the base class for most of the **Expression** classes defined in the **Prove-It** theory systems.  An **Operation** represents *operator(s)* acting upon *operand(s)*.  $1 + 5 - 1$, $1 < k \\leq l$, and $x_1 \\cdot \\ldots \\cdot x_n$ are a few examples of expressions that can be represented by classes derived from **Operation**.\n",
    "\n",
    "There are essentially two kinds of reduction rules specific to **Operation** expressions that are applied in the process of performing a lambda application (beta reduction).\n",
    "\n",
    "1. *Operation replacement*: The operation itself may be replaced, rather than just its operator(s) and/or operand(s), in two different ways.\n",
    "    1. *Explicit operation replacement* is performed by replacing an operator with a **Lambda** expression.  In that case, the operation is replaced by the result of applying thislambda mapping to the operands (an internal beta reduction).  For example, $P(x, y)$ with $P:[(a, b) \\mapsto a+b]$ becomes $x + y$.\n",
    "    2. *Implicit operation replacement* is performed by replacing an operator with a designated **Literal** operator of an **Operation** class.  In that case, the operation is replaced by one of that derived class rather than the **Operation** class. For example, $P(x, y)$ with $P:+$ becomes $x + y$ with the correct `Add` type rather than a generic **Operation** type.\n",
    "2. *Arity protection*: As an artifact of allowing either a single operand or multiple operands represented by an **ExprTuple**, rather than always having the operand(s) be an **ExprTuple**, we need to treat the following cases as special reduction rules.\n",
    "    1. The **Operation** has a single operand that is replaced by an **ExprTuple**.  It must become an operation with a single **ExprTuple** operand rather than multiple operands.  For example, $f(x)$ with $x:(a, b, c)$ becomes $f((a, b, c))$ rather than $f(a, b, c)$.\n",
    "    2. The **Operation** has an **ExprTuple** of multiple operands in an **ExprRange** that collapses to a single operand.  The outer **ExprTuple** must be eliminated consistent with haveing a single operand.  For example, $f(x_1, \\ldots, x_n)$ with $n:1$ becomes $f(x_1)$ rather than $f((x_1))$."
   ]
  },
  {
   "cell_type": "code",
   "execution_count": 1,
   "metadata": {},
   "outputs": [],
   "source": [
    "import proveit\n",
    "%begin operation_reductions"
   ]
  },
  {
   "cell_type": "markdown",
   "metadata": {},
   "source": [
    "## Creating operation expressions\n",
    "\n",
    "Operation expressions come in various forms.  In any of its forms an **Operation** has two sub-expressions representing its *operator(s)* and *operand(s)* respectively.  Each of these may either be an **ExprTuple** or it represents a singular operator/operand.  There are two main types of formatting for an **Operation**, though any formatting rules may be defined by a class that derives from **Operation**.  These are *infix* and *function* formatting.\n",
    "\n",
    "The default formatting of an **Operation** class is *infix* notation. For example,"
   ]
  },
  {
   "cell_type": "code",
   "execution_count": 2,
   "metadata": {},
   "outputs": [
    {
     "data": {
      "text/html": [
       "<strong id=\"add_abc_opclass\">add_abc_opclass:</strong> <a class=\"ProveItLink\" href=\"__pv_it/28c9516b74da21cfb76c7b29232761728d2776290/expr.ipynb\"><img src=\"data:image/png;base64,iVBORw0KGgoAAAANSUhEUgAAAFAAAAAQBAMAAABzZ+XyAAAAMFBMVEX///9UVFSqqqrMzMwiIiJE\n",
       "RESYmJgyMjK6urru7u4QEBCIiIh2dnZmZmbc3NwAAABRgo0vAAAAAXRSTlMAQObYZgAAAOVJREFU\n",
       "KM9jYMAAnFEODMQB9gsEFGhDaX4FKINpA36F/ROIVHiEAatCvju3V6IqLNx9CU0hz+7NDAxdD9g/\n",
       "oCjk/D5h/gMUhXxODOEMnMsYeANQFDL9ZODfgKKQ5QCDEAPvTwYWEP94eblXeXkhkMVbwDD/ANC6\n",
       "8vKS5eXlAkCR+yDfcQUwzDdAMREYjP0KKCYuBRFAzfqovuZPgBgBV8j5B6xQgUGc6QGKwgagu1FM\n",
       "/AZkMrBuYHPkQTGRMYH1AqrCiwyclxk4pTc/3IEaPLePoQU4z7FsrDHDwEAgCmdiJLgJCDYAn3U/\n",
       "H22YZFcAAAAASUVORK5CYII=\n",
       "\" style=\"display:inline;vertical-align:middle;\" /></a><br>"
      ],
      "text/plain": [
       "add_abc_opclass: a + b + c"
      ]
     },
     "execution_count": 2,
     "metadata": {},
     "output_type": "execute_result"
    }
   ],
   "source": [
    "from proveit import Operation\n",
    "from proveit._common_ import a, b, c\n",
    "from proveit.number import Add\n",
    "\n",
    "add_abc_opclass = Operation(Add._operator_, (a, b, c))"
   ]
  },
  {
   "cell_type": "markdown",
   "metadata": {},
   "source": [
    "Note, however, that this is not the proper way to create an expression representing $a+b+c$ because it is not of type `Add`, we just borrowed the **Literal** operator for the `Add` operation called `Add._operator_`."
   ]
  },
  {
   "cell_type": "code",
   "execution_count": 3,
   "metadata": {},
   "outputs": [
    {
     "data": {
      "text/plain": [
       "proveit._core_.expression.operation.operation.Operation"
      ]
     },
     "execution_count": 3,
     "metadata": {},
     "output_type": "execute_result"
    }
   ],
   "source": [
    "add_abc_opclass.__class__"
   ]
  },
  {
   "cell_type": "markdown",
   "metadata": {},
   "source": [
    "Instead, we should use the `Add` constructor."
   ]
  },
  {
   "cell_type": "code",
   "execution_count": 4,
   "metadata": {},
   "outputs": [
    {
     "data": {
      "text/html": [
       "<strong id=\"add_abc\">add_abc:</strong> <a class=\"ProveItLink\" href=\"__pv_it/8cadd8e6f11fa53049abab0b25d511183b14929a0/expr.ipynb\"><img src=\"data:image/png;base64,iVBORw0KGgoAAAANSUhEUgAAAFAAAAAQBAMAAABzZ+XyAAAAMFBMVEX///9UVFSqqqrMzMwiIiJE\n",
       "RESYmJgyMjK6urru7u4QEBCIiIh2dnZmZmbc3NwAAABRgo0vAAAAAXRSTlMAQObYZgAAAOVJREFU\n",
       "KM9jYMAAnFEODMQB9gsEFGhDaX4FKINpA36F/ROIVHiEAatCvju3V6IqLNx9CU0hz+7NDAxdD9g/\n",
       "oCjk/D5h/gMUhXxODOEMnMsYeANQFDL9ZODfgKKQ5QCDEAPvTwYWEP94eblXeXkhkMVbwDD/ANC6\n",
       "8vKS5eXlAkCR+yDfcQUwzDdAMREYjP0KKCYuBRFAzfqovuZPgBgBV8j5B6xQgUGc6QGKwgagu1FM\n",
       "/AZkMrBuYHPkQTGRMYH1AqrCiwyclxk4pTc/3IEaPLePoQU4z7FsrDHDwEAgCmdiJLgJCDYAn3U/\n",
       "H22YZFcAAAAASUVORK5CYII=\n",
       "\" style=\"display:inline;vertical-align:middle;\" /></a><br>"
      ],
      "text/plain": [
       "add_abc: a + b + c"
      ]
     },
     "execution_count": 4,
     "metadata": {},
     "output_type": "execute_result"
    }
   ],
   "source": [
    "add_abc = Add(a, b, c)"
   ]
  },
  {
   "cell_type": "code",
   "execution_count": 5,
   "metadata": {},
   "outputs": [
    {
     "data": {
      "text/plain": [
       "proveit.number.addition.add.Add"
      ]
     },
     "execution_count": 5,
     "metadata": {},
     "output_type": "execute_result"
    }
   ],
   "source": [
    "add_abc.__class__"
   ]
  },
  {
   "cell_type": "markdown",
   "metadata": {},
   "source": [
    "There is also formatting available for multiple operators.  For example,"
   ]
  },
  {
   "cell_type": "code",
   "execution_count": 6,
   "metadata": {},
   "outputs": [
    {
     "data": {
      "text/html": [
       "<strong id=\"seq\">seq:</strong> <a class=\"ProveItLink\" href=\"__pv_it/7b2f54356ffdccc739102cd322f8a5b0c4a22abb0/expr.ipynb\"><img src=\"data:image/png;base64,iVBORw0KGgoAAAANSUhEUgAAAFQAAAARBAMAAACx0JYtAAAAMFBMVEX///9UVFSqqqrMzMwiIiJE\n",
       "RESYmJgyMjK6urru7u4QEBCIiIh2dnZmZmbc3NwAAABRgo0vAAAAAXRSTlMAQObYZgAAARBJREFU\n",
       "KM9jYMAEnFEODMQC9gsINrczDkXqBiCSXwEuMMcbh8qUe2CqfwJM4K0bDpVbTkLoIzCBh0Uo8nx3\n",
       "bq+E+ObIBqhQ4e5LYNq0Aq6KZ/dmBoauB+wfwCqvJMBC4PuE+Q+ANGswwjwnhnAGzmUMvAEgnjjc\n",
       "L0w/GfhBFnB7w93McoBBiIH3JwMLSJwToZS3gGH+ARCDzQem9j6IwRXAMB8cQnxwBwCDtR+ij6n2\n",
       "AURoKYgA6tdnQPUWfwLEFCDgKAQbw/kHrFSBQZzpAUpg8TcAPQAFzKENIOob0AYG1g1sjjyoUcCY\n",
       "wIqIWT5hEHmRgfMyA6f05oc7UCOW8/Yx9MjhOZbNQH8w3QUE4IkQAJpdRPO3bLp9AAAAAElFTkSu\n",
       "QmCC\n",
       "\" style=\"display:inline;vertical-align:middle;\" /></a><br>"
      ],
      "text/plain": [
       "seq: a < b <= c"
      ]
     },
     "execution_count": 6,
     "metadata": {},
     "output_type": "execute_result"
    }
   ],
   "source": [
    "from proveit.number import Less, LessEq, LesserSequence\n",
    "seq = LesserSequence((Less._operator_, LessEq._operator_), (a, b, c))"
   ]
  },
  {
   "cell_type": "markdown",
   "metadata": {},
   "source": [
    "We can see, below, that the `operators` and `operands` are both **ExprTuple** expression in this case."
   ]
  },
  {
   "cell_type": "code",
   "execution_count": 7,
   "metadata": {},
   "outputs": [
    {
     "data": {
      "text/html": [
       "<table><tr><th>&nbsp;</th><th>core type</th><th>sub-expressions</th><th>expression</th></tr>\n",
       "<tr><td>0</td><td>Operation</td><td>operators:&nbsp;1<br>operands:&nbsp;2<br></td><td><a class=\"ProveItLink\" href=\"__pv_it/7b2f54356ffdccc739102cd322f8a5b0c4a22abb0/expr.ipynb\"><img src=\"data:image/png;base64,iVBORw0KGgoAAAANSUhEUgAAAFQAAAARBAMAAACx0JYtAAAAMFBMVEX///9UVFSqqqrMzMwiIiJE\n",
       "RESYmJgyMjK6urru7u4QEBCIiIh2dnZmZmbc3NwAAABRgo0vAAAAAXRSTlMAQObYZgAAARBJREFU\n",
       "KM9jYMAEnFEODMQC9gsINrczDkXqBiCSXwEuMMcbh8qUe2CqfwJM4K0bDpVbTkLoIzCBh0Uo8nx3\n",
       "bq+E+ObIBqhQ4e5LYNq0Aq6KZ/dmBoauB+wfwCqvJMBC4PuE+Q+ANGswwjwnhnAGzmUMvAEgnjjc\n",
       "L0w/GfhBFnB7w93McoBBiIH3JwMLSJwToZS3gGH+ARCDzQem9j6IwRXAMB8cQnxwBwCDtR+ij6n2\n",
       "AURoKYgA6tdnQPUWfwLEFCDgKAQbw/kHrFSBQZzpAUpg8TcAPQAFzKENIOob0AYG1g1sjjyoUcCY\n",
       "wIqIWT5hEHmRgfMyA6f05oc7UCOW8/Yx9MjhOZbNQH8w3QUE4IkQAJpdRPO3bLp9AAAAAElFTkSu\n",
       "QmCC\n",
       "\" style=\"display:inline;vertical-align:middle;\" /></a></td></tr>\n",
       "<tr><td>1</td><td>ExprTuple</td><td>3, 4</td><td><a class=\"ProveItLink\" href=\"__pv_it/aa1eb99b37950f0cd73f94aef4941efbe810dcbf0/expr.ipynb\"><img src=\"data:image/png;base64,iVBORw0KGgoAAAANSUhEUgAAADUAAAAUBAMAAADfOGjQAAAAMFBMVEX///9UVFTMzMx2dna6uroQ\n",
       "EBCqqqqIiIgiIiJmZmYyMjJERETu7u6YmJjc3NwAAAC+aOQFAAAAAXRSTlMAQObYZgAAAO1JREFU\n",
       "KM9jYOC7wIAN5IGI01ilGBgfAIl1WCTYmxh4FjAw8E6A8rMU4FKH24GEOQMDxwMI/8Y8uNTLXhB5\n",
       "lIHhBYRfYQOXergMTHE5MFSCaB6LAriU9hIIzTyBYS9IagbCH9yboAzeBQxtQEoqAcmJ7QcgDLYG\n",
       "hhCgNmQ5Bt5miCTTB5AcA98M5LBhW/kAKteG7hYGBpaFIK+yNIDdguoHoJbdDmC3WDLA/c7zCybJ\n",
       "J8TAwGnA4MGACLOOA0iauRTgYQZ2BbLcCaSwBgUFclwAw5phH4J7HIhPdYAAJI6Q4xbZl9wgu3Ck\n",
       "iXsMDAAntTiTA0QmgQAAAABJRU5ErkJggg==\n",
       "\" style=\"display:inline;vertical-align:middle;\" /></a></td></tr>\n",
       "<tr><td>2</td><td>ExprTuple</td><td>5, 6, 7</td><td><a class=\"ProveItLink\" href=\"__pv_it/d90118782a263653f0cbfdd8712fa5e8640d117d0/expr.ipynb\"><img src=\"data:image/png;base64,iVBORw0KGgoAAAANSUhEUgAAADsAAAAUBAMAAADB8VhjAAAAMFBMVEX///9UVFTMzMx2dna6uroQ\n",
       "EBCqqqqIiIgiIiJmZmYyMjJERETu7u6YmJjc3NwAAAC+aOQFAAAAAXRSTlMAQObYZgAAAS5JREFU\n",
       "KM91krFKxEAQhv94Xsgm5mInWOURAhZqIVwj2F1jqZAHEA0iHHYRwcoiIHil6wtIGkvlGkGxSF5A\n",
       "id2VV0sKZ3cTmDNcisk3/+7O/rO7wKDEku9UhU8mrD2nLLMqCk98gZvxyRLwuYAg5tk24FRcGE15\n",
       "9gbMFtzsLGTuEJf0G9xNjozwOL5vC49D9DK8EO5X7tyY+Z0WZrNZ7En4EjckHkPkWrRrBImma1gx\n",
       "7BSHgKjhGFFIFJGGWsWVuRru5yjCtu2Rbq2fN8NUnBacNW2XeNCtmRqrqbJWxNi0taNgSD6aeYiV\n",
       "tV3AS/yrHgo6Qqv0Mg1iHR8hRIQDcr5x/nMB55ZosgcN2Pois27IDvWkA+/8SqIO0JXgtb2+pAOS\n",
       "PQcf/8FT+y5/TN/AHyMESix9a0nJAAAAAElFTkSuQmCC\n",
       "\" style=\"display:inline;vertical-align:middle;\" /></a></td></tr>\n",
       "<tr><td>3</td><td>Literal</td><td></td><td><a class=\"ProveItLink\" href=\"../packages/proveit/number/ordering/__pv_it/f3d9fbb51fcb1b5a2184b502c51efff1714101450/expr.ipynb\"><img src=\"data:image/png;base64,iVBORw0KGgoAAAANSUhEUgAAAA4AAAAMBAMAAACgrpHpAAAAJ1BMVEX///9UVFTu7u52dnaIiIjc\n",
       "3NxmZmYiIiKYmJjMzMwyMjKqqqoAAAC78Qc2AAAAAXRSTlMAQObYZgAAADRJREFUCNdjYAAB7pVg\n",
       "iqMsAESxFCuAKOUSsKBaBZhiXA2mGBShNENYBZQBVQfXBzcHZC4Ahl8IRZ/iBPwAAAAASUVORK5C\n",
       "YII=\n",
       "\" style=\"display:inline;vertical-align:middle;\" /></a></td></tr>\n",
       "<tr><td>4</td><td>Literal</td><td></td><td><a class=\"ProveItLink\" href=\"../packages/proveit/number/ordering/__pv_it/75657f0186226b3d1bb8ce3bab2953bb36e04b3b0/expr.ipynb\"><img src=\"data:image/png;base64,iVBORw0KGgoAAAANSUhEUgAAAA4AAAARBAMAAAAf5oCsAAAALVBMVEX///+6urpERESqqqoyMjJU\n",
       "VFSYmJhmZmbc3Nx2dnbu7u7MzMwiIiKIiIgAAABG7jNxAAAAAXRSTlMAQObYZgAAAEJJREFUCNdj\n",
       "YEAGvKfB1MqzYKr9GJhqdQZTmxzBFJM2VOnZBRAG20kog9m9AcJgdN0AYXArCUAYHNEMuMCSMyBw\n",
       "GgCwmhA4u838QwAAAABJRU5ErkJggg==\n",
       "\" style=\"display:inline;vertical-align:middle;\" /></a></td></tr>\n",
       "<tr><td>5</td><td>Variable</td><td></td><td><a class=\"ProveItLink\" href=\"../packages/proveit/__pv_it/a8d4b3a34d2189508f9082853fbac36935714f280/expr.ipynb\"><img src=\"data:image/png;base64,iVBORw0KGgoAAAANSUhEUgAAAAsAAAAJBAMAAAAWSsseAAAAMFBMVEX///9UVFSqqqrMzMwiIiJE\n",
       "RESYmJgyMjK6urru7u4QEBCIiIh2dnZmZmbc3NwAAABRgo0vAAAAAXRSTlMAQObYZgAAAEdJREFU\n",
       "CNdjYOC7c3slAwND1wP2DwwMnMsYeAMYGHh/MrBsYGDgCmCYb8DAMP8Agz5QxXwFBnGmBwysG9gc\n",
       "eYAqpTc/3MEAAP4BD32xAXDqAAAAAElFTkSuQmCC\n",
       "\" style=\"display:inline;vertical-align:middle;\" /></a></td></tr>\n",
       "<tr><td>6</td><td>Variable</td><td></td><td><a class=\"ProveItLink\" href=\"../packages/proveit/__pv_it/53e304ff98ebc000dbe3ef224f4637dbafd46ba70/expr.ipynb\"><img src=\"data:image/png;base64,iVBORw0KGgoAAAANSUhEUgAAAAkAAAAOBAMAAAAPuiubAAAALVBMVEX///+YmJjc3NyIiIhUVFR2\n",
       "dna6urqqqqpmZmYyMjIiIiIQEBBERETu7u4AAAALjtrwAAAAAXRSTlMAQObYZgAAAE9JREFUCNdj\n",
       "4D29gAEIOBtAJF8BiMy7ACKjQATDFON2BgbelxfuKTCwv2XgM2DgmMBwLwCkPK+AgU+Aoe8CA18C\n",
       "70YGBhYBHqARvM2BDAwAqXgQspq5HJAAAAAASUVORK5CYII=\n",
       "\" style=\"display:inline;vertical-align:middle;\" /></a></td></tr>\n",
       "<tr><td>7</td><td>Variable</td><td></td><td><a class=\"ProveItLink\" href=\"../packages/proveit/__pv_it/b2b446b221a34ee579eb9a1fbdd4ac4e2891d8c70/expr.ipynb\"><img src=\"data:image/png;base64,iVBORw0KGgoAAAANSUhEUgAAAAkAAAAJBAMAAAASvxsjAAAALVBMVEX///+YmJgQEBDu7u5mZmZU\n",
       "VFQyMjJERESqqqoiIiLc3NzMzMyIiIh2dnYAAABuqkWTAAAAAXRSTlMAQObYZgAAADZJREFUCNdj\n",
       "YGC4c2YDA8PKBvYEBoa5DKwNDCyPGYCAqQBE2l0AkXwCDAxA8QAGE6DKu4IHGABBiAr2Gi8OxgAA\n",
       "AABJRU5ErkJggg==\n",
       "\" style=\"display:inline;vertical-align:middle;\" /></a></td></tr>\n",
       "</table>\n"
      ],
      "text/plain": [
       "0. a < b <= c\n",
       "   core type: Operation\n",
       "   operators: 1\n",
       "   operands: 2\n",
       "1. (<, <=)\n",
       "   core type: ExprTuple\n",
       "   sub-expressions: 3, 4\n",
       "2. (a, b, c)\n",
       "   core type: ExprTuple\n",
       "   sub-expressions: 5, 6, 7\n",
       "3. <\n",
       "   core type: Literal\n",
       "   sub-expressions: \n",
       "4. <=\n",
       "   core type: Literal\n",
       "   sub-expressions: \n",
       "5. a\n",
       "   core type: Variable\n",
       "   sub-expressions: \n",
       "6. b\n",
       "   core type: Variable\n",
       "   sub-expressions: \n",
       "7. c\n",
       "   core type: Variable\n",
       "   sub-expressions: "
      ]
     },
     "execution_count": 7,
     "metadata": {},
     "output_type": "execute_result"
    }
   ],
   "source": [
    "seq.exprInfo()"
   ]
  },
  {
   "cell_type": "markdown",
   "metadata": {},
   "source": [
    "When you want *function* formatting, it is best to use the `Function` class that is derived from `Operation`:"
   ]
  },
  {
   "cell_type": "code",
   "execution_count": 8,
   "metadata": {},
   "outputs": [
    {
     "data": {
      "text/html": [
       "<a class=\"ProveItLink\" href=\"__pv_it/ad8699ba88202d70b8a56a34ddca3c51df38e2a70/expr.ipynb\"><img src=\"data:image/png;base64,iVBORw0KGgoAAAANSUhEUgAAACUAAAAUBAMAAAD4luk4AAAAMFBMVEX///8yMjJERETMzMwQEBCY\n",
       "mJgiIiK6urqqqqp2dnZUVFTc3NyIiIhmZmbu7u4AAADOOTK3AAAAAXRSTlMAQObYZgAAAO9JREFU\n",
       "GNNjYICCrVC6G0K9PbuBgU8BKsa1AUyt7G9gYNwAFeMTAJPfnzMwxMLMYJgDIjg+AIlsuNgTEMGZ\n",
       "wMDAnQAXYyxgYGC9knuBgecC0Iwzq2uAGjmBTAb+AwwMTAEMDC8Zwg4kAtWALNlvwMDA1sDAMI9h\n",
       "/oNqoPEgY/qBmAVoyAMGJZB5zCArp0HFGBj+wMW0GCB6GZg/g8TYQXp9GCB29PF8YDgHsYPvOwPY\n",
       "Aew/mD5wA6V4JwDVfoBo4Ftz7mwoyM1AZ3CCQwTht2cMDF2MASAWShgkPQSzmJDDKuY2hAkLU7gk\n",
       "UthHMzAAABcoOI8ge5+JAAAAAElFTkSuQmCC\n",
       "\" style=\"display:inline;vertical-align:middle;\" /></a>"
      ],
      "text/plain": [
       "f(x)"
      ]
     },
     "execution_count": 8,
     "metadata": {},
     "output_type": "execute_result"
    }
   ],
   "source": [
    "from proveit import Function\n",
    "from proveit._common_ import f, g, x, y, z\n",
    "Function(f, x)"
   ]
  },
  {
   "cell_type": "code",
   "execution_count": 9,
   "metadata": {},
   "outputs": [
    {
     "data": {
      "text/html": [
       "<a class=\"ProveItLink\" href=\"__pv_it/4274a001294fe54d3f7058f0abb7c7e3d2b45fed0/expr.ipynb\"><img src=\"data:image/png;base64,iVBORw0KGgoAAAANSUhEUgAAAE0AAAAUBAMAAAA6pq28AAAAMFBMVEX///8yMjJERETMzMwQEBCY\n",
       "mJgiIiK6urqqqqp2dnZUVFTc3NyIiIhmZmbu7u4AAADOOTK3AAAAAXRSTlMAQObYZgAAAXdJREFU\n",
       "KM+FUj1Lw1AUPU36lX7Ebq7i2EFc3PsDHDKoixWq6CRKZxXaWbHtolPRrqJDEAU3497Wik6KGEUU\n",
       "BTHgUAcH3333pdXBeCH3neQc7r3n5QIqjvF3bPDx1rJhDgXoErY89qplhOwAnZmRufsMzCAo6pTi\n",
       "nkiLgbpHSkYBSBYCdaEiELla6iDVEf2b+2t1nqfl4MiVMDZfHBOlBI0BB9As4AVTzqwkjVgO51zp\n",
       "IX8rbiJCRk5HgWgZ2MGuuyrJk3QGw6xzcUgWaKyqeMJF+qQ4uGEHXwrrI5TI6rbSoceh5OofCq7A\n",
       "12XBfdHjcIFUjlG8Id1Q33Gwj0rKQ5vZLLQGo02gwT7MLqTx2KfmJS28k7VrlBjpC1tnYqR0TdT0\n",
       "uLB50G5NigmWxetr886WKI2JQbpncSWG3JT+f6uoCX1E8QSshyxC/T0QLRIZOUzt5x7M3Uuk+Xtl\n",
       "ir8TtTSHUX+v8jcM/T2N0LTNS4Xwu8g/ez8NfAMrLl8ZXxKglAAAAABJRU5ErkJggg==\n",
       "\" style=\"display:inline;vertical-align:middle;\" /></a>"
      ],
      "text/plain": [
       "f(x, y, z)"
      ]
     },
     "execution_count": 9,
     "metadata": {},
     "output_type": "execute_result"
    }
   ],
   "source": [
    "Function(f, (x, y, z))"
   ]
  },
  {
   "cell_type": "markdown",
   "metadata": {},
   "source": [
    "It only makes sense to use *function* formatting when there is a single operator, so an error is raised if multiple operators are provided."
   ]
  },
  {
   "cell_type": "code",
   "execution_count": 10,
   "metadata": {},
   "outputs": [
    {
     "name": "stdout",
     "output_type": "stream",
     "text": [
      "Expected error: A Function must be given a single `operator`. (f, g) is not a valid `operator`.\n"
     ]
    }
   ],
   "source": [
    "try:\n",
    "    Function((f, g), (x, y))\n",
    "    assert False, \"Expected ValueError.\"\n",
    "except ValueError as e:\n",
    "    print(\"Expected error:\", e)    "
   ]
  },
  {
   "cell_type": "markdown",
   "metadata": {},
   "source": [
    "## Operation replacement\n",
    "\n",
    "We will demonstrate the two types of *operation replacement* in the following examples: explicit and implicit.\n",
    "\n",
    "### Explicit operation replacement\n",
    "\n",
    "To start our demonstration, let us define a **Lambda** expression which maps a variable $f$ to an expression in which $f$ is used as an operator."
   ]
  },
  {
   "cell_type": "code",
   "execution_count": 11,
   "metadata": {},
   "outputs": [
    {
     "data": {
      "text/html": [
       "<strong id=\"ab_substitution\">ab_substitution:</strong> <a class=\"ProveItLink\" href=\"__pv_it/216cd3ad844f123456bc53166ac0b08e2cb182b40/expr.ipynb\"><img src=\"data:image/png;base64,iVBORw0KGgoAAAANSUhEUgAAAKIAAAAUCAMAAAA5vxZBAAAANlBMVEX///8oKCgNDQ0yMjJERETM\n",
       "zMwQEBCYmJgiIiK6urqqqqp2dnZUVFTc3NyIiIhmZmbu7u4AAACDAbfLAAAAAXRSTlMAQObYZgAA\n",
       "AgtJREFUSMell9mCwiAMRZmBspfl/392atmS1Gp0eBCN5nAbEohCfDp289bmd/E/7ABAUMkp87hF\n",
       "XZ2ArY3I1YgRRWmLAQAUg6+eBZVPnCRVVCRTIkXIjAELVKorjsU0WVycgG2MkHhBpIgZpwGYIF/v\n",
       "IIkEyK7P08let7VolkSKcLUQwAQFewvBEdrBD4fT/sxZsjaFIoCOAZA9ytrmJQXnPl4/5bXjw2na\n",
       "9hxy0i0OIXOShiJkTCl7BBhzTbeiPFKswNEwnIbN6WO3ZN86swomSDCwcoIoVZbjZYeAPu91u5Uo\n",
       "kirgu1X206nbin6sk/sTecs5CwnCn6nYdA9An3G1/P5INGpdeaXdNdW7LZ982+Oy1U+qZSDkGcoA\n",
       "AX3G1WIL4jgLMh9InE7dps/Dd8SFJZEizjRw7eAhElW8L5BNQsVgo6dTs7WHn3Fx9nkuopUIQlQz\n",
       "d2MC+qzTvUR8c4BymU7NVs6Hj7Lfq4ZzvxCEeGRUS2laLqWiQwy1BA6X4DpLllO3qWM9Y6MILa0C\n",
       "627BiHgsrfoKA9Bm9yJv8kYSc76rxFaOM23bY+pptb2XeEXkFEaABqDNQfF7pnnZAadnFyDnzHmF\n",
       "GIDH7KOQhi+x3ffY6as24g0CthFWsTunlnKP5yVO6otm7DUCNWOG28vClpY4XVpa9R75GjEA6ov+\n",
       "nfXHwPz3j8EAnPMf1+UX4387y+0AAAAASUVORK5CYII=\n",
       "\" style=\"display:inline;vertical-align:middle;\" /></a><br>"
      ],
      "text/plain": [
       "ab_substitution: f -> (f(a) = f(b))"
      ]
     },
     "execution_count": 11,
     "metadata": {},
     "output_type": "execute_result"
    }
   ],
   "source": [
    "from proveit import Function, Lambda\n",
    "from proveit.logic import Equals\n",
    "from proveit._common_ import a, b, c, f, n, x, y, z\n",
    "ab_substitution = Lambda(f, Equals(Function(f, a), Function(f, b)))"
   ]
  },
  {
   "cell_type": "markdown",
   "metadata": {},
   "source": [
    "Now we just need to define a **Lambda** expression for replacing $f$."
   ]
  },
  {
   "cell_type": "code",
   "execution_count": 12,
   "metadata": {},
   "outputs": [
    {
     "data": {
      "text/html": [
       "<strong id=\"add_y_then_mult_z\">add_y_then_mult_z:</strong> <a class=\"ProveItLink\" href=\"__pv_it/163ecfbc32af5a64def0808de7d4f1d51a6daa410/expr.ipynb\"><img src=\"data:image/png;base64,iVBORw0KGgoAAAANSUhEUgAAAJQAAAAUCAMAAABcUuQ+AAAANlBMVEX///8QEBAoKCgNDQ1mZmaq\n",
       "qqrMzMxEREQyMjIiIiKYmJh2dna6urrc3NxUVFSIiIju7u4AAADPT139AAAAAXRSTlMAQObYZgAA\n",
       "AbxJREFUSMe1Vtt2hCAMhBZBFEj4/58tqCiBWHVt87Dj2Z1shlyIQjw1P1F8YoN/z+AMDcVnFvx7\n",
       "BmOjp/jwSON7Rm+TosiWAM5/m+EqwjVDQJMQ6yk+FYXyMlXyujVpRryl+FiUGN1lg2QGAgTvYE8b\n",
       "7WAaHRTF1pcThaDyF17iUh227s5KJ/Q6z5mBc+oQC8KOrIyBaDQTwc6XEzULlysCcW3GkR3pCZTa\n",
       "ImXGnA4wRxTOs6IEGKzyNhDsfBlRfhAqCzFrzOH4eyRPvpw+M/BwWO37ayQW49EG0hFsfefFwcoF\n",
       "wh5QZpVxlarjriTWSdP72Qsj1mez2JS7as1GVOfLNrpLuUyhdCNK2FBxjueNURy48umx1tiUr/Nl\n",
       "RS3VA1nOyA5srS8xBlx7EJAVRW/uptE7X1aUCeXjrNHXi+dguDgIE+v9ShatoxNcBnrF3pfPVMjU\n",
       "jaPmXpO20zxBucESAwNAukmmk52vdNNgNZ74tqIyTcWyMzUTJGVC7rcqx/jdPl0zaqsa2ss1Y59q\n",
       "urWQkY5vGPP4uz9cyJ0ZT/FGclN1Dfznq8sHL3kudZQWd49iPnpPe/M6PPlbjB99iBMc05NHXAAA\n",
       "AABJRU5ErkJggg==\n",
       "\" style=\"display:inline;vertical-align:middle;\" /></a><br>"
      ],
      "text/plain": [
       "add_y_then_mult_z: x -> ((x + y) * z)"
      ]
     },
     "execution_count": 12,
     "metadata": {},
     "output_type": "execute_result"
    }
   ],
   "source": [
    "from proveit.number import Add, Mult\n",
    "add_y_then_mult_z = Lambda(x, Mult(Add(x, y), z))"
   ]
  },
  {
   "cell_type": "code",
   "execution_count": 13,
   "metadata": {},
   "outputs": [
    {
     "data": {
      "text/html": [
       "<a class=\"ProveItLink\" href=\"__pv_it/a82514cf2820abd13d53ab253eb2b1d7d54dbd150/expr.ipynb\"><img src=\"data:image/png;base64,iVBORw0KGgoAAAANSUhEUgAAAOgAAAAUBAMAAAB112wpAAAAMFBMVEX///9UVFTMzMx2dna6uroQ\n",
       "EBCqqqqIiIgiIiJmZmYyMjJERETu7u6YmJjc3NwAAAC+aOQFAAAAAXRSTlMAQObYZgAAAsdJREFU\n",
       "SMeVVk1oE0EU/ppsmp+dxNwCBSVHQSS5iYIQD8XemkNBKQrxVi82+EOJF9OD3irRHorxYJQcbBBJ\n",
       "TyJaiYdiNYcERIoeZD0oBRFESwVpxTc7u92dySTRB99s8jHvezNv3r5ZINGFDb1dGEqQfXOgs1FL\n",
       "R7Qd6G3EGkYArGmjfVqrcEBHPHagN1YbRgAxS2BZq/BGQ8QrAr79F/3/jqg+PQTeO9jWCgSLynQi\n",
       "IrTEiNU/6JoaoofATQFjRyvA8mqu8tikxyb6B43l1GSqRKIsECxrBVBXF1lHiUaOxOLSGcmHlYr4\n",
       "3ELQS71xPXcYfkJYuCIQS5UKUtBXS0iQ5lFv6sRUoMuJVfrNMW7FvktBg0Ye1+i8vcJpb9xpusSx\n",
       "Bje7dMyuQOcR+yMFzY4jTJofvMSulu6CEzdoJLCziDaloF+iNTyjf3bSWmL4CpfwWaQgMNvCL79A\n",
       "olCFSZozdjwxJHiMGUzRSIjuIMLnBhuNh9ONRpJChIpcJMD3z37bMoHncAi/hXICVbCffgGGU9hH\n",
       "mhk+qSMSdoivPuMGDTXRSct1MNkK/HBjzNvMCQwKugxjWxKgcs6knaCRpM3YY8ZNbyeLWaX4qghT\n",
       "tRteNkeFY9k70/v+9O7ydPkF6Hyu8Orx1ndOlJNbSJ0Cxpw26fqswExKhXQekAlhbiFtYa0rCZD7\n",
       "CvyFNFrBiE3wgiaYxfh8UN7pLUySSDTrugQWjl/N+Qm3w1QE9uOpLBBNGrv0WNybefDtRt0mJkQC\n",
       "WOrip8uyz8u5e7yppl2XKN5xF49wX9+ywOtLXVmApUr8HXqwN7MSn87ZxKA2WCWsq/1kvV8b1AjQ\n",
       "qYKprxgRvQ2ftcQdVmNb/9fwFQGMoZPTN3y8gIBqka5Z/LerzbQEVFvAkz5XW99L3Ji7DY2Y2fcS\n",
       "77GTpbRuQ5wY/LnycSgx5HMlbvUSfwG6f92c/f0tUQAAAABJRU5ErkJggg==\n",
       "\" style=\"display:inline;vertical-align:middle;\" /></a>"
      ],
      "text/plain": [
       "((a + y) * z) = ((b + y) * z)"
      ]
     },
     "execution_count": 13,
     "metadata": {},
     "output_type": "execute_result"
    }
   ],
   "source": [
    "ab_substitution.apply(add_y_then_mult_z)"
   ]
  },
  {
   "cell_type": "markdown",
   "metadata": {},
   "source": [
    "Note that the $f(a)$ and $f(b)$ operations themselves were replaced according to the `add_y_then_mult_z` lambda mapping applied to $a$ and $b$ respectively.  Let's show an example with multiple operands."
   ]
  },
  {
   "cell_type": "code",
   "execution_count": 14,
   "metadata": {},
   "outputs": [
    {
     "data": {
      "text/html": [
       "<strong id=\"ab_commutation\">ab_commutation:</strong> <a class=\"ProveItLink\" href=\"__pv_it/0b68719f48f12f945e673bc245adbca756d359410/expr.ipynb\"><img src=\"data:image/png;base64,iVBORw0KGgoAAAANSUhEUgAAAMgAAAAUCAMAAAD/eoL4AAAANlBMVEX///8oKCgNDQ0yMjJERETM\n",
       "zMwQEBCYmJgiIiK6urqqqqp2dnZUVFTc3NyIiIhmZmbu7u4AAACDAbfLAAAAAXRSTlMAQObYZgAA\n",
       "AnJJREFUSMe1l+mS5CAIgN3VeCYe7/+ym3gFbLWZqll/jD1W+BAERMZ+OC5FXYTDXoz9iqYZFMJj\n",
       "8IGkK4qJEFwcvpa6/DqplmDoC5iNBgXw09lkKXo42FAX4utd8lD3x4mGjNAGmBrNR3hMJhqKGgWw\n",
       "XUhtdHX3OE87kBG69W+DdrhNq089drYG/3YhvT4Qk2LboSQZMkJfwNRsOcDdMhAt8vYFv2tC1yaK\n",
       "AZiTjnyEOr2PdANnFaQO74Zx5iKQDyDImlBfvIILXiIP8tP7UILDBUrkjlAAYBM1Ddrm5FdbZxba\n",
       "JWBFbEJt0cg7GnjCEc/j/SdHiXrT3XEwsH0DFALYRE2D1vlKx9IQ5sXrYw1804XqYpSP7iBwxMe+\n",
       "Oaspd8cAhQA2UdOgdca5/vcPRyOlHt3STNKyLoasU6PiFHj2qnt+H+knud6gAMAmahq0zjijNK4T\n",
       "Rr+7h4Z0oboo8wWGzrZcAqZUUJIhIxQC2ETNYIg4l+nNDg7sgqHVhcpicdtQx5PqPrwdMs8RpHuA\n",
       "IgCbqGnQOku/NgTd2jDZu1BZjNltJ0edzxOUJahRsq/HAEUANlGDkz0mVOJRr2ZQUQEl9BWqi+Le\n",
       "g9Inc7nW1H7jZokqExzpXsfQDuhIoAZAy2w20RsOnC/gzh4W413xj+v0z1Z0zbO7A3TNL/z4bsgn\n",
       "tAM6Eqh5oWV2gtxav90IEJq0KPajsYiU6ruD2kmv0qDPbE/GFdmQ2sphoUnT6Jb93ab07qHuS9Oo\n",
       "BbnDziGaHTUIidF70a867t1pb6HRf2njFfFFhR5Wg9DHw0otHLA/7S1ULb1Kgv/WU1f9j6dug+b5\n",
       "H5IeHkDmljKMAAAAAElFTkSuQmCC\n",
       "\" style=\"display:inline;vertical-align:middle;\" /></a><br>"
      ],
      "text/plain": [
       "ab_commutation: f -> (f(a, b) = f(b, a))"
      ]
     },
     "execution_count": 14,
     "metadata": {},
     "output_type": "execute_result"
    }
   ],
   "source": [
    "ab_commutation = Lambda(f, Equals(Function(f, [a, b]), Function(f, [b, a])))"
   ]
  },
  {
   "cell_type": "code",
   "execution_count": 15,
   "metadata": {},
   "outputs": [
    {
     "data": {
      "text/html": [
       "<strong id=\"add_then_mult_z\">add_then_mult_z:</strong> <a class=\"ProveItLink\" href=\"__pv_it/2532e814cc14697f6d7392ffa25848607b0d84a10/expr.ipynb\"><img src=\"data:image/png;base64,iVBORw0KGgoAAAANSUhEUgAAALcAAAAUCAMAAAD4OFztAAAANlBMVEX///8oKCgNDQ3MzMxUVFR2\n",
       "dna6uroQEBCqqqqIiIgiIiJmZmYyMjJERETu7u6YmJjc3NwAAADtE0dfAAAAAXRSTlMAQObYZgAA\n",
       "AipJREFUSMe9V+F6gyAMZFOBgER5/5cdCFFCwWL3bf4orT3uziQEFEKIfRPvL72L4YsIh4gf6xAC\n",
       "3RDhPGycCAeJH+tkxDpmCNdRZSJc9098v9dJiM0OEi4whiPCW2INv9A5EGY0Kqja96EiIMJb4hvf\n",
       "PR2O2M1wBlfZtsDjSoT3xDe+ezocAaSKAPMugWUJwcafu8IjPadBvuC4QSKkscVb++7plJc0Soop\n",
       "daiAcLlX4RIq0oAw5bJYhIxJA58Kdm071ewxiDCPTd7ad0+HNakNrM1KAWF0nhoedfEoZFGVuxY2\n",
       "crgE16btW4DDIvqajS3e2ndXRyD7tlOAAkLJ676rGm64pyK/TyKTpz++v1Z2eX+VJBHm8YV3OWYY\n",
       "dQzzvQ76MvTTGZ6AUMUi8C+LRYZIBdRU8RmsSq8gqXy3eet12dERZi4w1/eAoLSKa15xHekDRfba\n",
       "dTKt5WNUddLmrX13dNiM8hHMuYw0pmUBLJRupo+bdcn3xWpdtnlr3x2dl257IXLTkV4L5/NR6Cor\n",
       "O8e/shO7nFsiyzFvW9TF0sh4b+Ld1ilyarZlA+rsAZGTgjNA6KJbmmqogONt6+m8MTU3ATtVxV6O\n",
       "nLfr+61OCMKmzg0pIprbscaq9iL34M766T4/rnMgmsefnKl5jUUj/+BchazcH+okhHuNC+apJqTX\n",
       "wdNzLBG64XPsM52MaBzvqRplqLpJPHXx/L3hmQ4hhl6ntn96T3uvcyB+AKWrGjRFoAypAAAAAElF\n",
       "TkSuQmCC\n",
       "\" style=\"display:inline;vertical-align:middle;\" /></a><br>"
      ],
      "text/plain": [
       "add_then_mult_z: (x, y) -> ((x + y) * z)"
      ]
     },
     "execution_count": 15,
     "metadata": {},
     "output_type": "execute_result"
    }
   ],
   "source": [
    "add_then_mult_z = Lambda((x, y), Mult(Add(x, y), z))"
   ]
  },
  {
   "cell_type": "code",
   "execution_count": 16,
   "metadata": {},
   "outputs": [
    {
     "data": {
      "text/html": [
       "<a class=\"ProveItLink\" href=\"__pv_it/f01282f522386cafe56a42b70c0546850726c7530/expr.ipynb\"><img src=\"data:image/png;base64,iVBORw0KGgoAAAANSUhEUgAAAOYAAAAUBAMAAABrHlyaAAAAMFBMVEX///9UVFTMzMx2dna6uroQ\n",
       "EBCqqqqIiIgiIiJmZmYyMjJERETu7u6YmJjc3NwAAAC+aOQFAAAAAXRSTlMAQObYZgAAAsBJREFU\n",
       "SMeNVk1oE1EQnvw05mfzcwsISo+CaHvTCoV4EHprDz1I/SHe9NIGfyjxtD2oJ2UhYFEPpiUHG0Rz\n",
       "ERFsWQ+Fag67IFL1IOutIkKwEkGqOO/Nbnbf25ekA99s+JjZ773ZefMCkLOBQ2nzQwm0Hy5UlnBU\n",
       "RNuFbNoLHSAip4QIDGxxtM8qRQ+riGcuQpY28F11WaAejnMIa0rNdwoiaxACu6/QM19Gd0JOCRHw\n",
       "yUVXyieLVaRwJJK4wqSj0pw20W3KCiEC7hHie0pNbUau1Azs4GMHVJoneeFKciVlIqcTYrpSExry\n",
       "GhtQRc+Qqy2fF3NWFu/jm/yyx2+VjgkE2QGDkC5Wy6Lmt4kbWKoJP3RqNmozYh1/M5xx0h1BU/tj\n",
       "Wg5k/Z5pbz/ADiXiVJMZ75qMTbCeav8EzfhFeI6Pz35V16uPOHEbPUK7AKmWoJnYg3wFErxiJrnv\n",
       "jNalfSbLhAUTfguamzYwictcjlyuxYlZ9IjUHiRZbKzZfDLXbBaQqYM1DtEO3zJ/SfQ1cx1Jc6RE\n",
       "eAjabjAfHptwBx9jLMiich01OeFqjrTAGhX2icdzuuxKLHHmNAzSXIN4V9jnOdB+eprJAq8292Ne\n",
       "bXFLC2Lf5W220rhfygTl6f73XAnW9i+rVbAfdiHB1jflL+8SdZLXQ1YZDrqz0dMs4TcO9tAVgIJA\n",
       "kHk99It9wKBmFyL1+WAPJQyI8B5irYzIVLJLMWGfETuDJyA17mVE707eLAUJb64YhEPwSjxrL+Fj\n",
       "AYNrvcgj77fZYa3xrSO04tWv18WzsjzJvuqol5GCDw2B8I6tTnh7zRY13yweL+IiV3uRRnaODZTV\n",
       "AbOP25Y8Rbb6zT51Pmjy2UIiPOM1c9BI7z/jlfnKGQ8bQFDafu6yjEOAfd9lfe/s3vsGE707u49t\n",
       "qIiB/02+DCWG/DfJOmHiP96k3Anq635AAAAAAElFTkSuQmCC\n",
       "\" style=\"display:inline;vertical-align:middle;\" /></a>"
      ],
      "text/plain": [
       "((a + b) * z) = ((b + a) * z)"
      ]
     },
     "execution_count": 16,
     "metadata": {},
     "output_type": "execute_result"
    }
   ],
   "source": [
    "ab_commutation.apply(add_then_mult_z)"
   ]
  },
  {
   "cell_type": "markdown",
   "metadata": {},
   "source": [
    "### Implicit operation replacement\n",
    "\n",
    "It is typical to derive classes from **Operation** that have a single corresponding *operator* that is a **Literal**.  This operator should be defined as the `_operator_` attribute of the derived class.  This indicates to **Prove-It** that this specific operator is tied to that specific class.  This knowlege is used in *implicit operation replacement*.  When an operator is replaced by `_operator_` of a particular **Operation** class, the **Operation** is reconstucted to by of that particular type.  For example."
   ]
  },
  {
   "cell_type": "code",
   "execution_count": 17,
   "metadata": {},
   "outputs": [
    {
     "data": {
      "text/html": [
       "<strong id=\"a_add_b_commutation\">a_add_b_commutation:</strong> <a class=\"ProveItLink\" href=\"__pv_it/5850fdf0ce5a69e61d41336b75676fa750c61c6e0/expr.ipynb\"><img src=\"data:image/png;base64,iVBORw0KGgoAAAANSUhEUgAAAJMAAAAUBAMAAAB7fhJGAAAAMFBMVEX///9UVFTMzMx2dna6uroQ\n",
       "EBCqqqqIiIgiIiJmZmYyMjJERETu7u6YmJjc3NwAAAC+aOQFAAAAAXRSTlMAQObYZgAAAfRJREFU\n",
       "OMuVlLlLA0EUxr8YDSaZmHQBQclfoOk8QEgj2GlhIV6k00qDB2IXC7UNCApaGMVCF9E0IhbKWghe\n",
       "kJRiIWunXVCJIFF8bxNkZ5wVHNjNzsw3v3dk3gMaCtAPn/V7zVU8wa8b3c7NAL2aNesQR2ndAQ/b\n",
       "PdBa2aPn+vcyiQMZnV5kgZC040tVP0r0eFPqARaHk9XJmLTVBtRbOlRtmS31qSgW95pa1AXwBB3K\n",
       "aydkR0WxuB1aVCCBef597pg1JVQgOk9xdKgoFm/NrcqohpW1YTKewSmHM4pD2av8vvgC7m0HDXvY\n",
       "KSWx+DDzloTqtgJFSmMWSxxnARsyatLEOzCuekViXxnhlBMlRuDP0Xoa/TTbNLFcsb87aBgR+lyH\n",
       "eAVaVRSJ/Vnk40CnYSwaxhat+cuoJ3ZN0UYNQbzIXu2htqRH0bXqTTq9qsshH7NR5DM54CvKqE82\n",
       "hh5HriLVAMMFDsKBIh8nOd9pO5MleLITEuqN81dJu3OQOJyg5EioJBqpXCnt/Icf4y4Sl1BNOKH3\n",
       "iooisacQzEioYCq04KWUxe0gzudaogkJdTXNLWBbRZFYrHXJV1REpx5nKIcxl8KpiNK6woH+tl+q\n",
       "5SxMx0Rfzj/jVi1nnMFtaJqMq5ibjL71uZ1zFQetv3ps6D8N+QH4Bh04ks2A7gEtAAAAAElFTkSu\n",
       "QmCC\n",
       "\" style=\"display:inline;vertical-align:middle;\" /></a><br>"
      ],
      "text/plain": [
       "a_add_b_commutation: (a + b) = (b + a)"
      ]
     },
     "execution_count": 17,
     "metadata": {},
     "output_type": "execute_result"
    }
   ],
   "source": [
    "a_add_b_commutation = ab_commutation.apply(Add._operator_)"
   ]
  },
  {
   "cell_type": "markdown",
   "metadata": {},
   "source": [
    "Is created using the proper `Add` class for constructing the left and right sides of the equation."
   ]
  },
  {
   "cell_type": "code",
   "execution_count": 18,
   "metadata": {},
   "outputs": [
    {
     "data": {
      "text/plain": [
       "proveit.number.addition.add.Add"
      ]
     },
     "execution_count": 18,
     "metadata": {},
     "output_type": "execute_result"
    }
   ],
   "source": [
    "a_add_b_commutation.lhs.__class__"
   ]
  },
  {
   "cell_type": "code",
   "execution_count": 19,
   "metadata": {},
   "outputs": [
    {
     "data": {
      "text/plain": [
       "proveit.number.addition.add.Add"
      ]
     },
     "execution_count": 19,
     "metadata": {},
     "output_type": "execute_result"
    }
   ],
   "source": [
    "a_add_b_commutation.rhs.__class__"
   ]
  },
  {
   "cell_type": "markdown",
   "metadata": {},
   "source": [
    "We can do the same using `Mult._operator_`:"
   ]
  },
  {
   "cell_type": "code",
   "execution_count": 20,
   "metadata": {},
   "outputs": [
    {
     "data": {
      "text/html": [
       "<strong id=\"a_mult_b_commutation\">a_mult_b_commutation:</strong> <a class=\"ProveItLink\" href=\"__pv_it/1ac97863d11ed341f545ef0122978000799996720/expr.ipynb\"><img src=\"data:image/png;base64,iVBORw0KGgoAAAANSUhEUgAAAH4AAAAUBAMAAAC5YpSHAAAAMFBMVEX///9UVFTMzMx2dna6uroQ\n",
       "EBCqqqqIiIgiIiJmZmYyMjJERETu7u6YmJjc3NwAAAC+aOQFAAAAAXRSTlMAQObYZgAAAeNJREFU\n",
       "OMuNVM9LAkEU/kzd/LFqNyEo/AvKWxkEXYJudugQ9AOPnVT6gXjTS91CEBLqkEYXI8pLRIfCDkLp\n",
       "YT1Wh9hudQgkwyAserOta81s0IOd2f32e/Pe+2beAN46BIuKEJ5FSFJpqP3G5JMUYFEFrlxCbZYH\n",
       "B+k54jBXhsh5wd9FSxZ5sAp4Mhzmi9AwIvjf0tPiQWscDj7VcJmGiuC/CdjaQlHTeOSxUS3bCQ71\n",
       "kirWlLDqPpLsZzY3b0CFxBZR+ap6CXD5kxEDeAqtUaIhnNP7pOpqGCm9lxUVHk3AsQNmmmpu2mXl\n",
       "UP7s0GyLOKbpDuvksgBniYGscqkNXxwSn6qDIsfKeNNZqNSxQ9MSZgBnG464FpoGZx5KED0Nzt9O\n",
       "gmxDbuos7JaxQdMw87eXoAQYmP7e/nDE3L8IW0tnYQ7yi+ZP+VO8WHf762xtW6pbf6GT/wfLVFep\n",
       "CYmFmGL6KRH0S51j4JsgOXT9fhjT75VVrfu3YMlHmX4h+hf3pK0doqXupq1yBvmTRuAAzozvU9z0\n",
       "ESdLGUD2Lz+sGvuXG2cqBDh/VtD1SrdVLxNDfpJkTzy/ml2ZnV/R5JTYP5qZ9w9M+gcXZuuK/es2\n",
       "y7Mq3h9/keWSCY/FNru/7v93f3lUfAGMVIPPTIbVawAAAABJRU5ErkJggg==\n",
       "\" style=\"display:inline;vertical-align:middle;\" /></a><br>"
      ],
      "text/plain": [
       "a_mult_b_commutation: (a * b) = (b * a)"
      ]
     },
     "execution_count": 20,
     "metadata": {},
     "output_type": "execute_result"
    }
   ],
   "source": [
    "a_mult_b_commutation = ab_commutation.apply(Mult._operator_)"
   ]
  },
  {
   "cell_type": "code",
   "execution_count": 21,
   "metadata": {},
   "outputs": [
    {
     "data": {
      "text/plain": [
       "proveit.number.multiplication.mult.Mult"
      ]
     },
     "execution_count": 21,
     "metadata": {},
     "output_type": "execute_result"
    }
   ],
   "source": [
    "a_mult_b_commutation.lhs.__class__"
   ]
  },
  {
   "cell_type": "markdown",
   "metadata": {},
   "source": [
    "When verifying the correctness of a **Prove-It** proof (double-checking the derivation steps that we will discuss in future chapters), the specific type of **Operation** class of an expression is not important.  But this \"reduction rule\" is important in regards to the way **Prove-It** works as proofs are being generated."
   ]
  },
  {
   "cell_type": "markdown",
   "metadata": {},
   "source": [
    "## Arity protection\n",
    "\n",
    "The arity of an operation, the number of its operands, must always be respected.  That is, in performing a lambda application and applying reduction rules, the number of operands must not change.  This requires special attention simply because a single operand, which is not an **ExprTuple** will not be wrapped in an **ExprTuple** as a convention for the expression DAGs to be more succinct (smaller).\n",
    "\n",
    "### Protecting 1-arity\n",
    "\n",
    "When we start with a function with arity 1 and replace its operand with an **ExprTuple**, we must not distinguish the result from a function with that **ExprTuple** as its operands.  We do this by making the new operands be an **ExprTuple** with a single element which is the **ExprTuple** replacing the original operand.  For example, starting with a simple **Lambda** expression ..."
   ]
  },
  {
   "cell_type": "code",
   "execution_count": 22,
   "metadata": {},
   "outputs": [
    {
     "data": {
      "text/html": [
       "<strong id=\"operate_with_unary_f\">operate_with_unary_f:</strong> <a class=\"ProveItLink\" href=\"__pv_it/a85dabee7fcbce4937ebeec2ec2496d013664c1d0/expr.ipynb\"><img src=\"data:image/png;base64,iVBORw0KGgoAAAANSUhEUgAAAFMAAAAUCAMAAADGMfHmAAAANlBMVEX///8QEBAoKCgNDQ1mZmaq\n",
       "qqrMzMxEREQyMjIiIiKYmJh2dna6urrc3NxUVFSIiIju7u4AAADPT139AAAAAXRSTlMAQObYZgAA\n",
       "AS5JREFUOMutlYuuwyAIhu053qUC7/+y09ZmQ22WuZk0dVo++EWYUl+NPcrfZl8lkUZ9GJPrt/Iq\n",
       "NCfDpk78QCC/GCYDQZ1EPW4mfA/AUYzhNgkTobS9Z5oxlhRagsLMwFcJhJh3wGfQ8uB7w6i3oA9H\n",
       "2NxJQCqrlMp3AVXwc4oZcsvNuzsvUgeI5ZWoPEwK9pvI0JG8k2zbd+YMTAJMMa8GTsTy/+fFYIZp\n",
       "irZzuQNYlmqafxkXBJim6GJ2gMa0l5qZduulC+WyEto7ABRzQworGmnOHGplu2JqOeoAJUdQqsyx\n",
       "6AaiL4Aeq+g6hGOrB+ikKCMS6hhv7ry23QLwq0o1ALz9vNrTM8XT2gyfAk1W/uWQFnuIHMGJZuZ+\n",
       "0etia8YXYahbt9zob/87YkU+AIMkDGwZWrViAAAAAElFTkSuQmCC\n",
       "\" style=\"display:inline;vertical-align:middle;\" /></a><br>"
      ],
      "text/plain": [
       "operate_with_unary_f: x -> f(x)"
      ]
     },
     "execution_count": 22,
     "metadata": {},
     "output_type": "execute_result"
    }
   ],
   "source": [
    "from proveit._common_ import fx\n",
    "operate_with_unary_f = Lambda(x, fx)"
   ]
  },
  {
   "cell_type": "code",
   "execution_count": 23,
   "metadata": {},
   "outputs": [
    {
     "data": {
      "text/html": [
       "<a class=\"ProveItLink\" href=\"__pv_it/ad8699ba88202d70b8a56a34ddca3c51df38e2a70/expr.ipynb\"><img src=\"data:image/png;base64,iVBORw0KGgoAAAANSUhEUgAAACUAAAAUBAMAAAD4luk4AAAAMFBMVEX///8yMjJERETMzMwQEBCY\n",
       "mJgiIiK6urqqqqp2dnZUVFTc3NyIiIhmZmbu7u4AAADOOTK3AAAAAXRSTlMAQObYZgAAAO9JREFU\n",
       "GNNjYICCrVC6G0K9PbuBgU8BKsa1AUyt7G9gYNwAFeMTAJPfnzMwxMLMYJgDIjg+AIlsuNgTEMGZ\n",
       "wMDAnQAXYyxgYGC9knuBgecC0Iwzq2uAGjmBTAb+AwwMTAEMDC8Zwg4kAtWALNlvwMDA1sDAMI9h\n",
       "/oNqoPEgY/qBmAVoyAMGJZB5zCArp0HFGBj+wMW0GCB6GZg/g8TYQXp9GCB29PF8YDgHsYPvOwPY\n",
       "Aew/mD5wA6V4JwDVfoBo4Ftz7mwoyM1AZ3CCQwTht2cMDF2MASAWShgkPQSzmJDDKuY2hAkLU7gk\n",
       "UthHMzAAABcoOI8ge5+JAAAAAElFTkSuQmCC\n",
       "\" style=\"display:inline;vertical-align:middle;\" /></a>"
      ],
      "text/plain": [
       "f(x)"
      ]
     },
     "execution_count": 23,
     "metadata": {},
     "output_type": "execute_result"
    }
   ],
   "source": [
    "operate_with_unary_f.body"
   ]
  },
  {
   "cell_type": "markdown",
   "metadata": {},
   "source": [
    "... whose body is a function-formatted operation with a single operand that is the lambda parameters $x$ ..."
   ]
  },
  {
   "cell_type": "code",
   "execution_count": 24,
   "metadata": {},
   "outputs": [
    {
     "data": {
      "text/html": [
       "<table><tr><th>&nbsp;</th><th>core type</th><th>sub-expressions</th><th>expression</th></tr>\n",
       "<tr><td>0</td><td>Operation</td><td>operator:&nbsp;1<br>operand:&nbsp;2<br></td><td><a class=\"ProveItLink\" href=\"../packages/proveit/__pv_it/70c10f7b19bdcd213f37cd4574da10e76f928c310/expr.ipynb\"><img src=\"data:image/png;base64,iVBORw0KGgoAAAANSUhEUgAAACUAAAAUBAMAAAD4luk4AAAAMFBMVEX///8yMjJERETMzMwQEBCY\n",
       "mJgiIiK6urqqqqp2dnZUVFTc3NyIiIhmZmbu7u4AAADOOTK3AAAAAXRSTlMAQObYZgAAAO9JREFU\n",
       "GNNjYICCrVC6G0K9PbuBgU8BKsa1AUyt7G9gYNwAFeMTAJPfnzMwxMLMYJgDIjg+AIlsuNgTEMGZ\n",
       "wMDAnQAXYyxgYGC9knuBgecC0Iwzq2uAGjmBTAb+AwwMTAEMDC8Zwg4kAtWALNlvwMDA1sDAMI9h\n",
       "/oNqoPEgY/qBmAVoyAMGJZB5zCArp0HFGBj+wMW0GCB6GZg/g8TYQXp9GCB29PF8YDgHsYPvOwPY\n",
       "Aew/mD5wA6V4JwDVfoBo4Ftz7mwoyM1AZ3CCQwTht2cMDF2MASAWShgkPQSzmJDDKuY2hAkLU7gk\n",
       "UthHMzAAABcoOI8ge5+JAAAAAElFTkSuQmCC\n",
       "\" style=\"display:inline;vertical-align:middle;\" /></a></td></tr>\n",
       "<tr><td>1</td><td>Variable</td><td></td><td><a class=\"ProveItLink\" href=\"../packages/proveit/__pv_it/d7bbb04e874e28c7cefb21d4eea40806ae52f1f70/expr.ipynb\"><img src=\"data:image/png;base64,iVBORw0KGgoAAAANSUhEUgAAAAsAAAASBAMAAAB/WzlGAAAAMFBMVEX///8yMjJERETMzMwQEBCY\n",
       "mJgiIiK6urqqqqp2dnZUVFTc3NyIiIhmZmbu7u4AAADOOTK3AAAAAXRSTlMAQObYZgAAAFNJREFU\n",
       "CNdjYGBgeHt2A5BkWNnfACT5vj8HcTg+gEgGzgQQyXol9wKI5j8AFtxvAKb6wSTDNAilBaF8wCTf\n",
       "dzDFDjVEAUR2MQaAqKSHYLGY2yASAEu1ElmxJIVRAAAAAElFTkSuQmCC\n",
       "\" style=\"display:inline;vertical-align:middle;\" /></a></td></tr>\n",
       "<tr><td>2</td><td>Variable</td><td></td><td><a class=\"ProveItLink\" href=\"../packages/proveit/__pv_it/72df168d2bfb4e0140af90912ebf83b13772060b0/expr.ipynb\"><img src=\"data:image/png;base64,iVBORw0KGgoAAAANSUhEUgAAAAsAAAAJBAMAAAAWSsseAAAALVBMVEX///9mZmaqqqrMzMxEREQy\n",
       "MjIiIiKYmJh2dna6urrc3NxUVFSIiIju7u4AAACJHQtQAAAAAXRSTlMAQObYZgAAAEJJREFUCNdj\n",
       "YLhzeuWJAwy8Dew5bAEMHBc43nIuYOBlYHFgAAG+A2DKzgBIMF04x8BzgWGegh/DcgaG22fuiBcw\n",
       "AAATyhBrnyPYZQAAAABJRU5ErkJggg==\n",
       "\" style=\"display:inline;vertical-align:middle;\" /></a></td></tr>\n",
       "</table>\n"
      ],
      "text/plain": [
       "0. f(x)\n",
       "   core type: Operation\n",
       "   operator: 1\n",
       "   operand: 2\n",
       "1. f\n",
       "   core type: Variable\n",
       "   sub-expressions: \n",
       "2. x\n",
       "   core type: Variable\n",
       "   sub-expressions: "
      ]
     },
     "execution_count": 24,
     "metadata": {},
     "output_type": "execute_result"
    }
   ],
   "source": [
    "operate_with_unary_f.body.exprInfo()"
   ]
  },
  {
   "cell_type": "markdown",
   "metadata": {},
   "source": [
    "... we can apply the map to an **ExprTuple** to obtain"
   ]
  },
  {
   "cell_type": "code",
   "execution_count": 25,
   "metadata": {},
   "outputs": [
    {
     "data": {
      "text/html": [
       "<strong id=\"abc_on_unary\">abc_on_unary:</strong> <a class=\"ProveItLink\" href=\"__pv_it/006a453f8bc14cd8253e4bb98adb71adf39e292a0/expr.ipynb\"><img src=\"data:image/png;base64,iVBORw0KGgoAAAANSUhEUgAAAFkAAAAUBAMAAAAU44wuAAAAMFBMVEX///8yMjJERETMzMwQEBCY\n",
       "mJgiIiK6urqqqqp2dnZUVFTc3NyIiIhmZmbu7u4AAADOOTK3AAAAAXRSTlMAQObYZgAAAYRJREFU\n",
       "KM+Fk7FLw0AUxr/U1jTVXvsPqJ1FIbubg4sOXXRRoTgIokL/hMw6tJMgKLg4CB2y6CY6uAgtVHFz\n",
       "MEpREEsrIq0o4su9S5qrgh/8ku/lHnf3Xu4ApWPF39pWkJo1FyIHSaiHmWh2ymVIRyUHBlnDjSaM\n",
       "RAORZejZeQKWwfTU1aI9BZJteqwrQpnfWnZDAasADCl6srQIRpFJ3GzWMVyHBKf7Fx4PV2pOsIuq\n",
       "DYsGfZA5B2J5xpzFGKe0RsUnuxMnlkWCSvTBmQ0MOkwjj2vOKXn4YreGlIMkbcwHJSJeZO48bHDO\n",
       "FcSHNGlZ7kCbwU4kexriLWi3yT2M57TscYQ7oelkP0nvalK0yrKhBQZzCKsUXaSyfB46fg2+MvRy\n",
       "wipFBwgbNIGFg7J4pS+HmIQ06QM0baRpBR+zHVnouTpVKWKVWt68pDl9g915arFhM5asQvvzSa/f\n",
       "4JHZMuT2tFNl/TLBqVq5l1HMZaRe0G+CE7t0y2H0NuTRb7TJ/r1pi8wPUkt0PD+ySGAAAAAASUVO\n",
       "RK5CYII=\n",
       "\" style=\"display:inline;vertical-align:middle;\" /></a><br>"
      ],
      "text/plain": [
       "abc_on_unary: f((a, b, c))"
      ]
     },
     "execution_count": 25,
     "metadata": {},
     "output_type": "execute_result"
    }
   ],
   "source": [
    "from proveit import ExprTuple\n",
    "abc_on_unary = operate_with_unary_f.apply(ExprTuple(a, b, c))"
   ]
  },
  {
   "cell_type": "markdown",
   "metadata": {},
   "source": [
    "which is distinguished from $f(a, b, c)$ by wrapping $(a, b, c)$ in an extra **ExprTuple**:"
   ]
  },
  {
   "cell_type": "code",
   "execution_count": 26,
   "metadata": {},
   "outputs": [
    {
     "data": {
      "text/html": [
       "<table><tr><th>&nbsp;</th><th>core type</th><th>sub-expressions</th><th>expression</th></tr>\n",
       "<tr><td>0</td><td>Operation</td><td>operator:&nbsp;1<br>operand:&nbsp;3<br></td><td><a class=\"ProveItLink\" href=\"__pv_it/006a453f8bc14cd8253e4bb98adb71adf39e292a0/expr.ipynb\"><img src=\"data:image/png;base64,iVBORw0KGgoAAAANSUhEUgAAAFkAAAAUBAMAAAAU44wuAAAAMFBMVEX///8yMjJERETMzMwQEBCY\n",
       "mJgiIiK6urqqqqp2dnZUVFTc3NyIiIhmZmbu7u4AAADOOTK3AAAAAXRSTlMAQObYZgAAAYRJREFU\n",
       "KM+Fk7FLw0AUxr/U1jTVXvsPqJ1FIbubg4sOXXRRoTgIokL/hMw6tJMgKLg4CB2y6CY6uAgtVHFz\n",
       "MEpREEsrIq0o4su9S5qrgh/8ku/lHnf3Xu4ApWPF39pWkJo1FyIHSaiHmWh2ymVIRyUHBlnDjSaM\n",
       "RAORZejZeQKWwfTU1aI9BZJteqwrQpnfWnZDAasADCl6srQIRpFJ3GzWMVyHBKf7Fx4PV2pOsIuq\n",
       "DYsGfZA5B2J5xpzFGKe0RsUnuxMnlkWCSvTBmQ0MOkwjj2vOKXn4YreGlIMkbcwHJSJeZO48bHDO\n",
       "FcSHNGlZ7kCbwU4kexriLWi3yT2M57TscYQ7oelkP0nvalK0yrKhBQZzCKsUXaSyfB46fg2+MvRy\n",
       "wipFBwgbNIGFg7J4pS+HmIQ06QM0baRpBR+zHVnouTpVKWKVWt68pDl9g915arFhM5asQvvzSa/f\n",
       "4JHZMuT2tFNl/TLBqVq5l1HMZaRe0G+CE7t0y2H0NuTRb7TJ/r1pi8wPUkt0PD+ySGAAAAAASUVO\n",
       "RK5CYII=\n",
       "\" style=\"display:inline;vertical-align:middle;\" /></a></td></tr>\n",
       "<tr><td>1</td><td>Variable</td><td></td><td><a class=\"ProveItLink\" href=\"../packages/proveit/__pv_it/d7bbb04e874e28c7cefb21d4eea40806ae52f1f70/expr.ipynb\"><img src=\"data:image/png;base64,iVBORw0KGgoAAAANSUhEUgAAAAsAAAASBAMAAAB/WzlGAAAAMFBMVEX///8yMjJERETMzMwQEBCY\n",
       "mJgiIiK6urqqqqp2dnZUVFTc3NyIiIhmZmbu7u4AAADOOTK3AAAAAXRSTlMAQObYZgAAAFNJREFU\n",
       "CNdjYGBgeHt2A5BkWNnfACT5vj8HcTg+gEgGzgQQyXol9wKI5j8AFtxvAKb6wSTDNAilBaF8wCTf\n",
       "dzDFDjVEAUR2MQaAqKSHYLGY2yASAEu1ElmxJIVRAAAAAElFTkSuQmCC\n",
       "\" style=\"display:inline;vertical-align:middle;\" /></a></td></tr>\n",
       "<tr><td>2</td><td>ExprTuple</td><td>3</td><td><a class=\"ProveItLink\" href=\"__pv_it/73b6acb71f9c737209af7f473cadf5f2170217980/expr.ipynb\"><img src=\"data:image/png;base64,iVBORw0KGgoAAAANSUhEUgAAAEsAAAAUBAMAAAA3uN37AAAAMFBMVEX///9UVFTMzMx2dna6uroQ\n",
       "EBCqqqqIiIgiIiJmZmYyMjJERETu7u6YmJjc3NwAAAC+aOQFAAAAAXRSTlMAQObYZgAAAUpJREFU\n",
       "KM+Fkr9KxEAQxr943pG/FzvBKo9wYKEWwjWC3TWWCnkA0SDCYXciWFkEBK80voCksVSuERSL5AWU\n",
       "2F15taRwMrMxiREc+IVvdie7szMD9FMwf9uRAm+K0uyHSc3TMgH3ih8zw/pPkeCEQmWuX/c2BD0T\n",
       "KhvN6t6zMIdQ2WbDM4fMGcmC/vV0XzbuxjflhWMPHUqIeCS3YCczF5L01yyRJOa+FcEp8o9wST5h\n",
       "H8CIebOXww1YXUDz0aPyEHvkE0YOXTaNCMmARV58lxaMCuvGSLyybCMuSTeuhalL6YBjVbYUt1wS\n",
       "OXN5wqgnJD7Wepy5O6Q8VTz88glbtEBYgXPeQUJrWmqFLIwVvHow6Exil8IIe/Xk8xT6FanpNlhg\n",
       "/Z0eZXpMs1mHLfEiNFs/aAnVejwpuANBS6hBaoylg9/CyoR/hvxD+AbAO2L3K+qrkgAAAABJRU5E\n",
       "rkJggg==\n",
       "\" style=\"display:inline;vertical-align:middle;\" /></a></td></tr>\n",
       "<tr><td>3</td><td>ExprTuple</td><td>4, 5, 6</td><td><a class=\"ProveItLink\" href=\"__pv_it/d90118782a263653f0cbfdd8712fa5e8640d117d0/expr.ipynb\"><img src=\"data:image/png;base64,iVBORw0KGgoAAAANSUhEUgAAADsAAAAUBAMAAADB8VhjAAAAMFBMVEX///9UVFTMzMx2dna6uroQ\n",
       "EBCqqqqIiIgiIiJmZmYyMjJERETu7u6YmJjc3NwAAAC+aOQFAAAAAXRSTlMAQObYZgAAAS5JREFU\n",
       "KM91krFKxEAQhv94Xsgm5mInWOURAhZqIVwj2F1jqZAHEA0iHHYRwcoiIHil6wtIGkvlGkGxSF5A\n",
       "id2VV0sKZ3cTmDNcisk3/+7O/rO7wKDEku9UhU8mrD2nLLMqCk98gZvxyRLwuYAg5tk24FRcGE15\n",
       "9gbMFtzsLGTuEJf0G9xNjozwOL5vC49D9DK8EO5X7tyY+Z0WZrNZ7En4EjckHkPkWrRrBImma1gx\n",
       "7BSHgKjhGFFIFJGGWsWVuRru5yjCtu2Rbq2fN8NUnBacNW2XeNCtmRqrqbJWxNi0taNgSD6aeYiV\n",
       "tV3AS/yrHgo6Qqv0Mg1iHR8hRIQDcr5x/nMB55ZosgcN2Pois27IDvWkA+/8SqIO0JXgtb2+pAOS\n",
       "PQcf/8FT+y5/TN/AHyMESix9a0nJAAAAAElFTkSuQmCC\n",
       "\" style=\"display:inline;vertical-align:middle;\" /></a></td></tr>\n",
       "<tr><td>4</td><td>Variable</td><td></td><td><a class=\"ProveItLink\" href=\"../packages/proveit/__pv_it/a8d4b3a34d2189508f9082853fbac36935714f280/expr.ipynb\"><img src=\"data:image/png;base64,iVBORw0KGgoAAAANSUhEUgAAAAsAAAAJBAMAAAAWSsseAAAAMFBMVEX///9UVFSqqqrMzMwiIiJE\n",
       "RESYmJgyMjK6urru7u4QEBCIiIh2dnZmZmbc3NwAAABRgo0vAAAAAXRSTlMAQObYZgAAAEdJREFU\n",
       "CNdjYOC7c3slAwND1wP2DwwMnMsYeAMYGHh/MrBsYGDgCmCYb8DAMP8Agz5QxXwFBnGmBwysG9gc\n",
       "eYAqpTc/3MEAAP4BD32xAXDqAAAAAElFTkSuQmCC\n",
       "\" style=\"display:inline;vertical-align:middle;\" /></a></td></tr>\n",
       "<tr><td>5</td><td>Variable</td><td></td><td><a class=\"ProveItLink\" href=\"../packages/proveit/__pv_it/53e304ff98ebc000dbe3ef224f4637dbafd46ba70/expr.ipynb\"><img src=\"data:image/png;base64,iVBORw0KGgoAAAANSUhEUgAAAAkAAAAOBAMAAAAPuiubAAAALVBMVEX///+YmJjc3NyIiIhUVFR2\n",
       "dna6urqqqqpmZmYyMjIiIiIQEBBERETu7u4AAAALjtrwAAAAAXRSTlMAQObYZgAAAE9JREFUCNdj\n",
       "4D29gAEIOBtAJF8BiMy7ACKjQATDFON2BgbelxfuKTCwv2XgM2DgmMBwLwCkPK+AgU+Aoe8CA18C\n",
       "70YGBhYBHqARvM2BDAwAqXgQspq5HJAAAAAASUVORK5CYII=\n",
       "\" style=\"display:inline;vertical-align:middle;\" /></a></td></tr>\n",
       "<tr><td>6</td><td>Variable</td><td></td><td><a class=\"ProveItLink\" href=\"../packages/proveit/__pv_it/b2b446b221a34ee579eb9a1fbdd4ac4e2891d8c70/expr.ipynb\"><img src=\"data:image/png;base64,iVBORw0KGgoAAAANSUhEUgAAAAkAAAAJBAMAAAASvxsjAAAALVBMVEX///+YmJgQEBDu7u5mZmZU\n",
       "VFQyMjJERESqqqoiIiLc3NzMzMyIiIh2dnYAAABuqkWTAAAAAXRSTlMAQObYZgAAADZJREFUCNdj\n",
       "YGC4c2YDA8PKBvYEBoa5DKwNDCyPGYCAqQBE2l0AkXwCDAxA8QAGE6DKu4IHGABBiAr2Gi8OxgAA\n",
       "AABJRU5ErkJggg==\n",
       "\" style=\"display:inline;vertical-align:middle;\" /></a></td></tr>\n",
       "</table>\n"
      ],
      "text/plain": [
       "0. f((a, b, c))\n",
       "   core type: Operation\n",
       "   operator: 1\n",
       "   operand: 3\n",
       "1. f\n",
       "   core type: Variable\n",
       "   sub-expressions: \n",
       "2. ((a, b, c))\n",
       "   core type: ExprTuple\n",
       "   sub-expressions: 3\n",
       "3. (a, b, c)\n",
       "   core type: ExprTuple\n",
       "   sub-expressions: 4, 5, 6\n",
       "4. a\n",
       "   core type: Variable\n",
       "   sub-expressions: \n",
       "5. b\n",
       "   core type: Variable\n",
       "   sub-expressions: \n",
       "6. c\n",
       "   core type: Variable\n",
       "   sub-expressions: "
      ]
     },
     "execution_count": 26,
     "metadata": {},
     "output_type": "execute_result"
    }
   ],
   "source": [
    "abc_on_unary.exprInfo()"
   ]
  },
  {
   "cell_type": "markdown",
   "metadata": {},
   "source": [
    "### Reducing to 1-arity\n",
    "\n",
    "This situation can manifest itself in the reverse direction.  We can start with operand(s) of an indeterminant number via an **ExprRange** within an **ExprTuple** and then reduce it to a single operand which should no longer be wrapped in an **ExprTuple**.  For example, "
   ]
  },
  {
   "cell_type": "code",
   "execution_count": 27,
   "metadata": {},
   "outputs": [
    {
     "data": {
      "text/html": [
       "<strong id=\"nary_operation_map\">nary_operation_map:</strong> <a class=\"ProveItLink\" href=\"__pv_it/a36666b596378dfab8222fafa73aabedc5a17fc70/expr.ipynb\"><img src=\"data:image/png;base64,iVBORw0KGgoAAAANSUhEUgAAAKIAAAAUCAMAAAA5vxZBAAAANlBMVEX///8oKCgNDQ0QEBCYmJgy\n",
       "MjIiIiKqqqrMzMzu7u5ERERmZmaIiIjc3NxUVFR2dna6uroAAAAaifX4AAAAAXRSTlMAQObYZgAA\n",
       "AeJJREFUSMe1V9mShCAMzK5cgXD9/88uqDhmwBqXKfNEIbaddEIiwFfmBTxp2s++iY7c+jJaeNbC\n",
       "LMcQddZ1If3DFFFOvpcTproQDp62SJ/PUB8onfeF8o9TxOVGxvaRimqvFQXPmyx6pRi8J3KviPIa\n",
       "eOch3KLcypt29kgUfKI7mlwG6xIilo9EsJZqgvkxKd1Vbd6B7HbjYCy8FYFaU9vMFDmH4BGRYPT2\n",
       "wGdzETeyyO/CdlLpzc/yOGaEVHw0zs2of4Z4TzQFWAu0ss3H7u+PZJbXA321LNt2dcAesUszFDkE\n",
       "M5OPT4ZXjBWPWlJpWC2N4ln7SYocoqfoVnJZAA6FNpIzBhuACb3imG8pHhDCCUPkGN4S11AixCHF\n",
       "roMszd29XDQCVVcJpymeIURaCu7iX+VSsr/qFSWIFgk2GiTX95bTfVAOlF5o8zFR7BQxS+CLwVZb\n",
       "nCE8UkXITToXG6YPQg8ddOZtI2WuKQYiJCcEF1q1jFbhyPHQLbZDHCIUldLRVKSZuCBelTdqgIfQ\n",
       "Gu8p3Nli1tht1PDfeaMDSHFqNDC6x3ZXbvk7GEGrSippc3uM4KYsG4/sexi9UznQ1tJu9b2BDDUL\n",
       "KIrZYUzss2z7xHW3uzWOfzxkv5+lHv4xEJXhHyxVEiR9njdDAAAAAElFTkSuQmCC\n",
       "\" style=\"display:inline;vertical-align:middle;\" /></a><br>"
      ],
      "text/plain": [
       "nary_operation_map: n -> f(x_{1}, ..x_{_a}.., x_{n})"
      ]
     },
     "execution_count": 27,
     "metadata": {},
     "output_type": "execute_result"
    }
   ],
   "source": [
    "from proveit.core_expr_types._common_ import x_1_to_n\n",
    "nary_operation_map = Lambda(n, Function(f, x_1_to_n))"
   ]
  },
  {
   "cell_type": "code",
   "execution_count": 28,
   "metadata": {},
   "outputs": [
    {
     "data": {
      "text/html": [
       "<a class=\"ProveItLink\" href=\"__pv_it/a70821bc4551847aca2624025aea54ade427c39d0/expr.ipynb\"><img src=\"data:image/png;base64,iVBORw0KGgoAAAANSUhEUgAAAHQAAAAUBAMAAACuQAROAAAAMFBMVEX///8yMjJERETMzMwQEBCY\n",
       "mJgiIiK6urqqqqp2dnZUVFTc3NyIiIhmZmbu7u4AAADOOTK3AAAAAXRSTlMAQObYZgAAAZZJREFU\n",
       "OMtjYIAC7gAGUgDHBjD19iyQfsRAGlgNJlf2NzAwSJOo9SGI4Pv+nIGB9QKJWjkPgJz9AUiwbSBR\n",
       "K58DSH8CkNjGQCoQBzr1Si7QsWeBnDentp88gNemM6tr5sA4c4GYH6RcFSgxgTWHTYCBWQGn1pcM\n",
       "YQcSYZxAIN5vACQygA5/wPmPfQPz3QScWucxzH9QDeO0AXE/iOEOtJWBCWQhO26tDxiUEBx7IJ4G\n",
       "1Qp1Oh6tDAx/ULVqMUAcDOQZENDK/BlIxAafASWCMiD2YYAEE8eD8ww8D/Bp7eP5wHCOIdyVwRsS\n",
       "THzfoUFd36DPsBVi63sBoPhHBggDzmP/wfSBO4D7TQLDP6DoTaAAKDGBrH915s3VAIhWtjygUBYo\n",
       "kS2AEWkPGPjWnDsbysDAdYAdlJKEgXECjkdEQgQ7uA8zlz2AsVgMeCcYMPAlMHQxgjMqIvlzgLRO\n",
       "wEzucNZ+BrYKA1DyT3oIEdCGZflrvw4w8GGmxzdwVhUDz1Rwpou5DRFAyeqsmKGLXohoI5gkFjCs\n",
       "GxgAMudnspfQ94QAAAAASUVORK5CYII=\n",
       "\" style=\"display:inline;vertical-align:middle;\" /></a>"
      ],
      "text/plain": [
       "f(x_{1}, ..x_{_a}.., x_{n})"
      ]
     },
     "execution_count": 28,
     "metadata": {},
     "output_type": "execute_result"
    }
   ],
   "source": [
    "nary_operation_map.body"
   ]
  },
  {
   "cell_type": "code",
   "execution_count": 29,
   "metadata": {},
   "outputs": [
    {
     "data": {
      "text/html": [
       "<table><tr><th>&nbsp;</th><th>core type</th><th>sub-expressions</th><th>expression</th></tr>\n",
       "<tr><td>0</td><td>Operation</td><td>operator:&nbsp;1<br>operands:&nbsp;2<br></td><td><a class=\"ProveItLink\" href=\"__pv_it/a70821bc4551847aca2624025aea54ade427c39d0/expr.ipynb\"><img src=\"data:image/png;base64,iVBORw0KGgoAAAANSUhEUgAAAHQAAAAUBAMAAACuQAROAAAAMFBMVEX///8yMjJERETMzMwQEBCY\n",
       "mJgiIiK6urqqqqp2dnZUVFTc3NyIiIhmZmbu7u4AAADOOTK3AAAAAXRSTlMAQObYZgAAAZZJREFU\n",
       "OMtjYIAC7gAGUgDHBjD19iyQfsRAGlgNJlf2NzAwSJOo9SGI4Pv+nIGB9QKJWjkPgJz9AUiwbSBR\n",
       "K58DSH8CkNjGQCoQBzr1Si7QsWeBnDentp88gNemM6tr5sA4c4GYH6RcFSgxgTWHTYCBWQGn1pcM\n",
       "YQcSYZxAIN5vACQygA5/wPmPfQPz3QScWucxzH9QDeO0AXE/iOEOtJWBCWQhO26tDxiUEBx7IJ4G\n",
       "1Qp1Oh6tDAx/ULVqMUAcDOQZENDK/BlIxAafASWCMiD2YYAEE8eD8ww8D/Bp7eP5wHCOIdyVwRsS\n",
       "THzfoUFd36DPsBVi63sBoPhHBggDzmP/wfSBO4D7TQLDP6DoTaAAKDGBrH915s3VAIhWtjygUBYo\n",
       "kS2AEWkPGPjWnDsbysDAdYAdlJKEgXECjkdEQgQ7uA8zlz2AsVgMeCcYMPAlMHQxgjMqIvlzgLRO\n",
       "wEzucNZ+BrYKA1DyT3oIEdCGZflrvw4w8GGmxzdwVhUDz1Rwpou5DRFAyeqsmKGLXohoI5gkFjCs\n",
       "GxgAMudnspfQ94QAAAAASUVORK5CYII=\n",
       "\" style=\"display:inline;vertical-align:middle;\" /></a></td></tr>\n",
       "<tr><td>1</td><td>Variable</td><td></td><td><a class=\"ProveItLink\" href=\"../packages/proveit/__pv_it/d7bbb04e874e28c7cefb21d4eea40806ae52f1f70/expr.ipynb\"><img src=\"data:image/png;base64,iVBORw0KGgoAAAANSUhEUgAAAAsAAAASBAMAAAB/WzlGAAAAMFBMVEX///8yMjJERETMzMwQEBCY\n",
       "mJgiIiK6urqqqqp2dnZUVFTc3NyIiIhmZmbu7u4AAADOOTK3AAAAAXRSTlMAQObYZgAAAFNJREFU\n",
       "CNdjYGBgeHt2A5BkWNnfACT5vj8HcTg+gEgGzgQQyXol9wKI5j8AFtxvAKb6wSTDNAilBaF8wCTf\n",
       "dzDFDjVEAUR2MQaAqKSHYLGY2yASAEu1ElmxJIVRAAAAAElFTkSuQmCC\n",
       "\" style=\"display:inline;vertical-align:middle;\" /></a></td></tr>\n",
       "<tr><td>2</td><td>ExprTuple</td><td>3</td><td><a class=\"ProveItLink\" href=\"__pv_it/44e9035298bc92b31f553197c806ff2c422ace550/expr.ipynb\"><img src=\"data:image/png;base64,iVBORw0KGgoAAAANSUhEUgAAAGcAAAAUBAMAAABi2T6lAAAAMFBMVEX////MzMxUVFR2dna6uroQ\n",
       "EBCqqqqIiIgiIiJmZmYyMjJERETu7u6YmJjc3NwAAACgK8IjAAAAAXRSTlMAQObYZgAAAT9JREFU\n",
       "OMtjYOC7wEASyAMRp0nTw8D0AEisI1ETzwIGBt4JJGpiMGdg4HhAqqajDAwvSNXDwOXAUAmkjhc9\n",
       "KS7AqxBZBfMEhr1ArxnwtnMsYGDcgNvzEBUQwLuAoQ2o9QDzH5YHjDMbcGqCqIBy2BoYQoDmMHCD\n",
       "LGHBrQmqAgIYP4A0MTDwF+DXBFUB19QGouUFCGkCqeCdK14JUQcMCLYD9QzsB/Bpgqjgdb3A+gAc\n",
       "EJYMDP4J+xneQmzi+QVUcn4BEgNMQFS8qWDgP8DAwGnA4MHAcKj8+NwLUOd1AEU5FICMJgYog6MH\n",
       "rkKdwRUUuQJIyQisie0Ahtty4KxAhsmMDAwnkBMsG0gTM6aHDGAMvg8MLYngBMuwDyY04xMwWI9j\n",
       "xhE8sFkUGIovgLMGWibEzMa8aHxukH9Ize73GBgA/31YGfFuXW4AAAAASUVORK5CYII=\n",
       "\" style=\"display:inline;vertical-align:middle;\" /></a></td></tr>\n",
       "<tr><td>3</td><td>ExprRange</td><td>lambda_map:&nbsp;4<br>start_index:&nbsp;5<br>end_index:&nbsp;6<br></td><td><a class=\"ProveItLink\" href=\"../packages/proveit/core_expr_types/__pv_it/36b186afc91ba7c57b358c8d856ab3c828e9e2c50/expr.ipynb\"><img src=\"data:image/png;base64,iVBORw0KGgoAAAANSUhEUgAAAFoAAAANBAMAAADbDWR+AAAAMFBMVEX///8QEBBmZmaqqqrMzMxE\n",
       "REQyMjIiIiKYmJh2dna6urrc3NxUVFSIiIju7u4AAAA6P00QAAAAAXRSTlMAQObYZgAAANBJREFU\n",
       "KM9jYHh7Z9fNCwz4AJIKvgkctewJDCwBOBVDVYAB5wPOf1wbWJQKcKqGqIDqZGAFGcuFWzVUBRTw\n",
       "X8CvGqoCCvwdCKkGqeDQ8L3EwMD84D4D7wN8qiEqOBY2MG5gWG8Qz7ADYjbfN6Dc+wQkBpiAqNh3\n",
       "nYH/AcObu281GqAuKX/AwMB+AMioYYAy2OsYYCrOMiyEWwdWzfwAwxl2cJYIgyYL3HEg1ZyYjp4A\n",
       "Y3B/YKgygbHV/wBD6S1mWMPDjusAw80GFLkGDNUcqFwAM81EKjwVshUAAAAASUVORK5CYII=\n",
       "\" style=\"display:inline;vertical-align:middle;\" /></a></td></tr>\n",
       "<tr><td>4</td><td>Lambda</td><td>parameter:&nbsp;9<br>body:&nbsp;7<br></td><td><a class=\"ProveItLink\" href=\"__pv_it/8a5773337d7e3cb3cf718358d2618c1f741909910/expr.ipynb\"><img src=\"data:image/png;base64,iVBORw0KGgoAAAANSUhEUgAAAFkAAAAOCAMAAABzXkDSAAAANlBMVEX///8oKCgNDQ1UVFSqqqrM\n",
       "zMwiIiKYmJgyMjIQEBCIiIh2dnZmZmbc3Nzu7u5ERES6uroAAADIdaz2AAAAAXRSTlMAQObYZgAA\n",
       "APFJREFUOMu1U+0OwiAMrPK5AqV9/5e1jZnCnAlG7Q+yQrle7wbAB4EN/hS+fnO71VJxoz3t02Ec\n",
       "E0J0jbHgGjBvOnGWcyzwQyMqACkixLwETFvStfY3yID9MU3RryIEvCZ+FbsZnwNeL3kKEd5JmFZ9\n",
       "WeXNSknCkzPNYkUeU8FVYJJiasobzyDkqVEYKAwgFV0OL8heV5fBt1PkPGjqCdAoIB0wYtCWdOzX\n",
       "0Qx3UPaNNGkx/M+sJLoit3S0SouCEeK+h7UhhxiaQz73d5jRKglrSi9W6djo/vBOSVSxnoh+D61P\n",
       "LQinXxGt9zD/2aFXleAGD/AJBgn9rvMAAAAASUVORK5CYII=\n",
       "\" style=\"display:inline;vertical-align:middle;\" /></a></td></tr>\n",
       "<tr><td>5</td><td>Literal</td><td></td><td><a class=\"ProveItLink\" href=\"../packages/proveit/number/numeral/__pv_it/f086f8c372bd40a2458306ddfdbb29f3dc6f63030/expr.ipynb\"><img src=\"data:image/png;base64,iVBORw0KGgoAAAANSUhEUgAAAAgAAAAPBAMAAAArJJMAAAAAIVBMVEX///8yMjJmZmaIiIiYmJh2\n",
       "dnZUVFTu7u4QEBCqqqoAAAADAhFxAAAAAXRSTlMAQObYZgAAACBJREFUCNdjYAADznYGhrKw5UAW\n",
       "CykEM5BgylioAjYDAHBOCeDSSky9AAAAAElFTkSuQmCC\n",
       "\" style=\"display:inline;vertical-align:middle;\" /></a></td></tr>\n",
       "<tr><td>6</td><td>Variable</td><td></td><td><a class=\"ProveItLink\" href=\"../packages/proveit/__pv_it/0c1c4cb515e0f4344b1ac06650f349123e526deb0/expr.ipynb\"><img src=\"data:image/png;base64,iVBORw0KGgoAAAANSUhEUgAAAAwAAAAJBAMAAAD0ltBnAAAAMFBMVEX///8QEBCYmJgyMjIiIiKq\n",
       "qqrMzMzu7u5ERERmZmaIiIjc3NxUVFR2dna6uroAAABXsXCEAAAAAXRSTlMAQObYZgAAAEdJREFU\n",
       "CNdj4Luze9UsBgZeji6G+g0MqSwGDPsTGArqHzDoMzAwxDMwHAZSkxkYPrEzMMgysH7nZeD+x8Br\n",
       "oMbA58DAfSgAABUwDxmEwURaAAAAAElFTkSuQmCC\n",
       "\" style=\"display:inline;vertical-align:middle;\" /></a></td></tr>\n",
       "<tr><td>7</td><td>IndexedVar</td><td>variable:&nbsp;8<br>index:&nbsp;9<br></td><td><a class=\"ProveItLink\" href=\"__pv_it/0083048379e12eb6932536164527c99d2a8b4a9b0/expr.ipynb\"><img src=\"data:image/png;base64,iVBORw0KGgoAAAANSUhEUgAAACEAAAAMBAMAAAAe+Mm0AAAAMFBMVEX///8QEBBmZmaqqqrMzMxE\n",
       "REQyMjIiIiKYmJh2dna6urrc3NxUVFSIiIju7u4AAAA6P00QAAAAAXRSTlMAQObYZgAAAHZJREFU\n",
       "CNdjYHh7Z9fNCwxIgG8CRy17ArII5wPOf1wbUNQwsAYwoAH+C+gi/g5w5qM7KQwMzA/uM/A+gJpQ\n",
       "wvKPgWG9QTzDDqgSJgWWAgaGN3ffajRARRgNeA+gmvh+A2vfAxQRxg3+K+CuUlJSUmbgOmurwQAA\n",
       "oMsd/IjIHpMAAAAASUVORK5CYII=\n",
       "\" style=\"display:inline;vertical-align:middle;\" /></a></td></tr>\n",
       "<tr><td>8</td><td>Variable</td><td></td><td><a class=\"ProveItLink\" href=\"../packages/proveit/__pv_it/72df168d2bfb4e0140af90912ebf83b13772060b0/expr.ipynb\"><img src=\"data:image/png;base64,iVBORw0KGgoAAAANSUhEUgAAAAsAAAAJBAMAAAAWSsseAAAALVBMVEX///9mZmaqqqrMzMxEREQy\n",
       "MjIiIiKYmJh2dna6urrc3NxUVFSIiIju7u4AAACJHQtQAAAAAXRSTlMAQObYZgAAAEJJREFUCNdj\n",
       "YLhzeuWJAwy8Dew5bAEMHBc43nIuYOBlYHFgAAG+A2DKzgBIMF04x8BzgWGegh/DcgaG22fuiBcw\n",
       "AAATyhBrnyPYZQAAAABJRU5ErkJggg==\n",
       "\" style=\"display:inline;vertical-align:middle;\" /></a></td></tr>\n",
       "<tr><td>9</td><td>Variable</td><td></td><td><a class=\"ProveItLink\" href=\"../packages/proveit/core_expr_types/__pv_it/1e653f789234b245ee7fea7caad998c139d617410/expr.ipynb\"><img src=\"data:image/png;base64,iVBORw0KGgoAAAANSUhEUgAAABgAAAAJBAMAAADa0/H1AAAAMFBMVEX///9UVFSqqqrMzMwiIiKY\n",
       "mJgyMjIQEBCIiIh2dnZmZmbc3Nzu7u5ERES6uroAAACFTSmKAAAAAXRSTlMAQObYZgAAAElJREFU\n",
       "CNdjYICCXbPaD8DYfNUM+TA2w/EAhrVwzvoDDB5wTi0Dz2cYm+cnA9MHOOcTA2OCNox3gyFEYALD\n",
       "27tAcIDhYIe1xAMAoVgVdfU81nAAAAAASUVORK5CYII=\n",
       "\" style=\"display:inline;vertical-align:middle;\" /></a></td></tr>\n",
       "</table>\n"
      ],
      "text/plain": [
       "0. f(x_{1}, ..x_{_a}.., x_{n})\n",
       "   core type: Operation\n",
       "   operator: 1\n",
       "   operands: 2\n",
       "1. f\n",
       "   core type: Variable\n",
       "   sub-expressions: \n",
       "2. (x_{1}, ..x_{_a}.., x_{n})\n",
       "   core type: ExprTuple\n",
       "   sub-expressions: 3\n",
       "3. x_{1}, ..x_{_a}.., x_{n}\n",
       "   core type: ExprRange\n",
       "   lambda_map: 4\n",
       "   start_index: 5\n",
       "   end_index: 6\n",
       "4. _a -> x_{_a}\n",
       "   core type: Lambda\n",
       "   parameter: 9\n",
       "   body: 7\n",
       "5. 1\n",
       "   core type: Literal\n",
       "   sub-expressions: \n",
       "6. n\n",
       "   core type: Variable\n",
       "   sub-expressions: \n",
       "7. x_{_a}\n",
       "   core type: IndexedVar\n",
       "variable: 8\n",
       "index: 9\n",
       "8. x\n",
       "   core type: Variable\n",
       "   sub-expressions: \n",
       "9. _a\n",
       "   core type: Variable\n",
       "   sub-expressions: "
      ]
     },
     "execution_count": 29,
     "metadata": {},
     "output_type": "execute_result"
    }
   ],
   "source": [
    "nary_operation_map.body.exprInfo()"
   ]
  },
  {
   "cell_type": "markdown",
   "metadata": {},
   "source": [
    "We can `apply` our lambda expression to $1$ and allow the **ExprRange** to reduce, in a manner discussed in the previous chapter, to just a single $x_1$:"
   ]
  },
  {
   "cell_type": "code",
   "execution_count": 30,
   "metadata": {},
   "outputs": [
    {
     "data": {
      "text/html": [
       "<strong id=\"f_x1\">f_x1:</strong> <a class=\"ProveItLink\" href=\"__pv_it/ea954002d6be568511dc0559486224044f86f8c90/expr.ipynb\"><img src=\"data:image/png;base64,iVBORw0KGgoAAAANSUhEUgAAAC4AAAAUBAMAAAAAdhLPAAAAMFBMVEX///8yMjJERETMzMwQEBCY\n",
       "mJgiIiK6urqqqqp2dnZUVFTc3NyIiIhmZmbu7u4AAADOOTK3AAAAAXRSTlMAQObYZgAAAQpJREFU\n",
       "GNNjYICCrQwIwLEBTL09u4GBTwFJnGE1mFzZ38DAuAFZ/CGI4Pv+nIEhFlmYgfMAyLQPQCIbRZzP\n",
       "ASSZwMDAnYAiziDOwMB6JfcCA88FoKIzq2vmQMXnAjE/0DCmAAaGlwxhBxIZGIxA4oFAvN+AgYGt\n",
       "gYFhHsP8B9UMttdA4m1A3A/ELAUMDA8YlEBCZSDCHoinQcUZGP6giGsxQMxhYP4MFwcRPgwQe/t4\n",
       "PjCcg4oHgrwL8sMFBvYfTB+4A6DiNxkY2EHeZU9g4Ftz7mwozBxhoFJwSCLCASTOl8DQxRgA4iHC\n",
       "rQ0SbkngMGVggoXz3vw14HCOuQ0JQZR40UYwkeORdQMDACv6PvSS2HvYAAAAAElFTkSuQmCC\n",
       "\" style=\"display:inline;vertical-align:middle;\" /></a><br>"
      ],
      "text/plain": [
       "f_x1: f(x_{1})"
      ]
     },
     "execution_count": 30,
     "metadata": {},
     "output_type": "execute_result"
    }
   ],
   "source": [
    "from proveit.number import one\n",
    "f_x1 = nary_operation_map.apply(one)"
   ]
  },
  {
   "cell_type": "markdown",
   "metadata": {},
   "source": [
    "In addition to reducing the **ExprRange** to a single element, we must also eliminate the enclosing **ExprTuple** so that we have a single operand consistent with our convention."
   ]
  },
  {
   "cell_type": "code",
   "execution_count": 31,
   "metadata": {},
   "outputs": [
    {
     "data": {
      "text/html": [
       "<table><tr><th>&nbsp;</th><th>core type</th><th>sub-expressions</th><th>expression</th></tr>\n",
       "<tr><td>0</td><td>Operation</td><td>operator:&nbsp;1<br>operand:&nbsp;2<br></td><td><a class=\"ProveItLink\" href=\"__pv_it/ea954002d6be568511dc0559486224044f86f8c90/expr.ipynb\"><img src=\"data:image/png;base64,iVBORw0KGgoAAAANSUhEUgAAAC4AAAAUBAMAAAAAdhLPAAAAMFBMVEX///8yMjJERETMzMwQEBCY\n",
       "mJgiIiK6urqqqqp2dnZUVFTc3NyIiIhmZmbu7u4AAADOOTK3AAAAAXRSTlMAQObYZgAAAQpJREFU\n",
       "GNNjYICCrQwIwLEBTL09u4GBTwFJnGE1mFzZ38DAuAFZ/CGI4Pv+nIEhFlmYgfMAyLQPQCIbRZzP\n",
       "ASSZwMDAnYAiziDOwMB6JfcCA88FoKIzq2vmQMXnAjE/0DCmAAaGlwxhBxIZGIxA4oFAvN+AgYGt\n",
       "gYFhHsP8B9UMttdA4m1A3A/ELAUMDA8YlEBCZSDCHoinQcUZGP6giGsxQMxhYP4MFwcRPgwQe/t4\n",
       "PjCcg4oHgrwL8sMFBvYfTB+4A6DiNxkY2EHeZU9g4Ftz7mwozBxhoFJwSCLCASTOl8DQxRgA4iHC\n",
       "rQ0SbkngMGVggoXz3vw14HCOuQ0JQZR40UYwkeORdQMDACv6PvSS2HvYAAAAAElFTkSuQmCC\n",
       "\" style=\"display:inline;vertical-align:middle;\" /></a></td></tr>\n",
       "<tr><td>1</td><td>Variable</td><td></td><td><a class=\"ProveItLink\" href=\"../packages/proveit/__pv_it/d7bbb04e874e28c7cefb21d4eea40806ae52f1f70/expr.ipynb\"><img src=\"data:image/png;base64,iVBORw0KGgoAAAANSUhEUgAAAAsAAAASBAMAAAB/WzlGAAAAMFBMVEX///8yMjJERETMzMwQEBCY\n",
       "mJgiIiK6urqqqqp2dnZUVFTc3NyIiIhmZmbu7u4AAADOOTK3AAAAAXRSTlMAQObYZgAAAFNJREFU\n",
       "CNdjYGBgeHt2A5BkWNnfACT5vj8HcTg+gEgGzgQQyXol9wKI5j8AFtxvAKb6wSTDNAilBaF8wCTf\n",
       "dzDFDjVEAUR2MQaAqKSHYLGY2yASAEu1ElmxJIVRAAAAAElFTkSuQmCC\n",
       "\" style=\"display:inline;vertical-align:middle;\" /></a></td></tr>\n",
       "<tr><td>2</td><td>IndexedVar</td><td>variable:&nbsp;3<br>index:&nbsp;4<br></td><td><a class=\"ProveItLink\" href=\"__pv_it/953633ed9f2c08bc968506bdb8c38960605e27fb0/expr.ipynb\"><img src=\"data:image/png;base64,iVBORw0KGgoAAAANSUhEUgAAABMAAAAMBAMAAABy/puxAAAALVBMVEX///9mZmaqqqrMzMxEREQy\n",
       "MjIiIiKYmJh2dna6urrc3NxUVFSIiIju7u4AAACJHQtQAAAAAXRSTlMAQObYZgAAAFpJREFUCNdj\n",
       "YLhzeuWJAwwgwNvAnsMWwMDswMDAcYHjLecCZsEEoCgDC1CAgTMBpITvAJxpZwBlMl04x8BzAcyc\n",
       "p+DHsBwievvMHfECmFowQGIywZlcYq8PAAB5LRYu6/PK5gAAAABJRU5ErkJggg==\n",
       "\" style=\"display:inline;vertical-align:middle;\" /></a></td></tr>\n",
       "<tr><td>3</td><td>Variable</td><td></td><td><a class=\"ProveItLink\" href=\"../packages/proveit/__pv_it/72df168d2bfb4e0140af90912ebf83b13772060b0/expr.ipynb\"><img src=\"data:image/png;base64,iVBORw0KGgoAAAANSUhEUgAAAAsAAAAJBAMAAAAWSsseAAAALVBMVEX///9mZmaqqqrMzMxEREQy\n",
       "MjIiIiKYmJh2dna6urrc3NxUVFSIiIju7u4AAACJHQtQAAAAAXRSTlMAQObYZgAAAEJJREFUCNdj\n",
       "YLhzeuWJAwy8Dew5bAEMHBc43nIuYOBlYHFgAAG+A2DKzgBIMF04x8BzgWGegh/DcgaG22fuiBcw\n",
       "AAATyhBrnyPYZQAAAABJRU5ErkJggg==\n",
       "\" style=\"display:inline;vertical-align:middle;\" /></a></td></tr>\n",
       "<tr><td>4</td><td>Literal</td><td></td><td><a class=\"ProveItLink\" href=\"../packages/proveit/number/numeral/__pv_it/f086f8c372bd40a2458306ddfdbb29f3dc6f63030/expr.ipynb\"><img src=\"data:image/png;base64,iVBORw0KGgoAAAANSUhEUgAAAAgAAAAPBAMAAAArJJMAAAAAIVBMVEX///8yMjJmZmaIiIiYmJh2\n",
       "dnZUVFTu7u4QEBCqqqoAAAADAhFxAAAAAXRSTlMAQObYZgAAACBJREFUCNdjYAADznYGhrKw5UAW\n",
       "CykEM5BgylioAjYDAHBOCeDSSky9AAAAAElFTkSuQmCC\n",
       "\" style=\"display:inline;vertical-align:middle;\" /></a></td></tr>\n",
       "</table>\n"
      ],
      "text/plain": [
       "0. f(x_{1})\n",
       "   core type: Operation\n",
       "   operator: 1\n",
       "   operand: 2\n",
       "1. f\n",
       "   core type: Variable\n",
       "   sub-expressions: \n",
       "2. x_{1}\n",
       "   core type: IndexedVar\n",
       "variable: 3\n",
       "index: 4\n",
       "3. x\n",
       "   core type: Variable\n",
       "   sub-expressions: \n",
       "4. 1\n",
       "   core type: Literal\n",
       "   sub-expressions: "
      ]
     },
     "execution_count": 31,
     "metadata": {},
     "output_type": "execute_result"
    }
   ],
   "source": [
    "f_x1.exprInfo()"
   ]
  },
  {
   "cell_type": "code",
   "execution_count": 32,
   "metadata": {},
   "outputs": [],
   "source": [
    "%end operation_reductions"
   ]
  },
  {
   "cell_type": "markdown",
   "metadata": {},
   "source": [
    "# Next chapter: <a href=\"tutorial04_relabeling.ipynb\">ToDo</a>\n",
    "\n",
    "## <a href=\"tutorial00_introduction.ipynb#contents\">Table of Contents</a>"
   ]
  }
 ],
 "metadata": {
  "kernelspec": {
   "display_name": "Python 3",
   "language": "python",
   "name": "python3"
  }
 },
 "nbformat": 4,
 "nbformat_minor": 0
}
