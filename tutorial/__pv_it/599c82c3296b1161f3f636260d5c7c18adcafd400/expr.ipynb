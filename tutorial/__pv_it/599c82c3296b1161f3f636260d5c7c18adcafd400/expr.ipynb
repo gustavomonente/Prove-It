{
 "cells": [
  {
   "cell_type": "markdown",
   "metadata": {},
   "source": [
    "Expression of type <a class=\"ProveItLink\" href=\"../../../doc/html/api/proveit.ExprRange.html\">ExprRange</a>\n",
    "=======================\n",
    "# from context <a class=\"ProveItLink\" href=\"../../_context_.ipynb\">tutorial</a>"
   ]
  },
  {
   "cell_type": "code",
   "execution_count": 1,
   "metadata": {},
   "outputs": [],
   "source": [
    "import proveit\n",
    "# Automation is not needed when building an expression:\n",
    "proveit.defaults.automation = False # This will speed things up.\n",
    "proveit.defaults.inline_pngs = False # Makes files smaller.\n",
    "# import Expression classes needed to build the expression\n",
    "from proveit import ExprRange, Variable\n",
    "from proveit._common_ import j\n",
    "from proveit.number import one"
   ]
  },
  {
   "cell_type": "code",
   "execution_count": 2,
   "metadata": {},
   "outputs": [
    {
     "data": {
      "text/html": [
       "<strong id=\"expr\">expr:</strong> <a class=\"ProveItLink\" href=\"expr.ipynb\"><img src=\"expr.png\" style=\"display:inline;vertical-align:middle;\" /></a><br>"
      ],
      "text/plain": [
       "expr: 1, .._a.., j"
      ]
     },
     "execution_count": 2,
     "metadata": {},
     "output_type": "execute_result"
    }
   ],
   "source": [
    "# build up the expression from sub-expressions\n",
    "subExpr1 = Variable(\"_a\", latexFormat = r\"{_{-}a}\")\n",
    "expr = ExprRange(subExpr1, subExpr1, one, j)"
   ]
  },
  {
   "cell_type": "code",
   "execution_count": 3,
   "metadata": {},
   "outputs": [
    {
     "name": "stdout",
     "output_type": "stream",
     "text": [
      "Passed sanity check: built 'expr' is the same as the stored Expression.\n"
     ]
    }
   ],
   "source": [
    "# check that the built expression is the same as the stored expression\n",
    "%check_expr"
   ]
  },
  {
   "cell_type": "code",
   "execution_count": 4,
   "metadata": {},
   "outputs": [
    {
     "name": "stdout",
     "output_type": "stream",
     "text": [
      "1, \\ldots, j\n"
     ]
    }
   ],
   "source": [
    "# Show the LaTeX representation of the expression for convenience if you need it.\n",
    "print(expr.latex())"
   ]
  },
  {
   "cell_type": "code",
   "execution_count": 5,
   "metadata": {},
   "outputs": [
    {
     "data": {
      "text/html": [
       "<table><tr><th>&nbsp;</th><th>core type</th><th>sub-expressions</th><th>expression</th></tr>\n",
       "<tr><td>0</td><td>ExprRange</td><td>lambda_map:&nbsp;1<br>start_index:&nbsp;2<br>end_index:&nbsp;3<br></td><td><a class=\"ProveItLink\" href=\"expr.ipynb\"><img src=\"expr.png\" style=\"display:inline;vertical-align:middle;\" /></a></td></tr>\n",
       "<tr><td>1</td><td>Lambda</td><td>parameter:&nbsp;4<br>body:&nbsp;4<br></td><td><a class=\"ProveItLink\" href=\"../96aad406266123b3c7b11ddfe3810d3396e81e000/expr.ipynb\"><img src=\"../96aad406266123b3c7b11ddfe3810d3396e81e000/expr.png\" style=\"display:inline;vertical-align:middle;\" /></a></td></tr>\n",
       "<tr><td>2</td><td>Literal</td><td></td><td><a class=\"ProveItLink\" href=\"../../../packages/proveit/number/numeral/__pv_it/f086f8c372bd40a2458306ddfdbb29f3dc6f63030/expr.ipynb\"><img src=\"../../../packages/proveit/number/numeral/__pv_it/f086f8c372bd40a2458306ddfdbb29f3dc6f63030/expr.png\" style=\"display:inline;vertical-align:middle;\" /></a></td></tr>\n",
       "<tr><td>3</td><td>Variable</td><td></td><td><a class=\"ProveItLink\" href=\"../../../packages/proveit/__pv_it/6a5b5879f51878868f626bf09e4d76392d4779cd0/expr.ipynb\"><img src=\"../../../packages/proveit/__pv_it/6a5b5879f51878868f626bf09e4d76392d4779cd0/expr.png\" style=\"display:inline;vertical-align:middle;\" /></a></td></tr>\n",
       "<tr><td>4</td><td>Variable</td><td></td><td><a class=\"ProveItLink\" href=\"../1e653f789234b245ee7fea7caad998c139d617410/expr.ipynb\"><img src=\"../1e653f789234b245ee7fea7caad998c139d617410/expr.png\" style=\"display:inline;vertical-align:middle;\" /></a></td></tr>\n",
       "</table>\n"
      ],
      "text/plain": [
       "0. 1, .._a.., j\n",
       "   core type: ExprRange\n",
       "   lambda_map: 1\n",
       "   start_index: 2\n",
       "   end_index: 3\n",
       "1. _a -> _a\n",
       "   core type: Lambda\n",
       "   parameter: 4\n",
       "   body: 4\n",
       "2. 1\n",
       "   core type: Literal\n",
       "   sub-expressions: \n",
       "3. j\n",
       "   core type: Variable\n",
       "   sub-expressions: \n",
       "4. _a\n",
       "   core type: Variable\n",
       "   sub-expressions: "
      ]
     },
     "execution_count": 5,
     "metadata": {},
     "output_type": "execute_result"
    }
   ],
   "source": [
    "# display the expression information\n",
    "expr.exprInfo()"
   ]
  },
  {
   "cell_type": "code",
   "execution_count": null,
   "metadata": {},
   "outputs": [],
   "source": []
  }
 ],
 "metadata": {
  "kernelspec": {
   "display_name": "Python 3",
   "language": "python",
   "name": "python3"
  },
  "language_info": {
   "codemirror_mode": {
    "name": "ipython",
    "version": 3
   },
   "file_extension": ".py",
   "mimetype": "text/x-python",
   "name": "python",
   "nbconvert_exporter": "python",
   "pygments_lexer": "ipython3",
   "version": "3.7.3"
  }
 },
 "nbformat": 4,
 "nbformat_minor": 1
}
