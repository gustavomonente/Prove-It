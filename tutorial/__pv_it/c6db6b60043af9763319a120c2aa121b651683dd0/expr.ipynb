{
 "cells": [
  {
   "cell_type": "markdown",
   "metadata": {},
   "source": [
    "Expression of type <a class=\"ProveItLink\" href=\"../../../doc/html/api/proveit.ExprTuple.html\">ExprTuple</a>\n",
    "=======================\n",
    "# from context <a class=\"ProveItLink\" href=\"../../_context_.ipynb\">tutorial</a>"
   ]
  },
  {
   "cell_type": "code",
   "execution_count": 1,
   "metadata": {},
   "outputs": [],
   "source": [
    "import proveit\n",
    "# Automation is not needed when building an expression:\n",
    "proveit.defaults.automation = False # This will speed things up.\n",
    "proveit.defaults.inline_pngs = False # Makes files smaller.\n",
    "# import Expression classes needed to build the expression\n",
    "from proveit import ExprRange, ExprTuple, IndexedVar\n",
    "from proveit._common_ import c, d, j, k, n, x\n",
    "from proveit.core_expr_types import Len\n",
    "from proveit.number import Mult, one"
   ]
  },
  {
   "cell_type": "code",
   "execution_count": 2,
   "metadata": {},
   "outputs": [
    {
     "data": {
      "text/html": [
       "<strong id=\"expr\">expr:</strong> <a class=\"ProveItLink\" href=\"expr.ipynb\"><img src=\"expr.png\" style=\"display:inline;vertical-align:middle;\" /></a><br>"
      ],
      "text/plain": [
       "expr: (|(c_{1}, ..c_{x}.., c_{j}, 1 * d_{1}, ..x * d_{x}.., k * d_{k})|, n)"
      ]
     },
     "execution_count": 2,
     "metadata": {},
     "output_type": "execute_result"
    }
   ],
   "source": [
    "# build up the expression from sub-expressions\n",
    "expr = ExprTuple(Len([ExprRange(x, IndexedVar(c, x), one, j), ExprRange(x, Mult(x, IndexedVar(d, x)), one, k)]), n)"
   ]
  },
  {
   "cell_type": "code",
   "execution_count": 3,
   "metadata": {},
   "outputs": [
    {
     "name": "stdout",
     "output_type": "stream",
     "text": [
      "Passed sanity check: built 'expr' is the same as the stored Expression.\n"
     ]
    }
   ],
   "source": [
    "# check that the built expression is the same as the stored expression\n",
    "%check_expr"
   ]
  },
  {
   "cell_type": "code",
   "execution_count": 4,
   "metadata": {},
   "outputs": [
    {
     "name": "stdout",
     "output_type": "stream",
     "text": [
      "\\left(|\\left(c_{1}, \\ldots, c_{j}, 1 \\cdot d_{1}, \\ldots, k \\cdot d_{k}\\right)|, n\\right)\n"
     ]
    }
   ],
   "source": [
    "# Show the LaTeX representation of the expression for convenience if you need it.\n",
    "print(expr.latex())"
   ]
  },
  {
   "cell_type": "code",
   "execution_count": 5,
   "metadata": {},
   "outputs": [
    {
     "data": {
      "text/html": [
       "<table><tr><th>&nbsp;</th><th>core type</th><th>sub-expressions</th><th>expression</th></tr>\n",
       "<tr><td>0</td><td>ExprTuple</td><td>1, 2</td><td><a class=\"ProveItLink\" href=\"expr.ipynb\"><img src=\"expr.png\" style=\"display:inline;vertical-align:middle;\" /></a></td></tr>\n",
       "<tr><td>1</td><td>Operation</td><td>operator:&nbsp;3<br>operand:&nbsp;5<br></td><td><a class=\"ProveItLink\" href=\"../65130bc8128dbff0633ef1aeddba98d59883fbc70/expr.ipynb\"><img src=\"../65130bc8128dbff0633ef1aeddba98d59883fbc70/expr.png\" style=\"display:inline;vertical-align:middle;\" /></a></td></tr>\n",
       "<tr><td>2</td><td>Variable</td><td></td><td><a class=\"ProveItLink\" href=\"../../../packages/proveit/__pv_it/0c1c4cb515e0f4344b1ac06650f349123e526deb0/expr.ipynb\"><img src=\"../../../packages/proveit/__pv_it/0c1c4cb515e0f4344b1ac06650f349123e526deb0/expr.png\" style=\"display:inline;vertical-align:middle;\" /></a></td></tr>\n",
       "<tr><td>3</td><td>Literal</td><td></td><td><a class=\"ProveItLink\" href=\"../../../packages/proveit/core_expr_types/tuples/__pv_it/92831c6291223dfbd76a11e90e750ae52564aa9f0/expr.ipynb\"><img src=\"../../../packages/proveit/core_expr_types/tuples/__pv_it/92831c6291223dfbd76a11e90e750ae52564aa9f0/expr.png\" style=\"display:inline;vertical-align:middle;\" /></a></td></tr>\n",
       "<tr><td>4</td><td>ExprTuple</td><td>5</td><td><a class=\"ProveItLink\" href=\"../79c83b1e3ff4c2863015a3530979963040a1132a0/expr.ipynb\"><img src=\"../79c83b1e3ff4c2863015a3530979963040a1132a0/expr.png\" style=\"display:inline;vertical-align:middle;\" /></a></td></tr>\n",
       "<tr><td>5</td><td>ExprTuple</td><td>6, 7</td><td><a class=\"ProveItLink\" href=\"../3936c7650c2eebaf29f304f9dcfbd7805112ed550/expr.ipynb\"><img src=\"../3936c7650c2eebaf29f304f9dcfbd7805112ed550/expr.png\" style=\"display:inline;vertical-align:middle;\" /></a></td></tr>\n",
       "<tr><td>6</td><td>ExprRange</td><td>lambda_map:&nbsp;8<br>start_index:&nbsp;11<br>end_index:&nbsp;9<br></td><td><a class=\"ProveItLink\" href=\"../c6e40cefadb51cdd6f4b3e9d0931bafe4a6d9d670/expr.ipynb\"><img src=\"../c6e40cefadb51cdd6f4b3e9d0931bafe4a6d9d670/expr.png\" style=\"display:inline;vertical-align:middle;\" /></a></td></tr>\n",
       "<tr><td>7</td><td>ExprRange</td><td>lambda_map:&nbsp;10<br>start_index:&nbsp;11<br>end_index:&nbsp;12<br></td><td><a class=\"ProveItLink\" href=\"../551a35970bf6848002b6e16abd2809f7f6e20dc50/expr.ipynb\"><img src=\"../551a35970bf6848002b6e16abd2809f7f6e20dc50/expr.png\" style=\"display:inline;vertical-align:middle;\" /></a></td></tr>\n",
       "<tr><td>8</td><td>Lambda</td><td>parameter:&nbsp;20<br>body:&nbsp;13<br></td><td><a class=\"ProveItLink\" href=\"../e2eac1fa0ef4f576c26fc3c0f448c6b36048cee30/expr.ipynb\"><img src=\"../e2eac1fa0ef4f576c26fc3c0f448c6b36048cee30/expr.png\" style=\"display:inline;vertical-align:middle;\" /></a></td></tr>\n",
       "<tr><td>9</td><td>Variable</td><td></td><td><a class=\"ProveItLink\" href=\"../../../packages/proveit/__pv_it/6a5b5879f51878868f626bf09e4d76392d4779cd0/expr.ipynb\"><img src=\"../../../packages/proveit/__pv_it/6a5b5879f51878868f626bf09e4d76392d4779cd0/expr.png\" style=\"display:inline;vertical-align:middle;\" /></a></td></tr>\n",
       "<tr><td>10</td><td>Lambda</td><td>parameter:&nbsp;20<br>body:&nbsp;14<br></td><td><a class=\"ProveItLink\" href=\"../c46215f09df612c8bbb313e27803b87f648223980/expr.ipynb\"><img src=\"../c46215f09df612c8bbb313e27803b87f648223980/expr.png\" style=\"display:inline;vertical-align:middle;\" /></a></td></tr>\n",
       "<tr><td>11</td><td>Literal</td><td></td><td><a class=\"ProveItLink\" href=\"../../../packages/proveit/number/numeral/__pv_it/f086f8c372bd40a2458306ddfdbb29f3dc6f63030/expr.ipynb\"><img src=\"../../../packages/proveit/number/numeral/__pv_it/f086f8c372bd40a2458306ddfdbb29f3dc6f63030/expr.png\" style=\"display:inline;vertical-align:middle;\" /></a></td></tr>\n",
       "<tr><td>12</td><td>Variable</td><td></td><td><a class=\"ProveItLink\" href=\"../../../packages/proveit/__pv_it/273f49450ca25e1b56abbd98a7aef618f8f6c1360/expr.ipynb\"><img src=\"../../../packages/proveit/__pv_it/273f49450ca25e1b56abbd98a7aef618f8f6c1360/expr.png\" style=\"display:inline;vertical-align:middle;\" /></a></td></tr>\n",
       "<tr><td>13</td><td>IndexedVar</td><td>variable:&nbsp;15<br>index:&nbsp;20<br></td><td><a class=\"ProveItLink\" href=\"../9fada815ab8984294f03f1b442e670c31130b27f0/expr.ipynb\"><img src=\"../9fada815ab8984294f03f1b442e670c31130b27f0/expr.png\" style=\"display:inline;vertical-align:middle;\" /></a></td></tr>\n",
       "<tr><td>14</td><td>Operation</td><td>operator:&nbsp;16<br>operands:&nbsp;17<br></td><td><a class=\"ProveItLink\" href=\"../b73895aaa231c4b04f57c332730de459fca60f450/expr.ipynb\"><img src=\"../b73895aaa231c4b04f57c332730de459fca60f450/expr.png\" style=\"display:inline;vertical-align:middle;\" /></a></td></tr>\n",
       "<tr><td>15</td><td>Variable</td><td></td><td><a class=\"ProveItLink\" href=\"../../../packages/proveit/__pv_it/b2b446b221a34ee579eb9a1fbdd4ac4e2891d8c70/expr.ipynb\"><img src=\"../../../packages/proveit/__pv_it/b2b446b221a34ee579eb9a1fbdd4ac4e2891d8c70/expr.png\" style=\"display:inline;vertical-align:middle;\" /></a></td></tr>\n",
       "<tr><td>16</td><td>Literal</td><td></td><td><a class=\"ProveItLink\" href=\"../../../packages/proveit/number/multiplication/__pv_it/f7a1ed7c35c8c884cf4c236d27cb79bf85638cad0/expr.ipynb\"><img src=\"../../../packages/proveit/number/multiplication/__pv_it/f7a1ed7c35c8c884cf4c236d27cb79bf85638cad0/expr.png\" style=\"display:inline;vertical-align:middle;\" /></a></td></tr>\n",
       "<tr><td>17</td><td>ExprTuple</td><td>20, 18</td><td><a class=\"ProveItLink\" href=\"../6782a1ae95e2660abb3c88b92a372fc4c5db39b80/expr.ipynb\"><img src=\"../6782a1ae95e2660abb3c88b92a372fc4c5db39b80/expr.png\" style=\"display:inline;vertical-align:middle;\" /></a></td></tr>\n",
       "<tr><td>18</td><td>IndexedVar</td><td>variable:&nbsp;19<br>index:&nbsp;20<br></td><td><a class=\"ProveItLink\" href=\"../6bbf3d692dfc9075963a62fa4438095a7456e1610/expr.ipynb\"><img src=\"../6bbf3d692dfc9075963a62fa4438095a7456e1610/expr.png\" style=\"display:inline;vertical-align:middle;\" /></a></td></tr>\n",
       "<tr><td>19</td><td>Variable</td><td></td><td><a class=\"ProveItLink\" href=\"../../../packages/proveit/__pv_it/445e790c2b62732eb8597a2ddda4cbd1a8fb79140/expr.ipynb\"><img src=\"../../../packages/proveit/__pv_it/445e790c2b62732eb8597a2ddda4cbd1a8fb79140/expr.png\" style=\"display:inline;vertical-align:middle;\" /></a></td></tr>\n",
       "<tr><td>20</td><td>Variable</td><td></td><td><a class=\"ProveItLink\" href=\"../../../packages/proveit/__pv_it/72df168d2bfb4e0140af90912ebf83b13772060b0/expr.ipynb\"><img src=\"../../../packages/proveit/__pv_it/72df168d2bfb4e0140af90912ebf83b13772060b0/expr.png\" style=\"display:inline;vertical-align:middle;\" /></a></td></tr>\n",
       "</table>\n"
      ],
      "text/plain": [
       "0. (|(c_{1}, ..c_{x}.., c_{j}, 1 * d_{1}, ..x * d_{x}.., k * d_{k})|, n)\n",
       "   core type: ExprTuple\n",
       "   sub-expressions: 1, 2\n",
       "1. |(c_{1}, ..c_{x}.., c_{j}, 1 * d_{1}, ..x * d_{x}.., k * d_{k})|\n",
       "   core type: Operation\n",
       "   operator: 3\n",
       "   operand: 5\n",
       "2. n\n",
       "   core type: Variable\n",
       "   sub-expressions: \n",
       "3. length\n",
       "   core type: Literal\n",
       "   sub-expressions: \n",
       "4. ((c_{1}, ..c_{x}.., c_{j}, 1 * d_{1}, ..x * d_{x}.., k * d_{k}))\n",
       "   core type: ExprTuple\n",
       "   sub-expressions: 5\n",
       "5. (c_{1}, ..c_{x}.., c_{j}, 1 * d_{1}, ..x * d_{x}.., k * d_{k})\n",
       "   core type: ExprTuple\n",
       "   sub-expressions: 6, 7\n",
       "6. c_{1}, ..c_{x}.., c_{j}\n",
       "   core type: ExprRange\n",
       "   lambda_map: 8\n",
       "   start_index: 11\n",
       "   end_index: 9\n",
       "7. (1 * d_{1}), ..(x * d_{x}).., (k * d_{k})\n",
       "   core type: ExprRange\n",
       "   lambda_map: 10\n",
       "   start_index: 11\n",
       "   end_index: 12\n",
       "8. x -> c_{x}\n",
       "   core type: Lambda\n",
       "   parameter: 20\n",
       "   body: 13\n",
       "9. j\n",
       "   core type: Variable\n",
       "   sub-expressions: \n",
       "10. x -> (x * d_{x})\n",
       "    core type: Lambda\n",
       "    parameter: 20\n",
       "    body: 14\n",
       "11. 1\n",
       "    core type: Literal\n",
       "    sub-expressions: \n",
       "12. k\n",
       "    core type: Variable\n",
       "    sub-expressions: \n",
       "13. c_{x}\n",
       "    core type: IndexedVar\n",
       "variable: 15\n",
       "index: 20\n",
       "14. x * d_{x}\n",
       "    core type: Operation\n",
       "    operator: 16\n",
       "    operands: 17\n",
       "15. c\n",
       "    core type: Variable\n",
       "    sub-expressions: \n",
       "16. *\n",
       "    core type: Literal\n",
       "    sub-expressions: \n",
       "17. (x, d_{x})\n",
       "    core type: ExprTuple\n",
       "    sub-expressions: 20, 18\n",
       "18. d_{x}\n",
       "    core type: IndexedVar\n",
       "variable: 19\n",
       "index: 20\n",
       "19. d\n",
       "    core type: Variable\n",
       "    sub-expressions: \n",
       "20. x\n",
       "    core type: Variable\n",
       "    sub-expressions: "
      ]
     },
     "execution_count": 5,
     "metadata": {},
     "output_type": "execute_result"
    }
   ],
   "source": [
    "# display the expression information\n",
    "expr.exprInfo()"
   ]
  },
  {
   "cell_type": "code",
   "execution_count": null,
   "metadata": {},
   "outputs": [],
   "source": []
  }
 ],
 "metadata": {
  "kernelspec": {
   "display_name": "Python 3",
   "language": "python",
   "name": "python3"
  },
  "language_info": {
   "codemirror_mode": {
    "name": "ipython",
    "version": 3
   },
   "file_extension": ".py",
   "mimetype": "text/x-python",
   "name": "python",
   "nbconvert_exporter": "python",
   "pygments_lexer": "ipython3",
   "version": "3.7.3"
  }
 },
 "nbformat": 4,
 "nbformat_minor": 1
}
