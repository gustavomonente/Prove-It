{
 "cells": [
  {
   "cell_type": "markdown",
   "metadata": {},
   "source": [
    "Expression of type <a class=\"ProveItLink\" href=\"../../../doc/html/api/proveit.Lambda.html\">Lambda</a>\n",
    "=======================\n",
    "# from context <a class=\"ProveItLink\" href=\"../../_context_.ipynb\">tutorial</a>"
   ]
  },
  {
   "cell_type": "code",
   "execution_count": 1,
   "metadata": {},
   "outputs": [],
   "source": [
    "import proveit\n",
    "# Automation is not needed when building an expression:\n",
    "proveit.defaults.automation = False # This will speed things up.\n",
    "proveit.defaults.inline_pngs = False # Makes files smaller.\n",
    "# import Expression classes needed to build the expression\n",
    "from proveit import Conditional, Lambda\n",
    "from proveit._common_ import f, i, j\n",
    "from proveit.core_expr_types._common_ import partition_back_equiv\n",
    "from proveit.logic import InSet\n",
    "from proveit.number import Add, Naturals, Neg"
   ]
  },
  {
   "cell_type": "code",
   "execution_count": 2,
   "metadata": {},
   "outputs": [
    {
     "data": {
      "text/html": [
       "<strong id=\"expr\">expr:</strong> <a class=\"ProveItLink\" href=\"expr.ipynb\"><img src=\"expr.png\" style=\"display:inline;vertical-align:middle;\" /></a><br>"
      ],
      "text/plain": [
       "expr: (f, i, j) -> {(f(i), ..f(a).., f(j)) =  \\\\ (f(i), ..f(a).., f(j - 1), f(j)) if (j - i) in Naturals."
      ]
     },
     "execution_count": 2,
     "metadata": {},
     "output_type": "execute_result"
    }
   ],
   "source": [
    "# build up the expression from sub-expressions\n",
    "expr = Lambda([f, i, j], Conditional(partition_back_equiv, InSet(Add(j, Neg(i)), Naturals)))"
   ]
  },
  {
   "cell_type": "code",
   "execution_count": 3,
   "metadata": {},
   "outputs": [
    {
     "name": "stdout",
     "output_type": "stream",
     "text": [
      "Passed sanity check: built 'expr' is the same as the stored Expression.\n"
     ]
    }
   ],
   "source": [
    "# check that the built expression is the same as the stored expression\n",
    "%check_expr"
   ]
  },
  {
   "cell_type": "code",
   "execution_count": 4,
   "metadata": {},
   "outputs": [
    {
     "name": "stdout",
     "output_type": "stream",
     "text": [
      "\\left(f, i, j\\right) \\mapsto \\left\\{\\begin{array}{c} \\left(f(i), \\ldots, f(j)\\right) =  \\\\ \\left(f(i), \\ldots, f(j - 1), f(j)\\right) \\end{array} \\textrm{ if } \\left(j - i\\right) \\in \\mathbb{N}\\right..\n"
     ]
    }
   ],
   "source": [
    "# Show the LaTeX representation of the expression for convenience if you need it.\n",
    "print(expr.latex())"
   ]
  },
  {
   "cell_type": "code",
   "execution_count": 5,
   "metadata": {},
   "outputs": [
    {
     "data": {
      "text/html": [
       "<table><tr><th>&nbsp;</th><th>core type</th><th>sub-expressions</th><th>expression</th></tr>\n",
       "<tr><td>0</td><td>Lambda</td><td>parameters:&nbsp;1<br>body:&nbsp;2<br></td><td><a class=\"ProveItLink\" href=\"expr.ipynb\"><img src=\"expr.png\" style=\"display:inline;vertical-align:middle;\" /></a></td></tr>\n",
       "<tr><td>1</td><td>ExprTuple</td><td>24, 23, 26</td><td><a class=\"ProveItLink\" href=\"../1b0b5cbcb0ce477d7184ad35c83ae430b3c21a2c0/expr.ipynb\"><img src=\"../1b0b5cbcb0ce477d7184ad35c83ae430b3c21a2c0/expr.png\" style=\"display:inline;vertical-align:middle;\" /></a></td></tr>\n",
       "<tr><td>2</td><td>Conditional</td><td>value:&nbsp;3<br>condition:&nbsp;4<br></td><td><a class=\"ProveItLink\" href=\"../5939964573a4d7ccba15f1f16517ed6c114bbf590/expr.ipynb\"><img src=\"../5939964573a4d7ccba15f1f16517ed6c114bbf590/expr.png\" style=\"display:inline;vertical-align:middle;\" /></a></td></tr>\n",
       "<tr><td>3</td><td>Operation</td><td>operator:&nbsp;5<br>operands:&nbsp;6<br></td><td><a class=\"ProveItLink\" href=\"../../../packages/proveit/core_expr_types/__pv_it/a6bc32a265fead9fec4ffbbd8cad246d45d51b210/expr.ipynb\"><img src=\"../../../packages/proveit/core_expr_types/__pv_it/a6bc32a265fead9fec4ffbbd8cad246d45d51b210/expr.png\" style=\"display:inline;vertical-align:middle;\" /></a></td></tr>\n",
       "<tr><td>4</td><td>Operation</td><td>operator:&nbsp;7<br>operands:&nbsp;8<br></td><td><a class=\"ProveItLink\" href=\"../4d64596515040694fa2b17cfecae1df70ade857f0/expr.ipynb\"><img src=\"../4d64596515040694fa2b17cfecae1df70ade857f0/expr.png\" style=\"display:inline;vertical-align:middle;\" /></a></td></tr>\n",
       "<tr><td>5</td><td>Literal</td><td></td><td><a class=\"ProveItLink\" href=\"../../../packages/proveit/logic/equality/__pv_it/e16d2caa26a16688b658bdb9c422caf4b84579e10/expr.ipynb\"><img src=\"../../../packages/proveit/logic/equality/__pv_it/e16d2caa26a16688b658bdb9c422caf4b84579e10/expr.png\" style=\"display:inline;vertical-align:middle;\" /></a></td></tr>\n",
       "<tr><td>6</td><td>ExprTuple</td><td>9, 10</td><td><a class=\"ProveItLink\" href=\"../../../packages/proveit/core_expr_types/__pv_it/dbb21b73d540cd821deff22b2628116c6449051a0/expr.ipynb\"><img src=\"../../../packages/proveit/core_expr_types/__pv_it/dbb21b73d540cd821deff22b2628116c6449051a0/expr.png\" style=\"display:inline;vertical-align:middle;\" /></a></td></tr>\n",
       "<tr><td>7</td><td>Literal</td><td></td><td><a class=\"ProveItLink\" href=\"../../../packages/proveit/logic/set_theory/membership/__pv_it/7776fc89cb67d0b5b1ec2c0c8e08da5587921ccf0/expr.ipynb\"><img src=\"../../../packages/proveit/logic/set_theory/membership/__pv_it/7776fc89cb67d0b5b1ec2c0c8e08da5587921ccf0/expr.png\" style=\"display:inline;vertical-align:middle;\" /></a></td></tr>\n",
       "<tr><td>8</td><td>ExprTuple</td><td>11, 12</td><td><a class=\"ProveItLink\" href=\"../c88446cdc4d39ef5b2e43166419f4499b5c6247e0/expr.ipynb\"><img src=\"../c88446cdc4d39ef5b2e43166419f4499b5c6247e0/expr.png\" style=\"display:inline;vertical-align:middle;\" /></a></td></tr>\n",
       "<tr><td>9</td><td>ExprTuple</td><td>13</td><td><a class=\"ProveItLink\" href=\"../../../packages/proveit/core_expr_types/__pv_it/a90447d807c4de0b17528f6a84bc37c4321c36950/expr.ipynb\"><img src=\"../../../packages/proveit/core_expr_types/__pv_it/a90447d807c4de0b17528f6a84bc37c4321c36950/expr.png\" style=\"display:inline;vertical-align:middle;\" /></a></td></tr>\n",
       "<tr><td>10</td><td>ExprTuple</td><td>14, 15</td><td><a class=\"ProveItLink\" href=\"../../../packages/proveit/core_expr_types/__pv_it/9e86ed0edbe2eab711c1dec6c4244fbcb6d198c40/expr.ipynb\"><img src=\"../../../packages/proveit/core_expr_types/__pv_it/9e86ed0edbe2eab711c1dec6c4244fbcb6d198c40/expr.png\" style=\"display:inline;vertical-align:middle;\" /></a></td></tr>\n",
       "<tr><td>11</td><td>Operation</td><td>operator:&nbsp;21<br>operands:&nbsp;16<br></td><td><a class=\"ProveItLink\" href=\"../b6d8b5c28695e1edc6c07b7b7c74c9b5f91239970/expr.ipynb\"><img src=\"../b6d8b5c28695e1edc6c07b7b7c74c9b5f91239970/expr.png\" style=\"display:inline;vertical-align:middle;\" /></a></td></tr>\n",
       "<tr><td>12</td><td>Literal</td><td></td><td><a class=\"ProveItLink\" href=\"../../../packages/proveit/number/sets/integer/__pv_it/b49c37b99b7e8d73a8d7971bcf454d693b90a2c60/expr.ipynb\"><img src=\"../../../packages/proveit/number/sets/integer/__pv_it/b49c37b99b7e8d73a8d7971bcf454d693b90a2c60/expr.png\" style=\"display:inline;vertical-align:middle;\" /></a></td></tr>\n",
       "<tr><td>13</td><td>ExprRange</td><td>lambda_map:&nbsp;17<br>start_index:&nbsp;23<br>end_index:&nbsp;26<br></td><td><a class=\"ProveItLink\" href=\"../../../packages/proveit/core_expr_types/__pv_it/4364953c923fa6ca90559992aee2d3b09264c0360/expr.ipynb\"><img src=\"../../../packages/proveit/core_expr_types/__pv_it/4364953c923fa6ca90559992aee2d3b09264c0360/expr.png\" style=\"display:inline;vertical-align:middle;\" /></a></td></tr>\n",
       "<tr><td>14</td><td>ExprRange</td><td>lambda_map:&nbsp;17<br>start_index:&nbsp;23<br>end_index:&nbsp;18<br></td><td><a class=\"ProveItLink\" href=\"../../../packages/proveit/core_expr_types/__pv_it/410de49b0db49088e2422913aa1cfd6c6a8cb30d0/expr.ipynb\"><img src=\"../../../packages/proveit/core_expr_types/__pv_it/410de49b0db49088e2422913aa1cfd6c6a8cb30d0/expr.png\" style=\"display:inline;vertical-align:middle;\" /></a></td></tr>\n",
       "<tr><td>15</td><td>Operation</td><td>operator:&nbsp;24<br>operand:&nbsp;26<br></td><td><a class=\"ProveItLink\" href=\"../../../packages/proveit/core_expr_types/__pv_it/6068da495044ef502493c983021e74977d4c60d50/expr.ipynb\"><img src=\"../../../packages/proveit/core_expr_types/__pv_it/6068da495044ef502493c983021e74977d4c60d50/expr.png\" style=\"display:inline;vertical-align:middle;\" /></a></td></tr>\n",
       "<tr><td>16</td><td>ExprTuple</td><td>26, 19</td><td><a class=\"ProveItLink\" href=\"../ca4a1f92524517c4abff9cefdd82a6c41e145bb00/expr.ipynb\"><img src=\"../ca4a1f92524517c4abff9cefdd82a6c41e145bb00/expr.png\" style=\"display:inline;vertical-align:middle;\" /></a></td></tr>\n",
       "<tr><td>17</td><td>Lambda</td><td>parameter:&nbsp;25<br>body:&nbsp;20<br></td><td><a class=\"ProveItLink\" href=\"../../../packages/proveit/core_expr_types/__pv_it/4df79cbef650a27c8a09538689706d4ef348e6770/expr.ipynb\"><img src=\"../../../packages/proveit/core_expr_types/__pv_it/4df79cbef650a27c8a09538689706d4ef348e6770/expr.png\" style=\"display:inline;vertical-align:middle;\" /></a></td></tr>\n",
       "<tr><td>18</td><td>Operation</td><td>operator:&nbsp;21<br>operands:&nbsp;22<br></td><td><a class=\"ProveItLink\" href=\"../../../packages/proveit/core_expr_types/__pv_it/a62844b4413d5dd3e44129e9069bd0a168c80d2a0/expr.ipynb\"><img src=\"../../../packages/proveit/core_expr_types/__pv_it/a62844b4413d5dd3e44129e9069bd0a168c80d2a0/expr.png\" style=\"display:inline;vertical-align:middle;\" /></a></td></tr>\n",
       "<tr><td>19</td><td>Operation</td><td>operator:&nbsp;28<br>operand:&nbsp;23<br></td><td><a class=\"ProveItLink\" href=\"../e30e84c6c241a2e59facf3853e0cf2095a9c3cb00/expr.ipynb\"><img src=\"../e30e84c6c241a2e59facf3853e0cf2095a9c3cb00/expr.png\" style=\"display:inline;vertical-align:middle;\" /></a></td></tr>\n",
       "<tr><td>20</td><td>Operation</td><td>operator:&nbsp;24<br>operand:&nbsp;25<br></td><td><a class=\"ProveItLink\" href=\"../../../packages/proveit/__pv_it/e80bce2a0c2e8c976be76e7b3ce08f76e74ec5550/expr.ipynb\"><img src=\"../../../packages/proveit/__pv_it/e80bce2a0c2e8c976be76e7b3ce08f76e74ec5550/expr.png\" style=\"display:inline;vertical-align:middle;\" /></a></td></tr>\n",
       "<tr><td>21</td><td>Literal</td><td></td><td><a class=\"ProveItLink\" href=\"../../../packages/proveit/number/addition/__pv_it/65ad7e8aee19b10110d590375ba95a879c4fb7ea0/expr.ipynb\"><img src=\"../../../packages/proveit/number/addition/__pv_it/65ad7e8aee19b10110d590375ba95a879c4fb7ea0/expr.png\" style=\"display:inline;vertical-align:middle;\" /></a></td></tr>\n",
       "<tr><td>22</td><td>ExprTuple</td><td>26, 27</td><td><a class=\"ProveItLink\" href=\"../../../packages/proveit/core_expr_types/__pv_it/139087f71e6bbeb086d59048faf8ee982808c5970/expr.ipynb\"><img src=\"../../../packages/proveit/core_expr_types/__pv_it/139087f71e6bbeb086d59048faf8ee982808c5970/expr.png\" style=\"display:inline;vertical-align:middle;\" /></a></td></tr>\n",
       "<tr><td>23</td><td>Variable</td><td></td><td><a class=\"ProveItLink\" href=\"../../../packages/proveit/__pv_it/557ab5defdcd46aa58168b08767502985122cd490/expr.ipynb\"><img src=\"../../../packages/proveit/__pv_it/557ab5defdcd46aa58168b08767502985122cd490/expr.png\" style=\"display:inline;vertical-align:middle;\" /></a></td></tr>\n",
       "<tr><td>24</td><td>Variable</td><td></td><td><a class=\"ProveItLink\" href=\"../../../packages/proveit/__pv_it/d7bbb04e874e28c7cefb21d4eea40806ae52f1f70/expr.ipynb\"><img src=\"../../../packages/proveit/__pv_it/d7bbb04e874e28c7cefb21d4eea40806ae52f1f70/expr.png\" style=\"display:inline;vertical-align:middle;\" /></a></td></tr>\n",
       "<tr><td>25</td><td>Variable</td><td></td><td><a class=\"ProveItLink\" href=\"../../../packages/proveit/__pv_it/a8d4b3a34d2189508f9082853fbac36935714f280/expr.ipynb\"><img src=\"../../../packages/proveit/__pv_it/a8d4b3a34d2189508f9082853fbac36935714f280/expr.png\" style=\"display:inline;vertical-align:middle;\" /></a></td></tr>\n",
       "<tr><td>26</td><td>Variable</td><td></td><td><a class=\"ProveItLink\" href=\"../../../packages/proveit/__pv_it/6a5b5879f51878868f626bf09e4d76392d4779cd0/expr.ipynb\"><img src=\"../../../packages/proveit/__pv_it/6a5b5879f51878868f626bf09e4d76392d4779cd0/expr.png\" style=\"display:inline;vertical-align:middle;\" /></a></td></tr>\n",
       "<tr><td>27</td><td>Operation</td><td>operator:&nbsp;28<br>operand:&nbsp;29<br></td><td><a class=\"ProveItLink\" href=\"../../../packages/proveit/core_expr_types/__pv_it/01559348096b98a1dd2ebcf5c288189c829b18930/expr.ipynb\"><img src=\"../../../packages/proveit/core_expr_types/__pv_it/01559348096b98a1dd2ebcf5c288189c829b18930/expr.png\" style=\"display:inline;vertical-align:middle;\" /></a></td></tr>\n",
       "<tr><td>28</td><td>Literal</td><td></td><td><a class=\"ProveItLink\" href=\"../../../packages/proveit/number/negation/__pv_it/2867787e35502987d81a45cac8e7f1c6996d6ff40/expr.ipynb\"><img src=\"../../../packages/proveit/number/negation/__pv_it/2867787e35502987d81a45cac8e7f1c6996d6ff40/expr.png\" style=\"display:inline;vertical-align:middle;\" /></a></td></tr>\n",
       "<tr><td>29</td><td>Literal</td><td></td><td><a class=\"ProveItLink\" href=\"../../../packages/proveit/number/numeral/__pv_it/f086f8c372bd40a2458306ddfdbb29f3dc6f63030/expr.ipynb\"><img src=\"../../../packages/proveit/number/numeral/__pv_it/f086f8c372bd40a2458306ddfdbb29f3dc6f63030/expr.png\" style=\"display:inline;vertical-align:middle;\" /></a></td></tr>\n",
       "</table>\n"
      ],
      "text/plain": [
       "0. (f, i, j) -> {(f(i), ..f(a).., f(j)) =  \\\\ (f(i), ..f(a).., f(j - 1), f(j)) if (j - i) in Naturals.\n",
       "   core type: Lambda\n",
       "   parameters: 1\\n   body: 2\n",
       "1. (f, i, j)\n",
       "   core type: ExprTuple\n",
       "   sub-expressions: 24, 23, 26\n",
       "2. {(f(i), ..f(a).., f(j)) =  \\\\ (f(i), ..f(a).., f(j - 1), f(j)) if (j - i) in Naturals.\n",
       "   core type: Conditional\n",
       "   value: 3\n",
       "   condition: 4\n",
       "3. (f(i), ..f(a).., f(j)) =  \\\\ (f(i), ..f(a).., f(j - 1), f(j))\n",
       "   core type: Operation\n",
       "   operator: 5\n",
       "   operands: 6\n",
       "4. (j - i) in Naturals\n",
       "   core type: Operation\n",
       "   operator: 7\n",
       "   operands: 8\n",
       "5. =\n",
       "   core type: Literal\n",
       "   sub-expressions: \n",
       "6. ((f(i), ..f(a).., f(j)), (f(i), ..f(a).., f(j - 1), f(j)))\n",
       "   core type: ExprTuple\n",
       "   sub-expressions: 9, 10\n",
       "7. in\n",
       "   core type: Literal\n",
       "   sub-expressions: \n",
       "8. (j - i, Naturals)\n",
       "   core type: ExprTuple\n",
       "   sub-expressions: 11, 12\n",
       "9. (f(i), ..f(a).., f(j))\n",
       "   core type: ExprTuple\n",
       "   sub-expressions: 13\n",
       "10. (f(i), ..f(a).., f(j - 1), f(j))\n",
       "    core type: ExprTuple\n",
       "    sub-expressions: 14, 15\n",
       "11. j - i\n",
       "    core type: Operation\n",
       "    operator: 21\n",
       "    operands: 16\n",
       "12. Naturals\n",
       "    core type: Literal\n",
       "    sub-expressions: \n",
       "13. f(i), ..f(a).., f(j)\n",
       "    core type: ExprRange\n",
       "    lambda_map: 17\n",
       "    start_index: 23\n",
       "    end_index: 26\n",
       "14. f(i), ..f(a).., f(j - 1)\n",
       "    core type: ExprRange\n",
       "    lambda_map: 17\n",
       "    start_index: 23\n",
       "    end_index: 18\n",
       "15. f(j)\n",
       "    core type: Operation\n",
       "    operator: 24\n",
       "    operand: 26\n",
       "16. (j, -i)\n",
       "    core type: ExprTuple\n",
       "    sub-expressions: 26, 19\n",
       "17. a -> f(a)\n",
       "    core type: Lambda\n",
       "    parameter: 25\n",
       "    body: 20\n",
       "18. j - 1\n",
       "    core type: Operation\n",
       "    operator: 21\n",
       "    operands: 22\n",
       "19. -i\n",
       "    core type: Operation\n",
       "    operator: 28\n",
       "    operand: 23\n",
       "20. f(a)\n",
       "    core type: Operation\n",
       "    operator: 24\n",
       "    operand: 25\n",
       "21. +\n",
       "    core type: Literal\n",
       "    sub-expressions: \n",
       "22. (j, -1)\n",
       "    core type: ExprTuple\n",
       "    sub-expressions: 26, 27\n",
       "23. i\n",
       "    core type: Variable\n",
       "    sub-expressions: \n",
       "24. f\n",
       "    core type: Variable\n",
       "    sub-expressions: \n",
       "25. a\n",
       "    core type: Variable\n",
       "    sub-expressions: \n",
       "26. j\n",
       "    core type: Variable\n",
       "    sub-expressions: \n",
       "27. -1\n",
       "    core type: Operation\n",
       "    operator: 28\n",
       "    operand: 29\n",
       "28. -\n",
       "    core type: Literal\n",
       "    sub-expressions: \n",
       "29. 1\n",
       "    core type: Literal\n",
       "    sub-expressions: "
      ]
     },
     "execution_count": 5,
     "metadata": {},
     "output_type": "execute_result"
    }
   ],
   "source": [
    "# display the expression information\n",
    "expr.exprInfo()"
   ]
  },
  {
   "cell_type": "code",
   "execution_count": null,
   "metadata": {},
   "outputs": [],
   "source": []
  }
 ],
 "metadata": {
  "kernelspec": {
   "display_name": "Python 3",
   "language": "python",
   "name": "python3"
  },
  "language_info": {
   "codemirror_mode": {
    "name": "ipython",
    "version": 3
   },
   "file_extension": ".py",
   "mimetype": "text/x-python",
   "name": "python",
   "nbconvert_exporter": "python",
   "pygments_lexer": "ipython3",
   "version": "3.7.3"
  }
 },
 "nbformat": 4,
 "nbformat_minor": 1
}
