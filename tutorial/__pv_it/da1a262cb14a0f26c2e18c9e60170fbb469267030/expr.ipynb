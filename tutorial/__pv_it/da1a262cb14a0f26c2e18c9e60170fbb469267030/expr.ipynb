{
 "cells": [
  {
   "cell_type": "markdown",
   "metadata": {},
   "source": [
    "Expression of type <a class=\"ProveItLink\" href=\"../../../doc/html/api/proveit.logic.Set.html\">Set</a>\n",
    "=======================\n",
    "# from context <a class=\"ProveItLink\" href=\"../../_context_.ipynb\">tutorial</a>"
   ]
  },
  {
   "cell_type": "code",
   "execution_count": 1,
   "metadata": {},
   "outputs": [],
   "source": [
    "import proveit\n",
    "# Automation is not needed when building an expression:\n",
    "proveit.defaults.automation = False # This will speed things up.\n",
    "proveit.defaults.inline_pngs = False # Makes files smaller.\n",
    "# import Expression classes needed to build the expression\n",
    "from proveit import ExprRange, IndexedVar, Variable\n",
    "from proveit._common_ import B, i, j\n",
    "from proveit.core_expr_types._common_ import A_i_to_j, i_to_j_len\n",
    "from proveit.logic import And, Forall, InSet, Not, Or, Set\n",
    "from proveit.number import Add, Naturals, NaturalsPos, Neg, one"
   ]
  },
  {
   "cell_type": "code",
   "execution_count": 2,
   "metadata": {},
   "outputs": [
    {
     "data": {
      "text/html": [
       "<strong id=\"expr\">expr:</strong> <a class=\"ProveItLink\" href=\"expr.ipynb\"><img src=\"expr.png\" style=\"display:inline;vertical-align:middle;\" /></a><br>"
      ],
      "text/plain": [
       "expr: {[not](B_{1}) and ..[not](B_{_a}).. and [not](B_{i - 1}) and [not](B_{i}) and ..[not](B_{_a}).. and [not](B_{j}) and [forall_{A_{i}, ..A_{_a}.., A_{j}} (A_{i} or ..A_{_a}.. or A_{j})], i in NaturalsPos, (j - i + 1) in Naturals, j in NaturalsPos}"
      ]
     },
     "execution_count": 2,
     "metadata": {},
     "output_type": "execute_result"
    }
   ],
   "source": [
    "# build up the expression from sub-expressions\n",
    "subExpr1 = Variable(\"_a\", latexFormat = r\"{_{-}a}\")\n",
    "subExpr2 = Not(IndexedVar(B, subExpr1))\n",
    "expr = Set(And(ExprRange(subExpr1, subExpr2, one, Add(i, Neg(one))), ExprRange(subExpr1, subExpr2, i, j), Forall([A_i_to_j], Or(A_i_to_j))), InSet(i, NaturalsPos), InSet(i_to_j_len, Naturals), InSet(j, NaturalsPos))"
   ]
  },
  {
   "cell_type": "code",
   "execution_count": 3,
   "metadata": {},
   "outputs": [
    {
     "name": "stdout",
     "output_type": "stream",
     "text": [
      "Passed sanity check: built 'expr' is the same as the stored Expression.\n"
     ]
    }
   ],
   "source": [
    "# check that the built expression is the same as the stored expression\n",
    "%check_expr"
   ]
  },
  {
   "cell_type": "code",
   "execution_count": 4,
   "metadata": {},
   "outputs": [
    {
     "name": "stdout",
     "output_type": "stream",
     "text": [
      "\\left\\{(\\lnot B_{1}) \\land \\ldots \\land (\\lnot B_{i - 1}) \\land (\\lnot B_{i}) \\land \\ldots \\land (\\lnot B_{j}) \\land \\left[\\forall_{A_{i}, \\ldots, A_{j}}~\\left(A_{i} \\lor \\ldots \\lor A_{j}\\right)\\right], i \\in \\mathbb{N}^+, \\left(j - i + 1\\right) \\in \\mathbb{N}, j \\in \\mathbb{N}^+\\right\\}\n"
     ]
    }
   ],
   "source": [
    "# Show the LaTeX representation of the expression for convenience if you need it.\n",
    "print(expr.latex())"
   ]
  },
  {
   "cell_type": "code",
   "execution_count": 5,
   "metadata": {},
   "outputs": [
    {
     "data": {
      "text/html": [
       "<table><tr><th>&nbsp;</th><th>core type</th><th>sub-expressions</th><th>expression</th></tr>\n",
       "<tr><td>0</td><td>Operation</td><td>operator:&nbsp;1<br>operands:&nbsp;2<br></td><td><a class=\"ProveItLink\" href=\"expr.ipynb\"><img src=\"expr.png\" style=\"display:inline;vertical-align:middle;\" /></a></td></tr>\n",
       "<tr><td>1</td><td>Literal</td><td></td><td><a class=\"ProveItLink\" href=\"../../../packages/proveit/logic/set_theory/enumeration/__pv_it/031f443c811429025ee9cba8d75037dd468e2c850/expr.ipynb\"><img src=\"../../../packages/proveit/logic/set_theory/enumeration/__pv_it/031f443c811429025ee9cba8d75037dd468e2c850/expr.png\" style=\"display:inline;vertical-align:middle;\" /></a></td></tr>\n",
       "<tr><td>2</td><td>ExprTuple</td><td>3, 4, 5, 6</td><td><a class=\"ProveItLink\" href=\"../6526ce58bfeacff65d4a079189a991462e3a363a0/expr.ipynb\"><img src=\"../6526ce58bfeacff65d4a079189a991462e3a363a0/expr.png\" style=\"display:inline;vertical-align:middle;\" /></a></td></tr>\n",
       "<tr><td>3</td><td>Operation</td><td>operator:&nbsp;7<br>operands:&nbsp;8<br></td><td><a class=\"ProveItLink\" href=\"../2a83617c4d446da5dc7c3487073747abcf3a876c0/expr.ipynb\"><img src=\"../2a83617c4d446da5dc7c3487073747abcf3a876c0/expr.png\" style=\"display:inline;vertical-align:middle;\" /></a></td></tr>\n",
       "<tr><td>4</td><td>Operation</td><td>operator:&nbsp;11<br>operands:&nbsp;9<br></td><td><a class=\"ProveItLink\" href=\"../41e95af6102fbbeb336f2183b40ae03558dfd3cd0/expr.ipynb\"><img src=\"../41e95af6102fbbeb336f2183b40ae03558dfd3cd0/expr.png\" style=\"display:inline;vertical-align:middle;\" /></a></td></tr>\n",
       "<tr><td>5</td><td>Operation</td><td>operator:&nbsp;11<br>operands:&nbsp;10<br></td><td><a class=\"ProveItLink\" href=\"../44117aeabc72534a14ed7fa81efd38de0d4ad55e0/expr.ipynb\"><img src=\"../44117aeabc72534a14ed7fa81efd38de0d4ad55e0/expr.png\" style=\"display:inline;vertical-align:middle;\" /></a></td></tr>\n",
       "<tr><td>6</td><td>Operation</td><td>operator:&nbsp;11<br>operands:&nbsp;12<br></td><td><a class=\"ProveItLink\" href=\"../b6639b52f0c4aa46b9c6c52baee7af9674cb0b890/expr.ipynb\"><img src=\"../b6639b52f0c4aa46b9c6c52baee7af9674cb0b890/expr.png\" style=\"display:inline;vertical-align:middle;\" /></a></td></tr>\n",
       "<tr><td>7</td><td>Literal</td><td></td><td><a class=\"ProveItLink\" href=\"../../../packages/proveit/logic/boolean/conjunction/__pv_it/f41cc6b553210927c09f19a8a39cdf860a5585930/expr.ipynb\"><img src=\"../../../packages/proveit/logic/boolean/conjunction/__pv_it/f41cc6b553210927c09f19a8a39cdf860a5585930/expr.png\" style=\"display:inline;vertical-align:middle;\" /></a></td></tr>\n",
       "<tr><td>8</td><td>ExprTuple</td><td>13, 14, 15</td><td><a class=\"ProveItLink\" href=\"../fe770ce4191e78832b5d6bac810381a8041b82110/expr.ipynb\"><img src=\"../fe770ce4191e78832b5d6bac810381a8041b82110/expr.png\" style=\"display:inline;vertical-align:middle;\" /></a></td></tr>\n",
       "<tr><td>9</td><td>ExprTuple</td><td>39, 18</td><td><a class=\"ProveItLink\" href=\"../0ec57c2562f4ae51671e1648797884556bba15060/expr.ipynb\"><img src=\"../0ec57c2562f4ae51671e1648797884556bba15060/expr.png\" style=\"display:inline;vertical-align:middle;\" /></a></td></tr>\n",
       "<tr><td>10</td><td>ExprTuple</td><td>16, 17</td><td><a class=\"ProveItLink\" href=\"../23b1db1644a28d1745ad2b2c1c29057340fd25ad0/expr.ipynb\"><img src=\"../23b1db1644a28d1745ad2b2c1c29057340fd25ad0/expr.png\" style=\"display:inline;vertical-align:middle;\" /></a></td></tr>\n",
       "<tr><td>11</td><td>Literal</td><td></td><td><a class=\"ProveItLink\" href=\"../../../packages/proveit/logic/set_theory/membership/__pv_it/7776fc89cb67d0b5b1ec2c0c8e08da5587921ccf0/expr.ipynb\"><img src=\"../../../packages/proveit/logic/set_theory/membership/__pv_it/7776fc89cb67d0b5b1ec2c0c8e08da5587921ccf0/expr.png\" style=\"display:inline;vertical-align:middle;\" /></a></td></tr>\n",
       "<tr><td>12</td><td>ExprTuple</td><td>40, 18</td><td><a class=\"ProveItLink\" href=\"../387c0d577f630cc637d89298ad5e79b0957c5e950/expr.ipynb\"><img src=\"../387c0d577f630cc637d89298ad5e79b0957c5e950/expr.png\" style=\"display:inline;vertical-align:middle;\" /></a></td></tr>\n",
       "<tr><td>13</td><td>ExprRange</td><td>lambda_map:&nbsp;20<br>start_index:&nbsp;35<br>end_index:&nbsp;19<br></td><td><a class=\"ProveItLink\" href=\"../868148598e836dae72a791c4a1323763e2bffef00/expr.ipynb\"><img src=\"../868148598e836dae72a791c4a1323763e2bffef00/expr.png\" style=\"display:inline;vertical-align:middle;\" /></a></td></tr>\n",
       "<tr><td>14</td><td>ExprRange</td><td>lambda_map:&nbsp;20<br>start_index:&nbsp;39<br>end_index:&nbsp;40<br></td><td><a class=\"ProveItLink\" href=\"../a19a52d361e280f23a76b2617a84f304b04c6a140/expr.ipynb\"><img src=\"../a19a52d361e280f23a76b2617a84f304b04c6a140/expr.png\" style=\"display:inline;vertical-align:middle;\" /></a></td></tr>\n",
       "<tr><td>15</td><td>Operation</td><td>operator:&nbsp;21<br>operand:&nbsp;22<br></td><td><a class=\"ProveItLink\" href=\"../e20235bdb62b27d78c503a5670ea4c39801771c10/expr.ipynb\"><img src=\"../e20235bdb62b27d78c503a5670ea4c39801771c10/expr.png\" style=\"display:inline;vertical-align:middle;\" /></a></td></tr>\n",
       "<tr><td>16</td><td>Operation</td><td>operator:&nbsp;24<br>operands:&nbsp;23<br></td><td><a class=\"ProveItLink\" href=\"../../../packages/proveit/core_expr_types/__pv_it/06164da2c331df3e74bfd5b587d4a522e183a4500/expr.ipynb\"><img src=\"../../../packages/proveit/core_expr_types/__pv_it/06164da2c331df3e74bfd5b587d4a522e183a4500/expr.png\" style=\"display:inline;vertical-align:middle;\" /></a></td></tr>\n",
       "<tr><td>17</td><td>Literal</td><td></td><td><a class=\"ProveItLink\" href=\"../../../packages/proveit/number/sets/integer/__pv_it/b49c37b99b7e8d73a8d7971bcf454d693b90a2c60/expr.ipynb\"><img src=\"../../../packages/proveit/number/sets/integer/__pv_it/b49c37b99b7e8d73a8d7971bcf454d693b90a2c60/expr.png\" style=\"display:inline;vertical-align:middle;\" /></a></td></tr>\n",
       "<tr><td>18</td><td>Literal</td><td></td><td><a class=\"ProveItLink\" href=\"../../../packages/proveit/number/sets/integer/__pv_it/f6a9f4b6dec6ab4d2dcb6ba1b0ba3cceefc643530/expr.ipynb\"><img src=\"../../../packages/proveit/number/sets/integer/__pv_it/f6a9f4b6dec6ab4d2dcb6ba1b0ba3cceefc643530/expr.png\" style=\"display:inline;vertical-align:middle;\" /></a></td></tr>\n",
       "<tr><td>19</td><td>Operation</td><td>operator:&nbsp;24<br>operands:&nbsp;25<br></td><td><a class=\"ProveItLink\" href=\"../41ce0ea9ea512a1a662af0ea1323cf88e7d117d80/expr.ipynb\"><img src=\"../41ce0ea9ea512a1a662af0ea1323cf88e7d117d80/expr.png\" style=\"display:inline;vertical-align:middle;\" /></a></td></tr>\n",
       "<tr><td>20</td><td>Lambda</td><td>parameter:&nbsp;43<br>body:&nbsp;26<br></td><td><a class=\"ProveItLink\" href=\"../4d4634dec8ddb22987ce03022e2b8aa4f81d66ee0/expr.ipynb\"><img src=\"../4d4634dec8ddb22987ce03022e2b8aa4f81d66ee0/expr.png\" style=\"display:inline;vertical-align:middle;\" /></a></td></tr>\n",
       "<tr><td>21</td><td>Literal</td><td></td><td><a class=\"ProveItLink\" href=\"../../../packages/proveit/logic/boolean/quantification/universal/__pv_it/fd9c772d6675566ed52a6897806f45eb08a4ea910/expr.ipynb\"><img src=\"../../../packages/proveit/logic/boolean/quantification/universal/__pv_it/fd9c772d6675566ed52a6897806f45eb08a4ea910/expr.png\" style=\"display:inline;vertical-align:middle;\" /></a></td></tr>\n",
       "<tr><td>22</td><td>Lambda</td><td>parameter:&nbsp;37<br>body:&nbsp;27<br></td><td><a class=\"ProveItLink\" href=\"../741f7839a73bcb3f177b926bcdd89dfed71e12570/expr.ipynb\"><img src=\"../741f7839a73bcb3f177b926bcdd89dfed71e12570/expr.png\" style=\"display:inline;vertical-align:middle;\" /></a></td></tr>\n",
       "<tr><td>23</td><td>ExprTuple</td><td>40, 28, 35</td><td><a class=\"ProveItLink\" href=\"../../../packages/proveit/core_expr_types/__pv_it/f10e336a4978e822d356a08daad39a177ad4fcf20/expr.ipynb\"><img src=\"../../../packages/proveit/core_expr_types/__pv_it/f10e336a4978e822d356a08daad39a177ad4fcf20/expr.png\" style=\"display:inline;vertical-align:middle;\" /></a></td></tr>\n",
       "<tr><td>24</td><td>Literal</td><td></td><td><a class=\"ProveItLink\" href=\"../../../packages/proveit/number/addition/__pv_it/65ad7e8aee19b10110d590375ba95a879c4fb7ea0/expr.ipynb\"><img src=\"../../../packages/proveit/number/addition/__pv_it/65ad7e8aee19b10110d590375ba95a879c4fb7ea0/expr.png\" style=\"display:inline;vertical-align:middle;\" /></a></td></tr>\n",
       "<tr><td>25</td><td>ExprTuple</td><td>39, 29</td><td><a class=\"ProveItLink\" href=\"../2f3fc0c6ecddc46d88d2a03e8b5a14550eccfe9f0/expr.ipynb\"><img src=\"../2f3fc0c6ecddc46d88d2a03e8b5a14550eccfe9f0/expr.png\" style=\"display:inline;vertical-align:middle;\" /></a></td></tr>\n",
       "<tr><td>26</td><td>Operation</td><td>operator:&nbsp;30<br>operand:&nbsp;31<br></td><td><a class=\"ProveItLink\" href=\"../330563bed9bfc059f3871013b8e3e2f5acb03d3f0/expr.ipynb\"><img src=\"../330563bed9bfc059f3871013b8e3e2f5acb03d3f0/expr.png\" style=\"display:inline;vertical-align:middle;\" /></a></td></tr>\n",
       "<tr><td>27</td><td>Operation</td><td>operator:&nbsp;32<br>operands:&nbsp;33<br></td><td><a class=\"ProveItLink\" href=\"../5dc0c7152852912d5be8632aafd3b614e8685c0c0/expr.ipynb\"><img src=\"../5dc0c7152852912d5be8632aafd3b614e8685c0c0/expr.png\" style=\"display:inline;vertical-align:middle;\" /></a></td></tr>\n",
       "<tr><td>28</td><td>Operation</td><td>operator:&nbsp;34<br>operand:&nbsp;39<br></td><td><a class=\"ProveItLink\" href=\"../../../packages/proveit/core_expr_types/__pv_it/e30e84c6c241a2e59facf3853e0cf2095a9c3cb00/expr.ipynb\"><img src=\"../../../packages/proveit/core_expr_types/__pv_it/e30e84c6c241a2e59facf3853e0cf2095a9c3cb00/expr.png\" style=\"display:inline;vertical-align:middle;\" /></a></td></tr>\n",
       "<tr><td>29</td><td>Operation</td><td>operator:&nbsp;34<br>operand:&nbsp;35<br></td><td><a class=\"ProveItLink\" href=\"../01559348096b98a1dd2ebcf5c288189c829b18930/expr.ipynb\"><img src=\"../01559348096b98a1dd2ebcf5c288189c829b18930/expr.png\" style=\"display:inline;vertical-align:middle;\" /></a></td></tr>\n",
       "<tr><td>30</td><td>Literal</td><td></td><td><a class=\"ProveItLink\" href=\"../../../packages/proveit/logic/boolean/negation/__pv_it/d347242e9ffe8b0d3a039ea6a149983fef6cbe6c0/expr.ipynb\"><img src=\"../../../packages/proveit/logic/boolean/negation/__pv_it/d347242e9ffe8b0d3a039ea6a149983fef6cbe6c0/expr.png\" style=\"display:inline;vertical-align:middle;\" /></a></td></tr>\n",
       "<tr><td>31</td><td>IndexedVar</td><td>variable:&nbsp;36<br>index:&nbsp;43<br></td><td><a class=\"ProveItLink\" href=\"../dd60a21b14ad80238615b0d2b74a678a11574e790/expr.ipynb\"><img src=\"../dd60a21b14ad80238615b0d2b74a678a11574e790/expr.png\" style=\"display:inline;vertical-align:middle;\" /></a></td></tr>\n",
       "<tr><td>32</td><td>Literal</td><td></td><td><a class=\"ProveItLink\" href=\"../../../packages/proveit/logic/boolean/disjunction/__pv_it/8a6d9fc46c84b3911a71fbae15627dc2acebe2890/expr.ipynb\"><img src=\"../../../packages/proveit/logic/boolean/disjunction/__pv_it/8a6d9fc46c84b3911a71fbae15627dc2acebe2890/expr.png\" style=\"display:inline;vertical-align:middle;\" /></a></td></tr>\n",
       "<tr><td>33</td><td>ExprTuple</td><td>37</td><td><a class=\"ProveItLink\" href=\"../9233aa7302795c489addc474ca7c2c032eca9a350/expr.ipynb\"><img src=\"../9233aa7302795c489addc474ca7c2c032eca9a350/expr.png\" style=\"display:inline;vertical-align:middle;\" /></a></td></tr>\n",
       "<tr><td>34</td><td>Literal</td><td></td><td><a class=\"ProveItLink\" href=\"../../../packages/proveit/number/negation/__pv_it/2867787e35502987d81a45cac8e7f1c6996d6ff40/expr.ipynb\"><img src=\"../../../packages/proveit/number/negation/__pv_it/2867787e35502987d81a45cac8e7f1c6996d6ff40/expr.png\" style=\"display:inline;vertical-align:middle;\" /></a></td></tr>\n",
       "<tr><td>35</td><td>Literal</td><td></td><td><a class=\"ProveItLink\" href=\"../../../packages/proveit/number/numeral/__pv_it/f086f8c372bd40a2458306ddfdbb29f3dc6f63030/expr.ipynb\"><img src=\"../../../packages/proveit/number/numeral/__pv_it/f086f8c372bd40a2458306ddfdbb29f3dc6f63030/expr.png\" style=\"display:inline;vertical-align:middle;\" /></a></td></tr>\n",
       "<tr><td>36</td><td>Variable</td><td></td><td><a class=\"ProveItLink\" href=\"../../../packages/proveit/__pv_it/4d98b438710c5ada9ffa4646bb123a7d0e69ec000/expr.ipynb\"><img src=\"../../../packages/proveit/__pv_it/4d98b438710c5ada9ffa4646bb123a7d0e69ec000/expr.png\" style=\"display:inline;vertical-align:middle;\" /></a></td></tr>\n",
       "<tr><td>37</td><td>ExprRange</td><td>lambda_map:&nbsp;38<br>start_index:&nbsp;39<br>end_index:&nbsp;40<br></td><td><a class=\"ProveItLink\" href=\"../../../packages/proveit/core_expr_types/__pv_it/58799625c04fe217b810af6787ed963c0320b53d0/expr.ipynb\"><img src=\"../../../packages/proveit/core_expr_types/__pv_it/58799625c04fe217b810af6787ed963c0320b53d0/expr.png\" style=\"display:inline;vertical-align:middle;\" /></a></td></tr>\n",
       "<tr><td>38</td><td>Lambda</td><td>parameter:&nbsp;43<br>body:&nbsp;41<br></td><td><a class=\"ProveItLink\" href=\"../../../packages/proveit/core_expr_types/__pv_it/cbf4a2d6122f8f76eeb36bd1c0d8bf52d8e05a560/expr.ipynb\"><img src=\"../../../packages/proveit/core_expr_types/__pv_it/cbf4a2d6122f8f76eeb36bd1c0d8bf52d8e05a560/expr.png\" style=\"display:inline;vertical-align:middle;\" /></a></td></tr>\n",
       "<tr><td>39</td><td>Variable</td><td></td><td><a class=\"ProveItLink\" href=\"../../../packages/proveit/__pv_it/557ab5defdcd46aa58168b08767502985122cd490/expr.ipynb\"><img src=\"../../../packages/proveit/__pv_it/557ab5defdcd46aa58168b08767502985122cd490/expr.png\" style=\"display:inline;vertical-align:middle;\" /></a></td></tr>\n",
       "<tr><td>40</td><td>Variable</td><td></td><td><a class=\"ProveItLink\" href=\"../../../packages/proveit/__pv_it/6a5b5879f51878868f626bf09e4d76392d4779cd0/expr.ipynb\"><img src=\"../../../packages/proveit/__pv_it/6a5b5879f51878868f626bf09e4d76392d4779cd0/expr.png\" style=\"display:inline;vertical-align:middle;\" /></a></td></tr>\n",
       "<tr><td>41</td><td>IndexedVar</td><td>variable:&nbsp;42<br>index:&nbsp;43<br></td><td><a class=\"ProveItLink\" href=\"../../../packages/proveit/core_expr_types/__pv_it/a433d6021a2b0d85d326303b1d692b18969c0dc30/expr.ipynb\"><img src=\"../../../packages/proveit/core_expr_types/__pv_it/a433d6021a2b0d85d326303b1d692b18969c0dc30/expr.png\" style=\"display:inline;vertical-align:middle;\" /></a></td></tr>\n",
       "<tr><td>42</td><td>Variable</td><td></td><td><a class=\"ProveItLink\" href=\"../../../packages/proveit/__pv_it/d3792d0d8642fdf1cd2a3a9b32c673ee13653de00/expr.ipynb\"><img src=\"../../../packages/proveit/__pv_it/d3792d0d8642fdf1cd2a3a9b32c673ee13653de00/expr.png\" style=\"display:inline;vertical-align:middle;\" /></a></td></tr>\n",
       "<tr><td>43</td><td>Variable</td><td></td><td><a class=\"ProveItLink\" href=\"../../../packages/proveit/core_expr_types/__pv_it/1e653f789234b245ee7fea7caad998c139d617410/expr.ipynb\"><img src=\"../../../packages/proveit/core_expr_types/__pv_it/1e653f789234b245ee7fea7caad998c139d617410/expr.png\" style=\"display:inline;vertical-align:middle;\" /></a></td></tr>\n",
       "</table>\n"
      ],
      "text/plain": [
       "0. {[not](B_{1}) and ..[not](B_{_a}).. and [not](B_{i - 1}) and [not](B_{i}) and ..[not](B_{_a}).. and [not](B_{j}) and [forall_{A_{i}, ..A_{_a}.., A_{j}} (A_{i} or ..A_{_a}.. or A_{j})], i in NaturalsPos, (j - i + 1) in Naturals, j in NaturalsPos}\n",
       "   core type: Operation\n",
       "   operator: 1\n",
       "   operands: 2\n",
       "1. Set\n",
       "   core type: Literal\n",
       "   sub-expressions: \n",
       "2. ([not](B_{1}) and ..[not](B_{_a}).. and [not](B_{i - 1}) and [not](B_{i}) and ..[not](B_{_a}).. and [not](B_{j}) and [forall_{A_{i}, ..A_{_a}.., A_{j}} (A_{i} or ..A_{_a}.. or A_{j})], i in NaturalsPos, (j - i + 1) in Naturals, j in NaturalsPos)\n",
       "   core type: ExprTuple\n",
       "   sub-expressions: 3, 4, 5, 6\n",
       "3. [not](B_{1}) and ..[not](B_{_a}).. and [not](B_{i - 1}) and [not](B_{i}) and ..[not](B_{_a}).. and [not](B_{j}) and [forall_{A_{i}, ..A_{_a}.., A_{j}} (A_{i} or ..A_{_a}.. or A_{j})]\n",
       "   core type: Operation\n",
       "   operator: 7\n",
       "   operands: 8\n",
       "4. i in NaturalsPos\n",
       "   core type: Operation\n",
       "   operator: 11\n",
       "   operands: 9\n",
       "5. (j - i + 1) in Naturals\n",
       "   core type: Operation\n",
       "   operator: 11\n",
       "   operands: 10\n",
       "6. j in NaturalsPos\n",
       "   core type: Operation\n",
       "   operator: 11\n",
       "   operands: 12\n",
       "7. and\n",
       "   core type: Literal\n",
       "   sub-expressions: \n",
       "8. ([not](B_{1}), ..[not](B_{_a}).., [not](B_{i - 1}), [not](B_{i}), ..[not](B_{_a}).., [not](B_{j}), forall_{A_{i}, ..A_{_a}.., A_{j}} (A_{i} or ..A_{_a}.. or A_{j}))\n",
       "   core type: ExprTuple\n",
       "   sub-expressions: 13, 14, 15\n",
       "9. (i, NaturalsPos)\n",
       "   core type: ExprTuple\n",
       "   sub-expressions: 39, 18\n",
       "10. (j - i + 1, Naturals)\n",
       "    core type: ExprTuple\n",
       "    sub-expressions: 16, 17\n",
       "11. in\n",
       "    core type: Literal\n",
       "    sub-expressions: \n",
       "12. (j, NaturalsPos)\n",
       "    core type: ExprTuple\n",
       "    sub-expressions: 40, 18\n",
       "13. [not](B_{1}), ..[not](B_{_a}).., [not](B_{i - 1})\n",
       "    core type: ExprRange\n",
       "    lambda_map: 20\n",
       "    start_index: 35\n",
       "    end_index: 19\n",
       "14. [not](B_{i}), ..[not](B_{_a}).., [not](B_{j})\n",
       "    core type: ExprRange\n",
       "    lambda_map: 20\n",
       "    start_index: 39\n",
       "    end_index: 40\n",
       "15. forall_{A_{i}, ..A_{_a}.., A_{j}} (A_{i} or ..A_{_a}.. or A_{j})\n",
       "    core type: Operation\n",
       "    operator: 21\n",
       "    operand: 22\n",
       "16. j - i + 1\n",
       "    core type: Operation\n",
       "    operator: 24\n",
       "    operands: 23\n",
       "17. Naturals\n",
       "    core type: Literal\n",
       "    sub-expressions: \n",
       "18. NaturalsPos\n",
       "    core type: Literal\n",
       "    sub-expressions: \n",
       "19. i - 1\n",
       "    core type: Operation\n",
       "    operator: 24\n",
       "    operands: 25\n",
       "20. _a -> [not](B_{_a})\n",
       "    core type: Lambda\n",
       "    parameter: 43\n",
       "    body: 26\n",
       "21. forall\n",
       "    core type: Literal\n",
       "    sub-expressions: \n",
       "22. (A_{i}, ..A_{_a}.., A_{j}) -> (A_{i} or ..A_{_a}.. or A_{j})\n",
       "    core type: Lambda\n",
       "    parameter: 37\n",
       "    body: 27\n",
       "23. (j, -i, 1)\n",
       "    core type: ExprTuple\n",
       "    sub-expressions: 40, 28, 35\n",
       "24. +\n",
       "    core type: Literal\n",
       "    sub-expressions: \n",
       "25. (i, -1)\n",
       "    core type: ExprTuple\n",
       "    sub-expressions: 39, 29\n",
       "26. [not](B_{_a})\n",
       "    core type: Operation\n",
       "    operator: 30\n",
       "    operand: 31\n",
       "27. A_{i} or ..A_{_a}.. or A_{j}\n",
       "    core type: Operation\n",
       "    operator: 32\n",
       "    operands: 33\n",
       "28. -i\n",
       "    core type: Operation\n",
       "    operator: 34\n",
       "    operand: 39\n",
       "29. -1\n",
       "    core type: Operation\n",
       "    operator: 34\n",
       "    operand: 35\n",
       "30. not\n",
       "    core type: Literal\n",
       "    sub-expressions: \n",
       "31. B_{_a}\n",
       "    core type: IndexedVar\n",
       "variable: 36\n",
       "index: 43\n",
       "32. or\n",
       "    core type: Literal\n",
       "    sub-expressions: \n",
       "33. (A_{i}, ..A_{_a}.., A_{j})\n",
       "    core type: ExprTuple\n",
       "    sub-expressions: 37\n",
       "34. -\n",
       "    core type: Literal\n",
       "    sub-expressions: \n",
       "35. 1\n",
       "    core type: Literal\n",
       "    sub-expressions: \n",
       "36. B\n",
       "    core type: Variable\n",
       "    sub-expressions: \n",
       "37. A_{i}, ..A_{_a}.., A_{j}\n",
       "    core type: ExprRange\n",
       "    lambda_map: 38\n",
       "    start_index: 39\n",
       "    end_index: 40\n",
       "38. _a -> A_{_a}\n",
       "    core type: Lambda\n",
       "    parameter: 43\n",
       "    body: 41\n",
       "39. i\n",
       "    core type: Variable\n",
       "    sub-expressions: \n",
       "40. j\n",
       "    core type: Variable\n",
       "    sub-expressions: \n",
       "41. A_{_a}\n",
       "    core type: IndexedVar\n",
       "variable: 42\n",
       "index: 43\n",
       "42. A\n",
       "    core type: Variable\n",
       "    sub-expressions: \n",
       "43. _a\n",
       "    core type: Variable\n",
       "    sub-expressions: "
      ]
     },
     "execution_count": 5,
     "metadata": {},
     "output_type": "execute_result"
    }
   ],
   "source": [
    "# display the expression information\n",
    "expr.exprInfo()"
   ]
  },
  {
   "cell_type": "code",
   "execution_count": null,
   "metadata": {},
   "outputs": [],
   "source": []
  }
 ],
 "metadata": {
  "kernelspec": {
   "display_name": "Python 3",
   "language": "python",
   "name": "python3"
  },
  "language_info": {
   "codemirror_mode": {
    "name": "ipython",
    "version": 3
   },
   "file_extension": ".py",
   "mimetype": "text/x-python",
   "name": "python",
   "nbconvert_exporter": "python",
   "pygments_lexer": "ipython3",
   "version": "3.7.3"
  }
 },
 "nbformat": 4,
 "nbformat_minor": 1
}
