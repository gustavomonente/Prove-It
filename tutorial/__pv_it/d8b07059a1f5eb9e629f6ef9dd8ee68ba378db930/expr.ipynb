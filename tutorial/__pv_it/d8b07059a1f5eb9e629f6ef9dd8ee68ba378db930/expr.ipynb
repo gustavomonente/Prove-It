{
 "cells": [
  {
   "cell_type": "markdown",
   "metadata": {},
   "source": [
    "Expression of type <a class=\"ProveItLink\" href=\"../../../doc/html/api/proveit.ExprTuple.html\">ExprTuple</a>\n",
    "=======================\n",
    "# from context <a class=\"ProveItLink\" href=\"../../_context_.ipynb\">tutorial</a>"
   ]
  },
  {
   "cell_type": "code",
   "execution_count": 1,
   "metadata": {},
   "outputs": [],
   "source": [
    "import proveit\n",
    "# Automation is not needed when building an expression:\n",
    "proveit.defaults.automation = False # This will speed things up.\n",
    "proveit.defaults.inline_pngs = False # Makes files smaller.\n",
    "# import Expression classes needed to build the expression\n",
    "from proveit import ExprRange, ExprTuple\n",
    "from proveit._common_ import k, m, x\n",
    "from proveit.core_expr_types import Len\n",
    "from proveit.number import Add, Mult, Neg, one, zero"
   ]
  },
  {
   "cell_type": "code",
   "execution_count": 2,
   "metadata": {},
   "outputs": [
    {
     "data": {
      "text/html": [
       "<strong id=\"expr\">expr:</strong> <a class=\"ProveItLink\" href=\"expr.ipynb\"><img src=\"expr.png\" style=\"display:inline;vertical-align:middle;\" /></a><br>"
      ],
      "text/plain": [
       "expr: (|(0 * 0, ..x * x.., k * k, 1, 1, ..x.., m)|, (k - 0 + 1) + (1 - 1 + 1) + (m - 1 + 1))"
      ]
     },
     "execution_count": 2,
     "metadata": {},
     "output_type": "execute_result"
    }
   ],
   "source": [
    "# build up the expression from sub-expressions\n",
    "subExpr1 = Neg(one)\n",
    "expr = ExprTuple(Len([ExprRange(x, Mult(x, x), zero, k), one, ExprRange(x, x, one, m)]), Add(Add(k, Neg(zero), one), Add(one, subExpr1, one), Add(m, subExpr1, one)))"
   ]
  },
  {
   "cell_type": "code",
   "execution_count": 3,
   "metadata": {},
   "outputs": [
    {
     "name": "stdout",
     "output_type": "stream",
     "text": [
      "Passed sanity check: built 'expr' is the same as the stored Expression.\n"
     ]
    }
   ],
   "source": [
    "# check that the built expression is the same as the stored expression\n",
    "%check_expr"
   ]
  },
  {
   "cell_type": "code",
   "execution_count": 4,
   "metadata": {},
   "outputs": [
    {
     "name": "stdout",
     "output_type": "stream",
     "text": [
      "\\left(|\\left(0 \\cdot 0, \\ldots, k \\cdot k, 1, 1, \\ldots, m\\right)|, \\left(k - 0 + 1\\right) + \\left(1 - 1 + 1\\right) + \\left(m - 1 + 1\\right)\\right)\n"
     ]
    }
   ],
   "source": [
    "# Show the LaTeX representation of the expression for convenience if you need it.\n",
    "print(expr.latex())"
   ]
  },
  {
   "cell_type": "code",
   "execution_count": 5,
   "metadata": {},
   "outputs": [
    {
     "data": {
      "text/html": [
       "<table><tr><th>&nbsp;</th><th>core type</th><th>sub-expressions</th><th>expression</th></tr>\n",
       "<tr><td>0</td><td>ExprTuple</td><td>1, 2</td><td><a class=\"ProveItLink\" href=\"expr.ipynb\"><img src=\"expr.png\" style=\"display:inline;vertical-align:middle;\" /></a></td></tr>\n",
       "<tr><td>1</td><td>Operation</td><td>operator:&nbsp;3<br>operand:&nbsp;6<br></td><td><a class=\"ProveItLink\" href=\"../95d08d21dd159621d25044add137453c5a3d20e90/expr.ipynb\"><img src=\"../95d08d21dd159621d25044add137453c5a3d20e90/expr.png\" style=\"display:inline;vertical-align:middle;\" /></a></td></tr>\n",
       "<tr><td>2</td><td>Operation</td><td>operator:&nbsp;14<br>operands:&nbsp;5<br></td><td><a class=\"ProveItLink\" href=\"../65bd36ddea14f3d801113b18029e105273b3e3df0/expr.ipynb\"><img src=\"../65bd36ddea14f3d801113b18029e105273b3e3df0/expr.png\" style=\"display:inline;vertical-align:middle;\" /></a></td></tr>\n",
       "<tr><td>3</td><td>Literal</td><td></td><td><a class=\"ProveItLink\" href=\"../../../packages/proveit/core_expr_types/tuples/__pv_it/92831c6291223dfbd76a11e90e750ae52564aa9f0/expr.ipynb\"><img src=\"../../../packages/proveit/core_expr_types/tuples/__pv_it/92831c6291223dfbd76a11e90e750ae52564aa9f0/expr.png\" style=\"display:inline;vertical-align:middle;\" /></a></td></tr>\n",
       "<tr><td>4</td><td>ExprTuple</td><td>6</td><td><a class=\"ProveItLink\" href=\"../cf2a46635223f6862e5ac0b44c1d28fd4e54a9c60/expr.ipynb\"><img src=\"../cf2a46635223f6862e5ac0b44c1d28fd4e54a9c60/expr.png\" style=\"display:inline;vertical-align:middle;\" /></a></td></tr>\n",
       "<tr><td>5</td><td>ExprTuple</td><td>7, 8, 9</td><td><a class=\"ProveItLink\" href=\"../855c1a365a193c32e98e090418b1dc6094269d7b0/expr.ipynb\"><img src=\"../855c1a365a193c32e98e090418b1dc6094269d7b0/expr.png\" style=\"display:inline;vertical-align:middle;\" /></a></td></tr>\n",
       "<tr><td>6</td><td>ExprTuple</td><td>10, 25, 11</td><td><a class=\"ProveItLink\" href=\"../21854dbff81ff384444dc5c6ef18fe0402c6afbd0/expr.ipynb\"><img src=\"../21854dbff81ff384444dc5c6ef18fe0402c6afbd0/expr.png\" style=\"display:inline;vertical-align:middle;\" /></a></td></tr>\n",
       "<tr><td>7</td><td>Operation</td><td>operator:&nbsp;14<br>operands:&nbsp;12<br></td><td><a class=\"ProveItLink\" href=\"../f4248a0bf8d8dbaf6a119662f005c4f126c55aaf0/expr.ipynb\"><img src=\"../f4248a0bf8d8dbaf6a119662f005c4f126c55aaf0/expr.png\" style=\"display:inline;vertical-align:middle;\" /></a></td></tr>\n",
       "<tr><td>8</td><td>Operation</td><td>operator:&nbsp;14<br>operands:&nbsp;13<br></td><td><a class=\"ProveItLink\" href=\"../f75c0981f3dc70175604694bd4bbb92aa0b1ff130/expr.ipynb\"><img src=\"../f75c0981f3dc70175604694bd4bbb92aa0b1ff130/expr.png\" style=\"display:inline;vertical-align:middle;\" /></a></td></tr>\n",
       "<tr><td>9</td><td>Operation</td><td>operator:&nbsp;14<br>operands:&nbsp;15<br></td><td><a class=\"ProveItLink\" href=\"../f156cc0f8c6b080513fddd4b581afeefe5821b920/expr.ipynb\"><img src=\"../f156cc0f8c6b080513fddd4b581afeefe5821b920/expr.png\" style=\"display:inline;vertical-align:middle;\" /></a></td></tr>\n",
       "<tr><td>10</td><td>ExprRange</td><td>lambda_map:&nbsp;16<br>start_index:&nbsp;23<br>end_index:&nbsp;18<br></td><td><a class=\"ProveItLink\" href=\"../36a597b6b0423fed7dfd93e0b067e24b959915c90/expr.ipynb\"><img src=\"../36a597b6b0423fed7dfd93e0b067e24b959915c90/expr.png\" style=\"display:inline;vertical-align:middle;\" /></a></td></tr>\n",
       "<tr><td>11</td><td>ExprRange</td><td>lambda_map:&nbsp;17<br>start_index:&nbsp;25<br>end_index:&nbsp;20<br></td><td><a class=\"ProveItLink\" href=\"../2d8cd38362183e347fd34e3c7745a647eb6240390/expr.ipynb\"><img src=\"../2d8cd38362183e347fd34e3c7745a647eb6240390/expr.png\" style=\"display:inline;vertical-align:middle;\" /></a></td></tr>\n",
       "<tr><td>12</td><td>ExprTuple</td><td>18, 19, 25</td><td><a class=\"ProveItLink\" href=\"../0f5cc10277047a0377ab5ff85f96311824ff6fdd0/expr.ipynb\"><img src=\"../0f5cc10277047a0377ab5ff85f96311824ff6fdd0/expr.png\" style=\"display:inline;vertical-align:middle;\" /></a></td></tr>\n",
       "<tr><td>13</td><td>ExprTuple</td><td>25, 21, 25</td><td><a class=\"ProveItLink\" href=\"../54ec2da6373c4b9ca6539879194e7422e275d5240/expr.ipynb\"><img src=\"../54ec2da6373c4b9ca6539879194e7422e275d5240/expr.png\" style=\"display:inline;vertical-align:middle;\" /></a></td></tr>\n",
       "<tr><td>14</td><td>Literal</td><td></td><td><a class=\"ProveItLink\" href=\"../../../packages/proveit/number/addition/__pv_it/65ad7e8aee19b10110d590375ba95a879c4fb7ea0/expr.ipynb\"><img src=\"../../../packages/proveit/number/addition/__pv_it/65ad7e8aee19b10110d590375ba95a879c4fb7ea0/expr.png\" style=\"display:inline;vertical-align:middle;\" /></a></td></tr>\n",
       "<tr><td>15</td><td>ExprTuple</td><td>20, 21, 25</td><td><a class=\"ProveItLink\" href=\"../982a024cbc7ddd1affcda68546eca0374cd6c0e60/expr.ipynb\"><img src=\"../982a024cbc7ddd1affcda68546eca0374cd6c0e60/expr.png\" style=\"display:inline;vertical-align:middle;\" /></a></td></tr>\n",
       "<tr><td>16</td><td>Lambda</td><td>parameter:&nbsp;28<br>body:&nbsp;22<br></td><td><a class=\"ProveItLink\" href=\"../bc966412ce742575c80fa966a7062c1c2478bed10/expr.ipynb\"><img src=\"../bc966412ce742575c80fa966a7062c1c2478bed10/expr.png\" style=\"display:inline;vertical-align:middle;\" /></a></td></tr>\n",
       "<tr><td>17</td><td>Lambda</td><td>parameter:&nbsp;28<br>body:&nbsp;28<br></td><td><a class=\"ProveItLink\" href=\"../c8d1a866328d7168203d3a88fea95f28057d545d0/expr.ipynb\"><img src=\"../c8d1a866328d7168203d3a88fea95f28057d545d0/expr.png\" style=\"display:inline;vertical-align:middle;\" /></a></td></tr>\n",
       "<tr><td>18</td><td>Variable</td><td></td><td><a class=\"ProveItLink\" href=\"../../../packages/proveit/__pv_it/273f49450ca25e1b56abbd98a7aef618f8f6c1360/expr.ipynb\"><img src=\"../../../packages/proveit/__pv_it/273f49450ca25e1b56abbd98a7aef618f8f6c1360/expr.png\" style=\"display:inline;vertical-align:middle;\" /></a></td></tr>\n",
       "<tr><td>19</td><td>Operation</td><td>operator:&nbsp;24<br>operand:&nbsp;23<br></td><td><a class=\"ProveItLink\" href=\"../0886af0d902a455d1308b21d6c3872e4f454b82f0/expr.ipynb\"><img src=\"../0886af0d902a455d1308b21d6c3872e4f454b82f0/expr.png\" style=\"display:inline;vertical-align:middle;\" /></a></td></tr>\n",
       "<tr><td>20</td><td>Variable</td><td></td><td><a class=\"ProveItLink\" href=\"../../../packages/proveit/__pv_it/6e8a38e9a7e2b6af352562cd77e0eb4751f142620/expr.ipynb\"><img src=\"../../../packages/proveit/__pv_it/6e8a38e9a7e2b6af352562cd77e0eb4751f142620/expr.png\" style=\"display:inline;vertical-align:middle;\" /></a></td></tr>\n",
       "<tr><td>21</td><td>Operation</td><td>operator:&nbsp;24<br>operand:&nbsp;25<br></td><td><a class=\"ProveItLink\" href=\"../01559348096b98a1dd2ebcf5c288189c829b18930/expr.ipynb\"><img src=\"../01559348096b98a1dd2ebcf5c288189c829b18930/expr.png\" style=\"display:inline;vertical-align:middle;\" /></a></td></tr>\n",
       "<tr><td>22</td><td>Operation</td><td>operator:&nbsp;26<br>operands:&nbsp;27<br></td><td><a class=\"ProveItLink\" href=\"../4b43b01e4f7cd8d287d147cdf3d23c1e308fd28c0/expr.ipynb\"><img src=\"../4b43b01e4f7cd8d287d147cdf3d23c1e308fd28c0/expr.png\" style=\"display:inline;vertical-align:middle;\" /></a></td></tr>\n",
       "<tr><td>23</td><td>Literal</td><td></td><td><a class=\"ProveItLink\" href=\"../../../packages/proveit/number/numeral/__pv_it/bcb6bc33e5975ec2290a3272bf7802d26ab8421d0/expr.ipynb\"><img src=\"../../../packages/proveit/number/numeral/__pv_it/bcb6bc33e5975ec2290a3272bf7802d26ab8421d0/expr.png\" style=\"display:inline;vertical-align:middle;\" /></a></td></tr>\n",
       "<tr><td>24</td><td>Literal</td><td></td><td><a class=\"ProveItLink\" href=\"../../../packages/proveit/number/negation/__pv_it/2867787e35502987d81a45cac8e7f1c6996d6ff40/expr.ipynb\"><img src=\"../../../packages/proveit/number/negation/__pv_it/2867787e35502987d81a45cac8e7f1c6996d6ff40/expr.png\" style=\"display:inline;vertical-align:middle;\" /></a></td></tr>\n",
       "<tr><td>25</td><td>Literal</td><td></td><td><a class=\"ProveItLink\" href=\"../../../packages/proveit/number/numeral/__pv_it/f086f8c372bd40a2458306ddfdbb29f3dc6f63030/expr.ipynb\"><img src=\"../../../packages/proveit/number/numeral/__pv_it/f086f8c372bd40a2458306ddfdbb29f3dc6f63030/expr.png\" style=\"display:inline;vertical-align:middle;\" /></a></td></tr>\n",
       "<tr><td>26</td><td>Literal</td><td></td><td><a class=\"ProveItLink\" href=\"../../../packages/proveit/number/multiplication/__pv_it/f7a1ed7c35c8c884cf4c236d27cb79bf85638cad0/expr.ipynb\"><img src=\"../../../packages/proveit/number/multiplication/__pv_it/f7a1ed7c35c8c884cf4c236d27cb79bf85638cad0/expr.png\" style=\"display:inline;vertical-align:middle;\" /></a></td></tr>\n",
       "<tr><td>27</td><td>ExprTuple</td><td>28, 28</td><td><a class=\"ProveItLink\" href=\"../37a016d6ec3400cbf7fbc598f18bcf0f8fc346820/expr.ipynb\"><img src=\"../37a016d6ec3400cbf7fbc598f18bcf0f8fc346820/expr.png\" style=\"display:inline;vertical-align:middle;\" /></a></td></tr>\n",
       "<tr><td>28</td><td>Variable</td><td></td><td><a class=\"ProveItLink\" href=\"../../../packages/proveit/__pv_it/72df168d2bfb4e0140af90912ebf83b13772060b0/expr.ipynb\"><img src=\"../../../packages/proveit/__pv_it/72df168d2bfb4e0140af90912ebf83b13772060b0/expr.png\" style=\"display:inline;vertical-align:middle;\" /></a></td></tr>\n",
       "</table>\n"
      ],
      "text/plain": [
       "0. (|(0 * 0, ..x * x.., k * k, 1, 1, ..x.., m)|, (k - 0 + 1) + (1 - 1 + 1) + (m - 1 + 1))\n",
       "   core type: ExprTuple\n",
       "   sub-expressions: 1, 2\n",
       "1. |(0 * 0, ..x * x.., k * k, 1, 1, ..x.., m)|\n",
       "   core type: Operation\n",
       "   operator: 3\n",
       "   operand: 6\n",
       "2. (k - 0 + 1) + (1 - 1 + 1) + (m - 1 + 1)\n",
       "   core type: Operation\n",
       "   operator: 14\n",
       "   operands: 5\n",
       "3. length\n",
       "   core type: Literal\n",
       "   sub-expressions: \n",
       "4. ((0 * 0, ..x * x.., k * k, 1, 1, ..x.., m))\n",
       "   core type: ExprTuple\n",
       "   sub-expressions: 6\n",
       "5. (k - 0 + 1, 1 - 1 + 1, m - 1 + 1)\n",
       "   core type: ExprTuple\n",
       "   sub-expressions: 7, 8, 9\n",
       "6. (0 * 0, ..x * x.., k * k, 1, 1, ..x.., m)\n",
       "   core type: ExprTuple\n",
       "   sub-expressions: 10, 25, 11\n",
       "7. k - 0 + 1\n",
       "   core type: Operation\n",
       "   operator: 14\n",
       "   operands: 12\n",
       "8. 1 - 1 + 1\n",
       "   core type: Operation\n",
       "   operator: 14\n",
       "   operands: 13\n",
       "9. m - 1 + 1\n",
       "   core type: Operation\n",
       "   operator: 14\n",
       "   operands: 15\n",
       "10. (0 * 0), ..(x * x).., (k * k)\n",
       "    core type: ExprRange\n",
       "    lambda_map: 16\n",
       "    start_index: 23\n",
       "    end_index: 18\n",
       "11. 1, ..x.., m\n",
       "    core type: ExprRange\n",
       "    lambda_map: 17\n",
       "    start_index: 25\n",
       "    end_index: 20\n",
       "12. (k, -0, 1)\n",
       "    core type: ExprTuple\n",
       "    sub-expressions: 18, 19, 25\n",
       "13. (1, -1, 1)\n",
       "    core type: ExprTuple\n",
       "    sub-expressions: 25, 21, 25\n",
       "14. +\n",
       "    core type: Literal\n",
       "    sub-expressions: \n",
       "15. (m, -1, 1)\n",
       "    core type: ExprTuple\n",
       "    sub-expressions: 20, 21, 25\n",
       "16. x -> (x * x)\n",
       "    core type: Lambda\n",
       "    parameter: 28\n",
       "    body: 22\n",
       "17. x -> x\n",
       "    core type: Lambda\n",
       "    parameter: 28\n",
       "    body: 28\n",
       "18. k\n",
       "    core type: Variable\n",
       "    sub-expressions: \n",
       "19. -0\n",
       "    core type: Operation\n",
       "    operator: 24\n",
       "    operand: 23\n",
       "20. m\n",
       "    core type: Variable\n",
       "    sub-expressions: \n",
       "21. -1\n",
       "    core type: Operation\n",
       "    operator: 24\n",
       "    operand: 25\n",
       "22. x * x\n",
       "    core type: Operation\n",
       "    operator: 26\n",
       "    operands: 27\n",
       "23. 0\n",
       "    core type: Literal\n",
       "    sub-expressions: \n",
       "24. -\n",
       "    core type: Literal\n",
       "    sub-expressions: \n",
       "25. 1\n",
       "    core type: Literal\n",
       "    sub-expressions: \n",
       "26. *\n",
       "    core type: Literal\n",
       "    sub-expressions: \n",
       "27. (x, x)\n",
       "    core type: ExprTuple\n",
       "    sub-expressions: 28, 28\n",
       "28. x\n",
       "    core type: Variable\n",
       "    sub-expressions: "
      ]
     },
     "execution_count": 5,
     "metadata": {},
     "output_type": "execute_result"
    }
   ],
   "source": [
    "# display the expression information\n",
    "expr.exprInfo()"
   ]
  },
  {
   "cell_type": "code",
   "execution_count": null,
   "metadata": {},
   "outputs": [],
   "source": []
  }
 ],
 "metadata": {
  "kernelspec": {
   "display_name": "Python 3",
   "language": "python",
   "name": "python3"
  },
  "language_info": {
   "codemirror_mode": {
    "name": "ipython",
    "version": 3
   },
   "file_extension": ".py",
   "mimetype": "text/x-python",
   "name": "python",
   "nbconvert_exporter": "python",
   "pygments_lexer": "ipython3",
   "version": "3.7.3"
  }
 },
 "nbformat": 4,
 "nbformat_minor": 1
}
