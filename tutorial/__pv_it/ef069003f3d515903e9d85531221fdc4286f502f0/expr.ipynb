{
 "cells": [
  {
   "cell_type": "markdown",
   "metadata": {},
   "source": [
    "Expression of type <a class=\"ProveItLink\" href=\"../../../doc/html/api/proveit.Lambda.html\">Lambda</a>\n",
    "=======================\n",
    "# from context <a class=\"ProveItLink\" href=\"../../_context_.ipynb\">tutorial</a>"
   ]
  },
  {
   "cell_type": "code",
   "execution_count": 1,
   "metadata": {},
   "outputs": [],
   "source": [
    "import proveit\n",
    "# Automation is not needed when building an expression:\n",
    "proveit.defaults.automation = False # This will speed things up.\n",
    "proveit.defaults.inline_pngs = False # Makes files smaller.\n",
    "# import Expression classes needed to build the expression\n",
    "from proveit import Conditional, ExprRange, IndexedVar, Lambda, Variable\n",
    "from proveit._common_ import a, b, c, i, j\n",
    "from proveit.core_expr_types._common_ import a_1_to_i, c_1_to_j\n",
    "from proveit.logic import And, InSet\n",
    "from proveit.number import Add, Greater, Naturals, NaturalsPos, one, zero"
   ]
  },
  {
   "cell_type": "code",
   "execution_count": 2,
   "metadata": {},
   "outputs": [
    {
     "data": {
      "text/html": [
       "<strong id=\"expr\">expr:</strong> <a class=\"ProveItLink\" href=\"expr.ipynb\"><img src=\"expr.png\" style=\"display:inline;vertical-align:middle;\" /></a><br>"
      ],
      "text/plain": [
       "expr: (a_{1}, ..a_{_a}.., a_{i}, b, c_{1}, ..c_{_a}.., c_{j}) -> {(a_{1} + ..a_{_a}.. + a_{i} + b + c_{1} + ..c_{_a}.. + c_{j}) in NaturalsPos if a_{1} in Naturals ,  ..a_{_a} in Naturals.. ,  a_{i} in Naturals ,  b in Naturals ,  c_{1} in Naturals ,  ..c_{_a} in Naturals.. ,  c_{j} in Naturals ,  b > 0."
      ]
     },
     "execution_count": 2,
     "metadata": {},
     "output_type": "execute_result"
    }
   ],
   "source": [
    "# build up the expression from sub-expressions\n",
    "subExpr1 = Variable(\"_a\", latexFormat = r\"{_{-}a}\")\n",
    "expr = Lambda([a_1_to_i, b, c_1_to_j], Conditional(InSet(Add(a_1_to_i, b, c_1_to_j), NaturalsPos), And(ExprRange(subExpr1, InSet(IndexedVar(a, subExpr1), Naturals), one, i), InSet(b, Naturals), ExprRange(subExpr1, InSet(IndexedVar(c, subExpr1), Naturals), one, j), Greater(b, zero))))"
   ]
  },
  {
   "cell_type": "code",
   "execution_count": 3,
   "metadata": {},
   "outputs": [
    {
     "name": "stdout",
     "output_type": "stream",
     "text": [
      "Passed sanity check: built 'expr' is the same as the stored Expression.\n"
     ]
    }
   ],
   "source": [
    "# check that the built expression is the same as the stored expression\n",
    "%check_expr"
   ]
  },
  {
   "cell_type": "code",
   "execution_count": 4,
   "metadata": {},
   "outputs": [
    {
     "name": "stdout",
     "output_type": "stream",
     "text": [
      "\\left(a_{1}, \\ldots, a_{i}, b, c_{1}, \\ldots, c_{j}\\right) \\mapsto \\left\\{\\left(a_{1} + \\ldots + a_{i} + b + c_{1} + \\ldots + c_{j}\\right) \\in \\mathbb{N}^+ \\textrm{ if } a_{1} \\in \\mathbb{N} ,  \\ldots ,  a_{i} \\in \\mathbb{N} ,  b \\in \\mathbb{N} ,  c_{1} \\in \\mathbb{N} ,  \\ldots ,  c_{j} \\in \\mathbb{N} ,  b > 0\\right..\n"
     ]
    }
   ],
   "source": [
    "# Show the LaTeX representation of the expression for convenience if you need it.\n",
    "print(expr.latex())"
   ]
  },
  {
   "cell_type": "code",
   "execution_count": 5,
   "metadata": {},
   "outputs": [
    {
     "data": {
      "text/html": [
       "<table><tr><th>&nbsp;</th><th>core type</th><th>sub-expressions</th><th>expression</th></tr>\n",
       "<tr><td>0</td><td>Lambda</td><td>parameters:&nbsp;14<br>body:&nbsp;1<br></td><td><a class=\"ProveItLink\" href=\"expr.ipynb\"><img src=\"expr.png\" style=\"display:inline;vertical-align:middle;\" /></a></td></tr>\n",
       "<tr><td>1</td><td>Conditional</td><td>value:&nbsp;2<br>condition:&nbsp;3<br></td><td><a class=\"ProveItLink\" href=\"../c03f592e555b5937f9ae0c02df5ec5f4f252e9150/expr.ipynb\"><img src=\"../c03f592e555b5937f9ae0c02df5ec5f4f252e9150/expr.png\" style=\"display:inline;vertical-align:middle;\" /></a></td></tr>\n",
       "<tr><td>2</td><td>Operation</td><td>operator:&nbsp;32<br>operands:&nbsp;4<br></td><td><a class=\"ProveItLink\" href=\"../323925dd94a498f3460dec7b6f78a0fd38352b730/expr.ipynb\"><img src=\"../323925dd94a498f3460dec7b6f78a0fd38352b730/expr.png\" style=\"display:inline;vertical-align:middle;\" /></a></td></tr>\n",
       "<tr><td>3</td><td>Operation</td><td>operator:&nbsp;5<br>operands:&nbsp;6<br></td><td><a class=\"ProveItLink\" href=\"../8bd845f494283d6c57c5241083748ff88e8185740/expr.ipynb\"><img src=\"../8bd845f494283d6c57c5241083748ff88e8185740/expr.png\" style=\"display:inline;vertical-align:middle;\" /></a></td></tr>\n",
       "<tr><td>4</td><td>ExprTuple</td><td>7, 8</td><td><a class=\"ProveItLink\" href=\"../f70d3409be01a2577304a9151b868f8d280ce9620/expr.ipynb\"><img src=\"../f70d3409be01a2577304a9151b868f8d280ce9620/expr.png\" style=\"display:inline;vertical-align:middle;\" /></a></td></tr>\n",
       "<tr><td>5</td><td>Literal</td><td></td><td><a class=\"ProveItLink\" href=\"../../../packages/proveit/logic/boolean/conjunction/__pv_it/f41cc6b553210927c09f19a8a39cdf860a5585930/expr.ipynb\"><img src=\"../../../packages/proveit/logic/boolean/conjunction/__pv_it/f41cc6b553210927c09f19a8a39cdf860a5585930/expr.png\" style=\"display:inline;vertical-align:middle;\" /></a></td></tr>\n",
       "<tr><td>6</td><td>ExprTuple</td><td>9, 10, 11, 12</td><td><a class=\"ProveItLink\" href=\"../6b0d0c1bcf33e4db46f13d1a115cd6858192e6b10/expr.ipynb\"><img src=\"../6b0d0c1bcf33e4db46f13d1a115cd6858192e6b10/expr.png\" style=\"display:inline;vertical-align:middle;\" /></a></td></tr>\n",
       "<tr><td>7</td><td>Operation</td><td>operator:&nbsp;13<br>operands:&nbsp;14<br></td><td><a class=\"ProveItLink\" href=\"../8c70fbe69c1631dbc860e07233e9c6b38176b9120/expr.ipynb\"><img src=\"../8c70fbe69c1631dbc860e07233e9c6b38176b9120/expr.png\" style=\"display:inline;vertical-align:middle;\" /></a></td></tr>\n",
       "<tr><td>8</td><td>Literal</td><td></td><td><a class=\"ProveItLink\" href=\"../../../packages/proveit/number/sets/integer/__pv_it/f6a9f4b6dec6ab4d2dcb6ba1b0ba3cceefc643530/expr.ipynb\"><img src=\"../../../packages/proveit/number/sets/integer/__pv_it/f6a9f4b6dec6ab4d2dcb6ba1b0ba3cceefc643530/expr.png\" style=\"display:inline;vertical-align:middle;\" /></a></td></tr>\n",
       "<tr><td>9</td><td>ExprRange</td><td>lambda_map:&nbsp;15<br>start_index:&nbsp;29<br>end_index:&nbsp;27<br></td><td><a class=\"ProveItLink\" href=\"../ca565f9bcbbf2c8e26d53a73b6afec8017f72c1f0/expr.ipynb\"><img src=\"../ca565f9bcbbf2c8e26d53a73b6afec8017f72c1f0/expr.png\" style=\"display:inline;vertical-align:middle;\" /></a></td></tr>\n",
       "<tr><td>10</td><td>Operation</td><td>operator:&nbsp;32<br>operands:&nbsp;16<br></td><td><a class=\"ProveItLink\" href=\"../1457053d222df496acfee0d547549432176d67fd0/expr.ipynb\"><img src=\"../1457053d222df496acfee0d547549432176d67fd0/expr.png\" style=\"display:inline;vertical-align:middle;\" /></a></td></tr>\n",
       "<tr><td>11</td><td>ExprRange</td><td>lambda_map:&nbsp;17<br>start_index:&nbsp;29<br>end_index:&nbsp;30<br></td><td><a class=\"ProveItLink\" href=\"../c804712360e29cc7a4c7070370c2516cc649fd880/expr.ipynb\"><img src=\"../c804712360e29cc7a4c7070370c2516cc649fd880/expr.png\" style=\"display:inline;vertical-align:middle;\" /></a></td></tr>\n",
       "<tr><td>12</td><td>Operation</td><td>operator:&nbsp;18<br>operands:&nbsp;19<br></td><td><a class=\"ProveItLink\" href=\"../ffa12c0d846af333bd9e4d22ef9e71f234f37aea0/expr.ipynb\"><img src=\"../ffa12c0d846af333bd9e4d22ef9e71f234f37aea0/expr.png\" style=\"display:inline;vertical-align:middle;\" /></a></td></tr>\n",
       "<tr><td>13</td><td>Literal</td><td></td><td><a class=\"ProveItLink\" href=\"../../../packages/proveit/number/addition/__pv_it/65ad7e8aee19b10110d590375ba95a879c4fb7ea0/expr.ipynb\"><img src=\"../../../packages/proveit/number/addition/__pv_it/65ad7e8aee19b10110d590375ba95a879c4fb7ea0/expr.png\" style=\"display:inline;vertical-align:middle;\" /></a></td></tr>\n",
       "<tr><td>14</td><td>ExprTuple</td><td>20, 24, 21</td><td><a class=\"ProveItLink\" href=\"../1ad46fdae2bc68cd6e5679962f28a61c58c945420/expr.ipynb\"><img src=\"../1ad46fdae2bc68cd6e5679962f28a61c58c945420/expr.png\" style=\"display:inline;vertical-align:middle;\" /></a></td></tr>\n",
       "<tr><td>15</td><td>Lambda</td><td>parameter:&nbsp;39<br>body:&nbsp;22<br></td><td><a class=\"ProveItLink\" href=\"../0e863016735dbd1553342178597132ace79ef3f00/expr.ipynb\"><img src=\"../0e863016735dbd1553342178597132ace79ef3f00/expr.png\" style=\"display:inline;vertical-align:middle;\" /></a></td></tr>\n",
       "<tr><td>16</td><td>ExprTuple</td><td>24, 36</td><td><a class=\"ProveItLink\" href=\"../1bef332495d2d4d5db248c9b6fc4c989873497360/expr.ipynb\"><img src=\"../1bef332495d2d4d5db248c9b6fc4c989873497360/expr.png\" style=\"display:inline;vertical-align:middle;\" /></a></td></tr>\n",
       "<tr><td>17</td><td>Lambda</td><td>parameter:&nbsp;39<br>body:&nbsp;23<br></td><td><a class=\"ProveItLink\" href=\"../cf1202d50e600e4173164ac2d6310efde79ffbae0/expr.ipynb\"><img src=\"../cf1202d50e600e4173164ac2d6310efde79ffbae0/expr.png\" style=\"display:inline;vertical-align:middle;\" /></a></td></tr>\n",
       "<tr><td>18</td><td>Literal</td><td></td><td><a class=\"ProveItLink\" href=\"../../../packages/proveit/number/ordering/__pv_it/cdf7dfe539ddbf6d6869dd2e6907f2ffbcf9aab80/expr.ipynb\"><img src=\"../../../packages/proveit/number/ordering/__pv_it/cdf7dfe539ddbf6d6869dd2e6907f2ffbcf9aab80/expr.png\" style=\"display:inline;vertical-align:middle;\" /></a></td></tr>\n",
       "<tr><td>19</td><td>ExprTuple</td><td>24, 25</td><td><a class=\"ProveItLink\" href=\"../d25daeb2482c84ce86b92ca5e8eeae655d8416600/expr.ipynb\"><img src=\"../d25daeb2482c84ce86b92ca5e8eeae655d8416600/expr.png\" style=\"display:inline;vertical-align:middle;\" /></a></td></tr>\n",
       "<tr><td>20</td><td>ExprRange</td><td>lambda_map:&nbsp;26<br>start_index:&nbsp;29<br>end_index:&nbsp;27<br></td><td><a class=\"ProveItLink\" href=\"../../../packages/proveit/core_expr_types/__pv_it/196a4822a947788226dd6f6295906f44615646a20/expr.ipynb\"><img src=\"../../../packages/proveit/core_expr_types/__pv_it/196a4822a947788226dd6f6295906f44615646a20/expr.png\" style=\"display:inline;vertical-align:middle;\" /></a></td></tr>\n",
       "<tr><td>21</td><td>ExprRange</td><td>lambda_map:&nbsp;28<br>start_index:&nbsp;29<br>end_index:&nbsp;30<br></td><td><a class=\"ProveItLink\" href=\"../../../packages/proveit/core_expr_types/__pv_it/95c0897a6e46e8a13850c76b3790f9b27f9d82ca0/expr.ipynb\"><img src=\"../../../packages/proveit/core_expr_types/__pv_it/95c0897a6e46e8a13850c76b3790f9b27f9d82ca0/expr.png\" style=\"display:inline;vertical-align:middle;\" /></a></td></tr>\n",
       "<tr><td>22</td><td>Operation</td><td>operator:&nbsp;32<br>operands:&nbsp;31<br></td><td><a class=\"ProveItLink\" href=\"../f3b1ab2ff0050cffa11a2b83bce368516ee153200/expr.ipynb\"><img src=\"../f3b1ab2ff0050cffa11a2b83bce368516ee153200/expr.png\" style=\"display:inline;vertical-align:middle;\" /></a></td></tr>\n",
       "<tr><td>23</td><td>Operation</td><td>operator:&nbsp;32<br>operands:&nbsp;33<br></td><td><a class=\"ProveItLink\" href=\"../850503f7a24c7a151707f609281764eae607bef10/expr.ipynb\"><img src=\"../850503f7a24c7a151707f609281764eae607bef10/expr.png\" style=\"display:inline;vertical-align:middle;\" /></a></td></tr>\n",
       "<tr><td>24</td><td>Variable</td><td></td><td><a class=\"ProveItLink\" href=\"../../../packages/proveit/__pv_it/53e304ff98ebc000dbe3ef224f4637dbafd46ba70/expr.ipynb\"><img src=\"../../../packages/proveit/__pv_it/53e304ff98ebc000dbe3ef224f4637dbafd46ba70/expr.png\" style=\"display:inline;vertical-align:middle;\" /></a></td></tr>\n",
       "<tr><td>25</td><td>Literal</td><td></td><td><a class=\"ProveItLink\" href=\"../../../packages/proveit/number/numeral/__pv_it/bcb6bc33e5975ec2290a3272bf7802d26ab8421d0/expr.ipynb\"><img src=\"../../../packages/proveit/number/numeral/__pv_it/bcb6bc33e5975ec2290a3272bf7802d26ab8421d0/expr.png\" style=\"display:inline;vertical-align:middle;\" /></a></td></tr>\n",
       "<tr><td>26</td><td>Lambda</td><td>parameter:&nbsp;39<br>body:&nbsp;34<br></td><td><a class=\"ProveItLink\" href=\"../../../packages/proveit/core_expr_types/__pv_it/c512bca05a0e191e5f76f2677a0e9e227e81e9f10/expr.ipynb\"><img src=\"../../../packages/proveit/core_expr_types/__pv_it/c512bca05a0e191e5f76f2677a0e9e227e81e9f10/expr.png\" style=\"display:inline;vertical-align:middle;\" /></a></td></tr>\n",
       "<tr><td>27</td><td>Variable</td><td></td><td><a class=\"ProveItLink\" href=\"../../../packages/proveit/__pv_it/557ab5defdcd46aa58168b08767502985122cd490/expr.ipynb\"><img src=\"../../../packages/proveit/__pv_it/557ab5defdcd46aa58168b08767502985122cd490/expr.png\" style=\"display:inline;vertical-align:middle;\" /></a></td></tr>\n",
       "<tr><td>28</td><td>Lambda</td><td>parameter:&nbsp;39<br>body:&nbsp;35<br></td><td><a class=\"ProveItLink\" href=\"../../../packages/proveit/core_expr_types/__pv_it/50b93df91ad1ed6c16f081e3492ea5505773aa060/expr.ipynb\"><img src=\"../../../packages/proveit/core_expr_types/__pv_it/50b93df91ad1ed6c16f081e3492ea5505773aa060/expr.png\" style=\"display:inline;vertical-align:middle;\" /></a></td></tr>\n",
       "<tr><td>29</td><td>Literal</td><td></td><td><a class=\"ProveItLink\" href=\"../../../packages/proveit/number/numeral/__pv_it/f086f8c372bd40a2458306ddfdbb29f3dc6f63030/expr.ipynb\"><img src=\"../../../packages/proveit/number/numeral/__pv_it/f086f8c372bd40a2458306ddfdbb29f3dc6f63030/expr.png\" style=\"display:inline;vertical-align:middle;\" /></a></td></tr>\n",
       "<tr><td>30</td><td>Variable</td><td></td><td><a class=\"ProveItLink\" href=\"../../../packages/proveit/__pv_it/6a5b5879f51878868f626bf09e4d76392d4779cd0/expr.ipynb\"><img src=\"../../../packages/proveit/__pv_it/6a5b5879f51878868f626bf09e4d76392d4779cd0/expr.png\" style=\"display:inline;vertical-align:middle;\" /></a></td></tr>\n",
       "<tr><td>31</td><td>ExprTuple</td><td>34, 36</td><td><a class=\"ProveItLink\" href=\"../3a0714364e56982320cc686135d598c793fbcb1b0/expr.ipynb\"><img src=\"../3a0714364e56982320cc686135d598c793fbcb1b0/expr.png\" style=\"display:inline;vertical-align:middle;\" /></a></td></tr>\n",
       "<tr><td>32</td><td>Literal</td><td></td><td><a class=\"ProveItLink\" href=\"../../../packages/proveit/logic/set_theory/membership/__pv_it/7776fc89cb67d0b5b1ec2c0c8e08da5587921ccf0/expr.ipynb\"><img src=\"../../../packages/proveit/logic/set_theory/membership/__pv_it/7776fc89cb67d0b5b1ec2c0c8e08da5587921ccf0/expr.png\" style=\"display:inline;vertical-align:middle;\" /></a></td></tr>\n",
       "<tr><td>33</td><td>ExprTuple</td><td>35, 36</td><td><a class=\"ProveItLink\" href=\"../87658d5bfdea4953caafe88921538d83f787e05b0/expr.ipynb\"><img src=\"../87658d5bfdea4953caafe88921538d83f787e05b0/expr.png\" style=\"display:inline;vertical-align:middle;\" /></a></td></tr>\n",
       "<tr><td>34</td><td>IndexedVar</td><td>variable:&nbsp;37<br>index:&nbsp;39<br></td><td><a class=\"ProveItLink\" href=\"../../../packages/proveit/core_expr_types/__pv_it/976fe6b95e8535cc9e0861bdc030337becead6960/expr.ipynb\"><img src=\"../../../packages/proveit/core_expr_types/__pv_it/976fe6b95e8535cc9e0861bdc030337becead6960/expr.png\" style=\"display:inline;vertical-align:middle;\" /></a></td></tr>\n",
       "<tr><td>35</td><td>IndexedVar</td><td>variable:&nbsp;38<br>index:&nbsp;39<br></td><td><a class=\"ProveItLink\" href=\"../../../packages/proveit/core_expr_types/__pv_it/e6421d02a0ea05a52c0ad299b2c18b261b8a0fc30/expr.ipynb\"><img src=\"../../../packages/proveit/core_expr_types/__pv_it/e6421d02a0ea05a52c0ad299b2c18b261b8a0fc30/expr.png\" style=\"display:inline;vertical-align:middle;\" /></a></td></tr>\n",
       "<tr><td>36</td><td>Literal</td><td></td><td><a class=\"ProveItLink\" href=\"../../../packages/proveit/number/sets/integer/__pv_it/b49c37b99b7e8d73a8d7971bcf454d693b90a2c60/expr.ipynb\"><img src=\"../../../packages/proveit/number/sets/integer/__pv_it/b49c37b99b7e8d73a8d7971bcf454d693b90a2c60/expr.png\" style=\"display:inline;vertical-align:middle;\" /></a></td></tr>\n",
       "<tr><td>37</td><td>Variable</td><td></td><td><a class=\"ProveItLink\" href=\"../../../packages/proveit/__pv_it/a8d4b3a34d2189508f9082853fbac36935714f280/expr.ipynb\"><img src=\"../../../packages/proveit/__pv_it/a8d4b3a34d2189508f9082853fbac36935714f280/expr.png\" style=\"display:inline;vertical-align:middle;\" /></a></td></tr>\n",
       "<tr><td>38</td><td>Variable</td><td></td><td><a class=\"ProveItLink\" href=\"../../../packages/proveit/__pv_it/b2b446b221a34ee579eb9a1fbdd4ac4e2891d8c70/expr.ipynb\"><img src=\"../../../packages/proveit/__pv_it/b2b446b221a34ee579eb9a1fbdd4ac4e2891d8c70/expr.png\" style=\"display:inline;vertical-align:middle;\" /></a></td></tr>\n",
       "<tr><td>39</td><td>Variable</td><td></td><td><a class=\"ProveItLink\" href=\"../../../packages/proveit/core_expr_types/__pv_it/1e653f789234b245ee7fea7caad998c139d617410/expr.ipynb\"><img src=\"../../../packages/proveit/core_expr_types/__pv_it/1e653f789234b245ee7fea7caad998c139d617410/expr.png\" style=\"display:inline;vertical-align:middle;\" /></a></td></tr>\n",
       "</table>\n"
      ],
      "text/plain": [
       "0. (a_{1}, ..a_{_a}.., a_{i}, b, c_{1}, ..c_{_a}.., c_{j}) -> {(a_{1} + ..a_{_a}.. + a_{i} + b + c_{1} + ..c_{_a}.. + c_{j}) in NaturalsPos if a_{1} in Naturals ,  ..a_{_a} in Naturals.. ,  a_{i} in Naturals ,  b in Naturals ,  c_{1} in Naturals ,  ..c_{_a} in Naturals.. ,  c_{j} in Naturals ,  b > 0.\n",
       "   core type: Lambda\n",
       "   parameters: 14\\n   body: 1\n",
       "1. {(a_{1} + ..a_{_a}.. + a_{i} + b + c_{1} + ..c_{_a}.. + c_{j}) in NaturalsPos if a_{1} in Naturals ,  ..a_{_a} in Naturals.. ,  a_{i} in Naturals ,  b in Naturals ,  c_{1} in Naturals ,  ..c_{_a} in Naturals.. ,  c_{j} in Naturals ,  b > 0.\n",
       "   core type: Conditional\n",
       "   value: 2\n",
       "   condition: 3\n",
       "2. (a_{1} + ..a_{_a}.. + a_{i} + b + c_{1} + ..c_{_a}.. + c_{j}) in NaturalsPos\n",
       "   core type: Operation\n",
       "   operator: 32\n",
       "   operands: 4\n",
       "3. (a_{1} in Naturals) and ..(a_{_a} in Naturals).. and (a_{i} in Naturals) and (b in Naturals) and (c_{1} in Naturals) and ..(c_{_a} in Naturals).. and (c_{j} in Naturals) and (b > 0)\n",
       "   core type: Operation\n",
       "   operator: 5\n",
       "   operands: 6\n",
       "4. (a_{1} + ..a_{_a}.. + a_{i} + b + c_{1} + ..c_{_a}.. + c_{j}, NaturalsPos)\n",
       "   core type: ExprTuple\n",
       "   sub-expressions: 7, 8\n",
       "5. and\n",
       "   core type: Literal\n",
       "   sub-expressions: \n",
       "6. (a_{1} in Naturals, ..a_{_a} in Naturals.., a_{i} in Naturals, b in Naturals, c_{1} in Naturals, ..c_{_a} in Naturals.., c_{j} in Naturals, b > 0)\n",
       "   core type: ExprTuple\n",
       "   sub-expressions: 9, 10, 11, 12\n",
       "7. a_{1} + ..a_{_a}.. + a_{i} + b + c_{1} + ..c_{_a}.. + c_{j}\n",
       "   core type: Operation\n",
       "   operator: 13\n",
       "   operands: 14\n",
       "8. NaturalsPos\n",
       "   core type: Literal\n",
       "   sub-expressions: \n",
       "9. (a_{1} in Naturals), ..(a_{_a} in Naturals).., (a_{i} in Naturals)\n",
       "   core type: ExprRange\n",
       "   lambda_map: 15\n",
       "   start_index: 29\n",
       "   end_index: 27\n",
       "10. b in Naturals\n",
       "    core type: Operation\n",
       "    operator: 32\n",
       "    operands: 16\n",
       "11. (c_{1} in Naturals), ..(c_{_a} in Naturals).., (c_{j} in Naturals)\n",
       "    core type: ExprRange\n",
       "    lambda_map: 17\n",
       "    start_index: 29\n",
       "    end_index: 30\n",
       "12. b > 0\n",
       "    core type: Operation\n",
       "    operator: 18\n",
       "    operands: 19\n",
       "13. +\n",
       "    core type: Literal\n",
       "    sub-expressions: \n",
       "14. (a_{1}, ..a_{_a}.., a_{i}, b, c_{1}, ..c_{_a}.., c_{j})\n",
       "    core type: ExprTuple\n",
       "    sub-expressions: 20, 24, 21\n",
       "15. _a -> (a_{_a} in Naturals)\n",
       "    core type: Lambda\n",
       "    parameter: 39\n",
       "    body: 22\n",
       "16. (b, Naturals)\n",
       "    core type: ExprTuple\n",
       "    sub-expressions: 24, 36\n",
       "17. _a -> (c_{_a} in Naturals)\n",
       "    core type: Lambda\n",
       "    parameter: 39\n",
       "    body: 23\n",
       "18. >\n",
       "    core type: Literal\n",
       "    sub-expressions: \n",
       "19. (b, 0)\n",
       "    core type: ExprTuple\n",
       "    sub-expressions: 24, 25\n",
       "20. a_{1}, ..a_{_a}.., a_{i}\n",
       "    core type: ExprRange\n",
       "    lambda_map: 26\n",
       "    start_index: 29\n",
       "    end_index: 27\n",
       "21. c_{1}, ..c_{_a}.., c_{j}\n",
       "    core type: ExprRange\n",
       "    lambda_map: 28\n",
       "    start_index: 29\n",
       "    end_index: 30\n",
       "22. a_{_a} in Naturals\n",
       "    core type: Operation\n",
       "    operator: 32\n",
       "    operands: 31\n",
       "23. c_{_a} in Naturals\n",
       "    core type: Operation\n",
       "    operator: 32\n",
       "    operands: 33\n",
       "24. b\n",
       "    core type: Variable\n",
       "    sub-expressions: \n",
       "25. 0\n",
       "    core type: Literal\n",
       "    sub-expressions: \n",
       "26. _a -> a_{_a}\n",
       "    core type: Lambda\n",
       "    parameter: 39\n",
       "    body: 34\n",
       "27. i\n",
       "    core type: Variable\n",
       "    sub-expressions: \n",
       "28. _a -> c_{_a}\n",
       "    core type: Lambda\n",
       "    parameter: 39\n",
       "    body: 35\n",
       "29. 1\n",
       "    core type: Literal\n",
       "    sub-expressions: \n",
       "30. j\n",
       "    core type: Variable\n",
       "    sub-expressions: \n",
       "31. (a_{_a}, Naturals)\n",
       "    core type: ExprTuple\n",
       "    sub-expressions: 34, 36\n",
       "32. in\n",
       "    core type: Literal\n",
       "    sub-expressions: \n",
       "33. (c_{_a}, Naturals)\n",
       "    core type: ExprTuple\n",
       "    sub-expressions: 35, 36\n",
       "34. a_{_a}\n",
       "    core type: IndexedVar\n",
       "variable: 37\n",
       "index: 39\n",
       "35. c_{_a}\n",
       "    core type: IndexedVar\n",
       "variable: 38\n",
       "index: 39\n",
       "36. Naturals\n",
       "    core type: Literal\n",
       "    sub-expressions: \n",
       "37. a\n",
       "    core type: Variable\n",
       "    sub-expressions: \n",
       "38. c\n",
       "    core type: Variable\n",
       "    sub-expressions: \n",
       "39. _a\n",
       "    core type: Variable\n",
       "    sub-expressions: "
      ]
     },
     "execution_count": 5,
     "metadata": {},
     "output_type": "execute_result"
    }
   ],
   "source": [
    "# display the expression information\n",
    "expr.exprInfo()"
   ]
  },
  {
   "cell_type": "code",
   "execution_count": null,
   "metadata": {},
   "outputs": [],
   "source": []
  }
 ],
 "metadata": {
  "kernelspec": {
   "display_name": "Python 3",
   "language": "python",
   "name": "python3"
  },
  "language_info": {
   "codemirror_mode": {
    "name": "ipython",
    "version": 3
   },
   "file_extension": ".py",
   "mimetype": "text/x-python",
   "name": "python",
   "nbconvert_exporter": "python",
   "pygments_lexer": "ipython3",
   "version": "3.7.3"
  }
 },
 "nbformat": 4,
 "nbformat_minor": 1
}
