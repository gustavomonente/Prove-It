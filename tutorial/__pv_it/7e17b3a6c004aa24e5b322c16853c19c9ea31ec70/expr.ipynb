{
 "cells": [
  {
   "cell_type": "markdown",
   "metadata": {},
   "source": [
    "Expression of type <a class=\"ProveItLink\" href=\"../../../doc/html/api/proveit.number.Add.html\">Add</a>\n",
    "=======================\n",
    "# from context <a class=\"ProveItLink\" href=\"../../_context_.ipynb\">tutorial</a>"
   ]
  },
  {
   "cell_type": "code",
   "execution_count": 1,
   "metadata": {},
   "outputs": [],
   "source": [
    "import proveit\n",
    "# Automation is not needed when building an expression:\n",
    "proveit.defaults.automation = False # This will speed things up.\n",
    "proveit.defaults.inline_pngs = False # Makes files smaller.\n",
    "# import Expression classes needed to build the expression\n",
    "from proveit import ExprRange, IndexedVar\n",
    "from proveit._common_ import i, j, m, n, x\n",
    "from proveit.number import Add, Mult, Neg, one"
   ]
  },
  {
   "cell_type": "code",
   "execution_count": 2,
   "metadata": {},
   "outputs": [
    {
     "data": {
      "text/html": [
       "<strong id=\"expr\">expr:</strong> <a class=\"ProveItLink\" href=\"expr.ipynb\"><img src=\"expr.png\" style=\"display:inline;vertical-align:middle;\" /></a><br>"
      ],
      "text/plain": [
       "expr: (1 * 1 * x_{1,1})+..(1 * j * x_{1,j})..+(1 * n * x_{1,n}) + ....(i * 1 * x_{i,1})+..(i * j * x_{i,j})..+(i * n * x_{i,n}).... + ((m - 1) * 1 * x_{m - 1,1})+..((m - 1) * j * x_{m - 1,j})..+((m - 1) * n * x_{m - 1,n}) + (m * 1 * (1 * 1)) + ..(m * j * (j * j)).. + (m * n * (n * n))"
      ]
     },
     "execution_count": 2,
     "metadata": {},
     "output_type": "execute_result"
    }
   ],
   "source": [
    "# build up the expression from sub-expressions\n",
    "expr = Add(ExprRange(i, ExprRange(j, Mult(i, j, IndexedVar(IndexedVar(x, i), j)), one, n), one, Add(m, Neg(one))), ExprRange(j, Mult(m, j, Mult(j, j)), one, n))"
   ]
  },
  {
   "cell_type": "code",
   "execution_count": 3,
   "metadata": {},
   "outputs": [
    {
     "name": "stdout",
     "output_type": "stream",
     "text": [
      "Passed sanity check: built 'expr' is the same as the stored Expression.\n"
     ]
    }
   ],
   "source": [
    "# check that the built expression is the same as the stored expression\n",
    "%check_expr"
   ]
  },
  {
   "cell_type": "code",
   "execution_count": 4,
   "metadata": {},
   "outputs": [
    {
     "name": "stdout",
     "output_type": "stream",
     "text": [
      "\\left(1 \\cdot 1 \\cdot x_{1,1}\\right)+\\ldots+\\left(1 \\cdot n \\cdot x_{1,n}\\right) + \\ldots\\ldots + \\left(\\left(m - 1\\right) \\cdot 1 \\cdot x_{m - 1,1}\\right)+\\ldots+\\left(\\left(m - 1\\right) \\cdot n \\cdot x_{m - 1,n}\\right) + \\left(m \\cdot 1 \\cdot \\left(1 \\cdot 1\\right)\\right) + \\ldots + \\left(m \\cdot n \\cdot \\left(n \\cdot n\\right)\\right)\n"
     ]
    }
   ],
   "source": [
    "# Show the LaTeX representation of the expression for convenience if you need it.\n",
    "print(expr.latex())"
   ]
  },
  {
   "cell_type": "code",
   "execution_count": 5,
   "metadata": {},
   "outputs": [
    {
     "data": {
      "text/html": [
       "<table><tr><th>&nbsp;</th><th>core type</th><th>sub-expressions</th><th>expression</th></tr>\n",
       "<tr><td>0</td><td>Operation</td><td>operator:&nbsp;8<br>operands:&nbsp;1<br></td><td><a class=\"ProveItLink\" href=\"expr.ipynb\"><img src=\"expr.png\" style=\"display:inline;vertical-align:middle;\" /></a></td></tr>\n",
       "<tr><td>1</td><td>ExprTuple</td><td>2, 3</td><td><a class=\"ProveItLink\" href=\"../c7258807184afa32039a8d1acda2c53b9114d66b0/expr.ipynb\"><img src=\"../c7258807184afa32039a8d1acda2c53b9114d66b0/expr.png\" style=\"display:inline;vertical-align:middle;\" /></a></td></tr>\n",
       "<tr><td>2</td><td>ExprRange</td><td>lambda_map:&nbsp;4<br>start_index:&nbsp;17<br>end_index:&nbsp;5<br></td><td><a class=\"ProveItLink\" href=\"../9c225222b9e684ef4c2168f14c0a6dc091488fe20/expr.ipynb\"><img src=\"../9c225222b9e684ef4c2168f14c0a6dc091488fe20/expr.png\" style=\"display:inline;vertical-align:middle;\" /></a></td></tr>\n",
       "<tr><td>3</td><td>ExprRange</td><td>lambda_map:&nbsp;6<br>start_index:&nbsp;17<br>end_index:&nbsp;12<br></td><td><a class=\"ProveItLink\" href=\"../9ea24233ec9ab2ffe39b1e6186e0052407d6b7cc0/expr.ipynb\"><img src=\"../9ea24233ec9ab2ffe39b1e6186e0052407d6b7cc0/expr.png\" style=\"display:inline;vertical-align:middle;\" /></a></td></tr>\n",
       "<tr><td>4</td><td>Lambda</td><td>parameter:&nbsp;27<br>body:&nbsp;7<br></td><td><a class=\"ProveItLink\" href=\"../728d338bcfcfbee0a3c95f383cc27badee84b9b60/expr.ipynb\"><img src=\"../728d338bcfcfbee0a3c95f383cc27badee84b9b60/expr.png\" style=\"display:inline;vertical-align:middle;\" /></a></td></tr>\n",
       "<tr><td>5</td><td>Operation</td><td>operator:&nbsp;8<br>operands:&nbsp;9<br></td><td><a class=\"ProveItLink\" href=\"../4116e0af369eea3655f8c7d50d876ff523d64eb70/expr.ipynb\"><img src=\"../4116e0af369eea3655f8c7d50d876ff523d64eb70/expr.png\" style=\"display:inline;vertical-align:middle;\" /></a></td></tr>\n",
       "<tr><td>6</td><td>Lambda</td><td>parameter:&nbsp;25<br>body:&nbsp;10<br></td><td><a class=\"ProveItLink\" href=\"../6a4b44fd3641d9ce44c4bdf467397016684fc8fd0/expr.ipynb\"><img src=\"../6a4b44fd3641d9ce44c4bdf467397016684fc8fd0/expr.png\" style=\"display:inline;vertical-align:middle;\" /></a></td></tr>\n",
       "<tr><td>7</td><td>ExprRange</td><td>lambda_map:&nbsp;11<br>start_index:&nbsp;17<br>end_index:&nbsp;12<br></td><td><a class=\"ProveItLink\" href=\"../5390aa0ea668a50df8cf0ac0ab542e12240d48d40/expr.ipynb\"><img src=\"../5390aa0ea668a50df8cf0ac0ab542e12240d48d40/expr.png\" style=\"display:inline;vertical-align:middle;\" /></a></td></tr>\n",
       "<tr><td>8</td><td>Literal</td><td></td><td><a class=\"ProveItLink\" href=\"../../../packages/proveit/number/addition/__pv_it/65ad7e8aee19b10110d590375ba95a879c4fb7ea0/expr.ipynb\"><img src=\"../../../packages/proveit/number/addition/__pv_it/65ad7e8aee19b10110d590375ba95a879c4fb7ea0/expr.png\" style=\"display:inline;vertical-align:middle;\" /></a></td></tr>\n",
       "<tr><td>9</td><td>ExprTuple</td><td>18, 13</td><td><a class=\"ProveItLink\" href=\"../93751c4bb82e2893ad4569a0b2388322bd8210680/expr.ipynb\"><img src=\"../93751c4bb82e2893ad4569a0b2388322bd8210680/expr.png\" style=\"display:inline;vertical-align:middle;\" /></a></td></tr>\n",
       "<tr><td>10</td><td>Operation</td><td>operator:&nbsp;21<br>operands:&nbsp;14<br></td><td><a class=\"ProveItLink\" href=\"../6a9d2115c6912d4ff96e0ae69f39f8ee69fbc3c30/expr.ipynb\"><img src=\"../6a9d2115c6912d4ff96e0ae69f39f8ee69fbc3c30/expr.png\" style=\"display:inline;vertical-align:middle;\" /></a></td></tr>\n",
       "<tr><td>11</td><td>Lambda</td><td>parameter:&nbsp;25<br>body:&nbsp;15<br></td><td><a class=\"ProveItLink\" href=\"../3fa8e8df54cbda70595f4f3e6b81d2e06c9446bd0/expr.ipynb\"><img src=\"../3fa8e8df54cbda70595f4f3e6b81d2e06c9446bd0/expr.png\" style=\"display:inline;vertical-align:middle;\" /></a></td></tr>\n",
       "<tr><td>12</td><td>Variable</td><td></td><td><a class=\"ProveItLink\" href=\"../../../packages/proveit/__pv_it/0c1c4cb515e0f4344b1ac06650f349123e526deb0/expr.ipynb\"><img src=\"../../../packages/proveit/__pv_it/0c1c4cb515e0f4344b1ac06650f349123e526deb0/expr.png\" style=\"display:inline;vertical-align:middle;\" /></a></td></tr>\n",
       "<tr><td>13</td><td>Operation</td><td>operator:&nbsp;16<br>operand:&nbsp;17<br></td><td><a class=\"ProveItLink\" href=\"../01559348096b98a1dd2ebcf5c288189c829b18930/expr.ipynb\"><img src=\"../01559348096b98a1dd2ebcf5c288189c829b18930/expr.png\" style=\"display:inline;vertical-align:middle;\" /></a></td></tr>\n",
       "<tr><td>14</td><td>ExprTuple</td><td>18, 25, 19</td><td><a class=\"ProveItLink\" href=\"../c6cd5a51850fe959ca9d4bea0dff6eb72cb7f4c00/expr.ipynb\"><img src=\"../c6cd5a51850fe959ca9d4bea0dff6eb72cb7f4c00/expr.png\" style=\"display:inline;vertical-align:middle;\" /></a></td></tr>\n",
       "<tr><td>15</td><td>Operation</td><td>operator:&nbsp;21<br>operands:&nbsp;20<br></td><td><a class=\"ProveItLink\" href=\"../78b6a5da55fe2e85f3db47ed7a91a6aa61ccef9f0/expr.ipynb\"><img src=\"../78b6a5da55fe2e85f3db47ed7a91a6aa61ccef9f0/expr.png\" style=\"display:inline;vertical-align:middle;\" /></a></td></tr>\n",
       "<tr><td>16</td><td>Literal</td><td></td><td><a class=\"ProveItLink\" href=\"../../../packages/proveit/number/negation/__pv_it/2867787e35502987d81a45cac8e7f1c6996d6ff40/expr.ipynb\"><img src=\"../../../packages/proveit/number/negation/__pv_it/2867787e35502987d81a45cac8e7f1c6996d6ff40/expr.png\" style=\"display:inline;vertical-align:middle;\" /></a></td></tr>\n",
       "<tr><td>17</td><td>Literal</td><td></td><td><a class=\"ProveItLink\" href=\"../../../packages/proveit/number/numeral/__pv_it/f086f8c372bd40a2458306ddfdbb29f3dc6f63030/expr.ipynb\"><img src=\"../../../packages/proveit/number/numeral/__pv_it/f086f8c372bd40a2458306ddfdbb29f3dc6f63030/expr.png\" style=\"display:inline;vertical-align:middle;\" /></a></td></tr>\n",
       "<tr><td>18</td><td>Variable</td><td></td><td><a class=\"ProveItLink\" href=\"../../../packages/proveit/__pv_it/6e8a38e9a7e2b6af352562cd77e0eb4751f142620/expr.ipynb\"><img src=\"../../../packages/proveit/__pv_it/6e8a38e9a7e2b6af352562cd77e0eb4751f142620/expr.png\" style=\"display:inline;vertical-align:middle;\" /></a></td></tr>\n",
       "<tr><td>19</td><td>Operation</td><td>operator:&nbsp;21<br>operands:&nbsp;22<br></td><td><a class=\"ProveItLink\" href=\"../e34907f2e659dae01d9a88102d1f19ecbc6610be0/expr.ipynb\"><img src=\"../e34907f2e659dae01d9a88102d1f19ecbc6610be0/expr.png\" style=\"display:inline;vertical-align:middle;\" /></a></td></tr>\n",
       "<tr><td>20</td><td>ExprTuple</td><td>27, 25, 23</td><td><a class=\"ProveItLink\" href=\"../51050a039afb31a2e78921bc9feb3a9606175a690/expr.ipynb\"><img src=\"../51050a039afb31a2e78921bc9feb3a9606175a690/expr.png\" style=\"display:inline;vertical-align:middle;\" /></a></td></tr>\n",
       "<tr><td>21</td><td>Literal</td><td></td><td><a class=\"ProveItLink\" href=\"../../../packages/proveit/number/multiplication/__pv_it/f7a1ed7c35c8c884cf4c236d27cb79bf85638cad0/expr.ipynb\"><img src=\"../../../packages/proveit/number/multiplication/__pv_it/f7a1ed7c35c8c884cf4c236d27cb79bf85638cad0/expr.png\" style=\"display:inline;vertical-align:middle;\" /></a></td></tr>\n",
       "<tr><td>22</td><td>ExprTuple</td><td>25, 25</td><td><a class=\"ProveItLink\" href=\"../fe9dd8127dc658fab9eb2a5c8fbf9562c0f009a50/expr.ipynb\"><img src=\"../fe9dd8127dc658fab9eb2a5c8fbf9562c0f009a50/expr.png\" style=\"display:inline;vertical-align:middle;\" /></a></td></tr>\n",
       "<tr><td>23</td><td>IndexedVar</td><td>variable:&nbsp;24<br>index:&nbsp;25<br></td><td><a class=\"ProveItLink\" href=\"../b67beb8a39b727a32323d50a272c10fc80418fb50/expr.ipynb\"><img src=\"../b67beb8a39b727a32323d50a272c10fc80418fb50/expr.png\" style=\"display:inline;vertical-align:middle;\" /></a></td></tr>\n",
       "<tr><td>24</td><td>IndexedVar</td><td>variable:&nbsp;26<br>index:&nbsp;27<br></td><td><a class=\"ProveItLink\" href=\"../5806935187de2ebea4a8552dee6b2164eb38f3ad0/expr.ipynb\"><img src=\"../5806935187de2ebea4a8552dee6b2164eb38f3ad0/expr.png\" style=\"display:inline;vertical-align:middle;\" /></a></td></tr>\n",
       "<tr><td>25</td><td>Variable</td><td></td><td><a class=\"ProveItLink\" href=\"../../../packages/proveit/__pv_it/6a5b5879f51878868f626bf09e4d76392d4779cd0/expr.ipynb\"><img src=\"../../../packages/proveit/__pv_it/6a5b5879f51878868f626bf09e4d76392d4779cd0/expr.png\" style=\"display:inline;vertical-align:middle;\" /></a></td></tr>\n",
       "<tr><td>26</td><td>Variable</td><td></td><td><a class=\"ProveItLink\" href=\"../../../packages/proveit/__pv_it/72df168d2bfb4e0140af90912ebf83b13772060b0/expr.ipynb\"><img src=\"../../../packages/proveit/__pv_it/72df168d2bfb4e0140af90912ebf83b13772060b0/expr.png\" style=\"display:inline;vertical-align:middle;\" /></a></td></tr>\n",
       "<tr><td>27</td><td>Variable</td><td></td><td><a class=\"ProveItLink\" href=\"../../../packages/proveit/__pv_it/557ab5defdcd46aa58168b08767502985122cd490/expr.ipynb\"><img src=\"../../../packages/proveit/__pv_it/557ab5defdcd46aa58168b08767502985122cd490/expr.png\" style=\"display:inline;vertical-align:middle;\" /></a></td></tr>\n",
       "</table>\n"
      ],
      "text/plain": [
       "0. (1 * 1 * x_{1,1})+..(1 * j * x_{1,j})..+(1 * n * x_{1,n}) + ....(i * 1 * x_{i,1})+..(i * j * x_{i,j})..+(i * n * x_{i,n}).... + ((m - 1) * 1 * x_{m - 1,1})+..((m - 1) * j * x_{m - 1,j})..+((m - 1) * n * x_{m - 1,n}) + (m * 1 * (1 * 1)) + ..(m * j * (j * j)).. + (m * n * (n * n))\n",
       "   core type: Operation\n",
       "   operator: 8\n",
       "   operands: 1\n",
       "1. ((1 * 1 * x_{1,1}), ..(1 * j * x_{1,j}).., (1 * n * x_{1,n}), ....(i * 1 * x_{i,1}), ..(i * j * x_{i,j}).., (i * n * x_{i,n})...., ((m - 1) * 1 * x_{m - 1,1}), ..((m - 1) * j * x_{m - 1,j}).., ((m - 1) * n * x_{m - 1,n}), m * 1 * (1 * 1), ..m * j * (j * j).., m * n * (n * n))\n",
       "   core type: ExprTuple\n",
       "   sub-expressions: 2, 3\n",
       "2. (1 * 1 * x_{1,1}), ..(1 * j * x_{1,j}).., (1 * n * x_{1,n}), ....(i * 1 * x_{i,1}), ..(i * j * x_{i,j}).., (i * n * x_{i,n})...., ((m - 1) * 1 * x_{m - 1,1}), ..((m - 1) * j * x_{m - 1,j}).., ((m - 1) * n * x_{m - 1,n})\n",
       "   core type: ExprRange\n",
       "   lambda_map: 4\n",
       "   start_index: 17\n",
       "   end_index: 5\n",
       "3. (m * 1 * (1 * 1)), ..(m * j * (j * j)).., (m * n * (n * n))\n",
       "   core type: ExprRange\n",
       "   lambda_map: 6\n",
       "   start_index: 17\n",
       "   end_index: 12\n",
       "4. i -> (i * 1 * x_{i,1}), ..(i * j * x_{i,j}).., (i * n * x_{i,n})\n",
       "   core type: Lambda\n",
       "   parameter: 27\n",
       "   body: 7\n",
       "5. m - 1\n",
       "   core type: Operation\n",
       "   operator: 8\n",
       "   operands: 9\n",
       "6. j -> (m * j * (j * j))\n",
       "   core type: Lambda\n",
       "   parameter: 25\n",
       "   body: 10\n",
       "7. (i * 1 * x_{i,1}), ..(i * j * x_{i,j}).., (i * n * x_{i,n})\n",
       "   core type: ExprRange\n",
       "   lambda_map: 11\n",
       "   start_index: 17\n",
       "   end_index: 12\n",
       "8. +\n",
       "   core type: Literal\n",
       "   sub-expressions: \n",
       "9. (m, -1)\n",
       "   core type: ExprTuple\n",
       "   sub-expressions: 18, 13\n",
       "10. m * j * (j * j)\n",
       "    core type: Operation\n",
       "    operator: 21\n",
       "    operands: 14\n",
       "11. j -> (i * j * x_{i,j})\n",
       "    core type: Lambda\n",
       "    parameter: 25\n",
       "    body: 15\n",
       "12. n\n",
       "    core type: Variable\n",
       "    sub-expressions: \n",
       "13. -1\n",
       "    core type: Operation\n",
       "    operator: 16\n",
       "    operand: 17\n",
       "14. (m, j, j * j)\n",
       "    core type: ExprTuple\n",
       "    sub-expressions: 18, 25, 19\n",
       "15. i * j * x_{i,j}\n",
       "    core type: Operation\n",
       "    operator: 21\n",
       "    operands: 20\n",
       "16. -\n",
       "    core type: Literal\n",
       "    sub-expressions: \n",
       "17. 1\n",
       "    core type: Literal\n",
       "    sub-expressions: \n",
       "18. m\n",
       "    core type: Variable\n",
       "    sub-expressions: \n",
       "19. j * j\n",
       "    core type: Operation\n",
       "    operator: 21\n",
       "    operands: 22\n",
       "20. (i, j, x_{i,j})\n",
       "    core type: ExprTuple\n",
       "    sub-expressions: 27, 25, 23\n",
       "21. *\n",
       "    core type: Literal\n",
       "    sub-expressions: \n",
       "22. (j, j)\n",
       "    core type: ExprTuple\n",
       "    sub-expressions: 25, 25\n",
       "23. x_{i,j}\n",
       "    core type: IndexedVar\n",
       "variable: 24\n",
       "index: 25\n",
       "24. x_{i}\n",
       "    core type: IndexedVar\n",
       "variable: 26\n",
       "index: 27\n",
       "25. j\n",
       "    core type: Variable\n",
       "    sub-expressions: \n",
       "26. x\n",
       "    core type: Variable\n",
       "    sub-expressions: \n",
       "27. i\n",
       "    core type: Variable\n",
       "    sub-expressions: "
      ]
     },
     "execution_count": 5,
     "metadata": {},
     "output_type": "execute_result"
    }
   ],
   "source": [
    "# display the expression information\n",
    "expr.exprInfo()"
   ]
  },
  {
   "cell_type": "code",
   "execution_count": null,
   "metadata": {},
   "outputs": [],
   "source": []
  }
 ],
 "metadata": {
  "kernelspec": {
   "display_name": "Python 3",
   "language": "python",
   "name": "python3"
  },
  "language_info": {
   "codemirror_mode": {
    "name": "ipython",
    "version": 3
   },
   "file_extension": ".py",
   "mimetype": "text/x-python",
   "name": "python",
   "nbconvert_exporter": "python",
   "pygments_lexer": "ipython3",
   "version": "3.7.3"
  }
 },
 "nbformat": 4,
 "nbformat_minor": 1
}
