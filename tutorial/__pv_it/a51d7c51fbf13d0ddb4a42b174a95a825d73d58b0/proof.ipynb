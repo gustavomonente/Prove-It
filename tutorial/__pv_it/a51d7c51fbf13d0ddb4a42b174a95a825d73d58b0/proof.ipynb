{
 "cells": [
  {
   "cell_type": "markdown",
   "metadata": {},
   "source": [
    "Show the Proof\n",
    "========"
   ]
  },
  {
   "cell_type": "code",
   "execution_count": 1,
   "metadata": {},
   "outputs": [
    {
     "data": {
      "text/html": [
       "<table><tr><th>&nbsp;</th><th>step type</th><th>requirements</th><th>statement</th></tr>\n",
       "<tr><td><a name=\"tutorial.a51d7c51fbf13d0ddb4a42b174a95a825d73d58b0_step0\">0</a></td><td>instantiation</td><td><a href=\"#tutorial.a51d7c51fbf13d0ddb4a42b174a95a825d73d58b0_step1\">1</a>, <a href=\"#tutorial.a51d7c51fbf13d0ddb4a42b174a95a825d73d58b0_step2\">2</a></td><td><span style=\"font-size:20px;\"><a class=\"ProveItLink\" href=\"../29d938735d7863455f001416ba81a8ec2044ba210/expr.ipynb\"><img src=\"../29d938735d7863455f001416ba81a8ec2044ba210/expr.png\" style=\"display:inline;vertical-align:middle;\" /></a> <a class=\"ProveItLink\" href=\"proof.ipynb\" style=\"text-decoration: none\">&#x22A2;&nbsp;</a><a class=\"ProveItLink\" href=\"../6597d49529c024ac96f3cde76fd4f0f03164d9440/expr.ipynb\"><img src=\"../6597d49529c024ac96f3cde76fd4f0f03164d9440/expr.png\" style=\"display:inline;vertical-align:middle;\" /></a></span></td></tr>\n",
       "<tr><td>&nbsp;</td><td colspan=4 style=\"text-align:left\"><span style=\"font-size:20px;\"><a class=\"ProveItLink\" href=\"../../../packages/proveit/__pv_it/557ab5defdcd46aa58168b08767502985122cd490/expr.ipynb\"><img src=\"../../../packages/proveit/__pv_it/557ab5defdcd46aa58168b08767502985122cd490/expr.png\" style=\"display:inline;vertical-align:middle;\" /></a> : <a class=\"ProveItLink\" href=\"../../../packages/proveit/__pv_it/6e8a38e9a7e2b6af352562cd77e0eb4751f142620/expr.ipynb\"><img src=\"../../../packages/proveit/__pv_it/6e8a38e9a7e2b6af352562cd77e0eb4751f142620/expr.png\" style=\"display:inline;vertical-align:middle;\" /></a>, <a class=\"ProveItLink\" href=\"../b03ca9c7bc8f532bf55517e632039b2ccc74c3bd0/expr.ipynb\"><img src=\"../b03ca9c7bc8f532bf55517e632039b2ccc74c3bd0/expr.png\" style=\"display:inline;vertical-align:middle;\" /></a> : <a class=\"ProveItLink\" href=\"../92c2d72da0789fd9dc4e9bf6f3094e253590c7f00/expr.ipynb\"><img src=\"../92c2d72da0789fd9dc4e9bf6f3094e253590c7f00/expr.png\" style=\"display:inline;vertical-align:middle;\" /></a></span></td></tr><tr><td><a name=\"tutorial.a51d7c51fbf13d0ddb4a42b174a95a825d73d58b0_step1\">1</a></td><td>theorem</td><td></td><td><span style=\"font-size:20px;\"> <a class=\"ProveItLink\" href=\"../../../packages/proveit/core_expr_types/tuples/_proofs_/range_from1_len_typical_equiv.ipynb\" style=\"text-decoration: none\">&#x22A2;&nbsp;</a><a class=\"ProveItLink\" href=\"../94e973d09417542727834c8441742c7761d2bbab0/expr.ipynb\"><img src=\"../94e973d09417542727834c8441742c7761d2bbab0/expr.png\" style=\"display:inline;vertical-align:middle;\" /></a></span></td></tr>\n",
       "<tr><td>&nbsp;</td><td colspan=4 style-\"text-align:left\"><a class=\"ProveItLink\" href=\"../../../packages/proveit/core_expr_types/tuples/_proofs_/range_from1_len_typical_equiv.ipynb\">proveit.core_expr_types.tuples.range_from1_len_typical_equiv</a></td></tr><tr><td><a name=\"tutorial.a51d7c51fbf13d0ddb4a42b174a95a825d73d58b0_step2\">2</a></td><td>instantiation</td><td><a href=\"#tutorial.a51d7c51fbf13d0ddb4a42b174a95a825d73d58b0_step3\">3</a>, <a href=\"#tutorial.a51d7c51fbf13d0ddb4a42b174a95a825d73d58b0_step4\">4</a>, <a href=\"#tutorial.a51d7c51fbf13d0ddb4a42b174a95a825d73d58b0_step5\">5</a></td><td><span style=\"font-size:20px;\"><a class=\"ProveItLink\" href=\"../29d938735d7863455f001416ba81a8ec2044ba210/expr.ipynb\"><img src=\"../29d938735d7863455f001416ba81a8ec2044ba210/expr.png\" style=\"display:inline;vertical-align:middle;\" /></a> <a class=\"ProveItLink\" href=\"../f6a949d824b932e47886f2efdd5b6535f62bb30c0/proof.ipynb\" style=\"text-decoration: none\">&#x22A2;&nbsp;</a><a class=\"ProveItLink\" href=\"../ad11778942ef0375d86b1f7877fe8941c18aa1e90/expr.ipynb\"><img src=\"../ad11778942ef0375d86b1f7877fe8941c18aa1e90/expr.png\" style=\"display:inline;vertical-align:middle;\" /></a></span></td></tr>\n",
       "<tr><td>&nbsp;</td><td colspan=4 style=\"text-align:left\"><span style=\"font-size:20px;\"><a class=\"ProveItLink\" href=\"../6adf35e534b0f74f25bdd03c03dfd88a84b3ace50/expr.ipynb\"><img src=\"../6adf35e534b0f74f25bdd03c03dfd88a84b3ace50/expr.png\" style=\"display:inline;vertical-align:middle;\" /></a> : <a class=\"ProveItLink\" href=\"../362b01c8d86515b1097c2b6b6e46b721b952082c0/expr.ipynb\"><img src=\"../362b01c8d86515b1097c2b6b6e46b721b952082c0/expr.png\" style=\"display:inline;vertical-align:middle;\" /></a>, <a class=\"ProveItLink\" href=\"../../../packages/proveit/__pv_it/72df168d2bfb4e0140af90912ebf83b13772060b0/expr.ipynb\"><img src=\"../../../packages/proveit/__pv_it/72df168d2bfb4e0140af90912ebf83b13772060b0/expr.png\" style=\"display:inline;vertical-align:middle;\" /></a> : <a class=\"ProveItLink\" href=\"../../../packages/proveit/__pv_it/6e8a38e9a7e2b6af352562cd77e0eb4751f142620/expr.ipynb\"><img src=\"../../../packages/proveit/__pv_it/6e8a38e9a7e2b6af352562cd77e0eb4751f142620/expr.png\" style=\"display:inline;vertical-align:middle;\" /></a>, <a class=\"ProveItLink\" href=\"../../../packages/proveit/__pv_it/c6e291955561f22a0e6708fd793ea93f1c7dbb5d0/expr.ipynb\"><img src=\"../../../packages/proveit/__pv_it/c6e291955561f22a0e6708fd793ea93f1c7dbb5d0/expr.png\" style=\"display:inline;vertical-align:middle;\" /></a> : <a class=\"ProveItLink\" href=\"../../../packages/proveit/number/numeral/__pv_it/fb4ccffdbfd0f653ebaacb95e7ff4802fd48a6f20/expr.ipynb\"><img src=\"../../../packages/proveit/number/numeral/__pv_it/fb4ccffdbfd0f653ebaacb95e7ff4802fd48a6f20/expr.png\" style=\"display:inline;vertical-align:middle;\" /></a></span></td></tr><tr><td><a name=\"tutorial.a51d7c51fbf13d0ddb4a42b174a95a825d73d58b0_step3\">3</a></td><td>theorem</td><td></td><td><span style=\"font-size:20px;\"> <a class=\"ProveItLink\" href=\"../../../packages/proveit/logic/equality/_proofs_/subLeftSideInto.ipynb\" style=\"text-decoration: none\">&#x22A2;&nbsp;</a><a class=\"ProveItLink\" href=\"../b045adeaf94fff26420abf17195299a9ce10046c0/expr.ipynb\"><img src=\"../b045adeaf94fff26420abf17195299a9ce10046c0/expr.png\" style=\"display:inline;vertical-align:middle;\" /></a></span></td></tr>\n",
       "<tr><td>&nbsp;</td><td colspan=4 style-\"text-align:left\"><a class=\"ProveItLink\" href=\"../../../packages/proveit/logic/equality/_proofs_/subLeftSideInto.ipynb\">proveit.logic.equality.subLeftSideInto</a></td></tr><tr><td><a name=\"tutorial.a51d7c51fbf13d0ddb4a42b174a95a825d73d58b0_step4\">4</a></td><td>theorem</td><td></td><td><span style=\"font-size:20px;\"> <a class=\"ProveItLink\" href=\"../../../packages/proveit/number/numeral/deci/_proofs_/nat2.ipynb\" style=\"text-decoration: none\">&#x22A2;&nbsp;</a><a class=\"ProveItLink\" href=\"../e1be5cc0ffa039746758df99e3fd79595c567a170/expr.ipynb\"><img src=\"../e1be5cc0ffa039746758df99e3fd79595c567a170/expr.png\" style=\"display:inline;vertical-align:middle;\" /></a></span></td></tr>\n",
       "<tr><td>&nbsp;</td><td colspan=4 style-\"text-align:left\"><a class=\"ProveItLink\" href=\"../../../packages/proveit/number/numeral/deci/_proofs_/nat2.ipynb\">proveit.number.numeral.deci.nat2</a></td></tr><tr><td><a name=\"tutorial.a51d7c51fbf13d0ddb4a42b174a95a825d73d58b0_step5\">5</a></td><td>assumption</td><td></td><td><span style=\"font-size:20px;\"><a class=\"ProveItLink\" href=\"../29d938735d7863455f001416ba81a8ec2044ba210/expr.ipynb\"><img src=\"../29d938735d7863455f001416ba81a8ec2044ba210/expr.png\" style=\"display:inline;vertical-align:middle;\" /></a> <a class=\"ProveItLink\" href=\"../452ea58b73919a670d914b1613e3058987a27b170/proof.ipynb\" style=\"text-decoration: none\">&#x22A2;&nbsp;</a><a class=\"ProveItLink\" href=\"../d06ad4ac4fa893c42ece08d282f3f2d6533339cf0/expr.ipynb\"><img src=\"../d06ad4ac4fa893c42ece08d282f3f2d6533339cf0/expr.png\" style=\"display:inline;vertical-align:middle;\" /></a></span></td></tr>\n",
       "</table>"
      ],
      "text/plain": [
       "<proveit._core_.proof._ShowProof at 0x7f5bb048a240>"
      ]
     },
     "execution_count": 1,
     "metadata": {},
     "output_type": "execute_result"
    }
   ],
   "source": [
    "import proveit\n",
    "# Automation is not needed when only showing a stored proof:\n",
    "proveit.defaults.automation = False # This will speed things up.\n",
    "proveit.defaults.inline_pngs = False # Makes files smaller.\n",
    "%show_proof"
   ]
  },
  {
   "cell_type": "code",
   "execution_count": null,
   "metadata": {},
   "outputs": [],
   "source": []
  }
 ],
 "metadata": {
  "kernelspec": {
   "display_name": "Python 3",
   "language": "python",
   "name": "python3"
  },
  "language_info": {
   "codemirror_mode": {
    "name": "ipython",
    "version": 3
   },
   "file_extension": ".py",
   "mimetype": "text/x-python",
   "name": "python",
   "nbconvert_exporter": "python",
   "pygments_lexer": "ipython3",
   "version": "3.7.3"
  }
 },
 "nbformat": 4,
 "nbformat_minor": 1
}
