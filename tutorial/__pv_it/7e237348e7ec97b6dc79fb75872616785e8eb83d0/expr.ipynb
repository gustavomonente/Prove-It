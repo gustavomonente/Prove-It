{
 "cells": [
  {
   "cell_type": "markdown",
   "metadata": {},
   "source": [
    "Expression of type <a class=\"ProveItLink\" href=\"../../../doc/html/api/proveit.logic.Forall.html\">Forall</a>\n",
    "=======================\n",
    "# from context <a class=\"ProveItLink\" href=\"../../_context_.ipynb\">tutorial</a>"
   ]
  },
  {
   "cell_type": "code",
   "execution_count": 1,
   "metadata": {},
   "outputs": [],
   "source": [
    "import proveit\n",
    "# Automation is not needed when building an expression:\n",
    "proveit.defaults.automation = False # This will speed things up.\n",
    "proveit.defaults.inline_pngs = False # Makes files smaller.\n",
    "# import Expression classes needed to build the expression\n",
    "from proveit import ExprRange, IndexedVar, Variable\n",
    "from proveit._common_ import C, i\n",
    "from proveit.logic import Forall, Or\n",
    "from proveit.number import one"
   ]
  },
  {
   "cell_type": "code",
   "execution_count": 2,
   "metadata": {},
   "outputs": [
    {
     "data": {
      "text/html": [
       "<strong id=\"expr\">expr:</strong> <a class=\"ProveItLink\" href=\"expr.ipynb\"><img src=\"expr.png\" style=\"display:inline;vertical-align:middle;\" /></a><br>"
      ],
      "text/plain": [
       "expr: forall_{C_{1}, ..C_{_a}.., C_{i}} (C_{1} or ..C_{_a}.. or C_{i})"
      ]
     },
     "execution_count": 2,
     "metadata": {},
     "output_type": "execute_result"
    }
   ],
   "source": [
    "# build up the expression from sub-expressions\n",
    "subExpr1 = Variable(\"_a\", latexFormat = r\"{_{-}a}\")\n",
    "subExpr2 = ExprRange(subExpr1, IndexedVar(C, subExpr1), one, i)\n",
    "expr = Forall([subExpr2], Or(subExpr2))"
   ]
  },
  {
   "cell_type": "code",
   "execution_count": 3,
   "metadata": {},
   "outputs": [
    {
     "name": "stdout",
     "output_type": "stream",
     "text": [
      "Passed sanity check: built 'expr' is the same as the stored Expression.\n"
     ]
    }
   ],
   "source": [
    "# check that the built expression is the same as the stored expression\n",
    "%check_expr"
   ]
  },
  {
   "cell_type": "code",
   "execution_count": 4,
   "metadata": {},
   "outputs": [
    {
     "name": "stdout",
     "output_type": "stream",
     "text": [
      "\\forall_{C_{1}, \\ldots, C_{i}}~\\left(C_{1} \\lor \\ldots \\lor C_{i}\\right)\n"
     ]
    }
   ],
   "source": [
    "# Show the LaTeX representation of the expression for convenience if you need it.\n",
    "print(expr.latex())"
   ]
  },
  {
   "cell_type": "code",
   "execution_count": 5,
   "metadata": {},
   "outputs": [
    {
     "data": {
      "text/html": [
       "<table><tr><th>&nbsp;</th><th>core type</th><th>sub-expressions</th><th>expression</th></tr>\n",
       "<tr><td>0</td><td>Operation</td><td>operator:&nbsp;1<br>operand:&nbsp;2<br></td><td><a class=\"ProveItLink\" href=\"expr.ipynb\"><img src=\"expr.png\" style=\"display:inline;vertical-align:middle;\" /></a></td></tr>\n",
       "<tr><td>1</td><td>Literal</td><td></td><td><a class=\"ProveItLink\" href=\"../../../packages/proveit/logic/boolean/quantification/universal/__pv_it/fd9c772d6675566ed52a6897806f45eb08a4ea910/expr.ipynb\"><img src=\"../../../packages/proveit/logic/boolean/quantification/universal/__pv_it/fd9c772d6675566ed52a6897806f45eb08a4ea910/expr.png\" style=\"display:inline;vertical-align:middle;\" /></a></td></tr>\n",
       "<tr><td>2</td><td>Lambda</td><td>parameter:&nbsp;6<br>body:&nbsp;3<br></td><td><a class=\"ProveItLink\" href=\"../2b2d617291c779f67f39ae7c015e9238e0808a250/expr.ipynb\"><img src=\"../2b2d617291c779f67f39ae7c015e9238e0808a250/expr.png\" style=\"display:inline;vertical-align:middle;\" /></a></td></tr>\n",
       "<tr><td>3</td><td>Operation</td><td>operator:&nbsp;4<br>operands:&nbsp;5<br></td><td><a class=\"ProveItLink\" href=\"../c6c3ae2e263b2d23fab618900eea1a43e39644c80/expr.ipynb\"><img src=\"../c6c3ae2e263b2d23fab618900eea1a43e39644c80/expr.png\" style=\"display:inline;vertical-align:middle;\" /></a></td></tr>\n",
       "<tr><td>4</td><td>Literal</td><td></td><td><a class=\"ProveItLink\" href=\"../../../packages/proveit/logic/boolean/disjunction/__pv_it/8a6d9fc46c84b3911a71fbae15627dc2acebe2890/expr.ipynb\"><img src=\"../../../packages/proveit/logic/boolean/disjunction/__pv_it/8a6d9fc46c84b3911a71fbae15627dc2acebe2890/expr.png\" style=\"display:inline;vertical-align:middle;\" /></a></td></tr>\n",
       "<tr><td>5</td><td>ExprTuple</td><td>6</td><td><a class=\"ProveItLink\" href=\"../2d05b9c66464a9a7c24d00378ff5282cc6ca99600/expr.ipynb\"><img src=\"../2d05b9c66464a9a7c24d00378ff5282cc6ca99600/expr.png\" style=\"display:inline;vertical-align:middle;\" /></a></td></tr>\n",
       "<tr><td>6</td><td>ExprRange</td><td>lambda_map:&nbsp;7<br>start_index:&nbsp;8<br>end_index:&nbsp;9<br></td><td><a class=\"ProveItLink\" href=\"../d44daebd518afff72b1a7caacf0ab884b6d0285b0/expr.ipynb\"><img src=\"../d44daebd518afff72b1a7caacf0ab884b6d0285b0/expr.png\" style=\"display:inline;vertical-align:middle;\" /></a></td></tr>\n",
       "<tr><td>7</td><td>Lambda</td><td>parameter:&nbsp;12<br>body:&nbsp;10<br></td><td><a class=\"ProveItLink\" href=\"../1f1f93a97ffa923da2b370597cfe676c10d3dee70/expr.ipynb\"><img src=\"../1f1f93a97ffa923da2b370597cfe676c10d3dee70/expr.png\" style=\"display:inline;vertical-align:middle;\" /></a></td></tr>\n",
       "<tr><td>8</td><td>Literal</td><td></td><td><a class=\"ProveItLink\" href=\"../../../packages/proveit/number/numeral/__pv_it/f086f8c372bd40a2458306ddfdbb29f3dc6f63030/expr.ipynb\"><img src=\"../../../packages/proveit/number/numeral/__pv_it/f086f8c372bd40a2458306ddfdbb29f3dc6f63030/expr.png\" style=\"display:inline;vertical-align:middle;\" /></a></td></tr>\n",
       "<tr><td>9</td><td>Variable</td><td></td><td><a class=\"ProveItLink\" href=\"../../../packages/proveit/__pv_it/557ab5defdcd46aa58168b08767502985122cd490/expr.ipynb\"><img src=\"../../../packages/proveit/__pv_it/557ab5defdcd46aa58168b08767502985122cd490/expr.png\" style=\"display:inline;vertical-align:middle;\" /></a></td></tr>\n",
       "<tr><td>10</td><td>IndexedVar</td><td>variable:&nbsp;11<br>index:&nbsp;12<br></td><td><a class=\"ProveItLink\" href=\"../3b86bd3b2e16136132e508dd7cfa1ad89a15b7bf0/expr.ipynb\"><img src=\"../3b86bd3b2e16136132e508dd7cfa1ad89a15b7bf0/expr.png\" style=\"display:inline;vertical-align:middle;\" /></a></td></tr>\n",
       "<tr><td>11</td><td>Variable</td><td></td><td><a class=\"ProveItLink\" href=\"../../../packages/proveit/__pv_it/dcb5a3e430485237dfe486162b026a4affb149300/expr.ipynb\"><img src=\"../../../packages/proveit/__pv_it/dcb5a3e430485237dfe486162b026a4affb149300/expr.png\" style=\"display:inline;vertical-align:middle;\" /></a></td></tr>\n",
       "<tr><td>12</td><td>Variable</td><td></td><td><a class=\"ProveItLink\" href=\"../1e653f789234b245ee7fea7caad998c139d617410/expr.ipynb\"><img src=\"../1e653f789234b245ee7fea7caad998c139d617410/expr.png\" style=\"display:inline;vertical-align:middle;\" /></a></td></tr>\n",
       "</table>\n"
      ],
      "text/plain": [
       "0. forall_{C_{1}, ..C_{_a}.., C_{i}} (C_{1} or ..C_{_a}.. or C_{i})\n",
       "   core type: Operation\n",
       "   operator: 1\n",
       "   operand: 2\n",
       "1. forall\n",
       "   core type: Literal\n",
       "   sub-expressions: \n",
       "2. (C_{1}, ..C_{_a}.., C_{i}) -> (C_{1} or ..C_{_a}.. or C_{i})\n",
       "   core type: Lambda\n",
       "   parameter: 6\n",
       "   body: 3\n",
       "3. C_{1} or ..C_{_a}.. or C_{i}\n",
       "   core type: Operation\n",
       "   operator: 4\n",
       "   operands: 5\n",
       "4. or\n",
       "   core type: Literal\n",
       "   sub-expressions: \n",
       "5. (C_{1}, ..C_{_a}.., C_{i})\n",
       "   core type: ExprTuple\n",
       "   sub-expressions: 6\n",
       "6. C_{1}, ..C_{_a}.., C_{i}\n",
       "   core type: ExprRange\n",
       "   lambda_map: 7\n",
       "   start_index: 8\n",
       "   end_index: 9\n",
       "7. _a -> C_{_a}\n",
       "   core type: Lambda\n",
       "   parameter: 12\n",
       "   body: 10\n",
       "8. 1\n",
       "   core type: Literal\n",
       "   sub-expressions: \n",
       "9. i\n",
       "   core type: Variable\n",
       "   sub-expressions: \n",
       "10. C_{_a}\n",
       "    core type: IndexedVar\n",
       "variable: 11\n",
       "index: 12\n",
       "11. C\n",
       "    core type: Variable\n",
       "    sub-expressions: \n",
       "12. _a\n",
       "    core type: Variable\n",
       "    sub-expressions: "
      ]
     },
     "execution_count": 5,
     "metadata": {},
     "output_type": "execute_result"
    }
   ],
   "source": [
    "# display the expression information\n",
    "expr.exprInfo()"
   ]
  },
  {
   "cell_type": "code",
   "execution_count": null,
   "metadata": {},
   "outputs": [],
   "source": []
  }
 ],
 "metadata": {
  "kernelspec": {
   "display_name": "Python 3",
   "language": "python",
   "name": "python3"
  },
  "language_info": {
   "codemirror_mode": {
    "name": "ipython",
    "version": 3
   },
   "file_extension": ".py",
   "mimetype": "text/x-python",
   "name": "python",
   "nbconvert_exporter": "python",
   "pygments_lexer": "ipython3",
   "version": "3.7.3"
  }
 },
 "nbformat": 4,
 "nbformat_minor": 1
}
