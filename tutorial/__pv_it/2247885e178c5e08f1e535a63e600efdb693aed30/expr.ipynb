{
 "cells": [
  {
   "cell_type": "markdown",
   "metadata": {},
   "source": [
    "Expression of type <a class=\"ProveItLink\" href=\"../../../doc/html/api/proveit.logic.Forall.html\">Forall</a>\n",
    "=======================\n",
    "# from context <a class=\"ProveItLink\" href=\"../../_context_.ipynb\">tutorial</a>"
   ]
  },
  {
   "cell_type": "code",
   "execution_count": 1,
   "metadata": {},
   "outputs": [],
   "source": [
    "import proveit\n",
    "# Automation is not needed when building an expression:\n",
    "proveit.defaults.automation = False # This will speed things up.\n",
    "proveit.defaults.inline_pngs = False # Makes files smaller.\n",
    "# import Expression classes needed to build the expression\n",
    "from proveit import ExprRange, IndexedVar, Variable\n",
    "from proveit._common_ import A, i\n",
    "from proveit.logic import And, Forall, Not, Or\n",
    "from proveit.number import one"
   ]
  },
  {
   "cell_type": "code",
   "execution_count": 2,
   "metadata": {},
   "outputs": [
    {
     "data": {
      "text/html": [
       "<strong id=\"expr\">expr:</strong> <a class=\"ProveItLink\" href=\"../00921461de57a690a67a985d5a92744fb0502dfa0/expr.ipynb\"><img src=\"../00921461de57a690a67a985d5a92744fb0502dfa0/expr.png\" style=\"display:inline;vertical-align:middle;\" /></a><br>"
      ],
      "text/plain": [
       "expr: forall_{A_{1}, ..A_{_a}.., A_{1} | [not]([not](A_{1}) and ..[not](A_{i}).. and [not](A_{1}))} (A_{1} or ..A_{_a}.. or A_{1})"
      ]
     },
     "execution_count": 2,
     "metadata": {},
     "output_type": "execute_result"
    }
   ],
   "source": [
    "# build up the expression from sub-expressions\n",
    "subExpr1 = Variable(\"_a\", latexFormat = r\"{_{-}a}\")\n",
    "subExpr2 = ExprRange(subExpr1, IndexedVar(A, subExpr1), one, one)\n",
    "expr = Forall([subExpr2], Or(subExpr2), condition = Not(And(ExprRange(i, Not(IndexedVar(A, i)), one, one))))"
   ]
  },
  {
   "cell_type": "code",
   "execution_count": 3,
   "metadata": {},
   "outputs": [
    {
     "name": "stdout",
     "output_type": "stream",
     "text": [
      "Passed sanity check: built 'expr' is the same as the stored Expression.\n"
     ]
    }
   ],
   "source": [
    "# check that the built expression is the same as the stored expression\n",
    "%check_expr"
   ]
  },
  {
   "cell_type": "code",
   "execution_count": 4,
   "metadata": {},
   "outputs": [
    {
     "name": "stdout",
     "output_type": "stream",
     "text": [
      "\\forall_{A_{1}, \\ldots, A_{1}~|~\\lnot \\left((\\lnot A_{1}) \\land \\ldots \\land (\\lnot A_{1})\\right)}~\\left(A_{1} \\lor \\ldots \\lor A_{1}\\right)\n"
     ]
    }
   ],
   "source": [
    "# Show the LaTeX representation of the expression for convenience if you need it.\n",
    "print(expr.latex())"
   ]
  },
  {
   "cell_type": "code",
   "execution_count": 5,
   "metadata": {},
   "outputs": [
    {
     "data": {
      "text/html": [
       "<table><tr><th>&nbsp;</th><th>core type</th><th>sub-expressions</th><th>expression</th></tr>\n",
       "<tr><td>0</td><td>Operation</td><td>operator:&nbsp;1<br>operand:&nbsp;2<br></td><td><a class=\"ProveItLink\" href=\"../00921461de57a690a67a985d5a92744fb0502dfa0/expr.ipynb\"><img src=\"../00921461de57a690a67a985d5a92744fb0502dfa0/expr.png\" style=\"display:inline;vertical-align:middle;\" /></a></td></tr>\n",
       "<tr><td>1</td><td>Literal</td><td></td><td><a class=\"ProveItLink\" href=\"../../../packages/proveit/logic/boolean/quantification/universal/__pv_it/fd9c772d6675566ed52a6897806f45eb08a4ea910/expr.ipynb\"><img src=\"../../../packages/proveit/logic/boolean/quantification/universal/__pv_it/fd9c772d6675566ed52a6897806f45eb08a4ea910/expr.png\" style=\"display:inline;vertical-align:middle;\" /></a></td></tr>\n",
       "<tr><td>2</td><td>Lambda</td><td>parameter:&nbsp;9<br>body:&nbsp;3<br></td><td><a class=\"ProveItLink\" href=\"../c6f302b0671a536b0ee8a53bba73728a772647ad0/expr.ipynb\"><img src=\"../c6f302b0671a536b0ee8a53bba73728a772647ad0/expr.png\" style=\"display:inline;vertical-align:middle;\" /></a></td></tr>\n",
       "<tr><td>3</td><td>Conditional</td><td>value:&nbsp;4<br>condition:&nbsp;5<br></td><td><a class=\"ProveItLink\" href=\"../33b3c7fd8f56eafdbb36650b59c16343615853dc0/expr.ipynb\"><img src=\"../33b3c7fd8f56eafdbb36650b59c16343615853dc0/expr.png\" style=\"display:inline;vertical-align:middle;\" /></a></td></tr>\n",
       "<tr><td>4</td><td>Operation</td><td>operator:&nbsp;6<br>operands:&nbsp;7<br></td><td><a class=\"ProveItLink\" href=\"../7d74d7b56939da7f37f385aa6648e51be1574c3f0/expr.ipynb\"><img src=\"../7d74d7b56939da7f37f385aa6648e51be1574c3f0/expr.png\" style=\"display:inline;vertical-align:middle;\" /></a></td></tr>\n",
       "<tr><td>5</td><td>Operation</td><td>operator:&nbsp;19<br>operand:&nbsp;8<br></td><td><a class=\"ProveItLink\" href=\"../bd6e5b1030fee482992a767d5c00140a84bbd2860/expr.ipynb\"><img src=\"../bd6e5b1030fee482992a767d5c00140a84bbd2860/expr.png\" style=\"display:inline;vertical-align:middle;\" /></a></td></tr>\n",
       "<tr><td>6</td><td>Literal</td><td></td><td><a class=\"ProveItLink\" href=\"../../../packages/proveit/logic/boolean/disjunction/__pv_it/8a6d9fc46c84b3911a71fbae15627dc2acebe2890/expr.ipynb\"><img src=\"../../../packages/proveit/logic/boolean/disjunction/__pv_it/8a6d9fc46c84b3911a71fbae15627dc2acebe2890/expr.png\" style=\"display:inline;vertical-align:middle;\" /></a></td></tr>\n",
       "<tr><td>7</td><td>ExprTuple</td><td>9</td><td><a class=\"ProveItLink\" href=\"../86aee6b2c38fe9f427a06c33d89f9dd1b25a33e00/expr.ipynb\"><img src=\"../86aee6b2c38fe9f427a06c33d89f9dd1b25a33e00/expr.png\" style=\"display:inline;vertical-align:middle;\" /></a></td></tr>\n",
       "<tr><td>8</td><td>Operation</td><td>operator:&nbsp;10<br>operands:&nbsp;11<br></td><td><a class=\"ProveItLink\" href=\"../c1528bf2223658003591a2cbfcaa25d6a64f19e30/expr.ipynb\"><img src=\"../c1528bf2223658003591a2cbfcaa25d6a64f19e30/expr.png\" style=\"display:inline;vertical-align:middle;\" /></a></td></tr>\n",
       "<tr><td>9</td><td>ExprRange</td><td>lambda_map:&nbsp;12<br>start_index:&nbsp;16<br>end_index:&nbsp;16<br></td><td><a class=\"ProveItLink\" href=\"../826a634e5746a6104bdbb1fbac27f1da9b6d069f0/expr.ipynb\"><img src=\"../826a634e5746a6104bdbb1fbac27f1da9b6d069f0/expr.png\" style=\"display:inline;vertical-align:middle;\" /></a></td></tr>\n",
       "<tr><td>10</td><td>Literal</td><td></td><td><a class=\"ProveItLink\" href=\"../../../packages/proveit/logic/boolean/conjunction/__pv_it/f41cc6b553210927c09f19a8a39cdf860a5585930/expr.ipynb\"><img src=\"../../../packages/proveit/logic/boolean/conjunction/__pv_it/f41cc6b553210927c09f19a8a39cdf860a5585930/expr.png\" style=\"display:inline;vertical-align:middle;\" /></a></td></tr>\n",
       "<tr><td>11</td><td>ExprTuple</td><td>13</td><td><a class=\"ProveItLink\" href=\"../892d4381633df87068107099ae28b846ed4a7bb00/expr.ipynb\"><img src=\"../892d4381633df87068107099ae28b846ed4a7bb00/expr.png\" style=\"display:inline;vertical-align:middle;\" /></a></td></tr>\n",
       "<tr><td>12</td><td>Lambda</td><td>parameter:&nbsp;17<br>body:&nbsp;14<br></td><td><a class=\"ProveItLink\" href=\"../../../packages/proveit/core_expr_types/__pv_it/cbf4a2d6122f8f76eeb36bd1c0d8bf52d8e05a560/expr.ipynb\"><img src=\"../../../packages/proveit/core_expr_types/__pv_it/cbf4a2d6122f8f76eeb36bd1c0d8bf52d8e05a560/expr.png\" style=\"display:inline;vertical-align:middle;\" /></a></td></tr>\n",
       "<tr><td>13</td><td>ExprRange</td><td>lambda_map:&nbsp;15<br>start_index:&nbsp;16<br>end_index:&nbsp;16<br></td><td><a class=\"ProveItLink\" href=\"../bf78c3e9c175f29033082e5e82218633e75df4530/expr.ipynb\"><img src=\"../bf78c3e9c175f29033082e5e82218633e75df4530/expr.png\" style=\"display:inline;vertical-align:middle;\" /></a></td></tr>\n",
       "<tr><td>14</td><td>IndexedVar</td><td>variable:&nbsp;21<br>index:&nbsp;17<br></td><td><a class=\"ProveItLink\" href=\"../../../packages/proveit/core_expr_types/__pv_it/a433d6021a2b0d85d326303b1d692b18969c0dc30/expr.ipynb\"><img src=\"../../../packages/proveit/core_expr_types/__pv_it/a433d6021a2b0d85d326303b1d692b18969c0dc30/expr.png\" style=\"display:inline;vertical-align:middle;\" /></a></td></tr>\n",
       "<tr><td>15</td><td>Lambda</td><td>parameter:&nbsp;22<br>body:&nbsp;18<br></td><td><a class=\"ProveItLink\" href=\"../4a595f2eaf660c58f141211775ad7c62141d32330/expr.ipynb\"><img src=\"../4a595f2eaf660c58f141211775ad7c62141d32330/expr.png\" style=\"display:inline;vertical-align:middle;\" /></a></td></tr>\n",
       "<tr><td>16</td><td>Literal</td><td></td><td><a class=\"ProveItLink\" href=\"../../../packages/proveit/number/numeral/__pv_it/f086f8c372bd40a2458306ddfdbb29f3dc6f63030/expr.ipynb\"><img src=\"../../../packages/proveit/number/numeral/__pv_it/f086f8c372bd40a2458306ddfdbb29f3dc6f63030/expr.png\" style=\"display:inline;vertical-align:middle;\" /></a></td></tr>\n",
       "<tr><td>17</td><td>Variable</td><td></td><td><a class=\"ProveItLink\" href=\"../../../packages/proveit/core_expr_types/__pv_it/1e653f789234b245ee7fea7caad998c139d617410/expr.ipynb\"><img src=\"../../../packages/proveit/core_expr_types/__pv_it/1e653f789234b245ee7fea7caad998c139d617410/expr.png\" style=\"display:inline;vertical-align:middle;\" /></a></td></tr>\n",
       "<tr><td>18</td><td>Operation</td><td>operator:&nbsp;19<br>operand:&nbsp;20<br></td><td><a class=\"ProveItLink\" href=\"../b559b08efe53212756a94787a0892e231f2dfe530/expr.ipynb\"><img src=\"../b559b08efe53212756a94787a0892e231f2dfe530/expr.png\" style=\"display:inline;vertical-align:middle;\" /></a></td></tr>\n",
       "<tr><td>19</td><td>Literal</td><td></td><td><a class=\"ProveItLink\" href=\"../../../packages/proveit/logic/boolean/negation/__pv_it/d347242e9ffe8b0d3a039ea6a149983fef6cbe6c0/expr.ipynb\"><img src=\"../../../packages/proveit/logic/boolean/negation/__pv_it/d347242e9ffe8b0d3a039ea6a149983fef6cbe6c0/expr.png\" style=\"display:inline;vertical-align:middle;\" /></a></td></tr>\n",
       "<tr><td>20</td><td>IndexedVar</td><td>variable:&nbsp;21<br>index:&nbsp;22<br></td><td><a class=\"ProveItLink\" href=\"../9c79ac507b7d7d0f650176c17e8ca95736050cc40/expr.ipynb\"><img src=\"../9c79ac507b7d7d0f650176c17e8ca95736050cc40/expr.png\" style=\"display:inline;vertical-align:middle;\" /></a></td></tr>\n",
       "<tr><td>21</td><td>Variable</td><td></td><td><a class=\"ProveItLink\" href=\"../../../packages/proveit/__pv_it/d3792d0d8642fdf1cd2a3a9b32c673ee13653de00/expr.ipynb\"><img src=\"../../../packages/proveit/__pv_it/d3792d0d8642fdf1cd2a3a9b32c673ee13653de00/expr.png\" style=\"display:inline;vertical-align:middle;\" /></a></td></tr>\n",
       "<tr><td>22</td><td>Variable</td><td></td><td><a class=\"ProveItLink\" href=\"../../../packages/proveit/__pv_it/557ab5defdcd46aa58168b08767502985122cd490/expr.ipynb\"><img src=\"../../../packages/proveit/__pv_it/557ab5defdcd46aa58168b08767502985122cd490/expr.png\" style=\"display:inline;vertical-align:middle;\" /></a></td></tr>\n",
       "</table>\n"
      ],
      "text/plain": [
       "0. forall_{A_{1}, ..A_{_a}.., A_{1} | [not]([not](A_{1}) and ..[not](A_{i}).. and [not](A_{1}))} (A_{1} or ..A_{_a}.. or A_{1})\n",
       "   core type: Operation\n",
       "   operator: 1\n",
       "   operand: 2\n",
       "1. forall\n",
       "   core type: Literal\n",
       "   sub-expressions: \n",
       "2. (A_{1}, ..A_{_a}.., A_{1}) -> {A_{1} or ..A_{_a}.. or A_{1} if [not]([not](A_{1}) and ..[not](A_{i}).. and [not](A_{1})).\n",
       "   core type: Lambda\n",
       "   parameter: 9\n",
       "   body: 3\n",
       "3. {A_{1} or ..A_{_a}.. or A_{1} if [not]([not](A_{1}) and ..[not](A_{i}).. and [not](A_{1})).\n",
       "   core type: Conditional\n",
       "   value: 4\n",
       "   condition: 5\n",
       "4. A_{1} or ..A_{_a}.. or A_{1}\n",
       "   core type: Operation\n",
       "   operator: 6\n",
       "   operands: 7\n",
       "5. [not]([not](A_{1}) and ..[not](A_{i}).. and [not](A_{1}))\n",
       "   core type: Operation\n",
       "   operator: 19\n",
       "   operand: 8\n",
       "6. or\n",
       "   core type: Literal\n",
       "   sub-expressions: \n",
       "7. (A_{1}, ..A_{_a}.., A_{1})\n",
       "   core type: ExprTuple\n",
       "   sub-expressions: 9\n",
       "8. [not](A_{1}) and ..[not](A_{i}).. and [not](A_{1})\n",
       "   core type: Operation\n",
       "   operator: 10\n",
       "   operands: 11\n",
       "9. A_{1}, ..A_{_a}.., A_{1}\n",
       "   core type: ExprRange\n",
       "   lambda_map: 12\n",
       "   start_index: 16\n",
       "   end_index: 16\n",
       "10. and\n",
       "    core type: Literal\n",
       "    sub-expressions: \n",
       "11. ([not](A_{1}), ..[not](A_{i}).., [not](A_{1}))\n",
       "    core type: ExprTuple\n",
       "    sub-expressions: 13\n",
       "12. _a -> A_{_a}\n",
       "    core type: Lambda\n",
       "    parameter: 17\n",
       "    body: 14\n",
       "13. [not](A_{1}), ..[not](A_{i}).., [not](A_{1})\n",
       "    core type: ExprRange\n",
       "    lambda_map: 15\n",
       "    start_index: 16\n",
       "    end_index: 16\n",
       "14. A_{_a}\n",
       "    core type: IndexedVar\n",
       "variable: 21\n",
       "index: 17\n",
       "15. i -> [not](A_{i})\n",
       "    core type: Lambda\n",
       "    parameter: 22\n",
       "    body: 18\n",
       "16. 1\n",
       "    core type: Literal\n",
       "    sub-expressions: \n",
       "17. _a\n",
       "    core type: Variable\n",
       "    sub-expressions: \n",
       "18. [not](A_{i})\n",
       "    core type: Operation\n",
       "    operator: 19\n",
       "    operand: 20\n",
       "19. not\n",
       "    core type: Literal\n",
       "    sub-expressions: \n",
       "20. A_{i}\n",
       "    core type: IndexedVar\n",
       "variable: 21\n",
       "index: 22\n",
       "21. A\n",
       "    core type: Variable\n",
       "    sub-expressions: \n",
       "22. i\n",
       "    core type: Variable\n",
       "    sub-expressions: "
      ]
     },
     "execution_count": 5,
     "metadata": {},
     "output_type": "execute_result"
    }
   ],
   "source": [
    "# display the expression information\n",
    "expr.exprInfo()"
   ]
  },
  {
   "cell_type": "code",
   "execution_count": null,
   "metadata": {},
   "outputs": [],
   "source": []
  }
 ],
 "metadata": {
  "kernelspec": {
   "display_name": "Python 3",
   "language": "python",
   "name": "python3"
  },
  "language_info": {
   "codemirror_mode": {
    "name": "ipython",
    "version": 3
   },
   "file_extension": ".py",
   "mimetype": "text/x-python",
   "name": "python",
   "nbconvert_exporter": "python",
   "pygments_lexer": "ipython3",
   "version": "3.7.3"
  }
 },
 "nbformat": 4,
 "nbformat_minor": 1
}
