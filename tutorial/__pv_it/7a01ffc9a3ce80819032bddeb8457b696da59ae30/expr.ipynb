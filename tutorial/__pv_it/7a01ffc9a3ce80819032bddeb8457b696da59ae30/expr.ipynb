{
 "cells": [
  {
   "cell_type": "markdown",
   "metadata": {},
   "source": [
    "Expression of type <a class=\"ProveItLink\" href=\"../../../doc/html/api/proveit.Lambda.html\">Lambda</a>\n",
    "=======================\n",
    "# from context <a class=\"ProveItLink\" href=\"../../_context_.ipynb\">tutorial</a>"
   ]
  },
  {
   "cell_type": "code",
   "execution_count": 1,
   "metadata": {},
   "outputs": [],
   "source": [
    "import proveit\n",
    "# Automation is not needed when building an expression:\n",
    "proveit.defaults.automation = False # This will speed things up.\n",
    "proveit.defaults.inline_pngs = False # Makes files smaller.\n",
    "# import Expression classes needed to build the expression\n",
    "from proveit import ExprRange, IndexedVar, Lambda, Variable\n",
    "from proveit._common_ import A, j, m\n",
    "from proveit.core_expr_types._common_ import A_1_to_m, A_i_to_j\n",
    "from proveit.logic import And, Forall, Or\n",
    "from proveit.number import one"
   ]
  },
  {
   "cell_type": "code",
   "execution_count": 2,
   "metadata": {},
   "outputs": [
    {
     "data": {
      "text/html": [
       "<strong id=\"expr\">expr:</strong> <a class=\"ProveItLink\" href=\"expr.ipynb\"><img src=\"expr.png\" style=\"display:inline;vertical-align:middle;\" /></a><br>"
      ],
      "text/plain": [
       "expr: (A_{1}, ..A_{_a}.., A_{m}) -> (A_{1} and ..A_{_a}.. and A_{j} and [forall_{A_{i}, ..A_{_a}.., A_{j}} (A_{i} or ..A_{_a}.. or A_{j})] and A_{m})"
      ]
     },
     "execution_count": 2,
     "metadata": {},
     "output_type": "execute_result"
    }
   ],
   "source": [
    "# build up the expression from sub-expressions\n",
    "subExpr1 = Variable(\"_a\", latexFormat = r\"{_{-}a}\")\n",
    "expr = Lambda(A_1_to_m, And(ExprRange(subExpr1, IndexedVar(A, subExpr1), one, j), Forall([A_i_to_j], Or(A_i_to_j)), IndexedVar(A, m)))"
   ]
  },
  {
   "cell_type": "code",
   "execution_count": 3,
   "metadata": {},
   "outputs": [
    {
     "name": "stdout",
     "output_type": "stream",
     "text": [
      "Passed sanity check: built 'expr' is the same as the stored Expression.\n"
     ]
    }
   ],
   "source": [
    "# check that the built expression is the same as the stored expression\n",
    "%check_expr"
   ]
  },
  {
   "cell_type": "code",
   "execution_count": 4,
   "metadata": {},
   "outputs": [
    {
     "name": "stdout",
     "output_type": "stream",
     "text": [
      "\\left(A_{1}, \\ldots, A_{m}\\right) \\mapsto \\left(A_{1} \\land \\ldots \\land A_{j} \\land \\left[\\forall_{A_{i}, \\ldots, A_{j}}~\\left(A_{i} \\lor \\ldots \\lor A_{j}\\right)\\right] \\land A_{m}\\right)\n"
     ]
    }
   ],
   "source": [
    "# Show the LaTeX representation of the expression for convenience if you need it.\n",
    "print(expr.latex())"
   ]
  },
  {
   "cell_type": "code",
   "execution_count": 5,
   "metadata": {},
   "outputs": [
    {
     "data": {
      "text/html": [
       "<table><tr><th>&nbsp;</th><th>core type</th><th>sub-expressions</th><th>expression</th></tr>\n",
       "<tr><td>0</td><td>Lambda</td><td>parameter:&nbsp;1<br>body:&nbsp;2<br></td><td><a class=\"ProveItLink\" href=\"expr.ipynb\"><img src=\"expr.png\" style=\"display:inline;vertical-align:middle;\" /></a></td></tr>\n",
       "<tr><td>1</td><td>ExprRange</td><td>lambda_map:&nbsp;16<br>start_index:&nbsp;8<br>end_index:&nbsp;11<br></td><td><a class=\"ProveItLink\" href=\"../../../packages/proveit/core_expr_types/__pv_it/1b1836f58ac701e2bebc4117b7c7261052ae85ae0/expr.ipynb\"><img src=\"../../../packages/proveit/core_expr_types/__pv_it/1b1836f58ac701e2bebc4117b7c7261052ae85ae0/expr.png\" style=\"display:inline;vertical-align:middle;\" /></a></td></tr>\n",
       "<tr><td>2</td><td>Operation</td><td>operator:&nbsp;3<br>operands:&nbsp;4<br></td><td><a class=\"ProveItLink\" href=\"../d3774be513bdb4fc311d25278cc7cba462df3d490/expr.ipynb\"><img src=\"../d3774be513bdb4fc311d25278cc7cba462df3d490/expr.png\" style=\"display:inline;vertical-align:middle;\" /></a></td></tr>\n",
       "<tr><td>3</td><td>Literal</td><td></td><td><a class=\"ProveItLink\" href=\"../../../packages/proveit/logic/boolean/conjunction/__pv_it/f41cc6b553210927c09f19a8a39cdf860a5585930/expr.ipynb\"><img src=\"../../../packages/proveit/logic/boolean/conjunction/__pv_it/f41cc6b553210927c09f19a8a39cdf860a5585930/expr.png\" style=\"display:inline;vertical-align:middle;\" /></a></td></tr>\n",
       "<tr><td>4</td><td>ExprTuple</td><td>5, 6, 7</td><td><a class=\"ProveItLink\" href=\"../97637930bb8ae7aeec8cd7261460b08bb8a16a1d0/expr.ipynb\"><img src=\"../97637930bb8ae7aeec8cd7261460b08bb8a16a1d0/expr.png\" style=\"display:inline;vertical-align:middle;\" /></a></td></tr>\n",
       "<tr><td>5</td><td>ExprRange</td><td>lambda_map:&nbsp;16<br>start_index:&nbsp;8<br>end_index:&nbsp;18<br></td><td><a class=\"ProveItLink\" href=\"../bfcafde02dc5795d3c9fd23cf4a70314d72bed670/expr.ipynb\"><img src=\"../bfcafde02dc5795d3c9fd23cf4a70314d72bed670/expr.png\" style=\"display:inline;vertical-align:middle;\" /></a></td></tr>\n",
       "<tr><td>6</td><td>Operation</td><td>operator:&nbsp;9<br>operand:&nbsp;10<br></td><td><a class=\"ProveItLink\" href=\"../e20235bdb62b27d78c503a5670ea4c39801771c10/expr.ipynb\"><img src=\"../e20235bdb62b27d78c503a5670ea4c39801771c10/expr.png\" style=\"display:inline;vertical-align:middle;\" /></a></td></tr>\n",
       "<tr><td>7</td><td>IndexedVar</td><td>variable:&nbsp;20<br>index:&nbsp;11<br></td><td><a class=\"ProveItLink\" href=\"../a55deaf09ad4390c4b88424740cb50bf3fc95bc40/expr.ipynb\"><img src=\"../a55deaf09ad4390c4b88424740cb50bf3fc95bc40/expr.png\" style=\"display:inline;vertical-align:middle;\" /></a></td></tr>\n",
       "<tr><td>8</td><td>Literal</td><td></td><td><a class=\"ProveItLink\" href=\"../../../packages/proveit/number/numeral/__pv_it/f086f8c372bd40a2458306ddfdbb29f3dc6f63030/expr.ipynb\"><img src=\"../../../packages/proveit/number/numeral/__pv_it/f086f8c372bd40a2458306ddfdbb29f3dc6f63030/expr.png\" style=\"display:inline;vertical-align:middle;\" /></a></td></tr>\n",
       "<tr><td>9</td><td>Literal</td><td></td><td><a class=\"ProveItLink\" href=\"../../../packages/proveit/logic/boolean/quantification/universal/__pv_it/fd9c772d6675566ed52a6897806f45eb08a4ea910/expr.ipynb\"><img src=\"../../../packages/proveit/logic/boolean/quantification/universal/__pv_it/fd9c772d6675566ed52a6897806f45eb08a4ea910/expr.png\" style=\"display:inline;vertical-align:middle;\" /></a></td></tr>\n",
       "<tr><td>10</td><td>Lambda</td><td>parameter:&nbsp;15<br>body:&nbsp;12<br></td><td><a class=\"ProveItLink\" href=\"../741f7839a73bcb3f177b926bcdd89dfed71e12570/expr.ipynb\"><img src=\"../741f7839a73bcb3f177b926bcdd89dfed71e12570/expr.png\" style=\"display:inline;vertical-align:middle;\" /></a></td></tr>\n",
       "<tr><td>11</td><td>Variable</td><td></td><td><a class=\"ProveItLink\" href=\"../../../packages/proveit/__pv_it/6e8a38e9a7e2b6af352562cd77e0eb4751f142620/expr.ipynb\"><img src=\"../../../packages/proveit/__pv_it/6e8a38e9a7e2b6af352562cd77e0eb4751f142620/expr.png\" style=\"display:inline;vertical-align:middle;\" /></a></td></tr>\n",
       "<tr><td>12</td><td>Operation</td><td>operator:&nbsp;13<br>operands:&nbsp;14<br></td><td><a class=\"ProveItLink\" href=\"../5dc0c7152852912d5be8632aafd3b614e8685c0c0/expr.ipynb\"><img src=\"../5dc0c7152852912d5be8632aafd3b614e8685c0c0/expr.png\" style=\"display:inline;vertical-align:middle;\" /></a></td></tr>\n",
       "<tr><td>13</td><td>Literal</td><td></td><td><a class=\"ProveItLink\" href=\"../../../packages/proveit/logic/boolean/disjunction/__pv_it/8a6d9fc46c84b3911a71fbae15627dc2acebe2890/expr.ipynb\"><img src=\"../../../packages/proveit/logic/boolean/disjunction/__pv_it/8a6d9fc46c84b3911a71fbae15627dc2acebe2890/expr.png\" style=\"display:inline;vertical-align:middle;\" /></a></td></tr>\n",
       "<tr><td>14</td><td>ExprTuple</td><td>15</td><td><a class=\"ProveItLink\" href=\"../9233aa7302795c489addc474ca7c2c032eca9a350/expr.ipynb\"><img src=\"../9233aa7302795c489addc474ca7c2c032eca9a350/expr.png\" style=\"display:inline;vertical-align:middle;\" /></a></td></tr>\n",
       "<tr><td>15</td><td>ExprRange</td><td>lambda_map:&nbsp;16<br>start_index:&nbsp;17<br>end_index:&nbsp;18<br></td><td><a class=\"ProveItLink\" href=\"../../../packages/proveit/core_expr_types/__pv_it/58799625c04fe217b810af6787ed963c0320b53d0/expr.ipynb\"><img src=\"../../../packages/proveit/core_expr_types/__pv_it/58799625c04fe217b810af6787ed963c0320b53d0/expr.png\" style=\"display:inline;vertical-align:middle;\" /></a></td></tr>\n",
       "<tr><td>16</td><td>Lambda</td><td>parameter:&nbsp;21<br>body:&nbsp;19<br></td><td><a class=\"ProveItLink\" href=\"../../../packages/proveit/core_expr_types/__pv_it/cbf4a2d6122f8f76eeb36bd1c0d8bf52d8e05a560/expr.ipynb\"><img src=\"../../../packages/proveit/core_expr_types/__pv_it/cbf4a2d6122f8f76eeb36bd1c0d8bf52d8e05a560/expr.png\" style=\"display:inline;vertical-align:middle;\" /></a></td></tr>\n",
       "<tr><td>17</td><td>Variable</td><td></td><td><a class=\"ProveItLink\" href=\"../../../packages/proveit/__pv_it/557ab5defdcd46aa58168b08767502985122cd490/expr.ipynb\"><img src=\"../../../packages/proveit/__pv_it/557ab5defdcd46aa58168b08767502985122cd490/expr.png\" style=\"display:inline;vertical-align:middle;\" /></a></td></tr>\n",
       "<tr><td>18</td><td>Variable</td><td></td><td><a class=\"ProveItLink\" href=\"../../../packages/proveit/__pv_it/6a5b5879f51878868f626bf09e4d76392d4779cd0/expr.ipynb\"><img src=\"../../../packages/proveit/__pv_it/6a5b5879f51878868f626bf09e4d76392d4779cd0/expr.png\" style=\"display:inline;vertical-align:middle;\" /></a></td></tr>\n",
       "<tr><td>19</td><td>IndexedVar</td><td>variable:&nbsp;20<br>index:&nbsp;21<br></td><td><a class=\"ProveItLink\" href=\"../../../packages/proveit/core_expr_types/__pv_it/a433d6021a2b0d85d326303b1d692b18969c0dc30/expr.ipynb\"><img src=\"../../../packages/proveit/core_expr_types/__pv_it/a433d6021a2b0d85d326303b1d692b18969c0dc30/expr.png\" style=\"display:inline;vertical-align:middle;\" /></a></td></tr>\n",
       "<tr><td>20</td><td>Variable</td><td></td><td><a class=\"ProveItLink\" href=\"../../../packages/proveit/__pv_it/d3792d0d8642fdf1cd2a3a9b32c673ee13653de00/expr.ipynb\"><img src=\"../../../packages/proveit/__pv_it/d3792d0d8642fdf1cd2a3a9b32c673ee13653de00/expr.png\" style=\"display:inline;vertical-align:middle;\" /></a></td></tr>\n",
       "<tr><td>21</td><td>Variable</td><td></td><td><a class=\"ProveItLink\" href=\"../../../packages/proveit/core_expr_types/__pv_it/1e653f789234b245ee7fea7caad998c139d617410/expr.ipynb\"><img src=\"../../../packages/proveit/core_expr_types/__pv_it/1e653f789234b245ee7fea7caad998c139d617410/expr.png\" style=\"display:inline;vertical-align:middle;\" /></a></td></tr>\n",
       "</table>\n"
      ],
      "text/plain": [
       "0. (A_{1}, ..A_{_a}.., A_{m}) -> (A_{1} and ..A_{_a}.. and A_{j} and [forall_{A_{i}, ..A_{_a}.., A_{j}} (A_{i} or ..A_{_a}.. or A_{j})] and A_{m})\n",
       "   core type: Lambda\n",
       "   parameter: 1\n",
       "   body: 2\n",
       "1. A_{1}, ..A_{_a}.., A_{m}\n",
       "   core type: ExprRange\n",
       "   lambda_map: 16\n",
       "   start_index: 8\n",
       "   end_index: 11\n",
       "2. A_{1} and ..A_{_a}.. and A_{j} and [forall_{A_{i}, ..A_{_a}.., A_{j}} (A_{i} or ..A_{_a}.. or A_{j})] and A_{m}\n",
       "   core type: Operation\n",
       "   operator: 3\n",
       "   operands: 4\n",
       "3. and\n",
       "   core type: Literal\n",
       "   sub-expressions: \n",
       "4. (A_{1}, ..A_{_a}.., A_{j}, forall_{A_{i}, ..A_{_a}.., A_{j}} (A_{i} or ..A_{_a}.. or A_{j}), A_{m})\n",
       "   core type: ExprTuple\n",
       "   sub-expressions: 5, 6, 7\n",
       "5. A_{1}, ..A_{_a}.., A_{j}\n",
       "   core type: ExprRange\n",
       "   lambda_map: 16\n",
       "   start_index: 8\n",
       "   end_index: 18\n",
       "6. forall_{A_{i}, ..A_{_a}.., A_{j}} (A_{i} or ..A_{_a}.. or A_{j})\n",
       "   core type: Operation\n",
       "   operator: 9\n",
       "   operand: 10\n",
       "7. A_{m}\n",
       "   core type: IndexedVar\n",
       "variable: 20\n",
       "index: 11\n",
       "8. 1\n",
       "   core type: Literal\n",
       "   sub-expressions: \n",
       "9. forall\n",
       "   core type: Literal\n",
       "   sub-expressions: \n",
       "10. (A_{i}, ..A_{_a}.., A_{j}) -> (A_{i} or ..A_{_a}.. or A_{j})\n",
       "    core type: Lambda\n",
       "    parameter: 15\n",
       "    body: 12\n",
       "11. m\n",
       "    core type: Variable\n",
       "    sub-expressions: \n",
       "12. A_{i} or ..A_{_a}.. or A_{j}\n",
       "    core type: Operation\n",
       "    operator: 13\n",
       "    operands: 14\n",
       "13. or\n",
       "    core type: Literal\n",
       "    sub-expressions: \n",
       "14. (A_{i}, ..A_{_a}.., A_{j})\n",
       "    core type: ExprTuple\n",
       "    sub-expressions: 15\n",
       "15. A_{i}, ..A_{_a}.., A_{j}\n",
       "    core type: ExprRange\n",
       "    lambda_map: 16\n",
       "    start_index: 17\n",
       "    end_index: 18\n",
       "16. _a -> A_{_a}\n",
       "    core type: Lambda\n",
       "    parameter: 21\n",
       "    body: 19\n",
       "17. i\n",
       "    core type: Variable\n",
       "    sub-expressions: \n",
       "18. j\n",
       "    core type: Variable\n",
       "    sub-expressions: \n",
       "19. A_{_a}\n",
       "    core type: IndexedVar\n",
       "variable: 20\n",
       "index: 21\n",
       "20. A\n",
       "    core type: Variable\n",
       "    sub-expressions: \n",
       "21. _a\n",
       "    core type: Variable\n",
       "    sub-expressions: "
      ]
     },
     "execution_count": 5,
     "metadata": {},
     "output_type": "execute_result"
    }
   ],
   "source": [
    "# display the expression information\n",
    "expr.exprInfo()"
   ]
  },
  {
   "cell_type": "code",
   "execution_count": null,
   "metadata": {},
   "outputs": [],
   "source": []
  }
 ],
 "metadata": {
  "kernelspec": {
   "display_name": "Python 3",
   "language": "python",
   "name": "python3"
  },
  "language_info": {
   "codemirror_mode": {
    "name": "ipython",
    "version": 3
   },
   "file_extension": ".py",
   "mimetype": "text/x-python",
   "name": "python",
   "nbconvert_exporter": "python",
   "pygments_lexer": "ipython3",
   "version": "3.7.3"
  }
 },
 "nbformat": 4,
 "nbformat_minor": 1
}
