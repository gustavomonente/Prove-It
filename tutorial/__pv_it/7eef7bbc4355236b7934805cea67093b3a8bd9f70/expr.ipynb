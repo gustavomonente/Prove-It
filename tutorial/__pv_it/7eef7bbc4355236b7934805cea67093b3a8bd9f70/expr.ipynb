{
 "cells": [
  {
   "cell_type": "markdown",
   "metadata": {},
   "source": [
    "Expression of type <a class=\"ProveItLink\" href=\"../../../doc/html/api/proveit.logic.Equals.html\">Equals</a>\n",
    "=======================\n",
    "# from context <a class=\"ProveItLink\" href=\"../../_context_.ipynb\">tutorial</a>"
   ]
  },
  {
   "cell_type": "code",
   "execution_count": 1,
   "metadata": {},
   "outputs": [],
   "source": [
    "import proveit\n",
    "# Automation is not needed when building an expression:\n",
    "proveit.defaults.automation = False # This will speed things up.\n",
    "proveit.defaults.inline_pngs = False # Makes files smaller.\n",
    "# import Expression classes needed to build the expression\n",
    "from proveit import ExprRange, Variable\n",
    "from proveit._common_ import i, j, m\n",
    "from proveit.logic import Equals\n",
    "from proveit.number import Add, Neg, one"
   ]
  },
  {
   "cell_type": "code",
   "execution_count": 2,
   "metadata": {},
   "outputs": [
    {
     "data": {
      "text/html": [
       "<strong id=\"expr\">expr:</strong> <a class=\"ProveItLink\" href=\"../0ac43ff87d2a6545f4774582608e1c95e79b3cf20/expr.ipynb\"><img src=\"../0ac43ff87d2a6545f4774582608e1c95e79b3cf20/expr.png\" style=\"display:inline;vertical-align:middle;\" /></a><br>"
      ],
      "text/plain": [
       "expr: (1, .._a.., i + (-1), i, .._a.., j, m) = (1, .._a.., j, m)"
      ]
     },
     "execution_count": 2,
     "metadata": {},
     "output_type": "execute_result"
    }
   ],
   "source": [
    "# build up the expression from sub-expressions\n",
    "subExpr1 = Variable(\"_a\", latexFormat = r\"{_{-}a}\")\n",
    "expr = Equals([ExprRange(subExpr1, subExpr1, one, Add(i, Neg(one)).withSubtractionAt()), ExprRange(subExpr1, subExpr1, i, j), m], [ExprRange(subExpr1, subExpr1, one, j), m])"
   ]
  },
  {
   "cell_type": "code",
   "execution_count": 3,
   "metadata": {},
   "outputs": [
    {
     "name": "stdout",
     "output_type": "stream",
     "text": [
      "Passed sanity check: built 'expr' is the same as the stored Expression.\n"
     ]
    }
   ],
   "source": [
    "# check that the built expression is the same as the stored expression\n",
    "%check_expr"
   ]
  },
  {
   "cell_type": "code",
   "execution_count": 4,
   "metadata": {},
   "outputs": [
    {
     "name": "stdout",
     "output_type": "stream",
     "text": [
      "\\left(1, \\ldots, i + \\left(-1\\right), i, \\ldots, j, m\\right) = \\left(1, \\ldots, j, m\\right)\n"
     ]
    }
   ],
   "source": [
    "# Show the LaTeX representation of the expression for convenience if you need it.\n",
    "print(expr.latex())"
   ]
  },
  {
   "cell_type": "code",
   "execution_count": 5,
   "metadata": {},
   "outputs": [
    {
     "data": {
      "text/html": [
       "<table><tr><th>&nbsp;</th><th>core type</th><th>sub-expressions</th><th>expression</th></tr>\n",
       "<tr><td>0</td><td>Operation</td><td>operator:&nbsp;1<br>operands:&nbsp;2<br></td><td><a class=\"ProveItLink\" href=\"../0ac43ff87d2a6545f4774582608e1c95e79b3cf20/expr.ipynb\"><img src=\"../0ac43ff87d2a6545f4774582608e1c95e79b3cf20/expr.png\" style=\"display:inline;vertical-align:middle;\" /></a></td></tr>\n",
       "<tr><td>1</td><td>Literal</td><td></td><td><a class=\"ProveItLink\" href=\"../../../packages/proveit/logic/equality/__pv_it/e16d2caa26a16688b658bdb9c422caf4b84579e10/expr.ipynb\"><img src=\"../../../packages/proveit/logic/equality/__pv_it/e16d2caa26a16688b658bdb9c422caf4b84579e10/expr.png\" style=\"display:inline;vertical-align:middle;\" /></a></td></tr>\n",
       "<tr><td>2</td><td>ExprTuple</td><td>3, 4</td><td><a class=\"ProveItLink\" href=\"../690a71a931dfba39ad18f369b64915036aef3be10/expr.ipynb\"><img src=\"../690a71a931dfba39ad18f369b64915036aef3be10/expr.png\" style=\"display:inline;vertical-align:middle;\" /></a></td></tr>\n",
       "<tr><td>3</td><td>ExprTuple</td><td>5, 6, 8</td><td><a class=\"ProveItLink\" href=\"../4f246b9b22860d0b6f7f59a85fe82f86fe369b890/expr.ipynb\"><img src=\"../4f246b9b22860d0b6f7f59a85fe82f86fe369b890/expr.png\" style=\"display:inline;vertical-align:middle;\" /></a></td></tr>\n",
       "<tr><td>4</td><td>ExprTuple</td><td>7, 8</td><td><a class=\"ProveItLink\" href=\"../9fe00ab076234b390f09bf242a942ace6c7b1ffd0/expr.ipynb\"><img src=\"../9fe00ab076234b390f09bf242a942ace6c7b1ffd0/expr.png\" style=\"display:inline;vertical-align:middle;\" /></a></td></tr>\n",
       "<tr><td>5</td><td>ExprRange</td><td>lambda_map:&nbsp;10<br>start_index:&nbsp;18<br>end_index:&nbsp;9<br></td><td><a class=\"ProveItLink\" href=\"../ac0815251d672f53a65d936fd4f057b92edcb8500/expr.ipynb\"><img src=\"../ac0815251d672f53a65d936fd4f057b92edcb8500/expr.png\" style=\"display:inline;vertical-align:middle;\" /></a></td></tr>\n",
       "<tr><td>6</td><td>ExprRange</td><td>lambda_map:&nbsp;10<br>start_index:&nbsp;15<br>end_index:&nbsp;11<br></td><td><a class=\"ProveItLink\" href=\"../31b1de70b07b99745aa3ad354105bf348bb32ee00/expr.ipynb\"><img src=\"../31b1de70b07b99745aa3ad354105bf348bb32ee00/expr.png\" style=\"display:inline;vertical-align:middle;\" /></a></td></tr>\n",
       "<tr><td>7</td><td>ExprRange</td><td>lambda_map:&nbsp;10<br>start_index:&nbsp;18<br>end_index:&nbsp;11<br></td><td><a class=\"ProveItLink\" href=\"../599c82c3296b1161f3f636260d5c7c18adcafd400/expr.ipynb\"><img src=\"../599c82c3296b1161f3f636260d5c7c18adcafd400/expr.png\" style=\"display:inline;vertical-align:middle;\" /></a></td></tr>\n",
       "<tr><td>8</td><td>Variable</td><td></td><td><a class=\"ProveItLink\" href=\"../../../packages/proveit/__pv_it/6e8a38e9a7e2b6af352562cd77e0eb4751f142620/expr.ipynb\"><img src=\"../../../packages/proveit/__pv_it/6e8a38e9a7e2b6af352562cd77e0eb4751f142620/expr.png\" style=\"display:inline;vertical-align:middle;\" /></a></td></tr>\n",
       "<tr><td>9</td><td>Operation</td><td>operator:&nbsp;12<br>operands:&nbsp;13<br></td><td><a class=\"ProveItLink\" href=\"../1987d1e8e1ae0f33d8e44c43ec93bd2c7b97cf410/expr.ipynb\"><img src=\"../1987d1e8e1ae0f33d8e44c43ec93bd2c7b97cf410/expr.png\" style=\"display:inline;vertical-align:middle;\" /></a></td></tr>\n",
       "<tr><td>10</td><td>Lambda</td><td>parameter:&nbsp;14<br>body:&nbsp;14<br></td><td><a class=\"ProveItLink\" href=\"../../../packages/proveit/core_expr_types/__pv_it/96aad406266123b3c7b11ddfe3810d3396e81e000/expr.ipynb\"><img src=\"../../../packages/proveit/core_expr_types/__pv_it/96aad406266123b3c7b11ddfe3810d3396e81e000/expr.png\" style=\"display:inline;vertical-align:middle;\" /></a></td></tr>\n",
       "<tr><td>11</td><td>Variable</td><td></td><td><a class=\"ProveItLink\" href=\"../../../packages/proveit/__pv_it/6a5b5879f51878868f626bf09e4d76392d4779cd0/expr.ipynb\"><img src=\"../../../packages/proveit/__pv_it/6a5b5879f51878868f626bf09e4d76392d4779cd0/expr.png\" style=\"display:inline;vertical-align:middle;\" /></a></td></tr>\n",
       "<tr><td>12</td><td>Literal</td><td></td><td><a class=\"ProveItLink\" href=\"../../../packages/proveit/number/addition/__pv_it/65ad7e8aee19b10110d590375ba95a879c4fb7ea0/expr.ipynb\"><img src=\"../../../packages/proveit/number/addition/__pv_it/65ad7e8aee19b10110d590375ba95a879c4fb7ea0/expr.png\" style=\"display:inline;vertical-align:middle;\" /></a></td></tr>\n",
       "<tr><td>13</td><td>ExprTuple</td><td>15, 16</td><td><a class=\"ProveItLink\" href=\"../2f3fc0c6ecddc46d88d2a03e8b5a14550eccfe9f0/expr.ipynb\"><img src=\"../2f3fc0c6ecddc46d88d2a03e8b5a14550eccfe9f0/expr.png\" style=\"display:inline;vertical-align:middle;\" /></a></td></tr>\n",
       "<tr><td>14</td><td>Variable</td><td></td><td><a class=\"ProveItLink\" href=\"../../../packages/proveit/core_expr_types/__pv_it/1e653f789234b245ee7fea7caad998c139d617410/expr.ipynb\"><img src=\"../../../packages/proveit/core_expr_types/__pv_it/1e653f789234b245ee7fea7caad998c139d617410/expr.png\" style=\"display:inline;vertical-align:middle;\" /></a></td></tr>\n",
       "<tr><td>15</td><td>Variable</td><td></td><td><a class=\"ProveItLink\" href=\"../../../packages/proveit/__pv_it/557ab5defdcd46aa58168b08767502985122cd490/expr.ipynb\"><img src=\"../../../packages/proveit/__pv_it/557ab5defdcd46aa58168b08767502985122cd490/expr.png\" style=\"display:inline;vertical-align:middle;\" /></a></td></tr>\n",
       "<tr><td>16</td><td>Operation</td><td>operator:&nbsp;17<br>operand:&nbsp;18<br></td><td><a class=\"ProveItLink\" href=\"../01559348096b98a1dd2ebcf5c288189c829b18930/expr.ipynb\"><img src=\"../01559348096b98a1dd2ebcf5c288189c829b18930/expr.png\" style=\"display:inline;vertical-align:middle;\" /></a></td></tr>\n",
       "<tr><td>17</td><td>Literal</td><td></td><td><a class=\"ProveItLink\" href=\"../../../packages/proveit/number/negation/__pv_it/2867787e35502987d81a45cac8e7f1c6996d6ff40/expr.ipynb\"><img src=\"../../../packages/proveit/number/negation/__pv_it/2867787e35502987d81a45cac8e7f1c6996d6ff40/expr.png\" style=\"display:inline;vertical-align:middle;\" /></a></td></tr>\n",
       "<tr><td>18</td><td>Literal</td><td></td><td><a class=\"ProveItLink\" href=\"../../../packages/proveit/number/numeral/__pv_it/f086f8c372bd40a2458306ddfdbb29f3dc6f63030/expr.ipynb\"><img src=\"../../../packages/proveit/number/numeral/__pv_it/f086f8c372bd40a2458306ddfdbb29f3dc6f63030/expr.png\" style=\"display:inline;vertical-align:middle;\" /></a></td></tr>\n",
       "</table>\n"
      ],
      "text/plain": [
       "0. (1, .._a.., i + (-1), i, .._a.., j, m) = (1, .._a.., j, m)\n",
       "   core type: Operation\n",
       "   operator: 1\n",
       "   operands: 2\n",
       "1. =\n",
       "   core type: Literal\n",
       "   sub-expressions: \n",
       "2. ((1, .._a.., i + (-1), i, .._a.., j, m), (1, .._a.., j, m))\n",
       "   core type: ExprTuple\n",
       "   sub-expressions: 3, 4\n",
       "3. (1, .._a.., i + (-1), i, .._a.., j, m)\n",
       "   core type: ExprTuple\n",
       "   sub-expressions: 5, 6, 8\n",
       "4. (1, .._a.., j, m)\n",
       "   core type: ExprTuple\n",
       "   sub-expressions: 7, 8\n",
       "5. 1, .._a.., (i + (-1))\n",
       "   core type: ExprRange\n",
       "   lambda_map: 10\n",
       "   start_index: 18\n",
       "   end_index: 9\n",
       "6. i, .._a.., j\n",
       "   core type: ExprRange\n",
       "   lambda_map: 10\n",
       "   start_index: 15\n",
       "   end_index: 11\n",
       "7. 1, .._a.., j\n",
       "   core type: ExprRange\n",
       "   lambda_map: 10\n",
       "   start_index: 18\n",
       "   end_index: 11\n",
       "8. m\n",
       "   core type: Variable\n",
       "   sub-expressions: \n",
       "9. i + (-1)\n",
       "   core type: Operation\n",
       "   operator: 12\n",
       "   operands: 13\n",
       "10. _a -> _a\n",
       "    core type: Lambda\n",
       "    parameter: 14\n",
       "    body: 14\n",
       "11. j\n",
       "    core type: Variable\n",
       "    sub-expressions: \n",
       "12. +\n",
       "    core type: Literal\n",
       "    sub-expressions: \n",
       "13. (i, -1)\n",
       "    core type: ExprTuple\n",
       "    sub-expressions: 15, 16\n",
       "14. _a\n",
       "    core type: Variable\n",
       "    sub-expressions: \n",
       "15. i\n",
       "    core type: Variable\n",
       "    sub-expressions: \n",
       "16. -1\n",
       "    core type: Operation\n",
       "    operator: 17\n",
       "    operand: 18\n",
       "17. -\n",
       "    core type: Literal\n",
       "    sub-expressions: \n",
       "18. 1\n",
       "    core type: Literal\n",
       "    sub-expressions: "
      ]
     },
     "execution_count": 5,
     "metadata": {},
     "output_type": "execute_result"
    }
   ],
   "source": [
    "# display the expression information\n",
    "expr.exprInfo()"
   ]
  },
  {
   "cell_type": "code",
   "execution_count": null,
   "metadata": {},
   "outputs": [],
   "source": []
  }
 ],
 "metadata": {
  "kernelspec": {
   "display_name": "Python 3",
   "language": "python",
   "name": "python3"
  },
  "language_info": {
   "codemirror_mode": {
    "name": "ipython",
    "version": 3
   },
   "file_extension": ".py",
   "mimetype": "text/x-python",
   "name": "python",
   "nbconvert_exporter": "python",
   "pygments_lexer": "ipython3",
   "version": "3.7.3"
  }
 },
 "nbformat": 4,
 "nbformat_minor": 1
}
