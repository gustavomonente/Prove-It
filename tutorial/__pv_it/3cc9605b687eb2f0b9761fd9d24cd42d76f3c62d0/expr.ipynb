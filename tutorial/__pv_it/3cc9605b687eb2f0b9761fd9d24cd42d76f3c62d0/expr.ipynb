{
 "cells": [
  {
   "cell_type": "markdown",
   "metadata": {},
   "source": [
    "Expression of type <a class=\"ProveItLink\" href=\"../../../doc/html/api/proveit.Conditional.html\">Conditional</a>\n",
    "=======================\n",
    "# from context <a class=\"ProveItLink\" href=\"../../_context_.ipynb\">tutorial</a>"
   ]
  },
  {
   "cell_type": "code",
   "execution_count": 1,
   "metadata": {},
   "outputs": [],
   "source": [
    "import proveit\n",
    "# Automation is not needed when building an expression:\n",
    "proveit.defaults.automation = False # This will speed things up.\n",
    "proveit.defaults.inline_pngs = False # Makes files smaller.\n",
    "# import Expression classes needed to build the expression\n",
    "from proveit import Conditional, ExprRange, Function, IndexedVar\n",
    "from proveit._common_ import i, k, n, x\n",
    "from proveit.core_expr_types import Len\n",
    "from proveit.core_expr_types._common_ import f_k, i_k, j_k\n",
    "from proveit.logic import And, Equals, InSet\n",
    "from proveit.number import Add, Naturals, Neg, one"
   ]
  },
  {
   "cell_type": "code",
   "execution_count": 2,
   "metadata": {},
   "outputs": [
    {
     "data": {
      "text/html": [
       "<strong id=\"expr\">expr:</strong> <a class=\"ProveItLink\" href=\"expr.ipynb\"><img src=\"expr.png\" style=\"display:inline;vertical-align:middle;\" /></a><br>"
      ],
      "text/plain": [
       "expr: {|(f_{1}(i_{1}), ..f_{1}(x).., f_{1}(j_{1}), ....f_{k}(i_{k}), ..f_{k}(x).., f_{k}(j_{k})...., f_{n}(i_{n}), ..f_{n}(x).., f_{n}(j_{n}))| = ((j_{1} - i_{1} + 1) + ..(j_{k} - i_{k} + 1).. + (j_{n} - i_{n} + 1)) if (j_{1} - i_{1} + 1) in Naturals ,  ..(j_{k} - i_{k} + 1) in Naturals.. ,  (j_{n} - i_{n} + 1) in Naturals ,  i_{1} = 1."
      ]
     },
     "execution_count": 2,
     "metadata": {},
     "output_type": "execute_result"
    }
   ],
   "source": [
    "# build up the expression from sub-expressions\n",
    "subExpr1 = Add(j_k, Neg(i_k), one)\n",
    "expr = Conditional(Equals(Len([ExprRange(k, ExprRange(x, Function(f_k, x), i_k, j_k), one, n)]), Add(ExprRange(k, subExpr1, one, n))), And(ExprRange(k, InSet(subExpr1, Naturals), one, n), Equals(IndexedVar(i, one), one)))"
   ]
  },
  {
   "cell_type": "code",
   "execution_count": 3,
   "metadata": {},
   "outputs": [
    {
     "name": "stdout",
     "output_type": "stream",
     "text": [
      "Passed sanity check: built 'expr' is the same as the stored Expression.\n"
     ]
    }
   ],
   "source": [
    "# check that the built expression is the same as the stored expression\n",
    "%check_expr"
   ]
  },
  {
   "cell_type": "code",
   "execution_count": 4,
   "metadata": {},
   "outputs": [
    {
     "name": "stdout",
     "output_type": "stream",
     "text": [
      "\\left\\{|\\left(f_{1}(i_{1}), \\ldots, f_{1}(j_{1}), \\ldots\\ldots, f_{n}(i_{n}), \\ldots, f_{n}(j_{n})\\right)| = \\left(\\left(j_{1} - i_{1} + 1\\right) + \\ldots + \\left(j_{n} - i_{n} + 1\\right)\\right) \\textrm{ if } \\left(j_{1} - i_{1} + 1\\right) \\in \\mathbb{N} ,  \\ldots ,  \\left(j_{n} - i_{n} + 1\\right) \\in \\mathbb{N} ,  i_{1} = 1\\right..\n"
     ]
    }
   ],
   "source": [
    "# Show the LaTeX representation of the expression for convenience if you need it.\n",
    "print(expr.latex())"
   ]
  },
  {
   "cell_type": "code",
   "execution_count": 5,
   "metadata": {},
   "outputs": [
    {
     "data": {
      "text/html": [
       "<table><tr><th>&nbsp;</th><th>core type</th><th>sub-expressions</th><th>expression</th></tr>\n",
       "<tr><td>0</td><td>Conditional</td><td>value:&nbsp;1<br>condition:&nbsp;2<br></td><td><a class=\"ProveItLink\" href=\"expr.ipynb\"><img src=\"expr.png\" style=\"display:inline;vertical-align:middle;\" /></a></td></tr>\n",
       "<tr><td>1</td><td>Operation</td><td>operator:&nbsp;14<br>operands:&nbsp;3<br></td><td><a class=\"ProveItLink\" href=\"../ff48d4ab7e4e9bda835053fbe899220bea896f000/expr.ipynb\"><img src=\"../ff48d4ab7e4e9bda835053fbe899220bea896f000/expr.png\" style=\"display:inline;vertical-align:middle;\" /></a></td></tr>\n",
       "<tr><td>2</td><td>Operation</td><td>operator:&nbsp;4<br>operands:&nbsp;5<br></td><td><a class=\"ProveItLink\" href=\"../770ba567288448d760afdfd3e0e426920690bc400/expr.ipynb\"><img src=\"../770ba567288448d760afdfd3e0e426920690bc400/expr.png\" style=\"display:inline;vertical-align:middle;\" /></a></td></tr>\n",
       "<tr><td>3</td><td>ExprTuple</td><td>6, 7</td><td><a class=\"ProveItLink\" href=\"../e4e8afa591f8610a018fed8dac1f7bd068682b1b0/expr.ipynb\"><img src=\"../e4e8afa591f8610a018fed8dac1f7bd068682b1b0/expr.png\" style=\"display:inline;vertical-align:middle;\" /></a></td></tr>\n",
       "<tr><td>4</td><td>Literal</td><td></td><td><a class=\"ProveItLink\" href=\"../../../packages/proveit/logic/boolean/conjunction/__pv_it/f41cc6b553210927c09f19a8a39cdf860a5585930/expr.ipynb\"><img src=\"../../../packages/proveit/logic/boolean/conjunction/__pv_it/f41cc6b553210927c09f19a8a39cdf860a5585930/expr.png\" style=\"display:inline;vertical-align:middle;\" /></a></td></tr>\n",
       "<tr><td>5</td><td>ExprTuple</td><td>8, 9</td><td><a class=\"ProveItLink\" href=\"../e5636135646360ca47eb52c9e2da017e8a62310d0/expr.ipynb\"><img src=\"../e5636135646360ca47eb52c9e2da017e8a62310d0/expr.png\" style=\"display:inline;vertical-align:middle;\" /></a></td></tr>\n",
       "<tr><td>6</td><td>Operation</td><td>operator:&nbsp;10<br>operand:&nbsp;16<br></td><td><a class=\"ProveItLink\" href=\"../6ea0c8973c5dd5168103bda0bc5680d33c9a9c590/expr.ipynb\"><img src=\"../6ea0c8973c5dd5168103bda0bc5680d33c9a9c590/expr.png\" style=\"display:inline;vertical-align:middle;\" /></a></td></tr>\n",
       "<tr><td>7</td><td>Operation</td><td>operator:&nbsp;29<br>operands:&nbsp;12<br></td><td><a class=\"ProveItLink\" href=\"../7ef5950cde3a41f2335af9d6252116ad5f0608e00/expr.ipynb\"><img src=\"../7ef5950cde3a41f2335af9d6252116ad5f0608e00/expr.png\" style=\"display:inline;vertical-align:middle;\" /></a></td></tr>\n",
       "<tr><td>8</td><td>ExprRange</td><td>lambda_map:&nbsp;13<br>start_index:&nbsp;34<br>end_index:&nbsp;25<br></td><td><a class=\"ProveItLink\" href=\"../7ad945b078ae67535f3eed32c5eaf7618ec0bd170/expr.ipynb\"><img src=\"../7ad945b078ae67535f3eed32c5eaf7618ec0bd170/expr.png\" style=\"display:inline;vertical-align:middle;\" /></a></td></tr>\n",
       "<tr><td>9</td><td>Operation</td><td>operator:&nbsp;14<br>operands:&nbsp;15<br></td><td><a class=\"ProveItLink\" href=\"../85bd527b17ab8dac7f1dad5c462f877a9240fa9b0/expr.ipynb\"><img src=\"../85bd527b17ab8dac7f1dad5c462f877a9240fa9b0/expr.png\" style=\"display:inline;vertical-align:middle;\" /></a></td></tr>\n",
       "<tr><td>10</td><td>Literal</td><td></td><td><a class=\"ProveItLink\" href=\"../../../packages/proveit/core_expr_types/tuples/__pv_it/92831c6291223dfbd76a11e90e750ae52564aa9f0/expr.ipynb\"><img src=\"../../../packages/proveit/core_expr_types/tuples/__pv_it/92831c6291223dfbd76a11e90e750ae52564aa9f0/expr.png\" style=\"display:inline;vertical-align:middle;\" /></a></td></tr>\n",
       "<tr><td>11</td><td>ExprTuple</td><td>16</td><td><a class=\"ProveItLink\" href=\"../87139212cba305841044bcef408c5163e4fcc04a0/expr.ipynb\"><img src=\"../87139212cba305841044bcef408c5163e4fcc04a0/expr.png\" style=\"display:inline;vertical-align:middle;\" /></a></td></tr>\n",
       "<tr><td>12</td><td>ExprTuple</td><td>17</td><td><a class=\"ProveItLink\" href=\"../e6e8c67d68280b32261aaa19668f9ed240a9a64d0/expr.ipynb\"><img src=\"../e6e8c67d68280b32261aaa19668f9ed240a9a64d0/expr.png\" style=\"display:inline;vertical-align:middle;\" /></a></td></tr>\n",
       "<tr><td>13</td><td>Lambda</td><td>parameter:&nbsp;43<br>body:&nbsp;18<br></td><td><a class=\"ProveItLink\" href=\"../d65efd27cf6ee8ebfc4b99364bba1c5213739d870/expr.ipynb\"><img src=\"../d65efd27cf6ee8ebfc4b99364bba1c5213739d870/expr.png\" style=\"display:inline;vertical-align:middle;\" /></a></td></tr>\n",
       "<tr><td>14</td><td>Literal</td><td></td><td><a class=\"ProveItLink\" href=\"../../../packages/proveit/logic/equality/__pv_it/e16d2caa26a16688b658bdb9c422caf4b84579e10/expr.ipynb\"><img src=\"../../../packages/proveit/logic/equality/__pv_it/e16d2caa26a16688b658bdb9c422caf4b84579e10/expr.png\" style=\"display:inline;vertical-align:middle;\" /></a></td></tr>\n",
       "<tr><td>15</td><td>ExprTuple</td><td>19, 34</td><td><a class=\"ProveItLink\" href=\"../e1c9113031ac845b9214bd6a25586a8ed17df15d0/expr.ipynb\"><img src=\"../e1c9113031ac845b9214bd6a25586a8ed17df15d0/expr.png\" style=\"display:inline;vertical-align:middle;\" /></a></td></tr>\n",
       "<tr><td>16</td><td>ExprTuple</td><td>20</td><td><a class=\"ProveItLink\" href=\"../607908c269e2fd08094b3cea9e49a0ebc4963d1d0/expr.ipynb\"><img src=\"../607908c269e2fd08094b3cea9e49a0ebc4963d1d0/expr.png\" style=\"display:inline;vertical-align:middle;\" /></a></td></tr>\n",
       "<tr><td>17</td><td>ExprRange</td><td>lambda_map:&nbsp;21<br>start_index:&nbsp;34<br>end_index:&nbsp;25<br></td><td><a class=\"ProveItLink\" href=\"../c09be080e7ae6ea0a7f8be3e1234d24458108fe60/expr.ipynb\"><img src=\"../c09be080e7ae6ea0a7f8be3e1234d24458108fe60/expr.png\" style=\"display:inline;vertical-align:middle;\" /></a></td></tr>\n",
       "<tr><td>18</td><td>Operation</td><td>operator:&nbsp;22<br>operands:&nbsp;23<br></td><td><a class=\"ProveItLink\" href=\"../2b195df8d75dd1bfa11f7746053851dabe4d39220/expr.ipynb\"><img src=\"../2b195df8d75dd1bfa11f7746053851dabe4d39220/expr.png\" style=\"display:inline;vertical-align:middle;\" /></a></td></tr>\n",
       "<tr><td>19</td><td>IndexedVar</td><td>variable:&nbsp;41<br>index:&nbsp;34<br></td><td><a class=\"ProveItLink\" href=\"../c7ddc7ab876c778ed3206afd4d194f846144aec40/expr.ipynb\"><img src=\"../c7ddc7ab876c778ed3206afd4d194f846144aec40/expr.png\" style=\"display:inline;vertical-align:middle;\" /></a></td></tr>\n",
       "<tr><td>20</td><td>ExprRange</td><td>lambda_map:&nbsp;24<br>start_index:&nbsp;34<br>end_index:&nbsp;25<br></td><td><a class=\"ProveItLink\" href=\"../336a0975d9a3fb6b97c7116854c4f0144adbf22f0/expr.ipynb\"><img src=\"../336a0975d9a3fb6b97c7116854c4f0144adbf22f0/expr.png\" style=\"display:inline;vertical-align:middle;\" /></a></td></tr>\n",
       "<tr><td>21</td><td>Lambda</td><td>parameter:&nbsp;43<br>body:&nbsp;26<br></td><td><a class=\"ProveItLink\" href=\"../3bd853f4e3a1916eaf0fb35e1ae223f51ed040c20/expr.ipynb\"><img src=\"../3bd853f4e3a1916eaf0fb35e1ae223f51ed040c20/expr.png\" style=\"display:inline;vertical-align:middle;\" /></a></td></tr>\n",
       "<tr><td>22</td><td>Literal</td><td></td><td><a class=\"ProveItLink\" href=\"../../../packages/proveit/logic/set_theory/membership/__pv_it/7776fc89cb67d0b5b1ec2c0c8e08da5587921ccf0/expr.ipynb\"><img src=\"../../../packages/proveit/logic/set_theory/membership/__pv_it/7776fc89cb67d0b5b1ec2c0c8e08da5587921ccf0/expr.png\" style=\"display:inline;vertical-align:middle;\" /></a></td></tr>\n",
       "<tr><td>23</td><td>ExprTuple</td><td>26, 27</td><td><a class=\"ProveItLink\" href=\"../948e29aff9ede73730c9dc2d1823101d0bf0e0720/expr.ipynb\"><img src=\"../948e29aff9ede73730c9dc2d1823101d0bf0e0720/expr.png\" style=\"display:inline;vertical-align:middle;\" /></a></td></tr>\n",
       "<tr><td>24</td><td>Lambda</td><td>parameter:&nbsp;43<br>body:&nbsp;28<br></td><td><a class=\"ProveItLink\" href=\"../73d8f9a4834226fa7a7ceab29c9c52b0b10d57450/expr.ipynb\"><img src=\"../73d8f9a4834226fa7a7ceab29c9c52b0b10d57450/expr.png\" style=\"display:inline;vertical-align:middle;\" /></a></td></tr>\n",
       "<tr><td>25</td><td>Variable</td><td></td><td><a class=\"ProveItLink\" href=\"../../../packages/proveit/__pv_it/0c1c4cb515e0f4344b1ac06650f349123e526deb0/expr.ipynb\"><img src=\"../../../packages/proveit/__pv_it/0c1c4cb515e0f4344b1ac06650f349123e526deb0/expr.png\" style=\"display:inline;vertical-align:middle;\" /></a></td></tr>\n",
       "<tr><td>26</td><td>Operation</td><td>operator:&nbsp;29<br>operands:&nbsp;30<br></td><td><a class=\"ProveItLink\" href=\"../0bd9071a9bdf0e4e352dc2296ececa836fed609d0/expr.ipynb\"><img src=\"../0bd9071a9bdf0e4e352dc2296ececa836fed609d0/expr.png\" style=\"display:inline;vertical-align:middle;\" /></a></td></tr>\n",
       "<tr><td>27</td><td>Literal</td><td></td><td><a class=\"ProveItLink\" href=\"../../../packages/proveit/number/sets/integer/__pv_it/b49c37b99b7e8d73a8d7971bcf454d693b90a2c60/expr.ipynb\"><img src=\"../../../packages/proveit/number/sets/integer/__pv_it/b49c37b99b7e8d73a8d7971bcf454d693b90a2c60/expr.png\" style=\"display:inline;vertical-align:middle;\" /></a></td></tr>\n",
       "<tr><td>28</td><td>ExprRange</td><td>lambda_map:&nbsp;31<br>start_index:&nbsp;38<br>end_index:&nbsp;32<br></td><td><a class=\"ProveItLink\" href=\"../f802bb6a99a2e6c59feff36af07ac9611834cc810/expr.ipynb\"><img src=\"../f802bb6a99a2e6c59feff36af07ac9611834cc810/expr.png\" style=\"display:inline;vertical-align:middle;\" /></a></td></tr>\n",
       "<tr><td>29</td><td>Literal</td><td></td><td><a class=\"ProveItLink\" href=\"../../../packages/proveit/number/addition/__pv_it/65ad7e8aee19b10110d590375ba95a879c4fb7ea0/expr.ipynb\"><img src=\"../../../packages/proveit/number/addition/__pv_it/65ad7e8aee19b10110d590375ba95a879c4fb7ea0/expr.png\" style=\"display:inline;vertical-align:middle;\" /></a></td></tr>\n",
       "<tr><td>30</td><td>ExprTuple</td><td>32, 33, 34</td><td><a class=\"ProveItLink\" href=\"../813dac4ef77c757e35a02ba28a2a50deca0c83890/expr.ipynb\"><img src=\"../813dac4ef77c757e35a02ba28a2a50deca0c83890/expr.png\" style=\"display:inline;vertical-align:middle;\" /></a></td></tr>\n",
       "<tr><td>31</td><td>Lambda</td><td>parameter:&nbsp;40<br>body:&nbsp;35<br></td><td><a class=\"ProveItLink\" href=\"../9f15d7bd1ab5459f17735db9e329c4ba6a4e7b680/expr.ipynb\"><img src=\"../9f15d7bd1ab5459f17735db9e329c4ba6a4e7b680/expr.png\" style=\"display:inline;vertical-align:middle;\" /></a></td></tr>\n",
       "<tr><td>32</td><td>IndexedVar</td><td>variable:&nbsp;36<br>index:&nbsp;43<br></td><td><a class=\"ProveItLink\" href=\"../../../packages/proveit/core_expr_types/__pv_it/3afdd58aaf098094e942e0c109e3881997e5f2120/expr.ipynb\"><img src=\"../../../packages/proveit/core_expr_types/__pv_it/3afdd58aaf098094e942e0c109e3881997e5f2120/expr.png\" style=\"display:inline;vertical-align:middle;\" /></a></td></tr>\n",
       "<tr><td>33</td><td>Operation</td><td>operator:&nbsp;37<br>operand:&nbsp;38<br></td><td><a class=\"ProveItLink\" href=\"../1b8a9f275cb8bebd4eedab4a6262e3517167d47b0/expr.ipynb\"><img src=\"../1b8a9f275cb8bebd4eedab4a6262e3517167d47b0/expr.png\" style=\"display:inline;vertical-align:middle;\" /></a></td></tr>\n",
       "<tr><td>34</td><td>Literal</td><td></td><td><a class=\"ProveItLink\" href=\"../../../packages/proveit/number/numeral/__pv_it/f086f8c372bd40a2458306ddfdbb29f3dc6f63030/expr.ipynb\"><img src=\"../../../packages/proveit/number/numeral/__pv_it/f086f8c372bd40a2458306ddfdbb29f3dc6f63030/expr.png\" style=\"display:inline;vertical-align:middle;\" /></a></td></tr>\n",
       "<tr><td>35</td><td>Operation</td><td>operator:&nbsp;39<br>operand:&nbsp;40<br></td><td><a class=\"ProveItLink\" href=\"../2eed11002272ec502af6baee392c5b91932464db0/expr.ipynb\"><img src=\"../2eed11002272ec502af6baee392c5b91932464db0/expr.png\" style=\"display:inline;vertical-align:middle;\" /></a></td></tr>\n",
       "<tr><td>36</td><td>Variable</td><td></td><td><a class=\"ProveItLink\" href=\"../../../packages/proveit/__pv_it/6a5b5879f51878868f626bf09e4d76392d4779cd0/expr.ipynb\"><img src=\"../../../packages/proveit/__pv_it/6a5b5879f51878868f626bf09e4d76392d4779cd0/expr.png\" style=\"display:inline;vertical-align:middle;\" /></a></td></tr>\n",
       "<tr><td>37</td><td>Literal</td><td></td><td><a class=\"ProveItLink\" href=\"../../../packages/proveit/number/negation/__pv_it/2867787e35502987d81a45cac8e7f1c6996d6ff40/expr.ipynb\"><img src=\"../../../packages/proveit/number/negation/__pv_it/2867787e35502987d81a45cac8e7f1c6996d6ff40/expr.png\" style=\"display:inline;vertical-align:middle;\" /></a></td></tr>\n",
       "<tr><td>38</td><td>IndexedVar</td><td>variable:&nbsp;41<br>index:&nbsp;43<br></td><td><a class=\"ProveItLink\" href=\"../../../packages/proveit/core_expr_types/__pv_it/c9137caaa667732c539726a18bd7ab0afb6b94790/expr.ipynb\"><img src=\"../../../packages/proveit/core_expr_types/__pv_it/c9137caaa667732c539726a18bd7ab0afb6b94790/expr.png\" style=\"display:inline;vertical-align:middle;\" /></a></td></tr>\n",
       "<tr><td>39</td><td>IndexedVar</td><td>variable:&nbsp;42<br>index:&nbsp;43<br></td><td><a class=\"ProveItLink\" href=\"../../../packages/proveit/core_expr_types/__pv_it/759987d721c586f2d31ad4cdd4ac831446524ea00/expr.ipynb\"><img src=\"../../../packages/proveit/core_expr_types/__pv_it/759987d721c586f2d31ad4cdd4ac831446524ea00/expr.png\" style=\"display:inline;vertical-align:middle;\" /></a></td></tr>\n",
       "<tr><td>40</td><td>Variable</td><td></td><td><a class=\"ProveItLink\" href=\"../../../packages/proveit/__pv_it/72df168d2bfb4e0140af90912ebf83b13772060b0/expr.ipynb\"><img src=\"../../../packages/proveit/__pv_it/72df168d2bfb4e0140af90912ebf83b13772060b0/expr.png\" style=\"display:inline;vertical-align:middle;\" /></a></td></tr>\n",
       "<tr><td>41</td><td>Variable</td><td></td><td><a class=\"ProveItLink\" href=\"../../../packages/proveit/__pv_it/557ab5defdcd46aa58168b08767502985122cd490/expr.ipynb\"><img src=\"../../../packages/proveit/__pv_it/557ab5defdcd46aa58168b08767502985122cd490/expr.png\" style=\"display:inline;vertical-align:middle;\" /></a></td></tr>\n",
       "<tr><td>42</td><td>Variable</td><td></td><td><a class=\"ProveItLink\" href=\"../../../packages/proveit/__pv_it/d7bbb04e874e28c7cefb21d4eea40806ae52f1f70/expr.ipynb\"><img src=\"../../../packages/proveit/__pv_it/d7bbb04e874e28c7cefb21d4eea40806ae52f1f70/expr.png\" style=\"display:inline;vertical-align:middle;\" /></a></td></tr>\n",
       "<tr><td>43</td><td>Variable</td><td></td><td><a class=\"ProveItLink\" href=\"../../../packages/proveit/__pv_it/273f49450ca25e1b56abbd98a7aef618f8f6c1360/expr.ipynb\"><img src=\"../../../packages/proveit/__pv_it/273f49450ca25e1b56abbd98a7aef618f8f6c1360/expr.png\" style=\"display:inline;vertical-align:middle;\" /></a></td></tr>\n",
       "</table>\n"
      ],
      "text/plain": [
       "0. {|(f_{1}(i_{1}), ..f_{1}(x).., f_{1}(j_{1}), ....f_{k}(i_{k}), ..f_{k}(x).., f_{k}(j_{k})...., f_{n}(i_{n}), ..f_{n}(x).., f_{n}(j_{n}))| = ((j_{1} - i_{1} + 1) + ..(j_{k} - i_{k} + 1).. + (j_{n} - i_{n} + 1)) if (j_{1} - i_{1} + 1) in Naturals ,  ..(j_{k} - i_{k} + 1) in Naturals.. ,  (j_{n} - i_{n} + 1) in Naturals ,  i_{1} = 1.\n",
       "   core type: Conditional\n",
       "   value: 1\n",
       "   condition: 2\n",
       "1. |(f_{1}(i_{1}), ..f_{1}(x).., f_{1}(j_{1}), ....f_{k}(i_{k}), ..f_{k}(x).., f_{k}(j_{k})...., f_{n}(i_{n}), ..f_{n}(x).., f_{n}(j_{n}))| = ((j_{1} - i_{1} + 1) + ..(j_{k} - i_{k} + 1).. + (j_{n} - i_{n} + 1))\n",
       "   core type: Operation\n",
       "   operator: 14\n",
       "   operands: 3\n",
       "2. ((j_{1} - i_{1} + 1) in Naturals) and ..((j_{k} - i_{k} + 1) in Naturals).. and ((j_{n} - i_{n} + 1) in Naturals) and (i_{1} = 1)\n",
       "   core type: Operation\n",
       "   operator: 4\n",
       "   operands: 5\n",
       "3. (|(f_{1}(i_{1}), ..f_{1}(x).., f_{1}(j_{1}), ....f_{k}(i_{k}), ..f_{k}(x).., f_{k}(j_{k})...., f_{n}(i_{n}), ..f_{n}(x).., f_{n}(j_{n}))|, (j_{1} - i_{1} + 1) + ..(j_{k} - i_{k} + 1).. + (j_{n} - i_{n} + 1))\n",
       "   core type: ExprTuple\n",
       "   sub-expressions: 6, 7\n",
       "4. and\n",
       "   core type: Literal\n",
       "   sub-expressions: \n",
       "5. ((j_{1} - i_{1} + 1) in Naturals, ..(j_{k} - i_{k} + 1) in Naturals.., (j_{n} - i_{n} + 1) in Naturals, i_{1} = 1)\n",
       "   core type: ExprTuple\n",
       "   sub-expressions: 8, 9\n",
       "6. |(f_{1}(i_{1}), ..f_{1}(x).., f_{1}(j_{1}), ....f_{k}(i_{k}), ..f_{k}(x).., f_{k}(j_{k})...., f_{n}(i_{n}), ..f_{n}(x).., f_{n}(j_{n}))|\n",
       "   core type: Operation\n",
       "   operator: 10\n",
       "   operand: 16\n",
       "7. (j_{1} - i_{1} + 1) + ..(j_{k} - i_{k} + 1).. + (j_{n} - i_{n} + 1)\n",
       "   core type: Operation\n",
       "   operator: 29\n",
       "   operands: 12\n",
       "8. ((j_{1} - i_{1} + 1) in Naturals), ..((j_{k} - i_{k} + 1) in Naturals).., ((j_{n} - i_{n} + 1) in Naturals)\n",
       "   core type: ExprRange\n",
       "   lambda_map: 13\n",
       "   start_index: 34\n",
       "   end_index: 25\n",
       "9. i_{1} = 1\n",
       "   core type: Operation\n",
       "   operator: 14\n",
       "   operands: 15\n",
       "10. length\n",
       "    core type: Literal\n",
       "    sub-expressions: \n",
       "11. ((f_{1}(i_{1}), ..f_{1}(x).., f_{1}(j_{1}), ....f_{k}(i_{k}), ..f_{k}(x).., f_{k}(j_{k})...., f_{n}(i_{n}), ..f_{n}(x).., f_{n}(j_{n})))\n",
       "    core type: ExprTuple\n",
       "    sub-expressions: 16\n",
       "12. (j_{1} - i_{1} + 1, ..j_{k} - i_{k} + 1.., j_{n} - i_{n} + 1)\n",
       "    core type: ExprTuple\n",
       "    sub-expressions: 17\n",
       "13. k -> ((j_{k} - i_{k} + 1) in Naturals)\n",
       "    core type: Lambda\n",
       "    parameter: 43\n",
       "    body: 18\n",
       "14. =\n",
       "    core type: Literal\n",
       "    sub-expressions: \n",
       "15. (i_{1}, 1)\n",
       "    core type: ExprTuple\n",
       "    sub-expressions: 19, 34\n",
       "16. (f_{1}(i_{1}), ..f_{1}(x).., f_{1}(j_{1}), ....f_{k}(i_{k}), ..f_{k}(x).., f_{k}(j_{k})...., f_{n}(i_{n}), ..f_{n}(x).., f_{n}(j_{n}))\n",
       "    core type: ExprTuple\n",
       "    sub-expressions: 20\n",
       "17. (j_{1} - i_{1} + 1), ..(j_{k} - i_{k} + 1).., (j_{n} - i_{n} + 1)\n",
       "    core type: ExprRange\n",
       "    lambda_map: 21\n",
       "    start_index: 34\n",
       "    end_index: 25\n",
       "18. (j_{k} - i_{k} + 1) in Naturals\n",
       "    core type: Operation\n",
       "    operator: 22\n",
       "    operands: 23\n",
       "19. i_{1}\n",
       "    core type: IndexedVar\n",
       "variable: 41\n",
       "index: 34\n",
       "20. f_{1}(i_{1}), ..f_{1}(x).., f_{1}(j_{1}), ....f_{k}(i_{k}), ..f_{k}(x).., f_{k}(j_{k})...., f_{n}(i_{n}), ..f_{n}(x).., f_{n}(j_{n})\n",
       "    core type: ExprRange\n",
       "    lambda_map: 24\n",
       "    start_index: 34\n",
       "    end_index: 25\n",
       "21. k -> (j_{k} - i_{k} + 1)\n",
       "    core type: Lambda\n",
       "    parameter: 43\n",
       "    body: 26\n",
       "22. in\n",
       "    core type: Literal\n",
       "    sub-expressions: \n",
       "23. (j_{k} - i_{k} + 1, Naturals)\n",
       "    core type: ExprTuple\n",
       "    sub-expressions: 26, 27\n",
       "24. k -> f_{k}(i_{k}), ..f_{k}(x).., f_{k}(j_{k})\n",
       "    core type: Lambda\n",
       "    parameter: 43\n",
       "    body: 28\n",
       "25. n\n",
       "    core type: Variable\n",
       "    sub-expressions: \n",
       "26. j_{k} - i_{k} + 1\n",
       "    core type: Operation\n",
       "    operator: 29\n",
       "    operands: 30\n",
       "27. Naturals\n",
       "    core type: Literal\n",
       "    sub-expressions: \n",
       "28. f_{k}(i_{k}), ..f_{k}(x).., f_{k}(j_{k})\n",
       "    core type: ExprRange\n",
       "    lambda_map: 31\n",
       "    start_index: 38\n",
       "    end_index: 32\n",
       "29. +\n",
       "    core type: Literal\n",
       "    sub-expressions: \n",
       "30. (j_{k}, -i_{k}, 1)\n",
       "    core type: ExprTuple\n",
       "    sub-expressions: 32, 33, 34\n",
       "31. x -> f_{k}(x)\n",
       "    core type: Lambda\n",
       "    parameter: 40\n",
       "    body: 35\n",
       "32. j_{k}\n",
       "    core type: IndexedVar\n",
       "variable: 36\n",
       "index: 43\n",
       "33. -i_{k}\n",
       "    core type: Operation\n",
       "    operator: 37\n",
       "    operand: 38\n",
       "34. 1\n",
       "    core type: Literal\n",
       "    sub-expressions: \n",
       "35. f_{k}(x)\n",
       "    core type: Operation\n",
       "    operator: 39\n",
       "    operand: 40\n",
       "36. j\n",
       "    core type: Variable\n",
       "    sub-expressions: \n",
       "37. -\n",
       "    core type: Literal\n",
       "    sub-expressions: \n",
       "38. i_{k}\n",
       "    core type: IndexedVar\n",
       "variable: 41\n",
       "index: 43\n",
       "39. f_{k}\n",
       "    core type: IndexedVar\n",
       "variable: 42\n",
       "index: 43\n",
       "40. x\n",
       "    core type: Variable\n",
       "    sub-expressions: \n",
       "41. i\n",
       "    core type: Variable\n",
       "    sub-expressions: \n",
       "42. f\n",
       "    core type: Variable\n",
       "    sub-expressions: \n",
       "43. k\n",
       "    core type: Variable\n",
       "    sub-expressions: "
      ]
     },
     "execution_count": 5,
     "metadata": {},
     "output_type": "execute_result"
    }
   ],
   "source": [
    "# display the expression information\n",
    "expr.exprInfo()"
   ]
  },
  {
   "cell_type": "code",
   "execution_count": null,
   "metadata": {},
   "outputs": [],
   "source": []
  }
 ],
 "metadata": {
  "kernelspec": {
   "display_name": "Python 3",
   "language": "python",
   "name": "python3"
  },
  "language_info": {
   "codemirror_mode": {
    "name": "ipython",
    "version": 3
   },
   "file_extension": ".py",
   "mimetype": "text/x-python",
   "name": "python",
   "nbconvert_exporter": "python",
   "pygments_lexer": "ipython3",
   "version": "3.7.3"
  }
 },
 "nbformat": 4,
 "nbformat_minor": 1
}
