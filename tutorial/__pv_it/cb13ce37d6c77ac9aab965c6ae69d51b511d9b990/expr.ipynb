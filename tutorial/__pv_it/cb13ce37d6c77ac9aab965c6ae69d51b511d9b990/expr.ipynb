{
 "cells": [
  {
   "cell_type": "markdown",
   "metadata": {},
   "source": [
    "Expression of type <a class=\"ProveItLink\" href=\"../../../doc/html/api/proveit.logic.Equals.html\">Equals</a>\n",
    "=======================\n",
    "# from context <a class=\"ProveItLink\" href=\"../../_context_.ipynb\">tutorial</a>"
   ]
  },
  {
   "cell_type": "code",
   "execution_count": 1,
   "metadata": {},
   "outputs": [],
   "source": [
    "import proveit\n",
    "# Automation is not needed when building an expression:\n",
    "proveit.defaults.automation = False # This will speed things up.\n",
    "proveit.defaults.inline_pngs = False # Makes files smaller.\n",
    "# import Expression classes needed to build the expression\n",
    "from proveit import ExprRange, IndexedVar, Variable\n",
    "from proveit._common_ import k, m, n, x\n",
    "from proveit.core_expr_types import Len\n",
    "from proveit.logic import Equals\n",
    "from proveit.number import Add, Mult, Neg, one"
   ]
  },
  {
   "cell_type": "code",
   "execution_count": 2,
   "metadata": {},
   "outputs": [
    {
     "data": {
      "text/html": [
       "<strong id=\"expr\">expr:</strong> <a class=\"ProveItLink\" href=\"../71a4ce227168808ddd22450322483cabd474c3530/expr.ipynb\"><img src=\"../71a4ce227168808ddd22450322483cabd474c3530/expr.png\" style=\"display:inline;vertical-align:middle;\" /></a><br>"
      ],
      "text/plain": [
       "expr: |(x_{1,1}, ..x_{1,_a}.., x_{1,n}, ....x_{k,1}, ..x_{k,_a}.., x_{k,n}...., x_{m - 1,1}, ..x_{m - 1,_a}.., x_{m - 1,n}, 1 * 1, ..x * x.., n * n)| = (m * n)"
      ]
     },
     "execution_count": 2,
     "metadata": {},
     "output_type": "execute_result"
    }
   ],
   "source": [
    "# build up the expression from sub-expressions\n",
    "subExpr1 = Variable(\"_a\", latexFormat = r\"{_{-}a}\")\n",
    "expr = Equals(Len([ExprRange(k, ExprRange(subExpr1, IndexedVar(IndexedVar(x, k), subExpr1), one, n), one, Add(m, Neg(one))), ExprRange(x, Mult(x, x), one, n)]), Mult(m, n))"
   ]
  },
  {
   "cell_type": "code",
   "execution_count": 3,
   "metadata": {},
   "outputs": [
    {
     "name": "stdout",
     "output_type": "stream",
     "text": [
      "Passed sanity check: built 'expr' is the same as the stored Expression.\n"
     ]
    }
   ],
   "source": [
    "# check that the built expression is the same as the stored expression\n",
    "%check_expr"
   ]
  },
  {
   "cell_type": "code",
   "execution_count": 4,
   "metadata": {},
   "outputs": [
    {
     "name": "stdout",
     "output_type": "stream",
     "text": [
      "|\\left(x_{1,1}, \\ldots, x_{1,n}, \\ldots\\ldots, x_{m - 1,1}, \\ldots, x_{m - 1,n}, 1 \\cdot 1, \\ldots, n \\cdot n\\right)| = \\left(m \\cdot n\\right)\n"
     ]
    }
   ],
   "source": [
    "# Show the LaTeX representation of the expression for convenience if you need it.\n",
    "print(expr.latex())"
   ]
  },
  {
   "cell_type": "code",
   "execution_count": 5,
   "metadata": {},
   "outputs": [
    {
     "data": {
      "text/html": [
       "<table><tr><th>&nbsp;</th><th>core type</th><th>sub-expressions</th><th>expression</th></tr>\n",
       "<tr><td>0</td><td>Operation</td><td>operator:&nbsp;1<br>operands:&nbsp;2<br></td><td><a class=\"ProveItLink\" href=\"../71a4ce227168808ddd22450322483cabd474c3530/expr.ipynb\"><img src=\"../71a4ce227168808ddd22450322483cabd474c3530/expr.png\" style=\"display:inline;vertical-align:middle;\" /></a></td></tr>\n",
       "<tr><td>1</td><td>Literal</td><td></td><td><a class=\"ProveItLink\" href=\"../../../packages/proveit/logic/equality/__pv_it/e16d2caa26a16688b658bdb9c422caf4b84579e10/expr.ipynb\"><img src=\"../../../packages/proveit/logic/equality/__pv_it/e16d2caa26a16688b658bdb9c422caf4b84579e10/expr.png\" style=\"display:inline;vertical-align:middle;\" /></a></td></tr>\n",
       "<tr><td>2</td><td>ExprTuple</td><td>3, 4</td><td><a class=\"ProveItLink\" href=\"../74c70ed9c8ac2c0db2909bb8f74ba2031fbea1b90/expr.ipynb\"><img src=\"../74c70ed9c8ac2c0db2909bb8f74ba2031fbea1b90/expr.png\" style=\"display:inline;vertical-align:middle;\" /></a></td></tr>\n",
       "<tr><td>3</td><td>Operation</td><td>operator:&nbsp;5<br>operand:&nbsp;8<br></td><td><a class=\"ProveItLink\" href=\"../1e537d6554574b08a1bd125bbf5ae1b2d2b58f6b0/expr.ipynb\"><img src=\"../1e537d6554574b08a1bd125bbf5ae1b2d2b58f6b0/expr.png\" style=\"display:inline;vertical-align:middle;\" /></a></td></tr>\n",
       "<tr><td>4</td><td>Operation</td><td>operator:&nbsp;22<br>operands:&nbsp;7<br></td><td><a class=\"ProveItLink\" href=\"../c01ca848d43c7c82887f9bf50d15b90f6d239e2b0/expr.ipynb\"><img src=\"../c01ca848d43c7c82887f9bf50d15b90f6d239e2b0/expr.png\" style=\"display:inline;vertical-align:middle;\" /></a></td></tr>\n",
       "<tr><td>5</td><td>Literal</td><td></td><td><a class=\"ProveItLink\" href=\"../../../packages/proveit/core_expr_types/tuples/__pv_it/92831c6291223dfbd76a11e90e750ae52564aa9f0/expr.ipynb\"><img src=\"../../../packages/proveit/core_expr_types/tuples/__pv_it/92831c6291223dfbd76a11e90e750ae52564aa9f0/expr.png\" style=\"display:inline;vertical-align:middle;\" /></a></td></tr>\n",
       "<tr><td>6</td><td>ExprTuple</td><td>8</td><td><a class=\"ProveItLink\" href=\"../683cb3cf1b482676d16c9f959c397c4a18c6eb260/expr.ipynb\"><img src=\"../683cb3cf1b482676d16c9f959c397c4a18c6eb260/expr.png\" style=\"display:inline;vertical-align:middle;\" /></a></td></tr>\n",
       "<tr><td>7</td><td>ExprTuple</td><td>20, 19</td><td><a class=\"ProveItLink\" href=\"../275997a66c6a7319792802dbdfe4217fa64681ae0/expr.ipynb\"><img src=\"../275997a66c6a7319792802dbdfe4217fa64681ae0/expr.png\" style=\"display:inline;vertical-align:middle;\" /></a></td></tr>\n",
       "<tr><td>8</td><td>ExprTuple</td><td>9, 10</td><td><a class=\"ProveItLink\" href=\"../8e894d18f521f483632bc31cbf91865839fefb350/expr.ipynb\"><img src=\"../8e894d18f521f483632bc31cbf91865839fefb350/expr.png\" style=\"display:inline;vertical-align:middle;\" /></a></td></tr>\n",
       "<tr><td>9</td><td>ExprRange</td><td>lambda_map:&nbsp;11<br>start_index:&nbsp;26<br>end_index:&nbsp;12<br></td><td><a class=\"ProveItLink\" href=\"../c1d4a916a35dff271583bf8bcbdbd1d0d20952ba0/expr.ipynb\"><img src=\"../c1d4a916a35dff271583bf8bcbdbd1d0d20952ba0/expr.png\" style=\"display:inline;vertical-align:middle;\" /></a></td></tr>\n",
       "<tr><td>10</td><td>ExprRange</td><td>lambda_map:&nbsp;13<br>start_index:&nbsp;26<br>end_index:&nbsp;19<br></td><td><a class=\"ProveItLink\" href=\"../9e710dd1892827963877f164acf108d20746cb880/expr.ipynb\"><img src=\"../9e710dd1892827963877f164acf108d20746cb880/expr.png\" style=\"display:inline;vertical-align:middle;\" /></a></td></tr>\n",
       "<tr><td>11</td><td>Lambda</td><td>parameter:&nbsp;30<br>body:&nbsp;14<br></td><td><a class=\"ProveItLink\" href=\"../a10e8f9fbc60449e0beff76244b8192878e806c90/expr.ipynb\"><img src=\"../a10e8f9fbc60449e0beff76244b8192878e806c90/expr.png\" style=\"display:inline;vertical-align:middle;\" /></a></td></tr>\n",
       "<tr><td>12</td><td>Operation</td><td>operator:&nbsp;15<br>operands:&nbsp;16<br></td><td><a class=\"ProveItLink\" href=\"../4116e0af369eea3655f8c7d50d876ff523d64eb70/expr.ipynb\"><img src=\"../4116e0af369eea3655f8c7d50d876ff523d64eb70/expr.png\" style=\"display:inline;vertical-align:middle;\" /></a></td></tr>\n",
       "<tr><td>13</td><td>Lambda</td><td>parameter:&nbsp;29<br>body:&nbsp;17<br></td><td><a class=\"ProveItLink\" href=\"../bc966412ce742575c80fa966a7062c1c2478bed10/expr.ipynb\"><img src=\"../bc966412ce742575c80fa966a7062c1c2478bed10/expr.png\" style=\"display:inline;vertical-align:middle;\" /></a></td></tr>\n",
       "<tr><td>14</td><td>ExprRange</td><td>lambda_map:&nbsp;18<br>start_index:&nbsp;26<br>end_index:&nbsp;19<br></td><td><a class=\"ProveItLink\" href=\"../9ae0cb48ca35593effae67366d6b49641e7934e50/expr.ipynb\"><img src=\"../9ae0cb48ca35593effae67366d6b49641e7934e50/expr.png\" style=\"display:inline;vertical-align:middle;\" /></a></td></tr>\n",
       "<tr><td>15</td><td>Literal</td><td></td><td><a class=\"ProveItLink\" href=\"../../../packages/proveit/number/addition/__pv_it/65ad7e8aee19b10110d590375ba95a879c4fb7ea0/expr.ipynb\"><img src=\"../../../packages/proveit/number/addition/__pv_it/65ad7e8aee19b10110d590375ba95a879c4fb7ea0/expr.png\" style=\"display:inline;vertical-align:middle;\" /></a></td></tr>\n",
       "<tr><td>16</td><td>ExprTuple</td><td>20, 21</td><td><a class=\"ProveItLink\" href=\"../93751c4bb82e2893ad4569a0b2388322bd8210680/expr.ipynb\"><img src=\"../93751c4bb82e2893ad4569a0b2388322bd8210680/expr.png\" style=\"display:inline;vertical-align:middle;\" /></a></td></tr>\n",
       "<tr><td>17</td><td>Operation</td><td>operator:&nbsp;22<br>operands:&nbsp;23<br></td><td><a class=\"ProveItLink\" href=\"../4b43b01e4f7cd8d287d147cdf3d23c1e308fd28c0/expr.ipynb\"><img src=\"../4b43b01e4f7cd8d287d147cdf3d23c1e308fd28c0/expr.png\" style=\"display:inline;vertical-align:middle;\" /></a></td></tr>\n",
       "<tr><td>18</td><td>Lambda</td><td>parameter:&nbsp;28<br>body:&nbsp;24<br></td><td><a class=\"ProveItLink\" href=\"../67147cb3c59248d85f37f66be82a9a3599e8b1560/expr.ipynb\"><img src=\"../67147cb3c59248d85f37f66be82a9a3599e8b1560/expr.png\" style=\"display:inline;vertical-align:middle;\" /></a></td></tr>\n",
       "<tr><td>19</td><td>Variable</td><td></td><td><a class=\"ProveItLink\" href=\"../../../packages/proveit/__pv_it/0c1c4cb515e0f4344b1ac06650f349123e526deb0/expr.ipynb\"><img src=\"../../../packages/proveit/__pv_it/0c1c4cb515e0f4344b1ac06650f349123e526deb0/expr.png\" style=\"display:inline;vertical-align:middle;\" /></a></td></tr>\n",
       "<tr><td>20</td><td>Variable</td><td></td><td><a class=\"ProveItLink\" href=\"../../../packages/proveit/__pv_it/6e8a38e9a7e2b6af352562cd77e0eb4751f142620/expr.ipynb\"><img src=\"../../../packages/proveit/__pv_it/6e8a38e9a7e2b6af352562cd77e0eb4751f142620/expr.png\" style=\"display:inline;vertical-align:middle;\" /></a></td></tr>\n",
       "<tr><td>21</td><td>Operation</td><td>operator:&nbsp;25<br>operand:&nbsp;26<br></td><td><a class=\"ProveItLink\" href=\"../../../packages/proveit/core_expr_types/__pv_it/01559348096b98a1dd2ebcf5c288189c829b18930/expr.ipynb\"><img src=\"../../../packages/proveit/core_expr_types/__pv_it/01559348096b98a1dd2ebcf5c288189c829b18930/expr.png\" style=\"display:inline;vertical-align:middle;\" /></a></td></tr>\n",
       "<tr><td>22</td><td>Literal</td><td></td><td><a class=\"ProveItLink\" href=\"../../../packages/proveit/number/multiplication/__pv_it/f7a1ed7c35c8c884cf4c236d27cb79bf85638cad0/expr.ipynb\"><img src=\"../../../packages/proveit/number/multiplication/__pv_it/f7a1ed7c35c8c884cf4c236d27cb79bf85638cad0/expr.png\" style=\"display:inline;vertical-align:middle;\" /></a></td></tr>\n",
       "<tr><td>23</td><td>ExprTuple</td><td>29, 29</td><td><a class=\"ProveItLink\" href=\"../37a016d6ec3400cbf7fbc598f18bcf0f8fc346820/expr.ipynb\"><img src=\"../37a016d6ec3400cbf7fbc598f18bcf0f8fc346820/expr.png\" style=\"display:inline;vertical-align:middle;\" /></a></td></tr>\n",
       "<tr><td>24</td><td>IndexedVar</td><td>variable:&nbsp;27<br>index:&nbsp;28<br></td><td><a class=\"ProveItLink\" href=\"../368c4325bfe4bc9bf8e49c0db1fdc73379e3aa540/expr.ipynb\"><img src=\"../368c4325bfe4bc9bf8e49c0db1fdc73379e3aa540/expr.png\" style=\"display:inline;vertical-align:middle;\" /></a></td></tr>\n",
       "<tr><td>25</td><td>Literal</td><td></td><td><a class=\"ProveItLink\" href=\"../../../packages/proveit/number/negation/__pv_it/2867787e35502987d81a45cac8e7f1c6996d6ff40/expr.ipynb\"><img src=\"../../../packages/proveit/number/negation/__pv_it/2867787e35502987d81a45cac8e7f1c6996d6ff40/expr.png\" style=\"display:inline;vertical-align:middle;\" /></a></td></tr>\n",
       "<tr><td>26</td><td>Literal</td><td></td><td><a class=\"ProveItLink\" href=\"../../../packages/proveit/number/numeral/__pv_it/f086f8c372bd40a2458306ddfdbb29f3dc6f63030/expr.ipynb\"><img src=\"../../../packages/proveit/number/numeral/__pv_it/f086f8c372bd40a2458306ddfdbb29f3dc6f63030/expr.png\" style=\"display:inline;vertical-align:middle;\" /></a></td></tr>\n",
       "<tr><td>27</td><td>IndexedVar</td><td>variable:&nbsp;29<br>index:&nbsp;30<br></td><td><a class=\"ProveItLink\" href=\"../57c2bba44053ef0828dc1fe5b02bad07b65fbfca0/expr.ipynb\"><img src=\"../57c2bba44053ef0828dc1fe5b02bad07b65fbfca0/expr.png\" style=\"display:inline;vertical-align:middle;\" /></a></td></tr>\n",
       "<tr><td>28</td><td>Variable</td><td></td><td><a class=\"ProveItLink\" href=\"../../../packages/proveit/core_expr_types/__pv_it/1e653f789234b245ee7fea7caad998c139d617410/expr.ipynb\"><img src=\"../../../packages/proveit/core_expr_types/__pv_it/1e653f789234b245ee7fea7caad998c139d617410/expr.png\" style=\"display:inline;vertical-align:middle;\" /></a></td></tr>\n",
       "<tr><td>29</td><td>Variable</td><td></td><td><a class=\"ProveItLink\" href=\"../../../packages/proveit/__pv_it/72df168d2bfb4e0140af90912ebf83b13772060b0/expr.ipynb\"><img src=\"../../../packages/proveit/__pv_it/72df168d2bfb4e0140af90912ebf83b13772060b0/expr.png\" style=\"display:inline;vertical-align:middle;\" /></a></td></tr>\n",
       "<tr><td>30</td><td>Variable</td><td></td><td><a class=\"ProveItLink\" href=\"../../../packages/proveit/__pv_it/273f49450ca25e1b56abbd98a7aef618f8f6c1360/expr.ipynb\"><img src=\"../../../packages/proveit/__pv_it/273f49450ca25e1b56abbd98a7aef618f8f6c1360/expr.png\" style=\"display:inline;vertical-align:middle;\" /></a></td></tr>\n",
       "</table>\n"
      ],
      "text/plain": [
       "0. |(x_{1,1}, ..x_{1,_a}.., x_{1,n}, ....x_{k,1}, ..x_{k,_a}.., x_{k,n}...., x_{m - 1,1}, ..x_{m - 1,_a}.., x_{m - 1,n}, 1 * 1, ..x * x.., n * n)| = (m * n)\n",
       "   core type: Operation\n",
       "   operator: 1\n",
       "   operands: 2\n",
       "1. =\n",
       "   core type: Literal\n",
       "   sub-expressions: \n",
       "2. (|(x_{1,1}, ..x_{1,_a}.., x_{1,n}, ....x_{k,1}, ..x_{k,_a}.., x_{k,n}...., x_{m - 1,1}, ..x_{m - 1,_a}.., x_{m - 1,n}, 1 * 1, ..x * x.., n * n)|, m * n)\n",
       "   core type: ExprTuple\n",
       "   sub-expressions: 3, 4\n",
       "3. |(x_{1,1}, ..x_{1,_a}.., x_{1,n}, ....x_{k,1}, ..x_{k,_a}.., x_{k,n}...., x_{m - 1,1}, ..x_{m - 1,_a}.., x_{m - 1,n}, 1 * 1, ..x * x.., n * n)|\n",
       "   core type: Operation\n",
       "   operator: 5\n",
       "   operand: 8\n",
       "4. m * n\n",
       "   core type: Operation\n",
       "   operator: 22\n",
       "   operands: 7\n",
       "5. length\n",
       "   core type: Literal\n",
       "   sub-expressions: \n",
       "6. ((x_{1,1}, ..x_{1,_a}.., x_{1,n}, ....x_{k,1}, ..x_{k,_a}.., x_{k,n}...., x_{m - 1,1}, ..x_{m - 1,_a}.., x_{m - 1,n}, 1 * 1, ..x * x.., n * n))\n",
       "   core type: ExprTuple\n",
       "   sub-expressions: 8\n",
       "7. (m, n)\n",
       "   core type: ExprTuple\n",
       "   sub-expressions: 20, 19\n",
       "8. (x_{1,1}, ..x_{1,_a}.., x_{1,n}, ....x_{k,1}, ..x_{k,_a}.., x_{k,n}...., x_{m - 1,1}, ..x_{m - 1,_a}.., x_{m - 1,n}, 1 * 1, ..x * x.., n * n)\n",
       "   core type: ExprTuple\n",
       "   sub-expressions: 9, 10\n",
       "9. x_{1,1}, ..x_{1,_a}.., x_{1,n}, ....x_{k,1}, ..x_{k,_a}.., x_{k,n}...., x_{m - 1,1}, ..x_{m - 1,_a}.., x_{m - 1,n}\n",
       "   core type: ExprRange\n",
       "   lambda_map: 11\n",
       "   start_index: 26\n",
       "   end_index: 12\n",
       "10. (1 * 1), ..(x * x).., (n * n)\n",
       "    core type: ExprRange\n",
       "    lambda_map: 13\n",
       "    start_index: 26\n",
       "    end_index: 19\n",
       "11. k -> x_{k,1}, ..x_{k,_a}.., x_{k,n}\n",
       "    core type: Lambda\n",
       "    parameter: 30\n",
       "    body: 14\n",
       "12. m - 1\n",
       "    core type: Operation\n",
       "    operator: 15\n",
       "    operands: 16\n",
       "13. x -> (x * x)\n",
       "    core type: Lambda\n",
       "    parameter: 29\n",
       "    body: 17\n",
       "14. x_{k,1}, ..x_{k,_a}.., x_{k,n}\n",
       "    core type: ExprRange\n",
       "    lambda_map: 18\n",
       "    start_index: 26\n",
       "    end_index: 19\n",
       "15. +\n",
       "    core type: Literal\n",
       "    sub-expressions: \n",
       "16. (m, -1)\n",
       "    core type: ExprTuple\n",
       "    sub-expressions: 20, 21\n",
       "17. x * x\n",
       "    core type: Operation\n",
       "    operator: 22\n",
       "    operands: 23\n",
       "18. _a -> x_{k,_a}\n",
       "    core type: Lambda\n",
       "    parameter: 28\n",
       "    body: 24\n",
       "19. n\n",
       "    core type: Variable\n",
       "    sub-expressions: \n",
       "20. m\n",
       "    core type: Variable\n",
       "    sub-expressions: \n",
       "21. -1\n",
       "    core type: Operation\n",
       "    operator: 25\n",
       "    operand: 26\n",
       "22. *\n",
       "    core type: Literal\n",
       "    sub-expressions: \n",
       "23. (x, x)\n",
       "    core type: ExprTuple\n",
       "    sub-expressions: 29, 29\n",
       "24. x_{k,_a}\n",
       "    core type: IndexedVar\n",
       "variable: 27\n",
       "index: 28\n",
       "25. -\n",
       "    core type: Literal\n",
       "    sub-expressions: \n",
       "26. 1\n",
       "    core type: Literal\n",
       "    sub-expressions: \n",
       "27. x_{k}\n",
       "    core type: IndexedVar\n",
       "variable: 29\n",
       "index: 30\n",
       "28. _a\n",
       "    core type: Variable\n",
       "    sub-expressions: \n",
       "29. x\n",
       "    core type: Variable\n",
       "    sub-expressions: \n",
       "30. k\n",
       "    core type: Variable\n",
       "    sub-expressions: "
      ]
     },
     "execution_count": 5,
     "metadata": {},
     "output_type": "execute_result"
    }
   ],
   "source": [
    "# display the expression information\n",
    "expr.exprInfo()"
   ]
  },
  {
   "cell_type": "code",
   "execution_count": null,
   "metadata": {},
   "outputs": [],
   "source": []
  }
 ],
 "metadata": {
  "kernelspec": {
   "display_name": "Python 3",
   "language": "python",
   "name": "python3"
  },
  "language_info": {
   "codemirror_mode": {
    "name": "ipython",
    "version": 3
   },
   "file_extension": ".py",
   "mimetype": "text/x-python",
   "name": "python",
   "nbconvert_exporter": "python",
   "pygments_lexer": "ipython3",
   "version": "3.7.3"
  }
 },
 "nbformat": 4,
 "nbformat_minor": 1
}
