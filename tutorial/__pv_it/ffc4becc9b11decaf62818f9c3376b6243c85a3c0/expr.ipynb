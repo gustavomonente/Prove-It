{
 "cells": [
  {
   "cell_type": "markdown",
   "metadata": {},
   "source": [
    "Expression of type <a class=\"ProveItLink\" href=\"../../../doc/html/api/proveit.Lambda.html\">Lambda</a>\n",
    "=======================\n",
    "# from context <a class=\"ProveItLink\" href=\"../../_context_.ipynb\">tutorial</a>"
   ]
  },
  {
   "cell_type": "code",
   "execution_count": 1,
   "metadata": {},
   "outputs": [],
   "source": [
    "import proveit\n",
    "# Automation is not needed when building an expression:\n",
    "proveit.defaults.automation = False # This will speed things up.\n",
    "proveit.defaults.inline_pngs = False # Makes files smaller.\n",
    "# import Expression classes needed to build the expression\n",
    "from proveit import Conditional, ExprRange, Function, Lambda\n",
    "from proveit._common_ import a, f, i, j, k, l\n",
    "from proveit.core_expr_types._common_ import f_i_to_j\n",
    "from proveit.logic import And, Equals, InSet\n",
    "from proveit.number import Add, Naturals, Neg, one"
   ]
  },
  {
   "cell_type": "code",
   "execution_count": 2,
   "metadata": {},
   "outputs": [
    {
     "data": {
      "text/html": [
       "<strong id=\"expr\">expr:</strong> <a class=\"ProveItLink\" href=\"expr.ipynb\"><img src=\"expr.png\" style=\"display:inline;vertical-align:middle;\" /></a><br>"
      ],
      "text/plain": [
       "expr: (i, j, k, l) -> {(f(i), ..f(a).., f(j)) = (f(k + a), ..f(i + a).., f(l + a)) if ((j + 1) - i) in Naturals ,  k = (i - a) ,  l = (j - a)."
      ]
     },
     "execution_count": 2,
     "metadata": {},
     "output_type": "execute_result"
    }
   ],
   "source": [
    "# build up the expression from sub-expressions\n",
    "subExpr1 = Neg(a)\n",
    "expr = Lambda([i, j, k, l], Conditional(Equals([f_i_to_j], [ExprRange(i, Function(f, Add(i, a)), k, l)]), And(InSet(Add(Add(j, one), Neg(i)), Naturals), Equals(k, Add(i, subExpr1)), Equals(l, Add(j, subExpr1)))))"
   ]
  },
  {
   "cell_type": "code",
   "execution_count": 3,
   "metadata": {},
   "outputs": [
    {
     "name": "stdout",
     "output_type": "stream",
     "text": [
      "Passed sanity check: built 'expr' is the same as the stored Expression.\n"
     ]
    }
   ],
   "source": [
    "# check that the built expression is the same as the stored expression\n",
    "%check_expr"
   ]
  },
  {
   "cell_type": "code",
   "execution_count": 4,
   "metadata": {},
   "outputs": [
    {
     "name": "stdout",
     "output_type": "stream",
     "text": [
      "\\left(i, j, k, l\\right) \\mapsto \\left\\{\\left(f(i), \\ldots, f(j)\\right) = \\left(f(k + a), \\ldots, f(l + a)\\right) \\textrm{ if } \\left(\\left(j + 1\\right) - i\\right) \\in \\mathbb{N} ,  k = \\left(i - a\\right) ,  l = \\left(j - a\\right)\\right..\n"
     ]
    }
   ],
   "source": [
    "# Show the LaTeX representation of the expression for convenience if you need it.\n",
    "print(expr.latex())"
   ]
  },
  {
   "cell_type": "code",
   "execution_count": 5,
   "metadata": {},
   "outputs": [
    {
     "data": {
      "text/html": [
       "<table><tr><th>&nbsp;</th><th>core type</th><th>sub-expressions</th><th>expression</th></tr>\n",
       "<tr><td>0</td><td>Lambda</td><td>parameters:&nbsp;1<br>body:&nbsp;2<br></td><td><a class=\"ProveItLink\" href=\"expr.ipynb\"><img src=\"expr.png\" style=\"display:inline;vertical-align:middle;\" /></a></td></tr>\n",
       "<tr><td>1</td><td>ExprTuple</td><td>42, 44, 24, 26</td><td><a class=\"ProveItLink\" href=\"../783d3ea0aa066a7b08d477656b7128b8fcaf77590/expr.ipynb\"><img src=\"../783d3ea0aa066a7b08d477656b7128b8fcaf77590/expr.png\" style=\"display:inline;vertical-align:middle;\" /></a></td></tr>\n",
       "<tr><td>2</td><td>Conditional</td><td>value:&nbsp;3<br>condition:&nbsp;4<br></td><td><a class=\"ProveItLink\" href=\"../9d1247976a134c93ae11b963e80c9e10c98a34c60/expr.ipynb\"><img src=\"../9d1247976a134c93ae11b963e80c9e10c98a34c60/expr.png\" style=\"display:inline;vertical-align:middle;\" /></a></td></tr>\n",
       "<tr><td>3</td><td>Operation</td><td>operator:&nbsp;18<br>operands:&nbsp;5<br></td><td><a class=\"ProveItLink\" href=\"../b31598f9214ba9927c22cabcf3f1cea368cce0e10/expr.ipynb\"><img src=\"../b31598f9214ba9927c22cabcf3f1cea368cce0e10/expr.png\" style=\"display:inline;vertical-align:middle;\" /></a></td></tr>\n",
       "<tr><td>4</td><td>Operation</td><td>operator:&nbsp;6<br>operands:&nbsp;7<br></td><td><a class=\"ProveItLink\" href=\"../430289c571f2f05f8a07fce1e25e6f27c00bedb10/expr.ipynb\"><img src=\"../430289c571f2f05f8a07fce1e25e6f27c00bedb10/expr.png\" style=\"display:inline;vertical-align:middle;\" /></a></td></tr>\n",
       "<tr><td>5</td><td>ExprTuple</td><td>8, 9</td><td><a class=\"ProveItLink\" href=\"../0de8f46c7a0bf2bffd1157d0bcc630304b8904400/expr.ipynb\"><img src=\"../0de8f46c7a0bf2bffd1157d0bcc630304b8904400/expr.png\" style=\"display:inline;vertical-align:middle;\" /></a></td></tr>\n",
       "<tr><td>6</td><td>Literal</td><td></td><td><a class=\"ProveItLink\" href=\"../../../packages/proveit/logic/boolean/conjunction/__pv_it/f41cc6b553210927c09f19a8a39cdf860a5585930/expr.ipynb\"><img src=\"../../../packages/proveit/logic/boolean/conjunction/__pv_it/f41cc6b553210927c09f19a8a39cdf860a5585930/expr.png\" style=\"display:inline;vertical-align:middle;\" /></a></td></tr>\n",
       "<tr><td>7</td><td>ExprTuple</td><td>10, 11, 12</td><td><a class=\"ProveItLink\" href=\"../f55aff9744d39b9f1b4c7509c74cc1629fd523b20/expr.ipynb\"><img src=\"../f55aff9744d39b9f1b4c7509c74cc1629fd523b20/expr.png\" style=\"display:inline;vertical-align:middle;\" /></a></td></tr>\n",
       "<tr><td>8</td><td>ExprTuple</td><td>13</td><td><a class=\"ProveItLink\" href=\"../97b8e21db31cdb2e85faed61a1b631e99b0d8c0b0/expr.ipynb\"><img src=\"../97b8e21db31cdb2e85faed61a1b631e99b0d8c0b0/expr.png\" style=\"display:inline;vertical-align:middle;\" /></a></td></tr>\n",
       "<tr><td>9</td><td>ExprTuple</td><td>14</td><td><a class=\"ProveItLink\" href=\"../5506f8283a2519f3c2539d97476e807e4d6a00a90/expr.ipynb\"><img src=\"../5506f8283a2519f3c2539d97476e807e4d6a00a90/expr.png\" style=\"display:inline;vertical-align:middle;\" /></a></td></tr>\n",
       "<tr><td>10</td><td>Operation</td><td>operator:&nbsp;15<br>operands:&nbsp;16<br></td><td><a class=\"ProveItLink\" href=\"../37aa1d741145e9e4d5c72ca0740f21d781ee7f760/expr.ipynb\"><img src=\"../37aa1d741145e9e4d5c72ca0740f21d781ee7f760/expr.png\" style=\"display:inline;vertical-align:middle;\" /></a></td></tr>\n",
       "<tr><td>11</td><td>Operation</td><td>operator:&nbsp;18<br>operands:&nbsp;17<br></td><td><a class=\"ProveItLink\" href=\"../1a15bec5667882d47779c01b2f58a3853ee7391f0/expr.ipynb\"><img src=\"../1a15bec5667882d47779c01b2f58a3853ee7391f0/expr.png\" style=\"display:inline;vertical-align:middle;\" /></a></td></tr>\n",
       "<tr><td>12</td><td>Operation</td><td>operator:&nbsp;18<br>operands:&nbsp;19<br></td><td><a class=\"ProveItLink\" href=\"../eb9f7565dee93faefe28b7c400a4f65128b614750/expr.ipynb\"><img src=\"../eb9f7565dee93faefe28b7c400a4f65128b614750/expr.png\" style=\"display:inline;vertical-align:middle;\" /></a></td></tr>\n",
       "<tr><td>13</td><td>ExprRange</td><td>lambda_map:&nbsp;20<br>start_index:&nbsp;42<br>end_index:&nbsp;44<br></td><td><a class=\"ProveItLink\" href=\"../../../packages/proveit/core_expr_types/__pv_it/4364953c923fa6ca90559992aee2d3b09264c0360/expr.ipynb\"><img src=\"../../../packages/proveit/core_expr_types/__pv_it/4364953c923fa6ca90559992aee2d3b09264c0360/expr.png\" style=\"display:inline;vertical-align:middle;\" /></a></td></tr>\n",
       "<tr><td>14</td><td>ExprRange</td><td>lambda_map:&nbsp;21<br>start_index:&nbsp;24<br>end_index:&nbsp;26<br></td><td><a class=\"ProveItLink\" href=\"../6fe55684936359920790e20d2379a252f4e475340/expr.ipynb\"><img src=\"../6fe55684936359920790e20d2379a252f4e475340/expr.png\" style=\"display:inline;vertical-align:middle;\" /></a></td></tr>\n",
       "<tr><td>15</td><td>Literal</td><td></td><td><a class=\"ProveItLink\" href=\"../../../packages/proveit/logic/set_theory/membership/__pv_it/7776fc89cb67d0b5b1ec2c0c8e08da5587921ccf0/expr.ipynb\"><img src=\"../../../packages/proveit/logic/set_theory/membership/__pv_it/7776fc89cb67d0b5b1ec2c0c8e08da5587921ccf0/expr.png\" style=\"display:inline;vertical-align:middle;\" /></a></td></tr>\n",
       "<tr><td>16</td><td>ExprTuple</td><td>22, 23</td><td><a class=\"ProveItLink\" href=\"../598657569168e3dad0031afc8295b3336ca2a8750/expr.ipynb\"><img src=\"../598657569168e3dad0031afc8295b3336ca2a8750/expr.png\" style=\"display:inline;vertical-align:middle;\" /></a></td></tr>\n",
       "<tr><td>17</td><td>ExprTuple</td><td>24, 25</td><td><a class=\"ProveItLink\" href=\"../b5812a7e478635a880770cbc215e8e2e8923c6cb0/expr.ipynb\"><img src=\"../b5812a7e478635a880770cbc215e8e2e8923c6cb0/expr.png\" style=\"display:inline;vertical-align:middle;\" /></a></td></tr>\n",
       "<tr><td>18</td><td>Literal</td><td></td><td><a class=\"ProveItLink\" href=\"../../../packages/proveit/logic/equality/__pv_it/e16d2caa26a16688b658bdb9c422caf4b84579e10/expr.ipynb\"><img src=\"../../../packages/proveit/logic/equality/__pv_it/e16d2caa26a16688b658bdb9c422caf4b84579e10/expr.png\" style=\"display:inline;vertical-align:middle;\" /></a></td></tr>\n",
       "<tr><td>19</td><td>ExprTuple</td><td>26, 27</td><td><a class=\"ProveItLink\" href=\"../ddafd37d75d1075ca7d97f6c7fc7ebcbf4ec1d3b0/expr.ipynb\"><img src=\"../ddafd37d75d1075ca7d97f6c7fc7ebcbf4ec1d3b0/expr.png\" style=\"display:inline;vertical-align:middle;\" /></a></td></tr>\n",
       "<tr><td>20</td><td>Lambda</td><td>parameter:&nbsp;43<br>body:&nbsp;28<br></td><td><a class=\"ProveItLink\" href=\"../../../packages/proveit/core_expr_types/__pv_it/4df79cbef650a27c8a09538689706d4ef348e6770/expr.ipynb\"><img src=\"../../../packages/proveit/core_expr_types/__pv_it/4df79cbef650a27c8a09538689706d4ef348e6770/expr.png\" style=\"display:inline;vertical-align:middle;\" /></a></td></tr>\n",
       "<tr><td>21</td><td>Lambda</td><td>parameter:&nbsp;42<br>body:&nbsp;29<br></td><td><a class=\"ProveItLink\" href=\"../fdb83ad7e2e4a01752aa8876c5802f268acfe1b40/expr.ipynb\"><img src=\"../fdb83ad7e2e4a01752aa8876c5802f268acfe1b40/expr.png\" style=\"display:inline;vertical-align:middle;\" /></a></td></tr>\n",
       "<tr><td>22</td><td>Operation</td><td>operator:&nbsp;39<br>operands:&nbsp;30<br></td><td><a class=\"ProveItLink\" href=\"../e522943c3507fe68782aec5eb5bee1488cc8614d0/expr.ipynb\"><img src=\"../e522943c3507fe68782aec5eb5bee1488cc8614d0/expr.png\" style=\"display:inline;vertical-align:middle;\" /></a></td></tr>\n",
       "<tr><td>23</td><td>Literal</td><td></td><td><a class=\"ProveItLink\" href=\"../../../packages/proveit/number/sets/integer/__pv_it/b49c37b99b7e8d73a8d7971bcf454d693b90a2c60/expr.ipynb\"><img src=\"../../../packages/proveit/number/sets/integer/__pv_it/b49c37b99b7e8d73a8d7971bcf454d693b90a2c60/expr.png\" style=\"display:inline;vertical-align:middle;\" /></a></td></tr>\n",
       "<tr><td>24</td><td>Variable</td><td></td><td><a class=\"ProveItLink\" href=\"../../../packages/proveit/__pv_it/273f49450ca25e1b56abbd98a7aef618f8f6c1360/expr.ipynb\"><img src=\"../../../packages/proveit/__pv_it/273f49450ca25e1b56abbd98a7aef618f8f6c1360/expr.png\" style=\"display:inline;vertical-align:middle;\" /></a></td></tr>\n",
       "<tr><td>25</td><td>Operation</td><td>operator:&nbsp;39<br>operands:&nbsp;31<br></td><td><a class=\"ProveItLink\" href=\"../c967103a13d52bedcd6f328f0ae7073bbaa7eb410/expr.ipynb\"><img src=\"../c967103a13d52bedcd6f328f0ae7073bbaa7eb410/expr.png\" style=\"display:inline;vertical-align:middle;\" /></a></td></tr>\n",
       "<tr><td>26</td><td>Variable</td><td></td><td><a class=\"ProveItLink\" href=\"../../../packages/proveit/__pv_it/146a2ac733407ae00030c58af25a3e0f465a566a0/expr.ipynb\"><img src=\"../../../packages/proveit/__pv_it/146a2ac733407ae00030c58af25a3e0f465a566a0/expr.png\" style=\"display:inline;vertical-align:middle;\" /></a></td></tr>\n",
       "<tr><td>27</td><td>Operation</td><td>operator:&nbsp;39<br>operands:&nbsp;32<br></td><td><a class=\"ProveItLink\" href=\"../0fb9d69b53ca418b9c93ea66f1a32ad794081b2e0/expr.ipynb\"><img src=\"../0fb9d69b53ca418b9c93ea66f1a32ad794081b2e0/expr.png\" style=\"display:inline;vertical-align:middle;\" /></a></td></tr>\n",
       "<tr><td>28</td><td>Operation</td><td>operator:&nbsp;33<br>operand:&nbsp;43<br></td><td><a class=\"ProveItLink\" href=\"../../../packages/proveit/__pv_it/e80bce2a0c2e8c976be76e7b3ce08f76e74ec5550/expr.ipynb\"><img src=\"../../../packages/proveit/__pv_it/e80bce2a0c2e8c976be76e7b3ce08f76e74ec5550/expr.png\" style=\"display:inline;vertical-align:middle;\" /></a></td></tr>\n",
       "<tr><td>29</td><td>Operation</td><td>operator:&nbsp;33<br>operand:&nbsp;34<br></td><td><a class=\"ProveItLink\" href=\"../16ee7474c581685717f6389eeaf5c7046f4336910/expr.ipynb\"><img src=\"../16ee7474c581685717f6389eeaf5c7046f4336910/expr.png\" style=\"display:inline;vertical-align:middle;\" /></a></td></tr>\n",
       "<tr><td>30</td><td>ExprTuple</td><td>35, 36</td><td><a class=\"ProveItLink\" href=\"../49d8574381ae116168cd53d6fd873f0eda307a6e0/expr.ipynb\"><img src=\"../49d8574381ae116168cd53d6fd873f0eda307a6e0/expr.png\" style=\"display:inline;vertical-align:middle;\" /></a></td></tr>\n",
       "<tr><td>31</td><td>ExprTuple</td><td>42, 37</td><td><a class=\"ProveItLink\" href=\"../81a2998c48856942469e1c335538316efb0212540/expr.ipynb\"><img src=\"../81a2998c48856942469e1c335538316efb0212540/expr.png\" style=\"display:inline;vertical-align:middle;\" /></a></td></tr>\n",
       "<tr><td>32</td><td>ExprTuple</td><td>44, 37</td><td><a class=\"ProveItLink\" href=\"../2061e4aadd25e2bbc5bdc90e639563f19cc989d40/expr.ipynb\"><img src=\"../2061e4aadd25e2bbc5bdc90e639563f19cc989d40/expr.png\" style=\"display:inline;vertical-align:middle;\" /></a></td></tr>\n",
       "<tr><td>33</td><td>Variable</td><td></td><td><a class=\"ProveItLink\" href=\"../../../packages/proveit/__pv_it/d7bbb04e874e28c7cefb21d4eea40806ae52f1f70/expr.ipynb\"><img src=\"../../../packages/proveit/__pv_it/d7bbb04e874e28c7cefb21d4eea40806ae52f1f70/expr.png\" style=\"display:inline;vertical-align:middle;\" /></a></td></tr>\n",
       "<tr><td>34</td><td>Operation</td><td>operator:&nbsp;39<br>operands:&nbsp;38<br></td><td><a class=\"ProveItLink\" href=\"../dcdb5322f9b0073ac015bf3b9be881f9c9db77d50/expr.ipynb\"><img src=\"../dcdb5322f9b0073ac015bf3b9be881f9c9db77d50/expr.png\" style=\"display:inline;vertical-align:middle;\" /></a></td></tr>\n",
       "<tr><td>35</td><td>Operation</td><td>operator:&nbsp;39<br>operands:&nbsp;40<br></td><td><a class=\"ProveItLink\" href=\"../c24113b5c38ba32e99d87d214af69362016a17fe0/expr.ipynb\"><img src=\"../c24113b5c38ba32e99d87d214af69362016a17fe0/expr.png\" style=\"display:inline;vertical-align:middle;\" /></a></td></tr>\n",
       "<tr><td>36</td><td>Operation</td><td>operator:&nbsp;41<br>operand:&nbsp;42<br></td><td><a class=\"ProveItLink\" href=\"../e30e84c6c241a2e59facf3853e0cf2095a9c3cb00/expr.ipynb\"><img src=\"../e30e84c6c241a2e59facf3853e0cf2095a9c3cb00/expr.png\" style=\"display:inline;vertical-align:middle;\" /></a></td></tr>\n",
       "<tr><td>37</td><td>Operation</td><td>operator:&nbsp;41<br>operand:&nbsp;43<br></td><td><a class=\"ProveItLink\" href=\"../9e11b44d116bb7028e93a15170006f37a2d616070/expr.ipynb\"><img src=\"../9e11b44d116bb7028e93a15170006f37a2d616070/expr.png\" style=\"display:inline;vertical-align:middle;\" /></a></td></tr>\n",
       "<tr><td>38</td><td>ExprTuple</td><td>42, 43</td><td><a class=\"ProveItLink\" href=\"../b0b45a9bfddec816d28304b97c50b88551b2796d0/expr.ipynb\"><img src=\"../b0b45a9bfddec816d28304b97c50b88551b2796d0/expr.png\" style=\"display:inline;vertical-align:middle;\" /></a></td></tr>\n",
       "<tr><td>39</td><td>Literal</td><td></td><td><a class=\"ProveItLink\" href=\"../../../packages/proveit/number/addition/__pv_it/65ad7e8aee19b10110d590375ba95a879c4fb7ea0/expr.ipynb\"><img src=\"../../../packages/proveit/number/addition/__pv_it/65ad7e8aee19b10110d590375ba95a879c4fb7ea0/expr.png\" style=\"display:inline;vertical-align:middle;\" /></a></td></tr>\n",
       "<tr><td>40</td><td>ExprTuple</td><td>44, 45</td><td><a class=\"ProveItLink\" href=\"../a6730aa6a9af9a6e7774016b6b9febfe2d879d590/expr.ipynb\"><img src=\"../a6730aa6a9af9a6e7774016b6b9febfe2d879d590/expr.png\" style=\"display:inline;vertical-align:middle;\" /></a></td></tr>\n",
       "<tr><td>41</td><td>Literal</td><td></td><td><a class=\"ProveItLink\" href=\"../../../packages/proveit/number/negation/__pv_it/2867787e35502987d81a45cac8e7f1c6996d6ff40/expr.ipynb\"><img src=\"../../../packages/proveit/number/negation/__pv_it/2867787e35502987d81a45cac8e7f1c6996d6ff40/expr.png\" style=\"display:inline;vertical-align:middle;\" /></a></td></tr>\n",
       "<tr><td>42</td><td>Variable</td><td></td><td><a class=\"ProveItLink\" href=\"../../../packages/proveit/__pv_it/557ab5defdcd46aa58168b08767502985122cd490/expr.ipynb\"><img src=\"../../../packages/proveit/__pv_it/557ab5defdcd46aa58168b08767502985122cd490/expr.png\" style=\"display:inline;vertical-align:middle;\" /></a></td></tr>\n",
       "<tr><td>43</td><td>Variable</td><td></td><td><a class=\"ProveItLink\" href=\"../../../packages/proveit/__pv_it/a8d4b3a34d2189508f9082853fbac36935714f280/expr.ipynb\"><img src=\"../../../packages/proveit/__pv_it/a8d4b3a34d2189508f9082853fbac36935714f280/expr.png\" style=\"display:inline;vertical-align:middle;\" /></a></td></tr>\n",
       "<tr><td>44</td><td>Variable</td><td></td><td><a class=\"ProveItLink\" href=\"../../../packages/proveit/__pv_it/6a5b5879f51878868f626bf09e4d76392d4779cd0/expr.ipynb\"><img src=\"../../../packages/proveit/__pv_it/6a5b5879f51878868f626bf09e4d76392d4779cd0/expr.png\" style=\"display:inline;vertical-align:middle;\" /></a></td></tr>\n",
       "<tr><td>45</td><td>Literal</td><td></td><td><a class=\"ProveItLink\" href=\"../../../packages/proveit/number/numeral/__pv_it/f086f8c372bd40a2458306ddfdbb29f3dc6f63030/expr.ipynb\"><img src=\"../../../packages/proveit/number/numeral/__pv_it/f086f8c372bd40a2458306ddfdbb29f3dc6f63030/expr.png\" style=\"display:inline;vertical-align:middle;\" /></a></td></tr>\n",
       "</table>\n"
      ],
      "text/plain": [
       "0. (i, j, k, l) -> {(f(i), ..f(a).., f(j)) = (f(k + a), ..f(i + a).., f(l + a)) if ((j + 1) - i) in Naturals ,  k = (i - a) ,  l = (j - a).\n",
       "   core type: Lambda\n",
       "   parameters: 1\\n   body: 2\n",
       "1. (i, j, k, l)\n",
       "   core type: ExprTuple\n",
       "   sub-expressions: 42, 44, 24, 26\n",
       "2. {(f(i), ..f(a).., f(j)) = (f(k + a), ..f(i + a).., f(l + a)) if ((j + 1) - i) in Naturals ,  k = (i - a) ,  l = (j - a).\n",
       "   core type: Conditional\n",
       "   value: 3\n",
       "   condition: 4\n",
       "3. (f(i), ..f(a).., f(j)) = (f(k + a), ..f(i + a).., f(l + a))\n",
       "   core type: Operation\n",
       "   operator: 18\n",
       "   operands: 5\n",
       "4. (((j + 1) - i) in Naturals) and (k = (i - a)) and (l = (j - a))\n",
       "   core type: Operation\n",
       "   operator: 6\n",
       "   operands: 7\n",
       "5. ((f(i), ..f(a).., f(j)), (f(k + a), ..f(i + a).., f(l + a)))\n",
       "   core type: ExprTuple\n",
       "   sub-expressions: 8, 9\n",
       "6. and\n",
       "   core type: Literal\n",
       "   sub-expressions: \n",
       "7. (((j + 1) - i) in Naturals, k = (i - a), l = (j - a))\n",
       "   core type: ExprTuple\n",
       "   sub-expressions: 10, 11, 12\n",
       "8. (f(i), ..f(a).., f(j))\n",
       "   core type: ExprTuple\n",
       "   sub-expressions: 13\n",
       "9. (f(k + a), ..f(i + a).., f(l + a))\n",
       "   core type: ExprTuple\n",
       "   sub-expressions: 14\n",
       "10. ((j + 1) - i) in Naturals\n",
       "    core type: Operation\n",
       "    operator: 15\n",
       "    operands: 16\n",
       "11. k = (i - a)\n",
       "    core type: Operation\n",
       "    operator: 18\n",
       "    operands: 17\n",
       "12. l = (j - a)\n",
       "    core type: Operation\n",
       "    operator: 18\n",
       "    operands: 19\n",
       "13. f(i), ..f(a).., f(j)\n",
       "    core type: ExprRange\n",
       "    lambda_map: 20\n",
       "    start_index: 42\n",
       "    end_index: 44\n",
       "14. f(k + a), ..f(i + a).., f(l + a)\n",
       "    core type: ExprRange\n",
       "    lambda_map: 21\n",
       "    start_index: 24\n",
       "    end_index: 26\n",
       "15. in\n",
       "    core type: Literal\n",
       "    sub-expressions: \n",
       "16. ((j + 1) - i, Naturals)\n",
       "    core type: ExprTuple\n",
       "    sub-expressions: 22, 23\n",
       "17. (k, i - a)\n",
       "    core type: ExprTuple\n",
       "    sub-expressions: 24, 25\n",
       "18. =\n",
       "    core type: Literal\n",
       "    sub-expressions: \n",
       "19. (l, j - a)\n",
       "    core type: ExprTuple\n",
       "    sub-expressions: 26, 27\n",
       "20. a -> f(a)\n",
       "    core type: Lambda\n",
       "    parameter: 43\n",
       "    body: 28\n",
       "21. i -> f(i + a)\n",
       "    core type: Lambda\n",
       "    parameter: 42\n",
       "    body: 29\n",
       "22. (j + 1) - i\n",
       "    core type: Operation\n",
       "    operator: 39\n",
       "    operands: 30\n",
       "23. Naturals\n",
       "    core type: Literal\n",
       "    sub-expressions: \n",
       "24. k\n",
       "    core type: Variable\n",
       "    sub-expressions: \n",
       "25. i - a\n",
       "    core type: Operation\n",
       "    operator: 39\n",
       "    operands: 31\n",
       "26. l\n",
       "    core type: Variable\n",
       "    sub-expressions: \n",
       "27. j - a\n",
       "    core type: Operation\n",
       "    operator: 39\n",
       "    operands: 32\n",
       "28. f(a)\n",
       "    core type: Operation\n",
       "    operator: 33\n",
       "    operand: 43\n",
       "29. f(i + a)\n",
       "    core type: Operation\n",
       "    operator: 33\n",
       "    operand: 34\n",
       "30. (j + 1, -i)\n",
       "    core type: ExprTuple\n",
       "    sub-expressions: 35, 36\n",
       "31. (i, -a)\n",
       "    core type: ExprTuple\n",
       "    sub-expressions: 42, 37\n",
       "32. (j, -a)\n",
       "    core type: ExprTuple\n",
       "    sub-expressions: 44, 37\n",
       "33. f\n",
       "    core type: Variable\n",
       "    sub-expressions: \n",
       "34. i + a\n",
       "    core type: Operation\n",
       "    operator: 39\n",
       "    operands: 38\n",
       "35. j + 1\n",
       "    core type: Operation\n",
       "    operator: 39\n",
       "    operands: 40\n",
       "36. -i\n",
       "    core type: Operation\n",
       "    operator: 41\n",
       "    operand: 42\n",
       "37. -a\n",
       "    core type: Operation\n",
       "    operator: 41\n",
       "    operand: 43\n",
       "38. (i, a)\n",
       "    core type: ExprTuple\n",
       "    sub-expressions: 42, 43\n",
       "39. +\n",
       "    core type: Literal\n",
       "    sub-expressions: \n",
       "40. (j, 1)\n",
       "    core type: ExprTuple\n",
       "    sub-expressions: 44, 45\n",
       "41. -\n",
       "    core type: Literal\n",
       "    sub-expressions: \n",
       "42. i\n",
       "    core type: Variable\n",
       "    sub-expressions: \n",
       "43. a\n",
       "    core type: Variable\n",
       "    sub-expressions: \n",
       "44. j\n",
       "    core type: Variable\n",
       "    sub-expressions: \n",
       "45. 1\n",
       "    core type: Literal\n",
       "    sub-expressions: "
      ]
     },
     "execution_count": 5,
     "metadata": {},
     "output_type": "execute_result"
    }
   ],
   "source": [
    "# display the expression information\n",
    "expr.exprInfo()"
   ]
  },
  {
   "cell_type": "code",
   "execution_count": null,
   "metadata": {},
   "outputs": [],
   "source": []
  }
 ],
 "metadata": {
  "kernelspec": {
   "display_name": "Python 3",
   "language": "python",
   "name": "python3"
  },
  "language_info": {
   "codemirror_mode": {
    "name": "ipython",
    "version": 3
   },
   "file_extension": ".py",
   "mimetype": "text/x-python",
   "name": "python",
   "nbconvert_exporter": "python",
   "pygments_lexer": "ipython3",
   "version": "3.7.3"
  }
 },
 "nbformat": 4,
 "nbformat_minor": 1
}
