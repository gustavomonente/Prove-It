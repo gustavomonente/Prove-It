{
 "cells": [
  {
   "cell_type": "markdown",
   "metadata": {},
   "source": [
    "Expression of type <a class=\"ProveItLink\" href=\"../../../doc/html/api/proveit.logic.Equals.html\">Equals</a>\n",
    "=======================\n",
    "# from context <a class=\"ProveItLink\" href=\"../../_context_.ipynb\">tutorial</a>"
   ]
  },
  {
   "cell_type": "code",
   "execution_count": 1,
   "metadata": {},
   "outputs": [],
   "source": [
    "import proveit\n",
    "# Automation is not needed when building an expression:\n",
    "proveit.defaults.automation = False # This will speed things up.\n",
    "proveit.defaults.inline_pngs = False # Makes files smaller.\n",
    "# import Expression classes needed to build the expression\n",
    "from proveit import ExprRange\n",
    "from proveit._common_ import k\n",
    "from proveit.core_expr_types import Len\n",
    "from proveit.logic import Equals\n",
    "from proveit.number import one"
   ]
  },
  {
   "cell_type": "code",
   "execution_count": 2,
   "metadata": {},
   "outputs": [
    {
     "data": {
      "text/html": [
       "<strong id=\"expr\">expr:</strong> <a class=\"ProveItLink\" href=\"../8d775a5fa7f07305c6e87a313af5ac5dab49f4960/expr.ipynb\"><img src=\"../8d775a5fa7f07305c6e87a313af5ac5dab49f4960/expr.png\" style=\"display:inline;vertical-align:middle;\" /></a><br>"
      ],
      "text/plain": [
       "expr: |(1)| = |(1, ..k.., 1)|"
      ]
     },
     "execution_count": 2,
     "metadata": {},
     "output_type": "execute_result"
    }
   ],
   "source": [
    "# build up the expression from sub-expressions\n",
    "expr = Equals(Len([one]), Len([ExprRange(k, k, one, one)]))"
   ]
  },
  {
   "cell_type": "code",
   "execution_count": 3,
   "metadata": {},
   "outputs": [
    {
     "name": "stdout",
     "output_type": "stream",
     "text": [
      "Passed sanity check: built 'expr' is the same as the stored Expression.\n"
     ]
    }
   ],
   "source": [
    "# check that the built expression is the same as the stored expression\n",
    "%check_expr"
   ]
  },
  {
   "cell_type": "code",
   "execution_count": 4,
   "metadata": {},
   "outputs": [
    {
     "name": "stdout",
     "output_type": "stream",
     "text": [
      "|\\left(1\\right)| = |\\left(1, \\ldots, 1\\right)|\n"
     ]
    }
   ],
   "source": [
    "# Show the LaTeX representation of the expression for convenience if you need it.\n",
    "print(expr.latex())"
   ]
  },
  {
   "cell_type": "code",
   "execution_count": 5,
   "metadata": {},
   "outputs": [
    {
     "data": {
      "text/html": [
       "<table><tr><th>&nbsp;</th><th>core type</th><th>sub-expressions</th><th>expression</th></tr>\n",
       "<tr><td>0</td><td>Operation</td><td>operator:&nbsp;1<br>operands:&nbsp;2<br></td><td><a class=\"ProveItLink\" href=\"../8d775a5fa7f07305c6e87a313af5ac5dab49f4960/expr.ipynb\"><img src=\"../8d775a5fa7f07305c6e87a313af5ac5dab49f4960/expr.png\" style=\"display:inline;vertical-align:middle;\" /></a></td></tr>\n",
       "<tr><td>1</td><td>Literal</td><td></td><td><a class=\"ProveItLink\" href=\"../../../packages/proveit/logic/equality/__pv_it/e16d2caa26a16688b658bdb9c422caf4b84579e10/expr.ipynb\"><img src=\"../../../packages/proveit/logic/equality/__pv_it/e16d2caa26a16688b658bdb9c422caf4b84579e10/expr.png\" style=\"display:inline;vertical-align:middle;\" /></a></td></tr>\n",
       "<tr><td>2</td><td>ExprTuple</td><td>3, 4</td><td><a class=\"ProveItLink\" href=\"../3dd99c6a4cf8a978afd887af6b59330fab3aeb9c0/expr.ipynb\"><img src=\"../3dd99c6a4cf8a978afd887af6b59330fab3aeb9c0/expr.png\" style=\"display:inline;vertical-align:middle;\" /></a></td></tr>\n",
       "<tr><td>3</td><td>Operation</td><td>operator:&nbsp;6<br>operand:&nbsp;8<br></td><td><a class=\"ProveItLink\" href=\"../8e9746b5f4ed38abf6e4fcc26ef9712f06bc0e700/expr.ipynb\"><img src=\"../8e9746b5f4ed38abf6e4fcc26ef9712f06bc0e700/expr.png\" style=\"display:inline;vertical-align:middle;\" /></a></td></tr>\n",
       "<tr><td>4</td><td>Operation</td><td>operator:&nbsp;6<br>operand:&nbsp;9<br></td><td><a class=\"ProveItLink\" href=\"../7465dd01fce78efcee24f8305273655c55e741520/expr.ipynb\"><img src=\"../7465dd01fce78efcee24f8305273655c55e741520/expr.png\" style=\"display:inline;vertical-align:middle;\" /></a></td></tr>\n",
       "<tr><td>5</td><td>ExprTuple</td><td>8</td><td><a class=\"ProveItLink\" href=\"../b1f63b26799b6d3bbc0ce8c8072745bc752011ab0/expr.ipynb\"><img src=\"../b1f63b26799b6d3bbc0ce8c8072745bc752011ab0/expr.png\" style=\"display:inline;vertical-align:middle;\" /></a></td></tr>\n",
       "<tr><td>6</td><td>Literal</td><td></td><td><a class=\"ProveItLink\" href=\"../../../packages/proveit/core_expr_types/tuples/__pv_it/92831c6291223dfbd76a11e90e750ae52564aa9f0/expr.ipynb\"><img src=\"../../../packages/proveit/core_expr_types/tuples/__pv_it/92831c6291223dfbd76a11e90e750ae52564aa9f0/expr.png\" style=\"display:inline;vertical-align:middle;\" /></a></td></tr>\n",
       "<tr><td>7</td><td>ExprTuple</td><td>9</td><td><a class=\"ProveItLink\" href=\"../1b274c97bd1690743676720845e39c74d1dade090/expr.ipynb\"><img src=\"../1b274c97bd1690743676720845e39c74d1dade090/expr.png\" style=\"display:inline;vertical-align:middle;\" /></a></td></tr>\n",
       "<tr><td>8</td><td>ExprTuple</td><td>12</td><td><a class=\"ProveItLink\" href=\"../a7e2f39b35c771671d9c9cd6ecbccdae3d758ace0/expr.ipynb\"><img src=\"../a7e2f39b35c771671d9c9cd6ecbccdae3d758ace0/expr.png\" style=\"display:inline;vertical-align:middle;\" /></a></td></tr>\n",
       "<tr><td>9</td><td>ExprTuple</td><td>10</td><td><a class=\"ProveItLink\" href=\"../a8bff4e93aedcb6b95ef67bbbef6b37b512623f10/expr.ipynb\"><img src=\"../a8bff4e93aedcb6b95ef67bbbef6b37b512623f10/expr.png\" style=\"display:inline;vertical-align:middle;\" /></a></td></tr>\n",
       "<tr><td>10</td><td>ExprRange</td><td>lambda_map:&nbsp;11<br>start_index:&nbsp;12<br>end_index:&nbsp;12<br></td><td><a class=\"ProveItLink\" href=\"../517b566639e5c97b600ece48ef3e110140a14e730/expr.ipynb\"><img src=\"../517b566639e5c97b600ece48ef3e110140a14e730/expr.png\" style=\"display:inline;vertical-align:middle;\" /></a></td></tr>\n",
       "<tr><td>11</td><td>Lambda</td><td>parameter:&nbsp;13<br>body:&nbsp;13<br></td><td><a class=\"ProveItLink\" href=\"../627c209e964673b8a193e829389aa751568b13af0/expr.ipynb\"><img src=\"../627c209e964673b8a193e829389aa751568b13af0/expr.png\" style=\"display:inline;vertical-align:middle;\" /></a></td></tr>\n",
       "<tr><td>12</td><td>Literal</td><td></td><td><a class=\"ProveItLink\" href=\"../../../packages/proveit/number/numeral/__pv_it/f086f8c372bd40a2458306ddfdbb29f3dc6f63030/expr.ipynb\"><img src=\"../../../packages/proveit/number/numeral/__pv_it/f086f8c372bd40a2458306ddfdbb29f3dc6f63030/expr.png\" style=\"display:inline;vertical-align:middle;\" /></a></td></tr>\n",
       "<tr><td>13</td><td>Variable</td><td></td><td><a class=\"ProveItLink\" href=\"../../../packages/proveit/__pv_it/273f49450ca25e1b56abbd98a7aef618f8f6c1360/expr.ipynb\"><img src=\"../../../packages/proveit/__pv_it/273f49450ca25e1b56abbd98a7aef618f8f6c1360/expr.png\" style=\"display:inline;vertical-align:middle;\" /></a></td></tr>\n",
       "</table>\n"
      ],
      "text/plain": [
       "0. |(1)| = |(1, ..k.., 1)|\n",
       "   core type: Operation\n",
       "   operator: 1\n",
       "   operands: 2\n",
       "1. =\n",
       "   core type: Literal\n",
       "   sub-expressions: \n",
       "2. (|(1)|, |(1, ..k.., 1)|)\n",
       "   core type: ExprTuple\n",
       "   sub-expressions: 3, 4\n",
       "3. |(1)|\n",
       "   core type: Operation\n",
       "   operator: 6\n",
       "   operand: 8\n",
       "4. |(1, ..k.., 1)|\n",
       "   core type: Operation\n",
       "   operator: 6\n",
       "   operand: 9\n",
       "5. ((1))\n",
       "   core type: ExprTuple\n",
       "   sub-expressions: 8\n",
       "6. length\n",
       "   core type: Literal\n",
       "   sub-expressions: \n",
       "7. ((1, ..k.., 1))\n",
       "   core type: ExprTuple\n",
       "   sub-expressions: 9\n",
       "8. (1)\n",
       "   core type: ExprTuple\n",
       "   sub-expressions: 12\n",
       "9. (1, ..k.., 1)\n",
       "   core type: ExprTuple\n",
       "   sub-expressions: 10\n",
       "10. 1, ..k.., 1\n",
       "    core type: ExprRange\n",
       "    lambda_map: 11\n",
       "    start_index: 12\n",
       "    end_index: 12\n",
       "11. k -> k\n",
       "    core type: Lambda\n",
       "    parameter: 13\n",
       "    body: 13\n",
       "12. 1\n",
       "    core type: Literal\n",
       "    sub-expressions: \n",
       "13. k\n",
       "    core type: Variable\n",
       "    sub-expressions: "
      ]
     },
     "execution_count": 5,
     "metadata": {},
     "output_type": "execute_result"
    }
   ],
   "source": [
    "# display the expression information\n",
    "expr.exprInfo()"
   ]
  },
  {
   "cell_type": "code",
   "execution_count": null,
   "metadata": {},
   "outputs": [],
   "source": []
  }
 ],
 "metadata": {
  "kernelspec": {
   "display_name": "Python 3",
   "language": "python",
   "name": "python3"
  },
  "language_info": {
   "codemirror_mode": {
    "name": "ipython",
    "version": 3
   },
   "file_extension": ".py",
   "mimetype": "text/x-python",
   "name": "python",
   "nbconvert_exporter": "python",
   "pygments_lexer": "ipython3",
   "version": "3.7.3"
  }
 },
 "nbformat": 4,
 "nbformat_minor": 1
}
