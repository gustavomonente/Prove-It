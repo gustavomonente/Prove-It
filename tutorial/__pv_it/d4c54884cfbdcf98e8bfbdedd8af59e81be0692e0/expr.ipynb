{
 "cells": [
  {
   "cell_type": "markdown",
   "metadata": {},
   "source": [
    "Expression of type <a class=\"ProveItLink\" href=\"../../../doc/html/api/proveit.logic.And.html\">And</a>\n",
    "=======================\n",
    "# from context <a class=\"ProveItLink\" href=\"../../_context_.ipynb\">tutorial</a>"
   ]
  },
  {
   "cell_type": "code",
   "execution_count": 1,
   "metadata": {},
   "outputs": [],
   "source": [
    "import proveit\n",
    "# Automation is not needed when building an expression:\n",
    "proveit.defaults.automation = False # This will speed things up.\n",
    "proveit.defaults.inline_pngs = False # Makes files smaller.\n",
    "# import Expression classes needed to build the expression\n",
    "from proveit import ExprRange, IndexedVar, Variable\n",
    "from proveit._common_ import A, B, C, D, i\n",
    "from proveit.logic import And, Forall, Not, Or\n",
    "from proveit.number import Add, Neg, one"
   ]
  },
  {
   "cell_type": "code",
   "execution_count": 2,
   "metadata": {},
   "outputs": [
    {
     "data": {
      "text/html": [
       "<strong id=\"expr\">expr:</strong> <a class=\"ProveItLink\" href=\"expr.ipynb\"><img src=\"expr.png\" style=\"display:inline;vertical-align:middle;\" /></a><br>"
      ],
      "text/plain": [
       "expr: [not](B_{1}) and ..[not](B_{_a}).. and [not](B_{i + (-1)}) and C_{1} and ..C_{_a}.. and C_{i} and [forall_{C_{1}, ..C_{_a}.., C_{i}} (C_{1} or ..C_{_a}.. or C_{i})] and (A or D)"
      ]
     },
     "execution_count": 2,
     "metadata": {},
     "output_type": "execute_result"
    }
   ],
   "source": [
    "# build up the expression from sub-expressions\n",
    "subExpr1 = Variable(\"_a\", latexFormat = r\"{_{-}a}\")\n",
    "subExpr2 = ExprRange(subExpr1, IndexedVar(C, subExpr1), one, i)\n",
    "expr = And(ExprRange(subExpr1, Not(IndexedVar(B, subExpr1)), one, Add(i, Neg(one)).withSubtractionAt()), subExpr2, Forall([subExpr2], Or(subExpr2)), Or(A, D))"
   ]
  },
  {
   "cell_type": "code",
   "execution_count": 3,
   "metadata": {},
   "outputs": [
    {
     "name": "stdout",
     "output_type": "stream",
     "text": [
      "Passed sanity check: built 'expr' is the same as the stored Expression.\n"
     ]
    }
   ],
   "source": [
    "# check that the built expression is the same as the stored expression\n",
    "%check_expr"
   ]
  },
  {
   "cell_type": "code",
   "execution_count": 4,
   "metadata": {},
   "outputs": [
    {
     "name": "stdout",
     "output_type": "stream",
     "text": [
      "(\\lnot B_{1}) \\land \\ldots \\land (\\lnot B_{i + \\left(-1\\right)}) \\land C_{1} \\land \\ldots \\land C_{i} \\land \\left[\\forall_{C_{1}, \\ldots, C_{i}}~\\left(C_{1} \\lor \\ldots \\lor C_{i}\\right)\\right] \\land \\left(A \\lor D\\right)\n"
     ]
    }
   ],
   "source": [
    "# Show the LaTeX representation of the expression for convenience if you need it.\n",
    "print(expr.latex())"
   ]
  },
  {
   "cell_type": "code",
   "execution_count": 5,
   "metadata": {},
   "outputs": [
    {
     "data": {
      "text/html": [
       "<table><tr><th>&nbsp;</th><th>core type</th><th>sub-expressions</th><th>expression</th></tr>\n",
       "<tr><td>0</td><td>Operation</td><td>operator:&nbsp;1<br>operands:&nbsp;2<br></td><td><a class=\"ProveItLink\" href=\"expr.ipynb\"><img src=\"expr.png\" style=\"display:inline;vertical-align:middle;\" /></a></td></tr>\n",
       "<tr><td>1</td><td>Literal</td><td></td><td><a class=\"ProveItLink\" href=\"../../../packages/proveit/logic/boolean/conjunction/__pv_it/f41cc6b553210927c09f19a8a39cdf860a5585930/expr.ipynb\"><img src=\"../../../packages/proveit/logic/boolean/conjunction/__pv_it/f41cc6b553210927c09f19a8a39cdf860a5585930/expr.png\" style=\"display:inline;vertical-align:middle;\" /></a></td></tr>\n",
       "<tr><td>2</td><td>ExprTuple</td><td>3, 24, 4, 5</td><td><a class=\"ProveItLink\" href=\"../b2cd092c2c8a6ad29ba07eb1a9c941da68d4657e0/expr.ipynb\"><img src=\"../b2cd092c2c8a6ad29ba07eb1a9c941da68d4657e0/expr.png\" style=\"display:inline;vertical-align:middle;\" /></a></td></tr>\n",
       "<tr><td>3</td><td>ExprRange</td><td>lambda_map:&nbsp;6<br>start_index:&nbsp;26<br>end_index:&nbsp;7<br></td><td><a class=\"ProveItLink\" href=\"../d2d332cb0f9fa7e668b321efc81bafbe04be93830/expr.ipynb\"><img src=\"../d2d332cb0f9fa7e668b321efc81bafbe04be93830/expr.png\" style=\"display:inline;vertical-align:middle;\" /></a></td></tr>\n",
       "<tr><td>4</td><td>Operation</td><td>operator:&nbsp;8<br>operand:&nbsp;9<br></td><td><a class=\"ProveItLink\" href=\"../7e237348e7ec97b6dc79fb75872616785e8eb83d0/expr.ipynb\"><img src=\"../7e237348e7ec97b6dc79fb75872616785e8eb83d0/expr.png\" style=\"display:inline;vertical-align:middle;\" /></a></td></tr>\n",
       "<tr><td>5</td><td>Operation</td><td>operator:&nbsp;20<br>operands:&nbsp;10<br></td><td><a class=\"ProveItLink\" href=\"../a1b99b3335c478bcd7c8f1a06edfaf844fff45550/expr.ipynb\"><img src=\"../a1b99b3335c478bcd7c8f1a06edfaf844fff45550/expr.png\" style=\"display:inline;vertical-align:middle;\" /></a></td></tr>\n",
       "<tr><td>6</td><td>Lambda</td><td>parameter:&nbsp;30<br>body:&nbsp;11<br></td><td><a class=\"ProveItLink\" href=\"../4d4634dec8ddb22987ce03022e2b8aa4f81d66ee0/expr.ipynb\"><img src=\"../4d4634dec8ddb22987ce03022e2b8aa4f81d66ee0/expr.png\" style=\"display:inline;vertical-align:middle;\" /></a></td></tr>\n",
       "<tr><td>7</td><td>Operation</td><td>operator:&nbsp;12<br>operands:&nbsp;13<br></td><td><a class=\"ProveItLink\" href=\"../1987d1e8e1ae0f33d8e44c43ec93bd2c7b97cf410/expr.ipynb\"><img src=\"../1987d1e8e1ae0f33d8e44c43ec93bd2c7b97cf410/expr.png\" style=\"display:inline;vertical-align:middle;\" /></a></td></tr>\n",
       "<tr><td>8</td><td>Literal</td><td></td><td><a class=\"ProveItLink\" href=\"../../../packages/proveit/logic/boolean/quantification/universal/__pv_it/fd9c772d6675566ed52a6897806f45eb08a4ea910/expr.ipynb\"><img src=\"../../../packages/proveit/logic/boolean/quantification/universal/__pv_it/fd9c772d6675566ed52a6897806f45eb08a4ea910/expr.png\" style=\"display:inline;vertical-align:middle;\" /></a></td></tr>\n",
       "<tr><td>9</td><td>Lambda</td><td>parameter:&nbsp;24<br>body:&nbsp;14<br></td><td><a class=\"ProveItLink\" href=\"../2b2d617291c779f67f39ae7c015e9238e0808a250/expr.ipynb\"><img src=\"../2b2d617291c779f67f39ae7c015e9238e0808a250/expr.png\" style=\"display:inline;vertical-align:middle;\" /></a></td></tr>\n",
       "<tr><td>10</td><td>ExprTuple</td><td>15, 16</td><td><a class=\"ProveItLink\" href=\"../5a7523e713c82f9ab4ce1609e63bfaaf33fe00be0/expr.ipynb\"><img src=\"../5a7523e713c82f9ab4ce1609e63bfaaf33fe00be0/expr.png\" style=\"display:inline;vertical-align:middle;\" /></a></td></tr>\n",
       "<tr><td>11</td><td>Operation</td><td>operator:&nbsp;17<br>operand:&nbsp;18<br></td><td><a class=\"ProveItLink\" href=\"../330563bed9bfc059f3871013b8e3e2f5acb03d3f0/expr.ipynb\"><img src=\"../330563bed9bfc059f3871013b8e3e2f5acb03d3f0/expr.png\" style=\"display:inline;vertical-align:middle;\" /></a></td></tr>\n",
       "<tr><td>12</td><td>Literal</td><td></td><td><a class=\"ProveItLink\" href=\"../../../packages/proveit/number/addition/__pv_it/65ad7e8aee19b10110d590375ba95a879c4fb7ea0/expr.ipynb\"><img src=\"../../../packages/proveit/number/addition/__pv_it/65ad7e8aee19b10110d590375ba95a879c4fb7ea0/expr.png\" style=\"display:inline;vertical-align:middle;\" /></a></td></tr>\n",
       "<tr><td>13</td><td>ExprTuple</td><td>27, 19</td><td><a class=\"ProveItLink\" href=\"../2f3fc0c6ecddc46d88d2a03e8b5a14550eccfe9f0/expr.ipynb\"><img src=\"../2f3fc0c6ecddc46d88d2a03e8b5a14550eccfe9f0/expr.png\" style=\"display:inline;vertical-align:middle;\" /></a></td></tr>\n",
       "<tr><td>14</td><td>Operation</td><td>operator:&nbsp;20<br>operands:&nbsp;21<br></td><td><a class=\"ProveItLink\" href=\"../c6c3ae2e263b2d23fab618900eea1a43e39644c80/expr.ipynb\"><img src=\"../c6c3ae2e263b2d23fab618900eea1a43e39644c80/expr.png\" style=\"display:inline;vertical-align:middle;\" /></a></td></tr>\n",
       "<tr><td>15</td><td>Variable</td><td></td><td><a class=\"ProveItLink\" href=\"../../../packages/proveit/__pv_it/d3792d0d8642fdf1cd2a3a9b32c673ee13653de00/expr.ipynb\"><img src=\"../../../packages/proveit/__pv_it/d3792d0d8642fdf1cd2a3a9b32c673ee13653de00/expr.png\" style=\"display:inline;vertical-align:middle;\" /></a></td></tr>\n",
       "<tr><td>16</td><td>Variable</td><td></td><td><a class=\"ProveItLink\" href=\"../../../packages/proveit/__pv_it/8f4534f2d0cd8231a9b8a1771e8be76aa52adea40/expr.ipynb\"><img src=\"../../../packages/proveit/__pv_it/8f4534f2d0cd8231a9b8a1771e8be76aa52adea40/expr.png\" style=\"display:inline;vertical-align:middle;\" /></a></td></tr>\n",
       "<tr><td>17</td><td>Literal</td><td></td><td><a class=\"ProveItLink\" href=\"../../../packages/proveit/logic/boolean/negation/__pv_it/d347242e9ffe8b0d3a039ea6a149983fef6cbe6c0/expr.ipynb\"><img src=\"../../../packages/proveit/logic/boolean/negation/__pv_it/d347242e9ffe8b0d3a039ea6a149983fef6cbe6c0/expr.png\" style=\"display:inline;vertical-align:middle;\" /></a></td></tr>\n",
       "<tr><td>18</td><td>IndexedVar</td><td>variable:&nbsp;22<br>index:&nbsp;30<br></td><td><a class=\"ProveItLink\" href=\"../dd60a21b14ad80238615b0d2b74a678a11574e790/expr.ipynb\"><img src=\"../dd60a21b14ad80238615b0d2b74a678a11574e790/expr.png\" style=\"display:inline;vertical-align:middle;\" /></a></td></tr>\n",
       "<tr><td>19</td><td>Operation</td><td>operator:&nbsp;23<br>operand:&nbsp;26<br></td><td><a class=\"ProveItLink\" href=\"../01559348096b98a1dd2ebcf5c288189c829b18930/expr.ipynb\"><img src=\"../01559348096b98a1dd2ebcf5c288189c829b18930/expr.png\" style=\"display:inline;vertical-align:middle;\" /></a></td></tr>\n",
       "<tr><td>20</td><td>Literal</td><td></td><td><a class=\"ProveItLink\" href=\"../../../packages/proveit/logic/boolean/disjunction/__pv_it/8a6d9fc46c84b3911a71fbae15627dc2acebe2890/expr.ipynb\"><img src=\"../../../packages/proveit/logic/boolean/disjunction/__pv_it/8a6d9fc46c84b3911a71fbae15627dc2acebe2890/expr.png\" style=\"display:inline;vertical-align:middle;\" /></a></td></tr>\n",
       "<tr><td>21</td><td>ExprTuple</td><td>24</td><td><a class=\"ProveItLink\" href=\"../2d05b9c66464a9a7c24d00378ff5282cc6ca99600/expr.ipynb\"><img src=\"../2d05b9c66464a9a7c24d00378ff5282cc6ca99600/expr.png\" style=\"display:inline;vertical-align:middle;\" /></a></td></tr>\n",
       "<tr><td>22</td><td>Variable</td><td></td><td><a class=\"ProveItLink\" href=\"../../../packages/proveit/__pv_it/4d98b438710c5ada9ffa4646bb123a7d0e69ec000/expr.ipynb\"><img src=\"../../../packages/proveit/__pv_it/4d98b438710c5ada9ffa4646bb123a7d0e69ec000/expr.png\" style=\"display:inline;vertical-align:middle;\" /></a></td></tr>\n",
       "<tr><td>23</td><td>Literal</td><td></td><td><a class=\"ProveItLink\" href=\"../../../packages/proveit/number/negation/__pv_it/2867787e35502987d81a45cac8e7f1c6996d6ff40/expr.ipynb\"><img src=\"../../../packages/proveit/number/negation/__pv_it/2867787e35502987d81a45cac8e7f1c6996d6ff40/expr.png\" style=\"display:inline;vertical-align:middle;\" /></a></td></tr>\n",
       "<tr><td>24</td><td>ExprRange</td><td>lambda_map:&nbsp;25<br>start_index:&nbsp;26<br>end_index:&nbsp;27<br></td><td><a class=\"ProveItLink\" href=\"../d44daebd518afff72b1a7caacf0ab884b6d0285b0/expr.ipynb\"><img src=\"../d44daebd518afff72b1a7caacf0ab884b6d0285b0/expr.png\" style=\"display:inline;vertical-align:middle;\" /></a></td></tr>\n",
       "<tr><td>25</td><td>Lambda</td><td>parameter:&nbsp;30<br>body:&nbsp;28<br></td><td><a class=\"ProveItLink\" href=\"../1f1f93a97ffa923da2b370597cfe676c10d3dee70/expr.ipynb\"><img src=\"../1f1f93a97ffa923da2b370597cfe676c10d3dee70/expr.png\" style=\"display:inline;vertical-align:middle;\" /></a></td></tr>\n",
       "<tr><td>26</td><td>Literal</td><td></td><td><a class=\"ProveItLink\" href=\"../../../packages/proveit/number/numeral/__pv_it/f086f8c372bd40a2458306ddfdbb29f3dc6f63030/expr.ipynb\"><img src=\"../../../packages/proveit/number/numeral/__pv_it/f086f8c372bd40a2458306ddfdbb29f3dc6f63030/expr.png\" style=\"display:inline;vertical-align:middle;\" /></a></td></tr>\n",
       "<tr><td>27</td><td>Variable</td><td></td><td><a class=\"ProveItLink\" href=\"../../../packages/proveit/__pv_it/557ab5defdcd46aa58168b08767502985122cd490/expr.ipynb\"><img src=\"../../../packages/proveit/__pv_it/557ab5defdcd46aa58168b08767502985122cd490/expr.png\" style=\"display:inline;vertical-align:middle;\" /></a></td></tr>\n",
       "<tr><td>28</td><td>IndexedVar</td><td>variable:&nbsp;29<br>index:&nbsp;30<br></td><td><a class=\"ProveItLink\" href=\"../3b86bd3b2e16136132e508dd7cfa1ad89a15b7bf0/expr.ipynb\"><img src=\"../3b86bd3b2e16136132e508dd7cfa1ad89a15b7bf0/expr.png\" style=\"display:inline;vertical-align:middle;\" /></a></td></tr>\n",
       "<tr><td>29</td><td>Variable</td><td></td><td><a class=\"ProveItLink\" href=\"../../../packages/proveit/__pv_it/dcb5a3e430485237dfe486162b026a4affb149300/expr.ipynb\"><img src=\"../../../packages/proveit/__pv_it/dcb5a3e430485237dfe486162b026a4affb149300/expr.png\" style=\"display:inline;vertical-align:middle;\" /></a></td></tr>\n",
       "<tr><td>30</td><td>Variable</td><td></td><td><a class=\"ProveItLink\" href=\"../1e653f789234b245ee7fea7caad998c139d617410/expr.ipynb\"><img src=\"../1e653f789234b245ee7fea7caad998c139d617410/expr.png\" style=\"display:inline;vertical-align:middle;\" /></a></td></tr>\n",
       "</table>\n"
      ],
      "text/plain": [
       "0. [not](B_{1}) and ..[not](B_{_a}).. and [not](B_{i + (-1)}) and C_{1} and ..C_{_a}.. and C_{i} and [forall_{C_{1}, ..C_{_a}.., C_{i}} (C_{1} or ..C_{_a}.. or C_{i})] and (A or D)\n",
       "   core type: Operation\n",
       "   operator: 1\n",
       "   operands: 2\n",
       "1. and\n",
       "   core type: Literal\n",
       "   sub-expressions: \n",
       "2. ([not](B_{1}), ..[not](B_{_a}).., [not](B_{i + (-1)}), C_{1}, ..C_{_a}.., C_{i}, forall_{C_{1}, ..C_{_a}.., C_{i}} (C_{1} or ..C_{_a}.. or C_{i}), A or D)\n",
       "   core type: ExprTuple\n",
       "   sub-expressions: 3, 24, 4, 5\n",
       "3. [not](B_{1}), ..[not](B_{_a}).., [not](B_{i + (-1)})\n",
       "   core type: ExprRange\n",
       "   lambda_map: 6\n",
       "   start_index: 26\n",
       "   end_index: 7\n",
       "4. forall_{C_{1}, ..C_{_a}.., C_{i}} (C_{1} or ..C_{_a}.. or C_{i})\n",
       "   core type: Operation\n",
       "   operator: 8\n",
       "   operand: 9\n",
       "5. A or D\n",
       "   core type: Operation\n",
       "   operator: 20\n",
       "   operands: 10\n",
       "6. _a -> [not](B_{_a})\n",
       "   core type: Lambda\n",
       "   parameter: 30\n",
       "   body: 11\n",
       "7. i + (-1)\n",
       "   core type: Operation\n",
       "   operator: 12\n",
       "   operands: 13\n",
       "8. forall\n",
       "   core type: Literal\n",
       "   sub-expressions: \n",
       "9. (C_{1}, ..C_{_a}.., C_{i}) -> (C_{1} or ..C_{_a}.. or C_{i})\n",
       "   core type: Lambda\n",
       "   parameter: 24\n",
       "   body: 14\n",
       "10. (A, D)\n",
       "    core type: ExprTuple\n",
       "    sub-expressions: 15, 16\n",
       "11. [not](B_{_a})\n",
       "    core type: Operation\n",
       "    operator: 17\n",
       "    operand: 18\n",
       "12. +\n",
       "    core type: Literal\n",
       "    sub-expressions: \n",
       "13. (i, -1)\n",
       "    core type: ExprTuple\n",
       "    sub-expressions: 27, 19\n",
       "14. C_{1} or ..C_{_a}.. or C_{i}\n",
       "    core type: Operation\n",
       "    operator: 20\n",
       "    operands: 21\n",
       "15. A\n",
       "    core type: Variable\n",
       "    sub-expressions: \n",
       "16. D\n",
       "    core type: Variable\n",
       "    sub-expressions: \n",
       "17. not\n",
       "    core type: Literal\n",
       "    sub-expressions: \n",
       "18. B_{_a}\n",
       "    core type: IndexedVar\n",
       "variable: 22\n",
       "index: 30\n",
       "19. -1\n",
       "    core type: Operation\n",
       "    operator: 23\n",
       "    operand: 26\n",
       "20. or\n",
       "    core type: Literal\n",
       "    sub-expressions: \n",
       "21. (C_{1}, ..C_{_a}.., C_{i})\n",
       "    core type: ExprTuple\n",
       "    sub-expressions: 24\n",
       "22. B\n",
       "    core type: Variable\n",
       "    sub-expressions: \n",
       "23. -\n",
       "    core type: Literal\n",
       "    sub-expressions: \n",
       "24. C_{1}, ..C_{_a}.., C_{i}\n",
       "    core type: ExprRange\n",
       "    lambda_map: 25\n",
       "    start_index: 26\n",
       "    end_index: 27\n",
       "25. _a -> C_{_a}\n",
       "    core type: Lambda\n",
       "    parameter: 30\n",
       "    body: 28\n",
       "26. 1\n",
       "    core type: Literal\n",
       "    sub-expressions: \n",
       "27. i\n",
       "    core type: Variable\n",
       "    sub-expressions: \n",
       "28. C_{_a}\n",
       "    core type: IndexedVar\n",
       "variable: 29\n",
       "index: 30\n",
       "29. C\n",
       "    core type: Variable\n",
       "    sub-expressions: \n",
       "30. _a\n",
       "    core type: Variable\n",
       "    sub-expressions: "
      ]
     },
     "execution_count": 5,
     "metadata": {},
     "output_type": "execute_result"
    }
   ],
   "source": [
    "# display the expression information\n",
    "expr.exprInfo()"
   ]
  },
  {
   "cell_type": "code",
   "execution_count": null,
   "metadata": {},
   "outputs": [],
   "source": []
  }
 ],
 "metadata": {
  "kernelspec": {
   "display_name": "Python 3",
   "language": "python",
   "name": "python3"
  },
  "language_info": {
   "codemirror_mode": {
    "name": "ipython",
    "version": 3
   },
   "file_extension": ".py",
   "mimetype": "text/x-python",
   "name": "python",
   "nbconvert_exporter": "python",
   "pygments_lexer": "ipython3",
   "version": "3.7.3"
  }
 },
 "nbformat": 4,
 "nbformat_minor": 1
}
