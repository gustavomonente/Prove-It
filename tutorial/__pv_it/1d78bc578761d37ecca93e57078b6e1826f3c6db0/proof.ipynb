{
 "cells": [
  {
   "cell_type": "markdown",
   "metadata": {},
   "source": [
    "Show the Proof\n",
    "========"
   ]
  },
  {
   "cell_type": "code",
   "execution_count": 1,
   "metadata": {},
   "outputs": [
    {
     "data": {
      "text/html": [
       "<table><tr><th>&nbsp;</th><th>step type</th><th>requirements</th><th>statement</th></tr>\n",
       "<tr><td><a name=\"tutorial.1d78bc578761d37ecca93e57078b6e1826f3c6db0_step0\">0</a></td><td>instantiation</td><td><a href=\"#tutorial.1d78bc578761d37ecca93e57078b6e1826f3c6db0_step1\">1</a>, <a href=\"#tutorial.1d78bc578761d37ecca93e57078b6e1826f3c6db0_step2\">2</a>, <a href=\"#tutorial.1d78bc578761d37ecca93e57078b6e1826f3c6db0_step3\">3</a></td><td><span style=\"font-size:20px;\"><a class=\"ProveItLink\" href=\"../3bbd542206abd92d4844972123e25dcfd2f3e4450/expr.ipynb\"><img src=\"../3bbd542206abd92d4844972123e25dcfd2f3e4450/expr.png\" style=\"display:inline;vertical-align:middle;\" /></a> <a class=\"ProveItLink\" href=\"proof.ipynb\" style=\"text-decoration: none\">&#x22A2;&nbsp;</a><a class=\"ProveItLink\" href=\"../7b56b732136887403086cbf56e0b6e0ff101575b0/expr.ipynb\"><img src=\"../7b56b732136887403086cbf56e0b6e0ff101575b0/expr.png\" style=\"display:inline;vertical-align:middle;\" /></a></span></td></tr>\n",
       "<tr><td>&nbsp;</td><td colspan=4 style=\"text-align:left\"><span style=\"font-size:20px;\"><a class=\"ProveItLink\" href=\"../../../packages/proveit/__pv_it/72df168d2bfb4e0140af90912ebf83b13772060b0/expr.ipynb\"><img src=\"../../../packages/proveit/__pv_it/72df168d2bfb4e0140af90912ebf83b13772060b0/expr.png\" style=\"display:inline;vertical-align:middle;\" /></a> : <a class=\"ProveItLink\" href=\"../c01ca848d43c7c82887f9bf50d15b90f6d239e2b0/expr.ipynb\"><img src=\"../c01ca848d43c7c82887f9bf50d15b90f6d239e2b0/expr.png\" style=\"display:inline;vertical-align:middle;\" /></a>, <a class=\"ProveItLink\" href=\"../../../packages/proveit/__pv_it/c6e291955561f22a0e6708fd793ea93f1c7dbb5d0/expr.ipynb\"><img src=\"../../../packages/proveit/__pv_it/c6e291955561f22a0e6708fd793ea93f1c7dbb5d0/expr.png\" style=\"display:inline;vertical-align:middle;\" /></a> : <a class=\"ProveItLink\" href=\"../610c38c25660c8e24dd9aa514e8c8c22ffa152430/expr.ipynb\"><img src=\"../610c38c25660c8e24dd9aa514e8c8c22ffa152430/expr.png\" style=\"display:inline;vertical-align:middle;\" /></a>, <a class=\"ProveItLink\" href=\"../../../packages/proveit/__pv_it/0d889e00aed425c3081fbda3ac9194ae911895960/expr.ipynb\"><img src=\"../../../packages/proveit/__pv_it/0d889e00aed425c3081fbda3ac9194ae911895960/expr.png\" style=\"display:inline;vertical-align:middle;\" /></a> : <a class=\"ProveItLink\" href=\"../cc88a75ae2e2b6501f643962c0fbbda20f382def0/expr.ipynb\"><img src=\"../cc88a75ae2e2b6501f643962c0fbbda20f382def0/expr.png\" style=\"display:inline;vertical-align:middle;\" /></a></span></td></tr><tr><td><a name=\"tutorial.1d78bc578761d37ecca93e57078b6e1826f3c6db0_step1\">1</a></td><td>axiom</td><td></td><td><span style=\"font-size:20px;\"> <a class=\"ProveItLink\" href=\"../../../packages/proveit/logic/equality/_axioms_.ipynb#equalsTransitivity\" style=\"text-decoration: none\">&#x22A2;&nbsp;</a><a class=\"ProveItLink\" href=\"../4645db4e6126bf394101bcd77915cd0b26b89e1e0/expr.ipynb\"><img src=\"../4645db4e6126bf394101bcd77915cd0b26b89e1e0/expr.png\" style=\"display:inline;vertical-align:middle;\" /></a></span></td></tr>\n",
       "<tr><td>&nbsp;</td><td colspan=4 style-\"text-align:left\"><a class=\"ProveItLink\" href=\"../../../packages/proveit/logic/equality/_axioms_.ipynb#equalsTransitivity\">proveit.logic.equality.equalsTransitivity</a></td></tr><tr><td><a name=\"tutorial.1d78bc578761d37ecca93e57078b6e1826f3c6db0_step2\">2</a></td><td>instantiation</td><td><a href=\"#tutorial.1d78bc578761d37ecca93e57078b6e1826f3c6db0_step5\">5</a>, <a href=\"#tutorial.1d78bc578761d37ecca93e57078b6e1826f3c6db0_step4\">4</a></td><td><span style=\"font-size:20px;\"><a class=\"ProveItLink\" href=\"../29d938735d7863455f001416ba81a8ec2044ba210/expr.ipynb\"><img src=\"../29d938735d7863455f001416ba81a8ec2044ba210/expr.png\" style=\"display:inline;vertical-align:middle;\" /></a> <a class=\"ProveItLink\" href=\"../2948bf60725751b4bad4a0b1f0b89e990cf190310/proof.ipynb\" style=\"text-decoration: none\">&#x22A2;&nbsp;</a><a class=\"ProveItLink\" href=\"../17110915a7dacfdcf01067bf06eac62498aa69530/expr.ipynb\"><img src=\"../17110915a7dacfdcf01067bf06eac62498aa69530/expr.png\" style=\"display:inline;vertical-align:middle;\" /></a></span></td></tr>\n",
       "<tr><td>&nbsp;</td><td colspan=4 style=\"text-align:left\"><span style=\"font-size:20px;\"><a class=\"ProveItLink\" href=\"../b03ca9c7bc8f532bf55517e632039b2ccc74c3bd0/expr.ipynb\"><img src=\"../b03ca9c7bc8f532bf55517e632039b2ccc74c3bd0/expr.png\" style=\"display:inline;vertical-align:middle;\" /></a> : <a class=\"ProveItLink\" href=\"../39bbb27f4990674f7d9c7d5b8dfed1ae387ffbb60/expr.ipynb\"><img src=\"../39bbb27f4990674f7d9c7d5b8dfed1ae387ffbb60/expr.png\" style=\"display:inline;vertical-align:middle;\" /></a>, <a class=\"ProveItLink\" href=\"../../../packages/proveit/__pv_it/72df168d2bfb4e0140af90912ebf83b13772060b0/expr.ipynb\"><img src=\"../../../packages/proveit/__pv_it/72df168d2bfb4e0140af90912ebf83b13772060b0/expr.png\" style=\"display:inline;vertical-align:middle;\" /></a> : <a class=\"ProveItLink\" href=\"../../../packages/proveit/__pv_it/6e8a38e9a7e2b6af352562cd77e0eb4751f142620/expr.ipynb\"><img src=\"../../../packages/proveit/__pv_it/6e8a38e9a7e2b6af352562cd77e0eb4751f142620/expr.png\" style=\"display:inline;vertical-align:middle;\" /></a>, <a class=\"ProveItLink\" href=\"../../../packages/proveit/__pv_it/c6e291955561f22a0e6708fd793ea93f1c7dbb5d0/expr.ipynb\"><img src=\"../../../packages/proveit/__pv_it/c6e291955561f22a0e6708fd793ea93f1c7dbb5d0/expr.png\" style=\"display:inline;vertical-align:middle;\" /></a> : <a class=\"ProveItLink\" href=\"../../../packages/proveit/number/numeral/__pv_it/fb4ccffdbfd0f653ebaacb95e7ff4802fd48a6f20/expr.ipynb\"><img src=\"../../../packages/proveit/number/numeral/__pv_it/fb4ccffdbfd0f653ebaacb95e7ff4802fd48a6f20/expr.png\" style=\"display:inline;vertical-align:middle;\" /></a></span></td></tr><tr><td><a name=\"tutorial.1d78bc578761d37ecca93e57078b6e1826f3c6db0_step3\">3</a></td><td>instantiation</td><td><a href=\"#tutorial.1d78bc578761d37ecca93e57078b6e1826f3c6db0_step5\">5</a>, <a href=\"#tutorial.1d78bc578761d37ecca93e57078b6e1826f3c6db0_step6\">6</a></td><td><span style=\"font-size:20px;\"><a class=\"ProveItLink\" href=\"../20af4e29d5aa2b62cb10f9b07bad5ae4bc918dd20/expr.ipynb\"><img src=\"../20af4e29d5aa2b62cb10f9b07bad5ae4bc918dd20/expr.png\" style=\"display:inline;vertical-align:middle;\" /></a> <a class=\"ProveItLink\" href=\"../63fb33c602fb7e78809e2a066b0c0b3d9c70100e0/proof.ipynb\" style=\"text-decoration: none\">&#x22A2;&nbsp;</a><a class=\"ProveItLink\" href=\"../8c411c32e9710d5bc4ceab4e1a4567d61c2dce2f0/expr.ipynb\"><img src=\"../8c411c32e9710d5bc4ceab4e1a4567d61c2dce2f0/expr.png\" style=\"display:inline;vertical-align:middle;\" /></a></span></td></tr>\n",
       "<tr><td>&nbsp;</td><td colspan=4 style=\"text-align:left\"><span style=\"font-size:20px;\"><a class=\"ProveItLink\" href=\"../b03ca9c7bc8f532bf55517e632039b2ccc74c3bd0/expr.ipynb\"><img src=\"../b03ca9c7bc8f532bf55517e632039b2ccc74c3bd0/expr.png\" style=\"display:inline;vertical-align:middle;\" /></a> : <a class=\"ProveItLink\" href=\"../e4b53166acb2dd265f47a2ce6ccf56904b18f1cd0/expr.ipynb\"><img src=\"../e4b53166acb2dd265f47a2ce6ccf56904b18f1cd0/expr.png\" style=\"display:inline;vertical-align:middle;\" /></a>, <a class=\"ProveItLink\" href=\"../../../packages/proveit/__pv_it/72df168d2bfb4e0140af90912ebf83b13772060b0/expr.ipynb\"><img src=\"../../../packages/proveit/__pv_it/72df168d2bfb4e0140af90912ebf83b13772060b0/expr.png\" style=\"display:inline;vertical-align:middle;\" /></a> : <a class=\"ProveItLink\" href=\"../../../packages/proveit/__pv_it/0c1c4cb515e0f4344b1ac06650f349123e526deb0/expr.ipynb\"><img src=\"../../../packages/proveit/__pv_it/0c1c4cb515e0f4344b1ac06650f349123e526deb0/expr.png\" style=\"display:inline;vertical-align:middle;\" /></a>, <a class=\"ProveItLink\" href=\"../../../packages/proveit/__pv_it/c6e291955561f22a0e6708fd793ea93f1c7dbb5d0/expr.ipynb\"><img src=\"../../../packages/proveit/__pv_it/c6e291955561f22a0e6708fd793ea93f1c7dbb5d0/expr.png\" style=\"display:inline;vertical-align:middle;\" /></a> : <a class=\"ProveItLink\" href=\"../../../packages/proveit/number/numeral/__pv_it/fb4ccffdbfd0f653ebaacb95e7ff4802fd48a6f20/expr.ipynb\"><img src=\"../../../packages/proveit/number/numeral/__pv_it/fb4ccffdbfd0f653ebaacb95e7ff4802fd48a6f20/expr.png\" style=\"display:inline;vertical-align:middle;\" /></a></span></td></tr><tr><td><a name=\"tutorial.1d78bc578761d37ecca93e57078b6e1826f3c6db0_step4\">4</a></td><td>assumption</td><td></td><td><span style=\"font-size:20px;\"><a class=\"ProveItLink\" href=\"../29d938735d7863455f001416ba81a8ec2044ba210/expr.ipynb\"><img src=\"../29d938735d7863455f001416ba81a8ec2044ba210/expr.png\" style=\"display:inline;vertical-align:middle;\" /></a> <a class=\"ProveItLink\" href=\"../452ea58b73919a670d914b1613e3058987a27b170/proof.ipynb\" style=\"text-decoration: none\">&#x22A2;&nbsp;</a><a class=\"ProveItLink\" href=\"../d06ad4ac4fa893c42ece08d282f3f2d6533339cf0/expr.ipynb\"><img src=\"../d06ad4ac4fa893c42ece08d282f3f2d6533339cf0/expr.png\" style=\"display:inline;vertical-align:middle;\" /></a></span></td></tr>\n",
       "<tr><td><a name=\"tutorial.1d78bc578761d37ecca93e57078b6e1826f3c6db0_step5\">5</a></td><td>axiom</td><td></td><td><span style=\"font-size:20px;\"> <a class=\"ProveItLink\" href=\"../../../packages/proveit/logic/equality/_axioms_.ipynb#substitution\" style=\"text-decoration: none\">&#x22A2;&nbsp;</a><a class=\"ProveItLink\" href=\"../652ef4c049b7b5f63bb04e17a4ce623677bddbe00/expr.ipynb\"><img src=\"../652ef4c049b7b5f63bb04e17a4ce623677bddbe00/expr.png\" style=\"display:inline;vertical-align:middle;\" /></a></span></td></tr>\n",
       "<tr><td>&nbsp;</td><td colspan=4 style-\"text-align:left\"><a class=\"ProveItLink\" href=\"../../../packages/proveit/logic/equality/_axioms_.ipynb#substitution\">proveit.logic.equality.substitution</a></td></tr><tr><td><a name=\"tutorial.1d78bc578761d37ecca93e57078b6e1826f3c6db0_step6\">6</a></td><td>assumption</td><td></td><td><span style=\"font-size:20px;\"><a class=\"ProveItLink\" href=\"../20af4e29d5aa2b62cb10f9b07bad5ae4bc918dd20/expr.ipynb\"><img src=\"../20af4e29d5aa2b62cb10f9b07bad5ae4bc918dd20/expr.png\" style=\"display:inline;vertical-align:middle;\" /></a> <a class=\"ProveItLink\" href=\"../011e4c67e5a8c3c11ffced29d9906fb3899934f00/proof.ipynb\" style=\"text-decoration: none\">&#x22A2;&nbsp;</a><a class=\"ProveItLink\" href=\"../f0e0a0b37a0bbb7dbd06791233003aff80949a4b0/expr.ipynb\"><img src=\"../f0e0a0b37a0bbb7dbd06791233003aff80949a4b0/expr.png\" style=\"display:inline;vertical-align:middle;\" /></a></span></td></tr>\n",
       "</table>"
      ],
      "text/plain": [
       "<proveit._core_.proof._ShowProof at 0x7f5b83f86470>"
      ]
     },
     "execution_count": 1,
     "metadata": {},
     "output_type": "execute_result"
    }
   ],
   "source": [
    "import proveit\n",
    "# Automation is not needed when only showing a stored proof:\n",
    "proveit.defaults.automation = False # This will speed things up.\n",
    "proveit.defaults.inline_pngs = False # Makes files smaller.\n",
    "%show_proof"
   ]
  },
  {
   "cell_type": "code",
   "execution_count": null,
   "metadata": {},
   "outputs": [],
   "source": []
  }
 ],
 "metadata": {
  "kernelspec": {
   "display_name": "Python 3",
   "language": "python",
   "name": "python3"
  },
  "language_info": {
   "codemirror_mode": {
    "name": "ipython",
    "version": 3
   },
   "file_extension": ".py",
   "mimetype": "text/x-python",
   "name": "python",
   "nbconvert_exporter": "python",
   "pygments_lexer": "ipython3",
   "version": "3.7.3"
  }
 },
 "nbformat": 4,
 "nbformat_minor": 1
}
