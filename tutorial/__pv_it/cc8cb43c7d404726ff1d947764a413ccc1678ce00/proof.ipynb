{
 "cells": [
  {
   "cell_type": "markdown",
   "metadata": {},
   "source": [
    "Show the Proof\n",
    "========"
   ]
  },
  {
   "cell_type": "code",
   "execution_count": 1,
   "metadata": {},
   "outputs": [
    {
     "data": {
      "text/html": [
       "<table><tr><th>&nbsp;</th><th>step type</th><th>requirements</th><th>statement</th></tr>\n",
       "<tr><td><a name=\"tutorial.cc8cb43c7d404726ff1d947764a413ccc1678ce00_step0\">0</a></td><td>instantiation</td><td><a href=\"#tutorial.cc8cb43c7d404726ff1d947764a413ccc1678ce00_step1\">1</a></td><td><span style=\"font-size:20px;\"> <a class=\"ProveItLink\" href=\"proof.ipynb\" style=\"text-decoration: none\">&#x22A2;&nbsp;</a><a class=\"ProveItLink\" href=\"../e8fc9670b3fa8846fd762e707181b8c4f26d2a3f0/expr.ipynb\"><img src=\"../e8fc9670b3fa8846fd762e707181b8c4f26d2a3f0/expr.png\" style=\"display:inline;vertical-align:middle;\" /></a></span></td></tr>\n",
       "<tr><td>&nbsp;</td><td colspan=4 style=\"text-align:left\"><span style=\"font-size:20px;\"><a class=\"ProveItLink\" href=\"../57b0baec6e1ea196e56110cc6e000ef6155d39570/expr.ipynb\"><img src=\"../57b0baec6e1ea196e56110cc6e000ef6155d39570/expr.png\" style=\"display:inline;vertical-align:middle;\" /></a> : <a class=\"ProveItLink\" href=\"../../../packages/proveit/core_expr_types/__pv_it/976fe6b95e8535cc9e0861bdc030337becead6960/expr.ipynb\"><img src=\"../../../packages/proveit/core_expr_types/__pv_it/976fe6b95e8535cc9e0861bdc030337becead6960/expr.png\" style=\"display:inline;vertical-align:middle;\" /></a>, <a class=\"ProveItLink\" href=\"../9f9a8b5d9ea585f7f856d620aaa6bae5919b0a170/expr.ipynb\"><img src=\"../9f9a8b5d9ea585f7f856d620aaa6bae5919b0a170/expr.png\" style=\"display:inline;vertical-align:middle;\" /></a> : <a class=\"ProveItLink\" href=\"../../../packages/proveit/core_expr_types/__pv_it/976fe6b95e8535cc9e0861bdc030337becead6960/expr.ipynb\"><img src=\"../../../packages/proveit/core_expr_types/__pv_it/976fe6b95e8535cc9e0861bdc030337becead6960/expr.png\" style=\"display:inline;vertical-align:middle;\" /></a></span></td></tr><tr><td><a name=\"tutorial.cc8cb43c7d404726ff1d947764a413ccc1678ce00_step1\">1</a></td><td>theorem</td><td></td><td><span style=\"font-size:20px;\"> <a class=\"ProveItLink\" href=\"../../../packages/proveit/number/numeral/deci/_proofs_/tuple_len_2_typical_equiv.ipynb\" style=\"text-decoration: none\">&#x22A2;&nbsp;</a><a class=\"ProveItLink\" href=\"../d80b09bff8acc80050db6fe3dd7b3d1d7bcde69d0/expr.ipynb\"><img src=\"../d80b09bff8acc80050db6fe3dd7b3d1d7bcde69d0/expr.png\" style=\"display:inline;vertical-align:middle;\" /></a></span></td></tr>\n",
       "<tr><td>&nbsp;</td><td colspan=4 style-\"text-align:left\"><a class=\"ProveItLink\" href=\"../../../packages/proveit/number/numeral/deci/_proofs_/tuple_len_2_typical_equiv.ipynb\">proveit.number.numeral.deci.tuple_len_2_typical_equiv</a></td></tr></table>"
      ],
      "text/plain": [
       "<proveit._core_.proof._ShowProof at 0x7f5b9bed3e48>"
      ]
     },
     "execution_count": 1,
     "metadata": {},
     "output_type": "execute_result"
    }
   ],
   "source": [
    "import proveit\n",
    "# Automation is not needed when only showing a stored proof:\n",
    "proveit.defaults.automation = False # This will speed things up.\n",
    "proveit.defaults.inline_pngs = False # Makes files smaller.\n",
    "%show_proof"
   ]
  },
  {
   "cell_type": "code",
   "execution_count": null,
   "metadata": {},
   "outputs": [],
   "source": []
  }
 ],
 "metadata": {
  "kernelspec": {
   "display_name": "Python 3",
   "language": "python",
   "name": "python3"
  },
  "language_info": {
   "codemirror_mode": {
    "name": "ipython",
    "version": 3
   },
   "file_extension": ".py",
   "mimetype": "text/x-python",
   "name": "python",
   "nbconvert_exporter": "python",
   "pygments_lexer": "ipython3",
   "version": "3.7.3"
  }
 },
 "nbformat": 4,
 "nbformat_minor": 1
}
