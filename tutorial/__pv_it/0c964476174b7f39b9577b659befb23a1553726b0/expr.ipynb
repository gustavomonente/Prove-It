{
 "cells": [
  {
   "cell_type": "markdown",
   "metadata": {},
   "source": [
    "Expression of type <a class=\"ProveItLink\" href=\"../../../doc/html/api/proveit.ExprTuple.html\">ExprTuple</a>\n",
    "=======================\n",
    "# from context <a class=\"ProveItLink\" href=\"../../_context_.ipynb\">tutorial</a>"
   ]
  },
  {
   "cell_type": "code",
   "execution_count": 1,
   "metadata": {},
   "outputs": [],
   "source": [
    "import proveit\n",
    "# Automation is not needed when building an expression:\n",
    "proveit.defaults.automation = False # This will speed things up.\n",
    "proveit.defaults.inline_pngs = False # Makes files smaller.\n",
    "# import Expression classes needed to build the expression\n",
    "from proveit import ExprRange, ExprTuple\n",
    "from proveit._common_ import a\n",
    "from proveit.core_expr_types import Len\n",
    "from proveit.number import one, zero"
   ]
  },
  {
   "cell_type": "code",
   "execution_count": 2,
   "metadata": {},
   "outputs": [
    {
     "data": {
      "text/html": [
       "<strong id=\"expr\">expr:</strong> <a class=\"ProveItLink\" href=\"expr.ipynb\"><img src=\"expr.png\" style=\"display:inline;vertical-align:middle;\" /></a><br>"
      ],
      "text/plain": [
       "expr: (|()|, |(1, ..a.., 0)|)"
      ]
     },
     "execution_count": 2,
     "metadata": {},
     "output_type": "execute_result"
    }
   ],
   "source": [
    "# build up the expression from sub-expressions\n",
    "expr = ExprTuple(Len([]), Len([ExprRange(a, a, one, zero)]))"
   ]
  },
  {
   "cell_type": "code",
   "execution_count": 3,
   "metadata": {},
   "outputs": [
    {
     "name": "stdout",
     "output_type": "stream",
     "text": [
      "Passed sanity check: built 'expr' is the same as the stored Expression.\n"
     ]
    }
   ],
   "source": [
    "# check that the built expression is the same as the stored expression\n",
    "%check_expr"
   ]
  },
  {
   "cell_type": "code",
   "execution_count": 4,
   "metadata": {},
   "outputs": [
    {
     "name": "stdout",
     "output_type": "stream",
     "text": [
      "\\left(|()|, |\\left(1, \\ldots, 0\\right)|\\right)\n"
     ]
    }
   ],
   "source": [
    "# Show the LaTeX representation of the expression for convenience if you need it.\n",
    "print(expr.latex())"
   ]
  },
  {
   "cell_type": "code",
   "execution_count": 5,
   "metadata": {},
   "outputs": [
    {
     "data": {
      "text/html": [
       "<table><tr><th>&nbsp;</th><th>core type</th><th>sub-expressions</th><th>expression</th></tr>\n",
       "<tr><td>0</td><td>ExprTuple</td><td>1, 2</td><td><a class=\"ProveItLink\" href=\"expr.ipynb\"><img src=\"expr.png\" style=\"display:inline;vertical-align:middle;\" /></a></td></tr>\n",
       "<tr><td>1</td><td>Operation</td><td>operator:&nbsp;4<br>operand:&nbsp;6<br></td><td><a class=\"ProveItLink\" href=\"../db98618b9f5fd7dd02f954c523acd72d1ca308b80/expr.ipynb\"><img src=\"../db98618b9f5fd7dd02f954c523acd72d1ca308b80/expr.png\" style=\"display:inline;vertical-align:middle;\" /></a></td></tr>\n",
       "<tr><td>2</td><td>Operation</td><td>operator:&nbsp;4<br>operand:&nbsp;7<br></td><td><a class=\"ProveItLink\" href=\"../14a0254819012b2b29477b56f3a54e37001163890/expr.ipynb\"><img src=\"../14a0254819012b2b29477b56f3a54e37001163890/expr.png\" style=\"display:inline;vertical-align:middle;\" /></a></td></tr>\n",
       "<tr><td>3</td><td>ExprTuple</td><td>6</td><td><a class=\"ProveItLink\" href=\"../43bed1f77a95ed24756224d1cd19609ba6b897300/expr.ipynb\"><img src=\"../43bed1f77a95ed24756224d1cd19609ba6b897300/expr.png\" style=\"display:inline;vertical-align:middle;\" /></a></td></tr>\n",
       "<tr><td>4</td><td>Literal</td><td></td><td><a class=\"ProveItLink\" href=\"../../../packages/proveit/core_expr_types/tuples/__pv_it/92831c6291223dfbd76a11e90e750ae52564aa9f0/expr.ipynb\"><img src=\"../../../packages/proveit/core_expr_types/tuples/__pv_it/92831c6291223dfbd76a11e90e750ae52564aa9f0/expr.png\" style=\"display:inline;vertical-align:middle;\" /></a></td></tr>\n",
       "<tr><td>5</td><td>ExprTuple</td><td>7</td><td><a class=\"ProveItLink\" href=\"../190293a38c9801fae190f4bf8c612ece7e2bc4b60/expr.ipynb\"><img src=\"../190293a38c9801fae190f4bf8c612ece7e2bc4b60/expr.png\" style=\"display:inline;vertical-align:middle;\" /></a></td></tr>\n",
       "<tr><td>6</td><td>ExprTuple</td><td></td><td><a class=\"ProveItLink\" href=\"../30d23d36f0994fc28429b458d9f08265f0433d5f0/expr.ipynb\"><img src=\"../30d23d36f0994fc28429b458d9f08265f0433d5f0/expr.png\" style=\"display:inline;vertical-align:middle;\" /></a></td></tr>\n",
       "<tr><td>7</td><td>ExprTuple</td><td>8</td><td><a class=\"ProveItLink\" href=\"../b6d009d9eae489fcd4a869b05dae84fe19c0578a0/expr.ipynb\"><img src=\"../b6d009d9eae489fcd4a869b05dae84fe19c0578a0/expr.png\" style=\"display:inline;vertical-align:middle;\" /></a></td></tr>\n",
       "<tr><td>8</td><td>ExprRange</td><td>lambda_map:&nbsp;9<br>start_index:&nbsp;10<br>end_index:&nbsp;11<br></td><td><a class=\"ProveItLink\" href=\"../4565d15eb29db2fdce6ab3bb1a62a6c27b79c03c0/expr.ipynb\"><img src=\"../4565d15eb29db2fdce6ab3bb1a62a6c27b79c03c0/expr.png\" style=\"display:inline;vertical-align:middle;\" /></a></td></tr>\n",
       "<tr><td>9</td><td>Lambda</td><td>parameter:&nbsp;12<br>body:&nbsp;12<br></td><td><a class=\"ProveItLink\" href=\"../7bda9dc6d353d20fdde1090f8385e8258c766e6a0/expr.ipynb\"><img src=\"../7bda9dc6d353d20fdde1090f8385e8258c766e6a0/expr.png\" style=\"display:inline;vertical-align:middle;\" /></a></td></tr>\n",
       "<tr><td>10</td><td>Literal</td><td></td><td><a class=\"ProveItLink\" href=\"../../../packages/proveit/number/numeral/__pv_it/f086f8c372bd40a2458306ddfdbb29f3dc6f63030/expr.ipynb\"><img src=\"../../../packages/proveit/number/numeral/__pv_it/f086f8c372bd40a2458306ddfdbb29f3dc6f63030/expr.png\" style=\"display:inline;vertical-align:middle;\" /></a></td></tr>\n",
       "<tr><td>11</td><td>Literal</td><td></td><td><a class=\"ProveItLink\" href=\"../../../packages/proveit/number/numeral/__pv_it/bcb6bc33e5975ec2290a3272bf7802d26ab8421d0/expr.ipynb\"><img src=\"../../../packages/proveit/number/numeral/__pv_it/bcb6bc33e5975ec2290a3272bf7802d26ab8421d0/expr.png\" style=\"display:inline;vertical-align:middle;\" /></a></td></tr>\n",
       "<tr><td>12</td><td>Variable</td><td></td><td><a class=\"ProveItLink\" href=\"../../../packages/proveit/__pv_it/a8d4b3a34d2189508f9082853fbac36935714f280/expr.ipynb\"><img src=\"../../../packages/proveit/__pv_it/a8d4b3a34d2189508f9082853fbac36935714f280/expr.png\" style=\"display:inline;vertical-align:middle;\" /></a></td></tr>\n",
       "</table>\n"
      ],
      "text/plain": [
       "0. (|()|, |(1, ..a.., 0)|)\n",
       "   core type: ExprTuple\n",
       "   sub-expressions: 1, 2\n",
       "1. |()|\n",
       "   core type: Operation\n",
       "   operator: 4\n",
       "   operand: 6\n",
       "2. |(1, ..a.., 0)|\n",
       "   core type: Operation\n",
       "   operator: 4\n",
       "   operand: 7\n",
       "3. (())\n",
       "   core type: ExprTuple\n",
       "   sub-expressions: 6\n",
       "4. length\n",
       "   core type: Literal\n",
       "   sub-expressions: \n",
       "5. ((1, ..a.., 0))\n",
       "   core type: ExprTuple\n",
       "   sub-expressions: 7\n",
       "6. ()\n",
       "   core type: ExprTuple\n",
       "   sub-expressions: \n",
       "7. (1, ..a.., 0)\n",
       "   core type: ExprTuple\n",
       "   sub-expressions: 8\n",
       "8. 1, ..a.., 0\n",
       "   core type: ExprRange\n",
       "   lambda_map: 9\n",
       "   start_index: 10\n",
       "   end_index: 11\n",
       "9. a -> a\n",
       "   core type: Lambda\n",
       "   parameter: 12\n",
       "   body: 12\n",
       "10. 1\n",
       "    core type: Literal\n",
       "    sub-expressions: \n",
       "11. 0\n",
       "    core type: Literal\n",
       "    sub-expressions: \n",
       "12. a\n",
       "    core type: Variable\n",
       "    sub-expressions: "
      ]
     },
     "execution_count": 5,
     "metadata": {},
     "output_type": "execute_result"
    }
   ],
   "source": [
    "# display the expression information\n",
    "expr.exprInfo()"
   ]
  },
  {
   "cell_type": "code",
   "execution_count": null,
   "metadata": {},
   "outputs": [],
   "source": []
  }
 ],
 "metadata": {
  "kernelspec": {
   "display_name": "Python 3",
   "language": "python",
   "name": "python3"
  },
  "language_info": {
   "codemirror_mode": {
    "name": "ipython",
    "version": 3
   },
   "file_extension": ".py",
   "mimetype": "text/x-python",
   "name": "python",
   "nbconvert_exporter": "python",
   "pygments_lexer": "ipython3",
   "version": "3.7.3"
  }
 },
 "nbformat": 4,
 "nbformat_minor": 1
}
