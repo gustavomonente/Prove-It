{
 "cells": [
  {
   "cell_type": "markdown",
   "metadata": {},
   "source": [
    "Expression of type <a class=\"ProveItLink\" href=\"../../../doc/html/api/proveit.logic.And.html\">And</a>\n",
    "=======================\n",
    "# from context <a class=\"ProveItLink\" href=\"../../_context_.ipynb\">tutorial</a>"
   ]
  },
  {
   "cell_type": "code",
   "execution_count": 1,
   "metadata": {},
   "outputs": [],
   "source": [
    "import proveit\n",
    "# Automation is not needed when building an expression:\n",
    "proveit.defaults.automation = False # This will speed things up.\n",
    "proveit.defaults.inline_pngs = False # Makes files smaller.\n",
    "# import Expression classes needed to build the expression\n",
    "from proveit import ExprRange, IndexedVar, Variable\n",
    "from proveit._common_ import a, b, c, d, i, j, k\n",
    "from proveit.logic import And, InSet\n",
    "from proveit.number import Complexes, one"
   ]
  },
  {
   "cell_type": "code",
   "execution_count": 2,
   "metadata": {},
   "outputs": [
    {
     "data": {
      "text/html": [
       "<strong id=\"expr\">expr:</strong> <a class=\"ProveItLink\" href=\"expr.ipynb\"><img src=\"expr.png\" style=\"display:inline;vertical-align:middle;\" /></a><br>"
      ],
      "text/plain": [
       "expr: (a_{1} in Complexes) and ..(a_{_a} in Complexes).. and (a_{i} in Complexes) and (b in Complexes) and (c_{1} in Complexes) and ..(c_{_a} in Complexes).. and (c_{j} in Complexes) and (d_{1} in Complexes) and ..(d_{_a} in Complexes).. and (d_{k} in Complexes)"
      ]
     },
     "execution_count": 2,
     "metadata": {},
     "output_type": "execute_result"
    }
   ],
   "source": [
    "# build up the expression from sub-expressions\n",
    "subExpr1 = Variable(\"_a\", latexFormat = r\"{_{-}a}\")\n",
    "expr = And(ExprRange(subExpr1, InSet(IndexedVar(a, subExpr1), Complexes), one, i), InSet(b, Complexes), ExprRange(subExpr1, InSet(IndexedVar(c, subExpr1), Complexes), one, j), ExprRange(subExpr1, InSet(IndexedVar(d, subExpr1), Complexes), one, k))"
   ]
  },
  {
   "cell_type": "code",
   "execution_count": 3,
   "metadata": {},
   "outputs": [
    {
     "name": "stdout",
     "output_type": "stream",
     "text": [
      "Passed sanity check: built 'expr' is the same as the stored Expression.\n"
     ]
    }
   ],
   "source": [
    "# check that the built expression is the same as the stored expression\n",
    "%check_expr"
   ]
  },
  {
   "cell_type": "code",
   "execution_count": 4,
   "metadata": {},
   "outputs": [
    {
     "name": "stdout",
     "output_type": "stream",
     "text": [
      "\\left(a_{1} \\in \\mathbb{C}\\right) \\land \\ldots \\land \\left(a_{i} \\in \\mathbb{C}\\right) \\land \\left(b \\in \\mathbb{C}\\right) \\land \\left(c_{1} \\in \\mathbb{C}\\right) \\land \\ldots \\land \\left(c_{j} \\in \\mathbb{C}\\right) \\land \\left(d_{1} \\in \\mathbb{C}\\right) \\land \\ldots \\land \\left(d_{k} \\in \\mathbb{C}\\right)\n"
     ]
    }
   ],
   "source": [
    "# Show the LaTeX representation of the expression for convenience if you need it.\n",
    "print(expr.latex())"
   ]
  },
  {
   "cell_type": "code",
   "execution_count": 5,
   "metadata": {},
   "outputs": [
    {
     "data": {
      "text/html": [
       "<table><tr><th>&nbsp;</th><th>core type</th><th>sub-expressions</th><th>expression</th></tr>\n",
       "<tr><td>0</td><td>Operation</td><td>operator:&nbsp;1<br>operands:&nbsp;2<br></td><td><a class=\"ProveItLink\" href=\"expr.ipynb\"><img src=\"expr.png\" style=\"display:inline;vertical-align:middle;\" /></a></td></tr>\n",
       "<tr><td>1</td><td>Literal</td><td></td><td><a class=\"ProveItLink\" href=\"../../../packages/proveit/logic/boolean/conjunction/__pv_it/f41cc6b553210927c09f19a8a39cdf860a5585930/expr.ipynb\"><img src=\"../../../packages/proveit/logic/boolean/conjunction/__pv_it/f41cc6b553210927c09f19a8a39cdf860a5585930/expr.png\" style=\"display:inline;vertical-align:middle;\" /></a></td></tr>\n",
       "<tr><td>2</td><td>ExprTuple</td><td>3, 4, 5, 6</td><td><a class=\"ProveItLink\" href=\"../f922ef46baddedf5bbc75cf2aa0eb4c527036bf70/expr.ipynb\"><img src=\"../f922ef46baddedf5bbc75cf2aa0eb4c527036bf70/expr.png\" style=\"display:inline;vertical-align:middle;\" /></a></td></tr>\n",
       "<tr><td>3</td><td>ExprRange</td><td>lambda_map:&nbsp;7<br>start_index:&nbsp;13<br>end_index:&nbsp;8<br></td><td><a class=\"ProveItLink\" href=\"../27dce8086a01373c643c944d0d87e95fd5843eba0/expr.ipynb\"><img src=\"../27dce8086a01373c643c944d0d87e95fd5843eba0/expr.png\" style=\"display:inline;vertical-align:middle;\" /></a></td></tr>\n",
       "<tr><td>4</td><td>Operation</td><td>operator:&nbsp;21<br>operands:&nbsp;9<br></td><td><a class=\"ProveItLink\" href=\"../95df97c34da7b3464cf6fd37240351be737674bc0/expr.ipynb\"><img src=\"../95df97c34da7b3464cf6fd37240351be737674bc0/expr.png\" style=\"display:inline;vertical-align:middle;\" /></a></td></tr>\n",
       "<tr><td>5</td><td>ExprRange</td><td>lambda_map:&nbsp;10<br>start_index:&nbsp;13<br>end_index:&nbsp;11<br></td><td><a class=\"ProveItLink\" href=\"../7ae484b4a28e7d068bc82a1f37d6a9c2537a87df0/expr.ipynb\"><img src=\"../7ae484b4a28e7d068bc82a1f37d6a9c2537a87df0/expr.png\" style=\"display:inline;vertical-align:middle;\" /></a></td></tr>\n",
       "<tr><td>6</td><td>ExprRange</td><td>lambda_map:&nbsp;12<br>start_index:&nbsp;13<br>end_index:&nbsp;14<br></td><td><a class=\"ProveItLink\" href=\"../59a690df70919c2f8daee6b94d5090f1c378aea30/expr.ipynb\"><img src=\"../59a690df70919c2f8daee6b94d5090f1c378aea30/expr.png\" style=\"display:inline;vertical-align:middle;\" /></a></td></tr>\n",
       "<tr><td>7</td><td>Lambda</td><td>parameter:&nbsp;30<br>body:&nbsp;15<br></td><td><a class=\"ProveItLink\" href=\"../f1bb345c56d9f593813d3c728cb6141429a33aa50/expr.ipynb\"><img src=\"../f1bb345c56d9f593813d3c728cb6141429a33aa50/expr.png\" style=\"display:inline;vertical-align:middle;\" /></a></td></tr>\n",
       "<tr><td>8</td><td>Variable</td><td></td><td><a class=\"ProveItLink\" href=\"../../../packages/proveit/__pv_it/557ab5defdcd46aa58168b08767502985122cd490/expr.ipynb\"><img src=\"../../../packages/proveit/__pv_it/557ab5defdcd46aa58168b08767502985122cd490/expr.png\" style=\"display:inline;vertical-align:middle;\" /></a></td></tr>\n",
       "<tr><td>9</td><td>ExprTuple</td><td>16, 26</td><td><a class=\"ProveItLink\" href=\"../bec87c9afa10830d67721c57d7589809406677a10/expr.ipynb\"><img src=\"../bec87c9afa10830d67721c57d7589809406677a10/expr.png\" style=\"display:inline;vertical-align:middle;\" /></a></td></tr>\n",
       "<tr><td>10</td><td>Lambda</td><td>parameter:&nbsp;30<br>body:&nbsp;17<br></td><td><a class=\"ProveItLink\" href=\"../9441e9db5755cf1022480f72e77d7eee0bb032050/expr.ipynb\"><img src=\"../9441e9db5755cf1022480f72e77d7eee0bb032050/expr.png\" style=\"display:inline;vertical-align:middle;\" /></a></td></tr>\n",
       "<tr><td>11</td><td>Variable</td><td></td><td><a class=\"ProveItLink\" href=\"../../../packages/proveit/__pv_it/6a5b5879f51878868f626bf09e4d76392d4779cd0/expr.ipynb\"><img src=\"../../../packages/proveit/__pv_it/6a5b5879f51878868f626bf09e4d76392d4779cd0/expr.png\" style=\"display:inline;vertical-align:middle;\" /></a></td></tr>\n",
       "<tr><td>12</td><td>Lambda</td><td>parameter:&nbsp;30<br>body:&nbsp;18<br></td><td><a class=\"ProveItLink\" href=\"../8952bc0f9e73b11e4286584818010d0a789b47430/expr.ipynb\"><img src=\"../8952bc0f9e73b11e4286584818010d0a789b47430/expr.png\" style=\"display:inline;vertical-align:middle;\" /></a></td></tr>\n",
       "<tr><td>13</td><td>Literal</td><td></td><td><a class=\"ProveItLink\" href=\"../../../packages/proveit/number/numeral/__pv_it/f086f8c372bd40a2458306ddfdbb29f3dc6f63030/expr.ipynb\"><img src=\"../../../packages/proveit/number/numeral/__pv_it/f086f8c372bd40a2458306ddfdbb29f3dc6f63030/expr.png\" style=\"display:inline;vertical-align:middle;\" /></a></td></tr>\n",
       "<tr><td>14</td><td>Variable</td><td></td><td><a class=\"ProveItLink\" href=\"../../../packages/proveit/__pv_it/273f49450ca25e1b56abbd98a7aef618f8f6c1360/expr.ipynb\"><img src=\"../../../packages/proveit/__pv_it/273f49450ca25e1b56abbd98a7aef618f8f6c1360/expr.png\" style=\"display:inline;vertical-align:middle;\" /></a></td></tr>\n",
       "<tr><td>15</td><td>Operation</td><td>operator:&nbsp;21<br>operands:&nbsp;19<br></td><td><a class=\"ProveItLink\" href=\"../99e6f3391d85155ae45109bea23c8042637637280/expr.ipynb\"><img src=\"../99e6f3391d85155ae45109bea23c8042637637280/expr.png\" style=\"display:inline;vertical-align:middle;\" /></a></td></tr>\n",
       "<tr><td>16</td><td>Variable</td><td></td><td><a class=\"ProveItLink\" href=\"../../../packages/proveit/__pv_it/53e304ff98ebc000dbe3ef224f4637dbafd46ba70/expr.ipynb\"><img src=\"../../../packages/proveit/__pv_it/53e304ff98ebc000dbe3ef224f4637dbafd46ba70/expr.png\" style=\"display:inline;vertical-align:middle;\" /></a></td></tr>\n",
       "<tr><td>17</td><td>Operation</td><td>operator:&nbsp;21<br>operands:&nbsp;20<br></td><td><a class=\"ProveItLink\" href=\"../66806124cdfcb88d02146373b9295aba9362a7e50/expr.ipynb\"><img src=\"../66806124cdfcb88d02146373b9295aba9362a7e50/expr.png\" style=\"display:inline;vertical-align:middle;\" /></a></td></tr>\n",
       "<tr><td>18</td><td>Operation</td><td>operator:&nbsp;21<br>operands:&nbsp;22<br></td><td><a class=\"ProveItLink\" href=\"../20025be8436635ed805a2c9b8e76d0bf380618590/expr.ipynb\"><img src=\"../20025be8436635ed805a2c9b8e76d0bf380618590/expr.png\" style=\"display:inline;vertical-align:middle;\" /></a></td></tr>\n",
       "<tr><td>19</td><td>ExprTuple</td><td>23, 26</td><td><a class=\"ProveItLink\" href=\"../31b169a98acf923bd5baf6bc5e37862efc14ef0c0/expr.ipynb\"><img src=\"../31b169a98acf923bd5baf6bc5e37862efc14ef0c0/expr.png\" style=\"display:inline;vertical-align:middle;\" /></a></td></tr>\n",
       "<tr><td>20</td><td>ExprTuple</td><td>24, 26</td><td><a class=\"ProveItLink\" href=\"../88985b29c9423dd933514fe4cf424a859f03ff430/expr.ipynb\"><img src=\"../88985b29c9423dd933514fe4cf424a859f03ff430/expr.png\" style=\"display:inline;vertical-align:middle;\" /></a></td></tr>\n",
       "<tr><td>21</td><td>Literal</td><td></td><td><a class=\"ProveItLink\" href=\"../../../packages/proveit/logic/set_theory/membership/__pv_it/7776fc89cb67d0b5b1ec2c0c8e08da5587921ccf0/expr.ipynb\"><img src=\"../../../packages/proveit/logic/set_theory/membership/__pv_it/7776fc89cb67d0b5b1ec2c0c8e08da5587921ccf0/expr.png\" style=\"display:inline;vertical-align:middle;\" /></a></td></tr>\n",
       "<tr><td>22</td><td>ExprTuple</td><td>25, 26</td><td><a class=\"ProveItLink\" href=\"../1141e4458f8ffeb616331b0311a85101422132480/expr.ipynb\"><img src=\"../1141e4458f8ffeb616331b0311a85101422132480/expr.png\" style=\"display:inline;vertical-align:middle;\" /></a></td></tr>\n",
       "<tr><td>23</td><td>IndexedVar</td><td>variable:&nbsp;27<br>index:&nbsp;30<br></td><td><a class=\"ProveItLink\" href=\"../976fe6b95e8535cc9e0861bdc030337becead6960/expr.ipynb\"><img src=\"../976fe6b95e8535cc9e0861bdc030337becead6960/expr.png\" style=\"display:inline;vertical-align:middle;\" /></a></td></tr>\n",
       "<tr><td>24</td><td>IndexedVar</td><td>variable:&nbsp;28<br>index:&nbsp;30<br></td><td><a class=\"ProveItLink\" href=\"../e6421d02a0ea05a52c0ad299b2c18b261b8a0fc30/expr.ipynb\"><img src=\"../e6421d02a0ea05a52c0ad299b2c18b261b8a0fc30/expr.png\" style=\"display:inline;vertical-align:middle;\" /></a></td></tr>\n",
       "<tr><td>25</td><td>IndexedVar</td><td>variable:&nbsp;29<br>index:&nbsp;30<br></td><td><a class=\"ProveItLink\" href=\"../d26772a033711e24e6d8cc0cab11122d045b19db0/expr.ipynb\"><img src=\"../d26772a033711e24e6d8cc0cab11122d045b19db0/expr.png\" style=\"display:inline;vertical-align:middle;\" /></a></td></tr>\n",
       "<tr><td>26</td><td>Literal</td><td></td><td><a class=\"ProveItLink\" href=\"../../../packages/proveit/number/sets/complex/__pv_it/8a5866946d766bfd951bcdff07a1a39af0935c430/expr.ipynb\"><img src=\"../../../packages/proveit/number/sets/complex/__pv_it/8a5866946d766bfd951bcdff07a1a39af0935c430/expr.png\" style=\"display:inline;vertical-align:middle;\" /></a></td></tr>\n",
       "<tr><td>27</td><td>Variable</td><td></td><td><a class=\"ProveItLink\" href=\"../../../packages/proveit/__pv_it/a8d4b3a34d2189508f9082853fbac36935714f280/expr.ipynb\"><img src=\"../../../packages/proveit/__pv_it/a8d4b3a34d2189508f9082853fbac36935714f280/expr.png\" style=\"display:inline;vertical-align:middle;\" /></a></td></tr>\n",
       "<tr><td>28</td><td>Variable</td><td></td><td><a class=\"ProveItLink\" href=\"../../../packages/proveit/__pv_it/b2b446b221a34ee579eb9a1fbdd4ac4e2891d8c70/expr.ipynb\"><img src=\"../../../packages/proveit/__pv_it/b2b446b221a34ee579eb9a1fbdd4ac4e2891d8c70/expr.png\" style=\"display:inline;vertical-align:middle;\" /></a></td></tr>\n",
       "<tr><td>29</td><td>Variable</td><td></td><td><a class=\"ProveItLink\" href=\"../../../packages/proveit/__pv_it/445e790c2b62732eb8597a2ddda4cbd1a8fb79140/expr.ipynb\"><img src=\"../../../packages/proveit/__pv_it/445e790c2b62732eb8597a2ddda4cbd1a8fb79140/expr.png\" style=\"display:inline;vertical-align:middle;\" /></a></td></tr>\n",
       "<tr><td>30</td><td>Variable</td><td></td><td><a class=\"ProveItLink\" href=\"../1e653f789234b245ee7fea7caad998c139d617410/expr.ipynb\"><img src=\"../1e653f789234b245ee7fea7caad998c139d617410/expr.png\" style=\"display:inline;vertical-align:middle;\" /></a></td></tr>\n",
       "</table>\n"
      ],
      "text/plain": [
       "0. (a_{1} in Complexes) and ..(a_{_a} in Complexes).. and (a_{i} in Complexes) and (b in Complexes) and (c_{1} in Complexes) and ..(c_{_a} in Complexes).. and (c_{j} in Complexes) and (d_{1} in Complexes) and ..(d_{_a} in Complexes).. and (d_{k} in Complexes)\n",
       "   core type: Operation\n",
       "   operator: 1\n",
       "   operands: 2\n",
       "1. and\n",
       "   core type: Literal\n",
       "   sub-expressions: \n",
       "2. (a_{1} in Complexes, ..a_{_a} in Complexes.., a_{i} in Complexes, b in Complexes, c_{1} in Complexes, ..c_{_a} in Complexes.., c_{j} in Complexes, d_{1} in Complexes, ..d_{_a} in Complexes.., d_{k} in Complexes)\n",
       "   core type: ExprTuple\n",
       "   sub-expressions: 3, 4, 5, 6\n",
       "3. (a_{1} in Complexes), ..(a_{_a} in Complexes).., (a_{i} in Complexes)\n",
       "   core type: ExprRange\n",
       "   lambda_map: 7\n",
       "   start_index: 13\n",
       "   end_index: 8\n",
       "4. b in Complexes\n",
       "   core type: Operation\n",
       "   operator: 21\n",
       "   operands: 9\n",
       "5. (c_{1} in Complexes), ..(c_{_a} in Complexes).., (c_{j} in Complexes)\n",
       "   core type: ExprRange\n",
       "   lambda_map: 10\n",
       "   start_index: 13\n",
       "   end_index: 11\n",
       "6. (d_{1} in Complexes), ..(d_{_a} in Complexes).., (d_{k} in Complexes)\n",
       "   core type: ExprRange\n",
       "   lambda_map: 12\n",
       "   start_index: 13\n",
       "   end_index: 14\n",
       "7. _a -> (a_{_a} in Complexes)\n",
       "   core type: Lambda\n",
       "   parameter: 30\n",
       "   body: 15\n",
       "8. i\n",
       "   core type: Variable\n",
       "   sub-expressions: \n",
       "9. (b, Complexes)\n",
       "   core type: ExprTuple\n",
       "   sub-expressions: 16, 26\n",
       "10. _a -> (c_{_a} in Complexes)\n",
       "    core type: Lambda\n",
       "    parameter: 30\n",
       "    body: 17\n",
       "11. j\n",
       "    core type: Variable\n",
       "    sub-expressions: \n",
       "12. _a -> (d_{_a} in Complexes)\n",
       "    core type: Lambda\n",
       "    parameter: 30\n",
       "    body: 18\n",
       "13. 1\n",
       "    core type: Literal\n",
       "    sub-expressions: \n",
       "14. k\n",
       "    core type: Variable\n",
       "    sub-expressions: \n",
       "15. a_{_a} in Complexes\n",
       "    core type: Operation\n",
       "    operator: 21\n",
       "    operands: 19\n",
       "16. b\n",
       "    core type: Variable\n",
       "    sub-expressions: \n",
       "17. c_{_a} in Complexes\n",
       "    core type: Operation\n",
       "    operator: 21\n",
       "    operands: 20\n",
       "18. d_{_a} in Complexes\n",
       "    core type: Operation\n",
       "    operator: 21\n",
       "    operands: 22\n",
       "19. (a_{_a}, Complexes)\n",
       "    core type: ExprTuple\n",
       "    sub-expressions: 23, 26\n",
       "20. (c_{_a}, Complexes)\n",
       "    core type: ExprTuple\n",
       "    sub-expressions: 24, 26\n",
       "21. in\n",
       "    core type: Literal\n",
       "    sub-expressions: \n",
       "22. (d_{_a}, Complexes)\n",
       "    core type: ExprTuple\n",
       "    sub-expressions: 25, 26\n",
       "23. a_{_a}\n",
       "    core type: IndexedVar\n",
       "variable: 27\n",
       "index: 30\n",
       "24. c_{_a}\n",
       "    core type: IndexedVar\n",
       "variable: 28\n",
       "index: 30\n",
       "25. d_{_a}\n",
       "    core type: IndexedVar\n",
       "variable: 29\n",
       "index: 30\n",
       "26. Complexes\n",
       "    core type: Literal\n",
       "    sub-expressions: \n",
       "27. a\n",
       "    core type: Variable\n",
       "    sub-expressions: \n",
       "28. c\n",
       "    core type: Variable\n",
       "    sub-expressions: \n",
       "29. d\n",
       "    core type: Variable\n",
       "    sub-expressions: \n",
       "30. _a\n",
       "    core type: Variable\n",
       "    sub-expressions: "
      ]
     },
     "execution_count": 5,
     "metadata": {},
     "output_type": "execute_result"
    }
   ],
   "source": [
    "# display the expression information\n",
    "expr.exprInfo()"
   ]
  },
  {
   "cell_type": "code",
   "execution_count": null,
   "metadata": {},
   "outputs": [],
   "source": []
  }
 ],
 "metadata": {
  "kernelspec": {
   "display_name": "Python 3",
   "language": "python",
   "name": "python3"
  },
  "language_info": {
   "codemirror_mode": {
    "name": "ipython",
    "version": 3
   },
   "file_extension": ".py",
   "mimetype": "text/x-python",
   "name": "python",
   "nbconvert_exporter": "python",
   "pygments_lexer": "ipython3",
   "version": "3.7.3"
  }
 },
 "nbformat": 4,
 "nbformat_minor": 1
}
