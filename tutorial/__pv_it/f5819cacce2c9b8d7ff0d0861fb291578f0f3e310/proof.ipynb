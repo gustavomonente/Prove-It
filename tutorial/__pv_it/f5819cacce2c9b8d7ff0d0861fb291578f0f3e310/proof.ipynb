{
 "cells": [
  {
   "cell_type": "markdown",
   "metadata": {},
   "source": [
    "Show the Proof\n",
    "========"
   ]
  },
  {
   "cell_type": "code",
   "execution_count": 1,
   "metadata": {},
   "outputs": [
    {
     "data": {
      "text/html": [
       "<table><tr><th>&nbsp;</th><th>step type</th><th>requirements</th><th>statement</th></tr>\n",
       "<tr><td><a name=\"tutorial.f5819cacce2c9b8d7ff0d0861fb291578f0f3e310_step0\">0</a></td><td>instantiation</td><td><a href=\"#tutorial.f5819cacce2c9b8d7ff0d0861fb291578f0f3e310_step1\">1</a>, <a href=\"#tutorial.f5819cacce2c9b8d7ff0d0861fb291578f0f3e310_step2\">2</a></td><td><span style=\"font-size:20px;\"><a class=\"ProveItLink\" href=\"../72613898e889295e8777e67292ac8bc2c9a926370/expr.ipynb\"><img src=\"../72613898e889295e8777e67292ac8bc2c9a926370/expr.png\" style=\"display:inline;vertical-align:middle;\" /></a> <a class=\"ProveItLink\" href=\"proof.ipynb\" style=\"text-decoration: none\">&#x22A2;&nbsp;</a><a class=\"ProveItLink\" href=\"../a743872edce1378ee0ec7a353830ff5c02a8a1b00/expr.ipynb\"><img src=\"../a743872edce1378ee0ec7a353830ff5c02a8a1b00/expr.png\" style=\"display:inline;vertical-align:middle;\" /></a></span></td></tr>\n",
       "<tr><td>&nbsp;</td><td colspan=4 style=\"text-align:left\"><span style=\"font-size:20px;\"><a class=\"ProveItLink\" href=\"../../../packages/proveit/__pv_it/72df168d2bfb4e0140af90912ebf83b13772060b0/expr.ipynb\"><img src=\"../../../packages/proveit/__pv_it/72df168d2bfb4e0140af90912ebf83b13772060b0/expr.png\" style=\"display:inline;vertical-align:middle;\" /></a> : <a class=\"ProveItLink\" href=\"../0fb1af80909565dd39301be0f765c2996c65191b0/expr.ipynb\"><img src=\"../0fb1af80909565dd39301be0f765c2996c65191b0/expr.png\" style=\"display:inline;vertical-align:middle;\" /></a></span></td></tr><tr><td><a name=\"tutorial.f5819cacce2c9b8d7ff0d0861fb291578f0f3e310_step1\">1</a></td><td>assumption</td><td></td><td><span style=\"font-size:20px;\"><a class=\"ProveItLink\" href=\"../5197a74c789cd16f09bfed44f8d49483f13480bf0/expr.ipynb\"><img src=\"../5197a74c789cd16f09bfed44f8d49483f13480bf0/expr.png\" style=\"display:inline;vertical-align:middle;\" /></a> <a class=\"ProveItLink\" href=\"../6a4f81859e70c91de5a237754f9f8c4ecc160ee50/proof.ipynb\" style=\"text-decoration: none\">&#x22A2;&nbsp;</a><a class=\"ProveItLink\" href=\"../5cfa7290964dcb1d5064286498425ad14634d65e0/expr.ipynb\"><img src=\"../5cfa7290964dcb1d5064286498425ad14634d65e0/expr.png\" style=\"display:inline;vertical-align:middle;\" /></a></span></td></tr>\n",
       "<tr><td><a name=\"tutorial.f5819cacce2c9b8d7ff0d0861fb291578f0f3e310_step2\">2</a></td><td>assumption</td><td></td><td><span style=\"font-size:20px;\"><a class=\"ProveItLink\" href=\"../d1b9333c21c21bb15ce49b979575bf79f482e5940/expr.ipynb\"><img src=\"../d1b9333c21c21bb15ce49b979575bf79f482e5940/expr.png\" style=\"display:inline;vertical-align:middle;\" /></a> <a class=\"ProveItLink\" href=\"../0c6bb27f765e99551a00e00bb1b44afe093711cb0/proof.ipynb\" style=\"text-decoration: none\">&#x22A2;&nbsp;</a><a class=\"ProveItLink\" href=\"../3d6c8dbcf24fe64b6d8f3e726f4c944e25383b540/expr.ipynb\"><img src=\"../3d6c8dbcf24fe64b6d8f3e726f4c944e25383b540/expr.png\" style=\"display:inline;vertical-align:middle;\" /></a></span></td></tr>\n",
       "</table>"
      ],
      "text/plain": [
       "<proveit._core_.proof._ShowProof at 0x7f5b9b8268d0>"
      ]
     },
     "execution_count": 1,
     "metadata": {},
     "output_type": "execute_result"
    }
   ],
   "source": [
    "import proveit\n",
    "# Automation is not needed when only showing a stored proof:\n",
    "proveit.defaults.automation = False # This will speed things up.\n",
    "proveit.defaults.inline_pngs = False # Makes files smaller.\n",
    "%show_proof"
   ]
  },
  {
   "cell_type": "code",
   "execution_count": null,
   "metadata": {},
   "outputs": [],
   "source": []
  }
 ],
 "metadata": {
  "kernelspec": {
   "display_name": "Python 3",
   "language": "python",
   "name": "python3"
  },
  "language_info": {
   "codemirror_mode": {
    "name": "ipython",
    "version": 3
   },
   "file_extension": ".py",
   "mimetype": "text/x-python",
   "name": "python",
   "nbconvert_exporter": "python",
   "pygments_lexer": "ipython3",
   "version": "3.7.3"
  }
 },
 "nbformat": 4,
 "nbformat_minor": 1
}
