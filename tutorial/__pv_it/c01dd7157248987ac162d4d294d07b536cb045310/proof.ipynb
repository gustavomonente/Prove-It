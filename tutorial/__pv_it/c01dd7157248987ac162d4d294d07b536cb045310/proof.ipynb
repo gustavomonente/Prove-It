{
 "cells": [
  {
   "cell_type": "markdown",
   "metadata": {},
   "source": [
    "Show the Proof\n",
    "========"
   ]
  },
  {
   "cell_type": "code",
   "execution_count": 1,
   "metadata": {},
   "outputs": [
    {
     "data": {
      "text/html": [
       "<table><tr><th>&nbsp;</th><th>step type</th><th>requirements</th><th>statement</th></tr>\n",
       "<tr><td><a name=\"tutorial.c01dd7157248987ac162d4d294d07b536cb045310_step0\">0</a></td><td>instantiation</td><td><a href=\"#tutorial.c01dd7157248987ac162d4d294d07b536cb045310_step1\">1</a></td><td><span style=\"font-size:20px;\"><a class=\"ProveItLink\" href=\"../fb987996f03836333a334ed4938630c62df3c5330/expr.ipynb\"><img src=\"../fb987996f03836333a334ed4938630c62df3c5330/expr.png\" style=\"display:inline;vertical-align:middle;\" /></a> <a class=\"ProveItLink\" href=\"proof.ipynb\" style=\"text-decoration: none\">&#x22A2;&nbsp;</a><a class=\"ProveItLink\" href=\"../7d3db3927b7a5e6a23a93ea2bcb17ca6a39975be0/expr.ipynb\"><img src=\"../7d3db3927b7a5e6a23a93ea2bcb17ca6a39975be0/expr.png\" style=\"display:inline;vertical-align:middle;\" /></a></span></td></tr>\n",
       "<tr><td>&nbsp;</td><td colspan=4 style=\"text-align:left\"><span style=\"font-size:20px;\"><a class=\"ProveItLink\" href=\"../../../packages/proveit/__pv_it/390c91a44e60b16c95d2255652741252e8ec8d980/expr.ipynb\"><img src=\"../../../packages/proveit/__pv_it/390c91a44e60b16c95d2255652741252e8ec8d980/expr.png\" style=\"display:inline;vertical-align:middle;\" /></a> : <a class=\"ProveItLink\" href=\"../../../packages/proveit/core_expr_types/__pv_it/795e94272efddfeb705f3e8655d543ea0413500b0/expr.ipynb\"><img src=\"../../../packages/proveit/core_expr_types/__pv_it/795e94272efddfeb705f3e8655d543ea0413500b0/expr.png\" style=\"display:inline;vertical-align:middle;\" /></a></span></td></tr><tr><td><a name=\"tutorial.c01dd7157248987ac162d4d294d07b536cb045310_step1\">1</a></td><td>hypothetical reasoning</td><td><a href=\"#tutorial.c01dd7157248987ac162d4d294d07b536cb045310_step2\">2</a></td><td><span style=\"font-size:20px;\"><a class=\"ProveItLink\" href=\"../30c8aaf0a0126e84c0f34a4961fa70a5273c373f0/expr.ipynb\"><img src=\"../30c8aaf0a0126e84c0f34a4961fa70a5273c373f0/expr.png\" style=\"display:inline;vertical-align:middle;\" /></a> <a class=\"ProveItLink\" href=\"../0d69a98d150994d206c4bb7b18bfd6d4064203db0/proof.ipynb\" style=\"text-decoration: none\">&#x22A2;&nbsp;</a><a class=\"ProveItLink\" href=\"../3d2f422aa7840e6bdecbce9bde252bc59571f0ad0/expr.ipynb\"><img src=\"../3d2f422aa7840e6bdecbce9bde252bc59571f0ad0/expr.png\" style=\"display:inline;vertical-align:middle;\" /></a></span></td></tr>\n",
       "<tr><td><a name=\"tutorial.c01dd7157248987ac162d4d294d07b536cb045310_step2\">2</a></td><td>modus ponens</td><td><a href=\"#tutorial.c01dd7157248987ac162d4d294d07b536cb045310_step3\">3</a>, <a href=\"#tutorial.c01dd7157248987ac162d4d294d07b536cb045310_step4\">4</a></td><td><span style=\"font-size:20px;\"><a class=\"ProveItLink\" href=\"../019005f702b53daa528fb8b9ebfc01264fa3af2e0/expr.ipynb\"><img src=\"../019005f702b53daa528fb8b9ebfc01264fa3af2e0/expr.png\" style=\"display:inline;vertical-align:middle;\" /></a> <a class=\"ProveItLink\" href=\"../c5f693d11e0a8a6ace7fb6db7d45d42462375bb50/proof.ipynb\" style=\"text-decoration: none\">&#x22A2;&nbsp;</a><a class=\"ProveItLink\" href=\"../../../packages/proveit/__pv_it/0a2bba13f1df910578e611e3c0100cd5999bfe270/expr.ipynb\"><img src=\"../../../packages/proveit/__pv_it/0a2bba13f1df910578e611e3c0100cd5999bfe270/expr.png\" style=\"display:inline;vertical-align:middle;\" /></a></span></td></tr>\n",
       "<tr><td><a name=\"tutorial.c01dd7157248987ac162d4d294d07b536cb045310_step3\">3</a></td><td>assumption</td><td></td><td><span style=\"font-size:20px;\"><a class=\"ProveItLink\" href=\"../63278a395bd348c99419e2cd14a31ee5f34c2eff0/expr.ipynb\"><img src=\"../63278a395bd348c99419e2cd14a31ee5f34c2eff0/expr.png\" style=\"display:inline;vertical-align:middle;\" /></a> <a class=\"ProveItLink\" href=\"../ab109f2431de84e845166d6b055bc13783607da10/proof.ipynb\" style=\"text-decoration: none\">&#x22A2;&nbsp;</a><a class=\"ProveItLink\" href=\"../../../packages/proveit/__pv_it/1c933f129cd75dc12289963a94865a8d08c1615e0/expr.ipynb\"><img src=\"../../../packages/proveit/__pv_it/1c933f129cd75dc12289963a94865a8d08c1615e0/expr.png\" style=\"display:inline;vertical-align:middle;\" /></a></span></td></tr>\n",
       "<tr><td><a name=\"tutorial.c01dd7157248987ac162d4d294d07b536cb045310_step4\">4</a></td><td>modus ponens</td><td><a href=\"#tutorial.c01dd7157248987ac162d4d294d07b536cb045310_step5\">5</a>, <a href=\"#tutorial.c01dd7157248987ac162d4d294d07b536cb045310_step6\">6</a></td><td><span style=\"font-size:20px;\"><a class=\"ProveItLink\" href=\"../4c964b72ca11aa2dc97dd649feb1ecd340dee7060/expr.ipynb\"><img src=\"../4c964b72ca11aa2dc97dd649feb1ecd340dee7060/expr.png\" style=\"display:inline;vertical-align:middle;\" /></a> <a class=\"ProveItLink\" href=\"../dffa1909100959f594ecf2ac76201489a9c875910/proof.ipynb\" style=\"text-decoration: none\">&#x22A2;&nbsp;</a><a class=\"ProveItLink\" href=\"../../../packages/proveit/__pv_it/dbe7145e53d9411a5ba89652cbfea9d54e4b581a0/expr.ipynb\"><img src=\"../../../packages/proveit/__pv_it/dbe7145e53d9411a5ba89652cbfea9d54e4b581a0/expr.png\" style=\"display:inline;vertical-align:middle;\" /></a></span></td></tr>\n",
       "<tr><td><a name=\"tutorial.c01dd7157248987ac162d4d294d07b536cb045310_step5\">5</a></td><td>assumption</td><td></td><td><span style=\"font-size:20px;\"><a class=\"ProveItLink\" href=\"../9e0d6856ab85a01bc624332cc1d8ea9706569ea40/expr.ipynb\"><img src=\"../9e0d6856ab85a01bc624332cc1d8ea9706569ea40/expr.png\" style=\"display:inline;vertical-align:middle;\" /></a> <a class=\"ProveItLink\" href=\"../4a2c20f9f5e282ce7b3ad5431de2ac12386135410/proof.ipynb\" style=\"text-decoration: none\">&#x22A2;&nbsp;</a><a class=\"ProveItLink\" href=\"../../../packages/proveit/__pv_it/01c13e3270fb36c49eebfe710a4ec0bc55e72dd20/expr.ipynb\"><img src=\"../../../packages/proveit/__pv_it/01c13e3270fb36c49eebfe710a4ec0bc55e72dd20/expr.png\" style=\"display:inline;vertical-align:middle;\" /></a></span></td></tr>\n",
       "<tr><td><a name=\"tutorial.c01dd7157248987ac162d4d294d07b536cb045310_step6\">6</a></td><td>assumption</td><td></td><td><span style=\"font-size:20px;\"><a class=\"ProveItLink\" href=\"../3ce6966dcbb54400258cd7ac4b7d41ce205aaa0a0/expr.ipynb\"><img src=\"../3ce6966dcbb54400258cd7ac4b7d41ce205aaa0a0/expr.png\" style=\"display:inline;vertical-align:middle;\" /></a> <a class=\"ProveItLink\" href=\"../91821d8d46d9f0a501743c3c8946390822dc65390/proof.ipynb\" style=\"text-decoration: none\">&#x22A2;&nbsp;</a><a class=\"ProveItLink\" href=\"../../../packages/proveit/__pv_it/390c91a44e60b16c95d2255652741252e8ec8d980/expr.ipynb\"><img src=\"../../../packages/proveit/__pv_it/390c91a44e60b16c95d2255652741252e8ec8d980/expr.png\" style=\"display:inline;vertical-align:middle;\" /></a></span></td></tr>\n",
       "</table>"
      ],
      "text/plain": [
       "<proveit._core_.proof._ShowProof at 0x7f5b9a33b3c8>"
      ]
     },
     "execution_count": 1,
     "metadata": {},
     "output_type": "execute_result"
    }
   ],
   "source": [
    "import proveit\n",
    "# Automation is not needed when only showing a stored proof:\n",
    "proveit.defaults.automation = False # This will speed things up.\n",
    "proveit.defaults.inline_pngs = False # Makes files smaller.\n",
    "%show_proof"
   ]
  },
  {
   "cell_type": "code",
   "execution_count": null,
   "metadata": {},
   "outputs": [],
   "source": []
  }
 ],
 "metadata": {
  "kernelspec": {
   "display_name": "Python 3",
   "language": "python",
   "name": "python3"
  },
  "language_info": {
   "codemirror_mode": {
    "name": "ipython",
    "version": 3
   },
   "file_extension": ".py",
   "mimetype": "text/x-python",
   "name": "python",
   "nbconvert_exporter": "python",
   "pygments_lexer": "ipython3",
   "version": "3.7.3"
  }
 },
 "nbformat": 4,
 "nbformat_minor": 1
}
