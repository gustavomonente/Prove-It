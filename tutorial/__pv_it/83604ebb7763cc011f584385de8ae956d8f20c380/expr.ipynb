{
 "cells": [
  {
   "cell_type": "markdown",
   "metadata": {},
   "source": [
    "Expression of type <a class=\"ProveItLink\" href=\"../../../doc/html/api/proveit.ExprTuple.html\">ExprTuple</a>\n",
    "=======================\n",
    "# from context <a class=\"ProveItLink\" href=\"../../_context_.ipynb\">tutorial</a>"
   ]
  },
  {
   "cell_type": "code",
   "execution_count": 1,
   "metadata": {},
   "outputs": [],
   "source": [
    "import proveit\n",
    "# Automation is not needed when building an expression:\n",
    "proveit.defaults.automation = False # This will speed things up.\n",
    "proveit.defaults.inline_pngs = False # Makes files smaller.\n",
    "# import Expression classes needed to build the expression\n",
    "from proveit import ExprRange, ExprTuple, IndexedVar\n",
    "from proveit._common_ import a, j, n, x\n",
    "from proveit.core_expr_types import Len\n",
    "from proveit.number import Add, one"
   ]
  },
  {
   "cell_type": "code",
   "execution_count": 2,
   "metadata": {},
   "outputs": [
    {
     "data": {
      "text/html": [
       "<strong id=\"expr\">expr:</strong> <a class=\"ProveItLink\" href=\"expr.ipynb\"><img src=\"expr.png\" style=\"display:inline;vertical-align:middle;\" /></a><br>"
      ],
      "text/plain": [
       "expr: (|(a_{1}, ..a_{x}.., a_{j}, a_{j + 1}, ..a_{x}.., a_{n})|, |(1, ..a.., n)|)"
      ]
     },
     "execution_count": 2,
     "metadata": {},
     "output_type": "execute_result"
    }
   ],
   "source": [
    "# build up the expression from sub-expressions\n",
    "subExpr1 = IndexedVar(a, x)\n",
    "expr = ExprTuple(Len([ExprRange(x, subExpr1, one, j), ExprRange(x, subExpr1, Add(j, one), n)]), Len([ExprRange(a, a, one, n)]))"
   ]
  },
  {
   "cell_type": "code",
   "execution_count": 3,
   "metadata": {},
   "outputs": [
    {
     "name": "stdout",
     "output_type": "stream",
     "text": [
      "Passed sanity check: built 'expr' is the same as the stored Expression.\n"
     ]
    }
   ],
   "source": [
    "# check that the built expression is the same as the stored expression\n",
    "%check_expr"
   ]
  },
  {
   "cell_type": "code",
   "execution_count": 4,
   "metadata": {},
   "outputs": [
    {
     "name": "stdout",
     "output_type": "stream",
     "text": [
      "\\left(|\\left(a_{1}, \\ldots, a_{j}, a_{j + 1}, \\ldots, a_{n}\\right)|, |\\left(1, \\ldots, n\\right)|\\right)\n"
     ]
    }
   ],
   "source": [
    "# Show the LaTeX representation of the expression for convenience if you need it.\n",
    "print(expr.latex())"
   ]
  },
  {
   "cell_type": "code",
   "execution_count": 5,
   "metadata": {},
   "outputs": [
    {
     "data": {
      "text/html": [
       "<table><tr><th>&nbsp;</th><th>core type</th><th>sub-expressions</th><th>expression</th></tr>\n",
       "<tr><td>0</td><td>ExprTuple</td><td>1, 2</td><td><a class=\"ProveItLink\" href=\"expr.ipynb\"><img src=\"expr.png\" style=\"display:inline;vertical-align:middle;\" /></a></td></tr>\n",
       "<tr><td>1</td><td>Operation</td><td>operator:&nbsp;4<br>operand:&nbsp;6<br></td><td><a class=\"ProveItLink\" href=\"../89049d954187b7ee48e21c9c4f2b25ac755f57930/expr.ipynb\"><img src=\"../89049d954187b7ee48e21c9c4f2b25ac755f57930/expr.png\" style=\"display:inline;vertical-align:middle;\" /></a></td></tr>\n",
       "<tr><td>2</td><td>Operation</td><td>operator:&nbsp;4<br>operand:&nbsp;7<br></td><td><a class=\"ProveItLink\" href=\"../fcd7a027e6cfd6ef5b31abd84cb708f68dbad9210/expr.ipynb\"><img src=\"../fcd7a027e6cfd6ef5b31abd84cb708f68dbad9210/expr.png\" style=\"display:inline;vertical-align:middle;\" /></a></td></tr>\n",
       "<tr><td>3</td><td>ExprTuple</td><td>6</td><td><a class=\"ProveItLink\" href=\"../024bcb0434f477a2243cf93f82bac4ba96b50bd50/expr.ipynb\"><img src=\"../024bcb0434f477a2243cf93f82bac4ba96b50bd50/expr.png\" style=\"display:inline;vertical-align:middle;\" /></a></td></tr>\n",
       "<tr><td>4</td><td>Literal</td><td></td><td><a class=\"ProveItLink\" href=\"../../../packages/proveit/core_expr_types/tuples/__pv_it/92831c6291223dfbd76a11e90e750ae52564aa9f0/expr.ipynb\"><img src=\"../../../packages/proveit/core_expr_types/tuples/__pv_it/92831c6291223dfbd76a11e90e750ae52564aa9f0/expr.png\" style=\"display:inline;vertical-align:middle;\" /></a></td></tr>\n",
       "<tr><td>5</td><td>ExprTuple</td><td>7</td><td><a class=\"ProveItLink\" href=\"../d06a92f6b9a7b8bf14755d120870b2d2d3e0e0b20/expr.ipynb\"><img src=\"../d06a92f6b9a7b8bf14755d120870b2d2d3e0e0b20/expr.png\" style=\"display:inline;vertical-align:middle;\" /></a></td></tr>\n",
       "<tr><td>6</td><td>ExprTuple</td><td>8, 9</td><td><a class=\"ProveItLink\" href=\"../52267b8fc958b1f92f3b065dec74673eea9f3f9e0/expr.ipynb\"><img src=\"../52267b8fc958b1f92f3b065dec74673eea9f3f9e0/expr.png\" style=\"display:inline;vertical-align:middle;\" /></a></td></tr>\n",
       "<tr><td>7</td><td>ExprTuple</td><td>10</td><td><a class=\"ProveItLink\" href=\"../c01e33e0c9141c4ccb5c9e6b6d02a5e36247822b0/expr.ipynb\"><img src=\"../c01e33e0c9141c4ccb5c9e6b6d02a5e36247822b0/expr.png\" style=\"display:inline;vertical-align:middle;\" /></a></td></tr>\n",
       "<tr><td>8</td><td>ExprRange</td><td>lambda_map:&nbsp;11<br>start_index:&nbsp;21<br>end_index:&nbsp;20<br></td><td><a class=\"ProveItLink\" href=\"../c79060636982a023a2b6143ff0a4bc9192edb45b0/expr.ipynb\"><img src=\"../c79060636982a023a2b6143ff0a4bc9192edb45b0/expr.png\" style=\"display:inline;vertical-align:middle;\" /></a></td></tr>\n",
       "<tr><td>9</td><td>ExprRange</td><td>lambda_map:&nbsp;11<br>start_index:&nbsp;12<br>end_index:&nbsp;14<br></td><td><a class=\"ProveItLink\" href=\"../1b477101bd76fa550ea24d4afc96f73f25b25ef30/expr.ipynb\"><img src=\"../1b477101bd76fa550ea24d4afc96f73f25b25ef30/expr.png\" style=\"display:inline;vertical-align:middle;\" /></a></td></tr>\n",
       "<tr><td>10</td><td>ExprRange</td><td>lambda_map:&nbsp;13<br>start_index:&nbsp;21<br>end_index:&nbsp;14<br></td><td><a class=\"ProveItLink\" href=\"../c3ef16aec7d35b56664c45d0c1f16570b825d8700/expr.ipynb\"><img src=\"../c3ef16aec7d35b56664c45d0c1f16570b825d8700/expr.png\" style=\"display:inline;vertical-align:middle;\" /></a></td></tr>\n",
       "<tr><td>11</td><td>Lambda</td><td>parameter:&nbsp;19<br>body:&nbsp;15<br></td><td><a class=\"ProveItLink\" href=\"../4ce186d0a5a869a44102c5f05703f744a59e38560/expr.ipynb\"><img src=\"../4ce186d0a5a869a44102c5f05703f744a59e38560/expr.png\" style=\"display:inline;vertical-align:middle;\" /></a></td></tr>\n",
       "<tr><td>12</td><td>Operation</td><td>operator:&nbsp;16<br>operands:&nbsp;17<br></td><td><a class=\"ProveItLink\" href=\"../c24113b5c38ba32e99d87d214af69362016a17fe0/expr.ipynb\"><img src=\"../c24113b5c38ba32e99d87d214af69362016a17fe0/expr.png\" style=\"display:inline;vertical-align:middle;\" /></a></td></tr>\n",
       "<tr><td>13</td><td>Lambda</td><td>parameter:&nbsp;18<br>body:&nbsp;18<br></td><td><a class=\"ProveItLink\" href=\"../7bda9dc6d353d20fdde1090f8385e8258c766e6a0/expr.ipynb\"><img src=\"../7bda9dc6d353d20fdde1090f8385e8258c766e6a0/expr.png\" style=\"display:inline;vertical-align:middle;\" /></a></td></tr>\n",
       "<tr><td>14</td><td>Variable</td><td></td><td><a class=\"ProveItLink\" href=\"../../../packages/proveit/__pv_it/0c1c4cb515e0f4344b1ac06650f349123e526deb0/expr.ipynb\"><img src=\"../../../packages/proveit/__pv_it/0c1c4cb515e0f4344b1ac06650f349123e526deb0/expr.png\" style=\"display:inline;vertical-align:middle;\" /></a></td></tr>\n",
       "<tr><td>15</td><td>IndexedVar</td><td>variable:&nbsp;18<br>index:&nbsp;19<br></td><td><a class=\"ProveItLink\" href=\"../93c6b067ad0388aa743da5d36c3f40b3b9a7daa90/expr.ipynb\"><img src=\"../93c6b067ad0388aa743da5d36c3f40b3b9a7daa90/expr.png\" style=\"display:inline;vertical-align:middle;\" /></a></td></tr>\n",
       "<tr><td>16</td><td>Literal</td><td></td><td><a class=\"ProveItLink\" href=\"../../../packages/proveit/number/addition/__pv_it/65ad7e8aee19b10110d590375ba95a879c4fb7ea0/expr.ipynb\"><img src=\"../../../packages/proveit/number/addition/__pv_it/65ad7e8aee19b10110d590375ba95a879c4fb7ea0/expr.png\" style=\"display:inline;vertical-align:middle;\" /></a></td></tr>\n",
       "<tr><td>17</td><td>ExprTuple</td><td>20, 21</td><td><a class=\"ProveItLink\" href=\"../a6730aa6a9af9a6e7774016b6b9febfe2d879d590/expr.ipynb\"><img src=\"../a6730aa6a9af9a6e7774016b6b9febfe2d879d590/expr.png\" style=\"display:inline;vertical-align:middle;\" /></a></td></tr>\n",
       "<tr><td>18</td><td>Variable</td><td></td><td><a class=\"ProveItLink\" href=\"../../../packages/proveit/__pv_it/a8d4b3a34d2189508f9082853fbac36935714f280/expr.ipynb\"><img src=\"../../../packages/proveit/__pv_it/a8d4b3a34d2189508f9082853fbac36935714f280/expr.png\" style=\"display:inline;vertical-align:middle;\" /></a></td></tr>\n",
       "<tr><td>19</td><td>Variable</td><td></td><td><a class=\"ProveItLink\" href=\"../../../packages/proveit/__pv_it/72df168d2bfb4e0140af90912ebf83b13772060b0/expr.ipynb\"><img src=\"../../../packages/proveit/__pv_it/72df168d2bfb4e0140af90912ebf83b13772060b0/expr.png\" style=\"display:inline;vertical-align:middle;\" /></a></td></tr>\n",
       "<tr><td>20</td><td>Variable</td><td></td><td><a class=\"ProveItLink\" href=\"../../../packages/proveit/__pv_it/6a5b5879f51878868f626bf09e4d76392d4779cd0/expr.ipynb\"><img src=\"../../../packages/proveit/__pv_it/6a5b5879f51878868f626bf09e4d76392d4779cd0/expr.png\" style=\"display:inline;vertical-align:middle;\" /></a></td></tr>\n",
       "<tr><td>21</td><td>Literal</td><td></td><td><a class=\"ProveItLink\" href=\"../../../packages/proveit/number/numeral/__pv_it/f086f8c372bd40a2458306ddfdbb29f3dc6f63030/expr.ipynb\"><img src=\"../../../packages/proveit/number/numeral/__pv_it/f086f8c372bd40a2458306ddfdbb29f3dc6f63030/expr.png\" style=\"display:inline;vertical-align:middle;\" /></a></td></tr>\n",
       "</table>\n"
      ],
      "text/plain": [
       "0. (|(a_{1}, ..a_{x}.., a_{j}, a_{j + 1}, ..a_{x}.., a_{n})|, |(1, ..a.., n)|)\n",
       "   core type: ExprTuple\n",
       "   sub-expressions: 1, 2\n",
       "1. |(a_{1}, ..a_{x}.., a_{j}, a_{j + 1}, ..a_{x}.., a_{n})|\n",
       "   core type: Operation\n",
       "   operator: 4\n",
       "   operand: 6\n",
       "2. |(1, ..a.., n)|\n",
       "   core type: Operation\n",
       "   operator: 4\n",
       "   operand: 7\n",
       "3. ((a_{1}, ..a_{x}.., a_{j}, a_{j + 1}, ..a_{x}.., a_{n}))\n",
       "   core type: ExprTuple\n",
       "   sub-expressions: 6\n",
       "4. length\n",
       "   core type: Literal\n",
       "   sub-expressions: \n",
       "5. ((1, ..a.., n))\n",
       "   core type: ExprTuple\n",
       "   sub-expressions: 7\n",
       "6. (a_{1}, ..a_{x}.., a_{j}, a_{j + 1}, ..a_{x}.., a_{n})\n",
       "   core type: ExprTuple\n",
       "   sub-expressions: 8, 9\n",
       "7. (1, ..a.., n)\n",
       "   core type: ExprTuple\n",
       "   sub-expressions: 10\n",
       "8. a_{1}, ..a_{x}.., a_{j}\n",
       "   core type: ExprRange\n",
       "   lambda_map: 11\n",
       "   start_index: 21\n",
       "   end_index: 20\n",
       "9. a_{j + 1}, ..a_{x}.., a_{n}\n",
       "   core type: ExprRange\n",
       "   lambda_map: 11\n",
       "   start_index: 12\n",
       "   end_index: 14\n",
       "10. 1, ..a.., n\n",
       "    core type: ExprRange\n",
       "    lambda_map: 13\n",
       "    start_index: 21\n",
       "    end_index: 14\n",
       "11. x -> a_{x}\n",
       "    core type: Lambda\n",
       "    parameter: 19\n",
       "    body: 15\n",
       "12. j + 1\n",
       "    core type: Operation\n",
       "    operator: 16\n",
       "    operands: 17\n",
       "13. a -> a\n",
       "    core type: Lambda\n",
       "    parameter: 18\n",
       "    body: 18\n",
       "14. n\n",
       "    core type: Variable\n",
       "    sub-expressions: \n",
       "15. a_{x}\n",
       "    core type: IndexedVar\n",
       "variable: 18\n",
       "index: 19\n",
       "16. +\n",
       "    core type: Literal\n",
       "    sub-expressions: \n",
       "17. (j, 1)\n",
       "    core type: ExprTuple\n",
       "    sub-expressions: 20, 21\n",
       "18. a\n",
       "    core type: Variable\n",
       "    sub-expressions: \n",
       "19. x\n",
       "    core type: Variable\n",
       "    sub-expressions: \n",
       "20. j\n",
       "    core type: Variable\n",
       "    sub-expressions: \n",
       "21. 1\n",
       "    core type: Literal\n",
       "    sub-expressions: "
      ]
     },
     "execution_count": 5,
     "metadata": {},
     "output_type": "execute_result"
    }
   ],
   "source": [
    "# display the expression information\n",
    "expr.exprInfo()"
   ]
  },
  {
   "cell_type": "code",
   "execution_count": null,
   "metadata": {},
   "outputs": [],
   "source": []
  }
 ],
 "metadata": {
  "kernelspec": {
   "display_name": "Python 3",
   "language": "python",
   "name": "python3"
  },
  "language_info": {
   "codemirror_mode": {
    "name": "ipython",
    "version": 3
   },
   "file_extension": ".py",
   "mimetype": "text/x-python",
   "name": "python",
   "nbconvert_exporter": "python",
   "pygments_lexer": "ipython3",
   "version": "3.7.3"
  }
 },
 "nbformat": 4,
 "nbformat_minor": 1
}
