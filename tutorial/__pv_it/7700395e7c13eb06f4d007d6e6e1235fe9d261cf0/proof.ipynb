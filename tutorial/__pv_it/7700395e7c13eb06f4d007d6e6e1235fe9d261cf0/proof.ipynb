{
 "cells": [
  {
   "cell_type": "markdown",
   "metadata": {},
   "source": [
    "Show the Proof\n",
    "========"
   ]
  },
  {
   "cell_type": "code",
   "execution_count": 1,
   "metadata": {},
   "outputs": [
    {
     "data": {
      "text/html": [
       "<table><tr><th>&nbsp;</th><th>step type</th><th>requirements</th><th>statement</th></tr>\n",
       "<tr><td><a name=\"tutorial.7700395e7c13eb06f4d007d6e6e1235fe9d261cf0_step0\">0</a></td><td>instantiation</td><td><a href=\"#tutorial.7700395e7c13eb06f4d007d6e6e1235fe9d261cf0_step1\">1</a>, <a href=\"#tutorial.7700395e7c13eb06f4d007d6e6e1235fe9d261cf0_step2\">2</a></td><td><span style=\"font-size:20px;\"><a class=\"ProveItLink\" href=\"../bbce6d98f44fefb0afca1bc73b6223016c0cb8a40/expr.ipynb\"><img src=\"../bbce6d98f44fefb0afca1bc73b6223016c0cb8a40/expr.png\" style=\"display:inline;vertical-align:middle;\" /></a> <a class=\"ProveItLink\" href=\"proof.ipynb\" style=\"text-decoration: none\">&#x22A2;&nbsp;</a><a class=\"ProveItLink\" href=\"../5e11ce9c8b89c32c14af5ce56a507bb144e16ab50/expr.ipynb\"><img src=\"../5e11ce9c8b89c32c14af5ce56a507bb144e16ab50/expr.png\" style=\"display:inline;vertical-align:middle;\" /></a></span></td></tr>\n",
       "<tr><td>&nbsp;</td><td colspan=4 style=\"text-align:left\"><span style=\"font-size:20px;\"><a class=\"ProveItLink\" href=\"../../../packages/proveit/core_expr_types/__pv_it/8503dd75b8d2c0097310b10afd704e3f48409d280/expr.ipynb\"><img src=\"../../../packages/proveit/core_expr_types/__pv_it/8503dd75b8d2c0097310b10afd704e3f48409d280/expr.png\" style=\"display:inline;vertical-align:middle;\" /></a> : <a class=\"ProveItLink\" href=\"../63a965764f888d5f47d1dbfc3b78411ee7aa6d570/expr.ipynb\"><img src=\"../63a965764f888d5f47d1dbfc3b78411ee7aa6d570/expr.png\" style=\"display:inline;vertical-align:middle;\" /></a></span></td></tr><tr><td><a name=\"tutorial.7700395e7c13eb06f4d007d6e6e1235fe9d261cf0_step1\">1</a></td><td>instantiation</td><td><a href=\"#tutorial.7700395e7c13eb06f4d007d6e6e1235fe9d261cf0_step3\">3</a></td><td><span style=\"font-size:20px;\"><a class=\"ProveItLink\" href=\"../fb987996f03836333a334ed4938630c62df3c5330/expr.ipynb\"><img src=\"../fb987996f03836333a334ed4938630c62df3c5330/expr.png\" style=\"display:inline;vertical-align:middle;\" /></a> <a class=\"ProveItLink\" href=\"../c01dd7157248987ac162d4d294d07b536cb045310/proof.ipynb\" style=\"text-decoration: none\">&#x22A2;&nbsp;</a><a class=\"ProveItLink\" href=\"../7d3db3927b7a5e6a23a93ea2bcb17ca6a39975be0/expr.ipynb\"><img src=\"../7d3db3927b7a5e6a23a93ea2bcb17ca6a39975be0/expr.png\" style=\"display:inline;vertical-align:middle;\" /></a></span></td></tr>\n",
       "<tr><td>&nbsp;</td><td colspan=4 style=\"text-align:left\"><span style=\"font-size:20px;\"><a class=\"ProveItLink\" href=\"../../../packages/proveit/__pv_it/390c91a44e60b16c95d2255652741252e8ec8d980/expr.ipynb\"><img src=\"../../../packages/proveit/__pv_it/390c91a44e60b16c95d2255652741252e8ec8d980/expr.png\" style=\"display:inline;vertical-align:middle;\" /></a> : <a class=\"ProveItLink\" href=\"../../../packages/proveit/core_expr_types/__pv_it/795e94272efddfeb705f3e8655d543ea0413500b0/expr.ipynb\"><img src=\"../../../packages/proveit/core_expr_types/__pv_it/795e94272efddfeb705f3e8655d543ea0413500b0/expr.png\" style=\"display:inline;vertical-align:middle;\" /></a></span></td></tr><tr><td><a name=\"tutorial.7700395e7c13eb06f4d007d6e6e1235fe9d261cf0_step2\">2</a></td><td>instantiation</td><td><a href=\"#tutorial.7700395e7c13eb06f4d007d6e6e1235fe9d261cf0_step4\">4</a>, <a href=\"#tutorial.7700395e7c13eb06f4d007d6e6e1235fe9d261cf0_step5\">5</a></td><td><span style=\"font-size:20px;\"><a class=\"ProveItLink\" href=\"../15a00d825a7c658d68ebdf07d8090dfd64f237c00/expr.ipynb\"><img src=\"../15a00d825a7c658d68ebdf07d8090dfd64f237c00/expr.png\" style=\"display:inline;vertical-align:middle;\" /></a> <a class=\"ProveItLink\" href=\"../64b24756f84acdc7c9470d0344f9792412c24a5e0/proof.ipynb\" style=\"text-decoration: none\">&#x22A2;&nbsp;</a><a class=\"ProveItLink\" href=\"../3ae7a57e4c4160a9e19596b550b1664360a2c8860/expr.ipynb\"><img src=\"../3ae7a57e4c4160a9e19596b550b1664360a2c8860/expr.png\" style=\"display:inline;vertical-align:middle;\" /></a></span></td></tr>\n",
       "<tr><td>&nbsp;</td><td colspan=4 style=\"text-align:left\"><span style=\"font-size:20px;\"><a class=\"ProveItLink\" href=\"../../../packages/proveit/__pv_it/557ab5defdcd46aa58168b08767502985122cd490/expr.ipynb\"><img src=\"../../../packages/proveit/__pv_it/557ab5defdcd46aa58168b08767502985122cd490/expr.png\" style=\"display:inline;vertical-align:middle;\" /></a> : <a class=\"ProveItLink\" href=\"../../../packages/proveit/__pv_it/0c1c4cb515e0f4344b1ac06650f349123e526deb0/expr.ipynb\"><img src=\"../../../packages/proveit/__pv_it/0c1c4cb515e0f4344b1ac06650f349123e526deb0/expr.png\" style=\"display:inline;vertical-align:middle;\" /></a>, <a class=\"ProveItLink\" href=\"../../../packages/proveit/__pv_it/e80bce2a0c2e8c976be76e7b3ce08f76e74ec5550/expr.ipynb\"><img src=\"../../../packages/proveit/__pv_it/e80bce2a0c2e8c976be76e7b3ce08f76e74ec5550/expr.png\" style=\"display:inline;vertical-align:middle;\" /></a> : <a class=\"ProveItLink\" href=\"../83abf2e183e058695968c5ef6c9d255de275e3420/expr.ipynb\"><img src=\"../83abf2e183e058695968c5ef6c9d255de275e3420/expr.png\" style=\"display:inline;vertical-align:middle;\" /></a></span></td></tr><tr><td><a name=\"tutorial.7700395e7c13eb06f4d007d6e6e1235fe9d261cf0_step3\">3</a></td><td>hypothetical reasoning</td><td><a href=\"#tutorial.7700395e7c13eb06f4d007d6e6e1235fe9d261cf0_step6\">6</a></td><td><span style=\"font-size:20px;\"><a class=\"ProveItLink\" href=\"../30c8aaf0a0126e84c0f34a4961fa70a5273c373f0/expr.ipynb\"><img src=\"../30c8aaf0a0126e84c0f34a4961fa70a5273c373f0/expr.png\" style=\"display:inline;vertical-align:middle;\" /></a> <a class=\"ProveItLink\" href=\"../0d69a98d150994d206c4bb7b18bfd6d4064203db0/proof.ipynb\" style=\"text-decoration: none\">&#x22A2;&nbsp;</a><a class=\"ProveItLink\" href=\"../3d2f422aa7840e6bdecbce9bde252bc59571f0ad0/expr.ipynb\"><img src=\"../3d2f422aa7840e6bdecbce9bde252bc59571f0ad0/expr.png\" style=\"display:inline;vertical-align:middle;\" /></a></span></td></tr>\n",
       "<tr><td><a name=\"tutorial.7700395e7c13eb06f4d007d6e6e1235fe9d261cf0_step4\">4</a></td><td>theorem</td><td></td><td><span style=\"font-size:20px;\"> <a class=\"ProveItLink\" href=\"../../../packages/proveit/core_expr_types/tuples/_proofs_/range_from1_len_typical_equiv.ipynb\" style=\"text-decoration: none\">&#x22A2;&nbsp;</a><a class=\"ProveItLink\" href=\"../94e973d09417542727834c8441742c7761d2bbab0/expr.ipynb\"><img src=\"../94e973d09417542727834c8441742c7761d2bbab0/expr.png\" style=\"display:inline;vertical-align:middle;\" /></a></span></td></tr>\n",
       "<tr><td>&nbsp;</td><td colspan=4 style-\"text-align:left\"><a class=\"ProveItLink\" href=\"../../../packages/proveit/core_expr_types/tuples/_proofs_/range_from1_len_typical_equiv.ipynb\">proveit.core_expr_types.tuples.range_from1_len_typical_equiv</a></td></tr><tr><td><a name=\"tutorial.7700395e7c13eb06f4d007d6e6e1235fe9d261cf0_step5\">5</a></td><td>assumption</td><td></td><td><span style=\"font-size:20px;\"><a class=\"ProveItLink\" href=\"../15a00d825a7c658d68ebdf07d8090dfd64f237c00/expr.ipynb\"><img src=\"../15a00d825a7c658d68ebdf07d8090dfd64f237c00/expr.png\" style=\"display:inline;vertical-align:middle;\" /></a> <a class=\"ProveItLink\" href=\"../9e60c7718b155f0d5a0f632724fb7dd38cb1bbcb0/proof.ipynb\" style=\"text-decoration: none\">&#x22A2;&nbsp;</a><a class=\"ProveItLink\" href=\"../2cf8e15839f3241ee91ee5160b94bb56314115740/expr.ipynb\"><img src=\"../2cf8e15839f3241ee91ee5160b94bb56314115740/expr.png\" style=\"display:inline;vertical-align:middle;\" /></a></span></td></tr>\n",
       "<tr><td><a name=\"tutorial.7700395e7c13eb06f4d007d6e6e1235fe9d261cf0_step6\">6</a></td><td>modus ponens</td><td><a href=\"#tutorial.7700395e7c13eb06f4d007d6e6e1235fe9d261cf0_step7\">7</a>, <a href=\"#tutorial.7700395e7c13eb06f4d007d6e6e1235fe9d261cf0_step8\">8</a></td><td><span style=\"font-size:20px;\"><a class=\"ProveItLink\" href=\"../019005f702b53daa528fb8b9ebfc01264fa3af2e0/expr.ipynb\"><img src=\"../019005f702b53daa528fb8b9ebfc01264fa3af2e0/expr.png\" style=\"display:inline;vertical-align:middle;\" /></a> <a class=\"ProveItLink\" href=\"../c5f693d11e0a8a6ace7fb6db7d45d42462375bb50/proof.ipynb\" style=\"text-decoration: none\">&#x22A2;&nbsp;</a><a class=\"ProveItLink\" href=\"../../../packages/proveit/__pv_it/0a2bba13f1df910578e611e3c0100cd5999bfe270/expr.ipynb\"><img src=\"../../../packages/proveit/__pv_it/0a2bba13f1df910578e611e3c0100cd5999bfe270/expr.png\" style=\"display:inline;vertical-align:middle;\" /></a></span></td></tr>\n",
       "<tr><td><a name=\"tutorial.7700395e7c13eb06f4d007d6e6e1235fe9d261cf0_step7\">7</a></td><td>assumption</td><td></td><td><span style=\"font-size:20px;\"><a class=\"ProveItLink\" href=\"../63278a395bd348c99419e2cd14a31ee5f34c2eff0/expr.ipynb\"><img src=\"../63278a395bd348c99419e2cd14a31ee5f34c2eff0/expr.png\" style=\"display:inline;vertical-align:middle;\" /></a> <a class=\"ProveItLink\" href=\"../ab109f2431de84e845166d6b055bc13783607da10/proof.ipynb\" style=\"text-decoration: none\">&#x22A2;&nbsp;</a><a class=\"ProveItLink\" href=\"../../../packages/proveit/__pv_it/1c933f129cd75dc12289963a94865a8d08c1615e0/expr.ipynb\"><img src=\"../../../packages/proveit/__pv_it/1c933f129cd75dc12289963a94865a8d08c1615e0/expr.png\" style=\"display:inline;vertical-align:middle;\" /></a></span></td></tr>\n",
       "<tr><td><a name=\"tutorial.7700395e7c13eb06f4d007d6e6e1235fe9d261cf0_step8\">8</a></td><td>modus ponens</td><td><a href=\"#tutorial.7700395e7c13eb06f4d007d6e6e1235fe9d261cf0_step9\">9</a>, <a href=\"#tutorial.7700395e7c13eb06f4d007d6e6e1235fe9d261cf0_step10\">10</a></td><td><span style=\"font-size:20px;\"><a class=\"ProveItLink\" href=\"../4c964b72ca11aa2dc97dd649feb1ecd340dee7060/expr.ipynb\"><img src=\"../4c964b72ca11aa2dc97dd649feb1ecd340dee7060/expr.png\" style=\"display:inline;vertical-align:middle;\" /></a> <a class=\"ProveItLink\" href=\"../dffa1909100959f594ecf2ac76201489a9c875910/proof.ipynb\" style=\"text-decoration: none\">&#x22A2;&nbsp;</a><a class=\"ProveItLink\" href=\"../../../packages/proveit/__pv_it/dbe7145e53d9411a5ba89652cbfea9d54e4b581a0/expr.ipynb\"><img src=\"../../../packages/proveit/__pv_it/dbe7145e53d9411a5ba89652cbfea9d54e4b581a0/expr.png\" style=\"display:inline;vertical-align:middle;\" /></a></span></td></tr>\n",
       "<tr><td><a name=\"tutorial.7700395e7c13eb06f4d007d6e6e1235fe9d261cf0_step9\">9</a></td><td>assumption</td><td></td><td><span style=\"font-size:20px;\"><a class=\"ProveItLink\" href=\"../9e0d6856ab85a01bc624332cc1d8ea9706569ea40/expr.ipynb\"><img src=\"../9e0d6856ab85a01bc624332cc1d8ea9706569ea40/expr.png\" style=\"display:inline;vertical-align:middle;\" /></a> <a class=\"ProveItLink\" href=\"../4a2c20f9f5e282ce7b3ad5431de2ac12386135410/proof.ipynb\" style=\"text-decoration: none\">&#x22A2;&nbsp;</a><a class=\"ProveItLink\" href=\"../../../packages/proveit/__pv_it/01c13e3270fb36c49eebfe710a4ec0bc55e72dd20/expr.ipynb\"><img src=\"../../../packages/proveit/__pv_it/01c13e3270fb36c49eebfe710a4ec0bc55e72dd20/expr.png\" style=\"display:inline;vertical-align:middle;\" /></a></span></td></tr>\n",
       "<tr><td><a name=\"tutorial.7700395e7c13eb06f4d007d6e6e1235fe9d261cf0_step10\">10</a></td><td>assumption</td><td></td><td><span style=\"font-size:20px;\"><a class=\"ProveItLink\" href=\"../3ce6966dcbb54400258cd7ac4b7d41ce205aaa0a0/expr.ipynb\"><img src=\"../3ce6966dcbb54400258cd7ac4b7d41ce205aaa0a0/expr.png\" style=\"display:inline;vertical-align:middle;\" /></a> <a class=\"ProveItLink\" href=\"../91821d8d46d9f0a501743c3c8946390822dc65390/proof.ipynb\" style=\"text-decoration: none\">&#x22A2;&nbsp;</a><a class=\"ProveItLink\" href=\"../../../packages/proveit/__pv_it/390c91a44e60b16c95d2255652741252e8ec8d980/expr.ipynb\"><img src=\"../../../packages/proveit/__pv_it/390c91a44e60b16c95d2255652741252e8ec8d980/expr.png\" style=\"display:inline;vertical-align:middle;\" /></a></span></td></tr>\n",
       "</table>"
      ],
      "text/plain": [
       "<proveit._core_.proof._ShowProof at 0x7f5bb0be3dd8>"
      ]
     },
     "execution_count": 1,
     "metadata": {},
     "output_type": "execute_result"
    }
   ],
   "source": [
    "import proveit\n",
    "# Automation is not needed when only showing a stored proof:\n",
    "proveit.defaults.automation = False # This will speed things up.\n",
    "proveit.defaults.inline_pngs = False # Makes files smaller.\n",
    "%show_proof"
   ]
  },
  {
   "cell_type": "code",
   "execution_count": null,
   "metadata": {},
   "outputs": [],
   "source": []
  }
 ],
 "metadata": {
  "kernelspec": {
   "display_name": "Python 3",
   "language": "python",
   "name": "python3"
  },
  "language_info": {
   "codemirror_mode": {
    "name": "ipython",
    "version": 3
   },
   "file_extension": ".py",
   "mimetype": "text/x-python",
   "name": "python",
   "nbconvert_exporter": "python",
   "pygments_lexer": "ipython3",
   "version": "3.7.3"
  }
 },
 "nbformat": 4,
 "nbformat_minor": 1
}
