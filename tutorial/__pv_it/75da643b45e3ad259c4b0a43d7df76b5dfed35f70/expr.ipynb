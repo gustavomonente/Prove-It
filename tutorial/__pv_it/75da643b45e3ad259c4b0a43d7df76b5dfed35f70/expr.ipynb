{
 "cells": [
  {
   "cell_type": "markdown",
   "metadata": {},
   "source": [
    "Expression of type <a class=\"ProveItLink\" href=\"../../../doc/html/api/proveit.core_expr_types.Len.html\">Len</a>\n",
    "=======================\n",
    "# from context <a class=\"ProveItLink\" href=\"../../_context_.ipynb\">tutorial</a>"
   ]
  },
  {
   "cell_type": "code",
   "execution_count": 1,
   "metadata": {},
   "outputs": [],
   "source": [
    "import proveit\n",
    "# Automation is not needed when building an expression:\n",
    "proveit.defaults.automation = False # This will speed things up.\n",
    "proveit.defaults.inline_pngs = False # Makes files smaller.\n",
    "# import Expression classes needed to build the expression\n",
    "from proveit import ExprRange, IndexedVar\n",
    "from proveit._common_ import a, i, n\n",
    "from proveit.core_expr_types import Len\n",
    "from proveit.number import one"
   ]
  },
  {
   "cell_type": "code",
   "execution_count": 2,
   "metadata": {},
   "outputs": [
    {
     "data": {
      "text/html": [
       "<strong id=\"expr\">expr:</strong> <a class=\"ProveItLink\" href=\"expr.ipynb\"><img src=\"expr.png\" style=\"display:inline;vertical-align:middle;\" /></a><br>"
      ],
      "text/plain": [
       "expr: |(i_{1}, ..i_{a}.., i_{n}, 1)|"
      ]
     },
     "execution_count": 2,
     "metadata": {},
     "output_type": "execute_result"
    }
   ],
   "source": [
    "# build up the expression from sub-expressions\n",
    "expr = Len([ExprRange(a, IndexedVar(i, a), one, n), one])"
   ]
  },
  {
   "cell_type": "code",
   "execution_count": 3,
   "metadata": {},
   "outputs": [
    {
     "name": "stdout",
     "output_type": "stream",
     "text": [
      "Passed sanity check: built 'expr' is the same as the stored Expression.\n"
     ]
    }
   ],
   "source": [
    "# check that the built expression is the same as the stored expression\n",
    "%check_expr"
   ]
  },
  {
   "cell_type": "code",
   "execution_count": 4,
   "metadata": {},
   "outputs": [
    {
     "name": "stdout",
     "output_type": "stream",
     "text": [
      "|\\left(i_{1}, \\ldots, i_{n}, 1\\right)|\n"
     ]
    }
   ],
   "source": [
    "# Show the LaTeX representation of the expression for convenience if you need it.\n",
    "print(expr.latex())"
   ]
  },
  {
   "cell_type": "code",
   "execution_count": 5,
   "metadata": {},
   "outputs": [
    {
     "data": {
      "text/html": [
       "<table><tr><th>&nbsp;</th><th>core type</th><th>sub-expressions</th><th>expression</th></tr>\n",
       "<tr><td>0</td><td>Operation</td><td>operator:&nbsp;1<br>operand:&nbsp;3<br></td><td><a class=\"ProveItLink\" href=\"expr.ipynb\"><img src=\"expr.png\" style=\"display:inline;vertical-align:middle;\" /></a></td></tr>\n",
       "<tr><td>1</td><td>Literal</td><td></td><td><a class=\"ProveItLink\" href=\"../../../packages/proveit/core_expr_types/tuples/__pv_it/92831c6291223dfbd76a11e90e750ae52564aa9f0/expr.ipynb\"><img src=\"../../../packages/proveit/core_expr_types/tuples/__pv_it/92831c6291223dfbd76a11e90e750ae52564aa9f0/expr.png\" style=\"display:inline;vertical-align:middle;\" /></a></td></tr>\n",
       "<tr><td>2</td><td>ExprTuple</td><td>3</td><td><a class=\"ProveItLink\" href=\"../a563b56f73974f4666a9f432f88fa90c77a158a40/expr.ipynb\"><img src=\"../a563b56f73974f4666a9f432f88fa90c77a158a40/expr.png\" style=\"display:inline;vertical-align:middle;\" /></a></td></tr>\n",
       "<tr><td>3</td><td>ExprTuple</td><td>4, 6</td><td><a class=\"ProveItLink\" href=\"../b5e1bd1c7130d0fc13a26b34c553689f565b9f8a0/expr.ipynb\"><img src=\"../b5e1bd1c7130d0fc13a26b34c553689f565b9f8a0/expr.png\" style=\"display:inline;vertical-align:middle;\" /></a></td></tr>\n",
       "<tr><td>4</td><td>ExprRange</td><td>lambda_map:&nbsp;5<br>start_index:&nbsp;6<br>end_index:&nbsp;7<br></td><td><a class=\"ProveItLink\" href=\"../82889dc0ff415884993d38d8fe7d57ab905d3eef0/expr.ipynb\"><img src=\"../82889dc0ff415884993d38d8fe7d57ab905d3eef0/expr.png\" style=\"display:inline;vertical-align:middle;\" /></a></td></tr>\n",
       "<tr><td>5</td><td>Lambda</td><td>parameter:&nbsp;10<br>body:&nbsp;8<br></td><td><a class=\"ProveItLink\" href=\"../861d773802b2fa671cc844275863faf713bb65230/expr.ipynb\"><img src=\"../861d773802b2fa671cc844275863faf713bb65230/expr.png\" style=\"display:inline;vertical-align:middle;\" /></a></td></tr>\n",
       "<tr><td>6</td><td>Literal</td><td></td><td><a class=\"ProveItLink\" href=\"../../../packages/proveit/number/numeral/__pv_it/f086f8c372bd40a2458306ddfdbb29f3dc6f63030/expr.ipynb\"><img src=\"../../../packages/proveit/number/numeral/__pv_it/f086f8c372bd40a2458306ddfdbb29f3dc6f63030/expr.png\" style=\"display:inline;vertical-align:middle;\" /></a></td></tr>\n",
       "<tr><td>7</td><td>Variable</td><td></td><td><a class=\"ProveItLink\" href=\"../../../packages/proveit/__pv_it/0c1c4cb515e0f4344b1ac06650f349123e526deb0/expr.ipynb\"><img src=\"../../../packages/proveit/__pv_it/0c1c4cb515e0f4344b1ac06650f349123e526deb0/expr.png\" style=\"display:inline;vertical-align:middle;\" /></a></td></tr>\n",
       "<tr><td>8</td><td>IndexedVar</td><td>variable:&nbsp;9<br>index:&nbsp;10<br></td><td><a class=\"ProveItLink\" href=\"../bcd36e7c12afe585a315c50cb3de3cb1d7a92e330/expr.ipynb\"><img src=\"../bcd36e7c12afe585a315c50cb3de3cb1d7a92e330/expr.png\" style=\"display:inline;vertical-align:middle;\" /></a></td></tr>\n",
       "<tr><td>9</td><td>Variable</td><td></td><td><a class=\"ProveItLink\" href=\"../../../packages/proveit/__pv_it/557ab5defdcd46aa58168b08767502985122cd490/expr.ipynb\"><img src=\"../../../packages/proveit/__pv_it/557ab5defdcd46aa58168b08767502985122cd490/expr.png\" style=\"display:inline;vertical-align:middle;\" /></a></td></tr>\n",
       "<tr><td>10</td><td>Variable</td><td></td><td><a class=\"ProveItLink\" href=\"../../../packages/proveit/__pv_it/a8d4b3a34d2189508f9082853fbac36935714f280/expr.ipynb\"><img src=\"../../../packages/proveit/__pv_it/a8d4b3a34d2189508f9082853fbac36935714f280/expr.png\" style=\"display:inline;vertical-align:middle;\" /></a></td></tr>\n",
       "</table>\n"
      ],
      "text/plain": [
       "0. |(i_{1}, ..i_{a}.., i_{n}, 1)|\n",
       "   core type: Operation\n",
       "   operator: 1\n",
       "   operand: 3\n",
       "1. length\n",
       "   core type: Literal\n",
       "   sub-expressions: \n",
       "2. ((i_{1}, ..i_{a}.., i_{n}, 1))\n",
       "   core type: ExprTuple\n",
       "   sub-expressions: 3\n",
       "3. (i_{1}, ..i_{a}.., i_{n}, 1)\n",
       "   core type: ExprTuple\n",
       "   sub-expressions: 4, 6\n",
       "4. i_{1}, ..i_{a}.., i_{n}\n",
       "   core type: ExprRange\n",
       "   lambda_map: 5\n",
       "   start_index: 6\n",
       "   end_index: 7\n",
       "5. a -> i_{a}\n",
       "   core type: Lambda\n",
       "   parameter: 10\n",
       "   body: 8\n",
       "6. 1\n",
       "   core type: Literal\n",
       "   sub-expressions: \n",
       "7. n\n",
       "   core type: Variable\n",
       "   sub-expressions: \n",
       "8. i_{a}\n",
       "   core type: IndexedVar\n",
       "variable: 9\n",
       "index: 10\n",
       "9. i\n",
       "   core type: Variable\n",
       "   sub-expressions: \n",
       "10. a\n",
       "    core type: Variable\n",
       "    sub-expressions: "
      ]
     },
     "execution_count": 5,
     "metadata": {},
     "output_type": "execute_result"
    }
   ],
   "source": [
    "# display the expression information\n",
    "expr.exprInfo()"
   ]
  },
  {
   "cell_type": "code",
   "execution_count": null,
   "metadata": {},
   "outputs": [],
   "source": []
  }
 ],
 "metadata": {
  "kernelspec": {
   "display_name": "Python 3",
   "language": "python",
   "name": "python3"
  },
  "language_info": {
   "codemirror_mode": {
    "name": "ipython",
    "version": 3
   },
   "file_extension": ".py",
   "mimetype": "text/x-python",
   "name": "python",
   "nbconvert_exporter": "python",
   "pygments_lexer": "ipython3",
   "version": "3.7.3"
  }
 },
 "nbformat": 4,
 "nbformat_minor": 1
}
