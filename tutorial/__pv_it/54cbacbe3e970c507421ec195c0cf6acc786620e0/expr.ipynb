{
 "cells": [
  {
   "cell_type": "markdown",
   "metadata": {},
   "source": [
    "Expression of type <a class=\"ProveItLink\" href=\"../../../doc/html/api/proveit.logic.And.html\">And</a>\n",
    "=======================\n",
    "# from context <a class=\"ProveItLink\" href=\"../../_context_.ipynb\">tutorial</a>"
   ]
  },
  {
   "cell_type": "code",
   "execution_count": 1,
   "metadata": {},
   "outputs": [],
   "source": [
    "import proveit\n",
    "# Automation is not needed when building an expression:\n",
    "proveit.defaults.automation = False # This will speed things up.\n",
    "proveit.defaults.inline_pngs = False # Makes files smaller.\n",
    "# import Expression classes needed to build the expression\n",
    "from proveit import ExprRange\n",
    "from proveit._common_ import k, m, n\n",
    "from proveit.logic import And, InSet\n",
    "from proveit.number import Add, Naturals, Neg, one"
   ]
  },
  {
   "cell_type": "code",
   "execution_count": 2,
   "metadata": {},
   "outputs": [
    {
     "data": {
      "text/html": [
       "<strong id=\"expr\">expr:</strong> <a class=\"ProveItLink\" href=\"expr.ipynb\"><img src=\"expr.png\" style=\"display:inline;vertical-align:middle;\" /></a><br>"
      ],
      "text/plain": [
       "expr: ((n - 1 + 1) in Naturals) and ..m - 1 repeats.. and ((n - 1 + 1) in Naturals)"
      ]
     },
     "execution_count": 2,
     "metadata": {},
     "output_type": "execute_result"
    }
   ],
   "source": [
    "# build up the expression from sub-expressions\n",
    "subExpr1 = Neg(one)\n",
    "expr = And(ExprRange(k, InSet(Add(n, subExpr1, one), Naturals), one, Add(m, subExpr1)))"
   ]
  },
  {
   "cell_type": "code",
   "execution_count": 3,
   "metadata": {},
   "outputs": [
    {
     "name": "stdout",
     "output_type": "stream",
     "text": [
      "Passed sanity check: built 'expr' is the same as the stored Expression.\n"
     ]
    }
   ],
   "source": [
    "# check that the built expression is the same as the stored expression\n",
    "%check_expr"
   ]
  },
  {
   "cell_type": "code",
   "execution_count": 4,
   "metadata": {},
   "outputs": [
    {
     "name": "stdout",
     "output_type": "stream",
     "text": [
      "\\left(\\left(n - 1 + 1\\right) \\in \\mathbb{N}\\right) \\land ..m - 1 \\textrm{ repeats}.. \\land \\left(\\left(n - 1 + 1\\right) \\in \\mathbb{N}\\right)\n"
     ]
    }
   ],
   "source": [
    "# Show the LaTeX representation of the expression for convenience if you need it.\n",
    "print(expr.latex())"
   ]
  },
  {
   "cell_type": "code",
   "execution_count": 5,
   "metadata": {},
   "outputs": [
    {
     "data": {
      "text/html": [
       "<table><tr><th>&nbsp;</th><th>core type</th><th>sub-expressions</th><th>expression</th></tr>\n",
       "<tr><td>0</td><td>Operation</td><td>operator:&nbsp;1<br>operands:&nbsp;2<br></td><td><a class=\"ProveItLink\" href=\"expr.ipynb\"><img src=\"expr.png\" style=\"display:inline;vertical-align:middle;\" /></a></td></tr>\n",
       "<tr><td>1</td><td>Literal</td><td></td><td><a class=\"ProveItLink\" href=\"../../../packages/proveit/logic/boolean/conjunction/__pv_it/f41cc6b553210927c09f19a8a39cdf860a5585930/expr.ipynb\"><img src=\"../../../packages/proveit/logic/boolean/conjunction/__pv_it/f41cc6b553210927c09f19a8a39cdf860a5585930/expr.png\" style=\"display:inline;vertical-align:middle;\" /></a></td></tr>\n",
       "<tr><td>2</td><td>ExprTuple</td><td>3</td><td><a class=\"ProveItLink\" href=\"../a61c4edf576f3d83fcd9f85175d959c22f2a73580/expr.ipynb\"><img src=\"../a61c4edf576f3d83fcd9f85175d959c22f2a73580/expr.png\" style=\"display:inline;vertical-align:middle;\" /></a></td></tr>\n",
       "<tr><td>3</td><td>ExprRange</td><td>lambda_map:&nbsp;4<br>start_index:&nbsp;19<br>end_index:&nbsp;5<br></td><td><a class=\"ProveItLink\" href=\"../9d425a23748c0469a862b028826a6711e87a5b530/expr.ipynb\"><img src=\"../9d425a23748c0469a862b028826a6711e87a5b530/expr.png\" style=\"display:inline;vertical-align:middle;\" /></a></td></tr>\n",
       "<tr><td>4</td><td>Lambda</td><td>parameter:&nbsp;6<br>body:&nbsp;7<br></td><td><a class=\"ProveItLink\" href=\"../91fcbe84a0d62a9c9edb07a90d6cd9cbd386d28b0/expr.ipynb\"><img src=\"../91fcbe84a0d62a9c9edb07a90d6cd9cbd386d28b0/expr.png\" style=\"display:inline;vertical-align:middle;\" /></a></td></tr>\n",
       "<tr><td>5</td><td>Operation</td><td>operator:&nbsp;14<br>operands:&nbsp;8<br></td><td><a class=\"ProveItLink\" href=\"../4116e0af369eea3655f8c7d50d876ff523d64eb70/expr.ipynb\"><img src=\"../4116e0af369eea3655f8c7d50d876ff523d64eb70/expr.png\" style=\"display:inline;vertical-align:middle;\" /></a></td></tr>\n",
       "<tr><td>6</td><td>Variable</td><td></td><td><a class=\"ProveItLink\" href=\"../../../packages/proveit/__pv_it/273f49450ca25e1b56abbd98a7aef618f8f6c1360/expr.ipynb\"><img src=\"../../../packages/proveit/__pv_it/273f49450ca25e1b56abbd98a7aef618f8f6c1360/expr.png\" style=\"display:inline;vertical-align:middle;\" /></a></td></tr>\n",
       "<tr><td>7</td><td>Operation</td><td>operator:&nbsp;9<br>operands:&nbsp;10<br></td><td><a class=\"ProveItLink\" href=\"../66995ac379c6afd04b1da93f792c96b3c8e7ce010/expr.ipynb\"><img src=\"../66995ac379c6afd04b1da93f792c96b3c8e7ce010/expr.png\" style=\"display:inline;vertical-align:middle;\" /></a></td></tr>\n",
       "<tr><td>8</td><td>ExprTuple</td><td>11, 17</td><td><a class=\"ProveItLink\" href=\"../93751c4bb82e2893ad4569a0b2388322bd8210680/expr.ipynb\"><img src=\"../93751c4bb82e2893ad4569a0b2388322bd8210680/expr.png\" style=\"display:inline;vertical-align:middle;\" /></a></td></tr>\n",
       "<tr><td>9</td><td>Literal</td><td></td><td><a class=\"ProveItLink\" href=\"../../../packages/proveit/logic/set_theory/membership/__pv_it/7776fc89cb67d0b5b1ec2c0c8e08da5587921ccf0/expr.ipynb\"><img src=\"../../../packages/proveit/logic/set_theory/membership/__pv_it/7776fc89cb67d0b5b1ec2c0c8e08da5587921ccf0/expr.png\" style=\"display:inline;vertical-align:middle;\" /></a></td></tr>\n",
       "<tr><td>10</td><td>ExprTuple</td><td>12, 13</td><td><a class=\"ProveItLink\" href=\"../5057cf58a4062fcb7f4fa6fb6922d7eb1901a70e0/expr.ipynb\"><img src=\"../5057cf58a4062fcb7f4fa6fb6922d7eb1901a70e0/expr.png\" style=\"display:inline;vertical-align:middle;\" /></a></td></tr>\n",
       "<tr><td>11</td><td>Variable</td><td></td><td><a class=\"ProveItLink\" href=\"../../../packages/proveit/__pv_it/6e8a38e9a7e2b6af352562cd77e0eb4751f142620/expr.ipynb\"><img src=\"../../../packages/proveit/__pv_it/6e8a38e9a7e2b6af352562cd77e0eb4751f142620/expr.png\" style=\"display:inline;vertical-align:middle;\" /></a></td></tr>\n",
       "<tr><td>12</td><td>Operation</td><td>operator:&nbsp;14<br>operands:&nbsp;15<br></td><td><a class=\"ProveItLink\" href=\"../ece3c2af840b64b035f72166e852b7a3b3aacf740/expr.ipynb\"><img src=\"../ece3c2af840b64b035f72166e852b7a3b3aacf740/expr.png\" style=\"display:inline;vertical-align:middle;\" /></a></td></tr>\n",
       "<tr><td>13</td><td>Literal</td><td></td><td><a class=\"ProveItLink\" href=\"../../../packages/proveit/number/sets/integer/__pv_it/b49c37b99b7e8d73a8d7971bcf454d693b90a2c60/expr.ipynb\"><img src=\"../../../packages/proveit/number/sets/integer/__pv_it/b49c37b99b7e8d73a8d7971bcf454d693b90a2c60/expr.png\" style=\"display:inline;vertical-align:middle;\" /></a></td></tr>\n",
       "<tr><td>14</td><td>Literal</td><td></td><td><a class=\"ProveItLink\" href=\"../../../packages/proveit/number/addition/__pv_it/65ad7e8aee19b10110d590375ba95a879c4fb7ea0/expr.ipynb\"><img src=\"../../../packages/proveit/number/addition/__pv_it/65ad7e8aee19b10110d590375ba95a879c4fb7ea0/expr.png\" style=\"display:inline;vertical-align:middle;\" /></a></td></tr>\n",
       "<tr><td>15</td><td>ExprTuple</td><td>16, 17, 19</td><td><a class=\"ProveItLink\" href=\"../ea55258bf2403181f164c1829498b69c7b8cc0370/expr.ipynb\"><img src=\"../ea55258bf2403181f164c1829498b69c7b8cc0370/expr.png\" style=\"display:inline;vertical-align:middle;\" /></a></td></tr>\n",
       "<tr><td>16</td><td>Variable</td><td></td><td><a class=\"ProveItLink\" href=\"../../../packages/proveit/__pv_it/0c1c4cb515e0f4344b1ac06650f349123e526deb0/expr.ipynb\"><img src=\"../../../packages/proveit/__pv_it/0c1c4cb515e0f4344b1ac06650f349123e526deb0/expr.png\" style=\"display:inline;vertical-align:middle;\" /></a></td></tr>\n",
       "<tr><td>17</td><td>Operation</td><td>operator:&nbsp;18<br>operand:&nbsp;19<br></td><td><a class=\"ProveItLink\" href=\"../01559348096b98a1dd2ebcf5c288189c829b18930/expr.ipynb\"><img src=\"../01559348096b98a1dd2ebcf5c288189c829b18930/expr.png\" style=\"display:inline;vertical-align:middle;\" /></a></td></tr>\n",
       "<tr><td>18</td><td>Literal</td><td></td><td><a class=\"ProveItLink\" href=\"../../../packages/proveit/number/negation/__pv_it/2867787e35502987d81a45cac8e7f1c6996d6ff40/expr.ipynb\"><img src=\"../../../packages/proveit/number/negation/__pv_it/2867787e35502987d81a45cac8e7f1c6996d6ff40/expr.png\" style=\"display:inline;vertical-align:middle;\" /></a></td></tr>\n",
       "<tr><td>19</td><td>Literal</td><td></td><td><a class=\"ProveItLink\" href=\"../../../packages/proveit/number/numeral/__pv_it/f086f8c372bd40a2458306ddfdbb29f3dc6f63030/expr.ipynb\"><img src=\"../../../packages/proveit/number/numeral/__pv_it/f086f8c372bd40a2458306ddfdbb29f3dc6f63030/expr.png\" style=\"display:inline;vertical-align:middle;\" /></a></td></tr>\n",
       "</table>\n"
      ],
      "text/plain": [
       "0. ((n - 1 + 1) in Naturals) and ..m - 1 repeats.. and ((n - 1 + 1) in Naturals)\n",
       "   core type: Operation\n",
       "   operator: 1\n",
       "   operands: 2\n",
       "1. and\n",
       "   core type: Literal\n",
       "   sub-expressions: \n",
       "2. ((n - 1 + 1) in Naturals, ..m - 1 repeats.., (n - 1 + 1) in Naturals)\n",
       "   core type: ExprTuple\n",
       "   sub-expressions: 3\n",
       "3. ((n - 1 + 1) in Naturals), ..m - 1 repeats.., ((n - 1 + 1) in Naturals)\n",
       "   core type: ExprRange\n",
       "   lambda_map: 4\n",
       "   start_index: 19\n",
       "   end_index: 5\n",
       "4. k -> ((n - 1 + 1) in Naturals)\n",
       "   core type: Lambda\n",
       "   parameter: 6\n",
       "   body: 7\n",
       "5. m - 1\n",
       "   core type: Operation\n",
       "   operator: 14\n",
       "   operands: 8\n",
       "6. k\n",
       "   core type: Variable\n",
       "   sub-expressions: \n",
       "7. (n - 1 + 1) in Naturals\n",
       "   core type: Operation\n",
       "   operator: 9\n",
       "   operands: 10\n",
       "8. (m, -1)\n",
       "   core type: ExprTuple\n",
       "   sub-expressions: 11, 17\n",
       "9. in\n",
       "   core type: Literal\n",
       "   sub-expressions: \n",
       "10. (n - 1 + 1, Naturals)\n",
       "    core type: ExprTuple\n",
       "    sub-expressions: 12, 13\n",
       "11. m\n",
       "    core type: Variable\n",
       "    sub-expressions: \n",
       "12. n - 1 + 1\n",
       "    core type: Operation\n",
       "    operator: 14\n",
       "    operands: 15\n",
       "13. Naturals\n",
       "    core type: Literal\n",
       "    sub-expressions: \n",
       "14. +\n",
       "    core type: Literal\n",
       "    sub-expressions: \n",
       "15. (n, -1, 1)\n",
       "    core type: ExprTuple\n",
       "    sub-expressions: 16, 17, 19\n",
       "16. n\n",
       "    core type: Variable\n",
       "    sub-expressions: \n",
       "17. -1\n",
       "    core type: Operation\n",
       "    operator: 18\n",
       "    operand: 19\n",
       "18. -\n",
       "    core type: Literal\n",
       "    sub-expressions: \n",
       "19. 1\n",
       "    core type: Literal\n",
       "    sub-expressions: "
      ]
     },
     "execution_count": 5,
     "metadata": {},
     "output_type": "execute_result"
    }
   ],
   "source": [
    "# display the expression information\n",
    "expr.exprInfo()"
   ]
  },
  {
   "cell_type": "code",
   "execution_count": null,
   "metadata": {},
   "outputs": [],
   "source": []
  }
 ],
 "metadata": {
  "kernelspec": {
   "display_name": "Python 3",
   "language": "python",
   "name": "python3"
  },
  "language_info": {
   "codemirror_mode": {
    "name": "ipython",
    "version": 3
   },
   "file_extension": ".py",
   "mimetype": "text/x-python",
   "name": "python",
   "nbconvert_exporter": "python",
   "pygments_lexer": "ipython3",
   "version": "3.7.3"
  }
 },
 "nbformat": 4,
 "nbformat_minor": 1
}
