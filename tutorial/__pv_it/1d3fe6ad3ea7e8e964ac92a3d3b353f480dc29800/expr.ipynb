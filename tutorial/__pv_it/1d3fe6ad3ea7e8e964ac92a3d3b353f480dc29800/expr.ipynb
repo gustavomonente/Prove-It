{
 "cells": [
  {
   "cell_type": "markdown",
   "metadata": {},
   "source": [
    "Expression of type <a class=\"ProveItLink\" href=\"../../../doc/html/api/proveit.logic.Equals.html\">Equals</a>\n",
    "=======================\n",
    "# from context <a class=\"ProveItLink\" href=\"../../_context_.ipynb\">tutorial</a>"
   ]
  },
  {
   "cell_type": "code",
   "execution_count": 1,
   "metadata": {},
   "outputs": [],
   "source": [
    "import proveit\n",
    "# Automation is not needed when building an expression:\n",
    "proveit.defaults.automation = False # This will speed things up.\n",
    "proveit.defaults.inline_pngs = False # Makes files smaller.\n",
    "# import Expression classes needed to build the expression\n",
    "from proveit import ExprRange, Function\n",
    "from proveit._common_ import k, n, x\n",
    "from proveit.core_expr_types import Len\n",
    "from proveit.core_expr_types._common_ import f_k, i_k, j_k\n",
    "from proveit.logic import Equals\n",
    "from proveit.number import Add, Neg, one"
   ]
  },
  {
   "cell_type": "code",
   "execution_count": 2,
   "metadata": {},
   "outputs": [
    {
     "data": {
      "text/html": [
       "<strong id=\"expr\">expr:</strong> <a class=\"ProveItLink\" href=\"expr.ipynb\"><img src=\"expr.png\" style=\"display:inline;vertical-align:middle;\" /></a><br>"
      ],
      "text/plain": [
       "expr: |(f_{1}(i_{1}), ..f_{1}(x).., f_{1}(j_{1}), ....f_{k}(i_{k}), ..f_{k}(x).., f_{k}(j_{k})...., f_{n}(i_{n}), ..f_{n}(x).., f_{n}(j_{n}), x)| = ((j_{1} - i_{1} + 1) + ..(j_{k} - i_{k} + 1).. + (j_{n} - i_{n} + 1) + (1 - 1 + 1))"
      ]
     },
     "execution_count": 2,
     "metadata": {},
     "output_type": "execute_result"
    }
   ],
   "source": [
    "# build up the expression from sub-expressions\n",
    "expr = Equals(Len([ExprRange(k, ExprRange(x, Function(f_k, x), i_k, j_k), one, n), x]), Add(ExprRange(k, Add(j_k, Neg(i_k), one), one, n), Add(one, Neg(one), one)))"
   ]
  },
  {
   "cell_type": "code",
   "execution_count": 3,
   "metadata": {},
   "outputs": [
    {
     "name": "stdout",
     "output_type": "stream",
     "text": [
      "Passed sanity check: built 'expr' is the same as the stored Expression.\n"
     ]
    }
   ],
   "source": [
    "# check that the built expression is the same as the stored expression\n",
    "%check_expr"
   ]
  },
  {
   "cell_type": "code",
   "execution_count": 4,
   "metadata": {},
   "outputs": [
    {
     "name": "stdout",
     "output_type": "stream",
     "text": [
      "|\\left(f_{1}(i_{1}), \\ldots, f_{1}(j_{1}), \\ldots\\ldots, f_{n}(i_{n}), \\ldots, f_{n}(j_{n}), x\\right)| = \\left(\\left(j_{1} - i_{1} + 1\\right) + \\ldots + \\left(j_{n} - i_{n} + 1\\right) + \\left(1 - 1 + 1\\right)\\right)\n"
     ]
    }
   ],
   "source": [
    "# Show the LaTeX representation of the expression for convenience if you need it.\n",
    "print(expr.latex())"
   ]
  },
  {
   "cell_type": "code",
   "execution_count": 5,
   "metadata": {},
   "outputs": [
    {
     "data": {
      "text/html": [
       "<table><tr><th>&nbsp;</th><th>core type</th><th>sub-expressions</th><th>expression</th></tr>\n",
       "<tr><td>0</td><td>Operation</td><td>operator:&nbsp;1<br>operands:&nbsp;2<br></td><td><a class=\"ProveItLink\" href=\"expr.ipynb\"><img src=\"expr.png\" style=\"display:inline;vertical-align:middle;\" /></a></td></tr>\n",
       "<tr><td>1</td><td>Literal</td><td></td><td><a class=\"ProveItLink\" href=\"../../../packages/proveit/logic/equality/__pv_it/e16d2caa26a16688b658bdb9c422caf4b84579e10/expr.ipynb\"><img src=\"../../../packages/proveit/logic/equality/__pv_it/e16d2caa26a16688b658bdb9c422caf4b84579e10/expr.png\" style=\"display:inline;vertical-align:middle;\" /></a></td></tr>\n",
       "<tr><td>2</td><td>ExprTuple</td><td>3, 4</td><td><a class=\"ProveItLink\" href=\"../c064b89119f649f254a58258e31c9fb689a8e9840/expr.ipynb\"><img src=\"../c064b89119f649f254a58258e31c9fb689a8e9840/expr.png\" style=\"display:inline;vertical-align:middle;\" /></a></td></tr>\n",
       "<tr><td>3</td><td>Operation</td><td>operator:&nbsp;5<br>operand:&nbsp;8<br></td><td><a class=\"ProveItLink\" href=\"../af1831f3140f42273f394d7d4256048d0b22d3c20/expr.ipynb\"><img src=\"../af1831f3140f42273f394d7d4256048d0b22d3c20/expr.png\" style=\"display:inline;vertical-align:middle;\" /></a></td></tr>\n",
       "<tr><td>4</td><td>Operation</td><td>operator:&nbsp;19<br>operands:&nbsp;7<br></td><td><a class=\"ProveItLink\" href=\"../f060ef775488799ae8020974ab9a8ddbb5aedc800/expr.ipynb\"><img src=\"../f060ef775488799ae8020974ab9a8ddbb5aedc800/expr.png\" style=\"display:inline;vertical-align:middle;\" /></a></td></tr>\n",
       "<tr><td>5</td><td>Literal</td><td></td><td><a class=\"ProveItLink\" href=\"../../../packages/proveit/core_expr_types/tuples/__pv_it/92831c6291223dfbd76a11e90e750ae52564aa9f0/expr.ipynb\"><img src=\"../../../packages/proveit/core_expr_types/tuples/__pv_it/92831c6291223dfbd76a11e90e750ae52564aa9f0/expr.png\" style=\"display:inline;vertical-align:middle;\" /></a></td></tr>\n",
       "<tr><td>6</td><td>ExprTuple</td><td>8</td><td><a class=\"ProveItLink\" href=\"../e3f4cdec7da714e78e3e1835d6f8cec42f11b8e50/expr.ipynb\"><img src=\"../e3f4cdec7da714e78e3e1835d6f8cec42f11b8e50/expr.png\" style=\"display:inline;vertical-align:middle;\" /></a></td></tr>\n",
       "<tr><td>7</td><td>ExprTuple</td><td>9, 10</td><td><a class=\"ProveItLink\" href=\"../d232d3f40f388979f00d47215521e4ce5b6bebb40/expr.ipynb\"><img src=\"../d232d3f40f388979f00d47215521e4ce5b6bebb40/expr.png\" style=\"display:inline;vertical-align:middle;\" /></a></td></tr>\n",
       "<tr><td>8</td><td>ExprTuple</td><td>11, 30</td><td><a class=\"ProveItLink\" href=\"../971d02a33a274964b6c269baa479dbda5d64f9a80/expr.ipynb\"><img src=\"../971d02a33a274964b6c269baa479dbda5d64f9a80/expr.png\" style=\"display:inline;vertical-align:middle;\" /></a></td></tr>\n",
       "<tr><td>9</td><td>ExprRange</td><td>lambda_map:&nbsp;12<br>start_index:&nbsp;24<br>end_index:&nbsp;15<br></td><td><a class=\"ProveItLink\" href=\"../c09be080e7ae6ea0a7f8be3e1234d24458108fe60/expr.ipynb\"><img src=\"../c09be080e7ae6ea0a7f8be3e1234d24458108fe60/expr.png\" style=\"display:inline;vertical-align:middle;\" /></a></td></tr>\n",
       "<tr><td>10</td><td>Operation</td><td>operator:&nbsp;19<br>operands:&nbsp;13<br></td><td><a class=\"ProveItLink\" href=\"../f75c0981f3dc70175604694bd4bbb92aa0b1ff130/expr.ipynb\"><img src=\"../f75c0981f3dc70175604694bd4bbb92aa0b1ff130/expr.png\" style=\"display:inline;vertical-align:middle;\" /></a></td></tr>\n",
       "<tr><td>11</td><td>ExprRange</td><td>lambda_map:&nbsp;14<br>start_index:&nbsp;24<br>end_index:&nbsp;15<br></td><td><a class=\"ProveItLink\" href=\"../336a0975d9a3fb6b97c7116854c4f0144adbf22f0/expr.ipynb\"><img src=\"../336a0975d9a3fb6b97c7116854c4f0144adbf22f0/expr.png\" style=\"display:inline;vertical-align:middle;\" /></a></td></tr>\n",
       "<tr><td>12</td><td>Lambda</td><td>parameter:&nbsp;33<br>body:&nbsp;16<br></td><td><a class=\"ProveItLink\" href=\"../3bd853f4e3a1916eaf0fb35e1ae223f51ed040c20/expr.ipynb\"><img src=\"../3bd853f4e3a1916eaf0fb35e1ae223f51ed040c20/expr.png\" style=\"display:inline;vertical-align:middle;\" /></a></td></tr>\n",
       "<tr><td>13</td><td>ExprTuple</td><td>24, 17, 24</td><td><a class=\"ProveItLink\" href=\"../54ec2da6373c4b9ca6539879194e7422e275d5240/expr.ipynb\"><img src=\"../54ec2da6373c4b9ca6539879194e7422e275d5240/expr.png\" style=\"display:inline;vertical-align:middle;\" /></a></td></tr>\n",
       "<tr><td>14</td><td>Lambda</td><td>parameter:&nbsp;33<br>body:&nbsp;18<br></td><td><a class=\"ProveItLink\" href=\"../73d8f9a4834226fa7a7ceab29c9c52b0b10d57450/expr.ipynb\"><img src=\"../73d8f9a4834226fa7a7ceab29c9c52b0b10d57450/expr.png\" style=\"display:inline;vertical-align:middle;\" /></a></td></tr>\n",
       "<tr><td>15</td><td>Variable</td><td></td><td><a class=\"ProveItLink\" href=\"../../../packages/proveit/__pv_it/0c1c4cb515e0f4344b1ac06650f349123e526deb0/expr.ipynb\"><img src=\"../../../packages/proveit/__pv_it/0c1c4cb515e0f4344b1ac06650f349123e526deb0/expr.png\" style=\"display:inline;vertical-align:middle;\" /></a></td></tr>\n",
       "<tr><td>16</td><td>Operation</td><td>operator:&nbsp;19<br>operands:&nbsp;20<br></td><td><a class=\"ProveItLink\" href=\"../0bd9071a9bdf0e4e352dc2296ececa836fed609d0/expr.ipynb\"><img src=\"../0bd9071a9bdf0e4e352dc2296ececa836fed609d0/expr.png\" style=\"display:inline;vertical-align:middle;\" /></a></td></tr>\n",
       "<tr><td>17</td><td>Operation</td><td>operator:&nbsp;27<br>operand:&nbsp;24<br></td><td><a class=\"ProveItLink\" href=\"../01559348096b98a1dd2ebcf5c288189c829b18930/expr.ipynb\"><img src=\"../01559348096b98a1dd2ebcf5c288189c829b18930/expr.png\" style=\"display:inline;vertical-align:middle;\" /></a></td></tr>\n",
       "<tr><td>18</td><td>ExprRange</td><td>lambda_map:&nbsp;21<br>start_index:&nbsp;28<br>end_index:&nbsp;22<br></td><td><a class=\"ProveItLink\" href=\"../f802bb6a99a2e6c59feff36af07ac9611834cc810/expr.ipynb\"><img src=\"../f802bb6a99a2e6c59feff36af07ac9611834cc810/expr.png\" style=\"display:inline;vertical-align:middle;\" /></a></td></tr>\n",
       "<tr><td>19</td><td>Literal</td><td></td><td><a class=\"ProveItLink\" href=\"../../../packages/proveit/number/addition/__pv_it/65ad7e8aee19b10110d590375ba95a879c4fb7ea0/expr.ipynb\"><img src=\"../../../packages/proveit/number/addition/__pv_it/65ad7e8aee19b10110d590375ba95a879c4fb7ea0/expr.png\" style=\"display:inline;vertical-align:middle;\" /></a></td></tr>\n",
       "<tr><td>20</td><td>ExprTuple</td><td>22, 23, 24</td><td><a class=\"ProveItLink\" href=\"../813dac4ef77c757e35a02ba28a2a50deca0c83890/expr.ipynb\"><img src=\"../813dac4ef77c757e35a02ba28a2a50deca0c83890/expr.png\" style=\"display:inline;vertical-align:middle;\" /></a></td></tr>\n",
       "<tr><td>21</td><td>Lambda</td><td>parameter:&nbsp;30<br>body:&nbsp;25<br></td><td><a class=\"ProveItLink\" href=\"../9f15d7bd1ab5459f17735db9e329c4ba6a4e7b680/expr.ipynb\"><img src=\"../9f15d7bd1ab5459f17735db9e329c4ba6a4e7b680/expr.png\" style=\"display:inline;vertical-align:middle;\" /></a></td></tr>\n",
       "<tr><td>22</td><td>IndexedVar</td><td>variable:&nbsp;26<br>index:&nbsp;33<br></td><td><a class=\"ProveItLink\" href=\"../../../packages/proveit/core_expr_types/__pv_it/3afdd58aaf098094e942e0c109e3881997e5f2120/expr.ipynb\"><img src=\"../../../packages/proveit/core_expr_types/__pv_it/3afdd58aaf098094e942e0c109e3881997e5f2120/expr.png\" style=\"display:inline;vertical-align:middle;\" /></a></td></tr>\n",
       "<tr><td>23</td><td>Operation</td><td>operator:&nbsp;27<br>operand:&nbsp;28<br></td><td><a class=\"ProveItLink\" href=\"../1b8a9f275cb8bebd4eedab4a6262e3517167d47b0/expr.ipynb\"><img src=\"../1b8a9f275cb8bebd4eedab4a6262e3517167d47b0/expr.png\" style=\"display:inline;vertical-align:middle;\" /></a></td></tr>\n",
       "<tr><td>24</td><td>Literal</td><td></td><td><a class=\"ProveItLink\" href=\"../../../packages/proveit/number/numeral/__pv_it/f086f8c372bd40a2458306ddfdbb29f3dc6f63030/expr.ipynb\"><img src=\"../../../packages/proveit/number/numeral/__pv_it/f086f8c372bd40a2458306ddfdbb29f3dc6f63030/expr.png\" style=\"display:inline;vertical-align:middle;\" /></a></td></tr>\n",
       "<tr><td>25</td><td>Operation</td><td>operator:&nbsp;29<br>operand:&nbsp;30<br></td><td><a class=\"ProveItLink\" href=\"../2eed11002272ec502af6baee392c5b91932464db0/expr.ipynb\"><img src=\"../2eed11002272ec502af6baee392c5b91932464db0/expr.png\" style=\"display:inline;vertical-align:middle;\" /></a></td></tr>\n",
       "<tr><td>26</td><td>Variable</td><td></td><td><a class=\"ProveItLink\" href=\"../../../packages/proveit/__pv_it/6a5b5879f51878868f626bf09e4d76392d4779cd0/expr.ipynb\"><img src=\"../../../packages/proveit/__pv_it/6a5b5879f51878868f626bf09e4d76392d4779cd0/expr.png\" style=\"display:inline;vertical-align:middle;\" /></a></td></tr>\n",
       "<tr><td>27</td><td>Literal</td><td></td><td><a class=\"ProveItLink\" href=\"../../../packages/proveit/number/negation/__pv_it/2867787e35502987d81a45cac8e7f1c6996d6ff40/expr.ipynb\"><img src=\"../../../packages/proveit/number/negation/__pv_it/2867787e35502987d81a45cac8e7f1c6996d6ff40/expr.png\" style=\"display:inline;vertical-align:middle;\" /></a></td></tr>\n",
       "<tr><td>28</td><td>IndexedVar</td><td>variable:&nbsp;31<br>index:&nbsp;33<br></td><td><a class=\"ProveItLink\" href=\"../../../packages/proveit/core_expr_types/__pv_it/c9137caaa667732c539726a18bd7ab0afb6b94790/expr.ipynb\"><img src=\"../../../packages/proveit/core_expr_types/__pv_it/c9137caaa667732c539726a18bd7ab0afb6b94790/expr.png\" style=\"display:inline;vertical-align:middle;\" /></a></td></tr>\n",
       "<tr><td>29</td><td>IndexedVar</td><td>variable:&nbsp;32<br>index:&nbsp;33<br></td><td><a class=\"ProveItLink\" href=\"../../../packages/proveit/core_expr_types/__pv_it/759987d721c586f2d31ad4cdd4ac831446524ea00/expr.ipynb\"><img src=\"../../../packages/proveit/core_expr_types/__pv_it/759987d721c586f2d31ad4cdd4ac831446524ea00/expr.png\" style=\"display:inline;vertical-align:middle;\" /></a></td></tr>\n",
       "<tr><td>30</td><td>Variable</td><td></td><td><a class=\"ProveItLink\" href=\"../../../packages/proveit/__pv_it/72df168d2bfb4e0140af90912ebf83b13772060b0/expr.ipynb\"><img src=\"../../../packages/proveit/__pv_it/72df168d2bfb4e0140af90912ebf83b13772060b0/expr.png\" style=\"display:inline;vertical-align:middle;\" /></a></td></tr>\n",
       "<tr><td>31</td><td>Variable</td><td></td><td><a class=\"ProveItLink\" href=\"../../../packages/proveit/__pv_it/557ab5defdcd46aa58168b08767502985122cd490/expr.ipynb\"><img src=\"../../../packages/proveit/__pv_it/557ab5defdcd46aa58168b08767502985122cd490/expr.png\" style=\"display:inline;vertical-align:middle;\" /></a></td></tr>\n",
       "<tr><td>32</td><td>Variable</td><td></td><td><a class=\"ProveItLink\" href=\"../../../packages/proveit/__pv_it/d7bbb04e874e28c7cefb21d4eea40806ae52f1f70/expr.ipynb\"><img src=\"../../../packages/proveit/__pv_it/d7bbb04e874e28c7cefb21d4eea40806ae52f1f70/expr.png\" style=\"display:inline;vertical-align:middle;\" /></a></td></tr>\n",
       "<tr><td>33</td><td>Variable</td><td></td><td><a class=\"ProveItLink\" href=\"../../../packages/proveit/__pv_it/273f49450ca25e1b56abbd98a7aef618f8f6c1360/expr.ipynb\"><img src=\"../../../packages/proveit/__pv_it/273f49450ca25e1b56abbd98a7aef618f8f6c1360/expr.png\" style=\"display:inline;vertical-align:middle;\" /></a></td></tr>\n",
       "</table>\n"
      ],
      "text/plain": [
       "0. |(f_{1}(i_{1}), ..f_{1}(x).., f_{1}(j_{1}), ....f_{k}(i_{k}), ..f_{k}(x).., f_{k}(j_{k})...., f_{n}(i_{n}), ..f_{n}(x).., f_{n}(j_{n}), x)| = ((j_{1} - i_{1} + 1) + ..(j_{k} - i_{k} + 1).. + (j_{n} - i_{n} + 1) + (1 - 1 + 1))\n",
       "   core type: Operation\n",
       "   operator: 1\n",
       "   operands: 2\n",
       "1. =\n",
       "   core type: Literal\n",
       "   sub-expressions: \n",
       "2. (|(f_{1}(i_{1}), ..f_{1}(x).., f_{1}(j_{1}), ....f_{k}(i_{k}), ..f_{k}(x).., f_{k}(j_{k})...., f_{n}(i_{n}), ..f_{n}(x).., f_{n}(j_{n}), x)|, (j_{1} - i_{1} + 1) + ..(j_{k} - i_{k} + 1).. + (j_{n} - i_{n} + 1) + (1 - 1 + 1))\n",
       "   core type: ExprTuple\n",
       "   sub-expressions: 3, 4\n",
       "3. |(f_{1}(i_{1}), ..f_{1}(x).., f_{1}(j_{1}), ....f_{k}(i_{k}), ..f_{k}(x).., f_{k}(j_{k})...., f_{n}(i_{n}), ..f_{n}(x).., f_{n}(j_{n}), x)|\n",
       "   core type: Operation\n",
       "   operator: 5\n",
       "   operand: 8\n",
       "4. (j_{1} - i_{1} + 1) + ..(j_{k} - i_{k} + 1).. + (j_{n} - i_{n} + 1) + (1 - 1 + 1)\n",
       "   core type: Operation\n",
       "   operator: 19\n",
       "   operands: 7\n",
       "5. length\n",
       "   core type: Literal\n",
       "   sub-expressions: \n",
       "6. ((f_{1}(i_{1}), ..f_{1}(x).., f_{1}(j_{1}), ....f_{k}(i_{k}), ..f_{k}(x).., f_{k}(j_{k})...., f_{n}(i_{n}), ..f_{n}(x).., f_{n}(j_{n}), x))\n",
       "   core type: ExprTuple\n",
       "   sub-expressions: 8\n",
       "7. (j_{1} - i_{1} + 1, ..j_{k} - i_{k} + 1.., j_{n} - i_{n} + 1, 1 - 1 + 1)\n",
       "   core type: ExprTuple\n",
       "   sub-expressions: 9, 10\n",
       "8. (f_{1}(i_{1}), ..f_{1}(x).., f_{1}(j_{1}), ....f_{k}(i_{k}), ..f_{k}(x).., f_{k}(j_{k})...., f_{n}(i_{n}), ..f_{n}(x).., f_{n}(j_{n}), x)\n",
       "   core type: ExprTuple\n",
       "   sub-expressions: 11, 30\n",
       "9. (j_{1} - i_{1} + 1), ..(j_{k} - i_{k} + 1).., (j_{n} - i_{n} + 1)\n",
       "   core type: ExprRange\n",
       "   lambda_map: 12\n",
       "   start_index: 24\n",
       "   end_index: 15\n",
       "10. 1 - 1 + 1\n",
       "    core type: Operation\n",
       "    operator: 19\n",
       "    operands: 13\n",
       "11. f_{1}(i_{1}), ..f_{1}(x).., f_{1}(j_{1}), ....f_{k}(i_{k}), ..f_{k}(x).., f_{k}(j_{k})...., f_{n}(i_{n}), ..f_{n}(x).., f_{n}(j_{n})\n",
       "    core type: ExprRange\n",
       "    lambda_map: 14\n",
       "    start_index: 24\n",
       "    end_index: 15\n",
       "12. k -> (j_{k} - i_{k} + 1)\n",
       "    core type: Lambda\n",
       "    parameter: 33\n",
       "    body: 16\n",
       "13. (1, -1, 1)\n",
       "    core type: ExprTuple\n",
       "    sub-expressions: 24, 17, 24\n",
       "14. k -> f_{k}(i_{k}), ..f_{k}(x).., f_{k}(j_{k})\n",
       "    core type: Lambda\n",
       "    parameter: 33\n",
       "    body: 18\n",
       "15. n\n",
       "    core type: Variable\n",
       "    sub-expressions: \n",
       "16. j_{k} - i_{k} + 1\n",
       "    core type: Operation\n",
       "    operator: 19\n",
       "    operands: 20\n",
       "17. -1\n",
       "    core type: Operation\n",
       "    operator: 27\n",
       "    operand: 24\n",
       "18. f_{k}(i_{k}), ..f_{k}(x).., f_{k}(j_{k})\n",
       "    core type: ExprRange\n",
       "    lambda_map: 21\n",
       "    start_index: 28\n",
       "    end_index: 22\n",
       "19. +\n",
       "    core type: Literal\n",
       "    sub-expressions: \n",
       "20. (j_{k}, -i_{k}, 1)\n",
       "    core type: ExprTuple\n",
       "    sub-expressions: 22, 23, 24\n",
       "21. x -> f_{k}(x)\n",
       "    core type: Lambda\n",
       "    parameter: 30\n",
       "    body: 25\n",
       "22. j_{k}\n",
       "    core type: IndexedVar\n",
       "variable: 26\n",
       "index: 33\n",
       "23. -i_{k}\n",
       "    core type: Operation\n",
       "    operator: 27\n",
       "    operand: 28\n",
       "24. 1\n",
       "    core type: Literal\n",
       "    sub-expressions: \n",
       "25. f_{k}(x)\n",
       "    core type: Operation\n",
       "    operator: 29\n",
       "    operand: 30\n",
       "26. j\n",
       "    core type: Variable\n",
       "    sub-expressions: \n",
       "27. -\n",
       "    core type: Literal\n",
       "    sub-expressions: \n",
       "28. i_{k}\n",
       "    core type: IndexedVar\n",
       "variable: 31\n",
       "index: 33\n",
       "29. f_{k}\n",
       "    core type: IndexedVar\n",
       "variable: 32\n",
       "index: 33\n",
       "30. x\n",
       "    core type: Variable\n",
       "    sub-expressions: \n",
       "31. i\n",
       "    core type: Variable\n",
       "    sub-expressions: \n",
       "32. f\n",
       "    core type: Variable\n",
       "    sub-expressions: \n",
       "33. k\n",
       "    core type: Variable\n",
       "    sub-expressions: "
      ]
     },
     "execution_count": 5,
     "metadata": {},
     "output_type": "execute_result"
    }
   ],
   "source": [
    "# display the expression information\n",
    "expr.exprInfo()"
   ]
  },
  {
   "cell_type": "code",
   "execution_count": null,
   "metadata": {},
   "outputs": [],
   "source": []
  }
 ],
 "metadata": {
  "kernelspec": {
   "display_name": "Python 3",
   "language": "python",
   "name": "python3"
  },
  "language_info": {
   "codemirror_mode": {
    "name": "ipython",
    "version": 3
   },
   "file_extension": ".py",
   "mimetype": "text/x-python",
   "name": "python",
   "nbconvert_exporter": "python",
   "pygments_lexer": "ipython3",
   "version": "3.7.3"
  }
 },
 "nbformat": 4,
 "nbformat_minor": 1
}
