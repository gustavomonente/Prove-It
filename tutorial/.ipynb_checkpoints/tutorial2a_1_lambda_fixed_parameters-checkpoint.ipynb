{
 "cells": [
  {
   "cell_type": "markdown",
   "metadata": {},
   "source": [
    "Chapter 2.a.i. Lambda with a fixed number of parameters\n",
    "=======\n",
    "\n",
    "**Lambda** expressions and their reductions are critical components of the core deriviation system of **Prove-It**. A **Lambda** expression defines a function by mapping one or more parameters to an expression involving those parameters. For example $(x,y,z) \\mapsto (x+y) \\cdot z$ defines a function that operates on three parameters by adding the first two then multiplying that sum by the third. In lambda calculus terminology, this way of defining an function is called an *abstraction*.\n",
    "\n",
    "In this chapter, we discuss **Lambda** expressions with a fixed number of parameters. We will discuss creation of Lambda expressions (abstraction), *relabeling* its parameters while retaining its meaning (alpha conversion), and *applying* the **Lambda** function to operators (beta reduction). The latter reduction rule plays an important role in proof deriviations in **Prove-It**. Specifically, the **instantiation** derivation rule is implemented via *lambda application*.\n",
    "\n",
    "In the next chapter, we will discuss **Lambda** expressions with an indeterminate number of parameters."
   ]
  },
  {
   "cell_type": "code",
   "execution_count": 1,
   "metadata": {},
   "outputs": [],
   "source": [
    "import proveit\n",
    "%begin lambda_reductions"
   ]
  },
  {
   "cell_type": "markdown",
   "metadata": {},
   "source": [
    "## Creating Lambda expressions (abstraction)\n",
    "\n",
    "Let's create our example expression after importing some necessary classes and objects."
   ]
  },
  {
   "cell_type": "code",
   "execution_count": 2,
   "metadata": {},
   "outputs": [
    {
     "data": {
      "text/html": [
       "<strong id=\"sum_then_mult\">sum_then_mult:</strong> <a class=\"ProveItLink\" href=\"__pv_it/lambda_reductions/47660cb9e090c2604fef1372244ad898bff6e5070/expr.ipynb\"><img src=\"data:image/png;base64,iVBORw0KGgoAAAANSUhEUgAAAMoAAAAUCAMAAAD7j1LFAAAANlBMVEX///8oKCgNDQ3MzMxUVFR2\n",
       "dna6uroQEBCqqqqIiIgiIiJmZmYyMjJERETu7u6YmJjc3NwAAADtE0dfAAAAAXRSTlMAQObYZgAA\n",
       "AkxJREFUSMe9l+t6pCAMhrMrIiAn7/9mV5RUkolo2af1R2ea+fBNyEEEAMgJRi6TvyFGxgjrGYSK\n",
       "GGDsUu9jQcYY6xlUFT4PhhL9aykyxljPoFORVhi9ZvtSiIwey9j/AR0Kl4dDicvND5bdExk9Vi+U\n",
       "WxBRZAfjl9c3btHdR0aX1QvlFkQUtlKjtSprS1IZ7Vr+zUtsF2m3aJiOSTRfLtN+pj4jo8fioVD2\n",
       "LFZm40lRhPNbnPdKdhZc22Ez6JJZu9FhlOy6np4nf+O8IZFVRpfFQ6Hs5MWxeHlSFM6cK/fg5y2C\n",
       "bqo5G1jLLQLxq+xSrhbjbkIBG5pMVkaPxUNh7AYURU+KYtFf5sCG/m5byv03XsUT+jld+fr7x5Nr\n",
       "267yrow71nwscMvxoUT2BYqblzwpiuUifrgMet+7XTQxqwL4CMVFVsZNo7JQZBZve8JuQUrypCgw\n",
       "+YLLcObYskloVOPwTYFNvo2MFZjM4qEQthZnn2mjctiKJp4dZsnmBoV/+KBV/banT3XW9jKLh0LY\n",
       "Ytu3nhTFOeb0ZiBs9bR3leOqyk/ENrk0J1vn/DpfD3RSHHR24igVWJ2sfLEp6Mp860lRnKmLytp9\n",
       "kqdzpcPCL+Z1y61t9yYtuN5P8vNqnVjjtJ+UdRtKw5ZBxJNDIR0mTGQ1y2xIe3tSGD24IPsZdCik\n",
       "I15Np/KlsjSx/dhxMtKtoux3x0kIH1sV60q310Cw1DZ2yEdGeH12JeyXh3zhdQirWO/VOklt/V2/\n",
       "Bl69WvYzCBWDL8Tpt16In0GH4h873Rw71U9UdwAAAABJRU5ErkJggg==\n",
       "\" style=\"display:inline;vertical-align:middle;\" /></a><br>"
      ],
      "text/plain": [
       "sum_then_mult: (x, y, z) -> ((x + y) * z)"
      ]
     },
     "execution_count": 2,
     "metadata": {},
     "output_type": "execute_result"
    }
   ],
   "source": [
    "from proveit import Lambda\n",
    "from proveit import a, b, c, x, y, z\n",
    "from proveit.numbers import Add, Mult\n",
    "sum_then_mult = Lambda((x, y, z), Mult(Add(x, y), z))"
   ]
  },
  {
   "cell_type": "markdown",
   "metadata": {},
   "source": [
    "A **Lambda** expression has `parameter(s)` and a `body`:"
   ]
  },
  {
   "cell_type": "code",
   "execution_count": 3,
   "metadata": {},
   "outputs": [
    {
     "data": {
      "text/html": [
       "<a class=\"ProveItLink\" href=\"__pv_it/lambda_reductions/657b2a86fdc9f8600274fd555734b18f92881ce00/expr.ipynb\"><img src=\"data:image/png;base64,iVBORw0KGgoAAAANSUhEUgAAAEAAAAAUBAMAAADPWCYMAAAAMFBMVEX////MzMxUVFR2dna6uroQ\n",
       "EBCqqqqIiIgiIiJmZmYyMjJERETu7u6YmJjc3NwAAACgK8IjAAAAAXRSTlMAQObYZgAAAS9JREFU\n",
       "KM9jYOC7wIATsD0AEqcZ8AA9IF6HT8EpBgbeCfgUMBcwcDzAp4AngOEFA16whKESSB4velJcAOYf\n",
       "n87AFwOR8ghhBPrPkmEv0BwD3naOBWBRA1cG9g8Qw/dWzgZStxjagC45wPyHBewUvoRZDNwbIAoY\n",
       "+ECMDIYQEBsqCGSFM/AXQK2XPgAk5EEKGBCCLH8Y5AWgTAUGsII2MAUVZOBcwFAKZSZBnApyJNuB\n",
       "egb2A2A+twLDJmg0TGBgAjvSkoHBP2E/w1sGnl8gExRY/kJYEpevLwFSk4FmMBwqPz4X6OUOoCE8\n",
       "6pX/IKwJvFEOQAULkYKa7QDUFVAW2FsNSJHFDMRaDOcdICx4ZDHsg3GOA3Evw3YoCx7diAQDSlnu\n",
       "lQJQFgSAdONLcrwPGACUfkrnANJiOQAAAABJRU5ErkJggg==\n",
       "\" style=\"display:inline;vertical-align:middle;\" /></a>"
      ],
      "text/plain": [
       "(x, y, z)"
      ]
     },
     "execution_count": 3,
     "metadata": {},
     "output_type": "execute_result"
    }
   ],
   "source": [
    "sum_then_mult.parameters"
   ]
  },
  {
   "cell_type": "code",
   "execution_count": 4,
   "metadata": {},
   "outputs": [
    {
     "data": {
      "text/html": [
       "<a class=\"ProveItLink\" href=\"__pv_it/lambda_reductions/5c443cf32203883cf392cb0b32d2b78515c6f83b0/expr.ipynb\"><img src=\"data:image/png;base64,iVBORw0KGgoAAAANSUhEUgAAAFcAAAAUBAMAAAAKKrydAAAAMFBMVEX////MzMxUVFR2dna6uroQ\n",
       "EBCqqqqIiIgiIiJmZmYyMjJERETu7u6YmJjc3NwAAACgK8IjAAAAAXRSTlMAQObYZgAAAUBJREFU\n",
       "KM9jYOC7wIADsD3AEDrNgBPoYYisw634FLoA7wQUmwuQecwFaIo5HuBWzBOApvgFA27FDEvQFFcC\n",
       "8fGiJ8UFKIqPT2fgi2FgsESo8whhvMCwF2ibAW87xwIUxQauDOwfGBhuIVy0t3I2A0Mb0B8HmP+w\n",
       "PEBWzJcwi4F7AwNDBlgdhOAD8kNADJAEUNOqVSuiVq1SAImEM/AD9cmDhM9DLJU+AFbMAJZAcQbL\n",
       "HwZ5AahiDgWwCIhsA7FAEiiKORcwlIJ8hfBgEogAepDtQD0D+wEUxdwKDJsYkD3INoGBCRw6/gn7\n",
       "Gd6imazA8hdITYYrlrh8fQnYpkPlx+deQFXMo175D0gthCuewBvlgDu6ga5m4GnAm5B4IE5n0GI4\n",
       "74AlITHsw5Y4exm2Y0ui2BO/e6UAVnNwZyte9GwFACX4TU+vGQsoAAAAAElFTkSuQmCC\n",
       "\" style=\"display:inline;vertical-align:middle;\" /></a>"
      ],
      "text/plain": [
       "(x + y) * z"
      ]
     },
     "execution_count": 4,
     "metadata": {},
     "output_type": "execute_result"
    }
   ],
   "source": [
    "sum_then_mult.body"
   ]
  },
  {
   "cell_type": "markdown",
   "metadata": {},
   "source": [
    "If there is a single parameter, just use `parameter`:"
   ]
  },
  {
   "cell_type": "code",
   "execution_count": 5,
   "metadata": {},
   "outputs": [
    {
     "data": {
      "text/html": [
       "<strong id=\"single_param_lambda\">single_param_lambda:</strong> <a class=\"ProveItLink\" href=\"__pv_it/lambda_reductions/e4d9e00055ee5989e20214cabca51199697e61f90/expr.ipynb\"><img src=\"data:image/png;base64,iVBORw0KGgoAAAANSUhEUgAAAGEAAAAUCAMAAACqN6PjAAAANlBMVEX///8QEBAoKCgNDQ1mZmaq\n",
       "qqrMzMxEREQyMjIiIiKYmJh2dna6urrc3NxUVFSIiIju7u4AAADPT139AAAAAXRSTlMAQObYZgAA\n",
       "ARtJREFUOMvNVYuOhCAM7O7KG2z7/z97uLpKBXNbk0uuiTFkOkwfUAC0VuLXrqbADSOncJ7vSHgN\n",
       "ibxeIE4q94S/+6CMOejypscX3RJBl6Atal50EOeS8UhI9lLsiZtex2nCFlCqBEq1ugEh+OGeYFpB\n",
       "tx7VnnMISCjWX6L6MUEuYwVAR0dCZo2s4+wuJ8iEFXOiMK+nF8acP9Aj7/sJDrFvpBrI8vpnUc9A\n",
       "IoccdoGPwoAzN4sG2hQs28vegvWN4FalniMYDZTrZoYAFyGksYK4xFune85xMCRUO53ZgGMx0MRo\n",
       "y+I+pPdqwNndT9CUgGZEwileTczJyp68u3nNOUPeaueSdmqE/zD5zub+enrrXiB365FTvKJxEfgB\n",
       "jbIM+pxZMO8AAAAASUVORK5CYII=\n",
       "\" style=\"display:inline;vertical-align:middle;\" /></a><br>"
      ],
      "text/plain": [
       "single_param_lambda: x -> (x * x)"
      ]
     },
     "execution_count": 5,
     "metadata": {},
     "output_type": "execute_result"
    }
   ],
   "source": [
    "single_param_lambda = Lambda(x, Mult(x, x))"
   ]
  },
  {
   "cell_type": "code",
   "execution_count": 6,
   "metadata": {},
   "outputs": [
    {
     "data": {
      "text/html": [
       "<a class=\"ProveItLink\" href=\"../packages/proveit/__pv_it/common/a0d9d672aa5e272d907247690c152cc2c6daafb70/expr.ipynb\"><img src=\"data:image/png;base64,iVBORw0KGgoAAAANSUhEUgAAAAsAAAAJBAMAAAAWSsseAAAALVBMVEX///9mZmaqqqrMzMxEREQy\n",
       "MjIiIiKYmJh2dna6urrc3NxUVFSIiIju7u4AAACJHQtQAAAAAXRSTlMAQObYZgAAAEJJREFUCNdj\n",
       "YLhzeuWJAwy8Dew5bAEMHBc43nIuYOBlYHFgAAG+A2DKzgBIMF04x8BzgWGegh/DcgaG22fuiBcw\n",
       "AAATyhBrnyPYZQAAAABJRU5ErkJggg==\n",
       "\" style=\"display:inline;vertical-align:middle;\" /></a>"
      ],
      "text/plain": [
       "x"
      ]
     },
     "execution_count": 6,
     "metadata": {},
     "output_type": "execute_result"
    }
   ],
   "source": [
    "single_param_lambda.parameter"
   ]
  },
  {
   "cell_type": "markdown",
   "metadata": {},
   "source": [
    "The body may be any type of expression. The parameter(s) must each be a variable, indexed variable, or range over indexed variables. We will discuss the latter possibilities later in this chapter."
   ]
  },
  {
   "cell_type": "code",
   "execution_count": 7,
   "metadata": {},
   "outputs": [
    {
     "name": "stdout",
     "output_type": "stream",
     "text": [
      "Expected Error: Parameter must be a Variable, Indexed variable, or range (ExprRange) over Indexed variables.  x + y fails to meet this requirement.\n"
     ]
    }
   ],
   "source": [
    "try:\n",
    "    Lambda((x, y, Add(x, y)), Mult(Add(x, y), z))\n",
    "    assert False, \"Expected a TypeError to be raised\"\n",
    "except TypeError as e:\n",
    "    print(\"Expected Error:\", e)"
   ]
  },
  {
   "cell_type": "markdown",
   "metadata": {},
   "source": [
    "Also note that parameter variables must be unique."
   ]
  },
  {
   "cell_type": "code",
   "execution_count": 8,
   "metadata": {},
   "outputs": [
    {
     "name": "stdout",
     "output_type": "stream",
     "text": [
      "Expected Error: Parameter variables must be unique.  (x, x) does not satisfy this criterion.\n"
     ]
    }
   ],
   "source": [
    "from proveit import ParameterCollisionError\n",
    "try:\n",
    "    Lambda((x, x), Mult(Add(x, x), z))\n",
    "    assert False, \"Expected a ParameterCollisionError to be raised\"\n",
    "except ParameterCollisionError as e:\n",
    "    print(\"Expected Error:\", e)"
   ]
  },
  {
   "cell_type": "markdown",
   "metadata": {},
   "source": [
    "## Relabeling (alpha conversion)\n",
    "\n",
    "The name of the parameters is irrelevant. The following is equivalent to the previous example: $(a,b,c) \\mapsto (a+b)/c$. It uses different parameter labels but defines the same mapping. In **Prove-It**, we call this relabeling and these two **Lambda** expressions would be equal. In lambda calculus terminology, this is known as *alpha* conversion."
   ]
  },
  {
   "cell_type": "code",
   "execution_count": 9,
   "metadata": {},
   "outputs": [
    {
     "data": {
      "text/html": [
       "<a class=\"ProveItLink\" href=\"__pv_it/lambda_reductions/47660cb9e090c2604fef1372244ad898bff6e5070/expr.ipynb\"><img src=\"data:image/png;base64,iVBORw0KGgoAAAANSUhEUgAAAMoAAAAUCAMAAAD7j1LFAAAANlBMVEX///8oKCgNDQ3MzMxUVFR2\n",
       "dna6uroQEBCqqqqIiIgiIiJmZmYyMjJERETu7u6YmJjc3NwAAADtE0dfAAAAAXRSTlMAQObYZgAA\n",
       "AkxJREFUSMe9l+t6pCAMhrMrIiAn7/9mV5RUkolo2af1R2ea+fBNyEEEAMgJRi6TvyFGxgjrGYSK\n",
       "GGDsUu9jQcYY6xlUFT4PhhL9aykyxljPoFORVhi9ZvtSiIwey9j/AR0Kl4dDicvND5bdExk9Vi+U\n",
       "WxBRZAfjl9c3btHdR0aX1QvlFkQUtlKjtSprS1IZ7Vr+zUtsF2m3aJiOSTRfLtN+pj4jo8fioVD2\n",
       "LFZm40lRhPNbnPdKdhZc22Ez6JJZu9FhlOy6np4nf+O8IZFVRpfFQ6Hs5MWxeHlSFM6cK/fg5y2C\n",
       "bqo5G1jLLQLxq+xSrhbjbkIBG5pMVkaPxUNh7AYURU+KYtFf5sCG/m5byv03XsUT+jld+fr7x5Nr\n",
       "267yrow71nwscMvxoUT2BYqblzwpiuUifrgMet+7XTQxqwL4CMVFVsZNo7JQZBZve8JuQUrypCgw\n",
       "+YLLcObYskloVOPwTYFNvo2MFZjM4qEQthZnn2mjctiKJp4dZsnmBoV/+KBV/banT3XW9jKLh0LY\n",
       "Ytu3nhTFOeb0ZiBs9bR3leOqyk/ENrk0J1vn/DpfD3RSHHR24igVWJ2sfLEp6Mp860lRnKmLytp9\n",
       "kqdzpcPCL+Z1y61t9yYtuN5P8vNqnVjjtJ+UdRtKw5ZBxJNDIR0mTGQ1y2xIe3tSGD24IPsZdCik\n",
       "I15Np/KlsjSx/dhxMtKtoux3x0kIH1sV60q310Cw1DZ2yEdGeH12JeyXh3zhdQirWO/VOklt/V2/\n",
       "Bl69WvYzCBWDL8Tpt16In0GH4h873Rw71U9UdwAAAABJRU5ErkJggg==\n",
       "\" style=\"display:inline;vertical-align:middle;\" /></a>"
      ],
      "text/plain": [
       "(x, y, z) -> ((x + y) * z)"
      ]
     },
     "execution_count": 9,
     "metadata": {},
     "output_type": "execute_result"
    }
   ],
   "source": [
    "sum_then_mult # recall our earlier example"
   ]
  },
  {
   "cell_type": "code",
   "execution_count": 10,
   "metadata": {},
   "outputs": [
    {
     "data": {
      "text/html": [
       "<strong id=\"sum_then_mult_relabeled\">sum_then_mult_relabeled:</strong> <a class=\"ProveItLink\" href=\"__pv_it/lambda_reductions/41563bb0d752c034703f2004444bdde151ef961d0/expr.ipynb\"><img src=\"data:image/png;base64,iVBORw0KGgoAAAANSUhEUgAAAMEAAAAUCAMAAAADb6kyAAAANlBMVEX///8oKCgNDQ1UVFTMzMx2\n",
       "dna6uroQEBCqqqqIiIgiIiJmZmYyMjJERETu7u6YmJjc3NwAAADzUGF5AAAAAXRSTlMAQObYZgAA\n",
       "AjhJREFUSMe9l9u2oyAMhp1RlDP6/i+7kUNJgCB27ZletF0G8uUnCcKyLMvplrcffr4YnP2/5jxR\n",
       "st0aYoA1h6Qmr/MSsn+SQ3OfKMmu6WFakRQ9rSD71/OiM/eJEu1O0SMuTpqYmIwm+x9xuCC4T5Rg\n",
       "l/TS7Jel5R+EQVT+sv8Bp1ZQuCQF2E85UChHmd6JaPBaZ/8jTq0AcCkKsIsMPBVT4kCLrlchFK/z\n",
       "JsQW/pRIcYviULP/EadWALhMEdVTojBpi9sPn2V9oRRd2vqvE62od2xi/2giZo4EZf8DTq0Acl2v\n",
       "l3EUkqeCugkKwXkoxwt6l+zew8IULgkFizBghZP/EadWALmAYokojlhoKsySyJPSYUEYeAJaeyvr\n",
       "+PePRp/rKtWb/FMcFibII/ysLbdQfGb6USTPhwmDtmZX3uGOeoC1AwokrupdgvarFPQ4dQ4gF1LW\n",
       "fhQxu1Exx+V5uUowysdOVdGmoSBcRV1OrQBy93YLq6OIHWaD4lWjo8hdC7FukW8PHHYyfvfiTu5y\n",
       "GgWA2+vkKoq0XRnvw/k8MVBwqx9pFCxBdSfSqlADqqwEOrHteP/L22HLIRV8uJhSuhFHkdJk/Ra8\n",
       "nau4q1WmurZKsBhcfrIw5lyi6a3/jlFb1RToF3LI3fTDJShVFJ23PbfPT6ycPBd9caqYpwR758TF\n",
       "Zp785snO2i/Pj9Fu6sWxzbTOk/nTdfZv3tyK3pyu25tHe5VyZFj/4oYzT8n2L26Z7r/cMp8owf4D\n",
       "eMgcLbiQ+E4AAAAASUVORK5CYII=\n",
       "\" style=\"display:inline;vertical-align:middle;\" /></a><br>"
      ],
      "text/plain": [
       "sum_then_mult_relabeled: (a, b, c) -> ((a + b) * c)"
      ]
     },
     "execution_count": 10,
     "metadata": {},
     "output_type": "execute_result"
    }
   ],
   "source": [
    "sum_then_mult_relabeled = sum_then_mult.relabeled({x:a, y:b, z:c})"
   ]
  },
  {
   "cell_type": "code",
   "execution_count": 11,
   "metadata": {},
   "outputs": [],
   "source": [
    "assert sum_then_mult_relabeled == sum_then_mult"
   ]
  },
  {
   "cell_type": "markdown",
   "metadata": {},
   "source": [
    "We still have the original expression in its different form"
   ]
  },
  {
   "cell_type": "code",
   "execution_count": 12,
   "metadata": {},
   "outputs": [
    {
     "data": {
      "text/html": [
       "<a class=\"ProveItLink\" href=\"__pv_it/lambda_reductions/47660cb9e090c2604fef1372244ad898bff6e5070/expr.ipynb\"><img src=\"data:image/png;base64,iVBORw0KGgoAAAANSUhEUgAAAMoAAAAUCAMAAAD7j1LFAAAANlBMVEX///8oKCgNDQ3MzMxUVFR2\n",
       "dna6uroQEBCqqqqIiIgiIiJmZmYyMjJERETu7u6YmJjc3NwAAADtE0dfAAAAAXRSTlMAQObYZgAA\n",
       "AkxJREFUSMe9l+t6pCAMhrMrIiAn7/9mV5RUkolo2af1R2ea+fBNyEEEAMgJRi6TvyFGxgjrGYSK\n",
       "GGDsUu9jQcYY6xlUFT4PhhL9aykyxljPoFORVhi9ZvtSiIwey9j/AR0Kl4dDicvND5bdExk9Vi+U\n",
       "WxBRZAfjl9c3btHdR0aX1QvlFkQUtlKjtSprS1IZ7Vr+zUtsF2m3aJiOSTRfLtN+pj4jo8fioVD2\n",
       "LFZm40lRhPNbnPdKdhZc22Ez6JJZu9FhlOy6np4nf+O8IZFVRpfFQ6Hs5MWxeHlSFM6cK/fg5y2C\n",
       "bqo5G1jLLQLxq+xSrhbjbkIBG5pMVkaPxUNh7AYURU+KYtFf5sCG/m5byv03XsUT+jld+fr7x5Nr\n",
       "267yrow71nwscMvxoUT2BYqblzwpiuUifrgMet+7XTQxqwL4CMVFVsZNo7JQZBZve8JuQUrypCgw\n",
       "+YLLcObYskloVOPwTYFNvo2MFZjM4qEQthZnn2mjctiKJp4dZsnmBoV/+KBV/banT3XW9jKLh0LY\n",
       "Ytu3nhTFOeb0ZiBs9bR3leOqyk/ENrk0J1vn/DpfD3RSHHR24igVWJ2sfLEp6Mp860lRnKmLytp9\n",
       "kqdzpcPCL+Z1y61t9yYtuN5P8vNqnVjjtJ+UdRtKw5ZBxJNDIR0mTGQ1y2xIe3tSGD24IPsZdCik\n",
       "I15Np/KlsjSx/dhxMtKtoux3x0kIH1sV60q310Cw1DZ2yEdGeH12JeyXh3zhdQirWO/VOklt/V2/\n",
       "Bl69WvYzCBWDL8Tpt16In0GH4h873Rw71U9UdwAAAABJRU5ErkJggg==\n",
       "\" style=\"display:inline;vertical-align:middle;\" /></a>"
      ],
      "text/plain": [
       "(x, y, z) -> ((x + y) * z)"
      ]
     },
     "execution_count": 12,
     "metadata": {},
     "output_type": "execute_result"
    }
   ],
   "source": [
    "sum_then_mult"
   ]
  },
  {
   "cell_type": "markdown",
   "metadata": {},
   "source": [
    "**Prove-It** has overloaded `Expression.__eq__` to regard these two objects as effectively equal and therefore interchangeable for the purposes of proof derivations. It does this by internally relabeling into a canonical form by choosing labels in a specific order according to the number of nested lambda expressions (similar, but different, to de Bruijn indices which labels variable occurrences according to the number of intervening lambda bindings):"
   ]
  },
  {
   "cell_type": "code",
   "execution_count": 13,
   "metadata": {},
   "outputs": [
    {
     "data": {
      "text/html": [
       "<a class=\"ProveItLink\" href=\"__pv_it/lambda_reductions/a0db50a04e2f53e77ed01776838563ddd581ee4f0/expr.ipynb\"><img src=\"data:image/png;base64,iVBORw0KGgoAAAANSUhEUgAAARUAAAAUCAMAAACUG1nBAAAANlBMVEX///8oKCgNDQ1UVFTMzMx2\n",
       "dna6uroQEBCqqqqIiIgiIiJmZmYyMjJERETu7u6YmJjc3NwAAADzUGF5AAAAAXRSTlMAQObYZgAA\n",
       "Al5JREFUWMPFmNly6yAMht3a2OzL+79svWGLBAmZSc7xRTsTBP+HkMQyDMMQw/C9T8YHxpnkg0SP\n",
       "9IG9d4+lvFs013aMD4btJsIJx4duOe1t7FC1hs1n+YPGoZ8II3ygD+yD6dFMkm0qFNMwk3CJpGIR\n",
       "svWhve5ZmDl5vvMXpEG9KGcSLhHplZsQ1Sd4o+4JFfGkl52RWZUxkUnYRKRXACGmT/Aqg8WRUhPe\n",
       "cVTKUEkUjTBqOZZL3BJlGS2nn0nYRKRXAKFgZOQLr6tuglGvAzq0Tvlk/foHj/R5WdtsOuuERfwg\n",
       "CydlEjYR5RVIGNr19pVXV1dci22PQoNB7kmbFJ6a28zMOWmpEa8MyoHylEnYRJRXICHQ90zepZZ0\n",
       "plFMjd2XQ6Dte399Uk/pavj9scWX0i2fSRhEYu+sl/3f2CK89dcI4vFWGRbHOAvM+O689/dpevOK\n",
       "Lr09a6BOeqVGRMUKJIT6I4+3Fq9EFJxngUAG1NFfpmvuSAZNFo5AZVCViPIKJJxbm9o7b7W2peNH\n",
       "NBa2uD9yEVHZeo72vFSg1bY8w5LVtkZEegUQNqvtO2912zJboHkzYYk4rnLO4InqVt6wRuuxwOZe\n",
       "52LCcymdSWgiplcuwlIf+d54z/CaXf72oBMihF1Tn5WgbPdGiWOCSPt6WJjiqI4KYZFzTznHK9Ab\n",
       "RJhXMMK6fou3cb6WjaO9bB79Pfes+tETf4c+tG/cxVrR14zO790OPe8u1nU7HBy1NL4xpG9KPrjJ\n",
       "ZxL3iZeEDn1oT77xtB7FAnuq//bVqUu/sP/qC2X4zy+UIXbY/wFO7B9jOB+wvQAAAABJRU5ErkJg\n",
       "gg==\n",
       "\" style=\"display:inline;vertical-align:middle;\" /></a>"
      ],
      "text/plain": [
       "(_c, _b, _a) -> ((_c + _b) * _a)"
      ]
     },
     "execution_count": 13,
     "metadata": {},
     "output_type": "execute_result"
    }
   ],
   "source": [
    "sum_then_mult._canonical_version()"
   ]
  },
  {
   "cell_type": "markdown",
   "metadata": {},
   "source": [
    "The variables used for the canonical relabeling have preceeding underscores to distinguish them from user-specified variables.  We call these \"dummy\" variables.\n",
    "\n",
    "These objects, the original expression and the canonical version, are not the same in all aspects. They have different representations. Having flexibility in ones choice of representation is important. In **Prove-It**, we call this *style*. One is free to manipulate the *style* of an expression while its *meaning* remains the same. Expressions with the same *meaning* will be equal via `==` and therefore interchangeable for the purposes of proof derivations. We will discuss more about *style* in a later chapter."
   ]
  },
  {
   "cell_type": "markdown",
   "metadata": {},
   "source": [
    "## Lambda application (beta reduction)\n",
    "\n",
    "Applying the lambda function largely amounts to replacing the parameters as they appear in the lambda body with the provided operands:"
   ]
  },
  {
   "cell_type": "code",
   "execution_count": 14,
   "metadata": {},
   "outputs": [
    {
     "data": {
      "text/html": [
       "<a class=\"ProveItLink\" href=\"__pv_it/lambda_reductions/47660cb9e090c2604fef1372244ad898bff6e5070/expr.ipynb\"><img src=\"data:image/png;base64,iVBORw0KGgoAAAANSUhEUgAAAMoAAAAUCAMAAAD7j1LFAAAANlBMVEX///8oKCgNDQ3MzMxUVFR2\n",
       "dna6uroQEBCqqqqIiIgiIiJmZmYyMjJERETu7u6YmJjc3NwAAADtE0dfAAAAAXRSTlMAQObYZgAA\n",
       "AkxJREFUSMe9l+t6pCAMhrMrIiAn7/9mV5RUkolo2af1R2ea+fBNyEEEAMgJRi6TvyFGxgjrGYSK\n",
       "GGDsUu9jQcYY6xlUFT4PhhL9aykyxljPoFORVhi9ZvtSiIwey9j/AR0Kl4dDicvND5bdExk9Vi+U\n",
       "WxBRZAfjl9c3btHdR0aX1QvlFkQUtlKjtSprS1IZ7Vr+zUtsF2m3aJiOSTRfLtN+pj4jo8fioVD2\n",
       "LFZm40lRhPNbnPdKdhZc22Ez6JJZu9FhlOy6np4nf+O8IZFVRpfFQ6Hs5MWxeHlSFM6cK/fg5y2C\n",
       "bqo5G1jLLQLxq+xSrhbjbkIBG5pMVkaPxUNh7AYURU+KYtFf5sCG/m5byv03XsUT+jld+fr7x5Nr\n",
       "267yrow71nwscMvxoUT2BYqblzwpiuUifrgMet+7XTQxqwL4CMVFVsZNo7JQZBZve8JuQUrypCgw\n",
       "+YLLcObYskloVOPwTYFNvo2MFZjM4qEQthZnn2mjctiKJp4dZsnmBoV/+KBV/banT3XW9jKLh0LY\n",
       "Ytu3nhTFOeb0ZiBs9bR3leOqyk/ENrk0J1vn/DpfD3RSHHR24igVWJ2sfLEp6Mp860lRnKmLytp9\n",
       "kqdzpcPCL+Z1y61t9yYtuN5P8vNqnVjjtJ+UdRtKw5ZBxJNDIR0mTGQ1y2xIe3tSGD24IPsZdCik\n",
       "I15Np/KlsjSx/dhxMtKtoux3x0kIH1sV60q310Cw1DZ2yEdGeH12JeyXh3zhdQirWO/VOklt/V2/\n",
       "Bl69WvYzCBWDL8Tpt16In0GH4h873Rw71U9UdwAAAABJRU5ErkJggg==\n",
       "\" style=\"display:inline;vertical-align:middle;\" /></a>"
      ],
      "text/plain": [
       "(x, y, z) -> ((x + y) * z)"
      ]
     },
     "execution_count": 14,
     "metadata": {},
     "output_type": "execute_result"
    }
   ],
   "source": [
    "sum_then_mult"
   ]
  },
  {
   "cell_type": "code",
   "execution_count": 15,
   "metadata": {},
   "outputs": [
    {
     "data": {
      "text/html": [
       "<strong id=\"operands\">operands:</strong> <a class=\"ProveItLink\" href=\"__pv_it/lambda_reductions/98ff72195c07696cbb492bdb03426834f8be41e50/expr.ipynb\"><img src=\"data:image/png;base64,iVBORw0KGgoAAAANSUhEUgAAAMQAAAAUBAMAAAAgto93AAAAMFBMVEX///9UVFTMzMx2dna6uroQ\n",
       "EBCqqqqIiIgiIiJmZmYyMjJERETu7u6YmJjc3NwAAAC+aOQFAAAAAXRSTlMAQObYZgAAAiVJREFU\n",
       "OMu1Vc9LG0EYfXbXZGM2aW4BoZL/ILm2p16k3pJDwR4UcrM311+EPamH/rgUtB6EgBjFi6FIPImU\n",
       "6nqQ4A/YnD1toS29FETFgkTpzGY3uzt+2dSDH+wy82beezsz334DJBt4xIhY7HUSPufkzf+jVAyw\n",
       "Z6vLnM0HoEQcA4kFPzB2f841ybzuzAgikgbFCreQm5SDh3azUAv4jXALaY6y8NBuFtiAzt7JpeWR\n",
       "4HB94seUZrf60nrRnV1fRnJEQB2Gqmv4aVAaz/GNdQatvvMgIZf4oFTspvlFvXMtcoOInguow5Dk\n",
       "AmZJjTO8Z51RxGpBgiE15dYhjRv4ywl8scUy4jU/6jF+xSr4Smq8xWsg1oTCd+VFtfquWl2zBR0p\n",
       "oAz1kn92haPDeKr5UY9h9Gq26X2NLLforcHMCEflSPEfQOYJqqRaeZTN+FEfI288uSA1snyjzBzG\n",
       "xWxwpIBbvkgn2GbMiOhYe7XRAqkxxI/bLKI/YvmHI8Ysoq38uMJhu4jFU9iGgLqC23yU0jhjOYW4\n",
       "lpiXAsP54j7+QL1hzWfYbad4LCXfiqhrsYh8g9AAltg6oKYnv08Hhg9K9RVG+Mg+4mjKq8RqWr8T\n",
       "UdfioLRqURpYDy0gEUP8c9lpCKjHKNMFZE4og6fBMiEY9MN8KaIOo6eiXtEaLK32OhfiutD/hB0C\n",
       "tUNpxLVOxTzsShLvw1d6hkBbpbf0mdbgK3jcizVh4R+4XLzC2SW6uAAAAABJRU5ErkJggg==\n",
       "\" style=\"display:inline;vertical-align:middle;\" /></a><br>"
      ],
      "text/plain": [
       "operands: (a + x, b * y, b + y + x)"
      ]
     },
     "execution_count": 15,
     "metadata": {},
     "output_type": "execute_result"
    }
   ],
   "source": [
    "operands = [Add(a, x), Mult(b, y), Add(b, y, x)]"
   ]
  },
  {
   "cell_type": "code",
   "execution_count": 16,
   "metadata": {},
   "outputs": [
    {
     "data": {
      "text/html": [
       "<a class=\"ProveItLink\" href=\"__pv_it/lambda_reductions/c63622105e900523b4bd647f39c71d054424be5a0/expr.ipynb\"><img src=\"data:image/png;base64,iVBORw0KGgoAAAANSUhEUgAAAQoAAAAUBAMAAACHTm6lAAAAMFBMVEX///9UVFTMzMx2dna6uroQ\n",
       "EBCqqqqIiIgiIiJmZmYyMjJERETu7u6YmJjc3NwAAAC+aOQFAAAAAXRSTlMAQObYZgAAAr5JREFU\n",
       "SMedls9rE0EUx59m02yykzS3QMGS/yC51lMvxd6Sg6CHCrnVW1erhJwaD+pJUXMoBMRYemkoJT2J\n",
       "iHV7kGBb2FztKYJKL4WiRS9p8c3u7I+ZnckGB16SfXze+77MzswbgNwAHJOPqWHEdSqnePIUJh5O\n",
       "4CEzxZgVHaQHh7dl1GwcNE5ih5liHIiODJa+JaMO4qAxEtkXrgVjmUMSpuD+ivZHTEQpnxSh5Yhu\n",
       "RELHqvWhGiFVwf0cQBtFXlM1RIpQXBUYeIJfJ2MQ2OTduSYW34zk3QyRIhRXBQY28JNarrW+xCP9\n",
       "e99XcZLn+MgUvr1MoVHzMvTXIbfkUnN+Wh5ikaRhwg9LLvERH6gtDDNnfFA5+1TvABzzVRi4qe1t\n",
       "cukJlhcgdeZSx34VPMQiE1oV1hQST/AJjdyBdI8PshIjDRfMXb4KHf/gigV/aRI6hbU2GD2Xckgi\n",
       "QEHkz3QHPigkbuITWnoEOl3j17vdx93uWyed4ZRVAs6dnAdoA/mNP+0OpW7BtOlSDkmdYSiItJKm\n",
       "U5dMglWR7IFdFJbOtOlXEbipwBZodBvqeXC2QqkYqsJxhqBQwop19ZdCgr0Ruwwr4gIuOWUtRt/I\n",
       "BZ06NnCaHzJq0V8XPOQlbEOqqpBgq9OuwQzrBAyZstYgZUlX5zl89huPkYddkK3OAPI0dyksl2Bb\n",
       "zDCzjxIcUql9cnpSi68igZvwGrz3BdN57YJRreA05CCvipdQGSgk2FSSwv1vDzhkv95/TYM2+Fwa\n",
       "HkZfVoMeTAqNS0Zt+E4e8qrYr78ZKiRiT/Bm9ATnR7rjUqTJneCyhG2VRLSbHcm72VGoUYXGDNjz\n",
       "8m4mJrzSIedKiT1wbdLObvD3nmfwTtLZjejlCPSBYSolYm45e5JbTnjcaBQh+lcEyF0s9VdqifE3\n",
       "vuxENz5KZf/3xoeB/wAkXAa5ijgTWwAAAABJRU5ErkJggg==\n",
       "\" style=\"display:inline;vertical-align:middle;\" /></a>"
      ],
      "text/plain": [
       "((a + x) + (b * y)) * (b + y + x)"
      ]
     },
     "execution_count": 16,
     "metadata": {},
     "output_type": "execute_result"
    }
   ],
   "source": [
    "sum_then_mult.apply(*operands)"
   ]
  },
  {
   "cell_type": "markdown",
   "metadata": {},
   "source": [
    "The replacement is not always direct as it is in the above example. The reduction rules discussed in later chapters may be applied in the process.\n",
    "\n",
    "Note that there is no type-checking in this process. The way **Prove-It** effects type-checking is via **Conditional** expressions discussed in a later chapter and via universal quantifier conditions when performing the **Instantiation** derivation rule. In these basic examples, anything goes. We can mix logical and numerical operations without any complaint:"
   ]
  },
  {
   "cell_type": "code",
   "execution_count": 17,
   "metadata": {},
   "outputs": [
    {
     "data": {
      "text/html": [
       "<strong id=\"operands\">operands:</strong> <a class=\"ProveItLink\" href=\"__pv_it/lambda_reductions/e320e568eb33125072c98a7d416e05a4d8274afb0/expr.ipynb\"><img src=\"data:image/png;base64,iVBORw0KGgoAAAANSUhEUgAAAMUAAAAUBAMAAADPdORJAAAAMFBMVEX///9UVFTMzMx2dna6uroQ\n",
       "EBCqqqqIiIgiIiJmZmYyMjJERETu7u6YmJjc3NwAAAC+aOQFAAAAAXRSTlMAQObYZgAAAqJJREFU\n",
       "OMu1lU9oE0EUxr9m1yS72aShBCIFJT0XaU4WoWAupXrRi6CHCrkKYlerhEDBeFGRCgHBQkHItSAS\n",
       "vYiIuiIlag/pTS9KBA8iCkElgqTFN392d2YTAx46kNmd77d5b+fNe2+BzDb2clxg09bIR7bO/D/R\n",
       "xliHpgfBMsbngv7MhrxmBv69ET4eU+SI4DSAdD10yXDa1S315NWuR30IMsGmd4ocFWaBZCfcR5am\n",
       "pKcZMvvyZno14kKSKTapLCpsAl8UzMJ2XLdk1ORNroKhxKZ3NNU9RgW7hCqL9Z21RbY8R7/n7KZ1\n",
       "8fOyiJmdr5ZFWJN83VpDZlElcTKX6igkEJzKwQUKlFHHM1rNd+wu+xuZiTUZLaZvJBvcUvu+s8vf\n",
       "umxwX8V5JLoaoe1Ma8QXXuG9e4sOuIHrZPIsLGYaCRdjJWbQM/qmOKclD7+F+wxzmimvI9XUCMUw\n",
       "pxEpYA5HvRO0rxpOAVYfSR4Zp4a3/OrbAdbh/JSJMsHJaYy7GnnN01MhUoCHpzyTuszHvibaoiru\n",
       "4rAwPe4GRWD2ZKJMyWyaKWjEklEMiC9A7JN8UKzaRSwJ8StkGs34lbjDdikOkiUMrAauaIRiKLIh\n",
       "IL6A2A/uu8bOvF3GZJyHP3WIv3/cu4qEqJNf2NyWCcn8IJXFQ6gEeCQKLiRSOE8psMLP/AhRN33N\n",
       "EJ73c8snyy/wHc4fuj2AJ7wC/cKysuaORiiGouA4UQSzl+qyfmsVcYyOK3/p02W1B72stO4RvUkO\n",
       "3yzzl83JhKFnq7saCbqMIKHg5FeqH9iqoPYSGt/URTxsK6Ww0VHcVULx9xdWIyJApJnaE6PDGKJN\n",
       "ol0aRQbHrN88ho7WEO02Ho8kA4PXyr+/UcM+kAvVwkgyMHjr2uNv7UfgL4l7yCEzC3PhAAAAAElF\n",
       "TkSuQmCC\n",
       "\" style=\"display:inline;vertical-align:middle;\" /></a><br>"
      ],
      "text/plain": [
       "operands: (a or x, b and y, b or y or x)"
      ]
     },
     "execution_count": 17,
     "metadata": {},
     "output_type": "execute_result"
    }
   ],
   "source": [
    "from proveit.logic import And, Or\n",
    "operands = [Or(a, x), And(b, y), Or(b, y, x)]"
   ]
  },
  {
   "cell_type": "code",
   "execution_count": 18,
   "metadata": {},
   "outputs": [
    {
     "data": {
      "text/html": [
       "<a class=\"ProveItLink\" href=\"__pv_it/lambda_reductions/599fe6049a3f7ad7449d5c4dbae3b382e653b87a0/expr.ipynb\"><img src=\"data:image/png;base64,iVBORw0KGgoAAAANSUhEUgAAAQwAAAAUBAMAAACKUB7iAAAAMFBMVEX///9UVFTMzMx2dna6uroQ\n",
       "EBCqqqqIiIgiIiJmZmYyMjJERETu7u6YmJjc3NwAAAC+aOQFAAAAAXRSTlMAQObYZgAAA5RJREFU\n",
       "SMedVk1oE0EUfkm2zSa7+aEUKgWlPRdJT2IFIZdiPaUHQQ8VclNPjVYJOTUe1ItKtNBCQZqWXhpE\n",
       "UkFExJoepNoKyU3sqYJKEYWiRUHS4nszszuzk00pDsxm5+V7730z7817CxBvAJu+o3OrRfSjPdKL\n",
       "bmvU18mGmP7jmC6wq7BxoR3Sg94A+1nxUDxI7YmYfATZs89dr+sqUaS+5OxX/WNdR6PRaMm1FlT+\n",
       "0QWoFivxKUaAILGcuw45r5fE70ecvx1KJcU2IUNSkRlNZOmtix4fFKguQDUTd2fKmAaT+DBrMgaj\n",
       "Go37AEZTvA/cVaM1qqCBG80wQ/30UKG6ANW28Wfbe5RwVlkvemnEMdohJ+LdedCQi3JJRk+6cTRK\n",
       "WmA9gkUo4JNmfGpmjCRXcK7Qy9rVzxN4xkNeGmHUjvYU2GHbZZPJ1mYgPsaRQ9I0GZ3PT9NNQB2L\n",
       "Dtwu5OBLTRFIJ69wQXN4K7rDzhIDUyWVwdgdswyw6aVh4S2sP7b3WUizIUZncBjCOxy5KWmgUftv\n",
       "rU7e8PQGmIIxCpOgCKST27jCaV+ESJVtNweBNKnUQk0DbVz20jDR8XgN/nDG8TKdY3YWrCpHMrTN\n",
       "kGi0swkJSlqMXTeJvkbK8BIUgXRyDlc4I00wWZrbRX7tbGYaIEWPU5XKrUplHt86kOIs2L9Erncx\n",
       "5HnmLeWg60SOGS1DfRBf32L8SFTryPENOALpRNDoqEKdV4tpOME3zjbCDcvTIBpLYPwWuc5yHm9O\n",
       "qk+hYSYFDbzQGQpbREQPb07wJ6gC14kICrIe5398A3ERUozWSGtQ9ujseKJRztOmbwjkiMwNNJpo\n",
       "wBxd2bjIZTzHMLvSrsB1IlK0noVe3hKs44xgZ20SwjXfFN2FNw1x7YgKWElYBr8UTaQx5Wg8FbVq\n",
       "mbCKQDoR18zKxW6GeAE7wmpOJvuadbEpL40Q+j0KL1jxcopQJGnsCeSUpIFGAw2LV4d+UaseQKah\n",
       "CqQTcZR2z7VP1zmWd4zV/NojUlnw0jAwYu8mmK1ukfOoW9gXyAVJg4zOnPZW/dX83JYqkE60Yo7j\n",
       "u6ehFluLuRhp2aAwOxjSLnqLudvz3e4wqwuEE6216cNtVu+V1qaNXqin/VubNgJle7edkxWnevuO\n",
       "lkZvtX4I3YPnfo2+1ajZsHLtnBz82bPi89mjjzOFPvDZTqtRI/+wrZMDPwJjh/4IJGTs/z4CUe0f\n",
       "ICoUncF/A/YAAAAASUVORK5CYII=\n",
       "\" style=\"display:inline;vertical-align:middle;\" /></a>"
      ],
      "text/plain": [
       "((a or x) + (b and y)) * (b or y or x)"
      ]
     },
     "execution_count": 18,
     "metadata": {},
     "output_type": "execute_result"
    }
   ],
   "source": [
    "sum_then_mult.apply(*operands)"
   ]
  },
  {
   "cell_type": "markdown",
   "metadata": {},
   "source": [
    "### Automatic relabeling to avoid collisions\n",
    "\n",
    "A lambda sub-expression defines a new scope for its parameters. This is clear from the fact that alpha conversion may be used to change its parameters arbitrarily without anything external to that sub-expression. Consider the following example"
   ]
  },
  {
   "cell_type": "code",
   "execution_count": 19,
   "metadata": {},
   "outputs": [
    {
     "data": {
      "text/html": [
       "<strong id=\"nested_lambda\">nested_lambda:</strong> <a class=\"ProveItLink\" href=\"__pv_it/lambda_reductions/418d0f88f8a90573e20421104a4d9477013ba7e80/expr.ipynb\"><img src=\"data:image/png;base64,iVBORw0KGgoAAAANSUhEUgAAAKIAAAAUCAMAAAA5vxZBAAAANlBMVEX///8QEBAoKCgNDQ1mZmaq\n",
       "qqrMzMxEREQyMjIiIiKYmJh2dna6urrc3NxUVFSIiIju7u4AAADPT139AAAAAXRSTlMAQObYZgAA\n",
       "AbNJREFUSMe9V1uygyAMjfeCgDwS9r/ZQtFKCm3BzjQf6gfnIQkQAKYCtV5hMvwG0yF9eW/auEmo\n",
       "ddNqpOBCBH9V8YJF7a9YJP07i5t4l098rYTDiugnLXIAGH/NIi3DilJMWuQAb+CaRdDuVCTE4B3a\n",
       "x3Be36axSCjyWL/QZwDuhhuRnkVGbMVDkWwqGINgdFcDpHq2aMHlLGAcAKiy47QiPYuMeNMPRZss\n",
       "20jgfF8RUBGz6CWIDFdqAGBkwTUiHYucWJpzFplajv8/zSJGV1tMgCVTRxwALOWrEbH3gWa5vwIc\n",
       "gyriNbLqj+xvDLFfddUGXwAuzUeiWAcAy/kZ8eNyqYm5xUqtzduq6XlF39OBywhgT3Qr0rVYE7sz\n",
       "0ZJKfSL1FdnpUCyqcDw+Avbl0op0LdbE53JxUYKK7LBnx77r7Isi5JyMAURJYCPSn8WKWNhDkQJi\n",
       "2o+2V+2IWFuLGSOiHwGUdL0SebZYE+8t1RdntNBjiOkDcCcm800bERIJxUHo2zaCeGnWxBNtRMei\n",
       "SflSOApR481YRfxlM+ZSwYz33hMtbUWsLre0aH5zMdj8cREx7gZ/IBa1Op+qnAAAAABJRU5ErkJg\n",
       "gg==\n",
       "\" style=\"display:inline;vertical-align:middle;\" /></a><br>"
      ],
      "text/plain": [
       "nested_lambda: x -> [y -> (x + y)]"
      ]
     },
     "execution_count": 19,
     "metadata": {},
     "output_type": "execute_result"
    }
   ],
   "source": [
    "nested_lambda = Lambda(x, Lambda(y, Add(x, y)))"
   ]
  },
  {
   "cell_type": "markdown",
   "metadata": {},
   "source": [
    "This defines a function that produces a function which produces the sum of the respective parameters. First, let's apply `nested_lambda` to something with no collissions with $y$:"
   ]
  },
  {
   "cell_type": "code",
   "execution_count": 20,
   "metadata": {},
   "outputs": [
    {
     "data": {
      "text/html": [
       "<a class=\"ProveItLink\" href=\"__pv_it/lambda_reductions/9d40180674c1f9c0bca19ef1bd19a041a08b81df0/expr.ipynb\"><img src=\"data:image/png;base64,iVBORw0KGgoAAAANSUhEUgAAAJEAAAAUCAMAAAC6ey96AAAANlBMVEX///8oKCgNDQ0iIiKYmJhU\n",
       "VFTMzMxEREQyMjKqqqq6urp2dnYQEBDc3NxmZmaIiIju7u4AAADK3kTVAAAAAXRSTlMAQObYZgAA\n",
       "AddJREFUSMetVkmChCAMdIZ9C/D/zw7ERoktqD2dg/FQUJUFwrI8tcCpvzAT7m/9BLtbUtQPYZ6t\n",
       "f+IBjfhEkg7Uj4Hw0qYfhKufC+JA/diyef24eKhNHC9y8VJBPKSCBeqHZnNqgfv7io7Ys2ajuQiM\n",
       "+km0O0Lb24oQmyJUSPAtJtqylDoC9UsAB3Fb2m8tYoS1cA5miih/xbrF1lTFfK7BEIGKU299qZ7O\n",
       "J+nPOpUP1pbrmSLKX7DBLFBXKHWuaImqywAzxCdflcG2dEcabKOM5IZNFB34C7Ys9HFbXO33RxPL\n",
       "ee8Db4kH5GVxT0wDIkvKrv7LlkOH+zGPTmxB9PyIxVMhs9zyQLvCsq4xD4q8Qt59qSC3kV1vAJmn\n",
       "nU34EYvhRD/oZal7gbRqaw5MPruN+JbCEtNUEeFHrBLtc6aI3s20sxPmQOiTgVQrvXbZVWdTfsSC\n",
       "qJnb5yaZoJae3HaQX16VzXkplXufUGUX9QKDm+eo50dsqjdHHtzBIA9NRXxdKoOI9v30Q3QtNC2n\n",
       "igj/hoW7I+72FOkY2fUUafyILW1QGsJ+fdIOp2eiZ5nwI5bxtR9umgrU//uF0fOvWFuqKL/+YnsP\n",
       "YfhI6PjVR4/Ih69a/oAEsX9QQBTAeaUAyQAAAABJRU5ErkJggg==\n",
       "\" style=\"display:inline;vertical-align:middle;\" /></a>"
      ],
      "text/plain": [
       "y -> ((a * b) + y)"
      ]
     },
     "execution_count": 20,
     "metadata": {},
     "output_type": "execute_result"
    }
   ],
   "source": [
    "nested_lambda.apply(Mult(a, b))"
   ]
  },
  {
   "cell_type": "markdown",
   "metadata": {},
   "source": [
    "We produced a lambda function in terms of the $y$ parameter. But what happens if we apply this `nested_lambda` to something that happens to be a function of $y$?"
   ]
  },
  {
   "cell_type": "code",
   "execution_count": 21,
   "metadata": {},
   "outputs": [
    {
     "data": {
      "text/html": [
       "<strong id=\"applied_nested_lambda\">applied_nested_lambda:</strong> <a class=\"ProveItLink\" href=\"__pv_it/lambda_reductions/a4842fc131fe32cdf95314bbe5ea7774a0c0a79f0/expr.ipynb\"><img src=\"data:image/png;base64,iVBORw0KGgoAAAANSUhEUgAAAK4AAAAUCAMAAAAjg/bPAAAANlBMVEX///8oKCgNDQ1UVFSqqqrM\n",
       "zMwiIiKYmJgyMjIQEBCIiIh2dnZmZmbc3Nzu7u5ERES6uroAAADIdaz2AAAAAXRSTlMAQObYZgAA\n",
       "AbtJREFUSMfFV1l2wyAMdIvZ9/tftmCbgOQN49dWH9FL5JEGaTBkml6Z5dDf2mxHS40jP+Y89B1G\n",
       "hquS13yFhb5nhWK4N+IlW26g7zKt0JDVKPLOFGois9D3NUmO0sXIW7XDLloGfa+CwiBdjFxqG22U\n",
       "dOUr3EOQlzLQY2xtizKZk11D2jyh2+bUO9EFmQYr4gnBGbD3HHqMraJLobysNcTFA7ogJxc7eeTS\n",
       "xp/QnZRvesdm4DH286SdJ5ML+TU0s366MOeMVWdiLsJqhu8vASzGqh8ZgEdYF0XlLfOvcQ3R0n+9\n",
       "ZGRyceSQLsxJ8eSkXwrR2kGoxMAatSO6GMsqg5Cr0i2Eil52F+bEdF3UOUE821xUtOyhGPbYpkm5\n",
       "0UqWJXfTRTkRMoVzZSLqAc0OT7GjrbbHNk+S8vFsq6Gcu63mE5anKerPwQWkAF8k5b2y+R226S7J\n",
       "gthyGd0vBpgzIYMvlufsiFLUEhWOhU+RkIG/wOaQieWCQa/oXvFByKf26BA22yQdGz6E2Su23Vec\n",
       "JL4kw3B8UXHut644e2lZ6M+mwFcV/vMFsvd6HpJy6dS1so7e/OWfHz5cc0H+ACg5FJ3q7ZQFAAAA\n",
       "AElFTkSuQmCC\n",
       "\" style=\"display:inline;vertical-align:middle;\" /></a><br>"
      ],
      "text/plain": [
       "applied_nested_lambda: _a -> ((a * y) + _a)"
      ]
     },
     "execution_count": 21,
     "metadata": {},
     "output_type": "execute_result"
    }
   ],
   "source": [
    "applied_nested_lambda = nested_lambda.apply(Mult(a, y))"
   ]
  },
  {
   "cell_type": "markdown",
   "metadata": {},
   "source": [
    "The system automatically relabeled the $y$ of the nested lambda expression to a new variable to avoid the collision. It uses ${_{-}a}$ as the first available dummy variable, which has no relation to $a$ as a variable. (Note, if you happen to use the full alphabet, it will go on to ${_{-}aa}$, ${_{-}ab}$, etc. so it will never run out of options).\n",
    "\n",
    "To understand that this is a correct and valid thing to do, consider that you could have relabeled $y$ to ${_{-}a}$ in the nested lambda expression first before calling `apply`. To relabel a lambda sub-expression, one can call `inner_expr()` to create an `InnerExpr` object. We will discuss this capability in more detail in Chapter 2.a.vi. but here is a quick prelude, relabeling the inner lambda expression."
   ]
  },
  {
   "cell_type": "code",
   "execution_count": 22,
   "metadata": {},
   "outputs": [
    {
     "data": {
      "text/html": [
       "<strong id=\"relabeled_nested_lambda\">relabeled_nested_lambda:</strong> <a class=\"ProveItLink\" href=\"__pv_it/lambda_reductions/10d79c044a9fd6bf86bb73a7be409e0b7d0b64eb0/expr.ipynb\"><img src=\"data:image/png;base64,iVBORw0KGgoAAAANSUhEUgAAAJ4AAAAUCAMAAABLcHT3AAAANlBMVEX///8QEBAoKCgNDQ1mZmaq\n",
       "qqrMzMxEREQyMjIiIiKYmJh2dna6urrc3NxUVFSIiIju7u4AAADPT139AAAAAXRSTlMAQObYZgAA\n",
       "AbpJREFUSMe9V9uygyAMjOeAEC4G/v9nq6iUmwrtTHmojrPsLpCEFGBokJTz2AyrYHRwGx5Kohmc\n",
       "qbcJTkzYO8EJ6IeetItN1IbtAUjWO0HaAfaT1snv7HneiVd36+BUfIi0mnrtka3tGe/64IB2wN6b\n",
       "1k299jir7WnshNvbGC3tJbTSvCOdaLGGdATn0Yy1PbkQMd4BpzOYSommvYRWs1PN6TVEkABlUwG4\n",
       "qDLXS7f+2Ge42KtKLdGyl9Iqearp9cD1eurGtu0BCZfb4yFGPD3D8diLSqJlL6XlGHdvW2V2QP9/\n",
       "Mhvem8wek2Gt+hk+7W+VhA5AnMJjOT6mtLNPU8Nn68A8L01SvMOEUJ5MrAI38On96ukpNVLazN7s\n",
       "58vohlm6Ivb8FlEsVoEbOMb8KSRa9lJaEw+XO6DNK7m2vazu7/a2kJhUB/xIjVqiaS+hjamx7abw\n",
       "2dWdXeKmrnvLChCsC87gOLBComUvpWX6UHNrsXHE1FVjwea6JWCk++D7GV1JlIUlod37ok/v3O4x\n",
       "dKklThF+Yu+2JXCXN3d/S/CdPRAWxse3DdWAkvjAnvi0HSX8QTOv7PHHAc0LC7AWdZrDf9IAAAAA\n",
       "SUVORK5CYII=\n",
       "\" style=\"display:inline;vertical-align:middle;\" /></a><br>"
      ],
      "text/plain": [
       "relabeled_nested_lambda: x -> [b -> (x + b)]"
      ]
     },
     "execution_count": 22,
     "metadata": {},
     "output_type": "execute_result"
    }
   ],
   "source": [
    "relabeled_nested_lambda = \\\n",
    "    nested_lambda.inner_expr().body.relabeled({y:b})"
   ]
  },
  {
   "cell_type": "markdown",
   "metadata": {},
   "source": [
    "And now there is clearly no conflict and we obtain the same result (but with a different lambda parameter):"
   ]
  },
  {
   "cell_type": "code",
   "execution_count": 23,
   "metadata": {},
   "outputs": [
    {
     "data": {
      "text/html": [
       "<strong id=\"applied_nested_lambda2\">applied_nested_lambda2:</strong> <a class=\"ProveItLink\" href=\"__pv_it/lambda_reductions/336f26096c1d5a7f3f8e317999ec2b56ae74c7f80/expr.ipynb\"><img src=\"data:image/png;base64,iVBORw0KGgoAAAANSUhEUgAAAI8AAAAUCAMAAACDHJ4hAAAANlBMVEX///8oKCgNDQ3MzMyYmJjc\n",
       "3NyIiIhUVFR2dna6urqqqqpmZmYyMjIiIiIQEBBERETu7u4AAADFAwRaAAAAAXRSTlMAQObYZgAA\n",
       "AdRJREFUSMe1VlmWgyAQdIadZr3/ZYdFhTaImPeGj3QSyq7qDdy2d4tRbB+XZts7ZPDOLssJHtuF\n",
       "JdiTy4P/QBpYdm4YtishmEengJFRr/qmgO3SkvxSl8vvxl+RKoY7V/ySBsuwXUuQm+tp/BUp79tH\n",
       "4zwwi+1qkdVUT8dfkEZwDmfJcKNiYg7YbgwkcPeZ3sAhk7K6JWGqp+PPyBBNSB9sqEAjeZ5iq1x6\n",
       "ysRBy6StrLtuUTPT0/NnpC7li3yoZ+O+i95qZIPLuuCUfCKZ3iBr8HVL25menj8jy5Mhyn3798eg\n",
       "FWOrvlPIQvFkeQu0CXO8BUmODMri0bpixP5nz5+RZfrVOXMWd4OyXTNe9DhfPJEzfQLPDNm3SJzl\n",
       "p+fPyEjPUD/rRUwvD9erxqTjaKRK0NwdMc309PwZmetRO2GgB5/DuJ9DiUmY0RXlxfHx2M89f0aK\n",
       "9NW3iUT3pMKTegzubn1yTFOR5CA/Itdg9wVypqfnz8gAXN5d1kAuzYRsSAcHYYKrwZmcz5TjDDFk\n",
       "Ou8d/wX5uF7dF7CXKdiH+6tJe3fur9+nqalSe6nxfRrC6s37vDzD9i6PtHbX2vvG+pvJt+9jKnUP\n",
       "2ZakD4L91/dVukxSkH8gSRSHRPoo2AAAAABJRU5ErkJggg==\n",
       "\" style=\"display:inline;vertical-align:middle;\" /></a><br>"
      ],
      "text/plain": [
       "applied_nested_lambda2: b -> ((a * y) + b)"
      ]
     },
     "execution_count": 23,
     "metadata": {},
     "output_type": "execute_result"
    }
   ],
   "source": [
    "applied_nested_lambda2 = relabeled_nested_lambda.apply(Mult(a, y))"
   ]
  },
  {
   "cell_type": "markdown",
   "metadata": {},
   "source": [
    "These are equal expressions since they are the same up to alpha conversion."
   ]
  },
  {
   "cell_type": "code",
   "execution_count": 24,
   "metadata": {},
   "outputs": [
    {
     "data": {
      "text/plain": [
       "True"
      ]
     },
     "execution_count": 24,
     "metadata": {},
     "output_type": "execute_result"
    }
   ],
   "source": [
    "applied_nested_lambda == applied_nested_lambda2"
   ]
  },
  {
   "cell_type": "markdown",
   "metadata": {},
   "source": [
    "Lambda expressions are used implicitly in other types of expressions. They are used in `ExprRange` and `OperationOverInstances` type expressions. Examples of the later are $\\forall, \\exists, \\sum, \\prod$ operations. Automatic relabeling will happen in these cases as well, of course."
   ]
  },
  {
   "cell_type": "code",
   "execution_count": 25,
   "metadata": {},
   "outputs": [
    {
     "data": {
      "text/html": [
       "<strong id=\"exists_fn\">exists_fn:</strong> <a class=\"ProveItLink\" href=\"__pv_it/lambda_reductions/e3be50ab79415c38276e8e57e25c8a0fc3cdf5030/expr.ipynb\"><img src=\"data:image/png;base64,iVBORw0KGgoAAAANSUhEUgAAAMwAAAAVCAMAAAA9zfEnAAAANlBMVEX///8QEBAoKCgNDQ1mZmaq\n",
       "qqrMzMxEREQyMjIiIiKYmJh2dna6urrc3NxUVFSIiIju7u4AAADPT139AAAAAXRSTlMAQObYZgAA\n",
       "AlxJREFUWMPNV1mS4yAMhR7MDoL7X7ZZ7JjNJjiZqtZPVMkL0hPaQGhJgHOKzCHXOCNbZUE28wAt\n",
       "udCLdlT8A7FZsLuCOdYqS2LfYaNAKlqi1SMyc5vctMqSOD7H8C3ghCnQ/4mMJK0ySg+4i/rMEYkT\n",
       "jhfoORkwD8gI0yqLZBye+cVsOsO7Ez0ns5F1Mka0yioZxGeO+URG++1EJ98cgDUaXldb16xYJwOk\n",
       "UVoLIzIOSPzC5K6iyKSqPMlk4ERH35wKGSgACT50f2MdGSWy+AsyTNZKZ2FERiEdswX83mjPH3gh\n",
       "B0fjVfygmUxGR99UCIUKuafNkAwC5hZvRmy10lkYkDEbItEllmO3ifubMflmaOaU0elmziOy/Pvh\n",
       "lXiv18hgXSuthRxrgdOHRQcGR3Y51MHLlTTL6MM3X0ZJ1LNQl5P1EZnOwrAB6NiZqKdvkdkbwJYb\n",
       "QEXmOGKUZpS7uwagwXb82zTrLAzJpCwDfERwXDP2VZfppmVqzTs6+ra5XHXghmTqGd6RUSicR/Ft\n",
       "A+gsDMmkycF2b+VsByiH5tkAYqtmvtwIq9VQ388Z42JUoO7mr76qyDEMagvjm7ERumOImg3AeOsO\n",
       "0wIdfHMWIPR4ebHdEtqT4XtrTiMhHmShqbJKubDQkokwcnR7Tqf7mwrDi5boz3azHKHwDaZfWmfI\n",
       "nl1OLO2lAn2LDA3J8WTRdHXTtDw2XP3uojlYS79ARltgXbUy0ypTESELGbz/BOgfDJ+TcaboXp88\n",
       "znSoGLocghK9TAZEU5o27FT8y89maR6gYf3Z3AdUKoX+ivwCHR0eIyKY+MAAAAAASUVORK5CYII=\n",
       "\" style=\"display:inline;vertical-align:middle;\" /></a><br>"
      ],
      "text/plain": [
       "exists_fn: x -> [exists_{y} ((x + y) = 0)]"
      ]
     },
     "execution_count": 25,
     "metadata": {},
     "output_type": "execute_result"
    }
   ],
   "source": [
    "from proveit.logic import Exists, Equals\n",
    "from proveit.numbers import zero\n",
    "exists_fn = Lambda(x, Exists(y, Equals(Add(x, y), zero)))"
   ]
  },
  {
   "cell_type": "code",
   "execution_count": 26,
   "metadata": {},
   "outputs": [
    {
     "data": {
      "text/html": [
       "<a class=\"ProveItLink\" href=\"__pv_it/lambda_reductions/a66e8f5a10c67050be970e85ea5b6dbdfe07c6510/expr.ipynb\"><img src=\"data:image/png;base64,iVBORw0KGgoAAAANSUhEUgAAANcAAAAUBAMAAADsL7WcAAAAMFBMVEX///+6urqYmJhERETMzMyI\n",
       "iIiqqqoyMjIiIiJ2dnbu7u4QEBBUVFRmZmbc3NwAAAB9rvfZAAAAAXRSTlMAQObYZgAAAlJJREFU\n",
       "SMeVVktrE1EY/aaTZjo3mVBcCS6SpQ+oxeJGiuQXNCPYlS3Oxm0yC2Fc+FqoBCw2m9BVYaCbQpTU\n",
       "BwguJJvgwiyCryIYOisRfFChKi0K3qu5907nfnOjB84knMM3Z+7rm4HCFwpQUShJKqiCBtV02en1\n",
       "es9D1VuLUUE+0oQhZvNIWchY7dUYFRBfE6aalkfuCBkJG+tLImgOf7OuxhQ4BrAiZCRsIpJE0NKF\n",
       "tZLCLEAt5DIS9iFGBNakJoybAj8Bih6XkbDFGAtvXz8RC7LowscQ7D4e9nn1nDRFzS8a5jLZrtfr\n",
       "y2rYiRgPRdY2121jA87TpfTRMOMpXOPmSsBwhT3sLkDF5TXIyG5JkgfgTDONHZD3jg8zNOQ6GtYq\n",
       "wUtpiiNLR1ZpcBkJuy/p7MEEuyf5wQJzLnwDyLCh2kFw6XEQdGTVVgg3h6Y6jUNZH5abhnaZaUvs\n",
       "UgwzO/J+iZE9BLKjhrENUvOUsHsLF9VpbDegJgs3YXyDLg46jWQXstvc/Ltml9lfOu/HQ17Dw8iN\n",
       "zJ66QdoePMtG8syYnbQNQr5D3q8KM3GoExvE6Wf42q5Kmu7Yki0K30GRtmangU7jSTjcaQhTdgiP\n",
       "PPpTY9Gtf3vYiHPeOF/tg5Kke/bTGVF4d36LPppV3hdmzFCcYuZcd1KYcsTNhTIk5XZkHg1HtqtN\n",
       "ynVdu1rHu05CzkWVAyMacd4nX2O9loT/0ogTMhkMBm/A6F54wZXTMcanv2S6//2KGflaSnl5GvOv\n",
       "6NXUvTxTTF2N9rNgSvdZMJUq/wa/BcCLhgnb8QAAAABJRU5ErkJggg==\n",
       "\" style=\"display:inline;vertical-align:middle;\" /></a>"
      ],
      "text/plain": [
       "exists_{_a} (((a * y) + _a) = 0)"
      ]
     },
     "execution_count": 26,
     "metadata": {},
     "output_type": "execute_result"
    }
   ],
   "source": [
    "exists_fn.apply(Mult(a, y))"
   ]
  },
  {
   "cell_type": "markdown",
   "metadata": {},
   "source": [
    "### Masking parameters\n",
    "\n",
    "For clarity reasons, it is generally best to avoid using the same parameter variable for a lambda expression within lambda expression. It is not disallowed, however. Importantly, scoping rules are obeyed such that the inner lambda expression masks any external uses of its parameter. For example, consider"
   ]
  },
  {
   "cell_type": "code",
   "execution_count": 27,
   "metadata": {},
   "outputs": [
    {
     "data": {
      "text/html": [
       "<strong id=\"masking_lambda\">masking_lambda:</strong> <a class=\"ProveItLink\" href=\"__pv_it/lambda_reductions/a3a31bb12def0da5c3587813e122a67e5e5dd3f00/expr.ipynb\"><img src=\"data:image/png;base64,iVBORw0KGgoAAAANSUhEUgAAAMQAAAAUCAMAAADlRmJ2AAAANlBMVEX///8oKCgNDQ1UVFSqqqrM\n",
       "zMwiIiJERESYmJgyMjK6urru7u4QEBCIiIh2dnZmZmbc3NwAAAAcughTAAAAAXRSTlMAQObYZgAA\n",
       "AkFJREFUSMetV4kO5CAI7a4Vr1r1/392a20VPGZrZ0gmGVJ4+BQQl2VSvHxkZpXii7/le7wia0KT\n",
       "CnTR5sSIZ3Z7jOBYks18jYeEeRQiazOihj6+JVGHfYjHu38Lb4VD3NqESDdejntBoovH8tKl7Z6y\n",
       "xSF2+9/UrsLDcDlcgJkn0cXjLH/u5qHZcIhL+1RFdKc8jDNVWztNYoB355genLvSOETSvNudzcVH\n",
       "K41GsTcqdblSE6ZJDPDurRPID1vsDoc4Nb0dtir0l70STuLqh5VLRFrTj5DYIUkYkRjhwZWhxZJY\n",
       "SIVJRM1sEcmJPonFCrTfsF5pSF0uL69mT2KElzKTaVQG2GIFHCJqLsRVQk7ov38UkRAK1pb+1i53\n",
       "Gylt5SGJEZ6BqnlSCx5wiKhtkZ4JfNARNOgmaO1yO5W2MkeixXNVdlKLhoQJezySMChlrkxz/I1L\n",
       "rsRydbUkjLNM8V46tXhnZqKFVBaapNOhmRCBmMpTCHy4UVMhNi7ZqnTkhoQBfuyZ6RV2i3d84fii\n",
       "qyzawhaHsQS27Hd6k2SinTr1tsaltJGciw0Jd7jy+loY4J2ZSdKaWrgdh4iaYdZyz6zuJa3jVYGk\n",
       "jalcShvJF94ZQV0tNrb37dhLyyr4AV47xVCLlJX5suOTs1N/7NDtxLZXe2LiXSGkMU/HGP9h8gUy\n",
       "dsAPB8BlPMWe/cUfJaHlW7xvBsD2jvUvSWhmV+vkW7xfjuJzj6If4nV4pxDizdPu6fMUHtbb9PNU\n",
       "+uv9e97Cp/YPtKIcgheFOwIAAAAASUVORK5CYII=\n",
       "\" style=\"display:inline;vertical-align:middle;\" /></a><br>"
      ],
      "text/plain": [
       "masking_lambda: a -> (a and [exists_{a} (a or a)])"
      ]
     },
     "execution_count": 27,
     "metadata": {},
     "output_type": "execute_result"
    }
   ],
   "source": [
    "masking_lambda = Lambda(a, And(a, Exists(a, Or(a, a))))"
   ]
  },
  {
   "cell_type": "markdown",
   "metadata": {},
   "source": [
    "If we apply this `masking_lambda` function onto a general expression, the $a$ within the inner lambda expression (of the $\\exists$ operation) will be left alone."
   ]
  },
  {
   "cell_type": "code",
   "execution_count": 28,
   "metadata": {},
   "outputs": [
    {
     "data": {
      "text/html": [
       "<a class=\"ProveItLink\" href=\"__pv_it/lambda_reductions/ebe223814b9ad08479dc39b9b1e9893455df22210/expr.ipynb\"><img src=\"data:image/png;base64,iVBORw0KGgoAAAANSUhEUgAAALoAAAAUBAMAAADINjpcAAAAMFBMVEX////MzMxUVFR2dna6uroQ\n",
       "EBCqqqqIiIgiIiJmZmYyMjJERETu7u6YmJjc3NwAAACgK8IjAAAAAXRSTlMAQObYZgAAAopJREFU\n",
       "OMuNVTFoE1EY/pLGXOpd4o0ueiFLpYNkOMRsoSCtkw6ig6VkrIuESpW4mKHYUFCkBYuKmIKDOkRx\n",
       "0aX1ECSighm1UwYHLVYqilMt/u/df3fvcrnDP+Tu3nfv++69/33vf0Chh+GR7Yfb2hPzB0UY3U4g\n",
       "by4A7xEXR8PNkSqWS6XStIoZz5LINtDxgZS8mn77Hd/7vnrkm/v7SWQb+Vs+kBbv8vVgsPz4OF79\n",
       "cyLZRi7IY6pIl5wTTPu0C790YtVvJpJtfFX6iiSdVNoP3VFN1uPUC81Eso0GPXTnvlwSChfovyHe\n",
       "dFdRoNWrcAabceqaSOu3yryjkhmoCPV1mkQ5v5hri4nRBKUJyieg7ZClZOdj9GP1461Wa09R18nN\n",
       "mRk8hUpmYFOoXyeaM7KbEenX6kiLARZqd6FTz1kp0cRW3NhzNeBND/egkD1gVqifobFLKbESTdeF\n",
       "Bs7hAKXKgusD6Ydh6vsIeuBgUSV7gMXqkFIibnMSMruwTFYnH0g/xKmfh/EzRGbA4sxASonY4gUc\n",
       "bWOeblPg1eqE1I3VcdPPjPEL2R2V7AFTvKpZ5xo06VT9kDsJvYjn4FXt8BcC9bem5firavxBun1R\n",
       "IXuAXFUyzqnaK65GqSMubbSY+Uu3FbAP5C7x1e/goLchyZEv8KlYVskMrAh1msDrK937vdCmN8Ya\n",
       "wnhrYi9VXT9I9UfkyGmcxRyrZ5qCfXisqpIZWBuoBBTfvQfKvHABCfjViccOYw/rHyKVQCWzhcJV\n",
       "LIhxfKwGVQyhKgbMpH73IlVsMNwqxrs3HDcoeUEFHlSfuNzw1PV+nLpbgYeeHpMNE5Hv+ur/dXps\n",
       "uOqxJ19+8ORbMqOdthPIVxf+AVE5uVctHSB/AAAAAElFTkSuQmCC\n",
       "\" style=\"display:inline;vertical-align:middle;\" /></a>"
      ],
      "text/plain": [
       "(x or y) and [exists_{a} (a or a)]"
      ]
     },
     "execution_count": 28,
     "metadata": {},
     "output_type": "execute_result"
    }
   ],
   "source": [
    "masking_lambda.apply(Or(x, y))"
   ]
  },
  {
   "cell_type": "markdown",
   "metadata": {},
   "source": [
    "The `apply` method does have an optional `allow_relabeling` flag. When this is `True`, if it is valid to relabel an inner parameter with the same name as an external variable, it will do so. This is just a convenient way to perform alpha conversion in one step. It's purpose will be more apparent when we discuss **instantiation**. For example, turning `allow_relabeling` on, we get"
   ]
  },
  {
   "cell_type": "code",
   "execution_count": 29,
   "metadata": {},
   "outputs": [
    {
     "data": {
      "text/html": [
       "<a class=\"ProveItLink\" href=\"__pv_it/lambda_reductions/d599da487edaa86526cd81dbdc7cffdf5a0a77690/expr.ipynb\"><img src=\"data:image/png;base64,iVBORw0KGgoAAAANSUhEUgAAAIEAAAAUBAMAAABYJUOTAAAAMFBMVEX////MzMyYmJjc3NyIiIhU\n",
       "VFR2dna6urqqqqpmZmYyMjIiIiIQEBBERETu7u4AAACIO4EmAAAAAXRSTlMAQObYZgAAAeRJREFU\n",
       "OMt9lLFr20AUxj/Zlm3ZsRTyFxg6BwTZGigekqHN4sVZmsGUQFqyaMgSMsSQyZuHDtlqYwptvWgs\n",
       "uLSQpWtpxnbQ3KSk0E4dQu7eu3c+N1KfMfh7/vTj3nd3Av6tJ5Pyhiq3VW4jr86A0ixB+D1d7h8g\n",
       "6PV6e5nT+nnPRdqPgWoCNEamGwtBlx87/qm4PJKrYB2OmRANjO9tEaE0EpevHy51YPQ+E07Ner1v\n",
       "WQGhGYvL62qpf5K+ZsKh8flHnQLCJqxLzYNjiG4kRHi9dU5//kBaQHgM6xqq7yVEV0eaEP7Nbsj9\n",
       "XH2YUJ3P55/i2jshfIV1NdUkXyC6NNaE+i0iWn6Kh8treCGE97CuSge+WrfR9VQTgjFu+pwwJb0g\n",
       "vBHCZ1hXmKppIdr7pQlqY08HnDAlvSD8dgjiwjnPypoJURuvMpPR1CV4f7YzO4W41KSUN+saTREl\n",
       "4YXs09AlVD5WRjZJcaG1RqGx5iT9dksbKWE6K0JodZSBSkVqXMr3lJbCOujTbr58Rq2Ek9aEhtrN\n",
       "D9lKEnSZcAJx2bPPurFKJ4qrZu/MgelE2cpgcaptPXJ+X8EhuLfbPJetOzcrt/b/T/B2+9K6zAfI\n",
       "7S4iLL1hcqsV5xN2JvdaBW+5Byr7WXIHGo+StSiYlxoAAAAASUVORK5CYII=\n",
       "\" style=\"display:inline;vertical-align:middle;\" /></a>"
      ],
      "text/plain": [
       "b and [exists_{b} (b or b)]"
      ]
     },
     "execution_count": 29,
     "metadata": {},
     "output_type": "execute_result"
    }
   ],
   "source": [
    "masking_lambda.apply(b, allow_relabeling=True)"
   ]
  },
  {
   "cell_type": "markdown",
   "metadata": {},
   "source": [
    "compared with the default of `allow_relabeling=False`"
   ]
  },
  {
   "cell_type": "code",
   "execution_count": 30,
   "metadata": {},
   "outputs": [
    {
     "data": {
      "text/html": [
       "<a class=\"ProveItLink\" href=\"__pv_it/lambda_reductions/d173b4164fad18f7c4c51da0c744f7cf7274ed6a0/expr.ipynb\"><img src=\"data:image/png;base64,iVBORw0KGgoAAAANSUhEUgAAAIcAAAAUBAMAAABVOzPUAAAAMFBMVEX////MzMyYmJjc3NyIiIhU\n",
       "VFR2dna6urqqqqpmZmYyMjIiIiIQEBBERETu7u4AAACIO4EmAAAAAXRSTlMAQObYZgAAAfRJREFU\n",
       "OMuNlL9Lw0AUx1/Sn0mbRPwHLLhLQFwUpIIi6uLQLupQpFDFJYiLKFjQxckiIm62iIO4xEEQKggu\n",
       "blLsqENWf5HODsW7d5cf/XHiKyl53/A+d+/HHUC3zdcio8Q6tEgG+ts+gHxtgf5md+olUPL5/IoT\n",
       "1r4FDIiZAHELQK1wwfQg3tfALvw3Cf8HPFevMohR5sKVECJXgqVpvJz1/SKD7PGNS6+OCJIKHGmR\n",
       "+kGuXwyy4a2xlRVBJroy2w5c1ULI5fQZuh9giyBztEGnJ8/0/ZA8TfCFeIVC9B/HxYA18mOQeL1e\n",
       "fwhDXsiza6otTI2k1ABfkKsUkmyDgXnYMC7ayR1pwyMoGBvNQswCX0jaFKJUwS2wimPl+0GeAJQ2\n",
       "pHAt3SaJgy9ILQohY7JXZhXHygsg6Qa4bDrOWNpcYBAjA+cOL9hFB+R9phakQ3Z7xJxx1gAuJDAd\n",
       "wyLZccBhGKLfSO2gsG4ZlpK4O20Q0+ICK2wso9F5xIrjEHkQpSJ5p2qdhGbl2zgbt2UcNS4oBWzx\n",
       "ySoGWazyFKKSFt876XJ0kUN2SD1zU2Oz4ePBBXUAh41Zwj9YJa64pjbi9Iw9scmw8wkhSPgqYJY2\n",
       "hzZ7D2C3Ff+GJHIHx57WFDG8q0AE+delpJn9IQu1Xk14PQ6Tblxbv/KgiTMxSrNnAAAAAElFTkSu\n",
       "QmCC\n",
       "\" style=\"display:inline;vertical-align:middle;\" /></a>"
      ],
      "text/plain": [
       "b and [exists_{a} (a or a)]"
      ]
     },
     "execution_count": 30,
     "metadata": {},
     "output_type": "execute_result"
    }
   ],
   "source": [
    "masking_lambda.apply(b)"
   ]
  },
  {
   "cell_type": "markdown",
   "metadata": {},
   "source": [
    "But note that no relabeling occurs if it is not valid to do so.  Because relabeling is not allowed in the following example, `allow_relabeling=True` gives the same result as we had above with the `allow_relabeling=False` default:"
   ]
  },
  {
   "cell_type": "code",
   "execution_count": 31,
   "metadata": {},
   "outputs": [
    {
     "data": {
      "text/html": [
       "<a class=\"ProveItLink\" href=\"__pv_it/lambda_reductions/ebe223814b9ad08479dc39b9b1e9893455df22210/expr.ipynb\"><img src=\"data:image/png;base64,iVBORw0KGgoAAAANSUhEUgAAALoAAAAUBAMAAADINjpcAAAAMFBMVEX////MzMxUVFR2dna6uroQ\n",
       "EBCqqqqIiIgiIiJmZmYyMjJERETu7u6YmJjc3NwAAACgK8IjAAAAAXRSTlMAQObYZgAAAopJREFU\n",
       "OMuNVTFoE1EY/pLGXOpd4o0ueiFLpYNkOMRsoSCtkw6ig6VkrIuESpW4mKHYUFCkBYuKmIKDOkRx\n",
       "0aX1ECSighm1UwYHLVYqilMt/u/df3fvcrnDP+Tu3nfv++69/33vf0Chh+GR7Yfb2hPzB0UY3U4g\n",
       "by4A7xEXR8PNkSqWS6XStIoZz5LINtDxgZS8mn77Hd/7vnrkm/v7SWQb+Vs+kBbv8vVgsPz4OF79\n",
       "cyLZRi7IY6pIl5wTTPu0C790YtVvJpJtfFX6iiSdVNoP3VFN1uPUC81Eso0GPXTnvlwSChfovyHe\n",
       "dFdRoNWrcAabceqaSOu3yryjkhmoCPV1mkQ5v5hri4nRBKUJyieg7ZClZOdj9GP1461Wa09R18nN\n",
       "mRk8hUpmYFOoXyeaM7KbEenX6kiLARZqd6FTz1kp0cRW3NhzNeBND/egkD1gVqifobFLKbESTdeF\n",
       "Bs7hAKXKgusD6Ydh6vsIeuBgUSV7gMXqkFIibnMSMruwTFYnH0g/xKmfh/EzRGbA4sxASonY4gUc\n",
       "bWOeblPg1eqE1I3VcdPPjPEL2R2V7AFTvKpZ5xo06VT9kDsJvYjn4FXt8BcC9bem5firavxBun1R\n",
       "IXuAXFUyzqnaK65GqSMubbSY+Uu3FbAP5C7x1e/goLchyZEv8KlYVskMrAh1msDrK937vdCmN8Ya\n",
       "wnhrYi9VXT9I9UfkyGmcxRyrZ5qCfXisqpIZWBuoBBTfvQfKvHABCfjViccOYw/rHyKVQCWzhcJV\n",
       "LIhxfKwGVQyhKgbMpH73IlVsMNwqxrs3HDcoeUEFHlSfuNzw1PV+nLpbgYeeHpMNE5Hv+ur/dXps\n",
       "uOqxJ19+8ORbMqOdthPIVxf+AVE5uVctHSB/AAAAAElFTkSuQmCC\n",
       "\" style=\"display:inline;vertical-align:middle;\" /></a>"
      ],
      "text/plain": [
       "(x or y) and [exists_{a} (a or a)]"
      ]
     },
     "execution_count": 31,
     "metadata": {},
     "output_type": "execute_result"
    }
   ],
   "source": [
    "masking_lambda.apply(Or(x, y), allow_relabeling=True)"
   ]
  },
  {
   "cell_type": "code",
   "execution_count": 32,
   "metadata": {},
   "outputs": [],
   "source": [
    "%end lambda_reductions"
   ]
  },
  {
   "cell_type": "markdown",
   "metadata": {},
   "source": [
    "# Next chapter: <a href=\"tutorial04_relabeling.ipynb\">ToDo</a>\n",
    "\n",
    "## <a href=\"tutorial00_introduction.ipynb#contents\">Table of Contents</a>"
   ]
  }
 ],
 "metadata": {
  "kernelspec": {
   "display_name": "Python 3",
   "language": "python",
   "name": "python3"
  },
  "language_info": {
   "codemirror_mode": {
    "name": "ipython",
    "version": 3
   },
   "file_extension": ".py",
   "mimetype": "text/x-python",
   "name": "python",
   "nbconvert_exporter": "python",
   "pygments_lexer": "ipython3",
   "version": "3.7.3"
  }
 },
 "nbformat": 4,
 "nbformat_minor": 1
}
