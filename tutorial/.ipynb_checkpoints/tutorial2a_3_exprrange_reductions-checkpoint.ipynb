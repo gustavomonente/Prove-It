{
 "cells": [
  {
   "cell_type": "markdown",
   "metadata": {},
   "source": [
    "Chapter 2.a.iii.  ExprRange reductions\n",
    "=======\n",
    "\n",
    "As we saw in the previous chapter, an **ExprRange** adds versatility to **Prove-It** by allowing us to define **Lambda** expressions with an indeterminant number of parameters.  Generally, **ExprRange** expressions allow us to form expressions over an indeterminant number of elements.  Basically, an **ExprRange** is how we formalize the concept of using an ellipsis in a mathematical expression.  For example, $a \\cdot (b_1 + \\ldots + b_n) = a \\cdot b_1 + \\ldots + a \\cdot b_n$ (distribution) may be expressed using an **ExprRange** on each side of the equation.  Internally, the **ExprRange** has a *parameter* variable for parameterizing each element of the range.  For the LaTeX display, this *parameter* is hidden by default, as in the above example, and the precise parameterization is implicit.  To avoid ambiguity, it can be important at times to display the explicit parameterization.  For the above example, this would be $a \\cdot (b_1 + ..b_k.. + b_n) = a \\cdot b_1 + ..a \\cdot b_k.. + a \\cdot b_n$, assuming $k$ is the *parameter* in both **ExprRange** instances.\n",
    "\n",
    "There are two kinds of reduction rules that are specific to **ExprRange** expressions that are applied in the process of performing a lambda application (beta reduction).\n",
    "1. *Indexed variable expansions* occur when the **ExprRange** contains one or more **IndexedVar** expressions with an index that is parameterized over the range, and the range of indexed variables is being replaced by an **ExprTuple**.  This falls under two cases.\n",
    "  1. *Parameter dependent expansion* is required whenever the parameter of the **ExprRange** occurs anywhere besides as an index of an indexed variable.  In that case, the indices of the expanded indexed variable must match the original indices.  For example, $1 \\cdot x_1 + \\ldots + n \\cdot x_n$ could be expanded, under $(x_1, \\ldots, x_n) : (a_1, \\ldots, a_j, a_{j+1}, \\ldots, a_n)$ to $1 \\cdot a_1 + \\ldots + j \\cdot a_j + (j+1) \\cdot a_{j+1} + \\ldots + n \\cdot a_n$ assuming $0 \\leq j \\leq n$.  However, an error would occur given $(x_1, \\ldots, x_n) : (a_1, \\ldots, a_j, b_1, \\ldots, b_k)$ as the expansion.\n",
    "  2. *Parameter independent expansion* is allowed otherwise.  In that case, only the lengths of the expansion must match, not the indices themselves.  For example, $x_1 \\cdot y_1 + \\ldots + x_n \\cdot y_n$ could be expanded, under $(x_1, \\ldots, x_n) : (a_1, \\ldots, a_j, b_1, \\ldots, b_k)$, $(y_1, \\ldots, y_n) : (c_1, \\ldots, c_j, d_1, \\ldots, d_k)$ to $a_1 \\cdot c_1 + \\ldots + a_j \\cdot c_j + b_1 \\cdot d_1 + \\ldots + b_k \\cdot d_k$ assuming $j + k = n$.\n",
    "2. *Range reductions* occur when the **ExprRange** is known to be empty or contain only a single element. \n",
    "  1. *Empty range reduction* occurs when the **ExprRange** is known to be empty and may be replaced with zero elements in a containing **ExprTuple**.\n",
    "  2. *Singular element range reduction* occurs when the **ExprRange** is known to contain only a single element and may be replaced with this one element."
   ]
  },
  {
   "cell_type": "code",
   "execution_count": 1,
   "metadata": {},
   "outputs": [],
   "source": [
    "import proveit\n",
    "%begin exprrange_reductions"
   ]
  },
  {
   "cell_type": "markdown",
   "metadata": {},
   "source": [
    "## Creating ExprRange expressions\n",
    "\n",
    "An `ExprRange` may be instantiated with a `parameter`, `body`, `start index`, and `end index`:"
   ]
  },
  {
   "cell_type": "code",
   "execution_count": 2,
   "metadata": {},
   "outputs": [
    {
     "data": {
      "text/html": [
       "<strong id=\"a_prod_range\">a_prod_range:</strong> <a class=\"ProveItLink\" href=\"__pv_it/30547a10018b6c0ceb1acc377df41a4afefd1e710/expr.ipynb\"><img src=\"data:image/png;base64,iVBORw0KGgoAAAANSUhEUgAAAJMAAAAUBAMAAAB7fhJGAAAAMFBMVEX///9UVFTMzMx2dna6uroQ\n",
       "EBCqqqqIiIgiIiJmZmYyMjJERETu7u6YmJjc3NwAAAC+aOQFAAAAAXRSTlMAQObYZgAAAdVJREFU\n",
       "OMuVVDFLw0AUfjVpTGrSdisoQn+BZNNuLoKbDm5W6Q8QG0SR4tIu6iBScHBwsKuL1kkclDhIhQ7J\n",
       "qIvURXSQFoUO0sF3L02jySXFQC6579333b3v7h1A0gb/sw6RzwcHI0rTj05ArBWlpNb9iJR3KOf+\n",
       "wCSotSipRGAiLU0UrcoZPR0l9cRFkSLzkrmPkjrkokh54+YwG66ULEMIpcSiR8f5gaklA0CohkuN\n",
       "sth7bsscII0dIMoNfuZaiY6LC+IiGhjh+xgeHnEVLjykGreJsosLWQGFNphN9KqgjFQOl5ILaIwN\n",
       "J5QC7V8rVSDKEoDSA9lggW8ml8LfkU64VBx9PDVhj/1bNdJbMImCUvE6WFkWqbCmaA6XWgb1k1aY\n",
       "JmgGiIIJWjoUvaGX+IrRCapfIP2e7MyhoO1WAcYl93ipXWGo7WoXYjWvULFLlBwGDa0iuLjYwWpV\n",
       "9L4RZB81gx47KFfwmNa9EuwBUeZxRGbjZdMrQdzZBLNOPnDtq7i27JtO8nfbUxnvFCvMDqRwC+eB\n",
       "2rUALpm8wpGrDiWinPUALnDKecRsZ/uUW86NRK6rRiDQIN//5tHWr11Kk7NJNFgLBmzO1Rcr2S6F\n",
       "cyE///9CRsoPFTB50q+h5OUAAAAASUVORK5CYII=\n",
       "\" style=\"display:inline;vertical-align:middle;\" /></a><br>"
      ],
      "text/plain": [
       "a_prod_range: (a * i), ..(a * k).., (a * j)"
      ]
     },
     "execution_count": 2,
     "metadata": {},
     "output_type": "execute_result"
    }
   ],
   "source": [
    "from proveit import ExprTuple, ExprRange, defaults\n",
    "from proveit.number import Add, Mult, zero, one, two\n",
    "from proveit._common_ import a, b, c, d, i, j, k, m, n, x, y\n",
    "a_prod_range = ExprRange(k, Mult(a, k), i, j)"
   ]
  },
  {
   "cell_type": "code",
   "execution_count": 3,
   "metadata": {},
   "outputs": [
    {
     "data": {
      "text/html": [
       "<a class=\"ProveItLink\" href=\"__pv_it/273f49450ca25e1b56abbd98a7aef618f8f6c1360/expr.ipynb\"><img src=\"data:image/png;base64,iVBORw0KGgoAAAANSUhEUgAAAAoAAAAOBAMAAADkjZCYAAAAMFBMVEX////MzMxUVFSIiIjc3NyY\n",
       "mJh2dna6urqqqqpmZmYyMjIiIiIQEBBERETu7u4AAAA59f8xAAAAAXRSTlMAQObYZgAAAE9JREFU\n",
       "CNdj4LuzgQEIuCaASP4GEFn/AERmgwiGlQytUxj4fjC7f2Xg+GfHF8DAeRIkzK18GUi+L/AvYGCI\n",
       "Z3jfkMCgy8AvkMBwg4F58gMA1VoTUDpQu/EAAAAASUVORK5CYII=\n",
       "\" style=\"display:inline;vertical-align:middle;\" /></a>"
      ],
      "text/plain": [
       "k"
      ]
     },
     "execution_count": 3,
     "metadata": {},
     "output_type": "execute_result"
    }
   ],
   "source": [
    "a_prod_range.parameter"
   ]
  },
  {
   "cell_type": "code",
   "execution_count": 4,
   "metadata": {},
   "outputs": [
    {
     "data": {
      "text/html": [
       "<a class=\"ProveItLink\" href=\"__pv_it/0fbec6ccdf58157366f88cf1e9815781115c1e670/expr.ipynb\"><img src=\"data:image/png;base64,iVBORw0KGgoAAAANSUhEUgAAACUAAAAOBAMAAABa28jFAAAAMFBMVEX///9UVFSqqqrMzMwiIiJE\n",
       "RESYmJgyMjK6urru7u4QEBCIiIh2dnZmZmbc3NwAAABRgo0vAAAAAXRSTlMAQObYZgAAAJhJREFU\n",
       "GNNjYEABU5cwYIJaLGKfMIU4fmKK8TiAKb47t1fCxdgvMOU+YGDoesD+AS42X2FffwID5zIG3gAQ\n",
       "dwKI0J89YRoDA+9PBpYNQB7nd5DYrQsgkiuAYb4BiOEIJraC5OcfYNCHG8f5g+8H2FQGcaYHUDG2\n",
       "D5yfeBgYWDewOfLA1DEGMHwGcjilNz/cARNjVWDYu5MBAE1AJgRQJ9/+AAAAAElFTkSuQmCC\n",
       "\" style=\"display:inline;vertical-align:middle;\" /></a>"
      ],
      "text/plain": [
       "a * k"
      ]
     },
     "execution_count": 4,
     "metadata": {},
     "output_type": "execute_result"
    }
   ],
   "source": [
    "a_prod_range.body"
   ]
  },
  {
   "cell_type": "code",
   "execution_count": 5,
   "metadata": {},
   "outputs": [
    {
     "data": {
      "text/html": [
       "<a class=\"ProveItLink\" href=\"__pv_it/557ab5defdcd46aa58168b08767502985122cd490/expr.ipynb\"><img src=\"data:image/png;base64,iVBORw0KGgoAAAANSUhEUgAAAAcAAAAOBAMAAAARcxsoAAAAKlBMVEX///8yMjKqqqrc3NwQEBC6\n",
       "urp2dnZmZmaIiIju7u6YmJhERERUVFQAAAAIfTrnAAAAAXRSTlMAQObYZgAAADhJREFUCNdjYGA4\n",
       "zQAEpxjQAWd7AwMDG6sDA4MRuwADwwReIJdBdwKQ2AOSvcTGwMB6wQqkdQEDAPwvCSrC7lmiAAAA\n",
       "AElFTkSuQmCC\n",
       "\" style=\"display:inline;vertical-align:middle;\" /></a>"
      ],
      "text/plain": [
       "i"
      ]
     },
     "execution_count": 5,
     "metadata": {},
     "output_type": "execute_result"
    }
   ],
   "source": [
    "a_prod_range.start_index"
   ]
  },
  {
   "cell_type": "code",
   "execution_count": 6,
   "metadata": {},
   "outputs": [
    {
     "data": {
      "text/html": [
       "<a class=\"ProveItLink\" href=\"__pv_it/6a5b5879f51878868f626bf09e4d76392d4779cd0/expr.ipynb\"><img src=\"data:image/png;base64,iVBORw0KGgoAAAANSUhEUgAAAAoAAAASBAMAAACQmVJ4AAAAMFBMVEX////MzMwyMjIiIiJ2dna6\n",
       "urrc3NxmZmZERESIiIhUVFSYmJju7u4QEBCqqqoAAACA8xhiAAAAAXRSTlMAQObYZgAAAE1JREFU\n",
       "CNdjYGBg4LsDJBi4FzBgAydngMgC3g1AFQn8DxgYeBjiD4CEnMHS6iCC5x+I5PsDItkNQCRzAQMD\n",
       "44F8AQaGfId2IJ9rOlA/AHmNDZhMFHq1AAAAAElFTkSuQmCC\n",
       "\" style=\"display:inline;vertical-align:middle;\" /></a>"
      ],
      "text/plain": [
       "j"
      ]
     },
     "execution_count": 6,
     "metadata": {},
     "output_type": "execute_result"
    }
   ],
   "source": [
    "a_prod_range.end_index"
   ]
  },
  {
   "cell_type": "markdown",
   "metadata": {},
   "source": [
    "It's sub-expressions are a **Lambda** expression created from the `parameter` and `body`, the `start_index`, and the `end_index`:"
   ]
  },
  {
   "cell_type": "code",
   "execution_count": 7,
   "metadata": {},
   "outputs": [
    {
     "data": {
      "text/html": [
       "<table><tr><th>&nbsp;</th><th>core type</th><th>sub-expressions</th><th>expression</th></tr>\n",
       "<tr><td>0</td><td>ExprRange</td><td>lambda_map:&nbsp;1<br>start_index:&nbsp;2<br>end_index:&nbsp;3<br></td><td><a class=\"ProveItLink\" href=\"__pv_it/30547a10018b6c0ceb1acc377df41a4afefd1e710/expr.ipynb\"><img src=\"data:image/png;base64,iVBORw0KGgoAAAANSUhEUgAAAJMAAAAUBAMAAAB7fhJGAAAAMFBMVEX///9UVFTMzMx2dna6uroQ\n",
       "EBCqqqqIiIgiIiJmZmYyMjJERETu7u6YmJjc3NwAAAC+aOQFAAAAAXRSTlMAQObYZgAAAdVJREFU\n",
       "OMuVVDFLw0AUfjVpTGrSdisoQn+BZNNuLoKbDm5W6Q8QG0SR4tIu6iBScHBwsKuL1kkclDhIhQ7J\n",
       "qIvURXSQFoUO0sF3L02jySXFQC6579333b3v7h1A0gb/sw6RzwcHI0rTj05ArBWlpNb9iJR3KOf+\n",
       "wCSotSipRGAiLU0UrcoZPR0l9cRFkSLzkrmPkjrkokh54+YwG66ULEMIpcSiR8f5gaklA0CohkuN\n",
       "sth7bsscII0dIMoNfuZaiY6LC+IiGhjh+xgeHnEVLjykGreJsosLWQGFNphN9KqgjFQOl5ILaIwN\n",
       "J5QC7V8rVSDKEoDSA9lggW8ml8LfkU64VBx9PDVhj/1bNdJbMImCUvE6WFkWqbCmaA6XWgb1k1aY\n",
       "JmgGiIIJWjoUvaGX+IrRCapfIP2e7MyhoO1WAcYl93ipXWGo7WoXYjWvULFLlBwGDa0iuLjYwWpV\n",
       "9L4RZB81gx47KFfwmNa9EuwBUeZxRGbjZdMrQdzZBLNOPnDtq7i27JtO8nfbUxnvFCvMDqRwC+eB\n",
       "2rUALpm8wpGrDiWinPUALnDKecRsZ/uUW86NRK6rRiDQIN//5tHWr11Kk7NJNFgLBmzO1Rcr2S6F\n",
       "cyE///9CRsoPFTB50q+h5OUAAAAASUVORK5CYII=\n",
       "\" style=\"display:inline;vertical-align:middle;\" /></a></td></tr>\n",
       "<tr><td>1</td><td>Lambda</td><td>parameter:&nbsp;8<br>body:&nbsp;4<br></td><td><a class=\"ProveItLink\" href=\"__pv_it/56d7224bb96eef2199b67d2b338573d14d959c890/expr.ipynb\"><img src=\"data:image/png;base64,iVBORw0KGgoAAAANSUhEUgAAAF4AAAAUCAMAAAAzz3pWAAAANlBMVEX///8oKCgNDQ3MzMxUVFSI\n",
       "iIjc3NyYmJh2dna6urqqqqpmZmYyMjIiIiIQEBBERETu7u4AAAB0zXpNAAAAAXRSTlMAQObYZgAA\n",
       "AVVJREFUOMudlduagyAMhNmFcD6E93/ZRVAkLV2kXFT7GX6GGYmMbQ6pHhZaWS+YYnhOx7R63mmi\n",
       "8Zl3z/FeLisuGvp2zfYxXa2V3DQNx6/J+LEWXsSGpfiBhrEu8o/1lqqV65RGmjenWVa5SxfNjvLg\n",
       "Wk067SDiB+svmi73WMwCabKaAi1ZLZ1FJpbpPs/enJGmSrg2IyBDNdfLIA0agz1NPapdX3moIDRb\n",
       "WC5Sf39/PBk5m/4stltX4wvQFfteQWi87C8ISDC6TR014aZf+JgqlPcp4p490goeizg5CHwxh/tx\n",
       "tWYOZl1tmFo/0kxgKrc89BxPT2mLFuvJEf5qK+OxI7QSrTg2WvbZ8aRlGZqLbn+P7aviiH5TT2lO\n",
       "s2Tr+wzzk+v4SxDNAgHApQDzVk9pnm+243VTGIMIu91ebTTXs6VtjfRcPvpt+vJz8p2SLz6G6qD/\n",
       "AfFADZJOCE8IAAAAAElFTkSuQmCC\n",
       "\" style=\"display:inline;vertical-align:middle;\" /></a></td></tr>\n",
       "<tr><td>2</td><td>Variable</td><td></td><td><a class=\"ProveItLink\" href=\"__pv_it/557ab5defdcd46aa58168b08767502985122cd490/expr.ipynb\"><img src=\"data:image/png;base64,iVBORw0KGgoAAAANSUhEUgAAAAcAAAAOBAMAAAARcxsoAAAAKlBMVEX///8yMjKqqqrc3NwQEBC6\n",
       "urp2dnZmZmaIiIju7u6YmJhERERUVFQAAAAIfTrnAAAAAXRSTlMAQObYZgAAADhJREFUCNdjYGA4\n",
       "zQAEpxjQAWd7AwMDG6sDA4MRuwADwwReIJdBdwKQ2AOSvcTGwMB6wQqkdQEDAPwvCSrC7lmiAAAA\n",
       "AElFTkSuQmCC\n",
       "\" style=\"display:inline;vertical-align:middle;\" /></a></td></tr>\n",
       "<tr><td>3</td><td>Variable</td><td></td><td><a class=\"ProveItLink\" href=\"__pv_it/6a5b5879f51878868f626bf09e4d76392d4779cd0/expr.ipynb\"><img src=\"data:image/png;base64,iVBORw0KGgoAAAANSUhEUgAAAAoAAAASBAMAAACQmVJ4AAAAMFBMVEX////MzMwyMjIiIiJ2dna6\n",
       "urrc3NxmZmZERESIiIhUVFSYmJju7u4QEBCqqqoAAACA8xhiAAAAAXRSTlMAQObYZgAAAE1JREFU\n",
       "CNdjYGBg4LsDJBi4FzBgAydngMgC3g1AFQn8DxgYeBjiD4CEnMHS6iCC5x+I5PsDItkNQCRzAQMD\n",
       "44F8AQaGfId2IJ9rOlA/AHmNDZhMFHq1AAAAAElFTkSuQmCC\n",
       "\" style=\"display:inline;vertical-align:middle;\" /></a></td></tr>\n",
       "<tr><td>4</td><td>Operation</td><td>operator:&nbsp;5<br>operands:&nbsp;6<br></td><td><a class=\"ProveItLink\" href=\"__pv_it/0fbec6ccdf58157366f88cf1e9815781115c1e670/expr.ipynb\"><img src=\"data:image/png;base64,iVBORw0KGgoAAAANSUhEUgAAACUAAAAOBAMAAABa28jFAAAAMFBMVEX///9UVFSqqqrMzMwiIiJE\n",
       "RESYmJgyMjK6urru7u4QEBCIiIh2dnZmZmbc3NwAAABRgo0vAAAAAXRSTlMAQObYZgAAAJhJREFU\n",
       "GNNjYEABU5cwYIJaLGKfMIU4fmKK8TiAKb47t1fCxdgvMOU+YGDoesD+AS42X2FffwID5zIG3gAQ\n",
       "dwKI0J89YRoDA+9PBpYNQB7nd5DYrQsgkiuAYb4BiOEIJraC5OcfYNCHG8f5g+8H2FQGcaYHUDG2\n",
       "D5yfeBgYWDewOfLA1DEGMHwGcjilNz/cARNjVWDYu5MBAE1AJgRQJ9/+AAAAAElFTkSuQmCC\n",
       "\" style=\"display:inline;vertical-align:middle;\" /></a></td></tr>\n",
       "<tr><td>5</td><td>Literal</td><td></td><td><a class=\"ProveItLink\" href=\"../packages/proveit/number/multiplication/__pv_it/f7a1ed7c35c8c884cf4c236d27cb79bf85638cad0/expr.ipynb\"><img src=\"data:image/png;base64,iVBORw0KGgoAAAANSUhEUgAAAAMAAAADBAMAAACkBqiMAAAAElBMVEX///9UVFQiIiIyMjLu7u4A\n",
       "AACDZsVeAAAAAXRSTlMAQObYZgAAABFJREFUCNdjYGFgcDVgYBIAAAJWAIzwV2E9AAAAAElFTkSu\n",
       "QmCC\n",
       "\" style=\"display:inline;vertical-align:middle;\" /></a></td></tr>\n",
       "<tr><td>6</td><td>ExprTuple</td><td>7, 8</td><td><a class=\"ProveItLink\" href=\"__pv_it/728878c47d004a000cfa556a1d925a6bcbe80d2a0/expr.ipynb\"><img src=\"data:image/png;base64,iVBORw0KGgoAAAANSUhEUgAAACwAAAAUBAMAAAAEg8LyAAAAMFBMVEX///9UVFTMzMx2dna6uroQ\n",
       "EBCqqqqIiIgiIiJmZmYyMjJERETu7u6YmJjc3NwAAAC+aOQFAAAAAXRSTlMAQObYZgAAAQBJREFU\n",
       "GNNjYOC7wIAG2B4AidPIIqcjQKQcEK9DUbkSRJxiYOCdgCL8DUQwFzBwPEAWZfkDInkCGF6gKGZu\n",
       "AFNLGCqBJN/k6TEQYa4JbDeB2i0Z9gI5rg+4PkCEzyfU+QMdfIuhDWhULAPnBohw/vEDZ4FUBkMI\n",
       "AwPnHwaOAojwVIi79EHCrBsYzitAhBurCyDCQEPOGzDkQ0R5vvB9AdEeICvPJzBIgcOBgfcDzzdm\n",
       "BpCVlgwM3AW8jcwM5xcwMDBuYPgEEp4MVM/AI170sISBoweoIIGhsgYovAjJ8zlwv/I0IAWVASII\n",
       "gM7ZB1NSABc+hRQNvIgAA6nEjDTeBwwA1WI/NwU/k/MAAAAASUVORK5CYII=\n",
       "\" style=\"display:inline;vertical-align:middle;\" /></a></td></tr>\n",
       "<tr><td>7</td><td>Variable</td><td></td><td><a class=\"ProveItLink\" href=\"__pv_it/a8d4b3a34d2189508f9082853fbac36935714f280/expr.ipynb\"><img src=\"data:image/png;base64,iVBORw0KGgoAAAANSUhEUgAAAAsAAAAJBAMAAAAWSsseAAAAMFBMVEX///9UVFSqqqrMzMwiIiJE\n",
       "RESYmJgyMjK6urru7u4QEBCIiIh2dnZmZmbc3NwAAABRgo0vAAAAAXRSTlMAQObYZgAAAEdJREFU\n",
       "CNdjYOC7c3slAwND1wP2DwwMnMsYeAMYGHh/MrBsYGDgCmCYb8DAMP8Agz5QxXwFBnGmBwysG9gc\n",
       "eYAqpTc/3MEAAP4BD32xAXDqAAAAAElFTkSuQmCC\n",
       "\" style=\"display:inline;vertical-align:middle;\" /></a></td></tr>\n",
       "<tr><td>8</td><td>Variable</td><td></td><td><a class=\"ProveItLink\" href=\"__pv_it/273f49450ca25e1b56abbd98a7aef618f8f6c1360/expr.ipynb\"><img src=\"data:image/png;base64,iVBORw0KGgoAAAANSUhEUgAAAAoAAAAOBAMAAADkjZCYAAAAMFBMVEX////MzMxUVFSIiIjc3NyY\n",
       "mJh2dna6urqqqqpmZmYyMjIiIiIQEBBERETu7u4AAAA59f8xAAAAAXRSTlMAQObYZgAAAE9JREFU\n",
       "CNdj4LuzgQEIuCaASP4GEFn/AERmgwiGlQytUxj4fjC7f2Xg+GfHF8DAeRIkzK18GUi+L/AvYGCI\n",
       "Z3jfkMCgy8AvkMBwg4F58gMA1VoTUDpQu/EAAAAASUVORK5CYII=\n",
       "\" style=\"display:inline;vertical-align:middle;\" /></a></td></tr>\n",
       "</table>\n"
      ],
      "text/plain": [
       "0. (a * i), ..(a * k).., (a * j)\n",
       "   core type: ExprRange\n",
       "   lambda_map: 1\n",
       "   start_index: 2\n",
       "   end_index: 3\n",
       "1. k -> (a * k)\n",
       "   core type: Lambda\n",
       "   parameter: 8\n",
       "   body: 4\n",
       "2. i\n",
       "   core type: Variable\n",
       "   sub-expressions: \n",
       "3. j\n",
       "   core type: Variable\n",
       "   sub-expressions: \n",
       "4. a * k\n",
       "   core type: Operation\n",
       "   operator: 5\n",
       "   operands: 6\n",
       "5. *\n",
       "   core type: Literal\n",
       "   sub-expressions: \n",
       "6. (a, k)\n",
       "   core type: ExprTuple\n",
       "   sub-expressions: 7, 8\n",
       "7. a\n",
       "   core type: Variable\n",
       "   sub-expressions: \n",
       "8. k\n",
       "   core type: Variable\n",
       "   sub-expressions: "
      ]
     },
     "execution_count": 7,
     "metadata": {},
     "output_type": "execute_result"
    }
   ],
   "source": [
    "a_prod_range.exprInfo()"
   ]
  },
  {
   "cell_type": "markdown",
   "metadata": {},
   "source": [
    "This `lambda_map` may be accessed directly:"
   ]
  },
  {
   "cell_type": "code",
   "execution_count": 8,
   "metadata": {},
   "outputs": [
    {
     "data": {
      "text/html": [
       "<a class=\"ProveItLink\" href=\"__pv_it/56d7224bb96eef2199b67d2b338573d14d959c890/expr.ipynb\"><img src=\"data:image/png;base64,iVBORw0KGgoAAAANSUhEUgAAAF4AAAAUCAMAAAAzz3pWAAAANlBMVEX///8oKCgNDQ3MzMxUVFSI\n",
       "iIjc3NyYmJh2dna6urqqqqpmZmYyMjIiIiIQEBBERETu7u4AAAB0zXpNAAAAAXRSTlMAQObYZgAA\n",
       "AVVJREFUOMudlduagyAMhNmFcD6E93/ZRVAkLV2kXFT7GX6GGYmMbQ6pHhZaWS+YYnhOx7R63mmi\n",
       "8Zl3z/FeLisuGvp2zfYxXa2V3DQNx6/J+LEWXsSGpfiBhrEu8o/1lqqV65RGmjenWVa5SxfNjvLg\n",
       "Wk067SDiB+svmi73WMwCabKaAi1ZLZ1FJpbpPs/enJGmSrg2IyBDNdfLIA0agz1NPapdX3moIDRb\n",
       "WC5Sf39/PBk5m/4stltX4wvQFfteQWi87C8ISDC6TR014aZf+JgqlPcp4p490goeizg5CHwxh/tx\n",
       "tWYOZl1tmFo/0kxgKrc89BxPT2mLFuvJEf5qK+OxI7QSrTg2WvbZ8aRlGZqLbn+P7aviiH5TT2lO\n",
       "s2Tr+wzzk+v4SxDNAgHApQDzVk9pnm+243VTGIMIu91ebTTXs6VtjfRcPvpt+vJz8p2SLz6G6qD/\n",
       "AfFADZJOCE8IAAAAAElFTkSuQmCC\n",
       "\" style=\"display:inline;vertical-align:middle;\" /></a>"
      ],
      "text/plain": [
       "k -> (a * k)"
      ]
     },
     "execution_count": 8,
     "metadata": {},
     "output_type": "execute_result"
    }
   ],
   "source": [
    "a_prod_range.lambda_map"
   ]
  },
  {
   "cell_type": "markdown",
   "metadata": {},
   "source": [
    "You can create the same **ExprRange** by proving `None` for the `parameter` and `body` but suppling the `lambda_map` instead:"
   ]
  },
  {
   "cell_type": "code",
   "execution_count": 9,
   "metadata": {},
   "outputs": [
    {
     "data": {
      "text/html": [
       "<strong id=\"a_prod_range_again\">a_prod_range_again:</strong> <a class=\"ProveItLink\" href=\"__pv_it/30547a10018b6c0ceb1acc377df41a4afefd1e710/expr.ipynb\"><img src=\"data:image/png;base64,iVBORw0KGgoAAAANSUhEUgAAAJMAAAAUBAMAAAB7fhJGAAAAMFBMVEX///9UVFTMzMx2dna6uroQ\n",
       "EBCqqqqIiIgiIiJmZmYyMjJERETu7u6YmJjc3NwAAAC+aOQFAAAAAXRSTlMAQObYZgAAAdVJREFU\n",
       "OMuVVDFLw0AUfjVpTGrSdisoQn+BZNNuLoKbDm5W6Q8QG0SR4tIu6iBScHBwsKuL1kkclDhIhQ7J\n",
       "qIvURXSQFoUO0sF3L02jySXFQC6579333b3v7h1A0gb/sw6RzwcHI0rTj05ArBWlpNb9iJR3KOf+\n",
       "wCSotSipRGAiLU0UrcoZPR0l9cRFkSLzkrmPkjrkokh54+YwG66ULEMIpcSiR8f5gaklA0CohkuN\n",
       "sth7bsscII0dIMoNfuZaiY6LC+IiGhjh+xgeHnEVLjykGreJsosLWQGFNphN9KqgjFQOl5ILaIwN\n",
       "J5QC7V8rVSDKEoDSA9lggW8ml8LfkU64VBx9PDVhj/1bNdJbMImCUvE6WFkWqbCmaA6XWgb1k1aY\n",
       "JmgGiIIJWjoUvaGX+IrRCapfIP2e7MyhoO1WAcYl93ipXWGo7WoXYjWvULFLlBwGDa0iuLjYwWpV\n",
       "9L4RZB81gx47KFfwmNa9EuwBUeZxRGbjZdMrQdzZBLNOPnDtq7i27JtO8nfbUxnvFCvMDqRwC+eB\n",
       "2rUALpm8wpGrDiWinPUALnDKecRsZ/uUW86NRK6rRiDQIN//5tHWr11Kk7NJNFgLBmzO1Rcr2S6F\n",
       "cyE///9CRsoPFTB50q+h5OUAAAAASUVORK5CYII=\n",
       "\" style=\"display:inline;vertical-align:middle;\" /></a><br>"
      ],
      "text/plain": [
       "a_prod_range_again: (a * i), ..(a * k).., (a * j)"
      ]
     },
     "execution_count": 9,
     "metadata": {},
     "output_type": "execute_result"
    }
   ],
   "source": [
    "from proveit import Lambda\n",
    "a_prod_range_again = ExprRange(None, None, i, j, lambda_map=Lambda(k, Mult(a, k)))"
   ]
  },
  {
   "cell_type": "code",
   "execution_count": 10,
   "metadata": {},
   "outputs": [
    {
     "data": {
      "text/plain": [
       "True"
      ]
     },
     "execution_count": 10,
     "metadata": {},
     "output_type": "execute_result"
    }
   ],
   "source": [
    "a_prod_range_again == a_prod_range"
   ]
  },
  {
   "cell_type": "markdown",
   "metadata": {},
   "source": [
    "When **ExprRange**(s) are used as *operands* of an **Operation**, it is typically formatted in a clean manner that reflects that there are an indeterminant number of *operands*:"
   ]
  },
  {
   "cell_type": "code",
   "execution_count": 11,
   "metadata": {},
   "outputs": [
    {
     "data": {
      "text/html": [
       "<strong id=\"add_with_ranges\">add_with_ranges:</strong> <a class=\"ProveItLink\" href=\"__pv_it/66b9b927ac637d085462e212cacd0c8c7041ae990/expr.ipynb\"><img src=\"data:image/png;base64,iVBORw0KGgoAAAANSUhEUgAAAZcAAAAUBAMAAACzG238AAAAMFBMVEX///9UVFTMzMx2dna6uroQ\n",
       "EBCqqqqIiIgiIiJmZmYyMjJERETu7u6YmJjc3NwAAAC+aOQFAAAAAXRSTlMAQObYZgAAArFJREFU\n",
       "WMOtlzFrFEEUgJ/uGXJ7c2e6AyWSHyAkXdDKRrC0sBAxkEa0MocKcl2uUEgXSKEIQpQUZhGJpYWy\n",
       "zUGMB3u2FuFsJI0QjJwgUXwze7u3b2Z2992uW8ztzc43377ZmeENQKMP+nUX2JeFhqlBIa6kVeGf\n",
       "9NqzcGLA7tag4ZYP5/RG1/O50laFv9HrZ0Fssrs1aPgMsKfXbedzpa0Sr69bGi9GE6aV0tvt0a+V\n",
       "Bqel4UMWt6g1mtCK+LTt43a5wVhpEFcpXjlmcV1uMHYr4ge2evcSM5gD++MtijurLC6y5gZjtyLe\n",
       "lpvDxpOb8ai28Q2cdWYwOg3i4Q6WFyjuNtvL2Ryx5gZjtyL+Hu8vD9zDeL5XcI7UN5nB6DRUYQnL\n",
       "LxQPXou/2Ryx5gZjtyL+GONagqocTyHrv1Wxy6lVZjAJGnxZ7KvFfofiKz78SuVMa24wOh1aEb+G\n",
       "cR3DtNQGcmT803h7UgbteN6rG543Y/R50fMeed4LeZugxW8VkVrs8xR/BuIoldOsiUYcq6JDK+L4\n",
       "4NQOBHNyk5gZDWPYLefLJGjojBf7PMW3oTJM5Uxr7pcxaGVFHD9ZsAArY+Kt3EsnmGaUBleu4isU\n",
       "/yMHMptLWjnTzGJFHBdTsAxn4nxKDJ3JNgBCq7/GBvATuv1sjlg5G4DFijjuorVWveNE1ZXD7zgj\n",
       "F8jbqOWgikDz6XQ4X2CDBjML7yCbI9ZRo7GQZ0UcZ4Ro3vv6YJwk4SC6c/RtOlExmqJxtwYNT2Xx\n",
       "kuIf7/chh0tao0axkGdF3Joa7BZPZ9bkmKYuucyEZLd4OrMW4pkpn/BTuu2lpHznGz8SiaaJ9ziJ\n",
       "Zg8KWSX+wZIo8pNxSjeOatKzNyn3P6wKNw86UCt8TGo+T3nT/ONVWavCLUfQ/XIH2HqxY3NJK+L/\n",
       "AFEtLlFHcG9gAAAAAElFTkSuQmCC\n",
       "\" style=\"display:inline;vertical-align:middle;\" /></a><br>"
      ],
      "text/plain": [
       "add_with_ranges: (a * i) + ..(a * k).. + (a * j) + b + (a * i) + ..(a * k).. + (a * j)"
      ]
     },
     "execution_count": 11,
     "metadata": {},
     "output_type": "execute_result"
    }
   ],
   "source": [
    "add_with_ranges = Add(a_prod_range, b, a_prod_range)"
   ]
  },
  {
   "cell_type": "markdown",
   "metadata": {},
   "source": [
    "Note that the *operands* are an **ExprTuple** that contains the **ExprRange**(s):"
   ]
  },
  {
   "cell_type": "code",
   "execution_count": 12,
   "metadata": {},
   "outputs": [
    {
     "data": {
      "text/html": [
       "<table><tr><th>&nbsp;</th><th>core type</th><th>sub-expressions</th><th>expression</th></tr>\n",
       "<tr><td>0</td><td>Operation</td><td>operator:&nbsp;1<br>operands:&nbsp;2<br></td><td><a class=\"ProveItLink\" href=\"__pv_it/66b9b927ac637d085462e212cacd0c8c7041ae990/expr.ipynb\"><img src=\"data:image/png;base64,iVBORw0KGgoAAAANSUhEUgAAAZcAAAAUBAMAAACzG238AAAAMFBMVEX///9UVFTMzMx2dna6uroQ\n",
       "EBCqqqqIiIgiIiJmZmYyMjJERETu7u6YmJjc3NwAAAC+aOQFAAAAAXRSTlMAQObYZgAAArFJREFU\n",
       "WMOtlzFrFEEUgJ/uGXJ7c2e6AyWSHyAkXdDKRrC0sBAxkEa0MocKcl2uUEgXSKEIQpQUZhGJpYWy\n",
       "zUGMB3u2FuFsJI0QjJwgUXwze7u3b2Z2992uW8ztzc43377ZmeENQKMP+nUX2JeFhqlBIa6kVeGf\n",
       "9NqzcGLA7tag4ZYP5/RG1/O50laFv9HrZ0Fssrs1aPgMsKfXbedzpa0Sr69bGi9GE6aV0tvt0a+V\n",
       "Bqel4UMWt6g1mtCK+LTt43a5wVhpEFcpXjlmcV1uMHYr4ge2evcSM5gD++MtijurLC6y5gZjtyLe\n",
       "lpvDxpOb8ai28Q2cdWYwOg3i4Q6WFyjuNtvL2Ryx5gZjtyL+Hu8vD9zDeL5XcI7UN5nB6DRUYQnL\n",
       "LxQPXou/2Ryx5gZjtyL+GONagqocTyHrv1Wxy6lVZjAJGnxZ7KvFfofiKz78SuVMa24wOh1aEb+G\n",
       "cR3DtNQGcmT803h7UgbteN6rG543Y/R50fMeed4LeZugxW8VkVrs8xR/BuIoldOsiUYcq6JDK+L4\n",
       "4NQOBHNyk5gZDWPYLefLJGjojBf7PMW3oTJM5Uxr7pcxaGVFHD9ZsAArY+Kt3EsnmGaUBleu4isU\n",
       "/yMHMptLWjnTzGJFHBdTsAxn4nxKDJ3JNgBCq7/GBvATuv1sjlg5G4DFijjuorVWveNE1ZXD7zgj\n",
       "F8jbqOWgikDz6XQ4X2CDBjML7yCbI9ZRo7GQZ0UcZ4Ro3vv6YJwk4SC6c/RtOlExmqJxtwYNT2Xx\n",
       "kuIf7/chh0tao0axkGdF3Joa7BZPZ9bkmKYuucyEZLd4OrMW4pkpn/BTuu2lpHznGz8SiaaJ9ziJ\n",
       "Zg8KWSX+wZIo8pNxSjeOatKzNyn3P6wKNw86UCt8TGo+T3nT/ONVWavCLUfQ/XIH2HqxY3NJK+L/\n",
       "AFEtLlFHcG9gAAAAAElFTkSuQmCC\n",
       "\" style=\"display:inline;vertical-align:middle;\" /></a></td></tr>\n",
       "<tr><td>1</td><td>Literal</td><td></td><td><a class=\"ProveItLink\" href=\"../packages/proveit/number/addition/__pv_it/65ad7e8aee19b10110d590375ba95a879c4fb7ea0/expr.ipynb\"><img src=\"data:image/png;base64,iVBORw0KGgoAAAANSUhEUgAAAA4AAAAPBAMAAAAmOuNHAAAAHlBMVEX////u7u5UVFQQEBAiIiIy\n",
       "MjJ2dnaIiIiqqqoAAABCN83zAAAAAXRSTlMAQObYZgAAABxJREFUCNdjYECAdlLo1NBQ59DQIJL1\n",
       "AYEgEAMABwsItInrGUMAAAAASUVORK5CYII=\n",
       "\" style=\"display:inline;vertical-align:middle;\" /></a></td></tr>\n",
       "<tr><td>2</td><td>ExprTuple</td><td>4, 3, 4</td><td><a class=\"ProveItLink\" href=\"__pv_it/145f79d851b7729dd17d00a3a613be3b6ab7e0180/expr.ipynb\"><img src=\"data:image/png;base64,iVBORw0KGgoAAAANSUhEUgAAAQwAAAAUBAMAAACKUB7iAAAAMFBMVEX///9UVFTMzMx2dna6uroQ\n",
       "EBCqqqqIiIgiIiJmZmYyMjJERETu7u6YmJjc3NwAAAC+aOQFAAAAAXRSTlMAQObYZgAAAntJREFU\n",
       "SMfFVr9rFEEU/s67LHuXvc11B0okf4CYK73OJmCXFBaCiVwjWIg5/EE4bC6NPyDFQYqEiBjERhCN\n",
       "laRQ1kIWk2LXTgRlbUQLyZGTEySK82b2djc7M9zBFpnizb15b7/35r3vZgawfRzxMAImdtOrJ0b9\n",
       "ep5PuxeU1tzWiDCXHZxk0/P0+uSI35crYn6qTmPUIn8AdhhYJ2tN+5m7km/CDDJiFA4yp2HN4Xvm\n",
       "rbSzk/QJWkzaq2vzUWatptb7R/2WEynubTGXqq2GbHbXtCjJaLCWiMp1vGZyJih1o80V5rTlv4QX\n",
       "sdYZEyT0nln/ZHNtRptGMhqKWGDyE+6wjBZQpJwsWv9W3NR9/87HA5r5lsvBhCjCooPfktlubGiJ\n",
       "EEYTMF84w6/gPMvoACZ1wqMEnAltUx45uEs4fzgaZkUHNmD1JLMVpqYYg2gCxuEMn6Y0xrbgTTHF\n",
       "rIS704yLsPZpXhbqmcGxUejLZkP7/xlEC2E4w6epKV4Ni7HbS201ezC6CT08tv7S/iTzeEUHczga\n",
       "SnRunSOKeg0cNwbHh9XP69LoI7d5Lany8YtIIZm9Rk2XRjIaV4midZZ5s7wcxS50f3KS8NZFP7h4\n",
       "hY+VGJyVnZNpEtsK86ztKxBIOxQt5MAqqwes6vWvN+MrxYe5EraOs4X38B7zfrt0uno2plpb+L2/\n",
       "4SvMuc9iMUbgeCvpaFgn8Vh9mF+Vr1OJuGYn4WeoeK1YlIHvU6Xa6qtN7muaMMecvamEn5JP+eHA\n",
       "p+x9cbXhjYKM8tHhpvS92nbSz1Wl4Q4FtnvjVIUd1bOHnZDyUvr1kGv5ST/l48IfDlx9SJIqcfSP\n",
       "wHKA/7sDxQaTdZVsAAAAAElFTkSuQmCC\n",
       "\" style=\"display:inline;vertical-align:middle;\" /></a></td></tr>\n",
       "<tr><td>3</td><td>Variable</td><td></td><td><a class=\"ProveItLink\" href=\"__pv_it/53e304ff98ebc000dbe3ef224f4637dbafd46ba70/expr.ipynb\"><img src=\"data:image/png;base64,iVBORw0KGgoAAAANSUhEUgAAAAkAAAAOBAMAAAAPuiubAAAALVBMVEX///+YmJjc3NyIiIhUVFR2\n",
       "dna6urqqqqpmZmYyMjIiIiIQEBBERETu7u4AAAALjtrwAAAAAXRSTlMAQObYZgAAAE9JREFUCNdj\n",
       "4D29gAEIOBtAJF8BiMy7ACKjQATDFON2BgbelxfuKTCwv2XgM2DgmMBwLwCkPK+AgU+Aoe8CA18C\n",
       "70YGBhYBHqARvM2BDAwAqXgQspq5HJAAAAAASUVORK5CYII=\n",
       "\" style=\"display:inline;vertical-align:middle;\" /></a></td></tr>\n",
       "<tr><td>4</td><td>ExprRange</td><td>lambda_map:&nbsp;5<br>start_index:&nbsp;6<br>end_index:&nbsp;7<br></td><td><a class=\"ProveItLink\" href=\"__pv_it/30547a10018b6c0ceb1acc377df41a4afefd1e710/expr.ipynb\"><img src=\"data:image/png;base64,iVBORw0KGgoAAAANSUhEUgAAAJMAAAAUBAMAAAB7fhJGAAAAMFBMVEX///9UVFTMzMx2dna6uroQ\n",
       "EBCqqqqIiIgiIiJmZmYyMjJERETu7u6YmJjc3NwAAAC+aOQFAAAAAXRSTlMAQObYZgAAAdVJREFU\n",
       "OMuVVDFLw0AUfjVpTGrSdisoQn+BZNNuLoKbDm5W6Q8QG0SR4tIu6iBScHBwsKuL1kkclDhIhQ7J\n",
       "qIvURXSQFoUO0sF3L02jySXFQC6579333b3v7h1A0gb/sw6RzwcHI0rTj05ArBWlpNb9iJR3KOf+\n",
       "wCSotSipRGAiLU0UrcoZPR0l9cRFkSLzkrmPkjrkokh54+YwG66ULEMIpcSiR8f5gaklA0CohkuN\n",
       "sth7bsscII0dIMoNfuZaiY6LC+IiGhjh+xgeHnEVLjykGreJsosLWQGFNphN9KqgjFQOl5ILaIwN\n",
       "J5QC7V8rVSDKEoDSA9lggW8ml8LfkU64VBx9PDVhj/1bNdJbMImCUvE6WFkWqbCmaA6XWgb1k1aY\n",
       "JmgGiIIJWjoUvaGX+IrRCapfIP2e7MyhoO1WAcYl93ipXWGo7WoXYjWvULFLlBwGDa0iuLjYwWpV\n",
       "9L4RZB81gx47KFfwmNa9EuwBUeZxRGbjZdMrQdzZBLNOPnDtq7i27JtO8nfbUxnvFCvMDqRwC+eB\n",
       "2rUALpm8wpGrDiWinPUALnDKecRsZ/uUW86NRK6rRiDQIN//5tHWr11Kk7NJNFgLBmzO1Rcr2S6F\n",
       "cyE///9CRsoPFTB50q+h5OUAAAAASUVORK5CYII=\n",
       "\" style=\"display:inline;vertical-align:middle;\" /></a></td></tr>\n",
       "<tr><td>5</td><td>Lambda</td><td>parameter:&nbsp;12<br>body:&nbsp;8<br></td><td><a class=\"ProveItLink\" href=\"__pv_it/56d7224bb96eef2199b67d2b338573d14d959c890/expr.ipynb\"><img src=\"data:image/png;base64,iVBORw0KGgoAAAANSUhEUgAAAF4AAAAUCAMAAAAzz3pWAAAANlBMVEX///8oKCgNDQ3MzMxUVFSI\n",
       "iIjc3NyYmJh2dna6urqqqqpmZmYyMjIiIiIQEBBERETu7u4AAAB0zXpNAAAAAXRSTlMAQObYZgAA\n",
       "AVVJREFUOMudlduagyAMhNmFcD6E93/ZRVAkLV2kXFT7GX6GGYmMbQ6pHhZaWS+YYnhOx7R63mmi\n",
       "8Zl3z/FeLisuGvp2zfYxXa2V3DQNx6/J+LEWXsSGpfiBhrEu8o/1lqqV65RGmjenWVa5SxfNjvLg\n",
       "Wk067SDiB+svmi73WMwCabKaAi1ZLZ1FJpbpPs/enJGmSrg2IyBDNdfLIA0agz1NPapdX3moIDRb\n",
       "WC5Sf39/PBk5m/4stltX4wvQFfteQWi87C8ISDC6TR014aZf+JgqlPcp4p490goeizg5CHwxh/tx\n",
       "tWYOZl1tmFo/0kxgKrc89BxPT2mLFuvJEf5qK+OxI7QSrTg2WvbZ8aRlGZqLbn+P7aviiH5TT2lO\n",
       "s2Tr+wzzk+v4SxDNAgHApQDzVk9pnm+243VTGIMIu91ebTTXs6VtjfRcPvpt+vJz8p2SLz6G6qD/\n",
       "AfFADZJOCE8IAAAAAElFTkSuQmCC\n",
       "\" style=\"display:inline;vertical-align:middle;\" /></a></td></tr>\n",
       "<tr><td>6</td><td>Variable</td><td></td><td><a class=\"ProveItLink\" href=\"__pv_it/557ab5defdcd46aa58168b08767502985122cd490/expr.ipynb\"><img src=\"data:image/png;base64,iVBORw0KGgoAAAANSUhEUgAAAAcAAAAOBAMAAAARcxsoAAAAKlBMVEX///8yMjKqqqrc3NwQEBC6\n",
       "urp2dnZmZmaIiIju7u6YmJhERERUVFQAAAAIfTrnAAAAAXRSTlMAQObYZgAAADhJREFUCNdjYGA4\n",
       "zQAEpxjQAWd7AwMDG6sDA4MRuwADwwReIJdBdwKQ2AOSvcTGwMB6wQqkdQEDAPwvCSrC7lmiAAAA\n",
       "AElFTkSuQmCC\n",
       "\" style=\"display:inline;vertical-align:middle;\" /></a></td></tr>\n",
       "<tr><td>7</td><td>Variable</td><td></td><td><a class=\"ProveItLink\" href=\"__pv_it/6a5b5879f51878868f626bf09e4d76392d4779cd0/expr.ipynb\"><img src=\"data:image/png;base64,iVBORw0KGgoAAAANSUhEUgAAAAoAAAASBAMAAACQmVJ4AAAAMFBMVEX////MzMwyMjIiIiJ2dna6\n",
       "urrc3NxmZmZERESIiIhUVFSYmJju7u4QEBCqqqoAAACA8xhiAAAAAXRSTlMAQObYZgAAAE1JREFU\n",
       "CNdjYGBg4LsDJBi4FzBgAydngMgC3g1AFQn8DxgYeBjiD4CEnMHS6iCC5x+I5PsDItkNQCRzAQMD\n",
       "44F8AQaGfId2IJ9rOlA/AHmNDZhMFHq1AAAAAElFTkSuQmCC\n",
       "\" style=\"display:inline;vertical-align:middle;\" /></a></td></tr>\n",
       "<tr><td>8</td><td>Operation</td><td>operator:&nbsp;9<br>operands:&nbsp;10<br></td><td><a class=\"ProveItLink\" href=\"__pv_it/0fbec6ccdf58157366f88cf1e9815781115c1e670/expr.ipynb\"><img src=\"data:image/png;base64,iVBORw0KGgoAAAANSUhEUgAAACUAAAAOBAMAAABa28jFAAAAMFBMVEX///9UVFSqqqrMzMwiIiJE\n",
       "RESYmJgyMjK6urru7u4QEBCIiIh2dnZmZmbc3NwAAABRgo0vAAAAAXRSTlMAQObYZgAAAJhJREFU\n",
       "GNNjYEABU5cwYIJaLGKfMIU4fmKK8TiAKb47t1fCxdgvMOU+YGDoesD+AS42X2FffwID5zIG3gAQ\n",
       "dwKI0J89YRoDA+9PBpYNQB7nd5DYrQsgkiuAYb4BiOEIJraC5OcfYNCHG8f5g+8H2FQGcaYHUDG2\n",
       "D5yfeBgYWDewOfLA1DEGMHwGcjilNz/cARNjVWDYu5MBAE1AJgRQJ9/+AAAAAElFTkSuQmCC\n",
       "\" style=\"display:inline;vertical-align:middle;\" /></a></td></tr>\n",
       "<tr><td>9</td><td>Literal</td><td></td><td><a class=\"ProveItLink\" href=\"../packages/proveit/number/multiplication/__pv_it/f7a1ed7c35c8c884cf4c236d27cb79bf85638cad0/expr.ipynb\"><img src=\"data:image/png;base64,iVBORw0KGgoAAAANSUhEUgAAAAMAAAADBAMAAACkBqiMAAAAElBMVEX///9UVFQiIiIyMjLu7u4A\n",
       "AACDZsVeAAAAAXRSTlMAQObYZgAAABFJREFUCNdjYGFgcDVgYBIAAAJWAIzwV2E9AAAAAElFTkSu\n",
       "QmCC\n",
       "\" style=\"display:inline;vertical-align:middle;\" /></a></td></tr>\n",
       "<tr><td>10</td><td>ExprTuple</td><td>11, 12</td><td><a class=\"ProveItLink\" href=\"__pv_it/728878c47d004a000cfa556a1d925a6bcbe80d2a0/expr.ipynb\"><img src=\"data:image/png;base64,iVBORw0KGgoAAAANSUhEUgAAACwAAAAUBAMAAAAEg8LyAAAAMFBMVEX///9UVFTMzMx2dna6uroQ\n",
       "EBCqqqqIiIgiIiJmZmYyMjJERETu7u6YmJjc3NwAAAC+aOQFAAAAAXRSTlMAQObYZgAAAQBJREFU\n",
       "GNNjYOC7wIAG2B4AidPIIqcjQKQcEK9DUbkSRJxiYOCdgCL8DUQwFzBwPEAWZfkDInkCGF6gKGZu\n",
       "AFNLGCqBJN/k6TEQYa4JbDeB2i0Z9gI5rg+4PkCEzyfU+QMdfIuhDWhULAPnBohw/vEDZ4FUBkMI\n",
       "AwPnHwaOAojwVIi79EHCrBsYzitAhBurCyDCQEPOGzDkQ0R5vvB9AdEeICvPJzBIgcOBgfcDzzdm\n",
       "BpCVlgwM3AW8jcwM5xcwMDBuYPgEEp4MVM/AI170sISBoweoIIGhsgYovAjJ8zlwv/I0IAWVASII\n",
       "gM7ZB1NSABc+hRQNvIgAA6nEjDTeBwwA1WI/NwU/k/MAAAAASUVORK5CYII=\n",
       "\" style=\"display:inline;vertical-align:middle;\" /></a></td></tr>\n",
       "<tr><td>11</td><td>Variable</td><td></td><td><a class=\"ProveItLink\" href=\"__pv_it/a8d4b3a34d2189508f9082853fbac36935714f280/expr.ipynb\"><img src=\"data:image/png;base64,iVBORw0KGgoAAAANSUhEUgAAAAsAAAAJBAMAAAAWSsseAAAAMFBMVEX///9UVFSqqqrMzMwiIiJE\n",
       "RESYmJgyMjK6urru7u4QEBCIiIh2dnZmZmbc3NwAAABRgo0vAAAAAXRSTlMAQObYZgAAAEdJREFU\n",
       "CNdjYOC7c3slAwND1wP2DwwMnMsYeAMYGHh/MrBsYGDgCmCYb8DAMP8Agz5QxXwFBnGmBwysG9gc\n",
       "eYAqpTc/3MEAAP4BD32xAXDqAAAAAElFTkSuQmCC\n",
       "\" style=\"display:inline;vertical-align:middle;\" /></a></td></tr>\n",
       "<tr><td>12</td><td>Variable</td><td></td><td><a class=\"ProveItLink\" href=\"__pv_it/273f49450ca25e1b56abbd98a7aef618f8f6c1360/expr.ipynb\"><img src=\"data:image/png;base64,iVBORw0KGgoAAAANSUhEUgAAAAoAAAAOBAMAAADkjZCYAAAAMFBMVEX////MzMxUVFSIiIjc3NyY\n",
       "mJh2dna6urqqqqpmZmYyMjIiIiIQEBBERETu7u4AAAA59f8xAAAAAXRSTlMAQObYZgAAAE9JREFU\n",
       "CNdj4LuzgQEIuCaASP4GEFn/AERmgwiGlQytUxj4fjC7f2Xg+GfHF8DAeRIkzK18GUi+L/AvYGCI\n",
       "Z3jfkMCgy8AvkMBwg4F58gMA1VoTUDpQu/EAAAAASUVORK5CYII=\n",
       "\" style=\"display:inline;vertical-align:middle;\" /></a></td></tr>\n",
       "</table>\n"
      ],
      "text/plain": [
       "0. (a * i) + ..(a * k).. + (a * j) + b + (a * i) + ..(a * k).. + (a * j)\n",
       "   core type: Operation\n",
       "   operator: 1\n",
       "   operands: 2\n",
       "1. +\n",
       "   core type: Literal\n",
       "   sub-expressions: \n",
       "2. (a * i, ..a * k.., a * j, b, a * i, ..a * k.., a * j)\n",
       "   core type: ExprTuple\n",
       "   sub-expressions: 4, 3, 4\n",
       "3. b\n",
       "   core type: Variable\n",
       "   sub-expressions: \n",
       "4. (a * i), ..(a * k).., (a * j)\n",
       "   core type: ExprRange\n",
       "   lambda_map: 5\n",
       "   start_index: 6\n",
       "   end_index: 7\n",
       "5. k -> (a * k)\n",
       "   core type: Lambda\n",
       "   parameter: 12\n",
       "   body: 8\n",
       "6. i\n",
       "   core type: Variable\n",
       "   sub-expressions: \n",
       "7. j\n",
       "   core type: Variable\n",
       "   sub-expressions: \n",
       "8. a * k\n",
       "   core type: Operation\n",
       "   operator: 9\n",
       "   operands: 10\n",
       "9. *\n",
       "   core type: Literal\n",
       "   sub-expressions: \n",
       "10. (a, k)\n",
       "    core type: ExprTuple\n",
       "    sub-expressions: 11, 12\n",
       "11. a\n",
       "    core type: Variable\n",
       "    sub-expressions: \n",
       "12. k\n",
       "    core type: Variable\n",
       "    sub-expressions: "
      ]
     },
     "execution_count": 12,
     "metadata": {},
     "output_type": "execute_result"
    }
   ],
   "source": [
    "add_with_ranges.exprInfo()"
   ]
  },
  {
   "cell_type": "markdown",
   "metadata": {},
   "source": [
    "For convenience, there is a `varRange` method for creating an **ExprRange** over an indexed variable."
   ]
  },
  {
   "cell_type": "code",
   "execution_count": 13,
   "metadata": {},
   "outputs": [
    {
     "data": {
      "text/html": [
       "<a class=\"ProveItLink\" href=\"__pv_it/efa71956a62cbebe4ed2a1cf91d9d1696b56445b0/expr.ipynb\"><img src=\"data:image/png;base64,iVBORw0KGgoAAAANSUhEUgAAAFoAAAANBAMAAADbDWR+AAAAMFBMVEX///8QEBBmZmaqqqrMzMxE\n",
       "REQyMjIiIiKYmJh2dna6urrc3NxUVFSIiIju7u4AAAA6P00QAAAAAXRSTlMAQObYZgAAANBJREFU\n",
       "KM9jYHh7Z9fNCwz4AJIKvgkctewJDCwBOBVDVYAB5wPOf1wbWJQKcKqGqIDqZGAFGcuFWzVUBRTw\n",
       "X8CvGqoCCvwdCKkGqeDQ8L3EwMD84D4D7wN8qiEqOBY2MG5gWG8Qz7ADYjbfN6Dc+wQkBpiAqNh3\n",
       "nYH/AcObu281GqAuKX/AwMB+AMioYYAy2OsYYCrOMiyEWwdWzfwAwxl2cJYIgyYL3HEg1ZyYjp4A\n",
       "Y3B/YKgygbHV/wBD6S1mWMPDjusAw80GFLkGDNUcqFwAM81EKjwVshUAAAAASUVORK5CYII=\n",
       "\" style=\"display:inline;vertical-align:middle;\" /></a>"
      ],
      "text/plain": [
       "x_{1}, ..x_{_a}.., x_{n}"
      ]
     },
     "execution_count": 13,
     "metadata": {},
     "output_type": "execute_result"
    }
   ],
   "source": [
    "from proveit import varRange, IndexedVar\n",
    "varRange(x, one, n)"
   ]
  },
  {
   "cell_type": "markdown",
   "metadata": {},
   "source": [
    "Because of the `relabeling` freedom of **Lambda** expressions (alpha conversion), this is treated as `__eq__` to any similar **ExprRange** using any `parameter`."
   ]
  },
  {
   "cell_type": "code",
   "execution_count": 14,
   "metadata": {},
   "outputs": [
    {
     "data": {
      "text/plain": [
       "True"
      ]
     },
     "execution_count": 14,
     "metadata": {},
     "output_type": "execute_result"
    }
   ],
   "source": [
    "varRange(x, one, n) == ExprRange(k, IndexedVar(x, k), one, n)"
   ]
  },
  {
   "cell_type": "code",
   "execution_count": 15,
   "metadata": {},
   "outputs": [
    {
     "data": {
      "text/plain": [
       "True"
      ]
     },
     "execution_count": 15,
     "metadata": {},
     "output_type": "execute_result"
    }
   ],
   "source": [
    "varRange(x, one, n) == ExprRange(a, IndexedVar(x, a), one, n)"
   ]
  },
  {
   "cell_type": "markdown",
   "metadata": {},
   "source": [
    "Also note that there are a variety of variable ranges already defined for convenience in `proveit.core_expr_types._common_`:"
   ]
  },
  {
   "cell_type": "code",
   "execution_count": 16,
   "metadata": {},
   "outputs": [],
   "source": [
    "from proveit.core_expr_types._common_ import a_i_to_j, a_1_to_n, x_1_to_n"
   ]
  },
  {
   "cell_type": "code",
   "execution_count": 17,
   "metadata": {},
   "outputs": [
    {
     "data": {
      "text/html": [
       "<a class=\"ProveItLink\" href=\"__pv_it/cf7a5c1e45fa66a6835cc2a3b5087dd55b70775d0/expr.ipynb\"><img src=\"data:image/png;base64,iVBORw0KGgoAAAANSUhEUgAAASUAAAAVBAMAAADyROVdAAAAMFBMVEX///9UVFTMzMx2dna6uroQ\n",
       "EBCqqqqIiIgiIiJmZmYyMjJERETu7u6YmJjc3NwAAAC+aOQFAAAAAXRSTlMAQObYZgAAAqFJREFU\n",
       "SMfNVs9r1EAU/jbZbvdHst1bwIP0IiJCjadSEO1l6Z4qiDerLJ5ElhqtUhcL3YJYkYKFHqxIcfEP\n",
       "0N56EDVVtILg5tiLEsGDBYVYoYLswfmRzWQ3zVQvJe+QvJn3vXlf5r3MPKDoIEkySR8fEkUJKZc8\n",
       "niaLk9YE9MVkccIwkHUTxukt8C1hlJAfRZ28iksPJmSwHvvWyA1bumwPQJs+ODYsddi4+nXK8nV1\n",
       "ES/Iq+zmPTB2uwu34wkfpS/gGaCsxsI5QMgbbFr3gKPxdW3q89mmP9CbuEOmziNHIgzFunA7qn7C\n",
       "HTyC8rARXxEUEJITOGWP48hyrINqq+10p64zDZwFcm1kLcnO9tgf25gnmxHPiQOE2HhOX5X4fUJB\n",
       "7LriUU59q2gNSjj12M9B25Zy4oCw/JZzAgasMCeSu5aJK8BYKc6B27U6z532CxlPxokD9JXDQYEq\n",
       "23txOka+2fcgC5Mab1VxIOOa7VhOzJ5L8yrUdpBqTso4MYBedvr8Eqn1e5iRccrYs+i3fQ9S4yNA\n",
       "wdLn1OK7BrQ/lAEJzZRgxOz4qJb41Bo2SybjRI0CHygM8P0mBmw2Tu8UPHrRV0K4bq/T1Vf4Ae6B\n",
       "nMmQxrUv10lk4C6Zy9IczsF/ZBc6dhQcDlifHjJGGSdqFHimCICBMh9rxkz9k5+7IIDwWqAOGytk\n",
       "ce6RHxR3S+s13cTIvtZEHbphAMtdbZc0dLQzWFK6VqxgjwDc433oDr6skoMimmsz0A4hDMg0uozB\n",
       "UROc/R5uX+xa8RLkAXwPeuK/9KfWT5IzPlqw4ie9hRCguPzTChuDWyLYxxKmnPCKW/cNeQDuQXuV\n",
       "rp4u2nLqQl2LAPToVzvysTQAkwKtpX/sfVPjE/vSFnz+n570+L41Wn8BF8DVOn/6pM4AAAAASUVO\n",
       "RK5CYII=\n",
       "\" style=\"display:inline;vertical-align:middle;\" /></a>"
      ],
      "text/plain": [
       "(a_{i}, ..a_{_a}.., a_{j}, a_{1}, ..a_{_a}.., a_{n}, x_{1}, ..x_{_a}.., x_{n})"
      ]
     },
     "execution_count": 17,
     "metadata": {},
     "output_type": "execute_result"
    }
   ],
   "source": [
    "ExprTuple(a_i_to_j, a_1_to_n, x_1_to_n)"
   ]
  },
  {
   "cell_type": "markdown",
   "metadata": {},
   "source": [
    "### Showing the explicit parameterization\n",
    "\n",
    "Some **ExprRanges** can be ambiguous in the default formatting style.  For example, the following expression are different but have identical default formatting"
   ]
  },
  {
   "cell_type": "code",
   "execution_count": 18,
   "metadata": {},
   "outputs": [
    {
     "data": {
      "text/html": [
       "<strong id=\"range__add1__0_to_n\">range__add1__0_to_n:</strong> <a class=\"ProveItLink\" href=\"__pv_it/ee39f6363378153c0add91ef543421bef79c66610/expr.ipynb\"><img src=\"data:image/png;base64,iVBORw0KGgoAAAANSUhEUgAAAKsAAAAUBAMAAAAAWtCKAAAAMFBMVEX///9UVFTMzMx2dna6uroQ\n",
       "EBCqqqqIiIgiIiJmZmYyMjJERETu7u6YmJjc3NwAAAC+aOQFAAAAAXRSTlMAQObYZgAAAbRJREFU\n",
       "OMudlT9Iw0AUxj+bmKbNH4vgIghOzq2L6NTRUbCjQzcXUbfiINTB4iDSTRCEujh0EDcnpSLFQoUW\n",
       "NxfN6KIVFIVSwZdLW9vmXSoe5F2Oj9+X8N7dO8Cugx/rCBwvUkWAVUDZnmXUESfI1TyXSgI8A05R\n",
       "GbDQVggsBNlG+Y92QCsPawlK22LVm64TLYpzQbYP/ctBUHdgxKC1+lRY7rocZHvA2nbBZ2AsBvWT\n",
       "UaNJuaudDbAlcAuo5aF+MaqSl9uGSVMTr5lD8OAl0IgjxNlaATUzaFsqxgVqDg/myDaP0Dujalm5\n",
       "rZ4GZvQCGtM8mPpNwkKxuFssnnTV0JvcdpTyXqol8QQeTImSaVzJhtliA5gED1ISjHNvNaiqQ5KA\n",
       "I+Db5EEqmf84/K1kWKb9rvDgPE05lAcyH3bVSJxCrdAOZrP3xd189gf9zj0PLtJ0kxnvT1FkonlM\n",
       "u9r9lr7vhhiFnc7LXslLED32VJoHdYc7LGJURFzzt5OS/PB2QKvvKN31LrxWE/fZKkyr8YFX0o4q\n",
       "KmZu+oRbUTN5NxZgVVpsAVp+oT6kjQtQeuk8/vfSIfAHyh6Us0AXjlkAAAAASUVORK5CYII=\n",
       "\" style=\"display:inline;vertical-align:middle;\" /></a><br>"
      ],
      "text/plain": [
       "range__add1__0_to_n: (0 + 1), ..(k + 1).., (n + 1)"
      ]
     },
     "execution_count": 18,
     "metadata": {},
     "output_type": "execute_result"
    }
   ],
   "source": [
    "range__add1__0_to_n = ExprRange(k, Add(k, one), zero, n)"
   ]
  },
  {
   "cell_type": "code",
   "execution_count": 19,
   "metadata": {},
   "outputs": [
    {
     "data": {
      "text/html": [
       "<strong id=\"range__0_plus_1__to__n_plus_1\">range__0_plus_1__to__n_plus_1:</strong> <a class=\"ProveItLink\" href=\"__pv_it/e194f3af101fba8dc1ba82d89b136d09db0feb1a0/expr.ipynb\"><img src=\"data:image/png;base64,iVBORw0KGgoAAAANSUhEUgAAAKsAAAAUBAMAAAAAWtCKAAAAMFBMVEX///9UVFTMzMx2dna6uroQ\n",
       "EBCqqqqIiIgiIiJmZmYyMjJERETu7u6YmJjc3NwAAAC+aOQFAAAAAXRSTlMAQObYZgAAAbRJREFU\n",
       "OMudlT9Iw0AUxj+bmKbNH4vgIghOzq2L6NTRUbCjQzcXUbfiINTB4iDSTRCEujh0EDcnpSLFQoUW\n",
       "NxfN6KIVFIVSwZdLW9vmXSoe5F2Oj9+X8N7dO8Cugx/rCBwvUkWAVUDZnmXUESfI1TyXSgI8A05R\n",
       "GbDQVggsBNlG+Y92QCsPawlK22LVm64TLYpzQbYP/ctBUHdgxKC1+lRY7rocZHvA2nbBZ2AsBvWT\n",
       "UaNJuaudDbAlcAuo5aF+MaqSl9uGSVMTr5lD8OAl0IgjxNlaATUzaFsqxgVqDg/myDaP0Dujalm5\n",
       "rZ4GZvQCGtM8mPpNwkKxuFssnnTV0JvcdpTyXqol8QQeTImSaVzJhtliA5gED1ISjHNvNaiqQ5KA\n",
       "I+Db5EEqmf84/K1kWKb9rvDgPE05lAcyH3bVSJxCrdAOZrP3xd189gf9zj0PLtJ0kxnvT1FkonlM\n",
       "u9r9lr7vhhiFnc7LXslLED32VJoHdYc7LGJURFzzt5OS/PB2QKvvKN31LrxWE/fZKkyr8YFX0o4q\n",
       "KmZu+oRbUTN5NxZgVVpsAVp+oT6kjQtQeuk8/vfSIfAHyh6Us0AXjlkAAAAASUVORK5CYII=\n",
       "\" style=\"display:inline;vertical-align:middle;\" /></a><br>"
      ],
      "text/plain": [
       "range__0_plus_1__to__n_plus_1: (0 + 1), ..k.., (n + 1)"
      ]
     },
     "execution_count": 19,
     "metadata": {},
     "output_type": "execute_result"
    }
   ],
   "source": [
    "range__0_plus_1__to__n_plus_1 = ExprRange(k, k, Add(zero, one), Add(n, one))"
   ]
  },
  {
   "cell_type": "code",
   "execution_count": 20,
   "metadata": {},
   "outputs": [
    {
     "data": {
      "text/plain": [
       "False"
      ]
     },
     "execution_count": 20,
     "metadata": {},
     "output_type": "execute_result"
    }
   ],
   "source": [
    "range__add1__0_to_n==range__0_plus_1__to__n_plus_1"
   ]
  },
  {
   "cell_type": "markdown",
   "metadata": {},
   "source": [
    "We have an alternate *style* for formatting an **ExprRange** without this ambiguity.  This style is called *explicit parameterization*.  In between the first and last of the range, it shows the body of the lambda map of the **ExprRange**."
   ]
  },
  {
   "cell_type": "code",
   "execution_count": 21,
   "metadata": {},
   "outputs": [
    {
     "data": {
      "text/html": [
       "<a class=\"ProveItLink\" href=\"__pv_it/fbe9c2cb04882659c1e2a33d1d565b1c45f6540c0/expr.ipynb\"><img src=\"data:image/png;base64,iVBORw0KGgoAAAANSUhEUgAAAO0AAAAUBAMAAACT/qdtAAAAMFBMVEX///9UVFTMzMx2dna6uroQ\n",
       "EBCqqqqIiIgiIiJmZmYyMjJERETu7u6YmJjc3NwAAAC+aOQFAAAAAXRSTlMAQObYZgAAAnxJREFU\n",
       "SMeVls9rE0EUx7/Jptuk2U2D4rX2P3D1Iu0p4MWbPfQgIpiL1IPY3CT4qx4UEZEt4lGIImL3ILmL\n",
       "siKlxSjNSagHXU96kYYaIpQgvtmNyc7Mm2iXEHZnP/M+k5e38xYotcEfdqSPGWFc0kZ+YCzbAqxr\n",
       "x7jbM/oQwa3TbKyMukqnafTG7AvgGTbVWedD4J0+g2Cs6Zk5S5qGMjgV8VkcsK4PdwHWYNbSYK0H\n",
       "D5PXqqmTCAZ6wxCD+2+O9un7uMJuyzqVzUcolmH3JS/whbzOguolGLm+GguuGFpX2Pusd8h+B6bL\n",
       "yPUYL56qXoJhrfCxpipyBa6M8RJbB7Z85H5x3jnVWxdzfHs7YmJZvoRO0uWJmW/1Gnj2FbDjIct6\n",
       "P6legrFVvX6qzcRy5cIqEuO9rDm/wbO3yesj+5PzXlC9BGN5I/zAxbLlxOaryFbvorRrYBdHeZ4P\n",
       "gltB8HjkPaJ6CcbDJJ9WEDw/EwTlYaxsR0InKnCcLtyOgV2M68pm64r13rxSY2tF98LuINMwsJS6\n",
       "YjO50rwnmTw73VKX9ea0PKPQwHQ75FkqFX3fGFNXbsfpWfi/uprwsBx6PDsX/4z1WcV7Q3gfiK1r\n",
       "T9RwQ3ziByvTxK7qnRSxCt4QFKx4rHYqmHdneVbk8u3lA5C9q+fWaL1PxOkdWkG+LD5x4otV1K/K\n",
       "3sKhvUf0XAtBAubvJWkn/OtHA5uXtu8lqaPE/5gdyvskswfFx2bq/KJ5n/zLutI28z59kfQFS+0L\n",
       "o3WF6at0X/C0vqCzr41tMumDG+khM5zug45YcDEaz7aMtxNJW+n7hiOtcf/R92PW+Ori7us95/M+\n",
       "3nOI/QMva+P0mhnN1wAAAABJRU5ErkJggg==\n",
       "\" style=\"display:inline;vertical-align:middle;\" /></a>"
      ],
      "text/plain": [
       "(0 + 1), ..(k + 1).., (n + 1)"
      ]
     },
     "execution_count": 21,
     "metadata": {},
     "output_type": "execute_result"
    }
   ],
   "source": [
    "range__add1__0_to_n.withExplicitParameterization()"
   ]
  },
  {
   "cell_type": "code",
   "execution_count": 22,
   "metadata": {},
   "outputs": [
    {
     "data": {
      "text/html": [
       "<a class=\"ProveItLink\" href=\"__pv_it/bfbf8bda573a0775cdebb9e2fcbe1e739f8a1fff0/expr.ipynb\"><img src=\"data:image/png;base64,iVBORw0KGgoAAAANSUhEUgAAALMAAAAUBAMAAAA0IxGWAAAAMFBMVEX///9UVFTMzMx2dna6uroQ\n",
       "EBCqqqqIiIgiIiJmZmYyMjJERETu7u6YmJjc3NwAAAC+aOQFAAAAAXRSTlMAQObYZgAAAj1JREFU\n",
       "OMullc9LFGEYx7/urLO77szuYkSHQPc/cOqieVro0k0PXoqgvYRdsr2JoLQdkuggEx06JWNE5BzE\n",
       "S3UIZSIkqWD3FNQhDQK9iEuJgWzR88xIzvvuM3ro4WWY531nPu/zvs8voNCELOYmTpKdxJUJfnwA\n",
       "jJnz0nKfplsv6trEciK6i+1aAp5hXbfwegC817/vcTVdPpd5lXb1ANuFPQrDi2bHD8051U9oo6b9\n",
       "U6yq+meVePj5m3Nteg4C2U3kSzDbChrYILQ1qqFHAlWfE9GwGbYGbJMxJaT3BTSeaughVS3Uj0H3\n",
       "VDAFNFykf0noCxp6ETfnY2qGrv5i39ZUTUIbLlaAXQcpEf1FC4j9zPffMT1PYeu8rll/JLTtYZbQ\n",
       "LlI/JfQNzfPtaSueBNkqUtX7KPyQ0GYdY0cXMuz7d31/4Qg9oKJzl1W9uwLL2oPd4vP7/vMrvl/6\n",
       "h061GE1uNEU3aujsmVc6GmYLXZ5kNaHpQvLLkdaBvqSiG5XdCtQLQc5DsRkI6HSd3diZMrIbN9Co\n",
       "Opobux3cChzZjRxgs1gra+jbjH7IYXHA9no8zqJYdkiPRhhfoHMM22UVnWF0zgkP/XayFyr6wbVF\n",
       "MukJv96jTbIlHi+ReRTgDnjwLJ2Zf//2Sb3r3OmDx5QyZU70mIwrcRxmmxmIJShITvRQ1sPyFJOP\n",
       "cSUqT4ZY3YzO8mQpNlB5wmpizY2K6jtxLZzNJzcLLqrcChIk2lRuQs0TWkG4a2IDs/+ngX0F/gIJ\n",
       "4LFIXxFf0QAAAABJRU5ErkJggg==\n",
       "\" style=\"display:inline;vertical-align:middle;\" /></a>"
      ],
      "text/plain": [
       "(0 + 1), ..k.., (n + 1)"
      ]
     },
     "execution_count": 22,
     "metadata": {},
     "output_type": "execute_result"
    }
   ],
   "source": [
    "range__0_plus_1__to__n_plus_1.withExplicitParameterization()"
   ]
  },
  {
   "cell_type": "markdown",
   "metadata": {},
   "source": [
    "Because it is less compact and not typically necessary, this is not the default style for LaTeX formatting.  However, it is the default for \"string\" formatting that gets used in error messages for the sake of clarity and making the debugging process a little easier."
   ]
  },
  {
   "cell_type": "markdown",
   "metadata": {},
   "source": [
    "### Simple repetitions\n",
    "\n",
    "When an **ExprRange** has a lambda *body* that is independent of its parameter, it requires special formatting to avoid ambiguity.  The simple case in when the start index is $1$."
   ]
  },
  {
   "cell_type": "code",
   "execution_count": 23,
   "metadata": {},
   "outputs": [
    {
     "data": {
      "text/html": [
       "<a class=\"ProveItLink\" href=\"__pv_it/f979610d0aea4f64f54356e6664b8da0b8dafbfa0/expr.ipynb\"><img src=\"data:image/png;base64,iVBORw0KGgoAAAANSUhEUgAAAPkAAAAUBAMAAAC9u4b/AAAAMFBMVEX////MzMxUVFR2dna6uroQ\n",
       "EBCqqqqIiIgiIiJmZmYyMjJERETu7u6YmJjc3NwAAACgK8IjAAAAAXRSTlMAQObYZgAAAqBJREFU\n",
       "SMe1VkFrE0EU/rZN0pjOJvkDkkIv9tBmqQdpLgaLWLyItEUPgrlIEIpdDBR60aIotIguPQgRxRDo\n",
       "IRG192JdBKlSIQHBkEN1EcEeClYM2lIwzswmNpvMTojUZbP7Zr5535d58/bNAMEixNcVHMgl518X\n",
       "ACS9EkaXdSDqcv5n9HfJdKKv0F0ByXSs5BH0SflVA6Q/WkeT9ushMAkc61j9bWuXnN/P5v+pCT0P\n",
       "RC287li93Nol59+EAH1uIhpGIN6huG+3tU/OPytC6XXPRLfhJBod+jqrs9VdmolZwUfD1unx8jDN\n",
       "aGYimdJR3kknlJmSI1/k/C/EqOcHXbKmtNNWdPKbGd77heKY6bmAyTiZB5jpu4tFYJ6n+Fyjk5z/\n",
       "thj199FAOmigJBYQ/M6sAAXGgXPIAtNxbvrO4ozJ1E+a0Bu95PwT+2gsn7+Vz2c5mmZy286PlFSg\n",
       "8q5AH5TdjY1B5ICCYZtK6rHF1P171xxecv4J4X/rMVrV4dtGF1+MgAHfT2ZQ9dAyN8kTK8LVSaxq\n",
       "uKgL+MWRuYygBY8z8jiUQajIRgY0KL9q6nTuzOydQ2SLqutbUCvtI1/nF2aFoqHHask6r4ZpU7PV\n",
       "sQCs1dadmSGKfQlnYZwCBttm3V/+Eda63oRuHh05QufKlAoZ+0Hvb3HE1DBLGRq3SIJWrCWL3LRN\n",
       "7zKOHzYfwKBZt1obz13l/GO0sXgxV3RWg2p1h06RK92xM5TedOjnD+xrebmXABlImciWrtKKxMzg\n",
       "QGrtKbr6rdHS+3htPHeV8/sdO1mysfGGP6ckxS0nr31T9Urryq86MvRdY8PeZbR/V9fQln/Vzdfe\n",
       "YYkuob8hFbdd5fzrbmgvj5kqoT9RHZKpq66ni31+15PPx/98sqL8fwDVgw+2lMVdpgAAAABJRU5E\n",
       "rkJggg==\n",
       "\" style=\"display:inline;vertical-align:middle;\" /></a>"
      ],
      "text/plain": [
       "(1 + 2), ..n repeats.., (1 + 2)"
      ]
     },
     "execution_count": 23,
     "metadata": {},
     "output_type": "execute_result"
    }
   ],
   "source": [
    "ExprRange(k, Add(one, two), one, n)"
   ]
  },
  {
   "cell_type": "markdown",
   "metadata": {},
   "source": [
    "Otherwise, the start and end indices will be provided when the **ExprRange** is formatted."
   ]
  },
  {
   "cell_type": "code",
   "execution_count": 24,
   "metadata": {},
   "outputs": [
    {
     "data": {
      "text/html": [
       "<a class=\"ProveItLink\" href=\"__pv_it/b23ea76b44c07d9f9efa6ce30be0f7e8ccf33dc20/expr.ipynb\"><img src=\"data:image/png;base64,iVBORw0KGgoAAAANSUhEUgAAAQcAAAAUBAMAAABysOUVAAAAMFBMVEX////MzMxUVFR2dna6uroQ\n",
       "EBCqqqqIiIgiIiJmZmYyMjJERETu7u6YmJjc3NwAAACgK8IjAAAAAXRSTlMAQObYZgAAA01JREFU\n",
       "SMe9lk9IFFEcx7+z/5zdHdeFKLrtgkRB1C4ZmF5aOnXToiBDaC9hXVIoEglqUYq62KQW2B/YLCHn\n",
       "kFsEElEORZgVuIc62KHmFHYoNUVMpe392V1nxjcrLdFj9u3Me/P7/T7ze7/f+z0glIW4+Qz8w/bd\n",
       "aeIU7d6JZsZvPQJ22kf3nXNQtF30Dc3mJyUjeEXpfxaGi37rQ/I7rttmo9ibwFubjNTckBBD7GC9\n",
       "xzJWGTU/BQw7Fmkv4Z6HkibvqlCqYwWIFv7n1+FthLvNKuPPlPb4eIm5SWJy10rBSXnFt4HDQC0g\n",
       "U298sUF4U3D9htJoVeRSS0NMlpjrpr6xQxwBYgZeA1MQQARW4JoF7v8VhO+X81woJYIY1hELI5BA\n",
       "hwiCNJlI1FlD4npT3+DZekOpPZ2QBq+1b/W0P+ER1MGUTi72J/GqfTd/e8wSxBWqCIK0qzrcKp47\n",
       "QDTEgU82T0ThvTGR3WxgBPIIps/gIxt3e/i6XSGg3QhyC6rXnPrBrBjCM0eG07jkANFJfifWQASI\n",
       "W7uASDjYiKoMImwr+epPFyDkOKRZlhtGVdIkKifFEDJJIV8Kh1Yh6jXtoqYN8Eyg/oushYhCWgCq\n",
       "4sE06TAdpuN6VVsBIkKMzbElQoM57b2JIoRb0x4c1TSewP10mWfMEGZPsFARQKjwzROITDADYppD\n",
       "oFUvQLQSY8v87T0QQ5g9wUKFQIiXw6fiB7B/LUSce0K1QDxGHqKNeiKfJENYfzlOImTAk3IIzA3A\n",
       "eVFgEgg0ERclzBDKgpvND5BoVCHN85RZwLqBKcVRYdDAZGl4wQYR6qrpISHYS5UtkW4iTS9iWCb+\n",
       "2xjGPXCICIPwzPDqdBOqdIBxUkMrVJRfoGlInG+HmKqp20bCL85c3nNsKGvdrHK5HIG4S+8v6yyI\n",
       "5WgotvxhdDmJUG9dQor93DR60D3cxUsHl3ZVG/hW05ff41Mswzq5AuJy+Lcs3bFtVrncIjEW5tt2\n",
       "sbVYyliKSehllW65uL0yBd2WvdVSlN6wAmZq780PvIC5y0GQ9HzMFhRY6opi+S5SwPDCURMv5WPl\n",
       "QEzHnxbvmYKg4wmJlnLxoYY1jpctB8LVsSqWdTzUoIjneLyr/D/Hu8/AHwX2/Z3/U0xvAAAAAElF\n",
       "TkSuQmCC\n",
       "\" style=\"display:inline;vertical-align:middle;\" /></a>"
      ],
      "text/plain": [
       "(1 + 2), ..from i to j.., (1 + 2)"
      ]
     },
     "execution_count": 24,
     "metadata": {},
     "output_type": "execute_result"
    }
   ],
   "source": [
    "ExprRange(k, Add(one, two), i, j)"
   ]
  },
  {
   "cell_type": "markdown",
   "metadata": {},
   "source": [
    "### Nested ExprRanges\n",
    "\n",
    "**ExprRange**s may be nested to express a range of ranges representing elements of a single **ExprTuple**.  For clarity of the expression, ellipses are doubled to express a range of ranges (or tripled for a range of ranges of ranges, etc.)."
   ]
  },
  {
   "cell_type": "code",
   "execution_count": 25,
   "metadata": {},
   "outputs": [
    {
     "data": {
      "text/html": [
       "<strong id=\"double_nested\">double_nested:</strong> <a class=\"ProveItLink\" href=\"__pv_it/02debfacf4d5bbafe318d0fa671e33158569fe490/expr.ipynb\"><img src=\"data:image/png;base64,iVBORw0KGgoAAAANSUhEUgAAAYMAAAAUBAMAAACdXkxuAAAAMFBMVEX////MzMxUVFR2dna6uroQ\n",
       "EBCqqqqIiIgiIiJmZmYyMjJERETu7u6YmJjc3NwAAACgK8IjAAAAAXRSTlMAQObYZgAAAtpJREFU\n",
       "SMelVzFoFEEU/ckmd3vJ7pnKNoLYCMYljZzVgs2VgikF0wgpgrlOrvJIcYiIHKYQBGEFG5tgZyE5\n",
       "FkGUS3FnI5jCBBuv0ZyQ6ojizJ/dnZvsn8mO+XCz7Nx/f97b+X/3D0B1ADm7B0b7ScyVDqC4UWue\n",
       "FoHECKa7xB/TxmjeG2p2yULCLthHoDHIdJv97sYTD+M2IxmZgs0dCC/VehYStnMznEHPEoOPkzH1\n",
       "O+BdvColvF8+ZuM1U7CvqZdiTqOwArbmCSLIwBghh0mMMXX5TuxP7ILPyX0wMXiSeqk0bhaW4Obz\n",
       "lDMwRnA1uc2YDoGSMBca6qpFSoBXhSUMgZRgjDDUZXUITVKC09EHK3dUCTPLv+4/Y9daYQlNCVIk\n",
       "1GwwN5Z+NBvIdIeU4BvqeX6gSnDm30KfbfNeYQk7EqRI2LPBBO8a3l9k2pYSPCmh1DJk5aqUwHHn\n",
       "3QgOFwDWCktoS1CyqGCwZoGZWn0E1d/IdEVK6EeZhKmRPthsmEnwxlxGP4R9dl0sLGFFgpJFBYNF\n",
       "C4znHYE/QqYTEtwLthJgkw8bAJdtJaSgZNFCElRMaQTTETJtk7UwUzCR0J4D/GF7W7dJpBSk1ELd\n",
       "BlOJ4Nwg5kzPXs5wC0rHjmU5pyCbclYxswFsxAFnii+yBxMSypxcJUhTbpzma3aHL9yylFA9Aif6\n",
       "DLCVFkeGIcB4V5Og1JDBlh6cxxyGcN1f4Ez55j298zprAyuXxi/YB4MXvvs4yXbMPRwexiLJhFfy\n",
       "XWhB9QpLrpeQOEiMCt5MY9YlKDHBIItwAkxi2MT3L8iU/nB/wnE93xDHSYNBNFytzMFk6/pmQRvB\n",
       "gOFM6fZJtHlBbt5J2jzCRJPmnFYHgb5l00YIzG0edDUtLBvzneNHrGfygfSkg+msgTG7YBPBhEGm\n",
       "1FFCkPTzfwz0R56udDD1zIbjiy6CCYNMqQPdN/uDp3/mg6f/PwdPxvQfu+ka3o2oRY0AAAAASUVO\n",
       "RK5CYII=\n",
       "\" style=\"display:inline;vertical-align:middle;\" /></a><br>"
      ],
      "text/plain": [
       "double_nested: (1 * 1), ..(1 * j).., (1 * n), ....(i * 1), ..(i * j).., (i * n)...., (n * 1), ..(n * j).., (n * n)"
      ]
     },
     "execution_count": 25,
     "metadata": {},
     "output_type": "execute_result"
    }
   ],
   "source": [
    "from proveit.number import one\n",
    "double_nested = ExprRange(i, ExprRange(j, Mult(i, j), one, n), one, n)"
   ]
  },
  {
   "cell_type": "code",
   "execution_count": 26,
   "metadata": {},
   "outputs": [
    {
     "data": {
      "text/html": [
       "<a class=\"ProveItLink\" href=\"__pv_it/f0b4ba46ec9c3715f2afa9302f2bd93236f651730/expr.ipynb\"><img src=\"data:image/png;base64,iVBORw0KGgoAAAANSUhEUgAAAZUAAAAUBAMAAAC37r3BAAAAMFBMVEX////MzMxUVFR2dna6uroQ\n",
       "EBCqqqqIiIgiIiJmZmYyMjJERETu7u6YmJjc3NwAAACgK8IjAAAAAXRSTlMAQObYZgAAAxZJREFU\n",
       "SMetlz9oE1Ecx3/20jRJ72ImVwviIlhDl1KngItjwY6CWQQHsd0kU0OHIiIh6CAIwgldXIqbg7Qc\n",
       "gljaIXER6tAEF7vURugUovh7/+7l7v3Ju+oPjrvcvc/v9/2+e+/yHkC5CwAnoES+D7agWDoeQYY4\n",
       "gewZtAxVSsEDPPx3mibz1qwHuptTfXcr2poTMugZqpSC23iU8CJ/d+zp/Qhg3yplm7dK1grdvZQU\n",
       "1USBPUNJ73Sflw7aeHEI8HFhJCVduYEqvTVLVsRYq2Qsuns5TN9gChYzMSyoUgQLxGqLqBuNPe2h\n",
       "Sn/ZkpViPcXLJ3cvLbV/RpMytAxDb5mBx2QeN3VeYMuS9Ri0Xko1Vyu0psaLLYOGYbHFwAaeZtpa\n",
       "L0sWKY2Ul1vzPxr4pr22qxdSk0MJL7YMCpNb+Pn4JVeK4A6eZrtaL98sUnZSXqof1vw/mMR58pOa\n",
       "HEp4sWVQGG/2PXT6TCmCm2Tw16WXSHp5YJGyKb34eFyoP4XyL/wUNV29YE0BiaJUgS2DwlwqhHBa\n",
       "YUoRXMHTdC324g+ll8sWKSvSSwd70vfPIBigp4GrF6wpIFGUKrBlUJioU4MeV4pgygtsZPZSmCO9\n",
       "MoCpMKMXAYmiLl5SzCrANeklPcbG5stttzFGoxjCxW4EuSxjTECJ+ZJrZmFeAfz2mVIE/9Pcn67C\n",
       "alTNOPc5lGnuJ5k7kB958dxfEt/BmXEv60TlCzEs6YwYjv9i3+t16eW0BjeDChSrokHMqDC9IDU5\n",
       "FH9yiYI4gwZWmPIZeOEXphRB/nqgeHX4Os76/N5b7II35PJJxGfEhhikhWd8/LFWLPD396/4h1UR\n",
       "DWImBc/xnKQmh8QwpQpkhiSsZfBG+XqdKUUwXsOoKwM6cvPKfzs8FGsYNfbiBragOQ3rEVMGG0OV\n",
       "7sm1pWHFBp76oAocU2MxbmALz7JONGXwHNaWsEsmVd+wkgb4rPYC9bir7aBQNrAEzamtac5gYeI1\n",
       "v3kvxtSq28fAvBdjtYJJ37CueV9lzGBh5Osw7ZGDc+yRj/55j3x0DoYqRfAv+ZI4SLXMi94AAAAA\n",
       "SUVORK5CYII=\n",
       "\" style=\"display:inline;vertical-align:middle;\" /></a>"
      ],
      "text/plain": [
       "((1 * 1), ..(1 * j).., (1 * n), ....(i * 1), ..(i * j).., (i * n)...., (n * 1), ..(n * j).., (n * n))"
      ]
     },
     "execution_count": 26,
     "metadata": {},
     "output_type": "execute_result"
    }
   ],
   "source": [
    "ExprTuple(double_nested)"
   ]
  },
  {
   "cell_type": "markdown",
   "metadata": {},
   "source": [
    "If $n = 3$, for example, the above **ExprTuple** could expand to $((1 \\cdot 1), (1 \\cdot 2), (1 \\cdot 3), (2 \\cdot 1), (2 \\cdot 2), (2 \\cdot 3), (3 \\cdot 1), (3 \\cdot 2), (3 \\cdot 3))$.\n",
    "\n",
    "Let's now show triple nesting for fun:"
   ]
  },
  {
   "cell_type": "code",
   "execution_count": 27,
   "metadata": {},
   "outputs": [
    {
     "data": {
      "text/html": [
       "<strong id=\"triple_nested\">triple_nested:</strong> <a class=\"ProveItLink\" href=\"__pv_it/0f1978ff8799800406ff4b0565df189e5e85cde80/expr.ipynb\"><img src=\"data:image/png;base64,iVBORw0KGgoAAAANSUhEUgAABEgAAAAUBAMAAABsVhV6AAAAMFBMVEX////MzMxUVFR2dna6uroQ\n",
       "EBCqqqqIiIgiIiJmZmYyMjJERETu7u6YmJjc3NwAAACgK8IjAAAAAXRSTlMAQObYZgAABLdJREFU\n",
       "aN61mj9oFEEUh0cvnpdk90xlG0FsBDXYhFgd2KQUTCmYRrAQtZNUhhRBRCRoIQjCCTY2YmchCYcQ\n",
       "IrFIbARTJMFGGzWCVYji7uyfmdn39r03c+eAcroz336/2Zedyd4q1d5UZGvu0se/K6bdVB6NpTE6\n",
       "XBpfH0/4zT7TsbM94LC8UGb0get1ljwavebGH/bIzdMYnQ/8OXx8fOE0W5COiTfgsBIhbfQq+XOt\n",
       "Z1XOFatDemCdRIzsIkNck648NqC5jdd5hRmE+0A4FLInjmaPgCsGs6735QPgvkJIS4ziJRWdPGey\n",
       "vjt/YKZTH2jcphCfsSFum5THrtAqV5fXqaZB22RgjSRwTMiZuEkmnduQrPRs0z4Y3E8Ia4lRKy2m\n",
       "HWtaY9s7PRBdohAPsSFuW5VfB0BzG6sD0mBtNbBIWruokDNxq1y6ynUGWenZ5nwg3FMI+9m8pL4p\n",
       "rkjUC2rvNM8XyUhHvBOb54uE1PmmBEUi90HgTJFQbJ2OKxIyHusD4Z5CWHuh5vgimSIAR5eIIrl4\n",
       "9utccvdsLEljA1pOEOvM4QahPgA+dP7HnSdUkVDsNF0lkJW1QE+F+2BwLyEXZ4yW+SLZIkRHN4ki\n",
       "mXh7O/qbHBbvFAEtJ4h1lnGDUB8Ab4y+URu7RJFQ7DRdJZCVtUBvhftgcC8hF2eMFk3WyPbumUm4\n",
       "Tq2Ls+gQzTo0e1+1fyW77Hlp7CqtIIh1FnGDUB8AP97qqp9jWNjcm2In6aqBrKwF+nqQD0wbIuTG\n",
       "M0YzJutG13hH+2YSxgnRIx10iGZF0W8V7yXye9LYVVpBEOvM4AahPgDe2+ioHTRs7k2xk3TVQFbW\n",
       "Aj0e5APThgi58YyRNa2tE1ZxL3gXiT0kYzX31OFuYJFktJwg1pnBDUJ9IPyWUqfxsKJrUg1kZ83R\n",
       "40E+SNoQITdeabTI70mmhQsEWKaHu+rYZk8NBS03NkGss4gbhPpA+FOl/kTEnmSIvrtXA9lZc/R0\n",
       "uA8G9xNy45VG/3PjemRC3epN9LNxzQnBG1d3vLcPhF9WzYNGHxvXSiA7a47eCvfB4H5CbrzSSP/G\n",
       "ddfKetS+4vrA43KLsF+sfsWH7DcsOCRrPzvqQjymhieK3s5YAyn/BWg5AdcphxnSFG5Q44MYEP+d\n",
       "wtu/VaP7EQ2bebtsF5mmqwSyshZoJx4lBn0wOAxrzICQizNG6d3t0dWX5feJw6f2n5WnyQ48Tz/e\n",
       "6+UrlV7v9IcH+d0MGZK1hP3lk1IjY0VvM9b5oP9KTwBoOQHXKSFGZxo3qPNxDWrEbHgi2D4zi4bN\n",
       "vF22IRXpXCE7a4F249WJoT4YHAm7oOqEXJwx4p7tJkWnV7UmfIx5Q/hk973pTTR9AgGN1OHTiH3C\n",
       "4HVsabr6eAMOKxZKjWL28WP2lVMDHtArmeA7oknTmzqNkEbqxJKHqTKfMHgdW5quPt6Aw4qFtNEK\n",
       "1yn78noNVpiOM8rfibqmN9HWZDRGZ0XwkyHzCYLXsqXpauMNOqxYSBuxb65kKvAlqDizYN9byUxi\n",
       "rtumjMboCN7DEfoEwWvZ0nS18QYdViykjbh34GKm2tg34LZ9rgZLY3QEb/R5+XjCt/tMx872gMMK\n",
       "Xl9MjP4BaFHp7gGldNQAAAAASUVORK5CYII=\n",
       "\" style=\"display:inline;vertical-align:middle;\" /></a><br>"
      ],
      "text/plain": [
       "triple_nested: (1 * 1 * 1), ..(1 * 1 * k).., (1 * 1 * n), ....(1 * j * 1), ..(1 * j * k).., (1 * j * n)...., (1 * n * 1), ..(1 * n * k).., (1 * n * n), ......(i * 1 * 1), ..(i * 1 * k).., (i * 1 * n), ....(i * j * 1), ..(i * j * k).., (i * j * n)...., (i * n * 1), ..(i * n * k).., (i * n * n)......, (n * 1 * 1), ..(n * 1 * k).., (n * 1 * n), ....(n * j * 1), ..(n * j * k).., (n * j * n)...., (n * n * 1), ..(n * n * k).., (n * n * n)"
      ]
     },
     "execution_count": 27,
     "metadata": {},
     "output_type": "execute_result"
    }
   ],
   "source": [
    "triple_nested = ExprRange(i, ExprRange(j, ExprRange(k, Mult(i, j, k), \n",
    "                                                    one, n), \n",
    "                                       one, n), \n",
    "                          one, n)"
   ]
  },
  {
   "cell_type": "code",
   "execution_count": 28,
   "metadata": {},
   "outputs": [
    {
     "data": {
      "text/html": [
       "<a class=\"ProveItLink\" href=\"__pv_it/2e90f4e658d136e517dbb7be2530845505c1abd30/expr.ipynb\"><img src=\"data:image/png;base64,iVBORw0KGgoAAAANSUhEUgAABHgAAAAUBAMAAAAEpZdCAAAAMFBMVEX////MzMxUVFR2dna6uroQ\n",
       "EBCqqqqIiIgiIiJmZmYyMjJERETu7u6YmJjc3NwAAACgK8IjAAAAAXRSTlMAQObYZgAABOlJREFU\n",
       "aN61mj1oHEcUx5988vkk7Z1VuY0guAnYEW6MXQnSuBRYVQhEjXEqS51RFSGIChdG2IXBYLgEF/EV\n",
       "wp0LI3EYBEESSGkMThEdaeImtgyuhGN8t7u3897NvPdmdlYDgpudmd/838fN7GkGoHUIYqn3QCv/\n",
       "aR08GNUTVUa4LFI0xwHcqYDhATkFs3VIRtnTel3WOiTPIZpRPdGDESqLFtVxcKYXz/CAVG+2DySl\n",
       "bPb/bnVRRv2AOgwadjXKZE9CpGU3LC4Dog0JVyUwysiiZdOpC/sgaQczbMU6xA6GUPwjqpU+pbkB\n",
       "ydffGqtfXflkdKcNteW0ctsxPnv2BnhEXgQGQ3RAHKrqy+UYRJYTIi3Yaf++41y6iA+uslYzDJfi\n",
       "q6Guk5YU74jqpU9pDJLsCH1lmlj+oCGZV6a6DxIiEz0f5IH7TohDlZA8CgPJKpc8jZ5TF/HBjpI8\n",
       "NsOheCfYdVLxj6i6t83DW9CSB57KU7VW9eQRGBxRSZ6MyCePxkCyyiXPW9CTZ3JOTh6b4VDMQ9hg\n",
       "KMnjF1G1PIUVPXmuyVOd2xAQ41fe3X0kMjiiA2Kr4pNHZhBZ5ZJnhdGFfVDbkJPHZmDvf3f535Vl\n",
       "CcKYTZE5JTSidBipGedt6cnzlzzV1KGAqE29gIOexOCIDoitik8emUFklUueLUYX9kGzLSePzcDe\n",
       "n325nHyWIIzZFJlTQiNKh5Gacd66sTrB8rtmqp/kqRqLBtEdRVxotOH9tMTgiA5IrhCp4pNHZhBZ\n",
       "5ZJnndGF3VhflZPHZiDFY4v3oPVBgjBmE+SQEhhRM8yGGOctGKsP2kZ+cmKm+grgeqfzS6fzG5ln\n",
       "+OzsXNEzH4UQ3YM5OOIZwBMdkFzhUFWt0/n9+05npgTDyHJCpN8Yw/4LjC7sxrFjp9UCAylOko/Q\n",
       "PGYhvOsIckgJjGgxzAExzkPJ05hBub9GppLyFCVPPgojlgC+ERkc0QHJFSJV/MqjMLCscivPAqML\n",
       "u3HsWF55bAZWXD+GM20JwplNkDklNKLFMAekcN66/s5zw3/bshGPAf5PJIay5WCIrcpv23IwsKzS\n",
       "25ZTF/bBuL5tjTCw4ok2nD/sChDObILMKaERpcNorXDeKb8ww02of6pFvjAPITEvzCMMLKv0C7NT\n",
       "V+AL8wgDKz47C0vd2fAXZorMKaERpcNorXBe+qvtZ2T1OZw8acNDg003wJNiB02fZT8lGUTrI9Ta\n",
       "f7oZ6S5Pa4jogNiq0hgYQd4MIssBoR9oLQ/8NUYX9sHELLHag4G9/34OrjeneQgXDIrMKWpER3xH\n",
       "h5Gacd5gBXvw47PidHfi4smTYqas4Ve0oM0M97214lm6rHKIfmPr0qKbkX6gNUN0QWxVWQwKQd4M\n",
       "IssFWbOMNbWs/w1GF/bB5DS1WmUQ7/db/3ktQLhgUGROUSM64js6jNSM8xrqGViyGv/PbIERRVSO\n",
       "JyIgZY4nrPJH8PFEECTO7OjjiVX7bM51ADYo+46m7JnHMZrAiCIm3RiGBJG8lvbXHTc809yPYgiQ\n",
       "OLPjIppRtrVO6gH+lP79Cbz7UAXRgxF3JWNbz7J2PCP0SkYlZvtAUspetIEeV4e2A7/bFRB9LjRt\n",
       "xyTPXgWB3KsmG6o22+sy2ICi3YRs6uLVS4vNXmBgqiDqVymDZZGiXyH9uwKGB+QUzPa4htqnfAGG\n",
       "FzdVlxj+rQAAAABJRU5ErkJggg==\n",
       "\" style=\"display:inline;vertical-align:middle;\" /></a>"
      ],
      "text/plain": [
       "(1 * 1 * 1)+..(1 * 1 * k)..+(1 * 1 * n)+....(1 * j * 1)+..(1 * j * k)..+(1 * j * n)....+(1 * n * 1)+..(1 * n * k)..+(1 * n * n) + ......(i * 1 * 1)+..(i * 1 * k)..+(i * 1 * n)+....(i * j * 1)+..(i * j * k)..+(i * j * n)....+(i * n * 1)+..(i * n * k)..+(i * n * n)...... + (n * 1 * 1)+..(n * 1 * k)..+(n * 1 * n)+....(n * j * 1)+..(n * j * k)..+(n * j * n)....+(n * n * 1)+..(n * n * k)..+(n * n * n)"
      ]
     },
     "execution_count": 28,
     "metadata": {},
     "output_type": "execute_result"
    }
   ],
   "source": [
    "Add(triple_nested)"
   ]
  },
  {
   "cell_type": "markdown",
   "metadata": {},
   "source": [
    "The `varRange` function may also be used to make nested ranges of indexed variables by simply supplying multiple start and end indices."
   ]
  },
  {
   "cell_type": "code",
   "execution_count": 29,
   "metadata": {},
   "outputs": [
    {
     "data": {
      "text/html": [
       "<strong id=\"x_111_to_nnn\">x_111_to_nnn:</strong> <a class=\"ProveItLink\" href=\"__pv_it/8f3e11aebddca719315f513f9cba3dfdbf3bba6f0/expr.ipynb\"><img src=\"data:image/png;base64,iVBORw0KGgoAAAANSUhEUgAAA0QAAAAQBAMAAADEwKJhAAAAMFBMVEX///8QEBBmZmaqqqrMzMxE\n",
       "REQyMjIiIiKYmJh2dna6urrc3NxUVFSIiIju7u4AAAA6P00QAAAAAXRSTlMAQObYZgAAA1ZJREFU\n",
       "WMOtV7+LE1EQnvNy5JdJBC0EG7G5s0shWBwcUbhStLFV/4RUHkjURQTFKqWNymFxhYpBEMRCr5dA\n",
       "uEYOzLmtYDCgWHmH2X3zduftzr6dl80Ue2943zfzfTv3djcAk28f90cgjeb4y5tnMG+4st20LbZ3\n",
       "Mafu0rMJzX7lbvmWuNAPeDS6PbduR7ajtsUqL+bUWbqFUPWrR7UBlK6F2WZ4xYSL5/DCfyXACdg6\n",
       "NjPhpraCgb0xDL9yvDhQeiIsVXiCmh6szHilc90gubwaFlIJGz5cF+Hy2TrMLFtb0VC99b2ifuV4\n",
       "h0MRSk9OyFKFJehoBU/AmiLvhNeaTc+hEJfL1rFjgVNtheOQrA2/crxDtJgXi7VKK/vVdbXjMqLS\n",
       "nyIjomzJiKi2oqF6y0fE4R0ilO4yIo4QxrL/HRq+eEQbjSkcmLgHD8dnhbIpu7J2ZS/nNhnasE1E\n",
       "cw3VW4vNHxGHl1tV0rXYRFcxQaVv2zfhA3OKfs2+Lpp/AS86q/1emdY9c0RPTsMZgg8WZhaVMdiV\n",
       "bW9pgD3TjcKFoU21QVq6dp4A7I1VqF+eyOIZq1bp2iOtksFkCSr9OZ6secyIyvdmix7gpbw7u2z5\n",
       "0Bwe7D02T1t90oUjgg+h4aVHFyn2p6/Q8nXPLT+JD+pRbdhG0wJCXLuXamlmUW9dhfpllGfgWauM\n",
       "gEg6ijWrMNKzCNE9AvZdtMGcxcT7Q5GOj2onWHwOewjbUUY2owdN4gmObZDGEES9dRXqd0OMF1qN\n",
       "99GjUcXqNUHQ94gfUT/96Q7siJY6x/odDp/DPgXnSzqrpvH9hDZsg7Sq26+UaKWrUL99MV5oNd5H\n",
       "j0aVqgNB36Pw/6YL9RsAFwHe+0ECzfQn4CReRrgZ6TOUX3Y4vJ1dn8KdC9iTburfCXE90gZpHEHW\n",
       "G6sQv3anJl5mNd7XHkkVu9cEAc2qrdV/o9JJeHd/CJfaQQKVdGsvWsW4Gek1NJ4Ch7eza7uw72FP\n",
       "sqkjrkfbII0jyHpjFeLX7tTEy6zG+9ojqWL3miCgWfIEVn/aQt9tSnKONjjRl8FN3GKlF7PqrD2b\n",
       "sK72B8I6A0Jylz0AJ/o6OIlbrPRiVt21ZxO8xKkTHWdvPtkVcKN74CRusdKLWXXXbhL+A8Ma/oyS\n",
       "QioSAAAAAElFTkSuQmCC\n",
       "\" style=\"display:inline;vertical-align:middle;\" /></a><br>"
      ],
      "text/plain": [
       "x_111_to_nnn: x_{1,1,1}, ..x_{1,1,_c}.., x_{1,1,n}, ....x_{1,_b,1}, ..x_{1,_b,_c}.., x_{1,_b,n}...., x_{1,n,1}, ..x_{1,n,_c}.., x_{1,n,n}, ......x_{_a,1,1}, ..x_{_a,1,_c}.., x_{_a,1,n}, ....x_{_a,_b,1}, ..x_{_a,_b,_c}.., x_{_a,_b,n}...., x_{_a,n,1}, ..x_{_a,n,_c}.., x_{_a,n,n}......, x_{n,1,1}, ..x_{n,1,_c}.., x_{n,1,n}, ....x_{n,_b,1}, ..x_{n,_b,_c}.., x_{n,_b,n}...., x_{n,n,1}, ..x_{n,n,_c}.., x_{n,n,n}"
      ]
     },
     "execution_count": 29,
     "metadata": {},
     "output_type": "execute_result"
    }
   ],
   "source": [
    "x_111_to_nnn = varRange(x, (one, one, one), (n, n, n))"
   ]
  },
  {
   "cell_type": "markdown",
   "metadata": {},
   "source": [
    "Note that multiple indices are implemented by nesting **IndexedVar** expressions:"
   ]
  },
  {
   "cell_type": "code",
   "execution_count": 30,
   "metadata": {},
   "outputs": [
    {
     "data": {
      "text/html": [
       "<table><tr><th>&nbsp;</th><th>core type</th><th>sub-expressions</th><th>expression</th></tr>\n",
       "<tr><td>0</td><td>IndexedVar</td><td>variable:&nbsp;1<br>index:&nbsp;2<br></td><td><a class=\"ProveItLink\" href=\"__pv_it/a89a23adf7d65e15002d04a4207a0050ca9639ff0/expr.ipynb\"><img src=\"data:image/png;base64,iVBORw0KGgoAAAANSUhEUgAAAFMAAAAPBAMAAABq0O6/AAAAMFBMVEX///8QEBBmZmaqqqrMzMxE\n",
       "REQyMjIiIiKYmJh2dna6urrc3NxUVFSIiIju7u4AAAA6P00QAAAAAXRSTlMAQObYZgAAAOhJREFU\n",
       "KM9jYHh7Z9fNCwzEAL4JHLXsCVgkuNLQRTgfcP7j2oDNkEkYpjKwBmC3LxlTiB+HS39jCvk7wJmP\n",
       "7qTA2Sx/7zxAKJp7l4GB+cF9Bl6oGF8Jyz+4JG8drwKcw77AkYFhvUE8ww6oAJMCSwFclvUCByJg\n",
       "VBlYGBje3H2r0QAVYDTgPQCXZVzAhOAIo7v6/QbWPrj7+B8wGuD2IuMG/xUMW6GK2R+0MnDHQWWy\n",
       "GJjgoaukpKTMwHXWVoPB0QDCYTk5gYFFmOERkGPAsOnGPWzhaYDEZsabKJiRY9kar1IOZE4DEhsA\n",
       "vZY3Be67+CEAAAAASUVORK5CYII=\n",
       "\" style=\"display:inline;vertical-align:middle;\" /></a></td></tr>\n",
       "<tr><td>1</td><td>IndexedVar</td><td>variable:&nbsp;3<br>index:&nbsp;4<br></td><td><a class=\"ProveItLink\" href=\"__pv_it/6c3d3b3addfb566ba9d3af2c8eaba35395c8beb70/expr.ipynb\"><img src=\"data:image/png;base64,iVBORw0KGgoAAAANSUhEUgAAADoAAAAPBAMAAABHIsEFAAAAMFBMVEX///8QEBBmZmaqqqrMzMxE\n",
       "REQyMjIiIiKYmJh2dna6urrc3NxUVFSIiIju7u4AAAA6P00QAAAAAXRSTlMAQObYZgAAALNJREFU\n",
       "GNNjYHh7Z9fNCww4AN8Ejlr2BGwyy4CinA84/3FtwCbLqQDUy8AagN1UNgMQyY/DVn6wif4OCEfo\n",
       "HkNw/O+eY2B+cJ+B9wFU4LmD/wO47PUHlxjWG8Qz7IAJKDG4I0yOZWhjeHP3rUYDTECY4Q5CVopB\n",
       "B9Xvvxki3sF5/4CKUYA0y68G7jgop44D5lU+JSUlZQaGNZcvNbAIMzwC8gwYfGZi8yczAz5gjVe2\n",
       "AcEEAIunK8ahPK48AAAAAElFTkSuQmCC\n",
       "\" style=\"display:inline;vertical-align:middle;\" /></a></td></tr>\n",
       "<tr><td>2</td><td>Variable</td><td></td><td><a class=\"ProveItLink\" href=\"__pv_it/c21ed4a033540ea408ed621cf8665c854f97c54f0/expr.ipynb\"><img src=\"data:image/png;base64,iVBORw0KGgoAAAANSUhEUgAAABYAAAAJBAMAAADEGsFGAAAAMFBMVEX///+YmJgQEBBmZmZUVFQy\n",
       "MjKqqqoiIiLc3NzMzMyIiIh2dnbu7u5ERES6uroAAADx9kUGAAAAAXRSTlMAQObYZgAAAD1JREFU\n",
       "CNdjYIAC7lUrYUyOMoarMDb7BgY3GNv+AAMc6CKYPL8RbIaPDAxsMLYJA48lw9u7QHCAgXujFAMA\n",
       "ApgNSWQG1ZwAAAAASUVORK5CYII=\n",
       "\" style=\"display:inline;vertical-align:middle;\" /></a></td></tr>\n",
       "<tr><td>3</td><td>IndexedVar</td><td>variable:&nbsp;5<br>index:&nbsp;6<br></td><td><a class=\"ProveItLink\" href=\"__pv_it/0a3e0087a2f96c5e117eecc855bb9e7d9335eceb0/expr.ipynb\"><img src=\"data:image/png;base64,iVBORw0KGgoAAAANSUhEUgAAACEAAAAMBAMAAAAe+Mm0AAAAMFBMVEX///8QEBBmZmaqqqrMzMxE\n",
       "REQyMjIiIiKYmJh2dna6urrc3NxUVFSIiIju7u4AAAA6P00QAAAAAXRSTlMAQObYZgAAAHZJREFU\n",
       "CNdjYHh7Z9fNCwxIgG8CRy17ArII5wPOf1wbUNQwsAYwoAH+C+gi/g5w5qM7KQwMzA/uM/A+gJpQ\n",
       "wvKPgWG9QTzDDqgSJgWWAgaGN3ffajRARRgNeA+gmvh+A2vfAxQRxg3+K+CuUlJSUmbgOmurwQAA\n",
       "oMsd/IjIHpMAAAAASUVORK5CYII=\n",
       "\" style=\"display:inline;vertical-align:middle;\" /></a></td></tr>\n",
       "<tr><td>4</td><td>Variable</td><td></td><td><a class=\"ProveItLink\" href=\"__pv_it/d8bfd6e94f8838aad3725d5cb99d6c496757d6f60/expr.ipynb\"><img src=\"data:image/png;base64,iVBORw0KGgoAAAANSUhEUgAAABYAAAAOBAMAAADZH/H+AAAALVBMVEX///+YmJjc3NyIiIhUVFR2\n",
       "dnaqqqpmZmYyMjIiIiIQEBDu7u5ERES6uroAAABoIJr/AAAAAXRSTlMAQObYZgAAAFNJREFUCNdj\n",
       "YICAPSsZEKAdif0MweR9jWCzTkCwOZzNE2Dsfd3cj2DsvA0Mj2HsCgbupwjjeeGmPmRgh5v6lmGX\n",
       "AIztyHCcgeHOGSDYwLDdVIABAFm6FqUdmkMbAAAAAElFTkSuQmCC\n",
       "\" style=\"display:inline;vertical-align:middle;\" /></a></td></tr>\n",
       "<tr><td>5</td><td>Variable</td><td></td><td><a class=\"ProveItLink\" href=\"__pv_it/72df168d2bfb4e0140af90912ebf83b13772060b0/expr.ipynb\"><img src=\"data:image/png;base64,iVBORw0KGgoAAAANSUhEUgAAAAsAAAAJBAMAAAAWSsseAAAALVBMVEX///9mZmaqqqrMzMxEREQy\n",
       "MjIiIiKYmJh2dna6urrc3NxUVFSIiIju7u4AAACJHQtQAAAAAXRSTlMAQObYZgAAAEJJREFUCNdj\n",
       "YLhzeuWJAwy8Dew5bAEMHBc43nIuYOBlYHFgAAG+A2DKzgBIMF04x8BzgWGegh/DcgaG22fuiBcw\n",
       "AAATyhBrnyPYZQAAAABJRU5ErkJggg==\n",
       "\" style=\"display:inline;vertical-align:middle;\" /></a></td></tr>\n",
       "<tr><td>6</td><td>Variable</td><td></td><td><a class=\"ProveItLink\" href=\"__pv_it/1e653f789234b245ee7fea7caad998c139d617410/expr.ipynb\"><img src=\"data:image/png;base64,iVBORw0KGgoAAAANSUhEUgAAABgAAAAJBAMAAADa0/H1AAAAMFBMVEX///9UVFSqqqrMzMwiIiKY\n",
       "mJgyMjIQEBCIiIh2dnZmZmbc3Nzu7u5ERES6uroAAACFTSmKAAAAAXRSTlMAQObYZgAAAElJREFU\n",
       "CNdjYICCXbPaD8DYfNUM+TA2w/EAhrVwzvoDDB5wTi0Dz2cYm+cnA9MHOOcTA2OCNox3gyFEYALD\n",
       "27tAcIDhYIe1xAMAoVgVdfU81nAAAAAASUVORK5CYII=\n",
       "\" style=\"display:inline;vertical-align:middle;\" /></a></td></tr>\n",
       "</table>\n"
      ],
      "text/plain": [
       "0. x_{_a,_b,_c}\n",
       "   core type: IndexedVar\n",
       "variable: 1\n",
       "index: 2\n",
       "1. x_{_a,_b}\n",
       "   core type: IndexedVar\n",
       "variable: 3\n",
       "index: 4\n",
       "2. _c\n",
       "   core type: Variable\n",
       "   sub-expressions: \n",
       "3. x_{_a}\n",
       "   core type: IndexedVar\n",
       "variable: 5\n",
       "index: 6\n",
       "4. _b\n",
       "   core type: Variable\n",
       "   sub-expressions: \n",
       "5. x\n",
       "   core type: Variable\n",
       "   sub-expressions: \n",
       "6. _a\n",
       "   core type: Variable\n",
       "   sub-expressions: "
      ]
     },
     "execution_count": 30,
     "metadata": {},
     "output_type": "execute_result"
    }
   ],
   "source": [
    "x_111_to_nnn.body.body.body.exprInfo()"
   ]
  },
  {
   "cell_type": "markdown",
   "metadata": {},
   "source": [
    "## Expanding ExprRanges\n",
    "\n",
    "The **ExprRange** and **IndexedVar** expression types work together in **ExprRange** expansion reduction rule.  Essentially, when a range of indexed variables is instantiated to an **ExprTuple** of elements and those indexed variables are contained within an **ExprRange**, that **ExprRange** must be \"expanded\" to reflect the expansion of the indexed variables."
   ]
  },
  {
   "cell_type": "markdown",
   "metadata": {},
   "source": [
    "### Parameter dependent expansions\n",
    "\n",
    "The more restrictive form of **ExprRange** expansion is when **ExprRange** parameter is used for anything other than indices of indexed variables being expanded.  For example, consider the following lambda expression."
   ]
  },
  {
   "cell_type": "code",
   "execution_count": 31,
   "metadata": {},
   "outputs": [
    {
     "data": {
      "text/html": [
       "<strong id=\"param_dep_lambda_example\">param_dep_lambda_example:</strong> <a class=\"ProveItLink\" href=\"__pv_it/f81a8039fa5963efef5a3c16a7b6e1a8f132377a0/expr.ipynb\"><img src=\"data:image/png;base64,iVBORw0KGgoAAAANSUhEUgAAAWMAAAAUCAMAAABvTKweAAAANlBMVEX///8oKCgNDQ3MzMxUVFR2\n",
       "dna6uroQEBCqqqqIiIgiIiJmZmYyMjJERETu7u6YmJjc3NwAAADtE0dfAAAAAXRSTlMAQObYZgAA\n",
       "AwpJREFUWMPNmdmWrCAMRbmXQQLK8P8/2ygGRaEKHHo1L3FVa7JzGoJEQghxlrw5pGu/F1EuIPWE\n",
       "If1E12DQmom8O1hz9ohyCYm9IfJVcRBmtaN7WWMztt6JKGjlYN4I0zGuioMw0VpN3h4c2u5DlGgN\n",
       "48ybG2EkdC9xqBBdz3mxyr2usRnKv8MhNKIkJNul8THMAxpfFwdhZusUeX+MopxSPksQZUPq0/gY\n",
       "5r7Gd8RBmGBhzdMAMCeAw43pWnXBk5j5FpKngCigv2hcC8T1wxqvJIIz5wA09CSNMMFO8d3E8JCR\n",
       "AqKWGk2v7Ka5i7ysjWVVZRZnRUm2pnGV1Y4Pa7yScDJN4S/Gu46kESZYJaObkAwPGYnghmp9ZY3s\n",
       "XRzZVVljAtNOxBUl2YPGphQoY5XqYY0jCZVRQufpR5ZyzsEOIj00pRkhrmicu8gG9Xj1/9+YDe+3\n",
       "GrqiJJtrbPxYDLRjTWH44lsNi2FNE6T4RCQxIbZYaL6xlHIOdkuIeLilce6iorHKF79Qu23qs8ZE\n",
       "sWKgksZPzWMkkYtjNn5jqWi8LUy6LYWrGicXVlsK294lKrWCjoY014pioIxVvFMrCNGLut4S0540\n",
       "wgS7lnVpCMzCg7ms8d6FFUPwO7gve15+imrd86qsb+15ZODLZDaEtye92/PiK4bwkkw+dUBW7lR2\n",
       "dvXn9BNe7F04A7OHpJBObFmHReja2w5uiSWNy6x5mJJidfSqxiuJW8oxH4mlH1gOSSNMsBHRMAAD\n",
       "2tp8nissn1v9SVfbRbwpd8ECrUjnrpEWp42mh+KcW80GP+pT36vCeg5zWvmselF5YvUdjWNWfmbJ\n",
       "kkaY2ZaOi4lbmrYicRoDXf6DMY5pLD2ns3TL2DQ+hvn1s/Q+aYRZbKntkV40edN7T6HrOtcoJSS9\n",
       "0RNq1UXVekLG9Gp8eqKLJEs66wmR6fi/clp5BvGg2HSELkyueRECt51NR0SZmqfPxvpOb3PqmMj7\n",
       "pPPe5qc2dNM3APsc560e/fSXevTH2fLytyb7O9+a7F/61oQwi/0BPDoo1NcXyrYAAAAASUVORK5C\n",
       "YII=\n",
       "\" style=\"display:inline;vertical-align:middle;\" /></a><br>"
      ],
      "text/plain": [
       "param_dep_lambda_example: (x_{1}, ..x_{_a}.., x_{n}) -> ((1 * x_{1}) + ..(k * x_{k}).. + (n * x_{n}))"
      ]
     },
     "execution_count": 31,
     "metadata": {},
     "output_type": "execute_result"
    }
   ],
   "source": [
    "param_dep_lambda_example = Lambda(x_1_to_n, Add(ExprRange(k, Mult(k, IndexedVar(x, k)), \n",
    "                                                          one, n)))"
   ]
  },
  {
   "cell_type": "markdown",
   "metadata": {},
   "source": [
    "Note that the **ExprRange** parameter on the right appears as a prefactor as well as an index of $x$.  To respect the restrictions of a parameter dependent expansion, in this case, we may only apply this lambda map to an **ExprTuple** with **ExprRanges** whose indices match the original indices.  We demonstrate this below by applying `param_dep_lambda_example` to $a_1, \\ldots, a_j, a_{j+1}, \\ldots, a_n$.  First, we prove a few things in order to meet the necessary *requirements* for the expansion under a set of *assumption*"
   ]
  },
  {
   "cell_type": "code",
   "execution_count": 32,
   "metadata": {},
   "outputs": [
    {
     "data": {
      "text/html": [
       "<strong id=\"defaults.assumptions\">defaults.assumptions:</strong> <a class=\"ProveItLink\" href=\"__pv_it/2373eb3a4efd0f19c34bd73ba72a6a9ff76894530/expr.ipynb\"><img src=\"data:image/png;base64,iVBORw0KGgoAAAANSUhEUgAAAO0AAAAUBAMAAACT/qdtAAAAMFBMVEX////MzMxUVFR2dna6uroQ\n",
       "EBCqqqqIiIgiIiJmZmYyMjJERETu7u6YmJjc3NwAAACgK8IjAAAAAXRSTlMAQObYZgAAAttJREFU\n",
       "SMellk9oE0EUxr/dNGn+7KYhUijoIQFBDxL2oPjnIIFeBA968KZiLuJFbG4l6CFeSiqiOYog5KJg\n",
       "KerBg1orS0Fa2kOCh4oIJXpRCJKI1oOK+GZ2drMzuxuhDmzYmW9+++2bvDezQLaDf7QvkcoV7Khx\n",
       "bIP9XLT948bjpUXELpwRvSfhdOIc9K48tP7rhY1D2+UIP1fm2CM28kaekOnkgbbopLvhTzELMFrK\n",
       "2LJGg4PIQIXMMLMZouvXx6uIi867ESt2WOnvz80CpyOnuzJhSX807xsNHoF+0i4iKQZvjfB9rYB7\n",
       "X+o51APTVJmwzz559zU33g+FdVv4ZusjfNNlGSzljcWgb0AmrMYyZ5anDo25vt1LWkH4jtMfMV36\n",
       "VKsqD1u9Sj+xpgyWEtW86+tBQZmwZeqmcN5xG/rGym+Tbo4B1lLV+KP4NuMkmC0ZLOGgWRW+HhSU\n",
       "CZuj7hZ+cIdhXnVxQJ9y7pMVaJUbyH5Vsrk7UaFaqstgCbpddHyHUFAmjBWpPfabjU4uUHMDWMF9\n",
       "Z268DMP4DpNVh7HAW47d4hTVvDaQwRKMQtrJZw8KkQnjm0OMv2LPH69mTXq+SAygq6WKI3B9e76A\n",
       "sEsTdeRBQZmwOZ6WPD3ifl9sZrx1RqqFiY6t+D6ka6wug/RgsyL2Nw8KyoSxvEK7wid6KUtVhlhv\n",
       "mFdxCzO2JdsaLCecvBqCRbqOC18PCsqEHWX9GSeWOa8s2XvchfFTlEq/jGNmTtmeWU6kLBl84MTZ\n",
       "Zq8zhFSZYSdY/44zvPLU8ddun2W7ONCwnaWkSR83lWVOsSVO5yRwapuCod03eRN+SJUZxvfJefGs\n",
       "6WcNKX0SdvQ+mWQ5sRYBXpbnqvIaPxf2qLXptVjkuaDZ/VzIueA2a/QBzLBX2W+ZZoS+yhMr7Bzs\n",
       "W8+B4Dno5lx1pC3HNrDvXtSETuS5r9c6Ua/E0nx0uBz7n++crZ195xD2F7XW7MSd/9yhAAAAAElF\n",
       "TkSuQmCC\n",
       "\" style=\"display:inline;vertical-align:middle;\" /></a><br>"
      ],
      "text/plain": [
       "defaults.assumptions: (j in Naturals, (n - j) in Naturals, n in Naturals)"
      ]
     },
     "execution_count": 32,
     "metadata": {},
     "output_type": "execute_result"
    }
   ],
   "source": [
    "from proveit import Len\n",
    "from proveit.logic import InSet\n",
    "from proveit.number import Naturals, subtract\n",
    "param_dep_assumptions = [InSet(j, Naturals), InSet(subtract(n, j), Naturals),\n",
    "                         InSet(n, Naturals)]\n",
    "defaults.assumptions = param_dep_assumptions"
   ]
  },
  {
   "cell_type": "code",
   "execution_count": 33,
   "metadata": {},
   "outputs": [
    {
     "data": {
      "text/html": [
       "<strong id=\"a_1_to_n_partition\">a_1_to_n_partition:</strong> <span style=\"font-size:20px;\"><a class=\"ProveItLink\" href=\"__pv_it/15fe2b0129bd6ed03939ee57d8524e01802181af0/expr.ipynb\"><img src=\"data:image/png;base64,iVBORw0KGgoAAAANSUhEUgAAALUAAAAVBAMAAADyYbJ0AAAAMFBMVEX///+IiIi6urrc3NxERETM\n",
       "zMwQEBCqqqpUVFQiIiJ2dnYyMjLu7u5mZmaYmJgAAABN0h6tAAAAAXRSTlMAQObYZgAAArBJREFU\n",
       "OMutlU1oE0EUx/8m2WSz3a4JeLSQgwiKYMB68NRUvRS15FBqKoKh6EVF14sgCI3GHESRgIgEFYNK\n",
       "0YOwKFVoI47goZBD0qMKIaKi4MEi2oIEcb52N7vNRhAfZHa+8ps372sAGC38d1GWCPvo83/dGW4H\n",
       "rcTSAQuhY6w1lvmmk56l+o99BLMrKTF6HQA4S1D0zugv99agnZ4G3rGhVuYnFLybxpUC9GU5eBrA\n",
       "/kKV8E1F2jmgQTuPXLZfLmeTQF70jWawubSEd6zeWJdAtDf7Y6Vise/F/WoWciWeDmbr9vljlVuc\n",
       "vYmUEO/JntgoO8WcXrPZu/r5+YmIi1Ei9d5ZqBMv+9UGoUXN/ksxlsjZ7CHq9oc7kkt+lZMZ2j4W\n",
       "vie2TdJnlAJjz/IRs0Ez2hYrDhv3jIRkj1MFIqNo+EwziFO0/Sq3O2wt9Z6xv/FAylJrpdeb3Mtw\n",
       "2SopSfZN4GDcwkjWy/6AVdqe4/2My8ZVdYp2BmgATFxn18N2fqnJBSqWYOuFAeknGq2kkRKa1NmO\n",
       "hTnWJaEObY9wc59gs5K9iGc80mgEbebqcNNjuEtvHFJcNmaAK2vir2yzw916K9VJpjdLGJXPv+Ar\n",
       "0W62YWYcm7A0+6372Oza2MK7+S42Pkdse/PT9VXhHicTSvR3P+P4EscR62g+dsN0fOnEEM0KaMN2\n",
       "nHB2rOOqyOU5O8lCwxJhFv4OzfrkY88wH70V6WXadzHFJbvie1CGxOJuEahTK1Rn3UL8trh2qIzw\n",
       "NdPHfsOaORHrl7aJHLp7FKLIuOy4XTK2jomct+V8n5y/w6BSqdADkfOOCHYeCvHHriPVwFp1OPyz\n",
       "R63ysmn9HqkeCCpF/K97er0XvyJNrK2xjvD6jXmoQ0EPixH8NlxoBR3LbTQt3qXWv79pRrrPe/kH\n",
       "PHSxsBf3jrsAAAAASUVORK5CYII=\n",
       "\" style=\"display:inline;vertical-align:middle;\" /></a> <a class=\"ProveItLink\" href=\"__pv_it/87f37c59fcc0c4a72d169a229cdeb7df2566186c0/proof.ipynb\" style=\"text-decoration: none\">&#x22A2;&nbsp;</a><a class=\"ProveItLink\" href=\"__pv_it/715dbc5c70c01ca5ff96fc911edd3a7ddd76107a0/expr.ipynb\"><img src=\"data:image/png;base64,iVBORw0KGgoAAAANSUhEUgAAAV0AAAAVBAMAAAAX2iAxAAAAMFBMVEX///9UVFTMzMx2dna6uroQ\n",
       "EBCqqqqIiIgiIiJmZmYyMjJERETu7u6YmJjc3NwAAAC+aOQFAAAAAXRSTlMAQObYZgAAAsdJREFU\n",
       "SMe9VzuI1FAUvfOL80myAwoDW8g2IiLIbCVrNc2AWIiInasMVhayBj/oYJMFWS1kHVjQFRFHwcIp\n",
       "NN1WyljICoKTUhuJhaCgMCpYiIjvk/eSlzd5mbiYV2Ru7pxzz+H9A2C6kKYtTch9hWwa0X6djpPz\n",
       "pJTuZOSXaD9Jx9H7UqrqZeQXaxu9lKT9UuYdZNWQdjlt57yUMquZ+UXan9Jyqq1IwrQz84u0u1hx\n",
       "7faiGvh54eLQDwvRCbStJwISK0ylGKf9DP20veoYYG88pXgSnrLYIAvuwAC3xzisuQyQd5IqVOfo\n",
       "K1WEh+zvZCbTXkHL7gRUHNizrpg3LtxlsRYd/nLHB+Tv2EkVNH+hE0WADrObzGTaxwAqv6FsARyM\n",
       "93t/CNd4V4wjf5ZaDFC0p6rAFemmSjrRnlYb+S05MJpT+j0O+nelXwpQqIYrcEXSagl+I9poPoya\n",
       "cBZUfvUfoI3BuLe7y0vT+fvAnw8UoFD1AZu36CtV1LudZL9RbbTeRh2Y1TyV35+Q6y8ZbbfksfUW\n",
       "ami9UYBKlQJ6h3y/RLFS7E/hN6K9gBiWsVyg/TtCFfRf0QA24G29+eUyzKCNpdKMVMQbHAEQVZHI\n",
       "3whA9+Zpiiq+KdTDfmXtgBloI5d649yHC9Rv+QZ6LOOgzgKceXFpX6MFDWiHtqRgw7EZAEdiBfK4\n",
       "PmQAPJoY4CuikZkdPBoM3AlMHISYXDs4j8l8OCMNSJA5Cmt5gFfx5zEZVbmCFhwUfwTAjCfMBxWT\n",
       "awf3ndP40ZQ4PGOO4eop5X2HbM1yhQKP8kcEwC6+PyQxQ9rP2bF3s4EGypLmO88U63DenXSfrPlD\n",
       "ZK5/syZUgM3g6HYEiSvMbyIzpC3c1w2JYsSYi7uvyxUg+ICpWQJgg/dvIjPQTvk99H4L30M7Pobv\n",
       "RLnDi4Lff9P+n237TuHrZp4MlZmqxF9tYf3FovdVbQAAAABJRU5ErkJggg==\n",
       "\" style=\"display:inline;vertical-align:middle;\" /></a></span><br>"
      ],
      "text/plain": [
       "a_1_to_n_partition: {j in Naturals, (n - j) in Naturals} |- (a_{1}, ..a_{_a}.., a_{n}) = (a_{1}, ..a_{_a}.., a_{j}, a_{j + 1}, ..a_{_a}.., a_{n})"
      ]
     },
     "execution_count": 33,
     "metadata": {},
     "output_type": "execute_result"
    }
   ],
   "source": [
    "a_1_to_n_partition = a_1_to_n.partition(j)"
   ]
  },
  {
   "cell_type": "code",
   "execution_count": 34,
   "metadata": {},
   "outputs": [
    {
     "data": {
      "text/html": [
       "<strong id=\"typical\">typical:</strong> <span style=\"font-size:20px;\"><a class=\"ProveItLink\" href=\"__pv_it/c845b73d477b7648a9700b80ee1f4abcf36920b90/expr.ipynb\"><img src=\"data:image/png;base64,iVBORw0KGgoAAAANSUhEUgAAAEcAAAAVBAMAAADm2O7QAAAAMFBMVEX///+IiIi6urrc3NxERETM\n",
       "zMwQEBCqqqpUVFQiIiJ2dnYyMjLu7u5mZmaYmJgAAABN0h6tAAAAAXRSTlMAQObYZgAAATtJREFU\n",
       "KM9jYGDgu8eAG7BePACieHYx4ANMqSCS7wM2OZ79LnsYuPKTGBhug7hcE7CawPIggoHhPJCxEo8i\n",
       "jqmMAgxsOBTxec6cDVakcqCVgRO7IlbHA1CTTBtOH0BRpNVsKCsAljt9AGadQSFrA0jRMjBvAwPD\n",
       "AhcBns9guWa4mwy4FB6CFL0H8coCGFgLZjMwfwXLOSAUMfRwRAIZ3BcYGEImAwOF5xM0uFizdwMB\n",
       "VNEJhm0gVifQIWoBDAzsH8C2MjAwI5vEuiAMZFIDiAcU593AwP8A7OQEJEUMz1lgbgL5jm0BQ/2B\n",
       "BSDeRbgioAVcJjDfgRTZKzCs5gsA8TgLoIq4QYzbyOGkycBg8RwSsS06kECdnwIKNRzRwrQEEi1w\n",
       "AFGUgDc9QRRhT08IAE5PDARSZhKYYieYxgGFBlAi2GE80wAAAABJRU5ErkJggg==\n",
       "\" style=\"display:inline;vertical-align:middle;\" /></a> <a class=\"ProveItLink\" href=\"__pv_it/72348bf1a5bb0bae164a8c795d1291f78e95a1390/proof.ipynb\" style=\"text-decoration: none\">&#x22A2;&nbsp;</a><a class=\"ProveItLink\" href=\"__pv_it/78eec16f3f301ca08c40f91dee6e0ff48d03957b0/expr.ipynb\"><img src=\"data:image/png;base64,iVBORw0KGgoAAAANSUhEUgAAAPsAAAAVBAMAAAByEoVnAAAAMFBMVEX///9UVFQQEBCqqqoiIiJm\n",
       "ZmYyMjJERESYmJjc3NyIiIi6urp2dnbu7u7MzMwAAAADGpxCAAAAAXRSTlMAQObYZgAAAlxJREFU\n",
       "SMdjeMtANkDXyneBRAOAGk6DGZwNpGhjngCmTqMJ82wAUzOIMMESpgFixnXSnC2Jx3reAiIMYJyA\n",
       "Yn0madZfw2M9G9BkZl0CBvAmIFvPEUCa9TwLcFvfysBw8eBfQiacQraeZQJp1vMq4LbeE+QdgtZf\n",
       "QrZ+CqmJPhun9ZwORFnPtgHJ+qUgfTFR+GMMWcFRnNZzBeC3fo/krKXAqOMJQLK+Aog3TWD7wMDw\n",
       "HLf1EAUQ0Aa3/lgaCKTCrWdvwG/9gfIFvD+BKhKQrHcGRqcGA2sBw9MQ3PENVgAFJjh9z2KA13o+\n",
       "AzcGzn/AvOGAZL02AwPrXwYWYKBswWk9VAEEvMdpPdMGvNbz8v5m4AAGIt8HVOuZChjuP8BnPVQB\n",
       "hdYzMH9gYExAsx4Y+PcPMNgz4LMeoqC1b1UATBlS3CcSG/gMrAkM/A0XGLgdUJPefQMGMWBZjsd6\n",
       "sIJuDQZNlKSH7ntCSY8J6IsLB1CTHjAfsS/gcOQBe4v3G8iyBCgDzgMr4LzlwAAyOgan9eAcxfUX\n",
       "mwlgxvwNDMc4HjCwHkCyHmSp1LqJqyGh6gKsOFkEgAxHBijB4gtTwLiAG1Ti5eG0HhSqrELfIsB6\n",
       "kEwQgBoMtGBiM7DYeYC10AVZz4xZb9vCw+4B64EHDLwO+AtdVD2IZIcw+Ar2KgeUoXmwFBYwxnwG\n",
       "ls0PCFU5aHoQCnBUOQyVUNGp/lIMDLcwcys8w29k4DqBv8Jln4CuBw5u4ahwUZsbmC0fDjR+JRHN\n",
       "DQ7MMEQYzA5rbqwjo7HFAfHgOjRhrgdEN7Y6oRoACL7a9h6W0J0AAAAASUVORK5CYII=\n",
       "\" style=\"display:inline;vertical-align:middle;\" /></a></span><br>"
      ],
      "text/plain": [
       "typical: {n in Naturals} |- |(a_{1}, ..a_{_a}.., a_{n})| = |(1, ..k.., n)|"
      ]
     },
     "execution_count": 34,
     "metadata": {},
     "output_type": "execute_result"
    }
   ],
   "source": [
    "typical = Len(a_1_to_n_partition.lhs).typical_equiv()"
   ]
  },
  {
   "cell_type": "code",
   "execution_count": 35,
   "metadata": {},
   "outputs": [
    {
     "data": {
      "text/html": [
       "<strong id=\"equality\">equality:</strong> <a class=\"ProveItLink\" href=\"__pv_it/0ecb139d4302f27ce3869d739e9b26bfb4489bf50/expr.ipynb\"><img src=\"data:image/png;base64,iVBORw0KGgoAAAANSUhEUgAAAW4AAAAWBAMAAAASimukAAAAMFBMVEX///9UVFQQEBCqqqoiIiJm\n",
       "ZmYyMjJERESYmJjc3NyIiIi6urp2dnbu7u7MzMwAAAADGpxCAAAAAXRSTlMAQObYZgAAAyRJREFU\n",
       "SMfFl01oE0EUx1+aTXa32UlzCjYW7E1Fq0G89KCm6EWlEPGTEnARDBRBe7Q57UEFL3YVBT2IixiE\n",
       "KjEEEbwlh170EkUUe0nRk0IxIoiiFWdnP2c3u7P1sA5kP4b3f++XmTdvZ2AV4m/Zrqdj3RCr8JLc\n",
       "b8dEPEmuUtPTbUCICttBUjUFRILmYuJOqCHc76J4GHVzp9WYuJEcwj2Lf7u6DA9v3dyXY0vtF8Hc\n",
       "QhnQ2CYWt6S5uA/Gxv06mJvTJ32BxY3GHW6xFBt3uhnIfROicMM5h3u4jC+3lu6Ha2gDsTIzERXW\n",
       "pZTKgdz1cO5M587iDL4vOdw8LkCZrXABV9bgwmIYQHrFeG2p6T6+nbdrMlNJmiBb3FKVtLLNfTGc\n",
       "W+Jr0MOpdMXh5oo48RQ4CdnjwRlDDHABNdNsC6R00qKFzVYa9bcUON77w7k/cjLcw4O22+Eewn5O\n",
       "d+EQHprg6IaB1VJrwGlWUSaDGk2Z7Qdybwvn7vaasIDvX2juzYD+hEY3DKw2NAc9M2OAZ3C7lf/O\n",
       "DfsA8jQ3zhP0G5L9sOimwfJR47XX1v2gepHNbSiFU5/rlpk7v3NR8wROAPxAAE+pdYm+QUKeDItu\n",
       "GJSfmdxFyCfVVEaOwE2UQksZUt3r0jfejHUJ2yG5JlHrUi9ONbiUa5PoPewafQfzYr8RA6R2jC5e\n",
       "E6YkeC/l3Ny2rf7gUd59ACOYKdUO5CYF7knXE9Z+E3+BJF8DqDjcesxXi58KTfLETeOuKTAvnE52\n",
       "oGsZ6KOiG6BC4/ojMlP56plqVaGVRORRFqBlldHB3HoCHNl5ViEaInYgpgmkuKFoVl7vd57M9h7/\n",
       "7tGZvZ+UwYhK5UmYcgdUsgBvGN95TzSrOY5RadC+ipTXtr/mO1v+ccrgg11PWEqxD4f3svZV3mh2\n",
       "aw/eV/HmXxWPfdUAaT7Zsv00jD82LoOHFjdTmcnBYyV8Hzvvi2YPsjZ4H0udGwT/33UOIrxGGdTs\n",
       "8WYqwRkgxrnBf+xxOZ43BY11ndM23nDnXuL5BMXNbleNSVvxdDcin9ME1SWI3sZGqVNXh3gR/8PR\n",
       "+i/PjR923EABWwAAAABJRU5ErkJggg==\n",
       "\" style=\"display:inline;vertical-align:middle;\" /></a><br>"
      ],
      "text/plain": [
       "equality: |(a_{1}, ..a_{_a}.., a_{j}, a_{j + 1}, ..a_{_a}.., a_{n})| = |(1, ..k.., n)|"
      ]
     },
     "execution_count": 35,
     "metadata": {},
     "output_type": "execute_result"
    }
   ],
   "source": [
    "from proveit.logic import Equals\n",
    "equality = Equals(Len(a_1_to_n_partition.rhs), typical.rhs)"
   ]
  },
  {
   "cell_type": "code",
   "execution_count": 36,
   "metadata": {},
   "outputs": [
    {
     "data": {
      "text/html": [
       "<span style=\"font-size:20px;\"><a class=\"ProveItLink\" href=\"__pv_it/5c9da1edf20f102f7fde18dfd8cbb9e347db6cde0/expr.ipynb\"><img src=\"data:image/png;base64,iVBORw0KGgoAAAANSUhEUgAAAPMAAAAVBAMAAABhxcWTAAAAMFBMVEX///+IiIi6urrc3NxERETM\n",
       "zMwQEBCqqqpUVFQiIiJ2dnYyMjLu7u5mZmaYmJgAAABN0h6tAAAAAXRSTlMAQObYZgAAAu1JREFU\n",
       "SMe9Vk1oE0EUfmaz3c1muybgtZCDCIJgQD14aopeRC05iKYiGEQvKhovglBoNOZQFAmISFExqAR7\n",
       "EBalCm3FLXgQckh7VKFERBQ8tIi2oEGcv53d2ckk0IMDmczsN9/75ufNvAcAzjL876IvefjPnu07\n",
       "UmurECO7Me3YGVw7q8TGeQFq/jzoQWMtQ3tvFQYue1ARv9hv9s+DdfGUghDAH3HXqpEJlMVBo3oZ\n",
       "7FXWeaGw9A3NMfIp3i4AtJSr5fB0IB0tk/k0QJG2nUX1zlkpsW/e2ZSCAeVwDsvSzoGpe6Rx7ZCZ\n",
       "B4YkehyoXRSJ5lavCglpmARL0vqIx1qVgj3vS+/t5TDPRaK5p9z0JGkZDqQXtlDv8pWhYqQKvvQQ\n",
       "8sinu9JL0QWnc6h+JhLN7CW9zKQDkgw3SM9F1eIAuT+Bv1bgkZNi0qNofvERaEX2fRAuoPo7CEQz\n",
       "a2U+MemAJMMr5Ibk0VFkN5dwOxeSNr0qk74LcCzhwnBelP4M66i+AgLRzMJNc4y2A5IMJ5HrHrmN\n",
       "9w524i3Rz82hwqTtcpK5ELqGXitDJ9rEI+ZmcNOLdVB9EgQisv0OXlIeJ3WDJ9HV2EbmRY5dC68a\n",
       "juuBNEwA3JAuVs2X1sLL0utHWccndYGT+B0xyffXBCmGpZ1Sjm84fn3+2hFpvGmwXSQi2/A1zjqc\n",
       "JMMrfO72OkECJ66i3+McdzM4C0bHiki3StzNOBG9BmDtZh1OkuEGlzY69PEo+WNeYRd2oeXS+6P9\n",
       "AMv9EpGewP7xQSQmS2S19h8Ik6Jw+F4PUme2r++gQ8bW0IptFxL36Z7GaqDdKkWk3+NqRiDqD08D\n",
       "edinvDBJgkPSCfZMx56wh9Qv4z0e0gfYaK070fDEIBm1S6WLoHvRO8tLXRk+Tmi/uoQP7v19AvY0\n",
       "i9fD9cOq6EAs7+uWPvyOL4IcNP2y0EeaxGuYBXNIlYY46lTh6rJqVri0+2QpNJkw+uZm6gTJ2ViC\n",
       "RHKzfyhd59in+qZoAAAAAElFTkSuQmCC\n",
       "\" style=\"display:inline;vertical-align:middle;\" /></a> <a class=\"ProveItLink\" href=\"__pv_it/ab8559f99a94ae45569722ab63612387e554c9be0/proof.ipynb\" style=\"text-decoration: none\">&#x22A2;&nbsp;</a><a class=\"ProveItLink\" href=\"__pv_it/1d3ea89c21e3b854454c8ca41c8d275804bf5c130/expr.ipynb\"><img src=\"data:image/png;base64,iVBORw0KGgoAAAANSUhEUgAAAW4AAAAWBAMAAAASimukAAAAMFBMVEX///9UVFQQEBCqqqoiIiJm\n",
       "ZmYyMjJERESYmJjc3NyIiIi6urp2dnbu7u7MzMwAAAADGpxCAAAAAXRSTlMAQObYZgAAAyRJREFU\n",
       "SMfFl01oE0EUx1+aTXa32UlzCjYW7E1Fq0G89KCm6EWlEPGTEnARDBRBe7Q57UEFL3YVBT2IixiE\n",
       "KjEEEbwlh170EkUUe0nRk0IxIoiiFWdnP2c3u7P1sA5kP4b3f++XmTdvZ2AV4m/Zrqdj3RCr8JLc\n",
       "b8dEPEmuUtPTbUCICttBUjUFRILmYuJOqCHc76J4GHVzp9WYuJEcwj2Lf7u6DA9v3dyXY0vtF8Hc\n",
       "QhnQ2CYWt6S5uA/Gxv06mJvTJ32BxY3GHW6xFBt3uhnIfROicMM5h3u4jC+3lu6Ha2gDsTIzERXW\n",
       "pZTKgdz1cO5M587iDL4vOdw8LkCZrXABV9bgwmIYQHrFeG2p6T6+nbdrMlNJmiBb3FKVtLLNfTGc\n",
       "W+Jr0MOpdMXh5oo48RQ4CdnjwRlDDHABNdNsC6R00qKFzVYa9bcUON77w7k/cjLcw4O22+Eewn5O\n",
       "d+EQHprg6IaB1VJrwGlWUSaDGk2Z7Qdybwvn7vaasIDvX2juzYD+hEY3DKw2NAc9M2OAZ3C7lf/O\n",
       "DfsA8jQ3zhP0G5L9sOimwfJR47XX1v2gepHNbSiFU5/rlpk7v3NR8wROAPxAAE+pdYm+QUKeDItu\n",
       "GJSfmdxFyCfVVEaOwE2UQksZUt3r0jfejHUJ2yG5JlHrUi9ONbiUa5PoPewafQfzYr8RA6R2jC5e\n",
       "E6YkeC/l3Ny2rf7gUd59ACOYKdUO5CYF7knXE9Z+E3+BJF8DqDjcesxXi58KTfLETeOuKTAvnE52\n",
       "oGsZ6KOiG6BC4/ojMlP56plqVaGVRORRFqBlldHB3HoCHNl5ViEaInYgpgmkuKFoVl7vd57M9h7/\n",
       "7tGZvZ+UwYhK5UmYcgdUsgBvGN95TzSrOY5RadC+ipTXtr/mO1v+ccrgg11PWEqxD4f3svZV3mh2\n",
       "aw/eV/HmXxWPfdUAaT7Zsv00jD82LoOHFjdTmcnBYyV8Hzvvi2YPsjZ4H0udGwT/33UOIrxGGdTs\n",
       "8WYqwRkgxrnBf+xxOZ43BY11ndM23nDnXuL5BMXNbleNSVvxdDcin9ME1SWI3sZGqVNXh3gR/8PR\n",
       "+i/PjR923EABWwAAAABJRU5ErkJggg==\n",
       "\" style=\"display:inline;vertical-align:middle;\" /></a></span>"
      ],
      "text/plain": [
       "{j in Naturals, (n - j) in Naturals, n in Naturals} |- |(a_{1}, ..a_{x}.., a_{j}, a_{j + 1}, ..a_{x}.., a_{n})| = |(1, ..a.., n)|"
      ]
     },
     "execution_count": 36,
     "metadata": {},
     "output_type": "execute_result"
    }
   ],
   "source": [
    "Len(a_1_to_n_partition.rhs).deduceEquality(equality)"
   ]
  },
  {
   "cell_type": "code",
   "execution_count": 37,
   "metadata": {},
   "outputs": [
    {
     "data": {
      "text/html": [
       "<span style=\"font-size:20px;\"><a class=\"ProveItLink\" href=\"__pv_it/15fe2b0129bd6ed03939ee57d8524e01802181af0/expr.ipynb\"><img src=\"data:image/png;base64,iVBORw0KGgoAAAANSUhEUgAAALUAAAAVBAMAAADyYbJ0AAAAMFBMVEX///+IiIi6urrc3NxERETM\n",
       "zMwQEBCqqqpUVFQiIiJ2dnYyMjLu7u5mZmaYmJgAAABN0h6tAAAAAXRSTlMAQObYZgAAArBJREFU\n",
       "OMutlU1oE0EUx/8m2WSz3a4JeLSQgwiKYMB68NRUvRS15FBqKoKh6EVF14sgCI3GHESRgIgEFYNK\n",
       "0YOwKFVoI47goZBD0qMKIaKi4MEi2oIEcb52N7vNRhAfZHa+8ps372sAGC38d1GWCPvo83/dGW4H\n",
       "rcTSAQuhY6w1lvmmk56l+o99BLMrKTF6HQA4S1D0zugv99agnZ4G3rGhVuYnFLybxpUC9GU5eBrA\n",
       "/kKV8E1F2jmgQTuPXLZfLmeTQF70jWawubSEd6zeWJdAtDf7Y6Vise/F/WoWciWeDmbr9vljlVuc\n",
       "vYmUEO/JntgoO8WcXrPZu/r5+YmIi1Ei9d5ZqBMv+9UGoUXN/ksxlsjZ7CHq9oc7kkt+lZMZ2j4W\n",
       "vie2TdJnlAJjz/IRs0Ez2hYrDhv3jIRkj1MFIqNo+EwziFO0/Sq3O2wt9Z6xv/FAylJrpdeb3Mtw\n",
       "2SopSfZN4GDcwkjWy/6AVdqe4/2My8ZVdYp2BmgATFxn18N2fqnJBSqWYOuFAeknGq2kkRKa1NmO\n",
       "hTnWJaEObY9wc59gs5K9iGc80mgEbebqcNNjuEtvHFJcNmaAK2vir2yzw916K9VJpjdLGJXPv+Ar\n",
       "0W62YWYcm7A0+6372Oza2MK7+S42Pkdse/PT9VXhHicTSvR3P+P4EscR62g+dsN0fOnEEM0KaMN2\n",
       "nHB2rOOqyOU5O8lCwxJhFv4OzfrkY88wH70V6WXadzHFJbvie1CGxOJuEahTK1Rn3UL8trh2qIzw\n",
       "NdPHfsOaORHrl7aJHLp7FKLIuOy4XTK2jomct+V8n5y/w6BSqdADkfOOCHYeCvHHriPVwFp1OPyz\n",
       "R63ysmn9HqkeCCpF/K97er0XvyJNrK2xjvD6jXmoQ0EPixH8NlxoBR3LbTQt3qXWv79pRrrPe/kH\n",
       "PHSxsBf3jrsAAAAASUVORK5CYII=\n",
       "\" style=\"display:inline;vertical-align:middle;\" /></a> <a class=\"ProveItLink\" href=\"__pv_it/42bca260f4a2393eb1912b6a2da03816ac7439f70/proof.ipynb\" style=\"text-decoration: none\">&#x22A2;&nbsp;</a><a class=\"ProveItLink\" href=\"__pv_it/a9ad9478f8b99177b444a36b1602cbbd0b66c0080/expr.ipynb\"><img src=\"data:image/png;base64,iVBORw0KGgoAAAANSUhEUgAAAS8AAAAUBAMAAAAuOqYxAAAAMFBMVEX////MzMxUVFR2dna6uroQ\n",
       "EBCqqqqIiIgiIiJmZmYyMjJERETu7u6YmJjc3NwAAACgK8IjAAAAAXRSTlMAQObYZgAAAipJREFU\n",
       "SMe9Vr9LAzEUflZ7bW2u7Z9QEFc9XPwxFVzcXJxEsIubaNfiYHEQEZHDXShO9gZxFVEOQSw4eJPg\n",
       "osVFF2kFcZAiJmmP5JLrJQo10OO7d1/e9zV5JA8g44F6rIXE3qBvg8rd6jBjDSmEThVzjCURaA8q\n",
       "d4J/K66CiapSaLihkDTzIvCHlpxpAxoZVzFhUoo8AFxNtH+zDkapo6onlySr9qRkXkuRfbIWfzGm\n",
       "KfeqxxwuCIFMpZ/GsFxZwZwdeynjhIO2EE/YCmM3GyLQMcbkLhRM67yEvrEFWv0zDhk1AtOewpgd\n",
       "9wSgY4zJbUczB4q7kHnHSSvCh2Qx2pjZyBaDQMcYJ7cQzUToA8wWntESPsQL0cYQzLs8GHSc40XH\n",
       "yWvLKYyB0YJY9Q/GAKZEoLOVTE6xlZCqQtZzYajCauxIZysBaiLQMcbkVMUft2DdtbrFzw1l8aNP\n",
       "EegYY3LT5HXTBfRFcpDHXZUD0CzAjJmDlCVkoOdHot1lBeZQAEabAcFYuBx9MLk5/HawXPNgh/yN\n",
       "LbJJeR/s4Qf+/nyPT7ycYIzsbWr067DDYnMIoKlSFQ4EjPWQoyEml/T7BkNe31UG66FXksjiUyVt\n",
       "DgRXrIccF6rTS7y7NyGnneISl1gs1YDbzHGgU2xukBMyjZe79G8OuXxLUW1PuiGxgKVqWmc8gDBO\n",
       "7xCV8xtFuZE1ZRchjaIpK+BUsbLHg1BO7xCV02qtH/+3tcZyP4Vd598IPcxKAAAAAElFTkSuQmCC\n",
       "\" style=\"display:inline;vertical-align:middle;\" /></a></span>"
      ],
      "text/plain": [
       "{j in Naturals, (n - j) in Naturals} |- (1, ..a.., n) = (1, ..a.., j, j + 1, ..a.., n)"
      ]
     },
     "execution_count": 37,
     "metadata": {},
     "output_type": "execute_result"
    }
   ],
   "source": [
    "typical.rhs.operand.entries[0].partition(j)"
   ]
  },
  {
   "cell_type": "code",
   "execution_count": 38,
   "metadata": {},
   "outputs": [
    {
     "data": {
      "text/html": [
       "<strong id=\"param_dep_operands\">param_dep_operands:</strong> <a class=\"ProveItLink\" href=\"__pv_it/0631a75aeeffec09de5d9eb46024000bd8a1cc290/expr.ipynb\"><img src=\"data:image/png;base64,iVBORw0KGgoAAAANSUhEUgAAANkAAAAVBAMAAAA5ulaKAAAAMFBMVEX///9UVFTMzMx2dna6uroQ\n",
       "EBCqqqqIiIgiIiJmZmYyMjJERETu7u6YmJjc3NwAAAC+aOQFAAAAAXRSTlMAQObYZgAAAhtJREFU\n",
       "SMdjYOC7wEAfkAciTtPJMgbGB0BiHb1s41nAwMA7gV62MZgzMHA8oJttRxkYXtDNMgYuB4ZKIMU3\n",
       "eXoMfoUvLUsPIHiE1WPVyTyBYS+Qcn3A9YGBQRu3FpY4hvUgxylAuBD1DItg0oR1ggHvAoY2YGKJ\n",
       "ZeDcwKA5A0+IX2CYDaTYoIkLrJ6BIQEqS4ROMGBrYAhhYOD8w8BRwMDggVvP/AMM7QgeVD0YCIAI\n",
       "InUyfQDZxrqB4bwCXj3RDDyfEDyoejDYQMA2ZJ1A24Ahed6AIR+vHp7PDGzAiDo+DcKFqOepTCBs\n",
       "G0Qn71x1UGJkaQClkvMJDFJsD/Dp+cbAuCCPYYIX1Dawek6WBUTYBtbJ63qB9QE4lVgyMHAX8DYy\n",
       "Q/ScB5rA8wuZASa2M9wQMOB5YAgRh6g/xyyAbBumThADovNNBQM/MBtwGoBU8ogXPSyB6OHoARKN\n",
       "IIYAlMHQAVR3sFxP3IEBFA4gBVD13BcYV62KWrUWl06wCESnOIMrJAMhSi5weORgBAYbIlv/Q1HA\n",
       "/wAlJDF1IkSCGCYzMTCcQC6VM0CEAYYeZjiLKQBFgSo8TeLQCRfh+8DQkgQulRn2wYqYfnFgIBVg\n",
       "6DkOZ7FvQFFQDbMNh06ECIsAQ/EFcI2DWpvyYiYrRNXOXYCiYDvcb9h1ootwg0Ke6JaCyNMDyDWx\n",
       "XwyKbYTBPZIqDGE5lHrfEJy8SKsdAa9AoAZAp34eAAAAAElFTkSuQmCC\n",
       "\" style=\"display:inline;vertical-align:middle;\" /></a><br>"
      ],
      "text/plain": [
       "param_dep_operands: (a_{1}, ..a_{_a}.., a_{j}, a_{j + 1}, ..a_{_a}.., a_{n})"
      ]
     },
     "execution_count": 38,
     "metadata": {},
     "output_type": "execute_result"
    }
   ],
   "source": [
    "param_dep_operands = a_1_to_n_partition.rhs"
   ]
  },
  {
   "cell_type": "markdown",
   "metadata": {},
   "source": [
    "Now we will apply `param_dep_lambda_example` to $a_1, \\ldots, a_j, a_{j+1}, \\ldots, a_n$"
   ]
  },
  {
   "cell_type": "code",
   "execution_count": 39,
   "metadata": {},
   "outputs": [
    {
     "data": {
      "text/html": [
       "<a class=\"ProveItLink\" href=\"__pv_it/ef5aa9d354afcb87cc1fe8e2e86253122cb955a20/expr.ipynb\"><img src=\"data:image/png;base64,iVBORw0KGgoAAAANSUhEUgAAAe0AAAAVBAMAAACZLKsIAAAAMFBMVEX////MzMxUVFR2dna6uroQ\n",
       "EBCqqqqIiIgiIiJmZmYyMjJERETu7u6YmJjc3NwAAACgK8IjAAAAAXRSTlMAQObYZgAAA/dJREFU\n",
       "WMO1WE9IFFEY/1x3t113ZvUSEUEudBA62NKl1tNCCHsqg072zw6RJzMqSjy0SBl0sCUPBRGt4SEH\n",
       "Km8SkSyBFCW5p0gPNngpIdEoPIRE773ZN/PmzffcN2kPHMb5fvv7M+/Nm/cGIF0FvMVt0G4riut9\n",
       "OHTlHyW3wxJ39UFZbtfWMCapqVPBQsTGoEp4XcmQlhSNuXpO/s5XsPJ7bZEmSmRmEPUyBsXh1EQ9\n",
       "yZCWVPeEuDJLYOw7gOZu7K+dXFANOw6YV0ocwqA+eI3cMeFKKlpdS25hfjMa4ipB78sXNLfRpZt7\n",
       "RKkwg0FHMKPMhCup6qku3dwjm9EQV99AmRvGNXOni+rhlg9C/XBfbldS1cY1c29iyXE1IOdOj97n\n",
       "M05OM/eOEjm8HcQ4GktBqB/uz51DjXgtp5mbahxp/zogPDfLuas8JnH1Ws7daTetAeyhpwuauVP0\n",
       "VViKVSUOGCPTRzkI9cP9uRcAIXGaliVeoBrZV/3GH7cQPQMv+DlxNezlNtjhNCQnYfcDet6rmTvR\n",
       "Q6js5h4/BwC5EC8GoQI8kLsXEBLW9CzxAtFo6LkD6R/0H5ZupgoPXeNFOOHlnqN9k9yABPFYoBda\n",
       "6aHDsm5Z1pPg1GpZT7sti76NYnnq9VhF4qCtYS0IFeAiOTPRCggJsFdefUtCgWgYxi8wqbzxm9Ye\n",
       "V+A2xxFXQu4EMzYJcy2iiEZ/x9jkdVjmcHNLUAEe6O9WjAQm/bk1+ptqxNcgwh6zIXo4CcYPIfew\n",
       "9HzPZeEiFymEGOcAExKHMUAuRxXj3IP7cxcwEiF3QX+cQ7IMzVWezPhJ74P5aBedyIkreV6b64H9\n",
       "ZBlcCD2vGesSRzJa3mRec+GqeU0gEXKHmddi5M5Vsjz3Oun8PrOzGrOZK/ZiuOHlTvWbQ401kVE/\n",
       "F3vs6MF5YLww7GUV35A4PjaS4ZrMBqF+uJuAmRjFSITckiXmRLTEC1RjNQ8dJn9UYAo+Z7Lfr0Nz\n",
       "hbmibPfOTrjvIKPt0tKVmsiYNHYy/DDkD8MGc9JbKdQ46D1vaglC/XCe2zExFiSJWFa39Qy3xJyI\n",
       "lniBapAfLH1y+d5c29uWhzboBOYqga/fqYhRDLNOTZTkcjOhfqdap7pwH7lRxEi8/q5rqd469TiM\n",
       "NjBXZgmt94qbgFnVarnibgIaKqstcnmnsC8RoBJ8Ft13+Eic3FqW3AK+L0mvwc1zjqtprL58ty3M\n",
       "pi9lr2ZfBq4OYvvQlK2C4/vMQZ47tCXsajQDl6uOK/V3h+kQm/zIQPCzzRSm7nx3wOC45JTb32Et\n",
       "1bknyu9M5tY+6kSOkl3FYrjvTAFJRuLl3qIl3hbhP7bIQXvbSOxtd/cXit+IM6BjDiwAAAAASUVO\n",
       "RK5CYII=\n",
       "\" style=\"display:inline;vertical-align:middle;\" /></a>"
      ],
      "text/plain": [
       "(1 * a_{1}) + ..(k * a_{k}).. + (j * a_{j}) + ((j + 1) * a_{j + 1}) + ..(k * a_{k}).. + (n * a_{n})"
      ]
     },
     "execution_count": 39,
     "metadata": {},
     "output_type": "execute_result"
    }
   ],
   "source": [
    "requirements = []\n",
    "param_dep_lambda_example.apply(*param_dep_operands, requirements = requirements)"
   ]
  },
  {
   "cell_type": "markdown",
   "metadata": {},
   "source": [
    "The following requirements are needed for this lambda application.  First, the length of the operands must match the length of the parameter index range for a proper applications (as we saw in the previous chapter).  Second, the indices themselves must match in order to perform this parameter-dependent **ExprRange** expansion."
   ]
  },
  {
   "cell_type": "code",
   "execution_count": 40,
   "metadata": {},
   "outputs": [
    {
     "data": {
      "text/html": [
       "<span style=\"font-size:20px;\"><a class=\"ProveItLink\" href=\"__pv_it/5c9da1edf20f102f7fde18dfd8cbb9e347db6cde0/expr.ipynb\"><img src=\"data:image/png;base64,iVBORw0KGgoAAAANSUhEUgAAAPMAAAAVBAMAAABhxcWTAAAAMFBMVEX///+IiIi6urrc3NxERETM\n",
       "zMwQEBCqqqpUVFQiIiJ2dnYyMjLu7u5mZmaYmJgAAABN0h6tAAAAAXRSTlMAQObYZgAAAu1JREFU\n",
       "SMe9Vk1oE0EUfmaz3c1muybgtZCDCIJgQD14aopeRC05iKYiGEQvKhovglBoNOZQFAmISFExqAR7\n",
       "EBalCm3FLXgQckh7VKFERBQ8tIi2oEGcv53d2ckk0IMDmczsN9/75ufNvAcAzjL876IvefjPnu07\n",
       "UmurECO7Me3YGVw7q8TGeQFq/jzoQWMtQ3tvFQYue1ARv9hv9s+DdfGUghDAH3HXqpEJlMVBo3oZ\n",
       "7FXWeaGw9A3NMfIp3i4AtJSr5fB0IB0tk/k0QJG2nUX1zlkpsW/e2ZSCAeVwDsvSzoGpe6Rx7ZCZ\n",
       "B4YkehyoXRSJ5lavCglpmARL0vqIx1qVgj3vS+/t5TDPRaK5p9z0JGkZDqQXtlDv8pWhYqQKvvQQ\n",
       "8sinu9JL0QWnc6h+JhLN7CW9zKQDkgw3SM9F1eIAuT+Bv1bgkZNi0qNofvERaEX2fRAuoPo7CEQz\n",
       "a2U+MemAJMMr5Ibk0VFkN5dwOxeSNr0qk74LcCzhwnBelP4M66i+AgLRzMJNc4y2A5IMJ5HrHrmN\n",
       "9w524i3Rz82hwqTtcpK5ELqGXitDJ9rEI+ZmcNOLdVB9EgQisv0OXlIeJ3WDJ9HV2EbmRY5dC68a\n",
       "juuBNEwA3JAuVs2X1sLL0utHWccndYGT+B0xyffXBCmGpZ1Sjm84fn3+2hFpvGmwXSQi2/A1zjqc\n",
       "JMMrfO72OkECJ66i3+McdzM4C0bHiki3StzNOBG9BmDtZh1OkuEGlzY69PEo+WNeYRd2oeXS+6P9\n",
       "AMv9EpGewP7xQSQmS2S19h8Ik6Jw+F4PUme2r++gQ8bW0IptFxL36Z7GaqDdKkWk3+NqRiDqD08D\n",
       "edinvDBJgkPSCfZMx56wh9Qv4z0e0gfYaK070fDEIBm1S6WLoHvRO8tLXRk+Tmi/uoQP7v19AvY0\n",
       "i9fD9cOq6EAs7+uWPvyOL4IcNP2y0EeaxGuYBXNIlYY46lTh6rJqVri0+2QpNJkw+uZm6gTJ2ViC\n",
       "RHKzfyhd59in+qZoAAAAAElFTkSuQmCC\n",
       "\" style=\"display:inline;vertical-align:middle;\" /></a> <a class=\"ProveItLink\" href=\"__pv_it/ab8559f99a94ae45569722ab63612387e554c9be0/proof.ipynb\" style=\"text-decoration: none\">&#x22A2;&nbsp;</a><a class=\"ProveItLink\" href=\"__pv_it/1d3ea89c21e3b854454c8ca41c8d275804bf5c130/expr.ipynb\"><img src=\"data:image/png;base64,iVBORw0KGgoAAAANSUhEUgAAAW4AAAAWBAMAAAASimukAAAAMFBMVEX///9UVFQQEBCqqqoiIiJm\n",
       "ZmYyMjJERESYmJjc3NyIiIi6urp2dnbu7u7MzMwAAAADGpxCAAAAAXRSTlMAQObYZgAAAyRJREFU\n",
       "SMfFl01oE0EUx1+aTXa32UlzCjYW7E1Fq0G89KCm6EWlEPGTEnARDBRBe7Q57UEFL3YVBT2IixiE\n",
       "KjEEEbwlh170EkUUe0nRk0IxIoiiFWdnP2c3u7P1sA5kP4b3f++XmTdvZ2AV4m/Zrqdj3RCr8JLc\n",
       "b8dEPEmuUtPTbUCICttBUjUFRILmYuJOqCHc76J4GHVzp9WYuJEcwj2Lf7u6DA9v3dyXY0vtF8Hc\n",
       "QhnQ2CYWt6S5uA/Gxv06mJvTJ32BxY3GHW6xFBt3uhnIfROicMM5h3u4jC+3lu6Ha2gDsTIzERXW\n",
       "pZTKgdz1cO5M587iDL4vOdw8LkCZrXABV9bgwmIYQHrFeG2p6T6+nbdrMlNJmiBb3FKVtLLNfTGc\n",
       "W+Jr0MOpdMXh5oo48RQ4CdnjwRlDDHABNdNsC6R00qKFzVYa9bcUON77w7k/cjLcw4O22+Eewn5O\n",
       "d+EQHprg6IaB1VJrwGlWUSaDGk2Z7Qdybwvn7vaasIDvX2juzYD+hEY3DKw2NAc9M2OAZ3C7lf/O\n",
       "DfsA8jQ3zhP0G5L9sOimwfJR47XX1v2gepHNbSiFU5/rlpk7v3NR8wROAPxAAE+pdYm+QUKeDItu\n",
       "GJSfmdxFyCfVVEaOwE2UQksZUt3r0jfejHUJ2yG5JlHrUi9ONbiUa5PoPewafQfzYr8RA6R2jC5e\n",
       "E6YkeC/l3Ny2rf7gUd59ACOYKdUO5CYF7knXE9Z+E3+BJF8DqDjcesxXi58KTfLETeOuKTAvnE52\n",
       "oGsZ6KOiG6BC4/ojMlP56plqVaGVRORRFqBlldHB3HoCHNl5ViEaInYgpgmkuKFoVl7vd57M9h7/\n",
       "7tGZvZ+UwYhK5UmYcgdUsgBvGN95TzSrOY5RadC+ipTXtr/mO1v+ccrgg11PWEqxD4f3svZV3mh2\n",
       "aw/eV/HmXxWPfdUAaT7Zsv00jD82LoOHFjdTmcnBYyV8Hzvvi2YPsjZ4H0udGwT/33UOIrxGGdTs\n",
       "8WYqwRkgxrnBf+xxOZ43BY11ndM23nDnXuL5BMXNbleNSVvxdDcin9ME1SWI3sZGqVNXh3gR/8PR\n",
       "+i/PjR923EABWwAAAABJRU5ErkJggg==\n",
       "\" style=\"display:inline;vertical-align:middle;\" /></a></span><br>\n",
       "<span style=\"font-size:20px;\"><a class=\"ProveItLink\" href=\"__pv_it/15fe2b0129bd6ed03939ee57d8524e01802181af0/expr.ipynb\"><img src=\"data:image/png;base64,iVBORw0KGgoAAAANSUhEUgAAALUAAAAVBAMAAADyYbJ0AAAAMFBMVEX///+IiIi6urrc3NxERETM\n",
       "zMwQEBCqqqpUVFQiIiJ2dnYyMjLu7u5mZmaYmJgAAABN0h6tAAAAAXRSTlMAQObYZgAAArBJREFU\n",
       "OMutlU1oE0EUx/8m2WSz3a4JeLSQgwiKYMB68NRUvRS15FBqKoKh6EVF14sgCI3GHESRgIgEFYNK\n",
       "0YOwKFVoI47goZBD0qMKIaKi4MEi2oIEcb52N7vNRhAfZHa+8ps372sAGC38d1GWCPvo83/dGW4H\n",
       "rcTSAQuhY6w1lvmmk56l+o99BLMrKTF6HQA4S1D0zugv99agnZ4G3rGhVuYnFLybxpUC9GU5eBrA\n",
       "/kKV8E1F2jmgQTuPXLZfLmeTQF70jWawubSEd6zeWJdAtDf7Y6Vise/F/WoWciWeDmbr9vljlVuc\n",
       "vYmUEO/JntgoO8WcXrPZu/r5+YmIi1Ei9d5ZqBMv+9UGoUXN/ksxlsjZ7CHq9oc7kkt+lZMZ2j4W\n",
       "vie2TdJnlAJjz/IRs0Ez2hYrDhv3jIRkj1MFIqNo+EwziFO0/Sq3O2wt9Z6xv/FAylJrpdeb3Mtw\n",
       "2SopSfZN4GDcwkjWy/6AVdqe4/2My8ZVdYp2BmgATFxn18N2fqnJBSqWYOuFAeknGq2kkRKa1NmO\n",
       "hTnWJaEObY9wc59gs5K9iGc80mgEbebqcNNjuEtvHFJcNmaAK2vir2yzw916K9VJpjdLGJXPv+Ar\n",
       "0W62YWYcm7A0+6372Oza2MK7+S42Pkdse/PT9VXhHicTSvR3P+P4EscR62g+dsN0fOnEEM0KaMN2\n",
       "nHB2rOOqyOU5O8lCwxJhFv4OzfrkY88wH70V6WXadzHFJbvie1CGxOJuEahTK1Rn3UL8trh2qIzw\n",
       "NdPHfsOaORHrl7aJHLp7FKLIuOy4XTK2jomct+V8n5y/w6BSqdADkfOOCHYeCvHHriPVwFp1OPyz\n",
       "R63ysmn9HqkeCCpF/K97er0XvyJNrK2xjvD6jXmoQ0EPixH8NlxoBR3LbTQt3qXWv79pRrrPe/kH\n",
       "PHSxsBf3jrsAAAAASUVORK5CYII=\n",
       "\" style=\"display:inline;vertical-align:middle;\" /></a> <a class=\"ProveItLink\" href=\"__pv_it/c25c158ddf27cfd1eb4e3f9bff3fc1624615e6fb0/proof.ipynb\" style=\"text-decoration: none\">&#x22A2;&nbsp;</a><a class=\"ProveItLink\" href=\"__pv_it/98fe30941f74f99893658a6cc9df8adb8b65054b0/expr.ipynb\"><img src=\"data:image/png;base64,iVBORw0KGgoAAAANSUhEUgAAAS8AAAAUBAMAAAAuOqYxAAAAMFBMVEX////MzMxUVFR2dna6uroQ\n",
       "EBCqqqqIiIgiIiJmZmYyMjJERETu7u6YmJjc3NwAAACgK8IjAAAAAXRSTlMAQObYZgAAAnRJREFU\n",
       "SMe1VjGI1EAUfV72llt3ktvKSnDBQhA8g4161cI1dgpaKm4jWoh73bFYGAQPFYtwFopwEMXmUhx2\n",
       "IqKkEcUTNlpYWNwtNlq5Kx4Wsoozk0nITbKZycJNkfz8yct7mfnz/wesELs1qv2sT4vuGrtsKD9/\n",
       "XhiXgrLK5rKuDR3cFPujdRWl2RTGJ3lGqfR91rWugyMepXVBDh4ttRaXBVoNMxYzf6lHdxyYYau2\n",
       "NYkwDRg5I3s06d4A37GLwvBUdmjS7W2hq3rz7XXx90vP9IVVjv1YekDvJ+UJFd3C3Lcu3X/DxSuV\n",
       "MHc6OuA1XNAXZtSfo0d37Qt/8Plwma2is18ukn80FD0sK940+7Ntbmzit76wfTMeBg3gijyhoNvT\n",
       "vgvrJ01RDs4phBGcjiaDyojd5n3/lu8/UQgLei1s0fsBeUJBR8g2zCEVOFQKA07E2+OUCP4OcHgC\n",
       "YagOMeVxYctKYWvxSXFLCHsE/CXAqVSMNTW2EjUPs2GAiqMOfhKHVq9dQthZVEeGCP70UNFN2+gE\n",
       "Ngt+fqBvBCB/mAh26Xkpgy7uSBidQBYWwxJE8mRtw/A+Avdl4gI6fhm0MG82ULP5Yq9cXAtxm/He\n",
       "ZMm5GRv3+OI6wngoJ9gEliASGN0K6whd4ceysAI67qLzXz/TsGlENYKvTHZ9r/Ii4grjTibzF8Gi\n",
       "MHByS9IYXMr1jldVcehysh09HgFLR9TYz9JLND7sSKW5sKIiPhZn7CjieB2XnmzY088O7BfcsH7V\n",
       "3fyKlQsb3/aMp0u5WNuTdG7ZztJkLVs3jIxDq/nHKB8mqchpFMOiT9X7ur3uZMOctLXeBP4Dts3q\n",
       "Cgs+qN0AAAAASUVORK5CYII=\n",
       "\" style=\"display:inline;vertical-align:middle;\" /></a></span>"
      ],
      "text/plain": [
       "<proveit.magics.HTML_DisplayObjects at 0x7fb87a6f2f60>"
      ]
     },
     "execution_count": 40,
     "metadata": {},
     "output_type": "execute_result"
    }
   ],
   "source": [
    "requirements"
   ]
  },
  {
   "cell_type": "markdown",
   "metadata": {},
   "source": [
    "### Parameter independent expansions\n",
    "\n",
    "When the **ExprRange** parameter only appears as indices of variables that are being expanded, the **ExprRange** expansion reduction is more permissive.  Indices do not need to match.  Consider the following `dot_prod_lambda` example."
   ]
  },
  {
   "cell_type": "code",
   "execution_count": 41,
   "metadata": {},
   "outputs": [
    {
     "data": {
      "text/html": [
       "<strong id=\"dot_prod_lambda\">dot_prod_lambda:</strong> <a class=\"ProveItLink\" href=\"__pv_it/346ac8c29c9b1291d769dd566e1fc9c92d5921e70/expr.ipynb\"><img src=\"data:image/png;base64,iVBORw0KGgoAAAANSUhEUgAAAdYAAAAUCAMAAAAHk+xjAAAANlBMVEX///8oKCgNDQ3MzMxUVFR2\n",
       "dna6uroQEBCqqqqIiIgiIiJmZmYyMjJERETu7u6YmJjc3NwAAADtE0dfAAAAAXRSTlMAQObYZgAA\n",
       "A4xJREFUaN7VWuGitRoQda9SVNT7v+ylIsOQaN/vy4+z55TWrDWjIUUIIasiX27jWt7XSm2R/MQf\n",
       "eU6tlZU15EK+3briOFupbZK7X+S1OQuO1WnM68fTKufSnlZqm+Ryfw9acxYcq8NQE/l663lZPyu1\n",
       "VXLob+RPEaIrXsiCY7UbYv18WuWAH+eBNCu1VXLo74W0vpAFx8oYqyDfbzPDgwdvASu1XXLgrz2t\n",
       "r2TBsdIGP6VLzruV8Z43DJcbCMknc2odZLWDBEDv8gcXHjBYVuoDyQmP/fRyWh9lIRUGx0oby7Gu\n",
       "lr2u74ITsc+3tGZZBiGw4k+YqRN8q/XgA8CZacYTOQIvp9QnkhOU1fxyWlFKT8PgWGlDjEdXnfl+\n",
       "k4TpGk+nqaYm+BDog9lIJuN4WSo9eABhlASeVsIXb0SfUgskyxvKo3g5rQil+La5C4NjpY2BuWuu\n",
       "fqwmrRKNODg/GDUbr/QAAECjbuD++88M2rZd0+Ap9V6y3OY8Zeev352IYf/pigY/egVKKVCPkkKj\n",
       "oI3hkn31Y7Uz+JYdt0wPRO2TVnvwABJpFXC+YcJb3ARpzUgWXZ4y3V6+W1FK4WK5uwmDn1ZbmUC/\n",
       "2rQ6CDUpynn4LLbXDj7Ue3AAAT5LFGE6S5IswkWSccrsR0X4PoS5MDhW2jgn61EeUzCX1UH3IRQb\n",
       "NO4QTBFLZ/9UptUBBPipJRPcugmWTEWSccq/WjLdhzAXBn/JdKyK2TaSZXP7zaeCq5xHRnzIh1gl\n",
       "NwimVniXkKkz3VSthwvAx9+P9y7goARP6ANATnJ0Y0SUoT8sSTktibTGlEKJGKmgj2OljYOs7DjX\n",
       "j0NKwdtZ2KnK1fWrwF+Hjk4QotO82QBB9i7TttZ68AE8fHNXUjwnNJho/d+E5HChElOO/UUlNaMF\n",
       "vwKjBCXipEAfx8oY2LaVUzDKsuobtYHug4ZG56e50cMB4OMTWVjRc5uHmVkhpBz5+83mIZCYIOX3\n",
       "cax2A9tkdk9AfdkuQfyIaWYIwUbqn+9mU41YvYcLAOC/stU/omlFKUf+5ONts+iKmBKUiJOCYQZb\n",
       "/WQJB8o6ia3jxzZV0ZYeMvZNzeG9AueF/nfhDR4uAB//wYsyKzUjObiJEMq/eTEXUQISE6RAmOGL\n",
       "udwL3KIX9qr0PNMzAm3xgAFgEUmPj6ev0VGPyx9+jY6HwbGyxsc/elH/80cv6q/86MWx2o3/ACqj\n",
       "NcomKa7uAAAAAElFTkSuQmCC\n",
       "\" style=\"display:inline;vertical-align:middle;\" /></a><br>"
      ],
      "text/plain": [
       "dot_prod_lambda: (x_{1}, ..x_{_a}.., x_{n}, y_{1}, ..y_{_a}.., y_{n}) -> ((x_{1} * y_{1}) + ..(x_{a} * y_{a}).. + (x_{n} * y_{n}))"
      ]
     },
     "execution_count": 41,
     "metadata": {},
     "output_type": "execute_result"
    }
   ],
   "source": [
    "from proveit.core_expr_types._common_ import (\n",
    "    a_1_to_j, b_1_to_k, c_1_to_j, d_1_to_k, x_1_to_n, y_1_to_n)\n",
    "dot_prod_lambda = \\\n",
    "    Lambda((x_1_to_n, y_1_to_n), \n",
    "           Add(ExprRange(a, Mult(IndexedVar(x, a),\n",
    "                                 IndexedVar(y, a)), one, n)))"
   ]
  },
  {
   "cell_type": "markdown",
   "metadata": {},
   "source": [
    "We map expand the $x_k$ variables and $y_k$ variables in any manner, with respecting the original indices, as long as the expansions of these two match.  We will demonstrate this by applying `dot_prod_lambda` such that the $x$ operands will be $(a_1, \\dots, a_j, b_1, \\ldots, b_k)$ and the $y$ operands will be $(c_1, \\ldots, c_j, 1 \\cdot d_1, \\ldots, k \\cdot d_k)$.  These don't respect the original indices since they go up to $j$ and then restart at $1$, but the do match each other, both going $1$ to $j$ then $1$ to $k$.  First, we will make some assumptions and prove a few things so we can meet the requirements."
   ]
  },
  {
   "cell_type": "code",
   "execution_count": 42,
   "metadata": {},
   "outputs": [
    {
     "data": {
      "text/html": [
       "<strong id=\"jpk_eq_n\">jpk_eq_n:</strong> <a class=\"ProveItLink\" href=\"__pv_it/689c60dbbbc65c17ffec3d5994e64179fecbc4470/expr.ipynb\"><img src=\"data:image/png;base64,iVBORw0KGgoAAAANSUhEUgAAAGUAAAAUBAMAAABmLO6YAAAAMFBMVEX////MzMxUVFR2dna6uroQ\n",
       "EBCqqqqIiIgiIiJmZmYyMjJERETu7u6YmJjc3NwAAACgK8IjAAAAAXRSTlMAQObYZgAAAWVJREFU\n",
       "OMtjYOC7wIAD5OGSYDgNIlIPoIjxbG0AkkwPcOlZByIuoQlyTQDpXIBDC+8EZF46lOZPAJHmOPRw\n",
       "PMCmxx/s1qM49LxgwKbHAuJCB+x6KkEOL9+ApmclQ+48BgbmCWiKnfWeVxYwMOwFMjkZYlH18Hxj\n",
       "f/IX6FdwIFitAoGVIKbB7gKefwwMbUDmPYZvqHrY/tTwAKONrQHVGsaELga+jwwMIUD2AZY/UANb\n",
       "V61aBLI4EqLmA6oeHp4vDLwfIHoYmBtQ7eFQ345NDwPbBwamBRC3QaIQSc95h/egIGNpQPgHZD0D\n",
       "5wIG/gsHwGHAcD4BVc99oIgBLAyQAKsBQ/4BAwZLEDv/AKoebQZ+AaAeTgM0PUDbrXgFGDxA7Blo\n",
       "cbqNgX060BguATQ9QMWPrkHTTid6OoCAE7jTqAwozCHgDIocrjTKsI/vM/cErDI48wIwz6nPxS7D\n",
       "jTPP4c7b93CIAwDviV5w2SVEMgAAAABJRU5ErkJggg==\n",
       "\" style=\"display:inline;vertical-align:middle;\" /></a><br>"
      ],
      "text/plain": [
       "jpk_eq_n: (j + k) = n"
      ]
     },
     "execution_count": 42,
     "metadata": {},
     "output_type": "execute_result"
    }
   ],
   "source": [
    "jpk_eq_n = Equals(Add(j, k), n)"
   ]
  },
  {
   "cell_type": "code",
   "execution_count": 43,
   "metadata": {},
   "outputs": [
    {
     "data": {
      "text/html": [
       "<strong id=\"defaults.assumptions\">defaults.assumptions:</strong> <a class=\"ProveItLink\" href=\"__pv_it/3f9dfb4bcfbd778c6bededd4a27f6fbbceaf3e030/expr.ipynb\"><img src=\"data:image/png;base64,iVBORw0KGgoAAAANSUhEUgAAAOsAAAAUBAMAAACe4NcqAAAAMFBMVEX////MzMxUVFR2dna6uroQ\n",
       "EBCqqqqIiIgiIiJmZmYyMjJERETu7u6YmJjc3NwAAACgK8IjAAAAAXRSTlMAQObYZgAAA0JJREFU\n",
       "SMe1Vk1oE0EUfrsxaX5m01ApFPSQglChEvagaCtIwIug0B568BdzkV7U5lZCi1TBEotgLlIRlCAo\n",
       "WIrmoLZaW5aCtLRKgoeKCLWK0IKHptjmoFWcNz/J7LKbiziQ2XnfzJtv5s03bwIQLcE/FW//y/Xw\n",
       "RawuWCpOnk6Ng+98DzeeDzncFn69suDAVpJbzD9w1j5k8SSt9BV3WoY/wdZ7e0ek1ARQFEY45/Sb\n",
       "1uJAysJg/kbcMeQxLjjvTou4kXNbz9WGNPiF0Zhydu+N9QN087bdv1c2Klgd9IgyxYNqJIzJ7Aij\n",
       "PW61QlCAXdUD+JTNsg3sea3HQITe5l+l3bGN9RsPWoqvKaY2IRj0L/EFS9Iekt27BkUj0UTGJe0a\n",
       "uNH6WG846U5L8QwGu7/AtWJVD71Xiwerx3TpPjuScemWCKSbJC36w9yAgzacC3xcAZ/zAI8mVjNp\n",
       "QHyaWiE4x6erac2X/CBoSaXh22+wCTMB+420oEV/yPlLdtpi6kpXCQx2JJ1jWFBjYE6lyR9AfJha\n",
       "y1wBUFAkvk9v4e3A9iBhk0agRqtbrYIW/Y0VKTtJ2zdnvaOujqunpUYgusFwvJwWV4B2GpclaGfh\n",
       "IR8bOiWcmrE3z2lJPCyUjP6Ey45u6/rY2ANEb7PwamXHzSGbYJQZ3lNTQFTdrWY2C6m2TfDGd2W3\n",
       "sFNTaGuyk7u9NpB2oYVAGfQ8w4eVjNCt5pElEdRicp0L0q/SGqlCLcg8Oyi0ZDO6iddoqHa2LAih\n",
       "PDSWLMSnuQLY6NEqbYxGQOzuM+01mU9adrfS35GCIilSsdMaZVLxgZCUUvwm9Fkm4h1MAfzmBGU+\n",
       "CmPjLpCf9NMOjTFT2Rgtj/jCizhrB5ednVYvwAalDZkOWhq3TiOG+DE074jYtJ/girt1Bm8xQJYu\n",
       "5wU0jPJVzT7j35atAkuswZvUYP6hITttJAUZmlvCMQctHfx1ieEsud2QOe0wT45VCVj22z6ZtYXt\n",
       "okyOwZwzJ7My75Ec51kq3413ybX46j+1Jn8KNGtdbuutM+V7PQUwE/0RyXn0z9VlJUxjM7BuvvR8\n",
       "4DzxRWi75zVx/T8ehnjm9Yz7uIjHM8/w//enZtkb/wt9Ous5FvGFcgAAAABJRU5ErkJggg==\n",
       "\" style=\"display:inline;vertical-align:middle;\" /></a><br>"
      ],
      "text/plain": [
       "defaults.assumptions: (j in Naturals, k in Naturals, (j + k) = n)"
      ]
     },
     "execution_count": 43,
     "metadata": {},
     "output_type": "execute_result"
    }
   ],
   "source": [
    "param_indep_assumptions = [InSet(j, Naturals), InSet(k, Naturals), jpk_eq_n]\n",
    "defaults.assumptions = param_indep_assumptions"
   ]
  },
  {
   "cell_type": "code",
   "execution_count": 44,
   "metadata": {},
   "outputs": [
    {
     "data": {
      "text/html": [
       "<strong id=\"jpk_in_nats\">jpk_in_nats:</strong> <span style=\"font-size:20px;\"><a class=\"ProveItLink\" href=\"__pv_it/8d6f9068b9ba175d959c0aba3baaca53445e651d0/expr.ipynb\"><img src=\"data:image/png;base64,iVBORw0KGgoAAAANSUhEUgAAAIEAAAAVBAMAAACTeZA2AAAAMFBMVEX///+IiIi6urrc3NxERETM\n",
       "zMwQEBCqqqpUVFQiIiJ2dnYyMjLu7u5mZmaYmJgAAABN0h6tAAAAAXRSTlMAQObYZgAAAhxJREFU\n",
       "OMtjYGDgu8dAJmC9eABE8exiIBswpYJIvg8gkj0HRer0F+8DDMu+KYA5RzLRNPLsd9nDwJWfxMBw\n",
       "G8TlmgA2pwFVkR9rAwPPByhnL7rdLA8iGBjOAxkrESagg84AQQaGBCjnO7osx1RGAQY27CY8mTlz\n",
       "A4hu8uEIYIDKMP2ByfJ5zpwNNkHlQCsDJ1YTQmSgjOYInj0wE+AqWB0PQN1g2nD6AKoJB0UgQbQH\n",
       "ZlQzu0AEzATuC+xvDcDhewDmC4NC1gaQCcvAPJCrL7A9gMjATWBYxCcANeF8gbD+A4gg3AQuhYcg\n",
       "E96DeGUBQP8Z8BeAw5gBYQLHgVaoCfUHD5wDMxwQJjD0cESCnQf0+WSQ6xn0wQ4M2w0EGyAm8DRw\n",
       "Q+Pi2gVoMGSDpKEmnGDYBo4zAQYGtQAGWJAwmCC5gSGKFWrCDBEBMM2M7AbWBWEgN4CSEYcDItGw\n",
       "IZvAVwDRwfOJ+RNEMAHJBIbnLLBwAMcFDyTR8ArA1LQC8WKICXwfeL5zgVkX4SYA3c1lAosLsAns\n",
       "0EQzHaZmO8i8DQznN4Ad+RViAmcBVJYbxLiNkh54ocF+wgkS5ZHfgPbzbGDgnAOMoAIGWUhC42nR\n",
       "gQTp/BRQ6kAxgRMa3AxanpBUDQM1qLl5CSRVwwHEhAQG1gP2AThKgAX4C4iV0PLBfoEvDhU8AvhN\n",
       "AJcPDLsYOGQf4FDBR6CMSgJT7JSVkwBTtYvVBRREFQAAAABJRU5ErkJggg==\n",
       "\" style=\"display:inline;vertical-align:middle;\" /></a> <a class=\"ProveItLink\" href=\"__pv_it/ea1190f7cd3366ecff20ad6f4baec99038929c690/proof.ipynb\" style=\"text-decoration: none\">&#x22A2;&nbsp;</a><a class=\"ProveItLink\" href=\"__pv_it/1d7a032e87a6c89fbb361f71ee618500f4353fdd0/expr.ipynb\"><img src=\"data:image/png;base64,iVBORw0KGgoAAAANSUhEUgAAAGUAAAAUBAMAAABmLO6YAAAAMFBMVEX////MzMxUVFR2dna6uroQ\n",
       "EBCqqqqIiIgiIiJmZmYyMjJERETu7u6YmJjc3NwAAACgK8IjAAAAAXRSTlMAQObYZgAAAadJREFU\n",
       "OMtjYOC7wIAD5OGSYDgNIlIPoIjxbG0AkkwPUFWe+r3rAIPpVwcGhnUg7iU0g7gmgHQuQBPdy6jA\n",
       "wPOBgYF3ArJoOpTmTwCR5mh6NATKGRgCGBg4HmDT4w9261Eo73ZHB9hKlT1MAgxAV79gwKbHAuJC\n",
       "BzAlXQMV1RPiWQPSUwlyePkGND0rGXLnMTAwg90NVAfTw1YgBNKzF8jmZIhF1cPzjf3JX6BfwS5C\n",
       "BJ8egwlvAVBPG5B9j+Ebqh62PzU8wGhjA4U4AzcDQg/TAUWgWAiQfYDlD0jIatWq1lWrFoEsjgSr\n",
       "YfwAIkVXAcECiB4eBa4AiB4G5gZUezjUtyP0vEayh0GYMQDiNkgUIuk57/AeFGQsYKNYkfXwJmyA\n",
       "hAHD+QRUPfeBIgawMOAsgOlRBGI7oB5LECf/AKoebQZ+AaAeTgMwrw2mZxnIBKA5HiDODLQ43cbA\n",
       "Ph1oDJcAmHdoC8RIia8bIIkQnHY60dMBBJyA0s47OlCSKzCNyvB9hPHOoOgxx5V/9vF95p6AVQYj\n",
       "LyDlOfW52GW4H+DSgztv38MhDgBD6mjQ+i/+PgAAAABJRU5ErkJggg==\n",
       "\" style=\"display:inline;vertical-align:middle;\" /></a></span><br>"
      ],
      "text/plain": [
       "jpk_in_nats: {j in Naturals, k in Naturals} |- (j + k) in Naturals"
      ]
     },
     "execution_count": 44,
     "metadata": {},
     "output_type": "execute_result"
    }
   ],
   "source": [
    "jpk_in_nats = InSet(Add(j, k), Naturals).prove()"
   ]
  },
  {
   "cell_type": "code",
   "execution_count": 45,
   "metadata": {},
   "outputs": [
    {
     "data": {
      "text/html": [
       "<span style=\"font-size:20px;\"><a class=\"ProveItLink\" href=\"__pv_it/10450811e1344e35f80f3ac12ace2e09bb0def3f0/expr.ipynb\"><img src=\"data:image/png;base64,iVBORw0KGgoAAAANSUhEUgAAAPEAAAAVBAMAAABlMBWuAAAAMFBMVEX///+IiIi6urrc3NxERETM\n",
       "zMwQEBCqqqpUVFQiIiJ2dnYyMjLu7u5mZmaYmJgAAABN0h6tAAAAAXRSTlMAQObYZgAAA1dJREFU\n",
       "SMe9lk1oE0EUx1+abLK7mWxT7LGFHERQhAatV5OoKMUP9lBqK4JB9OB3vAiC2NS0h6JIQESDikGl\n",
       "6EFYBBVri1vwUAiYFEFQQSIqClJaim1BS3G+Npldsmuh4EA2O/tm5vfezH/eDABon+A/F2nKJH9o\n",
       "dLUDbXUzhOIuhqaj5KnN0kYnbabSr90mjCzEaOX1MUdH9GrHGKhnDvNakjzPmfYmO/P4mXPz6SN5\n",
       "qHnKz9pN+6QsoFleGXd2DFR7Acq8EqaR/XA0CVdIAG7kR3WyswzrLQBpXll0WuXrvigEeWXaNsFR\n",
       "/tKcIWNHV07+WigY5P/SHlkHbmlasqxaV+EWJa81h0DhH681JHeQ2UfpFZO72/hLrheNWeRaCynF\n",
       "F1Peki2ZnOzPNyTTseHJP8kTrUwXY5YpF4r2WuRwJTRN17JkqUiOn5WynOwjC4pakg7yOFx8C/DY\n",
       "KeqHm1um8P8IHYXMbiVYZSPWyHBPi3JyObOmowqiVOW4GvusWGrDjwictpPRom/TMsBPGttLWoiH\n",
       "aiAFZQyZodtBx+sXp4KAANTJsjnEyf0T5hv6kqyT4Yrcx94V0vOLpUKLHFpqQ9il846Y9ysGJHSm\n",
       "/G4iEMQEAT3EN4ORUTbM9fGuwpf5BDFz8iQ8Y1+DZNObVIU4uBe4DdmgkVPUeMhBNssxFu8w9nCd\n",
       "XhdEpxAzHJA4+WYrC8QvxiwVewRyTYVWzMpAqhEZ+gEuE+kQ7+RkPVkERbKWYSQ0559jH9MCGb4H\n",
       "hNlmiUMgl2MJ4tF6YZ2zPHktI77O1FvElilS2/lD+HefkbVZtKjSt6kaGc+T2ikoDKvQTp7BX4pc\n",
       "YWI5jhWgcm1TcognixtWi+fEDwPKBp2UeVUIj0SYoe6jP6Q/jbbftJMHoVnH5A8OMJ491fgm7ucI\n",
       "X6bJbWyEvgUcLzJAuY2DykA7SzBocCOT2t0jLCkXcOsm2vW9I5PsAh85Cp8693Me/FczIlnhywQb\n",
       "ulj2tMoFe8cHLHvWMpZpZc87zhzGXM175rA0SGZCd2lS9DyZVX5iHPTPWyzbYel9YuDzOVHc69IC\n",
       "RT3JE1Ricf/vQKWhveR5PsMoyO1Vlxaa922kym8GAy4Xqu1udxJ2qQit9h7mehvS4h73sL+8aOkD\n",
       "23JTewAAAABJRU5ErkJggg==\n",
       "\" style=\"display:inline;vertical-align:middle;\" /></a> <a class=\"ProveItLink\" href=\"__pv_it/115350c9985cb8be78f9542e1fd3ce400801d8550/proof.ipynb\" style=\"text-decoration: none\">&#x22A2;&nbsp;</a><a class=\"ProveItLink\" href=\"__pv_it/4d84420aa8c0c0e802ef1337a2ded5817e832f6e0/expr.ipynb\"><img src=\"data:image/png;base64,iVBORw0KGgoAAAANSUhEUgAAADUAAAAPBAMAAAC2KZqIAAAAMFBMVEX///8QEBCYmJgyMjIiIiKq\n",
       "qqrMzMzu7u5ERERmZmaIiIjc3NxUVFR2dna6uroAAABXsXCEAAAAAXRSTlMAQObYZgAAAN5JREFU\n",
       "GNNjYMAExT+aCxgufnzAgA00sR1gYP+AVYrhSMIqBgYBVDENFxcDEH2unSeBwQFFKmM5lHE6h90c\n",
       "JMd3Z/eqWWARIB8mx7ogByTHy9HFUL8BJMKzAS7HcI9pAVAulcWAYX8CSISDASHHU3AMKFdQ/4BB\n",
       "HyySaAwEBhA59gPMIHfGMzAcBsvtQNLHkMsGkpvMwPCJHSTCiCzHFNAAZMgysH7nBYlwLoDJHQPi\n",
       "20A57n8MvAZqYCFXmJwpSCXQZj4HBu5DAWChmr4CMJ3yEaiH3QA1zN62uCCLAADDBTVfYPhN3gAA\n",
       "AABJRU5ErkJggg==\n",
       "\" style=\"display:inline;vertical-align:middle;\" /></a></span>"
      ],
      "text/plain": [
       "{j in Naturals, k in Naturals, (j + k) = n} |- n in Naturals"
      ]
     },
     "execution_count": 45,
     "metadata": {},
     "output_type": "execute_result"
    }
   ],
   "source": [
    "jpk_eq_n.subRightSideInto(jpk_in_nats)"
   ]
  },
  {
   "cell_type": "code",
   "execution_count": 46,
   "metadata": {},
   "outputs": [
    {
     "data": {
      "text/html": [
       "<strong id=\"x_operands\">x_operands:</strong> <a class=\"ProveItLink\" href=\"__pv_it/07249168ca8750e731fe1ffea2593ecf19774d410/expr.ipynb\"><img src=\"data:image/png;base64,iVBORw0KGgoAAAANSUhEUgAAAL8AAAAVBAMAAADlQyK9AAAAMFBMVEX///9UVFTMzMx2dna6uroQ\n",
       "EBCqqqqIiIgiIiJmZmYyMjJERETu7u6YmJjc3NwAAAC+aOQFAAAAAXRSTlMAQObYZgAAAhRJREFU\n",
       "OMtjYOC7wEAzkAciTpOsjWdrA5HyjA+AxDrSHcY1gUh5ngUMDLwTSLeAP4FYeXMGBo4HpFvgf4BY\n",
       "+aMMDC/IiDsLouW5HBgqgRTf5Okx+LW8tCxFcvXC8ml4VSPkmScw7AVSrg+4PjAwaOPWwRLHsB7k\n",
       "HgVI1P06cP4BHuVgefZwEJN3AUMbUCCWgXMDg+YM3BYcvcAwG0ixQXhsfxj4C/AoB8sztICZDQwh\n",
       "DAycfxg4ChgYPHBbMP8AQzuCx7mA4bwBHuVgeZ4/ICbTB5AFrBsYzivgtSCagecTSjL3T8CjHCzP\n",
       "0gC1ABhEQOfkM+CzgOczAxswko5Do47/AshLuJWD5ZknqAsAI68BFMnnExik2B7gs+AbA+OCPIYJ\n",
       "XlADHICxhs8CkDzXNZ8/4Ei2ZGDgLuBtZIboOL8AlAjQGQzbGW4IGPA8MIQIMV7gngBWjqoSzgPL\n",
       "8wuBowMcVzziRQ9LIBZw9ACJRhBDAMYAiRws1xN3YAD5tgOYHXim20JDFMSDq4QrB8urVidAEjai\n",
       "qAD7OQfDw0gi/4Dp7gCycrYDOJVXMwUATT6BXNhlgAgDDB0IEaYAYNZkQFbOzIBT+XamhgJwYcew\n",
       "D1Ya9IsDfVeAEcEIEfYNwJTEgKz8OANO5esYxBXAxTVqhcOLoQNJhBuoGbX6u4BPOUgHKPyJrjJF\n",
       "nh4gtdi9R5JqYTlyqmUAM7SVq64tuN4AAAAASUVORK5CYII=\n",
       "\" style=\"display:inline;vertical-align:middle;\" /></a><br>"
      ],
      "text/plain": [
       "x_operands: (a_{1}, ..a_{_a}.., a_{j}, b_{1}, ..b_{_a}.., b_{k})"
      ]
     },
     "execution_count": 46,
     "metadata": {},
     "output_type": "execute_result"
    }
   ],
   "source": [
    "x_operands = [a_1_to_j, b_1_to_k]"
   ]
  },
  {
   "cell_type": "markdown",
   "metadata": {},
   "source": [
    "Make this one a little more interesting and demonstrate that expansions can be **ExprRange**s of any kind, not just variable ranges."
   ]
  },
  {
   "cell_type": "code",
   "execution_count": 47,
   "metadata": {},
   "outputs": [
    {
     "data": {
      "text/html": [
       "<strong id=\"y_operands\">y_operands:</strong> <a class=\"ProveItLink\" href=\"__pv_it/ec494df1d7f43bac0747e5f63f941b6c9e4619810/expr.ipynb\"><img src=\"data:image/png;base64,iVBORw0KGgoAAAANSUhEUgAAAPMAAAAVBAMAAABhxcWTAAAAMFBMVEX///9UVFTMzMx2dna6uroQ\n",
       "EBCqqqqIiIgiIiJmZmYyMjJERETu7u6YmJjc3NwAAAC+aOQFAAAAAXRSTlMAQObYZgAAAp1JREFU\n",
       "SMfFlk1oE0EUx//Z1HxOPrBiQEFzEZGCrnhoPQi5CCJCexBERN2L4EFrKIUgFUypFA+CqYJWD5pr\n",
       "LiWXGhCq8SBVPCQn9aKNoFBPVpQcJBVnXjYTx92dNrTgHGbm8ea/v515bz6AeB3/oYyK6s0GPzJw\n",
       "Wudl83nFNuYL1PoavJrrGXahqphN7eBIQbUTVvuXikCs0COY9e9W0H0t7XAbJcuwLR4EQo2eZ72k\n",
       "oP157eBhdYkwZLcvgWVsEB3RL9vQP3apI8vgKs0+l9bq/bkxD/TXwQOWVlrC5UfSiN8d62SGv4AF\n",
       "3ixb0SIGvOXxaTzl/5l2ovvO4XkVRtk7M5rBz6vSOtqIthA8JbqxIqZ5MwWftW/WGx0ysR0IqLNm\n",
       "FLE6HsJ44B3uQOsao4NDaNhZhHlm3yBHHieBMOXoMW/046pLrGvFtmeKz90bHbZ3PfsFAvFZMMIZ\n",
       "KwK9pbwG+oxbmoWS5GE/tehQqtLuTIJAtYw9mqP5gtdMPZr9EPXiPWeacU9gRYuuZb5luoaJKyLB\n",
       "9iZJw9MswYNh6Wa9KgJdOO6CbsJXHNWhl1CzTIm2sCPQiLw90aI0O8xDkMTrNKFF/CgqskPVDNgd\n",
       "1jhoxxfXu6Gv4H3SJDS5nPqdSKQlOpqNTfqR2EpJYBLx0Idse8FDt+yoUCBFBzc5x3/kHe8t2P6Z\n",
       "8yV52b3I7U+1o0cuKaOOkD5B8H53kVJjn8axZ0KcBHyryoOUFvySc3dI4W9XP+3u/BpSpUwYI5z5\n",
       "6q/r46KoTOdBJq+7EVe/vUe1UrVUjHyWrg88s0/E2ym+IlnHwMVOJ1h29YvDbvZ7VitVyxxSabo0\n",
       "ladCzDmw3s0RV/96pC4lKuK8zgfSti/VzXwgfexhbP+uzX6e/QFoGLlam2W5mAAAAABJRU5ErkJg\n",
       "gg==\n",
       "\" style=\"display:inline;vertical-align:middle;\" /></a><br>"
      ],
      "text/plain": [
       "y_operands: (c_{1}, ..c_{_a}.., c_{j}, 1 * d_{1}, ..i * d_{i}.., k * d_{k})"
      ]
     },
     "execution_count": 47,
     "metadata": {},
     "output_type": "execute_result"
    }
   ],
   "source": [
    "y_operands = [c_1_to_j, ExprRange(i, Mult(i, IndexedVar(d, i)), one, k)]"
   ]
  },
  {
   "cell_type": "code",
   "execution_count": 48,
   "metadata": {},
   "outputs": [
    {
     "data": {
      "text/html": [
       "<strong id=\"x_len_jpk\">x_len_jpk:</strong> <span style=\"font-size:20px;\"><a class=\"ProveItLink\" href=\"__pv_it/8d6f9068b9ba175d959c0aba3baaca53445e651d0/expr.ipynb\"><img src=\"data:image/png;base64,iVBORw0KGgoAAAANSUhEUgAAAIEAAAAVBAMAAACTeZA2AAAAMFBMVEX///+IiIi6urrc3NxERETM\n",
       "zMwQEBCqqqpUVFQiIiJ2dnYyMjLu7u5mZmaYmJgAAABN0h6tAAAAAXRSTlMAQObYZgAAAhxJREFU\n",
       "OMtjYGDgu8dAJmC9eABE8exiIBswpYJIvg8gkj0HRer0F+8DDMu+KYA5RzLRNPLsd9nDwJWfxMBw\n",
       "G8TlmgA2pwFVkR9rAwPPByhnL7rdLA8iGBjOAxkrESagg84AQQaGBCjnO7osx1RGAQY27CY8mTlz\n",
       "A4hu8uEIYIDKMP2ByfJ5zpwNNkHlQCsDJ1YTQmSgjOYInj0wE+AqWB0PQN1g2nD6AKoJB0UgQbQH\n",
       "ZlQzu0AEzATuC+xvDcDhewDmC4NC1gaQCcvAPJCrL7A9gMjATWBYxCcANeF8gbD+A4gg3AQuhYcg\n",
       "E96DeGUBQP8Z8BeAw5gBYQLHgVaoCfUHD5wDMxwQJjD0cESCnQf0+WSQ6xn0wQ4M2w0EGyAm8DRw\n",
       "Q+Pi2gVoMGSDpKEmnGDYBo4zAQYGtQAGWJAwmCC5gSGKFWrCDBEBMM2M7AbWBWEgN4CSEYcDItGw\n",
       "IZvAVwDRwfOJ+RNEMAHJBIbnLLBwAMcFDyTR8ArA1LQC8WKICXwfeL5zgVkX4SYA3c1lAosLsAns\n",
       "0EQzHaZmO8i8DQznN4Ad+RViAmcBVJYbxLiNkh54ocF+wgkS5ZHfgPbzbGDgnAOMoAIGWUhC42nR\n",
       "gQTp/BRQ6kAxgRMa3AxanpBUDQM1qLl5CSRVwwHEhAQG1gP2AThKgAX4C4iV0PLBfoEvDhU8AvhN\n",
       "AJcPDLsYOGQf4FDBR6CMSgJT7JSVkwBTtYvVBRREFQAAAABJRU5ErkJggg==\n",
       "\" style=\"display:inline;vertical-align:middle;\" /></a> <a class=\"ProveItLink\" href=\"__pv_it/f3593cfa007c37c62aea7fadd587d67076a549110/proof.ipynb\" style=\"text-decoration: none\">&#x22A2;&nbsp;</a><a class=\"ProveItLink\" href=\"__pv_it/11f7e9218547816e981c228d2ae31f168a9ff2f30/expr.ipynb\"><img src=\"data:image/png;base64,iVBORw0KGgoAAAANSUhEUgAAASwAAAAWBAMAAACIxbw5AAAAMFBMVEX///9UVFQQEBCqqqoiIiJm\n",
       "ZmYyMjJERESYmJjc3NyIiIi6urp2dnbu7u7MzMwAAAADGpxCAAAAAXRSTlMAQObYZgAAA0RJREFU\n",
       "SMe9lk9IFHEUx984uzuz6/x2PUXuqUPQHxD20CUj3I0uBtFSViBCelACqRbDQ57mkJ6ng+DNSRDJ\n",
       "SiS8dHKDjKDLFmQlxIgU0SFUFqQypd/7zczOzs5vftsENYfxuft9+z6/997v93vwDf7Lk65E079i\n",
       "76l/ByQb+NYWA19MiTwYFilFDUZG8mLBu8Ou1c7HYjHlDp5Xu4OVMCInIVFsIhh0jVU+FouptvG8\n",
       "Vh2s8ei1yeSaCKquoZlcLF/MTp8X9WBY3dGxlpv0cOterVqHuFjdPCzbi3ogVjIfHet5k+817zeH\n",
       "eVj+mJ1+r2GGlcI+mVyZEScg2ddb16AD85fEvZeddcu8wsNiMdfmGrASRXncQA/EUnSavmNwix4v\n",
       "gi35xEhs0T837crsVCwDvoSrrRvkB8xgW8FEDevFED6srTEmFFt0P5aVe7Csowdixei63uhwFdKX\n",
       "w8tJjkIcoe0cyHuQMT/3hGN1VeAnxBjMCV62MKZquBvHxepaq7xnHojVQn2uVeAczVk4VnwPYqb3\n",
       "Xz9YZVgKx7oC5BdYrC02eVgYk9gbh+bwzNDQAH560T52NmtYR4DsC7FaSmCt1x9byzkR1iC0Vp3v\n",
       "Q7G8jeNmqzBnelg0oXRp8pYQiyaniy7QaeSMjvkVYH3H9K6k71NzqaG3Btwiemeug0V2k7vAPJyW\n",
       "J1WQ+k8KsXJwQDbirf021iLtNRHWLnbr9VNYxgletljLk6ofS90iVQ3cltdoRcfgbluZYVkYGF9k\n",
       "p95QTLWgwQetjX0k6UrRxgoq2esgjAJss6r38bAwJm4cH5ZUgn2NeSAWwrye/5pdZFbsPOYYL6uC\n",
       "a5ylaybZhXsP2SpRQHpfOuVh8kK9C5O/faRD+vhtcI6UABarSzzvx1JyMPuYefgvHyY+HRw1vIM2\n",
       "Y9QJWBHD5anSRpKuIB96+cSKjXei3WL5hqtaxp8oB28Sz9yoF+CJJJAr5qeU4KpOV6bdrf3R7+9c\n",
       "1Yoz2CR7tk0gZiDOmmfS66ImmLyQBZE8YUgLoYONYkyXR/nbZZU3BqpBne6ZY40CsZw+d8LGQGlW\n",
       "52NRj4VIQ7P0tCPqqKGySqTW/3xoViMPpdKz6HPs3zy/Af54+cftiEpbAAAAAElFTkSuQmCC\n",
       "\" style=\"display:inline;vertical-align:middle;\" /></a></span><br>"
      ],
      "text/plain": [
       "x_len_jpk: {j in Naturals, k in Naturals} |- |(a_{1}, ..a_{x}.., a_{j}, b_{1}, ..b_{x}.., b_{k})| = (j + k)"
      ]
     },
     "execution_count": 48,
     "metadata": {},
     "output_type": "execute_result"
    }
   ],
   "source": [
    "x_len_jpk = Len(x_operands).computation()"
   ]
  },
  {
   "cell_type": "code",
   "execution_count": 49,
   "metadata": {},
   "outputs": [
    {
     "data": {
      "text/html": [
       "<span style=\"font-size:20px;\"><a class=\"ProveItLink\" href=\"__pv_it/10450811e1344e35f80f3ac12ace2e09bb0def3f0/expr.ipynb\"><img src=\"data:image/png;base64,iVBORw0KGgoAAAANSUhEUgAAAPEAAAAVBAMAAABlMBWuAAAAMFBMVEX///+IiIi6urrc3NxERETM\n",
       "zMwQEBCqqqpUVFQiIiJ2dnYyMjLu7u5mZmaYmJgAAABN0h6tAAAAAXRSTlMAQObYZgAAA1dJREFU\n",
       "SMe9lk1oE0EUx1+abLK7mWxT7LGFHERQhAatV5OoKMUP9lBqK4JB9OB3vAiC2NS0h6JIQESDikGl\n",
       "6EFYBBVri1vwUAiYFEFQQSIqClJaim1BS3G+Npldsmuh4EA2O/tm5vfezH/eDABon+A/F2nKJH9o\n",
       "dLUDbXUzhOIuhqaj5KnN0kYnbabSr90mjCzEaOX1MUdH9GrHGKhnDvNakjzPmfYmO/P4mXPz6SN5\n",
       "qHnKz9pN+6QsoFleGXd2DFR7Acq8EqaR/XA0CVdIAG7kR3WyswzrLQBpXll0WuXrvigEeWXaNsFR\n",
       "/tKcIWNHV07+WigY5P/SHlkHbmlasqxaV+EWJa81h0DhH681JHeQ2UfpFZO72/hLrheNWeRaCynF\n",
       "F1Peki2ZnOzPNyTTseHJP8kTrUwXY5YpF4r2WuRwJTRN17JkqUiOn5WynOwjC4pakg7yOFx8C/DY\n",
       "KeqHm1um8P8IHYXMbiVYZSPWyHBPi3JyObOmowqiVOW4GvusWGrDjwictpPRom/TMsBPGttLWoiH\n",
       "aiAFZQyZodtBx+sXp4KAANTJsjnEyf0T5hv6kqyT4Yrcx94V0vOLpUKLHFpqQ9il846Y9ysGJHSm\n",
       "/G4iEMQEAT3EN4ORUTbM9fGuwpf5BDFz8iQ8Y1+DZNObVIU4uBe4DdmgkVPUeMhBNssxFu8w9nCd\n",
       "XhdEpxAzHJA4+WYrC8QvxiwVewRyTYVWzMpAqhEZ+gEuE+kQ7+RkPVkERbKWYSQ0559jH9MCGb4H\n",
       "hNlmiUMgl2MJ4tF6YZ2zPHktI77O1FvElilS2/lD+HefkbVZtKjSt6kaGc+T2ikoDKvQTp7BX4pc\n",
       "YWI5jhWgcm1TcognixtWi+fEDwPKBp2UeVUIj0SYoe6jP6Q/jbbftJMHoVnH5A8OMJ491fgm7ucI\n",
       "X6bJbWyEvgUcLzJAuY2DykA7SzBocCOT2t0jLCkXcOsm2vW9I5PsAh85Cp8693Me/FczIlnhywQb\n",
       "ulj2tMoFe8cHLHvWMpZpZc87zhzGXM175rA0SGZCd2lS9DyZVX5iHPTPWyzbYel9YuDzOVHc69IC\n",
       "RT3JE1Ricf/vQKWhveR5PsMoyO1Vlxaa922kym8GAy4Xqu1udxJ2qQit9h7mehvS4h73sL+8aOkD\n",
       "23JTewAAAABJRU5ErkJggg==\n",
       "\" style=\"display:inline;vertical-align:middle;\" /></a> <a class=\"ProveItLink\" href=\"__pv_it/c8aa6a07db1de8efd0ffe61b095af4a0f85763ac0/proof.ipynb\" style=\"text-decoration: none\">&#x22A2;&nbsp;</a><a class=\"ProveItLink\" href=\"__pv_it/b86ca6939c57c66cf2c35326be3c23e7abda82c10/expr.ipynb\"><img src=\"data:image/png;base64,iVBORw0KGgoAAAANSUhEUgAAAPsAAAAWBAMAAAD0hvfJAAAAMFBMVEX///9UVFQQEBCqqqoiIiJm\n",
       "ZmYyMjJERESYmJjc3NyIiIi6urp2dnbu7u7MzMwAAAADGpxCAAAAAXRSTlMAQObYZgAAAnpJREFU\n",
       "SMdjeMtAH4DDntNgcgbt7GWegGQPdut5C0g29boKsfKSBK1nm0C6r1KJlb9G0PpWMgL1M7HyPAsI\n",
       "We9Juu3cf4mV51UgYD2nA+nW8zgQLZ9NwHquACAx9eiiC3gN5IyJ0kXw2KSWGuBTjSR/FJv1eyRn\n",
       "LV0AEWZvAAaWJkM+AwMfniywaQLbByCVB+Hdz+X9iU85WH4RONrb4NYfSwMBcKI8UL4AqAAszAJ0\n",
       "56UGhnAGvlDcQcqrwcAKsg3qJ/sLDL/wKQfJM7BsADFNsPiez8CNgfMfRJgJqCr+AoMXMAxwm8f6\n",
       "l4FlAYIbxsD7B59ysPx9cHS+x2I9L+9vBo4PCOvVGXj/4bWeqYDh/gPkbM39GZ9ysPwWBlzWMzB/\n",
       "YGBMgAc+0KlAAXzm3T/AYA90NSxB/QAFBx7lYPmjfAuBzC1ocZ8IDswEBv6GC7Ckx/sZ6BhLvNYb\n",
       "MIgxT2DlToBwf4NSCx7lYPkMa1Dwt2HzPRPQNxcOgIV5gBmviqFF4ADYPN5vIMsS0BnsCzgceRhu\n",
       "8giAhRgkGEohgYWpEkyA5T+CYysGm/XzNzAc43gAFgaZcnHVS6kNEO+4AF3MIgBkODJAGSARXql1\n",
       "E1eDQ4rFFyh0dU0DRCOYB1cJYoCVg+T5tIoZYFkV3XpgjExsRi90wdYzYxQ/SCL8wNrJFkW5LQMu\n",
       "5VwFjziB7nYgusphBinlwSxBEcxHoCIDRfkBnMrZFzzhIqbKYYdWuJwhH4Fqb2EoQhJZDvQOLPuD\n",
       "lfMuwKmcbQLjOmIqXNTmRgOGIiSRKgYGDhQ5DgZ8yoGgEp/160hqbDHu1CW1auSYgGQPhYDx4AQG\n",
       "agIAe1zQLbuTEkAAAAAASUVORK5CYII=\n",
       "\" style=\"display:inline;vertical-align:middle;\" /></a></span>"
      ],
      "text/plain": [
       "{j in Naturals, k in Naturals, (j + k) = n} |- |(a_{1}, ..a_{x}.., a_{j}, b_{1}, ..b_{x}.., b_{k})| = n"
      ]
     },
     "execution_count": 49,
     "metadata": {},
     "output_type": "execute_result"
    }
   ],
   "source": [
    "jpk_eq_n.subRightSideInto(x_len_jpk)"
   ]
  },
  {
   "cell_type": "code",
   "execution_count": 50,
   "metadata": {},
   "outputs": [
    {
     "data": {
      "text/html": [
       "<strong id=\"y_len_jpk\">y_len_jpk:</strong> <span style=\"font-size:20px;\"><a class=\"ProveItLink\" href=\"__pv_it/8d6f9068b9ba175d959c0aba3baaca53445e651d0/expr.ipynb\"><img src=\"data:image/png;base64,iVBORw0KGgoAAAANSUhEUgAAAIEAAAAVBAMAAACTeZA2AAAAMFBMVEX///+IiIi6urrc3NxERETM\n",
       "zMwQEBCqqqpUVFQiIiJ2dnYyMjLu7u5mZmaYmJgAAABN0h6tAAAAAXRSTlMAQObYZgAAAhxJREFU\n",
       "OMtjYGDgu8dAJmC9eABE8exiIBswpYJIvg8gkj0HRer0F+8DDMu+KYA5RzLRNPLsd9nDwJWfxMBw\n",
       "G8TlmgA2pwFVkR9rAwPPByhnL7rdLA8iGBjOAxkrESagg84AQQaGBCjnO7osx1RGAQY27CY8mTlz\n",
       "A4hu8uEIYIDKMP2ByfJ5zpwNNkHlQCsDJ1YTQmSgjOYInj0wE+AqWB0PQN1g2nD6AKoJB0UgQbQH\n",
       "ZlQzu0AEzATuC+xvDcDhewDmC4NC1gaQCcvAPJCrL7A9gMjATWBYxCcANeF8gbD+A4gg3AQuhYcg\n",
       "E96DeGUBQP8Z8BeAw5gBYQLHgVaoCfUHD5wDMxwQJjD0cESCnQf0+WSQ6xn0wQ4M2w0EGyAm8DRw\n",
       "Q+Pi2gVoMGSDpKEmnGDYBo4zAQYGtQAGWJAwmCC5gSGKFWrCDBEBMM2M7AbWBWEgN4CSEYcDItGw\n",
       "IZvAVwDRwfOJ+RNEMAHJBIbnLLBwAMcFDyTR8ArA1LQC8WKICXwfeL5zgVkX4SYA3c1lAosLsAns\n",
       "0EQzHaZmO8i8DQznN4Ad+RViAmcBVJYbxLiNkh54ocF+wgkS5ZHfgPbzbGDgnAOMoAIGWUhC42nR\n",
       "gQTp/BRQ6kAxgRMa3AxanpBUDQM1qLl5CSRVwwHEhAQG1gP2AThKgAX4C4iV0PLBfoEvDhU8AvhN\n",
       "AJcPDLsYOGQf4FDBR6CMSgJT7JSVkwBTtYvVBRREFQAAAABJRU5ErkJggg==\n",
       "\" style=\"display:inline;vertical-align:middle;\" /></a> <a class=\"ProveItLink\" href=\"__pv_it/1b62dee0256075842411853e4cc1e744b83e6a8e0/proof.ipynb\" style=\"text-decoration: none\">&#x22A2;&nbsp;</a><a class=\"ProveItLink\" href=\"__pv_it/2fbfc99ed6c3026f0162f66d6dccba671935ace90/expr.ipynb\"><img src=\"data:image/png;base64,iVBORw0KGgoAAAANSUhEUgAAAV8AAAAWBAMAAACVu4KiAAAAMFBMVEX///9UVFQQEBCqqqoiIiJm\n",
       "ZmYyMjJERESYmJjc3NyIiIi6urp2dnbu7u7MzMwAAAADGpxCAAAAAXRSTlMAQObYZgAAA4xJREFU\n",
       "SMfFl01oE0EUx992k+wm2d0GBcGePCh+QGEPvTQiTdVLoWKUKh6Kbg8tglCCoqAX92CLelrBgrdG\n",
       "oRQrhiC9eGoKKlI9xOJnQRKKUjxIUwJFaCvOzH51srOjoUIXkt3Zee8/v5l582YWfsI2X1q5Ofs3\n",
       "5P/BdqCKFv5XioGKUJpOF1jNbXGULmd51Z/20uWlffZ9NxuY0IjtDA3BcoBjVtOjQ+u16lzrwYZy\n",
       "3b59ZAMTGjnF0FANB3ikWd53sxtUeYYfiHW6mHSclTwTmKJJUxpzDnBP00Eg08AvuMZJ2hiUjDP3\n",
       "e5jAPSxgW2PeBo5ntgo8yDVWGvRjbsRfYgHTNGlKI1YkwAksoEwV+IxzU1U2cLy/UOd6xrLiiL9K\n",
       "xuaW3Yh/yQImNAuTDcC2hpIlwJKJWj0G10DjZIv7uoRCfpgB/MySUGkp3LWiP54xvfg4CDfL8AiH\n",
       "L4x6wK+G8EUmCtNAtsWkgW0N2SDAEdTjSAl2amc4sdELAjLTaWC81tQDEDXge1+4a9dC+bNrDfMm\n",
       "nEXNEcwO1ghjGtly806a0hAzBLgF+VzAaslw4OgGI4bVVbsG9Ramw4FP2zFLrHFDvWjACPwyCxjT\n",
       "qHbeQeN+dGhowNfQah7wfuADt+RYi67brqkUucDdk3nPGjWkrrnWocB+3klTGg4wmgR1/S/AlRIe\n",
       "owk9GMOopgt4wOpafM0vrINYQ8tNe+j4bI7hATck/LyTpjSSGW/R/UIBwgNuRTZ6NGkwgHXYhY4F\n",
       "4cByTa0rHnAdBKMTLh7GQTHKGmGy6NQ6DexoOIsOJQs4Bep5AkwirWI0PkRT8KH6RUmRNyj3+MBS\n",
       "Xu5WyGh5HrS/kIPfHjDcgFupEqyQFNnPAsY0IG7QwI5GtESAMafy+q4TEsdR1yMpJ+TIA34Db2/n\n",
       "Se8jJzD+jtVz3pi1Fe49safXc/X9kbWkw8RTf1ef+tFW1A5dwc/DLGACEc3QwI5GrEpvzcRWDJwL\n",
       "/DetKP8fYU/8NNM1xDqRW4yjrmZCt+ZItvEsQa73DYcfkSgEt1bvaRH9SmzgDqZriLWU/5bgHH60\n",
       "8ri7q36ld1sHWLI3znjfCpJYCMj7b9CGqeaZCGMn21iuIdYxSyiEHi8la7x0lZ1vDNYB3gzYmZtW\n",
       "DMicQ0PQlWcN18MO8MKEyZ4YNLCFJj6RhOft//MTSSbzmqj++yfSnSZbEGYt2O7rD58RGwt1f26P\n",
       "AAAAAElFTkSuQmCC\n",
       "\" style=\"display:inline;vertical-align:middle;\" /></a></span><br>"
      ],
      "text/plain": [
       "y_len_jpk: {j in Naturals, k in Naturals} |- |(c_{1}, ..c_{x}.., c_{j}, 1 * d_{1}, ..x * d_{x}.., k * d_{k})| = (j + k)"
      ]
     },
     "execution_count": 50,
     "metadata": {},
     "output_type": "execute_result"
    }
   ],
   "source": [
    "y_len_jpk = Len(y_operands).computation()"
   ]
  },
  {
   "cell_type": "code",
   "execution_count": 51,
   "metadata": {},
   "outputs": [
    {
     "data": {
      "text/html": [
       "<span style=\"font-size:20px;\"><a class=\"ProveItLink\" href=\"__pv_it/10450811e1344e35f80f3ac12ace2e09bb0def3f0/expr.ipynb\"><img src=\"data:image/png;base64,iVBORw0KGgoAAAANSUhEUgAAAPEAAAAVBAMAAABlMBWuAAAAMFBMVEX///+IiIi6urrc3NxERETM\n",
       "zMwQEBCqqqpUVFQiIiJ2dnYyMjLu7u5mZmaYmJgAAABN0h6tAAAAAXRSTlMAQObYZgAAA1dJREFU\n",
       "SMe9lk1oE0EUx1+abLK7mWxT7LGFHERQhAatV5OoKMUP9lBqK4JB9OB3vAiC2NS0h6JIQESDikGl\n",
       "6EFYBBVri1vwUAiYFEFQQSIqClJaim1BS3G+Npldsmuh4EA2O/tm5vfezH/eDABon+A/F2nKJH9o\n",
       "dLUDbXUzhOIuhqaj5KnN0kYnbabSr90mjCzEaOX1MUdH9GrHGKhnDvNakjzPmfYmO/P4mXPz6SN5\n",
       "qHnKz9pN+6QsoFleGXd2DFR7Acq8EqaR/XA0CVdIAG7kR3WyswzrLQBpXll0WuXrvigEeWXaNsFR\n",
       "/tKcIWNHV07+WigY5P/SHlkHbmlasqxaV+EWJa81h0DhH681JHeQ2UfpFZO72/hLrheNWeRaCynF\n",
       "F1Peki2ZnOzPNyTTseHJP8kTrUwXY5YpF4r2WuRwJTRN17JkqUiOn5WynOwjC4pakg7yOFx8C/DY\n",
       "KeqHm1um8P8IHYXMbiVYZSPWyHBPi3JyObOmowqiVOW4GvusWGrDjwictpPRom/TMsBPGttLWoiH\n",
       "aiAFZQyZodtBx+sXp4KAANTJsjnEyf0T5hv6kqyT4Yrcx94V0vOLpUKLHFpqQ9il846Y9ysGJHSm\n",
       "/G4iEMQEAT3EN4ORUTbM9fGuwpf5BDFz8iQ8Y1+DZNObVIU4uBe4DdmgkVPUeMhBNssxFu8w9nCd\n",
       "XhdEpxAzHJA4+WYrC8QvxiwVewRyTYVWzMpAqhEZ+gEuE+kQ7+RkPVkERbKWYSQ0559jH9MCGb4H\n",
       "hNlmiUMgl2MJ4tF6YZ2zPHktI77O1FvElilS2/lD+HefkbVZtKjSt6kaGc+T2ikoDKvQTp7BX4pc\n",
       "YWI5jhWgcm1TcognixtWi+fEDwPKBp2UeVUIj0SYoe6jP6Q/jbbftJMHoVnH5A8OMJ491fgm7ucI\n",
       "X6bJbWyEvgUcLzJAuY2DykA7SzBocCOT2t0jLCkXcOsm2vW9I5PsAh85Cp8693Me/FczIlnhywQb\n",
       "ulj2tMoFe8cHLHvWMpZpZc87zhzGXM175rA0SGZCd2lS9DyZVX5iHPTPWyzbYel9YuDzOVHc69IC\n",
       "RT3JE1Ricf/vQKWhveR5PsMoyO1Vlxaa922kym8GAy4Xqu1udxJ2qQit9h7mehvS4h73sL+8aOkD\n",
       "23JTewAAAABJRU5ErkJggg==\n",
       "\" style=\"display:inline;vertical-align:middle;\" /></a> <a class=\"ProveItLink\" href=\"__pv_it/e9ad94a9faaffb121af0c2e5db67c16f00dc14120/proof.ipynb\" style=\"text-decoration: none\">&#x22A2;&nbsp;</a><a class=\"ProveItLink\" href=\"__pv_it/69b89c24988c2e6f5d430cbf8f37b74748ea7af00/expr.ipynb\"><img src=\"data:image/png;base64,iVBORw0KGgoAAAANSUhEUgAAAS8AAAAWBAMAAABj8gc6AAAAMFBMVEX///9UVFQQEBCqqqoiIiJm\n",
       "ZmYyMjJERESYmJjc3NyIiIi6urp2dnbu7u7MzMwAAAADGpxCAAAAAXRSTlMAQObYZgAAAwJJREFU\n",
       "SMfFlk1oE0EUgF9+d5PsJkFBaE4eFH+gsAcvItIERRAqVqnioeh6qAhCCQqKXgxoi3jagoJ4cRVC\n",
       "MWII4kUQmoItUj1Ewb9eEopSPEhTAkVJW5yfzW4mmUwSInYOs/Py3pv53ry3eQu/YJNHuMD//R2Z\n",
       "H2wGksfAs5ITgKnJHqO+PCRSf9nByks76bOvLZjf6DrafkaMaELr0Qa5Qh+f24KNd8v1YWadkacL\n",
       "QvMKK4YsZ8VsB3a06+TJLNgboXGINQYlTp/q9jZggXivYKNCY6Vhf3+tIi+1AQtiQyWTFbPMZ0p8\n",
       "sMBItiL09A95xp0qvj+/XKvIWR7Y676HaZOCSSm0+yG4CmHB23lPk3SAMQ7YC0NC0lJr16L2dDpl\n",
       "53UP3CzAE1xeMGGDzV3Ag1x8/pqp/qFgXhSBNw9bw6cEOR0EFzLTWDBc8+pu8OnwY7i168BC4WvN\n",
       "Gj6m4DQ6juDs49xYWDsCgQ0K5ka6c9gr1BrMt86pMXWValBU8LI12ElaU8QaHzSILpFALnPAVLUK\n",
       "ctkB2wViMHeSV/wJqinmhGCJKdO2Rgehky1rHhh4yuDS7VSqa23AinkcTVprrjGkGQARmFoNVB1h\n",
       "DZ8Ms+HHlk99jZ0nudEhkirYxf8boYrAIshG84V0DpgG21Dbaw0ml9WKYoNV0H3sh4sHcDIneDfm\n",
       "RoEW8gRMQTVwAtSzBIxUQlGvW5DJF4VPpW9K1KqUoAMmmXJCIdGzHrbkSsKGDQY34HY0Dyvkr2eE\n",
       "B/YoB3NyiYBhHuXtXSuVh1Eo3qhVEmThPYam93dMerdY79uyesa+g1h28hlNi+3q+CNXSYP0c6eb\n",
       "ZX7GcuG9V/B6jAeGNpq81dCSCJinue8dtBNqcPXWfkJXZgSTiwEUUrzTJu4hls1G+dpika+3/5ME\n",
       "rsyQzO/BTpq4RBtGYHgFmS40v1ZmbTUFPD1pNMdjYle2SRmubCefPcyHYqr5taqrXJ6+I1fOuC4C\n",
       "y3bxae161f8vP61lkqdgqfedXDMG/K/xF/fi8J8D+4RSAAAAAElFTkSuQmCC\n",
       "\" style=\"display:inline;vertical-align:middle;\" /></a></span>"
      ],
      "text/plain": [
       "{j in Naturals, k in Naturals, (j + k) = n} |- |(c_{1}, ..c_{x}.., c_{j}, 1 * d_{1}, ..x * d_{x}.., k * d_{k})| = n"
      ]
     },
     "execution_count": 51,
     "metadata": {},
     "output_type": "execute_result"
    }
   ],
   "source": [
    "jpk_eq_n.subRightSideInto(y_len_jpk)"
   ]
  },
  {
   "cell_type": "markdown",
   "metadata": {},
   "source": [
    "Now we perform the lambda application"
   ]
  },
  {
   "cell_type": "code",
   "execution_count": 52,
   "metadata": {},
   "outputs": [
    {
     "data": {
      "text/html": [
       "<a class=\"ProveItLink\" href=\"__pv_it/f8f839e39cfc5be3f6cfaddfc9320769c2e9ed290/expr.ipynb\"><img src=\"data:image/png;base64,iVBORw0KGgoAAAANSUhEUgAAAhYAAAAVBAMAAADoYrpnAAAAMFBMVEX///9UVFTMzMx2dna6uroQ\n",
       "EBCqqqqIiIgiIiJmZmYyMjJERETu7u6YmJjc3NwAAAC+aOQFAAAAAXRSTlMAQObYZgAABIVJREFU\n",
       "WMPVmE1oU0sUx09yY9IkN03xq+BCuik+EbRd+QFCN0IQsV0IPvUpd/HgdaWxKKVUJMGPpV4VP0GM\n",
       "4kIDSjbPgmBfXIjy+t5LVs+PhcSFoAuhaumiRHHm3I/5uDeXmerGgZOG6Znf+efcmXNnBqC7CZ3b\n",
       "QVBumpxQ9w9R479XS2eByZZjMBMFjbWU42tyZsD8syT1mbXAwHV7/PFaWoJwKnDm11A6rHbtfhTU\n",
       "rCjH1+QQ94wt9WXo8/lN7Jv3x+tpCcBR4F0Io8PfjuXsSOpGbxoVOzj84f5V5PDueUtyegnweLAt\n",
       "dCXabLyWlgAcBc5DKN0oonVFz7wnqvEVObz7cF1yOkMli7kwSmy8lpYAnHYmRLhPN0fQ3kXPtsyQ\n",
       "YnxFDu++SS5upWAuvKlOx2tpkeHYaUhFxF9It9EmqIgLl6VVaoyPuV9sxfiKHN795vglwTlly7l4\n",
       "v3GDxcZraZHh2Jmxky9bIXTYjPaIfG5rZWZJUeWe0Gl4CHFa1XMVxfiMA7dEDmT6GIdzNxfqjRYf\n",
       "NduUcpE4AH/VmQ4dLQhP7eb+SQU2rOPDTZF+FGGv0E6TcfshXYO1V9ADl1nXAKyMX6UTKllSjO9z\n",
       "ADDZpschYzkO555sQ77oRnW8LZYLlPGkCdeA6dDRgnA4CQxGOuHQ0/q/Ih26cOGNou0CSLehi+AL\n",
       "KGqBft6gzgkaOk4ftFGt3tlbrfYEgm+pVk9VqzfpV8ZxWqPicbAhR3KvQGPAiep4Lxnyc+HLOMHp\n",
       "0NJC4aaTVwdGOuGiDTK9gRI3oBGXJTVo9Lm5gDL92AdCLlSeBeO4ZbvH47BciO6kcA1bblT05nLh\n",
       "yTDn5FwoakF4wp1IZS8X5cmiTHfiO7kgU4c8nUPg9WLePvu5SGjMS4djTlgi5+kljsO555v00RS4\n",
       "t54l1gsyPDnL6dDRgnDDXsPmD13Ec91zMn1z/LD72wu0pDQsWEW245yqL3SRY2ideuVw0omKyLG3\n",
       "Q2jtzA+RAsNHlWunOQ+xykGmQ0cLwjP/72jztTM3a84bEv3e73SVOLWTvE2yxVzZEFSdA/O8oyE9\n",
       "IManCxuXW0P6cT7nP6NH4JitQY7DuceaWVuIiu/MFPcemYIXPQNMh6QFZXTSgvD8Ui5RtLMGnwyJ\n",
       "/hFX9QU0osXsHXtzRFS19bk7JTN9Yi5wYZe9L1x8xsk2RQ6+zTwO7355q7AyMWB6xcJ1v+Px+Pre\n",
       "IaZD1lKGCC0U3j/JbcRJZ9aCiWMiPb77AbjbgFvc3rkgzTjU8Ex/D56Xd+NfOU7AvSDtwYPN16Gt\n",
       "ZTI+0hL24MGWqvV3k8yV0NiZalQ+1Ze485BZ7xD/n8DZrF/yiI9wnID7qHg2C7tdKElnM2UtU/FS\n",
       "UTybBVq2+EvKP5vBtLcjPdsrng6ufCzqnJM9DkwGUh923p4OiZoNe3S+Dn0t96G3L0SgeE0QG/PP\n",
       "7NF3MNlF3OVMBVIfxgkLG3KXw+lYjBbFy6Zp1yLv5l5r36vFdkrHs+Vv62EcvTu+14vSonrHl2s5\n",
       "9qNbbFCCLlsNP0n7BgtKucU9m6DnAAAAAElFTkSuQmCC\n",
       "\" style=\"display:inline;vertical-align:middle;\" /></a>"
      ],
      "text/plain": [
       "(a_{1} * c_{1}) + ..(a_{_a} * c_{_a}).. + (a_{j} * c_{j}) + (b_{1} * (1 * d_{1})) + ..(b_{_a} * (_a * d_{_a})).. + (b_{k} * (k * d_{k}))"
      ]
     },
     "execution_count": 52,
     "metadata": {},
     "output_type": "execute_result"
    }
   ],
   "source": [
    "requirements = []\n",
    "dot_prod_lambda.apply(*x_operands, *y_operands, requirements=requirements)"
   ]
  },
  {
   "cell_type": "markdown",
   "metadata": {},
   "source": [
    "Note that the requirements, in this case, only relate to matching the length of the operands and respective parameter index ranges.  The necessity that the $x$ operands and the $y$ operands match with respect to corresponding **ExprRange** start and end indices is not needed as an explicit requirement; it is a simple matter of checking that the expressions of these indices match identically.  In other words, that requirement is met by a trivial inspection."
   ]
  },
  {
   "cell_type": "code",
   "execution_count": 53,
   "metadata": {},
   "outputs": [
    {
     "data": {
      "text/html": [
       "<span style=\"font-size:20px;\"><a class=\"ProveItLink\" href=\"__pv_it/10450811e1344e35f80f3ac12ace2e09bb0def3f0/expr.ipynb\"><img src=\"data:image/png;base64,iVBORw0KGgoAAAANSUhEUgAAAPEAAAAVBAMAAABlMBWuAAAAMFBMVEX///+IiIi6urrc3NxERETM\n",
       "zMwQEBCqqqpUVFQiIiJ2dnYyMjLu7u5mZmaYmJgAAABN0h6tAAAAAXRSTlMAQObYZgAAA1dJREFU\n",
       "SMe9lk1oE0EUx1+abLK7mWxT7LGFHERQhAatV5OoKMUP9lBqK4JB9OB3vAiC2NS0h6JIQESDikGl\n",
       "6EFYBBVri1vwUAiYFEFQQSIqClJaim1BS3G+Npldsmuh4EA2O/tm5vfezH/eDABon+A/F2nKJH9o\n",
       "dLUDbXUzhOIuhqaj5KnN0kYnbabSr90mjCzEaOX1MUdH9GrHGKhnDvNakjzPmfYmO/P4mXPz6SN5\n",
       "qHnKz9pN+6QsoFleGXd2DFR7Acq8EqaR/XA0CVdIAG7kR3WyswzrLQBpXll0WuXrvigEeWXaNsFR\n",
       "/tKcIWNHV07+WigY5P/SHlkHbmlasqxaV+EWJa81h0DhH681JHeQ2UfpFZO72/hLrheNWeRaCynF\n",
       "F1Peki2ZnOzPNyTTseHJP8kTrUwXY5YpF4r2WuRwJTRN17JkqUiOn5WynOwjC4pakg7yOFx8C/DY\n",
       "KeqHm1um8P8IHYXMbiVYZSPWyHBPi3JyObOmowqiVOW4GvusWGrDjwictpPRom/TMsBPGttLWoiH\n",
       "aiAFZQyZodtBx+sXp4KAANTJsjnEyf0T5hv6kqyT4Yrcx94V0vOLpUKLHFpqQ9il846Y9ysGJHSm\n",
       "/G4iEMQEAT3EN4ORUTbM9fGuwpf5BDFz8iQ8Y1+DZNObVIU4uBe4DdmgkVPUeMhBNssxFu8w9nCd\n",
       "XhdEpxAzHJA4+WYrC8QvxiwVewRyTYVWzMpAqhEZ+gEuE+kQ7+RkPVkERbKWYSQ0559jH9MCGb4H\n",
       "hNlmiUMgl2MJ4tF6YZ2zPHktI77O1FvElilS2/lD+HefkbVZtKjSt6kaGc+T2ikoDKvQTp7BX4pc\n",
       "YWI5jhWgcm1TcognixtWi+fEDwPKBp2UeVUIj0SYoe6jP6Q/jbbftJMHoVnH5A8OMJ491fgm7ucI\n",
       "X6bJbWyEvgUcLzJAuY2DykA7SzBocCOT2t0jLCkXcOsm2vW9I5PsAh85Cp8693Me/FczIlnhywQb\n",
       "ulj2tMoFe8cHLHvWMpZpZc87zhzGXM175rA0SGZCd2lS9DyZVX5iHPTPWyzbYel9YuDzOVHc69IC\n",
       "RT3JE1Ricf/vQKWhveR5PsMoyO1Vlxaa922kym8GAy4Xqu1udxJ2qQit9h7mehvS4h73sL+8aOkD\n",
       "23JTewAAAABJRU5ErkJggg==\n",
       "\" style=\"display:inline;vertical-align:middle;\" /></a> <a class=\"ProveItLink\" href=\"__pv_it/0988d1421a38e21c4ce07f27cab102c28307b8060/proof.ipynb\" style=\"text-decoration: none\">&#x22A2;&nbsp;</a><a class=\"ProveItLink\" href=\"__pv_it/6b7cd8e492be20ad3c53f2425c7ffab90db5c83d0/expr.ipynb\"><img src=\"data:image/png;base64,iVBORw0KGgoAAAANSUhEUgAAAVUAAAAWBAMAAACCmRJrAAAAMFBMVEX///9UVFQQEBCqqqoiIiJm\n",
       "ZmYyMjJERESYmJjc3NyIiIi6urp2dnbu7u7MzMwAAAADGpxCAAAAAXRSTlMAQObYZgAAAxBJREFU\n",
       "SMe9l01oE0EUgF+S3WST7G6DB7E5efAgSiEHLyKlKYrgQcyhikgPuSiKKAERbU8BseBtCwrixSgE\n",
       "D0oI4kXwkB7qwV5iUYteEoriSUwpFLVGnJ/d7OxsZjIr6kC6s/vevPf17Zs3b+EL/J/B+7HbEQ2g\n",
       "BStkkq7+M8iEQy4r3GOzSS53FSwc9BZQG2uREdb2qMrHJaxWRcFVzAmwXoger7Oq8ncS1iTCSEyM\n",
       "sGSVWVajFJ11U1Vu1sSsNwFeL/VHuXrFsmpOZNRsX1Vu7RazHsOBGsm6yrLejh5Ws6gsvyhkTReV\n",
       "WJNNhrWO182ekSdOUCGZrxek9n35spA1U5Kzvhi/V0cZZJYY1uvo99RJ9gA+i71TBbhM7zqXrO9g\n",
       "i7cxkT8kqbowYDXPkVHyWFNVOWvrWg1ZAaPMsB5GWbUX9Ap8mhHvRqIA4EZrqg0/7JPiRMBy0EhS\n",
       "HhDGVStIWe3CUUj/QpWiyLDuB9D7oKEoPBM6dxW8cQqsn5AVsxJ5hxxOX4Ws8aaU1bK2wUDv0u4F\n",
       "WeMV6HRlrK6CXz6zmzJWIqfW/pgVEj2IlTlWlAOdFkyBjJUqWN6O+YYDLWEl8mX7gWeTzdecYg6A\n",
       "Xoaxapu6YfZWpwA70dEtYSUKerZMb7dhtSpjJfLzh3AWLAjjOmpvxVF82q3g3kJVJVUzpk0SA2sL\n",
       "k5XdyeCOKrw3c/TRLrgKhDWs6cs3SNLMCllJMcr0hUbuN+Gl0QW9xbBiwnxj8TF9X0dQLDT8nqbB\n",
       "/aMdHyjgUGCFt0+qlBXLGM0c+HJ73xXwqtxQVrxe37F1WmQE0SzeQLW6O/SMxayJcGs5OZiNOYwC\n",
       "yYHJ8JZw5ZnKehr9k0X5Gcs54I2g8WZ474JroTmkKA9m66wCKXyt8PnqXlO1j5mRvQvvgDfC9y4w\n",
       "5z69cyIP8CFc6PzC+gh8hfTMRo2VecOTJ51YQ94TppyQA94I3xMGe+3wN4LhT+d5BSP8FoIG5hR6\n",
       "bamRlNdrNyJ9w8SeT0DEYdDQNbjHma7yN8wtdoH6iC1F73T/2vgN2HMfO8LtLywAAAAASUVORK5C\n",
       "YII=\n",
       "\" style=\"display:inline;vertical-align:middle;\" /></a></span><br>\n",
       "<span style=\"font-size:20px;\"><a class=\"ProveItLink\" href=\"__pv_it/10450811e1344e35f80f3ac12ace2e09bb0def3f0/expr.ipynb\"><img src=\"data:image/png;base64,iVBORw0KGgoAAAANSUhEUgAAAPEAAAAVBAMAAABlMBWuAAAAMFBMVEX///+IiIi6urrc3NxERETM\n",
       "zMwQEBCqqqpUVFQiIiJ2dnYyMjLu7u5mZmaYmJgAAABN0h6tAAAAAXRSTlMAQObYZgAAA1dJREFU\n",
       "SMe9lk1oE0EUx1+abLK7mWxT7LGFHERQhAatV5OoKMUP9lBqK4JB9OB3vAiC2NS0h6JIQESDikGl\n",
       "6EFYBBVri1vwUAiYFEFQQSIqClJaim1BS3G+Npldsmuh4EA2O/tm5vfezH/eDABon+A/F2nKJH9o\n",
       "dLUDbXUzhOIuhqaj5KnN0kYnbabSr90mjCzEaOX1MUdH9GrHGKhnDvNakjzPmfYmO/P4mXPz6SN5\n",
       "qHnKz9pN+6QsoFleGXd2DFR7Acq8EqaR/XA0CVdIAG7kR3WyswzrLQBpXll0WuXrvigEeWXaNsFR\n",
       "/tKcIWNHV07+WigY5P/SHlkHbmlasqxaV+EWJa81h0DhH681JHeQ2UfpFZO72/hLrheNWeRaCynF\n",
       "F1Peki2ZnOzPNyTTseHJP8kTrUwXY5YpF4r2WuRwJTRN17JkqUiOn5WynOwjC4pakg7yOFx8C/DY\n",
       "KeqHm1um8P8IHYXMbiVYZSPWyHBPi3JyObOmowqiVOW4GvusWGrDjwictpPRom/TMsBPGttLWoiH\n",
       "aiAFZQyZodtBx+sXp4KAANTJsjnEyf0T5hv6kqyT4Yrcx94V0vOLpUKLHFpqQ9il846Y9ysGJHSm\n",
       "/G4iEMQEAT3EN4ORUTbM9fGuwpf5BDFz8iQ8Y1+DZNObVIU4uBe4DdmgkVPUeMhBNssxFu8w9nCd\n",
       "XhdEpxAzHJA4+WYrC8QvxiwVewRyTYVWzMpAqhEZ+gEuE+kQ7+RkPVkERbKWYSQ0559jH9MCGb4H\n",
       "hNlmiUMgl2MJ4tF6YZ2zPHktI77O1FvElilS2/lD+HefkbVZtKjSt6kaGc+T2ikoDKvQTp7BX4pc\n",
       "YWI5jhWgcm1TcognixtWi+fEDwPKBp2UeVUIj0SYoe6jP6Q/jbbftJMHoVnH5A8OMJ491fgm7ucI\n",
       "X6bJbWyEvgUcLzJAuY2DykA7SzBocCOT2t0jLCkXcOsm2vW9I5PsAh85Cp8693Me/FczIlnhywQb\n",
       "ulj2tMoFe8cHLHvWMpZpZc87zhzGXM175rA0SGZCd2lS9DyZVX5iHPTPWyzbYel9YuDzOVHc69IC\n",
       "RT3JE1Ricf/vQKWhveR5PsMoyO1Vlxaa922kym8GAy4Xqu1udxJ2qQit9h7mehvS4h73sL+8aOkD\n",
       "23JTewAAAABJRU5ErkJggg==\n",
       "\" style=\"display:inline;vertical-align:middle;\" /></a> <a class=\"ProveItLink\" href=\"__pv_it/a71930b78a38a3b2733b5147b9d00d1af678e7650/proof.ipynb\" style=\"text-decoration: none\">&#x22A2;&nbsp;</a><a class=\"ProveItLink\" href=\"__pv_it/896e1beadfe6e4b488a7d8c126e62c319790cf2f0/expr.ipynb\"><img src=\"data:image/png;base64,iVBORw0KGgoAAAANSUhEUgAAAYgAAAAWBAMAAAAodhaSAAAAMFBMVEX///9UVFQQEBCqqqoiIiJm\n",
       "ZmYyMjJERESYmJjc3NyIiIi6urp2dnbu7u7MzMwAAAADGpxCAAAAAXRSTlMAQObYZgAAA21JREFU\n",
       "WMPNl0FoE0EUhl9NmmTTmbQgFBuL9iBUVDBILx6kKfUiUtxq9SDF5lKhCBI8iO0pIBX0YFdR0JO5\n",
       "lGDFGKR4k6ZgQfSyiLTSS4oiglCsFKRSI87MbnZ3sjOTxAp1DrubvH/em2/mvdlZWIVtbjGz6o+G\n",
       "R7QKb9n9wXYM/yi7okLV39aItExtBwHD7sC64PQWZ/OKrjIv7ROqmwwFxFI9cTu8ECGj0WEf4ZOg\n",
       "NaFUj4JIjVMKiDF/EH9b9EJMNoiAO/fy/ufU4dZBqH4jh4jo/iD+hrIeiBMNJ9AU7/+VUtxSBqH6\n",
       "nRwiaPiDCCazy4XQkluFGFVPWFKcXaGCFOIe1AMBl1yIKC00NJNXj4Sze/1rw/l1ZdeQHpg0BGqk\n",
       "SyGm1RAt8w9nzpP7ggsRJtuZ1g9XISbfpZgdQisCiOdGmOTLFzlEKfF4LsOpowdY4qcqEOgia7oD\n",
       "cU0NgcITUCLzcsOFCJLdIliEnbGz8ryidrIz8yuB2WU/NKfg85AconfZ/EDvpqOGk2yfT0pXol8N\n",
       "8SmYgkdkQntciB3Ezwjt0CKHGDEFNVGiU9lcpoQwK4c4bb0X8A9HjVmpx9akEAfVEGapAFPk/o2H\n",
       "6AY1RLeosINttHcaiEsVRF8ua90dtRXo7yGgF6CdhyDphH+pISz78hlBYZeK1KUCAm9qm1VqpH9t\n",
       "s8N5a6Kt3nSCcwAb2A7qFvYGTXjFSjC7/kIEkYB2coqRQ0TW8Dri1aHrL8vewvatRI3ChkMQKCOu\n",
       "sOlWNwj4AoOgec6yl12cX9SOjXm7DuCZ6z+cjfQhNil8Dyakl6Y0/Ea8unUPfW4uSiEW7CC8S+cX\n",
       "WVqUug0w7ELQsaPXt6yH4ICdvezCsv64advpBDH74OFRZ8/E8fydJ9bKUiHr4XSl6nACpp/y6o85\n",
       "enxiG7YYYrYShHNp+R1gA9V2EReXBccOlk7H/EdeZ9p/Cu1QCRvwr79YnYt1kV3+fY1jB9RyiZOC\n",
       "AyDbuIv+V4tziO4S2lnr8QrdJlZPxJLZWgfAqtgil9wBMGxxa0Pfs4Czvl7LlYcoeaML7LTdPxX3\n",
       "CN25EqvHIL6iPoqPV8cWuVyUfRRF/CEzblUK7X6hypu7I9TzUaR0OW53yDfwebr7rgn/sN20Vnel\n",
       "6u983Z+nEcPTod7W2QH/ZfsDbjQ5s/Lx7WIAAAAASUVORK5CYII=\n",
       "\" style=\"display:inline;vertical-align:middle;\" /></a></span>"
      ],
      "text/plain": [
       "<proveit.magics.HTML_DisplayObjects at 0x7fb873d254e0>"
      ]
     },
     "execution_count": 53,
     "metadata": {},
     "output_type": "execute_result"
    }
   ],
   "source": [
    "requirements"
   ]
  },
  {
   "cell_type": "markdown",
   "metadata": {},
   "source": [
    "Parameter independent expansions are only possible when all of the indexed variables of a particular expression range are expanded."
   ]
  },
  {
   "cell_type": "code",
   "execution_count": 54,
   "metadata": {},
   "outputs": [
    {
     "data": {
      "text/html": [
       "<strong id=\"dot_prod_with_y\">dot_prod_with_y:</strong> <a class=\"ProveItLink\" href=\"__pv_it/659fefe38095ffafdaa8f03a1b0cfb4070ba35160/expr.ipynb\"><img src=\"data:image/png;base64,iVBORw0KGgoAAAANSUhEUgAAAXUAAAAUCAMAAABF/F2xAAAANlBMVEX///8oKCgNDQ3MzMxUVFR2\n",
       "dna6uroQEBCqqqqIiIgiIiJmZmYyMjJERETu7u6YmJjc3NwAAADtE0dfAAAAAXRSTlMAQObYZgAA\n",
       "AyJJREFUWMPNmdm2pCAMRelW0YAy/P/PXhyQKXhBpFfzUKlVFcnOAYIiIYQoSTq2RVU4W5QWpKqA\n",
       "9WiNVNaKjXRtY7kKFqUNaewhe7NKluqyq+qruliLXS1KG1JFQFKN1kx1WslJ5zZBoaNFaUWKAy5Q\n",
       "XQ8gg/YB1WGZ6q26mDN/QBTaorQixQE/UP0DlSzVbhUj3dtKM7mFE8iitCNFAdtV/0QlS2UsXJkL\n",
       "gFFRmKBhMHNdTE7dcE8Kc7EoFUgC+P6vmkUu4DeqV6mUgbqpjN3OGyIxmdrFgLCj1g9vNuywi6Ao\n",
       "rhmdlyDOhVKDNBG6r1vQoYdcP1YdRcoWcA8Kk8FYtpyeZlwmLQg19Wvg/M2C8ruIcmAZ1Qls3ny4\n",
       "UAqQ7EVqIXxPZdtCj4V9rDqClEw6kkLhMhg70/sa50bfqC6wSEcb3Kj//bMGTWtXgi+U35GEXu+Q\n",
       "866PhtDjDjgdQdh8mLFo7qBXoEhh9pYphMJkMHZ2WTs3+nbz0PCL6iysdZR5+16k+gMSu+WgZuaZ\n",
       "/oeM6l/NdRQpWg5uUD2ojOp2WQdub1W/u5BcDmC3IL+7sONhFSRbYYqQjrUMc+RBO1WYfIo4FC6D\n",
       "sdc+sYiz+oN4rbrfhaSz6XdWv+ym4QNftJsWIW2j/fA9eu2m+RRxKFwGY8/bGaoXsun7iOdKwNVP\n",
       "V7SSn+wXvwslYO9BXzOZT06PoL7w3J1VFimZVuPuKSMPLyCi4VNaGdVTpChFFCojg7EnqxgBzG2m\n",
       "lOFaYLYMu6J1f3NfTqewi9FgU/uIuA74jOJDVOR9m0GKNzHjxbWKPKKASb1IcvCrMnYFhhSkmIFC\n",
       "Zdgt9qx7J7CIstKStHk4xvSII0rr1dOJwEPR42vkEQfscyLgp5iDwmQ4LHauc9/vTkU3W+lPaq9+\n",
       "jC7DZ6dfC6r6uO7VgUYecUAhalVPrkiRghQzUKgMp93iYVSc6RHOZ9uigwBkZu4LFiZZefBqUR6Q\n",
       "oiloImwQeXQ56U2Q/BRzUJgMl304ry96fSJreR8GsPatBjUFdGgISKrR3kIlM6rvGzz5r9/gyf/y\n",
       "DZ6lOuwPfFwruNzIBkwAAAAASUVORK5CYII=\n",
       "\" style=\"display:inline;vertical-align:middle;\" /></a><br>"
      ],
      "text/plain": [
       "dot_prod_with_y: (x_{1}, ..x_{_a}.., x_{n}) -> ((x_{1} * y_{1}) + ..(x_{a} * y_{a}).. + (x_{n} * y_{n}))"
      ]
     },
     "execution_count": 54,
     "metadata": {},
     "output_type": "execute_result"
    }
   ],
   "source": [
    "dot_prod_with_y = \\\n",
    "    Lambda(x_1_to_n, \n",
    "           Add(ExprRange(a, Mult(IndexedVar(x, a),\n",
    "                                 IndexedVar(y, a)), one, n)))"
   ]
  },
  {
   "cell_type": "code",
   "execution_count": 55,
   "metadata": {},
   "outputs": [
    {
     "name": "stdout",
     "output_type": "stream",
     "text": [
      "Expected error: Failure to apply (x_{1}, ..x_{_a}.., x_{n}) -> ((x_{1} * y_{1}) + ..(x_{a} * y_{a}).. + (x_{n} * y_{n})) to (a_{1}, ..a_{_a}.., a_{j}, b_{1}, ..b_{_a}.., b_{k}) assuming ((j + k) = n, k in Naturals, j in Naturals):\n",
      "Improper replacement: Improper replacement of (x_{1} * y_{1}), ..(x_{a} * y_{a}).., (x_{n} * y_{n}) via {(x_{1}, ..x_{_a}.., x_{n}): (a_{1}, ..a_{_a}.., a_{j}, b_{1}, ..b_{_a}.., b_{k}), x: {(x_{1}, ..x_{_a}.., x_{n})}}:\n",
      "ExprRange indices failed to match expansion which is necessary because not all of the indexed variables being indexed by the ExprRange parameter are being expanded (x is expanded but y is not): Unable to prove (1, .._a.., j, 1, .._a.., k) = (1, .._a.., n) assuming {(j + k) = n, k in Naturals, j in Naturals}:\n",
      "'conclude' method not implemented for proof automation. \n"
     ]
    }
   ],
   "source": [
    "from proveit import LambdaApplicationError\n",
    "try:\n",
    "    dot_prod_with_y.apply(a_1_to_j, b_1_to_k, requirements=requirements)\n",
    "    assert False, \"Expected an LambdaApplicationError error.\"\n",
    "except LambdaApplicationError as e:\n",
    "    print(\"Expected error:\", e)"
   ]
  },
  {
   "cell_type": "markdown",
   "metadata": {},
   "source": [
    "But we can do a parameter dependent expansion in this case, as long as we can prove that the indices of the expansion match the original indices."
   ]
  },
  {
   "cell_type": "code",
   "execution_count": 56,
   "metadata": {},
   "outputs": [
    {
     "data": {
      "text/html": [
       "<a class=\"ProveItLink\" href=\"__pv_it/8bbf776e82ca64613286ba75d7b2fa4b3d8263df0/expr.ipynb\"><img src=\"data:image/png;base64,iVBORw0KGgoAAAANSUhEUgAAAfMAAAAVBAMAAACgSxpTAAAAMFBMVEX///9UVFTMzMx2dna6uroQ\n",
       "EBCqqqqIiIgiIiJmZmYyMjJERETu7u6YmJjc3NwAAAC+aOQFAAAAAXRSTlMAQObYZgAAA/hJREFU\n",
       "WMO1mE1oE0EUx1+SbZN0t2lAIdCD5OJBBJuepIJQD9XgweYgCNWW3uypLmIpwYPpQT2p0YKt9dBY\n",
       "FGRBTU89iCU9lBYtJogH60HiQbEHsVZRkFqc2ZndmdndJLvbOIck/PPe772387EzAxCrQJ02Cq5b\n",
       "XVBr1SZ9Ba+tWckYqFd1TQJV19Hqg/ZZBaXoufSmJUNRT+uaKAXX0eqDXlqFtqrn0puWDEG15+vb\n",
       "HDZGrFrD4Dz9bgAKqRb7dfDempUMQUUaPPxlt9EagJSMxf6mj9KblQxBfWlg0tbrMloj0EPRPpbz\n",
       "UXrTktFRWZzG5NQ5sYuyKnwqkYGadxnNEbQyBTGq9Ij2Yczd6Bkr1cByntys2VUyAhOhXqCvvmrb\n",
       "JsBBLoSUgSsQxGtwe8FlNAaCOfPPVB+EN4nwXrSX0dtHGoJnuAOShjmXAuepN9/JgI1JVoMCXEN9\n",
       "PAjRIhyYJh2OPz5HC/A8eA+Pydacy2gmCGDYAMWGZ0AuEmFEtI8gbbkC9zHaQHEp8J565b6TARuT\n",
       "IHJwGiC6DRHESutSGT/YUosKv0HCgYL4MYU07fGApsVtoY5o2lVNe4B/MhCYIAXOQAdVukT7FjRt\n",
       "Z0tw3TDX2WlHzwD+2F0yNiZGIaOWIpSTRtyIjuwvBbe4aG4eNAMBA0nb0JXkSmf2uPSzoGwZ5kVW\n",
       "utVTFkv3k4yNiVFoaJRTcMGMS9oMhDMkmuRhjBGQkh02/0QTZ4wKaduAV35AK6pl5a6ldKsnK917\n",
       "MutvxvMikyoIhRaE8jB0oj02X/o8yHESyMvKQkBRiW26EGUeiGBf5pRfECiMQv6kU+mcJyvdezJv\n",
       "B2FIZFIFodA7R1bbJ0Jir9+G/gqJFk2J0fRJ88dYFLhoJuh1iE3DaFz6S4VJMTv8nlqAd/GUUu12\n",
       "7HXmyUr3nExsJQfbAtNQEApFUxIXP14SS18an62SaMabx4imT5oJc1Fg0RhIZqcmJZHdocKcWDqG\n",
       "L40fSvTiLgpo2oD2REjB9OzUHmlaxW8yAVXKiEyqIBTb8qWFoTNDH/Sq971jB7+LRPNLF5RczY3s\n",
       "jlOvM0+u170n05KMppICkyqr/EZ/hDvSFZSf9C1qnBiUWtuuNduJYT/7sxPKvUQwjy9r1uNLMGOW\n",
       "PuLkSUr3mcw3iBxPCkyqYNQi1TduJdiroCKrEJv+rno5JxoguMy0G2g+E8F2aJWNjgkXjdL5FJin\n",
       "XrrfZI5B+KjIJIqOcjrUS+N3rAl6uB1YYNqJbJIKizWvKmTV7HVw8iS97jcZO5Oh6l/lfPB8JxQ4\n",
       "ZTk06EJ7zQuqveSc5HRnQ1Gy/2SaUZeHW6TuagNBbHvI1VW1NioG/6X9A97mf+LJhLFlAAAAAElF\n",
       "TkSuQmCC\n",
       "\" style=\"display:inline;vertical-align:middle;\" /></a>"
      ],
      "text/plain": [
       "(a_{1} * y_{1}) + ..(a_{_a} * y_{_a}).. + (a_{j} * y_{j}) + (a_{j + 1} * y_{j + 1}) + ..(a_{_a} * y_{_a}).. + (a_{n} * y_{n})"
      ]
     },
     "execution_count": 56,
     "metadata": {},
     "output_type": "execute_result"
    }
   ],
   "source": [
    "requirements = []\n",
    "dot_prod_with_y.apply(*param_dep_operands, assumptions=param_dep_assumptions, \n",
    "                      requirements=requirements)"
   ]
  },
  {
   "cell_type": "code",
   "execution_count": 57,
   "metadata": {},
   "outputs": [
    {
     "data": {
      "text/html": [
       "<span style=\"font-size:20px;\"><a class=\"ProveItLink\" href=\"__pv_it/5c9da1edf20f102f7fde18dfd8cbb9e347db6cde0/expr.ipynb\"><img src=\"data:image/png;base64,iVBORw0KGgoAAAANSUhEUgAAAPMAAAAVBAMAAABhxcWTAAAAMFBMVEX///+IiIi6urrc3NxERETM\n",
       "zMwQEBCqqqpUVFQiIiJ2dnYyMjLu7u5mZmaYmJgAAABN0h6tAAAAAXRSTlMAQObYZgAAAu1JREFU\n",
       "SMe9Vk1oE0EUfmaz3c1muybgtZCDCIJgQD14aopeRC05iKYiGEQvKhovglBoNOZQFAmISFExqAR7\n",
       "EBalCm3FLXgQckh7VKFERBQ8tIi2oEGcv53d2ckk0IMDmczsN9/75ufNvAcAzjL876IvefjPnu07\n",
       "UmurECO7Me3YGVw7q8TGeQFq/jzoQWMtQ3tvFQYue1ARv9hv9s+DdfGUghDAH3HXqpEJlMVBo3oZ\n",
       "7FXWeaGw9A3NMfIp3i4AtJSr5fB0IB0tk/k0QJG2nUX1zlkpsW/e2ZSCAeVwDsvSzoGpe6Rx7ZCZ\n",
       "B4YkehyoXRSJ5lavCglpmARL0vqIx1qVgj3vS+/t5TDPRaK5p9z0JGkZDqQXtlDv8pWhYqQKvvQQ\n",
       "8sinu9JL0QWnc6h+JhLN7CW9zKQDkgw3SM9F1eIAuT+Bv1bgkZNi0qNofvERaEX2fRAuoPo7CEQz\n",
       "a2U+MemAJMMr5Ibk0VFkN5dwOxeSNr0qk74LcCzhwnBelP4M66i+AgLRzMJNc4y2A5IMJ5HrHrmN\n",
       "9w524i3Rz82hwqTtcpK5ELqGXitDJ9rEI+ZmcNOLdVB9EgQisv0OXlIeJ3WDJ9HV2EbmRY5dC68a\n",
       "juuBNEwA3JAuVs2X1sLL0utHWccndYGT+B0xyffXBCmGpZ1Sjm84fn3+2hFpvGmwXSQi2/A1zjqc\n",
       "JMMrfO72OkECJ66i3+McdzM4C0bHiki3StzNOBG9BmDtZh1OkuEGlzY69PEo+WNeYRd2oeXS+6P9\n",
       "AMv9EpGewP7xQSQmS2S19h8Ik6Jw+F4PUme2r++gQ8bW0IptFxL36Z7GaqDdKkWk3+NqRiDqD08D\n",
       "edinvDBJgkPSCfZMx56wh9Qv4z0e0gfYaK070fDEIBm1S6WLoHvRO8tLXRk+Tmi/uoQP7v19AvY0\n",
       "i9fD9cOq6EAs7+uWPvyOL4IcNP2y0EeaxGuYBXNIlYY46lTh6rJqVri0+2QpNJkw+uZm6gTJ2ViC\n",
       "RHKzfyhd59in+qZoAAAAAElFTkSuQmCC\n",
       "\" style=\"display:inline;vertical-align:middle;\" /></a> <a class=\"ProveItLink\" href=\"__pv_it/ab8559f99a94ae45569722ab63612387e554c9be0/proof.ipynb\" style=\"text-decoration: none\">&#x22A2;&nbsp;</a><a class=\"ProveItLink\" href=\"__pv_it/1d3ea89c21e3b854454c8ca41c8d275804bf5c130/expr.ipynb\"><img src=\"data:image/png;base64,iVBORw0KGgoAAAANSUhEUgAAAW4AAAAWBAMAAAASimukAAAAMFBMVEX///9UVFQQEBCqqqoiIiJm\n",
       "ZmYyMjJERESYmJjc3NyIiIi6urp2dnbu7u7MzMwAAAADGpxCAAAAAXRSTlMAQObYZgAAAyRJREFU\n",
       "SMfFl01oE0EUx1+aTXa32UlzCjYW7E1Fq0G89KCm6EWlEPGTEnARDBRBe7Q57UEFL3YVBT2IixiE\n",
       "KjEEEbwlh170EkUUe0nRk0IxIoiiFWdnP2c3u7P1sA5kP4b3f++XmTdvZ2AV4m/Zrqdj3RCr8JLc\n",
       "b8dEPEmuUtPTbUCICttBUjUFRILmYuJOqCHc76J4GHVzp9WYuJEcwj2Lf7u6DA9v3dyXY0vtF8Hc\n",
       "QhnQ2CYWt6S5uA/Gxv06mJvTJ32BxY3GHW6xFBt3uhnIfROicMM5h3u4jC+3lu6Ha2gDsTIzERXW\n",
       "pZTKgdz1cO5M587iDL4vOdw8LkCZrXABV9bgwmIYQHrFeG2p6T6+nbdrMlNJmiBb3FKVtLLNfTGc\n",
       "W+Jr0MOpdMXh5oo48RQ4CdnjwRlDDHABNdNsC6R00qKFzVYa9bcUON77w7k/cjLcw4O22+Eewn5O\n",
       "d+EQHprg6IaB1VJrwGlWUSaDGk2Z7Qdybwvn7vaasIDvX2juzYD+hEY3DKw2NAc9M2OAZ3C7lf/O\n",
       "DfsA8jQ3zhP0G5L9sOimwfJR47XX1v2gepHNbSiFU5/rlpk7v3NR8wROAPxAAE+pdYm+QUKeDItu\n",
       "GJSfmdxFyCfVVEaOwE2UQksZUt3r0jfejHUJ2yG5JlHrUi9ONbiUa5PoPewafQfzYr8RA6R2jC5e\n",
       "E6YkeC/l3Ny2rf7gUd59ACOYKdUO5CYF7knXE9Z+E3+BJF8DqDjcesxXi58KTfLETeOuKTAvnE52\n",
       "oGsZ6KOiG6BC4/ojMlP56plqVaGVRORRFqBlldHB3HoCHNl5ViEaInYgpgmkuKFoVl7vd57M9h7/\n",
       "7tGZvZ+UwYhK5UmYcgdUsgBvGN95TzSrOY5RadC+ipTXtr/mO1v+ccrgg11PWEqxD4f3svZV3mh2\n",
       "aw/eV/HmXxWPfdUAaT7Zsv00jD82LoOHFjdTmcnBYyV8Hzvvi2YPsjZ4H0udGwT/33UOIrxGGdTs\n",
       "8WYqwRkgxrnBf+xxOZ43BY11ndM23nDnXuL5BMXNbleNSVvxdDcin9ME1SWI3sZGqVNXh3gR/8PR\n",
       "+i/PjR923EABWwAAAABJRU5ErkJggg==\n",
       "\" style=\"display:inline;vertical-align:middle;\" /></a></span><br>\n",
       "<span style=\"font-size:20px;\"><a class=\"ProveItLink\" href=\"__pv_it/15fe2b0129bd6ed03939ee57d8524e01802181af0/expr.ipynb\"><img src=\"data:image/png;base64,iVBORw0KGgoAAAANSUhEUgAAALUAAAAVBAMAAADyYbJ0AAAAMFBMVEX///+IiIi6urrc3NxERETM\n",
       "zMwQEBCqqqpUVFQiIiJ2dnYyMjLu7u5mZmaYmJgAAABN0h6tAAAAAXRSTlMAQObYZgAAArBJREFU\n",
       "OMutlU1oE0EUx/8m2WSz3a4JeLSQgwiKYMB68NRUvRS15FBqKoKh6EVF14sgCI3GHESRgIgEFYNK\n",
       "0YOwKFVoI47goZBD0qMKIaKi4MEi2oIEcb52N7vNRhAfZHa+8ps372sAGC38d1GWCPvo83/dGW4H\n",
       "rcTSAQuhY6w1lvmmk56l+o99BLMrKTF6HQA4S1D0zugv99agnZ4G3rGhVuYnFLybxpUC9GU5eBrA\n",
       "/kKV8E1F2jmgQTuPXLZfLmeTQF70jWawubSEd6zeWJdAtDf7Y6Vise/F/WoWciWeDmbr9vljlVuc\n",
       "vYmUEO/JntgoO8WcXrPZu/r5+YmIi1Ei9d5ZqBMv+9UGoUXN/ksxlsjZ7CHq9oc7kkt+lZMZ2j4W\n",
       "vie2TdJnlAJjz/IRs0Ez2hYrDhv3jIRkj1MFIqNo+EwziFO0/Sq3O2wt9Z6xv/FAylJrpdeb3Mtw\n",
       "2SopSfZN4GDcwkjWy/6AVdqe4/2My8ZVdYp2BmgATFxn18N2fqnJBSqWYOuFAeknGq2kkRKa1NmO\n",
       "hTnWJaEObY9wc59gs5K9iGc80mgEbebqcNNjuEtvHFJcNmaAK2vir2yzw916K9VJpjdLGJXPv+Ar\n",
       "0W62YWYcm7A0+6372Oza2MK7+S42Pkdse/PT9VXhHicTSvR3P+P4EscR62g+dsN0fOnEEM0KaMN2\n",
       "nHB2rOOqyOU5O8lCwxJhFv4OzfrkY88wH70V6WXadzHFJbvie1CGxOJuEahTK1Rn3UL8trh2qIzw\n",
       "NdPHfsOaORHrl7aJHLp7FKLIuOy4XTK2jomct+V8n5y/w6BSqdADkfOOCHYeCvHHriPVwFp1OPyz\n",
       "R63ysmn9HqkeCCpF/K97er0XvyJNrK2xjvD6jXmoQ0EPixH8NlxoBR3LbTQt3qXWv79pRrrPe/kH\n",
       "PHSxsBf3jrsAAAAASUVORK5CYII=\n",
       "\" style=\"display:inline;vertical-align:middle;\" /></a> <a class=\"ProveItLink\" href=\"__pv_it/c25c158ddf27cfd1eb4e3f9bff3fc1624615e6fb0/proof.ipynb\" style=\"text-decoration: none\">&#x22A2;&nbsp;</a><a class=\"ProveItLink\" href=\"__pv_it/98fe30941f74f99893658a6cc9df8adb8b65054b0/expr.ipynb\"><img src=\"data:image/png;base64,iVBORw0KGgoAAAANSUhEUgAAAS8AAAAUBAMAAAAuOqYxAAAAMFBMVEX////MzMxUVFR2dna6uroQ\n",
       "EBCqqqqIiIgiIiJmZmYyMjJERETu7u6YmJjc3NwAAACgK8IjAAAAAXRSTlMAQObYZgAAAnRJREFU\n",
       "SMe1VjGI1EAUfV72llt3ktvKSnDBQhA8g4161cI1dgpaKm4jWoh73bFYGAQPFYtwFopwEMXmUhx2\n",
       "IqKkEcUTNlpYWNwtNlq5Kx4Wsoozk0nITbKZycJNkfz8yct7mfnz/wesELs1qv2sT4vuGrtsKD9/\n",
       "XhiXgrLK5rKuDR3cFPujdRWl2RTGJ3lGqfR91rWugyMepXVBDh4ttRaXBVoNMxYzf6lHdxyYYau2\n",
       "NYkwDRg5I3s06d4A37GLwvBUdmjS7W2hq3rz7XXx90vP9IVVjv1YekDvJ+UJFd3C3Lcu3X/DxSuV\n",
       "MHc6OuA1XNAXZtSfo0d37Qt/8Plwma2is18ukn80FD0sK940+7Ntbmzit76wfTMeBg3gijyhoNvT\n",
       "vgvrJ01RDs4phBGcjiaDyojd5n3/lu8/UQgLei1s0fsBeUJBR8g2zCEVOFQKA07E2+OUCP4OcHgC\n",
       "YagOMeVxYctKYWvxSXFLCHsE/CXAqVSMNTW2EjUPs2GAiqMOfhKHVq9dQthZVEeGCP70UNFN2+gE\n",
       "Ngt+fqBvBCB/mAh26Xkpgy7uSBidQBYWwxJE8mRtw/A+Avdl4gI6fhm0MG82ULP5Yq9cXAtxm/He\n",
       "ZMm5GRv3+OI6wngoJ9gEliASGN0K6whd4ceysAI67qLzXz/TsGlENYKvTHZ9r/Ii4grjTibzF8Gi\n",
       "MHByS9IYXMr1jldVcehysh09HgFLR9TYz9JLND7sSKW5sKIiPhZn7CjieB2XnmzY088O7BfcsH7V\n",
       "3fyKlQsb3/aMp0u5WNuTdG7ZztJkLVs3jIxDq/nHKB8mqchpFMOiT9X7ur3uZMOctLXeBP4Dts3q\n",
       "Cgs+qN0AAAAASUVORK5CYII=\n",
       "\" style=\"display:inline;vertical-align:middle;\" /></a></span>"
      ],
      "text/plain": [
       "<proveit.magics.HTML_DisplayObjects at 0x7fb873cffd30>"
      ]
     },
     "execution_count": 57,
     "metadata": {},
     "output_type": "execute_result"
    }
   ],
   "source": [
    "requirements"
   ]
  },
  {
   "cell_type": "markdown",
   "metadata": {},
   "source": [
    "Also note that an explicit expansion must be provided for each precise range containing an expanded range of variables."
   ]
  },
  {
   "cell_type": "code",
   "execution_count": 58,
   "metadata": {},
   "outputs": [
    {
     "data": {
      "text/html": [
       "<strong id=\"inconsistent_dot_prod\">inconsistent_dot_prod:</strong> <a class=\"ProveItLink\" href=\"__pv_it/4ac6c421881ac64d869a164361c0f0511588ee7a0/expr.ipynb\"><img src=\"data:image/png;base64,iVBORw0KGgoAAAANSUhEUgAAAd8AAAAUCAMAAAD7hsepAAAANlBMVEX///8oKCgNDQ3MzMxUVFR2\n",
       "dna6uroQEBCqqqqIiIgiIiJmZmYyMjJERETu7u6YmJjc3NwAAADtE0dfAAAAAXRSTlMAQObYZgAA\n",
       "A6dJREFUaN7VWtGWoyAMZRdEQQX9/59dUCkEAoNg94w8TDptTO5NIEGUEEI2Td48pu2GsuPawfmW\n",
       "v/vIHouHk2ol7x6sPuCOaxdn9o0EP5gFh++Sy/by/KqlWtVx7eJ8wx+5jezBeJxSz+TtYxCVio5r\n",
       "J+fE3yTumoiveDQLDt8h5fb6/Kox84OIuDmunZwTf/35fTQLDp+VmyTvHwvPRBGuCse1m3Psrzu/\n",
       "D2fB4TNSXCFQQrCNi0H0zJuyDSVm+8s2qnYHuIXB5xFuU2DYHNcbnHGPw/xwfu9noRhMh8/I9dyW\n",
       "q8H0ACmIPHoybdrMQRuIV8Jt4RB7s4fQAuheSyajE3Bzcb3DGcesl4fziyJqCgXAZ6ScTnUzDYZd\n",
       "EW76AJ3npnIR2sBu8CYyW7/r2uohsBBFS2byS8QazO+L68+c1Q+YJ/lwfhFEmTX0UygAPiNH/rnO\n",
       "6/Km/KqsP/fzaFntotUDsBAO6mfx3z8LGPvue+XF9UfOal/KmL2/4XAix0OwqlWAXYEiwiLgkGVD\n",
       "AfAZOXr6Xpc3t/u9NJO5mZrGJ233EFjI5FfCfsRlsBWK8pvnLFkZM90fXr8oImx4ZJlQxPl1NQvo\n",
       "Nuf3Y0PPmgoRbUOOiiLGDg8fC9A+z9VnuiiSrc9VnFHM/Ev1GYug2XHRqlAEig6fkVdnn9TZqoVq\n",
       "j35oQ/PRGB5hH1mZ+9Oa348FaD+7v4KnQtH+qoozivlb+yskgsx8xWpCESoG+6tzK833iaz755Db\n",
       "MfHlvuJDaGNTwpqwJSToZjOzWrrZg7cQ2rdfD37rCKrznLttyHOOl0mKGfjDslWkgF6RInIMeeoN\n",
       "D0Wo6D4YeYJWTAhzR6V1VH+ka2efuo98uHSgDWYI8BEasRrzvjV7CC0E9s0ypZlyTqNmHMoc52hH\n",
       "g2BO/CWnUXku+BUYIsuQjqB448BSRYfPSuxkzDOZVFVdTsdIj+lDY4V56fVwWgjtq9piXzqfLHSM\n",
       "GHPi7yvnk5ahMJvpbSe0CCxRdPgOiZ1s+/u7oerUAblVtW1E8okGCmyxhYp3ePAWoP0nni9MaH5R\n",
       "zIk/dftELr4iRXQwtEtTr1iMolAARfB8gazx1NlmuTNxnYLVHBpiNzK2HolBhwrS/LeKHg/eArBf\n",
       "/7zOcS1xhusKwfyV54MJooOh3R9ubFAlYIkifD5YfLJc806BrlXgpmHQLg+ohTQ0hZly9/k+5nH9\n",
       "Dc/38VCgk/jl7+fo//x+jv7l7+c4fIf8B2OQNwjgoVWaAAAAAElFTkSuQmCC\n",
       "\" style=\"display:inline;vertical-align:middle;\" /></a><br>"
      ],
      "text/plain": [
       "inconsistent_dot_prod: (x_{1}, ..x_{_a}.., x_{n}, y_{1}, ..y_{_a}.., y_{n}) -> ((x_{1} * y_{1}) + ..(x_{a} * y_{a}).. + (x_{m} * y_{m}))"
      ]
     },
     "execution_count": 58,
     "metadata": {},
     "output_type": "execute_result"
    }
   ],
   "source": [
    "inconsistent_dot_prod = \\\n",
    "    Lambda((x_1_to_n, y_1_to_n), \n",
    "           Add(ExprRange(a, Mult(IndexedVar(x, a),\n",
    "                                 IndexedVar(y, a)), one, m)))"
   ]
  },
  {
   "cell_type": "code",
   "execution_count": 59,
   "metadata": {},
   "outputs": [
    {
     "name": "stdout",
     "output_type": "stream",
     "text": [
      "Expected error: Failure to apply (x_{1}, ..x_{_a}.., x_{n}, y_{1}, ..y_{_a}.., y_{n}) -> ((x_{1} * y_{1}) + ..(x_{a} * y_{a}).. + (x_{m} * y_{m})) to (a_{1}, ..a_{_a}.., a_{j}, b_{1}, ..b_{_a}.., b_{k}, c_{1}, ..c_{_a}.., c_{j}, (1 * d_{1}), ..(i * d_{i}).., (k * d_{k})) assuming ((j + k) = n, k in Naturals, j in Naturals):\n",
      "Improper replacement: Improper replacement of (x_{1} * y_{1}), ..(x_{a} * y_{a}).., (x_{m} * y_{m}) via {(x_{1}, ..x_{_a}.., x_{n}): (a_{1}, ..a_{_a}.., a_{j}, b_{1}, ..b_{_a}.., b_{k}), (y_{1}, ..y_{_a}.., y_{n}): (c_{1}, ..c_{_a}.., c_{j}, 1 * d_{1}, ..i * d_{i}.., k * d_{k}), x: {(x_{1}, ..x_{_a}.., x_{n})}, y: {(y_{1}, ..y_{_a}.., y_{n})}}:\n",
      "Failure to expand (x_{1} * y_{1}), ..(x_{a} * y_{a}).., (x_{m} * y_{m}) because there is no explicit expansion for (y_{1}, ..y_{_a}.., y_{m}).  The known expansions are for this variable are {(y_{1}, ..y_{_a}.., y_{n}): (c_{1}, ..c_{_a}.., c_{j}, 1 * d_{1}, ..i * d_{i}.., k * d_{k})}.  (Note that multiple, equivalent expansion forms may be provided to fulfill this requirement). \n"
     ]
    }
   ],
   "source": [
    "try:\n",
    "    inconsistent_dot_prod.apply(*x_operands, *y_operands, requirements=requirements)\n",
    "    assert False, \"Expected an LambdaApplicationError error.\"\n",
    "except LambdaApplicationError as e:\n",
    "    print(\"Expected error:\", e)"
   ]
  },
  {
   "cell_type": "markdown",
   "metadata": {},
   "source": [
    "However, we may supply *equivalent alternative expansions*, `equiv_alt_expansions`, to handle such cases as appropriate.  This was covered in the previous chapter and will not be revisited here."
   ]
  },
  {
   "cell_type": "markdown",
   "metadata": {},
   "source": [
    "All of the expansions within an **ExprRange** must match with respect to the indices of their **ExprRanges**.  That means that the number of entries of the expansions must match:"
   ]
  },
  {
   "cell_type": "code",
   "execution_count": 60,
   "metadata": {},
   "outputs": [
    {
     "name": "stdout",
     "output_type": "stream",
     "text": [
      "Expected error: Failure to apply (x_{1}, ..x_{_a}.., x_{n}, y_{1}, ..y_{_a}.., y_{n}) -> ((x_{1} * y_{1}) + ..(x_{a} * y_{a}).. + (x_{n} * y_{n})) to (a_{1}, ..a_{_a}.., a_{j}, b_{1}, ..b_{_a}.., b_{k}, y_{1}, ..y_{_a}.., y_{n}) assuming (k in Naturals, (j + k) = n, j in Naturals):\n",
      "Improper replacement: Improper replacement of (x_{1} * y_{1}), ..(x_{a} * y_{a}).., (x_{n} * y_{n}) via {(x_{1}, ..x_{_a}.., x_{n}): (a_{1}, ..a_{_a}.., a_{j}, b_{1}, ..b_{_a}.., b_{k}), (y_{1}, ..y_{_a}.., y_{n}): (y_{1}, ..y_{_a}.., y_{n}), x: {(x_{1}, ..x_{_a}.., x_{n})}, y: {(y_{1}, ..y_{_a}.., y_{n})}}:\n",
      "When expanding IndexedVar's within an ExprRange whose parameter is the index, their expansion ExprRange indices must all match. (y_{1}, ..y_{_a}.., y_{n},) vs (a_{1}, ..a_{_a}.., a_{j}, b_{1}, ..b_{_a}.., b_{k}) do not match as respected expansions for y_{a} and x_{a}. \n"
     ]
    }
   ],
   "source": [
    "try:\n",
    "    dot_prod_lambda.apply(a_1_to_j, b_1_to_k, y_1_to_n, requirements=requirements)\n",
    "    assert False, \"Expected an LambdaApplicationError error.\"\n",
    "except LambdaApplicationError as e:\n",
    "    print(\"Expected error:\", e)"
   ]
  },
  {
   "cell_type": "markdown",
   "metadata": {},
   "source": [
    "They must match with respect to which entries are singular versus **ExprRanges**:"
   ]
  },
  {
   "cell_type": "code",
   "execution_count": 61,
   "metadata": {},
   "outputs": [
    {
     "data": {
      "text/html": [
       "<strong id=\"defaults.assumptions\">defaults.assumptions:</strong> <a class=\"ProveItLink\" href=\"__pv_it/ce2458abb26320dc020e7ed51c17cc5a1cbc96980/expr.ipynb\"><img src=\"data:image/png;base64,iVBORw0KGgoAAAANSUhEUgAAATgAAAAbBAMAAAAaHo51AAAAMFBMVEX///8iIiJERESYmJiqqqoQ\n",
       "EBB2dnbc3NyIiIhmZmbu7u4yMjJUVFS6urrMzMwAAADZVrDbAAAAAXRSTlMAQObYZgAAA/xJREFU\n",
       "WMPNV01oE0EUfsnmp92s2wTqoSo1torFHwiiqCA2IGIRpFFBEClGQVSqEL3oQe0iiK2niIhFL6si\n",
       "FFtIDorYCMYqpCiW6MGDCEZRD1Kh2NZCpcU3s5Pdnc1O60nzILMz837mmzdv3psAVDf9mJOr/C9Y\n",
       "GmnU/Jwy3v8F7gNpQnp1ggvEsOmFfwEuGBNxdogYi1Br2o3R/3O1Dkcmizy47ZyT5adNgxA42GEM\n",
       "VoSFJgjdqdTHyd0kqFMCcD3ovbQrpxlDUR6DV7mHuZy56S0Op8ZGATJsEEoLTBj0yEUf4DHZVlYA\n",
       "rgvAH3flPCt1AyTmPlalsUYDPxvUxYUmkCQOelu5M0GaYwLznjh0ca6WlkUW087rVUoJwu7gykLK\n",
       "W30EPGzyo2lnXSSS5UyQhVJu4BbQkLonAFcbhQ32sdpSXqIwKg8KwJlCyoV8v14Gd6jM/nzFaQLp\n",
       "FLiBC1BuqOgOriYBt3ADJ850G3e239x+waeNOsDJ3VFeSEm1qXmPGT7bblCpwQoTRnCb+ha4UNq3\n",
       "OVUZ9e8KZ3s06tcm3IC3BTLU7wVToAAnJY0HVwt7gRNSUoHiJgZOnqg5Pw7c5TNNkMth07fAZeKX\n",
       "P8ZAokHQmSNEbggkmzR5Ck9oFp4AfPFkoatEpqM2cIo+QiwHzamNRvxaQojjpfLJ6Pumr8gxPi+a\n",
       "JpDqbfoWuPY+/S6qOpKQGl8MwVlceQYaAPRMEVrp9AGCnlmW86EEp6Qb8WsJIbgBeMjcup9JfSXc\n",
       "rNNEh6WPLlqYyz0h3ev0QNUxHpwsz4CEc/ghjmwHeEXTuN1z8E1NOApKmBdCcGryK7uOwy1G57Sr\n",
       "iQ5L3+a5JRc1F3DgGwMlSz23Bkd4KcZlMp2wW5biUV6J5dmEDRysZ8eYKXYZl87vaqKey9MMnDyD\n",
       "62Pgh62Yow6tzUJdTAd1CoZwtA9DJgBcnR3B31EHuIyRZ00hTGMQYJ5qRW6SWtbcTDTb9E1w0pg8\n",
       "gctKzhLhT0K7niS39RL1XyC7lSVlRg+MHZRh0V67DpxQKE69Lv/GzxDUlZKWk2wmqO5xm74JTonC\n",
       "LIKrTTrrVhE6pRJICZLZ0a/B53RFeei9wf80GbVXPc8i0l5lp8GE1KV7SNYDiOCiy6Gm11h7YK3O\n",
       "maC6b2z6JjhvHHowY4dKDnAofG49rRB+Lj8vOMzKl4N2kqZBIOTjHxvvlkWyTl1avhoqaiul24Ly\n",
       "FdIqnepKKPSd5B73Z+G8uqTw2/Tvc3xR4c/gnUj8BTZZg+Avb1rA7ZtPF2mlUF/4ZCIPrBd/AU7C\n",
       "3/A1ETc2ry55bIr0vaLHZqMR0f+AxM/0jaJNkXDwpavzH6uRQHdVJ7ibVf53/w8KLCS1+6D+mQAA\n",
       "AABJRU5ErkJggg==\n",
       "\" style=\"display:inline;vertical-align:middle;\" /></a><br>"
      ],
      "text/plain": [
       "defaults.assumptions: (n in NaturalsPos, j in Naturals, k in Naturals, (j + k) = n)"
      ]
     },
     "execution_count": 61,
     "metadata": {},
     "output_type": "execute_result"
    }
   ],
   "source": [
    "from proveit.number import NaturalsPos\n",
    "defaults.assumptions = [InSet(n, NaturalsPos)] + param_indep_assumptions"
   ]
  },
  {
   "cell_type": "code",
   "execution_count": 62,
   "metadata": {},
   "outputs": [
    {
     "data": {
      "text/html": [
       "<strong id=\"x_partition\">x_partition:</strong> <span style=\"font-size:20px;\"><a class=\"ProveItLink\" href=\"__pv_it/897dff7142d0adb41df1612a0f4a041be251c4eb0/expr.ipynb\"><img src=\"data:image/png;base64,iVBORw0KGgoAAAANSUhEUgAAAFcAAAAbBAMAAAD7fA5IAAAAMFBMVEX///+YmJiqqqpmZmYyMjJE\n",
       "RETu7u5UVFQiIiJ2dnbMzMy6uroQEBCIiIjc3NwAAACK8CUvAAAAAXRSTlMAQObYZgAAAWdJREFU\n",
       "OMtjYCAN8N3FL88OIrisIZw7G/ArZgWT6W4gkvsXAzGKGVxBBO8H4hTPARGcB7AqSfkaksAw588G\n",
       "ohQzBHIVMLB9YChx8XFxESCkuGIBMJQOEHCGaEeHA4iuDmNfwNCAX/HSa1BG3XI2N6yKuae/u2sL\n",
       "FmJzg+mqY7qwHFnxfRDBUQDUwBrLkP8AHF0P4IoZZjNeQFK8fgHQqFIgYxGHA8P7BUiBClbMnlAF\n",
       "UswH4TN2MzDsAKlJyN/AIA8WWuMCBA4QxWwFLMj+YTVg4PYEMfQZGErAIk+RTGZYyYWkmMsXSORM\n",
       "ABImDAwf2UBCPMiKGRUCEIrfKwAJZpC7TjIwfeMECTFfgElWAfE8JMX3YUHH95uB00EKLNYEk3QC\n",
       "aXVAKEaEcwMDX6ECJN1GJ4DpFX+AprJhU4wMdkZ0OGBLK3gTEhUUfyBBMdM34hSHgMmSBGLU8p4D\n",
       "U9yFRKjlqk0gsTgCAJDzXFw0S0V4AAAAAElFTkSuQmCC\n",
       "\" style=\"display:inline;vertical-align:middle;\" /></a> <a class=\"ProveItLink\" href=\"__pv_it/a936499f5c7176c2b947d9e026f872b80942fb600/proof.ipynb\" style=\"text-decoration: none\">&#x22A2;&nbsp;</a><a class=\"ProveItLink\" href=\"__pv_it/3cf8e65d6760d886313023fca378cf6d80cf78470/expr.ipynb\"><img src=\"data:image/png;base64,iVBORw0KGgoAAAANSUhEUgAAASAAAAAVBAMAAAAUbS4ZAAAAMFBMVEX////MzMxUVFR2dna6uroQ\n",
       "EBCqqqqIiIgiIiJmZmYyMjJERETu7u6YmJjc3NwAAACgK8IjAAAAAXRSTlMAQObYZgAAAixJREFU\n",
       "SMetlj1IAzEUx18/bCu2tas42M1NbhNBERzUSR06CYpjB4dDh1IoWByqiKDgooNQoVPB0l2shw4F\n",
       "O1jBQQWhg4MO4segIB1Mrr2vvMtdg31DLu/dvV/+adLkAUTrIGKBBo4JIlzgNcGkERyqQbeMwkuC\n",
       "Odc4VOqaIAKP7Avm+GQ2IoxwhIcagjnhBTYijHCEvwgnFdjAC3TPCpAmbXXteV12FJ4amRnVnDH2\n",
       "rQ3ClciHn5OIFNkK5cFT5uZcwb28ozmP6mIXVVN3D0Zg4iB0Cs8RuOJr+hueoyw3ZxwmlTnNSbJv\n",
       "MQIRBw6hU3iCzAf66FT8fEEKnBnOEPsWIyxunDaz0Ck8QR/9srMggB9nQQhhcssughh4Tn3EXAR5\n",
       "PknzcJva19jtPRRvLxlCmFxXQVY42ZEBZQOCipOg1eAHZOBuCZa1TW02jLC4boIYOPkTz69cwFtr\n",
       "Pjd5sgF+wdShjf+77yNaj1az0CSRA5aIESbXEKTjrKOwcPLlZap6XG+lh3ZJcJOevvF2B7YVCA9n\n",
       "0k8AXtlPT+kTVhBGGK63WFwsnrZ+IUJi4PRbFm6c++p8VnFJoGi9nlivFINwln91MAhmyQySsVyA\n",
       "4MbNGKDpEr7v9N47hKZjjpcrgwgYgpIWkm6SDbyiVVmHXzKE8Xlf1XtTEJywLT84CNVtCXrdGzaT\n",
       "9FtDtoFbqqsIHq3OGZ1XoCFEmUey+bYiXn9GhEvY8v/g3TexQf4AMzXeH2Hx4ygAAAAASUVORK5C\n",
       "YII=\n",
       "\" style=\"display:inline;vertical-align:middle;\" /></a></span><br>"
      ],
      "text/plain": [
       "x_partition: {n in NaturalsPos} |- (x_{1}, ..x_{a}.., x_{n}) = (x_{1}, x_{1 + 1}, ..x_{a}.., x_{n})"
      ]
     },
     "execution_count": 62,
     "metadata": {},
     "output_type": "execute_result"
    }
   ],
   "source": [
    "x_partition = x_1_to_n.partition(one)"
   ]
  },
  {
   "cell_type": "code",
   "execution_count": 63,
   "metadata": {},
   "outputs": [
    {
     "data": {
      "text/html": [
       "<strong id=\"x_operands_new\">x_operands_new:</strong> <a class=\"ProveItLink\" href=\"__pv_it/2fca485aa580ef65b1113c2a0c812cbfec2c82a20/expr.ipynb\"><img src=\"data:image/png;base64,iVBORw0KGgoAAAANSUhEUgAAAJoAAAAVBAMAAABMN+opAAAAMFBMVEX////MzMxUVFR2dna6uroQ\n",
       "EBCqqqqIiIgiIiJmZmYyMjJERETu7u6YmJjc3NwAAACgK8IjAAAAAXRSTlMAQObYZgAAAZBJREFU\n",
       "OMtjYOC7wEAdwPYASJxmoBbQA+J1VDPtFAMD7wSqmcZcwMDxgGqm8QQwvGCgHljCUAkkjxc9KS5A\n",
       "CKJx8QIUtZYMe4EuNOBt51jAwLgB6mBULhBI4/YcRC0U3GJoA4beAeY/LA8YZzZAAxOVy8AgOQN3\n",
       "wIPVwngZDCFACxi4Qe5ggWpH4SqACA/cboOohQJ5kGkMDPwFSKahcDfgNw2qFm5aG5gSQDENiUvQ\n",
       "NJBa3rnilRB1wFhgO1DPwH4AbhoKl4BpELW8rhdYH4BjwZKBwT9hP8NbiGPOL0DhIkzj+cUAJUBK\n",
       "4AyI2jcVDPwHgCKTQSoPlR+fewGinaMHmcu0alXUqrUQt3WAlDcBMYcCjIFQq87gCrJ1IVLOAjsm\n",
       "hwGFi/Ap2wEMbyLUBjJMZgS6uAEp17OBtBswoHAhpmWAUhZmoMHV8n1gaEkE53qGfTChGZ8KGHjg\n",
       "8Q3mQkx72a8OzEKYaQ2ulkWBofgCuERCLS150bXA0yZmCY2hFuQu/CX5BuJLEF7CZRtppR8A9OWB\n",
       "gmETazgAAAAASUVORK5CYII=\n",
       "\" style=\"display:inline;vertical-align:middle;\" /></a><br>"
      ],
      "text/plain": [
       "x_operands_new: (x_{1}, x_{1 + 1}, ..x_{a}.., x_{n})"
      ]
     },
     "execution_count": 63,
     "metadata": {},
     "output_type": "execute_result"
    }
   ],
   "source": [
    "x_operands_new = x_partition.rhs"
   ]
  },
  {
   "cell_type": "code",
   "execution_count": 64,
   "metadata": {},
   "outputs": [
    {
     "name": "stdout",
     "output_type": "stream",
     "text": [
      "Expected error: Failure to apply (x_{1}, ..x_{_a}.., x_{n}, y_{1}, ..y_{_a}.., y_{n}) -> ((x_{1} * y_{1}) + ..(x_{a} * y_{a}).. + (x_{n} * y_{n})) to (x_{1}, x_{1 + 1}, ..x_{a}.., x_{n}, a_{1}, ..a_{_a}.., a_{j}, b_{1}, ..b_{_a}.., b_{k}) assuming (n in NaturalsPos, (j + k) = n, k in Naturals, j in Naturals):\n",
      "Improper replacement: Improper replacement of (x_{1} * y_{1}), ..(x_{a} * y_{a}).., (x_{n} * y_{n}) via {(x_{1}, ..x_{_a}.., x_{n}): (x_{1}, x_{1 + 1}, ..x_{a}.., x_{n}), (y_{1}, ..y_{_a}.., y_{n}): (a_{1}, ..a_{_a}.., a_{j}, b_{1}, ..b_{_a}.., b_{k}), x: {(x_{1}, ..x_{_a}.., x_{n})}, y: {(y_{1}, ..y_{_a}.., y_{n})}}:\n",
      "When expanding IndexedVar's within an ExprRange whose parameter is the index, their expansion ExprRange indices must all match. (a_{1}, ..a_{_a}.., a_{j}, b_{1}, ..b_{_a}.., b_{k}) vs (x_{1}, x_{1 + 1}, ..x_{a}.., x_{n}) do not match as respected expansions for y_{a} and x_{a}. \n"
     ]
    }
   ],
   "source": [
    "try:\n",
    "    dot_prod_lambda.apply(*x_operands_new, a_1_to_j, b_1_to_k, requirements=requirements)\n",
    "    assert False, \"Expected an LambdaApplicationError error.\"\n",
    "except LambdaApplicationError as e:\n",
    "    print(\"Expected error:\", e)"
   ]
  },
  {
   "cell_type": "markdown",
   "metadata": {},
   "source": [
    "Each of the start indices must match:"
   ]
  },
  {
   "cell_type": "code",
   "execution_count": 65,
   "metadata": {},
   "outputs": [
    {
     "data": {
      "text/html": [
       "<strong id=\"x_shift_equiv\">x_shift_equiv:</strong> <span style=\"font-size:20px;\"><a class=\"ProveItLink\" href=\"__pv_it/897dff7142d0adb41df1612a0f4a041be251c4eb0/expr.ipynb\"><img src=\"data:image/png;base64,iVBORw0KGgoAAAANSUhEUgAAAFcAAAAbBAMAAAD7fA5IAAAAMFBMVEX///+YmJiqqqpmZmYyMjJE\n",
       "RETu7u5UVFQiIiJ2dnbMzMy6uroQEBCIiIjc3NwAAACK8CUvAAAAAXRSTlMAQObYZgAAAWdJREFU\n",
       "OMtjYCAN8N3FL88OIrisIZw7G/ArZgWT6W4gkvsXAzGKGVxBBO8H4hTPARGcB7AqSfkaksAw588G\n",
       "ohQzBHIVMLB9YChx8XFxESCkuGIBMJQOEHCGaEeHA4iuDmNfwNCAX/HSa1BG3XI2N6yKuae/u2sL\n",
       "FmJzg+mqY7qwHFnxfRDBUQDUwBrLkP8AHF0P4IoZZjNeQFK8fgHQqFIgYxGHA8P7BUiBClbMnlAF\n",
       "UswH4TN2MzDsAKlJyN/AIA8WWuMCBA4QxWwFLMj+YTVg4PYEMfQZGErAIk+RTGZYyYWkmMsXSORM\n",
       "ABImDAwf2UBCPMiKGRUCEIrfKwAJZpC7TjIwfeMECTFfgElWAfE8JMX3YUHH95uB00EKLNYEk3QC\n",
       "aXVAKEaEcwMDX6ECJN1GJ4DpFX+AprJhU4wMdkZ0OGBLK3gTEhUUfyBBMdM34hSHgMmSBGLU8p4D\n",
       "U9yFRKjlqk0gsTgCAJDzXFw0S0V4AAAAAElFTkSuQmCC\n",
       "\" style=\"display:inline;vertical-align:middle;\" /></a> <a class=\"ProveItLink\" href=\"__pv_it/9ca2366f20b13e089847d4589900b99e9d7cf7390/proof.ipynb\" style=\"text-decoration: none\">&#x22A2;&nbsp;</a><a class=\"ProveItLink\" href=\"__pv_it/b00f54c7782d113e6b9e1af9c1d867072d5976300/expr.ipynb\"><img src=\"data:image/png;base64,iVBORw0KGgoAAAANSUhEUgAAATsAAAAaBAMAAAA6debTAAAAMFBMVEX////MzMxUVFR2dna6uroQ\n",
       "EBCqqqqIiIgiIiJmZmYyMjJERETu7u6YmJjc3NwAAACgK8IjAAAAAXRSTlMAQObYZgAAA1ZJREFU\n",
       "WMO1V01o1EAU/vZ/282miyKiHrqeCh7KgociWCyFqiDYCsWDoNTiQaHIYtG6ULFIqSIFF+qhUgor\n",
       "KEJQ2Xu1Bj0s6qGRKqgg7MGDgmLrQUEWcTLJZDOZTdpIMofZvNn3vvfNvDcvL0AQI9KH4EcqMKQt\n",
       "IbBDPB8U0sMw6KFXn2TNl02yLq61FUOhl1bJ9NqnUbe49EMNhV6qTKbHPo1eiUv7QmEHeQ3Iln0a\n",
       "xcRIHg+HHmZIgOs+baQhYZeNkOgtAF98G91zLmSHQqJ3ESiRn9qFz+Oel0+a6D7U45ppbRWHxkbD\n",
       "9Cc713MOeVDFUwJdyF5PVxCpuuK9wPviTSZ8pBmo0EETN1NlGqmegvUicUcz/aHAre4CznAS0JnT\n",
       "0y+mxhrxeuTOlCvgfhxQjzLhrPPf9jzTWMUoY+eBZvhDlMv6HfMkDHW7RApWH4bJbuj+EXcHVLHU\n",
       "FDqF8llmGtPoICUwCm80099WfvUw+YO+xvKmBKxQekBH0RsQ+O1Br71sakjrSIyQYGMjNOpvt0DP\n",
       "qMFVix45vRkzyN6AkXUyfXgzUWaWZu7RnWbypkbkL9LaZuhRf1PILm4vcfSu8PQ66/rVSKpXkVK9\n",
       "AMdSa5jE25M4xa6GfUSrpkakgXRxY3qGP5nQG9ASdTu9UZ4eubmkTAyOPMN3A3BFrxF/YDxYUvxX\n",
       "Zk3W5NoU9AI8J7wbh0wNcnoJOz0LiYc0/MWr+HaZ5mqT3hGe3jv6+3yitqgZgOlZsnpNT/c8m26o\n",
       "kLomS5/IKRXjegG+KzRmDVOD5F5H3x7lvqJoxukRWwOkCTnL/OntXBcGEF8i44lBaCeiinJCeWTS\n",
       "W7C/1CjgWItQsKdErq2QgyRGbZg9GDe3Gdyk2MqM2QvjMcxF7KfXz5/eA3tLkNQBC2KVavZNSB/M\n",
       "tWoJrHCXaPZkLLSYmHiWA7JN0pJMn7aX01WLni5Jeiotsxf7/M8iJNF3zXrqR6q3ZUO1zcrCvWWT\n",
       "HkWz2Vqkmg5m9fiOs2b4660u4DajR6Vs3tmOZkXfzmZ6WVSJjnBixtWWc3BJBKpYp0fLfc5/M59t\n",
       "0YBJFRd6nkNUS2ocvdWgOp9zfP+3yS8x4Vxe0pntX64GRS/5X9+5550Lk3yfFs4XTJDjHyqZ8biE\n",
       "aasqAAAAAElFTkSuQmCC\n",
       "\" style=\"display:inline;vertical-align:middle;\" /></a></span><br>"
      ],
      "text/plain": [
       "x_shift_equiv: {n in NaturalsPos} |- (x_{1}, ..x_{a}.., x_{n}) = (x_{0 + 1}, ..x_{i + 1}.., x_{(n - 1) + 1})"
      ]
     },
     "execution_count": 65,
     "metadata": {},
     "output_type": "execute_result"
    }
   ],
   "source": [
    "from proveit.number import zero\n",
    "x_shift_equiv = x_1_to_n.shift_equivalence(new_start=zero)"
   ]
  },
  {
   "cell_type": "code",
   "execution_count": 66,
   "metadata": {},
   "outputs": [
    {
     "data": {
      "text/html": [
       "<strong id=\"x_operands_shifted\">x_operands_shifted:</strong> <a class=\"ProveItLink\" href=\"__pv_it/86df868631b616af27a3403bb3fc0d832a20835d0/expr.ipynb\"><img src=\"data:image/png;base64,iVBORw0KGgoAAAANSUhEUgAAALQAAAAaBAMAAADs9WufAAAAMFBMVEX///8iIiJERESYmJiqqqoQ\n",
       "EBB2dnbc3NyIiIhmZmbu7u4yMjJUVFS6urrMzMwAAADZVrDbAAAAAXRSTlMAQObYZgAAAk9JREFU\n",
       "SMe1lU1oE0EUx/+b3XQ3X2vBS/1Al54FV4qHgkrEW0EIKCh4WfCiXox68iDdiyEtQlM8+HUZLxKw\n",
       "kIB4kPVQRGjBS6yCHoQGbx4kPQhKNOKbaabZyRINwjzI2/ces7+8+e/bWQBfocFC7txVHehP3OWY\n",
       "DvSET+4+tNhewO7qQS9Q5zU96HkgXdSDNoqYZ3rQGQ9H9ZDhlPCILvU7tyrhmLdkq2sfL9G1PFR3\n",
       "h/JCF9O0OjCnjCYqlZ3659HoJzgS7qOnr3I9WK14Ru43XtIyNtEtlM3Aku/ll+XR6Cu4yj4Aawr5\n",
       "wSRwT8lg97CHukaK/sdogY+4wL8djWZ8n3ADdfcEW+FBXmbI9vCCJ7tI6UYbZyn0/oEGfnBEO4HO\n",
       "cfVTO2jq+hBPOrSyU8bucdAkIm0RmD1RrcXRjq+g3e94BVhsCQ7rMEyNgZ5ztrCIa8DxMzgXR4sn\n",
       "NUDThNwGNouHcYN3fT6ObjRJsJ/DQeFbasv2sQG7PoluHF3wFLRZwibDSrV+1+da9/JRdCF6to02\n",
       "6OzCfh6syoAq2fXFhRlxHOfDQgkb02RMwNwm3kTPo8jfRtPbmJbz2J+QgSBzSTHig59uZ4J2vGtV\n",
       "kFyIjBwjpybUEuiT3AUJ9KDymB9txnuJtghmBhLNMzQY3JJcXrmMPvrmwXXaeuLVj1UMRpo4F/uZ\n",
       "vfyLemz10SLDMYpeq/d7MjATTccqTvIozkF2LewA/Z6OQP/dkstOKWghj6V+Zsrjod8l1BIYW6bX\n",
       "hT/9P8exNdyCo35SHkKn/QGGUI+g6sOzSwAAAABJRU5ErkJggg==\n",
       "\" style=\"display:inline;vertical-align:middle;\" /></a><br>"
      ],
      "text/plain": [
       "x_operands_shifted: (x_{0 + 1}, ..x_{i + 1}.., x_{(n - 1) + 1})"
      ]
     },
     "execution_count": 66,
     "metadata": {},
     "output_type": "execute_result"
    }
   ],
   "source": [
    "x_operands_shifted = x_shift_equiv.rhs"
   ]
  },
  {
   "cell_type": "code",
   "execution_count": 67,
   "metadata": {},
   "outputs": [
    {
     "name": "stdout",
     "output_type": "stream",
     "text": [
      "Expected error: Failure to apply (x_{1}, ..x_{_a}.., x_{n}, y_{1}, ..y_{_a}.., y_{n}) -> ((x_{1} * y_{1}) + ..(x_{a} * y_{a}).. + (x_{n} * y_{n})) to (x_{0 + 1}, ..x_{i + 1}.., x_{(n - 1) + 1}, y_{1}, ..y_{_a}.., y_{n}) assuming (n in NaturalsPos, (j + k) = n, k in Naturals, j in Naturals):\n",
      "Improper replacement: Improper replacement of (x_{1} * y_{1}), ..(x_{a} * y_{a}).., (x_{n} * y_{n}) via {(x_{1}, ..x_{_a}.., x_{n}): (x_{0 + 1}, ..x_{i + 1}.., x_{(n - 1) + 1}), (y_{1}, ..y_{_a}.., y_{n}): (y_{1}, ..y_{_a}.., y_{n}), x: {(x_{1}, ..x_{_a}.., x_{n})}, y: {(y_{1}, ..y_{_a}.., y_{n})}}:\n",
      "When expanding IndexedVar's within an ExprRange whose parameter is the index, their expansion ExprRange indices must all match. (y_{1}, ..y_{_a}.., y_{n},) vs (x_{0 + 1}, ..x_{i + 1}.., x_{(n - 1) + 1},) do not match as respected expansions for y_{a} and x_{a}. \n"
     ]
    }
   ],
   "source": [
    "try:\n",
    "    dot_prod_lambda.apply(*x_operands_shifted, y_1_to_n, requirements=requirements)\n",
    "    assert False, \"Expected an LambdaApplicationError error.\"\n",
    "except LambdaApplicationError as e:\n",
    "    print(\"Expected error:\", e)"
   ]
  },
  {
   "cell_type": "markdown",
   "metadata": {},
   "source": [
    "And each of the end indices must match:"
   ]
  },
  {
   "cell_type": "code",
   "execution_count": 68,
   "metadata": {},
   "outputs": [
    {
     "data": {
      "text/html": [
       "<strong id=\"defaults.assumptions\">defaults.assumptions:</strong> <a class=\"ProveItLink\" href=\"__pv_it/3f9dfb4bcfbd778c6bededd4a27f6fbbceaf3e030/expr.ipynb\"><img src=\"data:image/png;base64,iVBORw0KGgoAAAANSUhEUgAAAOsAAAAUBAMAAACe4NcqAAAAMFBMVEX////MzMxUVFR2dna6uroQ\n",
       "EBCqqqqIiIgiIiJmZmYyMjJERETu7u6YmJjc3NwAAACgK8IjAAAAAXRSTlMAQObYZgAAA0JJREFU\n",
       "SMe1Vk1oE0EUfrsxaX5m01ApFPSQglChEvagaCtIwIug0B568BdzkV7U5lZCi1TBEotgLlIRlCAo\n",
       "WIrmoLZaW5aCtLRKgoeKCLWK0IKHptjmoFWcNz/J7LKbiziQ2XnfzJtv5s03bwIQLcE/FW//y/Xw\n",
       "RawuWCpOnk6Ng+98DzeeDzncFn69suDAVpJbzD9w1j5k8SSt9BV3WoY/wdZ7e0ek1ARQFEY45/Sb\n",
       "1uJAysJg/kbcMeQxLjjvTou4kXNbz9WGNPiF0Zhydu+N9QN087bdv1c2Klgd9IgyxYNqJIzJ7Aij\n",
       "PW61QlCAXdUD+JTNsg3sea3HQITe5l+l3bGN9RsPWoqvKaY2IRj0L/EFS9Iekt27BkUj0UTGJe0a\n",
       "uNH6WG846U5L8QwGu7/AtWJVD71Xiwerx3TpPjuScemWCKSbJC36w9yAgzacC3xcAZ/zAI8mVjNp\n",
       "QHyaWiE4x6erac2X/CBoSaXh22+wCTMB+420oEV/yPlLdtpi6kpXCQx2JJ1jWFBjYE6lyR9AfJha\n",
       "y1wBUFAkvk9v4e3A9iBhk0agRqtbrYIW/Y0VKTtJ2zdnvaOujqunpUYgusFwvJwWV4B2GpclaGfh\n",
       "IR8bOiWcmrE3z2lJPCyUjP6Ey45u6/rY2ANEb7PwamXHzSGbYJQZ3lNTQFTdrWY2C6m2TfDGd2W3\n",
       "sFNTaGuyk7u9NpB2oYVAGfQ8w4eVjNCt5pElEdRicp0L0q/SGqlCLcg8Oyi0ZDO6iddoqHa2LAih\n",
       "PDSWLMSnuQLY6NEqbYxGQOzuM+01mU9adrfS35GCIilSsdMaZVLxgZCUUvwm9Fkm4h1MAfzmBGU+\n",
       "CmPjLpCf9NMOjTFT2Rgtj/jCizhrB5ednVYvwAalDZkOWhq3TiOG+DE074jYtJ/girt1Bm8xQJYu\n",
       "5wU0jPJVzT7j35atAkuswZvUYP6hITttJAUZmlvCMQctHfx1ieEsud2QOe0wT45VCVj22z6ZtYXt\n",
       "okyOwZwzJ7My75Ec51kq3413ybX46j+1Jn8KNGtdbuutM+V7PQUwE/0RyXn0z9VlJUxjM7BuvvR8\n",
       "4DzxRWi75zVx/T8ehnjm9Yz7uIjHM8/w//enZtkb/wt9Ous5FvGFcgAAAABJRU5ErkJggg==\n",
       "\" style=\"display:inline;vertical-align:middle;\" /></a><br>"
      ],
      "text/plain": [
       "defaults.assumptions: (j in Naturals, k in Naturals, (j + k) = n)"
      ]
     },
     "execution_count": 68,
     "metadata": {},
     "output_type": "execute_result"
    }
   ],
   "source": [
    "defaults.assumptions = param_indep_assumptions"
   ]
  },
  {
   "cell_type": "code",
   "execution_count": 69,
   "metadata": {},
   "outputs": [
    {
     "data": {
      "text/html": [
       "<strong id=\"y_operands_new\">y_operands_new:</strong> <a class=\"ProveItLink\" href=\"__pv_it/e4ee93dc0ba597ceb0d9c953069a39472ff209fe0/expr.ipynb\"><img src=\"data:image/png;base64,iVBORw0KGgoAAAANSUhEUgAAAL8AAAAVBAMAAADlQyK9AAAAMFBMVEX////MzMxUVFR2dna6uroQ\n",
       "EBCqqqqIiIgiIiJmZmYyMjJERETu7u6YmJjc3NwAAACgK8IjAAAAAXRSTlMAQObYZgAAAiNJREFU\n",
       "OMu1lT1IHEEYht89Re9nvLMRIgERFK4yHGnMFYErJY0pAhFEsbCwCGZVROwOi8Qi4FVqtMiSTtDE\n",
       "xkgK5RAkEYvdMlW4JmA6/zhBLuI3Mzc30XXnYOEGdmb49pl9d95vfoCkh4aVSV4dg+3kzdzxUEiB\n",
       "SImqL0C8UAfcCCnAHKCNPp4aqwOWw3rUD0RpFoNFM9ZcCStwCJxQ86wO1pQPKxDPYZ6az3PLZiw9\n",
       "/7+Jf7Oz5ilroKmAPUrFddEt4XHwAHeT3WDWVoaN4itgbQc7KgDE2ynDDt4BLRWk7M7VYIG3RVwh\n",
       "mlO+eliH9THYNgHQZ/mTxysg5sDNYCBYYA3sAq6y5VMR7+k3gwUkIIp1ygVoGwyOmQQ20FzW74fB\n",
       "zowCElACZFHK46IGgX+IVZC1puXmuUDLqUmgCvzgC4coSnIqx0ZgErjktm6NS5NYGRFn0iQggcIL\n",
       "iCRn6cTwEgUp4Dp8Td3voA/fgfP2amgXv7ozQqBG3R0jAFZ6St2YyC1beQ4pEP1A1QLvdKsOjxzN\n",
       "eLBef6PeIk3iYK4rnRMCNVyP0QD3hi9VflSIIix645uwirRudyRp2dV2mLDIj2sAN/T8lIedKBO8\n",
       "yvhGqEjCftRKO1N/Kf8grgHrpTzssF/d3ktpMsv2ZUxF4qXIFC0NFU+untsP4BqgKcvjmi4cXdp8\n",
       "A+5FPNPLu0CC1BPc/wZdmb1/KBu/G3cbo+eJbG8BNsydrJD0uzUAAAAASUVORK5CYII=\n",
       "\" style=\"display:inline;vertical-align:middle;\" /></a><br>"
      ],
      "text/plain": [
       "y_operands_new: (b_{1}, ..b_{_a}.., b_{k}, a_{1}, ..a_{_a}.., a_{j})"
      ]
     },
     "execution_count": 69,
     "metadata": {},
     "output_type": "execute_result"
    }
   ],
   "source": [
    "y_operands_new = [b_1_to_k, a_1_to_j]"
   ]
  },
  {
   "cell_type": "code",
   "execution_count": 70,
   "metadata": {},
   "outputs": [
    {
     "data": {
      "text/html": [
       "<strong id=\"ynew_len_kpj\">ynew_len_kpj:</strong> <span style=\"font-size:20px;\"><a class=\"ProveItLink\" href=\"__pv_it/a652fe56d5b14a0397feeee5780d16f9276920bb0/expr.ipynb\"><img src=\"data:image/png;base64,iVBORw0KGgoAAAANSUhEUgAAAIEAAAAVBAMAAACTeZA2AAAAMFBMVEX///+IiIi6urrc3NxERETM\n",
       "zMwQEBCqqqpUVFQiIiJ2dnYyMjLu7u5mZmaYmJgAAABN0h6tAAAAAXRSTlMAQObYZgAAAgdJREFU\n",
       "OMtjYGDgu8dAJmC9eABE8exiIBswpYJIvg9AU9wmoMmd/uJ9gGHZNwUot+wAsiTPfpc9DFz5SQwM\n",
       "t0FcLpBm7gvoxvuxNjDwfIDxXqBKsjyIYGA4D2SshJvAX4BuQmeAIANDAg7Xc0xlFGBgQzFBH+ZK\n",
       "Ps+Zs8GMJh+OAAZ0v8FkOVQOtDJwopiwEha6jjCjmiN49qCbAJflMG04fQDVhL0MdZfBAQgPsWZ2\n",
       "gQiYCTyCDgwoshwGhawNIBOWgXkbgEq+Mxr9A+uD29fMsIhPAGoCL0MeA4oshwGXwkOQCe/BERXA\n",
       "wMD+R4bnAYjjgGQCx4FWqAmPGb4zoMhyGDD0cERC4zBkMsiSXKhHs3cDAdQEngZuaFwcYPqDKgs0\n",
       "4QTDNnCUCTAwqAHdwNnoCFbKjOwGhihWWGyCwwpJFmgC64IwkBsaQDyg+HkFe0jqS0A2ga8ApgWa\n",
       "4BKQTGB4zgILB5D57xnOFywAcS7CTWgF4sUwE85DEhxcFphUGLhMYHEBMqGFgT8AbAInPG1uBwXP\n",
       "BobzG0Ccekg0wmW5QYzbyOnBnYERmlFbdCBqIr8B7efZwMA5B8S7CU0XUFnW+Smg1IGSohD5dQk0\n",
       "VcNADYiYi0sWYkIC3iIA6LkY5q+4ZFfCygfcgEeAgfkXywVc0uDygQFvGcUHxI04i0GmJDDFTlk5\n",
       "CQCKUo2m7xveiAAAAABJRU5ErkJggg==\n",
       "\" style=\"display:inline;vertical-align:middle;\" /></a> <a class=\"ProveItLink\" href=\"__pv_it/78265e982ce8b82ee8e3f58343e83cf4c2c4274c0/proof.ipynb\" style=\"text-decoration: none\">&#x22A2;&nbsp;</a><a class=\"ProveItLink\" href=\"__pv_it/104b4b5866db946b13b9910900de735983bb632c0/expr.ipynb\"><img src=\"data:image/png;base64,iVBORw0KGgoAAAANSUhEUgAAASwAAAAWBAMAAACIxbw5AAAAMFBMVEX///9UVFQQEBCqqqoiIiJm\n",
       "ZmYyMjJERESYmJjc3NyIiIi6urp2dnbu7u7MzMwAAAADGpxCAAAAAXRSTlMAQObYZgAAAxVJREFU\n",
       "SMe9lz2IE0EUx1/u8rnZSaz8SGWhcAhCkCtEkeRECwvxilP0uMIrEgTxWDyu0CoWClbGQjiwcBVE\n",
       "8CMESWNlBM/GZhFUFGTDoVgd8QjIqRdx3tvvr4kG4kA2u3n/N++3M2/mTWAN/kvLaf+mf03X5dEB\n",
       "jdfxKjcDhmWRB2ExBd7vEvc+yB7ddoRj8ZjsYjko36ehB2ElOV9lQO+VYbHehWNhzOR0UH6FPAjr\n",
       "Kv/0BvTeGxZLVkOxMGa+aD0d8HkQ1jGAbF/c+SB7dGM7Q7F4THiuhWJxD8TK8CmWywPeuTx00p8P\n",
       "w8KY8BJCsbgHYkl8ipOF+0VR3z57Zm52r5DFJVgJw8KYPF/3n/FisYcKeSBWqgagX2A/IKdEhiH7\n",
       "PdV6fFpPfgP4Go1lCGCBf67ZWK+q2GjxYEzWk25veLESMEEeiBXn41DS4GfuZPRMoR3i1juzCUgo\n",
       "8GUmOqFIAIAjPBk2WhhzvP+E1bxY12lpTRLWGPc5BWwTstFYZNetFE30Ic5HrhUpNwXUumFYGDOx\n",
       "27jng3i4Wp3HW42WVtfGqkC2J8Iiu40xpoDeEWGZAjFWvHA5kPK0tLr2JG7gCwqwyL6Su2tmWhtK\n",
       "IMIyBIyWScuXW/PWJOrNO00/Fu2wLTvlf8GbmgiL7OcOmtOoF2ErL10CLBIksmc9Ke9qGPMGl7V9\n",
       "WHrRTnmZE26HJSAsHXvCC/vuviH7esf8KaWmp2QaB1vl9TEEH+Qt/HkuDAtjboN8x49V0sgDsZDm\n",
       "7eOacRM/jkOM3U1ZN0c0w57bswiGgBUaNx8Z04NGUjk+jgDHhDaJABaGWgRpVvNh0eJesIuPrYVD\n",
       "wZOG6SspqxmPoOUyupojyPN6zMqRxQeCu/xRIA+7VFN87KEdLDxWPqifJY9g0mV0NUewKi7VTvtk\n",
       "fK1lfrtKdapuFIyZdRWYGgjz0T6LxBrgEtw6UXCMrq3U6eFB9MHGjOmtWJupaXAONsxVdNJBdc3z\n",
       "lBYZfQLcly5FHgODrXAaDI/GCA/NsWe8WqdpVKTO3x+a0/XR/q+IvRg2wB80UfZS875JagAAAABJ\n",
       "RU5ErkJggg==\n",
       "\" style=\"display:inline;vertical-align:middle;\" /></a></span><br>"
      ],
      "text/plain": [
       "ynew_len_kpj: {k in Naturals, j in Naturals} |- |(b_{1}, ..b_{x}.., b_{k}, a_{1}, ..a_{x}.., a_{j})| = (k + j)"
      ]
     },
     "execution_count": 70,
     "metadata": {},
     "output_type": "execute_result"
    }
   ],
   "source": [
    "ynew_len_kpj = Len(y_operands_new).computation()"
   ]
  },
  {
   "cell_type": "code",
   "execution_count": 71,
   "metadata": {},
   "outputs": [
    {
     "data": {
      "text/html": [
       "<strong id=\"ynew_len_jpk\">ynew_len_jpk:</strong> <span style=\"font-size:20px;\"><a class=\"ProveItLink\" href=\"__pv_it/a652fe56d5b14a0397feeee5780d16f9276920bb0/expr.ipynb\"><img src=\"data:image/png;base64,iVBORw0KGgoAAAANSUhEUgAAAIEAAAAVBAMAAACTeZA2AAAAMFBMVEX///+IiIi6urrc3NxERETM\n",
       "zMwQEBCqqqpUVFQiIiJ2dnYyMjLu7u5mZmaYmJgAAABN0h6tAAAAAXRSTlMAQObYZgAAAgdJREFU\n",
       "OMtjYGDgu8dAJmC9eABE8exiIBswpYJIvg9AU9wmoMmd/uJ9gGHZNwUot+wAsiTPfpc9DFz5SQwM\n",
       "t0FcLpBm7gvoxvuxNjDwfIDxXqBKsjyIYGA4D2SshJvAX4BuQmeAIANDAg7Xc0xlFGBgQzFBH+ZK\n",
       "Ps+Zs8GMJh+OAAZ0v8FkOVQOtDJwopiwEha6jjCjmiN49qCbAJflMG04fQDVhL0MdZfBAQgPsWZ2\n",
       "gQiYCTyCDgwoshwGhawNIBOWgXkbgEq+Mxr9A+uD29fMsIhPAGoCL0MeA4oshwGXwkOQCe/BERXA\n",
       "wMD+R4bnAYjjgGQCx4FWqAmPGb4zoMhyGDD0cERC4zBkMsiSXKhHs3cDAdQEngZuaFwcYPqDKgs0\n",
       "4QTDNnCUCTAwqAHdwNnoCFbKjOwGhihWWGyCwwpJFmgC64IwkBsaQDyg+HkFe0jqS0A2ga8ApgWa\n",
       "4BKQTGB4zgILB5D57xnOFywAcS7CTWgF4sUwE85DEhxcFphUGLhMYHEBMqGFgT8AbAInPG1uBwXP\n",
       "BobzG0Ccekg0wmW5QYzbyOnBnYERmlFbdCBqIr8B7efZwMA5B8S7CU0XUFnW+Smg1IGSohD5dQk0\n",
       "VcNADYiYi0sWYkIC3iIA6LkY5q+4ZFfCygfcgEeAgfkXywVc0uDygQFvGcUHxI04i0GmJDDFTlk5\n",
       "CQCKUo2m7xveiAAAAABJRU5ErkJggg==\n",
       "\" style=\"display:inline;vertical-align:middle;\" /></a> <a class=\"ProveItLink\" href=\"__pv_it/a251bf11bdb1ab6cfb72b700fbd1c698d9a948fd0/proof.ipynb\" style=\"text-decoration: none\">&#x22A2;&nbsp;</a><a class=\"ProveItLink\" href=\"__pv_it/ffd45ab894a3c3cbc5a3628eabcadd9b5951dee60/expr.ipynb\"><img src=\"data:image/png;base64,iVBORw0KGgoAAAANSUhEUgAAASwAAAAWBAMAAACIxbw5AAAAMFBMVEX///9UVFQQEBCqqqoiIiJm\n",
       "ZmYyMjJERESYmJjc3NyIiIi6urp2dnbu7u7MzMwAAAADGpxCAAAAAXRSTlMAQObYZgAAAxJJREFU\n",
       "SMe9lj9oE3EUx1/S/M/9rk5iOzk4iBDI0EmRXMWlgxikOkgHOyQIxXIgHXS6Jc5xELr1FEoRtYhk\n",
       "cWoE69IlCFYNyIWiOIktAVFrxN97d5f7k9/9ooH44I67e9/3e5/7/d7d+8EX+C+mtv5Nv0Pn1fEB\n",
       "TdTxrDwdcKzKIgiL6fD2hHz0Yf5omxJj8ZycoCDKMuVgpThfZcjolVGxdsVYmBMyR0RZdh2sGj+6\n",
       "Q0bvjoqlmEKsmv/mdCALjyCsOYB8Tz74MH+0seNCrDkRlp2FRyBWVuNx2pB31kYu+iURVlYTYTlZ\n",
       "lggrV+ZLPb1elI0d8mcXrhakLD7BtggLc0J7I4SVKk/U6hiBWGkDwLrBfoCqR6Yh/wPTvX1WT+0D\n",
       "fI7GsgWwzI87faxXVTQqa8wJ5bgRxLKKD7cMjECsBJ+HUgt+qpejVwr9kHDfmZ2EpA6f5qMLigQA\n",
       "OMMzotnCnJn6ZDGIVWq33lEEYsV5zBVgvyAfjUV+y/1XJ3uQ4DPXiJQ7ArKvIizMyWCrZc/huWp1\n",
       "EZ9eKjsRLlYF8l0ZFvn7GHEdrI4MyxHIsQBehmprdsP0sHBCv+MLSrDIv63ed2qgCSWQYdkCRp9J\n",
       "I1Rbi+4iev9oB4sdZg+BItySP4TXhgyL/NfPOMtoFeEob10SLBIk89cCJe8zKnnWDWJl9llXAbfk\n",
       "Fb6ix2AFCMvCkfDEvvkvyH/QcR6lzcysQvPQVwVjbMF7BZvLgggLc8JEL4gV0+G3QhGIhTRvHhv2\n",
       "ReICTjEON+tenG/ZfvXUTbAFbHrz7iN7edBJKi/GE9CcLIuwaGGSWhArXYT1JxSx428EpD07uNNw\n",
       "PsCcvpcNCBo+p888wST/NzItsvkkyuGeaJeY5rVqyo8jNAcbj1sP5sdcQDDjc/rME+zJWrXaWnM/\n",
       "1g/h5k5Y6brdMOYPTGDmQJp2fy8S2wSf4N7Fac/pe1lvhI3ojU26vtZcidwK7fS3ZI5lBmVG4C4j\n",
       "c4YEt/lxK2obGFs3xFg8YnOMm+bY8wJ2GCrLzt9vmu2I8VnsxagJ/gDNZvhfKZu/JQAAAABJRU5E\n",
       "rkJggg==\n",
       "\" style=\"display:inline;vertical-align:middle;\" /></a></span><br>"
      ],
      "text/plain": [
       "ynew_len_jpk: {k in Naturals, j in Naturals} |- |(b_{1}, ..b_{x}.., b_{k}, a_{1}, ..a_{x}.., a_{j})| = (j + k)"
      ]
     },
     "execution_count": 71,
     "metadata": {},
     "output_type": "execute_result"
    }
   ],
   "source": [
    "ynew_len_jpk = ynew_len_kpj.innerExpr().rhs.commute()"
   ]
  },
  {
   "cell_type": "code",
   "execution_count": 72,
   "metadata": {},
   "outputs": [
    {
     "data": {
      "text/html": [
       "<span style=\"font-size:20px;\"><a class=\"ProveItLink\" href=\"__pv_it/e5b3c7ad4db378d3cb91db34ae35ed910dddf1af0/expr.ipynb\"><img src=\"data:image/png;base64,iVBORw0KGgoAAAANSUhEUgAAAPEAAAAVBAMAAABlMBWuAAAAMFBMVEX///+IiIi6urrc3NxERETM\n",
       "zMwQEBCqqqpUVFQiIiJ2dnYyMjLu7u5mZmaYmJgAAABN0h6tAAAAAXRSTlMAQObYZgAAAwdJREFU\n",
       "SMe9Vk1oE0EUfvlrNpvpNr17yEEEQXDx52oTFEUUyUE0FcEgelHUeBEKoqlpDkWRgHgoWgwqxR6E\n",
       "IKioFdebkMOmeFJBKiIKRRpEW9BSnNl5s5kdM9tDwYHs7uR7833vzbx5MwBgfYT/3BKzDnuR52sl\n",
       "2qEDkrYGiJ5kT6tD1XfXFaz1c58DU4tZ7F5wZJC82jUD5rnj2Mv9a4GMVZ1PH9jDZCbptoodSFSA\n",
       "dETvWxCMzxUBXOyk7R4WnLGlU572lQfKKjZeGAQoaQYaNyMZ6MPO98AEZ/DDYzQzqypvFnNl7Z24\n",
       "5X1c2W8UQF0DgRrrnRqk8M8bPZU9RlJaVXlaZF1euFAtkhlV2UeN7ZWWg8qxek9lzvhoVeWXcOmt\n",
       "l1h+nlSTmaJQJoM5CKCGfT5RQeVIW7LoKnPGh2pSP9g6OEvfUx5Lkw5cimxZgUAyVuGulUHlfjgL\n",
       "AdSwzeynlMg2ycJXRsZ5L7YXXmMemvE8uDQjF7ztUKD2y+sII4CcpGw4NVT+DEsQQA0brhnD/DtV\n",
       "lix8ZWQcUWI+nGrCUIFn/kGWIP1ncCFPM+dQmVTSmCBOdDmIUuU38ISDfVnfggb3jNpUuozHFGXH\n",
       "zfJ4x6mHG6gLqdE8zxY5ZjiSEKnp5YKEUuVE45CkjBbdmJFRVYbLAFfZbmfeGZTPzQ7xalWSla1y\n",
       "Ti4LEkqV4Wtcmm2/FAllZNworXMFi9cKwXVm3i6AW26wzqyvXKO/e0LZ5YXGR+lWB3OblGHCwldG\n",
       "xnk15lM0A0zMbaY8BgOFRjcA1p6yxWqC2/TmyIEAmi577pM/bHxbsvCVkfG9Ihz7AWbzi7Sf90AE\n",
       "D66xTdxkeJHGS5qQus1673CrIJq4c4IX5Qk6KFqXLHxlZHys7uc6xK6X5UrShe5j9RTtIntMatCk\n",
       "I6rnpFrDuKv10BpWCj186ZQdjf3SgCaeGF0LEjgsw08MqxMmTDIQ+x1va9DXXorZWotW6PkMoXcS\n",
       "i/5GtdelObwZ6Cx26u4k/FKRXOs9THsbsuyQe9hf3Azq1ITgQpcAAAAASUVORK5CYII=\n",
       "\" style=\"display:inline;vertical-align:middle;\" /></a> <a class=\"ProveItLink\" href=\"__pv_it/34ac87712767187e181334675c3eba5969f36f430/proof.ipynb\" style=\"text-decoration: none\">&#x22A2;&nbsp;</a><a class=\"ProveItLink\" href=\"__pv_it/a9533de4300a6c00a1fb6ab3fda12e90abd2d34b0/expr.ipynb\"><img src=\"data:image/png;base64,iVBORw0KGgoAAAANSUhEUgAAAPsAAAAWBAMAAAD0hvfJAAAAMFBMVEX///9UVFQQEBCqqqoiIiJm\n",
       "ZmYyMjJERESYmJjc3NyIiIi6urp2dnbu7u7MzMwAAAADGpxCAAAAAXRSTlMAQObYZgAAAohJREFU\n",
       "SMe9lktoE0EYx/9pXptmJ+tJbA7SgwcRhBx6laYggogYsHooBdNDBRElCCL2tFD0vD0I4sW9lIBK\n",
       "CZKLoDSCFsHLIqjoZUNBBEGMFIpaI84jm5k02dkQaD+YZR7/md/M981j8R37YyGct/x7f++4cUfh\n",
       "DMaTCj4e0Y9CbhRH5E9E4lN0hosRo6RKI+I/ROLv0LQVMYpVGBFvulH400C2HTHKujcinkxG4DM0\n",
       "rGZUaF+NvPmuRuDHaVhT+VW9dxcenVdKmfm541q5Ing9CP984sGqK6rTNuBfI7+Rq4S7cNvznfFj\n",
       "QfGpk2oBX8PxQoDrNN3t4jcuM+ObvHHLpUBenaDrnvbwJ3chPALxNiwXZ4LJHEWygi+z4bPlAoB5\n",
       "dGrA6nOFU8j8E9VjNeAiyF9kw/HJMvwGCfZnso0EdV09XC4E3H4MwBOyA6Ml8YvIbunw9NivF7rt\n",
       "YxX4TR2+IwjFI95CrCyd/4tNWIO3bFzyzNK3A7zkNzANHV4ICN/O9V2xX+h407K97tbbwTtbi6/R\n",
       "cKaWXwj3+wUcpJe5Bs8FyWy5Z+up7qHz8xq82qQH7xBuguN91oN9yLaaidnpEqzDnaq0a8yYfF1d\n",
       "VW8fIfhkMmfND8I/rGHDaPJqRn3/xBaZxFkWDtZtJsicpBcemXsDbFYLQkDyayuPhVtZI1fJPlLA\n",
       "/MoPXx+edl1ZlpcuN+78E/2HLrhvq7lJRxXU1UZpUmBROSkO8+RwDlM2+h+NILOUK7qqYEptlCYF\n",
       "m0M9OWnxS5CZ/emCuH2az0HmCvJNRXDvXF5plGdajlAd6sElymVr9GvsnpKha9wlWKLptg6/toc/\n",
       "W7Fn9NUxHIWzrxZ76UQo/gN7g8wTj/sWZAAAAABJRU5ErkJggg==\n",
       "\" style=\"display:inline;vertical-align:middle;\" /></a></span>"
      ],
      "text/plain": [
       "{k in Naturals, j in Naturals, (j + k) = n} |- |(b_{1}, ..b_{x}.., b_{k}, a_{1}, ..a_{x}.., a_{j})| = n"
      ]
     },
     "execution_count": 72,
     "metadata": {},
     "output_type": "execute_result"
    }
   ],
   "source": [
    "jpk_eq_n.subRightSideInto(ynew_len_jpk)"
   ]
  },
  {
   "cell_type": "code",
   "execution_count": 73,
   "metadata": {},
   "outputs": [
    {
     "name": "stdout",
     "output_type": "stream",
     "text": [
      "Expected error: Failure to apply (x_{1}, ..x_{_a}.., x_{n}, y_{1}, ..y_{_a}.., y_{n}) -> ((x_{1} * y_{1}) + ..(x_{a} * y_{a}).. + (x_{n} * y_{n})) to (a_{1}, ..a_{_a}.., a_{j}, b_{1}, ..b_{_a}.., b_{k}, b_{1}, ..b_{_a}.., b_{k}, a_{1}, ..a_{_a}.., a_{j}) assuming (k in Naturals, (j + k) = n, j in Naturals):\n",
      "Failed to prove operand length requirement: Unable to prove (k + j) = n assuming {k in Naturals, (j + k) = n, j in Naturals}:\n",
      "Unable to automatically conclude by standard means.  To try to prove this via transitive implication relations, try 'concludeViaTransitivity'.\n"
     ]
    }
   ],
   "source": [
    "try:\n",
    "    dot_prod_lambda.apply(*x_operands, *y_operands_new, requirements=requirements)\n",
    "    assert False, \"Expected an LambdaApplicationError error.\"\n",
    "except LambdaApplicationError as e:\n",
    "    print(\"Expected error:\", e)"
   ]
  },
  {
   "cell_type": "markdown",
   "metadata": {},
   "source": [
    "## Nested ExprRange expansions\n",
    "\n",
    "As we saw above, we may have nested **ExprRange** expressions and ranges of ranges of variables/parameters."
   ]
  },
  {
   "cell_type": "code",
   "execution_count": 74,
   "metadata": {},
   "outputs": [
    {
     "data": {
      "text/html": [
       "<strong id=\"x_11_to_mn\">x_11_to_mn:</strong> <a class=\"ProveItLink\" href=\"__pv_it/3ea9b641d0490c063f16bdcba1f696156990f42c0/expr.ipynb\"><img src=\"data:image/png;base64,iVBORw0KGgoAAAANSUhEUgAAAUAAAAAPBAMAAABnxwuUAAAAMFBMVEX///8QEBBmZmaqqqrMzMxE\n",
       "REQyMjIiIiKYmJh2dna6urrc3NxUVFSIiIju7u4AAAA6P00QAAAAAXRSTlMAQObYZgAAAiJJREFU\n",
       "SMedVD1rFEEYfmI23t6texFMkSJFsEnSbSFYBMJFsBSvsU3sbQ4CCUiiiyiK1f0BY1KliOIhCCJi\n",
       "rrCRsLIEJATukmkDLh4oKUTFmdvZmdubnb3JvcXuOzvPF7MzA0StD0chBle5vf/6Bc5d56FlRinX\n",
       "7Y3CXVjV7uimnn2Kp+FqLiKPJksvwKP0VZEU/5Ua1tUaG9yY0Ttt4iXZzUXk0GTlCMRRlNgYY4tX\n",
       "6gbEjt6J4M4ARB5Nll6AR1FqPDQKCPwdJiCnmQTkUZS6XTELaP0SCHv21oFpvi7t0eP2dPvzQAsW\n",
       "hWm7rYpwGSUncIlBwAW3g+Mk4LY/0jDLF9OeT2KKtAZYxFGY9le3KVzeeMt4n1rBH/Qglc94I0al\n",
       "n2Mdx+f6nw4xTtLzuTQnquE35hKLNF6M4ihMe+tCXbh8b0ezfipg4QF9rLOmmTzWCMrB8cEzsQAB\n",
       "tjmwO7+uNH20S6F1GSvCgk5IfEyiWjxKgEUUPOHCq/cXL2Qsft8en8CclQXU0UYqbtXpVBKBHj2x\n",
       "FUQ3gW/Ys6QL16rBWQKus76u3lCypYh3xOng/rUsoI62R9fQrtYTi6KKFVpUO8CTonSJv878Ca0r\n",
       "ePswoHtCPeuR6Bhi0Ss1ceRnAXW0V7jYcL6QxCJS70ChRbXv4eOmcOn9I/HLVp389NDTAnNp0kKd\n",
       "yNDylC/zhjfbaAPD1rw5NMPFN6TaQ+cztpAu/wEcCtb7P/tGXwAAAABJRU5ErkJggg==\n",
       "\" style=\"display:inline;vertical-align:middle;\" /></a><br>"
      ],
      "text/plain": [
       "x_11_to_mn: x_{1,1}, ..x_{1,_b}.., x_{1,n}, ....x_{_a,1}, ..x_{_a,_b}.., x_{_a,n}...., x_{m,1}, ..x_{m,_b}.., x_{m,n}"
      ]
     },
     "execution_count": 74,
     "metadata": {},
     "output_type": "execute_result"
    }
   ],
   "source": [
    "x_11_to_mn = varRange(x, (one, one), (m, n))"
   ]
  },
  {
   "cell_type": "markdown",
   "metadata": {},
   "source": [
    "Consider the following lambda expression mappying a range of ranges of parameters to a range of ranges of terms added together."
   ]
  },
  {
   "cell_type": "code",
   "execution_count": 75,
   "metadata": {},
   "outputs": [
    {
     "data": {
      "text/html": [
       "<strong id=\"double_nested_lambda\">double_nested_lambda:</strong> <a class=\"ProveItLink\" href=\"__pv_it/e1f6b1845b2d5df0a244612e8ff9cae9b3999dd90/expr.ipynb\"><img src=\"data:image/png;base64,iVBORw0KGgoAAAANSUhEUgAABDMAAAAWCAMAAADqxycfAAAANlBMVEX///8oKCgNDQ3MzMxUVFR2\n",
       "dna6uroQEBCqqqqIiIgiIiJmZmYyMjJERETu7u6YmJjc3NwAAADtE0dfAAAAAXRSTlMAQObYZgAA\n",
       "BeRJREFUeNrtXOnCgygMZFdE8AB8/5ddFPHkJvT4tvyhrW0yk4wRqIIQQlKgXytsVCZ82QS8WuCT\n",
       "0KTj/ibMb+Pz3dlwUDA9n36nfHnD8cIwAa8YeFxDppWFgl9dNF4m/G/MhoPC1o/yd8YDpHCM/qoJ\n",
       "uOlpxx3V3XUAEg1Kxp0P6/WYY/iEr7KFhKtm47Xy1r0Yfic8RGtZ5BdNwHXPcYtnmySdB7LQUJZq\n",
       "4fGLAN4KEUwHnc4nfLYAEC5nlosePDlr3/+GGTCVuHMcYLcAm4DvgRcuSYp8rd7RANSMMF7oCNat\n",
       "GfHCLyZczqwAPWxyll72v9MdaLBIHOm+XhFMwI/A16gZdzTlNSMCL3QEq9aMBOGXEy5mVoAeODmq\n",
       "Z5uiOWNYEtZCpQna3lu8JZltj9pwXZ66ptcEnA25NSMKVTsA14wQXtJiKRkbWH4gb5jr1oyNzwYb\n",
       "M9S0DBPwPAAxy0bvS0uWvFU/6X9seKtC0zPUAy3XQNt7i7c0s2J0VAl6KSFbwPc+uWbEoRIjcM0I\n",
       "4W3RNKmf8FlmB/KGuW7N2PjssBlZFjvB8wDELBu9Jy158lZ9T7VpFZVWhYasppuzypucP3U89mos\n",
       "0Fy82RoAiWBae0fNQGw6aW4L+N7fJMldWuURoT29oT1wzQjgbajWnpybJ5VINdww160Zms8Bu12Z\n",
       "ZefBL7piZrnofWnJk7fqO7IbmjaKzTAcFC9vEi7RLnt1xhknb9bklZMIt+ZI2b//jJc2z8ewcQv4\n",
       "3l8lyefRrtXjQFyqdjTtiqDv1g5HlUrrLwJ4uXpJLsI9UYlUwxHBdNCZfAxsunLCU2YeQqIrYFaG\n",
       "3peWPHmr/pACmvdaRs5ZJbknvMNepTZ7SzcAiYSa0fOb89NM018zUI8d17fzgYhUndDAjDOCeOnq\n",
       "EY92xDFquGGuO84wfDRsfXp3LDsPftEVM8tH709LurxVfww5m2P4AlIzXPbqtJM3yJoRMOtwcXXW\n",
       "jBxFz00i1t6iUkVeNDc52rDKchaI56qBvH5uYmD3y+CeqEk/z8yDnw+pMzeJQe9NS4a8Vb8tplCO\n",
       "2FJIGIepGU57YhANY8A3pJy9GQeM4QaQhM3slYtzDfR6x17xGmhcql6+Boq6dhslt7lqeMcaqIat\n",
       "B/Dq9JI0Kw8h0dVaA41A705LnrxVr/9CITNF07w/92IT4jFzPSZEj4/MC7c9QTr1WSf9v49yYve2\n",
       "OcAqIBiQhM3smYvK2ZGUy9ND5FogT/9ZmSVSV82wHohI1Q2NRXO+ODhUGsIrV+G2IxJNPGRnBC0Q\n",
       "kiQRzUduCwJrcW8t9S4qD17RBZl5eRSid6clU96q17w4ZoyzQQjPgLc3s/RjQrS/Ol7oLzntSc6W\n",
       "11sSniafL3zHLN6MA3JNVCkJm9krFzQ6hnlD4xrj6cO4m8fB8oyi40BMqp5oHmNbT5ztvwjh1ccl\n",
       "Fs9rXaQaHhG8QYiTRCIf3emrKR2EzMpDQHRBZl4eZejdacmU99L3MjCx3N/QmLvhrF8628OKPelS\n",
       "TCZ6Wxw03WUGDkHCZvbMhcfOfh73jhc1R83gxUsD9e5WdqnhEcFPuXc8ovlFV86s+r3jsfJee9vD\n",
       "LnYhtjG+25BKumatZU28yURviwM2LaMy1ACSsJk9c8l8Rq1Szbij4cnF+fELsKeiXGp4RJBD3qNe\n",
       "j0+E6IqZ1UWfIG/dT8+Kpe/fkPpWJHMzB485KexfOtmTy9yrJ7SJNpnobXWwVEgxLec+FAmb2TOX\n",
       "hOedTcAniEuFNVV1nr6egC5tDjW8/Fn4Ce5SHRDd+NnoE+S99Y/NO+TQz3qoQo83t4U950XUhuds\n",
       "jyzzNNYKFG0y0dvqYPmrQuLlRjcoEjazZy7TW/bccaQKWFAIDK9PDdMX77njF930+XvuxMrb9O5N\n",
       "wigwT4re0OgrzIp37+1Hs9Gk435/BD+Sj4ub+Ma9/ezJCVOB3siQvmOrjkpO6WdtO0K/bxcU+oc3\n",
       "bvl6btkEoAvZW/YqFl9l9o/A+aOQ/z/cfAT+A53Pa2NHtOxYAAAAAElFTkSuQmCC\n",
       "\" style=\"display:inline;vertical-align:middle;\" /></a><br>"
      ],
      "text/plain": [
       "double_nested_lambda: (x_{1,1}, ..x_{1,_b}.., x_{1,n}, ....x_{_a,1}, ..x_{_a,_b}.., x_{_a,n}...., x_{m,1}, ..x_{m,_b}.., x_{m,n}) -> ((1 * 1 * x_{1,1})+..(1 * j * x_{1,j})..+(1 * n * x_{1,n}) + ....(i * 1 * x_{i,1})+..(i * j * x_{i,j})..+(i * n * x_{i,n}).... + (m * 1 * x_{m,1})+..(m * j * x_{m,j})..+(m * n * x_{m,n}))"
      ]
     },
     "execution_count": 75,
     "metadata": {},
     "output_type": "execute_result"
    }
   ],
   "source": [
    "from proveit import indexed_var # convenient for creating nested IndexedVar expressions\n",
    "double_nested_lambda = Lambda(x_11_to_mn, Add(\n",
    "    ExprRange(i, ExprRange(j, Mult(i, j, indexed_var(x, (i, j))), \n",
    "                           one, n), \n",
    "              one, m)))"
   ]
  },
  {
   "cell_type": "markdown",
   "metadata": {},
   "source": [
    "First, let's consider a simple example in which we assume that $m=2$ and $n=2$ and apply `double_nested_lambda` to $(a, b, c, d)$."
   ]
  },
  {
   "cell_type": "code",
   "execution_count": 76,
   "metadata": {},
   "outputs": [
    {
     "data": {
      "text/html": [
       "<strong id=\"abcd\">abcd:</strong> <a class=\"ProveItLink\" href=\"__pv_it/a93abd515fab37a50b9a8d3836147d07bc5d3a320/expr.ipynb\"><img src=\"data:image/png;base64,iVBORw0KGgoAAAANSUhEUgAAAFAAAAAUBAMAAADo9qfkAAAAMFBMVEX///9UVFTMzMx2dna6uroQ\n",
       "EBCqqqqIiIgiIiJmZmYyMjJERETu7u6YmJjc3NwAAAC+aOQFAAAAAXRSTlMAQObYZgAAAXJJREFU\n",
       "KM+Nkz9Iw0AUxr9QW5omaboVHCS7YAsOtYPQRXCrg4v4h4wOokGE4lYRnBwKBQsuVnGWLOKkxsFB\n",
       "HZJRBCFudROUDpLBd3eJpJCgGZIf77377nt3L0DRw59PzqfXUyygXrYTyiaXMEGfi3is0EkSHOIR\n",
       "0EZSuplQNxYgYyHvx2NNJ6Ew04a6gMFIbCZpZ+bnHLtExW5vRcROW0dhttYyBLzXKuSnjmviOb/w\n",
       "Ibr+dlxhZWAqfWFwDbfk5wUHlF6FbIvzCqBbnPYhib7uPRzTZx2LgBwgL9JyH26VQxAZPHFoEVBh\n",
       "hVkbrhHZbnKhrB0VLkP94oW0NYlshcfoMQUg1GWuP5Fj/udZM66JcX6b0BvkN1wBLq0OIfU3WTN1\n",
       "QLG0vQxc6lLylA4HuYQHgwGu8Fwi+S5pQi1vv+0gf0jUmwUHTL9aAu5aU+UGcBa7wo10gNqODUU1\n",
       "HdhQ4CZaZKUC2Jj9Dq6GVBBq//kVNB8/Nstga3eXBjQAAAAASUVORK5CYII=\n",
       "\" style=\"display:inline;vertical-align:middle;\" /></a><br>"
      ],
      "text/plain": [
       "abcd: (a, b, c, d)"
      ]
     },
     "execution_count": 76,
     "metadata": {},
     "output_type": "execute_result"
    }
   ],
   "source": [
    "abcd = ExprTuple(a, b, c, d)"
   ]
  },
  {
   "cell_type": "markdown",
   "metadata": {},
   "source": [
    "We'll make some assumptions and prove a few things to meet the requirements."
   ]
  },
  {
   "cell_type": "code",
   "execution_count": 77,
   "metadata": {},
   "outputs": [
    {
     "data": {
      "text/html": [
       "<strong id=\"defaults.assumptions\">defaults.assumptions:</strong> <a class=\"ProveItLink\" href=\"__pv_it/1c26cb5aa61d895ef125b9caa9cb412d99ac043d0/expr.ipynb\"><img src=\"data:image/png;base64,iVBORw0KGgoAAAANSUhEUgAAAH8AAAAUBAMAAABWoP+5AAAAMFBMVEX////MzMxUVFR2dna6uroQ\n",
       "EBCqqqqIiIgiIiJmZmYyMjJERETu7u6YmJjc3NwAAACgK8IjAAAAAXRSTlMAQObYZgAAAcRJREFU\n",
       "OMullL9LHEEUxz/e3i/PdTkQUl8ZAolLLESbLKSxU4iC5bXXJIdNsAlLhCA2HjaipliSKhb+qCwO\n",
       "ZRFEQ4qL/4DZLlZ64Q4Sgsk6M3so7u7tgb5iZtjvvO9777vzHhjfube9lsu3eOzrxm6ir75WL5Ly\n",
       "xGkrHi/xwkoiOERrozswWIvF+10yU0kEH2EGRiHvxeIZm9T/JIJZGPY4gvN4vHBF6lcSwbbLcJGC\n",
       "xTykn1+8XY1eyV+p7eWzn3PVobkYQZZdtBr7oA3s0ZCVaJvKOqpMmmoz61X9t5VVgowr/EuAp1tC\n",
       "QYcP8CjvcFmMBHiv1r7yEkaLwWY0wxJkbabBbVj8iP6HIBFdb5MVguxELqxJ+qYk4A08ieDznT3b\n",
       "pN8mUw3juVpAIEpgHf7ptxqUlF+NiyATh7zJpOfeaPBJfa9geKRtKSKvRJJaKMAQvAtehIkocd0o\n",
       "38X7THKeFHEMjDaac3oXNxZGVmz9rzhdWrLEz+EA5yNjj0V6JhPIPIynoQAF3/dtFkXeE0qOyln4\n",
       "Ifn+H3Gt2O0pdwR0e/TzSddmCkzrNRBEM3GQgB/38Jft3G2gKOs1rAZk/Q8ZaULZa4Jqee4mL4Mv\n",
       "AAAAAElFTkSuQmCC\n",
       "\" style=\"display:inline;vertical-align:middle;\" /></a><br>"
      ],
      "text/plain": [
       "defaults.assumptions: (n = 2, m = 2)"
      ]
     },
     "execution_count": 77,
     "metadata": {},
     "output_type": "execute_result"
    }
   ],
   "source": [
    "from proveit.number import two\n",
    "defaults.assumptions = [Equals(n, two), Equals(m, two)]"
   ]
  },
  {
   "cell_type": "code",
   "execution_count": 78,
   "metadata": {},
   "outputs": [
    {
     "data": {
      "text/html": [
       "<span style=\"font-size:20px;\"><a class=\"ProveItLink\" href=\"__pv_it/8e98e64f388c514a8f420b1920d362f92907fc370/expr.ipynb\"><img src=\"data:image/png;base64,iVBORw0KGgoAAAANSUhEUgAAAIYAAAAVBAMAAABxpYtPAAAAMFBMVEX///+IiIi6urrc3NxERETM\n",
       "zMwQEBCqqqpUVFQiIiJ2dnYyMjLu7u5mZmaYmJgAAABN0h6tAAAAAXRSTlMAQObYZgAAAbdJREFU\n",
       "OMulVD9IAlEY/+ll6nma1ZrgFNTShUM1WWC7QxAEgS1BTU1uof1ZmrxoKRu6tlCiG6WIrq0ldGgo\n",
       "SnFrTJSGSrjevTsy77o7yG/4vsf7fe/3vn98AEI1/F+WR1TNXaIXGU0SFWpYO9w/zFuDXDVB3gcl\n",
       "cmQFa68sLqKW6B3Ypv7chiMooz9lib4Aq84c/QJ8LUt0DcjxjhyBNnzvluiNjFyyw+E+iw1ueU63\n",
       "zY7+NjXjO5ORsBk9kcGqyfpIYdm+OZSHkFbv2SsqFc1rQqRGTIQ5mlWRgtca6P7U25omDVr0S4iL\n",
       "eDP/dEi1Z+MYjDkrf5YowrdwQKxcjiIjY9fcGS0cjmv+NUdVVfn29UHLAE/Aiskroltvg+bcLS76\n",
       "QUnlmSXqGcjD3eI69cjSpxXEtHgkDNTln3qU6OUmGF4LjzZnHSTaoDRl+GkJGNYmRSS5it2gR4SL\n",
       "1/qicjBNNdqAaPBi8oVHgfsip3gUxVCyG50pnO/9mlO3oCbnrfGGGVMURcARyWEMmH41zpiifDjP\n",
       "ul5P2Q7VOFIOHCwcOez2B5VbW5TuDzjtsbr9HqMLxtvrPv0GWh6CcBFtyuEAAAAASUVORK5CYII=\n",
       "\" style=\"display:inline;vertical-align:middle;\" /></a> <a class=\"ProveItLink\" href=\"__pv_it/01782a64162758f358fff7cf6002cfe6185479110/proof.ipynb\" style=\"text-decoration: none\">&#x22A2;&nbsp;</a><a class=\"ProveItLink\" href=\"__pv_it/9b3e9c5d2db529547290e6ff92ceadd883b66ab80/expr.ipynb\"><img src=\"data:image/png;base64,iVBORw0KGgoAAAANSUhEUgAAAh0AAAAVBAMAAAAQgkGQAAAAMFBMVEX///9UVFQQEBCqqqoiIiJm\n",
       "ZmYyMjJERESYmJjc3NyIiIi6urp2dnbu7u7MzMwAAAADGpxCAAAAAXRSTlMAQObYZgAABFxJREFU\n",
       "WMPVWE1oE0EUfvnftNm0eFCqgh7FHyzixYM0RREKChFFRArGQwUpiHjRegpIxZwasYfqpbn00kIM\n",
       "4lFwC1YkeliLVvCSgOfSgFAopeLMm93szOzObsbiwQcb3s68772ZL2/ezgysg56sRzb8x5K34RMq\n",
       "cz0Yn8HfT3Kz52AuGKGUOdAECJItBzQmqvoYjMqAuQabjnmP6zbvFwKYu1+MVdV8UAeCE5RY6Oj8\n",
       "9hEAUb4Htg79BQajDvF8pIVxpIsBoIFhs6TmgzqgT+JE958iGkOoRLRnFJV65+OOr+WUDbCmielG\n",
       "XeP5mJamHgB6Z0NTzcc0e74s7zitTGuGDU6wd6TZMx2G/KeZBw8RPnI1HQwXFYEuH2Py1P3yHmBV\n",
       "zceY8xjd+aG2GjYj0Z7Jas98JP1La4aM2zysh+lGRaDDR7YgT90vEyTBGyo+qAN0IvGBCFVtKwTw\n",
       "EQYQZRYC+YBJPYwXddLjo4/mUXb8hrOYby1ecRNpsc3GPl7/RayLKj6oA3Qi8ZErqgcn2r8derlQ\n",
       "CweIsgDQv/xicX++eUDgY0UHw0dd8fjI0M/Q62q6wxbipt1iiTU7nGEF7nU1QwZulFw+crdRii4f\n",
       "1AE6kfgwQuqjaG89qJlb4QBRHpJRZB5BawlOCXw80cHwUZ94fCRJATWPQIp9ABM7MMCq0kWIYWml\n",
       "fQSSKKjygzqgj8xHohCymHn7/PAFyP4OB4hyDuBnsgTzFswIfJzWwAhRT3t8xMn6Se1AkrFApt6y\n",
       "UHEnR/tIS76j4oM6oI/MR76jHpxgb5rbYHTCAaIcA7BbDRixYZ/Ax4YGRoi6IfIRvwettrv9eIdp\n",
       "EXc3TLSv8U/5gEQHYiVNPmAE4CrAUR0+RAwfdUNcLyQlRpztRxlu4heXZQl0+/oLUv0YjFov/b2u\n",
       "F5qUA2U7FODLfbhGl3T/lsnz8UYHw0d9I9bT1jDsZZv4gQapFw4xgIni9Hn1VM6P3dfTOKHctvTq\n",
       "KRwHkvCp0nONeipi+KhcPaXfm0zNGM1Bi/TEypkiKqlB+NamCuuDlKXigzrAj1YfmV8L50Q1hqDv\n",
       "5iav4I9oP9+AD0YbAZ6JgJTeyOcxu00TPm1Z2ArwivIxrgb7MVxUBDp80Hwx99efLUHyEtFufARU\n",
       "4PPTGmvBPki3VXxQB/RJ7dm8zqCoMQS+j1Jl0FHgvC3bk2x99tgB0F4RgIr35gCIB7KJSVyvMsTl\n",
       "kxMk5e66/iVwIIaPejdwv35WrcDX6P16EIJ77x727GB7BkjYEWvlrLz39hBmQeEhBINREeg/z1lq\n",
       "pYfzXCCCe3clB8H2DJCLqh2WfDbzEOw8l9PC+M9zGZc4s6ZUIOy8Tx24TmSE6T9y/uCDcv0M8COC\n",
       "DgaYkv2hrEGwhzCM/7zfvZoxQKk444++D5IRhn9GZT4o188A5aijvu9ux0NMQbCHMAxGnXL4qPd8\n",
       "X1jB37rcXFffF1Z07wsru70vNP7mvrDSBfa1/wB6qtLmWCWUhAAAAABJRU5ErkJggg==\n",
       "\" style=\"display:inline;vertical-align:middle;\" /></a></span>"
      ],
      "text/plain": [
       "{m = 2, n = 2} |- |(a, b, c, d)| = |((1, 1), ..(1, x).., (1, n), ....(k, 1), ..(k, x).., (k, n)...., (m, 1), ..(m, x).., (m, n))|"
      ]
     },
     "execution_count": 78,
     "metadata": {},
     "output_type": "execute_result"
    }
   ],
   "source": [
    "from proveit import extract_var_tuple_indices\n",
    "Equals(Len(abcd), Len(extract_var_tuple_indices(ExprTuple(x_11_to_mn)))).prove()"
   ]
  },
  {
   "cell_type": "code",
   "execution_count": 79,
   "metadata": {},
   "outputs": [
    {
     "data": {
      "text/html": [
       "<strong id=\"eq\">eq:</strong> <span style=\"font-size:20px;\"> <a class=\"ProveItLink\" href=\"../packages/proveit/number/numeral/deci/_proofs_/count_to_2_range.ipynb\" style=\"text-decoration: none\">&#x22A2;&nbsp;</a><a class=\"ProveItLink\" href=\"../packages/proveit/number/numeral/deci/__pv_it/d2bb271f5b0966c1effeab0b9792c5701d0825710/expr.ipynb\"><img src=\"data:image/png;base64,iVBORw0KGgoAAAANSUhEUgAAAJkAAAAUBAMAAABsXIKPAAAAMFBMVEX////MzMxUVFR2dna6uroQ\n",
       "EBCqqqqIiIgiIiJmZmYyMjJERETu7u6YmJjc3NwAAACgK8IjAAAAAXRSTlMAQObYZgAAAbtJREFU\n",
       "OMudlL9Lw0AUx79t+ttUCv4BFlycbKGDdLKjmx0quDkJCiKuXTQoFAfBUKeiQwUXHRRnqQRB/NHB\n",
       "zg6asZMoOogU490lHLnLYdQvXHgcn7y79969Bwz3ICphI6AApNAK/XT9O7d7Z8BEkOz+7EhvnecQ\n",
       "pbc4IWvB8nbzmKrgLoj7IYUuob1DbwNZE/pYwQPTFuJVaKsyLUAK7QOzwCSQovd78sC4gegX9KpM\n",
       "C5BCc0DBxhXQhw/MDBB9BQ5lWoAUOrVQyCFTQV0CUwOgLNP1EG9EOxY0Ex0JnCkCD9TQjplMandC\n",
       "vcXeSHbbaEjgBlmLMtsI9ZbKk4dqoCaCaXqXUZmthXprkRV5kUGWob97S5quNzGIhIlnYNqXt/yv\n",
       "Il3CsI2YISV4BFjzquBXWBUiRSRtWgX2GtYt6J+0uTdLTQPYlWkBYp/7ts9Av1QeJzkvsqia80c9\n",
       "bJGjM47jEG8HsjcBYmWnNXSNbfp6HeeD/J1zm4aljAeiG8rOEiGuZW7dsIZ2pfFdZdfLEFeRW6Tr\n",
       "ceHZ13xXMZGCEA+EH00nEh+EvcCvimkZHMFZbg3ZqiGd/eckfwS+ARMVl4jx7layAAAAAElFTkSu\n",
       "QmCC\n",
       "\" style=\"display:inline;vertical-align:middle;\" /></a></span><br>"
      ],
      "text/plain": [
       "eq: |- (1, 2) = (1, ..k.., 2)"
      ]
     },
     "execution_count": 79,
     "metadata": {},
     "output_type": "execute_result"
    }
   ],
   "source": [
    "eq = Equals(ExprTuple(one, two), ExprTuple(ExprRange(k, k, one, two))).prove()"
   ]
  },
  {
   "cell_type": "code",
   "execution_count": 80,
   "metadata": {},
   "outputs": [
    {
     "data": {
      "text/html": [
       "<span style=\"font-size:20px;\"><a class=\"ProveItLink\" href=\"__pv_it/fd53680535e6fc902571d77e9d68c2412cb8e2890/expr.ipynb\"><img src=\"data:image/png;base64,iVBORw0KGgoAAAANSUhEUgAAAEUAAAAVBAMAAADiLT7tAAAAMFBMVEX///+IiIi6urrc3NxERETM\n",
       "zMwQEBCqqqpUVFQiIiJ2dnYyMjLu7u5mZmaYmJgAAABN0h6tAAAAAXRSTlMAQObYZgAAAQNJREFU\n",
       "KM9jYGDgu8eAE7BePACieHYx4AFMqSCS7wMO6bNXXIHkbRCTawJ2JTwNDOsVGBhW4lPDe4CBLYGA\n",
       "GrYJDByfCajh/sPA8RVJjVazoawApjLOPwwMy0AMjg0MDAtcBHg+gzXsBoMLEDX6CxgY3oMYZQEM\n",
       "rAWzGZi/YpozA2QlUH3IZKA3eT5hCyZesHGdQEeoBTAwsH8AW4kGZMFObwC5xwGoYwMD/4MDCPeA\n",
       "xBnYLzAYQ90D8hfbAob6AwvQjIliYBCG+gukxl6BYTVfAKoS5lmrbkxACh9NBgaL5+hh+P///wkE\n",
       "whkKIGoSCKvBmX4gAJx+GPCnwyQwxU4oPQMALV9MFsaJdEUAAAAASUVORK5CYII=\n",
       "\" style=\"display:inline;vertical-align:middle;\" /></a> <a class=\"ProveItLink\" href=\"__pv_it/0509731af8654e8f5dbd01a265a5f09ed85ae2a50/proof.ipynb\" style=\"text-decoration: none\">&#x22A2;&nbsp;</a><a class=\"ProveItLink\" href=\"__pv_it/2d8ff373c2b68586662b05dc97b0904521c346160/expr.ipynb\"><img src=\"data:image/png;base64,iVBORw0KGgoAAAANSUhEUgAAAJsAAAAUBAMAAABoqVKyAAAAMFBMVEX////MzMxUVFR2dna6uroQ\n",
       "EBCqqqqIiIgiIiJmZmYyMjJERETu7u6YmJjc3NwAAACgK8IjAAAAAXRSTlMAQObYZgAAAblJREFU\n",
       "OMudlL1Lw0AYxh8TG5p6qQX/AAvuNeAgulhwcbNDd10EB9GuXTQoFBGHUkeXCC46CM5SySJ+dDCT\n",
       "g4MWF520gpOU1sslprlL+qEP5Hi5/PLk3vfuXiBpg5dSR0ghKErrzlALztwengOZMFkbwA2Ss44z\n",
       "+qxY7gRJYy6LuzAZhLqKmIBWBpmY9EjVQiwHuSCCHNRd00DcWeGzR8YMSC2QnMhxUHddAW8IkIkm\n",
       "pE/gWOQ4qLsSWRQFMt4EZkSu2MduPvNapBWSy6gK5KIOPDqBfMpUduJqHzv9okBatMQmSgK5TZ9V\n",
       "ES/1thta3kOSFkkxkOdJ1VnNuMjne9sR8gWtQW0bIsmq9Fc7KA1IJrPj81DKeAcWArVLD5AsVBOj\n",
       "toVhQ6jyGLDpbUVQ/bYipmPD0p2tYIdiywL5dm76zlTFAA5EnIPYcG8GAnxkMauloOosscrSiY1d\n",
       "+vNEu92mdkeiHQexzY+nf4N99/3LA/085d4fVjY/F2JEXjIe8rXWCW/Y7XYl+7ORLUCEOkeYawG4\n",
       "9OJrfzaiQYUhP5UC16D8zmiHvo1on+GmrHXCkXpU39b+29yfgB8DNJa+K4uGqQAAAABJRU5ErkJg\n",
       "gg==\n",
       "\" style=\"display:inline;vertical-align:middle;\" /></a></span>"
      ],
      "text/plain": [
       "{n = 2} |- (1, 2) = (1, ..k.., n)"
      ]
     },
     "execution_count": 80,
     "metadata": {},
     "output_type": "execute_result"
    }
   ],
   "source": [
    "Equals(n, two).subLeftSideInto(eq.innerExpr().rhs[0].end_index)"
   ]
  },
  {
   "cell_type": "code",
   "execution_count": 81,
   "metadata": {},
   "outputs": [
    {
     "data": {
      "text/html": [
       "<span style=\"font-size:20px;\"><a class=\"ProveItLink\" href=\"__pv_it/2dac503bfb8fe2dffc895cfe247b865a3aa79d0e0/expr.ipynb\"><img src=\"data:image/png;base64,iVBORw0KGgoAAAANSUhEUgAAAEoAAAAVBAMAAAATJmVgAAAAMFBMVEX///+IiIi6urrc3NxERETM\n",
       "zMwQEBCqqqpUVFQiIiJ2dnYyMjLu7u5mZmaYmJgAAABN0h6tAAAAAXRSTlMAQObYZgAAARRJREFU\n",
       "KM9jYGDgu8eAD8TKgEieXQz4gVoAkOD7gFOe564LUAXvBiCTawJOVScYuD5BFeBRdYeBIY2wqkwG\n",
       "hn4Dgqr2H2DoD0CoYlphLNjIurAJU+H8AwxcCUCaA+gFLhZHhvNCDGUgca7dYHABrIjpFzQQyoCe\n",
       "DefcwGC/gOE9hlGcDUBiLwNDyGQgfeC8AkP9AYYWDFV3QQTHRGjQ1jMw3GRgSERXxAi2dwdIpQOQ\n",
       "uM3AMIuB6TMPwl0gqxhqGZgNIO4CezSLgecTMCrMUY1iXcDAaADxI0gV8ycG9g8M3AsWoKqyXLW2\n",
       "EynsmSaAnMB+zwAtVP///0k4hiAAoiqBGFV40hcEgNMXA8G0qgAi2QmnewDc9k/6zks5YwAAAABJ\n",
       "RU5ErkJggg==\n",
       "\" style=\"display:inline;vertical-align:middle;\" /></a> <a class=\"ProveItLink\" href=\"__pv_it/a165f7199584fbb3ee549cf55afdb9fffd65d9db0/proof.ipynb\" style=\"text-decoration: none\">&#x22A2;&nbsp;</a><a class=\"ProveItLink\" href=\"__pv_it/36e2b00786746a86183fffe8b64b7a5e92232f220/expr.ipynb\"><img src=\"data:image/png;base64,iVBORw0KGgoAAAANSUhEUgAAAKEAAAAUBAMAAAAXeEBDAAAAMFBMVEX////MzMxUVFR2dna6uroQ\n",
       "EBCqqqqIiIgiIiJmZmYyMjJERETu7u6YmJjc3NwAAACgK8IjAAAAAXRSTlMAQObYZgAAActJREFU\n",
       "OMullbFLw0AUxj8bG9J6LUL/AAvuNeAgTgZcurVDd7sIumjo1kWDQhGnUDddKrroIDpLpYtU7dDO\n",
       "DtpNJ60oCFKsl2tIc5eYVvwg4fr43ce79y6vQLwFXnIbHnmgX7RmvRruyO3BBZDyko3RDBGysjmj\n",
       "z3KtHyBJLGi485JuKEikAsRMkOkZG47UEM5C0kWQgwI1ByhWno82HDYQ+gbJihwHBeoaeIYLjnYR\n",
       "egOORY6DAhXVUBRgpQvMi1xxiONi6qmgJwoaIJmoCnBGBe6thXTKZFrr6hBH9VInn5pMqxWroCTA\n",
       "W/RZEXeUgh3H8ruIvyPWoZfZQI6HI1ZOU+KWXLAjIR+QaQvOqXlHhFnF/uoIuYOIgbDOHPkDySZe\n",
       "gLSrjskRTo1IBYqKTLuGcUMoegLYsDvj1rDOhFU0NezH81Zn2E3ZrIF8WQNhe7ZsAHviDg5ir2YF\n",
       "rl+vGtaBI4lmq7ITlpdOWtihKUR7vR51PBQdOYhdByVpL1gozRqw+kAdJvsfGCuhcyhi+H6FPDTo\n",
       "Che6YUOgL8mJ+k4KERrQ4qTAlb2uO1GfaeaFHNXFaeYM05Znu8/E9RnlXGii7TfwY//4V6C9+QH7\n",
       "TZ2pf5nv8AAAAABJRU5ErkJggg==\n",
       "\" style=\"display:inline;vertical-align:middle;\" /></a></span>"
      ],
      "text/plain": [
       "{m = 2} |- (1, 2) = (1, ..k.., m)"
      ]
     },
     "execution_count": 81,
     "metadata": {},
     "output_type": "execute_result"
    }
   ],
   "source": [
    "Equals(m, two).subLeftSideInto(eq.innerExpr().rhs[0].end_index)"
   ]
  },
  {
   "cell_type": "markdown",
   "metadata": {},
   "source": [
    "Now we will apply `double_nested_lambda` to $(a, b, c, d)$ and demonstrate the expansion of nested **ExprRanges**."
   ]
  },
  {
   "cell_type": "code",
   "execution_count": 82,
   "metadata": {},
   "outputs": [
    {
     "data": {
      "text/html": [
       "<a class=\"ProveItLink\" href=\"__pv_it/133ee96fa63091e6434b74f156a4f24698c066f00/expr.ipynb\"><img src=\"data:image/png;base64,iVBORw0KGgoAAAANSUhEUgAAAXsAAAAUBAMAAACexYADAAAAMFBMVEX////MzMxUVFR2dna6uroQ\n",
       "EBCqqqqIiIgiIiJmZmYyMjJERETu7u6YmJjc3NwAAACgK8IjAAAAAXRSTlMAQObYZgAAA5dJREFU\n",
       "SMedl01IVFEUx48zzjjjvBmF9iVEGS1yyEVNIM0mcKcLg8g+ZhPVxhQKcVMPo2lXk0IhFk7SIt9C\n",
       "bSFBoQyCYBnM7PpY5NDKFkViSMjUdO59b+Z+NtfpgPPuee+c8/u/98593gsQK0BtCxaVU98MKQPK\n",
       "GRNFAzEKo5Q1MNkR+YQ1L/kTr1ur4wUbwKeIWROjdgEhKW8mX2ghaA0LGUqZxb9LOe6C4BB7Kxdu\n",
       "xrzgOeYvg/8nu5hBVFZOmZWiFIoCwRSrDU4mtRC0lhShRDNg7e9gtQTHNf+gN7jsHT9isaMlFvAY\n",
       "4DRXFn+OVXrCS0WKEKVSFAimhHMQ6NVC0HpyhBIib2Cdr7Uuy7d6pcr3SHVO/hmAjiJXFmBFkk8o\n",
       "QpRCUSCYErDB90cLQTtOKRtglA/PxMoxW5I/l4OOVq4sdlBSlL8hR6kUCUJSmkvg29RC0GYoZaSm\n",
       "/K+JG+glxMpNGUk+2v1q0vTwQ2yFjCh/RI4SKP7hIQXipYRKWkhsfGibUhZryW+8AHN4+CRWjhQU\n",
       "+Y1b1SbYyeWLEM2K8helKIESS8MrBeKl9MR1EDhVjCAfKWlWy+IL05+VAkzi4YpYOZRi8j0RobaK\n",
       "EyxByyAEbVF+mkUJFOqE4nBQgXgpo5wwBrHOQxgfEFL6WK18lhW2dshwKgd38bCPjE84zh3HmcZR\n",
       "IFmV74YBTFQdLJuPQ8MP0hOO8/ys4xBoH4viKa4zRYcSxE0JZ7gUDlIi90wonHz37jyH3nY/WJuV\n",
       "yuzBcPLdMHc2uA5+9ntSrnzu6fexKIFCnX4AFeKmjHCPnYME5iGfpPLTNXrf2oIg0dH97+Zx7SrE\n",
       "Kt+0lgJ5mo265uGiJAqoEJoSzMB3HQTf7zUyGeyaU9faBl92wDx1G+LQVJWfxMbUTl0+SkD+xjj9\n",
       "1N0DcFMHyafgcJB+IOj36hYvn3Newoc27LFxsTL9KjZx8jc6E4cqY18hgpfDcVF+QooSKGNgPVAg\n",
       "JCV2u3PM1kEig9FRP6WQdzZ2cYat7nhneXhvO/bYU7Ey6YzwgZ0n7N9Wufyr+sYedZEZ0CrK75ai\n",
       "BIq/6z0oEJLSXC6XbS2kfejLdUoJFY0rTsvWLBpq26pm0VAnZBfCVt3FlMGqq6l3bMlmsMqSzcqx\n",
       "JVudkF0II5QlY5Sylo2YHoy6YF6qG2JOoRTzdmXJtF0B8/2t1Q0xp1CKcU8WrX+z+LnunV/0PzaL\n",
       "SPkLX9NhcU1WAS0AAAAASUVORK5CYII=\n",
       "\" style=\"display:inline;vertical-align:middle;\" /></a>"
      ],
      "text/plain": [
       "(1 * 1 * a) + (1 * 2 * b) + (2 * 1 * c) + (2 * 2 * d)"
      ]
     },
     "execution_count": 82,
     "metadata": {},
     "output_type": "execute_result"
    }
   ],
   "source": [
    "requirements=[]\n",
    "double_nested_lambda.apply(*abcd, requirements=requirements)"
   ]
  },
  {
   "cell_type": "markdown",
   "metadata": {},
   "source": [
    "Note in the requirements below that we need indices to match, $(1, 2) = (1, \\ldots, n)$ and $(1, 2) = (1, \\ldots, m)$ in order to perform this parameter-dependent expansion."
   ]
  },
  {
   "cell_type": "code",
   "execution_count": 83,
   "metadata": {},
   "outputs": [
    {
     "data": {
      "text/html": [
       "<span style=\"font-size:20px;\"><a class=\"ProveItLink\" href=\"__pv_it/8e98e64f388c514a8f420b1920d362f92907fc370/expr.ipynb\"><img src=\"data:image/png;base64,iVBORw0KGgoAAAANSUhEUgAAAIYAAAAVBAMAAABxpYtPAAAAMFBMVEX///+IiIi6urrc3NxERETM\n",
       "zMwQEBCqqqpUVFQiIiJ2dnYyMjLu7u5mZmaYmJgAAABN0h6tAAAAAXRSTlMAQObYZgAAAbdJREFU\n",
       "OMulVD9IAlEY/+ll6nma1ZrgFNTShUM1WWC7QxAEgS1BTU1uof1ZmrxoKRu6tlCiG6WIrq0ldGgo\n",
       "SnFrTJSGSrjevTsy77o7yG/4vsf7fe/3vn98AEI1/F+WR1TNXaIXGU0SFWpYO9w/zFuDXDVB3gcl\n",
       "cmQFa68sLqKW6B3Ypv7chiMooz9lib4Aq84c/QJ8LUt0DcjxjhyBNnzvluiNjFyyw+E+iw1ueU63\n",
       "zY7+NjXjO5ORsBk9kcGqyfpIYdm+OZSHkFbv2SsqFc1rQqRGTIQ5mlWRgtca6P7U25omDVr0S4iL\n",
       "eDP/dEi1Z+MYjDkrf5YowrdwQKxcjiIjY9fcGS0cjmv+NUdVVfn29UHLAE/Aiskroltvg+bcLS76\n",
       "QUnlmSXqGcjD3eI69cjSpxXEtHgkDNTln3qU6OUmGF4LjzZnHSTaoDRl+GkJGNYmRSS5it2gR4SL\n",
       "1/qicjBNNdqAaPBi8oVHgfsip3gUxVCyG50pnO/9mlO3oCbnrfGGGVMURcARyWEMmH41zpiifDjP\n",
       "ul5P2Q7VOFIOHCwcOez2B5VbW5TuDzjtsbr9HqMLxtvrPv0GWh6CcBFtyuEAAAAASUVORK5CYII=\n",
       "\" style=\"display:inline;vertical-align:middle;\" /></a> <a class=\"ProveItLink\" href=\"__pv_it/01782a64162758f358fff7cf6002cfe6185479110/proof.ipynb\" style=\"text-decoration: none\">&#x22A2;&nbsp;</a><a class=\"ProveItLink\" href=\"__pv_it/9b3e9c5d2db529547290e6ff92ceadd883b66ab80/expr.ipynb\"><img src=\"data:image/png;base64,iVBORw0KGgoAAAANSUhEUgAAAh0AAAAVBAMAAAAQgkGQAAAAMFBMVEX///9UVFQQEBCqqqoiIiJm\n",
       "ZmYyMjJERESYmJjc3NyIiIi6urp2dnbu7u7MzMwAAAADGpxCAAAAAXRSTlMAQObYZgAABFxJREFU\n",
       "WMPVWE1oE0EUfvnftNm0eFCqgh7FHyzixYM0RREKChFFRArGQwUpiHjRegpIxZwasYfqpbn00kIM\n",
       "4lFwC1YkeliLVvCSgOfSgFAopeLMm93szOzObsbiwQcb3s68772ZL2/ezgysg56sRzb8x5K34RMq\n",
       "cz0Yn8HfT3Kz52AuGKGUOdAECJItBzQmqvoYjMqAuQabjnmP6zbvFwKYu1+MVdV8UAeCE5RY6Oj8\n",
       "9hEAUb4Htg79BQajDvF8pIVxpIsBoIFhs6TmgzqgT+JE958iGkOoRLRnFJV65+OOr+WUDbCmielG\n",
       "XeP5mJamHgB6Z0NTzcc0e74s7zitTGuGDU6wd6TZMx2G/KeZBw8RPnI1HQwXFYEuH2Py1P3yHmBV\n",
       "zceY8xjd+aG2GjYj0Z7Jas98JP1La4aM2zysh+lGRaDDR7YgT90vEyTBGyo+qAN0IvGBCFVtKwTw\n",
       "EQYQZRYC+YBJPYwXddLjo4/mUXb8hrOYby1ecRNpsc3GPl7/RayLKj6oA3Qi8ZErqgcn2r8derlQ\n",
       "CweIsgDQv/xicX++eUDgY0UHw0dd8fjI0M/Q62q6wxbipt1iiTU7nGEF7nU1QwZulFw+crdRii4f\n",
       "1AE6kfgwQuqjaG89qJlb4QBRHpJRZB5BawlOCXw80cHwUZ94fCRJATWPQIp9ABM7MMCq0kWIYWml\n",
       "fQSSKKjygzqgj8xHohCymHn7/PAFyP4OB4hyDuBnsgTzFswIfJzWwAhRT3t8xMn6Se1AkrFApt6y\n",
       "UHEnR/tIS76j4oM6oI/MR76jHpxgb5rbYHTCAaIcA7BbDRixYZ/Ax4YGRoi6IfIRvwettrv9eIdp\n",
       "EXc3TLSv8U/5gEQHYiVNPmAE4CrAUR0+RAwfdUNcLyQlRpztRxlu4heXZQl0+/oLUv0YjFov/b2u\n",
       "F5qUA2U7FODLfbhGl3T/lsnz8UYHw0d9I9bT1jDsZZv4gQapFw4xgIni9Hn1VM6P3dfTOKHctvTq\n",
       "KRwHkvCp0nONeipi+KhcPaXfm0zNGM1Bi/TEypkiKqlB+NamCuuDlKXigzrAj1YfmV8L50Q1hqDv\n",
       "5iav4I9oP9+AD0YbAZ6JgJTeyOcxu00TPm1Z2ArwivIxrgb7MVxUBDp80Hwx99efLUHyEtFufARU\n",
       "4PPTGmvBPki3VXxQB/RJ7dm8zqCoMQS+j1Jl0FHgvC3bk2x99tgB0F4RgIr35gCIB7KJSVyvMsTl\n",
       "kxMk5e66/iVwIIaPejdwv35WrcDX6P16EIJ77x727GB7BkjYEWvlrLz39hBmQeEhBINREeg/z1lq\n",
       "pYfzXCCCe3clB8H2DJCLqh2WfDbzEOw8l9PC+M9zGZc4s6ZUIOy8Tx24TmSE6T9y/uCDcv0M8COC\n",
       "DgaYkv2hrEGwhzCM/7zfvZoxQKk444++D5IRhn9GZT4o188A5aijvu9ux0NMQbCHMAxGnXL4qPd8\n",
       "X1jB37rcXFffF1Z07wsru70vNP7mvrDSBfa1/wB6qtLmWCWUhAAAAABJRU5ErkJggg==\n",
       "\" style=\"display:inline;vertical-align:middle;\" /></a></span><br>\n",
       "<span style=\"font-size:20px;\"><a class=\"ProveItLink\" href=\"__pv_it/fd53680535e6fc902571d77e9d68c2412cb8e2890/expr.ipynb\"><img src=\"data:image/png;base64,iVBORw0KGgoAAAANSUhEUgAAAEUAAAAVBAMAAADiLT7tAAAAMFBMVEX///+IiIi6urrc3NxERETM\n",
       "zMwQEBCqqqpUVFQiIiJ2dnYyMjLu7u5mZmaYmJgAAABN0h6tAAAAAXRSTlMAQObYZgAAAQNJREFU\n",
       "KM9jYGDgu8eAE7BePACieHYx4AFMqSCS7wMO6bNXXIHkbRCTawJ2JTwNDOsVGBhW4lPDe4CBLYGA\n",
       "GrYJDByfCajh/sPA8RVJjVazoawApjLOPwwMy0AMjg0MDAtcBHg+gzXsBoMLEDX6CxgY3oMYZQEM\n",
       "rAWzGZi/YpozA2QlUH3IZKA3eT5hCyZesHGdQEeoBTAwsH8AW4kGZMFObwC5xwGoYwMD/4MDCPeA\n",
       "xBnYLzAYQ90D8hfbAob6AwvQjIliYBCG+gukxl6BYTVfAKoS5lmrbkxACh9NBgaL5+hh+P///wkE\n",
       "whkKIGoSCKvBmX4gAJx+GPCnwyQwxU4oPQMALV9MFsaJdEUAAAAASUVORK5CYII=\n",
       "\" style=\"display:inline;vertical-align:middle;\" /></a> <a class=\"ProveItLink\" href=\"__pv_it/a1de2e8d9f61cd09ae5108f97c2909465073971a0/proof.ipynb\" style=\"text-decoration: none\">&#x22A2;&nbsp;</a><a class=\"ProveItLink\" href=\"__pv_it/5f3554dea81aa31d9b907b62ead399b59b867f610/expr.ipynb\"><img src=\"data:image/png;base64,iVBORw0KGgoAAAANSUhEUgAAAQQAAAAVBAMAAABS242zAAAAMFBMVEX///9UVFQQEBCqqqoiIiJm\n",
       "ZmYyMjJERESYmJjc3NyIiIi6urp2dnbu7u7MzMwAAAADGpxCAAAAAXRSTlMAQObYZgAAAtFJREFU\n",
       "SMetlj1oFEEUx996ua/sTjgsJEmVQhBB4Yo0FpIT0pwgpIoiAc8iNsFoY5FUV3hBG71G0CpBsAkS\n",
       "DknvpTgL01yCRrjmDqwsQoSDEI0R35u5nX27ezPcgQsz+/Wf9//tzOy8gUOwHNGXY03478ch7Mrz\n",
       "68jzRFWediOPvZpWR1pcs/v0i689pIt4zF5/u4jVhAWB1FQc1sqp2giiahV/giOkQgEWsRxYEEhN\n",
       "xSn3PukqmpRsCFytjgPmIV0qoQZdMtswI1TCLfZ2zrD+bEOoxJ5QfN9DuhT5W5ciiikzQjHSIkMN\n",
       "9m0IxfjQTAUe5JIthHzk3ZIRgdShFhIhVTMThOOrYynwIJfROaxeNd6qXy41+S4P0DAikJpK6y5H\n",
       "8ObMCFzt7rzZpMsGaA9ySeNMcS/DIyVqPxS/ANY0wqcHdCxqBFJTqX/gCBnLfORqL70K7aqKvxYg\n",
       "jOBX75fhthLNNOE3wLSxF0iNJZuf5wiJghmBq7+PlGC9o+JPBwjnMPK9JtxUonkQfwCOjAikxiII\n",
       "NEAY+2lG4OpmuwYvQcU/CiNcAvHXXxbc7gAIkDgbAiFQzwBciCNgR+GHJ3pBTiCJ8u3IXLgfHQhI\n",
       "5ziCax+IQI0DciJU/O3QdBRdcEpqoT+lecGmY7QX/OnYzteHmI5afQU7xItNR/qhVuFpri6O8W4c\n",
       "nmC9YEQgNZWP2bLUwyghJMmhjRzyGV0Ed1ydPQWv9ELFXwgQqBP3Nn9M1mAWl4av72k1XzYikJqK\n",
       "8wykPnn++A6uJh3q8VtY3aCLnF+RgqvxOjueV/GX+y3QCX9DIAoDLdBaD19kfT02CFIRU8v4vkc4\n",
       "TXk8jQyQprS+l6bq8XwE/dTxNJX2k3WLJ1MTAql7LbReJWuxEUNosfgtS7LWWxad01cG2LJwvTLJ\n",
       "xP+GMovPdgwrzGOr78Yqo7C3ovmmY9q4PR9u40bxfY9/SoYGsOCtjyMAAAAASUVORK5CYII=\n",
       "\" style=\"display:inline;vertical-align:middle;\" /></a></span><br>\n",
       "<span style=\"font-size:20px;\"><a class=\"ProveItLink\" href=\"__pv_it/fd53680535e6fc902571d77e9d68c2412cb8e2890/expr.ipynb\"><img src=\"data:image/png;base64,iVBORw0KGgoAAAANSUhEUgAAAEUAAAAVBAMAAADiLT7tAAAAMFBMVEX///+IiIi6urrc3NxERETM\n",
       "zMwQEBCqqqpUVFQiIiJ2dnYyMjLu7u5mZmaYmJgAAABN0h6tAAAAAXRSTlMAQObYZgAAAQNJREFU\n",
       "KM9jYGDgu8eAE7BePACieHYx4AFMqSCS7wMO6bNXXIHkbRCTawJ2JTwNDOsVGBhW4lPDe4CBLYGA\n",
       "GrYJDByfCajh/sPA8RVJjVazoawApjLOPwwMy0AMjg0MDAtcBHg+gzXsBoMLEDX6CxgY3oMYZQEM\n",
       "rAWzGZi/YpozA2QlUH3IZKA3eT5hCyZesHGdQEeoBTAwsH8AW4kGZMFObwC5xwGoYwMD/4MDCPeA\n",
       "xBnYLzAYQ90D8hfbAob6AwvQjIliYBCG+gukxl6BYTVfAKoS5lmrbkxACh9NBgaL5+hh+P///wkE\n",
       "whkKIGoSCKvBmX4gAJx+GPCnwyQwxU4oPQMALV9MFsaJdEUAAAAASUVORK5CYII=\n",
       "\" style=\"display:inline;vertical-align:middle;\" /></a> <a class=\"ProveItLink\" href=\"__pv_it/49b1863a31ab8170c9f7f04c441031a4a9eb043f0/proof.ipynb\" style=\"text-decoration: none\">&#x22A2;&nbsp;</a><a class=\"ProveItLink\" href=\"__pv_it/6f1935b6c453076168e9d4422601bde906e5217d0/expr.ipynb\"><img src=\"data:image/png;base64,iVBORw0KGgoAAAANSUhEUgAAAQQAAAAVBAMAAABS242zAAAAMFBMVEX///9UVFQQEBCqqqoiIiJm\n",
       "ZmYyMjJERESYmJjc3NyIiIi6urp2dnbu7u7MzMwAAAADGpxCAAAAAXRSTlMAQObYZgAAAr5JREFU\n",
       "SMetljFoU0EYx/8xSfPSvFeLQlEnNx0UMrg4iCm6ZBDiIiJF41AXQYqDoFOWiHXQuNXJzBVCKO5N\n",
       "QUXaJRZxyJKAc1EQSlEDft/dvffu3eWeKXjwf3lJft+9X95d3h32kNLML+f6+O9tDzvidc384qI4\n",
       "7hif+t2IXpvEO5vZf7YlI64hrhKsJH/sw1qm5VZgmpPRqiTvaiYNnFSJFGaMDo6Wg7pbgWlOpqF+\n",
       "0nm6SD1NQadl+6oSKTSNks0+tt0KzWTF560xHbfTFJrWJ35bJlKoGsB7YNetUDUqPFbYTVOo2kNz\n",
       "WiZUKFYMYJnuXdelwHSiQijMdN0GVv/U7qsohdkad7/eUQVLnZ/0tuZSYJozuKUrCN7RdLq09Xqd\n",
       "Tz+oKIUCzZTiFTyS0EarQH169VDh4z1uy5EC05zehq7gpcxHnfYLTzCk2fkUMkohV6b0cFyO0lnk\n",
       "qbtsxXUXBF1GsXxDV8hW3Ao6/S1Xx5sRcAEySuEI9XwnfPDlx6yDuR8uBaYpAX7pCoJ3NJ3uD7t4\n",
       "Sa/fVTSFMxG/AqL+rYDs+BAKMX0ZWLAV6EYFf0J+2GMKpUpyLtw1BwKFeV2hlD4QMU0DchAA7yCj\n",
       "TccDEpUKZSzQ4zuejuZdCKfjsNw7xHSM6HN0Q3xrOvIf6jqC28E+821vkZB8z6XANGez2BAFmGUF\n",
       "wQ/JQ3zGJ/E7nS7+hl9/ASxBRinwTfQ/PQeu0pwMTnVevaVHzcilwDQn80wW5I/t31R87hodFvlk\n",
       "PjwwodN0XjxBA/MAMuYDOhvvB75M9YCOCwSPS9YgCMKiEVRkrGXKj0unW6b8JI+evR5hEm0vUwW1\n",
       "WA9iy5TFmmlVMUjyQdtSGGj9D1IW63DLEi/phSm2LHqB5D3739DQ+td2DI9V+BqdyRu3VXHsmOvN\n",
       "yLVxWz3cxs1ryfA1/gIjbwBjxbbzigAAAABJRU5ErkJggg==\n",
       "\" style=\"display:inline;vertical-align:middle;\" /></a></span><br>\n",
       "<span style=\"font-size:20px;\"> <a class=\"ProveItLink\" href=\"../packages/proveit/number/numeral/deci/_proofs_/add_1_1.ipynb\" style=\"text-decoration: none\">&#x22A2;&nbsp;</a><a class=\"ProveItLink\" href=\"../packages/proveit/number/numeral/deci/__pv_it/7dc538239d56604f657f3b9a5934abd18d6c4d6e0/expr.ipynb\"><img src=\"data:image/png;base64,iVBORw0KGgoAAAANSUhEUgAAAGEAAAAUBAMAAABvx07iAAAAMFBMVEX////MzMxUVFR2dna6uroQ\n",
       "EBCqqqqIiIgiIiJmZmYyMjJERETu7u6YmJjc3NwAAACgK8IjAAAAAXRSTlMAQObYZgAAAR1JREFU\n",
       "KM9jYOC7wIAd5OEQZziNS4LpAboIz8zdAkBqHRCnHkCTY4sByi9A13GIgfkLAwPvBAYeZX2YjnSo\n",
       "lNEfIGmOrmMOA0MoAwMHyO77aDoYeEE6jqLriGBg0H/A8IIBpw4uBzQd6w8w6AswVOLWwTwBMzj6\n",
       "DzDsxa2DF+x15lVgANHN8pmBoQ23DrYGDCs4FBgYQhA6rFatal21ahFcB+MHDB0zGVB0oNuBqYMd\n",
       "5DY8rmJpQPKHAoidycD3gLDPkQCjAQP7AwZLELMeXQc7SAenAZqOF8aWGgwMHkDWpPiVF1B0cKr+\n",
       "mguMQQH0GPz//wc0lcBBOjLnBPY0zYsSsWeQOeY4ssE+XPkDM7UTylHcD3BI4My197ALAwB2n2Bd\n",
       "eOkMSgAAAABJRU5ErkJggg==\n",
       "\" style=\"display:inline;vertical-align:middle;\" /></a></span><br>\n",
       "<span style=\"font-size:20px;\"><a class=\"ProveItLink\" href=\"__pv_it/fd53680535e6fc902571d77e9d68c2412cb8e2890/expr.ipynb\"><img src=\"data:image/png;base64,iVBORw0KGgoAAAANSUhEUgAAAEUAAAAVBAMAAADiLT7tAAAAMFBMVEX///+IiIi6urrc3NxERETM\n",
       "zMwQEBCqqqpUVFQiIiJ2dnYyMjLu7u5mZmaYmJgAAABN0h6tAAAAAXRSTlMAQObYZgAAAQNJREFU\n",
       "KM9jYGDgu8eAE7BePACieHYx4AFMqSCS7wMO6bNXXIHkbRCTawJ2JTwNDOsVGBhW4lPDe4CBLYGA\n",
       "GrYJDByfCajh/sPA8RVJjVazoawApjLOPwwMy0AMjg0MDAtcBHg+gzXsBoMLEDX6CxgY3oMYZQEM\n",
       "rAWzGZi/YpozA2QlUH3IZKA3eT5hCyZesHGdQEeoBTAwsH8AW4kGZMFObwC5xwGoYwMD/4MDCPeA\n",
       "xBnYLzAYQ90D8hfbAob6AwvQjIliYBCG+gukxl6BYTVfAKoS5lmrbkxACh9NBgaL5+hh+P///wkE\n",
       "whkKIGoSCKvBmX4gAJx+GPCnwyQwxU4oPQMALV9MFsaJdEUAAAAASUVORK5CYII=\n",
       "\" style=\"display:inline;vertical-align:middle;\" /></a> <a class=\"ProveItLink\" href=\"__pv_it/0509731af8654e8f5dbd01a265a5f09ed85ae2a50/proof.ipynb\" style=\"text-decoration: none\">&#x22A2;&nbsp;</a><a class=\"ProveItLink\" href=\"__pv_it/2d8ff373c2b68586662b05dc97b0904521c346160/expr.ipynb\"><img src=\"data:image/png;base64,iVBORw0KGgoAAAANSUhEUgAAAJsAAAAUBAMAAABoqVKyAAAAMFBMVEX////MzMxUVFR2dna6uroQ\n",
       "EBCqqqqIiIgiIiJmZmYyMjJERETu7u6YmJjc3NwAAACgK8IjAAAAAXRSTlMAQObYZgAAAblJREFU\n",
       "OMudlL1Lw0AYxh8TG5p6qQX/AAvuNeAgulhwcbNDd10EB9GuXTQoFBGHUkeXCC46CM5SySJ+dDCT\n",
       "g4MWF520gpOU1sslprlL+qEP5Hi5/PLk3vfuXiBpg5dSR0ghKErrzlALztwengOZMFkbwA2Ss44z\n",
       "+qxY7gRJYy6LuzAZhLqKmIBWBpmY9EjVQiwHuSCCHNRd00DcWeGzR8YMSC2QnMhxUHddAW8IkIkm\n",
       "pE/gWOQ4qLsSWRQFMt4EZkSu2MduPvNapBWSy6gK5KIOPDqBfMpUduJqHzv9okBatMQmSgK5TZ9V\n",
       "ES/1thta3kOSFkkxkOdJ1VnNuMjne9sR8gWtQW0bIsmq9Fc7KA1IJrPj81DKeAcWArVLD5AsVBOj\n",
       "toVhQ6jyGLDpbUVQ/bYipmPD0p2tYIdiywL5dm76zlTFAA5EnIPYcG8GAnxkMauloOosscrSiY1d\n",
       "+vNEu92mdkeiHQexzY+nf4N99/3LA/085d4fVjY/F2JEXjIe8rXWCW/Y7XYl+7ORLUCEOkeYawG4\n",
       "9OJrfzaiQYUhP5UC16D8zmiHvo1on+GmrHXCkXpU39b+29yfgB8DNJa+K4uGqQAAAABJRU5ErkJg\n",
       "gg==\n",
       "\" style=\"display:inline;vertical-align:middle;\" /></a></span><br>\n",
       "<span style=\"font-size:20px;\"><a class=\"ProveItLink\" href=\"__pv_it/2dac503bfb8fe2dffc895cfe247b865a3aa79d0e0/expr.ipynb\"><img src=\"data:image/png;base64,iVBORw0KGgoAAAANSUhEUgAAAEoAAAAVBAMAAAATJmVgAAAAMFBMVEX///+IiIi6urrc3NxERETM\n",
       "zMwQEBCqqqpUVFQiIiJ2dnYyMjLu7u5mZmaYmJgAAABN0h6tAAAAAXRSTlMAQObYZgAAARRJREFU\n",
       "KM9jYGDgu8eAD8TKgEieXQz4gVoAkOD7gFOe564LUAXvBiCTawJOVScYuD5BFeBRdYeBIY2wqkwG\n",
       "hn4Dgqr2H2DoD0CoYlphLNjIurAJU+H8AwxcCUCaA+gFLhZHhvNCDGUgca7dYHABrIjpFzQQyoCe\n",
       "DefcwGC/gOE9hlGcDUBiLwNDyGQgfeC8AkP9AYYWDFV3QQTHRGjQ1jMw3GRgSERXxAi2dwdIpQOQ\n",
       "uM3AMIuB6TMPwl0gqxhqGZgNIO4CezSLgecTMCrMUY1iXcDAaADxI0gV8ycG9g8M3AsWoKqyXLW2\n",
       "EynsmSaAnMB+zwAtVP///0k4hiAAoiqBGFV40hcEgNMXA8G0qgAi2QmnewDc9k/6zks5YwAAAABJ\n",
       "RU5ErkJggg==\n",
       "\" style=\"display:inline;vertical-align:middle;\" /></a> <a class=\"ProveItLink\" href=\"__pv_it/a165f7199584fbb3ee549cf55afdb9fffd65d9db0/proof.ipynb\" style=\"text-decoration: none\">&#x22A2;&nbsp;</a><a class=\"ProveItLink\" href=\"__pv_it/36e2b00786746a86183fffe8b64b7a5e92232f220/expr.ipynb\"><img src=\"data:image/png;base64,iVBORw0KGgoAAAANSUhEUgAAAKEAAAAUBAMAAAAXeEBDAAAAMFBMVEX////MzMxUVFR2dna6uroQ\n",
       "EBCqqqqIiIgiIiJmZmYyMjJERETu7u6YmJjc3NwAAACgK8IjAAAAAXRSTlMAQObYZgAAActJREFU\n",
       "OMullbFLw0AUxj8bG9J6LUL/AAvuNeAgTgZcurVDd7sIumjo1kWDQhGnUDddKrroIDpLpYtU7dDO\n",
       "DtpNJ60oCFKsl2tIc5eYVvwg4fr43ce79y6vQLwFXnIbHnmgX7RmvRruyO3BBZDyko3RDBGysjmj\n",
       "z3KtHyBJLGi485JuKEikAsRMkOkZG47UEM5C0kWQgwI1ByhWno82HDYQ+gbJihwHBeoaeIYLjnYR\n",
       "egOORY6DAhXVUBRgpQvMi1xxiONi6qmgJwoaIJmoCnBGBe6thXTKZFrr6hBH9VInn5pMqxWroCTA\n",
       "W/RZEXeUgh3H8ruIvyPWoZfZQI6HI1ZOU+KWXLAjIR+QaQvOqXlHhFnF/uoIuYOIgbDOHPkDySZe\n",
       "gLSrjskRTo1IBYqKTLuGcUMoegLYsDvj1rDOhFU0NezH81Zn2E3ZrIF8WQNhe7ZsAHviDg5ir2YF\n",
       "rl+vGtaBI4lmq7ITlpdOWtihKUR7vR51PBQdOYhdByVpL1gozRqw+kAdJvsfGCuhcyhi+H6FPDTo\n",
       "Che6YUOgL8mJ+k4KERrQ4qTAlb2uO1GfaeaFHNXFaeYM05Znu8/E9RnlXGii7TfwY//4V6C9+QH7\n",
       "TZ2pf5nv8AAAAABJRU5ErkJggg==\n",
       "\" style=\"display:inline;vertical-align:middle;\" /></a></span>"
      ],
      "text/plain": [
       "<proveit.magics.HTML_DisplayObjects at 0x7fb87003dc88>"
      ]
     },
     "execution_count": 83,
     "metadata": {},
     "output_type": "execute_result"
    }
   ],
   "source": [
    "# remove duplicate requirements using an OrderedDict\n",
    "from collections import OrderedDict\n",
    "requirements = list(OrderedDict.fromkeys(requirements))\n",
    "requirements"
   ]
  },
  {
   "cell_type": "markdown",
   "metadata": {},
   "source": [
    "Let's do one more example to test this capability"
   ]
  },
  {
   "cell_type": "code",
   "execution_count": 84,
   "metadata": {},
   "outputs": [
    {
     "data": {
      "text/html": [
       "<strong id=\"double_nested_operands\">double_nested_operands:</strong> <a class=\"ProveItLink\" href=\"__pv_it/472f77a2d7bc66a627dd533ad7b776c4ce1d93810/expr.ipynb\"><img src=\"data:image/png;base64,iVBORw0KGgoAAAANSUhEUgAAAfkAAAAVBAMAAAC3aYqaAAAAMFBMVEX////MzMxUVFR2dna6uroQ\n",
       "EBCqqqqIiIgiIiJmZmYyMjJERETu7u6YmJjc3NwAAACgK8IjAAAAAXRSTlMAQObYZgAAA4BJREFU\n",
       "WMPlWEtoE0EY/rZJ82h2N3upIj0YKRIQrUsvRakYlGpB0FbFk494EDyUNrSHGCy0iFQpgsUerEIh\n",
       "Vy/Sm4f6GCpSwUNTEFFEG0RQ8ZFUikKJ4kw2u9lH1t0tuZT+h92Zf77/8e28dgYQc9iY0s8eLzYo\n",
       "eTTk6eP+uqZwgVTLgdOeTPksIEysY+586+4q+7n2kjfrDiCUX9d9v6Tre8Ej+2fAZ2xY9k0JZOhr\n",
       "fvDjUMoF3C2uLmZ8uu1wR73Y+9t/pG9rtYNtnzI0Id8EHtE4snAtlAU3U25qsc/HgHNPQzEzimMw\n",
       "PMXr1LhZ2bJG9r7IAyxoc1yeTfF/KT6LMdpEfCV/nrszylq2TNm70OPci2JmIu8YDJ3YT46adFa8\n",
       "wp53Yr+Jfv6CVEFyyXGIy3SPGMVJpomwnvArrLrtO9GAc9/3iplpKDoFA8GsVdldm/1C1oE9WUhg\n",
       "SUXy/AqEIv0KRcYeiKZcJWTAeZBoag3sgd+u2YdiTqveALBDQwaKaMiW2Y8x3VbJXUI63JvFtOs/\n",
       "BWYmTG/OBAclD+y55UqY9DYje+bK65p/F/jDq5VwFtEcYTnQVS9ARhAkzgkZcC/P4Kw77oqZ0JVr\n",
       "3BmMuWffFyximIU5TgZN7KmrvEf2JxAo+dRKo4wBIrNVbw9wLPkE3/UJ8avqXCpPE7Wmx4nzoyiZ\n",
       "2ssFY61q9u0SoomwbGVvY+X/FSmKORZmBZNG9swVqcz1ER37YKlW1uWHuAJfdlEFFhLYK0ig2VB/\n",
       "c+n56ZyhO66TygwpP66wwg0TriHl71HUSrsKNNZ0ZnE0I5TEkVkqxBzMasXHhzPvWBiuh85OP7N6\n",
       "qI6VOLoqoW+du6cdUcPbV6cVbdVRrOKNhhN3JXXf8MMr+rcj6f50dQkFiHUgmhasRiksS3q1zfjV\n",
       "Sr24jALnNVijFJwRi5Jx1evFJGcXus+VqizP9accuv2J9PNeZFu0FSrDiCsgdEjSq2uL1i4WaZe9\n",
       "9XkNVqC9L8xodYr/Sqirq+ftQsuuVOopB4/V9KZ+prhT+HIzTv9NrZu2tmlVcAcQ3KdX2+z1Wrs/\n",
       "Rs/SHzo9BqNhmvJiqzo6GL45SV0N5WxC19Da5chOuMbbjYDysl73CKZ1vLbayaymk5w3KyT/BxLc\n",
       "5xBhc95ws9Xv5VaoLldLniVQryP5e4vG7R1fXe4C1+ZEQP3kH1ImQD2lPYGjAAAAAElFTkSuQmCC\n",
       "\" style=\"display:inline;vertical-align:middle;\" /></a><br>"
      ],
      "text/plain": [
       "double_nested_operands: (x_{1,1}, ..x_{1,_b}.., x_{1,n}, ....x_{_a,1}, ..x_{_a,_b}.., x_{_a,n}...., x_{m - 1,1}, ..x_{m - 1,_b}.., x_{m - 1,n}, 1 * 1, ..k * k.., n * n)"
      ]
     },
     "execution_count": 84,
     "metadata": {},
     "output_type": "execute_result"
    }
   ],
   "source": [
    "double_nested_operands = ExprTuple(varRange(x, (one, one), (subtract(m, one), n)),\n",
    "                                   ExprRange(k, Mult(k, k), one, n))"
   ]
  },
  {
   "cell_type": "code",
   "execution_count": 85,
   "metadata": {},
   "outputs": [
    {
     "data": {
      "text/html": [
       "<strong id=\"defaults.assumptions\">defaults.assumptions:</strong> <a class=\"ProveItLink\" href=\"__pv_it/6a06d1bed302ff8c53dbbc30f0597d23c26439390/expr.ipynb\"><img src=\"data:image/png;base64,iVBORw0KGgoAAAANSUhEUgAAAJQAAAAbBAMAAABo9LvqAAAAMFBMVEX///8iIiJERESYmJiqqqoQ\n",
       "EBB2dnbc3NyIiIhmZmbu7u4yMjJUVFS6urrMzMwAAADZVrDbAAAAAXRSTlMAQObYZgAAAgdJREFU\n",
       "OMutlT9I43AUx78xaWN/bUMdtSBVFzlvcDlukTOrgpjJxaUI4nKCuOjWLAcKDo7HuWS/oR28g7MO\n",
       "/oMOYomLgwhWECeF4uEfCorvl7ahSZOmQx7kkdf34ft7v/f7vQYI0x6CgEQXIjp3ykEQ1tOF1BV3\n",
       "cSMMqeg4uZ8IQwoDgFzzyf1+HDOw+GR2lrKpTaps248aoS6yKk6Lf4rFcQRQyAER1Q86rGwAWtAG\n",
       "m5SgIufuujjUl7Zezj4lKkj5SLVRsQy+uBhltKldumd7flLtVK+GHQovSutb+t2WafXRrrIk6fdO\n",
       "qeT3tY36gbdTyRqGKcwO6+zVlDQrZa9cwrKoO6SiPaPIr3hTyjv2yatpyM8QqzyVaYESRplLyc1f\n",
       "boUCchVvSn5DP8DYG6QaEjyvzBfJGhA7iGutHTLyJibhTZHGPwqlKmIpRPhIyq3r4U5xSGEWOIU3\n",
       "RVV9pjBWgJDF9QrvpdYKiWrGIUVn9J/Bk1JecERhJAsqfUdWHSNZpmfJKTVHjYjCk6IT/EGvOZOX\n",
       "/teCBPv279brbVi+YG0iWvjmTYkarmlX5+DTOPWVp9jRZZ25eaK1mC0l0OgnU5CPVW+KbnvEdF3k\n",
       "5EJjJFw23ZmK64hlu/zfDuDyBlzH7WtM75yfoOekOykxID/IJzOUz5bI9y9thyG1avmZMKR+hfpp\n",
       "/gCgRp6i/WozFwAAAABJRU5ErkJggg==\n",
       "\" style=\"display:inline;vertical-align:middle;\" /></a><br>"
      ],
      "text/plain": [
       "defaults.assumptions: (m in NaturalsPos, n in Naturals)"
      ]
     },
     "execution_count": 85,
     "metadata": {},
     "output_type": "execute_result"
    }
   ],
   "source": [
    "defaults.assumptions = [InSet(m, NaturalsPos), InSet(n, Naturals)]"
   ]
  },
  {
   "cell_type": "code",
   "execution_count": 86,
   "metadata": {},
   "outputs": [
    {
     "data": {
      "text/html": [
       "<span style=\"font-size:20px;\"><a class=\"ProveItLink\" href=\"__pv_it/d7a80b78a449f11be17ef04144e9388dfc2578bc0/expr.ipynb\"><img src=\"data:image/png;base64,iVBORw0KGgoAAAANSUhEUgAAAF0AAAAbBAMAAADsXp6BAAAAMFBMVEX///+YmJiqqqpmZmYyMjJE\n",
       "RETu7u5UVFQiIiJ2dnbMzMy6uroQEBCIiIjc3NwAAACK8CUvAAAAAXRSTlMAQObYZgAAAYFJREFU\n",
       "OMtjYCAZ8N0lqIQdRHBZQzh3NhBUzwom091AJPcvBiLVM7iCCN4PRKufAyI4D+BSlfI1JIFhzp8N\n",
       "xKpnCOQqYGD7wFDi4uPiIkCE+ooFwKA7QNg9oh0dDiC6Oox9AUMDQfVLr0EZdcvZ3LCr31n39vqF\n",
       "ldfBMcHmBtNYx3RhObL6+yCCowBITAi9wPZ3AxPYKvYHcPUMsxkvIKlfvwBoWikoqhVaGPh+MjB+\n",
       "QApssHr2hCqQej4In7GbgWHHApAT2H4zMH1jYA8Aia5xAQIHiHq2AhZk77EaMHB7ghhMHxiYGxh4\n",
       "LoDYT5HMZ1jJhaSeyxdI5EwAEswODBwTGPY/SACyeZDVMyoEINS/VwApBTmQZwJD/gYGEz6wwAWY\n",
       "fBUQz0NSfx8enu83MOgzMHhygoWbYPJOEJvhABH+OxgYLjMwKMtB0nl0Aphe8QdoNhtW9ahgZ0SH\n",
       "A7b0RCi9UUf9B9LUA+OVWBACJksSiFTOew5McRcSp5yrNoH0wg0Alg5oCO9SXqgAAAAASUVORK5C\n",
       "YII=\n",
       "\" style=\"display:inline;vertical-align:middle;\" /></a> <a class=\"ProveItLink\" href=\"__pv_it/0e1ca80abb8e61bf5023f0a393adc2f1a16614ac0/proof.ipynb\" style=\"text-decoration: none\">&#x22A2;&nbsp;</a><a class=\"ProveItLink\" href=\"__pv_it/0dbf41aa70edcf9b89200181e8f9b6f7bfd4df760/expr.ipynb\"><img src=\"data:image/png;base64,iVBORw0KGgoAAAANSUhEUgAAAQ0AAAAUBAMAAABlknXcAAAAMFBMVEX////MzMxUVFR2dna6uroQ\n",
       "EBCqqqqIiIgiIiJmZmYyMjJERETu7u6YmJjc3NwAAACgK8IjAAAAAXRSTlMAQObYZgAAAkRJREFU\n",
       "SMe1lkFIG0EUhv+YZN0kk0UQei7Y0kOhLl5ETwteelOw0ItgLh4KRRcpFE8GhVJKkeBJBGGxJz2U\n",
       "3jxIy1IoCh6Say/qqe3FGlAQJIhvlo1mdmZ3NiUd2GXzZv5/v7yZfTOA1UCqNq+InaEnLbA+Sjm4\n",
       "71QKsS+94QisP9M15+sHM08KFUlvzHT7VlnBrcs1sKHhFBwYlSI/ge8jrS4xVAqyNnlOTtJw/JAi\n",
       "a3SVu+VQKcj6D9JyFJ1IwKr2ioOslzQcE89+L7qDi8SQrUW6+mvJHLmRv2+fZEYfxXEI1l81HPa+\n",
       "y64cY4r0wUId3+Vthz+WGskc2dIe6m8wF8chWL9L5shUPsC6QLlJ67wa6TMryRwPTA/nNk5iOETr\n",
       "F8kcjF3CaKGPKkWmGenLO8kcft3Bgo+n3CbI4u5AJ4doreGA0UShirz7DxxYADaAl3HzIlhr5gUF\n",
       "D6aNyVMfuer9+thOMy/YBFaRu2ExHIK1bp3mbVB6N61KuE47mm6dYhqU+oL3K4ZDsB7jkWUf7JpP\n",
       "Gb/VvfAW/Dp3eHo/ZQnfjn4P/Lvtb0UVdw/WJU990Y7o7hSC9XMKrM/uNPCe52SFp/th+8ZD1E8l\n",
       "5tUxFZuBaH2giSo8vt6C+bGtWOmUUj+VGGNL3CDvFYK12R5lyHMjhg6VdT1orzVSuYmKw2CfC7Os\n",
       "KET6fS6sSBqpojxK1t/C5wN58IFm3y+FuWRuslRRllzJun0OUhzLGqqXKs5BZY1UsdfJ/yftufD4\n",
       "/50LyfoWOXbRQ79/oGYAAAAASUVORK5CYII=\n",
       "\" style=\"display:inline;vertical-align:middle;\" /></a></span>"
      ],
      "text/plain": [
       "{m in NaturalsPos} |- (1, ..a.., m) = (1, ..a.., m - 1, m)"
      ]
     },
     "execution_count": 86,
     "metadata": {},
     "output_type": "execute_result"
    }
   ],
   "source": [
    "ExprRange(k, k, one, m).partition(subtract(m, one))"
   ]
  },
  {
   "cell_type": "code",
   "execution_count": 87,
   "metadata": {},
   "outputs": [
    {
     "data": {
      "text/html": [
       "<a class=\"ProveItLink\" href=\"__pv_it/b6321e13e16a002b2ccd701d7b4b7ac2e8e5a5e60/expr.ipynb\"><img src=\"data:image/png;base64,iVBORw0KGgoAAAANSUhEUgAABFkAAAAWBAMAAADp8l6nAAAAMFBMVEX////MzMxUVFR2dna6uroQ\n",
       "EBCqqqqIiIgiIiJmZmYyMjJERETu7u6YmJjc3NwAAACgK8IjAAAAAXRSTlMAQObYZgAABzVJREFU\n",
       "aN7lWltoXEUY/veSvSRntwuiIj4kUiWgGJe+LC2KoVLNk41WFMRLfCitIO2SCjFQ6BK1Qh9qsA/W\n",
       "QmCrPug+lL750DYelNDSCt2CiCnYLiJa0ZqtFgslFudyLjPn/HM5xyqKA5M2k9nv+7///3bmXAag\n",
       "2gX7tsM44zIkajuSTWfwl28moNcKPdMMmidtrswQdjFftokEg7DTkKZ+DJlFeSaJrqwpIOdoskRl\n",
       "k6WYwuspsilrNmaacMaYq7G0bpFiNmfwjApiLM0nreo35lMcIX2rK/joOR1Y28A22IvAmaJrJ8or\n",
       "hR9U+oGGLgEmCOS0acIRr+ONMp1O6xYpZlSeJASrGIOw0mBRPzw7lKIyD87aB0Luz9at6tAa7Oc2\n",
       "5C98bBlkOGNTAyrgWUcbD70RFiFJILkmS3wT8SAbI3liHS83Y8o109qlEZGIwvsNr1jDUoOhLWuy\n",
       "QyhK1EwXxWC0blkyuGU/ROBMbSmRW/b7FGhjoS8JAwkCcSb1maZ5Kql3OcrEIdK0pWgGMXi/4RVb\n",
       "stRgaPs12SEUlyCRWwbHtW6ptpK6RQ2ogOcUardwwMRugQ/1mb7kdY1bOESaJiQBlycKwSvGICw0\n",
       "GC6DW5rsEIpZnVtOTn+3S+bOzWvdUpyPwD0y9sNsU4OnAVTA005Qp5u3TI9jbsnNo0l2ZsYea+gI\n",
       "1uszPct7ft0vM6OZxt1oOdcrZBu5hSTg8sQC4RVjEGYNsfjlSD32cITOf9dDJhQnNG5x6pW3SvJl\n",
       "aKWtdctQNwJXP9Z0bmjwNIAKeNop6rXxwiTmlkobTfLn8HVzn47gvD7TJ3jPDX0CZ1+FrahbzuOy\n",
       "zdxCEnB5YoHwijEIs4ZY/HKkPnswwub3ODKh2BtyO6Jb6EjOza3me5Dhd1V3MtqW1i2lqRCO/shM\n",
       "7YPqFRzP09FK4BYKTzpD/Q0qfcwtHNCFiK4H4WH38Sgok+TFs12f6b2830bcvlKHi6hbtvtssmwd\n",
       "dywJUXkxIYqKMQizBjF+JFKfPRhh82scmVA8FXKfbYduca4zuCGSyMx7TMsdB1lm+7Ch03mz03lf\n",
       "isYfGxgP4DiCc5WrjuN5TQEISnjSKWphFbK0yk6HtVoQeiagk3S5cCwG60ni8QxDrtP56NlOZ0Ta\n",
       "I/wxmifS3bPjsNOF+9htJWM+HDIN+2yybA13PAlReTEhioox2WYNYvxIpB57OELnX/SkEQqBuzQi\n",
       "rC1z7Oca6sk8r+4E+EGp1xbBLRyh0IdsG8cLEmW/tnhuoajlFgw0sbWFA85BVBdci4NO8L3Zc4v2\n",
       "e+m5BXYCkDo/g64twwFbRLaaO5aEqLy4ELxinluMGoT4kUg9dmGEzL83dMte7T3RcC3ilrz9TsRa\n",
       "uQ1rui6KB6AHVO9EFLVUh809F3GLiC7qylzRu2XCaieCQwCvQ/6Gg7llQiVbzR1LAi5PFIJXjEFY\n",
       "aIjGL0fqsQsjZP4fDkcmFLqr3IK7B4qu5JakV7kDdbLw1TG85XMz82mvcgkqWSEPVafsr3JfKfZh\n",
       "NyOduQt1i91VLmwBslKX29/rr3Il2RruysLts/Gr3Li8m3aVG4tfjtRjF0a2kE0xF1zlspuuPQJ3\n",
       "MXTL5qlP6Vsm0S3leqCLbXvXgy1vW3grKMCtjMOGSg3D+/J5eEEByLZj+bcQnnaCSlbID3KRnLDQ\n",
       "y/VwIAwk//tQv9qlpE+606hbDgRZDVi5MJ7p9bxXr9KVerBej1AzpgO4bA13ZVN3oCclAZcnFgiv\n",
       "GIMwa4jFL0Xqs4cjZH6ufY4jEwoa9Dsvfhy8nCzfc30heKY8c3KhK7tlsBaumSP+3jYXjLGpIhz5\n",
       "0LdfYXjVky1YVQCy/8i/hfC0T7BnBy9fkCvGQx8MpIuBOKO7Z79hpFeFoopuORxmdU5Sx8cmeCdz\n",
       "i/NQWIg8FeVMhwGVreH++TVY40pJQOWJGVVUjEGYNcTilyL12cMRMlC9f4ojEwqLp8GiW07ZPPm3\n",
       "wss285NawORP/iGMUNGyzcwk2b7zx0g7LrnFaf2lJ/8QQCTjHoVNkSQYM4hHccpSQ8on/y1OYfGm\n",
       "SXQLfyT5BTLrC91bKQRvoFau13SAKvhlmzd0ijZQKx6t9mvI2sLfyDnIqwI+pn2rKLx6S8j9BBzI\n",
       "yEkwZhCPomGpwdAMbxVh0YhQIKvRcf6AxnjAYMhsXw9vBUqP1pKeWKDwego94Ar5hleOBps2kfST\n",
       "yx9sGd/2LxpzZYDAuKt9eOMlOWZzBhdVsk+n+aRV/fwTC+YTMtWDvzYzT8OPb49aSLE4DeXhbYTi\n",
       "Q3buisDrKfSAG2GwV13rf/mopFunaDwWiTSfhjJAYNz5EdjVlWNOdxqKQSym+aRV/RZ9CruTlgX+\n",
       "zwXjRMuTlh6eBWAcXkuRFBD4bWrF6FrjSctKD9JxR2JOddLygrWGNPVjyAkym/K46z+Gl7qlP037\n",
       "3+b+W1v3X46XulX+p9yp2p+W2Y4sm2PmNAAAAABJRU5ErkJggg==\n",
       "\" style=\"display:inline;vertical-align:middle;\" /></a>"
      ],
      "text/plain": [
       "(1 * 1 * x_{1,1})+..(1 * j * x_{1,j})..+(1 * n * x_{1,n}) + ....(i * 1 * x_{i,1})+..(i * j * x_{i,j})..+(i * n * x_{i,n}).... + ((m - 1) * 1 * x_{m - 1,1})+..((m - 1) * j * x_{m - 1,j})..+((m - 1) * n * x_{m - 1,n}) + (m * 1 * (1 * 1)) + ..(m * j * (j * j)).. + (m * n * (n * n))"
      ]
     },
     "execution_count": 87,
     "metadata": {},
     "output_type": "execute_result"
    }
   ],
   "source": [
    "requirements=[]\n",
    "double_nested_lambda.apply(*double_nested_operands, requirements=requirements)"
   ]
  },
  {
   "cell_type": "code",
   "execution_count": 88,
   "metadata": {},
   "outputs": [
    {
     "data": {
      "text/html": [
       "<span style=\"font-size:20px;\"><a class=\"ProveItLink\" href=\"__pv_it/824d550dddb66fa11eb80d141fcca5c86faf37b40/expr.ipynb\"><img src=\"data:image/png;base64,iVBORw0KGgoAAAANSUhEUgAAAJsAAAAbBAMAAACZ/+BnAAAAMFBMVEX///+YmJiqqqpmZmYyMjJE\n",
       "RETu7u5UVFQiIiJ2dnbMzMy6uroQEBCIiIjc3NwAAACK8CUvAAAAAXRSTlMAQObYZgAAAe5JREFU\n",
       "SMetlL1Lw0AYh3+p9pqmGpwdNCC46uAmQpEqCAoKKi5ChoKL0BYqiGLoICK4ZBEHRYqLOplJdLKD\n",
       "i4sEHLpY2n9AWwcFv8C7tE2b2jMB80LfXC8PT977BPwOueCKhDxopNHq89FwRYNeylqZZDnyAX90\n",
       "mGCpu+KX7oilcI73Ov46r+Loy/hb16BcdJiTkiAVpGPTsViPG+WuW8/SRc+5DdamODphaXfbamwu\n",
       "hrLIcHS/qfY6aVmttbRTMsnTtaEaumvtKW+e560dGK9z0ALmqVMXOXgujIFDFdk/MUmTvmCSbyNg\n",
       "FarZFWg4FEyHLhxcRqLEoS6yAFljlSvbkN8hWFtwtgkMqRsMlOs9J2IU5SyHEvaAK/aSkE8E3hBi\n",
       "jHQbo1EDSbLTMbVqwkA/eFRwGJEp1ghU0JFBl8kqaf4uziXnSg0BaXAoaYamVZ2mjihEHTclNr+5\n",
       "ZlBQZh26EeCFoD1VVpiJDbtLBx3GiMw6xmxwg/6Onbo7OilhtKeK9kYpG2wYUxYoKnVwvFp3LRK0\n",
       "JX8iHO3lUI19dwU8AAN9rIOsXVa5sy/6TWLrxB267zKQUwqH4hyyyH7t+LTEoAvldgW0hP6/+64l\n",
       "iOlJV/GoEzzdxvQ0+BTzVk6r/ti676tLlPLFJm2p8Dt+AKAnnlEFB8pjAAAAAElFTkSuQmCC\n",
       "\" style=\"display:inline;vertical-align:middle;\" /></a> <a class=\"ProveItLink\" href=\"__pv_it/69144b2d57a202d36a6bd7b00eea6f73be0ed0c70/proof.ipynb\" style=\"text-decoration: none\">&#x22A2;&nbsp;</a><a class=\"ProveItLink\" href=\"__pv_it/a17acbd0a37ac84770417d8ee9972bd84cba25220/expr.ipynb\"><img src=\"data:image/png;base64,iVBORw0KGgoAAAANSUhEUgAAA8cAAAAXBAMAAADU9yDbAAAAMFBMVEX///9UVFQQEBCqqqoiIiJm\n",
       "ZmYyMjJERESYmJjc3NyIiIi6urp2dnbu7u7MzMwAAAADGpxCAAAAAXRSTlMAQObYZgAABg9JREFU\n",
       "aN7tWltoHFUY/pPNJrOX2QQf1ETFgi9eayh5yUNsilKIF4xQJUge9kWhFIpvMYK4oIkGoU1RsSqS\n",
       "LRiE2DZrXRBFcPoQkZTiVCSFIGRRpCCUrAjFWlI8l5k558y57DmxKYT0wOyePft///ef/5s5l5mB\n",
       "y3CrwOWWDdu4lEI4RyrHd6i6mVnydS7dzrIiZWbQ7FHO5KBDPLmKPkgnDGGlwGKNdsd/Zadew70G\n",
       "kXFW5My0GVOuyKQZIJaLhiDdMIS1lxe5c3ZbX46PcD/2hE7YFYPIOCv4YP5xzS+b/In2VPeyfTgH\n",
       "pRbcnxVHTMK6wos8tZ01vnB2g3Xt7nvdRC5W9SJP0YP5p7Vlk78pMR5Slq2j8UbTUpH+0CBtMRwr\n",
       "AcYij2zrIdfjk3rUTWR/l17kkehg/kntZ5O/kXQ8rQBC6ZBHVNwfGqQ9JmElwEjk3PCOFRkOaUXG\n",
       "WSGZSYncWTMsgoYVIpsAYnkflCLTIO0xjPUQEzmPrnh/ofdbm3HF1i5dVk98crK6NShbkb/r/Xg+\n",
       "cVY4+9HCi+h7SSsyzgo+0iIXR/WhiPYRoQkglnkaV19p+S6hP0suGJ51iYnchRbhv8Jb1f0Wcdja\n",
       "pc+NwHuyo7w1KFuRg4mqfzWZjLtegzU00k0nIhdfJmU0bsBZwUdaZM8QkGgfEXrW/X41iusL2CP0\n",
       "Z9oFw7NOM5E7+gHOw0/hNwCX6P5Zv6US7BwWOGFxo5CePSKaS5tCSSKHLUQu9e+H3PXY8nd08sw1\n",
       "AAa0VzLOCj7SImcMk5tgHxNmrGfDx6O4AjgqiDzggBFYB5jI7TXc8QlU++MAsXteHxZv53JNQpd0\n",
       "4kQ0Bl8GlCSyf6WFyL5/DbxmbBmu1UhW1rUi46zgIy1yqanvpmAfE5oAYnmIxrU3hDsEkdcdMALr\n",
       "uigywL/4o04nLNO5x9m5lG55bo1o6ptCSVfyvlbDdaYJbeXEci/A7VsrckzoJDKOC531D7qILGJ4\n",
       "1nVxuIbSdTuReTuXst7YjMh6lPucnC1DdyX5+wWAf/yInJ+Te1oN1wXb4TomLLgM1ziup6Fw1ef7\n",
       "U3fB8Kx1ceE1lG/CKQuReTtv7M9527tS4SLkQwzIn2hYi2xATR1ZGHUUuT1Ag1oQ/3oYMhtFfuGV\n",
       "vpL//8IrInRaeKG40HibLb/nsPASMTwrt/BCq+3C311NfKebibyGjfAHmcLiimDnnam0z4r/p34l\n",
       "le/734DjBHBPvkcWWUaRDwPq3fvhgWgezvMiL4apOJjbuRr84MXnSu4aFMtHAMa1IuM9CNmHYP/E\n",
       "E2XKBsoekg/RPiLUAOQE4x0PiguNt51BEK0xFrHI46AFyxiedZyJjNLm952af0cYrjuewcNPTzSF\n",
       "kcoToWj36WfQHZJmZsiseRhcWFgdqxBALRsormTBB6lgfj0qtzoMGxSWve3KWKLOc4++VCGtnKM4\n",
       "BsRz7E3OS+5ONLge1oqMefBB/JNsUKbORhSd2FVCIdpHhBoAC25f/H+deECb7czYLO0F6Q8NUp0i\n",
       "GcOzHlbe1uSG6yHF6Jmy64MzYrNm0E2qffAbnre+nkAl5EVW+BgyotqqhV06akWrLkZ/uPVtzVQ0\n",
       "v6R+CxQKey1A7q5wi5KFTIPUpEiDIawEKD+g4EQO5G0rpOx2w3hJaFbvdll1N3wOcyXFlazwERhR\n",
       "7Y1s0NBQF62abB9QpKNZTv0WKBT2WoDcXeFhQzEVZNEJIz+g6ErOBrR7/jAkG2lf3ryssiqxyzXh\n",
       "qceEZvW9SXZrt4muyreTSBBN7nW6Y5d9MH4lag46vmpoqFetmkgxPWrEWYkzw6KhTw512ZHt9QBF\n",
       "dyeVIa9oumDCyI8ak0fdHzyLhsb+3IG/quDJgVSSGrUr9MDJCt+sLux/BDgIx87H4iGa0n3El8KH\n",
       "Z0Z9CfkfddQVqyZgGWr90gCLhsqoy45srwcountRGfKkpgsmDGGdjEQ+TZqEl1b6LRf8tnbmCfsm\n",
       "ohSppRfe6XQ7y4r0Os+M2aP8+s+MQzzKV3m8zbz+M5MA8w1VAi1fE8nckNdJBm8i6lZRjJM3xs52\n",
       "LN961E4t/wF31Lk4Lb15CAAAAABJRU5ErkJggg==\n",
       "\" style=\"display:inline;vertical-align:middle;\" /></a></span><br>\n",
       "<span style=\"font-size:20px;\"><a class=\"ProveItLink\" href=\"__pv_it/c845b73d477b7648a9700b80ee1f4abcf36920b90/expr.ipynb\"><img src=\"data:image/png;base64,iVBORw0KGgoAAAANSUhEUgAAAEcAAAAVBAMAAADm2O7QAAAAMFBMVEX///+IiIi6urrc3NxERETM\n",
       "zMwQEBCqqqpUVFQiIiJ2dnYyMjLu7u5mZmaYmJgAAABN0h6tAAAAAXRSTlMAQObYZgAAATtJREFU\n",
       "KM9jYGDgu8eAG7BePACieHYx4ANMqSCS7wM2OZ79LnsYuPKTGBhug7hcE7CawPIggoHhPJCxEo8i\n",
       "jqmMAgxsOBTxec6cDVakcqCVgRO7IlbHA1CTTBtOH0BRpNVsKCsAljt9AGadQSFrA0jRMjBvAwPD\n",
       "AhcBns9guWa4mwy4FB6CFL0H8coCGFgLZjMwfwXLOSAUMfRwRAIZ3BcYGEImAwOF5xM0uFizdwMB\n",
       "VNEJhm0gVifQIWoBDAzsH8C2MjAwI5vEuiAMZFIDiAcU593AwP8A7OQEJEUMz1lgbgL5jm0BQ/2B\n",
       "BSDeRbgioAVcJjDfgRTZKzCs5gsA8TgLoIq4QYzbyOGkycBg8RwSsS06kECdnwIKNRzRwrQEEi1w\n",
       "AFGUgDc9QRRhT08IAE5PDARSZhKYYieYxgGFBlAi2GE80wAAAABJRU5ErkJggg==\n",
       "\" style=\"display:inline;vertical-align:middle;\" /></a> <a class=\"ProveItLink\" href=\"__pv_it/75acd9e1dcaa0c68d0ef85f3a7f6c1dce3a23eca0/proof.ipynb\" style=\"text-decoration: none\">&#x22A2;&nbsp;</a><a class=\"ProveItLink\" href=\"__pv_it/1a02b4523926e0009642835f7b57a80cda4de3fb0/expr.ipynb\"><img src=\"data:image/png;base64,iVBORw0KGgoAAAANSUhEUgAAAWAAAAAVBAMAAACK1ym5AAAAMFBMVEX///9UVFQQEBCqqqoiIiJm\n",
       "ZmYyMjJERESYmJjc3NyIiIi6urp2dnbu7u7MzMwAAAADGpxCAAAAAXRSTlMAQObYZgAAAwlJREFU\n",
       "SMetl79rE1EcwL9p0ubS3GuDgyYg2D9AMUiXDqURRMggxEWkdMiiS6HoJDodSIoutuISXZrFxSEG\n",
       "6Sh4HepgllOkQ5cUnEsCQlFLxPd9d+/um8u9+2Fz8HLJu+/7fD/v3nuXd3AMEzuOIysmkaMrzs0z\n",
       "UdLb4tT113tsH38pnNcM4Ls5BJQ9OFu/SyHCyMaSIjlS22E0YXPBzy9R4RnswhUScc1KJHwQIoxs\n",
       "LCnDuV08D6uH0TAain7+ARVuAHzdG3pdvHgpmbDeUgs3nOIcdp4vYbRGIF/mENAqL9qQRGwlE2YL\n",
       "auGqU+Qh8nwLo1UD+TIHQnOVMwrDulIY2YI/IjzTUbNGogl/3ROerSUQ/lh687Ylf+T3Xr9b5ed9\n",
       "pTCysRyuUmG9phbGaOakoPx9TzhrJBA2H7XYb3dyZZ9Aj6+RTVdYvy+OmqxANhbzAxXWQlYdRuv5\n",
       "hTH+piecKXvCVoTwXPkm5P7KyB+ZOuwcASwq7zCyecmV71DhdEUtjC1eTds9ovxFT3iq4wqzkwhh\n",
       "xk5BG8hIq9eBLX7uK4WRzQuDP1R4bqAWxhbWvD0lKL8fKAzXo6ZEegCpuhu5AnA+jjCkh0mEYcUR\n",
       "IPx+8JSInMN8sOYN9zIf6F8MYNc/hwu+KQHZAhXOR0wJeDjO3/3PRTdl8u6b8tdlfut0uuj8d1gu\n",
       "ul7ZTLDo2E99jE8WnXjIzFLh95Y9R8VHrw7k104HPmtH8pl5Cnr9BcCaUhjZWD7lDHt9iDzTpsP1\n",
       "4O4XjM4PmqKC8tc8YRyg6XMnd91Mt6/eM+CG5UzUTEHOWKziI/PyqfscrkCuyIdwQymMbCypZ3Zz\n",
       "O88M9jhzi8LFF4wQ06VoiMuUv+H7ax5fXVacKvvRUYn11+w1/y4+l4MTSJvlEb7M0Q3ebuDQxKpK\n",
       "svnxmtubHzM4gbQx1ZufbND+9DBWVeT2EtkO321uby9ZKziBE00uj20vAzfwRqwqcTyOsYGnzW0l\n",
       "TZHAidZG+TJHewKvSJp9S9r++rbqFel5slck5Msc/wClwjDUfiTJZgAAAABJRU5ErkJggg==\n",
       "\" style=\"display:inline;vertical-align:middle;\" /></a></span><br>\n",
       "<span style=\"font-size:20px;\"><a class=\"ProveItLink\" href=\"__pv_it/d7a80b78a449f11be17ef04144e9388dfc2578bc0/expr.ipynb\"><img src=\"data:image/png;base64,iVBORw0KGgoAAAANSUhEUgAAAF0AAAAbBAMAAADsXp6BAAAAMFBMVEX///+YmJiqqqpmZmYyMjJE\n",
       "RETu7u5UVFQiIiJ2dnbMzMy6uroQEBCIiIjc3NwAAACK8CUvAAAAAXRSTlMAQObYZgAAAYFJREFU\n",
       "OMtjYCAZ8N0lqIQdRHBZQzh3NhBUzwom091AJPcvBiLVM7iCCN4PRKufAyI4D+BSlfI1JIFhzp8N\n",
       "xKpnCOQqYGD7wFDi4uPiIkCE+ooFwKA7QNg9oh0dDiC6Oox9AUMDQfVLr0EZdcvZ3LCr31n39vqF\n",
       "ldfBMcHmBtNYx3RhObL6+yCCowBITAi9wPZ3AxPYKvYHcPUMsxkvIKlfvwBoWikoqhVaGPh+MjB+\n",
       "QApssHr2hCqQej4In7GbgWHHApAT2H4zMH1jYA8Aia5xAQIHiHq2AhZk77EaMHB7ghhMHxiYGxh4\n",
       "LoDYT5HMZ1jJhaSeyxdI5EwAEswODBwTGPY/SACyeZDVMyoEINS/VwApBTmQZwJD/gYGEz6wwAWY\n",
       "fBUQz0NSfx8enu83MOgzMHhygoWbYPJOEJvhABH+OxgYLjMwKMtB0nl0Aphe8QdoNhtW9ahgZ0SH\n",
       "A7b0RCi9UUf9B9LUA+OVWBACJksSiFTOew5McRcSp5yrNoH0wg0Alg5oCO9SXqgAAAAASUVORK5C\n",
       "YII=\n",
       "\" style=\"display:inline;vertical-align:middle;\" /></a> <a class=\"ProveItLink\" href=\"__pv_it/439489372c4d615c0f8df42b9ba07b8b2f458b540/proof.ipynb\" style=\"text-decoration: none\">&#x22A2;&nbsp;</a><a class=\"ProveItLink\" href=\"__pv_it/15ec66ae69f9475fc0f1fa2b1299d741351aa15b0/expr.ipynb\"><img src=\"data:image/png;base64,iVBORw0KGgoAAAANSUhEUgAAAKUAAAAUBAMAAAAek+A5AAAAMFBMVEX////MzMxUVFR2dna6uroQ\n",
       "EBCqqqqIiIgiIiJmZmYyMjJERETu7u6YmJjc3NwAAACgK8IjAAAAAXRSTlMAQObYZgAAAa9JREFU\n",
       "OMuVlb9LAmEcxh89PT09JQiaG4qGIA4Xqemgxa2goKXBJaQlRYJoE6KGJscQhKu2G6KtIQoJgqjA\n",
       "/gJzqqYUEoKQ6L33Xs/u/PrrA89x95zv8/649/0KxF/A1ZedMVzBk1Bf/PXRXcGFEIm8CajGaG6X\n",
       "WNEWyV2iza7JzmOGdHsJ12316dFqfe/J9Li9fAgNyIzoVKbj9rJvK5D43JvzJWeoTKlIZUreBVte\n",
       "eM/nJvOsqxtwSdErVHexRWXGDCrTdiWTY+Vr1zn1W5dXgSNwTYUNNDS8Uplygcp0XIEvfYz4F2JN\n",
       "YB1claqObAXz1ttH3vWp09rXtG6XTPPQNM88bhdVbUFuw3/pZCILnAAb1Did1hnSdXZtE0oBwZwz\n",
       "d5SAAwR+VSIzQM7ddsV6TrNbxUBYw0q90vlGWAMbu2K8jfmN/hHUwBawFE9jkT0xxVvW2COa5v5d\n",
       "yGqtaJ5Mt9uhoVsLeC4BKXCxmYSKkMvuE6XM/pTZ7p5wZ3rcDim+0bdrw84m58F7Nt3umDXExqkW\n",
       "z6RLcCvUF7qqDap1w2tytD66Kxj631Ebw+X8Ac1rkjIrcvx0AAAAAElFTkSuQmCC\n",
       "\" style=\"display:inline;vertical-align:middle;\" /></a></span><br>\n",
       "<span style=\"font-size:20px;\"><a class=\"ProveItLink\" href=\"__pv_it/d7a80b78a449f11be17ef04144e9388dfc2578bc0/expr.ipynb\"><img src=\"data:image/png;base64,iVBORw0KGgoAAAANSUhEUgAAAF0AAAAbBAMAAADsXp6BAAAAMFBMVEX///+YmJiqqqpmZmYyMjJE\n",
       "RETu7u5UVFQiIiJ2dnbMzMy6uroQEBCIiIjc3NwAAACK8CUvAAAAAXRSTlMAQObYZgAAAYFJREFU\n",
       "OMtjYCAZ8N0lqIQdRHBZQzh3NhBUzwom091AJPcvBiLVM7iCCN4PRKufAyI4D+BSlfI1JIFhzp8N\n",
       "xKpnCOQqYGD7wFDi4uPiIkCE+ooFwKA7QNg9oh0dDiC6Oox9AUMDQfVLr0EZdcvZ3LCr31n39vqF\n",
       "ldfBMcHmBtNYx3RhObL6+yCCowBITAi9wPZ3AxPYKvYHcPUMsxkvIKlfvwBoWikoqhVaGPh+MjB+\n",
       "QApssHr2hCqQej4In7GbgWHHApAT2H4zMH1jYA8Aia5xAQIHiHq2AhZk77EaMHB7ghhMHxiYGxh4\n",
       "LoDYT5HMZ1jJhaSeyxdI5EwAEswODBwTGPY/SACyeZDVMyoEINS/VwApBTmQZwJD/gYGEz6wwAWY\n",
       "fBUQz0NSfx8enu83MOgzMHhygoWbYPJOEJvhABH+OxgYLjMwKMtB0nl0Aphe8QdoNhtW9ahgZ0SH\n",
       "A7b0RCi9UUf9B9LUA+OVWBACJksSiFTOew5McRcSp5yrNoH0wg0Alg5oCO9SXqgAAAAASUVORK5C\n",
       "YII=\n",
       "\" style=\"display:inline;vertical-align:middle;\" /></a> <a class=\"ProveItLink\" href=\"__pv_it/4b14e77537b8bdd767443fb60ed5a062709e45df0/proof.ipynb\" style=\"text-decoration: none\">&#x22A2;&nbsp;</a><a class=\"ProveItLink\" href=\"__pv_it/65c6fef35e47fb9df4d56a4809bdb2c8aeaa3d420/expr.ipynb\"><img src=\"data:image/png;base64,iVBORw0KGgoAAAANSUhEUgAAAQ0AAAAUBAMAAABlknXcAAAAMFBMVEX////MzMxUVFR2dna6uroQ\n",
       "EBCqqqqIiIgiIiJmZmYyMjJERETu7u6YmJjc3NwAAACgK8IjAAAAAXRSTlMAQObYZgAAAjJJREFU\n",
       "SMetVk1IG0EU/uImmx93gyB4baAVD4IOXsTbQi/eDLTQS0EvQgtSlyCIJ0MFEfEQ9FIEYUu92EPp\n",
       "zUNpWQpiaQ/JuYeaU+1JAwaEEMSZSWw2szvOpM3ADm8f733zzdu37z0gW0E/llkN63ShX7HtB/qz\n",
       "JsIqXegBdocP9Fn0e77+c1HzPWykC215gF2C9XCyVx5fp5qiynBFjT70NJBiMTnrOR52iIeVFzX6\n",
       "0CfAH/SJBw5FhT50xsGawvjxxHnBHS44Eh7xqYvVsdj0IyrOiK760EYJnxXG5JNrXTtmXsLDGDxG\n",
       "eQWLVPzJ39/zVWKyPrTtYfN+49jCNrJXsGsSHiMpD5cEZ1R8IfrqQ5tFPL3f2LLqMJsY+Mjk1l2H\n",
       "gjz8soNlH+NUfCD66kPHaipjmDWki0i4sjxdBt4Az/6BRwCa8lAED2kPKYK5qi/hsQ9sIH5jAbOB\n",
       "/MhpfJcAdLyoTKYEAQ39fnZBwuMJaHjT3u92ngaXPjTNU/63rfuwGuyTsa3stTf+dumw0L8zBIxk\n",
       "s2WTrbPwZggB9sRzoqE7Z3Sg04RHc3f+qIItRvw1K4O5u42pZnkdePlLCOlo4wCpHbCIJkswD2jp\n",
       "fCvykEBzYQdB6MxQq/jyrAkH0FTUwqWu9C9G1nUJTpcrvvFm1K5I4XMMRTkmyj4nxSFin8OXtnwa\n",
       "Nj5VtGtX0ffl0N2urO//HVYiZifFOGVHHhoxB1UUroPVHoY3VQP+j7mQZuotfjPWIHAO5oUAAAAA\n",
       "SUVORK5CYII=\n",
       "\" style=\"display:inline;vertical-align:middle;\" /></a></span>"
      ],
      "text/plain": [
       "<proveit.magics.HTML_DisplayObjects at 0x7fb87a60c3c8>"
      ]
     },
     "execution_count": 88,
     "metadata": {},
     "output_type": "execute_result"
    }
   ],
   "source": [
    "requirements"
   ]
  },
  {
   "cell_type": "markdown",
   "metadata": {},
   "source": [
    "## Singular and empty range reductions\n",
    "\n",
    "When the length of an **ExprRange** is known to be empty or singular, in the process of performing a lambda application, the **ExprRange** will be eliminated appropriately within the **ExprTuple** in which it is contained.  For example,"
   ]
  },
  {
   "cell_type": "code",
   "execution_count": 89,
   "metadata": {},
   "outputs": [
    {
     "data": {
      "text/html": [
       "<strong id=\"tuple_with_range_lambda\">tuple_with_range_lambda:</strong> <a class=\"ProveItLink\" href=\"__pv_it/a172363c6c4cc9a8f972e50604ebd59816d57b5f0/expr.ipynb\"><img src=\"data:image/png;base64,iVBORw0KGgoAAAANSUhEUgAAATkAAAAUCAMAAADBerqfAAAANlBMVEX///8oKCgNDQ0QEBCYmJgy\n",
       "MjIiIiKqqqrMzMzu7u5ERERmZmaIiIjc3NxUVFR2dna6uroAAAAaifX4AAAAAXRSTlMAQObYZgAA\n",
       "AodJREFUWMPNWNmShCAMZFcOuUT+/2dXkUOcCMbSmuVlrElLOg0JBkLQw9LnwcKSNwaGKoLCTbZS\n",
       "vQGe3pAORRVD4R5bZm+AxSBPli8aJHtBORRVDIVbbKlu7GIDguXkJg8ptzc405usn0TmOlVoICi4\n",
       "K+RMvXDcIpTLYOpP9lw2yOFx5TgypxAUPqAgn2rlLEdQL+C+coTNDyvXpApn93UKK3R2k7XG6B2q\n",
       "LqwVAZN0tNppc6heR08ZfEU5px9WLnkHAkzjYOpTcMaYMUEdUWpBSG9hrYjYC6niOT8PC5z5tidF\n",
       "EcpR9rByyTsQYBaiNvUoWC6WaVmEjoLw9dn68UQ5YlQJe3035PlKS6tOoRGgchJUTvCHlYvegQCT\n",
       "y6OpR4G79YtERKhcFJ9DCAXx+8Oq4X0uAMP2pEPAPM/sAo4P4Wc6gA/KSc8g5Ubfnqx5KkJvRO+f\n",
       "AWYCR1OHgt4FEaAi4KddOLxOrZmXyhnpDCowGNtrBCtH+NRW7qE9l71/BFgI1KYOhWGXYgGqw3ue\n",
       "liyqN+3I5DEFpHfZLT5b4To3v5StUIB51KY2hS3oPdthU0ESBytXfYlvZVd6sS1V3cH9zxMCCLBs\n",
       "o8rUoeC3CUWC2pDqjhGac6/qk+fqqI4H93oi0WXTu2aw5ZQ3Z8oVg3ZN2qU4fTycvJG8AwHmw7I2\n",
       "dSjoNcmlztBti9qJCjg2PdY1L/ZNy3eNnczcVC7tfj0Nnmng3mJvYJ2imYvT5wP8RvLeCPBg6lFw\n",
       "jtL4FxvRfeu97utC68O/331dpyDR/Um7jZYSAe710FKiL5Xkwx3/OQVn8MoRZd8Av3LLpP7VLdNL\n",
       "N5vq+zebCAo32b5xm06/f5uOoBCgf4U9H11adCqPAAAAAElFTkSuQmCC\n",
       "\" style=\"display:inline;vertical-align:middle;\" /></a><br>"
      ],
      "text/plain": [
       "tuple_with_range_lambda: n -> (a + (1 * 1) + ..(i * i).. + (n * n) + c)"
      ]
     },
     "execution_count": 89,
     "metadata": {},
     "output_type": "execute_result"
    }
   ],
   "source": [
    "tuple_with_range_lambda = Lambda(n, Add(a, ExprRange(i, Mult(i, i), one, n), c))"
   ]
  },
  {
   "cell_type": "markdown",
   "metadata": {},
   "source": [
    "Applying this lambda to set $n : 0$ will eliminate this **ExprRange**, leaving just the $a$ and $c$ terms in this sum."
   ]
  },
  {
   "cell_type": "code",
   "execution_count": 90,
   "metadata": {},
   "outputs": [
    {
     "data": {
      "text/html": [
       "<a class=\"ProveItLink\" href=\"__pv_it/321f593b6c5ee4bee4450dce1f7132f91d1af20b0/expr.ipynb\"><img src=\"data:image/png;base64,iVBORw0KGgoAAAANSUhEUgAAAC0AAAAPBAMAAACCUFuUAAAAMFBMVEX///9UVFSqqqrMzMwiIiJE\n",
       "RESYmJgyMjK6urru7u4QEBCIiIh2dnZmZmbc3NwAAABRgo0vAAAAAXRSTlMAQObYZgAAAIZJREFU\n",
       "GNNjYCAMmDZQIs535/ZKNPHTuw0YGLoesH9AFX+iwFrAwLmMgTcAVdyHgVGBgfcnAwuIz1NeXrK8\n",
       "vFyAASQCBFwBDPMNUNRzgbXPP8Cgj+oeoAiIVGAQZ3qALM6fwMCgwMC6gc2RB0U9rwDDXAMGTunN\n",
       "D3eguudM2gaiwoFzAoINAN57JTdm79ZmAAAAAElFTkSuQmCC\n",
       "\" style=\"display:inline;vertical-align:middle;\" /></a>"
      ],
      "text/plain": [
       "a + c"
      ]
     },
     "execution_count": 90,
     "metadata": {},
     "output_type": "execute_result"
    }
   ],
   "source": [
    "requirements = []\n",
    "tuple_with_range_lambda.apply(zero, requirements=requirements)"
   ]
  },
  {
   "cell_type": "markdown",
   "metadata": {},
   "source": [
    "The *requirement* for this reduction is a statement that the **ExprTuple** of the **ExprRange**, with $n$ replaced by $0$, is equal to the **ExprTuple**.  Note that this is not effecting a direct substitution of these **ExprTuple**s since the original **ExprRange** is embedded in an **ExprTuple** with other entries.  So this reduction requires special treatment compared with the *equivalence reductions* that will be discussed in a later chapter."
   ]
  },
  {
   "cell_type": "code",
   "execution_count": 91,
   "metadata": {},
   "outputs": [
    {
     "data": {
      "text/html": [
       "<span style=\"font-size:20px;\"> <a class=\"ProveItLink\" href=\"__pv_it/febf3f653135c7e17ffaadc83d65a94bb93a66f50/proof.ipynb\" style=\"text-decoration: none\">&#x22A2;&nbsp;</a><a class=\"ProveItLink\" href=\"__pv_it/20aab79d9d7a799b10600efb663e1d2b9f2acc650/expr.ipynb\"><img src=\"data:image/png;base64,iVBORw0KGgoAAAANSUhEUgAAAK0AAAAUBAMAAAANRKDNAAAAMFBMVEX////MzMxUVFR2dna6uroQ\n",
       "EBCqqqqIiIgiIiJmZmYyMjJERETu7u6YmJjc3NwAAACgK8IjAAAAAXRSTlMAQObYZgAAActJREFU\n",
       "OMullb9LAmEcxh/T9NQ78z/QiOasRXJybKugMeiWtkhpiYZIGpxCjvZAGgIbIlqjkEIQGgyioaUc\n",
       "W6JIMBKHvu973g/uXvOuXjj0/dzj43vP932/ByTu8fexKWBvOr3zYRPcnbUm2YckxtoujXyu0zO6\n",
       "1usWD68O9z1B0zSKqXIFctWlibU5VTTIUzOW781cf6itsoSgafQI5GjRLtETOJXYAl5s61WG+8bT\n",
       "CJt3L4BCHQ2XqEIX0Vd4951II9Q1Jp/AoopY3qFJlFgWeez48G1pCH0Z5fkm3yKCmkMTYYDolQ/f\n",
       "9wwChm+iA6SKUHjeuVM2ajwrtm2Jli1feaSvhkBnIEzQelMZhEsOjaSyPVXCiuXbqnrMgQkHOQQ+\n",
       "HJpxFjhRm6+UHl23cNcQUt0K6nDfso984+e2u5f8Z6GSle+xmQNRP3UTnAvFeeCMus2zyZ7NN9If\n",
       "JM1T7ME2o4drJK0CyctANONsIWyfEV2gj8O1mtnUotO9I0gHRor7xheObrcnrf6S3aL/iCUdvjwY\n",
       "olJb9MQbnhCNpvAcN3nfEYyMJ4Rf+g6uBWq56AUx6u6Tcb1PCvu64gnpJoK+zum/3kPPwvcQ0R/f\n",
       "uZWE82bP/gAAAABJRU5ErkJggg==\n",
       "\" style=\"display:inline;vertical-align:middle;\" /></a></span>"
      ],
      "text/plain": [
       "<proveit.magics.HTML_DisplayObjects at 0x7fb87a5eb3c8>"
      ]
     },
     "execution_count": 91,
     "metadata": {},
     "output_type": "execute_result"
    }
   ],
   "source": [
    "requirements"
   ]
  },
  {
   "cell_type": "markdown",
   "metadata": {},
   "source": [
    "This reduction works as long as it is known that the `end_index + 1 = start index`."
   ]
  },
  {
   "cell_type": "code",
   "execution_count": 92,
   "metadata": {},
   "outputs": [
    {
     "data": {
      "text/html": [
       "<strong id=\"tuple_with_ij_range_lambda\">tuple_with_ij_range_lambda:</strong> <a class=\"ProveItLink\" href=\"__pv_it/afd40825acf53c475fb9a210cc7fd4362e9075b40/expr.ipynb\"><img src=\"data:image/png;base64,iVBORw0KGgoAAAANSUhEUgAAASsAAAAUCAMAAADiIetKAAAANlBMVEX///8oKCgNDQ3MzMwyMjIi\n",
       "IiJ2dna6urrc3NxmZmZERESIiIhUVFSYmJju7u4QEBCqqqoAAADNy50eAAAAAXRSTlMAQObYZgAA\n",
       "ApZJREFUWMPFWO22hRAQ7d4Q+Yj3f9mrEkaEltbtxzmtvXb2nmmMmKbOi8qBXE2nT642kx3qgKo3\n",
       "1fSQWtsdX1yRfeZAxSfJCiZLYZ14h3pMlaLtGdQR3MUV2bd8oAp9katgshTWiXeovzAqWblMeTs3\n",
       "XITXhqnPj1fCveqk6osnZYRpu2XcUoJqG58r3Fz7Heo36t0HfEUUt1t+4sbzZRmdq0bhXnVHVZyH\n",
       "9gsbMdTlV+ooI4zDvpnKOK7iLKMfUMJG58qbBGEBcY/X1QnnfI6o9neT+exooLY61rLZMkfmUcZx\n",
       "iSVnZr9HJRqdq8skDCu6IrymTrG2A6JAlTZwo/O5mvgaVQ/Wbu7uUmx9lDm5VE8s+LmGilCNR+fK\n",
       "mUzCClHEeE0dk33F1oFqh1mMH+v3B4HLmDCnt/OWHWx8jUsOHt6OPwG5lmi8vjLIG7/Q2VdnfpjH\n",
       "ZexBOAnLS0O8os5CWgKVhPxi+PW24Kj9ORvbeqjPj6/ksqwjPewD0ne3o+pqC4bjsOLse7yivkVT\n",
       "x1MRK3TzGalbeStDjmjbpsKaLRGPLp/NQRgWXNNYk/oZaEJVYV4nuYLf6WfbPNkCJbukfIvdyeS+\n",
       "FHn0w94OwkrVm3q7OYfSMTWeJ2DlWOCLcevmakeUtqjJk2XHXUxuJxtQRh7dhhZ3u6kIJ2GBJzxe\n",
       "UWd79Ss2x1RW+nxjc9K8TrvCfnNQwZcny1fNCimzu0GHorkyo0TxpiJcDivgNXVCpOSQilt3UOP3\n",
       "OPjDPU4pLI93qB/UWU00WdJe7Z2VGrJ3Vqo3V3nhUlgA71DfqdT2+rV5Yz6tHWcyDdxvzmSscCks\n",
       "gHefyQjOOo4635z1DUp9n3AprBjvUH9ldOgZsvzXM+QO9YP6B1UtHzRQW3S6AAAAAElFTkSuQmCC\n",
       "\" style=\"display:inline;vertical-align:middle;\" /></a><br>"
      ],
      "text/plain": [
       "tuple_with_ij_range_lambda: j -> (a + (i * i) + ..(b * b).. + (j * j) + c)"
      ]
     },
     "execution_count": 92,
     "metadata": {},
     "output_type": "execute_result"
    }
   ],
   "source": [
    "tuple_with_ij_range_lambda = Lambda(j, Add(a, ExprRange(b, Mult(b, b), i, j), c))"
   ]
  },
  {
   "cell_type": "code",
   "execution_count": 93,
   "metadata": {},
   "outputs": [
    {
     "data": {
      "text/html": [
       "<span style=\"font-size:20px;\"><a class=\"ProveItLink\" href=\"__pv_it/fb0bacfbe92c35b9907c0e57a247eeb826a5a1610/expr.ipynb\"><img src=\"data:image/png;base64,iVBORw0KGgoAAAANSUhEUgAAAEEAAAAVBAMAAADrxp6XAAAAMFBMVEX///+IiIi6urrc3NxERETM\n",
       "zMwQEBCqqqpUVFQiIiJ2dnYyMjLu7u5mZmaYmJgAAABN0h6tAAAAAXRSTlMAQObYZgAAAShJREFU\n",
       "KM9jYGDgu8eAA7BePACieHYx4ARMqSCS7wOQ4HBAluDZ77KHgSs/iYHhNojLNQGk4gGKXpYHEQwM\n",
       "54GMlXAVaIBjKqMAAxs2FXyeM2eDVagcaGXgxKKC1fEA1AzThtMHUFQcvAiWOH0AZotBIWsDSMUy\n",
       "MG8DA8MCNbBEM9wdBlwKD0Eq3oN4ZQEMzAVgXzE4IFQw9HBEAhncFxgYQiYD/c/wEeyM7N1AAFVx\n",
       "gmEbiNUpwMCgFsDAwP4HxGNGNoN1QRjIjAZocLI0gCUSkFQwPGeBuQPkl/MFC0DMi3AVQHO5TGB+\n",
       "AanQZwaHOmcBVAU3iHEbOTw43kFirEUHEnLzU0Chgy3UmZZAQh0OICoScKcPiApw+sAFICGJL40l\n",
       "gSl2/OkUAGZ+SwWArIqnAAAAAElFTkSuQmCC\n",
       "\" style=\"display:inline;vertical-align:middle;\" /></a> <a class=\"ProveItLink\" href=\"__pv_it/cce060dd56519297de476d6b252e9ae7dfcac5920/proof.ipynb\" style=\"text-decoration: none\">&#x22A2;&nbsp;</a><a class=\"ProveItLink\" href=\"__pv_it/b5ff9db9e8604b0eb2c7da0f26b57905382479600/expr.ipynb\"><img src=\"data:image/png;base64,iVBORw0KGgoAAAANSUhEUgAAAI8AAAAUBAMAAABG7HMgAAAAMFBMVEX////MzMxUVFR2dna6uroQ\n",
       "EBCqqqqIiIgiIiJmZmYyMjJERETu7u6YmJjc3NwAAACgK8IjAAAAAXRSTlMAQObYZgAAAUFJREFU\n",
       "OMuVVLFKA0EQHbggChv1DyJYSrQ+v+DKFFY2VkI6r02llbXoD6hYmC0s7JWrY5PaxqvERrCy9nZ2\n",
       "ct5MXsLlwYPj7b23s7PMEm1OiQmwVrZXid6Ee2BtHzqAGsxPwr5ZOy2IJnMOrAZz9yrSwO0eVJYk\n",
       "nx0nR6rCehk5h4/K4gY6yKgKX0IYRA8oqFYVRpFulKOgFAaltg/B/ELMpDNAQe8wKKqHPmBMYr4k\n",
       "5ufGLQoawqCh+ZXNR8QstsKvjjfx27WlF74S7x+Pvd/RagNsliA6K1BFPViRDWKzHI2e4a1lMChr\n",
       "9OiexCzNdr/Jqs1u3Fowp/E6Oz/fZvU8WG5skFJnYHMmpfbNA3B9Mq6UOxOk1f9Rmy4ZEa75wlak\n",
       "VIUFQxtRj6crkKrxKkSYrKDWD9uiTdqqy57abtle/QPVPINnZhECFgAAAABJRU5ErkJggg==\n",
       "\" style=\"display:inline;vertical-align:middle;\" /></a></span>"
      ],
      "text/plain": [
       "{i in Naturals} |- ((i - 1) + 1) = i"
      ]
     },
     "execution_count": 93,
     "metadata": {},
     "output_type": "execute_result"
    }
   ],
   "source": [
    "Add(subtract(i, one), one).simplification([InSet(i, Naturals)])"
   ]
  },
  {
   "cell_type": "code",
   "execution_count": 94,
   "metadata": {},
   "outputs": [
    {
     "data": {
      "text/html": [
       "<a class=\"ProveItLink\" href=\"__pv_it/321f593b6c5ee4bee4450dce1f7132f91d1af20b0/expr.ipynb\"><img src=\"data:image/png;base64,iVBORw0KGgoAAAANSUhEUgAAAC0AAAAPBAMAAACCUFuUAAAAMFBMVEX///9UVFSqqqrMzMwiIiJE\n",
       "RESYmJgyMjK6urru7u4QEBCIiIh2dnZmZmbc3NwAAABRgo0vAAAAAXRSTlMAQObYZgAAAIZJREFU\n",
       "GNNjYCAMmDZQIs535/ZKNPHTuw0YGLoesH9AFX+iwFrAwLmMgTcAVdyHgVGBgfcnAwuIz1NeXrK8\n",
       "vFyAASQCBFwBDPMNUNRzgbXPP8Cgj+oeoAiIVGAQZ3qALM6fwMCgwMC6gc2RB0U9rwDDXAMGTunN\n",
       "D3eguudM2gaiwoFzAoINAN57JTdm79ZmAAAAAElFTkSuQmCC\n",
       "\" style=\"display:inline;vertical-align:middle;\" /></a>"
      ],
      "text/plain": [
       "a + c"
      ]
     },
     "execution_count": 94,
     "metadata": {},
     "output_type": "execute_result"
    }
   ],
   "source": [
    "requirements = []\n",
    "tuple_with_ij_range_lambda.apply(subtract(i, one), assumptions=[InSet(i, Naturals)],\n",
    "                                 requirements=requirements)"
   ]
  },
  {
   "cell_type": "code",
   "execution_count": 95,
   "metadata": {},
   "outputs": [
    {
     "data": {
      "text/html": [
       "<span style=\"font-size:20px;\"><a class=\"ProveItLink\" href=\"__pv_it/fb0bacfbe92c35b9907c0e57a247eeb826a5a1610/expr.ipynb\"><img src=\"data:image/png;base64,iVBORw0KGgoAAAANSUhEUgAAAEEAAAAVBAMAAADrxp6XAAAAMFBMVEX///+IiIi6urrc3NxERETM\n",
       "zMwQEBCqqqpUVFQiIiJ2dnYyMjLu7u5mZmaYmJgAAABN0h6tAAAAAXRSTlMAQObYZgAAAShJREFU\n",
       "KM9jYGDgu8eAA7BePACieHYx4ARMqSCS7wOQ4HBAluDZ77KHgSs/iYHhNojLNQGk4gGKXpYHEQwM\n",
       "54GMlXAVaIBjKqMAAxs2FXyeM2eDVagcaGXgxKKC1fEA1AzThtMHUFQcvAiWOH0AZotBIWsDSMUy\n",
       "MG8DA8MCNbBEM9wdBlwKD0Eq3oN4ZQEMzAVgXzE4IFQw9HBEAhncFxgYQiYD/c/wEeyM7N1AAFVx\n",
       "gmEbiNUpwMCgFsDAwP4HxGNGNoN1QRjIjAZocLI0gCUSkFQwPGeBuQPkl/MFC0DMi3AVQHO5TGB+\n",
       "AanQZwaHOmcBVAU3iHEbOTw43kFirEUHEnLzU0Chgy3UmZZAQh0OICoScKcPiApw+sAFICGJL40l\n",
       "gSl2/OkUAGZ+SwWArIqnAAAAAElFTkSuQmCC\n",
       "\" style=\"display:inline;vertical-align:middle;\" /></a> <a class=\"ProveItLink\" href=\"__pv_it/56cb581401154860ec6b8626870824970340aa110/proof.ipynb\" style=\"text-decoration: none\">&#x22A2;&nbsp;</a><a class=\"ProveItLink\" href=\"__pv_it/958aa36ea90e4be1e6905604a8b2a682984c5d780/expr.ipynb\"><img src=\"data:image/png;base64,iVBORw0KGgoAAAANSUhEUgAAAQkAAAAUBAMAAABsedWmAAAAMFBMVEX////MzMxUVFR2dna6uroQ\n",
       "EBCqqqqIiIgiIiJmZmYyMjJERETu7u6YmJjc3NwAAACgK8IjAAAAAXRSTlMAQObYZgAAAh9JREFU\n",
       "SMellj1LA0EQhtdcjPk69SeksZJAsAlapRHstEhpkR8gapsupBALkXSCIAQ7U0iwNwQhGLBIWgsl\n",
       "ldgEUikEC2d2vL3N3tzdggO5m7z73H7czO2sEKtjYWlh5LEtdMzoU1Jf4JfoKlVzTUNyk9ETE0to\n",
       "ASTLd0m9R8RfQCL81SBZNLTUIfTUtoQWQLLsRKpuyzYgHPm09QPXsi1UDrS9kpqe2M6CJV0cYGAL\n",
       "DQJNl6R+2k6CJ+UA2YolpIF/udygljrcnq+UrLmmAZmvn3IDOC1LyDHjtdKilke4lXaVrLmmAekk\n",
       "D7gB3LYlROBOB+0O3dyYWs7gtdSuUekL5bIG5EemzQ2QanjPx0AE6rlWo5YqvELxjV/uXHgub0D2\n",
       "1/Bl5+VaOutqgKWZ93wMJEHdlivUUsXJICWaQrlhsxAnfW6Z1HkzHgqdxRlGp6BkzWUiIh7Y9E82\n",
       "LCECKS9uVURAxewc1UreA5rLZGf+y4nPzgjINTPGy85tuO37JQhcGeBR28sU7x+SydnU/NRwgIw/\n",
       "82goYy5Rfrqg7mHtePPLCLjnENd0wYs0XtIXcEGyaFSZzMb8BraddSVEQxpIJkMEKrPlpvoB6UhE\n",
       "7fXDmB1cQUN2Bx+y5ccJdlESUXUvppr5UGg1E71Ay3PwFCD35F5I/wsFOwpiKnuOKrs8lixa8ITh\n",
       "qgMMZznzlBMG5dhTjlT/f+J7t4Xe2RMfqL9arsoo6vBl1QAAAABJRU5ErkJggg==\n",
       "\" style=\"display:inline;vertical-align:middle;\" /></a></span>"
      ],
      "text/plain": [
       "<proveit.magics.HTML_DisplayObjects at 0x7fb87a24c2e8>"
      ]
     },
     "execution_count": 95,
     "metadata": {},
     "output_type": "execute_result"
    }
   ],
   "source": [
    "requirements"
   ]
  },
  {
   "cell_type": "markdown",
   "metadata": {},
   "source": [
    "To reduce the **ExprRange** to a singular element, the `start_index` and `end_index` must match exactly."
   ]
  },
  {
   "cell_type": "code",
   "execution_count": 96,
   "metadata": {},
   "outputs": [
    {
     "data": {
      "text/html": [
       "<a class=\"ProveItLink\" href=\"__pv_it/c6221a6a3867417829beb799bc64b64e76ae0e340/expr.ipynb\"><img src=\"data:image/png;base64,iVBORw0KGgoAAAANSUhEUgAAAHQAAAAUBAMAAACuQAROAAAAMFBMVEX///9UVFSqqqrMzMwiIiJE\n",
       "RESYmJgyMjK6urru7u4QEBCIiIh2dnZmZmbc3NwAAABRgo0vAAAAAXRSTlMAQObYZgAAAVVJREFU\n",
       "OMtjYMAC+BLQBPQYiAVTgVgUwRVlYHxArNY6IBZDcMUYOAsI6NCG0mwXMKROQ2mmDfi1smA6bxaR\n",
       "Wp9gSrE3YNPKd+f2SlStexkYOPfC1YCZPBfQtPLs3szA0PWA/QOq1jCgDMcCmFYwk60AVSufE0M4\n",
       "A+cyBt4AVK1ODAyPeMFqJzBAmUwOqFpZDjAIMfD+ZGAB8Y+Xl3uVlxeCxFcA9fCDxDi/M0CZzCCH\n",
       "8ZSXlywvLxcAMu+DDOUKYJhvgGorUCuDPkiOwZEBymT+gGrrUhAx/wCDPgOGgxkCEeEIYnKgOpjz\n",
       "D1irAoM40wP0YOL8xAMPYRATPZi+AZkMrBvYHHlQbT0LtOXDM5hWMJP3AKrWiwyclxk4pTc/3IGq\n",
       "tQWUbhGZB8RkN0DVynMsm9iEOIVAQpxJOPlzTiCQheLQBQhmOpSsjgJYic7qGAVMHjZVANruV759\n",
       "/W9JAAAAAElFTkSuQmCC\n",
       "\" style=\"display:inline;vertical-align:middle;\" /></a>"
      ],
      "text/plain": [
       "a + (i * i) + c"
      ]
     },
     "execution_count": 96,
     "metadata": {},
     "output_type": "execute_result"
    }
   ],
   "source": [
    "requirements = []\n",
    "tuple_with_ij_range_lambda.apply(i, requirements=requirements)"
   ]
  },
  {
   "cell_type": "code",
   "execution_count": 97,
   "metadata": {},
   "outputs": [
    {
     "data": {
      "text/html": [
       "<span style=\"font-size:20px;\"> <a class=\"ProveItLink\" href=\"__pv_it/8b64f4e8340d7220e18c94e2ac970f9ca28e15eb0/proof.ipynb\" style=\"text-decoration: none\">&#x22A2;&nbsp;</a><a class=\"ProveItLink\" href=\"__pv_it/41ad880cdceb3317c5a6a3f442bdf22aeb1e3e870/expr.ipynb\"><img src=\"data:image/png;base64,iVBORw0KGgoAAAANSUhEUgAAAL0AAAAUBAMAAAAq6iElAAAAMFBMVEX////MzMxUVFR2dna6uroQ\n",
       "EBCqqqqIiIgiIiJmZmYyMjJERETu7u6YmJjc3NwAAACgK8IjAAAAAXRSTlMAQObYZgAAAaFJREFU\n",
       "OMudlbFKA0EQhn+TEExyib6B6UPkOrGzEey08AFSWojapgspxMIiYCFYnWBlIZJesZGIFkkdUFKJ\n",
       "jZBKIVi4u2R372YmcNzA3f03zH03O7s7C9RGyGDFCfcx0pG+vamr4X2NhcjcfVyu8wBGyukk7tTV\n",
       "9N7mYv4oLl95ACMFEVDtIZPlT6hHIG0Ay5Ns/GCPegTSM/CFjHZDHQKpvIW2SqXtxhqT1AaXSblJ\n",
       "AwRSvocHdS+4scYktXA7Kccm/taYqbxAqkY4BT5LkfY8wUnBaq0rk5aTBzRCIBU72FevK3pUwQxW\n",
       "ivOJX/0YRlau0QiBtDTVXhzrH6ILJ8Ud+2cWSd1KiU9Jiq9Ghb4P6i9cL5V6Uu7E6l+f14eSCh09\n",
       "K8FP3lXBS2rDVpiQYxogkNT8qmVWmH5br5amxDNbR/e269uXkReUz0kohWaYTd9ZlFw+tyXs2oKf\n",
       "qVrm3n370fKa8jkJ5VVpVx/yueWzHnRS9IcXsSuFvJll7294ZJnxLTDgfKE/c1I0PxWSefAvRylg\n",
       "AqkykU61VFZNcz5+AP+6XoiRsoxAfwAAAABJRU5ErkJggg==\n",
       "\" style=\"display:inline;vertical-align:middle;\" /></a></span>"
      ],
      "text/plain": [
       "<proveit.magics.HTML_DisplayObjects at 0x7fb87a273860>"
      ]
     },
     "execution_count": 97,
     "metadata": {},
     "output_type": "execute_result"
    }
   ],
   "source": [
    "requirements"
   ]
  },
  {
   "cell_type": "markdown",
   "metadata": {},
   "source": [
    "There are no other special **ExprRange** reductions, even if the expansion is obvious.  For example,"
   ]
  },
  {
   "cell_type": "code",
   "execution_count": 98,
   "metadata": {},
   "outputs": [
    {
     "data": {
      "text/html": [
       "<a class=\"ProveItLink\" href=\"__pv_it/e09f248ad319af2f386a1d1ba430af8cf3801a160/expr.ipynb\"><img src=\"data:image/png;base64,iVBORw0KGgoAAAANSUhEUgAAAPkAAAAUBAMAAAC9u4b/AAAAMFBMVEX///9UVFSqqqrMzMwiIiJE\n",
       "RESYmJgyMjK6urru7u4QEBCIiIh2dnZmZmbc3NwAAABRgo0vAAAAAXRSTlMAQObYZgAAAjtJREFU\n",
       "SMdjYMAC+BIwxZgeMBANnmER0yNa91RsgnJEa+cMYOC8G2qA4IM4jES7vg6ItSYgCYA404m2nf0B\n",
       "w0QGnh9wPpjDWUBAF9MGCM12gYFTRh5hO4TDA5Vl0CagnSGXgeEmA8MquASEcxpdGQ7tLKBAykf2\n",
       "O4jDuYBY2/0YGJYwMMjDgxrCmUWk7U8YsNnOUEGk7XwODAz1Exjk4REP4bA3YLOd787tlajie7Hb\n",
       "fpZI27kvgCl/ZAOAHJ4LaLaf3g10X9cD9g+o4mHYbU8n0nZWcH7l+IMkBeKwFaCFsAJrAQPnMgbe\n",
       "AFRxJ4TtnEi2qxBpO4sCmBQAkVAvgDhMDqjKfBgYFRh4fzKwgPg85eUly8vLQXpWIGyfX4Cw3R7E\n",
       "Ol5e7lVeXohhNZJ2LnAE3wU7/jtEFsRh/oCiDGgvSG0Aw3wDVFch2Q7xAZLtRPgdbDs08h0RKYEZ\n",
       "NX65wAE+/wCDPgPOkEeO9xZSQl6XgQ9RuIE5HKghD7QXRCowiEPLcCqmOuYDDNxw2yEctFTHD1Sl\n",
       "wMC6gc2RB1U7OGvtR7YdzLmDajs4TkHpAha5MO2grPXkzFkRuG4Ih/cAijJeAYa5Bgyc0psf7kDV\n",
       "Dgrii+trERUdhFOM5ndHWLpwRNUOCuL6//+/wLVDOOxoqetM2gbcJS1mzeVAQkmLBUwhUNJyToDX\n",
       "MlgAvJaZyYBfO6iWwQJOoyvDBeKwCRJfw7JiCzuCNSz+1kUcKa0LIp3EQGzLio3CllUeNoUAGj26\n",
       "dMU94cYAAAAASUVORK5CYII=\n",
       "\" style=\"display:inline;vertical-align:middle;\" /></a>"
      ],
      "text/plain": [
       "a + (1 * 1) + ..(i * i).. + (2 * 2) + c"
      ]
     },
     "execution_count": 98,
     "metadata": {},
     "output_type": "execute_result"
    }
   ],
   "source": [
    "from proveit.number import two\n",
    "tuple_with_range_lambda.apply(two)"
   ]
  },
  {
   "cell_type": "markdown",
   "metadata": {},
   "source": [
    "Depending upon the circumstance, making the explicit expansion may not be desirable.  Such replacements should be made explicitly via the **theory system** rather than complicating the **core derivation system**."
   ]
  },
  {
   "cell_type": "code",
   "execution_count": 99,
   "metadata": {},
   "outputs": [],
   "source": [
    "%end exprrange_reductions"
   ]
  },
  {
   "cell_type": "markdown",
   "metadata": {},
   "source": [
    "# Next chapter: <a href=\"tutorial04_relabeling.ipynb\">ToDo</a>\n",
    "\n",
    "## <a href=\"tutorial00_introduction.ipynb#contents\">Table of Contents</a>"
   ]
  },
  {
   "cell_type": "code",
   "execution_count": null,
   "metadata": {},
   "outputs": [],
   "source": []
  }
 ],
 "metadata": {
  "kernelspec": {
   "display_name": "Python 3",
   "language": "python",
   "name": "python3"
  },
  "language_info": {
   "codemirror_mode": {
    "name": "ipython",
    "version": 3
   },
   "file_extension": ".py",
   "mimetype": "text/x-python",
   "name": "python",
   "nbconvert_exporter": "python",
   "pygments_lexer": "ipython3",
   "version": "3.7.3"
  }
 },
 "nbformat": 4,
 "nbformat_minor": 1
}
