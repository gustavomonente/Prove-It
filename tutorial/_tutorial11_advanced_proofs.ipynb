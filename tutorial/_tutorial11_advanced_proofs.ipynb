{
 "cells": [
  {
   "cell_type": "markdown",
   "metadata": {},
   "source": [
    "Chapter 11. Proofs Using Advanced Expression \n",
    "==================="
   ]
  },
  {
   "cell_type": "markdown",
   "metadata": {},
   "source": [
    "## MultiVariable relabeling\n",
    "\n",
    "A **MultiVariable** may be relabels to a **Composite** of **Variable**s and/or **MultiVariable**s.\n",
    "\n",
    "For the next examples, we'll import an axiom from the `proveit.logic` package that uses a **MultiVariable**."
   ]
  },
  {
   "cell_type": "code",
   "execution_count": null,
   "metadata": {},
   "outputs": [],
   "source": [
    "from proveit.logic.boolean.conjunction._axioms_ import composition\n",
    "composition"
   ]
  },
  {
   "cell_type": "markdown",
   "metadata": {},
   "source": [
    "Let us *relabel* the **MultiVariable** $B_{\\Box}$ to two **Variable**s.  This results in a weaker statement.  The original statement is a rule that applies to any number of zero or more **Variable**s in place of $B_{\\Box}$.  The new statement replaces it with exactly two **Variable**s."
   ]
  },
  {
   "cell_type": "code",
   "execution_count": null,
   "metadata": {},
   "outputs": [],
   "source": [
    "from proveit.common import Bmulti\n",
    "composition.relabel({Bmulti:[B, C]})"
   ]
  },
  {
   "cell_type": "markdown",
   "metadata": {},
   "source": [
    "Let us consider the case where we replace $B_{\\Box}$ with zero **Variable**s.  The resulting statement requires funny notation in which we make an `And` operator formatted as $[\\land]$ that can take zero or one operand (when there are two or more operands, we can use the standard formatting)."
   ]
  },
  {
   "cell_type": "code",
   "execution_count": null,
   "metadata": {},
   "outputs": [],
   "source": [
    "composition.relabel({Bmulti:[]})"
   ]
  },
  {
   "cell_type": "markdown",
   "metadata": {},
   "source": [
    "This is self-consistent when we define $[\\land]$ to be `TRUE` when acting on zero operands (shown below).  Then the right side of the above is $A \\land \\top = A$, assuming $A$ is a `Boolean`."
   ]
  },
  {
   "cell_type": "code",
   "execution_count": null,
   "metadata": {},
   "outputs": [],
   "source": [
    "from proveit.logic.boolean.conjunction._axioms_ import emptyConjunction\n",
    "emptyConjunction"
   ]
  },
  {
   "cell_type": "markdown",
   "metadata": {},
   "source": [
    "We can also include **MultiVariable**s when we *relabel* a **MultiVariable**.  We can *relabel* a **MultiVariable** to another **MultiVariable** making an equivalent statement."
   ]
  },
  {
   "cell_type": "code",
   "execution_count": null,
   "metadata": {},
   "outputs": [],
   "source": [
    "from proveit.common import Dmulti\n",
    "composition.relabel({Bmulti:Dmulti})"
   ]
  },
  {
   "cell_type": "markdown",
   "metadata": {},
   "source": [
    "We can also *relabel* $B_{\\Box}$ to a list that includes a mix of **Variable**s and **MultiVariable**s, making a weaker statement.  In this case, we *relabel* the original in a way that corresponds to $B_{\\Box}$ being replaced with two or more **Variable**s."
   ]
  },
  {
   "cell_type": "code",
   "execution_count": null,
   "metadata": {},
   "outputs": [],
   "source": [
    "composition.relabel({Bmulti:[B, C, Dmulti]})"
   ]
  },
  {
   "cell_type": "markdown",
   "metadata": {},
   "source": [
    "You may *relabel* a **MultiVariable** to another **MultiVariable** or a **Composite** of **Variable**s and/or **MultiVariable**s, but not any other type of **Expression**."
   ]
  },
  {
   "cell_type": "code",
   "execution_count": null,
   "metadata": {},
   "outputs": [],
   "source": [
    "try:\n",
    "    composition.relabel({Bmulti:[B, And(A, B)]})\n",
    "except RelabelingFailure as e:\n",
    "    print(\"EXPECTED ERROR:\", e)"
   ]
  },
  {
   "cell_type": "markdown",
   "metadata": {},
   "source": [
    "Only a **MultiVariable** may be relabeled to a **Composite**, not a regular **Variable**."
   ]
  },
  {
   "cell_type": "code",
   "execution_count": null,
   "metadata": {},
   "outputs": [],
   "source": [
    "try:\n",
    "    composition.relabel({A:[B, C, Dmulti]})\n",
    "except RelabelingFailure as e:\n",
    "    print(\"EXPECTED ERROR:\", e)"
   ]
  },
  {
   "cell_type": "markdown",
   "metadata": {},
   "source": [
    "### Universal quantification over an unspecified number of variables\n",
    "\n",
    "Using **MultiVariable**s, we can express universal quantification over an unspecified number of variables.  Depending upon how the **MultiVariable** is used in the instance expression, we may *specialize* it to an **ExpressionList** (if it is used within **Etcetera** sub-expressions), or an **ExpressionTensor** (if it is used within **Block** sub-expressions).\n",
    "\n",
    "The following example uses a theorem from `proveit.logic.boolean.disjunction`.  It states, in English, that the `Or` (disjunction) operation acting an any number of operands is false if all of the operands are false."
   ]
  },
  {
   "cell_type": "code",
   "execution_count": null,
   "metadata": {},
   "outputs": [],
   "source": [
    "from proveit.logic.boolean.disjunction._theorems_ import notOrIfNotAny\n",
    "notOrIfNotAny"
   ]
  },
  {
   "cell_type": "code",
   "execution_count": null,
   "metadata": {},
   "outputs": [],
   "source": [
    "notOrIfNotAny.exprInfo()"
   ]
  },
  {
   "cell_type": "markdown",
   "metadata": {},
   "source": [
    "Note that the instance variable (the parameter of the `imap`) is a **MultiVariable**.  The occurrences of this **MultiVariable** in the `iexpr` and `conds` are within **Etcetera** sub-expressions.  Below, we *specialize* this to an instance with three operands."
   ]
  },
  {
   "cell_type": "code",
   "execution_count": null,
   "metadata": {},
   "outputs": [],
   "source": [
    "from proveit.common import Amulti, c\n",
    "from proveit.logic import Not\n",
    "notOrIfNotAnySpec = notOrIfNotAny.specialize({Amulti:[a, b, c]}, assumptions=[Not(a), Not(b), Not(c)])\n",
    "notOrIfNotAnySpec"
   ]
  },
  {
   "cell_type": "code",
   "execution_count": null,
   "metadata": {},
   "outputs": [],
   "source": [
    "notOrIfNotAnySpec.proof()"
   ]
  },
  {
   "cell_type": "markdown",
   "metadata": {},
   "source": [
    "Let us look at the expression information for this specialized instance to show that the **MultiVariable** has been substituted in a seemless manner.  Specifically, the `Or` operation has the $(a, b, c)$ **ExpressionList** operands."
   ]
  },
  {
   "cell_type": "code",
   "execution_count": null,
   "metadata": {},
   "outputs": [],
   "source": [
    "notOrIfNotAnySpec.exprInfo()"
   ]
  },
  {
   "cell_type": "markdown",
   "metadata": {},
   "source": [
    "It is possible to *specialize* the **MultiVariable** with zero expressions."
   ]
  },
  {
   "cell_type": "code",
   "execution_count": null,
   "metadata": {},
   "outputs": [],
   "source": [
    "notOrIfNotAny.specialize({Amulti:[]})"
   ]
  },
  {
   "cell_type": "markdown",
   "metadata": {},
   "source": [
    "We must format this using the $[\\lor]$ operator.  This statement is valid and self-consistent because we define $[\\lor]$ acting on zero operands to be `FALSE`:"
   ]
  },
  {
   "cell_type": "code",
   "execution_count": null,
   "metadata": {},
   "outputs": [],
   "source": [
    "from proveit.logic.boolean.disjunction._axioms_ import emptyDisjunction\n",
    "emptyDisjunction"
   ]
  },
  {
   "cell_type": "markdown",
   "metadata": {},
   "source": [
    "It is also possible to include a **MultiVariable** in the *specialization*:"
   ]
  },
  {
   "cell_type": "code",
   "execution_count": null,
   "metadata": {},
   "outputs": [],
   "source": [
    "from proveit import Etcetera\n",
    "from proveit.logic import inBool\n",
    "from proveit.common import Bmulti\n",
    "assumptions = [Not(a), Etcetera(Not(Bmulti)), inBool(a), Etcetera(inBool(Bmulti))]\n",
    "notOrIfNotAnySpec2 = notOrIfNotAny.specialize({Amulti:(a, Bmulti)}, assumptions=assumptions)\n",
    "notOrIfNotAnySpec2"
   ]
  },
  {
   "cell_type": "code",
   "execution_count": null,
   "metadata": {},
   "outputs": [],
   "source": []
  },
  {
   "cell_type": "markdown",
   "metadata": {},
   "source": [
    "## <a href=\"tutorial00_introduction.ipynb#contents\">Table of Contents</a>"
   ]
  },
  {
   "cell_type": "code",
   "execution_count": null,
   "metadata": {},
   "outputs": [],
   "source": []
  },
  {
   "cell_type": "markdown",
   "metadata": {},
   "source": [
    "Let us also demonstrate *generalization* over a **MultiVariable**.  For this example, we will use the previous *specialization* instance that generated a **MultiVariable** as an implicit arbitrary multi-variable that we well next convert back to an explicit universal quantification."
   ]
  },
  {
   "cell_type": "code",
   "execution_count": null,
   "metadata": {},
   "outputs": [],
   "source": [
    "notOrIfNotAnySpec2"
   ]
  },
  {
   "cell_type": "code",
   "execution_count": null,
   "metadata": {},
   "outputs": [],
   "source": [
    "from proveit.logic import Booleans\n",
    "notOrIfNotAnySpec2.generalize((a, Bmulti), conditions=[Not(a), Etcetera(Not(Bmulti))], domain=Booleans)"
   ]
  },
  {
   "cell_type": "markdown",
   "metadata": {},
   "source": [
    "This could have been proven in one step from `notOrIfNotAny` using *relabeling*, but this demonstrates going back and forth from an explicit universal quantification to an implicit arbitrary multi-variable and back in a self-consistent manner. "
   ]
  }
 ],
 "metadata": {
  "kernelspec": {
   "display_name": "Python 3",
   "language": "python",
   "name": "python3"
  }
 },
 "nbformat": 4,
 "nbformat_minor": 0
}
