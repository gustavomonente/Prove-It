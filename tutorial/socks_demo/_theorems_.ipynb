{
 "cells": [
  {
   "cell_type": "markdown",
   "metadata": {},
   "source": [
    "Theorems (or conjectures) for the theory of <a href=\"_theory_.ipynb\" class=\"ProveItLink\">socks_demo</a>\n",
    "========\n",
    "\n",
    "Theorems created specifically for the \"matching socks\" demonstration problem.\n",
    "\n",
    "There are 10 black socks and 10 white socks in a dresser.  It is pitch black.  What is the minimum number of socks that must be randomly pulled from the dresser in order to guarantee that you have a matching pair?\n",
    "\n",
    "As defined in <a href=\"_axioms_.ipynb\" class=\"ProveItLink\">\\_axioms\\_</a>:\n",
    "* ${\\cal D}$ is the set of socks in the dresser.\n",
    "* ${\\cal W}$ is the set of white socks in the dresser.\n",
    "* ${\\cal B}$ is the set of black socks in the dresser.\n",
    "* $c$ is the set of randomly chosen socks.\n",
    "* $w$ is the set of chosen white socks.\n",
    "* $b$ is the set of chosen black socks.\n",
    "* $N$ is the number of randomly chosen socks.\n"
   ]
  },
  {
   "cell_type": "code",
   "execution_count": null,
   "metadata": {},
   "outputs": [],
   "source": [
    "import proveit\n",
    "# Prepare this notebook for defining the theorems of a theory:\n",
    "%theorems_notebook # Keep this at the top following 'import proveit'.\n",
    "from socks_demo._common_ import color, Dsocks, Ngeq3, cSocks, cSizeN\n",
    "from socks_demo._common_ import anyMatches, chosenMatches, abDistinct, abIsMatch, chose2orMoreOfEither\n",
    "from socks_demo.socks import Color\n",
    "from proveit.logic import Forall, And, Or, Implies, Iff, Equals, InSet, Card, SubsetEq\n",
    "from proveit.number import num, GreaterEq\n",
    "from proveit._common_ import a, b, c, x, S\n",
    "from socks_demo.socks import ContainsMatch, MatchingSubset"
   ]
  },
  {
   "cell_type": "code",
   "execution_count": null,
   "metadata": {},
   "outputs": [],
   "source": [
    "%begin theorems"
   ]
  },
  {
   "cell_type": "code",
   "execution_count": null,
   "metadata": {},
   "outputs": [],
   "source": [
    "unfoldMatchingSubset = Forall((S, color), Forall(x, And(InSet(x, S), Equals(Color(x), color)), domain=anyMatches))"
   ]
  },
  {
   "cell_type": "code",
   "execution_count": null,
   "metadata": {},
   "outputs": [],
   "source": [
    "pairInChosenMatches = Forall(color, Forall((a, b), abIsMatch, domain=chosenMatches, conditions=[abDistinct]))"
   ]
  },
  {
   "cell_type": "code",
   "execution_count": null,
   "metadata": {},
   "outputs": [],
   "source": [
    "chosenMatchesAreChosen = Forall(color, SubsetEq(chosenMatches, cSocks))"
   ]
  },
  {
   "cell_type": "markdown",
   "metadata": {},
   "source": [
    "Choosing 2 or more of either black or white socks ensures that there is a match among the chosen socks:"
   ]
  },
  {
   "cell_type": "code",
   "execution_count": null,
   "metadata": {},
   "outputs": [],
   "source": [
    "twoOrMoreIsSufficient = Forall(color, \n",
    "                           Implies(GreaterEq(Card(MatchingSubset(cSocks, \n",
    "                                                                color)),\n",
    "                                             num(2)),\n",
    "                                   ContainsMatch(cSocks)))"
   ]
  },
  {
   "cell_type": "markdown",
   "metadata": {},
   "source": [
    "Consider doing the contrapositive of the above theorem and do a proof by contradiction.  That is, from Not(ContainsMatch(c)) show that |w| <= 1 and |b| <= 1.  Therefore, |c| <= 2.  Therefore, |c| >= 3 implies ContainsMatch(c)."
   ]
  },
  {
   "cell_type": "code",
   "execution_count": null,
   "metadata": {},
   "outputs": [],
   "source": [
    "sufficientSubsets = Implies(chose2orMoreOfEither, ContainsMatch(cSocks))"
   ]
  },
  {
   "cell_type": "markdown",
   "metadata": {},
   "source": [
    "Conversely, if there is a match among the chosen socks, there must have been two or more of either black or white socks chosen:"
   ]
  },
  {
   "cell_type": "code",
   "execution_count": null,
   "metadata": {},
   "outputs": [],
   "source": [
    "necessarySubsets = Implies(ContainsMatch(cSocks), chose2orMoreOfEither)"
   ]
  },
  {
   "cell_type": "markdown",
   "metadata": {},
   "source": [
    "If 3 or more socks were chosen, there must be a match.  Prove this by contradiction.  If there were no more than 1 chosen of each kind, there could not be more than 2 chosen in total.  But if there are 2 or more of either, by `sufficientSubsets` there must be a match."
   ]
  },
  {
   "cell_type": "code",
   "execution_count": null,
   "metadata": {},
   "outputs": [],
   "source": [
    "sufficientNum = Implies(Ngeq3, ContainsMatch(cSocks))"
   ]
  },
  {
   "cell_type": "markdown",
   "metadata": {},
   "source": [
    "To ensure that there is a match (considering all possible outcomes), 3 must be chosen.  Prove this by a counter-example.  If only 2 socks are drawn, it is possible that a black and white sock are chosen.  In that case, the necessary condition for a match indicated by `necessarySubsets` is not met."
   ]
  },
  {
   "cell_type": "code",
   "execution_count": null,
   "metadata": {},
   "outputs": [],
   "source": [
    "necessaryNum = Implies(Forall(c, ContainsMatch(c), conditions=[SubsetEq(c, Dsocks), cSizeN]), Ngeq3)"
   ]
  },
  {
   "cell_type": "markdown",
   "metadata": {},
   "source": [
    "Combining the necessary and sufficient conditions on the number of drawn socks, and generalizing over possible sets of chosen socks $c$, we have:"
   ]
  },
  {
   "cell_type": "code",
   "execution_count": null,
   "metadata": {},
   "outputs": [],
   "source": [
    "answer = Iff(Ngeq3, Forall(c, ContainsMatch(c), conditions=[SubsetEq(c, Dsocks), cSizeN]))"
   ]
  },
  {
   "cell_type": "code",
   "execution_count": null,
   "metadata": {},
   "outputs": [],
   "source": [
    "%end theorems"
   ]
  },
  {
   "cell_type": "code",
   "execution_count": null,
   "metadata": {},
   "outputs": [],
   "source": []
  }
 ],
 "metadata": {
  "kernelspec": {
   "display_name": "Python 3",
   "language": "python",
   "name": "python3"
  }
 },
 "nbformat": 4,
 "nbformat_minor": 0
}
