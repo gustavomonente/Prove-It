{
 "cells": [
  {
   "cell_type": "markdown",
   "metadata": {},
   "source": [
    "Axioms for context <a href=\"_context_.ipynb\" class=\"ProveItLink\">socks_demo</a>\n",
    "========"
   ]
  },
  {
   "cell_type": "code",
   "execution_count": null,
   "metadata": {},
   "outputs": [],
   "source": [
    "import proveit\n",
    "# Automation is not needed when building axiom expressions:\n",
    "proveit.defaults.automation = False # This will speed things up.\n",
    "# the context is in the current directory:\n",
    "context = proveit.Context('.') # adds context root to sys.path if necessary\n",
    "from socks_demo._common_ import color, WHITE, BLACK\n",
    "from socks_demo._common_ import Dsocks, Bsocks, Wsocks, cSocks, wSocks, bSocks, N\n",
    "from socks_demo._common_ import abIsMatch, abDistinct, abSameColor\n",
    "from socks_demo.socks import Color, MatchingSubset, IsMatch, ContainsMatch\n",
    "from proveit._common_ import a, b, s, S # 's' for sock, 'S' for set of socks\n",
    "from proveit.logic import Forall, Exists, Equals, NotEquals, And, Iff, SetOfAll, SubsetEq, Card\n",
    "%begin axioms"
   ]
  },
  {
   "cell_type": "markdown",
   "metadata": {},
   "source": [
    "A matching subset is the subset of a set of socks of a given color, defined for convenience."
   ]
  },
  {
   "cell_type": "code",
   "execution_count": null,
   "metadata": {},
   "outputs": [],
   "source": [
    "matchingSubsetDef = Forall([S, color], \n",
    "                          Equals(MatchingSubset(S, color), \n",
    "                                 SetOfAll(s, s,\n",
    "                                          conditions=[Equals(Color(s), color)],\n",
    "                                          domain=S)))"
   ]
  },
  {
   "cell_type": "markdown",
   "metadata": {},
   "source": [
    "Let ${\\cal D}$ be the set of socks in the dresser.  Let ${\\cal W}$ be the set of white socks in the dresser.  Let ${\\cal B}$ be the set of black socks in the dresser."
   ]
  },
  {
   "cell_type": "code",
   "execution_count": null,
   "metadata": {},
   "outputs": [],
   "source": [
    "dresserWhiteSocks = Equals(Wsocks, MatchingSubset(Dsocks, WHITE))"
   ]
  },
  {
   "cell_type": "code",
   "execution_count": null,
   "metadata": {},
   "outputs": [],
   "source": [
    "dresserBlackSocks = Equals(Bsocks, MatchingSubset(Dsocks, BLACK))"
   ]
  },
  {
   "cell_type": "markdown",
   "metadata": {},
   "source": [
    "Let $c$ be the set of \"chosen\" socks (pulled randomly from the drawer) and $N$ be the number of \"chosen\" socks.  Let $w$ be the set of chosen white socks.  Let $b$ be the set of chosen black sets.  We start by assuming that $c = w \\cup b$.  At some point, however, this axiom will be eliminated and we will prove that such a decomposition exists."
   ]
  },
  {
   "cell_type": "code",
   "execution_count": null,
   "metadata": {},
   "outputs": [],
   "source": [
    "chosenFromDrawer = SubsetEq(cSocks, Dsocks)"
   ]
  },
  {
   "cell_type": "code",
   "execution_count": null,
   "metadata": {},
   "outputs": [],
   "source": [
    "numChosen = Equals(Card(cSocks), N)"
   ]
  },
  {
   "cell_type": "code",
   "execution_count": null,
   "metadata": {},
   "outputs": [],
   "source": [
    "chosenWhiteSocks = Equals(wSocks, MatchingSubset(cSocks, WHITE))"
   ]
  },
  {
   "cell_type": "code",
   "execution_count": null,
   "metadata": {},
   "outputs": [],
   "source": [
    "chosenBlackSocks = Equals(bSocks, MatchingSubset(cSocks, BLACK))"
   ]
  },
  {
   "cell_type": "markdown",
   "metadata": {},
   "source": [
    "Two socks match if and only if they are distinct and have the same color."
   ]
  },
  {
   "cell_type": "code",
   "execution_count": null,
   "metadata": {},
   "outputs": [],
   "source": [
    "isMatchDef = Forall((a, b), Iff(abIsMatch, And(abDistinct, abSameColor)), domain=Dsocks)"
   ]
  },
  {
   "cell_type": "markdown",
   "metadata": {},
   "source": [
    "A set of socks contains a match if and only if there exists a pair of socks within the set that are a match."
   ]
  },
  {
   "cell_type": "code",
   "execution_count": null,
   "metadata": {},
   "outputs": [],
   "source": [
    "containsMatchDef = Forall(S, Iff(ContainsMatch(S), \n",
    "                                 Exists((a, b), IsMatch(a, b), domain=S)), \n",
    "                          conditions=[SubsetEq(S, Dsocks)])"
   ]
  },
  {
   "cell_type": "code",
   "execution_count": null,
   "metadata": {},
   "outputs": [],
   "source": [
    "%end axioms"
   ]
  },
  {
   "cell_type": "code",
   "execution_count": null,
   "metadata": {},
   "outputs": [],
   "source": []
  },
  {
   "cell_type": "code",
   "execution_count": null,
   "metadata": {},
   "outputs": [],
   "source": []
  }
 ],
 "metadata": {
  "kernelspec": {
   "display_name": "Python 3",
   "language": "python",
   "name": "python3"
  }
 },
 "nbformat": 4,
 "nbformat_minor": 0
}
