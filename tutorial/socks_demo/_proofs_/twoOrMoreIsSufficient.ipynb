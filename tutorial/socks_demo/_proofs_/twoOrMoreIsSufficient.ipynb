{
 "cells": [
  {
   "cell_type": "markdown",
   "metadata": {},
   "source": [
    "Proof of <a class=\"ProveItLink\" href=\"..\\_context_.ipynb\">socks_demo</a>.<a href=\"../_theorems_.ipynb#twoOrMoreIsSufficient\" class=\"ProveItLink\">twoOrMoreIsSufficient</a> theorem\n",
    "========"
   ]
  },
  {
   "cell_type": "code",
   "execution_count": null,
   "metadata": {},
   "outputs": [],
   "source": [
    "import proveit\n",
    "context = proveit.Context('..') # the theorem's context is in the parent directory\n",
    "from socks_demo._common_ import color, chosenMatches, abDistinct, abIsMatch, Dsocks, cSocks\n",
    "from socks_demo._theorems_ import pairInChosenMatches, chosenMatchesAreChosen\n",
    "from socks_demo._axioms_ import chosenFromDrawer\n",
    "from proveit.logic import InSet, NotEquals\n",
    "from proveit._common_ import a, b\n",
    "from proveit import defaults"
   ]
  },
  {
   "cell_type": "code",
   "execution_count": null,
   "metadata": {},
   "outputs": [],
   "source": [
    "%begin_proof twoOrMoreIsSufficient presuming [proveit.logic]"
   ]
  },
  {
   "cell_type": "code",
   "execution_count": null,
   "metadata": {},
   "outputs": [],
   "source": [
    "antecedent = twoOrMoreIsSufficient.instanceExpr.antecedent"
   ]
  },
  {
   "cell_type": "code",
   "execution_count": null,
   "metadata": {},
   "outputs": [],
   "source": [
    "cardSubset = antecedent.lhs"
   ]
  },
  {
   "cell_type": "code",
   "execution_count": null,
   "metadata": {},
   "outputs": [],
   "source": [
    "existsDistinct_ab = cardSubset.distinctSubsetExistence((a, b), assumptions=[antecedent])"
   ]
  },
  {
   "cell_type": "code",
   "execution_count": null,
   "metadata": {},
   "outputs": [],
   "source": [
    "pairInChosenMatches"
   ]
  },
  {
   "cell_type": "code",
   "execution_count": null,
   "metadata": {},
   "outputs": [],
   "source": [
    "specPairInMatches = pairInChosenMatches.specialize()"
   ]
  },
  {
   "cell_type": "code",
   "execution_count": null,
   "metadata": {},
   "outputs": [],
   "source": [
    "existsMatchInMatches = existsDistinct_ab.substituteInstances(specPairInMatches)"
   ]
  },
  {
   "cell_type": "code",
   "execution_count": null,
   "metadata": {},
   "outputs": [],
   "source": [
    "chosenMatchesAreChosen"
   ]
  },
  {
   "cell_type": "code",
   "execution_count": null,
   "metadata": {},
   "outputs": [],
   "source": [
    "chosenMatchesAreChosen.specialize()"
   ]
  },
  {
   "cell_type": "code",
   "execution_count": null,
   "metadata": {},
   "outputs": [],
   "source": [
    "existsMatchInMatches.substituteDomain(cSocks)"
   ]
  },
  {
   "cell_type": "code",
   "execution_count": null,
   "metadata": {},
   "outputs": [],
   "source": [
    "chosenContainsMatch = twoOrMoreIsSufficient.instanceExpr.consequent.prove([antecedent])"
   ]
  },
  {
   "cell_type": "code",
   "execution_count": null,
   "metadata": {},
   "outputs": [],
   "source": [
    "chosenContainsMatch.asImplication(antecedent).generalize(color)"
   ]
  },
  {
   "cell_type": "code",
   "execution_count": null,
   "metadata": {},
   "outputs": [],
   "source": [
    "%qed"
   ]
  },
  {
   "cell_type": "code",
   "execution_count": null,
   "metadata": {},
   "outputs": [],
   "source": []
  }
 ],
 "metadata": {
  "kernelspec": {
   "display_name": "Python 3",
   "language": "python",
   "name": "python3"
  }
 },
 "nbformat": 4,
 "nbformat_minor": 0
}
