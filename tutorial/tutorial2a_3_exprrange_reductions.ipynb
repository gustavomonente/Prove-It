{
 "cells": [
  {
   "cell_type": "markdown",
   "metadata": {},
   "source": [
    "Chapter 2.a.iii.  ExprRange reductions\n",
    "=======\n",
    "\n",
    "As we saw in the previous chapter, an **ExprRange** adds versatility to **Prove-It** by allowing us to define **Lambda** expressions with an indeterminant number of parameters.  Generally, **ExprRange** expressions allow us to form expressions over an indeterminant number of elements.  Basically, an **ExprRange** is how we formalize the concept of using an ellipsis in a mathematical expression.  For example, $a \\cdot (b_1 + \\ldots + b_n) = a \\cdot b_1 + \\ldots + a \\cdot b_n$ (distribution) may be expressed using an **ExprRange** on each side of the equation.  Internally, the **ExprRange** has a *parameter* variable for parameterizing each element of the range.  For the LaTeX display, this *parameter* is hidden by default, as in the above example, and the precise parameterization is implicit.  To avoid ambiguity, it can be important at times to display the explicit parameterization.  For the above example, this would be $a \\cdot (b_1 + ..b_k.. + b_n) = a \\cdot b_1 + ..a \\cdot b_k.. + a \\cdot b_n$, assuming $k$ is the *parameter* in both **ExprRange** instances.\n",
    "\n",
    "There are two kinds of reduction rules that are specific to **ExprRange** expressions that are applied in the process of performing a lambda application (beta reduction).\n",
    "1. *Indexed variable expansions* occur when the **ExprRange** contains one or more **IndexedVar** expressions with an index that is parameterized over the range, and the range of indexed variables is being replaced by an **ExprTuple**.  This falls under two cases.\n",
    "  1. *Parameter dependent expansion* is required whenever the parameter of the **ExprRange** occurs anywhere besides as an index of an indexed variable.  In that case, the indices of the expanded indexed variable must match the original indices.  For example, $1 \\cdot x_1 + \\ldots + n \\cdot x_n$ could be expanded, under $(x_1, \\ldots, x_n) : (a_1, \\ldots, a_j, a_{j+1}, \\ldots, a_n)$ to $1 \\cdot a_1 + \\ldots + j \\cdot a_j + (j+1) \\cdot a_{j+1} + \\ldots + n \\cdot a_n$ assuming $0 \\leq j \\leq n$.  However, an error would occur given $(x_1, \\ldots, x_n) : (a_1, \\ldots, a_j, b_1, \\ldots, b_k)$ as the expansion.\n",
    "  2. *Parameter independent expansion* is allowed otherwise.  In that case, only the lengths of the expansion must match, not the indices themselves.  For example, $x_1 \\cdot y_1 + \\ldots + x_n \\cdot y_n$ could be expanded, under $(x_1, \\ldots, x_n) : (a_1, \\ldots, a_j, b_1, \\ldots, b_k)$, $(y_1, \\ldots, y_n) : (c_1, \\ldots, c_j, d_1, \\ldots, d_k)$ to $a_1 \\cdot c_1 + \\ldots + a_j \\cdot c_j + b_1 \\cdot d_1 + \\ldots + b_k \\cdot d_k$ assuming $j + k = n$.\n",
    "2. *Range reductions* occur when the **ExprRange** is known to be empty or contain only a single element. \n",
    "  1. *Empty range reduction* occurs when the **ExprRange** is known to be empty and may be replaced with zero elements in a containing **ExprTuple**.\n",
    "  2. *Singular element range reduction* occurs when the **ExprRange** is known to contain only a single element and may be replaced with this one element."
   ]
  },
  {
   "cell_type": "code",
   "execution_count": 1,
   "metadata": {},
   "outputs": [],
   "source": [
    "import proveit\n",
    "%begin exprrange_reductions"
   ]
  },
  {
   "cell_type": "markdown",
   "metadata": {},
   "source": [
    "## Creating ExprRange expressions\n",
    "\n",
    "An `ExprRange` may be instantiated with a `parameter`, `body`, `start index`, and `end index`:"
   ]
  },
  {
   "cell_type": "code",
   "execution_count": 2,
   "metadata": {},
   "outputs": [
    {
     "data": {
      "text/html": [
       "<strong id=\"a_prod_range\">a_prod_range:</strong> <a class=\"ProveItLink\" href=\"__pv_it/exprrange_reductions/757ee2ba5aa6513bed58722cbe0fa89d705a27ad0/expr.ipynb\"><img src=\"data:image/png;base64,iVBORw0KGgoAAAANSUhEUgAAAJMAAAAUBAMAAAB7fhJGAAAAMFBMVEX///9UVFTMzMx2dna6uroQ\n",
       "EBCqqqqIiIgiIiJmZmYyMjJERETu7u6YmJjc3NwAAAC+aOQFAAAAAXRSTlMAQObYZgAAAdVJREFU\n",
       "OMuVVDFLw0AUfjVpTGrSdisoQn+BZNNuLoKbDm5W6Q8QG0SR4tIu6iBScHBwsKuL1kkclDhIhQ7J\n",
       "qIvURXSQFoUO0sF3L02jySXFQC6579333b3v7h1A0gb/sw6RzwcHI0rTj05ArBWlpNb9iJR3KOf+\n",
       "wCSotSipRGAiLU0UrcoZPR0l9cRFkSLzkrmPkjrkokh54+YwG66ULEMIpcSiR8f5gaklA0CohkuN\n",
       "sth7bsscII0dIMoNfuZaiY6LC+IiGhjh+xgeHnEVLjykGreJsosLWQGFNphN9KqgjFQOl5ILaIwN\n",
       "J5QC7V8rVSDKEoDSA9lggW8ml8LfkU64VBx9PDVhj/1bNdJbMImCUvE6WFkWqbCmaA6XWgb1k1aY\n",
       "JmgGiIIJWjoUvaGX+IrRCapfIP2e7MyhoO1WAcYl93ipXWGo7WoXYjWvULFLlBwGDa0iuLjYwWpV\n",
       "9L4RZB81gx47KFfwmNa9EuwBUeZxRGbjZdMrQdzZBLNOPnDtq7i27JtO8nfbUxnvFCvMDqRwC+eB\n",
       "2rUALpm8wpGrDiWinPUALnDKecRsZ/uUW86NRK6rRiDQIN//5tHWr11Kk7NJNFgLBmzO1Rcr2S6F\n",
       "cyE///9CRsoPFTB50q+h5OUAAAAASUVORK5CYII=\n",
       "\" style=\"display:inline;vertical-align:middle;\" /></a><br>"
      ],
      "text/plain": [
       "a_prod_range: (a * i), ..(a * k).., (a * j)"
      ]
     },
     "execution_count": 2,
     "metadata": {},
     "output_type": "execute_result"
    }
   ],
   "source": [
    "from proveit import ExprTuple, ExprRange, defaults\n",
    "from proveit.numbers import Add, Mult, zero, one, two\n",
    "from proveit import a, b, c, d, i, j, k, m, n, x, y\n",
    "a_prod_range = ExprRange(k, Mult(a, k), i, j)"
   ]
  },
  {
   "cell_type": "code",
   "execution_count": 3,
   "metadata": {},
   "outputs": [
    {
     "data": {
      "text/html": [
       "<a class=\"ProveItLink\" href=\"../packages/proveit/__pv_it/common/b9fd37fc619babc74a6203459f110251586df6970/expr.ipynb\"><img src=\"data:image/png;base64,iVBORw0KGgoAAAANSUhEUgAAAAoAAAAOBAMAAADkjZCYAAAAMFBMVEX////MzMxUVFSIiIjc3NyY\n",
       "mJh2dna6urqqqqpmZmYyMjIiIiIQEBBERETu7u4AAAA59f8xAAAAAXRSTlMAQObYZgAAAE9JREFU\n",
       "CNdj4LuzgQEIuCaASP4GEFn/AERmgwiGlQytUxj4fjC7f2Xg+GfHF8DAeRIkzK18GUi+L/AvYGCI\n",
       "Z3jfkMCgy8AvkMBwg4F58gMA1VoTUDpQu/EAAAAASUVORK5CYII=\n",
       "\" style=\"display:inline;vertical-align:middle;\" /></a>"
      ],
      "text/plain": [
       "k"
      ]
     },
     "execution_count": 3,
     "metadata": {},
     "output_type": "execute_result"
    }
   ],
   "source": [
    "a_prod_range.parameter"
   ]
  },
  {
   "cell_type": "code",
   "execution_count": 4,
   "metadata": {},
   "outputs": [
    {
     "data": {
      "text/html": [
       "<a class=\"ProveItLink\" href=\"__pv_it/exprrange_reductions/ba2e68353927af763e3f3f5b0f4b9e3a7d2429310/expr.ipynb\"><img src=\"data:image/png;base64,iVBORw0KGgoAAAANSUhEUgAAACUAAAAOBAMAAABa28jFAAAAMFBMVEX///9UVFSqqqrMzMwiIiJE\n",
       "RESYmJgyMjK6urru7u4QEBCIiIh2dnZmZmbc3NwAAABRgo0vAAAAAXRSTlMAQObYZgAAAJhJREFU\n",
       "GNNjYEABU5cwYIJaLGKfMIU4fmKK8TiAKb47t1fCxdgvMOU+YGDoesD+AS42X2FffwID5zIG3gAQ\n",
       "dwKI0J89YRoDA+9PBpYNQB7nd5DYrQsgkiuAYb4BiOEIJraC5OcfYNCHG8f5g+8H2FQGcaYHUDG2\n",
       "D5yfeBgYWDewOfLA1DEGMHwGcjilNz/cARNjVWDYu5MBAE1AJgRQJ9/+AAAAAElFTkSuQmCC\n",
       "\" style=\"display:inline;vertical-align:middle;\" /></a>"
      ],
      "text/plain": [
       "a * k"
      ]
     },
     "execution_count": 4,
     "metadata": {},
     "output_type": "execute_result"
    }
   ],
   "source": [
    "a_prod_range.body"
   ]
  },
  {
   "cell_type": "code",
   "execution_count": 5,
   "metadata": {},
   "outputs": [
    {
     "data": {
      "text/html": [
       "<a class=\"ProveItLink\" href=\"../packages/proveit/__pv_it/common/575a6156bb1c87c5beeaf38c302b5905ad57f5780/expr.ipynb\"><img src=\"data:image/png;base64,iVBORw0KGgoAAAANSUhEUgAAAAcAAAAOBAMAAAARcxsoAAAAKlBMVEX///8yMjKqqqrc3NwQEBC6\n",
       "urp2dnZmZmaIiIju7u6YmJhERERUVFQAAAAIfTrnAAAAAXRSTlMAQObYZgAAADhJREFUCNdjYGA4\n",
       "zQAEpxjQAWd7AwMDG6sDA4MRuwADwwReIJdBdwKQ2AOSvcTGwMB6wQqkdQEDAPwvCSrC7lmiAAAA\n",
       "AElFTkSuQmCC\n",
       "\" style=\"display:inline;vertical-align:middle;\" /></a>"
      ],
      "text/plain": [
       "i"
      ]
     },
     "execution_count": 5,
     "metadata": {},
     "output_type": "execute_result"
    }
   ],
   "source": [
    "a_prod_range.start_index"
   ]
  },
  {
   "cell_type": "code",
   "execution_count": 6,
   "metadata": {},
   "outputs": [
    {
     "data": {
      "text/html": [
       "<a class=\"ProveItLink\" href=\"../packages/proveit/__pv_it/common/5514cc9a63b9c2ed9b63934dd5e088ab0d4f10080/expr.ipynb\"><img src=\"data:image/png;base64,iVBORw0KGgoAAAANSUhEUgAAAAoAAAASBAMAAACQmVJ4AAAAMFBMVEX////MzMwyMjIiIiJ2dna6\n",
       "urrc3NxmZmZERESIiIhUVFSYmJju7u4QEBCqqqoAAACA8xhiAAAAAXRSTlMAQObYZgAAAE1JREFU\n",
       "CNdjYGBg4LsDJBi4FzBgAydngMgC3g1AFQn8DxgYeBjiD4CEnMHS6iCC5x+I5PsDItkNQCRzAQMD\n",
       "44F8AQaGfId2IJ9rOlA/AHmNDZhMFHq1AAAAAElFTkSuQmCC\n",
       "\" style=\"display:inline;vertical-align:middle;\" /></a>"
      ],
      "text/plain": [
       "j"
      ]
     },
     "execution_count": 6,
     "metadata": {},
     "output_type": "execute_result"
    }
   ],
   "source": [
    "a_prod_range.end_index"
   ]
  },
  {
   "cell_type": "markdown",
   "metadata": {},
   "source": [
    "It's sub-expressions are a **Lambda** expression created from the `parameter` and `body`, the `start_index`, and the `end_index`:"
   ]
  },
  {
   "cell_type": "code",
   "execution_count": 7,
   "metadata": {},
   "outputs": [
    {
     "data": {
      "text/html": [
       "<table><tr><th>&nbsp;</th><th>core type</th><th>sub-expressions</th><th>expression</th></tr>\n",
       "<tr><td>0</td><td>ExprRange</td><td>lambda_map:&nbsp;1<br>start_index:&nbsp;2<br>end_index:&nbsp;3<br></td><td><a class=\"ProveItLink\" href=\"__pv_it/exprrange_reductions/757ee2ba5aa6513bed58722cbe0fa89d705a27ad0/expr.ipynb\"><img src=\"data:image/png;base64,iVBORw0KGgoAAAANSUhEUgAAAJMAAAAUBAMAAAB7fhJGAAAAMFBMVEX///9UVFTMzMx2dna6uroQ\n",
       "EBCqqqqIiIgiIiJmZmYyMjJERETu7u6YmJjc3NwAAAC+aOQFAAAAAXRSTlMAQObYZgAAAdVJREFU\n",
       "OMuVVDFLw0AUfjVpTGrSdisoQn+BZNNuLoKbDm5W6Q8QG0SR4tIu6iBScHBwsKuL1kkclDhIhQ7J\n",
       "qIvURXSQFoUO0sF3L02jySXFQC6579333b3v7h1A0gb/sw6RzwcHI0rTj05ArBWlpNb9iJR3KOf+\n",
       "wCSotSipRGAiLU0UrcoZPR0l9cRFkSLzkrmPkjrkokh54+YwG66ULEMIpcSiR8f5gaklA0CohkuN\n",
       "sth7bsscII0dIMoNfuZaiY6LC+IiGhjh+xgeHnEVLjykGreJsosLWQGFNphN9KqgjFQOl5ILaIwN\n",
       "J5QC7V8rVSDKEoDSA9lggW8ml8LfkU64VBx9PDVhj/1bNdJbMImCUvE6WFkWqbCmaA6XWgb1k1aY\n",
       "JmgGiIIJWjoUvaGX+IrRCapfIP2e7MyhoO1WAcYl93ipXWGo7WoXYjWvULFLlBwGDa0iuLjYwWpV\n",
       "9L4RZB81gx47KFfwmNa9EuwBUeZxRGbjZdMrQdzZBLNOPnDtq7i27JtO8nfbUxnvFCvMDqRwC+eB\n",
       "2rUALpm8wpGrDiWinPUALnDKecRsZ/uUW86NRK6rRiDQIN//5tHWr11Kk7NJNFgLBmzO1Rcr2S6F\n",
       "cyE///9CRsoPFTB50q+h5OUAAAAASUVORK5CYII=\n",
       "\" style=\"display:inline;vertical-align:middle;\" /></a></td></tr>\n",
       "<tr><td>1</td><td>Lambda</td><td>parameter:&nbsp;8<br>body:&nbsp;4<br></td><td><a class=\"ProveItLink\" href=\"__pv_it/exprrange_reductions/e7993ad5f36fbf5649ab72816ba40413b481f7bd0/expr.ipynb\"><img src=\"data:image/png;base64,iVBORw0KGgoAAAANSUhEUgAAAF4AAAAUCAMAAAAzz3pWAAAANlBMVEX///8oKCgNDQ3MzMxUVFSI\n",
       "iIjc3NyYmJh2dna6urqqqqpmZmYyMjIiIiIQEBBERETu7u4AAAB0zXpNAAAAAXRSTlMAQObYZgAA\n",
       "AVVJREFUOMudlduagyAMhNmFcD6E93/ZRVAkLV2kXFT7GX6GGYmMbQ6pHhZaWS+YYnhOx7R63mmi\n",
       "8Zl3z/FeLisuGvp2zfYxXa2V3DQNx6/J+LEWXsSGpfiBhrEu8o/1lqqV65RGmjenWVa5SxfNjvLg\n",
       "Wk067SDiB+svmi73WMwCabKaAi1ZLZ1FJpbpPs/enJGmSrg2IyBDNdfLIA0agz1NPapdX3moIDRb\n",
       "WC5Sf39/PBk5m/4stltX4wvQFfteQWi87C8ISDC6TR014aZf+JgqlPcp4p490goeizg5CHwxh/tx\n",
       "tWYOZl1tmFo/0kxgKrc89BxPT2mLFuvJEf5qK+OxI7QSrTg2WvbZ8aRlGZqLbn+P7aviiH5TT2lO\n",
       "s2Tr+wzzk+v4SxDNAgHApQDzVk9pnm+243VTGIMIu91ebTTXs6VtjfRcPvpt+vJz8p2SLz6G6qD/\n",
       "AfFADZJOCE8IAAAAAElFTkSuQmCC\n",
       "\" style=\"display:inline;vertical-align:middle;\" /></a></td></tr>\n",
       "<tr><td>2</td><td>Variable</td><td></td><td><a class=\"ProveItLink\" href=\"../packages/proveit/__pv_it/common/575a6156bb1c87c5beeaf38c302b5905ad57f5780/expr.ipynb\"><img src=\"data:image/png;base64,iVBORw0KGgoAAAANSUhEUgAAAAcAAAAOBAMAAAARcxsoAAAAKlBMVEX///8yMjKqqqrc3NwQEBC6\n",
       "urp2dnZmZmaIiIju7u6YmJhERERUVFQAAAAIfTrnAAAAAXRSTlMAQObYZgAAADhJREFUCNdjYGA4\n",
       "zQAEpxjQAWd7AwMDG6sDA4MRuwADwwReIJdBdwKQ2AOSvcTGwMB6wQqkdQEDAPwvCSrC7lmiAAAA\n",
       "AElFTkSuQmCC\n",
       "\" style=\"display:inline;vertical-align:middle;\" /></a></td></tr>\n",
       "<tr><td>3</td><td>Variable</td><td></td><td><a class=\"ProveItLink\" href=\"../packages/proveit/__pv_it/common/5514cc9a63b9c2ed9b63934dd5e088ab0d4f10080/expr.ipynb\"><img src=\"data:image/png;base64,iVBORw0KGgoAAAANSUhEUgAAAAoAAAASBAMAAACQmVJ4AAAAMFBMVEX////MzMwyMjIiIiJ2dna6\n",
       "urrc3NxmZmZERESIiIhUVFSYmJju7u4QEBCqqqoAAACA8xhiAAAAAXRSTlMAQObYZgAAAE1JREFU\n",
       "CNdjYGBg4LsDJBi4FzBgAydngMgC3g1AFQn8DxgYeBjiD4CEnMHS6iCC5x+I5PsDItkNQCRzAQMD\n",
       "44F8AQaGfId2IJ9rOlA/AHmNDZhMFHq1AAAAAElFTkSuQmCC\n",
       "\" style=\"display:inline;vertical-align:middle;\" /></a></td></tr>\n",
       "<tr><td>4</td><td>Operation</td><td>operator:&nbsp;5<br>operands:&nbsp;6<br></td><td><a class=\"ProveItLink\" href=\"__pv_it/exprrange_reductions/ba2e68353927af763e3f3f5b0f4b9e3a7d2429310/expr.ipynb\"><img src=\"data:image/png;base64,iVBORw0KGgoAAAANSUhEUgAAACUAAAAOBAMAAABa28jFAAAAMFBMVEX///9UVFSqqqrMzMwiIiJE\n",
       "RESYmJgyMjK6urru7u4QEBCIiIh2dnZmZmbc3NwAAABRgo0vAAAAAXRSTlMAQObYZgAAAJhJREFU\n",
       "GNNjYEABU5cwYIJaLGKfMIU4fmKK8TiAKb47t1fCxdgvMOU+YGDoesD+AS42X2FffwID5zIG3gAQ\n",
       "dwKI0J89YRoDA+9PBpYNQB7nd5DYrQsgkiuAYb4BiOEIJraC5OcfYNCHG8f5g+8H2FQGcaYHUDG2\n",
       "D5yfeBgYWDewOfLA1DEGMHwGcjilNz/cARNjVWDYu5MBAE1AJgRQJ9/+AAAAAElFTkSuQmCC\n",
       "\" style=\"display:inline;vertical-align:middle;\" /></a></td></tr>\n",
       "<tr><td>5</td><td>Literal</td><td></td><td><a class=\"ProveItLink\" href=\"../packages/proveit/numbers/multiplication/__pv_it/common/c57d60974865e78d434abd3ff22c405685c80ade0/expr.ipynb\"><img src=\"data:image/png;base64,iVBORw0KGgoAAAANSUhEUgAAAAMAAAADBAMAAACkBqiMAAAAElBMVEX///9UVFQiIiIyMjLu7u4A\n",
       "AACDZsVeAAAAAXRSTlMAQObYZgAAABFJREFUCNdjYGFgcDVgYBIAAAJWAIzwV2E9AAAAAElFTkSu\n",
       "QmCC\n",
       "\" style=\"display:inline;vertical-align:middle;\" /></a></td></tr>\n",
       "<tr><td>6</td><td>ExprTuple</td><td>7, 8</td><td><a class=\"ProveItLink\" href=\"__pv_it/exprrange_reductions/47a1519ba73d86ae0eb8fa78b316b10086535e620/expr.ipynb\"><img src=\"data:image/png;base64,iVBORw0KGgoAAAANSUhEUgAAACwAAAAUBAMAAAAEg8LyAAAAMFBMVEX///9UVFTMzMx2dna6uroQ\n",
       "EBCqqqqIiIgiIiJmZmYyMjJERETu7u6YmJjc3NwAAAC+aOQFAAAAAXRSTlMAQObYZgAAAQBJREFU\n",
       "GNNjYOC7wIAG2B4AidPIIqcjQKQcEK9DUbkSRJxiYOCdgCL8DUQwFzBwPEAWZfkDInkCGF6gKGZu\n",
       "AFNLGCqBJN/k6TEQYa4JbDeB2i0Z9gI5rg+4PkCEzyfU+QMdfIuhDWhULAPnBohw/vEDZ4FUBkMI\n",
       "AwPnHwaOAojwVIi79EHCrBsYzitAhBurCyDCQEPOGzDkQ0R5vvB9AdEeICvPJzBIgcOBgfcDzzdm\n",
       "BpCVlgwM3AW8jcwM5xcwMDBuYPgEEp4MVM/AI170sISBoweoIIGhsgYovAjJ8zlwv/I0IAWVASII\n",
       "gM7ZB1NSABc+hRQNvIgAA6nEjDTeBwwA1WI/NwU/k/MAAAAASUVORK5CYII=\n",
       "\" style=\"display:inline;vertical-align:middle;\" /></a></td></tr>\n",
       "<tr><td>7</td><td>Variable</td><td></td><td><a class=\"ProveItLink\" href=\"../packages/proveit/__pv_it/common/66c90e66682f107a881f2d666959f64e2e72ad750/expr.ipynb\"><img src=\"data:image/png;base64,iVBORw0KGgoAAAANSUhEUgAAAAsAAAAJBAMAAAAWSsseAAAAMFBMVEX///9UVFSqqqrMzMwiIiJE\n",
       "RESYmJgyMjK6urru7u4QEBCIiIh2dnZmZmbc3NwAAABRgo0vAAAAAXRSTlMAQObYZgAAAEdJREFU\n",
       "CNdjYOC7c3slAwND1wP2DwwMnMsYeAMYGHh/MrBsYGDgCmCYb8DAMP8Agz5QxXwFBnGmBwysG9gc\n",
       "eYAqpTc/3MEAAP4BD32xAXDqAAAAAElFTkSuQmCC\n",
       "\" style=\"display:inline;vertical-align:middle;\" /></a></td></tr>\n",
       "<tr><td>8</td><td>Variable</td><td></td><td><a class=\"ProveItLink\" href=\"../packages/proveit/__pv_it/common/b9fd37fc619babc74a6203459f110251586df6970/expr.ipynb\"><img src=\"data:image/png;base64,iVBORw0KGgoAAAANSUhEUgAAAAoAAAAOBAMAAADkjZCYAAAAMFBMVEX////MzMxUVFSIiIjc3NyY\n",
       "mJh2dna6urqqqqpmZmYyMjIiIiIQEBBERETu7u4AAAA59f8xAAAAAXRSTlMAQObYZgAAAE9JREFU\n",
       "CNdj4LuzgQEIuCaASP4GEFn/AERmgwiGlQytUxj4fjC7f2Xg+GfHF8DAeRIkzK18GUi+L/AvYGCI\n",
       "Z3jfkMCgy8AvkMBwg4F58gMA1VoTUDpQu/EAAAAASUVORK5CYII=\n",
       "\" style=\"display:inline;vertical-align:middle;\" /></a></td></tr>\n",
       "</table>\n"
      ],
      "text/plain": [
       "0. (a * i), ..(a * k).., (a * j)\n",
       "   core type: ExprRange\n",
       "   lambda_map: 1\n",
       "   start_index: 2\n",
       "   end_index: 3\n",
       "1. k -> (a * k)\n",
       "   core type: Lambda\n",
       "   parameter: 8\n",
       "   body: 4\n",
       "2. i\n",
       "   core type: Variable\n",
       "   sub-expressions: \n",
       "3. j\n",
       "   core type: Variable\n",
       "   sub-expressions: \n",
       "4. a * k\n",
       "   core type: Operation\n",
       "   operator: 5\n",
       "   operands: 6\n",
       "5. *\n",
       "   core type: Literal\n",
       "   sub-expressions: \n",
       "6. (a, k)\n",
       "   core type: ExprTuple\n",
       "   sub-expressions: 7, 8\n",
       "7. a\n",
       "   core type: Variable\n",
       "   sub-expressions: \n",
       "8. k\n",
       "   core type: Variable\n",
       "   sub-expressions: "
      ]
     },
     "execution_count": 7,
     "metadata": {},
     "output_type": "execute_result"
    }
   ],
   "source": [
    "a_prod_range.expr_info()"
   ]
  },
  {
   "cell_type": "markdown",
   "metadata": {},
   "source": [
    "This `lambda_map` may be accessed directly:"
   ]
  },
  {
   "cell_type": "code",
   "execution_count": 8,
   "metadata": {},
   "outputs": [
    {
     "data": {
      "text/html": [
       "<a class=\"ProveItLink\" href=\"__pv_it/exprrange_reductions/e7993ad5f36fbf5649ab72816ba40413b481f7bd0/expr.ipynb\"><img src=\"data:image/png;base64,iVBORw0KGgoAAAANSUhEUgAAAF4AAAAUCAMAAAAzz3pWAAAANlBMVEX///8oKCgNDQ3MzMxUVFSI\n",
       "iIjc3NyYmJh2dna6urqqqqpmZmYyMjIiIiIQEBBERETu7u4AAAB0zXpNAAAAAXRSTlMAQObYZgAA\n",
       "AVVJREFUOMudlduagyAMhNmFcD6E93/ZRVAkLV2kXFT7GX6GGYmMbQ6pHhZaWS+YYnhOx7R63mmi\n",
       "8Zl3z/FeLisuGvp2zfYxXa2V3DQNx6/J+LEWXsSGpfiBhrEu8o/1lqqV65RGmjenWVa5SxfNjvLg\n",
       "Wk067SDiB+svmi73WMwCabKaAi1ZLZ1FJpbpPs/enJGmSrg2IyBDNdfLIA0agz1NPapdX3moIDRb\n",
       "WC5Sf39/PBk5m/4stltX4wvQFfteQWi87C8ISDC6TR014aZf+JgqlPcp4p490goeizg5CHwxh/tx\n",
       "tWYOZl1tmFo/0kxgKrc89BxPT2mLFuvJEf5qK+OxI7QSrTg2WvbZ8aRlGZqLbn+P7aviiH5TT2lO\n",
       "s2Tr+wzzk+v4SxDNAgHApQDzVk9pnm+243VTGIMIu91ebTTXs6VtjfRcPvpt+vJz8p2SLz6G6qD/\n",
       "AfFADZJOCE8IAAAAAElFTkSuQmCC\n",
       "\" style=\"display:inline;vertical-align:middle;\" /></a>"
      ],
      "text/plain": [
       "k -> (a * k)"
      ]
     },
     "execution_count": 8,
     "metadata": {},
     "output_type": "execute_result"
    }
   ],
   "source": [
    "a_prod_range.lambda_map"
   ]
  },
  {
   "cell_type": "markdown",
   "metadata": {},
   "source": [
    "You can create the same **ExprRange** by proving `None` for the `parameter` and `body` but suppling the `lambda_map` instead:"
   ]
  },
  {
   "cell_type": "code",
   "execution_count": 9,
   "metadata": {},
   "outputs": [
    {
     "data": {
      "text/html": [
       "<strong id=\"a_prod_range_again\">a_prod_range_again:</strong> <a class=\"ProveItLink\" href=\"__pv_it/exprrange_reductions/757ee2ba5aa6513bed58722cbe0fa89d705a27ad0/expr.ipynb\"><img src=\"data:image/png;base64,iVBORw0KGgoAAAANSUhEUgAAAJMAAAAUBAMAAAB7fhJGAAAAMFBMVEX///9UVFTMzMx2dna6uroQ\n",
       "EBCqqqqIiIgiIiJmZmYyMjJERETu7u6YmJjc3NwAAAC+aOQFAAAAAXRSTlMAQObYZgAAAdVJREFU\n",
       "OMuVVDFLw0AUfjVpTGrSdisoQn+BZNNuLoKbDm5W6Q8QG0SR4tIu6iBScHBwsKuL1kkclDhIhQ7J\n",
       "qIvURXSQFoUO0sF3L02jySXFQC6579333b3v7h1A0gb/sw6RzwcHI0rTj05ArBWlpNb9iJR3KOf+\n",
       "wCSotSipRGAiLU0UrcoZPR0l9cRFkSLzkrmPkjrkokh54+YwG66ULEMIpcSiR8f5gaklA0CohkuN\n",
       "sth7bsscII0dIMoNfuZaiY6LC+IiGhjh+xgeHnEVLjykGreJsosLWQGFNphN9KqgjFQOl5ILaIwN\n",
       "J5QC7V8rVSDKEoDSA9lggW8ml8LfkU64VBx9PDVhj/1bNdJbMImCUvE6WFkWqbCmaA6XWgb1k1aY\n",
       "JmgGiIIJWjoUvaGX+IrRCapfIP2e7MyhoO1WAcYl93ipXWGo7WoXYjWvULFLlBwGDa0iuLjYwWpV\n",
       "9L4RZB81gx47KFfwmNa9EuwBUeZxRGbjZdMrQdzZBLNOPnDtq7i27JtO8nfbUxnvFCvMDqRwC+eB\n",
       "2rUALpm8wpGrDiWinPUALnDKecRsZ/uUW86NRK6rRiDQIN//5tHWr11Kk7NJNFgLBmzO1Rcr2S6F\n",
       "cyE///9CRsoPFTB50q+h5OUAAAAASUVORK5CYII=\n",
       "\" style=\"display:inline;vertical-align:middle;\" /></a><br>"
      ],
      "text/plain": [
       "a_prod_range_again: (a * i), ..(a * k).., (a * j)"
      ]
     },
     "execution_count": 9,
     "metadata": {},
     "output_type": "execute_result"
    }
   ],
   "source": [
    "from proveit import Lambda\n",
    "a_prod_range_again = ExprRange(None, None, i, j, lambda_map=Lambda(k, Mult(a, k)))"
   ]
  },
  {
   "cell_type": "code",
   "execution_count": 10,
   "metadata": {},
   "outputs": [
    {
     "data": {
      "text/plain": [
       "True"
      ]
     },
     "execution_count": 10,
     "metadata": {},
     "output_type": "execute_result"
    }
   ],
   "source": [
    "a_prod_range_again == a_prod_range"
   ]
  },
  {
   "cell_type": "markdown",
   "metadata": {},
   "source": [
    "When **ExprRange**(s) are used as *operands* of an **Operation**, it is typically formatted in a clean manner that reflects that there are an indeterminant number of *operands*:"
   ]
  },
  {
   "cell_type": "code",
   "execution_count": 11,
   "metadata": {},
   "outputs": [
    {
     "data": {
      "text/html": [
       "<strong id=\"add_with_ranges\">add_with_ranges:</strong> <a class=\"ProveItLink\" href=\"__pv_it/exprrange_reductions/a6458a6eb7a90b51818f050d3785e8c94658d3640/expr.ipynb\"><img src=\"data:image/png;base64,iVBORw0KGgoAAAANSUhEUgAAAZcAAAAUBAMAAACzG238AAAAMFBMVEX///9UVFTMzMx2dna6uroQ\n",
       "EBCqqqqIiIgiIiJmZmYyMjJERETu7u6YmJjc3NwAAAC+aOQFAAAAAXRSTlMAQObYZgAAArFJREFU\n",
       "WMOtlzFrFEEUgJ/uGXJ7c2e6AyWSHyAkXdDKRrC0sBAxkEa0MocKcl2uUEgXSKEIQpQUZhGJpYWy\n",
       "zUGMB3u2FuFsJI0QjJwgUXwze7u3b2Z2992uW8ztzc43377ZmeENQKMP+nUX2JeFhqlBIa6kVeGf\n",
       "9NqzcGLA7tag4ZYP5/RG1/O50laFv9HrZ0Fssrs1aPgMsKfXbedzpa0Sr69bGi9GE6aV0tvt0a+V\n",
       "Bqel4UMWt6g1mtCK+LTt43a5wVhpEFcpXjlmcV1uMHYr4ge2evcSM5gD++MtijurLC6y5gZjtyLe\n",
       "lpvDxpOb8ai28Q2cdWYwOg3i4Q6WFyjuNtvL2Ryx5gZjtyL+Hu8vD9zDeL5XcI7UN5nB6DRUYQnL\n",
       "LxQPXou/2Ryx5gZjtyL+GONagqocTyHrv1Wxy6lVZjAJGnxZ7KvFfofiKz78SuVMa24wOh1aEb+G\n",
       "cR3DtNQGcmT803h7UgbteN6rG543Y/R50fMeed4LeZugxW8VkVrs8xR/BuIoldOsiUYcq6JDK+L4\n",
       "4NQOBHNyk5gZDWPYLefLJGjojBf7PMW3oTJM5Uxr7pcxaGVFHD9ZsAArY+Kt3EsnmGaUBleu4isU\n",
       "/yMHMptLWjnTzGJFHBdTsAxn4nxKDJ3JNgBCq7/GBvATuv1sjlg5G4DFijjuorVWveNE1ZXD7zgj\n",
       "F8jbqOWgikDz6XQ4X2CDBjML7yCbI9ZRo7GQZ0UcZ4Ro3vv6YJwk4SC6c/RtOlExmqJxtwYNT2Xx\n",
       "kuIf7/chh0tao0axkGdF3Joa7BZPZ9bkmKYuucyEZLd4OrMW4pkpn/BTuu2lpHznGz8SiaaJ9ziJ\n",
       "Zg8KWSX+wZIo8pNxSjeOatKzNyn3P6wKNw86UCt8TGo+T3nT/ONVWavCLUfQ/XIH2HqxY3NJK+L/\n",
       "AFEtLlFHcG9gAAAAAElFTkSuQmCC\n",
       "\" style=\"display:inline;vertical-align:middle;\" /></a><br>"
      ],
      "text/plain": [
       "add_with_ranges: (a * i) + ..(a * k).. + (a * j) + b + (a * i) + ..(a * k).. + (a * j)"
      ]
     },
     "execution_count": 11,
     "metadata": {},
     "output_type": "execute_result"
    }
   ],
   "source": [
    "add_with_ranges = Add(a_prod_range, b, a_prod_range)"
   ]
  },
  {
   "cell_type": "markdown",
   "metadata": {},
   "source": [
    "Note that the *operands* are an **ExprTuple** that contains the **ExprRange**(s):"
   ]
  },
  {
   "cell_type": "code",
   "execution_count": 12,
   "metadata": {},
   "outputs": [
    {
     "data": {
      "text/html": [
       "<table><tr><th>&nbsp;</th><th>core type</th><th>sub-expressions</th><th>expression</th></tr>\n",
       "<tr><td>0</td><td>Operation</td><td>operator:&nbsp;1<br>operands:&nbsp;2<br></td><td><a class=\"ProveItLink\" href=\"__pv_it/exprrange_reductions/a6458a6eb7a90b51818f050d3785e8c94658d3640/expr.ipynb\"><img src=\"data:image/png;base64,iVBORw0KGgoAAAANSUhEUgAAAZcAAAAUBAMAAACzG238AAAAMFBMVEX///9UVFTMzMx2dna6uroQ\n",
       "EBCqqqqIiIgiIiJmZmYyMjJERETu7u6YmJjc3NwAAAC+aOQFAAAAAXRSTlMAQObYZgAAArFJREFU\n",
       "WMOtlzFrFEEUgJ/uGXJ7c2e6AyWSHyAkXdDKRrC0sBAxkEa0MocKcl2uUEgXSKEIQpQUZhGJpYWy\n",
       "zUGMB3u2FuFsJI0QjJwgUXwze7u3b2Z2992uW8ztzc43377ZmeENQKMP+nUX2JeFhqlBIa6kVeGf\n",
       "9NqzcGLA7tag4ZYP5/RG1/O50laFv9HrZ0Fssrs1aPgMsKfXbedzpa0Sr69bGi9GE6aV0tvt0a+V\n",
       "Bqel4UMWt6g1mtCK+LTt43a5wVhpEFcpXjlmcV1uMHYr4ge2evcSM5gD++MtijurLC6y5gZjtyLe\n",
       "lpvDxpOb8ai28Q2cdWYwOg3i4Q6WFyjuNtvL2Ryx5gZjtyL+Hu8vD9zDeL5XcI7UN5nB6DRUYQnL\n",
       "LxQPXou/2Ryx5gZjtyL+GONagqocTyHrv1Wxy6lVZjAJGnxZ7KvFfofiKz78SuVMa24wOh1aEb+G\n",
       "cR3DtNQGcmT803h7UgbteN6rG543Y/R50fMeed4LeZugxW8VkVrs8xR/BuIoldOsiUYcq6JDK+L4\n",
       "4NQOBHNyk5gZDWPYLefLJGjojBf7PMW3oTJM5Uxr7pcxaGVFHD9ZsAArY+Kt3EsnmGaUBleu4isU\n",
       "/yMHMptLWjnTzGJFHBdTsAxn4nxKDJ3JNgBCq7/GBvATuv1sjlg5G4DFijjuorVWveNE1ZXD7zgj\n",
       "F8jbqOWgikDz6XQ4X2CDBjML7yCbI9ZRo7GQZ0UcZ4Ro3vv6YJwk4SC6c/RtOlExmqJxtwYNT2Xx\n",
       "kuIf7/chh0tao0axkGdF3Joa7BZPZ9bkmKYuucyEZLd4OrMW4pkpn/BTuu2lpHznGz8SiaaJ9ziJ\n",
       "Zg8KWSX+wZIo8pNxSjeOatKzNyn3P6wKNw86UCt8TGo+T3nT/ONVWavCLUfQ/XIH2HqxY3NJK+L/\n",
       "AFEtLlFHcG9gAAAAAElFTkSuQmCC\n",
       "\" style=\"display:inline;vertical-align:middle;\" /></a></td></tr>\n",
       "<tr><td>1</td><td>Literal</td><td></td><td><a class=\"ProveItLink\" href=\"../packages/proveit/numbers/addition/__pv_it/common/1f38fe5cce441387feef296e2c0a2eac260bb4f30/expr.ipynb\"><img src=\"data:image/png;base64,iVBORw0KGgoAAAANSUhEUgAAAA4AAAAPBAMAAAAmOuNHAAAAHlBMVEX////u7u5UVFQQEBAiIiIy\n",
       "MjJ2dnaIiIiqqqoAAABCN83zAAAAAXRSTlMAQObYZgAAABxJREFUCNdjYECAdlLo1NBQ59DQIJL1\n",
       "AYEgEAMABwsItInrGUMAAAAASUVORK5CYII=\n",
       "\" style=\"display:inline;vertical-align:middle;\" /></a></td></tr>\n",
       "<tr><td>2</td><td>ExprTuple</td><td>4, 3, 4</td><td><a class=\"ProveItLink\" href=\"__pv_it/exprrange_reductions/88e5be36037b71fd4eaf04054422da30d2cfaf290/expr.ipynb\"><img src=\"data:image/png;base64,iVBORw0KGgoAAAANSUhEUgAAAQwAAAAUBAMAAACKUB7iAAAAMFBMVEX///9UVFTMzMx2dna6uroQ\n",
       "EBCqqqqIiIgiIiJmZmYyMjJERETu7u6YmJjc3NwAAAC+aOQFAAAAAXRSTlMAQObYZgAAAntJREFU\n",
       "SMfFVr9rFEEU/s67LHuXvc11B0okf4CYK73OJmCXFBaCiVwjWIg5/EE4bC6NPyDFQYqEiBjERhCN\n",
       "laRQ1kIWk2LXTgRlbUQLyZGTEySK82b2djc7M9zBFpnizb15b7/35r3vZgawfRzxMAImdtOrJ0b9\n",
       "ep5PuxeU1tzWiDCXHZxk0/P0+uSI35crYn6qTmPUIn8AdhhYJ2tN+5m7km/CDDJiFA4yp2HN4Xvm\n",
       "rbSzk/QJWkzaq2vzUWatptb7R/2WEynubTGXqq2GbHbXtCjJaLCWiMp1vGZyJih1o80V5rTlv4QX\n",
       "sdYZEyT0nln/ZHNtRptGMhqKWGDyE+6wjBZQpJwsWv9W3NR9/87HA5r5lsvBhCjCooPfktlubGiJ\n",
       "EEYTMF84w6/gPMvoACZ1wqMEnAltUx45uEs4fzgaZkUHNmD1JLMVpqYYg2gCxuEMn6Y0xrbgTTHF\n",
       "rIS704yLsPZpXhbqmcGxUejLZkP7/xlEC2E4w6epKV4Ni7HbS201ezC6CT08tv7S/iTzeEUHczga\n",
       "SnRunSOKeg0cNwbHh9XP69LoI7d5Lany8YtIIZm9Rk2XRjIaV4midZZ5s7wcxS50f3KS8NZFP7h4\n",
       "hY+VGJyVnZNpEtsK86ztKxBIOxQt5MAqqwes6vWvN+MrxYe5EraOs4X38B7zfrt0uno2plpb+L2/\n",
       "4SvMuc9iMUbgeCvpaFgn8Vh9mF+Vr1OJuGYn4WeoeK1YlIHvU6Xa6qtN7muaMMecvamEn5JP+eHA\n",
       "p+x9cbXhjYKM8tHhpvS92nbSz1Wl4Q4FtnvjVIUd1bOHnZDyUvr1kGv5ST/l48IfDlx9SJIqcfSP\n",
       "wHKA/7sDxQaTdZVsAAAAAElFTkSuQmCC\n",
       "\" style=\"display:inline;vertical-align:middle;\" /></a></td></tr>\n",
       "<tr><td>3</td><td>Variable</td><td></td><td><a class=\"ProveItLink\" href=\"../packages/proveit/__pv_it/common/4a5db8cc5c67969ec864bd3ea598be37cb6f5e550/expr.ipynb\"><img src=\"data:image/png;base64,iVBORw0KGgoAAAANSUhEUgAAAAkAAAAOBAMAAAAPuiubAAAALVBMVEX///+YmJjc3NyIiIhUVFR2\n",
       "dna6urqqqqpmZmYyMjIiIiIQEBBERETu7u4AAAALjtrwAAAAAXRSTlMAQObYZgAAAE9JREFUCNdj\n",
       "4D29gAEIOBtAJF8BiMy7ACKjQATDFON2BgbelxfuKTCwv2XgM2DgmMBwLwCkPK+AgU+Aoe8CA18C\n",
       "70YGBhYBHqARvM2BDAwAqXgQspq5HJAAAAAASUVORK5CYII=\n",
       "\" style=\"display:inline;vertical-align:middle;\" /></a></td></tr>\n",
       "<tr><td>4</td><td>ExprRange</td><td>lambda_map:&nbsp;5<br>start_index:&nbsp;6<br>end_index:&nbsp;7<br></td><td><a class=\"ProveItLink\" href=\"__pv_it/exprrange_reductions/757ee2ba5aa6513bed58722cbe0fa89d705a27ad0/expr.ipynb\"><img src=\"data:image/png;base64,iVBORw0KGgoAAAANSUhEUgAAAJMAAAAUBAMAAAB7fhJGAAAAMFBMVEX///9UVFTMzMx2dna6uroQ\n",
       "EBCqqqqIiIgiIiJmZmYyMjJERETu7u6YmJjc3NwAAAC+aOQFAAAAAXRSTlMAQObYZgAAAdVJREFU\n",
       "OMuVVDFLw0AUfjVpTGrSdisoQn+BZNNuLoKbDm5W6Q8QG0SR4tIu6iBScHBwsKuL1kkclDhIhQ7J\n",
       "qIvURXSQFoUO0sF3L02jySXFQC6579333b3v7h1A0gb/sw6RzwcHI0rTj05ArBWlpNb9iJR3KOf+\n",
       "wCSotSipRGAiLU0UrcoZPR0l9cRFkSLzkrmPkjrkokh54+YwG66ULEMIpcSiR8f5gaklA0CohkuN\n",
       "sth7bsscII0dIMoNfuZaiY6LC+IiGhjh+xgeHnEVLjykGreJsosLWQGFNphN9KqgjFQOl5ILaIwN\n",
       "J5QC7V8rVSDKEoDSA9lggW8ml8LfkU64VBx9PDVhj/1bNdJbMImCUvE6WFkWqbCmaA6XWgb1k1aY\n",
       "JmgGiIIJWjoUvaGX+IrRCapfIP2e7MyhoO1WAcYl93ipXWGo7WoXYjWvULFLlBwGDa0iuLjYwWpV\n",
       "9L4RZB81gx47KFfwmNa9EuwBUeZxRGbjZdMrQdzZBLNOPnDtq7i27JtO8nfbUxnvFCvMDqRwC+eB\n",
       "2rUALpm8wpGrDiWinPUALnDKecRsZ/uUW86NRK6rRiDQIN//5tHWr11Kk7NJNFgLBmzO1Rcr2S6F\n",
       "cyE///9CRsoPFTB50q+h5OUAAAAASUVORK5CYII=\n",
       "\" style=\"display:inline;vertical-align:middle;\" /></a></td></tr>\n",
       "<tr><td>5</td><td>Lambda</td><td>parameter:&nbsp;12<br>body:&nbsp;8<br></td><td><a class=\"ProveItLink\" href=\"__pv_it/exprrange_reductions/e7993ad5f36fbf5649ab72816ba40413b481f7bd0/expr.ipynb\"><img src=\"data:image/png;base64,iVBORw0KGgoAAAANSUhEUgAAAF4AAAAUCAMAAAAzz3pWAAAANlBMVEX///8oKCgNDQ3MzMxUVFSI\n",
       "iIjc3NyYmJh2dna6urqqqqpmZmYyMjIiIiIQEBBERETu7u4AAAB0zXpNAAAAAXRSTlMAQObYZgAA\n",
       "AVVJREFUOMudlduagyAMhNmFcD6E93/ZRVAkLV2kXFT7GX6GGYmMbQ6pHhZaWS+YYnhOx7R63mmi\n",
       "8Zl3z/FeLisuGvp2zfYxXa2V3DQNx6/J+LEWXsSGpfiBhrEu8o/1lqqV65RGmjenWVa5SxfNjvLg\n",
       "Wk067SDiB+svmi73WMwCabKaAi1ZLZ1FJpbpPs/enJGmSrg2IyBDNdfLIA0agz1NPapdX3moIDRb\n",
       "WC5Sf39/PBk5m/4stltX4wvQFfteQWi87C8ISDC6TR014aZf+JgqlPcp4p490goeizg5CHwxh/tx\n",
       "tWYOZl1tmFo/0kxgKrc89BxPT2mLFuvJEf5qK+OxI7QSrTg2WvbZ8aRlGZqLbn+P7aviiH5TT2lO\n",
       "s2Tr+wzzk+v4SxDNAgHApQDzVk9pnm+243VTGIMIu91ebTTXs6VtjfRcPvpt+vJz8p2SLz6G6qD/\n",
       "AfFADZJOCE8IAAAAAElFTkSuQmCC\n",
       "\" style=\"display:inline;vertical-align:middle;\" /></a></td></tr>\n",
       "<tr><td>6</td><td>Variable</td><td></td><td><a class=\"ProveItLink\" href=\"../packages/proveit/__pv_it/common/575a6156bb1c87c5beeaf38c302b5905ad57f5780/expr.ipynb\"><img src=\"data:image/png;base64,iVBORw0KGgoAAAANSUhEUgAAAAcAAAAOBAMAAAARcxsoAAAAKlBMVEX///8yMjKqqqrc3NwQEBC6\n",
       "urp2dnZmZmaIiIju7u6YmJhERERUVFQAAAAIfTrnAAAAAXRSTlMAQObYZgAAADhJREFUCNdjYGA4\n",
       "zQAEpxjQAWd7AwMDG6sDA4MRuwADwwReIJdBdwKQ2AOSvcTGwMB6wQqkdQEDAPwvCSrC7lmiAAAA\n",
       "AElFTkSuQmCC\n",
       "\" style=\"display:inline;vertical-align:middle;\" /></a></td></tr>\n",
       "<tr><td>7</td><td>Variable</td><td></td><td><a class=\"ProveItLink\" href=\"../packages/proveit/__pv_it/common/5514cc9a63b9c2ed9b63934dd5e088ab0d4f10080/expr.ipynb\"><img src=\"data:image/png;base64,iVBORw0KGgoAAAANSUhEUgAAAAoAAAASBAMAAACQmVJ4AAAAMFBMVEX////MzMwyMjIiIiJ2dna6\n",
       "urrc3NxmZmZERESIiIhUVFSYmJju7u4QEBCqqqoAAACA8xhiAAAAAXRSTlMAQObYZgAAAE1JREFU\n",
       "CNdjYGBg4LsDJBi4FzBgAydngMgC3g1AFQn8DxgYeBjiD4CEnMHS6iCC5x+I5PsDItkNQCRzAQMD\n",
       "44F8AQaGfId2IJ9rOlA/AHmNDZhMFHq1AAAAAElFTkSuQmCC\n",
       "\" style=\"display:inline;vertical-align:middle;\" /></a></td></tr>\n",
       "<tr><td>8</td><td>Operation</td><td>operator:&nbsp;9<br>operands:&nbsp;10<br></td><td><a class=\"ProveItLink\" href=\"__pv_it/exprrange_reductions/ba2e68353927af763e3f3f5b0f4b9e3a7d2429310/expr.ipynb\"><img src=\"data:image/png;base64,iVBORw0KGgoAAAANSUhEUgAAACUAAAAOBAMAAABa28jFAAAAMFBMVEX///9UVFSqqqrMzMwiIiJE\n",
       "RESYmJgyMjK6urru7u4QEBCIiIh2dnZmZmbc3NwAAABRgo0vAAAAAXRSTlMAQObYZgAAAJhJREFU\n",
       "GNNjYEABU5cwYIJaLGKfMIU4fmKK8TiAKb47t1fCxdgvMOU+YGDoesD+AS42X2FffwID5zIG3gAQ\n",
       "dwKI0J89YRoDA+9PBpYNQB7nd5DYrQsgkiuAYb4BiOEIJraC5OcfYNCHG8f5g+8H2FQGcaYHUDG2\n",
       "D5yfeBgYWDewOfLA1DEGMHwGcjilNz/cARNjVWDYu5MBAE1AJgRQJ9/+AAAAAElFTkSuQmCC\n",
       "\" style=\"display:inline;vertical-align:middle;\" /></a></td></tr>\n",
       "<tr><td>9</td><td>Literal</td><td></td><td><a class=\"ProveItLink\" href=\"../packages/proveit/numbers/multiplication/__pv_it/common/c57d60974865e78d434abd3ff22c405685c80ade0/expr.ipynb\"><img src=\"data:image/png;base64,iVBORw0KGgoAAAANSUhEUgAAAAMAAAADBAMAAACkBqiMAAAAElBMVEX///9UVFQiIiIyMjLu7u4A\n",
       "AACDZsVeAAAAAXRSTlMAQObYZgAAABFJREFUCNdjYGFgcDVgYBIAAAJWAIzwV2E9AAAAAElFTkSu\n",
       "QmCC\n",
       "\" style=\"display:inline;vertical-align:middle;\" /></a></td></tr>\n",
       "<tr><td>10</td><td>ExprTuple</td><td>11, 12</td><td><a class=\"ProveItLink\" href=\"__pv_it/exprrange_reductions/47a1519ba73d86ae0eb8fa78b316b10086535e620/expr.ipynb\"><img src=\"data:image/png;base64,iVBORw0KGgoAAAANSUhEUgAAACwAAAAUBAMAAAAEg8LyAAAAMFBMVEX///9UVFTMzMx2dna6uroQ\n",
       "EBCqqqqIiIgiIiJmZmYyMjJERETu7u6YmJjc3NwAAAC+aOQFAAAAAXRSTlMAQObYZgAAAQBJREFU\n",
       "GNNjYOC7wIAG2B4AidPIIqcjQKQcEK9DUbkSRJxiYOCdgCL8DUQwFzBwPEAWZfkDInkCGF6gKGZu\n",
       "AFNLGCqBJN/k6TEQYa4JbDeB2i0Z9gI5rg+4PkCEzyfU+QMdfIuhDWhULAPnBohw/vEDZ4FUBkMI\n",
       "AwPnHwaOAojwVIi79EHCrBsYzitAhBurCyDCQEPOGzDkQ0R5vvB9AdEeICvPJzBIgcOBgfcDzzdm\n",
       "BpCVlgwM3AW8jcwM5xcwMDBuYPgEEp4MVM/AI170sISBoweoIIGhsgYovAjJ8zlwv/I0IAWVASII\n",
       "gM7ZB1NSABc+hRQNvIgAA6nEjDTeBwwA1WI/NwU/k/MAAAAASUVORK5CYII=\n",
       "\" style=\"display:inline;vertical-align:middle;\" /></a></td></tr>\n",
       "<tr><td>11</td><td>Variable</td><td></td><td><a class=\"ProveItLink\" href=\"../packages/proveit/__pv_it/common/66c90e66682f107a881f2d666959f64e2e72ad750/expr.ipynb\"><img src=\"data:image/png;base64,iVBORw0KGgoAAAANSUhEUgAAAAsAAAAJBAMAAAAWSsseAAAAMFBMVEX///9UVFSqqqrMzMwiIiJE\n",
       "RESYmJgyMjK6urru7u4QEBCIiIh2dnZmZmbc3NwAAABRgo0vAAAAAXRSTlMAQObYZgAAAEdJREFU\n",
       "CNdjYOC7c3slAwND1wP2DwwMnMsYeAMYGHh/MrBsYGDgCmCYb8DAMP8Agz5QxXwFBnGmBwysG9gc\n",
       "eYAqpTc/3MEAAP4BD32xAXDqAAAAAElFTkSuQmCC\n",
       "\" style=\"display:inline;vertical-align:middle;\" /></a></td></tr>\n",
       "<tr><td>12</td><td>Variable</td><td></td><td><a class=\"ProveItLink\" href=\"../packages/proveit/__pv_it/common/b9fd37fc619babc74a6203459f110251586df6970/expr.ipynb\"><img src=\"data:image/png;base64,iVBORw0KGgoAAAANSUhEUgAAAAoAAAAOBAMAAADkjZCYAAAAMFBMVEX////MzMxUVFSIiIjc3NyY\n",
       "mJh2dna6urqqqqpmZmYyMjIiIiIQEBBERETu7u4AAAA59f8xAAAAAXRSTlMAQObYZgAAAE9JREFU\n",
       "CNdj4LuzgQEIuCaASP4GEFn/AERmgwiGlQytUxj4fjC7f2Xg+GfHF8DAeRIkzK18GUi+L/AvYGCI\n",
       "Z3jfkMCgy8AvkMBwg4F58gMA1VoTUDpQu/EAAAAASUVORK5CYII=\n",
       "\" style=\"display:inline;vertical-align:middle;\" /></a></td></tr>\n",
       "</table>\n"
      ],
      "text/plain": [
       "0. (a * i) + ..(a * k).. + (a * j) + b + (a * i) + ..(a * k).. + (a * j)\n",
       "   core type: Operation\n",
       "   operator: 1\n",
       "   operands: 2\n",
       "1. +\n",
       "   core type: Literal\n",
       "   sub-expressions: \n",
       "2. (a * i, ..a * k.., a * j, b, a * i, ..a * k.., a * j)\n",
       "   core type: ExprTuple\n",
       "   sub-expressions: 4, 3, 4\n",
       "3. b\n",
       "   core type: Variable\n",
       "   sub-expressions: \n",
       "4. (a * i), ..(a * k).., (a * j)\n",
       "   core type: ExprRange\n",
       "   lambda_map: 5\n",
       "   start_index: 6\n",
       "   end_index: 7\n",
       "5. k -> (a * k)\n",
       "   core type: Lambda\n",
       "   parameter: 12\n",
       "   body: 8\n",
       "6. i\n",
       "   core type: Variable\n",
       "   sub-expressions: \n",
       "7. j\n",
       "   core type: Variable\n",
       "   sub-expressions: \n",
       "8. a * k\n",
       "   core type: Operation\n",
       "   operator: 9\n",
       "   operands: 10\n",
       "9. *\n",
       "   core type: Literal\n",
       "   sub-expressions: \n",
       "10. (a, k)\n",
       "    core type: ExprTuple\n",
       "    sub-expressions: 11, 12\n",
       "11. a\n",
       "    core type: Variable\n",
       "    sub-expressions: \n",
       "12. k\n",
       "    core type: Variable\n",
       "    sub-expressions: "
      ]
     },
     "execution_count": 12,
     "metadata": {},
     "output_type": "execute_result"
    }
   ],
   "source": [
    "add_with_ranges.expr_info()"
   ]
  },
  {
   "cell_type": "markdown",
   "metadata": {},
   "source": [
    "For convenience, there is a `var_range` method for creating an **ExprRange** over an indexed variable."
   ]
  },
  {
   "cell_type": "code",
   "execution_count": 13,
   "metadata": {},
   "outputs": [
    {
     "data": {
      "text/html": [
       "<a class=\"ProveItLink\" href=\"__pv_it/exprrange_reductions/787727f81f9180661d3864875ecab8ab340921c50/expr.ipynb\"><img src=\"data:image/png;base64,iVBORw0KGgoAAAANSUhEUgAAAFoAAAANBAMAAADbDWR+AAAAMFBMVEX///8QEBBmZmaqqqrMzMxE\n",
       "REQyMjIiIiKYmJh2dna6urrc3NxUVFSIiIju7u4AAAA6P00QAAAAAXRSTlMAQObYZgAAANBJREFU\n",
       "KM9jYHh7Z9fNCwz4AJIKvgkctewJDCwBOBVDVYAB5wPOf1wbWJQKcKqGqIDqZGAFGcuFWzVUBRTw\n",
       "X8CvGqoCCvwdCKkGqeDQ8L3EwMD84D4D7wN8qiEqOBY2MG5gWG8Qz7ADYjbfN6Dc+wQkBpiAqNh3\n",
       "nYH/AcObu281GqAuKX/AwMB+AMioYYAy2OsYYCrOMiyEWwdWzfwAwxl2cJYIgyYL3HEg1ZyYjp4A\n",
       "Y3B/YKgygbHV/wBD6S1mWMPDjusAw80GFLkGDNUcqFwAM81EKjwVshUAAAAASUVORK5CYII=\n",
       "\" style=\"display:inline;vertical-align:middle;\" /></a>"
      ],
      "text/plain": [
       "x_{1}, ..x_{_a}.., x_{n}"
      ]
     },
     "execution_count": 13,
     "metadata": {},
     "output_type": "execute_result"
    }
   ],
   "source": [
    "from proveit import var_range, IndexedVar\n",
    "var_range(x, one, n)"
   ]
  },
  {
   "cell_type": "markdown",
   "metadata": {},
   "source": [
    "Because of the `relabeling` freedom of **Lambda** expressions (alpha conversion), this is treated as `__eq__` to any similar **ExprRange** using any `parameter`."
   ]
  },
  {
   "cell_type": "code",
   "execution_count": 14,
   "metadata": {},
   "outputs": [
    {
     "data": {
      "text/plain": [
       "True"
      ]
     },
     "execution_count": 14,
     "metadata": {},
     "output_type": "execute_result"
    }
   ],
   "source": [
    "var_range(x, one, n) == ExprRange(k, IndexedVar(x, k), one, n)"
   ]
  },
  {
   "cell_type": "code",
   "execution_count": 15,
   "metadata": {},
   "outputs": [
    {
     "data": {
      "text/plain": [
       "True"
      ]
     },
     "execution_count": 15,
     "metadata": {},
     "output_type": "execute_result"
    }
   ],
   "source": [
    "var_range(x, one, n) == ExprRange(a, IndexedVar(x, a), one, n)"
   ]
  },
  {
   "cell_type": "markdown",
   "metadata": {},
   "source": [
    "Also note that there are a variety of variable ranges already defined for convenience \n",
    "in <a class=\"ProveItLink\" href=\"../packages/proveit/core_expr_types/_theory_nbs_/common.ipynb\">proveit.core\\_expr\\_types.\\_theory\\_nbs\\_/common.ipynb</a>:"
   ]
  },
  {
   "cell_type": "code",
   "execution_count": 16,
   "metadata": {},
   "outputs": [],
   "source": [
    "from proveit.core_expr_types import a_i_to_j, a_1_to_n, x_1_to_n"
   ]
  },
  {
   "cell_type": "code",
   "execution_count": 17,
   "metadata": {},
   "outputs": [
    {
     "data": {
      "text/html": [
       "<a class=\"ProveItLink\" href=\"__pv_it/exprrange_reductions/f3e010faa3833812f93bc60d5cde43bac7da44900/expr.ipynb\"><img src=\"data:image/png;base64,iVBORw0KGgoAAAANSUhEUgAAASUAAAAVBAMAAADyROVdAAAAMFBMVEX///9UVFTMzMx2dna6uroQ\n",
       "EBCqqqqIiIgiIiJmZmYyMjJERETu7u6YmJjc3NwAAAC+aOQFAAAAAXRSTlMAQObYZgAAAqFJREFU\n",
       "SMfNVs9r1EAU/jbZbvdHst1bwIP0IiJCjadSEO1l6Z4qiDerLJ5ElhqtUhcL3YJYkYKFHqxIcfEP\n",
       "0N56EDVVtILg5tiLEsGDBYVYoYLswfmRzWQ3zVQvJe+QvJn3vXlf5r3MPKDoIEkySR8fEkUJKZc8\n",
       "niaLk9YE9MVkccIwkHUTxukt8C1hlJAfRZ28iksPJmSwHvvWyA1bumwPQJs+ODYsddi4+nXK8nV1\n",
       "ES/Iq+zmPTB2uwu34wkfpS/gGaCsxsI5QMgbbFr3gKPxdW3q89mmP9CbuEOmziNHIgzFunA7qn7C\n",
       "HTyC8rARXxEUEJITOGWP48hyrINqq+10p64zDZwFcm1kLcnO9tgf25gnmxHPiQOE2HhOX5X4fUJB\n",
       "7LriUU59q2gNSjj12M9B25Zy4oCw/JZzAgasMCeSu5aJK8BYKc6B27U6z532CxlPxokD9JXDQYEq\n",
       "23txOka+2fcgC5Mab1VxIOOa7VhOzJ5L8yrUdpBqTso4MYBedvr8Eqn1e5iRccrYs+i3fQ9S4yNA\n",
       "wdLn1OK7BrQ/lAEJzZRgxOz4qJb41Bo2SybjRI0CHygM8P0mBmw2Tu8UPHrRV0K4bq/T1Vf4Ae6B\n",
       "nMmQxrUv10lk4C6Zy9IczsF/ZBc6dhQcDlifHjJGGSdqFHimCICBMh9rxkz9k5+7IIDwWqAOGytk\n",
       "ce6RHxR3S+s13cTIvtZEHbphAMtdbZc0dLQzWFK6VqxgjwDc433oDr6skoMimmsz0A4hDMg0uozB\n",
       "UROc/R5uX+xa8RLkAXwPeuK/9KfWT5IzPlqw4ie9hRCguPzTChuDWyLYxxKmnPCKW/cNeQDuQXuV\n",
       "rp4u2nLqQl2LAPToVzvysTQAkwKtpX/sfVPjE/vSFnz+n570+L41Wn8BF8DVOn/6pM4AAAAASUVO\n",
       "RK5CYII=\n",
       "\" style=\"display:inline;vertical-align:middle;\" /></a>"
      ],
      "text/plain": [
       "(a_{i}, ..a_{_a}.., a_{j}, a_{1}, ..a_{_a}.., a_{n}, x_{1}, ..x_{_a}.., x_{n})"
      ]
     },
     "execution_count": 17,
     "metadata": {},
     "output_type": "execute_result"
    }
   ],
   "source": [
    "ExprTuple(a_i_to_j, a_1_to_n, x_1_to_n)"
   ]
  },
  {
   "cell_type": "markdown",
   "metadata": {},
   "source": [
    "### Showing the explicit parameterization\n",
    "\n",
    "Some **ExprRanges** can be ambiguous in the default formatting style.  For example, the following expression are different but have identical default formatting"
   ]
  },
  {
   "cell_type": "code",
   "execution_count": 18,
   "metadata": {},
   "outputs": [
    {
     "data": {
      "text/html": [
       "<strong id=\"range__add1__0_to_n\">range__add1__0_to_n:</strong> <a class=\"ProveItLink\" href=\"__pv_it/exprrange_reductions/4f18797b603020c0fbd44e6aef4fc0c4b5707eb50/expr.ipynb\"><img src=\"data:image/png;base64,iVBORw0KGgoAAAANSUhEUgAAAKsAAAAUBAMAAAAAWtCKAAAAMFBMVEX///9UVFTMzMx2dna6uroQ\n",
       "EBCqqqqIiIgiIiJmZmYyMjJERETu7u6YmJjc3NwAAAC+aOQFAAAAAXRSTlMAQObYZgAAAbRJREFU\n",
       "OMudlT9Iw0AUxj+bmKbNH4vgIghOzq2L6NTRUbCjQzcXUbfiINTB4iDSTRCEujh0EDcnpSLFQoUW\n",
       "NxfN6KIVFIVSwZdLW9vmXSoe5F2Oj9+X8N7dO8Cugx/rCBwvUkWAVUDZnmXUESfI1TyXSgI8A05R\n",
       "GbDQVggsBNlG+Y92QCsPawlK22LVm64TLYpzQbYP/ctBUHdgxKC1+lRY7rocZHvA2nbBZ2AsBvWT\n",
       "UaNJuaudDbAlcAuo5aF+MaqSl9uGSVMTr5lD8OAl0IgjxNlaATUzaFsqxgVqDg/myDaP0Dujalm5\n",
       "rZ4GZvQCGtM8mPpNwkKxuFssnnTV0JvcdpTyXqol8QQeTImSaVzJhtliA5gED1ISjHNvNaiqQ5KA\n",
       "I+Db5EEqmf84/K1kWKb9rvDgPE05lAcyH3bVSJxCrdAOZrP3xd189gf9zj0PLtJ0kxnvT1FkonlM\n",
       "u9r9lr7vhhiFnc7LXslLED32VJoHdYc7LGJURFzzt5OS/PB2QKvvKN31LrxWE/fZKkyr8YFX0o4q\n",
       "KmZu+oRbUTN5NxZgVVpsAVp+oT6kjQtQeuk8/vfSIfAHyh6Us0AXjlkAAAAASUVORK5CYII=\n",
       "\" style=\"display:inline;vertical-align:middle;\" /></a><br>"
      ],
      "text/plain": [
       "range__add1__0_to_n: (0 + 1), ..(k + 1).., (n + 1)"
      ]
     },
     "execution_count": 18,
     "metadata": {},
     "output_type": "execute_result"
    }
   ],
   "source": [
    "range__add1__0_to_n = ExprRange(k, Add(k, one), zero, n)"
   ]
  },
  {
   "cell_type": "code",
   "execution_count": 19,
   "metadata": {},
   "outputs": [
    {
     "data": {
      "text/html": [
       "<strong id=\"range__0_plus_1__to__n_plus_1\">range__0_plus_1__to__n_plus_1:</strong> <a class=\"ProveItLink\" href=\"__pv_it/exprrange_reductions/4a1a06c8bab11f23f26f9ff505793a91711e42b70/expr.ipynb\"><img src=\"data:image/png;base64,iVBORw0KGgoAAAANSUhEUgAAAKsAAAAUBAMAAAAAWtCKAAAAMFBMVEX///9UVFTMzMx2dna6uroQ\n",
       "EBCqqqqIiIgiIiJmZmYyMjJERETu7u6YmJjc3NwAAAC+aOQFAAAAAXRSTlMAQObYZgAAAbRJREFU\n",
       "OMudlT9Iw0AUxj+bmKbNH4vgIghOzq2L6NTRUbCjQzcXUbfiINTB4iDSTRCEujh0EDcnpSLFQoUW\n",
       "NxfN6KIVFIVSwZdLW9vmXSoe5F2Oj9+X8N7dO8Cugx/rCBwvUkWAVUDZnmXUESfI1TyXSgI8A05R\n",
       "GbDQVggsBNlG+Y92QCsPawlK22LVm64TLYpzQbYP/ctBUHdgxKC1+lRY7rocZHvA2nbBZ2AsBvWT\n",
       "UaNJuaudDbAlcAuo5aF+MaqSl9uGSVMTr5lD8OAl0IgjxNlaATUzaFsqxgVqDg/myDaP0Dujalm5\n",
       "rZ4GZvQCGtM8mPpNwkKxuFssnnTV0JvcdpTyXqol8QQeTImSaVzJhtliA5gED1ISjHNvNaiqQ5KA\n",
       "I+Db5EEqmf84/K1kWKb9rvDgPE05lAcyH3bVSJxCrdAOZrP3xd189gf9zj0PLtJ0kxnvT1FkonlM\n",
       "u9r9lr7vhhiFnc7LXslLED32VJoHdYc7LGJURFzzt5OS/PB2QKvvKN31LrxWE/fZKkyr8YFX0o4q\n",
       "KmZu+oRbUTN5NxZgVVpsAVp+oT6kjQtQeuk8/vfSIfAHyh6Us0AXjlkAAAAASUVORK5CYII=\n",
       "\" style=\"display:inline;vertical-align:middle;\" /></a><br>"
      ],
      "text/plain": [
       "range__0_plus_1__to__n_plus_1: (0 + 1), ..k.., (n + 1)"
      ]
     },
     "execution_count": 19,
     "metadata": {},
     "output_type": "execute_result"
    }
   ],
   "source": [
    "range__0_plus_1__to__n_plus_1 = ExprRange(k, k, Add(zero, one), Add(n, one))"
   ]
  },
  {
   "cell_type": "code",
   "execution_count": 20,
   "metadata": {},
   "outputs": [
    {
     "data": {
      "text/plain": [
       "False"
      ]
     },
     "execution_count": 20,
     "metadata": {},
     "output_type": "execute_result"
    }
   ],
   "source": [
    "range__add1__0_to_n==range__0_plus_1__to__n_plus_1"
   ]
  },
  {
   "cell_type": "markdown",
   "metadata": {},
   "source": [
    "We have an alternate *style* for formatting an **ExprRange** without this ambiguity.  This style is called *explicit parameterization*.  In between the first and last of the range, it shows the body of the lambda map of the **ExprRange**."
   ]
  },
  {
   "cell_type": "code",
   "execution_count": 21,
   "metadata": {},
   "outputs": [
    {
     "data": {
      "text/html": [
       "<a class=\"ProveItLink\" href=\"__pv_it/exprrange_reductions/d83f3b72aae2840c1145673cbb149eafd0b0745f0/expr.ipynb\"><img src=\"data:image/png;base64,iVBORw0KGgoAAAANSUhEUgAAAO0AAAAUBAMAAACT/qdtAAAAMFBMVEX///9UVFTMzMx2dna6uroQ\n",
       "EBCqqqqIiIgiIiJmZmYyMjJERETu7u6YmJjc3NwAAAC+aOQFAAAAAXRSTlMAQObYZgAAAnxJREFU\n",
       "SMeVls9rE0EUx7/Jptuk2U2D4rX2P3D1Iu0p4MWbPfQgIpiL1IPY3CT4qx4UEZEt4lGIImL3ILmL\n",
       "siKlxSjNSagHXU96kYYaIpQgvtmNyc7Mm2iXEHZnP/M+k5e38xYotcEfdqSPGWFc0kZ+YCzbAqxr\n",
       "x7jbM/oQwa3TbKyMukqnafTG7AvgGTbVWedD4J0+g2Cs6Zk5S5qGMjgV8VkcsK4PdwHWYNbSYK0H\n",
       "D5PXqqmTCAZ6wxCD+2+O9un7uMJuyzqVzUcolmH3JS/whbzOguolGLm+GguuGFpX2Pusd8h+B6bL\n",
       "yPUYL56qXoJhrfCxpipyBa6M8RJbB7Z85H5x3jnVWxdzfHs7YmJZvoRO0uWJmW/1Gnj2FbDjIct6\n",
       "P6legrFVvX6qzcRy5cIqEuO9rDm/wbO3yesj+5PzXlC9BGN5I/zAxbLlxOaryFbvorRrYBdHeZ4P\n",
       "gltB8HjkPaJ6CcbDJJ9WEDw/EwTlYaxsR0InKnCcLtyOgV2M68pm64r13rxSY2tF98LuINMwsJS6\n",
       "YjO50rwnmTw73VKX9ea0PKPQwHQ75FkqFX3fGFNXbsfpWfi/uprwsBx6PDsX/4z1WcV7Q3gfiK1r\n",
       "T9RwQ3ziByvTxK7qnRSxCt4QFKx4rHYqmHdneVbk8u3lA5C9q+fWaL1PxOkdWkG+LD5x4otV1K/K\n",
       "3sKhvUf0XAtBAubvJWkn/OtHA5uXtu8lqaPE/5gdyvskswfFx2bq/KJ5n/zLutI28z59kfQFS+0L\n",
       "o3WF6at0X/C0vqCzr41tMumDG+khM5zug45YcDEaz7aMtxNJW+n7hiOtcf/R92PW+Ori7us95/M+\n",
       "3nOI/QMva+P0mhnN1wAAAABJRU5ErkJggg==\n",
       "\" style=\"display:inline;vertical-align:middle;\" /></a>"
      ],
      "text/plain": [
       "(0 + 1), ..(k + 1).., (n + 1)"
      ]
     },
     "execution_count": 21,
     "metadata": {},
     "output_type": "execute_result"
    }
   ],
   "source": [
    "range__add1__0_to_n.with_explicit_parameterization()"
   ]
  },
  {
   "cell_type": "code",
   "execution_count": 22,
   "metadata": {},
   "outputs": [
    {
     "data": {
      "text/html": [
       "<a class=\"ProveItLink\" href=\"__pv_it/exprrange_reductions/3d825b255d55151f70361fbed700c4e525e2c4250/expr.ipynb\"><img src=\"data:image/png;base64,iVBORw0KGgoAAAANSUhEUgAAALMAAAAUBAMAAAA0IxGWAAAAMFBMVEX///9UVFTMzMx2dna6uroQ\n",
       "EBCqqqqIiIgiIiJmZmYyMjJERETu7u6YmJjc3NwAAAC+aOQFAAAAAXRSTlMAQObYZgAAAj1JREFU\n",
       "OMullc9LFGEYx7/urLO77szuYkSHQPc/cOqieVro0k0PXoqgvYRdsr2JoLQdkuggEx06JWNE5BzE\n",
       "S3UIZSIkqWD3FNQhDQK9iEuJgWzR88xIzvvuM3ro4WWY531nPu/zvs8voNCELOYmTpKdxJUJfnwA\n",
       "jJnz0nKfplsv6trEciK6i+1aAp5hXbfwegC817/vcTVdPpd5lXb1ANuFPQrDi2bHD8051U9oo6b9\n",
       "U6yq+meVePj5m3Nteg4C2U3kSzDbChrYILQ1qqFHAlWfE9GwGbYGbJMxJaT3BTSeaughVS3Uj0H3\n",
       "VDAFNFykf0noCxp6ETfnY2qGrv5i39ZUTUIbLlaAXQcpEf1FC4j9zPffMT1PYeu8rll/JLTtYZbQ\n",
       "LlI/JfQNzfPtaSueBNkqUtX7KPyQ0GYdY0cXMuz7d31/4Qg9oKJzl1W9uwLL2oPd4vP7/vMrvl/6\n",
       "h061GE1uNEU3aujsmVc6GmYLXZ5kNaHpQvLLkdaBvqSiG5XdCtQLQc5DsRkI6HSd3diZMrIbN9Co\n",
       "Opobux3cChzZjRxgs1gra+jbjH7IYXHA9no8zqJYdkiPRhhfoHMM22UVnWF0zgkP/XayFyr6wbVF\n",
       "MukJv96jTbIlHi+ReRTgDnjwLJ2Zf//2Sb3r3OmDx5QyZU70mIwrcRxmmxmIJShITvRQ1sPyFJOP\n",
       "cSUqT4ZY3YzO8mQpNlB5wmpizY2K6jtxLZzNJzcLLqrcChIk2lRuQs0TWkG4a2IDs/+ngX0F/gIJ\n",
       "4LFIXxFf0QAAAABJRU5ErkJggg==\n",
       "\" style=\"display:inline;vertical-align:middle;\" /></a>"
      ],
      "text/plain": [
       "(0 + 1), ..k.., (n + 1)"
      ]
     },
     "execution_count": 22,
     "metadata": {},
     "output_type": "execute_result"
    }
   ],
   "source": [
    "range__0_plus_1__to__n_plus_1.with_explicit_parameterization()"
   ]
  },
  {
   "cell_type": "markdown",
   "metadata": {},
   "source": [
    "Because it is less compact and not typically necessary, this is not the default style for LaTeX formatting.  However, it is the default for \"string\" formatting that gets used in error messages for the sake of clarity and making the debugging process a little easier."
   ]
  },
  {
   "cell_type": "markdown",
   "metadata": {},
   "source": [
    "### Simple repetitions\n",
    "\n",
    "When an **ExprRange** has a lambda *body* that is independent of its parameter, it requires special formatting to avoid ambiguity.  The simple case in when the start index is $1$."
   ]
  },
  {
   "cell_type": "code",
   "execution_count": 23,
   "metadata": {},
   "outputs": [
    {
     "data": {
      "text/html": [
       "<a class=\"ProveItLink\" href=\"__pv_it/exprrange_reductions/c7da3273fbf97c46cb38289ca953430b7f7ca7800/expr.ipynb\"><img src=\"data:image/png;base64,iVBORw0KGgoAAAANSUhEUgAAAPkAAAAUBAMAAAC9u4b/AAAAMFBMVEX////MzMxUVFR2dna6uroQ\n",
       "EBCqqqqIiIgiIiJmZmYyMjJERETu7u6YmJjc3NwAAACgK8IjAAAAAXRSTlMAQObYZgAAAqBJREFU\n",
       "SMe1VkFrE0EU/rZN0pjOJvkDkkIv9tBmqQdpLgaLWLyItEUPgrlIEIpdDBR60aIotIguPQgRxRDo\n",
       "IRG192JdBKlSIQHBkEN1EcEeClYM2lIwzswmNpvMTojUZbP7Zr5535d58/bNAMEixNcVHMgl518X\n",
       "ACS9EkaXdSDqcv5n9HfJdKKv0F0ByXSs5BH0SflVA6Q/WkeT9ushMAkc61j9bWuXnN/P5v+pCT0P\n",
       "RC287li93Nol59+EAH1uIhpGIN6huG+3tU/OPytC6XXPRLfhJBod+jqrs9VdmolZwUfD1unx8jDN\n",
       "aGYimdJR3kknlJmSI1/k/C/EqOcHXbKmtNNWdPKbGd77heKY6bmAyTiZB5jpu4tFYJ6n+Fyjk5z/\n",
       "thj199FAOmigJBYQ/M6sAAXGgXPIAtNxbvrO4ozJ1E+a0Bu95PwT+2gsn7+Vz2c5mmZy286PlFSg\n",
       "8q5AH5TdjY1B5ICCYZtK6rHF1P171xxecv4J4X/rMVrV4dtGF1+MgAHfT2ZQ9dAyN8kTK8LVSaxq\n",
       "uKgL+MWRuYygBY8z8jiUQajIRgY0KL9q6nTuzOydQ2SLqutbUCvtI1/nF2aFoqHHask6r4ZpU7PV\n",
       "sQCs1dadmSGKfQlnYZwCBttm3V/+Eda63oRuHh05QufKlAoZ+0Hvb3HE1DBLGRq3SIJWrCWL3LRN\n",
       "7zKOHzYfwKBZt1obz13l/GO0sXgxV3RWg2p1h06RK92xM5TedOjnD+xrebmXABlImciWrtKKxMzg\n",
       "QGrtKbr6rdHS+3htPHeV8/sdO1mysfGGP6ckxS0nr31T9Urryq86MvRdY8PeZbR/V9fQln/Vzdfe\n",
       "YYkuob8hFbdd5fzrbmgvj5kqoT9RHZKpq66ni31+15PPx/98sqL8fwDVgw+2lMVdpgAAAABJRU5E\n",
       "rkJggg==\n",
       "\" style=\"display:inline;vertical-align:middle;\" /></a>"
      ],
      "text/plain": [
       "(1 + 2), ..n repeats.., (1 + 2)"
      ]
     },
     "execution_count": 23,
     "metadata": {},
     "output_type": "execute_result"
    }
   ],
   "source": [
    "ExprRange(k, Add(one, two), one, n)"
   ]
  },
  {
   "cell_type": "markdown",
   "metadata": {},
   "source": [
    "Otherwise, the start and end indices will be provided when the **ExprRange** is formatted."
   ]
  },
  {
   "cell_type": "code",
   "execution_count": 24,
   "metadata": {},
   "outputs": [
    {
     "data": {
      "text/html": [
       "<a class=\"ProveItLink\" href=\"__pv_it/exprrange_reductions/c03c60483c9c211103f74f4e39f31bb5f04ee7380/expr.ipynb\"><img src=\"data:image/png;base64,iVBORw0KGgoAAAANSUhEUgAAAQcAAAAUBAMAAABysOUVAAAAMFBMVEX////MzMxUVFR2dna6uroQ\n",
       "EBCqqqqIiIgiIiJmZmYyMjJERETu7u6YmJjc3NwAAACgK8IjAAAAAXRSTlMAQObYZgAAA01JREFU\n",
       "SMe9lk9IFFEcx7+z/5zdHdeFKLrtgkRB1C4ZmF5aOnXToiBDaC9hXVIoEglqUYq62KQW2B/YLCHn\n",
       "kFsEElEORZgVuIc62KHmFHYoNUVMpe392V1nxjcrLdFj9u3Me/P7/T7ze7/f+z0glIW4+Qz8w/bd\n",
       "aeIU7d6JZsZvPQJ22kf3nXNQtF30Dc3mJyUjeEXpfxaGi37rQ/I7rttmo9ibwFubjNTckBBD7GC9\n",
       "xzJWGTU/BQw7Fmkv4Z6HkibvqlCqYwWIFv7n1+FthLvNKuPPlPb4eIm5SWJy10rBSXnFt4HDQC0g\n",
       "U298sUF4U3D9htJoVeRSS0NMlpjrpr6xQxwBYgZeA1MQQARW4JoF7v8VhO+X81woJYIY1hELI5BA\n",
       "hwiCNJlI1FlD4npT3+DZekOpPZ2QBq+1b/W0P+ER1MGUTi72J/GqfTd/e8wSxBWqCIK0qzrcKp47\n",
       "QDTEgU82T0ThvTGR3WxgBPIIps/gIxt3e/i6XSGg3QhyC6rXnPrBrBjCM0eG07jkANFJfifWQASI\n",
       "W7uASDjYiKoMImwr+epPFyDkOKRZlhtGVdIkKifFEDJJIV8Kh1Yh6jXtoqYN8Eyg/oushYhCWgCq\n",
       "4sE06TAdpuN6VVsBIkKMzbElQoM57b2JIoRb0x4c1TSewP10mWfMEGZPsFARQKjwzROITDADYppD\n",
       "oFUvQLQSY8v87T0QQ5g9wUKFQIiXw6fiB7B/LUSce0K1QDxGHqKNeiKfJENYfzlOImTAk3IIzA3A\n",
       "eVFgEgg0ERclzBDKgpvND5BoVCHN85RZwLqBKcVRYdDAZGl4wQYR6qrpISHYS5UtkW4iTS9iWCb+\n",
       "2xjGPXCICIPwzPDqdBOqdIBxUkMrVJRfoGlInG+HmKqp20bCL85c3nNsKGvdrHK5HIG4S+8v6yyI\n",
       "5WgotvxhdDmJUG9dQor93DR60D3cxUsHl3ZVG/hW05ff41Mswzq5AuJy+Lcs3bFtVrncIjEW5tt2\n",
       "sbVYyliKSehllW65uL0yBd2WvdVSlN6wAmZq780PvIC5y0GQ9HzMFhRY6opi+S5SwPDCURMv5WPl\n",
       "QEzHnxbvmYKg4wmJlnLxoYY1jpctB8LVsSqWdTzUoIjneLyr/D/Hu8/AHwX2/Z3/U0xvAAAAAElF\n",
       "TkSuQmCC\n",
       "\" style=\"display:inline;vertical-align:middle;\" /></a>"
      ],
      "text/plain": [
       "(1 + 2), ..from i to j.., (1 + 2)"
      ]
     },
     "execution_count": 24,
     "metadata": {},
     "output_type": "execute_result"
    }
   ],
   "source": [
    "ExprRange(k, Add(one, two), i, j)"
   ]
  },
  {
   "cell_type": "markdown",
   "metadata": {},
   "source": [
    "### Nested ExprRanges\n",
    "\n",
    "**ExprRange**s may be nested to express a range of ranges representing elements of a single **ExprTuple**.  For clarity of the expression, ellipses are doubled to express a range of ranges (or tripled for a range of ranges of ranges, etc.)."
   ]
  },
  {
   "cell_type": "code",
   "execution_count": 25,
   "metadata": {},
   "outputs": [
    {
     "data": {
      "text/html": [
       "<strong id=\"double_nested\">double_nested:</strong> <a class=\"ProveItLink\" href=\"__pv_it/exprrange_reductions/6a02d66fe9fe178434b3f2a5d3001435d533b2930/expr.ipynb\"><img src=\"data:image/png;base64,iVBORw0KGgoAAAANSUhEUgAAAYMAAAAUBAMAAACdXkxuAAAAMFBMVEX////MzMxUVFR2dna6uroQ\n",
       "EBCqqqqIiIgiIiJmZmYyMjJERETu7u6YmJjc3NwAAACgK8IjAAAAAXRSTlMAQObYZgAAAtpJREFU\n",
       "SMelVzFoFEEU/ckmd3vJ7pnKNoLYCMYljZzVgs2VgikF0wgpgrlOrvJIcYiIHKYQBGEFG5tgZyE5\n",
       "FkGUS3FnI5jCBBuv0ZyQ6ojizJ/dnZvsn8mO+XCz7Nx/f97b+X/3D0B1ADm7B0b7ScyVDqC4UWue\n",
       "FoHECKa7xB/TxmjeG2p2yULCLthHoDHIdJv97sYTD+M2IxmZgs0dCC/VehYStnMznEHPEoOPkzH1\n",
       "O+BdvColvF8+ZuM1U7CvqZdiTqOwArbmCSLIwBghh0mMMXX5TuxP7ILPyX0wMXiSeqk0bhaW4Obz\n",
       "lDMwRnA1uc2YDoGSMBca6qpFSoBXhSUMgZRgjDDUZXUITVKC09EHK3dUCTPLv+4/Y9daYQlNCVIk\n",
       "1GwwN5Z+NBvIdIeU4BvqeX6gSnDm30KfbfNeYQk7EqRI2LPBBO8a3l9k2pYSPCmh1DJk5aqUwHHn\n",
       "3QgOFwDWCktoS1CyqGCwZoGZWn0E1d/IdEVK6EeZhKmRPthsmEnwxlxGP4R9dl0sLGFFgpJFBYNF\n",
       "C4znHYE/QqYTEtwLthJgkw8bAJdtJaSgZNFCElRMaQTTETJtk7UwUzCR0J4D/GF7W7dJpBSk1ELd\n",
       "BlOJ4Nwg5kzPXs5wC0rHjmU5pyCbclYxswFsxAFnii+yBxMSypxcJUhTbpzma3aHL9yylFA9Aif6\n",
       "DLCVFkeGIcB4V5Og1JDBlh6cxxyGcN1f4Ez55j298zprAyuXxi/YB4MXvvs4yXbMPRwexiLJhFfy\n",
       "XWhB9QpLrpeQOEiMCt5MY9YlKDHBIItwAkxi2MT3L8iU/nB/wnE93xDHSYNBNFytzMFk6/pmQRvB\n",
       "gOFM6fZJtHlBbt5J2jzCRJPmnFYHgb5l00YIzG0edDUtLBvzneNHrGfygfSkg+msgTG7YBPBhEGm\n",
       "1FFCkPTzfwz0R56udDD1zIbjiy6CCYNMqQPdN/uDp3/mg6f/PwdPxvQfu+ka3o2oRY0AAAAASUVO\n",
       "RK5CYII=\n",
       "\" style=\"display:inline;vertical-align:middle;\" /></a><br>"
      ],
      "text/plain": [
       "double_nested: (1 * 1), ..(1 * j).., (1 * n), ....(i * 1), ..(i * j).., (i * n)...., (n * 1), ..(n * j).., (n * n)"
      ]
     },
     "execution_count": 25,
     "metadata": {},
     "output_type": "execute_result"
    }
   ],
   "source": [
    "from proveit.numbers import one\n",
    "double_nested = ExprRange(i, ExprRange(j, Mult(i, j), one, n), one, n)"
   ]
  },
  {
   "cell_type": "code",
   "execution_count": 26,
   "metadata": {},
   "outputs": [
    {
     "data": {
      "text/html": [
       "<a class=\"ProveItLink\" href=\"__pv_it/exprrange_reductions/d02af7bbc36522ced4219510c38d909bae0e75fa0/expr.ipynb\"><img src=\"data:image/png;base64,iVBORw0KGgoAAAANSUhEUgAAAZUAAAAUBAMAAAC37r3BAAAAMFBMVEX////MzMxUVFR2dna6uroQ\n",
       "EBCqqqqIiIgiIiJmZmYyMjJERETu7u6YmJjc3NwAAACgK8IjAAAAAXRSTlMAQObYZgAAAxZJREFU\n",
       "SMetlz9oE1Ecx3/20jRJ72ImVwviIlhDl1KngItjwY6CWQQHsd0kU0OHIiIh6CAIwgldXIqbg7Qc\n",
       "gljaIXER6tAEF7vURugUovh7/+7l7v3Ju+oPjrvcvc/v9/2+e+/yHkC5CwAnoES+D7agWDoeQYY4\n",
       "gewZtAxVSsEDPPx3mibz1qwHuptTfXcr2poTMugZqpSC23iU8CJ/d+zp/Qhg3yplm7dK1grdvZQU\n",
       "1USBPUNJ73Sflw7aeHEI8HFhJCVduYEqvTVLVsRYq2Qsuns5TN9gChYzMSyoUgQLxGqLqBuNPe2h\n",
       "Sn/ZkpViPcXLJ3cvLbV/RpMytAxDb5mBx2QeN3VeYMuS9Ri0Xko1Vyu0psaLLYOGYbHFwAaeZtpa\n",
       "L0sWKY2Ul1vzPxr4pr22qxdSk0MJL7YMCpNb+Pn4JVeK4A6eZrtaL98sUnZSXqof1vw/mMR58pOa\n",
       "HEp4sWVQGG/2PXT6TCmCm2Tw16WXSHp5YJGyKb34eFyoP4XyL/wUNV29YE0BiaJUgS2DwlwqhHBa\n",
       "YUoRXMHTdC324g+ll8sWKSvSSwd70vfPIBigp4GrF6wpIFGUKrBlUJioU4MeV4pgygtsZPZSmCO9\n",
       "MoCpMKMXAYmiLl5SzCrANeklPcbG5stttzFGoxjCxW4EuSxjTECJ+ZJrZmFeAfz2mVIE/9Pcn67C\n",
       "alTNOPc5lGnuJ5k7kB958dxfEt/BmXEv60TlCzEs6YwYjv9i3+t16eW0BjeDChSrokHMqDC9IDU5\n",
       "FH9yiYI4gwZWmPIZeOEXphRB/nqgeHX4Os76/N5b7II35PJJxGfEhhikhWd8/LFWLPD396/4h1UR\n",
       "DWImBc/xnKQmh8QwpQpkhiSsZfBG+XqdKUUwXsOoKwM6cvPKfzs8FGsYNfbiBragOQ3rEVMGG0OV\n",
       "7sm1pWHFBp76oAocU2MxbmALz7JONGXwHNaWsEsmVd+wkgb4rPYC9bir7aBQNrAEzamtac5gYeI1\n",
       "v3kvxtSq28fAvBdjtYJJ37CueV9lzGBh5Osw7ZGDc+yRj/55j3x0DoYqRfAv+ZI4SLXMi94AAAAA\n",
       "SUVORK5CYII=\n",
       "\" style=\"display:inline;vertical-align:middle;\" /></a>"
      ],
      "text/plain": [
       "((1 * 1), ..(1 * j).., (1 * n), ....(i * 1), ..(i * j).., (i * n)...., (n * 1), ..(n * j).., (n * n))"
      ]
     },
     "execution_count": 26,
     "metadata": {},
     "output_type": "execute_result"
    }
   ],
   "source": [
    "ExprTuple(double_nested)"
   ]
  },
  {
   "cell_type": "markdown",
   "metadata": {},
   "source": [
    "If $n = 3$, for example, the above **ExprTuple** could expand to $((1 \\cdot 1), (1 \\cdot 2), (1 \\cdot 3), (2 \\cdot 1), (2 \\cdot 2), (2 \\cdot 3), (3 \\cdot 1), (3 \\cdot 2), (3 \\cdot 3))$.\n",
    "\n",
    "Let's now show triple nesting for fun:"
   ]
  },
  {
   "cell_type": "code",
   "execution_count": 27,
   "metadata": {},
   "outputs": [
    {
     "data": {
      "text/html": [
       "<strong id=\"triple_nested\">triple_nested:</strong> <a class=\"ProveItLink\" href=\"__pv_it/exprrange_reductions/561dea5c8ac5d8221a62359be356ea86082673380/expr.ipynb\"><img src=\"data:image/png;base64,iVBORw0KGgoAAAANSUhEUgAABEgAAAAUBAMAAABsVhV6AAAAMFBMVEX////MzMxUVFR2dna6uroQ\n",
       "EBCqqqqIiIgiIiJmZmYyMjJERETu7u6YmJjc3NwAAACgK8IjAAAAAXRSTlMAQObYZgAABLdJREFU\n",
       "aN61mj9oFEEUh0cvnpdk90xlG0FsBDXYhFgd2KQUTCmYRrAQtZNUhhRBRCRoIQjCCTY2YmchCYcQ\n",
       "IrFIbARTJMFGGzWCVYji7uyfmdn39r03c+eAcroz336/2Zedyd4q1d5UZGvu0se/K6bdVB6NpTE6\n",
       "XBpfH0/4zT7TsbM94LC8UGb0get1ljwavebGH/bIzdMYnQ/8OXx8fOE0W5COiTfgsBIhbfQq+XOt\n",
       "Z1XOFatDemCdRIzsIkNck648NqC5jdd5hRmE+0A4FLInjmaPgCsGs6735QPgvkJIS4ziJRWdPGey\n",
       "vjt/YKZTH2jcphCfsSFum5THrtAqV5fXqaZB22RgjSRwTMiZuEkmnduQrPRs0z4Y3E8Ia4lRKy2m\n",
       "HWtaY9s7PRBdohAPsSFuW5VfB0BzG6sD0mBtNbBIWruokDNxq1y6ynUGWenZ5nwg3FMI+9m8pL4p\n",
       "rkjUC2rvNM8XyUhHvBOb54uE1PmmBEUi90HgTJFQbJ2OKxIyHusD4Z5CWHuh5vgimSIAR5eIIrl4\n",
       "9utccvdsLEljA1pOEOvM4QahPgA+dP7HnSdUkVDsNF0lkJW1QE+F+2BwLyEXZ4yW+SLZIkRHN4ki\n",
       "mXh7O/qbHBbvFAEtJ4h1lnGDUB8Ab4y+URu7RJFQ7DRdJZCVtUBvhftgcC8hF2eMFk3WyPbumUm4\n",
       "Tq2Ls+gQzTo0e1+1fyW77Hlp7CqtIIh1FnGDUB8AP97qqp9jWNjcm2In6aqBrKwF+nqQD0wbIuTG\n",
       "M0YzJutG13hH+2YSxgnRIx10iGZF0W8V7yXye9LYVVpBEOvM4AahPgDe2+ioHTRs7k2xk3TVQFbW\n",
       "Aj0e5APThgi58YyRNa2tE1ZxL3gXiT0kYzX31OFuYJFktJwg1pnBDUJ9IPyWUqfxsKJrUg1kZ83R\n",
       "40E+SNoQITdeabTI70mmhQsEWKaHu+rYZk8NBS03NkGss4gbhPpA+FOl/kTEnmSIvrtXA9lZc/R0\n",
       "uA8G9xNy45VG/3PjemRC3epN9LNxzQnBG1d3vLcPhF9WzYNGHxvXSiA7a47eCvfB4H5CbrzSSP/G\n",
       "ddfKetS+4vrA43KLsF+sfsWH7DcsOCRrPzvqQjymhieK3s5YAyn/BWg5AdcphxnSFG5Q44MYEP+d\n",
       "wtu/VaP7EQ2bebtsF5mmqwSyshZoJx4lBn0wOAxrzICQizNG6d3t0dWX5feJw6f2n5WnyQ48Tz/e\n",
       "6+UrlV7v9IcH+d0MGZK1hP3lk1IjY0VvM9b5oP9KTwBoOQHXKSFGZxo3qPNxDWrEbHgi2D4zi4bN\n",
       "vF22IRXpXCE7a4F249WJoT4YHAm7oOqEXJwx4p7tJkWnV7UmfIx5Q/hk973pTTR9AgGN1OHTiH3C\n",
       "4HVsabr6eAMOKxZKjWL28WP2lVMDHtArmeA7oknTmzqNkEbqxJKHqTKfMHgdW5quPt6Aw4qFtNEK\n",
       "1yn78noNVpiOM8rfibqmN9HWZDRGZ0XwkyHzCYLXsqXpauMNOqxYSBuxb65kKvAlqDizYN9byUxi\n",
       "rtumjMboCN7DEfoEwWvZ0nS18QYdViykjbh34GKm2tg34LZ9rgZLY3QEb/R5+XjCt/tMx872gMMK\n",
       "Xl9MjP4BaFHp7gGldNQAAAAASUVORK5CYII=\n",
       "\" style=\"display:inline;vertical-align:middle;\" /></a><br>"
      ],
      "text/plain": [
       "triple_nested: (1 * 1 * 1), ..(1 * 1 * k).., (1 * 1 * n), ....(1 * j * 1), ..(1 * j * k).., (1 * j * n)...., (1 * n * 1), ..(1 * n * k).., (1 * n * n), ......(i * 1 * 1), ..(i * 1 * k).., (i * 1 * n), ....(i * j * 1), ..(i * j * k).., (i * j * n)...., (i * n * 1), ..(i * n * k).., (i * n * n)......, (n * 1 * 1), ..(n * 1 * k).., (n * 1 * n), ....(n * j * 1), ..(n * j * k).., (n * j * n)...., (n * n * 1), ..(n * n * k).., (n * n * n)"
      ]
     },
     "execution_count": 27,
     "metadata": {},
     "output_type": "execute_result"
    }
   ],
   "source": [
    "triple_nested = ExprRange(i, ExprRange(j, ExprRange(k, Mult(i, j, k), \n",
    "                                                    one, n), \n",
    "                                       one, n), \n",
    "                          one, n)"
   ]
  },
  {
   "cell_type": "code",
   "execution_count": 28,
   "metadata": {},
   "outputs": [
    {
     "data": {
      "text/html": [
       "<a class=\"ProveItLink\" href=\"__pv_it/exprrange_reductions/f95f2a4e611c2e0525f4bd246bfdb943a84f3c230/expr.ipynb\"><img src=\"data:image/png;base64,iVBORw0KGgoAAAANSUhEUgAABHgAAAAUBAMAAAAEpZdCAAAAMFBMVEX////MzMxUVFR2dna6uroQ\n",
       "EBCqqqqIiIgiIiJmZmYyMjJERETu7u6YmJjc3NwAAACgK8IjAAAAAXRSTlMAQObYZgAABOlJREFU\n",
       "aN61mj1oHEcUx5988vkk7Z1VuY0guAnYEW6MXQnSuBRYVQhEjXEqS51RFSGIChdG2IXBYLgEF/EV\n",
       "wp0LI3EYBEESSGkMThEdaeImtgyuhGN8t7u3897NvPdmdlYDgpudmd/838fN7GkGoHUIYqn3QCv/\n",
       "aR08GNUTVUa4LFI0xwHcqYDhATkFs3VIRtnTel3WOiTPIZpRPdGDESqLFtVxcKYXz/CAVG+2DySl\n",
       "bPb/bnVRRv2AOgwadjXKZE9CpGU3LC4Dog0JVyUwysiiZdOpC/sgaQczbMU6xA6GUPwjqpU+pbkB\n",
       "ydffGqtfXflkdKcNteW0ctsxPnv2BnhEXgQGQ3RAHKrqy+UYRJYTIi3Yaf++41y6iA+uslYzDJfi\n",
       "q6Guk5YU74jqpU9pDJLsCH1lmlj+oCGZV6a6DxIiEz0f5IH7TohDlZA8CgPJKpc8jZ5TF/HBjpI8\n",
       "NsOheCfYdVLxj6i6t83DW9CSB57KU7VW9eQRGBxRSZ6MyCePxkCyyiXPW9CTZ3JOTh6b4VDMQ9hg\n",
       "KMnjF1G1PIUVPXmuyVOd2xAQ41fe3X0kMjiiA2Kr4pNHZhBZ5ZJnhdGFfVDbkJPHZmDvf3f535Vl\n",
       "CcKYTZE5JTSidBipGedt6cnzlzzV1KGAqE29gIOexOCIDoitik8emUFklUueLUYX9kGzLSePzcDe\n",
       "n325nHyWIIzZFJlTQiNKh5Gacd66sTrB8rtmqp/kqRqLBtEdRVxotOH9tMTgiA5IrhCp4pNHZhBZ\n",
       "5ZJnndGF3VhflZPHZiDFY4v3oPVBgjBmE+SQEhhRM8yGGOctGKsP2kZ+cmKm+grgeqfzS6fzG5ln\n",
       "+OzsXNEzH4UQ3YM5OOIZwBMdkFzhUFWt0/n9+05npgTDyHJCpN8Yw/4LjC7sxrFjp9UCAylOko/Q\n",
       "PGYhvOsIckgJjGgxzAExzkPJ05hBub9GppLyFCVPPgojlgC+ERkc0QHJFSJV/MqjMLCscivPAqML\n",
       "u3HsWF55bAZWXD+GM20JwplNkDklNKLFMAekcN66/s5zw3/bshGPAf5PJIay5WCIrcpv23IwsKzS\n",
       "25ZTF/bBuL5tjTCw4ok2nD/sChDObILMKaERpcNorXDeKb8ww02of6pFvjAPITEvzCMMLKv0C7NT\n",
       "V+AL8wgDKz47C0vd2fAXZorMKaERpcNorXBe+qvtZ2T1OZw8acNDg003wJNiB02fZT8lGUTrI9Ta\n",
       "f7oZ6S5Pa4jogNiq0hgYQd4MIssBoR9oLQ/8NUYX9sHELLHag4G9/34OrjeneQgXDIrMKWpER3xH\n",
       "h5Gacd5gBXvw47PidHfi4smTYqas4Ve0oM0M97214lm6rHKIfmPr0qKbkX6gNUN0QWxVWQwKQd4M\n",
       "IssFWbOMNbWs/w1GF/bB5DS1WmUQ7/db/3ktQLhgUGROUSM64js6jNSM8xrqGViyGv/PbIERRVSO\n",
       "JyIgZY4nrPJH8PFEECTO7OjjiVX7bM51ADYo+46m7JnHMZrAiCIm3RiGBJG8lvbXHTc809yPYgiQ\n",
       "OLPjIppRtrVO6gH+lP79Cbz7UAXRgxF3JWNbz7J2PCP0SkYlZvtAUspetIEeV4e2A7/bFRB9LjRt\n",
       "xyTPXgWB3KsmG6o22+sy2ICi3YRs6uLVS4vNXmBgqiDqVymDZZGiXyH9uwKGB+QUzPa4htqnfAGG\n",
       "FzdVlxj+rQAAAABJRU5ErkJggg==\n",
       "\" style=\"display:inline;vertical-align:middle;\" /></a>"
      ],
      "text/plain": [
       "(1 * 1 * 1)+..(1 * 1 * k)..+(1 * 1 * n)+....(1 * j * 1)+..(1 * j * k)..+(1 * j * n)....+(1 * n * 1)+..(1 * n * k)..+(1 * n * n) + ......(i * 1 * 1)+..(i * 1 * k)..+(i * 1 * n)+....(i * j * 1)+..(i * j * k)..+(i * j * n)....+(i * n * 1)+..(i * n * k)..+(i * n * n)...... + (n * 1 * 1)+..(n * 1 * k)..+(n * 1 * n)+....(n * j * 1)+..(n * j * k)..+(n * j * n)....+(n * n * 1)+..(n * n * k)..+(n * n * n)"
      ]
     },
     "execution_count": 28,
     "metadata": {},
     "output_type": "execute_result"
    }
   ],
   "source": [
    "Add(triple_nested)"
   ]
  },
  {
   "cell_type": "markdown",
   "metadata": {},
   "source": [
    "The `var_range` function may also be used to make nested ranges of indexed variables by simply supplying multiple start and end indices."
   ]
  },
  {
   "cell_type": "code",
   "execution_count": 29,
   "metadata": {},
   "outputs": [
    {
     "data": {
      "text/html": [
       "<strong id=\"x_111_to_nnn\">x_111_to_nnn:</strong> <a class=\"ProveItLink\" href=\"__pv_it/exprrange_reductions/63691b3ee1fd4f90fd5b5779723a9e39772aabc50/expr.ipynb\"><img src=\"data:image/png;base64,iVBORw0KGgoAAAANSUhEUgAAA0QAAAAQBAMAAADEwKJhAAAAMFBMVEX///8QEBBmZmaqqqrMzMxE\n",
       "REQyMjIiIiKYmJh2dna6urrc3NxUVFSIiIju7u4AAAA6P00QAAAAAXRSTlMAQObYZgAAA1ZJREFU\n",
       "WMOtV7+LE1EQnvNy5JdJBC0EG7G5s0shWBwcUbhStLFV/4RUHkjURQTFKqWNymFxhYpBEMRCr5dA\n",
       "uEYOzLmtYDCgWHmH2X3zduftzr6dl80Ue2943zfzfTv3djcAk28f90cgjeb4y5tnMG+4st20LbZ3\n",
       "Mafu0rMJzX7lbvmWuNAPeDS6PbduR7ajtsUqL+bUWbqFUPWrR7UBlK6F2WZ4xYSL5/DCfyXACdg6\n",
       "NjPhpraCgb0xDL9yvDhQeiIsVXiCmh6szHilc90gubwaFlIJGz5cF+Hy2TrMLFtb0VC99b2ifuV4\n",
       "h0MRSk9OyFKFJehoBU/AmiLvhNeaTc+hEJfL1rFjgVNtheOQrA2/crxDtJgXi7VKK/vVdbXjMqLS\n",
       "nyIjomzJiKi2oqF6y0fE4R0ilO4yIo4QxrL/HRq+eEQbjSkcmLgHD8dnhbIpu7J2ZS/nNhnasE1E\n",
       "cw3VW4vNHxGHl1tV0rXYRFcxQaVv2zfhA3OKfs2+Lpp/AS86q/1emdY9c0RPTsMZgg8WZhaVMdiV\n",
       "bW9pgD3TjcKFoU21QVq6dp4A7I1VqF+eyOIZq1bp2iOtksFkCSr9OZ6secyIyvdmix7gpbw7u2z5\n",
       "0Bwe7D02T1t90oUjgg+h4aVHFyn2p6/Q8nXPLT+JD+pRbdhG0wJCXLuXamlmUW9dhfpllGfgWauM\n",
       "gEg6ijWrMNKzCNE9AvZdtMGcxcT7Q5GOj2onWHwOewjbUUY2owdN4gmObZDGEES9dRXqd0OMF1qN\n",
       "99GjUcXqNUHQ94gfUT/96Q7siJY6x/odDp/DPgXnSzqrpvH9hDZsg7Sq26+UaKWrUL99MV5oNd5H\n",
       "j0aVqgNB36Pw/6YL9RsAFwHe+0ECzfQn4CReRrgZ6TOUX3Y4vJ1dn8KdC9iTburfCXE90gZpHEHW\n",
       "G6sQv3anJl5mNd7XHkkVu9cEAc2qrdV/o9JJeHd/CJfaQQKVdGsvWsW4Gek1NJ4Ch7eza7uw72FP\n",
       "sqkjrkfbII0jyHpjFeLX7tTEy6zG+9ojqWL3miCgWfIEVn/aQt9tSnKONjjRl8FN3GKlF7PqrD2b\n",
       "sK72B8I6A0Jylz0AJ/o6OIlbrPRiVt21ZxO8xKkTHWdvPtkVcKN74CRusdKLWXXXbhL+A8Ma/oyS\n",
       "QioSAAAAAElFTkSuQmCC\n",
       "\" style=\"display:inline;vertical-align:middle;\" /></a><br>"
      ],
      "text/plain": [
       "x_111_to_nnn: x_{1, 1, 1}, ..x_{1, 1, _c}.., x_{1, 1, n}, ....x_{1, _b, 1}, ..x_{1, _b, _c}.., x_{1, _b, n}...., x_{1, n, 1}, ..x_{1, n, _c}.., x_{1, n, n}, ......x_{_a, 1, 1}, ..x_{_a, 1, _c}.., x_{_a, 1, n}, ....x_{_a, _b, 1}, ..x_{_a, _b, _c}.., x_{_a, _b, n}...., x_{_a, n, 1}, ..x_{_a, n, _c}.., x_{_a, n, n}......, x_{n, 1, 1}, ..x_{n, 1, _c}.., x_{n, 1, n}, ....x_{n, _b, 1}, ..x_{n, _b, _c}.., x_{n, _b, n}...., x_{n, n, 1}, ..x_{n, n, _c}.., x_{n, n, n}"
      ]
     },
     "execution_count": 29,
     "metadata": {},
     "output_type": "execute_result"
    }
   ],
   "source": [
    "x_111_to_nnn = var_range(x, (one, one, one), (n, n, n))"
   ]
  },
  {
   "cell_type": "markdown",
   "metadata": {},
   "source": [
    "Note that multiple indices are implemented by nesting **IndexedVar** expressions:"
   ]
  },
  {
   "cell_type": "code",
   "execution_count": 30,
   "metadata": {},
   "outputs": [
    {
     "data": {
      "text/html": [
       "<table><tr><th>&nbsp;</th><th>core type</th><th>sub-expressions</th><th>expression</th></tr>\n",
       "<tr><td>0</td><td>IndexedVar</td><td>variable:&nbsp;1<br>indices:&nbsp;2<br></td><td><a class=\"ProveItLink\" href=\"__pv_it/exprrange_reductions/6cf8191005637b97c6725bb421b6f2d650ca98930/expr.ipynb\"><img src=\"data:image/png;base64,iVBORw0KGgoAAAANSUhEUgAAAFMAAAAPBAMAAABq0O6/AAAAMFBMVEX///8QEBBmZmaqqqrMzMxE\n",
       "REQyMjIiIiKYmJh2dna6urrc3NxUVFSIiIju7u4AAAA6P00QAAAAAXRSTlMAQObYZgAAAOhJREFU\n",
       "KM9jYHh7Z9fNCwzEAL4JHLXsCVgkuNLQRTgfcP7j2oDNkEkYpjKwBmC3LxlTiB+HS39jCvk7wJmP\n",
       "7qTA2Sx/7zxAKJp7l4GB+cF9Bl6oGF8Jyz+4JG8drwKcw77AkYFhvUE8ww6oAJMCSwFclvUCByJg\n",
       "VBlYGBje3H2r0QAVYDTgPQCXZVzAhOAIo7v6/QbWPrj7+B8wGuD2IuMG/xUMW6GK2R+0MnDHQWWy\n",
       "GJjgoaukpKTMwHXWVoPB0QDCYTk5gYFFmOERkGPAsOnGPWzhaYDEZsabKJiRY9kar1IOZE4DEhsA\n",
       "vZY3Be67+CEAAAAASUVORK5CYII=\n",
       "\" style=\"display:inline;vertical-align:middle;\" /></a></td></tr>\n",
       "<tr><td>1</td><td>Variable</td><td></td><td><a class=\"ProveItLink\" href=\"../packages/proveit/__pv_it/common/a2581dc5df71d9a30bad37de14965fa5fec97a240/expr.ipynb\"><img src=\"data:image/png;base64,iVBORw0KGgoAAAANSUhEUgAAAAsAAAAJBAMAAAAWSsseAAAALVBMVEX///9mZmaqqqrMzMxEREQy\n",
       "MjIiIiKYmJh2dna6urrc3NxUVFSIiIju7u4AAACJHQtQAAAAAXRSTlMAQObYZgAAAEJJREFUCNdj\n",
       "YLhzeuWJAwy8Dew5bAEMHBc43nIuYOBlYHFgAAG+A2DKzgBIMF04x8BzgWGegh/DcgaG22fuiBcw\n",
       "AAATyhBrnyPYZQAAAABJRU5ErkJggg==\n",
       "\" style=\"display:inline;vertical-align:middle;\" /></a></td></tr>\n",
       "<tr><td>2</td><td>ExprTuple</td><td>3, 4, 5</td><td><a class=\"ProveItLink\" href=\"__pv_it/exprrange_reductions/2e8109f93d76092359ff4db2396261bea9b1dcc70/expr.ipynb\"><img src=\"data:image/png;base64,iVBORw0KGgoAAAANSUhEUgAAAGUAAAAUBAMAAABmLO6YAAAAMFBMVEX///9UVFTMzMx2dna6uroQ\n",
       "EBCqqqqIiIgiIiJmZmYyMjJERETu7u6YmJjc3NwAAAC+aOQFAAAAAXRSTlMAQObYZgAAAT1JREFU\n",
       "OMtjYOC7wEAKyAMRp3FK82xtwBRkfAAk1uE2k2sCFoMWMDDwTsCthz8Bi6A5AwPHA9x6/A9gETzK\n",
       "wPACj38tsDrYgaESweObPD0GRXph+TQ0d5UrMDBPYNiLEHF9wPUBxbu/DpxHcfmLBO4FDLwLGNoQ\n",
       "SmIZODcgK2H7w8BfgCzQzMCYwMDWwBACF+H8w8CBooRzAcN5A2T+HxDJ9AFJD+sGhvMKaNHjjxza\n",
       "rBugehBuA5qZjxo9FxjmI4c2xFKWBqQwOJ/AIMWG7Gd+B6AXUc1gSACFgSVciLuAt5GZ4fwCRNK6\n",
       "wD0Bmc8pwHBSgYHTgMEDaNtuINjDwCNe9LCEgaMHITDdlgGZz2B8FxhGXAqYaSeHAP8EljRqQIAP\n",
       "TKMM+9DSegEB/gLMPMfLgJ/PDfILiXn7HgMDALX4VTDl8otIAAAAAElFTkSuQmCC\n",
       "\" style=\"display:inline;vertical-align:middle;\" /></a></td></tr>\n",
       "<tr><td>3</td><td>Variable</td><td></td><td><a class=\"ProveItLink\" href=\"__pv_it/exprrange_reductions/9e6d9d5d7eeb0342cf5bca68def0eb165a1a9bb10/expr.ipynb\"><img src=\"data:image/png;base64,iVBORw0KGgoAAAANSUhEUgAAABgAAAAJBAMAAADa0/H1AAAAMFBMVEX///9UVFSqqqrMzMwiIiKY\n",
       "mJgyMjIQEBCIiIh2dnZmZmbc3Nzu7u5ERES6uroAAACFTSmKAAAAAXRSTlMAQObYZgAAAElJREFU\n",
       "CNdjYICCXbPaD8DYfNUM+TA2w/EAhrVwzvoDDB5wTi0Dz2cYm+cnA9MHOOcTA2OCNox3gyFEYALD\n",
       "27tAcIDhYIe1xAMAoVgVdfU81nAAAAAASUVORK5CYII=\n",
       "\" style=\"display:inline;vertical-align:middle;\" /></a></td></tr>\n",
       "<tr><td>4</td><td>Variable</td><td></td><td><a class=\"ProveItLink\" href=\"__pv_it/exprrange_reductions/465e7a87c96d0d9e1e50914e195e170cf9dbf05f0/expr.ipynb\"><img src=\"data:image/png;base64,iVBORw0KGgoAAAANSUhEUgAAABYAAAAOBAMAAADZH/H+AAAALVBMVEX///+YmJjc3NyIiIhUVFR2\n",
       "dnaqqqpmZmYyMjIiIiIQEBDu7u5ERES6uroAAABoIJr/AAAAAXRSTlMAQObYZgAAAFNJREFUCNdj\n",
       "YICAPSsZEKAdif0MweR9jWCzTkCwOZzNE2Dsfd3cj2DsvA0Mj2HsCgbupwjjeeGmPmRgh5v6lmGX\n",
       "AIztyHCcgeHOGSDYwLDdVIABAFm6FqUdmkMbAAAAAElFTkSuQmCC\n",
       "\" style=\"display:inline;vertical-align:middle;\" /></a></td></tr>\n",
       "<tr><td>5</td><td>Variable</td><td></td><td><a class=\"ProveItLink\" href=\"__pv_it/exprrange_reductions/88e0863105751c7888e0ea13d3a413e350eb1d8c0/expr.ipynb\"><img src=\"data:image/png;base64,iVBORw0KGgoAAAANSUhEUgAAABYAAAAJBAMAAADEGsFGAAAAMFBMVEX///+YmJgQEBBmZmZUVFQy\n",
       "MjKqqqoiIiLc3NzMzMyIiIh2dnbu7u5ERES6uroAAADx9kUGAAAAAXRSTlMAQObYZgAAAD1JREFU\n",
       "CNdjYIAC7lUrYUyOMoarMDb7BgY3GNv+AAMc6CKYPL8RbIaPDAxsMLYJA48lw9u7QHCAgXujFAMA\n",
       "ApgNSWQG1ZwAAAAASUVORK5CYII=\n",
       "\" style=\"display:inline;vertical-align:middle;\" /></a></td></tr>\n",
       "</table>\n"
      ],
      "text/plain": [
       "0. x_{_a, _b, _c}\n",
       "   core type: IndexedVar\n",
       "variable: 1\n",
       "indices: 2\n",
       "1. x\n",
       "   core type: Variable\n",
       "   sub-expressions: \n",
       "2. (_a, _b, _c)\n",
       "   core type: ExprTuple\n",
       "   sub-expressions: 3, 4, 5\n",
       "3. _a\n",
       "   core type: Variable\n",
       "   sub-expressions: \n",
       "4. _b\n",
       "   core type: Variable\n",
       "   sub-expressions: \n",
       "5. _c\n",
       "   core type: Variable\n",
       "   sub-expressions: "
      ]
     },
     "execution_count": 30,
     "metadata": {},
     "output_type": "execute_result"
    }
   ],
   "source": [
    "x_111_to_nnn.body.body.body.expr_info()"
   ]
  },
  {
   "cell_type": "markdown",
   "metadata": {},
   "source": [
    "## Expanding ExprRanges\n",
    "\n",
    "The **ExprRange** and **IndexedVar** expression types work together in **ExprRange** expansion reduction rule.  Essentially, when a range of indexed variables is instantiated to an **ExprTuple** of elements and those indexed variables are contained within an **ExprRange**, that **ExprRange** must be \"expanded\" to reflect the expansion of the indexed variables."
   ]
  },
  {
   "cell_type": "markdown",
   "metadata": {},
   "source": [
    "### Parameter dependent expansions\n",
    "\n",
    "The more restrictive form of **ExprRange** expansion is when **ExprRange** parameter is used for anything other than indices of indexed variables being expanded.  For example, consider the following lambda expression."
   ]
  },
  {
   "cell_type": "code",
   "execution_count": 31,
   "metadata": {},
   "outputs": [
    {
     "data": {
      "text/html": [
       "<strong id=\"param_dep_lambda_example\">param_dep_lambda_example:</strong> <a class=\"ProveItLink\" href=\"__pv_it/exprrange_reductions/b6a6ea3cc73d6ace265d74d91131d1a7c04562380/expr.ipynb\"><img src=\"data:image/png;base64,iVBORw0KGgoAAAANSUhEUgAAAWMAAAAUCAMAAABvTKweAAAANlBMVEX///8oKCgNDQ3MzMxUVFR2\n",
       "dna6uroQEBCqqqqIiIgiIiJmZmYyMjJERETu7u6YmJjc3NwAAADtE0dfAAAAAXRSTlMAQObYZgAA\n",
       "AwpJREFUWMPNmdmWrCAMRbmXQQLK8P8/2ygGRaEKHHo1L3FVa7JzGoJEQghxlrw5pGu/F1EuIPWE\n",
       "If1E12DQmom8O1hz9ohyCYm9IfJVcRBmtaN7WWMztt6JKGjlYN4I0zGuioMw0VpN3h4c2u5DlGgN\n",
       "48ybG2EkdC9xqBBdz3mxyr2usRnKv8MhNKIkJNul8THMAxpfFwdhZusUeX+MopxSPksQZUPq0/gY\n",
       "5r7Gd8RBmGBhzdMAMCeAw43pWnXBk5j5FpKngCigv2hcC8T1wxqvJIIz5wA09CSNMMFO8d3E8JCR\n",
       "AqKWGk2v7Ka5i7ysjWVVZRZnRUm2pnGV1Y4Pa7yScDJN4S/Gu46kESZYJaObkAwPGYnghmp9ZY3s\n",
       "XRzZVVljAtNOxBUl2YPGphQoY5XqYY0jCZVRQufpR5ZyzsEOIj00pRkhrmicu8gG9Xj1/9+YDe+3\n",
       "GrqiJJtrbPxYDLRjTWH44lsNi2FNE6T4RCQxIbZYaL6xlHIOdkuIeLilce6iorHKF79Qu23qs8ZE\n",
       "sWKgksZPzWMkkYtjNn5jqWi8LUy6LYWrGicXVlsK294lKrWCjoY014pioIxVvFMrCNGLut4S0540\n",
       "wgS7lnVpCMzCg7ms8d6FFUPwO7gve15+imrd86qsb+15ZODLZDaEtye92/PiK4bwkkw+dUBW7lR2\n",
       "dvXn9BNe7F04A7OHpJBObFmHReja2w5uiSWNy6x5mJJidfSqxiuJW8oxH4mlH1gOSSNMsBHRMAAD\n",
       "2tp8nissn1v9SVfbRbwpd8ECrUjnrpEWp42mh+KcW80GP+pT36vCeg5zWvmselF5YvUdjWNWfmbJ\n",
       "kkaY2ZaOi4lbmrYicRoDXf6DMY5pLD2ns3TL2DQ+hvn1s/Q+aYRZbKntkV40edN7T6HrOtcoJSS9\n",
       "0RNq1UXVekLG9Gp8eqKLJEs66wmR6fi/clp5BvGg2HSELkyueRECt51NR0SZmqfPxvpOb3PqmMj7\n",
       "pPPe5qc2dNM3APsc560e/fSXevTH2fLytyb7O9+a7F/61oQwi/0BPDoo1NcXyrYAAAAASUVORK5C\n",
       "YII=\n",
       "\" style=\"display:inline;vertical-align:middle;\" /></a><br>"
      ],
      "text/plain": [
       "param_dep_lambda_example: (x_{1}, ..x_{_a}.., x_{n}) -> ((1 * x_{1}) + ..(k * x_{k}).. + (n * x_{n}))"
      ]
     },
     "execution_count": 31,
     "metadata": {},
     "output_type": "execute_result"
    }
   ],
   "source": [
    "param_dep_lambda_example = Lambda(x_1_to_n, Add(ExprRange(k, Mult(k, IndexedVar(x, k)), \n",
    "                                                          one, n)))"
   ]
  },
  {
   "cell_type": "markdown",
   "metadata": {},
   "source": [
    "Note that the **ExprRange** parameter on the right appears as a prefactor as well as an index of $x$.  To respect the restrictions of a parameter dependent expansion, in this case, we may only apply this lambda map to an **ExprTuple** with **ExprRanges** whose indices match the original indices.  We demonstrate this below by applying `param_dep_lambda_example` to $a_1, \\ldots, a_j, a_{j+1}, \\ldots, a_n$.  First, we prove a few things in order to meet the necessary *requirements* for the expansion under a set of *assumption*"
   ]
  },
  {
   "cell_type": "code",
   "execution_count": 32,
   "metadata": {},
   "outputs": [
    {
     "data": {
      "text/html": [
       "<strong id=\"defaults.assumptions\">defaults.assumptions:</strong> <a class=\"ProveItLink\" href=\"__pv_it/exprrange_reductions/2df5c9efa33eb41a7d9cf2e109663e987d2ed9d90/expr.ipynb\"><img src=\"data:image/png;base64,iVBORw0KGgoAAAANSUhEUgAAAO0AAAAUBAMAAACT/qdtAAAAMFBMVEX////MzMxUVFR2dna6uroQ\n",
       "EBCqqqqIiIgiIiJmZmYyMjJERETu7u6YmJjc3NwAAACgK8IjAAAAAXRSTlMAQObYZgAAAttJREFU\n",
       "SMellk9oE0EUxr/dNGn+7KYhUijoIQFBDxL2oPjnIIFeBA968KZiLuJFbG4l6CFeSiqiOYog5KJg\n",
       "KerBg1orS0Fa2kOCh4oIJXpRCJKI1oOK+GZ2drMzuxuhDmzYmW9+++2bvDezQLaDf7QvkcoV7Khx\n",
       "bIP9XLT948bjpUXELpwRvSfhdOIc9K48tP7rhY1D2+UIP1fm2CM28kaekOnkgbbopLvhTzELMFrK\n",
       "2LJGg4PIQIXMMLMZouvXx6uIi867ESt2WOnvz80CpyOnuzJhSX807xsNHoF+0i4iKQZvjfB9rYB7\n",
       "X+o51APTVJmwzz559zU33g+FdVv4ZusjfNNlGSzljcWgb0AmrMYyZ5anDo25vt1LWkH4jtMfMV36\n",
       "VKsqD1u9Sj+xpgyWEtW86+tBQZmwZeqmcN5xG/rGym+Tbo4B1lLV+KP4NuMkmC0ZLOGgWRW+HhSU\n",
       "CZuj7hZ+cIdhXnVxQJ9y7pMVaJUbyH5Vsrk7UaFaqstgCbpddHyHUFAmjBWpPfabjU4uUHMDWMF9\n",
       "Z268DMP4DpNVh7HAW47d4hTVvDaQwRKMQtrJZw8KkQnjm0OMv2LPH69mTXq+SAygq6WKI3B9e76A\n",
       "sEsTdeRBQZmwOZ6WPD3ifl9sZrx1RqqFiY6t+D6ka6wug/RgsyL2Nw8KyoSxvEK7wid6KUtVhlhv\n",
       "mFdxCzO2JdsaLCecvBqCRbqOC18PCsqEHWX9GSeWOa8s2XvchfFTlEq/jGNmTtmeWU6kLBl84MTZ\n",
       "Zq8zhFSZYSdY/44zvPLU8ddun2W7ONCwnaWkSR83lWVOsSVO5yRwapuCod03eRN+SJUZxvfJefGs\n",
       "6WcNKX0SdvQ+mWQ5sRYBXpbnqvIaPxf2qLXptVjkuaDZ/VzIueA2a/QBzLBX2W+ZZoS+yhMr7Bzs\n",
       "W8+B4Dno5lx1pC3HNrDvXtSETuS5r9c6Ua/E0nx0uBz7n++crZ195xD2F7XW7MSd/9yhAAAAAElF\n",
       "TkSuQmCC\n",
       "\" style=\"display:inline;vertical-align:middle;\" /></a><br>"
      ],
      "text/plain": [
       "defaults.assumptions: (j in Natural, (n - j) in Natural, n in Natural)"
      ]
     },
     "execution_count": 32,
     "metadata": {},
     "output_type": "execute_result"
    }
   ],
   "source": [
    "from proveit.core_expr_types import Len\n",
    "from proveit.logic import InSet\n",
    "from proveit.numbers import Natural, subtract\n",
    "param_dep_assumptions = [InSet(j, Natural), InSet(subtract(n, j), Natural),\n",
    "                         InSet(n, Natural)]\n",
    "defaults.assumptions = param_dep_assumptions"
   ]
  },
  {
   "cell_type": "code",
   "execution_count": 33,
   "metadata": {},
   "outputs": [
    {
     "data": {
      "text/html": [
       "<strong id=\"a_1_to_n_partition\">a_1_to_n_partition:</strong> <span style=\"font-size:20px;\"><a class=\"ProveItLink\" href=\"__pv_it/exprrange_reductions/9c3fd62286e7dde7f7db90b220d2dad3ca5e87350/expr.ipynb\"><img src=\"data:image/png;base64,iVBORw0KGgoAAAANSUhEUgAAADMAAAASBAMAAAAEf/uKAAAAMFBMVEX////MzMwyMjIiIiJ2dna6\n",
       "urrc3NxmZmZERESIiIhUVFSYmJju7u4QEBCqqqoAAACA8xhiAAAAAXRSTlMAQObYZgAAAN9JREFU\n",
       "GNNjYGBg4LvDgAwO/Wg6wOD7NwDE5l6AIsXQzbiAgecDAzawWGAmA8MFZBHuZmMjMGNpD5cAgwGS\n",
       "DGPnAShrmRSPDkTq5AyI7TAZhmV8E6QgUgW8G8ACcP3LGFy5J4CkuBP4H4AEGpCkuA4sBEnxMMSD\n",
       "jGK8pAQEUCmeBUwQFzqDCDZkXQwijBApdTB5AVmK+wFYJc8/sEAlXGohELuBpfj+gAWYH8Ck9ICY\n",
       "XQHEYod4nGdFDERG+C9QBw9YirkAIsTqAQ0oePgcyBdgwA7yHdpxyDBwTd+AQwYAD9YyhrRcti4A\n",
       "AAAASUVORK5CYII=\n",
       "\" style=\"display:inline;vertical-align:middle;\" /></a>, <a class=\"ProveItLink\" href=\"__pv_it/exprrange_reductions/e8f6e33ab73ab898b967cb9c3907494d3bfa98410/expr.ipynb\"><img src=\"data:image/png;base64,iVBORw0KGgoAAAANSUhEUgAAAGYAAAAUBAMAAACNG1WbAAAAMFBMVEX////MzMxUVFR2dna6uroQ\n",
       "EBCqqqqIiIgiIiJmZmYyMjJERETu7u6YmJjc3NwAAACgK8IjAAAAAXRSTlMAQObYZgAAAY1JREFU\n",
       "OMt9kz9Iw0AUxr/k2tqaGESoCDrUSRCF4iJuBRfBUTcRu4ib7VYEh7qUOummCEIdukhRB0FBlKMg\n",
       "SB1SHXQQatwEwT8oThW8uzZpe/Y8CPfycr+87328A6wyFGtZ9QHXivwi1Z3WjHl4VgBZmAUOFMwt\n",
       "zJyUMso9gA10bSoVYFx619c6kvADQUfNXNb3h2xWlNSn6SCCwLMaQWdMbP2rbp2nSIkyZgXwjb2m\n",
       "tqTjZuoIIEK3WfC0OUtahDHn7JNxAluSGMI867WmyGkwJHbPmAzQG8zhrbuVqeAbCKSFWw0PHIzo\n",
       "fQBzm9oxPPJcaZ+vPR5SXxXQ3nkY5km3YhF5wSABDMv9k7TLvDTX0aJhoQ07wI8pe8b69wlt/mYG\n",
       "d4bwADMIVInE2HHXg1DSY1jThJWdAKwvkNyNxCQoOx0VYcarHa+JmhISrNG4xGzzMzUzi8dU7NrG\n",
       "HDdKPTvr7Lmqx5On2ZZxbT+jA9ZHmxn11kWbnPVpsF/9uQv/37mhXT4AypFX3+2KIv8LIvJiQhkT\n",
       "oYIAAAAASUVORK5CYII=\n",
       "\" style=\"display:inline;vertical-align:middle;\" /></a> <a class=\"ProveItLink\" href=\"__pv_it/exprrange_reductions/56b86cb5577d3c675a6d8eea726506bfd19b20ae0/proof.ipynb\" style=\"text-decoration: none\">&nbsp;&#x22A2;&nbsp;&nbsp;</a><a class=\"ProveItLink\" href=\"__pv_it/exprrange_reductions/4b0d76ced17941bfb83c0123dc3a7d36e4ee96d60/expr.ipynb\"><img src=\"data:image/png;base64,iVBORw0KGgoAAAANSUhEUgAAAV0AAAAVBAMAAAAX2iAxAAAAMFBMVEX///9UVFTMzMx2dna6uroQ\n",
       "EBCqqqqIiIgiIiJmZmYyMjJERETu7u6YmJjc3NwAAAC+aOQFAAAAAXRSTlMAQObYZgAAAsdJREFU\n",
       "SMe9VzuI1FAUvfOL80myAwoDW8g2IiLIbCVrNc2AWIiInasMVhayBj/oYJMFWS1kHVjQFRFHwcIp\n",
       "NN1WyljICoKTUhuJhaCgMCpYiIjvk/eSlzd5mbiYV2Ru7pxzz+H9A2C6kKYtTch9hWwa0X6djpPz\n",
       "pJTuZOSXaD9Jx9H7UqrqZeQXaxu9lKT9UuYdZNWQdjlt57yUMquZ+UXan9Jyqq1IwrQz84u0u1hx\n",
       "7faiGvh54eLQDwvRCbStJwISK0ylGKf9DP20veoYYG88pXgSnrLYIAvuwAC3xzisuQyQd5IqVOfo\n",
       "K1WEh+zvZCbTXkHL7gRUHNizrpg3LtxlsRYd/nLHB+Tv2EkVNH+hE0WADrObzGTaxwAqv6FsARyM\n",
       "93t/CNd4V4wjf5ZaDFC0p6rAFemmSjrRnlYb+S05MJpT+j0O+nelXwpQqIYrcEXSagl+I9poPoya\n",
       "cBZUfvUfoI3BuLe7y0vT+fvAnw8UoFD1AZu36CtV1LudZL9RbbTeRh2Y1TyV35+Q6y8ZbbfksfUW\n",
       "ami9UYBKlQJ6h3y/RLFS7E/hN6K9gBiWsVyg/TtCFfRf0QA24G29+eUyzKCNpdKMVMQbHAEQVZHI\n",
       "3whA9+Zpiiq+KdTDfmXtgBloI5d649yHC9Rv+QZ6LOOgzgKceXFpX6MFDWiHtqRgw7EZAEdiBfK4\n",
       "PmQAPJoY4CuikZkdPBoM3AlMHISYXDs4j8l8OCMNSJA5Cmt5gFfx5zEZVbmCFhwUfwTAjCfMBxWT\n",
       "awf3ndP40ZQ4PGOO4eop5X2HbM1yhQKP8kcEwC6+PyQxQ9rP2bF3s4EGypLmO88U63DenXSfrPlD\n",
       "ZK5/syZUgM3g6HYEiSvMbyIzpC3c1w2JYsSYi7uvyxUg+ICpWQJgg/dvIjPQTvk99H4L30M7Pobv\n",
       "RLnDi4Lff9P+n237TuHrZp4MlZmqxF9tYf3FovdVbQAAAABJRU5ErkJggg==\n",
       "\" style=\"display:inline;vertical-align:middle;\" /></a></span><br>"
      ],
      "text/plain": [
       "a_1_to_n_partition: {j in Natural, (n - j) in Natural} |- (a_{1}, ..a_{_a}.., a_{n}) = (a_{1}, ..a_{_a}.., a_{j}, a_{j + 1}, ..a_{_a}.., a_{n})"
      ]
     },
     "execution_count": 33,
     "metadata": {},
     "output_type": "execute_result"
    }
   ],
   "source": [
    "a_1_to_n_partition = a_1_to_n.partition(j)"
   ]
  },
  {
   "cell_type": "code",
   "execution_count": 34,
   "metadata": {},
   "outputs": [
    {
     "data": {
      "text/html": [
       "<strong id=\"typical\">typical:</strong> <span style=\"font-size:20px;\"><a class=\"ProveItLink\" href=\"../packages/proveit/numbers/number_sets/natural_numbers/__pv_it/theorems/ba5849e6de22ec92714c647d41d92ef0cc8fb69d0/expr.ipynb\"><img src=\"data:image/png;base64,iVBORw0KGgoAAAANSUhEUgAAADUAAAAPBAMAAAC2KZqIAAAAMFBMVEX///8QEBCYmJgyMjIiIiKq\n",
       "qqrMzMzu7u5ERERmZmaIiIjc3NxUVFR2dna6uroAAABXsXCEAAAAAXRSTlMAQObYZgAAAN5JREFU\n",
       "GNNjYMAExT+aCxgufnzAgA00sR1gYP+AVYrhSMIqBgYBVDENFxcDEH2unSeBwQFFKmM5lHE6h90c\n",
       "JMd3Z/eqWWARIB8mx7ogByTHy9HFUL8BJMKzAS7HcI9pAVAulcWAYX8CSISDASHHU3AMKFdQ/4BB\n",
       "HyySaAwEBhA59gPMIHfGMzAcBsvtQNLHkMsGkpvMwPCJHSTCiCzHFNAAZMgysH7nBYlwLoDJHQPi\n",
       "20A57n8MvAZqYCFXmJwpSCXQZj4HBu5DAWChmr4CMJ3yEaiH3QA1zN62uCCLAADDBTVfYPhN3gAA\n",
       "AABJRU5ErkJggg==\n",
       "\" style=\"display:inline;vertical-align:middle;\" /></a> <a class=\"ProveItLink\" href=\"__pv_it/exprrange_reductions/3396c33586feadec8059a83cae4a02e323e2ad040/proof.ipynb\" style=\"text-decoration: none\">&nbsp;&#x22A2;&nbsp;&nbsp;</a><a class=\"ProveItLink\" href=\"__pv_it/exprrange_reductions/75fb9af9510a48fc0cf0f7d06ca0bed500136c950/expr.ipynb\"><img src=\"data:image/png;base64,iVBORw0KGgoAAAANSUhEUgAAAPsAAAAVBAMAAAByEoVnAAAAMFBMVEX///9UVFQQEBCqqqoiIiJm\n",
       "ZmYyMjJERESYmJjc3NyIiIi6urp2dnbu7u7MzMwAAAADGpxCAAAAAXRSTlMAQObYZgAAAlxJREFU\n",
       "SMdjeMtANkDXyneBRAOAGk6DGZwNpGhjngCmTqMJ82wAUzOIMMESpgFixnXSnC2Jx3reAiIMYJyA\n",
       "Yn0madZfw2M9G9BkZl0CBvAmIFvPEUCa9TwLcFvfysBw8eBfQiacQraeZQJp1vMq4LbeE+QdgtZf\n",
       "QrZ+CqmJPhun9ZwORFnPtgHJ+qUgfTFR+GMMWcFRnNZzBeC3fo/krKXAqOMJQLK+Aog3TWD7wMDw\n",
       "HLf1EAUQ0Aa3/lgaCKTCrWdvwG/9gfIFvD+BKhKQrHcGRqcGA2sBw9MQ3PENVgAFJjh9z2KA13o+\n",
       "AzcGzn/AvOGAZL02AwPrXwYWYKBswWk9VAEEvMdpPdMGvNbz8v5m4AAGIt8HVOuZChjuP8BnPVQB\n",
       "hdYzMH9gYExAsx4Y+PcPMNgz4LMeoqC1b1UATBlS3CcSG/gMrAkM/A0XGLgdUJPefQMGMWBZjsd6\n",
       "sIJuDQZNlKSH7ntCSY8J6IsLB1CTHjAfsS/gcOQBe4v3G8iyBCgDzgMr4LzlwAAyOgan9eAcxfUX\n",
       "mwlgxvwNDMc4HjCwHkCyHmSp1LqJqyGh6gKsOFkEgAxHBijB4gtTwLiAG1Ti5eG0HhSqrELfIsB6\n",
       "kEwQgBoMtGBiM7DYeYC10AVZz4xZb9vCw+4B64EHDLwO+AtdVD2IZIcw+Ar2KgeUoXmwFBYwxnwG\n",
       "ls0PCFU5aHoQCnBUOQyVUNGp/lIMDLcwcys8w29k4DqBv8Jln4CuBw5u4ahwUZsbmC0fDjR+JRHN\n",
       "DQ7MMEQYzA5rbqwjo7HFAfHgOjRhrgdEN7Y6oRoACL7a9h6W0J0AAAAASUVORK5CYII=\n",
       "\" style=\"display:inline;vertical-align:middle;\" /></a></span><br>"
      ],
      "text/plain": [
       "typical: {n in Natural} |- |(a_{1}, ..a_{_a}.., a_{n})| = |(1, ..k.., n)|"
      ]
     },
     "execution_count": 34,
     "metadata": {},
     "output_type": "execute_result"
    }
   ],
   "source": [
    "typical = Len(a_1_to_n_partition.lhs).typical_eq()"
   ]
  },
  {
   "cell_type": "code",
   "execution_count": 35,
   "metadata": {},
   "outputs": [
    {
     "data": {
      "text/html": [
       "<strong id=\"equality\">equality:</strong> <a class=\"ProveItLink\" href=\"__pv_it/exprrange_reductions/fe962cb2c996edbe0309f6e62a628ec5924b2fdf0/expr.ipynb\"><img src=\"data:image/png;base64,iVBORw0KGgoAAAANSUhEUgAAAW4AAAAWBAMAAAASimukAAAAMFBMVEX///9UVFQQEBCqqqoiIiJm\n",
       "ZmYyMjJERESYmJjc3NyIiIi6urp2dnbu7u7MzMwAAAADGpxCAAAAAXRSTlMAQObYZgAAAyRJREFU\n",
       "SMfFl01oE0EUx1+aTXa32UlzCjYW7E1Fq0G89KCm6EWlEPGTEnARDBRBe7Q57UEFL3YVBT2IixiE\n",
       "KjEEEbwlh170EkUUe0nRk0IxIoiiFWdnP2c3u7P1sA5kP4b3f++XmTdvZ2AV4m/Zrqdj3RCr8JLc\n",
       "b8dEPEmuUtPTbUCICttBUjUFRILmYuJOqCHc76J4GHVzp9WYuJEcwj2Lf7u6DA9v3dyXY0vtF8Hc\n",
       "QhnQ2CYWt6S5uA/Gxv06mJvTJ32BxY3GHW6xFBt3uhnIfROicMM5h3u4jC+3lu6Ha2gDsTIzERXW\n",
       "pZTKgdz1cO5M587iDL4vOdw8LkCZrXABV9bgwmIYQHrFeG2p6T6+nbdrMlNJmiBb3FKVtLLNfTGc\n",
       "W+Jr0MOpdMXh5oo48RQ4CdnjwRlDDHABNdNsC6R00qKFzVYa9bcUON77w7k/cjLcw4O22+Eewn5O\n",
       "d+EQHprg6IaB1VJrwGlWUSaDGk2Z7Qdybwvn7vaasIDvX2juzYD+hEY3DKw2NAc9M2OAZ3C7lf/O\n",
       "DfsA8jQ3zhP0G5L9sOimwfJR47XX1v2gepHNbSiFU5/rlpk7v3NR8wROAPxAAE+pdYm+QUKeDItu\n",
       "GJSfmdxFyCfVVEaOwE2UQksZUt3r0jfejHUJ2yG5JlHrUi9ONbiUa5PoPewafQfzYr8RA6R2jC5e\n",
       "E6YkeC/l3Ny2rf7gUd59ACOYKdUO5CYF7knXE9Z+E3+BJF8DqDjcesxXi58KTfLETeOuKTAvnE52\n",
       "oGsZ6KOiG6BC4/ojMlP56plqVaGVRORRFqBlldHB3HoCHNl5ViEaInYgpgmkuKFoVl7vd57M9h7/\n",
       "7tGZvZ+UwYhK5UmYcgdUsgBvGN95TzSrOY5RadC+ipTXtr/mO1v+ccrgg11PWEqxD4f3svZV3mh2\n",
       "aw/eV/HmXxWPfdUAaT7Zsv00jD82LoOHFjdTmcnBYyV8Hzvvi2YPsjZ4H0udGwT/33UOIrxGGdTs\n",
       "8WYqwRkgxrnBf+xxOZ43BY11ndM23nDnXuL5BMXNbleNSVvxdDcin9ME1SWI3sZGqVNXh3gR/8PR\n",
       "+i/PjR923EABWwAAAABJRU5ErkJggg==\n",
       "\" style=\"display:inline;vertical-align:middle;\" /></a><br>"
      ],
      "text/plain": [
       "equality: |(a_{1}, ..a_{_a}.., a_{j}, a_{j + 1}, ..a_{_a}.., a_{n})| = |(1, ..k.., n)|"
      ]
     },
     "execution_count": 35,
     "metadata": {},
     "output_type": "execute_result"
    }
   ],
   "source": [
    "from proveit.logic import Equals\n",
    "equality = Equals(Len(a_1_to_n_partition.rhs), typical.rhs)"
   ]
  },
  {
   "cell_type": "code",
   "execution_count": 36,
   "metadata": {},
   "outputs": [
    {
     "data": {
      "text/html": [
       "<span style=\"font-size:20px;\"><a class=\"ProveItLink\" href=\"__pv_it/exprrange_reductions/9c3fd62286e7dde7f7db90b220d2dad3ca5e87350/expr.ipynb\"><img src=\"data:image/png;base64,iVBORw0KGgoAAAANSUhEUgAAADMAAAASBAMAAAAEf/uKAAAAMFBMVEX////MzMwyMjIiIiJ2dna6\n",
       "urrc3NxmZmZERESIiIhUVFSYmJju7u4QEBCqqqoAAACA8xhiAAAAAXRSTlMAQObYZgAAAN9JREFU\n",
       "GNNjYGBg4LvDgAwO/Wg6wOD7NwDE5l6AIsXQzbiAgecDAzawWGAmA8MFZBHuZmMjMGNpD5cAgwGS\n",
       "DGPnAShrmRSPDkTq5AyI7TAZhmV8E6QgUgW8G8ACcP3LGFy5J4CkuBP4H4AEGpCkuA4sBEnxMMSD\n",
       "jGK8pAQEUCmeBUwQFzqDCDZkXQwijBApdTB5AVmK+wFYJc8/sEAlXGohELuBpfj+gAWYH8Ck9ICY\n",
       "XQHEYod4nGdFDERG+C9QBw9YirkAIsTqAQ0oePgcyBdgwA7yHdpxyDBwTd+AQwYAD9YyhrRcti4A\n",
       "AAAASUVORK5CYII=\n",
       "\" style=\"display:inline;vertical-align:middle;\" /></a>, <a class=\"ProveItLink\" href=\"__pv_it/exprrange_reductions/e8f6e33ab73ab898b967cb9c3907494d3bfa98410/expr.ipynb\"><img src=\"data:image/png;base64,iVBORw0KGgoAAAANSUhEUgAAAGYAAAAUBAMAAACNG1WbAAAAMFBMVEX////MzMxUVFR2dna6uroQ\n",
       "EBCqqqqIiIgiIiJmZmYyMjJERETu7u6YmJjc3NwAAACgK8IjAAAAAXRSTlMAQObYZgAAAY1JREFU\n",
       "OMt9kz9Iw0AUxr/k2tqaGESoCDrUSRCF4iJuBRfBUTcRu4ib7VYEh7qUOummCEIdukhRB0FBlKMg\n",
       "SB1SHXQQatwEwT8oThW8uzZpe/Y8CPfycr+87328A6wyFGtZ9QHXivwi1Z3WjHl4VgBZmAUOFMwt\n",
       "zJyUMso9gA10bSoVYFx619c6kvADQUfNXNb3h2xWlNSn6SCCwLMaQWdMbP2rbp2nSIkyZgXwjb2m\n",
       "tqTjZuoIIEK3WfC0OUtahDHn7JNxAluSGMI867WmyGkwJHbPmAzQG8zhrbuVqeAbCKSFWw0PHIzo\n",
       "fQBzm9oxPPJcaZ+vPR5SXxXQ3nkY5km3YhF5wSABDMv9k7TLvDTX0aJhoQ07wI8pe8b69wlt/mYG\n",
       "d4bwADMIVInE2HHXg1DSY1jThJWdAKwvkNyNxCQoOx0VYcarHa+JmhISrNG4xGzzMzUzi8dU7NrG\n",
       "HDdKPTvr7Lmqx5On2ZZxbT+jA9ZHmxn11kWbnPVpsF/9uQv/37mhXT4AypFX3+2KIv8LIvJiQhkT\n",
       "oYIAAAAASUVORK5CYII=\n",
       "\" style=\"display:inline;vertical-align:middle;\" /></a>, <a class=\"ProveItLink\" href=\"../packages/proveit/numbers/number_sets/natural_numbers/__pv_it/theorems/ba5849e6de22ec92714c647d41d92ef0cc8fb69d0/expr.ipynb\"><img src=\"data:image/png;base64,iVBORw0KGgoAAAANSUhEUgAAADUAAAAPBAMAAAC2KZqIAAAAMFBMVEX///8QEBCYmJgyMjIiIiKq\n",
       "qqrMzMzu7u5ERERmZmaIiIjc3NxUVFR2dna6uroAAABXsXCEAAAAAXRSTlMAQObYZgAAAN5JREFU\n",
       "GNNjYMAExT+aCxgufnzAgA00sR1gYP+AVYrhSMIqBgYBVDENFxcDEH2unSeBwQFFKmM5lHE6h90c\n",
       "JMd3Z/eqWWARIB8mx7ogByTHy9HFUL8BJMKzAS7HcI9pAVAulcWAYX8CSISDASHHU3AMKFdQ/4BB\n",
       "HyySaAwEBhA59gPMIHfGMzAcBsvtQNLHkMsGkpvMwPCJHSTCiCzHFNAAZMgysH7nBYlwLoDJHQPi\n",
       "20A57n8MvAZqYCFXmJwpSCXQZj4HBu5DAWChmr4CMJ3yEaiH3QA1zN62uCCLAADDBTVfYPhN3gAA\n",
       "AABJRU5ErkJggg==\n",
       "\" style=\"display:inline;vertical-align:middle;\" /></a> <a class=\"ProveItLink\" href=\"__pv_it/exprrange_reductions/36e7c52df10a7a497ec0b2536812cc59b3d8825a0/proof.ipynb\" style=\"text-decoration: none\">&nbsp;&#x22A2;&nbsp;&nbsp;</a><a class=\"ProveItLink\" href=\"__pv_it/exprrange_reductions/6df9d5c99383a4fff4cfa25f7f98e94d6e78652c0/expr.ipynb\"><img src=\"data:image/png;base64,iVBORw0KGgoAAAANSUhEUgAAAW4AAAAWBAMAAAASimukAAAAMFBMVEX///9UVFQQEBCqqqoiIiJm\n",
       "ZmYyMjJERESYmJjc3NyIiIi6urp2dnbu7u7MzMwAAAADGpxCAAAAAXRSTlMAQObYZgAAAyRJREFU\n",
       "SMfFl01oE0EUx1+aTXa32UlzCjYW7E1Fq0G89KCm6EWlEPGTEnARDBRBe7Q57UEFL3YVBT2IixiE\n",
       "KjEEEbwlh170EkUUe0nRk0IxIoiiFWdnP2c3u7P1sA5kP4b3f++XmTdvZ2AV4m/Zrqdj3RCr8JLc\n",
       "b8dEPEmuUtPTbUCICttBUjUFRILmYuJOqCHc76J4GHVzp9WYuJEcwj2Lf7u6DA9v3dyXY0vtF8Hc\n",
       "QhnQ2CYWt6S5uA/Gxv06mJvTJ32BxY3GHW6xFBt3uhnIfROicMM5h3u4jC+3lu6Ha2gDsTIzERXW\n",
       "pZTKgdz1cO5M587iDL4vOdw8LkCZrXABV9bgwmIYQHrFeG2p6T6+nbdrMlNJmiBb3FKVtLLNfTGc\n",
       "W+Jr0MOpdMXh5oo48RQ4CdnjwRlDDHABNdNsC6R00qKFzVYa9bcUON77w7k/cjLcw4O22+Eewn5O\n",
       "d+EQHprg6IaB1VJrwGlWUSaDGk2Z7Qdybwvn7vaasIDvX2juzYD+hEY3DKw2NAc9M2OAZ3C7lf/O\n",
       "DfsA8jQ3zhP0G5L9sOimwfJR47XX1v2gepHNbSiFU5/rlpk7v3NR8wROAPxAAE+pdYm+QUKeDItu\n",
       "GJSfmdxFyCfVVEaOwE2UQksZUt3r0jfejHUJ2yG5JlHrUi9ONbiUa5PoPewafQfzYr8RA6R2jC5e\n",
       "E6YkeC/l3Ny2rf7gUd59ACOYKdUO5CYF7knXE9Z+E3+BJF8DqDjcesxXi58KTfLETeOuKTAvnE52\n",
       "oGsZ6KOiG6BC4/ojMlP56plqVaGVRORRFqBlldHB3HoCHNl5ViEaInYgpgmkuKFoVl7vd57M9h7/\n",
       "7tGZvZ+UwYhK5UmYcgdUsgBvGN95TzSrOY5RadC+ipTXtr/mO1v+ccrgg11PWEqxD4f3svZV3mh2\n",
       "aw/eV/HmXxWPfdUAaT7Zsv00jD82LoOHFjdTmcnBYyV8Hzvvi2YPsjZ4H0udGwT/33UOIrxGGdTs\n",
       "8WYqwRkgxrnBf+xxOZ43BY11ndM23nDnXuL5BMXNbleNSVvxdDcin9ME1SWI3sZGqVNXh3gR/8PR\n",
       "+i/PjR923EABWwAAAABJRU5ErkJggg==\n",
       "\" style=\"display:inline;vertical-align:middle;\" /></a></span>"
      ],
      "text/plain": [
       "{j in Natural, (n - j) in Natural, n in Natural} |- |(a_{1}, ..a_{x}.., a_{j}, a_{j + 1}, ..a_{x}.., a_{n})| = |(1, ..a.., n)|"
      ]
     },
     "execution_count": 36,
     "metadata": {},
     "output_type": "execute_result"
    }
   ],
   "source": [
    "Len(a_1_to_n_partition.rhs).deduce_equality(equality)"
   ]
  },
  {
   "cell_type": "code",
   "execution_count": 37,
   "metadata": {},
   "outputs": [
    {
     "data": {
      "text/html": [
       "<span style=\"font-size:20px;\"><a class=\"ProveItLink\" href=\"__pv_it/exprrange_reductions/9c3fd62286e7dde7f7db90b220d2dad3ca5e87350/expr.ipynb\"><img src=\"data:image/png;base64,iVBORw0KGgoAAAANSUhEUgAAADMAAAASBAMAAAAEf/uKAAAAMFBMVEX////MzMwyMjIiIiJ2dna6\n",
       "urrc3NxmZmZERESIiIhUVFSYmJju7u4QEBCqqqoAAACA8xhiAAAAAXRSTlMAQObYZgAAAN9JREFU\n",
       "GNNjYGBg4LvDgAwO/Wg6wOD7NwDE5l6AIsXQzbiAgecDAzawWGAmA8MFZBHuZmMjMGNpD5cAgwGS\n",
       "DGPnAShrmRSPDkTq5AyI7TAZhmV8E6QgUgW8G8ACcP3LGFy5J4CkuBP4H4AEGpCkuA4sBEnxMMSD\n",
       "jGK8pAQEUCmeBUwQFzqDCDZkXQwijBApdTB5AVmK+wFYJc8/sEAlXGohELuBpfj+gAWYH8Ck9ICY\n",
       "XQHEYod4nGdFDERG+C9QBw9YirkAIsTqAQ0oePgcyBdgwA7yHdpxyDBwTd+AQwYAD9YyhrRcti4A\n",
       "AAAASUVORK5CYII=\n",
       "\" style=\"display:inline;vertical-align:middle;\" /></a>, <a class=\"ProveItLink\" href=\"__pv_it/exprrange_reductions/e8f6e33ab73ab898b967cb9c3907494d3bfa98410/expr.ipynb\"><img src=\"data:image/png;base64,iVBORw0KGgoAAAANSUhEUgAAAGYAAAAUBAMAAACNG1WbAAAAMFBMVEX////MzMxUVFR2dna6uroQ\n",
       "EBCqqqqIiIgiIiJmZmYyMjJERETu7u6YmJjc3NwAAACgK8IjAAAAAXRSTlMAQObYZgAAAY1JREFU\n",
       "OMt9kz9Iw0AUxr/k2tqaGESoCDrUSRCF4iJuBRfBUTcRu4ib7VYEh7qUOummCEIdukhRB0FBlKMg\n",
       "SB1SHXQQatwEwT8oThW8uzZpe/Y8CPfycr+87328A6wyFGtZ9QHXivwi1Z3WjHl4VgBZmAUOFMwt\n",
       "zJyUMso9gA10bSoVYFx619c6kvADQUfNXNb3h2xWlNSn6SCCwLMaQWdMbP2rbp2nSIkyZgXwjb2m\n",
       "tqTjZuoIIEK3WfC0OUtahDHn7JNxAluSGMI867WmyGkwJHbPmAzQG8zhrbuVqeAbCKSFWw0PHIzo\n",
       "fQBzm9oxPPJcaZ+vPR5SXxXQ3nkY5km3YhF5wSABDMv9k7TLvDTX0aJhoQ07wI8pe8b69wlt/mYG\n",
       "d4bwADMIVInE2HHXg1DSY1jThJWdAKwvkNyNxCQoOx0VYcarHa+JmhISrNG4xGzzMzUzi8dU7NrG\n",
       "HDdKPTvr7Lmqx5On2ZZxbT+jA9ZHmxn11kWbnPVpsF/9uQv/37mhXT4AypFX3+2KIv8LIvJiQhkT\n",
       "oYIAAAAASUVORK5CYII=\n",
       "\" style=\"display:inline;vertical-align:middle;\" /></a> <a class=\"ProveItLink\" href=\"__pv_it/exprrange_reductions/f7be3a25206b02b9f7969b0fe8d8e495b4aa7d150/proof.ipynb\" style=\"text-decoration: none\">&nbsp;&#x22A2;&nbsp;&nbsp;</a><a class=\"ProveItLink\" href=\"__pv_it/exprrange_reductions/2e473cdae04824ce66535a0db40d870cb5a1acaf0/expr.ipynb\"><img src=\"data:image/png;base64,iVBORw0KGgoAAAANSUhEUgAAAS8AAAAUBAMAAAAuOqYxAAAAMFBMVEX////MzMxUVFR2dna6uroQ\n",
       "EBCqqqqIiIgiIiJmZmYyMjJERETu7u6YmJjc3NwAAACgK8IjAAAAAXRSTlMAQObYZgAAAipJREFU\n",
       "SMe9Vr9LAzEUflZ7bW2u7Z9QEFc9XPwxFVzcXJxEsIubaNfiYHEQEZHDXShO9gZxFVEOQSw4eJPg\n",
       "osVFF2kFcZAiJmmP5JLrJQo10OO7d1/e9zV5JA8g44F6rIXE3qBvg8rd6jBjDSmEThVzjCURaA8q\n",
       "d4J/K66CiapSaLihkDTzIvCHlpxpAxoZVzFhUoo8AFxNtH+zDkapo6onlySr9qRkXkuRfbIWfzGm\n",
       "KfeqxxwuCIFMpZ/GsFxZwZwdeynjhIO2EE/YCmM3GyLQMcbkLhRM67yEvrEFWv0zDhk1AtOewpgd\n",
       "9wSgY4zJbUczB4q7kHnHSSvCh2Qx2pjZyBaDQMcYJ7cQzUToA8wWntESPsQL0cYQzLs8GHSc40XH\n",
       "yWvLKYyB0YJY9Q/GAKZEoLOVTE6xlZCqQtZzYajCauxIZysBaiLQMcbkVMUft2DdtbrFzw1l8aNP\n",
       "EegYY3LT5HXTBfRFcpDHXZUD0CzAjJmDlCVkoOdHot1lBeZQAEabAcFYuBx9MLk5/HawXPNgh/yN\n",
       "LbJJeR/s4Qf+/nyPT7ycYIzsbWr067DDYnMIoKlSFQ4EjPWQoyEml/T7BkNe31UG66FXksjiUyVt\n",
       "DgRXrIccF6rTS7y7NyGnneISl1gs1YDbzHGgU2xukBMyjZe79G8OuXxLUW1PuiGxgKVqWmc8gDBO\n",
       "7xCV8xtFuZE1ZRchjaIpK+BUsbLHg1BO7xCV02qtH/+3tcZyP4Vd598IPcxKAAAAAElFTkSuQmCC\n",
       "\" style=\"display:inline;vertical-align:middle;\" /></a></span>"
      ],
      "text/plain": [
       "{j in Natural, (n - j) in Natural} |- (1, ..a.., n) = (1, ..a.., j, j + 1, ..a.., n)"
      ]
     },
     "execution_count": 37,
     "metadata": {},
     "output_type": "execute_result"
    }
   ],
   "source": [
    "typical.rhs.operand.entries[0].partition(j)"
   ]
  },
  {
   "cell_type": "code",
   "execution_count": 38,
   "metadata": {},
   "outputs": [
    {
     "data": {
      "text/html": [
       "<strong id=\"param_dep_operands\">param_dep_operands:</strong> <a class=\"ProveItLink\" href=\"__pv_it/exprrange_reductions/0efb9e143dd5e0c025c86c53563c2def5117b9500/expr.ipynb\"><img src=\"data:image/png;base64,iVBORw0KGgoAAAANSUhEUgAAANkAAAAVBAMAAAA5ulaKAAAAMFBMVEX///9UVFTMzMx2dna6uroQ\n",
       "EBCqqqqIiIgiIiJmZmYyMjJERETu7u6YmJjc3NwAAAC+aOQFAAAAAXRSTlMAQObYZgAAAhtJREFU\n",
       "SMdjYOC7wEAfkAciTtPJMgbGB0BiHb1s41nAwMA7gV62MZgzMHA8oJttRxkYXtDNMgYuB4ZKIMU3\n",
       "eXoMfoUvLUsPIHiE1WPVyTyBYS+Qcn3A9YGBQRu3FpY4hvUgxylAuBD1DItg0oR1ggHvAoY2YGKJ\n",
       "ZeDcwKA5A0+IX2CYDaTYoIkLrJ6BIQEqS4ROMGBrYAhhYOD8w8BRwMDggVvP/AMM7QgeVD0YCIAI\n",
       "InUyfQDZxrqB4bwCXj3RDDyfEDyoejDYQMA2ZJ1A24Ahed6AIR+vHp7PDGzAiDo+DcKFqOepTCBs\n",
       "G0Qn71x1UGJkaQClkvMJDFJsD/Dp+cbAuCCPYYIX1Dawek6WBUTYBtbJ63qB9QE4lVgyMHAX8DYy\n",
       "Q/ScB5rA8wuZASa2M9wQMOB5YAgRh6g/xyyAbBumThADovNNBQM/MBtwGoBU8ogXPSyB6OHoARKN\n",
       "IIYAlMHQAVR3sFxP3IEBFA4gBVD13BcYV62KWrUWl06wCESnOIMrJAMhSi5weORgBAYbIlv/Q1HA\n",
       "/wAlJDF1IkSCGCYzMTCcQC6VM0CEAYYeZjiLKQBFgSo8TeLQCRfh+8DQkgQulRn2wYqYfnFgIBVg\n",
       "6DkOZ7FvQFFQDbMNh06ECIsAQ/EFcI2DWpvyYiYrRNXOXYCiYDvcb9h1ootwg0Ke6JaCyNMDyDWx\n",
       "XwyKbYTBPZIqDGE5lHrfEJy8SKsdAa9AoAZAp34eAAAAAElFTkSuQmCC\n",
       "\" style=\"display:inline;vertical-align:middle;\" /></a><br>"
      ],
      "text/plain": [
       "param_dep_operands: (a_{1}, ..a_{_a}.., a_{j}, a_{j + 1}, ..a_{_a}.., a_{n})"
      ]
     },
     "execution_count": 38,
     "metadata": {},
     "output_type": "execute_result"
    }
   ],
   "source": [
    "param_dep_operands = a_1_to_n_partition.rhs"
   ]
  },
  {
   "cell_type": "markdown",
   "metadata": {},
   "source": [
    "Now we will apply `param_dep_lambda_example` to $a_1, \\ldots, a_j, a_{j+1}, \\ldots, a_n$"
   ]
  },
  {
   "cell_type": "code",
   "execution_count": 39,
   "metadata": {},
   "outputs": [
    {
     "data": {
      "text/html": [
       "<a class=\"ProveItLink\" href=\"__pv_it/exprrange_reductions/72c2e2709c61cca7ecf08ec1f857897d982738ad0/expr.ipynb\"><img src=\"data:image/png;base64,iVBORw0KGgoAAAANSUhEUgAAAe0AAAAVBAMAAACZLKsIAAAAMFBMVEX////MzMxUVFR2dna6uroQ\n",
       "EBCqqqqIiIgiIiJmZmYyMjJERETu7u6YmJjc3NwAAACgK8IjAAAAAXRSTlMAQObYZgAAA/dJREFU\n",
       "WMO1WE9IFFEY/1x3t113ZvUSEUEudBA62NKl1tNCCHsqg072zw6RJzMqSjy0SBl0sCUPBRGt4SEH\n",
       "Km8SkSyBFCW5p0gPNngpIdEoPIRE773ZN/PmzffcN2kPHMb5fvv7M+/Nm/cGIF0FvMVt0G4riut9\n",
       "OHTlHyW3wxJ39UFZbtfWMCapqVPBQsTGoEp4XcmQlhSNuXpO/s5XsPJ7bZEmSmRmEPUyBsXh1EQ9\n",
       "yZCWVPeEuDJLYOw7gOZu7K+dXFANOw6YV0ocwqA+eI3cMeFKKlpdS25hfjMa4ipB78sXNLfRpZt7\n",
       "RKkwg0FHMKPMhCup6qku3dwjm9EQV99AmRvGNXOni+rhlg9C/XBfbldS1cY1c29iyXE1IOdOj97n\n",
       "M05OM/eOEjm8HcQ4GktBqB/uz51DjXgtp5mbahxp/zogPDfLuas8JnH1Ws7daTetAeyhpwuauVP0\n",
       "VViKVSUOGCPTRzkI9cP9uRcAIXGaliVeoBrZV/3GH7cQPQMv+DlxNezlNtjhNCQnYfcDet6rmTvR\n",
       "Q6js5h4/BwC5EC8GoQI8kLsXEBLW9CzxAtFo6LkD6R/0H5ZupgoPXeNFOOHlnqN9k9yABPFYoBda\n",
       "6aHDsm5Z1pPg1GpZT7sti76NYnnq9VhF4qCtYS0IFeAiOTPRCggJsFdefUtCgWgYxi8wqbzxm9Ye\n",
       "V+A2xxFXQu4EMzYJcy2iiEZ/x9jkdVjmcHNLUAEe6O9WjAQm/bk1+ptqxNcgwh6zIXo4CcYPIfew\n",
       "9HzPZeEiFymEGOcAExKHMUAuRxXj3IP7cxcwEiF3QX+cQ7IMzVWezPhJ74P5aBedyIkreV6b64H9\n",
       "ZBlcCD2vGesSRzJa3mRec+GqeU0gEXKHmddi5M5Vsjz3Oun8PrOzGrOZK/ZiuOHlTvWbQ401kVE/\n",
       "F3vs6MF5YLww7GUV35A4PjaS4ZrMBqF+uJuAmRjFSITckiXmRLTEC1RjNQ8dJn9UYAo+Z7Lfr0Nz\n",
       "hbmibPfOTrjvIKPt0tKVmsiYNHYy/DDkD8MGc9JbKdQ46D1vaglC/XCe2zExFiSJWFa39Qy3xJyI\n",
       "lniBapAfLH1y+d5c29uWhzboBOYqga/fqYhRDLNOTZTkcjOhfqdap7pwH7lRxEi8/q5rqd469TiM\n",
       "NjBXZgmt94qbgFnVarnibgIaKqstcnmnsC8RoBJ8Ft13+Eic3FqW3AK+L0mvwc1zjqtprL58ty3M\n",
       "pi9lr2ZfBq4OYvvQlK2C4/vMQZ47tCXsajQDl6uOK/V3h+kQm/zIQPCzzRSm7nx3wOC45JTb32Et\n",
       "1bknyu9M5tY+6kSOkl3FYrjvTAFJRuLl3qIl3hbhP7bIQXvbSOxtd/cXit+IM6BjDiwAAAAASUVO\n",
       "RK5CYII=\n",
       "\" style=\"display:inline;vertical-align:middle;\" /></a>"
      ],
      "text/plain": [
       "(1 * a_{1}) + ..(k * a_{k}).. + (j * a_{j}) + ((j + 1) * a_{j + 1}) + ..(k * a_{k}).. + (n * a_{n})"
      ]
     },
     "execution_count": 39,
     "metadata": {},
     "output_type": "execute_result"
    }
   ],
   "source": [
    "requirements = []\n",
    "param_dep_lambda_example.apply(*param_dep_operands.entries, requirements = requirements)"
   ]
  },
  {
   "cell_type": "markdown",
   "metadata": {},
   "source": [
    "The following requirements are needed for this lambda application.  First, the length of the operands must match the length of the parameter index range for a proper applications (as we saw in the previous chapter).  Second, the indices themselves must match in order to perform this parameter-dependent **ExprRange** expansion."
   ]
  },
  {
   "cell_type": "code",
   "execution_count": 40,
   "metadata": {},
   "outputs": [
    {
     "data": {
      "text/html": [
       "<span style=\"font-size:20px;\"><a class=\"ProveItLink\" href=\"__pv_it/exprrange_reductions/9c3fd62286e7dde7f7db90b220d2dad3ca5e87350/expr.ipynb\"><img src=\"data:image/png;base64,iVBORw0KGgoAAAANSUhEUgAAADMAAAASBAMAAAAEf/uKAAAAMFBMVEX////MzMwyMjIiIiJ2dna6\n",
       "urrc3NxmZmZERESIiIhUVFSYmJju7u4QEBCqqqoAAACA8xhiAAAAAXRSTlMAQObYZgAAAN9JREFU\n",
       "GNNjYGBg4LvDgAwO/Wg6wOD7NwDE5l6AIsXQzbiAgecDAzawWGAmA8MFZBHuZmMjMGNpD5cAgwGS\n",
       "DGPnAShrmRSPDkTq5AyI7TAZhmV8E6QgUgW8G8ACcP3LGFy5J4CkuBP4H4AEGpCkuA4sBEnxMMSD\n",
       "jGK8pAQEUCmeBUwQFzqDCDZkXQwijBApdTB5AVmK+wFYJc8/sEAlXGohELuBpfj+gAWYH8Ck9ICY\n",
       "XQHEYod4nGdFDERG+C9QBw9YirkAIsTqAQ0oePgcyBdgwA7yHdpxyDBwTd+AQwYAD9YyhrRcti4A\n",
       "AAAASUVORK5CYII=\n",
       "\" style=\"display:inline;vertical-align:middle;\" /></a>, <a class=\"ProveItLink\" href=\"__pv_it/exprrange_reductions/e8f6e33ab73ab898b967cb9c3907494d3bfa98410/expr.ipynb\"><img src=\"data:image/png;base64,iVBORw0KGgoAAAANSUhEUgAAAGYAAAAUBAMAAACNG1WbAAAAMFBMVEX////MzMxUVFR2dna6uroQ\n",
       "EBCqqqqIiIgiIiJmZmYyMjJERETu7u6YmJjc3NwAAACgK8IjAAAAAXRSTlMAQObYZgAAAY1JREFU\n",
       "OMt9kz9Iw0AUxr/k2tqaGESoCDrUSRCF4iJuBRfBUTcRu4ib7VYEh7qUOummCEIdukhRB0FBlKMg\n",
       "SB1SHXQQatwEwT8oThW8uzZpe/Y8CPfycr+87328A6wyFGtZ9QHXivwi1Z3WjHl4VgBZmAUOFMwt\n",
       "zJyUMso9gA10bSoVYFx619c6kvADQUfNXNb3h2xWlNSn6SCCwLMaQWdMbP2rbp2nSIkyZgXwjb2m\n",
       "tqTjZuoIIEK3WfC0OUtahDHn7JNxAluSGMI867WmyGkwJHbPmAzQG8zhrbuVqeAbCKSFWw0PHIzo\n",
       "fQBzm9oxPPJcaZ+vPR5SXxXQ3nkY5km3YhF5wSABDMv9k7TLvDTX0aJhoQ07wI8pe8b69wlt/mYG\n",
       "d4bwADMIVInE2HHXg1DSY1jThJWdAKwvkNyNxCQoOx0VYcarHa+JmhISrNG4xGzzMzUzi8dU7NrG\n",
       "HDdKPTvr7Lmqx5On2ZZxbT+jA9ZHmxn11kWbnPVpsF/9uQv/37mhXT4AypFX3+2KIv8LIvJiQhkT\n",
       "oYIAAAAASUVORK5CYII=\n",
       "\" style=\"display:inline;vertical-align:middle;\" /></a>, <a class=\"ProveItLink\" href=\"../packages/proveit/numbers/number_sets/natural_numbers/__pv_it/theorems/ba5849e6de22ec92714c647d41d92ef0cc8fb69d0/expr.ipynb\"><img src=\"data:image/png;base64,iVBORw0KGgoAAAANSUhEUgAAADUAAAAPBAMAAAC2KZqIAAAAMFBMVEX///8QEBCYmJgyMjIiIiKq\n",
       "qqrMzMzu7u5ERERmZmaIiIjc3NxUVFR2dna6uroAAABXsXCEAAAAAXRSTlMAQObYZgAAAN5JREFU\n",
       "GNNjYMAExT+aCxgufnzAgA00sR1gYP+AVYrhSMIqBgYBVDENFxcDEH2unSeBwQFFKmM5lHE6h90c\n",
       "JMd3Z/eqWWARIB8mx7ogByTHy9HFUL8BJMKzAS7HcI9pAVAulcWAYX8CSISDASHHU3AMKFdQ/4BB\n",
       "HyySaAwEBhA59gPMIHfGMzAcBsvtQNLHkMsGkpvMwPCJHSTCiCzHFNAAZMgysH7nBYlwLoDJHQPi\n",
       "20A57n8MvAZqYCFXmJwpSCXQZj4HBu5DAWChmr4CMJ3yEaiH3QA1zN62uCCLAADDBTVfYPhN3gAA\n",
       "AABJRU5ErkJggg==\n",
       "\" style=\"display:inline;vertical-align:middle;\" /></a> <a class=\"ProveItLink\" href=\"__pv_it/exprrange_reductions/36e7c52df10a7a497ec0b2536812cc59b3d8825a0/proof.ipynb\" style=\"text-decoration: none\">&nbsp;&#x22A2;&nbsp;&nbsp;</a><a class=\"ProveItLink\" href=\"__pv_it/exprrange_reductions/6df9d5c99383a4fff4cfa25f7f98e94d6e78652c0/expr.ipynb\"><img src=\"data:image/png;base64,iVBORw0KGgoAAAANSUhEUgAAAW4AAAAWBAMAAAASimukAAAAMFBMVEX///9UVFQQEBCqqqoiIiJm\n",
       "ZmYyMjJERESYmJjc3NyIiIi6urp2dnbu7u7MzMwAAAADGpxCAAAAAXRSTlMAQObYZgAAAyRJREFU\n",
       "SMfFl01oE0EUx1+aTXa32UlzCjYW7E1Fq0G89KCm6EWlEPGTEnARDBRBe7Q57UEFL3YVBT2IixiE\n",
       "KjEEEbwlh170EkUUe0nRk0IxIoiiFWdnP2c3u7P1sA5kP4b3f++XmTdvZ2AV4m/Zrqdj3RCr8JLc\n",
       "b8dEPEmuUtPTbUCICttBUjUFRILmYuJOqCHc76J4GHVzp9WYuJEcwj2Lf7u6DA9v3dyXY0vtF8Hc\n",
       "QhnQ2CYWt6S5uA/Gxv06mJvTJ32BxY3GHW6xFBt3uhnIfROicMM5h3u4jC+3lu6Ha2gDsTIzERXW\n",
       "pZTKgdz1cO5M587iDL4vOdw8LkCZrXABV9bgwmIYQHrFeG2p6T6+nbdrMlNJmiBb3FKVtLLNfTGc\n",
       "W+Jr0MOpdMXh5oo48RQ4CdnjwRlDDHABNdNsC6R00qKFzVYa9bcUON77w7k/cjLcw4O22+Eewn5O\n",
       "d+EQHprg6IaB1VJrwGlWUSaDGk2Z7Qdybwvn7vaasIDvX2juzYD+hEY3DKw2NAc9M2OAZ3C7lf/O\n",
       "DfsA8jQ3zhP0G5L9sOimwfJR47XX1v2gepHNbSiFU5/rlpk7v3NR8wROAPxAAE+pdYm+QUKeDItu\n",
       "GJSfmdxFyCfVVEaOwE2UQksZUt3r0jfejHUJ2yG5JlHrUi9ONbiUa5PoPewafQfzYr8RA6R2jC5e\n",
       "E6YkeC/l3Ny2rf7gUd59ACOYKdUO5CYF7knXE9Z+E3+BJF8DqDjcesxXi58KTfLETeOuKTAvnE52\n",
       "oGsZ6KOiG6BC4/ojMlP56plqVaGVRORRFqBlldHB3HoCHNl5ViEaInYgpgmkuKFoVl7vd57M9h7/\n",
       "7tGZvZ+UwYhK5UmYcgdUsgBvGN95TzSrOY5RadC+ipTXtr/mO1v+ccrgg11PWEqxD4f3svZV3mh2\n",
       "aw/eV/HmXxWPfdUAaT7Zsv00jD82LoOHFjdTmcnBYyV8Hzvvi2YPsjZ4H0udGwT/33UOIrxGGdTs\n",
       "8WYqwRkgxrnBf+xxOZ43BY11ndM23nDnXuL5BMXNbleNSVvxdDcin9ME1SWI3sZGqVNXh3gR/8PR\n",
       "+i/PjR923EABWwAAAABJRU5ErkJggg==\n",
       "\" style=\"display:inline;vertical-align:middle;\" /></a></span><br>\n",
       "<span style=\"font-size:20px;\"><a class=\"ProveItLink\" href=\"__pv_it/exprrange_reductions/9c3fd62286e7dde7f7db90b220d2dad3ca5e87350/expr.ipynb\"><img src=\"data:image/png;base64,iVBORw0KGgoAAAANSUhEUgAAADMAAAASBAMAAAAEf/uKAAAAMFBMVEX////MzMwyMjIiIiJ2dna6\n",
       "urrc3NxmZmZERESIiIhUVFSYmJju7u4QEBCqqqoAAACA8xhiAAAAAXRSTlMAQObYZgAAAN9JREFU\n",
       "GNNjYGBg4LvDgAwO/Wg6wOD7NwDE5l6AIsXQzbiAgecDAzawWGAmA8MFZBHuZmMjMGNpD5cAgwGS\n",
       "DGPnAShrmRSPDkTq5AyI7TAZhmV8E6QgUgW8G8ACcP3LGFy5J4CkuBP4H4AEGpCkuA4sBEnxMMSD\n",
       "jGK8pAQEUCmeBUwQFzqDCDZkXQwijBApdTB5AVmK+wFYJc8/sEAlXGohELuBpfj+gAWYH8Ck9ICY\n",
       "XQHEYod4nGdFDERG+C9QBw9YirkAIsTqAQ0oePgcyBdgwA7yHdpxyDBwTd+AQwYAD9YyhrRcti4A\n",
       "AAAASUVORK5CYII=\n",
       "\" style=\"display:inline;vertical-align:middle;\" /></a>, <a class=\"ProveItLink\" href=\"__pv_it/exprrange_reductions/e8f6e33ab73ab898b967cb9c3907494d3bfa98410/expr.ipynb\"><img src=\"data:image/png;base64,iVBORw0KGgoAAAANSUhEUgAAAGYAAAAUBAMAAACNG1WbAAAAMFBMVEX////MzMxUVFR2dna6uroQ\n",
       "EBCqqqqIiIgiIiJmZmYyMjJERETu7u6YmJjc3NwAAACgK8IjAAAAAXRSTlMAQObYZgAAAY1JREFU\n",
       "OMt9kz9Iw0AUxr/k2tqaGESoCDrUSRCF4iJuBRfBUTcRu4ib7VYEh7qUOummCEIdukhRB0FBlKMg\n",
       "SB1SHXQQatwEwT8oThW8uzZpe/Y8CPfycr+87328A6wyFGtZ9QHXivwi1Z3WjHl4VgBZmAUOFMwt\n",
       "zJyUMso9gA10bSoVYFx619c6kvADQUfNXNb3h2xWlNSn6SCCwLMaQWdMbP2rbp2nSIkyZgXwjb2m\n",
       "tqTjZuoIIEK3WfC0OUtahDHn7JNxAluSGMI867WmyGkwJHbPmAzQG8zhrbuVqeAbCKSFWw0PHIzo\n",
       "fQBzm9oxPPJcaZ+vPR5SXxXQ3nkY5km3YhF5wSABDMv9k7TLvDTX0aJhoQ07wI8pe8b69wlt/mYG\n",
       "d4bwADMIVInE2HHXg1DSY1jThJWdAKwvkNyNxCQoOx0VYcarHa+JmhISrNG4xGzzMzUzi8dU7NrG\n",
       "HDdKPTvr7Lmqx5On2ZZxbT+jA9ZHmxn11kWbnPVpsF/9uQv/37mhXT4AypFX3+2KIv8LIvJiQhkT\n",
       "oYIAAAAASUVORK5CYII=\n",
       "\" style=\"display:inline;vertical-align:middle;\" /></a> <a class=\"ProveItLink\" href=\"__pv_it/exprrange_reductions/42a7525afa1dc97d4d8fbfec1f04dbe31b4a1beb0/proof.ipynb\" style=\"text-decoration: none\">&nbsp;&#x22A2;&nbsp;&nbsp;</a><a class=\"ProveItLink\" href=\"__pv_it/exprrange_reductions/6001f240159606ba45b2051e60709b6bba0e6c240/expr.ipynb\"><img src=\"data:image/png;base64,iVBORw0KGgoAAAANSUhEUgAAAS8AAAAUBAMAAAAuOqYxAAAAMFBMVEX////MzMxUVFR2dna6uroQ\n",
       "EBCqqqqIiIgiIiJmZmYyMjJERETu7u6YmJjc3NwAAACgK8IjAAAAAXRSTlMAQObYZgAAAnRJREFU\n",
       "SMe1VjGI1EAUfV72llt3ktvKSnDBQhA8g4161cI1dgpaKm4jWoh73bFYGAQPFYtwFopwEMXmUhx2\n",
       "IqKkEcUTNlpYWNwtNlq5Kx4Wsoozk0nITbKZycJNkfz8yct7mfnz/wesELs1qv2sT4vuGrtsKD9/\n",
       "XhiXgrLK5rKuDR3cFPujdRWl2RTGJ3lGqfR91rWugyMepXVBDh4ttRaXBVoNMxYzf6lHdxyYYau2\n",
       "NYkwDRg5I3s06d4A37GLwvBUdmjS7W2hq3rz7XXx90vP9IVVjv1YekDvJ+UJFd3C3Lcu3X/DxSuV\n",
       "MHc6OuA1XNAXZtSfo0d37Qt/8Plwma2is18ukn80FD0sK940+7Ntbmzit76wfTMeBg3gijyhoNvT\n",
       "vgvrJ01RDs4phBGcjiaDyojd5n3/lu8/UQgLei1s0fsBeUJBR8g2zCEVOFQKA07E2+OUCP4OcHgC\n",
       "YagOMeVxYctKYWvxSXFLCHsE/CXAqVSMNTW2EjUPs2GAiqMOfhKHVq9dQthZVEeGCP70UNFN2+gE\n",
       "Ngt+fqBvBCB/mAh26Xkpgy7uSBidQBYWwxJE8mRtw/A+Avdl4gI6fhm0MG82ULP5Yq9cXAtxm/He\n",
       "ZMm5GRv3+OI6wngoJ9gEliASGN0K6whd4ceysAI67qLzXz/TsGlENYKvTHZ9r/Ii4grjTibzF8Gi\n",
       "MHByS9IYXMr1jldVcehysh09HgFLR9TYz9JLND7sSKW5sKIiPhZn7CjieB2XnmzY088O7BfcsH7V\n",
       "3fyKlQsb3/aMp0u5WNuTdG7ZztJkLVs3jIxDq/nHKB8mqchpFMOiT9X7ur3uZMOctLXeBP4Dts3q\n",
       "Cgs+qN0AAAAASUVORK5CYII=\n",
       "\" style=\"display:inline;vertical-align:middle;\" /></a></span>"
      ],
      "text/plain": [
       "<proveit.magics.HTML_DisplayObjects at 0x7ffa4ac995c0>"
      ]
     },
     "execution_count": 40,
     "metadata": {},
     "output_type": "execute_result"
    }
   ],
   "source": [
    "requirements"
   ]
  },
  {
   "cell_type": "markdown",
   "metadata": {},
   "source": [
    "### Parameter independent expansions\n",
    "\n",
    "When the **ExprRange** parameter only appears as indices of variables that are being expanded, the **ExprRange** expansion reduction is more permissive.  Indices do not need to match.  Consider the following `dot_prod_lambda` example."
   ]
  },
  {
   "cell_type": "code",
   "execution_count": 41,
   "metadata": {},
   "outputs": [
    {
     "data": {
      "text/html": [
       "<strong id=\"dot_prod_lambda\">dot_prod_lambda:</strong> <a class=\"ProveItLink\" href=\"__pv_it/exprrange_reductions/ad57483e177c9ed681f7f52eb79514df4e9c37030/expr.ipynb\"><img src=\"data:image/png;base64,iVBORw0KGgoAAAANSUhEUgAAAdYAAAAUCAMAAAAHk+xjAAAANlBMVEX///8oKCgNDQ3MzMxUVFR2\n",
       "dna6uroQEBCqqqqIiIgiIiJmZmYyMjJERETu7u6YmJjc3NwAAADtE0dfAAAAAXRSTlMAQObYZgAA\n",
       "A4xJREFUaN7VWuGitRoQda9SVNT7v+ylIsOQaN/vy4+z55TWrDWjIUUIIasiX27jWt7XSm2R/MQf\n",
       "eU6tlZU15EK+3briOFupbZK7X+S1OQuO1WnM68fTKufSnlZqm+Ryfw9acxYcq8NQE/l663lZPyu1\n",
       "VXLob+RPEaIrXsiCY7UbYv18WuWAH+eBNCu1VXLo74W0vpAFx8oYqyDfbzPDgwdvASu1XXLgrz2t\n",
       "r2TBsdIGP6VLzruV8Z43DJcbCMknc2odZLWDBEDv8gcXHjBYVuoDyQmP/fRyWh9lIRUGx0oby7Gu\n",
       "lr2u74ITsc+3tGZZBiGw4k+YqRN8q/XgA8CZacYTOQIvp9QnkhOU1fxyWlFKT8PgWGlDjEdXnfl+\n",
       "k4TpGk+nqaYm+BDog9lIJuN4WSo9eABhlASeVsIXb0SfUgskyxvKo3g5rQil+La5C4NjpY2BuWuu\n",
       "fqwmrRKNODg/GDUbr/QAAECjbuD++88M2rZd0+Ap9V6y3OY8Zeev352IYf/pigY/egVKKVCPkkKj\n",
       "oI3hkn31Y7Uz+JYdt0wPRO2TVnvwABJpFXC+YcJb3ARpzUgWXZ4y3V6+W1FK4WK5uwmDn1ZbmUC/\n",
       "2rQ6CDUpynn4LLbXDj7Ue3AAAT5LFGE6S5IswkWSccrsR0X4PoS5MDhW2jgn61EeUzCX1UH3IRQb\n",
       "NO4QTBFLZ/9UptUBBPipJRPcugmWTEWSccq/WjLdhzAXBn/JdKyK2TaSZXP7zaeCq5xHRnzIh1gl\n",
       "NwimVniXkKkz3VSthwvAx9+P9y7goARP6ANATnJ0Y0SUoT8sSTktibTGlEKJGKmgj2OljYOs7DjX\n",
       "j0NKwdtZ2KnK1fWrwF+Hjk4QotO82QBB9i7TttZ68AE8fHNXUjwnNJho/d+E5HChElOO/UUlNaMF\n",
       "vwKjBCXipEAfx8oY2LaVUzDKsuobtYHug4ZG56e50cMB4OMTWVjRc5uHmVkhpBz5+83mIZCYIOX3\n",
       "cax2A9tkdk9AfdkuQfyIaWYIwUbqn+9mU41YvYcLAOC/stU/omlFKUf+5ONts+iKmBKUiJOCYQZb\n",
       "/WQJB8o6ia3jxzZV0ZYeMvZNzeG9AueF/nfhDR4uAB//wYsyKzUjObiJEMq/eTEXUQISE6RAmOGL\n",
       "udwL3KIX9qr0PNMzAm3xgAFgEUmPj6ev0VGPyx9+jY6HwbGyxsc/elH/80cv6q/86MWx2o3/ACqj\n",
       "NcomKa7uAAAAAElFTkSuQmCC\n",
       "\" style=\"display:inline;vertical-align:middle;\" /></a><br>"
      ],
      "text/plain": [
       "dot_prod_lambda: (x_{1}, ..x_{_a}.., x_{n}, y_{1}, ..y_{_a}.., y_{n}) -> ((x_{1} * y_{1}) + ..(x_{a} * y_{a}).. + (x_{n} * y_{n}))"
      ]
     },
     "execution_count": 41,
     "metadata": {},
     "output_type": "execute_result"
    }
   ],
   "source": [
    "from proveit.core_expr_types import (\n",
    "    a_1_to_j, b_1_to_k, c_1_to_j, d_1_to_k, x_1_to_n, y_1_to_n)\n",
    "dot_prod_lambda = \\\n",
    "    Lambda((x_1_to_n, y_1_to_n), \n",
    "           Add(ExprRange(a, Mult(IndexedVar(x, a),\n",
    "                                 IndexedVar(y, a)), one, n)))"
   ]
  },
  {
   "cell_type": "markdown",
   "metadata": {},
   "source": [
    "We map expand the $x_k$ variables and $y_k$ variables in any manner, with respecting the original indices, as long as the expansions of these two match.  We will demonstrate this by applying `dot_prod_lambda` such that the $x$ operands will be $(a_1, \\dots, a_j, b_1, \\ldots, b_k)$ and the $y$ operands will be $(c_1, \\ldots, c_j, 1 \\cdot d_1, \\ldots, k \\cdot d_k)$.  These don't respect the original indices since they go up to $j$ and then restart at $1$, but the do match each other, both going $1$ to $j$ then $1$ to $k$.  First, we will make some assumptions and prove a few things so we can meet the requirements."
   ]
  },
  {
   "cell_type": "code",
   "execution_count": 42,
   "metadata": {},
   "outputs": [
    {
     "data": {
      "text/html": [
       "<strong id=\"jpk_eq_n\">jpk_eq_n:</strong> <a class=\"ProveItLink\" href=\"__pv_it/exprrange_reductions/c71ae0fb1283a31908daab923b72df1342e99a8c0/expr.ipynb\"><img src=\"data:image/png;base64,iVBORw0KGgoAAAANSUhEUgAAAGUAAAAUBAMAAABmLO6YAAAAMFBMVEX////MzMxUVFR2dna6uroQ\n",
       "EBCqqqqIiIgiIiJmZmYyMjJERETu7u6YmJjc3NwAAACgK8IjAAAAAXRSTlMAQObYZgAAAWVJREFU\n",
       "OMtjYOC7wIAD5OGSYDgNIlIPoIjxbG0AkkwPcOlZByIuoQlyTQDpXIBDC+8EZF46lOZPAJHmOPRw\n",
       "PMCmxx/s1qM49LxgwKbHAuJCB+x6KkEOL9+ApmclQ+48BgbmCWiKnfWeVxYwMOwFMjkZYlH18Hxj\n",
       "f/IX6FdwIFitAoGVIKbB7gKefwwMbUDmPYZvqHrY/tTwAKONrQHVGsaELga+jwwMIUD2AZY/UANb\n",
       "V61aBLI4EqLmA6oeHp4vDLwfIHoYmBtQ7eFQ345NDwPbBwamBRC3QaIQSc95h/egIGNpQPgHZD0D\n",
       "5wIG/gsHwGHAcD4BVc99oIgBLAyQAKsBQ/4BAwZLEDv/AKoebQZ+AaAeTgM0PUDbrXgFGDxA7Blo\n",
       "cbqNgX060BguATQ9QMWPrkHTTid6OoCAE7jTqAwozCHgDIocrjTKsI/vM/cErDI48wIwz6nPxS7D\n",
       "jTPP4c7b93CIAwDviV5w2SVEMgAAAABJRU5ErkJggg==\n",
       "\" style=\"display:inline;vertical-align:middle;\" /></a><br>"
      ],
      "text/plain": [
       "jpk_eq_n: (j + k) = n"
      ]
     },
     "execution_count": 42,
     "metadata": {},
     "output_type": "execute_result"
    }
   ],
   "source": [
    "jpk_eq_n = Equals(Add(j, k), n)"
   ]
  },
  {
   "cell_type": "code",
   "execution_count": 43,
   "metadata": {},
   "outputs": [
    {
     "data": {
      "text/html": [
       "<strong id=\"defaults.assumptions\">defaults.assumptions:</strong> <a class=\"ProveItLink\" href=\"__pv_it/exprrange_reductions/4be3bf4bf5ecce887ba35e056a9286483576db040/expr.ipynb\"><img src=\"data:image/png;base64,iVBORw0KGgoAAAANSUhEUgAAAOsAAAAUBAMAAACe4NcqAAAAMFBMVEX////MzMxUVFR2dna6uroQ\n",
       "EBCqqqqIiIgiIiJmZmYyMjJERETu7u6YmJjc3NwAAACgK8IjAAAAAXRSTlMAQObYZgAAA0JJREFU\n",
       "SMe1Vk1oE0EUfrsxaX5m01ApFPSQglChEvagaCtIwIug0B568BdzkV7U5lZCi1TBEotgLlIRlCAo\n",
       "WIrmoLZaW5aCtLRKgoeKCLWK0IKHptjmoFWcNz/J7LKbiziQ2XnfzJtv5s03bwIQLcE/FW//y/Xw\n",
       "RawuWCpOnk6Ng+98DzeeDzncFn69suDAVpJbzD9w1j5k8SSt9BV3WoY/wdZ7e0ek1ARQFEY45/Sb\n",
       "1uJAysJg/kbcMeQxLjjvTou4kXNbz9WGNPiF0Zhydu+N9QN087bdv1c2Klgd9IgyxYNqJIzJ7Aij\n",
       "PW61QlCAXdUD+JTNsg3sea3HQITe5l+l3bGN9RsPWoqvKaY2IRj0L/EFS9Iekt27BkUj0UTGJe0a\n",
       "uNH6WG846U5L8QwGu7/AtWJVD71Xiwerx3TpPjuScemWCKSbJC36w9yAgzacC3xcAZ/zAI8mVjNp\n",
       "QHyaWiE4x6erac2X/CBoSaXh22+wCTMB+420oEV/yPlLdtpi6kpXCQx2JJ1jWFBjYE6lyR9AfJha\n",
       "y1wBUFAkvk9v4e3A9iBhk0agRqtbrYIW/Y0VKTtJ2zdnvaOujqunpUYgusFwvJwWV4B2GpclaGfh\n",
       "IR8bOiWcmrE3z2lJPCyUjP6Ey45u6/rY2ANEb7PwamXHzSGbYJQZ3lNTQFTdrWY2C6m2TfDGd2W3\n",
       "sFNTaGuyk7u9NpB2oYVAGfQ8w4eVjNCt5pElEdRicp0L0q/SGqlCLcg8Oyi0ZDO6iddoqHa2LAih\n",
       "PDSWLMSnuQLY6NEqbYxGQOzuM+01mU9adrfS35GCIilSsdMaZVLxgZCUUvwm9Fkm4h1MAfzmBGU+\n",
       "CmPjLpCf9NMOjTFT2Rgtj/jCizhrB5ednVYvwAalDZkOWhq3TiOG+DE074jYtJ/girt1Bm8xQJYu\n",
       "5wU0jPJVzT7j35atAkuswZvUYP6hITttJAUZmlvCMQctHfx1ieEsud2QOe0wT45VCVj22z6ZtYXt\n",
       "okyOwZwzJ7My75Ec51kq3413ybX46j+1Jn8KNGtdbuutM+V7PQUwE/0RyXn0z9VlJUxjM7BuvvR8\n",
       "4DzxRWi75zVx/T8ehnjm9Yz7uIjHM8/w//enZtkb/wt9Ous5FvGFcgAAAABJRU5ErkJggg==\n",
       "\" style=\"display:inline;vertical-align:middle;\" /></a><br>"
      ],
      "text/plain": [
       "defaults.assumptions: (j in Natural, k in Natural, (j + k) = n)"
      ]
     },
     "execution_count": 43,
     "metadata": {},
     "output_type": "execute_result"
    }
   ],
   "source": [
    "param_indep_assumptions = [InSet(j, Natural), InSet(k, Natural), jpk_eq_n]\n",
    "defaults.assumptions = param_indep_assumptions"
   ]
  },
  {
   "cell_type": "code",
   "execution_count": 44,
   "metadata": {},
   "outputs": [
    {
     "data": {
      "text/html": [
       "<strong id=\"jpk_in_nats\">jpk_in_nats:</strong> <span style=\"font-size:20px;\"><a class=\"ProveItLink\" href=\"__pv_it/exprrange_reductions/9c3fd62286e7dde7f7db90b220d2dad3ca5e87350/expr.ipynb\"><img src=\"data:image/png;base64,iVBORw0KGgoAAAANSUhEUgAAADMAAAASBAMAAAAEf/uKAAAAMFBMVEX////MzMwyMjIiIiJ2dna6\n",
       "urrc3NxmZmZERESIiIhUVFSYmJju7u4QEBCqqqoAAACA8xhiAAAAAXRSTlMAQObYZgAAAN9JREFU\n",
       "GNNjYGBg4LvDgAwO/Wg6wOD7NwDE5l6AIsXQzbiAgecDAzawWGAmA8MFZBHuZmMjMGNpD5cAgwGS\n",
       "DGPnAShrmRSPDkTq5AyI7TAZhmV8E6QgUgW8G8ACcP3LGFy5J4CkuBP4H4AEGpCkuA4sBEnxMMSD\n",
       "jGK8pAQEUCmeBUwQFzqDCDZkXQwijBApdTB5AVmK+wFYJc8/sEAlXGohELuBpfj+gAWYH8Ck9ICY\n",
       "XQHEYod4nGdFDERG+C9QBw9YirkAIsTqAQ0oePgcyBdgwA7yHdpxyDBwTd+AQwYAD9YyhrRcti4A\n",
       "AAAASUVORK5CYII=\n",
       "\" style=\"display:inline;vertical-align:middle;\" /></a>, <a class=\"ProveItLink\" href=\"../packages/proveit/numbers/addition/__pv_it/theorems/bfb51b20218eda15111bf9094481a2c5d106a87b0/expr.ipynb\"><img src=\"data:image/png;base64,iVBORw0KGgoAAAANSUhEUgAAADMAAAAPBAMAAAC7N+rPAAAAMFBMVEX////MzMxUVFSIiIjc3NyY\n",
       "mJh2dna6urqqqqpmZmYyMjIiIiIQEBBERETu7u4AAAA59f8xAAAAAXRSTlMAQObYZgAAAOFJREFU\n",
       "GNNj4LuzgQEVvPp76wFDzp8CBgauCWhSDFcZFRj4PgAZ/A3oUtoCxgwMB4CM+gdQEdbbu3eBGer3\n",
       "mAQYQNZkQ2UYL8PUqAjxrQNLrWRonQK2HSbDoMJhIASS4vvB7P4VLAC3S4UhndUAKMXxz44vACRw\n",
       "AUmK6YEiUIrzJNSqU6uAACrFp8AFdCG38mUwnwVZF4MYI1DqfYF/AVjgALIUawNQZTzD+4YEkMBk\n",
       "uJQiEKcApXQZ+AXAUtzwUFkBxJwLGBhuMDBPBvuIT7cOIiP9B6iDbwFy0LHnQgMKCgCcjDwSTSfb\n",
       "2QAAAABJRU5ErkJggg==\n",
       "\" style=\"display:inline;vertical-align:middle;\" /></a> <a class=\"ProveItLink\" href=\"__pv_it/exprrange_reductions/8144cf1d5e48e0d5b239d704954aa58a8c3e1d030/proof.ipynb\" style=\"text-decoration: none\">&nbsp;&#x22A2;&nbsp;&nbsp;</a><a class=\"ProveItLink\" href=\"__pv_it/exprrange_reductions/a55a03f729a6116818a1a12cdc220634b499712a0/expr.ipynb\"><img src=\"data:image/png;base64,iVBORw0KGgoAAAANSUhEUgAAAGUAAAAUBAMAAABmLO6YAAAAMFBMVEX////MzMxUVFR2dna6uroQ\n",
       "EBCqqqqIiIgiIiJmZmYyMjJERETu7u6YmJjc3NwAAACgK8IjAAAAAXRSTlMAQObYZgAAAadJREFU\n",
       "OMtjYOC7wIAD5OGSYDgNIlIPoIjxbG0AkkwPUFWe+r3rAIPpVwcGhnUg7iU0g7gmgHQuQBPdy6jA\n",
       "wPOBgYF3ArJoOpTmTwCR5mh6NATKGRgCGBg4HmDT4w9261Eo73ZHB9hKlT1MAgxAV79gwKbHAuJC\n",
       "BzAlXQMV1RPiWQPSUwlyePkGND0rGXLnMTAwg90NVAfTw1YgBNKzF8jmZIhF1cPzjf3JX6BfwS5C\n",
       "BJ8egwlvAVBPG5B9j+Ebqh62PzU8wGhjA4U4AzcDQg/TAUWgWAiQfYDlD0jIatWq1lWrFoEsjgSr\n",
       "YfwAIkVXAcECiB4eBa4AiB4G5gZUezjUtyP0vEayh0GYMQDiNkgUIuk57/AeFGQsYKNYkfXwJmyA\n",
       "hAHD+QRUPfeBIgawMOAsgOlRBGI7oB5LECf/AKoebQZ+AaAeTgMwrw2mZxnIBKA5HiDODLQ43cbA\n",
       "Ph1oDJcAmHdoC8RIia8bIIkQnHY60dMBBJyA0s47OlCSKzCNyvB9hPHOoOgxx5V/9vF95p6AVQYj\n",
       "LyDlOfW52GW4H+DSgztv38MhDgBD6mjQ+i/+PgAAAABJRU5ErkJggg==\n",
       "\" style=\"display:inline;vertical-align:middle;\" /></a></span><br>"
      ],
      "text/plain": [
       "jpk_in_nats: {j in Natural, k in Natural} |- (j + k) in Natural"
      ]
     },
     "execution_count": 44,
     "metadata": {},
     "output_type": "execute_result"
    }
   ],
   "source": [
    "jpk_in_nats = InSet(Add(j, k), Natural).prove()"
   ]
  },
  {
   "cell_type": "code",
   "execution_count": 45,
   "metadata": {},
   "outputs": [
    {
     "data": {
      "text/html": [
       "<span style=\"font-size:20px;\"><a class=\"ProveItLink\" href=\"__pv_it/exprrange_reductions/9c3fd62286e7dde7f7db90b220d2dad3ca5e87350/expr.ipynb\"><img src=\"data:image/png;base64,iVBORw0KGgoAAAANSUhEUgAAADMAAAASBAMAAAAEf/uKAAAAMFBMVEX////MzMwyMjIiIiJ2dna6\n",
       "urrc3NxmZmZERESIiIhUVFSYmJju7u4QEBCqqqoAAACA8xhiAAAAAXRSTlMAQObYZgAAAN9JREFU\n",
       "GNNjYGBg4LvDgAwO/Wg6wOD7NwDE5l6AIsXQzbiAgecDAzawWGAmA8MFZBHuZmMjMGNpD5cAgwGS\n",
       "DGPnAShrmRSPDkTq5AyI7TAZhmV8E6QgUgW8G8ACcP3LGFy5J4CkuBP4H4AEGpCkuA4sBEnxMMSD\n",
       "jGK8pAQEUCmeBUwQFzqDCDZkXQwijBApdTB5AVmK+wFYJc8/sEAlXGohELuBpfj+gAWYH8Ck9ICY\n",
       "XQHEYod4nGdFDERG+C9QBw9YirkAIsTqAQ0oePgcyBdgwA7yHdpxyDBwTd+AQwYAD9YyhrRcti4A\n",
       "AAAASUVORK5CYII=\n",
       "\" style=\"display:inline;vertical-align:middle;\" /></a>, <a class=\"ProveItLink\" href=\"../packages/proveit/numbers/addition/__pv_it/theorems/bfb51b20218eda15111bf9094481a2c5d106a87b0/expr.ipynb\"><img src=\"data:image/png;base64,iVBORw0KGgoAAAANSUhEUgAAADMAAAAPBAMAAAC7N+rPAAAAMFBMVEX////MzMxUVFSIiIjc3NyY\n",
       "mJh2dna6urqqqqpmZmYyMjIiIiIQEBBERETu7u4AAAA59f8xAAAAAXRSTlMAQObYZgAAAOFJREFU\n",
       "GNNj4LuzgQEVvPp76wFDzp8CBgauCWhSDFcZFRj4PgAZ/A3oUtoCxgwMB4CM+gdQEdbbu3eBGer3\n",
       "mAQYQNZkQ2UYL8PUqAjxrQNLrWRonQK2HSbDoMJhIASS4vvB7P4VLAC3S4UhndUAKMXxz44vACRw\n",
       "AUmK6YEiUIrzJNSqU6uAACrFp8AFdCG38mUwnwVZF4MYI1DqfYF/AVjgALIUawNQZTzD+4YEkMBk\n",
       "uJQiEKcApXQZ+AXAUtzwUFkBxJwLGBhuMDBPBvuIT7cOIiP9B6iDbwFy0LHnQgMKCgCcjDwSTSfb\n",
       "2QAAAABJRU5ErkJggg==\n",
       "\" style=\"display:inline;vertical-align:middle;\" /></a>, <a class=\"ProveItLink\" href=\"__pv_it/exprrange_reductions/c71ae0fb1283a31908daab923b72df1342e99a8c0/expr.ipynb\"><img src=\"data:image/png;base64,iVBORw0KGgoAAAANSUhEUgAAAGUAAAAUBAMAAABmLO6YAAAAMFBMVEX////MzMxUVFR2dna6uroQ\n",
       "EBCqqqqIiIgiIiJmZmYyMjJERETu7u6YmJjc3NwAAACgK8IjAAAAAXRSTlMAQObYZgAAAWVJREFU\n",
       "OMtjYOC7wIAD5OGSYDgNIlIPoIjxbG0AkkwPcOlZByIuoQlyTQDpXIBDC+8EZF46lOZPAJHmOPRw\n",
       "PMCmxx/s1qM49LxgwKbHAuJCB+x6KkEOL9+ApmclQ+48BgbmCWiKnfWeVxYwMOwFMjkZYlH18Hxj\n",
       "f/IX6FdwIFitAoGVIKbB7gKefwwMbUDmPYZvqHrY/tTwAKONrQHVGsaELga+jwwMIUD2AZY/UANb\n",
       "V61aBLI4EqLmA6oeHp4vDLwfIHoYmBtQ7eFQ345NDwPbBwamBRC3QaIQSc95h/egIGNpQPgHZD0D\n",
       "5wIG/gsHwGHAcD4BVc99oIgBLAyQAKsBQ/4BAwZLEDv/AKoebQZ+AaAeTgM0PUDbrXgFGDxA7Blo\n",
       "cbqNgX060BguATQ9QMWPrkHTTid6OoCAE7jTqAwozCHgDIocrjTKsI/vM/cErDI48wIwz6nPxS7D\n",
       "jTPP4c7b93CIAwDviV5w2SVEMgAAAABJRU5ErkJggg==\n",
       "\" style=\"display:inline;vertical-align:middle;\" /></a> <a class=\"ProveItLink\" href=\"__pv_it/exprrange_reductions/94d0679d718c532faa5b62de01ca43b9040754900/proof.ipynb\" style=\"text-decoration: none\">&nbsp;&#x22A2;&nbsp;&nbsp;</a><a class=\"ProveItLink\" href=\"../packages/proveit/numbers/number_sets/natural_numbers/__pv_it/theorems/ba5849e6de22ec92714c647d41d92ef0cc8fb69d0/expr.ipynb\"><img src=\"data:image/png;base64,iVBORw0KGgoAAAANSUhEUgAAADUAAAAPBAMAAAC2KZqIAAAAMFBMVEX///8QEBCYmJgyMjIiIiKq\n",
       "qqrMzMzu7u5ERERmZmaIiIjc3NxUVFR2dna6uroAAABXsXCEAAAAAXRSTlMAQObYZgAAAN5JREFU\n",
       "GNNjYMAExT+aCxgufnzAgA00sR1gYP+AVYrhSMIqBgYBVDENFxcDEH2unSeBwQFFKmM5lHE6h90c\n",
       "JMd3Z/eqWWARIB8mx7ogByTHy9HFUL8BJMKzAS7HcI9pAVAulcWAYX8CSISDASHHU3AMKFdQ/4BB\n",
       "HyySaAwEBhA59gPMIHfGMzAcBsvtQNLHkMsGkpvMwPCJHSTCiCzHFNAAZMgysH7nBYlwLoDJHQPi\n",
       "20A57n8MvAZqYCFXmJwpSCXQZj4HBu5DAWChmr4CMJ3yEaiH3QA1zN62uCCLAADDBTVfYPhN3gAA\n",
       "AABJRU5ErkJggg==\n",
       "\" style=\"display:inline;vertical-align:middle;\" /></a></span>"
      ],
      "text/plain": [
       "{j in Natural, k in Natural, (j + k) = n} |- n in Natural"
      ]
     },
     "execution_count": 45,
     "metadata": {},
     "output_type": "execute_result"
    }
   ],
   "source": [
    "jpk_eq_n.sub_right_side_into(jpk_in_nats)"
   ]
  },
  {
   "cell_type": "code",
   "execution_count": 46,
   "metadata": {},
   "outputs": [
    {
     "data": {
      "text/html": [
       "<strong id=\"x_operands\">x_operands:</strong> <a class=\"ProveItLink\" href=\"__pv_it/exprrange_reductions/688262c0b2657851190af91073e196c602b5f2760/expr.ipynb\"><img src=\"data:image/png;base64,iVBORw0KGgoAAAANSUhEUgAAAL8AAAAVBAMAAADlQyK9AAAAMFBMVEX///9UVFTMzMx2dna6uroQ\n",
       "EBCqqqqIiIgiIiJmZmYyMjJERETu7u6YmJjc3NwAAAC+aOQFAAAAAXRSTlMAQObYZgAAAhRJREFU\n",
       "OMtjYOC7wEAzkAciTpOsjWdrA5HyjA+AxDrSHcY1gUh5ngUMDLwTSLeAP4FYeXMGBo4HpFvgf4BY\n",
       "+aMMDC/IiDsLouW5HBgqgRTf5Okx+LW8tCxFcvXC8ml4VSPkmScw7AVSrg+4PjAwaOPWwRLHsB7k\n",
       "HgVI1P06cP4BHuVgefZwEJN3AUMbUCCWgXMDg+YM3BYcvcAwG0ixQXhsfxj4C/AoB8sztICZDQwh\n",
       "DAycfxg4ChgYPHBbMP8AQzuCx7mA4bwBHuVgeZ4/ICbTB5AFrBsYzivgtSCagecTSjL3T8CjHCzP\n",
       "0gC1ABhEQOfkM+CzgOczAxswko5Do47/AshLuJWD5ZknqAsAI68BFMnnExik2B7gs+AbA+OCPIYJ\n",
       "XlADHICxhs8CkDzXNZ8/4Ei2ZGDgLuBtZIboOL8AlAjQGQzbGW4IGPA8MIQIMV7gngBWjqoSzgPL\n",
       "8wuBowMcVzziRQ9LIBZw9ACJRhBDAMYAiRws1xN3YAD5tgOYHXim20JDFMSDq4QrB8urVidAEjai\n",
       "qAD7OQfDw0gi/4Dp7gCycrYDOJVXMwUATT6BXNhlgAgDDB0IEaYAYNZkQFbOzIBT+XamhgJwYcew\n",
       "D1Ya9IsDfVeAEcEIEfYNwJTEgKz8OANO5esYxBXAxTVqhcOLoQNJhBuoGbX6u4BPOUgHKPyJrjJF\n",
       "nh4gtdi9R5JqYTlyqmUAM7SVq64tuN4AAAAASUVORK5CYII=\n",
       "\" style=\"display:inline;vertical-align:middle;\" /></a><br>"
      ],
      "text/plain": [
       "x_operands: (a_{1}, ..a_{_a}.., a_{j}, b_{1}, ..b_{_a}.., b_{k})"
      ]
     },
     "execution_count": 46,
     "metadata": {},
     "output_type": "execute_result"
    }
   ],
   "source": [
    "x_operands = [a_1_to_j, b_1_to_k]"
   ]
  },
  {
   "cell_type": "markdown",
   "metadata": {},
   "source": [
    "Make this one a little more interesting and demonstrate that expansions can be **ExprRange**s of any kind, not just variable ranges."
   ]
  },
  {
   "cell_type": "code",
   "execution_count": 47,
   "metadata": {},
   "outputs": [
    {
     "data": {
      "text/html": [
       "<strong id=\"y_operands\">y_operands:</strong> <a class=\"ProveItLink\" href=\"__pv_it/exprrange_reductions/4c3ef3b3e9bd85963c270380f4f1f469279318410/expr.ipynb\"><img src=\"data:image/png;base64,iVBORw0KGgoAAAANSUhEUgAAAPMAAAAVBAMAAABhxcWTAAAAMFBMVEX///9UVFTMzMx2dna6uroQ\n",
       "EBCqqqqIiIgiIiJmZmYyMjJERETu7u6YmJjc3NwAAAC+aOQFAAAAAXRSTlMAQObYZgAAAp1JREFU\n",
       "SMfFlk1oE0EUx//Z1HxOPrBiQEFzEZGCrnhoPQi5CCJCexBERN2L4EFrKIUgFUypFA+CqYJWD5pr\n",
       "LiWXGhCq8SBVPCQn9aKNoFBPVpQcJBVnXjYTx92dNrTgHGbm8ea/v515bz6AeB3/oYyK6s0GPzJw\n",
       "Wudl83nFNuYL1PoavJrrGXahqphN7eBIQbUTVvuXikCs0COY9e9W0H0t7XAbJcuwLR4EQo2eZ72k\n",
       "oP157eBhdYkwZLcvgWVsEB3RL9vQP3apI8vgKs0+l9bq/bkxD/TXwQOWVlrC5UfSiN8d62SGv4AF\n",
       "3ixb0SIGvOXxaTzl/5l2ovvO4XkVRtk7M5rBz6vSOtqIthA8JbqxIqZ5MwWftW/WGx0ysR0IqLNm\n",
       "FLE6HsJ44B3uQOsao4NDaNhZhHlm3yBHHieBMOXoMW/046pLrGvFtmeKz90bHbZ3PfsFAvFZMMIZ\n",
       "KwK9pbwG+oxbmoWS5GE/tehQqtLuTIJAtYw9mqP5gtdMPZr9EPXiPWeacU9gRYuuZb5luoaJKyLB\n",
       "9iZJw9MswYNh6Wa9KgJdOO6CbsJXHNWhl1CzTIm2sCPQiLw90aI0O8xDkMTrNKFF/CgqskPVDNgd\n",
       "1jhoxxfXu6Gv4H3SJDS5nPqdSKQlOpqNTfqR2EpJYBLx0Idse8FDt+yoUCBFBzc5x3/kHe8t2P6Z\n",
       "8yV52b3I7U+1o0cuKaOOkD5B8H53kVJjn8axZ0KcBHyryoOUFvySc3dI4W9XP+3u/BpSpUwYI5z5\n",
       "6q/r46KoTOdBJq+7EVe/vUe1UrVUjHyWrg88s0/E2ym+IlnHwMVOJ1h29YvDbvZ7VitVyxxSabo0\n",
       "ladCzDmw3s0RV/96pC4lKuK8zgfSti/VzXwgfexhbP+uzX6e/QFoGLlam2W5mAAAAABJRU5ErkJg\n",
       "gg==\n",
       "\" style=\"display:inline;vertical-align:middle;\" /></a><br>"
      ],
      "text/plain": [
       "y_operands: (c_{1}, ..c_{_a}.., c_{j}, 1 * d_{1}, ..i * d_{i}.., k * d_{k})"
      ]
     },
     "execution_count": 47,
     "metadata": {},
     "output_type": "execute_result"
    }
   ],
   "source": [
    "y_operands = [c_1_to_j, ExprRange(i, Mult(i, IndexedVar(d, i)), one, k)]"
   ]
  },
  {
   "cell_type": "code",
   "execution_count": 48,
   "metadata": {},
   "outputs": [
    {
     "data": {
      "text/html": [
       "<strong id=\"x_len_jpk\">x_len_jpk:</strong> <span style=\"font-size:20px;\"><a class=\"ProveItLink\" href=\"__pv_it/exprrange_reductions/9c3fd62286e7dde7f7db90b220d2dad3ca5e87350/expr.ipynb\"><img src=\"data:image/png;base64,iVBORw0KGgoAAAANSUhEUgAAADMAAAASBAMAAAAEf/uKAAAAMFBMVEX////MzMwyMjIiIiJ2dna6\n",
       "urrc3NxmZmZERESIiIhUVFSYmJju7u4QEBCqqqoAAACA8xhiAAAAAXRSTlMAQObYZgAAAN9JREFU\n",
       "GNNjYGBg4LvDgAwO/Wg6wOD7NwDE5l6AIsXQzbiAgecDAzawWGAmA8MFZBHuZmMjMGNpD5cAgwGS\n",
       "DGPnAShrmRSPDkTq5AyI7TAZhmV8E6QgUgW8G8ACcP3LGFy5J4CkuBP4H4AEGpCkuA4sBEnxMMSD\n",
       "jGK8pAQEUCmeBUwQFzqDCDZkXQwijBApdTB5AVmK+wFYJc8/sEAlXGohELuBpfj+gAWYH8Ck9ICY\n",
       "XQHEYod4nGdFDERG+C9QBw9YirkAIsTqAQ0oePgcyBdgwA7yHdpxyDBwTd+AQwYAD9YyhrRcti4A\n",
       "AAAASUVORK5CYII=\n",
       "\" style=\"display:inline;vertical-align:middle;\" /></a>, <a class=\"ProveItLink\" href=\"../packages/proveit/numbers/addition/__pv_it/theorems/bfb51b20218eda15111bf9094481a2c5d106a87b0/expr.ipynb\"><img src=\"data:image/png;base64,iVBORw0KGgoAAAANSUhEUgAAADMAAAAPBAMAAAC7N+rPAAAAMFBMVEX////MzMxUVFSIiIjc3NyY\n",
       "mJh2dna6urqqqqpmZmYyMjIiIiIQEBBERETu7u4AAAA59f8xAAAAAXRSTlMAQObYZgAAAOFJREFU\n",
       "GNNj4LuzgQEVvPp76wFDzp8CBgauCWhSDFcZFRj4PgAZ/A3oUtoCxgwMB4CM+gdQEdbbu3eBGer3\n",
       "mAQYQNZkQ2UYL8PUqAjxrQNLrWRonQK2HSbDoMJhIASS4vvB7P4VLAC3S4UhndUAKMXxz44vACRw\n",
       "AUmK6YEiUIrzJNSqU6uAACrFp8AFdCG38mUwnwVZF4MYI1DqfYF/AVjgALIUawNQZTzD+4YEkMBk\n",
       "uJQiEKcApXQZ+AXAUtzwUFkBxJwLGBhuMDBPBvuIT7cOIiP9B6iDbwFy0LHnQgMKCgCcjDwSTSfb\n",
       "2QAAAABJRU5ErkJggg==\n",
       "\" style=\"display:inline;vertical-align:middle;\" /></a> <a class=\"ProveItLink\" href=\"__pv_it/exprrange_reductions/7a6833d69ecc4d80656b6605f08cb03fb551e58d0/proof.ipynb\" style=\"text-decoration: none\">&nbsp;&#x22A2;&nbsp;&nbsp;</a><a class=\"ProveItLink\" href=\"__pv_it/exprrange_reductions/363be3f60c1e029824d2fc1f51a52e9409f95c640/expr.ipynb\"><img src=\"data:image/png;base64,iVBORw0KGgoAAAANSUhEUgAAASwAAAAWBAMAAACIxbw5AAAAMFBMVEX///9UVFQQEBCqqqoiIiJm\n",
       "ZmYyMjJERESYmJjc3NyIiIi6urp2dnbu7u7MzMwAAAADGpxCAAAAAXRSTlMAQObYZgAAA0RJREFU\n",
       "SMe9lk9IFHEUx984uzuz6/x2PUXuqUPQHxD20CUj3I0uBtFSViBCelACqRbDQ57mkJ6ng+DNSRDJ\n",
       "SiS8dHKDjKDLFmQlxIgU0SFUFqQypd/7zczOzs5vftsENYfxuft9+z6/997v93vwDf7Lk65E079i\n",
       "76l/ByQb+NYWA19MiTwYFilFDUZG8mLBu8Ou1c7HYjHlDp5Xu4OVMCInIVFsIhh0jVU+FouptvG8\n",
       "Vh2s8ei1yeSaCKquoZlcLF/MTp8X9WBY3dGxlpv0cOterVqHuFjdPCzbi3ogVjIfHet5k+817zeH\n",
       "eVj+mJ1+r2GGlcI+mVyZEScg2ddb16AD85fEvZeddcu8wsNiMdfmGrASRXncQA/EUnSavmNwix4v\n",
       "gi35xEhs0T837crsVCwDvoSrrRvkB8xgW8FEDevFED6srTEmFFt0P5aVe7Csowdixei63uhwFdKX\n",
       "w8tJjkIcoe0cyHuQMT/3hGN1VeAnxBjMCV62MKZquBvHxepaq7xnHojVQn2uVeAczVk4VnwPYqb3\n",
       "Xz9YZVgKx7oC5BdYrC02eVgYk9gbh+bwzNDQAH560T52NmtYR4DsC7FaSmCt1x9byzkR1iC0Vp3v\n",
       "Q7G8jeNmqzBnelg0oXRp8pYQiyaniy7QaeSMjvkVYH3H9K6k71NzqaG3Btwiemeug0V2k7vAPJyW\n",
       "J1WQ+k8KsXJwQDbirf021iLtNRHWLnbr9VNYxgletljLk6ofS90iVQ3cltdoRcfgbluZYVkYGF9k\n",
       "p95QTLWgwQetjX0k6UrRxgoq2esgjAJss6r38bAwJm4cH5ZUgn2NeSAWwrye/5pdZFbsPOYYL6uC\n",
       "a5ylaybZhXsP2SpRQHpfOuVh8kK9C5O/faRD+vhtcI6UABarSzzvx1JyMPuYefgvHyY+HRw1vIM2\n",
       "Y9QJWBHD5anSRpKuIB96+cSKjXei3WL5hqtaxp8oB28Sz9yoF+CJJJAr5qeU4KpOV6bdrf3R7+9c\n",
       "1Yoz2CR7tk0gZiDOmmfS66ImmLyQBZE8YUgLoYONYkyXR/nbZZU3BqpBne6ZY40CsZw+d8LGQGlW\n",
       "52NRj4VIQ7P0tCPqqKGySqTW/3xoViMPpdKz6HPs3zy/Af54+cftiEpbAAAAAElFTkSuQmCC\n",
       "\" style=\"display:inline;vertical-align:middle;\" /></a></span><br>"
      ],
      "text/plain": [
       "x_len_jpk: {j in Natural, k in Natural} |- |(a_{1}, ..a_{x}.., a_{j}, b_{1}, ..b_{x}.., b_{k})| = (j + k)"
      ]
     },
     "execution_count": 48,
     "metadata": {},
     "output_type": "execute_result"
    }
   ],
   "source": [
    "x_len_jpk = Len(x_operands).computation()"
   ]
  },
  {
   "cell_type": "code",
   "execution_count": 49,
   "metadata": {},
   "outputs": [
    {
     "data": {
      "text/html": [
       "<span style=\"font-size:20px;\"><a class=\"ProveItLink\" href=\"__pv_it/exprrange_reductions/9c3fd62286e7dde7f7db90b220d2dad3ca5e87350/expr.ipynb\"><img src=\"data:image/png;base64,iVBORw0KGgoAAAANSUhEUgAAADMAAAASBAMAAAAEf/uKAAAAMFBMVEX////MzMwyMjIiIiJ2dna6\n",
       "urrc3NxmZmZERESIiIhUVFSYmJju7u4QEBCqqqoAAACA8xhiAAAAAXRSTlMAQObYZgAAAN9JREFU\n",
       "GNNjYGBg4LvDgAwO/Wg6wOD7NwDE5l6AIsXQzbiAgecDAzawWGAmA8MFZBHuZmMjMGNpD5cAgwGS\n",
       "DGPnAShrmRSPDkTq5AyI7TAZhmV8E6QgUgW8G8ACcP3LGFy5J4CkuBP4H4AEGpCkuA4sBEnxMMSD\n",
       "jGK8pAQEUCmeBUwQFzqDCDZkXQwijBApdTB5AVmK+wFYJc8/sEAlXGohELuBpfj+gAWYH8Ck9ICY\n",
       "XQHEYod4nGdFDERG+C9QBw9YirkAIsTqAQ0oePgcyBdgwA7yHdpxyDBwTd+AQwYAD9YyhrRcti4A\n",
       "AAAASUVORK5CYII=\n",
       "\" style=\"display:inline;vertical-align:middle;\" /></a>, <a class=\"ProveItLink\" href=\"../packages/proveit/numbers/addition/__pv_it/theorems/bfb51b20218eda15111bf9094481a2c5d106a87b0/expr.ipynb\"><img src=\"data:image/png;base64,iVBORw0KGgoAAAANSUhEUgAAADMAAAAPBAMAAAC7N+rPAAAAMFBMVEX////MzMxUVFSIiIjc3NyY\n",
       "mJh2dna6urqqqqpmZmYyMjIiIiIQEBBERETu7u4AAAA59f8xAAAAAXRSTlMAQObYZgAAAOFJREFU\n",
       "GNNj4LuzgQEVvPp76wFDzp8CBgauCWhSDFcZFRj4PgAZ/A3oUtoCxgwMB4CM+gdQEdbbu3eBGer3\n",
       "mAQYQNZkQ2UYL8PUqAjxrQNLrWRonQK2HSbDoMJhIASS4vvB7P4VLAC3S4UhndUAKMXxz44vACRw\n",
       "AUmK6YEiUIrzJNSqU6uAACrFp8AFdCG38mUwnwVZF4MYI1DqfYF/AVjgALIUawNQZTzD+4YEkMBk\n",
       "uJQiEKcApXQZ+AXAUtzwUFkBxJwLGBhuMDBPBvuIT7cOIiP9B6iDbwFy0LHnQgMKCgCcjDwSTSfb\n",
       "2QAAAABJRU5ErkJggg==\n",
       "\" style=\"display:inline;vertical-align:middle;\" /></a>, <a class=\"ProveItLink\" href=\"__pv_it/exprrange_reductions/c71ae0fb1283a31908daab923b72df1342e99a8c0/expr.ipynb\"><img src=\"data:image/png;base64,iVBORw0KGgoAAAANSUhEUgAAAGUAAAAUBAMAAABmLO6YAAAAMFBMVEX////MzMxUVFR2dna6uroQ\n",
       "EBCqqqqIiIgiIiJmZmYyMjJERETu7u6YmJjc3NwAAACgK8IjAAAAAXRSTlMAQObYZgAAAWVJREFU\n",
       "OMtjYOC7wIAD5OGSYDgNIlIPoIjxbG0AkkwPcOlZByIuoQlyTQDpXIBDC+8EZF46lOZPAJHmOPRw\n",
       "PMCmxx/s1qM49LxgwKbHAuJCB+x6KkEOL9+ApmclQ+48BgbmCWiKnfWeVxYwMOwFMjkZYlH18Hxj\n",
       "f/IX6FdwIFitAoGVIKbB7gKefwwMbUDmPYZvqHrY/tTwAKONrQHVGsaELga+jwwMIUD2AZY/UANb\n",
       "V61aBLI4EqLmA6oeHp4vDLwfIHoYmBtQ7eFQ345NDwPbBwamBRC3QaIQSc95h/egIGNpQPgHZD0D\n",
       "5wIG/gsHwGHAcD4BVc99oIgBLAyQAKsBQ/4BAwZLEDv/AKoebQZ+AaAeTgM0PUDbrXgFGDxA7Blo\n",
       "cbqNgX060BguATQ9QMWPrkHTTid6OoCAE7jTqAwozCHgDIocrjTKsI/vM/cErDI48wIwz6nPxS7D\n",
       "jTPP4c7b93CIAwDviV5w2SVEMgAAAABJRU5ErkJggg==\n",
       "\" style=\"display:inline;vertical-align:middle;\" /></a> <a class=\"ProveItLink\" href=\"__pv_it/exprrange_reductions/e1b81ef2de5c3dd2865ed594dac57eab78d3810f0/proof.ipynb\" style=\"text-decoration: none\">&nbsp;&#x22A2;&nbsp;&nbsp;</a><a class=\"ProveItLink\" href=\"__pv_it/exprrange_reductions/55ba97e49ae7caf6b7b0a3657668bbdaf806cee60/expr.ipynb\"><img src=\"data:image/png;base64,iVBORw0KGgoAAAANSUhEUgAAAPsAAAAWBAMAAAD0hvfJAAAAMFBMVEX///9UVFQQEBCqqqoiIiJm\n",
       "ZmYyMjJERESYmJjc3NyIiIi6urp2dnbu7u7MzMwAAAADGpxCAAAAAXRSTlMAQObYZgAAAnpJREFU\n",
       "SMdjeMtAH4DDntNgcgbt7GWegGQPdut5C0g29boKsfKSBK1nm0C6r1KJlb9G0PpWMgL1M7HyPAsI\n",
       "We9Juu3cf4mV51UgYD2nA+nW8zgQLZ9NwHquACAx9eiiC3gN5IyJ0kXw2KSWGuBTjSR/FJv1eyRn\n",
       "LV0AEWZvAAaWJkM+AwMfniywaQLbByCVB+Hdz+X9iU85WH4RONrb4NYfSwMBcKI8UL4AqAAszAJ0\n",
       "56UGhnAGvlDcQcqrwcAKsg3qJ/sLDL/wKQfJM7BsADFNsPiez8CNgfMfRJgJqCr+AoMXMAxwm8f6\n",
       "l4FlAYIbxsD7B59ysPx9cHS+x2I9L+9vBo4PCOvVGXj/4bWeqYDh/gPkbM39GZ9ysPwWBlzWMzB/\n",
       "YGBMgAc+0KlAAXzm3T/AYA90NSxB/QAFBx7lYPmjfAuBzC1ocZ8IDswEBv6GC7Ckx/sZ6BhLvNYb\n",
       "MIgxT2DlToBwf4NSCx7lYPkMa1Dwt2HzPRPQNxcOgIV5gBmviqFF4ADYPN5vIMsS0BnsCzgceRhu\n",
       "8giAhRgkGEohgYWpEkyA5T+CYysGm/XzNzAc43gAFgaZcnHVS6kNEO+4AF3MIgBkODJAGSARXql1\n",
       "E1eDQ4rFFyh0dU0DRCOYB1cJYoCVg+T5tIoZYFkV3XpgjExsRi90wdYzYxQ/SCL8wNrJFkW5LQMu\n",
       "5VwFjziB7nYgusphBinlwSxBEcxHoCIDRfkBnMrZFzzhIqbKYYdWuJwhH4Fqb2EoQhJZDvQOLPuD\n",
       "lfMuwKmcbQLjOmIqXNTmRgOGIiSRKgYGDhQ5DgZ8yoGgEp/160hqbDHu1CW1auSYgGQPhYDx4AQG\n",
       "agIAe1zQLbuTEkAAAAAASUVORK5CYII=\n",
       "\" style=\"display:inline;vertical-align:middle;\" /></a></span>"
      ],
      "text/plain": [
       "{j in Natural, k in Natural, (j + k) = n} |- |(a_{1}, ..a_{x}.., a_{j}, b_{1}, ..b_{x}.., b_{k})| = n"
      ]
     },
     "execution_count": 49,
     "metadata": {},
     "output_type": "execute_result"
    }
   ],
   "source": [
    "jpk_eq_n.sub_right_side_into(x_len_jpk)"
   ]
  },
  {
   "cell_type": "code",
   "execution_count": 50,
   "metadata": {},
   "outputs": [
    {
     "data": {
      "text/html": [
       "<strong id=\"y_len_jpk\">y_len_jpk:</strong> <span style=\"font-size:20px;\"><a class=\"ProveItLink\" href=\"__pv_it/exprrange_reductions/9c3fd62286e7dde7f7db90b220d2dad3ca5e87350/expr.ipynb\"><img src=\"data:image/png;base64,iVBORw0KGgoAAAANSUhEUgAAADMAAAASBAMAAAAEf/uKAAAAMFBMVEX////MzMwyMjIiIiJ2dna6\n",
       "urrc3NxmZmZERESIiIhUVFSYmJju7u4QEBCqqqoAAACA8xhiAAAAAXRSTlMAQObYZgAAAN9JREFU\n",
       "GNNjYGBg4LvDgAwO/Wg6wOD7NwDE5l6AIsXQzbiAgecDAzawWGAmA8MFZBHuZmMjMGNpD5cAgwGS\n",
       "DGPnAShrmRSPDkTq5AyI7TAZhmV8E6QgUgW8G8ACcP3LGFy5J4CkuBP4H4AEGpCkuA4sBEnxMMSD\n",
       "jGK8pAQEUCmeBUwQFzqDCDZkXQwijBApdTB5AVmK+wFYJc8/sEAlXGohELuBpfj+gAWYH8Ck9ICY\n",
       "XQHEYod4nGdFDERG+C9QBw9YirkAIsTqAQ0oePgcyBdgwA7yHdpxyDBwTd+AQwYAD9YyhrRcti4A\n",
       "AAAASUVORK5CYII=\n",
       "\" style=\"display:inline;vertical-align:middle;\" /></a>, <a class=\"ProveItLink\" href=\"../packages/proveit/numbers/addition/__pv_it/theorems/bfb51b20218eda15111bf9094481a2c5d106a87b0/expr.ipynb\"><img src=\"data:image/png;base64,iVBORw0KGgoAAAANSUhEUgAAADMAAAAPBAMAAAC7N+rPAAAAMFBMVEX////MzMxUVFSIiIjc3NyY\n",
       "mJh2dna6urqqqqpmZmYyMjIiIiIQEBBERETu7u4AAAA59f8xAAAAAXRSTlMAQObYZgAAAOFJREFU\n",
       "GNNj4LuzgQEVvPp76wFDzp8CBgauCWhSDFcZFRj4PgAZ/A3oUtoCxgwMB4CM+gdQEdbbu3eBGer3\n",
       "mAQYQNZkQ2UYL8PUqAjxrQNLrWRonQK2HSbDoMJhIASS4vvB7P4VLAC3S4UhndUAKMXxz44vACRw\n",
       "AUmK6YEiUIrzJNSqU6uAACrFp8AFdCG38mUwnwVZF4MYI1DqfYF/AVjgALIUawNQZTzD+4YEkMBk\n",
       "uJQiEKcApXQZ+AXAUtzwUFkBxJwLGBhuMDBPBvuIT7cOIiP9B6iDbwFy0LHnQgMKCgCcjDwSTSfb\n",
       "2QAAAABJRU5ErkJggg==\n",
       "\" style=\"display:inline;vertical-align:middle;\" /></a> <a class=\"ProveItLink\" href=\"__pv_it/exprrange_reductions/ff7cb5f2d49a85867904bbf7f9231c7ebb3140240/proof.ipynb\" style=\"text-decoration: none\">&nbsp;&#x22A2;&nbsp;&nbsp;</a><a class=\"ProveItLink\" href=\"__pv_it/exprrange_reductions/8f544a2ced19d13a59b021bc0a821a67f6a2d64a0/expr.ipynb\"><img src=\"data:image/png;base64,iVBORw0KGgoAAAANSUhEUgAAAV8AAAAWBAMAAACVu4KiAAAAMFBMVEX///9UVFQQEBCqqqoiIiJm\n",
       "ZmYyMjJERESYmJjc3NyIiIi6urp2dnbu7u7MzMwAAAADGpxCAAAAAXRSTlMAQObYZgAAA4xJREFU\n",
       "SMfFl01oE0EUx992k+wm2d0GBcGePCh+QGEPvTQiTdVLoWKUKh6Kbg8tglCCoqAX92CLelrBgrdG\n",
       "oRQrhiC9eGoKKlI9xOJnQRKKUjxIUwJFaCvOzH51srOjoUIXkt3Zee8/v5l582YWfsI2X1q5Ofs3\n",
       "5P/BdqCKFv5XioGKUJpOF1jNbXGULmd51Z/20uWlffZ9NxuY0IjtDA3BcoBjVtOjQ+u16lzrwYZy\n",
       "3b59ZAMTGjnF0FANB3ikWd53sxtUeYYfiHW6mHSclTwTmKJJUxpzDnBP00Eg08AvuMZJ2hiUjDP3\n",
       "e5jAPSxgW2PeBo5ntgo8yDVWGvRjbsRfYgHTNGlKI1YkwAksoEwV+IxzU1U2cLy/UOd6xrLiiL9K\n",
       "xuaW3Yh/yQImNAuTDcC2hpIlwJKJWj0G10DjZIv7uoRCfpgB/MySUGkp3LWiP54xvfg4CDfL8AiH\n",
       "L4x6wK+G8EUmCtNAtsWkgW0N2SDAEdTjSAl2amc4sdELAjLTaWC81tQDEDXge1+4a9dC+bNrDfMm\n",
       "nEXNEcwO1ghjGtly806a0hAzBLgF+VzAaslw4OgGI4bVVbsG9Ramw4FP2zFLrHFDvWjACPwyCxjT\n",
       "qHbeQeN+dGhowNfQah7wfuADt+RYi67brqkUucDdk3nPGjWkrrnWocB+3klTGg4wmgR1/S/AlRIe\n",
       "owk9GMOopgt4wOpafM0vrINYQ8tNe+j4bI7hATck/LyTpjSSGW/R/UIBwgNuRTZ6NGkwgHXYhY4F\n",
       "4cByTa0rHnAdBKMTLh7GQTHKGmGy6NQ6DexoOIsOJQs4Bep5AkwirWI0PkRT8KH6RUmRNyj3+MBS\n",
       "Xu5WyGh5HrS/kIPfHjDcgFupEqyQFNnPAsY0IG7QwI5GtESAMafy+q4TEsdR1yMpJ+TIA34Db2/n\n",
       "Se8jJzD+jtVz3pi1Fe49safXc/X9kbWkw8RTf1ef+tFW1A5dwc/DLGACEc3QwI5GrEpvzcRWDJwL\n",
       "/DetKP8fYU/8NNM1xDqRW4yjrmZCt+ZItvEsQa73DYcfkSgEt1bvaRH9SmzgDqZriLWU/5bgHH60\n",
       "8ri7q36ld1sHWLI3znjfCpJYCMj7b9CGqeaZCGMn21iuIdYxSyiEHi8la7x0lZ1vDNYB3gzYmZtW\n",
       "DMicQ0PQlWcN18MO8MKEyZ4YNLCFJj6RhOft//MTSSbzmqj++yfSnSZbEGYt2O7rD58RGwt1f26P\n",
       "AAAAAElFTkSuQmCC\n",
       "\" style=\"display:inline;vertical-align:middle;\" /></a></span><br>"
      ],
      "text/plain": [
       "y_len_jpk: {j in Natural, k in Natural} |- |(c_{1}, ..c_{x}.., c_{j}, 1 * d_{1}, ..x * d_{x}.., k * d_{k})| = (j + k)"
      ]
     },
     "execution_count": 50,
     "metadata": {},
     "output_type": "execute_result"
    }
   ],
   "source": [
    "y_len_jpk = Len(y_operands).computation()"
   ]
  },
  {
   "cell_type": "code",
   "execution_count": 51,
   "metadata": {},
   "outputs": [
    {
     "data": {
      "text/html": [
       "<span style=\"font-size:20px;\"><a class=\"ProveItLink\" href=\"__pv_it/exprrange_reductions/9c3fd62286e7dde7f7db90b220d2dad3ca5e87350/expr.ipynb\"><img src=\"data:image/png;base64,iVBORw0KGgoAAAANSUhEUgAAADMAAAASBAMAAAAEf/uKAAAAMFBMVEX////MzMwyMjIiIiJ2dna6\n",
       "urrc3NxmZmZERESIiIhUVFSYmJju7u4QEBCqqqoAAACA8xhiAAAAAXRSTlMAQObYZgAAAN9JREFU\n",
       "GNNjYGBg4LvDgAwO/Wg6wOD7NwDE5l6AIsXQzbiAgecDAzawWGAmA8MFZBHuZmMjMGNpD5cAgwGS\n",
       "DGPnAShrmRSPDkTq5AyI7TAZhmV8E6QgUgW8G8ACcP3LGFy5J4CkuBP4H4AEGpCkuA4sBEnxMMSD\n",
       "jGK8pAQEUCmeBUwQFzqDCDZkXQwijBApdTB5AVmK+wFYJc8/sEAlXGohELuBpfj+gAWYH8Ck9ICY\n",
       "XQHEYod4nGdFDERG+C9QBw9YirkAIsTqAQ0oePgcyBdgwA7yHdpxyDBwTd+AQwYAD9YyhrRcti4A\n",
       "AAAASUVORK5CYII=\n",
       "\" style=\"display:inline;vertical-align:middle;\" /></a>, <a class=\"ProveItLink\" href=\"../packages/proveit/numbers/addition/__pv_it/theorems/bfb51b20218eda15111bf9094481a2c5d106a87b0/expr.ipynb\"><img src=\"data:image/png;base64,iVBORw0KGgoAAAANSUhEUgAAADMAAAAPBAMAAAC7N+rPAAAAMFBMVEX////MzMxUVFSIiIjc3NyY\n",
       "mJh2dna6urqqqqpmZmYyMjIiIiIQEBBERETu7u4AAAA59f8xAAAAAXRSTlMAQObYZgAAAOFJREFU\n",
       "GNNj4LuzgQEVvPp76wFDzp8CBgauCWhSDFcZFRj4PgAZ/A3oUtoCxgwMB4CM+gdQEdbbu3eBGer3\n",
       "mAQYQNZkQ2UYL8PUqAjxrQNLrWRonQK2HSbDoMJhIASS4vvB7P4VLAC3S4UhndUAKMXxz44vACRw\n",
       "AUmK6YEiUIrzJNSqU6uAACrFp8AFdCG38mUwnwVZF4MYI1DqfYF/AVjgALIUawNQZTzD+4YEkMBk\n",
       "uJQiEKcApXQZ+AXAUtzwUFkBxJwLGBhuMDBPBvuIT7cOIiP9B6iDbwFy0LHnQgMKCgCcjDwSTSfb\n",
       "2QAAAABJRU5ErkJggg==\n",
       "\" style=\"display:inline;vertical-align:middle;\" /></a>, <a class=\"ProveItLink\" href=\"__pv_it/exprrange_reductions/c71ae0fb1283a31908daab923b72df1342e99a8c0/expr.ipynb\"><img src=\"data:image/png;base64,iVBORw0KGgoAAAANSUhEUgAAAGUAAAAUBAMAAABmLO6YAAAAMFBMVEX////MzMxUVFR2dna6uroQ\n",
       "EBCqqqqIiIgiIiJmZmYyMjJERETu7u6YmJjc3NwAAACgK8IjAAAAAXRSTlMAQObYZgAAAWVJREFU\n",
       "OMtjYOC7wIAD5OGSYDgNIlIPoIjxbG0AkkwPcOlZByIuoQlyTQDpXIBDC+8EZF46lOZPAJHmOPRw\n",
       "PMCmxx/s1qM49LxgwKbHAuJCB+x6KkEOL9+ApmclQ+48BgbmCWiKnfWeVxYwMOwFMjkZYlH18Hxj\n",
       "f/IX6FdwIFitAoGVIKbB7gKefwwMbUDmPYZvqHrY/tTwAKONrQHVGsaELga+jwwMIUD2AZY/UANb\n",
       "V61aBLI4EqLmA6oeHp4vDLwfIHoYmBtQ7eFQ345NDwPbBwamBRC3QaIQSc95h/egIGNpQPgHZD0D\n",
       "5wIG/gsHwGHAcD4BVc99oIgBLAyQAKsBQ/4BAwZLEDv/AKoebQZ+AaAeTgM0PUDbrXgFGDxA7Blo\n",
       "cbqNgX060BguATQ9QMWPrkHTTid6OoCAE7jTqAwozCHgDIocrjTKsI/vM/cErDI48wIwz6nPxS7D\n",
       "jTPP4c7b93CIAwDviV5w2SVEMgAAAABJRU5ErkJggg==\n",
       "\" style=\"display:inline;vertical-align:middle;\" /></a> <a class=\"ProveItLink\" href=\"__pv_it/exprrange_reductions/9ee08ca09b1d3490b3d12d2ba1673d6a3f11e5bf0/proof.ipynb\" style=\"text-decoration: none\">&nbsp;&#x22A2;&nbsp;&nbsp;</a><a class=\"ProveItLink\" href=\"__pv_it/exprrange_reductions/e3a4237918d32e6bb37044f9eb3e11259697486d0/expr.ipynb\"><img src=\"data:image/png;base64,iVBORw0KGgoAAAANSUhEUgAAAS8AAAAWBAMAAABj8gc6AAAAMFBMVEX///9UVFQQEBCqqqoiIiJm\n",
       "ZmYyMjJERESYmJjc3NyIiIi6urp2dnbu7u7MzMwAAAADGpxCAAAAAXRSTlMAQObYZgAAAwJJREFU\n",
       "SMfFlk1oE0EUgF9+d5PsJkFBaE4eFH+gsAcvItIERRAqVqnioeh6qAhCCQqKXgxoi3jagoJ4cRVC\n",
       "MWII4kUQmoItUj1Ewb9eEopSPEhTAkVJW5yfzW4mmUwSInYOs/Py3pv53ry3eQu/YJNHuMD//R2Z\n",
       "H2wGksfAs5ITgKnJHqO+PCRSf9nByks76bOvLZjf6DrafkaMaELr0Qa5Qh+f24KNd8v1YWadkacL\n",
       "QvMKK4YsZ8VsB3a06+TJLNgboXGINQYlTp/q9jZggXivYKNCY6Vhf3+tIi+1AQtiQyWTFbPMZ0p8\n",
       "sMBItiL09A95xp0qvj+/XKvIWR7Y676HaZOCSSm0+yG4CmHB23lPk3SAMQ7YC0NC0lJr16L2dDpl\n",
       "53UP3CzAE1xeMGGDzV3Ag1x8/pqp/qFgXhSBNw9bw6cEOR0EFzLTWDBc8+pu8OnwY7i168BC4WvN\n",
       "Gj6m4DQ6juDs49xYWDsCgQ0K5ka6c9gr1BrMt86pMXWValBU8LI12ElaU8QaHzSILpFALnPAVLUK\n",
       "ctkB2wViMHeSV/wJqinmhGCJKdO2Rgehky1rHhh4yuDS7VSqa23AinkcTVprrjGkGQARmFoNVB1h\n",
       "DZ8Ms+HHlk99jZ0nudEhkirYxf8boYrAIshG84V0DpgG21Dbaw0ml9WKYoNV0H3sh4sHcDIneDfm\n",
       "RoEW8gRMQTVwAtSzBIxUQlGvW5DJF4VPpW9K1KqUoAMmmXJCIdGzHrbkSsKGDQY34HY0Dyvkr2eE\n",
       "B/YoB3NyiYBhHuXtXSuVh1Eo3qhVEmThPYam93dMerdY79uyesa+g1h28hlNi+3q+CNXSYP0c6eb\n",
       "ZX7GcuG9V/B6jAeGNpq81dCSCJinue8dtBNqcPXWfkJXZgSTiwEUUrzTJu4hls1G+dpika+3/5ME\n",
       "rsyQzO/BTpq4RBtGYHgFmS40v1ZmbTUFPD1pNMdjYle2SRmubCefPcyHYqr5taqrXJ6+I1fOuC4C\n",
       "y3bxae161f8vP61lkqdgqfedXDMG/K/xF/fi8J8D+4RSAAAAAElFTkSuQmCC\n",
       "\" style=\"display:inline;vertical-align:middle;\" /></a></span>"
      ],
      "text/plain": [
       "{j in Natural, k in Natural, (j + k) = n} |- |(c_{1}, ..c_{x}.., c_{j}, 1 * d_{1}, ..x * d_{x}.., k * d_{k})| = n"
      ]
     },
     "execution_count": 51,
     "metadata": {},
     "output_type": "execute_result"
    }
   ],
   "source": [
    "jpk_eq_n.sub_right_side_into(y_len_jpk)"
   ]
  },
  {
   "cell_type": "markdown",
   "metadata": {},
   "source": [
    "Now we perform the lambda application"
   ]
  },
  {
   "cell_type": "code",
   "execution_count": 52,
   "metadata": {},
   "outputs": [
    {
     "data": {
      "text/html": [
       "<a class=\"ProveItLink\" href=\"__pv_it/exprrange_reductions/73ef96700b71880bb6dba966b7a7ad8579f5ccc00/expr.ipynb\"><img src=\"data:image/png;base64,iVBORw0KGgoAAAANSUhEUgAAAcsAAAAVBAMAAADbb9ifAAAAMFBMVEX////MzMxUVFR2dna6uroQ\n",
       "EBCqqqqIiIgiIiJmZmYyMjJERETu7u6YmJjc3NwAAACgK8IjAAAAAXRSTlMAQObYZgAAA+FJREFU\n",
       "WMO9WE1oE0EY/ZJsk7TZpLkUFQ+Np4CHUryUimAu0hykzaFQkB5yENqDyFopIbTQULSCoFY9WAti\n",
       "Kh4kYCk92EOxLhVpUTE5iQqWHFT0IFQRCyWKszOzMzvb7M+IOIfN8uZ979u385NvFiBRA5cWroPv\n",
       "9tWt86wkv1mAU3O3QJReuEt0+U6mLrn1Buty/CYBjs3DAlZadOc8952szfW51LIcv0mAY/OwYCjF\n",
       "Z905IY3ejDhNa5Pw1l2oR5LPApwSsw4vC4ZS1GNuqDm/Nq+6Cz2T5LMAT5teFgylz14z4r5Pm4mS\n",
       "x5zOyPFZgKdNTwtIqYh+NsY+nNeEISxq8FEn970+bUbQ1FELXX09Qu/GLUgMk9k/K8dnAZ42m1qw\n",
       "KT1Gybrjl6JlCPCdL6TkYIoC73zajKFd/Sm80S6j+wXW230CItsYiJcd+QfBxseAGeBpk1sY12xK\n",
       "kSGqNINM6aGGUg/cJrPIGMRPrWVYpcCoT5vRPMAxOK73o/u8KZTIz0NsCQPhkhP/wByZQoxPADPA\n",
       "0yazANEM2DJfoEqDhr7xJKBgWXXX4LVosEOBTuNytFK5WKnc27sPVyoPTlUqKXTbkjH0V/nE38WP\n",
       "PgTtxFdg25GfxYRqmfGzLMApsbWDW6jqtsxqgyoNGr/4SYgrmDYuA3rgm9Wmj9FswW9yh3dgIaUB\n",
       "nUluszmf2IymGD9rDfAcTW4ha89MLCClGWwlyW3iNg+RHAWyEpMW0MsxNrA860Wzf5wASsmJz1KY\n",
       "fAIoEpOWWugNjIlKodl9KayE1m9Yn4KILthchliKAjJb0Bm0fUxCq8ILGCSzTIBmWxDhW21iPgFk\n",
       "tiBq4eHpqi4otb0+2cBK6P9iIP/EKKOtNm/AQI0CN0VRYwWRZbQrPjbatZWfsW1URr8Kpfg7TSm/\n",
       "CNDa7cQXRtPgE8AMGLGsdZbdapNb+J60KbUfokpIcb2wcacm2lwv3K1TYEG0iVcQvkyLj43Yanqy\n",
       "+J4OlLkRpYu/CdCWdORbbBI+BsyAEcta59ktHcxCYOiRTaljIk+UeKWkCGXJPAXUknyx126tvtAa\n",
       "wcCmMz8LNj4GNqWLvchSR0JUmgjkSGpe94a5zWBZ/UEBVrq/dCp69T2leAfvPQzVDAF6nPmjdv6o\n",
       "tXR3Ssw6mIWYtj8iKq0EShpRWjPPpnPfWQ0RrcU0Cvg/iMXYGE5w8AqsEGDvuYrxv1xLi3wMSBzE\n",
       "1tjRLnhOVFqEdJIoNTuTKoXrdgmZY/UKB/uKSQLE/B2rCV98a393rLYpuX9hiMt/JAn2D9tO7waw\n",
       "JfuRZOuffSSRUJJowSN1D+D/tz+tH2myyQW2pQAAAABJRU5ErkJggg==\n",
       "\" style=\"display:inline;vertical-align:middle;\" /></a>"
      ],
      "text/plain": [
       "(x_{1} * y_{1}) + ..(x_{_a} * y_{_a}).. + (x_{j} * y_{j}) + (x_{1} * y_{1}) + ..(x_{_a} * y_{_a}).. + (x_{k} * y_{k})"
      ]
     },
     "execution_count": 52,
     "metadata": {},
     "output_type": "execute_result"
    }
   ],
   "source": [
    "requirements = []\n",
    "dot_prod_lambda.apply(*x_operands, *y_operands, requirements=requirements)"
   ]
  },
  {
   "cell_type": "markdown",
   "metadata": {},
   "source": [
    "Note that the requirements, in this case, only relate to matching the length of the operands and respective parameter index ranges.  The necessity that the $x$ operands and the $y$ operands match with respect to corresponding **ExprRange** start and end indices is not needed as an explicit requirement; it is a simple matter of checking that the expressions of these indices match identically.  In other words, that requirement is met by a trivial inspection."
   ]
  },
  {
   "cell_type": "code",
   "execution_count": 53,
   "metadata": {},
   "outputs": [
    {
     "data": {
      "text/html": [
       "<span style=\"font-size:20px;\"><a class=\"ProveItLink\" href=\"__pv_it/exprrange_reductions/9c3fd62286e7dde7f7db90b220d2dad3ca5e87350/expr.ipynb\"><img src=\"data:image/png;base64,iVBORw0KGgoAAAANSUhEUgAAADMAAAASBAMAAAAEf/uKAAAAMFBMVEX////MzMwyMjIiIiJ2dna6\n",
       "urrc3NxmZmZERESIiIhUVFSYmJju7u4QEBCqqqoAAACA8xhiAAAAAXRSTlMAQObYZgAAAN9JREFU\n",
       "GNNjYGBg4LvDgAwO/Wg6wOD7NwDE5l6AIsXQzbiAgecDAzawWGAmA8MFZBHuZmMjMGNpD5cAgwGS\n",
       "DGPnAShrmRSPDkTq5AyI7TAZhmV8E6QgUgW8G8ACcP3LGFy5J4CkuBP4H4AEGpCkuA4sBEnxMMSD\n",
       "jGK8pAQEUCmeBUwQFzqDCDZkXQwijBApdTB5AVmK+wFYJc8/sEAlXGohELuBpfj+gAWYH8Ck9ICY\n",
       "XQHEYod4nGdFDERG+C9QBw9YirkAIsTqAQ0oePgcyBdgwA7yHdpxyDBwTd+AQwYAD9YyhrRcti4A\n",
       "AAAASUVORK5CYII=\n",
       "\" style=\"display:inline;vertical-align:middle;\" /></a>, <a class=\"ProveItLink\" href=\"../packages/proveit/numbers/addition/__pv_it/theorems/bfb51b20218eda15111bf9094481a2c5d106a87b0/expr.ipynb\"><img src=\"data:image/png;base64,iVBORw0KGgoAAAANSUhEUgAAADMAAAAPBAMAAAC7N+rPAAAAMFBMVEX////MzMxUVFSIiIjc3NyY\n",
       "mJh2dna6urqqqqpmZmYyMjIiIiIQEBBERETu7u4AAAA59f8xAAAAAXRSTlMAQObYZgAAAOFJREFU\n",
       "GNNj4LuzgQEVvPp76wFDzp8CBgauCWhSDFcZFRj4PgAZ/A3oUtoCxgwMB4CM+gdQEdbbu3eBGer3\n",
       "mAQYQNZkQ2UYL8PUqAjxrQNLrWRonQK2HSbDoMJhIASS4vvB7P4VLAC3S4UhndUAKMXxz44vACRw\n",
       "AUmK6YEiUIrzJNSqU6uAACrFp8AFdCG38mUwnwVZF4MYI1DqfYF/AVjgALIUawNQZTzD+4YEkMBk\n",
       "uJQiEKcApXQZ+AXAUtzwUFkBxJwLGBhuMDBPBvuIT7cOIiP9B6iDbwFy0LHnQgMKCgCcjDwSTSfb\n",
       "2QAAAABJRU5ErkJggg==\n",
       "\" style=\"display:inline;vertical-align:middle;\" /></a>, <a class=\"ProveItLink\" href=\"__pv_it/exprrange_reductions/c71ae0fb1283a31908daab923b72df1342e99a8c0/expr.ipynb\"><img src=\"data:image/png;base64,iVBORw0KGgoAAAANSUhEUgAAAGUAAAAUBAMAAABmLO6YAAAAMFBMVEX////MzMxUVFR2dna6uroQ\n",
       "EBCqqqqIiIgiIiJmZmYyMjJERETu7u6YmJjc3NwAAACgK8IjAAAAAXRSTlMAQObYZgAAAWVJREFU\n",
       "OMtjYOC7wIAD5OGSYDgNIlIPoIjxbG0AkkwPcOlZByIuoQlyTQDpXIBDC+8EZF46lOZPAJHmOPRw\n",
       "PMCmxx/s1qM49LxgwKbHAuJCB+x6KkEOL9+ApmclQ+48BgbmCWiKnfWeVxYwMOwFMjkZYlH18Hxj\n",
       "f/IX6FdwIFitAoGVIKbB7gKefwwMbUDmPYZvqHrY/tTwAKONrQHVGsaELga+jwwMIUD2AZY/UANb\n",
       "V61aBLI4EqLmA6oeHp4vDLwfIHoYmBtQ7eFQ345NDwPbBwamBRC3QaIQSc95h/egIGNpQPgHZD0D\n",
       "5wIG/gsHwGHAcD4BVc99oIgBLAyQAKsBQ/4BAwZLEDv/AKoebQZ+AaAeTgM0PUDbrXgFGDxA7Blo\n",
       "cbqNgX060BguATQ9QMWPrkHTTid6OoCAE7jTqAwozCHgDIocrjTKsI/vM/cErDI48wIwz6nPxS7D\n",
       "jTPP4c7b93CIAwDviV5w2SVEMgAAAABJRU5ErkJggg==\n",
       "\" style=\"display:inline;vertical-align:middle;\" /></a> <a class=\"ProveItLink\" href=\"__pv_it/exprrange_reductions/83784eb83b14a63d6493120a5eaf3bce1b1a89ae0/proof.ipynb\" style=\"text-decoration: none\">&nbsp;&#x22A2;&nbsp;&nbsp;</a><a class=\"ProveItLink\" href=\"__pv_it/exprrange_reductions/9b7aacb2a81adf95b9165c5f0fced5459732cdc60/expr.ipynb\"><img src=\"data:image/png;base64,iVBORw0KGgoAAAANSUhEUgAAAVUAAAAWBAMAAACCmRJrAAAAMFBMVEX///9UVFQQEBCqqqoiIiJm\n",
       "ZmYyMjJERESYmJjc3NyIiIi6urp2dnbu7u7MzMwAAAADGpxCAAAAAXRSTlMAQObYZgAAAxBJREFU\n",
       "SMe9l01oE0EUgF+S3WST7G6DB7E5efAgSiEHLyKlKYrgQcyhikgPuSiKKAERbU8BseBtCwrixSgE\n",
       "D0oI4kXwkB7qwV5iUYteEoriSUwpFLVGnJ/d7OxsZjIr6kC6s/vevPf17Zs3b+EL/J/B+7HbEQ2g\n",
       "BStkkq7+M8iEQy4r3GOzSS53FSwc9BZQG2uREdb2qMrHJaxWRcFVzAmwXoger7Oq8ncS1iTCSEyM\n",
       "sGSVWVajFJ11U1Vu1sSsNwFeL/VHuXrFsmpOZNRsX1Vu7RazHsOBGsm6yrLejh5Ws6gsvyhkTReV\n",
       "WJNNhrWO182ekSdOUCGZrxek9n35spA1U5Kzvhi/V0cZZJYY1uvo99RJ9gA+i71TBbhM7zqXrO9g\n",
       "i7cxkT8kqbowYDXPkVHyWFNVOWvrWg1ZAaPMsB5GWbUX9Ap8mhHvRqIA4EZrqg0/7JPiRMBy0EhS\n",
       "HhDGVStIWe3CUUj/QpWiyLDuB9D7oKEoPBM6dxW8cQqsn5AVsxJ5hxxOX4Ws8aaU1bK2wUDv0u4F\n",
       "WeMV6HRlrK6CXz6zmzJWIqfW/pgVEj2IlTlWlAOdFkyBjJUqWN6O+YYDLWEl8mX7gWeTzdecYg6A\n",
       "Xoaxapu6YfZWpwA70dEtYSUKerZMb7dhtSpjJfLzh3AWLAjjOmpvxVF82q3g3kJVJVUzpk0SA2sL\n",
       "k5XdyeCOKrw3c/TRLrgKhDWs6cs3SNLMCllJMcr0hUbuN+Gl0QW9xbBiwnxj8TF9X0dQLDT8nqbB\n",
       "/aMdHyjgUGCFt0+qlBXLGM0c+HJ73xXwqtxQVrxe37F1WmQE0SzeQLW6O/SMxayJcGs5OZiNOYwC\n",
       "yYHJ8JZw5ZnKehr9k0X5Gcs54I2g8WZ474JroTmkKA9m66wCKXyt8PnqXlO1j5mRvQvvgDfC9y4w\n",
       "5z69cyIP8CFc6PzC+gh8hfTMRo2VecOTJ51YQ94TppyQA94I3xMGe+3wN4LhT+d5BSP8FoIG5hR6\n",
       "bamRlNdrNyJ9w8SeT0DEYdDQNbjHma7yN8wtdoH6iC1F73T/2vgN2HMfO8LtLywAAAAASUVORK5C\n",
       "YII=\n",
       "\" style=\"display:inline;vertical-align:middle;\" /></a></span><br>\n",
       "<span style=\"font-size:20px;\"><a class=\"ProveItLink\" href=\"__pv_it/exprrange_reductions/9c3fd62286e7dde7f7db90b220d2dad3ca5e87350/expr.ipynb\"><img src=\"data:image/png;base64,iVBORw0KGgoAAAANSUhEUgAAADMAAAASBAMAAAAEf/uKAAAAMFBMVEX////MzMwyMjIiIiJ2dna6\n",
       "urrc3NxmZmZERESIiIhUVFSYmJju7u4QEBCqqqoAAACA8xhiAAAAAXRSTlMAQObYZgAAAN9JREFU\n",
       "GNNjYGBg4LvDgAwO/Wg6wOD7NwDE5l6AIsXQzbiAgecDAzawWGAmA8MFZBHuZmMjMGNpD5cAgwGS\n",
       "DGPnAShrmRSPDkTq5AyI7TAZhmV8E6QgUgW8G8ACcP3LGFy5J4CkuBP4H4AEGpCkuA4sBEnxMMSD\n",
       "jGK8pAQEUCmeBUwQFzqDCDZkXQwijBApdTB5AVmK+wFYJc8/sEAlXGohELuBpfj+gAWYH8Ck9ICY\n",
       "XQHEYod4nGdFDERG+C9QBw9YirkAIsTqAQ0oePgcyBdgwA7yHdpxyDBwTd+AQwYAD9YyhrRcti4A\n",
       "AAAASUVORK5CYII=\n",
       "\" style=\"display:inline;vertical-align:middle;\" /></a>, <a class=\"ProveItLink\" href=\"../packages/proveit/numbers/addition/__pv_it/theorems/bfb51b20218eda15111bf9094481a2c5d106a87b0/expr.ipynb\"><img src=\"data:image/png;base64,iVBORw0KGgoAAAANSUhEUgAAADMAAAAPBAMAAAC7N+rPAAAAMFBMVEX////MzMxUVFSIiIjc3NyY\n",
       "mJh2dna6urqqqqpmZmYyMjIiIiIQEBBERETu7u4AAAA59f8xAAAAAXRSTlMAQObYZgAAAOFJREFU\n",
       "GNNj4LuzgQEVvPp76wFDzp8CBgauCWhSDFcZFRj4PgAZ/A3oUtoCxgwMB4CM+gdQEdbbu3eBGer3\n",
       "mAQYQNZkQ2UYL8PUqAjxrQNLrWRonQK2HSbDoMJhIASS4vvB7P4VLAC3S4UhndUAKMXxz44vACRw\n",
       "AUmK6YEiUIrzJNSqU6uAACrFp8AFdCG38mUwnwVZF4MYI1DqfYF/AVjgALIUawNQZTzD+4YEkMBk\n",
       "uJQiEKcApXQZ+AXAUtzwUFkBxJwLGBhuMDBPBvuIT7cOIiP9B6iDbwFy0LHnQgMKCgCcjDwSTSfb\n",
       "2QAAAABJRU5ErkJggg==\n",
       "\" style=\"display:inline;vertical-align:middle;\" /></a>, <a class=\"ProveItLink\" href=\"__pv_it/exprrange_reductions/c71ae0fb1283a31908daab923b72df1342e99a8c0/expr.ipynb\"><img src=\"data:image/png;base64,iVBORw0KGgoAAAANSUhEUgAAAGUAAAAUBAMAAABmLO6YAAAAMFBMVEX////MzMxUVFR2dna6uroQ\n",
       "EBCqqqqIiIgiIiJmZmYyMjJERETu7u6YmJjc3NwAAACgK8IjAAAAAXRSTlMAQObYZgAAAWVJREFU\n",
       "OMtjYOC7wIAD5OGSYDgNIlIPoIjxbG0AkkwPcOlZByIuoQlyTQDpXIBDC+8EZF46lOZPAJHmOPRw\n",
       "PMCmxx/s1qM49LxgwKbHAuJCB+x6KkEOL9+ApmclQ+48BgbmCWiKnfWeVxYwMOwFMjkZYlH18Hxj\n",
       "f/IX6FdwIFitAoGVIKbB7gKefwwMbUDmPYZvqHrY/tTwAKONrQHVGsaELga+jwwMIUD2AZY/UANb\n",
       "V61aBLI4EqLmA6oeHp4vDLwfIHoYmBtQ7eFQ345NDwPbBwamBRC3QaIQSc95h/egIGNpQPgHZD0D\n",
       "5wIG/gsHwGHAcD4BVc99oIgBLAyQAKsBQ/4BAwZLEDv/AKoebQZ+AaAeTgM0PUDbrXgFGDxA7Blo\n",
       "cbqNgX060BguATQ9QMWPrkHTTid6OoCAE7jTqAwozCHgDIocrjTKsI/vM/cErDI48wIwz6nPxS7D\n",
       "jTPP4c7b93CIAwDviV5w2SVEMgAAAABJRU5ErkJggg==\n",
       "\" style=\"display:inline;vertical-align:middle;\" /></a> <a class=\"ProveItLink\" href=\"__pv_it/exprrange_reductions/461fd2e2b7210f1d36f5b9f07eca3ea80b9a5b260/proof.ipynb\" style=\"text-decoration: none\">&nbsp;&#x22A2;&nbsp;&nbsp;</a><a class=\"ProveItLink\" href=\"__pv_it/exprrange_reductions/4a7a626c781e4ecee3e40c563995e8555cff14c70/expr.ipynb\"><img src=\"data:image/png;base64,iVBORw0KGgoAAAANSUhEUgAAAYgAAAAWBAMAAAAodhaSAAAAMFBMVEX///9UVFQQEBCqqqoiIiJm\n",
       "ZmYyMjJERESYmJjc3NyIiIi6urp2dnbu7u7MzMwAAAADGpxCAAAAAXRSTlMAQObYZgAAA21JREFU\n",
       "WMPNl0FoE0EUhl9NmmTTmbQgFBuL9iBUVDBILx6kKfUiUtxq9SDF5lKhCBI8iO0pIBX0YFdR0JO5\n",
       "lGDFGKR4k6ZgQfSyiLTSS4oiglCsFKRSI87MbnZ3sjOTxAp1DrubvH/em2/mvdlZWIVtbjGz6o+G\n",
       "R7QKb9n9wXYM/yi7okLV39aItExtBwHD7sC64PQWZ/OKrjIv7ROqmwwFxFI9cTu8ECGj0WEf4ZOg\n",
       "NaFUj4JIjVMKiDF/EH9b9EJMNoiAO/fy/ufU4dZBqH4jh4jo/iD+hrIeiBMNJ9AU7/+VUtxSBqH6\n",
       "nRwiaPiDCCazy4XQkluFGFVPWFKcXaGCFOIe1AMBl1yIKC00NJNXj4Sze/1rw/l1ZdeQHpg0BGqk\n",
       "SyGm1RAt8w9nzpP7ggsRJtuZ1g9XISbfpZgdQisCiOdGmOTLFzlEKfF4LsOpowdY4qcqEOgia7oD\n",
       "cU0NgcITUCLzcsOFCJLdIliEnbGz8ryidrIz8yuB2WU/NKfg85AconfZ/EDvpqOGk2yfT0pXol8N\n",
       "8SmYgkdkQntciB3Ezwjt0CKHGDEFNVGiU9lcpoQwK4c4bb0X8A9HjVmpx9akEAfVEGapAFPk/o2H\n",
       "6AY1RLeosINttHcaiEsVRF8ua90dtRXo7yGgF6CdhyDphH+pISz78hlBYZeK1KUCAm9qm1VqpH9t\n",
       "s8N5a6Kt3nSCcwAb2A7qFvYGTXjFSjC7/kIEkYB2coqRQ0TW8Dri1aHrL8vewvatRI3ChkMQKCOu\n",
       "sOlWNwj4AoOgec6yl12cX9SOjXm7DuCZ6z+cjfQhNil8Dyakl6Y0/Ea8unUPfW4uSiEW7CC8S+cX\n",
       "WVqUug0w7ELQsaPXt6yH4ICdvezCsv64advpBDH74OFRZ8/E8fydJ9bKUiHr4XSl6nACpp/y6o85\n",
       "enxiG7YYYrYShHNp+R1gA9V2EReXBccOlk7H/EdeZ9p/Cu1QCRvwr79YnYt1kV3+fY1jB9RyiZOC\n",
       "AyDbuIv+V4tziO4S2lnr8QrdJlZPxJLZWgfAqtgil9wBMGxxa0Pfs4Czvl7LlYcoeaML7LTdPxX3\n",
       "CN25EqvHIL6iPoqPV8cWuVyUfRRF/CEzblUK7X6hypu7I9TzUaR0OW53yDfwebr7rgn/sN20Vnel\n",
       "6u983Z+nEcPTod7W2QH/ZfsDbjQ5s/Lx7WIAAAAASUVORK5CYII=\n",
       "\" style=\"display:inline;vertical-align:middle;\" /></a></span>"
      ],
      "text/plain": [
       "<proveit.magics.HTML_DisplayObjects at 0x7ffa4aae09e8>"
      ]
     },
     "execution_count": 53,
     "metadata": {},
     "output_type": "execute_result"
    }
   ],
   "source": [
    "requirements"
   ]
  },
  {
   "cell_type": "markdown",
   "metadata": {},
   "source": [
    "Parameter independent expansions are only possible when all of the indexed variables of a particular expression range are expanded."
   ]
  },
  {
   "cell_type": "code",
   "execution_count": 54,
   "metadata": {},
   "outputs": [
    {
     "data": {
      "text/html": [
       "<strong id=\"dot_prod_with_y\">dot_prod_with_y:</strong> <a class=\"ProveItLink\" href=\"__pv_it/exprrange_reductions/ad48f2399c8c0b5ccb7495d720bbebafa78af8aa0/expr.ipynb\"><img src=\"data:image/png;base64,iVBORw0KGgoAAAANSUhEUgAAAXUAAAAUCAMAAABF/F2xAAAANlBMVEX///8oKCgNDQ3MzMxUVFR2\n",
       "dna6uroQEBCqqqqIiIgiIiJmZmYyMjJERETu7u6YmJjc3NwAAADtE0dfAAAAAXRSTlMAQObYZgAA\n",
       "AyJJREFUWMPNmdm2pCAMRelW0YAy/P/PXhyQKXhBpFfzUKlVFcnOAYIiIYQoSTq2RVU4W5QWpKqA\n",
       "9WiNVNaKjXRtY7kKFqUNaewhe7NKluqyq+qruliLXS1KG1JFQFKN1kx1WslJ5zZBoaNFaUWKAy5Q\n",
       "XQ8gg/YB1WGZ6q26mDN/QBTaorQixQE/UP0DlSzVbhUj3dtKM7mFE8iitCNFAdtV/0QlS2UsXJkL\n",
       "gFFRmKBhMHNdTE7dcE8Kc7EoFUgC+P6vmkUu4DeqV6mUgbqpjN3OGyIxmdrFgLCj1g9vNuywi6Ao\n",
       "rhmdlyDOhVKDNBG6r1vQoYdcP1YdRcoWcA8Kk8FYtpyeZlwmLQg19Wvg/M2C8ruIcmAZ1Qls3ny4\n",
       "UAqQ7EVqIXxPZdtCj4V9rDqClEw6kkLhMhg70/sa50bfqC6wSEcb3Kj//bMGTWtXgi+U35GEXu+Q\n",
       "866PhtDjDjgdQdh8mLFo7qBXoEhh9pYphMJkMHZ2WTs3+nbz0PCL6iysdZR5+16k+gMSu+WgZuaZ\n",
       "/oeM6l/NdRQpWg5uUD2ojOp2WQdub1W/u5BcDmC3IL+7sONhFSRbYYqQjrUMc+RBO1WYfIo4FC6D\n",
       "sdc+sYiz+oN4rbrfhaSz6XdWv+ym4QNftJsWIW2j/fA9eu2m+RRxKFwGY8/bGaoXsun7iOdKwNVP\n",
       "V7SSn+wXvwslYO9BXzOZT06PoL7w3J1VFimZVuPuKSMPLyCi4VNaGdVTpChFFCojg7EnqxgBzG2m\n",
       "lOFaYLYMu6J1f3NfTqewi9FgU/uIuA74jOJDVOR9m0GKNzHjxbWKPKKASb1IcvCrMnYFhhSkmIFC\n",
       "Zdgt9qx7J7CIstKStHk4xvSII0rr1dOJwEPR42vkEQfscyLgp5iDwmQ4LHauc9/vTkU3W+lPaq9+\n",
       "jC7DZ6dfC6r6uO7VgUYecUAhalVPrkiRghQzUKgMp93iYVSc6RHOZ9uigwBkZu4LFiZZefBqUR6Q\n",
       "oiloImwQeXQ56U2Q/BRzUJgMl304ry96fSJreR8GsPatBjUFdGgISKrR3kIlM6rvGzz5r9/gyf/y\n",
       "DZ6lOuwPfFwruNzIBkwAAAAASUVORK5CYII=\n",
       "\" style=\"display:inline;vertical-align:middle;\" /></a><br>"
      ],
      "text/plain": [
       "dot_prod_with_y: (x_{1}, ..x_{_a}.., x_{n}) -> ((x_{1} * y_{1}) + ..(x_{a} * y_{a}).. + (x_{n} * y_{n}))"
      ]
     },
     "execution_count": 54,
     "metadata": {},
     "output_type": "execute_result"
    }
   ],
   "source": [
    "dot_prod_with_y = \\\n",
    "    Lambda(x_1_to_n, \n",
    "           Add(ExprRange(a, Mult(IndexedVar(x, a),\n",
    "                                 IndexedVar(y, a)), one, n)))"
   ]
  },
  {
   "cell_type": "code",
   "execution_count": 55,
   "metadata": {},
   "outputs": [
    {
     "name": "stdout",
     "output_type": "stream",
     "text": [
      "Expected error: Failure to apply (x_{1}, ..x_{_a}.., x_{n}) -> ((x_{1} * y_{1}) + ..(x_{a} * y_{a}).. + (x_{n} * y_{n})) to (a_{1}, ..a_{_a}.., a_{j}, b_{1}, ..b_{_a}.., b_{k}) assuming (j in Natural, k in Natural, (j + k) = n):\n",
      "Improper replacement: Improper replacement of (x_{1} * y_{1}), ..(x_{a} * y_{a}).., (x_{n} * y_{n}) via {(x_{1}, ..x_{_a}.., x_{n}): (a_{1}, ..a_{_a}.., a_{j}, b_{1}, ..b_{_a}.., b_{k}), x: {(x_{1}, ..x_{_a}.., x_{n})}}:\n",
      "ExprRange indices failed to match expansion which is necessary because not all of the indexed variables being indexed by the ExprRange parameter are being expanded (x is expanded but y is not): Unable to prove (1, .._a.., j, 1, .._a.., k) = (1, .._a.., n) assuming {j in Natural, k in Natural, (j + k) = n}:\n",
      "'conclude' method not implemented for proof automation. \n"
     ]
    }
   ],
   "source": [
    "from proveit import LambdaApplicationError\n",
    "try:\n",
    "    dot_prod_with_y.apply(a_1_to_j, b_1_to_k, requirements=requirements)\n",
    "    assert False, \"Expected an LambdaApplicationError error.\"\n",
    "except LambdaApplicationError as e:\n",
    "    print(\"Expected error:\", e)"
   ]
  },
  {
   "cell_type": "markdown",
   "metadata": {},
   "source": [
    "But we can do a parameter dependent expansion in this case, as long as we can prove that the indices of the expansion match the original indices."
   ]
  },
  {
   "cell_type": "code",
   "execution_count": 56,
   "metadata": {},
   "outputs": [
    {
     "data": {
      "text/html": [
       "<a class=\"ProveItLink\" href=\"__pv_it/exprrange_reductions/23d4e1700279359087a10dde44f8ac8e891068d90/expr.ipynb\"><img src=\"data:image/png;base64,iVBORw0KGgoAAAANSUhEUgAAAfYAAAAVBAMAAABGYtEXAAAAMFBMVEX////MzMxUVFR2dna6uroQ\n",
       "EBCqqqqIiIgiIiJmZmYyMjJERETu7u6YmJjc3NwAAACgK8IjAAAAAXRSTlMAQObYZgAAA89JREFU\n",
       "WMO1WE9IFFEc/u067q7u7OolIjo4UCB4EOkideoiSYfcIAjEw3ayUyxJ2NLBRcpO0ZZQJkhrFMRA\n",
       "snjxENUgyIpGztmDzCHDoGCLIBCT3rw3b2bem9mZN4P+wBG/9/N73/f+/Oa9AcjrEBC3QDiiEgXn\n",
       "H68agJSBHpuBKUlDuLeoRJuRrR+dGhT96GcpMEOuCfcWlWgpuvcjU4NiAyBXDU4ZpGuk1GrxWA1R\n",
       "icLy46kZB1H2thJkQpbRmqj3qEQZI4b3NVHv4exyAfZCUjovCnqPSrQXw3q4GupdgP01lNGzcfvr\n",
       "BEMml0uwq5GlURX0HpXIN98VjeeQH/Ms1Kqgd392lxyA8/ABIQO5h5kaJOpOF1IBpgiQqwl6d4ig\n",
       "s5slwgBP5Jt/2uEdGIJ0E2CR/i2mhnp3sbuHjsghsQ0zCNHaDiQj8aKCh8Z8fOuowXsCpCqC3m0i\n",
       "BGFAo0QE4Ik8+ShOzQHVkC/OQxbZLVLrYmqodxe7FS45JG7CNbMrsxOQMO+WOVJaewn+EiDRNMdL\n",
       "Vd+OqqriLZZOg0Nkra99m4iIbwbnY/JhoBpkuA5dlsMkUHnBai6o6gNVfQU+7B45AD1mEpBOiPcM\n",
       "phzREr9cvYnMu0NkxbRN5HgPyK873rEG6QB6rL2QZb2LzLtHDS/H9D6Df3Xb3knMQ7pAACnCmreI\n",
       "Gs84IgxIleB8l3ccaHneQcWpyHiXIqx5wp5bOFlm5VBk2CwKKW0K0hrjfRmyCgGi1DqLqHqZI8KA\n",
       "T61j8nnv6P+WoUOqMd6j1DrCnhvS2w1GDkW2UaWHkeIn+MnO+1MY0QnQMcD2hvfiPi0MrgabSDbO\n",
       "sUQE4In4fM+8K9I/+NKmMN45EiyEUTMOHPuPu9ClMXIoMmv2tjrZWNBZ76uTLw0C0PePfRxTrL2T\n",
       "UdgGh8gcdIYIAzwRk59U1VH1HeNd7i0fIts69KlvVFX3VzMNnBrq3WHvhSFOjoUsug5/bu/mziDA\n",
       "eowz7SFHhIH1kHx+3vGOhy6DmfdQNd4z7VWYTbByCCJXXIf+lOM9WZP/WAC9Pchaq3Oxxt8eEgWO\n",
       "CAODIfl18s61ow+20AH2hF3nxdR85u8y+Sbcv8HIsRB0l4GPNGnutz2YGT1bIkCEWyMlgrTzWsVE\n",
       "GPAScfnm4/vjXrv5Eayg5z3qPa4aSYEJnZFjIRstLvnS5BNabWN8LciWOCITyBoh+XWu+VLZ3Nsr\n",
       "9rzHVePviwxO8Mednehfic7ucgsSAzth+XW/7zRXxhjvMdS0ilycK3RonOkPA3yb/bQkz2E0D8cS\n",
       "/wGkFZapqXTgQAAAAABJRU5ErkJggg==\n",
       "\" style=\"display:inline;vertical-align:middle;\" /></a>"
      ],
      "text/plain": [
       "(x_{1} * y_{1}) + ..(x_{_a} * y_{_a}).. + (x_{j} * y_{j}) + (x_{j + 1} * y_{j + 1}) + ..(x_{_a} * y_{_a}).. + (x_{n} * y_{n})"
      ]
     },
     "execution_count": 56,
     "metadata": {},
     "output_type": "execute_result"
    }
   ],
   "source": [
    "requirements = []\n",
    "dot_prod_with_y.apply(*param_dep_operands.entries, assumptions=param_dep_assumptions, \n",
    "                      requirements=requirements)"
   ]
  },
  {
   "cell_type": "code",
   "execution_count": 57,
   "metadata": {},
   "outputs": [
    {
     "data": {
      "text/html": [
       "<span style=\"font-size:20px;\"><a class=\"ProveItLink\" href=\"__pv_it/exprrange_reductions/9c3fd62286e7dde7f7db90b220d2dad3ca5e87350/expr.ipynb\"><img src=\"data:image/png;base64,iVBORw0KGgoAAAANSUhEUgAAADMAAAASBAMAAAAEf/uKAAAAMFBMVEX////MzMwyMjIiIiJ2dna6\n",
       "urrc3NxmZmZERESIiIhUVFSYmJju7u4QEBCqqqoAAACA8xhiAAAAAXRSTlMAQObYZgAAAN9JREFU\n",
       "GNNjYGBg4LvDgAwO/Wg6wOD7NwDE5l6AIsXQzbiAgecDAzawWGAmA8MFZBHuZmMjMGNpD5cAgwGS\n",
       "DGPnAShrmRSPDkTq5AyI7TAZhmV8E6QgUgW8G8ACcP3LGFy5J4CkuBP4H4AEGpCkuA4sBEnxMMSD\n",
       "jGK8pAQEUCmeBUwQFzqDCDZkXQwijBApdTB5AVmK+wFYJc8/sEAlXGohELuBpfj+gAWYH8Ck9ICY\n",
       "XQHEYod4nGdFDERG+C9QBw9YirkAIsTqAQ0oePgcyBdgwA7yHdpxyDBwTd+AQwYAD9YyhrRcti4A\n",
       "AAAASUVORK5CYII=\n",
       "\" style=\"display:inline;vertical-align:middle;\" /></a>, <a class=\"ProveItLink\" href=\"__pv_it/exprrange_reductions/e8f6e33ab73ab898b967cb9c3907494d3bfa98410/expr.ipynb\"><img src=\"data:image/png;base64,iVBORw0KGgoAAAANSUhEUgAAAGYAAAAUBAMAAACNG1WbAAAAMFBMVEX////MzMxUVFR2dna6uroQ\n",
       "EBCqqqqIiIgiIiJmZmYyMjJERETu7u6YmJjc3NwAAACgK8IjAAAAAXRSTlMAQObYZgAAAY1JREFU\n",
       "OMt9kz9Iw0AUxr/k2tqaGESoCDrUSRCF4iJuBRfBUTcRu4ib7VYEh7qUOummCEIdukhRB0FBlKMg\n",
       "SB1SHXQQatwEwT8oThW8uzZpe/Y8CPfycr+87328A6wyFGtZ9QHXivwi1Z3WjHl4VgBZmAUOFMwt\n",
       "zJyUMso9gA10bSoVYFx619c6kvADQUfNXNb3h2xWlNSn6SCCwLMaQWdMbP2rbp2nSIkyZgXwjb2m\n",
       "tqTjZuoIIEK3WfC0OUtahDHn7JNxAluSGMI867WmyGkwJHbPmAzQG8zhrbuVqeAbCKSFWw0PHIzo\n",
       "fQBzm9oxPPJcaZ+vPR5SXxXQ3nkY5km3YhF5wSABDMv9k7TLvDTX0aJhoQ07wI8pe8b69wlt/mYG\n",
       "d4bwADMIVInE2HHXg1DSY1jThJWdAKwvkNyNxCQoOx0VYcarHa+JmhISrNG4xGzzMzUzi8dU7NrG\n",
       "HDdKPTvr7Lmqx5On2ZZxbT+jA9ZHmxn11kWbnPVpsF/9uQv/37mhXT4AypFX3+2KIv8LIvJiQhkT\n",
       "oYIAAAAASUVORK5CYII=\n",
       "\" style=\"display:inline;vertical-align:middle;\" /></a>, <a class=\"ProveItLink\" href=\"../packages/proveit/numbers/number_sets/natural_numbers/__pv_it/theorems/ba5849e6de22ec92714c647d41d92ef0cc8fb69d0/expr.ipynb\"><img src=\"data:image/png;base64,iVBORw0KGgoAAAANSUhEUgAAADUAAAAPBAMAAAC2KZqIAAAAMFBMVEX///8QEBCYmJgyMjIiIiKq\n",
       "qqrMzMzu7u5ERERmZmaIiIjc3NxUVFR2dna6uroAAABXsXCEAAAAAXRSTlMAQObYZgAAAN5JREFU\n",
       "GNNjYMAExT+aCxgufnzAgA00sR1gYP+AVYrhSMIqBgYBVDENFxcDEH2unSeBwQFFKmM5lHE6h90c\n",
       "JMd3Z/eqWWARIB8mx7ogByTHy9HFUL8BJMKzAS7HcI9pAVAulcWAYX8CSISDASHHU3AMKFdQ/4BB\n",
       "HyySaAwEBhA59gPMIHfGMzAcBsvtQNLHkMsGkpvMwPCJHSTCiCzHFNAAZMgysH7nBYlwLoDJHQPi\n",
       "20A57n8MvAZqYCFXmJwpSCXQZj4HBu5DAWChmr4CMJ3yEaiH3QA1zN62uCCLAADDBTVfYPhN3gAA\n",
       "AABJRU5ErkJggg==\n",
       "\" style=\"display:inline;vertical-align:middle;\" /></a> <a class=\"ProveItLink\" href=\"__pv_it/exprrange_reductions/36e7c52df10a7a497ec0b2536812cc59b3d8825a0/proof.ipynb\" style=\"text-decoration: none\">&nbsp;&#x22A2;&nbsp;&nbsp;</a><a class=\"ProveItLink\" href=\"__pv_it/exprrange_reductions/6df9d5c99383a4fff4cfa25f7f98e94d6e78652c0/expr.ipynb\"><img src=\"data:image/png;base64,iVBORw0KGgoAAAANSUhEUgAAAW4AAAAWBAMAAAASimukAAAAMFBMVEX///9UVFQQEBCqqqoiIiJm\n",
       "ZmYyMjJERESYmJjc3NyIiIi6urp2dnbu7u7MzMwAAAADGpxCAAAAAXRSTlMAQObYZgAAAyRJREFU\n",
       "SMfFl01oE0EUx1+aTXa32UlzCjYW7E1Fq0G89KCm6EWlEPGTEnARDBRBe7Q57UEFL3YVBT2IixiE\n",
       "KjEEEbwlh170EkUUe0nRk0IxIoiiFWdnP2c3u7P1sA5kP4b3f++XmTdvZ2AV4m/Zrqdj3RCr8JLc\n",
       "b8dEPEmuUtPTbUCICttBUjUFRILmYuJOqCHc76J4GHVzp9WYuJEcwj2Lf7u6DA9v3dyXY0vtF8Hc\n",
       "QhnQ2CYWt6S5uA/Gxv06mJvTJ32BxY3GHW6xFBt3uhnIfROicMM5h3u4jC+3lu6Ha2gDsTIzERXW\n",
       "pZTKgdz1cO5M587iDL4vOdw8LkCZrXABV9bgwmIYQHrFeG2p6T6+nbdrMlNJmiBb3FKVtLLNfTGc\n",
       "W+Jr0MOpdMXh5oo48RQ4CdnjwRlDDHABNdNsC6R00qKFzVYa9bcUON77w7k/cjLcw4O22+Eewn5O\n",
       "d+EQHprg6IaB1VJrwGlWUSaDGk2Z7Qdybwvn7vaasIDvX2juzYD+hEY3DKw2NAc9M2OAZ3C7lf/O\n",
       "DfsA8jQ3zhP0G5L9sOimwfJR47XX1v2gepHNbSiFU5/rlpk7v3NR8wROAPxAAE+pdYm+QUKeDItu\n",
       "GJSfmdxFyCfVVEaOwE2UQksZUt3r0jfejHUJ2yG5JlHrUi9ONbiUa5PoPewafQfzYr8RA6R2jC5e\n",
       "E6YkeC/l3Ny2rf7gUd59ACOYKdUO5CYF7knXE9Z+E3+BJF8DqDjcesxXi58KTfLETeOuKTAvnE52\n",
       "oGsZ6KOiG6BC4/ojMlP56plqVaGVRORRFqBlldHB3HoCHNl5ViEaInYgpgmkuKFoVl7vd57M9h7/\n",
       "7tGZvZ+UwYhK5UmYcgdUsgBvGN95TzSrOY5RadC+ipTXtr/mO1v+ccrgg11PWEqxD4f3svZV3mh2\n",
       "aw/eV/HmXxWPfdUAaT7Zsv00jD82LoOHFjdTmcnBYyV8Hzvvi2YPsjZ4H0udGwT/33UOIrxGGdTs\n",
       "8WYqwRkgxrnBf+xxOZ43BY11ndM23nDnXuL5BMXNbleNSVvxdDcin9ME1SWI3sZGqVNXh3gR/8PR\n",
       "+i/PjR923EABWwAAAABJRU5ErkJggg==\n",
       "\" style=\"display:inline;vertical-align:middle;\" /></a></span><br>\n",
       "<span style=\"font-size:20px;\"><a class=\"ProveItLink\" href=\"__pv_it/exprrange_reductions/9c3fd62286e7dde7f7db90b220d2dad3ca5e87350/expr.ipynb\"><img src=\"data:image/png;base64,iVBORw0KGgoAAAANSUhEUgAAADMAAAASBAMAAAAEf/uKAAAAMFBMVEX////MzMwyMjIiIiJ2dna6\n",
       "urrc3NxmZmZERESIiIhUVFSYmJju7u4QEBCqqqoAAACA8xhiAAAAAXRSTlMAQObYZgAAAN9JREFU\n",
       "GNNjYGBg4LvDgAwO/Wg6wOD7NwDE5l6AIsXQzbiAgecDAzawWGAmA8MFZBHuZmMjMGNpD5cAgwGS\n",
       "DGPnAShrmRSPDkTq5AyI7TAZhmV8E6QgUgW8G8ACcP3LGFy5J4CkuBP4H4AEGpCkuA4sBEnxMMSD\n",
       "jGK8pAQEUCmeBUwQFzqDCDZkXQwijBApdTB5AVmK+wFYJc8/sEAlXGohELuBpfj+gAWYH8Ck9ICY\n",
       "XQHEYod4nGdFDERG+C9QBw9YirkAIsTqAQ0oePgcyBdgwA7yHdpxyDBwTd+AQwYAD9YyhrRcti4A\n",
       "AAAASUVORK5CYII=\n",
       "\" style=\"display:inline;vertical-align:middle;\" /></a>, <a class=\"ProveItLink\" href=\"__pv_it/exprrange_reductions/e8f6e33ab73ab898b967cb9c3907494d3bfa98410/expr.ipynb\"><img src=\"data:image/png;base64,iVBORw0KGgoAAAANSUhEUgAAAGYAAAAUBAMAAACNG1WbAAAAMFBMVEX////MzMxUVFR2dna6uroQ\n",
       "EBCqqqqIiIgiIiJmZmYyMjJERETu7u6YmJjc3NwAAACgK8IjAAAAAXRSTlMAQObYZgAAAY1JREFU\n",
       "OMt9kz9Iw0AUxr/k2tqaGESoCDrUSRCF4iJuBRfBUTcRu4ib7VYEh7qUOummCEIdukhRB0FBlKMg\n",
       "SB1SHXQQatwEwT8oThW8uzZpe/Y8CPfycr+87328A6wyFGtZ9QHXivwi1Z3WjHl4VgBZmAUOFMwt\n",
       "zJyUMso9gA10bSoVYFx619c6kvADQUfNXNb3h2xWlNSn6SCCwLMaQWdMbP2rbp2nSIkyZgXwjb2m\n",
       "tqTjZuoIIEK3WfC0OUtahDHn7JNxAluSGMI867WmyGkwJHbPmAzQG8zhrbuVqeAbCKSFWw0PHIzo\n",
       "fQBzm9oxPPJcaZ+vPR5SXxXQ3nkY5km3YhF5wSABDMv9k7TLvDTX0aJhoQ07wI8pe8b69wlt/mYG\n",
       "d4bwADMIVInE2HHXg1DSY1jThJWdAKwvkNyNxCQoOx0VYcarHa+JmhISrNG4xGzzMzUzi8dU7NrG\n",
       "HDdKPTvr7Lmqx5On2ZZxbT+jA9ZHmxn11kWbnPVpsF/9uQv/37mhXT4AypFX3+2KIv8LIvJiQhkT\n",
       "oYIAAAAASUVORK5CYII=\n",
       "\" style=\"display:inline;vertical-align:middle;\" /></a> <a class=\"ProveItLink\" href=\"__pv_it/exprrange_reductions/42a7525afa1dc97d4d8fbfec1f04dbe31b4a1beb0/proof.ipynb\" style=\"text-decoration: none\">&nbsp;&#x22A2;&nbsp;&nbsp;</a><a class=\"ProveItLink\" href=\"__pv_it/exprrange_reductions/6001f240159606ba45b2051e60709b6bba0e6c240/expr.ipynb\"><img src=\"data:image/png;base64,iVBORw0KGgoAAAANSUhEUgAAAS8AAAAUBAMAAAAuOqYxAAAAMFBMVEX////MzMxUVFR2dna6uroQ\n",
       "EBCqqqqIiIgiIiJmZmYyMjJERETu7u6YmJjc3NwAAACgK8IjAAAAAXRSTlMAQObYZgAAAnRJREFU\n",
       "SMe1VjGI1EAUfV72llt3ktvKSnDBQhA8g4161cI1dgpaKm4jWoh73bFYGAQPFYtwFopwEMXmUhx2\n",
       "IqKkEcUTNlpYWNwtNlq5Kx4Wsoozk0nITbKZycJNkfz8yct7mfnz/wesELs1qv2sT4vuGrtsKD9/\n",
       "XhiXgrLK5rKuDR3cFPujdRWl2RTGJ3lGqfR91rWugyMepXVBDh4ttRaXBVoNMxYzf6lHdxyYYau2\n",
       "NYkwDRg5I3s06d4A37GLwvBUdmjS7W2hq3rz7XXx90vP9IVVjv1YekDvJ+UJFd3C3Lcu3X/DxSuV\n",
       "MHc6OuA1XNAXZtSfo0d37Qt/8Plwma2is18ukn80FD0sK940+7Ntbmzit76wfTMeBg3gijyhoNvT\n",
       "vgvrJ01RDs4phBGcjiaDyojd5n3/lu8/UQgLei1s0fsBeUJBR8g2zCEVOFQKA07E2+OUCP4OcHgC\n",
       "YagOMeVxYctKYWvxSXFLCHsE/CXAqVSMNTW2EjUPs2GAiqMOfhKHVq9dQthZVEeGCP70UNFN2+gE\n",
       "Ngt+fqBvBCB/mAh26Xkpgy7uSBidQBYWwxJE8mRtw/A+Avdl4gI6fhm0MG82ULP5Yq9cXAtxm/He\n",
       "ZMm5GRv3+OI6wngoJ9gEliASGN0K6whd4ceysAI67qLzXz/TsGlENYKvTHZ9r/Ii4grjTibzF8Gi\n",
       "MHByS9IYXMr1jldVcehysh09HgFLR9TYz9JLND7sSKW5sKIiPhZn7CjieB2XnmzY088O7BfcsH7V\n",
       "3fyKlQsb3/aMp0u5WNuTdG7ZztJkLVs3jIxDq/nHKB8mqchpFMOiT9X7ur3uZMOctLXeBP4Dts3q\n",
       "Cgs+qN0AAAAASUVORK5CYII=\n",
       "\" style=\"display:inline;vertical-align:middle;\" /></a></span>"
      ],
      "text/plain": [
       "<proveit.magics.HTML_DisplayObjects at 0x7ffa4aa82a58>"
      ]
     },
     "execution_count": 57,
     "metadata": {},
     "output_type": "execute_result"
    }
   ],
   "source": [
    "requirements"
   ]
  },
  {
   "cell_type": "markdown",
   "metadata": {},
   "source": [
    "Also note that an explicit expansion must be provided for each precise range containing an expanded range of variables."
   ]
  },
  {
   "cell_type": "code",
   "execution_count": 58,
   "metadata": {},
   "outputs": [
    {
     "data": {
      "text/html": [
       "<strong id=\"inconsistent_dot_prod\">inconsistent_dot_prod:</strong> <a class=\"ProveItLink\" href=\"__pv_it/exprrange_reductions/b8094709e4e4763a0918500ef9940c6aa2d879df0/expr.ipynb\"><img src=\"data:image/png;base64,iVBORw0KGgoAAAANSUhEUgAAAd8AAAAUCAMAAAD7hsepAAAANlBMVEX///8oKCgNDQ3MzMxUVFR2\n",
       "dna6uroQEBCqqqqIiIgiIiJmZmYyMjJERETu7u6YmJjc3NwAAADtE0dfAAAAAXRSTlMAQObYZgAA\n",
       "A6dJREFUaN7VWtGWoyAMZRdEQQX9/59dUCkEAoNg94w8TDptTO5NIEGUEEI2Td48pu2GsuPawfmW\n",
       "v/vIHouHk2ol7x6sPuCOaxdn9o0EP5gFh++Sy/by/KqlWtVx7eJ8wx+5jezBeJxSz+TtYxCVio5r\n",
       "J+fE3yTumoiveDQLDt8h5fb6/Kox84OIuDmunZwTf/35fTQLDp+VmyTvHwvPRBGuCse1m3Psrzu/\n",
       "D2fB4TNSXCFQQrCNi0H0zJuyDSVm+8s2qnYHuIXB5xFuU2DYHNcbnHGPw/xwfu9noRhMh8/I9dyW\n",
       "q8H0ACmIPHoybdrMQRuIV8Jt4RB7s4fQAuheSyajE3Bzcb3DGcesl4fziyJqCgXAZ6ScTnUzDYZd\n",
       "EW76AJ3npnIR2sBu8CYyW7/r2uohsBBFS2byS8QazO+L68+c1Q+YJ/lwfhFEmTX0UygAPiNH/rnO\n",
       "6/Km/KqsP/fzaFntotUDsBAO6mfx3z8LGPvue+XF9UfOal/KmL2/4XAix0OwqlWAXYEiwiLgkGVD\n",
       "AfAZOXr6Xpc3t/u9NJO5mZrGJ233EFjI5FfCfsRlsBWK8pvnLFkZM90fXr8oImx4ZJlQxPl1NQvo\n",
       "Nuf3Y0PPmgoRbUOOiiLGDg8fC9A+z9VnuiiSrc9VnFHM/Ev1GYug2XHRqlAEig6fkVdnn9TZqoVq\n",
       "j35oQ/PRGB5hH1mZ+9Oa348FaD+7v4KnQtH+qoozivlb+yskgsx8xWpCESoG+6tzK833iaz755Db\n",
       "MfHlvuJDaGNTwpqwJSToZjOzWrrZg7cQ2rdfD37rCKrznLttyHOOl0mKGfjDslWkgF6RInIMeeoN\n",
       "D0Wo6D4YeYJWTAhzR6V1VH+ka2efuo98uHSgDWYI8BEasRrzvjV7CC0E9s0ypZlyTqNmHMoc52hH\n",
       "g2BO/CWnUXku+BUYIsuQjqB448BSRYfPSuxkzDOZVFVdTsdIj+lDY4V56fVwWgjtq9piXzqfLHSM\n",
       "GHPi7yvnk5ahMJvpbSe0CCxRdPgOiZ1s+/u7oerUAblVtW1E8okGCmyxhYp3ePAWoP0nni9MaH5R\n",
       "zIk/dftELr4iRXQwtEtTr1iMolAARfB8gazx1NlmuTNxnYLVHBpiNzK2HolBhwrS/LeKHg/eArBf\n",
       "/7zOcS1xhusKwfyV54MJooOh3R9ubFAlYIkifD5YfLJc806BrlXgpmHQLg+ohTQ0hZly9/k+5nH9\n",
       "Dc/38VCgk/jl7+fo//x+jv7l7+c4fIf8B2OQNwjgoVWaAAAAAElFTkSuQmCC\n",
       "\" style=\"display:inline;vertical-align:middle;\" /></a><br>"
      ],
      "text/plain": [
       "inconsistent_dot_prod: (x_{1}, ..x_{_a}.., x_{n}, y_{1}, ..y_{_a}.., y_{n}) -> ((x_{1} * y_{1}) + ..(x_{a} * y_{a}).. + (x_{m} * y_{m}))"
      ]
     },
     "execution_count": 58,
     "metadata": {},
     "output_type": "execute_result"
    }
   ],
   "source": [
    "inconsistent_dot_prod = \\\n",
    "    Lambda((x_1_to_n, y_1_to_n), \n",
    "           Add(ExprRange(a, Mult(IndexedVar(x, a),\n",
    "                                 IndexedVar(y, a)), one, m)))"
   ]
  },
  {
   "cell_type": "code",
   "execution_count": 59,
   "metadata": {},
   "outputs": [
    {
     "name": "stdout",
     "output_type": "stream",
     "text": [
      "problem self (x_{1} * y_{1}), ..(x_{a} * y_{a}).., (x_{m} * y_{m}) {(x_{1}, ..x_{_a}.., x_{n}): (a_{1}, ..a_{_a}.., a_{j}, b_{1}, ..b_{_a}.., b_{k}), (y_{1}, ..y_{_a}.., y_{n}): (c_{1}, ..c_{_a}.., c_{j}, 1 * d_{1}, ..i * d_{i}.., k * d_{k}), x: {(x_{1}, ..x_{_a}.., x_{n})}, y: {(y_{1}, ..y_{_a}.., y_{n})}}\n",
      "Expected error: Failure to apply (x_{1}, ..x_{_a}.., x_{n}, y_{1}, ..y_{_a}.., y_{n}) -> ((x_{1} * y_{1}) + ..(x_{a} * y_{a}).. + (x_{m} * y_{m})) to (a_{1}, ..a_{_a}.., a_{j}, b_{1}, ..b_{_a}.., b_{k}, c_{1}, ..c_{_a}.., c_{j}, (1 * d_{1}), ..(i * d_{i}).., (k * d_{k})) assuming (j in Natural, k in Natural, (j + k) = n):\n",
      "Improper replacement: Improper replacement of (x_{1} * y_{1}), ..(x_{a} * y_{a}).., (x_{m} * y_{m}) via {(x_{1}, ..x_{_a}.., x_{n}): (a_{1}, ..a_{_a}.., a_{j}, b_{1}, ..b_{_a}.., b_{k}), (y_{1}, ..y_{_a}.., y_{n}): (c_{1}, ..c_{_a}.., c_{j}, 1 * d_{1}, ..i * d_{i}.., k * d_{k}), x: {(x_{1}, ..x_{_a}.., x_{n})}, y: {(y_{1}, ..y_{_a}.., y_{n})}}:\n",
      "Failure to expand (x_{1} * y_{1}), ..(x_{a} * y_{a}).., (x_{m} * y_{m}) because there is no explicit expansion for (x_{1}, ..x_{a}.., x_{m}).  The known expansions for this variable are {(x_{1}, ..x_{_a}.., x_{n}): (a_{1}, ..a_{_a}.., a_{j}, b_{1}, ..b_{_a}.., b_{k})}.  (Note that multiple, equivalent expansion forms may be provided to fulfill this requirement). \n"
     ]
    }
   ],
   "source": [
    "try:\n",
    "    inconsistent_dot_prod.apply(*x_operands, *y_operands, requirements=requirements)\n",
    "    assert False, \"Expected an LambdaApplicationError error.\"\n",
    "except LambdaApplicationError as e:\n",
    "    print(\"Expected error:\", e)"
   ]
  },
  {
   "cell_type": "markdown",
   "metadata": {},
   "source": [
    "However, we may supply *equivalent alternative expansions*, `equiv_alt_expansions`, to handle such cases as appropriate.  This was covered in the previous chapter and will not be revisited here."
   ]
  },
  {
   "cell_type": "markdown",
   "metadata": {},
   "source": [
    "All of the expansions within an **ExprRange** must match with respect to the indices of their **ExprRanges**.  That means that the number of entries of the expansions must match:"
   ]
  },
  {
   "cell_type": "code",
   "execution_count": 60,
   "metadata": {},
   "outputs": [
    {
     "name": "stdout",
     "output_type": "stream",
     "text": [
      "Expected error: Failure to apply (x_{1}, ..x_{_a}.., x_{n}, y_{1}, ..y_{_a}.., y_{n}) -> ((x_{1} * y_{1}) + ..(x_{a} * y_{a}).. + (x_{n} * y_{n})) to (a_{1}, ..a_{_a}.., a_{j}, b_{1}, ..b_{_a}.., b_{k}, y_{1}, ..y_{_a}.., y_{n}) assuming (j in Natural, k in Natural, (j + k) = n):\n",
      "Improper replacement: Improper replacement of (x_{1} * y_{1}), ..(x_{a} * y_{a}).., (x_{n} * y_{n}) via {(x_{1}, ..x_{_a}.., x_{n}): (a_{1}, ..a_{_a}.., a_{j}, b_{1}, ..b_{_a}.., b_{k}), (y_{1}, ..y_{_a}.., y_{n}): (y_{1}, ..y_{_a}.., y_{n}), x: {(x_{1}, ..x_{_a}.., x_{n})}, y: {(y_{1}, ..y_{_a}.., y_{n})}}:\n",
      "When expanding IndexedVar's within an ExprRange whose parameter is the index, their expansion ExprRange indices must all match. (a_{1}, ..a_{_a}.., a_{j}, b_{1}, ..b_{_a}.., b_{k}) vs (y_{1}, ..y_{_a}.., y_{n},) do not match as respected expansions for x_{a} and y_{a}. \n"
     ]
    }
   ],
   "source": [
    "try:\n",
    "    dot_prod_lambda.apply(a_1_to_j, b_1_to_k, y_1_to_n, requirements=requirements)\n",
    "    assert False, \"Expected an LambdaApplicationError error.\"\n",
    "except LambdaApplicationError as e:\n",
    "    print(\"Expected error:\", e)"
   ]
  },
  {
   "cell_type": "markdown",
   "metadata": {},
   "source": [
    "They must match with respect to which entries are singular versus **ExprRanges**:"
   ]
  },
  {
   "cell_type": "code",
   "execution_count": 61,
   "metadata": {},
   "outputs": [
    {
     "data": {
      "text/html": [
       "<strong id=\"defaults.assumptions\">defaults.assumptions:</strong> <a class=\"ProveItLink\" href=\"__pv_it/exprrange_reductions/77cafc425da88fb24b6ba793ccee2f225d41b7660/expr.ipynb\"><img src=\"data:image/png;base64,iVBORw0KGgoAAAANSUhEUgAAATgAAAAbBAMAAAAaHo51AAAAMFBMVEX///8iIiJERESYmJiqqqoQ\n",
       "EBB2dnbc3NyIiIhmZmbu7u4yMjJUVFS6urrMzMwAAADZVrDbAAAAAXRSTlMAQObYZgAAA/xJREFU\n",
       "WMPNV01oE0EUfsnmp92s2wTqoSo1torFHwiiqCA2IGIRpFFBEClGQVSqEL3oQe0iiK2niIhFL6si\n",
       "FFtIDorYCMYqpCiW6MGDCEZRD1Kh2NZCpcU3s5Pdnc1O60nzILMz837mmzdv3psAVDf9mJOr/C9Y\n",
       "GmnU/Jwy3v8F7gNpQnp1ggvEsOmFfwEuGBNxdogYi1Br2o3R/3O1Dkcmizy47ZyT5adNgxA42GEM\n",
       "VoSFJgjdqdTHyd0kqFMCcD3ovbQrpxlDUR6DV7mHuZy56S0Op8ZGATJsEEoLTBj0yEUf4DHZVlYA\n",
       "rgvAH3flPCt1AyTmPlalsUYDPxvUxYUmkCQOelu5M0GaYwLznjh0ca6WlkUW087rVUoJwu7gykLK\n",
       "W30EPGzyo2lnXSSS5UyQhVJu4BbQkLonAFcbhQ32sdpSXqIwKg8KwJlCyoV8v14Gd6jM/nzFaQLp\n",
       "FLiBC1BuqOgOriYBt3ADJ850G3e239x+waeNOsDJ3VFeSEm1qXmPGT7bblCpwQoTRnCb+ha4UNq3\n",
       "OVUZ9e8KZ3s06tcm3IC3BTLU7wVToAAnJY0HVwt7gRNSUoHiJgZOnqg5Pw7c5TNNkMth07fAZeKX\n",
       "P8ZAokHQmSNEbggkmzR5Ck9oFp4AfPFkoatEpqM2cIo+QiwHzamNRvxaQojjpfLJ6Pumr8gxPi+a\n",
       "JpDqbfoWuPY+/S6qOpKQGl8MwVlceQYaAPRMEVrp9AGCnlmW86EEp6Qb8WsJIbgBeMjcup9JfSXc\n",
       "rNNEh6WPLlqYyz0h3ev0QNUxHpwsz4CEc/ghjmwHeEXTuN1z8E1NOApKmBdCcGryK7uOwy1G57Sr\n",
       "iQ5L3+a5JRc1F3DgGwMlSz23Bkd4KcZlMp2wW5biUV6J5dmEDRysZ8eYKXYZl87vaqKey9MMnDyD\n",
       "62Pgh62Yow6tzUJdTAd1CoZwtA9DJgBcnR3B31EHuIyRZ00hTGMQYJ5qRW6SWtbcTDTb9E1w0pg8\n",
       "gctKzhLhT0K7niS39RL1XyC7lSVlRg+MHZRh0V67DpxQKE69Lv/GzxDUlZKWk2wmqO5xm74JTonC\n",
       "LIKrTTrrVhE6pRJICZLZ0a/B53RFeei9wf80GbVXPc8i0l5lp8GE1KV7SNYDiOCiy6Gm11h7YK3O\n",
       "maC6b2z6JjhvHHowY4dKDnAofG49rRB+Lj8vOMzKl4N2kqZBIOTjHxvvlkWyTl1avhoqaiul24Ly\n",
       "FdIqnepKKPSd5B73Z+G8uqTw2/Tvc3xR4c/gnUj8BTZZg+Avb1rA7ZtPF2mlUF/4ZCIPrBd/AU7C\n",
       "3/A1ETc2ry55bIr0vaLHZqMR0f+AxM/0jaJNkXDwpavzH6uRQHdVJ7ibVf53/w8KLCS1+6D+mQAA\n",
       "AABJRU5ErkJggg==\n",
       "\" style=\"display:inline;vertical-align:middle;\" /></a><br>"
      ],
      "text/plain": [
       "defaults.assumptions: (n in NaturalPos, j in Natural, k in Natural, (j + k) = n)"
      ]
     },
     "execution_count": 61,
     "metadata": {},
     "output_type": "execute_result"
    }
   ],
   "source": [
    "from proveit.numbers import NaturalPos\n",
    "defaults.assumptions = [InSet(n, NaturalPos)] + param_indep_assumptions"
   ]
  },
  {
   "cell_type": "code",
   "execution_count": 62,
   "metadata": {},
   "outputs": [
    {
     "data": {
      "text/html": [
       "<strong id=\"x_partition\">x_partition:</strong> <span style=\"font-size:20px;\"><a class=\"ProveItLink\" href=\"../packages/proveit/numbers/number_sets/natural_numbers/__pv_it/theorems/c137fc4bdb69d9d8200a128e712a550420acc4790/expr.ipynb\"><img src=\"data:image/png;base64,iVBORw0KGgoAAAANSUhEUgAAAEEAAAAUBAMAAAAgmk0yAAAAMFBMVEX///8QEBCYmJgyMjIiIiKq\n",
       "qqrMzMzu7u5ERERmZmaIiIjc3NxUVFR2dna6uroAAABXsXCEAAAAAXRSTlMAQObYZgAAAO5JREFU\n",
       "KM9jYKAM8BBUwUFDFcU/mgsYLn58gMeMJrYDDOwfGA4bGxobK2BVcSRhFQODADZbNFxcDED0uXae\n",
       "BAYHLCoylkMZp3PYzREq+O7sXjULLA4UhalgXZCDUMHL0cVQvwEcgBvgKhjuMS2Aq0hlMWDYn4Dq\n",
       "+dMMPAXHQCq4QbyC+gcM+mDxRGMgMICoYD/ALADXEM/AcBjM2IFkBkMuG0LFZAaGT+wgBiOyCqaA\n",
       "BjhXloH1Oy+IwbkAJnQMiG/DVXD/Y+A1UAMzXWFipiD1BjAenwMD96EAMLOmrwBMp3wE6mc3wBYf\n",
       "b1tcMMUBZP03a848vAYAAAAASUVORK5CYII=\n",
       "\" style=\"display:inline;vertical-align:middle;\" /></a> <a class=\"ProveItLink\" href=\"__pv_it/exprrange_reductions/a8b25ce69ffa69aec3eaec4042b242da7245f8e10/proof.ipynb\" style=\"text-decoration: none\">&nbsp;&#x22A2;&nbsp;&nbsp;</a><a class=\"ProveItLink\" href=\"__pv_it/exprrange_reductions/29172fde3ff7246a90bc259dda67991ca662d4100/expr.ipynb\"><img src=\"data:image/png;base64,iVBORw0KGgoAAAANSUhEUgAAASAAAAAVBAMAAAAUbS4ZAAAAMFBMVEX////MzMxUVFR2dna6uroQ\n",
       "EBCqqqqIiIgiIiJmZmYyMjJERETu7u6YmJjc3NwAAACgK8IjAAAAAXRSTlMAQObYZgAAAixJREFU\n",
       "SMetlj1IAzEUx18/bCu2tas42M1NbhNBERzUSR06CYpjB4dDh1IoWByqiKDgooNQoVPB0l2shw4F\n",
       "O1jBQQWhg4MO4segIB1Mrr2vvMtdg31DLu/dvV/+adLkAUTrIGKBBo4JIlzgNcGkERyqQbeMwkuC\n",
       "Odc4VOqaIAKP7Avm+GQ2IoxwhIcagjnhBTYijHCEvwgnFdjAC3TPCpAmbXXteV12FJ4amRnVnDH2\n",
       "rQ3ClciHn5OIFNkK5cFT5uZcwb28ozmP6mIXVVN3D0Zg4iB0Cs8RuOJr+hueoyw3ZxwmlTnNSbJv\n",
       "MQIRBw6hU3iCzAf66FT8fEEKnBnOEPsWIyxunDaz0Ck8QR/9srMggB9nQQhhcssughh4Tn3EXAR5\n",
       "PknzcJva19jtPRRvLxlCmFxXQVY42ZEBZQOCipOg1eAHZOBuCZa1TW02jLC4boIYOPkTz69cwFtr\n",
       "Pjd5sgF+wdShjf+77yNaj1az0CSRA5aIESbXEKTjrKOwcPLlZap6XG+lh3ZJcJOevvF2B7YVCA9n\n",
       "0k8AXtlPT+kTVhBGGK63WFwsnrZ+IUJi4PRbFm6c++p8VnFJoGi9nlivFINwln91MAhmyQySsVyA\n",
       "4MbNGKDpEr7v9N47hKZjjpcrgwgYgpIWkm6SDbyiVVmHXzKE8Xlf1XtTEJywLT84CNVtCXrdGzaT\n",
       "9FtDtoFbqqsIHq3OGZ1XoCFEmUey+bYiXn9GhEvY8v/g3TexQf4AMzXeH2Hx4ygAAAAASUVORK5C\n",
       "YII=\n",
       "\" style=\"display:inline;vertical-align:middle;\" /></a></span><br>"
      ],
      "text/plain": [
       "x_partition: {n in NaturalPos} |- (x_{1}, ..x_{a}.., x_{n}) = (x_{1}, x_{1 + 1}, ..x_{a}.., x_{n})"
      ]
     },
     "execution_count": 62,
     "metadata": {},
     "output_type": "execute_result"
    }
   ],
   "source": [
    "x_partition = x_1_to_n.partition(one)"
   ]
  },
  {
   "cell_type": "code",
   "execution_count": 63,
   "metadata": {},
   "outputs": [
    {
     "data": {
      "text/html": [
       "<strong id=\"x_operands_new\">x_operands_new:</strong> <a class=\"ProveItLink\" href=\"__pv_it/exprrange_reductions/b98094f74295253390fec7c89b093b39d598fa310/expr.ipynb\"><img src=\"data:image/png;base64,iVBORw0KGgoAAAANSUhEUgAAAJoAAAAVBAMAAABMN+opAAAAMFBMVEX////MzMxUVFR2dna6uroQ\n",
       "EBCqqqqIiIgiIiJmZmYyMjJERETu7u6YmJjc3NwAAACgK8IjAAAAAXRSTlMAQObYZgAAAZBJREFU\n",
       "OMtjYOC7wEAdwPYASJxmoBbQA+J1VDPtFAMD7wSqmcZcwMDxgGqm8QQwvGCgHljCUAkkjxc9KS5A\n",
       "CKJx8QIUtZYMe4EuNOBt51jAwLgB6mBULhBI4/YcRC0U3GJoA4beAeY/LA8YZzZAAxOVy8AgOQN3\n",
       "wIPVwngZDCFACxi4Qe5ggWpH4SqACA/cboOohQJ5kGkMDPwFSKahcDfgNw2qFm5aG5gSQDENiUvQ\n",
       "NJBa3rnilRB1wFhgO1DPwH4AbhoKl4BpELW8rhdYH4BjwZKBwT9hP8NbiGPOL0DhIkzj+cUAJUBK\n",
       "4AyI2jcVDPwHgCKTQSoPlR+fewGinaMHmcu0alXUqrUQt3WAlDcBMYcCjIFQq87gCrJ1IVLOAjsm\n",
       "hwGFi/Ap2wEMbyLUBjJMZgS6uAEp17OBtBswoHAhpmWAUhZmoMHV8n1gaEkE53qGfTChGZ8KGHjg\n",
       "8Q3mQkx72a8OzEKYaQ2ulkWBofgCuERCLS150bXA0yZmCY2hFuQu/CX5BuJLEF7CZRtppR8A9OWB\n",
       "gmETazgAAAAASUVORK5CYII=\n",
       "\" style=\"display:inline;vertical-align:middle;\" /></a><br>"
      ],
      "text/plain": [
       "x_operands_new: (x_{1}, x_{1 + 1}, ..x_{a}.., x_{n})"
      ]
     },
     "execution_count": 63,
     "metadata": {},
     "output_type": "execute_result"
    }
   ],
   "source": [
    "x_operands_new = x_partition.rhs"
   ]
  },
  {
   "cell_type": "code",
   "execution_count": 64,
   "metadata": {},
   "outputs": [
    {
     "data": {
      "text/html": [
       "<a class=\"ProveItLink\" href=\"__pv_it/exprrange_reductions/ad57483e177c9ed681f7f52eb79514df4e9c37030/expr.ipynb\"><img src=\"data:image/png;base64,iVBORw0KGgoAAAANSUhEUgAAAdYAAAAUCAMAAAAHk+xjAAAANlBMVEX///8oKCgNDQ3MzMxUVFR2\n",
       "dna6uroQEBCqqqqIiIgiIiJmZmYyMjJERETu7u6YmJjc3NwAAADtE0dfAAAAAXRSTlMAQObYZgAA\n",
       "A4xJREFUaN7VWuGitRoQda9SVNT7v+ylIsOQaN/vy4+z55TWrDWjIUUIIasiX27jWt7XSm2R/MQf\n",
       "eU6tlZU15EK+3briOFupbZK7X+S1OQuO1WnM68fTKufSnlZqm+Ryfw9acxYcq8NQE/l663lZPyu1\n",
       "VXLob+RPEaIrXsiCY7UbYv18WuWAH+eBNCu1VXLo74W0vpAFx8oYqyDfbzPDgwdvASu1XXLgrz2t\n",
       "r2TBsdIGP6VLzruV8Z43DJcbCMknc2odZLWDBEDv8gcXHjBYVuoDyQmP/fRyWh9lIRUGx0oby7Gu\n",
       "lr2u74ITsc+3tGZZBiGw4k+YqRN8q/XgA8CZacYTOQIvp9QnkhOU1fxyWlFKT8PgWGlDjEdXnfl+\n",
       "k4TpGk+nqaYm+BDog9lIJuN4WSo9eABhlASeVsIXb0SfUgskyxvKo3g5rQil+La5C4NjpY2BuWuu\n",
       "fqwmrRKNODg/GDUbr/QAAECjbuD++88M2rZd0+Ap9V6y3OY8Zeev352IYf/pigY/egVKKVCPkkKj\n",
       "oI3hkn31Y7Uz+JYdt0wPRO2TVnvwABJpFXC+YcJb3ARpzUgWXZ4y3V6+W1FK4WK5uwmDn1ZbmUC/\n",
       "2rQ6CDUpynn4LLbXDj7Ue3AAAT5LFGE6S5IswkWSccrsR0X4PoS5MDhW2jgn61EeUzCX1UH3IRQb\n",
       "NO4QTBFLZ/9UptUBBPipJRPcugmWTEWSccq/WjLdhzAXBn/JdKyK2TaSZXP7zaeCq5xHRnzIh1gl\n",
       "NwimVniXkKkz3VSthwvAx9+P9y7goARP6ANATnJ0Y0SUoT8sSTktibTGlEKJGKmgj2OljYOs7DjX\n",
       "j0NKwdtZ2KnK1fWrwF+Hjk4QotO82QBB9i7TttZ68AE8fHNXUjwnNJho/d+E5HChElOO/UUlNaMF\n",
       "vwKjBCXipEAfx8oY2LaVUzDKsuobtYHug4ZG56e50cMB4OMTWVjRc5uHmVkhpBz5+83mIZCYIOX3\n",
       "cax2A9tkdk9AfdkuQfyIaWYIwUbqn+9mU41YvYcLAOC/stU/omlFKUf+5ONts+iKmBKUiJOCYQZb\n",
       "/WQJB8o6ia3jxzZV0ZYeMvZNzeG9AueF/nfhDR4uAB//wYsyKzUjObiJEMq/eTEXUQISE6RAmOGL\n",
       "udwL3KIX9qr0PNMzAm3xgAFgEUmPj6ev0VGPyx9+jY6HwbGyxsc/elH/80cv6q/86MWx2o3/ACqj\n",
       "NcomKa7uAAAAAElFTkSuQmCC\n",
       "\" style=\"display:inline;vertical-align:middle;\" /></a>"
      ],
      "text/plain": [
       "(x_{1}, ..x_{_a}.., x_{n}, y_{1}, ..y_{_a}.., y_{n}) -> ((x_{1} * y_{1}) + ..(x_{a} * y_{a}).. + (x_{n} * y_{n}))"
      ]
     },
     "execution_count": 64,
     "metadata": {},
     "output_type": "execute_result"
    }
   ],
   "source": [
    "dot_prod_lambda"
   ]
  },
  {
   "cell_type": "code",
   "execution_count": 65,
   "metadata": {},
   "outputs": [
    {
     "name": "stdout",
     "output_type": "stream",
     "text": [
      "Expected error: Failure to apply (x_{1}, ..x_{_a}.., x_{n}, y_{1}, ..y_{_a}.., y_{n}) -> ((x_{1} * y_{1}) + ..(x_{a} * y_{a}).. + (x_{n} * y_{n})) to (x_{1}, x_{1 + 1}, ..x_{a}.., x_{n}, a_{1}, ..a_{_a}.., a_{j}, b_{1}, ..b_{_a}.., b_{k}) assuming (n in NaturalPos, k in Natural, j in Natural, (j + k) = n):\n",
      "Improper replacement: Improper replacement of (x_{1} * y_{1}), ..(x_{a} * y_{a}).., (x_{n} * y_{n}) via {(x_{1}, ..x_{_a}.., x_{n}): (x_{1}, x_{1 + 1}, ..x_{a}.., x_{n}), (y_{1}, ..y_{_a}.., y_{n}): (a_{1}, ..a_{_a}.., a_{j}, b_{1}, ..b_{_a}.., b_{k}), x: {(x_{1}, ..x_{_a}.., x_{n})}, y: {(y_{1}, ..y_{_a}.., y_{n})}}:\n",
      "When expanding IndexedVar's within an ExprRange whose parameter is the index, their expansion ExprRange indices must all match. (x_{1}, x_{1 + 1}, ..x_{a}.., x_{n}) vs (a_{1}, ..a_{_a}.., a_{j}, b_{1}, ..b_{_a}.., b_{k}) do not match as respected expansions for x_{a} and y_{a}. \n"
     ]
    }
   ],
   "source": [
    "try:\n",
    "    dot_prod_lambda.apply(*x_operands_new.entries, a_1_to_j, b_1_to_k, requirements=requirements)\n",
    "    assert False, \"Expected an LambdaApplicationError error.\"\n",
    "except LambdaApplicationError as e:\n",
    "    print(\"Expected error:\", e)"
   ]
  },
  {
   "cell_type": "markdown",
   "metadata": {},
   "source": [
    "Each of the start indices must match:"
   ]
  },
  {
   "cell_type": "code",
   "execution_count": 66,
   "metadata": {},
   "outputs": [
    {
     "data": {
      "text/html": [
       "<strong id=\"x_shift_equiv\">x_shift_equiv:</strong> <span style=\"font-size:20px;\"><a class=\"ProveItLink\" href=\"../packages/proveit/numbers/number_sets/natural_numbers/__pv_it/theorems/c137fc4bdb69d9d8200a128e712a550420acc4790/expr.ipynb\"><img src=\"data:image/png;base64,iVBORw0KGgoAAAANSUhEUgAAAEEAAAAUBAMAAAAgmk0yAAAAMFBMVEX///8QEBCYmJgyMjIiIiKq\n",
       "qqrMzMzu7u5ERERmZmaIiIjc3NxUVFR2dna6uroAAABXsXCEAAAAAXRSTlMAQObYZgAAAO5JREFU\n",
       "KM9jYKAM8BBUwUFDFcU/mgsYLn58gMeMJrYDDOwfGA4bGxobK2BVcSRhFQODADZbNFxcDED0uXae\n",
       "BAYHLCoylkMZp3PYzREq+O7sXjULLA4UhalgXZCDUMHL0cVQvwEcgBvgKhjuMS2Aq0hlMWDYn4Dq\n",
       "+dMMPAXHQCq4QbyC+gcM+mDxRGMgMICoYD/ALADXEM/AcBjM2IFkBkMuG0LFZAaGT+wgBiOyCqaA\n",
       "BjhXloH1Oy+IwbkAJnQMiG/DVXD/Y+A1UAMzXWFipiD1BjAenwMD96EAMLOmrwBMp3wE6mc3wBYf\n",
       "b1tcMMUBZP03a848vAYAAAAASUVORK5CYII=\n",
       "\" style=\"display:inline;vertical-align:middle;\" /></a> <a class=\"ProveItLink\" href=\"__pv_it/exprrange_reductions/13a8cd29bb38367c234edc25637b0d520a41a7db0/proof.ipynb\" style=\"text-decoration: none\">&nbsp;&#x22A2;&nbsp;&nbsp;</a><a class=\"ProveItLink\" href=\"__pv_it/exprrange_reductions/1e42e7aecb913becc8ebd4da11d05aeb2eae0de20/expr.ipynb\"><img src=\"data:image/png;base64,iVBORw0KGgoAAAANSUhEUgAAATsAAAAaBAMAAAA6debTAAAAMFBMVEX////MzMxUVFR2dna6uroQ\n",
       "EBCqqqqIiIgiIiJmZmYyMjJERETu7u6YmJjc3NwAAACgK8IjAAAAAXRSTlMAQObYZgAAA1ZJREFU\n",
       "WMO1V01o1EAU/vZ/282miyKiHrqeCh7KgociWCyFqiDYCsWDoNTiQaHIYtG6ULFIqSIFF+qhUgor\n",
       "KEJQ2Xu1Bj0s6qGRKqgg7MGDgmLrQUEWcTLJZDOZTdpIMofZvNn3vvfNvDcvL0AQI9KH4EcqMKQt\n",
       "IbBDPB8U0sMw6KFXn2TNl02yLq61FUOhl1bJ9NqnUbe49EMNhV6qTKbHPo1eiUv7QmEHeQ3Iln0a\n",
       "xcRIHg+HHmZIgOs+baQhYZeNkOgtAF98G91zLmSHQqJ3ESiRn9qFz+Oel0+a6D7U45ppbRWHxkbD\n",
       "9Cc713MOeVDFUwJdyF5PVxCpuuK9wPviTSZ8pBmo0EETN1NlGqmegvUicUcz/aHAre4CznAS0JnT\n",
       "0y+mxhrxeuTOlCvgfhxQjzLhrPPf9jzTWMUoY+eBZvhDlMv6HfMkDHW7RApWH4bJbuj+EXcHVLHU\n",
       "FDqF8llmGtPoICUwCm80099WfvUw+YO+xvKmBKxQekBH0RsQ+O1Br71sakjrSIyQYGMjNOpvt0DP\n",
       "qMFVix45vRkzyN6AkXUyfXgzUWaWZu7RnWbypkbkL9LaZuhRf1PILm4vcfSu8PQ66/rVSKpXkVK9\n",
       "AMdSa5jE25M4xa6GfUSrpkakgXRxY3qGP5nQG9ASdTu9UZ4eubmkTAyOPMN3A3BFrxF/YDxYUvxX\n",
       "Zk3W5NoU9AI8J7wbh0wNcnoJOz0LiYc0/MWr+HaZ5mqT3hGe3jv6+3yitqgZgOlZsnpNT/c8m26o\n",
       "kLomS5/IKRXjegG+KzRmDVOD5F5H3x7lvqJoxukRWwOkCTnL/OntXBcGEF8i44lBaCeiinJCeWTS\n",
       "W7C/1CjgWItQsKdErq2QgyRGbZg9GDe3Gdyk2MqM2QvjMcxF7KfXz5/eA3tLkNQBC2KVavZNSB/M\n",
       "tWoJrHCXaPZkLLSYmHiWA7JN0pJMn7aX01WLni5Jeiotsxf7/M8iJNF3zXrqR6q3ZUO1zcrCvWWT\n",
       "HkWz2Vqkmg5m9fiOs2b4660u4DajR6Vs3tmOZkXfzmZ6WVSJjnBixtWWc3BJBKpYp0fLfc5/M59t\n",
       "0YBJFRd6nkNUS2ocvdWgOp9zfP+3yS8x4Vxe0pntX64GRS/5X9+5550Lk3yfFs4XTJDjHyqZ8biE\n",
       "aasqAAAAAElFTkSuQmCC\n",
       "\" style=\"display:inline;vertical-align:middle;\" /></a></span><br>"
      ],
      "text/plain": [
       "x_shift_equiv: {n in NaturalPos} |- (x_{1}, ..x_{a}.., x_{n}) = (x_{0 + 1}, ..x_{i + 1}.., x_{(n - 1) + 1})"
      ]
     },
     "execution_count": 66,
     "metadata": {},
     "output_type": "execute_result"
    }
   ],
   "source": [
    "from proveit.numbers import zero\n",
    "x_shift_equiv = x_1_to_n.shift_equivalence(new_start=zero)"
   ]
  },
  {
   "cell_type": "code",
   "execution_count": 67,
   "metadata": {},
   "outputs": [
    {
     "data": {
      "text/html": [
       "<strong id=\"x_operands_shifted\">x_operands_shifted:</strong> <a class=\"ProveItLink\" href=\"__pv_it/exprrange_reductions/2fdd4c42654e4f6c638e8607addfed2510140e650/expr.ipynb\"><img src=\"data:image/png;base64,iVBORw0KGgoAAAANSUhEUgAAALQAAAAaBAMAAADs9WufAAAAMFBMVEX///8iIiJERESYmJiqqqoQ\n",
       "EBB2dnbc3NyIiIhmZmbu7u4yMjJUVFS6urrMzMwAAADZVrDbAAAAAXRSTlMAQObYZgAAAk9JREFU\n",
       "SMe1lU1oE0EUx/+b3XQ3X2vBS/1Al54FV4qHgkrEW0EIKCh4WfCiXox68iDdiyEtQlM8+HUZLxKw\n",
       "kIB4kPVQRGjBS6yCHoQGbx4kPQhKNOKbaabZyRINwjzI2/ces7+8+e/bWQBfocFC7txVHehP3OWY\n",
       "DvSET+4+tNhewO7qQS9Q5zU96HkgXdSDNoqYZ3rQGQ9H9ZDhlPCILvU7tyrhmLdkq2sfL9G1PFR3\n",
       "h/JCF9O0OjCnjCYqlZ3659HoJzgS7qOnr3I9WK14Ru43XtIyNtEtlM3Aku/ll+XR6Cu4yj4Aawr5\n",
       "wSRwT8lg97CHukaK/sdogY+4wL8djWZ8n3ADdfcEW+FBXmbI9vCCJ7tI6UYbZyn0/oEGfnBEO4HO\n",
       "cfVTO2jq+hBPOrSyU8bucdAkIm0RmD1RrcXRjq+g3e94BVhsCQ7rMEyNgZ5ztrCIa8DxMzgXR4sn\n",
       "NUDThNwGNouHcYN3fT6ObjRJsJ/DQeFbasv2sQG7PoluHF3wFLRZwibDSrV+1+da9/JRdCF6to02\n",
       "6OzCfh6syoAq2fXFhRlxHOfDQgkb02RMwNwm3kTPo8jfRtPbmJbz2J+QgSBzSTHig59uZ4J2vGtV\n",
       "kFyIjBwjpybUEuiT3AUJ9KDymB9txnuJtghmBhLNMzQY3JJcXrmMPvrmwXXaeuLVj1UMRpo4F/uZ\n",
       "vfyLemz10SLDMYpeq/d7MjATTccqTvIozkF2LewA/Z6OQP/dkstOKWghj6V+Zsrjod8l1BIYW6bX\n",
       "hT/9P8exNdyCo35SHkKn/QGGUI+g6sOzSwAAAABJRU5ErkJggg==\n",
       "\" style=\"display:inline;vertical-align:middle;\" /></a><br>"
      ],
      "text/plain": [
       "x_operands_shifted: (x_{0 + 1}, ..x_{i + 1}.., x_{(n - 1) + 1})"
      ]
     },
     "execution_count": 67,
     "metadata": {},
     "output_type": "execute_result"
    }
   ],
   "source": [
    "x_operands_shifted = x_shift_equiv.rhs"
   ]
  },
  {
   "cell_type": "code",
   "execution_count": 68,
   "metadata": {},
   "outputs": [
    {
     "name": "stdout",
     "output_type": "stream",
     "text": [
      "Expected error: Failure to apply (x_{1}, ..x_{_a}.., x_{n}, y_{1}, ..y_{_a}.., y_{n}) -> ((x_{1} * y_{1}) + ..(x_{a} * y_{a}).. + (x_{n} * y_{n})) to (x_{0 + 1}, ..x_{i + 1}.., x_{(n - 1) + 1}, y_{1}, ..y_{_a}.., y_{n}) assuming (n in NaturalPos, k in Natural, j in Natural, (j + k) = n):\n",
      "Improper replacement: Improper replacement of (x_{1} * y_{1}), ..(x_{a} * y_{a}).., (x_{n} * y_{n}) via {(x_{1}, ..x_{_a}.., x_{n}): (x_{0 + 1}, ..x_{i + 1}.., x_{(n - 1) + 1}), (y_{1}, ..y_{_a}.., y_{n}): (y_{1}, ..y_{_a}.., y_{n}), x: {(x_{1}, ..x_{_a}.., x_{n})}, y: {(y_{1}, ..y_{_a}.., y_{n})}}:\n",
      "When expanding IndexedVar's within an ExprRange whose parameter is the index, their expansion ExprRange indices must all match. (x_{0 + 1}, ..x_{i + 1}.., x_{(n - 1) + 1},) vs (y_{1}, ..y_{_a}.., y_{n},) do not match as respected expansions for x_{a} and y_{a}. \n"
     ]
    }
   ],
   "source": [
    "try:\n",
    "    dot_prod_lambda.apply(*x_operands_shifted.entries, y_1_to_n, requirements=requirements)\n",
    "    assert False, \"Expected an LambdaApplicationError error.\"\n",
    "except LambdaApplicationError as e:\n",
    "    print(\"Expected error:\", e)"
   ]
  },
  {
   "cell_type": "markdown",
   "metadata": {},
   "source": [
    "And each of the end indices must match:"
   ]
  },
  {
   "cell_type": "code",
   "execution_count": 69,
   "metadata": {},
   "outputs": [
    {
     "data": {
      "text/html": [
       "<strong id=\"defaults.assumptions\">defaults.assumptions:</strong> <a class=\"ProveItLink\" href=\"__pv_it/exprrange_reductions/4be3bf4bf5ecce887ba35e056a9286483576db040/expr.ipynb\"><img src=\"data:image/png;base64,iVBORw0KGgoAAAANSUhEUgAAAOsAAAAUBAMAAACe4NcqAAAAMFBMVEX////MzMxUVFR2dna6uroQ\n",
       "EBCqqqqIiIgiIiJmZmYyMjJERETu7u6YmJjc3NwAAACgK8IjAAAAAXRSTlMAQObYZgAAA0JJREFU\n",
       "SMe1Vk1oE0EUfrsxaX5m01ApFPSQglChEvagaCtIwIug0B568BdzkV7U5lZCi1TBEotgLlIRlCAo\n",
       "WIrmoLZaW5aCtLRKgoeKCLWK0IKHptjmoFWcNz/J7LKbiziQ2XnfzJtv5s03bwIQLcE/FW//y/Xw\n",
       "RawuWCpOnk6Ng+98DzeeDzncFn69suDAVpJbzD9w1j5k8SSt9BV3WoY/wdZ7e0ek1ARQFEY45/Sb\n",
       "1uJAysJg/kbcMeQxLjjvTou4kXNbz9WGNPiF0Zhydu+N9QN087bdv1c2Klgd9IgyxYNqJIzJ7Aij\n",
       "PW61QlCAXdUD+JTNsg3sea3HQITe5l+l3bGN9RsPWoqvKaY2IRj0L/EFS9Iekt27BkUj0UTGJe0a\n",
       "uNH6WG846U5L8QwGu7/AtWJVD71Xiwerx3TpPjuScemWCKSbJC36w9yAgzacC3xcAZ/zAI8mVjNp\n",
       "QHyaWiE4x6erac2X/CBoSaXh22+wCTMB+420oEV/yPlLdtpi6kpXCQx2JJ1jWFBjYE6lyR9AfJha\n",
       "y1wBUFAkvk9v4e3A9iBhk0agRqtbrYIW/Y0VKTtJ2zdnvaOujqunpUYgusFwvJwWV4B2GpclaGfh\n",
       "IR8bOiWcmrE3z2lJPCyUjP6Ey45u6/rY2ANEb7PwamXHzSGbYJQZ3lNTQFTdrWY2C6m2TfDGd2W3\n",
       "sFNTaGuyk7u9NpB2oYVAGfQ8w4eVjNCt5pElEdRicp0L0q/SGqlCLcg8Oyi0ZDO6iddoqHa2LAih\n",
       "PDSWLMSnuQLY6NEqbYxGQOzuM+01mU9adrfS35GCIilSsdMaZVLxgZCUUvwm9Fkm4h1MAfzmBGU+\n",
       "CmPjLpCf9NMOjTFT2Rgtj/jCizhrB5ednVYvwAalDZkOWhq3TiOG+DE074jYtJ/girt1Bm8xQJYu\n",
       "5wU0jPJVzT7j35atAkuswZvUYP6hITttJAUZmlvCMQctHfx1ieEsud2QOe0wT45VCVj22z6ZtYXt\n",
       "okyOwZwzJ7My75Ec51kq3413ybX46j+1Jn8KNGtdbuutM+V7PQUwE/0RyXn0z9VlJUxjM7BuvvR8\n",
       "4DzxRWi75zVx/T8ehnjm9Yz7uIjHM8/w//enZtkb/wt9Ous5FvGFcgAAAABJRU5ErkJggg==\n",
       "\" style=\"display:inline;vertical-align:middle;\" /></a><br>"
      ],
      "text/plain": [
       "defaults.assumptions: (j in Natural, k in Natural, (j + k) = n)"
      ]
     },
     "execution_count": 69,
     "metadata": {},
     "output_type": "execute_result"
    }
   ],
   "source": [
    "defaults.assumptions = param_indep_assumptions"
   ]
  },
  {
   "cell_type": "code",
   "execution_count": 70,
   "metadata": {},
   "outputs": [
    {
     "data": {
      "text/html": [
       "<strong id=\"y_operands_new\">y_operands_new:</strong> <a class=\"ProveItLink\" href=\"__pv_it/exprrange_reductions/1385fa9d371f5ea25b64917e6240d1592876dbc80/expr.ipynb\"><img src=\"data:image/png;base64,iVBORw0KGgoAAAANSUhEUgAAAL8AAAAVBAMAAADlQyK9AAAAMFBMVEX////MzMxUVFR2dna6uroQ\n",
       "EBCqqqqIiIgiIiJmZmYyMjJERETu7u6YmJjc3NwAAACgK8IjAAAAAXRSTlMAQObYZgAAAiNJREFU\n",
       "OMu1lT1IHEEYht89Re9nvLMRIgERFK4yHGnMFYErJY0pAhFEsbCwCGZVROwOi8Qi4FVqtMiSTtDE\n",
       "xkgK5RAkEYvdMlW4JmA6/zhBLuI3Mzc30XXnYOEGdmb49pl9d95vfoCkh4aVSV4dg+3kzdzxUEiB\n",
       "SImqL0C8UAfcCCnAHKCNPp4aqwOWw3rUD0RpFoNFM9ZcCStwCJxQ86wO1pQPKxDPYZ6az3PLZiw9\n",
       "/7+Jf7Oz5ilroKmAPUrFddEt4XHwAHeT3WDWVoaN4itgbQc7KgDE2ynDDt4BLRWk7M7VYIG3RVwh\n",
       "mlO+eliH9THYNgHQZ/mTxysg5sDNYCBYYA3sAq6y5VMR7+k3gwUkIIp1ygVoGwyOmQQ20FzW74fB\n",
       "zowCElACZFHK46IGgX+IVZC1puXmuUDLqUmgCvzgC4coSnIqx0ZgErjktm6NS5NYGRFn0iQggcIL\n",
       "iCRn6cTwEgUp4Dp8Td3voA/fgfP2amgXv7ozQqBG3R0jAFZ6St2YyC1beQ4pEP1A1QLvdKsOjxzN\n",
       "eLBef6PeIk3iYK4rnRMCNVyP0QD3hi9VflSIIix645uwirRudyRp2dV2mLDIj2sAN/T8lIedKBO8\n",
       "yvhGqEjCftRKO1N/Kf8grgHrpTzssF/d3ktpMsv2ZUxF4qXIFC0NFU+untsP4BqgKcvjmi4cXdp8\n",
       "A+5FPNPLu0CC1BPc/wZdmb1/KBu/G3cbo+eJbG8BNsydrJD0uzUAAAAASUVORK5CYII=\n",
       "\" style=\"display:inline;vertical-align:middle;\" /></a><br>"
      ],
      "text/plain": [
       "y_operands_new: (b_{1}, ..b_{_a}.., b_{k}, a_{1}, ..a_{_a}.., a_{j})"
      ]
     },
     "execution_count": 70,
     "metadata": {},
     "output_type": "execute_result"
    }
   ],
   "source": [
    "y_operands_new = [b_1_to_k, a_1_to_j]"
   ]
  },
  {
   "cell_type": "code",
   "execution_count": 71,
   "metadata": {},
   "outputs": [
    {
     "data": {
      "text/html": [
       "<strong id=\"ynew_len_kpj\">ynew_len_kpj:</strong> <span style=\"font-size:20px;\"><a class=\"ProveItLink\" href=\"../packages/proveit/numbers/addition/__pv_it/theorems/bfb51b20218eda15111bf9094481a2c5d106a87b0/expr.ipynb\"><img src=\"data:image/png;base64,iVBORw0KGgoAAAANSUhEUgAAADMAAAAPBAMAAAC7N+rPAAAAMFBMVEX////MzMxUVFSIiIjc3NyY\n",
       "mJh2dna6urqqqqpmZmYyMjIiIiIQEBBERETu7u4AAAA59f8xAAAAAXRSTlMAQObYZgAAAOFJREFU\n",
       "GNNj4LuzgQEVvPp76wFDzp8CBgauCWhSDFcZFRj4PgAZ/A3oUtoCxgwMB4CM+gdQEdbbu3eBGer3\n",
       "mAQYQNZkQ2UYL8PUqAjxrQNLrWRonQK2HSbDoMJhIASS4vvB7P4VLAC3S4UhndUAKMXxz44vACRw\n",
       "AUmK6YEiUIrzJNSqU6uAACrFp8AFdCG38mUwnwVZF4MYI1DqfYF/AVjgALIUawNQZTzD+4YEkMBk\n",
       "uJQiEKcApXQZ+AXAUtzwUFkBxJwLGBhuMDBPBvuIT7cOIiP9B6iDbwFy0LHnQgMKCgCcjDwSTSfb\n",
       "2QAAAABJRU5ErkJggg==\n",
       "\" style=\"display:inline;vertical-align:middle;\" /></a>, <a class=\"ProveItLink\" href=\"__pv_it/exprrange_reductions/9c3fd62286e7dde7f7db90b220d2dad3ca5e87350/expr.ipynb\"><img src=\"data:image/png;base64,iVBORw0KGgoAAAANSUhEUgAAADMAAAASBAMAAAAEf/uKAAAAMFBMVEX////MzMwyMjIiIiJ2dna6\n",
       "urrc3NxmZmZERESIiIhUVFSYmJju7u4QEBCqqqoAAACA8xhiAAAAAXRSTlMAQObYZgAAAN9JREFU\n",
       "GNNjYGBg4LvDgAwO/Wg6wOD7NwDE5l6AIsXQzbiAgecDAzawWGAmA8MFZBHuZmMjMGNpD5cAgwGS\n",
       "DGPnAShrmRSPDkTq5AyI7TAZhmV8E6QgUgW8G8ACcP3LGFy5J4CkuBP4H4AEGpCkuA4sBEnxMMSD\n",
       "jGK8pAQEUCmeBUwQFzqDCDZkXQwijBApdTB5AVmK+wFYJc8/sEAlXGohELuBpfj+gAWYH8Ck9ICY\n",
       "XQHEYod4nGdFDERG+C9QBw9YirkAIsTqAQ0oePgcyBdgwA7yHdpxyDBwTd+AQwYAD9YyhrRcti4A\n",
       "AAAASUVORK5CYII=\n",
       "\" style=\"display:inline;vertical-align:middle;\" /></a> <a class=\"ProveItLink\" href=\"__pv_it/exprrange_reductions/4a26fc6b48c615d1f5eb67dec5e5f068747677b40/proof.ipynb\" style=\"text-decoration: none\">&nbsp;&#x22A2;&nbsp;&nbsp;</a><a class=\"ProveItLink\" href=\"__pv_it/exprrange_reductions/468d9df44e1b3a37e7c640d46aca66736326ad860/expr.ipynb\"><img src=\"data:image/png;base64,iVBORw0KGgoAAAANSUhEUgAAASwAAAAWBAMAAACIxbw5AAAAMFBMVEX///9UVFQQEBCqqqoiIiJm\n",
       "ZmYyMjJERESYmJjc3NyIiIi6urp2dnbu7u7MzMwAAAADGpxCAAAAAXRSTlMAQObYZgAAAxVJREFU\n",
       "SMe9lz2IE0EUx1/u8rnZSaz8SGWhcAhCkCtEkeRECwvxilP0uMIrEgTxWDyu0CoWClbGQjiwcBVE\n",
       "8CMESWNlBM/GZhFUFGTDoVgd8QjIqRdx3tvvr4kG4kA2u3n/N++3M2/mTWAN/kvLaf+mf03X5dEB\n",
       "jdfxKjcDhmWRB2ExBd7vEvc+yB7ddoRj8ZjsYjko36ehB2ElOV9lQO+VYbHehWNhzOR0UH6FPAjr\n",
       "Kv/0BvTeGxZLVkOxMGa+aD0d8HkQ1jGAbF/c+SB7dGM7Q7F4THiuhWJxD8TK8CmWywPeuTx00p8P\n",
       "w8KY8BJCsbgHYkl8ipOF+0VR3z57Zm52r5DFJVgJw8KYPF/3n/FisYcKeSBWqgagX2A/IKdEhiH7\n",
       "PdV6fFpPfgP4Go1lCGCBf67ZWK+q2GjxYEzWk25veLESMEEeiBXn41DS4GfuZPRMoR3i1juzCUgo\n",
       "8GUmOqFIAIAjPBk2WhhzvP+E1bxY12lpTRLWGPc5BWwTstFYZNetFE30Ic5HrhUpNwXUumFYGDOx\n",
       "27jng3i4Wp3HW42WVtfGqkC2J8Iiu40xpoDeEWGZAjFWvHA5kPK0tLr2JG7gCwqwyL6Su2tmWhtK\n",
       "IMIyBIyWScuXW/PWJOrNO00/Fu2wLTvlf8GbmgiL7OcOmtOoF2ErL10CLBIksmc9Ke9qGPMGl7V9\n",
       "WHrRTnmZE26HJSAsHXvCC/vuviH7esf8KaWmp2QaB1vl9TEEH+Qt/HkuDAtjboN8x49V0sgDsZDm\n",
       "7eOacRM/jkOM3U1ZN0c0w57bswiGgBUaNx8Z04NGUjk+jgDHhDaJABaGWgRpVvNh0eJesIuPrYVD\n",
       "wZOG6SspqxmPoOUyupojyPN6zMqRxQeCu/xRIA+7VFN87KEdLDxWPqifJY9g0mV0NUewKi7VTvtk\n",
       "fK1lfrtKdapuFIyZdRWYGgjz0T6LxBrgEtw6UXCMrq3U6eFB9MHGjOmtWJupaXAONsxVdNJBdc3z\n",
       "lBYZfQLcly5FHgODrXAaDI/GCA/NsWe8WqdpVKTO3x+a0/XR/q+IvRg2wB80UfZS875JagAAAABJ\n",
       "RU5ErkJggg==\n",
       "\" style=\"display:inline;vertical-align:middle;\" /></a></span><br>"
      ],
      "text/plain": [
       "ynew_len_kpj: {k in Natural, j in Natural} |- |(b_{1}, ..b_{x}.., b_{k}, a_{1}, ..a_{x}.., a_{j})| = (k + j)"
      ]
     },
     "execution_count": 71,
     "metadata": {},
     "output_type": "execute_result"
    }
   ],
   "source": [
    "ynew_len_kpj = Len(y_operands_new).computation()"
   ]
  },
  {
   "cell_type": "code",
   "execution_count": 72,
   "metadata": {},
   "outputs": [
    {
     "data": {
      "text/html": [
       "<strong id=\"ynew_len_jpk\">ynew_len_jpk:</strong> <span style=\"font-size:20px;\"><a class=\"ProveItLink\" href=\"../packages/proveit/numbers/addition/__pv_it/theorems/bfb51b20218eda15111bf9094481a2c5d106a87b0/expr.ipynb\"><img src=\"data:image/png;base64,iVBORw0KGgoAAAANSUhEUgAAADMAAAAPBAMAAAC7N+rPAAAAMFBMVEX////MzMxUVFSIiIjc3NyY\n",
       "mJh2dna6urqqqqpmZmYyMjIiIiIQEBBERETu7u4AAAA59f8xAAAAAXRSTlMAQObYZgAAAOFJREFU\n",
       "GNNj4LuzgQEVvPp76wFDzp8CBgauCWhSDFcZFRj4PgAZ/A3oUtoCxgwMB4CM+gdQEdbbu3eBGer3\n",
       "mAQYQNZkQ2UYL8PUqAjxrQNLrWRonQK2HSbDoMJhIASS4vvB7P4VLAC3S4UhndUAKMXxz44vACRw\n",
       "AUmK6YEiUIrzJNSqU6uAACrFp8AFdCG38mUwnwVZF4MYI1DqfYF/AVjgALIUawNQZTzD+4YEkMBk\n",
       "uJQiEKcApXQZ+AXAUtzwUFkBxJwLGBhuMDBPBvuIT7cOIiP9B6iDbwFy0LHnQgMKCgCcjDwSTSfb\n",
       "2QAAAABJRU5ErkJggg==\n",
       "\" style=\"display:inline;vertical-align:middle;\" /></a>, <a class=\"ProveItLink\" href=\"__pv_it/exprrange_reductions/9c3fd62286e7dde7f7db90b220d2dad3ca5e87350/expr.ipynb\"><img src=\"data:image/png;base64,iVBORw0KGgoAAAANSUhEUgAAADMAAAASBAMAAAAEf/uKAAAAMFBMVEX////MzMwyMjIiIiJ2dna6\n",
       "urrc3NxmZmZERESIiIhUVFSYmJju7u4QEBCqqqoAAACA8xhiAAAAAXRSTlMAQObYZgAAAN9JREFU\n",
       "GNNjYGBg4LvDgAwO/Wg6wOD7NwDE5l6AIsXQzbiAgecDAzawWGAmA8MFZBHuZmMjMGNpD5cAgwGS\n",
       "DGPnAShrmRSPDkTq5AyI7TAZhmV8E6QgUgW8G8ACcP3LGFy5J4CkuBP4H4AEGpCkuA4sBEnxMMSD\n",
       "jGK8pAQEUCmeBUwQFzqDCDZkXQwijBApdTB5AVmK+wFYJc8/sEAlXGohELuBpfj+gAWYH8Ck9ICY\n",
       "XQHEYod4nGdFDERG+C9QBw9YirkAIsTqAQ0oePgcyBdgwA7yHdpxyDBwTd+AQwYAD9YyhrRcti4A\n",
       "AAAASUVORK5CYII=\n",
       "\" style=\"display:inline;vertical-align:middle;\" /></a> <a class=\"ProveItLink\" href=\"__pv_it/exprrange_reductions/4c974bd7dd55a75a5d2e8f0bc7c6b5105788fbb50/proof.ipynb\" style=\"text-decoration: none\">&nbsp;&#x22A2;&nbsp;&nbsp;</a><a class=\"ProveItLink\" href=\"__pv_it/exprrange_reductions/2f453e60edb879c24da03a782aa5793a02db8eaf0/expr.ipynb\"><img src=\"data:image/png;base64,iVBORw0KGgoAAAANSUhEUgAAASwAAAAWBAMAAACIxbw5AAAAMFBMVEX///9UVFQQEBCqqqoiIiJm\n",
       "ZmYyMjJERESYmJjc3NyIiIi6urp2dnbu7u7MzMwAAAADGpxCAAAAAXRSTlMAQObYZgAAAxJJREFU\n",
       "SMe9lj9oE3EUx1/S/M/9rk5iOzk4iBDI0EmRXMWlgxikOkgHOyQIxXIgHXS6Jc5xELr1FEoRtYhk\n",
       "cWoE69IlCFYNyIWiOIktAVFrxN97d5f7k9/9ooH44I67e9/3e5/7/d7d+8EX+C+mtv5Nv0Pn1fEB\n",
       "TdTxrDwdcKzKIgiL6fD2hHz0Yf5omxJj8ZycoCDKMuVgpThfZcjolVGxdsVYmBMyR0RZdh2sGj+6\n",
       "Q0bvjoqlmEKsmv/mdCALjyCsOYB8Tz74MH+0seNCrDkRlp2FRyBWVuNx2pB31kYu+iURVlYTYTlZ\n",
       "lggrV+ZLPb1elI0d8mcXrhakLD7BtggLc0J7I4SVKk/U6hiBWGkDwLrBfoCqR6Yh/wPTvX1WT+0D\n",
       "fI7GsgWwzI87faxXVTQqa8wJ5bgRxLKKD7cMjECsBJ+HUgt+qpejVwr9kHDfmZ2EpA6f5qMLigQA\n",
       "OMMzotnCnJn6ZDGIVWq33lEEYsV5zBVgvyAfjUV+y/1XJ3uQ4DPXiJQ7ArKvIizMyWCrZc/huWp1\n",
       "EZ9eKjsRLlYF8l0ZFvn7GHEdrI4MyxHIsQBehmprdsP0sHBCv+MLSrDIv63ed2qgCSWQYdkCRp9J\n",
       "I1Rbi+4iev9oB4sdZg+BItySP4TXhgyL/NfPOMtoFeEob10SLBIk89cCJe8zKnnWDWJl9llXAbfk\n",
       "Fb6ix2AFCMvCkfDEvvkvyH/QcR6lzcysQvPQVwVjbMF7BZvLgggLc8JEL4gV0+G3QhGIhTRvHhv2\n",
       "ReICTjEON+tenG/ZfvXUTbAFbHrz7iN7edBJKi/GE9CcLIuwaGGSWhArXYT1JxSx428EpD07uNNw\n",
       "PsCcvpcNCBo+p888wST/NzItsvkkyuGeaJeY5rVqyo8jNAcbj1sP5sdcQDDjc/rME+zJWrXaWnM/\n",
       "1g/h5k5Y6brdMOYPTGDmQJp2fy8S2wSf4N7Fac/pe1lvhI3ojU26vtZcidwK7fS3ZI5lBmVG4C4j\n",
       "c4YEt/lxK2obGFs3xFg8YnOMm+bY8wJ2GCrLzt9vmu2I8VnsxagJ/gDNZvhfKZu/JQAAAABJRU5E\n",
       "rkJggg==\n",
       "\" style=\"display:inline;vertical-align:middle;\" /></a></span><br>"
      ],
      "text/plain": [
       "ynew_len_jpk: {k in Natural, j in Natural} |- |(b_{1}, ..b_{x}.., b_{k}, a_{1}, ..a_{x}.., a_{j})| = (j + k)"
      ]
     },
     "execution_count": 72,
     "metadata": {},
     "output_type": "execute_result"
    }
   ],
   "source": [
    "ynew_len_jpk = ynew_len_kpj.inner_expr().rhs.commute()"
   ]
  },
  {
   "cell_type": "code",
   "execution_count": 73,
   "metadata": {},
   "outputs": [
    {
     "data": {
      "text/html": [
       "<span style=\"font-size:20px;\"><a class=\"ProveItLink\" href=\"../packages/proveit/numbers/addition/__pv_it/theorems/bfb51b20218eda15111bf9094481a2c5d106a87b0/expr.ipynb\"><img src=\"data:image/png;base64,iVBORw0KGgoAAAANSUhEUgAAADMAAAAPBAMAAAC7N+rPAAAAMFBMVEX////MzMxUVFSIiIjc3NyY\n",
       "mJh2dna6urqqqqpmZmYyMjIiIiIQEBBERETu7u4AAAA59f8xAAAAAXRSTlMAQObYZgAAAOFJREFU\n",
       "GNNj4LuzgQEVvPp76wFDzp8CBgauCWhSDFcZFRj4PgAZ/A3oUtoCxgwMB4CM+gdQEdbbu3eBGer3\n",
       "mAQYQNZkQ2UYL8PUqAjxrQNLrWRonQK2HSbDoMJhIASS4vvB7P4VLAC3S4UhndUAKMXxz44vACRw\n",
       "AUmK6YEiUIrzJNSqU6uAACrFp8AFdCG38mUwnwVZF4MYI1DqfYF/AVjgALIUawNQZTzD+4YEkMBk\n",
       "uJQiEKcApXQZ+AXAUtzwUFkBxJwLGBhuMDBPBvuIT7cOIiP9B6iDbwFy0LHnQgMKCgCcjDwSTSfb\n",
       "2QAAAABJRU5ErkJggg==\n",
       "\" style=\"display:inline;vertical-align:middle;\" /></a>, <a class=\"ProveItLink\" href=\"__pv_it/exprrange_reductions/9c3fd62286e7dde7f7db90b220d2dad3ca5e87350/expr.ipynb\"><img src=\"data:image/png;base64,iVBORw0KGgoAAAANSUhEUgAAADMAAAASBAMAAAAEf/uKAAAAMFBMVEX////MzMwyMjIiIiJ2dna6\n",
       "urrc3NxmZmZERESIiIhUVFSYmJju7u4QEBCqqqoAAACA8xhiAAAAAXRSTlMAQObYZgAAAN9JREFU\n",
       "GNNjYGBg4LvDgAwO/Wg6wOD7NwDE5l6AIsXQzbiAgecDAzawWGAmA8MFZBHuZmMjMGNpD5cAgwGS\n",
       "DGPnAShrmRSPDkTq5AyI7TAZhmV8E6QgUgW8G8ACcP3LGFy5J4CkuBP4H4AEGpCkuA4sBEnxMMSD\n",
       "jGK8pAQEUCmeBUwQFzqDCDZkXQwijBApdTB5AVmK+wFYJc8/sEAlXGohELuBpfj+gAWYH8Ck9ICY\n",
       "XQHEYod4nGdFDERG+C9QBw9YirkAIsTqAQ0oePgcyBdgwA7yHdpxyDBwTd+AQwYAD9YyhrRcti4A\n",
       "AAAASUVORK5CYII=\n",
       "\" style=\"display:inline;vertical-align:middle;\" /></a>, <a class=\"ProveItLink\" href=\"__pv_it/exprrange_reductions/c71ae0fb1283a31908daab923b72df1342e99a8c0/expr.ipynb\"><img src=\"data:image/png;base64,iVBORw0KGgoAAAANSUhEUgAAAGUAAAAUBAMAAABmLO6YAAAAMFBMVEX////MzMxUVFR2dna6uroQ\n",
       "EBCqqqqIiIgiIiJmZmYyMjJERETu7u6YmJjc3NwAAACgK8IjAAAAAXRSTlMAQObYZgAAAWVJREFU\n",
       "OMtjYOC7wIAD5OGSYDgNIlIPoIjxbG0AkkwPcOlZByIuoQlyTQDpXIBDC+8EZF46lOZPAJHmOPRw\n",
       "PMCmxx/s1qM49LxgwKbHAuJCB+x6KkEOL9+ApmclQ+48BgbmCWiKnfWeVxYwMOwFMjkZYlH18Hxj\n",
       "f/IX6FdwIFitAoGVIKbB7gKefwwMbUDmPYZvqHrY/tTwAKONrQHVGsaELga+jwwMIUD2AZY/UANb\n",
       "V61aBLI4EqLmA6oeHp4vDLwfIHoYmBtQ7eFQ345NDwPbBwamBRC3QaIQSc95h/egIGNpQPgHZD0D\n",
       "5wIG/gsHwGHAcD4BVc99oIgBLAyQAKsBQ/4BAwZLEDv/AKoebQZ+AaAeTgM0PUDbrXgFGDxA7Blo\n",
       "cbqNgX060BguATQ9QMWPrkHTTid6OoCAE7jTqAwozCHgDIocrjTKsI/vM/cErDI48wIwz6nPxS7D\n",
       "jTPP4c7b93CIAwDviV5w2SVEMgAAAABJRU5ErkJggg==\n",
       "\" style=\"display:inline;vertical-align:middle;\" /></a> <a class=\"ProveItLink\" href=\"__pv_it/exprrange_reductions/31086b338b576d11b533d6174f7eaf20b9f257200/proof.ipynb\" style=\"text-decoration: none\">&nbsp;&#x22A2;&nbsp;&nbsp;</a><a class=\"ProveItLink\" href=\"__pv_it/exprrange_reductions/34d86f4bb09945be87d73bff04b581094193472a0/expr.ipynb\"><img src=\"data:image/png;base64,iVBORw0KGgoAAAANSUhEUgAAAPsAAAAWBAMAAAD0hvfJAAAAMFBMVEX///9UVFQQEBCqqqoiIiJm\n",
       "ZmYyMjJERESYmJjc3NyIiIi6urp2dnbu7u7MzMwAAAADGpxCAAAAAXRSTlMAQObYZgAAAohJREFU\n",
       "SMe9lktoE0EYx/9pXptmJ+tJbA7SgwcRhBx6laYggogYsHooBdNDBRElCCL2tFD0vD0I4sW9lIBK\n",
       "CZKLoDSCFsHLIqjoZUNBBEGMFIpaI84jm5k02dkQaD+YZR7/md/M981j8R37YyGct/x7f++4cUfh\n",
       "DMaTCj4e0Y9CbhRH5E9E4lN0hosRo6RKI+I/ROLv0LQVMYpVGBFvulH400C2HTHKujcinkxG4DM0\n",
       "rGZUaF+NvPmuRuDHaVhT+VW9dxcenVdKmfm541q5Ing9CP984sGqK6rTNuBfI7+Rq4S7cNvznfFj\n",
       "QfGpk2oBX8PxQoDrNN3t4jcuM+ObvHHLpUBenaDrnvbwJ3chPALxNiwXZ4LJHEWygi+z4bPlAoB5\n",
       "dGrA6nOFU8j8E9VjNeAiyF9kw/HJMvwGCfZnso0EdV09XC4E3H4MwBOyA6Ml8YvIbunw9NivF7rt\n",
       "YxX4TR2+IwjFI95CrCyd/4tNWIO3bFzyzNK3A7zkNzANHV4ICN/O9V2xX+h407K97tbbwTtbi6/R\n",
       "cKaWXwj3+wUcpJe5Bs8FyWy5Z+up7qHz8xq82qQH7xBuguN91oN9yLaaidnpEqzDnaq0a8yYfF1d\n",
       "VW8fIfhkMmfND8I/rGHDaPJqRn3/xBaZxFkWDtZtJsicpBcemXsDbFYLQkDyayuPhVtZI1fJPlLA\n",
       "/MoPXx+edl1ZlpcuN+78E/2HLrhvq7lJRxXU1UZpUmBROSkO8+RwDlM2+h+NILOUK7qqYEptlCYF\n",
       "m0M9OWnxS5CZ/emCuH2az0HmCvJNRXDvXF5plGdajlAd6sElymVr9GvsnpKha9wlWKLptg6/toc/\n",
       "W7Fn9NUxHIWzrxZ76UQo/gN7g8wTj/sWZAAAAABJRU5ErkJggg==\n",
       "\" style=\"display:inline;vertical-align:middle;\" /></a></span>"
      ],
      "text/plain": [
       "{k in Natural, j in Natural, (j + k) = n} |- |(b_{1}, ..b_{x}.., b_{k}, a_{1}, ..a_{x}.., a_{j})| = n"
      ]
     },
     "execution_count": 73,
     "metadata": {},
     "output_type": "execute_result"
    }
   ],
   "source": [
    "jpk_eq_n.sub_right_side_into(ynew_len_jpk)"
   ]
  },
  {
   "cell_type": "code",
   "execution_count": 74,
   "metadata": {},
   "outputs": [
    {
     "name": "stdout",
     "output_type": "stream",
     "text": [
      "Expected error: Failure to apply (x_{1}, ..x_{_a}.., x_{n}, y_{1}, ..y_{_a}.., y_{n}) -> ((x_{1} * y_{1}) + ..(x_{a} * y_{a}).. + (x_{n} * y_{n})) to (a_{1}, ..a_{_a}.., a_{j}, b_{1}, ..b_{_a}.., b_{k}, b_{1}, ..b_{_a}.., b_{k}, a_{1}, ..a_{_a}.., a_{j}) assuming (j in Natural, k in Natural, (j + k) = n):\n",
      "Failed to prove operand length requirement: Unable to prove (k + j) = n assuming {j in Natural, k in Natural, (j + k) = n}:\n",
      "Unable to automatically conclude by standard means.  To try to prove this via transitive relations, try 'conclude_via_transitivity'.\n"
     ]
    }
   ],
   "source": [
    "try:\n",
    "    dot_prod_lambda.apply(*x_operands, *y_operands_new, requirements=requirements)\n",
    "    assert False, \"Expected an LambdaApplicationError error.\"\n",
    "except LambdaApplicationError as e:\n",
    "    print(\"Expected error:\", e)"
   ]
  },
  {
   "cell_type": "markdown",
   "metadata": {},
   "source": [
    "## Nested ExprRange expansions\n",
    "\n",
    "As we saw above, we may have nested **ExprRange** expressions and ranges of ranges of variables/parameters."
   ]
  },
  {
   "cell_type": "code",
   "execution_count": 75,
   "metadata": {},
   "outputs": [
    {
     "data": {
      "text/html": [
       "<strong id=\"x_11_to_mn\">x_11_to_mn:</strong> <a class=\"ProveItLink\" href=\"__pv_it/exprrange_reductions/5090be8cfaf7d5d57fcd055dcb0216e551a347cf0/expr.ipynb\"><img src=\"data:image/png;base64,iVBORw0KGgoAAAANSUhEUgAAAUAAAAAPBAMAAABnxwuUAAAAMFBMVEX///8QEBBmZmaqqqrMzMxE\n",
       "REQyMjIiIiKYmJh2dna6urrc3NxUVFSIiIju7u4AAAA6P00QAAAAAXRSTlMAQObYZgAAAiJJREFU\n",
       "SMedVD1rFEEYfmI23t6texFMkSJFsEnSbSFYBMJFsBSvsU3sbQ4CCUiiiyiK1f0BY1KliOIhCCJi\n",
       "rrCRsLIEJATukmkDLh4oKUTFmdvZmdubnb3JvcXuOzvPF7MzA0StD0chBle5vf/6Bc5d56FlRinX\n",
       "7Y3CXVjV7uimnn2Kp+FqLiKPJksvwKP0VZEU/5Ua1tUaG9yY0Ttt4iXZzUXk0GTlCMRRlNgYY4tX\n",
       "6gbEjt6J4M4ARB5Nll6AR1FqPDQKCPwdJiCnmQTkUZS6XTELaP0SCHv21oFpvi7t0eP2dPvzQAsW\n",
       "hWm7rYpwGSUncIlBwAW3g+Mk4LY/0jDLF9OeT2KKtAZYxFGY9le3KVzeeMt4n1rBH/Qglc94I0al\n",
       "n2Mdx+f6nw4xTtLzuTQnquE35hKLNF6M4ihMe+tCXbh8b0ezfipg4QF9rLOmmTzWCMrB8cEzsQAB\n",
       "tjmwO7+uNH20S6F1GSvCgk5IfEyiWjxKgEUUPOHCq/cXL2Qsft8en8CclQXU0UYqbtXpVBKBHj2x\n",
       "FUQ3gW/Ys6QL16rBWQKus76u3lCypYh3xOng/rUsoI62R9fQrtYTi6KKFVpUO8CTonSJv878Ca0r\n",
       "ePswoHtCPeuR6Bhi0Ss1ceRnAXW0V7jYcL6QxCJS70ChRbXv4eOmcOn9I/HLVp389NDTAnNp0kKd\n",
       "yNDylC/zhjfbaAPD1rw5NMPFN6TaQ+cztpAu/wEcCtb7P/tGXwAAAABJRU5ErkJggg==\n",
       "\" style=\"display:inline;vertical-align:middle;\" /></a><br>"
      ],
      "text/plain": [
       "x_11_to_mn: x_{1, 1}, ..x_{1, _b}.., x_{1, n}, ....x_{_a, 1}, ..x_{_a, _b}.., x_{_a, n}...., x_{m, 1}, ..x_{m, _b}.., x_{m, n}"
      ]
     },
     "execution_count": 75,
     "metadata": {},
     "output_type": "execute_result"
    }
   ],
   "source": [
    "x_11_to_mn = var_range(x, (one, one), (m, n))"
   ]
  },
  {
   "cell_type": "markdown",
   "metadata": {},
   "source": [
    "Consider the following two different lambda expressions mapping a range of ranges of parameters.  The first multiplies groups of sums of terms and the second is a range of ranges of terms added together. "
   ]
  },
  {
   "cell_type": "code",
   "execution_count": 76,
   "metadata": {},
   "outputs": [
    {
     "data": {
      "text/html": [
       "<strong id=\"double_nested_lambda1\">double_nested_lambda1:</strong> <a class=\"ProveItLink\" href=\"__pv_it/exprrange_reductions/d9b3cf3c21b750aac36251dd1d32bee032fc77f10/expr.ipynb\"><img src=\"data:image/png;base64,iVBORw0KGgoAAAANSUhEUgAABCMAAAAWCAMAAADNaab3AAAANlBMVEX///8oKCgNDQ3MzMxUVFR2\n",
       "dna6uroQEBCqqqqIiIgiIiJmZmYyMjJERETu7u6YmJjc3NwAAADtE0dfAAAAAXRSTlMAQObYZgAA\n",
       "BgNJREFUeNrtXOmarCoM5F5FwQX0/V/2uKGgQYKEXuZr/sQZ7aRSlBFcYIyxQbNfS2xiiDjYEH62\n",
       "70UVjz8r5nTsO8wXCfwb2Q6Qb6zqf6d4eivxAjGEn+17UbFo/Jkxp2LfYb5M4N/IdoD8zXbD7wwn\n",
       "6MoOfagh/GxFrTzV3beDEhWLxv8cFgpzKvZd12iBpyaUle3Xyti1uv2d4BSNS+SBhnDXqpKXIyRR\n",
       "745nqISM9HD5QQAvHZNcpnjZdY0UOEVC2dh+vYwd2/yGETQVuPbskCeCDeFny7RPovq5di+o0lUb\n",
       "xkvEpJdRVNth4gWenFBOtl8sY9sOze/0JhoUVp5ud68EhvCzzVMjLqiSVYvAS8Wkj1FM22FGCDw9\n",
       "oYxsv1rGlpWbgpWU5VDJtPGdXY+I/b0lWpRbftQC9zaT282G8LONrxEodLwlVm0Ib8XLYZCylc8J\n",
       "NZh5wjh7h7ltbLBKyQouy4qc57xsB9ETsO4hf7L9+mRF8YmiRrKG6LYLtb+3RItzqztPVRBOydgI\n",
       "v9joGoFDpzti1Ybwctb300/UODwm1GDWCd25w9w2dliymm9OkvOcl+0gegLWPeRPthFrjIkdPlFU\n",
       "LTEKW9XFk4cvN/5y3GhxokGNIIlg9zaeGsFkb2lvI/xiTxJVPu0qBMXWH6IhVm0AbyFWLQ5jcU0F\n",
       "qQqD2cKOnASoK8x144DFF+SgXwzP9+LKxLYP/RPWsTK2bF3tHvst1aJtj1SdPyIuwT5/ecYRVjSw\n",
       "E9OTCLfi6Lr//+ucNo7H8HAj/GJdiaqxg7V77MB12YGKL1CaejElpkSCPwjgVdNm5Z6GRypIVRjM\n",
       "xQjScdNhx2E7zHXDwBIL5rIH/YZ5DokrE9se9A9Yx8vYskeXs3GvYZXde9XTE9zjL1Mbb0s2QRIR\n",
       "NaJRp+DWDBJXI1hTeq5v9g5El1moaK5sQbxiiVh2MGKMKq414uTD25rSUyMMrPV0riXoF8Pzvbiy\n",
       "sQ2jf8L6gxpxDB2LY5xCUiN8/vI0KxpljQi49YRwgxWdYtFzDcS9NFSXVS+aaxytXXQ6anh+gFGF\n",
       "2ZEim9Ncw8Bq5sF6Nc3a1UOe73s+G9tB9GjWsTK27HZTRCgm58IhFU2N8PrTrS6kJH4xxI5mAkhZ\n",
       "FoRJQG7dXLz3LN035cjuWeK67OX3LFnNt1Exf6qKHPcsV1jriHw6nwbxiOeQuLKxHUSPZB0vY8uu\n",
       "jziqUbB+3L8fgQR3zH2OmdrlX2bD709X9fS/erj/PSoIHG0LUE7ElIRJQG7tXKa+O3rH+Qqncgsi\n",
       "8GzJ3Nr01QhwB6LLTqgAEd7R4FFtCO+wCJl3TBd4yDCTLb+55QBAB2FuG8M2oV+KNgfOJBTPt+LK\n",
       "yHYQPZZ1vIwtu+anSimVbLW+Gbg2ZpZ9zHT2rWNjPcjrb1By3t464+ryunG3D4hmAlRuh6UmAbl1\n",
       "c2GdZzjXFqGx3HpYWY9dC3zj59mB6TIA1UmEdzTAqg3hXfcPpb5e65Cq2DGDjN4pBKJg21jNerUU\n",
       "rR4e8RwQVz62g+iRrEfI2LbQy56w4ATmARR4kO2vnFio6hiXkdHmAEXtzJwpkoDc2rko7GzG+y52\n",
       "UvPUiAuqD3o72KcKg1kl3cV68C42ot2L65PZjpSxY6GPRmDBcQwGHlJDXSw1rMC7jIw2B5D9PPxi\n",
       "BWESkFs7l8RvujLViAsqFVuVLz8g+8rIp4r3fNOFawFxfTDbkTJ2bX+tVOv7E8P66o95mUJhugw+\n",
       "yPI3zHOqphIF2mVktCXAXBl1P5/rVElAbu1cIr4LNoSfbdqICuqyPF8r90SXNo8qqL4N32H2dJfi\n",
       "gLg+me04GZ/sZRGLoW3GdUgijj9ON+K81RvCZfur5vmX5JqhXUZGWwLMjxKGcn7BjCoJyK2dS//W\n",
       "NWY8XUYsMEaG904VVKUzxxoz9+LqP3+NGayMz9a/GJYgzlewNzTxCrf6U9aqE49RxePPyqT+irXq\n",
       "xNexHUV+OCXqBfrEO5aqyBRUfOayG+L7VgMRX7yAifj2xVeSE6AuYG9ZW1d/lds/CuuPQf4T2NEJ\n",
       "/APK/m9QY2tynQAAAABJRU5ErkJggg==\n",
       "\" style=\"display:inline;vertical-align:middle;\" /></a><br>"
      ],
      "text/plain": [
       "double_nested_lambda1: (x_{1, 1}, ..x_{1, _b}.., x_{1, n}, ....x_{_a, 1}, ..x_{_a, _b}.., x_{_a, n}...., x_{m, 1}, ..x_{m, _b}.., x_{m, n}) -> (((1 * 1 * x_{1, 1}) + ..(1 * j * x_{1, j}).. + (1 * n * x_{1, n})) * ..((i * 1 * x_{i, 1}) + ..(i * j * x_{i, j}).. + (i * n * x_{i, n})).. * ((m * 1 * x_{m, 1}) + ..(m * j * x_{m, j}).. + (m * n * x_{m, n})))"
      ]
     },
     "execution_count": 76,
     "metadata": {},
     "output_type": "execute_result"
    }
   ],
   "source": [
    "double_nested_lambda1 = Lambda(x_11_to_mn, Mult(\n",
    "    ExprRange(i, Add(ExprRange(j, Mult(i, j, IndexedVar(x, (i, j))), \n",
    "                               one, n)), \n",
    "              one, m)))"
   ]
  },
  {
   "cell_type": "code",
   "execution_count": 77,
   "metadata": {},
   "outputs": [
    {
     "data": {
      "text/html": [
       "<strong id=\"double_nested_lambda2\">double_nested_lambda2:</strong> <a class=\"ProveItLink\" href=\"__pv_it/exprrange_reductions/1e736a584a49a52bdb2394081a000c014151d5050/expr.ipynb\"><img src=\"data:image/png;base64,iVBORw0KGgoAAAANSUhEUgAABDMAAAAWCAMAAADqxycfAAAANlBMVEX///8oKCgNDQ3MzMxUVFR2\n",
       "dna6uroQEBCqqqqIiIgiIiJmZmYyMjJERETu7u6YmJjc3NwAAADtE0dfAAAAAXRSTlMAQObYZgAA\n",
       "BeRJREFUeNrtXOnCgygMZFdE8AB8/5ddFPHkJvT4tvyhrW0yk4wRqIIQQlKgXytsVCZ82QS8WuCT\n",
       "0KTj/ibMb+Pz3dlwUDA9n36nfHnD8cIwAa8YeFxDppWFgl9dNF4m/G/MhoPC1o/yd8YDpHCM/qoJ\n",
       "uOlpxx3V3XUAEg1Kxp0P6/WYY/iEr7KFhKtm47Xy1r0Yfic8RGtZ5BdNwHXPcYtnmySdB7LQUJZq\n",
       "4fGLAN4KEUwHnc4nfLYAEC5nlosePDlr3/+GGTCVuHMcYLcAm4DvgRcuSYp8rd7RANSMMF7oCNat\n",
       "GfHCLyZczqwAPWxyll72v9MdaLBIHOm+XhFMwI/A16gZdzTlNSMCL3QEq9aMBOGXEy5mVoAeODmq\n",
       "Z5uiOWNYEtZCpQna3lu8JZltj9pwXZ66ptcEnA25NSMKVTsA14wQXtJiKRkbWH4gb5jr1oyNzwYb\n",
       "M9S0DBPwPAAxy0bvS0uWvFU/6X9seKtC0zPUAy3XQNt7i7c0s2J0VAl6KSFbwPc+uWbEoRIjcM0I\n",
       "4W3RNKmf8FlmB/KGuW7N2PjssBlZFjvB8wDELBu9Jy158lZ9T7VpFZVWhYasppuzypucP3U89mos\n",
       "0Fy82RoAiWBae0fNQGw6aW4L+N7fJMldWuURoT29oT1wzQjgbajWnpybJ5VINdww160Zms8Bu12Z\n",
       "ZefBL7piZrnofWnJk7fqO7IbmjaKzTAcFC9vEi7RLnt1xhknb9bklZMIt+ZI2b//jJc2z8ewcQv4\n",
       "3l8lyefRrtXjQFyqdjTtiqDv1g5HlUrrLwJ4uXpJLsI9UYlUwxHBdNCZfAxsunLCU2YeQqIrYFaG\n",
       "3peWPHmr/pACmvdaRs5ZJbknvMNepTZ7SzcAiYSa0fOb89NM018zUI8d17fzgYhUndDAjDOCeOnq\n",
       "EY92xDFquGGuO84wfDRsfXp3LDsPftEVM8tH709LurxVfww5m2P4AlIzXPbqtJM3yJoRMOtwcXXW\n",
       "jBxFz00i1t6iUkVeNDc52rDKchaI56qBvH5uYmD3y+CeqEk/z8yDnw+pMzeJQe9NS4a8Vb8tplCO\n",
       "2FJIGIepGU57YhANY8A3pJy9GQeM4QaQhM3slYtzDfR6x17xGmhcql6+Boq6dhslt7lqeMcaqIat\n",
       "B/Dq9JI0Kw8h0dVaA41A705LnrxVr/9CITNF07w/92IT4jFzPSZEj4/MC7c9QTr1WSf9v49yYve2\n",
       "OcAqIBiQhM3smYvK2ZGUy9ND5FogT/9ZmSVSV82wHohI1Q2NRXO+ODhUGsIrV+G2IxJNPGRnBC0Q\n",
       "kiQRzUduCwJrcW8t9S4qD17RBZl5eRSid6clU96q17w4ZoyzQQjPgLc3s/RjQrS/Ol7oLzntSc6W\n",
       "11sSniafL3zHLN6MA3JNVCkJm9krFzQ6hnlD4xrj6cO4m8fB8oyi40BMqp5oHmNbT5ztvwjh1ccl\n",
       "Fs9rXaQaHhG8QYiTRCIf3emrKR2EzMpDQHRBZl4eZejdacmU99L3MjCx3N/QmLvhrF8628OKPelS\n",
       "TCZ6Wxw03WUGDkHCZvbMhcfOfh73jhc1R83gxUsD9e5WdqnhEcFPuXc8ovlFV86s+r3jsfJee9vD\n",
       "LnYhtjG+25BKumatZU28yURviwM2LaMy1ACSsJk9c8l8Rq1Szbij4cnF+fELsKeiXGp4RJBD3qNe\n",
       "j0+E6IqZ1UWfIG/dT8+Kpe/fkPpWJHMzB485KexfOtmTy9yrJ7SJNpnobXWwVEgxLec+FAmb2TOX\n",
       "hOedTcAniEuFNVV1nr6egC5tDjW8/Fn4Ce5SHRDd+NnoE+S99Y/NO+TQz3qoQo83t4U950XUhuds\n",
       "jyzzNNYKFG0y0dvqYPmrQuLlRjcoEjazZy7TW/bccaQKWFAIDK9PDdMX77njF930+XvuxMrb9O5N\n",
       "wigwT4re0OgrzIp37+1Hs9Gk435/BD+Sj4ub+Ma9/ezJCVOB3siQvmOrjkpO6WdtO0K/bxcU+oc3\n",
       "bvl6btkEoAvZW/YqFl9l9o/A+aOQ/z/cfAT+A53Pa2NHtOxYAAAAAElFTkSuQmCC\n",
       "\" style=\"display:inline;vertical-align:middle;\" /></a><br>"
      ],
      "text/plain": [
       "double_nested_lambda2: (x_{1, 1}, ..x_{1, _b}.., x_{1, n}, ....x_{_a, 1}, ..x_{_a, _b}.., x_{_a, n}...., x_{m, 1}, ..x_{m, _b}.., x_{m, n}) -> ((1 * 1 * x_{1, 1})+..(1 * j * x_{1, j})..+(1 * n * x_{1, n}) + ....(i * 1 * x_{i, 1})+..(i * j * x_{i, j})..+(i * n * x_{i, n}).... + (m * 1 * x_{m, 1})+..(m * j * x_{m, j})..+(m * n * x_{m, n}))"
      ]
     },
     "execution_count": 77,
     "metadata": {},
     "output_type": "execute_result"
    }
   ],
   "source": [
    "double_nested_lambda2 = Lambda(x_11_to_mn, Add(\n",
    "    ExprRange(i, ExprRange(j, Mult(i, j, IndexedVar(x, (i, j))), \n",
    "                           one, n), \n",
    "              one, m)))"
   ]
  },
  {
   "cell_type": "markdown",
   "metadata": {},
   "source": [
    "First, let's consider a simple example in which we assume that $m=2$ and $n=2$ and apply `double_nested_lambda` to $(a, b, c, d)$."
   ]
  },
  {
   "cell_type": "code",
   "execution_count": 78,
   "metadata": {},
   "outputs": [
    {
     "data": {
      "text/html": [
       "<strong id=\"abcd\">abcd:</strong> <a class=\"ProveItLink\" href=\"__pv_it/exprrange_reductions/66f6176f0332722b3d4211e9f28781808018cbc30/expr.ipynb\"><img src=\"data:image/png;base64,iVBORw0KGgoAAAANSUhEUgAAAFAAAAAUBAMAAADo9qfkAAAAMFBMVEX///9UVFTMzMx2dna6uroQ\n",
       "EBCqqqqIiIgiIiJmZmYyMjJERETu7u6YmJjc3NwAAAC+aOQFAAAAAXRSTlMAQObYZgAAAXJJREFU\n",
       "KM+Nkz9Iw0AUxr9QW5omaboVHCS7YAsOtYPQRXCrg4v4h4wOokGE4lYRnBwKBQsuVnGWLOKkxsFB\n",
       "HZJRBCFudROUDpLBd3eJpJCgGZIf77377nt3L0DRw59PzqfXUyygXrYTyiaXMEGfi3is0EkSHOIR\n",
       "0EZSuplQNxYgYyHvx2NNJ6Ew04a6gMFIbCZpZ+bnHLtExW5vRcROW0dhttYyBLzXKuSnjmviOb/w\n",
       "Ibr+dlxhZWAqfWFwDbfk5wUHlF6FbIvzCqBbnPYhib7uPRzTZx2LgBwgL9JyH26VQxAZPHFoEVBh\n",
       "hVkbrhHZbnKhrB0VLkP94oW0NYlshcfoMQUg1GWuP5Fj/udZM66JcX6b0BvkN1wBLq0OIfU3WTN1\n",
       "QLG0vQxc6lLylA4HuYQHgwGu8Fwi+S5pQi1vv+0gf0jUmwUHTL9aAu5aU+UGcBa7wo10gNqODUU1\n",
       "HdhQ4CZaZKUC2Jj9Dq6GVBBq//kVNB8/Nstga3eXBjQAAAAASUVORK5CYII=\n",
       "\" style=\"display:inline;vertical-align:middle;\" /></a><br>"
      ],
      "text/plain": [
       "abcd: (a, b, c, d)"
      ]
     },
     "execution_count": 78,
     "metadata": {},
     "output_type": "execute_result"
    }
   ],
   "source": [
    "abcd = ExprTuple(a, b, c, d)"
   ]
  },
  {
   "cell_type": "markdown",
   "metadata": {},
   "source": [
    "We'll make some assumptions and prove a few things to meet the requirements."
   ]
  },
  {
   "cell_type": "code",
   "execution_count": 79,
   "metadata": {},
   "outputs": [
    {
     "data": {
      "text/html": [
       "<strong id=\"defaults.assumptions\">defaults.assumptions:</strong> <a class=\"ProveItLink\" href=\"__pv_it/exprrange_reductions/f5a4e0dc558e7e7587ee3b87f5f42ddde68b75f80/expr.ipynb\"><img src=\"data:image/png;base64,iVBORw0KGgoAAAANSUhEUgAAAH8AAAAUBAMAAABWoP+5AAAAMFBMVEX////MzMxUVFR2dna6uroQ\n",
       "EBCqqqqIiIgiIiJmZmYyMjJERETu7u6YmJjc3NwAAACgK8IjAAAAAXRSTlMAQObYZgAAAcRJREFU\n",
       "OMullL9LHEEUxz/e3i/PdTkQUl8ZAolLLESbLKSxU4iC5bXXJIdNsAlLhCA2HjaipliSKhb+qCwO\n",
       "ZRFEQ4qL/4DZLlZ64Q4Sgsk6M3so7u7tgb5iZtjvvO9777vzHhjfube9lsu3eOzrxm6ir75WL5Ly\n",
       "xGkrHi/xwkoiOERrozswWIvF+10yU0kEH2EGRiHvxeIZm9T/JIJZGPY4gvN4vHBF6lcSwbbLcJGC\n",
       "xTykn1+8XY1eyV+p7eWzn3PVobkYQZZdtBr7oA3s0ZCVaJvKOqpMmmoz61X9t5VVgowr/EuAp1tC\n",
       "QYcP8CjvcFmMBHiv1r7yEkaLwWY0wxJkbabBbVj8iP6HIBFdb5MVguxELqxJ+qYk4A08ieDznT3b\n",
       "pN8mUw3juVpAIEpgHf7ptxqUlF+NiyATh7zJpOfeaPBJfa9geKRtKSKvRJJaKMAQvAtehIkocd0o\n",
       "38X7THKeFHEMjDaac3oXNxZGVmz9rzhdWrLEz+EA5yNjj0V6JhPIPIynoQAF3/dtFkXeE0qOyln4\n",
       "Ifn+H3Gt2O0pdwR0e/TzSddmCkzrNRBEM3GQgB/38Jft3G2gKOs1rAZk/Q8ZaULZa4Jqee4mL4Mv\n",
       "AAAAAElFTkSuQmCC\n",
       "\" style=\"display:inline;vertical-align:middle;\" /></a><br>"
      ],
      "text/plain": [
       "defaults.assumptions: (n = 2, m = 2)"
      ]
     },
     "execution_count": 79,
     "metadata": {},
     "output_type": "execute_result"
    }
   ],
   "source": [
    "from proveit.numbers import two\n",
    "defaults.assumptions = [Equals(n, two), Equals(m, two)]"
   ]
  },
  {
   "cell_type": "code",
   "execution_count": 80,
   "metadata": {},
   "outputs": [
    {
     "data": {
      "text/html": [
       "<span style=\"font-size:20px;\"><a class=\"ProveItLink\" href=\"__pv_it/exprrange_reductions/811d20cd969afdccd9ce830eefadd739c9a759bf0/expr.ipynb\"><img src=\"data:image/png;base64,iVBORw0KGgoAAAANSUhEUgAAADcAAAAOBAMAAAB5gJkQAAAAMFBMVEX///9mZmaYmJgyMjIiIiIQ\n",
       "EBCqqqru7u5ERETMzMyIiIjc3NxUVFR2dna6uroAAAAPJcEmAAAAAXRSTlMAQObYZgAAALhJREFU\n",
       "GNNjYMAO2AU7JjDgAjUMvP9wSoozMITilAxhYDi/AZekfQHD+QkMfHd2rzrFeescprx/AQMvRxdD\n",
       "/TqGVBCX1xgMBMByfH8ZGKaxGDDsv8Cgj6GR5QADQ0H9A4b8AoYTGJKCICKfgUGEgSEKXY4LbLgw\n",
       "A4MvA99vdoSdB0DCiQzcQK/EMrD/Y2A02IaqkfMCA9cGBu5/DGwfGJgvXECV3HL34hGgix1AxrMJ\n",
       "oQWH/f//XxgAbmgsc08PO5UAAAAASUVORK5CYII=\n",
       "\" style=\"display:inline;vertical-align:middle;\" /></a>, <a class=\"ProveItLink\" href=\"__pv_it/exprrange_reductions/a734ef2843a4000639b2dd786b883fd7f2aa0b240/expr.ipynb\"><img src=\"data:image/png;base64,iVBORw0KGgoAAAANSUhEUgAAADMAAAAOBAMAAABwazlqAAAAMFBMVEX///8QEBCYmJgyMjIiIiKq\n",
       "qqrMzMzu7u5ERERmZmaIiIjc3NxUVFR2dna6uroAAABXsXCEAAAAAXRSTlMAQObYZgAAAKBJREFU\n",
       "GNNjYMAG2Gd2JDBgBzUMvP9wSE1nYBDEISXCwHB+A3Yp+wKG8wkMfHd2r5qFRda/gIGXo4uhHqz5\n",
       "sjEIWEJk+P4yMKSyGDDsx3QpywEGhoL6Bwz6mObNBBHxDAyHMWS4JoDIyQwMn9gRdtmApSIZuIH2\n",
       "yzKwfudF08R2gYFrAwP3PwZeAzU0qS13bx4ButKBgftQALqX////wgAA8/InHpvEjEAAAAAASUVO\n",
       "RK5CYII=\n",
       "\" style=\"display:inline;vertical-align:middle;\" /></a> <a class=\"ProveItLink\" href=\"__pv_it/exprrange_reductions/afe18956435204e97b8ab367cbab23e9c2885d9d0/proof.ipynb\" style=\"text-decoration: none\">&nbsp;&#x22A2;&nbsp;&nbsp;</a><a class=\"ProveItLink\" href=\"__pv_it/exprrange_reductions/fc01475efe1fa7db7680b10b6ff1491b7f6905d80/expr.ipynb\"><img src=\"data:image/png;base64,iVBORw0KGgoAAAANSUhEUgAAAh0AAAAVBAMAAAAQgkGQAAAAMFBMVEX///9UVFQQEBCqqqoiIiJm\n",
       "ZmYyMjJERESYmJjc3NyIiIi6urp2dnbu7u7MzMwAAAADGpxCAAAAAXRSTlMAQObYZgAABFxJREFU\n",
       "WMPVWE1oE0EUfvnftNm0eFCqgh7FHyzixYM0RREKChFFRArGQwUpiHjRegpIxZwasYfqpbn00kIM\n",
       "4lFwC1YkeliLVvCSgOfSgFAopeLMm93szOzObsbiwQcb3s68772ZL2/ezgysg56sRzb8x5K34RMq\n",
       "cz0Yn8HfT3Kz52AuGKGUOdAECJItBzQmqvoYjMqAuQabjnmP6zbvFwKYu1+MVdV8UAeCE5RY6Oj8\n",
       "9hEAUb4Htg79BQajDvF8pIVxpIsBoIFhs6TmgzqgT+JE958iGkOoRLRnFJV65+OOr+WUDbCmielG\n",
       "XeP5mJamHgB6Z0NTzcc0e74s7zitTGuGDU6wd6TZMx2G/KeZBw8RPnI1HQwXFYEuH2Py1P3yHmBV\n",
       "zceY8xjd+aG2GjYj0Z7Jas98JP1La4aM2zysh+lGRaDDR7YgT90vEyTBGyo+qAN0IvGBCFVtKwTw\n",
       "EQYQZRYC+YBJPYwXddLjo4/mUXb8hrOYby1ecRNpsc3GPl7/RayLKj6oA3Qi8ZErqgcn2r8derlQ\n",
       "CweIsgDQv/xicX++eUDgY0UHw0dd8fjI0M/Q62q6wxbipt1iiTU7nGEF7nU1QwZulFw+crdRii4f\n",
       "1AE6kfgwQuqjaG89qJlb4QBRHpJRZB5BawlOCXw80cHwUZ94fCRJATWPQIp9ABM7MMCq0kWIYWml\n",
       "fQSSKKjygzqgj8xHohCymHn7/PAFyP4OB4hyDuBnsgTzFswIfJzWwAhRT3t8xMn6Se1AkrFApt6y\n",
       "UHEnR/tIS76j4oM6oI/MR76jHpxgb5rbYHTCAaIcA7BbDRixYZ/Ax4YGRoi6IfIRvwettrv9eIdp\n",
       "EXc3TLSv8U/5gEQHYiVNPmAE4CrAUR0+RAwfdUNcLyQlRpztRxlu4heXZQl0+/oLUv0YjFov/b2u\n",
       "F5qUA2U7FODLfbhGl3T/lsnz8UYHw0d9I9bT1jDsZZv4gQapFw4xgIni9Hn1VM6P3dfTOKHctvTq\n",
       "KRwHkvCp0nONeipi+KhcPaXfm0zNGM1Bi/TEypkiKqlB+NamCuuDlKXigzrAj1YfmV8L50Q1hqDv\n",
       "5iav4I9oP9+AD0YbAZ6JgJTeyOcxu00TPm1Z2ArwivIxrgb7MVxUBDp80Hwx99efLUHyEtFufARU\n",
       "4PPTGmvBPki3VXxQB/RJ7dm8zqCoMQS+j1Jl0FHgvC3bk2x99tgB0F4RgIr35gCIB7KJSVyvMsTl\n",
       "kxMk5e66/iVwIIaPejdwv35WrcDX6P16EIJ77x727GB7BkjYEWvlrLz39hBmQeEhBINREeg/z1lq\n",
       "pYfzXCCCe3clB8H2DJCLqh2WfDbzEOw8l9PC+M9zGZc4s6ZUIOy8Tx24TmSE6T9y/uCDcv0M8COC\n",
       "DgaYkv2hrEGwhzCM/7zfvZoxQKk444++D5IRhn9GZT4o188A5aijvu9ux0NMQbCHMAxGnXL4qPd8\n",
       "X1jB37rcXFffF1Z07wsru70vNP7mvrDSBfa1/wB6qtLmWCWUhAAAAABJRU5ErkJggg==\n",
       "\" style=\"display:inline;vertical-align:middle;\" /></a></span>"
      ],
      "text/plain": [
       "{m = 2, n = 2} |- |(a, b, c, d)| = |((1, 1), ..(1, x).., (1, n), ....(k, 1), ..(k, x).., (k, n)...., (m, 1), ..(m, x).., (m, n))|"
      ]
     },
     "execution_count": 80,
     "metadata": {},
     "output_type": "execute_result"
    }
   ],
   "source": [
    "from proveit import extract_var_tuple_indices\n",
    "Equals(Len(abcd), Len(extract_var_tuple_indices(ExprTuple(x_11_to_mn)))).prove()"
   ]
  },
  {
   "cell_type": "code",
   "execution_count": 81,
   "metadata": {},
   "outputs": [
    {
     "data": {
      "text/html": [
       "<strong id=\"eq\">eq:</strong> <span style=\"font-size:20px;\"> <a class=\"ProveItLink\" href=\"../packages/proveit/numbers/numerals/decimals/_theory_nbs_/proofs/count_to_2_range/thm_proof.ipynb\" style=\"text-decoration: none\">&nbsp;&#x22A2;&nbsp;&nbsp;</a><a class=\"ProveItLink\" href=\"../packages/proveit/numbers/numerals/decimals/__pv_it/theorems/123086663d984c1adb779b4da88ed81633729a300/expr.ipynb\"><img src=\"data:image/png;base64,iVBORw0KGgoAAAANSUhEUgAAAJkAAAAUBAMAAABsXIKPAAAAMFBMVEX////MzMxUVFR2dna6uroQ\n",
       "EBCqqqqIiIgiIiJmZmYyMjJERETu7u6YmJjc3NwAAACgK8IjAAAAAXRSTlMAQObYZgAAAbtJREFU\n",
       "OMudlL9Lw0AUx79t+ttUCv4BFlycbKGDdLKjmx0quDkJCiKuXTQoFAfBUKeiQwUXHRRnqQRB/NHB\n",
       "zg6asZMoOogU490lHLnLYdQvXHgcn7y79969Bwz3ICphI6AApNAK/XT9O7d7Z8BEkOz+7EhvnecQ\n",
       "pbc4IWvB8nbzmKrgLoj7IYUuob1DbwNZE/pYwQPTFuJVaKsyLUAK7QOzwCSQovd78sC4gegX9KpM\n",
       "C5BCc0DBxhXQhw/MDBB9BQ5lWoAUOrVQyCFTQV0CUwOgLNP1EG9EOxY0Ex0JnCkCD9TQjplMandC\n",
       "vcXeSHbbaEjgBlmLMtsI9ZbKk4dqoCaCaXqXUZmthXprkRV5kUGWob97S5quNzGIhIlnYNqXt/yv\n",
       "Il3CsI2YISV4BFjzquBXWBUiRSRtWgX2GtYt6J+0uTdLTQPYlWkBYp/7ts9Av1QeJzkvsqia80c9\n",
       "bJGjM47jEG8HsjcBYmWnNXSNbfp6HeeD/J1zm4aljAeiG8rOEiGuZW7dsIZ2pfFdZdfLEFeRW6Tr\n",
       "ceHZ13xXMZGCEA+EH00nEh+EvcCvimkZHMFZbg3ZqiGd/eckfwS+ARMVl4jx7layAAAAAElFTkSu\n",
       "QmCC\n",
       "\" style=\"display:inline;vertical-align:middle;\" /></a></span><br>"
      ],
      "text/plain": [
       "eq: |- (1, 2) = (1, ..k.., 2)"
      ]
     },
     "execution_count": 81,
     "metadata": {},
     "output_type": "execute_result"
    }
   ],
   "source": [
    "eq = Equals(ExprTuple(one, two), ExprTuple(ExprRange(k, k, one, two))).prove()"
   ]
  },
  {
   "cell_type": "code",
   "execution_count": 82,
   "metadata": {},
   "outputs": [
    {
     "data": {
      "text/html": [
       "<span style=\"font-size:20px;\"><a class=\"ProveItLink\" href=\"__pv_it/exprrange_reductions/a734ef2843a4000639b2dd786b883fd7f2aa0b240/expr.ipynb\"><img src=\"data:image/png;base64,iVBORw0KGgoAAAANSUhEUgAAADMAAAAOBAMAAABwazlqAAAAMFBMVEX///8QEBCYmJgyMjIiIiKq\n",
       "qqrMzMzu7u5ERERmZmaIiIjc3NxUVFR2dna6uroAAABXsXCEAAAAAXRSTlMAQObYZgAAAKBJREFU\n",
       "GNNjYMAG2Gd2JDBgBzUMvP9wSE1nYBDEISXCwHB+A3Yp+wKG8wkMfHd2r5qFRda/gIGXo4uhHqz5\n",
       "sjEIWEJk+P4yMKSyGDDsx3QpywEGhoL6Bwz6mObNBBHxDAyHMWS4JoDIyQwMn9gRdtmApSIZuIH2\n",
       "yzKwfudF08R2gYFrAwP3PwZeAzU0qS13bx4ButKBgftQALqX////wgAA8/InHpvEjEAAAAAASUVO\n",
       "RK5CYII=\n",
       "\" style=\"display:inline;vertical-align:middle;\" /></a> <a class=\"ProveItLink\" href=\"__pv_it/exprrange_reductions/a92d0ab808465b7b2bc7288e6404652b5500893d0/proof.ipynb\" style=\"text-decoration: none\">&nbsp;&#x22A2;&nbsp;&nbsp;</a><a class=\"ProveItLink\" href=\"__pv_it/exprrange_reductions/a527a91641af6b051e49a79373cc605e7ec027480/expr.ipynb\"><img src=\"data:image/png;base64,iVBORw0KGgoAAAANSUhEUgAAAJsAAAAUBAMAAABoqVKyAAAAMFBMVEX////MzMxUVFR2dna6uroQ\n",
       "EBCqqqqIiIgiIiJmZmYyMjJERETu7u6YmJjc3NwAAACgK8IjAAAAAXRSTlMAQObYZgAAAblJREFU\n",
       "OMudlL1Lw0AYxh8TG5p6qQX/AAvuNeAgulhwcbNDd10EB9GuXTQoFBGHUkeXCC46CM5SySJ+dDCT\n",
       "g4MWF520gpOU1sslprlL+qEP5Hi5/PLk3vfuXiBpg5dSR0ghKErrzlALztwengOZMFkbwA2Ss44z\n",
       "+qxY7gRJYy6LuzAZhLqKmIBWBpmY9EjVQiwHuSCCHNRd00DcWeGzR8YMSC2QnMhxUHddAW8IkIkm\n",
       "pE/gWOQ4qLsSWRQFMt4EZkSu2MduPvNapBWSy6gK5KIOPDqBfMpUduJqHzv9okBatMQmSgK5TZ9V\n",
       "ES/1thta3kOSFkkxkOdJ1VnNuMjne9sR8gWtQW0bIsmq9Fc7KA1IJrPj81DKeAcWArVLD5AsVBOj\n",
       "toVhQ6jyGLDpbUVQ/bYipmPD0p2tYIdiywL5dm76zlTFAA5EnIPYcG8GAnxkMauloOosscrSiY1d\n",
       "+vNEu92mdkeiHQexzY+nf4N99/3LA/085d4fVjY/F2JEXjIe8rXWCW/Y7XYl+7ORLUCEOkeYawG4\n",
       "9OJrfzaiQYUhP5UC16D8zmiHvo1on+GmrHXCkXpU39b+29yfgB8DNJa+K4uGqQAAAABJRU5ErkJg\n",
       "gg==\n",
       "\" style=\"display:inline;vertical-align:middle;\" /></a></span>"
      ],
      "text/plain": [
       "{n = 2} |- (1, 2) = (1, ..k.., n)"
      ]
     },
     "execution_count": 82,
     "metadata": {},
     "output_type": "execute_result"
    }
   ],
   "source": [
    "Equals(n, two).sub_left_side_into(eq.inner_expr().rhs[0].end_index)"
   ]
  },
  {
   "cell_type": "code",
   "execution_count": 83,
   "metadata": {},
   "outputs": [
    {
     "data": {
      "text/html": [
       "<span style=\"font-size:20px;\"><a class=\"ProveItLink\" href=\"__pv_it/exprrange_reductions/811d20cd969afdccd9ce830eefadd739c9a759bf0/expr.ipynb\"><img src=\"data:image/png;base64,iVBORw0KGgoAAAANSUhEUgAAADcAAAAOBAMAAAB5gJkQAAAAMFBMVEX///9mZmaYmJgyMjIiIiIQ\n",
       "EBCqqqru7u5ERETMzMyIiIjc3NxUVFR2dna6uroAAAAPJcEmAAAAAXRSTlMAQObYZgAAALhJREFU\n",
       "GNNjYMAO2AU7JjDgAjUMvP9wSoozMITilAxhYDi/AZekfQHD+QkMfHd2rzrFeescprx/AQMvRxdD\n",
       "/TqGVBCX1xgMBMByfH8ZGKaxGDDsv8Cgj6GR5QADQ0H9A4b8AoYTGJKCICKfgUGEgSEKXY4LbLgw\n",
       "A4MvA99vdoSdB0DCiQzcQK/EMrD/Y2A02IaqkfMCA9cGBu5/DGwfGJgvXECV3HL34hGgix1AxrMJ\n",
       "oQWH/f//XxgAbmgsc08PO5UAAAAASUVORK5CYII=\n",
       "\" style=\"display:inline;vertical-align:middle;\" /></a> <a class=\"ProveItLink\" href=\"__pv_it/exprrange_reductions/248fee286b134be33b700f5eb1eaa71a4a554fde0/proof.ipynb\" style=\"text-decoration: none\">&nbsp;&#x22A2;&nbsp;&nbsp;</a><a class=\"ProveItLink\" href=\"__pv_it/exprrange_reductions/86189eed7db29dca5e87b4828d2783fca7d00a530/expr.ipynb\"><img src=\"data:image/png;base64,iVBORw0KGgoAAAANSUhEUgAAAKEAAAAUBAMAAAAXeEBDAAAAMFBMVEX////MzMxUVFR2dna6uroQ\n",
       "EBCqqqqIiIgiIiJmZmYyMjJERETu7u6YmJjc3NwAAACgK8IjAAAAAXRSTlMAQObYZgAAActJREFU\n",
       "OMullbFLw0AUxj8bG9J6LUL/AAvuNeAgTgZcurVDd7sIumjo1kWDQhGnUDddKrroIDpLpYtU7dDO\n",
       "DtpNJ60oCFKsl2tIc5eYVvwg4fr43ce79y6vQLwFXnIbHnmgX7RmvRruyO3BBZDyko3RDBGysjmj\n",
       "z3KtHyBJLGi485JuKEikAsRMkOkZG47UEM5C0kWQgwI1ByhWno82HDYQ+gbJihwHBeoaeIYLjnYR\n",
       "egOORY6DAhXVUBRgpQvMi1xxiONi6qmgJwoaIJmoCnBGBe6thXTKZFrr6hBH9VInn5pMqxWroCTA\n",
       "W/RZEXeUgh3H8ruIvyPWoZfZQI6HI1ZOU+KWXLAjIR+QaQvOqXlHhFnF/uoIuYOIgbDOHPkDySZe\n",
       "gLSrjskRTo1IBYqKTLuGcUMoegLYsDvj1rDOhFU0NezH81Zn2E3ZrIF8WQNhe7ZsAHviDg5ir2YF\n",
       "rl+vGtaBI4lmq7ITlpdOWtihKUR7vR51PBQdOYhdByVpL1gozRqw+kAdJvsfGCuhcyhi+H6FPDTo\n",
       "Che6YUOgL8mJ+k4KERrQ4qTAlb2uO1GfaeaFHNXFaeYM05Znu8/E9RnlXGii7TfwY//4V6C9+QH7\n",
       "TZ2pf5nv8AAAAABJRU5ErkJggg==\n",
       "\" style=\"display:inline;vertical-align:middle;\" /></a></span>"
      ],
      "text/plain": [
       "{m = 2} |- (1, 2) = (1, ..k.., m)"
      ]
     },
     "execution_count": 83,
     "metadata": {},
     "output_type": "execute_result"
    }
   ],
   "source": [
    "Equals(m, two).sub_left_side_into(eq.inner_expr().rhs[0].end_index)"
   ]
  },
  {
   "cell_type": "markdown",
   "metadata": {},
   "source": [
    "Now we will apply `double_nested_lambda1` to $(a, b, c, d)$ and demonstrate the expansion of nested **ExprRanges**."
   ]
  },
  {
   "cell_type": "code",
   "execution_count": 84,
   "metadata": {},
   "outputs": [
    {
     "data": {
      "text/html": [
       "<a class=\"ProveItLink\" href=\"__pv_it/exprrange_reductions/0c06b3e0f9805e771d5613ae0f3fb4b134f8d2150/expr.ipynb\"><img src=\"data:image/png;base64,iVBORw0KGgoAAAANSUhEUgAAAfMAAAAVBAMAAACgSxpTAAAAMFBMVEX////MzMxUVFR2dna6uroQ\n",
       "EBCqqqqIiIgiIiJmZmYyMjJERETu7u6YmJjc3NwAAACgK8IjAAAAAXRSTlMAQObYZgAABLhJREFU\n",
       "WMPFmE9oVEccx3+b3WRfkrfbheJBe0hAxNJDstSDbCl1xYM5WQ9RShHcS9XSYpf2IAGpS9pG6KEu\n",
       "ejFYIUoR3YN/jqLRhyLaKjTHKlT34CEibWMrbZHg68z85s3Mb97se7vpwYFv8ubt/r6/3+e9tzNv\n",
       "BqC4AEJdt/3xU7/1ED7QRtHoXh2s1jOAgLgr1XXri2X2L9L+jycuJcSPSZnRTP7slVKXFYzFztyl\n",
       "SZO9OICAOC/1UWB8Sjo26Jx9ZojfyF36C6Owqdo5/icpM5rpBmSfG3d2FyQ70HaeJqVeLgCuQlPI\n",
       "XzuuaUkn3jZG5dXlwX2W7O1l9flgAP3bO4dn6yjQ0VzfA+xQ50w7t4Noe+V/BkCSEi83AJPXRsEj\n",
       "k/ZREvotG/07nl3X2t+AvpcJF307Coxopg8AxvVPqZCErqIjdAZAklIvJwDTIqB6QB+qUvRig9Y6\n",
       "tAx9zxLif5DS0VwXAhgvdYeuoiP0RSsp9XICME2xw6kkdP/A2NaN9HlrUvR8M1arp3u3P3/8RZ3E\n",
       "V6R0dB4djwROdLeDiT5lJzW93ABM8+xwPgn9JvxS/xbgDdHJ8LG8MEfRhxdi6O+XVeJy4bA3h4GQ\n",
       "PcF+hfBASkcLB8j9BS506VC5LGoSdTyw0OetpMQLATA1unAAphnWn9G0vokuOu/CpmAbrD4uyGf5\n",
       "sz3QoOheTdcqL9m0Cs8G2eVcGwPhPXiL/d0nhV/g0cIBvFHtYNihQ7bdx6841rHPQp+xkhIvBMDU\n",
       "6MIBmCbZiUlN+/McWJ0ArvDjCbyYnCCzxE1arbMftlo8Q39V1eq/wDG+qcJ9GL4YBbLRbISNPiOA\n",
       "wi/waOEAs4aDYYcOXjvzUtUhot9ptb5ptU5DBGAkJV4IgKnRhQMwWeh4tWjnHxe6cdcNdLzy0W8P\n",
       "w1+rK/Sv4Y+qge6NmujyBz9t3vVp5eBVi88punHXJ+2kxEsAYGp0kejWA+8Y4TPPLPRcwgOPHzTh\n",
       "d90bKRkxnwVoNaFHxOiB/xiKHSY34QADy6qOCccDT5ISLwQQqdGFF8OUOsx9ml+CgwQ9dZh7HeBL\n",
       "dRmCQ5APFPrhjsNcpgx5J7p0AK+uqF3DnJmUeEkAkRpd5DCnZppDJrru5P4eXuKLAwN9sEzRxWSX\n",
       "17UWv9pwtKHG+tp1vjaR6OKrx6TITAOLGypv6gIMO+kgZzRRxzELvWIlNb0iADklVyQAU/T0Hd19\n",
       "Tq9+jI6//uDUr/SBHypRdH5ycN2Lk+qNIQxDVcWNA7dPLih0/tIKp6R0NNeFMPxXvwsbdtKh0NTo\n",
       "pyz0CSup6RUB3I9eeRGASb3IpjQD/Y7rRTalIXqunCuBzw79RuxFNq1tgc1RHSraeJFNLYCnli53\n",
       "EEIuX1Ibm0qfBjilR69GfmAsQNLW2A0oXoU1ez4JOi1fUlrmzJ6rzEFM6Sr6nl6+pDWe+mnAXdTy\n",
       "Ba5JJbcnR9bDqlrx+J91x6J1OPWi88DMTtgdhvFFK49Od+gPwyXmwOtwLFrTAXjqVTXuohatvWxV\n",
       "1DqA2lsVne68LvNafKuiR4fYVkVvAAKi+w0quTH0cKUbVLizVWijVrJBpR1WtEFlADyEnloB/l9b\n",
       "AHi1DhTgPxpw31wjBBH5AAAAAElFTkSuQmCC\n",
       "\" style=\"display:inline;vertical-align:middle;\" /></a>"
      ],
      "text/plain": [
       "((1 * 1 * x_{1, 1}) + (1 * 2 * x_{1, 2})) * ((2 * 1 * x_{2, 1}) + (2 * 2 * x_{2, 2}))"
      ]
     },
     "execution_count": 84,
     "metadata": {},
     "output_type": "execute_result"
    }
   ],
   "source": [
    "requirements=[]\n",
    "double_nested_lambda1.apply(*abcd.entries, requirements=requirements)"
   ]
  },
  {
   "cell_type": "markdown",
   "metadata": {},
   "source": [
    "Note in the requirements below that we need indices to match, (1,2)=(1,…,𝑛)\n",
    "and (1,2)=(1,…,𝑚) in order to perform this parameter-dependent expansion."
   ]
  },
  {
   "cell_type": "code",
   "execution_count": 85,
   "metadata": {},
   "outputs": [
    {
     "data": {
      "text/html": [
       "<span style=\"font-size:20px;\"><a class=\"ProveItLink\" href=\"__pv_it/exprrange_reductions/811d20cd969afdccd9ce830eefadd739c9a759bf0/expr.ipynb\"><img src=\"data:image/png;base64,iVBORw0KGgoAAAANSUhEUgAAADcAAAAOBAMAAAB5gJkQAAAAMFBMVEX///9mZmaYmJgyMjIiIiIQ\n",
       "EBCqqqru7u5ERETMzMyIiIjc3NxUVFR2dna6uroAAAAPJcEmAAAAAXRSTlMAQObYZgAAALhJREFU\n",
       "GNNjYMAO2AU7JjDgAjUMvP9wSoozMITilAxhYDi/AZekfQHD+QkMfHd2rzrFeescprx/AQMvRxdD\n",
       "/TqGVBCX1xgMBMByfH8ZGKaxGDDsv8Cgj6GR5QADQ0H9A4b8AoYTGJKCICKfgUGEgSEKXY4LbLgw\n",
       "A4MvA99vdoSdB0DCiQzcQK/EMrD/Y2A02IaqkfMCA9cGBu5/DGwfGJgvXECV3HL34hGgix1AxrMJ\n",
       "oQWH/f//XxgAbmgsc08PO5UAAAAASUVORK5CYII=\n",
       "\" style=\"display:inline;vertical-align:middle;\" /></a>, <a class=\"ProveItLink\" href=\"__pv_it/exprrange_reductions/a734ef2843a4000639b2dd786b883fd7f2aa0b240/expr.ipynb\"><img src=\"data:image/png;base64,iVBORw0KGgoAAAANSUhEUgAAADMAAAAOBAMAAABwazlqAAAAMFBMVEX///8QEBCYmJgyMjIiIiKq\n",
       "qqrMzMzu7u5ERERmZmaIiIjc3NxUVFR2dna6uroAAABXsXCEAAAAAXRSTlMAQObYZgAAAKBJREFU\n",
       "GNNjYMAG2Gd2JDBgBzUMvP9wSE1nYBDEISXCwHB+A3Yp+wKG8wkMfHd2r5qFRda/gIGXo4uhHqz5\n",
       "sjEIWEJk+P4yMKSyGDDsx3QpywEGhoL6Bwz6mObNBBHxDAyHMWS4JoDIyQwMn9gRdtmApSIZuIH2\n",
       "yzKwfudF08R2gYFrAwP3PwZeAzU0qS13bx4ButKBgftQALqX////wgAA8/InHpvEjEAAAAAASUVO\n",
       "RK5CYII=\n",
       "\" style=\"display:inline;vertical-align:middle;\" /></a> <a class=\"ProveItLink\" href=\"__pv_it/exprrange_reductions/afe18956435204e97b8ab367cbab23e9c2885d9d0/proof.ipynb\" style=\"text-decoration: none\">&nbsp;&#x22A2;&nbsp;&nbsp;</a><a class=\"ProveItLink\" href=\"__pv_it/exprrange_reductions/fc01475efe1fa7db7680b10b6ff1491b7f6905d80/expr.ipynb\"><img src=\"data:image/png;base64,iVBORw0KGgoAAAANSUhEUgAAAh0AAAAVBAMAAAAQgkGQAAAAMFBMVEX///9UVFQQEBCqqqoiIiJm\n",
       "ZmYyMjJERESYmJjc3NyIiIi6urp2dnbu7u7MzMwAAAADGpxCAAAAAXRSTlMAQObYZgAABFxJREFU\n",
       "WMPVWE1oE0EUfvnftNm0eFCqgh7FHyzixYM0RREKChFFRArGQwUpiHjRegpIxZwasYfqpbn00kIM\n",
       "4lFwC1YkeliLVvCSgOfSgFAopeLMm93szOzObsbiwQcb3s68772ZL2/ezgysg56sRzb8x5K34RMq\n",
       "cz0Yn8HfT3Kz52AuGKGUOdAECJItBzQmqvoYjMqAuQabjnmP6zbvFwKYu1+MVdV8UAeCE5RY6Oj8\n",
       "9hEAUb4Htg79BQajDvF8pIVxpIsBoIFhs6TmgzqgT+JE958iGkOoRLRnFJV65+OOr+WUDbCmielG\n",
       "XeP5mJamHgB6Z0NTzcc0e74s7zitTGuGDU6wd6TZMx2G/KeZBw8RPnI1HQwXFYEuH2Py1P3yHmBV\n",
       "zceY8xjd+aG2GjYj0Z7Jas98JP1La4aM2zysh+lGRaDDR7YgT90vEyTBGyo+qAN0IvGBCFVtKwTw\n",
       "EQYQZRYC+YBJPYwXddLjo4/mUXb8hrOYby1ecRNpsc3GPl7/RayLKj6oA3Qi8ZErqgcn2r8derlQ\n",
       "CweIsgDQv/xicX++eUDgY0UHw0dd8fjI0M/Q62q6wxbipt1iiTU7nGEF7nU1QwZulFw+crdRii4f\n",
       "1AE6kfgwQuqjaG89qJlb4QBRHpJRZB5BawlOCXw80cHwUZ94fCRJATWPQIp9ABM7MMCq0kWIYWml\n",
       "fQSSKKjygzqgj8xHohCymHn7/PAFyP4OB4hyDuBnsgTzFswIfJzWwAhRT3t8xMn6Se1AkrFApt6y\n",
       "UHEnR/tIS76j4oM6oI/MR76jHpxgb5rbYHTCAaIcA7BbDRixYZ/Ax4YGRoi6IfIRvwettrv9eIdp\n",
       "EXc3TLSv8U/5gEQHYiVNPmAE4CrAUR0+RAwfdUNcLyQlRpztRxlu4heXZQl0+/oLUv0YjFov/b2u\n",
       "F5qUA2U7FODLfbhGl3T/lsnz8UYHw0d9I9bT1jDsZZv4gQapFw4xgIni9Hn1VM6P3dfTOKHctvTq\n",
       "KRwHkvCp0nONeipi+KhcPaXfm0zNGM1Bi/TEypkiKqlB+NamCuuDlKXigzrAj1YfmV8L50Q1hqDv\n",
       "5iav4I9oP9+AD0YbAZ6JgJTeyOcxu00TPm1Z2ArwivIxrgb7MVxUBDp80Hwx99efLUHyEtFufARU\n",
       "4PPTGmvBPki3VXxQB/RJ7dm8zqCoMQS+j1Jl0FHgvC3bk2x99tgB0F4RgIr35gCIB7KJSVyvMsTl\n",
       "kxMk5e66/iVwIIaPejdwv35WrcDX6P16EIJ77x727GB7BkjYEWvlrLz39hBmQeEhBINREeg/z1lq\n",
       "pYfzXCCCe3clB8H2DJCLqh2WfDbzEOw8l9PC+M9zGZc4s6ZUIOy8Tx24TmSE6T9y/uCDcv0M8COC\n",
       "DgaYkv2hrEGwhzCM/7zfvZoxQKk444++D5IRhn9GZT4o188A5aijvu9ux0NMQbCHMAxGnXL4qPd8\n",
       "X1jB37rcXFffF1Z07wsru70vNP7mvrDSBfa1/wB6qtLmWCWUhAAAAABJRU5ErkJggg==\n",
       "\" style=\"display:inline;vertical-align:middle;\" /></a></span><br>\n",
       "<span style=\"font-size:20px;\"><a class=\"ProveItLink\" href=\"__pv_it/exprrange_reductions/a734ef2843a4000639b2dd786b883fd7f2aa0b240/expr.ipynb\"><img src=\"data:image/png;base64,iVBORw0KGgoAAAANSUhEUgAAADMAAAAOBAMAAABwazlqAAAAMFBMVEX///8QEBCYmJgyMjIiIiKq\n",
       "qqrMzMzu7u5ERERmZmaIiIjc3NxUVFR2dna6uroAAABXsXCEAAAAAXRSTlMAQObYZgAAAKBJREFU\n",
       "GNNjYMAG2Gd2JDBgBzUMvP9wSE1nYBDEISXCwHB+A3Yp+wKG8wkMfHd2r5qFRda/gIGXo4uhHqz5\n",
       "sjEIWEJk+P4yMKSyGDDsx3QpywEGhoL6Bwz6mObNBBHxDAyHMWS4JoDIyQwMn9gRdtmApSIZuIH2\n",
       "yzKwfudF08R2gYFrAwP3PwZeAzU0qS13bx4ButKBgftQALqX////wgAA8/InHpvEjEAAAAAASUVO\n",
       "RK5CYII=\n",
       "\" style=\"display:inline;vertical-align:middle;\" /></a> <a class=\"ProveItLink\" href=\"__pv_it/exprrange_reductions/0493643f74a35b62406fbbb9d679b5188cbb99070/proof.ipynb\" style=\"text-decoration: none\">&nbsp;&#x22A2;&nbsp;&nbsp;</a><a class=\"ProveItLink\" href=\"__pv_it/exprrange_reductions/8a2e5863983e2ff56e065919d7ec80ef85a353920/expr.ipynb\"><img src=\"data:image/png;base64,iVBORw0KGgoAAAANSUhEUgAAAQQAAAAVBAMAAABS242zAAAAMFBMVEX///9UVFQQEBCqqqoiIiJm\n",
       "ZmYyMjJERESYmJjc3NyIiIi6urp2dnbu7u7MzMwAAAADGpxCAAAAAXRSTlMAQObYZgAAAtFJREFU\n",
       "SMetlj1oFEEUx996ua/sTjgsJEmVQhBB4Yo0FpIT0pwgpIoiAc8iNsFoY5FUV3hBG71G0CpBsAkS\n",
       "DknvpTgL01yCRrjmDqwsQoSDEI0R35u5nX27ezPcgQsz+/Wf9//tzOy8gUOwHNGXY03478ch7Mrz\n",
       "68jzRFWediOPvZpWR1pcs/v0i689pIt4zF5/u4jVhAWB1FQc1sqp2giiahV/giOkQgEWsRxYEEhN\n",
       "xSn3PukqmpRsCFytjgPmIV0qoQZdMtswI1TCLfZ2zrD+bEOoxJ5QfN9DuhT5W5ciiikzQjHSIkMN\n",
       "9m0IxfjQTAUe5JIthHzk3ZIRgdShFhIhVTMThOOrYynwIJfROaxeNd6qXy41+S4P0DAikJpK6y5H\n",
       "8ObMCFzt7rzZpMsGaA9ySeNMcS/DIyVqPxS/ANY0wqcHdCxqBFJTqX/gCBnLfORqL70K7aqKvxYg\n",
       "jOBX75fhthLNNOE3wLSxF0iNJZuf5wiJghmBq7+PlGC9o+JPBwjnMPK9JtxUonkQfwCOjAikxiII\n",
       "NEAY+2lG4OpmuwYvQcU/CiNcAvHXXxbc7gAIkDgbAiFQzwBciCNgR+GHJ3pBTiCJ8u3IXLgfHQhI\n",
       "5ziCax+IQI0DciJU/O3QdBRdcEpqoT+lecGmY7QX/OnYzteHmI5afQU7xItNR/qhVuFpri6O8W4c\n",
       "nmC9YEQgNZWP2bLUwyghJMmhjRzyGV0Ed1ydPQWv9ELFXwgQqBP3Nn9M1mAWl4av72k1XzYikJqK\n",
       "8wykPnn++A6uJh3q8VtY3aCLnF+RgqvxOjueV/GX+y3QCX9DIAoDLdBaD19kfT02CFIRU8v4vkc4\n",
       "TXk8jQyQprS+l6bq8XwE/dTxNJX2k3WLJ1MTAql7LbReJWuxEUNosfgtS7LWWxad01cG2LJwvTLJ\n",
       "xP+GMovPdgwrzGOr78Yqo7C3ovmmY9q4PR9u40bxfY9/SoYGsOCtjyMAAAAASUVORK5CYII=\n",
       "\" style=\"display:inline;vertical-align:middle;\" /></a></span><br>\n",
       "<span style=\"font-size:20px;\"><a class=\"ProveItLink\" href=\"__pv_it/exprrange_reductions/a734ef2843a4000639b2dd786b883fd7f2aa0b240/expr.ipynb\"><img src=\"data:image/png;base64,iVBORw0KGgoAAAANSUhEUgAAADMAAAAOBAMAAABwazlqAAAAMFBMVEX///8QEBCYmJgyMjIiIiKq\n",
       "qqrMzMzu7u5ERERmZmaIiIjc3NxUVFR2dna6uroAAABXsXCEAAAAAXRSTlMAQObYZgAAAKBJREFU\n",
       "GNNjYMAG2Gd2JDBgBzUMvP9wSE1nYBDEISXCwHB+A3Yp+wKG8wkMfHd2r5qFRda/gIGXo4uhHqz5\n",
       "sjEIWEJk+P4yMKSyGDDsx3QpywEGhoL6Bwz6mObNBBHxDAyHMWS4JoDIyQwMn9gRdtmApSIZuIH2\n",
       "yzKwfudF08R2gYFrAwP3PwZeAzU0qS13bx4ButKBgftQALqX////wgAA8/InHpvEjEAAAAAASUVO\n",
       "RK5CYII=\n",
       "\" style=\"display:inline;vertical-align:middle;\" /></a> <a class=\"ProveItLink\" href=\"__pv_it/exprrange_reductions/72f558afabb56f7949c0c0a41dbad8e6ea8893270/proof.ipynb\" style=\"text-decoration: none\">&nbsp;&#x22A2;&nbsp;&nbsp;</a><a class=\"ProveItLink\" href=\"__pv_it/exprrange_reductions/2b38ccc3850f312897183491e4e0f5463a8c813e0/expr.ipynb\"><img src=\"data:image/png;base64,iVBORw0KGgoAAAANSUhEUgAAAQQAAAAVBAMAAABS242zAAAAMFBMVEX///9UVFQQEBCqqqoiIiJm\n",
       "ZmYyMjJERESYmJjc3NyIiIi6urp2dnbu7u7MzMwAAAADGpxCAAAAAXRSTlMAQObYZgAAAr5JREFU\n",
       "SMetljFoU0EYx/8xSfPSvFeLQlEnNx0UMrg4iCm6ZBDiIiJF41AXQYqDoFOWiHXQuNXJzBVCKO5N\n",
       "QUXaJRZxyJKAc1EQSlEDft/dvffu3eWeKXjwf3lJft+9X95d3h32kNLML+f6+O9tDzvidc384qI4\n",
       "7hif+t2IXpvEO5vZf7YlI64hrhKsJH/sw1qm5VZgmpPRqiTvaiYNnFSJFGaMDo6Wg7pbgWlOpqF+\n",
       "0nm6SD1NQadl+6oSKTSNks0+tt0KzWTF560xHbfTFJrWJ35bJlKoGsB7YNetUDUqPFbYTVOo2kNz\n",
       "WiZUKFYMYJnuXdelwHSiQijMdN0GVv/U7qsohdkad7/eUQVLnZ/0tuZSYJozuKUrCN7RdLq09Xqd\n",
       "Tz+oKIUCzZTiFTyS0EarQH169VDh4z1uy5EC05zehq7gpcxHnfYLTzCk2fkUMkohV6b0cFyO0lnk\n",
       "qbtsxXUXBF1GsXxDV8hW3Ao6/S1Xx5sRcAEySuEI9XwnfPDlx6yDuR8uBaYpAX7pCoJ3NJ3uD7t4\n",
       "Sa/fVTSFMxG/AqL+rYDs+BAKMX0ZWLAV6EYFf0J+2GMKpUpyLtw1BwKFeV2hlD4QMU0DchAA7yCj\n",
       "TccDEpUKZSzQ4zuejuZdCKfjsNw7xHSM6HN0Q3xrOvIf6jqC28E+821vkZB8z6XANGez2BAFmGUF\n",
       "wQ/JQ3zGJ/E7nS7+hl9/ASxBRinwTfQ/PQeu0pwMTnVevaVHzcilwDQn80wW5I/t31R87hodFvlk\n",
       "PjwwodN0XjxBA/MAMuYDOhvvB75M9YCOCwSPS9YgCMKiEVRkrGXKj0unW6b8JI+evR5hEm0vUwW1\n",
       "WA9iy5TFmmlVMUjyQdtSGGj9D1IW63DLEi/phSm2LHqB5D3739DQ+td2DI9V+BqdyRu3VXHsmOvN\n",
       "yLVxWz3cxs1ryfA1/gIjbwBjxbbzigAAAABJRU5ErkJggg==\n",
       "\" style=\"display:inline;vertical-align:middle;\" /></a></span><br>\n",
       "<span style=\"font-size:20px;\"> <a class=\"ProveItLink\" href=\"../packages/proveit/numbers/numerals/decimals/_theory_nbs_/proofs/add_1_1/thm_proof.ipynb\" style=\"text-decoration: none\">&nbsp;&#x22A2;&nbsp;&nbsp;</a><a class=\"ProveItLink\" href=\"../packages/proveit/numbers/numerals/decimals/__pv_it/theorems/b2765fb2c491be2a870253cc2dc55a5a671a6e970/expr.ipynb\"><img src=\"data:image/png;base64,iVBORw0KGgoAAAANSUhEUgAAAGEAAAAUBAMAAABvx07iAAAAMFBMVEX////MzMxUVFR2dna6uroQ\n",
       "EBCqqqqIiIgiIiJmZmYyMjJERETu7u6YmJjc3NwAAACgK8IjAAAAAXRSTlMAQObYZgAAAR1JREFU\n",
       "KM9jYOC7wIAd5OEQZziNS4LpAboIz8zdAkBqHRCnHkCTY4sByi9A13GIgfkLAwPvBAYeZX2YjnSo\n",
       "lNEfIGmOrmMOA0MoAwMHyO77aDoYeEE6jqLriGBg0H/A8IIBpw4uBzQd6w8w6AswVOLWwTwBMzj6\n",
       "DzDsxa2DF+x15lVgANHN8pmBoQ23DrYGDCs4FBgYQhA6rFatal21ahFcB+MHDB0zGVB0oNuBqYMd\n",
       "5DY8rmJpQPKHAoidycD3gLDPkQCjAQP7AwZLELMeXQc7SAenAZqOF8aWGgwMHkDWpPiVF1B0cKr+\n",
       "mguMQQH0GPz//wc0lcBBOjLnBPY0zYsSsWeQOeY4ssE+XPkDM7UTylHcD3BI4My197ALAwB2n2Bd\n",
       "eOkMSgAAAABJRU5ErkJggg==\n",
       "\" style=\"display:inline;vertical-align:middle;\" /></a></span><br>\n",
       "<span style=\"font-size:20px;\"><a class=\"ProveItLink\" href=\"__pv_it/exprrange_reductions/a734ef2843a4000639b2dd786b883fd7f2aa0b240/expr.ipynb\"><img src=\"data:image/png;base64,iVBORw0KGgoAAAANSUhEUgAAADMAAAAOBAMAAABwazlqAAAAMFBMVEX///8QEBCYmJgyMjIiIiKq\n",
       "qqrMzMzu7u5ERERmZmaIiIjc3NxUVFR2dna6uroAAABXsXCEAAAAAXRSTlMAQObYZgAAAKBJREFU\n",
       "GNNjYMAG2Gd2JDBgBzUMvP9wSE1nYBDEISXCwHB+A3Yp+wKG8wkMfHd2r5qFRda/gIGXo4uhHqz5\n",
       "sjEIWEJk+P4yMKSyGDDsx3QpywEGhoL6Bwz6mObNBBHxDAyHMWS4JoDIyQwMn9gRdtmApSIZuIH2\n",
       "yzKwfudF08R2gYFrAwP3PwZeAzU0qS13bx4ButKBgftQALqX////wgAA8/InHpvEjEAAAAAASUVO\n",
       "RK5CYII=\n",
       "\" style=\"display:inline;vertical-align:middle;\" /></a> <a class=\"ProveItLink\" href=\"__pv_it/exprrange_reductions/a92d0ab808465b7b2bc7288e6404652b5500893d0/proof.ipynb\" style=\"text-decoration: none\">&nbsp;&#x22A2;&nbsp;&nbsp;</a><a class=\"ProveItLink\" href=\"__pv_it/exprrange_reductions/a527a91641af6b051e49a79373cc605e7ec027480/expr.ipynb\"><img src=\"data:image/png;base64,iVBORw0KGgoAAAANSUhEUgAAAJsAAAAUBAMAAABoqVKyAAAAMFBMVEX////MzMxUVFR2dna6uroQ\n",
       "EBCqqqqIiIgiIiJmZmYyMjJERETu7u6YmJjc3NwAAACgK8IjAAAAAXRSTlMAQObYZgAAAblJREFU\n",
       "OMudlL1Lw0AYxh8TG5p6qQX/AAvuNeAgulhwcbNDd10EB9GuXTQoFBGHUkeXCC46CM5SySJ+dDCT\n",
       "g4MWF520gpOU1sslprlL+qEP5Hi5/PLk3vfuXiBpg5dSR0ghKErrzlALztwengOZMFkbwA2Ss44z\n",
       "+qxY7gRJYy6LuzAZhLqKmIBWBpmY9EjVQiwHuSCCHNRd00DcWeGzR8YMSC2QnMhxUHddAW8IkIkm\n",
       "pE/gWOQ4qLsSWRQFMt4EZkSu2MduPvNapBWSy6gK5KIOPDqBfMpUduJqHzv9okBatMQmSgK5TZ9V\n",
       "ES/1thta3kOSFkkxkOdJ1VnNuMjne9sR8gWtQW0bIsmq9Fc7KA1IJrPj81DKeAcWArVLD5AsVBOj\n",
       "toVhQ6jyGLDpbUVQ/bYipmPD0p2tYIdiywL5dm76zlTFAA5EnIPYcG8GAnxkMauloOosscrSiY1d\n",
       "+vNEu92mdkeiHQexzY+nf4N99/3LA/085d4fVjY/F2JEXjIe8rXWCW/Y7XYl+7ORLUCEOkeYawG4\n",
       "9OJrfzaiQYUhP5UC16D8zmiHvo1on+GmrHXCkXpU39b+29yfgB8DNJa+K4uGqQAAAABJRU5ErkJg\n",
       "gg==\n",
       "\" style=\"display:inline;vertical-align:middle;\" /></a></span><br>\n",
       "<span style=\"font-size:20px;\"><a class=\"ProveItLink\" href=\"__pv_it/exprrange_reductions/811d20cd969afdccd9ce830eefadd739c9a759bf0/expr.ipynb\"><img src=\"data:image/png;base64,iVBORw0KGgoAAAANSUhEUgAAADcAAAAOBAMAAAB5gJkQAAAAMFBMVEX///9mZmaYmJgyMjIiIiIQ\n",
       "EBCqqqru7u5ERETMzMyIiIjc3NxUVFR2dna6uroAAAAPJcEmAAAAAXRSTlMAQObYZgAAALhJREFU\n",
       "GNNjYMAO2AU7JjDgAjUMvP9wSoozMITilAxhYDi/AZekfQHD+QkMfHd2rzrFeescprx/AQMvRxdD\n",
       "/TqGVBCX1xgMBMByfH8ZGKaxGDDsv8Cgj6GR5QADQ0H9A4b8AoYTGJKCICKfgUGEgSEKXY4LbLgw\n",
       "A4MvA99vdoSdB0DCiQzcQK/EMrD/Y2A02IaqkfMCA9cGBu5/DGwfGJgvXECV3HL34hGgix1AxrMJ\n",
       "oQWH/f//XxgAbmgsc08PO5UAAAAASUVORK5CYII=\n",
       "\" style=\"display:inline;vertical-align:middle;\" /></a> <a class=\"ProveItLink\" href=\"__pv_it/exprrange_reductions/248fee286b134be33b700f5eb1eaa71a4a554fde0/proof.ipynb\" style=\"text-decoration: none\">&nbsp;&#x22A2;&nbsp;&nbsp;</a><a class=\"ProveItLink\" href=\"__pv_it/exprrange_reductions/86189eed7db29dca5e87b4828d2783fca7d00a530/expr.ipynb\"><img src=\"data:image/png;base64,iVBORw0KGgoAAAANSUhEUgAAAKEAAAAUBAMAAAAXeEBDAAAAMFBMVEX////MzMxUVFR2dna6uroQ\n",
       "EBCqqqqIiIgiIiJmZmYyMjJERETu7u6YmJjc3NwAAACgK8IjAAAAAXRSTlMAQObYZgAAActJREFU\n",
       "OMullbFLw0AUxj8bG9J6LUL/AAvuNeAgTgZcurVDd7sIumjo1kWDQhGnUDddKrroIDpLpYtU7dDO\n",
       "DtpNJ60oCFKsl2tIc5eYVvwg4fr43ce79y6vQLwFXnIbHnmgX7RmvRruyO3BBZDyko3RDBGysjmj\n",
       "z3KtHyBJLGi485JuKEikAsRMkOkZG47UEM5C0kWQgwI1ByhWno82HDYQ+gbJihwHBeoaeIYLjnYR\n",
       "egOORY6DAhXVUBRgpQvMi1xxiONi6qmgJwoaIJmoCnBGBe6thXTKZFrr6hBH9VInn5pMqxWroCTA\n",
       "W/RZEXeUgh3H8ruIvyPWoZfZQI6HI1ZOU+KWXLAjIR+QaQvOqXlHhFnF/uoIuYOIgbDOHPkDySZe\n",
       "gLSrjskRTo1IBYqKTLuGcUMoegLYsDvj1rDOhFU0NezH81Zn2E3ZrIF8WQNhe7ZsAHviDg5ir2YF\n",
       "rl+vGtaBI4lmq7ITlpdOWtihKUR7vR51PBQdOYhdByVpL1gozRqw+kAdJvsfGCuhcyhi+H6FPDTo\n",
       "Che6YUOgL8mJ+k4KERrQ4qTAlb2uO1GfaeaFHNXFaeYM05Znu8/E9RnlXGii7TfwY//4V6C9+QH7\n",
       "TZ2pf5nv8AAAAABJRU5ErkJggg==\n",
       "\" style=\"display:inline;vertical-align:middle;\" /></a></span>"
      ],
      "text/plain": [
       "<proveit.magics.HTML_DisplayObjects at 0x7ffa4a130940>"
      ]
     },
     "execution_count": 85,
     "metadata": {},
     "output_type": "execute_result"
    }
   ],
   "source": [
    "# remove duplicate requirements using an OrderedDict\n",
    "from collections import OrderedDict\n",
    "requirements = list(OrderedDict.fromkeys(requirements))\n",
    "requirements"
   ]
  },
  {
   "cell_type": "markdown",
   "metadata": {},
   "source": [
    "Now we will apply `double_nested_lambda2` to $(a, b, c, d)$ and demonstrate the expansion of nested **ExprRanges**."
   ]
  },
  {
   "cell_type": "code",
   "execution_count": 86,
   "metadata": {},
   "outputs": [
    {
     "data": {
      "text/html": [
       "<a class=\"ProveItLink\" href=\"__pv_it/exprrange_reductions/51e138aef785c2f6987ba885e2ded56ba4bd18350/expr.ipynb\"><img src=\"data:image/png;base64,iVBORw0KGgoAAAANSUhEUgAAAd0AAAAVBAMAAADx3ykwAAAAMFBMVEX////MzMxUVFR2dna6uroQ\n",
       "EBCqqqqIiIgiIiJmZmYyMjJERETu7u6YmJjc3NwAAACgK8IjAAAAAXRSTlMAQObYZgAABF1JREFU\n",
       "WMPFmEtoU1kYx780aXPb3MTA4EJnUUFEcWGDLkqHQTO40JW6UBERzMYXihOchRRkDNWp4EKDbiyO\n",
       "UEVEs/CxFF8XRawPsEsrqFm46FDUOoozSPHOOee75/HdnNyb2MVcSMi5ye/7///3npzHBciNQ+vH\n",
       "/sZT79rAu+qzwi3y7bt/2o5gR4Nh9zptPz57I4JfZsHdkVv575Z/ShWjawn8Knvt8IyzpBG2Nxo+\n",
       "08NqdG3TP1gAq4rN+ScW/D4kPxtdYBu0I3+VKtJaNjxbBXdhn45IGo1Hv7RVDj5MMJHlM+r7bg86\n",
       "NzTHkxLbpfE/ATapH5i1IuQlztwTRVLLijv8Hr8xI76JyvswnPcEV9UeOyvQ8S3iCm8IGWb4FoA+\n",
       "3U+zkXkfhnDmnijSWjZ8EtrK21OkeXMV6rFnBjo+RvAXqWGOX/OgL99iXikv806GFGktGz4Yldc9\n",
       "uGxNP+2QVZo3XW3w6OjWowNvfysTfoDmTWO5k541byMu5WXewbCiWcvq/k5U3gfwonwc4EfRSPCR\n",
       "ODtK82bGG/KuLyjBQvaYM4ogJM+yPxe8pHkFDqlPYMsb4AM3hSFhQsrLvHdCiqQWukddrMLwYR3R\n",
       "NfOKxs+wylsH886IuCO863ZVaF6npD0G12lI4UkvOZOqIwgrYSl7303zChycBRo3aiGerHfwkGhC\n",
       "ysu8wyFFUgvdoy5WYfhGHfH5KIQaHtzin9fileNaiWkO12qXt9ZqvHJnUXl0v+IIXVW4C5nrEmQj\n",
       "Uy8bSXr5x59qtT9qtQsShxEDN2oh7tQT35QJIa9xdG8oklroHnWxCsONvHhpaOMfW17j/hp58TLL\n",
       "vxTic8oq71H4UAzy6hsk8OBPPGTe3yGFO8XcZ5rXuL8bw4qklnCPuliF4cOR43PiYyhvKqI/4xdV\n",
       "eK9bvXmD+dWTpWh/3gO5JvORwKFrRplIWfozUSS10L3QxSoMjxyv9qWn4RDJGzte/QDwu8ruHYa0\n",
       "p0wes49XiQKkrXkDHJyyymsbr0xFUitwL3SxCsPFBHHYzKsbqS+Zab4gN/J2F2heMUGktcfckRWn\n",
       "KmqkLt3j+4Egr/jpaZqXn5tcMbBEqxu1AjyYw4QJKb9LT29E0awl3Qdz2ADivMyp7Vf0NsNouIsP\n",
       "Db6i/bknT/Pyk92Lvp5TM7rv+0r9/sFH58ZV3gn+dp7m5V9d8/1/9XrUqBXg2arOK+Vl3rUhRbOW\n",
       "dD8hV54Cd+rx2xIj75htPRlzYN5UIZUHt9K4now7VsMvysRY43oyVp3rBlXG1NWLPNikOeXh3CfX\n",
       "K66nF/yxu94K5G7D/J17Pb1feNYynri08zbDcebuD+EtuOe6Ux6vgvjdWOKvk4thbil35u+yZUOW\n",
       "ib3CHExshu2+b9kPxuOdvj/NcG7CIh/vnuvOLfEqiLe43y81sRfe7ze7x03stYdnbPv9Nt239kQk\n",
       "eBLz+nuf5+CTmGx9VrhFfrbumx1ZmN0x/r/i2v1/1/a3oajSnAQAAAAASUVORK5CYII=\n",
       "\" style=\"display:inline;vertical-align:middle;\" /></a>"
      ],
      "text/plain": [
       "(1 * 1 * x_{1, 1}) + (1 * 2 * x_{1, 2}) + (2 * 1 * x_{2, 1}) + (2 * 2 * x_{2, 2})"
      ]
     },
     "execution_count": 86,
     "metadata": {},
     "output_type": "execute_result"
    }
   ],
   "source": [
    "requirements=[]\n",
    "double_nested_lambda2.apply(*abcd.entries, requirements=requirements)"
   ]
  },
  {
   "cell_type": "markdown",
   "metadata": {},
   "source": [
    "Note in the requirements below that we need indices to match, $(1, 2) = (1, \\ldots, n)$ and $(1, 2) = (1, \\ldots, m)$ in order to perform this parameter-dependent expansion."
   ]
  },
  {
   "cell_type": "code",
   "execution_count": 87,
   "metadata": {},
   "outputs": [
    {
     "data": {
      "text/html": [
       "<span style=\"font-size:20px;\"><a class=\"ProveItLink\" href=\"__pv_it/exprrange_reductions/811d20cd969afdccd9ce830eefadd739c9a759bf0/expr.ipynb\"><img src=\"data:image/png;base64,iVBORw0KGgoAAAANSUhEUgAAADcAAAAOBAMAAAB5gJkQAAAAMFBMVEX///9mZmaYmJgyMjIiIiIQ\n",
       "EBCqqqru7u5ERETMzMyIiIjc3NxUVFR2dna6uroAAAAPJcEmAAAAAXRSTlMAQObYZgAAALhJREFU\n",
       "GNNjYMAO2AU7JjDgAjUMvP9wSoozMITilAxhYDi/AZekfQHD+QkMfHd2rzrFeescprx/AQMvRxdD\n",
       "/TqGVBCX1xgMBMByfH8ZGKaxGDDsv8Cgj6GR5QADQ0H9A4b8AoYTGJKCICKfgUGEgSEKXY4LbLgw\n",
       "A4MvA99vdoSdB0DCiQzcQK/EMrD/Y2A02IaqkfMCA9cGBu5/DGwfGJgvXECV3HL34hGgix1AxrMJ\n",
       "oQWH/f//XxgAbmgsc08PO5UAAAAASUVORK5CYII=\n",
       "\" style=\"display:inline;vertical-align:middle;\" /></a>, <a class=\"ProveItLink\" href=\"__pv_it/exprrange_reductions/a734ef2843a4000639b2dd786b883fd7f2aa0b240/expr.ipynb\"><img src=\"data:image/png;base64,iVBORw0KGgoAAAANSUhEUgAAADMAAAAOBAMAAABwazlqAAAAMFBMVEX///8QEBCYmJgyMjIiIiKq\n",
       "qqrMzMzu7u5ERERmZmaIiIjc3NxUVFR2dna6uroAAABXsXCEAAAAAXRSTlMAQObYZgAAAKBJREFU\n",
       "GNNjYMAG2Gd2JDBgBzUMvP9wSE1nYBDEISXCwHB+A3Yp+wKG8wkMfHd2r5qFRda/gIGXo4uhHqz5\n",
       "sjEIWEJk+P4yMKSyGDDsx3QpywEGhoL6Bwz6mObNBBHxDAyHMWS4JoDIyQwMn9gRdtmApSIZuIH2\n",
       "yzKwfudF08R2gYFrAwP3PwZeAzU0qS13bx4ButKBgftQALqX////wgAA8/InHpvEjEAAAAAASUVO\n",
       "RK5CYII=\n",
       "\" style=\"display:inline;vertical-align:middle;\" /></a> <a class=\"ProveItLink\" href=\"__pv_it/exprrange_reductions/afe18956435204e97b8ab367cbab23e9c2885d9d0/proof.ipynb\" style=\"text-decoration: none\">&nbsp;&#x22A2;&nbsp;&nbsp;</a><a class=\"ProveItLink\" href=\"__pv_it/exprrange_reductions/fc01475efe1fa7db7680b10b6ff1491b7f6905d80/expr.ipynb\"><img src=\"data:image/png;base64,iVBORw0KGgoAAAANSUhEUgAAAh0AAAAVBAMAAAAQgkGQAAAAMFBMVEX///9UVFQQEBCqqqoiIiJm\n",
       "ZmYyMjJERESYmJjc3NyIiIi6urp2dnbu7u7MzMwAAAADGpxCAAAAAXRSTlMAQObYZgAABFxJREFU\n",
       "WMPVWE1oE0EUfvnftNm0eFCqgh7FHyzixYM0RREKChFFRArGQwUpiHjRegpIxZwasYfqpbn00kIM\n",
       "4lFwC1YkeliLVvCSgOfSgFAopeLMm93szOzObsbiwQcb3s68772ZL2/ezgysg56sRzb8x5K34RMq\n",
       "cz0Yn8HfT3Kz52AuGKGUOdAECJItBzQmqvoYjMqAuQabjnmP6zbvFwKYu1+MVdV8UAeCE5RY6Oj8\n",
       "9hEAUb4Htg79BQajDvF8pIVxpIsBoIFhs6TmgzqgT+JE958iGkOoRLRnFJV65+OOr+WUDbCmielG\n",
       "XeP5mJamHgB6Z0NTzcc0e74s7zitTGuGDU6wd6TZMx2G/KeZBw8RPnI1HQwXFYEuH2Py1P3yHmBV\n",
       "zceY8xjd+aG2GjYj0Z7Jas98JP1La4aM2zysh+lGRaDDR7YgT90vEyTBGyo+qAN0IvGBCFVtKwTw\n",
       "EQYQZRYC+YBJPYwXddLjo4/mUXb8hrOYby1ecRNpsc3GPl7/RayLKj6oA3Qi8ZErqgcn2r8derlQ\n",
       "CweIsgDQv/xicX++eUDgY0UHw0dd8fjI0M/Q62q6wxbipt1iiTU7nGEF7nU1QwZulFw+crdRii4f\n",
       "1AE6kfgwQuqjaG89qJlb4QBRHpJRZB5BawlOCXw80cHwUZ94fCRJATWPQIp9ABM7MMCq0kWIYWml\n",
       "fQSSKKjygzqgj8xHohCymHn7/PAFyP4OB4hyDuBnsgTzFswIfJzWwAhRT3t8xMn6Se1AkrFApt6y\n",
       "UHEnR/tIS76j4oM6oI/MR76jHpxgb5rbYHTCAaIcA7BbDRixYZ/Ax4YGRoi6IfIRvwettrv9eIdp\n",
       "EXc3TLSv8U/5gEQHYiVNPmAE4CrAUR0+RAwfdUNcLyQlRpztRxlu4heXZQl0+/oLUv0YjFov/b2u\n",
       "F5qUA2U7FODLfbhGl3T/lsnz8UYHw0d9I9bT1jDsZZv4gQapFw4xgIni9Hn1VM6P3dfTOKHctvTq\n",
       "KRwHkvCp0nONeipi+KhcPaXfm0zNGM1Bi/TEypkiKqlB+NamCuuDlKXigzrAj1YfmV8L50Q1hqDv\n",
       "5iav4I9oP9+AD0YbAZ6JgJTeyOcxu00TPm1Z2ArwivIxrgb7MVxUBDp80Hwx99efLUHyEtFufARU\n",
       "4PPTGmvBPki3VXxQB/RJ7dm8zqCoMQS+j1Jl0FHgvC3bk2x99tgB0F4RgIr35gCIB7KJSVyvMsTl\n",
       "kxMk5e66/iVwIIaPejdwv35WrcDX6P16EIJ77x727GB7BkjYEWvlrLz39hBmQeEhBINREeg/z1lq\n",
       "pYfzXCCCe3clB8H2DJCLqh2WfDbzEOw8l9PC+M9zGZc4s6ZUIOy8Tx24TmSE6T9y/uCDcv0M8COC\n",
       "DgaYkv2hrEGwhzCM/7zfvZoxQKk444++D5IRhn9GZT4o188A5aijvu9ux0NMQbCHMAxGnXL4qPd8\n",
       "X1jB37rcXFffF1Z07wsru70vNP7mvrDSBfa1/wB6qtLmWCWUhAAAAABJRU5ErkJggg==\n",
       "\" style=\"display:inline;vertical-align:middle;\" /></a></span><br>\n",
       "<span style=\"font-size:20px;\"><a class=\"ProveItLink\" href=\"__pv_it/exprrange_reductions/a734ef2843a4000639b2dd786b883fd7f2aa0b240/expr.ipynb\"><img src=\"data:image/png;base64,iVBORw0KGgoAAAANSUhEUgAAADMAAAAOBAMAAABwazlqAAAAMFBMVEX///8QEBCYmJgyMjIiIiKq\n",
       "qqrMzMzu7u5ERERmZmaIiIjc3NxUVFR2dna6uroAAABXsXCEAAAAAXRSTlMAQObYZgAAAKBJREFU\n",
       "GNNjYMAG2Gd2JDBgBzUMvP9wSE1nYBDEISXCwHB+A3Yp+wKG8wkMfHd2r5qFRda/gIGXo4uhHqz5\n",
       "sjEIWEJk+P4yMKSyGDDsx3QpywEGhoL6Bwz6mObNBBHxDAyHMWS4JoDIyQwMn9gRdtmApSIZuIH2\n",
       "yzKwfudF08R2gYFrAwP3PwZeAzU0qS13bx4ButKBgftQALqX////wgAA8/InHpvEjEAAAAAASUVO\n",
       "RK5CYII=\n",
       "\" style=\"display:inline;vertical-align:middle;\" /></a> <a class=\"ProveItLink\" href=\"__pv_it/exprrange_reductions/0493643f74a35b62406fbbb9d679b5188cbb99070/proof.ipynb\" style=\"text-decoration: none\">&nbsp;&#x22A2;&nbsp;&nbsp;</a><a class=\"ProveItLink\" href=\"__pv_it/exprrange_reductions/8a2e5863983e2ff56e065919d7ec80ef85a353920/expr.ipynb\"><img src=\"data:image/png;base64,iVBORw0KGgoAAAANSUhEUgAAAQQAAAAVBAMAAABS242zAAAAMFBMVEX///9UVFQQEBCqqqoiIiJm\n",
       "ZmYyMjJERESYmJjc3NyIiIi6urp2dnbu7u7MzMwAAAADGpxCAAAAAXRSTlMAQObYZgAAAtFJREFU\n",
       "SMetlj1oFEEUx996ua/sTjgsJEmVQhBB4Yo0FpIT0pwgpIoiAc8iNsFoY5FUV3hBG71G0CpBsAkS\n",
       "DknvpTgL01yCRrjmDqwsQoSDEI0R35u5nX27ezPcgQsz+/Wf9//tzOy8gUOwHNGXY03478ch7Mrz\n",
       "68jzRFWediOPvZpWR1pcs/v0i689pIt4zF5/u4jVhAWB1FQc1sqp2giiahV/giOkQgEWsRxYEEhN\n",
       "xSn3PukqmpRsCFytjgPmIV0qoQZdMtswI1TCLfZ2zrD+bEOoxJ5QfN9DuhT5W5ciiikzQjHSIkMN\n",
       "9m0IxfjQTAUe5JIthHzk3ZIRgdShFhIhVTMThOOrYynwIJfROaxeNd6qXy41+S4P0DAikJpK6y5H\n",
       "8ObMCFzt7rzZpMsGaA9ySeNMcS/DIyVqPxS/ANY0wqcHdCxqBFJTqX/gCBnLfORqL70K7aqKvxYg\n",
       "jOBX75fhthLNNOE3wLSxF0iNJZuf5wiJghmBq7+PlGC9o+JPBwjnMPK9JtxUonkQfwCOjAikxiII\n",
       "NEAY+2lG4OpmuwYvQcU/CiNcAvHXXxbc7gAIkDgbAiFQzwBciCNgR+GHJ3pBTiCJ8u3IXLgfHQhI\n",
       "5ziCax+IQI0DciJU/O3QdBRdcEpqoT+lecGmY7QX/OnYzteHmI5afQU7xItNR/qhVuFpri6O8W4c\n",
       "nmC9YEQgNZWP2bLUwyghJMmhjRzyGV0Ed1ydPQWv9ELFXwgQqBP3Nn9M1mAWl4av72k1XzYikJqK\n",
       "8wykPnn++A6uJh3q8VtY3aCLnF+RgqvxOjueV/GX+y3QCX9DIAoDLdBaD19kfT02CFIRU8v4vkc4\n",
       "TXk8jQyQprS+l6bq8XwE/dTxNJX2k3WLJ1MTAql7LbReJWuxEUNosfgtS7LWWxad01cG2LJwvTLJ\n",
       "xP+GMovPdgwrzGOr78Yqo7C3ovmmY9q4PR9u40bxfY9/SoYGsOCtjyMAAAAASUVORK5CYII=\n",
       "\" style=\"display:inline;vertical-align:middle;\" /></a></span><br>\n",
       "<span style=\"font-size:20px;\"><a class=\"ProveItLink\" href=\"__pv_it/exprrange_reductions/a734ef2843a4000639b2dd786b883fd7f2aa0b240/expr.ipynb\"><img src=\"data:image/png;base64,iVBORw0KGgoAAAANSUhEUgAAADMAAAAOBAMAAABwazlqAAAAMFBMVEX///8QEBCYmJgyMjIiIiKq\n",
       "qqrMzMzu7u5ERERmZmaIiIjc3NxUVFR2dna6uroAAABXsXCEAAAAAXRSTlMAQObYZgAAAKBJREFU\n",
       "GNNjYMAG2Gd2JDBgBzUMvP9wSE1nYBDEISXCwHB+A3Yp+wKG8wkMfHd2r5qFRda/gIGXo4uhHqz5\n",
       "sjEIWEJk+P4yMKSyGDDsx3QpywEGhoL6Bwz6mObNBBHxDAyHMWS4JoDIyQwMn9gRdtmApSIZuIH2\n",
       "yzKwfudF08R2gYFrAwP3PwZeAzU0qS13bx4ButKBgftQALqX////wgAA8/InHpvEjEAAAAAASUVO\n",
       "RK5CYII=\n",
       "\" style=\"display:inline;vertical-align:middle;\" /></a> <a class=\"ProveItLink\" href=\"__pv_it/exprrange_reductions/72f558afabb56f7949c0c0a41dbad8e6ea8893270/proof.ipynb\" style=\"text-decoration: none\">&nbsp;&#x22A2;&nbsp;&nbsp;</a><a class=\"ProveItLink\" href=\"__pv_it/exprrange_reductions/2b38ccc3850f312897183491e4e0f5463a8c813e0/expr.ipynb\"><img src=\"data:image/png;base64,iVBORw0KGgoAAAANSUhEUgAAAQQAAAAVBAMAAABS242zAAAAMFBMVEX///9UVFQQEBCqqqoiIiJm\n",
       "ZmYyMjJERESYmJjc3NyIiIi6urp2dnbu7u7MzMwAAAADGpxCAAAAAXRSTlMAQObYZgAAAr5JREFU\n",
       "SMetljFoU0EYx/8xSfPSvFeLQlEnNx0UMrg4iCm6ZBDiIiJF41AXQYqDoFOWiHXQuNXJzBVCKO5N\n",
       "QUXaJRZxyJKAc1EQSlEDft/dvffu3eWeKXjwf3lJft+9X95d3h32kNLML+f6+O9tDzvidc384qI4\n",
       "7hif+t2IXpvEO5vZf7YlI64hrhKsJH/sw1qm5VZgmpPRqiTvaiYNnFSJFGaMDo6Wg7pbgWlOpqF+\n",
       "0nm6SD1NQadl+6oSKTSNks0+tt0KzWTF560xHbfTFJrWJ35bJlKoGsB7YNetUDUqPFbYTVOo2kNz\n",
       "WiZUKFYMYJnuXdelwHSiQijMdN0GVv/U7qsohdkad7/eUQVLnZ/0tuZSYJozuKUrCN7RdLq09Xqd\n",
       "Tz+oKIUCzZTiFTyS0EarQH169VDh4z1uy5EC05zehq7gpcxHnfYLTzCk2fkUMkohV6b0cFyO0lnk\n",
       "qbtsxXUXBF1GsXxDV8hW3Ao6/S1Xx5sRcAEySuEI9XwnfPDlx6yDuR8uBaYpAX7pCoJ3NJ3uD7t4\n",
       "Sa/fVTSFMxG/AqL+rYDs+BAKMX0ZWLAV6EYFf0J+2GMKpUpyLtw1BwKFeV2hlD4QMU0DchAA7yCj\n",
       "TccDEpUKZSzQ4zuejuZdCKfjsNw7xHSM6HN0Q3xrOvIf6jqC28E+821vkZB8z6XANGez2BAFmGUF\n",
       "wQ/JQ3zGJ/E7nS7+hl9/ASxBRinwTfQ/PQeu0pwMTnVevaVHzcilwDQn80wW5I/t31R87hodFvlk\n",
       "PjwwodN0XjxBA/MAMuYDOhvvB75M9YCOCwSPS9YgCMKiEVRkrGXKj0unW6b8JI+evR5hEm0vUwW1\n",
       "WA9iy5TFmmlVMUjyQdtSGGj9D1IW63DLEi/phSm2LHqB5D3739DQ+td2DI9V+BqdyRu3VXHsmOvN\n",
       "yLVxWz3cxs1ryfA1/gIjbwBjxbbzigAAAABJRU5ErkJggg==\n",
       "\" style=\"display:inline;vertical-align:middle;\" /></a></span><br>\n",
       "<span style=\"font-size:20px;\"> <a class=\"ProveItLink\" href=\"../packages/proveit/numbers/numerals/decimals/_theory_nbs_/proofs/add_1_1/thm_proof.ipynb\" style=\"text-decoration: none\">&nbsp;&#x22A2;&nbsp;&nbsp;</a><a class=\"ProveItLink\" href=\"../packages/proveit/numbers/numerals/decimals/__pv_it/theorems/b2765fb2c491be2a870253cc2dc55a5a671a6e970/expr.ipynb\"><img src=\"data:image/png;base64,iVBORw0KGgoAAAANSUhEUgAAAGEAAAAUBAMAAABvx07iAAAAMFBMVEX////MzMxUVFR2dna6uroQ\n",
       "EBCqqqqIiIgiIiJmZmYyMjJERETu7u6YmJjc3NwAAACgK8IjAAAAAXRSTlMAQObYZgAAAR1JREFU\n",
       "KM9jYOC7wIAd5OEQZziNS4LpAboIz8zdAkBqHRCnHkCTY4sByi9A13GIgfkLAwPvBAYeZX2YjnSo\n",
       "lNEfIGmOrmMOA0MoAwMHyO77aDoYeEE6jqLriGBg0H/A8IIBpw4uBzQd6w8w6AswVOLWwTwBMzj6\n",
       "DzDsxa2DF+x15lVgANHN8pmBoQ23DrYGDCs4FBgYQhA6rFatal21ahFcB+MHDB0zGVB0oNuBqYMd\n",
       "5DY8rmJpQPKHAoidycD3gLDPkQCjAQP7AwZLELMeXQc7SAenAZqOF8aWGgwMHkDWpPiVF1B0cKr+\n",
       "mguMQQH0GPz//wc0lcBBOjLnBPY0zYsSsWeQOeY4ssE+XPkDM7UTylHcD3BI4My197ALAwB2n2Bd\n",
       "eOkMSgAAAABJRU5ErkJggg==\n",
       "\" style=\"display:inline;vertical-align:middle;\" /></a></span><br>\n",
       "<span style=\"font-size:20px;\"><a class=\"ProveItLink\" href=\"__pv_it/exprrange_reductions/a734ef2843a4000639b2dd786b883fd7f2aa0b240/expr.ipynb\"><img src=\"data:image/png;base64,iVBORw0KGgoAAAANSUhEUgAAADMAAAAOBAMAAABwazlqAAAAMFBMVEX///8QEBCYmJgyMjIiIiKq\n",
       "qqrMzMzu7u5ERERmZmaIiIjc3NxUVFR2dna6uroAAABXsXCEAAAAAXRSTlMAQObYZgAAAKBJREFU\n",
       "GNNjYMAG2Gd2JDBgBzUMvP9wSE1nYBDEISXCwHB+A3Yp+wKG8wkMfHd2r5qFRda/gIGXo4uhHqz5\n",
       "sjEIWEJk+P4yMKSyGDDsx3QpywEGhoL6Bwz6mObNBBHxDAyHMWS4JoDIyQwMn9gRdtmApSIZuIH2\n",
       "yzKwfudF08R2gYFrAwP3PwZeAzU0qS13bx4ButKBgftQALqX////wgAA8/InHpvEjEAAAAAASUVO\n",
       "RK5CYII=\n",
       "\" style=\"display:inline;vertical-align:middle;\" /></a> <a class=\"ProveItLink\" href=\"__pv_it/exprrange_reductions/a92d0ab808465b7b2bc7288e6404652b5500893d0/proof.ipynb\" style=\"text-decoration: none\">&nbsp;&#x22A2;&nbsp;&nbsp;</a><a class=\"ProveItLink\" href=\"__pv_it/exprrange_reductions/a527a91641af6b051e49a79373cc605e7ec027480/expr.ipynb\"><img src=\"data:image/png;base64,iVBORw0KGgoAAAANSUhEUgAAAJsAAAAUBAMAAABoqVKyAAAAMFBMVEX////MzMxUVFR2dna6uroQ\n",
       "EBCqqqqIiIgiIiJmZmYyMjJERETu7u6YmJjc3NwAAACgK8IjAAAAAXRSTlMAQObYZgAAAblJREFU\n",
       "OMudlL1Lw0AYxh8TG5p6qQX/AAvuNeAgulhwcbNDd10EB9GuXTQoFBGHUkeXCC46CM5SySJ+dDCT\n",
       "g4MWF520gpOU1sslprlL+qEP5Hi5/PLk3vfuXiBpg5dSR0ghKErrzlALztwengOZMFkbwA2Ss44z\n",
       "+qxY7gRJYy6LuzAZhLqKmIBWBpmY9EjVQiwHuSCCHNRd00DcWeGzR8YMSC2QnMhxUHddAW8IkIkm\n",
       "pE/gWOQ4qLsSWRQFMt4EZkSu2MduPvNapBWSy6gK5KIOPDqBfMpUduJqHzv9okBatMQmSgK5TZ9V\n",
       "ES/1thta3kOSFkkxkOdJ1VnNuMjne9sR8gWtQW0bIsmq9Fc7KA1IJrPj81DKeAcWArVLD5AsVBOj\n",
       "toVhQ6jyGLDpbUVQ/bYipmPD0p2tYIdiywL5dm76zlTFAA5EnIPYcG8GAnxkMauloOosscrSiY1d\n",
       "+vNEu92mdkeiHQexzY+nf4N99/3LA/085d4fVjY/F2JEXjIe8rXWCW/Y7XYl+7ORLUCEOkeYawG4\n",
       "9OJrfzaiQYUhP5UC16D8zmiHvo1on+GmrHXCkXpU39b+29yfgB8DNJa+K4uGqQAAAABJRU5ErkJg\n",
       "gg==\n",
       "\" style=\"display:inline;vertical-align:middle;\" /></a></span><br>\n",
       "<span style=\"font-size:20px;\"><a class=\"ProveItLink\" href=\"__pv_it/exprrange_reductions/811d20cd969afdccd9ce830eefadd739c9a759bf0/expr.ipynb\"><img src=\"data:image/png;base64,iVBORw0KGgoAAAANSUhEUgAAADcAAAAOBAMAAAB5gJkQAAAAMFBMVEX///9mZmaYmJgyMjIiIiIQ\n",
       "EBCqqqru7u5ERETMzMyIiIjc3NxUVFR2dna6uroAAAAPJcEmAAAAAXRSTlMAQObYZgAAALhJREFU\n",
       "GNNjYMAO2AU7JjDgAjUMvP9wSoozMITilAxhYDi/AZekfQHD+QkMfHd2rzrFeescprx/AQMvRxdD\n",
       "/TqGVBCX1xgMBMByfH8ZGKaxGDDsv8Cgj6GR5QADQ0H9A4b8AoYTGJKCICKfgUGEgSEKXY4LbLgw\n",
       "A4MvA99vdoSdB0DCiQzcQK/EMrD/Y2A02IaqkfMCA9cGBu5/DGwfGJgvXECV3HL34hGgix1AxrMJ\n",
       "oQWH/f//XxgAbmgsc08PO5UAAAAASUVORK5CYII=\n",
       "\" style=\"display:inline;vertical-align:middle;\" /></a> <a class=\"ProveItLink\" href=\"__pv_it/exprrange_reductions/248fee286b134be33b700f5eb1eaa71a4a554fde0/proof.ipynb\" style=\"text-decoration: none\">&nbsp;&#x22A2;&nbsp;&nbsp;</a><a class=\"ProveItLink\" href=\"__pv_it/exprrange_reductions/86189eed7db29dca5e87b4828d2783fca7d00a530/expr.ipynb\"><img src=\"data:image/png;base64,iVBORw0KGgoAAAANSUhEUgAAAKEAAAAUBAMAAAAXeEBDAAAAMFBMVEX////MzMxUVFR2dna6uroQ\n",
       "EBCqqqqIiIgiIiJmZmYyMjJERETu7u6YmJjc3NwAAACgK8IjAAAAAXRSTlMAQObYZgAAActJREFU\n",
       "OMullbFLw0AUxj8bG9J6LUL/AAvuNeAgTgZcurVDd7sIumjo1kWDQhGnUDddKrroIDpLpYtU7dDO\n",
       "DtpNJ60oCFKsl2tIc5eYVvwg4fr43ce79y6vQLwFXnIbHnmgX7RmvRruyO3BBZDyko3RDBGysjmj\n",
       "z3KtHyBJLGi485JuKEikAsRMkOkZG47UEM5C0kWQgwI1ByhWno82HDYQ+gbJihwHBeoaeIYLjnYR\n",
       "egOORY6DAhXVUBRgpQvMi1xxiONi6qmgJwoaIJmoCnBGBe6thXTKZFrr6hBH9VInn5pMqxWroCTA\n",
       "W/RZEXeUgh3H8ruIvyPWoZfZQI6HI1ZOU+KWXLAjIR+QaQvOqXlHhFnF/uoIuYOIgbDOHPkDySZe\n",
       "gLSrjskRTo1IBYqKTLuGcUMoegLYsDvj1rDOhFU0NezH81Zn2E3ZrIF8WQNhe7ZsAHviDg5ir2YF\n",
       "rl+vGtaBI4lmq7ITlpdOWtihKUR7vR51PBQdOYhdByVpL1gozRqw+kAdJvsfGCuhcyhi+H6FPDTo\n",
       "Che6YUOgL8mJ+k4KERrQ4qTAlb2uO1GfaeaFHNXFaeYM05Znu8/E9RnlXGii7TfwY//4V6C9+QH7\n",
       "TZ2pf5nv8AAAAABJRU5ErkJggg==\n",
       "\" style=\"display:inline;vertical-align:middle;\" /></a></span>"
      ],
      "text/plain": [
       "<proveit.magics.HTML_DisplayObjects at 0x7ffa4a1f3e48>"
      ]
     },
     "execution_count": 87,
     "metadata": {},
     "output_type": "execute_result"
    }
   ],
   "source": [
    "# remove duplicate requirements using an OrderedDict\n",
    "from collections import OrderedDict\n",
    "requirements = list(OrderedDict.fromkeys(requirements))\n",
    "requirements"
   ]
  },
  {
   "cell_type": "markdown",
   "metadata": {},
   "source": [
    "Let's do one more example to test this capability"
   ]
  },
  {
   "cell_type": "code",
   "execution_count": 88,
   "metadata": {},
   "outputs": [
    {
     "data": {
      "text/html": [
       "<strong id=\"double_nested_operands\">double_nested_operands:</strong> <a class=\"ProveItLink\" href=\"__pv_it/exprrange_reductions/160c81f86751521966d3e64fc9fd14ec823eb2530/expr.ipynb\"><img src=\"data:image/png;base64,iVBORw0KGgoAAAANSUhEUgAAAfkAAAAVBAMAAAC3aYqaAAAAMFBMVEX////MzMxUVFR2dna6uroQ\n",
       "EBCqqqqIiIgiIiJmZmYyMjJERETu7u6YmJjc3NwAAACgK8IjAAAAAXRSTlMAQObYZgAAA4BJREFU\n",
       "WMPlWEtoE0EY/rZJ82h2N3upIj0YKRIQrUsvRakYlGpB0FbFk494EDyUNrSHGCy0iFQpgsUerEIh\n",
       "Vy/Sm4f6GCpSwUNTEFFEG0RQ8ZFUikKJ4kw2u9lH1t0tuZT+h92Zf77/8e28dgYQc9iY0s8eLzYo\n",
       "eTTk6eP+uqZwgVTLgdOeTPksIEysY+586+4q+7n2kjfrDiCUX9d9v6Tre8Ej+2fAZ2xY9k0JZOhr\n",
       "fvDjUMoF3C2uLmZ8uu1wR73Y+9t/pG9rtYNtnzI0Id8EHtE4snAtlAU3U25qsc/HgHNPQzEzimMw\n",
       "PMXr1LhZ2bJG9r7IAyxoc1yeTfF/KT6LMdpEfCV/nrszylq2TNm70OPci2JmIu8YDJ3YT46adFa8\n",
       "wp53Yr+Jfv6CVEFyyXGIy3SPGMVJpomwnvArrLrtO9GAc9/3iplpKDoFA8GsVdldm/1C1oE9WUhg\n",
       "SUXy/AqEIv0KRcYeiKZcJWTAeZBoag3sgd+u2YdiTqveALBDQwaKaMiW2Y8x3VbJXUI63JvFtOs/\n",
       "BWYmTG/OBAclD+y55UqY9DYje+bK65p/F/jDq5VwFtEcYTnQVS9ARhAkzgkZcC/P4Kw77oqZ0JVr\n",
       "3BmMuWffFyximIU5TgZN7KmrvEf2JxAo+dRKo4wBIrNVbw9wLPkE3/UJ8avqXCpPE7Wmx4nzoyiZ\n",
       "2ssFY61q9u0SoomwbGVvY+X/FSmKORZmBZNG9swVqcz1ER37YKlW1uWHuAJfdlEFFhLYK0ig2VB/\n",
       "c+n56ZyhO66TygwpP66wwg0TriHl71HUSrsKNNZ0ZnE0I5TEkVkqxBzMasXHhzPvWBiuh85OP7N6\n",
       "qI6VOLoqoW+du6cdUcPbV6cVbdVRrOKNhhN3JXXf8MMr+rcj6f50dQkFiHUgmhasRiksS3q1zfjV\n",
       "Sr24jALnNVijFJwRi5Jx1evFJGcXus+VqizP9accuv2J9PNeZFu0FSrDiCsgdEjSq2uL1i4WaZe9\n",
       "9XkNVqC9L8xodYr/Sqirq+ftQsuuVOopB4/V9KZ+prhT+HIzTv9NrZu2tmlVcAcQ3KdX2+z1Wrs/\n",
       "Rs/SHzo9BqNhmvJiqzo6GL45SV0N5WxC19Da5chOuMbbjYDysl73CKZ1vLbayaymk5w3KyT/BxLc\n",
       "5xBhc95ws9Xv5VaoLldLniVQryP5e4vG7R1fXe4C1+ZEQP3kH1ImQD2lPYGjAAAAAElFTkSuQmCC\n",
       "\" style=\"display:inline;vertical-align:middle;\" /></a><br>"
      ],
      "text/plain": [
       "double_nested_operands: (x_{1, 1}, ..x_{1, _b}.., x_{1, n}, ....x_{_a, 1}, ..x_{_a, _b}.., x_{_a, n}...., x_{m - 1, 1}, ..x_{m - 1, _b}.., x_{m - 1, n}, 1 * 1, ..k * k.., n * n)"
      ]
     },
     "execution_count": 88,
     "metadata": {},
     "output_type": "execute_result"
    }
   ],
   "source": [
    "double_nested_operands = ExprTuple(var_range(x, (one, one), (subtract(m, one), n)),\n",
    "                                   ExprRange(k, Mult(k, k), one, n))"
   ]
  },
  {
   "cell_type": "code",
   "execution_count": 89,
   "metadata": {},
   "outputs": [
    {
     "data": {
      "text/html": [
       "<strong id=\"defaults.assumptions\">defaults.assumptions:</strong> <a class=\"ProveItLink\" href=\"__pv_it/exprrange_reductions/8dd6f22c4d2f358e413f7d2d76b132b12b087f000/expr.ipynb\"><img src=\"data:image/png;base64,iVBORw0KGgoAAAANSUhEUgAAAJQAAAAbBAMAAABo9LvqAAAAMFBMVEX///8iIiJERESYmJiqqqoQ\n",
       "EBB2dnbc3NyIiIhmZmbu7u4yMjJUVFS6urrMzMwAAADZVrDbAAAAAXRSTlMAQObYZgAAAgdJREFU\n",
       "OMutlT9I43AUx78xaWN/bUMdtSBVFzlvcDlukTOrgpjJxaUI4nKCuOjWLAcKDo7HuWS/oR28g7MO\n",
       "/oMOYomLgwhWECeF4uEfCorvl7ahSZOmQx7kkdf34ft7v/f7vQYI0x6CgEQXIjp3ykEQ1tOF1BV3\n",
       "cSMMqeg4uZ8IQwoDgFzzyf1+HDOw+GR2lrKpTaps248aoS6yKk6Lf4rFcQRQyAER1Q86rGwAWtAG\n",
       "m5SgIufuujjUl7Zezj4lKkj5SLVRsQy+uBhltKldumd7flLtVK+GHQovSutb+t2WafXRrrIk6fdO\n",
       "qeT3tY36gbdTyRqGKcwO6+zVlDQrZa9cwrKoO6SiPaPIr3hTyjv2yatpyM8QqzyVaYESRplLyc1f\n",
       "boUCchVvSn5DP8DYG6QaEjyvzBfJGhA7iGutHTLyJibhTZHGPwqlKmIpRPhIyq3r4U5xSGEWOIU3\n",
       "RVV9pjBWgJDF9QrvpdYKiWrGIUVn9J/Bk1JecERhJAsqfUdWHSNZpmfJKTVHjYjCk6IT/EGvOZOX\n",
       "/teCBPv279brbVi+YG0iWvjmTYkarmlX5+DTOPWVp9jRZZ25eaK1mC0l0OgnU5CPVW+KbnvEdF3k\n",
       "5EJjJFw23ZmK64hlu/zfDuDyBlzH7WtM75yfoOekOykxID/IJzOUz5bI9y9thyG1avmZMKR+hfpp\n",
       "/gCgRp6i/WozFwAAAABJRU5ErkJggg==\n",
       "\" style=\"display:inline;vertical-align:middle;\" /></a><br>"
      ],
      "text/plain": [
       "defaults.assumptions: (m in NaturalPos, n in Natural)"
      ]
     },
     "execution_count": 89,
     "metadata": {},
     "output_type": "execute_result"
    }
   ],
   "source": [
    "defaults.assumptions = [InSet(m, NaturalPos), InSet(n, Natural)]"
   ]
  },
  {
   "cell_type": "code",
   "execution_count": 90,
   "metadata": {},
   "outputs": [
    {
     "data": {
      "text/html": [
       "<span style=\"font-size:20px;\"><a class=\"ProveItLink\" href=\"__pv_it/exprrange_reductions/6b3ff92246828fbfb97988abc8ee79a02ac1c4480/expr.ipynb\"><img src=\"data:image/png;base64,iVBORw0KGgoAAAANSUhEUgAAAEYAAAAUBAMAAADCRlZLAAAAMFBMVEX///9mZmaYmJgyMjIiIiIQ\n",
       "EBCqqqru7u5ERETMzMyIiIjc3NxUVFR2dna6uroAAAAPJcEmAAAAAXRSTlMAQObYZgAAAQpJREFU\n",
       "KM9jYKACOECEmgZaq2G37zBn4I2Pw2sOh8IcBoZ6Bh5j42BjIxxqeDy5FjCwYreLqcXFGazmRcFJ\n",
       "Bhasaji7CqDm7DxQXABXw3dn96pTnLfOgaWKC2B2bcjiPABXw8vRxVC/jiEVLHUa7p4NvA+04Gqm\n",
       "sRgw7L/AoI8aGDwbGI7zTAGxNgBxQf0DhvwChhNg5wQbAwFUTQ2DKdyd+QwMIgwMUSAmN7I5nBem\n",
       "wtUIMzD4MvD9ZgexA5DUMKhxwNXEMrD/Y2A02AZiS8HVTAD6ZgeMx/2Pge0DA/OFCyAOSwJUlDkB\n",
       "YgME8DkwcAkwsAltAMflieeQsPSPAIUW9njiuwGJCxQAADImPXnmmVDHAAAAAElFTkSuQmCC\n",
       "\" style=\"display:inline;vertical-align:middle;\" /></a> <a class=\"ProveItLink\" href=\"__pv_it/exprrange_reductions/181bca01cb63dcd7728dcbbafc35ce749ded9b410/proof.ipynb\" style=\"text-decoration: none\">&nbsp;&#x22A2;&nbsp;&nbsp;</a><a class=\"ProveItLink\" href=\"__pv_it/exprrange_reductions/fe159c9dc6ba9f57a72c4c031783489e5fd1f50b0/expr.ipynb\"><img src=\"data:image/png;base64,iVBORw0KGgoAAAANSUhEUgAAAQ0AAAAUBAMAAABlknXcAAAAMFBMVEX////MzMxUVFR2dna6uroQ\n",
       "EBCqqqqIiIgiIiJmZmYyMjJERETu7u6YmJjc3NwAAACgK8IjAAAAAXRSTlMAQObYZgAAAkRJREFU\n",
       "SMe1lkFIG0EUhv+YZN0kk0UQei7Y0kOhLl5ETwteelOw0ItgLh4KRRcpFE8GhVJKkeBJBGGxJz2U\n",
       "3jxIy1IoCh6Say/qqe3FGlAQJIhvlo1mdmZ3NiUd2GXzZv5/v7yZfTOA1UCqNq+InaEnLbA+Sjm4\n",
       "71QKsS+94QisP9M15+sHM08KFUlvzHT7VlnBrcs1sKHhFBwYlSI/ge8jrS4xVAqyNnlOTtJw/JAi\n",
       "a3SVu+VQKcj6D9JyFJ1IwKr2ioOslzQcE89+L7qDi8SQrUW6+mvJHLmRv2+fZEYfxXEI1l81HPa+\n",
       "y64cY4r0wUId3+Vthz+WGskc2dIe6m8wF8chWL9L5shUPsC6QLlJ67wa6TMryRwPTA/nNk5iOETr\n",
       "F8kcjF3CaKGPKkWmGenLO8kcft3Bgo+n3CbI4u5AJ4doreGA0UShirz7DxxYADaAl3HzIlhr5gUF\n",
       "D6aNyVMfuer9+thOMy/YBFaRu2ExHIK1bp3mbVB6N61KuE47mm6dYhqU+oL3K4ZDsB7jkWUf7JpP\n",
       "Gb/VvfAW/Dp3eHo/ZQnfjn4P/Lvtb0UVdw/WJU990Y7o7hSC9XMKrM/uNPCe52SFp/th+8ZD1E8l\n",
       "5tUxFZuBaH2giSo8vt6C+bGtWOmUUj+VGGNL3CDvFYK12R5lyHMjhg6VdT1orzVSuYmKw2CfC7Os\n",
       "KET6fS6sSBqpojxK1t/C5wN58IFm3y+FuWRuslRRllzJun0OUhzLGqqXKs5BZY1UsdfJ/yftufD4\n",
       "/50LyfoWOXbRQ79/oGYAAAAASUVORK5CYII=\n",
       "\" style=\"display:inline;vertical-align:middle;\" /></a></span>"
      ],
      "text/plain": [
       "{m in NaturalPos} |- (1, ..a.., m) = (1, ..a.., m - 1, m)"
      ]
     },
     "execution_count": 90,
     "metadata": {},
     "output_type": "execute_result"
    }
   ],
   "source": [
    "ExprRange(k, k, one, m).partition(subtract(m, one))"
   ]
  },
  {
   "cell_type": "code",
   "execution_count": 91,
   "metadata": {},
   "outputs": [
    {
     "data": {
      "text/html": [
       "<a class=\"ProveItLink\" href=\"__pv_it/exprrange_reductions/47ed91bd9bc1f393aa52c715ad9b4e7c35a2fef60/expr.ipynb\"><img src=\"data:image/png;base64,iVBORw0KGgoAAAANSUhEUgAABG4AAAAWBAMAAABj3cfmAAAAMFBMVEX////MzMxUVFR2dna6uroQ\n",
       "EBCqqqqIiIgiIiJmZmYyMjJERETu7u6YmJjc3NwAAACgK8IjAAAAAXRSTlMAQObYZgAAByBJREFU\n",
       "aN7VWl1oHFUUPpvd7OZndrMgKuJDIlUC/sSlLyGlYqhUFwSbalGQqvGhNIK0SyrEYKEhaoU+1GAe\n",
       "rIXAVvug+1Dy5kPaOlRKSytkCyK2YrsU0YjGbLUYCLF4f2bm/sydO/dusrYeONNNd+53vnO+s/fe\n",
       "+QHIVYG4se0xP9UKlyJHoS9yvh7UeEvXzM9tFgc6MGCCK7fYIEhzxOFqRVhe9NzYWsyrfNGOE0aO\n",
       "QHdmma8LNcH6jM9sHgc6sI9VTh/mPxeHrxX2E57vcrmm2qkrXdk4howbJ0o5Er2jxjzih7BTGmwR\n",
       "+ILxmZYcbIwMvMAqpwyjVcZenAbsAvXsFHFnw+OszGc2rupG9vs5lCJO2O39K+PGWj+HLtplzpVG\n",
       "ObPBVoGTpZiMgi+sOFhaP2OCVbkcGWG9xGnIMEPkbairscM1rsxZLbuzptRCuHF2lkMX7TDnaiOc\n",
       "+cEWgZ0h076x5GBlZxkTXLnDkRHWT5xGpsUh4gvo4wJY9U3HoCG1BUv5CLKPLu7hJpjrNOMH2wQ+\n",
       "btg3thysjAw87ldOHSa2b+zEacSOEx9Hx3Fd3zhjfc+IU29yypCajPtU3y/jJQ0wQU6q5s/MFHOE\n",
       "Mlq6a3RQVVF+MJ/QudGf9pU0tRgw7Bs7DqmNf4x9rMs3nL3HZJyGwQC9if4H1cook7IRJwQfK5Bf\n",
       "qwE4hY6ndH3zNXxfOiRWp2xITcYtzJWcWxpggpxV7ew6q8wxyvJgekilGT+YC+wUsh+06XaMVwz7\n",
       "xo5DsvNLmK9p8g1n7zE5RcMQgLdgl1IZdVI24oTgYwXya3UFDqLjQVZmh2dH/mczPOk+B3A/+Z8E\n",
       "vjZMTxhSk3ATw4cgd0MN7CFOEHekFRUtxsOBE5S/IFtXaUapuSAllHSTqyl5PU/Q61wSf8Swb+w4\n",
       "3INkXcr7JLx8RZOzx0xcUjkcigAU4BpLilMmlJS1ODx8tECyjRDfgY47WJnny4yds0Ih5tDxviOE\n",
       "2SeYVQKXK1mpfP5ypdITgt1UqbxfqXwKYVzHuUlLHQb2M68Tnxd/RejPVrQieI5R0qvQgovkVIjl\n",
       "A84JBs8n5EBn6GYIzcWL363LiPvCjoM7P0hFISRovqKFskdM8NAdNBQG2OvCIywpThk5KXtxOPho\n",
       "gULWTVzqm7Yerqsn6YnL+FCkK3ZAzaSlZdx0HVrKamChb9rEhNGfXN9glPYJaC2pfuuU2iTICUFX\n",
       "mGuK/jKLfi1M5htLDnsBHuZILIeBi+G+wUO9vsEAqLNeYkkJykhJ2YvDwUcLpO4baZ1S7NoTN6S+\n",
       "STWwThFrL0NX1VUCs8xTqusIbp3CKG0F2FZzFZrxg4Xrqe68tm+KduuUKYejAP84Ur7RfUMGFv3K\n",
       "4TAY4F1I3XLUykhJ2YsjwysFUlEuxu+L38zUYb/QNw3vi1sLaFosqICzM/eOm+6LEQqaX4/mhs33\n",
       "xWn3AGRcHCQzmlf1je2+2JDDC2g1S4r5Xr40NjX2gNg3XPbivhgBoKWjvfyzSplQUvbiyPAqgRhh\n",
       "/CnYFw/4134HuL7JMHapvzvr+AkY1zftBYEaXWxXgs0RoybjLg3CpmxeBZzdWm2tUWSKTpbbADi4\n",
       "QMeOUND8+llSvlRf5ahJgbcNfwWLJMijmR5V30yLxZaisy/sOORuQrJ8Scz321fgeXdU6huWvcdk\n",
       "gIZBAGjp6CgUVMqEkrIWJwSvEogRRp9e9RhOe7MOwEevfRE8H21/aGUmuJjp3T/+o7hOdeTFYk76\n",
       "B39fspsrCo+L/r7+nRL497ehy6XIFJ1ABcDBAoa9SO49vHFVlIxy7mAzNx/4zNi5mSoJMshU5fvm\n",
       "mLQcidHZF3Yc0Jm5x4aFfHPnJuCm36aK7D0mxSBUZgrSMzWVMqGkrMUJwSsEYoTxp1WP4TH2nCHG\n",
       "uL45v663silwL2z1kM83+JyB2Hntt71wN942PDuHzOX7xpkwXKfWzqGllBhCe4sU5nAynL3HJPI5\n",
       "Q2RSzRGHESafUkOUIXLvuaZN3/j3EJ2oG/nf2Dw6o8DbYTqxpuea1PTPFLfDO7CUUMw3/nPNyIyC\n",
       "L9bMoTWfmc3V81HZxzzX1CbVBHEEwq359kLef64Jp4F6jI0A/OaSu0oWj+oNcClwrg7vva57j6Kz\n",
       "xlzzzE1LDQXphR+S3G223El6G8v8PYq1coAl9LPNzhYisg+YnI4LIyfVHHEYYVSqJWh7Ou+/R2H4\n",
       "3tavH6L5cDh35M+SYT7EDF4NosCpHthX1Yli9t6WnhoKcgKub/YLjnJJvEjim5YQ1s4BtkBHLbfB\n",
       "jcg+YGL83pafVFPE4QijUm2BzBNsnrF4T5Ru8a4aMzN+FdHbO17VoBu9J2pBzZtz6JRtXuwmcOCz\n",
       "D5jYvyfaNHGEUhGGNvUCu9dw7wzgWNsDt9/WJ/um17DxUmWbRSl72zSr3gF9k/1/1FAs1b+XpoAc\n",
       "qROzawAAAABJRU5ErkJggg==\n",
       "\" style=\"display:inline;vertical-align:middle;\" /></a>"
      ],
      "text/plain": [
       "((1 * 1 * x_{1, 1}) + ..(1 * j * x_{1, j}).. + (1 * n * x_{1, n})) * ..((i * 1 * x_{i, 1}) + ..(i * j * x_{i, j}).. + (i * n * x_{i, n})).. * (((m - 1) * 1 * x_{m - 1, 1}) + ..((m - 1) * j * x_{m - 1, j}).. + ((m - 1) * n * x_{m - 1, n})) * ((m * 1 * x_{m, 1}) + ..(m * j * x_{m, j}).. + (m * n * x_{m, n}))"
      ]
     },
     "execution_count": 91,
     "metadata": {},
     "output_type": "execute_result"
    }
   ],
   "source": [
    "requirements=[]\n",
    "double_nested_lambda1.apply(*double_nested_operands.entries, requirements=requirements)"
   ]
  },
  {
   "cell_type": "code",
   "execution_count": 92,
   "metadata": {},
   "outputs": [
    {
     "data": {
      "text/html": [
       "<span style=\"font-size:20px;\"><a class=\"ProveItLink\" href=\"__pv_it/exprrange_reductions/6b3ff92246828fbfb97988abc8ee79a02ac1c4480/expr.ipynb\"><img src=\"data:image/png;base64,iVBORw0KGgoAAAANSUhEUgAAAEYAAAAUBAMAAADCRlZLAAAAMFBMVEX///9mZmaYmJgyMjIiIiIQ\n",
       "EBCqqqru7u5ERETMzMyIiIjc3NxUVFR2dna6uroAAAAPJcEmAAAAAXRSTlMAQObYZgAAAQpJREFU\n",
       "KM9jYKACOECEmgZaq2G37zBn4I2Pw2sOh8IcBoZ6Bh5j42BjIxxqeDy5FjCwYreLqcXFGazmRcFJ\n",
       "Bhasaji7CqDm7DxQXABXw3dn96pTnLfOgaWKC2B2bcjiPABXw8vRxVC/jiEVLHUa7p4NvA+04Gqm\n",
       "sRgw7L/AoI8aGDwbGI7zTAGxNgBxQf0DhvwChhNg5wQbAwFUTQ2DKdyd+QwMIgwMUSAmN7I5nBem\n",
       "wtUIMzD4MvD9ZgexA5DUMKhxwNXEMrD/Y2A02AZiS8HVTAD6ZgeMx/2Pge0DA/OFCyAOSwJUlDkB\n",
       "YgME8DkwcAkwsAltAMflieeQsPSPAIUW9njiuwGJCxQAADImPXnmmVDHAAAAAElFTkSuQmCC\n",
       "\" style=\"display:inline;vertical-align:middle;\" /></a>, <a class=\"ProveItLink\" href=\"../packages/proveit/numbers/number_sets/natural_numbers/__pv_it/theorems/ba5849e6de22ec92714c647d41d92ef0cc8fb69d0/expr.ipynb\"><img src=\"data:image/png;base64,iVBORw0KGgoAAAANSUhEUgAAADUAAAAPBAMAAAC2KZqIAAAAMFBMVEX///8QEBCYmJgyMjIiIiKq\n",
       "qqrMzMzu7u5ERERmZmaIiIjc3NxUVFR2dna6uroAAABXsXCEAAAAAXRSTlMAQObYZgAAAN5JREFU\n",
       "GNNjYMAExT+aCxgufnzAgA00sR1gYP+AVYrhSMIqBgYBVDENFxcDEH2unSeBwQFFKmM5lHE6h90c\n",
       "JMd3Z/eqWWARIB8mx7ogByTHy9HFUL8BJMKzAS7HcI9pAVAulcWAYX8CSISDASHHU3AMKFdQ/4BB\n",
       "HyySaAwEBhA59gPMIHfGMzAcBsvtQNLHkMsGkpvMwPCJHSTCiCzHFNAAZMgysH7nBYlwLoDJHQPi\n",
       "20A57n8MvAZqYCFXmJwpSCXQZj4HBu5DAWChmr4CMJ3yEaiH3QA1zN62uCCLAADDBTVfYPhN3gAA\n",
       "AABJRU5ErkJggg==\n",
       "\" style=\"display:inline;vertical-align:middle;\" /></a> <a class=\"ProveItLink\" href=\"__pv_it/exprrange_reductions/543d1b716db1b725c39b44a4440907eea5f27a720/proof.ipynb\" style=\"text-decoration: none\">&nbsp;&#x22A2;&nbsp;&nbsp;</a><a class=\"ProveItLink\" href=\"__pv_it/exprrange_reductions/f5d0fa58bf2f19138cf8b01d58975bee4df24a120/expr.ipynb\"><img src=\"data:image/png;base64,iVBORw0KGgoAAAANSUhEUgAAA8cAAAAXBAMAAADU9yDbAAAAMFBMVEX///9UVFQQEBCqqqoiIiJm\n",
       "ZmYyMjJERESYmJjc3NyIiIi6urp2dnbu7u7MzMwAAAADGpxCAAAAAXRSTlMAQObYZgAABg9JREFU\n",
       "aN7tWltoHFUY/pPNJrOX2QQf1ETFgi9eayh5yUNsilKIF4xQJUge9kWhFIpvMYK4oIkGoU1RsSqS\n",
       "LRiE2DZrXRBFcPoQkZTiVCSFIGRRpCCUrAjFWlI8l5k558y57DmxKYT0wOyePft///ef/5s5l5mB\n",
       "y3CrwOWWDdu4lEI4RyrHd6i6mVnydS7dzrIiZWbQ7FHO5KBDPLmKPkgnDGGlwGKNdsd/Zadew70G\n",
       "kXFW5My0GVOuyKQZIJaLhiDdMIS1lxe5c3ZbX46PcD/2hE7YFYPIOCv4YP5xzS+b/In2VPeyfTgH\n",
       "pRbcnxVHTMK6wos8tZ01vnB2g3Xt7nvdRC5W9SJP0YP5p7Vlk78pMR5Slq2j8UbTUpH+0CBtMRwr\n",
       "AcYij2zrIdfjk3rUTWR/l17kkehg/kntZ5O/kXQ8rQBC6ZBHVNwfGqQ9JmElwEjk3PCOFRkOaUXG\n",
       "WSGZSYncWTMsgoYVIpsAYnkflCLTIO0xjPUQEzmPrnh/ofdbm3HF1i5dVk98crK6NShbkb/r/Xg+\n",
       "cVY4+9HCi+h7SSsyzgo+0iIXR/WhiPYRoQkglnkaV19p+S6hP0suGJ51iYnchRbhv8Jb1f0Wcdja\n",
       "pc+NwHuyo7w1KFuRg4mqfzWZjLtegzU00k0nIhdfJmU0bsBZwUdaZM8QkGgfEXrW/X41iusL2CP0\n",
       "Z9oFw7NOM5E7+gHOw0/hNwCX6P5Zv6US7BwWOGFxo5CePSKaS5tCSSKHLUQu9e+H3PXY8nd08sw1\n",
       "AAa0VzLOCj7SImcMk5tgHxNmrGfDx6O4AjgqiDzggBFYB5jI7TXc8QlU++MAsXteHxZv53JNQpd0\n",
       "4kQ0Bl8GlCSyf6WFyL5/DbxmbBmu1UhW1rUi46zgIy1yqanvpmAfE5oAYnmIxrU3hDsEkdcdMALr\n",
       "uigywL/4o04nLNO5x9m5lG55bo1o6ptCSVfyvlbDdaYJbeXEci/A7VsrckzoJDKOC531D7qILGJ4\n",
       "1nVxuIbSdTuReTuXst7YjMh6lPucnC1DdyX5+wWAf/yInJ+Te1oN1wXb4TomLLgM1ziup6Fw1ef7\n",
       "U3fB8Kx1ceE1lG/CKQuReTtv7M9527tS4SLkQwzIn2hYi2xATR1ZGHUUuT1Ag1oQ/3oYMhtFfuGV\n",
       "vpL//8IrInRaeKG40HibLb/nsPASMTwrt/BCq+3C311NfKebibyGjfAHmcLiimDnnam0z4r/p34l\n",
       "le/734DjBHBPvkcWWUaRDwPq3fvhgWgezvMiL4apOJjbuRr84MXnSu4aFMtHAMa1IuM9CNmHYP/E\n",
       "E2XKBsoekg/RPiLUAOQE4x0PiguNt51BEK0xFrHI46AFyxiedZyJjNLm952af0cYrjuewcNPTzSF\n",
       "kcoToWj36WfQHZJmZsiseRhcWFgdqxBALRsormTBB6lgfj0qtzoMGxSWve3KWKLOc4++VCGtnKM4\n",
       "BsRz7E3OS+5ONLge1oqMefBB/JNsUKbORhSd2FVCIdpHhBoAC25f/H+deECb7czYLO0F6Q8NUp0i\n",
       "GcOzHlbe1uSG6yHF6Jmy64MzYrNm0E2qffAbnre+nkAl5EVW+BgyotqqhV06akWrLkZ/uPVtzVQ0\n",
       "v6R+CxQKey1A7q5wi5KFTIPUpEiDIawEKD+g4EQO5G0rpOx2w3hJaFbvdll1N3wOcyXFlazwERhR\n",
       "7Y1s0NBQF62abB9QpKNZTv0WKBT2WoDcXeFhQzEVZNEJIz+g6ErOBrR7/jAkG2lf3ryssiqxyzXh\n",
       "qceEZvW9SXZrt4muyreTSBBN7nW6Y5d9MH4lag46vmpoqFetmkgxPWrEWYkzw6KhTw512ZHt9QBF\n",
       "dyeVIa9oumDCyI8ak0fdHzyLhsb+3IG/quDJgVSSGrUr9MDJCt+sLux/BDgIx87H4iGa0n3El8KH\n",
       "Z0Z9CfkfddQVqyZgGWr90gCLhsqoy45srwcountRGfKkpgsmDGGdjEQ+TZqEl1b6LRf8tnbmCfsm\n",
       "ohSppRfe6XQ7y4r0Os+M2aP8+s+MQzzKV3m8zbz+M5MA8w1VAi1fE8nckNdJBm8i6lZRjJM3xs52\n",
       "LN961E4t/wF31Lk4Lb15CAAAAABJRU5ErkJggg==\n",
       "\" style=\"display:inline;vertical-align:middle;\" /></a></span><br>\n",
       "<span style=\"font-size:20px;\"><a class=\"ProveItLink\" href=\"../packages/proveit/numbers/number_sets/natural_numbers/__pv_it/theorems/ba5849e6de22ec92714c647d41d92ef0cc8fb69d0/expr.ipynb\"><img src=\"data:image/png;base64,iVBORw0KGgoAAAANSUhEUgAAADUAAAAPBAMAAAC2KZqIAAAAMFBMVEX///8QEBCYmJgyMjIiIiKq\n",
       "qqrMzMzu7u5ERERmZmaIiIjc3NxUVFR2dna6uroAAABXsXCEAAAAAXRSTlMAQObYZgAAAN5JREFU\n",
       "GNNjYMAExT+aCxgufnzAgA00sR1gYP+AVYrhSMIqBgYBVDENFxcDEH2unSeBwQFFKmM5lHE6h90c\n",
       "JMd3Z/eqWWARIB8mx7ogByTHy9HFUL8BJMKzAS7HcI9pAVAulcWAYX8CSISDASHHU3AMKFdQ/4BB\n",
       "HyySaAwEBhA59gPMIHfGMzAcBsvtQNLHkMsGkpvMwPCJHSTCiCzHFNAAZMgysH7nBYlwLoDJHQPi\n",
       "20A57n8MvAZqYCFXmJwpSCXQZj4HBu5DAWChmr4CMJ3yEaiH3QA1zN62uCCLAADDBTVfYPhN3gAA\n",
       "AABJRU5ErkJggg==\n",
       "\" style=\"display:inline;vertical-align:middle;\" /></a> <a class=\"ProveItLink\" href=\"__pv_it/exprrange_reductions/aa3f750a3ed966c00e2904974f4f3bb0735be1940/proof.ipynb\" style=\"text-decoration: none\">&nbsp;&#x22A2;&nbsp;&nbsp;</a><a class=\"ProveItLink\" href=\"__pv_it/exprrange_reductions/b6a660188555e2752736ca25faa84acd1d5de40d0/expr.ipynb\"><img src=\"data:image/png;base64,iVBORw0KGgoAAAANSUhEUgAAAWAAAAAVBAMAAACK1ym5AAAAMFBMVEX///9UVFQQEBCqqqoiIiJm\n",
       "ZmYyMjJERESYmJjc3NyIiIi6urp2dnbu7u7MzMwAAAADGpxCAAAAAXRSTlMAQObYZgAAAwlJREFU\n",
       "SMetl79rE1EcwL9p0ubS3GuDgyYg2D9AMUiXDqURRMggxEWkdMiiS6HoJDodSIoutuISXZrFxSEG\n",
       "6Sh4HepgllOkQ5cUnEsCQlFLxPd9d+/um8u9+2Fz8HLJu+/7fD/v3nuXd3AMEzuOIysmkaMrzs0z\n",
       "UdLb4tT113tsH38pnNcM4Ls5BJQ9OFu/SyHCyMaSIjlS22E0YXPBzy9R4RnswhUScc1KJHwQIoxs\n",
       "LCnDuV08D6uH0TAain7+ARVuAHzdG3pdvHgpmbDeUgs3nOIcdp4vYbRGIF/mENAqL9qQRGwlE2YL\n",
       "auGqU+Qh8nwLo1UD+TIHQnOVMwrDulIY2YI/IjzTUbNGogl/3ROerSUQ/lh687Ylf+T3Xr9b5ed9\n",
       "pTCysRyuUmG9phbGaOakoPx9TzhrJBA2H7XYb3dyZZ9Aj6+RTVdYvy+OmqxANhbzAxXWQlYdRuv5\n",
       "hTH+piecKXvCVoTwXPkm5P7KyB+ZOuwcASwq7zCyecmV71DhdEUtjC1eTds9ovxFT3iq4wqzkwhh\n",
       "xk5BG8hIq9eBLX7uK4WRzQuDP1R4bqAWxhbWvD0lKL8fKAzXo6ZEegCpuhu5AnA+jjCkh0mEYcUR\n",
       "IPx+8JSInMN8sOYN9zIf6F8MYNc/hwu+KQHZAhXOR0wJeDjO3/3PRTdl8u6b8tdlfut0uuj8d1gu\n",
       "ul7ZTLDo2E99jE8WnXjIzFLh95Y9R8VHrw7k104HPmtH8pl5Cnr9BcCaUhjZWD7lDHt9iDzTpsP1\n",
       "4O4XjM4PmqKC8tc8YRyg6XMnd91Mt6/eM+CG5UzUTEHOWKziI/PyqfscrkCuyIdwQymMbCypZ3Zz\n",
       "O88M9jhzi8LFF4wQ06VoiMuUv+H7ax5fXVacKvvRUYn11+w1/y4+l4MTSJvlEb7M0Q3ebuDQxKpK\n",
       "svnxmtubHzM4gbQx1ZufbND+9DBWVeT2EtkO321uby9ZKziBE00uj20vAzfwRqwqcTyOsYGnzW0l\n",
       "TZHAidZG+TJHewKvSJp9S9r++rbqFel5slck5Msc/wClwjDUfiTJZgAAAABJRU5ErkJggg==\n",
       "\" style=\"display:inline;vertical-align:middle;\" /></a></span><br>\n",
       "<span style=\"font-size:20px;\"><a class=\"ProveItLink\" href=\"__pv_it/exprrange_reductions/6b3ff92246828fbfb97988abc8ee79a02ac1c4480/expr.ipynb\"><img src=\"data:image/png;base64,iVBORw0KGgoAAAANSUhEUgAAAEYAAAAUBAMAAADCRlZLAAAAMFBMVEX///9mZmaYmJgyMjIiIiIQ\n",
       "EBCqqqru7u5ERETMzMyIiIjc3NxUVFR2dna6uroAAAAPJcEmAAAAAXRSTlMAQObYZgAAAQpJREFU\n",
       "KM9jYKACOECEmgZaq2G37zBn4I2Pw2sOh8IcBoZ6Bh5j42BjIxxqeDy5FjCwYreLqcXFGazmRcFJ\n",
       "Bhasaji7CqDm7DxQXABXw3dn96pTnLfOgaWKC2B2bcjiPABXw8vRxVC/jiEVLHUa7p4NvA+04Gqm\n",
       "sRgw7L/AoI8aGDwbGI7zTAGxNgBxQf0DhvwChhNg5wQbAwFUTQ2DKdyd+QwMIgwMUSAmN7I5nBem\n",
       "wtUIMzD4MvD9ZgexA5DUMKhxwNXEMrD/Y2A02AZiS8HVTAD6ZgeMx/2Pge0DA/OFCyAOSwJUlDkB\n",
       "YgME8DkwcAkwsAltAMflieeQsPSPAIUW9njiuwGJCxQAADImPXnmmVDHAAAAAElFTkSuQmCC\n",
       "\" style=\"display:inline;vertical-align:middle;\" /></a> <a class=\"ProveItLink\" href=\"__pv_it/exprrange_reductions/c752539cc5e418e8b7762c97382576e6aabb4cb20/proof.ipynb\" style=\"text-decoration: none\">&nbsp;&#x22A2;&nbsp;&nbsp;</a><a class=\"ProveItLink\" href=\"__pv_it/exprrange_reductions/08de3af2d29a46ff72fae9e77df0ade35cc4ba640/expr.ipynb\"><img src=\"data:image/png;base64,iVBORw0KGgoAAAANSUhEUgAAAKUAAAAUBAMAAAAek+A5AAAAMFBMVEX////MzMxUVFR2dna6uroQ\n",
       "EBCqqqqIiIgiIiJmZmYyMjJERETu7u6YmJjc3NwAAACgK8IjAAAAAXRSTlMAQObYZgAAAa9JREFU\n",
       "OMuVlb9LAmEcxh89PT09JQiaG4qGIA4Xqemgxa2goKXBJaQlRYJoE6KGJscQhKu2G6KtIQoJgqjA\n",
       "/gJzqqYUEoKQ6L33Xs/u/PrrA89x95zv8/649/0KxF/A1ZedMVzBk1Bf/PXRXcGFEIm8CajGaG6X\n",
       "WNEWyV2iza7JzmOGdHsJ12316dFqfe/J9Li9fAgNyIzoVKbj9rJvK5D43JvzJWeoTKlIZUreBVte\n",
       "eM/nJvOsqxtwSdErVHexRWXGDCrTdiWTY+Vr1zn1W5dXgSNwTYUNNDS8Uplygcp0XIEvfYz4F2JN\n",
       "YB1claqObAXz1ttH3vWp09rXtG6XTPPQNM88bhdVbUFuw3/pZCILnAAb1Did1hnSdXZtE0oBwZwz\n",
       "d5SAAwR+VSIzQM7ddsV6TrNbxUBYw0q90vlGWAMbu2K8jfmN/hHUwBawFE9jkT0xxVvW2COa5v5d\n",
       "yGqtaJ5Mt9uhoVsLeC4BKXCxmYSKkMvuE6XM/pTZ7p5wZ3rcDim+0bdrw84m58F7Nt3umDXExqkW\n",
       "z6RLcCvUF7qqDap1w2tytD66Kxj631Ebw+X8Ac1rkjIrcvx0AAAAAElFTkSuQmCC\n",
       "\" style=\"display:inline;vertical-align:middle;\" /></a></span><br>\n",
       "<span style=\"font-size:20px;\"><a class=\"ProveItLink\" href=\"__pv_it/exprrange_reductions/6b3ff92246828fbfb97988abc8ee79a02ac1c4480/expr.ipynb\"><img src=\"data:image/png;base64,iVBORw0KGgoAAAANSUhEUgAAAEYAAAAUBAMAAADCRlZLAAAAMFBMVEX///9mZmaYmJgyMjIiIiIQ\n",
       "EBCqqqru7u5ERETMzMyIiIjc3NxUVFR2dna6uroAAAAPJcEmAAAAAXRSTlMAQObYZgAAAQpJREFU\n",
       "KM9jYKACOECEmgZaq2G37zBn4I2Pw2sOh8IcBoZ6Bh5j42BjIxxqeDy5FjCwYreLqcXFGazmRcFJ\n",
       "Bhasaji7CqDm7DxQXABXw3dn96pTnLfOgaWKC2B2bcjiPABXw8vRxVC/jiEVLHUa7p4NvA+04Gqm\n",
       "sRgw7L/AoI8aGDwbGI7zTAGxNgBxQf0DhvwChhNg5wQbAwFUTQ2DKdyd+QwMIgwMUSAmN7I5nBem\n",
       "wtUIMzD4MvD9ZgexA5DUMKhxwNXEMrD/Y2A02AZiS8HVTAD6ZgeMx/2Pge0DA/OFCyAOSwJUlDkB\n",
       "YgME8DkwcAkwsAltAMflieeQsPSPAIUW9njiuwGJCxQAADImPXnmmVDHAAAAAElFTkSuQmCC\n",
       "\" style=\"display:inline;vertical-align:middle;\" /></a> <a class=\"ProveItLink\" href=\"__pv_it/exprrange_reductions/5bba3dcc3c0d3be21993a97f22108d4ad3701a4b0/proof.ipynb\" style=\"text-decoration: none\">&nbsp;&#x22A2;&nbsp;&nbsp;</a><a class=\"ProveItLink\" href=\"__pv_it/exprrange_reductions/21234585372393dbcbc0b3eeed2df2420ccda7c10/expr.ipynb\"><img src=\"data:image/png;base64,iVBORw0KGgoAAAANSUhEUgAAAQ0AAAAUBAMAAABlknXcAAAAMFBMVEX////MzMxUVFR2dna6uroQ\n",
       "EBCqqqqIiIgiIiJmZmYyMjJERETu7u6YmJjc3NwAAACgK8IjAAAAAXRSTlMAQObYZgAAAjJJREFU\n",
       "SMetVk1IG0EU/uImmx93gyB4baAVD4IOXsTbQi/eDLTQS0EvQgtSlyCIJ0MFEfEQ9FIEYUu92EPp\n",
       "zUNpWQpiaQ/JuYeaU+1JAwaEEMSZSWw2szvOpM3ADm8f733zzdu37z0gW0E/llkN63ShX7HtB/qz\n",
       "JsIqXegBdocP9Fn0e77+c1HzPWykC215gF2C9XCyVx5fp5qiynBFjT70NJBiMTnrOR52iIeVFzX6\n",
       "0CfAH/SJBw5FhT50xsGawvjxxHnBHS44Eh7xqYvVsdj0IyrOiK760EYJnxXG5JNrXTtmXsLDGDxG\n",
       "eQWLVPzJ39/zVWKyPrTtYfN+49jCNrJXsGsSHiMpD5cEZ1R8IfrqQ5tFPL3f2LLqMJsY+Mjk1l2H\n",
       "gjz8soNlH+NUfCD66kPHaipjmDWki0i4sjxdBt4Az/6BRwCa8lAED2kPKYK5qi/hsQ9sIH5jAbOB\n",
       "/MhpfJcAdLyoTKYEAQ39fnZBwuMJaHjT3u92ngaXPjTNU/63rfuwGuyTsa3stTf+dumw0L8zBIxk\n",
       "s2WTrbPwZggB9sRzoqE7Z3Sg04RHc3f+qIItRvw1K4O5u42pZnkdePlLCOlo4wCpHbCIJkswD2jp\n",
       "fCvykEBzYQdB6MxQq/jyrAkH0FTUwqWu9C9G1nUJTpcrvvFm1K5I4XMMRTkmyj4nxSFin8OXtnwa\n",
       "Nj5VtGtX0ffl0N2urO//HVYiZifFOGVHHhoxB1UUroPVHoY3VQP+j7mQZuotfjPWIHAO5oUAAAAA\n",
       "SUVORK5CYII=\n",
       "\" style=\"display:inline;vertical-align:middle;\" /></a></span>"
      ],
      "text/plain": [
       "<proveit.magics.HTML_DisplayObjects at 0x7ffa4a0ac278>"
      ]
     },
     "execution_count": 92,
     "metadata": {},
     "output_type": "execute_result"
    }
   ],
   "source": [
    "requirements"
   ]
  },
  {
   "cell_type": "code",
   "execution_count": 93,
   "metadata": {},
   "outputs": [
    {
     "data": {
      "text/html": [
       "<a class=\"ProveItLink\" href=\"__pv_it/exprrange_reductions/208400a0d5cf477af35df4846cd195719c12a1640/expr.ipynb\"><img src=\"data:image/png;base64,iVBORw0KGgoAAAANSUhEUgAABEEAAAAWBAMAAADdi5+7AAAAMFBMVEX////MzMxUVFR2dna6uroQ\n",
       "EBCqqqqIiIgiIiJmZmYyMjJERETu7u6YmJjc3NwAAACgK8IjAAAAAXRSTlMAQObYZgAAByhJREFU\n",
       "aN7VmltoHFUYx7+9ZG+Z2SxIFfEhkSoBL3HpS0ipuFSq+2RTKwriJT6URpB2SYUYLHSJGqEPNZgH\n",
       "ayGw0T7oPpS++dCLgxIqaSFbELEV26WIVjRmq8FCiMVzmcs5M+cyM0mlHjhpM5n5ff/vO/89c3bO\n",
       "ABRbEL7t056xBJHavminE/zSRgLtlmnrzsB1UtZKjwineel2qI9DdZSdj3JFUifFOBlNQjJaWTFe\n",
       "HSIZc5wGdCec19ZqIK5DOM1RKxgudCyqrewE6nssxo8vqQI1NMhC24fTKW9EUozxBakHsHQOGEHI\n",
       "gu6EE3YXNxxpIa5DOM3C9HSJLIQpXExl5jQYmx/zBHy1ZU11ySD5uVfwF3rsEvA4bZMDJXjShY1K\n",
       "H/TSiyIkVSMeqwl8R46hOpEuLiSJlKrFtcigL0UhXq9ePS5xleWwua4yAkylQ+Y1So6AD6dr85Ec\n",
       "csQJIWxE+jxzIIIQY1jtEFynnPyDiCNRRJw276+gCK9XrxuXeMquQySHFCpKJcV6VIfIgRI8DSF3\n",
       "CAVGdggcVzvkut0VDqGIOI0pgjg9bSLHIcS4xFM2oXLIubGfDvA1S00rlWSnfbgnB36ZqCl4CqAE\n",
       "jzuijtXuGquIHJKaFhbWGB94elAVYEjtkAna01v+GO9PDD4gHMIhSdra2EwRxOmxAyQoohNaOS5+\n",
       "Kk7lIw0WKzujcIhRNt/P8UtJs6FU0t3y4cqnasYtBU8BlOBxx9SblcywyCFmQ1jYr+H72mFVgMtq\n",
       "h5yhPdX9BSy+CXuEDrksTlsfmymCOD3W6oIiOqGV4+KnklTaaixWNuUJMFiH4CMpK7WWbkOCflO6\n",
       "j5SrrlSSG/Fw+Edi5DAUb4h5dv3rERyC8agT6l9gdkQOoUALfHltgyesZ/xQkpKtZ1TtkCna70ZV\n",
       "XC7DVaFDRp1ofNqq2IEi+NMLJGIX0WtE/ijoxiVAJamUpFhX2XOegMWG5xBjlVzajaInPib67z1K\n",
       "5HRga7P5XrP5CQdyjnVVXBwlGCtUU5Dn5CcGghSPOqZm1iCJS2M0SSu50hNuOC4vC04FsHZKVE8v\n",
       "pJrNz15sNvu4WdY5huuEurVYgf0WPEy+YpLIc16kXican7YidrAI/vQCidAiMtcS+b2gG5cAFady\n",
       "VYr1lDEOyfUxc8gk+dmDPz9pOqJVcOov9yrjEErIdCDZEPNcCeHnENshmJqvQ1dNNIdQ4CT484Kb\n",
       "QWiV3pBthyjnENshsB8Aje0Lwjmk143mS1seO1AEf3qCRHp4kem6E1o9LgEqSuUhOdZVNqX8LtNb\n",
       "8jkkHf4uQ1q+AT0tS8hj8ot4l8HUXBl2ti2BQ1g6m1fihtoh1VB3GTgG8A6kbxkih1RlactjB4og\n",
       "To/7LkOK6Lu4qr3LBKkolX8MKdaFq1aqGesQZC3OIVFXql1lNCmXRbxLF8en465UERVNkceKI+FX\n",
       "qm9kO3CQBB2/X+iQcCtV2A1ots43flavVLm0FbHN2XsmgivVYHpMIrSI+MLsWMmVH2KlGqDuRned\n",
       "lAzrKSNfkw4xDsl6Dtk58iXe8WEdki+7UckNd9W9V+71vrYxuOUKbDVLIt63L8MrEiC5MfK/eXjc\n",
       "ERVNkZ+mfMUg0vNl74AnJP13d6fYwkGftcaEDplx3eBGpYlRhwzRXlzBs3WhXPaFJpFmxGkrYps7\n",
       "Wl1trgji9JiK0iLiCx/J9rnyZ0BSRjkVpZJqXJRhPWVY6Ievfu5uWuYfXJ11H2OPn5tt8Q4plLyZ\n",
       "q8+5oU26x8ipLA5ddO07Ea94rg5rEiD5D/+bh8e9Sp5NvH6FHyUqveBNlowQo//gxI8k6AozkKxD\n",
       "5jw3THLZ0WNV2tG52WnIzPpW/TTSHAjTVsT+/S3osbgiCNNjK0qLiC+sUGMR+XMgKaOcio4VHx2R\n",
       "YT1lOf2WDuuQbzbg6S7lJWvpYSUw+lN38BRKWrKWGEbLifQp1E5zDjHq63rqDi4iWux+2OErQsjn\n",
       "4/2wyV71Yfl26PU/dfewrjLpbpTYIfTR4AXBWRdC7xBRXlcpXy6pgDL8Je1ek7x1lbIni52SYA6h\n",
       "e1+G4Ok2PabcubO/Gat37oSxd8FMgi9CyD22XfA2LCcc+Xbo9Y0Lj/WUndVelUHT0Wn6UEa7Wd+t\n",
       "n5Js3jLknipF3f3HeHUINXAZfZLNk+4iAqX0m0WfV2n3z89qa6VBiGIXO/Dua7zmMBVEN+kO+pD/\n",
       "kHLkL8AGjAuHZZRp3yAqHv2zlngefv2gP0SgEG+q2LztkH08tHIWrw6hBm6HQru42ZkocEqbRrCe\n",
       "EB8U/RtEGoQodroPDrR4zeHe9UEXnoBr2xz5Z2H948JjGWXh3kLM0H+uaE8M+babzQsBDOKVIaIC\n",
       "ga7VTK1TtW8hmm2IF9uneSk6IkTopQ1QpmwxX//8z3ixW/y3S++I2LdJfgxsa4MltO4Uh5j/79jm\n",
       "bVf2L6dIZLO6b0A8AAAAAElFTkSuQmCC\n",
       "\" style=\"display:inline;vertical-align:middle;\" /></a>"
      ],
      "text/plain": [
       "(1 * 1 * x_{1, 1})+..(1 * j * x_{1, j})..+(1 * n * x_{1, n}) + ....(i * 1 * x_{i, 1})+..(i * j * x_{i, j})..+(i * n * x_{i, n}).... + ((m - 1) * 1 * x_{m - 1, 1})+..((m - 1) * j * x_{m - 1, j})..+((m - 1) * n * x_{m - 1, n}) + (m * 1 * x_{m, 1}) + ..(m * j * x_{m, j}).. + (m * n * x_{m, n})"
      ]
     },
     "execution_count": 93,
     "metadata": {},
     "output_type": "execute_result"
    }
   ],
   "source": [
    "requirements=[]\n",
    "double_nested_lambda2.apply(*double_nested_operands.entries, requirements=requirements)"
   ]
  },
  {
   "cell_type": "code",
   "execution_count": 94,
   "metadata": {},
   "outputs": [
    {
     "data": {
      "text/html": [
       "<span style=\"font-size:20px;\"><a class=\"ProveItLink\" href=\"__pv_it/exprrange_reductions/6b3ff92246828fbfb97988abc8ee79a02ac1c4480/expr.ipynb\"><img src=\"data:image/png;base64,iVBORw0KGgoAAAANSUhEUgAAAEYAAAAUBAMAAADCRlZLAAAAMFBMVEX///9mZmaYmJgyMjIiIiIQ\n",
       "EBCqqqru7u5ERETMzMyIiIjc3NxUVFR2dna6uroAAAAPJcEmAAAAAXRSTlMAQObYZgAAAQpJREFU\n",
       "KM9jYKACOECEmgZaq2G37zBn4I2Pw2sOh8IcBoZ6Bh5j42BjIxxqeDy5FjCwYreLqcXFGazmRcFJ\n",
       "Bhasaji7CqDm7DxQXABXw3dn96pTnLfOgaWKC2B2bcjiPABXw8vRxVC/jiEVLHUa7p4NvA+04Gqm\n",
       "sRgw7L/AoI8aGDwbGI7zTAGxNgBxQf0DhvwChhNg5wQbAwFUTQ2DKdyd+QwMIgwMUSAmN7I5nBem\n",
       "wtUIMzD4MvD9ZgexA5DUMKhxwNXEMrD/Y2A02AZiS8HVTAD6ZgeMx/2Pge0DA/OFCyAOSwJUlDkB\n",
       "YgME8DkwcAkwsAltAMflieeQsPSPAIUW9njiuwGJCxQAADImPXnmmVDHAAAAAElFTkSuQmCC\n",
       "\" style=\"display:inline;vertical-align:middle;\" /></a>, <a class=\"ProveItLink\" href=\"../packages/proveit/numbers/number_sets/natural_numbers/__pv_it/theorems/ba5849e6de22ec92714c647d41d92ef0cc8fb69d0/expr.ipynb\"><img src=\"data:image/png;base64,iVBORw0KGgoAAAANSUhEUgAAADUAAAAPBAMAAAC2KZqIAAAAMFBMVEX///8QEBCYmJgyMjIiIiKq\n",
       "qqrMzMzu7u5ERERmZmaIiIjc3NxUVFR2dna6uroAAABXsXCEAAAAAXRSTlMAQObYZgAAAN5JREFU\n",
       "GNNjYMAExT+aCxgufnzAgA00sR1gYP+AVYrhSMIqBgYBVDENFxcDEH2unSeBwQFFKmM5lHE6h90c\n",
       "JMd3Z/eqWWARIB8mx7ogByTHy9HFUL8BJMKzAS7HcI9pAVAulcWAYX8CSISDASHHU3AMKFdQ/4BB\n",
       "HyySaAwEBhA59gPMIHfGMzAcBsvtQNLHkMsGkpvMwPCJHSTCiCzHFNAAZMgysH7nBYlwLoDJHQPi\n",
       "20A57n8MvAZqYCFXmJwpSCXQZj4HBu5DAWChmr4CMJ3yEaiH3QA1zN62uCCLAADDBTVfYPhN3gAA\n",
       "AABJRU5ErkJggg==\n",
       "\" style=\"display:inline;vertical-align:middle;\" /></a> <a class=\"ProveItLink\" href=\"__pv_it/exprrange_reductions/543d1b716db1b725c39b44a4440907eea5f27a720/proof.ipynb\" style=\"text-decoration: none\">&nbsp;&#x22A2;&nbsp;&nbsp;</a><a class=\"ProveItLink\" href=\"__pv_it/exprrange_reductions/f5d0fa58bf2f19138cf8b01d58975bee4df24a120/expr.ipynb\"><img src=\"data:image/png;base64,iVBORw0KGgoAAAANSUhEUgAAA8cAAAAXBAMAAADU9yDbAAAAMFBMVEX///9UVFQQEBCqqqoiIiJm\n",
       "ZmYyMjJERESYmJjc3NyIiIi6urp2dnbu7u7MzMwAAAADGpxCAAAAAXRSTlMAQObYZgAABg9JREFU\n",
       "aN7tWltoHFUY/pPNJrOX2QQf1ETFgi9eayh5yUNsilKIF4xQJUge9kWhFIpvMYK4oIkGoU1RsSqS\n",
       "LRiE2DZrXRBFcPoQkZTiVCSFIGRRpCCUrAjFWlI8l5k558y57DmxKYT0wOyePft///ef/5s5l5mB\n",
       "y3CrwOWWDdu4lEI4RyrHd6i6mVnydS7dzrIiZWbQ7FHO5KBDPLmKPkgnDGGlwGKNdsd/Zadew70G\n",
       "kXFW5My0GVOuyKQZIJaLhiDdMIS1lxe5c3ZbX46PcD/2hE7YFYPIOCv4YP5xzS+b/In2VPeyfTgH\n",
       "pRbcnxVHTMK6wos8tZ01vnB2g3Xt7nvdRC5W9SJP0YP5p7Vlk78pMR5Slq2j8UbTUpH+0CBtMRwr\n",
       "AcYij2zrIdfjk3rUTWR/l17kkehg/kntZ5O/kXQ8rQBC6ZBHVNwfGqQ9JmElwEjk3PCOFRkOaUXG\n",
       "WSGZSYncWTMsgoYVIpsAYnkflCLTIO0xjPUQEzmPrnh/ofdbm3HF1i5dVk98crK6NShbkb/r/Xg+\n",
       "cVY4+9HCi+h7SSsyzgo+0iIXR/WhiPYRoQkglnkaV19p+S6hP0suGJ51iYnchRbhv8Jb1f0Wcdja\n",
       "pc+NwHuyo7w1KFuRg4mqfzWZjLtegzU00k0nIhdfJmU0bsBZwUdaZM8QkGgfEXrW/X41iusL2CP0\n",
       "Z9oFw7NOM5E7+gHOw0/hNwCX6P5Zv6US7BwWOGFxo5CePSKaS5tCSSKHLUQu9e+H3PXY8nd08sw1\n",
       "AAa0VzLOCj7SImcMk5tgHxNmrGfDx6O4AjgqiDzggBFYB5jI7TXc8QlU++MAsXteHxZv53JNQpd0\n",
       "4kQ0Bl8GlCSyf6WFyL5/DbxmbBmu1UhW1rUi46zgIy1yqanvpmAfE5oAYnmIxrU3hDsEkdcdMALr\n",
       "uigywL/4o04nLNO5x9m5lG55bo1o6ptCSVfyvlbDdaYJbeXEci/A7VsrckzoJDKOC531D7qILGJ4\n",
       "1nVxuIbSdTuReTuXst7YjMh6lPucnC1DdyX5+wWAf/yInJ+Te1oN1wXb4TomLLgM1ziup6Fw1ef7\n",
       "U3fB8Kx1ceE1lG/CKQuReTtv7M9527tS4SLkQwzIn2hYi2xATR1ZGHUUuT1Ag1oQ/3oYMhtFfuGV\n",
       "vpL//8IrInRaeKG40HibLb/nsPASMTwrt/BCq+3C311NfKebibyGjfAHmcLiimDnnam0z4r/p34l\n",
       "le/734DjBHBPvkcWWUaRDwPq3fvhgWgezvMiL4apOJjbuRr84MXnSu4aFMtHAMa1IuM9CNmHYP/E\n",
       "E2XKBsoekg/RPiLUAOQE4x0PiguNt51BEK0xFrHI46AFyxiedZyJjNLm952af0cYrjuewcNPTzSF\n",
       "kcoToWj36WfQHZJmZsiseRhcWFgdqxBALRsormTBB6lgfj0qtzoMGxSWve3KWKLOc4++VCGtnKM4\n",
       "BsRz7E3OS+5ONLge1oqMefBB/JNsUKbORhSd2FVCIdpHhBoAC25f/H+deECb7czYLO0F6Q8NUp0i\n",
       "GcOzHlbe1uSG6yHF6Jmy64MzYrNm0E2qffAbnre+nkAl5EVW+BgyotqqhV06akWrLkZ/uPVtzVQ0\n",
       "v6R+CxQKey1A7q5wi5KFTIPUpEiDIawEKD+g4EQO5G0rpOx2w3hJaFbvdll1N3wOcyXFlazwERhR\n",
       "7Y1s0NBQF62abB9QpKNZTv0WKBT2WoDcXeFhQzEVZNEJIz+g6ErOBrR7/jAkG2lf3ryssiqxyzXh\n",
       "qceEZvW9SXZrt4muyreTSBBN7nW6Y5d9MH4lag46vmpoqFetmkgxPWrEWYkzw6KhTw512ZHt9QBF\n",
       "dyeVIa9oumDCyI8ak0fdHzyLhsb+3IG/quDJgVSSGrUr9MDJCt+sLux/BDgIx87H4iGa0n3El8KH\n",
       "Z0Z9CfkfddQVqyZgGWr90gCLhsqoy45srwcountRGfKkpgsmDGGdjEQ+TZqEl1b6LRf8tnbmCfsm\n",
       "ohSppRfe6XQ7y4r0Os+M2aP8+s+MQzzKV3m8zbz+M5MA8w1VAi1fE8nckNdJBm8i6lZRjJM3xs52\n",
       "LN961E4t/wF31Lk4Lb15CAAAAABJRU5ErkJggg==\n",
       "\" style=\"display:inline;vertical-align:middle;\" /></a></span><br>\n",
       "<span style=\"font-size:20px;\"><a class=\"ProveItLink\" href=\"../packages/proveit/numbers/number_sets/natural_numbers/__pv_it/theorems/ba5849e6de22ec92714c647d41d92ef0cc8fb69d0/expr.ipynb\"><img src=\"data:image/png;base64,iVBORw0KGgoAAAANSUhEUgAAADUAAAAPBAMAAAC2KZqIAAAAMFBMVEX///8QEBCYmJgyMjIiIiKq\n",
       "qqrMzMzu7u5ERERmZmaIiIjc3NxUVFR2dna6uroAAABXsXCEAAAAAXRSTlMAQObYZgAAAN5JREFU\n",
       "GNNjYMAExT+aCxgufnzAgA00sR1gYP+AVYrhSMIqBgYBVDENFxcDEH2unSeBwQFFKmM5lHE6h90c\n",
       "JMd3Z/eqWWARIB8mx7ogByTHy9HFUL8BJMKzAS7HcI9pAVAulcWAYX8CSISDASHHU3AMKFdQ/4BB\n",
       "HyySaAwEBhA59gPMIHfGMzAcBsvtQNLHkMsGkpvMwPCJHSTCiCzHFNAAZMgysH7nBYlwLoDJHQPi\n",
       "20A57n8MvAZqYCFXmJwpSCXQZj4HBu5DAWChmr4CMJ3yEaiH3QA1zN62uCCLAADDBTVfYPhN3gAA\n",
       "AABJRU5ErkJggg==\n",
       "\" style=\"display:inline;vertical-align:middle;\" /></a> <a class=\"ProveItLink\" href=\"__pv_it/exprrange_reductions/aa3f750a3ed966c00e2904974f4f3bb0735be1940/proof.ipynb\" style=\"text-decoration: none\">&nbsp;&#x22A2;&nbsp;&nbsp;</a><a class=\"ProveItLink\" href=\"__pv_it/exprrange_reductions/b6a660188555e2752736ca25faa84acd1d5de40d0/expr.ipynb\"><img src=\"data:image/png;base64,iVBORw0KGgoAAAANSUhEUgAAAWAAAAAVBAMAAACK1ym5AAAAMFBMVEX///9UVFQQEBCqqqoiIiJm\n",
       "ZmYyMjJERESYmJjc3NyIiIi6urp2dnbu7u7MzMwAAAADGpxCAAAAAXRSTlMAQObYZgAAAwlJREFU\n",
       "SMetl79rE1EcwL9p0ubS3GuDgyYg2D9AMUiXDqURRMggxEWkdMiiS6HoJDodSIoutuISXZrFxSEG\n",
       "6Sh4HepgllOkQ5cUnEsCQlFLxPd9d+/um8u9+2Fz8HLJu+/7fD/v3nuXd3AMEzuOIysmkaMrzs0z\n",
       "UdLb4tT113tsH38pnNcM4Ls5BJQ9OFu/SyHCyMaSIjlS22E0YXPBzy9R4RnswhUScc1KJHwQIoxs\n",
       "LCnDuV08D6uH0TAain7+ARVuAHzdG3pdvHgpmbDeUgs3nOIcdp4vYbRGIF/mENAqL9qQRGwlE2YL\n",
       "auGqU+Qh8nwLo1UD+TIHQnOVMwrDulIY2YI/IjzTUbNGogl/3ROerSUQ/lh687Ylf+T3Xr9b5ed9\n",
       "pTCysRyuUmG9phbGaOakoPx9TzhrJBA2H7XYb3dyZZ9Aj6+RTVdYvy+OmqxANhbzAxXWQlYdRuv5\n",
       "hTH+piecKXvCVoTwXPkm5P7KyB+ZOuwcASwq7zCyecmV71DhdEUtjC1eTds9ovxFT3iq4wqzkwhh\n",
       "xk5BG8hIq9eBLX7uK4WRzQuDP1R4bqAWxhbWvD0lKL8fKAzXo6ZEegCpuhu5AnA+jjCkh0mEYcUR\n",
       "IPx+8JSInMN8sOYN9zIf6F8MYNc/hwu+KQHZAhXOR0wJeDjO3/3PRTdl8u6b8tdlfut0uuj8d1gu\n",
       "ul7ZTLDo2E99jE8WnXjIzFLh95Y9R8VHrw7k104HPmtH8pl5Cnr9BcCaUhjZWD7lDHt9iDzTpsP1\n",
       "4O4XjM4PmqKC8tc8YRyg6XMnd91Mt6/eM+CG5UzUTEHOWKziI/PyqfscrkCuyIdwQymMbCypZ3Zz\n",
       "O88M9jhzi8LFF4wQ06VoiMuUv+H7ax5fXVacKvvRUYn11+w1/y4+l4MTSJvlEb7M0Q3ebuDQxKpK\n",
       "svnxmtubHzM4gbQx1ZufbND+9DBWVeT2EtkO321uby9ZKziBE00uj20vAzfwRqwqcTyOsYGnzW0l\n",
       "TZHAidZG+TJHewKvSJp9S9r++rbqFel5slck5Msc/wClwjDUfiTJZgAAAABJRU5ErkJggg==\n",
       "\" style=\"display:inline;vertical-align:middle;\" /></a></span><br>\n",
       "<span style=\"font-size:20px;\"><a class=\"ProveItLink\" href=\"__pv_it/exprrange_reductions/6b3ff92246828fbfb97988abc8ee79a02ac1c4480/expr.ipynb\"><img src=\"data:image/png;base64,iVBORw0KGgoAAAANSUhEUgAAAEYAAAAUBAMAAADCRlZLAAAAMFBMVEX///9mZmaYmJgyMjIiIiIQ\n",
       "EBCqqqru7u5ERETMzMyIiIjc3NxUVFR2dna6uroAAAAPJcEmAAAAAXRSTlMAQObYZgAAAQpJREFU\n",
       "KM9jYKACOECEmgZaq2G37zBn4I2Pw2sOh8IcBoZ6Bh5j42BjIxxqeDy5FjCwYreLqcXFGazmRcFJ\n",
       "Bhasaji7CqDm7DxQXABXw3dn96pTnLfOgaWKC2B2bcjiPABXw8vRxVC/jiEVLHUa7p4NvA+04Gqm\n",
       "sRgw7L/AoI8aGDwbGI7zTAGxNgBxQf0DhvwChhNg5wQbAwFUTQ2DKdyd+QwMIgwMUSAmN7I5nBem\n",
       "wtUIMzD4MvD9ZgexA5DUMKhxwNXEMrD/Y2A02AZiS8HVTAD6ZgeMx/2Pge0DA/OFCyAOSwJUlDkB\n",
       "YgME8DkwcAkwsAltAMflieeQsPSPAIUW9njiuwGJCxQAADImPXnmmVDHAAAAAElFTkSuQmCC\n",
       "\" style=\"display:inline;vertical-align:middle;\" /></a> <a class=\"ProveItLink\" href=\"__pv_it/exprrange_reductions/c752539cc5e418e8b7762c97382576e6aabb4cb20/proof.ipynb\" style=\"text-decoration: none\">&nbsp;&#x22A2;&nbsp;&nbsp;</a><a class=\"ProveItLink\" href=\"__pv_it/exprrange_reductions/08de3af2d29a46ff72fae9e77df0ade35cc4ba640/expr.ipynb\"><img src=\"data:image/png;base64,iVBORw0KGgoAAAANSUhEUgAAAKUAAAAUBAMAAAAek+A5AAAAMFBMVEX////MzMxUVFR2dna6uroQ\n",
       "EBCqqqqIiIgiIiJmZmYyMjJERETu7u6YmJjc3NwAAACgK8IjAAAAAXRSTlMAQObYZgAAAa9JREFU\n",
       "OMuVlb9LAmEcxh89PT09JQiaG4qGIA4Xqemgxa2goKXBJaQlRYJoE6KGJscQhKu2G6KtIQoJgqjA\n",
       "/gJzqqYUEoKQ6L33Xs/u/PrrA89x95zv8/649/0KxF/A1ZedMVzBk1Bf/PXRXcGFEIm8CajGaG6X\n",
       "WNEWyV2iza7JzmOGdHsJ12316dFqfe/J9Li9fAgNyIzoVKbj9rJvK5D43JvzJWeoTKlIZUreBVte\n",
       "eM/nJvOsqxtwSdErVHexRWXGDCrTdiWTY+Vr1zn1W5dXgSNwTYUNNDS8Uplygcp0XIEvfYz4F2JN\n",
       "YB1claqObAXz1ttH3vWp09rXtG6XTPPQNM88bhdVbUFuw3/pZCILnAAb1Did1hnSdXZtE0oBwZwz\n",
       "d5SAAwR+VSIzQM7ddsV6TrNbxUBYw0q90vlGWAMbu2K8jfmN/hHUwBawFE9jkT0xxVvW2COa5v5d\n",
       "yGqtaJ5Mt9uhoVsLeC4BKXCxmYSKkMvuE6XM/pTZ7p5wZ3rcDim+0bdrw84m58F7Nt3umDXExqkW\n",
       "z6RLcCvUF7qqDap1w2tytD66Kxj631Ebw+X8Ac1rkjIrcvx0AAAAAElFTkSuQmCC\n",
       "\" style=\"display:inline;vertical-align:middle;\" /></a></span><br>\n",
       "<span style=\"font-size:20px;\"><a class=\"ProveItLink\" href=\"__pv_it/exprrange_reductions/6b3ff92246828fbfb97988abc8ee79a02ac1c4480/expr.ipynb\"><img src=\"data:image/png;base64,iVBORw0KGgoAAAANSUhEUgAAAEYAAAAUBAMAAADCRlZLAAAAMFBMVEX///9mZmaYmJgyMjIiIiIQ\n",
       "EBCqqqru7u5ERETMzMyIiIjc3NxUVFR2dna6uroAAAAPJcEmAAAAAXRSTlMAQObYZgAAAQpJREFU\n",
       "KM9jYKACOECEmgZaq2G37zBn4I2Pw2sOh8IcBoZ6Bh5j42BjIxxqeDy5FjCwYreLqcXFGazmRcFJ\n",
       "Bhasaji7CqDm7DxQXABXw3dn96pTnLfOgaWKC2B2bcjiPABXw8vRxVC/jiEVLHUa7p4NvA+04Gqm\n",
       "sRgw7L/AoI8aGDwbGI7zTAGxNgBxQf0DhvwChhNg5wQbAwFUTQ2DKdyd+QwMIgwMUSAmN7I5nBem\n",
       "wtUIMzD4MvD9ZgexA5DUMKhxwNXEMrD/Y2A02AZiS8HVTAD6ZgeMx/2Pge0DA/OFCyAOSwJUlDkB\n",
       "YgME8DkwcAkwsAltAMflieeQsPSPAIUW9njiuwGJCxQAADImPXnmmVDHAAAAAElFTkSuQmCC\n",
       "\" style=\"display:inline;vertical-align:middle;\" /></a> <a class=\"ProveItLink\" href=\"__pv_it/exprrange_reductions/5bba3dcc3c0d3be21993a97f22108d4ad3701a4b0/proof.ipynb\" style=\"text-decoration: none\">&nbsp;&#x22A2;&nbsp;&nbsp;</a><a class=\"ProveItLink\" href=\"__pv_it/exprrange_reductions/21234585372393dbcbc0b3eeed2df2420ccda7c10/expr.ipynb\"><img src=\"data:image/png;base64,iVBORw0KGgoAAAANSUhEUgAAAQ0AAAAUBAMAAABlknXcAAAAMFBMVEX////MzMxUVFR2dna6uroQ\n",
       "EBCqqqqIiIgiIiJmZmYyMjJERETu7u6YmJjc3NwAAACgK8IjAAAAAXRSTlMAQObYZgAAAjJJREFU\n",
       "SMetVk1IG0EU/uImmx93gyB4baAVD4IOXsTbQi/eDLTQS0EvQgtSlyCIJ0MFEfEQ9FIEYUu92EPp\n",
       "zUNpWQpiaQ/JuYeaU+1JAwaEEMSZSWw2szvOpM3ADm8f733zzdu37z0gW0E/llkN63ShX7HtB/qz\n",
       "JsIqXegBdocP9Fn0e77+c1HzPWykC215gF2C9XCyVx5fp5qiynBFjT70NJBiMTnrOR52iIeVFzX6\n",
       "0CfAH/SJBw5FhT50xsGawvjxxHnBHS44Eh7xqYvVsdj0IyrOiK760EYJnxXG5JNrXTtmXsLDGDxG\n",
       "eQWLVPzJ39/zVWKyPrTtYfN+49jCNrJXsGsSHiMpD5cEZ1R8IfrqQ5tFPL3f2LLqMJsY+Mjk1l2H\n",
       "gjz8soNlH+NUfCD66kPHaipjmDWki0i4sjxdBt4Az/6BRwCa8lAED2kPKYK5qi/hsQ9sIH5jAbOB\n",
       "/MhpfJcAdLyoTKYEAQ39fnZBwuMJaHjT3u92ngaXPjTNU/63rfuwGuyTsa3stTf+dumw0L8zBIxk\n",
       "s2WTrbPwZggB9sRzoqE7Z3Sg04RHc3f+qIItRvw1K4O5u42pZnkdePlLCOlo4wCpHbCIJkswD2jp\n",
       "fCvykEBzYQdB6MxQq/jyrAkH0FTUwqWu9C9G1nUJTpcrvvFm1K5I4XMMRTkmyj4nxSFin8OXtnwa\n",
       "Nj5VtGtX0ffl0N2urO//HVYiZifFOGVHHhoxB1UUroPVHoY3VQP+j7mQZuotfjPWIHAO5oUAAAAA\n",
       "SUVORK5CYII=\n",
       "\" style=\"display:inline;vertical-align:middle;\" /></a></span>"
      ],
      "text/plain": [
       "<proveit.magics.HTML_DisplayObjects at 0x7ffa4994f860>"
      ]
     },
     "execution_count": 94,
     "metadata": {},
     "output_type": "execute_result"
    }
   ],
   "source": [
    "requirements"
   ]
  },
  {
   "cell_type": "markdown",
   "metadata": {},
   "source": [
    "### Row-major vs column-major order\n",
    "\n",
    "By our convention we the linearize a range of ranges of parameters according to row-major ordering.  This is what we used in the example above and is what `var_range` produced.  A column-major ordering is allowed, however, as long as it is employed consistently.  We repeat one of the above examples using column-major order."
   ]
  },
  {
   "cell_type": "code",
   "execution_count": 95,
   "metadata": {},
   "outputs": [
    {
     "data": {
      "text/html": [
       "<strong id=\"x_11_to_mn__column_major\">x_11_to_mn__column_major:</strong> <a class=\"ProveItLink\" href=\"__pv_it/exprrange_reductions/5028f826b42d6ce19afbd6ec6af0bb9a5ce736c80/expr.ipynb\"><img src=\"data:image/png;base64,iVBORw0KGgoAAAANSUhEUgAAAT8AAAAPBAMAAABghdWBAAAAMFBMVEX///8QEBBmZmaqqqrMzMxE\n",
       "REQyMjIiIiKYmJh2dna6urrc3NxUVFSIiIju7u4AAAA6P00QAAAAAXRSTlMAQObYZgAAAkhJREFU\n",
       "SMedlE9oE0EUxr92t2az200K9iDoQby0ve1B8FAIidCjmItX9e4lIChIrUEUxVOOXmwtHnKwpUEo\n",
       "iIjJwYtIZCmIFJI6V8FgQPEgWpzZmZ12/0wym3fYvLfzfW9++zK7wKD3Zt/H+Cj0P24/Q+bIYktF\n",
       "KTSsu7nrMKtBtaJ2f8Mj/5ashH58CNuKzrNwlFjkSf7Qbpnnaqy4uKC2r2ODvJR8XK8R3DaqcQwl\n",
       "gY0ZNgybb9hU2wmuHKtsXUBha+pMkKMkouhrAQL/JgEUtqaWtJj6Mlwu6wGav+jl/oP+2WyAgY03\n",
       "thYv7bm9slrLUJgIYqf+e8AgX+ESDcCSO8QBnpzC6UyA3CYAN+tTn9yOSspRmIgdRLrTGdIDdrxr\n",
       "eB2Z4A/6IhV+i0RW9s+ZoVN3BjUchoCR9ZE2AfjuC4rPpxsxvaw4ChMRgO30B0vA9/5gsR4BzK3R\n",
       "yypLOuHlNkGhe7D3GJj17bkQMBAG66uJJGYTf00XFeS8YOFIz01rEqWLTXZ31jfncDN+6IM+pZTh\n",
       "h9lUebohz2xpzN97ZBOA8/iMthlZkEdBZvNYMoOd3KozlAfWqMG5ClxgeSP5hZJZG7kX5V3C9GlC\n",
       "lY013iXOkI7nYT6yEIbsRUV3zlOWNp2hVQ1vOwt/ffMkXt3r0jORfNcHMtuC+xQVj+nThCoba1zx\n",
       "7A5u4O368QX5DZS9qGi/Tlm2cKLlfIiM2uA/VnKneqz2VMKRNk/ZL9nLSOu3rPtpM1qYIDK5ljUe\n",
       "WB3WJHzZXJLlP58J1Tk2RnaTAAAAAElFTkSuQmCC\n",
       "\" style=\"display:inline;vertical-align:middle;\" /></a><br>"
      ],
      "text/plain": [
       "x_11_to_mn__column_major: x_{1, 1}, ..x_{j, 1}.., x_{n, 1}, ....x_{1, i}, ..x_{j, i}.., x_{n, i}...., x_{1, m}, ..x_{j, m}.., x_{n, m}"
      ]
     },
     "execution_count": 95,
     "metadata": {},
     "output_type": "execute_result"
    }
   ],
   "source": [
    "x_11_to_mn__column_major = ExprRange(i, ExprRange(j, IndexedVar(x, (j, i)), one, n), one, m)"
   ]
  },
  {
   "cell_type": "code",
   "execution_count": 96,
   "metadata": {},
   "outputs": [
    {
     "data": {
      "text/html": [
       "<strong id=\"double_nested_lambda1_column_major\">double_nested_lambda1_column_major:</strong> <a class=\"ProveItLink\" href=\"__pv_it/exprrange_reductions/c5c2ca064b99f491745b66ac2695bed19e579d960/expr.ipynb\"><img src=\"data:image/png;base64,iVBORw0KGgoAAAANSUhEUgAABCMAAAAWCAMAAADNaab3AAAANlBMVEX///8oKCgNDQ3MzMxUVFR2\n",
       "dna6uroQEBCqqqqIiIgiIiJmZmYyMjJERETu7u6YmJjc3NwAAADtE0dfAAAAAXRSTlMAQObYZgAA\n",
       "Bg1JREFUeNrtXOu6qyoM5BxFQSvo+7/s9oZyJ0i07frKn7CWGibDmAIqhBAySvIrhYWNGScrwm37\n",
       "XlT5+G/FXI79gPmQwL+R7QT5yorhd4uXlxouEEW4bd+LimTjvxlzKfYD5mMC/0a2E+Tv9jX+7nCE\n",
       "rnyBT1WE25a1IpDdQwcwUZFs/NdhgTCXYj90DRZ4aUC3sv2sjE0r+98NjlEoB56oCDetqGk9+SQa\n",
       "PHANFeOZHpwLEnjxmKS8xMuha6DAMQK6je3nZWzY7jeMwMnAbeAAtwhWhNuWyJBE5XXtOqjKVZvG\n",
       "i8RkkFFQOWDCBV4c0J1sPyxj3Y7d7/ZGGhQ2gW43fwkU4ba9J0c4qIpVC8CLxWSIUUg5YGYIvDyg\n",
       "G9l+Wsaa5buCBef12PCy8Z2ej5D9vaW1LLf0zAXmMpPZzYpw2+bnCBA62iOrNoW3ofU4ct7z64Qq\n",
       "zLRgnH3A3Cs7rJqTivK6Qef5XraT6BFYD5A/22F7siLoTFHHSYe07ILt7y2t5bmVr0BWYEbK2Al3\n",
       "bHaOgKGTL2TVpvBSMgzzJWIaLxOqMMuC7jxg7pUDFm+WxUl0nu9lO4kegfUA+bPt2NbGzA6dKWrW\n",
       "Nipd1dWVhy+mP6tU2I9zIujx3Ca7twvkCMIHTXs74Y61JCpC2hWAoLU/WIes2gTeim1aHKfKDQWo\n",
       "CoVZww6cBAgX5lY5YdEVuddvNs8xDWCyHUKPwHowBM22zeFx2MOv+v4M1fgj4ydY82dr4ZpHaGuI\n",
       "7iNB+OI6u+7//15GmaZzeLgT7lhTomJ6+bV7HoB12YmKrlC6djU1JEV6L0jgFXO1MW/DMxSgKhTm\n",
       "avLSEemw87QD5lZRsNiKuR68fjN5jmoAle0A+nLWIyFo9uxyMh05rNGJaK7eclMoiTZ3LMQE0OO5\n",
       "zcgRnbDi1WaQsBxBujrw+6YfAHSZhgrnly2Jl60t1i8/Yogq3Bxh+QiWrg7kCAVru8Vb7vWbzXNM\n",
       "A7hs+9EjsA7JEefQsTrHKSg5QvP3QI4IocdzmypNaK5RvQTJnmsA1tJAXdY8NNc4S7/qdJL++QFE\n",
       "FapW0pHWXEPB6pbBejPP2gUGz0llo7GdRH+V9WAImt0XRZggfEkcXODkCN2f7GXFeX9jjgiiV01z\n",
       "XleoQXgcB9cszTfl0NYsYV32+Jolaek+KqZXVXHHmuUGaxuRz/fTyMp5jmsAl+0k+musR0LQ7PaI\n",
       "o5kYGabj+xGf4M65zzlTc/6lKoY/2bSzaUdHDeHrQY34WzO7cWu6nlmqUYOwHS99d/aO8RVOYz4P\n",
       "8zxbUkuboRzhPQDoMguVR4QxGgKqTeEdVyHTF5FVFHJQFSfmnkaWHDzQvTD3yrhP6NekTT13Uj7P\n",
       "cQ2gsp1Ef5H1SAia3WIWNeeC91JGBq6dmmWfM52jdla2k3R/o+CLB43/w73r0q3EjnlaM9Crppsj\n",
       "ZKQgXMdz3wVGKn2VGsttp9Xt9Oo93/gFDkC6zIPKEmGMBr9qU3i342Mt3d86oCoOzF5GYwrxUbBX\n",
       "NrP9grJejuU8QzSAxXYS/TXWYyHo1veyp19wDPIAyndSPQfetD73rPDFNu/1Ovql6arVJnZYQTiO\n",
       "BXQCFXwXu6gEcoSD6nPeDg6qQmEWRVPSC+9i5/Kc1sDnvYsNlbFhfR+N+AVHIRh8J7XVmqc86z60\n",
       "MGKa6salaT4sY7G9eawgXMdl33TdlCMcVCI3KzsXYH1lFFTFe77pusBzWgOfw3aujE07uJlqe39i\n",
       "3F79US9TCEiX+U4al2lU17DK9ghzmdmagX5tesmVcthufKwgXMfw9TVFuG3LRlS+Lrvna2UUvGFV\n",
       "YH0bfsAcMH+Ko+L6XLZzZWxZZxOLse+mbQzCzj+shbhg9val3mXKxal0PJLSHXZ81xvo16aX5wpj\n",
       "TQVmEI7j4a17zAS6DFlgBA1vTBVYqfOOPWbi4ho+f48ZqIxtG94Mi6FHzMhzhT3oWH7KXnXsMqp8\n",
       "/LeAVpjlZ+9VV6qBN7INCAHeCfgb9LEHv4a/rS32wTtusG/cDeQLQbPv33UFJwT8BPbk7rry6xz/\n",
       "cWx/CfQf2CYaHMI/yOhvUJTzbScAAAAASUVORK5CYII=\n",
       "\" style=\"display:inline;vertical-align:middle;\" /></a><br>"
      ],
      "text/plain": [
       "double_nested_lambda1_column_major: (x_{1, 1}, ..x_{j, 1}.., x_{n, 1}, ....x_{1, i}, ..x_{j, i}.., x_{n, i}...., x_{1, m}, ..x_{j, m}.., x_{n, m}) -> (((1 * 1 * x_{1, 1}) + ..(1 * j * x_{j, 1}).. + (1 * n * x_{n, 1})) * ..((i * 1 * x_{1, i}) + ..(i * j * x_{j, i}).. + (i * n * x_{n, i})).. * ((m * 1 * x_{1, m}) + ..(m * j * x_{j, m}).. + (m * n * x_{n, m})))"
      ]
     },
     "execution_count": 96,
     "metadata": {},
     "output_type": "execute_result"
    }
   ],
   "source": [
    "double_nested_lambda1_column_major = Lambda(x_11_to_mn__column_major, Mult(\n",
    "    ExprRange(i, Add(ExprRange(j, Mult(i, j, IndexedVar(x, (j, i))), \n",
    "                               one, n)), \n",
    "              one, m)))"
   ]
  },
  {
   "cell_type": "code",
   "execution_count": 97,
   "metadata": {},
   "outputs": [
    {
     "data": {
      "text/html": [
       "<strong id=\"defaults.assumptions\">defaults.assumptions:</strong> <a class=\"ProveItLink\" href=\"__pv_it/exprrange_reductions/f5a4e0dc558e7e7587ee3b87f5f42ddde68b75f80/expr.ipynb\"><img src=\"data:image/png;base64,iVBORw0KGgoAAAANSUhEUgAAAH8AAAAUBAMAAABWoP+5AAAAMFBMVEX////MzMxUVFR2dna6uroQ\n",
       "EBCqqqqIiIgiIiJmZmYyMjJERETu7u6YmJjc3NwAAACgK8IjAAAAAXRSTlMAQObYZgAAAcRJREFU\n",
       "OMullL9LHEEUxz/e3i/PdTkQUl8ZAolLLESbLKSxU4iC5bXXJIdNsAlLhCA2HjaipliSKhb+qCwO\n",
       "ZRFEQ4qL/4DZLlZ64Q4Sgsk6M3so7u7tgb5iZtjvvO9777vzHhjfube9lsu3eOzrxm6ir75WL5Ly\n",
       "xGkrHi/xwkoiOERrozswWIvF+10yU0kEH2EGRiHvxeIZm9T/JIJZGPY4gvN4vHBF6lcSwbbLcJGC\n",
       "xTykn1+8XY1eyV+p7eWzn3PVobkYQZZdtBr7oA3s0ZCVaJvKOqpMmmoz61X9t5VVgowr/EuAp1tC\n",
       "QYcP8CjvcFmMBHiv1r7yEkaLwWY0wxJkbabBbVj8iP6HIBFdb5MVguxELqxJ+qYk4A08ieDznT3b\n",
       "pN8mUw3juVpAIEpgHf7ptxqUlF+NiyATh7zJpOfeaPBJfa9geKRtKSKvRJJaKMAQvAtehIkocd0o\n",
       "38X7THKeFHEMjDaac3oXNxZGVmz9rzhdWrLEz+EA5yNjj0V6JhPIPIynoQAF3/dtFkXeE0qOyln4\n",
       "Ifn+H3Gt2O0pdwR0e/TzSddmCkzrNRBEM3GQgB/38Jft3G2gKOs1rAZk/Q8ZaULZa4Jqee4mL4Mv\n",
       "AAAAAElFTkSuQmCC\n",
       "\" style=\"display:inline;vertical-align:middle;\" /></a><br>"
      ],
      "text/plain": [
       "defaults.assumptions: (n = 2, m = 2)"
      ]
     },
     "execution_count": 97,
     "metadata": {},
     "output_type": "execute_result"
    }
   ],
   "source": [
    "defaults.assumptions = [Equals(n, two), Equals(m, two)]"
   ]
  },
  {
   "cell_type": "code",
   "execution_count": 98,
   "metadata": {},
   "outputs": [
    {
     "data": {
      "text/html": [
       "<a class=\"ProveItLink\" href=\"__pv_it/exprrange_reductions/bb1cb3924b043b971cd69431542cc5756cd9c4060/expr.ipynb\"><img src=\"data:image/png;base64,iVBORw0KGgoAAAANSUhEUgAAAfMAAAAVBAMAAACgSxpTAAAAMFBMVEX////MzMxUVFR2dna6uroQ\n",
       "EBCqqqqIiIgiIiJmZmYyMjJERETu7u6YmJjc3NwAAACgK8IjAAAAAXRSTlMAQObYZgAABK5JREFU\n",
       "WMPFmE1oXFUUx89kJplJ8mYMSBfqIgGRiotksIsyUuyIC7PSLqKIFDobq6LYQRclUOwQawou7NBu\n",
       "GtpCFBGdRVuX0qY+KtJqBbM0gu0suoiUaqpFpYQ+773nfpxz35v3ZuLCC4fMfZn//5zfe2/uF0Bl\n",
       "FVT03d6OX7o9gHyki8HVgzp4bWAABXFNR99tKJY5OM/73536MkU/rYOqRQRLFyb6rGA6duUaT5ru\n",
       "JQEUxFkdr4bkv6zjgy77V8bkg9zrvjAFu+u99d/roGoRlyF/lzzZvZDuwNtZnpR7JQHIKLdVBI/O\n",
       "OFrWibedprym/rAmkj25af8/GsLwnt7yfBMDnFrGaYAX7TVql+yg2mv6rwBgSZlXMoCIUhcDblDa\n",
       "G2no3/roH8nsrtbhFgzdT7npezCAqEW8DDDjfkrlNHSrNugCgCXlXokAItYBYwD0sTpHr7R4rWOb\n",
       "MHQnRf+pDqeWcS6EmYn+0K3aoK97SblXIoCIefFxPg09ODj93E7+vrU5erEdq7Xkelfeufluk+lr\n",
       "Opy6iI7HwkT0ZAeKPu8npV7JACJWxMeVNPRv4KfmhwCPqE5OjuXlZY4+vhpDf6FqE1fLR0vLUPtK\n",
       "OSqXn3U4tXKAwp+QhK4dVGrInzpN1AZ9xUvKvBAAhViHBBCxKPqLjjag6KqzC3aHz8NDJxX5kny3\n",
       "R1ocvdRwtepbtmDl+TC/Wejmu0PyfqHL6zrwC1KtHKA05RyIHTpganganjBqgr7oJWVeCIBCrEMC\n",
       "iJgTF+Yc7Y/L4HVCuCA/z+LNlPlzG9Kk0/n8lU5HZhiu21qDezjGt608gPHzchzK3bcukzrwC1Kt\n",
       "HGCJOBA7dMDUYjyc7Gr1U53OB53OJ2AASFLmhQAoxDokgAgPHe8W7/ydhE6eOkHHO29+eyh/QHyt\n",
       "VK/cjaOXpii6/sEv0Ke+YB00+hH4va7V5KnP+UmZlwJAIdah0b0XPmGEz93x0AspLzz+ow2/ud6k\n",
       "GmtHNq3LrLVjL/wbUOkxuSkHk/VA6NT0hWdJmRcCKCHWIa1EZA5zbxU34BBDzxzmHgR4z96G8DAU\n",
       "hVupadGTh7lcFYqJ6NrBoB/tMczRpMxLAygh1qGHOTvTHKborlP4a3xDbg4I+miVo6vJruhqrby/\n",
       "43jLjvWNr9XeBOcj5XJCB5tpYH1H7XFXALHTDhpdJTvhode8pNTLAOgpuaYBRJi37/i+L9zuh3SC\n",
       "7Yfmf+Ev/NgER5cXRx+7d8auGKIoslVcPnjlzCqul43LxzqcWsa5KPrHrYWJnXbQ6GtA1AZ91ktK\n",
       "vQzAmlnyIoAIu5DNaAT9atJCNqM9C88Yl6CF4S1ksxqiF6qFCacmC9lMuRTqOq4ihN6+ZDYxld4K\n",
       "cUo3S6MgJBuQ9Jb7bP/FykWckHtsXzJ36S0QDg/vfzN06h/c9iWrSeGtUNZhty9wSUd6+/XYdtjW\n",
       "qJz8o5mwaR3PvOnDUbSRe0m5xDatUp3tIFMLh31RlLRpzQaQwm0NWYfdtA5yVNHoAeofVfR6bq7M\n",
       "S/GjigEdYkcVgwEoiP4PqPTB0PWtHlDhyVa5i7GVAyrnsKUDKgJwHQZqZfhvbRXg/3XgAP8CtdXf\n",
       "XC3F+54AAAAASUVORK5CYII=\n",
       "\" style=\"display:inline;vertical-align:middle;\" /></a>"
      ],
      "text/plain": [
       "((1 * 1 * x_{1, 1}) + (1 * 2 * x_{2, 1})) * ((2 * 1 * x_{1, 2}) + (2 * 2 * x_{2, 2}))"
      ]
     },
     "execution_count": 98,
     "metadata": {},
     "output_type": "execute_result"
    }
   ],
   "source": [
    "requirements = []\n",
    "double_nested_lambda1_column_major.apply(*abcd.entries, requirements=requirements)"
   ]
  },
  {
   "cell_type": "markdown",
   "metadata": {},
   "source": [
    "If the ordering is not consistent, such as using row-major order for the parameters but column-major order in the bodoy of the lambda expression, an error will occur."
   ]
  },
  {
   "cell_type": "code",
   "execution_count": 99,
   "metadata": {},
   "outputs": [
    {
     "data": {
      "text/html": [
       "<strong id=\"double_nested_lambda1_mixed_order\">double_nested_lambda1_mixed_order:</strong> <a class=\"ProveItLink\" href=\"__pv_it/exprrange_reductions/c82941306ec88026bd6228588b3257c89062ce5d0/expr.ipynb\"><img src=\"data:image/png;base64,iVBORw0KGgoAAAANSUhEUgAABCMAAAAWCAMAAADNaab3AAAANlBMVEX///8oKCgNDQ3MzMxUVFR2\n",
       "dna6uroQEBCqqqqIiIgiIiJmZmYyMjJERETu7u6YmJjc3NwAAADtE0dfAAAAAXRSTlMAQObYZgAA\n",
       "BiRJREFUeNrtXOmarCoM5F43cAF9/5c9bghowiKxl/maP3FGO6kUZRpohTHGRsV+LbPxMeFiTfjZ\n",
       "vhdVOv5HMedjP2C+SODfyHaAfG3l8LvF81sZLxBN+Nm+FxVLxv8w5lzsB8yXCfwb2Q6Qv9t+/N3h\n",
       "BF3ZR1+qCT9b3kikumMnKFGxZPz3YUVhzsV+6Dpa4LkJPcr2a2XsWtX9bnCKVonICzXhrpVlVU6Q\n",
       "RNET91Bxkejh8oEAXjomK5Hj5dB1pMApEnqM7dfL2LHtbxhBU4Eb5IQ4EawJP1umMImq+9q9oMpX\n",
       "bRgvEZMoo1HtgBkv8OyEnmT7xTK27dj+bm+iQWGNdLv7TaAJP9tnasQFVbZqI/BSMYkxGtMOmAkC\n",
       "z0/oQbZfLWPLil3BUohyrEXe+M6uR8T+3hItyW1laoG7zOR2syb8bNNrRBS6qiNWbQhvXZXjKEQn\n",
       "7hOqMVcZ4+wD5n6wwyoFKypR1uQ8P8t2ED0B6wj5sx22X1ZkNVPUCtYSLbtQ+3tLtDS3qkeqAndK\n",
       "xk74xSbXiDh0qidWbQhvxYZh/oicxtuEaswqozsPmPvBAUvUy+IkOc/Psh1ET8A6Qv5sW77FmNmp\n",
       "ZorqNUZhq7q48+OLx98TCy1ONKgRJBHs3hapEUwMlvZ2wi/2JFGJaVdGUGz9wVti1QbwFnzT4jgV\n",
       "11S8hBrQGrOFPXISIK8wtwMDq1qRg36TefZpgJJtDD0B62gKlm3qw+Owp190nUnV+SPhKxjz98w4\n",
       "wooGVoj8JMKtMF33/3+906bJDA93wi/Wlaiceli75kRclxlU1QqlbVZTxpRI8AMBvHI+rN3b0KTi\n",
       "IdQGrTEXE0iHp8PMZQfM7UDD4ivmcgD9JvLs1QAp2wj6fNY9KVjWdDmbjhpW20TUd29wxN9DbfKW\n",
       "bIIkEmpEK0/BrRlkXI1gbYl8v9knIrrMQkXzzRbEy9eIZQ8jxgmtPTXi5ANtbYnUCA1ru8UbAfpN\n",
       "5tmnAVq2YfQErMfUCDN0LMw4haRGYP6eaVY0yhoRcIuEcIMVvWTJc42ItbSoLqtfNNcwrVt1Oil4\n",
       "foATapDqoxzZnOYaGla7DNbredYuKXgOyoyM7SD6u6yjKVh2XxThkomlcAhJUyNQf6pThRDED4bY\n",
       "0XQAIcqCMAnIrZsLumbpPilHtmYZ12UvX7NkTbWPiqsoQgHQT6xZbrC2Efl8P408n2dAEo+xHUR/\n",
       "j3VPCpbdfuKoJ86G6Xh/BBKcmfuYmdrlX/oA96fqZv5fM/o/HxUEjrYHKGdiSsIkILd2LnPfmd5x\n",
       "3sKp3YII/LaklzaxGgGeiOiyEypAhD4aENWG8I6rkKueqcIL2SXPAa0xd5VnyQGADsLcD8Z9Qr8W\n",
       "7Qq4k9J5BiTxFNtB9DdZ96Rg2S1nWQohRaeUZ+Da6lm2mekcR+Zguwj1N0qxHO+dcXV5PfCdA6Lp\n",
       "ALXbYblJQG7dXFiPDOe6IjSW2y4rm6nvgHf8kBMxXQagOonQRwOs2hDe7fxYqut3HUSoBEBrzCCj\n",
       "PoVAFOwHm9m+QXmnxnyeIUk8xXYQ/T3WfSnYFnrYExYcj/kBCrzI9lfOLNRNisvEaEuAonFmzhRJ\n",
       "QG7tXGTsbAZ9FjurITXigupzng52hGCD1phl1irWjWexU3m+SOKD2UZYR1NwLPTSCCy4KgZDFSK2\n",
       "KdaiVcS7TIy2BBDDMvxiBWESkFs7l8x3uh6qERdUMrUqXz5A9ZaRIwSni97yTtcNni+S+GC2EdbR\n",
       "FFw7XCvV9vzEuD36ox+mkDFdBl9k+RuXOVVb8yLaZWK0NcBSHtWw3OtUSUBu7VwS3gvWhJ9t3ogK\n",
       "6rJn3lYmwWuRd+4ionfDD5gD5VfxWcpGEh/NNsI6msLJXjaxGLt22sYg3PxxWohDqzeEy/ZXL/Mv\n",
       "USkW7TIx2hpg+SlhLJcHzKiSgNzauQxv3WMG6TJigTEyvMwm7wSaqnQ+scfMVcpGEh/NNsI6msLZ\n",
       "4pthceJ8OXtD469wqz5lrzp+G1U6/kdAa8zqs/eqA1SlvmyvOk8K8Z1AvUEff8dWFQ8F5Z+57Qb/\n",
       "xt1AvhA0//5dV2hSoC5gb9lbV32V2z8K68+B/gPbREen8A/J829Qh3E8NgAAAABJRU5ErkJggg==\n",
       "\" style=\"display:inline;vertical-align:middle;\" /></a><br>"
      ],
      "text/plain": [
       "double_nested_lambda1_mixed_order: (x_{1, 1}, ..x_{1, _b}.., x_{1, n}, ....x_{_a, 1}, ..x_{_a, _b}.., x_{_a, n}...., x_{m, 1}, ..x_{m, _b}.., x_{m, n}) -> (((1 * 1 * x_{1, 1}) + ..(1 * j * x_{j, 1}).. + (1 * n * x_{n, 1})) * ..((i * 1 * x_{1, i}) + ..(i * j * x_{j, i}).. + (i * n * x_{n, i})).. * ((m * 1 * x_{1, m}) + ..(m * j * x_{j, m}).. + (m * n * x_{n, m})))"
      ]
     },
     "execution_count": 99,
     "metadata": {},
     "output_type": "execute_result"
    }
   ],
   "source": [
    "double_nested_lambda1_mixed_order = Lambda(x_11_to_mn, Mult(\n",
    "    ExprRange(i, Add(ExprRange(j, Mult(i, j, IndexedVar(x, (j, i))), \n",
    "                               one, n)), \n",
    "              one, m)))"
   ]
  },
  {
   "cell_type": "code",
   "execution_count": 100,
   "metadata": {},
   "outputs": [
    {
     "name": "stdout",
     "output_type": "stream",
     "text": [
      "problem self ((1 * 1 * x_{1, 1}) + ..(1 * j * x_{j, 1}).. + (1 * n * x_{n, 1})), ..((i * 1 * x_{1, i}) + ..(i * j * x_{j, i}).. + (i * n * x_{n, i})).., ((m * 1 * x_{1, m}) + ..(m * j * x_{j, m}).. + (m * n * x_{n, m})) {(x_{1, 1}, ..x_{1, _b}.., x_{1, n}, ....x_{_a, 1}, ..x_{_a, _b}.., x_{_a, n}...., x_{m, 1}, ..x_{m, _b}.., x_{m, n}): (a, b, c, d), x: {(x_{1, 1}, ..x_{1, _b}.., x_{1, n}, ....x_{_a, 1}, ..x_{_a, _b}.., x_{_a, n}...., x_{m, 1}, ..x_{m, _b}.., x_{m, n})}}\n",
      "Expected error: Failure to apply (x_{1, 1}, ..x_{1, _b}.., x_{1, n}, ....x_{_a, 1}, ..x_{_a, _b}.., x_{_a, n}...., x_{m, 1}, ..x_{m, _b}.., x_{m, n}) -> (((1 * 1 * x_{1, 1}) + ..(1 * j * x_{j, 1}).. + (1 * n * x_{n, 1})) * ..((i * 1 * x_{1, i}) + ..(i * j * x_{j, i}).. + (i * n * x_{n, i})).. * ((m * 1 * x_{1, m}) + ..(m * j * x_{j, m}).. + (m * n * x_{n, m}))) to (a, b, c, d) assuming (n = 2, m = 2):\n",
      "Improper replacement: Improper replacement of ((1 * 1 * x_{1, 1}) + ..(1 * j * x_{j, 1}).. + (1 * n * x_{n, 1})), ..((i * 1 * x_{1, i}) + ..(i * j * x_{j, i}).. + (i * n * x_{n, i})).., ((m * 1 * x_{1, m}) + ..(m * j * x_{j, m}).. + (m * n * x_{n, m})) via {(x_{1, 1}, ..x_{1, _b}.., x_{1, n}, ....x_{_a, 1}, ..x_{_a, _b}.., x_{_a, n}...., x_{m, 1}, ..x_{m, _b}.., x_{m, n}): (a, b, c, d), x: {(x_{1, 1}, ..x_{1, _b}.., x_{1, n}, ....x_{_a, 1}, ..x_{_a, _b}.., x_{_a, n}...., x_{m, 1}, ..x_{m, _b}.., x_{m, n})}}:\n",
      "Failure to expand ((1 * 1 * x_{1, 1}) + ..(1 * j * x_{j, 1}).. + (1 * n * x_{n, 1})), ..((i * 1 * x_{1, i}) + ..(i * j * x_{j, i}).. + (i * n * x_{n, i})).., ((m * 1 * x_{1, m}) + ..(m * j * x_{j, m}).. + (m * n * x_{n, m})) because there is no explicit expansion for (x_{1, 1}, ..x_{j, 1}.., x_{n, 1}, ....x_{1, i}, ..x_{j, i}.., x_{n, i}...., x_{1, m}, ..x_{j, m}.., x_{n, m}).  The known expansions for this variable are {(x_{1, 1}, ..x_{1, _b}.., x_{1, n}, ....x_{_a, 1}, ..x_{_a, _b}.., x_{_a, n}...., x_{m, 1}, ..x_{m, _b}.., x_{m, n}): (a, b, c, d)}.  (Note that multiple, equivalent expansion forms may be provided to fulfill this requirement). \n"
     ]
    }
   ],
   "source": [
    "try:\n",
    "    requirements = []\n",
    "    double_nested_lambda1_mixed_order.apply(*abcd.entries, requirements=requirements)\n",
    "    assert False, \"Expected an LambdaApplicationError error.\"\n",
    "except LambdaApplicationError as e:\n",
    "    print(\"Expected error:\", e)"
   ]
  },
  {
   "cell_type": "markdown",
   "metadata": {},
   "source": [
    "## Singular and empty range reductions\n",
    "\n",
    "When the length of an **ExprRange** is known to be empty or singular, in the process of performing a lambda application, the **ExprRange** will be eliminated appropriately within the **ExprTuple** in which it is contained.  For example,"
   ]
  },
  {
   "cell_type": "code",
   "execution_count": 101,
   "metadata": {},
   "outputs": [
    {
     "data": {
      "text/html": [
       "<strong id=\"tuple_with_range_lambda\">tuple_with_range_lambda:</strong> <a class=\"ProveItLink\" href=\"__pv_it/exprrange_reductions/709fae460ab43cc8f557bdbff519952e152a89b70/expr.ipynb\"><img src=\"data:image/png;base64,iVBORw0KGgoAAAANSUhEUgAAATkAAAAUCAMAAADBerqfAAAANlBMVEX///8oKCgNDQ0QEBCYmJgy\n",
       "MjIiIiKqqqrMzMzu7u5ERERmZmaIiIjc3NxUVFR2dna6uroAAAAaifX4AAAAAXRSTlMAQObYZgAA\n",
       "AodJREFUWMPNWNmShCAMZFcOuUT+/2dXkUOcCMbSmuVlrElLOg0JBkLQw9LnwcKSNwaGKoLCTbZS\n",
       "vQGe3pAORRVD4R5bZm+AxSBPli8aJHtBORRVDIVbbKlu7GIDguXkJg8ptzc405usn0TmOlVoICi4\n",
       "K+RMvXDcIpTLYOpP9lw2yOFx5TgypxAUPqAgn2rlLEdQL+C+coTNDyvXpApn93UKK3R2k7XG6B2q\n",
       "LqwVAZN0tNppc6heR08ZfEU5px9WLnkHAkzjYOpTcMaYMUEdUWpBSG9hrYjYC6niOT8PC5z5tidF\n",
       "EcpR9rByyTsQYBaiNvUoWC6WaVmEjoLw9dn68UQ5YlQJe3035PlKS6tOoRGgchJUTvCHlYvegQCT\n",
       "y6OpR4G79YtERKhcFJ9DCAXx+8Oq4X0uAMP2pEPAPM/sAo4P4Wc6gA/KSc8g5Ubfnqx5KkJvRO+f\n",
       "AWYCR1OHgt4FEaAi4KddOLxOrZmXyhnpDCowGNtrBCtH+NRW7qE9l71/BFgI1KYOhWGXYgGqw3ue\n",
       "liyqN+3I5DEFpHfZLT5b4To3v5StUIB51KY2hS3oPdthU0ESBytXfYlvZVd6sS1V3cH9zxMCCLBs\n",
       "o8rUoeC3CUWC2pDqjhGac6/qk+fqqI4H93oi0WXTu2aw5ZQ3Z8oVg3ZN2qU4fTycvJG8AwHmw7I2\n",
       "dSjoNcmlztBti9qJCjg2PdY1L/ZNy3eNnczcVC7tfj0Nnmng3mJvYJ2imYvT5wP8RvLeCPBg6lFw\n",
       "jtL4FxvRfeu97utC68O/331dpyDR/Um7jZYSAe710FKiL5Xkwx3/OQVn8MoRZd8Av3LLpP7VLdNL\n",
       "N5vq+zebCAo32b5xm06/f5uOoBCgf4U9H11adCqPAAAAAElFTkSuQmCC\n",
       "\" style=\"display:inline;vertical-align:middle;\" /></a><br>"
      ],
      "text/plain": [
       "tuple_with_range_lambda: n -> (a + (1 * 1) + ..(i * i).. + (n * n) + c)"
      ]
     },
     "execution_count": 101,
     "metadata": {},
     "output_type": "execute_result"
    }
   ],
   "source": [
    "tuple_with_range_lambda = Lambda(n, Add(a, ExprRange(i, Mult(i, i), one, n), c))"
   ]
  },
  {
   "cell_type": "markdown",
   "metadata": {},
   "source": [
    "Applying this lambda to set $n : 0$ will eliminate this **ExprRange**, leaving just the $a$ and $c$ terms in this sum."
   ]
  },
  {
   "cell_type": "code",
   "execution_count": 102,
   "metadata": {},
   "outputs": [
    {
     "data": {
      "text/html": [
       "<a class=\"ProveItLink\" href=\"__pv_it/exprrange_reductions/2263cc9d92d5b07bc5b20af3c7bf8e9514a417180/expr.ipynb\"><img src=\"data:image/png;base64,iVBORw0KGgoAAAANSUhEUgAAAC0AAAAPBAMAAACCUFuUAAAAMFBMVEX///9UVFSqqqrMzMwiIiJE\n",
       "RESYmJgyMjK6urru7u4QEBCIiIh2dnZmZmbc3NwAAABRgo0vAAAAAXRSTlMAQObYZgAAAIZJREFU\n",
       "GNNjYCAMmDZQIs535/ZKNPHTuw0YGLoesH9AFX+iwFrAwLmMgTcAVdyHgVGBgfcnAwuIz1NeXrK8\n",
       "vFyAASQCBFwBDPMNUNRzgbXPP8Cgj+oeoAiIVGAQZ3qALM6fwMCgwMC6gc2RB0U9rwDDXAMGTunN\n",
       "D3eguudM2gaiwoFzAoINAN57JTdm79ZmAAAAAElFTkSuQmCC\n",
       "\" style=\"display:inline;vertical-align:middle;\" /></a>"
      ],
      "text/plain": [
       "a + c"
      ]
     },
     "execution_count": 102,
     "metadata": {},
     "output_type": "execute_result"
    }
   ],
   "source": [
    "requirements = []\n",
    "tuple_with_range_lambda.apply(zero, requirements=requirements)"
   ]
  },
  {
   "cell_type": "markdown",
   "metadata": {},
   "source": [
    "The *requirement* for this reduction is a statement that the **ExprTuple** of the **ExprRange**, with $n$ replaced by $0$, is equal to the **ExprTuple**.  Note that this is not effecting a direct substitution of these **ExprTuple**s since the original **ExprRange** is embedded in an **ExprTuple** with other entries.  So this reduction requires special treatment compared with the *equivalence reductions* that will be discussed in a later chapter."
   ]
  },
  {
   "cell_type": "code",
   "execution_count": 103,
   "metadata": {},
   "outputs": [
    {
     "data": {
      "text/html": [
       "<span style=\"font-size:20px;\"> <a class=\"ProveItLink\" href=\"__pv_it/exprrange_reductions/be45bc8ecd05c3eefefedfe295ca75351f5354540/proof.ipynb\" style=\"text-decoration: none\">&nbsp;&#x22A2;&nbsp;&nbsp;</a><a class=\"ProveItLink\" href=\"__pv_it/exprrange_reductions/d8c0b8dac2dadeae7acb2faeff05796c79562f190/expr.ipynb\"><img src=\"data:image/png;base64,iVBORw0KGgoAAAANSUhEUgAAAK0AAAAUBAMAAAANRKDNAAAAMFBMVEX////MzMxUVFR2dna6uroQ\n",
       "EBCqqqqIiIgiIiJmZmYyMjJERETu7u6YmJjc3NwAAACgK8IjAAAAAXRSTlMAQObYZgAAActJREFU\n",
       "OMullb9LAmEcxh/T9NQ78z/QiOasRXJybKugMeiWtkhpiYZIGpxCjvZAGgIbIlqjkEIQGgyioaUc\n",
       "W6JIMBKHvu973g/uXvOuXjj0/dzj43vP932/ByTu8fexKWBvOr3zYRPcnbUm2YckxtoujXyu0zO6\n",
       "1usWD68O9z1B0zSKqXIFctWlibU5VTTIUzOW781cf6itsoSgafQI5GjRLtETOJXYAl5s61WG+8bT\n",
       "CJt3L4BCHQ2XqEIX0Vd4951II9Q1Jp/AoopY3qFJlFgWeez48G1pCH0Z5fkm3yKCmkMTYYDolQ/f\n",
       "9wwChm+iA6SKUHjeuVM2ajwrtm2Jli1feaSvhkBnIEzQelMZhEsOjaSyPVXCiuXbqnrMgQkHOQQ+\n",
       "HJpxFjhRm6+UHl23cNcQUt0K6nDfso984+e2u5f8Z6GSle+xmQNRP3UTnAvFeeCMus2zyZ7NN9If\n",
       "JM1T7ME2o4drJK0CyctANONsIWyfEV2gj8O1mtnUotO9I0gHRor7xheObrcnrf6S3aL/iCUdvjwY\n",
       "olJb9MQbnhCNpvAcN3nfEYyMJ4Rf+g6uBWq56AUx6u6Tcb1PCvu64gnpJoK+zum/3kPPwvcQ0R/f\n",
       "uZWE82bP/gAAAABJRU5ErkJggg==\n",
       "\" style=\"display:inline;vertical-align:middle;\" /></a></span>"
      ],
      "text/plain": [
       "<proveit.magics.HTML_DisplayObjects at 0x7ffa4987a630>"
      ]
     },
     "execution_count": 103,
     "metadata": {},
     "output_type": "execute_result"
    }
   ],
   "source": [
    "requirements"
   ]
  },
  {
   "cell_type": "markdown",
   "metadata": {},
   "source": [
    "This reduction works as long as it is known that the `end_index + 1 = start index`."
   ]
  },
  {
   "cell_type": "code",
   "execution_count": 104,
   "metadata": {},
   "outputs": [
    {
     "data": {
      "text/html": [
       "<strong id=\"tuple_with_ij_range_lambda\">tuple_with_ij_range_lambda:</strong> <a class=\"ProveItLink\" href=\"__pv_it/exprrange_reductions/d8417d841a102135c74a251e88681a26f226e4140/expr.ipynb\"><img src=\"data:image/png;base64,iVBORw0KGgoAAAANSUhEUgAAASsAAAAUCAMAAADiIetKAAAANlBMVEX///8oKCgNDQ3MzMwyMjIi\n",
       "IiJ2dna6urrc3NxmZmZERESIiIhUVFSYmJju7u4QEBCqqqoAAADNy50eAAAAAXRSTlMAQObYZgAA\n",
       "ApZJREFUWMPFWO22hRAQ7d4Q+Yj3f9mrEkaEltbtxzmtvXb2nmmMmKbOi8qBXE2nT642kx3qgKo3\n",
       "1fSQWtsdX1yRfeZAxSfJCiZLYZ14h3pMlaLtGdQR3MUV2bd8oAp9katgshTWiXeovzAqWblMeTs3\n",
       "XITXhqnPj1fCveqk6osnZYRpu2XcUoJqG58r3Fz7Heo36t0HfEUUt1t+4sbzZRmdq0bhXnVHVZyH\n",
       "9gsbMdTlV+ooI4zDvpnKOK7iLKMfUMJG58qbBGEBcY/X1QnnfI6o9neT+exooLY61rLZMkfmUcZx\n",
       "iSVnZr9HJRqdq8skDCu6IrymTrG2A6JAlTZwo/O5mvgaVQ/Wbu7uUmx9lDm5VE8s+LmGilCNR+fK\n",
       "mUzCClHEeE0dk33F1oFqh1mMH+v3B4HLmDCnt/OWHWx8jUsOHt6OPwG5lmi8vjLIG7/Q2VdnfpjH\n",
       "ZexBOAnLS0O8os5CWgKVhPxi+PW24Kj9ORvbeqjPj6/ksqwjPewD0ne3o+pqC4bjsOLse7yivkVT\n",
       "x1MRK3TzGalbeStDjmjbpsKaLRGPLp/NQRgWXNNYk/oZaEJVYV4nuYLf6WfbPNkCJbukfIvdyeS+\n",
       "FHn0w94OwkrVm3q7OYfSMTWeJ2DlWOCLcevmakeUtqjJk2XHXUxuJxtQRh7dhhZ3u6kIJ2GBJzxe\n",
       "UWd79Ss2x1RW+nxjc9K8TrvCfnNQwZcny1fNCimzu0GHorkyo0TxpiJcDivgNXVCpOSQilt3UOP3\n",
       "OPjDPU4pLI93qB/UWU00WdJe7Z2VGrJ3Vqo3V3nhUlgA71DfqdT2+rV5Yz6tHWcyDdxvzmSscCks\n",
       "gHefyQjOOo4635z1DUp9n3AprBjvUH9ldOgZsvzXM+QO9YP6B1UtHzRQW3S6AAAAAElFTkSuQmCC\n",
       "\" style=\"display:inline;vertical-align:middle;\" /></a><br>"
      ],
      "text/plain": [
       "tuple_with_ij_range_lambda: j -> (a + (i * i) + ..(b * b).. + (j * j) + c)"
      ]
     },
     "execution_count": 104,
     "metadata": {},
     "output_type": "execute_result"
    }
   ],
   "source": [
    "tuple_with_ij_range_lambda = Lambda(j, Add(a, ExprRange(b, Mult(b, b), i, j), c))"
   ]
  },
  {
   "cell_type": "code",
   "execution_count": 105,
   "metadata": {},
   "outputs": [
    {
     "data": {
      "text/html": [
       "<span style=\"font-size:20px;\"><a class=\"ProveItLink\" href=\"../packages/proveit/numbers/addition/__pv_it/theorems/fcd2b46c59afcc7fb32c4a2119639ff11faa0aea0/expr.ipynb\"><img src=\"data:image/png;base64,iVBORw0KGgoAAAANSUhEUgAAAC8AAAAPBAMAAACGpYupAAAAMFBMVEX////MzMwiIiIyMjKqqqrc\n",
       "3NwQEBC6urp2dnZmZmaIiIju7u6YmJhERERUVFQAAAAbNDIbAAAAAXRSTlMAQObYZgAAAMZJREFU\n",
       "GNNjYGB4y4AMNv+9vIGh7VsBkPkGRYLhDuMDBu4PDJjgkcAqBoYEJIGzSkoGIPr5bT4BBgWEuOxq\n",
       "KOOpHLc1SIJ75QIQF8iBSbAskANJcLCDzeMLgEswtPMsAEqEcIJN5mVASPBteAiU2MAPNkrMGAgM\n",
       "IBLcD5hBpvhvAHFjkXQwSDCCJO6BuWzIEjwOF4DO+cIB4nIugEk8BOJWoAT7hxgwXwUmYQJSBrLt\n",
       "zQEwf991sF0MQt9AxhggBUnFJSVkLgDP0DJwmP2T/AAAAABJRU5ErkJggg==\n",
       "\" style=\"display:inline;vertical-align:middle;\" /></a> <a class=\"ProveItLink\" href=\"__pv_it/exprrange_reductions/56939016bc65538683adc357d73bc23709669dd10/proof.ipynb\" style=\"text-decoration: none\">&nbsp;&#x22A2;&nbsp;&nbsp;</a><a class=\"ProveItLink\" href=\"__pv_it/exprrange_reductions/e9bc7bd4f1b64ece7e1674e1a214e2b4c520f83d0/expr.ipynb\"><img src=\"data:image/png;base64,iVBORw0KGgoAAAANSUhEUgAAAI8AAAAUBAMAAABG7HMgAAAAMFBMVEX////MzMxUVFR2dna6uroQ\n",
       "EBCqqqqIiIgiIiJmZmYyMjJERETu7u6YmJjc3NwAAACgK8IjAAAAAXRSTlMAQObYZgAAAUFJREFU\n",
       "OMuVVLFKA0EQHbggChv1DyJYSrQ+v+DKFFY2VkI6r02llbXoD6hYmC0s7JWrY5PaxqvERrCy9nZ2\n",
       "ct5MXsLlwYPj7b23s7PMEm1OiQmwVrZXid6Ee2BtHzqAGsxPwr5ZOy2IJnMOrAZz9yrSwO0eVJYk\n",
       "nx0nR6rCehk5h4/K4gY6yKgKX0IYRA8oqFYVRpFulKOgFAaltg/B/ELMpDNAQe8wKKqHPmBMYr4k\n",
       "5ufGLQoawqCh+ZXNR8QstsKvjjfx27WlF74S7x+Pvd/RagNsliA6K1BFPViRDWKzHI2e4a1lMChr\n",
       "9OiexCzNdr/Jqs1u3Fowp/E6Oz/fZvU8WG5skFJnYHMmpfbNA3B9Mq6UOxOk1f9Rmy4ZEa75wlak\n",
       "VIUFQxtRj6crkKrxKkSYrKDWD9uiTdqqy57abtle/QPVPINnZhECFgAAAABJRU5ErkJggg==\n",
       "\" style=\"display:inline;vertical-align:middle;\" /></a></span>"
      ],
      "text/plain": [
       "{i in Natural} |- ((i - 1) + 1) = i"
      ]
     },
     "execution_count": 105,
     "metadata": {},
     "output_type": "execute_result"
    }
   ],
   "source": [
    "Add(subtract(i, one), one).simplification([InSet(i, Natural)])"
   ]
  },
  {
   "cell_type": "code",
   "execution_count": 106,
   "metadata": {},
   "outputs": [
    {
     "data": {
      "text/html": [
       "<a class=\"ProveItLink\" href=\"__pv_it/exprrange_reductions/2263cc9d92d5b07bc5b20af3c7bf8e9514a417180/expr.ipynb\"><img src=\"data:image/png;base64,iVBORw0KGgoAAAANSUhEUgAAAC0AAAAPBAMAAACCUFuUAAAAMFBMVEX///9UVFSqqqrMzMwiIiJE\n",
       "RESYmJgyMjK6urru7u4QEBCIiIh2dnZmZmbc3NwAAABRgo0vAAAAAXRSTlMAQObYZgAAAIZJREFU\n",
       "GNNjYCAMmDZQIs535/ZKNPHTuw0YGLoesH9AFX+iwFrAwLmMgTcAVdyHgVGBgfcnAwuIz1NeXrK8\n",
       "vFyAASQCBFwBDPMNUNRzgbXPP8Cgj+oeoAiIVGAQZ3qALM6fwMCgwMC6gc2RB0U9rwDDXAMGTunN\n",
       "D3eguudM2gaiwoFzAoINAN57JTdm79ZmAAAAAElFTkSuQmCC\n",
       "\" style=\"display:inline;vertical-align:middle;\" /></a>"
      ],
      "text/plain": [
       "a + c"
      ]
     },
     "execution_count": 106,
     "metadata": {},
     "output_type": "execute_result"
    }
   ],
   "source": [
    "requirements = []\n",
    "tuple_with_ij_range_lambda.apply(subtract(i, one), assumptions=[InSet(i, Natural)],\n",
    "                                 requirements=requirements)"
   ]
  },
  {
   "cell_type": "code",
   "execution_count": 107,
   "metadata": {},
   "outputs": [
    {
     "data": {
      "text/html": [
       "<span style=\"font-size:20px;\"><a class=\"ProveItLink\" href=\"../packages/proveit/numbers/addition/__pv_it/theorems/fcd2b46c59afcc7fb32c4a2119639ff11faa0aea0/expr.ipynb\"><img src=\"data:image/png;base64,iVBORw0KGgoAAAANSUhEUgAAAC8AAAAPBAMAAACGpYupAAAAMFBMVEX////MzMwiIiIyMjKqqqrc\n",
       "3NwQEBC6urp2dnZmZmaIiIju7u6YmJhERERUVFQAAAAbNDIbAAAAAXRSTlMAQObYZgAAAMZJREFU\n",
       "GNNjYGB4y4AMNv+9vIGh7VsBkPkGRYLhDuMDBu4PDJjgkcAqBoYEJIGzSkoGIPr5bT4BBgWEuOxq\n",
       "KOOpHLc1SIJ75QIQF8iBSbAskANJcLCDzeMLgEswtPMsAEqEcIJN5mVASPBteAiU2MAPNkrMGAgM\n",
       "IBLcD5hBpvhvAHFjkXQwSDCCJO6BuWzIEjwOF4DO+cIB4nIugEk8BOJWoAT7hxgwXwUmYQJSBrLt\n",
       "zQEwf991sF0MQt9AxhggBUnFJSVkLgDP0DJwmP2T/AAAAABJRU5ErkJggg==\n",
       "\" style=\"display:inline;vertical-align:middle;\" /></a> <a class=\"ProveItLink\" href=\"__pv_it/exprrange_reductions/eca0918af9932e46d706aaceca63e0c164c2d8590/proof.ipynb\" style=\"text-decoration: none\">&nbsp;&#x22A2;&nbsp;&nbsp;</a><a class=\"ProveItLink\" href=\"__pv_it/exprrange_reductions/b99d960b108ea69b00776b16c09114480a4770480/expr.ipynb\"><img src=\"data:image/png;base64,iVBORw0KGgoAAAANSUhEUgAAAQkAAAAUBAMAAABsedWmAAAAMFBMVEX////MzMxUVFR2dna6uroQ\n",
       "EBCqqqqIiIgiIiJmZmYyMjJERETu7u6YmJjc3NwAAACgK8IjAAAAAXRSTlMAQObYZgAAAh9JREFU\n",
       "SMellj1LA0EQhtdcjPk69SeksZJAsAlapRHstEhpkR8gapsupBALkXSCIAQ7U0iwNwQhGLBIWgsl\n",
       "ldgEUikEC2d2vL3N3tzdggO5m7z73H7czO2sEKtjYWlh5LEtdMzoU1Jf4JfoKlVzTUNyk9ETE0to\n",
       "ASTLd0m9R8RfQCL81SBZNLTUIfTUtoQWQLLsRKpuyzYgHPm09QPXsi1UDrS9kpqe2M6CJV0cYGAL\n",
       "DQJNl6R+2k6CJ+UA2YolpIF/udygljrcnq+UrLmmAZmvn3IDOC1LyDHjtdKilke4lXaVrLmmAekk\n",
       "D7gB3LYlROBOB+0O3dyYWs7gtdSuUekL5bIG5EemzQ2QanjPx0AE6rlWo5YqvELxjV/uXHgub0D2\n",
       "1/Bl5+VaOutqgKWZ93wMJEHdlivUUsXJICWaQrlhsxAnfW6Z1HkzHgqdxRlGp6BkzWUiIh7Y9E82\n",
       "LCECKS9uVURAxewc1UreA5rLZGf+y4nPzgjINTPGy85tuO37JQhcGeBR28sU7x+SydnU/NRwgIw/\n",
       "82goYy5Rfrqg7mHtePPLCLjnENd0wYs0XtIXcEGyaFSZzMb8BraddSVEQxpIJkMEKrPlpvoB6UhE\n",
       "7fXDmB1cQUN2Bx+y5ccJdlESUXUvppr5UGg1E71Ay3PwFCD35F5I/wsFOwpiKnuOKrs8lixa8ITh\n",
       "qgMMZznzlBMG5dhTjlT/f+J7t4Xe2RMfqL9arsoo6vBl1QAAAABJRU5ErkJggg==\n",
       "\" style=\"display:inline;vertical-align:middle;\" /></a></span>"
      ],
      "text/plain": [
       "<proveit.magics.HTML_DisplayObjects at 0x7ffa49781908>"
      ]
     },
     "execution_count": 107,
     "metadata": {},
     "output_type": "execute_result"
    }
   ],
   "source": [
    "requirements"
   ]
  },
  {
   "cell_type": "markdown",
   "metadata": {},
   "source": [
    "To reduce the **ExprRange** to a singular element, the `start_index` and `end_index` must match exactly."
   ]
  },
  {
   "cell_type": "code",
   "execution_count": 108,
   "metadata": {},
   "outputs": [
    {
     "data": {
      "text/html": [
       "<a class=\"ProveItLink\" href=\"__pv_it/exprrange_reductions/3e406daccfdaa0e71b1e1c1a00478b299ac0e4c60/expr.ipynb\"><img src=\"data:image/png;base64,iVBORw0KGgoAAAANSUhEUgAAAHQAAAAUBAMAAACuQAROAAAAMFBMVEX///9UVFSqqqrMzMwiIiJE\n",
       "RESYmJgyMjK6urru7u4QEBCIiIh2dnZmZmbc3NwAAABRgo0vAAAAAXRSTlMAQObYZgAAAVVJREFU\n",
       "OMtjYMAC+BLQBPQYiAVTgVgUwRVlYHxArNY6IBZDcMUYOAsI6NCG0mwXMKROQ2mmDfi1smA6bxaR\n",
       "Wp9gSrE3YNPKd+f2SlStexkYOPfC1YCZPBfQtPLs3szA0PWA/QOq1jCgDMcCmFYwk60AVSufE0M4\n",
       "A+cyBt4AVK1ODAyPeMFqJzBAmUwOqFpZDjAIMfD+ZGAB8Y+Xl3uVlxeCxFcA9fCDxDi/M0CZzCCH\n",
       "8ZSXlywvLxcAMu+DDOUKYJhvgGorUCuDPkiOwZEBymT+gGrrUhAx/wCDPgOGgxkCEeEIYnKgOpjz\n",
       "D1irAoM40wP0YOL8xAMPYRATPZi+AZkMrBvYHHlQbT0LtOXDM5hWMJP3AKrWiwyclxk4pTc/3IGq\n",
       "tQWUbhGZB8RkN0DVynMsm9iEOIVAQpxJOPlzTiCQheLQBQhmOpSsjgJYic7qGAVMHjZVANruV759\n",
       "/W9JAAAAAElFTkSuQmCC\n",
       "\" style=\"display:inline;vertical-align:middle;\" /></a>"
      ],
      "text/plain": [
       "a + (i * i) + c"
      ]
     },
     "execution_count": 108,
     "metadata": {},
     "output_type": "execute_result"
    }
   ],
   "source": [
    "requirements = []\n",
    "tuple_with_ij_range_lambda.apply(i, requirements=requirements)"
   ]
  },
  {
   "cell_type": "code",
   "execution_count": 109,
   "metadata": {},
   "outputs": [
    {
     "data": {
      "text/html": [
       "<span style=\"font-size:20px;\"> <a class=\"ProveItLink\" href=\"__pv_it/exprrange_reductions/84559e97c431a877d3b6b2d85a78668efd2f30d20/proof.ipynb\" style=\"text-decoration: none\">&nbsp;&#x22A2;&nbsp;&nbsp;</a><a class=\"ProveItLink\" href=\"__pv_it/exprrange_reductions/5cd8e4566c58ced579fb5afa9838b632f59b624c0/expr.ipynb\"><img src=\"data:image/png;base64,iVBORw0KGgoAAAANSUhEUgAAAL0AAAAUBAMAAAAq6iElAAAAMFBMVEX////MzMxUVFR2dna6uroQ\n",
       "EBCqqqqIiIgiIiJmZmYyMjJERETu7u6YmJjc3NwAAACgK8IjAAAAAXRSTlMAQObYZgAAAaFJREFU\n",
       "OMudlbFKA0EQhn+TEExyib6B6UPkOrGzEey08AFSWojapgspxMIiYCFYnWBlIZJesZGIFkkdUFKJ\n",
       "jZBKIVi4u2R372YmcNzA3f03zH03O7s7C9RGyGDFCfcx0pG+vamr4X2NhcjcfVyu8wBGyukk7tTV\n",
       "9N7mYv4oLl95ACMFEVDtIZPlT6hHIG0Ay5Ns/GCPegTSM/CFjHZDHQKpvIW2SqXtxhqT1AaXSblJ\n",
       "AwRSvocHdS+4scYktXA7Kccm/taYqbxAqkY4BT5LkfY8wUnBaq0rk5aTBzRCIBU72FevK3pUwQxW\n",
       "ivOJX/0YRlau0QiBtDTVXhzrH6ILJ8Ud+2cWSd1KiU9Jiq9Ghb4P6i9cL5V6Uu7E6l+f14eSCh09\n",
       "K8FP3lXBS2rDVpiQYxogkNT8qmVWmH5br5amxDNbR/e269uXkReUz0kohWaYTd9ZlFw+tyXs2oKf\n",
       "qVrm3n370fKa8jkJ5VVpVx/yueWzHnRS9IcXsSuFvJll7294ZJnxLTDgfKE/c1I0PxWSefAvRylg\n",
       "AqkykU61VFZNcz5+AP+6XoiRsoxAfwAAAABJRU5ErkJggg==\n",
       "\" style=\"display:inline;vertical-align:middle;\" /></a></span>"
      ],
      "text/plain": [
       "<proveit.magics.HTML_DisplayObjects at 0x7ffa497ad4e0>"
      ]
     },
     "execution_count": 109,
     "metadata": {},
     "output_type": "execute_result"
    }
   ],
   "source": [
    "requirements"
   ]
  },
  {
   "cell_type": "markdown",
   "metadata": {},
   "source": [
    "There are no other special **ExprRange** reductions, even if the expansion is obvious.  For example,"
   ]
  },
  {
   "cell_type": "code",
   "execution_count": 110,
   "metadata": {},
   "outputs": [
    {
     "data": {
      "text/html": [
       "<a class=\"ProveItLink\" href=\"__pv_it/exprrange_reductions/4310e57206297dec380a23d1e8b80ad0cf3d95080/expr.ipynb\"><img src=\"data:image/png;base64,iVBORw0KGgoAAAANSUhEUgAAAPkAAAAUBAMAAAC9u4b/AAAAMFBMVEX///9UVFSqqqrMzMwiIiJE\n",
       "RESYmJgyMjK6urru7u4QEBCIiIh2dnZmZmbc3NwAAABRgo0vAAAAAXRSTlMAQObYZgAAAjtJREFU\n",
       "SMdjYMAC+BIwxZgeMBANnmER0yNa91RsgnJEa+cMYOC8G2qA4IM4jES7vg6ItSYgCYA404m2nf0B\n",
       "w0QGnh9wPpjDWUBAF9MGCM12gYFTRh5hO4TDA5Vl0CagnSGXgeEmA8MquASEcxpdGQ7tLKBAykf2\n",
       "O4jDuYBY2/0YGJYwMMjDgxrCmUWk7U8YsNnOUEGk7XwODAz1Exjk4REP4bA3YLOd787tlajie7Hb\n",
       "fpZI27kvgCl/ZAOAHJ4LaLaf3g10X9cD9g+o4mHYbU8n0nZWcH7l+IMkBeKwFaCFsAJrAQPnMgbe\n",
       "AFRxJ4TtnEi2qxBpO4sCmBQAkVAvgDhMDqjKfBgYFRh4fzKwgPg85eUly8vLQXpWIGyfX4Cw3R7E\n",
       "Ol5e7lVeXohhNZJ2LnAE3wU7/jtEFsRh/oCiDGgvSG0Aw3wDVFch2Q7xAZLtRPgdbDs08h0RKYEZ\n",
       "NX65wAE+/wCDPgPOkEeO9xZSQl6XgQ9RuIE5HKghD7QXRCowiEPLcCqmOuYDDNxw2yEctFTHD1Sl\n",
       "wMC6gc2RB1U7OGvtR7YdzLmDajs4TkHpAha5MO2grPXkzFkRuG4Ih/cAijJeAYa5Bgyc0psf7kDV\n",
       "Dgrii+trERUdhFOM5ndHWLpwRNUOCuL6//+/wLVDOOxoqetM2gbcJS1mzeVAQkmLBUwhUNJyToDX\n",
       "MlgAvJaZyYBfO6iWwQJOoyvDBeKwCRJfw7JiCzuCNSz+1kUcKa0LIp3EQGzLio3CllUeNoUAGj26\n",
       "dMU94cYAAAAASUVORK5CYII=\n",
       "\" style=\"display:inline;vertical-align:middle;\" /></a>"
      ],
      "text/plain": [
       "a + (1 * 1) + ..(i * i).. + (2 * 2) + c"
      ]
     },
     "execution_count": 110,
     "metadata": {},
     "output_type": "execute_result"
    }
   ],
   "source": [
    "from proveit.numbers import two\n",
    "tuple_with_range_lambda.apply(two)"
   ]
  },
  {
   "cell_type": "markdown",
   "metadata": {},
   "source": [
    "Depending upon the circumstance, making the explicit expansion may not be desirable.  Such replacements should be made explicitly via the **theory system** rather than complicating the **core derivation system**."
   ]
  },
  {
   "cell_type": "code",
   "execution_count": 111,
   "metadata": {},
   "outputs": [],
   "source": [
    "%end exprrange_reductions"
   ]
  },
  {
   "cell_type": "markdown",
   "metadata": {},
   "source": [
    "# Next chapter: <a href=\"tutorial04_relabeling.ipynb\">ToDo</a>\n",
    "\n",
    "## <a href=\"tutorial00_introduction.ipynb#contents\">Table of Contents</a>"
   ]
  },
  {
   "cell_type": "code",
   "execution_count": null,
   "metadata": {},
   "outputs": [],
   "source": []
  }
 ],
 "metadata": {
  "kernelspec": {
   "display_name": "Python 3",
   "language": "python",
   "name": "python3"
  },
  "language_info": {
   "codemirror_mode": {
    "name": "ipython",
    "version": 3
   },
   "file_extension": ".py",
   "mimetype": "text/x-python",
   "name": "python",
   "nbconvert_exporter": "python",
   "pygments_lexer": "ipython3",
   "version": "3.7.3"
  }
 },
 "nbformat": 4,
 "nbformat_minor": 1
}